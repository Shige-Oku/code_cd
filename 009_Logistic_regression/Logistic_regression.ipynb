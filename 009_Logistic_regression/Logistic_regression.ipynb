{
 "cells": [
  {
   "cell_type": "markdown",
   "metadata": {},
   "source": [
    "### Mushroom Classificationデータセットを使用して、キノコが有毒 or 無毒をロジスティック回帰で予測"
   ]
  },
  {
   "cell_type": "code",
   "execution_count": 1,
   "metadata": {},
   "outputs": [],
   "source": [
    "# ロジスティック回帰"
   ]
  },
  {
   "cell_type": "code",
   "execution_count": 2,
   "metadata": {},
   "outputs": [],
   "source": [
    "%matplotlib inline\n",
    "\n",
    "import numpy as np\n",
    "import pandas as pd\n",
    "import statsmodels.api as sm\n",
    "import matplotlib.pyplot as plt\n",
    "import matplotlib.gridspec as gridspec\n",
    "from sklearn.preprocessing import LabelEncoder"
   ]
  },
  {
   "cell_type": "code",
   "execution_count": 3,
   "metadata": {},
   "outputs": [],
   "source": [
    "# pandas の表示設定\n",
    "pd.set_option('max_columns', 50)\n",
    "pd.set_option('max_rows', 500000)"
   ]
  },
  {
   "cell_type": "code",
   "execution_count": 4,
   "metadata": {},
   "outputs": [],
   "source": [
    "mushroom_data = pd.read_csv('mushrooms.csv')"
   ]
  },
  {
   "cell_type": "code",
   "execution_count": 5,
   "metadata": {},
   "outputs": [],
   "source": [
    "# 'class', 'gill-size', 'bruises'のみ取り出し\n",
    "mushroom_data = mushroom_data[['class', 'gill-size', 'bruises']]"
   ]
  },
  {
   "cell_type": "code",
   "execution_count": 6,
   "metadata": {},
   "outputs": [],
   "source": [
    "# カラム情報を引き継いでダミー変数へ変換したmushroom2を作成\n",
    "# 'gill-size', 'bruises'カラム\n",
    "mushroomcol = mushroom_data.columns[1:]\n",
    "# カテゴリ変数をダミー変数に変換\n",
    "# drop_first：最初のダミー変数を除外するか\n",
    "mushroom_data2 = pd.get_dummies(mushroom_data, columns=mushroomcol, drop_first=True)"
   ]
  },
  {
   "cell_type": "code",
   "execution_count": 7,
   "metadata": {},
   "outputs": [
    {
     "data": {
      "text/plain": [
       "(8124, 3)"
      ]
     },
     "execution_count": 7,
     "metadata": {},
     "output_type": "execute_result"
    }
   ],
   "source": [
    "mushroom_data2.shape"
   ]
  },
  {
   "cell_type": "code",
   "execution_count": 8,
   "metadata": {},
   "outputs": [],
   "source": [
    "# LabelEncoder関数を使い「class」の文字列を数値へ変換\n",
    "labelEncoder = LabelEncoder()\n",
    "# 'class' 列をエンコード\n",
    "mushroom_data2['class'] = labelEncoder.fit_transform(mushroom_data2['class'])"
   ]
  },
  {
   "cell_type": "code",
   "execution_count": 14,
   "metadata": {},
   "outputs": [],
   "source": [
    "# statsmodelを利用してロジスティック回帰のモデルを構築\n",
    "# 切片を使用。'const'列を追加\n",
    "mushroom_data2 = sm.add_constant(mushroom_data2)"
   ]
  },
  {
   "cell_type": "code",
   "execution_count": 18,
   "metadata": {},
   "outputs": [
    {
     "name": "stdout",
     "output_type": "stream",
     "text": [
      "Optimization terminated successfully.\n",
      "         Current function value: 0.559154\n",
      "         Iterations 5\n"
     ]
    }
   ],
   "source": [
    "# 「bruises（あざ）」の有無を特徴量として、キノコの「class」（毒性か食用か）を予測するロジスティック回帰のモデル\n",
    "logit = sm.Logit(mushroom_data2['class'], mushroom_data2[['const', 'bruises_t']])\n",
    "result = logit.fit()"
   ]
  },
  {
   "cell_type": "code",
   "execution_count": 20,
   "metadata": {},
   "outputs": [
    {
     "data": {
      "text/html": [
       "<table class=\"simpletable\">\n",
       "<caption>Logit Regression Results</caption>\n",
       "<tr>\n",
       "  <th>Dep. Variable:</th>       <td>class</td>      <th>  No. Observations:  </th>  <td>  8124</td> \n",
       "</tr>\n",
       "<tr>\n",
       "  <th>Model:</th>               <td>Logit</td>      <th>  Df Residuals:      </th>  <td>  8122</td> \n",
       "</tr>\n",
       "<tr>\n",
       "  <th>Method:</th>               <td>MLE</td>       <th>  Df Model:          </th>  <td>     1</td> \n",
       "</tr>\n",
       "<tr>\n",
       "  <th>Date:</th>          <td>Mon, 30 Dec 2019</td> <th>  Pseudo R-squ.:     </th>  <td>0.1926</td> \n",
       "</tr>\n",
       "<tr>\n",
       "  <th>Time:</th>              <td>11:28:09</td>     <th>  Log-Likelihood:    </th> <td> -4542.6</td>\n",
       "</tr>\n",
       "<tr>\n",
       "  <th>converged:</th>           <td>True</td>       <th>  LL-Null:           </th> <td> -5625.9</td>\n",
       "</tr>\n",
       "<tr>\n",
       "  <th> </th>                      <td> </td>        <th>  LLR p-value:       </th>  <td> 0.000</td> \n",
       "</tr>\n",
       "</table>\n",
       "<table class=\"simpletable\">\n",
       "<tr>\n",
       "      <td></td>         <th>coef</th>     <th>std err</th>      <th>z</th>      <th>P>|z|</th>  <th>[0.025</th>    <th>0.975]</th>  \n",
       "</tr>\n",
       "<tr>\n",
       "  <th>const</th>     <td>    0.8158</td> <td>    0.031</td> <td>   25.920</td> <td> 0.000</td> <td>    0.754</td> <td>    0.877</td>\n",
       "</tr>\n",
       "<tr>\n",
       "  <th>bruises_t</th> <td>   -2.2997</td> <td>    0.054</td> <td>  -42.295</td> <td> 0.000</td> <td>   -2.406</td> <td>   -2.193</td>\n",
       "</tr>\n",
       "</table>"
      ],
      "text/plain": [
       "<class 'statsmodels.iolib.summary.Summary'>\n",
       "\"\"\"\n",
       "                           Logit Regression Results                           \n",
       "==============================================================================\n",
       "Dep. Variable:                  class   No. Observations:                 8124\n",
       "Model:                          Logit   Df Residuals:                     8122\n",
       "Method:                           MLE   Df Model:                            1\n",
       "Date:                Mon, 30 Dec 2019   Pseudo R-squ.:                  0.1926\n",
       "Time:                        11:28:09   Log-Likelihood:                -4542.6\n",
       "converged:                       True   LL-Null:                       -5625.9\n",
       "                                        LLR p-value:                     0.000\n",
       "==============================================================================\n",
       "                 coef    std err          z      P>|z|      [0.025      0.975]\n",
       "------------------------------------------------------------------------------\n",
       "const          0.8158      0.031     25.920      0.000       0.754       0.877\n",
       "bruises_t     -2.2997      0.054    -42.295      0.000      -2.406      -2.193\n",
       "==============================================================================\n",
       "\"\"\""
      ]
     },
     "execution_count": 20,
     "metadata": {},
     "output_type": "execute_result"
    }
   ],
   "source": [
    "result.summary()"
   ]
  },
  {
   "cell_type": "code",
   "execution_count": 25,
   "metadata": {},
   "outputs": [],
   "source": [
    "test1 = 1 / (1 + np.exp(-1 * (0.8158 + (-2.2997 * 1))))"
   ]
  },
  {
   "cell_type": "code",
   "execution_count": 26,
   "metadata": {},
   "outputs": [
    {
     "data": {
      "text/plain": [
       "18.48"
      ]
     },
     "execution_count": 26,
     "metadata": {},
     "output_type": "execute_result"
    }
   ],
   "source": [
    "round(test1 * 100, 2)"
   ]
  },
  {
   "cell_type": "code",
   "execution_count": 30,
   "metadata": {},
   "outputs": [
    {
     "name": "stdout",
     "output_type": "stream",
     "text": [
      "Optimization terminated successfully.\n",
      "         Current function value: 0.463890\n",
      "         Iterations 6\n"
     ]
    }
   ],
   "source": [
    "# 今度は「bruises（あざ）」の有無と「gill-size（ひだのサイズ）」を特徴量とする\n",
    "logit2 = sm.Logit(mushroom_data2['class'], mushroom_data2[['const', 'bruises_t', 'gill-size_n']])\n",
    "result2 = logit2.fit()"
   ]
  },
  {
   "cell_type": "code",
   "execution_count": 31,
   "metadata": {},
   "outputs": [
    {
     "data": {
      "text/html": [
       "<table class=\"simpletable\">\n",
       "<caption>Logit Regression Results</caption>\n",
       "<tr>\n",
       "  <th>Dep. Variable:</th>       <td>class</td>      <th>  No. Observations:  </th>  <td>  8124</td> \n",
       "</tr>\n",
       "<tr>\n",
       "  <th>Model:</th>               <td>Logit</td>      <th>  Df Residuals:      </th>  <td>  8121</td> \n",
       "</tr>\n",
       "<tr>\n",
       "  <th>Method:</th>               <td>MLE</td>       <th>  Df Model:          </th>  <td>     2</td> \n",
       "</tr>\n",
       "<tr>\n",
       "  <th>Date:</th>          <td>Mon, 30 Dec 2019</td> <th>  Pseudo R-squ.:     </th>  <td>0.3301</td> \n",
       "</tr>\n",
       "<tr>\n",
       "  <th>Time:</th>              <td>11:43:57</td>     <th>  Log-Likelihood:    </th> <td> -3768.6</td>\n",
       "</tr>\n",
       "<tr>\n",
       "  <th>converged:</th>           <td>True</td>       <th>  LL-Null:           </th> <td> -5625.9</td>\n",
       "</tr>\n",
       "<tr>\n",
       "  <th> </th>                      <td> </td>        <th>  LLR p-value:       </th>  <td> 0.000</td> \n",
       "</tr>\n",
       "</table>\n",
       "<table class=\"simpletable\">\n",
       "<tr>\n",
       "       <td></td>          <th>coef</th>     <th>std err</th>      <th>z</th>      <th>P>|z|</th>  <th>[0.025</th>    <th>0.975]</th>  \n",
       "</tr>\n",
       "<tr>\n",
       "  <th>const</th>       <td>    0.0046</td> <td>    0.038</td> <td>    0.121</td> <td> 0.904</td> <td>   -0.070</td> <td>    0.079</td>\n",
       "</tr>\n",
       "<tr>\n",
       "  <th>bruises_t</th>   <td>   -1.9086</td> <td>    0.060</td> <td>  -31.721</td> <td> 0.000</td> <td>   -2.027</td> <td>   -1.791</td>\n",
       "</tr>\n",
       "<tr>\n",
       "  <th>gill-size_n</th> <td>    2.5106</td> <td>    0.073</td> <td>   34.363</td> <td> 0.000</td> <td>    2.367</td> <td>    2.654</td>\n",
       "</tr>\n",
       "</table>"
      ],
      "text/plain": [
       "<class 'statsmodels.iolib.summary.Summary'>\n",
       "\"\"\"\n",
       "                           Logit Regression Results                           \n",
       "==============================================================================\n",
       "Dep. Variable:                  class   No. Observations:                 8124\n",
       "Model:                          Logit   Df Residuals:                     8121\n",
       "Method:                           MLE   Df Model:                            2\n",
       "Date:                Mon, 30 Dec 2019   Pseudo R-squ.:                  0.3301\n",
       "Time:                        11:43:57   Log-Likelihood:                -3768.6\n",
       "converged:                       True   LL-Null:                       -5625.9\n",
       "                                        LLR p-value:                     0.000\n",
       "===============================================================================\n",
       "                  coef    std err          z      P>|z|      [0.025      0.975]\n",
       "-------------------------------------------------------------------------------\n",
       "const           0.0046      0.038      0.121      0.904      -0.070       0.079\n",
       "bruises_t      -1.9086      0.060    -31.721      0.000      -2.027      -1.791\n",
       "gill-size_n     2.5106      0.073     34.363      0.000       2.367       2.654\n",
       "===============================================================================\n",
       "\"\"\""
      ]
     },
     "execution_count": 31,
     "metadata": {},
     "output_type": "execute_result"
    }
   ],
   "source": [
    "# summry()の coef（コエフィシエント、計数）\n",
    "result2.summary()"
   ]
  },
  {
   "cell_type": "code",
   "execution_count": 41,
   "metadata": {},
   "outputs": [],
   "source": [
    "test2 = 1 / (1 + np.exp((-1) * (.0046 + (-1.9086 * 1) + (2.5106 * 0))))"
   ]
  },
  {
   "cell_type": "code",
   "execution_count": 42,
   "metadata": {},
   "outputs": [
    {
     "data": {
      "text/plain": [
       "12.97"
      ]
     },
     "execution_count": 42,
     "metadata": {},
     "output_type": "execute_result"
    }
   ],
   "source": [
    "round(test2 * 100, 2)"
   ]
  },
  {
   "cell_type": "code",
   "execution_count": null,
   "metadata": {},
   "outputs": [],
   "source": []
  }
 ],
 "metadata": {
  "kernelspec": {
   "display_name": "Python 3",
   "language": "python",
   "name": "python3"
  },
  "language_info": {
   "codemirror_mode": {
    "name": "ipython",
    "version": 3
   },
   "file_extension": ".py",
   "mimetype": "text/x-python",
   "name": "python",
   "nbconvert_exporter": "python",
   "pygments_lexer": "ipython3",
   "version": "3.6.7"
  }
 },
 "nbformat": 4,
 "nbformat_minor": 2
}
