{
 "cells": [
  {
   "cell_type": "code",
   "execution_count": 1,
   "metadata": {},
   "outputs": [],
   "source": [
    "# chapter 3"
   ]
  },
  {
   "cell_type": "code",
   "execution_count": 2,
   "metadata": {},
   "outputs": [],
   "source": [
    "%matplotlib inline\n",
    "\n",
    "import numpy as np\n",
    "import pandas as pd\n",
    "import matplotlib.pyplot as plt"
   ]
  },
  {
   "cell_type": "code",
   "execution_count": 3,
   "metadata": {},
   "outputs": [],
   "source": [
    "# 気温\n",
    "temperature = np.array([18, 25, 20, 27, 32, 22, 29, 19, 26, 30, 22, 28, 30])\n",
    "# 売上\n",
    "earnings = np.array([22000, 64500, 27800, 81500, 112000, 46500, 98000, 26000, 69000, 99500, 55000, 78500, 87000])"
   ]
  },
  {
   "cell_type": "code",
   "execution_count": 4,
   "metadata": {},
   "outputs": [
    {
     "data": {
      "text/plain": [
       "(13, 13)"
      ]
     },
     "execution_count": 4,
     "metadata": {},
     "output_type": "execute_result"
    }
   ],
   "source": [
    "temperature.size, earnings.size"
   ]
  },
  {
   "cell_type": "code",
   "execution_count": 5,
   "metadata": {},
   "outputs": [
    {
     "data": {
      "image/png": "[encoded data removed]",
      "text/plain": [
       "<Figure size 432x288 with 1 Axes>"
      ]
     },
     "metadata": {
      "needs_background": "light"
     },
     "output_type": "display_data"
    }
   ],
   "source": [
    "plt.scatter(temperature, earnings)\n",
    "plt.show()"
   ]
  },
  {
   "cell_type": "code",
   "execution_count": 7,
   "metadata": {},
   "outputs": [],
   "source": [
    "# 身長\n",
    "height = np.array([147, 176, 156, 181, 162, 155, 167, 149, 166, 158, 177, 170, 159])\n",
    "# 性別\n",
    "gender = np.array([0, 1, 0, 1, 1, 0, 1, 0, 0, 1, 1, 1, 0])"
   ]
  },
  {
   "cell_type": "code",
   "execution_count": 8,
   "metadata": {},
   "outputs": [],
   "source": [
    "# Y = 6329.7 * X - 92988"
   ]
  },
  {
   "cell_type": "code",
   "execution_count": 9,
   "metadata": {},
   "outputs": [
    {
     "data": {
      "text/plain": [
       "(13, 13)"
      ]
     },
     "execution_count": 9,
     "metadata": {},
     "output_type": "execute_result"
    }
   ],
   "source": [
    "height.size, gender.size"
   ]
  },
  {
   "cell_type": "code",
   "execution_count": 10,
   "metadata": {},
   "outputs": [
    {
     "data": {
      "image/png": "[encoded data removed]",
      "text/plain": [
       "<Figure size 432x288 with 1 Axes>"
      ]
     },
     "metadata": {
      "needs_background": "light"
     },
     "output_type": "display_data"
    }
   ],
   "source": [
    "plt.scatter(height, gender)\n",
    "plt.show()"
   ]
  },
  {
   "cell_type": "code",
   "execution_count": 11,
   "metadata": {},
   "outputs": [],
   "source": [
    "# chapter 14　単回帰"
   ]
  },
  {
   "cell_type": "code",
   "execution_count": 12,
   "metadata": {},
   "outputs": [],
   "source": [
    "%matplotlib inline\n",
    "\n",
    "import numpy as np\n",
    "import pandas as pd\n",
    "import matplotlib.pyplot as plt"
   ]
  },
  {
   "cell_type": "code",
   "execution_count": 13,
   "metadata": {},
   "outputs": [],
   "source": [
    "# 生徒のテスト勉強時間からテストの点数を予測\n",
    "# x：テスト勉強時間、y：テスト点数"
   ]
  },
  {
   "cell_type": "code",
   "execution_count": 14,
   "metadata": {},
   "outputs": [],
   "source": [
    "a = np.array([1, 2, 3])\n",
    "b = np.array([4, 5, 6])"
   ]
  },
  {
   "cell_type": "code",
   "execution_count": 15,
   "metadata": {},
   "outputs": [
    {
     "data": {
      "text/plain": [
       "32"
      ]
     },
     "execution_count": 15,
     "metadata": {},
     "output_type": "execute_result"
    }
   ],
   "source": [
    "np.dot(a, b)"
   ]
  },
  {
   "cell_type": "code",
   "execution_count": 16,
   "metadata": {},
   "outputs": [],
   "source": [
    "# cahapter 15 データの読み込みと確認"
   ]
  },
  {
   "cell_type": "code",
   "execution_count": 17,
   "metadata": {},
   "outputs": [],
   "source": [
    "data = np.loadtxt(\"007-01.csv\", delimiter=\",\", skiprows=1)"
   ]
  },
  {
   "cell_type": "code",
   "execution_count": 18,
   "metadata": {},
   "outputs": [
    {
     "data": {
      "text/plain": [
       "(49, 2)"
      ]
     },
     "execution_count": 18,
     "metadata": {},
     "output_type": "execute_result"
    }
   ],
   "source": [
    "data.shape"
   ]
  },
  {
   "cell_type": "code",
   "execution_count": 29,
   "metadata": {},
   "outputs": [
    {
     "data": {
      "text/plain": [
       "(array([[  5.2,  78. ],\n",
       "        [  4.2,  77. ],\n",
       "        [  7.6,  95. ],\n",
       "        [  2.7,  66. ],\n",
       "        [  9.1,  91. ],\n",
       "        [  1.3,  59. ],\n",
       "        [  3.6,  72. ],\n",
       "        [  9.4, 100. ],\n",
       "        [  6.8,  88. ],\n",
       "        [  8.5,  89. ]]), array([[ 6.6, 89. ],\n",
       "        [ 4.5, 78. ],\n",
       "        [ 3.8, 74. ],\n",
       "        [ 3.8, 73. ],\n",
       "        [ 4.7, 80. ],\n",
       "        [ 1.5, 60. ],\n",
       "        [ 5. , 81. ],\n",
       "        [ 9.1, 91. ],\n",
       "        [ 4.3, 74. ],\n",
       "        [ 1.3, 58. ]]), array([ 1.3, 58. ]))"
      ]
     },
     "execution_count": 29,
     "metadata": {},
     "output_type": "execute_result"
    }
   ],
   "source": [
    "data[:10, :], data[-10:, :], data[-1]"
   ]
  },
  {
   "cell_type": "code",
   "execution_count": 30,
   "metadata": {},
   "outputs": [
    {
     "data": {
      "image/png": "[encoded data removed]",
      "text/plain": [
       "<Figure size 432x288 with 1 Axes>"
      ]
     },
     "metadata": {
      "needs_background": "light"
     },
     "output_type": "display_data"
    }
   ],
   "source": [
    "plt.plot(data[:, 0], data[:, 1], \"rx\", markersize=10, label=\"Training\")\n",
    "plt.xlabel(\"Study Hours\")\n",
    "plt.ylabel(\"Test Score\")\n",
    "plt.legend()\n",
    "plt.grid(True)\n",
    "plt.show()"
   ]
  },
  {
   "cell_type": "code",
   "execution_count": 31,
   "metadata": {},
   "outputs": [],
   "source": [
    "# chapter 16 コスト関数の作成"
   ]
  },
  {
   "cell_type": "code",
   "execution_count": 32,
   "metadata": {},
   "outputs": [],
   "source": [
    "# 線形モデルの数式：^y = w1 * x + w0\n",
    "# コスト関数：J(w0, w1) = 1 / 2m * ∑m i=1(^yi − yi) ** 2\n",
    "# コスト関数（^yを代入）：J(w0, w1)=1 / 2m * ∑m i=1((w1 * x + w0) − yi) ** 2\n",
    "# len(data) = データの個数（m = 生徒49名）\n",
    "# コードのどの部分が計算式のどの部分に該当しているのか把握\n",
    "# w0, w1= 0, 0（w1とw0の初期値を0とする）"
   ]
  },
  {
   "cell_type": "code",
   "execution_count": 34,
   "metadata": {},
   "outputs": [],
   "source": [
    "# コスト関数（二乗和誤差）\n",
    "# 入力\n",
    "#   w0：w0の重み\n",
    "#   w1：ｗ1の重み\n",
    "#   data：コストを計算するデータ　特徴量[0]：勉強時間　目的変数、正解値[1]：点数\n",
    "# リターン値\n",
    "#   cost：誤差\n",
    "def cost(w0, w1, data):\n",
    "    cost = 0\n",
    "    for i in range(0, len(data)):\n",
    "        x = data[i, 0]\n",
    "        y = data[i, 1]\n",
    "        cost += ((w1 * x + w0) - y) ** 2 \n",
    "    cost /= len(data) * 2\n",
    "    return cost"
   ]
  },
  {
   "cell_type": "code",
   "execution_count": 35,
   "metadata": {},
   "outputs": [
    {
     "data": {
      "text/plain": [
       "3128.3979591836733"
      ]
     },
     "execution_count": 35,
     "metadata": {},
     "output_type": "execute_result"
    }
   ],
   "source": [
    "w1, w0 = 0, 0\n",
    "cost(w1, w0, data)"
   ]
  },
  {
   "cell_type": "code",
   "execution_count": 36,
   "metadata": {},
   "outputs": [
    {
     "data": {
      "image/png": "[encoded data removed]",
      "text/plain": [
       "<Figure size 432x288 with 1 Axes>"
      ]
     },
     "metadata": {
      "needs_background": "light"
     },
     "output_type": "display_data"
    }
   ],
   "source": [
    "plt.plot(data[:, 0], data[:, 1], \"rx\", markersize=10, label=\"Training\")\n",
    "plt.xlabel(\"Study Hours\")\n",
    "plt.ylabel(\"Test Score\")\n",
    "plt.plot(data[:, 0], data[:, 0] * w1 + w0)\n",
    "plt.grid(True)\n",
    "plt.show()"
   ]
  },
  {
   "cell_type": "code",
   "execution_count": 37,
   "metadata": {},
   "outputs": [],
   "source": [
    "# コスト関数２（二乗和誤差）\n",
    "# 入力\n",
    "#   w0：w0の重み\n",
    "#   w1：ｗ1の重み\n",
    "#   data：コストを計算するデータ　特徴量[0]：勉強時間　目的変数、正解値[1]：点数\n",
    "# リターン値\n",
    "#   cost：誤差\n",
    "    x = data[:, 0]\n",
    "    y = data[:, 1]\n",
    "    # 二乗和誤差\n",
    "    cost2 = ((w1 * x + w0) - y) ** 2\n",
    "    return np.sum(cost2) / (2 * cost2.size)"
   ]
  },
  {
   "cell_type": "code",
   "execution_count": 38,
   "metadata": {},
   "outputs": [
    {
     "data": {
      "text/plain": [
       "3128.3979591836733"
      ]
     },
     "execution_count": 38,
     "metadata": {},
     "output_type": "execute_result"
    }
   ],
   "source": [
    "cost2(w0, w1, data)"
   ]
  },
  {
   "cell_type": "code",
   "execution_count": 39,
   "metadata": {},
   "outputs": [],
   "source": [
    "# chapter 17 最急降下法の作成"
   ]
  },
  {
   "cell_type": "code",
   "execution_count": 40,
   "metadata": {},
   "outputs": [],
   "source": [
    "%matplotlib inline\n",
    "\n",
    "import numpy as np\n",
    "import pandas as pd\n",
    "import matplotlib.pyplot as plt"
   ]
  },
  {
   "cell_type": "code",
   "execution_count": 41,
   "metadata": {},
   "outputs": [],
   "source": [
    "# w0_in、w1_inは最急降下法へ入力するパラメーター\n",
    "# w0_out、w1_outは最急降下法が処理を行い更新したパラメーター"
   ]
  },
  {
   "cell_type": "code",
   "execution_count": 42,
   "metadata": {},
   "outputs": [],
   "source": [
    "# 最急降下法\n",
    "# 入力\n",
    "#   w0：w0の重み（更新前）\n",
    "#   w1：ｗ1の重み（更新前）\n",
    "#   data：計算するデータ　特徴量[0]：勉強時間　目的変数、正解値[1]：点数\n",
    "# リターン値\n",
    "#   w0_out：w0の重み（更新後）\n",
    "#   w1_out：ｗ1の重み（更新後）\n",
    "def gradentDecent(w0_in, w1_in, data, alpha):\n",
    "    w0_gradent = 0\n",
    "    w1_gradent = 0\n",
    "    m = float(len(data))\n",
    "    for i in range(0, len(data)):\n",
    "        x = data[i, 0]\n",
    "        y = data[i, 1]\n",
    "        w0_gradent += (1 / m) * (((w1_in * x) + w0_in) - y)\n",
    "        w1_gradent += (1 / m) * ((((w1_in * x) + w0_in) - y) * x)\n",
    "    w0_out = w0_in - (alpha * w0_gradent)\n",
    "    w1_out = w1_in - (alpha * w1_gradent)\n",
    "    return [w0_out, w1_out]"
   ]
  },
  {
   "cell_type": "code",
   "execution_count": 43,
   "metadata": {},
   "outputs": [],
   "source": [
    "# 最急降下法\n",
    "# 入力\n",
    "#   w0：w0の重み（更新前）\n",
    "#   w1：ｗ1の重み（更新前）\n",
    "#   data：計算するデータ　特徴量[0]：勉強時間　目的変数、正解値[1]：点数\n",
    "# リターン値\n",
    "#   w0_out：w0の重み（更新後）\n",
    "#   w1_out：ｗ1の重み（更新後）\n",
    "def gradentDecent2(w0_in, w1_in, data, alpha):\n",
    "    w0_gradent = 0\n",
    "    w1_gradent = 0\n",
    "    x = data[:, 0]\n",
    "    y = data[:, 1]\n",
    "    cost_y = ((w1_in * x) + w0_in) - y\n",
    "    cost_x = (((w1_in * x) + w0_in) - y) * x\n",
    "    w0_out = w0_in - (alpha * cost_y.mean())\n",
    "    w1_out = w1_in - (alpha * cost_x.mean())\n",
    "    return [w0_out, w1_out]"
   ]
  },
  {
   "cell_type": "code",
   "execution_count": 44,
   "metadata": {},
   "outputs": [],
   "source": [
    "# chapter 18 線形回帰モデル構築"
   ]
  },
  {
   "cell_type": "code",
   "execution_count": 45,
   "metadata": {},
   "outputs": [],
   "source": [
    "# alpha = 学習率(0.01)\n",
    "# int_w0 = w0の初期値(0）\n",
    "# int_w1 = w1の初期値(0）\n",
    "# iterations = 学習回数(5000)"
   ]
  },
  {
   "cell_type": "code",
   "execution_count": 46,
   "metadata": {},
   "outputs": [],
   "source": [
    "alpha = 0.01\n",
    "int_w0 = 0\n",
    "int_w1 = 0\n",
    "iterations = 5000"
   ]
  },
  {
   "cell_type": "code",
   "execution_count": 57,
   "metadata": {},
   "outputs": [],
   "source": [
    "# モデル実行\n",
    "# 入力\n",
    "#   w0：w0の重み（更新前）\n",
    "#   w1：ｗ1の重み（更新前）\n",
    "#   data：計算するデータ　特徴量[0]：勉強時間　目的変数、正解値[1]：点数\n",
    "#   alpha：学習率\n",
    "#   iterations：バッチ数\n",
    "# リターン値\n",
    "#   w0_out：w0の重み（更新後）\n",
    "#   w1_out：ｗ1の重み（更新後）\n",
    "def run(data, int_w0, int_w1, alpha, iterations):\n",
    "    w0 = int_w0\n",
    "    w1 = int_w1\n",
    "    for i in range(iterations):\n",
    "        w0, w1 = gradentDecent(w0, w1, np.array(data), alpha)\n",
    "    return w0, w1"
   ]
  },
  {
   "cell_type": "code",
   "execution_count": 58,
   "metadata": {},
   "outputs": [],
   "source": [
    "w0, w1 = run(data, int_w0, int_w1, alpha, iterations)"
   ]
  },
  {
   "cell_type": "code",
   "execution_count": 59,
   "metadata": {},
   "outputs": [
    {
     "data": {
      "text/plain": [
       "(55.190731858489606, 4.806721169523359)"
      ]
     },
     "execution_count": 59,
     "metadata": {},
     "output_type": "execute_result"
    }
   ],
   "source": [
    "w0, w1"
   ]
  },
  {
   "cell_type": "code",
   "execution_count": 60,
   "metadata": {},
   "outputs": [],
   "source": [
    "# 3.2時間で予測\n",
    "predict = w1 * 3.2 + w0"
   ]
  },
  {
   "cell_type": "code",
   "execution_count": 61,
   "metadata": {},
   "outputs": [
    {
     "data": {
      "text/plain": [
       "70.57223960096435"
      ]
     },
     "execution_count": 61,
     "metadata": {},
     "output_type": "execute_result"
    }
   ],
   "source": [
    "predict"
   ]
  },
  {
   "cell_type": "code",
   "execution_count": 62,
   "metadata": {},
   "outputs": [
    {
     "data": {
      "image/png": "[encoded data removed]",
      "text/plain": [
       "<Figure size 432x288 with 1 Axes>"
      ]
     },
     "metadata": {
      "needs_background": "light"
     },
     "output_type": "display_data"
    }
   ],
   "source": [
    "plt.plot(data[:, 0], data[:, 1], \"rx\", markersize=10, label=\"Training\")\n",
    "plt.xlabel(\"Study Hours\")\n",
    "plt.ylabel(\"Test Score\")\n",
    "plt.plot(data[:, 0], data[:, 0] * w1 + w0, '-', label='Linear regression')\n",
    "plt.legend(loc='lower right')\n",
    "plt.grid(True)\n",
    "plt.show()"
   ]
  },
  {
   "cell_type": "code",
   "execution_count": 63,
   "metadata": {},
   "outputs": [],
   "source": [
    "# モデル実行\n",
    "# 入力\n",
    "#   w0：w0の重み（更新前）\n",
    "#   w1：ｗ1の重み（更新前）\n",
    "#   data：計算するデータ　特徴量[0]：勉強時間　目的変数、正解値[1]：点数\n",
    "#   alpha：学習率\n",
    "#   iterations：バッチ数\n",
    "# リターン値\n",
    "#   w0_out：w0の重み（更新後）\n",
    "#   w1_out：ｗ1の重み（更新後）\n",
    "def run2(data, int_w0, int_w1, alpha, iterations):\n",
    "    w0 = int_w0\n",
    "    w1 = int_w1\n",
    "    for i in range(iterations):\n",
    "        w0, w1 = gradentDecent2(w0, w1, np.array(data), alpha)\n",
    "    return w0, w1"
   ]
  },
  {
   "cell_type": "code",
   "execution_count": 64,
   "metadata": {},
   "outputs": [],
   "source": [
    "w2, w3 = run2(data, int_w0, int_w1, alpha, iterations)"
   ]
  },
  {
   "cell_type": "code",
   "execution_count": 65,
   "metadata": {},
   "outputs": [
    {
     "data": {
      "text/plain": [
       "(55.190731858489606, 4.806721169523359)"
      ]
     },
     "execution_count": 65,
     "metadata": {},
     "output_type": "execute_result"
    }
   ],
   "source": [
    "w2, w3"
   ]
  },
  {
   "cell_type": "code",
   "execution_count": 67,
   "metadata": {},
   "outputs": [
    {
     "data": {
      "image/png": "[encoded data removed]",
      "text/plain": [
       "<Figure size 432x288 with 1 Axes>"
      ]
     },
     "metadata": {
      "needs_background": "light"
     },
     "output_type": "display_data"
    }
   ],
   "source": [
    "plt.plot(data[:, 0], data[:, 1], \"rx\", markersize=10, label=\"Training\")\n",
    "plt.xlabel(\"Study Hours\")\n",
    "plt.ylabel(\"Test Score\")\n",
    "plt.plot(data[:, 0], data[:, 0] * w3 + w2, '-', label='Linear regression')\n",
    "plt.legend(loc='lower right')\n",
    "plt.grid(True)\n",
    "plt.show()"
   ]
  },
  {
   "cell_type": "code",
   "execution_count": null,
   "metadata": {},
   "outputs": [],
   "source": []
  }
 ],
 "metadata": {
  "kernelspec": {
   "display_name": "Python 3",
   "language": "python",
   "name": "python3"
  },
  "language_info": {
   "codemirror_mode": {
    "name": "ipython",
    "version": 3
   },
   "file_extension": ".py",
   "mimetype": "text/x-python",
   "name": "python",
   "nbconvert_exporter": "python",
   "pygments_lexer": "ipython3",
   "version": "3.6.7"
  }
 },
 "nbformat": 4,
 "nbformat_minor": 2
}
