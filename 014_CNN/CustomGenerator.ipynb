{
 "cells": [
  {
   "cell_type": "code",
   "execution_count": 3,
   "metadata": {},
   "outputs": [],
   "source": [
    "import numpy as np\n",
    "\n",
    "class CustomGenerator:\n",
    "    def flow(self, X, y=None, batch_size=32, shuffle=True):\n",
    "        if not y is None:\n",
    "            assert X.shape[0] == y.shape[0]\n",
    "        n_sample = X_shape[0]\n",
    "        assert batch_size <= n_sample\n",
    "        n_batch = n_sample // batch_size\n",
    "        \n",
    "        while True:\n",
    "            indices = np.arange(n_sample)\n",
    "            if shuffle:\n",
    "                np.random.shuffle(indices)\n",
    "            \n",
    "            for i in range(n_batch):\n",
    "                current_indices = indices[i*batch_size:(i+1)*batch_size]\n",
    "                X_batch = (X[current_indices] / 255.0).astype(np.float32)\n",
    "                if y is None:\n",
    "                    yield X_batch\n",
    "                else:\n",
    "                    y_batch = (y[current_indices]).astype(np.float32)\n",
    "                    yield X_batch, y_batch"
   ]
  },
  {
   "cell_type": "code",
   "execution_count": null,
   "metadata": {},
   "outputs": [],
   "source": []
  }
 ],
 "metadata": {
  "kernelspec": {
   "display_name": "Python 3",
   "language": "python",
   "name": "python3"
  },
  "language_info": {
   "codemirror_mode": {
    "name": "ipython",
    "version": 3
   },
   "file_extension": ".py",
   "mimetype": "text/x-python",
   "name": "python",
   "nbconvert_exporter": "python",
   "pygments_lexer": "ipython3",
   "version": "3.6.7"
  }
 },
 "nbformat": 4,
 "nbformat_minor": 2
}
