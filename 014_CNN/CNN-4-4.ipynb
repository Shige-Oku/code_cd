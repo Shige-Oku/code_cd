{
 "cells": [
  {
   "cell_type": "code",
   "execution_count": 1,
   "metadata": {},
   "outputs": [],
   "source": [
    "# 「Chest X-Ray Images(Pnuemonia)」で肺炎か診断\n",
    "#  前処理で保存した特徴量、ターゲットから\n",
    "#  データを拡張して学習する\n",
    "#  正常データに対する再現率が悪いので、正常系データのみ拡張してみる"
   ]
  },
  {
   "cell_type": "code",
   "execution_count": 2,
   "metadata": {},
   "outputs": [],
   "source": [
    "import numpy as np\n",
    "import pandas as pd\n",
    "\n",
    "import cv2\n",
    "\n",
    "import matplotlib.pyplot as plt\n",
    "\n",
    "import keras as ks\n",
    "from keras.preprocessing.image import ImageDataGenerator\n",
    "from keras.optimizers import Adam\n",
    "from keras.models import Sequential\n",
    "from keras.layers import Dense, Flatten, Conv2D, MaxPooling2D, Dropout\n",
    "from keras.utils import np_utils\n",
    "from keras.callbacks import EarlyStopping, ModelCheckpoint\n",
    "\n",
    "from sklearn.preprocessing import LabelEncoder\n",
    "from sklearn.model_selection import train_test_split\n",
    "from sklearn.metrics import confusion_matrix, recall_score, precision_score, accuracy_score, f1_score\n",
    "\n",
    "import os\n",
    "import glob\n",
    "\n",
    "%matplotlib inline\n"
   ]
  },
  {
   "cell_type": "code",
   "execution_count": 3,
   "metadata": {},
   "outputs": [],
   "source": [
    "# path の設定\n",
    "test_path = \"./dataset/chest_xray/test/\"\n",
    "train_path ='./dataset/chest_xray/train/'"
   ]
  },
  {
   "cell_type": "code",
   "execution_count": 4,
   "metadata": {},
   "outputs": [],
   "source": [
    "# 訓練データ読み出し\n",
    "X_train = np.load(train_path + 'X_train.npy')\n",
    "y_train = np.load(train_path + 'y_train.npy')"
   ]
  },
  {
   "cell_type": "code",
   "execution_count": 5,
   "metadata": {},
   "outputs": [
    {
     "data": {
      "text/plain": [
       "((5216, 64, 64, 3), (5216,))"
      ]
     },
     "execution_count": 5,
     "metadata": {},
     "output_type": "execute_result"
    }
   ],
   "source": [
    "X_train.shape, y_train.shape"
   ]
  },
  {
   "cell_type": "code",
   "execution_count": 6,
   "metadata": {},
   "outputs": [],
   "source": [
    "# テストデータ読み出し\n",
    "X_test = np.load(test_path + 'X_test.npy')\n",
    "y_test = np.load(test_path + 'y_test.npy')"
   ]
  },
  {
   "cell_type": "code",
   "execution_count": 7,
   "metadata": {},
   "outputs": [
    {
     "data": {
      "text/plain": [
       "((624, 64, 64, 3), (624,))"
      ]
     },
     "execution_count": 7,
     "metadata": {},
     "output_type": "execute_result"
    }
   ],
   "source": [
    "X_test.shape, y_test.shape"
   ]
  },
  {
   "cell_type": "code",
   "execution_count": 8,
   "metadata": {},
   "outputs": [
    {
     "data": {
      "text/plain": [
       "1341"
      ]
     },
     "execution_count": 8,
     "metadata": {},
     "output_type": "execute_result"
    }
   ],
   "source": [
    "np.count_nonzero(y_train == 0)"
   ]
  },
  {
   "cell_type": "code",
   "execution_count": 9,
   "metadata": {},
   "outputs": [],
   "source": [
    "# ImageDataGenerator\n",
    "data_gen = ImageDataGenerator(\n",
    "    rotation_range=50,\n",
    "    width_shift_range=0.1,\n",
    "    height_shift_range=0.1,\n",
    "    shear_range=0.2,\n",
    "    zoom_range=0.1,\n",
    "    horizontal_flip=True\n",
    ")"
   ]
  },
  {
   "cell_type": "code",
   "execution_count": 10,
   "metadata": {},
   "outputs": [],
   "source": [
    "y_train_normal = y_train[y_train == 0]"
   ]
  },
  {
   "cell_type": "code",
   "execution_count": 11,
   "metadata": {},
   "outputs": [
    {
     "data": {
      "text/plain": [
       "(1341,)"
      ]
     },
     "execution_count": 11,
     "metadata": {},
     "output_type": "execute_result"
    }
   ],
   "source": [
    "y_train_normal.shape"
   ]
  },
  {
   "cell_type": "code",
   "execution_count": 12,
   "metadata": {},
   "outputs": [],
   "source": [
    "# 正常データのみ抜き出し\n",
    "X_train_normal = X_train[np.where(y_train == 0)]"
   ]
  },
  {
   "cell_type": "code",
   "execution_count": 13,
   "metadata": {},
   "outputs": [
    {
     "data": {
      "text/plain": [
       "(1341, 64, 64, 3)"
      ]
     },
     "execution_count": 13,
     "metadata": {},
     "output_type": "execute_result"
    }
   ],
   "source": [
    "X_train_normal.shape"
   ]
  },
  {
   "cell_type": "code",
   "execution_count": 14,
   "metadata": {},
   "outputs": [],
   "source": [
    "aug_img = np.empty((X_train_normal.shape))"
   ]
  },
  {
   "cell_type": "code",
   "execution_count": 15,
   "metadata": {},
   "outputs": [
    {
     "data": {
      "text/plain": [
       "(1341, 64, 64, 3)"
      ]
     },
     "execution_count": 15,
     "metadata": {},
     "output_type": "execute_result"
    }
   ],
   "source": [
    "aug_img.shape"
   ]
  },
  {
   "cell_type": "code",
   "execution_count": 16,
   "metadata": {},
   "outputs": [],
   "source": [
    "# 訓練データの加工\n",
    "\n",
    "for i, batch in enumerate(data_gen.flow(X_train_normal, shuffle=False, batch_size=1, seed=42)):\n",
    "    if i >= aug_img.shape[0]:\n",
    "        break\n",
    "\n",
    "    aug_img[i] = batch\n",
    "    "
   ]
  },
  {
   "cell_type": "code",
   "execution_count": 17,
   "metadata": {},
   "outputs": [
    {
     "data": {
      "text/plain": [
       "array([[[0.09983774, 0.09983774, 0.09983774],\n",
       "        [0.1030009 , 0.1030009 , 0.1030009 ],\n",
       "        [0.10665707, 0.10665707, 0.10665707],\n",
       "        ...,\n",
       "        [0.40932149, 0.40932149, 0.40932149],\n",
       "        [0.42291859, 0.42291859, 0.42291859],\n",
       "        [0.41809502, 0.41809502, 0.41809502]],\n",
       "\n",
       "       [[0.08327107, 0.08327107, 0.08327107],\n",
       "        [0.08801582, 0.08801582, 0.08801582],\n",
       "        [0.09190574, 0.09190574, 0.09190574],\n",
       "        ...,\n",
       "        [0.42509457, 0.42509457, 0.42509457],\n",
       "        [0.43196264, 0.43196264, 0.43196264],\n",
       "        [0.44263497, 0.44263497, 0.44263497]],\n",
       "\n",
       "       [[0.06268076, 0.06268076, 0.06268076],\n",
       "        [0.06663471, 0.06663471, 0.06663471],\n",
       "        [0.07137308, 0.07137308, 0.07137308],\n",
       "        ...,\n",
       "        [0.45586693, 0.45586693, 0.45586693],\n",
       "        [0.44488773, 0.44488773, 0.44488773],\n",
       "        [0.47600874, 0.47600874, 0.47600874]],\n",
       "\n",
       "       ...,\n",
       "\n",
       "       [[0.49040803, 0.49040803, 0.49040803],\n",
       "        [0.5577212 , 0.5577212 , 0.5577212 ],\n",
       "        [0.60318071, 0.60318071, 0.60318071],\n",
       "        ...,\n",
       "        [0.        , 0.        , 0.        ],\n",
       "        [0.        , 0.        , 0.        ],\n",
       "        [0.        , 0.        , 0.        ]],\n",
       "\n",
       "       [[0.50505584, 0.50505584, 0.50505584],\n",
       "        [0.57269025, 0.57269025, 0.57269025],\n",
       "        [0.61190647, 0.61190647, 0.61190647],\n",
       "        ...,\n",
       "        [0.        , 0.        , 0.        ],\n",
       "        [0.        , 0.        , 0.        ],\n",
       "        [0.        , 0.        , 0.        ]],\n",
       "\n",
       "       [[0.52012765, 0.52012765, 0.52012765],\n",
       "        [0.58141601, 0.58141601, 0.58141601],\n",
       "        [0.61838406, 0.61838406, 0.61838406],\n",
       "        ...,\n",
       "        [0.        , 0.        , 0.        ],\n",
       "        [0.        , 0.        , 0.        ],\n",
       "        [0.        , 0.        , 0.        ]]])"
      ]
     },
     "execution_count": 17,
     "metadata": {},
     "output_type": "execute_result"
    }
   ],
   "source": [
    "aug_img[0]"
   ]
  },
  {
   "cell_type": "code",
   "execution_count": 18,
   "metadata": {},
   "outputs": [
    {
     "data": {
      "text/plain": [
       "1341"
      ]
     },
     "execution_count": 18,
     "metadata": {},
     "output_type": "execute_result"
    }
   ],
   "source": [
    "len(aug_img)"
   ]
  },
  {
   "cell_type": "code",
   "execution_count": 19,
   "metadata": {},
   "outputs": [
    {
     "data": {
      "text/plain": [
       "Text(0.5, 1.0, 'Augmented_2')"
      ]
     },
     "execution_count": 19,
     "metadata": {},
     "output_type": "execute_result"
    },
    {
     "data": {
      "image/png": "[encoded data removed]",
      "text/plain": [
       "<Figure size 720x720 with 4 Axes>"
      ]
     },
     "metadata": {
      "needs_background": "light"
     },
     "output_type": "display_data"
    }
   ],
   "source": [
    "# 加工データの確認\n",
    "fix, ax = plt.subplots(1, 4, figsize=(10, 10))\n",
    "\n",
    "# 元データ\n",
    "plt.subplot(141)\n",
    "plt.imshow(X_train_normal[0])\n",
    "plt.title('Original_1')\n",
    "\n",
    "# 加工データ\n",
    "plt.subplot(142)\n",
    "plt.imshow(aug_img[0])\n",
    "plt.title('Augmented_1')\n",
    "\n",
    "# 元データ\n",
    "plt.subplot(143)\n",
    "plt.imshow(X_train_normal[1])\n",
    "plt.title('Original_2')\n",
    "\n",
    "# 加工データ\n",
    "plt.subplot(144)\n",
    "plt.imshow(aug_img[1])\n",
    "plt.title('Augmented_2')\n"
   ]
  },
  {
   "cell_type": "code",
   "execution_count": 40,
   "metadata": {},
   "outputs": [
    {
     "name": "stdout",
     "output_type": "stream",
     "text": [
      "Model: \"sequential_3\"\n",
      "_________________________________________________________________\n",
      "Layer (type)                 Output Shape              Param #   \n",
      "=================================================================\n",
      "conv2d_3 (Conv2D)            (None, 62, 62, 32)        896       \n",
      "_________________________________________________________________\n",
      "max_pooling2d_3 (MaxPooling2 (None, 31, 31, 32)        0         \n",
      "_________________________________________________________________\n",
      "dropout_5 (Dropout)          (None, 31, 31, 32)        0         \n",
      "_________________________________________________________________\n",
      "flatten_3 (Flatten)          (None, 30752)             0         \n",
      "_________________________________________________________________\n",
      "dense_5 (Dense)              (None, 128)               3936384   \n",
      "_________________________________________________________________\n",
      "dropout_6 (Dropout)          (None, 128)               0         \n",
      "_________________________________________________________________\n",
      "dense_6 (Dense)              (None, 1)                 129       \n",
      "=================================================================\n",
      "Total params: 3,937,409\n",
      "Trainable params: 3,937,409\n",
      "Non-trainable params: 0\n",
      "_________________________________________________________________\n"
     ]
    }
   ],
   "source": [
    "# 前回と同じ構造で\n",
    "aug_model = Sequential()\n",
    "aug_model.add(Conv2D(32, kernel_size=(3, 3),\n",
    "                     activation='relu',\n",
    "                     input_shape=(64, 64, 3)))\n",
    "aug_model.add(MaxPooling2D(pool_size=(2, 2)))\n",
    "aug_model.add(Dropout(0.25))\n",
    "aug_model.add(Flatten())\n",
    "aug_model.add(Dense(128, activation='relu'))\n",
    "aug_model.add(Dropout(0.33))\n",
    "aug_model.add(Dense(1, activation='sigmoid'))\n",
    "\n",
    "aug_model.summary()"
   ]
  },
  {
   "cell_type": "code",
   "execution_count": 41,
   "metadata": {},
   "outputs": [],
   "source": [
    "# コンパイル\n",
    "aug_model.compile(loss='binary_crossentropy',\n",
    "                  optimizer=Adam(lr=0.00001),\n",
    "                  metrics=['accuracy'])"
   ]
  },
  {
   "cell_type": "code",
   "execution_count": 42,
   "metadata": {},
   "outputs": [],
   "source": [
    "# EarlyStopping\n",
    "callbacks = EarlyStopping(monitor='val_loss', patience=5)"
   ]
  },
  {
   "cell_type": "code",
   "execution_count": 43,
   "metadata": {},
   "outputs": [
    {
     "name": "stdout",
     "output_type": "stream",
     "text": [
      "Epoch 1/20\n",
      "205/205 [==============================] - 29s 141ms/step - loss: 0.6603 - accuracy: 0.6113 - val_loss: 0.6120 - val_accuracy: 0.7628\n",
      "Epoch 2/20\n",
      "205/205 [==============================] - 25s 121ms/step - loss: 0.5879 - accuracy: 0.7060 - val_loss: 0.5638 - val_accuracy: 0.7179\n",
      "Epoch 3/20\n",
      "205/205 [==============================] - 25s 122ms/step - loss: 0.5264 - accuracy: 0.7534 - val_loss: 0.4792 - val_accuracy: 0.7981\n",
      "Epoch 4/20\n",
      "205/205 [==============================] - 25s 121ms/step - loss: 0.4832 - accuracy: 0.7938 - val_loss: 0.4478 - val_accuracy: 0.8029\n",
      "Epoch 5/20\n",
      "205/205 [==============================] - 25s 122ms/step - loss: 0.4479 - accuracy: 0.8113 - val_loss: 0.4695 - val_accuracy: 0.7692\n",
      "Epoch 6/20\n",
      "205/205 [==============================] - 25s 123ms/step - loss: 0.4178 - accuracy: 0.8310 - val_loss: 0.4547 - val_accuracy: 0.7708\n",
      "Epoch 7/20\n",
      "205/205 [==============================] - 25s 123ms/step - loss: 0.4028 - accuracy: 0.8344 - val_loss: 0.4728 - val_accuracy: 0.7612\n",
      "Epoch 8/20\n",
      "205/205 [==============================] - 25s 124ms/step - loss: 0.3788 - accuracy: 0.8432 - val_loss: 0.4471 - val_accuracy: 0.7692\n",
      "Epoch 9/20\n",
      "205/205 [==============================] - 27s 133ms/step - loss: 0.3701 - accuracy: 0.8441 - val_loss: 0.5477 - val_accuracy: 0.7179\n",
      "Epoch 10/20\n",
      "205/205 [==============================] - 27s 131ms/step - loss: 0.3630 - accuracy: 0.8458 - val_loss: 0.5310 - val_accuracy: 0.7292\n",
      "Epoch 11/20\n",
      "205/205 [==============================] - 27s 129ms/step - loss: 0.3575 - accuracy: 0.8490 - val_loss: 0.4799 - val_accuracy: 0.7612\n",
      "Epoch 12/20\n",
      "205/205 [==============================] - 26s 127ms/step - loss: 0.3493 - accuracy: 0.8536 - val_loss: 0.6151 - val_accuracy: 0.7003\n",
      "Epoch 13/20\n",
      "205/205 [==============================] - 26s 129ms/step - loss: 0.3449 - accuracy: 0.8537 - val_loss: 0.5913 - val_accuracy: 0.7115\n"
     ]
    },
    {
     "data": {
      "text/plain": [
       "<keras.callbacks.callbacks.History at 0x17ed01c18d0>"
      ]
     },
     "execution_count": 43,
     "metadata": {},
     "output_type": "execute_result"
    }
   ],
   "source": [
    "aug_model.fit_generator(\n",
    "    # 訓練データに拡張した正常データを追加\n",
    "    data_gen.flow(np.r_[X_train_normal, X_train], np.r_[y_train_normal, y_train], batch_size=32, seed=42),\n",
    "#     steps_per_epoch=163,\n",
    "    steps_per_epoch=205,\n",
    "    epochs=20,\n",
    "    verbose=1,\n",
    "    shuffle=True,\n",
    "    callbacks=[callbacks],\n",
    "    validation_data=(X_test, y_test)\n",
    ")"
   ]
  },
  {
   "cell_type": "code",
   "execution_count": 44,
   "metadata": {},
   "outputs": [],
   "source": [
    "aug_y_pred = aug_model.predict_classes(X_test)"
   ]
  },
  {
   "cell_type": "code",
   "execution_count": 45,
   "metadata": {},
   "outputs": [
    {
     "data": {
      "text/plain": [
       "array([[229,   5],\n",
       "       [175, 215]], dtype=int64)"
      ]
     },
     "execution_count": 45,
     "metadata": {},
     "output_type": "execute_result"
    }
   ],
   "source": [
    "confusion_matrix(y_test, aug_y_pred)"
   ]
  },
  {
   "cell_type": "code",
   "execution_count": 46,
   "metadata": {},
   "outputs": [
    {
     "data": {
      "text/plain": [
       "0.7115384615384616"
      ]
     },
     "execution_count": 46,
     "metadata": {},
     "output_type": "execute_result"
    }
   ],
   "source": [
    "accuracy_score(y_test, aug_y_pred)"
   ]
  },
  {
   "cell_type": "code",
   "execution_count": 47,
   "metadata": {},
   "outputs": [
    {
     "data": {
      "text/plain": [
       "0.9772727272727273"
      ]
     },
     "execution_count": 47,
     "metadata": {},
     "output_type": "execute_result"
    }
   ],
   "source": [
    "precision_score(y_test, aug_y_pred)"
   ]
  },
  {
   "cell_type": "code",
   "execution_count": 48,
   "metadata": {},
   "outputs": [
    {
     "data": {
      "text/plain": [
       "0.5512820512820513"
      ]
     },
     "execution_count": 48,
     "metadata": {},
     "output_type": "execute_result"
    }
   ],
   "source": [
    "recall_score(y_test, aug_y_pred)"
   ]
  },
  {
   "cell_type": "code",
   "execution_count": 49,
   "metadata": {},
   "outputs": [
    {
     "data": {
      "text/plain": [
       "0.7049180327868853"
      ]
     },
     "execution_count": 49,
     "metadata": {},
     "output_type": "execute_result"
    }
   ],
   "source": [
    "f1_score(y_test, aug_y_pred)"
   ]
  },
  {
   "cell_type": "code",
   "execution_count": 30,
   "metadata": {},
   "outputs": [
    {
     "name": "stdout",
     "output_type": "stream",
     "text": [
      "Model: \"sequential_2\"\n",
      "_________________________________________________________________\n",
      "Layer (type)                 Output Shape              Param #   \n",
      "=================================================================\n",
      "conv2d_2 (Conv2D)            (None, 62, 62, 32)        896       \n",
      "_________________________________________________________________\n",
      "max_pooling2d_2 (MaxPooling2 (None, 31, 31, 32)        0         \n",
      "_________________________________________________________________\n",
      "dropout_3 (Dropout)          (None, 31, 31, 32)        0         \n",
      "_________________________________________________________________\n",
      "flatten_2 (Flatten)          (None, 30752)             0         \n",
      "_________________________________________________________________\n",
      "dense_3 (Dense)              (None, 128)               3936384   \n",
      "_________________________________________________________________\n",
      "dropout_4 (Dropout)          (None, 128)               0         \n",
      "_________________________________________________________________\n",
      "dense_4 (Dense)              (None, 1)                 129       \n",
      "=================================================================\n",
      "Total params: 3,937,409\n",
      "Trainable params: 3,937,409\n",
      "Non-trainable params: 0\n",
      "_________________________________________________________________\n"
     ]
    }
   ],
   "source": [
    "# 前回と同じ構造で\n",
    "aug2_model = Sequential()\n",
    "aug2_model.add(Conv2D(32, kernel_size=(3, 3),\n",
    "                     activation='relu',\n",
    "                     input_shape=(64, 64, 3)))\n",
    "aug2_model.add(MaxPooling2D(pool_size=(2, 2)))\n",
    "aug2_model.add(Dropout(0.25))\n",
    "aug2_model.add(Flatten())\n",
    "aug2_model.add(Dense(128, activation='relu'))\n",
    "aug2_model.add(Dropout(0.33))\n",
    "aug2_model.add(Dense(1, activation='sigmoid'))\n",
    "\n",
    "aug2_model.summary()"
   ]
  },
  {
   "cell_type": "code",
   "execution_count": 31,
   "metadata": {},
   "outputs": [],
   "source": [
    "# コンパイル\n",
    "aug2_model.compile(loss='binary_crossentropy',\n",
    "                  optimizer=Adam(lr=0.00001),\n",
    "                  metrics=['accuracy'])"
   ]
  },
  {
   "cell_type": "code",
   "execution_count": 32,
   "metadata": {},
   "outputs": [],
   "source": [
    "# EarlyStopping\n",
    "callbacks = EarlyStopping(monitor='val_loss', patience=5)"
   ]
  },
  {
   "cell_type": "code",
   "execution_count": 33,
   "metadata": {},
   "outputs": [
    {
     "name": "stdout",
     "output_type": "stream",
     "text": [
      "Train on 6557 samples, validate on 624 samples\n",
      "Epoch 1/20\n",
      "6557/6557 [==============================] - 25s 4ms/step - loss: 0.5742 - accuracy: 0.7249 - val_loss: 0.5156 - val_accuracy: 0.7196\n",
      "Epoch 2/20\n",
      "6557/6557 [==============================] - 22s 3ms/step - loss: 0.3904 - accuracy: 0.8691 - val_loss: 0.4003 - val_accuracy: 0.8429\n",
      "Epoch 3/20\n",
      "6557/6557 [==============================] - 23s 3ms/step - loss: 0.2986 - accuracy: 0.9024 - val_loss: 0.3709 - val_accuracy: 0.8205\n",
      "Epoch 4/20\n",
      "6557/6557 [==============================] - 22s 3ms/step - loss: 0.2462 - accuracy: 0.9216 - val_loss: 0.3843 - val_accuracy: 0.8061\n",
      "Epoch 5/20\n",
      "6557/6557 [==============================] - 23s 4ms/step - loss: 0.2131 - accuracy: 0.9300 - val_loss: 0.3018 - val_accuracy: 0.8830\n",
      "Epoch 6/20\n",
      "6557/6557 [==============================] - 22s 3ms/step - loss: 0.1879 - accuracy: 0.9358 - val_loss: 0.3551 - val_accuracy: 0.8253\n",
      "Epoch 7/20\n",
      "6557/6557 [==============================] - 22s 3ms/step - loss: 0.1700 - accuracy: 0.9422 - val_loss: 0.3507 - val_accuracy: 0.8333\n",
      "Epoch 8/20\n",
      "6557/6557 [==============================] - 23s 4ms/step - loss: 0.1564 - accuracy: 0.9480 - val_loss: 0.3639 - val_accuracy: 0.8285\n",
      "Epoch 9/20\n",
      "6557/6557 [==============================] - 23s 3ms/step - loss: 0.1484 - accuracy: 0.9500 - val_loss: 0.3624 - val_accuracy: 0.8301\n",
      "Epoch 10/20\n",
      "6557/6557 [==============================] - 24s 4ms/step - loss: 0.1410 - accuracy: 0.9500 - val_loss: 0.3554 - val_accuracy: 0.8349\n"
     ]
    },
    {
     "data": {
      "text/plain": [
       "<keras.callbacks.callbacks.History at 0x17ebd3a6048>"
      ]
     },
     "execution_count": 33,
     "metadata": {},
     "output_type": "execute_result"
    }
   ],
   "source": [
    "aug2_model.fit(np.r_[X_train_normal, X_train], np.r_[y_train_normal, y_train],\n",
    "    callbacks=[callbacks],\n",
    "    epochs=20,\n",
    "    validation_data=(X_test, y_test)\n",
    ")"
   ]
  },
  {
   "cell_type": "code",
   "execution_count": 34,
   "metadata": {},
   "outputs": [],
   "source": [
    "aug2_y_pred = aug2_model.predict_classes(X_test)"
   ]
  },
  {
   "cell_type": "code",
   "execution_count": 35,
   "metadata": {},
   "outputs": [
    {
     "data": {
      "text/plain": [
       "array([[142,  92],\n",
       "       [ 11, 379]], dtype=int64)"
      ]
     },
     "execution_count": 35,
     "metadata": {},
     "output_type": "execute_result"
    }
   ],
   "source": [
    "confusion_matrix(y_test, aug2_y_pred)"
   ]
  },
  {
   "cell_type": "code",
   "execution_count": 36,
   "metadata": {},
   "outputs": [
    {
     "data": {
      "text/plain": [
       "0.8349358974358975"
      ]
     },
     "execution_count": 36,
     "metadata": {},
     "output_type": "execute_result"
    }
   ],
   "source": [
    "accuracy_score(y_test, aug2_y_pred)"
   ]
  },
  {
   "cell_type": "code",
   "execution_count": 37,
   "metadata": {},
   "outputs": [
    {
     "data": {
      "text/plain": [
       "0.8046709129511678"
      ]
     },
     "execution_count": 37,
     "metadata": {},
     "output_type": "execute_result"
    }
   ],
   "source": [
    "precision_score(y_test, aug2_y_pred)"
   ]
  },
  {
   "cell_type": "code",
   "execution_count": 38,
   "metadata": {},
   "outputs": [
    {
     "data": {
      "text/plain": [
       "0.9717948717948718"
      ]
     },
     "execution_count": 38,
     "metadata": {},
     "output_type": "execute_result"
    }
   ],
   "source": [
    "recall_score(y_test, aug2_y_pred)"
   ]
  },
  {
   "cell_type": "code",
   "execution_count": 39,
   "metadata": {},
   "outputs": [
    {
     "data": {
      "text/plain": [
       "0.8803716608594657"
      ]
     },
     "execution_count": 39,
     "metadata": {},
     "output_type": "execute_result"
    }
   ],
   "source": [
    "f1_score(y_test, aug2_y_pred)"
   ]
  },
  {
   "cell_type": "code",
   "execution_count": null,
   "metadata": {},
   "outputs": [],
   "source": []
  }
 ],
 "metadata": {
  "kernelspec": {
   "display_name": "Python 3",
   "language": "python",
   "name": "python3"
  },
  "language_info": {
   "codemirror_mode": {
    "name": "ipython",
    "version": 3
   },
   "file_extension": ".py",
   "mimetype": "text/x-python",
   "name": "python",
   "nbconvert_exporter": "python",
   "pygments_lexer": "ipython3",
   "version": "3.6.7"
  }
 },
 "nbformat": 4,
 "nbformat_minor": 2
}
