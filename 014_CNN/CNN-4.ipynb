{
 "cells": [
  {
   "cell_type": "code",
   "execution_count": 1,
   "metadata": {},
   "outputs": [],
   "source": [
    "# CNNで 「文字画像データセット（平仮名73文字版）」 を予測\n",
    "# 前回出力した特徴量、正解を読み込んで開始"
   ]
  },
  {
   "cell_type": "code",
   "execution_count": 55,
   "metadata": {},
   "outputs": [],
   "source": [
    "import numpy as np\n",
    "import pandas as pd\n",
    "\n",
    "import matplotlib\n",
    "import matplotlib.pyplot as plt\n",
    "%matplotlib inline\n",
    "\n",
    "from sklearn.preprocessing import LabelEncoder\n",
    "from sklearn.model_selection import train_test_split\n",
    "from sklearn.metrics import confusion_matrix, accuracy_score\n",
    "\n",
    "import keras as ks\n",
    "from keras.models import Sequential\n",
    "from keras.layers import Dense, Dropout, Flatten, Conv2D, MaxPooling2D\n",
    "from keras.utils import np_utils\n",
    "from keras.callbacks import EarlyStopping\n",
    "\n",
    "import os\n",
    "import glob\n",
    "\n",
    "import cv2\n"
   ]
  },
  {
   "cell_type": "code",
   "execution_count": 4,
   "metadata": {},
   "outputs": [],
   "source": [
    "path = './dataset/hiragana73/'\n",
    "\n",
    "# charfeatures.npy から入力\n",
    "charfeatures_load = np.load(path + 'charfeatures.npy')"
   ]
  },
  {
   "cell_type": "code",
   "execution_count": 5,
   "metadata": {},
   "outputs": [
    {
     "data": {
      "text/plain": [
       "(80000, 2304)"
      ]
     },
     "execution_count": 5,
     "metadata": {},
     "output_type": "execute_result"
    }
   ],
   "source": [
    "charfeatures_load.shape"
   ]
  },
  {
   "cell_type": "code",
   "execution_count": 6,
   "metadata": {},
   "outputs": [],
   "source": [
    "# files_df.csv 読み込み\n",
    "files_df_load = pd.read_csv(path + 'files_df.csv')"
   ]
  },
  {
   "cell_type": "code",
   "execution_count": 7,
   "metadata": {},
   "outputs": [
    {
     "data": {
      "text/html": [
       "<div>\n",
       "<style scoped>\n",
       "    .dataframe tbody tr th:only-of-type {\n",
       "        vertical-align: middle;\n",
       "    }\n",
       "\n",
       "    .dataframe tbody tr th {\n",
       "        vertical-align: top;\n",
       "    }\n",
       "\n",
       "    .dataframe thead th {\n",
       "        text-align: right;\n",
       "    }\n",
       "</style>\n",
       "<table border=\"1\" class=\"dataframe\">\n",
       "  <thead>\n",
       "    <tr style=\"text-align: right;\">\n",
       "      <th></th>\n",
       "      <th>Image</th>\n",
       "      <th>Labels</th>\n",
       "    </tr>\n",
       "  </thead>\n",
       "  <tbody>\n",
       "    <tr>\n",
       "      <th>0</th>\n",
       "      <td>./dataset/hiragana73/U306F\\1929_1452973_0089.png</td>\n",
       "      <td>は</td>\n",
       "    </tr>\n",
       "    <tr>\n",
       "      <th>1</th>\n",
       "      <td>./dataset/hiragana73/U306D\\1914_908938_0044.png</td>\n",
       "      <td>ね</td>\n",
       "    </tr>\n",
       "    <tr>\n",
       "      <th>2</th>\n",
       "      <td>./dataset/hiragana73/U308F\\1926_938757_0025.png</td>\n",
       "      <td>わ</td>\n",
       "    </tr>\n",
       "    <tr>\n",
       "      <th>3</th>\n",
       "      <td>./dataset/hiragana73/U308B\\1918_1210785_0064.png</td>\n",
       "      <td>る</td>\n",
       "    </tr>\n",
       "    <tr>\n",
       "      <th>4</th>\n",
       "      <td>./dataset/hiragana73/U306F\\1914_1239432_0055.png</td>\n",
       "      <td>は</td>\n",
       "    </tr>\n",
       "  </tbody>\n",
       "</table>\n",
       "</div>"
      ],
      "text/plain": [
       "                                              Image Labels\n",
       "0  ./dataset/hiragana73/U306F\\1929_1452973_0089.png      は\n",
       "1   ./dataset/hiragana73/U306D\\1914_908938_0044.png      ね\n",
       "2   ./dataset/hiragana73/U308F\\1926_938757_0025.png      わ\n",
       "3  ./dataset/hiragana73/U308B\\1918_1210785_0064.png      る\n",
       "4  ./dataset/hiragana73/U306F\\1914_1239432_0055.png      は"
      ]
     },
     "execution_count": 7,
     "metadata": {},
     "output_type": "execute_result"
    }
   ],
   "source": [
    "files_df_load.head()"
   ]
  },
  {
   "cell_type": "code",
   "execution_count": 8,
   "metadata": {},
   "outputs": [
    {
     "data": {
      "text/html": [
       "<div>\n",
       "<style scoped>\n",
       "    .dataframe tbody tr th:only-of-type {\n",
       "        vertical-align: middle;\n",
       "    }\n",
       "\n",
       "    .dataframe tbody tr th {\n",
       "        vertical-align: top;\n",
       "    }\n",
       "\n",
       "    .dataframe thead th {\n",
       "        text-align: right;\n",
       "    }\n",
       "</style>\n",
       "<table border=\"1\" class=\"dataframe\">\n",
       "  <thead>\n",
       "    <tr style=\"text-align: right;\">\n",
       "      <th></th>\n",
       "      <th>Image</th>\n",
       "      <th>Labels</th>\n",
       "    </tr>\n",
       "  </thead>\n",
       "  <tbody>\n",
       "    <tr>\n",
       "      <th>count</th>\n",
       "      <td>80000</td>\n",
       "      <td>80000</td>\n",
       "    </tr>\n",
       "    <tr>\n",
       "      <th>unique</th>\n",
       "      <td>80000</td>\n",
       "      <td>73</td>\n",
       "    </tr>\n",
       "    <tr>\n",
       "      <th>top</th>\n",
       "      <td>./dataset/hiragana73/U306C\\1912_899565_0170.png</td>\n",
       "      <td>し</td>\n",
       "    </tr>\n",
       "    <tr>\n",
       "      <th>freq</th>\n",
       "      <td>1</td>\n",
       "      <td>1285</td>\n",
       "    </tr>\n",
       "  </tbody>\n",
       "</table>\n",
       "</div>"
      ],
      "text/plain": [
       "                                                  Image Labels\n",
       "count                                             80000  80000\n",
       "unique                                            80000     73\n",
       "top     ./dataset/hiragana73/U306C\\1912_899565_0170.png      し\n",
       "freq                                                  1   1285"
      ]
     },
     "execution_count": 8,
     "metadata": {},
     "output_type": "execute_result"
    }
   ],
   "source": [
    "files_df_load.describe()"
   ]
  },
  {
   "cell_type": "code",
   "execution_count": 10,
   "metadata": {},
   "outputs": [
    {
     "data": {
      "text/plain": [
       "(160000, (80000, 2))"
      ]
     },
     "execution_count": 10,
     "metadata": {},
     "output_type": "execute_result"
    }
   ],
   "source": [
    "files_df_load.size, files_df_load.shape"
   ]
  },
  {
   "cell_type": "code",
   "execution_count": 11,
   "metadata": {},
   "outputs": [],
   "source": [
    "# ターゲット\n",
    "y = files_df_load['Labels']"
   ]
  },
  {
   "cell_type": "code",
   "execution_count": 12,
   "metadata": {},
   "outputs": [
    {
     "data": {
      "text/plain": [
       "し    1285\n",
       "そ    1285\n",
       "や    1285\n",
       "ん    1285\n",
       "ま    1285\n",
       "ふ    1285\n",
       "た    1285\n",
       "わ    1283\n",
       "お    1283\n",
       "す    1282\n",
       "ゆ    1282\n",
       "く    1266\n",
       "さ    1261\n",
       "に    1260\n",
       "か    1259\n",
       "を    1254\n",
       "は    1247\n",
       "り    1244\n",
       "れ    1238\n",
       "な    1233\n",
       "め    1233\n",
       "て    1213\n",
       "あ    1208\n",
       "が    1200\n",
       "る    1190\n",
       "も    1187\n",
       "と    1184\n",
       "で    1178\n",
       "よ    1166\n",
       "せ    1165\n",
       "     ... \n",
       "ぜ    1115\n",
       "こ    1115\n",
       "へ    1114\n",
       "ら    1114\n",
       "べ    1109\n",
       "ば    1105\n",
       "じ    1099\n",
       "ぬ    1093\n",
       "ぎ    1091\n",
       "づ    1080\n",
       "ご    1078\n",
       "え    1077\n",
       "ひ    1074\n",
       "ざ    1070\n",
       "ろ    1069\n",
       "ぞ    1066\n",
       "げ    1058\n",
       "む    1058\n",
       "ゐ    1053\n",
       "ち    1052\n",
       "ず    1046\n",
       "び    1045\n",
       "ぼ    1044\n",
       "ぐ    1043\n",
       "ゑ    1030\n",
       "ぺ     268\n",
       "ぱ     262\n",
       "ぽ     261\n",
       "ぴ     126\n",
       "ぷ     112\n",
       "Name: Labels, Length: 73, dtype: int64"
      ]
     },
     "execution_count": 12,
     "metadata": {},
     "output_type": "execute_result"
    }
   ],
   "source": [
    "y.value_counts()"
   ]
  },
  {
   "cell_type": "code",
   "execution_count": 13,
   "metadata": {},
   "outputs": [
    {
     "data": {
      "text/plain": [
       "LabelEncoder()"
      ]
     },
     "execution_count": 13,
     "metadata": {},
     "output_type": "execute_result"
    }
   ],
   "source": [
    "# ターゲットの平仮名を数値に変換\n",
    "encoder = LabelEncoder()\n",
    "\n",
    "encoder.fit(y)"
   ]
  },
  {
   "cell_type": "code",
   "execution_count": 14,
   "metadata": {},
   "outputs": [
    {
     "data": {
      "text/plain": [
       "array(['あ', 'い', 'う', 'え', 'お', 'か', 'が', 'き', 'ぎ', 'く', 'ぐ', 'け', 'げ',\n",
       "       'こ', 'ご', 'さ', 'ざ', 'し', 'じ', 'す', 'ず', 'せ', 'ぜ', 'そ', 'ぞ', 'た',\n",
       "       'だ', 'ち', 'ぢ', 'つ', 'づ', 'て', 'で', 'と', 'ど', 'な', 'に', 'ぬ', 'ね',\n",
       "       'の', 'は', 'ば', 'ぱ', 'ひ', 'び', 'ぴ', 'ふ', 'ぶ', 'ぷ', 'へ', 'べ', 'ぺ',\n",
       "       'ほ', 'ぼ', 'ぽ', 'ま', 'み', 'む', 'め', 'も', 'や', 'ゆ', 'よ', 'ら', 'り',\n",
       "       'る', 'れ', 'ろ', 'わ', 'ゐ', 'ゑ', 'を', 'ん'], dtype=object)"
      ]
     },
     "execution_count": 14,
     "metadata": {},
     "output_type": "execute_result"
    }
   ],
   "source": [
    "encoder.classes_"
   ]
  },
  {
   "cell_type": "code",
   "execution_count": 15,
   "metadata": {},
   "outputs": [],
   "source": [
    "# 平仮名と数字を辞書型にする\n",
    "encoder_character_mapping = dict(zip(encoder.classes_, encoder.transform(encoder.classes_)))"
   ]
  },
  {
   "cell_type": "code",
   "execution_count": 17,
   "metadata": {},
   "outputs": [
    {
     "name": "stdout",
     "output_type": "stream",
     "text": [
      "{'あ': 0, 'い': 1, 'う': 2, 'え': 3, 'お': 4, 'か': 5, 'が': 6, 'き': 7, 'ぎ': 8, 'く': 9, 'ぐ': 10, 'け': 11, 'げ': 12, 'こ': 13, 'ご': 14, 'さ': 15, 'ざ': 16, 'し': 17, 'じ': 18, 'す': 19, 'ず': 20, 'せ': 21, 'ぜ': 22, 'そ': 23, 'ぞ': 24, 'た': 25, 'だ': 26, 'ち': 27, 'ぢ': 28, 'つ': 29, 'づ': 30, 'て': 31, 'で': 32, 'と': 33, 'ど': 34, 'な': 35, 'に': 36, 'ぬ': 37, 'ね': 38, 'の': 39, 'は': 40, 'ば': 41, 'ぱ': 42, 'ひ': 43, 'び': 44, 'ぴ': 45, 'ふ': 46, 'ぶ': 47, 'ぷ': 48, 'へ': 49, 'べ': 50, 'ぺ': 51, 'ほ': 52, 'ぼ': 53, 'ぽ': 54, 'ま': 55, 'み': 56, 'む': 57, 'め': 58, 'も': 59, 'や': 60, 'ゆ': 61, 'よ': 62, 'ら': 63, 'り': 64, 'る': 65, 'れ': 66, 'ろ': 67, 'わ': 68, 'ゐ': 69, 'ゑ': 70, 'を': 71, 'ん': 72}\n"
     ]
    }
   ],
   "source": [
    "print(encoder_character_mapping)"
   ]
  },
  {
   "cell_type": "code",
   "execution_count": 18,
   "metadata": {},
   "outputs": [
    {
     "name": "stdout",
     "output_type": "stream",
     "text": [
      "---------平仮名---------\n"
     ]
    },
    {
     "data": {
      "text/plain": [
       "0    は\n",
       "1    ね\n",
       "2    わ\n",
       "3    る\n",
       "4    は\n",
       "Name: Labels, dtype: object"
      ]
     },
     "execution_count": 18,
     "metadata": {},
     "output_type": "execute_result"
    }
   ],
   "source": [
    "# 平仮名\n",
    "print('---------平仮名---------')\n",
    "y[:5]"
   ]
  },
  {
   "cell_type": "code",
   "execution_count": 19,
   "metadata": {},
   "outputs": [
    {
     "name": "stdout",
     "output_type": "stream",
     "text": [
      "---------数値---------\n"
     ]
    },
    {
     "data": {
      "text/plain": [
       "array([40, 38, 68, 65, 40])"
      ]
     },
     "execution_count": 19,
     "metadata": {},
     "output_type": "execute_result"
    }
   ],
   "source": [
    "# 変換した数値\n",
    "y_encoder = encoder.transform(y)\n",
    "\n",
    "print('---------数値---------')\n",
    "y_encoder[:5]"
   ]
  },
  {
   "cell_type": "code",
   "execution_count": 20,
   "metadata": {},
   "outputs": [
    {
     "data": {
      "text/plain": [
       "40"
      ]
     },
     "execution_count": 20,
     "metadata": {},
     "output_type": "execute_result"
    }
   ],
   "source": [
    "# エンコードした値での確認\n",
    "encoder_character_mapping['は']"
   ]
  },
  {
   "cell_type": "code",
   "execution_count": 22,
   "metadata": {},
   "outputs": [],
   "source": [
    "# 訓練データとテストデータに分割\n",
    "X_train, X_test, y_train, y_tset = train_test_split(charfeatures_load, y_encoder, train_size=10000, test_size=10000, random_state=42)"
   ]
  },
  {
   "cell_type": "code",
   "execution_count": 24,
   "metadata": {},
   "outputs": [
    {
     "data": {
      "text/plain": [
       "((10000, 2304), (10000,), (10000, 2304), (10000,))"
      ]
     },
     "execution_count": 24,
     "metadata": {},
     "output_type": "execute_result"
    }
   ],
   "source": [
    "X_train.shape, y_train.shape, X_test.shape, y_tset.shape"
   ]
  },
  {
   "cell_type": "code",
   "execution_count": 25,
   "metadata": {},
   "outputs": [],
   "source": [
    "# 特徴量の正規化\n",
    "# 割れないので float に変換」\n",
    "X_train = X_train.astype('float32')\n",
    "X_test = X_test.astype('float32')\n",
    "\n",
    "# 正規化\n",
    "X_train /= 255\n",
    "X_test /= 255"
   ]
  },
  {
   "cell_type": "code",
   "execution_count": 26,
   "metadata": {},
   "outputs": [],
   "source": [
    "# 形式変更\n",
    "# バッチサイズ、(h 48) * (w 48) * (1 channel)\n",
    "X_train = X_train.reshape(X_train.shape[0], 48, 48, 1)\n",
    "X_test = X_test.reshape(X_test.shape[0], 48, 48, 1)"
   ]
  },
  {
   "cell_type": "code",
   "execution_count": 28,
   "metadata": {},
   "outputs": [
    {
     "data": {
      "text/plain": [
       "((10000, 48, 48, 1), (10000, 48, 48, 1))"
      ]
     },
     "execution_count": 28,
     "metadata": {},
     "output_type": "execute_result"
    }
   ],
   "source": [
    "X_train.shape, X_test.shape"
   ]
  },
  {
   "cell_type": "code",
   "execution_count": 34,
   "metadata": {},
   "outputs": [
    {
     "data": {
      "text/plain": [
       "73"
      ]
     },
     "execution_count": 34,
     "metadata": {},
     "output_type": "execute_result"
    }
   ],
   "source": [
    "np.unique(y_train).size"
   ]
  },
  {
   "cell_type": "code",
   "execution_count": 36,
   "metadata": {},
   "outputs": [],
   "source": [
    "y_eval = y_tset.copy()"
   ]
  },
  {
   "cell_type": "code",
   "execution_count": 37,
   "metadata": {},
   "outputs": [],
   "source": [
    "# カテゴリカル変数に変換\n",
    "y_train = np_utils.to_categorical(y_train, np.unique(y_train).size)\n",
    "y_tset = np_utils.to_categorical(y_tset, np.unique(y_tset).size)"
   ]
  },
  {
   "cell_type": "code",
   "execution_count": 40,
   "metadata": {},
   "outputs": [
    {
     "data": {
      "text/plain": [
       "array([0., 0., 0., 0., 0., 0., 0., 0., 0., 0., 0., 0., 0., 0., 0., 0., 0.,\n",
       "       0., 0., 1., 0., 0., 0., 0., 0., 0., 0., 0., 0., 0., 0., 0., 0., 0.,\n",
       "       0., 0., 0., 0., 0., 0., 0., 0., 0., 0., 0., 0., 0., 0., 0., 0., 0.,\n",
       "       0., 0., 0., 0., 0., 0., 0., 0., 0., 0., 0., 0., 0., 0., 0., 0., 0.,\n",
       "       0., 0., 0., 0., 0.], dtype=float32)"
      ]
     },
     "execution_count": 40,
     "metadata": {},
     "output_type": "execute_result"
    }
   ],
   "source": [
    "y_tset[0]"
   ]
  },
  {
   "cell_type": "code",
   "execution_count": 39,
   "metadata": {},
   "outputs": [
    {
     "data": {
      "text/plain": [
       "19"
      ]
     },
     "execution_count": 39,
     "metadata": {},
     "output_type": "execute_result"
    }
   ],
   "source": [
    "y_eval[0]"
   ]
  },
  {
   "cell_type": "code",
   "execution_count": 43,
   "metadata": {},
   "outputs": [
    {
     "data": {
      "text/plain": [
       "19"
      ]
     },
     "execution_count": 43,
     "metadata": {},
     "output_type": "execute_result"
    }
   ],
   "source": [
    "np.argmax(y_tset[0])"
   ]
  },
  {
   "cell_type": "code",
   "execution_count": 45,
   "metadata": {},
   "outputs": [
    {
     "data": {
      "text/plain": [
       "array([19, 52, 27, 63, 18], dtype=int64)"
      ]
     },
     "execution_count": 45,
     "metadata": {},
     "output_type": "execute_result"
    }
   ],
   "source": [
    "np.argmax(y_tset[:5], axis=1)"
   ]
  },
  {
   "cell_type": "code",
   "execution_count": 46,
   "metadata": {},
   "outputs": [
    {
     "name": "stdout",
     "output_type": "stream",
     "text": [
      "WARNING:tensorflow:From C:\\Users\\owner\\Anaconda3\\lib\\site-packages\\tensorflow\\python\\ops\\resource_variable_ops.py:435: colocate_with (from tensorflow.python.framework.ops) is deprecated and will be removed in a future version.\n",
      "Instructions for updating:\n",
      "Colocations handled automatically by placer.\n"
     ]
    }
   ],
   "source": [
    "# model_1\n",
    "model_1 = Sequential()\n",
    "\n",
    "# 入力層、畳み込み層\n",
    "model_1.add(Conv2D(32, kernel_size=(3, 3),\n",
    "                  activation='relu',\n",
    "                  input_shape=(48, 48, 1)))"
   ]
  },
  {
   "cell_type": "code",
   "execution_count": 47,
   "metadata": {},
   "outputs": [],
   "source": [
    "# プール層\n",
    "model_1.add(MaxPooling2D(pool_size=(2, 2)))"
   ]
  },
  {
   "cell_type": "code",
   "execution_count": 50,
   "metadata": {},
   "outputs": [],
   "source": [
    "# 畳み込み層とプール層\n",
    "model_1.add(Conv2D(64, kernel_size=(3, 3), activation='relu'))\n",
    "\n",
    "model_1.add(MaxPooling2D(pool_size=(2, 2)))"
   ]
  },
  {
   "cell_type": "code",
   "execution_count": 51,
   "metadata": {},
   "outputs": [],
   "source": [
    "# 全結合層、出力層\n",
    "model_1.add(Flatten())\n",
    "\n",
    "model_1.add(Dense(128, activation='relu'))\n",
    "\n",
    "model_1.add(Dense(73, activation='softmax'))"
   ]
  },
  {
   "cell_type": "code",
   "execution_count": 53,
   "metadata": {},
   "outputs": [],
   "source": [
    "# モデルコンパイル\n",
    "model_1.compile(loss='categorical_crossentropy',\n",
    "               optimizer='sgd',\n",
    "               metrics=['accuracy'])"
   ]
  },
  {
   "cell_type": "code",
   "execution_count": 54,
   "metadata": {},
   "outputs": [
    {
     "name": "stdout",
     "output_type": "stream",
     "text": [
      "Model: \"sequential_1\"\n",
      "_________________________________________________________________\n",
      "Layer (type)                 Output Shape              Param #   \n",
      "=================================================================\n",
      "conv2d_1 (Conv2D)            (None, 46, 46, 32)        320       \n",
      "_________________________________________________________________\n",
      "max_pooling2d_1 (MaxPooling2 (None, 23, 23, 32)        0         \n",
      "_________________________________________________________________\n",
      "conv2d_2 (Conv2D)            (None, 21, 21, 64)        18496     \n",
      "_________________________________________________________________\n",
      "max_pooling2d_2 (MaxPooling2 (None, 10, 10, 64)        0         \n",
      "_________________________________________________________________\n",
      "flatten_1 (Flatten)          (None, 6400)              0         \n",
      "_________________________________________________________________\n",
      "dense_1 (Dense)              (None, 128)               819328    \n",
      "_________________________________________________________________\n",
      "dense_2 (Dense)              (None, 73)                9417      \n",
      "=================================================================\n",
      "Total params: 847,561\n",
      "Trainable params: 847,561\n",
      "Non-trainable params: 0\n",
      "_________________________________________________________________\n"
     ]
    }
   ],
   "source": [
    "model_1.summary()"
   ]
  },
  {
   "cell_type": "code",
   "execution_count": 56,
   "metadata": {},
   "outputs": [],
   "source": [
    "# EarkyStopping の設定\n",
    "callbacks = EarlyStopping(monitor='val_loss', patience=3)"
   ]
  },
  {
   "cell_type": "code",
   "execution_count": 57,
   "metadata": {},
   "outputs": [
    {
     "name": "stdout",
     "output_type": "stream",
     "text": [
      "WARNING:tensorflow:From C:\\Users\\owner\\Anaconda3\\lib\\site-packages\\tensorflow\\python\\ops\\math_ops.py:3066: to_int32 (from tensorflow.python.ops.math_ops) is deprecated and will be removed in a future version.\n",
      "Instructions for updating:\n",
      "Use tf.cast instead.\n",
      "Train on 10000 samples, validate on 10000 samples\n",
      "Epoch 1/50\n",
      "10000/10000 [==============================] - 31s 3ms/step - loss: 4.2603 - accuracy: 0.0255 - val_loss: 4.2234 - val_accuracy: 0.0361\n",
      "Epoch 2/50\n",
      "10000/10000 [==============================] - 26s 3ms/step - loss: 3.9925 - accuracy: 0.1032 - val_loss: 4.0200 - val_accuracy: 0.0558\n",
      "Epoch 3/50\n",
      "10000/10000 [==============================] - 26s 3ms/step - loss: 2.0778 - accuracy: 0.5016 - val_loss: 1.0191 - val_accuracy: 0.7368\n",
      "Epoch 4/50\n",
      "10000/10000 [==============================] - 26s 3ms/step - loss: 0.5810 - accuracy: 0.8725 - val_loss: 0.4858 - val_accuracy: 0.8778\n",
      "Epoch 5/50\n",
      "10000/10000 [==============================] - 26s 3ms/step - loss: 0.3342 - accuracy: 0.9240 - val_loss: 0.3463 - val_accuracy: 0.9160\n",
      "Epoch 6/50\n",
      "10000/10000 [==============================] - 26s 3ms/step - loss: 0.2417 - accuracy: 0.9445 - val_loss: 0.3149 - val_accuracy: 0.9206\n",
      "Epoch 7/50\n",
      "10000/10000 [==============================] - 26s 3ms/step - loss: 0.1869 - accuracy: 0.9553 - val_loss: 0.3302 - val_accuracy: 0.9214\n",
      "Epoch 8/50\n",
      "10000/10000 [==============================] - 26s 3ms/step - loss: 0.1553 - accuracy: 0.9631 - val_loss: 0.2619 - val_accuracy: 0.9339\n",
      "Epoch 9/50\n",
      "10000/10000 [==============================] - 26s 3ms/step - loss: 0.1334 - accuracy: 0.9683 - val_loss: 0.2081 - val_accuracy: 0.9530\n",
      "Epoch 10/50\n",
      "10000/10000 [==============================] - 26s 3ms/step - loss: 0.1089 - accuracy: 0.9734 - val_loss: 0.2643 - val_accuracy: 0.9403\n",
      "Epoch 11/50\n",
      "10000/10000 [==============================] - 26s 3ms/step - loss: 0.0966 - accuracy: 0.9750 - val_loss: 0.2480 - val_accuracy: 0.9435\n",
      "Epoch 12/50\n",
      "10000/10000 [==============================] - 26s 3ms/step - loss: 0.0833 - accuracy: 0.9812 - val_loss: 0.2121 - val_accuracy: 0.9502\n"
     ]
    },
    {
     "data": {
      "text/plain": [
       "<keras.callbacks.callbacks.History at 0x23554653588>"
      ]
     },
     "execution_count": 57,
     "metadata": {},
     "output_type": "execute_result"
    }
   ],
   "source": [
    "# モデル１で訓練\n",
    "model_1.fit(X_train, y_train, validation_data=(X_test, y_tset), callbacks=[callbacks], epochs=50)"
   ]
  },
  {
   "cell_type": "code",
   "execution_count": 58,
   "metadata": {},
   "outputs": [],
   "source": [
    "# テストデータで予測\n",
    "pred_test_1 = model_1.predict_classes(X_test)"
   ]
  },
  {
   "cell_type": "code",
   "execution_count": 59,
   "metadata": {},
   "outputs": [
    {
     "data": {
      "text/plain": [
       "array([19, 52, 27, 63, 18], dtype=int64)"
      ]
     },
     "execution_count": 59,
     "metadata": {},
     "output_type": "execute_result"
    }
   ],
   "source": [
    "pred_test_1[:5]"
   ]
  },
  {
   "cell_type": "code",
   "execution_count": 60,
   "metadata": {},
   "outputs": [
    {
     "data": {
      "text/plain": [
       "0.9502"
      ]
     },
     "execution_count": 60,
     "metadata": {},
     "output_type": "execute_result"
    }
   ],
   "source": [
    "accuracy_score(y_eval, pred_test_1)"
   ]
  },
  {
   "cell_type": "code",
   "execution_count": 64,
   "metadata": {},
   "outputs": [],
   "source": [
    "# モデル２\n",
    "model_2 = Sequential()\n",
    "\n",
    "# 畳み込み層\n",
    "model_2.add(Conv2D(32, kernel_size=(3, 3), \n",
    "                  activation='relu',\n",
    "                  input_shape=(48, 48, 1)))\n",
    "# プール層\n",
    "model_2.add(MaxPooling2D(pool_size=(2, 2)))\n",
    "# ドロップアウト\n",
    "model_2.add(Dropout(0.25))\n",
    "\n",
    "# 畳み込み層\n",
    "model_2.add(Conv2D(64, kernel_size=(3, 3), \n",
    "                  activation='relu'))\n",
    "# プール層\n",
    "model_2.add(MaxPooling2D(pool_size=(2, 2)))\n",
    "# ドロップアウト\n",
    "model_2.add(Dropout(0.25))\n",
    "\n",
    "# 全結合層\n",
    "model_2.add(Flatten())\n",
    "model_2.add(Dense(128, activation='relu'))\n",
    "model_2.add(Dense(73, activation='softmax'))\n"
   ]
  },
  {
   "cell_type": "code",
   "execution_count": 66,
   "metadata": {},
   "outputs": [],
   "source": [
    "# モデルコンパイル\n",
    "model_2.compile(loss='categorical_crossentropy',\n",
    "              optimizer='sgd',\n",
    "              metrics=['accuracy'])"
   ]
  },
  {
   "cell_type": "code",
   "execution_count": 67,
   "metadata": {},
   "outputs": [
    {
     "name": "stdout",
     "output_type": "stream",
     "text": [
      "Model: \"sequential_2\"\n",
      "_________________________________________________________________\n",
      "Layer (type)                 Output Shape              Param #   \n",
      "=================================================================\n",
      "conv2d_3 (Conv2D)            (None, 46, 46, 32)        320       \n",
      "_________________________________________________________________\n",
      "max_pooling2d_3 (MaxPooling2 (None, 23, 23, 32)        0         \n",
      "_________________________________________________________________\n",
      "dropout_1 (Dropout)          (None, 23, 23, 32)        0         \n",
      "_________________________________________________________________\n",
      "conv2d_4 (Conv2D)            (None, 21, 21, 64)        18496     \n",
      "_________________________________________________________________\n",
      "max_pooling2d_4 (MaxPooling2 (None, 10, 10, 64)        0         \n",
      "_________________________________________________________________\n",
      "dropout_2 (Dropout)          (None, 10, 10, 64)        0         \n",
      "_________________________________________________________________\n",
      "flatten_2 (Flatten)          (None, 6400)              0         \n",
      "_________________________________________________________________\n",
      "dense_3 (Dense)              (None, 128)               819328    \n",
      "_________________________________________________________________\n",
      "dense_4 (Dense)              (None, 73)                9417      \n",
      "=================================================================\n",
      "Total params: 847,561\n",
      "Trainable params: 847,561\n",
      "Non-trainable params: 0\n",
      "_________________________________________________________________\n"
     ]
    }
   ],
   "source": [
    "model_2.summary()"
   ]
  },
  {
   "cell_type": "code",
   "execution_count": 68,
   "metadata": {},
   "outputs": [
    {
     "name": "stdout",
     "output_type": "stream",
     "text": [
      "Train on 10000 samples, validate on 10000 samples\n",
      "Epoch 1/50\n",
      "10000/10000 [==============================] - 35s 4ms/step - loss: 4.2629 - accuracy: 0.0209 - val_loss: 4.2459 - val_accuracy: 0.0344\n",
      "Epoch 2/50\n",
      "10000/10000 [==============================] - 32s 3ms/step - loss: 4.0988 - accuracy: 0.0589 - val_loss: 3.8901 - val_accuracy: 0.0890\n",
      "Epoch 3/50\n",
      "10000/10000 [==============================] - 31s 3ms/step - loss: 2.8804 - accuracy: 0.2926 - val_loss: 2.1039 - val_accuracy: 0.4416\n",
      "Epoch 4/50\n",
      "10000/10000 [==============================] - 31s 3ms/step - loss: 1.0708 - accuracy: 0.7240 - val_loss: 0.8195 - val_accuracy: 0.7921\n",
      "Epoch 5/50\n",
      "10000/10000 [==============================] - 32s 3ms/step - loss: 0.5654 - accuracy: 0.8618 - val_loss: 0.4723 - val_accuracy: 0.9011\n",
      "Epoch 6/50\n",
      "10000/10000 [==============================] - 32s 3ms/step - loss: 0.4399 - accuracy: 0.8879 - val_loss: 0.4427 - val_accuracy: 0.8970\n",
      "Epoch 7/50\n",
      "10000/10000 [==============================] - 31s 3ms/step - loss: 0.3549 - accuracy: 0.9105 - val_loss: 0.3612 - val_accuracy: 0.9179\n",
      "Epoch 8/50\n",
      "10000/10000 [==============================] - 31s 3ms/step - loss: 0.3101 - accuracy: 0.9208 - val_loss: 0.3536 - val_accuracy: 0.9160\n",
      "Epoch 9/50\n",
      "10000/10000 [==============================] - 32s 3ms/step - loss: 0.2740 - accuracy: 0.9287 - val_loss: 0.2734 - val_accuracy: 0.9428\n",
      "Epoch 10/50\n",
      "10000/10000 [==============================] - 35s 3ms/step - loss: 0.2466 - accuracy: 0.9382 - val_loss: 0.2666 - val_accuracy: 0.9431\n",
      "Epoch 11/50\n",
      "10000/10000 [==============================] - 32s 3ms/step - loss: 0.2263 - accuracy: 0.9414 - val_loss: 0.2768 - val_accuracy: 0.9361\n",
      "Epoch 12/50\n",
      "10000/10000 [==============================] - 32s 3ms/step - loss: 0.2113 - accuracy: 0.9436 - val_loss: 0.2473 - val_accuracy: 0.9472\n",
      "Epoch 13/50\n",
      "10000/10000 [==============================] - 31s 3ms/step - loss: 0.1868 - accuracy: 0.9499 - val_loss: 0.2504 - val_accuracy: 0.9432\n",
      "Epoch 14/50\n",
      "10000/10000 [==============================] - 33s 3ms/step - loss: 0.1805 - accuracy: 0.9535 - val_loss: 0.2420 - val_accuracy: 0.9442\n",
      "Epoch 15/50\n",
      "10000/10000 [==============================] - 33s 3ms/step - loss: 0.1704 - accuracy: 0.9545 - val_loss: 0.2472 - val_accuracy: 0.9401\n",
      "Epoch 16/50\n",
      "10000/10000 [==============================] - 32s 3ms/step - loss: 0.1574 - accuracy: 0.9556 - val_loss: 0.2178 - val_accuracy: 0.9526\n",
      "Epoch 17/50\n",
      "10000/10000 [==============================] - 33s 3ms/step - loss: 0.1472 - accuracy: 0.9599 - val_loss: 0.2124 - val_accuracy: 0.9538\n",
      "Epoch 18/50\n",
      "10000/10000 [==============================] - 34s 3ms/step - loss: 0.1349 - accuracy: 0.9631 - val_loss: 0.2069 - val_accuracy: 0.9560\n",
      "Epoch 19/50\n",
      "10000/10000 [==============================] - 34s 3ms/step - loss: 0.1276 - accuracy: 0.9626 - val_loss: 0.2558 - val_accuracy: 0.9400\n",
      "Epoch 20/50\n",
      "10000/10000 [==============================] - 31s 3ms/step - loss: 0.1276 - accuracy: 0.9632 - val_loss: 0.2081 - val_accuracy: 0.9535\n",
      "Epoch 21/50\n",
      "10000/10000 [==============================] - 32s 3ms/step - loss: 0.1155 - accuracy: 0.9658 - val_loss: 0.2093 - val_accuracy: 0.9522\n"
     ]
    },
    {
     "data": {
      "text/plain": [
       "<keras.callbacks.callbacks.History at 0x23559cf4978>"
      ]
     },
     "execution_count": 68,
     "metadata": {},
     "output_type": "execute_result"
    }
   ],
   "source": [
    "# モデル２で訓練\n",
    "model_2.fit(X_train, y_train, validation_data=(X_test, y_tset), callbacks=[callbacks], epochs=50)"
   ]
  },
  {
   "cell_type": "code",
   "execution_count": 69,
   "metadata": {},
   "outputs": [],
   "source": [
    "# テストデータで予測\n",
    "pred_test_2 = model_2.predict_classes(X_test)"
   ]
  },
  {
   "cell_type": "code",
   "execution_count": 70,
   "metadata": {},
   "outputs": [
    {
     "data": {
      "text/plain": [
       "array([19, 52, 27, 63, 18], dtype=int64)"
      ]
     },
     "execution_count": 70,
     "metadata": {},
     "output_type": "execute_result"
    }
   ],
   "source": [
    "pred_test_2[:5]"
   ]
  },
  {
   "cell_type": "code",
   "execution_count": 71,
   "metadata": {},
   "outputs": [
    {
     "data": {
      "text/plain": [
       "0.9522"
      ]
     },
     "execution_count": 71,
     "metadata": {},
     "output_type": "execute_result"
    }
   ],
   "source": [
    "accuracy_score(y_eval, pred_test_2)"
   ]
  },
  {
   "cell_type": "code",
   "execution_count": 72,
   "metadata": {},
   "outputs": [],
   "source": [
    "# モデル３\n",
    "model_3 = Sequential()\n",
    "\n",
    "# 畳み込み層\n",
    "model_3.add(Conv2D(32, kernel_size=(3, 3), \n",
    "                  activation='relu',\n",
    "                  input_shape=(48, 48, 1)))\n",
    "# プール層\n",
    "model_3.add(MaxPooling2D(pool_size=(2, 2)))\n",
    "# ドロップアウト\n",
    "model_3.add(Dropout(0.25))\n",
    "\n",
    "# 畳み込み層\n",
    "model_3.add(Conv2D(64, kernel_size=(3, 3), \n",
    "                  activation='relu'))\n",
    "# プール層\n",
    "model_3.add(MaxPooling2D(pool_size=(2, 2)))\n",
    "# ドロップアウト\n",
    "model_3.add(Dropout(0.25))\n",
    "\n",
    "# 畳み込み層\n",
    "model_3.add(Conv2D(128, kernel_size=(3, 3), \n",
    "                  activation='relu'))\n",
    "# プール層\n",
    "model_3.add(MaxPooling2D(pool_size=(2, 2)))\n",
    "# ドロップアウト\n",
    "model_3.add(Dropout(0.25))\n",
    "\n",
    "# 全結合層\n",
    "model_3.add(Flatten())\n",
    "model_3.add(Dense(128, activation='relu'))\n",
    "model_3.add(Dense(73, activation='softmax'))\n"
   ]
  },
  {
   "cell_type": "code",
   "execution_count": 73,
   "metadata": {},
   "outputs": [],
   "source": [
    "# モデルコンパイル\n",
    "model_3.compile(loss='categorical_crossentropy',\n",
    "              optimizer='sgd',\n",
    "              metrics=['accuracy'])"
   ]
  },
  {
   "cell_type": "code",
   "execution_count": 74,
   "metadata": {},
   "outputs": [
    {
     "name": "stdout",
     "output_type": "stream",
     "text": [
      "Model: \"sequential_3\"\n",
      "_________________________________________________________________\n",
      "Layer (type)                 Output Shape              Param #   \n",
      "=================================================================\n",
      "conv2d_5 (Conv2D)            (None, 46, 46, 32)        320       \n",
      "_________________________________________________________________\n",
      "max_pooling2d_5 (MaxPooling2 (None, 23, 23, 32)        0         \n",
      "_________________________________________________________________\n",
      "dropout_3 (Dropout)          (None, 23, 23, 32)        0         \n",
      "_________________________________________________________________\n",
      "conv2d_6 (Conv2D)            (None, 21, 21, 64)        18496     \n",
      "_________________________________________________________________\n",
      "max_pooling2d_6 (MaxPooling2 (None, 10, 10, 64)        0         \n",
      "_________________________________________________________________\n",
      "dropout_4 (Dropout)          (None, 10, 10, 64)        0         \n",
      "_________________________________________________________________\n",
      "conv2d_7 (Conv2D)            (None, 8, 8, 128)         73856     \n",
      "_________________________________________________________________\n",
      "max_pooling2d_7 (MaxPooling2 (None, 4, 4, 128)         0         \n",
      "_________________________________________________________________\n",
      "dropout_5 (Dropout)          (None, 4, 4, 128)         0         \n",
      "_________________________________________________________________\n",
      "flatten_3 (Flatten)          (None, 2048)              0         \n",
      "_________________________________________________________________\n",
      "dense_5 (Dense)              (None, 128)               262272    \n",
      "_________________________________________________________________\n",
      "dense_6 (Dense)              (None, 73)                9417      \n",
      "=================================================================\n",
      "Total params: 364,361\n",
      "Trainable params: 364,361\n",
      "Non-trainable params: 0\n",
      "_________________________________________________________________\n"
     ]
    }
   ],
   "source": [
    "model_3.summary()"
   ]
  },
  {
   "cell_type": "code",
   "execution_count": 75,
   "metadata": {},
   "outputs": [
    {
     "name": "stdout",
     "output_type": "stream",
     "text": [
      "Train on 10000 samples, validate on 10000 samples\n",
      "Epoch 1/50\n",
      "10000/10000 [==============================] - 44s 4ms/step - loss: 4.2828 - accuracy: 0.0164 - val_loss: 4.2774 - val_accuracy: 0.0157\n",
      "Epoch 2/50\n",
      "10000/10000 [==============================] - 40s 4ms/step - loss: 4.2584 - accuracy: 0.0204 - val_loss: 4.2561 - val_accuracy: 0.0157\n",
      "Epoch 3/50\n",
      "10000/10000 [==============================] - 40s 4ms/step - loss: 4.2114 - accuracy: 0.0332 - val_loss: 4.1985 - val_accuracy: 0.0774\n",
      "Epoch 4/50\n",
      "10000/10000 [==============================] - 40s 4ms/step - loss: 3.9420 - accuracy: 0.0842 - val_loss: 3.6175 - val_accuracy: 0.1589\n",
      "Epoch 5/50\n",
      "10000/10000 [==============================] - 43s 4ms/step - loss: 2.3299 - accuracy: 0.4059 - val_loss: 1.3149 - val_accuracy: 0.7241\n",
      "Epoch 6/50\n",
      "10000/10000 [==============================] - 42s 4ms/step - loss: 0.8999 - accuracy: 0.7582 - val_loss: 0.6350 - val_accuracy: 0.8561\n",
      "Epoch 7/50\n",
      "10000/10000 [==============================] - 41s 4ms/step - loss: 0.5595 - accuracy: 0.8477 - val_loss: 0.4230 - val_accuracy: 0.9161\n",
      "Epoch 8/50\n",
      "10000/10000 [==============================] - 40s 4ms/step - loss: 0.4203 - accuracy: 0.8919 - val_loss: 0.3991 - val_accuracy: 0.9120\n",
      "Epoch 9/50\n",
      "10000/10000 [==============================] - 41s 4ms/step - loss: 0.3501 - accuracy: 0.9046 - val_loss: 0.3048 - val_accuracy: 0.9286\n",
      "Epoch 10/50\n",
      "10000/10000 [==============================] - 40s 4ms/step - loss: 0.3020 - accuracy: 0.9200 - val_loss: 0.2959 - val_accuracy: 0.9304\n",
      "Epoch 11/50\n",
      "10000/10000 [==============================] - 40s 4ms/step - loss: 0.2713 - accuracy: 0.9281 - val_loss: 0.2445 - val_accuracy: 0.9479\n",
      "Epoch 12/50\n",
      "10000/10000 [==============================] - 40s 4ms/step - loss: 0.2281 - accuracy: 0.9395 - val_loss: 0.2324 - val_accuracy: 0.9512\n",
      "Epoch 13/50\n",
      "10000/10000 [==============================] - 40s 4ms/step - loss: 0.2128 - accuracy: 0.9410 - val_loss: 0.2335 - val_accuracy: 0.9495\n",
      "Epoch 14/50\n",
      "10000/10000 [==============================] - 40s 4ms/step - loss: 0.1998 - accuracy: 0.9472 - val_loss: 0.2211 - val_accuracy: 0.9475\n",
      "Epoch 15/50\n",
      "10000/10000 [==============================] - 40s 4ms/step - loss: 0.1821 - accuracy: 0.9475 - val_loss: 0.2138 - val_accuracy: 0.9529\n",
      "Epoch 16/50\n",
      "10000/10000 [==============================] - 40s 4ms/step - loss: 0.1783 - accuracy: 0.9499 - val_loss: 0.2266 - val_accuracy: 0.9456\n",
      "Epoch 17/50\n",
      "10000/10000 [==============================] - 40s 4ms/step - loss: 0.1570 - accuracy: 0.9544 - val_loss: 0.1841 - val_accuracy: 0.9601\n",
      "Epoch 18/50\n",
      "10000/10000 [==============================] - 40s 4ms/step - loss: 0.1484 - accuracy: 0.9575 - val_loss: 0.1772 - val_accuracy: 0.9599\n",
      "Epoch 19/50\n",
      "10000/10000 [==============================] - 40s 4ms/step - loss: 0.1408 - accuracy: 0.9595 - val_loss: 0.1848 - val_accuracy: 0.9591\n",
      "Epoch 20/50\n",
      "10000/10000 [==============================] - 40s 4ms/step - loss: 0.1271 - accuracy: 0.9630 - val_loss: 0.1679 - val_accuracy: 0.9638\n",
      "Epoch 21/50\n",
      "10000/10000 [==============================] - 40s 4ms/step - loss: 0.1257 - accuracy: 0.9609 - val_loss: 0.1636 - val_accuracy: 0.9622\n",
      "Epoch 22/50\n",
      "10000/10000 [==============================] - 40s 4ms/step - loss: 0.1146 - accuracy: 0.9658 - val_loss: 0.1781 - val_accuracy: 0.9590\n",
      "Epoch 23/50\n",
      "10000/10000 [==============================] - 40s 4ms/step - loss: 0.1126 - accuracy: 0.9668 - val_loss: 0.1711 - val_accuracy: 0.9614\n",
      "Epoch 24/50\n",
      "10000/10000 [==============================] - 40s 4ms/step - loss: 0.1042 - accuracy: 0.9691 - val_loss: 0.1713 - val_accuracy: 0.9584\n"
     ]
    },
    {
     "data": {
      "text/plain": [
       "<keras.callbacks.callbacks.History at 0x2357bcd2c88>"
      ]
     },
     "execution_count": 75,
     "metadata": {},
     "output_type": "execute_result"
    }
   ],
   "source": [
    "# モデル３で訓練\n",
    "model_3.fit(X_train, y_train, validation_data=(X_test, y_tset), callbacks=[callbacks], epochs=50)"
   ]
  },
  {
   "cell_type": "code",
   "execution_count": 76,
   "metadata": {},
   "outputs": [],
   "source": [
    "# テストデータで予測\n",
    "pred_test_3 = model_3.predict_classes(X_test)"
   ]
  },
  {
   "cell_type": "code",
   "execution_count": 77,
   "metadata": {},
   "outputs": [
    {
     "data": {
      "text/plain": [
       "array([19, 52, 27, 63, 18], dtype=int64)"
      ]
     },
     "execution_count": 77,
     "metadata": {},
     "output_type": "execute_result"
    }
   ],
   "source": [
    "pred_test_3[:5]"
   ]
  },
  {
   "cell_type": "code",
   "execution_count": 78,
   "metadata": {},
   "outputs": [
    {
     "data": {
      "text/plain": [
       "0.9584"
      ]
     },
     "execution_count": 78,
     "metadata": {},
     "output_type": "execute_result"
    }
   ],
   "source": [
    "accuracy_score(y_eval, pred_test_3)"
   ]
  },
  {
   "cell_type": "code",
   "execution_count": null,
   "metadata": {},
   "outputs": [],
   "source": []
  }
 ],
 "metadata": {
  "kernelspec": {
   "display_name": "Python 3",
   "language": "python",
   "name": "python3"
  },
  "language_info": {
   "codemirror_mode": {
    "name": "ipython",
    "version": 3
   },
   "file_extension": ".py",
   "mimetype": "text/x-python",
   "name": "python",
   "nbconvert_exporter": "python",
   "pygments_lexer": "ipython3",
   "version": "3.6.7"
  }
 },
 "nbformat": 4,
 "nbformat_minor": 2
}
