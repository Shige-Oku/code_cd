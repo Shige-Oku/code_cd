{
 "cells": [
  {
   "cell_type": "code",
   "execution_count": 1,
   "metadata": {},
   "outputs": [],
   "source": [
    "# CNNで MNIST を予測"
   ]
  },
  {
   "cell_type": "code",
   "execution_count": 37,
   "metadata": {},
   "outputs": [],
   "source": [
    "import numpy as np\n",
    "import pandas as pd\n",
    "\n",
    "import matplotlib\n",
    "import matplotlib.pyplot as plt\n",
    "%matplotlib inline\n",
    "\n",
    "from sklearn.model_selection import train_test_split\n",
    "from sklearn.model_selection import cross_val_score\n",
    "from sklearn.metrics import confusion_matrix, accuracy_score\n",
    "from sklearn.datasets import fetch_mldata\n",
    "\n",
    "import keras as ks\n",
    "from keras.models import Sequential\n",
    "from keras.layers import Dense, Dropout, Flatten, Conv2D, MaxPooling2D\n",
    "from keras.utils import np_utils\n"
   ]
  },
  {
   "cell_type": "code",
   "execution_count": 2,
   "metadata": {},
   "outputs": [
    {
     "name": "stderr",
     "output_type": "stream",
     "text": [
      "C:\\Users\\owner\\Anaconda3\\lib\\site-packages\\sklearn\\utils\\deprecation.py:77: DeprecationWarning: Function fetch_mldata is deprecated; fetch_mldata was deprecated in version 0.20 and will be removed in version 0.22\n",
      "  warnings.warn(msg, category=DeprecationWarning)\n",
      "C:\\Users\\owner\\Anaconda3\\lib\\site-packages\\sklearn\\utils\\deprecation.py:77: DeprecationWarning: Function mldata_filename is deprecated; mldata_filename was deprecated in version 0.20 and will be removed in version 0.22\n",
      "  warnings.warn(msg, category=DeprecationWarning)\n"
     ]
    }
   ],
   "source": [
    "# MNIST\n",
    "mnist = fetch_mldata('MNIST original', data_home='./dataset/')"
   ]
  },
  {
   "cell_type": "code",
   "execution_count": 3,
   "metadata": {},
   "outputs": [
    {
     "data": {
      "text/plain": [
       "sklearn.utils.Bunch"
      ]
     },
     "execution_count": 3,
     "metadata": {},
     "output_type": "execute_result"
    }
   ],
   "source": [
    "type(mnist)"
   ]
  },
  {
   "cell_type": "code",
   "execution_count": 4,
   "metadata": {},
   "outputs": [],
   "source": [
    "# 特徴量とターゲットに分割\n",
    "X, y = mnist['data'], mnist['target']"
   ]
  },
  {
   "cell_type": "code",
   "execution_count": 20,
   "metadata": {},
   "outputs": [],
   "source": [
    "# 訓練データとテストデータに分割\n",
    "X_train, X_test = train_test_split(X, test_size=.2, random_state=42)\n",
    "y_train, y_test = train_test_split(y, test_size=.2, random_state=42)"
   ]
  },
  {
   "cell_type": "code",
   "execution_count": 21,
   "metadata": {},
   "outputs": [
    {
     "data": {
      "text/plain": [
       "((56000, 784), (14000, 784))"
      ]
     },
     "execution_count": 21,
     "metadata": {},
     "output_type": "execute_result"
    }
   ],
   "source": [
    "X_train.shape, X_test.shape"
   ]
  },
  {
   "cell_type": "code",
   "execution_count": 22,
   "metadata": {},
   "outputs": [],
   "source": [
    "# 訓練データとテストデータを 10,000件に縮小\n",
    "X_train = X_train[:10000]\n",
    "y_train = y_train[:10000]\n",
    "\n",
    "X_test = X_test[:10000]\n",
    "y_test = y_test[:10000]"
   ]
  },
  {
   "cell_type": "code",
   "execution_count": 23,
   "metadata": {},
   "outputs": [
    {
     "data": {
      "text/plain": [
       "((10000, 784), (10000, 784))"
      ]
     },
     "execution_count": 23,
     "metadata": {},
     "output_type": "execute_result"
    }
   ],
   "source": [
    "X_train.shape, X_test.shape"
   ]
  },
  {
   "cell_type": "code",
   "execution_count": 24,
   "metadata": {},
   "outputs": [
    {
     "data": {
      "text/plain": [
       "((10000,), (10000,))"
      ]
     },
     "execution_count": 24,
     "metadata": {},
     "output_type": "execute_result"
    }
   ],
   "source": [
    "y_train.shape, y_test.shape"
   ]
  },
  {
   "cell_type": "code",
   "execution_count": 25,
   "metadata": {},
   "outputs": [],
   "source": [
    "X_train = X_train.astype('float32') / 255\n",
    "X_test = X_test.astype('float32') / 255"
   ]
  },
  {
   "cell_type": "code",
   "execution_count": 26,
   "metadata": {},
   "outputs": [],
   "source": [
    "# データを整形 channels_last = (batch, height, width, channels)"
   ]
  },
  {
   "cell_type": "code",
   "execution_count": 27,
   "metadata": {},
   "outputs": [],
   "source": [
    "X_train = X_train.reshape(X_train.shape[0], 28, 28, 1)\n",
    "X_test = X_test.reshape(X_test.shape[0], 28, 28, 1)"
   ]
  },
  {
   "cell_type": "code",
   "execution_count": 28,
   "metadata": {},
   "outputs": [
    {
     "data": {
      "text/plain": [
       "((10000, 28, 28, 1), (10000, 28, 28, 1))"
      ]
     },
     "execution_count": 28,
     "metadata": {},
     "output_type": "execute_result"
    }
   ],
   "source": [
    "X_train.shape, X_test.shape"
   ]
  },
  {
   "cell_type": "code",
   "execution_count": 29,
   "metadata": {},
   "outputs": [
    {
     "data": {
      "text/plain": [
       "(array([7., 7., 1., 5., 0.]), array([7., 8., 6., 5., 7.]))"
      ]
     },
     "execution_count": 29,
     "metadata": {},
     "output_type": "execute_result"
    }
   ],
   "source": [
    "y_train[:5], y_test[:5]"
   ]
  },
  {
   "cell_type": "code",
   "execution_count": 30,
   "metadata": {},
   "outputs": [],
   "source": [
    "# ターゲットをクラスベクトルに変換\n",
    "y_train = np_utils.to_categorical(y_train, 10)\n",
    "y_test = np_utils.to_categorical(y_test, 10)"
   ]
  },
  {
   "cell_type": "code",
   "execution_count": 32,
   "metadata": {},
   "outputs": [
    {
     "data": {
      "text/plain": [
       "((10000, 10), (10000, 10))"
      ]
     },
     "execution_count": 32,
     "metadata": {},
     "output_type": "execute_result"
    }
   ],
   "source": [
    "y_train.shape, y_test.shape"
   ]
  },
  {
   "cell_type": "code",
   "execution_count": 33,
   "metadata": {},
   "outputs": [
    {
     "data": {
      "text/plain": [
       "(array([[0., 0., 0., 0., 0., 0., 0., 1., 0., 0.],\n",
       "        [0., 0., 0., 0., 0., 0., 0., 1., 0., 0.],\n",
       "        [0., 1., 0., 0., 0., 0., 0., 0., 0., 0.],\n",
       "        [0., 0., 0., 0., 0., 1., 0., 0., 0., 0.],\n",
       "        [1., 0., 0., 0., 0., 0., 0., 0., 0., 0.]], dtype=float32),\n",
       " array([[0., 0., 0., 0., 0., 0., 0., 1., 0., 0.],\n",
       "        [0., 0., 0., 0., 0., 0., 0., 0., 1., 0.],\n",
       "        [0., 0., 0., 0., 0., 0., 1., 0., 0., 0.],\n",
       "        [0., 0., 0., 0., 0., 1., 0., 0., 0., 0.],\n",
       "        [0., 0., 0., 0., 0., 0., 0., 1., 0., 0.]], dtype=float32))"
      ]
     },
     "execution_count": 33,
     "metadata": {},
     "output_type": "execute_result"
    }
   ],
   "source": [
    "y_train[:5], y_test[:5]"
   ]
  },
  {
   "cell_type": "code",
   "execution_count": 34,
   "metadata": {},
   "outputs": [],
   "source": [
    "# model\n",
    "model = Sequential()"
   ]
  },
  {
   "cell_type": "code",
   "execution_count": 38,
   "metadata": {},
   "outputs": [
    {
     "name": "stdout",
     "output_type": "stream",
     "text": [
      "WARNING:tensorflow:From C:\\Users\\owner\\Anaconda3\\lib\\site-packages\\tensorflow\\python\\ops\\resource_variable_ops.py:435: colocate_with (from tensorflow.python.framework.ops) is deprecated and will be removed in a future version.\n",
      "Instructions for updating:\n",
      "Colocations handled automatically by placer.\n"
     ]
    }
   ],
   "source": [
    "# 入力層と畳み込み層を定義\n",
    "model.add(Conv2D(8, kernel_size=(3, 3),\n",
    "                 activation='relu',\n",
    "                 input_shape=(28, 28, 1)))"
   ]
  },
  {
   "cell_type": "code",
   "execution_count": 39,
   "metadata": {},
   "outputs": [],
   "source": [
    "# プール層\n",
    "model.add(MaxPooling2D(pool_size=(2, 2)))"
   ]
  },
  {
   "cell_type": "code",
   "execution_count": 40,
   "metadata": {},
   "outputs": [],
   "source": [
    "# ドロップアウト\n",
    "model.add(Dropout(0.25))"
   ]
  },
  {
   "cell_type": "code",
   "execution_count": 41,
   "metadata": {},
   "outputs": [],
   "source": [
    "# 全結合層\n",
    "# １次元にする\n",
    "model.add(Flatten())\n",
    "model.add(Dense(128, activation='relu'))"
   ]
  },
  {
   "cell_type": "code",
   "execution_count": 42,
   "metadata": {},
   "outputs": [],
   "source": [
    "# 出力層\n",
    "model.add(Dense(10, activation='softmax'))"
   ]
  },
  {
   "cell_type": "code",
   "execution_count": 43,
   "metadata": {},
   "outputs": [
    {
     "name": "stdout",
     "output_type": "stream",
     "text": [
      "Model: \"sequential_1\"\n",
      "_________________________________________________________________\n",
      "Layer (type)                 Output Shape              Param #   \n",
      "=================================================================\n",
      "conv2d_1 (Conv2D)            (None, 26, 26, 8)         80        \n",
      "_________________________________________________________________\n",
      "max_pooling2d_1 (MaxPooling2 (None, 13, 13, 8)         0         \n",
      "_________________________________________________________________\n",
      "dropout_1 (Dropout)          (None, 13, 13, 8)         0         \n",
      "_________________________________________________________________\n",
      "flatten_1 (Flatten)          (None, 1352)              0         \n",
      "_________________________________________________________________\n",
      "dense_1 (Dense)              (None, 128)               173184    \n",
      "_________________________________________________________________\n",
      "dense_2 (Dense)              (None, 10)                1290      \n",
      "=================================================================\n",
      "Total params: 174,554\n",
      "Trainable params: 174,554\n",
      "Non-trainable params: 0\n",
      "_________________________________________________________________\n"
     ]
    }
   ],
   "source": [
    "model.summary()"
   ]
  },
  {
   "cell_type": "code",
   "execution_count": 44,
   "metadata": {},
   "outputs": [],
   "source": [
    "# モデルコンパイル\n",
    "model.compile(loss='categorical_crossentropy',\n",
    "              optimizer='sgd',\n",
    "              metrics=['accuracy'])"
   ]
  },
  {
   "cell_type": "code",
   "execution_count": 46,
   "metadata": {},
   "outputs": [
    {
     "name": "stdout",
     "output_type": "stream",
     "text": [
      "WARNING:tensorflow:From C:\\Users\\owner\\Anaconda3\\lib\\site-packages\\tensorflow\\python\\ops\\math_ops.py:3066: to_int32 (from tensorflow.python.ops.math_ops) is deprecated and will be removed in a future version.\n",
      "Instructions for updating:\n",
      "Use tf.cast instead.\n",
      "Epoch 1/50\n",
      "10000/10000 [==============================] - 7s 675us/step - loss: 1.5131 - accuracy: 0.5597\n",
      "Epoch 2/50\n",
      "10000/10000 [==============================] - 3s 253us/step - loss: 0.5360 - accuracy: 0.8360\n",
      "Epoch 3/50\n",
      "10000/10000 [==============================] - 2s 245us/step - loss: 0.4226 - accuracy: 0.8719\n",
      "Epoch 4/50\n",
      "10000/10000 [==============================] - 3s 270us/step - loss: 0.3841 - accuracy: 0.8836\n",
      "Epoch 5/50\n",
      "10000/10000 [==============================] - 3s 256us/step - loss: 0.3505 - accuracy: 0.8932\n",
      "Epoch 6/50\n",
      "10000/10000 [==============================] - 3s 261us/step - loss: 0.3257 - accuracy: 0.9018\n",
      "Epoch 7/50\n",
      "10000/10000 [==============================] - 3s 305us/step - loss: 0.2977 - accuracy: 0.9101\n",
      "Epoch 8/50\n",
      "10000/10000 [==============================] - 3s 297us/step - loss: 0.2842 - accuracy: 0.9143\n",
      "Epoch 9/50\n",
      "10000/10000 [==============================] - 3s 279us/step - loss: 0.2708 - accuracy: 0.9183\n",
      "Epoch 10/50\n",
      "10000/10000 [==============================] - 2s 248us/step - loss: 0.2528 - accuracy: 0.9220\n",
      "Epoch 11/50\n",
      "10000/10000 [==============================] - 2s 247us/step - loss: 0.2402 - accuracy: 0.9251\n",
      "Epoch 12/50\n",
      "10000/10000 [==============================] - 2s 242us/step - loss: 0.2272 - accuracy: 0.9306\n",
      "Epoch 13/50\n",
      "10000/10000 [==============================] - 2s 238us/step - loss: 0.2228 - accuracy: 0.9318\n",
      "Epoch 14/50\n",
      "10000/10000 [==============================] - 2s 237us/step - loss: 0.2142 - accuracy: 0.9367\n",
      "Epoch 15/50\n",
      "10000/10000 [==============================] - 2s 239us/step - loss: 0.2018 - accuracy: 0.9397\n",
      "Epoch 16/50\n",
      "10000/10000 [==============================] - 2s 249us/step - loss: 0.1946 - accuracy: 0.9417\n",
      "Epoch 17/50\n",
      "10000/10000 [==============================] - 2s 237us/step - loss: 0.1902 - accuracy: 0.9405\n",
      "Epoch 18/50\n",
      "10000/10000 [==============================] - 2s 238us/step - loss: 0.1824 - accuracy: 0.9454\n",
      "Epoch 19/50\n",
      "10000/10000 [==============================] - 2s 239us/step - loss: 0.1757 - accuracy: 0.9484\n",
      "Epoch 20/50\n",
      "10000/10000 [==============================] - 2s 241us/step - loss: 0.1735 - accuracy: 0.9472\n",
      "Epoch 21/50\n",
      "10000/10000 [==============================] - 2s 240us/step - loss: 0.1681 - accuracy: 0.9506\n",
      "Epoch 22/50\n",
      "10000/10000 [==============================] - 2s 248us/step - loss: 0.1614 - accuracy: 0.9515\n",
      "Epoch 23/50\n",
      "10000/10000 [==============================] - 2s 243us/step - loss: 0.1528 - accuracy: 0.9539\n",
      "Epoch 24/50\n",
      "10000/10000 [==============================] - 2s 240us/step - loss: 0.1504 - accuracy: 0.9541\n",
      "Epoch 25/50\n",
      "10000/10000 [==============================] - 2s 239us/step - loss: 0.1459 - accuracy: 0.9538\n",
      "Epoch 26/50\n",
      "10000/10000 [==============================] - 2s 240us/step - loss: 0.1412 - accuracy: 0.9569\n",
      "Epoch 27/50\n",
      "10000/10000 [==============================] - 2s 239us/step - loss: 0.1380 - accuracy: 0.9560\n",
      "Epoch 28/50\n",
      "10000/10000 [==============================] - 2s 241us/step - loss: 0.1350 - accuracy: 0.9592\n",
      "Epoch 29/50\n",
      "10000/10000 [==============================] - 3s 254us/step - loss: 0.1274 - accuracy: 0.9607\n",
      "Epoch 30/50\n",
      "10000/10000 [==============================] - 2s 236us/step - loss: 0.1260 - accuracy: 0.9609\n",
      "Epoch 31/50\n",
      "10000/10000 [==============================] - 2s 242us/step - loss: 0.1206 - accuracy: 0.9640\n",
      "Epoch 32/50\n",
      "10000/10000 [==============================] - 2s 240us/step - loss: 0.1191 - accuracy: 0.9624\n",
      "Epoch 33/50\n",
      "10000/10000 [==============================] - 2s 241us/step - loss: 0.1140 - accuracy: 0.9651\n",
      "Epoch 34/50\n",
      "10000/10000 [==============================] - 2s 241us/step - loss: 0.1154 - accuracy: 0.9632\n",
      "Epoch 35/50\n",
      "10000/10000 [==============================] - 2s 247us/step - loss: 0.1078 - accuracy: 0.9672\n",
      "Epoch 36/50\n",
      "10000/10000 [==============================] - 2s 249us/step - loss: 0.1089 - accuracy: 0.9677\n",
      "Epoch 37/50\n",
      "10000/10000 [==============================] - 2s 238us/step - loss: 0.1062 - accuracy: 0.9673\n",
      "Epoch 38/50\n",
      "10000/10000 [==============================] - 2s 240us/step - loss: 0.0993 - accuracy: 0.9689\n",
      "Epoch 39/50\n",
      "10000/10000 [==============================] - 2s 241us/step - loss: 0.1027 - accuracy: 0.9677\n",
      "Epoch 40/50\n",
      "10000/10000 [==============================] - 2s 239us/step - loss: 0.0917 - accuracy: 0.9706\n",
      "Epoch 41/50\n",
      "10000/10000 [==============================] - 2s 242us/step - loss: 0.0917 - accuracy: 0.9706\n",
      "Epoch 42/50\n",
      "10000/10000 [==============================] - 3s 251us/step - loss: 0.0912 - accuracy: 0.9709\n",
      "Epoch 43/50\n",
      "10000/10000 [==============================] - 2s 242us/step - loss: 0.0924 - accuracy: 0.9698\n",
      "Epoch 44/50\n",
      "10000/10000 [==============================] - 2s 241us/step - loss: 0.0883 - accuracy: 0.9718\n",
      "Epoch 45/50\n",
      "10000/10000 [==============================] - 2s 240us/step - loss: 0.0842 - accuracy: 0.9733\n",
      "Epoch 46/50\n",
      "10000/10000 [==============================] - 2s 240us/step - loss: 0.0880 - accuracy: 0.9716\n",
      "Epoch 47/50\n",
      "10000/10000 [==============================] - 2s 240us/step - loss: 0.0882 - accuracy: 0.9727\n",
      "Epoch 48/50\n",
      "10000/10000 [==============================] - 2s 241us/step - loss: 0.0844 - accuracy: 0.9720\n",
      "Epoch 49/50\n",
      "10000/10000 [==============================] - 3s 255us/step - loss: 0.0799 - accuracy: 0.9719\n",
      "Epoch 50/50\n",
      "10000/10000 [==============================] - 2s 243us/step - loss: 0.0763 - accuracy: 0.9751\n"
     ]
    },
    {
     "data": {
      "text/plain": [
       "<keras.callbacks.callbacks.History at 0x28118b0a2b0>"
      ]
     },
     "execution_count": 46,
     "metadata": {},
     "output_type": "execute_result"
    }
   ],
   "source": [
    "# モデル訓練\n",
    "model.fit(X_train, y_train, epochs=50)"
   ]
  },
  {
   "cell_type": "code",
   "execution_count": 47,
   "metadata": {},
   "outputs": [],
   "source": [
    "# テストデータで予測\n",
    "cnn_pred = model.predict(X_test)"
   ]
  },
  {
   "cell_type": "code",
   "execution_count": 56,
   "metadata": {},
   "outputs": [
    {
     "data": {
      "text/plain": [
       "(array([[1.32385157e-05, 5.78995428e-11, 1.68265831e-06, 4.33079549e-06,\n",
       "         5.44580553e-06, 4.00033377e-06, 2.06744910e-09, 9.98056173e-01,\n",
       "         4.63088185e-07, 1.91476045e-03],\n",
       "        [1.83566873e-09, 1.03064765e-10, 4.27590066e-07, 7.09948245e-06,\n",
       "         1.23247560e-07, 5.96633996e-08, 5.71072301e-10, 7.64689076e-11,\n",
       "         9.99991536e-01, 6.88230443e-07],\n",
       "        [2.09133010e-04, 1.12205350e-06, 1.11052634e-06, 4.78815831e-09,\n",
       "         4.67175312e-07, 3.58433812e-03, 9.74371076e-01, 1.63598735e-11,\n",
       "         2.18327977e-02, 4.08193017e-08],\n",
       "        [6.75541003e-07, 5.41632971e-07, 9.78686103e-07, 5.75045357e-04,\n",
       "         3.15542947e-09, 9.98228967e-01, 3.21914884e-10, 2.53244216e-04,\n",
       "         7.97471555e-04, 1.42991994e-04],\n",
       "        [9.90507898e-10, 6.41774411e-10, 6.96641946e-05, 6.81870370e-05,\n",
       "         2.39361374e-12, 4.44341536e-10, 9.65410477e-12, 9.99856949e-01,\n",
       "         4.37199924e-06, 7.11626171e-07]], dtype=float32),\n",
       " array([7, 8, 6, 5, 7], dtype=int64))"
      ]
     },
     "execution_count": 56,
     "metadata": {},
     "output_type": "execute_result"
    }
   ],
   "source": [
    "cnn_pred[:5], np.argmax(cnn_pred[:5], axis=1)"
   ]
  },
  {
   "cell_type": "code",
   "execution_count": 61,
   "metadata": {},
   "outputs": [
    {
     "data": {
      "text/plain": [
       "(array([0, 1, 2, 3, 4], dtype=int64), array([7, 8, 6, 5, 7], dtype=int64))"
      ]
     },
     "execution_count": 61,
     "metadata": {},
     "output_type": "execute_result"
    }
   ],
   "source": [
    "np.where(y_test[:5] == 1)"
   ]
  },
  {
   "cell_type": "code",
   "execution_count": 63,
   "metadata": {},
   "outputs": [
    {
     "data": {
      "text/plain": [
       "array([7, 8, 6, 5, 7], dtype=int64)"
      ]
     },
     "execution_count": 63,
     "metadata": {},
     "output_type": "execute_result"
    }
   ],
   "source": [
    "np.argmax(cnn_pred[:5], axis=1)"
   ]
  },
  {
   "cell_type": "code",
   "execution_count": 50,
   "metadata": {},
   "outputs": [],
   "source": [
    "# 推測結果をクラスラベルに変更\n",
    "y_pred_CNN = np.argmax(cnn_pred, axis=1)\n",
    "y_test_CNN = np.argmax(y_test, axis=1)"
   ]
  },
  {
   "cell_type": "code",
   "execution_count": 52,
   "metadata": {},
   "outputs": [
    {
     "data": {
      "text/plain": [
       "array([[ 956,    0,    2,    1,    2,    2,    4,    1,   11,    3],\n",
       "       [   0, 1099,    6,    3,    4,    1,    1,    0,    8,    2],\n",
       "       [   8,    4,  947,    8,    3,    3,    1,    6,   17,    2],\n",
       "       [   2,    1,    4,  960,    0,   14,    0,    8,   17,    2],\n",
       "       [   1,    0,    1,    1,  900,    0,    1,    4,    2,   18],\n",
       "       [   2,    2,    1,   13,    2,  870,    4,    1,   12,   12],\n",
       "       [   6,    1,    0,    1,    2,    7, 1011,    1,    3,    0],\n",
       "       [   3,    0,   10,    1,    6,    1,    1, 1033,    3,   11],\n",
       "       [   5,   10,    3,   12,    1,    9,    4,    2,  934,    6],\n",
       "       [   8,    2,    0,   14,   15,    4,    1,   11,    9,  889]],\n",
       "      dtype=int64)"
      ]
     },
     "execution_count": 52,
     "metadata": {},
     "output_type": "execute_result"
    }
   ],
   "source": [
    "confusion_matrix(y_test_CNN, y_pred_CNN)"
   ]
  },
  {
   "cell_type": "code",
   "execution_count": 53,
   "metadata": {},
   "outputs": [
    {
     "data": {
      "text/plain": [
       "0.9599"
      ]
     },
     "execution_count": 53,
     "metadata": {},
     "output_type": "execute_result"
    }
   ],
   "source": [
    "accuracy_score(y_test_CNN, y_pred_CNN)"
   ]
  },
  {
   "cell_type": "code",
   "execution_count": null,
   "metadata": {},
   "outputs": [],
   "source": []
  }
 ],
 "metadata": {
  "kernelspec": {
   "display_name": "Python 3",
   "language": "python",
   "name": "python3"
  },
  "language_info": {
   "codemirror_mode": {
    "name": "ipython",
    "version": 3
   },
   "file_extension": ".py",
   "mimetype": "text/x-python",
   "name": "python",
   "nbconvert_exporter": "python",
   "pygments_lexer": "ipython3",
   "version": "3.6.7"
  }
 },
 "nbformat": 4,
 "nbformat_minor": 2
}
