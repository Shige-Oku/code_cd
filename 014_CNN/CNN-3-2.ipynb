{
 "cells": [
  {
   "cell_type": "code",
   "execution_count": 1,
   "metadata": {},
   "outputs": [],
   "source": [
    "# CNNで 「文字画像データセット（平仮名73文字版）」 を予測\n",
    "# 前回出力した特徴量、正解を読み込んで開始"
   ]
  },
  {
   "cell_type": "code",
   "execution_count": 2,
   "metadata": {},
   "outputs": [],
   "source": [
    "import numpy as np\n",
    "import pandas as pd\n",
    "\n",
    "import matplotlib\n",
    "import matplotlib.pyplot as plt\n",
    "%matplotlib inline\n",
    "\n",
    "from sklearn.preprocessing import LabelEncoder\n",
    "from sklearn.model_selection import train_test_split\n",
    "from sklearn.metrics import confusion_matrix, accuracy_score\n",
    "\n",
    "import keras as ks\n",
    "from keras.models import Sequential\n",
    "from keras.layers import Dense, Dropout, Flatten, Conv2D, MaxPooling2D\n",
    "from keras.utils import np_utils\n",
    "from keras.callbacks import EarlyStopping\n",
    "\n",
    "import os\n",
    "import glob\n",
    "\n",
    "import cv2\n"
   ]
  },
  {
   "cell_type": "code",
   "execution_count": 3,
   "metadata": {},
   "outputs": [],
   "source": [
    "path = './dataset/hiragana73/'\n",
    "\n",
    "# charfeatures.npy から入力\n",
    "# 前回保存した特徴量\n",
    "charfeatures_load = np.load(path + 'charfeatures.npy')"
   ]
  },
  {
   "cell_type": "code",
   "execution_count": 4,
   "metadata": {},
   "outputs": [
    {
     "data": {
      "text/plain": [
       "(80000, 2304)"
      ]
     },
     "execution_count": 4,
     "metadata": {},
     "output_type": "execute_result"
    }
   ],
   "source": [
    "charfeatures_load.shape"
   ]
  },
  {
   "cell_type": "code",
   "execution_count": 5,
   "metadata": {},
   "outputs": [],
   "source": [
    "# files_df.csv 読み込み\n",
    "# 前回保存したファイルパス名と正解の平仮名\n",
    "files_df_load = pd.read_csv(path + 'files_df.csv')"
   ]
  },
  {
   "cell_type": "code",
   "execution_count": 6,
   "metadata": {},
   "outputs": [
    {
     "data": {
      "text/html": [
       "<div>\n",
       "<style scoped>\n",
       "    .dataframe tbody tr th:only-of-type {\n",
       "        vertical-align: middle;\n",
       "    }\n",
       "\n",
       "    .dataframe tbody tr th {\n",
       "        vertical-align: top;\n",
       "    }\n",
       "\n",
       "    .dataframe thead th {\n",
       "        text-align: right;\n",
       "    }\n",
       "</style>\n",
       "<table border=\"1\" class=\"dataframe\">\n",
       "  <thead>\n",
       "    <tr style=\"text-align: right;\">\n",
       "      <th></th>\n",
       "      <th>Image</th>\n",
       "      <th>Labels</th>\n",
       "    </tr>\n",
       "  </thead>\n",
       "  <tbody>\n",
       "    <tr>\n",
       "      <th>0</th>\n",
       "      <td>./dataset/hiragana73/U306F\\1929_1452973_0089.png</td>\n",
       "      <td>は</td>\n",
       "    </tr>\n",
       "    <tr>\n",
       "      <th>1</th>\n",
       "      <td>./dataset/hiragana73/U306D\\1914_908938_0044.png</td>\n",
       "      <td>ね</td>\n",
       "    </tr>\n",
       "    <tr>\n",
       "      <th>2</th>\n",
       "      <td>./dataset/hiragana73/U308F\\1926_938757_0025.png</td>\n",
       "      <td>わ</td>\n",
       "    </tr>\n",
       "    <tr>\n",
       "      <th>3</th>\n",
       "      <td>./dataset/hiragana73/U308B\\1918_1210785_0064.png</td>\n",
       "      <td>る</td>\n",
       "    </tr>\n",
       "    <tr>\n",
       "      <th>4</th>\n",
       "      <td>./dataset/hiragana73/U306F\\1914_1239432_0055.png</td>\n",
       "      <td>は</td>\n",
       "    </tr>\n",
       "  </tbody>\n",
       "</table>\n",
       "</div>"
      ],
      "text/plain": [
       "                                              Image Labels\n",
       "0  ./dataset/hiragana73/U306F\\1929_1452973_0089.png      は\n",
       "1   ./dataset/hiragana73/U306D\\1914_908938_0044.png      ね\n",
       "2   ./dataset/hiragana73/U308F\\1926_938757_0025.png      わ\n",
       "3  ./dataset/hiragana73/U308B\\1918_1210785_0064.png      る\n",
       "4  ./dataset/hiragana73/U306F\\1914_1239432_0055.png      は"
      ]
     },
     "execution_count": 6,
     "metadata": {},
     "output_type": "execute_result"
    }
   ],
   "source": [
    "files_df_load.head()"
   ]
  },
  {
   "cell_type": "code",
   "execution_count": 7,
   "metadata": {},
   "outputs": [
    {
     "data": {
      "text/html": [
       "<div>\n",
       "<style scoped>\n",
       "    .dataframe tbody tr th:only-of-type {\n",
       "        vertical-align: middle;\n",
       "    }\n",
       "\n",
       "    .dataframe tbody tr th {\n",
       "        vertical-align: top;\n",
       "    }\n",
       "\n",
       "    .dataframe thead th {\n",
       "        text-align: right;\n",
       "    }\n",
       "</style>\n",
       "<table border=\"1\" class=\"dataframe\">\n",
       "  <thead>\n",
       "    <tr style=\"text-align: right;\">\n",
       "      <th></th>\n",
       "      <th>Image</th>\n",
       "      <th>Labels</th>\n",
       "    </tr>\n",
       "  </thead>\n",
       "  <tbody>\n",
       "    <tr>\n",
       "      <th>count</th>\n",
       "      <td>80000</td>\n",
       "      <td>80000</td>\n",
       "    </tr>\n",
       "    <tr>\n",
       "      <th>unique</th>\n",
       "      <td>80000</td>\n",
       "      <td>73</td>\n",
       "    </tr>\n",
       "    <tr>\n",
       "      <th>top</th>\n",
       "      <td>./dataset/hiragana73/U304E\\1911_993577_0073.png</td>\n",
       "      <td>し</td>\n",
       "    </tr>\n",
       "    <tr>\n",
       "      <th>freq</th>\n",
       "      <td>1</td>\n",
       "      <td>1285</td>\n",
       "    </tr>\n",
       "  </tbody>\n",
       "</table>\n",
       "</div>"
      ],
      "text/plain": [
       "                                                  Image Labels\n",
       "count                                             80000  80000\n",
       "unique                                            80000     73\n",
       "top     ./dataset/hiragana73/U304E\\1911_993577_0073.png      し\n",
       "freq                                                  1   1285"
      ]
     },
     "execution_count": 7,
     "metadata": {},
     "output_type": "execute_result"
    }
   ],
   "source": [
    "files_df_load.describe()"
   ]
  },
  {
   "cell_type": "code",
   "execution_count": 8,
   "metadata": {},
   "outputs": [
    {
     "data": {
      "text/plain": [
       "(160000, (80000, 2))"
      ]
     },
     "execution_count": 8,
     "metadata": {},
     "output_type": "execute_result"
    }
   ],
   "source": [
    "files_df_load.size, files_df_load.shape"
   ]
  },
  {
   "cell_type": "code",
   "execution_count": 9,
   "metadata": {},
   "outputs": [],
   "source": [
    "# ターゲット\n",
    "y = files_df_load['Labels']"
   ]
  },
  {
   "cell_type": "code",
   "execution_count": 10,
   "metadata": {},
   "outputs": [
    {
     "data": {
      "text/plain": [
       "し    1285\n",
       "ふ    1285\n",
       "や    1285\n",
       "ん    1285\n",
       "ま    1285\n",
       "た    1285\n",
       "そ    1285\n",
       "お    1283\n",
       "わ    1283\n",
       "ゆ    1282\n",
       "す    1282\n",
       "く    1266\n",
       "さ    1261\n",
       "に    1260\n",
       "か    1259\n",
       "を    1254\n",
       "は    1247\n",
       "り    1244\n",
       "れ    1238\n",
       "め    1233\n",
       "な    1233\n",
       "て    1213\n",
       "あ    1208\n",
       "が    1200\n",
       "る    1190\n",
       "も    1187\n",
       "と    1184\n",
       "で    1178\n",
       "よ    1166\n",
       "せ    1165\n",
       "     ... \n",
       "ほ    1115\n",
       "こ    1115\n",
       "ら    1114\n",
       "へ    1114\n",
       "べ    1109\n",
       "ば    1105\n",
       "じ    1099\n",
       "ぬ    1093\n",
       "ぎ    1091\n",
       "づ    1080\n",
       "ご    1078\n",
       "え    1077\n",
       "ひ    1074\n",
       "ざ    1070\n",
       "ろ    1069\n",
       "ぞ    1066\n",
       "む    1058\n",
       "げ    1058\n",
       "ゐ    1053\n",
       "ち    1052\n",
       "ず    1046\n",
       "び    1045\n",
       "ぼ    1044\n",
       "ぐ    1043\n",
       "ゑ    1030\n",
       "ぺ     268\n",
       "ぱ     262\n",
       "ぽ     261\n",
       "ぴ     126\n",
       "ぷ     112\n",
       "Name: Labels, Length: 73, dtype: int64"
      ]
     },
     "execution_count": 10,
     "metadata": {},
     "output_type": "execute_result"
    }
   ],
   "source": [
    "y.value_counts()"
   ]
  },
  {
   "cell_type": "code",
   "execution_count": 11,
   "metadata": {},
   "outputs": [
    {
     "data": {
      "text/plain": [
       "LabelEncoder()"
      ]
     },
     "execution_count": 11,
     "metadata": {},
     "output_type": "execute_result"
    }
   ],
   "source": [
    "# ターゲットの平仮名を数値に変換\n",
    "encoder = LabelEncoder()\n",
    "\n",
    "encoder.fit(y)"
   ]
  },
  {
   "cell_type": "code",
   "execution_count": 12,
   "metadata": {},
   "outputs": [
    {
     "data": {
      "text/plain": [
       "array(['あ', 'い', 'う', 'え', 'お', 'か', 'が', 'き', 'ぎ', 'く', 'ぐ', 'け', 'げ',\n",
       "       'こ', 'ご', 'さ', 'ざ', 'し', 'じ', 'す', 'ず', 'せ', 'ぜ', 'そ', 'ぞ', 'た',\n",
       "       'だ', 'ち', 'ぢ', 'つ', 'づ', 'て', 'で', 'と', 'ど', 'な', 'に', 'ぬ', 'ね',\n",
       "       'の', 'は', 'ば', 'ぱ', 'ひ', 'び', 'ぴ', 'ふ', 'ぶ', 'ぷ', 'へ', 'べ', 'ぺ',\n",
       "       'ほ', 'ぼ', 'ぽ', 'ま', 'み', 'む', 'め', 'も', 'や', 'ゆ', 'よ', 'ら', 'り',\n",
       "       'る', 'れ', 'ろ', 'わ', 'ゐ', 'ゑ', 'を', 'ん'], dtype=object)"
      ]
     },
     "execution_count": 12,
     "metadata": {},
     "output_type": "execute_result"
    }
   ],
   "source": [
    "encoder.classes_"
   ]
  },
  {
   "cell_type": "code",
   "execution_count": 13,
   "metadata": {},
   "outputs": [
    {
     "data": {
      "text/plain": [
       "73"
      ]
     },
     "execution_count": 13,
     "metadata": {},
     "output_type": "execute_result"
    }
   ],
   "source": [
    "len(encoder.classes_)"
   ]
  },
  {
   "cell_type": "code",
   "execution_count": 14,
   "metadata": {},
   "outputs": [],
   "source": [
    "# 平仮名と数字を辞書型にする\n",
    "encoder_character_mapping = dict(zip(encoder.classes_, encoder.transform(encoder.classes_)))"
   ]
  },
  {
   "cell_type": "code",
   "execution_count": 15,
   "metadata": {},
   "outputs": [
    {
     "name": "stdout",
     "output_type": "stream",
     "text": [
      "{'あ': 0, 'い': 1, 'う': 2, 'え': 3, 'お': 4, 'か': 5, 'が': 6, 'き': 7, 'ぎ': 8, 'く': 9, 'ぐ': 10, 'け': 11, 'げ': 12, 'こ': 13, 'ご': 14, 'さ': 15, 'ざ': 16, 'し': 17, 'じ': 18, 'す': 19, 'ず': 20, 'せ': 21, 'ぜ': 22, 'そ': 23, 'ぞ': 24, 'た': 25, 'だ': 26, 'ち': 27, 'ぢ': 28, 'つ': 29, 'づ': 30, 'て': 31, 'で': 32, 'と': 33, 'ど': 34, 'な': 35, 'に': 36, 'ぬ': 37, 'ね': 38, 'の': 39, 'は': 40, 'ば': 41, 'ぱ': 42, 'ひ': 43, 'び': 44, 'ぴ': 45, 'ふ': 46, 'ぶ': 47, 'ぷ': 48, 'へ': 49, 'べ': 50, 'ぺ': 51, 'ほ': 52, 'ぼ': 53, 'ぽ': 54, 'ま': 55, 'み': 56, 'む': 57, 'め': 58, 'も': 59, 'や': 60, 'ゆ': 61, 'よ': 62, 'ら': 63, 'り': 64, 'る': 65, 'れ': 66, 'ろ': 67, 'わ': 68, 'ゐ': 69, 'ゑ': 70, 'を': 71, 'ん': 72}\n"
     ]
    }
   ],
   "source": [
    "print(encoder_character_mapping)"
   ]
  },
  {
   "cell_type": "code",
   "execution_count": 16,
   "metadata": {},
   "outputs": [
    {
     "name": "stdout",
     "output_type": "stream",
     "text": [
      "---------平仮名---------\n"
     ]
    },
    {
     "data": {
      "text/plain": [
       "0    は\n",
       "1    ね\n",
       "2    わ\n",
       "3    る\n",
       "4    は\n",
       "Name: Labels, dtype: object"
      ]
     },
     "execution_count": 16,
     "metadata": {},
     "output_type": "execute_result"
    }
   ],
   "source": [
    "# 平仮名\n",
    "print('---------平仮名---------')\n",
    "y[:5]"
   ]
  },
  {
   "cell_type": "code",
   "execution_count": 17,
   "metadata": {},
   "outputs": [
    {
     "name": "stdout",
     "output_type": "stream",
     "text": [
      "---------数値---------\n"
     ]
    },
    {
     "data": {
      "text/plain": [
       "array([40, 38, 68, 65, 40])"
      ]
     },
     "execution_count": 17,
     "metadata": {},
     "output_type": "execute_result"
    }
   ],
   "source": [
    "# 変換した数値\n",
    "y_encoder = encoder.transform(y)\n",
    "\n",
    "print('---------数値---------')\n",
    "y_encoder[:5]"
   ]
  },
  {
   "cell_type": "code",
   "execution_count": 18,
   "metadata": {},
   "outputs": [
    {
     "data": {
      "text/plain": [
       "40"
      ]
     },
     "execution_count": 18,
     "metadata": {},
     "output_type": "execute_result"
    }
   ],
   "source": [
    "# エンコードした値での確認\n",
    "encoder_character_mapping['は']"
   ]
  },
  {
   "cell_type": "code",
   "execution_count": 19,
   "metadata": {},
   "outputs": [],
   "source": [
    "# 訓練データとテストデータに分割\n",
    "X_train, X_test, y_train, y_tset = train_test_split(charfeatures_load, y_encoder, train_size=10000, test_size=10000, random_state=42)"
   ]
  },
  {
   "cell_type": "code",
   "execution_count": 20,
   "metadata": {},
   "outputs": [
    {
     "data": {
      "text/plain": [
       "((10000, 2304), (10000,), (10000, 2304), (10000,))"
      ]
     },
     "execution_count": 20,
     "metadata": {},
     "output_type": "execute_result"
    }
   ],
   "source": [
    "X_train.shape, y_train.shape, X_test.shape, y_tset.shape"
   ]
  },
  {
   "cell_type": "code",
   "execution_count": 21,
   "metadata": {},
   "outputs": [],
   "source": [
    "# 特徴量の正規化\n",
    "# 割れないので float に変換」\n",
    "X_train = X_train.astype('float32')\n",
    "X_test = X_test.astype('float32')\n",
    "\n",
    "# 正規化\n",
    "X_train /= 255\n",
    "X_test /= 255"
   ]
  },
  {
   "cell_type": "code",
   "execution_count": 22,
   "metadata": {},
   "outputs": [],
   "source": [
    "# 形式変更\n",
    "# バッチサイズ、(h 48) * (w 48) * (1 channel)\n",
    "X_train = X_train.reshape(X_train.shape[0], 48, 48, 1)\n",
    "X_test = X_test.reshape(X_test.shape[0], 48, 48, 1)"
   ]
  },
  {
   "cell_type": "code",
   "execution_count": 23,
   "metadata": {},
   "outputs": [
    {
     "data": {
      "text/plain": [
       "((10000, 48, 48, 1), (10000, 48, 48, 1))"
      ]
     },
     "execution_count": 23,
     "metadata": {},
     "output_type": "execute_result"
    }
   ],
   "source": [
    "X_train.shape, X_test.shape"
   ]
  },
  {
   "cell_type": "code",
   "execution_count": 24,
   "metadata": {},
   "outputs": [
    {
     "data": {
      "text/plain": [
       "73"
      ]
     },
     "execution_count": 24,
     "metadata": {},
     "output_type": "execute_result"
    }
   ],
   "source": [
    "np.unique(y_train).size"
   ]
  },
  {
   "cell_type": "code",
   "execution_count": 25,
   "metadata": {},
   "outputs": [],
   "source": [
    "y_eval = y_tset.copy()"
   ]
  },
  {
   "cell_type": "code",
   "execution_count": 26,
   "metadata": {},
   "outputs": [],
   "source": [
    "# カテゴリカル変数に変換\n",
    "y_train = np_utils.to_categorical(y_train, np.unique(y_train).size)\n",
    "y_tset = np_utils.to_categorical(y_tset, np.unique(y_tset).size)"
   ]
  },
  {
   "cell_type": "code",
   "execution_count": 27,
   "metadata": {},
   "outputs": [
    {
     "data": {
      "text/plain": [
       "array([0., 0., 0., 0., 0., 0., 0., 0., 0., 0., 0., 0., 0., 0., 0., 0., 0.,\n",
       "       0., 0., 1., 0., 0., 0., 0., 0., 0., 0., 0., 0., 0., 0., 0., 0., 0.,\n",
       "       0., 0., 0., 0., 0., 0., 0., 0., 0., 0., 0., 0., 0., 0., 0., 0., 0.,\n",
       "       0., 0., 0., 0., 0., 0., 0., 0., 0., 0., 0., 0., 0., 0., 0., 0., 0.,\n",
       "       0., 0., 0., 0., 0.], dtype=float32)"
      ]
     },
     "execution_count": 27,
     "metadata": {},
     "output_type": "execute_result"
    }
   ],
   "source": [
    "y_tset[0]"
   ]
  },
  {
   "cell_type": "code",
   "execution_count": 28,
   "metadata": {},
   "outputs": [
    {
     "data": {
      "text/plain": [
       "19"
      ]
     },
     "execution_count": 28,
     "metadata": {},
     "output_type": "execute_result"
    }
   ],
   "source": [
    "y_eval[0]"
   ]
  },
  {
   "cell_type": "code",
   "execution_count": 29,
   "metadata": {},
   "outputs": [
    {
     "data": {
      "text/plain": [
       "19"
      ]
     },
     "execution_count": 29,
     "metadata": {},
     "output_type": "execute_result"
    }
   ],
   "source": [
    "np.argmax(y_tset[0])"
   ]
  },
  {
   "cell_type": "code",
   "execution_count": 30,
   "metadata": {},
   "outputs": [
    {
     "data": {
      "text/plain": [
       "array([19, 52, 27, 63, 18], dtype=int64)"
      ]
     },
     "execution_count": 30,
     "metadata": {},
     "output_type": "execute_result"
    }
   ],
   "source": [
    "np.argmax(y_tset[:5], axis=1)"
   ]
  },
  {
   "cell_type": "code",
   "execution_count": 31,
   "metadata": {},
   "outputs": [
    {
     "name": "stdout",
     "output_type": "stream",
     "text": [
      "WARNING:tensorflow:From C:\\Users\\owner\\Anaconda3\\lib\\site-packages\\tensorflow\\python\\ops\\resource_variable_ops.py:435: colocate_with (from tensorflow.python.framework.ops) is deprecated and will be removed in a future version.\n",
      "Instructions for updating:\n",
      "Colocations handled automatically by placer.\n"
     ]
    }
   ],
   "source": [
    "# model_1\n",
    "model_1 = Sequential()\n",
    "\n",
    "# 入力層、畳み込み層\n",
    "model_1.add(Conv2D(32, kernel_size=(3, 3),\n",
    "                  activation='relu',\n",
    "                  input_shape=(48, 48, 1)))"
   ]
  },
  {
   "cell_type": "code",
   "execution_count": 32,
   "metadata": {},
   "outputs": [],
   "source": [
    "# プール層\n",
    "model_1.add(MaxPooling2D(pool_size=(2, 2)))"
   ]
  },
  {
   "cell_type": "code",
   "execution_count": 33,
   "metadata": {},
   "outputs": [],
   "source": [
    "# 畳み込み層とプール層\n",
    "model_1.add(Conv2D(64, kernel_size=(3, 3), activation='relu'))\n",
    "\n",
    "model_1.add(MaxPooling2D(pool_size=(2, 2)))"
   ]
  },
  {
   "cell_type": "code",
   "execution_count": 34,
   "metadata": {},
   "outputs": [],
   "source": [
    "# 全結合層、出力層\n",
    "model_1.add(Flatten())\n",
    "\n",
    "model_1.add(Dense(128, activation='relu'))\n",
    "\n",
    "model_1.add(Dense(73, activation='softmax'))"
   ]
  },
  {
   "cell_type": "code",
   "execution_count": 35,
   "metadata": {},
   "outputs": [],
   "source": [
    "# モデルコンパイル\n",
    "model_1.compile(loss='categorical_crossentropy',\n",
    "               optimizer='sgd',\n",
    "               metrics=['accuracy'])"
   ]
  },
  {
   "cell_type": "code",
   "execution_count": 36,
   "metadata": {},
   "outputs": [
    {
     "name": "stdout",
     "output_type": "stream",
     "text": [
      "Model: \"sequential_1\"\n",
      "_________________________________________________________________\n",
      "Layer (type)                 Output Shape              Param #   \n",
      "=================================================================\n",
      "conv2d_1 (Conv2D)            (None, 46, 46, 32)        320       \n",
      "_________________________________________________________________\n",
      "max_pooling2d_1 (MaxPooling2 (None, 23, 23, 32)        0         \n",
      "_________________________________________________________________\n",
      "conv2d_2 (Conv2D)            (None, 21, 21, 64)        18496     \n",
      "_________________________________________________________________\n",
      "max_pooling2d_2 (MaxPooling2 (None, 10, 10, 64)        0         \n",
      "_________________________________________________________________\n",
      "flatten_1 (Flatten)          (None, 6400)              0         \n",
      "_________________________________________________________________\n",
      "dense_1 (Dense)              (None, 128)               819328    \n",
      "_________________________________________________________________\n",
      "dense_2 (Dense)              (None, 73)                9417      \n",
      "=================================================================\n",
      "Total params: 847,561\n",
      "Trainable params: 847,561\n",
      "Non-trainable params: 0\n",
      "_________________________________________________________________\n"
     ]
    }
   ],
   "source": [
    "model_1.summary()"
   ]
  },
  {
   "cell_type": "code",
   "execution_count": 37,
   "metadata": {},
   "outputs": [],
   "source": [
    "# EarkyStopping の設定\n",
    "callbacks = EarlyStopping(monitor='val_loss', patience=3)"
   ]
  },
  {
   "cell_type": "code",
   "execution_count": 38,
   "metadata": {},
   "outputs": [
    {
     "name": "stdout",
     "output_type": "stream",
     "text": [
      "WARNING:tensorflow:From C:\\Users\\owner\\Anaconda3\\lib\\site-packages\\tensorflow\\python\\ops\\math_ops.py:3066: to_int32 (from tensorflow.python.ops.math_ops) is deprecated and will be removed in a future version.\n",
      "Instructions for updating:\n",
      "Use tf.cast instead.\n",
      "Train on 10000 samples, validate on 10000 samples\n",
      "Epoch 1/50\n",
      "10000/10000 [==============================] - 31s 3ms/step - loss: 4.2530 - accuracy: 0.0237 - val_loss: 4.2046 - val_accuracy: 0.0400\n",
      "Epoch 2/50\n",
      "10000/10000 [==============================] - 26s 3ms/step - loss: 3.9341 - accuracy: 0.1120 - val_loss: 3.4911 - val_accuracy: 0.1071\n",
      "Epoch 3/50\n",
      "10000/10000 [==============================] - 26s 3ms/step - loss: 1.7152 - accuracy: 0.6080 - val_loss: 0.9680 - val_accuracy: 0.7403\n",
      "Epoch 4/50\n",
      "10000/10000 [==============================] - 26s 3ms/step - loss: 0.4721 - accuracy: 0.9005 - val_loss: 0.3956 - val_accuracy: 0.9143\n",
      "Epoch 5/50\n",
      "10000/10000 [==============================] - 26s 3ms/step - loss: 0.2758 - accuracy: 0.9404 - val_loss: 0.3023 - val_accuracy: 0.9297\n",
      "Epoch 6/50\n",
      "10000/10000 [==============================] - 26s 3ms/step - loss: 0.1970 - accuracy: 0.9548 - val_loss: 0.2488 - val_accuracy: 0.9454\n",
      "Epoch 7/50\n",
      "10000/10000 [==============================] - 26s 3ms/step - loss: 0.1535 - accuracy: 0.9643 - val_loss: 0.2307 - val_accuracy: 0.9451\n",
      "Epoch 8/50\n",
      "10000/10000 [==============================] - 26s 3ms/step - loss: 0.1301 - accuracy: 0.9683 - val_loss: 0.2144 - val_accuracy: 0.9542\n",
      "Epoch 9/50\n",
      "10000/10000 [==============================] - 26s 3ms/step - loss: 0.1060 - accuracy: 0.9746 - val_loss: 0.2353 - val_accuracy: 0.9435\n",
      "Epoch 10/50\n",
      "10000/10000 [==============================] - 26s 3ms/step - loss: 0.0868 - accuracy: 0.9788 - val_loss: 0.1995 - val_accuracy: 0.9536\n",
      "Epoch 11/50\n",
      "10000/10000 [==============================] - 26s 3ms/step - loss: 0.0772 - accuracy: 0.9814 - val_loss: 0.2991 - val_accuracy: 0.9412\n",
      "Epoch 12/50\n",
      "10000/10000 [==============================] - 26s 3ms/step - loss: 0.0696 - accuracy: 0.9827 - val_loss: 0.1980 - val_accuracy: 0.9553\n",
      "Epoch 13/50\n",
      "10000/10000 [==============================] - 26s 3ms/step - loss: 0.0616 - accuracy: 0.9838 - val_loss: 0.1865 - val_accuracy: 0.9586\n",
      "Epoch 14/50\n",
      "10000/10000 [==============================] - 26s 3ms/step - loss: 0.0530 - accuracy: 0.9880 - val_loss: 0.2178 - val_accuracy: 0.9500\n",
      "Epoch 15/50\n",
      "10000/10000 [==============================] - 26s 3ms/step - loss: 0.0449 - accuracy: 0.9894 - val_loss: 0.1868 - val_accuracy: 0.9610\n",
      "Epoch 16/50\n",
      "10000/10000 [==============================] - 26s 3ms/step - loss: 0.0411 - accuracy: 0.9907 - val_loss: 0.1844 - val_accuracy: 0.9613\n",
      "Epoch 17/50\n",
      "10000/10000 [==============================] - 26s 3ms/step - loss: 0.0366 - accuracy: 0.9915 - val_loss: 0.1794 - val_accuracy: 0.9616\n",
      "Epoch 18/50\n",
      "10000/10000 [==============================] - 25s 3ms/step - loss: 0.0352 - accuracy: 0.9911 - val_loss: 0.1884 - val_accuracy: 0.9613\n",
      "Epoch 19/50\n",
      "10000/10000 [==============================] - 25s 3ms/step - loss: 0.0319 - accuracy: 0.9920 - val_loss: 0.1825 - val_accuracy: 0.9620\n",
      "Epoch 20/50\n",
      "10000/10000 [==============================] - 25s 3ms/step - loss: 0.0274 - accuracy: 0.9937 - val_loss: 0.1879 - val_accuracy: 0.9628\n"
     ]
    },
    {
     "data": {
      "text/plain": [
       "<keras.callbacks.callbacks.History at 0x1c300827cc0>"
      ]
     },
     "execution_count": 38,
     "metadata": {},
     "output_type": "execute_result"
    }
   ],
   "source": [
    "# モデル１で訓練\n",
    "model_1.fit(X_train, y_train, validation_data=(X_test, y_tset), callbacks=[callbacks], epochs=50)"
   ]
  },
  {
   "cell_type": "code",
   "execution_count": 39,
   "metadata": {},
   "outputs": [],
   "source": [
    "# テストデータで予測\n",
    "pred_test_1 = model_1.predict_classes(X_test)"
   ]
  },
  {
   "cell_type": "code",
   "execution_count": 40,
   "metadata": {},
   "outputs": [
    {
     "data": {
      "text/plain": [
       "array([19, 52, 27, 63, 18], dtype=int64)"
      ]
     },
     "execution_count": 40,
     "metadata": {},
     "output_type": "execute_result"
    }
   ],
   "source": [
    "pred_test_1[:5]"
   ]
  },
  {
   "cell_type": "code",
   "execution_count": 41,
   "metadata": {},
   "outputs": [
    {
     "data": {
      "text/plain": [
       "0.9628"
      ]
     },
     "execution_count": 41,
     "metadata": {},
     "output_type": "execute_result"
    }
   ],
   "source": [
    "accuracy_score(y_eval, pred_test_1)"
   ]
  },
  {
   "cell_type": "code",
   "execution_count": 42,
   "metadata": {},
   "outputs": [],
   "source": [
    "# モデル２\n",
    "model_2 = Sequential()\n",
    "\n",
    "# 畳み込み層\n",
    "model_2.add(Conv2D(32, kernel_size=(3, 3), \n",
    "                  activation='relu',\n",
    "                  input_shape=(48, 48, 1)))\n",
    "# プール層\n",
    "model_2.add(MaxPooling2D(pool_size=(2, 2)))\n",
    "# ドロップアウト\n",
    "model_2.add(Dropout(0.25))\n",
    "\n",
    "# 畳み込み層\n",
    "model_2.add(Conv2D(64, kernel_size=(3, 3), \n",
    "                  activation='relu'))\n",
    "# プール層\n",
    "model_2.add(MaxPooling2D(pool_size=(2, 2)))\n",
    "# ドロップアウト\n",
    "model_2.add(Dropout(0.25))\n",
    "\n",
    "# 全結合層\n",
    "model_2.add(Flatten())\n",
    "model_2.add(Dense(128, activation='relu'))\n",
    "model_2.add(Dense(73, activation='softmax'))\n"
   ]
  },
  {
   "cell_type": "code",
   "execution_count": 43,
   "metadata": {},
   "outputs": [],
   "source": [
    "# モデルコンパイル\n",
    "model_2.compile(loss='categorical_crossentropy',\n",
    "              optimizer='sgd',\n",
    "              metrics=['accuracy'])"
   ]
  },
  {
   "cell_type": "code",
   "execution_count": 44,
   "metadata": {},
   "outputs": [
    {
     "name": "stdout",
     "output_type": "stream",
     "text": [
      "Model: \"sequential_2\"\n",
      "_________________________________________________________________\n",
      "Layer (type)                 Output Shape              Param #   \n",
      "=================================================================\n",
      "conv2d_3 (Conv2D)            (None, 46, 46, 32)        320       \n",
      "_________________________________________________________________\n",
      "max_pooling2d_3 (MaxPooling2 (None, 23, 23, 32)        0         \n",
      "_________________________________________________________________\n",
      "dropout_1 (Dropout)          (None, 23, 23, 32)        0         \n",
      "_________________________________________________________________\n",
      "conv2d_4 (Conv2D)            (None, 21, 21, 64)        18496     \n",
      "_________________________________________________________________\n",
      "max_pooling2d_4 (MaxPooling2 (None, 10, 10, 64)        0         \n",
      "_________________________________________________________________\n",
      "dropout_2 (Dropout)          (None, 10, 10, 64)        0         \n",
      "_________________________________________________________________\n",
      "flatten_2 (Flatten)          (None, 6400)              0         \n",
      "_________________________________________________________________\n",
      "dense_3 (Dense)              (None, 128)               819328    \n",
      "_________________________________________________________________\n",
      "dense_4 (Dense)              (None, 73)                9417      \n",
      "=================================================================\n",
      "Total params: 847,561\n",
      "Trainable params: 847,561\n",
      "Non-trainable params: 0\n",
      "_________________________________________________________________\n"
     ]
    }
   ],
   "source": [
    "model_2.summary()"
   ]
  },
  {
   "cell_type": "code",
   "execution_count": 45,
   "metadata": {},
   "outputs": [
    {
     "name": "stdout",
     "output_type": "stream",
     "text": [
      "Train on 10000 samples, validate on 10000 samples\n",
      "Epoch 1/50\n",
      "10000/10000 [==============================] - 35s 4ms/step - loss: 4.2711 - accuracy: 0.0196 - val_loss: 4.2509 - val_accuracy: 0.0181\n",
      "Epoch 2/50\n",
      "10000/10000 [==============================] - 31s 3ms/step - loss: 4.1056 - accuracy: 0.0549 - val_loss: 3.9168 - val_accuracy: 0.0655\n",
      "Epoch 3/50\n",
      "10000/10000 [==============================] - 31s 3ms/step - loss: 2.7739 - accuracy: 0.3192 - val_loss: 2.0136 - val_accuracy: 0.4302\n",
      "Epoch 4/50\n",
      "10000/10000 [==============================] - 32s 3ms/step - loss: 0.9495 - accuracy: 0.7638 - val_loss: 0.7311 - val_accuracy: 0.8228\n",
      "Epoch 5/50\n",
      "10000/10000 [==============================] - 32s 3ms/step - loss: 0.5316 - accuracy: 0.8716 - val_loss: 0.4891 - val_accuracy: 0.8992\n",
      "Epoch 6/50\n",
      "10000/10000 [==============================] - 31s 3ms/step - loss: 0.4050 - accuracy: 0.8995 - val_loss: 0.3416 - val_accuracy: 0.9309\n",
      "Epoch 7/50\n",
      "10000/10000 [==============================] - 32s 3ms/step - loss: 0.3365 - accuracy: 0.9156 - val_loss: 0.3793 - val_accuracy: 0.9080\n",
      "Epoch 8/50\n",
      "10000/10000 [==============================] - 31s 3ms/step - loss: 0.2920 - accuracy: 0.9244 - val_loss: 0.2918 - val_accuracy: 0.9381\n",
      "Epoch 9/50\n",
      "10000/10000 [==============================] - 31s 3ms/step - loss: 0.2592 - accuracy: 0.9322 - val_loss: 0.3052 - val_accuracy: 0.9292\n",
      "Epoch 10/50\n",
      "10000/10000 [==============================] - 31s 3ms/step - loss: 0.2350 - accuracy: 0.9390 - val_loss: 0.2729 - val_accuracy: 0.9387\n",
      "Epoch 11/50\n",
      "10000/10000 [==============================] - 31s 3ms/step - loss: 0.2047 - accuracy: 0.9455 - val_loss: 0.2642 - val_accuracy: 0.9372\n",
      "Epoch 12/50\n",
      "10000/10000 [==============================] - 32s 3ms/step - loss: 0.1982 - accuracy: 0.9468 - val_loss: 0.2938 - val_accuracy: 0.9275\n",
      "Epoch 13/50\n",
      "10000/10000 [==============================] - 32s 3ms/step - loss: 0.1777 - accuracy: 0.9525 - val_loss: 0.2690 - val_accuracy: 0.9346\n",
      "Epoch 14/50\n",
      "10000/10000 [==============================] - 32s 3ms/step - loss: 0.1643 - accuracy: 0.9543 - val_loss: 0.2180 - val_accuracy: 0.9543\n",
      "Epoch 15/50\n",
      "10000/10000 [==============================] - 32s 3ms/step - loss: 0.1512 - accuracy: 0.9591 - val_loss: 0.2284 - val_accuracy: 0.9484\n",
      "Epoch 16/50\n",
      "10000/10000 [==============================] - 32s 3ms/step - loss: 0.1487 - accuracy: 0.9584 - val_loss: 0.2061 - val_accuracy: 0.9562\n",
      "Epoch 17/50\n",
      "10000/10000 [==============================] - 31s 3ms/step - loss: 0.1337 - accuracy: 0.9627 - val_loss: 0.2068 - val_accuracy: 0.9532\n",
      "Epoch 18/50\n",
      "10000/10000 [==============================] - 31s 3ms/step - loss: 0.1261 - accuracy: 0.9646 - val_loss: 0.2011 - val_accuracy: 0.9567\n",
      "Epoch 19/50\n",
      "10000/10000 [==============================] - 32s 3ms/step - loss: 0.1164 - accuracy: 0.9655 - val_loss: 0.2034 - val_accuracy: 0.9549\n",
      "Epoch 20/50\n",
      "10000/10000 [==============================] - 32s 3ms/step - loss: 0.1072 - accuracy: 0.9711 - val_loss: 0.2087 - val_accuracy: 0.9539\n",
      "Epoch 21/50\n",
      "10000/10000 [==============================] - 32s 3ms/step - loss: 0.1084 - accuracy: 0.9691 - val_loss: 0.1903 - val_accuracy: 0.9563\n",
      "Epoch 22/50\n",
      "10000/10000 [==============================] - 32s 3ms/step - loss: 0.0971 - accuracy: 0.9722 - val_loss: 0.1952 - val_accuracy: 0.9571\n",
      "Epoch 23/50\n",
      "10000/10000 [==============================] - 32s 3ms/step - loss: 0.0945 - accuracy: 0.9734 - val_loss: 0.2015 - val_accuracy: 0.9564\n",
      "Epoch 24/50\n",
      "10000/10000 [==============================] - 32s 3ms/step - loss: 0.0952 - accuracy: 0.9735 - val_loss: 0.1918 - val_accuracy: 0.9570\n"
     ]
    },
    {
     "data": {
      "text/plain": [
       "<keras.callbacks.callbacks.History at 0x1c300fc5978>"
      ]
     },
     "execution_count": 45,
     "metadata": {},
     "output_type": "execute_result"
    }
   ],
   "source": [
    "# モデル２で訓練\n",
    "model_2.fit(X_train, y_train, validation_data=(X_test, y_tset), callbacks=[callbacks], epochs=50)"
   ]
  },
  {
   "cell_type": "code",
   "execution_count": 46,
   "metadata": {},
   "outputs": [],
   "source": [
    "# テストデータで予測\n",
    "pred_test_2 = model_2.predict_classes(X_test)"
   ]
  },
  {
   "cell_type": "code",
   "execution_count": 47,
   "metadata": {},
   "outputs": [
    {
     "data": {
      "text/plain": [
       "array([19, 52, 27, 63, 18], dtype=int64)"
      ]
     },
     "execution_count": 47,
     "metadata": {},
     "output_type": "execute_result"
    }
   ],
   "source": [
    "pred_test_2[:5]"
   ]
  },
  {
   "cell_type": "code",
   "execution_count": 48,
   "metadata": {},
   "outputs": [
    {
     "data": {
      "text/plain": [
       "0.957"
      ]
     },
     "execution_count": 48,
     "metadata": {},
     "output_type": "execute_result"
    }
   ],
   "source": [
    "accuracy_score(y_eval, pred_test_2)"
   ]
  },
  {
   "cell_type": "code",
   "execution_count": 49,
   "metadata": {},
   "outputs": [],
   "source": [
    "# モデル３\n",
    "model_3 = Sequential()\n",
    "\n",
    "# 畳み込み層\n",
    "model_3.add(Conv2D(32, kernel_size=(3, 3), \n",
    "                  activation='relu',\n",
    "                  input_shape=(48, 48, 1)))\n",
    "# プール層\n",
    "model_3.add(MaxPooling2D(pool_size=(2, 2)))\n",
    "# ドロップアウト\n",
    "model_3.add(Dropout(0.25))\n",
    "\n",
    "# 畳み込み層\n",
    "model_3.add(Conv2D(64, kernel_size=(3, 3), \n",
    "                  activation='relu'))\n",
    "# プール層\n",
    "model_3.add(MaxPooling2D(pool_size=(2, 2)))\n",
    "# ドロップアウト\n",
    "model_3.add(Dropout(0.25))\n",
    "\n",
    "# 畳み込み層\n",
    "model_3.add(Conv2D(128, kernel_size=(3, 3), \n",
    "                  activation='relu'))\n",
    "# プール層\n",
    "model_3.add(MaxPooling2D(pool_size=(2, 2)))\n",
    "# ドロップアウト\n",
    "model_3.add(Dropout(0.25))\n",
    "\n",
    "# 全結合層\n",
    "model_3.add(Flatten())\n",
    "model_3.add(Dense(128, activation='relu'))\n",
    "model_3.add(Dense(73, activation='softmax'))\n"
   ]
  },
  {
   "cell_type": "code",
   "execution_count": 50,
   "metadata": {},
   "outputs": [],
   "source": [
    "# モデルコンパイル\n",
    "model_3.compile(loss='categorical_crossentropy',\n",
    "              optimizer='sgd',\n",
    "              metrics=['accuracy'])"
   ]
  },
  {
   "cell_type": "code",
   "execution_count": 51,
   "metadata": {},
   "outputs": [
    {
     "name": "stdout",
     "output_type": "stream",
     "text": [
      "Model: \"sequential_3\"\n",
      "_________________________________________________________________\n",
      "Layer (type)                 Output Shape              Param #   \n",
      "=================================================================\n",
      "conv2d_5 (Conv2D)            (None, 46, 46, 32)        320       \n",
      "_________________________________________________________________\n",
      "max_pooling2d_5 (MaxPooling2 (None, 23, 23, 32)        0         \n",
      "_________________________________________________________________\n",
      "dropout_3 (Dropout)          (None, 23, 23, 32)        0         \n",
      "_________________________________________________________________\n",
      "conv2d_6 (Conv2D)            (None, 21, 21, 64)        18496     \n",
      "_________________________________________________________________\n",
      "max_pooling2d_6 (MaxPooling2 (None, 10, 10, 64)        0         \n",
      "_________________________________________________________________\n",
      "dropout_4 (Dropout)          (None, 10, 10, 64)        0         \n",
      "_________________________________________________________________\n",
      "conv2d_7 (Conv2D)            (None, 8, 8, 128)         73856     \n",
      "_________________________________________________________________\n",
      "max_pooling2d_7 (MaxPooling2 (None, 4, 4, 128)         0         \n",
      "_________________________________________________________________\n",
      "dropout_5 (Dropout)          (None, 4, 4, 128)         0         \n",
      "_________________________________________________________________\n",
      "flatten_3 (Flatten)          (None, 2048)              0         \n",
      "_________________________________________________________________\n",
      "dense_5 (Dense)              (None, 128)               262272    \n",
      "_________________________________________________________________\n",
      "dense_6 (Dense)              (None, 73)                9417      \n",
      "=================================================================\n",
      "Total params: 364,361\n",
      "Trainable params: 364,361\n",
      "Non-trainable params: 0\n",
      "_________________________________________________________________\n"
     ]
    }
   ],
   "source": [
    "model_3.summary()"
   ]
  },
  {
   "cell_type": "code",
   "execution_count": 52,
   "metadata": {},
   "outputs": [
    {
     "name": "stdout",
     "output_type": "stream",
     "text": [
      "Train on 10000 samples, validate on 10000 samples\n",
      "Epoch 1/50\n",
      "10000/10000 [==============================] - 45s 4ms/step - loss: 4.2867 - accuracy: 0.0154 - val_loss: 4.2801 - val_accuracy: 0.0141\n",
      "Epoch 2/50\n",
      "10000/10000 [==============================] - 41s 4ms/step - loss: 4.2680 - accuracy: 0.0203 - val_loss: 4.2679 - val_accuracy: 0.0128\n",
      "Epoch 3/50\n",
      "10000/10000 [==============================] - 43s 4ms/step - loss: 4.2473 - accuracy: 0.0233 - val_loss: 4.2483 - val_accuracy: 0.0245\n",
      "Epoch 4/50\n",
      "10000/10000 [==============================] - 42s 4ms/step - loss: 4.1961 - accuracy: 0.0401 - val_loss: 4.1671 - val_accuracy: 0.0948\n",
      "Epoch 5/50\n",
      "10000/10000 [==============================] - 42s 4ms/step - loss: 3.8177 - accuracy: 0.1070 - val_loss: 3.1606 - val_accuracy: 0.3878\n",
      "Epoch 6/50\n",
      "10000/10000 [==============================] - 43s 4ms/step - loss: 1.8699 - accuracy: 0.5195 - val_loss: 1.0017 - val_accuracy: 0.7869\n",
      "Epoch 7/50\n",
      "10000/10000 [==============================] - 40s 4ms/step - loss: 0.7772 - accuracy: 0.7895 - val_loss: 0.5324 - val_accuracy: 0.8925\n",
      "Epoch 8/50\n",
      "10000/10000 [==============================] - 41s 4ms/step - loss: 0.5179 - accuracy: 0.8630 - val_loss: 0.4054 - val_accuracy: 0.9142\n",
      "Epoch 9/50\n",
      "10000/10000 [==============================] - 41s 4ms/step - loss: 0.3902 - accuracy: 0.8993 - val_loss: 0.3145 - val_accuracy: 0.9361\n",
      "Epoch 10/50\n",
      "10000/10000 [==============================] - 41s 4ms/step - loss: 0.3331 - accuracy: 0.9104 - val_loss: 0.3086 - val_accuracy: 0.9347\n",
      "Epoch 11/50\n",
      "10000/10000 [==============================] - 41s 4ms/step - loss: 0.2866 - accuracy: 0.9231 - val_loss: 0.2716 - val_accuracy: 0.9372\n",
      "Epoch 12/50\n",
      "10000/10000 [==============================] - 42s 4ms/step - loss: 0.2470 - accuracy: 0.9345 - val_loss: 0.2567 - val_accuracy: 0.9371\n",
      "Epoch 13/50\n",
      "10000/10000 [==============================] - 41s 4ms/step - loss: 0.2189 - accuracy: 0.9401 - val_loss: 0.2109 - val_accuracy: 0.9502\n",
      "Epoch 14/50\n",
      "10000/10000 [==============================] - 41s 4ms/step - loss: 0.2036 - accuracy: 0.9427 - val_loss: 0.2118 - val_accuracy: 0.9527\n",
      "Epoch 15/50\n",
      "10000/10000 [==============================] - 41s 4ms/step - loss: 0.1875 - accuracy: 0.9484 - val_loss: 0.2025 - val_accuracy: 0.9555\n",
      "Epoch 16/50\n",
      "10000/10000 [==============================] - 41s 4ms/step - loss: 0.1744 - accuracy: 0.9519 - val_loss: 0.1976 - val_accuracy: 0.9527\n",
      "Epoch 17/50\n",
      "10000/10000 [==============================] - 40s 4ms/step - loss: 0.1628 - accuracy: 0.9538 - val_loss: 0.1859 - val_accuracy: 0.9606\n",
      "Epoch 18/50\n",
      "10000/10000 [==============================] - 41s 4ms/step - loss: 0.1533 - accuracy: 0.9552 - val_loss: 0.1807 - val_accuracy: 0.9602\n",
      "Epoch 19/50\n",
      "10000/10000 [==============================] - 41s 4ms/step - loss: 0.1355 - accuracy: 0.9597 - val_loss: 0.1816 - val_accuracy: 0.9585\n",
      "Epoch 20/50\n",
      "10000/10000 [==============================] - 41s 4ms/step - loss: 0.1269 - accuracy: 0.9643 - val_loss: 0.1786 - val_accuracy: 0.9567\n",
      "Epoch 21/50\n",
      "10000/10000 [==============================] - 41s 4ms/step - loss: 0.1228 - accuracy: 0.9649 - val_loss: 0.1706 - val_accuracy: 0.9604\n",
      "Epoch 22/50\n",
      "10000/10000 [==============================] - 41s 4ms/step - loss: 0.1139 - accuracy: 0.9656 - val_loss: 0.1702 - val_accuracy: 0.9600\n",
      "Epoch 23/50\n",
      "10000/10000 [==============================] - 41s 4ms/step - loss: 0.1143 - accuracy: 0.9659 - val_loss: 0.1691 - val_accuracy: 0.9589\n",
      "Epoch 24/50\n",
      "10000/10000 [==============================] - 41s 4ms/step - loss: 0.1069 - accuracy: 0.9675 - val_loss: 0.1698 - val_accuracy: 0.9624\n",
      "Epoch 25/50\n",
      "10000/10000 [==============================] - 41s 4ms/step - loss: 0.1018 - accuracy: 0.9689 - val_loss: 0.1667 - val_accuracy: 0.9618\n",
      "Epoch 26/50\n",
      "10000/10000 [==============================] - 40s 4ms/step - loss: 0.0993 - accuracy: 0.9704 - val_loss: 0.1561 - val_accuracy: 0.9631\n",
      "Epoch 27/50\n",
      "10000/10000 [==============================] - 41s 4ms/step - loss: 0.0899 - accuracy: 0.9714 - val_loss: 0.1613 - val_accuracy: 0.9626\n",
      "Epoch 28/50\n",
      "10000/10000 [==============================] - 43s 4ms/step - loss: 0.0882 - accuracy: 0.9731 - val_loss: 0.1586 - val_accuracy: 0.9653\n",
      "Epoch 29/50\n",
      "10000/10000 [==============================] - 42s 4ms/step - loss: 0.0823 - accuracy: 0.9745 - val_loss: 0.1591 - val_accuracy: 0.9642\n"
     ]
    },
    {
     "data": {
      "text/plain": [
       "<keras.callbacks.callbacks.History at 0x1c3297c09e8>"
      ]
     },
     "execution_count": 52,
     "metadata": {},
     "output_type": "execute_result"
    }
   ],
   "source": [
    "# モデル３で訓練\n",
    "model_3.fit(X_train, y_train, validation_data=(X_test, y_tset), callbacks=[callbacks], epochs=50)"
   ]
  },
  {
   "cell_type": "code",
   "execution_count": 53,
   "metadata": {},
   "outputs": [],
   "source": [
    "# テストデータで予測\n",
    "pred_test_3 = model_3.predict_classes(X_test)"
   ]
  },
  {
   "cell_type": "code",
   "execution_count": 54,
   "metadata": {},
   "outputs": [
    {
     "data": {
      "text/plain": [
       "array([19, 52, 27, 63, 18], dtype=int64)"
      ]
     },
     "execution_count": 54,
     "metadata": {},
     "output_type": "execute_result"
    }
   ],
   "source": [
    "pred_test_3[:5]"
   ]
  },
  {
   "cell_type": "code",
   "execution_count": 55,
   "metadata": {},
   "outputs": [
    {
     "data": {
      "text/plain": [
       "0.9642"
      ]
     },
     "execution_count": 55,
     "metadata": {},
     "output_type": "execute_result"
    }
   ],
   "source": [
    "accuracy_score(y_eval, pred_test_3)"
   ]
  },
  {
   "cell_type": "code",
   "execution_count": null,
   "metadata": {},
   "outputs": [],
   "source": []
  }
 ],
 "metadata": {
  "kernelspec": {
   "display_name": "Python 3",
   "language": "python",
   "name": "python3"
  },
  "language_info": {
   "codemirror_mode": {
    "name": "ipython",
    "version": 3
   },
   "file_extension": ".py",
   "mimetype": "text/x-python",
   "name": "python",
   "nbconvert_exporter": "python",
   "pygments_lexer": "ipython3",
   "version": "3.6.7"
  }
 },
 "nbformat": 4,
 "nbformat_minor": 2
}
