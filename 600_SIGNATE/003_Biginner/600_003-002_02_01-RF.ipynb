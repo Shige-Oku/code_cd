{
 "cells": [
  {
   "cell_type": "markdown",
   "metadata": {},
   "source": [
    "## ランダムフォレスト　デフォルト"
   ]
  },
  {
   "cell_type": "code",
   "execution_count": 1,
   "metadata": {},
   "outputs": [],
   "source": [
    "import numpy as np\n",
    "import pandas as pd\n",
    "\n",
    "from sklearn.ensemble import RandomForestClassifier\n",
    "from sklearn.metrics import mean_squared_error, confusion_matrix \n",
    "from sklearn.metrics import accuracy_score, f1_score, precision_score, recall_score\n",
    "from sklearn.model_selection import train_test_split\n",
    "\n",
    "from sklearn import tree\n"
   ]
  },
  {
   "cell_type": "code",
   "execution_count": 15,
   "metadata": {},
   "outputs": [],
   "source": [
    "# pickle ファイルから読み込み\n",
    "train_pkl = pd.read_pickle('./train.pk2')"
   ]
  },
  {
   "cell_type": "code",
   "execution_count": 16,
   "metadata": {},
   "outputs": [
    {
     "data": {
      "text/plain": [
       "(242150, 83)"
      ]
     },
     "execution_count": 16,
     "metadata": {},
     "output_type": "execute_result"
    }
   ],
   "source": [
    "train_pkl.shape"
   ]
  },
  {
   "cell_type": "code",
   "execution_count": 17,
   "metadata": {},
   "outputs": [
    {
     "data": {
      "text/html": [
       "<div>\n",
       "<style scoped>\n",
       "    .dataframe tbody tr th:only-of-type {\n",
       "        vertical-align: middle;\n",
       "    }\n",
       "\n",
       "    .dataframe tbody tr th {\n",
       "        vertical-align: top;\n",
       "    }\n",
       "\n",
       "    .dataframe thead th {\n",
       "        text-align: right;\n",
       "    }\n",
       "</style>\n",
       "<table border=\"1\" class=\"dataframe\">\n",
       "  <thead>\n",
       "    <tr style=\"text-align: right;\">\n",
       "      <th></th>\n",
       "      <th>loan_amnt</th>\n",
       "      <th>term</th>\n",
       "      <th>interest_rate</th>\n",
       "      <th>employment_length</th>\n",
       "      <th>credit_score</th>\n",
       "      <th>application_type</th>\n",
       "      <th>application_type + credit_score</th>\n",
       "      <th>application_type + employment_length</th>\n",
       "      <th>application_type + interest_rate</th>\n",
       "      <th>application_type + loan_amnt</th>\n",
       "      <th>...</th>\n",
       "      <th>credit_score - loan_amnt</th>\n",
       "      <th>credit_score - term</th>\n",
       "      <th>employment_length - interest_rate</th>\n",
       "      <th>employment_length - loan_amnt</th>\n",
       "      <th>employment_length - term</th>\n",
       "      <th>interest_rate - loan_amnt</th>\n",
       "      <th>interest_rate - term</th>\n",
       "      <th>loan_amnt - term</th>\n",
       "      <th>loan_status</th>\n",
       "      <th>id</th>\n",
       "    </tr>\n",
       "  </thead>\n",
       "  <tbody>\n",
       "    <tr>\n",
       "      <th>count</th>\n",
       "      <td>242150.000000</td>\n",
       "      <td>242150.000000</td>\n",
       "      <td>242150.000000</td>\n",
       "      <td>242150.000000</td>\n",
       "      <td>242150.000000</td>\n",
       "      <td>242150.000000</td>\n",
       "      <td>242150.000000</td>\n",
       "      <td>242150.000000</td>\n",
       "      <td>242150.000000</td>\n",
       "      <td>242150.000000</td>\n",
       "      <td>...</td>\n",
       "      <td>242150.000000</td>\n",
       "      <td>242150.000000</td>\n",
       "      <td>242150.000000</td>\n",
       "      <td>242150.000000</td>\n",
       "      <td>242150.000000</td>\n",
       "      <td>242150.000000</td>\n",
       "      <td>242150.000000</td>\n",
       "      <td>242150.000000</td>\n",
       "      <td>242150.000000</td>\n",
       "      <td>242150.00000</td>\n",
       "    </tr>\n",
       "    <tr>\n",
       "      <th>mean</th>\n",
       "      <td>1520.389009</td>\n",
       "      <td>3.431658</td>\n",
       "      <td>13.801496</td>\n",
       "      <td>6.672298</td>\n",
       "      <td>683.575024</td>\n",
       "      <td>0.007359</td>\n",
       "      <td>683.582383</td>\n",
       "      <td>6.679657</td>\n",
       "      <td>13.808855</td>\n",
       "      <td>1520.396369</td>\n",
       "      <td>...</td>\n",
       "      <td>-836.813985</td>\n",
       "      <td>680.143366</td>\n",
       "      <td>-7.129197</td>\n",
       "      <td>-1513.716711</td>\n",
       "      <td>3.240640</td>\n",
       "      <td>-1506.587514</td>\n",
       "      <td>10.369838</td>\n",
       "      <td>1516.957351</td>\n",
       "      <td>0.174916</td>\n",
       "      <td>121074.50000</td>\n",
       "    </tr>\n",
       "    <tr>\n",
       "      <th>std</th>\n",
       "      <td>830.250197</td>\n",
       "      <td>0.822794</td>\n",
       "      <td>4.588924</td>\n",
       "      <td>3.657411</td>\n",
       "      <td>29.554795</td>\n",
       "      <td>0.085469</td>\n",
       "      <td>29.556557</td>\n",
       "      <td>3.656696</td>\n",
       "      <td>4.590767</td>\n",
       "      <td>830.254507</td>\n",
       "      <td>...</td>\n",
       "      <td>827.868342</td>\n",
       "      <td>29.590202</td>\n",
       "      <td>5.864958</td>\n",
       "      <td>830.014131</td>\n",
       "      <td>3.725264</td>\n",
       "      <td>829.295029</td>\n",
       "      <td>4.269758</td>\n",
       "      <td>829.966347</td>\n",
       "      <td>0.379896</td>\n",
       "      <td>69902.82818</td>\n",
       "    </tr>\n",
       "    <tr>\n",
       "      <th>min</th>\n",
       "      <td>323.797279</td>\n",
       "      <td>3.000000</td>\n",
       "      <td>5.704849</td>\n",
       "      <td>0.000000</td>\n",
       "      <td>655.424269</td>\n",
       "      <td>0.000000</td>\n",
       "      <td>655.424269</td>\n",
       "      <td>0.000000</td>\n",
       "      <td>5.704849</td>\n",
       "      <td>323.797279</td>\n",
       "      <td>...</td>\n",
       "      <td>-3175.687333</td>\n",
       "      <td>650.510945</td>\n",
       "      <td>-27.528590</td>\n",
       "      <td>-3851.867974</td>\n",
       "      <td>-5.000000</td>\n",
       "      <td>-3839.018030</td>\n",
       "      <td>0.812533</td>\n",
       "      <td>320.797279</td>\n",
       "      <td>0.000000</td>\n",
       "      <td>0.00000</td>\n",
       "    </tr>\n",
       "    <tr>\n",
       "      <th>25%</th>\n",
       "      <td>761.954545</td>\n",
       "      <td>3.000000</td>\n",
       "      <td>10.876086</td>\n",
       "      <td>3.000000</td>\n",
       "      <td>659.531106</td>\n",
       "      <td>0.000000</td>\n",
       "      <td>659.535793</td>\n",
       "      <td>3.000000</td>\n",
       "      <td>10.881283</td>\n",
       "      <td>761.954545</td>\n",
       "      <td>...</td>\n",
       "      <td>-1456.738754</td>\n",
       "      <td>656.161458</td>\n",
       "      <td>-11.415029</td>\n",
       "      <td>-2145.168102</td>\n",
       "      <td>0.000000</td>\n",
       "      <td>-2137.691382</td>\n",
       "      <td>7.722855</td>\n",
       "      <td>758.919295</td>\n",
       "      <td>0.000000</td>\n",
       "      <td>60537.25000</td>\n",
       "    </tr>\n",
       "    <tr>\n",
       "      <th>50%</th>\n",
       "      <td>1212.680586</td>\n",
       "      <td>3.000000</td>\n",
       "      <td>13.543833</td>\n",
       "      <td>9.000000</td>\n",
       "      <td>678.672563</td>\n",
       "      <td>0.000000</td>\n",
       "      <td>678.678756</td>\n",
       "      <td>9.000000</td>\n",
       "      <td>13.547887</td>\n",
       "      <td>1212.686834</td>\n",
       "      <td>...</td>\n",
       "      <td>-543.566096</td>\n",
       "      <td>675.292875</td>\n",
       "      <td>-6.997864</td>\n",
       "      <td>-1206.503023</td>\n",
       "      <td>5.000000</td>\n",
       "      <td>-1198.974968</td>\n",
       "      <td>10.279170</td>\n",
       "      <td>1209.357969</td>\n",
       "      <td>0.000000</td>\n",
       "      <td>121074.50000</td>\n",
       "    </tr>\n",
       "    <tr>\n",
       "      <th>75%</th>\n",
       "      <td>2152.213330</td>\n",
       "      <td>3.000000</td>\n",
       "      <td>17.172395</td>\n",
       "      <td>10.000000</td>\n",
       "      <td>698.591960</td>\n",
       "      <td>0.000000</td>\n",
       "      <td>698.595488</td>\n",
       "      <td>10.000000</td>\n",
       "      <td>17.176818</td>\n",
       "      <td>2152.223840</td>\n",
       "      <td>...</td>\n",
       "      <td>-94.138528</td>\n",
       "      <td>695.267101</td>\n",
       "      <td>-3.048240</td>\n",
       "      <td>-756.153564</td>\n",
       "      <td>7.000000</td>\n",
       "      <td>-748.529252</td>\n",
       "      <td>12.980316</td>\n",
       "      <td>2148.261662</td>\n",
       "      <td>0.000000</td>\n",
       "      <td>181611.75000</td>\n",
       "    </tr>\n",
       "    <tr>\n",
       "      <th>max</th>\n",
       "      <td>3851.867974</td>\n",
       "      <td>5.000000</td>\n",
       "      <td>27.980604</td>\n",
       "      <td>10.000000</td>\n",
       "      <td>808.551641</td>\n",
       "      <td>1.000000</td>\n",
       "      <td>808.551641</td>\n",
       "      <td>11.000000</td>\n",
       "      <td>28.980604</td>\n",
       "      <td>3851.867974</td>\n",
       "      <td>...</td>\n",
       "      <td>462.497412</td>\n",
       "      <td>804.433596</td>\n",
       "      <td>4.295151</td>\n",
       "      <td>-313.797279</td>\n",
       "      <td>7.000000</td>\n",
       "      <td>-316.593872</td>\n",
       "      <td>24.260526</td>\n",
       "      <td>3846.867974</td>\n",
       "      <td>1.000000</td>\n",
       "      <td>242149.00000</td>\n",
       "    </tr>\n",
       "  </tbody>\n",
       "</table>\n",
       "<p>8 rows × 83 columns</p>\n",
       "</div>"
      ],
      "text/plain": [
       "           loan_amnt           term  interest_rate  employment_length  \\\n",
       "count  242150.000000  242150.000000  242150.000000      242150.000000   \n",
       "mean     1520.389009       3.431658      13.801496           6.672298   \n",
       "std       830.250197       0.822794       4.588924           3.657411   \n",
       "min       323.797279       3.000000       5.704849           0.000000   \n",
       "25%       761.954545       3.000000      10.876086           3.000000   \n",
       "50%      1212.680586       3.000000      13.543833           9.000000   \n",
       "75%      2152.213330       3.000000      17.172395          10.000000   \n",
       "max      3851.867974       5.000000      27.980604          10.000000   \n",
       "\n",
       "        credit_score  application_type  application_type + credit_score  \\\n",
       "count  242150.000000     242150.000000                    242150.000000   \n",
       "mean      683.575024          0.007359                       683.582383   \n",
       "std        29.554795          0.085469                        29.556557   \n",
       "min       655.424269          0.000000                       655.424269   \n",
       "25%       659.531106          0.000000                       659.535793   \n",
       "50%       678.672563          0.000000                       678.678756   \n",
       "75%       698.591960          0.000000                       698.595488   \n",
       "max       808.551641          1.000000                       808.551641   \n",
       "\n",
       "       application_type + employment_length  application_type + interest_rate  \\\n",
       "count                         242150.000000                     242150.000000   \n",
       "mean                               6.679657                         13.808855   \n",
       "std                                3.656696                          4.590767   \n",
       "min                                0.000000                          5.704849   \n",
       "25%                                3.000000                         10.881283   \n",
       "50%                                9.000000                         13.547887   \n",
       "75%                               10.000000                         17.176818   \n",
       "max                               11.000000                         28.980604   \n",
       "\n",
       "       application_type + loan_amnt  ...  credit_score - loan_amnt  \\\n",
       "count                 242150.000000  ...             242150.000000   \n",
       "mean                    1520.396369  ...               -836.813985   \n",
       "std                      830.254507  ...                827.868342   \n",
       "min                      323.797279  ...              -3175.687333   \n",
       "25%                      761.954545  ...              -1456.738754   \n",
       "50%                     1212.686834  ...               -543.566096   \n",
       "75%                     2152.223840  ...                -94.138528   \n",
       "max                     3851.867974  ...                462.497412   \n",
       "\n",
       "       credit_score - term  employment_length - interest_rate  \\\n",
       "count        242150.000000                      242150.000000   \n",
       "mean            680.143366                          -7.129197   \n",
       "std              29.590202                           5.864958   \n",
       "min             650.510945                         -27.528590   \n",
       "25%             656.161458                         -11.415029   \n",
       "50%             675.292875                          -6.997864   \n",
       "75%             695.267101                          -3.048240   \n",
       "max             804.433596                           4.295151   \n",
       "\n",
       "       employment_length - loan_amnt  employment_length - term  \\\n",
       "count                  242150.000000             242150.000000   \n",
       "mean                    -1513.716711                  3.240640   \n",
       "std                       830.014131                  3.725264   \n",
       "min                     -3851.867974                 -5.000000   \n",
       "25%                     -2145.168102                  0.000000   \n",
       "50%                     -1206.503023                  5.000000   \n",
       "75%                      -756.153564                  7.000000   \n",
       "max                      -313.797279                  7.000000   \n",
       "\n",
       "       interest_rate - loan_amnt  interest_rate - term  loan_amnt - term  \\\n",
       "count              242150.000000         242150.000000     242150.000000   \n",
       "mean                -1506.587514             10.369838       1516.957351   \n",
       "std                   829.295029              4.269758        829.966347   \n",
       "min                 -3839.018030              0.812533        320.797279   \n",
       "25%                 -2137.691382              7.722855        758.919295   \n",
       "50%                 -1198.974968             10.279170       1209.357969   \n",
       "75%                  -748.529252             12.980316       2148.261662   \n",
       "max                  -316.593872             24.260526       3846.867974   \n",
       "\n",
       "         loan_status            id  \n",
       "count  242150.000000  242150.00000  \n",
       "mean        0.174916  121074.50000  \n",
       "std         0.379896   69902.82818  \n",
       "min         0.000000       0.00000  \n",
       "25%         0.000000   60537.25000  \n",
       "50%         0.000000  121074.50000  \n",
       "75%         0.000000  181611.75000  \n",
       "max         1.000000  242149.00000  \n",
       "\n",
       "[8 rows x 83 columns]"
      ]
     },
     "execution_count": 17,
     "metadata": {},
     "output_type": "execute_result"
    }
   ],
   "source": [
    "train_pkl.describe()"
   ]
  },
  {
   "cell_type": "code",
   "execution_count": 18,
   "metadata": {},
   "outputs": [],
   "source": [
    "# object 型削除\n",
    "# train_pkl.drop(['grade', 'purpose'], axis=1, inplace=True)"
   ]
  },
  {
   "cell_type": "code",
   "execution_count": 19,
   "metadata": {},
   "outputs": [
    {
     "data": {
      "text/plain": [
       "(242150, 83)"
      ]
     },
     "execution_count": 19,
     "metadata": {},
     "output_type": "execute_result"
    }
   ],
   "source": [
    "# train_pkl.info()\n",
    "train_pkl.shape"
   ]
  },
  {
   "cell_type": "markdown",
   "metadata": {},
   "source": [
    "## 訓練データとテストデータに分割"
   ]
  },
  {
   "cell_type": "code",
   "execution_count": 20,
   "metadata": {},
   "outputs": [],
   "source": [
    "# 訓練とテストデータに分割\n",
    "train, test = train_test_split(train_pkl, test_size=0.2, random_state=42)"
   ]
  },
  {
   "cell_type": "code",
   "execution_count": 21,
   "metadata": {},
   "outputs": [],
   "source": [
    "# ターゲットと特徴量の分割\n",
    "train_X = train.iloc[:, :-2]\n",
    "train_y = train.loan_status"
   ]
  },
  {
   "cell_type": "code",
   "execution_count": 22,
   "metadata": {},
   "outputs": [
    {
     "data": {
      "text/plain": [
       "((193720, 81), (193720,))"
      ]
     },
     "execution_count": 22,
     "metadata": {},
     "output_type": "execute_result"
    }
   ],
   "source": [
    "train_X.shape, train_y.shape"
   ]
  },
  {
   "cell_type": "markdown",
   "metadata": {},
   "source": [
    "## 訓練データで訓練"
   ]
  },
  {
   "cell_type": "code",
   "execution_count": 23,
   "metadata": {},
   "outputs": [],
   "source": [
    "RF = RandomForestClassifier(random_state=42)"
   ]
  },
  {
   "cell_type": "code",
   "execution_count": 24,
   "metadata": {},
   "outputs": [
    {
     "ename": "ValueError",
     "evalue": "Input contains NaN, infinity or a value too large for dtype('float32').",
     "output_type": "error",
     "traceback": [
      "\u001b[1;31m---------------------------------------------------------------------------\u001b[0m",
      "\u001b[1;31mValueError\u001b[0m                                Traceback (most recent call last)",
      "\u001b[1;32m<ipython-input-24-918af994728e>\u001b[0m in \u001b[0;36m<module>\u001b[1;34m\u001b[0m\n\u001b[1;32m----> 1\u001b[1;33m \u001b[0mRF\u001b[0m \u001b[1;33m=\u001b[0m \u001b[0mRF\u001b[0m\u001b[1;33m.\u001b[0m\u001b[0mfit\u001b[0m\u001b[1;33m(\u001b[0m\u001b[0mtrain_X\u001b[0m\u001b[1;33m,\u001b[0m \u001b[0mtrain_y\u001b[0m\u001b[1;33m)\u001b[0m\u001b[1;33m\u001b[0m\u001b[1;33m\u001b[0m\u001b[0m\n\u001b[0m",
      "\u001b[1;32m~\\Anaconda3\\lib\\site-packages\\sklearn\\ensemble\\_forest.py\u001b[0m in \u001b[0;36mfit\u001b[1;34m(self, X, y, sample_weight)\u001b[0m\n\u001b[0;32m    293\u001b[0m         \"\"\"\n\u001b[0;32m    294\u001b[0m         \u001b[1;31m# Validate or convert input data\u001b[0m\u001b[1;33m\u001b[0m\u001b[1;33m\u001b[0m\u001b[1;33m\u001b[0m\u001b[0m\n\u001b[1;32m--> 295\u001b[1;33m         \u001b[0mX\u001b[0m \u001b[1;33m=\u001b[0m \u001b[0mcheck_array\u001b[0m\u001b[1;33m(\u001b[0m\u001b[0mX\u001b[0m\u001b[1;33m,\u001b[0m \u001b[0maccept_sparse\u001b[0m\u001b[1;33m=\u001b[0m\u001b[1;34m\"csc\"\u001b[0m\u001b[1;33m,\u001b[0m \u001b[0mdtype\u001b[0m\u001b[1;33m=\u001b[0m\u001b[0mDTYPE\u001b[0m\u001b[1;33m)\u001b[0m\u001b[1;33m\u001b[0m\u001b[1;33m\u001b[0m\u001b[0m\n\u001b[0m\u001b[0;32m    296\u001b[0m         \u001b[0my\u001b[0m \u001b[1;33m=\u001b[0m \u001b[0mcheck_array\u001b[0m\u001b[1;33m(\u001b[0m\u001b[0my\u001b[0m\u001b[1;33m,\u001b[0m \u001b[0maccept_sparse\u001b[0m\u001b[1;33m=\u001b[0m\u001b[1;34m'csc'\u001b[0m\u001b[1;33m,\u001b[0m \u001b[0mensure_2d\u001b[0m\u001b[1;33m=\u001b[0m\u001b[1;32mFalse\u001b[0m\u001b[1;33m,\u001b[0m \u001b[0mdtype\u001b[0m\u001b[1;33m=\u001b[0m\u001b[1;32mNone\u001b[0m\u001b[1;33m)\u001b[0m\u001b[1;33m\u001b[0m\u001b[1;33m\u001b[0m\u001b[0m\n\u001b[0;32m    297\u001b[0m         \u001b[1;32mif\u001b[0m \u001b[0msample_weight\u001b[0m \u001b[1;32mis\u001b[0m \u001b[1;32mnot\u001b[0m \u001b[1;32mNone\u001b[0m\u001b[1;33m:\u001b[0m\u001b[1;33m\u001b[0m\u001b[1;33m\u001b[0m\u001b[0m\n",
      "\u001b[1;32m~\\Anaconda3\\lib\\site-packages\\sklearn\\utils\\validation.py\u001b[0m in \u001b[0;36mcheck_array\u001b[1;34m(array, accept_sparse, accept_large_sparse, dtype, order, copy, force_all_finite, ensure_2d, allow_nd, ensure_min_samples, ensure_min_features, warn_on_dtype, estimator)\u001b[0m\n\u001b[0;32m    560\u001b[0m         \u001b[1;32mif\u001b[0m \u001b[0mforce_all_finite\u001b[0m\u001b[1;33m:\u001b[0m\u001b[1;33m\u001b[0m\u001b[1;33m\u001b[0m\u001b[0m\n\u001b[0;32m    561\u001b[0m             _assert_all_finite(array,\n\u001b[1;32m--> 562\u001b[1;33m                                allow_nan=force_all_finite == 'allow-nan')\n\u001b[0m\u001b[0;32m    563\u001b[0m \u001b[1;33m\u001b[0m\u001b[0m\n\u001b[0;32m    564\u001b[0m     \u001b[1;32mif\u001b[0m \u001b[0mensure_min_samples\u001b[0m \u001b[1;33m>\u001b[0m \u001b[1;36m0\u001b[0m\u001b[1;33m:\u001b[0m\u001b[1;33m\u001b[0m\u001b[1;33m\u001b[0m\u001b[0m\n",
      "\u001b[1;32m~\\Anaconda3\\lib\\site-packages\\sklearn\\utils\\validation.py\u001b[0m in \u001b[0;36m_assert_all_finite\u001b[1;34m(X, allow_nan, msg_dtype)\u001b[0m\n\u001b[0;32m     58\u001b[0m                     \u001b[0mmsg_err\u001b[0m\u001b[1;33m.\u001b[0m\u001b[0mformat\u001b[0m\u001b[1;33m\u001b[0m\u001b[1;33m\u001b[0m\u001b[0m\n\u001b[0;32m     59\u001b[0m                     (type_err,\n\u001b[1;32m---> 60\u001b[1;33m                      msg_dtype if msg_dtype is not None else X.dtype)\n\u001b[0m\u001b[0;32m     61\u001b[0m             )\n\u001b[0;32m     62\u001b[0m     \u001b[1;31m# for object dtype data, we only check for NaNs (GH-13254)\u001b[0m\u001b[1;33m\u001b[0m\u001b[1;33m\u001b[0m\u001b[1;33m\u001b[0m\u001b[0m\n",
      "\u001b[1;31mValueError\u001b[0m: Input contains NaN, infinity or a value too large for dtype('float32')."
     ]
    }
   ],
   "source": [
    "RF = RF.fit(train_X, train_y)"
   ]
  },
  {
   "cell_type": "code",
   "execution_count": 18,
   "metadata": {},
   "outputs": [
    {
     "data": {
      "text/plain": [
       "array([0.29278603, 0.01597332, 0.34905624, 0.03817578, 0.30227264,\n",
       "       0.001736  ])"
      ]
     },
     "execution_count": 18,
     "metadata": {},
     "output_type": "execute_result"
    }
   ],
   "source": [
    "RF.feature_importances_"
   ]
  },
  {
   "cell_type": "code",
   "execution_count": 20,
   "metadata": {},
   "outputs": [
    {
     "data": {
      "text/plain": [
       "[(0.349, 'interest_rate'),\n",
       " (0.302, 'credit_score'),\n",
       " (0.293, 'loan_amnt'),\n",
       " (0.038, 'employment_length'),\n",
       " (0.016, 'term'),\n",
       " (0.002, 'application_type')]"
      ]
     },
     "execution_count": 20,
     "metadata": {},
     "output_type": "execute_result"
    }
   ],
   "source": [
    "sorted(\n",
    "    zip(map(lambda x: round(x, 3), RF.feature_importances_), train_X.columns),\n",
    "    reverse=True)"
   ]
  },
  {
   "cell_type": "code",
   "execution_count": 21,
   "metadata": {},
   "outputs": [],
   "source": [
    "# 訓練済みの決定木を視覚化\n",
    "# dot_data = tree.export_graphviz(RF, out_file=None,\n",
    "#                                feature_names=train.iloc[:, 1:].columns,\n",
    "#                                class_names=train.Survived.name,\n",
    "#                                rounded=True,\n",
    "#                                filled=True,\n",
    "#                                special_characters=True)"
   ]
  },
  {
   "cell_type": "markdown",
   "metadata": {},
   "source": [
    "## テストデータで実行"
   ]
  },
  {
   "cell_type": "code",
   "execution_count": 23,
   "metadata": {},
   "outputs": [],
   "source": [
    "# ターゲットと特徴量の分割\n",
    "test_x = test.iloc[:, 1:-1]\n",
    "test_y = test.loan_status"
   ]
  },
  {
   "cell_type": "code",
   "execution_count": 24,
   "metadata": {},
   "outputs": [
    {
     "data": {
      "text/plain": [
       "((48430, 6), (48430,))"
      ]
     },
     "execution_count": 24,
     "metadata": {},
     "output_type": "execute_result"
    }
   ],
   "source": [
    "test_x.shape, test_y.shape"
   ]
  },
  {
   "cell_type": "code",
   "execution_count": 75,
   "metadata": {},
   "outputs": [
    {
     "data": {
      "text/plain": [
       "(0.17461284327895932, 0.17613049762543878)"
      ]
     },
     "execution_count": 75,
     "metadata": {},
     "output_type": "execute_result"
    }
   ],
   "source": [
    "train_y.sum() / train_y.shape[0], test_y.sum() / test_y.shape[0]"
   ]
  },
  {
   "cell_type": "code",
   "execution_count": 25,
   "metadata": {},
   "outputs": [],
   "source": [
    "pred_y = RF.predict(test_x)"
   ]
  },
  {
   "cell_type": "code",
   "execution_count": 26,
   "metadata": {},
   "outputs": [
    {
     "data": {
      "text/plain": [
       "(48430,)"
      ]
     },
     "execution_count": 26,
     "metadata": {},
     "output_type": "execute_result"
    }
   ],
   "source": [
    "pred_y.shape"
   ]
  },
  {
   "cell_type": "code",
   "execution_count": 70,
   "metadata": {},
   "outputs": [
    {
     "data": {
      "text/plain": [
       "(8530, 2017)"
      ]
     },
     "execution_count": 70,
     "metadata": {},
     "output_type": "execute_result"
    }
   ],
   "source": [
    "test_y.sum(), pred_y.sum()"
   ]
  },
  {
   "cell_type": "code",
   "execution_count": 28,
   "metadata": {},
   "outputs": [
    {
     "data": {
      "text/plain": [
       "array([[38804,  1096],\n",
       "       [ 7609,   921]], dtype=int64)"
      ]
     },
     "execution_count": 28,
     "metadata": {},
     "output_type": "execute_result"
    }
   ],
   "source": [
    "confusion_matrix(test_y, pred_y)"
   ]
  },
  {
   "cell_type": "code",
   "execution_count": 29,
   "metadata": {},
   "outputs": [
    {
     "data": {
      "text/plain": [
       "0.8202560396448483"
      ]
     },
     "execution_count": 29,
     "metadata": {},
     "output_type": "execute_result"
    }
   ],
   "source": [
    "accuracy_score(test_y, pred_y)"
   ]
  },
  {
   "cell_type": "code",
   "execution_count": 30,
   "metadata": {},
   "outputs": [
    {
     "data": {
      "text/plain": [
       "0.1746468190006637"
      ]
     },
     "execution_count": 30,
     "metadata": {},
     "output_type": "execute_result"
    }
   ],
   "source": [
    "f1_score(test_y, pred_y)"
   ]
  },
  {
   "cell_type": "code",
   "execution_count": 66,
   "metadata": {},
   "outputs": [
    {
     "data": {
      "text/plain": [
       "0.10797186400937867"
      ]
     },
     "execution_count": 66,
     "metadata": {},
     "output_type": "execute_result"
    }
   ],
   "source": [
    "recall_score(test_y, pred_y)"
   ]
  },
  {
   "cell_type": "code",
   "execution_count": 71,
   "metadata": {},
   "outputs": [
    {
     "data": {
      "text/plain": [
       "0.10797186400937867"
      ]
     },
     "execution_count": 71,
     "metadata": {},
     "output_type": "execute_result"
    }
   ],
   "source": [
    "confusion_matrix(test_y, pred_y)[1, 1] / (confusion_matrix(test_y, pred_y)[1, 1] + confusion_matrix(test_y, pred_y)[1, 0])"
   ]
  },
  {
   "cell_type": "code",
   "execution_count": 65,
   "metadata": {},
   "outputs": [
    {
     "data": {
      "text/plain": [
       "0.45661874070401587"
      ]
     },
     "execution_count": 65,
     "metadata": {},
     "output_type": "execute_result"
    }
   ],
   "source": [
    "precision_score(test_y, pred_y)"
   ]
  },
  {
   "cell_type": "code",
   "execution_count": 72,
   "metadata": {},
   "outputs": [
    {
     "data": {
      "text/plain": [
       "0.45661874070401587"
      ]
     },
     "execution_count": 72,
     "metadata": {},
     "output_type": "execute_result"
    }
   ],
   "source": [
    "confusion_matrix(test_y, pred_y)[1, 1] / (confusion_matrix(test_y, pred_y)[1, 1] + confusion_matrix(test_y, pred_y)[0, 1])"
   ]
  },
  {
   "cell_type": "code",
   "execution_count": 68,
   "metadata": {},
   "outputs": [
    {
     "data": {
      "text/plain": [
       "0.1746468190006637"
      ]
     },
     "execution_count": 68,
     "metadata": {},
     "output_type": "execute_result"
    }
   ],
   "source": [
    "2 / ((1 / precision_score(test_y, pred_y)) + (1 / recall_score(test_y, pred_y)))"
   ]
  },
  {
   "cell_type": "markdown",
   "metadata": {},
   "source": [
    "## 検証データで実行"
   ]
  },
  {
   "cell_type": "code",
   "execution_count": 31,
   "metadata": {},
   "outputs": [],
   "source": [
    "# 検証データ読み込み\n",
    "valid = pd.read_pickle('./test.pk1')"
   ]
  },
  {
   "cell_type": "code",
   "execution_count": 32,
   "metadata": {},
   "outputs": [
    {
     "data": {
      "text/plain": [
       "(26900, 9)"
      ]
     },
     "execution_count": 32,
     "metadata": {},
     "output_type": "execute_result"
    }
   ],
   "source": [
    "valid.shape"
   ]
  },
  {
   "cell_type": "code",
   "execution_count": 33,
   "metadata": {},
   "outputs": [],
   "source": [
    "# ID の保存\n",
    "valid_pass = valid.id.values"
   ]
  },
  {
   "cell_type": "code",
   "execution_count": 34,
   "metadata": {},
   "outputs": [],
   "source": [
    "valid_X = valid.copy()"
   ]
  },
  {
   "cell_type": "code",
   "execution_count": 38,
   "metadata": {},
   "outputs": [],
   "source": [
    "valid_X.drop(['id', 'grade', 'purpose'], axis=1, inplace=True)"
   ]
  },
  {
   "cell_type": "code",
   "execution_count": 39,
   "metadata": {},
   "outputs": [
    {
     "data": {
      "text/html": [
       "<div>\n",
       "<style scoped>\n",
       "    .dataframe tbody tr th:only-of-type {\n",
       "        vertical-align: middle;\n",
       "    }\n",
       "\n",
       "    .dataframe tbody tr th {\n",
       "        vertical-align: top;\n",
       "    }\n",
       "\n",
       "    .dataframe thead th {\n",
       "        text-align: right;\n",
       "    }\n",
       "</style>\n",
       "<table border=\"1\" class=\"dataframe\">\n",
       "  <thead>\n",
       "    <tr style=\"text-align: right;\">\n",
       "      <th></th>\n",
       "      <th>loan_amnt</th>\n",
       "      <th>term</th>\n",
       "      <th>interest_rate</th>\n",
       "      <th>employment_length</th>\n",
       "      <th>credit_score</th>\n",
       "      <th>application_type</th>\n",
       "    </tr>\n",
       "  </thead>\n",
       "  <tbody>\n",
       "    <tr>\n",
       "      <th>count</th>\n",
       "      <td>26900.000000</td>\n",
       "      <td>26900.000000</td>\n",
       "      <td>26900.000000</td>\n",
       "      <td>26900.000000</td>\n",
       "      <td>26900.000000</td>\n",
       "      <td>26900.000000</td>\n",
       "    </tr>\n",
       "    <tr>\n",
       "      <th>mean</th>\n",
       "      <td>1515.095458</td>\n",
       "      <td>3.433309</td>\n",
       "      <td>13.778459</td>\n",
       "      <td>6.700669</td>\n",
       "      <td>683.840319</td>\n",
       "      <td>0.007175</td>\n",
       "    </tr>\n",
       "    <tr>\n",
       "      <th>std</th>\n",
       "      <td>827.710449</td>\n",
       "      <td>0.823945</td>\n",
       "      <td>4.587711</td>\n",
       "      <td>3.637777</td>\n",
       "      <td>29.685781</td>\n",
       "      <td>0.084401</td>\n",
       "    </tr>\n",
       "    <tr>\n",
       "      <th>min</th>\n",
       "      <td>353.090088</td>\n",
       "      <td>3.000000</td>\n",
       "      <td>5.745858</td>\n",
       "      <td>0.000000</td>\n",
       "      <td>655.435675</td>\n",
       "      <td>0.000000</td>\n",
       "    </tr>\n",
       "    <tr>\n",
       "      <th>25%</th>\n",
       "      <td>753.766957</td>\n",
       "      <td>3.000000</td>\n",
       "      <td>10.846102</td>\n",
       "      <td>3.000000</td>\n",
       "      <td>659.589762</td>\n",
       "      <td>0.000000</td>\n",
       "    </tr>\n",
       "    <tr>\n",
       "      <th>50%</th>\n",
       "      <td>1213.754480</td>\n",
       "      <td>3.000000</td>\n",
       "      <td>13.551492</td>\n",
       "      <td>9.000000</td>\n",
       "      <td>678.707870</td>\n",
       "      <td>0.000000</td>\n",
       "    </tr>\n",
       "    <tr>\n",
       "      <th>75%</th>\n",
       "      <td>2147.699462</td>\n",
       "      <td>3.000000</td>\n",
       "      <td>17.128929</td>\n",
       "      <td>10.000000</td>\n",
       "      <td>698.684676</td>\n",
       "      <td>0.000000</td>\n",
       "    </tr>\n",
       "    <tr>\n",
       "      <th>max</th>\n",
       "      <td>3812.969623</td>\n",
       "      <td>5.000000</td>\n",
       "      <td>27.503147</td>\n",
       "      <td>10.000000</td>\n",
       "      <td>811.676356</td>\n",
       "      <td>1.000000</td>\n",
       "    </tr>\n",
       "  </tbody>\n",
       "</table>\n",
       "</div>"
      ],
      "text/plain": [
       "          loan_amnt          term  interest_rate  employment_length  \\\n",
       "count  26900.000000  26900.000000   26900.000000       26900.000000   \n",
       "mean    1515.095458      3.433309      13.778459           6.700669   \n",
       "std      827.710449      0.823945       4.587711           3.637777   \n",
       "min      353.090088      3.000000       5.745858           0.000000   \n",
       "25%      753.766957      3.000000      10.846102           3.000000   \n",
       "50%     1213.754480      3.000000      13.551492           9.000000   \n",
       "75%     2147.699462      3.000000      17.128929          10.000000   \n",
       "max     3812.969623      5.000000      27.503147          10.000000   \n",
       "\n",
       "       credit_score  application_type  \n",
       "count  26900.000000      26900.000000  \n",
       "mean     683.840319          0.007175  \n",
       "std       29.685781          0.084401  \n",
       "min      655.435675          0.000000  \n",
       "25%      659.589762          0.000000  \n",
       "50%      678.707870          0.000000  \n",
       "75%      698.684676          0.000000  \n",
       "max      811.676356          1.000000  "
      ]
     },
     "execution_count": 39,
     "metadata": {},
     "output_type": "execute_result"
    }
   ],
   "source": [
    "valid_X.describe()"
   ]
  },
  {
   "cell_type": "code",
   "execution_count": 40,
   "metadata": {},
   "outputs": [
    {
     "data": {
      "text/plain": [
       "((26900, 6), (193720, 6))"
      ]
     },
     "execution_count": 40,
     "metadata": {},
     "output_type": "execute_result"
    }
   ],
   "source": [
    "valid_X.shape, train_X.shape"
   ]
  },
  {
   "cell_type": "code",
   "execution_count": 41,
   "metadata": {},
   "outputs": [],
   "source": [
    "pred_valid_y = RF.predict(valid_X)"
   ]
  },
  {
   "cell_type": "code",
   "execution_count": 56,
   "metadata": {},
   "outputs": [
    {
     "data": {
      "text/plain": [
       "((26900,), (26900,))"
      ]
     },
     "execution_count": 56,
     "metadata": {},
     "output_type": "execute_result"
    }
   ],
   "source": [
    "valid_pass.shape, pred_valid_y.shape"
   ]
  },
  {
   "cell_type": "code",
   "execution_count": 52,
   "metadata": {},
   "outputs": [
    {
     "data": {
      "text/plain": [
       "(numpy.ndarray, numpy.ndarray)"
      ]
     },
     "execution_count": 52,
     "metadata": {},
     "output_type": "execute_result"
    }
   ],
   "source": [
    "type(valid_pass), type(pred_valid_y)"
   ]
  },
  {
   "cell_type": "code",
   "execution_count": 57,
   "metadata": {},
   "outputs": [],
   "source": [
    "result_df = pd.DataFrame(pred_valid_y, valid_pass, columns=['result'])"
   ]
  },
  {
   "cell_type": "code",
   "execution_count": null,
   "metadata": {},
   "outputs": [],
   "source": []
  },
  {
   "cell_type": "code",
   "execution_count": 58,
   "metadata": {},
   "outputs": [
    {
     "data": {
      "text/html": [
       "<div>\n",
       "<style scoped>\n",
       "    .dataframe tbody tr th:only-of-type {\n",
       "        vertical-align: middle;\n",
       "    }\n",
       "\n",
       "    .dataframe tbody tr th {\n",
       "        vertical-align: top;\n",
       "    }\n",
       "\n",
       "    .dataframe thead th {\n",
       "        text-align: right;\n",
       "    }\n",
       "</style>\n",
       "<table border=\"1\" class=\"dataframe\">\n",
       "  <thead>\n",
       "    <tr style=\"text-align: right;\">\n",
       "      <th></th>\n",
       "      <th>result</th>\n",
       "    </tr>\n",
       "  </thead>\n",
       "  <tbody>\n",
       "    <tr>\n",
       "      <th>242150</th>\n",
       "      <td>0</td>\n",
       "    </tr>\n",
       "    <tr>\n",
       "      <th>242151</th>\n",
       "      <td>0</td>\n",
       "    </tr>\n",
       "    <tr>\n",
       "      <th>242152</th>\n",
       "      <td>0</td>\n",
       "    </tr>\n",
       "    <tr>\n",
       "      <th>242153</th>\n",
       "      <td>0</td>\n",
       "    </tr>\n",
       "    <tr>\n",
       "      <th>242154</th>\n",
       "      <td>0</td>\n",
       "    </tr>\n",
       "  </tbody>\n",
       "</table>\n",
       "</div>"
      ],
      "text/plain": [
       "        result\n",
       "242150       0\n",
       "242151       0\n",
       "242152       0\n",
       "242153       0\n",
       "242154       0"
      ]
     },
     "execution_count": 58,
     "metadata": {},
     "output_type": "execute_result"
    }
   ],
   "source": [
    "result_df.head()"
   ]
  },
  {
   "cell_type": "code",
   "execution_count": 59,
   "metadata": {},
   "outputs": [],
   "source": [
    "result_df.to_csv(\"./RF_1.csv\", header=False)"
   ]
  },
  {
   "cell_type": "code",
   "execution_count": null,
   "metadata": {},
   "outputs": [],
   "source": []
  }
 ],
 "metadata": {
  "kernelspec": {
   "display_name": "Python 3",
   "language": "python",
   "name": "python3"
  },
  "language_info": {
   "codemirror_mode": {
    "name": "ipython",
    "version": 3
   },
   "file_extension": ".py",
   "mimetype": "text/x-python",
   "name": "python",
   "nbconvert_exporter": "python",
   "pygments_lexer": "ipython3",
   "version": "3.6.10"
  }
 },
 "nbformat": 4,
 "nbformat_minor": 4
}
