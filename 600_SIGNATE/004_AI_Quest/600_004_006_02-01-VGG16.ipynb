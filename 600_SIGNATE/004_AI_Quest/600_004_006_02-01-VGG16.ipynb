{
 "cells": [
  {
   "cell_type": "markdown",
   "metadata": {},
   "source": [
    "# 「部品基盤のはんだ付け状態」の良品、不良品を判定\n",
    "#  前処理で保存した特徴量、ターゲットから\n",
    "#  このモデルをベースラインとする"
   ]
  },
  {
   "cell_type": "code",
   "execution_count": 1,
   "metadata": {},
   "outputs": [
    {
     "name": "stderr",
     "output_type": "stream",
     "text": [
      "Using TensorFlow backend.\n"
     ]
    }
   ],
   "source": [
    "import numpy as np\n",
    "import pandas as pd\n",
    "\n",
    "import matplotlib.pyplot as plt\n",
    "\n",
    "import keras as ks\n",
    "from keras.preprocessing.image import ImageDataGenerator\n",
    "from keras.optimizers import Adam, RMSprop\n",
    "from keras.models import Sequential\n",
    "from keras.layers import Dense, Flatten, Conv2D, MaxPooling2D, Dropout\n",
    "from keras.utils import np_utils\n",
    "from keras.callbacks import EarlyStopping, ModelCheckpoint\n",
    "from keras import backend as K\n",
    "from keras.applications.vgg16 import VGG16, preprocess_input\n",
    "from keras.preprocessing import image\n",
    "\n",
    "from sklearn.preprocessing import LabelEncoder\n",
    "from sklearn.model_selection import train_test_split\n",
    "from sklearn.metrics import confusion_matrix, recall_score, precision_score, accuracy_score, f1_score\n",
    "\n",
    "import os\n",
    "import glob\n",
    "\n",
    "%matplotlib inline\n"
   ]
  },
  {
   "cell_type": "code",
   "execution_count": 2,
   "metadata": {},
   "outputs": [],
   "source": [
    "# 訓練データ読み出し\n",
    "X_train0 = np.load('X_train.npy')\n",
    "y_train0 = np.load('y_train.npy')"
   ]
  },
  {
   "cell_type": "code",
   "execution_count": 3,
   "metadata": {},
   "outputs": [],
   "source": [
    "# 訓練とテストデータに分割\n",
    "X_train2, X_test2, y_train, y_test = train_test_split(X_train0, y_train0, test_size=0.2, random_state=42)"
   ]
  },
  {
   "cell_type": "code",
   "execution_count": 4,
   "metadata": {},
   "outputs": [
    {
     "data": {
      "text/plain": [
       "array([[[201., 201., 201.],\n",
       "        [192., 192., 192.],\n",
       "        [206., 206., 206.],\n",
       "        ...,\n",
       "        [200., 200., 200.],\n",
       "        [203., 203., 203.],\n",
       "        [194., 194., 194.]],\n",
       "\n",
       "       [[196., 196., 196.],\n",
       "        [207., 207., 207.],\n",
       "        [210., 210., 210.],\n",
       "        ...,\n",
       "        [199., 199., 199.],\n",
       "        [202., 202., 202.],\n",
       "        [196., 196., 196.]],\n",
       "\n",
       "       [[199., 199., 199.],\n",
       "        [207., 207., 207.],\n",
       "        [207., 207., 207.],\n",
       "        ...,\n",
       "        [197., 197., 197.],\n",
       "        [203., 203., 203.],\n",
       "        [196., 196., 196.]],\n",
       "\n",
       "       ...,\n",
       "\n",
       "       [[150., 150., 150.],\n",
       "        [179., 179., 179.],\n",
       "        [190., 190., 190.],\n",
       "        ...,\n",
       "        [191., 191., 191.],\n",
       "        [197., 197., 197.],\n",
       "        [204., 204., 204.]],\n",
       "\n",
       "       [[166., 166., 166.],\n",
       "        [191., 191., 191.],\n",
       "        [179., 179., 179.],\n",
       "        ...,\n",
       "        [193., 193., 193.],\n",
       "        [200., 200., 200.],\n",
       "        [204., 204., 204.]],\n",
       "\n",
       "       [[162., 162., 162.],\n",
       "        [187., 187., 187.],\n",
       "        [180., 180., 180.],\n",
       "        ...,\n",
       "        [190., 190., 190.],\n",
       "        [201., 201., 201.],\n",
       "        [200., 200., 200.]]], dtype=float32)"
      ]
     },
     "execution_count": 4,
     "metadata": {},
     "output_type": "execute_result"
    }
   ],
   "source": [
    "X_train2[0]"
   ]
  },
  {
   "cell_type": "code",
   "execution_count": 5,
   "metadata": {},
   "outputs": [
    {
     "data": {
      "text/plain": [
       "(255.0, 0.0)"
      ]
     },
     "execution_count": 5,
     "metadata": {},
     "output_type": "execute_result"
    }
   ],
   "source": [
    "X_train2[0].max(), X_train2[0].min()"
   ]
  },
  {
   "cell_type": "code",
   "execution_count": 6,
   "metadata": {},
   "outputs": [
    {
     "data": {
      "text/plain": [
       "array([[[210., 210., 210.],\n",
       "        [219., 219., 219.],\n",
       "        [207., 207., 207.],\n",
       "        ...,\n",
       "        [201., 201., 201.],\n",
       "        [210., 210., 210.],\n",
       "        [202., 202., 202.]],\n",
       "\n",
       "       [[209., 209., 209.],\n",
       "        [213., 213., 213.],\n",
       "        [212., 212., 212.],\n",
       "        ...,\n",
       "        [211., 211., 211.],\n",
       "        [198., 198., 198.],\n",
       "        [209., 209., 209.]],\n",
       "\n",
       "       [[205., 205., 205.],\n",
       "        [212., 212., 212.],\n",
       "        [206., 206., 206.],\n",
       "        ...,\n",
       "        [202., 202., 202.],\n",
       "        [208., 208., 208.],\n",
       "        [212., 212., 212.]],\n",
       "\n",
       "       ...,\n",
       "\n",
       "       [[211., 211., 211.],\n",
       "        [212., 212., 212.],\n",
       "        [218., 218., 218.],\n",
       "        ...,\n",
       "        [207., 207., 207.],\n",
       "        [214., 214., 214.],\n",
       "        [208., 208., 208.]],\n",
       "\n",
       "       [[202., 202., 202.],\n",
       "        [220., 220., 220.],\n",
       "        [209., 209., 209.],\n",
       "        ...,\n",
       "        [217., 217., 217.],\n",
       "        [196., 196., 196.],\n",
       "        [215., 215., 215.]],\n",
       "\n",
       "       [[209., 209., 209.],\n",
       "        [209., 209., 209.],\n",
       "        [220., 220., 220.],\n",
       "        ...,\n",
       "        [213., 213., 213.],\n",
       "        [206., 206., 206.],\n",
       "        [207., 207., 207.]]], dtype=float32)"
      ]
     },
     "execution_count": 6,
     "metadata": {},
     "output_type": "execute_result"
    }
   ],
   "source": [
    "X_test2[0]"
   ]
  },
  {
   "cell_type": "code",
   "execution_count": 7,
   "metadata": {},
   "outputs": [
    {
     "data": {
      "text/plain": [
       "(255.0, 1.0)"
      ]
     },
     "execution_count": 7,
     "metadata": {},
     "output_type": "execute_result"
    }
   ],
   "source": [
    "X_test2[0].max(), X_test2[0].min()"
   ]
  },
  {
   "cell_type": "code",
   "execution_count": 8,
   "metadata": {},
   "outputs": [],
   "source": [
    "X_train = preprocess_input(X_train2)\n",
    "X_test = preprocess_input(X_test2)"
   ]
  },
  {
   "cell_type": "code",
   "execution_count": 9,
   "metadata": {},
   "outputs": [
    {
     "data": {
      "text/plain": [
       "((320, 160, 160, 3), (320,), (80, 160, 160, 3), (80,))"
      ]
     },
     "execution_count": 9,
     "metadata": {},
     "output_type": "execute_result"
    }
   ],
   "source": [
    "X_train.shape, y_train.shape, X_test.shape, y_test.shape"
   ]
  },
  {
   "cell_type": "code",
   "execution_count": 10,
   "metadata": {},
   "outputs": [
    {
     "data": {
      "text/plain": [
       "array([[[ 97.061   ,  84.221   ,  77.32    ],\n",
       "        [ 88.061   ,  75.221   ,  68.32    ],\n",
       "        [102.061   ,  89.221   ,  82.32    ],\n",
       "        ...,\n",
       "        [ 96.061   ,  83.221   ,  76.32    ],\n",
       "        [ 99.061   ,  86.221   ,  79.32    ],\n",
       "        [ 90.061   ,  77.221   ,  70.32    ]],\n",
       "\n",
       "       [[ 92.061   ,  79.221   ,  72.32    ],\n",
       "        [103.061   ,  90.221   ,  83.32    ],\n",
       "        [106.061   ,  93.221   ,  86.32    ],\n",
       "        ...,\n",
       "        [ 95.061   ,  82.221   ,  75.32    ],\n",
       "        [ 98.061   ,  85.221   ,  78.32    ],\n",
       "        [ 92.061   ,  79.221   ,  72.32    ]],\n",
       "\n",
       "       [[ 95.061   ,  82.221   ,  75.32    ],\n",
       "        [103.061   ,  90.221   ,  83.32    ],\n",
       "        [103.061   ,  90.221   ,  83.32    ],\n",
       "        ...,\n",
       "        [ 93.061   ,  80.221   ,  73.32    ],\n",
       "        [ 99.061   ,  86.221   ,  79.32    ],\n",
       "        [ 92.061   ,  79.221   ,  72.32    ]],\n",
       "\n",
       "       ...,\n",
       "\n",
       "       [[ 46.060997,  33.221   ,  26.32    ],\n",
       "        [ 75.061   ,  62.221   ,  55.32    ],\n",
       "        [ 86.061   ,  73.221   ,  66.32    ],\n",
       "        ...,\n",
       "        [ 87.061   ,  74.221   ,  67.32    ],\n",
       "        [ 93.061   ,  80.221   ,  73.32    ],\n",
       "        [100.061   ,  87.221   ,  80.32    ]],\n",
       "\n",
       "       [[ 62.060997,  49.221   ,  42.32    ],\n",
       "        [ 87.061   ,  74.221   ,  67.32    ],\n",
       "        [ 75.061   ,  62.221   ,  55.32    ],\n",
       "        ...,\n",
       "        [ 89.061   ,  76.221   ,  69.32    ],\n",
       "        [ 96.061   ,  83.221   ,  76.32    ],\n",
       "        [100.061   ,  87.221   ,  80.32    ]],\n",
       "\n",
       "       [[ 58.060997,  45.221   ,  38.32    ],\n",
       "        [ 83.061   ,  70.221   ,  63.32    ],\n",
       "        [ 76.061   ,  63.221   ,  56.32    ],\n",
       "        ...,\n",
       "        [ 86.061   ,  73.221   ,  66.32    ],\n",
       "        [ 97.061   ,  84.221   ,  77.32    ],\n",
       "        [ 96.061   ,  83.221   ,  76.32    ]]], dtype=float32)"
      ]
     },
     "execution_count": 10,
     "metadata": {},
     "output_type": "execute_result"
    }
   ],
   "source": [
    "X_train[0]"
   ]
  },
  {
   "cell_type": "code",
   "execution_count": 11,
   "metadata": {},
   "outputs": [
    {
     "data": {
      "text/plain": [
       "(151.061, -123.68)"
      ]
     },
     "execution_count": 11,
     "metadata": {},
     "output_type": "execute_result"
    }
   ],
   "source": [
    "X_train[0].max(), X_train[0].min()"
   ]
  },
  {
   "cell_type": "code",
   "execution_count": 12,
   "metadata": {},
   "outputs": [
    {
     "data": {
      "text/plain": [
       "array([[[ 77.32    ,  84.221   ,  97.061   ],\n",
       "        [ 68.32    ,  75.221   ,  88.061   ],\n",
       "        [ 82.32    ,  89.221   , 102.061   ],\n",
       "        ...,\n",
       "        [ 76.32    ,  83.221   ,  96.061   ],\n",
       "        [ 79.32    ,  86.221   ,  99.061   ],\n",
       "        [ 70.32    ,  77.221   ,  90.061   ]],\n",
       "\n",
       "       [[ 72.32    ,  79.221   ,  92.061   ],\n",
       "        [ 83.32    ,  90.221   , 103.061   ],\n",
       "        [ 86.32    ,  93.221   , 106.061   ],\n",
       "        ...,\n",
       "        [ 75.32    ,  82.221   ,  95.061   ],\n",
       "        [ 78.32    ,  85.221   ,  98.061   ],\n",
       "        [ 72.32    ,  79.221   ,  92.061   ]],\n",
       "\n",
       "       [[ 75.32    ,  82.221   ,  95.061   ],\n",
       "        [ 83.32    ,  90.221   , 103.061   ],\n",
       "        [ 83.32    ,  90.221   , 103.061   ],\n",
       "        ...,\n",
       "        [ 73.32    ,  80.221   ,  93.061   ],\n",
       "        [ 79.32    ,  86.221   ,  99.061   ],\n",
       "        [ 72.32    ,  79.221   ,  92.061   ]],\n",
       "\n",
       "       ...,\n",
       "\n",
       "       [[ 26.32    ,  33.221   ,  46.060997],\n",
       "        [ 55.32    ,  62.221   ,  75.061   ],\n",
       "        [ 66.32    ,  73.221   ,  86.061   ],\n",
       "        ...,\n",
       "        [ 67.32    ,  74.221   ,  87.061   ],\n",
       "        [ 73.32    ,  80.221   ,  93.061   ],\n",
       "        [ 80.32    ,  87.221   , 100.061   ]],\n",
       "\n",
       "       [[ 42.32    ,  49.221   ,  62.060997],\n",
       "        [ 67.32    ,  74.221   ,  87.061   ],\n",
       "        [ 55.32    ,  62.221   ,  75.061   ],\n",
       "        ...,\n",
       "        [ 69.32    ,  76.221   ,  89.061   ],\n",
       "        [ 76.32    ,  83.221   ,  96.061   ],\n",
       "        [ 80.32    ,  87.221   , 100.061   ]],\n",
       "\n",
       "       [[ 38.32    ,  45.221   ,  58.060997],\n",
       "        [ 63.32    ,  70.221   ,  83.061   ],\n",
       "        [ 56.32    ,  63.221   ,  76.061   ],\n",
       "        ...,\n",
       "        [ 66.32    ,  73.221   ,  86.061   ],\n",
       "        [ 77.32    ,  84.221   ,  97.061   ],\n",
       "        [ 76.32    ,  83.221   ,  96.061   ]]], dtype=float32)"
      ]
     },
     "execution_count": 12,
     "metadata": {},
     "output_type": "execute_result"
    }
   ],
   "source": [
    "X_train2[0]"
   ]
  },
  {
   "cell_type": "code",
   "execution_count": 13,
   "metadata": {},
   "outputs": [
    {
     "data": {
      "text/plain": [
       "(151.061, -123.68)"
      ]
     },
     "execution_count": 13,
     "metadata": {},
     "output_type": "execute_result"
    }
   ],
   "source": [
    "X_train2[0].max(), X_train2[0].min()"
   ]
  },
  {
   "cell_type": "code",
   "execution_count": 14,
   "metadata": {},
   "outputs": [],
   "source": [
    "# テストデータ読み出し\n",
    "X_valid = np.load('X_test.npy')\n",
    "y_valid_Image = np.load('y_test_file.npy', allow_pickle=True)"
   ]
  },
  {
   "cell_type": "code",
   "execution_count": 15,
   "metadata": {},
   "outputs": [
    {
     "data": {
      "text/plain": [
       "array([[[171., 171., 171.],\n",
       "        [178., 178., 178.],\n",
       "        [184., 184., 184.],\n",
       "        ...,\n",
       "        [172., 172., 172.],\n",
       "        [178., 178., 178.],\n",
       "        [180., 180., 180.]],\n",
       "\n",
       "       [[184., 184., 184.],\n",
       "        [176., 176., 176.],\n",
       "        [180., 180., 180.],\n",
       "        ...,\n",
       "        [177., 177., 177.],\n",
       "        [178., 178., 178.],\n",
       "        [173., 173., 173.]],\n",
       "\n",
       "       [[173., 173., 173.],\n",
       "        [177., 177., 177.],\n",
       "        [173., 173., 173.],\n",
       "        ...,\n",
       "        [186., 186., 186.],\n",
       "        [143., 143., 143.],\n",
       "        [186., 186., 186.]],\n",
       "\n",
       "       ...,\n",
       "\n",
       "       [[169., 169., 169.],\n",
       "        [188., 188., 188.],\n",
       "        [156., 156., 156.],\n",
       "        ...,\n",
       "        [189., 189., 189.],\n",
       "        [179., 179., 179.],\n",
       "        [177., 177., 177.]],\n",
       "\n",
       "       [[157., 157., 157.],\n",
       "        [202., 202., 202.],\n",
       "        [165., 165., 165.],\n",
       "        ...,\n",
       "        [168., 168., 168.],\n",
       "        [170., 170., 170.],\n",
       "        [165., 165., 165.]],\n",
       "\n",
       "       [[155., 155., 155.],\n",
       "        [143., 143., 143.],\n",
       "        [193., 193., 193.],\n",
       "        ...,\n",
       "        [172., 172., 172.],\n",
       "        [189., 189., 189.],\n",
       "        [127., 127., 127.]]], dtype=float32)"
      ]
     },
     "execution_count": 15,
     "metadata": {},
     "output_type": "execute_result"
    }
   ],
   "source": [
    "X_valid[0]"
   ]
  },
  {
   "cell_type": "code",
   "execution_count": 16,
   "metadata": {},
   "outputs": [
    {
     "data": {
      "text/plain": [
       "(254.0, 0.0)"
      ]
     },
     "execution_count": 16,
     "metadata": {},
     "output_type": "execute_result"
    }
   ],
   "source": [
    "X_valid[0].max(), X_valid[0].min()"
   ]
  },
  {
   "cell_type": "code",
   "execution_count": 17,
   "metadata": {},
   "outputs": [],
   "source": [
    "X_valid = preprocess_input(X_valid)"
   ]
  },
  {
   "cell_type": "code",
   "execution_count": 18,
   "metadata": {},
   "outputs": [
    {
     "data": {
      "text/plain": [
       "((213, 160, 160, 3), (213,))"
      ]
     },
     "execution_count": 18,
     "metadata": {},
     "output_type": "execute_result"
    }
   ],
   "source": [
    "X_valid.shape, y_valid_Image.shape"
   ]
  },
  {
   "cell_type": "code",
   "execution_count": 19,
   "metadata": {},
   "outputs": [],
   "source": [
    "base_model = VGG16(weights='imagenet', include_top=False, pooling='avg')"
   ]
  },
  {
   "cell_type": "code",
   "execution_count": 20,
   "metadata": {},
   "outputs": [
    {
     "name": "stdout",
     "output_type": "stream",
     "text": [
      "Model: \"vgg16\"\n",
      "_________________________________________________________________\n",
      "Layer (type)                 Output Shape              Param #   \n",
      "=================================================================\n",
      "input_1 (InputLayer)         (None, None, None, 3)     0         \n",
      "_________________________________________________________________\n",
      "block1_conv1 (Conv2D)        (None, None, None, 64)    1792      \n",
      "_________________________________________________________________\n",
      "block1_conv2 (Conv2D)        (None, None, None, 64)    36928     \n",
      "_________________________________________________________________\n",
      "block1_pool (MaxPooling2D)   (None, None, None, 64)    0         \n",
      "_________________________________________________________________\n",
      "block2_conv1 (Conv2D)        (None, None, None, 128)   73856     \n",
      "_________________________________________________________________\n",
      "block2_conv2 (Conv2D)        (None, None, None, 128)   147584    \n",
      "_________________________________________________________________\n",
      "block2_pool (MaxPooling2D)   (None, None, None, 128)   0         \n",
      "_________________________________________________________________\n",
      "block3_conv1 (Conv2D)        (None, None, None, 256)   295168    \n",
      "_________________________________________________________________\n",
      "block3_conv2 (Conv2D)        (None, None, None, 256)   590080    \n",
      "_________________________________________________________________\n",
      "block3_conv3 (Conv2D)        (None, None, None, 256)   590080    \n",
      "_________________________________________________________________\n",
      "block3_pool (MaxPooling2D)   (None, None, None, 256)   0         \n",
      "_________________________________________________________________\n",
      "block4_conv1 (Conv2D)        (None, None, None, 512)   1180160   \n",
      "_________________________________________________________________\n",
      "block4_conv2 (Conv2D)        (None, None, None, 512)   2359808   \n",
      "_________________________________________________________________\n",
      "block4_conv3 (Conv2D)        (None, None, None, 512)   2359808   \n",
      "_________________________________________________________________\n",
      "block4_pool (MaxPooling2D)   (None, None, None, 512)   0         \n",
      "_________________________________________________________________\n",
      "block5_conv1 (Conv2D)        (None, None, None, 512)   2359808   \n",
      "_________________________________________________________________\n",
      "block5_conv2 (Conv2D)        (None, None, None, 512)   2359808   \n",
      "_________________________________________________________________\n",
      "block5_conv3 (Conv2D)        (None, None, None, 512)   2359808   \n",
      "_________________________________________________________________\n",
      "block5_pool (MaxPooling2D)   (None, None, None, 512)   0         \n",
      "_________________________________________________________________\n",
      "global_average_pooling2d_1 ( (None, 512)               0         \n",
      "=================================================================\n",
      "Total params: 14,714,688\n",
      "Trainable params: 14,714,688\n",
      "Non-trainable params: 0\n",
      "_________________________________________________________________\n"
     ]
    }
   ],
   "source": [
    "base_model.summary()"
   ]
  },
  {
   "cell_type": "code",
   "execution_count": 21,
   "metadata": {},
   "outputs": [],
   "source": [
    "# モデル生成\n",
    "model = Sequential([\n",
    "    base_model, \n",
    "])"
   ]
  },
  {
   "cell_type": "code",
   "execution_count": 22,
   "metadata": {},
   "outputs": [
    {
     "name": "stdout",
     "output_type": "stream",
     "text": [
      "Model: \"sequential_1\"\n",
      "_________________________________________________________________\n",
      "Layer (type)                 Output Shape              Param #   \n",
      "=================================================================\n",
      "vgg16 (Model)                (None, 512)               14714688  \n",
      "=================================================================\n",
      "Total params: 14,714,688\n",
      "Trainable params: 14,714,688\n",
      "Non-trainable params: 0\n",
      "_________________________________________________________________\n"
     ]
    }
   ],
   "source": [
    "model.summary()"
   ]
  },
  {
   "cell_type": "code",
   "execution_count": 23,
   "metadata": {},
   "outputs": [],
   "source": [
    "# # 全結合層\n",
    "# model.add(Flatten())\n",
    "# model.add(Dense(128, activation='relu'))\n",
    "# # ドロップアウト\n",
    "# model.add(Dropout(0.5))\n",
    "\n",
    "# 出力層 二項分類なので sigmoid\n",
    "model.add(Dense(1, activation='sigmoid'))"
   ]
  },
  {
   "cell_type": "code",
   "execution_count": 24,
   "metadata": {},
   "outputs": [],
   "source": [
    "base_model.trainable = False"
   ]
  },
  {
   "cell_type": "code",
   "execution_count": 25,
   "metadata": {},
   "outputs": [
    {
     "name": "stdout",
     "output_type": "stream",
     "text": [
      "Model: \"sequential_1\"\n",
      "_________________________________________________________________\n",
      "Layer (type)                 Output Shape              Param #   \n",
      "=================================================================\n",
      "vgg16 (Model)                (None, 512)               14714688  \n",
      "_________________________________________________________________\n",
      "dense_1 (Dense)              (None, 1)                 513       \n",
      "=================================================================\n",
      "Total params: 14,715,201\n",
      "Trainable params: 513\n",
      "Non-trainable params: 14,714,688\n",
      "_________________________________________________________________\n"
     ]
    }
   ],
   "source": [
    "model.summary()"
   ]
  },
  {
   "cell_type": "code",
   "execution_count": 26,
   "metadata": {},
   "outputs": [],
   "source": [
    "# コンパイル\n",
    "# 2項分類なので損失関数は [binary_crossentropy]\n",
    "# 最適化は Adam\n",
    "model.compile(loss='binary_crossentropy',\n",
    "              optimizer=RMSprop(lr=0.005),\n",
    "              metrics=['binary_accuracy'])"
   ]
  },
  {
   "cell_type": "code",
   "execution_count": 27,
   "metadata": {},
   "outputs": [],
   "source": [
    "# EarlyStopping\n",
    "callbaks = EarlyStopping(monitor='val_loss', patience=5)"
   ]
  },
  {
   "cell_type": "code",
   "execution_count": 28,
   "metadata": {},
   "outputs": [
    {
     "name": "stdout",
     "output_type": "stream",
     "text": [
      "Train on 320 samples, validate on 80 samples\n",
      "Epoch 1/50\n",
      "320/320 [==============================] - 49s 153ms/step - loss: 2.4736 - binary_accuracy: 0.6187 - val_loss: 0.9628 - val_binary_accuracy: 0.8250\n",
      "Epoch 2/50\n",
      "320/320 [==============================] - 52s 163ms/step - loss: 1.2356 - binary_accuracy: 0.7063 - val_loss: 2.2522 - val_binary_accuracy: 0.5250\n",
      "Epoch 3/50\n",
      "320/320 [==============================] - 52s 162ms/step - loss: 1.0366 - binary_accuracy: 0.7344 - val_loss: 1.1888 - val_binary_accuracy: 0.8375\n",
      "Epoch 4/50\n",
      "320/320 [==============================] - 52s 162ms/step - loss: 0.7565 - binary_accuracy: 0.8094 - val_loss: 0.9829 - val_binary_accuracy: 0.8375\n",
      "Epoch 5/50\n",
      "320/320 [==============================] - 53s 165ms/step - loss: 0.6567 - binary_accuracy: 0.8094 - val_loss: 1.0264 - val_binary_accuracy: 0.8375\n",
      "Epoch 6/50\n",
      "320/320 [==============================] - 53s 166ms/step - loss: 0.7285 - binary_accuracy: 0.8094 - val_loss: 0.9047 - val_binary_accuracy: 0.8125\n",
      "Epoch 7/50\n",
      "320/320 [==============================] - 52s 163ms/step - loss: 0.4737 - binary_accuracy: 0.8844 - val_loss: 0.7568 - val_binary_accuracy: 0.7625\n",
      "Epoch 8/50\n",
      "320/320 [==============================] - 52s 162ms/step - loss: 0.6105 - binary_accuracy: 0.8562 - val_loss: 0.6580 - val_binary_accuracy: 0.8250\n",
      "Epoch 9/50\n",
      "320/320 [==============================] - 53s 165ms/step - loss: 0.4834 - binary_accuracy: 0.8844 - val_loss: 0.5964 - val_binary_accuracy: 0.8500\n",
      "Epoch 10/50\n",
      "320/320 [==============================] - 52s 162ms/step - loss: 0.5324 - binary_accuracy: 0.8562 - val_loss: 0.9421 - val_binary_accuracy: 0.8375\n",
      "Epoch 11/50\n",
      "320/320 [==============================] - 52s 163ms/step - loss: 0.5852 - binary_accuracy: 0.8375 - val_loss: 1.4707 - val_binary_accuracy: 0.6875\n",
      "Epoch 12/50\n",
      "320/320 [==============================] - 52s 163ms/step - loss: 0.3872 - binary_accuracy: 0.8875 - val_loss: 0.6749 - val_binary_accuracy: 0.8250\n",
      "Epoch 13/50\n",
      "320/320 [==============================] - 52s 163ms/step - loss: 0.4804 - binary_accuracy: 0.8719 - val_loss: 0.7373 - val_binary_accuracy: 0.8625\n",
      "Epoch 14/50\n",
      "320/320 [==============================] - 52s 163ms/step - loss: 0.2512 - binary_accuracy: 0.9219 - val_loss: 0.7578 - val_binary_accuracy: 0.8375\n"
     ]
    },
    {
     "data": {
      "text/plain": [
       "<keras.callbacks.callbacks.History at 0x274123e4898>"
      ]
     },
     "execution_count": 28,
     "metadata": {},
     "output_type": "execute_result"
    }
   ],
   "source": [
    "# モデル訓練\n",
    "model.fit(X_train, y_train, batch_size=16, validation_data=(X_test, y_test), callbacks=[callbaks], epochs=50)\n",
    "# model.fit(X_train, y_train, callbacks=[callbaks], epochs=20)\n"
   ]
  },
  {
   "cell_type": "code",
   "execution_count": 29,
   "metadata": {},
   "outputs": [],
   "source": [
    "base_y_pred = model.predict_classes(X_test)"
   ]
  },
  {
   "cell_type": "code",
   "execution_count": 30,
   "metadata": {},
   "outputs": [
    {
     "data": {
      "text/plain": [
       "array([[1],\n",
       "       [0],\n",
       "       [1],\n",
       "       [0],\n",
       "       [0]])"
      ]
     },
     "execution_count": 30,
     "metadata": {},
     "output_type": "execute_result"
    }
   ],
   "source": [
    "base_y_pred[:5]"
   ]
  },
  {
   "cell_type": "code",
   "execution_count": 31,
   "metadata": {},
   "outputs": [
    {
     "data": {
      "text/plain": [
       "array([[10,  6],\n",
       "       [ 7, 57]], dtype=int64)"
      ]
     },
     "execution_count": 31,
     "metadata": {},
     "output_type": "execute_result"
    }
   ],
   "source": [
    "confusion_matrix(y_test, base_y_pred)"
   ]
  },
  {
   "cell_type": "code",
   "execution_count": 32,
   "metadata": {},
   "outputs": [
    {
     "data": {
      "text/plain": [
       "0.8375"
      ]
     },
     "execution_count": 32,
     "metadata": {},
     "output_type": "execute_result"
    }
   ],
   "source": [
    "# 正解率\n",
    "accuracy_score(y_test, base_y_pred)"
   ]
  },
  {
   "cell_type": "code",
   "execution_count": 33,
   "metadata": {},
   "outputs": [
    {
     "data": {
      "text/plain": [
       "0.9047619047619048"
      ]
     },
     "execution_count": 33,
     "metadata": {},
     "output_type": "execute_result"
    }
   ],
   "source": [
    "# 適合率\n",
    "precision_score(y_test, base_y_pred)"
   ]
  },
  {
   "cell_type": "code",
   "execution_count": 34,
   "metadata": {},
   "outputs": [
    {
     "data": {
      "text/plain": [
       "0.890625"
      ]
     },
     "execution_count": 34,
     "metadata": {},
     "output_type": "execute_result"
    }
   ],
   "source": [
    "# 再現率\n",
    "recall_score(y_test, base_y_pred)"
   ]
  },
  {
   "cell_type": "code",
   "execution_count": 35,
   "metadata": {},
   "outputs": [
    {
     "data": {
      "text/plain": [
       "0.8976377952755906"
      ]
     },
     "execution_count": 35,
     "metadata": {},
     "output_type": "execute_result"
    }
   ],
   "source": [
    "# F1メジャー\n",
    "f1_score(y_test, base_y_pred)"
   ]
  },
  {
   "cell_type": "code",
   "execution_count": 36,
   "metadata": {},
   "outputs": [
    {
     "data": {
      "text/plain": [
       "(236, 64)"
      ]
     },
     "execution_count": 36,
     "metadata": {},
     "output_type": "execute_result"
    }
   ],
   "source": [
    "y_train.sum(), y_test.sum()"
   ]
  },
  {
   "cell_type": "code",
   "execution_count": null,
   "metadata": {},
   "outputs": [],
   "source": []
  },
  {
   "cell_type": "code",
   "execution_count": 37,
   "metadata": {},
   "outputs": [],
   "source": [
    "y_valid = model.predict_classes(X_valid)"
   ]
  },
  {
   "cell_type": "code",
   "execution_count": 38,
   "metadata": {},
   "outputs": [
    {
     "data": {
      "text/plain": [
       "(array([[0],\n",
       "        [1],\n",
       "        [0],\n",
       "        [0],\n",
       "        [1]]),\n",
       " array([1]))"
      ]
     },
     "execution_count": 38,
     "metadata": {},
     "output_type": "execute_result"
    }
   ],
   "source": [
    "y_valid[:5], y_valid[6].flatten()"
   ]
  },
  {
   "cell_type": "code",
   "execution_count": 39,
   "metadata": {},
   "outputs": [
    {
     "data": {
      "text/plain": [
       "(98, numpy.ndarray, array([0]))"
      ]
     },
     "execution_count": 39,
     "metadata": {},
     "output_type": "execute_result"
    }
   ],
   "source": [
    "y_valid.sum(), type(y_valid), y_valid[0]"
   ]
  },
  {
   "cell_type": "code",
   "execution_count": 40,
   "metadata": {},
   "outputs": [],
   "source": [
    "result_df = pd.DataFrame([y_valid_Image, y_valid]).T"
   ]
  },
  {
   "cell_type": "code",
   "execution_count": 41,
   "metadata": {},
   "outputs": [],
   "source": [
    "result_df.rename(columns={0: 'Image', 1: 'y'}, inplace=True)"
   ]
  },
  {
   "cell_type": "code",
   "execution_count": 42,
   "metadata": {},
   "outputs": [
    {
     "data": {
      "text/html": [
       "<div>\n",
       "<style scoped>\n",
       "    .dataframe tbody tr th:only-of-type {\n",
       "        vertical-align: middle;\n",
       "    }\n",
       "\n",
       "    .dataframe tbody tr th {\n",
       "        vertical-align: top;\n",
       "    }\n",
       "\n",
       "    .dataframe thead th {\n",
       "        text-align: right;\n",
       "    }\n",
       "</style>\n",
       "<table border=\"1\" class=\"dataframe\">\n",
       "  <thead>\n",
       "    <tr style=\"text-align: right;\">\n",
       "      <th></th>\n",
       "      <th>Image</th>\n",
       "      <th>y</th>\n",
       "    </tr>\n",
       "  </thead>\n",
       "  <tbody>\n",
       "    <tr>\n",
       "      <th>0</th>\n",
       "      <td>../data/test/test\\000.jpeg</td>\n",
       "      <td>[0]</td>\n",
       "    </tr>\n",
       "    <tr>\n",
       "      <th>1</th>\n",
       "      <td>../data/test/test\\001.jpeg</td>\n",
       "      <td>[1]</td>\n",
       "    </tr>\n",
       "    <tr>\n",
       "      <th>2</th>\n",
       "      <td>../data/test/test\\002.jpeg</td>\n",
       "      <td>[0]</td>\n",
       "    </tr>\n",
       "    <tr>\n",
       "      <th>3</th>\n",
       "      <td>../data/test/test\\003.jpeg</td>\n",
       "      <td>[0]</td>\n",
       "    </tr>\n",
       "    <tr>\n",
       "      <th>4</th>\n",
       "      <td>../data/test/test\\004.jpeg</td>\n",
       "      <td>[1]</td>\n",
       "    </tr>\n",
       "  </tbody>\n",
       "</table>\n",
       "</div>"
      ],
      "text/plain": [
       "                        Image    y\n",
       "0  ../data/test/test\\000.jpeg  [0]\n",
       "1  ../data/test/test\\001.jpeg  [1]\n",
       "2  ../data/test/test\\002.jpeg  [0]\n",
       "3  ../data/test/test\\003.jpeg  [0]\n",
       "4  ../data/test/test\\004.jpeg  [1]"
      ]
     },
     "execution_count": 42,
     "metadata": {},
     "output_type": "execute_result"
    }
   ],
   "source": [
    "result_df[:5]"
   ]
  },
  {
   "cell_type": "code",
   "execution_count": 43,
   "metadata": {},
   "outputs": [
    {
     "name": "stdout",
     "output_type": "stream",
     "text": [
      "<class 'pandas.core.frame.DataFrame'>\n",
      "RangeIndex: 213 entries, 0 to 212\n",
      "Data columns (total 2 columns):\n",
      " #   Column  Non-Null Count  Dtype \n",
      "---  ------  --------------  ----- \n",
      " 0   Image   213 non-null    object\n",
      " 1   y       213 non-null    object\n",
      "dtypes: object(2)\n",
      "memory usage: 3.5+ KB\n"
     ]
    }
   ],
   "source": [
    "result_df.info()"
   ]
  },
  {
   "cell_type": "code",
   "execution_count": 44,
   "metadata": {},
   "outputs": [],
   "source": [
    "result_df['Image'] = result_df['Image'].str.replace(r'../data/test/test\\\\', \"\")"
   ]
  },
  {
   "cell_type": "code",
   "execution_count": 45,
   "metadata": {},
   "outputs": [],
   "source": [
    "# result_df[0] = result_df[0].str.replace('\\\\', \"\")"
   ]
  },
  {
   "cell_type": "code",
   "execution_count": 46,
   "metadata": {},
   "outputs": [],
   "source": [
    "result_df['y'][result_df['y'] == 1] = 1\n",
    "result_df['y'][result_df['y'] == 0] = 0"
   ]
  },
  {
   "cell_type": "code",
   "execution_count": 47,
   "metadata": {},
   "outputs": [
    {
     "data": {
      "text/html": [
       "<div>\n",
       "<style scoped>\n",
       "    .dataframe tbody tr th:only-of-type {\n",
       "        vertical-align: middle;\n",
       "    }\n",
       "\n",
       "    .dataframe tbody tr th {\n",
       "        vertical-align: top;\n",
       "    }\n",
       "\n",
       "    .dataframe thead th {\n",
       "        text-align: right;\n",
       "    }\n",
       "</style>\n",
       "<table border=\"1\" class=\"dataframe\">\n",
       "  <thead>\n",
       "    <tr style=\"text-align: right;\">\n",
       "      <th></th>\n",
       "      <th>Image</th>\n",
       "      <th>y</th>\n",
       "    </tr>\n",
       "  </thead>\n",
       "  <tbody>\n",
       "    <tr>\n",
       "      <th>0</th>\n",
       "      <td>000.jpeg</td>\n",
       "      <td>0</td>\n",
       "    </tr>\n",
       "    <tr>\n",
       "      <th>1</th>\n",
       "      <td>001.jpeg</td>\n",
       "      <td>1</td>\n",
       "    </tr>\n",
       "    <tr>\n",
       "      <th>2</th>\n",
       "      <td>002.jpeg</td>\n",
       "      <td>0</td>\n",
       "    </tr>\n",
       "    <tr>\n",
       "      <th>3</th>\n",
       "      <td>003.jpeg</td>\n",
       "      <td>0</td>\n",
       "    </tr>\n",
       "    <tr>\n",
       "      <th>4</th>\n",
       "      <td>004.jpeg</td>\n",
       "      <td>1</td>\n",
       "    </tr>\n",
       "  </tbody>\n",
       "</table>\n",
       "</div>"
      ],
      "text/plain": [
       "      Image  y\n",
       "0  000.jpeg  0\n",
       "1  001.jpeg  1\n",
       "2  002.jpeg  0\n",
       "3  003.jpeg  0\n",
       "4  004.jpeg  1"
      ]
     },
     "execution_count": 47,
     "metadata": {},
     "output_type": "execute_result"
    }
   ],
   "source": [
    "result_df[:5]"
   ]
  },
  {
   "cell_type": "code",
   "execution_count": 48,
   "metadata": {},
   "outputs": [
    {
     "data": {
      "text/plain": [
       "98"
      ]
     },
     "execution_count": 48,
     "metadata": {},
     "output_type": "execute_result"
    }
   ],
   "source": [
    "result_df.y.sum()"
   ]
  },
  {
   "cell_type": "code",
   "execution_count": 49,
   "metadata": {},
   "outputs": [],
   "source": [
    "result_df.to_csv('./VGG16-400-1.tsv', index=False, header=False, sep='\\t')"
   ]
  },
  {
   "cell_type": "code",
   "execution_count": 50,
   "metadata": {},
   "outputs": [
    {
     "data": {
      "text/html": [
       "<div>\n",
       "<style scoped>\n",
       "    .dataframe tbody tr th:only-of-type {\n",
       "        vertical-align: middle;\n",
       "    }\n",
       "\n",
       "    .dataframe tbody tr th {\n",
       "        vertical-align: top;\n",
       "    }\n",
       "\n",
       "    .dataframe thead th {\n",
       "        text-align: right;\n",
       "    }\n",
       "</style>\n",
       "<table border=\"1\" class=\"dataframe\">\n",
       "  <thead>\n",
       "    <tr style=\"text-align: right;\">\n",
       "      <th></th>\n",
       "      <th>Image</th>\n",
       "      <th>y</th>\n",
       "    </tr>\n",
       "  </thead>\n",
       "  <tbody>\n",
       "    <tr>\n",
       "      <th>1</th>\n",
       "      <td>001.jpeg</td>\n",
       "      <td>1</td>\n",
       "    </tr>\n",
       "    <tr>\n",
       "      <th>4</th>\n",
       "      <td>004.jpeg</td>\n",
       "      <td>1</td>\n",
       "    </tr>\n",
       "    <tr>\n",
       "      <th>6</th>\n",
       "      <td>006.jpeg</td>\n",
       "      <td>1</td>\n",
       "    </tr>\n",
       "    <tr>\n",
       "      <th>8</th>\n",
       "      <td>008.jpeg</td>\n",
       "      <td>1</td>\n",
       "    </tr>\n",
       "    <tr>\n",
       "      <th>15</th>\n",
       "      <td>015.jpeg</td>\n",
       "      <td>1</td>\n",
       "    </tr>\n",
       "    <tr>\n",
       "      <th>...</th>\n",
       "      <td>...</td>\n",
       "      <td>...</td>\n",
       "    </tr>\n",
       "    <tr>\n",
       "      <th>206</th>\n",
       "      <td>206.jpeg</td>\n",
       "      <td>1</td>\n",
       "    </tr>\n",
       "    <tr>\n",
       "      <th>208</th>\n",
       "      <td>208.jpeg</td>\n",
       "      <td>1</td>\n",
       "    </tr>\n",
       "    <tr>\n",
       "      <th>209</th>\n",
       "      <td>209.jpeg</td>\n",
       "      <td>1</td>\n",
       "    </tr>\n",
       "    <tr>\n",
       "      <th>211</th>\n",
       "      <td>211.jpeg</td>\n",
       "      <td>1</td>\n",
       "    </tr>\n",
       "    <tr>\n",
       "      <th>212</th>\n",
       "      <td>212.jpeg</td>\n",
       "      <td>1</td>\n",
       "    </tr>\n",
       "  </tbody>\n",
       "</table>\n",
       "<p>98 rows × 2 columns</p>\n",
       "</div>"
      ],
      "text/plain": [
       "        Image  y\n",
       "1    001.jpeg  1\n",
       "4    004.jpeg  1\n",
       "6    006.jpeg  1\n",
       "8    008.jpeg  1\n",
       "15   015.jpeg  1\n",
       "..        ... ..\n",
       "206  206.jpeg  1\n",
       "208  208.jpeg  1\n",
       "209  209.jpeg  1\n",
       "211  211.jpeg  1\n",
       "212  212.jpeg  1\n",
       "\n",
       "[98 rows x 2 columns]"
      ]
     },
     "execution_count": 50,
     "metadata": {},
     "output_type": "execute_result"
    }
   ],
   "source": [
    "result_df[result_df['y'] == 1]"
   ]
  },
  {
   "cell_type": "code",
   "execution_count": 51,
   "metadata": {},
   "outputs": [
    {
     "data": {
      "text/plain": [
       "int"
      ]
     },
     "execution_count": 51,
     "metadata": {},
     "output_type": "execute_result"
    }
   ],
   "source": [
    "type(result_df['y'][0])"
   ]
  },
  {
   "cell_type": "code",
   "execution_count": 52,
   "metadata": {},
   "outputs": [
    {
     "name": "stdout",
     "output_type": "stream",
     "text": [
      "(0)\n"
     ]
    }
   ],
   "source": [
    "print(\"({0})\".format(result_df['y'][0]))"
   ]
  },
  {
   "cell_type": "code",
   "execution_count": 53,
   "metadata": {},
   "outputs": [
    {
     "data": {
      "text/plain": [
       "<function tuple.count>"
      ]
     },
     "execution_count": 53,
     "metadata": {},
     "output_type": "execute_result"
    }
   ],
   "source": [
    "np.where(y_test[:] == 1).count"
   ]
  },
  {
   "cell_type": "code",
   "execution_count": 54,
   "metadata": {},
   "outputs": [
    {
     "data": {
      "text/plain": [
       "(236, 84)"
      ]
     },
     "execution_count": 54,
     "metadata": {},
     "output_type": "execute_result"
    }
   ],
   "source": [
    "np.count_nonzero(y_train == 1), np.count_nonzero(y_train == 0)"
   ]
  },
  {
   "cell_type": "code",
   "execution_count": 55,
   "metadata": {},
   "outputs": [
    {
     "data": {
      "text/plain": [
       "'channels_last'"
      ]
     },
     "execution_count": 55,
     "metadata": {},
     "output_type": "execute_result"
    }
   ],
   "source": [
    "K.image_data_format()"
   ]
  },
  {
   "cell_type": "code",
   "execution_count": null,
   "metadata": {},
   "outputs": [],
   "source": []
  }
 ],
 "metadata": {
  "kernelspec": {
   "display_name": "Python 3",
   "language": "python",
   "name": "python3"
  },
  "language_info": {
   "codemirror_mode": {
    "name": "ipython",
    "version": 3
   },
   "file_extension": ".py",
   "mimetype": "text/x-python",
   "name": "python",
   "nbconvert_exporter": "python",
   "pygments_lexer": "ipython3",
   "version": "3.6.10"
  }
 },
 "nbformat": 4,
 "nbformat_minor": 4
}
