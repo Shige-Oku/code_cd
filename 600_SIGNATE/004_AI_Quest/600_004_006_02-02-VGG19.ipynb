{
 "cells": [
  {
   "cell_type": "markdown",
   "metadata": {},
   "source": [
    "# 「部品基盤のはんだ付け状態」の良品、不良品を判定\n",
    "#  前処理で保存した特徴量、ターゲットから\n",
    "#  このモデルをベースラインとする"
   ]
  },
  {
   "cell_type": "code",
   "execution_count": 1,
   "metadata": {},
   "outputs": [
    {
     "name": "stderr",
     "output_type": "stream",
     "text": [
      "Using TensorFlow backend.\n"
     ]
    }
   ],
   "source": [
    "import numpy as np\n",
    "import pandas as pd\n",
    "\n",
    "import matplotlib.pyplot as plt\n",
    "\n",
    "import keras as ks\n",
    "from keras.preprocessing.image import ImageDataGenerator\n",
    "from keras.optimizers import Adam, RMSprop\n",
    "from keras.models import Sequential\n",
    "from keras.layers import Dense, Flatten, Conv2D, MaxPooling2D, Dropout\n",
    "from keras.utils import np_utils\n",
    "from keras.callbacks import EarlyStopping, ModelCheckpoint\n",
    "from keras import backend as K\n",
    "from keras.applications.vgg19 import VGG19, preprocess_input\n",
    "from keras.preprocessing import image\n",
    "\n",
    "from sklearn.preprocessing import LabelEncoder\n",
    "from sklearn.model_selection import train_test_split\n",
    "from sklearn.metrics import confusion_matrix, recall_score, precision_score, accuracy_score, f1_score\n",
    "\n",
    "import os\n",
    "import glob\n",
    "\n",
    "%matplotlib inline\n"
   ]
  },
  {
   "cell_type": "code",
   "execution_count": 2,
   "metadata": {},
   "outputs": [],
   "source": [
    "# 訓練データ読み出し\n",
    "X_train0 = np.load('X_train.npy')\n",
    "y_train0 = np.load('y_train.npy')\n"
   ]
  },
  {
   "cell_type": "code",
   "execution_count": 3,
   "metadata": {},
   "outputs": [
    {
     "data": {
      "text/plain": [
       "((400, 160, 160, 3), (400,))"
      ]
     },
     "execution_count": 3,
     "metadata": {},
     "output_type": "execute_result"
    }
   ],
   "source": [
    "X_train0.shape, y_train0.shape"
   ]
  },
  {
   "cell_type": "code",
   "execution_count": 4,
   "metadata": {},
   "outputs": [],
   "source": [
    "# 訓練とテストデータに分割\n",
    "X_train, X_test, y_train, y_test = train_test_split(X_train0, y_train0, test_size=0.2, random_state=42)"
   ]
  },
  {
   "cell_type": "code",
   "execution_count": 5,
   "metadata": {},
   "outputs": [],
   "source": [
    "X_train = preprocess_input(X_train)\n",
    "X_test = preprocess_input(X_test)"
   ]
  },
  {
   "cell_type": "code",
   "execution_count": 6,
   "metadata": {},
   "outputs": [
    {
     "data": {
      "text/plain": [
       "((320, 160, 160, 3), (320,), (80, 160, 160, 3), (80,))"
      ]
     },
     "execution_count": 6,
     "metadata": {},
     "output_type": "execute_result"
    }
   ],
   "source": [
    "X_train.shape, y_train.shape, X_test.shape, y_test.shape"
   ]
  },
  {
   "cell_type": "code",
   "execution_count": 7,
   "metadata": {},
   "outputs": [
    {
     "data": {
      "text/plain": [
       "array([[[ 97.061   ,  84.221   ,  77.32    ],\n",
       "        [ 88.061   ,  75.221   ,  68.32    ],\n",
       "        [102.061   ,  89.221   ,  82.32    ],\n",
       "        ...,\n",
       "        [ 96.061   ,  83.221   ,  76.32    ],\n",
       "        [ 99.061   ,  86.221   ,  79.32    ],\n",
       "        [ 90.061   ,  77.221   ,  70.32    ]],\n",
       "\n",
       "       [[ 92.061   ,  79.221   ,  72.32    ],\n",
       "        [103.061   ,  90.221   ,  83.32    ],\n",
       "        [106.061   ,  93.221   ,  86.32    ],\n",
       "        ...,\n",
       "        [ 95.061   ,  82.221   ,  75.32    ],\n",
       "        [ 98.061   ,  85.221   ,  78.32    ],\n",
       "        [ 92.061   ,  79.221   ,  72.32    ]],\n",
       "\n",
       "       [[ 95.061   ,  82.221   ,  75.32    ],\n",
       "        [103.061   ,  90.221   ,  83.32    ],\n",
       "        [103.061   ,  90.221   ,  83.32    ],\n",
       "        ...,\n",
       "        [ 93.061   ,  80.221   ,  73.32    ],\n",
       "        [ 99.061   ,  86.221   ,  79.32    ],\n",
       "        [ 92.061   ,  79.221   ,  72.32    ]],\n",
       "\n",
       "       ...,\n",
       "\n",
       "       [[ 46.060997,  33.221   ,  26.32    ],\n",
       "        [ 75.061   ,  62.221   ,  55.32    ],\n",
       "        [ 86.061   ,  73.221   ,  66.32    ],\n",
       "        ...,\n",
       "        [ 87.061   ,  74.221   ,  67.32    ],\n",
       "        [ 93.061   ,  80.221   ,  73.32    ],\n",
       "        [100.061   ,  87.221   ,  80.32    ]],\n",
       "\n",
       "       [[ 62.060997,  49.221   ,  42.32    ],\n",
       "        [ 87.061   ,  74.221   ,  67.32    ],\n",
       "        [ 75.061   ,  62.221   ,  55.32    ],\n",
       "        ...,\n",
       "        [ 89.061   ,  76.221   ,  69.32    ],\n",
       "        [ 96.061   ,  83.221   ,  76.32    ],\n",
       "        [100.061   ,  87.221   ,  80.32    ]],\n",
       "\n",
       "       [[ 58.060997,  45.221   ,  38.32    ],\n",
       "        [ 83.061   ,  70.221   ,  63.32    ],\n",
       "        [ 76.061   ,  63.221   ,  56.32    ],\n",
       "        ...,\n",
       "        [ 86.061   ,  73.221   ,  66.32    ],\n",
       "        [ 97.061   ,  84.221   ,  77.32    ],\n",
       "        [ 96.061   ,  83.221   ,  76.32    ]]], dtype=float32)"
      ]
     },
     "execution_count": 7,
     "metadata": {},
     "output_type": "execute_result"
    }
   ],
   "source": [
    "X_train[0]"
   ]
  },
  {
   "cell_type": "code",
   "execution_count": 8,
   "metadata": {},
   "outputs": [],
   "source": [
    "# テストデータ読み出し\n",
    "X_valid = np.load('X_test.npy')\n",
    "y_valid_Image = np.load('y_test_file.npy', allow_pickle=True)"
   ]
  },
  {
   "cell_type": "code",
   "execution_count": 9,
   "metadata": {},
   "outputs": [],
   "source": [
    "X_valid = preprocess_input(X_valid)"
   ]
  },
  {
   "cell_type": "code",
   "execution_count": 10,
   "metadata": {},
   "outputs": [
    {
     "data": {
      "text/plain": [
       "((213, 160, 160, 3), (213,))"
      ]
     },
     "execution_count": 10,
     "metadata": {},
     "output_type": "execute_result"
    }
   ],
   "source": [
    "X_valid.shape, y_valid_Image.shape"
   ]
  },
  {
   "cell_type": "code",
   "execution_count": 11,
   "metadata": {},
   "outputs": [],
   "source": [
    "base_model = VGG19(weights='imagenet', include_top=False, pooling='avg')"
   ]
  },
  {
   "cell_type": "code",
   "execution_count": 12,
   "metadata": {},
   "outputs": [
    {
     "name": "stdout",
     "output_type": "stream",
     "text": [
      "Model: \"vgg19\"\n",
      "_________________________________________________________________\n",
      "Layer (type)                 Output Shape              Param #   \n",
      "=================================================================\n",
      "input_1 (InputLayer)         (None, None, None, 3)     0         \n",
      "_________________________________________________________________\n",
      "block1_conv1 (Conv2D)        (None, None, None, 64)    1792      \n",
      "_________________________________________________________________\n",
      "block1_conv2 (Conv2D)        (None, None, None, 64)    36928     \n",
      "_________________________________________________________________\n",
      "block1_pool (MaxPooling2D)   (None, None, None, 64)    0         \n",
      "_________________________________________________________________\n",
      "block2_conv1 (Conv2D)        (None, None, None, 128)   73856     \n",
      "_________________________________________________________________\n",
      "block2_conv2 (Conv2D)        (None, None, None, 128)   147584    \n",
      "_________________________________________________________________\n",
      "block2_pool (MaxPooling2D)   (None, None, None, 128)   0         \n",
      "_________________________________________________________________\n",
      "block3_conv1 (Conv2D)        (None, None, None, 256)   295168    \n",
      "_________________________________________________________________\n",
      "block3_conv2 (Conv2D)        (None, None, None, 256)   590080    \n",
      "_________________________________________________________________\n",
      "block3_conv3 (Conv2D)        (None, None, None, 256)   590080    \n",
      "_________________________________________________________________\n",
      "block3_conv4 (Conv2D)        (None, None, None, 256)   590080    \n",
      "_________________________________________________________________\n",
      "block3_pool (MaxPooling2D)   (None, None, None, 256)   0         \n",
      "_________________________________________________________________\n",
      "block4_conv1 (Conv2D)        (None, None, None, 512)   1180160   \n",
      "_________________________________________________________________\n",
      "block4_conv2 (Conv2D)        (None, None, None, 512)   2359808   \n",
      "_________________________________________________________________\n",
      "block4_conv3 (Conv2D)        (None, None, None, 512)   2359808   \n",
      "_________________________________________________________________\n",
      "block4_conv4 (Conv2D)        (None, None, None, 512)   2359808   \n",
      "_________________________________________________________________\n",
      "block4_pool (MaxPooling2D)   (None, None, None, 512)   0         \n",
      "_________________________________________________________________\n",
      "block5_conv1 (Conv2D)        (None, None, None, 512)   2359808   \n",
      "_________________________________________________________________\n",
      "block5_conv2 (Conv2D)        (None, None, None, 512)   2359808   \n",
      "_________________________________________________________________\n",
      "block5_conv3 (Conv2D)        (None, None, None, 512)   2359808   \n",
      "_________________________________________________________________\n",
      "block5_conv4 (Conv2D)        (None, None, None, 512)   2359808   \n",
      "_________________________________________________________________\n",
      "block5_pool (MaxPooling2D)   (None, None, None, 512)   0         \n",
      "_________________________________________________________________\n",
      "global_average_pooling2d_1 ( (None, 512)               0         \n",
      "=================================================================\n",
      "Total params: 20,024,384\n",
      "Trainable params: 20,024,384\n",
      "Non-trainable params: 0\n",
      "_________________________________________________________________\n"
     ]
    }
   ],
   "source": [
    "base_model.summary()"
   ]
  },
  {
   "cell_type": "code",
   "execution_count": 13,
   "metadata": {},
   "outputs": [],
   "source": [
    "# モデル生成\n",
    "model = Sequential([\n",
    "    base_model, \n",
    "])"
   ]
  },
  {
   "cell_type": "code",
   "execution_count": 14,
   "metadata": {},
   "outputs": [
    {
     "name": "stdout",
     "output_type": "stream",
     "text": [
      "Model: \"sequential_1\"\n",
      "_________________________________________________________________\n",
      "Layer (type)                 Output Shape              Param #   \n",
      "=================================================================\n",
      "vgg19 (Model)                (None, 512)               20024384  \n",
      "=================================================================\n",
      "Total params: 20,024,384\n",
      "Trainable params: 20,024,384\n",
      "Non-trainable params: 0\n",
      "_________________________________________________________________\n"
     ]
    }
   ],
   "source": [
    "model.summary()"
   ]
  },
  {
   "cell_type": "code",
   "execution_count": 15,
   "metadata": {},
   "outputs": [],
   "source": [
    "# # 全結合層\n",
    "# model.add(Flatten())\n",
    "# model.add(Dense(128, activation='relu'))\n",
    "# # ドロップアウト\n",
    "# model.add(Dropout(0.5))\n",
    "\n",
    "# 出力層 二項分類なので sigmoid\n",
    "model.add(Dense(1, activation='sigmoid'))"
   ]
  },
  {
   "cell_type": "code",
   "execution_count": 16,
   "metadata": {},
   "outputs": [],
   "source": [
    "base_model.trainable = False"
   ]
  },
  {
   "cell_type": "code",
   "execution_count": 17,
   "metadata": {},
   "outputs": [
    {
     "name": "stdout",
     "output_type": "stream",
     "text": [
      "Model: \"sequential_1\"\n",
      "_________________________________________________________________\n",
      "Layer (type)                 Output Shape              Param #   \n",
      "=================================================================\n",
      "vgg19 (Model)                (None, 512)               20024384  \n",
      "_________________________________________________________________\n",
      "dense_1 (Dense)              (None, 1)                 513       \n",
      "=================================================================\n",
      "Total params: 20,024,897\n",
      "Trainable params: 513\n",
      "Non-trainable params: 20,024,384\n",
      "_________________________________________________________________\n"
     ]
    }
   ],
   "source": [
    "model.summary()"
   ]
  },
  {
   "cell_type": "code",
   "execution_count": 18,
   "metadata": {},
   "outputs": [],
   "source": [
    "# コンパイル\n",
    "# 2項分類なので損失関数は [binary_crossentropy]\n",
    "# 最適化は Adam\n",
    "model.compile(loss='binary_crossentropy',\n",
    "              optimizer=RMSprop(lr=0.005),\n",
    "              metrics=['accuracy'])"
   ]
  },
  {
   "cell_type": "code",
   "execution_count": 19,
   "metadata": {},
   "outputs": [],
   "source": [
    "# EarlyStopping\n",
    "callbaks = EarlyStopping(monitor='val_loss', patience=10)"
   ]
  },
  {
   "cell_type": "code",
   "execution_count": 20,
   "metadata": {},
   "outputs": [
    {
     "name": "stdout",
     "output_type": "stream",
     "text": [
      "Train on 320 samples, validate on 80 samples\n",
      "Epoch 1/25\n",
      "320/320 [==============================] - 62s 195ms/step - loss: 1.9507 - accuracy: 0.6562 - val_loss: 1.7976 - val_accuracy: 0.8000\n",
      "Epoch 2/25\n",
      "320/320 [==============================] - 65s 203ms/step - loss: 1.1155 - accuracy: 0.7406 - val_loss: 0.6522 - val_accuracy: 0.7750\n",
      "Epoch 3/25\n",
      "320/320 [==============================] - 65s 203ms/step - loss: 0.6851 - accuracy: 0.7937 - val_loss: 1.6959 - val_accuracy: 0.5250\n",
      "Epoch 4/25\n",
      "320/320 [==============================] - 65s 203ms/step - loss: 0.9073 - accuracy: 0.7719 - val_loss: 0.6265 - val_accuracy: 0.8500\n",
      "Epoch 5/25\n",
      "320/320 [==============================] - 65s 202ms/step - loss: 0.7591 - accuracy: 0.8250 - val_loss: 0.5502 - val_accuracy: 0.8625\n",
      "Epoch 6/25\n",
      "320/320 [==============================] - 64s 201ms/step - loss: 0.6440 - accuracy: 0.8062 - val_loss: 0.6296 - val_accuracy: 0.8375\n",
      "Epoch 7/25\n",
      "320/320 [==============================] - 65s 203ms/step - loss: 0.4044 - accuracy: 0.8594 - val_loss: 0.9489 - val_accuracy: 0.7000\n",
      "Epoch 8/25\n",
      "320/320 [==============================] - 65s 202ms/step - loss: 0.6486 - accuracy: 0.8469 - val_loss: 0.5362 - val_accuracy: 0.8125\n",
      "Epoch 9/25\n",
      "320/320 [==============================] - 65s 204ms/step - loss: 0.3565 - accuracy: 0.8750 - val_loss: 0.4813 - val_accuracy: 0.8125\n",
      "Epoch 10/25\n",
      "320/320 [==============================] - 65s 202ms/step - loss: 0.6276 - accuracy: 0.8313 - val_loss: 1.5925 - val_accuracy: 0.8250\n",
      "Epoch 11/25\n",
      "320/320 [==============================] - 64s 202ms/step - loss: 0.2623 - accuracy: 0.8906 - val_loss: 1.4048 - val_accuracy: 0.8250\n",
      "Epoch 12/25\n",
      "320/320 [==============================] - 64s 202ms/step - loss: 0.4983 - accuracy: 0.8594 - val_loss: 0.6534 - val_accuracy: 0.8500\n",
      "Epoch 13/25\n",
      "320/320 [==============================] - 65s 205ms/step - loss: 0.3675 - accuracy: 0.8875 - val_loss: 1.0839 - val_accuracy: 0.7250\n",
      "Epoch 14/25\n",
      "320/320 [==============================] - 66s 207ms/step - loss: 0.2723 - accuracy: 0.9062 - val_loss: 0.5683 - val_accuracy: 0.8250\n",
      "Epoch 15/25\n",
      "320/320 [==============================] - 65s 204ms/step - loss: 0.3458 - accuracy: 0.8844 - val_loss: 0.4762 - val_accuracy: 0.8250\n",
      "Epoch 16/25\n",
      "320/320 [==============================] - 66s 205ms/step - loss: 0.2368 - accuracy: 0.9156 - val_loss: 0.6308 - val_accuracy: 0.7625\n",
      "Epoch 17/25\n",
      "320/320 [==============================] - 65s 202ms/step - loss: 0.2196 - accuracy: 0.9312 - val_loss: 1.0646 - val_accuracy: 0.8375\n",
      "Epoch 18/25\n",
      "320/320 [==============================] - 66s 205ms/step - loss: 0.4082 - accuracy: 0.8719 - val_loss: 0.7556 - val_accuracy: 0.8000\n",
      "Epoch 19/25\n",
      "320/320 [==============================] - 66s 205ms/step - loss: 0.3074 - accuracy: 0.9312 - val_loss: 0.4968 - val_accuracy: 0.8625\n",
      "Epoch 20/25\n",
      "320/320 [==============================] - 65s 203ms/step - loss: 0.3598 - accuracy: 0.8875 - val_loss: 0.7769 - val_accuracy: 0.8625\n",
      "Epoch 21/25\n",
      "320/320 [==============================] - 65s 202ms/step - loss: 0.0847 - accuracy: 0.9625 - val_loss: 0.8049 - val_accuracy: 0.8500\n",
      "Epoch 22/25\n",
      "320/320 [==============================] - 65s 202ms/step - loss: 0.3402 - accuracy: 0.9062 - val_loss: 0.5489 - val_accuracy: 0.8250\n",
      "Epoch 23/25\n",
      "320/320 [==============================] - 65s 203ms/step - loss: 0.1563 - accuracy: 0.9375 - val_loss: 1.3665 - val_accuracy: 0.8250\n",
      "Epoch 24/25\n",
      "320/320 [==============================] - 65s 204ms/step - loss: 0.1627 - accuracy: 0.9375 - val_loss: 0.5347 - val_accuracy: 0.8250\n",
      "Epoch 25/25\n",
      "320/320 [==============================] - 65s 204ms/step - loss: 0.4746 - accuracy: 0.8687 - val_loss: 0.6362 - val_accuracy: 0.8250\n"
     ]
    },
    {
     "data": {
      "text/plain": [
       "<keras.callbacks.callbacks.History at 0x1b32f717128>"
      ]
     },
     "execution_count": 20,
     "metadata": {},
     "output_type": "execute_result"
    }
   ],
   "source": [
    "# モデル訓練\n",
    "model.fit(X_train, y_train, batch_size=16, validation_data=(X_test, y_test), callbacks=[callbaks], epochs=25)\n",
    "# model.fit(X_train, y_train, callbacks=[callbaks], epochs=20)\n"
   ]
  },
  {
   "cell_type": "code",
   "execution_count": 21,
   "metadata": {},
   "outputs": [],
   "source": [
    "base_y_pred = model.predict_classes(X_test)"
   ]
  },
  {
   "cell_type": "code",
   "execution_count": 22,
   "metadata": {},
   "outputs": [
    {
     "data": {
      "text/plain": [
       "array([[1],\n",
       "       [1],\n",
       "       [1],\n",
       "       [0],\n",
       "       [0]])"
      ]
     },
     "execution_count": 22,
     "metadata": {},
     "output_type": "execute_result"
    }
   ],
   "source": [
    "base_y_pred[:5]"
   ]
  },
  {
   "cell_type": "code",
   "execution_count": 23,
   "metadata": {},
   "outputs": [
    {
     "data": {
      "text/plain": [
       "array([[ 7,  9],\n",
       "       [ 5, 59]], dtype=int64)"
      ]
     },
     "execution_count": 23,
     "metadata": {},
     "output_type": "execute_result"
    }
   ],
   "source": [
    "confusion_matrix(y_test, base_y_pred)"
   ]
  },
  {
   "cell_type": "code",
   "execution_count": 24,
   "metadata": {},
   "outputs": [
    {
     "data": {
      "text/plain": [
       "0.825"
      ]
     },
     "execution_count": 24,
     "metadata": {},
     "output_type": "execute_result"
    }
   ],
   "source": [
    "# 正解率\n",
    "accuracy_score(y_test, base_y_pred)"
   ]
  },
  {
   "cell_type": "code",
   "execution_count": 25,
   "metadata": {},
   "outputs": [
    {
     "data": {
      "text/plain": [
       "0.8676470588235294"
      ]
     },
     "execution_count": 25,
     "metadata": {},
     "output_type": "execute_result"
    }
   ],
   "source": [
    "# 適合率\n",
    "precision_score(y_test, base_y_pred)"
   ]
  },
  {
   "cell_type": "code",
   "execution_count": 26,
   "metadata": {},
   "outputs": [
    {
     "data": {
      "text/plain": [
       "0.921875"
      ]
     },
     "execution_count": 26,
     "metadata": {},
     "output_type": "execute_result"
    }
   ],
   "source": [
    "# 再現率\n",
    "recall_score(y_test, base_y_pred)"
   ]
  },
  {
   "cell_type": "code",
   "execution_count": 27,
   "metadata": {},
   "outputs": [
    {
     "data": {
      "text/plain": [
       "0.893939393939394"
      ]
     },
     "execution_count": 27,
     "metadata": {},
     "output_type": "execute_result"
    }
   ],
   "source": [
    "# F1メジャー\n",
    "f1_score(y_test, base_y_pred)"
   ]
  },
  {
   "cell_type": "code",
   "execution_count": null,
   "metadata": {},
   "outputs": [],
   "source": []
  },
  {
   "cell_type": "code",
   "execution_count": 28,
   "metadata": {},
   "outputs": [],
   "source": [
    "y_valid = model.predict_classes(X_valid)"
   ]
  },
  {
   "cell_type": "code",
   "execution_count": 29,
   "metadata": {},
   "outputs": [
    {
     "data": {
      "text/plain": [
       "(array([[1],\n",
       "        [0],\n",
       "        [0],\n",
       "        [0],\n",
       "        [1]]),\n",
       " array([1]))"
      ]
     },
     "execution_count": 29,
     "metadata": {},
     "output_type": "execute_result"
    }
   ],
   "source": [
    "y_valid[:5], y_valid[6].flatten()"
   ]
  },
  {
   "cell_type": "code",
   "execution_count": 30,
   "metadata": {},
   "outputs": [
    {
     "data": {
      "text/plain": [
       "(114, numpy.ndarray, array([1]))"
      ]
     },
     "execution_count": 30,
     "metadata": {},
     "output_type": "execute_result"
    }
   ],
   "source": [
    "y_valid.sum(), type(y_valid), y_valid[0]"
   ]
  },
  {
   "cell_type": "code",
   "execution_count": 31,
   "metadata": {},
   "outputs": [],
   "source": [
    "result_df = pd.DataFrame([y_valid_Image, y_valid]).T"
   ]
  },
  {
   "cell_type": "code",
   "execution_count": 32,
   "metadata": {},
   "outputs": [],
   "source": [
    "result_df.rename(columns={0: 'Image', 1: 'y'}, inplace=True)"
   ]
  },
  {
   "cell_type": "code",
   "execution_count": 33,
   "metadata": {},
   "outputs": [
    {
     "data": {
      "text/html": [
       "<div>\n",
       "<style scoped>\n",
       "    .dataframe tbody tr th:only-of-type {\n",
       "        vertical-align: middle;\n",
       "    }\n",
       "\n",
       "    .dataframe tbody tr th {\n",
       "        vertical-align: top;\n",
       "    }\n",
       "\n",
       "    .dataframe thead th {\n",
       "        text-align: right;\n",
       "    }\n",
       "</style>\n",
       "<table border=\"1\" class=\"dataframe\">\n",
       "  <thead>\n",
       "    <tr style=\"text-align: right;\">\n",
       "      <th></th>\n",
       "      <th>Image</th>\n",
       "      <th>y</th>\n",
       "    </tr>\n",
       "  </thead>\n",
       "  <tbody>\n",
       "    <tr>\n",
       "      <th>0</th>\n",
       "      <td>../data/test/test\\000.jpeg</td>\n",
       "      <td>[1]</td>\n",
       "    </tr>\n",
       "    <tr>\n",
       "      <th>1</th>\n",
       "      <td>../data/test/test\\001.jpeg</td>\n",
       "      <td>[0]</td>\n",
       "    </tr>\n",
       "    <tr>\n",
       "      <th>2</th>\n",
       "      <td>../data/test/test\\002.jpeg</td>\n",
       "      <td>[0]</td>\n",
       "    </tr>\n",
       "    <tr>\n",
       "      <th>3</th>\n",
       "      <td>../data/test/test\\003.jpeg</td>\n",
       "      <td>[0]</td>\n",
       "    </tr>\n",
       "    <tr>\n",
       "      <th>4</th>\n",
       "      <td>../data/test/test\\004.jpeg</td>\n",
       "      <td>[1]</td>\n",
       "    </tr>\n",
       "  </tbody>\n",
       "</table>\n",
       "</div>"
      ],
      "text/plain": [
       "                        Image    y\n",
       "0  ../data/test/test\\000.jpeg  [1]\n",
       "1  ../data/test/test\\001.jpeg  [0]\n",
       "2  ../data/test/test\\002.jpeg  [0]\n",
       "3  ../data/test/test\\003.jpeg  [0]\n",
       "4  ../data/test/test\\004.jpeg  [1]"
      ]
     },
     "execution_count": 33,
     "metadata": {},
     "output_type": "execute_result"
    }
   ],
   "source": [
    "result_df[:5]"
   ]
  },
  {
   "cell_type": "code",
   "execution_count": 34,
   "metadata": {},
   "outputs": [
    {
     "name": "stdout",
     "output_type": "stream",
     "text": [
      "<class 'pandas.core.frame.DataFrame'>\n",
      "RangeIndex: 213 entries, 0 to 212\n",
      "Data columns (total 2 columns):\n",
      " #   Column  Non-Null Count  Dtype \n",
      "---  ------  --------------  ----- \n",
      " 0   Image   213 non-null    object\n",
      " 1   y       213 non-null    object\n",
      "dtypes: object(2)\n",
      "memory usage: 3.5+ KB\n"
     ]
    }
   ],
   "source": [
    "result_df.info()"
   ]
  },
  {
   "cell_type": "code",
   "execution_count": 35,
   "metadata": {},
   "outputs": [],
   "source": [
    "result_df['Image'] = result_df['Image'].str.replace(r'../data/test/test\\\\', \"\")"
   ]
  },
  {
   "cell_type": "code",
   "execution_count": 36,
   "metadata": {},
   "outputs": [],
   "source": [
    "# result_df[0] = result_df[0].str.replace('\\\\', \"\")"
   ]
  },
  {
   "cell_type": "code",
   "execution_count": 37,
   "metadata": {},
   "outputs": [],
   "source": [
    "result_df['y'][result_df['y'] == 1] = 1\n",
    "result_df['y'][result_df['y'] == 0] = 0"
   ]
  },
  {
   "cell_type": "code",
   "execution_count": 38,
   "metadata": {},
   "outputs": [
    {
     "data": {
      "text/html": [
       "<div>\n",
       "<style scoped>\n",
       "    .dataframe tbody tr th:only-of-type {\n",
       "        vertical-align: middle;\n",
       "    }\n",
       "\n",
       "    .dataframe tbody tr th {\n",
       "        vertical-align: top;\n",
       "    }\n",
       "\n",
       "    .dataframe thead th {\n",
       "        text-align: right;\n",
       "    }\n",
       "</style>\n",
       "<table border=\"1\" class=\"dataframe\">\n",
       "  <thead>\n",
       "    <tr style=\"text-align: right;\">\n",
       "      <th></th>\n",
       "      <th>Image</th>\n",
       "      <th>y</th>\n",
       "    </tr>\n",
       "  </thead>\n",
       "  <tbody>\n",
       "    <tr>\n",
       "      <th>0</th>\n",
       "      <td>000.jpeg</td>\n",
       "      <td>1</td>\n",
       "    </tr>\n",
       "    <tr>\n",
       "      <th>1</th>\n",
       "      <td>001.jpeg</td>\n",
       "      <td>0</td>\n",
       "    </tr>\n",
       "    <tr>\n",
       "      <th>2</th>\n",
       "      <td>002.jpeg</td>\n",
       "      <td>0</td>\n",
       "    </tr>\n",
       "    <tr>\n",
       "      <th>3</th>\n",
       "      <td>003.jpeg</td>\n",
       "      <td>0</td>\n",
       "    </tr>\n",
       "    <tr>\n",
       "      <th>4</th>\n",
       "      <td>004.jpeg</td>\n",
       "      <td>1</td>\n",
       "    </tr>\n",
       "  </tbody>\n",
       "</table>\n",
       "</div>"
      ],
      "text/plain": [
       "      Image  y\n",
       "0  000.jpeg  1\n",
       "1  001.jpeg  0\n",
       "2  002.jpeg  0\n",
       "3  003.jpeg  0\n",
       "4  004.jpeg  1"
      ]
     },
     "execution_count": 38,
     "metadata": {},
     "output_type": "execute_result"
    }
   ],
   "source": [
    "result_df[:5]"
   ]
  },
  {
   "cell_type": "code",
   "execution_count": 39,
   "metadata": {},
   "outputs": [
    {
     "data": {
      "text/plain": [
       "114"
      ]
     },
     "execution_count": 39,
     "metadata": {},
     "output_type": "execute_result"
    }
   ],
   "source": [
    "result_df.y.sum()"
   ]
  },
  {
   "cell_type": "code",
   "execution_count": 40,
   "metadata": {},
   "outputs": [],
   "source": [
    "result_df.to_csv('./VGG19-600-1.tsv', index=False, header=False, sep='\\t')"
   ]
  },
  {
   "cell_type": "code",
   "execution_count": 41,
   "metadata": {},
   "outputs": [],
   "source": [
    "# result_df[result_df['y'] == 1]"
   ]
  },
  {
   "cell_type": "code",
   "execution_count": 42,
   "metadata": {},
   "outputs": [
    {
     "data": {
      "text/plain": [
       "int"
      ]
     },
     "execution_count": 42,
     "metadata": {},
     "output_type": "execute_result"
    }
   ],
   "source": [
    "type(result_df['y'][0])"
   ]
  },
  {
   "cell_type": "code",
   "execution_count": 43,
   "metadata": {},
   "outputs": [
    {
     "name": "stdout",
     "output_type": "stream",
     "text": [
      "(1)\n"
     ]
    }
   ],
   "source": [
    "print(\"({0})\".format(result_df['y'][0]))"
   ]
  },
  {
   "cell_type": "code",
   "execution_count": 44,
   "metadata": {},
   "outputs": [
    {
     "data": {
      "text/plain": [
       "<function tuple.count>"
      ]
     },
     "execution_count": 44,
     "metadata": {},
     "output_type": "execute_result"
    }
   ],
   "source": [
    "np.where(y_test[:] == 1).count"
   ]
  },
  {
   "cell_type": "code",
   "execution_count": 45,
   "metadata": {},
   "outputs": [
    {
     "data": {
      "text/plain": [
       "(236, 84)"
      ]
     },
     "execution_count": 45,
     "metadata": {},
     "output_type": "execute_result"
    }
   ],
   "source": [
    "np.count_nonzero(y_train == 1), np.count_nonzero(y_train == 0)"
   ]
  },
  {
   "cell_type": "code",
   "execution_count": 46,
   "metadata": {},
   "outputs": [
    {
     "data": {
      "text/plain": [
       "'channels_last'"
      ]
     },
     "execution_count": 46,
     "metadata": {},
     "output_type": "execute_result"
    }
   ],
   "source": [
    "K.image_data_format()"
   ]
  },
  {
   "cell_type": "code",
   "execution_count": null,
   "metadata": {},
   "outputs": [],
   "source": []
  }
 ],
 "metadata": {
  "kernelspec": {
   "display_name": "Python 3",
   "language": "python",
   "name": "python3"
  },
  "language_info": {
   "codemirror_mode": {
    "name": "ipython",
    "version": 3
   },
   "file_extension": ".py",
   "mimetype": "text/x-python",
   "name": "python",
   "nbconvert_exporter": "python",
   "pygments_lexer": "ipython3",
   "version": "3.6.10"
  }
 },
 "nbformat": 4,
 "nbformat_minor": 4
}
