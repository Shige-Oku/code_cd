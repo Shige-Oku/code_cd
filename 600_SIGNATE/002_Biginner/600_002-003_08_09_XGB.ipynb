{
 "cells": [
  {
   "cell_type": "code",
   "execution_count": 560,
   "metadata": {},
   "outputs": [],
   "source": [
    "import numpy as np\n",
    "import pandas as pd\n",
    "\n",
    "import matplotlib.pyplot as plt\n",
    "%matplotlib inline\n",
    "\n",
    "import xgboost\n",
    "from xgboost import XGBClassifier\n",
    "from sklearn.metrics import mean_squared_error, make_scorer, confusion_matrix, accuracy_score\n",
    "from sklearn.model_selection import train_test_split, learning_curve\n",
    "from sklearn.preprocessing import PolynomialFeatures\n",
    "from sklearn.metrics import roc_auc_score, roc_curve\n",
    "from sklearn import preprocessing, metrics\n"
   ]
  },
  {
   "cell_type": "code",
   "execution_count": 419,
   "metadata": {},
   "outputs": [],
   "source": [
    "# pickle ファイルから読み込み\n",
    "train_pkl = pd.read_pickle('../001/train.pk1')"
   ]
  },
  {
   "cell_type": "code",
   "execution_count": 420,
   "metadata": {},
   "outputs": [
    {
     "data": {
      "text/plain": [
       "(850, 11)"
      ]
     },
     "execution_count": 420,
     "metadata": {},
     "output_type": "execute_result"
    }
   ],
   "source": [
    "train_pkl.shape"
   ]
  },
  {
   "cell_type": "code",
   "execution_count": 421,
   "metadata": {},
   "outputs": [],
   "source": [
    "# 年齢(Age)、性別(Gender_Male)は削除\n",
    "train_pkl.drop(['Gender_Male'], axis=1, inplace=True)"
   ]
  },
  {
   "cell_type": "code",
   "execution_count": 422,
   "metadata": {},
   "outputs": [
    {
     "data": {
      "text/html": [
       "<div>\n",
       "<style scoped>\n",
       "    .dataframe tbody tr th:only-of-type {\n",
       "        vertical-align: middle;\n",
       "    }\n",
       "\n",
       "    .dataframe tbody tr th {\n",
       "        vertical-align: top;\n",
       "    }\n",
       "\n",
       "    .dataframe thead th {\n",
       "        text-align: right;\n",
       "    }\n",
       "</style>\n",
       "<table border=\"1\" class=\"dataframe\">\n",
       "  <thead>\n",
       "    <tr style=\"text-align: right;\">\n",
       "      <th></th>\n",
       "      <th>Age</th>\n",
       "      <th>T_Bil</th>\n",
       "      <th>D_Bil</th>\n",
       "      <th>ALP</th>\n",
       "      <th>ALT_GPT</th>\n",
       "      <th>AST_GOT</th>\n",
       "      <th>TP</th>\n",
       "      <th>Alb</th>\n",
       "      <th>AG_ratio</th>\n",
       "      <th>disease</th>\n",
       "    </tr>\n",
       "  </thead>\n",
       "  <tbody>\n",
       "    <tr>\n",
       "      <th>0</th>\n",
       "      <td>59</td>\n",
       "      <td>0.787109</td>\n",
       "      <td>0.150513</td>\n",
       "      <td>220.178696</td>\n",
       "      <td>13.467617</td>\n",
       "      <td>21.729246</td>\n",
       "      <td>6.816406</td>\n",
       "      <td>3.111328</td>\n",
       "      <td>1.006836</td>\n",
       "      <td>0</td>\n",
       "    </tr>\n",
       "    <tr>\n",
       "      <th>1</th>\n",
       "      <td>69</td>\n",
       "      <td>1.003906</td>\n",
       "      <td>0.195679</td>\n",
       "      <td>221.218414</td>\n",
       "      <td>51.033463</td>\n",
       "      <td>64.752319</td>\n",
       "      <td>6.890625</td>\n",
       "      <td>3.050781</td>\n",
       "      <td>0.751465</td>\n",
       "      <td>1</td>\n",
       "    </tr>\n",
       "    <tr>\n",
       "      <th>2</th>\n",
       "      <td>65</td>\n",
       "      <td>0.657227</td>\n",
       "      <td>0.081299</td>\n",
       "      <td>320.770538</td>\n",
       "      <td>12.625011</td>\n",
       "      <td>30.613180</td>\n",
       "      <td>5.949219</td>\n",
       "      <td>2.488281</td>\n",
       "      <td>0.774902</td>\n",
       "      <td>0</td>\n",
       "    </tr>\n",
       "    <tr>\n",
       "      <th>3</th>\n",
       "      <td>65</td>\n",
       "      <td>0.906738</td>\n",
       "      <td>0.214233</td>\n",
       "      <td>369.278168</td>\n",
       "      <td>34.347599</td>\n",
       "      <td>54.510086</td>\n",
       "      <td>6.968750</td>\n",
       "      <td>3.613281</td>\n",
       "      <td>0.988281</td>\n",
       "      <td>1</td>\n",
       "    </tr>\n",
       "    <tr>\n",
       "      <th>4</th>\n",
       "      <td>22</td>\n",
       "      <td>1.735352</td>\n",
       "      <td>0.197754</td>\n",
       "      <td>222.782028</td>\n",
       "      <td>20.572891</td>\n",
       "      <td>170.010178</td>\n",
       "      <td>5.835938</td>\n",
       "      <td>3.068359</td>\n",
       "      <td>1.026367</td>\n",
       "      <td>0</td>\n",
       "    </tr>\n",
       "  </tbody>\n",
       "</table>\n",
       "</div>"
      ],
      "text/plain": [
       "   Age     T_Bil     D_Bil         ALP    ALT_GPT     AST_GOT        TP  \\\n",
       "0   59  0.787109  0.150513  220.178696  13.467617   21.729246  6.816406   \n",
       "1   69  1.003906  0.195679  221.218414  51.033463   64.752319  6.890625   \n",
       "2   65  0.657227  0.081299  320.770538  12.625011   30.613180  5.949219   \n",
       "3   65  0.906738  0.214233  369.278168  34.347599   54.510086  6.968750   \n",
       "4   22  1.735352  0.197754  222.782028  20.572891  170.010178  5.835938   \n",
       "\n",
       "        Alb  AG_ratio  disease  \n",
       "0  3.111328  1.006836        0  \n",
       "1  3.050781  0.751465        1  \n",
       "2  2.488281  0.774902        0  \n",
       "3  3.613281  0.988281        1  \n",
       "4  3.068359  1.026367        0  "
      ]
     },
     "execution_count": 422,
     "metadata": {},
     "output_type": "execute_result"
    }
   ],
   "source": [
    "train_pkl.head()"
   ]
  },
  {
   "cell_type": "code",
   "execution_count": 423,
   "metadata": {},
   "outputs": [
    {
     "data": {
      "text/plain": [
       "(850, 10)"
      ]
     },
     "execution_count": 423,
     "metadata": {},
     "output_type": "execute_result"
    }
   ],
   "source": [
    "train_pk2 = train_pkl.copy()\n",
    "train_pkl.shape"
   ]
  },
  {
   "cell_type": "code",
   "execution_count": 424,
   "metadata": {},
   "outputs": [],
   "source": [
    "# I_Bill間接ビルビリンを追加\n",
    "train_pkl['I_Bill'] = train_pkl['T_Bil'] - train_pkl['D_Bil']\n",
    "# 直接ビルビリンを追加\n",
    "train_pkl['P_Bill'] = train_pkl['D_Bil'] / train_pkl['T_Bil']\n"
   ]
  },
  {
   "cell_type": "code",
   "execution_count": 425,
   "metadata": {},
   "outputs": [],
   "source": [
    "disease_bk = train_pkl.disease.values"
   ]
  },
  {
   "cell_type": "code",
   "execution_count": 426,
   "metadata": {},
   "outputs": [],
   "source": [
    "train_pkl.drop('disease', axis=1, inplace=True)"
   ]
  },
  {
   "cell_type": "code",
   "execution_count": 427,
   "metadata": {},
   "outputs": [],
   "source": [
    "train_pkl['disease'] = disease_bk"
   ]
  },
  {
   "cell_type": "code",
   "execution_count": 428,
   "metadata": {},
   "outputs": [
    {
     "data": {
      "text/html": [
       "<div>\n",
       "<style scoped>\n",
       "    .dataframe tbody tr th:only-of-type {\n",
       "        vertical-align: middle;\n",
       "    }\n",
       "\n",
       "    .dataframe tbody tr th {\n",
       "        vertical-align: top;\n",
       "    }\n",
       "\n",
       "    .dataframe thead th {\n",
       "        text-align: right;\n",
       "    }\n",
       "</style>\n",
       "<table border=\"1\" class=\"dataframe\">\n",
       "  <thead>\n",
       "    <tr style=\"text-align: right;\">\n",
       "      <th></th>\n",
       "      <th>Age</th>\n",
       "      <th>T_Bil</th>\n",
       "      <th>D_Bil</th>\n",
       "      <th>ALP</th>\n",
       "      <th>ALT_GPT</th>\n",
       "      <th>AST_GOT</th>\n",
       "      <th>TP</th>\n",
       "      <th>Alb</th>\n",
       "      <th>AG_ratio</th>\n",
       "      <th>I_Bill</th>\n",
       "      <th>P_Bill</th>\n",
       "      <th>disease</th>\n",
       "    </tr>\n",
       "  </thead>\n",
       "  <tbody>\n",
       "    <tr>\n",
       "      <th>0</th>\n",
       "      <td>59</td>\n",
       "      <td>0.787109</td>\n",
       "      <td>0.150513</td>\n",
       "      <td>220.178696</td>\n",
       "      <td>13.467617</td>\n",
       "      <td>21.729246</td>\n",
       "      <td>6.816406</td>\n",
       "      <td>3.111328</td>\n",
       "      <td>1.006836</td>\n",
       "      <td>0.636719</td>\n",
       "      <td>0.191162</td>\n",
       "      <td>0</td>\n",
       "    </tr>\n",
       "    <tr>\n",
       "      <th>1</th>\n",
       "      <td>69</td>\n",
       "      <td>1.003906</td>\n",
       "      <td>0.195679</td>\n",
       "      <td>221.218414</td>\n",
       "      <td>51.033463</td>\n",
       "      <td>64.752319</td>\n",
       "      <td>6.890625</td>\n",
       "      <td>3.050781</td>\n",
       "      <td>0.751465</td>\n",
       "      <td>0.808105</td>\n",
       "      <td>0.194946</td>\n",
       "      <td>1</td>\n",
       "    </tr>\n",
       "    <tr>\n",
       "      <th>2</th>\n",
       "      <td>65</td>\n",
       "      <td>0.657227</td>\n",
       "      <td>0.081299</td>\n",
       "      <td>320.770538</td>\n",
       "      <td>12.625011</td>\n",
       "      <td>30.613180</td>\n",
       "      <td>5.949219</td>\n",
       "      <td>2.488281</td>\n",
       "      <td>0.774902</td>\n",
       "      <td>0.576172</td>\n",
       "      <td>0.123718</td>\n",
       "      <td>0</td>\n",
       "    </tr>\n",
       "    <tr>\n",
       "      <th>3</th>\n",
       "      <td>65</td>\n",
       "      <td>0.906738</td>\n",
       "      <td>0.214233</td>\n",
       "      <td>369.278168</td>\n",
       "      <td>34.347599</td>\n",
       "      <td>54.510086</td>\n",
       "      <td>6.968750</td>\n",
       "      <td>3.613281</td>\n",
       "      <td>0.988281</td>\n",
       "      <td>0.692383</td>\n",
       "      <td>0.236328</td>\n",
       "      <td>1</td>\n",
       "    </tr>\n",
       "    <tr>\n",
       "      <th>4</th>\n",
       "      <td>22</td>\n",
       "      <td>1.735352</td>\n",
       "      <td>0.197754</td>\n",
       "      <td>222.782028</td>\n",
       "      <td>20.572891</td>\n",
       "      <td>170.010178</td>\n",
       "      <td>5.835938</td>\n",
       "      <td>3.068359</td>\n",
       "      <td>1.026367</td>\n",
       "      <td>1.537109</td>\n",
       "      <td>0.113953</td>\n",
       "      <td>0</td>\n",
       "    </tr>\n",
       "  </tbody>\n",
       "</table>\n",
       "</div>"
      ],
      "text/plain": [
       "   Age     T_Bil     D_Bil         ALP    ALT_GPT     AST_GOT        TP  \\\n",
       "0   59  0.787109  0.150513  220.178696  13.467617   21.729246  6.816406   \n",
       "1   69  1.003906  0.195679  221.218414  51.033463   64.752319  6.890625   \n",
       "2   65  0.657227  0.081299  320.770538  12.625011   30.613180  5.949219   \n",
       "3   65  0.906738  0.214233  369.278168  34.347599   54.510086  6.968750   \n",
       "4   22  1.735352  0.197754  222.782028  20.572891  170.010178  5.835938   \n",
       "\n",
       "        Alb  AG_ratio    I_Bill    P_Bill  disease  \n",
       "0  3.111328  1.006836  0.636719  0.191162        0  \n",
       "1  3.050781  0.751465  0.808105  0.194946        1  \n",
       "2  2.488281  0.774902  0.576172  0.123718        0  \n",
       "3  3.613281  0.988281  0.692383  0.236328        1  \n",
       "4  3.068359  1.026367  1.537109  0.113953        0  "
      ]
     },
     "execution_count": 428,
     "metadata": {},
     "output_type": "execute_result"
    }
   ],
   "source": [
    "train_pkl.head()"
   ]
  },
  {
   "cell_type": "markdown",
   "metadata": {},
   "source": [
    "## 訓練データとテストデータに分割"
   ]
  },
  {
   "cell_type": "code",
   "execution_count": 518,
   "metadata": {},
   "outputs": [],
   "source": [
    "# 訓練とテストデータに分割\n",
    "train, test = train_test_split(train_pkl, test_size=0.2, random_state=4242)"
   ]
  },
  {
   "cell_type": "code",
   "execution_count": 519,
   "metadata": {},
   "outputs": [],
   "source": [
    "# ターゲットと特徴量の分割\n",
    "train_X = train.iloc[:, :-1]\n",
    "train_y = train.disease.values"
   ]
  },
  {
   "cell_type": "code",
   "execution_count": 520,
   "metadata": {},
   "outputs": [],
   "source": [
    "# ターゲットと特徴量の分割\n",
    "test_x = test.iloc[:, :-1]\n",
    "test_y = test.disease.values"
   ]
  },
  {
   "cell_type": "markdown",
   "metadata": {},
   "source": [
    "## 訓練データで訓練"
   ]
  },
  {
   "cell_type": "code",
   "execution_count": 573,
   "metadata": {},
   "outputs": [],
   "source": [
    "XGB = XGBClassifier(lambda_l1=0, lamba_l2=1, max_depth=7, romdam_stat=4242)\n",
    "# XGB = XGBClassifier(random_state=4242)"
   ]
  },
  {
   "cell_type": "code",
   "execution_count": 574,
   "metadata": {},
   "outputs": [
    {
     "name": "stdout",
     "output_type": "stream",
     "text": [
      "[0]\tvalidation_0-auc:0.888797\n",
      "Will train until validation_0-auc hasn't improved in 20 rounds.\n",
      "[1]\tvalidation_0-auc:0.897798\n",
      "[2]\tvalidation_0-auc:0.92965\n",
      "[3]\tvalidation_0-auc:0.924041\n",
      "[4]\tvalidation_0-auc:0.930758\n",
      "[5]\tvalidation_0-auc:0.932835\n",
      "[6]\tvalidation_0-auc:0.937543\n",
      "[7]\tvalidation_0-auc:0.936297\n",
      "[8]\tvalidation_0-auc:0.935535\n",
      "[9]\tvalidation_0-auc:0.93782\n",
      "[10]\tvalidation_0-auc:0.940105\n",
      "[11]\tvalidation_0-auc:0.937613\n",
      "[12]\tvalidation_0-auc:0.93789\n",
      "[13]\tvalidation_0-auc:0.937336\n",
      "[14]\tvalidation_0-auc:0.936297\n",
      "[15]\tvalidation_0-auc:0.93782\n",
      "[16]\tvalidation_0-auc:0.93782\n",
      "[17]\tvalidation_0-auc:0.938374\n",
      "[18]\tvalidation_0-auc:0.939205\n",
      "[19]\tvalidation_0-auc:0.941836\n",
      "[20]\tvalidation_0-auc:0.944052\n",
      "[21]\tvalidation_0-auc:0.943637\n",
      "[22]\tvalidation_0-auc:0.943637\n",
      "[23]\tvalidation_0-auc:0.945021\n",
      "[24]\tvalidation_0-auc:0.945437\n",
      "[25]\tvalidation_0-auc:0.945575\n",
      "[26]\tvalidation_0-auc:0.946268\n",
      "[27]\tvalidation_0-auc:0.948068\n",
      "[28]\tvalidation_0-auc:0.948345\n",
      "[29]\tvalidation_0-auc:0.949038\n",
      "[30]\tvalidation_0-auc:0.949868\n",
      "[31]\tvalidation_0-auc:0.949591\n",
      "[32]\tvalidation_0-auc:0.949176\n",
      "[33]\tvalidation_0-auc:0.948484\n",
      "[34]\tvalidation_0-auc:0.949453\n",
      "[35]\tvalidation_0-auc:0.950561\n",
      "[36]\tvalidation_0-auc:0.952084\n",
      "[37]\tvalidation_0-auc:0.952915\n",
      "[38]\tvalidation_0-auc:0.953054\n",
      "[39]\tvalidation_0-auc:0.953884\n",
      "[40]\tvalidation_0-auc:0.954023\n",
      "[41]\tvalidation_0-auc:0.9543\n",
      "[42]\tvalidation_0-auc:0.954992\n",
      "[43]\tvalidation_0-auc:0.954854\n",
      "[44]\tvalidation_0-auc:0.954854\n",
      "[45]\tvalidation_0-auc:0.9561\n",
      "[46]\tvalidation_0-auc:0.955823\n",
      "[47]\tvalidation_0-auc:0.956239\n",
      "[48]\tvalidation_0-auc:0.956793\n",
      "[49]\tvalidation_0-auc:0.95707\n",
      "[50]\tvalidation_0-auc:0.957347\n",
      "[51]\tvalidation_0-auc:0.957347\n",
      "[52]\tvalidation_0-auc:0.957485\n",
      "[53]\tvalidation_0-auc:0.957624\n",
      "[54]\tvalidation_0-auc:0.957624\n",
      "[55]\tvalidation_0-auc:0.957762\n",
      "[56]\tvalidation_0-auc:0.957485\n",
      "[57]\tvalidation_0-auc:0.958039\n",
      "[58]\tvalidation_0-auc:0.958178\n",
      "[59]\tvalidation_0-auc:0.958178\n",
      "[60]\tvalidation_0-auc:0.957762\n",
      "[61]\tvalidation_0-auc:0.957762\n",
      "[62]\tvalidation_0-auc:0.958039\n",
      "[63]\tvalidation_0-auc:0.958316\n",
      "[64]\tvalidation_0-auc:0.957762\n",
      "[65]\tvalidation_0-auc:0.957901\n",
      "[66]\tvalidation_0-auc:0.958178\n",
      "[67]\tvalidation_0-auc:0.958178\n",
      "[68]\tvalidation_0-auc:0.958039\n",
      "[69]\tvalidation_0-auc:0.957347\n",
      "[70]\tvalidation_0-auc:0.957347\n",
      "[71]\tvalidation_0-auc:0.957901\n",
      "[72]\tvalidation_0-auc:0.958316\n",
      "[73]\tvalidation_0-auc:0.957901\n",
      "[74]\tvalidation_0-auc:0.958039\n",
      "[75]\tvalidation_0-auc:0.958316\n",
      "[76]\tvalidation_0-auc:0.958731\n",
      "[77]\tvalidation_0-auc:0.959147\n",
      "[78]\tvalidation_0-auc:0.958316\n",
      "[79]\tvalidation_0-auc:0.957347\n",
      "[80]\tvalidation_0-auc:0.957624\n",
      "[81]\tvalidation_0-auc:0.957485\n",
      "[82]\tvalidation_0-auc:0.957901\n",
      "[83]\tvalidation_0-auc:0.957901\n",
      "[84]\tvalidation_0-auc:0.958039\n",
      "[85]\tvalidation_0-auc:0.958178\n",
      "[86]\tvalidation_0-auc:0.958316\n",
      "[87]\tvalidation_0-auc:0.958731\n",
      "[88]\tvalidation_0-auc:0.959008\n",
      "[89]\tvalidation_0-auc:0.959147\n",
      "[90]\tvalidation_0-auc:0.959285\n",
      "[91]\tvalidation_0-auc:0.959008\n",
      "[92]\tvalidation_0-auc:0.959008\n",
      "[93]\tvalidation_0-auc:0.958593\n",
      "[94]\tvalidation_0-auc:0.959147\n",
      "[95]\tvalidation_0-auc:0.958593\n",
      "[96]\tvalidation_0-auc:0.95887\n",
      "[97]\tvalidation_0-auc:0.95887\n",
      "[98]\tvalidation_0-auc:0.958731\n",
      "[99]\tvalidation_0-auc:0.959562\n"
     ]
    }
   ],
   "source": [
    "XGB = XGB.fit(train_X, train_y, early_stopping_rounds=20, eval_metric='auc', eval_set=[(test_x, test_y)])"
   ]
  },
  {
   "cell_type": "code",
   "execution_count": 575,
   "metadata": {},
   "outputs": [
    {
     "data": {
      "text/plain": [
       "array([0.03725437, 0.32679653, 0.08054273, 0.077772  , 0.10102271,\n",
       "       0.10974928, 0.04837396, 0.03659161, 0.07794213, 0.04785149,\n",
       "       0.05610317], dtype=float32)"
      ]
     },
     "execution_count": 575,
     "metadata": {},
     "output_type": "execute_result"
    }
   ],
   "source": [
    "XGB.feature_importances_"
   ]
  },
  {
   "cell_type": "code",
   "execution_count": 576,
   "metadata": {},
   "outputs": [
    {
     "data": {
      "text/plain": [
       "[(0.327, 'T_Bil'),\n",
       " (0.11, 'AST_GOT'),\n",
       " (0.101, 'ALT_GPT'),\n",
       " (0.081, 'D_Bil'),\n",
       " (0.078, 'ALP'),\n",
       " (0.078, 'AG_ratio'),\n",
       " (0.056, 'P_Bill'),\n",
       " (0.048, 'TP'),\n",
       " (0.048, 'I_Bill'),\n",
       " (0.037, 'Alb'),\n",
       " (0.037, 'Age')]"
      ]
     },
     "execution_count": 576,
     "metadata": {},
     "output_type": "execute_result"
    }
   ],
   "source": [
    "sorted(\n",
    "    zip(map(lambda x: round(x, 3), XGB.feature_importances_), train_X.iloc[:, :].columns),\n",
    "    reverse=True)"
   ]
  },
  {
   "cell_type": "markdown",
   "metadata": {},
   "source": [
    "## テストデータで実行"
   ]
  },
  {
   "cell_type": "code",
   "execution_count": 582,
   "metadata": {},
   "outputs": [
    {
     "data": {
      "text/plain": [
       "((170, 11), (170,))"
      ]
     },
     "execution_count": 582,
     "metadata": {},
     "output_type": "execute_result"
    }
   ],
   "source": [
    "test_x.shape, test_y.shape"
   ]
  },
  {
   "cell_type": "code",
   "execution_count": 583,
   "metadata": {},
   "outputs": [],
   "source": [
    "pred_y = XGB.predict(test_x)"
   ]
  },
  {
   "cell_type": "code",
   "execution_count": 584,
   "metadata": {},
   "outputs": [
    {
     "data": {
      "text/plain": [
       "array([[79,  8],\n",
       "       [12, 71]], dtype=int64)"
      ]
     },
     "execution_count": 584,
     "metadata": {},
     "output_type": "execute_result"
    }
   ],
   "source": [
    "confusion_matrix(test_y, pred_y)"
   ]
  },
  {
   "cell_type": "code",
   "execution_count": 585,
   "metadata": {},
   "outputs": [
    {
     "data": {
      "text/plain": [
       "0.8823529411764706"
      ]
     },
     "execution_count": 585,
     "metadata": {},
     "output_type": "execute_result"
    }
   ],
   "source": [
    "accuracy_score(test_y, pred_y)"
   ]
  },
  {
   "cell_type": "code",
   "execution_count": 586,
   "metadata": {},
   "outputs": [
    {
     "data": {
      "text/plain": [
       "(83, 79)"
      ]
     },
     "execution_count": 586,
     "metadata": {},
     "output_type": "execute_result"
    }
   ],
   "source": [
    "test_y.sum(), pred_y.sum()"
   ]
  },
  {
   "cell_type": "markdown",
   "metadata": {},
   "source": [
    "## ROC曲線"
   ]
  },
  {
   "cell_type": "code",
   "execution_count": 587,
   "metadata": {},
   "outputs": [
    {
     "data": {
      "text/plain": [
       "0.881733831879241"
      ]
     },
     "execution_count": 587,
     "metadata": {},
     "output_type": "execute_result"
    }
   ],
   "source": [
    "roc_auc_score(test_y, pred_y)"
   ]
  },
  {
   "cell_type": "code",
   "execution_count": 588,
   "metadata": {},
   "outputs": [],
   "source": [
    "fpr, tpr, thr = roc_curve(test_y, pred_y)"
   ]
  },
  {
   "cell_type": "code",
   "execution_count": 589,
   "metadata": {},
   "outputs": [],
   "source": [
    "auc = metrics.auc(fpr, tpr)"
   ]
  },
  {
   "cell_type": "code",
   "execution_count": 590,
   "metadata": {},
   "outputs": [
    {
     "data": {
      "text/plain": [
       "0.881733831879241"
      ]
     },
     "execution_count": 590,
     "metadata": {},
     "output_type": "execute_result"
    }
   ],
   "source": [
    "auc"
   ]
  },
  {
   "cell_type": "code",
   "execution_count": 591,
   "metadata": {},
   "outputs": [
    {
     "data": {
      "image/png": "[encoded data removed]",
      "text/plain": [
       "<Figure size 432x288 with 1 Axes>"
      ]
     },
     "metadata": {
      "needs_background": "light"
     },
     "output_type": "display_data"
    }
   ],
   "source": [
    "plt.plot(fpr, tpr, label=\"ROC Curve %.2f\"%auc)\n",
    "plt.legend()\n",
    "plt.xlabel('FPR')\n",
    "plt.ylabel(\"TPR\")\n",
    "plt.grid()\n",
    "plt.show()"
   ]
  },
  {
   "cell_type": "markdown",
   "metadata": {},
   "source": [
    "## 学習曲線"
   ]
  },
  {
   "cell_type": "code",
   "execution_count": 611,
   "metadata": {},
   "outputs": [],
   "source": [
    "XGB2 = XGBClassifier(lambda_l1=300, lamba_l2=300, max_depth=7, romdam_stat=4242)"
   ]
  },
  {
   "cell_type": "code",
   "execution_count": 615,
   "metadata": {},
   "outputs": [
    {
     "data": {
      "text/plain": [
       "((680, 11), (170, 11))"
      ]
     },
     "execution_count": 615,
     "metadata": {},
     "output_type": "execute_result"
    }
   ],
   "source": [
    "train_X.shape, test_x.shape"
   ]
  },
  {
   "cell_type": "code",
   "execution_count": 612,
   "metadata": {},
   "outputs": [],
   "source": [
    "train_size, train_scores, test_scores = \\\n",
    "learning_curve(estimator=XGB2, X=train_X, y=train_y, \n",
    "               train_sizes=np.linspace(0.1, 1.0, 10))"
   ]
  },
  {
   "cell_type": "code",
   "execution_count": 613,
   "metadata": {},
   "outputs": [],
   "source": [
    "train_mean = train_scores.mean(axis=1)\n",
    "train_std = train_scores.std(axis=1)\n",
    "test_mean = test_scores.mean(axis=1)\n",
    "test_std = test_scores.std(axis=1)"
   ]
  },
  {
   "cell_type": "code",
   "execution_count": 614,
   "metadata": {},
   "outputs": [
    {
     "data": {
      "text/plain": [
       "<matplotlib.collections.PolyCollection at 0x231444b7dd8>"
      ]
     },
     "execution_count": 614,
     "metadata": {},
     "output_type": "execute_result"
    },
    {
     "data": {
      "image/png": "[encoded data removed]",
      "text/plain": [
       "<Figure size 432x288 with 1 Axes>"
      ]
     },
     "metadata": {
      "needs_background": "light"
     },
     "output_type": "display_data"
    }
   ],
   "source": [
    "plt.plot(train_size, train_mean, color='blue', marker='o', markersize=5, label='training accuracy')\n",
    "plt.plot(train_size, test_mean, color='green', linestyle='--', marker='s', markersize=5, label='validation accuracy')\n",
    "\n",
    "plt.fill_between(train_size, train_mean+train_std, train_mean-train_std, alpha=0.15, color='blue')\n",
    "plt.fill_between(train_size, test_mean+test_std, test_mean-test_std, alpha=0.15, color='green')\n"
   ]
  },
  {
   "cell_type": "markdown",
   "metadata": {},
   "source": [
    "## 検証データで実行"
   ]
  },
  {
   "cell_type": "code",
   "execution_count": 502,
   "metadata": {},
   "outputs": [],
   "source": [
    "# 検証データ読み込み\n",
    "valid = pd.read_pickle('../001/test.pk1')"
   ]
  },
  {
   "cell_type": "code",
   "execution_count": 503,
   "metadata": {},
   "outputs": [
    {
     "data": {
      "text/plain": [
       "(350, 10)"
      ]
     },
     "execution_count": 503,
     "metadata": {},
     "output_type": "execute_result"
    }
   ],
   "source": [
    "valid.shape"
   ]
  },
  {
   "cell_type": "code",
   "execution_count": 504,
   "metadata": {},
   "outputs": [
    {
     "data": {
      "text/plain": [
       "pandas.core.frame.DataFrame"
      ]
     },
     "execution_count": 504,
     "metadata": {},
     "output_type": "execute_result"
    }
   ],
   "source": [
    "type(valid)"
   ]
  },
  {
   "cell_type": "code",
   "execution_count": 505,
   "metadata": {},
   "outputs": [],
   "source": [
    "# valid_X = valid.iloc[:, 1:]\n",
    "valid_X = valid.copy()"
   ]
  },
  {
   "cell_type": "code",
   "execution_count": 506,
   "metadata": {},
   "outputs": [
    {
     "data": {
      "text/html": [
       "<div>\n",
       "<style scoped>\n",
       "    .dataframe tbody tr th:only-of-type {\n",
       "        vertical-align: middle;\n",
       "    }\n",
       "\n",
       "    .dataframe tbody tr th {\n",
       "        vertical-align: top;\n",
       "    }\n",
       "\n",
       "    .dataframe thead th {\n",
       "        text-align: right;\n",
       "    }\n",
       "</style>\n",
       "<table border=\"1\" class=\"dataframe\">\n",
       "  <thead>\n",
       "    <tr style=\"text-align: right;\">\n",
       "      <th></th>\n",
       "      <th>Age</th>\n",
       "      <th>T_Bil</th>\n",
       "      <th>D_Bil</th>\n",
       "      <th>ALP</th>\n",
       "      <th>ALT_GPT</th>\n",
       "      <th>AST_GOT</th>\n",
       "      <th>TP</th>\n",
       "      <th>Alb</th>\n",
       "      <th>AG_ratio</th>\n",
       "      <th>Gender_Male</th>\n",
       "    </tr>\n",
       "  </thead>\n",
       "  <tbody>\n",
       "    <tr>\n",
       "      <th>0</th>\n",
       "      <td>25</td>\n",
       "      <td>0.801758</td>\n",
       "      <td>0.186768</td>\n",
       "      <td>214.448685</td>\n",
       "      <td>15.260516</td>\n",
       "      <td>19.496649</td>\n",
       "      <td>6.816406</td>\n",
       "      <td>3.601562</td>\n",
       "      <td>1.288086</td>\n",
       "      <td>1</td>\n",
       "    </tr>\n",
       "    <tr>\n",
       "      <th>1</th>\n",
       "      <td>26</td>\n",
       "      <td>0.834961</td>\n",
       "      <td>0.116455</td>\n",
       "      <td>234.136810</td>\n",
       "      <td>10.509159</td>\n",
       "      <td>16.733311</td>\n",
       "      <td>6.796875</td>\n",
       "      <td>3.111328</td>\n",
       "      <td>1.030273</td>\n",
       "      <td>0</td>\n",
       "    </tr>\n",
       "    <tr>\n",
       "      <th>2</th>\n",
       "      <td>64</td>\n",
       "      <td>0.791992</td>\n",
       "      <td>0.197998</td>\n",
       "      <td>216.039902</td>\n",
       "      <td>14.578304</td>\n",
       "      <td>20.695866</td>\n",
       "      <td>7.523438</td>\n",
       "      <td>3.626953</td>\n",
       "      <td>1.278320</td>\n",
       "      <td>1</td>\n",
       "    </tr>\n",
       "    <tr>\n",
       "      <th>3</th>\n",
       "      <td>65</td>\n",
       "      <td>0.833984</td>\n",
       "      <td>0.175781</td>\n",
       "      <td>200.901123</td>\n",
       "      <td>12.820356</td>\n",
       "      <td>20.102516</td>\n",
       "      <td>6.828125</td>\n",
       "      <td>3.626953</td>\n",
       "      <td>1.275391</td>\n",
       "      <td>1</td>\n",
       "    </tr>\n",
       "    <tr>\n",
       "      <th>4</th>\n",
       "      <td>34</td>\n",
       "      <td>0.690430</td>\n",
       "      <td>0.135498</td>\n",
       "      <td>208.705841</td>\n",
       "      <td>20.279018</td>\n",
       "      <td>25.096685</td>\n",
       "      <td>8.664062</td>\n",
       "      <td>4.171875</td>\n",
       "      <td>1.280273</td>\n",
       "      <td>0</td>\n",
       "    </tr>\n",
       "  </tbody>\n",
       "</table>\n",
       "</div>"
      ],
      "text/plain": [
       "   Age     T_Bil     D_Bil         ALP    ALT_GPT    AST_GOT        TP  \\\n",
       "0   25  0.801758  0.186768  214.448685  15.260516  19.496649  6.816406   \n",
       "1   26  0.834961  0.116455  234.136810  10.509159  16.733311  6.796875   \n",
       "2   64  0.791992  0.197998  216.039902  14.578304  20.695866  7.523438   \n",
       "3   65  0.833984  0.175781  200.901123  12.820356  20.102516  6.828125   \n",
       "4   34  0.690430  0.135498  208.705841  20.279018  25.096685  8.664062   \n",
       "\n",
       "        Alb  AG_ratio  Gender_Male  \n",
       "0  3.601562  1.288086            1  \n",
       "1  3.111328  1.030273            0  \n",
       "2  3.626953  1.278320            1  \n",
       "3  3.626953  1.275391            1  \n",
       "4  4.171875  1.280273            0  "
      ]
     },
     "execution_count": 506,
     "metadata": {},
     "output_type": "execute_result"
    }
   ],
   "source": [
    "valid_X.head()"
   ]
  },
  {
   "cell_type": "code",
   "execution_count": 507,
   "metadata": {},
   "outputs": [],
   "source": [
    "# 年齢、性別は削除\n",
    "valid_X.drop(['Gender_Male'], axis=1, inplace=True)"
   ]
  },
  {
   "cell_type": "code",
   "execution_count": 508,
   "metadata": {},
   "outputs": [
    {
     "data": {
      "text/plain": [
       "(350, 9)"
      ]
     },
     "execution_count": 508,
     "metadata": {},
     "output_type": "execute_result"
    }
   ],
   "source": [
    "valid_X.shape"
   ]
  },
  {
   "cell_type": "code",
   "execution_count": 509,
   "metadata": {},
   "outputs": [],
   "source": [
    "# I_Bill間接ビルビリンを追加\n",
    "valid_X['I_Bill'] = valid_X['T_Bil'] - valid_X['D_Bil']\n",
    "# 直接ビルビリンを追加\n",
    "valid_X['P_Bill'] = valid_X['D_Bil'] / valid_X['T_Bil']\n"
   ]
  },
  {
   "cell_type": "code",
   "execution_count": 510,
   "metadata": {},
   "outputs": [
    {
     "data": {
      "text/plain": [
       "((350, 11), (680, 11))"
      ]
     },
     "execution_count": 510,
     "metadata": {},
     "output_type": "execute_result"
    }
   ],
   "source": [
    "valid_X.shape, train_X.shape"
   ]
  },
  {
   "cell_type": "code",
   "execution_count": 511,
   "metadata": {},
   "outputs": [
    {
     "data": {
      "text/html": [
       "<div>\n",
       "<style scoped>\n",
       "    .dataframe tbody tr th:only-of-type {\n",
       "        vertical-align: middle;\n",
       "    }\n",
       "\n",
       "    .dataframe tbody tr th {\n",
       "        vertical-align: top;\n",
       "    }\n",
       "\n",
       "    .dataframe thead th {\n",
       "        text-align: right;\n",
       "    }\n",
       "</style>\n",
       "<table border=\"1\" class=\"dataframe\">\n",
       "  <thead>\n",
       "    <tr style=\"text-align: right;\">\n",
       "      <th></th>\n",
       "      <th>Age</th>\n",
       "      <th>T_Bil</th>\n",
       "      <th>D_Bil</th>\n",
       "      <th>ALP</th>\n",
       "      <th>ALT_GPT</th>\n",
       "      <th>AST_GOT</th>\n",
       "      <th>TP</th>\n",
       "      <th>Alb</th>\n",
       "      <th>AG_ratio</th>\n",
       "      <th>I_Bill</th>\n",
       "      <th>P_Bill</th>\n",
       "    </tr>\n",
       "  </thead>\n",
       "  <tbody>\n",
       "    <tr>\n",
       "      <th>0</th>\n",
       "      <td>25</td>\n",
       "      <td>0.801758</td>\n",
       "      <td>0.186768</td>\n",
       "      <td>214.448685</td>\n",
       "      <td>15.260516</td>\n",
       "      <td>19.496649</td>\n",
       "      <td>6.816406</td>\n",
       "      <td>3.601562</td>\n",
       "      <td>1.288086</td>\n",
       "      <td>0.615234</td>\n",
       "      <td>0.232910</td>\n",
       "    </tr>\n",
       "    <tr>\n",
       "      <th>1</th>\n",
       "      <td>26</td>\n",
       "      <td>0.834961</td>\n",
       "      <td>0.116455</td>\n",
       "      <td>234.136810</td>\n",
       "      <td>10.509159</td>\n",
       "      <td>16.733311</td>\n",
       "      <td>6.796875</td>\n",
       "      <td>3.111328</td>\n",
       "      <td>1.030273</td>\n",
       "      <td>0.718750</td>\n",
       "      <td>0.139526</td>\n",
       "    </tr>\n",
       "    <tr>\n",
       "      <th>2</th>\n",
       "      <td>64</td>\n",
       "      <td>0.791992</td>\n",
       "      <td>0.197998</td>\n",
       "      <td>216.039902</td>\n",
       "      <td>14.578304</td>\n",
       "      <td>20.695866</td>\n",
       "      <td>7.523438</td>\n",
       "      <td>3.626953</td>\n",
       "      <td>1.278320</td>\n",
       "      <td>0.593750</td>\n",
       "      <td>0.250000</td>\n",
       "    </tr>\n",
       "    <tr>\n",
       "      <th>3</th>\n",
       "      <td>65</td>\n",
       "      <td>0.833984</td>\n",
       "      <td>0.175781</td>\n",
       "      <td>200.901123</td>\n",
       "      <td>12.820356</td>\n",
       "      <td>20.102516</td>\n",
       "      <td>6.828125</td>\n",
       "      <td>3.626953</td>\n",
       "      <td>1.275391</td>\n",
       "      <td>0.658203</td>\n",
       "      <td>0.210815</td>\n",
       "    </tr>\n",
       "    <tr>\n",
       "      <th>4</th>\n",
       "      <td>34</td>\n",
       "      <td>0.690430</td>\n",
       "      <td>0.135498</td>\n",
       "      <td>208.705841</td>\n",
       "      <td>20.279018</td>\n",
       "      <td>25.096685</td>\n",
       "      <td>8.664062</td>\n",
       "      <td>4.171875</td>\n",
       "      <td>1.280273</td>\n",
       "      <td>0.554688</td>\n",
       "      <td>0.196289</td>\n",
       "    </tr>\n",
       "  </tbody>\n",
       "</table>\n",
       "</div>"
      ],
      "text/plain": [
       "   Age     T_Bil     D_Bil         ALP    ALT_GPT    AST_GOT        TP  \\\n",
       "0   25  0.801758  0.186768  214.448685  15.260516  19.496649  6.816406   \n",
       "1   26  0.834961  0.116455  234.136810  10.509159  16.733311  6.796875   \n",
       "2   64  0.791992  0.197998  216.039902  14.578304  20.695866  7.523438   \n",
       "3   65  0.833984  0.175781  200.901123  12.820356  20.102516  6.828125   \n",
       "4   34  0.690430  0.135498  208.705841  20.279018  25.096685  8.664062   \n",
       "\n",
       "        Alb  AG_ratio    I_Bill    P_Bill  \n",
       "0  3.601562  1.288086  0.615234  0.232910  \n",
       "1  3.111328  1.030273  0.718750  0.139526  \n",
       "2  3.626953  1.278320  0.593750  0.250000  \n",
       "3  3.626953  1.275391  0.658203  0.210815  \n",
       "4  4.171875  1.280273  0.554688  0.196289  "
      ]
     },
     "execution_count": 511,
     "metadata": {},
     "output_type": "execute_result"
    }
   ],
   "source": [
    "valid_X.head()"
   ]
  },
  {
   "cell_type": "code",
   "execution_count": 512,
   "metadata": {},
   "outputs": [],
   "source": [
    "pred_valid_y = XGB.predict(valid_X)"
   ]
  },
  {
   "cell_type": "code",
   "execution_count": 513,
   "metadata": {},
   "outputs": [
    {
     "data": {
      "text/plain": [
       "(350,)"
      ]
     },
     "execution_count": 513,
     "metadata": {},
     "output_type": "execute_result"
    }
   ],
   "source": [
    "pred_valid_y.shape"
   ]
  },
  {
   "cell_type": "code",
   "execution_count": 514,
   "metadata": {},
   "outputs": [],
   "source": [
    "# type(valid_pass), type(pred_valid_y)"
   ]
  },
  {
   "cell_type": "code",
   "execution_count": 515,
   "metadata": {},
   "outputs": [],
   "source": [
    "result_df = pd.DataFrame(pred_valid_y)"
   ]
  },
  {
   "cell_type": "code",
   "execution_count": 516,
   "metadata": {},
   "outputs": [],
   "source": [
    "result_df.to_csv(\"./XGB_8.csv\", header=False)"
   ]
  },
  {
   "cell_type": "code",
   "execution_count": 517,
   "metadata": {},
   "outputs": [
    {
     "data": {
      "text/plain": [
       "139"
      ]
     },
     "execution_count": 517,
     "metadata": {},
     "output_type": "execute_result"
    }
   ],
   "source": [
    "pred_valid_y.sum()"
   ]
  },
  {
   "cell_type": "code",
   "execution_count": null,
   "metadata": {},
   "outputs": [],
   "source": []
  }
 ],
 "metadata": {
  "kernelspec": {
   "display_name": "Python 3",
   "language": "python",
   "name": "python3"
  },
  "language_info": {
   "codemirror_mode": {
    "name": "ipython",
    "version": 3
   },
   "file_extension": ".py",
   "mimetype": "text/x-python",
   "name": "python",
   "nbconvert_exporter": "python",
   "pygments_lexer": "ipython3",
   "version": "3.6.10"
  }
 },
 "nbformat": 4,
 "nbformat_minor": 4
}
