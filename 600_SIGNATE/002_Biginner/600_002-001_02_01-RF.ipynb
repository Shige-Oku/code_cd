{
 "cells": [
  {
   "cell_type": "markdown",
   "metadata": {},
   "source": [
    "## ランダムフォレスト　デフォルト"
   ]
  },
  {
   "cell_type": "code",
   "execution_count": 20,
   "metadata": {},
   "outputs": [],
   "source": [
    "import numpy as np\n",
    "import pandas as pd\n",
    "\n",
    "from sklearn.ensemble import RandomForestClassifier\n",
    "from sklearn.metrics import mean_squared_error, confusion_matrix, accuracy_score\n",
    "from sklearn.model_selection import train_test_split\n",
    "from sklearn import tree\n"
   ]
  },
  {
   "cell_type": "code",
   "execution_count": 2,
   "metadata": {},
   "outputs": [],
   "source": [
    "# pickle ファイルから読み込み\n",
    "train_pkl = pd.read_pickle('./train.pk1')"
   ]
  },
  {
   "cell_type": "code",
   "execution_count": 3,
   "metadata": {},
   "outputs": [
    {
     "data": {
      "text/plain": [
       "(850, 11)"
      ]
     },
     "execution_count": 3,
     "metadata": {},
     "output_type": "execute_result"
    }
   ],
   "source": [
    "train_pkl.shape"
   ]
  },
  {
   "cell_type": "code",
   "execution_count": 4,
   "metadata": {},
   "outputs": [
    {
     "data": {
      "text/html": [
       "<div>\n",
       "<style scoped>\n",
       "    .dataframe tbody tr th:only-of-type {\n",
       "        vertical-align: middle;\n",
       "    }\n",
       "\n",
       "    .dataframe tbody tr th {\n",
       "        vertical-align: top;\n",
       "    }\n",
       "\n",
       "    .dataframe thead th {\n",
       "        text-align: right;\n",
       "    }\n",
       "</style>\n",
       "<table border=\"1\" class=\"dataframe\">\n",
       "  <thead>\n",
       "    <tr style=\"text-align: right;\">\n",
       "      <th></th>\n",
       "      <th>Age</th>\n",
       "      <th>T_Bil</th>\n",
       "      <th>D_Bil</th>\n",
       "      <th>ALP</th>\n",
       "      <th>ALT_GPT</th>\n",
       "      <th>AST_GOT</th>\n",
       "      <th>TP</th>\n",
       "      <th>Alb</th>\n",
       "      <th>AG_ratio</th>\n",
       "      <th>Gender_Male</th>\n",
       "      <th>disease</th>\n",
       "    </tr>\n",
       "  </thead>\n",
       "  <tbody>\n",
       "    <tr>\n",
       "      <th>count</th>\n",
       "      <td>850.000000</td>\n",
       "      <td>850.000000</td>\n",
       "      <td>850.000000</td>\n",
       "      <td>850.000000</td>\n",
       "      <td>850.000000</td>\n",
       "      <td>850.000000</td>\n",
       "      <td>850.000000</td>\n",
       "      <td>850.000000</td>\n",
       "      <td>850.000000</td>\n",
       "      <td>850.000000</td>\n",
       "      <td>850.000000</td>\n",
       "    </tr>\n",
       "    <tr>\n",
       "      <th>mean</th>\n",
       "      <td>46.610588</td>\n",
       "      <td>1.607422</td>\n",
       "      <td>0.606445</td>\n",
       "      <td>272.211334</td>\n",
       "      <td>41.978474</td>\n",
       "      <td>61.018120</td>\n",
       "      <td>7.031250</td>\n",
       "      <td>3.517578</td>\n",
       "      <td>1.144531</td>\n",
       "      <td>0.825882</td>\n",
       "      <td>0.444706</td>\n",
       "    </tr>\n",
       "    <tr>\n",
       "      <th>std</th>\n",
       "      <td>16.453672</td>\n",
       "      <td>2.443359</td>\n",
       "      <td>1.568359</td>\n",
       "      <td>200.348511</td>\n",
       "      <td>145.927368</td>\n",
       "      <td>110.125389</td>\n",
       "      <td>0.840820</td>\n",
       "      <td>0.560059</td>\n",
       "      <td>0.227295</td>\n",
       "      <td>0.379434</td>\n",
       "      <td>0.497226</td>\n",
       "    </tr>\n",
       "    <tr>\n",
       "      <th>min</th>\n",
       "      <td>10.000000</td>\n",
       "      <td>0.585938</td>\n",
       "      <td>0.034851</td>\n",
       "      <td>163.261841</td>\n",
       "      <td>3.924518</td>\n",
       "      <td>11.283497</td>\n",
       "      <td>4.859375</td>\n",
       "      <td>2.181641</td>\n",
       "      <td>0.626953</td>\n",
       "      <td>0.000000</td>\n",
       "      <td>0.000000</td>\n",
       "    </tr>\n",
       "    <tr>\n",
       "      <th>25%</th>\n",
       "      <td>32.000000</td>\n",
       "      <td>0.781372</td>\n",
       "      <td>0.144928</td>\n",
       "      <td>213.991409</td>\n",
       "      <td>13.644659</td>\n",
       "      <td>21.239157</td>\n",
       "      <td>6.730469</td>\n",
       "      <td>3.138672</td>\n",
       "      <td>1.004883</td>\n",
       "      <td>1.000000</td>\n",
       "      <td>0.000000</td>\n",
       "    </tr>\n",
       "    <tr>\n",
       "      <th>50%</th>\n",
       "      <td>48.000000</td>\n",
       "      <td>0.835693</td>\n",
       "      <td>0.194092</td>\n",
       "      <td>220.092506</td>\n",
       "      <td>16.638000</td>\n",
       "      <td>27.056026</td>\n",
       "      <td>6.914062</td>\n",
       "      <td>3.621094</td>\n",
       "      <td>1.205078</td>\n",
       "      <td>1.000000</td>\n",
       "      <td>0.000000</td>\n",
       "    </tr>\n",
       "    <tr>\n",
       "      <th>75%</th>\n",
       "      <td>62.000000</td>\n",
       "      <td>1.197021</td>\n",
       "      <td>0.335388</td>\n",
       "      <td>229.455933</td>\n",
       "      <td>23.056081</td>\n",
       "      <td>56.461569</td>\n",
       "      <td>7.535156</td>\n",
       "      <td>3.712891</td>\n",
       "      <td>1.288086</td>\n",
       "      <td>1.000000</td>\n",
       "      <td>1.000000</td>\n",
       "    </tr>\n",
       "    <tr>\n",
       "      <th>max</th>\n",
       "      <td>78.000000</td>\n",
       "      <td>23.015625</td>\n",
       "      <td>17.687500</td>\n",
       "      <td>2108.483643</td>\n",
       "      <td>1423.186523</td>\n",
       "      <td>814.439392</td>\n",
       "      <td>8.742188</td>\n",
       "      <td>5.015625</td>\n",
       "      <td>1.821289</td>\n",
       "      <td>1.000000</td>\n",
       "      <td>1.000000</td>\n",
       "    </tr>\n",
       "  </tbody>\n",
       "</table>\n",
       "</div>"
      ],
      "text/plain": [
       "              Age       T_Bil       D_Bil          ALP      ALT_GPT  \\\n",
       "count  850.000000  850.000000  850.000000   850.000000   850.000000   \n",
       "mean    46.610588    1.607422    0.606445   272.211334    41.978474   \n",
       "std     16.453672    2.443359    1.568359   200.348511   145.927368   \n",
       "min     10.000000    0.585938    0.034851   163.261841     3.924518   \n",
       "25%     32.000000    0.781372    0.144928   213.991409    13.644659   \n",
       "50%     48.000000    0.835693    0.194092   220.092506    16.638000   \n",
       "75%     62.000000    1.197021    0.335388   229.455933    23.056081   \n",
       "max     78.000000   23.015625   17.687500  2108.483643  1423.186523   \n",
       "\n",
       "          AST_GOT          TP         Alb    AG_ratio  Gender_Male     disease  \n",
       "count  850.000000  850.000000  850.000000  850.000000   850.000000  850.000000  \n",
       "mean    61.018120    7.031250    3.517578    1.144531     0.825882    0.444706  \n",
       "std    110.125389    0.840820    0.560059    0.227295     0.379434    0.497226  \n",
       "min     11.283497    4.859375    2.181641    0.626953     0.000000    0.000000  \n",
       "25%     21.239157    6.730469    3.138672    1.004883     1.000000    0.000000  \n",
       "50%     27.056026    6.914062    3.621094    1.205078     1.000000    0.000000  \n",
       "75%     56.461569    7.535156    3.712891    1.288086     1.000000    1.000000  \n",
       "max    814.439392    8.742188    5.015625    1.821289     1.000000    1.000000  "
      ]
     },
     "execution_count": 4,
     "metadata": {},
     "output_type": "execute_result"
    }
   ],
   "source": [
    "train_pkl.describe()"
   ]
  },
  {
   "cell_type": "markdown",
   "metadata": {},
   "source": [
    "## 訓練データとテストデータに分割"
   ]
  },
  {
   "cell_type": "code",
   "execution_count": 5,
   "metadata": {},
   "outputs": [],
   "source": [
    "# 訓練とテストデータに分割\n",
    "train, test = train_test_split(train_pkl, test_size=0.2, random_state=42)"
   ]
  },
  {
   "cell_type": "code",
   "execution_count": 6,
   "metadata": {},
   "outputs": [],
   "source": [
    "# ターゲットと特徴量の分割\n",
    "train_X = train.iloc[:, :-1].values\n",
    "train_y = train.disease.values"
   ]
  },
  {
   "cell_type": "markdown",
   "metadata": {},
   "source": [
    "## 訓練データで訓練"
   ]
  },
  {
   "cell_type": "code",
   "execution_count": 21,
   "metadata": {},
   "outputs": [],
   "source": [
    "RF = RandomForestClassifier(random_state=42)"
   ]
  },
  {
   "cell_type": "code",
   "execution_count": 22,
   "metadata": {},
   "outputs": [],
   "source": [
    "RF = RF.fit(train_X, train_y)"
   ]
  },
  {
   "cell_type": "code",
   "execution_count": 23,
   "metadata": {},
   "outputs": [
    {
     "data": {
      "text/plain": [
       "array([0.03471026, 0.20540482, 0.11689485, 0.10670835, 0.16172461,\n",
       "       0.16754528, 0.05551939, 0.05348461, 0.09044863, 0.0075592 ])"
      ]
     },
     "execution_count": 23,
     "metadata": {},
     "output_type": "execute_result"
    }
   ],
   "source": [
    "RF.feature_importances_"
   ]
  },
  {
   "cell_type": "code",
   "execution_count": 24,
   "metadata": {},
   "outputs": [
    {
     "data": {
      "text/plain": [
       "[(0.205, 'T_Bil'),\n",
       " (0.168, 'AST_GOT'),\n",
       " (0.162, 'ALT_GPT'),\n",
       " (0.117, 'D_Bil'),\n",
       " (0.107, 'ALP'),\n",
       " (0.09, 'AG_ratio'),\n",
       " (0.056, 'TP'),\n",
       " (0.053, 'Alb'),\n",
       " (0.035, 'Age'),\n",
       " (0.008, 'Gender_Male')]"
      ]
     },
     "execution_count": 24,
     "metadata": {},
     "output_type": "execute_result"
    }
   ],
   "source": [
    "sorted(\n",
    "    zip(map(lambda x: round(x, 3), RF.feature_importances_), train.iloc[:, :].columns),\n",
    "    reverse=True)"
   ]
  },
  {
   "cell_type": "code",
   "execution_count": 25,
   "metadata": {},
   "outputs": [],
   "source": [
    "# 訓練済みの決定木を視覚化\n",
    "# dot_data = tree.export_graphviz(RF, out_file=None,\n",
    "#                                feature_names=train.iloc[:, 1:].columns,\n",
    "#                                class_names=train.Survived.name,\n",
    "#                                rounded=True,\n",
    "#                                filled=True,\n",
    "#                                special_characters=True)"
   ]
  },
  {
   "cell_type": "markdown",
   "metadata": {},
   "source": [
    "## テストデータで実行"
   ]
  },
  {
   "cell_type": "code",
   "execution_count": 26,
   "metadata": {},
   "outputs": [],
   "source": [
    "# ターゲットと特徴量の分割\n",
    "test_x = test.iloc[:, :-1].values\n",
    "test_y = test.disease.values"
   ]
  },
  {
   "cell_type": "code",
   "execution_count": 27,
   "metadata": {},
   "outputs": [
    {
     "data": {
      "text/plain": [
       "((170, 10), (170,))"
      ]
     },
     "execution_count": 27,
     "metadata": {},
     "output_type": "execute_result"
    }
   ],
   "source": [
    "test_x.shape, test_y.shape"
   ]
  },
  {
   "cell_type": "code",
   "execution_count": 28,
   "metadata": {},
   "outputs": [],
   "source": [
    "pred_y = RF.predict(test_x)"
   ]
  },
  {
   "cell_type": "code",
   "execution_count": 29,
   "metadata": {},
   "outputs": [
    {
     "data": {
      "text/plain": [
       "(170,)"
      ]
     },
     "execution_count": 29,
     "metadata": {},
     "output_type": "execute_result"
    }
   ],
   "source": [
    "pred_y.shape"
   ]
  },
  {
   "cell_type": "code",
   "execution_count": 30,
   "metadata": {},
   "outputs": [
    {
     "data": {
      "text/plain": [
       "(array([1, 0, 0, 0, 1, 1, 1, 0, 0, 1], dtype=int64),\n",
       " array([0, 0, 0, 0, 1, 1, 1, 0, 0, 1], dtype=int64))"
      ]
     },
     "execution_count": 30,
     "metadata": {},
     "output_type": "execute_result"
    }
   ],
   "source": [
    "test_y[:10], pred_y[:10]"
   ]
  },
  {
   "cell_type": "code",
   "execution_count": 31,
   "metadata": {},
   "outputs": [
    {
     "data": {
      "text/plain": [
       "array([[89,  4],\n",
       "       [13, 64]], dtype=int64)"
      ]
     },
     "execution_count": 31,
     "metadata": {},
     "output_type": "execute_result"
    }
   ],
   "source": [
    "confusion_matrix(test_y, pred_y)"
   ]
  },
  {
   "cell_type": "code",
   "execution_count": 33,
   "metadata": {},
   "outputs": [
    {
     "data": {
      "text/plain": [
       "0.9"
      ]
     },
     "execution_count": 33,
     "metadata": {},
     "output_type": "execute_result"
    }
   ],
   "source": [
    "accuracy_score(test_y, pred_y)"
   ]
  },
  {
   "cell_type": "markdown",
   "metadata": {},
   "source": [
    "## 検証データで実行"
   ]
  },
  {
   "cell_type": "code",
   "execution_count": 34,
   "metadata": {},
   "outputs": [],
   "source": [
    "# 検証データ読み込み\n",
    "valid = pd.read_pickle('./test.pk1')"
   ]
  },
  {
   "cell_type": "code",
   "execution_count": 35,
   "metadata": {},
   "outputs": [
    {
     "data": {
      "text/plain": [
       "(350, 10)"
      ]
     },
     "execution_count": 35,
     "metadata": {},
     "output_type": "execute_result"
    }
   ],
   "source": [
    "valid.shape"
   ]
  },
  {
   "cell_type": "code",
   "execution_count": 22,
   "metadata": {},
   "outputs": [],
   "source": [
    "# ID の保存\n",
    "# valid_pass = valid.id.values"
   ]
  },
  {
   "cell_type": "code",
   "execution_count": 36,
   "metadata": {},
   "outputs": [],
   "source": [
    "valid_X = valid.copy()"
   ]
  },
  {
   "cell_type": "code",
   "execution_count": 37,
   "metadata": {},
   "outputs": [
    {
     "data": {
      "text/html": [
       "<div>\n",
       "<style scoped>\n",
       "    .dataframe tbody tr th:only-of-type {\n",
       "        vertical-align: middle;\n",
       "    }\n",
       "\n",
       "    .dataframe tbody tr th {\n",
       "        vertical-align: top;\n",
       "    }\n",
       "\n",
       "    .dataframe thead th {\n",
       "        text-align: right;\n",
       "    }\n",
       "</style>\n",
       "<table border=\"1\" class=\"dataframe\">\n",
       "  <thead>\n",
       "    <tr style=\"text-align: right;\">\n",
       "      <th></th>\n",
       "      <th>Age</th>\n",
       "      <th>T_Bil</th>\n",
       "      <th>D_Bil</th>\n",
       "      <th>ALP</th>\n",
       "      <th>ALT_GPT</th>\n",
       "      <th>AST_GOT</th>\n",
       "      <th>TP</th>\n",
       "      <th>Alb</th>\n",
       "      <th>AG_ratio</th>\n",
       "      <th>Gender_Male</th>\n",
       "    </tr>\n",
       "  </thead>\n",
       "  <tbody>\n",
       "    <tr>\n",
       "      <th>count</th>\n",
       "      <td>350.000000</td>\n",
       "      <td>350.000000</td>\n",
       "      <td>350.000000</td>\n",
       "      <td>350.000000</td>\n",
       "      <td>350.000000</td>\n",
       "      <td>350.000000</td>\n",
       "      <td>350.000000</td>\n",
       "      <td>350.000000</td>\n",
       "      <td>350.000000</td>\n",
       "      <td>350.000000</td>\n",
       "    </tr>\n",
       "    <tr>\n",
       "      <th>mean</th>\n",
       "      <td>46.702857</td>\n",
       "      <td>1.631836</td>\n",
       "      <td>0.565918</td>\n",
       "      <td>282.234070</td>\n",
       "      <td>32.363522</td>\n",
       "      <td>61.545425</td>\n",
       "      <td>7.089844</td>\n",
       "      <td>3.562500</td>\n",
       "      <td>1.154297</td>\n",
       "      <td>0.814286</td>\n",
       "    </tr>\n",
       "    <tr>\n",
       "      <th>std</th>\n",
       "      <td>16.166318</td>\n",
       "      <td>2.857422</td>\n",
       "      <td>1.747070</td>\n",
       "      <td>201.307434</td>\n",
       "      <td>83.888397</td>\n",
       "      <td>114.916496</td>\n",
       "      <td>0.877930</td>\n",
       "      <td>0.607422</td>\n",
       "      <td>0.248047</td>\n",
       "      <td>0.389433</td>\n",
       "    </tr>\n",
       "    <tr>\n",
       "      <th>min</th>\n",
       "      <td>6.000000</td>\n",
       "      <td>0.609863</td>\n",
       "      <td>0.053864</td>\n",
       "      <td>175.747528</td>\n",
       "      <td>7.862773</td>\n",
       "      <td>11.278741</td>\n",
       "      <td>4.968750</td>\n",
       "      <td>2.296875</td>\n",
       "      <td>0.668945</td>\n",
       "      <td>0.000000</td>\n",
       "    </tr>\n",
       "    <tr>\n",
       "      <th>25%</th>\n",
       "      <td>32.000000</td>\n",
       "      <td>0.787109</td>\n",
       "      <td>0.147705</td>\n",
       "      <td>214.211426</td>\n",
       "      <td>13.551174</td>\n",
       "      <td>20.842910</td>\n",
       "      <td>6.724609</td>\n",
       "      <td>3.127930</td>\n",
       "      <td>1.008789</td>\n",
       "      <td>1.000000</td>\n",
       "    </tr>\n",
       "    <tr>\n",
       "      <th>50%</th>\n",
       "      <td>48.000000</td>\n",
       "      <td>0.844971</td>\n",
       "      <td>0.193848</td>\n",
       "      <td>220.738617</td>\n",
       "      <td>16.449139</td>\n",
       "      <td>25.971273</td>\n",
       "      <td>6.931641</td>\n",
       "      <td>3.621094</td>\n",
       "      <td>1.216797</td>\n",
       "      <td>1.000000</td>\n",
       "    </tr>\n",
       "    <tr>\n",
       "      <th>75%</th>\n",
       "      <td>61.000000</td>\n",
       "      <td>0.973877</td>\n",
       "      <td>0.236450</td>\n",
       "      <td>231.839767</td>\n",
       "      <td>22.760056</td>\n",
       "      <td>52.746082</td>\n",
       "      <td>7.553711</td>\n",
       "      <td>3.739258</td>\n",
       "      <td>1.288086</td>\n",
       "      <td>1.000000</td>\n",
       "    </tr>\n",
       "    <tr>\n",
       "      <th>max</th>\n",
       "      <td>75.000000</td>\n",
       "      <td>27.046875</td>\n",
       "      <td>17.703125</td>\n",
       "      <td>2101.145752</td>\n",
       "      <td>860.919067</td>\n",
       "      <td>705.777161</td>\n",
       "      <td>8.750000</td>\n",
       "      <td>5.007812</td>\n",
       "      <td>1.804688</td>\n",
       "      <td>1.000000</td>\n",
       "    </tr>\n",
       "  </tbody>\n",
       "</table>\n",
       "</div>"
      ],
      "text/plain": [
       "              Age       T_Bil       D_Bil          ALP     ALT_GPT  \\\n",
       "count  350.000000  350.000000  350.000000   350.000000  350.000000   \n",
       "mean    46.702857    1.631836    0.565918   282.234070   32.363522   \n",
       "std     16.166318    2.857422    1.747070   201.307434   83.888397   \n",
       "min      6.000000    0.609863    0.053864   175.747528    7.862773   \n",
       "25%     32.000000    0.787109    0.147705   214.211426   13.551174   \n",
       "50%     48.000000    0.844971    0.193848   220.738617   16.449139   \n",
       "75%     61.000000    0.973877    0.236450   231.839767   22.760056   \n",
       "max     75.000000   27.046875   17.703125  2101.145752  860.919067   \n",
       "\n",
       "          AST_GOT          TP         Alb    AG_ratio  Gender_Male  \n",
       "count  350.000000  350.000000  350.000000  350.000000   350.000000  \n",
       "mean    61.545425    7.089844    3.562500    1.154297     0.814286  \n",
       "std    114.916496    0.877930    0.607422    0.248047     0.389433  \n",
       "min     11.278741    4.968750    2.296875    0.668945     0.000000  \n",
       "25%     20.842910    6.724609    3.127930    1.008789     1.000000  \n",
       "50%     25.971273    6.931641    3.621094    1.216797     1.000000  \n",
       "75%     52.746082    7.553711    3.739258    1.288086     1.000000  \n",
       "max    705.777161    8.750000    5.007812    1.804688     1.000000  "
      ]
     },
     "execution_count": 37,
     "metadata": {},
     "output_type": "execute_result"
    }
   ],
   "source": [
    "valid_X.describe()"
   ]
  },
  {
   "cell_type": "code",
   "execution_count": 38,
   "metadata": {},
   "outputs": [
    {
     "data": {
      "text/plain": [
       "((350, 10), (680, 10))"
      ]
     },
     "execution_count": 38,
     "metadata": {},
     "output_type": "execute_result"
    }
   ],
   "source": [
    "valid_X.shape, train_X.shape"
   ]
  },
  {
   "cell_type": "code",
   "execution_count": 39,
   "metadata": {},
   "outputs": [],
   "source": [
    "pred_valid_y = RF.predict(valid_X)"
   ]
  },
  {
   "cell_type": "code",
   "execution_count": 40,
   "metadata": {},
   "outputs": [
    {
     "data": {
      "text/plain": [
       "(350,)"
      ]
     },
     "execution_count": 40,
     "metadata": {},
     "output_type": "execute_result"
    }
   ],
   "source": [
    "pred_valid_y.shape"
   ]
  },
  {
   "cell_type": "code",
   "execution_count": 42,
   "metadata": {},
   "outputs": [],
   "source": [
    "result_df = pd.DataFrame(pred_valid_y)"
   ]
  },
  {
   "cell_type": "code",
   "execution_count": 43,
   "metadata": {},
   "outputs": [
    {
     "data": {
      "text/html": [
       "<div>\n",
       "<style scoped>\n",
       "    .dataframe tbody tr th:only-of-type {\n",
       "        vertical-align: middle;\n",
       "    }\n",
       "\n",
       "    .dataframe tbody tr th {\n",
       "        vertical-align: top;\n",
       "    }\n",
       "\n",
       "    .dataframe thead th {\n",
       "        text-align: right;\n",
       "    }\n",
       "</style>\n",
       "<table border=\"1\" class=\"dataframe\">\n",
       "  <thead>\n",
       "    <tr style=\"text-align: right;\">\n",
       "      <th></th>\n",
       "      <th>0</th>\n",
       "    </tr>\n",
       "  </thead>\n",
       "  <tbody>\n",
       "    <tr>\n",
       "      <th>0</th>\n",
       "      <td>0</td>\n",
       "    </tr>\n",
       "    <tr>\n",
       "      <th>1</th>\n",
       "      <td>0</td>\n",
       "    </tr>\n",
       "    <tr>\n",
       "      <th>2</th>\n",
       "      <td>0</td>\n",
       "    </tr>\n",
       "    <tr>\n",
       "      <th>3</th>\n",
       "      <td>0</td>\n",
       "    </tr>\n",
       "    <tr>\n",
       "      <th>4</th>\n",
       "      <td>0</td>\n",
       "    </tr>\n",
       "  </tbody>\n",
       "</table>\n",
       "</div>"
      ],
      "text/plain": [
       "   0\n",
       "0  0\n",
       "1  0\n",
       "2  0\n",
       "3  0\n",
       "4  0"
      ]
     },
     "execution_count": 43,
     "metadata": {},
     "output_type": "execute_result"
    }
   ],
   "source": [
    "result_df.head()"
   ]
  },
  {
   "cell_type": "code",
   "execution_count": 44,
   "metadata": {},
   "outputs": [],
   "source": [
    "result_df.to_csv(\"./RF_1.csv\", header=False)"
   ]
  },
  {
   "cell_type": "code",
   "execution_count": null,
   "metadata": {},
   "outputs": [],
   "source": []
  }
 ],
 "metadata": {
  "kernelspec": {
   "display_name": "Python 3",
   "language": "python",
   "name": "python3"
  },
  "language_info": {
   "codemirror_mode": {
    "name": "ipython",
    "version": 3
   },
   "file_extension": ".py",
   "mimetype": "text/x-python",
   "name": "python",
   "nbconvert_exporter": "python",
   "pygments_lexer": "ipython3",
   "version": "3.6.10"
  }
 },
 "nbformat": 4,
 "nbformat_minor": 4
}
