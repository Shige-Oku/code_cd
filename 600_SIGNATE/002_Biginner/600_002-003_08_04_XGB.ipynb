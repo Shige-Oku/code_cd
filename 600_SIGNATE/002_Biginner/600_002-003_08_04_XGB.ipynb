{
 "cells": [
  {
   "cell_type": "markdown",
   "metadata": {},
   "source": [
    "## XGBデフォルト"
   ]
  },
  {
   "cell_type": "code",
   "execution_count": 1,
   "metadata": {},
   "outputs": [],
   "source": [
    "import numpy as np\n",
    "import pandas as pd\n",
    "\n",
    "import xgboost\n",
    "from xgboost import XGBClassifier\n",
    "from sklearn.metrics import mean_squared_error, make_scorer, confusion_matrix, accuracy_score\n",
    "from sklearn.model_selection import train_test_split\n"
   ]
  },
  {
   "cell_type": "code",
   "execution_count": 185,
   "metadata": {},
   "outputs": [],
   "source": [
    "# pickle ファイルから読み込み\n",
    "train_pkl = pd.read_pickle('../001/train.pk1')"
   ]
  },
  {
   "cell_type": "code",
   "execution_count": 186,
   "metadata": {},
   "outputs": [
    {
     "data": {
      "text/plain": [
       "(850, 11)"
      ]
     },
     "execution_count": 186,
     "metadata": {},
     "output_type": "execute_result"
    }
   ],
   "source": [
    "train_pkl.shape"
   ]
  },
  {
   "cell_type": "code",
   "execution_count": 187,
   "metadata": {},
   "outputs": [],
   "source": [
    "# T_Bilと D_Bil、AST_GOT と ALT_GPT の積を追加"
   ]
  },
  {
   "cell_type": "code",
   "execution_count": 188,
   "metadata": {},
   "outputs": [],
   "source": [
    "# train_pkl['TD_Bil'] = train_pkl['T_Bil'] + train_pkl['D_Bil']\n",
    "train_pkl['AST__ALT_GOT'] = train_pkl['AST_GOT'] * train_pkl['ALT_GPT']"
   ]
  },
  {
   "cell_type": "code",
   "execution_count": 189,
   "metadata": {},
   "outputs": [],
   "source": [
    "# 判断にあまり使用しなかった下位３つ削除\n",
    "# TP, Alb, Age を削除"
   ]
  },
  {
   "cell_type": "code",
   "execution_count": 190,
   "metadata": {},
   "outputs": [],
   "source": [
    "# train_pkl = train_pkl.drop(['TP', 'Alb', 'Age'], axis=1)"
   ]
  },
  {
   "cell_type": "code",
   "execution_count": 191,
   "metadata": {},
   "outputs": [
    {
     "data": {
      "text/plain": [
       "(850, 12)"
      ]
     },
     "execution_count": 191,
     "metadata": {},
     "output_type": "execute_result"
    }
   ],
   "source": [
    "train_pkl.shape"
   ]
  },
  {
   "cell_type": "code",
   "execution_count": 192,
   "metadata": {},
   "outputs": [],
   "source": [
    "# 相関の高く、判断の重要度の低いほうを削除\n",
    "# ALT_GPT, D_Bil"
   ]
  },
  {
   "cell_type": "code",
   "execution_count": 193,
   "metadata": {},
   "outputs": [],
   "source": [
    "# train_pkl = train_pkl.drop(['ALT_GPT', 'D_Bil'], axis=1)"
   ]
  },
  {
   "cell_type": "code",
   "execution_count": 194,
   "metadata": {},
   "outputs": [
    {
     "data": {
      "text/plain": [
       "(850, 12)"
      ]
     },
     "execution_count": 194,
     "metadata": {},
     "output_type": "execute_result"
    }
   ],
   "source": [
    "train_pkl.shape"
   ]
  },
  {
   "cell_type": "code",
   "execution_count": 195,
   "metadata": {},
   "outputs": [
    {
     "data": {
      "text/html": [
       "<div>\n",
       "<style scoped>\n",
       "    .dataframe tbody tr th:only-of-type {\n",
       "        vertical-align: middle;\n",
       "    }\n",
       "\n",
       "    .dataframe tbody tr th {\n",
       "        vertical-align: top;\n",
       "    }\n",
       "\n",
       "    .dataframe thead th {\n",
       "        text-align: right;\n",
       "    }\n",
       "</style>\n",
       "<table border=\"1\" class=\"dataframe\">\n",
       "  <thead>\n",
       "    <tr style=\"text-align: right;\">\n",
       "      <th></th>\n",
       "      <th>Age</th>\n",
       "      <th>T_Bil</th>\n",
       "      <th>D_Bil</th>\n",
       "      <th>ALP</th>\n",
       "      <th>ALT_GPT</th>\n",
       "      <th>AST_GOT</th>\n",
       "      <th>TP</th>\n",
       "      <th>Alb</th>\n",
       "      <th>AG_ratio</th>\n",
       "      <th>Gender_Male</th>\n",
       "      <th>disease</th>\n",
       "      <th>AST__ALT_GOT</th>\n",
       "    </tr>\n",
       "  </thead>\n",
       "  <tbody>\n",
       "    <tr>\n",
       "      <th>0</th>\n",
       "      <td>59</td>\n",
       "      <td>0.787109</td>\n",
       "      <td>0.150513</td>\n",
       "      <td>220.178696</td>\n",
       "      <td>13.467617</td>\n",
       "      <td>21.729246</td>\n",
       "      <td>6.816406</td>\n",
       "      <td>3.111328</td>\n",
       "      <td>1.006836</td>\n",
       "      <td>1</td>\n",
       "      <td>0</td>\n",
       "      <td>292.641174</td>\n",
       "    </tr>\n",
       "    <tr>\n",
       "      <th>1</th>\n",
       "      <td>69</td>\n",
       "      <td>1.003906</td>\n",
       "      <td>0.195679</td>\n",
       "      <td>221.218414</td>\n",
       "      <td>51.033463</td>\n",
       "      <td>64.752319</td>\n",
       "      <td>6.890625</td>\n",
       "      <td>3.050781</td>\n",
       "      <td>0.751465</td>\n",
       "      <td>1</td>\n",
       "      <td>1</td>\n",
       "      <td>3304.535156</td>\n",
       "    </tr>\n",
       "    <tr>\n",
       "      <th>2</th>\n",
       "      <td>65</td>\n",
       "      <td>0.657227</td>\n",
       "      <td>0.081299</td>\n",
       "      <td>320.770538</td>\n",
       "      <td>12.625011</td>\n",
       "      <td>30.613180</td>\n",
       "      <td>5.949219</td>\n",
       "      <td>2.488281</td>\n",
       "      <td>0.774902</td>\n",
       "      <td>1</td>\n",
       "      <td>0</td>\n",
       "      <td>386.491760</td>\n",
       "    </tr>\n",
       "    <tr>\n",
       "      <th>3</th>\n",
       "      <td>65</td>\n",
       "      <td>0.906738</td>\n",
       "      <td>0.214233</td>\n",
       "      <td>369.278168</td>\n",
       "      <td>34.347599</td>\n",
       "      <td>54.510086</td>\n",
       "      <td>6.968750</td>\n",
       "      <td>3.613281</td>\n",
       "      <td>0.988281</td>\n",
       "      <td>1</td>\n",
       "      <td>1</td>\n",
       "      <td>1872.290527</td>\n",
       "    </tr>\n",
       "    <tr>\n",
       "      <th>4</th>\n",
       "      <td>22</td>\n",
       "      <td>1.735352</td>\n",
       "      <td>0.197754</td>\n",
       "      <td>222.782028</td>\n",
       "      <td>20.572891</td>\n",
       "      <td>170.010178</td>\n",
       "      <td>5.835938</td>\n",
       "      <td>3.068359</td>\n",
       "      <td>1.026367</td>\n",
       "      <td>0</td>\n",
       "      <td>0</td>\n",
       "      <td>3497.600830</td>\n",
       "    </tr>\n",
       "  </tbody>\n",
       "</table>\n",
       "</div>"
      ],
      "text/plain": [
       "   Age     T_Bil     D_Bil         ALP    ALT_GPT     AST_GOT        TP  \\\n",
       "0   59  0.787109  0.150513  220.178696  13.467617   21.729246  6.816406   \n",
       "1   69  1.003906  0.195679  221.218414  51.033463   64.752319  6.890625   \n",
       "2   65  0.657227  0.081299  320.770538  12.625011   30.613180  5.949219   \n",
       "3   65  0.906738  0.214233  369.278168  34.347599   54.510086  6.968750   \n",
       "4   22  1.735352  0.197754  222.782028  20.572891  170.010178  5.835938   \n",
       "\n",
       "        Alb  AG_ratio  Gender_Male  disease  AST__ALT_GOT  \n",
       "0  3.111328  1.006836            1        0    292.641174  \n",
       "1  3.050781  0.751465            1        1   3304.535156  \n",
       "2  2.488281  0.774902            1        0    386.491760  \n",
       "3  3.613281  0.988281            1        1   1872.290527  \n",
       "4  3.068359  1.026367            0        0   3497.600830  "
      ]
     },
     "execution_count": 195,
     "metadata": {},
     "output_type": "execute_result"
    }
   ],
   "source": [
    "train_pkl.head()"
   ]
  },
  {
   "cell_type": "code",
   "execution_count": 196,
   "metadata": {},
   "outputs": [],
   "source": [
    "train_pkl = train_pkl.iloc[:, [0, 1, 2 ,3 ,4, 5, 6, 7, 8, 9, 11, 10]]"
   ]
  },
  {
   "cell_type": "code",
   "execution_count": 198,
   "metadata": {},
   "outputs": [
    {
     "data": {
      "text/html": [
       "<div>\n",
       "<style scoped>\n",
       "    .dataframe tbody tr th:only-of-type {\n",
       "        vertical-align: middle;\n",
       "    }\n",
       "\n",
       "    .dataframe tbody tr th {\n",
       "        vertical-align: top;\n",
       "    }\n",
       "\n",
       "    .dataframe thead th {\n",
       "        text-align: right;\n",
       "    }\n",
       "</style>\n",
       "<table border=\"1\" class=\"dataframe\">\n",
       "  <thead>\n",
       "    <tr style=\"text-align: right;\">\n",
       "      <th></th>\n",
       "      <th>Age</th>\n",
       "      <th>T_Bil</th>\n",
       "      <th>D_Bil</th>\n",
       "      <th>ALP</th>\n",
       "      <th>ALT_GPT</th>\n",
       "      <th>AST_GOT</th>\n",
       "      <th>TP</th>\n",
       "      <th>Alb</th>\n",
       "      <th>AG_ratio</th>\n",
       "      <th>Gender_Male</th>\n",
       "      <th>AST__ALT_GOT</th>\n",
       "      <th>disease</th>\n",
       "    </tr>\n",
       "  </thead>\n",
       "  <tbody>\n",
       "    <tr>\n",
       "      <th>0</th>\n",
       "      <td>59</td>\n",
       "      <td>0.787109</td>\n",
       "      <td>0.150513</td>\n",
       "      <td>220.178696</td>\n",
       "      <td>13.467617</td>\n",
       "      <td>21.729246</td>\n",
       "      <td>6.816406</td>\n",
       "      <td>3.111328</td>\n",
       "      <td>1.006836</td>\n",
       "      <td>1</td>\n",
       "      <td>292.641174</td>\n",
       "      <td>0</td>\n",
       "    </tr>\n",
       "    <tr>\n",
       "      <th>1</th>\n",
       "      <td>69</td>\n",
       "      <td>1.003906</td>\n",
       "      <td>0.195679</td>\n",
       "      <td>221.218414</td>\n",
       "      <td>51.033463</td>\n",
       "      <td>64.752319</td>\n",
       "      <td>6.890625</td>\n",
       "      <td>3.050781</td>\n",
       "      <td>0.751465</td>\n",
       "      <td>1</td>\n",
       "      <td>3304.535156</td>\n",
       "      <td>1</td>\n",
       "    </tr>\n",
       "    <tr>\n",
       "      <th>2</th>\n",
       "      <td>65</td>\n",
       "      <td>0.657227</td>\n",
       "      <td>0.081299</td>\n",
       "      <td>320.770538</td>\n",
       "      <td>12.625011</td>\n",
       "      <td>30.613180</td>\n",
       "      <td>5.949219</td>\n",
       "      <td>2.488281</td>\n",
       "      <td>0.774902</td>\n",
       "      <td>1</td>\n",
       "      <td>386.491760</td>\n",
       "      <td>0</td>\n",
       "    </tr>\n",
       "    <tr>\n",
       "      <th>3</th>\n",
       "      <td>65</td>\n",
       "      <td>0.906738</td>\n",
       "      <td>0.214233</td>\n",
       "      <td>369.278168</td>\n",
       "      <td>34.347599</td>\n",
       "      <td>54.510086</td>\n",
       "      <td>6.968750</td>\n",
       "      <td>3.613281</td>\n",
       "      <td>0.988281</td>\n",
       "      <td>1</td>\n",
       "      <td>1872.290527</td>\n",
       "      <td>1</td>\n",
       "    </tr>\n",
       "    <tr>\n",
       "      <th>4</th>\n",
       "      <td>22</td>\n",
       "      <td>1.735352</td>\n",
       "      <td>0.197754</td>\n",
       "      <td>222.782028</td>\n",
       "      <td>20.572891</td>\n",
       "      <td>170.010178</td>\n",
       "      <td>5.835938</td>\n",
       "      <td>3.068359</td>\n",
       "      <td>1.026367</td>\n",
       "      <td>0</td>\n",
       "      <td>3497.600830</td>\n",
       "      <td>0</td>\n",
       "    </tr>\n",
       "  </tbody>\n",
       "</table>\n",
       "</div>"
      ],
      "text/plain": [
       "   Age     T_Bil     D_Bil         ALP    ALT_GPT     AST_GOT        TP  \\\n",
       "0   59  0.787109  0.150513  220.178696  13.467617   21.729246  6.816406   \n",
       "1   69  1.003906  0.195679  221.218414  51.033463   64.752319  6.890625   \n",
       "2   65  0.657227  0.081299  320.770538  12.625011   30.613180  5.949219   \n",
       "3   65  0.906738  0.214233  369.278168  34.347599   54.510086  6.968750   \n",
       "4   22  1.735352  0.197754  222.782028  20.572891  170.010178  5.835938   \n",
       "\n",
       "        Alb  AG_ratio  Gender_Male  AST__ALT_GOT  disease  \n",
       "0  3.111328  1.006836            1    292.641174        0  \n",
       "1  3.050781  0.751465            1   3304.535156        1  \n",
       "2  2.488281  0.774902            1    386.491760        0  \n",
       "3  3.613281  0.988281            1   1872.290527        1  \n",
       "4  3.068359  1.026367            0   3497.600830        0  "
      ]
     },
     "execution_count": 198,
     "metadata": {},
     "output_type": "execute_result"
    }
   ],
   "source": [
    "train_pkl.head()"
   ]
  },
  {
   "cell_type": "markdown",
   "metadata": {},
   "source": [
    "## 訓練データとテストデータに分割"
   ]
  },
  {
   "cell_type": "code",
   "execution_count": 199,
   "metadata": {},
   "outputs": [],
   "source": [
    "# 訓練とテストデータに分割\n",
    "train, test = train_test_split(train_pkl, test_size=0.2, random_state=42)"
   ]
  },
  {
   "cell_type": "code",
   "execution_count": 200,
   "metadata": {},
   "outputs": [],
   "source": [
    "# ターゲットと特徴量の分割\n",
    "train_X = train.iloc[:, :-1]\n",
    "train_y = train.disease.values"
   ]
  },
  {
   "cell_type": "code",
   "execution_count": 201,
   "metadata": {},
   "outputs": [
    {
     "data": {
      "text/html": [
       "<div>\n",
       "<style scoped>\n",
       "    .dataframe tbody tr th:only-of-type {\n",
       "        vertical-align: middle;\n",
       "    }\n",
       "\n",
       "    .dataframe tbody tr th {\n",
       "        vertical-align: top;\n",
       "    }\n",
       "\n",
       "    .dataframe thead th {\n",
       "        text-align: right;\n",
       "    }\n",
       "</style>\n",
       "<table border=\"1\" class=\"dataframe\">\n",
       "  <thead>\n",
       "    <tr style=\"text-align: right;\">\n",
       "      <th></th>\n",
       "      <th>Age</th>\n",
       "      <th>T_Bil</th>\n",
       "      <th>D_Bil</th>\n",
       "      <th>ALP</th>\n",
       "      <th>ALT_GPT</th>\n",
       "      <th>AST_GOT</th>\n",
       "      <th>TP</th>\n",
       "      <th>Alb</th>\n",
       "      <th>AG_ratio</th>\n",
       "      <th>Gender_Male</th>\n",
       "      <th>AST__ALT_GOT</th>\n",
       "    </tr>\n",
       "  </thead>\n",
       "  <tbody>\n",
       "    <tr>\n",
       "      <th>332</th>\n",
       "      <td>44</td>\n",
       "      <td>2.066406</td>\n",
       "      <td>0.631348</td>\n",
       "      <td>213.935623</td>\n",
       "      <td>14.563273</td>\n",
       "      <td>47.154297</td>\n",
       "      <td>7.503906</td>\n",
       "      <td>2.302734</td>\n",
       "      <td>0.759766</td>\n",
       "      <td>1</td>\n",
       "      <td>686.720947</td>\n",
       "    </tr>\n",
       "    <tr>\n",
       "      <th>383</th>\n",
       "      <td>36</td>\n",
       "      <td>0.817871</td>\n",
       "      <td>0.197021</td>\n",
       "      <td>214.644638</td>\n",
       "      <td>15.622564</td>\n",
       "      <td>21.059477</td>\n",
       "      <td>7.511719</td>\n",
       "      <td>3.630859</td>\n",
       "      <td>1.291016</td>\n",
       "      <td>1</td>\n",
       "      <td>329.003021</td>\n",
       "    </tr>\n",
       "    <tr>\n",
       "      <th>281</th>\n",
       "      <td>20</td>\n",
       "      <td>0.791992</td>\n",
       "      <td>0.082642</td>\n",
       "      <td>358.339508</td>\n",
       "      <td>12.924613</td>\n",
       "      <td>25.772480</td>\n",
       "      <td>8.648438</td>\n",
       "      <td>4.324219</td>\n",
       "      <td>1.319336</td>\n",
       "      <td>1</td>\n",
       "      <td>333.099335</td>\n",
       "    </tr>\n",
       "    <tr>\n",
       "      <th>2</th>\n",
       "      <td>65</td>\n",
       "      <td>0.657227</td>\n",
       "      <td>0.081299</td>\n",
       "      <td>320.770538</td>\n",
       "      <td>12.625011</td>\n",
       "      <td>30.613180</td>\n",
       "      <td>5.949219</td>\n",
       "      <td>2.488281</td>\n",
       "      <td>0.774902</td>\n",
       "      <td>1</td>\n",
       "      <td>386.491760</td>\n",
       "    </tr>\n",
       "    <tr>\n",
       "      <th>231</th>\n",
       "      <td>29</td>\n",
       "      <td>1.714844</td>\n",
       "      <td>0.511230</td>\n",
       "      <td>215.885971</td>\n",
       "      <td>27.669710</td>\n",
       "      <td>60.709866</td>\n",
       "      <td>5.953125</td>\n",
       "      <td>3.117188</td>\n",
       "      <td>1.218750</td>\n",
       "      <td>1</td>\n",
       "      <td>1679.824341</td>\n",
       "    </tr>\n",
       "  </tbody>\n",
       "</table>\n",
       "</div>"
      ],
      "text/plain": [
       "     Age     T_Bil     D_Bil         ALP    ALT_GPT    AST_GOT        TP  \\\n",
       "332   44  2.066406  0.631348  213.935623  14.563273  47.154297  7.503906   \n",
       "383   36  0.817871  0.197021  214.644638  15.622564  21.059477  7.511719   \n",
       "281   20  0.791992  0.082642  358.339508  12.924613  25.772480  8.648438   \n",
       "2     65  0.657227  0.081299  320.770538  12.625011  30.613180  5.949219   \n",
       "231   29  1.714844  0.511230  215.885971  27.669710  60.709866  5.953125   \n",
       "\n",
       "          Alb  AG_ratio  Gender_Male  AST__ALT_GOT  \n",
       "332  2.302734  0.759766            1    686.720947  \n",
       "383  3.630859  1.291016            1    329.003021  \n",
       "281  4.324219  1.319336            1    333.099335  \n",
       "2    2.488281  0.774902            1    386.491760  \n",
       "231  3.117188  1.218750            1   1679.824341  "
      ]
     },
     "execution_count": 201,
     "metadata": {},
     "output_type": "execute_result"
    }
   ],
   "source": [
    "train_X.head(5)"
   ]
  },
  {
   "cell_type": "markdown",
   "metadata": {},
   "source": [
    "## 訓練データで訓練"
   ]
  },
  {
   "cell_type": "code",
   "execution_count": 292,
   "metadata": {},
   "outputs": [],
   "source": [
    "XGB = XGBClassifier(lambda_l1=300, lamba_l2=15, max_depth=9)"
   ]
  },
  {
   "cell_type": "code",
   "execution_count": 293,
   "metadata": {},
   "outputs": [],
   "source": [
    "XGB = XGB.fit(train_X, train_y)"
   ]
  },
  {
   "cell_type": "code",
   "execution_count": 294,
   "metadata": {},
   "outputs": [
    {
     "data": {
      "text/plain": [
       "array([0.02373545, 0.13246605, 0.05340776, 0.0432181 , 0.04356578,\n",
       "       0.05033004, 0.04938363, 0.03052111, 0.05881911, 0.02625548,\n",
       "       0.48829755], dtype=float32)"
      ]
     },
     "execution_count": 294,
     "metadata": {},
     "output_type": "execute_result"
    }
   ],
   "source": [
    "XGB.feature_importances_"
   ]
  },
  {
   "cell_type": "code",
   "execution_count": 295,
   "metadata": {},
   "outputs": [
    {
     "data": {
      "text/plain": [
       "[(0.488, 'AST__ALT_GOT'),\n",
       " (0.132, 'T_Bil'),\n",
       " (0.059, 'AG_ratio'),\n",
       " (0.053, 'D_Bil'),\n",
       " (0.05, 'AST_GOT'),\n",
       " (0.049, 'TP'),\n",
       " (0.044, 'ALT_GPT'),\n",
       " (0.043, 'ALP'),\n",
       " (0.031, 'Alb'),\n",
       " (0.026, 'Gender_Male'),\n",
       " (0.024, 'Age')]"
      ]
     },
     "execution_count": 295,
     "metadata": {},
     "output_type": "execute_result"
    }
   ],
   "source": [
    "sorted(\n",
    "    zip(map(lambda x: round(x, 3), XGB.feature_importances_), train_X.iloc[:, :].columns),\n",
    "    reverse=True)"
   ]
  },
  {
   "cell_type": "markdown",
   "metadata": {},
   "source": [
    "## テストデータで実行"
   ]
  },
  {
   "cell_type": "code",
   "execution_count": 296,
   "metadata": {},
   "outputs": [],
   "source": [
    "# ターゲットと特徴量の分割\n",
    "test_x = test.iloc[:, :-1]\n",
    "test_y = test.disease.values"
   ]
  },
  {
   "cell_type": "code",
   "execution_count": 297,
   "metadata": {},
   "outputs": [
    {
     "data": {
      "text/plain": [
       "((170, 11), (170,))"
      ]
     },
     "execution_count": 297,
     "metadata": {},
     "output_type": "execute_result"
    }
   ],
   "source": [
    "test_x.shape, test_y.shape"
   ]
  },
  {
   "cell_type": "code",
   "execution_count": 298,
   "metadata": {},
   "outputs": [],
   "source": [
    "pred_y = XGB.predict(test_x)"
   ]
  },
  {
   "cell_type": "code",
   "execution_count": 299,
   "metadata": {},
   "outputs": [
    {
     "data": {
      "text/plain": [
       "array([[89,  4],\n",
       "       [14, 63]], dtype=int64)"
      ]
     },
     "execution_count": 299,
     "metadata": {},
     "output_type": "execute_result"
    }
   ],
   "source": [
    "confusion_matrix(test_y, pred_y)"
   ]
  },
  {
   "cell_type": "code",
   "execution_count": 300,
   "metadata": {},
   "outputs": [
    {
     "data": {
      "text/plain": [
       "0.8941176470588236"
      ]
     },
     "execution_count": 300,
     "metadata": {},
     "output_type": "execute_result"
    }
   ],
   "source": [
    "accuracy_score(test_y, pred_y)"
   ]
  },
  {
   "cell_type": "markdown",
   "metadata": {},
   "source": [
    "## 検証データで実行"
   ]
  },
  {
   "cell_type": "code",
   "execution_count": null,
   "metadata": {},
   "outputs": [],
   "source": [
    "# 検証データ読み込み\n",
    "valid = pd.read_pickle('./test.pk3')"
   ]
  },
  {
   "cell_type": "code",
   "execution_count": null,
   "metadata": {},
   "outputs": [],
   "source": [
    "valid.shape"
   ]
  },
  {
   "cell_type": "code",
   "execution_count": null,
   "metadata": {},
   "outputs": [],
   "source": [
    "type(valid)"
   ]
  },
  {
   "cell_type": "code",
   "execution_count": null,
   "metadata": {},
   "outputs": [],
   "source": [
    "# ID の保存\n",
    "# valid_pass = valid.id.values"
   ]
  },
  {
   "cell_type": "code",
   "execution_count": null,
   "metadata": {},
   "outputs": [],
   "source": [
    "# valid_X = valid.iloc[:, 1:]\n",
    "valid_X = valid.copy()"
   ]
  },
  {
   "cell_type": "code",
   "execution_count": null,
   "metadata": {},
   "outputs": [],
   "source": [
    "valid_X.shape, train_X.shape"
   ]
  },
  {
   "cell_type": "code",
   "execution_count": null,
   "metadata": {},
   "outputs": [],
   "source": [
    "# 判断にあまり使用しなかった下位３つ削除\n",
    "# TP, Alb, Age を削除"
   ]
  },
  {
   "cell_type": "code",
   "execution_count": null,
   "metadata": {},
   "outputs": [],
   "source": [
    "valid_X = valid_X.drop(['TP', 'Alb', 'Age'], axis=1)"
   ]
  },
  {
   "cell_type": "code",
   "execution_count": null,
   "metadata": {},
   "outputs": [],
   "source": [
    "valid_X.shape"
   ]
  },
  {
   "cell_type": "code",
   "execution_count": null,
   "metadata": {},
   "outputs": [],
   "source": [
    "# 相関の高く、判断の重要度の低いほうを削除\n",
    "# ALT_GPT, D_Bil"
   ]
  },
  {
   "cell_type": "code",
   "execution_count": null,
   "metadata": {},
   "outputs": [],
   "source": [
    "valid_X = valid_X.drop(['ALT_GPT', 'D_Bil'], axis=1)"
   ]
  },
  {
   "cell_type": "code",
   "execution_count": null,
   "metadata": {},
   "outputs": [],
   "source": [
    "valid_X.shape"
   ]
  },
  {
   "cell_type": "code",
   "execution_count": null,
   "metadata": {},
   "outputs": [],
   "source": [
    "valid_X.head()"
   ]
  },
  {
   "cell_type": "code",
   "execution_count": null,
   "metadata": {},
   "outputs": [],
   "source": [
    "pred_valid_y = XGB.predict(valid_X)"
   ]
  },
  {
   "cell_type": "code",
   "execution_count": null,
   "metadata": {},
   "outputs": [],
   "source": [
    "pred_valid_y.shape"
   ]
  },
  {
   "cell_type": "code",
   "execution_count": null,
   "metadata": {},
   "outputs": [],
   "source": [
    "# type(valid_pass), type(pred_valid_y)"
   ]
  },
  {
   "cell_type": "code",
   "execution_count": null,
   "metadata": {},
   "outputs": [],
   "source": [
    "result_df = pd.DataFrame(pred_valid_y)"
   ]
  },
  {
   "cell_type": "code",
   "execution_count": null,
   "metadata": {},
   "outputs": [],
   "source": [
    "result_df.to_csv(\"./XGB_5.csv\", header=False)"
   ]
  },
  {
   "cell_type": "code",
   "execution_count": null,
   "metadata": {},
   "outputs": [],
   "source": []
  }
 ],
 "metadata": {
  "kernelspec": {
   "display_name": "Python 3",
   "language": "python",
   "name": "python3"
  },
  "language_info": {
   "codemirror_mode": {
    "name": "ipython",
    "version": 3
   },
   "file_extension": ".py",
   "mimetype": "text/x-python",
   "name": "python",
   "nbconvert_exporter": "python",
   "pygments_lexer": "ipython3",
   "version": "3.6.10"
  }
 },
 "nbformat": 4,
 "nbformat_minor": 4
}
