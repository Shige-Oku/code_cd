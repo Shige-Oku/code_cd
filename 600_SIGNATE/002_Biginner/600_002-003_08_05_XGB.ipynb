{
 "cells": [
  {
   "cell_type": "markdown",
   "metadata": {},
   "source": [
    "## XGBデフォルト"
   ]
  },
  {
   "cell_type": "code",
   "execution_count": 1,
   "metadata": {},
   "outputs": [],
   "source": [
    "import numpy as np\n",
    "import pandas as pd\n",
    "\n",
    "import xgboost\n",
    "from xgboost import XGBClassifier\n",
    "from sklearn.metrics import mean_squared_error, make_scorer, confusion_matrix, accuracy_score\n",
    "from sklearn.model_selection import train_test_split\n",
    "from sklearn.preprocessing import PolynomialFeatures\n"
   ]
  },
  {
   "cell_type": "code",
   "execution_count": 24,
   "metadata": {},
   "outputs": [],
   "source": [
    "# pickle ファイルから読み込み\n",
    "train_pkl = pd.read_pickle('../001/train.pk1')"
   ]
  },
  {
   "cell_type": "code",
   "execution_count": 25,
   "metadata": {},
   "outputs": [
    {
     "data": {
      "text/plain": [
       "(850, 11)"
      ]
     },
     "execution_count": 25,
     "metadata": {},
     "output_type": "execute_result"
    }
   ],
   "source": [
    "train_pkl.shape"
   ]
  },
  {
   "cell_type": "code",
   "execution_count": 26,
   "metadata": {},
   "outputs": [
    {
     "data": {
      "text/html": [
       "<div>\n",
       "<style scoped>\n",
       "    .dataframe tbody tr th:only-of-type {\n",
       "        vertical-align: middle;\n",
       "    }\n",
       "\n",
       "    .dataframe tbody tr th {\n",
       "        vertical-align: top;\n",
       "    }\n",
       "\n",
       "    .dataframe thead th {\n",
       "        text-align: right;\n",
       "    }\n",
       "</style>\n",
       "<table border=\"1\" class=\"dataframe\">\n",
       "  <thead>\n",
       "    <tr style=\"text-align: right;\">\n",
       "      <th></th>\n",
       "      <th>Age</th>\n",
       "      <th>T_Bil</th>\n",
       "      <th>D_Bil</th>\n",
       "      <th>ALP</th>\n",
       "      <th>ALT_GPT</th>\n",
       "      <th>AST_GOT</th>\n",
       "      <th>TP</th>\n",
       "      <th>Alb</th>\n",
       "      <th>AG_ratio</th>\n",
       "      <th>Gender_Male</th>\n",
       "      <th>disease</th>\n",
       "    </tr>\n",
       "  </thead>\n",
       "  <tbody>\n",
       "    <tr>\n",
       "      <th>0</th>\n",
       "      <td>59</td>\n",
       "      <td>0.787109</td>\n",
       "      <td>0.150513</td>\n",
       "      <td>220.178696</td>\n",
       "      <td>13.467617</td>\n",
       "      <td>21.729246</td>\n",
       "      <td>6.816406</td>\n",
       "      <td>3.111328</td>\n",
       "      <td>1.006836</td>\n",
       "      <td>1</td>\n",
       "      <td>0</td>\n",
       "    </tr>\n",
       "    <tr>\n",
       "      <th>1</th>\n",
       "      <td>69</td>\n",
       "      <td>1.003906</td>\n",
       "      <td>0.195679</td>\n",
       "      <td>221.218414</td>\n",
       "      <td>51.033463</td>\n",
       "      <td>64.752319</td>\n",
       "      <td>6.890625</td>\n",
       "      <td>3.050781</td>\n",
       "      <td>0.751465</td>\n",
       "      <td>1</td>\n",
       "      <td>1</td>\n",
       "    </tr>\n",
       "    <tr>\n",
       "      <th>2</th>\n",
       "      <td>65</td>\n",
       "      <td>0.657227</td>\n",
       "      <td>0.081299</td>\n",
       "      <td>320.770538</td>\n",
       "      <td>12.625011</td>\n",
       "      <td>30.613180</td>\n",
       "      <td>5.949219</td>\n",
       "      <td>2.488281</td>\n",
       "      <td>0.774902</td>\n",
       "      <td>1</td>\n",
       "      <td>0</td>\n",
       "    </tr>\n",
       "    <tr>\n",
       "      <th>3</th>\n",
       "      <td>65</td>\n",
       "      <td>0.906738</td>\n",
       "      <td>0.214233</td>\n",
       "      <td>369.278168</td>\n",
       "      <td>34.347599</td>\n",
       "      <td>54.510086</td>\n",
       "      <td>6.968750</td>\n",
       "      <td>3.613281</td>\n",
       "      <td>0.988281</td>\n",
       "      <td>1</td>\n",
       "      <td>1</td>\n",
       "    </tr>\n",
       "    <tr>\n",
       "      <th>4</th>\n",
       "      <td>22</td>\n",
       "      <td>1.735352</td>\n",
       "      <td>0.197754</td>\n",
       "      <td>222.782028</td>\n",
       "      <td>20.572891</td>\n",
       "      <td>170.010178</td>\n",
       "      <td>5.835938</td>\n",
       "      <td>3.068359</td>\n",
       "      <td>1.026367</td>\n",
       "      <td>0</td>\n",
       "      <td>0</td>\n",
       "    </tr>\n",
       "  </tbody>\n",
       "</table>\n",
       "</div>"
      ],
      "text/plain": [
       "   Age     T_Bil     D_Bil         ALP    ALT_GPT     AST_GOT        TP  \\\n",
       "0   59  0.787109  0.150513  220.178696  13.467617   21.729246  6.816406   \n",
       "1   69  1.003906  0.195679  221.218414  51.033463   64.752319  6.890625   \n",
       "2   65  0.657227  0.081299  320.770538  12.625011   30.613180  5.949219   \n",
       "3   65  0.906738  0.214233  369.278168  34.347599   54.510086  6.968750   \n",
       "4   22  1.735352  0.197754  222.782028  20.572891  170.010178  5.835938   \n",
       "\n",
       "        Alb  AG_ratio  Gender_Male  disease  \n",
       "0  3.111328  1.006836            1        0  \n",
       "1  3.050781  0.751465            1        1  \n",
       "2  2.488281  0.774902            1        0  \n",
       "3  3.613281  0.988281            1        1  \n",
       "4  3.068359  1.026367            0        0  "
      ]
     },
     "execution_count": 26,
     "metadata": {},
     "output_type": "execute_result"
    }
   ],
   "source": [
    "train_pkl.head()"
   ]
  },
  {
   "cell_type": "code",
   "execution_count": 27,
   "metadata": {},
   "outputs": [],
   "source": [
    "# 年齢、性別は削除\n",
    "train_pkl.drop(['Age', 'Gender_Male'], axis=1, inplace=True)"
   ]
  },
  {
   "cell_type": "code",
   "execution_count": null,
   "metadata": {},
   "outputs": [],
   "source": [
    "# 各レコードの最大値、最小値、合計、平均を加えてみる"
   ]
  },
  {
   "cell_type": "code",
   "execution_count": 30,
   "metadata": {},
   "outputs": [],
   "source": [
    "train_pkl['max'] = train_pkl.apply(lambda x : np.max(x[:5]), axis=1)\n",
    "train_pkl['min'] = train_pkl.apply(lambda x : np.min(x[:5]), axis=1)\n",
    "train_pkl['sum'] = train_pkl.apply(lambda x : np.sum(x[:5]), axis=1)\n",
    "train_pkl['ave'] = train_pkl.apply(lambda x : np.mean(x[:5]), axis=1)\n"
   ]
  },
  {
   "cell_type": "code",
   "execution_count": 31,
   "metadata": {},
   "outputs": [
    {
     "data": {
      "text/html": [
       "<div>\n",
       "<style scoped>\n",
       "    .dataframe tbody tr th:only-of-type {\n",
       "        vertical-align: middle;\n",
       "    }\n",
       "\n",
       "    .dataframe tbody tr th {\n",
       "        vertical-align: top;\n",
       "    }\n",
       "\n",
       "    .dataframe thead th {\n",
       "        text-align: right;\n",
       "    }\n",
       "</style>\n",
       "<table border=\"1\" class=\"dataframe\">\n",
       "  <thead>\n",
       "    <tr style=\"text-align: right;\">\n",
       "      <th></th>\n",
       "      <th>T_Bil</th>\n",
       "      <th>D_Bil</th>\n",
       "      <th>ALP</th>\n",
       "      <th>ALT_GPT</th>\n",
       "      <th>AST_GOT</th>\n",
       "      <th>TP</th>\n",
       "      <th>Alb</th>\n",
       "      <th>AG_ratio</th>\n",
       "      <th>disease</th>\n",
       "      <th>max</th>\n",
       "      <th>min</th>\n",
       "      <th>sum</th>\n",
       "      <th>ave</th>\n",
       "    </tr>\n",
       "  </thead>\n",
       "  <tbody>\n",
       "    <tr>\n",
       "      <th>0</th>\n",
       "      <td>0.787109</td>\n",
       "      <td>0.150513</td>\n",
       "      <td>220.178696</td>\n",
       "      <td>13.467617</td>\n",
       "      <td>21.729246</td>\n",
       "      <td>6.816406</td>\n",
       "      <td>3.111328</td>\n",
       "      <td>1.006836</td>\n",
       "      <td>0</td>\n",
       "      <td>220.178696</td>\n",
       "      <td>0.150513</td>\n",
       "      <td>256.313181</td>\n",
       "      <td>51.262636</td>\n",
       "    </tr>\n",
       "    <tr>\n",
       "      <th>1</th>\n",
       "      <td>1.003906</td>\n",
       "      <td>0.195679</td>\n",
       "      <td>221.218414</td>\n",
       "      <td>51.033463</td>\n",
       "      <td>64.752319</td>\n",
       "      <td>6.890625</td>\n",
       "      <td>3.050781</td>\n",
       "      <td>0.751465</td>\n",
       "      <td>1</td>\n",
       "      <td>221.218414</td>\n",
       "      <td>0.195679</td>\n",
       "      <td>338.203781</td>\n",
       "      <td>67.640756</td>\n",
       "    </tr>\n",
       "    <tr>\n",
       "      <th>2</th>\n",
       "      <td>0.657227</td>\n",
       "      <td>0.081299</td>\n",
       "      <td>320.770538</td>\n",
       "      <td>12.625011</td>\n",
       "      <td>30.613180</td>\n",
       "      <td>5.949219</td>\n",
       "      <td>2.488281</td>\n",
       "      <td>0.774902</td>\n",
       "      <td>0</td>\n",
       "      <td>320.770538</td>\n",
       "      <td>0.081299</td>\n",
       "      <td>364.747255</td>\n",
       "      <td>72.949451</td>\n",
       "    </tr>\n",
       "    <tr>\n",
       "      <th>3</th>\n",
       "      <td>0.906738</td>\n",
       "      <td>0.214233</td>\n",
       "      <td>369.278168</td>\n",
       "      <td>34.347599</td>\n",
       "      <td>54.510086</td>\n",
       "      <td>6.968750</td>\n",
       "      <td>3.613281</td>\n",
       "      <td>0.988281</td>\n",
       "      <td>1</td>\n",
       "      <td>369.278168</td>\n",
       "      <td>0.214233</td>\n",
       "      <td>459.256824</td>\n",
       "      <td>91.851365</td>\n",
       "    </tr>\n",
       "    <tr>\n",
       "      <th>4</th>\n",
       "      <td>1.735352</td>\n",
       "      <td>0.197754</td>\n",
       "      <td>222.782028</td>\n",
       "      <td>20.572891</td>\n",
       "      <td>170.010178</td>\n",
       "      <td>5.835938</td>\n",
       "      <td>3.068359</td>\n",
       "      <td>1.026367</td>\n",
       "      <td>0</td>\n",
       "      <td>222.782028</td>\n",
       "      <td>0.197754</td>\n",
       "      <td>415.298203</td>\n",
       "      <td>83.059641</td>\n",
       "    </tr>\n",
       "  </tbody>\n",
       "</table>\n",
       "</div>"
      ],
      "text/plain": [
       "      T_Bil     D_Bil         ALP    ALT_GPT     AST_GOT        TP       Alb  \\\n",
       "0  0.787109  0.150513  220.178696  13.467617   21.729246  6.816406  3.111328   \n",
       "1  1.003906  0.195679  221.218414  51.033463   64.752319  6.890625  3.050781   \n",
       "2  0.657227  0.081299  320.770538  12.625011   30.613180  5.949219  2.488281   \n",
       "3  0.906738  0.214233  369.278168  34.347599   54.510086  6.968750  3.613281   \n",
       "4  1.735352  0.197754  222.782028  20.572891  170.010178  5.835938  3.068359   \n",
       "\n",
       "   AG_ratio  disease         max       min         sum        ave  \n",
       "0  1.006836        0  220.178696  0.150513  256.313181  51.262636  \n",
       "1  0.751465        1  221.218414  0.195679  338.203781  67.640756  \n",
       "2  0.774902        0  320.770538  0.081299  364.747255  72.949451  \n",
       "3  0.988281        1  369.278168  0.214233  459.256824  91.851365  \n",
       "4  1.026367        0  222.782028  0.197754  415.298203  83.059641  "
      ]
     },
     "execution_count": 31,
     "metadata": {},
     "output_type": "execute_result"
    }
   ],
   "source": [
    "train_pkl.head()"
   ]
  },
  {
   "cell_type": "code",
   "execution_count": 32,
   "metadata": {},
   "outputs": [
    {
     "data": {
      "text/plain": [
       "(850, 13)"
      ]
     },
     "execution_count": 32,
     "metadata": {},
     "output_type": "execute_result"
    }
   ],
   "source": [
    "train_pkl.shape"
   ]
  },
  {
   "cell_type": "code",
   "execution_count": 33,
   "metadata": {},
   "outputs": [],
   "source": [
    "train_pkl = train_pkl.iloc[:, [0, 1, 2, 3, 4, 5, 6, 7, 9, 10, 11, 12, 8]]"
   ]
  },
  {
   "cell_type": "code",
   "execution_count": 34,
   "metadata": {},
   "outputs": [
    {
     "data": {
      "text/plain": [
       "(850, 13)"
      ]
     },
     "execution_count": 34,
     "metadata": {},
     "output_type": "execute_result"
    }
   ],
   "source": [
    "train_pkl.shape"
   ]
  },
  {
   "cell_type": "code",
   "execution_count": 35,
   "metadata": {},
   "outputs": [
    {
     "data": {
      "text/html": [
       "<div>\n",
       "<style scoped>\n",
       "    .dataframe tbody tr th:only-of-type {\n",
       "        vertical-align: middle;\n",
       "    }\n",
       "\n",
       "    .dataframe tbody tr th {\n",
       "        vertical-align: top;\n",
       "    }\n",
       "\n",
       "    .dataframe thead th {\n",
       "        text-align: right;\n",
       "    }\n",
       "</style>\n",
       "<table border=\"1\" class=\"dataframe\">\n",
       "  <thead>\n",
       "    <tr style=\"text-align: right;\">\n",
       "      <th></th>\n",
       "      <th>T_Bil</th>\n",
       "      <th>D_Bil</th>\n",
       "      <th>ALP</th>\n",
       "      <th>ALT_GPT</th>\n",
       "      <th>AST_GOT</th>\n",
       "      <th>TP</th>\n",
       "      <th>Alb</th>\n",
       "      <th>AG_ratio</th>\n",
       "      <th>max</th>\n",
       "      <th>min</th>\n",
       "      <th>sum</th>\n",
       "      <th>ave</th>\n",
       "      <th>disease</th>\n",
       "    </tr>\n",
       "  </thead>\n",
       "  <tbody>\n",
       "    <tr>\n",
       "      <th>0</th>\n",
       "      <td>0.787109</td>\n",
       "      <td>0.150513</td>\n",
       "      <td>220.178696</td>\n",
       "      <td>13.467617</td>\n",
       "      <td>21.729246</td>\n",
       "      <td>6.816406</td>\n",
       "      <td>3.111328</td>\n",
       "      <td>1.006836</td>\n",
       "      <td>220.178696</td>\n",
       "      <td>0.150513</td>\n",
       "      <td>256.313181</td>\n",
       "      <td>51.262636</td>\n",
       "      <td>0</td>\n",
       "    </tr>\n",
       "    <tr>\n",
       "      <th>1</th>\n",
       "      <td>1.003906</td>\n",
       "      <td>0.195679</td>\n",
       "      <td>221.218414</td>\n",
       "      <td>51.033463</td>\n",
       "      <td>64.752319</td>\n",
       "      <td>6.890625</td>\n",
       "      <td>3.050781</td>\n",
       "      <td>0.751465</td>\n",
       "      <td>221.218414</td>\n",
       "      <td>0.195679</td>\n",
       "      <td>338.203781</td>\n",
       "      <td>67.640756</td>\n",
       "      <td>1</td>\n",
       "    </tr>\n",
       "    <tr>\n",
       "      <th>2</th>\n",
       "      <td>0.657227</td>\n",
       "      <td>0.081299</td>\n",
       "      <td>320.770538</td>\n",
       "      <td>12.625011</td>\n",
       "      <td>30.613180</td>\n",
       "      <td>5.949219</td>\n",
       "      <td>2.488281</td>\n",
       "      <td>0.774902</td>\n",
       "      <td>320.770538</td>\n",
       "      <td>0.081299</td>\n",
       "      <td>364.747255</td>\n",
       "      <td>72.949451</td>\n",
       "      <td>0</td>\n",
       "    </tr>\n",
       "    <tr>\n",
       "      <th>3</th>\n",
       "      <td>0.906738</td>\n",
       "      <td>0.214233</td>\n",
       "      <td>369.278168</td>\n",
       "      <td>34.347599</td>\n",
       "      <td>54.510086</td>\n",
       "      <td>6.968750</td>\n",
       "      <td>3.613281</td>\n",
       "      <td>0.988281</td>\n",
       "      <td>369.278168</td>\n",
       "      <td>0.214233</td>\n",
       "      <td>459.256824</td>\n",
       "      <td>91.851365</td>\n",
       "      <td>1</td>\n",
       "    </tr>\n",
       "    <tr>\n",
       "      <th>4</th>\n",
       "      <td>1.735352</td>\n",
       "      <td>0.197754</td>\n",
       "      <td>222.782028</td>\n",
       "      <td>20.572891</td>\n",
       "      <td>170.010178</td>\n",
       "      <td>5.835938</td>\n",
       "      <td>3.068359</td>\n",
       "      <td>1.026367</td>\n",
       "      <td>222.782028</td>\n",
       "      <td>0.197754</td>\n",
       "      <td>415.298203</td>\n",
       "      <td>83.059641</td>\n",
       "      <td>0</td>\n",
       "    </tr>\n",
       "  </tbody>\n",
       "</table>\n",
       "</div>"
      ],
      "text/plain": [
       "      T_Bil     D_Bil         ALP    ALT_GPT     AST_GOT        TP       Alb  \\\n",
       "0  0.787109  0.150513  220.178696  13.467617   21.729246  6.816406  3.111328   \n",
       "1  1.003906  0.195679  221.218414  51.033463   64.752319  6.890625  3.050781   \n",
       "2  0.657227  0.081299  320.770538  12.625011   30.613180  5.949219  2.488281   \n",
       "3  0.906738  0.214233  369.278168  34.347599   54.510086  6.968750  3.613281   \n",
       "4  1.735352  0.197754  222.782028  20.572891  170.010178  5.835938  3.068359   \n",
       "\n",
       "   AG_ratio         max       min         sum        ave  disease  \n",
       "0  1.006836  220.178696  0.150513  256.313181  51.262636        0  \n",
       "1  0.751465  221.218414  0.195679  338.203781  67.640756        1  \n",
       "2  0.774902  320.770538  0.081299  364.747255  72.949451        0  \n",
       "3  0.988281  369.278168  0.214233  459.256824  91.851365        1  \n",
       "4  1.026367  222.782028  0.197754  415.298203  83.059641        0  "
      ]
     },
     "execution_count": 35,
     "metadata": {},
     "output_type": "execute_result"
    }
   ],
   "source": [
    "train_pkl.head()"
   ]
  },
  {
   "cell_type": "code",
   "execution_count": null,
   "metadata": {},
   "outputs": [],
   "source": [
    "# T_Bilと D_Bil、AST_GOT と ALT_GPT の積を追加"
   ]
  },
  {
   "cell_type": "code",
   "execution_count": null,
   "metadata": {},
   "outputs": [],
   "source": [
    "# train_pkl['TD_Bil'] = train_pkl['T_Bil'] + train_pkl['D_Bil']\n",
    "# train_pkl['AST__ALT_GOT'] = train_pkl['AST_GOT'] * train_pkl['ALT_GPT']"
   ]
  },
  {
   "cell_type": "code",
   "execution_count": null,
   "metadata": {},
   "outputs": [],
   "source": [
    "# 判断にあまり使用しなかった下位３つ削除\n",
    "# TP, Alb, Age を削除"
   ]
  },
  {
   "cell_type": "code",
   "execution_count": null,
   "metadata": {},
   "outputs": [],
   "source": [
    "# train_pkl = train_pkl.drop(['TP', 'Alb', 'Age'], axis=1)"
   ]
  },
  {
   "cell_type": "code",
   "execution_count": null,
   "metadata": {},
   "outputs": [],
   "source": [
    "# train_pkl.shape"
   ]
  },
  {
   "cell_type": "code",
   "execution_count": null,
   "metadata": {},
   "outputs": [],
   "source": [
    "# 相関の高く、判断の重要度の低いほうを削除\n",
    "# ALT_GPT, D_Bil"
   ]
  },
  {
   "cell_type": "code",
   "execution_count": null,
   "metadata": {},
   "outputs": [],
   "source": [
    "# train_pkl = train_pkl.drop(['ALT_GPT', 'D_Bil'], axis=1)"
   ]
  },
  {
   "cell_type": "code",
   "execution_count": null,
   "metadata": {},
   "outputs": [],
   "source": [
    "# train_pkl.shape"
   ]
  },
  {
   "cell_type": "code",
   "execution_count": 4,
   "metadata": {},
   "outputs": [
    {
     "data": {
      "text/html": [
       "<div>\n",
       "<style scoped>\n",
       "    .dataframe tbody tr th:only-of-type {\n",
       "        vertical-align: middle;\n",
       "    }\n",
       "\n",
       "    .dataframe tbody tr th {\n",
       "        vertical-align: top;\n",
       "    }\n",
       "\n",
       "    .dataframe thead th {\n",
       "        text-align: right;\n",
       "    }\n",
       "</style>\n",
       "<table border=\"1\" class=\"dataframe\">\n",
       "  <thead>\n",
       "    <tr style=\"text-align: right;\">\n",
       "      <th></th>\n",
       "      <th>Age</th>\n",
       "      <th>T_Bil</th>\n",
       "      <th>D_Bil</th>\n",
       "      <th>ALP</th>\n",
       "      <th>ALT_GPT</th>\n",
       "      <th>AST_GOT</th>\n",
       "      <th>TP</th>\n",
       "      <th>Alb</th>\n",
       "      <th>AG_ratio</th>\n",
       "      <th>Gender_Male</th>\n",
       "      <th>disease</th>\n",
       "    </tr>\n",
       "  </thead>\n",
       "  <tbody>\n",
       "    <tr>\n",
       "      <th>0</th>\n",
       "      <td>59</td>\n",
       "      <td>0.787109</td>\n",
       "      <td>0.150513</td>\n",
       "      <td>220.178696</td>\n",
       "      <td>13.467617</td>\n",
       "      <td>21.729246</td>\n",
       "      <td>6.816406</td>\n",
       "      <td>3.111328</td>\n",
       "      <td>1.006836</td>\n",
       "      <td>1</td>\n",
       "      <td>0</td>\n",
       "    </tr>\n",
       "    <tr>\n",
       "      <th>1</th>\n",
       "      <td>69</td>\n",
       "      <td>1.003906</td>\n",
       "      <td>0.195679</td>\n",
       "      <td>221.218414</td>\n",
       "      <td>51.033463</td>\n",
       "      <td>64.752319</td>\n",
       "      <td>6.890625</td>\n",
       "      <td>3.050781</td>\n",
       "      <td>0.751465</td>\n",
       "      <td>1</td>\n",
       "      <td>1</td>\n",
       "    </tr>\n",
       "    <tr>\n",
       "      <th>2</th>\n",
       "      <td>65</td>\n",
       "      <td>0.657227</td>\n",
       "      <td>0.081299</td>\n",
       "      <td>320.770538</td>\n",
       "      <td>12.625011</td>\n",
       "      <td>30.613180</td>\n",
       "      <td>5.949219</td>\n",
       "      <td>2.488281</td>\n",
       "      <td>0.774902</td>\n",
       "      <td>1</td>\n",
       "      <td>0</td>\n",
       "    </tr>\n",
       "    <tr>\n",
       "      <th>3</th>\n",
       "      <td>65</td>\n",
       "      <td>0.906738</td>\n",
       "      <td>0.214233</td>\n",
       "      <td>369.278168</td>\n",
       "      <td>34.347599</td>\n",
       "      <td>54.510086</td>\n",
       "      <td>6.968750</td>\n",
       "      <td>3.613281</td>\n",
       "      <td>0.988281</td>\n",
       "      <td>1</td>\n",
       "      <td>1</td>\n",
       "    </tr>\n",
       "    <tr>\n",
       "      <th>4</th>\n",
       "      <td>22</td>\n",
       "      <td>1.735352</td>\n",
       "      <td>0.197754</td>\n",
       "      <td>222.782028</td>\n",
       "      <td>20.572891</td>\n",
       "      <td>170.010178</td>\n",
       "      <td>5.835938</td>\n",
       "      <td>3.068359</td>\n",
       "      <td>1.026367</td>\n",
       "      <td>0</td>\n",
       "      <td>0</td>\n",
       "    </tr>\n",
       "  </tbody>\n",
       "</table>\n",
       "</div>"
      ],
      "text/plain": [
       "   Age     T_Bil     D_Bil         ALP    ALT_GPT     AST_GOT        TP  \\\n",
       "0   59  0.787109  0.150513  220.178696  13.467617   21.729246  6.816406   \n",
       "1   69  1.003906  0.195679  221.218414  51.033463   64.752319  6.890625   \n",
       "2   65  0.657227  0.081299  320.770538  12.625011   30.613180  5.949219   \n",
       "3   65  0.906738  0.214233  369.278168  34.347599   54.510086  6.968750   \n",
       "4   22  1.735352  0.197754  222.782028  20.572891  170.010178  5.835938   \n",
       "\n",
       "        Alb  AG_ratio  Gender_Male  disease  \n",
       "0  3.111328  1.006836            1        0  \n",
       "1  3.050781  0.751465            1        1  \n",
       "2  2.488281  0.774902            1        0  \n",
       "3  3.613281  0.988281            1        1  \n",
       "4  3.068359  1.026367            0        0  "
      ]
     },
     "execution_count": 4,
     "metadata": {},
     "output_type": "execute_result"
    }
   ],
   "source": [
    "# train_pkl.head()"
   ]
  },
  {
   "cell_type": "code",
   "execution_count": null,
   "metadata": {},
   "outputs": [],
   "source": [
    "# train_pkl = train_pkl.iloc[:, [0, 1, 2 ,3 ,4, 5, 6, 7, 8, 9, 11, 10]]"
   ]
  },
  {
   "cell_type": "code",
   "execution_count": 6,
   "metadata": {},
   "outputs": [],
   "source": [
    "# train_pkl.drop(['Age', 'Gender_Male'], inplace=True, axis=1)"
   ]
  },
  {
   "cell_type": "code",
   "execution_count": 7,
   "metadata": {},
   "outputs": [
    {
     "data": {
      "text/html": [
       "<div>\n",
       "<style scoped>\n",
       "    .dataframe tbody tr th:only-of-type {\n",
       "        vertical-align: middle;\n",
       "    }\n",
       "\n",
       "    .dataframe tbody tr th {\n",
       "        vertical-align: top;\n",
       "    }\n",
       "\n",
       "    .dataframe thead th {\n",
       "        text-align: right;\n",
       "    }\n",
       "</style>\n",
       "<table border=\"1\" class=\"dataframe\">\n",
       "  <thead>\n",
       "    <tr style=\"text-align: right;\">\n",
       "      <th></th>\n",
       "      <th>T_Bil</th>\n",
       "      <th>D_Bil</th>\n",
       "      <th>ALP</th>\n",
       "      <th>ALT_GPT</th>\n",
       "      <th>AST_GOT</th>\n",
       "      <th>TP</th>\n",
       "      <th>Alb</th>\n",
       "      <th>AG_ratio</th>\n",
       "      <th>disease</th>\n",
       "    </tr>\n",
       "  </thead>\n",
       "  <tbody>\n",
       "    <tr>\n",
       "      <th>0</th>\n",
       "      <td>0.787109</td>\n",
       "      <td>0.150513</td>\n",
       "      <td>220.178696</td>\n",
       "      <td>13.467617</td>\n",
       "      <td>21.729246</td>\n",
       "      <td>6.816406</td>\n",
       "      <td>3.111328</td>\n",
       "      <td>1.006836</td>\n",
       "      <td>0</td>\n",
       "    </tr>\n",
       "    <tr>\n",
       "      <th>1</th>\n",
       "      <td>1.003906</td>\n",
       "      <td>0.195679</td>\n",
       "      <td>221.218414</td>\n",
       "      <td>51.033463</td>\n",
       "      <td>64.752319</td>\n",
       "      <td>6.890625</td>\n",
       "      <td>3.050781</td>\n",
       "      <td>0.751465</td>\n",
       "      <td>1</td>\n",
       "    </tr>\n",
       "    <tr>\n",
       "      <th>2</th>\n",
       "      <td>0.657227</td>\n",
       "      <td>0.081299</td>\n",
       "      <td>320.770538</td>\n",
       "      <td>12.625011</td>\n",
       "      <td>30.613180</td>\n",
       "      <td>5.949219</td>\n",
       "      <td>2.488281</td>\n",
       "      <td>0.774902</td>\n",
       "      <td>0</td>\n",
       "    </tr>\n",
       "    <tr>\n",
       "      <th>3</th>\n",
       "      <td>0.906738</td>\n",
       "      <td>0.214233</td>\n",
       "      <td>369.278168</td>\n",
       "      <td>34.347599</td>\n",
       "      <td>54.510086</td>\n",
       "      <td>6.968750</td>\n",
       "      <td>3.613281</td>\n",
       "      <td>0.988281</td>\n",
       "      <td>1</td>\n",
       "    </tr>\n",
       "    <tr>\n",
       "      <th>4</th>\n",
       "      <td>1.735352</td>\n",
       "      <td>0.197754</td>\n",
       "      <td>222.782028</td>\n",
       "      <td>20.572891</td>\n",
       "      <td>170.010178</td>\n",
       "      <td>5.835938</td>\n",
       "      <td>3.068359</td>\n",
       "      <td>1.026367</td>\n",
       "      <td>0</td>\n",
       "    </tr>\n",
       "  </tbody>\n",
       "</table>\n",
       "</div>"
      ],
      "text/plain": [
       "      T_Bil     D_Bil         ALP    ALT_GPT     AST_GOT        TP       Alb  \\\n",
       "0  0.787109  0.150513  220.178696  13.467617   21.729246  6.816406  3.111328   \n",
       "1  1.003906  0.195679  221.218414  51.033463   64.752319  6.890625  3.050781   \n",
       "2  0.657227  0.081299  320.770538  12.625011   30.613180  5.949219  2.488281   \n",
       "3  0.906738  0.214233  369.278168  34.347599   54.510086  6.968750  3.613281   \n",
       "4  1.735352  0.197754  222.782028  20.572891  170.010178  5.835938  3.068359   \n",
       "\n",
       "   AG_ratio  disease  \n",
       "0  1.006836        0  \n",
       "1  0.751465        1  \n",
       "2  0.774902        0  \n",
       "3  0.988281        1  \n",
       "4  1.026367        0  "
      ]
     },
     "execution_count": 7,
     "metadata": {},
     "output_type": "execute_result"
    }
   ],
   "source": [
    "# train_pkl.head()"
   ]
  },
  {
   "cell_type": "code",
   "execution_count": 38,
   "metadata": {},
   "outputs": [
    {
     "data": {
      "text/plain": [
       "(850, 13)"
      ]
     },
     "execution_count": 38,
     "metadata": {},
     "output_type": "execute_result"
    }
   ],
   "source": [
    "train_pkl.shape"
   ]
  },
  {
   "cell_type": "code",
   "execution_count": null,
   "metadata": {},
   "outputs": [],
   "source": []
  },
  {
   "cell_type": "markdown",
   "metadata": {},
   "source": [
    "## 訓練データとテストデータに分割"
   ]
  },
  {
   "cell_type": "code",
   "execution_count": 39,
   "metadata": {},
   "outputs": [],
   "source": [
    "# 訓練とテストデータに分割\n",
    "train, test = train_test_split(train_pkl, test_size=0.2, random_state=42)"
   ]
  },
  {
   "cell_type": "code",
   "execution_count": 40,
   "metadata": {},
   "outputs": [],
   "source": [
    "# ターゲットと特徴量の分割\n",
    "train_X = train.iloc[:, :-1]\n",
    "train_y = train.disease.values"
   ]
  },
  {
   "cell_type": "markdown",
   "metadata": {},
   "source": [
    "## 訓練データで訓練"
   ]
  },
  {
   "cell_type": "code",
   "execution_count": 60,
   "metadata": {},
   "outputs": [],
   "source": [
    "XGB = XGBClassifier(lambda_l1=300, lamba_l2=15, max_depth=7)"
   ]
  },
  {
   "cell_type": "code",
   "execution_count": 61,
   "metadata": {},
   "outputs": [
    {
     "name": "stdout",
     "output_type": "stream",
     "text": [
      "[0]\tvalidation_0-auc:0.910906\n",
      "Will train until validation_0-auc hasn't improved in 20 rounds.\n",
      "[1]\tvalidation_0-auc:0.912442\n",
      "[2]\tvalidation_0-auc:0.92515\n",
      "[3]\tvalidation_0-auc:0.940022\n",
      "[4]\tvalidation_0-auc:0.939952\n",
      "[5]\tvalidation_0-auc:0.938347\n",
      "[6]\tvalidation_0-auc:0.937229\n",
      "[7]\tvalidation_0-auc:0.940581\n",
      "[8]\tvalidation_0-auc:0.941698\n",
      "[9]\tvalidation_0-auc:0.943374\n",
      "[10]\tvalidation_0-auc:0.945818\n",
      "[11]\tvalidation_0-auc:0.945957\n",
      "[12]\tvalidation_0-auc:0.946446\n",
      "[13]\tvalidation_0-auc:0.947354\n",
      "[14]\tvalidation_0-auc:0.948541\n",
      "[15]\tvalidation_0-auc:0.949658\n",
      "[16]\tvalidation_0-auc:0.952032\n",
      "[17]\tvalidation_0-auc:0.950775\n",
      "[18]\tvalidation_0-auc:0.949937\n",
      "[19]\tvalidation_0-auc:0.950496\n",
      "[20]\tvalidation_0-auc:0.952241\n",
      "[21]\tvalidation_0-auc:0.953638\n",
      "[22]\tvalidation_0-auc:0.955174\n",
      "[23]\tvalidation_0-auc:0.956291\n",
      "[24]\tvalidation_0-auc:0.958106\n",
      "[25]\tvalidation_0-auc:0.958246\n",
      "[26]\tvalidation_0-auc:0.958525\n",
      "[27]\tvalidation_0-auc:0.958805\n",
      "[28]\tvalidation_0-auc:0.958665\n",
      "[29]\tvalidation_0-auc:0.959084\n",
      "[30]\tvalidation_0-auc:0.959782\n",
      "[31]\tvalidation_0-auc:0.959782\n",
      "[32]\tvalidation_0-auc:0.960341\n",
      "[33]\tvalidation_0-auc:0.961737\n",
      "[34]\tvalidation_0-auc:0.961318\n",
      "[35]\tvalidation_0-auc:0.962994\n",
      "[36]\tvalidation_0-auc:0.963413\n",
      "[37]\tvalidation_0-auc:0.965508\n",
      "[38]\tvalidation_0-auc:0.965787\n",
      "[39]\tvalidation_0-auc:0.966345\n",
      "[40]\tvalidation_0-auc:0.966764\n",
      "[41]\tvalidation_0-auc:0.967183\n",
      "[42]\tvalidation_0-auc:0.96844\n",
      "[43]\tvalidation_0-auc:0.968859\n",
      "[44]\tvalidation_0-auc:0.967882\n",
      "[45]\tvalidation_0-auc:0.968021\n",
      "[46]\tvalidation_0-auc:0.967463\n",
      "[47]\tvalidation_0-auc:0.967742\n",
      "[48]\tvalidation_0-auc:0.968301\n",
      "[49]\tvalidation_0-auc:0.96844\n",
      "[50]\tvalidation_0-auc:0.96844\n",
      "[51]\tvalidation_0-auc:0.967882\n",
      "[52]\tvalidation_0-auc:0.96844\n",
      "[53]\tvalidation_0-auc:0.968301\n",
      "[54]\tvalidation_0-auc:0.967882\n",
      "[55]\tvalidation_0-auc:0.96844\n",
      "[56]\tvalidation_0-auc:0.96844\n",
      "[57]\tvalidation_0-auc:0.968021\n",
      "[58]\tvalidation_0-auc:0.968021\n",
      "[59]\tvalidation_0-auc:0.968161\n",
      "[60]\tvalidation_0-auc:0.967742\n",
      "[61]\tvalidation_0-auc:0.967882\n",
      "[62]\tvalidation_0-auc:0.967463\n",
      "[63]\tvalidation_0-auc:0.966764\n",
      "Stopping. Best iteration:\n",
      "[43]\tvalidation_0-auc:0.968859\n",
      "\n"
     ]
    }
   ],
   "source": [
    "XGB = XGB.fit(train_X, train_y, early_stopping_rounds=20, eval_metric='auc', eval_set=[(test_x, test_y)])"
   ]
  },
  {
   "cell_type": "code",
   "execution_count": 62,
   "metadata": {},
   "outputs": [
    {
     "data": {
      "text/plain": [
       "array([0.14296255, 0.05374013, 0.05599982, 0.0531982 , 0.07188261,\n",
       "       0.05173986, 0.03553334, 0.06205699, 0.05135412, 0.        ,\n",
       "       0.42153233, 0.        ], dtype=float32)"
      ]
     },
     "execution_count": 62,
     "metadata": {},
     "output_type": "execute_result"
    }
   ],
   "source": [
    "XGB.feature_importances_"
   ]
  },
  {
   "cell_type": "code",
   "execution_count": 63,
   "metadata": {},
   "outputs": [
    {
     "data": {
      "text/plain": [
       "[(0.422, 'sum'),\n",
       " (0.143, 'T_Bil'),\n",
       " (0.072, 'AST_GOT'),\n",
       " (0.062, 'AG_ratio'),\n",
       " (0.056, 'ALP'),\n",
       " (0.054, 'D_Bil'),\n",
       " (0.053, 'ALT_GPT'),\n",
       " (0.052, 'TP'),\n",
       " (0.051, 'max'),\n",
       " (0.036, 'Alb'),\n",
       " (0.0, 'min'),\n",
       " (0.0, 'ave')]"
      ]
     },
     "execution_count": 63,
     "metadata": {},
     "output_type": "execute_result"
    }
   ],
   "source": [
    "sorted(\n",
    "    zip(map(lambda x: round(x, 3), XGB.feature_importances_), train_X.iloc[:, :].columns),\n",
    "    reverse=True)"
   ]
  },
  {
   "cell_type": "markdown",
   "metadata": {},
   "source": [
    "## テストデータで実行"
   ]
  },
  {
   "cell_type": "code",
   "execution_count": 64,
   "metadata": {},
   "outputs": [],
   "source": [
    "# ターゲットと特徴量の分割\n",
    "test_x = test.iloc[:, :-1]\n",
    "test_y = test.disease.values"
   ]
  },
  {
   "cell_type": "code",
   "execution_count": 65,
   "metadata": {},
   "outputs": [
    {
     "data": {
      "text/plain": [
       "((170, 12), (170,))"
      ]
     },
     "execution_count": 65,
     "metadata": {},
     "output_type": "execute_result"
    }
   ],
   "source": [
    "test_x.shape, test_y.shape"
   ]
  },
  {
   "cell_type": "code",
   "execution_count": 66,
   "metadata": {},
   "outputs": [],
   "source": [
    "pred_y = XGB.predict(test_x)"
   ]
  },
  {
   "cell_type": "code",
   "execution_count": 67,
   "metadata": {},
   "outputs": [
    {
     "data": {
      "text/plain": [
       "array([[89,  4],\n",
       "       [17, 60]], dtype=int64)"
      ]
     },
     "execution_count": 67,
     "metadata": {},
     "output_type": "execute_result"
    }
   ],
   "source": [
    "confusion_matrix(test_y, pred_y)"
   ]
  },
  {
   "cell_type": "code",
   "execution_count": 68,
   "metadata": {},
   "outputs": [
    {
     "data": {
      "text/plain": [
       "0.8764705882352941"
      ]
     },
     "execution_count": 68,
     "metadata": {},
     "output_type": "execute_result"
    }
   ],
   "source": [
    "accuracy_score(test_y, pred_y)"
   ]
  },
  {
   "cell_type": "markdown",
   "metadata": {},
   "source": [
    "## 検証データで実行"
   ]
  },
  {
   "cell_type": "code",
   "execution_count": null,
   "metadata": {},
   "outputs": [],
   "source": [
    "# 検証データ読み込み\n",
    "valid = pd.read_pickle('./test.pk3')"
   ]
  },
  {
   "cell_type": "code",
   "execution_count": null,
   "metadata": {},
   "outputs": [],
   "source": [
    "valid.shape"
   ]
  },
  {
   "cell_type": "code",
   "execution_count": null,
   "metadata": {},
   "outputs": [],
   "source": [
    "type(valid)"
   ]
  },
  {
   "cell_type": "code",
   "execution_count": null,
   "metadata": {},
   "outputs": [],
   "source": [
    "# ID の保存\n",
    "# valid_pass = valid.id.values"
   ]
  },
  {
   "cell_type": "code",
   "execution_count": null,
   "metadata": {},
   "outputs": [],
   "source": [
    "# valid_X = valid.iloc[:, 1:]\n",
    "valid_X = valid.copy()"
   ]
  },
  {
   "cell_type": "code",
   "execution_count": null,
   "metadata": {},
   "outputs": [],
   "source": [
    "valid_X.shape, train_X.shape"
   ]
  },
  {
   "cell_type": "code",
   "execution_count": null,
   "metadata": {},
   "outputs": [],
   "source": [
    "# 判断にあまり使用しなかった下位３つ削除\n",
    "# TP, Alb, Age を削除"
   ]
  },
  {
   "cell_type": "code",
   "execution_count": null,
   "metadata": {},
   "outputs": [],
   "source": [
    "valid_X = valid_X.drop(['TP', 'Alb', 'Age'], axis=1)"
   ]
  },
  {
   "cell_type": "code",
   "execution_count": null,
   "metadata": {},
   "outputs": [],
   "source": [
    "valid_X.shape"
   ]
  },
  {
   "cell_type": "code",
   "execution_count": null,
   "metadata": {},
   "outputs": [],
   "source": [
    "# 相関の高く、判断の重要度の低いほうを削除\n",
    "# ALT_GPT, D_Bil"
   ]
  },
  {
   "cell_type": "code",
   "execution_count": null,
   "metadata": {},
   "outputs": [],
   "source": [
    "valid_X = valid_X.drop(['ALT_GPT', 'D_Bil'], axis=1)"
   ]
  },
  {
   "cell_type": "code",
   "execution_count": null,
   "metadata": {},
   "outputs": [],
   "source": [
    "valid_X.shape"
   ]
  },
  {
   "cell_type": "code",
   "execution_count": null,
   "metadata": {},
   "outputs": [],
   "source": [
    "valid_X.head()"
   ]
  },
  {
   "cell_type": "code",
   "execution_count": null,
   "metadata": {},
   "outputs": [],
   "source": [
    "pred_valid_y = XGB.predict(valid_X)"
   ]
  },
  {
   "cell_type": "code",
   "execution_count": null,
   "metadata": {},
   "outputs": [],
   "source": [
    "pred_valid_y.shape"
   ]
  },
  {
   "cell_type": "code",
   "execution_count": null,
   "metadata": {},
   "outputs": [],
   "source": [
    "# type(valid_pass), type(pred_valid_y)"
   ]
  },
  {
   "cell_type": "code",
   "execution_count": null,
   "metadata": {},
   "outputs": [],
   "source": [
    "result_df = pd.DataFrame(pred_valid_y)"
   ]
  },
  {
   "cell_type": "code",
   "execution_count": null,
   "metadata": {},
   "outputs": [],
   "source": [
    "result_df.to_csv(\"./XGB_5.csv\", header=False)"
   ]
  },
  {
   "cell_type": "code",
   "execution_count": null,
   "metadata": {},
   "outputs": [],
   "source": []
  }
 ],
 "metadata": {
  "kernelspec": {
   "display_name": "Python 3",
   "language": "python",
   "name": "python3"
  },
  "language_info": {
   "codemirror_mode": {
    "name": "ipython",
    "version": 3
   },
   "file_extension": ".py",
   "mimetype": "text/x-python",
   "name": "python",
   "nbconvert_exporter": "python",
   "pygments_lexer": "ipython3",
   "version": "3.6.10"
  }
 },
 "nbformat": 4,
 "nbformat_minor": 4
}
