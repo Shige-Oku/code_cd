{
 "cells": [
  {
   "cell_type": "code",
   "execution_count": 1,
   "metadata": {},
   "outputs": [],
   "source": [
    "import numpy as np\n",
    "import pandas as pd\n",
    "\n",
    "import matplotlib.pyplot as plt\n",
    "%matplotlib inline\n",
    "\n",
    "import xgboost\n",
    "from xgboost import XGBClassifier\n",
    "from sklearn.metrics import mean_squared_error, make_scorer, confusion_matrix, accuracy_score\n",
    "from sklearn.model_selection import train_test_split, learning_curve\n",
    "from sklearn.preprocessing import PolynomialFeatures\n",
    "from sklearn.metrics import roc_auc_score, roc_curve\n",
    "from sklearn import preprocessing, metrics\n",
    "\n",
    "import featuretools as ft\n",
    "import featuretools.variable_types as vtypes\n",
    "from boruta import BorutaPy\n",
    "\n",
    "from sklearn.ensemble import RandomForestClassifier\n"
   ]
  },
  {
   "cell_type": "code",
   "execution_count": 2,
   "metadata": {},
   "outputs": [],
   "source": [
    "# pickle ファイルから読み込み\n",
    "train_pkl = pd.read_pickle('../001/train.pk1')"
   ]
  },
  {
   "cell_type": "code",
   "execution_count": 3,
   "metadata": {},
   "outputs": [
    {
     "data": {
      "text/plain": [
       "(850, 11)"
      ]
     },
     "execution_count": 3,
     "metadata": {},
     "output_type": "execute_result"
    }
   ],
   "source": [
    "train_pkl.shape"
   ]
  },
  {
   "cell_type": "code",
   "execution_count": 4,
   "metadata": {},
   "outputs": [],
   "source": [
    "# 年齢(Age)、性別(Gender_Male)は削除\n",
    "train_pkl.drop(['Gender_Male'], axis=1, inplace=True)"
   ]
  },
  {
   "cell_type": "code",
   "execution_count": 5,
   "metadata": {},
   "outputs": [
    {
     "data": {
      "text/html": [
       "<div>\n",
       "<style scoped>\n",
       "    .dataframe tbody tr th:only-of-type {\n",
       "        vertical-align: middle;\n",
       "    }\n",
       "\n",
       "    .dataframe tbody tr th {\n",
       "        vertical-align: top;\n",
       "    }\n",
       "\n",
       "    .dataframe thead th {\n",
       "        text-align: right;\n",
       "    }\n",
       "</style>\n",
       "<table border=\"1\" class=\"dataframe\">\n",
       "  <thead>\n",
       "    <tr style=\"text-align: right;\">\n",
       "      <th></th>\n",
       "      <th>Age</th>\n",
       "      <th>T_Bil</th>\n",
       "      <th>D_Bil</th>\n",
       "      <th>ALP</th>\n",
       "      <th>ALT_GPT</th>\n",
       "      <th>AST_GOT</th>\n",
       "      <th>TP</th>\n",
       "      <th>Alb</th>\n",
       "      <th>AG_ratio</th>\n",
       "      <th>disease</th>\n",
       "    </tr>\n",
       "  </thead>\n",
       "  <tbody>\n",
       "    <tr>\n",
       "      <th>0</th>\n",
       "      <td>59</td>\n",
       "      <td>0.787109</td>\n",
       "      <td>0.150513</td>\n",
       "      <td>220.178696</td>\n",
       "      <td>13.467617</td>\n",
       "      <td>21.729246</td>\n",
       "      <td>6.816406</td>\n",
       "      <td>3.111328</td>\n",
       "      <td>1.006836</td>\n",
       "      <td>0</td>\n",
       "    </tr>\n",
       "    <tr>\n",
       "      <th>1</th>\n",
       "      <td>69</td>\n",
       "      <td>1.003906</td>\n",
       "      <td>0.195679</td>\n",
       "      <td>221.218414</td>\n",
       "      <td>51.033463</td>\n",
       "      <td>64.752319</td>\n",
       "      <td>6.890625</td>\n",
       "      <td>3.050781</td>\n",
       "      <td>0.751465</td>\n",
       "      <td>1</td>\n",
       "    </tr>\n",
       "    <tr>\n",
       "      <th>2</th>\n",
       "      <td>65</td>\n",
       "      <td>0.657227</td>\n",
       "      <td>0.081299</td>\n",
       "      <td>320.770538</td>\n",
       "      <td>12.625011</td>\n",
       "      <td>30.613180</td>\n",
       "      <td>5.949219</td>\n",
       "      <td>2.488281</td>\n",
       "      <td>0.774902</td>\n",
       "      <td>0</td>\n",
       "    </tr>\n",
       "    <tr>\n",
       "      <th>3</th>\n",
       "      <td>65</td>\n",
       "      <td>0.906738</td>\n",
       "      <td>0.214233</td>\n",
       "      <td>369.278168</td>\n",
       "      <td>34.347599</td>\n",
       "      <td>54.510086</td>\n",
       "      <td>6.968750</td>\n",
       "      <td>3.613281</td>\n",
       "      <td>0.988281</td>\n",
       "      <td>1</td>\n",
       "    </tr>\n",
       "    <tr>\n",
       "      <th>4</th>\n",
       "      <td>22</td>\n",
       "      <td>1.735352</td>\n",
       "      <td>0.197754</td>\n",
       "      <td>222.782028</td>\n",
       "      <td>20.572891</td>\n",
       "      <td>170.010178</td>\n",
       "      <td>5.835938</td>\n",
       "      <td>3.068359</td>\n",
       "      <td>1.026367</td>\n",
       "      <td>0</td>\n",
       "    </tr>\n",
       "  </tbody>\n",
       "</table>\n",
       "</div>"
      ],
      "text/plain": [
       "   Age     T_Bil     D_Bil         ALP    ALT_GPT     AST_GOT        TP  \\\n",
       "0   59  0.787109  0.150513  220.178696  13.467617   21.729246  6.816406   \n",
       "1   69  1.003906  0.195679  221.218414  51.033463   64.752319  6.890625   \n",
       "2   65  0.657227  0.081299  320.770538  12.625011   30.613180  5.949219   \n",
       "3   65  0.906738  0.214233  369.278168  34.347599   54.510086  6.968750   \n",
       "4   22  1.735352  0.197754  222.782028  20.572891  170.010178  5.835938   \n",
       "\n",
       "        Alb  AG_ratio  disease  \n",
       "0  3.111328  1.006836        0  \n",
       "1  3.050781  0.751465        1  \n",
       "2  2.488281  0.774902        0  \n",
       "3  3.613281  0.988281        1  \n",
       "4  3.068359  1.026367        0  "
      ]
     },
     "execution_count": 5,
     "metadata": {},
     "output_type": "execute_result"
    }
   ],
   "source": [
    "train_pkl.head()"
   ]
  },
  {
   "cell_type": "code",
   "execution_count": 6,
   "metadata": {},
   "outputs": [
    {
     "data": {
      "text/plain": [
       "(850, 10)"
      ]
     },
     "execution_count": 6,
     "metadata": {},
     "output_type": "execute_result"
    }
   ],
   "source": [
    "train_pk2 = train_pkl.copy()\n",
    "train_pkl.shape"
   ]
  },
  {
   "cell_type": "code",
   "execution_count": 7,
   "metadata": {},
   "outputs": [],
   "source": [
    "es = ft.EntitySet(id='feature')"
   ]
  },
  {
   "cell_type": "code",
   "execution_count": 8,
   "metadata": {},
   "outputs": [
    {
     "name": "stderr",
     "output_type": "stream",
     "text": [
      "C:\\Users\\owner\\Anaconda3\\lib\\site-packages\\featuretools\\entityset\\entity.py:609: UserWarning: index index not found in dataframe, creating new integer column\n",
      "  \"integer column\".format(index))\n"
     ]
    },
    {
     "data": {
      "text/plain": [
       "Entityset: feature\n",
       "  Entities:\n",
       "    feature_id [Rows: 850, Columns: 10]\n",
       "  Relationships:\n",
       "    No relationships"
      ]
     },
     "execution_count": 8,
     "metadata": {},
     "output_type": "execute_result"
    }
   ],
   "source": [
    "es.entity_from_dataframe( \n",
    "    entity_id='feature_id',\n",
    "    dataframe=train_pkl.drop('disease', axis=1),\n",
    "    index='index',\n",
    "    variable_types={}\n",
    ")"
   ]
  },
  {
   "cell_type": "code",
   "execution_count": 9,
   "metadata": {},
   "outputs": [
    {
     "name": "stderr",
     "output_type": "stream",
     "text": [
      "C:\\Users\\owner\\Anaconda3\\lib\\site-packages\\featuretools\\synthesis\\dfs.py:317: UnusedPrimitiveWarning: Some specified primitives were not used during DFS:\n",
      "  agg_primitives: ['count', 'max', 'mean', 'skew', 'std', 'sum']\n",
      "This may be caused by a using a value of max_depth that is too small, not setting interesting values, or it may indicate no compatible variable types for the primitive were found in the data.\n",
      "  warnings.warn(warning_msg, UnusedPrimitiveWarning)\n"
     ]
    }
   ],
   "source": [
    "feature_matrix, features_dfs = ft.dfs(\n",
    "    entityset=es,\n",
    "    target_entity='feature_id',\n",
    "    agg_primitives=['sum', 'mean', 'std', 'max', 'count', 'skew'],\n",
    "    trans_primitives=['add_numeric', 'subtract_numeric', 'multiply_numeric', 'divide_numeric'],\n",
    "    max_depth=1,\n",
    ")"
   ]
  },
  {
   "cell_type": "code",
   "execution_count": 10,
   "metadata": {},
   "outputs": [
    {
     "data": {
      "text/html": [
       "<div>\n",
       "<style scoped>\n",
       "    .dataframe tbody tr th:only-of-type {\n",
       "        vertical-align: middle;\n",
       "    }\n",
       "\n",
       "    .dataframe tbody tr th {\n",
       "        vertical-align: top;\n",
       "    }\n",
       "\n",
       "    .dataframe thead th {\n",
       "        text-align: right;\n",
       "    }\n",
       "</style>\n",
       "<table border=\"1\" class=\"dataframe\">\n",
       "  <thead>\n",
       "    <tr style=\"text-align: right;\">\n",
       "      <th></th>\n",
       "      <th>Age</th>\n",
       "      <th>T_Bil</th>\n",
       "      <th>D_Bil</th>\n",
       "      <th>ALP</th>\n",
       "      <th>ALT_GPT</th>\n",
       "      <th>AST_GOT</th>\n",
       "      <th>TP</th>\n",
       "      <th>Alb</th>\n",
       "      <th>AG_ratio</th>\n",
       "      <th>AG_ratio + ALP</th>\n",
       "      <th>...</th>\n",
       "      <th>Age - T_Bil</th>\n",
       "      <th>Alb - ALP</th>\n",
       "      <th>Alb - ALT_GPT</th>\n",
       "      <th>Alb - AST_GOT</th>\n",
       "      <th>Alb - D_Bil</th>\n",
       "      <th>Alb - TP</th>\n",
       "      <th>Alb - T_Bil</th>\n",
       "      <th>D_Bil - TP</th>\n",
       "      <th>D_Bil - T_Bil</th>\n",
       "      <th>T_Bil - TP</th>\n",
       "    </tr>\n",
       "    <tr>\n",
       "      <th>index</th>\n",
       "      <th></th>\n",
       "      <th></th>\n",
       "      <th></th>\n",
       "      <th></th>\n",
       "      <th></th>\n",
       "      <th></th>\n",
       "      <th></th>\n",
       "      <th></th>\n",
       "      <th></th>\n",
       "      <th></th>\n",
       "      <th></th>\n",
       "      <th></th>\n",
       "      <th></th>\n",
       "      <th></th>\n",
       "      <th></th>\n",
       "      <th></th>\n",
       "      <th></th>\n",
       "      <th></th>\n",
       "      <th></th>\n",
       "      <th></th>\n",
       "      <th></th>\n",
       "    </tr>\n",
       "  </thead>\n",
       "  <tbody>\n",
       "    <tr>\n",
       "      <th>0</th>\n",
       "      <td>59</td>\n",
       "      <td>0.787109</td>\n",
       "      <td>0.150513</td>\n",
       "      <td>220.178696</td>\n",
       "      <td>13.467617</td>\n",
       "      <td>21.729246</td>\n",
       "      <td>6.816406</td>\n",
       "      <td>3.111328</td>\n",
       "      <td>1.006836</td>\n",
       "      <td>221.185532</td>\n",
       "      <td>...</td>\n",
       "      <td>58.212891</td>\n",
       "      <td>-217.067368</td>\n",
       "      <td>-10.356289</td>\n",
       "      <td>-18.617918</td>\n",
       "      <td>2.960938</td>\n",
       "      <td>-3.705078</td>\n",
       "      <td>2.324219</td>\n",
       "      <td>-6.664062</td>\n",
       "      <td>-0.636719</td>\n",
       "      <td>-6.031250</td>\n",
       "    </tr>\n",
       "    <tr>\n",
       "      <th>1</th>\n",
       "      <td>69</td>\n",
       "      <td>1.003906</td>\n",
       "      <td>0.195679</td>\n",
       "      <td>221.218414</td>\n",
       "      <td>51.033463</td>\n",
       "      <td>64.752319</td>\n",
       "      <td>6.890625</td>\n",
       "      <td>3.050781</td>\n",
       "      <td>0.751465</td>\n",
       "      <td>221.969879</td>\n",
       "      <td>...</td>\n",
       "      <td>67.996094</td>\n",
       "      <td>-218.167633</td>\n",
       "      <td>-47.982681</td>\n",
       "      <td>-61.701538</td>\n",
       "      <td>2.855469</td>\n",
       "      <td>-3.839844</td>\n",
       "      <td>2.046875</td>\n",
       "      <td>-6.695312</td>\n",
       "      <td>-0.808105</td>\n",
       "      <td>-5.886719</td>\n",
       "    </tr>\n",
       "    <tr>\n",
       "      <th>2</th>\n",
       "      <td>65</td>\n",
       "      <td>0.657227</td>\n",
       "      <td>0.081299</td>\n",
       "      <td>320.770538</td>\n",
       "      <td>12.625011</td>\n",
       "      <td>30.613180</td>\n",
       "      <td>5.949219</td>\n",
       "      <td>2.488281</td>\n",
       "      <td>0.774902</td>\n",
       "      <td>321.545441</td>\n",
       "      <td>...</td>\n",
       "      <td>64.342773</td>\n",
       "      <td>-318.282257</td>\n",
       "      <td>-10.136730</td>\n",
       "      <td>-28.124899</td>\n",
       "      <td>2.406250</td>\n",
       "      <td>-3.460938</td>\n",
       "      <td>1.831055</td>\n",
       "      <td>-5.867188</td>\n",
       "      <td>-0.576172</td>\n",
       "      <td>-5.292969</td>\n",
       "    </tr>\n",
       "    <tr>\n",
       "      <th>3</th>\n",
       "      <td>65</td>\n",
       "      <td>0.906738</td>\n",
       "      <td>0.214233</td>\n",
       "      <td>369.278168</td>\n",
       "      <td>34.347599</td>\n",
       "      <td>54.510086</td>\n",
       "      <td>6.968750</td>\n",
       "      <td>3.613281</td>\n",
       "      <td>0.988281</td>\n",
       "      <td>370.266449</td>\n",
       "      <td>...</td>\n",
       "      <td>64.093262</td>\n",
       "      <td>-365.664886</td>\n",
       "      <td>-30.734318</td>\n",
       "      <td>-50.896805</td>\n",
       "      <td>3.398438</td>\n",
       "      <td>-3.355469</td>\n",
       "      <td>2.707031</td>\n",
       "      <td>-6.753906</td>\n",
       "      <td>-0.692383</td>\n",
       "      <td>-6.062500</td>\n",
       "    </tr>\n",
       "    <tr>\n",
       "      <th>4</th>\n",
       "      <td>22</td>\n",
       "      <td>1.735352</td>\n",
       "      <td>0.197754</td>\n",
       "      <td>222.782028</td>\n",
       "      <td>20.572891</td>\n",
       "      <td>170.010178</td>\n",
       "      <td>5.835938</td>\n",
       "      <td>3.068359</td>\n",
       "      <td>1.026367</td>\n",
       "      <td>223.808395</td>\n",
       "      <td>...</td>\n",
       "      <td>20.264648</td>\n",
       "      <td>-219.713669</td>\n",
       "      <td>-17.504532</td>\n",
       "      <td>-166.941818</td>\n",
       "      <td>2.871094</td>\n",
       "      <td>-2.767578</td>\n",
       "      <td>1.333008</td>\n",
       "      <td>-5.636719</td>\n",
       "      <td>-1.537109</td>\n",
       "      <td>-4.101562</td>\n",
       "    </tr>\n",
       "  </tbody>\n",
       "</table>\n",
       "<p>5 rows × 189 columns</p>\n",
       "</div>"
      ],
      "text/plain": [
       "       Age     T_Bil     D_Bil         ALP    ALT_GPT     AST_GOT        TP  \\\n",
       "index                                                                         \n",
       "0       59  0.787109  0.150513  220.178696  13.467617   21.729246  6.816406   \n",
       "1       69  1.003906  0.195679  221.218414  51.033463   64.752319  6.890625   \n",
       "2       65  0.657227  0.081299  320.770538  12.625011   30.613180  5.949219   \n",
       "3       65  0.906738  0.214233  369.278168  34.347599   54.510086  6.968750   \n",
       "4       22  1.735352  0.197754  222.782028  20.572891  170.010178  5.835938   \n",
       "\n",
       "            Alb  AG_ratio  AG_ratio + ALP  ...  Age - T_Bil   Alb - ALP  \\\n",
       "index                                      ...                            \n",
       "0      3.111328  1.006836      221.185532  ...    58.212891 -217.067368   \n",
       "1      3.050781  0.751465      221.969879  ...    67.996094 -218.167633   \n",
       "2      2.488281  0.774902      321.545441  ...    64.342773 -318.282257   \n",
       "3      3.613281  0.988281      370.266449  ...    64.093262 -365.664886   \n",
       "4      3.068359  1.026367      223.808395  ...    20.264648 -219.713669   \n",
       "\n",
       "       Alb - ALT_GPT  Alb - AST_GOT  Alb - D_Bil  Alb - TP  Alb - T_Bil  \\\n",
       "index                                                                     \n",
       "0         -10.356289     -18.617918     2.960938 -3.705078     2.324219   \n",
       "1         -47.982681     -61.701538     2.855469 -3.839844     2.046875   \n",
       "2         -10.136730     -28.124899     2.406250 -3.460938     1.831055   \n",
       "3         -30.734318     -50.896805     3.398438 -3.355469     2.707031   \n",
       "4         -17.504532    -166.941818     2.871094 -2.767578     1.333008   \n",
       "\n",
       "       D_Bil - TP  D_Bil - T_Bil  T_Bil - TP  \n",
       "index                                         \n",
       "0       -6.664062      -0.636719   -6.031250  \n",
       "1       -6.695312      -0.808105   -5.886719  \n",
       "2       -5.867188      -0.576172   -5.292969  \n",
       "3       -6.753906      -0.692383   -6.062500  \n",
       "4       -5.636719      -1.537109   -4.101562  \n",
       "\n",
       "[5 rows x 189 columns]"
      ]
     },
     "execution_count": 10,
     "metadata": {},
     "output_type": "execute_result"
    }
   ],
   "source": [
    "feature_matrix.head()"
   ]
  },
  {
   "cell_type": "code",
   "execution_count": 11,
   "metadata": {},
   "outputs": [],
   "source": [
    "train_pkl = feature_matrix.copy()"
   ]
  },
  {
   "cell_type": "code",
   "execution_count": 12,
   "metadata": {},
   "outputs": [],
   "source": [
    "train_pkl['disease'] = train_pk2['disease']"
   ]
  },
  {
   "cell_type": "code",
   "execution_count": 13,
   "metadata": {},
   "outputs": [
    {
     "data": {
      "text/html": [
       "<div>\n",
       "<style scoped>\n",
       "    .dataframe tbody tr th:only-of-type {\n",
       "        vertical-align: middle;\n",
       "    }\n",
       "\n",
       "    .dataframe tbody tr th {\n",
       "        vertical-align: top;\n",
       "    }\n",
       "\n",
       "    .dataframe thead th {\n",
       "        text-align: right;\n",
       "    }\n",
       "</style>\n",
       "<table border=\"1\" class=\"dataframe\">\n",
       "  <thead>\n",
       "    <tr style=\"text-align: right;\">\n",
       "      <th></th>\n",
       "      <th>Age</th>\n",
       "      <th>T_Bil</th>\n",
       "      <th>D_Bil</th>\n",
       "      <th>ALP</th>\n",
       "      <th>ALT_GPT</th>\n",
       "      <th>AST_GOT</th>\n",
       "      <th>TP</th>\n",
       "      <th>Alb</th>\n",
       "      <th>AG_ratio</th>\n",
       "      <th>AG_ratio + ALP</th>\n",
       "      <th>...</th>\n",
       "      <th>Alb - ALP</th>\n",
       "      <th>Alb - ALT_GPT</th>\n",
       "      <th>Alb - AST_GOT</th>\n",
       "      <th>Alb - D_Bil</th>\n",
       "      <th>Alb - TP</th>\n",
       "      <th>Alb - T_Bil</th>\n",
       "      <th>D_Bil - TP</th>\n",
       "      <th>D_Bil - T_Bil</th>\n",
       "      <th>T_Bil - TP</th>\n",
       "      <th>disease</th>\n",
       "    </tr>\n",
       "    <tr>\n",
       "      <th>index</th>\n",
       "      <th></th>\n",
       "      <th></th>\n",
       "      <th></th>\n",
       "      <th></th>\n",
       "      <th></th>\n",
       "      <th></th>\n",
       "      <th></th>\n",
       "      <th></th>\n",
       "      <th></th>\n",
       "      <th></th>\n",
       "      <th></th>\n",
       "      <th></th>\n",
       "      <th></th>\n",
       "      <th></th>\n",
       "      <th></th>\n",
       "      <th></th>\n",
       "      <th></th>\n",
       "      <th></th>\n",
       "      <th></th>\n",
       "      <th></th>\n",
       "      <th></th>\n",
       "    </tr>\n",
       "  </thead>\n",
       "  <tbody>\n",
       "    <tr>\n",
       "      <th>0</th>\n",
       "      <td>59</td>\n",
       "      <td>0.787109</td>\n",
       "      <td>0.150513</td>\n",
       "      <td>220.178696</td>\n",
       "      <td>13.467617</td>\n",
       "      <td>21.729246</td>\n",
       "      <td>6.816406</td>\n",
       "      <td>3.111328</td>\n",
       "      <td>1.006836</td>\n",
       "      <td>221.185532</td>\n",
       "      <td>...</td>\n",
       "      <td>-217.067368</td>\n",
       "      <td>-10.356289</td>\n",
       "      <td>-18.617918</td>\n",
       "      <td>2.960938</td>\n",
       "      <td>-3.705078</td>\n",
       "      <td>2.324219</td>\n",
       "      <td>-6.664062</td>\n",
       "      <td>-0.636719</td>\n",
       "      <td>-6.031250</td>\n",
       "      <td>0</td>\n",
       "    </tr>\n",
       "    <tr>\n",
       "      <th>1</th>\n",
       "      <td>69</td>\n",
       "      <td>1.003906</td>\n",
       "      <td>0.195679</td>\n",
       "      <td>221.218414</td>\n",
       "      <td>51.033463</td>\n",
       "      <td>64.752319</td>\n",
       "      <td>6.890625</td>\n",
       "      <td>3.050781</td>\n",
       "      <td>0.751465</td>\n",
       "      <td>221.969879</td>\n",
       "      <td>...</td>\n",
       "      <td>-218.167633</td>\n",
       "      <td>-47.982681</td>\n",
       "      <td>-61.701538</td>\n",
       "      <td>2.855469</td>\n",
       "      <td>-3.839844</td>\n",
       "      <td>2.046875</td>\n",
       "      <td>-6.695312</td>\n",
       "      <td>-0.808105</td>\n",
       "      <td>-5.886719</td>\n",
       "      <td>1</td>\n",
       "    </tr>\n",
       "    <tr>\n",
       "      <th>2</th>\n",
       "      <td>65</td>\n",
       "      <td>0.657227</td>\n",
       "      <td>0.081299</td>\n",
       "      <td>320.770538</td>\n",
       "      <td>12.625011</td>\n",
       "      <td>30.613180</td>\n",
       "      <td>5.949219</td>\n",
       "      <td>2.488281</td>\n",
       "      <td>0.774902</td>\n",
       "      <td>321.545441</td>\n",
       "      <td>...</td>\n",
       "      <td>-318.282257</td>\n",
       "      <td>-10.136730</td>\n",
       "      <td>-28.124899</td>\n",
       "      <td>2.406250</td>\n",
       "      <td>-3.460938</td>\n",
       "      <td>1.831055</td>\n",
       "      <td>-5.867188</td>\n",
       "      <td>-0.576172</td>\n",
       "      <td>-5.292969</td>\n",
       "      <td>0</td>\n",
       "    </tr>\n",
       "    <tr>\n",
       "      <th>3</th>\n",
       "      <td>65</td>\n",
       "      <td>0.906738</td>\n",
       "      <td>0.214233</td>\n",
       "      <td>369.278168</td>\n",
       "      <td>34.347599</td>\n",
       "      <td>54.510086</td>\n",
       "      <td>6.968750</td>\n",
       "      <td>3.613281</td>\n",
       "      <td>0.988281</td>\n",
       "      <td>370.266449</td>\n",
       "      <td>...</td>\n",
       "      <td>-365.664886</td>\n",
       "      <td>-30.734318</td>\n",
       "      <td>-50.896805</td>\n",
       "      <td>3.398438</td>\n",
       "      <td>-3.355469</td>\n",
       "      <td>2.707031</td>\n",
       "      <td>-6.753906</td>\n",
       "      <td>-0.692383</td>\n",
       "      <td>-6.062500</td>\n",
       "      <td>1</td>\n",
       "    </tr>\n",
       "    <tr>\n",
       "      <th>4</th>\n",
       "      <td>22</td>\n",
       "      <td>1.735352</td>\n",
       "      <td>0.197754</td>\n",
       "      <td>222.782028</td>\n",
       "      <td>20.572891</td>\n",
       "      <td>170.010178</td>\n",
       "      <td>5.835938</td>\n",
       "      <td>3.068359</td>\n",
       "      <td>1.026367</td>\n",
       "      <td>223.808395</td>\n",
       "      <td>...</td>\n",
       "      <td>-219.713669</td>\n",
       "      <td>-17.504532</td>\n",
       "      <td>-166.941818</td>\n",
       "      <td>2.871094</td>\n",
       "      <td>-2.767578</td>\n",
       "      <td>1.333008</td>\n",
       "      <td>-5.636719</td>\n",
       "      <td>-1.537109</td>\n",
       "      <td>-4.101562</td>\n",
       "      <td>0</td>\n",
       "    </tr>\n",
       "  </tbody>\n",
       "</table>\n",
       "<p>5 rows × 190 columns</p>\n",
       "</div>"
      ],
      "text/plain": [
       "       Age     T_Bil     D_Bil         ALP    ALT_GPT     AST_GOT        TP  \\\n",
       "index                                                                         \n",
       "0       59  0.787109  0.150513  220.178696  13.467617   21.729246  6.816406   \n",
       "1       69  1.003906  0.195679  221.218414  51.033463   64.752319  6.890625   \n",
       "2       65  0.657227  0.081299  320.770538  12.625011   30.613180  5.949219   \n",
       "3       65  0.906738  0.214233  369.278168  34.347599   54.510086  6.968750   \n",
       "4       22  1.735352  0.197754  222.782028  20.572891  170.010178  5.835938   \n",
       "\n",
       "            Alb  AG_ratio  AG_ratio + ALP  ...   Alb - ALP  Alb - ALT_GPT  \\\n",
       "index                                      ...                              \n",
       "0      3.111328  1.006836      221.185532  ... -217.067368     -10.356289   \n",
       "1      3.050781  0.751465      221.969879  ... -218.167633     -47.982681   \n",
       "2      2.488281  0.774902      321.545441  ... -318.282257     -10.136730   \n",
       "3      3.613281  0.988281      370.266449  ... -365.664886     -30.734318   \n",
       "4      3.068359  1.026367      223.808395  ... -219.713669     -17.504532   \n",
       "\n",
       "       Alb - AST_GOT  Alb - D_Bil  Alb - TP  Alb - T_Bil  D_Bil - TP  \\\n",
       "index                                                                  \n",
       "0         -18.617918     2.960938 -3.705078     2.324219   -6.664062   \n",
       "1         -61.701538     2.855469 -3.839844     2.046875   -6.695312   \n",
       "2         -28.124899     2.406250 -3.460938     1.831055   -5.867188   \n",
       "3         -50.896805     3.398438 -3.355469     2.707031   -6.753906   \n",
       "4        -166.941818     2.871094 -2.767578     1.333008   -5.636719   \n",
       "\n",
       "       D_Bil - T_Bil  T_Bil - TP  disease  \n",
       "index                                      \n",
       "0          -0.636719   -6.031250        0  \n",
       "1          -0.808105   -5.886719        1  \n",
       "2          -0.576172   -5.292969        0  \n",
       "3          -0.692383   -6.062500        1  \n",
       "4          -1.537109   -4.101562        0  \n",
       "\n",
       "[5 rows x 190 columns]"
      ]
     },
     "execution_count": 13,
     "metadata": {},
     "output_type": "execute_result"
    }
   ],
   "source": [
    "train_pkl.head()"
   ]
  },
  {
   "cell_type": "markdown",
   "metadata": {},
   "source": [
    "## 訓練データとテストデータに分割"
   ]
  },
  {
   "cell_type": "code",
   "execution_count": 14,
   "metadata": {},
   "outputs": [],
   "source": [
    "# 訓練とテストデータに分割\n",
    "train, test = train_test_split(train_pkl, test_size=0.2, random_state=4242)"
   ]
  },
  {
   "cell_type": "code",
   "execution_count": 15,
   "metadata": {},
   "outputs": [],
   "source": [
    "# ターゲットと特徴量の分割\n",
    "train_X = train.iloc[:, :-1]\n",
    "train_y = train.disease"
   ]
  },
  {
   "cell_type": "code",
   "execution_count": 16,
   "metadata": {},
   "outputs": [],
   "source": [
    "# ターゲットと特徴量の分割\n",
    "test_x = test.iloc[:, :-1]\n",
    "test_y = test.disease"
   ]
  },
  {
   "cell_type": "markdown",
   "metadata": {},
   "source": [
    "## 訓練データで訓練"
   ]
  },
  {
   "cell_type": "code",
   "execution_count": null,
   "metadata": {},
   "outputs": [],
   "source": [
    "XGB = XGBClassifier(lambda_l1=0, lamba_l2=1, max_depth=7, romdam_stat=4242)\n",
    "# XGB = XGBClassifier(random_state=4242)"
   ]
  },
  {
   "cell_type": "code",
   "execution_count": null,
   "metadata": {},
   "outputs": [],
   "source": [
    "XGB = XGB.fit(train_X, train_y, early_stopping_rounds=20, eval_metric='auc', eval_set=[(test_x, test_y)])"
   ]
  },
  {
   "cell_type": "code",
   "execution_count": null,
   "metadata": {},
   "outputs": [],
   "source": [
    "XGB.feature_importances_"
   ]
  },
  {
   "cell_type": "code",
   "execution_count": null,
   "metadata": {},
   "outputs": [],
   "source": [
    "sorted(\n",
    "    zip(map(lambda x: round(x, 3), XGB.feature_importances_), train_X.iloc[:, :].columns),\n",
    "    reverse=True)"
   ]
  },
  {
   "cell_type": "code",
   "execution_count": null,
   "metadata": {},
   "outputs": [],
   "source": [
    "train_X.shape, train_y.shape"
   ]
  },
  {
   "cell_type": "code",
   "execution_count": null,
   "metadata": {},
   "outputs": [],
   "source": [
    "type(train_X), type(train_y)"
   ]
  },
  {
   "cell_type": "markdown",
   "metadata": {},
   "source": [
    "## Boruta"
   ]
  },
  {
   "cell_type": "code",
   "execution_count": 17,
   "metadata": {},
   "outputs": [],
   "source": [
    "RF = RandomForestClassifier(max_depth=7, random_state=4242)"
   ]
  },
  {
   "cell_type": "code",
   "execution_count": 18,
   "metadata": {},
   "outputs": [],
   "source": [
    "feat_sel = BorutaPy(RF, n_estimators='auto', two_step=False, verbose=2, random_state=4242)"
   ]
  },
  {
   "cell_type": "code",
   "execution_count": 19,
   "metadata": {},
   "outputs": [
    {
     "name": "stdout",
     "output_type": "stream",
     "text": [
      "Iteration: \t1 / 100\n",
      "Confirmed: \t0\n",
      "Tentative: \t189\n",
      "Rejected: \t0\n",
      "Iteration: \t2 / 100\n",
      "Confirmed: \t0\n",
      "Tentative: \t189\n",
      "Rejected: \t0\n",
      "Iteration: \t3 / 100\n",
      "Confirmed: \t0\n",
      "Tentative: \t189\n",
      "Rejected: \t0\n",
      "Iteration: \t4 / 100\n",
      "Confirmed: \t0\n",
      "Tentative: \t189\n",
      "Rejected: \t0\n",
      "Iteration: \t5 / 100\n",
      "Confirmed: \t0\n",
      "Tentative: \t189\n",
      "Rejected: \t0\n",
      "Iteration: \t6 / 100\n",
      "Confirmed: \t0\n",
      "Tentative: \t189\n",
      "Rejected: \t0\n",
      "Iteration: \t7 / 100\n",
      "Confirmed: \t0\n",
      "Tentative: \t189\n",
      "Rejected: \t0\n",
      "Iteration: \t8 / 100\n",
      "Confirmed: \t0\n",
      "Tentative: \t189\n",
      "Rejected: \t0\n",
      "Iteration: \t9 / 100\n",
      "Confirmed: \t0\n",
      "Tentative: \t189\n",
      "Rejected: \t0\n",
      "Iteration: \t10 / 100\n",
      "Confirmed: \t0\n",
      "Tentative: \t189\n",
      "Rejected: \t0\n",
      "Iteration: \t11 / 100\n",
      "Confirmed: \t0\n",
      "Tentative: \t189\n",
      "Rejected: \t0\n",
      "Iteration: \t12 / 100\n",
      "Confirmed: \t54\n",
      "Tentative: \t68\n",
      "Rejected: \t67\n",
      "Iteration: \t13 / 100\n",
      "Confirmed: \t54\n",
      "Tentative: \t68\n",
      "Rejected: \t67\n",
      "Iteration: \t14 / 100\n",
      "Confirmed: \t54\n",
      "Tentative: \t68\n",
      "Rejected: \t67\n",
      "Iteration: \t15 / 100\n",
      "Confirmed: \t54\n",
      "Tentative: \t68\n",
      "Rejected: \t67\n",
      "Iteration: \t16 / 100\n",
      "Confirmed: \t56\n",
      "Tentative: \t58\n",
      "Rejected: \t75\n",
      "Iteration: \t17 / 100\n",
      "Confirmed: \t56\n",
      "Tentative: \t58\n",
      "Rejected: \t75\n",
      "Iteration: \t18 / 100\n",
      "Confirmed: \t56\n",
      "Tentative: \t58\n",
      "Rejected: \t75\n",
      "Iteration: \t19 / 100\n",
      "Confirmed: \t56\n",
      "Tentative: \t58\n",
      "Rejected: \t75\n",
      "Iteration: \t20 / 100\n",
      "Confirmed: \t57\n",
      "Tentative: \t49\n",
      "Rejected: \t83\n",
      "Iteration: \t21 / 100\n",
      "Confirmed: \t57\n",
      "Tentative: \t49\n",
      "Rejected: \t83\n",
      "Iteration: \t22 / 100\n",
      "Confirmed: \t57\n",
      "Tentative: \t49\n",
      "Rejected: \t83\n",
      "Iteration: \t23 / 100\n",
      "Confirmed: \t57\n",
      "Tentative: \t46\n",
      "Rejected: \t86\n",
      "Iteration: \t24 / 100\n",
      "Confirmed: \t57\n",
      "Tentative: \t46\n",
      "Rejected: \t86\n",
      "Iteration: \t25 / 100\n",
      "Confirmed: \t57\n",
      "Tentative: \t46\n",
      "Rejected: \t86\n",
      "Iteration: \t26 / 100\n",
      "Confirmed: \t57\n",
      "Tentative: \t46\n",
      "Rejected: \t86\n",
      "Iteration: \t27 / 100\n",
      "Confirmed: \t57\n",
      "Tentative: \t41\n",
      "Rejected: \t91\n",
      "Iteration: \t28 / 100\n",
      "Confirmed: \t57\n",
      "Tentative: \t41\n",
      "Rejected: \t91\n",
      "Iteration: \t29 / 100\n",
      "Confirmed: \t57\n",
      "Tentative: \t41\n",
      "Rejected: \t91\n",
      "Iteration: \t30 / 100\n",
      "Confirmed: \t57\n",
      "Tentative: \t39\n",
      "Rejected: \t93\n",
      "Iteration: \t31 / 100\n",
      "Confirmed: \t57\n",
      "Tentative: \t39\n",
      "Rejected: \t93\n",
      "Iteration: \t32 / 100\n",
      "Confirmed: \t57\n",
      "Tentative: \t39\n",
      "Rejected: \t93\n",
      "Iteration: \t33 / 100\n",
      "Confirmed: \t57\n",
      "Tentative: \t39\n",
      "Rejected: \t93\n",
      "Iteration: \t34 / 100\n",
      "Confirmed: \t57\n",
      "Tentative: \t39\n",
      "Rejected: \t93\n",
      "Iteration: \t35 / 100\n",
      "Confirmed: \t57\n",
      "Tentative: \t37\n",
      "Rejected: \t95\n",
      "Iteration: \t36 / 100\n",
      "Confirmed: \t57\n",
      "Tentative: \t37\n",
      "Rejected: \t95\n",
      "Iteration: \t37 / 100\n",
      "Confirmed: \t57\n",
      "Tentative: \t37\n",
      "Rejected: \t95\n",
      "Iteration: \t38 / 100\n",
      "Confirmed: \t57\n",
      "Tentative: \t37\n",
      "Rejected: \t95\n",
      "Iteration: \t39 / 100\n",
      "Confirmed: \t57\n",
      "Tentative: \t37\n",
      "Rejected: \t95\n",
      "Iteration: \t40 / 100\n",
      "Confirmed: \t57\n",
      "Tentative: \t37\n",
      "Rejected: \t95\n",
      "Iteration: \t41 / 100\n",
      "Confirmed: \t57\n",
      "Tentative: \t36\n",
      "Rejected: \t96\n",
      "Iteration: \t42 / 100\n",
      "Confirmed: \t57\n",
      "Tentative: \t36\n",
      "Rejected: \t96\n",
      "Iteration: \t43 / 100\n",
      "Confirmed: \t57\n",
      "Tentative: \t36\n",
      "Rejected: \t96\n",
      "Iteration: \t44 / 100\n",
      "Confirmed: \t57\n",
      "Tentative: \t34\n",
      "Rejected: \t98\n",
      "Iteration: \t45 / 100\n",
      "Confirmed: \t57\n",
      "Tentative: \t34\n",
      "Rejected: \t98\n",
      "Iteration: \t46 / 100\n",
      "Confirmed: \t57\n",
      "Tentative: \t34\n",
      "Rejected: \t98\n",
      "Iteration: \t47 / 100\n",
      "Confirmed: \t57\n",
      "Tentative: \t34\n",
      "Rejected: \t98\n",
      "Iteration: \t48 / 100\n",
      "Confirmed: \t57\n",
      "Tentative: \t34\n",
      "Rejected: \t98\n",
      "Iteration: \t49 / 100\n",
      "Confirmed: \t57\n",
      "Tentative: \t34\n",
      "Rejected: \t98\n",
      "Iteration: \t50 / 100\n",
      "Confirmed: \t57\n",
      "Tentative: \t34\n",
      "Rejected: \t98\n",
      "Iteration: \t51 / 100\n",
      "Confirmed: \t57\n",
      "Tentative: \t34\n",
      "Rejected: \t98\n",
      "Iteration: \t52 / 100\n",
      "Confirmed: \t57\n",
      "Tentative: \t34\n",
      "Rejected: \t98\n",
      "Iteration: \t53 / 100\n",
      "Confirmed: \t57\n",
      "Tentative: \t34\n",
      "Rejected: \t98\n",
      "Iteration: \t54 / 100\n",
      "Confirmed: \t57\n",
      "Tentative: \t34\n",
      "Rejected: \t98\n",
      "Iteration: \t55 / 100\n",
      "Confirmed: \t57\n",
      "Tentative: \t33\n",
      "Rejected: \t99\n",
      "Iteration: \t56 / 100\n",
      "Confirmed: \t57\n",
      "Tentative: \t33\n",
      "Rejected: \t99\n",
      "Iteration: \t57 / 100\n",
      "Confirmed: \t58\n",
      "Tentative: \t31\n",
      "Rejected: \t100\n",
      "Iteration: \t58 / 100\n",
      "Confirmed: \t58\n",
      "Tentative: \t31\n",
      "Rejected: \t100\n",
      "Iteration: \t59 / 100\n",
      "Confirmed: \t58\n",
      "Tentative: \t31\n",
      "Rejected: \t100\n",
      "Iteration: \t60 / 100\n",
      "Confirmed: \t58\n",
      "Tentative: \t31\n",
      "Rejected: \t100\n",
      "Iteration: \t61 / 100\n",
      "Confirmed: \t58\n",
      "Tentative: \t31\n",
      "Rejected: \t100\n",
      "Iteration: \t62 / 100\n",
      "Confirmed: \t58\n",
      "Tentative: \t29\n",
      "Rejected: \t102\n",
      "Iteration: \t63 / 100\n",
      "Confirmed: \t58\n",
      "Tentative: \t29\n",
      "Rejected: \t102\n",
      "Iteration: \t64 / 100\n",
      "Confirmed: \t58\n",
      "Tentative: \t29\n",
      "Rejected: \t102\n",
      "Iteration: \t65 / 100\n",
      "Confirmed: \t58\n",
      "Tentative: \t29\n",
      "Rejected: \t102\n",
      "Iteration: \t66 / 100\n",
      "Confirmed: \t58\n",
      "Tentative: \t29\n",
      "Rejected: \t102\n",
      "Iteration: \t67 / 100\n",
      "Confirmed: \t59\n",
      "Tentative: \t28\n",
      "Rejected: \t102\n",
      "Iteration: \t68 / 100\n",
      "Confirmed: \t59\n",
      "Tentative: \t28\n",
      "Rejected: \t102\n",
      "Iteration: \t69 / 100\n",
      "Confirmed: \t59\n",
      "Tentative: \t28\n",
      "Rejected: \t102\n",
      "Iteration: \t70 / 100\n",
      "Confirmed: \t59\n",
      "Tentative: \t27\n",
      "Rejected: \t103\n",
      "Iteration: \t71 / 100\n",
      "Confirmed: \t59\n",
      "Tentative: \t27\n",
      "Rejected: \t103\n",
      "Iteration: \t72 / 100\n",
      "Confirmed: \t59\n",
      "Tentative: \t27\n",
      "Rejected: \t103\n",
      "Iteration: \t73 / 100\n",
      "Confirmed: \t59\n",
      "Tentative: \t26\n",
      "Rejected: \t104\n",
      "Iteration: \t74 / 100\n",
      "Confirmed: \t59\n",
      "Tentative: \t26\n",
      "Rejected: \t104\n",
      "Iteration: \t75 / 100\n",
      "Confirmed: \t59\n",
      "Tentative: \t26\n",
      "Rejected: \t104\n",
      "Iteration: \t76 / 100\n",
      "Confirmed: \t59\n",
      "Tentative: \t26\n",
      "Rejected: \t104\n",
      "Iteration: \t77 / 100\n",
      "Confirmed: \t59\n",
      "Tentative: \t26\n",
      "Rejected: \t104\n",
      "Iteration: \t78 / 100\n",
      "Confirmed: \t59\n",
      "Tentative: \t26\n",
      "Rejected: \t104\n",
      "Iteration: \t79 / 100\n",
      "Confirmed: \t59\n",
      "Tentative: \t26\n",
      "Rejected: \t104\n",
      "Iteration: \t80 / 100\n",
      "Confirmed: \t59\n",
      "Tentative: \t26\n",
      "Rejected: \t104\n",
      "Iteration: \t81 / 100\n",
      "Confirmed: \t59\n",
      "Tentative: \t26\n",
      "Rejected: \t104\n",
      "Iteration: \t82 / 100\n",
      "Confirmed: \t59\n",
      "Tentative: \t26\n",
      "Rejected: \t104\n",
      "Iteration: \t83 / 100\n",
      "Confirmed: \t59\n",
      "Tentative: \t26\n",
      "Rejected: \t104\n",
      "Iteration: \t84 / 100\n",
      "Confirmed: \t59\n",
      "Tentative: \t26\n",
      "Rejected: \t104\n",
      "Iteration: \t85 / 100\n",
      "Confirmed: \t59\n",
      "Tentative: \t26\n",
      "Rejected: \t104\n",
      "Iteration: \t86 / 100\n",
      "Confirmed: \t59\n",
      "Tentative: \t26\n",
      "Rejected: \t104\n",
      "Iteration: \t87 / 100\n",
      "Confirmed: \t59\n",
      "Tentative: \t25\n",
      "Rejected: \t105\n",
      "Iteration: \t88 / 100\n",
      "Confirmed: \t59\n",
      "Tentative: \t25\n",
      "Rejected: \t105\n",
      "Iteration: \t89 / 100\n",
      "Confirmed: \t59\n",
      "Tentative: \t25\n",
      "Rejected: \t105\n",
      "Iteration: \t90 / 100\n",
      "Confirmed: \t60\n",
      "Tentative: \t24\n",
      "Rejected: \t105\n",
      "Iteration: \t91 / 100\n",
      "Confirmed: \t60\n",
      "Tentative: \t24\n",
      "Rejected: \t105\n",
      "Iteration: \t92 / 100\n",
      "Confirmed: \t60\n",
      "Tentative: \t23\n",
      "Rejected: \t106\n",
      "Iteration: \t93 / 100\n",
      "Confirmed: \t60\n",
      "Tentative: \t23\n",
      "Rejected: \t106\n",
      "Iteration: \t94 / 100\n",
      "Confirmed: \t60\n",
      "Tentative: \t23\n",
      "Rejected: \t106\n",
      "Iteration: \t95 / 100\n",
      "Confirmed: \t60\n",
      "Tentative: \t23\n",
      "Rejected: \t106\n",
      "Iteration: \t96 / 100\n",
      "Confirmed: \t60\n",
      "Tentative: \t23\n",
      "Rejected: \t106\n",
      "Iteration: \t97 / 100\n",
      "Confirmed: \t60\n",
      "Tentative: \t23\n",
      "Rejected: \t106\n",
      "Iteration: \t98 / 100\n",
      "Confirmed: \t60\n",
      "Tentative: \t23\n",
      "Rejected: \t106\n",
      "Iteration: \t99 / 100\n",
      "Confirmed: \t60\n",
      "Tentative: \t23\n",
      "Rejected: \t106\n",
      "\n",
      "\n",
      "BorutaPy finished running.\n",
      "\n",
      "Iteration: \t100 / 100\n",
      "Confirmed: \t60\n",
      "Tentative: \t8\n",
      "Rejected: \t106\n"
     ]
    },
    {
     "data": {
      "text/plain": [
       "BorutaPy(alpha=0.05,\n",
       "         estimator=RandomForestClassifier(bootstrap=True, ccp_alpha=0.0,\n",
       "                                          class_weight=None, criterion='gini',\n",
       "                                          max_depth=7, max_features='auto',\n",
       "                                          max_leaf_nodes=None, max_samples=None,\n",
       "                                          min_impurity_decrease=0.0,\n",
       "                                          min_impurity_split=None,\n",
       "                                          min_samples_leaf=1,\n",
       "                                          min_samples_split=2,\n",
       "                                          min_weight_fraction_leaf=0.0,\n",
       "                                          n_estimators=184, n_jobs=None,\n",
       "                                          oob_score=False,\n",
       "                                          random_state=RandomState(MT19937) at 0x206FFA85150,\n",
       "                                          verbose=0, warm_start=False),\n",
       "         max_iter=100, n_estimators='auto', perc=100,\n",
       "         random_state=RandomState(MT19937) at 0x206FFA85150, two_step=False,\n",
       "         verbose=2)"
      ]
     },
     "execution_count": 19,
     "metadata": {},
     "output_type": "execute_result"
    }
   ],
   "source": [
    "feat_sel.fit(train_X.values, train_y.values)"
   ]
  },
  {
   "cell_type": "code",
   "execution_count": 20,
   "metadata": {},
   "outputs": [
    {
     "name": "stdout",
     "output_type": "stream",
     "text": [
      "<class 'pandas.core.frame.DataFrame'>\n",
      "Int64Index: 680 entries, 745 to 494\n",
      "Columns: 189 entries, Age to T_Bil - TP\n",
      "dtypes: float16(55), float32(133), int16(1)\n",
      "memory usage: 433.0 KB\n"
     ]
    }
   ],
   "source": [
    "train_X.info()"
   ]
  },
  {
   "cell_type": "markdown",
   "metadata": {},
   "source": [
    "## 予測に使う特徴量"
   ]
  },
  {
   "cell_type": "code",
   "execution_count": 21,
   "metadata": {},
   "outputs": [
    {
     "data": {
      "text/plain": [
       "array([False,  True, False, False, False,  True, False, False, False,\n",
       "       False,  True,  True, False, False, False, False,  True,  True,\n",
       "        True,  True, False,  True,  True,  True, False,  True,  True,\n",
       "        True,  True, False, False, False, False, False, False, False,\n",
       "       False, False,  True, False, False, False, False,  True, False,\n",
       "       False,  True,  True, False, False,  True, False,  True, False,\n",
       "       False, False, False, False, False, False, False,  True, False,\n",
       "       False, False,  True, False,  True, False,  True, False, False,\n",
       "       False,  True, False, False, False, False, False, False, False,\n",
       "       False, False, False, False, False, False,  True,  True, False,\n",
       "        True, False,  True,  True, False, False, False, False,  True,\n",
       "        True, False, False, False,  True, False, False, False, False,\n",
       "        True,  True, False, False, False, False,  True, False,  True,\n",
       "       False, False, False, False, False, False, False, False,  True,\n",
       "        True,  True, False,  True,  True,  True, False,  True,  True,\n",
       "        True,  True, False, False, False, False, False, False, False,\n",
       "       False, False, False, False, False,  True, False,  True,  True,\n",
       "       False,  True,  True, False, False,  True, False,  True, False,\n",
       "       False, False, False, False, False, False,  True, False, False,\n",
       "        True, False, False, False, False, False, False, False, False,\n",
       "       False,  True,  True, False, False, False, False,  True, False])"
      ]
     },
     "execution_count": 21,
     "metadata": {},
     "output_type": "execute_result"
    }
   ],
   "source": [
    "feat_sel.support_"
   ]
  },
  {
   "cell_type": "code",
   "execution_count": 22,
   "metadata": {},
   "outputs": [
    {
     "data": {
      "text/plain": [
       "Index(['T_Bil', 'AST_GOT', 'AG_ratio + ALT_GPT', 'AG_ratio + AST_GOT',\n",
       "       'AG_ratio + T_Bil', 'ALP + ALT_GPT', 'ALP + AST_GOT', 'ALP + D_Bil',\n",
       "       'ALP + T_Bil', 'ALT_GPT + AST_GOT', 'ALT_GPT + D_Bil',\n",
       "       'ALT_GPT + T_Bil', 'AST_GOT + D_Bil', 'AST_GOT + TP', 'AST_GOT + T_Bil',\n",
       "       'Alb + AST_GOT', 'D_Bil + T_Bil', 'AG_ratio / ALT_GPT',\n",
       "       'AG_ratio / AST_GOT', 'AG_ratio / D_Bil', 'AG_ratio / T_Bil',\n",
       "       'ALT_GPT / AG_ratio', 'ALT_GPT / Alb', 'ALT_GPT / TP',\n",
       "       'AST_GOT / AG_ratio', 'AST_GOT / Alb', 'Alb / ALT_GPT', 'Alb / AST_GOT',\n",
       "       'Alb / D_Bil', 'Alb / T_Bil', 'D_Bil / AG_ratio', 'D_Bil / Alb',\n",
       "       'D_Bil / TP', 'TP / ALT_GPT', 'TP / T_Bil', 'T_Bil / AG_ratio',\n",
       "       'T_Bil / Alb', 'T_Bil / TP', 'ALP * ALT_GPT', 'ALP * AST_GOT',\n",
       "       'ALP * D_Bil', 'ALP * T_Bil', 'ALT_GPT * AST_GOT', 'ALT_GPT * D_Bil',\n",
       "       'ALT_GPT * T_Bil', 'AST_GOT * D_Bil', 'AST_GOT * TP', 'AST_GOT * T_Bil',\n",
       "       'Alb * T_Bil', 'D_Bil * T_Bil', 'T_Bil * TP', 'AG_ratio - ALT_GPT',\n",
       "       'AG_ratio - AST_GOT', 'AG_ratio - D_Bil', 'AG_ratio - T_Bil',\n",
       "       'ALT_GPT - TP', 'AST_GOT - TP', 'Alb - ALT_GPT', 'Alb - AST_GOT',\n",
       "       'D_Bil - T_Bil'],\n",
       "      dtype='object')"
      ]
     },
     "execution_count": 22,
     "metadata": {},
     "output_type": "execute_result"
    }
   ],
   "source": [
    "train_X.columns[feat_sel.support_]"
   ]
  },
  {
   "cell_type": "code",
   "execution_count": 23,
   "metadata": {},
   "outputs": [
    {
     "data": {
      "text/plain": [
       "60"
      ]
     },
     "execution_count": 23,
     "metadata": {},
     "output_type": "execute_result"
    }
   ],
   "source": [
    "len(train_X.columns[feat_sel.support_])"
   ]
  },
  {
   "cell_type": "markdown",
   "metadata": {},
   "source": [
    "## 不要な特徴量"
   ]
  },
  {
   "cell_type": "code",
   "execution_count": 24,
   "metadata": {},
   "outputs": [
    {
     "data": {
      "text/plain": [
       "Index(['Age', 'D_Bil', 'ALP', 'ALT_GPT', 'TP', 'Alb', 'AG_ratio',\n",
       "       'AG_ratio + ALP', 'AG_ratio + Age', 'AG_ratio + Alb',\n",
       "       ...\n",
       "       'Age - Alb', 'Age - D_Bil', 'Age - TP', 'Age - T_Bil', 'Alb - ALP',\n",
       "       'Alb - D_Bil', 'Alb - TP', 'Alb - T_Bil', 'D_Bil - TP', 'T_Bil - TP'],\n",
       "      dtype='object', length=129)"
      ]
     },
     "execution_count": 24,
     "metadata": {},
     "output_type": "execute_result"
    }
   ],
   "source": [
    "train_X.columns[~feat_sel.support_]"
   ]
  },
  {
   "cell_type": "code",
   "execution_count": 25,
   "metadata": {},
   "outputs": [
    {
     "data": {
      "text/plain": [
       "129"
      ]
     },
     "execution_count": 25,
     "metadata": {},
     "output_type": "execute_result"
    }
   ],
   "source": [
    "len(train_X.columns[~feat_sel.support_])"
   ]
  },
  {
   "cell_type": "markdown",
   "metadata": {},
   "source": [
    "## 必要な特徴量で再実行"
   ]
  },
  {
   "cell_type": "code",
   "execution_count": 84,
   "metadata": {},
   "outputs": [],
   "source": [
    "train_X_sel = train_X.iloc[:, feat_sel.support_]"
   ]
  },
  {
   "cell_type": "code",
   "execution_count": 85,
   "metadata": {},
   "outputs": [],
   "source": [
    "XGB3 = XGBClassifier(lambda_l1=0, lamba_l2=1, max_depth=7, romdam_stat=4242)\n",
    "# XGB = XGBClassifier(random_state=4242)"
   ]
  },
  {
   "cell_type": "code",
   "execution_count": 87,
   "metadata": {},
   "outputs": [
    {
     "name": "stdout",
     "output_type": "stream",
     "text": [
      "[0]\tvalidation_0-auc:0.907561\n",
      "Will train until validation_0-auc hasn't improved in 20 rounds.\n",
      "[1]\tvalidation_0-auc:0.906453\n",
      "[2]\tvalidation_0-auc:0.92231\n",
      "[3]\tvalidation_0-auc:0.921064\n",
      "[4]\tvalidation_0-auc:0.919886\n",
      "[5]\tvalidation_0-auc:0.918709\n",
      "[6]\tvalidation_0-auc:0.920787\n",
      "[7]\tvalidation_0-auc:0.924318\n",
      "[8]\tvalidation_0-auc:0.924179\n",
      "[9]\tvalidation_0-auc:0.926395\n",
      "[10]\tvalidation_0-auc:0.93145\n",
      "[11]\tvalidation_0-auc:0.93415\n",
      "[12]\tvalidation_0-auc:0.936089\n",
      "[13]\tvalidation_0-auc:0.938028\n",
      "[14]\tvalidation_0-auc:0.940936\n",
      "[15]\tvalidation_0-auc:0.941906\n",
      "[16]\tvalidation_0-auc:0.94336\n",
      "[17]\tvalidation_0-auc:0.942944\n",
      "[18]\tvalidation_0-auc:0.943775\n",
      "[19]\tvalidation_0-auc:0.94426\n",
      "[20]\tvalidation_0-auc:0.944121\n",
      "[21]\tvalidation_0-auc:0.94973\n",
      "[22]\tvalidation_0-auc:0.950976\n",
      "[23]\tvalidation_0-auc:0.950561\n",
      "[24]\tvalidation_0-auc:0.951392\n",
      "[25]\tvalidation_0-auc:0.950422\n",
      "[26]\tvalidation_0-auc:0.949868\n",
      "[27]\tvalidation_0-auc:0.950145\n",
      "[28]\tvalidation_0-auc:0.9525\n",
      "[29]\tvalidation_0-auc:0.9525\n",
      "[30]\tvalidation_0-auc:0.951807\n",
      "[31]\tvalidation_0-auc:0.953192\n",
      "[32]\tvalidation_0-auc:0.953608\n",
      "[33]\tvalidation_0-auc:0.955823\n",
      "[34]\tvalidation_0-auc:0.955131\n",
      "[35]\tvalidation_0-auc:0.955962\n",
      "[36]\tvalidation_0-auc:0.954854\n",
      "[37]\tvalidation_0-auc:0.954438\n",
      "[38]\tvalidation_0-auc:0.955546\n",
      "[39]\tvalidation_0-auc:0.955269\n",
      "[40]\tvalidation_0-auc:0.956793\n",
      "[41]\tvalidation_0-auc:0.957347\n",
      "[42]\tvalidation_0-auc:0.955685\n",
      "[43]\tvalidation_0-auc:0.95707\n",
      "[44]\tvalidation_0-auc:0.957208\n",
      "[45]\tvalidation_0-auc:0.956377\n",
      "[46]\tvalidation_0-auc:0.956931\n",
      "[47]\tvalidation_0-auc:0.957208\n",
      "[48]\tvalidation_0-auc:0.956931\n",
      "[49]\tvalidation_0-auc:0.956654\n",
      "[50]\tvalidation_0-auc:0.956654\n",
      "[51]\tvalidation_0-auc:0.956654\n",
      "[52]\tvalidation_0-auc:0.956654\n",
      "[53]\tvalidation_0-auc:0.956377\n",
      "[54]\tvalidation_0-auc:0.956516\n",
      "[55]\tvalidation_0-auc:0.95707\n",
      "[56]\tvalidation_0-auc:0.957347\n",
      "[57]\tvalidation_0-auc:0.957485\n",
      "[58]\tvalidation_0-auc:0.957347\n",
      "[59]\tvalidation_0-auc:0.957485\n",
      "[60]\tvalidation_0-auc:0.957624\n",
      "[61]\tvalidation_0-auc:0.957208\n",
      "[62]\tvalidation_0-auc:0.956654\n",
      "[63]\tvalidation_0-auc:0.956377\n",
      "[64]\tvalidation_0-auc:0.956516\n",
      "[65]\tvalidation_0-auc:0.95707\n",
      "[66]\tvalidation_0-auc:0.957208\n",
      "[67]\tvalidation_0-auc:0.957624\n",
      "[68]\tvalidation_0-auc:0.958039\n",
      "[69]\tvalidation_0-auc:0.958454\n",
      "[70]\tvalidation_0-auc:0.95887\n",
      "[71]\tvalidation_0-auc:0.958731\n",
      "[72]\tvalidation_0-auc:0.958731\n",
      "[73]\tvalidation_0-auc:0.957762\n",
      "[74]\tvalidation_0-auc:0.957762\n",
      "[75]\tvalidation_0-auc:0.957762\n",
      "[76]\tvalidation_0-auc:0.957762\n",
      "[77]\tvalidation_0-auc:0.958316\n",
      "[78]\tvalidation_0-auc:0.957901\n",
      "[79]\tvalidation_0-auc:0.958316\n",
      "[80]\tvalidation_0-auc:0.958178\n",
      "[81]\tvalidation_0-auc:0.958039\n",
      "[82]\tvalidation_0-auc:0.957762\n",
      "[83]\tvalidation_0-auc:0.957347\n",
      "[84]\tvalidation_0-auc:0.957624\n",
      "[85]\tvalidation_0-auc:0.957347\n",
      "[86]\tvalidation_0-auc:0.957208\n",
      "[87]\tvalidation_0-auc:0.95707\n",
      "[88]\tvalidation_0-auc:0.956931\n",
      "[89]\tvalidation_0-auc:0.956654\n",
      "[90]\tvalidation_0-auc:0.956654\n",
      "Stopping. Best iteration:\n",
      "[70]\tvalidation_0-auc:0.95887\n",
      "\n"
     ]
    },
    {
     "name": "stderr",
     "output_type": "stream",
     "text": [
      "Exception ignored in: <bound method Booster.__del__ of <xgboost.core.Booster object at 0x000002068316FCF8>>\n",
      "Traceback (most recent call last):\n",
      "  File \"C:\\Users\\owner\\Anaconda3\\lib\\site-packages\\xgboost\\core.py\", line 957, in __del__\n",
      "    if self.handle is not None:\n",
      "AttributeError: 'Booster' object has no attribute 'handle'\n"
     ]
    }
   ],
   "source": [
    "XGB3 = XGB3.fit(train_X_sel, train_y, early_stopping_rounds=20, eval_metric='auc', eval_set=[(test_X_sel, test_y)])"
   ]
  },
  {
   "cell_type": "code",
   "execution_count": 88,
   "metadata": {},
   "outputs": [
    {
     "data": {
      "text/plain": [
       "[(0.019, 'T_Bil'),\n",
       " (0.014, 'T_Bil / AG_ratio'),\n",
       " (0.014, 'T_Bil * TP'),\n",
       " (0.013, 'Alb / AST_GOT'),\n",
       " (0.011, 'AST_GOT + D_Bil'),\n",
       " (0.01, 'D_Bil * T_Bil'),\n",
       " (0.01, 'ALT_GPT * D_Bil'),\n",
       " (0.01, 'ALP + AST_GOT'),\n",
       " (0.008, 'T_Bil / TP'),\n",
       " (0.008, 'AG_ratio / D_Bil'),\n",
       " (0.007, 'Alb + AST_GOT'),\n",
       " (0.007, 'AST_GOT + T_Bil'),\n",
       " (0.007, 'AST_GOT * TP'),\n",
       " (0.007, 'ALP * AST_GOT'),\n",
       " (0.007, 'AG_ratio / AST_GOT'),\n",
       " (0.006, 'D_Bil + T_Bil'),\n",
       " (0.006, 'AST_GOT * D_Bil'),\n",
       " (0.006, 'ALT_GPT / Alb'),\n",
       " (0.006, 'ALT_GPT + T_Bil'),\n",
       " (0.006, 'AG_ratio - ALT_GPT'),\n",
       " (0.005, 'D_Bil - T_Bil'),\n",
       " (0.005, 'Alb / D_Bil'),\n",
       " (0.005, 'Alb * T_Bil'),\n",
       " (0.005, 'AST_GOT * T_Bil'),\n",
       " (0.005, 'AST_GOT'),\n",
       " (0.005, 'ALT_GPT / AG_ratio'),\n",
       " (0.005, 'ALT_GPT * AST_GOT'),\n",
       " (0.005, 'ALP + T_Bil'),\n",
       " (0.005, 'ALP + D_Bil'),\n",
       " (0.005, 'ALP + ALT_GPT'),\n",
       " (0.005, 'AG_ratio / ALT_GPT'),\n",
       " (0.005, 'AG_ratio - AST_GOT'),\n",
       " (0.005, 'AG_ratio + ALT_GPT'),\n",
       " (0.004, 'D_Bil / Alb'),\n",
       " (0.004, 'Alb / T_Bil'),\n",
       " (0.004, 'Alb - AST_GOT'),\n",
       " (0.004, 'Alb - ALT_GPT'),\n",
       " (0.004, 'ALT_GPT - TP'),\n",
       " (0.004, 'ALT_GPT * T_Bil'),\n",
       " (0.004, 'ALP * T_Bil'),\n",
       " (0.003, 'D_Bil / TP'),\n",
       " (0.003, 'AST_GOT + TP'),\n",
       " (0.003, 'AG_ratio - T_Bil'),\n",
       " (0.003, 'AG_ratio + AST_GOT'),\n",
       " (0.002, 'TP / ALT_GPT'),\n",
       " (0.002, 'D_Bil / AG_ratio'),\n",
       " (0.002, 'AST_GOT - TP'),\n",
       " (0.002, 'AG_ratio / T_Bil'),\n",
       " (0.002, 'AG_ratio + T_Bil'),\n",
       " (0.001, 'ALP * D_Bil'),\n",
       " (0.001, 'ALP * ALT_GPT'),\n",
       " (0.0, 'T_Bil / Alb'),\n",
       " (0.0, 'TP / T_Bil'),\n",
       " (0.0, 'Alb / ALT_GPT'),\n",
       " (0.0, 'AST_GOT / Alb'),\n",
       " (0.0, 'AST_GOT / AG_ratio'),\n",
       " (0.0, 'ALT_GPT / TP'),\n",
       " (0.0, 'ALT_GPT + D_Bil'),\n",
       " (0.0, 'ALT_GPT + AST_GOT'),\n",
       " (0.0, 'AG_ratio - D_Bil')]"
      ]
     },
     "execution_count": 88,
     "metadata": {},
     "output_type": "execute_result"
    }
   ],
   "source": [
    "sorted(\n",
    "    zip(map(lambda x: round(x, 3), XGB.feature_importances_), train_X_sel.iloc[:, :].columns),\n",
    "    reverse=True)"
   ]
  },
  {
   "cell_type": "markdown",
   "metadata": {},
   "source": [
    "## テストデータで実行"
   ]
  },
  {
   "cell_type": "code",
   "execution_count": 89,
   "metadata": {},
   "outputs": [
    {
     "data": {
      "text/plain": [
       "((170, 189), (170,))"
      ]
     },
     "execution_count": 89,
     "metadata": {},
     "output_type": "execute_result"
    }
   ],
   "source": [
    "test_x.shape, test_y.shape"
   ]
  },
  {
   "cell_type": "code",
   "execution_count": 90,
   "metadata": {},
   "outputs": [],
   "source": [
    "test_X_sel = test_x.iloc[:, feat_sel.support_]"
   ]
  },
  {
   "cell_type": "code",
   "execution_count": 91,
   "metadata": {},
   "outputs": [
    {
     "data": {
      "text/plain": [
       "(170, 60)"
      ]
     },
     "execution_count": 91,
     "metadata": {},
     "output_type": "execute_result"
    }
   ],
   "source": [
    "test_X_sel.shape"
   ]
  },
  {
   "cell_type": "code",
   "execution_count": 92,
   "metadata": {},
   "outputs": [],
   "source": [
    "pred_y = XGB3.predict(test_X_sel)"
   ]
  },
  {
   "cell_type": "code",
   "execution_count": 93,
   "metadata": {},
   "outputs": [
    {
     "data": {
      "text/plain": [
       "array([[79,  8],\n",
       "       [12, 71]], dtype=int64)"
      ]
     },
     "execution_count": 93,
     "metadata": {},
     "output_type": "execute_result"
    }
   ],
   "source": [
    "confusion_matrix(test_y, pred_y)"
   ]
  },
  {
   "cell_type": "code",
   "execution_count": 94,
   "metadata": {},
   "outputs": [
    {
     "data": {
      "text/plain": [
       "0.8823529411764706"
      ]
     },
     "execution_count": 94,
     "metadata": {},
     "output_type": "execute_result"
    }
   ],
   "source": [
    "accuracy_score(test_y, pred_y)"
   ]
  },
  {
   "cell_type": "code",
   "execution_count": 95,
   "metadata": {},
   "outputs": [
    {
     "data": {
      "text/plain": [
       "(83, 79)"
      ]
     },
     "execution_count": 95,
     "metadata": {},
     "output_type": "execute_result"
    }
   ],
   "source": [
    "test_y.sum(), pred_y.sum()"
   ]
  },
  {
   "cell_type": "markdown",
   "metadata": {},
   "source": [
    "## ROC曲線"
   ]
  },
  {
   "cell_type": "code",
   "execution_count": 113,
   "metadata": {},
   "outputs": [
    {
     "data": {
      "text/plain": [
       "0.881733831879241"
      ]
     },
     "execution_count": 113,
     "metadata": {},
     "output_type": "execute_result"
    }
   ],
   "source": [
    "roc_auc_score(test_y, pred_y)"
   ]
  },
  {
   "cell_type": "code",
   "execution_count": 114,
   "metadata": {},
   "outputs": [],
   "source": [
    "fpr, tpr, thr = roc_curve(test_y, pred_y)"
   ]
  },
  {
   "cell_type": "code",
   "execution_count": 115,
   "metadata": {},
   "outputs": [],
   "source": [
    "auc = metrics.auc(fpr, tpr)"
   ]
  },
  {
   "cell_type": "code",
   "execution_count": 116,
   "metadata": {},
   "outputs": [
    {
     "data": {
      "text/plain": [
       "0.881733831879241"
      ]
     },
     "execution_count": 116,
     "metadata": {},
     "output_type": "execute_result"
    }
   ],
   "source": [
    "auc"
   ]
  },
  {
   "cell_type": "code",
   "execution_count": 117,
   "metadata": {},
   "outputs": [
    {
     "data": {
      "image/png": "[encoded data removed]",
      "text/plain": [
       "<Figure size 432x288 with 1 Axes>"
      ]
     },
     "metadata": {
      "needs_background": "light"
     },
     "output_type": "display_data"
    }
   ],
   "source": [
    "plt.plot(fpr, tpr, label=\"ROC Curve %.2f\"%auc)\n",
    "plt.legend()\n",
    "plt.xlabel('FPR')\n",
    "plt.ylabel(\"TPR\")\n",
    "plt.grid()\n",
    "plt.show()"
   ]
  },
  {
   "cell_type": "markdown",
   "metadata": {},
   "source": [
    "## 学習曲線"
   ]
  },
  {
   "cell_type": "code",
   "execution_count": 108,
   "metadata": {},
   "outputs": [],
   "source": [
    "XGB2 = XGBClassifier(lambda_l1=0, lamba_l2=1, max_depth=7, romdam_stat=4242)"
   ]
  },
  {
   "cell_type": "code",
   "execution_count": 109,
   "metadata": {},
   "outputs": [
    {
     "data": {
      "text/plain": [
       "((680, 189), (170, 189))"
      ]
     },
     "execution_count": 109,
     "metadata": {},
     "output_type": "execute_result"
    }
   ],
   "source": [
    "train_X.shape, test_x.shape"
   ]
  },
  {
   "cell_type": "code",
   "execution_count": 110,
   "metadata": {},
   "outputs": [],
   "source": [
    "train_size, train_scores, test_scores = \\\n",
    "learning_curve(estimator=XGB2, X=train_X_sel, y=train_y, \n",
    "               train_sizes=np.linspace(0.1, 1.0, 10))"
   ]
  },
  {
   "cell_type": "code",
   "execution_count": 111,
   "metadata": {},
   "outputs": [],
   "source": [
    "train_mean = train_scores.mean(axis=1)\n",
    "train_std = train_scores.std(axis=1)\n",
    "test_mean = test_scores.mean(axis=1)\n",
    "test_std = test_scores.std(axis=1)"
   ]
  },
  {
   "cell_type": "code",
   "execution_count": 112,
   "metadata": {},
   "outputs": [
    {
     "data": {
      "text/plain": [
       "<matplotlib.collections.PolyCollection at 0x206831802b0>"
      ]
     },
     "execution_count": 112,
     "metadata": {},
     "output_type": "execute_result"
    },
    {
     "data": {
      "image/png": "[encoded data removed]",
      "text/plain": [
       "<Figure size 432x288 with 1 Axes>"
      ]
     },
     "metadata": {
      "needs_background": "light"
     },
     "output_type": "display_data"
    }
   ],
   "source": [
    "plt.plot(train_size, train_mean, color='blue', marker='o', markersize=5, label='training accuracy')\n",
    "plt.plot(train_size, test_mean, color='green', linestyle='--', marker='s', markersize=5, label='validation accuracy')\n",
    "\n",
    "plt.fill_between(train_size, train_mean+train_std, train_mean-train_std, alpha=0.15, color='blue')\n",
    "plt.fill_between(train_size, test_mean+test_std, test_mean-test_std, alpha=0.15, color='green')\n"
   ]
  },
  {
   "cell_type": "markdown",
   "metadata": {},
   "source": [
    "## 検証データで実行"
   ]
  },
  {
   "cell_type": "code",
   "execution_count": 37,
   "metadata": {},
   "outputs": [],
   "source": [
    "# 検証データ読み込み\n",
    "valid = pd.read_pickle('../001/test.pk1')"
   ]
  },
  {
   "cell_type": "code",
   "execution_count": 38,
   "metadata": {},
   "outputs": [
    {
     "data": {
      "text/plain": [
       "(350, 10)"
      ]
     },
     "execution_count": 38,
     "metadata": {},
     "output_type": "execute_result"
    }
   ],
   "source": [
    "valid.shape"
   ]
  },
  {
   "cell_type": "code",
   "execution_count": 39,
   "metadata": {},
   "outputs": [
    {
     "data": {
      "text/plain": [
       "pandas.core.frame.DataFrame"
      ]
     },
     "execution_count": 39,
     "metadata": {},
     "output_type": "execute_result"
    }
   ],
   "source": [
    "type(valid)"
   ]
  },
  {
   "cell_type": "code",
   "execution_count": 40,
   "metadata": {},
   "outputs": [],
   "source": [
    "# valid_X = valid.iloc[:, 1:]\n",
    "valid_X = valid.copy()"
   ]
  },
  {
   "cell_type": "code",
   "execution_count": 41,
   "metadata": {},
   "outputs": [
    {
     "data": {
      "text/html": [
       "<div>\n",
       "<style scoped>\n",
       "    .dataframe tbody tr th:only-of-type {\n",
       "        vertical-align: middle;\n",
       "    }\n",
       "\n",
       "    .dataframe tbody tr th {\n",
       "        vertical-align: top;\n",
       "    }\n",
       "\n",
       "    .dataframe thead th {\n",
       "        text-align: right;\n",
       "    }\n",
       "</style>\n",
       "<table border=\"1\" class=\"dataframe\">\n",
       "  <thead>\n",
       "    <tr style=\"text-align: right;\">\n",
       "      <th></th>\n",
       "      <th>Age</th>\n",
       "      <th>T_Bil</th>\n",
       "      <th>D_Bil</th>\n",
       "      <th>ALP</th>\n",
       "      <th>ALT_GPT</th>\n",
       "      <th>AST_GOT</th>\n",
       "      <th>TP</th>\n",
       "      <th>Alb</th>\n",
       "      <th>AG_ratio</th>\n",
       "      <th>Gender_Male</th>\n",
       "    </tr>\n",
       "  </thead>\n",
       "  <tbody>\n",
       "    <tr>\n",
       "      <th>0</th>\n",
       "      <td>25</td>\n",
       "      <td>0.801758</td>\n",
       "      <td>0.186768</td>\n",
       "      <td>214.448685</td>\n",
       "      <td>15.260516</td>\n",
       "      <td>19.496649</td>\n",
       "      <td>6.816406</td>\n",
       "      <td>3.601562</td>\n",
       "      <td>1.288086</td>\n",
       "      <td>1</td>\n",
       "    </tr>\n",
       "    <tr>\n",
       "      <th>1</th>\n",
       "      <td>26</td>\n",
       "      <td>0.834961</td>\n",
       "      <td>0.116455</td>\n",
       "      <td>234.136810</td>\n",
       "      <td>10.509159</td>\n",
       "      <td>16.733311</td>\n",
       "      <td>6.796875</td>\n",
       "      <td>3.111328</td>\n",
       "      <td>1.030273</td>\n",
       "      <td>0</td>\n",
       "    </tr>\n",
       "    <tr>\n",
       "      <th>2</th>\n",
       "      <td>64</td>\n",
       "      <td>0.791992</td>\n",
       "      <td>0.197998</td>\n",
       "      <td>216.039902</td>\n",
       "      <td>14.578304</td>\n",
       "      <td>20.695866</td>\n",
       "      <td>7.523438</td>\n",
       "      <td>3.626953</td>\n",
       "      <td>1.278320</td>\n",
       "      <td>1</td>\n",
       "    </tr>\n",
       "    <tr>\n",
       "      <th>3</th>\n",
       "      <td>65</td>\n",
       "      <td>0.833984</td>\n",
       "      <td>0.175781</td>\n",
       "      <td>200.901123</td>\n",
       "      <td>12.820356</td>\n",
       "      <td>20.102516</td>\n",
       "      <td>6.828125</td>\n",
       "      <td>3.626953</td>\n",
       "      <td>1.275391</td>\n",
       "      <td>1</td>\n",
       "    </tr>\n",
       "    <tr>\n",
       "      <th>4</th>\n",
       "      <td>34</td>\n",
       "      <td>0.690430</td>\n",
       "      <td>0.135498</td>\n",
       "      <td>208.705841</td>\n",
       "      <td>20.279018</td>\n",
       "      <td>25.096685</td>\n",
       "      <td>8.664062</td>\n",
       "      <td>4.171875</td>\n",
       "      <td>1.280273</td>\n",
       "      <td>0</td>\n",
       "    </tr>\n",
       "  </tbody>\n",
       "</table>\n",
       "</div>"
      ],
      "text/plain": [
       "   Age     T_Bil     D_Bil         ALP    ALT_GPT    AST_GOT        TP  \\\n",
       "0   25  0.801758  0.186768  214.448685  15.260516  19.496649  6.816406   \n",
       "1   26  0.834961  0.116455  234.136810  10.509159  16.733311  6.796875   \n",
       "2   64  0.791992  0.197998  216.039902  14.578304  20.695866  7.523438   \n",
       "3   65  0.833984  0.175781  200.901123  12.820356  20.102516  6.828125   \n",
       "4   34  0.690430  0.135498  208.705841  20.279018  25.096685  8.664062   \n",
       "\n",
       "        Alb  AG_ratio  Gender_Male  \n",
       "0  3.601562  1.288086            1  \n",
       "1  3.111328  1.030273            0  \n",
       "2  3.626953  1.278320            1  \n",
       "3  3.626953  1.275391            1  \n",
       "4  4.171875  1.280273            0  "
      ]
     },
     "execution_count": 41,
     "metadata": {},
     "output_type": "execute_result"
    }
   ],
   "source": [
    "valid_X.head()"
   ]
  },
  {
   "cell_type": "code",
   "execution_count": 42,
   "metadata": {},
   "outputs": [],
   "source": [
    "# 年齢、性別は削除\n",
    "valid_X.drop(['Gender_Male'], axis=1, inplace=True)"
   ]
  },
  {
   "cell_type": "code",
   "execution_count": 43,
   "metadata": {},
   "outputs": [
    {
     "data": {
      "text/plain": [
       "(350, 9)"
      ]
     },
     "execution_count": 43,
     "metadata": {},
     "output_type": "execute_result"
    }
   ],
   "source": [
    "valid_X.shape"
   ]
  },
  {
   "cell_type": "code",
   "execution_count": 44,
   "metadata": {},
   "outputs": [],
   "source": [
    "es2 = ft.EntitySet(id='feature2')"
   ]
  },
  {
   "cell_type": "code",
   "execution_count": 45,
   "metadata": {},
   "outputs": [
    {
     "name": "stderr",
     "output_type": "stream",
     "text": [
      "C:\\Users\\owner\\Anaconda3\\lib\\site-packages\\featuretools\\entityset\\entity.py:609: UserWarning: index index not found in dataframe, creating new integer column\n",
      "  \"integer column\".format(index))\n"
     ]
    },
    {
     "data": {
      "text/plain": [
       "Entityset: feature2\n",
       "  Entities:\n",
       "    feature_id2 [Rows: 350, Columns: 10]\n",
       "  Relationships:\n",
       "    No relationships"
      ]
     },
     "execution_count": 45,
     "metadata": {},
     "output_type": "execute_result"
    }
   ],
   "source": [
    "es2.entity_from_dataframe( \n",
    "    entity_id='feature_id2',\n",
    "    dataframe=valid_X,\n",
    "    index='index',\n",
    "    variable_types={}\n",
    ")"
   ]
  },
  {
   "cell_type": "code",
   "execution_count": 46,
   "metadata": {},
   "outputs": [
    {
     "name": "stderr",
     "output_type": "stream",
     "text": [
      "C:\\Users\\owner\\Anaconda3\\lib\\site-packages\\featuretools\\synthesis\\dfs.py:317: UnusedPrimitiveWarning: Some specified primitives were not used during DFS:\n",
      "  agg_primitives: ['count', 'max', 'mean', 'skew', 'std', 'sum']\n",
      "This may be caused by a using a value of max_depth that is too small, not setting interesting values, or it may indicate no compatible variable types for the primitive were found in the data.\n",
      "  warnings.warn(warning_msg, UnusedPrimitiveWarning)\n"
     ]
    }
   ],
   "source": [
    "feature_matrix, features_dfs = ft.dfs(\n",
    "    entityset=es2,\n",
    "    target_entity='feature_id2',\n",
    "    agg_primitives=['sum', 'mean', 'std', 'max', 'count', 'skew'],\n",
    "    trans_primitives=['add_numeric', 'subtract_numeric', 'multiply_numeric', 'divide_numeric'],\n",
    "    max_depth=1,\n",
    ")"
   ]
  },
  {
   "cell_type": "code",
   "execution_count": 47,
   "metadata": {},
   "outputs": [
    {
     "data": {
      "text/html": [
       "<div>\n",
       "<style scoped>\n",
       "    .dataframe tbody tr th:only-of-type {\n",
       "        vertical-align: middle;\n",
       "    }\n",
       "\n",
       "    .dataframe tbody tr th {\n",
       "        vertical-align: top;\n",
       "    }\n",
       "\n",
       "    .dataframe thead th {\n",
       "        text-align: right;\n",
       "    }\n",
       "</style>\n",
       "<table border=\"1\" class=\"dataframe\">\n",
       "  <thead>\n",
       "    <tr style=\"text-align: right;\">\n",
       "      <th></th>\n",
       "      <th>Age</th>\n",
       "      <th>T_Bil</th>\n",
       "      <th>D_Bil</th>\n",
       "      <th>ALP</th>\n",
       "      <th>ALT_GPT</th>\n",
       "      <th>AST_GOT</th>\n",
       "      <th>TP</th>\n",
       "      <th>Alb</th>\n",
       "      <th>AG_ratio</th>\n",
       "      <th>AG_ratio + ALP</th>\n",
       "      <th>...</th>\n",
       "      <th>Age - T_Bil</th>\n",
       "      <th>Alb - ALP</th>\n",
       "      <th>Alb - ALT_GPT</th>\n",
       "      <th>Alb - AST_GOT</th>\n",
       "      <th>Alb - D_Bil</th>\n",
       "      <th>Alb - TP</th>\n",
       "      <th>Alb - T_Bil</th>\n",
       "      <th>D_Bil - TP</th>\n",
       "      <th>D_Bil - T_Bil</th>\n",
       "      <th>T_Bil - TP</th>\n",
       "    </tr>\n",
       "    <tr>\n",
       "      <th>index</th>\n",
       "      <th></th>\n",
       "      <th></th>\n",
       "      <th></th>\n",
       "      <th></th>\n",
       "      <th></th>\n",
       "      <th></th>\n",
       "      <th></th>\n",
       "      <th></th>\n",
       "      <th></th>\n",
       "      <th></th>\n",
       "      <th></th>\n",
       "      <th></th>\n",
       "      <th></th>\n",
       "      <th></th>\n",
       "      <th></th>\n",
       "      <th></th>\n",
       "      <th></th>\n",
       "      <th></th>\n",
       "      <th></th>\n",
       "      <th></th>\n",
       "      <th></th>\n",
       "    </tr>\n",
       "  </thead>\n",
       "  <tbody>\n",
       "    <tr>\n",
       "      <th>0</th>\n",
       "      <td>25</td>\n",
       "      <td>0.801758</td>\n",
       "      <td>0.186768</td>\n",
       "      <td>214.448685</td>\n",
       "      <td>15.260516</td>\n",
       "      <td>19.496649</td>\n",
       "      <td>6.816406</td>\n",
       "      <td>3.601562</td>\n",
       "      <td>1.288086</td>\n",
       "      <td>215.736771</td>\n",
       "      <td>...</td>\n",
       "      <td>24.198242</td>\n",
       "      <td>-210.847122</td>\n",
       "      <td>-11.658954</td>\n",
       "      <td>-15.895086</td>\n",
       "      <td>3.414062</td>\n",
       "      <td>-3.214844</td>\n",
       "      <td>2.800781</td>\n",
       "      <td>-6.628906</td>\n",
       "      <td>-0.615234</td>\n",
       "      <td>-6.015625</td>\n",
       "    </tr>\n",
       "    <tr>\n",
       "      <th>1</th>\n",
       "      <td>26</td>\n",
       "      <td>0.834961</td>\n",
       "      <td>0.116455</td>\n",
       "      <td>234.136810</td>\n",
       "      <td>10.509159</td>\n",
       "      <td>16.733311</td>\n",
       "      <td>6.796875</td>\n",
       "      <td>3.111328</td>\n",
       "      <td>1.030273</td>\n",
       "      <td>235.167084</td>\n",
       "      <td>...</td>\n",
       "      <td>25.165039</td>\n",
       "      <td>-231.025482</td>\n",
       "      <td>-7.397831</td>\n",
       "      <td>-13.621983</td>\n",
       "      <td>2.994141</td>\n",
       "      <td>-3.685547</td>\n",
       "      <td>2.277344</td>\n",
       "      <td>-6.679688</td>\n",
       "      <td>-0.718750</td>\n",
       "      <td>-5.960938</td>\n",
       "    </tr>\n",
       "    <tr>\n",
       "      <th>2</th>\n",
       "      <td>64</td>\n",
       "      <td>0.791992</td>\n",
       "      <td>0.197998</td>\n",
       "      <td>216.039902</td>\n",
       "      <td>14.578304</td>\n",
       "      <td>20.695866</td>\n",
       "      <td>7.523438</td>\n",
       "      <td>3.626953</td>\n",
       "      <td>1.278320</td>\n",
       "      <td>217.318222</td>\n",
       "      <td>...</td>\n",
       "      <td>63.208008</td>\n",
       "      <td>-212.412949</td>\n",
       "      <td>-10.951351</td>\n",
       "      <td>-17.068913</td>\n",
       "      <td>3.429688</td>\n",
       "      <td>-3.896484</td>\n",
       "      <td>2.835938</td>\n",
       "      <td>-7.324219</td>\n",
       "      <td>-0.593750</td>\n",
       "      <td>-6.730469</td>\n",
       "    </tr>\n",
       "    <tr>\n",
       "      <th>3</th>\n",
       "      <td>65</td>\n",
       "      <td>0.833984</td>\n",
       "      <td>0.175781</td>\n",
       "      <td>200.901123</td>\n",
       "      <td>12.820356</td>\n",
       "      <td>20.102516</td>\n",
       "      <td>6.828125</td>\n",
       "      <td>3.626953</td>\n",
       "      <td>1.275391</td>\n",
       "      <td>202.176514</td>\n",
       "      <td>...</td>\n",
       "      <td>64.166016</td>\n",
       "      <td>-197.274170</td>\n",
       "      <td>-9.193403</td>\n",
       "      <td>-16.475563</td>\n",
       "      <td>3.451172</td>\n",
       "      <td>-3.201172</td>\n",
       "      <td>2.792969</td>\n",
       "      <td>-6.652344</td>\n",
       "      <td>-0.658203</td>\n",
       "      <td>-5.992188</td>\n",
       "    </tr>\n",
       "    <tr>\n",
       "      <th>4</th>\n",
       "      <td>34</td>\n",
       "      <td>0.690430</td>\n",
       "      <td>0.135498</td>\n",
       "      <td>208.705841</td>\n",
       "      <td>20.279018</td>\n",
       "      <td>25.096685</td>\n",
       "      <td>8.664062</td>\n",
       "      <td>4.171875</td>\n",
       "      <td>1.280273</td>\n",
       "      <td>209.986115</td>\n",
       "      <td>...</td>\n",
       "      <td>33.309570</td>\n",
       "      <td>-204.533966</td>\n",
       "      <td>-16.107143</td>\n",
       "      <td>-20.924810</td>\n",
       "      <td>4.035156</td>\n",
       "      <td>-4.492188</td>\n",
       "      <td>3.480469</td>\n",
       "      <td>-8.531250</td>\n",
       "      <td>-0.554688</td>\n",
       "      <td>-7.972656</td>\n",
       "    </tr>\n",
       "  </tbody>\n",
       "</table>\n",
       "<p>5 rows × 189 columns</p>\n",
       "</div>"
      ],
      "text/plain": [
       "       Age     T_Bil     D_Bil         ALP    ALT_GPT    AST_GOT        TP  \\\n",
       "index                                                                        \n",
       "0       25  0.801758  0.186768  214.448685  15.260516  19.496649  6.816406   \n",
       "1       26  0.834961  0.116455  234.136810  10.509159  16.733311  6.796875   \n",
       "2       64  0.791992  0.197998  216.039902  14.578304  20.695866  7.523438   \n",
       "3       65  0.833984  0.175781  200.901123  12.820356  20.102516  6.828125   \n",
       "4       34  0.690430  0.135498  208.705841  20.279018  25.096685  8.664062   \n",
       "\n",
       "            Alb  AG_ratio  AG_ratio + ALP  ...  Age - T_Bil   Alb - ALP  \\\n",
       "index                                      ...                            \n",
       "0      3.601562  1.288086      215.736771  ...    24.198242 -210.847122   \n",
       "1      3.111328  1.030273      235.167084  ...    25.165039 -231.025482   \n",
       "2      3.626953  1.278320      217.318222  ...    63.208008 -212.412949   \n",
       "3      3.626953  1.275391      202.176514  ...    64.166016 -197.274170   \n",
       "4      4.171875  1.280273      209.986115  ...    33.309570 -204.533966   \n",
       "\n",
       "       Alb - ALT_GPT  Alb - AST_GOT  Alb - D_Bil  Alb - TP  Alb - T_Bil  \\\n",
       "index                                                                     \n",
       "0         -11.658954     -15.895086     3.414062 -3.214844     2.800781   \n",
       "1          -7.397831     -13.621983     2.994141 -3.685547     2.277344   \n",
       "2         -10.951351     -17.068913     3.429688 -3.896484     2.835938   \n",
       "3          -9.193403     -16.475563     3.451172 -3.201172     2.792969   \n",
       "4         -16.107143     -20.924810     4.035156 -4.492188     3.480469   \n",
       "\n",
       "       D_Bil - TP  D_Bil - T_Bil  T_Bil - TP  \n",
       "index                                         \n",
       "0       -6.628906      -0.615234   -6.015625  \n",
       "1       -6.679688      -0.718750   -5.960938  \n",
       "2       -7.324219      -0.593750   -6.730469  \n",
       "3       -6.652344      -0.658203   -5.992188  \n",
       "4       -8.531250      -0.554688   -7.972656  \n",
       "\n",
       "[5 rows x 189 columns]"
      ]
     },
     "execution_count": 47,
     "metadata": {},
     "output_type": "execute_result"
    }
   ],
   "source": [
    "feature_matrix.head()"
   ]
  },
  {
   "cell_type": "code",
   "execution_count": 67,
   "metadata": {},
   "outputs": [],
   "source": [
    "valid_X = feature_matrix.copy().iloc[:, feat_sel.support_]"
   ]
  },
  {
   "cell_type": "code",
   "execution_count": 68,
   "metadata": {},
   "outputs": [],
   "source": [
    "# valid_X = valid_X.iloc[:, feat_sel.support_]"
   ]
  },
  {
   "cell_type": "code",
   "execution_count": 74,
   "metadata": {},
   "outputs": [
    {
     "data": {
      "text/plain": [
       "((350, 60), (680, 60))"
      ]
     },
     "execution_count": 74,
     "metadata": {},
     "output_type": "execute_result"
    }
   ],
   "source": [
    "valid_X.shape, train_X_sel.shape"
   ]
  },
  {
   "cell_type": "code",
   "execution_count": 75,
   "metadata": {},
   "outputs": [
    {
     "data": {
      "text/html": [
       "<div>\n",
       "<style scoped>\n",
       "    .dataframe tbody tr th:only-of-type {\n",
       "        vertical-align: middle;\n",
       "    }\n",
       "\n",
       "    .dataframe tbody tr th {\n",
       "        vertical-align: top;\n",
       "    }\n",
       "\n",
       "    .dataframe thead th {\n",
       "        text-align: right;\n",
       "    }\n",
       "</style>\n",
       "<table border=\"1\" class=\"dataframe\">\n",
       "  <thead>\n",
       "    <tr style=\"text-align: right;\">\n",
       "      <th></th>\n",
       "      <th>T_Bil</th>\n",
       "      <th>AST_GOT</th>\n",
       "      <th>AG_ratio + ALT_GPT</th>\n",
       "      <th>AG_ratio + AST_GOT</th>\n",
       "      <th>AG_ratio + T_Bil</th>\n",
       "      <th>ALP + ALT_GPT</th>\n",
       "      <th>ALP + AST_GOT</th>\n",
       "      <th>ALP + D_Bil</th>\n",
       "      <th>ALP + T_Bil</th>\n",
       "      <th>ALT_GPT + AST_GOT</th>\n",
       "      <th>...</th>\n",
       "      <th>T_Bil * TP</th>\n",
       "      <th>AG_ratio - ALT_GPT</th>\n",
       "      <th>AG_ratio - AST_GOT</th>\n",
       "      <th>AG_ratio - D_Bil</th>\n",
       "      <th>AG_ratio - T_Bil</th>\n",
       "      <th>ALT_GPT - TP</th>\n",
       "      <th>AST_GOT - TP</th>\n",
       "      <th>Alb - ALT_GPT</th>\n",
       "      <th>Alb - AST_GOT</th>\n",
       "      <th>D_Bil - T_Bil</th>\n",
       "    </tr>\n",
       "    <tr>\n",
       "      <th>index</th>\n",
       "      <th></th>\n",
       "      <th></th>\n",
       "      <th></th>\n",
       "      <th></th>\n",
       "      <th></th>\n",
       "      <th></th>\n",
       "      <th></th>\n",
       "      <th></th>\n",
       "      <th></th>\n",
       "      <th></th>\n",
       "      <th></th>\n",
       "      <th></th>\n",
       "      <th></th>\n",
       "      <th></th>\n",
       "      <th></th>\n",
       "      <th></th>\n",
       "      <th></th>\n",
       "      <th></th>\n",
       "      <th></th>\n",
       "      <th></th>\n",
       "      <th></th>\n",
       "    </tr>\n",
       "  </thead>\n",
       "  <tbody>\n",
       "    <tr>\n",
       "      <th>745</th>\n",
       "      <td>0.733887</td>\n",
       "      <td>18.399479</td>\n",
       "      <td>11.461545</td>\n",
       "      <td>19.725651</td>\n",
       "      <td>2.060547</td>\n",
       "      <td>226.970398</td>\n",
       "      <td>235.234497</td>\n",
       "      <td>216.950562</td>\n",
       "      <td>217.568909</td>\n",
       "      <td>28.534851</td>\n",
       "      <td>...</td>\n",
       "      <td>4.347656</td>\n",
       "      <td>-8.809201</td>\n",
       "      <td>-17.073307</td>\n",
       "      <td>1.210938</td>\n",
       "      <td>0.592285</td>\n",
       "      <td>4.209592</td>\n",
       "      <td>12.473698</td>\n",
       "      <td>-6.527951</td>\n",
       "      <td>-14.792057</td>\n",
       "      <td>-0.618164</td>\n",
       "    </tr>\n",
       "    <tr>\n",
       "      <th>526</th>\n",
       "      <td>0.822754</td>\n",
       "      <td>147.058319</td>\n",
       "      <td>56.436951</td>\n",
       "      <td>147.818085</td>\n",
       "      <td>1.582031</td>\n",
       "      <td>401.445435</td>\n",
       "      <td>492.826569</td>\n",
       "      <td>345.913269</td>\n",
       "      <td>346.591003</td>\n",
       "      <td>202.735504</td>\n",
       "      <td>...</td>\n",
       "      <td>5.730469</td>\n",
       "      <td>-54.917419</td>\n",
       "      <td>-146.298553</td>\n",
       "      <td>0.614746</td>\n",
       "      <td>-0.062988</td>\n",
       "      <td>48.712341</td>\n",
       "      <td>140.093475</td>\n",
       "      <td>-52.589294</td>\n",
       "      <td>-143.970428</td>\n",
       "      <td>-0.677734</td>\n",
       "    </tr>\n",
       "    <tr>\n",
       "      <th>828</th>\n",
       "      <td>0.721191</td>\n",
       "      <td>49.835690</td>\n",
       "      <td>20.205805</td>\n",
       "      <td>51.105221</td>\n",
       "      <td>1.990234</td>\n",
       "      <td>383.664276</td>\n",
       "      <td>414.563690</td>\n",
       "      <td>364.955536</td>\n",
       "      <td>365.449188</td>\n",
       "      <td>68.771965</td>\n",
       "      <td>...</td>\n",
       "      <td>5.445312</td>\n",
       "      <td>-17.666742</td>\n",
       "      <td>-48.566158</td>\n",
       "      <td>1.041992</td>\n",
       "      <td>0.548340</td>\n",
       "      <td>11.385492</td>\n",
       "      <td>42.284908</td>\n",
       "      <td>-15.297602</td>\n",
       "      <td>-46.197018</td>\n",
       "      <td>-0.493652</td>\n",
       "    </tr>\n",
       "    <tr>\n",
       "      <th>803</th>\n",
       "      <td>0.797852</td>\n",
       "      <td>23.183985</td>\n",
       "      <td>21.133356</td>\n",
       "      <td>24.965235</td>\n",
       "      <td>2.578125</td>\n",
       "      <td>244.347717</td>\n",
       "      <td>248.179596</td>\n",
       "      <td>225.156738</td>\n",
       "      <td>225.793457</td>\n",
       "      <td>42.536091</td>\n",
       "      <td>...</td>\n",
       "      <td>6.058594</td>\n",
       "      <td>-17.570856</td>\n",
       "      <td>-21.402735</td>\n",
       "      <td>1.620117</td>\n",
       "      <td>0.983398</td>\n",
       "      <td>11.758356</td>\n",
       "      <td>15.590235</td>\n",
       "      <td>-15.004450</td>\n",
       "      <td>-18.836329</td>\n",
       "      <td>-0.636719</td>\n",
       "    </tr>\n",
       "    <tr>\n",
       "      <th>767</th>\n",
       "      <td>0.762695</td>\n",
       "      <td>19.241785</td>\n",
       "      <td>15.143185</td>\n",
       "      <td>20.545496</td>\n",
       "      <td>2.066406</td>\n",
       "      <td>227.419891</td>\n",
       "      <td>232.822205</td>\n",
       "      <td>213.790619</td>\n",
       "      <td>214.343109</td>\n",
       "      <td>33.081261</td>\n",
       "      <td>...</td>\n",
       "      <td>5.750000</td>\n",
       "      <td>-12.535763</td>\n",
       "      <td>-17.938074</td>\n",
       "      <td>1.093750</td>\n",
       "      <td>0.541016</td>\n",
       "      <td>6.300411</td>\n",
       "      <td>11.702723</td>\n",
       "      <td>-9.585567</td>\n",
       "      <td>-14.987879</td>\n",
       "      <td>-0.552734</td>\n",
       "    </tr>\n",
       "  </tbody>\n",
       "</table>\n",
       "<p>5 rows × 60 columns</p>\n",
       "</div>"
      ],
      "text/plain": [
       "          T_Bil     AST_GOT  AG_ratio + ALT_GPT  AG_ratio + AST_GOT  \\\n",
       "index                                                                 \n",
       "745    0.733887   18.399479           11.461545           19.725651   \n",
       "526    0.822754  147.058319           56.436951          147.818085   \n",
       "828    0.721191   49.835690           20.205805           51.105221   \n",
       "803    0.797852   23.183985           21.133356           24.965235   \n",
       "767    0.762695   19.241785           15.143185           20.545496   \n",
       "\n",
       "       AG_ratio + T_Bil  ALP + ALT_GPT  ALP + AST_GOT  ALP + D_Bil  \\\n",
       "index                                                                \n",
       "745            2.060547     226.970398     235.234497   216.950562   \n",
       "526            1.582031     401.445435     492.826569   345.913269   \n",
       "828            1.990234     383.664276     414.563690   364.955536   \n",
       "803            2.578125     244.347717     248.179596   225.156738   \n",
       "767            2.066406     227.419891     232.822205   213.790619   \n",
       "\n",
       "       ALP + T_Bil  ALT_GPT + AST_GOT  ...  T_Bil * TP  AG_ratio - ALT_GPT  \\\n",
       "index                                  ...                                   \n",
       "745     217.568909          28.534851  ...    4.347656           -8.809201   \n",
       "526     346.591003         202.735504  ...    5.730469          -54.917419   \n",
       "828     365.449188          68.771965  ...    5.445312          -17.666742   \n",
       "803     225.793457          42.536091  ...    6.058594          -17.570856   \n",
       "767     214.343109          33.081261  ...    5.750000          -12.535763   \n",
       "\n",
       "       AG_ratio - AST_GOT  AG_ratio - D_Bil  AG_ratio - T_Bil  ALT_GPT - TP  \\\n",
       "index                                                                         \n",
       "745            -17.073307          1.210938          0.592285      4.209592   \n",
       "526           -146.298553          0.614746         -0.062988     48.712341   \n",
       "828            -48.566158          1.041992          0.548340     11.385492   \n",
       "803            -21.402735          1.620117          0.983398     11.758356   \n",
       "767            -17.938074          1.093750          0.541016      6.300411   \n",
       "\n",
       "       AST_GOT - TP  Alb - ALT_GPT  Alb - AST_GOT  D_Bil - T_Bil  \n",
       "index                                                             \n",
       "745       12.473698      -6.527951     -14.792057      -0.618164  \n",
       "526      140.093475     -52.589294    -143.970428      -0.677734  \n",
       "828       42.284908     -15.297602     -46.197018      -0.493652  \n",
       "803       15.590235     -15.004450     -18.836329      -0.636719  \n",
       "767       11.702723      -9.585567     -14.987879      -0.552734  \n",
       "\n",
       "[5 rows x 60 columns]"
      ]
     },
     "execution_count": 75,
     "metadata": {},
     "output_type": "execute_result"
    }
   ],
   "source": [
    "train_X_sel.head()"
   ]
  },
  {
   "cell_type": "code",
   "execution_count": 70,
   "metadata": {},
   "outputs": [
    {
     "data": {
      "text/html": [
       "<div>\n",
       "<style scoped>\n",
       "    .dataframe tbody tr th:only-of-type {\n",
       "        vertical-align: middle;\n",
       "    }\n",
       "\n",
       "    .dataframe tbody tr th {\n",
       "        vertical-align: top;\n",
       "    }\n",
       "\n",
       "    .dataframe thead th {\n",
       "        text-align: right;\n",
       "    }\n",
       "</style>\n",
       "<table border=\"1\" class=\"dataframe\">\n",
       "  <thead>\n",
       "    <tr style=\"text-align: right;\">\n",
       "      <th></th>\n",
       "      <th>T_Bil</th>\n",
       "      <th>AST_GOT</th>\n",
       "      <th>AG_ratio + ALT_GPT</th>\n",
       "      <th>AG_ratio + AST_GOT</th>\n",
       "      <th>AG_ratio + T_Bil</th>\n",
       "      <th>ALP + ALT_GPT</th>\n",
       "      <th>ALP + AST_GOT</th>\n",
       "      <th>ALP + D_Bil</th>\n",
       "      <th>ALP + T_Bil</th>\n",
       "      <th>ALT_GPT + AST_GOT</th>\n",
       "      <th>...</th>\n",
       "      <th>T_Bil * TP</th>\n",
       "      <th>AG_ratio - ALT_GPT</th>\n",
       "      <th>AG_ratio - AST_GOT</th>\n",
       "      <th>AG_ratio - D_Bil</th>\n",
       "      <th>AG_ratio - T_Bil</th>\n",
       "      <th>ALT_GPT - TP</th>\n",
       "      <th>AST_GOT - TP</th>\n",
       "      <th>Alb - ALT_GPT</th>\n",
       "      <th>Alb - AST_GOT</th>\n",
       "      <th>D_Bil - T_Bil</th>\n",
       "    </tr>\n",
       "    <tr>\n",
       "      <th>index</th>\n",
       "      <th></th>\n",
       "      <th></th>\n",
       "      <th></th>\n",
       "      <th></th>\n",
       "      <th></th>\n",
       "      <th></th>\n",
       "      <th></th>\n",
       "      <th></th>\n",
       "      <th></th>\n",
       "      <th></th>\n",
       "      <th></th>\n",
       "      <th></th>\n",
       "      <th></th>\n",
       "      <th></th>\n",
       "      <th></th>\n",
       "      <th></th>\n",
       "      <th></th>\n",
       "      <th></th>\n",
       "      <th></th>\n",
       "      <th></th>\n",
       "      <th></th>\n",
       "    </tr>\n",
       "  </thead>\n",
       "  <tbody>\n",
       "    <tr>\n",
       "      <th>0</th>\n",
       "      <td>0.801758</td>\n",
       "      <td>19.496649</td>\n",
       "      <td>16.548603</td>\n",
       "      <td>20.784735</td>\n",
       "      <td>2.089844</td>\n",
       "      <td>229.709198</td>\n",
       "      <td>233.945328</td>\n",
       "      <td>214.635452</td>\n",
       "      <td>215.250443</td>\n",
       "      <td>34.757164</td>\n",
       "      <td>...</td>\n",
       "      <td>5.464844</td>\n",
       "      <td>-13.972430</td>\n",
       "      <td>-18.208563</td>\n",
       "      <td>1.101562</td>\n",
       "      <td>0.486328</td>\n",
       "      <td>8.444110</td>\n",
       "      <td>12.680243</td>\n",
       "      <td>-11.658954</td>\n",
       "      <td>-15.895086</td>\n",
       "      <td>-0.615234</td>\n",
       "    </tr>\n",
       "    <tr>\n",
       "      <th>1</th>\n",
       "      <td>0.834961</td>\n",
       "      <td>16.733311</td>\n",
       "      <td>11.539433</td>\n",
       "      <td>17.763584</td>\n",
       "      <td>1.865234</td>\n",
       "      <td>244.645966</td>\n",
       "      <td>250.870117</td>\n",
       "      <td>234.253265</td>\n",
       "      <td>234.971771</td>\n",
       "      <td>27.242470</td>\n",
       "      <td>...</td>\n",
       "      <td>5.675781</td>\n",
       "      <td>-9.478886</td>\n",
       "      <td>-15.703037</td>\n",
       "      <td>0.914062</td>\n",
       "      <td>0.195312</td>\n",
       "      <td>3.712284</td>\n",
       "      <td>9.936436</td>\n",
       "      <td>-7.397831</td>\n",
       "      <td>-13.621983</td>\n",
       "      <td>-0.718750</td>\n",
       "    </tr>\n",
       "    <tr>\n",
       "      <th>2</th>\n",
       "      <td>0.791992</td>\n",
       "      <td>20.695866</td>\n",
       "      <td>15.856625</td>\n",
       "      <td>21.974186</td>\n",
       "      <td>2.070312</td>\n",
       "      <td>230.618210</td>\n",
       "      <td>236.735764</td>\n",
       "      <td>216.237900</td>\n",
       "      <td>216.831894</td>\n",
       "      <td>35.274170</td>\n",
       "      <td>...</td>\n",
       "      <td>5.957031</td>\n",
       "      <td>-13.299984</td>\n",
       "      <td>-19.417545</td>\n",
       "      <td>1.080078</td>\n",
       "      <td>0.486328</td>\n",
       "      <td>7.054867</td>\n",
       "      <td>13.172428</td>\n",
       "      <td>-10.951351</td>\n",
       "      <td>-17.068913</td>\n",
       "      <td>-0.593750</td>\n",
       "    </tr>\n",
       "    <tr>\n",
       "      <th>3</th>\n",
       "      <td>0.833984</td>\n",
       "      <td>20.102516</td>\n",
       "      <td>14.095747</td>\n",
       "      <td>21.377907</td>\n",
       "      <td>2.109375</td>\n",
       "      <td>213.721481</td>\n",
       "      <td>221.003632</td>\n",
       "      <td>201.076904</td>\n",
       "      <td>201.735107</td>\n",
       "      <td>32.922874</td>\n",
       "      <td>...</td>\n",
       "      <td>5.695312</td>\n",
       "      <td>-11.544966</td>\n",
       "      <td>-18.827126</td>\n",
       "      <td>1.099609</td>\n",
       "      <td>0.441406</td>\n",
       "      <td>5.992231</td>\n",
       "      <td>13.274391</td>\n",
       "      <td>-9.193403</td>\n",
       "      <td>-16.475563</td>\n",
       "      <td>-0.658203</td>\n",
       "    </tr>\n",
       "    <tr>\n",
       "      <th>4</th>\n",
       "      <td>0.690430</td>\n",
       "      <td>25.096685</td>\n",
       "      <td>21.559292</td>\n",
       "      <td>26.376959</td>\n",
       "      <td>1.970703</td>\n",
       "      <td>228.984863</td>\n",
       "      <td>233.802521</td>\n",
       "      <td>208.841339</td>\n",
       "      <td>209.396271</td>\n",
       "      <td>45.375702</td>\n",
       "      <td>...</td>\n",
       "      <td>5.980469</td>\n",
       "      <td>-18.998745</td>\n",
       "      <td>-23.816412</td>\n",
       "      <td>1.144531</td>\n",
       "      <td>0.589844</td>\n",
       "      <td>11.614956</td>\n",
       "      <td>16.432623</td>\n",
       "      <td>-16.107143</td>\n",
       "      <td>-20.924810</td>\n",
       "      <td>-0.554688</td>\n",
       "    </tr>\n",
       "  </tbody>\n",
       "</table>\n",
       "<p>5 rows × 60 columns</p>\n",
       "</div>"
      ],
      "text/plain": [
       "          T_Bil    AST_GOT  AG_ratio + ALT_GPT  AG_ratio + AST_GOT  \\\n",
       "index                                                                \n",
       "0      0.801758  19.496649           16.548603           20.784735   \n",
       "1      0.834961  16.733311           11.539433           17.763584   \n",
       "2      0.791992  20.695866           15.856625           21.974186   \n",
       "3      0.833984  20.102516           14.095747           21.377907   \n",
       "4      0.690430  25.096685           21.559292           26.376959   \n",
       "\n",
       "       AG_ratio + T_Bil  ALP + ALT_GPT  ALP + AST_GOT  ALP + D_Bil  \\\n",
       "index                                                                \n",
       "0              2.089844     229.709198     233.945328   214.635452   \n",
       "1              1.865234     244.645966     250.870117   234.253265   \n",
       "2              2.070312     230.618210     236.735764   216.237900   \n",
       "3              2.109375     213.721481     221.003632   201.076904   \n",
       "4              1.970703     228.984863     233.802521   208.841339   \n",
       "\n",
       "       ALP + T_Bil  ALT_GPT + AST_GOT  ...  T_Bil * TP  AG_ratio - ALT_GPT  \\\n",
       "index                                  ...                                   \n",
       "0       215.250443          34.757164  ...    5.464844          -13.972430   \n",
       "1       234.971771          27.242470  ...    5.675781           -9.478886   \n",
       "2       216.831894          35.274170  ...    5.957031          -13.299984   \n",
       "3       201.735107          32.922874  ...    5.695312          -11.544966   \n",
       "4       209.396271          45.375702  ...    5.980469          -18.998745   \n",
       "\n",
       "       AG_ratio - AST_GOT  AG_ratio - D_Bil  AG_ratio - T_Bil  ALT_GPT - TP  \\\n",
       "index                                                                         \n",
       "0              -18.208563          1.101562          0.486328      8.444110   \n",
       "1              -15.703037          0.914062          0.195312      3.712284   \n",
       "2              -19.417545          1.080078          0.486328      7.054867   \n",
       "3              -18.827126          1.099609          0.441406      5.992231   \n",
       "4              -23.816412          1.144531          0.589844     11.614956   \n",
       "\n",
       "       AST_GOT - TP  Alb - ALT_GPT  Alb - AST_GOT  D_Bil - T_Bil  \n",
       "index                                                             \n",
       "0         12.680243     -11.658954     -15.895086      -0.615234  \n",
       "1          9.936436      -7.397831     -13.621983      -0.718750  \n",
       "2         13.172428     -10.951351     -17.068913      -0.593750  \n",
       "3         13.274391      -9.193403     -16.475563      -0.658203  \n",
       "4         16.432623     -16.107143     -20.924810      -0.554688  \n",
       "\n",
       "[5 rows x 60 columns]"
      ]
     },
     "execution_count": 70,
     "metadata": {},
     "output_type": "execute_result"
    }
   ],
   "source": [
    "valid_X.head()"
   ]
  },
  {
   "cell_type": "code",
   "execution_count": 73,
   "metadata": {},
   "outputs": [
    {
     "data": {
      "text/plain": [
       "Index(['T_Bil', 'AST_GOT', 'AG_ratio + ALT_GPT', 'AG_ratio + AST_GOT',\n",
       "       'AG_ratio + T_Bil', 'ALP + ALT_GPT', 'ALP + AST_GOT', 'ALP + D_Bil',\n",
       "       'ALP + T_Bil', 'ALT_GPT + AST_GOT', 'ALT_GPT + D_Bil',\n",
       "       'ALT_GPT + T_Bil', 'AST_GOT + D_Bil', 'AST_GOT + TP', 'AST_GOT + T_Bil',\n",
       "       'Alb + AST_GOT', 'D_Bil + T_Bil', 'AG_ratio / ALT_GPT',\n",
       "       'AG_ratio / AST_GOT', 'AG_ratio / D_Bil', 'AG_ratio / T_Bil',\n",
       "       'ALT_GPT / AG_ratio', 'ALT_GPT / Alb', 'ALT_GPT / TP',\n",
       "       'AST_GOT / AG_ratio', 'AST_GOT / Alb', 'Alb / ALT_GPT', 'Alb / AST_GOT',\n",
       "       'Alb / D_Bil', 'Alb / T_Bil', 'D_Bil / AG_ratio', 'D_Bil / Alb',\n",
       "       'D_Bil / TP', 'TP / ALT_GPT', 'TP / T_Bil', 'T_Bil / AG_ratio',\n",
       "       'T_Bil / Alb', 'T_Bil / TP', 'ALP * ALT_GPT', 'ALP * AST_GOT',\n",
       "       'ALP * D_Bil', 'ALP * T_Bil', 'ALT_GPT * AST_GOT', 'ALT_GPT * D_Bil',\n",
       "       'ALT_GPT * T_Bil', 'AST_GOT * D_Bil', 'AST_GOT * TP', 'AST_GOT * T_Bil',\n",
       "       'Alb * T_Bil', 'D_Bil * T_Bil', 'T_Bil * TP', 'AG_ratio - ALT_GPT',\n",
       "       'AG_ratio - AST_GOT', 'AG_ratio - D_Bil', 'AG_ratio - T_Bil',\n",
       "       'ALT_GPT - TP', 'AST_GOT - TP', 'Alb - ALT_GPT', 'Alb - AST_GOT',\n",
       "       'D_Bil - T_Bil'],\n",
       "      dtype='object')"
      ]
     },
     "execution_count": 73,
     "metadata": {},
     "output_type": "execute_result"
    }
   ],
   "source": [
    "valid_X.columns"
   ]
  },
  {
   "cell_type": "code",
   "execution_count": 102,
   "metadata": {},
   "outputs": [],
   "source": [
    "pred_valid_y = XGB3.predict(valid_X)"
   ]
  },
  {
   "cell_type": "code",
   "execution_count": 103,
   "metadata": {},
   "outputs": [
    {
     "data": {
      "text/plain": [
       "(350,)"
      ]
     },
     "execution_count": 103,
     "metadata": {},
     "output_type": "execute_result"
    }
   ],
   "source": [
    "pred_valid_y.shape"
   ]
  },
  {
   "cell_type": "code",
   "execution_count": 104,
   "metadata": {},
   "outputs": [],
   "source": [
    "# type(valid_pass), type(pred_valid_y)"
   ]
  },
  {
   "cell_type": "code",
   "execution_count": 105,
   "metadata": {},
   "outputs": [],
   "source": [
    "result_df = pd.DataFrame(pred_valid_y)"
   ]
  },
  {
   "cell_type": "code",
   "execution_count": 106,
   "metadata": {},
   "outputs": [],
   "source": [
    "result_df.to_csv(\"./XGB_10.csv\", header=False)"
   ]
  },
  {
   "cell_type": "code",
   "execution_count": 107,
   "metadata": {},
   "outputs": [
    {
     "data": {
      "text/plain": [
       "146"
      ]
     },
     "execution_count": 107,
     "metadata": {},
     "output_type": "execute_result"
    }
   ],
   "source": [
    "pred_valid_y.sum()"
   ]
  },
  {
   "cell_type": "code",
   "execution_count": null,
   "metadata": {},
   "outputs": [],
   "source": []
  }
 ],
 "metadata": {
  "kernelspec": {
   "display_name": "Python 3",
   "language": "python",
   "name": "python3"
  },
  "language_info": {
   "codemirror_mode": {
    "name": "ipython",
    "version": 3
   },
   "file_extension": ".py",
   "mimetype": "text/x-python",
   "name": "python",
   "nbconvert_exporter": "python",
   "pygments_lexer": "ipython3",
   "version": "3.6.10"
  }
 },
 "nbformat": 4,
 "nbformat_minor": 4
}
