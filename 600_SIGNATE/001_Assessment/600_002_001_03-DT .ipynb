{
 "cells": [
  {
   "cell_type": "markdown",
   "metadata": {},
   "source": [
    "## 決定木デフォルト"
   ]
  },
  {
   "cell_type": "code",
   "execution_count": 1,
   "metadata": {},
   "outputs": [],
   "source": [
    "import numpy as np\n",
    "import pandas as pd\n",
    "\n",
    "from sklearn import tree\n",
    "from sklearn.metrics import  mean_squared_error\n",
    "from sklearn.model_selection import train_test_split\n",
    "\n",
    "import graphviz"
   ]
  },
  {
   "cell_type": "code",
   "execution_count": 2,
   "metadata": {},
   "outputs": [],
   "source": [
    "# pickle ファイルから読み込み\n",
    "train_pkl = pd.read_pickle('./train.pk3')"
   ]
  },
  {
   "cell_type": "code",
   "execution_count": 3,
   "metadata": {},
   "outputs": [
    {
     "data": {
      "text/plain": [
       "(55369, 13)"
      ]
     },
     "execution_count": 3,
     "metadata": {},
     "output_type": "execute_result"
    }
   ],
   "source": [
    "train_pkl.shape"
   ]
  },
  {
   "cell_type": "code",
   "execution_count": 4,
   "metadata": {},
   "outputs": [
    {
     "data": {
      "text/html": [
       "<div>\n",
       "<style scoped>\n",
       "    .dataframe tbody tr th:only-of-type {\n",
       "        vertical-align: middle;\n",
       "    }\n",
       "\n",
       "    .dataframe tbody tr th {\n",
       "        vertical-align: top;\n",
       "    }\n",
       "\n",
       "    .dataframe thead th {\n",
       "        text-align: right;\n",
       "    }\n",
       "</style>\n",
       "<table border=\"1\" class=\"dataframe\">\n",
       "  <thead>\n",
       "    <tr style=\"text-align: right;\">\n",
       "      <th></th>\n",
       "      <th>id</th>\n",
       "      <th>accommodates</th>\n",
       "      <th>bathrooms</th>\n",
       "      <th>bedrooms</th>\n",
       "      <th>host_response_rate</th>\n",
       "      <th>number_of_reviews</th>\n",
       "      <th>y</th>\n",
       "      <th>cancellation_policy_moderate</th>\n",
       "      <th>cancellation_policy_strict</th>\n",
       "      <th>cancellation_policy_super_strict_30</th>\n",
       "      <th>cancellation_policy_super_strict_60</th>\n",
       "      <th>room_type_Private room</th>\n",
       "      <th>room_type_Shared room</th>\n",
       "    </tr>\n",
       "  </thead>\n",
       "  <tbody>\n",
       "    <tr>\n",
       "      <th>count</th>\n",
       "      <td>55369.000000</td>\n",
       "      <td>55369.000000</td>\n",
       "      <td>55369.000000</td>\n",
       "      <td>55369.000000</td>\n",
       "      <td>55369.000000</td>\n",
       "      <td>55369.000000</td>\n",
       "      <td>55369.000000</td>\n",
       "      <td>55369.000000</td>\n",
       "      <td>55369.000000</td>\n",
       "      <td>55369.000000</td>\n",
       "      <td>55369.000000</td>\n",
       "      <td>55369.000000</td>\n",
       "      <td>55369.000000</td>\n",
       "    </tr>\n",
       "    <tr>\n",
       "      <th>mean</th>\n",
       "      <td>27785.124745</td>\n",
       "      <td>3.156297</td>\n",
       "      <td>1.194766</td>\n",
       "      <td>1.265654</td>\n",
       "      <td>-0.260742</td>\n",
       "      <td>0.204013</td>\n",
       "      <td>160.263830</td>\n",
       "      <td>0.257220</td>\n",
       "      <td>0.437302</td>\n",
       "      <td>0.001355</td>\n",
       "      <td>0.000235</td>\n",
       "      <td>0.413950</td>\n",
       "      <td>0.029114</td>\n",
       "    </tr>\n",
       "    <tr>\n",
       "      <th>std</th>\n",
       "      <td>16043.410949</td>\n",
       "      <td>2.154443</td>\n",
       "      <td>0.547776</td>\n",
       "      <td>0.850044</td>\n",
       "      <td>0.439043</td>\n",
       "      <td>0.752392</td>\n",
       "      <td>168.239385</td>\n",
       "      <td>0.437105</td>\n",
       "      <td>0.496058</td>\n",
       "      <td>0.036780</td>\n",
       "      <td>0.015321</td>\n",
       "      <td>0.492544</td>\n",
       "      <td>0.168127</td>\n",
       "    </tr>\n",
       "    <tr>\n",
       "      <th>min</th>\n",
       "      <td>0.000000</td>\n",
       "      <td>1.000000</td>\n",
       "      <td>0.000000</td>\n",
       "      <td>0.000000</td>\n",
       "      <td>-1.000000</td>\n",
       "      <td>0.000000</td>\n",
       "      <td>1.000000</td>\n",
       "      <td>0.000000</td>\n",
       "      <td>0.000000</td>\n",
       "      <td>0.000000</td>\n",
       "      <td>0.000000</td>\n",
       "      <td>0.000000</td>\n",
       "      <td>0.000000</td>\n",
       "    </tr>\n",
       "    <tr>\n",
       "      <th>25%</th>\n",
       "      <td>13889.000000</td>\n",
       "      <td>2.000000</td>\n",
       "      <td>1.000000</td>\n",
       "      <td>1.000000</td>\n",
       "      <td>-1.000000</td>\n",
       "      <td>0.000000</td>\n",
       "      <td>74.000000</td>\n",
       "      <td>0.000000</td>\n",
       "      <td>0.000000</td>\n",
       "      <td>0.000000</td>\n",
       "      <td>0.000000</td>\n",
       "      <td>0.000000</td>\n",
       "      <td>0.000000</td>\n",
       "    </tr>\n",
       "    <tr>\n",
       "      <th>50%</th>\n",
       "      <td>27778.000000</td>\n",
       "      <td>2.000000</td>\n",
       "      <td>1.000000</td>\n",
       "      <td>1.000000</td>\n",
       "      <td>0.000000</td>\n",
       "      <td>0.000000</td>\n",
       "      <td>111.000000</td>\n",
       "      <td>0.000000</td>\n",
       "      <td>0.000000</td>\n",
       "      <td>0.000000</td>\n",
       "      <td>0.000000</td>\n",
       "      <td>0.000000</td>\n",
       "      <td>0.000000</td>\n",
       "    </tr>\n",
       "    <tr>\n",
       "      <th>75%</th>\n",
       "      <td>41679.000000</td>\n",
       "      <td>4.000000</td>\n",
       "      <td>1.000000</td>\n",
       "      <td>1.000000</td>\n",
       "      <td>0.000000</td>\n",
       "      <td>0.000000</td>\n",
       "      <td>185.000000</td>\n",
       "      <td>1.000000</td>\n",
       "      <td>1.000000</td>\n",
       "      <td>0.000000</td>\n",
       "      <td>0.000000</td>\n",
       "      <td>1.000000</td>\n",
       "      <td>0.000000</td>\n",
       "    </tr>\n",
       "    <tr>\n",
       "      <th>max</th>\n",
       "      <td>55582.000000</td>\n",
       "      <td>16.000000</td>\n",
       "      <td>8.000000</td>\n",
       "      <td>10.000000</td>\n",
       "      <td>0.000000</td>\n",
       "      <td>15.000000</td>\n",
       "      <td>1999.000000</td>\n",
       "      <td>1.000000</td>\n",
       "      <td>1.000000</td>\n",
       "      <td>1.000000</td>\n",
       "      <td>1.000000</td>\n",
       "      <td>1.000000</td>\n",
       "      <td>1.000000</td>\n",
       "    </tr>\n",
       "  </tbody>\n",
       "</table>\n",
       "</div>"
      ],
      "text/plain": [
       "                 id  accommodates     bathrooms      bedrooms  \\\n",
       "count  55369.000000  55369.000000  55369.000000  55369.000000   \n",
       "mean   27785.124745      3.156297      1.194766      1.265654   \n",
       "std    16043.410949      2.154443      0.547776      0.850044   \n",
       "min        0.000000      1.000000      0.000000      0.000000   \n",
       "25%    13889.000000      2.000000      1.000000      1.000000   \n",
       "50%    27778.000000      2.000000      1.000000      1.000000   \n",
       "75%    41679.000000      4.000000      1.000000      1.000000   \n",
       "max    55582.000000     16.000000      8.000000     10.000000   \n",
       "\n",
       "       host_response_rate  number_of_reviews             y  \\\n",
       "count        55369.000000       55369.000000  55369.000000   \n",
       "mean            -0.260742           0.204013    160.263830   \n",
       "std              0.439043           0.752392    168.239385   \n",
       "min             -1.000000           0.000000      1.000000   \n",
       "25%             -1.000000           0.000000     74.000000   \n",
       "50%              0.000000           0.000000    111.000000   \n",
       "75%              0.000000           0.000000    185.000000   \n",
       "max              0.000000          15.000000   1999.000000   \n",
       "\n",
       "       cancellation_policy_moderate  cancellation_policy_strict  \\\n",
       "count                  55369.000000                55369.000000   \n",
       "mean                       0.257220                    0.437302   \n",
       "std                        0.437105                    0.496058   \n",
       "min                        0.000000                    0.000000   \n",
       "25%                        0.000000                    0.000000   \n",
       "50%                        0.000000                    0.000000   \n",
       "75%                        1.000000                    1.000000   \n",
       "max                        1.000000                    1.000000   \n",
       "\n",
       "       cancellation_policy_super_strict_30  \\\n",
       "count                         55369.000000   \n",
       "mean                              0.001355   \n",
       "std                               0.036780   \n",
       "min                               0.000000   \n",
       "25%                               0.000000   \n",
       "50%                               0.000000   \n",
       "75%                               0.000000   \n",
       "max                               1.000000   \n",
       "\n",
       "       cancellation_policy_super_strict_60  room_type_Private room  \\\n",
       "count                         55369.000000            55369.000000   \n",
       "mean                              0.000235                0.413950   \n",
       "std                               0.015321                0.492544   \n",
       "min                               0.000000                0.000000   \n",
       "25%                               0.000000                0.000000   \n",
       "50%                               0.000000                0.000000   \n",
       "75%                               0.000000                1.000000   \n",
       "max                               1.000000                1.000000   \n",
       "\n",
       "       room_type_Shared room  \n",
       "count           55369.000000  \n",
       "mean                0.029114  \n",
       "std                 0.168127  \n",
       "min                 0.000000  \n",
       "25%                 0.000000  \n",
       "50%                 0.000000  \n",
       "75%                 0.000000  \n",
       "max                 1.000000  "
      ]
     },
     "execution_count": 4,
     "metadata": {},
     "output_type": "execute_result"
    }
   ],
   "source": [
    "train_pkl.describe()"
   ]
  },
  {
   "cell_type": "code",
   "execution_count": 5,
   "metadata": {},
   "outputs": [
    {
     "data": {
      "text/html": [
       "<div>\n",
       "<style scoped>\n",
       "    .dataframe tbody tr th:only-of-type {\n",
       "        vertical-align: middle;\n",
       "    }\n",
       "\n",
       "    .dataframe tbody tr th {\n",
       "        vertical-align: top;\n",
       "    }\n",
       "\n",
       "    .dataframe thead th {\n",
       "        text-align: right;\n",
       "    }\n",
       "</style>\n",
       "<table border=\"1\" class=\"dataframe\">\n",
       "  <thead>\n",
       "    <tr style=\"text-align: right;\">\n",
       "      <th></th>\n",
       "      <th>id</th>\n",
       "      <th>accommodates</th>\n",
       "      <th>bathrooms</th>\n",
       "      <th>bedrooms</th>\n",
       "      <th>host_response_rate</th>\n",
       "      <th>number_of_reviews</th>\n",
       "      <th>y</th>\n",
       "      <th>cancellation_policy_moderate</th>\n",
       "      <th>cancellation_policy_strict</th>\n",
       "      <th>cancellation_policy_super_strict_30</th>\n",
       "      <th>cancellation_policy_super_strict_60</th>\n",
       "      <th>room_type_Private room</th>\n",
       "      <th>room_type_Shared room</th>\n",
       "    </tr>\n",
       "  </thead>\n",
       "  <tbody>\n",
       "    <tr>\n",
       "      <th>0</th>\n",
       "      <td>0</td>\n",
       "      <td>6</td>\n",
       "      <td>2</td>\n",
       "      <td>1</td>\n",
       "      <td>-1</td>\n",
       "      <td>0</td>\n",
       "      <td>138.0</td>\n",
       "      <td>0</td>\n",
       "      <td>0</td>\n",
       "      <td>0</td>\n",
       "      <td>0</td>\n",
       "      <td>1</td>\n",
       "      <td>0</td>\n",
       "    </tr>\n",
       "    <tr>\n",
       "      <th>1</th>\n",
       "      <td>1</td>\n",
       "      <td>2</td>\n",
       "      <td>1</td>\n",
       "      <td>1</td>\n",
       "      <td>0</td>\n",
       "      <td>0</td>\n",
       "      <td>42.0</td>\n",
       "      <td>0</td>\n",
       "      <td>1</td>\n",
       "      <td>0</td>\n",
       "      <td>0</td>\n",
       "      <td>1</td>\n",
       "      <td>0</td>\n",
       "    </tr>\n",
       "    <tr>\n",
       "      <th>2</th>\n",
       "      <td>2</td>\n",
       "      <td>2</td>\n",
       "      <td>2</td>\n",
       "      <td>1</td>\n",
       "      <td>0</td>\n",
       "      <td>0</td>\n",
       "      <td>65.0</td>\n",
       "      <td>0</td>\n",
       "      <td>1</td>\n",
       "      <td>0</td>\n",
       "      <td>0</td>\n",
       "      <td>1</td>\n",
       "      <td>0</td>\n",
       "    </tr>\n",
       "    <tr>\n",
       "      <th>3</th>\n",
       "      <td>3</td>\n",
       "      <td>2</td>\n",
       "      <td>1</td>\n",
       "      <td>1</td>\n",
       "      <td>0</td>\n",
       "      <td>0</td>\n",
       "      <td>166.0</td>\n",
       "      <td>0</td>\n",
       "      <td>1</td>\n",
       "      <td>0</td>\n",
       "      <td>0</td>\n",
       "      <td>1</td>\n",
       "      <td>0</td>\n",
       "    </tr>\n",
       "    <tr>\n",
       "      <th>4</th>\n",
       "      <td>4</td>\n",
       "      <td>2</td>\n",
       "      <td>1</td>\n",
       "      <td>1</td>\n",
       "      <td>0</td>\n",
       "      <td>0</td>\n",
       "      <td>165.0</td>\n",
       "      <td>0</td>\n",
       "      <td>1</td>\n",
       "      <td>0</td>\n",
       "      <td>0</td>\n",
       "      <td>0</td>\n",
       "      <td>0</td>\n",
       "    </tr>\n",
       "  </tbody>\n",
       "</table>\n",
       "</div>"
      ],
      "text/plain": [
       "   id  accommodates  bathrooms  bedrooms  host_response_rate  \\\n",
       "0   0             6          2         1                  -1   \n",
       "1   1             2          1         1                   0   \n",
       "2   2             2          2         1                   0   \n",
       "3   3             2          1         1                   0   \n",
       "4   4             2          1         1                   0   \n",
       "\n",
       "   number_of_reviews      y  cancellation_policy_moderate  \\\n",
       "0                  0  138.0                             0   \n",
       "1                  0   42.0                             0   \n",
       "2                  0   65.0                             0   \n",
       "3                  0  166.0                             0   \n",
       "4                  0  165.0                             0   \n",
       "\n",
       "   cancellation_policy_strict  cancellation_policy_super_strict_30  \\\n",
       "0                           0                                    0   \n",
       "1                           1                                    0   \n",
       "2                           1                                    0   \n",
       "3                           1                                    0   \n",
       "4                           1                                    0   \n",
       "\n",
       "   cancellation_policy_super_strict_60  room_type_Private room  \\\n",
       "0                                    0                       1   \n",
       "1                                    0                       1   \n",
       "2                                    0                       1   \n",
       "3                                    0                       1   \n",
       "4                                    0                       0   \n",
       "\n",
       "   room_type_Shared room  \n",
       "0                      0  \n",
       "1                      0  \n",
       "2                      0  \n",
       "3                      0  \n",
       "4                      0  "
      ]
     },
     "execution_count": 5,
     "metadata": {},
     "output_type": "execute_result"
    }
   ],
   "source": [
    "train_pkl.head()"
   ]
  },
  {
   "cell_type": "markdown",
   "metadata": {},
   "source": [
    "## 訓練データとテストデータに分割"
   ]
  },
  {
   "cell_type": "code",
   "execution_count": 6,
   "metadata": {},
   "outputs": [],
   "source": [
    "# 訓練とテストデータに分割\n",
    "train, test = train_test_split(train_pkl, test_size=0.2, random_state=42)"
   ]
  },
  {
   "cell_type": "code",
   "execution_count": 7,
   "metadata": {},
   "outputs": [],
   "source": [
    "# ターゲットと特徴量の分割\n",
    "train_X_tmp = train.copy()\n",
    "train_X_tmp.drop(['id', 'y'], axis=1, inplace=True)\n",
    "train_X = train_X_tmp.iloc[:].values\n",
    "train_y = train.y.values"
   ]
  },
  {
   "cell_type": "code",
   "execution_count": 8,
   "metadata": {},
   "outputs": [
    {
     "data": {
      "text/plain": [
       "((44295, 11), (44295,), (44295, 11))"
      ]
     },
     "execution_count": 8,
     "metadata": {},
     "output_type": "execute_result"
    }
   ],
   "source": [
    "train_X.shape, train_y.shape, train_X_tmp.shape"
   ]
  },
  {
   "cell_type": "markdown",
   "metadata": {},
   "source": [
    "## 訓練データで訓練"
   ]
  },
  {
   "cell_type": "code",
   "execution_count": 9,
   "metadata": {},
   "outputs": [],
   "source": [
    "DT = tree.DecisionTreeRegressor(max_depth=5, random_state=42)"
   ]
  },
  {
   "cell_type": "code",
   "execution_count": 10,
   "metadata": {},
   "outputs": [],
   "source": [
    "DT = DT.fit(train_X, train_y)"
   ]
  },
  {
   "cell_type": "code",
   "execution_count": 11,
   "metadata": {},
   "outputs": [
    {
     "data": {
      "text/plain": [
       "'y'"
      ]
     },
     "execution_count": 11,
     "metadata": {},
     "output_type": "execute_result"
    }
   ],
   "source": [
    "train.y.name"
   ]
  },
  {
   "cell_type": "code",
   "execution_count": 12,
   "metadata": {},
   "outputs": [
    {
     "data": {
      "text/plain": [
       "array([0.02860961, 0.32223458, 0.50957536, 0.02636854, 0.        ,\n",
       "       0.0028995 , 0.        , 0.        , 0.00650685, 0.08331213,\n",
       "       0.02049343])"
      ]
     },
     "execution_count": 12,
     "metadata": {},
     "output_type": "execute_result"
    }
   ],
   "source": [
    "DT.feature_importances_"
   ]
  },
  {
   "cell_type": "code",
   "execution_count": 13,
   "metadata": {},
   "outputs": [],
   "source": [
    "# train_X.columns"
   ]
  },
  {
   "cell_type": "code",
   "execution_count": 14,
   "metadata": {},
   "outputs": [
    {
     "name": "stdout",
     "output_type": "stream",
     "text": [
      "特徴量の重要度が高い順：\n",
      "[(0.51, 'host_response_rate'), (0.322, 'bedrooms'), (0.029, 'bathrooms'), (0.026, 'number_of_reviews'), (0.007, 'room_type_Private room'), (0.003, 'cancellation_policy_strict'), (0.0, 'cancellation_policy_super_strict_60'), (0.0, 'cancellation_policy_super_strict_30'), (0.0, 'cancellation_policy_moderate')]\n"
     ]
    }
   ],
   "source": [
    "# 特徴量の重要度が高い順に表示\n",
    "print(\"特徴量の重要度が高い順：\")\n",
    "# sorted：reverse=True 降順\n",
    "print(sorted(\n",
    "    zip(map(lambda x: round(x, 3), DT.feature_importances_), train.iloc[:, [2, 3, 4, 5, 7, 8, 9, 10, 11]].columns),\n",
    "    reverse=True))"
   ]
  },
  {
   "cell_type": "code",
   "execution_count": 15,
   "metadata": {},
   "outputs": [],
   "source": [
    "# len(train.iloc[:, 1:].columns), train.iloc[:, 1:].columns"
   ]
  },
  {
   "cell_type": "code",
   "execution_count": 16,
   "metadata": {},
   "outputs": [],
   "source": [
    "# 訓練済みの決定木を視覚化\n",
    "# dot_data = tree.export_graphviz(DT, out_file=None,\n",
    "#                                feature_names=train.iloc[:, 1:-1].columns,\n",
    "#                                class_names=train.y.name,\n",
    "#                                rounded=True,\n",
    "#                                filled=True,\n",
    "#                                special_characters=True)"
   ]
  },
  {
   "cell_type": "code",
   "execution_count": 17,
   "metadata": {},
   "outputs": [],
   "source": [
    "# graph = graphviz.Source(dot_data)\n",
    "# graph"
   ]
  },
  {
   "cell_type": "code",
   "execution_count": 18,
   "metadata": {},
   "outputs": [],
   "source": [
    "# graph.write('.\\DT.png')"
   ]
  },
  {
   "cell_type": "code",
   "execution_count": 19,
   "metadata": {},
   "outputs": [
    {
     "data": {
      "text/plain": [
       "numpy.ndarray"
      ]
     },
     "execution_count": 19,
     "metadata": {},
     "output_type": "execute_result"
    }
   ],
   "source": [
    "type(train_X)"
   ]
  },
  {
   "cell_type": "code",
   "execution_count": 21,
   "metadata": {},
   "outputs": [
    {
     "data": {
      "text/plain": [
       "[(0.51, 'host_response_rate'),\n",
       " (0.322, 'bedrooms'),\n",
       " (0.029, 'bathrooms'),\n",
       " (0.026, 'number_of_reviews'),\n",
       " (0.007, 'room_type_Private room'),\n",
       " (0.003, 'cancellation_policy_strict'),\n",
       " (0.0, 'cancellation_policy_super_strict_60'),\n",
       " (0.0, 'cancellation_policy_super_strict_30'),\n",
       " (0.0, 'cancellation_policy_moderate')]"
      ]
     },
     "execution_count": 21,
     "metadata": {},
     "output_type": "execute_result"
    }
   ],
   "source": [
    "sorted(\n",
    "    zip(map(lambda x: round(x, 3), DT.feature_importances_), train.iloc[:, [2, 3, 4, 5, 7, 8, 9, 10, 11]].columns),\n",
    "    reverse=True)"
   ]
  },
  {
   "cell_type": "markdown",
   "metadata": {},
   "source": [
    "## テストデータで実行"
   ]
  },
  {
   "cell_type": "code",
   "execution_count": 39,
   "metadata": {},
   "outputs": [],
   "source": [
    "# ターゲットと特徴量の分割\n",
    "test_X_tmp = test.copy()\n",
    "test_X_tmp.drop(['y'], axis=1, inplace=True)\n",
    "test_x = test_X_tmp.iloc[2:].values\n",
    "test_y = test.y.values"
   ]
  },
  {
   "cell_type": "code",
   "execution_count": 36,
   "metadata": {},
   "outputs": [
    {
     "data": {
      "text/plain": [
       "((11074, 11), (11074,))"
      ]
     },
     "execution_count": 36,
     "metadata": {},
     "output_type": "execute_result"
    }
   ],
   "source": [
    "test_x.shape, test_y.shape"
   ]
  },
  {
   "cell_type": "code",
   "execution_count": 37,
   "metadata": {},
   "outputs": [],
   "source": [
    "pred_y = DT.predict(test_x)"
   ]
  },
  {
   "cell_type": "code",
   "execution_count": 38,
   "metadata": {},
   "outputs": [
    {
     "data": {
      "text/plain": [
       "(11074,)"
      ]
     },
     "execution_count": 38,
     "metadata": {},
     "output_type": "execute_result"
    }
   ],
   "source": [
    "pred_y.shape"
   ]
  },
  {
   "cell_type": "code",
   "execution_count": 26,
   "metadata": {},
   "outputs": [
    {
     "data": {
      "text/plain": [
       "129.13976374120173"
      ]
     },
     "execution_count": 26,
     "metadata": {},
     "output_type": "execute_result"
    }
   ],
   "source": [
    "np.sqrt(mean_squared_error(test_y, pred_y))"
   ]
  },
  {
   "cell_type": "code",
   "execution_count": 27,
   "metadata": {},
   "outputs": [
    {
     "data": {
      "text/html": [
       "<div>\n",
       "<style scoped>\n",
       "    .dataframe tbody tr th:only-of-type {\n",
       "        vertical-align: middle;\n",
       "    }\n",
       "\n",
       "    .dataframe tbody tr th {\n",
       "        vertical-align: top;\n",
       "    }\n",
       "\n",
       "    .dataframe thead th {\n",
       "        text-align: right;\n",
       "    }\n",
       "</style>\n",
       "<table border=\"1\" class=\"dataframe\">\n",
       "  <thead>\n",
       "    <tr style=\"text-align: right;\">\n",
       "      <th></th>\n",
       "      <th>id</th>\n",
       "      <th>accommodates</th>\n",
       "      <th>bathrooms</th>\n",
       "      <th>bedrooms</th>\n",
       "      <th>host_response_rate</th>\n",
       "      <th>number_of_reviews</th>\n",
       "      <th>y</th>\n",
       "      <th>cancellation_policy_moderate</th>\n",
       "      <th>cancellation_policy_strict</th>\n",
       "      <th>cancellation_policy_super_strict_30</th>\n",
       "      <th>cancellation_policy_super_strict_60</th>\n",
       "      <th>room_type_Private room</th>\n",
       "      <th>room_type_Shared room</th>\n",
       "    </tr>\n",
       "  </thead>\n",
       "  <tbody>\n",
       "    <tr>\n",
       "      <th>20499</th>\n",
       "      <td>20499</td>\n",
       "      <td>6</td>\n",
       "      <td>2</td>\n",
       "      <td>3</td>\n",
       "      <td>0</td>\n",
       "      <td>0</td>\n",
       "      <td>500.0</td>\n",
       "      <td>0</td>\n",
       "      <td>1</td>\n",
       "      <td>0</td>\n",
       "      <td>0</td>\n",
       "      <td>0</td>\n",
       "      <td>0</td>\n",
       "    </tr>\n",
       "    <tr>\n",
       "      <th>35590</th>\n",
       "      <td>35590</td>\n",
       "      <td>5</td>\n",
       "      <td>2</td>\n",
       "      <td>2</td>\n",
       "      <td>0</td>\n",
       "      <td>0</td>\n",
       "      <td>450.0</td>\n",
       "      <td>0</td>\n",
       "      <td>1</td>\n",
       "      <td>0</td>\n",
       "      <td>0</td>\n",
       "      <td>0</td>\n",
       "      <td>0</td>\n",
       "    </tr>\n",
       "    <tr>\n",
       "      <th>36928</th>\n",
       "      <td>36928</td>\n",
       "      <td>2</td>\n",
       "      <td>1</td>\n",
       "      <td>1</td>\n",
       "      <td>0</td>\n",
       "      <td>0</td>\n",
       "      <td>65.0</td>\n",
       "      <td>0</td>\n",
       "      <td>1</td>\n",
       "      <td>0</td>\n",
       "      <td>0</td>\n",
       "      <td>1</td>\n",
       "      <td>0</td>\n",
       "    </tr>\n",
       "    <tr>\n",
       "      <th>7213</th>\n",
       "      <td>7213</td>\n",
       "      <td>6</td>\n",
       "      <td>1</td>\n",
       "      <td>1</td>\n",
       "      <td>0</td>\n",
       "      <td>0</td>\n",
       "      <td>180.0</td>\n",
       "      <td>1</td>\n",
       "      <td>0</td>\n",
       "      <td>0</td>\n",
       "      <td>0</td>\n",
       "      <td>0</td>\n",
       "      <td>0</td>\n",
       "    </tr>\n",
       "    <tr>\n",
       "      <th>12771</th>\n",
       "      <td>12771</td>\n",
       "      <td>8</td>\n",
       "      <td>1</td>\n",
       "      <td>2</td>\n",
       "      <td>0</td>\n",
       "      <td>0</td>\n",
       "      <td>168.0</td>\n",
       "      <td>0</td>\n",
       "      <td>0</td>\n",
       "      <td>0</td>\n",
       "      <td>0</td>\n",
       "      <td>0</td>\n",
       "      <td>0</td>\n",
       "    </tr>\n",
       "  </tbody>\n",
       "</table>\n",
       "</div>"
      ],
      "text/plain": [
       "          id  accommodates  bathrooms  bedrooms  host_response_rate  \\\n",
       "20499  20499             6          2         3                   0   \n",
       "35590  35590             5          2         2                   0   \n",
       "36928  36928             2          1         1                   0   \n",
       "7213    7213             6          1         1                   0   \n",
       "12771  12771             8          1         2                   0   \n",
       "\n",
       "       number_of_reviews      y  cancellation_policy_moderate  \\\n",
       "20499                  0  500.0                             0   \n",
       "35590                  0  450.0                             0   \n",
       "36928                  0   65.0                             0   \n",
       "7213                   0  180.0                             1   \n",
       "12771                  0  168.0                             0   \n",
       "\n",
       "       cancellation_policy_strict  cancellation_policy_super_strict_30  \\\n",
       "20499                           1                                    0   \n",
       "35590                           1                                    0   \n",
       "36928                           1                                    0   \n",
       "7213                            0                                    0   \n",
       "12771                           0                                    0   \n",
       "\n",
       "       cancellation_policy_super_strict_60  room_type_Private room  \\\n",
       "20499                                    0                       0   \n",
       "35590                                    0                       0   \n",
       "36928                                    0                       1   \n",
       "7213                                     0                       0   \n",
       "12771                                    0                       0   \n",
       "\n",
       "       room_type_Shared room  \n",
       "20499                      0  \n",
       "35590                      0  \n",
       "36928                      0  \n",
       "7213                       0  \n",
       "12771                      0  "
      ]
     },
     "execution_count": 27,
     "metadata": {},
     "output_type": "execute_result"
    }
   ],
   "source": [
    "test.head()"
   ]
  },
  {
   "cell_type": "markdown",
   "metadata": {},
   "source": [
    "## 検証データで実行"
   ]
  },
  {
   "cell_type": "code",
   "execution_count": 28,
   "metadata": {},
   "outputs": [],
   "source": [
    "# 検証データ読み込み\n",
    "valid = pd.read_pickle('./test.pk3')"
   ]
  },
  {
   "cell_type": "code",
   "execution_count": 29,
   "metadata": {},
   "outputs": [
    {
     "data": {
      "text/plain": [
       "(18528, 12)"
      ]
     },
     "execution_count": 29,
     "metadata": {},
     "output_type": "execute_result"
    }
   ],
   "source": [
    "valid.shape"
   ]
  },
  {
   "cell_type": "markdown",
   "metadata": {},
   "source": [
    "## 元ファイルと結果をマージ"
   ]
  },
  {
   "cell_type": "code",
   "execution_count": 32,
   "metadata": {},
   "outputs": [],
   "source": [
    "train_pd = pd.read_csv('../000_data/train.csv')"
   ]
  },
  {
   "cell_type": "code",
   "execution_count": 41,
   "metadata": {},
   "outputs": [
    {
     "data": {
      "text/html": [
       "<div>\n",
       "<style scoped>\n",
       "    .dataframe tbody tr th:only-of-type {\n",
       "        vertical-align: middle;\n",
       "    }\n",
       "\n",
       "    .dataframe tbody tr th {\n",
       "        vertical-align: top;\n",
       "    }\n",
       "\n",
       "    .dataframe thead th {\n",
       "        text-align: right;\n",
       "    }\n",
       "</style>\n",
       "<table border=\"1\" class=\"dataframe\">\n",
       "  <thead>\n",
       "    <tr style=\"text-align: right;\">\n",
       "      <th></th>\n",
       "      <th>id</th>\n",
       "      <th>accommodates</th>\n",
       "      <th>bathrooms</th>\n",
       "      <th>bedrooms</th>\n",
       "      <th>host_response_rate</th>\n",
       "      <th>number_of_reviews</th>\n",
       "      <th>cancellation_policy_moderate</th>\n",
       "      <th>cancellation_policy_strict</th>\n",
       "      <th>cancellation_policy_super_strict_30</th>\n",
       "      <th>cancellation_policy_super_strict_60</th>\n",
       "      <th>room_type_Private room</th>\n",
       "      <th>room_type_Shared room</th>\n",
       "    </tr>\n",
       "  </thead>\n",
       "  <tbody>\n",
       "    <tr>\n",
       "      <th>20499</th>\n",
       "      <td>20499</td>\n",
       "      <td>6</td>\n",
       "      <td>2</td>\n",
       "      <td>3</td>\n",
       "      <td>0</td>\n",
       "      <td>0</td>\n",
       "      <td>0</td>\n",
       "      <td>1</td>\n",
       "      <td>0</td>\n",
       "      <td>0</td>\n",
       "      <td>0</td>\n",
       "      <td>0</td>\n",
       "    </tr>\n",
       "    <tr>\n",
       "      <th>35590</th>\n",
       "      <td>35590</td>\n",
       "      <td>5</td>\n",
       "      <td>2</td>\n",
       "      <td>2</td>\n",
       "      <td>0</td>\n",
       "      <td>0</td>\n",
       "      <td>0</td>\n",
       "      <td>1</td>\n",
       "      <td>0</td>\n",
       "      <td>0</td>\n",
       "      <td>0</td>\n",
       "      <td>0</td>\n",
       "    </tr>\n",
       "    <tr>\n",
       "      <th>36928</th>\n",
       "      <td>36928</td>\n",
       "      <td>2</td>\n",
       "      <td>1</td>\n",
       "      <td>1</td>\n",
       "      <td>0</td>\n",
       "      <td>0</td>\n",
       "      <td>0</td>\n",
       "      <td>1</td>\n",
       "      <td>0</td>\n",
       "      <td>0</td>\n",
       "      <td>1</td>\n",
       "      <td>0</td>\n",
       "    </tr>\n",
       "    <tr>\n",
       "      <th>7213</th>\n",
       "      <td>7213</td>\n",
       "      <td>6</td>\n",
       "      <td>1</td>\n",
       "      <td>1</td>\n",
       "      <td>0</td>\n",
       "      <td>0</td>\n",
       "      <td>1</td>\n",
       "      <td>0</td>\n",
       "      <td>0</td>\n",
       "      <td>0</td>\n",
       "      <td>0</td>\n",
       "      <td>0</td>\n",
       "    </tr>\n",
       "    <tr>\n",
       "      <th>12771</th>\n",
       "      <td>12771</td>\n",
       "      <td>8</td>\n",
       "      <td>1</td>\n",
       "      <td>2</td>\n",
       "      <td>0</td>\n",
       "      <td>0</td>\n",
       "      <td>0</td>\n",
       "      <td>0</td>\n",
       "      <td>0</td>\n",
       "      <td>0</td>\n",
       "      <td>0</td>\n",
       "      <td>0</td>\n",
       "    </tr>\n",
       "  </tbody>\n",
       "</table>\n",
       "</div>"
      ],
      "text/plain": [
       "          id  accommodates  bathrooms  bedrooms  host_response_rate  \\\n",
       "20499  20499             6          2         3                   0   \n",
       "35590  35590             5          2         2                   0   \n",
       "36928  36928             2          1         1                   0   \n",
       "7213    7213             6          1         1                   0   \n",
       "12771  12771             8          1         2                   0   \n",
       "\n",
       "       number_of_reviews  cancellation_policy_moderate  \\\n",
       "20499                  0                             0   \n",
       "35590                  0                             0   \n",
       "36928                  0                             0   \n",
       "7213                   0                             1   \n",
       "12771                  0                             0   \n",
       "\n",
       "       cancellation_policy_strict  cancellation_policy_super_strict_30  \\\n",
       "20499                           1                                    0   \n",
       "35590                           1                                    0   \n",
       "36928                           1                                    0   \n",
       "7213                            0                                    0   \n",
       "12771                           0                                    0   \n",
       "\n",
       "       cancellation_policy_super_strict_60  room_type_Private room  \\\n",
       "20499                                    0                       0   \n",
       "35590                                    0                       0   \n",
       "36928                                    0                       1   \n",
       "7213                                     0                       0   \n",
       "12771                                    0                       0   \n",
       "\n",
       "       room_type_Shared room  \n",
       "20499                      0  \n",
       "35590                      0  \n",
       "36928                      0  \n",
       "7213                       0  \n",
       "12771                      0  "
      ]
     },
     "execution_count": 41,
     "metadata": {},
     "output_type": "execute_result"
    }
   ],
   "source": [
    "test_X_tmp.head()"
   ]
  },
  {
   "cell_type": "code",
   "execution_count": 94,
   "metadata": {},
   "outputs": [],
   "source": [
    "train_val = pd.DataFrame(test_X_tmp.id)"
   ]
  },
  {
   "cell_type": "code",
   "execution_count": 95,
   "metadata": {},
   "outputs": [],
   "source": [
    "train_val = train_val.reset_index()"
   ]
  },
  {
   "cell_type": "code",
   "execution_count": 96,
   "metadata": {},
   "outputs": [
    {
     "data": {
      "text/html": [
       "<div>\n",
       "<style scoped>\n",
       "    .dataframe tbody tr th:only-of-type {\n",
       "        vertical-align: middle;\n",
       "    }\n",
       "\n",
       "    .dataframe tbody tr th {\n",
       "        vertical-align: top;\n",
       "    }\n",
       "\n",
       "    .dataframe thead th {\n",
       "        text-align: right;\n",
       "    }\n",
       "</style>\n",
       "<table border=\"1\" class=\"dataframe\">\n",
       "  <thead>\n",
       "    <tr style=\"text-align: right;\">\n",
       "      <th></th>\n",
       "      <th>index</th>\n",
       "      <th>id</th>\n",
       "    </tr>\n",
       "  </thead>\n",
       "  <tbody>\n",
       "    <tr>\n",
       "      <th>0</th>\n",
       "      <td>20499</td>\n",
       "      <td>20499</td>\n",
       "    </tr>\n",
       "    <tr>\n",
       "      <th>1</th>\n",
       "      <td>35590</td>\n",
       "      <td>35590</td>\n",
       "    </tr>\n",
       "    <tr>\n",
       "      <th>2</th>\n",
       "      <td>36928</td>\n",
       "      <td>36928</td>\n",
       "    </tr>\n",
       "    <tr>\n",
       "      <th>3</th>\n",
       "      <td>7213</td>\n",
       "      <td>7213</td>\n",
       "    </tr>\n",
       "    <tr>\n",
       "      <th>4</th>\n",
       "      <td>12771</td>\n",
       "      <td>12771</td>\n",
       "    </tr>\n",
       "  </tbody>\n",
       "</table>\n",
       "</div>"
      ],
      "text/plain": [
       "   index     id\n",
       "0  20499  20499\n",
       "1  35590  35590\n",
       "2  36928  36928\n",
       "3   7213   7213\n",
       "4  12771  12771"
      ]
     },
     "execution_count": 96,
     "metadata": {},
     "output_type": "execute_result"
    }
   ],
   "source": [
    "train_val.head()"
   ]
  },
  {
   "cell_type": "code",
   "execution_count": 111,
   "metadata": {},
   "outputs": [],
   "source": [
    "pred_pd = pd.DataFrame(pred_y)"
   ]
  },
  {
   "cell_type": "code",
   "execution_count": 112,
   "metadata": {},
   "outputs": [
    {
     "data": {
      "text/plain": [
       "(pandas.core.frame.DataFrame, pandas.core.frame.DataFrame)"
      ]
     },
     "execution_count": 112,
     "metadata": {},
     "output_type": "execute_result"
    }
   ],
   "source": [
    "type(train_val), type(pred_pd)"
   ]
  },
  {
   "cell_type": "code",
   "execution_count": 113,
   "metadata": {},
   "outputs": [],
   "source": [
    "train_val = pd.concat([train_val, pred_pd], axis=1)"
   ]
  },
  {
   "cell_type": "code",
   "execution_count": 114,
   "metadata": {},
   "outputs": [
    {
     "data": {
      "text/plain": [
       "Index(['index', 'id', 'y', 0], dtype='object')"
      ]
     },
     "execution_count": 114,
     "metadata": {},
     "output_type": "execute_result"
    }
   ],
   "source": [
    "train_val.columns"
   ]
  },
  {
   "cell_type": "code",
   "execution_count": 115,
   "metadata": {},
   "outputs": [],
   "source": [
    "train_val = train_val.rename(columns={0 : 'y_'})"
   ]
  },
  {
   "cell_type": "code",
   "execution_count": 116,
   "metadata": {},
   "outputs": [
    {
     "data": {
      "text/plain": [
       "Index(['index', 'id', 'y', 'y_'], dtype='object')"
      ]
     },
     "execution_count": 116,
     "metadata": {},
     "output_type": "execute_result"
    }
   ],
   "source": [
    "train_val.columns"
   ]
  },
  {
   "cell_type": "code",
   "execution_count": 118,
   "metadata": {},
   "outputs": [],
   "source": [
    "result_test = pd.merge(train_pd, train_val[['id', 'y_']], on='id', how='inner')"
   ]
  },
  {
   "cell_type": "code",
   "execution_count": 119,
   "metadata": {},
   "outputs": [
    {
     "data": {
      "text/html": [
       "<div>\n",
       "<style scoped>\n",
       "    .dataframe tbody tr th:only-of-type {\n",
       "        vertical-align: middle;\n",
       "    }\n",
       "\n",
       "    .dataframe tbody tr th {\n",
       "        vertical-align: top;\n",
       "    }\n",
       "\n",
       "    .dataframe thead th {\n",
       "        text-align: right;\n",
       "    }\n",
       "</style>\n",
       "<table border=\"1\" class=\"dataframe\">\n",
       "  <thead>\n",
       "    <tr style=\"text-align: right;\">\n",
       "      <th></th>\n",
       "      <th>id</th>\n",
       "      <th>accommodates</th>\n",
       "      <th>amenities</th>\n",
       "      <th>bathrooms</th>\n",
       "      <th>bed_type</th>\n",
       "      <th>bedrooms</th>\n",
       "      <th>beds</th>\n",
       "      <th>cancellation_policy</th>\n",
       "      <th>city</th>\n",
       "      <th>cleaning_fee</th>\n",
       "      <th>...</th>\n",
       "      <th>name</th>\n",
       "      <th>neighbourhood</th>\n",
       "      <th>number_of_reviews</th>\n",
       "      <th>property_type</th>\n",
       "      <th>review_scores_rating</th>\n",
       "      <th>room_type</th>\n",
       "      <th>thumbnail_url</th>\n",
       "      <th>zipcode</th>\n",
       "      <th>y</th>\n",
       "      <th>y_</th>\n",
       "    </tr>\n",
       "  </thead>\n",
       "  <tbody>\n",
       "    <tr>\n",
       "      <th>0</th>\n",
       "      <td>4</td>\n",
       "      <td>2</td>\n",
       "      <td>{TV,Internet,\"Wireless Internet\",\"Air conditio...</td>\n",
       "      <td>1.0</td>\n",
       "      <td>Real Bed</td>\n",
       "      <td>1.0</td>\n",
       "      <td>1.0</td>\n",
       "      <td>strict</td>\n",
       "      <td>NYC</td>\n",
       "      <td>t</td>\n",
       "      <td>...</td>\n",
       "      <td>Charming 1-bedroom - UWS Manhattan</td>\n",
       "      <td>Upper West Side</td>\n",
       "      <td>5</td>\n",
       "      <td>Apartment</td>\n",
       "      <td>100.0</td>\n",
       "      <td>Entire home/apt</td>\n",
       "      <td>https://a0.muscache.com/im/pictures/92879730/5...</td>\n",
       "      <td>10024</td>\n",
       "      <td>165.0</td>\n",
       "      <td>149.676086</td>\n",
       "    </tr>\n",
       "    <tr>\n",
       "      <th>1</th>\n",
       "      <td>6</td>\n",
       "      <td>2</td>\n",
       "      <td>{Internet,\"Wireless Internet\",Kitchen,\"Free pa...</td>\n",
       "      <td>1.5</td>\n",
       "      <td>Real Bed</td>\n",
       "      <td>1.0</td>\n",
       "      <td>1.0</td>\n",
       "      <td>moderate</td>\n",
       "      <td>NYC</td>\n",
       "      <td>t</td>\n",
       "      <td>...</td>\n",
       "      <td>Cozy Artist Bedroom less than 30 min to Manhattan</td>\n",
       "      <td>Bedford-Stuyvesant</td>\n",
       "      <td>65</td>\n",
       "      <td>House</td>\n",
       "      <td>91.0</td>\n",
       "      <td>Private room</td>\n",
       "      <td>https://a0.muscache.com/im/pictures/79595629/9...</td>\n",
       "      <td>11233</td>\n",
       "      <td>48.0</td>\n",
       "      <td>84.577645</td>\n",
       "    </tr>\n",
       "    <tr>\n",
       "      <th>2</th>\n",
       "      <td>31</td>\n",
       "      <td>4</td>\n",
       "      <td>{TV,\"Wireless Internet\",\"Air conditioning\",\"Wh...</td>\n",
       "      <td>1.0</td>\n",
       "      <td>Real Bed</td>\n",
       "      <td>1.0</td>\n",
       "      <td>2.0</td>\n",
       "      <td>strict</td>\n",
       "      <td>NYC</td>\n",
       "      <td>t</td>\n",
       "      <td>...</td>\n",
       "      <td>TriBeCa/City Hall 1 BR with view</td>\n",
       "      <td>Chinatown</td>\n",
       "      <td>2</td>\n",
       "      <td>Apartment</td>\n",
       "      <td>100.0</td>\n",
       "      <td>Entire home/apt</td>\n",
       "      <td>https://a0.muscache.com/im/pictures/7f3ca728-f...</td>\n",
       "      <td>10013.0</td>\n",
       "      <td>135.0</td>\n",
       "      <td>184.783190</td>\n",
       "    </tr>\n",
       "    <tr>\n",
       "      <th>3</th>\n",
       "      <td>34</td>\n",
       "      <td>16</td>\n",
       "      <td>{Internet,\"Wireless Internet\",\"Air conditionin...</td>\n",
       "      <td>5.5</td>\n",
       "      <td>Real Bed</td>\n",
       "      <td>5.0</td>\n",
       "      <td>10.0</td>\n",
       "      <td>strict</td>\n",
       "      <td>LA</td>\n",
       "      <td>f</td>\n",
       "      <td>...</td>\n",
       "      <td>Beverly Hills Mansion</td>\n",
       "      <td>NaN</td>\n",
       "      <td>0</td>\n",
       "      <td>House</td>\n",
       "      <td>NaN</td>\n",
       "      <td>Entire home/apt</td>\n",
       "      <td>NaN</td>\n",
       "      <td>90211</td>\n",
       "      <td>1995.0</td>\n",
       "      <td>943.857143</td>\n",
       "    </tr>\n",
       "    <tr>\n",
       "      <th>4</th>\n",
       "      <td>38</td>\n",
       "      <td>3</td>\n",
       "      <td>{TV,Internet,\"Wireless Internet\",Kitchen,\"Indo...</td>\n",
       "      <td>1.5</td>\n",
       "      <td>Real Bed</td>\n",
       "      <td>1.0</td>\n",
       "      <td>1.0</td>\n",
       "      <td>strict</td>\n",
       "      <td>SF</td>\n",
       "      <td>t</td>\n",
       "      <td>...</td>\n",
       "      <td>Gorgeous Mission Loft, Great Light!</td>\n",
       "      <td>Mission District</td>\n",
       "      <td>22</td>\n",
       "      <td>Loft</td>\n",
       "      <td>98.0</td>\n",
       "      <td>Entire home/apt</td>\n",
       "      <td>https://a0.muscache.com/im/pictures/105786272/...</td>\n",
       "      <td>94110</td>\n",
       "      <td>399.0</td>\n",
       "      <td>149.676086</td>\n",
       "    </tr>\n",
       "  </tbody>\n",
       "</table>\n",
       "<p>5 rows × 30 columns</p>\n",
       "</div>"
      ],
      "text/plain": [
       "   id  accommodates                                          amenities  \\\n",
       "0   4             2  {TV,Internet,\"Wireless Internet\",\"Air conditio...   \n",
       "1   6             2  {Internet,\"Wireless Internet\",Kitchen,\"Free pa...   \n",
       "2  31             4  {TV,\"Wireless Internet\",\"Air conditioning\",\"Wh...   \n",
       "3  34            16  {Internet,\"Wireless Internet\",\"Air conditionin...   \n",
       "4  38             3  {TV,Internet,\"Wireless Internet\",Kitchen,\"Indo...   \n",
       "\n",
       "   bathrooms  bed_type  bedrooms  beds cancellation_policy city cleaning_fee  \\\n",
       "0        1.0  Real Bed       1.0   1.0              strict  NYC            t   \n",
       "1        1.5  Real Bed       1.0   1.0            moderate  NYC            t   \n",
       "2        1.0  Real Bed       1.0   2.0              strict  NYC            t   \n",
       "3        5.5  Real Bed       5.0  10.0              strict   LA            f   \n",
       "4        1.5  Real Bed       1.0   1.0              strict   SF            t   \n",
       "\n",
       "   ...                                               name       neighbourhood  \\\n",
       "0  ...                 Charming 1-bedroom - UWS Manhattan     Upper West Side   \n",
       "1  ...  Cozy Artist Bedroom less than 30 min to Manhattan  Bedford-Stuyvesant   \n",
       "2  ...                   TriBeCa/City Hall 1 BR with view           Chinatown   \n",
       "3  ...                              Beverly Hills Mansion                 NaN   \n",
       "4  ...                Gorgeous Mission Loft, Great Light!    Mission District   \n",
       "\n",
       "  number_of_reviews property_type review_scores_rating        room_type  \\\n",
       "0                 5     Apartment                100.0  Entire home/apt   \n",
       "1                65         House                 91.0     Private room   \n",
       "2                 2     Apartment                100.0  Entire home/apt   \n",
       "3                 0         House                  NaN  Entire home/apt   \n",
       "4                22          Loft                 98.0  Entire home/apt   \n",
       "\n",
       "                                       thumbnail_url  zipcode       y  \\\n",
       "0  https://a0.muscache.com/im/pictures/92879730/5...    10024   165.0   \n",
       "1  https://a0.muscache.com/im/pictures/79595629/9...    11233    48.0   \n",
       "2  https://a0.muscache.com/im/pictures/7f3ca728-f...  10013.0   135.0   \n",
       "3                                                NaN    90211  1995.0   \n",
       "4  https://a0.muscache.com/im/pictures/105786272/...    94110   399.0   \n",
       "\n",
       "           y_  \n",
       "0  149.676086  \n",
       "1   84.577645  \n",
       "2  184.783190  \n",
       "3  943.857143  \n",
       "4  149.676086  \n",
       "\n",
       "[5 rows x 30 columns]"
      ]
     },
     "execution_count": 119,
     "metadata": {},
     "output_type": "execute_result"
    }
   ],
   "source": [
    "result_test.head()"
   ]
  },
  {
   "cell_type": "code",
   "execution_count": 120,
   "metadata": {},
   "outputs": [
    {
     "data": {
      "text/html": [
       "<div>\n",
       "<style scoped>\n",
       "    .dataframe tbody tr th:only-of-type {\n",
       "        vertical-align: middle;\n",
       "    }\n",
       "\n",
       "    .dataframe tbody tr th {\n",
       "        vertical-align: top;\n",
       "    }\n",
       "\n",
       "    .dataframe thead th {\n",
       "        text-align: right;\n",
       "    }\n",
       "</style>\n",
       "<table border=\"1\" class=\"dataframe\">\n",
       "  <thead>\n",
       "    <tr style=\"text-align: right;\">\n",
       "      <th></th>\n",
       "      <th>id</th>\n",
       "      <th>accommodates</th>\n",
       "      <th>bathrooms</th>\n",
       "      <th>bedrooms</th>\n",
       "      <th>beds</th>\n",
       "      <th>latitude</th>\n",
       "      <th>longitude</th>\n",
       "      <th>number_of_reviews</th>\n",
       "      <th>review_scores_rating</th>\n",
       "      <th>y</th>\n",
       "      <th>y_</th>\n",
       "    </tr>\n",
       "  </thead>\n",
       "  <tbody>\n",
       "    <tr>\n",
       "      <th>count</th>\n",
       "      <td>11074.000000</td>\n",
       "      <td>11074.000000</td>\n",
       "      <td>11074.000000</td>\n",
       "      <td>11074.000000</td>\n",
       "      <td>11064.000000</td>\n",
       "      <td>11074.000000</td>\n",
       "      <td>11074.000000</td>\n",
       "      <td>11074.000000</td>\n",
       "      <td>8560.000000</td>\n",
       "      <td>11074.000000</td>\n",
       "      <td>11074.000000</td>\n",
       "    </tr>\n",
       "    <tr>\n",
       "      <th>mean</th>\n",
       "      <td>27725.730269</td>\n",
       "      <td>3.167509</td>\n",
       "      <td>1.235326</td>\n",
       "      <td>1.263049</td>\n",
       "      <td>1.709689</td>\n",
       "      <td>38.433408</td>\n",
       "      <td>-92.610194</td>\n",
       "      <td>20.769550</td>\n",
       "      <td>94.099416</td>\n",
       "      <td>159.450515</td>\n",
       "      <td>160.969473</td>\n",
       "    </tr>\n",
       "    <tr>\n",
       "      <th>std</th>\n",
       "      <td>16047.460856</td>\n",
       "      <td>2.178113</td>\n",
       "      <td>0.587448</td>\n",
       "      <td>0.854477</td>\n",
       "      <td>1.270712</td>\n",
       "      <td>3.101306</td>\n",
       "      <td>21.752794</td>\n",
       "      <td>38.174252</td>\n",
       "      <td>7.739058</td>\n",
       "      <td>166.803644</td>\n",
       "      <td>111.841123</td>\n",
       "    </tr>\n",
       "    <tr>\n",
       "      <th>min</th>\n",
       "      <td>4.000000</td>\n",
       "      <td>1.000000</td>\n",
       "      <td>0.000000</td>\n",
       "      <td>0.000000</td>\n",
       "      <td>1.000000</td>\n",
       "      <td>33.707014</td>\n",
       "      <td>-122.511500</td>\n",
       "      <td>0.000000</td>\n",
       "      <td>20.000000</td>\n",
       "      <td>1.000000</td>\n",
       "      <td>51.773913</td>\n",
       "    </tr>\n",
       "    <tr>\n",
       "      <th>25%</th>\n",
       "      <td>13777.250000</td>\n",
       "      <td>2.000000</td>\n",
       "      <td>1.000000</td>\n",
       "      <td>1.000000</td>\n",
       "      <td>1.000000</td>\n",
       "      <td>34.122174</td>\n",
       "      <td>-118.345062</td>\n",
       "      <td>1.000000</td>\n",
       "      <td>92.000000</td>\n",
       "      <td>75.000000</td>\n",
       "      <td>84.577645</td>\n",
       "    </tr>\n",
       "    <tr>\n",
       "      <th>50%</th>\n",
       "      <td>27857.500000</td>\n",
       "      <td>2.000000</td>\n",
       "      <td>1.000000</td>\n",
       "      <td>1.000000</td>\n",
       "      <td>1.000000</td>\n",
       "      <td>40.662940</td>\n",
       "      <td>-76.998820</td>\n",
       "      <td>5.000000</td>\n",
       "      <td>96.000000</td>\n",
       "      <td>112.000000</td>\n",
       "      <td>149.676086</td>\n",
       "    </tr>\n",
       "    <tr>\n",
       "      <th>75%</th>\n",
       "      <td>41482.500000</td>\n",
       "      <td>4.000000</td>\n",
       "      <td>1.000000</td>\n",
       "      <td>1.000000</td>\n",
       "      <td>2.000000</td>\n",
       "      <td>40.746812</td>\n",
       "      <td>-73.954129</td>\n",
       "      <td>23.000000</td>\n",
       "      <td>100.000000</td>\n",
       "      <td>185.000000</td>\n",
       "      <td>184.783190</td>\n",
       "    </tr>\n",
       "    <tr>\n",
       "      <th>max</th>\n",
       "      <td>55570.000000</td>\n",
       "      <td>16.000000</td>\n",
       "      <td>8.000000</td>\n",
       "      <td>10.000000</td>\n",
       "      <td>16.000000</td>\n",
       "      <td>42.389682</td>\n",
       "      <td>-71.001769</td>\n",
       "      <td>532.000000</td>\n",
       "      <td>100.000000</td>\n",
       "      <td>1995.000000</td>\n",
       "      <td>1650.000000</td>\n",
       "    </tr>\n",
       "  </tbody>\n",
       "</table>\n",
       "</div>"
      ],
      "text/plain": [
       "                 id  accommodates     bathrooms      bedrooms          beds  \\\n",
       "count  11074.000000  11074.000000  11074.000000  11074.000000  11064.000000   \n",
       "mean   27725.730269      3.167509      1.235326      1.263049      1.709689   \n",
       "std    16047.460856      2.178113      0.587448      0.854477      1.270712   \n",
       "min        4.000000      1.000000      0.000000      0.000000      1.000000   \n",
       "25%    13777.250000      2.000000      1.000000      1.000000      1.000000   \n",
       "50%    27857.500000      2.000000      1.000000      1.000000      1.000000   \n",
       "75%    41482.500000      4.000000      1.000000      1.000000      2.000000   \n",
       "max    55570.000000     16.000000      8.000000     10.000000     16.000000   \n",
       "\n",
       "           latitude     longitude  number_of_reviews  review_scores_rating  \\\n",
       "count  11074.000000  11074.000000       11074.000000           8560.000000   \n",
       "mean      38.433408    -92.610194          20.769550             94.099416   \n",
       "std        3.101306     21.752794          38.174252              7.739058   \n",
       "min       33.707014   -122.511500           0.000000             20.000000   \n",
       "25%       34.122174   -118.345062           1.000000             92.000000   \n",
       "50%       40.662940    -76.998820           5.000000             96.000000   \n",
       "75%       40.746812    -73.954129          23.000000            100.000000   \n",
       "max       42.389682    -71.001769         532.000000            100.000000   \n",
       "\n",
       "                  y            y_  \n",
       "count  11074.000000  11074.000000  \n",
       "mean     159.450515    160.969473  \n",
       "std      166.803644    111.841123  \n",
       "min        1.000000     51.773913  \n",
       "25%       75.000000     84.577645  \n",
       "50%      112.000000    149.676086  \n",
       "75%      185.000000    184.783190  \n",
       "max     1995.000000   1650.000000  "
      ]
     },
     "execution_count": 120,
     "metadata": {},
     "output_type": "execute_result"
    }
   ],
   "source": [
    "result_test.describe()"
   ]
  },
  {
   "cell_type": "code",
   "execution_count": 121,
   "metadata": {},
   "outputs": [
    {
     "name": "stdout",
     "output_type": "stream",
     "text": [
      "<class 'pandas.core.frame.DataFrame'>\n",
      "Int64Index: 11074 entries, 0 to 11073\n",
      "Data columns (total 30 columns):\n",
      " #   Column                  Non-Null Count  Dtype  \n",
      "---  ------                  --------------  -----  \n",
      " 0   id                      11074 non-null  int64  \n",
      " 1   accommodates            11074 non-null  int64  \n",
      " 2   amenities               11074 non-null  object \n",
      " 3   bathrooms               11074 non-null  float64\n",
      " 4   bed_type                11074 non-null  object \n",
      " 5   bedrooms                11074 non-null  float64\n",
      " 6   beds                    11064 non-null  float64\n",
      " 7   cancellation_policy     11074 non-null  object \n",
      " 8   city                    11074 non-null  object \n",
      " 9   cleaning_fee            11074 non-null  object \n",
      " 10  description             11074 non-null  object \n",
      " 11  first_review            8686 non-null   object \n",
      " 12  host_has_profile_pic    11041 non-null  object \n",
      " 13  host_identity_verified  11041 non-null  object \n",
      " 14  host_response_rate      8392 non-null   object \n",
      " 15  host_since              11041 non-null  object \n",
      " 16  instant_bookable        11074 non-null  object \n",
      " 17  last_review             8691 non-null   object \n",
      " 18  latitude                11074 non-null  float64\n",
      " 19  longitude               11074 non-null  float64\n",
      " 20  name                    11074 non-null  object \n",
      " 21  neighbourhood           10044 non-null  object \n",
      " 22  number_of_reviews       11074 non-null  int64  \n",
      " 23  property_type           11074 non-null  object \n",
      " 24  review_scores_rating    8560 non-null   float64\n",
      " 25  room_type               11074 non-null  object \n",
      " 26  thumbnail_url           9842 non-null   object \n",
      " 27  zipcode                 10949 non-null  object \n",
      " 28  y                       11074 non-null  float64\n",
      " 29  y_                      11074 non-null  float64\n",
      "dtypes: float64(8), int64(3), object(19)\n",
      "memory usage: 2.6+ MB\n"
     ]
    }
   ],
   "source": [
    "result_test.info()"
   ]
  },
  {
   "cell_type": "code",
   "execution_count": 123,
   "metadata": {},
   "outputs": [
    {
     "data": {
      "text/plain": [
       "Index(['id', 'accommodates', 'amenities', 'bathrooms', 'bed_type', 'bedrooms',\n",
       "       'beds', 'cancellation_policy', 'city', 'cleaning_fee', 'description',\n",
       "       'first_review', 'host_has_profile_pic', 'host_identity_verified',\n",
       "       'host_response_rate', 'host_since', 'instant_bookable', 'last_review',\n",
       "       'latitude', 'longitude', 'name', 'neighbourhood', 'number_of_reviews',\n",
       "       'property_type', 'review_scores_rating', 'room_type', 'thumbnail_url',\n",
       "       'zipcode', 'y', 'y_'],\n",
       "      dtype='object')"
      ]
     },
     "execution_count": 123,
     "metadata": {},
     "output_type": "execute_result"
    }
   ],
   "source": [
    "result_test.columns"
   ]
  },
  {
   "cell_type": "code",
   "execution_count": 125,
   "metadata": {},
   "outputs": [],
   "source": [
    "result_test = result_test.dropna(subset=['y'])"
   ]
  },
  {
   "cell_type": "code",
   "execution_count": 129,
   "metadata": {},
   "outputs": [],
   "source": [
    "result_test['diff'] = result_test.y - result_test.y_"
   ]
  },
  {
   "cell_type": "code",
   "execution_count": 132,
   "metadata": {},
   "outputs": [],
   "source": [
    "result_test['diff(abs)'] = np.abs(result_test['diff'])"
   ]
  },
  {
   "cell_type": "code",
   "execution_count": 133,
   "metadata": {},
   "outputs": [
    {
     "data": {
      "text/plain": [
       "(11074, 32)"
      ]
     },
     "execution_count": 133,
     "metadata": {},
     "output_type": "execute_result"
    }
   ],
   "source": [
    "result_test.shape"
   ]
  },
  {
   "cell_type": "code",
   "execution_count": 134,
   "metadata": {},
   "outputs": [],
   "source": [
    "result_test.to_csv('test_result.csv')"
   ]
  },
  {
   "cell_type": "code",
   "execution_count": 136,
   "metadata": {},
   "outputs": [],
   "source": [
    "result_test.to_excel('test_result.xlsx')"
   ]
  },
  {
   "cell_type": "code",
   "execution_count": 28,
   "metadata": {},
   "outputs": [],
   "source": [
    "# ID の保存\n",
    "valid_pass = valid.id.values"
   ]
  },
  {
   "cell_type": "code",
   "execution_count": 29,
   "metadata": {},
   "outputs": [],
   "source": [
    "valid_X = valid.iloc[:, 1:].values"
   ]
  },
  {
   "cell_type": "code",
   "execution_count": 31,
   "metadata": {},
   "outputs": [],
   "source": [
    "# valid_X.describe()"
   ]
  },
  {
   "cell_type": "code",
   "execution_count": 32,
   "metadata": {},
   "outputs": [
    {
     "data": {
      "text/plain": [
       "((18528, 11), (44295, 11))"
      ]
     },
     "execution_count": 32,
     "metadata": {},
     "output_type": "execute_result"
    }
   ],
   "source": [
    "valid_X.shape, train_X.shape"
   ]
  },
  {
   "cell_type": "code",
   "execution_count": 33,
   "metadata": {},
   "outputs": [],
   "source": [
    "pred_valid_y = DT.predict(valid_X)"
   ]
  },
  {
   "cell_type": "code",
   "execution_count": 34,
   "metadata": {},
   "outputs": [
    {
     "data": {
      "text/plain": [
       "(18528,)"
      ]
     },
     "execution_count": 34,
     "metadata": {},
     "output_type": "execute_result"
    }
   ],
   "source": [
    "pred_valid_y.shape"
   ]
  },
  {
   "cell_type": "code",
   "execution_count": 35,
   "metadata": {},
   "outputs": [
    {
     "data": {
      "text/plain": [
       "(numpy.ndarray, numpy.ndarray)"
      ]
     },
     "execution_count": 35,
     "metadata": {},
     "output_type": "execute_result"
    }
   ],
   "source": [
    "type(valid_pass), type(pred_valid_y)"
   ]
  },
  {
   "cell_type": "code",
   "execution_count": 36,
   "metadata": {},
   "outputs": [],
   "source": [
    "result_df = pd.DataFrame(pred_valid_y, valid_pass, columns=['y'])"
   ]
  },
  {
   "cell_type": "code",
   "execution_count": 37,
   "metadata": {},
   "outputs": [
    {
     "data": {
      "text/html": [
       "<div>\n",
       "<style scoped>\n",
       "    .dataframe tbody tr th:only-of-type {\n",
       "        vertical-align: middle;\n",
       "    }\n",
       "\n",
       "    .dataframe tbody tr th {\n",
       "        vertical-align: top;\n",
       "    }\n",
       "\n",
       "    .dataframe thead th {\n",
       "        text-align: right;\n",
       "    }\n",
       "</style>\n",
       "<table border=\"1\" class=\"dataframe\">\n",
       "  <thead>\n",
       "    <tr style=\"text-align: right;\">\n",
       "      <th></th>\n",
       "      <th>y</th>\n",
       "    </tr>\n",
       "  </thead>\n",
       "  <tbody>\n",
       "    <tr>\n",
       "      <th>0</th>\n",
       "      <td>266.646900</td>\n",
       "    </tr>\n",
       "    <tr>\n",
       "      <th>1</th>\n",
       "      <td>149.676086</td>\n",
       "    </tr>\n",
       "    <tr>\n",
       "      <th>2</th>\n",
       "      <td>84.577645</td>\n",
       "    </tr>\n",
       "    <tr>\n",
       "      <th>3</th>\n",
       "      <td>184.783190</td>\n",
       "    </tr>\n",
       "    <tr>\n",
       "      <th>4</th>\n",
       "      <td>149.676086</td>\n",
       "    </tr>\n",
       "  </tbody>\n",
       "</table>\n",
       "</div>"
      ],
      "text/plain": [
       "            y\n",
       "0  266.646900\n",
       "1  149.676086\n",
       "2   84.577645\n",
       "3  184.783190\n",
       "4  149.676086"
      ]
     },
     "execution_count": 37,
     "metadata": {},
     "output_type": "execute_result"
    }
   ],
   "source": [
    "result_df.head()"
   ]
  },
  {
   "cell_type": "code",
   "execution_count": 38,
   "metadata": {},
   "outputs": [],
   "source": [
    "result_df.to_csv(\"./tree_3.csv\", header=False)"
   ]
  },
  {
   "cell_type": "code",
   "execution_count": null,
   "metadata": {},
   "outputs": [],
   "source": []
  }
 ],
 "metadata": {
  "kernelspec": {
   "display_name": "Python 3",
   "language": "python",
   "name": "python3"
  },
  "language_info": {
   "codemirror_mode": {
    "name": "ipython",
    "version": 3
   },
   "file_extension": ".py",
   "mimetype": "text/x-python",
   "name": "python",
   "nbconvert_exporter": "python",
   "pygments_lexer": "ipython3",
   "version": "3.6.10"
  }
 },
 "nbformat": 4,
 "nbformat_minor": 4
}
