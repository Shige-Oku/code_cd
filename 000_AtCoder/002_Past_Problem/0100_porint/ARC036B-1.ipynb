{
 "cells": [
  {
   "cell_type": "code",
   "execution_count": 1,
   "metadata": {},
   "outputs": [],
   "source": [
    "import sys\n",
    "import numpy as np\n",
    "import math\n",
    "import collections\n",
    "import copy\n",
    "import decimal\n",
    "import itertools\n",
    "import re\n",
    "import bisect\n",
    "import scipy\n",
    "from collections import deque \n",
    "from functools import reduce\n",
    "from itertools import product\n",
    "from itertools import combinations\n",
    "from functools import lru_cache\n",
    "from scipy.special import comb\n",
    "from numba import njit, jit\n",
    "from bisect import bisect_right\n",
    "from bisect import bisect_left"
   ]
  },
  {
   "cell_type": "code",
   "execution_count": 1,
   "metadata": {},
   "outputs": [
    {
     "name": "stdin",
     "output_type": "stream",
     "text": [
      " 6\n"
     ]
    }
   ],
   "source": [
    "N = int(input())"
   ]
  },
  {
   "cell_type": "code",
   "execution_count": 2,
   "metadata": {},
   "outputs": [
    {
     "name": "stdin",
     "output_type": "stream",
     "text": [
      " 4\n",
      " 5\n",
      " 1\n",
      " 6\n",
      " 9\n",
      " 7\n"
     ]
    }
   ],
   "source": [
    "Hn = [int(input()) for _ in range(N)]"
   ]
  },
  {
   "cell_type": "code",
   "execution_count": null,
   "metadata": {},
   "outputs": [],
   "source": [
    "# WA"
   ]
  },
  {
   "cell_type": "code",
   "execution_count": 15,
   "metadata": {},
   "outputs": [],
   "source": [
    "left = 0\n",
    "right = N\n",
    "ans = 0\n",
    "if Hn[0] > Hn[1]:\n",
    "    flg = True\n",
    "else:\n",
    "    flg = False\n",
    "for i in range(N-1):\n",
    "    if flg:\n",
    "        if Hn[i] < Hn[i+1]:\n",
    "            continue\n",
    "        else:\n",
    "            flg = False\n",
    "    else:\n",
    "        if Hn[i] > Hn[i+1]:\n",
    "            continue\n",
    "        else:\n",
    "            right = i\n",
    "            ans = max(ans, right-left)\n",
    "            left = i\n",
    "            flg = True\n",
    "else:\n",
    "    right = N\n",
    "ans = max(ans, right-left)"
   ]
  },
  {
   "cell_type": "code",
   "execution_count": 16,
   "metadata": {},
   "outputs": [
    {
     "name": "stdout",
     "output_type": "stream",
     "text": [
      "4\n"
     ]
    }
   ],
   "source": [
    "print(ans)"
   ]
  },
  {
   "cell_type": "code",
   "execution_count": 14,
   "metadata": {},
   "outputs": [
    {
     "data": {
      "text/plain": [
       "(False, 6, 3)"
      ]
     },
     "execution_count": 14,
     "metadata": {},
     "output_type": "execute_result"
    }
   ],
   "source": [
    "flg, right, left"
   ]
  },
  {
   "cell_type": "code",
   "execution_count": 27,
   "metadata": {},
   "outputs": [],
   "source": [
    "def solve(t):\n",
    "    for i in range(t-1, 0, -1):\n",
    "        if Hn[i-1] > Hn[i]:\n",
    "            west = i\n",
    "            break\n",
    "    else:\n",
    "        west = 0\n",
    "    for i in range(t+1, N-1):\n",
    "        if Hn[i] < Hn[i+1]:\n",
    "            east = i\n",
    "            break\n",
    "    else:\n",
    "        east = N\n",
    "    \n",
    "    return east - west\n"
   ]
  },
  {
   "cell_type": "code",
   "execution_count": 28,
   "metadata": {},
   "outputs": [],
   "source": [
    "ans = 0\n",
    "for i in range(N):\n",
    "    if Hn[i-1] < Hn[i] < Hn[i+1]:\n",
    "        ans = max(ans, solve(i))"
   ]
  },
  {
   "cell_type": "code",
   "execution_count": 29,
   "metadata": {},
   "outputs": [
    {
     "name": "stdout",
     "output_type": "stream",
     "text": [
      "4\n"
     ]
    }
   ],
   "source": [
    "if ans == 0:\n",
    "    print(N)\n",
    "else:\n",
    "    print(ans)"
   ]
  },
  {
   "cell_type": "code",
   "execution_count": null,
   "metadata": {},
   "outputs": [],
   "source": [
    "# WA"
   ]
  },
  {
   "cell_type": "code",
   "execution_count": 15,
   "metadata": {},
   "outputs": [
    {
     "name": "stdout",
     "output_type": "stream",
     "text": [
      "2 0 2\n",
      "3 0 3\n",
      "4 0 4\n",
      "5 0 5\n",
      "6 0 6\n"
     ]
    }
   ],
   "source": [
    "e_num, w_num = 0, 0\n",
    "ans = 0\n",
    "if Hn[0] < Hn[1]:\n",
    "    West = True\n",
    "    w_num = 1\n",
    "else:\n",
    "    West= False\n",
    "    e_num = 1\n",
    "for i in range(2, N):\n",
    "    if West:\n",
    "        if Hn[i-1] < Hn[i]:\n",
    "            w_num += 1\n",
    "        else:\n",
    "            e_num = 1\n",
    "    else:\n",
    "        if Hn[i-1] > Hn[i]:\n",
    "            e_num += 1\n",
    "        else:\n",
    "            w_num = 1\n",
    "    ans = max(ans, w_num+e_num)\n"
   ]
  },
  {
   "cell_type": "code",
   "execution_count": 16,
   "metadata": {},
   "outputs": [
    {
     "name": "stdout",
     "output_type": "stream",
     "text": [
      "7\n"
     ]
    }
   ],
   "source": [
    "if w_num == 0:\n",
    "    print(ans+1)\n",
    "else:\n",
    "    print(ans)"
   ]
  },
  {
   "cell_type": "code",
   "execution_count": 10,
   "metadata": {},
   "outputs": [
    {
     "data": {
      "text/plain": [
       "(0, 6)"
      ]
     },
     "execution_count": 10,
     "metadata": {},
     "output_type": "execute_result"
    }
   ],
   "source": [
    "w_num, e_num"
   ]
  },
  {
   "cell_type": "code",
   "execution_count": null,
   "metadata": {},
   "outputs": [],
   "source": []
  }
 ],
 "metadata": {
  "kernelspec": {
   "display_name": "Python 3",
   "language": "python",
   "name": "python3"
  },
  "language_info": {
   "codemirror_mode": {
    "name": "ipython",
    "version": 3
   },
   "file_extension": ".py",
   "mimetype": "text/x-python",
   "name": "python",
   "nbconvert_exporter": "python",
   "pygments_lexer": "ipython3",
   "version": "3.6.10"
  }
 },
 "nbformat": 4,
 "nbformat_minor": 4
}
