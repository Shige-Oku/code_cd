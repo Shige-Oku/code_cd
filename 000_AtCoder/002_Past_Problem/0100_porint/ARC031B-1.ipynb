{
 "cells": [
  {
   "cell_type": "code",
   "execution_count": 12,
   "metadata": {},
   "outputs": [],
   "source": [
    "import sys\n",
    "import numpy as np\n",
    "import math\n",
    "import collections\n",
    "import copy\n",
    "import decimal\n",
    "from collections import deque \n",
    "from functools import reduce\n",
    "from itertools import product\n",
    "from itertools import combinations"
   ]
  },
  {
   "cell_type": "code",
   "execution_count": 41,
   "metadata": {},
   "outputs": [
    {
     "name": "stdin",
     "output_type": "stream",
     "text": [
      " xxxxxxxxxx\n",
      " xoooooooxx\n",
      " xxoooooxxx\n",
      " xxxoooxxxx\n",
      " xxxxoxxxxx\n",
      " xxxxxxxxxx\n",
      " xxxxoxxxxx\n",
      " xxxoooxxxx\n",
      " xxoooooxxx\n",
      " xxxxxxxxxx\n"
     ]
    }
   ],
   "source": [
    "ma = [input() for _ in range(10)]"
   ]
  },
  {
   "cell_type": "code",
   "execution_count": 42,
   "metadata": {},
   "outputs": [
    {
     "data": {
      "text/plain": [
       "['xxxxxxxxxx',\n",
       " 'xoooooooxx',\n",
       " 'xxoooooxxx',\n",
       " 'xxxoooxxxx',\n",
       " 'xxxxoxxxxx',\n",
       " 'xxxxxxxxxx',\n",
       " 'xxxxoxxxxx',\n",
       " 'xxxoooxxxx',\n",
       " 'xxoooooxxx',\n",
       " 'xxxxxxxxxx']"
      ]
     },
     "execution_count": 42,
     "metadata": {},
     "output_type": "execute_result"
    }
   ],
   "source": [
    "ma"
   ]
  },
  {
   "cell_type": "code",
   "execution_count": 34,
   "metadata": {},
   "outputs": [
    {
     "name": "stdin",
     "output_type": "stream",
     "text": [
      " xxxxxxxxxx\n",
      " xxxxxxxxxx\n",
      " xxxxxxxxxx\n",
      " xxxxxxxoxx\n",
      " xxxxxxxxxx\n",
      " xxxxxxxxxx\n",
      " xxxxxxxxxx\n",
      " xxxxxxxxxx\n",
      " xxxxxxxxxx\n",
      " xxxxxxxxxx\n"
     ]
    }
   ],
   "source": [
    "ma2 = []\n",
    "for _ in range(10):\n",
    "    s = [s for s in input()]\n",
    "    s.insert(0, \"x\")\n",
    "    s.append(\"x\")\n",
    "    ma2.append(s)"
   ]
  },
  {
   "cell_type": "code",
   "execution_count": 35,
   "metadata": {},
   "outputs": [],
   "source": [
    "ma2.insert(0, [\"x\"]*12)"
   ]
  },
  {
   "cell_type": "code",
   "execution_count": 36,
   "metadata": {},
   "outputs": [],
   "source": [
    "ma2.append([\"x\"]*12)"
   ]
  },
  {
   "cell_type": "code",
   "execution_count": 40,
   "metadata": {},
   "outputs": [],
   "source": [
    "ma3 = np.array(ma2)"
   ]
  },
  {
   "cell_type": "code",
   "execution_count": 41,
   "metadata": {},
   "outputs": [
    {
     "data": {
      "text/plain": [
       "array([['x', 'x', 'x', 'x', 'x', 'x', 'x', 'x', 'x', 'x', 'x', 'x'],\n",
       "       ['x', 'x', 'x', 'x', 'x', 'x', 'x', 'x', 'x', 'x', 'x', 'x'],\n",
       "       ['x', 'x', 'x', 'x', 'x', 'x', 'x', 'x', 'x', 'x', 'x', 'x'],\n",
       "       ['x', 'x', 'x', 'x', 'x', 'x', 'x', 'x', 'x', 'x', 'x', 'x'],\n",
       "       ['x', 'x', 'x', 'x', 'x', 'x', 'x', 'x', 'o', 'x', 'x', 'x'],\n",
       "       ['x', 'x', 'x', 'x', 'x', 'x', 'x', 'x', 'x', 'x', 'x', 'x'],\n",
       "       ['x', 'x', 'x', 'x', 'x', 'x', 'x', 'x', 'x', 'x', 'x', 'x'],\n",
       "       ['x', 'x', 'x', 'x', 'x', 'x', 'x', 'x', 'x', 'x', 'x', 'x'],\n",
       "       ['x', 'x', 'x', 'x', 'x', 'x', 'x', 'x', 'x', 'x', 'x', 'x'],\n",
       "       ['x', 'x', 'x', 'x', 'x', 'x', 'x', 'x', 'x', 'x', 'x', 'x'],\n",
       "       ['x', 'x', 'x', 'x', 'x', 'x', 'x', 'x', 'x', 'x', 'x', 'x'],\n",
       "       ['x', 'x', 'x', 'x', 'x', 'x', 'x', 'x', 'x', 'x', 'x', 'x']],\n",
       "      dtype='<U1')"
      ]
     },
     "execution_count": 41,
     "metadata": {},
     "output_type": "execute_result"
    }
   ],
   "source": [
    "# ma3[0, 0] = 'A'\n",
    "ma3"
   ]
  },
  {
   "cell_type": "code",
   "execution_count": 42,
   "metadata": {},
   "outputs": [],
   "source": [
    "def DFS(ma, seen, x, y):\n",
    "    seen[x][y] = True\n",
    "    for x1, y1 in ((1, 0), (-1, 0), (0, 1), (0, -1)):\n",
    "#         print(x, y)\n",
    "#         print(x+x1, y+y1, ma[x+x1][y+y1], seen[x+x1][y+y1])\n",
    "        if (ma[x+x1][y+y1] == 'x' or seen[x+x1][y+y1]):\n",
    "            continue\n",
    "        DFS(ma, seen, x+x1, y+y1)\n",
    "    return"
   ]
  },
  {
   "cell_type": "code",
   "execution_count": 43,
   "metadata": {},
   "outputs": [],
   "source": [
    "def print_seen(seen):\n",
    "    for se in seen:\n",
    "        print(se)"
   ]
  },
  {
   "cell_type": "code",
   "execution_count": 44,
   "metadata": {},
   "outputs": [],
   "source": [
    "def solve(ma):\n",
    "    ret = 0\n",
    "    seen = [[False]*12 for _ in range(12)]\n",
    "    for x in range(1, 11):\n",
    "        for y in range(1, 11):\n",
    "            if seen[x][y] or ma[x][y] == 'x':\n",
    "                continue\n",
    "#             seen[x][y] = True\n",
    "#             print(\"x={0}, y = {1}\".format(x, y))\n",
    "#             print_seen(seen)\n",
    "            DFS(ma, seen, x, y)\n",
    "#             print_seen(seen)\n",
    "            ret += 1\n",
    "#     print(ret)\n",
    "    return ret"
   ]
  },
  {
   "cell_type": "code",
   "execution_count": 45,
   "metadata": {},
   "outputs": [],
   "source": [
    "ok = False\n",
    "for i in range(1, 11):\n",
    "    for j in range(1, 11):\n",
    "        if ma3[i][j] == \"o\":\n",
    "            continue\n",
    "#         print(i, j)\n",
    "        ma_c = ma3.copy()\n",
    "        ma_c[i][j] = 'o'\n",
    "        ret = solve(ma_c)\n",
    "#         print(i, j, ret)\n",
    "        if (ret == 1):\n",
    "            ok = True"
   ]
  },
  {
   "cell_type": "code",
   "execution_count": 46,
   "metadata": {},
   "outputs": [
    {
     "name": "stdout",
     "output_type": "stream",
     "text": [
      "YES\n"
     ]
    }
   ],
   "source": [
    "if ok:\n",
    "    print(\"YES\")\n",
    "else:\n",
    "    print(\"NO\")"
   ]
  },
  {
   "cell_type": "code",
   "execution_count": 47,
   "metadata": {},
   "outputs": [
    {
     "data": {
      "text/plain": [
       "array([['x', 'x', 'x', 'x', 'x', 'x', 'x', 'x', 'x', 'x', 'x', 'x'],\n",
       "       ['x', 'x', 'x', 'x', 'x', 'x', 'x', 'x', 'x', 'x', 'x', 'x'],\n",
       "       ['x', 'x', 'x', 'x', 'x', 'x', 'x', 'x', 'x', 'x', 'x', 'x'],\n",
       "       ['x', 'x', 'x', 'x', 'x', 'x', 'x', 'x', 'x', 'x', 'x', 'x'],\n",
       "       ['x', 'x', 'x', 'x', 'x', 'x', 'x', 'x', 'o', 'x', 'x', 'x'],\n",
       "       ['x', 'x', 'x', 'x', 'x', 'x', 'x', 'x', 'x', 'x', 'x', 'x'],\n",
       "       ['x', 'x', 'x', 'x', 'x', 'x', 'x', 'x', 'x', 'x', 'x', 'x'],\n",
       "       ['x', 'x', 'x', 'x', 'x', 'x', 'x', 'x', 'x', 'x', 'x', 'x'],\n",
       "       ['x', 'x', 'x', 'x', 'x', 'x', 'x', 'x', 'x', 'x', 'x', 'x'],\n",
       "       ['x', 'x', 'x', 'x', 'x', 'x', 'x', 'x', 'x', 'o', 'x', 'x'],\n",
       "       ['x', 'x', 'x', 'x', 'x', 'x', 'x', 'x', 'x', 'x', 'x', 'x'],\n",
       "       ['x', 'x', 'x', 'x', 'x', 'x', 'x', 'x', 'x', 'x', 'x', 'x']],\n",
       "      dtype='<U1')"
      ]
     },
     "execution_count": 47,
     "metadata": {},
     "output_type": "execute_result"
    }
   ],
   "source": [
    "ma_c"
   ]
  },
  {
   "cell_type": "code",
   "execution_count": 9,
   "metadata": {},
   "outputs": [
    {
     "data": {
      "text/plain": [
       "'x'"
      ]
     },
     "execution_count": 9,
     "metadata": {},
     "output_type": "execute_result"
    }
   ],
   "source": [
    "ma_c[0][0]"
   ]
  },
  {
   "cell_type": "code",
   "execution_count": null,
   "metadata": {},
   "outputs": [],
   "source": []
  }
 ],
 "metadata": {
  "kernelspec": {
   "display_name": "Python 3",
   "language": "python",
   "name": "python3"
  },
  "language_info": {
   "codemirror_mode": {
    "name": "ipython",
    "version": 3
   },
   "file_extension": ".py",
   "mimetype": "text/x-python",
   "name": "python",
   "nbconvert_exporter": "python",
   "pygments_lexer": "ipython3",
   "version": "3.6.10"
  }
 },
 "nbformat": 4,
 "nbformat_minor": 4
}
