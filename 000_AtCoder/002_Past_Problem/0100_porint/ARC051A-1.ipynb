{
 "cells": [
  {
   "cell_type": "code",
   "execution_count": 1,
   "metadata": {},
   "outputs": [],
   "source": [
    "import sys\n",
    "import numpy as np\n",
    "import math\n",
    "import collections\n",
    "import copy\n",
    "import decimal\n",
    "import itertools\n",
    "import re\n",
    "import bisect\n",
    "import scipy\n",
    "from collections import deque \n",
    "from functools import reduce\n",
    "from itertools import product\n",
    "from itertools import combinations\n",
    "from functools import lru_cache\n",
    "from scipy.special import comb\n",
    "from numba import njit, jit\n",
    "from bisect import bisect_right\n",
    "from bisect import bisect_left"
   ]
  },
  {
   "cell_type": "code",
   "execution_count": 19,
   "metadata": {},
   "outputs": [
    {
     "name": "stdin",
     "output_type": "stream",
     "text": [
      " 0 0 5\n"
     ]
    }
   ],
   "source": [
    "X1, Y1, R = map(int, input().split())"
   ]
  },
  {
   "cell_type": "code",
   "execution_count": 20,
   "metadata": {},
   "outputs": [
    {
     "name": "stdin",
     "output_type": "stream",
     "text": [
      " -4 -4 4 4\n"
     ]
    }
   ],
   "source": [
    "X2, Y2, X3, Y3 = map(int, input().split())"
   ]
  },
  {
   "cell_type": "code",
   "execution_count": 25,
   "metadata": {},
   "outputs": [],
   "source": [
    "dis1 = (X1-X2)**2 + (Y1-Y2)**2\n",
    "dis2 = (X1-X2)**2 + (Y1-Y3)**2\n",
    "dis3 = (X1-X3)**2 + (Y1-Y2)**2\n",
    "dis4 = (X1-X3)**2 + (Y1-Y3)**2"
   ]
  },
  {
   "cell_type": "code",
   "execution_count": null,
   "metadata": {},
   "outputs": [],
   "source": [
    "if dis1 <= R**2 and dis2 <= R**2 and dis3 <= R**2 and dis4 <= R**2:\n",
    "    print(\"YES\")\n",
    "    print(\"NO\")\n",
    "elif (Y1-R >= Y2) and (Y1+R <= Y3) and (X1-R >= X2) and (X1+R <= X3):\n",
    "    print(\"NO\")\n",
    "    print(\"YES\")\n",
    "else:\n",
    "    print(\"YES\")\n",
    "    print(\"YES\")    "
   ]
  },
  {
   "cell_type": "code",
   "execution_count": null,
   "metadata": {},
   "outputs": [],
   "source": [
    "# WA"
   ]
  },
  {
   "cell_type": "code",
   "execution_count": 26,
   "metadata": {},
   "outputs": [
    {
     "name": "stdout",
     "output_type": "stream",
     "text": [
      "YES\n",
      "YES\n"
     ]
    }
   ],
   "source": [
    "if dis1 > R**2 and dis2 > R**2 and dis3 > R**2 and dis4 > R**2: \n",
    "    if (Y1-R >= Y2) and (Y1+R <= Y3) and (X1-R >= X2) and (X1+R <= X3):\n",
    "        print(\"NO\")\n",
    "        print(\"YES\")\n",
    "    else:\n",
    "        print(\"YES\")\n",
    "        print(\"YES\")\n",
    "elif (Y1-R < Y2) and (Y1+R > Y2) and (X1-R < X2) and (X1+R > X3):\n",
    "    print(\"YES\")\n",
    "    print(\"NO\")\n",
    "else:\n",
    "    print(\"YES\")\n",
    "    print(\"YES\")\n",
    "        "
   ]
  },
  {
   "cell_type": "code",
   "execution_count": 21,
   "metadata": {},
   "outputs": [
    {
     "name": "stdout",
     "output_type": "stream",
     "text": [
      "Yes\n",
      "No\n"
     ]
    }
   ],
   "source": [
    "if (Y1-R >= Y2) and (Y1+R <= Y3) and (X1-R >= X2) and (X1+R <= X3):\n",
    "    print(\"No\")\n",
    "    print(\"Yes\")\n",
    "elif (Y1-R < Y2) and (Y1+R > Y2) and (X1-R < X2) and (X1+R > X3):\n",
    "    print(\"Yes\")\n",
    "    print(\"No\")\n",
    "else:\n",
    "    print(\"Yes\")\n",
    "    print(\"Yes\")"
   ]
  },
  {
   "cell_type": "code",
   "execution_count": 23,
   "metadata": {},
   "outputs": [
    {
     "data": {
      "text/plain": [
       "(5.656854249492381, 5.656854249492381, 5.656854249492381, 5.656854249492381)"
      ]
     },
     "execution_count": 23,
     "metadata": {},
     "output_type": "execute_result"
    }
   ],
   "source": [
    "dis1, dis2, dis3, dis4"
   ]
  },
  {
   "cell_type": "code",
   "execution_count": null,
   "metadata": {},
   "outputs": [],
   "source": []
  }
 ],
 "metadata": {
  "kernelspec": {
   "display_name": "Python 3",
   "language": "python",
   "name": "python3"
  },
  "language_info": {
   "codemirror_mode": {
    "name": "ipython",
    "version": 3
   },
   "file_extension": ".py",
   "mimetype": "text/x-python",
   "name": "python",
   "nbconvert_exporter": "python",
   "pygments_lexer": "ipython3",
   "version": "3.6.10"
  }
 },
 "nbformat": 4,
 "nbformat_minor": 4
}
