{
 "cells": [
  {
   "cell_type": "code",
   "execution_count": 1,
   "metadata": {},
   "outputs": [],
   "source": [
    "import sys\n",
    "import numpy as np\n",
    "import math\n",
    "import collections\n",
    "import copy\n",
    "import decimal\n",
    "from collections import deque \n",
    "from functools import reduce\n",
    "from itertools import product\n",
    "from itertools import combinations"
   ]
  },
  {
   "cell_type": "code",
   "execution_count": 6,
   "metadata": {},
   "outputs": [
    {
     "name": "stdin",
     "output_type": "stream",
     "text": [
      " xxxxxxxxxx\n",
      " xoooooooxx\n",
      " xxoooooxxx\n",
      " xxxoooxxxx\n",
      " xxxxoxxxxx\n",
      " xxxxxxxxxx\n",
      " xxxxoxxxxx\n",
      " xxxoooxxxx\n",
      " xxoooooxxx\n",
      " xxxxxxxxxx\n"
     ]
    }
   ],
   "source": [
    "ma = []\n",
    "for _ in range(10):\n",
    "    s = [x for x in input()]\n",
    "    s.insert(0, \"x\")\n",
    "    s.append(\"x\")\n",
    "    ma.append(s)"
   ]
  },
  {
   "cell_type": "code",
   "execution_count": 7,
   "metadata": {},
   "outputs": [],
   "source": [
    "ma.insert(0, [\"x\"]*12)\n",
    "ma.append([\"x\"]*12)"
   ]
  },
  {
   "cell_type": "code",
   "execution_count": 8,
   "metadata": {},
   "outputs": [
    {
     "data": {
      "text/plain": [
       "[['x', 'x', 'x', 'x', 'x', 'x', 'x', 'x', 'x', 'x', 'x', 'x'],\n",
       " ['x', 'x', 'x', 'x', 'x', 'x', 'x', 'x', 'x', 'x', 'x', 'x'],\n",
       " ['x', 'x', 'o', 'o', 'o', 'o', 'o', 'o', 'o', 'x', 'x', 'x'],\n",
       " ['x', 'x', 'x', 'o', 'o', 'o', 'o', 'o', 'x', 'x', 'x', 'x'],\n",
       " ['x', 'x', 'x', 'x', 'o', 'o', 'o', 'x', 'x', 'x', 'x', 'x'],\n",
       " ['x', 'x', 'x', 'x', 'x', 'o', 'x', 'x', 'x', 'x', 'x', 'x'],\n",
       " ['x', 'x', 'x', 'x', 'x', 'x', 'x', 'x', 'x', 'x', 'x', 'x'],\n",
       " ['x', 'x', 'x', 'x', 'x', 'o', 'x', 'x', 'x', 'x', 'x', 'x'],\n",
       " ['x', 'x', 'x', 'x', 'o', 'o', 'o', 'x', 'x', 'x', 'x', 'x'],\n",
       " ['x', 'x', 'x', 'o', 'o', 'o', 'o', 'o', 'x', 'x', 'x', 'x'],\n",
       " ['x', 'x', 'x', 'x', 'x', 'x', 'x', 'x', 'x', 'x', 'x', 'x'],\n",
       " ['x', 'x', 'x', 'x', 'x', 'x', 'x', 'x', 'x', 'x', 'x', 'x']]"
      ]
     },
     "execution_count": 8,
     "metadata": {},
     "output_type": "execute_result"
    }
   ],
   "source": [
    "ma"
   ]
  },
  {
   "cell_type": "code",
   "execution_count": 13,
   "metadata": {},
   "outputs": [],
   "source": [
    "def BFS(ma, seen, i, j):\n",
    "    deq = deque()\n",
    "    deq.append((i, j))\n",
    "    seen[i][j] = True\n",
    "    while deq:\n",
    "        x, y = deq.popleft()\n",
    "        for x1, y1 in ((1, 0), (-1, 0), (0, 1), (0, -1)):\n",
    "            if (ma[x+x1, y+y1] == \"x\" or seen[x+x1][y+y1]):\n",
    "                continue\n",
    "            deq.append((x+x1, y+y1))\n",
    "            seen[x+x1][y+y1] = True\n"
   ]
  },
  {
   "cell_type": "code",
   "execution_count": 28,
   "metadata": {},
   "outputs": [],
   "source": [
    "def solve(ma):\n",
    "    ret = 0\n",
    "    seen = [[False] * 12 for _ in range(12)]\n",
    "    for i in range(1, 11):\n",
    "        for j in range(1, 11):\n",
    "            if (ma[i, j] == \"x\" or seen[i][j]):\n",
    "                continue\n",
    "            BFS(ma, seen, i, j)\n",
    "            ret += 1\n",
    "#     print(ret)\n",
    "    return ret"
   ]
  },
  {
   "cell_type": "code",
   "execution_count": 29,
   "metadata": {},
   "outputs": [],
   "source": [
    "ok = False\n",
    "for i in range(1, 11):\n",
    "    for j in range(1, 11):\n",
    "#         print(i, j)\n",
    "        ma2 = np.array(ma)\n",
    "        ma2[i, j] = 'o'\n",
    "        ret = solve(ma2)\n",
    "        if ret == 1:\n",
    "            ok = True\n",
    "        "
   ]
  },
  {
   "cell_type": "code",
   "execution_count": 27,
   "metadata": {},
   "outputs": [
    {
     "name": "stdout",
     "output_type": "stream",
     "text": [
      "YES\n"
     ]
    }
   ],
   "source": [
    "if ok:\n",
    "    print(\"YES\")\n",
    "else:\n",
    "    print(\"NO\")"
   ]
  },
  {
   "cell_type": "code",
   "execution_count": null,
   "metadata": {},
   "outputs": [],
   "source": []
  }
 ],
 "metadata": {
  "kernelspec": {
   "display_name": "Python 3",
   "language": "python",
   "name": "python3"
  },
  "language_info": {
   "codemirror_mode": {
    "name": "ipython",
    "version": 3
   },
   "file_extension": ".py",
   "mimetype": "text/x-python",
   "name": "python",
   "nbconvert_exporter": "python",
   "pygments_lexer": "ipython3",
   "version": "3.6.10"
  }
 },
 "nbformat": 4,
 "nbformat_minor": 4
}
