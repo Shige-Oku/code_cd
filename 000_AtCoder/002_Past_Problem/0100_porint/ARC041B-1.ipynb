{
 "cells": [
  {
   "cell_type": "code",
   "execution_count": 1,
   "metadata": {},
   "outputs": [],
   "source": [
    "import sys\n",
    "import numpy as np\n",
    "import math\n",
    "import collections\n",
    "import copy\n",
    "import decimal\n",
    "import itertools\n",
    "import re\n",
    "import bisect\n",
    "import scipy\n",
    "from collections import deque \n",
    "from functools import reduce\n",
    "from itertools import product\n",
    "from itertools import combinations\n",
    "from functools import lru_cache\n",
    "from scipy.special import comb\n",
    "from numba import njit, jit\n",
    "from bisect import bisect_right\n",
    "from bisect import bisect_left"
   ]
  },
  {
   "cell_type": "code",
   "execution_count": 48,
   "metadata": {},
   "outputs": [
    {
     "name": "stdin",
     "output_type": "stream",
     "text": [
      " 5 5\n"
     ]
    }
   ],
   "source": [
    "N, M = map(int, input().split())"
   ]
  },
  {
   "cell_type": "code",
   "execution_count": 49,
   "metadata": {},
   "outputs": [
    {
     "name": "stdin",
     "output_type": "stream",
     "text": [
      " 00100\n",
      " 03040\n",
      " 20903\n",
      " 05060\n",
      " 00300\n"
     ]
    }
   ],
   "source": [
    "Anm = [input() for _ in range(N)]"
   ]
  },
  {
   "cell_type": "code",
   "execution_count": 53,
   "metadata": {},
   "outputs": [
    {
     "name": "stdout",
     "output_type": "stream",
     "text": [
      "3 0 0 1\n",
      "0 0 0 0\n",
      "4 0 0 0\n",
      "0 0 0 0\n",
      "9 0 1 3\n",
      "0 2 0 0\n"
     ]
    }
   ],
   "source": [
    "ANM = [[0] * M for _ in range(N)]\n",
    "for i,anm in enumerate(Anm):\n",
    "    for j, a in enumerate(anm):\n",
    "        ANM[i][j] = int(a)\n",
    "ans = [[0] * M for _ in range(N)]\n",
    "ans[1] = ANM[0]\n",
    "for i in range(2, N-1):\n",
    "    for j in range(1, M-1):\n",
    "#         print(ANM[i-1][j], ans[i-1][j-2], ans[i-2][j], ans[i-1][j+1])\n",
    "        ans[i][j] = ANM[i-1][j] - ans[i-1][j-1] - ans[i-2][j] - ans[i-1][j+1]"
   ]
  },
  {
   "cell_type": "code",
   "execution_count": 54,
   "metadata": {},
   "outputs": [
    {
     "name": "stdout",
     "output_type": "stream",
     "text": [
      "00000\n",
      "00100\n",
      "02030\n",
      "00300\n",
      "00000\n"
     ]
    }
   ],
   "source": [
    "for an in ans:\n",
    "    print(*an, sep=\"\")"
   ]
  },
  {
   "cell_type": "code",
   "execution_count": 44,
   "metadata": {},
   "outputs": [
    {
     "data": {
      "text/plain": [
       "([[0, 2, 3, 0], [2, 3, 2, 3], [0, 2, 3, 0]],\n",
       " [[0, 0, 0, 0], [0, 2, 3, 0], [0, 0, 0, 0]])"
      ]
     },
     "execution_count": 44,
     "metadata": {},
     "output_type": "execute_result"
    }
   ],
   "source": [
    "ANM, ans"
   ]
  },
  {
   "cell_type": "code",
   "execution_count": 24,
   "metadata": {},
   "outputs": [],
   "source": [
    "ans = [[0] * M for _ in range(N)]\n",
    "for i, A in enumerate(Anm):\n",
    "    for j, a in enumerate(A):\n",
    "        for x, y in ((1, 0), (-1, 0), (0, 1), (0, -1)):\n",
    "            if i+x < 0 or  i+x >= N:\n",
    "                continue\n",
    "            if j+y < 0 or  j+y >= M:\n",
    "                continue\n",
    "            ans[i+x][j+y] += int(Anm[i][j]) / 4"
   ]
  },
  {
   "cell_type": "code",
   "execution_count": 33,
   "metadata": {},
   "outputs": [],
   "source": [
    "Ans = []\n",
    "for an in ans:\n",
    "    s =\"\"\n",
    "    for a in an:\n",
    "        s += str(int(a // 1))\n",
    "    Ans.append(s)"
   ]
  },
  {
   "cell_type": "code",
   "execution_count": 34,
   "metadata": {},
   "outputs": [
    {
     "name": "stdout",
     "output_type": "stream",
     "text": [
      "000\n",
      "010\n",
      "000\n"
     ]
    }
   ],
   "source": [
    "for aa in Ans:\n",
    "    print(aa)"
   ]
  },
  {
   "cell_type": "code",
   "execution_count": 31,
   "metadata": {},
   "outputs": [
    {
     "data": {
      "text/plain": [
       "([[0.5, 0.0, 0.5], [0.0, 1.0, 0.0], [0.5, 0.0, 0.5]],\n",
       " [[], [], [], '000', '010', '000'])"
      ]
     },
     "execution_count": 31,
     "metadata": {},
     "output_type": "execute_result"
    }
   ],
   "source": [
    "ans, Ans"
   ]
  },
  {
   "cell_type": "code",
   "execution_count": null,
   "metadata": {},
   "outputs": [],
   "source": []
  }
 ],
 "metadata": {
  "kernelspec": {
   "display_name": "Python 3",
   "language": "python",
   "name": "python3"
  },
  "language_info": {
   "codemirror_mode": {
    "name": "ipython",
    "version": 3
   },
   "file_extension": ".py",
   "mimetype": "text/x-python",
   "name": "python",
   "nbconvert_exporter": "python",
   "pygments_lexer": "ipython3",
   "version": "3.6.10"
  }
 },
 "nbformat": 4,
 "nbformat_minor": 4
}
