{
 "cells": [
  {
   "cell_type": "code",
   "execution_count": 1,
   "metadata": {},
   "outputs": [],
   "source": [
    "import sys\n",
    "import numpy as np\n",
    "import math\n",
    "import collections\n",
    "import copy\n",
    "import decimal\n",
    "import itertools\n",
    "import re\n",
    "import bisect\n",
    "import scipy\n",
    "from collections import deque \n",
    "from functools import reduce\n",
    "from itertools import product\n",
    "from itertools import combinations\n",
    "from functools import lru_cache\n",
    "from scipy.special import comb\n",
    "from numba import njit, jit\n",
    "from bisect import bisect_right\n",
    "from bisect import bisect_left"
   ]
  },
  {
   "cell_type": "code",
   "execution_count": 119,
   "metadata": {},
   "outputs": [
    {
     "name": "stdin",
     "output_type": "stream",
     "text": [
      " 4 4\n"
     ]
    }
   ],
   "source": [
    "N, R = map(int, input().split())"
   ]
  },
  {
   "cell_type": "code",
   "execution_count": 120,
   "metadata": {},
   "outputs": [
    {
     "name": "stdin",
     "output_type": "stream",
     "text": [
      " oooo\n"
     ]
    }
   ],
   "source": [
    "S = input()"
   ]
  },
  {
   "cell_type": "code",
   "execution_count": null,
   "metadata": {},
   "outputs": [],
   "source": [
    "# 解説を読んで実装"
   ]
  },
  {
   "cell_type": "code",
   "execution_count": 121,
   "metadata": {},
   "outputs": [],
   "source": [
    "SS = []\n",
    "for s in S:\n",
    "    SS.append(s)\n",
    "end = -1\n",
    "for i in range(N):\n",
    "    if S[i] == '.':\n",
    "        end = i\n",
    "\n",
    "i = 0\n",
    "chg = 0\n",
    "while i <= end:\n",
    "    if SS[i] == '.':\n",
    "        chg += 1\n",
    "        for j in range(i, min(N, i+R)):\n",
    "            SS[j] = 'o'\n",
    "    i += 1"
   ]
  },
  {
   "cell_type": "code",
   "execution_count": 122,
   "metadata": {},
   "outputs": [
    {
     "name": "stdout",
     "output_type": "stream",
     "text": [
      "0\n"
     ]
    }
   ],
   "source": [
    "print(max(0, end-R+1)+chg)"
   ]
  },
  {
   "cell_type": "code",
   "execution_count": 118,
   "metadata": {},
   "outputs": [
    {
     "data": {
      "text/plain": [
       "(4, 2, ['o', 'o', 'o', 'o', 'o', 'o', 'o', 'o'])"
      ]
     },
     "execution_count": 118,
     "metadata": {},
     "output_type": "execute_result"
    }
   ],
   "source": [
    "end, chg, SS"
   ]
  },
  {
   "cell_type": "code",
   "execution_count": 107,
   "metadata": {},
   "outputs": [],
   "source": [
    "#  WA => AC"
   ]
  },
  {
   "cell_type": "code",
   "execution_count": 88,
   "metadata": {},
   "outputs": [],
   "source": [
    "SS = []\n",
    "for s in S:\n",
    "    SS.append(s)\n",
    "end = -1\n",
    "for i in range(N):\n",
    "    if S[i] == '.':\n",
    "        end = i\n",
    "ans = 0\n",
    "i = 0\n",
    "while i <= end:\n",
    "    if i + R - 1 >= end:\n",
    "#         print('fin')\n",
    "        ans += 1\n",
    "        break\n",
    "    if SS[i] == '.':\n",
    "#         print(\"nuru\")\n",
    "        ans += 1\n",
    "        for j in range(i, min(N, i+R)):\n",
    "            SS[j] = 'o'\n",
    "    i += 1\n",
    "    ans += 1\n",
    "#     print('susumu')\n"
   ]
  },
  {
   "cell_type": "code",
   "execution_count": 89,
   "metadata": {},
   "outputs": [
    {
     "name": "stdout",
     "output_type": "stream",
     "text": [
      "6\n"
     ]
    }
   ],
   "source": [
    "print(ans)"
   ]
  },
  {
   "cell_type": "code",
   "execution_count": 81,
   "metadata": {},
   "outputs": [
    {
     "data": {
      "text/plain": [
       "(['o', 'o', 'o', 'o', '.'], 3, 4)"
      ]
     },
     "execution_count": 81,
     "metadata": {},
     "output_type": "execute_result"
    }
   ],
   "source": [
    "SS, ans, end"
   ]
  },
  {
   "cell_type": "code",
   "execution_count": null,
   "metadata": {},
   "outputs": [],
   "source": [
    "# サンプルが合わない"
   ]
  },
  {
   "cell_type": "code",
   "execution_count": 23,
   "metadata": {},
   "outputs": [],
   "source": [
    "end = 0\n",
    "for i in range(N):\n",
    "    if S[i] == '.':\n",
    "        end = i\n",
    "point = 0\n",
    "ans = 0\n",
    "i = 0\n",
    "while i < N:\n",
    "    if SS[i] == '.':\n",
    "        i += R\n",
    "#         ans += R\n",
    "        if i >= N:\n",
    "            ans += 1\n",
    "            break\n",
    "        else:\n",
    "            ans += R\n",
    "        continue\n",
    "    if i + R >= end:\n",
    "        ans += 1\n",
    "        break\n",
    "    else:\n",
    "        i += 1"
   ]
  },
  {
   "cell_type": "code",
   "execution_count": 24,
   "metadata": {},
   "outputs": [
    {
     "name": "stdout",
     "output_type": "stream",
     "text": [
      "1\n"
     ]
    }
   ],
   "source": [
    "print(ans)"
   ]
  },
  {
   "cell_type": "code",
   "execution_count": 25,
   "metadata": {},
   "outputs": [
    {
     "data": {
      "text/plain": [
       "4"
      ]
     },
     "execution_count": 25,
     "metadata": {},
     "output_type": "execute_result"
    }
   ],
   "source": [
    "end"
   ]
  },
  {
   "cell_type": "code",
   "execution_count": null,
   "metadata": {},
   "outputs": [],
   "source": []
  }
 ],
 "metadata": {
  "kernelspec": {
   "display_name": "Python 3",
   "language": "python",
   "name": "python3"
  },
  "language_info": {
   "codemirror_mode": {
    "name": "ipython",
    "version": 3
   },
   "file_extension": ".py",
   "mimetype": "text/x-python",
   "name": "python",
   "nbconvert_exporter": "python",
   "pygments_lexer": "ipython3",
   "version": "3.6.10"
  }
 },
 "nbformat": 4,
 "nbformat_minor": 4
}
