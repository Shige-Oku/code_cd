{
 "cells": [
  {
   "cell_type": "code",
   "execution_count": null,
   "id": "00b42853-0218-464c-a69c-15d81dae1f9d",
   "metadata": {},
   "outputs": [],
   "source": [
    "# TLE"
   ]
  },
  {
   "cell_type": "code",
   "execution_count": 1,
   "id": "04300888-16d8-48b3-9f03-032b8825feb8",
   "metadata": {},
   "outputs": [],
   "source": [
    "import sys\n",
    "import numpy as np\n",
    "import math\n",
    "import collections\n",
    "import copy\n",
    "import decimal\n",
    "import itertools\n",
    "import re\n",
    "import bisect\n",
    "import scipy\n",
    "import heapq\n",
    "from collections import deque \n",
    "from functools import reduce\n",
    "from itertools import product\n",
    "from itertools import combinations\n",
    "from itertools import chain\n",
    "from functools import lru_cache\n",
    "from scipy.special import comb\n",
    "from numba import njit\n",
    "from bisect import bisect_right\n",
    "from bisect import bisect_left"
   ]
  },
  {
   "cell_type": "code",
   "execution_count": 2,
   "id": "864a4c1f-4cd2-44bc-bd1f-6afa6380be40",
   "metadata": {},
   "outputs": [],
   "source": [
    "sys.setrecursionlimit(10**7)"
   ]
  },
  {
   "cell_type": "code",
   "execution_count": 59,
   "id": "1019e791-3314-49ba-8750-bf3d0aa1ec69",
   "metadata": {},
   "outputs": [
    {
     "name": "stdin",
     "output_type": "stream",
     "text": [
      " 1 1 1\n"
     ]
    }
   ],
   "source": [
    "N, Z, W = map(int, input().split())"
   ]
  },
  {
   "cell_type": "code",
   "execution_count": 60,
   "id": "9cc79fb4-4f18-49a0-bafd-4ff3e233449a",
   "metadata": {},
   "outputs": [
    {
     "name": "stdin",
     "output_type": "stream",
     "text": [
      " 1000000000\n"
     ]
    }
   ],
   "source": [
    "An = list(map(int, input().split()))"
   ]
  },
  {
   "cell_type": "code",
   "execution_count": 61,
   "id": "2f2d98dc-250b-45e6-a3d2-73139b5428da",
   "metadata": {},
   "outputs": [],
   "source": [
    "def DFS(n, z, w, flg):\n",
    "#     print(n, z, w, flg)\n",
    "    if flg:\n",
    "        if dp[n][0] != -1:\n",
    "            return dp[n][0]\n",
    "        if n == N-1:\n",
    "            dp[n][0] = abs(z - w)\n",
    "#             print('ret1:{0}'.format(dp[n][0]))\n",
    "            return dp[n][0]\n",
    "    else:\n",
    "        if dp[n][1] != -1:\n",
    "            return dp[n][1]\n",
    "        if n == N-1:\n",
    "            dp[n][1] = abs(z - w)\n",
    "#             print('ret2:{0}'.format(dp[n][1]))\n",
    "            return dp[n][1]\n",
    "    if flg:\n",
    "        ret = 0\n",
    "        for i in range(n+1, N):\n",
    "#             print('call1:{0}'.format(i+1))\n",
    "            ret = max(ret, DFS(i, An[i], w, False))\n",
    "    else:\n",
    "        ret = 10 ** 10\n",
    "        for i in range(n+1, N):\n",
    "#             print('call2:{0}'.format(i+1))\n",
    "            ret = min(ret, DFS(i, z, An[i], True))\n",
    "#     print(ret)\n",
    "    return ret\n"
   ]
  },
  {
   "cell_type": "code",
   "execution_count": null,
   "id": "3384d689-85c3-4843-87ba-1128aeb4cbd6",
   "metadata": {},
   "outputs": [],
   "source": []
  },
  {
   "cell_type": "code",
   "execution_count": 63,
   "id": "48172e31-872f-43bf-be70-8a4ba89066db",
   "metadata": {},
   "outputs": [
    {
     "name": "stdout",
     "output_type": "stream",
     "text": [
      "999999999\n"
     ]
    }
   ],
   "source": [
    "dp = [[-1] * 2 for _ in range(2100)]\n",
    "if N == 1:\n",
    "    print(abs(An[0]-W))\n",
    "else:\n",
    "    print(DFS(0, Z, W, True))"
   ]
  },
  {
   "cell_type": "code",
   "execution_count": 54,
   "id": "35cfe98d-8aa9-453c-b37d-a1bf26d7c52a",
   "metadata": {},
   "outputs": [],
   "source": [
    "# dp"
   ]
  },
  {
   "cell_type": "code",
   "execution_count": null,
   "id": "c4421abb-e978-4df9-a3eb-632b43d09c8b",
   "metadata": {},
   "outputs": [],
   "source": []
  }
 ],
 "metadata": {
  "kernelspec": {
   "display_name": "Python 3",
   "language": "python",
   "name": "python3"
  },
  "language_info": {
   "codemirror_mode": {
    "name": "ipython",
    "version": 3
   },
   "file_extension": ".py",
   "mimetype": "text/x-python",
   "name": "python",
   "nbconvert_exporter": "python",
   "pygments_lexer": "ipython3",
   "version": "3.6.13"
  }
 },
 "nbformat": 4,
 "nbformat_minor": 5
}
