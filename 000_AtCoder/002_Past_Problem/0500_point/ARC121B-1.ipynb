{
 "cells": [
  {
   "cell_type": "code",
   "execution_count": null,
   "id": "1c196e60-84e4-4ce4-b4e0-536009968385",
   "metadata": {},
   "outputs": [],
   "source": [
    "# 解説を読んで実装"
   ]
  },
  {
   "cell_type": "code",
   "execution_count": 1,
   "id": "eb9aa646-12da-42a0-86fe-0cbc611520bb",
   "metadata": {},
   "outputs": [],
   "source": [
    "import sys\n",
    "import numpy as np\n",
    "import math\n",
    "import collections\n",
    "import copy\n",
    "import decimal\n",
    "import itertools\n",
    "import re\n",
    "import bisect\n",
    "import scipy\n",
    "import heapq\n",
    "from collections import deque \n",
    "from functools import reduce\n",
    "from itertools import product\n",
    "from itertools import combinations\n",
    "from itertools import chain\n",
    "from functools import lru_cache\n",
    "from scipy.special import comb\n",
    "from numba import njit\n",
    "from bisect import bisect_right\n",
    "from bisect import bisect_left"
   ]
  },
  {
   "cell_type": "code",
   "execution_count": 43,
   "id": "42fdf420-707e-4e1b-8f66-1720c3258b50",
   "metadata": {},
   "outputs": [
    {
     "name": "stdin",
     "output_type": "stream",
     "text": [
      " 8\n"
     ]
    }
   ],
   "source": [
    "N = int(input())"
   ]
  },
  {
   "cell_type": "code",
   "execution_count": 44,
   "id": "615034e3-d86a-4808-97b4-f52e36db49be",
   "metadata": {},
   "outputs": [
    {
     "name": "stdin",
     "output_type": "stream",
     "text": [
      " 319565904416672 G\n",
      " 592981808975117 R\n",
      " 353850460009567 R\n",
      " 403762580060426 R\n",
      " 58112290323533 G\n",
      " 589783121096891 B\n",
      " 589162657302321 B\n",
      " 748761416640570 B\n",
      " 676996905256993 R\n",
      " 368593781834056 R\n",
      " 970704943275901 G\n",
      " 62777933199456 G\n",
      " 111052291907615 R\n",
      " 582518480506633 R\n",
      " 61696077476816 B\n",
      " 266939583432556 G\n"
     ]
    }
   ],
   "source": [
    "AC = [list(input().split()) for _ in range(N*2)]"
   ]
  },
  {
   "cell_type": "code",
   "execution_count": 45,
   "id": "5a25063b-d660-4404-bf54-22d6cd4bf1e3",
   "metadata": {},
   "outputs": [],
   "source": [
    "R_c = []\n",
    "G_c = []\n",
    "B_c = []\n",
    "for A, C in AC:\n",
    "    if C == 'R':\n",
    "        R_c.append(int(A))\n",
    "    elif C == 'G':\n",
    "        G_c.append(int(A))\n",
    "    else:\n",
    "        B_c.append(int(A))"
   ]
  },
  {
   "cell_type": "code",
   "execution_count": 64,
   "id": "5d885025-8a2d-4ccf-abce-d90165776599",
   "metadata": {},
   "outputs": [],
   "source": [
    "def solve(a, b):\n",
    "    ret = 10**20\n",
    "    a_s = sorted(list(set(a)))\n",
    "    b_s = sorted(list(set(b)))\n",
    "    ai, bi = 0, 0\n",
    "    while True:\n",
    "        ret = min(ret, abs(a_s[ai]-b_s[bi]))\n",
    "#         print(ai, bi, ret)\n",
    "        if ai >= len(a_s)-1 and bi >= len(b_s)-1:\n",
    "            break\n",
    "        if a_s[ai] >= b_s[bi]:\n",
    "            if bi+1 <= len(b_s)-1:\n",
    "                bi += 1\n",
    "            else:\n",
    "                ai = min(ai+1, len(a_s)-1)\n",
    "        else:\n",
    "            if ai+1 <= len(a_s)-1:\n",
    "                ai += 1\n",
    "            else:\n",
    "                bi = min(bi+1, len(b_s)-1)\n",
    "#     print(ai, bi)\n",
    "    \n",
    "    return ret"
   ]
  },
  {
   "cell_type": "code",
   "execution_count": 65,
   "id": "c5505553-3e5b-4c55-8e30-e5fe1d50e509",
   "metadata": {},
   "outputs": [
    {
     "name": "stdout",
     "output_type": "stream",
     "text": [
      "4280543600866\n"
     ]
    }
   ],
   "source": [
    "if len(R_c) % 2 == 0 and len(G_c) % 2 == 0 and len(B_c) % 2 == 0:\n",
    "    ans = 0\n",
    "elif len(R_c) % 2 == 0:\n",
    "    ans = solve(G_c, B_c)\n",
    "    if len(R_c) != 0:\n",
    "        ans = min(ans, solve(G_c, R_c)+solve(B_c, R_c))\n",
    "elif len(G_c) % 2 == 0:\n",
    "    ans = solve(R_c, B_c)\n",
    "    if len(G_c) != 0:\n",
    "        ans = min(ans, solve(R_c, G_c)+solve(B_c, G_c))\n",
    "else:\n",
    "    ans = solve(R_c, G_c)\n",
    "    if len(B_c) != 0:\n",
    "        ans = min(ans, solve(R_c, B_c)+solve(G_c, B_c))\n",
    "print(ans)"
   ]
  },
  {
   "cell_type": "code",
   "execution_count": 39,
   "id": "6ddc5061-8e7c-41af-aa53-af6a23ee85f5",
   "metadata": {},
   "outputs": [],
   "source": [
    "def solve(a, b):\n",
    "    ret = 10**17\n",
    "    for aa in a:\n",
    "        for bb in b:\n",
    "            ret = min(ret, abs(aa-bb))\n",
    "    return ret"
   ]
  },
  {
   "cell_type": "code",
   "execution_count": 50,
   "id": "a967f11d-4c5c-4f99-b344-c1f168581a73",
   "metadata": {},
   "outputs": [
    {
     "data": {
      "text/plain": [
       "(7, 5, 4)"
      ]
     },
     "execution_count": 50,
     "metadata": {},
     "output_type": "execute_result"
    }
   ],
   "source": [
    "len(R_c), len(G_c), len(B_c)"
   ]
  },
  {
   "cell_type": "code",
   "execution_count": 48,
   "id": "8e4ef8f1-daf9-4cbd-a7bc-95a37e20cbec",
   "metadata": {},
   "outputs": [
    {
     "data": {
      "text/plain": [
       "-30004011992029"
      ]
     },
     "execution_count": 48,
     "metadata": {},
     "output_type": "execute_result"
    }
   ],
   "source": [
    "4280543600866-34284555592895"
   ]
  },
  {
   "cell_type": "code",
   "execution_count": 57,
   "id": "1515697e-9e61-418f-8bf9-a6d35bff46f0",
   "metadata": {},
   "outputs": [
    {
     "data": {
      "text/plain": [
       "([592981808975117,\n",
       "  353850460009567,\n",
       "  403762580060426,\n",
       "  676996905256993,\n",
       "  368593781834056,\n",
       "  111052291907615,\n",
       "  582518480506633],\n",
       " [319565904416672,\n",
       "  58112290323533,\n",
       "  970704943275901,\n",
       "  62777933199456,\n",
       "  266939583432556])"
      ]
     },
     "execution_count": 57,
     "metadata": {},
     "output_type": "execute_result"
    }
   ],
   "source": [
    "R_c, G_c"
   ]
  },
  {
   "cell_type": "code",
   "execution_count": 60,
   "id": "3e9d438a-175a-49b6-9bf2-21fe5e85e861",
   "metadata": {},
   "outputs": [
    {
     "name": "stdout",
     "output_type": "stream",
     "text": [
      "34284555592895\n"
     ]
    }
   ],
   "source": [
    "t = 10**20\n",
    "for r in R_c:\n",
    "    for g in G_c:\n",
    "        t = min(t, abs(r-g))\n",
    "print(t)"
   ]
  },
  {
   "cell_type": "code",
   "execution_count": null,
   "id": "4445883b-7a25-45ab-9b03-cdf0fe412ad6",
   "metadata": {},
   "outputs": [],
   "source": []
  }
 ],
 "metadata": {
  "kernelspec": {
   "display_name": "Python 3",
   "language": "python",
   "name": "python3"
  },
  "language_info": {
   "codemirror_mode": {
    "name": "ipython",
    "version": 3
   },
   "file_extension": ".py",
   "mimetype": "text/x-python",
   "name": "python",
   "nbconvert_exporter": "python",
   "pygments_lexer": "ipython3",
   "version": "3.6.13"
  }
 },
 "nbformat": 4,
 "nbformat_minor": 5
}
