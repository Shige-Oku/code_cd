{
 "cells": [
  {
   "cell_type": "code",
   "execution_count": null,
   "id": "bac954e2-d437-428d-9b94-96cf110a521a",
   "metadata": {},
   "outputs": [],
   "source": [
    "# 解説を読んで実装"
   ]
  },
  {
   "cell_type": "code",
   "execution_count": 4,
   "id": "86599d79-daa8-4f53-9af4-566bb31b57f7",
   "metadata": {},
   "outputs": [],
   "source": [
    "import sys\n",
    "import numpy as np\n",
    "import math\n",
    "import collections\n",
    "import copy\n",
    "import decimal\n",
    "import itertools\n",
    "import re\n",
    "import bisect\n",
    "import scipy\n",
    "import heapq\n",
    "from collections import deque \n",
    "from functools import reduce\n",
    "from itertools import product\n",
    "from itertools import combinations\n",
    "from itertools import chain\n",
    "from functools import lru_cache\n",
    "from scipy.special import comb\n",
    "from numba import njit\n",
    "from bisect import bisect_right\n",
    "from bisect import bisect_left"
   ]
  },
  {
   "cell_type": "code",
   "execution_count": 72,
   "id": "b6aa6619-f2d5-48a7-81f1-5296a6efe859",
   "metadata": {},
   "outputs": [
    {
     "name": "stdin",
     "output_type": "stream",
     "text": [
      " 32\n"
     ]
    }
   ],
   "source": [
    "N = int(input())"
   ]
  },
  {
   "cell_type": "code",
   "execution_count": 73,
   "id": "0c24700a-f7b2-4f93-b179-851413ed7f67",
   "metadata": {},
   "outputs": [
    {
     "name": "stdin",
     "output_type": "stream",
     "text": [
      " ooxxoooooxxxoxoooxxxoooxoooxoxxx\n"
     ]
    }
   ],
   "source": [
    "S = input()"
   ]
  },
  {
   "cell_type": "code",
   "execution_count": 74,
   "id": "518180e6-0f7c-499e-8ab3-c5ccf94e3efb",
   "metadata": {},
   "outputs": [],
   "source": [
    "for s1, s2 in product((True, False), repeat=2):\n",
    "#     print(s1, s2)\n",
    "    ans = [[] for _ in range(N)]\n",
    "    ans[:2] = s1, s2\n",
    "    end = True\n",
    "    for i, s in enumerate(S):\n",
    "#         print(i, s, ans[i])\n",
    "        if ans[i]:\n",
    "            if i == 0:\n",
    "                if s == 'o':\n",
    "                    ans[N-1] = ans[i+1]\n",
    "                else:\n",
    "                    ans[N-1] = not ans[i+1]\n",
    "            elif i >= N-2:\n",
    "                pass\n",
    "            else:\n",
    "                if s == 'o':\n",
    "                    ans[i+1] = ans[i-1]\n",
    "                else:\n",
    "                    ans[i+1] = not ans[i-1]\n",
    "                \n",
    "        else:\n",
    "            if i == 0:\n",
    "                if s == 'o':\n",
    "                    ans[N-1] = not ans[i+1]\n",
    "                else:\n",
    "                    ans[N-1] = ans[i+1]\n",
    "            elif i >= N-2:\n",
    "                pass\n",
    "            else:\n",
    "                if s == 'o':\n",
    "                    ans[i+1] = not ans[i-1]\n",
    "                else:\n",
    "                    ans[i+1] = ans[i-1]\n",
    "                    \n",
    "        if i >= N-1:\n",
    "            ne = 0\n",
    "        else:\n",
    "            ne = i + 1\n",
    "        if ans[i]:\n",
    "            if s == 'o':\n",
    "                if ans[i-1] != ans[ne]:\n",
    "                    end = False\n",
    "                    break\n",
    "            else:\n",
    "                if ans[i-1] == ans[ne]:\n",
    "                    end = False\n",
    "                    break\n",
    "        else:\n",
    "            if s == 'o':\n",
    "                if ans[i-1] == ans[ne]:\n",
    "                    end = False\n",
    "                    break\n",
    "            else:\n",
    "                if ans[i-1] != ans[ne]:\n",
    "                    end = False\n",
    "                    break\n",
    "    if end:\n",
    "#         print('break:{0}:{1}'.format(s1, s2))\n",
    "        break\n",
    "            "
   ]
  },
  {
   "cell_type": "code",
   "execution_count": 75,
   "id": "ce24a66d-17e0-491e-9f38-a42242f78ebb",
   "metadata": {},
   "outputs": [
    {
     "name": "stdout",
     "output_type": "stream",
     "text": [
      "SWWWWSWWSWSSWWWSWWWWWSWWWSWWWSSW\n"
     ]
    }
   ],
   "source": [
    "if end:\n",
    "    ss = \"\"\n",
    "    for an in ans:\n",
    "        if an:\n",
    "            ss += 'S'\n",
    "        else:\n",
    "            ss += 'W'\n",
    "    print(ss)\n",
    "else:\n",
    "    print('-1')\n"
   ]
  },
  {
   "cell_type": "code",
   "execution_count": 47,
   "id": "0aaa9a8e-e84f-49d8-ad7c-07082db9b4b8",
   "metadata": {},
   "outputs": [
    {
     "data": {
      "text/plain": [
       "([True, False, False, False, False],\n",
       " [True, False, False, True, False],\n",
       " [True, True, False, False, False])"
      ]
     },
     "execution_count": 47,
     "metadata": {},
     "output_type": "execute_result"
    }
   ],
   "source": [
    "ans[:5], ans[5:10], ans[10:15]"
   ]
  },
  {
   "cell_type": "code",
   "execution_count": 22,
   "id": "ebfe9299-7295-4fc2-a835-a34bcdca407c",
   "metadata": {},
   "outputs": [
    {
     "data": {
      "text/plain": [
       "[[], [], [], True]"
      ]
     },
     "execution_count": 22,
     "metadata": {},
     "output_type": "execute_result"
    }
   ],
   "source": [
    "ans[28:]"
   ]
  },
  {
   "cell_type": "code",
   "execution_count": 7,
   "id": "4052f587-291e-4472-91c7-d6cfc46486c0",
   "metadata": {},
   "outputs": [
    {
     "data": {
      "text/plain": [
       "[[], [], [], [], [], []]"
      ]
     },
     "execution_count": 7,
     "metadata": {},
     "output_type": "execute_result"
    }
   ],
   "source": [
    "[[] for _ in range(N)]"
   ]
  },
  {
   "cell_type": "code",
   "execution_count": 48,
   "id": "6ed42e36-a41e-4dd2-96cc-e4b672bbcf41",
   "metadata": {},
   "outputs": [
    {
     "data": {
      "text/plain": [
       "True"
      ]
     },
     "execution_count": 48,
     "metadata": {},
     "output_type": "execute_result"
    }
   ],
   "source": [
    "'SWWWWSWWSWSSWWWSWWWWWSWWWSWWWSSW' == 'SWWWWSWWSWSSWWWSWWWWWSWWWSWWWSSW'"
   ]
  },
  {
   "cell_type": "code",
   "execution_count": null,
   "id": "f4b42afe-77e0-415c-8b23-3c95e7932861",
   "metadata": {},
   "outputs": [],
   "source": [
    "ooxxoooooxxxoxoooxxxoooxoooxoxxx"
   ]
  },
  {
   "cell_type": "code",
   "execution_count": 68,
   "id": "e9e06ea3-a879-401f-b96a-935a21a8b65d",
   "metadata": {},
   "outputs": [
    {
     "name": "stdout",
     "output_type": "stream",
     "text": [
      "0 o True\n"
     ]
    }
   ],
   "source": [
    "for i, sa in enumerate(zip(S, ans)):\n",
    "    s, a = sa\n",
    "    if a:\n",
    "        if s == 'o':\n",
    "            if ans[i-1] != ans[i+1]:\n",
    "                print(i, s, a)\n",
    "                break\n",
    "        else:\n",
    "            if ans[i-1] == ans[i+1]:\n",
    "                print(i, s, a)\n",
    "                break\n",
    "    else:\n",
    "        if s == 'o':\n",
    "            if ans[i-1] == ans[i+1]:\n",
    "                print(i, s, a)\n",
    "                break\n",
    "        else:\n",
    "            if ans[i-1] != ans[i+1]:\n",
    "                print(i, s, a)\n",
    "                break\n",
    "        \n",
    "        "
   ]
  },
  {
   "cell_type": "code",
   "execution_count": 69,
   "id": "17265183-f400-4ac2-9c81-9a394d873651",
   "metadata": {},
   "outputs": [
    {
     "data": {
      "text/plain": [
       "(False, True)"
      ]
     },
     "execution_count": 69,
     "metadata": {},
     "output_type": "execute_result"
    }
   ],
   "source": [
    "ans[-1], ans[1]"
   ]
  },
  {
   "cell_type": "code",
   "execution_count": 64,
   "id": "5a371c3a-2646-41f8-b9f9-244c79cdae91",
   "metadata": {},
   "outputs": [
    {
     "data": {
      "text/plain": [
       "[[], [], [], [], True]"
      ]
     },
     "execution_count": 64,
     "metadata": {},
     "output_type": "execute_result"
    }
   ],
   "source": [
    "ans[-5:]"
   ]
  },
  {
   "cell_type": "code",
   "execution_count": 76,
   "id": "c0535555-594b-45e4-a231-da8dcae1d78e",
   "metadata": {},
   "outputs": [
    {
     "data": {
      "text/plain": [
       "1099511627776"
      ]
     },
     "execution_count": 76,
     "metadata": {},
     "output_type": "execute_result"
    }
   ],
   "source": [
    "2**40"
   ]
  },
  {
   "cell_type": "code",
   "execution_count": null,
   "id": "f4e7f804-0e13-44ca-a7c3-acb89fbcbb01",
   "metadata": {},
   "outputs": [],
   "source": []
  }
 ],
 "metadata": {
  "kernelspec": {
   "display_name": "Python 3",
   "language": "python",
   "name": "python3"
  },
  "language_info": {
   "codemirror_mode": {
    "name": "ipython",
    "version": 3
   },
   "file_extension": ".py",
   "mimetype": "text/x-python",
   "name": "python",
   "nbconvert_exporter": "python",
   "pygments_lexer": "ipython3",
   "version": "3.6.13"
  }
 },
 "nbformat": 4,
 "nbformat_minor": 5
}
