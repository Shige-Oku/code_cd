{
 "cells": [
  {
   "cell_type": "code",
   "execution_count": null,
   "id": "73c6707c-ef5c-4123-a3d4-7a5df0b2f826",
   "metadata": {},
   "outputs": [],
   "source": [
    "# サンプルが合わない"
   ]
  },
  {
   "cell_type": "code",
   "execution_count": 1,
   "id": "9aa490db-f308-404a-b277-a970ea82f3d0",
   "metadata": {},
   "outputs": [],
   "source": [
    "import sys\n",
    "import numpy as np\n",
    "import math\n",
    "import collections\n",
    "import copy\n",
    "import decimal\n",
    "import itertools\n",
    "import re\n",
    "import bisect\n",
    "import scipy\n",
    "import heapq\n",
    "from collections import deque \n",
    "from functools import reduce\n",
    "from itertools import product\n",
    "from itertools import combinations\n",
    "from itertools import chain\n",
    "from functools import lru_cache\n",
    "from scipy.special import comb\n",
    "from numba import njit\n",
    "from bisect import bisect_right\n",
    "from bisect import bisect_left"
   ]
  },
  {
   "cell_type": "code",
   "execution_count": 21,
   "id": "8e3dd358-fdf6-4dc0-a313-1dd7088efe3e",
   "metadata": {},
   "outputs": [
    {
     "name": "stdin",
     "output_type": "stream",
     "text": [
      " 19\n"
     ]
    }
   ],
   "source": [
    "N = int(input())"
   ]
  },
  {
   "cell_type": "code",
   "execution_count": 26,
   "id": "83675ac3-0f7c-4be2-bfe4-67a143272f52",
   "metadata": {},
   "outputs": [
    {
     "name": "stdin",
     "output_type": "stream",
     "text": [
      " 885 8 1 128 83 32 256 206 639 16 4 128 689 32 8 64 885 969 1\n"
     ]
    }
   ],
   "source": [
    "An = list(map(int, input().split()))"
   ]
  },
  {
   "cell_type": "code",
   "execution_count": 27,
   "id": "7c483032-54e4-42d9-b0cf-d80da3e9c6aa",
   "metadata": {},
   "outputs": [],
   "source": [
    "ans = [0, ]\n",
    "total = 0\n",
    "for A in An:\n",
    "    if total + A == total ^ A:\n",
    "        total += A\n",
    "        ans.append(ans[-1]+1)\n",
    "    else:\n",
    "        ans.append(1)\n",
    "        total = A"
   ]
  },
  {
   "cell_type": "code",
   "execution_count": 28,
   "id": "eb35b1ea-ac27-4960-9c08-811b05601424",
   "metadata": {},
   "outputs": [
    {
     "name": "stdout",
     "output_type": "stream",
     "text": [
      "30\n"
     ]
    }
   ],
   "source": [
    "print(sum(ans))"
   ]
  },
  {
   "cell_type": "code",
   "execution_count": 29,
   "id": "227c09dd-aca7-42c0-a3ca-b044686c9722",
   "metadata": {},
   "outputs": [
    {
     "data": {
      "text/plain": [
       "[0, 1, 2, 1, 2, 1, 2, 3, 1, 1, 1, 2, 3, 1, 1, 2, 3, 1, 1, 1]"
      ]
     },
     "execution_count": 29,
     "metadata": {},
     "output_type": "execute_result"
    }
   ],
   "source": [
    "ans"
   ]
  },
  {
   "cell_type": "code",
   "execution_count": 33,
   "id": "f744a347-4253-4489-849e-82190d0317c4",
   "metadata": {},
   "outputs": [
    {
     "name": "stdout",
     "output_type": "stream",
     "text": [
      "1101110101\n",
      "      1000\n",
      "         1\n",
      "  10000000\n",
      "   1010011\n",
      "    100000\n",
      " 100000000\n",
      "  11001110\n",
      "1001111111\n",
      "     10000\n",
      "       100\n",
      "  10000000\n",
      "1010110001\n",
      "    100000\n",
      "      1000\n",
      "   1000000\n",
      "1101110101\n",
      "1111001001\n",
      "         1\n"
     ]
    }
   ],
   "source": [
    "for A in An:\n",
    "    print('{:10b}'.format(A))"
   ]
  },
  {
   "cell_type": "code",
   "execution_count": 34,
   "id": "dfb0051e-ed21-4c41-a912-0cd07af3571a",
   "metadata": {},
   "outputs": [
    {
     "data": {
      "text/plain": [
       "(19, 20)"
      ]
     },
     "execution_count": 34,
     "metadata": {},
     "output_type": "execute_result"
    }
   ],
   "source": [
    "len(An), len(ans)"
   ]
  },
  {
   "cell_type": "code",
   "execution_count": null,
   "id": "e04b7ca0-3384-41db-ae77-decf2e41be83",
   "metadata": {},
   "outputs": [],
   "source": []
  }
 ],
 "metadata": {
  "kernelspec": {
   "display_name": "Python 3",
   "language": "python",
   "name": "python3"
  },
  "language_info": {
   "codemirror_mode": {
    "name": "ipython",
    "version": 3
   },
   "file_extension": ".py",
   "mimetype": "text/x-python",
   "name": "python",
   "nbconvert_exporter": "python",
   "pygments_lexer": "ipython3",
   "version": "3.6.13"
  }
 },
 "nbformat": 4,
 "nbformat_minor": 5
}
