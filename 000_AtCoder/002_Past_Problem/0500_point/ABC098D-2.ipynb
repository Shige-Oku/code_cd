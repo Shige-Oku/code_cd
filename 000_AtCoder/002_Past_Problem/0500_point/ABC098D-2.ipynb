{
 "cells": [
  {
   "cell_type": "code",
   "execution_count": null,
   "id": "3a61455f-45f3-4af4-a344-f2c01a38918d",
   "metadata": {},
   "outputs": [],
   "source": [
    "# 解説を読んで実装"
   ]
  },
  {
   "cell_type": "code",
   "execution_count": 1,
   "id": "65b23e4f-a95f-4c2b-beb5-c62895e911d2",
   "metadata": {},
   "outputs": [],
   "source": [
    "import sys\n",
    "import numpy as np\n",
    "import math\n",
    "import collections\n",
    "import copy\n",
    "import decimal\n",
    "import itertools\n",
    "import re\n",
    "import bisect\n",
    "import scipy\n",
    "import heapq\n",
    "from collections import deque \n",
    "from functools import reduce\n",
    "from itertools import product\n",
    "from itertools import combinations\n",
    "from itertools import chain\n",
    "from functools import lru_cache\n",
    "from scipy.special import comb\n",
    "from numba import njit\n",
    "from bisect import bisect_right\n",
    "from bisect import bisect_left"
   ]
  },
  {
   "cell_type": "code",
   "execution_count": 28,
   "id": "a3f7f218-f52c-4d20-899a-dc2df222002e",
   "metadata": {},
   "outputs": [
    {
     "name": "stdin",
     "output_type": "stream",
     "text": [
      " 9\n"
     ]
    }
   ],
   "source": [
    "N = int(input())"
   ]
  },
  {
   "cell_type": "code",
   "execution_count": 29,
   "id": "17fe383a-2c61-4a07-b1d0-9cad59bbed58",
   "metadata": {},
   "outputs": [
    {
     "name": "stdin",
     "output_type": "stream",
     "text": [
      " 0 0 0 0 0 0 0 0 0\n"
     ]
    }
   ],
   "source": [
    "An = list(map(int, input().split()))"
   ]
  },
  {
   "cell_type": "code",
   "execution_count": 30,
   "id": "4ef5db20-ef79-431d-b50d-80957912b7af",
   "metadata": {},
   "outputs": [],
   "source": [
    "ans = 0\n",
    "cnt = 1\n",
    "num = An[0]\n",
    "j = 0\n",
    "for i in range(N):\n",
    "    while j < N-1:\n",
    "        if num + An[j+1] != num ^ An[j+1]:\n",
    "            break\n",
    "        cnt += 1\n",
    "        j += 1\n",
    "        num += An[j]\n",
    "    ans += cnt\n",
    "    num -= An[i]\n",
    "    cnt -= 1\n",
    "#     print(i, j, ans)"
   ]
  },
  {
   "cell_type": "code",
   "execution_count": 31,
   "id": "50314a9d-01ec-4886-93a9-676a77788f5e",
   "metadata": {},
   "outputs": [
    {
     "name": "stdout",
     "output_type": "stream",
     "text": [
      "45\n"
     ]
    }
   ],
   "source": [
    "print(ans)"
   ]
  },
  {
   "cell_type": "code",
   "execution_count": null,
   "id": "84bd9816-3a42-4ee8-8a04-51dd8e0c856c",
   "metadata": {},
   "outputs": [],
   "source": []
  }
 ],
 "metadata": {
  "kernelspec": {
   "display_name": "Python 3",
   "language": "python",
   "name": "python3"
  },
  "language_info": {
   "codemirror_mode": {
    "name": "ipython",
    "version": 3
   },
   "file_extension": ".py",
   "mimetype": "text/x-python",
   "name": "python",
   "nbconvert_exporter": "python",
   "pygments_lexer": "ipython3",
   "version": "3.6.13"
  }
 },
 "nbformat": 4,
 "nbformat_minor": 5
}
