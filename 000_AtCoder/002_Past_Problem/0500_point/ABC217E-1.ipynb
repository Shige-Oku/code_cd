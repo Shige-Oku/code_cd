{
 "cells": [
  {
   "cell_type": "code",
   "execution_count": null,
   "id": "61a8e3fc-d31c-49f4-b54d-f64c4c6bd2e4",
   "metadata": {},
   "outputs": [],
   "source": [
    "# 解説を読んで実装"
   ]
  },
  {
   "cell_type": "code",
   "execution_count": 1,
   "id": "735a6229-5b71-4632-9200-bcb929925be6",
   "metadata": {},
   "outputs": [],
   "source": [
    "import numpy as np\n",
    "import math\n",
    "import collections\n",
    "import copy\n",
    "import decimal\n",
    "import itertools\n",
    "import re\n",
    "import bisect\n",
    "import scipy\n",
    "import heapq\n",
    "import array\n",
    "from collections import deque \n",
    "from functools import reduce\n",
    "from itertools import product\n",
    "from itertools import combinations\n",
    "from itertools import chain\n",
    "from functools import lru_cache\n",
    "from scipy.special import comb\n",
    "from numba import njit\n",
    "from bisect import bisect_right\n",
    "from bisect import bisect_left"
   ]
  },
  {
   "cell_type": "code",
   "execution_count": 3,
   "id": "234d6d28-60b6-4a45-b79b-73a76083c2e4",
   "metadata": {},
   "outputs": [
    {
     "name": "stdin",
     "output_type": "stream",
     "text": [
      " 8\n"
     ]
    }
   ],
   "source": [
    "N = int(input())"
   ]
  },
  {
   "cell_type": "code",
   "execution_count": 4,
   "id": "0f0ff112-2733-4413-b411-501b28fdc526",
   "metadata": {},
   "outputs": [
    {
     "name": "stdin",
     "output_type": "stream",
     "text": [
      " 1 4\n",
      " 1 3\n",
      " 1 2\n",
      " 1 1\n",
      " 3\n",
      " 2\n",
      " 1 0\n",
      " 2\n"
     ]
    }
   ],
   "source": [
    "Qn = [input().split() for _ in range(N)]"
   ]
  },
  {
   "cell_type": "code",
   "execution_count": 6,
   "id": "4152700b-98b8-495a-991a-e1c84ddf39f5",
   "metadata": {},
   "outputs": [
    {
     "name": "stdout",
     "output_type": "stream",
     "text": [
      "1\n",
      "2\n"
     ]
    }
   ],
   "source": [
    "q = deque()\n",
    "h = []\n",
    "for i in range(N):\n",
    "    if Qn[i][0] == '1':\n",
    "        q.append(int(Qn[i][1]))\n",
    "    elif Qn[i][0] == '2':\n",
    "        if len(h) > 0:\n",
    "            print(heapq.heappop(h))\n",
    "        else:\n",
    "            print(q.popleft())\n",
    "    else:\n",
    "        while q:\n",
    "            e = q.popleft()\n",
    "            heapq.heappush(h, e)"
   ]
  },
  {
   "cell_type": "code",
   "execution_count": null,
   "id": "cd94019e-3829-4e00-a592-ef6e6213ce54",
   "metadata": {},
   "outputs": [],
   "source": []
  }
 ],
 "metadata": {
  "kernelspec": {
   "display_name": "Python 3",
   "language": "python",
   "name": "python3"
  },
  "language_info": {
   "codemirror_mode": {
    "name": "ipython",
    "version": 3
   },
   "file_extension": ".py",
   "mimetype": "text/x-python",
   "name": "python",
   "nbconvert_exporter": "python",
   "pygments_lexer": "ipython3",
   "version": "3.6.13"
  }
 },
 "nbformat": 4,
 "nbformat_minor": 5
}
