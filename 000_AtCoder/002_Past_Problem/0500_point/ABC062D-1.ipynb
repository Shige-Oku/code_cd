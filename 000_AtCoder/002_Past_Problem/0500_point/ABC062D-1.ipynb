{
 "cells": [
  {
   "cell_type": "code",
   "execution_count": null,
   "id": "2e8d6545-5679-48a2-9aaf-cd4fd6354f6f",
   "metadata": {},
   "outputs": [],
   "source": [
    "# 解説を読んで実装"
   ]
  },
  {
   "cell_type": "code",
   "execution_count": 1,
   "id": "513ce7bf-02dd-498a-8fde-908a74c5e495",
   "metadata": {},
   "outputs": [],
   "source": [
    "import sys\n",
    "import numpy as np\n",
    "import math\n",
    "import collections\n",
    "import copy\n",
    "import decimal\n",
    "import itertools\n",
    "import re\n",
    "import bisect\n",
    "import scipy\n",
    "import heapq\n",
    "from collections import deque \n",
    "from functools import reduce\n",
    "from itertools import product\n",
    "from itertools import combinations\n",
    "from itertools import chain\n",
    "from functools import lru_cache\n",
    "from scipy.special import comb\n",
    "from numba import njit\n",
    "from bisect import bisect_right\n",
    "from bisect import bisect_left"
   ]
  },
  {
   "cell_type": "code",
   "execution_count": 47,
   "id": "c576df12-8f91-4438-ad9a-90c2beac0e35",
   "metadata": {},
   "outputs": [
    {
     "name": "stdin",
     "output_type": "stream",
     "text": [
      " 3\n"
     ]
    }
   ],
   "source": [
    "N = int(input())"
   ]
  },
  {
   "cell_type": "code",
   "execution_count": 48,
   "id": "bd1c261a-2160-410e-9f90-50b1cf700695",
   "metadata": {},
   "outputs": [
    {
     "name": "stdin",
     "output_type": "stream",
     "text": [
      " 8 2 2 7 4 6 5 3 8\n"
     ]
    }
   ],
   "source": [
    "An = list(map(int, input().split()))"
   ]
  },
  {
   "cell_type": "code",
   "execution_count": 49,
   "id": "b708a5a7-b77c-45da-9799-5d287d2c2de5",
   "metadata": {},
   "outputs": [],
   "source": [
    "aq = []\n",
    "a_total = 0\n",
    "for A in An[:N]:\n",
    "    heapq.heappush(aq, A)\n",
    "    a_total += A\n",
    "bq = []\n",
    "b_total = 0\n",
    "for A in An[2*N:]:\n",
    "    heapq.heappush(bq, -A)\n",
    "    b_total += A"
   ]
  },
  {
   "cell_type": "code",
   "execution_count": 50,
   "id": "f39ef88c-2e43-41c0-a7e9-18b0939cc0e6",
   "metadata": {},
   "outputs": [],
   "source": [
    "ak_total = [0] * (N+1)\n",
    "ak_total[0] = a_total\n",
    "for i in range(N, 2*N):\n",
    "    heapq.heappush(aq, An[i])\n",
    "    d = heapq.heappop(aq)\n",
    "    a_total += An[i]\n",
    "    a_total -= d\n",
    "    ak_total[i-N+1] = a_total"
   ]
  },
  {
   "cell_type": "code",
   "execution_count": 51,
   "id": "fb662e0a-574b-41ed-82c3-6f3b0af89c5a",
   "metadata": {},
   "outputs": [],
   "source": [
    "bk_total = [0] * (N+1)\n",
    "bk_total[-1] = b_total\n",
    "for i in range(2*N-1, N-1, -1):\n",
    "    heapq.heappush(bq, -An[i])\n",
    "    d = heapq.heappop(bq)\n",
    "    b_total += An[i]\n",
    "    b_total -= -d\n",
    "    bk_total[i-N] = b_total"
   ]
  },
  {
   "cell_type": "code",
   "execution_count": 52,
   "id": "399dc013-ea5f-4e45-8228-cc53f81b1e37",
   "metadata": {},
   "outputs": [],
   "source": [
    "ans = -10 ** 20\n",
    "for a, b in zip(ak_total, bk_total):\n",
    "    ans = max(ans, a-b)"
   ]
  },
  {
   "cell_type": "code",
   "execution_count": 53,
   "id": "e4d46d92-6647-45cc-b15b-c12001c36dd5",
   "metadata": {},
   "outputs": [
    {
     "name": "stdout",
     "output_type": "stream",
     "text": [
      "5\n"
     ]
    }
   ],
   "source": [
    "print(ans)"
   ]
  },
  {
   "cell_type": "code",
   "execution_count": 34,
   "id": "ffa8a9bd-359b-438b-933e-d2ce2fef63ed",
   "metadata": {},
   "outputs": [
    {
     "data": {
      "text/plain": [
       "([3, 4], [-4, -1], 7, 5)"
      ]
     },
     "execution_count": 34,
     "metadata": {},
     "output_type": "execute_result"
    }
   ],
   "source": [
    "aq, bq, a_total, b_total"
   ]
  },
  {
   "cell_type": "code",
   "execution_count": 35,
   "id": "580da137-e778-4ab9-a09c-943aa18f1dbd",
   "metadata": {},
   "outputs": [
    {
     "data": {
      "text/plain": [
       "([4, 7, 7], [5, 6, 14])"
      ]
     },
     "execution_count": 35,
     "metadata": {},
     "output_type": "execute_result"
    }
   ],
   "source": [
    "ak_total, bk_total"
   ]
  },
  {
   "cell_type": "code",
   "execution_count": 37,
   "id": "dbaf762d-348d-489d-95c5-01e18f6d61f1",
   "metadata": {},
   "outputs": [
    {
     "data": {
      "text/plain": [
       "-100000000000000000000"
      ]
     },
     "execution_count": 37,
     "metadata": {},
     "output_type": "execute_result"
    }
   ],
   "source": [
    "ans"
   ]
  },
  {
   "cell_type": "code",
   "execution_count": null,
   "id": "28ed828e-eeb0-4e6a-a61e-51804cbfa536",
   "metadata": {},
   "outputs": [],
   "source": []
  }
 ],
 "metadata": {
  "kernelspec": {
   "display_name": "Python 3",
   "language": "python",
   "name": "python3"
  },
  "language_info": {
   "codemirror_mode": {
    "name": "ipython",
    "version": 3
   },
   "file_extension": ".py",
   "mimetype": "text/x-python",
   "name": "python",
   "nbconvert_exporter": "python",
   "pygments_lexer": "ipython3",
   "version": "3.6.13"
  }
 },
 "nbformat": 4,
 "nbformat_minor": 5
}
