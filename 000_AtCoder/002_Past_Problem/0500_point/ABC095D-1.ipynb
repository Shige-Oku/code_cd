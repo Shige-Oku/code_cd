{
 "cells": [
  {
   "cell_type": "code",
   "execution_count": null,
   "id": "ef19eb0e-fad6-4764-a429-0f21dbe5f257",
   "metadata": {},
   "outputs": [],
   "source": [
    "# サンプルが合わない"
   ]
  },
  {
   "cell_type": "code",
   "execution_count": 1,
   "id": "5ce97373-3c6a-4e2c-a68c-bc3a7b098549",
   "metadata": {},
   "outputs": [],
   "source": [
    "import sys\n",
    "import numpy as np\n",
    "import math\n",
    "import collections\n",
    "import copy\n",
    "import decimal\n",
    "import itertools\n",
    "import re\n",
    "import bisect\n",
    "import scipy\n",
    "import heapq\n",
    "from collections import deque \n",
    "from functools import reduce\n",
    "from itertools import product\n",
    "from itertools import combinations\n",
    "from itertools import chain\n",
    "from functools import lru_cache\n",
    "from scipy.special import comb\n",
    "from numba import njit\n",
    "from bisect import bisect_right\n",
    "from bisect import bisect_left"
   ]
  },
  {
   "cell_type": "code",
   "execution_count": 67,
   "id": "9de518b3-d480-4c8c-be20-3bcca1b04e33",
   "metadata": {},
   "outputs": [
    {
     "name": "stdin",
     "output_type": "stream",
     "text": [
      " 3 20\n"
     ]
    }
   ],
   "source": [
    "N, C = map(int, input().split())"
   ]
  },
  {
   "cell_type": "code",
   "execution_count": 68,
   "id": "73589220-fb0c-40a1-bc95-cce6a7e654b0",
   "metadata": {},
   "outputs": [
    {
     "name": "stdin",
     "output_type": "stream",
     "text": [
      " 2 80\n",
      " 9 1\n",
      " 16 120\n"
     ]
    }
   ],
   "source": [
    "XV = [list(map(int, input().split())) for _ in range(N)]"
   ]
  },
  {
   "cell_type": "code",
   "execution_count": 105,
   "id": "2d97202a-b2f3-4454-883b-0fb311ebe99d",
   "metadata": {},
   "outputs": [],
   "source": [
    "XV_s = sorted(XV)\n",
    "cum_rv = [0, ]\n",
    "# cum_rd = [0, ]\n",
    "r_max = 0\n",
    "r_idx = 0\n",
    "d = 0\n",
    "for i, xv in enumerate(XV_s):\n",
    "    X, V = xv\n",
    "    cum_rv.append(cum_rv[-1]+V-X+d)\n",
    "#     cum_rd.append(X-cum_rd[-1])\n",
    "    d = X\n",
    "    if r_max < cum_rv[-1]:\n",
    "        r_max = max(r_max, cum_rv[-1])\n",
    "        r_idx = i\n",
    "cum_lv = [0, ]\n",
    "# cum_ld = [0, ]\n",
    "l_max = 0\n",
    "l_idx = 0\n",
    "d = 0\n",
    "for i, xv in enumerate(XV[::-1]):\n",
    "    X, V = xv\n",
    "    cum_lv.append(cum_lv[-1]+V-(C-X)+d)\n",
    "#     cum_ld.append(X-cum_ld[-1])\n",
    "    d = (C-X)\n",
    "    if l_max < cum_lv[-1]:\n",
    "        l_max = max(l_max, cum_lv[-1])\n",
    "        l_idx = N - i\n",
    "    "
   ]
  },
  {
   "cell_type": "code",
   "execution_count": 122,
   "id": "074792bb-9bf0-46c5-ad04-e80838b829ce",
   "metadata": {},
   "outputs": [
    {
     "name": "stdout",
     "output_type": "stream",
     "text": [
      "2 185\n",
      "1 185\n",
      "1 294\n",
      "0 294\n",
      "0 294\n"
     ]
    }
   ],
   "source": [
    "ans = 0\n",
    "for i in range(N):\n",
    "    ans = max(ans, cum_rv[i+1])\n",
    "    if i+1 >= l_idx:\n",
    "        continue\n",
    "    ans = max(ans, cum_rv[i+1]-XV[i][1]+l_max)\n",
    "\n",
    "for i in range(N-1, -1, -1):\n",
    "    ans = max(ans, cum_lv[i+1])\n",
    "    print(i, ans)\n",
    "    if i >= r_idx:\n",
    "        continue\n",
    "    ans = max(ans, cum_lv[i+1]-XV[i][1]+r_max)\n",
    "    print(i, ans)\n"
   ]
  },
  {
   "cell_type": "code",
   "execution_count": 123,
   "id": "cde2dc30-ebfa-4f6e-9d9c-aae9b83c0dbe",
   "metadata": {},
   "outputs": [
    {
     "name": "stdout",
     "output_type": "stream",
     "text": [
      "294\n"
     ]
    }
   ],
   "source": [
    "print(ans)"
   ]
  },
  {
   "cell_type": "code",
   "execution_count": 118,
   "id": "a792fc50-2ac6-4580-99eb-2730adf03d4b",
   "metadata": {},
   "outputs": [],
   "source": [
    "ans = 0"
   ]
  },
  {
   "cell_type": "code",
   "execution_count": 119,
   "id": "c5f21dd3-f097-43d9-be39-b112a76b2e20",
   "metadata": {},
   "outputs": [
    {
     "data": {
      "text/plain": [
       "([0, 78, 72, 185],\n",
       " [0, 2, 7, 9],\n",
       " 185,\n",
       " 2,\n",
       " [0, 116, 110, 183],\n",
       " [0, 16, -7, 9],\n",
       " 183,\n",
       " 1)"
      ]
     },
     "execution_count": 119,
     "metadata": {},
     "output_type": "execute_result"
    }
   ],
   "source": [
    "cum_rv, cum_rd, r_max, r_idx, cum_lv, cum_ld, l_max, l_idx"
   ]
  },
  {
   "cell_type": "code",
   "execution_count": null,
   "id": "787e7727-ad9f-4d7a-b903-98b8ed5225c7",
   "metadata": {},
   "outputs": [],
   "source": []
  }
 ],
 "metadata": {
  "kernelspec": {
   "display_name": "Python 3",
   "language": "python",
   "name": "python3"
  },
  "language_info": {
   "codemirror_mode": {
    "name": "ipython",
    "version": 3
   },
   "file_extension": ".py",
   "mimetype": "text/x-python",
   "name": "python",
   "nbconvert_exporter": "python",
   "pygments_lexer": "ipython3",
   "version": "3.6.13"
  }
 },
 "nbformat": 4,
 "nbformat_minor": 5
}
