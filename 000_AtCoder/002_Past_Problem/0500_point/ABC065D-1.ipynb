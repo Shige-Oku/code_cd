{
 "cells": [
  {
   "cell_type": "code",
   "execution_count": null,
   "id": "dff69858-0d76-47cb-b6eb-94e5f17fc077",
   "metadata": {},
   "outputs": [],
   "source": [
    "# 解説を読んで実装"
   ]
  },
  {
   "cell_type": "code",
   "execution_count": 1,
   "id": "37dd8287-6c02-46ce-ac9c-7af6a06bfbf8",
   "metadata": {},
   "outputs": [],
   "source": [
    "import sys\n",
    "import numpy as np\n",
    "import math\n",
    "import collections\n",
    "import copy\n",
    "import decimal\n",
    "import itertools\n",
    "import re\n",
    "import bisect\n",
    "import scipy\n",
    "import heapq\n",
    "from collections import deque \n",
    "from functools import reduce\n",
    "from itertools import product\n",
    "from itertools import combinations\n",
    "from itertools import chain\n",
    "from functools import lru_cache\n",
    "from scipy.special import comb\n",
    "from numba import njit\n",
    "from bisect import bisect_right\n",
    "from bisect import bisect_left"
   ]
  },
  {
   "cell_type": "code",
   "execution_count": 3,
   "id": "89bb1dd0-d237-40b2-b5d0-f5b2158f98ab",
   "metadata": {},
   "outputs": [
    {
     "name": "stdin",
     "output_type": "stream",
     "text": [
      " 3\n"
     ]
    }
   ],
   "source": [
    "N = int(input())"
   ]
  },
  {
   "cell_type": "code",
   "execution_count": 4,
   "id": "a7b0a48c-377c-4b70-a9bc-1ceea62ec23f",
   "metadata": {},
   "outputs": [
    {
     "name": "stdin",
     "output_type": "stream",
     "text": [
      " 1 5\n",
      " 3 9\n",
      " 7 8\n"
     ]
    }
   ],
   "source": [
    "XY = [list(map(int, input().split())) for _ in range(N)]"
   ]
  },
  {
   "cell_type": "code",
   "execution_count": 7,
   "id": "39b38637-57f7-4a90-84c3-758b85ecf499",
   "metadata": {},
   "outputs": [],
   "source": [
    "XYI = []\n",
    "for i, xy in enumerate(XY):\n",
    "    x, y = xy\n",
    "    XYI.append((x, y, i))\n",
    "XYI_sx = sorted(XYI)\n",
    "XYI_sy = sorted(XYI, key=lambda x:x[1])"
   ]
  },
  {
   "cell_type": "code",
   "execution_count": 16,
   "id": "0fb1c098-dce3-4d17-88dc-debc5e82d39f",
   "metadata": {},
   "outputs": [],
   "source": [
    "graph = [[] for _ in range(N+1)]\n",
    "for i in range(N-1):\n",
    "    x1, y1, i1 = XYI_sx[i]\n",
    "    x2, y2, i2 = XYI_sx[i+1]\n",
    "    graph[i1].append((abs(x1-x2), i2))\n",
    "    graph[i2].append((abs(x1-x2), i1))\n",
    "\n",
    "for i in range(N-1):\n",
    "    x1, y1, i1 = XYI_sy[i]\n",
    "    x2, y2, i2 = XYI_sy[i+1]\n",
    "    graph[i1].append((abs(y1-y2), i2))\n",
    "    graph[i2].append((abs(y1-y2), i1))\n",
    "    "
   ]
  },
  {
   "cell_type": "code",
   "execution_count": 18,
   "id": "5324637a-7d32-4f1d-aa50-a0c45773a4b5",
   "metadata": {},
   "outputs": [],
   "source": [
    "marked = [False] * N\n",
    "marked_count = 0\n",
    "q = []\n",
    "heapq.heappush(q, (0, 0))\n",
    "ans = 0\n",
    "while marked_count < N:\n",
    "    c, p = heapq.heappop(q)\n",
    "    if marked[p]:\n",
    "        continue\n",
    "    marked[p] = True\n",
    "    marked_count += 1\n",
    "    ans += c\n",
    "    for c2, p2 in graph[p]:\n",
    "        if marked[p2]:\n",
    "            continue\n",
    "        heapq.heappush(q, (c2, p2))"
   ]
  },
  {
   "cell_type": "code",
   "execution_count": 19,
   "id": "673ec9ce-9336-4469-83ff-515f6b0a6fed",
   "metadata": {},
   "outputs": [
    {
     "name": "stdout",
     "output_type": "stream",
     "text": [
      "3\n"
     ]
    }
   ],
   "source": [
    "print(ans)"
   ]
  },
  {
   "cell_type": "code",
   "execution_count": 12,
   "id": "b28fffe5-73db-45dd-bf34-00ec4bbcb137",
   "metadata": {},
   "outputs": [
    {
     "data": {
      "text/plain": [
       "([(1, 5, 0), (3, 9, 1), (7, 8, 2)], [(1, 5, 0), (7, 8, 2), (3, 9, 1)])"
      ]
     },
     "execution_count": 12,
     "metadata": {},
     "output_type": "execute_result"
    }
   ],
   "source": [
    "XYI_sx, XYI_sy"
   ]
  },
  {
   "cell_type": "code",
   "execution_count": 17,
   "id": "5c4fcf93-4269-44c8-b4aa-c698e1cdd6fc",
   "metadata": {},
   "outputs": [
    {
     "data": {
      "text/plain": [
       "[[(2, 1), (3, 2)], [(2, 0), (4, 2), (1, 2)], [(4, 1), (3, 0), (1, 1)], []]"
      ]
     },
     "execution_count": 17,
     "metadata": {},
     "output_type": "execute_result"
    }
   ],
   "source": [
    "graph"
   ]
  },
  {
   "cell_type": "code",
   "execution_count": null,
   "id": "f35ec03b-36ec-4dbc-8f8d-db45b94edd87",
   "metadata": {},
   "outputs": [],
   "source": []
  }
 ],
 "metadata": {
  "kernelspec": {
   "display_name": "Python 3",
   "language": "python",
   "name": "python3"
  },
  "language_info": {
   "codemirror_mode": {
    "name": "ipython",
    "version": 3
   },
   "file_extension": ".py",
   "mimetype": "text/x-python",
   "name": "python",
   "nbconvert_exporter": "python",
   "pygments_lexer": "ipython3",
   "version": "3.6.13"
  }
 },
 "nbformat": 4,
 "nbformat_minor": 5
}
