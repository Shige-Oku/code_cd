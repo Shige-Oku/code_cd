{
 "cells": [
  {
   "cell_type": "code",
   "execution_count": null,
   "id": "c8d0d22d-70ff-4f16-8741-e056de4d90f9",
   "metadata": {},
   "outputs": [],
   "source": [
    "# 解説を読んで実装"
   ]
  },
  {
   "cell_type": "code",
   "execution_count": 1,
   "id": "9c0a3834-716d-491a-be79-932a9550094e",
   "metadata": {},
   "outputs": [],
   "source": [
    "import sys\n",
    "import numpy as np\n",
    "import math\n",
    "import collections\n",
    "import copy\n",
    "import decimal\n",
    "import itertools\n",
    "import re\n",
    "import bisect\n",
    "import scipy\n",
    "import heapq\n",
    "from collections import deque \n",
    "from functools import reduce\n",
    "from itertools import product\n",
    "from itertools import combinations\n",
    "from itertools import chain\n",
    "from functools import lru_cache\n",
    "from scipy.special import comb\n",
    "from numba import njit\n",
    "from bisect import bisect_right\n",
    "from bisect import bisect_left"
   ]
  },
  {
   "cell_type": "code",
   "execution_count": 2,
   "id": "1a161470-f5ba-42bc-a8a5-75902afb98ac",
   "metadata": {},
   "outputs": [
    {
     "name": "stdin",
     "output_type": "stream",
     "text": [
      " 5 3\n"
     ]
    }
   ],
   "source": [
    "N, M = map(int, input().split())"
   ]
  },
  {
   "cell_type": "code",
   "execution_count": 3,
   "id": "a39d2179-f12b-4177-a4c7-7ec858c97b2a",
   "metadata": {},
   "outputs": [
    {
     "name": "stdin",
     "output_type": "stream",
     "text": [
      " 3 1 4\n",
      " 1 5 9\n",
      " 2 6 5\n",
      " 3 5 8\n",
      " 9 7 9\n"
     ]
    }
   ],
   "source": [
    "XYZ = [list(map(int, input().split())) for _ in range(N)]"
   ]
  },
  {
   "cell_type": "code",
   "execution_count": 5,
   "id": "055ded93-c7d3-4fe7-b771-d83914dfc693",
   "metadata": {},
   "outputs": [],
   "source": [
    "def solve(fx, fy, fz):\n",
    "    ret = 0\n",
    "    xyz = []\n",
    "    for x, y, z in XYZ:\n",
    "        if fx == 0:\n",
    "            xx = x\n",
    "        else:\n",
    "            xx = -x\n",
    "        if fy == 0:\n",
    "            yy = y\n",
    "        else:\n",
    "            yy = -y\n",
    "        if fz == 0:\n",
    "            zz = z\n",
    "        else:\n",
    "            zz = -z\n",
    "        xyz.append(xx+yy+zz)\n",
    "    xyz_s = sorted(xyz, reverse=True)\n",
    "    return sum(xyz_s[:M])"
   ]
  },
  {
   "cell_type": "code",
   "execution_count": 8,
   "id": "1064b4db-1f77-4d63-bcac-0493f025ee4f",
   "metadata": {},
   "outputs": [],
   "source": [
    "ans = 0\n",
    "for p in product((0, 1), repeat=3):\n",
    "    ans = max(ans, solve(p[0], p[1], p[2]))"
   ]
  },
  {
   "cell_type": "code",
   "execution_count": 9,
   "id": "0acf8eb8-6c8b-4f3d-967f-f6a6feb59acc",
   "metadata": {},
   "outputs": [
    {
     "name": "stdout",
     "output_type": "stream",
     "text": [
      "56\n"
     ]
    }
   ],
   "source": [
    "print(ans)"
   ]
  },
  {
   "cell_type": "code",
   "execution_count": 7,
   "id": "b81db063-2011-47a7-970c-60ef35d0c3d5",
   "metadata": {},
   "outputs": [
    {
     "data": {
      "text/plain": [
       "(0, 0, 0)"
      ]
     },
     "execution_count": 7,
     "metadata": {},
     "output_type": "execute_result"
    }
   ],
   "source": [
    "p"
   ]
  },
  {
   "cell_type": "code",
   "execution_count": null,
   "id": "9a8d9f0a-46b6-4543-a8d8-a638a1aab88c",
   "metadata": {},
   "outputs": [],
   "source": []
  }
 ],
 "metadata": {
  "kernelspec": {
   "display_name": "Python 3",
   "language": "python",
   "name": "python3"
  },
  "language_info": {
   "codemirror_mode": {
    "name": "ipython",
    "version": 3
   },
   "file_extension": ".py",
   "mimetype": "text/x-python",
   "name": "python",
   "nbconvert_exporter": "python",
   "pygments_lexer": "ipython3",
   "version": "3.6.13"
  }
 },
 "nbformat": 4,
 "nbformat_minor": 5
}
