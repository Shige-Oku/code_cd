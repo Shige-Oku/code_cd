{
 "cells": [
  {
   "cell_type": "code",
   "execution_count": 1,
   "id": "77860688-377c-4e03-bb48-1a4be51b79c7",
   "metadata": {},
   "outputs": [],
   "source": [
    "# 解説を読んで実装"
   ]
  },
  {
   "cell_type": "code",
   "execution_count": 2,
   "id": "d18fc28c-5819-4d91-883a-76baa984888c",
   "metadata": {},
   "outputs": [],
   "source": [
    "import sys\n",
    "import numpy as np\n",
    "import math\n",
    "import collections\n",
    "import copy\n",
    "import decimal\n",
    "import itertools\n",
    "import re\n",
    "import bisect\n",
    "import scipy\n",
    "import heapq\n",
    "from collections import deque \n",
    "from functools import reduce\n",
    "from itertools import product\n",
    "from itertools import combinations\n",
    "from itertools import chain\n",
    "from functools import lru_cache\n",
    "from scipy.special import comb\n",
    "from numba import njit\n",
    "from bisect import bisect_right\n",
    "from bisect import bisect_left"
   ]
  },
  {
   "cell_type": "code",
   "execution_count": 29,
   "id": "cd9e800e-69e4-44ff-a446-8ba9ef272786",
   "metadata": {},
   "outputs": [
    {
     "name": "stdin",
     "output_type": "stream",
     "text": [
      " 4 6 3\n"
     ]
    }
   ],
   "source": [
    "N, M, R = map(int, input().split())"
   ]
  },
  {
   "cell_type": "code",
   "execution_count": 30,
   "id": "8cee8285-597a-4190-87be-0c05d73453ca",
   "metadata": {},
   "outputs": [
    {
     "name": "stdin",
     "output_type": "stream",
     "text": [
      " 2 3 4\n"
     ]
    }
   ],
   "source": [
    "Rn = list(map(int, input().split()))"
   ]
  },
  {
   "cell_type": "code",
   "execution_count": 31,
   "id": "9efde2bd-0bff-473a-8c37-0389290d5fba",
   "metadata": {},
   "outputs": [
    {
     "name": "stdin",
     "output_type": "stream",
     "text": [
      " 1 2 4\n",
      " 2 3 3\n",
      " 4 3 1\n",
      " 1 4 1\n",
      " 4 2 2\n",
      " 3 1 6\n"
     ]
    }
   ],
   "source": [
    "ABC = [list(map(int, input().split())) for _ in range(M)]"
   ]
  },
  {
   "cell_type": "code",
   "execution_count": 37,
   "id": "816f4bc8-60e0-42a3-bce7-92bc1a4ebc5c",
   "metadata": {},
   "outputs": [],
   "source": [
    "dis = [[10**20] * (N+1) for _ in range(N+1)]\n",
    "for i in range(1, N+1):\n",
    "    dis[i][i] = 0\n",
    "for A, B, C in ABC:\n",
    "    dis[A][B] = C\n",
    "    dis[B][A] = C\n",
    "for k in range(1, N+1):\n",
    "    for i in range(1, N+1):\n",
    "        for j in range(1, N+1):\n",
    "            dis[i][j] = min(dis[i][j], dis[i][k]+dis[k][j])"
   ]
  },
  {
   "cell_type": "code",
   "execution_count": 45,
   "id": "fd8643f9-7d46-4217-9281-6c8da8d2b91f",
   "metadata": {},
   "outputs": [],
   "source": [
    "ans = 10**20\n",
    "for ptn in itertools.permutations(Rn, R):\n",
    "    d = 0\n",
    "    for i in range(R-1):\n",
    "        d += dis[ptn[i]][ptn[i+1]]\n",
    "    ans = min(ans, d)\n"
   ]
  },
  {
   "cell_type": "code",
   "execution_count": 43,
   "id": "f7d5b970-49ae-4e2f-a2e6-f3e4445d12a3",
   "metadata": {},
   "outputs": [
    {
     "name": "stdout",
     "output_type": "stream",
     "text": [
      "3\n"
     ]
    }
   ],
   "source": [
    "print(ans)"
   ]
  },
  {
   "cell_type": "code",
   "execution_count": 18,
   "id": "3a621b10-e5e9-4ff0-a823-cab51d4cfeba",
   "metadata": {},
   "outputs": [
    {
     "data": {
      "text/plain": [
       "[100000000000000000000, 0, 1, 4, 100000000000000000000]"
      ]
     },
     "execution_count": 18,
     "metadata": {},
     "output_type": "execute_result"
    }
   ],
   "source": [
    "dis[1][:5]"
   ]
  },
  {
   "cell_type": "code",
   "execution_count": 13,
   "id": "a4f3d140-3364-4b7f-960c-5cf73c39dc87",
   "metadata": {},
   "outputs": [
    {
     "data": {
      "text/plain": [
       "8000000"
      ]
     },
     "execution_count": 13,
     "metadata": {},
     "output_type": "execute_result"
    }
   ],
   "source": [
    "200**3"
   ]
  },
  {
   "cell_type": "code",
   "execution_count": 21,
   "id": "d73c7e32-6edb-439a-aee0-aa9cc747d5a0",
   "metadata": {},
   "outputs": [
    {
     "name": "stdout",
     "output_type": "stream",
     "text": [
      "1 2 3\n",
      "1 2 4\n",
      "1 3 2\n",
      "1 3 4\n",
      "1 4 2\n",
      "1 4 3\n",
      "2 1 3\n",
      "2 1 4\n",
      "2 3 1\n",
      "2 3 4\n",
      "2 4 1\n",
      "2 4 3\n",
      "3 1 2\n",
      "3 1 4\n",
      "3 2 1\n",
      "3 2 4\n",
      "3 4 1\n",
      "3 4 2\n",
      "4 1 2\n",
      "4 1 3\n",
      "4 2 1\n",
      "4 2 3\n",
      "4 3 1\n",
      "4 3 2\n"
     ]
    }
   ],
   "source": [
    "for a, b, c in itertools.permutations(range(1, 5), 3):\n",
    "    print(a, b, c)"
   ]
  },
  {
   "cell_type": "code",
   "execution_count": 49,
   "id": "e91f4978-ebd5-4421-b348-c37ce7aa7927",
   "metadata": {},
   "outputs": [
    {
     "name": "stdout",
     "output_type": "stream",
     "text": [
      "a X A\n",
      "a X B\n",
      "a X C\n",
      "a Y A\n",
      "a Y B\n",
      "a Y C\n",
      "a Z A\n",
      "a Z B\n",
      "a Z C\n",
      "b X A\n",
      "b X B\n",
      "b X C\n",
      "b Y A\n",
      "b Y B\n",
      "b Y C\n",
      "b Z A\n",
      "b Z B\n",
      "b Z C\n",
      "c X A\n",
      "c X B\n",
      "c X C\n",
      "c Y A\n",
      "c Y B\n",
      "c Y C\n",
      "c Z A\n",
      "c Z B\n",
      "c Z C\n"
     ]
    }
   ],
   "source": [
    "for a, b, c in itertools.product(['a', 'b', 'c'], ['X', 'Y', 'Z'], ['A', 'B', 'C']):\n",
    "    print(a, b, c)"
   ]
  },
  {
   "cell_type": "code",
   "execution_count": null,
   "id": "7eb2bbd4-e09f-48c3-8c39-92023d572881",
   "metadata": {},
   "outputs": [],
   "source": []
  }
 ],
 "metadata": {
  "kernelspec": {
   "display_name": "Python 3",
   "language": "python",
   "name": "python3"
  },
  "language_info": {
   "codemirror_mode": {
    "name": "ipython",
    "version": 3
   },
   "file_extension": ".py",
   "mimetype": "text/x-python",
   "name": "python",
   "nbconvert_exporter": "python",
   "pygments_lexer": "ipython3",
   "version": "3.6.13"
  }
 },
 "nbformat": 4,
 "nbformat_minor": 5
}
