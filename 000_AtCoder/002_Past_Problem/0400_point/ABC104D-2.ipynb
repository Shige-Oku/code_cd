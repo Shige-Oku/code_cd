{
 "cells": [
  {
   "cell_type": "code",
   "execution_count": null,
   "id": "614f58eb-28a3-420c-9900-0fd1b3565714",
   "metadata": {},
   "outputs": [],
   "source": [
    "# サンプルが合わない"
   ]
  },
  {
   "cell_type": "code",
   "execution_count": 35,
   "id": "51a95517-4b1d-4c05-9cf5-e3112afc8763",
   "metadata": {},
   "outputs": [
    {
     "name": "stdin",
     "output_type": "stream",
     "text": [
      " A??C\n"
     ]
    }
   ],
   "source": [
    "S = input()"
   ]
  },
  {
   "cell_type": "code",
   "execution_count": 20,
   "id": "6f220b57-e951-42f1-b0bd-d7832807bfe4",
   "metadata": {},
   "outputs": [],
   "source": [
    "SS = S.replace('?', 'ABC')\n",
    "dp = [[0] * 4 for _ in range(len(SS)+1)]\n",
    "dp[0][0] = 1\n",
    "for i, ss in enumerate(SS):\n",
    "    for j in range(4):\n",
    "        dp[i+1][j] = dp[i][j]\n",
    "    if ss == 'A':\n",
    "        dp[i+1][1] += dp[i][0]\n",
    "        dp[i+1][1] %= 10**9 + 7\n",
    "    if ss == 'B':\n",
    "        dp[i+1][2] += dp[i][1]\n",
    "        dp[i+1][2] %= 10**9 + 7\n",
    "    if ss == 'C':\n",
    "        dp[i+1][3] += dp[i][2]\n",
    "        dp[i+1][3] %= 10**9 + 7\n",
    "        "
   ]
  },
  {
   "cell_type": "code",
   "execution_count": 36,
   "id": "b97513e1-875b-4c76-83b7-55287d38f625",
   "metadata": {},
   "outputs": [],
   "source": [
    "dp = [[0] * 4 for _ in range(len(S)+1)]\n",
    "dp[0][0] = 1\n",
    "for i, s in enumerate(S):\n",
    "    for j in range(4):\n",
    "        if s == '?':\n",
    "            dp[i+1][j] = dp[i][j] + 1\n",
    "            dp[i+1][j] %= 10**9 + 7\n",
    "        else:\n",
    "            dp[i+1][j] = dp[i][j]\n",
    "            dp[i+1][j] %= 10**9 + 7\n",
    "    if s == 'A' or s == '?':\n",
    "        dp[i+1][1] += dp[i][0]\n",
    "        dp[i+1][1] %= 10**9 + 7\n",
    "    if s == 'B' or s == '?':\n",
    "        dp[i+1][2] += dp[i][1]\n",
    "        dp[i+1][2] %= 10**9 + 7\n",
    "    if s == 'C' or s == '?':\n",
    "        dp[i+1][3] += dp[i][2]\n",
    "        dp[i+1][3] %= 10**9 + 7\n",
    "            "
   ]
  },
  {
   "cell_type": "code",
   "execution_count": 37,
   "id": "08315f43-caa8-4f3f-9263-5f893d9403c2",
   "metadata": {},
   "outputs": [
    {
     "name": "stdout",
     "output_type": "stream",
     "text": [
      "10\n"
     ]
    }
   ],
   "source": [
    "print(dp[len(S)][3])"
   ]
  },
  {
   "cell_type": "code",
   "execution_count": 27,
   "id": "c10b569a-c1fa-44c6-93e0-bfce7dd63dbf",
   "metadata": {},
   "outputs": [
    {
     "data": {
      "text/plain": [
       "'AABCABCC'"
      ]
     },
     "execution_count": 27,
     "metadata": {},
     "output_type": "execute_result"
    }
   ],
   "source": [
    "SS"
   ]
  },
  {
   "cell_type": "code",
   "execution_count": 28,
   "id": "65d64a4b-d8ca-4728-a4e0-90a7df73bcd3",
   "metadata": {},
   "outputs": [
    {
     "data": {
      "text/plain": [
       "[[1, 0, 0, 0], [1, 1, 0, 0], [2, 3, 2, 1], [3, 6, 6, 4], [3, 6, 6, 10]]"
      ]
     },
     "execution_count": 28,
     "metadata": {},
     "output_type": "execute_result"
    }
   ],
   "source": [
    "dp"
   ]
  },
  {
   "cell_type": "code",
   "execution_count": null,
   "id": "0a947004-8281-404b-b2bb-f9eb3824c9b8",
   "metadata": {},
   "outputs": [],
   "source": []
  }
 ],
 "metadata": {
  "kernelspec": {
   "display_name": "Python 3",
   "language": "python",
   "name": "python3"
  },
  "language_info": {
   "codemirror_mode": {
    "name": "ipython",
    "version": 3
   },
   "file_extension": ".py",
   "mimetype": "text/x-python",
   "name": "python",
   "nbconvert_exporter": "python",
   "pygments_lexer": "ipython3",
   "version": "3.6.13"
  }
 },
 "nbformat": 4,
 "nbformat_minor": 5
}
