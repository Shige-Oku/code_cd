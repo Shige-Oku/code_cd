{
 "cells": [
  {
   "cell_type": "code",
   "execution_count": 1,
   "id": "0ad662d5-5c4d-45e6-9a1d-38f20af144d6",
   "metadata": {},
   "outputs": [],
   "source": [
    "import sys\n",
    "import numpy as np\n",
    "import math\n",
    "import collections\n",
    "import copy\n",
    "import decimal\n",
    "import itertools\n",
    "import re\n",
    "import bisect\n",
    "import scipy\n",
    "import heapq\n",
    "from collections import deque \n",
    "from functools import reduce\n",
    "from itertools import product\n",
    "from itertools import combinations\n",
    "from itertools import chain\n",
    "from functools import lru_cache\n",
    "from scipy.special import comb\n",
    "from numba import njit\n",
    "from bisect import bisect_right\n",
    "from bisect import bisect_left"
   ]
  },
  {
   "cell_type": "code",
   "execution_count": 2,
   "id": "8086ccf6-aec2-4b27-8446-1c3e869dd691",
   "metadata": {},
   "outputs": [
    {
     "name": "stdin",
     "output_type": "stream",
     "text": [
      " 2 3\n"
     ]
    }
   ],
   "source": [
    "H, W = map(int, input().split())"
   ]
  },
  {
   "cell_type": "code",
   "execution_count": 4,
   "id": "25c2ccc6-c2c0-4e46-bde4-84520afbd94c",
   "metadata": {},
   "outputs": [
    {
     "name": "stdin",
     "output_type": "stream",
     "text": [
      " 1 2 3\n",
      " 0 1 1\n"
     ]
    }
   ],
   "source": [
    "YX = [list(map(int, input().split())) for _ in range(H)]"
   ]
  },
  {
   "cell_type": "code",
   "execution_count": 11,
   "id": "60f2db36-0b3a-469c-9a45-9fe83802fe17",
   "metadata": {},
   "outputs": [],
   "source": [
    "odd = []\n",
    "for h in range(H):\n",
    "    for w in range(W):\n",
    "        if YX[h][w] % 2 == 1:\n",
    "            if h % 2 == 0:\n",
    "                odd.append((h, w))\n",
    "            else:\n",
    "                odd.append((h, -w))\n",
    "odd_s = sorted(odd)"
   ]
  },
  {
   "cell_type": "code",
   "execution_count": 40,
   "id": "e6555f64-0635-49b7-a303-54f3439e5f8d",
   "metadata": {},
   "outputs": [],
   "source": [
    "def solve(x1, y1, x2, y2):\n",
    "#     print(x1, y1, x2, y2)\n",
    "    while True:\n",
    "#         print(x1, x2, y1, y2, 1)\n",
    "        if x1 == x2 and y1 == y2:\n",
    "#             print('break')\n",
    "            break\n",
    "        x1_b = x1\n",
    "        y1_b = y1\n",
    "        if y1 % 2 == 0:\n",
    "            if x1 == W-1:\n",
    "                y1 += 1\n",
    "            else:\n",
    "                x1 += 1\n",
    "        else:\n",
    "            if x1 == 0:\n",
    "                y1 += 1\n",
    "            else:\n",
    "                x1 -= 1\n",
    "        s.append((y1_b+1, x1_b+1, y1+1, x1+1))\n",
    "#     print('return')\n",
    "    return"
   ]
  },
  {
   "cell_type": "code",
   "execution_count": 37,
   "id": "d2afa18a-8e18-4f8c-96a0-4d2fee35aa9e",
   "metadata": {},
   "outputs": [
    {
     "data": {
      "text/plain": [
       "[(0, 0), (0, 2), (1, -2), (1, -1)]"
      ]
     },
     "execution_count": 37,
     "metadata": {},
     "output_type": "execute_result"
    }
   ],
   "source": [
    "odd_s"
   ]
  },
  {
   "cell_type": "code",
   "execution_count": 42,
   "id": "e9ce50e4-791e-46e5-862a-ec4ecab808bd",
   "metadata": {},
   "outputs": [
    {
     "name": "stdout",
     "output_type": "stream",
     "text": [
      "3\n",
      "1 1 1 2\n",
      "1 2 1 3\n",
      "2 3 2 2\n"
     ]
    }
   ],
   "source": [
    "i = 0\n",
    "N = 0\n",
    "s = []\n",
    "while i < len(odd_s) // 2 * 2:\n",
    "    y1, x1 = odd_s[i]\n",
    "    y2, x2 = odd_s[i+1]\n",
    "    x1 = abs(x1)\n",
    "    x2 = abs(x2)\n",
    "    solve(x1, y1, x2, y2)\n",
    "    i += 2\n",
    "print(len(s))\n",
    "for ss in s:\n",
    "    print(*ss)"
   ]
  },
  {
   "cell_type": "code",
   "execution_count": 12,
   "id": "6131ed2b-9c1f-4193-bf72-a0529f99fb82",
   "metadata": {},
   "outputs": [
    {
     "data": {
      "text/plain": [
       "([(0, 0), (0, 2), (1, -2), (1, -1)], 4)"
      ]
     },
     "execution_count": 12,
     "metadata": {},
     "output_type": "execute_result"
    }
   ],
   "source": [
    "odd_s, 4//2*2"
   ]
  },
  {
   "cell_type": "code",
   "execution_count": null,
   "id": "52389c6d-b02d-4dea-9e99-492666efa09d",
   "metadata": {},
   "outputs": [],
   "source": []
  }
 ],
 "metadata": {
  "kernelspec": {
   "display_name": "Python 3",
   "language": "python",
   "name": "python3"
  },
  "language_info": {
   "codemirror_mode": {
    "name": "ipython",
    "version": 3
   },
   "file_extension": ".py",
   "mimetype": "text/x-python",
   "name": "python",
   "nbconvert_exporter": "python",
   "pygments_lexer": "ipython3",
   "version": "3.6.13"
  }
 },
 "nbformat": 4,
 "nbformat_minor": 5
}
