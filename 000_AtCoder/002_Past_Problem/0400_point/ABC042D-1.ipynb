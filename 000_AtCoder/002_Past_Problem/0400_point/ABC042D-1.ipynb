{
 "cells": [
  {
   "cell_type": "code",
   "execution_count": null,
   "id": "1eab95a4-1091-46b5-ab56-c8e19f7c2ab6",
   "metadata": {},
   "outputs": [],
   "source": [
    "# 解説を読んで実装"
   ]
  },
  {
   "cell_type": "code",
   "execution_count": 1,
   "id": "93f86b18-b39e-43e8-9131-d6c451f6dc09",
   "metadata": {},
   "outputs": [],
   "source": [
    "import sys\n",
    "import numpy as np\n",
    "import math\n",
    "import collections\n",
    "import copy\n",
    "import decimal\n",
    "import itertools\n",
    "import re\n",
    "import bisect\n",
    "import scipy\n",
    "import heapq\n",
    "from collections import deque \n",
    "from functools import reduce\n",
    "from itertools import product\n",
    "from itertools import combinations\n",
    "from itertools import chain\n",
    "from functools import lru_cache\n",
    "from scipy.special import comb\n",
    "from numba import njit\n",
    "from bisect import bisect_right\n",
    "from bisect import bisect_left"
   ]
  },
  {
   "cell_type": "code",
   "execution_count": 67,
   "id": "b2abcfea-5d60-4c72-b1e5-f333aecd5246",
   "metadata": {},
   "outputs": [
    {
     "name": "stdin",
     "output_type": "stream",
     "text": [
      " 10 7 3 4\n"
     ]
    }
   ],
   "source": [
    "H, W, A, B = map(int, input().split())"
   ]
  },
  {
   "cell_type": "code",
   "execution_count": 68,
   "id": "18342ca9-aeae-4a1f-873c-1bee5e4abf3c",
   "metadata": {},
   "outputs": [],
   "source": [
    "def COMinit():\n",
    "    fac[:2] = 1, 1\n",
    "    finv[:2] = 1, 1\n",
    "    inv[1] = 1\n",
    "    for i in range(2, N):\n",
    "        fac[i] = fac[i-1] * i % MOD\n",
    "        inv[i] = MOD - inv[MOD%i] * (MOD // i) % MOD\n",
    "        finv[i] = finv[i-1] * inv[i] % MOD\n",
    "    return"
   ]
  },
  {
   "cell_type": "code",
   "execution_count": 69,
   "id": "718dfbfe-1877-4e05-9eae-b24ae2e114ce",
   "metadata": {},
   "outputs": [],
   "source": [
    "def COM(n, k):\n",
    "    if  n < k:\n",
    "        return 0\n",
    "    if n < 0 or k < 0:\n",
    "        return 0\n",
    "    return fac[n] * (finv[k] * finv[n-k] % MOD) % MOD"
   ]
  },
  {
   "cell_type": "code",
   "execution_count": 70,
   "id": "0984e51f-59f9-498a-b124-2df969079d52",
   "metadata": {},
   "outputs": [],
   "source": [
    "N = 2 * 10**5\n",
    "MOD = 10**9 + 7\n",
    "fac = [0] * (N+1)\n",
    "finv = [0] * (N+1)\n",
    "inv = [0] * (N+1)\n",
    "COMinit()"
   ]
  },
  {
   "cell_type": "code",
   "execution_count": 71,
   "id": "3765d533-02b2-4bb2-bee5-4bfa1aaf5e26",
   "metadata": {},
   "outputs": [],
   "source": [
    "left = [0] * (H+1)\n",
    "for i in range(H-A):\n",
    "    left[i] = COM(i+B-1, B-1)\n",
    "#     print(i, B, i+B)"
   ]
  },
  {
   "cell_type": "code",
   "execution_count": 72,
   "id": "13a35873-8401-4850-8216-0fc10bec0ec6",
   "metadata": {},
   "outputs": [],
   "source": [
    "ans = 0\n",
    "for i in range(H):\n",
    "    ans += left[i] * COM(H-i+W-B-2, W-B-1)\n",
    "    ans %= MOD\n",
    "#     print(H-i+W-B-2, W-B-1, COM(H-i+W-B-2, W-B-1))\n",
    "#     print(ans)"
   ]
  },
  {
   "cell_type": "code",
   "execution_count": 73,
   "id": "1aa0e200-d989-4061-8e01-6dce4063131a",
   "metadata": {},
   "outputs": [
    {
     "name": "stdout",
     "output_type": "stream",
     "text": [
      "3570\n"
     ]
    }
   ],
   "source": [
    "print(ans)"
   ]
  },
  {
   "cell_type": "code",
   "execution_count": 74,
   "id": "23ddd686-bf0a-4863-b707-00dd3eb47221",
   "metadata": {},
   "outputs": [
    {
     "data": {
      "text/plain": [
       "[1, 4, 10, 20, 35, 56, 84, 0, 0, 0, 0]"
      ]
     },
     "execution_count": 74,
     "metadata": {},
     "output_type": "execute_result"
    }
   ],
   "source": [
    "left"
   ]
  },
  {
   "cell_type": "code",
   "execution_count": null,
   "id": "37ef98b9-83e5-4d25-8559-6eded47f9992",
   "metadata": {},
   "outputs": [],
   "source": []
  }
 ],
 "metadata": {
  "kernelspec": {
   "display_name": "Python 3",
   "language": "python",
   "name": "python3"
  },
  "language_info": {
   "codemirror_mode": {
    "name": "ipython",
    "version": 3
   },
   "file_extension": ".py",
   "mimetype": "text/x-python",
   "name": "python",
   "nbconvert_exporter": "python",
   "pygments_lexer": "ipython3",
   "version": "3.6.13"
  }
 },
 "nbformat": 4,
 "nbformat_minor": 5
}
