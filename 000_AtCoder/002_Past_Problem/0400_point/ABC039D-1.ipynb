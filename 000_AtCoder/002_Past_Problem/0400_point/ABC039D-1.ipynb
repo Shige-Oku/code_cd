{
 "cells": [
  {
   "cell_type": "code",
   "execution_count": 1,
   "id": "a811f41c-ba33-40f3-b1b0-5a4cbf6df37c",
   "metadata": {},
   "outputs": [],
   "source": [
    "import sys\n",
    "import numpy as np\n",
    "import math\n",
    "import collections\n",
    "import copy\n",
    "import decimal\n",
    "import itertools\n",
    "import re\n",
    "import bisect\n",
    "import scipy\n",
    "import heapq\n",
    "from collections import deque \n",
    "from functools import reduce\n",
    "from itertools import product\n",
    "from itertools import combinations\n",
    "from itertools import chain\n",
    "from functools import lru_cache\n",
    "from scipy.special import comb\n",
    "from numba import njit\n",
    "from bisect import bisect_right\n",
    "from bisect import bisect_left"
   ]
  },
  {
   "cell_type": "code",
   "execution_count": 2,
   "id": "afe43767-b4f3-4896-a6f3-64ba282ca4de",
   "metadata": {},
   "outputs": [
    {
     "name": "stdin",
     "output_type": "stream",
     "text": [
      " 4 4\n"
     ]
    }
   ],
   "source": [
    "H, W = map(int, input().split())"
   ]
  },
  {
   "cell_type": "code",
   "execution_count": 60,
   "id": "208ad0b8-fa15-4e6e-b7a0-7ea766378350",
   "metadata": {},
   "outputs": [
    {
     "name": "stdin",
     "output_type": "stream",
     "text": [
      " ###.\n",
      " ####\n",
      " ..##\n",
      " ..##\n"
     ]
    }
   ],
   "source": [
    "Sn = ['#' + input() + '#' for _ in range(H)]"
   ]
  },
  {
   "cell_type": "code",
   "execution_count": 66,
   "id": "fd1d6f3f-d916-4781-91c7-cef05a243fd7",
   "metadata": {},
   "outputs": [],
   "source": [
    "Sn.insert(0, '#'* (W+2))\n",
    "Sn.append('#'* (W+2))"
   ]
  },
  {
   "cell_type": "code",
   "execution_count": 70,
   "id": "bccb9183-b160-42d7-a2c6-e9a7233ba97f",
   "metadata": {},
   "outputs": [],
   "source": [
    "ans = [['.'] * (W+2) for _ in range(H+2)]\n",
    "for i in range(1, H+1):\n",
    "    for j in range(1, W+1):\n",
    "        if Sn[i][j] == '.':\n",
    "            continue\n",
    "        al = True\n",
    "        for k in range(i-1, i+2):\n",
    "            for l in range(j-1, j+2):\n",
    "                if Sn[k][l] == '.':\n",
    "                    al = False\n",
    "                    break\n",
    "        if al:\n",
    "            ans[i][j] = '#'"
   ]
  },
  {
   "cell_type": "code",
   "execution_count": 89,
   "id": "e0c11de2-fa7a-4a8c-aab1-2e0151e38f96",
   "metadata": {},
   "outputs": [],
   "source": [
    "flg = True\n",
    "for k in range(1, H+1):\n",
    "    for l in range(1, W+1):\n",
    "        if Sn[k][l] == '#':\n",
    "            if ans[k-1][l-1] == '#' or ans[k-1][l] == '#' or ans[k-1][l+1] == '#' or \\\n",
    "                ans[k][l-1] == '#' or ans[k][l] == '#' or ans[k][l+1] == '#' or \\\n",
    "                ans[k+1][l-1] == '#' or ans[k+1][l] == '#' or ans[k+1][l+1] == '#':\n",
    "                pass\n",
    "            else:\n",
    "                flg = False\n",
    "        else:\n",
    "            if ans[k-1][l-1] == '.' and ans[k-1][l] == '.' and ans[k-1][l+1] == '.' and \\\n",
    "                ans[k][l-1] == '.' and ans[k][l] == '.' and ans[k][l+1] == '.' and \\\n",
    "                ans[k+1][l-1] == '.' and ans[k+1][l] == '.' and ans[k+1][l+1] == '.':\n",
    "                pass\n",
    "            else:\n",
    "                flg = False\n"
   ]
  },
  {
   "cell_type": "code",
   "execution_count": 88,
   "id": "0a2bb416-9027-4d24-b493-e200907b27c0",
   "metadata": {},
   "outputs": [
    {
     "name": "stdout",
     "output_type": "stream",
     "text": [
      "possible\n",
      "##..\n",
      "....\n",
      "...#\n",
      "...#\n"
     ]
    }
   ],
   "source": [
    "if flg:\n",
    "    print('possible')\n",
    "    for a in ans[1:-1]:\n",
    "        print(*a[1:-1], sep='')\n",
    "else:\n",
    "    print('impossible')"
   ]
  },
  {
   "cell_type": "code",
   "execution_count": 75,
   "id": "78853e58-65d6-458a-89a2-534df63a5db8",
   "metadata": {},
   "outputs": [
    {
     "ename": "IndexError",
     "evalue": "list index out of range",
     "output_type": "error",
     "traceback": [
      "\u001b[1;31m---------------------------------------------------------------------------\u001b[0m",
      "\u001b[1;31mIndexError\u001b[0m                                Traceback (most recent call last)",
      "\u001b[1;32m<ipython-input-75-fce1d8f5245d>\u001b[0m in \u001b[0;36m<module>\u001b[1;34m\u001b[0m\n\u001b[0;32m      5\u001b[0m             \u001b[1;32mfor\u001b[0m \u001b[0ml\u001b[0m \u001b[1;32min\u001b[0m \u001b[0mrange\u001b[0m\u001b[1;33m(\u001b[0m\u001b[0mj\u001b[0m\u001b[1;33m-\u001b[0m\u001b[1;36m1\u001b[0m\u001b[1;33m,\u001b[0m \u001b[0mj\u001b[0m\u001b[1;33m+\u001b[0m\u001b[1;36m2\u001b[0m\u001b[1;33m)\u001b[0m\u001b[1;33m:\u001b[0m\u001b[1;33m\u001b[0m\u001b[1;33m\u001b[0m\u001b[0m\n\u001b[0;32m      6\u001b[0m                 \u001b[1;32mif\u001b[0m \u001b[0mSn\u001b[0m\u001b[1;33m[\u001b[0m\u001b[0mk\u001b[0m\u001b[1;33m]\u001b[0m\u001b[1;33m[\u001b[0m\u001b[0ml\u001b[0m\u001b[1;33m]\u001b[0m \u001b[1;33m==\u001b[0m \u001b[1;34m'#'\u001b[0m\u001b[1;33m:\u001b[0m\u001b[1;33m\u001b[0m\u001b[1;33m\u001b[0m\u001b[0m\n\u001b[1;32m----> 7\u001b[1;33m                     \u001b[1;32mif\u001b[0m \u001b[0mans\u001b[0m\u001b[1;33m[\u001b[0m\u001b[0mk\u001b[0m\u001b[1;33m-\u001b[0m\u001b[1;36m1\u001b[0m\u001b[1;33m]\u001b[0m\u001b[1;33m[\u001b[0m\u001b[0ml\u001b[0m\u001b[1;33m-\u001b[0m\u001b[1;36m1\u001b[0m\u001b[1;33m]\u001b[0m \u001b[1;33m==\u001b[0m \u001b[1;34m'#'\u001b[0m \u001b[1;32mor\u001b[0m \u001b[0mans\u001b[0m\u001b[1;33m[\u001b[0m\u001b[0mk\u001b[0m\u001b[1;33m-\u001b[0m\u001b[1;36m1\u001b[0m\u001b[1;33m]\u001b[0m\u001b[1;33m[\u001b[0m\u001b[0ml\u001b[0m\u001b[1;33m]\u001b[0m \u001b[1;33m==\u001b[0m \u001b[1;34m'#'\u001b[0m \u001b[1;32mor\u001b[0m \u001b[0mans\u001b[0m\u001b[1;33m[\u001b[0m\u001b[0mk\u001b[0m\u001b[1;33m-\u001b[0m\u001b[1;36m1\u001b[0m\u001b[1;33m]\u001b[0m\u001b[1;33m[\u001b[0m\u001b[0ml\u001b[0m\u001b[1;33m+\u001b[0m\u001b[1;36m1\u001b[0m\u001b[1;33m]\u001b[0m \u001b[1;33m==\u001b[0m \u001b[1;34m'#'\u001b[0m \u001b[1;32mor\u001b[0m\u001b[0;31m \u001b[0m\u001b[0;31m\\\u001b[0m\u001b[1;33m\u001b[0m\u001b[1;33m\u001b[0m\u001b[0m\n\u001b[0m\u001b[0;32m      8\u001b[0m                         \u001b[0mans\u001b[0m\u001b[1;33m[\u001b[0m\u001b[0mk\u001b[0m\u001b[1;33m]\u001b[0m\u001b[1;33m[\u001b[0m\u001b[0ml\u001b[0m\u001b[1;33m-\u001b[0m\u001b[1;36m1\u001b[0m\u001b[1;33m]\u001b[0m \u001b[1;33m==\u001b[0m \u001b[1;34m'#'\u001b[0m \u001b[1;32mor\u001b[0m \u001b[0mans\u001b[0m\u001b[1;33m[\u001b[0m\u001b[0mk\u001b[0m\u001b[1;33m]\u001b[0m\u001b[1;33m[\u001b[0m\u001b[0ml\u001b[0m\u001b[1;33m]\u001b[0m \u001b[1;33m==\u001b[0m \u001b[1;34m'#'\u001b[0m \u001b[1;32mor\u001b[0m \u001b[0mans\u001b[0m\u001b[1;33m[\u001b[0m\u001b[0mk\u001b[0m\u001b[1;33m]\u001b[0m\u001b[1;33m[\u001b[0m\u001b[0ml\u001b[0m\u001b[1;33m+\u001b[0m\u001b[1;36m1\u001b[0m\u001b[1;33m]\u001b[0m \u001b[1;33m==\u001b[0m \u001b[1;34m'#'\u001b[0m \u001b[1;32mor\u001b[0m\u001b[0;31m \u001b[0m\u001b[0;31m\\\u001b[0m\u001b[1;33m\u001b[0m\u001b[1;33m\u001b[0m\u001b[0m\n\u001b[0;32m      9\u001b[0m                         \u001b[0mans\u001b[0m\u001b[1;33m[\u001b[0m\u001b[0mk\u001b[0m\u001b[1;33m+\u001b[0m\u001b[1;36m1\u001b[0m\u001b[1;33m]\u001b[0m\u001b[1;33m[\u001b[0m\u001b[0ml\u001b[0m\u001b[1;33m-\u001b[0m\u001b[1;36m1\u001b[0m\u001b[1;33m]\u001b[0m \u001b[1;33m==\u001b[0m \u001b[1;34m'#'\u001b[0m \u001b[1;32mor\u001b[0m \u001b[0mans\u001b[0m\u001b[1;33m[\u001b[0m\u001b[0mk\u001b[0m\u001b[1;33m+\u001b[0m\u001b[1;36m1\u001b[0m\u001b[1;33m]\u001b[0m\u001b[1;33m[\u001b[0m\u001b[0ml\u001b[0m\u001b[1;33m]\u001b[0m \u001b[1;33m==\u001b[0m \u001b[1;34m'#'\u001b[0m \u001b[1;32mor\u001b[0m \u001b[0mans\u001b[0m\u001b[1;33m[\u001b[0m\u001b[0mk\u001b[0m\u001b[1;33m+\u001b[0m\u001b[1;36m1\u001b[0m\u001b[1;33m]\u001b[0m\u001b[1;33m[\u001b[0m\u001b[0ml\u001b[0m\u001b[1;33m+\u001b[0m\u001b[1;36m1\u001b[0m\u001b[1;33m]\u001b[0m \u001b[1;33m==\u001b[0m \u001b[1;34m'#'\u001b[0m\u001b[1;33m:\u001b[0m\u001b[1;33m\u001b[0m\u001b[1;33m\u001b[0m\u001b[0m\n",
      "\u001b[1;31mIndexError\u001b[0m: list index out of range"
     ]
    }
   ],
   "source": [
    "flg = True\n",
    "for i in range(1, H+1):\n",
    "    for j in range(1, W+1):\n",
    "        for k in range(i-1, i+2):\n",
    "            for l in range(j-1, j+2):\n",
    "                if Sn[k][l] == '#':\n",
    "                    if ans[k-1][l-1] == '#' or ans[k-1][l] == '#' or ans[k-1][l+1] == '#' or \\\n",
    "                        ans[k][l-1] == '#' or ans[k][l] == '#' or ans[k][l+1] == '#' or \\\n",
    "                        ans[k+1][l-1] == '#' or ans[k+1][l] == '#' or ans[k+1][l+1] == '#':\n",
    "                        pass\n",
    "                    else:\n",
    "                        flg = False\n",
    "                else:\n",
    "                    if ans[k-1][l-1] == '.' and ans[k-1][l] == '.' and ans[k-1][l+1] == '.' and \\\n",
    "                        ans[k][l-1] == '.' and ans[k][l] == '.' and ans[k][l+1] == '.' and \\\n",
    "                        ans[k+1][l-1] == '.' and ans[k+1][l] == '.' and ans[k+1][l+1] == '.':\n",
    "                        flg = False\n"
   ]
  },
  {
   "cell_type": "code",
   "execution_count": 77,
   "id": "d304c6b4-f91c-41e5-86bc-9409e7e10b51",
   "metadata": {},
   "outputs": [
    {
     "data": {
      "text/plain": [
       "(0, 5, '.')"
      ]
     },
     "execution_count": 77,
     "metadata": {},
     "output_type": "execute_result"
    }
   ],
   "source": [
    "k, l, ans[0][5]"
   ]
  },
  {
   "cell_type": "code",
   "execution_count": 59,
   "id": "8a4bb531-ad58-4ee5-8be9-b3317d61b343",
   "metadata": {},
   "outputs": [
    {
     "name": "stdout",
     "output_type": "stream",
     "text": [
      "possible\n",
      "#...\n",
      "....\n",
      "....\n",
      "...#\n"
     ]
    }
   ],
   "source": [
    "if flg:\n",
    "    print('possible')\n",
    "    for a in ans:\n",
    "        print(*a, sep='')\n",
    "else:\n",
    "    print('impossible')"
   ]
  },
  {
   "cell_type": "code",
   "execution_count": 56,
   "id": "3bcfc1e3-4035-421e-a0f7-c771ca38b361",
   "metadata": {},
   "outputs": [],
   "source": [
    "ans[0][0] = '#'"
   ]
  },
  {
   "cell_type": "code",
   "execution_count": 84,
   "id": "db656891-256b-4d9a-a933-9792ede361f9",
   "metadata": {},
   "outputs": [
    {
     "data": {
      "text/plain": [
       "([['.', '.', '.', '.', '.', '.'],\n",
       "  ['.', '#', '#', '.', '.', '.'],\n",
       "  ['.', '.', '.', '.', '.', '.'],\n",
       "  ['.', '.', '.', '.', '#', '.'],\n",
       "  ['.', '.', '.', '.', '#', '.'],\n",
       "  ['.', '.', '.', '.', '.', '.']],\n",
       " False)"
      ]
     },
     "execution_count": 84,
     "metadata": {},
     "output_type": "execute_result"
    }
   ],
   "source": [
    "ans, flg"
   ]
  },
  {
   "cell_type": "code",
   "execution_count": 27,
   "id": "56ac750f-606d-4170-b660-a5a0ae6b36e1",
   "metadata": {},
   "outputs": [
    {
     "data": {
      "text/plain": [
       "['######', '###..#', '###..#', '#..###', '#..###', '######']"
      ]
     },
     "execution_count": 27,
     "metadata": {},
     "output_type": "execute_result"
    }
   ],
   "source": [
    "Sn"
   ]
  },
  {
   "cell_type": "code",
   "execution_count": null,
   "id": "ed5e3a9b-ce76-4880-8fb1-eb13c92f7fc5",
   "metadata": {},
   "outputs": [],
   "source": []
  }
 ],
 "metadata": {
  "kernelspec": {
   "display_name": "Python 3",
   "language": "python",
   "name": "python3"
  },
  "language_info": {
   "codemirror_mode": {
    "name": "ipython",
    "version": 3
   },
   "file_extension": ".py",
   "mimetype": "text/x-python",
   "name": "python",
   "nbconvert_exporter": "python",
   "pygments_lexer": "ipython3",
   "version": "3.6.13"
  }
 },
 "nbformat": 4,
 "nbformat_minor": 5
}
