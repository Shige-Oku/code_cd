{
 "cells": [
  {
   "cell_type": "code",
   "execution_count": null,
   "id": "b73cb9a3-c5ab-401a-bf38-821d32c18fdf",
   "metadata": {},
   "outputs": [],
   "source": [
    "# WA, TLE"
   ]
  },
  {
   "cell_type": "code",
   "execution_count": 1,
   "id": "9e7c8eb2-3f5d-42d9-80a9-90148e240053",
   "metadata": {},
   "outputs": [],
   "source": [
    "import sys\n",
    "import numpy as np\n",
    "import math\n",
    "import collections\n",
    "import copy\n",
    "import decimal\n",
    "import itertools\n",
    "import re\n",
    "import bisect\n",
    "import scipy\n",
    "import heapq\n",
    "from collections import deque \n",
    "from functools import reduce\n",
    "from itertools import product\n",
    "from itertools import combinations\n",
    "from itertools import chain\n",
    "from functools import lru_cache\n",
    "from scipy.special import comb\n",
    "from numba import njit\n",
    "from bisect import bisect_right\n",
    "from bisect import bisect_left"
   ]
  },
  {
   "cell_type": "code",
   "execution_count": 19,
   "id": "57e8b922-21d5-479f-a422-ca939d62bbe4",
   "metadata": {},
   "outputs": [
    {
     "name": "stdin",
     "output_type": "stream",
     "text": [
      " 10 10 10 20\n"
     ]
    }
   ],
   "source": [
    "X, Y, Z, K = map(int, input().split())"
   ]
  },
  {
   "cell_type": "code",
   "execution_count": 20,
   "id": "8ca56dde-5a2d-4527-b8d8-dd30cfe459aa",
   "metadata": {},
   "outputs": [
    {
     "name": "stdin",
     "output_type": "stream",
     "text": [
      " 7467038376 5724769290 292794712 2843504496 3381970101 8402252870 249131806 6310293640 6690322794 6082257488\n"
     ]
    }
   ],
   "source": [
    "An = list(map(int, input().split()))"
   ]
  },
  {
   "cell_type": "code",
   "execution_count": 21,
   "id": "490243f6-8fcc-459b-a3ea-3d30d4508df7",
   "metadata": {},
   "outputs": [
    {
     "name": "stdin",
     "output_type": "stream",
     "text": [
      " 1873977926 2576529623 1144842195 1379118507 6003234687 4925540914 3902539811 3326692703 484657758 2877436338\n"
     ]
    }
   ],
   "source": [
    "Bn = list(map(int, input().split()))"
   ]
  },
  {
   "cell_type": "code",
   "execution_count": 22,
   "id": "8c270922-8ed7-4669-8bc4-37f64e26d872",
   "metadata": {},
   "outputs": [
    {
     "name": "stdin",
     "output_type": "stream",
     "text": [
      " 4975681328 8974383988 2882263257 7690203955 514305523 6679823484 4263279310 585966808 3752282379 620585736\n"
     ]
    }
   ],
   "source": [
    "Cn = list(map(int, input().split()))"
   ]
  },
  {
   "cell_type": "code",
   "execution_count": 23,
   "id": "3090ab98-eac9-44ce-8f4d-0cfef0359257",
   "metadata": {},
   "outputs": [],
   "source": [
    "An_s = sorted(set(An), reverse=True)\n",
    "Bn_s = sorted(set(Bn), reverse=True)\n",
    "Cn_s = sorted(set(Cn), reverse=True)\n",
    "ans = []\n",
    "mi = 10**10\n",
    "for i in range(len(An_s)):\n",
    "    for j in range(len(Bn_s)):\n",
    "        for k in range(len(Cn_s)):\n",
    "            total = An_s[i] + Bn_s[j] + Cn_s[k]\n",
    "            if len(ans) < K:\n",
    "                ans.append(total)\n",
    "                mi = min(mi, total)\n",
    "            else:\n",
    "                if total <= mi:\n",
    "                    break\n",
    "                ans.append(total)\n",
    "        if An_s[i] + Bn_s[j] + Cn_s[0] <= mi:\n",
    "            break\n",
    "            "
   ]
  },
  {
   "cell_type": "code",
   "execution_count": 24,
   "id": "a5bdfbc4-cdad-414c-8b65-4c95540ca3dd",
   "metadata": {},
   "outputs": [
    {
     "name": "stdout",
     "output_type": "stream",
     "text": [
      "23379871545\n",
      "22444657051\n",
      "22302177772\n",
      "22095691512\n",
      "21667941469\n",
      "21366963278\n",
      "21287912315\n",
      "21279176669\n",
      "21160477018\n",
      "21085311041\n",
      "21059876163\n",
      "21017997739\n",
      "20703329561\n",
      "20702387965\n",
      "20590247696\n",
      "20383761436\n",
      "20343962175\n",
      "20254073196\n",
      "20210218542\n",
      "20150096547\n"
     ]
    }
   ],
   "source": [
    "ans.sort(reverse=True)\n",
    "for an in ans[:K]:\n",
    "    print(an)"
   ]
  },
  {
   "cell_type": "code",
   "execution_count": 10,
   "id": "a42ac140-401e-4337-89dd-e75c5ac55e40",
   "metadata": {},
   "outputs": [
    {
     "data": {
      "text/plain": [
       "[400, 310, 301, 220, 130]"
      ]
     },
     "execution_count": 10,
     "metadata": {},
     "output_type": "execute_result"
    }
   ],
   "source": [
    "ans"
   ]
  },
  {
   "cell_type": "code",
   "execution_count": null,
   "id": "52b7fd51-1db8-45a9-a1df-678216b792b1",
   "metadata": {},
   "outputs": [],
   "source": []
  }
 ],
 "metadata": {
  "kernelspec": {
   "display_name": "Python 3",
   "language": "python",
   "name": "python3"
  },
  "language_info": {
   "codemirror_mode": {
    "name": "ipython",
    "version": 3
   },
   "file_extension": ".py",
   "mimetype": "text/x-python",
   "name": "python",
   "nbconvert_exporter": "python",
   "pygments_lexer": "ipython3",
   "version": "3.6.13"
  }
 },
 "nbformat": 4,
 "nbformat_minor": 5
}
