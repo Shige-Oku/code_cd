{
 "cells": [
  {
   "cell_type": "code",
   "execution_count": null,
   "id": "f2629f4e-981e-4986-ac2a-50f69090a0e9",
   "metadata": {},
   "outputs": [],
   "source": [
    "# 解説を読んで実装"
   ]
  },
  {
   "cell_type": "code",
   "execution_count": 1,
   "id": "35b30a86-66a9-41c5-9a2c-27ca900862c6",
   "metadata": {},
   "outputs": [],
   "source": [
    "import sys\n",
    "import numpy as np\n",
    "import math\n",
    "import collections\n",
    "import copy\n",
    "import decimal\n",
    "import itertools\n",
    "import re\n",
    "import bisect\n",
    "import scipy\n",
    "import heapq\n",
    "from collections import deque \n",
    "from functools import reduce\n",
    "from itertools import product\n",
    "from itertools import combinations\n",
    "from itertools import chain\n",
    "from functools import lru_cache\n",
    "from scipy.special import comb\n",
    "from numba import njit\n",
    "from bisect import bisect_right\n",
    "from bisect import bisect_left"
   ]
  },
  {
   "cell_type": "code",
   "execution_count": 82,
   "id": "9e3d01b3-6b19-486f-b27c-22a31852184d",
   "metadata": {},
   "outputs": [
    {
     "name": "stdin",
     "output_type": "stream",
     "text": [
      " 15 8 5\n"
     ]
    }
   ],
   "source": [
    "H, W, K = map(int, input().split())"
   ]
  },
  {
   "cell_type": "code",
   "execution_count": 83,
   "id": "9bf9b3f6-2022-4973-ba25-70a0b080c23e",
   "metadata": {},
   "outputs": [],
   "source": [
    "def check(c):\n",
    "    for i in  range(1, len(c)):\n",
    "        if c[i-1] == c[i] == 1:\n",
    "            return False\n",
    "    return True\n",
    "    "
   ]
  },
  {
   "cell_type": "code",
   "execution_count": 84,
   "id": "792dbf6a-5526-474f-a94b-917df50b385f",
   "metadata": {},
   "outputs": [],
   "source": [
    "dp = [[0] * (W+2) for _ in range(H+2)]\n",
    "dp[0][0] = 1\n",
    "for y in range(H):\n",
    "    for x in range(W):\n",
    "        for c in itertools.product((0, 1), repeat=W-1):\n",
    "            if not check(c):\n",
    "                continue\n",
    "            if x > 0 and c[x-1] == 1:\n",
    "                dp[y+1][x-1] += dp[y][x]\n",
    "                dp[y+1][x-1] %= 10**9+7\n",
    "            elif x < W-1 and c[x] == 1:\n",
    "                dp[y+1][x+1] += dp[y][x]\n",
    "                dp[y+1][x+1] %= 10**9+7\n",
    "            else:\n",
    "                dp[y+1][x] += dp[y][x]\n",
    "                dp[y+1][x] %= 10**9+7\n",
    "                "
   ]
  },
  {
   "cell_type": "code",
   "execution_count": 85,
   "id": "b84e822d-86f5-43e0-a367-ddcc7544d464",
   "metadata": {},
   "outputs": [
    {
     "name": "stdout",
     "output_type": "stream",
     "text": [
      "437760187\n"
     ]
    }
   ],
   "source": [
    "print(dp[H][K-1])"
   ]
  },
  {
   "cell_type": "code",
   "execution_count": 64,
   "id": "675f6416-998a-4dc9-913b-443ea3401836",
   "metadata": {},
   "outputs": [
    {
     "name": "stdout",
     "output_type": "stream",
     "text": [
      "(0, 0)\n",
      "(0, 1)\n",
      "(1, 0)\n",
      "(1, 1)\n"
     ]
    }
   ],
   "source": [
    "for c in itertools.product((0, 1), repeat=W-1):\n",
    "    print(c)"
   ]
  },
  {
   "cell_type": "code",
   "execution_count": 65,
   "id": "c358150f-42f3-4850-9ca5-ee52ea2b9863",
   "metadata": {},
   "outputs": [
    {
     "data": {
      "text/plain": [
       "False"
      ]
     },
     "execution_count": 65,
     "metadata": {},
     "output_type": "execute_result"
    }
   ],
   "source": [
    "check((1, 0, 0, 1, 1))"
   ]
  },
  {
   "cell_type": "code",
   "execution_count": 66,
   "id": "ea4dc055-f511-4127-b7bd-af70f82372fe",
   "metadata": {},
   "outputs": [
    {
     "data": {
      "text/plain": [
       "[[1, 0, 0, 0, 0], [2, 1, 0, 0, 0], [0, 0, 0, 0, 0]]"
      ]
     },
     "execution_count": 66,
     "metadata": {},
     "output_type": "execute_result"
    }
   ],
   "source": [
    "dp"
   ]
  },
  {
   "cell_type": "code",
   "execution_count": null,
   "id": "97ee5288-8125-4d42-9ac3-50208913eff1",
   "metadata": {},
   "outputs": [],
   "source": []
  }
 ],
 "metadata": {
  "kernelspec": {
   "display_name": "Python 3",
   "language": "python",
   "name": "python3"
  },
  "language_info": {
   "codemirror_mode": {
    "name": "ipython",
    "version": 3
   },
   "file_extension": ".py",
   "mimetype": "text/x-python",
   "name": "python",
   "nbconvert_exporter": "python",
   "pygments_lexer": "ipython3",
   "version": "3.6.13"
  }
 },
 "nbformat": 4,
 "nbformat_minor": 5
}
