{
 "cells": [
  {
   "cell_type": "code",
   "execution_count": null,
   "id": "3150d326-5b24-4049-b713-5018458c0a55",
   "metadata": {},
   "outputs": [],
   "source": [
    "# 解説を読んで実装"
   ]
  },
  {
   "cell_type": "code",
   "execution_count": 1,
   "id": "50ccdc07-87f5-46ed-903c-ca2bd5c34c30",
   "metadata": {},
   "outputs": [],
   "source": [
    "import sys\n",
    "import numpy as np\n",
    "import math\n",
    "import collections\n",
    "import copy\n",
    "import decimal\n",
    "import itertools\n",
    "import re\n",
    "import bisect\n",
    "import scipy\n",
    "import heapq\n",
    "from collections import deque \n",
    "from functools import reduce\n",
    "from itertools import product\n",
    "from itertools import combinations\n",
    "from itertools import chain\n",
    "from functools import lru_cache\n",
    "from scipy.special import comb\n",
    "from numba import njit\n",
    "from bisect import bisect_right\n",
    "from bisect import bisect_left"
   ]
  },
  {
   "cell_type": "code",
   "execution_count": 2,
   "id": "1b9862af-e2aa-4436-b4ee-81029d04f983",
   "metadata": {},
   "outputs": [
    {
     "name": "stdin",
     "output_type": "stream",
     "text": [
      " 3 3\n"
     ]
    }
   ],
   "source": [
    "N, M = map(int, input().split())"
   ]
  },
  {
   "cell_type": "code",
   "execution_count": 3,
   "id": "df813740-9d6c-4e97-9352-02fa4257a7ca",
   "metadata": {},
   "outputs": [
    {
     "name": "stdin",
     "output_type": "stream",
     "text": [
      " 1 2 4\n",
      " 2 3 3\n",
      " 1 3 5\n"
     ]
    }
   ],
   "source": [
    "ABC = [list(map(int, input().split())) for _ in range(M)]"
   ]
  },
  {
   "cell_type": "code",
   "execution_count": 4,
   "id": "1c74fa74-7d16-4e92-906a-a1a9b9dc327c",
   "metadata": {},
   "outputs": [],
   "source": [
    "graph = []\n",
    "for A, B, C in ABC:\n",
    "    graph.append((A, B, -C))"
   ]
  },
  {
   "cell_type": "code",
   "execution_count": 14,
   "id": "3ea29492-780f-4d2c-ab75-bda9aacfc461",
   "metadata": {},
   "outputs": [],
   "source": [
    "dist = [float('inf')] *(N+1)\n",
    "dist[1] = 0\n",
    "for i in range(N):\n",
    "    update = False\n",
    "    for fr, to, point in graph:\n",
    "        if dist[fr] == float('inf'):\n",
    "            continue\n",
    "        if dist[to] > dist[fr] + point:\n",
    "            dist[to] = dist[fr] + point\n",
    "            update = True\n",
    "    if not update:\n",
    "        break\n"
   ]
  },
  {
   "cell_type": "code",
   "execution_count": 15,
   "id": "37d2b772-2753-4f4b-965a-51ce823427ec",
   "metadata": {},
   "outputs": [],
   "source": [
    "negative = [False] * (N+1)\n",
    "for fr, to, point in graph:\n",
    "    if dist[fr] == float('inf'):\n",
    "        continue\n",
    "    if dist[to] > dist[fr] + point or negative[fr]:\n",
    "        negative[to] = True"
   ]
  },
  {
   "cell_type": "code",
   "execution_count": 16,
   "id": "2d99e063-6246-44b4-ab90-bb6f470cc1a1",
   "metadata": {},
   "outputs": [
    {
     "name": "stdout",
     "output_type": "stream",
     "text": [
      "7\n"
     ]
    }
   ],
   "source": [
    "if negative[N]:\n",
    "    print('inf')\n",
    "else:\n",
    "    print(-dist[N])"
   ]
  },
  {
   "cell_type": "code",
   "execution_count": 18,
   "id": "f4cf26e4-e3a7-4a12-b771-7d2b88f476ab",
   "metadata": {},
   "outputs": [
    {
     "data": {
      "text/plain": [
       "[(1, 2, -4), (2, 3, -3), (1, 3, -5)]"
      ]
     },
     "execution_count": 18,
     "metadata": {},
     "output_type": "execute_result"
    }
   ],
   "source": [
    "graph"
   ]
  },
  {
   "cell_type": "code",
   "execution_count": 6,
   "id": "3ff43e36-b51c-4fda-b958-b36988cd36a1",
   "metadata": {},
   "outputs": [
    {
     "data": {
      "text/plain": [
       "(1, 2, 4)"
      ]
     },
     "execution_count": 6,
     "metadata": {},
     "output_type": "execute_result"
    }
   ],
   "source": [
    "A, B, C"
   ]
  },
  {
   "cell_type": "code",
   "execution_count": 20,
   "id": "0c25f882-c60f-431d-a065-03188b540729",
   "metadata": {},
   "outputs": [
    {
     "ename": "NameError",
     "evalue": "name 'inf' is not defined",
     "output_type": "error",
     "traceback": [
      "\u001b[1;31m---------------------------------------------------------------------------\u001b[0m",
      "\u001b[1;31mNameError\u001b[0m                                 Traceback (most recent call last)",
      "\u001b[1;32m<ipython-input-20-2770ac0b6504>\u001b[0m in \u001b[0;36m<module>\u001b[1;34m\u001b[0m\n\u001b[1;32m----> 1\u001b[1;33m \u001b[0minf\u001b[0m \u001b[1;33m>\u001b[0m \u001b[0mfloat\u001b[0m\u001b[1;33m(\u001b[0m\u001b[1;34m'inf'\u001b[0m\u001b[1;33m)\u001b[0m\u001b[1;33m\u001b[0m\u001b[1;33m\u001b[0m\u001b[0m\n\u001b[0m",
      "\u001b[1;31mNameError\u001b[0m: name 'inf' is not defined"
     ]
    }
   ],
   "source": [
    "inf > float('inf')"
   ]
  },
  {
   "cell_type": "code",
   "execution_count": 16,
   "id": "789c0522-4004-48c4-9e5e-d830ecc6834d",
   "metadata": {},
   "outputs": [
    {
     "name": "stdout",
     "output_type": "stream",
     "text": [
      "[]\n",
      "[(2, -4), (3, -5)]\n",
      "[(3, -3)]\n",
      "[]\n"
     ]
    }
   ],
   "source": [
    "for gr in graph:\n",
    "    print(gr)"
   ]
  },
  {
   "cell_type": "code",
   "execution_count": null,
   "id": "7251e5c0-b7e8-4928-834e-c184d9401130",
   "metadata": {},
   "outputs": [],
   "source": []
  }
 ],
 "metadata": {
  "kernelspec": {
   "display_name": "Python 3",
   "language": "python",
   "name": "python3"
  },
  "language_info": {
   "codemirror_mode": {
    "name": "ipython",
    "version": 3
   },
   "file_extension": ".py",
   "mimetype": "text/x-python",
   "name": "python",
   "nbconvert_exporter": "python",
   "pygments_lexer": "ipython3",
   "version": "3.6.13"
  }
 },
 "nbformat": 4,
 "nbformat_minor": 5
}
