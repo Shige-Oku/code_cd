{
 "cells": [
  {
   "cell_type": "code",
   "execution_count": 1,
   "metadata": {},
   "outputs": [],
   "source": [
    "import sys\n",
    "import numpy as np\n",
    "import math\n",
    "import collections\n",
    "import copy\n",
    "import decimal\n",
    "import itertools\n",
    "import re\n",
    "import bisect\n",
    "import scipy\n",
    "from collections import deque \n",
    "from functools import reduce\n",
    "from itertools import product\n",
    "from itertools import combinations\n",
    "from functools import lru_cache\n",
    "from scipy.special import comb\n",
    "from numba import njit, i8\n",
    "from bisect import bisect_right\n",
    "from bisect import bisect_left"
   ]
  },
  {
   "cell_type": "code",
   "execution_count": 40,
   "metadata": {},
   "outputs": [
    {
     "name": "stdin",
     "output_type": "stream",
     "text": [
      " 7\n"
     ]
    }
   ],
   "source": [
    "N = int(input())"
   ]
  },
  {
   "cell_type": "code",
   "execution_count": 41,
   "metadata": {},
   "outputs": [
    {
     "name": "stdin",
     "output_type": "stream",
     "text": [
      " 853983 14095 543053 143209 4324 524361 45154\n"
     ]
    }
   ],
   "source": [
    "An = list(map(int, input().split()))"
   ]
  },
  {
   "cell_type": "code",
   "execution_count": 42,
   "metadata": {},
   "outputs": [],
   "source": [
    "An_s = sorted(An)"
   ]
  },
  {
   "cell_type": "code",
   "execution_count": 46,
   "metadata": {},
   "outputs": [
    {
     "name": "stdout",
     "output_type": "stream",
     "text": [
      "60946780 79643756\n",
      "585737688 665381444\n",
      "13003950036 692154891\n",
      "680201089200 90595345\n",
      "17047650108720 721887884\n",
      "958457094023520 488088925\n",
      "636445630 324959227\n",
      "6055592565 391085674\n",
      "155208234195 871445154\n",
      "2296299610500 210799401\n",
      "87387824195100 726088528\n",
      "6466459186 247232253\n",
      "71030989782 402872972\n",
      "514941318402 250105226\n",
      "11568224514600 819057262\n",
      "75093214449 589631504\n",
      "233310231231 310684133\n",
      "2568259080387 87044251\n",
      "284755814133 780479025\n",
      "1343386139589 529719476\n",
      "463758030099 528602104\n"
     ]
    }
   ],
   "source": [
    "ans = 0\n",
    "for i, A in enumerate(An_s):\n",
    "    n = A\n",
    "    ans += A ** 2\n",
    "    ans %= 998244353\n",
    "    k = 1\n",
    "    for j, A2 in enumerate(An_s[i+1:], i+1):\n",
    "        k *= (j-i)\n",
    "        n = A * (A2 * (k*(k+1)//2))\n",
    "        ans += n\n",
    "        ans %= 998244353\n",
    "        print(n, ans)"
   ]
  },
  {
   "cell_type": "code",
   "execution_count": 47,
   "metadata": {},
   "outputs": [
    {
     "name": "stdout",
     "output_type": "stream",
     "text": [
      "98944350\n"
     ]
    }
   ],
   "source": [
    "print(ans)"
   ]
  },
  {
   "cell_type": "code",
   "execution_count": 29,
   "metadata": {},
   "outputs": [
    {
     "data": {
      "text/plain": [
       "17883368"
      ]
     },
     "execution_count": 29,
     "metadata": {},
     "output_type": "execute_result"
    }
   ],
   "source": [
    "161401858-143518490"
   ]
  },
  {
   "cell_type": "code",
   "execution_count": null,
   "metadata": {},
   "outputs": [],
   "source": []
  }
 ],
 "metadata": {
  "kernelspec": {
   "display_name": "Python 3",
   "language": "python",
   "name": "python3"
  },
  "language_info": {
   "codemirror_mode": {
    "name": "ipython",
    "version": 3
   },
   "file_extension": ".py",
   "mimetype": "text/x-python",
   "name": "python",
   "nbconvert_exporter": "python",
   "pygments_lexer": "ipython3",
   "version": "3.6.10"
  }
 },
 "nbformat": 4,
 "nbformat_minor": 4
}
