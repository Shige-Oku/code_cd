{
 "cells": [
  {
   "cell_type": "code",
   "execution_count": null,
   "id": "c7cd4e55-b15a-47a9-8862-c21d16641c8e",
   "metadata": {},
   "outputs": [],
   "source": [
    "# 解説を読んで実装"
   ]
  },
  {
   "cell_type": "code",
   "execution_count": 1,
   "id": "b9a6d450-f641-4f7d-b546-d4c53bac2d80",
   "metadata": {},
   "outputs": [],
   "source": [
    "import numpy as np\n",
    "import math\n",
    "import collections\n",
    "import copy\n",
    "import decimal\n",
    "import itertools\n",
    "import re\n",
    "import bisect\n",
    "import scipy\n",
    "import heapq\n",
    "import array\n",
    "from collections import deque\n",
    "from functools import reduce\n",
    "from itertools import product\n",
    "from itertools import combinations\n",
    "from itertools import chain\n",
    "from functools import lru_cache\n",
    "from scipy.special import comb\n",
    "from numba import njit\n",
    "from bisect import bisect_right\n",
    "from bisect import bisect_left"
   ]
  },
  {
   "cell_type": "code",
   "execution_count": 27,
   "id": "be7a1902-6760-4ee0-a3ed-80fe8b932c9f",
   "metadata": {},
   "outputs": [
    {
     "name": "stdin",
     "output_type": "stream",
     "text": [
      " 3\n"
     ]
    }
   ],
   "source": [
    "N = int(input())"
   ]
  },
  {
   "cell_type": "code",
   "execution_count": 28,
   "id": "f277f820-d8c4-4fd0-8d33-dc783562f8e1",
   "metadata": {},
   "outputs": [
    {
     "name": "stdin",
     "output_type": "stream",
     "text": [
      " 3 1 5\n"
     ]
    }
   ],
   "source": [
    "An = list(map(int, input().split()))"
   ]
  },
  {
   "cell_type": "code",
   "execution_count": 49,
   "id": "4d4d11f6-0817-4708-97d0-8a7188c35c65",
   "metadata": {},
   "outputs": [],
   "source": [
    "dp = [[0] * 3 for _ in range(N+1)]\n",
    "dp[0][0], dp[0][1] = An[0], An[0]\n",
    "for i, A in enumerate(An[1:], 1):\n",
    "    dp[i][0] += dp[i-1][0] + A\n",
    "    dp[i][0] %= 10**9 + 7\n",
    "    dp[i][1] += dp[i-1][1] + A\n",
    "    dp[i][1] %= 10**9 + 7\n",
    "    dp[i][2] += dp[i-1][0] - A\n",
    "    dp[i][2] %= 10**9 + 7\n"
   ]
  },
  {
   "cell_type": "code",
   "execution_count": 50,
   "id": "5c1cb230-4a37-454e-8df4-9ae426edeb6f",
   "metadata": {},
   "outputs": [
    {
     "name": "stdout",
     "output_type": "stream",
     "text": [
      "17\n"
     ]
    }
   ],
   "source": [
    "print((dp[N-1][0] + dp[N-1][1] + dp[N-1][2]) % (10**9 + 7))"
   ]
  },
  {
   "cell_type": "code",
   "execution_count": 51,
   "id": "a8ea23b1-ba8a-4890-ba2d-4b232c01d16c",
   "metadata": {},
   "outputs": [
    {
     "data": {
      "text/plain": [
       "[[3, 3, 0], [4, 4, 2], [9, 9, 1000000006], [0, 0, 0]]"
      ]
     },
     "execution_count": 51,
     "metadata": {},
     "output_type": "execute_result"
    }
   ],
   "source": [
    "dp"
   ]
  },
  {
   "cell_type": "code",
   "execution_count": null,
   "id": "8de967b2-a26f-4cbb-b1a6-f90d7194e359",
   "metadata": {},
   "outputs": [],
   "source": []
  }
 ],
 "metadata": {
  "kernelspec": {
   "display_name": "Python 3",
   "language": "python",
   "name": "python3"
  },
  "language_info": {
   "codemirror_mode": {
    "name": "ipython",
    "version": 3
   },
   "file_extension": ".py",
   "mimetype": "text/x-python",
   "name": "python",
   "nbconvert_exporter": "python",
   "pygments_lexer": "ipython3",
   "version": "3.6.13"
  }
 },
 "nbformat": 4,
 "nbformat_minor": 5
}
