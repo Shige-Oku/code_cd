{
 "cells": [
  {
   "cell_type": "code",
   "execution_count": null,
   "id": "b245f2dc-86fa-47e9-aa25-32d64aafe5be",
   "metadata": {},
   "outputs": [],
   "source": [
    "# 解けない。途中。"
   ]
  },
  {
   "cell_type": "code",
   "execution_count": 1,
   "id": "f75fe16c-d9b5-43c9-ac7a-504389d86fec",
   "metadata": {},
   "outputs": [],
   "source": [
    "import sys\n",
    "import numpy as np\n",
    "import math\n",
    "import collections\n",
    "import copy\n",
    "import decimal\n",
    "import itertools\n",
    "import re\n",
    "import bisect\n",
    "import scipy\n",
    "import heapq\n",
    "from collections import deque \n",
    "from functools import reduce\n",
    "from itertools import product\n",
    "from itertools import combinations\n",
    "from itertools import chain\n",
    "from functools import lru_cache\n",
    "from scipy.special import comb\n",
    "from numba import njit\n",
    "from bisect import bisect_right\n",
    "from bisect import bisect_left"
   ]
  },
  {
   "cell_type": "code",
   "execution_count": 2,
   "id": "f0483cbc-0d4a-4796-b4b4-5c3943686a30",
   "metadata": {},
   "outputs": [
    {
     "name": "stdin",
     "output_type": "stream",
     "text": [
      " 3 3\n"
     ]
    }
   ],
   "source": [
    "N, M = map(int, input().split())"
   ]
  },
  {
   "cell_type": "code",
   "execution_count": 3,
   "id": "2bf97590-1f0d-46d6-bd99-64ff38dce74e",
   "metadata": {},
   "outputs": [
    {
     "name": "stdin",
     "output_type": "stream",
     "text": [
      " 1 2 4\n",
      " 2 3 3\n",
      " 1 3 5\n"
     ]
    }
   ],
   "source": [
    "ABC = [list(map(int, input().split())) for _ in range(M)]"
   ]
  },
  {
   "cell_type": "code",
   "execution_count": 4,
   "id": "cadf72ce-95e2-43cc-ac33-f923f2599cdb",
   "metadata": {},
   "outputs": [],
   "source": [
    "graph = [[] for _ in range(N+1)]\n",
    "for A, B, C in ABC:\n",
    "    graph[A].append((B, C))"
   ]
  },
  {
   "cell_type": "code",
   "execution_count": 6,
   "id": "e92e40ec-b482-4115-bfc7-d14f418ba300",
   "metadata": {},
   "outputs": [],
   "source": [
    "def solve():\n",
    "    visit = [False] * (N+1)\n",
    "    point = [0] * (N+1)\n",
    "    q = []\n",
    "    heaqp.heappush(q, (0, 1))\n",
    "    while q:\n",
    "        c, p = heapq.heappop(q)\n",
    "        if not visit[p]:\n",
    "            return -1\n",
    "        ret += c\n",
    "        for c2, p2 in graph[p]:\n",
    "            \n",
    "    return point(N)"
   ]
  },
  {
   "cell_type": "code",
   "execution_count": null,
   "id": "1ed8b89c-c409-41d8-a997-417be6094ada",
   "metadata": {},
   "outputs": [],
   "source": [
    "ret = solve()\n",
    "if ret == -1:\n",
    "    print('inf')\n",
    "else:\n",
    "    print(ret)"
   ]
  },
  {
   "cell_type": "code",
   "execution_count": 5,
   "id": "795bddae-beda-4388-9380-6029250d0127",
   "metadata": {},
   "outputs": [
    {
     "data": {
      "text/plain": [
       "[[], [(2, 4), (3, 5)], [(3, 3)], []]"
      ]
     },
     "execution_count": 5,
     "metadata": {},
     "output_type": "execute_result"
    }
   ],
   "source": [
    "graph"
   ]
  },
  {
   "cell_type": "code",
   "execution_count": null,
   "id": "476b8138-e0cd-4699-a2a3-00520fe05714",
   "metadata": {},
   "outputs": [],
   "source": []
  }
 ],
 "metadata": {
  "kernelspec": {
   "display_name": "Python 3",
   "language": "python",
   "name": "python3"
  },
  "language_info": {
   "codemirror_mode": {
    "name": "ipython",
    "version": 3
   },
   "file_extension": ".py",
   "mimetype": "text/x-python",
   "name": "python",
   "nbconvert_exporter": "python",
   "pygments_lexer": "ipython3",
   "version": "3.6.13"
  }
 },
 "nbformat": 4,
 "nbformat_minor": 5
}
