{
 "cells": [
  {
   "cell_type": "code",
   "execution_count": null,
   "id": "af52a60c-5b5a-429a-9782-d66587716e61",
   "metadata": {},
   "outputs": [],
   "source": [
    "# サンプルが合わない"
   ]
  },
  {
   "cell_type": "code",
   "execution_count": 1,
   "id": "ad482c64-708b-4033-a3e8-24052b9bf647",
   "metadata": {},
   "outputs": [],
   "source": [
    "import sys\n",
    "import numpy as np\n",
    "import math\n",
    "import collections\n",
    "import copy\n",
    "import decimal\n",
    "import itertools\n",
    "import re\n",
    "import bisect\n",
    "import scipy\n",
    "import heapq\n",
    "from collections import deque \n",
    "from functools import reduce\n",
    "from itertools import product\n",
    "from itertools import combinations\n",
    "from itertools import chain\n",
    "from functools import lru_cache\n",
    "from scipy.special import comb\n",
    "from numba import njit\n",
    "from bisect import bisect_right\n",
    "from bisect import bisect_left"
   ]
  },
  {
   "cell_type": "code",
   "execution_count": 17,
   "id": "e2944ee6-d261-4d56-8a40-a8ae98ba967c",
   "metadata": {},
   "outputs": [
    {
     "name": "stdin",
     "output_type": "stream",
     "text": [
      " 10 3 2\n"
     ]
    }
   ],
   "source": [
    "N, M, Q = map(int, input().split())"
   ]
  },
  {
   "cell_type": "code",
   "execution_count": 18,
   "id": "6ce9e324-45da-4393-8cd9-6c892e8327dd",
   "metadata": {},
   "outputs": [
    {
     "name": "stdin",
     "output_type": "stream",
     "text": [
      " 1 5\n",
      " 2 8\n",
      " 7 10\n"
     ]
    }
   ],
   "source": [
    "LR = [list(map(int, input().split())) for _ in range(M)]"
   ]
  },
  {
   "cell_type": "code",
   "execution_count": 19,
   "id": "f7e0e661-25e5-43af-92b9-23dd2c9d4cb2",
   "metadata": {},
   "outputs": [
    {
     "name": "stdin",
     "output_type": "stream",
     "text": [
      " 1 7\n",
      " 3 10\n"
     ]
    }
   ],
   "source": [
    "Qn = [list(map(int, input().split())) for _ in range(Q)]"
   ]
  },
  {
   "cell_type": "code",
   "execution_count": 27,
   "id": "69703cb8-740f-4d5b-b2f1-bb3d51b511c5",
   "metadata": {},
   "outputs": [],
   "source": [
    "LR_s = sorted(LR)"
   ]
  },
  {
   "cell_type": "code",
   "execution_count": 41,
   "id": "840c9a66-0caf-436e-be03-11b379464378",
   "metadata": {},
   "outputs": [
    {
     "name": "stdout",
     "output_type": "stream",
     "text": [
      "2\n",
      "1\n"
     ]
    }
   ],
   "source": [
    "for s, e in Qn:\n",
    "    print(bisect_right(LR_s, [e, e+1]) - bisect_left(LR_s, [s, 0]))"
   ]
  },
  {
   "cell_type": "code",
   "execution_count": 40,
   "id": "41505649-7e7b-42fe-ae58-0fab7afd9f31",
   "metadata": {},
   "outputs": [
    {
     "data": {
      "text/plain": [
       "0"
      ]
     },
     "execution_count": 40,
     "metadata": {},
     "output_type": "execute_result"
    }
   ],
   "source": [
    "bisect_left(LR_s, [1, 0])"
   ]
  },
  {
   "cell_type": "code",
   "execution_count": 36,
   "id": "549ae7b6-6ee3-4d39-b92f-7ddc83bf0124",
   "metadata": {},
   "outputs": [
    {
     "data": {
      "text/plain": [
       "[[1, 5], [2, 8], [7, 10]]"
      ]
     },
     "execution_count": 36,
     "metadata": {},
     "output_type": "execute_result"
    }
   ],
   "source": [
    "LR_s"
   ]
  },
  {
   "cell_type": "code",
   "execution_count": 32,
   "id": "60a466c0-5dbf-4db8-bb74-55ea55d63233",
   "metadata": {},
   "outputs": [],
   "source": [
    "RL = []\n",
    "for L, R in LR:\n",
    "    RL.append((R, L))\n",
    "RL_s = sorted(RL)"
   ]
  },
  {
   "cell_type": "code",
   "execution_count": 33,
   "id": "66708e41-dd46-4688-a5de-f90681af2d05",
   "metadata": {},
   "outputs": [
    {
     "name": "stdout",
     "output_type": "stream",
     "text": [
      "1\n",
      "3\n"
     ]
    }
   ],
   "source": [
    "for s, e in Qn:\n",
    "    print(bisect_right(RL_s, (e+1, 0)) - bisect_left(RL_s, (s, s)))"
   ]
  },
  {
   "cell_type": "code",
   "execution_count": 34,
   "id": "3d636dc7-f04e-4117-bfe9-aac7ae6c54b2",
   "metadata": {},
   "outputs": [
    {
     "data": {
      "text/plain": [
       "[(5, 1), (8, 2), (10, 7)]"
      ]
     },
     "execution_count": 34,
     "metadata": {},
     "output_type": "execute_result"
    }
   ],
   "source": [
    "RL_s"
   ]
  },
  {
   "cell_type": "code",
   "execution_count": 13,
   "id": "56ffb301-711c-4b04-b52a-dd50d8d74bda",
   "metadata": {},
   "outputs": [
    {
     "data": {
      "text/plain": [
       "(0, 3)"
      ]
     },
     "execution_count": 13,
     "metadata": {},
     "output_type": "execute_result"
    }
   ],
   "source": [
    "bisect_left(RL_s, (1, 1)), bisect_right(RL_s, (3, 0))"
   ]
  },
  {
   "cell_type": "code",
   "execution_count": null,
   "id": "dcc01c9a-3063-4cfe-aa61-9cc50e82e110",
   "metadata": {},
   "outputs": [],
   "source": []
  }
 ],
 "metadata": {
  "kernelspec": {
   "display_name": "Python 3",
   "language": "python",
   "name": "python3"
  },
  "language_info": {
   "codemirror_mode": {
    "name": "ipython",
    "version": 3
   },
   "file_extension": ".py",
   "mimetype": "text/x-python",
   "name": "python",
   "nbconvert_exporter": "python",
   "pygments_lexer": "ipython3",
   "version": "3.6.13"
  }
 },
 "nbformat": 4,
 "nbformat_minor": 5
}
