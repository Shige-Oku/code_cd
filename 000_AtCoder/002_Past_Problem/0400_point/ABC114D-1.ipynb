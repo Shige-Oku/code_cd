{
 "cells": [
  {
   "cell_type": "code",
   "execution_count": null,
   "id": "72d29eae-c825-4c48-9b76-f332d0f379ed",
   "metadata": {},
   "outputs": [],
   "source": [
    "# 解説を読んで実装"
   ]
  },
  {
   "cell_type": "code",
   "execution_count": 1,
   "id": "58440fa7-73da-462f-b5f0-dd0fae8fef67",
   "metadata": {},
   "outputs": [],
   "source": [
    "import sys\n",
    "import numpy as np\n",
    "import math\n",
    "import collections\n",
    "import copy\n",
    "import decimal\n",
    "import itertools\n",
    "import re\n",
    "import bisect\n",
    "import scipy\n",
    "import heapq\n",
    "from collections import deque \n",
    "from functools import reduce\n",
    "from itertools import product\n",
    "from itertools import combinations\n",
    "from itertools import chain\n",
    "from functools import lru_cache\n",
    "from scipy.special import comb\n",
    "from numba import njit\n",
    "from bisect import bisect_right\n",
    "from bisect import bisect_left"
   ]
  },
  {
   "cell_type": "code",
   "execution_count": 69,
   "id": "6553ca05-f0ec-4c46-bb54-4398b751a1a8",
   "metadata": {},
   "outputs": [
    {
     "name": "stdin",
     "output_type": "stream",
     "text": [
      " 1\n"
     ]
    }
   ],
   "source": [
    "N = int(input())"
   ]
  },
  {
   "cell_type": "code",
   "execution_count": 39,
   "id": "c977ef00-c5f5-4169-831e-0ed1d2cbb762",
   "metadata": {},
   "outputs": [],
   "source": [
    "# 素数のリスト作成\n",
    "def get_prime_list(number):\n",
    "    is_prime = np.ones(number+1, dtype=bool)\n",
    "    is_prime[:2] = False\n",
    "    num_sqrt = np.sqrt(number)\n",
    "    for i in range(2, int(num_sqrt)+1):\n",
    "        if (is_prime[i]):\n",
    "            is_prime[i*2::i] = False\n",
    "    prime_list = np.arange(number+1)[is_prime]\n",
    "    return prime_list"
   ]
  },
  {
   "cell_type": "code",
   "execution_count": 72,
   "id": "a7c9d7b0-c52b-4635-a7e3-d0444e78575d",
   "metadata": {},
   "outputs": [],
   "source": [
    "prime_cnt = [0] * 101\n",
    "prime_list = get_prime_list(101)\n",
    "for i in range(2, N+1):\n",
    "    for prime in prime_list:\n",
    "        while i > 0:\n",
    "            if i % prime == 0:\n",
    "                prime_cnt[prime] += 1\n",
    "                i //= prime\n",
    "            else:\n",
    "                break"
   ]
  },
  {
   "cell_type": "code",
   "execution_count": 73,
   "id": "183182fe-6283-4562-9660-f5612764d412",
   "metadata": {},
   "outputs": [
    {
     "name": "stdout",
     "output_type": "stream",
     "text": [
      "0\n"
     ]
    }
   ],
   "source": [
    "ans = 0\n",
    "c75, c3, c25, c5, c15 = [0] * 5\n",
    "for cnt in prime_cnt:\n",
    "    if cnt >= 75-1:\n",
    "        c75 += 1\n",
    "    if cnt >= 3-1:\n",
    "        c3 += 1\n",
    "    if cnt >= 25-1:\n",
    "        c25 += 1\n",
    "    if cnt >= 5-1:\n",
    "        c5 += 1\n",
    "    if cnt >= 15-1:\n",
    "        c15 += 1\n",
    "ans += c75\n",
    "ans += c25 * (c3-1)\n",
    "ans += c15 * (c5-1)\n",
    "ans += c5 * (c5-1) * (c3-2) // 2\n",
    "print(ans)"
   ]
  },
  {
   "cell_type": "code",
   "execution_count": 74,
   "id": "981a3bde-7ec6-4c3c-b3f0-511df7db9f56",
   "metadata": {},
   "outputs": [
    {
     "data": {
      "text/plain": [
       "[0, 0, 0, 0, 0, 0, 0, 0, 0, 0, 0, 0, 0, 0, 0, 0, 0, 0, 0, 0]"
      ]
     },
     "execution_count": 74,
     "metadata": {},
     "output_type": "execute_result"
    }
   ],
   "source": [
    "prime_cnt[:20]"
   ]
  },
  {
   "cell_type": "code",
   "execution_count": 49,
   "id": "4603ee0b-f84c-41ab-adbe-2441248c9f83",
   "metadata": {},
   "outputs": [
    {
     "data": {
      "text/plain": [
       "288"
      ]
     },
     "execution_count": 49,
     "metadata": {},
     "output_type": "execute_result"
    }
   ],
   "source": [
    "(97//4) * (48//4)"
   ]
  },
  {
   "cell_type": "code",
   "execution_count": null,
   "id": "7728ab5b-c72a-4d5f-8db2-6619a85a1e00",
   "metadata": {},
   "outputs": [],
   "source": []
  }
 ],
 "metadata": {
  "kernelspec": {
   "display_name": "Python 3",
   "language": "python",
   "name": "python3"
  },
  "language_info": {
   "codemirror_mode": {
    "name": "ipython",
    "version": 3
   },
   "file_extension": ".py",
   "mimetype": "text/x-python",
   "name": "python",
   "nbconvert_exporter": "python",
   "pygments_lexer": "ipython3",
   "version": "3.6.13"
  }
 },
 "nbformat": 4,
 "nbformat_minor": 5
}
