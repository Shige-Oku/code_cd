{
 "cells": [
  {
   "cell_type": "code",
   "execution_count": 1,
   "id": "7152be9a-e8b2-4e77-8324-7dafcf8249fc",
   "metadata": {},
   "outputs": [],
   "source": [
    "import sys\n",
    "import numpy as np\n",
    "import math\n",
    "import collections\n",
    "import copy\n",
    "import decimal\n",
    "import itertools\n",
    "import re\n",
    "import bisect\n",
    "import scipy\n",
    "import heapq\n",
    "from collections import deque \n",
    "from functools import reduce\n",
    "from itertools import product\n",
    "from itertools import combinations\n",
    "from itertools import chain\n",
    "from functools import lru_cache\n",
    "from scipy.special import comb\n",
    "from numba import njit\n",
    "from bisect import bisect_right\n",
    "from bisect import bisect_left"
   ]
  },
  {
   "cell_type": "code",
   "execution_count": 2,
   "id": "899a64dd-34fa-4c7a-aa59-42b1850a94f5",
   "metadata": {},
   "outputs": [],
   "source": [
    "sys.setrecursionlimit(10**7)"
   ]
  },
  {
   "cell_type": "code",
   "execution_count": 3,
   "id": "c285baf8-f5b6-4c5e-b837-ec2f7e87d2db",
   "metadata": {},
   "outputs": [
    {
     "name": "stdin",
     "output_type": "stream",
     "text": [
      " 4 3 1\n"
     ]
    }
   ],
   "source": [
    "N, K, L = map(int, input().split())"
   ]
  },
  {
   "cell_type": "code",
   "execution_count": 4,
   "id": "4fa7b78c-23d0-4870-8017-dfc9cfff9721",
   "metadata": {},
   "outputs": [
    {
     "name": "stdin",
     "output_type": "stream",
     "text": [
      " 1 2\n",
      " 2 3 \n",
      " 3 4\n"
     ]
    }
   ],
   "source": [
    "PQ = []\n",
    "for _ in range(K):\n",
    "    P, Q = map(int, input().split())\n",
    "    PQ.append((P-1, Q-1))"
   ]
  },
  {
   "cell_type": "code",
   "execution_count": 5,
   "id": "227e52a1-20b2-45c3-ab62-08e0dee43a00",
   "metadata": {},
   "outputs": [
    {
     "name": "stdin",
     "output_type": "stream",
     "text": [
      " 2 3\n"
     ]
    }
   ],
   "source": [
    "RS = []\n",
    "for _ in range(L):\n",
    "    R, S = map(int, input().split())\n",
    "    RS.append((R-1, S-1))"
   ]
  },
  {
   "cell_type": "code",
   "execution_count": 6,
   "id": "01c33d24-b22f-4f5c-9538-fff79eac2b7e",
   "metadata": {},
   "outputs": [],
   "source": [
    "from collections import defaultdict\n",
    "class UnionFind():\n",
    "    # イニシャライザ\n",
    "    def __init__(self, n):\n",
    "        self.n = n  # 頂点の数\n",
    "        self.parents = [-1] * n  # 親の頂点。根は -1\n",
    "        self.size = [1] * n  # 各頂点の所属する木の頂点数\n",
    "        \n",
    "    # 根を返す\n",
    "    def root(self, x):\n",
    "        if self.parents[x] < 0: # 根なのでそのまま返す\n",
    "            return x\n",
    "        else:\n",
    "            self.parents[x] = self.root(self.parents[x])  # 経路圧縮\n",
    "            return self.parents[x]\n",
    "        \n",
    "    # x, y が同じ木に属するか\n",
    "    def issame(self, x, y):\n",
    "        return self.root(x) == self.root(y)\n",
    "    \n",
    "    # x y を併合する    \n",
    "    def unite(self, x, y):\n",
    "        x = self.root(x)\n",
    "        y = self.root(y)\n",
    "        \n",
    "        # 元々同じ木に所属するので、何もせずリターン\n",
    "        if x == y:\n",
    "            return False\n",
    "        \n",
    "        # 大きいほうにまとめる。 y を x にまとめるようにスワップ\n",
    "        if self.parents[x] < self.parents[y]:\n",
    "            x, y = y, x\n",
    "        # 小さいほうの親を大きいほうを親に\n",
    "        self.parents[y] = x\n",
    "        # 大きいほうの頂点に小さいほうの数を加算\n",
    "        self.size[x] += self.size[y]\n",
    "        return\n",
    "    \n",
    "    # x の所属する頂点数を返す\n",
    "    def getsize(self, x):\n",
    "        return self.size[self.root(x)]"
   ]
  },
  {
   "cell_type": "code",
   "execution_count": 7,
   "id": "17cf0663-0c28-41f5-9725-39cd87976235",
   "metadata": {},
   "outputs": [],
   "source": [
    "uf_l = UnionFind(N)\n",
    "for P, Q in PQ:\n",
    "    uf_l.unite(P, Q)\n",
    "uf_r = UnionFind(N)\n",
    "for R, S in RS:\n",
    "    uf_r.unite(R, S)\n"
   ]
  },
  {
   "cell_type": "code",
   "execution_count": 11,
   "id": "f58ace86-7356-4174-9742-76d59300110d",
   "metadata": {},
   "outputs": [
    {
     "name": "stdout",
     "output_type": "stream",
     "text": [
      "1 2 2 1 "
     ]
    }
   ],
   "source": [
    "d = {}\n",
    "for i in range(N):\n",
    "    x, y = uf_l.root(i), uf_r.root(i)\n",
    "    if (x, y) in d:\n",
    "        d[(x, y)] += 1\n",
    "    else:\n",
    "        d[(x, y)] = 1\n",
    "for i in range(N):\n",
    "    print(d[(uf_l.root(i), uf_r.root(i))], end=' ')"
   ]
  },
  {
   "cell_type": "code",
   "execution_count": 7,
   "id": "80f2143c-08df-4821-a3ce-05a3b7d2d996",
   "metadata": {},
   "outputs": [
    {
     "data": {
      "text/plain": [
       "([(0, 1), (1, 2), (2, 3)], [(1, 2)])"
      ]
     },
     "execution_count": 7,
     "metadata": {},
     "output_type": "execute_result"
    }
   ],
   "source": [
    "PQ, RS"
   ]
  },
  {
   "cell_type": "code",
   "execution_count": 8,
   "id": "a7e60008-eb76-44ad-ac10-fb7c426eb065",
   "metadata": {},
   "outputs": [
    {
     "data": {
      "text/plain": [
       "[-1, 0, 0, 0]"
      ]
     },
     "execution_count": 8,
     "metadata": {},
     "output_type": "execute_result"
    }
   ],
   "source": [
    "uf_l.parents"
   ]
  },
  {
   "cell_type": "code",
   "execution_count": 9,
   "id": "0b93f56f-d202-4c0e-83bc-e584517ec877",
   "metadata": {},
   "outputs": [
    {
     "data": {
      "text/plain": [
       "[-1, -1, 1, -1]"
      ]
     },
     "execution_count": 9,
     "metadata": {},
     "output_type": "execute_result"
    }
   ],
   "source": [
    "uf_t.parents"
   ]
  },
  {
   "cell_type": "code",
   "execution_count": 16,
   "id": "5075af03-46ee-4e01-8b55-13140ff8c6ed",
   "metadata": {},
   "outputs": [
    {
     "data": {
      "text/plain": [
       "([{0, 1, 2, 3}, set(), set(), set()], [{0}, {1, 2}, set(), {3}])"
      ]
     },
     "execution_count": 16,
     "metadata": {},
     "output_type": "execute_result"
    }
   ],
   "source": [
    "st, ra"
   ]
  },
  {
   "cell_type": "code",
   "execution_count": 26,
   "id": "49afc762-7a4c-4dec-a914-8dc951995e65",
   "metadata": {},
   "outputs": [
    {
     "data": {
      "text/plain": [
       "[1, 2, 2, 1]"
      ]
     },
     "execution_count": 26,
     "metadata": {},
     "output_type": "execute_result"
    }
   ],
   "source": [
    "ans"
   ]
  },
  {
   "cell_type": "code",
   "execution_count": null,
   "id": "1eee8819-64c7-4192-9bfa-472a0850d0a0",
   "metadata": {},
   "outputs": [],
   "source": [
    "# TLE"
   ]
  },
  {
   "cell_type": "code",
   "execution_count": 8,
   "id": "e8357847-81e0-40d9-b3dc-1eb396325c28",
   "metadata": {},
   "outputs": [],
   "source": [
    "st = [set() for _ in range(N)]\n",
    "for i in range(N):\n",
    "    st[uf_l.root(i)].add(i)\n",
    "ra = [set() for _ in range(N)]\n",
    "for i in range(N):\n",
    "    ra[uf_r.root(i)].add(i)\n"
   ]
  },
  {
   "cell_type": "code",
   "execution_count": 10,
   "id": "572f3145-229d-4a9c-8a72-e1fed1f5ff22",
   "metadata": {},
   "outputs": [
    {
     "name": "stdout",
     "output_type": "stream",
     "text": [
      "1 2 2 1\n"
     ]
    }
   ],
   "source": [
    "ans = []\n",
    "for i in range(N):\n",
    "    cnt = 0\n",
    "    for s in st[uf_l.root(i)]:\n",
    "        if s in ra[uf_r.root(i)]:\n",
    "            cnt += 1\n",
    "    ans.append(cnt)\n",
    "print(*ans)"
   ]
  },
  {
   "cell_type": "code",
   "execution_count": null,
   "id": "11b0e2b2-2349-4781-ad0e-38486180ede5",
   "metadata": {},
   "outputs": [],
   "source": []
  }
 ],
 "metadata": {
  "kernelspec": {
   "display_name": "Python 3",
   "language": "python",
   "name": "python3"
  },
  "language_info": {
   "codemirror_mode": {
    "name": "ipython",
    "version": 3
   },
   "file_extension": ".py",
   "mimetype": "text/x-python",
   "name": "python",
   "nbconvert_exporter": "python",
   "pygments_lexer": "ipython3",
   "version": "3.6.13"
  }
 },
 "nbformat": 4,
 "nbformat_minor": 5
}
