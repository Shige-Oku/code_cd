{
 "cells": [
  {
   "cell_type": "code",
   "execution_count": null,
   "id": "045335c4-1be0-4944-a2e2-70062db50330",
   "metadata": {},
   "outputs": [],
   "source": [
    "# 解説を読んで実装"
   ]
  },
  {
   "cell_type": "code",
   "execution_count": 1,
   "id": "757055ed-dd37-4f5c-bf16-4cd29dc7f5f2",
   "metadata": {},
   "outputs": [],
   "source": [
    "import sys\n",
    "import numpy as np\n",
    "import math\n",
    "import collections\n",
    "import copy\n",
    "import decimal\n",
    "import itertools\n",
    "import re\n",
    "import bisect\n",
    "import scipy\n",
    "import heapq\n",
    "from collections import deque \n",
    "from functools import reduce\n",
    "from itertools import product\n",
    "from itertools import combinations\n",
    "from itertools import chain\n",
    "from functools import lru_cache\n",
    "from scipy.special import comb\n",
    "from numba import njit\n",
    "from bisect import bisect_right\n",
    "from bisect import bisect_left"
   ]
  },
  {
   "cell_type": "code",
   "execution_count": 64,
   "id": "b6af365e-0794-4c32-b77d-382a7274b2b4",
   "metadata": {},
   "outputs": [
    {
     "name": "stdin",
     "output_type": "stream",
     "text": [
      " 4\n"
     ]
    }
   ],
   "source": [
    "N = int(input())"
   ]
  },
  {
   "cell_type": "code",
   "execution_count": 85,
   "id": "2b88c380-0c08-4356-92d9-ffc25fe3c408",
   "metadata": {},
   "outputs": [
    {
     "name": "stdin",
     "output_type": "stream",
     "text": [
      " 2 4\n",
      " 2 5\n",
      " 3 3\n",
      " 3 8\n"
     ]
    }
   ],
   "source": [
    "HW = [list(map(int, input().split())) for _ in range(N)]"
   ]
  },
  {
   "cell_type": "code",
   "execution_count": 86,
   "id": "8fe5dc04-6668-41b3-8b89-3a08e121b668",
   "metadata": {},
   "outputs": [],
   "source": [
    "HW_s = sorted(HW, key=lambda x : (x[0], -x[1]))"
   ]
  },
  {
   "cell_type": "code",
   "execution_count": 87,
   "id": "bc5f6d33-71d7-4d2b-9876-ffd3279b0000",
   "metadata": {},
   "outputs": [],
   "source": [
    "dp = [10**6] * N\n",
    "for _, w in HW_s:\n",
    "    dp[bisect_left(dp, w)] = w"
   ]
  },
  {
   "cell_type": "code",
   "execution_count": 88,
   "id": "a8d0df58-e6be-418e-9318-4d6c561152ab",
   "metadata": {},
   "outputs": [
    {
     "name": "stdout",
     "output_type": "stream",
     "text": [
      "2\n"
     ]
    }
   ],
   "source": [
    "print(bisect_left(dp, 10**6))"
   ]
  },
  {
   "cell_type": "code",
   "execution_count": 89,
   "id": "b7e52553-86f3-4a82-94f2-3eb527b93e8e",
   "metadata": {},
   "outputs": [
    {
     "data": {
      "text/plain": [
       "([3, 8, 1000000, 1000000], [[2, 5], [2, 4], [3, 8], [3, 3]])"
      ]
     },
     "execution_count": 89,
     "metadata": {},
     "output_type": "execute_result"
    }
   ],
   "source": [
    "dp, HW_s"
   ]
  },
  {
   "cell_type": "code",
   "execution_count": null,
   "id": "43ee2031-dc90-4423-a1eb-474da28fc96a",
   "metadata": {},
   "outputs": [],
   "source": [
    "# TLE"
   ]
  },
  {
   "cell_type": "code",
   "execution_count": 6,
   "id": "690005c7-c8ba-41f2-bd7f-fd8a6a495b7d",
   "metadata": {},
   "outputs": [],
   "source": [
    "sys.setrecursionlimit(10**7)"
   ]
  },
  {
   "cell_type": "code",
   "execution_count": 53,
   "id": "afac4f10-03c9-4efc-98c2-3a82f86160f6",
   "metadata": {},
   "outputs": [],
   "source": [
    "HW_s = sorted(HW, reverse=True, key=lambda x : (x[0], x[1]))\n",
    "HW_s.insert(0, (10**6, 10**6))"
   ]
  },
  {
   "cell_type": "code",
   "execution_count": 56,
   "id": "d7025fa4-091a-4d8b-9b27-cd91fae5fe76",
   "metadata": {},
   "outputs": [],
   "source": [
    "@lru_cache(maxsize=None)\n",
    "def DFS(n, h, w):\n",
    "    ret = 1\n",
    "    for i, hw in enumerate(HW_s[n+1:], n+1):\n",
    "        H, W = HW_s[i]\n",
    "        if h <= H or w <= W:\n",
    "            continue\n",
    "        ret = max(ret, DFS(i, H, W)+1)\n",
    "    return ret"
   ]
  },
  {
   "cell_type": "code",
   "execution_count": 57,
   "id": "276c8726-776a-4d6f-8afe-70350a68aad8",
   "metadata": {},
   "outputs": [
    {
     "name": "stdout",
     "output_type": "stream",
     "text": [
      "3\n"
     ]
    }
   ],
   "source": [
    "print(DFS(0, HW_s[0][0], HW_s[0][1])-1)"
   ]
  },
  {
   "cell_type": "code",
   "execution_count": null,
   "id": "b235fb9e-5e13-4cfa-a7c0-5386d810fdc9",
   "metadata": {},
   "outputs": [],
   "source": []
  }
 ],
 "metadata": {
  "kernelspec": {
   "display_name": "Python 3",
   "language": "python",
   "name": "python3"
  },
  "language_info": {
   "codemirror_mode": {
    "name": "ipython",
    "version": 3
   },
   "file_extension": ".py",
   "mimetype": "text/x-python",
   "name": "python",
   "nbconvert_exporter": "python",
   "pygments_lexer": "ipython3",
   "version": "3.6.13"
  }
 },
 "nbformat": 4,
 "nbformat_minor": 5
}
