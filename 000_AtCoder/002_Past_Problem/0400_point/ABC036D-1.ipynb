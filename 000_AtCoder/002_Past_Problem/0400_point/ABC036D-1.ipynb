{
 "cells": [
  {
   "cell_type": "code",
   "execution_count": 1,
   "id": "824a96a1-757d-428b-b896-44061ef08737",
   "metadata": {},
   "outputs": [],
   "source": [
    "import sys\n",
    "import numpy as np\n",
    "import math\n",
    "import collections\n",
    "import copy\n",
    "import decimal\n",
    "import itertools\n",
    "import re\n",
    "import bisect\n",
    "import scipy\n",
    "import heapq\n",
    "from collections import deque \n",
    "from functools import reduce\n",
    "from itertools import product\n",
    "from itertools import combinations\n",
    "from itertools import chain\n",
    "from functools import lru_cache\n",
    "from scipy.special import comb\n",
    "from numba import njit\n",
    "from bisect import bisect_right\n",
    "from bisect import bisect_left"
   ]
  },
  {
   "cell_type": "code",
   "execution_count": 2,
   "id": "679ab7d7-86ae-4623-9813-37cab17e76a4",
   "metadata": {},
   "outputs": [],
   "source": [
    "sys.setrecursionlimit(10**7)"
   ]
  },
  {
   "cell_type": "code",
   "execution_count": 3,
   "id": "d2670a55-ecab-4e22-9c17-93c60c169702",
   "metadata": {},
   "outputs": [
    {
     "name": "stdin",
     "output_type": "stream",
     "text": [
      " 5\n"
     ]
    }
   ],
   "source": [
    "N = int(input())"
   ]
  },
  {
   "cell_type": "code",
   "execution_count": 4,
   "id": "727a568a-970b-4941-9828-37ca8b3296c5",
   "metadata": {},
   "outputs": [
    {
     "name": "stdin",
     "output_type": "stream",
     "text": [
      " 2 5\n",
      " 1 5\n",
      " 2 4\n",
      " 3 2\n"
     ]
    }
   ],
   "source": [
    "AB = [list(map(int, input().split())) for _ in range(N-1)]"
   ]
  },
  {
   "cell_type": "code",
   "execution_count": 5,
   "id": "11cd201c-4fd9-4f44-8e98-bd9f122c77da",
   "metadata": {},
   "outputs": [],
   "source": [
    "graph = [[] for _ in range(N+1)]\n",
    "for A, B in AB:\n",
    "    graph[A].append(B)\n",
    "    graph[B].append(A)"
   ]
  },
  {
   "cell_type": "code",
   "execution_count": 14,
   "id": "0d74de9a-fd6a-4a3e-b546-8f5f8bd3b124",
   "metadata": {},
   "outputs": [],
   "source": [
    "def DFS(n, c):\n",
    "    print(n, c)\n",
    "    visit[n] = True\n",
    "    ret = 1\n",
    "    for g in graph[n]:\n",
    "        if visit[g]:\n",
    "            continue\n",
    "        ret *= DFS(g, False)\n",
    "        ret %= 10**9 + 7\n",
    "        if c:\n",
    "            continue\n",
    "        ret *= DFS(g, True)\n",
    "        ret %= 10**9 + 7\n",
    "    if ret == 0:\n",
    "        ret = 1\n",
    "    print('return {0}:{1}'.format(n, ret))\n",
    "    visit[n] = False\n",
    "    return ret"
   ]
  },
  {
   "cell_type": "code",
   "execution_count": 15,
   "id": "6e0a6c7d-9c56-4b99-82b2-be4558c5f192",
   "metadata": {},
   "outputs": [
    {
     "name": "stdout",
     "output_type": "stream",
     "text": [
      "1 False\n",
      "5 False\n",
      "2 False\n",
      "4 False\n",
      "return 4:1\n",
      "4 True\n",
      "return 4:1\n",
      "3 False\n",
      "return 3:1\n",
      "3 True\n",
      "return 3:1\n",
      "return 2:1\n",
      "2 True\n",
      "4 False\n",
      "return 4:1\n",
      "3 False\n",
      "return 3:1\n",
      "return 2:1\n",
      "return 5:1\n",
      "5 True\n",
      "2 False\n",
      "4 False\n",
      "return 4:1\n",
      "4 True\n",
      "return 4:1\n",
      "3 False\n",
      "return 3:1\n",
      "3 True\n",
      "return 3:1\n",
      "return 2:1\n",
      "return 5:1\n",
      "return 1:1\n",
      "1 True\n",
      "5 False\n",
      "2 False\n",
      "4 False\n",
      "return 4:1\n",
      "4 True\n",
      "return 4:1\n",
      "3 False\n",
      "return 3:1\n",
      "3 True\n",
      "return 3:1\n",
      "return 2:1\n",
      "2 True\n",
      "4 False\n",
      "return 4:1\n",
      "3 False\n",
      "return 3:1\n",
      "return 2:1\n",
      "return 5:1\n",
      "return 1:1\n",
      "2\n"
     ]
    }
   ],
   "source": [
    "ans = 0\n",
    "visit = [False] * (N+1)\n",
    "ans += DFS(1, False)\n",
    "ans %= 10**9 + 7\n",
    "visit = [False] * (N+1)\n",
    "ans += DFS(1, True)\n",
    "ans %= 10**9 + 7\n",
    "print(ans)"
   ]
  },
  {
   "cell_type": "code",
   "execution_count": 11,
   "id": "c97d60ad-407b-4e48-ae6b-b95f394403f3",
   "metadata": {},
   "outputs": [
    {
     "data": {
      "text/plain": [
       "[[], [5], [5, 4, 3], [2], [2], [2, 1]]"
      ]
     },
     "execution_count": 11,
     "metadata": {},
     "output_type": "execute_result"
    }
   ],
   "source": [
    "graph"
   ]
  },
  {
   "cell_type": "code",
   "execution_count": null,
   "id": "342dbe8b-f346-4636-bcb4-c0adaad2fb7b",
   "metadata": {},
   "outputs": [],
   "source": []
  }
 ],
 "metadata": {
  "kernelspec": {
   "display_name": "Python 3",
   "language": "python",
   "name": "python3"
  },
  "language_info": {
   "codemirror_mode": {
    "name": "ipython",
    "version": 3
   },
   "file_extension": ".py",
   "mimetype": "text/x-python",
   "name": "python",
   "nbconvert_exporter": "python",
   "pygments_lexer": "ipython3",
   "version": "3.6.13"
  }
 },
 "nbformat": 4,
 "nbformat_minor": 5
}
