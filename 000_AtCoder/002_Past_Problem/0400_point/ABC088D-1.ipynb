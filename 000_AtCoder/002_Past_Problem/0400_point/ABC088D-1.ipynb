{
 "cells": [
  {
   "cell_type": "code",
   "execution_count": null,
   "id": "dbe8a445-6f2c-44e6-a148-e702e5d28ba0",
   "metadata": {},
   "outputs": [],
   "source": [
    "# 解説を読んで実装"
   ]
  },
  {
   "cell_type": "code",
   "execution_count": 1,
   "id": "be2bf305-d0b9-47d5-9853-647d8ec9a70a",
   "metadata": {},
   "outputs": [],
   "source": [
    "import sys\n",
    "import numpy as np\n",
    "import math\n",
    "import collections\n",
    "import copy\n",
    "import decimal\n",
    "import itertools\n",
    "import re\n",
    "import bisect\n",
    "import scipy\n",
    "import heapq\n",
    "from collections import deque \n",
    "from functools import reduce\n",
    "from itertools import product\n",
    "from itertools import combinations\n",
    "from itertools import chain\n",
    "from functools import lru_cache\n",
    "from scipy.special import comb\n",
    "from numba import njit\n",
    "from bisect import bisect_right\n",
    "from bisect import bisect_left"
   ]
  },
  {
   "cell_type": "code",
   "execution_count": 2,
   "id": "9580c88b-4283-4f9a-aae1-be5be64d3d9f",
   "metadata": {},
   "outputs": [
    {
     "name": "stdin",
     "output_type": "stream",
     "text": [
      " 3 3\n"
     ]
    }
   ],
   "source": [
    "H, W = map(int, input().split())"
   ]
  },
  {
   "cell_type": "code",
   "execution_count": 17,
   "id": "e7af2542-0707-4bcf-af10-cb7f3f2b2f5a",
   "metadata": {},
   "outputs": [
    {
     "name": "stdin",
     "output_type": "stream",
     "text": [
      " ..#\n",
      " #..\n",
      " ...\n"
     ]
    }
   ],
   "source": [
    "Sn = ['#' + input()  + '#' for _ in range(H)]"
   ]
  },
  {
   "cell_type": "code",
   "execution_count": 18,
   "id": "3214c3dc-bbda-4a9f-b8b1-ff07e07f9103",
   "metadata": {},
   "outputs": [],
   "source": [
    "Sn.insert(0, '#'*(W+2))\n",
    "Sn.append('#'*(W+2))"
   ]
  },
  {
   "cell_type": "code",
   "execution_count": 33,
   "id": "40b1ba51-612b-4aaa-a696-52ddb49a92ec",
   "metadata": {},
   "outputs": [],
   "source": [
    "w_cnt = 0\n",
    "for s in Sn:\n",
    "    w_cnt += s.count('.')"
   ]
  },
  {
   "cell_type": "code",
   "execution_count": 19,
   "id": "2036f18b-e90d-47df-8a44-9555d347e0f9",
   "metadata": {},
   "outputs": [],
   "source": [
    "dis = [[-1] * (W+2) for _ in range(H+2)]\n",
    "dis[1][1] = 0\n",
    "q = deque()\n",
    "q.append((1, 1))\n",
    "while q:\n",
    "    h, w = q.popleft()\n",
    "    for h1, w1 in ((1, 0), (-1, 0), (0, 1), (0, -1)):\n",
    "        if dis[h+h1][w+w1] != -1 or Sn[h+h1][w+w1] == '#':\n",
    "            continue\n",
    "        dis[h+h1][w+w1] = dis[h][w] + 1\n",
    "        q.append((h+h1, w+w1))"
   ]
  },
  {
   "cell_type": "code",
   "execution_count": 39,
   "id": "e59b7e95-57e9-4208-aaf8-39b31352b692",
   "metadata": {},
   "outputs": [
    {
     "name": "stdout",
     "output_type": "stream",
     "text": [
      "2\n"
     ]
    }
   ],
   "source": [
    "if dis[H][W] == -1:\n",
    "    print('-1')\n",
    "else:\n",
    "    print(w_cnt - dis[H][W] - 1)"
   ]
  },
  {
   "cell_type": "code",
   "execution_count": 31,
   "id": "6edc6741-aff0-4385-abb6-2cb588e51cab",
   "metadata": {},
   "outputs": [
    {
     "name": "stdout",
     "output_type": "stream",
     "text": [
      "2\n"
     ]
    }
   ],
   "source": [
    "dis_c = collections.Counter(sum(dis, []))\n",
    "ans = 0\n",
    "for k, v in dis_c.items():\n",
    "    if k == -1 or k == 0:\n",
    "        continue\n",
    "    ans += v - 1\n",
    "for i in range(1, H+1):\n",
    "    for j in range(1, W+1):\n",
    "        if dis[i][j] == -1 and Sn[i][j] == '.':\n",
    "            ans += 1\n",
    "print(ans)"
   ]
  },
  {
   "cell_type": "code",
   "execution_count": 20,
   "id": "897bbb8a-af8b-42ed-8fbb-919feb5855d5",
   "metadata": {},
   "outputs": [
    {
     "data": {
      "text/plain": [
       "['#####', '#..##', '##..#', '#...#', '#####']"
      ]
     },
     "execution_count": 20,
     "metadata": {},
     "output_type": "execute_result"
    }
   ],
   "source": [
    "Sn"
   ]
  },
  {
   "cell_type": "code",
   "execution_count": 38,
   "id": "487761c1-5f6d-41ac-9224-af69fcde9492",
   "metadata": {},
   "outputs": [
    {
     "data": {
      "text/plain": [
       "[[-1, -1, -1, -1, -1],\n",
       " [-1, 0, 1, -1, -1],\n",
       " [-1, -1, 2, 3, -1],\n",
       " [-1, 4, 3, 4, -1],\n",
       " [-1, -1, -1, -1, -1]]"
      ]
     },
     "execution_count": 38,
     "metadata": {},
     "output_type": "execute_result"
    }
   ],
   "source": [
    "dis"
   ]
  },
  {
   "cell_type": "code",
   "execution_count": 25,
   "id": "f2f5e0b8-a8ce-41b8-b6a2-598ded5b9a64",
   "metadata": {},
   "outputs": [
    {
     "data": {
      "text/plain": [
       "Counter({-1: 18, 0: 1, 1: 1, 2: 1, 3: 2, 4: 2})"
      ]
     },
     "execution_count": 25,
     "metadata": {},
     "output_type": "execute_result"
    }
   ],
   "source": [
    "collections.Counter(sum(dis, []))"
   ]
  },
  {
   "cell_type": "code",
   "execution_count": 32,
   "id": "20aad8e7-e80e-4ed8-ba4f-132242e6593f",
   "metadata": {},
   "outputs": [
    {
     "data": {
      "text/plain": [
       "0"
      ]
     },
     "execution_count": 32,
     "metadata": {},
     "output_type": "execute_result"
    }
   ],
   "source": [
    "Sn.count('.')"
   ]
  },
  {
   "cell_type": "code",
   "execution_count": 36,
   "id": "0f84d56e-349e-48cf-991c-53c8cea61071",
   "metadata": {},
   "outputs": [
    {
     "data": {
      "text/plain": [
       "(7, [-1, 4, 3, 4, -1])"
      ]
     },
     "execution_count": 36,
     "metadata": {},
     "output_type": "execute_result"
    }
   ],
   "source": [
    "w_cnt, max(dis)"
   ]
  },
  {
   "cell_type": "code",
   "execution_count": null,
   "id": "4536fb8e-b393-4fec-a7c0-fcf843370d98",
   "metadata": {},
   "outputs": [],
   "source": []
  }
 ],
 "metadata": {
  "kernelspec": {
   "display_name": "Python 3",
   "language": "python",
   "name": "python3"
  },
  "language_info": {
   "codemirror_mode": {
    "name": "ipython",
    "version": 3
   },
   "file_extension": ".py",
   "mimetype": "text/x-python",
   "name": "python",
   "nbconvert_exporter": "python",
   "pygments_lexer": "ipython3",
   "version": "3.6.13"
  }
 },
 "nbformat": 4,
 "nbformat_minor": 5
}
