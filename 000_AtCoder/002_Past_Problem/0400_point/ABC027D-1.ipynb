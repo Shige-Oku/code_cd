{
 "cells": [
  {
   "cell_type": "code",
   "execution_count": 1,
   "id": "a0d09355-951d-4b4c-9da4-f8d1547b9ade",
   "metadata": {},
   "outputs": [],
   "source": [
    "import sys\n",
    "import numpy as np\n",
    "import math\n",
    "import collections\n",
    "import copy\n",
    "import decimal\n",
    "import itertools\n",
    "import re\n",
    "import bisect\n",
    "import scipy\n",
    "import heapq\n",
    "from collections import deque \n",
    "from functools import reduce\n",
    "from itertools import product\n",
    "from itertools import combinations\n",
    "from itertools import chain\n",
    "from functools import lru_cache\n",
    "from scipy.special import comb\n",
    "from numba import njit\n",
    "from bisect import bisect_right\n",
    "from bisect import bisect_left"
   ]
  },
  {
   "cell_type": "code",
   "execution_count": 16,
   "id": "ae762bce-93d8-406e-a2eb-72dbfcb88c5c",
   "metadata": {},
   "outputs": [
    {
     "name": "stdin",
     "output_type": "stream",
     "text": [
      " MMM+--MMM\n"
     ]
    }
   ],
   "source": [
    "S = input()"
   ]
  },
  {
   "cell_type": "code",
   "execution_count": 17,
   "id": "d51a2945-c821-4cdf-b987-0cb9096066e5",
   "metadata": {},
   "outputs": [],
   "source": [
    "p, m= 0, 0\n",
    "i = 0\n",
    "add = []\n",
    "for s in S[::-1]:\n",
    "    if s == '+':\n",
    "        p += 1\n",
    "    elif s == '-':\n",
    "        m += 1\n",
    "    else:\n",
    "        add.append(p-m)\n",
    "        i += 1\n",
    "    "
   ]
  },
  {
   "cell_type": "code",
   "execution_count": 18,
   "id": "36b599f2-1034-4d14-aefa-cb1eb5a8a09f",
   "metadata": {},
   "outputs": [
    {
     "name": "stdout",
     "output_type": "stream",
     "text": [
      "3\n"
     ]
    }
   ],
   "source": [
    "add_s = sorted(add)\n",
    "print(sum(add_s[(i+1)//2:]) - sum(add_s[:(i+1)//2]))"
   ]
  },
  {
   "cell_type": "code",
   "execution_count": 7,
   "id": "665e47ca-d4b9-4082-9054-75b43fd53cd6",
   "metadata": {},
   "outputs": [
    {
     "data": {
      "text/plain": [
       "[-1, -1, 0, 0]"
      ]
     },
     "execution_count": 7,
     "metadata": {},
     "output_type": "execute_result"
    }
   ],
   "source": [
    "add_s"
   ]
  },
  {
   "cell_type": "code",
   "execution_count": 9,
   "id": "ea4df8fa-7f49-45c4-aae3-fa2ab3a72839",
   "metadata": {},
   "outputs": [
    {
     "data": {
      "text/plain": [
       "-2"
      ]
     },
     "execution_count": 9,
     "metadata": {},
     "output_type": "execute_result"
    }
   ],
   "source": [
    "sum(add_s[(i+1)//2:]), "
   ]
  },
  {
   "cell_type": "code",
   "execution_count": 10,
   "id": "6017b047-4e6c-4713-b751-047c5bae40eb",
   "metadata": {},
   "outputs": [
    {
     "data": {
      "text/plain": [
       "0"
      ]
     },
     "execution_count": 10,
     "metadata": {},
     "output_type": "execute_result"
    }
   ],
   "source": [
    "i"
   ]
  },
  {
   "cell_type": "code",
   "execution_count": null,
   "id": "00e432d9-6799-4726-8af3-4853593f99ca",
   "metadata": {},
   "outputs": [],
   "source": []
  }
 ],
 "metadata": {
  "kernelspec": {
   "display_name": "Python 3",
   "language": "python",
   "name": "python3"
  },
  "language_info": {
   "codemirror_mode": {
    "name": "ipython",
    "version": 3
   },
   "file_extension": ".py",
   "mimetype": "text/x-python",
   "name": "python",
   "nbconvert_exporter": "python",
   "pygments_lexer": "ipython3",
   "version": "3.6.13"
  }
 },
 "nbformat": 4,
 "nbformat_minor": 5
}
