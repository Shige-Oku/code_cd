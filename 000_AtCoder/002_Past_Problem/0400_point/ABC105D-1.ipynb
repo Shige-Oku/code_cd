{
 "cells": [
  {
   "cell_type": "code",
   "execution_count": null,
   "id": "10d6c4b7-74c3-4445-bb02-e822d55c172b",
   "metadata": {},
   "outputs": [],
   "source": [
    "# TLE"
   ]
  },
  {
   "cell_type": "code",
   "execution_count": 1,
   "id": "6a25d0cc-e756-4b7b-bd84-0354d23f709e",
   "metadata": {},
   "outputs": [],
   "source": [
    "import sys\n",
    "import numpy as np\n",
    "import math\n",
    "import collections\n",
    "import copy\n",
    "import decimal\n",
    "import itertools\n",
    "import re\n",
    "import bisect\n",
    "import scipy\n",
    "import heapq\n",
    "from collections import deque \n",
    "from functools import reduce\n",
    "from itertools import product\n",
    "from itertools import combinations\n",
    "from itertools import chain\n",
    "from functools import lru_cache\n",
    "from scipy.special import comb\n",
    "from numba import njit\n",
    "from bisect import bisect_right\n",
    "from bisect import bisect_left"
   ]
  },
  {
   "cell_type": "code",
   "execution_count": 35,
   "id": "8f8d0678-1ee9-4ac2-839d-33da9b732e07",
   "metadata": {},
   "outputs": [
    {
     "name": "stdin",
     "output_type": "stream",
     "text": [
      " 10 400000000\n"
     ]
    }
   ],
   "source": [
    "N, M = map(int, input().split())"
   ]
  },
  {
   "cell_type": "code",
   "execution_count": 36,
   "id": "bc38d473-e498-491e-9ca6-9edd9df82bb2",
   "metadata": {},
   "outputs": [
    {
     "name": "stdin",
     "output_type": "stream",
     "text": [
      " 1000000000 1000000000 1000000000 1000000000 1000000000 1000000000 1000000000 1000000000 1000000000 1000000000\n"
     ]
    }
   ],
   "source": [
    "An = list(map(int, input().split()))"
   ]
  },
  {
   "cell_type": "code",
   "execution_count": 37,
   "id": "998ee688-c90b-4417-98d9-ab10f5874c33",
   "metadata": {},
   "outputs": [],
   "source": [
    "An_cum = [0, ]\n",
    "for A in An:\n",
    "    An_cum.append(A+An_cum[-1])"
   ]
  },
  {
   "cell_type": "code",
   "execution_count": 38,
   "id": "ded2b1d2-b795-446f-92f6-fc301b02141e",
   "metadata": {},
   "outputs": [],
   "source": [
    "ans = 0\n",
    "for l in range(1, N+1):\n",
    "    for r in range(l, N+1):\n",
    "        if (An_cum[r]-An_cum[l-1]) % M == 0:\n",
    "            ans += 1"
   ]
  },
  {
   "cell_type": "code",
   "execution_count": 39,
   "id": "85e2b573-7b92-40a9-87a7-cc263308c24c",
   "metadata": {},
   "outputs": [
    {
     "name": "stdout",
     "output_type": "stream",
     "text": [
      "25\n"
     ]
    }
   ],
   "source": [
    "print(ans)"
   ]
  },
  {
   "cell_type": "code",
   "execution_count": 8,
   "id": "c8457c59-a0ad-40a9-8bc3-c8ff85e402a8",
   "metadata": {},
   "outputs": [
    {
     "data": {
      "text/plain": [
       "[0, 4, 5, 10]"
      ]
     },
     "execution_count": 8,
     "metadata": {},
     "output_type": "execute_result"
    }
   ],
   "source": [
    "An_cum"
   ]
  },
  {
   "cell_type": "code",
   "execution_count": null,
   "id": "60c9a023-8845-474d-9f11-47c8d4fd1ef8",
   "metadata": {},
   "outputs": [],
   "source": []
  }
 ],
 "metadata": {
  "kernelspec": {
   "display_name": "Python 3",
   "language": "python",
   "name": "python3"
  },
  "language_info": {
   "codemirror_mode": {
    "name": "ipython",
    "version": 3
   },
   "file_extension": ".py",
   "mimetype": "text/x-python",
   "name": "python",
   "nbconvert_exporter": "python",
   "pygments_lexer": "ipython3",
   "version": "3.6.13"
  }
 },
 "nbformat": 4,
 "nbformat_minor": 5
}
