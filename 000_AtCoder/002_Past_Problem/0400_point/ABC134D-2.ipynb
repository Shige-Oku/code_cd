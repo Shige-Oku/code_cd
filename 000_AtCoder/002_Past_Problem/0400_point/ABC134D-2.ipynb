{
 "cells": [
  {
   "cell_type": "code",
   "execution_count": null,
   "id": "d5a9843e-5c0f-4cfa-943c-f17018085148",
   "metadata": {},
   "outputs": [],
   "source": [
    "# 解説を読んで実装"
   ]
  },
  {
   "cell_type": "code",
   "execution_count": 1,
   "id": "80b3c6d2-f6d4-41a1-b46f-061d21e1539d",
   "metadata": {},
   "outputs": [],
   "source": [
    "import sys\n",
    "import numpy as np\n",
    "import math\n",
    "import collections\n",
    "import copy\n",
    "import decimal\n",
    "import itertools\n",
    "import re\n",
    "import bisect\n",
    "import scipy\n",
    "import heapq\n",
    "from collections import deque \n",
    "from functools import reduce\n",
    "from itertools import product\n",
    "from itertools import combinations\n",
    "from itertools import chain\n",
    "from functools import lru_cache\n",
    "from scipy.special import comb\n",
    "from numba import njit\n",
    "from bisect import bisect_right\n",
    "from bisect import bisect_left"
   ]
  },
  {
   "cell_type": "code",
   "execution_count": 77,
   "id": "0a95ff87-cb28-4de5-a1a3-c05b00346bd5",
   "metadata": {},
   "outputs": [
    {
     "name": "stdin",
     "output_type": "stream",
     "text": [
      " 3\n"
     ]
    }
   ],
   "source": [
    "N = int(input())"
   ]
  },
  {
   "cell_type": "code",
   "execution_count": 78,
   "id": "d913b1b4-d9e7-4936-a3ee-c9c794661a90",
   "metadata": {},
   "outputs": [
    {
     "name": "stdin",
     "output_type": "stream",
     "text": [
      " 1 0 0\n"
     ]
    }
   ],
   "source": [
    "An = list(map(int, input().split()))"
   ]
  },
  {
   "cell_type": "code",
   "execution_count": 79,
   "id": "6553642f-096d-4c11-b7f5-be8a7f5a12a8",
   "metadata": {},
   "outputs": [],
   "source": [
    "Bn = [0] * N\n",
    "for i in range(N, 0, -1):\n",
    "#     if An[i-1] == 0:\n",
    "#         continue\n",
    "    p = sum(Bn[i-1::i])\n",
    "#     print(i, Bn[i-1], p)\n",
    "    if An[i-1] != p % 2:\n",
    "        Bn[i-1] = 1"
   ]
  },
  {
   "cell_type": "code",
   "execution_count": 80,
   "id": "cab45203-f426-4cb5-9f29-d95264b9c246",
   "metadata": {},
   "outputs": [
    {
     "name": "stdout",
     "output_type": "stream",
     "text": [
      "1\n",
      "1 "
     ]
    }
   ],
   "source": [
    "print(sum(Bn))\n",
    "for i, B in enumerate(Bn, 1):\n",
    "    if B != 0:\n",
    "        print(i, end=' ')"
   ]
  },
  {
   "cell_type": "code",
   "execution_count": 81,
   "id": "a4245768-1bf9-4135-89a9-90924641684a",
   "metadata": {},
   "outputs": [
    {
     "data": {
      "text/plain": [
       "0"
      ]
     },
     "execution_count": 81,
     "metadata": {},
     "output_type": "execute_result"
    }
   ],
   "source": [
    "sum(An[3:])"
   ]
  },
  {
   "cell_type": "code",
   "execution_count": 56,
   "id": "ad9147d1-ab3f-4ee8-b1b4-815ea60c5573",
   "metadata": {},
   "outputs": [
    {
     "data": {
      "text/plain": [
       "[0, 0, 0, 0, 0, 0]"
      ]
     },
     "execution_count": 56,
     "metadata": {},
     "output_type": "execute_result"
    }
   ],
   "source": [
    "Bn"
   ]
  },
  {
   "cell_type": "code",
   "execution_count": 70,
   "id": "f151e82c-435c-4b6e-9d1a-3353d72e3151",
   "metadata": {},
   "outputs": [
    {
     "data": {
      "text/plain": [
       "(3807.0, 141.0)"
      ]
     },
     "execution_count": 70,
     "metadata": {},
     "output_type": "execute_result"
    }
   ],
   "source": [
    "19035/5, 3807/27"
   ]
  },
  {
   "cell_type": "code",
   "execution_count": null,
   "id": "21f67a85-643c-43ac-87b4-7f89a7d5c3fe",
   "metadata": {},
   "outputs": [],
   "source": []
  }
 ],
 "metadata": {
  "kernelspec": {
   "display_name": "Python 3",
   "language": "python",
   "name": "python3"
  },
  "language_info": {
   "codemirror_mode": {
    "name": "ipython",
    "version": 3
   },
   "file_extension": ".py",
   "mimetype": "text/x-python",
   "name": "python",
   "nbconvert_exporter": "python",
   "pygments_lexer": "ipython3",
   "version": "3.6.13"
  }
 },
 "nbformat": 4,
 "nbformat_minor": 5
}
