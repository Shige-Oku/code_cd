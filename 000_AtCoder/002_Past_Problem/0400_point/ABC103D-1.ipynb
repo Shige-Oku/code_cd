{
 "cells": [
  {
   "cell_type": "code",
   "execution_count": null,
   "id": "61fd6e5d-c23f-4584-a36e-8b73d3d09307",
   "metadata": {},
   "outputs": [],
   "source": [
    "# 解説を読んで実装"
   ]
  },
  {
   "cell_type": "code",
   "execution_count": 1,
   "id": "4fc39a93-3b4b-4cbc-918f-fe2a3dea7a63",
   "metadata": {},
   "outputs": [],
   "source": [
    "import sys\n",
    "import numpy as np\n",
    "import math\n",
    "import collections\n",
    "import copy\n",
    "import decimal\n",
    "import itertools\n",
    "import re\n",
    "import bisect\n",
    "import scipy\n",
    "import heapq\n",
    "from collections import deque \n",
    "from functools import reduce\n",
    "from itertools import product\n",
    "from itertools import combinations\n",
    "from itertools import chain\n",
    "from functools import lru_cache\n",
    "from scipy.special import comb\n",
    "from numba import njit\n",
    "from bisect import bisect_right\n",
    "from bisect import bisect_left"
   ]
  },
  {
   "cell_type": "code",
   "execution_count": 9,
   "id": "11b6e76d-f48f-4fd7-9716-4dd25e58fce6",
   "metadata": {},
   "outputs": [
    {
     "name": "stdin",
     "output_type": "stream",
     "text": [
      " 5 10\n"
     ]
    }
   ],
   "source": [
    "N, M = map(int, input().split())"
   ]
  },
  {
   "cell_type": "code",
   "execution_count": 10,
   "id": "8c87a367-745f-44f1-b022-76ca99a47562",
   "metadata": {},
   "outputs": [
    {
     "name": "stdin",
     "output_type": "stream",
     "text": [
      " 1 2\n",
      " 1 3\n",
      " 1 4\n",
      " 1 5\n",
      " 2 3\n",
      " 2 4\n",
      " 2 5\n",
      " 3 4\n",
      " 3 5\n",
      " 4 5\n"
     ]
    }
   ],
   "source": [
    "AB = [list(map(int, input().split())) for _ in range(M)]"
   ]
  },
  {
   "cell_type": "code",
   "execution_count": 14,
   "id": "9a6d2cd8-4d15-48ca-9bd7-0e67f3c2f7fe",
   "metadata": {},
   "outputs": [],
   "source": [
    "AB_s = sorted(AB, key=lambda x : x[1])\n",
    "ans = 0\n",
    "mi = 10**10\n",
    "for A, B in AB_s:\n",
    "    if B < mi or A > mi:\n",
    "        ans += 1\n",
    "        mi = B-1\n",
    "        continue"
   ]
  },
  {
   "cell_type": "code",
   "execution_count": 15,
   "id": "6bb3fa0d-350c-499f-810c-b95dabef9fb3",
   "metadata": {},
   "outputs": [
    {
     "name": "stdout",
     "output_type": "stream",
     "text": [
      "4\n"
     ]
    }
   ],
   "source": [
    "print(ans)"
   ]
  },
  {
   "cell_type": "code",
   "execution_count": 13,
   "id": "81fcfc0e-94ff-4548-8404-25c7d8d50060",
   "metadata": {},
   "outputs": [
    {
     "data": {
      "text/plain": [
       "[[1, 2],\n",
       " [1, 3],\n",
       " [2, 3],\n",
       " [1, 4],\n",
       " [2, 4],\n",
       " [3, 4],\n",
       " [1, 5],\n",
       " [2, 5],\n",
       " [3, 5],\n",
       " [4, 5]]"
      ]
     },
     "execution_count": 13,
     "metadata": {},
     "output_type": "execute_result"
    }
   ],
   "source": [
    "AB_s"
   ]
  },
  {
   "cell_type": "code",
   "execution_count": null,
   "id": "2ee7c0d3-d34a-438c-8615-15082dd2e0a9",
   "metadata": {},
   "outputs": [],
   "source": []
  }
 ],
 "metadata": {
  "kernelspec": {
   "display_name": "Python 3",
   "language": "python",
   "name": "python3"
  },
  "language_info": {
   "codemirror_mode": {
    "name": "ipython",
    "version": 3
   },
   "file_extension": ".py",
   "mimetype": "text/x-python",
   "name": "python",
   "nbconvert_exporter": "python",
   "pygments_lexer": "ipython3",
   "version": "3.6.13"
  }
 },
 "nbformat": 4,
 "nbformat_minor": 5
}
