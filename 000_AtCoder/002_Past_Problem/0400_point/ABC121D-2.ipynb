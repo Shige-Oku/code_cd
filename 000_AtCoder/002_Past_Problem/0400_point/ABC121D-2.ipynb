{
 "cells": [
  {
   "cell_type": "code",
   "execution_count": null,
   "id": "f25c7650-00af-413e-8f4f-312ace4c3e89",
   "metadata": {},
   "outputs": [],
   "source": [
    "# 解説を読んで実装"
   ]
  },
  {
   "cell_type": "code",
   "execution_count": 1,
   "id": "582ecb8f-c1aa-4299-b4db-ab1e76ac599f",
   "metadata": {},
   "outputs": [],
   "source": [
    "import sys\n",
    "import numpy as np\n",
    "import math\n",
    "import collections\n",
    "import copy\n",
    "import decimal\n",
    "import itertools\n",
    "import re\n",
    "import bisect\n",
    "import scipy\n",
    "import heapq\n",
    "from collections import deque \n",
    "from functools import reduce\n",
    "from itertools import product\n",
    "from itertools import combinations\n",
    "from itertools import chain\n",
    "from functools import lru_cache\n",
    "from scipy.special import comb\n",
    "from numba import njit\n",
    "from bisect import bisect_right\n",
    "from bisect import bisect_left"
   ]
  },
  {
   "cell_type": "code",
   "execution_count": 67,
   "id": "d2184caf-57e8-4864-8732-42028fc7504f",
   "metadata": {},
   "outputs": [
    {
     "name": "stdin",
     "output_type": "stream",
     "text": [
      " 3 8\n"
     ]
    }
   ],
   "source": [
    "A, B = map(int, input().split())"
   ]
  },
  {
   "cell_type": "code",
   "execution_count": 68,
   "id": "2072fada-63bc-40f1-a31b-173d5d6d743b",
   "metadata": {},
   "outputs": [
    {
     "name": "stdout",
     "output_type": "stream",
     "text": [
      "11\n"
     ]
    }
   ],
   "source": [
    "sa = B - A + 1\n",
    "if A % 2 == 0:\n",
    "    ecnt = (sa // 2)  % 2\n",
    "    l = 0\n",
    "    if B % 2 == 0:\n",
    "        r = B\n",
    "    else:\n",
    "        r = 0\n",
    "else:\n",
    "    ecnt = (sa - 1)// 2 % 2\n",
    "    l = A\n",
    "    if B % 2 == 0:\n",
    "        r = B\n",
    "    else:\n",
    "        r = 0\n",
    "        \n",
    "print(l^r^ecnt)"
   ]
  },
  {
   "cell_type": "code",
   "execution_count": 52,
   "id": "e9706c12-4c64-4030-95fe-16256a2ed622",
   "metadata": {},
   "outputs": [
    {
     "data": {
      "text/plain": [
       "(4, 1)"
      ]
     },
     "execution_count": 52,
     "metadata": {},
     "output_type": "execute_result"
    }
   ],
   "source": [
    "7^3, 3^2"
   ]
  },
  {
   "cell_type": "code",
   "execution_count": 69,
   "id": "feeca9be-0952-4d80-8407-1b251dcd7bcb",
   "metadata": {},
   "outputs": [
    {
     "data": {
      "text/plain": [
       "(6, 0, 3, 8)"
      ]
     },
     "execution_count": 69,
     "metadata": {},
     "output_type": "execute_result"
    }
   ],
   "source": [
    "sa, ecnt, l, r"
   ]
  },
  {
   "cell_type": "code",
   "execution_count": 60,
   "id": "720b7852-4c83-4cf3-bbaf-10367d6c8a0d",
   "metadata": {},
   "outputs": [
    {
     "data": {
      "text/plain": [
       "5"
      ]
     },
     "execution_count": 60,
     "metadata": {},
     "output_type": "execute_result"
    }
   ],
   "source": [
    "l^r^ecnt"
   ]
  },
  {
   "cell_type": "code",
   "execution_count": null,
   "id": "aa0e481a-6c16-4c6c-8f39-9eaf875fe32c",
   "metadata": {},
   "outputs": [],
   "source": []
  }
 ],
 "metadata": {
  "kernelspec": {
   "display_name": "Python 3",
   "language": "python",
   "name": "python3"
  },
  "language_info": {
   "codemirror_mode": {
    "name": "ipython",
    "version": 3
   },
   "file_extension": ".py",
   "mimetype": "text/x-python",
   "name": "python",
   "nbconvert_exporter": "python",
   "pygments_lexer": "ipython3",
   "version": "3.6.13"
  }
 },
 "nbformat": 4,
 "nbformat_minor": 5
}
