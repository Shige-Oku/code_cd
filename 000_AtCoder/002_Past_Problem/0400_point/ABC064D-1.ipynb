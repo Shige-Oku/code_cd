{
 "cells": [
  {
   "cell_type": "code",
   "execution_count": 1,
   "id": "c65b7171-a984-4821-ac88-fea0aea2d477",
   "metadata": {},
   "outputs": [],
   "source": [
    "import sys\n",
    "import numpy as np\n",
    "import math\n",
    "import collections\n",
    "import copy\n",
    "import decimal\n",
    "import itertools\n",
    "import re\n",
    "import bisect\n",
    "import scipy\n",
    "import heapq\n",
    "from collections import deque \n",
    "from functools import reduce\n",
    "from itertools import product\n",
    "from itertools import combinations\n",
    "from itertools import chain\n",
    "from functools import lru_cache\n",
    "from scipy.special import comb\n",
    "from numba import njit\n",
    "from bisect import bisect_right\n",
    "from bisect import bisect_left"
   ]
  },
  {
   "cell_type": "code",
   "execution_count": 21,
   "id": "4c2bfd5c-9838-4177-bbc8-dc05405bc882",
   "metadata": {},
   "outputs": [
    {
     "name": "stdin",
     "output_type": "stream",
     "text": [
      " 8\n"
     ]
    }
   ],
   "source": [
    "N = int(input())"
   ]
  },
  {
   "cell_type": "code",
   "execution_count": 22,
   "id": "dda15ff8-b43a-486b-ac29-a345f8b34095",
   "metadata": {},
   "outputs": [
    {
     "name": "stdin",
     "output_type": "stream",
     "text": [
      " ))))((((\n"
     ]
    }
   ],
   "source": [
    "S = input()"
   ]
  },
  {
   "cell_type": "code",
   "execution_count": 25,
   "id": "09879c4f-a190-455e-afa7-5d3e6a48620c",
   "metadata": {},
   "outputs": [],
   "source": [
    "q1 = deque()\n",
    "ans = []\n",
    "for s in S:\n",
    "    if s == '(':\n",
    "        q1.append('(')\n",
    "        ans.append('(')\n",
    "    else:\n",
    "        if q1:\n",
    "            q1.pop()\n",
    "        else:\n",
    "            ans.insert(0, '(')\n",
    "        ans.append(')')\n",
    "\n",
    "while q1:\n",
    "    q1.pop()\n",
    "    ans.append(')')"
   ]
  },
  {
   "cell_type": "code",
   "execution_count": 26,
   "id": "ec262853-c663-429e-8d41-d39aecf98f03",
   "metadata": {},
   "outputs": [
    {
     "name": "stdout",
     "output_type": "stream",
     "text": [
      "(((())))(((())))\n"
     ]
    }
   ],
   "source": [
    "print(*ans, sep='')"
   ]
  },
  {
   "cell_type": "code",
   "execution_count": 12,
   "id": "5fd4cf10-63fb-4345-96f7-ae9af35934ed",
   "metadata": {},
   "outputs": [
    {
     "data": {
      "text/plain": [
       "(deque([]), ['(', '(', ')', ')'])"
      ]
     },
     "execution_count": 12,
     "metadata": {},
     "output_type": "execute_result"
    }
   ],
   "source": [
    "q1, ans"
   ]
  },
  {
   "cell_type": "code",
   "execution_count": null,
   "id": "e6bcbddb-15b0-4133-bc09-4136087ea71c",
   "metadata": {},
   "outputs": [],
   "source": []
  }
 ],
 "metadata": {
  "kernelspec": {
   "display_name": "Python 3",
   "language": "python",
   "name": "python3"
  },
  "language_info": {
   "codemirror_mode": {
    "name": "ipython",
    "version": 3
   },
   "file_extension": ".py",
   "mimetype": "text/x-python",
   "name": "python",
   "nbconvert_exporter": "python",
   "pygments_lexer": "ipython3",
   "version": "3.6.13"
  }
 },
 "nbformat": 4,
 "nbformat_minor": 5
}
