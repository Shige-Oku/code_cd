{
 "cells": [
  {
   "cell_type": "code",
   "execution_count": null,
   "id": "bb07be2d-b73c-4445-8383-56103a4ef86e",
   "metadata": {},
   "outputs": [],
   "source": [
    "# 解けてない"
   ]
  },
  {
   "cell_type": "code",
   "execution_count": 1,
   "id": "b0196142-8bd1-4c78-8466-1cdccde14905",
   "metadata": {},
   "outputs": [],
   "source": [
    "import numpy as np\n",
    "import math\n",
    "import collections\n",
    "import copy\n",
    "import decimal\n",
    "import itertools\n",
    "import re\n",
    "import bisect\n",
    "import scipy\n",
    "import heapq\n",
    "import array\n",
    "from collections import deque \n",
    "from functools import reduce\n",
    "from itertools import product\n",
    "from itertools import combinations\n",
    "from itertools import chain\n",
    "from functools import lru_cache\n",
    "from scipy.special import comb\n",
    "from numba import njit\n",
    "from bisect import bisect_right\n",
    "from bisect import bisect_left"
   ]
  },
  {
   "cell_type": "code",
   "execution_count": 2,
   "id": "8a34bf2f-412c-40a7-9b74-816f1a1ff5a1",
   "metadata": {},
   "outputs": [
    {
     "name": "stdin",
     "output_type": "stream",
     "text": [
      " 2 2\n"
     ]
    }
   ],
   "source": [
    "N, M = map(int, input().split())"
   ]
  },
  {
   "cell_type": "code",
   "execution_count": 3,
   "id": "fc68808c-f72d-4a4b-9a3e-4e102aff82ea",
   "metadata": {},
   "outputs": [
    {
     "name": "stdin",
     "output_type": "stream",
     "text": [
      " 2\n",
      " 1 2\n",
      " 2\n",
      " 1 2\n"
     ]
    }
   ],
   "source": [
    "Kn = []\n",
    "An = []\n",
    "for _ in range(M):\n",
    "    Kn.append(int(input()))\n",
    "    An.append(list(map(int, input().split())))"
   ]
  },
  {
   "cell_type": "code",
   "execution_count": null,
   "id": "187da9a7-8ca9-479b-99f6-5955f172680a",
   "metadata": {},
   "outputs": [],
   "source": [
    "def solve(k, i):\n",
    "    kk, ii = k, i\n",
    "    while True:\n",
    "        cnt[kk] += 1\n",
    "        kk = \n",
    "    return"
   ]
  },
  {
   "cell_type": "code",
   "execution_count": 8,
   "id": "29a888bc-7fea-4e04-9b1d-8a78e6b3759f",
   "metadata": {},
   "outputs": [],
   "source": [
    "An_s = []\n",
    "for A in An:\n",
    "    An_s.append(A[::-1])"
   ]
  },
  {
   "cell_type": "code",
   "execution_count": null,
   "id": "a60e683b-751c-44de-82a0-a3524bc3eb2a",
   "metadata": {},
   "outputs": [],
   "source": [
    "di = {}\n",
    "cnt = [0] * M\n",
    "for i in range(M):\n",
    "    c = An_s[i][cnt[i]] \n",
    "    if c not in di:\n",
    "        di[c] = (i, cnt[i])\n",
    "        continue\n",
    "    solve(di[c])\n",
    "    "
   ]
  },
  {
   "cell_type": "code",
   "execution_count": 4,
   "id": "33a22524-65c6-4832-afcd-a155d138fe8e",
   "metadata": {},
   "outputs": [
    {
     "data": {
      "text/plain": [
       "[2, 2]"
      ]
     },
     "execution_count": 4,
     "metadata": {},
     "output_type": "execute_result"
    }
   ],
   "source": [
    "Kn"
   ]
  },
  {
   "cell_type": "code",
   "execution_count": 9,
   "id": "56c329b3-b5f7-4932-82c3-3b12777eada0",
   "metadata": {},
   "outputs": [
    {
     "data": {
      "text/plain": [
       "[[2, 1], [2, 1]]"
      ]
     },
     "execution_count": 9,
     "metadata": {},
     "output_type": "execute_result"
    }
   ],
   "source": [
    "An_s"
   ]
  },
  {
   "cell_type": "code",
   "execution_count": 7,
   "id": "71b70814-1345-4aa9-a804-7f4c33bc5751",
   "metadata": {},
   "outputs": [
    {
     "data": {
      "text/plain": [
       "2"
      ]
     },
     "execution_count": 7,
     "metadata": {},
     "output_type": "execute_result"
    }
   ],
   "source": [
    "len(An[0])"
   ]
  },
  {
   "cell_type": "code",
   "execution_count": null,
   "id": "df65ee0a-e0cc-410a-b2cf-0aaeb18941b2",
   "metadata": {},
   "outputs": [],
   "source": []
  }
 ],
 "metadata": {
  "kernelspec": {
   "display_name": "Python 3",
   "language": "python",
   "name": "python3"
  },
  "language_info": {
   "codemirror_mode": {
    "name": "ipython",
    "version": 3
   },
   "file_extension": ".py",
   "mimetype": "text/x-python",
   "name": "python",
   "nbconvert_exporter": "python",
   "pygments_lexer": "ipython3",
   "version": "3.6.13"
  }
 },
 "nbformat": 4,
 "nbformat_minor": 5
}
