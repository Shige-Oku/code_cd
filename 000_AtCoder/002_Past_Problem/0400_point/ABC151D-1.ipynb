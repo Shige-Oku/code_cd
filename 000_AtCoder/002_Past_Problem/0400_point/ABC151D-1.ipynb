{
 "cells": [
  {
   "cell_type": "code",
   "execution_count": null,
   "metadata": {},
   "outputs": [],
   "source": [
    "# TLE"
   ]
  },
  {
   "cell_type": "code",
   "execution_count": 1,
   "metadata": {},
   "outputs": [],
   "source": [
    "import sys\n",
    "import numpy as np\n",
    "import math\n",
    "import collections\n",
    "import copy\n",
    "import decimal\n",
    "import itertools\n",
    "import re\n",
    "import bisect\n",
    "import scipy\n",
    "import heapq\n",
    "from collections import deque \n",
    "from functools import reduce\n",
    "from itertools import product\n",
    "from itertools import combinations\n",
    "from functools import lru_cache\n",
    "from scipy.special import comb\n",
    "from numba import njit\n",
    "from bisect import bisect_right\n",
    "from bisect import bisect_left"
   ]
  },
  {
   "cell_type": "code",
   "execution_count": 3,
   "metadata": {},
   "outputs": [
    {
     "name": "stdin",
     "output_type": "stream",
     "text": [
      " 3 3\n"
     ]
    }
   ],
   "source": [
    "H, W = map(int, input().split())"
   ]
  },
  {
   "cell_type": "code",
   "execution_count": 37,
   "metadata": {},
   "outputs": [
    {
     "name": "stdin",
     "output_type": "stream",
     "text": [
      " ...\n",
      " ...\n",
      " ...\n"
     ]
    }
   ],
   "source": [
    "Sn = [input() for _ in range(H)]"
   ]
  },
  {
   "cell_type": "code",
   "execution_count": 56,
   "metadata": {},
   "outputs": [],
   "source": [
    "def solve(s, g):\n",
    "#     print(s, g)\n",
    "    dist = [[-1] * (W) for _ in range(H)]\n",
    "    sx, sy = divmod(s, W)\n",
    "    gx, gy = divmod(g, W)\n",
    "    if Sn[sx][sy] == '#':\n",
    "        return 0\n",
    "    q = deque()\n",
    "    q.append((sx, sy, 0))\n",
    "    dist[sx][sy] = 0\n",
    "    while q:\n",
    "        x, y, di = q.popleft()\n",
    "#         print(x, y, di)\n",
    "        for xx, yy in ((1, 0), (-1, 0), (0, 1), (0, -1)):\n",
    "#             print(x+xx, y+yy)\n",
    "            if x + xx < 0 or x + xx >= H:\n",
    "#                 print('contnue1')\n",
    "                continue\n",
    "            if y + yy < 0 or y + yy >= W:\n",
    "#                 print('contnue2')\n",
    "                continue\n",
    "            if Sn[x+xx][y+yy] == '#':\n",
    "#                 print('contnue3')\n",
    "                continue\n",
    "            if dist[x+xx][y+yy] != -1:\n",
    "#                 print('contnue4')\n",
    "                continue\n",
    "            dist[x+xx][y+yy] = dist[x][y] + 1\n",
    "            q.append((x+xx, y+yy, dist[x+xx][y+yy]))\n",
    "#     print(dist)\n",
    "    return dist[gx][gy]"
   ]
  },
  {
   "cell_type": "code",
   "execution_count": 57,
   "metadata": {},
   "outputs": [],
   "source": [
    "ans = 0\n",
    "for i in range(1, H*W-1):\n",
    "    for j in range(i+1, H*W):\n",
    "# for i in range(3):\n",
    "#     for j in range(i+1, 4):\n",
    "        ans = max(ans, solve(i, j))"
   ]
  },
  {
   "cell_type": "code",
   "execution_count": 55,
   "metadata": {},
   "outputs": [
    {
     "name": "stdout",
     "output_type": "stream",
     "text": [
      "4\n"
     ]
    }
   ],
   "source": [
    "print(ans)"
   ]
  },
  {
   "cell_type": "code",
   "execution_count": 12,
   "metadata": {},
   "outputs": [
    {
     "name": "stdin",
     "output_type": "stream",
     "text": [
      " ...\n",
      " ...\n",
      " ...\n"
     ]
    }
   ],
   "source": [
    "Sn = ['#' + input() + '#' for _ in range(H)]"
   ]
  },
  {
   "cell_type": "code",
   "execution_count": 13,
   "metadata": {},
   "outputs": [],
   "source": [
    "Sn.insert(0, '#'*(W+2))\n",
    "Sn.append('#' * (W+2))"
   ]
  },
  {
   "cell_type": "code",
   "execution_count": 35,
   "metadata": {},
   "outputs": [],
   "source": [
    "def solve(s, g):\n",
    "    print(s, g)\n",
    "    dist = [[-1] * (W+2) for _ in range(H+2)]\n",
    "    sx, sy = divmod(s, H)\n",
    "    gx, gy = divmod(g, H)\n",
    "    q = deque()\n",
    "    q.append((sx, sy, 0))\n",
    "    dist[sx][sy] = 0\n",
    "    while q:\n",
    "        x, y, di = q.popleft()\n",
    "        print(x, y, di)\n",
    "        for xx, yy in ((1, 0), (-1, 0), (0, 1), (0, -1)):\n",
    "            print(x+xx, y+yy, Sn[x+xx][y+yy], dist[x+xx][y+yy])\n",
    "            if Sn[x+xx][y+yy] == '#':\n",
    "                continue\n",
    "            if dist[x+xx][y+yy] != 1:\n",
    "                continue\n",
    "            dist[x+xx][y+yy] = dist[x][y] + 1\n",
    "            q.append((x+xx, y+yy, dist[x+xx][y+yy]))\n",
    "    print(dist)\n",
    "    return dist[gx][gy]"
   ]
  },
  {
   "cell_type": "code",
   "execution_count": 36,
   "metadata": {},
   "outputs": [
    {
     "name": "stdout",
     "output_type": "stream",
     "text": [
      "1 2\n",
      "0 1 0\n",
      "1 1 . -1\n",
      "-1 1 # -1\n",
      "0 2 # -1\n",
      "0 0 # -1\n",
      "[[-1, 0, -1, -1, -1], [-1, -1, -1, -1, -1], [-1, -1, -1, -1, -1], [-1, -1, -1, -1, -1], [-1, -1, -1, -1, -1]]\n",
      "1 3\n",
      "0 1 0\n",
      "1 1 . -1\n",
      "-1 1 # -1\n",
      "0 2 # -1\n",
      "0 0 # -1\n",
      "[[-1, 0, -1, -1, -1], [-1, -1, -1, -1, -1], [-1, -1, -1, -1, -1], [-1, -1, -1, -1, -1], [-1, -1, -1, -1, -1]]\n",
      "1 4\n",
      "0 1 0\n",
      "1 1 . -1\n",
      "-1 1 # -1\n",
      "0 2 # -1\n",
      "0 0 # -1\n",
      "[[-1, 0, -1, -1, -1], [-1, -1, -1, -1, -1], [-1, -1, -1, -1, -1], [-1, -1, -1, -1, -1], [-1, -1, -1, -1, -1]]\n",
      "2 3\n",
      "0 2 0\n",
      "1 2 . -1\n",
      "-1 2 # -1\n",
      "0 3 # -1\n",
      "0 1 # -1\n",
      "[[-1, -1, 0, -1, -1], [-1, -1, -1, -1, -1], [-1, -1, -1, -1, -1], [-1, -1, -1, -1, -1], [-1, -1, -1, -1, -1]]\n",
      "2 4\n",
      "0 2 0\n",
      "1 2 . -1\n",
      "-1 2 # -1\n",
      "0 3 # -1\n",
      "0 1 # -1\n",
      "[[-1, -1, 0, -1, -1], [-1, -1, -1, -1, -1], [-1, -1, -1, -1, -1], [-1, -1, -1, -1, -1], [-1, -1, -1, -1, -1]]\n",
      "3 4\n",
      "1 0 0\n",
      "2 0 # -1\n",
      "0 0 # -1\n",
      "1 1 . -1\n",
      "1 -1 # -1\n",
      "[[-1, -1, -1, -1, -1], [0, -1, -1, -1, -1], [-1, -1, -1, -1, -1], [-1, -1, -1, -1, -1], [-1, -1, -1, -1, -1]]\n"
     ]
    }
   ],
   "source": [
    "ans = 0\n",
    "# for i in range(1, H*W-1):\n",
    "#     for j in range(i+1, H*W):\n",
    "for i in range(1, 4):\n",
    "    for j in range(i+1, 5):\n",
    "        ans = max(ans, solve(i, j))"
   ]
  },
  {
   "cell_type": "code",
   "execution_count": 27,
   "metadata": {},
   "outputs": [
    {
     "name": "stdout",
     "output_type": "stream",
     "text": [
      "0\n"
     ]
    }
   ],
   "source": [
    "print(ans)"
   ]
  },
  {
   "cell_type": "code",
   "execution_count": 7,
   "metadata": {},
   "outputs": [
    {
     "data": {
      "text/plain": [
       "['#####', '#...#', '#...#', '#...#', '#####']"
      ]
     },
     "execution_count": 7,
     "metadata": {},
     "output_type": "execute_result"
    }
   ],
   "source": [
    "Sn"
   ]
  },
  {
   "cell_type": "code",
   "execution_count": null,
   "metadata": {},
   "outputs": [],
   "source": []
  }
 ],
 "metadata": {
  "kernelspec": {
   "display_name": "Python 3",
   "language": "python",
   "name": "python3"
  },
  "language_info": {
   "codemirror_mode": {
    "name": "ipython",
    "version": 3
   },
   "file_extension": ".py",
   "mimetype": "text/x-python",
   "name": "python",
   "nbconvert_exporter": "python",
   "pygments_lexer": "ipython3",
   "version": "3.6.10"
  }
 },
 "nbformat": 4,
 "nbformat_minor": 4
}
