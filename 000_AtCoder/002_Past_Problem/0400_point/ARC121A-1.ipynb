{
 "cells": [
  {
   "cell_type": "code",
   "execution_count": 1,
   "id": "69ba9a06-a4de-448d-8b66-820809b80c61",
   "metadata": {},
   "outputs": [],
   "source": [
    "import sys\n",
    "import numpy as np\n",
    "import math\n",
    "import collections\n",
    "import copy\n",
    "import decimal\n",
    "import itertools\n",
    "import re\n",
    "import bisect\n",
    "import scipy\n",
    "import heapq\n",
    "from collections import deque \n",
    "from functools import reduce\n",
    "from itertools import product\n",
    "from itertools import combinations\n",
    "from itertools import chain\n",
    "from functools import lru_cache\n",
    "from scipy.special import comb\n",
    "from numba import njit\n",
    "from bisect import bisect_right\n",
    "from bisect import bisect_left"
   ]
  },
  {
   "cell_type": "code",
   "execution_count": 2,
   "id": "ca4ec4e8-dcc6-41b6-af7f-33c0d469d99e",
   "metadata": {},
   "outputs": [
    {
     "name": "stdin",
     "output_type": "stream",
     "text": [
      " 3\n"
     ]
    }
   ],
   "source": [
    "N = int(input())"
   ]
  },
  {
   "cell_type": "code",
   "execution_count": 20,
   "id": "f3a4471e-9712-4bbd-bf1c-1ba4204380f5",
   "metadata": {},
   "outputs": [
    {
     "name": "stdin",
     "output_type": "stream",
     "text": [
      " 0 0\n",
      " 1 2\n",
      " 4 0\n"
     ]
    }
   ],
   "source": [
    "XY = [list(map(int, input().split())) for _ in range(N)]"
   ]
  },
  {
   "cell_type": "code",
   "execution_count": 21,
   "id": "ee459e14-474e-4946-b770-fc91961cf72a",
   "metadata": {},
   "outputs": [],
   "source": [
    "for i in range(N):\n",
    "    XY[i].append(i)"
   ]
  },
  {
   "cell_type": "code",
   "execution_count": 25,
   "id": "fd86f8cc-a9fa-4bd0-9b90-a9cd3a65aed5",
   "metadata": {},
   "outputs": [
    {
     "name": "stdout",
     "output_type": "stream",
     "text": [
      "3\n"
     ]
    }
   ],
   "source": [
    "XY_xs = sorted(XY)\n",
    "XY_ys = sorted(XY, key=lambda x:x[1])\n",
    "ans = []\n",
    "check = set()\n",
    "xy_x = [XY_xs[0], XY_xs[1], XY_xs[-2], XY_xs[-1]]\n",
    "ans.append(abs(xy_x[0][0]-xy_x[-2][0]))\n",
    "check.add((xy_x[0][2], xy_x[-2][2]))\n",
    "check.add((xy_x[-2][2], xy_x[0][2]))\n",
    "ans.append(abs(xy_x[0][0]-xy_x[-1][0]))\n",
    "check.add((xy_x[0][2], xy_x[-1][2]))\n",
    "check.add((xy_x[-1][2], xy_x[0][2]))\n",
    "ans.append(abs(xy_x[1][0]-xy_x[-2][0]))\n",
    "check.add((xy_x[1][2], xy_x[-2][2]))\n",
    "check.add((xy_x[-2][2], xy_x[1][2]))\n",
    "ans.append(abs(xy_x[1][0]-xy_x[-1][0]))\n",
    "check.add((xy_x[1][2], xy_x[-1][2]))\n",
    "check.add((xy_x[-1][2], xy_x[1][2]))\n",
    "\n",
    "xy_y = [XY_ys[0], XY_ys[1], XY_ys[-2], XY_ys[-1]]\n",
    "if (xy_y[0][2], xy_y[-2][2]) not in check:\n",
    "    ans.append(abs(xy_y[0][1]-xy_y[-2][1]))\n",
    "if (xy_y[0][2], xy_y[-1][2]) not in check:\n",
    "    ans.append(abs(xy_y[0][1]-xy_y[-1][1]))\n",
    "if (xy_y[1][2], xy_y[-2][2]) not in check:\n",
    "    ans.append(abs(xy_y[1][1]-xy_y[-2][1]))\n",
    "if (xy_y[1][2], xy_y[-1][2]) not in check:\n",
    "    ans.append(abs(xy_y[1][1]-xy_y[-1][1]))\n",
    "print(sorted(ans, reverse=True)[1])"
   ]
  },
  {
   "cell_type": "code",
   "execution_count": 12,
   "id": "31ec12a1-7a3a-443f-8523-4dbac118e1fc",
   "metadata": {},
   "outputs": [
    {
     "data": {
      "text/plain": [
       "([[0, 0], [1, 2], [4, 0]],\n",
       " [[0, 0], [4, 0], [1, 2]],\n",
       " [[0, 0], [1, 2], [1, 2], [4, 0]],\n",
       " [1, 4, 0, 3, 0, 2, 0, 2])"
      ]
     },
     "execution_count": 12,
     "metadata": {},
     "output_type": "execute_result"
    }
   ],
   "source": [
    "XY_xs, XY_ys, xy_x, ans"
   ]
  },
  {
   "cell_type": "code",
   "execution_count": 22,
   "id": "2ba0f56a-d416-4f59-a315-4269c5c6cb09",
   "metadata": {},
   "outputs": [
    {
     "data": {
      "text/plain": [
       "[[0, 0, 0], [1, 2, 1], [4, 0, 2]]"
      ]
     },
     "execution_count": 22,
     "metadata": {},
     "output_type": "execute_result"
    }
   ],
   "source": [
    "XY"
   ]
  },
  {
   "cell_type": "code",
   "execution_count": 14,
   "id": "b1c6ea29-6177-4b39-9012-40398180bafe",
   "metadata": {},
   "outputs": [
    {
     "name": "stdout",
     "output_type": "stream",
     "text": [
      "4\n"
     ]
    }
   ],
   "source": [
    "XY_xs = sorted(XY)\n",
    "XY_ys = sorted(XY, key=lambda x:x[1])\n",
    "cand = [XY_xs[0], XY_xs[1], XY_xs[-2], XY_xs[-1], XY_ys[0], XY_ys[1], XY_ys[-2], XY_ys[-1]]\n",
    "ans = []\n",
    "for i in range(len(cand)-1):\n",
    "    for j in range(len(cand)):\n",
    "        ans.append(abs(cand[i][0]-cand[j][0]))\n",
    "        ans.append(abs(cand[i][1]-cand[j][1]))\n",
    "print(sorted(ans, reverse=True)[1])"
   ]
  },
  {
   "cell_type": "code",
   "execution_count": null,
   "id": "a1315bb9-8f5e-4b8c-8957-1403d77e6d24",
   "metadata": {},
   "outputs": [],
   "source": []
  }
 ],
 "metadata": {
  "kernelspec": {
   "display_name": "Python 3",
   "language": "python",
   "name": "python3"
  },
  "language_info": {
   "codemirror_mode": {
    "name": "ipython",
    "version": 3
   },
   "file_extension": ".py",
   "mimetype": "text/x-python",
   "name": "python",
   "nbconvert_exporter": "python",
   "pygments_lexer": "ipython3",
   "version": "3.6.13"
  }
 },
 "nbformat": 4,
 "nbformat_minor": 5
}
