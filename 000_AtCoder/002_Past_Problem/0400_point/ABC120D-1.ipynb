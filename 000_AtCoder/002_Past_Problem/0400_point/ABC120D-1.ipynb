{
 "cells": [
  {
   "cell_type": "code",
   "execution_count": 46,
   "id": "3bafdba6-a94e-4a58-8c9c-fce0055ab0ed",
   "metadata": {},
   "outputs": [],
   "source": [
    "import sys\n",
    "import numpy as np\n",
    "import math\n",
    "import collections\n",
    "import copy\n",
    "import decimal\n",
    "import itertools\n",
    "import re\n",
    "import bisect\n",
    "import scipy\n",
    "import heapq\n",
    "from collections import deque \n",
    "from functools import reduce\n",
    "from itertools import product\n",
    "from itertools import combinations\n",
    "from itertools import chain\n",
    "from functools import lru_cache\n",
    "from scipy.special import comb\n",
    "from numba import njit\n",
    "from bisect import bisect_right\n",
    "from bisect import bisect_left"
   ]
  },
  {
   "cell_type": "code",
   "execution_count": 47,
   "id": "af2aae37-e045-4e67-b437-384995216284",
   "metadata": {},
   "outputs": [],
   "source": [
    "sys.setrecursionlimit(10**7)"
   ]
  },
  {
   "cell_type": "code",
   "execution_count": 1,
   "id": "38c35587-c5a5-4154-abfc-848797bdb17f",
   "metadata": {},
   "outputs": [
    {
     "name": "stdin",
     "output_type": "stream",
     "text": [
      " 4 5\n"
     ]
    }
   ],
   "source": [
    "N, M = map(int, input().split())"
   ]
  },
  {
   "cell_type": "code",
   "execution_count": 2,
   "id": "d5184a84-e801-4ef8-a82f-c438a18f8a97",
   "metadata": {},
   "outputs": [
    {
     "name": "stdin",
     "output_type": "stream",
     "text": [
      " 1 2\n",
      " 3 4\n",
      " 1 3\n",
      " 2 3\n",
      " 1 4\n"
     ]
    }
   ],
   "source": [
    "AB = []\n",
    "for _ in range(M):\n",
    "    A, B = map(int, input().split())\n",
    "    AB.append((A-1, B-1))"
   ]
  },
  {
   "cell_type": "code",
   "execution_count": 7,
   "id": "07478b9c-df14-4b33-8385-94f11f08e9d7",
   "metadata": {},
   "outputs": [],
   "source": [
    "from collections import defaultdict\n",
    "class UnionFind():\n",
    "    # イニシャライザ\n",
    "    def __init__(self, n):\n",
    "        self.n = n  # 頂点の数\n",
    "        self.parents = [-1] * n  # 親の頂点。根は -1\n",
    "        self.size = [1] * n  # 各頂点の所属する木の頂点数\n",
    "        \n",
    "    # 根を返す\n",
    "    def root(self, x):\n",
    "        if self.parents[x] < 0: # 根なのでそのまま返す\n",
    "            return x\n",
    "        else:\n",
    "            self.parents[x] = self.root(self.parents[x])  # 経路圧縮\n",
    "            return self.parents[x]\n",
    "        \n",
    "    # x, y が同じ木に属するか\n",
    "    def issame(self, x, y):\n",
    "        return self.root(x) == self.root(y)\n",
    "    \n",
    "    # x y を併合する    \n",
    "    def unite(self, x, y):\n",
    "        x = self.root(x)\n",
    "        y = self.root(y)\n",
    "        \n",
    "        # 元々同じ木に所属するので、何もせずリターン\n",
    "        if x == y:\n",
    "            return False\n",
    "        \n",
    "        # 大きいほうにまとめる。 y を x にまとめるようにスワップ\n",
    "        if self.parents[x] < self.parents[y]:\n",
    "            x, y = y, x\n",
    "        # 小さいほうの親を大きいほうを親に\n",
    "        self.parents[y] = x\n",
    "        # 大きいほうの頂点に小さいほうの数を加算\n",
    "        self.size[x] += self.size[y]\n",
    "        return\n",
    "    \n",
    "    # x の所属する頂点数を返す\n",
    "    def getsize(self, x):\n",
    "        return self.size[self.root(x)]"
   ]
  },
  {
   "cell_type": "code",
   "execution_count": 4,
   "id": "650122cc-1e42-4cd2-a866-ad4180410904",
   "metadata": {},
   "outputs": [
    {
     "data": {
      "text/plain": [
       "[(0, 3), (1, 2), (0, 2), (2, 3), (0, 1)]"
      ]
     },
     "execution_count": 4,
     "metadata": {},
     "output_type": "execute_result"
    }
   ],
   "source": [
    "AB[::-1]"
   ]
  },
  {
   "cell_type": "code",
   "execution_count": 43,
   "id": "52a0b135-4c39-4fe6-b52f-e930dc1dcb2b",
   "metadata": {},
   "outputs": [
    {
     "name": "stdout",
     "output_type": "stream",
     "text": [
      "0 3 10 2\n",
      "1 1\n",
      "1 2 8 2\n",
      "1 1\n",
      "0 2 0 8\n",
      "2 2\n"
     ]
    }
   ],
   "source": [
    "ans = [N*(N-1), ]\n",
    "uf = UnionFind(N)\n",
    "cnt = N * (N-1)\n",
    "for A, B in AB[::-1]:\n",
    "    if uf.root(A) == uf.root(B):\n",
    "        ans.append(cnt)\n",
    "        continue\n",
    "    aa = uf.getsize(A)\n",
    "    ab = uf.getsize(B)\n",
    "    uf.unite(A, B)\n",
    "    ac = uf.getsize(A)\n",
    "    t = ac * (ac-1) - aa * (aa-1) - ab * (ab-1)\n",
    "    cnt -= t\n",
    "    ans.append(cnt)"
   ]
  },
  {
   "cell_type": "code",
   "execution_count": 44,
   "id": "3b91e7d3-bdce-430b-a0f1-c4c68b86316d",
   "metadata": {},
   "outputs": [
    {
     "name": "stdout",
     "output_type": "stream",
     "text": [
      "0\n",
      "0\n",
      "4\n",
      "5\n",
      "6\n"
     ]
    }
   ],
   "source": [
    "ans_r = ans[::-1]\n",
    "for a in ans_r[1:]:\n",
    "    print(a//2)"
   ]
  },
  {
   "cell_type": "code",
   "execution_count": 12,
   "id": "00ec7f6c-16da-4f21-be57-d50b0d5b0c03",
   "metadata": {},
   "outputs": [
    {
     "data": {
      "text/plain": [
       "4"
      ]
     },
     "execution_count": 12,
     "metadata": {},
     "output_type": "execute_result"
    }
   ],
   "source": [
    "uf.getsize(1)"
   ]
  },
  {
   "cell_type": "code",
   "execution_count": 27,
   "id": "596442d6-31f7-49e5-be6c-0a86dbac16ff",
   "metadata": {},
   "outputs": [
    {
     "data": {
      "text/plain": [
       "([12, 10, 8, 0, 0, 0], [0, 0, 0, 8, 10, 12])"
      ]
     },
     "execution_count": 27,
     "metadata": {},
     "output_type": "execute_result"
    }
   ],
   "source": [
    "ans, ans_r"
   ]
  },
  {
   "cell_type": "code",
   "execution_count": 19,
   "id": "09dc06fc-4bf5-4f3c-a741-a9351a4d0a0e",
   "metadata": {},
   "outputs": [],
   "source": [
    "ans = [N*(N-1), ]\n",
    "uf = UnionFind(N)\n",
    "for A, B in AB[::-1]:\n",
    "    uf.unite(A, B)\n",
    "    cnt = 0\n",
    "    for i in range(N):\n",
    "        cnt += N - uf.getsize(i)\n",
    "    ans.append(cnt)"
   ]
  },
  {
   "cell_type": "code",
   "execution_count": null,
   "id": "50470c1c-b1bc-4e63-a682-3560d5868b7e",
   "metadata": {},
   "outputs": [],
   "source": []
  }
 ],
 "metadata": {
  "kernelspec": {
   "display_name": "Python 3",
   "language": "python",
   "name": "python3"
  },
  "language_info": {
   "codemirror_mode": {
    "name": "ipython",
    "version": 3
   },
   "file_extension": ".py",
   "mimetype": "text/x-python",
   "name": "python",
   "nbconvert_exporter": "python",
   "pygments_lexer": "ipython3",
   "version": "3.6.13"
  }
 },
 "nbformat": 4,
 "nbformat_minor": 5
}
