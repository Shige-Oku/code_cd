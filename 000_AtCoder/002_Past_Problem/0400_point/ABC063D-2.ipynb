{
 "cells": [
  {
   "cell_type": "code",
   "execution_count": null,
   "id": "dfac7b4c-d96b-494c-bac1-9ca56fe7f908",
   "metadata": {},
   "outputs": [],
   "source": [
    "# 解説を読んで実装"
   ]
  },
  {
   "cell_type": "code",
   "execution_count": 1,
   "id": "a83fefcc-9918-4a0c-81d2-e4ad53c56d99",
   "metadata": {},
   "outputs": [],
   "source": [
    "import sys\n",
    "import numpy as np\n",
    "import math\n",
    "import collections\n",
    "import copy\n",
    "import decimal\n",
    "import itertools\n",
    "import re\n",
    "import bisect\n",
    "import scipy\n",
    "import heapq\n",
    "from collections import deque \n",
    "from functools import reduce\n",
    "from itertools import product\n",
    "from itertools import combinations\n",
    "from itertools import chain\n",
    "from functools import lru_cache\n",
    "from scipy.special import comb\n",
    "from numba import njit\n",
    "from bisect import bisect_right\n",
    "from bisect import bisect_left"
   ]
  },
  {
   "cell_type": "code",
   "execution_count": 27,
   "id": "18403e09-2250-49ac-b185-649df29d1500",
   "metadata": {},
   "outputs": [
    {
     "name": "stdin",
     "output_type": "stream",
     "text": [
      " 2 10 4\n"
     ]
    }
   ],
   "source": [
    "N, A, B = map(int, input().split())"
   ]
  },
  {
   "cell_type": "code",
   "execution_count": 28,
   "id": "ba847142-5c47-40b5-bbaa-31b7f4449609",
   "metadata": {},
   "outputs": [
    {
     "name": "stdin",
     "output_type": "stream",
     "text": [
      " 20\n",
      " 20\n"
     ]
    }
   ],
   "source": [
    "Hn = [int(input()) for _ in range(N)]"
   ]
  },
  {
   "cell_type": "code",
   "execution_count": 29,
   "id": "c19d4f7d-648d-49ed-bfd1-ec0f60717416",
   "metadata": {},
   "outputs": [],
   "source": [
    "# Hn_s = sorted(Hn)"
   ]
  },
  {
   "cell_type": "code",
   "execution_count": 73,
   "id": "04f48938-e7b8-4fe6-8a26-4654005375d7",
   "metadata": {},
   "outputs": [],
   "source": [
    "def check(n):\n",
    "    all_damage = B * n\n",
    "    add_damage = 0\n",
    "    for H in Hn:\n",
    "        if H <= all_damage:\n",
    "            continue\n",
    "        add_damage += math.ceil(((H - all_damage) / (A - B)))\n",
    "    if add_damage > n:\n",
    "        return False\n",
    "    else:\n",
    "        return True"
   ]
  },
  {
   "cell_type": "code",
   "execution_count": 74,
   "id": "1bdb54d3-de0c-4b96-9f1b-6b0b6d09b051",
   "metadata": {},
   "outputs": [],
   "source": [
    "def my_bisect(n):\n",
    "    r = n\n",
    "    l = 0\n",
    "    while l + 1 < r:\n",
    "        m = (r + l) // 2\n",
    "        if check(m):\n",
    "            r = m\n",
    "        else:\n",
    "            l = m\n",
    "#         print(l, r)\n",
    "    return r"
   ]
  },
  {
   "cell_type": "code",
   "execution_count": 75,
   "id": "f77bf87a-fd4c-4b98-a969-ee8a88bfb0c0",
   "metadata": {},
   "outputs": [
    {
     "name": "stdout",
     "output_type": "stream",
     "text": [
      "4\n"
     ]
    }
   ],
   "source": [
    "print(my_bisect(10**20))"
   ]
  },
  {
   "cell_type": "code",
   "execution_count": 53,
   "id": "7c57a66c-e9cb-46b8-9ca1-b74f51fac690",
   "metadata": {},
   "outputs": [],
   "source": [
    "def check(n):\n",
    "    all_damage = 0\n",
    "    add_damage = [0] * N\n",
    "    mi = 0\n",
    "    for i in range(n):\n",
    "        all_damage += B\n",
    "        while mi < N:\n",
    "#             print(Hn_s[mi], all_damage, add_damage[mi])\n",
    "            if Hn_s[mi] > all_damage + add_damage[mi]:\n",
    "                break\n",
    "            mi += 1\n",
    "        if mi >= N:\n",
    "#             print('i:{0}, mi:{1}'.format(i, mi))\n",
    "            return True\n",
    "        add_damage[mi] += A - B\n",
    "    return False"
   ]
  },
  {
   "cell_type": "code",
   "execution_count": null,
   "id": "42688542-ad84-439b-b544-bd1045a6abda",
   "metadata": {},
   "outputs": [],
   "source": []
  }
 ],
 "metadata": {
  "kernelspec": {
   "display_name": "Python 3",
   "language": "python",
   "name": "python3"
  },
  "language_info": {
   "codemirror_mode": {
    "name": "ipython",
    "version": 3
   },
   "file_extension": ".py",
   "mimetype": "text/x-python",
   "name": "python",
   "nbconvert_exporter": "python",
   "pygments_lexer": "ipython3",
   "version": "3.6.13"
  }
 },
 "nbformat": 4,
 "nbformat_minor": 5
}
