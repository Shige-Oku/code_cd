{
 "cells": [
  {
   "cell_type": "code",
   "execution_count": 1,
   "id": "37ea0036-4e29-442c-893f-6c17e58f471e",
   "metadata": {},
   "outputs": [],
   "source": [
    "import sys\n",
    "import numpy as np\n",
    "import math\n",
    "import collections\n",
    "import copy\n",
    "import decimal\n",
    "import itertools\n",
    "import re\n",
    "import bisect\n",
    "import scipy\n",
    "import heapq\n",
    "from collections import deque \n",
    "from functools import reduce\n",
    "from itertools import product\n",
    "from itertools import combinations\n",
    "from itertools import chain\n",
    "from functools import lru_cache\n",
    "from scipy.special import comb\n",
    "from numba import njit\n",
    "from bisect import bisect_right\n",
    "from bisect import bisect_left"
   ]
  },
  {
   "cell_type": "code",
   "execution_count": 105,
   "id": "68300512-e060-4a14-9afb-4b76c54401db",
   "metadata": {},
   "outputs": [
    {
     "name": "stdin",
     "output_type": "stream",
     "text": [
      " 8 1\n"
     ]
    }
   ],
   "source": [
    "N, A = map(int, input().split())"
   ]
  },
  {
   "cell_type": "code",
   "execution_count": 106,
   "id": "01387ddd-83e5-47a8-8ec0-d6f5e4bfd906",
   "metadata": {},
   "outputs": [
    {
     "name": "stdin",
     "output_type": "stream",
     "text": [
      " 1\n"
     ]
    }
   ],
   "source": [
    "K = int(input())"
   ]
  },
  {
   "cell_type": "code",
   "execution_count": 107,
   "id": "21974ecc-6ef6-4d80-9dd7-e3a1281c843b",
   "metadata": {},
   "outputs": [
    {
     "name": "stdin",
     "output_type": "stream",
     "text": [
      " 2 3 4 5 3 2 4 5\n"
     ]
    }
   ],
   "source": [
    "Bn = list(map(int, input().split()))"
   ]
  },
  {
   "cell_type": "code",
   "execution_count": 108,
   "id": "818137a8-9343-4b8c-a62b-806527146f6f",
   "metadata": {},
   "outputs": [],
   "source": [
    "root = {}\n",
    "i = 1\n",
    "ne = A\n",
    "e = 0\n",
    "root[A] = 0\n",
    "while True:\n",
    "    if Bn[ne-1] in root:\n",
    "        s = root[Bn[ne-1]]\n",
    "        break\n",
    "    root[Bn[ne-1]] = i\n",
    "    e = i\n",
    "    i += 1\n",
    "    ne = Bn[ne-1]"
   ]
  },
  {
   "cell_type": "code",
   "execution_count": 111,
   "id": "d115f829-9af5-47e9-a02e-3f5b206debb7",
   "metadata": {},
   "outputs": [
    {
     "name": "stdout",
     "output_type": "stream",
     "text": [
      "2\n"
     ]
    }
   ],
   "source": [
    "m = (K-(s-1)) % (e-s+1)\n",
    "if m == 0 and s <= K:\n",
    "    val = e\n",
    "elif A < s:\n",
    "    val = K\n",
    "else:\n",
    "    val = s + m - 1\n",
    "for k, v in root.items():\n",
    "    if v == val:\n",
    "        print(k)\n",
    "        break"
   ]
  },
  {
   "cell_type": "code",
   "execution_count": 110,
   "id": "a8a6150e-8a7f-4ee5-810e-086f3caeb876",
   "metadata": {},
   "outputs": [
    {
     "name": "stdout",
     "output_type": "stream",
     "text": [
      "2\n"
     ]
    }
   ],
   "source": [
    "m = (K-(s-1)) % (e-s+1)\n",
    "if m == 0 and s <= K:\n",
    "    val = e\n",
    "    ans = 0\n",
    "    for k, v in root.items():\n",
    "        if v == val:\n",
    "            print(k)\n",
    "            break\n",
    "else:\n",
    "    ans = 0\n",
    "    if A < s:\n",
    "        val = K\n",
    "    else:\n",
    "        val = s + m - 1\n",
    "    for k, v in root.items():\n",
    "        if v == val:\n",
    "            print(k)\n",
    "            break"
   ]
  },
  {
   "cell_type": "code",
   "execution_count": null,
   "id": "cce9361d-4395-432e-a182-c052776d9abc",
   "metadata": {},
   "outputs": [],
   "source": [
    "# WA"
   ]
  },
  {
   "cell_type": "code",
   "execution_count": 109,
   "id": "aa6d760a-a08b-4eb6-b352-95e38bc01f31",
   "metadata": {},
   "outputs": [
    {
     "name": "stdout",
     "output_type": "stream",
     "text": [
      "2\n"
     ]
    }
   ],
   "source": [
    "m = (K-(s-1)) % (e-s+1)\n",
    "if m == 0 and s <= K:\n",
    "    val = e\n",
    "elif K < s:\n",
    "    val = K\n",
    "elif s <= 1:\n",
    "    val = s + m - 1\n",
    "else:\n",
    "    val = (e - s) + m - 1\n",
    "\n",
    "ans = 0\n",
    "for k, v in root.items():\n",
    "    if v == val:\n",
    "        print(k)\n",
    "        break\n"
   ]
  },
  {
   "cell_type": "code",
   "execution_count": 101,
   "id": "3a358f84-1bf2-41a3-8756-43da353f0df5",
   "metadata": {},
   "outputs": [
    {
     "data": {
      "text/plain": [
       "({1: 0, 2: 1, 3: 2, 4: 3}, 0, 3, 1, 3)"
      ]
     },
     "execution_count": 101,
     "metadata": {},
     "output_type": "execute_result"
    }
   ],
   "source": [
    "root, s, e, m, val"
   ]
  },
  {
   "cell_type": "code",
   "execution_count": null,
   "id": "92ec40b0-0066-457d-bff5-5f65e09b45d2",
   "metadata": {},
   "outputs": [],
   "source": []
  }
 ],
 "metadata": {
  "kernelspec": {
   "display_name": "Python 3",
   "language": "python",
   "name": "python3"
  },
  "language_info": {
   "codemirror_mode": {
    "name": "ipython",
    "version": 3
   },
   "file_extension": ".py",
   "mimetype": "text/x-python",
   "name": "python",
   "nbconvert_exporter": "python",
   "pygments_lexer": "ipython3",
   "version": "3.6.13"
  }
 },
 "nbformat": 4,
 "nbformat_minor": 5
}
