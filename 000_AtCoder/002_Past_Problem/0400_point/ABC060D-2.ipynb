{
 "cells": [
  {
   "cell_type": "code",
   "execution_count": null,
   "id": "6860b6c6-d72b-4825-af30-3ca2b70330d2",
   "metadata": {},
   "outputs": [],
   "source": [
    "# 解説を読んで実装"
   ]
  },
  {
   "cell_type": "code",
   "execution_count": 1,
   "id": "64166365-6f8b-4865-8b61-c5154f998948",
   "metadata": {},
   "outputs": [],
   "source": [
    "import sys\n",
    "import numpy as np\n",
    "import math\n",
    "import collections\n",
    "import copy\n",
    "import decimal\n",
    "import itertools\n",
    "import re\n",
    "import bisect\n",
    "import scipy\n",
    "import heapq\n",
    "from collections import deque \n",
    "from functools import reduce\n",
    "from itertools import product\n",
    "from itertools import combinations\n",
    "from itertools import chain\n",
    "from functools import lru_cache\n",
    "from scipy.special import comb\n",
    "from numba import njit\n",
    "from bisect import bisect_right\n",
    "from bisect import bisect_left"
   ]
  },
  {
   "cell_type": "code",
   "execution_count": 50,
   "id": "47584824-d142-4f0d-a599-ad12865ca262",
   "metadata": {},
   "outputs": [
    {
     "name": "stdin",
     "output_type": "stream",
     "text": [
      " 4 6\n"
     ]
    }
   ],
   "source": [
    "N, W = map(int, input().split())"
   ]
  },
  {
   "cell_type": "code",
   "execution_count": 3,
   "id": "172dfd9c-6991-410e-a0bc-5cd9cab1ad56",
   "metadata": {},
   "outputs": [
    {
     "name": "stdin",
     "output_type": "stream",
     "text": [
      " 2 1\n",
      " 3 4\n",
      " 4 10\n",
      " 3 4\n"
     ]
    }
   ],
   "source": [
    "WV = [list(map(int, input().split())) for _ in range(N)]"
   ]
  },
  {
   "cell_type": "code",
   "execution_count": 58,
   "id": "89a973de-6b4c-45ab-858a-4ccb4fa1d573",
   "metadata": {},
   "outputs": [],
   "source": [
    "WV0 = []\n",
    "WV1 = []\n",
    "WV2 = []\n",
    "WV3 = []\n",
    "we0, we1, we2, we3 = 0, 0, 0, 0\n",
    "for w, V in WV:\n",
    "    if w - WV[0][0] == 0:\n",
    "        WV0.append(V)\n",
    "        we0 = w\n",
    "    elif w - WV[0][0] == 1:\n",
    "        WV1.append(V)  \n",
    "        we1 = w\n",
    "    elif w - WV[0][0] == 2:\n",
    "        WV2.append(V) \n",
    "        we2 = w\n",
    "    else:\n",
    "        WV3.append(V)\n",
    "        we3 = w\n",
    "WV0.sort(reverse=True)\n",
    "WV1.sort(reverse=True)\n",
    "WV2.sort(reverse=True)\n",
    "WV3.sort(reverse=True)\n",
    "WV0.insert(0, 0)\n",
    "WV1.insert(0, 0)\n",
    "WV2.insert(0, 0)\n",
    "WV3.insert(0, 0)\n"
   ]
  },
  {
   "cell_type": "code",
   "execution_count": 61,
   "id": "39a1f7e9-aa16-4ebe-8798-0f64149fcef7",
   "metadata": {},
   "outputs": [],
   "source": [
    "ans = 0\n",
    "v0 = 0\n",
    "for i in range(len(WV0)):\n",
    "    if i * we0 > W:\n",
    "        break\n",
    "    v0 += WV0[i]\n",
    "    v1 = 0\n",
    "    for j in range(len(WV1)):\n",
    "        if i * we0 + j * we1 > W:\n",
    "            break\n",
    "        v1 += WV1[j]\n",
    "        v2 = 0\n",
    "        for k in range(len(WV2)):\n",
    "            if i * we0 + j * we1 + k * we2 > W:\n",
    "                break\n",
    "            v2 += WV2[k]\n",
    "            v3 = 0\n",
    "            for l in range(len(WV3)):\n",
    "                if i * we0 + j * we1 + k * we2 + l * we3 > W:\n",
    "                    break\n",
    "                v3 += WV3[l]\n",
    "                ans = max(ans, v0+v1+v2+v3)\n"
   ]
  },
  {
   "cell_type": "code",
   "execution_count": 62,
   "id": "5c5f5372-d758-4c7b-9fd9-bb19d9b6779b",
   "metadata": {},
   "outputs": [
    {
     "name": "stdout",
     "output_type": "stream",
     "text": [
      "11\n"
     ]
    }
   ],
   "source": [
    "print(ans)"
   ]
  },
  {
   "cell_type": "code",
   "execution_count": null,
   "id": "8fc15961-fd9e-4ed8-b8d7-59fa99412858",
   "metadata": {},
   "outputs": [],
   "source": [
    "# 以下はNG"
   ]
  },
  {
   "cell_type": "code",
   "execution_count": 17,
   "id": "ad18a250-4a42-4189-8ce2-7d74f9da8808",
   "metadata": {},
   "outputs": [
    {
     "name": "stdout",
     "output_type": "stream",
     "text": [
      "0\n",
      "0 0 0 0 0\n",
      "10\n",
      "0\n",
      "1 1 0 0 0\n",
      "10\n"
     ]
    }
   ],
   "source": [
    "ans = 0\n",
    "w0 = 0\n",
    "for V0 in WV0:\n",
    "    if V0 != 0:\n",
    "        w0 += we0\n",
    "    if w0 > W:\n",
    "        break\n",
    "    w1 = 0\n",
    "    for V1 in WV1:\n",
    "#         print(V1)\n",
    "        v1 += V1\n",
    "        if v0 + v1 > W:\n",
    "            break\n",
    "        v2 = 0\n",
    "        for V2 in WV2:\n",
    "            print(V2)\n",
    "            v2 += V2\n",
    "            if v0 + v1 + v2 > W:\n",
    "                break\n",
    "            v3 = 0\n",
    "            for V3 in WV3:\n",
    "                v3 += V3\n",
    "                if v0 + v1 + v2 + v3 > W:\n",
    "                    break\n",
    "                ans = max(ans, v0+v1+v2+v3)\n",
    "                print(ans, v0, v1, v2, v3)"
   ]
  },
  {
   "cell_type": "code",
   "execution_count": 10,
   "id": "88335011-1cf4-41ab-a492-434f5718147c",
   "metadata": {},
   "outputs": [
    {
     "name": "stdout",
     "output_type": "stream",
     "text": [
      "1\n"
     ]
    }
   ],
   "source": [
    "print(ans)"
   ]
  },
  {
   "cell_type": "code",
   "execution_count": 56,
   "id": "e6cc9bcc-28c4-4187-b440-57ad6832a50f",
   "metadata": {},
   "outputs": [
    {
     "data": {
      "text/plain": [
       "([0], [0], [0], [0, 10, 4, 4, 1])"
      ]
     },
     "execution_count": 56,
     "metadata": {},
     "output_type": "execute_result"
    }
   ],
   "source": [
    "WV0, WV1, WV2, WV3"
   ]
  },
  {
   "cell_type": "code",
   "execution_count": null,
   "id": "3b5cf53a-f0ed-46b1-a22b-c61a6c39d37f",
   "metadata": {},
   "outputs": [],
   "source": []
  }
 ],
 "metadata": {
  "kernelspec": {
   "display_name": "Python 3",
   "language": "python",
   "name": "python3"
  },
  "language_info": {
   "codemirror_mode": {
    "name": "ipython",
    "version": 3
   },
   "file_extension": ".py",
   "mimetype": "text/x-python",
   "name": "python",
   "nbconvert_exporter": "python",
   "pygments_lexer": "ipython3",
   "version": "3.6.13"
  }
 },
 "nbformat": 4,
 "nbformat_minor": 5
}
