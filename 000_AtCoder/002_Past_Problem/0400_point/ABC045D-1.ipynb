{
 "cells": [
  {
   "cell_type": "code",
   "execution_count": null,
   "id": "0d194770-3caa-442c-8baf-8cac229292f0",
   "metadata": {},
   "outputs": [],
   "source": [
    "# RE メモリ不足"
   ]
  },
  {
   "cell_type": "code",
   "execution_count": 1,
   "id": "3751afc1-4b1f-4b69-b248-b90ac5bb3d94",
   "metadata": {},
   "outputs": [],
   "source": [
    "import sys\n",
    "import numpy as np\n",
    "import math\n",
    "import collections\n",
    "import copy\n",
    "import decimal\n",
    "import itertools\n",
    "import re\n",
    "import bisect\n",
    "import scipy\n",
    "import heapq\n",
    "from collections import deque \n",
    "from functools import reduce\n",
    "from itertools import product\n",
    "from itertools import combinations\n",
    "from itertools import chain\n",
    "from functools import lru_cache\n",
    "from scipy.special import comb\n",
    "from numba import njit\n",
    "from bisect import bisect_right\n",
    "from bisect import bisect_left"
   ]
  },
  {
   "cell_type": "code",
   "execution_count": 2,
   "id": "fc145e89-f98d-4b2e-86a0-4482ca2a4c2e",
   "metadata": {},
   "outputs": [
    {
     "name": "stdin",
     "output_type": "stream",
     "text": [
      " 4 5 8\n"
     ]
    }
   ],
   "source": [
    "H, W, N = map(int, input().split())"
   ]
  },
  {
   "cell_type": "code",
   "execution_count": 3,
   "id": "7e871779-25b0-477a-be3d-c82786a6cdd3",
   "metadata": {},
   "outputs": [
    {
     "name": "stdin",
     "output_type": "stream",
     "text": [
      " 1 1\n",
      " 1 4\n",
      " 1 5\n",
      " 2 3\n",
      " 3 1\n",
      " 3 2\n",
      " 3 4\n",
      " 4 4\n"
     ]
    }
   ],
   "source": [
    "AB = [list(map(int, input().split())) for _ in range(N)]"
   ]
  },
  {
   "cell_type": "code",
   "execution_count": 73,
   "id": "d58368a0-2481-45a1-9333-dd18d007925a",
   "metadata": {},
   "outputs": [],
   "source": [
    "AB_c = [[0] * (W+2) for _ in range(H+2)]\n",
    "for A, B in AB:\n",
    "    AB_c[A][B] += 1\n",
    "AB_cum = [[0] * (W+2) for _ in range(H+2)]\n",
    "for i in range(H):\n",
    "    for j in range(W):\n",
    "        AB_cum[i+1][j+1] = AB_cum[i+1][j] + AB_cum[i][j+1] - AB_cum[i][j] + AB_c[i+1][j+1]\n",
    " "
   ]
  },
  {
   "cell_type": "code",
   "execution_count": 74,
   "id": "dbe663c9-6874-444e-b3f8-94e409b6dd7a",
   "metadata": {},
   "outputs": [
    {
     "name": "stdout",
     "output_type": "stream",
     "text": [
      "4 0 0 0 4\n",
      "6 0 2 0 4\n",
      "7 0 3 0 4\n",
      "4 1 0 0 3\n",
      "7 2 2 1 4\n",
      "8 3 3 1 3\n"
     ]
    }
   ],
   "source": [
    "ans = [0] * 10\n",
    "for i in range(3, H+1):\n",
    "    for j in range(3, W+1):\n",
    "        idx = AB_cum[i][j] - AB_cum[i-3][j] - AB_cum[i][j-3] + AB_cum[i-3][j-3]\n",
    "        ans[idx] += 1\n",
    "#         print(AB_cum[i][j], AB_cum[i-3][j], AB_cum[i][j-3], AB_cum[i-3][j-3], idx)"
   ]
  },
  {
   "cell_type": "code",
   "execution_count": 78,
   "id": "3d47161d-ea9a-4ab1-a63d-e60d04a53a53",
   "metadata": {},
   "outputs": [
    {
     "name": "stdout",
     "output_type": "stream",
     "text": [
      "0\n",
      "0\n",
      "0\n",
      "2\n",
      "4\n",
      "0\n",
      "0\n",
      "0\n",
      "0\n",
      "0\n"
     ]
    }
   ],
   "source": [
    "for a in ans:\n",
    "    print(a)"
   ]
  },
  {
   "cell_type": "code",
   "execution_count": 75,
   "id": "fd18e18c-422c-4c76-9262-28e29eda3d1b",
   "metadata": {},
   "outputs": [
    {
     "data": {
      "text/plain": [
       "([[0, 0, 0, 0, 0, 0, 0],\n",
       "  [0, 1, 0, 0, 1, 1, 0],\n",
       "  [0, 0, 0, 1, 0, 0, 0],\n",
       "  [0, 1, 1, 0, 1, 0, 0],\n",
       "  [0, 0, 0, 0, 1, 0, 0],\n",
       "  [0, 0, 0, 0, 0, 0, 0]],\n",
       " [[0, 0, 0, 0, 0, 0, 0],\n",
       "  [0, 1, 1, 1, 2, 3, 0],\n",
       "  [0, 1, 1, 2, 3, 4, 0],\n",
       "  [0, 2, 3, 4, 6, 7, 0],\n",
       "  [0, 2, 3, 4, 7, 8, 0],\n",
       "  [0, 0, 0, 0, 0, 0, 0]])"
      ]
     },
     "execution_count": 75,
     "metadata": {},
     "output_type": "execute_result"
    }
   ],
   "source": [
    "AB_c, AB_cum"
   ]
  },
  {
   "cell_type": "code",
   "execution_count": 76,
   "id": "492819ca-936d-46b6-8c62-8c21bf49cd9b",
   "metadata": {},
   "outputs": [],
   "source": [
    "AB_cum[1][1] = AB_cum[1][0] + AB_cum[0][1] - AB_cum[i][j] + AB_c[0][0]"
   ]
  },
  {
   "cell_type": "code",
   "execution_count": 77,
   "id": "fa9938fb-869d-487d-95f8-595701bb5609",
   "metadata": {},
   "outputs": [
    {
     "data": {
      "text/plain": [
       "[0, 0, 0, 2, 4, 0, 0, 0, 0, 0]"
      ]
     },
     "execution_count": 77,
     "metadata": {},
     "output_type": "execute_result"
    }
   ],
   "source": [
    "ans"
   ]
  },
  {
   "cell_type": "code",
   "execution_count": null,
   "id": "8a92fba7-f4a0-485f-9b41-94cda41a4326",
   "metadata": {},
   "outputs": [],
   "source": []
  }
 ],
 "metadata": {
  "kernelspec": {
   "display_name": "Python 3",
   "language": "python",
   "name": "python3"
  },
  "language_info": {
   "codemirror_mode": {
    "name": "ipython",
    "version": 3
   },
   "file_extension": ".py",
   "mimetype": "text/x-python",
   "name": "python",
   "nbconvert_exporter": "python",
   "pygments_lexer": "ipython3",
   "version": "3.6.13"
  }
 },
 "nbformat": 4,
 "nbformat_minor": 5
}
