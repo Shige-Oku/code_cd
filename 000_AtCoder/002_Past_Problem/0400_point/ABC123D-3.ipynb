{
 "cells": [
  {
   "cell_type": "code",
   "execution_count": null,
   "id": "106751c5-1445-437a-b356-fcf50cdfba67",
   "metadata": {},
   "outputs": [],
   "source": [
    "# 解説を読んで実装"
   ]
  },
  {
   "cell_type": "code",
   "execution_count": 1,
   "id": "38687717-98d0-433c-b5b3-7346da2857b9",
   "metadata": {},
   "outputs": [],
   "source": [
    "import sys\n",
    "import numpy as np\n",
    "import math\n",
    "import collections\n",
    "import copy\n",
    "import decimal\n",
    "import itertools\n",
    "import re\n",
    "import bisect\n",
    "import scipy\n",
    "import heapq\n",
    "from collections import deque \n",
    "from functools import reduce\n",
    "from itertools import product\n",
    "from itertools import combinations\n",
    "from itertools import chain\n",
    "from functools import lru_cache\n",
    "from scipy.special import comb\n",
    "from numba import njit\n",
    "from bisect import bisect_right\n",
    "from bisect import bisect_left"
   ]
  },
  {
   "cell_type": "code",
   "execution_count": 17,
   "id": "7cb0df2e-84b2-405e-93b3-bc2e417d8973",
   "metadata": {},
   "outputs": [
    {
     "name": "stdin",
     "output_type": "stream",
     "text": [
      " 10 10 10 20\n"
     ]
    }
   ],
   "source": [
    "X, Y, Z, K = map(int, input().split())"
   ]
  },
  {
   "cell_type": "code",
   "execution_count": 18,
   "id": "c9625bfd-59f0-4dbd-8545-c15258cab737",
   "metadata": {},
   "outputs": [
    {
     "name": "stdin",
     "output_type": "stream",
     "text": [
      " 7467038376 5724769290 292794712 2843504496 3381970101 8402252870 249131806 6310293640 6690322794 6082257488\n"
     ]
    }
   ],
   "source": [
    "An = list(map(int, input().split()))"
   ]
  },
  {
   "cell_type": "code",
   "execution_count": 19,
   "id": "626f120b-2f10-46ad-917a-1d794b203e1d",
   "metadata": {},
   "outputs": [
    {
     "name": "stdin",
     "output_type": "stream",
     "text": [
      " 1873977926 2576529623 1144842195 1379118507 6003234687 4925540914 3902539811 3326692703 484657758 2877436338\n"
     ]
    }
   ],
   "source": [
    "Bn = list(map(int, input().split()))"
   ]
  },
  {
   "cell_type": "code",
   "execution_count": 20,
   "id": "5c11a631-cbe6-4a8f-a140-3cbdfc01c8e3",
   "metadata": {},
   "outputs": [
    {
     "name": "stdin",
     "output_type": "stream",
     "text": [
      " 4975681328 8974383988 2882263257 7690203955 514305523 6679823484 4263279310 585966808 3752282379 620585736\n"
     ]
    }
   ],
   "source": [
    "Cn = list(map(int, input().split()))"
   ]
  },
  {
   "cell_type": "code",
   "execution_count": 21,
   "id": "b7854a81-9bcb-44fb-aa70-f4edb74bdf85",
   "metadata": {},
   "outputs": [],
   "source": [
    "AB = []\n",
    "for A in An:\n",
    "    for B in Bn:\n",
    "        AB.append(A+B)\n",
    "AB.sort(reverse=True)\n",
    "ABC = []\n",
    "for ab in AB[:K]:\n",
    "    for c in Cn:\n",
    "        ABC.append(ab+c)\n",
    "ABC.sort(reverse=True)"
   ]
  },
  {
   "cell_type": "code",
   "execution_count": 22,
   "id": "8f34f783-9e7e-4d82-a3bc-dd44aa622a19",
   "metadata": {},
   "outputs": [
    {
     "name": "stdout",
     "output_type": "stream",
     "text": [
      "23379871545\n",
      "22444657051\n",
      "22302177772\n",
      "22095691512\n",
      "21667941469\n",
      "21366963278\n",
      "21287912315\n",
      "21279176669\n",
      "21160477018\n",
      "21085311041\n",
      "21059876163\n",
      "21017997739\n",
      "20703329561\n",
      "20702387965\n",
      "20590247696\n",
      "20383761436\n",
      "20343962175\n",
      "20254073196\n",
      "20210218542\n",
      "20150096547\n"
     ]
    }
   ],
   "source": [
    "for abc in ABC[:K]:\n",
    "    print(abc)"
   ]
  },
  {
   "cell_type": "code",
   "execution_count": 6,
   "id": "39bf5b10-914c-4bf0-9feb-22e653c8566b",
   "metadata": {},
   "outputs": [],
   "source": [
    "An_s = sorted(An, reverse=True)\n",
    "Bn_s = sorted(Bn, reverse=True)\n",
    "Cn_s = sorted(Cn, reverse=True)"
   ]
  },
  {
   "cell_type": "code",
   "execution_count": null,
   "id": "1a7cf4a3-2efc-4927-98f0-ec9c4db2a5cb",
   "metadata": {},
   "outputs": [],
   "source": []
  }
 ],
 "metadata": {
  "kernelspec": {
   "display_name": "Python 3",
   "language": "python",
   "name": "python3"
  },
  "language_info": {
   "codemirror_mode": {
    "name": "ipython",
    "version": 3
   },
   "file_extension": ".py",
   "mimetype": "text/x-python",
   "name": "python",
   "nbconvert_exporter": "python",
   "pygments_lexer": "ipython3",
   "version": "3.6.13"
  }
 },
 "nbformat": 4,
 "nbformat_minor": 5
}
