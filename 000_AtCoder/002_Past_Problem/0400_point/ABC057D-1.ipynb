{
 "cells": [
  {
   "cell_type": "code",
   "execution_count": 1,
   "id": "902bd44d-1814-40c2-a770-51df69698757",
   "metadata": {},
   "outputs": [],
   "source": [
    "import sys\n",
    "import numpy as np\n",
    "import math\n",
    "import collections\n",
    "import copy\n",
    "import decimal\n",
    "import itertools\n",
    "import re\n",
    "import bisect\n",
    "import scipy\n",
    "import heapq\n",
    "from collections import deque \n",
    "from functools import reduce\n",
    "from itertools import product\n",
    "from itertools import combinations\n",
    "from itertools import chain\n",
    "from functools import lru_cache\n",
    "from scipy.special import comb\n",
    "from numba import njit\n",
    "from bisect import bisect_right\n",
    "from bisect import bisect_left"
   ]
  },
  {
   "cell_type": "code",
   "execution_count": 100,
   "id": "5bc69d4d-34ad-4929-8b1f-e7facc62a398",
   "metadata": {},
   "outputs": [
    {
     "name": "stdin",
     "output_type": "stream",
     "text": [
      " 50 7 33\n"
     ]
    }
   ],
   "source": [
    "N, A, B = map(int, input().split())"
   ]
  },
  {
   "cell_type": "code",
   "execution_count": 101,
   "id": "8ee2bbdb-8ed4-4479-9d08-26060b2ff62f",
   "metadata": {},
   "outputs": [
    {
     "name": "stdin",
     "output_type": "stream",
     "text": [
      " 149775503363101 149775503363101 149775503363101 40712089233593 149775503363101 149775503363101 149775503363101 85890813525898 149775503363101 11456876976834 149775503363101 149775503363101 149775503363101 149775503363101 73337863937668 149775503363101 149775503363101 149775503363101 149775503363101 149775503363101 149775503363101 27660809791439 130865012042841 149775503363101 115576447823282 149775503363101 149775503363101 149775503363101 149775503363101 149775503363101 149775503363101 11475541696974 32595122551503 149775503363101 149775503363101 149775503363101 35516142486721 149775503363101 149775503363101 149775503363101 149775503363101 19187379078071 22658997282517 149775503363101 149775503363101 149775503363101 87110006431565 149775503363101 149775503363101 113288552605468\n"
     ]
    }
   ],
   "source": [
    "Vn = list(map(int, input().split()))"
   ]
  },
  {
   "cell_type": "code",
   "execution_count": 102,
   "id": "77fb7146-b614-454f-b441-8c092844fc2d",
   "metadata": {},
   "outputs": [],
   "source": [
    "Vn_s = sorted(Vn, reverse=True)\n",
    "mi = Vn_s[A-1]\n",
    "mi_cnt1 = Vn_s.count(mi)\n",
    "mi_cnt2 = Vn_s[:A].count(mi)\n",
    "fact = [0] * 51\n",
    "fact[0] = 1\n",
    "for i in range(1, 51):\n",
    "    fact[i] = fact[i-1] * i\n"
   ]
  },
  {
   "cell_type": "code",
   "execution_count": 116,
   "id": "0d4e1b9e-ab2c-4a6e-9824-63d4bc062b60",
   "metadata": {},
   "outputs": [],
   "source": [
    "comb = 0\n",
    "if mi_cnt2 == A:\n",
    "    for i in range(mi_cnt2, min(mi_cnt1+1, B+1)):\n",
    "        comb += fact[mi_cnt1] / (fact[mi_cnt1-i] * fact[i])\n",
    "else:\n",
    "    comb += fact[mi_cnt1] / (fact[mi_cnt1-mi_cnt2] * fact[mi_cnt2])"
   ]
  },
  {
   "cell_type": "code",
   "execution_count": 117,
   "id": "0f25dbd6-2ab5-4907-b3eb-50ec6ce2bb4d",
   "metadata": {},
   "outputs": [
    {
     "name": "stdout",
     "output_type": "stream",
     "text": [
      "149775503363101.0\n",
      "68717084573\n"
     ]
    }
   ],
   "source": [
    "print(sum(Vn_s[:A])/A)\n",
    "print(int(comb))"
   ]
  },
  {
   "cell_type": "code",
   "execution_count": 105,
   "id": "1dad0406-69c3-4987-bf05-0d191ab1f0e6",
   "metadata": {},
   "outputs": [
    {
     "data": {
      "text/plain": [
       "(149775503363101, 36, 7)"
      ]
     },
     "execution_count": 105,
     "metadata": {},
     "output_type": "execute_result"
    }
   ],
   "source": [
    "mi, mi_cnt1, mi_cnt2"
   ]
  },
  {
   "cell_type": "code",
   "execution_count": 6,
   "id": "b5cac868-5a52-4fcb-9a12-21b2becdf121",
   "metadata": {},
   "outputs": [],
   "source": [
    "a = [1, 1, 2, 3, 1]"
   ]
  },
  {
   "cell_type": "code",
   "execution_count": 8,
   "id": "9c7e03f1-5ada-4ba6-b4c9-f8270b67533b",
   "metadata": {},
   "outputs": [
    {
     "data": {
      "text/plain": [
       "2"
      ]
     },
     "execution_count": 8,
     "metadata": {},
     "output_type": "execute_result"
    }
   ],
   "source": [
    "a[:3].count(1)"
   ]
  },
  {
   "cell_type": "code",
   "execution_count": 106,
   "id": "65556061-1715-4609-b73c-279fc6e5364c",
   "metadata": {},
   "outputs": [
    {
     "data": {
      "text/plain": [
       "[149775503363101,\n",
       " 149775503363101,\n",
       " 149775503363101,\n",
       " 149775503363101,\n",
       " 149775503363101,\n",
       " 149775503363101,\n",
       " 149775503363101]"
      ]
     },
     "execution_count": 106,
     "metadata": {},
     "output_type": "execute_result"
    }
   ],
   "source": [
    "Vn_s[:A]"
   ]
  },
  {
   "cell_type": "code",
   "execution_count": 12,
   "id": "51ef57b2-ebaf-4f3f-aa3b-674191541dea",
   "metadata": {},
   "outputs": [
    {
     "name": "stdout",
     "output_type": "stream",
     "text": [
      "4.5\n"
     ]
    }
   ],
   "source": [
    "print(sum(Vn_s[:A])/A)"
   ]
  },
  {
   "cell_type": "code",
   "execution_count": 112,
   "id": "84e11099-35cc-4de6-8356-8bdc4f41d95f",
   "metadata": {},
   "outputs": [
    {
     "data": {
      "text/plain": [
       "[295232799039604140847618609643520000000,\n",
       " 10333147966386144929666651337523200000000,\n",
       " 371993326789901217467999448150835200000000]"
      ]
     },
     "execution_count": 112,
     "metadata": {},
     "output_type": "execute_result"
    }
   ],
   "source": [
    "fact[34:37]"
   ]
  },
  {
   "cell_type": "code",
   "execution_count": 109,
   "id": "bf5d0dab-e095-49cc-9ef9-05c0fe21e01d",
   "metadata": {},
   "outputs": [
    {
     "data": {
      "text/plain": [
       "-666"
      ]
     },
     "execution_count": 109,
     "metadata": {},
     "output_type": "execute_result"
    }
   ],
   "source": [
    "68717084573-68717085239"
   ]
  },
  {
   "cell_type": "code",
   "execution_count": null,
   "id": "5e2f5202-11b0-43f0-ae50-a30ac302c0aa",
   "metadata": {},
   "outputs": [],
   "source": []
  }
 ],
 "metadata": {
  "kernelspec": {
   "display_name": "Python 3",
   "language": "python",
   "name": "python3"
  },
  "language_info": {
   "codemirror_mode": {
    "name": "ipython",
    "version": 3
   },
   "file_extension": ".py",
   "mimetype": "text/x-python",
   "name": "python",
   "nbconvert_exporter": "python",
   "pygments_lexer": "ipython3",
   "version": "3.6.13"
  }
 },
 "nbformat": 4,
 "nbformat_minor": 5
}
