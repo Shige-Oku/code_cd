{
 "cells": [
  {
   "cell_type": "code",
   "execution_count": null,
   "metadata": {},
   "outputs": [],
   "source": [
    "# TLE"
   ]
  },
  {
   "cell_type": "code",
   "execution_count": 1,
   "metadata": {},
   "outputs": [],
   "source": [
    "import sys\n",
    "import numpy as np\n",
    "import math\n",
    "import collections\n",
    "import copy\n",
    "import decimal\n",
    "import itertools\n",
    "import re\n",
    "import bisect\n",
    "import scipy\n",
    "import heapq\n",
    "from collections import deque \n",
    "from functools import reduce\n",
    "from itertools import product\n",
    "from itertools import combinations\n",
    "from functools import lru_cache\n",
    "from scipy.special import comb\n",
    "from numba import njit\n",
    "from bisect import bisect_right\n",
    "from bisect import bisect_left"
   ]
  },
  {
   "cell_type": "code",
   "execution_count": null,
   "metadata": {},
   "outputs": [],
   "source": [
    "sys.setrecursionlimit(10**8)"
   ]
  },
  {
   "cell_type": "code",
   "execution_count": 21,
   "metadata": {},
   "outputs": [
    {
     "name": "stdin",
     "output_type": "stream",
     "text": [
      " 10 9 3\n"
     ]
    }
   ],
   "source": [
    "N, M, K = map(int, input().split())"
   ]
  },
  {
   "cell_type": "code",
   "execution_count": 22,
   "metadata": {},
   "outputs": [
    {
     "name": "stdin",
     "output_type": "stream",
     "text": [
      " 10 1\n",
      " 6 7\n",
      " 8 2\n",
      " 2 5\n",
      " 8 4\n",
      " 7 3\n",
      " 10 9\n",
      " 6 4\n",
      " 5 8\n"
     ]
    }
   ],
   "source": [
    "AB = [list(map(int, input().split())) for _ in range(M)]"
   ]
  },
  {
   "cell_type": "code",
   "execution_count": 23,
   "metadata": {},
   "outputs": [
    {
     "name": "stdin",
     "output_type": "stream",
     "text": [
      " 2 6\n",
      " 7 5\n",
      " 3 1\n"
     ]
    }
   ],
   "source": [
    "CD = [list(map(int, input().split())) for _ in range(K)]"
   ]
  },
  {
   "cell_type": "code",
   "execution_count": 57,
   "metadata": {},
   "outputs": [],
   "source": [
    "def DFS(o, p, cand):\n",
    "    ret = 1\n",
    "    visit[p] = True\n",
    "#     cand.add(p)\n",
    "    for f in friends[p]:\n",
    "        if visit[f]:\n",
    "            continue\n",
    "        ret += DFS(o, f, cand)\n",
    "        if f in friends[o]:\n",
    "            continue\n",
    "        if f in blocks[o]:\n",
    "            continue\n",
    "        cand.add(f)\n",
    "    return ret"
   ]
  },
  {
   "cell_type": "code",
   "execution_count": 58,
   "metadata": {},
   "outputs": [],
   "source": [
    "friends = [[] for _ in range(N)]\n",
    "for A, B in AB:\n",
    "    friends[A-1].append(B-1)\n",
    "    friends[B-1].append(A-1)\n",
    "blocks =  [[] for _ in range(N)]\n",
    "for C, D in CD:\n",
    "    blocks[C-1].append(D-1)\n",
    "    blocks[D-1].append(C-1)"
   ]
  },
  {
   "cell_type": "code",
   "execution_count": 59,
   "metadata": {},
   "outputs": [],
   "source": [
    "link = [-1] * N\n",
    "cand = [set() for _ in range(N)]\n",
    "for i in range(N):\n",
    "    visit = [False] * N\n",
    "    link[i] = DFS(i, i, cand[i])\n",
    "#     for f in cand[i]:\n",
    "#         visit[f] = True\n",
    "#         cand[f] = cand[i]"
   ]
  },
  {
   "cell_type": "code",
   "execution_count": 66,
   "metadata": {},
   "outputs": [
    {
     "name": "stdout",
     "output_type": "stream",
     "text": [
      "1 3 5 4 3 3 3 3 1 0 "
     ]
    }
   ],
   "source": [
    "for i in range(N):\n",
    "    print(len(cand[i]), end=' ')"
   ]
  },
  {
   "cell_type": "code",
   "execution_count": 62,
   "metadata": {},
   "outputs": [],
   "source": [
    "ans = [0] * N\n",
    "bcnt = [0] * N\n",
    "for i in range(N):\n",
    "    link[i] -= len(friends[i]) + 1\n",
    "    for b in cand[i]:\n",
    "        if b in blocks[i]:\n",
    "            bcnt[i] += 1\n",
    "    ans[i] = link[i] - bcnt[i]    "
   ]
  },
  {
   "cell_type": "code",
   "execution_count": null,
   "metadata": {},
   "outputs": [],
   "source": [
    "# TLE"
   ]
  },
  {
   "cell_type": "code",
   "execution_count": 47,
   "metadata": {},
   "outputs": [],
   "source": [
    "ans = [0] * N\n",
    "bcnt = [0] * N\n",
    "for i in range(N):\n",
    "    ca = set()\n",
    "    for f in cand[i]:\n",
    "        if f == i:\n",
    "            continue\n",
    "        if f in friends[i]:\n",
    "            continue\n",
    "        ca.add(f)\n",
    "    for b in ca:\n",
    "        if b in blocks[i]:\n",
    "            bcnt[i] += 1\n",
    "    ans[i] = len(ca) - bcnt[i]"
   ]
  },
  {
   "cell_type": "code",
   "execution_count": 63,
   "metadata": {},
   "outputs": [
    {
     "name": "stdout",
     "output_type": "stream",
     "text": [
      "1 4 5 4 4 4 4 3 1 0\n"
     ]
    }
   ],
   "source": [
    "print(*ans)"
   ]
  },
  {
   "cell_type": "code",
   "execution_count": 64,
   "metadata": {},
   "outputs": [
    {
     "data": {
      "text/plain": [
       "([1, 4, 5, 4, 4, 4, 4, 3, 1, 0],\n",
       " [{8},\n",
       "  {2, 3, 6},\n",
       "  {1, 3, 4, 5, 7},\n",
       "  {1, 2, 4, 6},\n",
       "  {2, 3, 5},\n",
       "  {2, 4, 7},\n",
       "  {1, 3, 7},\n",
       "  {2, 5, 6},\n",
       "  {0},\n",
       "  set()])"
      ]
     },
     "execution_count": 64,
     "metadata": {},
     "output_type": "execute_result"
    }
   ],
   "source": [
    "link, cand"
   ]
  },
  {
   "cell_type": "code",
   "execution_count": 65,
   "metadata": {},
   "outputs": [
    {
     "data": {
      "text/plain": [
       "[0, 0, 0, 0, 0, 0, 0, 0, 0, 0]"
      ]
     },
     "execution_count": 65,
     "metadata": {},
     "output_type": "execute_result"
    }
   ],
   "source": [
    "bcnt"
   ]
  },
  {
   "cell_type": "code",
   "execution_count": null,
   "metadata": {},
   "outputs": [],
   "source": []
  }
 ],
 "metadata": {
  "kernelspec": {
   "display_name": "Python 3",
   "language": "python",
   "name": "python3"
  },
  "language_info": {
   "codemirror_mode": {
    "name": "ipython",
    "version": 3
   },
   "file_extension": ".py",
   "mimetype": "text/x-python",
   "name": "python",
   "nbconvert_exporter": "python",
   "pygments_lexer": "ipython3",
   "version": "3.6.10"
  }
 },
 "nbformat": 4,
 "nbformat_minor": 4
}
