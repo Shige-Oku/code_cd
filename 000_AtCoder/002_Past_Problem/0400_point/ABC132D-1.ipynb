{
 "cells": [
  {
   "cell_type": "code",
   "execution_count": null,
   "id": "1e950409-a610-4ea1-8caf-3f4d6a2c71ef",
   "metadata": {},
   "outputs": [],
   "source": [
    "# 解説を読んで実装"
   ]
  },
  {
   "cell_type": "code",
   "execution_count": 3,
   "id": "15a0c0eb-977a-4820-9c2f-9baa6d7a775e",
   "metadata": {},
   "outputs": [],
   "source": [
    "import sys\n",
    "import numpy as np\n",
    "import math\n",
    "import collections\n",
    "import copy\n",
    "import decimal\n",
    "import itertools\n",
    "import re\n",
    "import bisect\n",
    "import scipy\n",
    "import heapq\n",
    "from collections import deque \n",
    "from functools import reduce\n",
    "from itertools import product\n",
    "from itertools import combinations\n",
    "from itertools import chain\n",
    "from functools import lru_cache\n",
    "from scipy.special import comb\n",
    "from numba import njit\n",
    "from bisect import bisect_right\n",
    "from bisect import bisect_left"
   ]
  },
  {
   "cell_type": "code",
   "execution_count": 26,
   "id": "3acad48b-6348-49ab-b63d-5a999eebf89b",
   "metadata": {},
   "outputs": [
    {
     "name": "stdin",
     "output_type": "stream",
     "text": [
      " 2000 3\n"
     ]
    }
   ],
   "source": [
    "N, K = map(int, input().split())"
   ]
  },
  {
   "cell_type": "code",
   "execution_count": 21,
   "id": "725d5f22-e58b-4e14-8bb0-8003fb2013d2",
   "metadata": {},
   "outputs": [],
   "source": [
    "def modinv(x, mod):\n",
    "    return pow(x, mod-2, mod)"
   ]
  },
  {
   "cell_type": "code",
   "execution_count": 22,
   "id": "3c17e4a6-2503-45a3-bf04-c9f9cb8ba321",
   "metadata": {},
   "outputs": [],
   "source": [
    "def binomial_coefficients(n, k, mod):\n",
    "    ret = 1\n",
    "    for i in range(k):\n",
    "        ret *= n-i\n",
    "        ret *= modinv_table[i + 1]\n",
    "        ret %= mod\n",
    "    return ret"
   ]
  },
  {
   "cell_type": "code",
   "execution_count": 27,
   "id": "2e97e834-86a1-49eb-97df-22de277241e8",
   "metadata": {},
   "outputs": [],
   "source": [
    "mod = 10**9+7\n",
    "modinv_table = [-1] * (N+1)\n",
    "for i in range(1, N+1):\n",
    "    modinv_table[i] = modinv(i, mod)"
   ]
  },
  {
   "cell_type": "code",
   "execution_count": 28,
   "id": "216b78da-c0c6-4793-9701-70195cb2dbd1",
   "metadata": {},
   "outputs": [
    {
     "name": "stdout",
     "output_type": "stream",
     "text": [
      "1998\n",
      "3990006\n",
      "327341989\n"
     ]
    }
   ],
   "source": [
    "for i in range(1, K+1):\n",
    "    print(binomial_coefficients(N-K+1, i, mod) * binomial_coefficients(K-1, i-1, mod) % mod)"
   ]
  },
  {
   "cell_type": "code",
   "execution_count": 11,
   "id": "2980ac15-93f1-4517-8acf-3738ce0e562f",
   "metadata": {},
   "outputs": [
    {
     "data": {
      "text/plain": [
       "1"
      ]
     },
     "execution_count": 11,
     "metadata": {},
     "output_type": "execute_result"
    }
   ],
   "source": [
    "binomial_coefficients(3, 0, mod)"
   ]
  },
  {
   "cell_type": "code",
   "execution_count": null,
   "id": "4b02cd79-5122-4b23-9f8b-e1185ed6ca1c",
   "metadata": {},
   "outputs": [],
   "source": []
  }
 ],
 "metadata": {
  "kernelspec": {
   "display_name": "Python 3",
   "language": "python",
   "name": "python3"
  },
  "language_info": {
   "codemirror_mode": {
    "name": "ipython",
    "version": 3
   },
   "file_extension": ".py",
   "mimetype": "text/x-python",
   "name": "python",
   "nbconvert_exporter": "python",
   "pygments_lexer": "ipython3",
   "version": "3.6.13"
  }
 },
 "nbformat": 4,
 "nbformat_minor": 5
}
