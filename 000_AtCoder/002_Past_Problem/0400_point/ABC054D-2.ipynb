{
 "cells": [
  {
   "cell_type": "code",
   "execution_count": null,
   "id": "a33e643f-8e64-45bd-ba47-e96ee7446af5",
   "metadata": {},
   "outputs": [],
   "source": [
    "# 解説を読んで実装"
   ]
  },
  {
   "cell_type": "code",
   "execution_count": 1,
   "id": "d18239e1-f019-4e64-a3d4-1801885b75ac",
   "metadata": {},
   "outputs": [],
   "source": [
    "import sys\n",
    "import numpy as np\n",
    "import math\n",
    "import collections\n",
    "import copy\n",
    "import decimal\n",
    "import itertools\n",
    "import re\n",
    "import bisect\n",
    "import scipy\n",
    "import heapq\n",
    "from collections import deque \n",
    "from functools import reduce\n",
    "from itertools import product\n",
    "from itertools import combinations\n",
    "from itertools import chain\n",
    "from functools import lru_cache\n",
    "from scipy.special import comb\n",
    "from numba import njit\n",
    "from bisect import bisect_right\n",
    "from bisect import bisect_left"
   ]
  },
  {
   "cell_type": "code",
   "execution_count": 27,
   "id": "0d7bf3d5-e974-44b7-af95-3d1dcc1c72d3",
   "metadata": {},
   "outputs": [
    {
     "name": "stdin",
     "output_type": "stream",
     "text": [
      " 13 7 6\n"
     ]
    }
   ],
   "source": [
    "N, Ma, Mb = map(int, input().split())"
   ]
  },
  {
   "cell_type": "code",
   "execution_count": 28,
   "id": "9186ce95-2ae5-4047-ade7-aba8bcd1ecea",
   "metadata": {},
   "outputs": [
    {
     "name": "stdin",
     "output_type": "stream",
     "text": [
      " 2 2 68\n",
      " 3 5 92\n",
      " 4 10 94\n",
      " 8 4 12\n",
      " 9 10 43\n",
      " 1 1 92\n",
      " 10 7 7\n",
      " 5 7 17\n",
      " 8 10 86\n",
      " 4 3 20\n",
      " 6 1 58\n",
      " 9 3 2\n",
      " 4 2 25\n"
     ]
    }
   ],
   "source": [
    "ABC = [list(map(int, input().split())) for _ in range(N)]"
   ]
  },
  {
   "cell_type": "code",
   "execution_count": 49,
   "id": "762a5cf7-850e-4bdb-aab7-5d9fe5151fe7",
   "metadata": {},
   "outputs": [],
   "source": [
    "dp = []\n",
    "for _ in range(N+1):\n",
    "    l1 = [[10**10] * (40*10+1) for _ in range(40*10+1)]\n",
    "    dp.append(l1)\n",
    "dp[0][0][0] = 0\n",
    "for i in range(1, N+1):\n",
    "    a, b, c = ABC[i-1]\n",
    "    for j in range(40*10+1):\n",
    "        for k in range(40*10+1):\n",
    "            if dp[i-1][j][k] == 10**10:\n",
    "                continue\n",
    "            dp[i][j][k] = min(dp[i][j][k], dp[i-1][j][k])\n",
    "            dp[i][j+a][k+b] = min(dp[i][j+a][k+b], dp[i-1][j][k]+c)"
   ]
  },
  {
   "cell_type": "code",
   "execution_count": 54,
   "id": "4d0b783e-85f0-4ed8-bd8a-670313600f49",
   "metadata": {},
   "outputs": [
    {
     "name": "stdout",
     "output_type": "stream",
     "text": [
      "-1\n"
     ]
    }
   ],
   "source": [
    "ans = 10**10\n",
    "for i in range(1, N+1):\n",
    "    for j in range(1, 40*10+1):\n",
    "        for k in range(1, 40*10+1):\n",
    "            if j * Mb == k * Ma:\n",
    "                ans = min(ans, dp[i][j][k])\n",
    "if ans == 10**10:\n",
    "    print('-1')\n",
    "else:\n",
    "    print(ans)\n"
   ]
  },
  {
   "cell_type": "code",
   "execution_count": null,
   "id": "e33e220c-68f5-4a97-a9c8-00b2e0036e53",
   "metadata": {},
   "outputs": [],
   "source": [
    "# 薬品の数をループしているのは余分。最後のNだけ確認すればよい"
   ]
  },
  {
   "cell_type": "code",
   "execution_count": 54,
   "id": "87b5659e-3cec-4833-bba0-32373fdaab0a",
   "metadata": {},
   "outputs": [
    {
     "name": "stdout",
     "output_type": "stream",
     "text": [
      "-1\n"
     ]
    }
   ],
   "source": [
    "ans = 10**10\n",
    "for j in range(1, 40*10+1):\n",
    "    for k in range(1, 40*10+1):\n",
    "        if j * Mb == k * Ma:\n",
    "            ans = min(ans, dp[N][j][k])\n",
    "if ans == 10**10:\n",
    "    print('-1')\n",
    "else:\n",
    "    print(ans)\n"
   ]
  },
  {
   "cell_type": "code",
   "execution_count": 31,
   "id": "13e44017-b464-4725-936a-7f46f78cfd90",
   "metadata": {},
   "outputs": [],
   "source": [
    "# dp, len(dp)"
   ]
  },
  {
   "cell_type": "code",
   "execution_count": 58,
   "id": "bdaf7364-3c7b-4fa4-9c9a-d9ef145c6270",
   "metadata": {},
   "outputs": [
    {
     "data": {
      "text/plain": [
       "10000000000"
      ]
     },
     "execution_count": 58,
     "metadata": {},
     "output_type": "execute_result"
    }
   ],
   "source": [
    "dp[2][3][5]"
   ]
  },
  {
   "cell_type": "code",
   "execution_count": 61,
   "id": "8d80cbd9-99b6-4f1a-bfa0-12efefbfb5f6",
   "metadata": {},
   "outputs": [],
   "source": [
    "a = [[10**10] * (Mb+1) for _ in range(Ma+1)]"
   ]
  },
  {
   "cell_type": "code",
   "execution_count": 67,
   "id": "2dd15604-79b8-4a00-a344-cea725450c48",
   "metadata": {},
   "outputs": [
    {
     "data": {
      "text/plain": [
       "10000000000"
      ]
     },
     "execution_count": 67,
     "metadata": {},
     "output_type": "execute_result"
    }
   ],
   "source": [
    "a[0][0]"
   ]
  },
  {
   "cell_type": "code",
   "execution_count": null,
   "id": "26379083-4fe0-4afd-98c8-475096711b15",
   "metadata": {},
   "outputs": [],
   "source": []
  }
 ],
 "metadata": {
  "kernelspec": {
   "display_name": "Python 3",
   "language": "python",
   "name": "python3"
  },
  "language_info": {
   "codemirror_mode": {
    "name": "ipython",
    "version": 3
   },
   "file_extension": ".py",
   "mimetype": "text/x-python",
   "name": "python",
   "nbconvert_exporter": "python",
   "pygments_lexer": "ipython3",
   "version": "3.6.13"
  }
 },
 "nbformat": 4,
 "nbformat_minor": 5
}
