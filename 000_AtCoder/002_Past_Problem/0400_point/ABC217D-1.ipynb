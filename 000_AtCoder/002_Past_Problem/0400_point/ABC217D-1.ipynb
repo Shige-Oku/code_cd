{
 "cells": [
  {
   "cell_type": "code",
   "execution_count": null,
   "id": "e564bbbb-bad2-4b9c-b355-ed8313a9c8aa",
   "metadata": {},
   "outputs": [],
   "source": [
    "# List を array にしたら通ったが、想定開放でない。。。"
   ]
  },
  {
   "cell_type": "code",
   "execution_count": 9,
   "id": "7aa8a69b-ef52-4ef4-8907-b509bec811da",
   "metadata": {},
   "outputs": [],
   "source": [
    "import numpy as np\n",
    "import math\n",
    "import collections\n",
    "import copy\n",
    "import decimal\n",
    "import itertools\n",
    "import re\n",
    "import bisect\n",
    "import scipy\n",
    "import heapq\n",
    "import array\n",
    "from collections import deque \n",
    "from functools import reduce\n",
    "from itertools import product\n",
    "from itertools import combinations\n",
    "from itertools import chain\n",
    "from functools import lru_cache\n",
    "from scipy.special import comb\n",
    "from numba import njit\n",
    "from bisect import bisect_right\n",
    "from bisect import bisect_left"
   ]
  },
  {
   "cell_type": "code",
   "execution_count": 1,
   "id": "d7b39baa-2678-4e6d-bdb2-b0389cd50e95",
   "metadata": {},
   "outputs": [
    {
     "name": "stdin",
     "output_type": "stream",
     "text": [
      " 5 3\n"
     ]
    }
   ],
   "source": [
    "L, Q = map(int, input().split())"
   ]
  },
  {
   "cell_type": "code",
   "execution_count": 2,
   "id": "77243953-d0c1-4e69-b637-28c612f3ffa8",
   "metadata": {},
   "outputs": [
    {
     "name": "stdin",
     "output_type": "stream",
     "text": [
      " 2 2\n",
      " 1 3\n",
      " 2 2\n"
     ]
    }
   ],
   "source": [
    "CX = [list(map(int, input().split())) for _ in range(Q)]"
   ]
  },
  {
   "cell_type": "code",
   "execution_count": 12,
   "id": "cb67d089-673c-4d23-ba18-71bf62443071",
   "metadata": {},
   "outputs": [
    {
     "name": "stdout",
     "output_type": "stream",
     "text": [
      "5\n",
      "3\n"
     ]
    }
   ],
   "source": [
    "sep = array.array('i', [0, L])\n",
    "for C, X in CX:\n",
    "    idx = bisect.bisect_left(sep, X)\n",
    "    if C == 1:\n",
    "        sep.insert(idx, X)\n",
    "    else:\n",
    "        print(sep[idx]-sep[idx-1])\n",
    "        "
   ]
  },
  {
   "cell_type": "code",
   "execution_count": 6,
   "id": "0a04bc78-bb2c-4d31-9870-75748882b80c",
   "metadata": {},
   "outputs": [
    {
     "data": {
      "text/plain": [
       "[3]"
      ]
     },
     "execution_count": 6,
     "metadata": {},
     "output_type": "execute_result"
    }
   ],
   "source": [
    "sep"
   ]
  },
  {
   "cell_type": "code",
   "execution_count": 7,
   "id": "d9e94f91-e042-4315-adfc-85caa8e0d667",
   "metadata": {},
   "outputs": [
    {
     "name": "stdout",
     "output_type": "stream",
     "text": [
      "5\n",
      "3\n"
     ]
    }
   ],
   "source": [
    "sep = []\n",
    "for C, X in CX:\n",
    "    if C == 1:\n",
    "        idx = bisect_left(sep, X)\n",
    "        sep.insert(idx, X)\n",
    "    else:\n",
    "        if len(sep) == 0:\n",
    "            print(L)\n",
    "            continue\n",
    "        idx = bisect_left(sep, X)\n",
    "        if idx == len(sep):\n",
    "            print(L-sep[idx-1])\n",
    "        elif idx == 0:\n",
    "            print(sep[idx])\n",
    "        else:\n",
    "            print(sep[idx]-sep[idx-1])\n",
    "        "
   ]
  },
  {
   "cell_type": "code",
   "execution_count": null,
   "id": "21f2a6d1-cc64-4cec-8b19-77c281100a0a",
   "metadata": {},
   "outputs": [],
   "source": []
  }
 ],
 "metadata": {
  "kernelspec": {
   "display_name": "Python 3",
   "language": "python",
   "name": "python3"
  },
  "language_info": {
   "codemirror_mode": {
    "name": "ipython",
    "version": 3
   },
   "file_extension": ".py",
   "mimetype": "text/x-python",
   "name": "python",
   "nbconvert_exporter": "python",
   "pygments_lexer": "ipython3",
   "version": "3.6.13"
  }
 },
 "nbformat": 4,
 "nbformat_minor": 5
}
