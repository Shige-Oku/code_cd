{
 "cells": [
  {
   "cell_type": "code",
   "execution_count": 1,
   "metadata": {},
   "outputs": [],
   "source": [
    "import sys\n",
    "import numpy as np\n",
    "import math\n",
    "import collections\n",
    "import copy\n",
    "import decimal\n",
    "import itertools\n",
    "import re\n",
    "import bisect\n",
    "import scipy\n",
    "from collections import deque \n",
    "from functools import reduce\n",
    "from itertools import product\n",
    "from itertools import combinations\n",
    "from functools import lru_cache\n",
    "from scipy.special import comb\n",
    "from numba import njit\n",
    "from bisect import bisect_right\n",
    "from bisect import bisect_left"
   ]
  },
  {
   "cell_type": "code",
   "execution_count": 47,
   "metadata": {},
   "outputs": [
    {
     "name": "stdin",
     "output_type": "stream",
     "text": [
      " 15 1 3 15 13\n"
     ]
    }
   ],
   "source": [
    "N, A, B, C, D = map(int, input().split())"
   ]
  },
  {
   "cell_type": "code",
   "execution_count": 48,
   "metadata": {},
   "outputs": [
    {
     "name": "stdin",
     "output_type": "stream",
     "text": [
      " ...#.#...#.#...\n"
     ]
    }
   ],
   "source": [
    "S = input()"
   ]
  },
  {
   "cell_type": "code",
   "execution_count": 49,
   "metadata": {},
   "outputs": [],
   "source": [
    "if C < D:\n",
    "    s1, e1 = B, D\n",
    "    s2, e2 = A, C\n",
    "else:\n",
    "    s1, e1 = A, C\n",
    "    s2 ,e2 = B, D"
   ]
  },
  {
   "cell_type": "code",
   "execution_count": 53,
   "metadata": {},
   "outputs": [],
   "source": [
    "flg = True\n",
    "SS = \"#\" + S + \"##\"\n",
    "while s1 < e1:\n",
    "    if s1+1 == s2 or SS[s1+1] == \"#\":\n",
    "        pass\n",
    "    else:\n",
    "        s1 += 1\n",
    "        \n",
    "    if s1+2 <= e1:\n",
    "        if s1+2 == s2 or SS[s1+2] == \"#\":\n",
    "            pass\n",
    "        else:\n",
    "            s1 += 2\n",
    "            continue\n",
    "\n",
    "    if s2 + 1 <= e2 and SS[s2+1] == \".\":\n",
    "        s2 += 1\n",
    "        continue\n",
    "    \n",
    "    if s2 + 2 <= e2 and SS[s2+2] == \".\":\n",
    "        s2 += 2\n",
    "        continue\n",
    "    flg = False\n",
    "    break\n"
   ]
  },
  {
   "cell_type": "code",
   "execution_count": 54,
   "metadata": {},
   "outputs": [],
   "source": [
    "while s2 < e2:\n",
    "    if s2+2 <= e2 and SS[s2+2] == \".\":\n",
    "        s2 += 2\n",
    "        continue\n",
    "\n",
    "    if SS[s2+1] == \".\":\n",
    "        s2 += 1\n",
    "        continue\n",
    "    \n",
    "    flg = False\n",
    "    break\n",
    "    "
   ]
  },
  {
   "cell_type": "code",
   "execution_count": 55,
   "metadata": {},
   "outputs": [
    {
     "name": "stdout",
     "output_type": "stream",
     "text": [
      "Yes\n"
     ]
    }
   ],
   "source": [
    "if flg:\n",
    "    print(\"Yes\")\n",
    "else:\n",
    "    print(\"No\")"
   ]
  },
  {
   "cell_type": "code",
   "execution_count": 28,
   "metadata": {},
   "outputs": [
    {
     "data": {
      "text/plain": [
       "(2, 15, 13, 13, False)"
      ]
     },
     "execution_count": 28,
     "metadata": {},
     "output_type": "execute_result"
    }
   ],
   "source": [
    "s1, e1, s2, e2, flg"
   ]
  },
  {
   "cell_type": "code",
   "execution_count": null,
   "metadata": {},
   "outputs": [],
   "source": []
  },
  {
   "cell_type": "code",
   "execution_count": null,
   "metadata": {},
   "outputs": [],
   "source": []
  }
 ],
 "metadata": {
  "kernelspec": {
   "display_name": "Python 3",
   "language": "python",
   "name": "python3"
  },
  "language_info": {
   "codemirror_mode": {
    "name": "ipython",
    "version": 3
   },
   "file_extension": ".py",
   "mimetype": "text/x-python",
   "name": "python",
   "nbconvert_exporter": "python",
   "pygments_lexer": "ipython3",
   "version": "3.6.10"
  }
 },
 "nbformat": 4,
 "nbformat_minor": 4
}
