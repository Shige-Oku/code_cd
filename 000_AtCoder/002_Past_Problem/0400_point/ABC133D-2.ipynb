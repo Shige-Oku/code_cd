{
 "cells": [
  {
   "cell_type": "code",
   "execution_count": null,
   "id": "007f172c-dc44-429b-b100-89a16dc0f390",
   "metadata": {},
   "outputs": [],
   "source": [
    "# 解説を読んで実装"
   ]
  },
  {
   "cell_type": "code",
   "execution_count": 1,
   "id": "224a239b-014e-4db7-8f8a-abfb73a22f3f",
   "metadata": {},
   "outputs": [],
   "source": [
    "import sys\n",
    "import numpy as np\n",
    "import math\n",
    "import collections\n",
    "import copy\n",
    "import decimal\n",
    "import itertools\n",
    "import re\n",
    "import bisect\n",
    "import scipy\n",
    "import heapq\n",
    "from collections import deque \n",
    "from functools import reduce\n",
    "from itertools import product\n",
    "from itertools import combinations\n",
    "from itertools import chain\n",
    "from functools import lru_cache\n",
    "from scipy.special import comb\n",
    "from numba import njit\n",
    "from bisect import bisect_right\n",
    "from bisect import bisect_left"
   ]
  },
  {
   "cell_type": "code",
   "execution_count": 43,
   "id": "1c7aa085-8dad-4a34-9b19-239d0e4afc93",
   "metadata": {},
   "outputs": [
    {
     "name": "stdin",
     "output_type": "stream",
     "text": [
      " 5\n"
     ]
    }
   ],
   "source": [
    "N = int(input())"
   ]
  },
  {
   "cell_type": "code",
   "execution_count": 44,
   "id": "6e8ccd8a-7438-4a32-b821-12b8f38e9a4e",
   "metadata": {},
   "outputs": [
    {
     "name": "stdin",
     "output_type": "stream",
     "text": [
      " 3 8 7 5 5\n"
     ]
    }
   ],
   "source": [
    "An = list(map(int, input().split()))"
   ]
  },
  {
   "cell_type": "code",
   "execution_count": 45,
   "id": "d8f4d338-058d-48c7-9e3f-7dcd64cdca2c",
   "metadata": {},
   "outputs": [],
   "source": [
    "total = sum(An)\n",
    "X1 = total - 2 * sum(An[1:N-1:2])\n",
    "Xn = [0] * N\n",
    "Xn[0] = X1\n",
    "for i in range(1, N):\n",
    "    Xn[i] = (An[i-1] - Xn[i-1] // 2) * 2"
   ]
  },
  {
   "cell_type": "code",
   "execution_count": 46,
   "id": "548e7553-7826-498c-b5cf-ce378e5ca611",
   "metadata": {},
   "outputs": [
    {
     "name": "stdout",
     "output_type": "stream",
     "text": [
      "2 4 12 2 8\n"
     ]
    }
   ],
   "source": [
    "print(*Xn)"
   ]
  },
  {
   "cell_type": "code",
   "execution_count": 28,
   "id": "41db20a6-3914-461c-a608-0bcb77000ff9",
   "metadata": {},
   "outputs": [
    {
     "data": {
      "text/plain": [
       "(28, 2, [4, -2, 6])"
      ]
     },
     "execution_count": 28,
     "metadata": {},
     "output_type": "execute_result"
    }
   ],
   "source": [
    "total, X1, X"
   ]
  },
  {
   "cell_type": "code",
   "execution_count": 25,
   "id": "019c5927-6b8d-4b7c-b97f-d306869111ae",
   "metadata": {},
   "outputs": [
    {
     "data": {
      "text/plain": [
       "20"
      ]
     },
     "execution_count": 25,
     "metadata": {},
     "output_type": "execute_result"
    }
   ],
   "source": [
    "sum(An[1:N-1])"
   ]
  },
  {
   "cell_type": "code",
   "execution_count": null,
   "id": "92d3dcc4-b930-4c58-85a1-76d377b820e0",
   "metadata": {},
   "outputs": [],
   "source": []
  }
 ],
 "metadata": {
  "kernelspec": {
   "display_name": "Python 3",
   "language": "python",
   "name": "python3"
  },
  "language_info": {
   "codemirror_mode": {
    "name": "ipython",
    "version": 3
   },
   "file_extension": ".py",
   "mimetype": "text/x-python",
   "name": "python",
   "nbconvert_exporter": "python",
   "pygments_lexer": "ipython3",
   "version": "3.6.13"
  }
 },
 "nbformat": 4,
 "nbformat_minor": 5
}
