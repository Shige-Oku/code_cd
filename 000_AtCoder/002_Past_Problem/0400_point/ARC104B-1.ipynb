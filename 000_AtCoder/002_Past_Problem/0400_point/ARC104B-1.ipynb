{
 "cells": [
  {
   "cell_type": "code",
   "execution_count": null,
   "metadata": {},
   "outputs": [],
   "source": [
    "# TLE"
   ]
  },
  {
   "cell_type": "code",
   "execution_count": 3,
   "metadata": {},
   "outputs": [],
   "source": [
    "import sys\n",
    "import numpy as np\n",
    "import math\n",
    "import collections\n",
    "import copy\n",
    "import decimal\n",
    "import itertools\n",
    "import re\n",
    "import bisect\n",
    "import scipy\n",
    "from collections import deque \n",
    "from functools import reduce\n",
    "from itertools import product\n",
    "from itertools import combinations\n",
    "from functools import lru_cache\n",
    "from scipy.special import comb\n",
    "from numba import njit, i8"
   ]
  },
  {
   "cell_type": "code",
   "execution_count": 1,
   "metadata": {},
   "outputs": [
    {
     "name": "stdin",
     "output_type": "stream",
     "text": [
      " 10 AAATACCGCG\n"
     ]
    }
   ],
   "source": [
    "N, S = input().split()"
   ]
  },
  {
   "cell_type": "code",
   "execution_count": 4,
   "metadata": {},
   "outputs": [],
   "source": [
    "@njit(cache=True)\n",
    "def solve(N):\n",
    "    ans = 0\n",
    "    for i in range(int(N)-1):\n",
    "        A_cnt, G_cnt, C_cnt, T_cnt = 0, 0, 0, 0\n",
    "#     print(S[i:])\n",
    "        for s in S[i:]:\n",
    "#         print(s)\n",
    "            if s == 'A':\n",
    "                A_cnt += 1\n",
    "            if s == 'G':\n",
    "                G_cnt += 1\n",
    "            if s == 'C':\n",
    "                C_cnt += 1\n",
    "            if s == 'T':\n",
    "                T_cnt += 1\n",
    "            if (A_cnt == T_cnt) and (C_cnt == G_cnt):\n",
    "                ans += 1\n",
    "    return ans\n",
    "#     print(A_cnt, G_cnt, C_cnt, T_cnt)"
   ]
  },
  {
   "cell_type": "code",
   "execution_count": 5,
   "metadata": {},
   "outputs": [
    {
     "name": "stdout",
     "output_type": "stream",
     "text": [
      "6\n"
     ]
    }
   ],
   "source": [
    "print(solve(int(N)))"
   ]
  },
  {
   "cell_type": "code",
   "execution_count": 25,
   "metadata": {},
   "outputs": [
    {
     "data": {
      "text/plain": [
       "(0, 1, 1, 0)"
      ]
     },
     "execution_count": 25,
     "metadata": {},
     "output_type": "execute_result"
    }
   ],
   "source": [
    "A_cnt, G_cnt, C_cnt, T_cnt"
   ]
  },
  {
   "cell_type": "code",
   "execution_count": 33,
   "metadata": {},
   "outputs": [],
   "source": [
    "A = np.array(list(map('ATCG'.index, S)), np.int64)"
   ]
  },
  {
   "cell_type": "code",
   "execution_count": 34,
   "metadata": {},
   "outputs": [
    {
     "data": {
      "text/plain": [
       "array([0, 0, 0, 1, 0, 2, 2, 3, 2, 3], dtype=int64)"
      ]
     },
     "execution_count": 34,
     "metadata": {},
     "output_type": "execute_result"
    }
   ],
   "source": [
    "A"
   ]
  },
  {
   "cell_type": "code",
   "execution_count": 35,
   "metadata": {},
   "outputs": [
    {
     "data": {
      "text/plain": [
       "<function str.index>"
      ]
     },
     "execution_count": 35,
     "metadata": {},
     "output_type": "execute_result"
    }
   ],
   "source": [
    "'ATCG'.index"
   ]
  },
  {
   "cell_type": "code",
   "execution_count": 19,
   "metadata": {},
   "outputs": [],
   "source": [
    "ans = 0\n",
    "s = set()\n",
    "for i in range(int(N)-1):\n",
    "    for j in range(i+1, int(N), 2):\n",
    "        T = S[i:j+1]\n",
    "        if T in s:\n",
    "            ans += 1\n",
    "            continue\n",
    "        T_c = collections.Counter(T)\n",
    "        A_cnt = T_c.get('A', 0)\n",
    "        G_cnt = T_c.get('G', 0)\n",
    "        C_cnt = T_c.get('C', 0)\n",
    "        T_cnt = T_c.get('T', 0)\n",
    "        if A_cnt == T_cnt and G_cnt == C_cnt:\n",
    "            ans += 1\n",
    "            s.add(T)\n"
   ]
  },
  {
   "cell_type": "code",
   "execution_count": 20,
   "metadata": {},
   "outputs": [
    {
     "name": "stdout",
     "output_type": "stream",
     "text": [
      "6\n"
     ]
    }
   ],
   "source": [
    "print(ans)"
   ]
  },
  {
   "cell_type": "code",
   "execution_count": null,
   "metadata": {},
   "outputs": [],
   "source": [
    "ans = 0\n",
    "for i in range(0, int(N)-1, 2):\n",
    "    for j in range(i+1, int(N), 2):\n",
    "        T = S[i:j+1]\n",
    "        T_c = collections.Counter(T)\n",
    "        A_cnt = T_c.get('A', 0)\n",
    "        G_cnt = T_c.get('G', 0)\n",
    "        C_cnt = T_c.get('C', 0)\n",
    "        T_cnt = T_c.get('T', 0)\n",
    "        if A_cnt % + T_cnt == 1:\n",
    "            continue\n",
    "        if G_cnt + C_cnt == 1:\n",
    "            continue\n",
    "        ans += 1\n",
    "        print(T)\n",
    "        print(T_c)"
   ]
  },
  {
   "cell_type": "code",
   "execution_count": null,
   "metadata": {},
   "outputs": [],
   "source": []
  }
 ],
 "metadata": {
  "kernelspec": {
   "display_name": "Python 3",
   "language": "python",
   "name": "python3"
  },
  "language_info": {
   "codemirror_mode": {
    "name": "ipython",
    "version": 3
   },
   "file_extension": ".py",
   "mimetype": "text/x-python",
   "name": "python",
   "nbconvert_exporter": "python",
   "pygments_lexer": "ipython3",
   "version": "3.6.10"
  }
 },
 "nbformat": 4,
 "nbformat_minor": 4
}
