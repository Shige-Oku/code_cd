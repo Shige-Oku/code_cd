{
 "cells": [
  {
   "cell_type": "code",
   "execution_count": 1,
   "id": "ab617428-79f6-4ae5-8b15-ab3a973d8753",
   "metadata": {},
   "outputs": [],
   "source": [
    "import sys\n",
    "import numpy as np\n",
    "import math\n",
    "import collections\n",
    "import copy\n",
    "import decimal\n",
    "import itertools\n",
    "import re\n",
    "import bisect\n",
    "import scipy\n",
    "import heapq\n",
    "from collections import deque \n",
    "from functools import reduce\n",
    "from itertools import product\n",
    "from itertools import combinations\n",
    "from itertools import chain\n",
    "from functools import lru_cache\n",
    "from scipy.special import comb\n",
    "from numba import njit\n",
    "from bisect import bisect_right\n",
    "from bisect import bisect_left"
   ]
  },
  {
   "cell_type": "code",
   "execution_count": 17,
   "id": "fd4ea887-2a92-4124-8fd7-8f54c5b64cac",
   "metadata": {},
   "outputs": [
    {
     "name": "stdin",
     "output_type": "stream",
     "text": [
      " 2 10\n"
     ]
    }
   ],
   "source": [
    "N, M = map(int, input().split())"
   ]
  },
  {
   "cell_type": "code",
   "execution_count": 18,
   "id": "f34d18ab-f433-486e-a4be-cf5749a44bad",
   "metadata": {},
   "outputs": [
    {
     "name": "stdin",
     "output_type": "stream",
     "text": [
      " 3 5\n",
      " 2 6\n"
     ]
    }
   ],
   "source": [
    "AB = [list(map(int, input().split())) for _ in range(N)]"
   ]
  },
  {
   "cell_type": "code",
   "execution_count": 19,
   "id": "a45e0533-05e9-496d-b408-ab5baff62754",
   "metadata": {},
   "outputs": [],
   "source": [
    "AB2 = []\n",
    "for i, ab in enumerate(AB):\n",
    "    a, b = ab\n",
    "    AB2.append((a, b, i, math.ceil((M-b)/a)))\n",
    "AB_1s = sorted(AB2, reverse=True)\n",
    "AB_2s = sorted(AB2, reverse=True, key=lambda x:x[1])"
   ]
  },
  {
   "cell_type": "code",
   "execution_count": 20,
   "id": "1b4d6a20-1622-48f6-aee0-88f211287ffa",
   "metadata": {},
   "outputs": [],
   "source": [
    "ans = 0\n",
    "m = M\n",
    "for a, b, i, c in AB_2s:\n",
    "    if m <= 0:\n",
    "        break\n",
    "    if b <= AB_1s[0][0]:\n",
    "        break\n",
    "    m -= b\n",
    "    ans += 1"
   ]
  },
  {
   "cell_type": "code",
   "execution_count": null,
   "id": "cb80efaf-6480-4f22-82bc-b8d4bcf1d771",
   "metadata": {},
   "outputs": [],
   "source": [
    "if m <= 0:\n",
    "    print(ans)\n",
    "else:\n",
    "    print(ans+math.ceil(m / AB_1s[0][0]))\n"
   ]
  },
  {
   "cell_type": "code",
   "execution_count": null,
   "id": "f207afe7-ab28-4881-bd72-e9c1cd5a12ef",
   "metadata": {},
   "outputs": [],
   "source": [
    "# WA"
   ]
  },
  {
   "cell_type": "code",
   "execution_count": 20,
   "id": "7047361d-ef92-4a4f-a8e6-ef0ae5734b13",
   "metadata": {},
   "outputs": [],
   "source": [
    "ans = 0\n",
    "m = M\n",
    "for a, b, i, c in AB_2s:\n",
    "    if m <= 0:\n",
    "        break\n",
    "    if i == AB_1s[0][2]:\n",
    "        continue\n",
    "    if b <= AB_1s[0][0]:\n",
    "        break\n",
    "    m -= b\n",
    "    ans += 1"
   ]
  },
  {
   "cell_type": "code",
   "execution_count": 21,
   "id": "57b74433-e9f3-4159-abf9-f43b162c10f7",
   "metadata": {},
   "outputs": [
    {
     "name": "stdout",
     "output_type": "stream",
     "text": [
      "2\n"
     ]
    }
   ],
   "source": [
    "if m <= 0:\n",
    "    print(ans)\n",
    "else:\n",
    "    if AB_1s[0][0] >= AB_1s[0][1]:\n",
    "        print(ans+math.ceil(m / AB_1s[0][0]))\n",
    "    else:\n",
    "        print(ans+1+math.ceil(max(0, m-AB_1s[0][1]) / AB_1s[0][0]))"
   ]
  },
  {
   "cell_type": "code",
   "execution_count": 22,
   "id": "65daef0f-3e66-4a62-abd2-3231504bdead",
   "metadata": {},
   "outputs": [
    {
     "data": {
      "text/plain": [
       "([(3, 5, 0, 2), (2, 6, 1, 2)], [(2, 6, 1, 2), (3, 5, 0, 2)])"
      ]
     },
     "execution_count": 22,
     "metadata": {},
     "output_type": "execute_result"
    }
   ],
   "source": [
    "AB_1s, AB_2s"
   ]
  },
  {
   "cell_type": "code",
   "execution_count": 23,
   "id": "620818d5-0353-42b5-abab-c77fec685255",
   "metadata": {},
   "outputs": [
    {
     "data": {
      "text/plain": [
       "(1, 4)"
      ]
     },
     "execution_count": 23,
     "metadata": {},
     "output_type": "execute_result"
    }
   ],
   "source": [
    "ans, m"
   ]
  },
  {
   "cell_type": "code",
   "execution_count": null,
   "id": "b45c1f1b-2132-4079-9373-677df9f122c5",
   "metadata": {},
   "outputs": [],
   "source": []
  }
 ],
 "metadata": {
  "kernelspec": {
   "display_name": "Python 3",
   "language": "python",
   "name": "python3"
  },
  "language_info": {
   "codemirror_mode": {
    "name": "ipython",
    "version": 3
   },
   "file_extension": ".py",
   "mimetype": "text/x-python",
   "name": "python",
   "nbconvert_exporter": "python",
   "pygments_lexer": "ipython3",
   "version": "3.6.13"
  }
 },
 "nbformat": 4,
 "nbformat_minor": 5
}
