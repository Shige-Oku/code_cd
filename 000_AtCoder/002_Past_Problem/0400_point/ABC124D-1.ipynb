{
 "cells": [
  {
   "cell_type": "code",
   "execution_count": 1,
   "id": "36ff1c34-099a-450e-a7fd-bc8ca44a1793",
   "metadata": {},
   "outputs": [],
   "source": [
    "import sys\n",
    "import numpy as np\n",
    "import math\n",
    "import collections\n",
    "import copy\n",
    "import decimal\n",
    "import itertools\n",
    "import re\n",
    "import bisect\n",
    "import scipy\n",
    "import heapq\n",
    "from collections import deque \n",
    "from functools import reduce\n",
    "from itertools import product\n",
    "from itertools import combinations\n",
    "from itertools import chain\n",
    "from functools import lru_cache\n",
    "from scipy.special import comb\n",
    "from numba import njit\n",
    "from bisect import bisect_right\n",
    "from bisect import bisect_left"
   ]
  },
  {
   "cell_type": "code",
   "execution_count": 107,
   "id": "20a85404-3aff-4744-ae92-142646e07da9",
   "metadata": {},
   "outputs": [
    {
     "name": "stdin",
     "output_type": "stream",
     "text": [
      " 5 1\n"
     ]
    }
   ],
   "source": [
    "N, K = map(int, input().split())"
   ]
  },
  {
   "cell_type": "code",
   "execution_count": 108,
   "id": "33f2fc9b-bd9d-4e8b-8a8d-c1754cb5cc7d",
   "metadata": {},
   "outputs": [
    {
     "name": "stdin",
     "output_type": "stream",
     "text": [
      " 00010\n"
     ]
    }
   ],
   "source": [
    "S = input()"
   ]
  },
  {
   "cell_type": "code",
   "execution_count": 109,
   "id": "cf70dd73-9c1e-4e3d-9e7e-40537a5e61e9",
   "metadata": {},
   "outputs": [],
   "source": [
    "cnt = []\n",
    "flg = []\n",
    "mae = S[0]\n",
    "n = 1\n",
    "for s in S[1:]:\n",
    "    if s == mae:\n",
    "        n += 1\n",
    "        continue\n",
    "    cnt.append(n)\n",
    "    flg.append(mae == '1')\n",
    "    n = 1\n",
    "    mae = s\n",
    "else:\n",
    "    cnt.append(n)\n",
    "    flg.append(mae == '1')\n",
    "    "
   ]
  },
  {
   "cell_type": "code",
   "execution_count": 110,
   "id": "9b4abdd5-3817-4bff-8578-f251960a8ca4",
   "metadata": {},
   "outputs": [],
   "source": [
    "ans = 0\n",
    "cum = [0] + list(itertools.accumulate(cnt))\n",
    "for i, f in enumerate(flg, 1):\n",
    "    if f:\n",
    "        l = i - 1\n",
    "        r = min(len(cum)-1, i+2*K)\n",
    "    else:\n",
    "        l = max(0, i-1)\n",
    "        r = min(len(cum)-1, i+2*K-1)\n",
    "        \n",
    "    ans = max(ans, cum[r]-cum[l])\n",
    "#     print(i, ans, l, r, f)\n",
    "#     else:\n",
    "#         ans = max(ans, cum[min(len(cnt)-1, i+2*K+1)]-cum[i])        "
   ]
  },
  {
   "cell_type": "code",
   "execution_count": 111,
   "id": "d81b13a4-ab3c-4a7f-8cdf-efc0c09647d4",
   "metadata": {},
   "outputs": [
    {
     "name": "stdout",
     "output_type": "stream",
     "text": [
      "4\n"
     ]
    }
   ],
   "source": [
    "print(ans)"
   ]
  },
  {
   "cell_type": "code",
   "execution_count": 90,
   "id": "b5899aab-3220-4665-8e63-255f2e79744d",
   "metadata": {},
   "outputs": [
    {
     "data": {
      "text/plain": [
       "([3, 1, 1, 1, 1, 1, 2, 2, 2],\n",
       " [True, False, True, False, True, False, True, False, True],\n",
       " 8,\n",
       " [0, 3, 4, 5, 6, 7, 8, 10, 12, 14])"
      ]
     },
     "execution_count": 90,
     "metadata": {},
     "output_type": "execute_result"
    }
   ],
   "source": [
    "cnt, flg, i, cum"
   ]
  },
  {
   "cell_type": "code",
   "execution_count": 52,
   "id": "00e745ca-46ad-4bcd-ae6a-f8549c117271",
   "metadata": {},
   "outputs": [],
   "source": [
    "cum = [0] + list(itertools.accumulate(cnt))"
   ]
  },
  {
   "cell_type": "code",
   "execution_count": 84,
   "id": "9bff1e3c-be70-48b0-96bc-d81c5086c99c",
   "metadata": {},
   "outputs": [
    {
     "data": {
      "text/plain": [
       "12"
      ]
     },
     "execution_count": 84,
     "metadata": {},
     "output_type": "execute_result"
    }
   ],
   "source": [
    "cum[8]"
   ]
  },
  {
   "cell_type": "code",
   "execution_count": 85,
   "id": "55560bc4-b23d-4966-95fe-bcde8309400a",
   "metadata": {},
   "outputs": [
    {
     "data": {
      "text/plain": [
       "10"
      ]
     },
     "execution_count": 85,
     "metadata": {},
     "output_type": "execute_result"
    }
   ],
   "source": [
    "len(cum)"
   ]
  },
  {
   "cell_type": "code",
   "execution_count": null,
   "id": "8cc9bbb9-7f8e-4ea2-881e-91b4ea5e8fb9",
   "metadata": {},
   "outputs": [],
   "source": []
  }
 ],
 "metadata": {
  "kernelspec": {
   "display_name": "Python 3",
   "language": "python",
   "name": "python3"
  },
  "language_info": {
   "codemirror_mode": {
    "name": "ipython",
    "version": 3
   },
   "file_extension": ".py",
   "mimetype": "text/x-python",
   "name": "python",
   "nbconvert_exporter": "python",
   "pygments_lexer": "ipython3",
   "version": "3.6.13"
  }
 },
 "nbformat": 4,
 "nbformat_minor": 5
}
