{
 "cells": [
  {
   "cell_type": "code",
   "execution_count": 1,
   "metadata": {},
   "outputs": [],
   "source": [
    "import sys\n",
    "import numpy as np\n",
    "import math\n",
    "import collections\n",
    "import copy\n",
    "import decimal\n",
    "import itertools\n",
    "import re\n",
    "import bisect\n",
    "import scipy\n",
    "from collections import deque \n",
    "from functools import reduce\n",
    "from itertools import product\n",
    "from itertools import combinations\n",
    "from functools import lru_cache\n",
    "from scipy.special import comb\n",
    "from numba import njit\n",
    "from bisect import bisect_right\n",
    "from bisect import bisect_left"
   ]
  },
  {
   "cell_type": "code",
   "execution_count": 2,
   "metadata": {},
   "outputs": [
    {
     "name": "stdin",
     "output_type": "stream",
     "text": [
      " 4 6\n"
     ]
    }
   ],
   "source": [
    "H, W = map(int, input().split())"
   ]
  },
  {
   "cell_type": "code",
   "execution_count": 3,
   "metadata": {},
   "outputs": [
    {
     "name": "stdin",
     "output_type": "stream",
     "text": [
      " #..#..\n",
      " .....#\n",
      " ....#.\n",
      " #.#...\n"
     ]
    }
   ],
   "source": [
    "Sn = []\n",
    "Sn.append('#' * (W+2))\n",
    "for _ in range(H):\n",
    "    Sn.append('#' + input() + '#')\n",
    "Sn.append('#' * (W+2))"
   ]
  },
  {
   "cell_type": "code",
   "execution_count": 27,
   "metadata": {},
   "outputs": [],
   "source": [
    "Sn_w = [[0] * (W+2) for _ in range(H+2)]\n",
    "for i in range(1, H+1):\n",
    "    for j in range(1, W+1):\n",
    "        if Sn[i][j] == '#':\n",
    "            Sn_w[i][j] = 0\n",
    "        else:\n",
    "            Sn_w[i][j] = Sn_w[i][j-1] + 1\n",
    "for i in range(1, H+1):\n",
    "    for j in range(W+1, -1, -1):\n",
    "        if Sn_w[i][j] > 0 and Sn_w[i][j+1] > 0:\n",
    "            Sn_w[i][j] = Sn_w[i][j+1]\n",
    "Sn_h = [[0] * (W+2) for _ in range(H+2)]\n",
    "for j in range(1, W+1):\n",
    "    for i in range(1, H+1):\n",
    "        if Sn[i][j] == '#':\n",
    "            Sn_h[i][j] = 0\n",
    "        else:\n",
    "            Sn_h[i][j] = Sn_h[i-1][j] + 1\n",
    "for j in range(1, W+1):\n",
    "    for i in range(H+1, -1, -1):\n",
    "        if Sn_h[i][j] > 0 and Sn_h[i+1][j] > 0:\n",
    "            Sn_h[i][j] = Sn_h[i+1][j]            "
   ]
  },
  {
   "cell_type": "code",
   "execution_count": 29,
   "metadata": {},
   "outputs": [],
   "source": [
    "ans = 0\n",
    "for i in range(1, H+1):\n",
    "    for j in range(1, W+1):\n",
    "        if Sn[i][j] == '#':\n",
    "            continue\n",
    "        ans = max(ans, Sn_w[i][j]+Sn_h[i][j]-1)"
   ]
  },
  {
   "cell_type": "code",
   "execution_count": 30,
   "metadata": {},
   "outputs": [
    {
     "name": "stdout",
     "output_type": "stream",
     "text": [
      "8\n"
     ]
    }
   ],
   "source": [
    "print(ans)"
   ]
  },
  {
   "cell_type": "code",
   "execution_count": 28,
   "metadata": {},
   "outputs": [
    {
     "data": {
      "text/plain": [
       "([[0, 0, 0, 0, 0, 0, 0, 0],\n",
       "  [0, 0, 2, 2, 0, 2, 2, 0],\n",
       "  [0, 5, 5, 5, 5, 5, 0, 0],\n",
       "  [0, 4, 4, 4, 4, 0, 1, 0],\n",
       "  [0, 0, 1, 0, 3, 3, 3, 0],\n",
       "  [0, 0, 0, 0, 0, 0, 0, 0]],\n",
       " [[0, 0, 0, 0, 0, 0, 0, 0],\n",
       "  [0, 0, 4, 3, 0, 2, 1, 0],\n",
       "  [0, 2, 4, 3, 3, 2, 0, 0],\n",
       "  [0, 2, 4, 3, 3, 0, 2, 0],\n",
       "  [0, 0, 4, 0, 3, 1, 2, 0],\n",
       "  [0, 0, 0, 0, 0, 0, 0, 0]])"
      ]
     },
     "execution_count": 28,
     "metadata": {},
     "output_type": "execute_result"
    }
   ],
   "source": [
    "Sn_w, Sn_h"
   ]
  },
  {
   "cell_type": "code",
   "execution_count": null,
   "metadata": {},
   "outputs": [],
   "source": [
    "# TLE"
   ]
  },
  {
   "cell_type": "code",
   "execution_count": 12,
   "metadata": {},
   "outputs": [
    {
     "name": "stdout",
     "output_type": "stream",
     "text": [
      "1 2 5 5\n",
      "1 3 4 5\n",
      "1 5 3 5\n",
      "1 6 2 5\n",
      "2 1 6 6\n",
      "2 2 8 8\n",
      "2 3 7 8\n",
      "2 4 7 8\n",
      "2 5 6 8\n",
      "3 1 5 8\n",
      "3 2 7 8\n",
      "3 3 6 8\n",
      "3 4 6 8\n",
      "3 6 2 8\n",
      "4 2 4 8\n",
      "4 4 5 8\n",
      "4 5 3 8\n",
      "4 6 4 8\n"
     ]
    }
   ],
   "source": [
    "ans = 0\n",
    "for i in range(1, H+1):\n",
    "    for j in range(1, W+1):\n",
    "        if Sn[i][j] == '#':\n",
    "            continue\n",
    "        cnt = 1\n",
    "        for k in range(j-1, -1, -1):\n",
    "            if Sn[i][k] == '#':\n",
    "                break\n",
    "            cnt += 1\n",
    "        for k in range(j+1, W+2):\n",
    "            if Sn[i][k] == '#':\n",
    "                break\n",
    "            cnt += 1\n",
    "        for k in range(i-1, -1, -1):\n",
    "            if Sn[k][j] == '#':\n",
    "                break\n",
    "            cnt += 1\n",
    "        for k in range(i+1, H+2):\n",
    "            if Sn[k][j] == '#':\n",
    "                break\n",
    "            cnt += 1\n",
    "        ans = max(ans, cnt)\n",
    "#         print(i, j, cnt, ans)"
   ]
  },
  {
   "cell_type": "code",
   "execution_count": 13,
   "metadata": {},
   "outputs": [
    {
     "name": "stdout",
     "output_type": "stream",
     "text": [
      "8\n"
     ]
    }
   ],
   "source": [
    "print(ans)"
   ]
  },
  {
   "cell_type": "code",
   "execution_count": null,
   "metadata": {},
   "outputs": [],
   "source": []
  }
 ],
 "metadata": {
  "kernelspec": {
   "display_name": "Python 3",
   "language": "python",
   "name": "python3"
  },
  "language_info": {
   "codemirror_mode": {
    "name": "ipython",
    "version": 3
   },
   "file_extension": ".py",
   "mimetype": "text/x-python",
   "name": "python",
   "nbconvert_exporter": "python",
   "pygments_lexer": "ipython3",
   "version": "3.6.10"
  }
 },
 "nbformat": 4,
 "nbformat_minor": 4
}
