{
 "cells": [
  {
   "cell_type": "code",
   "execution_count": null,
   "id": "653eb1ad-c167-4f60-afa1-2445e0d92c0e",
   "metadata": {},
   "outputs": [],
   "source": [
    "# WA サンプルが合わない"
   ]
  },
  {
   "cell_type": "code",
   "execution_count": 1,
   "id": "9eebec60-a3fb-4ef5-94d6-56dadf33c98f",
   "metadata": {},
   "outputs": [],
   "source": [
    "import sys\n",
    "import numpy as np\n",
    "import math\n",
    "import collections\n",
    "import copy\n",
    "import decimal\n",
    "import itertools\n",
    "import re\n",
    "import bisect\n",
    "import scipy\n",
    "import heapq\n",
    "from collections import deque \n",
    "from functools import reduce\n",
    "from itertools import product\n",
    "from itertools import combinations\n",
    "from itertools import chain\n",
    "from functools import lru_cache\n",
    "from scipy.special import comb\n",
    "from numba import njit\n",
    "from bisect import bisect_right\n",
    "from bisect import bisect_left"
   ]
  },
  {
   "cell_type": "code",
   "execution_count": 20,
   "id": "506ad760-765b-4466-ac12-f3a2c4e26829",
   "metadata": {},
   "outputs": [
    {
     "name": "stdin",
     "output_type": "stream",
     "text": [
      " 7 4\n"
     ]
    }
   ],
   "source": [
    "N, K = map(int, input().split())"
   ]
  },
  {
   "cell_type": "code",
   "execution_count": 21,
   "id": "2777e358-adfa-435f-9417-d0d5d91eebb3",
   "metadata": {},
   "outputs": [
    {
     "name": "stdin",
     "output_type": "stream",
     "text": [
      " 1 1\n",
      " 2 1\n",
      " 3 1\n",
      " 4 6\n",
      " 4 5\n",
      " 4 5\n",
      " 4 5\n"
     ]
    }
   ],
   "source": [
    "TD = [list(map(int, input().split())) for _ in range(N)]"
   ]
  },
  {
   "cell_type": "code",
   "execution_count": 37,
   "id": "f94b8cda-6802-4578-bca8-686095813a28",
   "metadata": {},
   "outputs": [],
   "source": [
    "TD_s = sorted(TD, reverse=True, key=lambda x:x[1])\n",
    "kind = set()\n",
    "q = []\n",
    "for T, D in TD_s:\n",
    "    value = D\n",
    "    if T not in kind:\n",
    "        kind.add(T)\n",
    "        if len(kind) == 1:\n",
    "            value += len(kind)**2\n",
    "        else:\n",
    "            value += len(kind)**2 - (len(kind)-1)**2\n",
    "    heapq.heappush(q, -value)\n",
    "#     print(T, D, value)"
   ]
  },
  {
   "cell_type": "code",
   "execution_count": 33,
   "id": "852b3491-0146-47eb-bf25-3b5c9d648dcc",
   "metadata": {},
   "outputs": [
    {
     "name": "stdout",
     "output_type": "stream",
     "text": [
      "26\n"
     ]
    }
   ],
   "source": [
    "ans = 0\n",
    "for _ in range(K):\n",
    "    d = heapq.heappop(q)\n",
    "    ans += d\n",
    "print(-ans)"
   ]
  },
  {
   "cell_type": "code",
   "execution_count": 35,
   "id": "8057687d-febc-40d4-97e1-b7714cf9044b",
   "metadata": {},
   "outputs": [
    {
     "data": {
      "text/plain": [
       "{1, 2, 3, 4}"
      ]
     },
     "execution_count": 35,
     "metadata": {},
     "output_type": "execute_result"
    }
   ],
   "source": [
    "kind"
   ]
  },
  {
   "cell_type": "code",
   "execution_count": 38,
   "id": "ffac55aa-4fd0-42eb-9bbd-056f12752b46",
   "metadata": {},
   "outputs": [
    {
     "data": {
      "text/plain": [
       "[-8, -5, -7, -5, -4, -5, -6]"
      ]
     },
     "execution_count": 38,
     "metadata": {},
     "output_type": "execute_result"
    }
   ],
   "source": [
    "q"
   ]
  },
  {
   "cell_type": "code",
   "execution_count": null,
   "id": "35c8f63c-dc32-433f-8959-b229c0993ad2",
   "metadata": {},
   "outputs": [],
   "source": []
  }
 ],
 "metadata": {
  "kernelspec": {
   "display_name": "Python 3",
   "language": "python",
   "name": "python3"
  },
  "language_info": {
   "codemirror_mode": {
    "name": "ipython",
    "version": 3
   },
   "file_extension": ".py",
   "mimetype": "text/x-python",
   "name": "python",
   "nbconvert_exporter": "python",
   "pygments_lexer": "ipython3",
   "version": "3.6.13"
  }
 },
 "nbformat": 4,
 "nbformat_minor": 5
}
