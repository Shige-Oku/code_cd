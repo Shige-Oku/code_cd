{
 "cells": [
  {
   "cell_type": "code",
   "execution_count": null,
   "id": "e405a46d-1092-40ac-a16f-b2bb9151c789",
   "metadata": {},
   "outputs": [],
   "source": [
    "# 解説を読んで実装"
   ]
  },
  {
   "cell_type": "code",
   "execution_count": 1,
   "id": "6846d747-3017-44d0-b58c-edb8a9126131",
   "metadata": {},
   "outputs": [],
   "source": [
    "import sys\n",
    "import numpy as np\n",
    "import math\n",
    "import collections\n",
    "import copy\n",
    "import decimal\n",
    "import itertools\n",
    "import re\n",
    "import bisect\n",
    "import scipy\n",
    "import heapq\n",
    "from collections import deque \n",
    "from functools import reduce\n",
    "from itertools import product\n",
    "from itertools import combinations\n",
    "from itertools import chain\n",
    "from functools import lru_cache\n",
    "from scipy.special import comb\n",
    "from numba import njit\n",
    "from bisect import bisect_right\n",
    "from bisect import bisect_left"
   ]
  },
  {
   "cell_type": "code",
   "execution_count": 7,
   "id": "ae4c4ab1-900b-4474-bd39-737be36244f7",
   "metadata": {},
   "outputs": [],
   "source": [
    "sys.setrecursionlimit(10**7)"
   ]
  },
  {
   "cell_type": "code",
   "execution_count": 23,
   "id": "1d841950-6280-4964-840d-2c01e30116e2",
   "metadata": {},
   "outputs": [
    {
     "name": "stdin",
     "output_type": "stream",
     "text": [
      " 100\n"
     ]
    }
   ],
   "source": [
    "N = int(input())"
   ]
  },
  {
   "cell_type": "code",
   "execution_count": 30,
   "id": "21a77456-a7b8-436c-a437-7038e273f9a7",
   "metadata": {},
   "outputs": [],
   "source": [
    "@lru_cache(maxsize=None)\n",
    "def DFS(n, s):\n",
    "    ret = 0\n",
    "#     print(n, s)\n",
    "    if s[0] == 'A' and s[2:] == 'GC':\n",
    "        return 0\n",
    "    if s[1:] in ('AGC', 'GAC', 'ACG'):\n",
    "        return 0\n",
    "    if s[:2] == 'AG' and s[3] == 'C':\n",
    "        return 0\n",
    "    if n >= N:\n",
    "        return 1\n",
    "    for c in 'AGCT':\n",
    "        ret += DFS(n+1, s[1:]+c) \n",
    "    return ret % (10**9 + 7)"
   ]
  },
  {
   "cell_type": "code",
   "execution_count": 31,
   "id": "54fd7416-799d-425e-8d18-b2cb8221dff3",
   "metadata": {},
   "outputs": [
    {
     "name": "stdout",
     "output_type": "stream",
     "text": [
      "388130742\n"
     ]
    }
   ],
   "source": [
    "print(DFS(0, 'TTTT'))"
   ]
  },
  {
   "cell_type": "code",
   "execution_count": null,
   "id": "dffc688b-38d5-405a-ad74-bebd03e8b58f",
   "metadata": {},
   "outputs": [],
   "source": []
  }
 ],
 "metadata": {
  "kernelspec": {
   "display_name": "Python 3",
   "language": "python",
   "name": "python3"
  },
  "language_info": {
   "codemirror_mode": {
    "name": "ipython",
    "version": 3
   },
   "file_extension": ".py",
   "mimetype": "text/x-python",
   "name": "python",
   "nbconvert_exporter": "python",
   "pygments_lexer": "ipython3",
   "version": "3.6.13"
  }
 },
 "nbformat": 4,
 "nbformat_minor": 5
}
