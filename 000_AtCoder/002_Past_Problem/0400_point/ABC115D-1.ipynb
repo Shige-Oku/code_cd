{
 "cells": [
  {
   "cell_type": "code",
   "execution_count": null,
   "id": "29244288-73a5-4289-883e-ea03d4dee5a1",
   "metadata": {},
   "outputs": [],
   "source": [
    "# TLE"
   ]
  },
  {
   "cell_type": "code",
   "execution_count": 1,
   "id": "034a262c-a835-4175-93ff-224821f301b0",
   "metadata": {},
   "outputs": [],
   "source": [
    "import sys\n",
    "import numpy as np\n",
    "import math\n",
    "import collections\n",
    "import copy\n",
    "import decimal\n",
    "import itertools\n",
    "import re\n",
    "import bisect\n",
    "import scipy\n",
    "import heapq\n",
    "from collections import deque \n",
    "from functools import reduce\n",
    "from itertools import product\n",
    "from itertools import combinations\n",
    "from itertools import chain\n",
    "from functools import lru_cache\n",
    "from scipy.special import comb\n",
    "from numba import njit\n",
    "from bisect import bisect_right\n",
    "from bisect import bisect_left"
   ]
  },
  {
   "cell_type": "code",
   "execution_count": 33,
   "id": "ac2f9081-fcb8-4d91-8369-14cec5f4946d",
   "metadata": {},
   "outputs": [
    {
     "name": "stdin",
     "output_type": "stream",
     "text": [
      " 50 4321098765432109\n"
     ]
    }
   ],
   "source": [
    "N, X = map(int, input().split())"
   ]
  },
  {
   "cell_type": "code",
   "execution_count": 34,
   "id": "166687f1-80d5-4f5f-bf63-1e844be6dd72",
   "metadata": {},
   "outputs": [],
   "source": [
    "def DFS(n, s):\n",
    "    print(n, s)\n",
    "    n += 1\n",
    "    ret = 'B' + s + 'P' + s + 'B'\n",
    "    if n >= N :\n",
    "        return ret\n",
    "    ret = DFS(n, ret)\n",
    "    return ret"
   ]
  },
  {
   "cell_type": "code",
   "execution_count": null,
   "id": "71f4c96f-c54d-468a-b76d-cc1e57d238c2",
   "metadata": {},
   "outputs": [],
   "source": [
    "bug = DFS(0, 'P')"
   ]
  },
  {
   "cell_type": "code",
   "execution_count": 35,
   "id": "9c09ed1d-d9dc-45a2-9108-ce7ff2a116f9",
   "metadata": {},
   "outputs": [
    {
     "name": "stdout",
     "output_type": "stream",
     "text": [
      "7\n"
     ]
    }
   ],
   "source": [
    "print(bug[-X:].count('P'))"
   ]
  },
  {
   "cell_type": "code",
   "execution_count": 22,
   "id": "fdfa5978-f8bc-4cf9-b6fa-e2a58a3de32b",
   "metadata": {},
   "outputs": [
    {
     "data": {
      "text/plain": [
       "'PBPPPBB'"
      ]
     },
     "execution_count": 22,
     "metadata": {},
     "output_type": "execute_result"
    }
   ],
   "source": [
    "bug[-7:]"
   ]
  },
  {
   "cell_type": "code",
   "execution_count": 8,
   "id": "f8b3c05b-0ef4-486c-aa2c-5a616327fcd4",
   "metadata": {},
   "outputs": [
    {
     "data": {
      "text/plain": [
       "(2, 7)"
      ]
     },
     "execution_count": 8,
     "metadata": {},
     "output_type": "execute_result"
    }
   ],
   "source": [
    "N, X"
   ]
  },
  {
   "cell_type": "code",
   "execution_count": null,
   "id": "24ff79fe-0520-4d59-b212-5115cb82533f",
   "metadata": {},
   "outputs": [],
   "source": []
  }
 ],
 "metadata": {
  "kernelspec": {
   "display_name": "Python 3",
   "language": "python",
   "name": "python3"
  },
  "language_info": {
   "codemirror_mode": {
    "name": "ipython",
    "version": 3
   },
   "file_extension": ".py",
   "mimetype": "text/x-python",
   "name": "python",
   "nbconvert_exporter": "python",
   "pygments_lexer": "ipython3",
   "version": "3.6.13"
  }
 },
 "nbformat": 4,
 "nbformat_minor": 5
}
