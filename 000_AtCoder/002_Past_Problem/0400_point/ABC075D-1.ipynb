{
 "cells": [
  {
   "cell_type": "code",
   "execution_count": 1,
   "id": "085ace07-84ef-415b-9fbf-7b7c6bda6d81",
   "metadata": {},
   "outputs": [],
   "source": [
    "import sys\n",
    "import numpy as np\n",
    "import math\n",
    "import collections\n",
    "import copy\n",
    "import decimal\n",
    "import itertools\n",
    "import re\n",
    "import bisect\n",
    "import scipy\n",
    "import heapq\n",
    "from collections import deque \n",
    "from functools import reduce\n",
    "from itertools import product\n",
    "from itertools import combinations\n",
    "from itertools import chain\n",
    "from functools import lru_cache\n",
    "from scipy.special import comb\n",
    "from numba import njit\n",
    "from bisect import bisect_right\n",
    "from bisect import bisect_left"
   ]
  },
  {
   "cell_type": "code",
   "execution_count": 25,
   "id": "3fe822fd-f267-46c5-bc35-8cd2d94dc10c",
   "metadata": {},
   "outputs": [
    {
     "name": "stdin",
     "output_type": "stream",
     "text": [
      " 4 2\n"
     ]
    }
   ],
   "source": [
    "N, K = map(int, input().split())"
   ]
  },
  {
   "cell_type": "code",
   "execution_count": 26,
   "id": "c9812b1e-b625-4b1e-8769-dcb0abb0c5d3",
   "metadata": {},
   "outputs": [
    {
     "name": "stdin",
     "output_type": "stream",
     "text": [
      " 0 0\n",
      " 1 1\n",
      " 2 2\n",
      " 3 3\n"
     ]
    }
   ],
   "source": [
    "XY = [list(map(int, input().split())) for _ in range(N)]"
   ]
  },
  {
   "cell_type": "code",
   "execution_count": 30,
   "id": "94c77ca9-a8c5-4809-8f05-1e4c932358f5",
   "metadata": {},
   "outputs": [],
   "source": [
    "ans = 10**20\n",
    "if K > 2:\n",
    "    for i in range(N-2):\n",
    "        for j in range(i+1, N-1):\n",
    "            for l in range(j+1, N):\n",
    "                cnt = 0\n",
    "                xmi = min(XY[i][0], XY[j][0], XY[l][0])\n",
    "                xma = max(XY[i][0], XY[j][0], XY[l][0])\n",
    "                ymi = min(XY[i][1], XY[j][1], XY[l][1])\n",
    "                yma = max(XY[i][1], XY[j][1], XY[l][1])\n",
    "                if xmi == xma or ymi == yma:\n",
    "                    continue\n",
    "                for k in range(N):\n",
    "                    if xmi <= XY[k][0] <= xma and ymi <= XY[k][1] <= yma:\n",
    "                        cnt += 1\n",
    "        if cnt >= K:\n",
    "            ans = min(ans, abs(xma-xmi)*abs(yma-ymi))\n",
    "        print(i, j, cnt, ans)\n",
    "else:\n",
    "    for i in range(N-2):\n",
    "        for j in range(i+1, N-1):\n",
    "            cnt = 0\n",
    "            xmi = min(XY[i][0], XY[j][0])\n",
    "            xma = max(XY[i][0], XY[j][0])\n",
    "            ymi = min(XY[i][1], XY[j][1])\n",
    "            yma = max(XY[i][1], XY[j][1])\n",
    "            if xmi == xma or ymi == yma:\n",
    "                continue\n",
    "            for k in range(N):\n",
    "                if xmi <= XY[k][0] <= xma and ymi <= XY[k][1] <= yma:\n",
    "                    cnt += 1\n",
    "    if cnt >= K:\n",
    "        ans = min(ans, abs(xma-xmi)*abs(yma-ymi))\n",
    "        "
   ]
  },
  {
   "cell_type": "code",
   "execution_count": 31,
   "id": "f8eceae3-7f44-47a6-8896-a8423b00cc3f",
   "metadata": {},
   "outputs": [
    {
     "name": "stdout",
     "output_type": "stream",
     "text": [
      "1\n"
     ]
    }
   ],
   "source": [
    "print(ans)"
   ]
  },
  {
   "cell_type": "code",
   "execution_count": 13,
   "id": "41d462e1-1244-4b5f-b552-f174c4b270f5",
   "metadata": {},
   "outputs": [
    {
     "data": {
      "text/plain": [
       "96000000003999999999"
      ]
     },
     "execution_count": 13,
     "metadata": {},
     "output_type": "execute_result"
    }
   ],
   "source": [
    "100000000000000000000-3999999996000000001"
   ]
  },
  {
   "cell_type": "code",
   "execution_count": 15,
   "id": "a3286285-5368-48a0-b2ec-5efc9e36b9cb",
   "metadata": {},
   "outputs": [
    {
     "data": {
      "text/plain": [
       "True"
      ]
     },
     "execution_count": 15,
     "metadata": {},
     "output_type": "execute_result"
    }
   ],
   "source": [
    "100000000000000000000 == 10**20"
   ]
  },
  {
   "cell_type": "code",
   "execution_count": null,
   "id": "59eb18b5-53dd-4bd8-8532-34bf062dc0d0",
   "metadata": {},
   "outputs": [],
   "source": []
  }
 ],
 "metadata": {
  "kernelspec": {
   "display_name": "Python 3",
   "language": "python",
   "name": "python3"
  },
  "language_info": {
   "codemirror_mode": {
    "name": "ipython",
    "version": 3
   },
   "file_extension": ".py",
   "mimetype": "text/x-python",
   "name": "python",
   "nbconvert_exporter": "python",
   "pygments_lexer": "ipython3",
   "version": "3.6.13"
  }
 },
 "nbformat": 4,
 "nbformat_minor": 5
}
