{
 "cells": [
  {
   "cell_type": "code",
   "execution_count": 4,
   "id": "8df2fe68-5e46-484f-a14b-f0fea0961c72",
   "metadata": {},
   "outputs": [],
   "source": [
    "import sys\n",
    "import numpy as np\n",
    "import math\n",
    "import collections\n",
    "import copy\n",
    "import decimal\n",
    "import itertools\n",
    "import re\n",
    "import bisect\n",
    "import scipy\n",
    "import heapq\n",
    "from collections import deque \n",
    "from functools import reduce\n",
    "from itertools import product\n",
    "from itertools import combinations\n",
    "from itertools import chain\n",
    "from functools import lru_cache\n",
    "from scipy.special import comb\n",
    "from numba import njit\n",
    "from bisect import bisect_right\n",
    "from bisect import bisect_left"
   ]
  },
  {
   "cell_type": "code",
   "execution_count": 25,
   "id": "71490133-e975-4376-af77-1c6a5751ee26",
   "metadata": {},
   "outputs": [
    {
     "name": "stdin",
     "output_type": "stream",
     "text": [
      " RRRLLRLLRRRLLLLL\n"
     ]
    }
   ],
   "source": [
    "S = input()"
   ]
  },
  {
   "cell_type": "code",
   "execution_count": 26,
   "id": "c8b70302-674c-4f5a-b4ab-fa7134de5d14",
   "metadata": {},
   "outputs": [],
   "source": [
    "cnt = [0] * len(S)\n",
    "rcnt = 1\n",
    "for i in range(1, len(S)):\n",
    "    if S[i] == 'R':\n",
    "        rcnt += 1\n",
    "        continue\n",
    "    if rcnt == 0:\n",
    "        continue\n",
    "    if rcnt % 2 == 0:\n",
    "        cnt[i-1] += rcnt // 2\n",
    "        cnt[i] += rcnt // 2\n",
    "    else:\n",
    "        cnt[i-1] += math.ceil(rcnt / 2)\n",
    "        cnt[i] += math.floor(rcnt / 2)\n",
    "    rcnt = 0\n"
   ]
  },
  {
   "cell_type": "code",
   "execution_count": 27,
   "id": "85056c92-1c91-46ee-a108-62a08fd4b367",
   "metadata": {},
   "outputs": [],
   "source": [
    "# cnt = [0] * len(S)\n",
    "lcnt = 1\n",
    "for i in range(len(S)-2, -1, -1):\n",
    "    if S[i] == 'L':\n",
    "        lcnt += 1\n",
    "        continue\n",
    "    if lcnt == 0:\n",
    "        lcnt = 0\n",
    "        continue\n",
    "    if lcnt % 2 == 0:\n",
    "        cnt[i] += lcnt // 2\n",
    "        cnt[i+1] += lcnt // 2\n",
    "    else:\n",
    "        cnt[i] += math.floor(lcnt / 2)\n",
    "        cnt[i+1] += math.ceil(lcnt / 2)\n",
    "    lcnt = 0\n",
    "    "
   ]
  },
  {
   "cell_type": "code",
   "execution_count": 28,
   "id": "24717817-8de5-4906-a930-a5ba586511dc",
   "metadata": {},
   "outputs": [
    {
     "name": "stdout",
     "output_type": "stream",
     "text": [
      "0 0 3 2 0 2 1 0 0 0 4 4 0 0 0 0\n"
     ]
    }
   ],
   "source": [
    "print(*cnt)"
   ]
  },
  {
   "cell_type": "code",
   "execution_count": 46,
   "id": "7464e75b-a553-44ac-9acf-444fd230656d",
   "metadata": {},
   "outputs": [
    {
     "data": {
      "text/plain": [
       "0"
      ]
     },
     "execution_count": 46,
     "metadata": {},
     "output_type": "execute_result"
    }
   ],
   "source": [
    "i"
   ]
  },
  {
   "cell_type": "code",
   "execution_count": 10,
   "id": "134287d4-7851-4b8a-9fc9-b3dfd3be5f23",
   "metadata": {},
   "outputs": [
    {
     "data": {
      "text/plain": [
       "[0, 0, 2, 1, 0, 1, 0, 0, 0, 0, 2, 1, 0, 0, 0, 0]"
      ]
     },
     "execution_count": 10,
     "metadata": {},
     "output_type": "execute_result"
    }
   ],
   "source": [
    "cnt"
   ]
  },
  {
   "cell_type": "code",
   "execution_count": null,
   "id": "d2882133-3161-4e8b-989f-298dc09f0059",
   "metadata": {},
   "outputs": [],
   "source": []
  }
 ],
 "metadata": {
  "kernelspec": {
   "display_name": "Python 3",
   "language": "python",
   "name": "python3"
  },
  "language_info": {
   "codemirror_mode": {
    "name": "ipython",
    "version": 3
   },
   "file_extension": ".py",
   "mimetype": "text/x-python",
   "name": "python",
   "nbconvert_exporter": "python",
   "pygments_lexer": "ipython3",
   "version": "3.6.13"
  }
 },
 "nbformat": 4,
 "nbformat_minor": 5
}
