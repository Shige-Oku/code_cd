{
 "cells": [
  {
   "cell_type": "code",
   "execution_count": null,
   "id": "79f64810-b42f-4080-bf9b-90014e7df8e8",
   "metadata": {},
   "outputs": [],
   "source": [
    "# 解説を読んで実装"
   ]
  },
  {
   "cell_type": "code",
   "execution_count": 1,
   "id": "e0650e7e-b65c-4eca-93ca-9ab59a11fe10",
   "metadata": {},
   "outputs": [],
   "source": [
    "import sys\n",
    "import numpy as np\n",
    "import math\n",
    "import collections\n",
    "import copy\n",
    "import decimal\n",
    "import itertools\n",
    "import re\n",
    "import bisect\n",
    "import scipy\n",
    "import heapq\n",
    "from collections import deque \n",
    "from functools import reduce\n",
    "from itertools import product\n",
    "from itertools import combinations\n",
    "from itertools import chain\n",
    "from functools import lru_cache\n",
    "from scipy.special import comb\n",
    "from numba import njit\n",
    "from bisect import bisect_right\n",
    "from bisect import bisect_left"
   ]
  },
  {
   "cell_type": "code",
   "execution_count": 13,
   "id": "2b6585a9-b977-4610-8669-b42a16d902ec",
   "metadata": {},
   "outputs": [
    {
     "name": "stdin",
     "output_type": "stream",
     "text": [
      " 8\n"
     ]
    }
   ],
   "source": [
    "N = int(input())"
   ]
  },
  {
   "cell_type": "code",
   "execution_count": 14,
   "id": "e4c94a99-4a3f-4911-8e61-8c773296a993",
   "metadata": {},
   "outputs": [
    {
     "name": "stdin",
     "output_type": "stream",
     "text": [
      " ))))((((\n"
     ]
    }
   ],
   "source": [
    "S = input()"
   ]
  },
  {
   "cell_type": "code",
   "execution_count": 15,
   "id": "6ecbb780-9ac0-44c1-9efd-a00782c26f63",
   "metadata": {},
   "outputs": [],
   "source": [
    "ans = []\n",
    "cnt = 0\n",
    "for s in S:\n",
    "    if s == '(':\n",
    "        cnt += 1\n",
    "        ans.append('(')\n",
    "    else:\n",
    "        if cnt < 1:\n",
    "            ans.insert(0, '(')\n",
    "        else:\n",
    "            cnt -= 1\n",
    "        ans.append(')')\n",
    "for _ in range(cnt):\n",
    "    ans.append(')')"
   ]
  },
  {
   "cell_type": "code",
   "execution_count": 16,
   "id": "8a7aa1df-ecae-4ece-bb57-4a331c35d5f3",
   "metadata": {},
   "outputs": [
    {
     "name": "stdout",
     "output_type": "stream",
     "text": [
      "(((())))(((())))\n"
     ]
    }
   ],
   "source": [
    "print(*ans, sep='')"
   ]
  },
  {
   "cell_type": "code",
   "execution_count": null,
   "id": "db66d0df-13ec-4303-837f-b5b70818fa23",
   "metadata": {},
   "outputs": [],
   "source": []
  }
 ],
 "metadata": {
  "kernelspec": {
   "display_name": "Python 3",
   "language": "python",
   "name": "python3"
  },
  "language_info": {
   "codemirror_mode": {
    "name": "ipython",
    "version": 3
   },
   "file_extension": ".py",
   "mimetype": "text/x-python",
   "name": "python",
   "nbconvert_exporter": "python",
   "pygments_lexer": "ipython3",
   "version": "3.6.13"
  }
 },
 "nbformat": 4,
 "nbformat_minor": 5
}
