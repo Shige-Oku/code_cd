{
 "cells": [
  {
   "cell_type": "code",
   "execution_count": null,
   "id": "52e9b1e2-7de3-46ce-aa83-e52d74b18835",
   "metadata": {},
   "outputs": [],
   "source": [
    "# 解説を読んで実装"
   ]
  },
  {
   "cell_type": "code",
   "execution_count": 1,
   "id": "9084e3b5-8fa5-4d15-981e-a6f29fbf5eee",
   "metadata": {},
   "outputs": [],
   "source": [
    "import sys\n",
    "import numpy as np\n",
    "import math\n",
    "import collections\n",
    "import copy\n",
    "import decimal\n",
    "import itertools\n",
    "import re\n",
    "import bisect\n",
    "import scipy\n",
    "import heapq\n",
    "from collections import deque \n",
    "from functools import reduce\n",
    "from itertools import product\n",
    "from itertools import combinations\n",
    "from itertools import chain\n",
    "from functools import lru_cache\n",
    "from scipy.special import comb\n",
    "from numba import njit\n",
    "from bisect import bisect_right\n",
    "from bisect import bisect_left"
   ]
  },
  {
   "cell_type": "code",
   "execution_count": 3,
   "id": "66d17431-6f55-49ab-b3d9-b2237eebcabf",
   "metadata": {},
   "outputs": [],
   "source": [
    "sys.setrecursionlimit(10**8)"
   ]
  },
  {
   "cell_type": "code",
   "execution_count": 220,
   "id": "38f82b1f-a3ec-403e-9dbc-4c0e6c1adfba",
   "metadata": {},
   "outputs": [
    {
     "name": "stdin",
     "output_type": "stream",
     "text": [
      " 1 3\n"
     ]
    }
   ],
   "source": [
    "N, X = map(int, input().split())"
   ]
  },
  {
   "cell_type": "code",
   "execution_count": 213,
   "id": "d53bfe1d-ca2e-4c6e-bc20-2229cae5935c",
   "metadata": {},
   "outputs": [],
   "source": [
    "# X = 13"
   ]
  },
  {
   "cell_type": "code",
   "execution_count": 221,
   "id": "d7959a36-efce-401f-a020-2517d2faa1ae",
   "metadata": {},
   "outputs": [],
   "source": [
    "def DFS(n, x):\n",
    "#     print(n, x)\n",
    "    if x <= 1:\n",
    "        return 0\n",
    "    if n <= 1:\n",
    "        return min(x-1, p[1])\n",
    "    if x <= bug[n-1] + 1:\n",
    "#         print('1')\n",
    "        return DFS(n-1, x-1)\n",
    "    if x == bug[n-1] + 2:\n",
    "#         print('2')\n",
    "        return p[n-1] + 1\n",
    "#     print('3')\n",
    "    return p[n-1] + 1 + DFS(n-1, x-2-bug[n-1])"
   ]
  },
  {
   "cell_type": "code",
   "execution_count": 222,
   "id": "7263c04f-f93c-43f3-a764-e31a15ccc419",
   "metadata": {},
   "outputs": [],
   "source": [
    "bug = [1]\n",
    "p = [1]\n",
    "for i in range(1, N+1):\n",
    "    bug.append(2*bug[i-1]+3)\n",
    "    p.append(2*p[i-1]+1)"
   ]
  },
  {
   "cell_type": "code",
   "execution_count": 223,
   "id": "1cdc877e-0b89-4636-8b72-757832fd77c7",
   "metadata": {},
   "outputs": [
    {
     "name": "stdout",
     "output_type": "stream",
     "text": [
      "2\n"
     ]
    }
   ],
   "source": [
    "print(DFS(N, X))"
   ]
  },
  {
   "cell_type": "code",
   "execution_count": 118,
   "id": "549cf361-29a9-44f2-a7b4-48130e75a6f8",
   "metadata": {},
   "outputs": [
    {
     "data": {
      "text/plain": [
       "([1, 5, 13], [1, 3, 7])"
      ]
     },
     "execution_count": 118,
     "metadata": {},
     "output_type": "execute_result"
    }
   ],
   "source": [
    "bug, p"
   ]
  },
  {
   "cell_type": "code",
   "execution_count": null,
   "id": "19aaa506-c115-46c5-a567-2d3b6b3ec2b8",
   "metadata": {},
   "outputs": [],
   "source": []
  }
 ],
 "metadata": {
  "kernelspec": {
   "display_name": "Python 3",
   "language": "python",
   "name": "python3"
  },
  "language_info": {
   "codemirror_mode": {
    "name": "ipython",
    "version": 3
   },
   "file_extension": ".py",
   "mimetype": "text/x-python",
   "name": "python",
   "nbconvert_exporter": "python",
   "pygments_lexer": "ipython3",
   "version": "3.6.13"
  }
 },
 "nbformat": 4,
 "nbformat_minor": 5
}
