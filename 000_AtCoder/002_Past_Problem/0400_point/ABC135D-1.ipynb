{
 "cells": [
  {
   "cell_type": "code",
   "execution_count": 1,
   "id": "b2cbe898-8d53-4e52-b9c7-51bbcce3e078",
   "metadata": {},
   "outputs": [],
   "source": [
    "import sys\n",
    "import numpy as np\n",
    "import math\n",
    "import collections\n",
    "import copy\n",
    "import decimal\n",
    "import itertools\n",
    "import re\n",
    "import bisect\n",
    "import scipy\n",
    "import heapq\n",
    "from collections import deque \n",
    "from functools import reduce\n",
    "from itertools import product\n",
    "from itertools import combinations\n",
    "from itertools import chain\n",
    "from functools import lru_cache\n",
    "from scipy.special import comb\n",
    "from numba import njit\n",
    "from bisect import bisect_right\n",
    "from bisect import bisect_left"
   ]
  },
  {
   "cell_type": "code",
   "execution_count": 73,
   "id": "3aeaef79-7625-4e1a-8268-a998fc4fc3fa",
   "metadata": {},
   "outputs": [
    {
     "name": "stdin",
     "output_type": "stream",
     "text": [
      " ?6?42???8??2??06243????9??3???7258??5??7???????774????4?1??17???9?5?70???76???\n"
     ]
    }
   ],
   "source": [
    "S = input()"
   ]
  },
  {
   "cell_type": "code",
   "execution_count": 74,
   "id": "5a1c9913-7a1d-4a15-84ba-e077eeff94d4",
   "metadata": {},
   "outputs": [],
   "source": [
    "dp = [[0] * 13 for _ in range(len(S)+1)]\n",
    "dp[0][0] = 1\n",
    "p = 1\n",
    "M = 10**9+7\n",
    "for i, s in enumerate(S[::-1], 1):\n",
    "    if s == '?':\n",
    "        n = -1\n",
    "    else:\n",
    "        n = int(s)\n",
    "    for j in range(10):\n",
    "        if n == -1 or j == n:\n",
    "            pass\n",
    "        else:\n",
    "            continue\n",
    "#         print(i, n, j)\n",
    "        for k in range(13):\n",
    "            if i == 1 and k >= 10:\n",
    "                continue\n",
    "            num = p * j + k\n",
    "#             print(k, num)\n",
    "            dp[i][num%13] += dp[i-1][k]\n",
    "    for l in range(13):\n",
    "        dp[i][l] %= M\n",
    "    p *= 10"
   ]
  },
  {
   "cell_type": "code",
   "execution_count": 75,
   "id": "a6512b68-6135-4a32-8d8b-dd856306bb95",
   "metadata": {},
   "outputs": [
    {
     "name": "stdout",
     "output_type": "stream",
     "text": [
      "153716888\n"
     ]
    }
   ],
   "source": [
    "print(dp[-1][5])"
   ]
  },
  {
   "cell_type": "code",
   "execution_count": 62,
   "id": "7c60fca8-ed18-4fde-b442-75b6e4fcf52d",
   "metadata": {},
   "outputs": [
    {
     "data": {
      "text/plain": [
       "[[1, 0, 0, 0, 0, 0, 0, 0, 0, 0, 0, 0, 0],\n",
       " [0, 0, 0, 0, 0, 1, 0, 0, 0, 0, 0, 0, 0]]"
      ]
     },
     "execution_count": 62,
     "metadata": {},
     "output_type": "execute_result"
    }
   ],
   "source": [
    "dp"
   ]
  },
  {
   "cell_type": "code",
   "execution_count": null,
   "id": "9164c201-b20e-4cb4-9692-3a6629bb10d8",
   "metadata": {},
   "outputs": [],
   "source": []
  }
 ],
 "metadata": {
  "kernelspec": {
   "display_name": "Python 3",
   "language": "python",
   "name": "python3"
  },
  "language_info": {
   "codemirror_mode": {
    "name": "ipython",
    "version": 3
   },
   "file_extension": ".py",
   "mimetype": "text/x-python",
   "name": "python",
   "nbconvert_exporter": "python",
   "pygments_lexer": "ipython3",
   "version": "3.6.13"
  }
 },
 "nbformat": 4,
 "nbformat_minor": 5
}
