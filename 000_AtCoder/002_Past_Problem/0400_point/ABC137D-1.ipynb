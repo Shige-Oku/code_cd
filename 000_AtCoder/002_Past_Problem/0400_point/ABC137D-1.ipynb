{
 "cells": [
  {
   "cell_type": "code",
   "execution_count": 1,
   "id": "9921fcc2-d95e-46b6-bd08-e01163e802fc",
   "metadata": {},
   "outputs": [],
   "source": [
    "import sys\n",
    "import numpy as np\n",
    "import math\n",
    "import collections\n",
    "import copy\n",
    "import decimal\n",
    "import itertools\n",
    "import re\n",
    "import bisect\n",
    "import scipy\n",
    "import heapq\n",
    "from collections import deque \n",
    "from functools import reduce\n",
    "from itertools import product\n",
    "from itertools import combinations\n",
    "from itertools import chain\n",
    "from functools import lru_cache\n",
    "from scipy.special import comb\n",
    "from numba import njit\n",
    "from bisect import bisect_right\n",
    "from bisect import bisect_left"
   ]
  },
  {
   "cell_type": "code",
   "execution_count": 19,
   "id": "61b04f77-6119-4a36-8f90-c2f45fedc872",
   "metadata": {},
   "outputs": [
    {
     "name": "stdin",
     "output_type": "stream",
     "text": [
      " 5 3\n"
     ]
    }
   ],
   "source": [
    "N, M = map(int, input().split())"
   ]
  },
  {
   "cell_type": "code",
   "execution_count": 20,
   "id": "a549a317-c357-46d0-a9b6-6bdb261a5379",
   "metadata": {},
   "outputs": [
    {
     "name": "stdin",
     "output_type": "stream",
     "text": [
      " 1 2\n",
      " 1 3\n",
      " 1 4\n",
      " 2 1\n",
      " 2 3\n"
     ]
    }
   ],
   "source": [
    "AB = [list(map(int, input().split())) for _ in range(N)]"
   ]
  },
  {
   "cell_type": "code",
   "execution_count": 36,
   "id": "5d340163-9a1b-472c-b2b6-ebce94125cf9",
   "metadata": {},
   "outputs": [],
   "source": [
    "AB_s = sorted(AB, reverse=True, key=lambda x:(x[0], x[1]))"
   ]
  },
  {
   "cell_type": "code",
   "execution_count": 37,
   "id": "99a7f040-e174-47c6-912f-5aa83b1616d7",
   "metadata": {},
   "outputs": [],
   "source": [
    "ans = 0\n",
    "j = 0\n",
    "for i in range(M):\n",
    "    while j < N:\n",
    "        A, B = AB_s[j]\n",
    "        if A > M - i:\n",
    "            j += 1\n",
    "            continue\n",
    "        ans += B\n",
    "        j += 1\n",
    "        break"
   ]
  },
  {
   "cell_type": "code",
   "execution_count": 38,
   "id": "ae3f5533-5156-4c12-b6f2-29c1a529644f",
   "metadata": {},
   "outputs": [
    {
     "name": "stdout",
     "output_type": "stream",
     "text": [
      "8\n"
     ]
    }
   ],
   "source": [
    "print(ans)"
   ]
  },
  {
   "cell_type": "code",
   "execution_count": 39,
   "id": "458be0e9-7144-4d0b-9b99-705f2564ab55",
   "metadata": {},
   "outputs": [
    {
     "data": {
      "text/plain": [
       "([[2, 3], [2, 1], [1, 4], [1, 3], [1, 2]], 3, 8)"
      ]
     },
     "execution_count": 39,
     "metadata": {},
     "output_type": "execute_result"
    }
   ],
   "source": [
    "AB_s, j, ans"
   ]
  },
  {
   "cell_type": "code",
   "execution_count": null,
   "id": "258dc5f9-cdde-4c56-86b5-be8de44f9a2d",
   "metadata": {},
   "outputs": [],
   "source": []
  }
 ],
 "metadata": {
  "kernelspec": {
   "display_name": "Python 3",
   "language": "python",
   "name": "python3"
  },
  "language_info": {
   "codemirror_mode": {
    "name": "ipython",
    "version": 3
   },
   "file_extension": ".py",
   "mimetype": "text/x-python",
   "name": "python",
   "nbconvert_exporter": "python",
   "pygments_lexer": "ipython3",
   "version": "3.6.13"
  }
 },
 "nbformat": 4,
 "nbformat_minor": 5
}
