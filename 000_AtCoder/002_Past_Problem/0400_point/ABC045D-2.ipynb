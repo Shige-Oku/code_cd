{
 "cells": [
  {
   "cell_type": "code",
   "execution_count": null,
   "id": "bea25296-70b8-4c9a-980a-b37af52def9b",
   "metadata": {},
   "outputs": [],
   "source": [
    "# 解説を読んで実装"
   ]
  },
  {
   "cell_type": "code",
   "execution_count": 3,
   "id": "288c5880-da4e-491b-b42c-12d43408648d",
   "metadata": {},
   "outputs": [],
   "source": [
    "import sys\n",
    "import numpy as np\n",
    "import math\n",
    "import collections\n",
    "import copy\n",
    "import decimal\n",
    "import itertools\n",
    "import re\n",
    "import bisect\n",
    "import scipy\n",
    "import heapq\n",
    "from collections import deque \n",
    "from functools import reduce\n",
    "from itertools import product\n",
    "from itertools import combinations\n",
    "from itertools import chain\n",
    "from functools import lru_cache\n",
    "from scipy.special import comb\n",
    "from numba import njit\n",
    "from bisect import bisect_right\n",
    "from bisect import bisect_left"
   ]
  },
  {
   "cell_type": "code",
   "execution_count": 1,
   "id": "b1c79777-2cb9-49bb-b74d-4eab797a6585",
   "metadata": {},
   "outputs": [
    {
     "name": "stdin",
     "output_type": "stream",
     "text": [
      " 4 5 8\n"
     ]
    }
   ],
   "source": [
    "H, W, N = map(int, input().split())"
   ]
  },
  {
   "cell_type": "code",
   "execution_count": 2,
   "id": "79093f9b-56a0-43c6-a312-3f657503c0c6",
   "metadata": {},
   "outputs": [
    {
     "name": "stdin",
     "output_type": "stream",
     "text": [
      " 1 1\n",
      " 1 4\n",
      " 1 5\n",
      " 2 3\n",
      " 3 1\n",
      " 3 2\n",
      " 3 4\n",
      " 4 4\n"
     ]
    }
   ],
   "source": [
    "AB = [list(map(int, input().split())) for _ in range(N)]"
   ]
  },
  {
   "cell_type": "code",
   "execution_count": 12,
   "id": "ade4bbe8-02a0-4d27-9e1d-15914d795aae",
   "metadata": {},
   "outputs": [],
   "source": [
    "AB_d = collections.defaultdict(int)\n",
    "for A, B in AB:\n",
    "    for h, w in product((-1, 0, 1), repeat=2):\n",
    "        if 1 < A+h < H and 1 < B+w < W:\n",
    "            AB_d[(A+h, B+w)] += 1"
   ]
  },
  {
   "cell_type": "code",
   "execution_count": 20,
   "id": "50398d44-0601-4a2c-81c6-41b141ac09c5",
   "metadata": {},
   "outputs": [
    {
     "name": "stdout",
     "output_type": "stream",
     "text": [
      "0\n",
      "0\n",
      "0\n",
      "2\n",
      "4\n",
      "0\n",
      "0\n",
      "0\n",
      "0\n",
      "0\n"
     ]
    }
   ],
   "source": [
    "ans = [0] * 10\n",
    "for k, v in AB_d.items():\n",
    "    ans[v] += 1\n",
    "ans[0] = (H-2) * (W-2) - sum(ans)\n",
    "for a in ans:\n",
    "    print(a)"
   ]
  },
  {
   "cell_type": "code",
   "execution_count": 13,
   "id": "4ba7298b-ea70-4a1b-98dc-34922b63cf64",
   "metadata": {},
   "outputs": [
    {
     "name": "stdout",
     "output_type": "stream",
     "text": [
      "-1 -1\n",
      "-1 0\n",
      "-1 1\n",
      "0 -1\n",
      "0 0\n",
      "0 1\n",
      "1 -1\n",
      "1 0\n",
      "1 1\n"
     ]
    }
   ],
   "source": [
    "for i, j in product((-1, 0, 1), repeat=2):\n",
    "    print(i, j)"
   ]
  },
  {
   "cell_type": "code",
   "execution_count": 19,
   "id": "98c088e5-3138-4f44-874d-55694338b0ed",
   "metadata": {},
   "outputs": [
    {
     "data": {
      "text/plain": [
       "defaultdict(int,\n",
       "            {(2, 2): 4, (2, 3): 4, (2, 4): 4, (3, 2): 3, (3, 3): 4, (3, 4): 3})"
      ]
     },
     "execution_count": 19,
     "metadata": {},
     "output_type": "execute_result"
    }
   ],
   "source": [
    "AB_d"
   ]
  },
  {
   "cell_type": "code",
   "execution_count": 16,
   "id": "d430483d-d9eb-4618-a30b-a9a4de94c800",
   "metadata": {},
   "outputs": [
    {
     "data": {
      "text/plain": [
       "22"
      ]
     },
     "execution_count": 16,
     "metadata": {},
     "output_type": "execute_result"
    }
   ],
   "source": [
    "sum(AB_d.values())"
   ]
  },
  {
   "cell_type": "code",
   "execution_count": null,
   "id": "a25010c9-2014-44e8-81a7-20eb572278a2",
   "metadata": {},
   "outputs": [],
   "source": []
  }
 ],
 "metadata": {
  "kernelspec": {
   "display_name": "Python 3",
   "language": "python",
   "name": "python3"
  },
  "language_info": {
   "codemirror_mode": {
    "name": "ipython",
    "version": 3
   },
   "file_extension": ".py",
   "mimetype": "text/x-python",
   "name": "python",
   "nbconvert_exporter": "python",
   "pygments_lexer": "ipython3",
   "version": "3.6.13"
  }
 },
 "nbformat": 4,
 "nbformat_minor": 5
}
