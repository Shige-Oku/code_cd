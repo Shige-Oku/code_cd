{
 "cells": [
  {
   "cell_type": "code",
   "execution_count": null,
   "id": "28a2b8b7-6287-4126-8f77-b9271083e87e",
   "metadata": {},
   "outputs": [],
   "source": [
    "# 解説を読んで実装"
   ]
  },
  {
   "cell_type": "code",
   "execution_count": 1,
   "id": "f19f51ca-c1f6-46f4-975f-0fafdae854c1",
   "metadata": {},
   "outputs": [],
   "source": [
    "import numpy as np\n",
    "import math\n",
    "import collections\n",
    "import copy\n",
    "import decimal\n",
    "import itertools\n",
    "import re\n",
    "import bisect\n",
    "import scipy\n",
    "import heapq\n",
    "import array\n",
    "from collections import deque \n",
    "from functools import reduce\n",
    "from itertools import product\n",
    "from itertools import combinations\n",
    "from itertools import chain\n",
    "from functools import lru_cache\n",
    "from scipy.special import comb\n",
    "from numba import njit\n",
    "from bisect import bisect_right\n",
    "from bisect import bisect_left"
   ]
  },
  {
   "cell_type": "code",
   "execution_count": 2,
   "id": "0a66aac0-d829-449f-82fe-f7343686207a",
   "metadata": {},
   "outputs": [
    {
     "name": "stdin",
     "output_type": "stream",
     "text": [
      " 3\n"
     ]
    }
   ],
   "source": [
    "N = int(input())"
   ]
  },
  {
   "cell_type": "code",
   "execution_count": 3,
   "id": "c7fc13b0-f33f-4c0f-b8f7-db61e9b6c2a9",
   "metadata": {},
   "outputs": [
    {
     "name": "stdin",
     "output_type": "stream",
     "text": [
      " 5 6\n"
     ]
    }
   ],
   "source": [
    "X, Y = map(int, input().split())"
   ]
  },
  {
   "cell_type": "code",
   "execution_count": 4,
   "id": "aa13397f-c459-4a2e-9af5-7263ed0363ea",
   "metadata": {},
   "outputs": [
    {
     "name": "stdin",
     "output_type": "stream",
     "text": [
      " 2 1\n",
      " 3 4\n",
      " 2 3\n"
     ]
    }
   ],
   "source": [
    "AB = [list(map(int, input().split())) for _ in range(N)]"
   ]
  },
  {
   "cell_type": "code",
   "execution_count": 6,
   "id": "588755cc-b0de-4849-8a99-2a86aaacf559",
   "metadata": {},
   "outputs": [],
   "source": [
    "dp = []\n",
    "for _ in range(N+1):\n",
    "    dp2 = [[10**5] * 301 for _ in range(301)]\n",
    "    dp.append(dp2)"
   ]
  },
  {
   "cell_type": "code",
   "execution_count": 10,
   "id": "1ad98010-9726-4f24-88aa-63129f83d6b9",
   "metadata": {},
   "outputs": [],
   "source": [
    "dp[0][0][0] = 0\n",
    "for i, (A, B) in enumerate(AB, 1):\n",
    "    for j in range(301):\n",
    "        for k in range(301):\n",
    "            # 選ばない or 選んで前で設定\n",
    "            dp[i][j][k] = min(dp[i][j][k], dp[i-1][j][k])\n",
    "            # 選ぶ\n",
    "            dp[i][min(j+A, X)][min(k+B, Y)] = min(dp[i][min(j+A, X)][min(k+B, Y)], dp[i-1][j][k]+1)"
   ]
  },
  {
   "cell_type": "code",
   "execution_count": 12,
   "id": "8b46fb0a-70c4-4243-9740-d55f12b46656",
   "metadata": {},
   "outputs": [
    {
     "name": "stdout",
     "output_type": "stream",
     "text": [
      "2\n"
     ]
    }
   ],
   "source": [
    "if dp[N][X][Y] == 10**5:\n",
    "    print('-1')\n",
    "else:\n",
    "    print(dp[N][X][Y])"
   ]
  },
  {
   "cell_type": "code",
   "execution_count": null,
   "id": "6780f369-0658-433c-91b6-6fe643e23b89",
   "metadata": {},
   "outputs": [],
   "source": []
  }
 ],
 "metadata": {
  "kernelspec": {
   "display_name": "Python 3",
   "language": "python",
   "name": "python3"
  },
  "language_info": {
   "codemirror_mode": {
    "name": "ipython",
    "version": 3
   },
   "file_extension": ".py",
   "mimetype": "text/x-python",
   "name": "python",
   "nbconvert_exporter": "python",
   "pygments_lexer": "ipython3",
   "version": "3.6.13"
  }
 },
 "nbformat": 4,
 "nbformat_minor": 5
}
