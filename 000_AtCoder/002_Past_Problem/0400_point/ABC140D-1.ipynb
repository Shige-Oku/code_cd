{
 "cells": [
  {
   "cell_type": "code",
   "execution_count": null,
   "id": "8a60d459-79e9-4a68-bfe1-7188c04ca97f",
   "metadata": {},
   "outputs": [],
   "source": [
    "# 解説を読んで実装"
   ]
  },
  {
   "cell_type": "code",
   "execution_count": 1,
   "id": "aaf67c9b-3615-4092-a839-12bb9f34639c",
   "metadata": {},
   "outputs": [],
   "source": [
    "import sys\n",
    "import numpy as np\n",
    "import math\n",
    "import collections\n",
    "import copy\n",
    "import decimal\n",
    "import itertools\n",
    "import re\n",
    "import bisect\n",
    "import scipy\n",
    "import heapq\n",
    "from collections import deque \n",
    "from functools import reduce\n",
    "from itertools import product\n",
    "from itertools import combinations\n",
    "from itertools import chain\n",
    "from functools import lru_cache\n",
    "from scipy.special import comb\n",
    "from numba import njit\n",
    "from bisect import bisect_right\n",
    "from bisect import bisect_left"
   ]
  },
  {
   "cell_type": "code",
   "execution_count": 37,
   "id": "4571d8cb-142c-4cd3-aad2-02937a770ad7",
   "metadata": {},
   "outputs": [
    {
     "name": "stdin",
     "output_type": "stream",
     "text": [
      " 6 1\n"
     ]
    }
   ],
   "source": [
    "N, K = map(int, input().split())"
   ]
  },
  {
   "cell_type": "code",
   "execution_count": 38,
   "id": "e1893c06-cf95-4422-a369-f5a8a1d78098",
   "metadata": {},
   "outputs": [
    {
     "name": "stdin",
     "output_type": "stream",
     "text": [
      " LRLRRL\n"
     ]
    }
   ],
   "source": [
    "S = input()"
   ]
  },
  {
   "cell_type": "code",
   "execution_count": 39,
   "id": "80d92016-903b-43b8-850b-29d73d3e6a85",
   "metadata": {},
   "outputs": [],
   "source": [
    "b = 1\n",
    "for i, s in enumerate(S[1:], 1):\n",
    "    if S[i-1] != S[i]:\n",
    "        b += 1"
   ]
  },
  {
   "cell_type": "code",
   "execution_count": 40,
   "id": "42a2d3e1-e43d-4afa-bf31-cda9755dd91f",
   "metadata": {},
   "outputs": [
    {
     "name": "stdout",
     "output_type": "stream",
     "text": [
      "3\n"
     ]
    }
   ],
   "source": [
    "if b == 1 or K * 2 > (b-2):\n",
    "    print(N-1)\n",
    "else:\n",
    "    print(N-((b-2-K*2)+2))"
   ]
  },
  {
   "cell_type": "code",
   "execution_count": 33,
   "id": "37a71783-463d-44d2-937d-e88197e087ad",
   "metadata": {},
   "outputs": [
    {
     "data": {
      "text/plain": [
       "-22927"
      ]
     },
     "execution_count": 33,
     "metadata": {},
     "output_type": "execute_result"
    }
   ],
   "source": [
    "b-2-K*2"
   ]
  },
  {
   "cell_type": "code",
   "execution_count": 30,
   "id": "502df4de-6543-4fbd-9221-a632c46ff725",
   "metadata": {},
   "outputs": [
    {
     "data": {
      "text/plain": [
       "60522"
      ]
     },
     "execution_count": 30,
     "metadata": {},
     "output_type": "execute_result"
    }
   ],
   "source": [
    "len(S)"
   ]
  },
  {
   "cell_type": "code",
   "execution_count": 35,
   "id": "8af1c82a-5232-468b-a9b5-bb43b8bf3654",
   "metadata": {},
   "outputs": [
    {
     "data": {
      "text/plain": [
       "(30357, 26641)"
      ]
     },
     "execution_count": 35,
     "metadata": {},
     "output_type": "execute_result"
    }
   ],
   "source": [
    "b, K"
   ]
  },
  {
   "cell_type": "code",
   "execution_count": null,
   "id": "dffe020b-a98b-49cd-9058-085d4c423e71",
   "metadata": {},
   "outputs": [],
   "source": []
  }
 ],
 "metadata": {
  "kernelspec": {
   "display_name": "Python 3",
   "language": "python",
   "name": "python3"
  },
  "language_info": {
   "codemirror_mode": {
    "name": "ipython",
    "version": 3
   },
   "file_extension": ".py",
   "mimetype": "text/x-python",
   "name": "python",
   "nbconvert_exporter": "python",
   "pygments_lexer": "ipython3",
   "version": "3.6.13"
  }
 },
 "nbformat": 4,
 "nbformat_minor": 5
}
