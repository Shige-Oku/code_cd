{
 "cells": [
  {
   "cell_type": "code",
   "execution_count": null,
   "id": "52cb5526-4779-451c-ad8a-4c75f296584b",
   "metadata": {},
   "outputs": [],
   "source": [
    "# 解説を読んで実装 WA"
   ]
  },
  {
   "cell_type": "code",
   "execution_count": 8,
   "id": "53cd405e-51a6-4488-8590-c44269bf0519",
   "metadata": {},
   "outputs": [],
   "source": [
    "import sys\n",
    "import numpy as np\n",
    "import math\n",
    "import collections\n",
    "import copy\n",
    "import decimal\n",
    "import itertools\n",
    "import re\n",
    "import bisect\n",
    "import scipy\n",
    "import heapq\n",
    "from collections import deque \n",
    "from functools import reduce\n",
    "from itertools import product\n",
    "from itertools import combinations\n",
    "from itertools import chain\n",
    "from functools import lru_cache\n",
    "from scipy.special import comb\n",
    "from numba import njit\n",
    "from bisect import bisect_right\n",
    "from bisect import bisect_left"
   ]
  },
  {
   "cell_type": "code",
   "execution_count": 1,
   "id": "150bc201-7842-4a56-a852-83b2b6ec2be5",
   "metadata": {},
   "outputs": [
    {
     "name": "stdin",
     "output_type": "stream",
     "text": [
      " 2 2 5\n"
     ]
    }
   ],
   "source": [
    "N, M, T = map(int, input().split())"
   ]
  },
  {
   "cell_type": "code",
   "execution_count": 2,
   "id": "220d5798-9e60-4f39-b283-9e93adef98fc",
   "metadata": {},
   "outputs": [
    {
     "name": "stdin",
     "output_type": "stream",
     "text": [
      " 1 3\n"
     ]
    }
   ],
   "source": [
    "An = list(map(int, input().split()))"
   ]
  },
  {
   "cell_type": "code",
   "execution_count": 3,
   "id": "016c93dc-bc6f-403d-b22d-ba96cedecc9a",
   "metadata": {},
   "outputs": [
    {
     "name": "stdin",
     "output_type": "stream",
     "text": [
      " 1 2 2\n",
      " 2 1 1\n"
     ]
    }
   ],
   "source": [
    "ABC = [list(map(int, input().split())) for _ in range(M)]"
   ]
  },
  {
   "cell_type": "code",
   "execution_count": 4,
   "id": "0c5d1a10-cf79-4b27-b2a3-e0272751e6bd",
   "metadata": {},
   "outputs": [],
   "source": [
    "graph_g = [[] for _ in range(N+1)]\n",
    "graph_r = [[] for _ in range(N+1)]\n",
    "\n",
    "for A, B, C in ABC:\n",
    "    graph_g[A].append((B, C))\n",
    "    graph_r[B].append((A, C))\n"
   ]
  },
  {
   "cell_type": "code",
   "execution_count": 12,
   "id": "bec43c35-fc54-4691-8f4f-b989245528e8",
   "metadata": {},
   "outputs": [],
   "source": [
    "def solve(graph, dis):\n",
    "    visit = [False] * (N+1)\n",
    "    q = []\n",
    "    heapq.heappush(q, (0, 1))\n",
    "    while q:\n",
    "        c, p = heapq.heappop(q)\n",
    "        if visit[p]:\n",
    "            continue\n",
    "        visit[p] = True\n",
    "        dis[p] = c\n",
    "        for gr in graph[p]:\n",
    "            p2, c2 = gr\n",
    "            if dis[p2] == -1 or dis[p2] >= dis[p] + c2:\n",
    "                dis[p2] = dis[p] + c2\n",
    "                heapq.heappush(q, (dis[p2], p2))\n",
    "    return "
   ]
  },
  {
   "cell_type": "code",
   "execution_count": 13,
   "id": "faa3c24f-4118-4f82-9ace-5349751f23d4",
   "metadata": {},
   "outputs": [],
   "source": [
    "dis_g = [-1] * (N+1) \n",
    "dis_r = [-1] * (N+1)\n",
    "solve(graph_g, dis_g)\n",
    "solve(graph_r, dis_r)\n"
   ]
  },
  {
   "cell_type": "code",
   "execution_count": 14,
   "id": "35e078b1-7c5f-4764-8868-68ebfdf4115a",
   "metadata": {},
   "outputs": [
    {
     "name": "stdout",
     "output_type": "stream",
     "text": [
      "6\n"
     ]
    }
   ],
   "source": [
    "ans = 0\n",
    "for i in range(1, N+1):\n",
    "    if dis_g[i] == -1 or dis_r[i] == -1:\n",
    "        continue\n",
    "    ans = max(ans, (T-dis_g[i]-dis_r[i])*An[i-1])\n",
    "print(ans)"
   ]
  },
  {
   "cell_type": "code",
   "execution_count": 46,
   "id": "d0aab92f-5542-4eb5-9777-892322ec1119",
   "metadata": {},
   "outputs": [
    {
     "data": {
      "text/plain": [
       "([[], [(2, 2)], [(1, 1)]],\n",
       " [[], [(2, 1)], [(1, 2)]],\n",
       " [[-1, -1, -1], [-1, 0, 2], [-1, -1, -1]],\n",
       " [[-1, -1, -1], [-1, 0, -1], [-1, 2, 0]])"
      ]
     },
     "execution_count": 46,
     "metadata": {},
     "output_type": "execute_result"
    }
   ],
   "source": [
    "graph_g, graph_r, dis_g, dis_r"
   ]
  },
  {
   "cell_type": "code",
   "execution_count": null,
   "id": "ab37a05b-879c-440f-b99e-7403cccc08dc",
   "metadata": {},
   "outputs": [],
   "source": []
  }
 ],
 "metadata": {
  "kernelspec": {
   "display_name": "Python 3",
   "language": "python",
   "name": "python3"
  },
  "language_info": {
   "codemirror_mode": {
    "name": "ipython",
    "version": 3
   },
   "file_extension": ".py",
   "mimetype": "text/x-python",
   "name": "python",
   "nbconvert_exporter": "python",
   "pygments_lexer": "ipython3",
   "version": "3.6.13"
  }
 },
 "nbformat": 4,
 "nbformat_minor": 5
}
