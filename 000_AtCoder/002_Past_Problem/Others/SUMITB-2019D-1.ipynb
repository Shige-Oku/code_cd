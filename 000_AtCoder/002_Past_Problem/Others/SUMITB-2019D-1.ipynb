{
 "cells": [
  {
   "cell_type": "code",
   "execution_count": null,
   "metadata": {},
   "outputs": [],
   "source": [
    "# WA"
   ]
  },
  {
   "cell_type": "code",
   "execution_count": 1,
   "metadata": {},
   "outputs": [],
   "source": [
    "import sys\n",
    "import numpy as np\n",
    "import math\n",
    "import collections\n",
    "import copy\n",
    "import decimal\n",
    "import itertools\n",
    "import re\n",
    "import bisect\n",
    "import scipy\n",
    "from collections import deque \n",
    "from functools import reduce\n",
    "from itertools import product\n",
    "from itertools import combinations\n",
    "from functools import lru_cache\n",
    "from scipy.special import comb\n",
    "from numba import njit, jit\n",
    "from bisect import bisect_right\n",
    "from bisect import bisect_left"
   ]
  },
  {
   "cell_type": "code",
   "execution_count": 66,
   "metadata": {},
   "outputs": [
    {
     "name": "stdin",
     "output_type": "stream",
     "text": [
      " 19\n"
     ]
    }
   ],
   "source": [
    "N = int(input())"
   ]
  },
  {
   "cell_type": "code",
   "execution_count": 67,
   "metadata": {},
   "outputs": [
    {
     "name": "stdin",
     "output_type": "stream",
     "text": [
      " 3141592653589793238\n"
     ]
    }
   ],
   "source": [
    "S = input()"
   ]
  },
  {
   "cell_type": "code",
   "execution_count": 68,
   "metadata": {},
   "outputs": [],
   "source": [
    "cnt = [0 for _ in range(10)]\n",
    "SS = \"\"\n",
    "fc = 0\n",
    "ad = set()\n",
    "for s in S:\n",
    "    if cnt[int(s)] >= 3:\n",
    "        if fc == sum(cnt):\n",
    "            continue\n",
    "        else:\n",
    "            if s in ad:\n",
    "                continue\n",
    "            fc = sum(cnt)\n",
    "    else:\n",
    "        cnt[int(s)] += 1\n",
    "        SS += s\n",
    "        ad = set()\n"
   ]
  },
  {
   "cell_type": "code",
   "execution_count": 69,
   "metadata": {},
   "outputs": [],
   "source": [
    "ans = set()\n",
    "for i in range(len(SS)-2):\n",
    "    for j in range(i+1, len(SS)-1):\n",
    "        for k in range(j+1, len(SS)):\n",
    "            ans.add(SS[i]+SS[j]+SS[k])"
   ]
  },
  {
   "cell_type": "code",
   "execution_count": 70,
   "metadata": {},
   "outputs": [
    {
     "name": "stdout",
     "output_type": "stream",
     "text": [
      "323\n"
     ]
    }
   ],
   "source": [
    "print(len(ans))"
   ]
  },
  {
   "cell_type": "code",
   "execution_count": 49,
   "metadata": {},
   "outputs": [
    {
     "data": {
      "text/plain": [
       "('314159265358979328', 323, [0, 2, 2, 3, 1, 3, 1, 1, 2, 3])"
      ]
     },
     "execution_count": 49,
     "metadata": {},
     "output_type": "execute_result"
    }
   ],
   "source": [
    "SS, len(ans), cnt"
   ]
  },
  {
   "cell_type": "code",
   "execution_count": 40,
   "metadata": {},
   "outputs": [],
   "source": [
    "S_c = collections.Counter(S)\n",
    "SS = \"\"\n",
    "for k, v in S_c.items():\n",
    "    if v >= 3:\n",
    "        SS += k * 3\n",
    "    else:\n",
    "        SS += k * v"
   ]
  },
  {
   "cell_type": "code",
   "execution_count": 18,
   "metadata": {},
   "outputs": [],
   "source": [
    "ans = set()\n",
    "for i in range(len(SS)):\n",
    "    for j in range(len(SS)):\n",
    "        if i == j:\n",
    "            continue\n",
    "        for k in range(len(SS)):\n",
    "            if i == k or j == k:\n",
    "                continue\n",
    "            ans.add(SS[i]+SS[j]+SS[k])"
   ]
  },
  {
   "cell_type": "code",
   "execution_count": 19,
   "metadata": {},
   "outputs": [
    {
     "name": "stdout",
     "output_type": "stream",
     "text": [
      "24\n"
     ]
    }
   ],
   "source": [
    "print(len(ans))"
   ]
  },
  {
   "cell_type": "code",
   "execution_count": 41,
   "metadata": {},
   "outputs": [
    {
     "data": {
      "text/plain": [
       "(Counter({'3': 4,\n",
       "          '1': 2,\n",
       "          '4': 1,\n",
       "          '5': 3,\n",
       "          '9': 3,\n",
       "          '2': 2,\n",
       "          '6': 1,\n",
       "          '8': 2,\n",
       "          '7': 1}),\n",
       " '333114555999226887')"
      ]
     },
     "execution_count": 41,
     "metadata": {},
     "output_type": "execute_result"
    }
   ],
   "source": [
    "S_c, SS"
   ]
  },
  {
   "cell_type": "code",
   "execution_count": null,
   "metadata": {},
   "outputs": [],
   "source": []
  }
 ],
 "metadata": {
  "kernelspec": {
   "display_name": "Python 3",
   "language": "python",
   "name": "python3"
  },
  "language_info": {
   "codemirror_mode": {
    "name": "ipython",
    "version": 3
   },
   "file_extension": ".py",
   "mimetype": "text/x-python",
   "name": "python",
   "nbconvert_exporter": "python",
   "pygments_lexer": "ipython3",
   "version": "3.6.10"
  }
 },
 "nbformat": 4,
 "nbformat_minor": 4
}
