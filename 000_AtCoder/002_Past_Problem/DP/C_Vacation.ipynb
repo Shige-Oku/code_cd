{
 "cells": [
  {
   "cell_type": "markdown",
   "metadata": {},
   "source": [
    "### 問題文\n",
    "明日から太郎君の夏休みが始まります。 太郎君は夏休みの計画を立てることにしました。  \n",
    "夏休みは N 日からなります。 各 i (1≤i≤N) について、i 日目には太郎君は次の活動のうちひとつを選んで行います。  \n",
    "  ・A: 海で泳ぐ。 幸福度 ai を得る。  \n",
    "  ・B: 山で虫取りをする。 幸福度 bi を得る。  \n",
    "  ・C: 家で宿題をする。 幸福度 ci を得る。  \n",
    "太郎君は飽き性なので、2 日以上連続で同じ活動を行うことはできません。  \n",
    "太郎君が得る幸福度の総和の最大値を求めてください。\n",
    "\n",
    "### 制約\n",
    "  ・入力はすべて整数である。  \n",
    "  ・1 ≤ N ≤ 10 ** 5  \n",
    "  ・1 ≤ ai, bi, ci ≤ 10 ** 4"
   ]
  },
  {
   "cell_type": "code",
   "execution_count": 1,
   "metadata": {},
   "outputs": [],
   "source": [
    "import sys\n",
    "import numpy as np\n",
    "\n",
    "# input = sys.stdin.readline"
   ]
  },
  {
   "cell_type": "code",
   "execution_count": 2,
   "metadata": {},
   "outputs": [
    {
     "name": "stdin",
     "output_type": "stream",
     "text": [
      " 4\n"
     ]
    }
   ],
   "source": [
    "# N 夏休みの日数\n",
    "n = int(input())"
   ]
  },
  {
   "cell_type": "code",
   "execution_count": 3,
   "metadata": {},
   "outputs": [
    {
     "name": "stdin",
     "output_type": "stream",
     "text": [
      " 10 40 70\n",
      " 20 50 80\n",
      " 30 60 90\n",
      " 10 10 10\n"
     ]
    }
   ],
   "source": [
    "# 太郎君のとる行動\n",
    "act = [list(map(int, input().split())) for ii in range(n)]"
   ]
  },
  {
   "cell_type": "code",
   "execution_count": 19,
   "metadata": {},
   "outputs": [],
   "source": [
    "# 最大値なので0に初期化\n",
    "dp = np.zeros([3, n+1])"
   ]
  },
  {
   "cell_type": "code",
   "execution_count": 20,
   "metadata": {},
   "outputs": [],
   "source": [
    "def retmax(a, b):\n",
    "    if a > b:\n",
    "        return a\n",
    "    return b"
   ]
  },
  {
   "cell_type": "code",
   "execution_count": 21,
   "metadata": {},
   "outputs": [],
   "source": [
    "for i, a_l in enumerate(act):\n",
    "    # i 夏休みの日数分\n",
    "    for j in range(3):\n",
    "        # j 前日にとった行動\n",
    "        for k in range(3):\n",
    "            # k 今日とる行動\n",
    "            if j != k:\n",
    "                # 前日と同じ鼓動はしない。前日と違う行動のみ。\n",
    "                dp[k, i+1] = retmax(dp[k, i+1], dp[j, i]+a_l[k])"
   ]
  },
  {
   "cell_type": "code",
   "execution_count": 22,
   "metadata": {},
   "outputs": [
    {
     "name": "stdout",
     "output_type": "stream",
     "text": [
      "220\n"
     ]
    }
   ],
   "source": [
    "print(int(np.max(dp[:, n], axis=0)))"
   ]
  },
  {
   "cell_type": "code",
   "execution_count": 23,
   "metadata": {},
   "outputs": [
    {
     "data": {
      "text/plain": [
       "array([  0.,  70., 120., 210., 220.])"
      ]
     },
     "execution_count": 23,
     "metadata": {},
     "output_type": "execute_result"
    }
   ],
   "source": [
    "dp.max(axis=0)"
   ]
  },
  {
   "cell_type": "code",
   "execution_count": null,
   "metadata": {},
   "outputs": [],
   "source": []
  }
 ],
 "metadata": {
  "kernelspec": {
   "display_name": "Python 3",
   "language": "python",
   "name": "python3"
  },
  "language_info": {
   "codemirror_mode": {
    "name": "ipython",
    "version": 3
   },
   "file_extension": ".py",
   "mimetype": "text/x-python",
   "name": "python",
   "nbconvert_exporter": "python",
   "pygments_lexer": "ipython3",
   "version": "3.6.7"
  }
 },
 "nbformat": 4,
 "nbformat_minor": 2
}
