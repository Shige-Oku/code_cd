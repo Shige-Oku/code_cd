{
 "cells": [
  {
   "cell_type": "markdown",
   "metadata": {},
   "source": [
    "### 問題文\n",
    "N  個の品物があります。 品物には 1,2,…,N と番号が振られています。 各 i (1≤i≤N) について、品物 i の重さは wi で、価値は vi です。  \n",
    "\n",
    "太郎君は、N 個の品物のうちいくつかを選び、ナップサックに入れて持ち帰ることにしました。 ナップサックの容量は W であり、持ち帰る品物の重さの総和は W 以下でなければなりません。  \n",
    "\n",
    "太郎君が持ち帰る品物の価値の総和の最大値を求めてください。  \n",
    "\n",
    "### 制約\n",
    " ・入力はすべて整数である。  \n",
    " ・1 ≤ N ≤ 100  \n",
    " ・1 ≤ W ≤ 10 ** 9  \n",
    " ・1 ≤ wi ≤ W  \n",
    " ・1 ≤ vi ≤ 10 ** 3"
   ]
  },
  {
   "cell_type": "code",
   "execution_count": 2,
   "metadata": {},
   "outputs": [],
   "source": [
    "import sys\n",
    "import numpy as np\n",
    "\n",
    "# input = sys.stdin.readline"
   ]
  },
  {
   "cell_type": "code",
   "execution_count": 3,
   "metadata": {},
   "outputs": [
    {
     "name": "stdin",
     "output_type": "stream",
     "text": [
      " 6 15\n"
     ]
    }
   ],
   "source": [
    "n, w = map(int, input().split())"
   ]
  },
  {
   "cell_type": "code",
   "execution_count": 8,
   "metadata": {},
   "outputs": [
    {
     "name": "stdin",
     "output_type": "stream",
     "text": [
      " 2 3\n",
      " 1 2\n",
      " 3 6\n",
      " 2 1\n",
      " 1 3\n",
      " 5 85\n"
     ]
    }
   ],
   "source": [
    "lst = [list(map(int, input().split())) for ii in range(n)]"
   ]
  },
  {
   "cell_type": "code",
   "execution_count": 9,
   "metadata": {},
   "outputs": [],
   "source": [
    "dp = np.full([n+1, 100000], 1000000000000000)\n",
    "dp[0, 0] = 0"
   ]
  },
  {
   "cell_type": "code",
   "execution_count": 10,
   "metadata": {},
   "outputs": [],
   "source": [
    "def retmin(a, b):\n",
    "    if a > b:\n",
    "        return a\n",
    "    return b"
   ]
  },
  {
   "cell_type": "code",
   "execution_count": 11,
   "metadata": {},
   "outputs": [],
   "source": [
    "for i, ln in enumerate(lst):\n",
    "    for sum_v in range(100000):\n",
    "        # 選ばない場合\n",
    "        dp[i+1, sum_v] = retmin(dp[i+1, sum_v], dp[i, sum_v])\n",
    "        if sum_v >= ln[1]:\n",
    "            dp[i+1, sum_v] = retmin(dp[i+1, sum_v], dp[i, sum_v-ln[1]]+ln[0])"
   ]
  },
  {
   "cell_type": "code",
   "execution_count": null,
   "metadata": {},
   "outputs": [],
   "source": [
    "print(int(np.max(dp[n, :])))"
   ]
  },
  {
   "cell_type": "code",
   "execution_count": 12,
   "metadata": {},
   "outputs": [
    {
     "data": {
      "text/plain": [
       "1000000000000014"
      ]
     },
     "execution_count": 12,
     "metadata": {},
     "output_type": "execute_result"
    }
   ],
   "source": [
    "np.max(dp[n, :], axis=0)"
   ]
  },
  {
   "cell_type": "code",
   "execution_count": 13,
   "metadata": {},
   "outputs": [],
   "source": [
    "mx = dp[n, :]"
   ]
  },
  {
   "cell_type": "code",
   "execution_count": null,
   "metadata": {},
   "outputs": [],
   "source": [
    "mx = mx[x if ]"
   ]
  }
 ],
 "metadata": {
  "kernelspec": {
   "display_name": "Python 3",
   "language": "python",
   "name": "python3"
  },
  "language_info": {
   "codemirror_mode": {
    "name": "ipython",
    "version": 3
   },
   "file_extension": ".py",
   "mimetype": "text/x-python",
   "name": "python",
   "nbconvert_exporter": "python",
   "pygments_lexer": "ipython3",
   "version": "3.6.7"
  }
 },
 "nbformat": 4,
 "nbformat_minor": 2
}
