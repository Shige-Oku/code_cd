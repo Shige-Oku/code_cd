{
 "cells": [
  {
   "cell_type": "markdown",
   "metadata": {},
   "source": [
    "# 問題文\n",
    "A さん、B さん、C さんの 3 人が以下のようなカードゲームをプレイしています。  \n",
    "  ・最初、3 人はそれぞれ a、b、c いずれかの文字が書かれたカードを、何枚か持っている。これらは入力で与えられた順番に持っており、途中で並べ替えたりしない。  \n",
    "  ・A  さんのターンから始まる。  \n",
    "  ・現在自分のターンである人がカードを 1 枚以上持っているならば、そのうち先頭のカードを捨てる。  \n",
    "  その後、捨てられたカードに書かれているアルファベットと同じ名前の人 (例えば、カードに a と書かれていたならば A さん) のターンとなる。  \n",
    "   ・現在自分のターンである人がカードを 1 枚も持っていないならば、その人がゲームの勝者となり、ゲームは終了する。  \n",
    "3\n",
    "  人が最初に持っているカードがそれぞれ先頭から順に与えられます。 具体的には、文字列 SA、SB、SC が与えられます。  \n",
    "  文字列 \n",
    "SA の i 文字目 ( 1≤i≤|SA| ) に書かれている文字が、A さんの持っている中で先頭から i 番目のカードに 書かれている文字です。  \n",
    "文字列 SB、 SC についても同様です。  \n",
    "最終的に誰がこのゲームの勝者となるかを求めてください。  \n",
    "\n",
    "# 制約\n",
    "  ・1 ≤ |SA| ≤ 100  \n",
    "  ・1 ≤ |SB| ≤ 100  \n",
    "  ・1 ≤ |SC| ≤ 100  \n",
    "  ・SA 、SB、SC に含まれる文字はそれぞれ a、b、c のいずれか"
   ]
  },
  {
   "cell_type": "code",
   "execution_count": 10,
   "metadata": {},
   "outputs": [],
   "source": [
    "import sys"
   ]
  },
  {
   "cell_type": "code",
   "execution_count": 22,
   "metadata": {},
   "outputs": [],
   "source": [
    "card_all = [\"\"] * 3\n",
    "card_num = [0] * 3"
   ]
  },
  {
   "cell_type": "code",
   "execution_count": 23,
   "metadata": {},
   "outputs": [
    {
     "name": "stdin",
     "output_type": "stream",
     "text": [
      " abcb\n"
     ]
    }
   ],
   "source": [
    "# SA Aさんのカード\n",
    "card_all[0] = input()\n",
    "card_num[0] = len(card_all[0])"
   ]
  },
  {
   "cell_type": "code",
   "execution_count": 24,
   "metadata": {},
   "outputs": [
    {
     "name": "stdin",
     "output_type": "stream",
     "text": [
      " aacb\n"
     ]
    }
   ],
   "source": [
    "# SB Bさんのカード\n",
    "card_all[1] = input()\n",
    "card_num[1] = len(card_all[1])"
   ]
  },
  {
   "cell_type": "code",
   "execution_count": 25,
   "metadata": {},
   "outputs": [
    {
     "name": "stdin",
     "output_type": "stream",
     "text": [
      " bccc\n"
     ]
    }
   ],
   "source": [
    "# SC Cさんのカード\n",
    "card_all[2] = input()\n",
    "card_num[2] = len(card_all[2])"
   ]
  },
  {
   "cell_type": "code",
   "execution_count": 26,
   "metadata": {},
   "outputs": [],
   "source": [
    "# 最初はAさんから\n",
    "card = 'a'\n",
    "while True:\n",
    "    i = ord(card) - ord('a')\n",
    "    # 次のカードを取り出し\n",
    "    card = card_all[i][0:1]\n",
    "    # カード数を減算\n",
    "    card_num[i] -= 1\n",
    "    if card_num[i] == -1:\n",
    "        break\n",
    "    # 出したカードを削除\n",
    "    card_all[i] = card_all[i][1:]\n"
   ]
  },
  {
   "cell_type": "code",
   "execution_count": 27,
   "metadata": {},
   "outputs": [
    {
     "name": "stdout",
     "output_type": "stream",
     "text": [
      "C\n"
     ]
    }
   ],
   "source": [
    "# 誰が勝ったか\n",
    "if (card_num[0] == -1):\n",
    "    print(\"A\")\n",
    "if (card_num[1] == -1):\n",
    "    print(\"B\")\n",
    "if (card_num[2] == -1):\n",
    "    print(\"C\")"
   ]
  },
  {
   "cell_type": "code",
   "execution_count": null,
   "metadata": {},
   "outputs": [],
   "source": []
  }
 ],
 "metadata": {
  "kernelspec": {
   "display_name": "Python 3",
   "language": "python",
   "name": "python3"
  },
  "language_info": {
   "codemirror_mode": {
    "name": "ipython",
    "version": 3
   },
   "file_extension": ".py",
   "mimetype": "text/x-python",
   "name": "python",
   "nbconvert_exporter": "python",
   "pygments_lexer": "ipython3",
   "version": "3.6.7"
  }
 },
 "nbformat": 4,
 "nbformat_minor": 2
}
