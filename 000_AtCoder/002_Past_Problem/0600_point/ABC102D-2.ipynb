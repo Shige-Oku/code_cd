{
 "cells": [
  {
   "cell_type": "code",
   "execution_count": 1,
   "id": "6137cd86-29c1-4dfc-87e8-3aa82f231ab4",
   "metadata": {},
   "outputs": [],
   "source": [
    "# 解説を読んで実装"
   ]
  },
  {
   "cell_type": "code",
   "execution_count": 2,
   "id": "5dd639a9-3439-469f-8946-8142db87ea86",
   "metadata": {},
   "outputs": [],
   "source": [
    "import sys\n",
    "import numpy as np\n",
    "import math\n",
    "import collections\n",
    "import copy\n",
    "import decimal\n",
    "import itertools\n",
    "import re\n",
    "import bisect\n",
    "import scipy\n",
    "import heapq\n",
    "from collections import deque \n",
    "from functools import reduce\n",
    "from itertools import product\n",
    "from itertools import combinations\n",
    "from itertools import chain\n",
    "from functools import lru_cache\n",
    "from scipy.special import comb\n",
    "from numba import njit\n",
    "from bisect import bisect_right\n",
    "from bisect import bisect_left"
   ]
  },
  {
   "cell_type": "code",
   "execution_count": 45,
   "id": "a3ddbde1-b8af-4c7a-af67-43b1fe1448f8",
   "metadata": {},
   "outputs": [
    {
     "name": "stdin",
     "output_type": "stream",
     "text": [
      " 10\n"
     ]
    }
   ],
   "source": [
    "N = int(input())"
   ]
  },
  {
   "cell_type": "code",
   "execution_count": 46,
   "id": "aaad2a84-8bbb-41e2-9300-c4df8114f929",
   "metadata": {},
   "outputs": [
    {
     "name": "stdin",
     "output_type": "stream",
     "text": [
      " 10 71 84 33 6 47 23 25 52 64\n"
     ]
    }
   ],
   "source": [
    "An = list(map(int, input().split()))"
   ]
  },
  {
   "cell_type": "code",
   "execution_count": 47,
   "id": "33c30b50-f586-4686-826e-5c60e0b51f47",
   "metadata": {},
   "outputs": [],
   "source": [
    "An_cum = [0, ]\n",
    "for A in An:\n",
    "    An_cum.append(An_cum[-1] + A)"
   ]
  },
  {
   "cell_type": "code",
   "execution_count": 71,
   "id": "08159849-545d-4cc3-9c91-5a49c14b8692",
   "metadata": {},
   "outputs": [],
   "source": [
    "ans = 10**20\n",
    "for i in range(2, N-1):\n",
    "    idx = bisect_left(An_cum, An_cum[i]//2)\n",
    "    if idx > 1 and abs(An_cum[i] - An_cum[idx] - An_cum[idx]) > abs(An_cum[i] - An_cum[idx-1] - An_cum[idx-1]):\n",
    "        P = An_cum[idx-1]\n",
    "        Q = An_cum[i] - An_cum[idx-1]\n",
    "    else:\n",
    "        P = An_cum[idx]\n",
    "        Q = An_cum[i] - An_cum[idx]\n",
    "#     print(idx, P, Q)\n",
    "\n",
    "    idx = bisect_left(An_cum, (An_cum[-1]+An_cum[i])//2)\n",
    "    if idx > i and abs(An_cum[-1] - An_cum[idx] - (An_cum[idx] - An_cum[i])) > abs(An_cum[-1] - An_cum[idx-1] - (An_cum[idx-1] - An_cum[i])):\n",
    "        R = An_cum[idx-1] - An_cum[i]\n",
    "        S = An_cum[-1] - An_cum[idx-1]\n",
    "    else:\n",
    "        R = An_cum[idx] - An_cum[i]\n",
    "        S = An_cum[-1] - An_cum[idx]\n",
    "#     print(idx, R, S)\n",
    "    \n",
    "    ans = min(ans, max(P, Q, R, S)-min(P, Q, R, S))\n",
    "#     print(i, P, Q, R, S, ans, sum((P, Q, R, S)))"
   ]
  },
  {
   "cell_type": "code",
   "execution_count": 72,
   "id": "a6792812-9493-4ca1-bbc6-729a08616b30",
   "metadata": {},
   "outputs": [
    {
     "name": "stdout",
     "output_type": "stream",
     "text": [
      "36\n"
     ]
    }
   ],
   "source": [
    "print(ans)"
   ]
  },
  {
   "cell_type": "code",
   "execution_count": 52,
   "id": "093eb0e1-29ed-4352-97f2-692939f35681",
   "metadata": {},
   "outputs": [
    {
     "data": {
      "text/plain": [
       "[0, 10, 81, 165, 198, 204, 251, 274, 299, 351, 415]"
      ]
     },
     "execution_count": 52,
     "metadata": {},
     "output_type": "execute_result"
    }
   ],
   "source": [
    "An_cum"
   ]
  },
  {
   "cell_type": "code",
   "execution_count": null,
   "id": "67c58652-a40d-4600-8bdc-2f79e8a2d127",
   "metadata": {},
   "outputs": [],
   "source": []
  }
 ],
 "metadata": {
  "kernelspec": {
   "display_name": "Python 3",
   "language": "python",
   "name": "python3"
  },
  "language_info": {
   "codemirror_mode": {
    "name": "ipython",
    "version": 3
   },
   "file_extension": ".py",
   "mimetype": "text/x-python",
   "name": "python",
   "nbconvert_exporter": "python",
   "pygments_lexer": "ipython3",
   "version": "3.6.13"
  }
 },
 "nbformat": 4,
 "nbformat_minor": 5
}
