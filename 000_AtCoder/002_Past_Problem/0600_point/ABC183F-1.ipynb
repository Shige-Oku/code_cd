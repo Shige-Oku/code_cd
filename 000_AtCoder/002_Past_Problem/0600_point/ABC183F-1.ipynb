{
 "cells": [
  {
   "cell_type": "code",
   "execution_count": null,
   "id": "8c96dcbf-a732-4732-bee0-a7af0b9075cb",
   "metadata": {},
   "outputs": [],
   "source": [
    "# TLE => 解説を読んで実装したが TLE"
   ]
  },
  {
   "cell_type": "code",
   "execution_count": 1,
   "id": "f6fbc5ef-34e1-4d62-b457-0de565db09f2",
   "metadata": {},
   "outputs": [],
   "source": [
    "import sys\n",
    "import numpy as np\n",
    "import math\n",
    "import collections\n",
    "import copy\n",
    "import decimal\n",
    "import itertools\n",
    "import re\n",
    "import bisect\n",
    "import scipy\n",
    "import heapq\n",
    "from collections import deque \n",
    "from functools import reduce\n",
    "from itertools import product\n",
    "from itertools import combinations\n",
    "from itertools import chain\n",
    "from functools import lru_cache\n",
    "from scipy.special import comb\n",
    "from numba import njit\n",
    "from bisect import bisect_right\n",
    "from bisect import bisect_left"
   ]
  },
  {
   "cell_type": "code",
   "execution_count": 28,
   "id": "ca4db227-ebad-44bc-bfe4-6c0f47bcd2a8",
   "metadata": {},
   "outputs": [
    {
     "name": "stdin",
     "output_type": "stream",
     "text": [
      " 5 4\n"
     ]
    }
   ],
   "source": [
    "N, Q = map(int, input().split())"
   ]
  },
  {
   "cell_type": "code",
   "execution_count": 29,
   "id": "b686c450-b166-4d0e-9435-1798ee167791",
   "metadata": {},
   "outputs": [
    {
     "name": "stdin",
     "output_type": "stream",
     "text": [
      " 2 2 2 2 2\n"
     ]
    }
   ],
   "source": [
    "Cn = list(map(int, input().split()))"
   ]
  },
  {
   "cell_type": "code",
   "execution_count": 30,
   "id": "a356119c-825b-4e81-a158-152e58801834",
   "metadata": {},
   "outputs": [
    {
     "name": "stdin",
     "output_type": "stream",
     "text": [
      " 1 1 2\n",
      " 1 1 3\n",
      " 1 2 3\n",
      " 2 2 2\n"
     ]
    }
   ],
   "source": [
    "Qn = [list(map(int, input().split())) for _ in range(Q)]"
   ]
  },
  {
   "cell_type": "code",
   "execution_count": 40,
   "id": "ff367ebc-7f51-4d35-acaa-c43eb0350de0",
   "metadata": {},
   "outputs": [],
   "source": [
    "from collections import defaultdict\n",
    "class UnionFind():\n",
    "    # イニシャライザ\n",
    "    def __init__(self, n):\n",
    "        self.n = n  # 頂点の数\n",
    "        self.parents = [-1] * n  # 親の頂点。根は -1\n",
    "        self.size = [1] * n  # 各頂点の所属する木の頂点数\n",
    "        \n",
    "    # 根を返す\n",
    "    def root(self, x):\n",
    "        if self.parents[x] < 0: # 根なのでそのまま返す\n",
    "            return x\n",
    "        else:\n",
    "            self.parents[x] = self.root(self.parents[x])  # 経路圧縮\n",
    "            return self.parents[x]\n",
    "        \n",
    "    # x, y が同じ木に属するか\n",
    "    def issame(self, x, y):\n",
    "        return self.root(x) == self.root(y)\n",
    "    \n",
    "    # x y を併合する    \n",
    "    def unite(self, x, y):\n",
    "        x = self.root(x)\n",
    "        y = self.root(y)\n",
    "        \n",
    "        # 元々同じ木に所属するので、何もせずリターン\n",
    "        if x == y:\n",
    "            return False\n",
    "        \n",
    "        # 大きいほうにまとめる。 y を x にまとめるようにスワップ\n",
    "        if self.parents[x] < self.parents[y]:\n",
    "            x, y = y, x\n",
    "        # 小さいほうの親を大きいほうを親に\n",
    "        self.parents[y] = x\n",
    "        # 大きいほうの頂点に小さいほうの数を加算\n",
    "        self.size[x] += self.size[y]\n",
    "        return True\n",
    "    \n",
    "    # x の所属する頂点数を返す\n",
    "    def size(self, x):\n",
    "        return self.size[self.root(x)]\n",
    "    \n",
    "    # x の所属する頂点の一覧を返す\n",
    "    def getmembers(self, x):\n",
    "        root = self.root(x)\n",
    "        return [i for i in range(self.n) if self.root(i) == root]"
   ]
  },
  {
   "cell_type": "code",
   "execution_count": 39,
   "id": "881a1643-0bdb-4e59-8705-ea536d6e6d80",
   "metadata": {},
   "outputs": [
    {
     "name": "stdout",
     "output_type": "stream",
     "text": [
      "3\n"
     ]
    }
   ],
   "source": [
    "uf = UnionFind(N)\n",
    "members = [defaultdict(int) for _ in range(N)]\n",
    "for i, c in enumerate(Cn):\n",
    "    members[i][c] = 1\n",
    "for q, x, y in Qn:\n",
    "    if q == 1:\n",
    "        rx = uf.root(x-1)\n",
    "        ry = uf.root(y-1)\n",
    "        if rx != ry:\n",
    "            uf.unite(x-1, y-1)\n",
    "            rt = uf.root(x-1)\n",
    "            if rx != rt:\n",
    "                rx, ry = ry, rx\n",
    "            for key, value in members[ry].items():\n",
    "                members[rx][key] += value\n",
    "    else:\n",
    "        print(members[uf.root(x-1)][y])"
   ]
  },
  {
   "cell_type": "code",
   "execution_count": 41,
   "id": "cb87582e-2f50-4153-a219-a477c0b6cfc6",
   "metadata": {},
   "outputs": [
    {
     "data": {
      "text/plain": [
       "[defaultdict(int, {2: 3}),\n",
       " defaultdict(int, {2: 1}),\n",
       " defaultdict(int, {2: 1}),\n",
       " defaultdict(int, {2: 1}),\n",
       " defaultdict(int, {2: 1})]"
      ]
     },
     "execution_count": 41,
     "metadata": {},
     "output_type": "execute_result"
    }
   ],
   "source": [
    "members"
   ]
  },
  {
   "cell_type": "code",
   "execution_count": 34,
   "id": "c9626bff-5c9e-4982-a50b-254a9609a2a3",
   "metadata": {},
   "outputs": [],
   "source": [
    "members = [defaultdict(int) for _ in range(N)]\n",
    "for i, c in enumerate(Cn):\n",
    "    members[i][c] = 1"
   ]
  },
  {
   "cell_type": "code",
   "execution_count": 36,
   "id": "bc3adf48-3c9b-4909-8d73-6f8f763085ed",
   "metadata": {},
   "outputs": [
    {
     "data": {
      "text/plain": [
       "[defaultdict(int, {2: 1}),\n",
       " defaultdict(int, {2: 1}),\n",
       " defaultdict(int, {2: 1}),\n",
       " defaultdict(int, {2: 1}),\n",
       " defaultdict(int, {2: 1})]"
      ]
     },
     "execution_count": 36,
     "metadata": {},
     "output_type": "execute_result"
    }
   ],
   "source": [
    "members"
   ]
  },
  {
   "cell_type": "code",
   "execution_count": 10,
   "id": "ae03a9e2-9df2-4347-a060-d2bf1647d6de",
   "metadata": {},
   "outputs": [],
   "source": [
    "# TLE"
   ]
  },
  {
   "cell_type": "code",
   "execution_count": null,
   "id": "f51521bd-9c59-4d88-9586-5d1b3106a391",
   "metadata": {},
   "outputs": [],
   "source": [
    "uf = UnionFind(N)\n",
    "for q, x, y in Qn:\n",
    "    if q == 1:\n",
    "        uf.unite(x-1, y-1)\n",
    "    else:\n",
    "        members = uf.getmembers(x-1)\n",
    "        cnt = 0\n",
    "        for member in members:\n",
    "            if Cn[member] == y:\n",
    "                cnt += 1\n",
    "        print(cnt)"
   ]
  }
 ],
 "metadata": {
  "kernelspec": {
   "display_name": "Python 3",
   "language": "python",
   "name": "python3"
  },
  "language_info": {
   "codemirror_mode": {
    "name": "ipython",
    "version": 3
   },
   "file_extension": ".py",
   "mimetype": "text/x-python",
   "name": "python",
   "nbconvert_exporter": "python",
   "pygments_lexer": "ipython3",
   "version": "3.6.13"
  }
 },
 "nbformat": 4,
 "nbformat_minor": 5
}
