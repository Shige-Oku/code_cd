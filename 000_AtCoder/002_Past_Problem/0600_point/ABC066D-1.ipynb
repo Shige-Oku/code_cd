{
 "cells": [
  {
   "cell_type": "code",
   "execution_count": 87,
   "id": "2de98fdd-ff8f-40b5-9f5f-ec5a827b92fd",
   "metadata": {},
   "outputs": [],
   "source": [
    "# 解説を読んで実装"
   ]
  },
  {
   "cell_type": "code",
   "execution_count": 1,
   "id": "570faccf-1401-4610-a401-b89a508c4712",
   "metadata": {},
   "outputs": [],
   "source": [
    "import sys\n",
    "import numpy as np\n",
    "import math\n",
    "import collections\n",
    "import copy\n",
    "import decimal\n",
    "import itertools\n",
    "import re\n",
    "import bisect\n",
    "import scipy\n",
    "import heapq\n",
    "from collections import deque \n",
    "from functools import reduce\n",
    "from itertools import product\n",
    "from itertools import combinations\n",
    "from itertools import chain\n",
    "from functools import lru_cache\n",
    "from scipy.special import comb\n",
    "from numba import njit\n",
    "from bisect import bisect_right\n",
    "from bisect import bisect_left"
   ]
  },
  {
   "cell_type": "code",
   "execution_count": 95,
   "id": "fb13c34a-86e4-40ba-a807-27848b109e69",
   "metadata": {},
   "outputs": [
    {
     "name": "stdin",
     "output_type": "stream",
     "text": [
      " 32\n"
     ]
    }
   ],
   "source": [
    "N = int(input())"
   ]
  },
  {
   "cell_type": "code",
   "execution_count": 78,
   "id": "ccb70ad1-e2df-4fe0-8ea3-469181bf9109",
   "metadata": {},
   "outputs": [
    {
     "name": "stdin",
     "output_type": "stream",
     "text": [
      " 29 19 7 10 26 32 27 4 11 20 2 8 16 23 5 14 6 12 17 22 18 30 28 24 15 1 25 3 13 21 19 31 9\n"
     ]
    }
   ],
   "source": [
    "An = list(map(int, input().split()))"
   ]
  },
  {
   "cell_type": "code",
   "execution_count": 96,
   "id": "2b412464-ccac-4439-8e33-894c597f58d3",
   "metadata": {},
   "outputs": [],
   "source": [
    "di = {}\n",
    "for i, A in enumerate(An, 1):\n",
    "    if A in di:\n",
    "        l = di[A]\n",
    "        r = i\n",
    "        break\n",
    "    di[A] = i"
   ]
  },
  {
   "cell_type": "code",
   "execution_count": 106,
   "id": "da21a387-d96a-491e-9de7-4cfe4d7adee3",
   "metadata": {},
   "outputs": [],
   "source": [
    "def COMinit():\n",
    "    fac[:2] = 1, 1\n",
    "    finv[:2] = 1, 1\n",
    "    inv[1] = 1\n",
    "    for i in range(2, n):\n",
    "        fac[i] = fac[i-1] * i % MOD\n",
    "        inv[i] = MOD - inv[MOD%i] * (MOD // i) % MOD\n",
    "        finv[i] = finv[i-1] * inv[i] % MOD\n",
    "    return"
   ]
  },
  {
   "cell_type": "code",
   "execution_count": 107,
   "id": "671edf90-3c6a-4f61-b816-c21bdfe81539",
   "metadata": {},
   "outputs": [],
   "source": [
    "def COM(n, k):\n",
    "    if  n < k:\n",
    "        return 0\n",
    "    if n < 0 or k < 0:\n",
    "        return 0\n",
    "    return fac[n] * (finv[k] * finv[n-k] % MOD) % MOD"
   ]
  },
  {
   "cell_type": "code",
   "execution_count": 116,
   "id": "4d3067be-8cd0-48e7-9c2f-801dde4417d4",
   "metadata": {},
   "outputs": [],
   "source": [
    "n = N + 2\n",
    "MOD = 10**9 + 7\n",
    "fac = [0] * (n+1)\n",
    "finv = [0] * (n+1)\n",
    "inv = [0] * (n+1)\n",
    "COMinit()"
   ]
  },
  {
   "cell_type": "code",
   "execution_count": 117,
   "id": "847da0cb-5251-47dd-9877-d3c0544372e3",
   "metadata": {},
   "outputs": [
    {
     "data": {
      "text/plain": [
       "[1, 1, 2, 6, 24]"
      ]
     },
     "execution_count": 117,
     "metadata": {},
     "output_type": "execute_result"
    }
   ],
   "source": [
    "fac[:5]"
   ]
  },
  {
   "cell_type": "code",
   "execution_count": 118,
   "id": "f9de5ec7-422e-4c1d-ba5d-d6d876109b47",
   "metadata": {},
   "outputs": [
    {
     "name": "stdout",
     "output_type": "stream",
     "text": [
      "32\n",
      "525\n",
      "5453\n",
      "40919\n",
      "237336\n",
      "1107568\n",
      "4272048\n",
      "13884156\n",
      "38567100\n",
      "92561040\n",
      "193536720\n",
      "354817320\n",
      "573166440\n",
      "818809200\n",
      "37158313\n",
      "166803103\n",
      "166803103\n",
      "37158313\n",
      "818809200\n",
      "573166440\n",
      "354817320\n",
      "193536720\n",
      "92561040\n",
      "38567100\n",
      "13884156\n",
      "4272048\n",
      "1107568\n",
      "237336\n",
      "40920\n",
      "5456\n",
      "528\n",
      "33\n",
      "1\n"
     ]
    }
   ],
   "source": [
    "num = 1\n",
    "for i in range(1, N+2):\n",
    "    print((COM(N+1, i) - COM(l-1+N+1-r, i-1)) % (10**9 + 7))\n"
   ]
  },
  {
   "cell_type": "code",
   "execution_count": 102,
   "id": "a00a2068-565d-4a45-8f77-3b1bc0b5ec9b",
   "metadata": {},
   "outputs": [
    {
     "data": {
      "text/plain": [
       "(33, 0, 32)"
      ]
     },
     "execution_count": 102,
     "metadata": {},
     "output_type": "execute_result"
    }
   ],
   "source": [
    "i, s, N"
   ]
  },
  {
   "cell_type": "code",
   "execution_count": 120,
   "id": "c7b4d501-7a72-4678-980d-6eb8a892a694",
   "metadata": {},
   "outputs": [
    {
     "data": {
      "text/plain": [
       "33"
      ]
     },
     "execution_count": 120,
     "metadata": {},
     "output_type": "execute_result"
    }
   ],
   "source": [
    "COM(33, 1)"
   ]
  },
  {
   "cell_type": "code",
   "execution_count": 119,
   "id": "d599a678-9bfa-4ca9-9bc2-d4d3033bb9a7",
   "metadata": {},
   "outputs": [
    {
     "data": {
      "text/plain": [
       "(2, 31)"
      ]
     },
     "execution_count": 119,
     "metadata": {},
     "output_type": "execute_result"
    }
   ],
   "source": [
    "l, r"
   ]
  },
  {
   "cell_type": "code",
   "execution_count": 76,
   "id": "0886a0cf-3d9d-44ec-a28e-e1ccbc86beb0",
   "metadata": {},
   "outputs": [],
   "source": [
    "# factorial_table"
   ]
  },
  {
   "cell_type": "code",
   "execution_count": null,
   "id": "81cdeb00-0f73-4317-9fa4-09a1e7d9d0fc",
   "metadata": {},
   "outputs": [],
   "source": []
  }
 ],
 "metadata": {
  "kernelspec": {
   "display_name": "Python 3",
   "language": "python",
   "name": "python3"
  },
  "language_info": {
   "codemirror_mode": {
    "name": "ipython",
    "version": 3
   },
   "file_extension": ".py",
   "mimetype": "text/x-python",
   "name": "python",
   "nbconvert_exporter": "python",
   "pygments_lexer": "ipython3",
   "version": "3.6.13"
  }
 },
 "nbformat": 4,
 "nbformat_minor": 5
}
