{
 "cells": [
  {
   "cell_type": "code",
   "execution_count": null,
   "id": "e9fa79cb-d91a-447f-9947-b9e4bf62c12f",
   "metadata": {},
   "outputs": [],
   "source": [
    "# 解説を読んで実装"
   ]
  },
  {
   "cell_type": "code",
   "execution_count": 1,
   "id": "d42c2d4f-7af5-4156-a526-784572f6f717",
   "metadata": {},
   "outputs": [],
   "source": [
    "import numpy as np\n",
    "import math\n",
    "import collections\n",
    "import copy\n",
    "import decimal\n",
    "import itertools\n",
    "import re\n",
    "import bisect\n",
    "import scipy\n",
    "import heapq\n",
    "import array\n",
    "from collections import deque\n",
    "from functools import reduce\n",
    "from itertools import product\n",
    "from itertools import combinations\n",
    "from itertools import chain\n",
    "from functools import lru_cache\n",
    "from scipy.special import comb\n",
    "from numba import njit\n",
    "from bisect import bisect_right\n",
    "from bisect import bisect_left"
   ]
  },
  {
   "cell_type": "code",
   "execution_count": 45,
   "id": "95a46851-31f4-4705-89e1-3265d0946efb",
   "metadata": {},
   "outputs": [
    {
     "name": "stdin",
     "output_type": "stream",
     "text": [
      " 4 8 10\n"
     ]
    }
   ],
   "source": [
    "A1, A2, A3 = map(int, input().split())"
   ]
  },
  {
   "cell_type": "code",
   "execution_count": 30,
   "id": "10d8168b-3c4f-4fcb-ac0b-4d6edb04486b",
   "metadata": {},
   "outputs": [],
   "source": [
    "x = A2 * 2 - A1 - A3"
   ]
  },
  {
   "cell_type": "code",
   "execution_count": 36,
   "id": "8ff08731-9b9a-457e-a027-53b01039acb9",
   "metadata": {},
   "outputs": [
    {
     "name": "stdout",
     "output_type": "stream",
     "text": [
      "182624017086885\n"
     ]
    }
   ],
   "source": [
    "if x < 0:\n",
    "    q, m  = divmod(abs(x), 2)\n",
    "    if x % 2 == 0:\n",
    "        print(q+m)\n",
    "    else:\n",
    "        print(q+m+1)\n",
    "else:\n",
    "    print(x)"
   ]
  },
  {
   "cell_type": "code",
   "execution_count": 32,
   "id": "53453ec8-6ae0-45e8-97d1-d64b98bc2b63",
   "metadata": {},
   "outputs": [
    {
     "data": {
      "text/plain": [
       "(-365248034173767, 999999999999999)"
      ]
     },
     "execution_count": 32,
     "metadata": {},
     "output_type": "execute_result"
    }
   ],
   "source": [
    "x, k"
   ]
  },
  {
   "cell_type": "code",
   "execution_count": 33,
   "id": "be58775b-3cf1-423b-8f68-04381ff1cf05",
   "metadata": {},
   "outputs": [
    {
     "data": {
      "text/plain": [
       "(182624017086883, 1)"
      ]
     },
     "execution_count": 33,
     "metadata": {},
     "output_type": "execute_result"
    }
   ],
   "source": [
    "q, m"
   ]
  },
  {
   "cell_type": "code",
   "execution_count": 46,
   "id": "69fed0a0-b630-474a-b9d4-ada76aac2792",
   "metadata": {},
   "outputs": [],
   "source": [
    "x = A2 * 2 - A1 - A3"
   ]
  },
  {
   "cell_type": "code",
   "execution_count": 50,
   "id": "a604f572-723c-4e34-9cb4-0734207d2f78",
   "metadata": {},
   "outputs": [],
   "source": [
    "k = max(0, (1-x)//2)"
   ]
  },
  {
   "cell_type": "code",
   "execution_count": 51,
   "id": "8875e4fa-a44a-4b9b-bb11-38136d06a4dd",
   "metadata": {},
   "outputs": [
    {
     "name": "stdout",
     "output_type": "stream",
     "text": [
      "2\n"
     ]
    }
   ],
   "source": [
    "print(x + 3 * k)"
   ]
  },
  {
   "cell_type": "code",
   "execution_count": 49,
   "id": "332a0e94-6c67-4716-878d-22daf897145b",
   "metadata": {},
   "outputs": [
    {
     "data": {
      "text/plain": [
       "(2, 1)"
      ]
     },
     "execution_count": 49,
     "metadata": {},
     "output_type": "execute_result"
    }
   ],
   "source": [
    "x, k"
   ]
  },
  {
   "cell_type": "code",
   "execution_count": null,
   "id": "4ad82bdf-d2dd-4ea7-9b77-2fe3eb1686bd",
   "metadata": {},
   "outputs": [],
   "source": []
  }
 ],
 "metadata": {
  "kernelspec": {
   "display_name": "Python 3",
   "language": "python",
   "name": "python3"
  },
  "language_info": {
   "codemirror_mode": {
    "name": "ipython",
    "version": 3
   },
   "file_extension": ".py",
   "mimetype": "text/x-python",
   "name": "python",
   "nbconvert_exporter": "python",
   "pygments_lexer": "ipython3",
   "version": "3.6.13"
  }
 },
 "nbformat": 4,
 "nbformat_minor": 5
}
