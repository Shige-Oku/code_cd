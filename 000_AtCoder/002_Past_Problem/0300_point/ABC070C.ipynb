{
 "cells": [
  {
   "cell_type": "markdown",
   "metadata": {},
   "source": [
    "### 問題文\n",
    "N 台の時計があり、i(1≦i≦N) 番目の時計の針はちょうど Ti 秒で時計盤を 1 周します。  \n",
    "最初、全ての時計の針は真っ直ぐ上に向いており、止まっています。イルカは、全ての時計の針を同時に動かし始めました。  \n",
    "再び、全ての時計の針が真っ直ぐ上に向くのは何秒後でしょうか?  \n",
    "### 制約\n",
    "  ・1≦N≦100   \n",
    "  ・1≦Ti≦10 ** 18  \n",
    "  ・入力は全て整数である。  \n",
    "  ・答えは 10 ** 18 秒以内である。  "
   ]
  },
  {
   "cell_type": "code",
   "execution_count": 1,
   "metadata": {},
   "outputs": [],
   "source": [
    "# ユークリッドの互除法を使用"
   ]
  },
  {
   "cell_type": "code",
   "execution_count": 2,
   "metadata": {},
   "outputs": [],
   "source": [
    "import sys\n",
    "import math"
   ]
  },
  {
   "cell_type": "code",
   "execution_count": 3,
   "metadata": {},
   "outputs": [
    {
     "name": "stdin",
     "output_type": "stream",
     "text": [
      " 2\n"
     ]
    }
   ],
   "source": [
    "# N 時計の数\n",
    "n = int(input())"
   ]
  },
  {
   "cell_type": "code",
   "execution_count": 4,
   "metadata": {},
   "outputs": [
    {
     "name": "stdin",
     "output_type": "stream",
     "text": [
      " 2\n",
      " 3\n"
     ]
    }
   ],
   "source": [
    "# Ti 各時計が1周する秒数\n",
    "t = [int(input()) for i in range(n)]"
   ]
  },
  {
   "cell_type": "code",
   "execution_count": 5,
   "metadata": {},
   "outputs": [],
   "source": [
    "# 最大公約数を求める\n",
    "def gcb(a, b):\n",
    "    if b == 0:\n",
    "        return a\n",
    "    return int(gcb(b, a % b))"
   ]
  },
  {
   "cell_type": "code",
   "execution_count": 6,
   "metadata": {},
   "outputs": [],
   "source": [
    "def lcm(a, b):\n",
    "    g = gcb(a, b)\n",
    "    # 最小公倍数は a * b / 最小公倍数\n",
    "    return a * b // g"
   ]
  },
  {
   "cell_type": "code",
   "execution_count": 7,
   "metadata": {},
   "outputs": [
    {
     "name": "stdout",
     "output_type": "stream",
     "text": [
      "6\n"
     ]
    }
   ],
   "source": [
    "if (n == 1):\n",
    "    print(t[0])\n",
    "else:\n",
    "    ans = 1\n",
    "    for num in t:\n",
    "        ans = lcm(ans, num)\n",
    "    print(int(ans))"
   ]
  },
  {
   "cell_type": "code",
   "execution_count": null,
   "metadata": {},
   "outputs": [],
   "source": []
  },
  {
   "cell_type": "code",
   "execution_count": null,
   "metadata": {},
   "outputs": [],
   "source": []
  }
 ],
 "metadata": {
  "kernelspec": {
   "display_name": "Python 3",
   "language": "python",
   "name": "python3"
  },
  "language_info": {
   "codemirror_mode": {
    "name": "ipython",
    "version": 3
   },
   "file_extension": ".py",
   "mimetype": "text/x-python",
   "name": "python",
   "nbconvert_exporter": "python",
   "pygments_lexer": "ipython3",
   "version": "3.6.7"
  }
 },
 "nbformat": 4,
 "nbformat_minor": 2
}
