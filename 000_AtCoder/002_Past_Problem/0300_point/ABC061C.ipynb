{
 "cells": [
  {
   "cell_type": "markdown",
   "metadata": {},
   "source": [
    "# 問題文\n",
    "空の配列が 1 つあります。  \n",
    "この配列に、整数を配列に挿入する操作を N 回行います。  \n",
    "i(1≦i≦N)  回目の操作では、配列に整数 ai を bi 個挿入します。  \n",
    "N 回の挿入操作後の配列の中で、K 番目に小さい数を求めてください。  \n",
    "例えば、配列が {1,2,2,3,3,3} の時、4 番目に小さい数は 3 となります。  \n",
    "\n",
    "# 制約\n",
    "  ・1 ≦ N ≦ 10 ** 5  \n",
    "  ・1 ≦ ai, bi ≦ 10 ** 5  \n",
    "  ・1 ≦ K ≦b1 … + … bn  \n",
    "  ・入力は全て整数である。"
   ]
  },
  {
   "cell_type": "code",
   "execution_count": 1,
   "metadata": {},
   "outputs": [],
   "source": [
    "import sys\n",
    "import numpy as np"
   ]
  },
  {
   "cell_type": "code",
   "execution_count": 2,
   "metadata": {},
   "outputs": [
    {
     "name": "stdin",
     "output_type": "stream",
     "text": [
      " 3 4\n"
     ]
    }
   ],
   "source": [
    "# N K 操作回数、K番目の値\n",
    "n, k = map(int, input().split())"
   ]
  },
  {
   "cell_type": "code",
   "execution_count": 7,
   "metadata": {},
   "outputs": [
    {
     "name": "stdin",
     "output_type": "stream",
     "text": [
      " 1 1\n",
      " 3 3\n",
      " 2 2\n"
     ]
    }
   ],
   "source": [
    "# ai, bi  追加する整数 ai, 追加する数 bi\n",
    "s = []\n",
    "for i in range(n):\n",
    "    s.append(list(map(int, input().split())))"
   ]
  },
  {
   "cell_type": "code",
   "execution_count": 12,
   "metadata": {},
   "outputs": [],
   "source": [
    "# ai, bi の順にソート\n",
    "s.sort()\n",
    "\n",
    "number = 0\n",
    "for s_item in s:\n",
    "    # kの位置以上に来たか\n",
    "    number += s_item[1]\n",
    "    if number >= k:\n",
    "        number_k = s_item[0]\n",
    "        break"
   ]
  },
  {
   "cell_type": "code",
   "execution_count": 13,
   "metadata": {},
   "outputs": [
    {
     "name": "stdout",
     "output_type": "stream",
     "text": [
      "3\n"
     ]
    }
   ],
   "source": [
    "print(number_k)"
   ]
  },
  {
   "cell_type": "code",
   "execution_count": null,
   "metadata": {},
   "outputs": [],
   "source": []
  }
 ],
 "metadata": {
  "kernelspec": {
   "display_name": "Python 3",
   "language": "python",
   "name": "python3"
  },
  "language_info": {
   "codemirror_mode": {
    "name": "ipython",
    "version": 3
   },
   "file_extension": ".py",
   "mimetype": "text/x-python",
   "name": "python",
   "nbconvert_exporter": "python",
   "pygments_lexer": "ipython3",
   "version": "3.6.7"
  }
 },
 "nbformat": 4,
 "nbformat_minor": 2
}
