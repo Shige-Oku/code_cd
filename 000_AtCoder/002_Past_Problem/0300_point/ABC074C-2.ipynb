{
 "cells": [
  {
   "cell_type": "code",
   "execution_count": 1,
   "metadata": {},
   "outputs": [],
   "source": [
    "import sys\n",
    "import numpy as np\n",
    "import math\n",
    "import collections\n",
    "import copy\n",
    "import decimal\n",
    "import itertools\n",
    "import re\n",
    "from collections import deque \n",
    "from functools import reduce\n",
    "from itertools import product\n",
    "from itertools import combinations\n",
    "from functools import lru_cache"
   ]
  },
  {
   "cell_type": "code",
   "execution_count": 48,
   "metadata": {},
   "outputs": [
    {
     "name": "stdin",
     "output_type": "stream",
     "text": [
      " 17 19 22 26 55 2802\n"
     ]
    }
   ],
   "source": [
    "A, B, C, D, E, F = map(int, input().split())"
   ]
  },
  {
   "cell_type": "code",
   "execution_count": 49,
   "metadata": {},
   "outputs": [],
   "source": [
    "wa = set()\n",
    "for i in range(30):\n",
    "    for j in range(30):\n",
    "        if i * 100 * A + j * 100 * B >= F:\n",
    "            break\n",
    "        wa.add(i * 100 * A + j * 100 * B)\n",
    "# wa.remove(0)"
   ]
  },
  {
   "cell_type": "code",
   "execution_count": 50,
   "metadata": {},
   "outputs": [],
   "source": [
    "par = 0\n",
    "ans_wa = 100*A\n",
    "ans_su = 0\n",
    "for wat in wa:\n",
    "    su = min(wat * E // 100, F - wat)\n",
    "    cnt_c = su // C\n",
    "#     print(su, cnt_c)\n",
    "    for i in range(cnt_c+1):\n",
    "        su_C = i * C\n",
    "        su_D = (su - su_C) // D * D\n",
    "        total = wat + su_C + su_D\n",
    "        if total == 0:\n",
    "            continue\n",
    "#         print(i, su_C, su_D, total, par)\n",
    "        if (su_C + su_D) / total > par:\n",
    "            par = (su_C + su_D) / total\n",
    "            ans_wa = wat\n",
    "            ans_su = su_C + su_D\n",
    "#             print(i, ans_wa, ans_su)\n",
    "#     print(ii, jj)\n",
    "#     print(ans_wa, ans_su)"
   ]
  },
  {
   "cell_type": "code",
   "execution_count": 51,
   "metadata": {},
   "outputs": [
    {
     "name": "stdout",
     "output_type": "stream",
     "text": [
      "2634 934\n"
     ]
    }
   ],
   "source": [
    "print(ans_wa+ans_su, ans_su)"
   ]
  },
  {
   "cell_type": "code",
   "execution_count": 95,
   "metadata": {},
   "outputs": [
    {
     "data": {
      "text/plain": [
       "({1700, 1900}, 1045, 55, 1900)"
      ]
     },
     "execution_count": 95,
     "metadata": {},
     "output_type": "execute_result"
    }
   ],
   "source": [
    "wa, su, E, wat"
   ]
  },
  {
   "cell_type": "code",
   "execution_count": 32,
   "metadata": {},
   "outputs": [
    {
     "data": {
      "text/plain": [
       "True"
      ]
     },
     "execution_count": 32,
     "metadata": {},
     "output_type": "execute_result"
    }
   ],
   "source": [
    "ans_su / (ans_wa+ans_su)"
   ]
  },
  {
   "cell_type": "code",
   "execution_count": 31,
   "metadata": {},
   "outputs": [
    {
     "data": {
      "text/plain": [
       "0.3545937737281701"
      ]
     },
     "execution_count": 31,
     "metadata": {},
     "output_type": "execute_result"
    }
   ],
   "source": [
    "934 / 2634"
   ]
  },
  {
   "cell_type": "code",
   "execution_count": 12,
   "metadata": {},
   "outputs": [
    {
     "data": {
      "text/plain": [
       "(935, 1045)"
      ]
     },
     "execution_count": 12,
     "metadata": {},
     "output_type": "execute_result"
    }
   ],
   "source": [
    "A * 100 * E // 100, B * 100 * E // 100, "
   ]
  },
  {
   "cell_type": "code",
   "execution_count": 19,
   "metadata": {},
   "outputs": [
    {
     "data": {
      "text/plain": [
       "35"
      ]
     },
     "execution_count": 19,
     "metadata": {},
     "output_type": "execute_result"
    }
   ],
   "source": [
    "935 // 26"
   ]
  },
  {
   "cell_type": "code",
   "execution_count": 23,
   "metadata": {},
   "outputs": [
    {
     "name": "stdout",
     "output_type": "stream",
     "text": [
      "7 30\n",
      "20 19\n",
      "33 8\n"
     ]
    }
   ],
   "source": [
    "for i in range(42):\n",
    "    for j in range(42):\n",
    "        if i*C + j*D == 934:\n",
    "            print(i, j)"
   ]
  },
  {
   "cell_type": "code",
   "execution_count": 24,
   "metadata": {},
   "outputs": [
    {
     "data": {
      "text/plain": [
       "934"
      ]
     },
     "execution_count": 24,
     "metadata": {},
     "output_type": "execute_result"
    }
   ],
   "source": [
    "7*C + 30*D"
   ]
  },
  {
   "cell_type": "code",
   "execution_count": null,
   "metadata": {},
   "outputs": [],
   "source": []
  }
 ],
 "metadata": {
  "kernelspec": {
   "display_name": "Python 3",
   "language": "python",
   "name": "python3"
  },
  "language_info": {
   "codemirror_mode": {
    "name": "ipython",
    "version": 3
   },
   "file_extension": ".py",
   "mimetype": "text/x-python",
   "name": "python",
   "nbconvert_exporter": "python",
   "pygments_lexer": "ipython3",
   "version": "3.6.10"
  }
 },
 "nbformat": 4,
 "nbformat_minor": 4
}
