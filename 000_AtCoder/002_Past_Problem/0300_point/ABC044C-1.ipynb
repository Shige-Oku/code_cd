{
 "cells": [
  {
   "cell_type": "code",
   "execution_count": null,
   "id": "9bc7e58b-53c6-4a3a-88b6-bf372adf687a",
   "metadata": {},
   "outputs": [],
   "source": [
    "# サンプルが合わない"
   ]
  },
  {
   "cell_type": "code",
   "execution_count": 1,
   "id": "4d0111a3-cb9a-4e59-b0f1-72cf50ddd702",
   "metadata": {},
   "outputs": [],
   "source": [
    "import sys\n",
    "import numpy as np\n",
    "import math\n",
    "import collections\n",
    "import copy\n",
    "import decimal\n",
    "import itertools\n",
    "import re\n",
    "import bisect\n",
    "import scipy\n",
    "import heapq\n",
    "from collections import deque \n",
    "from functools import reduce\n",
    "from itertools import product\n",
    "from itertools import combinations\n",
    "from itertools import chain\n",
    "from functools import lru_cache\n",
    "from scipy.special import comb\n",
    "from numba import njit\n",
    "from bisect import bisect_right\n",
    "from bisect import bisect_left"
   ]
  },
  {
   "cell_type": "code",
   "execution_count": 1,
   "id": "bb9fee20-472f-4dd3-8a43-78041e3d65f8",
   "metadata": {},
   "outputs": [
    {
     "name": "stdin",
     "output_type": "stream",
     "text": [
      " 3 8\n"
     ]
    }
   ],
   "source": [
    "N, A = map(int, input().split())"
   ]
  },
  {
   "cell_type": "code",
   "execution_count": 2,
   "id": "aa8f577d-e72e-4b1f-ac0a-0c336ac275e4",
   "metadata": {},
   "outputs": [
    {
     "name": "stdin",
     "output_type": "stream",
     "text": [
      " 3 6 2 8 7 6 5 9\n"
     ]
    }
   ],
   "source": [
    "An = list(map(int, input().split()))"
   ]
  },
  {
   "cell_type": "code",
   "execution_count": 88,
   "id": "e29f6761-ca93-422e-91c7-88e1cf26090b",
   "metadata": {},
   "outputs": [],
   "source": [
    "dp = [[-1] * 51 for _ in range(N+1)]\n",
    "dp[0][0] = 0\n",
    "for i, a in enumerate(An, 1):\n",
    "    for j in range(50):\n",
    "        if dp[i-1][j] == -1:\n",
    "            continue\n",
    "#         print(i, j)\n",
    "        if dp[i][j] == -1:\n",
    "            dp[i][j] = dp[i-1][j]\n",
    "        else:\n",
    "            dp[i][j] += dp[i-1][j]\n",
    "        if dp[i][(j+a)%A] == -1:\n",
    "            if j == 0 and dp[i-1][j] == 0:\n",
    "                dp[i][(j+a)%A] = 1\n",
    "            else:\n",
    "                dp[i][(j+a)%A] = dp[i-1][j]\n",
    "        else:\n",
    "            dp[i][(j+a)%A] += dp[i-1][j]\n",
    "        if a % A == 0 and j == 0:\n",
    "            dp[i][j] += 1\n",
    "        "
   ]
  },
  {
   "cell_type": "code",
   "execution_count": 89,
   "id": "30fa4e93-b4f3-4cf7-9999-ab7a675b48aa",
   "metadata": {},
   "outputs": [
    {
     "name": "stdout",
     "output_type": "stream",
     "text": [
      "45\n"
     ]
    }
   ],
   "source": [
    "print(dp[-1][0])"
   ]
  },
  {
   "cell_type": "code",
   "execution_count": 69,
   "id": "8e62a6bb-3f41-4066-b26d-b7ba8a9316af",
   "metadata": {},
   "outputs": [
    {
     "data": {
      "text/plain": [
       "(4, 49)"
      ]
     },
     "execution_count": 69,
     "metadata": {},
     "output_type": "execute_result"
    }
   ],
   "source": [
    "i, j"
   ]
  },
  {
   "cell_type": "code",
   "execution_count": 91,
   "id": "20684ad5-2553-4f7f-a989-2ff208156686",
   "metadata": {},
   "outputs": [
    {
     "data": {
      "text/plain": [
       "([0, -1, -1, 1, -1, -1, -1, -1, -1, -1, -1, -1, -1, -1, -1],\n",
       " [0, 1, -1, 1, 1, -1, -1, -1, -1, -1, -1, -1, -1, -1, -1],\n",
       " [1, 2, 1, 2, 1, -1, -1, -1, -1, -1, -1, -1, -1, -1, -1],\n",
       " [2, 4, 2, 3, 3, -1, -1, -1, -1, -1, -1, -1, -1, -1, -1],\n",
       " [5, 7, 4, 7, 5, -1, -1, -1, -1, -1, -1, -1, -1, -1, -1],\n",
       " [10, 12, 11, 11, 12, -1, -1, -1, -1, -1, -1, -1, -1, -1, -1],\n",
       " [21, 24, 22, 22, 24, -1, -1, -1, -1, -1, -1, -1, -1, -1, -1],\n",
       " [45, 46, 44, 46, 45, -1, -1, -1, -1, -1, -1, -1, -1, -1, -1])"
      ]
     },
     "execution_count": 91,
     "metadata": {},
     "output_type": "execute_result"
    }
   ],
   "source": [
    "dp[1][:15], dp[2][:15],dp[3][:15],dp[4][:15],dp[5][:15],dp[6][:15],dp[7][:15],dp[8][:15]"
   ]
  },
  {
   "cell_type": "code",
   "execution_count": null,
   "id": "e34eb519-1df3-49dd-9b80-a705a549f235",
   "metadata": {},
   "outputs": [],
   "source": []
  }
 ],
 "metadata": {
  "kernelspec": {
   "display_name": "Python 3",
   "language": "python",
   "name": "python3"
  },
  "language_info": {
   "codemirror_mode": {
    "name": "ipython",
    "version": 3
   },
   "file_extension": ".py",
   "mimetype": "text/x-python",
   "name": "python",
   "nbconvert_exporter": "python",
   "pygments_lexer": "ipython3",
   "version": "3.6.13"
  }
 },
 "nbformat": 4,
 "nbformat_minor": 5
}
