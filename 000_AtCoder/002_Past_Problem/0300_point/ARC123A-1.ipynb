{
 "cells": [
  {
   "cell_type": "code",
   "execution_count": 1,
   "id": "a6209d29-f7e5-4e3b-a6ab-9f0bd525d9c0",
   "metadata": {},
   "outputs": [],
   "source": [
    "import numpy as np\n",
    "import math\n",
    "import collections\n",
    "import copy\n",
    "import decimal\n",
    "import itertools\n",
    "import re\n",
    "import bisect\n",
    "import scipy\n",
    "import heapq\n",
    "import array\n",
    "from collections import deque \n",
    "from functools import reduce\n",
    "from itertools import product\n",
    "from itertools import combinations\n",
    "from itertools import chain\n",
    "from functools import lru_cache\n",
    "from scipy.special import comb\n",
    "from numba import njit\n",
    "from bisect import bisect_right\n",
    "from bisect import bisect_left"
   ]
  },
  {
   "cell_type": "code",
   "execution_count": 75,
   "id": "e2bb9d4a-73c5-4b44-afa8-a39a33e7f9bd",
   "metadata": {},
   "outputs": [
    {
     "name": "stdin",
     "output_type": "stream",
     "text": [
      " 1 3 10\n"
     ]
    }
   ],
   "source": [
    "A1, A2, A3 = map(int, input().split())"
   ]
  },
  {
   "cell_type": "code",
   "execution_count": 76,
   "id": "18be3604-4bc1-4529-8328-94a8322101bc",
   "metadata": {},
   "outputs": [],
   "source": [
    "A = sorted((A1, A2, A3))"
   ]
  },
  {
   "cell_type": "code",
   "execution_count": 77,
   "id": "15df98a1-fdaf-4e2d-960c-8751081179f8",
   "metadata": {},
   "outputs": [],
   "source": [
    "d1 = abs(A[0]-A[1])\n",
    "d2 = abs(A[1]-A[2])"
   ]
  },
  {
   "cell_type": "code",
   "execution_count": 78,
   "id": "198c579b-9f0e-4f51-a668-130a0b92be4d",
   "metadata": {},
   "outputs": [
    {
     "name": "stdout",
     "output_type": "stream",
     "text": [
      "4\n"
     ]
    }
   ],
   "source": [
    "if d1 > d2:\n",
    "    print(d1 - d2)\n",
    "elif d1 * 2 > d2:\n",
    "    print(d2 - d1)\n",
    "elif (d1 - d2) % 2 == 0:\n",
    "    print(max(d1, d2) // 2)\n",
    "else:\n",
    "    print(max(d1, d2) // 2 + 1)"
   ]
  },
  {
   "cell_type": "code",
   "execution_count": null,
   "id": "fd525979-0645-4a37-96b1-0cf481c51908",
   "metadata": {},
   "outputs": [],
   "source": []
  },
  {
   "cell_type": "code",
   "execution_count": null,
   "id": "e9035327-a078-47f2-9ccf-6a72ac357c93",
   "metadata": {},
   "outputs": [],
   "source": []
  }
 ],
 "metadata": {
  "kernelspec": {
   "display_name": "Python 3",
   "language": "python",
   "name": "python3"
  },
  "language_info": {
   "codemirror_mode": {
    "name": "ipython",
    "version": 3
   },
   "file_extension": ".py",
   "mimetype": "text/x-python",
   "name": "python",
   "nbconvert_exporter": "python",
   "pygments_lexer": "ipython3",
   "version": "3.6.13"
  }
 },
 "nbformat": 4,
 "nbformat_minor": 5
}
