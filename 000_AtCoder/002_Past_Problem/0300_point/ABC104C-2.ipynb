{
 "cells": [
  {
   "cell_type": "code",
   "execution_count": null,
   "metadata": {},
   "outputs": [],
   "source": [
    "# WA"
   ]
  },
  {
   "cell_type": "code",
   "execution_count": 1,
   "metadata": {},
   "outputs": [],
   "source": [
    "import sys\n",
    "import numpy as np\n",
    "import math\n",
    "import collections\n",
    "import copy\n",
    "from collections import deque \n",
    "from functools import reduce\n",
    "from itertools import product\n",
    "\n",
    "# input = sys.stdin.readline"
   ]
  },
  {
   "cell_type": "code",
   "execution_count": 97,
   "metadata": {},
   "outputs": [
    {
     "name": "stdin",
     "output_type": "stream",
     "text": [
      " 5 25000\n"
     ]
    }
   ],
   "source": [
    "D, G = map(int, input().split())"
   ]
  },
  {
   "cell_type": "code",
   "execution_count": 102,
   "metadata": {},
   "outputs": [
    {
     "name": "stdin",
     "output_type": "stream",
     "text": [
      " 20 1000\n",
      " 40 1000\n",
      " 50 1000\n",
      " 30 1000\n",
      " 1 1000\n"
     ]
    }
   ],
   "source": [
    "pc = [list(map(int, input().split())) for _ in range(D)]"
   ]
  },
  {
   "cell_type": "code",
   "execution_count": 103,
   "metadata": {},
   "outputs": [],
   "source": [
    "for i, p in enumerate(pc):\n",
    "    pc[i].append((i+1)*100*p[0]+p[1])\n",
    "    pc[i].append(((i+1)*100*p[0]+p[1])/p[0])\n",
    "    pc[i].append((i+1)*100)"
   ]
  },
  {
   "cell_type": "code",
   "execution_count": 104,
   "metadata": {},
   "outputs": [],
   "source": [
    "pc.sort(key=lambda x :x [3], reverse=True)"
   ]
  },
  {
   "cell_type": "code",
   "execution_count": 105,
   "metadata": {},
   "outputs": [],
   "source": [
    "po = 0\n",
    "cnt = 0\n",
    "mi = 1000000000"
   ]
  },
  {
   "cell_type": "code",
   "execution_count": 106,
   "metadata": {},
   "outputs": [],
   "source": [
    "for p in pc:\n",
    "    if p[2] + po < G:\n",
    "        po += p[2]\n",
    "        cnt += p[0]\n",
    "        continue\n",
    "    if p[0] * p[4] + po >= G:\n",
    "        if (G-po) % p[4] == 0:\n",
    "            cn = (G-po) // p[4] \n",
    "        else:\n",
    "            cn = (G-po) // p[4] + 1\n",
    "#         print(mi, cnt, cn)\n",
    "        mi = min(mi, cnt+cn)\n",
    "#         print(mi)\n",
    "        continue\n",
    "    if (G-po-p[1]) % p[4] == 0:\n",
    "        cn = (G-po-p[1]) // p[4] \n",
    "    else:\n",
    "        cn = (G-po-p[1]) // p[4] + 1\n",
    "#     print(cnt, cn)\n",
    "#     print(mi, cnt, p[0])\n",
    "    mi = min(mi, cnt+p[0])"
   ]
  },
  {
   "cell_type": "code",
   "execution_count": 107,
   "metadata": {},
   "outputs": [
    {
     "name": "stdout",
     "output_type": "stream",
     "text": [
      "66\n"
     ]
    }
   ],
   "source": [
    "print(mi)"
   ]
  },
  {
   "cell_type": "code",
   "execution_count": 101,
   "metadata": {},
   "outputs": [
    {
     "data": {
      "text/plain": [
       "[[50, 1000, 16000, 15020.0, 300],\n",
       " [30, 1000, 13000, 12033.333333333334, 400],\n",
       " [40, 1000, 9000, 8025.0, 200],\n",
       " [20, 1000, 3000, 2050.0, 100],\n",
       " [1, 1000, 1500, 1500.0, 500]]"
      ]
     },
     "execution_count": 101,
     "metadata": {},
     "output_type": "execute_result"
    }
   ],
   "source": [
    "pc"
   ]
  },
  {
   "cell_type": "code",
   "execution_count": null,
   "metadata": {},
   "outputs": [],
   "source": []
  },
  {
   "cell_type": "code",
   "execution_count": null,
   "metadata": {},
   "outputs": [],
   "source": []
  },
  {
   "cell_type": "code",
   "execution_count": null,
   "metadata": {},
   "outputs": [],
   "source": []
  }
 ],
 "metadata": {
  "kernelspec": {
   "display_name": "Python 3",
   "language": "python",
   "name": "python3"
  },
  "language_info": {
   "codemirror_mode": {
    "name": "ipython",
    "version": 3
   },
   "file_extension": ".py",
   "mimetype": "text/x-python",
   "name": "python",
   "nbconvert_exporter": "python",
   "pygments_lexer": "ipython3",
   "version": "3.6.10"
  }
 },
 "nbformat": 4,
 "nbformat_minor": 4
}
