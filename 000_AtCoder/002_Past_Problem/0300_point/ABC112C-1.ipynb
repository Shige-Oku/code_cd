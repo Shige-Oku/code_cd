{
 "cells": [
  {
   "cell_type": "code",
   "execution_count": null,
   "metadata": {},
   "outputs": [],
   "source": [
    "# 解説を読んで実装"
   ]
  },
  {
   "cell_type": "code",
   "execution_count": 1,
   "metadata": {},
   "outputs": [],
   "source": [
    "import sys\n",
    "import numpy as np\n",
    "import math\n",
    "import collections\n",
    "import copy\n",
    "import decimal\n",
    "import itertools\n",
    "from collections import deque \n",
    "from functools import reduce\n",
    "from itertools import product\n",
    "from itertools import combinations\n",
    "from functools import lru_cache"
   ]
  },
  {
   "cell_type": "code",
   "execution_count": 2,
   "metadata": {},
   "outputs": [
    {
     "name": "stdin",
     "output_type": "stream",
     "text": [
      " 4\n"
     ]
    }
   ],
   "source": [
    "N = int(input())"
   ]
  },
  {
   "cell_type": "code",
   "execution_count": 31,
   "metadata": {},
   "outputs": [
    {
     "name": "stdin",
     "output_type": "stream",
     "text": [
      " 2 3 5\n",
      " 2 1 5\n",
      " 1 2 5\n",
      " 3 2 5\n"
     ]
    }
   ],
   "source": [
    "XYH = []\n",
    "Si = -1\n",
    "for i in range(N):\n",
    "    XYH.append(list(map(int, input().split())))\n",
    "    if XYH[i][2] > 0:\n",
    "        Si = i"
   ]
  },
  {
   "cell_type": "code",
   "execution_count": 35,
   "metadata": {},
   "outputs": [],
   "source": [
    "Cx, Cy = 0, 0\n",
    "Hei = 0\n",
    "for i in range(101):\n",
    "    for j in range(101):\n",
    "        flg = True\n",
    "        Zh = XYH[Si][2] + abs(XYH[Si][0]-i) + abs(XYH[Si][1]-j)\n",
    "#         print(i, j, Zh)\n",
    "        for X, Y, H in XYH:\n",
    "            if H > 0 and Zh != H + abs(X-i) + abs(Y-j):\n",
    "                flg = False\n",
    "                break\n",
    "            if H == 0 and Zh > abs(X-i) + abs(Y-j):\n",
    "                flg = False\n",
    "                break\n",
    "        if flg:\n",
    "#             print(i, j, Zh)\n",
    "            Cx, Cy, Hei = i, j, Zh"
   ]
  },
  {
   "cell_type": "code",
   "execution_count": 36,
   "metadata": {},
   "outputs": [
    {
     "name": "stdout",
     "output_type": "stream",
     "text": [
      "2 2 6\n"
     ]
    }
   ],
   "source": [
    "print(Cx, Cy, Hei)"
   ]
  },
  {
   "cell_type": "code",
   "execution_count": 29,
   "metadata": {},
   "outputs": [
    {
     "data": {
      "text/plain": [
       "[2, 3, 5]"
      ]
     },
     "execution_count": 29,
     "metadata": {},
     "output_type": "execute_result"
    }
   ],
   "source": [
    "XYH[0]"
   ]
  },
  {
   "cell_type": "code",
   "execution_count": null,
   "metadata": {},
   "outputs": [],
   "source": []
  }
 ],
 "metadata": {
  "kernelspec": {
   "display_name": "Python 3",
   "language": "python",
   "name": "python3"
  },
  "language_info": {
   "codemirror_mode": {
    "name": "ipython",
    "version": 3
   },
   "file_extension": ".py",
   "mimetype": "text/x-python",
   "name": "python",
   "nbconvert_exporter": "python",
   "pygments_lexer": "ipython3",
   "version": "3.6.10"
  }
 },
 "nbformat": 4,
 "nbformat_minor": 4
}
