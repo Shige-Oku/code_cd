{
 "cells": [
  {
   "cell_type": "markdown",
   "metadata": {},
   "source": [
    "### 問題文\n",
    "駅の待合室に座っているjoisinoお姉ちゃんは、切符を眺めています。  \n",
    "切符には 4 つの 0 以上 9 以下の整数 A,B,C,D が整理番号としてこの順に書かれています。  \n",
    "A  op1 B op2 C op3 D = 7 となるように、op1,op2,op3 に + か - を入れて式を作って下さい。  \n",
    "なお、答えが存在しない入力は与えられず、また答えが複数存在する場合はどれを出力してもよいものとします。  \n",
    "\n",
    "### 制約\n",
    "  ・0≦A,B,C,D≦9  \n",
    "  ・入力は整数からなる  \n",
    "  ・答えが存在しない入力は与えられない"
   ]
  },
  {
   "cell_type": "code",
   "execution_count": 1,
   "metadata": {},
   "outputs": [],
   "source": [
    "import sys"
   ]
  },
  {
   "cell_type": "code",
   "execution_count": 3,
   "metadata": {},
   "outputs": [
    {
     "name": "stdin",
     "output_type": "stream",
     "text": [
      " 1222\n"
     ]
    }
   ],
   "source": [
    "abcd = input()"
   ]
  },
  {
   "cell_type": "code",
   "execution_count": 4,
   "metadata": {},
   "outputs": [],
   "source": [
    "a, b, c ,d = int(abcd[0]), int(abcd[1]), int(abcd[2]), int(abcd[3])"
   ]
  },
  {
   "cell_type": "code",
   "execution_count": 10,
   "metadata": {},
   "outputs": [
    {
     "name": "stdout",
     "output_type": "stream",
     "text": [
      "1+2+2+2=7\n"
     ]
    }
   ],
   "source": [
    "if (a + b + c + d == 7):\n",
    "    print(str(a) + \"+\" + str(b) + \"+\" + str(c) + \"+\" + str(d) + \"=7\")\n",
    "elif (a + b + c - d == 7):\n",
    "    print(str(a) + \"+\" + str(b) + \"+\" + str(c) + \"-\" + str(d) + \"=7\")\n",
    "elif (a + b - c + d == 7):\n",
    "    print(str(a) + \"+\" + str(b) + \"-\" + str(c) + \"+\" + str(d) + \"=7\")\n",
    "elif (a - b + c + d == 7):\n",
    "    print(str(a) + \"-\" + str(b) + \"+\" + str(c) + \"+\" + str(d) + \"=7\")\n",
    "elif (a - b - c + d == 7):\n",
    "    print(str(a) + \"-\" + str(b) + \"-\" + str(c) + \"+\" + str(d) + \"=7\")\n",
    "elif (a - b + c - d == 7):\n",
    "    print(str(a) + \"-\" + str(b) + \"+\" + str(c) + \"-\" + str(d) + \"=7\")\n",
    "elif (a + b - c - d == 7):\n",
    "    print(str(a) + \"+\" + str(b) + \"-\" + str(c) + \"-\" + str(d) + \"=7\")\n",
    "elif (a - b - c - d == 7):\n",
    "    print(str(a) + \"-\" + str(b) + \"-\" + str(c) + \"-\" + str(d) + \"=7\")\n"
   ]
  },
  {
   "cell_type": "code",
   "execution_count": null,
   "metadata": {},
   "outputs": [],
   "source": []
  }
 ],
 "metadata": {
  "kernelspec": {
   "display_name": "Python 3",
   "language": "python",
   "name": "python3"
  },
  "language_info": {
   "codemirror_mode": {
    "name": "ipython",
    "version": 3
   },
   "file_extension": ".py",
   "mimetype": "text/x-python",
   "name": "python",
   "nbconvert_exporter": "python",
   "pygments_lexer": "ipython3",
   "version": "3.6.7"
  }
 },
 "nbformat": 4,
 "nbformat_minor": 2
}
