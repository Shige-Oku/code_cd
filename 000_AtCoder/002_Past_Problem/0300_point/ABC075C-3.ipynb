{
 "cells": [
  {
   "cell_type": "code",
   "execution_count": 1,
   "id": "d5f59759-2941-4de6-a56c-d6957d850567",
   "metadata": {},
   "outputs": [],
   "source": [
    "import sys\n",
    "import numpy as np\n",
    "import math\n",
    "import collections\n",
    "import copy\n",
    "import decimal\n",
    "import itertools\n",
    "import re\n",
    "import bisect\n",
    "import scipy\n",
    "import heapq\n",
    "from collections import deque \n",
    "from functools import reduce\n",
    "from itertools import product\n",
    "from itertools import combinations\n",
    "from itertools import chain\n",
    "from functools import lru_cache\n",
    "from scipy.special import comb\n",
    "from numba import njit\n",
    "from bisect import bisect_right\n",
    "from bisect import bisect_left"
   ]
  },
  {
   "cell_type": "code",
   "execution_count": 2,
   "id": "e440be0b-bb52-4a55-8d9d-2c70a382d7c8",
   "metadata": {},
   "outputs": [
    {
     "name": "stdin",
     "output_type": "stream",
     "text": [
      " 7 7 \n"
     ]
    }
   ],
   "source": [
    "N, M = map(int, input().split())"
   ]
  },
  {
   "cell_type": "code",
   "execution_count": 9,
   "id": "becdec5e-2eef-4630-ab0c-232275719533",
   "metadata": {},
   "outputs": [
    {
     "name": "stdin",
     "output_type": "stream",
     "text": [
      " 1 3\n",
      " 2 7\n",
      " 3 4\n",
      " 4 5\n",
      " 4 6\n",
      " 5 6\n",
      " 6 7\n"
     ]
    }
   ],
   "source": [
    "AB = []\n",
    "for _ in range(M):\n",
    "    A, B = map(int, input().split())\n",
    "    AB.append((A-1, B-1))"
   ]
  },
  {
   "cell_type": "code",
   "execution_count": 4,
   "id": "082eb588-302f-4610-9182-e1323f49e309",
   "metadata": {},
   "outputs": [],
   "source": [
    "from collections import defaultdict\n",
    "class UnionFind():\n",
    "    # イニシャライザ\n",
    "    def __init__(self, n):\n",
    "        self.n = n  # 頂点の数\n",
    "        self.parents = [-1] * n  # 親の頂点。根は -1\n",
    "        self.size = [1] * n  # 各頂点の所属する木の頂点数\n",
    "        \n",
    "    # 根を返す\n",
    "    def root(self, x):\n",
    "        if self.parents[x] < 0: # 根なのでそのまま返す\n",
    "            return x\n",
    "        else:\n",
    "            self.parents[x] = self.root(self.parents[x])  # 経路圧縮\n",
    "            return self.parents[x]\n",
    "        \n",
    "    # x, y が同じ木に属するか\n",
    "    def issame(self, x, y):\n",
    "        return self.root(x) == self.root(y)\n",
    "    \n",
    "    # x y を併合する    \n",
    "    def unite(self, x, y):\n",
    "        x = self.root(x)\n",
    "        y = self.root(y)\n",
    "        \n",
    "        # 元々同じ木に所属するので、何もせずリターン\n",
    "        if x == y:\n",
    "            return False\n",
    "        \n",
    "        # 大きいほうにまとめる。 y を x にまとめるようにスワップ\n",
    "        if self.parents[x] < self.parents[y]:\n",
    "            x, y = y, x\n",
    "        # 小さいほうの親を大きいほうを親に\n",
    "        self.parents[y] = x\n",
    "        # 大きいほうの頂点に小さいほうの数を加算\n",
    "        self.size[x] += self.size[y]\n",
    "        return\n",
    "    \n",
    "    # x の所属する頂点数を返す\n",
    "    def size(self, x):\n",
    "        return self.size[self.root(x)]"
   ]
  },
  {
   "cell_type": "code",
   "execution_count": 17,
   "id": "833efdb6-017f-46e7-bf6b-066f19ddf238",
   "metadata": {},
   "outputs": [],
   "source": [
    "def isbridge(A, B):\n",
    "    uf = UnionFind(N)\n",
    "    for a, b in AB:\n",
    "        if A == a and B == b:\n",
    "            continue\n",
    "        uf.unite(a, b)\n",
    "    for i in range(1, N):\n",
    "        if not uf.issame(0, i):\n",
    "            return True\n",
    "    return False"
   ]
  },
  {
   "cell_type": "code",
   "execution_count": 20,
   "id": "0e06b95d-2c3c-4258-82a3-02724a85ccf1",
   "metadata": {},
   "outputs": [],
   "source": [
    "ans = 0\n",
    "for A, B in AB:\n",
    "    if isbridge(A, B):\n",
    "        ans += 1\n"
   ]
  },
  {
   "cell_type": "code",
   "execution_count": 21,
   "id": "a97a9c6b-8aba-46f4-8616-41f33a3aebe5",
   "metadata": {},
   "outputs": [
    {
     "name": "stdout",
     "output_type": "stream",
     "text": [
      "4\n"
     ]
    }
   ],
   "source": [
    "print(ans)"
   ]
  },
  {
   "cell_type": "code",
   "execution_count": 10,
   "id": "ef401375-268f-4bad-a3fa-3b9cfe3b9715",
   "metadata": {},
   "outputs": [
    {
     "data": {
      "text/plain": [
       "[(0, 2), (1, 6), (2, 3), (3, 4), (3, 5), (4, 5), (5, 6)]"
      ]
     },
     "execution_count": 10,
     "metadata": {},
     "output_type": "execute_result"
    }
   ],
   "source": [
    "AB"
   ]
  },
  {
   "cell_type": "code",
   "execution_count": null,
   "id": "94519394-a782-4ba6-8da4-c9d7fc23dd5d",
   "metadata": {},
   "outputs": [],
   "source": []
  }
 ],
 "metadata": {
  "kernelspec": {
   "display_name": "Python 3",
   "language": "python",
   "name": "python3"
  },
  "language_info": {
   "codemirror_mode": {
    "name": "ipython",
    "version": 3
   },
   "file_extension": ".py",
   "mimetype": "text/x-python",
   "name": "python",
   "nbconvert_exporter": "python",
   "pygments_lexer": "ipython3",
   "version": "3.6.13"
  }
 },
 "nbformat": 4,
 "nbformat_minor": 5
}
