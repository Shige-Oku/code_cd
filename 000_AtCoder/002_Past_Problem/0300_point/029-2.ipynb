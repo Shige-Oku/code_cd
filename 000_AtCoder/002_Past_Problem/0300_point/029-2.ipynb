{
 "cells": [
  {
   "cell_type": "code",
   "execution_count": null,
   "id": "ec372397-bdd1-48f8-9d63-454f0fd151d6",
   "metadata": {},
   "outputs": [],
   "source": [
    "# 解説を読んで実装 サンプルが合わない"
   ]
  },
  {
   "cell_type": "code",
   "execution_count": 5,
   "id": "e7b4a1dc-393a-43a9-be51-4058dcdb7628",
   "metadata": {},
   "outputs": [],
   "source": [
    "import sys\n",
    "import numpy as np\n",
    "import math\n",
    "import collections\n",
    "import copy\n",
    "import decimal\n",
    "import itertools\n",
    "import re\n",
    "import bisect\n",
    "import scipy\n",
    "import heapq\n",
    "from collections import deque \n",
    "from functools import reduce\n",
    "from itertools import product\n",
    "from itertools import combinations\n",
    "from itertools import chain\n",
    "from functools import lru_cache\n",
    "from scipy.special import comb\n",
    "from numba import njit\n",
    "from bisect import bisect_right\n",
    "from bisect import bisect_left"
   ]
  },
  {
   "cell_type": "code",
   "execution_count": 1,
   "id": "c1844142-ef00-4517-98c1-2d2ae6d9d60d",
   "metadata": {},
   "outputs": [
    {
     "name": "stdin",
     "output_type": "stream",
     "text": [
      " 3 5\n"
     ]
    }
   ],
   "source": [
    "W, N = map(int, input().split())"
   ]
  },
  {
   "cell_type": "code",
   "execution_count": 2,
   "id": "26343d00-1274-4c3a-ac89-6ae108ccded9",
   "metadata": {},
   "outputs": [
    {
     "name": "stdin",
     "output_type": "stream",
     "text": [
      " 1 2\n",
      " 2 2\n",
      " 2 3\n",
      " 3 3\n",
      " 1 2\n"
     ]
    }
   ],
   "source": [
    "LR = [list(map(int, input().split())) for _ in range(N)]"
   ]
  },
  {
   "cell_type": "code",
   "execution_count": 3,
   "id": "2df5d660-6230-4f3d-9dc0-8f9f92b01296",
   "metadata": {},
   "outputs": [],
   "source": [
    "pos_l = []\n",
    "pos_r = []\n",
    "for L, R in LR:\n",
    "    pos_l.append(L)\n",
    "    pos_r.append(R)\n",
    "pos_sl = sorted(pos_l)\n",
    "pos_sr = sorted(pos_r)"
   ]
  },
  {
   "cell_type": "code",
   "execution_count": 9,
   "id": "f6b9eb62-036b-4adc-a2cd-a1b4dfeb9471",
   "metadata": {},
   "outputs": [
    {
     "name": "stdout",
     "output_type": "stream",
     "text": [
      "2\n",
      "4\n",
      "1\n",
      "2\n",
      "2\n"
     ]
    }
   ],
   "source": [
    "for L, R in LR:\n",
    "    print(bisect_right(pos_sl, L)-bisect_left(pos_sr, R))"
   ]
  },
  {
   "cell_type": "code",
   "execution_count": null,
   "id": "cbde07b6-521a-4c0b-ae43-115610048940",
   "metadata": {},
   "outputs": [],
   "source": []
  }
 ],
 "metadata": {
  "kernelspec": {
   "display_name": "Python 3",
   "language": "python",
   "name": "python3"
  },
  "language_info": {
   "codemirror_mode": {
    "name": "ipython",
    "version": 3
   },
   "file_extension": ".py",
   "mimetype": "text/x-python",
   "name": "python",
   "nbconvert_exporter": "python",
   "pygments_lexer": "ipython3",
   "version": "3.6.13"
  }
 },
 "nbformat": 4,
 "nbformat_minor": 5
}
