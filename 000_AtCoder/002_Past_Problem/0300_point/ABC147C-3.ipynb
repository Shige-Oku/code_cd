{
 "cells": [
  {
   "cell_type": "code",
   "execution_count": 1,
   "id": "dee8bd4d-3ef1-4c93-b665-f014beb09434",
   "metadata": {},
   "outputs": [],
   "source": [
    "import sys\n",
    "import numpy as np\n",
    "import math\n",
    "import collections\n",
    "import copy\n",
    "import decimal\n",
    "import itertools\n",
    "import re\n",
    "import bisect\n",
    "import scipy\n",
    "import heapq\n",
    "from collections import deque \n",
    "from functools import reduce\n",
    "from itertools import product\n",
    "from itertools import combinations\n",
    "from itertools import chain\n",
    "from functools import lru_cache\n",
    "from scipy.special import comb\n",
    "from numba import njit\n",
    "from bisect import bisect_right\n",
    "from bisect import bisect_left"
   ]
  },
  {
   "cell_type": "code",
   "execution_count": 35,
   "id": "465d73f1-ac49-4782-be3e-a876e1ac31b2",
   "metadata": {},
   "outputs": [
    {
     "name": "stdin",
     "output_type": "stream",
     "text": [
      " 3\n"
     ]
    }
   ],
   "source": [
    "N = int(input())"
   ]
  },
  {
   "cell_type": "code",
   "execution_count": 37,
   "id": "ae2869b7-ce64-4167-9e44-0bf0eaa4eba3",
   "metadata": {},
   "outputs": [
    {
     "name": "stdin",
     "output_type": "stream",
     "text": [
      " 2 \n",
      " 2 1\n",
      " 3 1\n",
      " 2\n",
      " 1 1\n",
      " 3 1\n",
      " 2\n",
      " 1 1\n",
      " 2 1\n"
     ]
    }
   ],
   "source": [
    "evidences = []\n",
    "for i in range(N):\n",
    "    n = int(input())\n",
    "    evidence =[list(map(int, input().split())) for _ in range(n)]\n",
    "    evidences.append(evidence)"
   ]
  },
  {
   "cell_type": "code",
   "execution_count": 68,
   "id": "95507262-2c55-41ab-b36a-8a103fb7ae89",
   "metadata": {},
   "outputs": [],
   "source": [
    "def check(n):\n",
    "    t = set()\n",
    "    f = set()\n",
    "    ret = 0\n",
    "    for j in range(N):\n",
    "        if n>>j & 1 == 0:\n",
    "            continue\n",
    "        ret += 1\n",
    "        for p, evi in evidences[j]:\n",
    "            if evi == 1:\n",
    "                if n>>(p-1) & 1 == 0:\n",
    "                    return 0\n",
    "                t.add(p)\n",
    "            else:\n",
    "                if n>>(p-1) & 1 == 1:\n",
    "                    return 0\n",
    "                f.add(p)\n",
    "#     print(t, f, t&f, ret)\n",
    "#     print(n)\n",
    "    if t & f:\n",
    "        return 0\n",
    "    return ret\n"
   ]
  },
  {
   "cell_type": "code",
   "execution_count": 69,
   "id": "a06863eb-c721-4673-9b1b-a5eb69beb739",
   "metadata": {},
   "outputs": [],
   "source": [
    "ans = 0\n",
    "for i in range(1, 2**N):\n",
    "    ans = max(ans, check(i))"
   ]
  },
  {
   "cell_type": "code",
   "execution_count": 70,
   "id": "8a7a6145-c363-4b41-bdba-ea84b094d7de",
   "metadata": {},
   "outputs": [
    {
     "name": "stdout",
     "output_type": "stream",
     "text": [
      "3\n"
     ]
    }
   ],
   "source": [
    "print(ans)"
   ]
  },
  {
   "cell_type": "code",
   "execution_count": 63,
   "id": "77cafafe-adba-49da-ad50-184ad7e09af4",
   "metadata": {},
   "outputs": [
    {
     "name": "stdout",
     "output_type": "stream",
     "text": [
      "7 0\n",
      "7 1\n",
      "7 2\n",
      "{1, 2, 3} set() set() 3\n",
      "7\n"
     ]
    },
    {
     "data": {
      "text/plain": [
       "3"
      ]
     },
     "execution_count": 63,
     "metadata": {},
     "output_type": "execute_result"
    }
   ],
   "source": [
    "check(7)"
   ]
  },
  {
   "cell_type": "code",
   "execution_count": 57,
   "id": "f7f620c0-6e23-419f-b515-30d3d6144019",
   "metadata": {},
   "outputs": [
    {
     "data": {
      "text/plain": [
       "(1, [[2, 1], [3, 1]], 1, 1, 1, 0)"
      ]
     },
     "execution_count": 57,
     "metadata": {},
     "output_type": "execute_result"
    }
   ],
   "source": [
    "2>>1, evidences[0]"
   ]
  },
  {
   "cell_type": "code",
   "execution_count": null,
   "id": "5a4a5e2b-572d-4275-9362-5b690cb6c8bf",
   "metadata": {},
   "outputs": [],
   "source": [
    "# WA"
   ]
  },
  {
   "cell_type": "code",
   "execution_count": 47,
   "id": "4a360262-a035-483a-ab79-6e7f42a73936",
   "metadata": {},
   "outputs": [],
   "source": [
    "def check(n):\n",
    "    t = set()\n",
    "    f = set()\n",
    "    ret = 0\n",
    "    for j in range(1, N+1):\n",
    "        if n>>j & 1 != 0:\n",
    "            continue\n",
    "        ret += 1\n",
    "        for p, evi in evidences[j-1]:\n",
    "            if evi == 1:\n",
    "                if n>>p & 1 == 0:\n",
    "                    return 0\n",
    "#                 if p in f:\n",
    "#                     return 0\n",
    "                t.add(p)\n",
    "            else:\n",
    "#                 if p in t:\n",
    "#                     return 0\n",
    "                f.add(p)\n",
    "#     for tt in t:\n",
    "#         for p, evi in evidences[tt-1]:\n",
    "#             if evi == 1:\n",
    "#                 if p in f:\n",
    "#                     return 0\n",
    "#             else:\n",
    "#                 if p in t:\n",
    "#                     return 0\n",
    "    print(t, f)\n",
    "    print(t, f, t&f)\n",
    "    if t & f:\n",
    "        return 0\n",
    "    return ret\n"
   ]
  },
  {
   "cell_type": "code",
   "execution_count": 19,
   "id": "28206058-b4e5-4456-9b16-82f5e9ed9848",
   "metadata": {},
   "outputs": [
    {
     "data": {
      "text/plain": [
       "[[2, 1], [3, 0]]"
      ]
     },
     "execution_count": 19,
     "metadata": {},
     "output_type": "execute_result"
    }
   ],
   "source": [
    "evidences[0]"
   ]
  },
  {
   "cell_type": "code",
   "execution_count": 21,
   "id": "ba24a6d2-748e-49f2-9516-628f9d4e56c6",
   "metadata": {},
   "outputs": [
    {
     "name": "stdout",
     "output_type": "stream",
     "text": [
      "2 1\n",
      "3 0\n"
     ]
    }
   ],
   "source": [
    "for p, evi in evidences[0]:\n",
    "    print(p, evi)"
   ]
  },
  {
   "cell_type": "code",
   "execution_count": null,
   "id": "5d54b0cf-42e3-45e0-8195-45937f4de550",
   "metadata": {},
   "outputs": [],
   "source": []
  }
 ],
 "metadata": {
  "kernelspec": {
   "display_name": "Python 3",
   "language": "python",
   "name": "python3"
  },
  "language_info": {
   "codemirror_mode": {
    "name": "ipython",
    "version": 3
   },
   "file_extension": ".py",
   "mimetype": "text/x-python",
   "name": "python",
   "nbconvert_exporter": "python",
   "pygments_lexer": "ipython3",
   "version": "3.6.13"
  }
 },
 "nbformat": 4,
 "nbformat_minor": 5
}
