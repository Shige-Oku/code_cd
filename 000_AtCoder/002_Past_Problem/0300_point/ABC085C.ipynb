{
 "cells": [
  {
   "cell_type": "markdown",
   "metadata": {},
   "source": [
    "### 問題文\n",
    "日本でよく使われる紙幣は、10000 円札、5000 円札、1000 円札です。以下、「お札」とはこれらのみを指します。  \n",
    "青橋くんが言うには、彼が祖父から受け取ったお年玉袋にはお札が \n",
    "N 枚入っていて、合計で Y 円だったそうですが、嘘かもしれません。このような状況がありうるか判定し、ありうる場合はお年玉袋の中身の候補を一つ見つけてください。なお、彼の祖父は十分裕福であり、お年玉袋は十分大きかったものとします。  \n",
    "\n",
    "### 制約\n",
    " ・1 ≤ N ≤ 2000  \n",
    " ・1000 ≤ Y ≤ 2 × 10 ** 7  \n",
    " ・N は整数である。  \n",
    " ・Y は 1000 の倍数である。"
   ]
  },
  {
   "cell_type": "code",
   "execution_count": 1,
   "metadata": {},
   "outputs": [],
   "source": [
    "import sys\n",
    "import numpy as np"
   ]
  },
  {
   "cell_type": "code",
   "execution_count": 26,
   "metadata": {},
   "outputs": [
    {
     "name": "stdin",
     "output_type": "stream",
     "text": [
      " 500 5000000\n"
     ]
    }
   ],
   "source": [
    "# N お札の枚数 Y お年玉の金額\n",
    "n, y = map(int, input().split())"
   ]
  },
  {
   "cell_type": "code",
   "execution_count": 27,
   "metadata": {},
   "outputs": [],
   "source": [
    "ok = False\n",
    "# ３重ループだとTLEになる。\n",
    "for i in range(n+1):\n",
    "    for j in range(n-i+1):\n",
    "        # 10000円と5000円の枚数が決まれば、1000円の枚数も決まる。\n",
    "        k = n - i - j\n",
    "        money = (10000 * i) + (5000 * j) + (1000 * k)\n",
    "        if (money == y) :\n",
    "            ok = True\n",
    "            break\n",
    "    if  ok:\n",
    "        break\n"
   ]
  },
  {
   "cell_type": "code",
   "execution_count": 28,
   "metadata": {},
   "outputs": [
    {
     "name": "stdout",
     "output_type": "stream",
     "text": [
      "500 0 0\n"
     ]
    }
   ],
   "source": [
    "if ok:\n",
    "    print(i, j, k)\n",
    "else:\n",
    "    print(\"-1 -1 -1\")    "
   ]
  },
  {
   "cell_type": "code",
   "execution_count": null,
   "metadata": {},
   "outputs": [],
   "source": []
  }
 ],
 "metadata": {
  "kernelspec": {
   "display_name": "Python 3",
   "language": "python",
   "name": "python3"
  },
  "language_info": {
   "codemirror_mode": {
    "name": "ipython",
    "version": 3
   },
   "file_extension": ".py",
   "mimetype": "text/x-python",
   "name": "python",
   "nbconvert_exporter": "python",
   "pygments_lexer": "ipython3",
   "version": "3.6.7"
  }
 },
 "nbformat": 4,
 "nbformat_minor": 2
}
