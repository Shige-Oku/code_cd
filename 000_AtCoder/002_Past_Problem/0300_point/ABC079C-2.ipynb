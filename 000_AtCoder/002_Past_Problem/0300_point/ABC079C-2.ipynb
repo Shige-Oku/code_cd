{
 "cells": [
  {
   "cell_type": "code",
   "execution_count": 1,
   "metadata": {},
   "outputs": [],
   "source": [
    "import sys\n",
    "import numpy as np\n",
    "import math\n",
    "import collections\n",
    "import copy\n",
    "from collections import deque \n",
    "from functools import reduce\n",
    "from itertools import product\n",
    "\n",
    "# input = sys.stdin.readline\n"
   ]
  },
  {
   "cell_type": "code",
   "execution_count": 20,
   "metadata": {},
   "outputs": [
    {
     "name": "stdin",
     "output_type": "stream",
     "text": [
      " 3242\n"
     ]
    }
   ],
   "source": [
    "ABCD = input()"
   ]
  },
  {
   "cell_type": "code",
   "execution_count": 21,
   "metadata": {},
   "outputs": [],
   "source": [
    "A, B, C, D = int(ABCD[0]), int(ABCD[1]), int(ABCD[2]), int(ABCD[3])"
   ]
  },
  {
   "cell_type": "code",
   "execution_count": 22,
   "metadata": {},
   "outputs": [],
   "source": [
    "for p in product((0, 1), repeat=3):\n",
    "    total = 0\n",
    "    if (p[0] == 0):\n",
    "        total = A + B\n",
    "    else:\n",
    "        total = A - B\n",
    "    if (p[1] == 0):\n",
    "        total += C\n",
    "    else:\n",
    "        total -= C\n",
    "    if (p[2] == 0):\n",
    "        total += D\n",
    "    else:\n",
    "        total -= D\n",
    "    if total == 7:\n",
    "        break\n",
    "        "
   ]
  },
  {
   "cell_type": "code",
   "execution_count": 23,
   "metadata": {},
   "outputs": [],
   "source": [
    "if p[0] == 0:\n",
    "    op1 = \"+\"\n",
    "else:\n",
    "    op1 = '-'\n",
    "if p[1] == 0:\n",
    "    op2 = \"+\"\n",
    "else:\n",
    "    op2 = '-'\n",
    "if p[2] == 0:\n",
    "    op3 = \"+\"\n",
    "else:\n",
    "    op3 = '-'\n",
    "    "
   ]
  },
  {
   "cell_type": "code",
   "execution_count": 24,
   "metadata": {},
   "outputs": [
    {
     "name": "stdout",
     "output_type": "stream",
     "text": [
      "3+2+4-2=7\n"
     ]
    }
   ],
   "source": [
    "print(\"{}{}{}{}{}{}{}=7\".format(A, op1, B, op2, C, op3, D))"
   ]
  },
  {
   "cell_type": "code",
   "execution_count": null,
   "metadata": {},
   "outputs": [],
   "source": []
  }
 ],
 "metadata": {
  "kernelspec": {
   "display_name": "Python 3",
   "language": "python",
   "name": "python3"
  },
  "language_info": {
   "codemirror_mode": {
    "name": "ipython",
    "version": 3
   },
   "file_extension": ".py",
   "mimetype": "text/x-python",
   "name": "python",
   "nbconvert_exporter": "python",
   "pygments_lexer": "ipython3",
   "version": "3.6.10"
  }
 },
 "nbformat": 4,
 "nbformat_minor": 4
}
