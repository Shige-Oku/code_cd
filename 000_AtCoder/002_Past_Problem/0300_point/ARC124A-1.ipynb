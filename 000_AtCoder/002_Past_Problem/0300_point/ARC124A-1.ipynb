{
 "cells": [
  {
   "cell_type": "code",
   "execution_count": null,
   "id": "0302f518-2399-4eb2-b042-f50bf0e69a3f",
   "metadata": {},
   "outputs": [],
   "source": [
    "# サンプルが合わない"
   ]
  },
  {
   "cell_type": "code",
   "execution_count": 3,
   "id": "106d8aaf-2459-4d44-a233-10f65845e8ce",
   "metadata": {},
   "outputs": [],
   "source": [
    "import numpy as np\n",
    "import math\n",
    "import collections\n",
    "import copy\n",
    "import decimal\n",
    "import itertools\n",
    "import re\n",
    "import bisect\n",
    "import scipy\n",
    "import heapq\n",
    "import array\n",
    "from collections import deque \n",
    "from functools import reduce\n",
    "from itertools import product\n",
    "from itertools import combinations\n",
    "from itertools import chain\n",
    "from functools import lru_cache\n",
    "from scipy.special import comb\n",
    "from numba import njit\n",
    "from bisect import bisect_right\n",
    "from bisect import bisect_left"
   ]
  },
  {
   "cell_type": "code",
   "execution_count": 8,
   "id": "4e9201bc-21d3-4967-ba80-1097c66d22f2",
   "metadata": {},
   "outputs": [
    {
     "name": "stdin",
     "output_type": "stream",
     "text": [
      " 30 10\n"
     ]
    }
   ],
   "source": [
    "N, K = map(int, input().split())"
   ]
  },
  {
   "cell_type": "code",
   "execution_count": 9,
   "id": "54a9f295-069a-4d12-a73e-b85df74496bf",
   "metadata": {},
   "outputs": [
    {
     "name": "stdin",
     "output_type": "stream",
     "text": [
      " R 6\n",
      " R 8\n",
      " R 7\n",
      " R 25\n",
      " L 26\n",
      " L 13\n",
      " R 14\n",
      " L 11\n",
      " L 23\n",
      " R 30\n"
     ]
    }
   ],
   "source": [
    "CK = [list(input().split()) for _ in range(K)]"
   ]
  },
  {
   "cell_type": "code",
   "execution_count": 24,
   "id": "2c30bef7-df4d-4cbf-a8c2-dea353d15b6f",
   "metadata": {},
   "outputs": [],
   "source": [
    "de = [False] * N\n",
    "L_cnt = [0] * N\n",
    "R_cnt = [0] * N\n",
    "for i, (c, k) in enumerate(CK):\n",
    "    if c == 'L':\n",
    "        L_cnt[i] = 1\n",
    "        de[int(k)-1] = True\n",
    "    else:\n",
    "        R_cnt[i] = 1\n",
    "        de[int(k)-1] = True"
   ]
  },
  {
   "cell_type": "code",
   "execution_count": 25,
   "id": "e46bead5-540c-495c-8e00-50d7145f63ec",
   "metadata": {},
   "outputs": [],
   "source": [
    "L_cum = [L_cnt[0], ]\n",
    "for cnt in L_cnt[1:]:\n",
    "    L_cum.append(L_cum[-1]+cnt)\n",
    "# L_cum = L_cum[::-1]\n",
    "R_cum = [R_cnt[0], ]\n",
    "for cnt in R_cnt[1:]:\n",
    "    R_cum.append(R_cum[-1]+cnt)\n",
    "R_cum = R_cum[::-1]\n",
    "    "
   ]
  },
  {
   "cell_type": "code",
   "execution_count": 26,
   "id": "6d488eb0-8aa8-4be0-a6d9-c4de706456d0",
   "metadata": {},
   "outputs": [],
   "source": [
    "ans = 1\n",
    "for i in range(N):\n",
    "    if de[i]:\n",
    "        continue\n",
    "#     ans *= K - max(L_cum[i], R_cum[i])\n",
    "    ans *= L_cum[i] + R_cum[i]\n",
    "    ans %= 998244353"
   ]
  },
  {
   "cell_type": "code",
   "execution_count": 27,
   "id": "38931679-d51e-4ed5-bd14-a6452a04ca8d",
   "metadata": {},
   "outputs": [
    {
     "name": "stdout",
     "output_type": "stream",
     "text": [
      "486490006\n"
     ]
    }
   ],
   "source": [
    "print(ans)"
   ]
  },
  {
   "cell_type": "code",
   "execution_count": 23,
   "id": "7bc51918-9da1-4cf3-a826-2e4ba3cab090",
   "metadata": {},
   "outputs": [
    {
     "data": {
      "text/plain": [
       "([True,\n",
       "  False,\n",
       "  False,\n",
       "  False,\n",
       "  False,\n",
       "  True,\n",
       "  False,\n",
       "  False,\n",
       "  False,\n",
       "  False,\n",
       "  True,\n",
       "  False,\n",
       "  True,\n",
       "  False,\n",
       "  False,\n",
       "  False,\n",
       "  True,\n",
       "  False,\n",
       "  False,\n",
       "  False,\n",
       "  False,\n",
       "  False,\n",
       "  True,\n",
       "  True,\n",
       "  True,\n",
       "  True,\n",
       "  False,\n",
       "  False,\n",
       "  False,\n",
       "  False],\n",
       " [0,\n",
       "  0,\n",
       "  0,\n",
       "  0,\n",
       "  1,\n",
       "  1,\n",
       "  0,\n",
       "  1,\n",
       "  1,\n",
       "  0,\n",
       "  0,\n",
       "  0,\n",
       "  0,\n",
       "  0,\n",
       "  0,\n",
       "  0,\n",
       "  0,\n",
       "  0,\n",
       "  0,\n",
       "  0,\n",
       "  0,\n",
       "  0,\n",
       "  0,\n",
       "  0,\n",
       "  0,\n",
       "  0,\n",
       "  0,\n",
       "  0,\n",
       "  0,\n",
       "  0],\n",
       " [1,\n",
       "  1,\n",
       "  1,\n",
       "  1,\n",
       "  0,\n",
       "  0,\n",
       "  1,\n",
       "  0,\n",
       "  0,\n",
       "  1,\n",
       "  0,\n",
       "  0,\n",
       "  0,\n",
       "  0,\n",
       "  0,\n",
       "  0,\n",
       "  0,\n",
       "  0,\n",
       "  0,\n",
       "  0,\n",
       "  0,\n",
       "  0,\n",
       "  0,\n",
       "  0,\n",
       "  0,\n",
       "  0,\n",
       "  0,\n",
       "  0,\n",
       "  0,\n",
       "  0])"
      ]
     },
     "execution_count": 23,
     "metadata": {},
     "output_type": "execute_result"
    }
   ],
   "source": [
    "de, L_cnt, R_cnt"
   ]
  },
  {
   "cell_type": "code",
   "execution_count": 15,
   "id": "7974f516-d437-4bbf-8a9d-08b6b4f147ad",
   "metadata": {},
   "outputs": [
    {
     "data": {
      "text/plain": [
       "([4,\n",
       "  4,\n",
       "  4,\n",
       "  4,\n",
       "  4,\n",
       "  4,\n",
       "  4,\n",
       "  4,\n",
       "  4,\n",
       "  4,\n",
       "  4,\n",
       "  4,\n",
       "  4,\n",
       "  4,\n",
       "  4,\n",
       "  4,\n",
       "  4,\n",
       "  4,\n",
       "  4,\n",
       "  4,\n",
       "  4,\n",
       "  4,\n",
       "  3,\n",
       "  2,\n",
       "  2,\n",
       "  1,\n",
       "  0,\n",
       "  0,\n",
       "  0,\n",
       "  0],\n",
       " [1,\n",
       "  2,\n",
       "  3,\n",
       "  4,\n",
       "  4,\n",
       "  4,\n",
       "  5,\n",
       "  5,\n",
       "  5,\n",
       "  6,\n",
       "  6,\n",
       "  6,\n",
       "  6,\n",
       "  6,\n",
       "  6,\n",
       "  6,\n",
       "  6,\n",
       "  6,\n",
       "  6,\n",
       "  6,\n",
       "  6,\n",
       "  6,\n",
       "  6,\n",
       "  6,\n",
       "  6,\n",
       "  6,\n",
       "  6,\n",
       "  6,\n",
       "  6,\n",
       "  6])"
      ]
     },
     "execution_count": 15,
     "metadata": {},
     "output_type": "execute_result"
    }
   ],
   "source": [
    "L_cum, R_cum"
   ]
  },
  {
   "cell_type": "code",
   "execution_count": null,
   "id": "17b40a84-024f-459c-b927-270f17f3e1f7",
   "metadata": {},
   "outputs": [],
   "source": []
  }
 ],
 "metadata": {
  "kernelspec": {
   "display_name": "Python 3",
   "language": "python",
   "name": "python3"
  },
  "language_info": {
   "codemirror_mode": {
    "name": "ipython",
    "version": 3
   },
   "file_extension": ".py",
   "mimetype": "text/x-python",
   "name": "python",
   "nbconvert_exporter": "python",
   "pygments_lexer": "ipython3",
   "version": "3.6.13"
  }
 },
 "nbformat": 4,
 "nbformat_minor": 5
}
