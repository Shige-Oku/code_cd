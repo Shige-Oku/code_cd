{
 "cells": [
  {
   "cell_type": "markdown",
   "metadata": {},
   "source": [
    "# 問題文\n",
    "イルカは x 軸正方向を右、y 軸正方向を上とする 2 次元座標平面にいます。  \n",
    "イルカは現在点 (sx, sy) にいて、1 秒あたり上下左右に距離 1 だけ進むことができます。  \n",
    "このとき、移動前と移動後の x 座標、y 座標はともに整数でなければなりません。  \n",
    "イルカはここから sx < tx と sy < ty を満たす点 (tx, ty) に行き、その後点 (sx, sy) に戻り、また点 (tx, ty) に行き、その後点 (sx, sy) に戻ります。  \n",
    "\n",
    "このとき、イルカは点 (sx, sy) と点 (tx, ty) を除いて、途中で同じ座標を複数回通らないように移動しなければなりません。  \n",
    "このような条件を満たすイルカの最短経路を 1 つ求めてください。  \n",
    "# 制約\n",
    "  ・−1000 ≦ sx < tx ≦ 1000  \n",
    "  ・−1000 ≦ sy < ty ≦ 1000  \n",
    "  ・sx, sy, tx, ty は整数である。"
   ]
  },
  {
   "cell_type": "code",
   "execution_count": 1,
   "metadata": {},
   "outputs": [],
   "source": [
    "import sys"
   ]
  },
  {
   "cell_type": "code",
   "execution_count": 24,
   "metadata": {},
   "outputs": [
    {
     "name": "stdin",
     "output_type": "stream",
     "text": [
      " -2 -2 1 1\n"
     ]
    }
   ],
   "source": [
    "# sx, sy, tx, ty\n",
    "sx, sy, tx, ty = map(int, input().split())"
   ]
  },
  {
   "cell_type": "code",
   "execution_count": 25,
   "metadata": {},
   "outputs": [],
   "source": [
    "root = \"\""
   ]
  },
  {
   "cell_type": "code",
   "execution_count": 26,
   "metadata": {},
   "outputs": [],
   "source": [
    "# 1回目の　s => t\n",
    "# まず、Y座標分上がる\n",
    "root += \"U\" * (ty - sy)\n",
    "# X座標分分右に移動\n",
    "root += \"R\" * (tx - sx)"
   ]
  },
  {
   "cell_type": "code",
   "execution_count": 27,
   "metadata": {},
   "outputs": [],
   "source": [
    "# 1回目の t => s\n",
    "# まず、Y座標分下がる\n",
    "root += \"D\" * (ty - sy)\n",
    "# X座標分左に戻る\n",
    "root += \"L\" * (tx - sx)"
   ]
  },
  {
   "cell_type": "code",
   "execution_count": 28,
   "metadata": {},
   "outputs": [],
   "source": [
    "# 2回目の　s => t (sx - 1, sy) => (tx, ty + 1)\n",
    "# まず、X座標に左に１つ移動し、座標分上がる\n",
    "root += \"L\"\n",
    "root += \"U\" * ((ty + 1) - sy)\n",
    "# X座標分右に移動、Y座標を１つ下がる\n",
    "root += \"R\" * (tx - (sx - 1))\n",
    "root += \"D\""
   ]
  },
  {
   "cell_type": "code",
   "execution_count": 29,
   "metadata": {},
   "outputs": [],
   "source": [
    "# 2回目の t => s (tx + 1, ty) => (sx, sy - 1)\n",
    "# まず、X座標に右に１つ移動し、Y座標分下がる\n",
    "root += \"R\"\n",
    "root += \"D\" * (ty - (sy - 1))\n",
    "# X座標分左に移動し、Y座標を１つ上がる\n",
    "root += \"L\" * ((tx + 1)  - sx)\n",
    "root += \"U\""
   ]
  },
  {
   "cell_type": "code",
   "execution_count": 30,
   "metadata": {},
   "outputs": [
    {
     "name": "stdout",
     "output_type": "stream",
     "text": [
      "UUURRRDDDLLLLUUUURRRRDRDDDDLLLLU\n"
     ]
    }
   ],
   "source": [
    "print(root)"
   ]
  },
  {
   "cell_type": "code",
   "execution_count": null,
   "metadata": {},
   "outputs": [],
   "source": []
  }
 ],
 "metadata": {
  "kernelspec": {
   "display_name": "Python 3",
   "language": "python",
   "name": "python3"
  },
  "language_info": {
   "codemirror_mode": {
    "name": "ipython",
    "version": 3
   },
   "file_extension": ".py",
   "mimetype": "text/x-python",
   "name": "python",
   "nbconvert_exporter": "python",
   "pygments_lexer": "ipython3",
   "version": "3.6.7"
  }
 },
 "nbformat": 4,
 "nbformat_minor": 2
}
