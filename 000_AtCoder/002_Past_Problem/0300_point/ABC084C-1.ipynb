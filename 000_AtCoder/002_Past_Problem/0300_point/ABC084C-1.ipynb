{
 "cells": [
  {
   "cell_type": "markdown",
   "metadata": {},
   "source": [
    "### 問題文\n",
    "Atcoder国に、 1 本の東西方向に走る鉄道が完成しました。  \n",
    "この鉄道には N 個の駅があり、西から順に 1,2,...,N の番号がついています。  \n",
    "明日、鉄道の開通式が開かれます。\n",
    "この鉄道では、1≦i≦N−1 を満たす全ての整数 i に対し、駅 i から駅 i+1 に、Ci 秒で向かう列車が運行されます。ただし、これら以外の列車は運行されません。  \n",
    "駅 i から駅 i+1 に移動する列車のうち最初の列車は、開通式開始 Si 秒後に駅 i を発車し、その後はFi 秒おきに駅 i を発車する列車があります。  \n",
    "また、Si は Fi で割り切れることが保証されます。  \n",
    "つまり、A％B で A を B で割った余りを表すとき、S\n",
    "i≦t,t％Fi=0 を満たす全てのt に対してのみ、開通式開始 t 秒後に駅 i を出発し、開通式開始 t+Ci 秒後に駅 i+1 に到着する列車があります。  \n",
    "列車の乗り降りにかかる時間を考えないとき、全ての駅 \n",
    "i に対して、開通式開始時に駅 i にいる場合、駅 N に到着できるのは最も早くて開通式開始何秒後か、答えてください。  \n",
    "\n",
    "### 制約\n",
    " ・1≦N≦500  \n",
    " ・1≦Ci≦100  \n",
    " ・1≦Si≦10 ** 5  \n",
    " ・1≦Fi≦100  \n",
    " ・Si％Fi=0  \n",
    " ・入力は全て整数"
   ]
  },
  {
   "cell_type": "code",
   "execution_count": 1,
   "metadata": {},
   "outputs": [],
   "source": [
    "import sys\n",
    "import numpy as np"
   ]
  },
  {
   "cell_type": "code",
   "execution_count": 2,
   "metadata": {},
   "outputs": [
    {
     "name": "stdin",
     "output_type": "stream",
     "text": [
      " 3\n"
     ]
    }
   ],
   "source": [
    "# N 駅の数\n",
    "n = int(input())"
   ]
  },
  {
   "cell_type": "code",
   "execution_count": 3,
   "metadata": {},
   "outputs": [
    {
     "name": "stdin",
     "output_type": "stream",
     "text": [
      " 6 5 1\n",
      " 1 10 1\n"
     ]
    }
   ],
   "source": [
    "# C　次の駅までかかる時間、S 開始後始発の時間、F　発車間隔\n",
    "act = [list(map(int, input().split())) for ii in range(n-1)]"
   ]
  },
  {
   "cell_type": "code",
   "execution_count": 7,
   "metadata": {},
   "outputs": [
    {
     "name": "stdout",
     "output_type": "stream",
     "text": [
      "12\n",
      "11\n",
      "0\n"
     ]
    }
   ],
   "source": [
    "# 各駅ごとに、その駅から終点まで\n",
    "for i in range(n):\n",
    "    t = 0\n",
    "    # 求めたい i駅から終点まで\n",
    "    for j in range(i, n-1):\n",
    "        # 到着した時間から、発車時間を求める\n",
    "        if t < act[j][1]:\n",
    "            # 電車が到着したが、始発まで待つ\n",
    "            t = act[j][1]\n",
    "        elif t % act[j][2] == 0:\n",
    "            # 到着してちょうど間に合った。\n",
    "            pass\n",
    "        else:\n",
    "            # 次の電車まで待つ\n",
    "            t += act[j][2] - (t % act[j][2])\n",
    "        # 次の駅までかかる時間を加算\n",
    "        t += act[j][0]\n",
    "    print(t)\n",
    " "
   ]
  },
  {
   "cell_type": "code",
   "execution_count": null,
   "metadata": {},
   "outputs": [],
   "source": []
  }
 ],
 "metadata": {
  "kernelspec": {
   "display_name": "Python 3",
   "language": "python",
   "name": "python3"
  },
  "language_info": {
   "codemirror_mode": {
    "name": "ipython",
    "version": 3
   },
   "file_extension": ".py",
   "mimetype": "text/x-python",
   "name": "python",
   "nbconvert_exporter": "python",
   "pygments_lexer": "ipython3",
   "version": "3.6.10"
  }
 },
 "nbformat": 4,
 "nbformat_minor": 4
}
