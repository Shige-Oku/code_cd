{
 "cells": [
  {
   "cell_type": "markdown",
   "metadata": {},
   "source": [
    "### 問題文\n",
    "3×3  のグリッドがあります. 上から i 番目で左から j 番目のマスを (i,j) で表すとき, マス (i,j) には数 ci,j が書かれています.  \n",
    "高橋君によると, 整数 a1,a2,a3,b1,b2,b3 の値が決まっており, マス (i,j) には数 ai+bj が書かれているらしいです.  \n",
    "高橋君の情報が正しいか判定しなさい.\n",
    "\n",
    "### 制約\n",
    " ・ci,j (1 ≤ i ≤ 3, 1 ≤ j ≤ 3)  は 0 以上 100 以下の整数"
   ]
  },
  {
   "cell_type": "code",
   "execution_count": 9,
   "metadata": {},
   "outputs": [],
   "source": [
    "import sys\n",
    "import numpy as np"
   ]
  },
  {
   "cell_type": "code",
   "execution_count": 4,
   "metadata": {},
   "outputs": [
    {
     "name": "stdin",
     "output_type": "stream",
     "text": [
      " 1 0 1\n",
      " 2 1 2\n",
      " 1 0 1\n"
     ]
    }
   ],
   "source": [
    "c = [list(map(int, input().split())) for ii in range(3)]"
   ]
  },
  {
   "cell_type": "code",
   "execution_count": 8,
   "metadata": {},
   "outputs": [
    {
     "name": "stdout",
     "output_type": "stream",
     "text": [
      "1 0 1\n",
      "0 1 0\n",
      "Yes\n"
     ]
    }
   ],
   "source": [
    "for a1 in range(101):\n",
    "    # a1 が決まると b1, b2, b3は決まる\n",
    "    b1, b2, b3 = c[0][0]-a1, c[0][1]-a1, c[0][2]-a1\n",
    "    if b1 < 0 or b2 < 0 or b3 < 0:\n",
    "        # この a1 で１列目は満たせない\n",
    "        continue\n",
    "    # b1 が決まれば a2, a3 も決まる。\n",
    "    a2, a3 = c[1][0]-b1, c[2][0]-b1\n",
    "    if a2 < 0 or a3 < 0:\n",
    "        # この a1 では満たせない\n",
    "        continue\n",
    "    # ここまでで１列目、C21, c31 はOK\n",
    "    # 2列目の残りチェック\n",
    "    if a2 + b2 != c[1][1] or a2 + b3 != c[1][2]:\n",
    "        # この a1 で２列目は満たせない\n",
    "        continue\n",
    "    # 3列目の残りチェック\n",
    "    if a3 + b2 != c[2][1] or a3 + b3 != c[2][2]:\n",
    "        # この a1 で３列目は満たせない\n",
    "        continue\n",
    "    # 一致した!!\n",
    "    print(\"Yes\")\n",
    "    break\n",
    "else:\n",
    "    print(\"No\")\n",
    "\n",
    "    \n"
   ]
  },
  {
   "cell_type": "code",
   "execution_count": null,
   "metadata": {},
   "outputs": [],
   "source": []
  }
 ],
 "metadata": {
  "kernelspec": {
   "display_name": "Python 3",
   "language": "python",
   "name": "python3"
  },
  "language_info": {
   "codemirror_mode": {
    "name": "ipython",
    "version": 3
   },
   "file_extension": ".py",
   "mimetype": "text/x-python",
   "name": "python",
   "nbconvert_exporter": "python",
   "pygments_lexer": "ipython3",
   "version": "3.6.7"
  }
 },
 "nbformat": 4,
 "nbformat_minor": 2
}
