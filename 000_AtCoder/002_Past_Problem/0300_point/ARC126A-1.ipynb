{
 "cells": [
  {
   "cell_type": "code",
   "execution_count": 1,
   "id": "f682ee15-8f22-494d-a6cd-c01552c3df1c",
   "metadata": {},
   "outputs": [],
   "source": [
    "import numpy as np\n",
    "import math\n",
    "import collections\n",
    "import copy\n",
    "import decimal\n",
    "import itertools\n",
    "import re\n",
    "import bisect\n",
    "import scipy\n",
    "import heapq\n",
    "import array\n",
    "from collections import deque \n",
    "from functools import reduce\n",
    "from itertools import product\n",
    "from itertools import combinations\n",
    "from itertools import chain\n",
    "from functools import lru_cache\n",
    "from scipy.special import comb\n",
    "from numba import njit\n",
    "from bisect import bisect_right\n",
    "from bisect import bisect_left"
   ]
  },
  {
   "cell_type": "code",
   "execution_count": 2,
   "id": "9297171d-dff1-4791-998d-0cfbca1639c9",
   "metadata": {},
   "outputs": [
    {
     "name": "stdin",
     "output_type": "stream",
     "text": [
      " 5\n"
     ]
    }
   ],
   "source": [
    "T = int(input())"
   ]
  },
  {
   "cell_type": "code",
   "execution_count": 3,
   "id": "c03d8dff-6eb6-4111-8ae9-f82b2f5d7bfe",
   "metadata": {},
   "outputs": [
    {
     "name": "stdin",
     "output_type": "stream",
     "text": [
      " 3 4 1\n",
      " 7 0 0\n",
      " 0 0 7\n",
      " 0 0 0\n",
      " 1000000000000000 1000000000000000 1000000000000000\n"
     ]
    }
   ],
   "source": [
    "Cn = [list(map(int, input().split())) for _ in range(T)]"
   ]
  },
  {
   "cell_type": "code",
   "execution_count": 49,
   "id": "433a6ad5-5eac-4204-bf99-3c56ef249010",
   "metadata": {},
   "outputs": [],
   "source": [
    "def solve(n2, n3, n4):\n",
    "    ans = 0\n",
    "    n3 //= 2\n",
    "    \n",
    "    sub = min(n3, n4)\n",
    "    ans += sub\n",
    "    n3 -= sub\n",
    "    n4 -= sub\n",
    "    if n3 > 0:\n",
    "        sub = min(n3, n2//2)\n",
    "        ans += sub\n",
    "        n2 -= sub * 2\n",
    "    \n",
    "    n4_1 = n4 % 2\n",
    "    n4_2 = n4 // 2\n",
    "    sub = min(n4_2, n2)\n",
    "    ans += sub\n",
    "    n2 -= sub\n",
    "    if n4_1 == 1:\n",
    "        if n2 >= 3:\n",
    "            ans += 1\n",
    "            n2 -= 3\n",
    "    \n",
    "    ans += n2 // 5\n",
    "    return ans\n"
   ]
  },
  {
   "cell_type": "code",
   "execution_count": 29,
   "id": "13c8b382-fa6b-4478-8318-6bc36ed2b60f",
   "metadata": {},
   "outputs": [
    {
     "name": "stdout",
     "output_type": "stream",
     "text": [
      "2\n",
      "1\n",
      "0\n",
      "0\n",
      "900000000000000\n"
     ]
    }
   ],
   "source": [
    "for N2, N3, N4 in Cn:\n",
    "    print(solve(N2, N3, N4))"
   ]
  },
  {
   "cell_type": "code",
   "execution_count": 50,
   "id": "31ea9743-b342-476f-b89a-0ae3942c83f0",
   "metadata": {},
   "outputs": [
    {
     "data": {
      "text/plain": [
       "13"
      ]
     },
     "execution_count": 50,
     "metadata": {},
     "output_type": "execute_result"
    }
   ],
   "source": [
    "solve(20, 100, 3)"
   ]
  },
  {
   "cell_type": "code",
   "execution_count": 51,
   "id": "66509752-bef0-466c-b82d-80721b2c4e03",
   "metadata": {},
   "outputs": [
    {
     "data": {
      "text/plain": [
       "8469253"
      ]
     },
     "execution_count": 51,
     "metadata": {},
     "output_type": "execute_result"
    }
   ],
   "source": [
    "solve(7420, 12756681870, 8465543)"
   ]
  },
  {
   "cell_type": "code",
   "execution_count": null,
   "id": "1f0f8799-7706-4592-a09e-4e29acb9dd49",
   "metadata": {},
   "outputs": [],
   "source": [
    "8469253"
   ]
  },
  {
   "cell_type": "code",
   "execution_count": 17,
   "id": "7c0f1179-e410-43a7-87b8-042c10495007",
   "metadata": {},
   "outputs": [],
   "source": [
    "def solve(n2, n3, n4):\n",
    "    ans = 0\n",
    "    n3 //= 2\n",
    "    \n",
    "    ans += min(n3, n4)\n",
    "    if n4 >= n3:\n",
    "        n4 -= n3\n",
    "        n3 -= n3\n",
    "    else:\n",
    "        n3 -= n4\n",
    "        n4 -= n4\n",
    "    if n3 > 0:\n",
    "        ans += min(n3, n2//2)\n",
    "        if n2 // 2 >= n3:\n",
    "            n2 -= n2 // 2\n",
    "        else:\n",
    "            n2 -= n3\n",
    "        \n",
    "    n4_1 = n4 % 2\n",
    "    n4_2 = n4 // 2\n",
    "    ans += min(n4_2, n2)\n",
    "    n2 -= min(n4_2, n2)\n",
    "    if n4_1 == 1:\n",
    "        if n2 >= 3:\n",
    "            ans += 1\n",
    "            n2 -= 3\n",
    "    \n",
    "    ans += n2 // 5\n",
    "    return ans\n"
   ]
  }
 ],
 "metadata": {
  "kernelspec": {
   "display_name": "Python 3",
   "language": "python",
   "name": "python3"
  },
  "language_info": {
   "codemirror_mode": {
    "name": "ipython",
    "version": 3
   },
   "file_extension": ".py",
   "mimetype": "text/x-python",
   "name": "python",
   "nbconvert_exporter": "python",
   "pygments_lexer": "ipython3",
   "version": "3.6.13"
  }
 },
 "nbformat": 4,
 "nbformat_minor": 5
}
