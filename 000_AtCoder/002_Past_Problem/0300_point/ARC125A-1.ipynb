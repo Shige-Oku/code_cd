{
 "cells": [
  {
   "cell_type": "code",
   "execution_count": null,
   "id": "ff52c28f-be01-46f6-953a-02da3002a432",
   "metadata": {},
   "outputs": [],
   "source": [
    "# WA, TLE, RE"
   ]
  },
  {
   "cell_type": "code",
   "execution_count": 1,
   "id": "15ab354c-36da-4906-8eda-c3071a620aa9",
   "metadata": {},
   "outputs": [],
   "source": [
    "import numpy as np\n",
    "import math\n",
    "import collections\n",
    "import copy\n",
    "import decimal\n",
    "import itertools\n",
    "import re\n",
    "import bisect\n",
    "import scipy\n",
    "import heapq\n",
    "import array\n",
    "from collections import deque \n",
    "from functools import reduce\n",
    "from itertools import product\n",
    "from itertools import combinations\n",
    "from itertools import chain\n",
    "from functools import lru_cache\n",
    "from scipy.special import comb\n",
    "from numba import njit\n",
    "from bisect import bisect_right\n",
    "from bisect import bisect_left"
   ]
  },
  {
   "cell_type": "code",
   "execution_count": 20,
   "id": "ed8a92b8-3190-4f9f-855c-201df3d83dd7",
   "metadata": {},
   "outputs": [
    {
     "name": "stdin",
     "output_type": "stream",
     "text": [
      " 1 1\n"
     ]
    }
   ],
   "source": [
    "N, M = map(int, input().split())"
   ]
  },
  {
   "cell_type": "code",
   "execution_count": 21,
   "id": "3bdfbcaf-cb0a-4e38-8c9e-d61e4e46867e",
   "metadata": {},
   "outputs": [
    {
     "name": "stdin",
     "output_type": "stream",
     "text": [
      " 0\n"
     ]
    }
   ],
   "source": [
    "Sn = list(map(int, input().split()))"
   ]
  },
  {
   "cell_type": "code",
   "execution_count": 22,
   "id": "92f3d405-6c9d-43a2-9bca-e5ba5ba1bc67",
   "metadata": {},
   "outputs": [
    {
     "name": "stdin",
     "output_type": "stream",
     "text": [
      " 1\n"
     ]
    }
   ],
   "source": [
    "Tn = list(map(int, input().split()))"
   ]
  },
  {
   "cell_type": "code",
   "execution_count": 23,
   "id": "bf12ca66-9b61-4f47-9af8-a973ef12965a",
   "metadata": {},
   "outputs": [],
   "source": [
    "def search_right(p, s, g):\n",
    "    if Sn[p] == g:\n",
    "        return 1, s\n",
    "    for i in range(N):\n",
    "        if Sn[(s+i+1)%N] == g:\n",
    "            return i+1+1, (s+i+1)%N\n",
    "    return -1, -1"
   ]
  },
  {
   "cell_type": "code",
   "execution_count": 24,
   "id": "aa8e0771-e738-4b54-91ca-f71473646f13",
   "metadata": {},
   "outputs": [],
   "source": [
    "def search_left(p, s, g):\n",
    "    if Sn[p] == g:\n",
    "        return 1, s\n",
    "    for i in range(N):\n",
    "        if Sn[(s-(i+1))%N] == g:\n",
    "            return i+1+1, (s-(i+1))%N\n",
    "    return -1, -1"
   ]
  },
  {
   "cell_type": "code",
   "execution_count": 25,
   "id": "2892df09-714d-4d62-b174-bcf54a86abdb",
   "metadata": {},
   "outputs": [],
   "source": [
    "ans = 0\n",
    "fin = False\n",
    "p = 0\n",
    "for i, T in enumerate(Tn):\n",
    "    sr, p1 = search_right(p, i, T)\n",
    "    if sr == -1:\n",
    "        break\n",
    "    sl, p2 = search_left(p, i, T)\n",
    "    if sr == -1:\n",
    "        break\n",
    "    if sr < sl:\n",
    "        p = p1\n",
    "        ans += sr\n",
    "    else:\n",
    "        p = p2\n",
    "        ans += sl\n",
    "else:\n",
    "    fin = True"
   ]
  },
  {
   "cell_type": "code",
   "execution_count": 26,
   "id": "cb1cc6c8-9c50-4af5-a776-2a0695b3a1d0",
   "metadata": {},
   "outputs": [
    {
     "name": "stdout",
     "output_type": "stream",
     "text": [
      "-1\n"
     ]
    }
   ],
   "source": [
    "if fin:\n",
    "    print(ans)\n",
    "else:\n",
    "    print(-1)"
   ]
  },
  {
   "cell_type": "code",
   "execution_count": null,
   "id": "54c7914b-f59d-4d6e-bc26-cf297a03e006",
   "metadata": {},
   "outputs": [],
   "source": []
  }
 ],
 "metadata": {
  "kernelspec": {
   "display_name": "Python 3",
   "language": "python",
   "name": "python3"
  },
  "language_info": {
   "codemirror_mode": {
    "name": "ipython",
    "version": 3
   },
   "file_extension": ".py",
   "mimetype": "text/x-python",
   "name": "python",
   "nbconvert_exporter": "python",
   "pygments_lexer": "ipython3",
   "version": "3.6.13"
  }
 },
 "nbformat": 4,
 "nbformat_minor": 5
}
