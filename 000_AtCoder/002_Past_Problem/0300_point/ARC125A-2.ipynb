{
 "cells": [
  {
   "cell_type": "code",
   "execution_count": 1,
   "id": "9307d8e0-4837-4c16-af45-d108cf91877e",
   "metadata": {},
   "outputs": [],
   "source": [
    "import numpy as np\n",
    "import math\n",
    "import collections\n",
    "import copy\n",
    "import decimal\n",
    "import itertools\n",
    "import re\n",
    "import bisect\n",
    "import scipy\n",
    "import heapq\n",
    "import array\n",
    "from collections import deque \n",
    "from functools import reduce\n",
    "from itertools import product\n",
    "from itertools import combinations\n",
    "from itertools import chain\n",
    "from functools import lru_cache\n",
    "from scipy.special import comb\n",
    "from numba import njit\n",
    "from bisect import bisect_right\n",
    "from bisect import bisect_left"
   ]
  },
  {
   "cell_type": "code",
   "execution_count": 2,
   "id": "e3c637e1-7baa-42d7-be19-b1e8c86dcac5",
   "metadata": {},
   "outputs": [
    {
     "name": "stdin",
     "output_type": "stream",
     "text": [
      " 3 4\n"
     ]
    }
   ],
   "source": [
    "N, M = map(int, input().split())"
   ]
  },
  {
   "cell_type": "code",
   "execution_count": 3,
   "id": "11beb1cf-61f2-49d9-bdb6-d966132838be",
   "metadata": {},
   "outputs": [
    {
     "name": "stdin",
     "output_type": "stream",
     "text": [
      " 0 0 1\n"
     ]
    }
   ],
   "source": [
    "Sn = list(map(int, input().split()))"
   ]
  },
  {
   "cell_type": "code",
   "execution_count": 4,
   "id": "b0439481-addf-4983-b5b5-b7830a7a2eac",
   "metadata": {},
   "outputs": [
    {
     "name": "stdin",
     "output_type": "stream",
     "text": [
      " 0 1 1 0\n"
     ]
    }
   ],
   "source": [
    "Tn = list(map(int, input().split()))"
   ]
  },
  {
   "cell_type": "code",
   "execution_count": 19,
   "id": "f596937e-266c-4340-a102-c23b514726d0",
   "metadata": {},
   "outputs": [],
   "source": [
    "Sn_c = []\n",
    "c = 1\n",
    "ss = Sn[0]\n",
    "for S in Sn[1:]:\n",
    "    if S == ss:\n",
    "        c += 1\n",
    "        continue\n",
    "    Sn_c.append((ss, c))\n",
    "    ss = S\n",
    "    c = 1\n",
    "else:\n",
    "    Sn_c.append((ss, c))\n",
    "b = 1\n",
    "for i in range(N-1, -1, -1):\n",
    "    if Sn[0] != Sn[i]:\n",
    "        break\n",
    "    b += 1"
   ]
  },
  {
   "cell_type": "code",
   "execution_count": 25,
   "id": "ee7af6cd-69b4-443a-979e-9185073930e8",
   "metadata": {},
   "outputs": [],
   "source": [
    "ans = 0\n",
    "i = 0\n",
    "flg = False\n",
    "for T in Tn:\n",
    "    ans += 1\n",
    "    if T == Sn_c[i][0]:\n",
    "        continue\n",
    "    if len(Sn_c) == 1:\n",
    "        break\n",
    "    if i == 0:\n",
    "        l = b\n",
    "    else:\n",
    "        l = Sn_c[i][1]\n",
    "    if i >= len(Sn_c)-1:\n",
    "        r = b\n",
    "    else:\n",
    "        r = Sn_c[i][1]\n",
    "    if l < r:\n",
    "        ans += l\n",
    "        if i == 0:\n",
    "            i = len(Sn_c)-1\n",
    "        else:\n",
    "            i -= l\n",
    "    else:\n",
    "        ans += r\n",
    "        if i == N-1:\n",
    "            i = 0\n",
    "        else:\n",
    "            i += r\n",
    "else:\n",
    "    flg = True"
   ]
  },
  {
   "cell_type": "code",
   "execution_count": 26,
   "id": "adf92ffa-b3d0-41ab-abc3-9215d257a79d",
   "metadata": {},
   "outputs": [
    {
     "name": "stdout",
     "output_type": "stream",
     "text": [
      "6\n"
     ]
    }
   ],
   "source": [
    "if flg:\n",
    "    print(ans)\n",
    "else:\n",
    "    print('-1')"
   ]
  },
  {
   "cell_type": "code",
   "execution_count": 20,
   "id": "6fbeeaf9-4768-42a6-8746-1b9e98846744",
   "metadata": {},
   "outputs": [
    {
     "data": {
      "text/plain": [
       "([(0, 2), (1, 1)], 1)"
      ]
     },
     "execution_count": 20,
     "metadata": {},
     "output_type": "execute_result"
    }
   ],
   "source": [
    "Sn_c, b"
   ]
  },
  {
   "cell_type": "code",
   "execution_count": 24,
   "id": "4f94ebfd-c2d9-4e48-8902-89d953f8021e",
   "metadata": {},
   "outputs": [
    {
     "data": {
      "text/plain": [
       "2"
      ]
     },
     "execution_count": 24,
     "metadata": {},
     "output_type": "execute_result"
    }
   ],
   "source": [
    "li"
   ]
  },
  {
   "cell_type": "code",
   "execution_count": null,
   "id": "8c9ac73c-d5e0-49a9-96b0-c4255e9d8ea0",
   "metadata": {},
   "outputs": [],
   "source": []
  }
 ],
 "metadata": {
  "kernelspec": {
   "display_name": "Python 3",
   "language": "python",
   "name": "python3"
  },
  "language_info": {
   "codemirror_mode": {
    "name": "ipython",
    "version": 3
   },
   "file_extension": ".py",
   "mimetype": "text/x-python",
   "name": "python",
   "nbconvert_exporter": "python",
   "pygments_lexer": "ipython3",
   "version": "3.6.13"
  }
 },
 "nbformat": 4,
 "nbformat_minor": 5
}
