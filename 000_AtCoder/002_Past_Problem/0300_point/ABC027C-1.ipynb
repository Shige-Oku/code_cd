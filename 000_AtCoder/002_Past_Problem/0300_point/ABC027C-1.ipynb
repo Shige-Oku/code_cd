{
 "cells": [
  {
   "cell_type": "code",
   "execution_count": null,
   "id": "0c5179ab-9faa-4cb2-a247-268bb67b0122",
   "metadata": {},
   "outputs": [],
   "source": [
    "# WA"
   ]
  },
  {
   "cell_type": "code",
   "execution_count": 1,
   "id": "9151cfbb-aa6f-4073-b408-5fc57f851ed1",
   "metadata": {},
   "outputs": [],
   "source": [
    "import sys\n",
    "import numpy as np\n",
    "import math\n",
    "import collections\n",
    "import copy\n",
    "import decimal\n",
    "import itertools\n",
    "import re\n",
    "import bisect\n",
    "import scipy\n",
    "import heapq\n",
    "from collections import deque \n",
    "from functools import reduce\n",
    "from itertools import product\n",
    "from itertools import combinations\n",
    "from itertools import chain\n",
    "from functools import lru_cache\n",
    "from scipy.special import comb\n",
    "from numba import njit\n",
    "from bisect import bisect_right\n",
    "from bisect import bisect_left"
   ]
  },
  {
   "cell_type": "code",
   "execution_count": 58,
   "id": "13852b90-df50-4657-a262-ffd35ebd636b",
   "metadata": {},
   "outputs": [
    {
     "name": "stdin",
     "output_type": "stream",
     "text": [
      " 19\n"
     ]
    }
   ],
   "source": [
    "N = int(input())"
   ]
  },
  {
   "cell_type": "code",
   "execution_count": 66,
   "id": "bfd20739-8617-4fc9-9685-6075b52de130",
   "metadata": {},
   "outputs": [],
   "source": [
    "def DFS(n, flg):\n",
    "#     print(n, flg)\n",
    "    if n * 2 > N:\n",
    "        return flg\n",
    "    if flg:\n",
    "        if 2 * (2*n+1) > N:\n",
    "            ret = DFS(2*n+1, not flg)\n",
    "        else:\n",
    "            ret = DFS(2*n, not flg)\n",
    "    else:\n",
    "        if n * 2 + 1 > N:\n",
    "            ret = DFS(n*2, not flg)\n",
    "        else:\n",
    "            if 2 * (2*n+1) * 2 > N:\n",
    "                ret = DFS(n*2, not flg)\n",
    "            else:\n",
    "                ret = DFS(n*2+1, not flg)\n",
    "    return ret"
   ]
  },
  {
   "cell_type": "code",
   "execution_count": 67,
   "id": "5ed5830f-c4a3-4f0d-bde7-08ee8f373f43",
   "metadata": {},
   "outputs": [
    {
     "name": "stdout",
     "output_type": "stream",
     "text": [
      "1 True\n",
      "2 False\n",
      "4 True\n",
      "8 False\n",
      "16 True\n",
      "Aoki\n"
     ]
    }
   ],
   "source": [
    "if DFS(1, True):\n",
    "    print('Aoki')\n",
    "else:\n",
    "    print('Takahashi')"
   ]
  },
  {
   "cell_type": "code",
   "execution_count": null,
   "id": "9aa7e6a7-75ec-4d42-971b-320096e46942",
   "metadata": {},
   "outputs": [],
   "source": []
  }
 ],
 "metadata": {
  "kernelspec": {
   "display_name": "Python 3",
   "language": "python",
   "name": "python3"
  },
  "language_info": {
   "codemirror_mode": {
    "name": "ipython",
    "version": 3
   },
   "file_extension": ".py",
   "mimetype": "text/x-python",
   "name": "python",
   "nbconvert_exporter": "python",
   "pygments_lexer": "ipython3",
   "version": "3.6.13"
  }
 },
 "nbformat": 4,
 "nbformat_minor": 5
}
