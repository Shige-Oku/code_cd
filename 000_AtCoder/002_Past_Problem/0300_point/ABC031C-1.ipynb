{
 "cells": [
  {
   "cell_type": "code",
   "execution_count": 1,
   "id": "b0baaddb-0dfa-4f21-a82f-3e9d6768a3c5",
   "metadata": {},
   "outputs": [],
   "source": [
    "import sys\n",
    "import numpy as np\n",
    "import math\n",
    "import collections\n",
    "import copy\n",
    "import decimal\n",
    "import itertools\n",
    "import re\n",
    "import bisect\n",
    "import scipy\n",
    "import heapq\n",
    "from collections import deque \n",
    "from functools import reduce\n",
    "from itertools import product\n",
    "from itertools import combinations\n",
    "from itertools import chain\n",
    "from functools import lru_cache\n",
    "from scipy.special import comb\n",
    "from numba import njit\n",
    "from bisect import bisect_right\n",
    "from bisect import bisect_left"
   ]
  },
  {
   "cell_type": "code",
   "execution_count": 15,
   "id": "bbabb4ec-5f43-4e6d-8295-c65e10bc9019",
   "metadata": {},
   "outputs": [
    {
     "name": "stdin",
     "output_type": "stream",
     "text": [
      " 8\n"
     ]
    }
   ],
   "source": [
    "N = int(input())"
   ]
  },
  {
   "cell_type": "code",
   "execution_count": 16,
   "id": "a0942d78-80fe-433d-aef7-f0f40024884a",
   "metadata": {},
   "outputs": [
    {
     "name": "stdin",
     "output_type": "stream",
     "text": [
      " -1 10 -1 2 -1 10 -1 0\n"
     ]
    }
   ],
   "source": [
    "An = list(map(int, input().split()))"
   ]
  },
  {
   "cell_type": "code",
   "execution_count": 23,
   "id": "e3d60342-ccfc-41bd-9dfa-896d5c3078ae",
   "metadata": {},
   "outputs": [],
   "source": [
    "def Aoki(n):\n",
    "    ret = -1\n",
    "    point = -10**10\n",
    "    for j in range(N):\n",
    "        if j == n:\n",
    "            continue\n",
    "        s = min(n, j)\n",
    "        g = max(n, j)\n",
    "        aoki = 0\n",
    "        for A in An[s+1:g+1:2]:\n",
    "            aoki += A\n",
    "        if aoki > point:\n",
    "            point = aoki\n",
    "            ret = j\n",
    "    return ret"
   ]
  },
  {
   "cell_type": "code",
   "execution_count": 24,
   "id": "86ff8aac-4c80-4b72-8c4a-cc08ffba0e03",
   "metadata": {},
   "outputs": [],
   "source": [
    "ans = -10**10\n",
    "for i in range(N):\n",
    "    j = Aoki(i)\n",
    "    Taka = 0\n",
    "    s = min(i, j)\n",
    "    g = max(i, j)\n",
    "    for A in An[s:g+1:2]:\n",
    "        Taka += A\n",
    "    ans = max(ans, Taka)"
   ]
  },
  {
   "cell_type": "code",
   "execution_count": 25,
   "id": "683be8d7-7b51-4806-8149-290772f7babd",
   "metadata": {},
   "outputs": [
    {
     "name": "stdout",
     "output_type": "stream",
     "text": [
      "-1\n"
     ]
    }
   ],
   "source": [
    "print(ans)"
   ]
  },
  {
   "cell_type": "code",
   "execution_count": null,
   "id": "04db811a-9851-478a-8cd4-f9343bbb8093",
   "metadata": {},
   "outputs": [],
   "source": []
  }
 ],
 "metadata": {
  "kernelspec": {
   "display_name": "Python 3",
   "language": "python",
   "name": "python3"
  },
  "language_info": {
   "codemirror_mode": {
    "name": "ipython",
    "version": 3
   },
   "file_extension": ".py",
   "mimetype": "text/x-python",
   "name": "python",
   "nbconvert_exporter": "python",
   "pygments_lexer": "ipython3",
   "version": "3.6.13"
  }
 },
 "nbformat": 4,
 "nbformat_minor": 5
}
