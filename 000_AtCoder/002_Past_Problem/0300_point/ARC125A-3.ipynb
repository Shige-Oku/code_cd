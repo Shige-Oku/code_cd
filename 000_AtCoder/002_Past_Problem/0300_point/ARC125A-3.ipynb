{
 "cells": [
  {
   "cell_type": "code",
   "execution_count": null,
   "id": "74b02e86-ed17-4699-98fc-0171a16a67c1",
   "metadata": {},
   "outputs": [],
   "source": [
    "# 解説を読んで実装"
   ]
  },
  {
   "cell_type": "code",
   "execution_count": 1,
   "id": "b08baf50-ffa6-4b32-ac4a-56700198373a",
   "metadata": {},
   "outputs": [],
   "source": [
    "import numpy as np\n",
    "import math\n",
    "import collections\n",
    "import copy\n",
    "import decimal\n",
    "import itertools\n",
    "import re\n",
    "import bisect\n",
    "import scipy\n",
    "import heapq\n",
    "import array\n",
    "from collections import deque \n",
    "from functools import reduce\n",
    "from itertools import product\n",
    "from itertools import combinations\n",
    "from itertools import chain\n",
    "from functools import lru_cache\n",
    "from scipy.special import comb\n",
    "from numba import njit\n",
    "from bisect import bisect_right\n",
    "from bisect import bisect_left"
   ]
  },
  {
   "cell_type": "code",
   "execution_count": 65,
   "id": "ee3f334d-96c4-4202-ae31-019797380c52",
   "metadata": {},
   "outputs": [
    {
     "name": "stdin",
     "output_type": "stream",
     "text": [
      " 3 4\n"
     ]
    }
   ],
   "source": [
    "N, M = map(int, input().split())"
   ]
  },
  {
   "cell_type": "code",
   "execution_count": 66,
   "id": "a5ee7742-5b1f-4a6c-af1c-45bb313fcbd6",
   "metadata": {},
   "outputs": [
    {
     "name": "stdin",
     "output_type": "stream",
     "text": [
      " 0 0 1\n"
     ]
    }
   ],
   "source": [
    "Sn = list(map(int, input().split()))"
   ]
  },
  {
   "cell_type": "code",
   "execution_count": 67,
   "id": "0ea5e2d0-ec17-41a5-b818-ee34cddf544c",
   "metadata": {},
   "outputs": [
    {
     "name": "stdin",
     "output_type": "stream",
     "text": [
      " 0 1 1 0\n"
     ]
    }
   ],
   "source": [
    "Tn = list(map(int, input().split()))"
   ]
  },
  {
   "cell_type": "code",
   "execution_count": 68,
   "id": "6f7915a5-7544-4444-aa42-f861a88bcfdc",
   "metadata": {},
   "outputs": [],
   "source": [
    "def solve():\n",
    "    if len(collections.Counter(Tn)) > len(collections.Counter(Sn)):\n",
    "        return -1\n",
    "    if Tn[0] not in Sn:\n",
    "        return -1\n",
    "    for l in range(1, N):\n",
    "        if Sn[0] != Sn[l]:\n",
    "            break\n",
    "    for r in range(N-1, -1, -1):\n",
    "        if Sn[0] != Sn[r]:\n",
    "            break\n",
    "    ret = 0\n",
    "    flg = True\n",
    "    for i in range(M):\n",
    "        if flg:\n",
    "            if Sn[0] != Tn[i]:\n",
    "                ret += min(l, N-r)\n",
    "                flg = False\n",
    "        else:\n",
    "            if Tn[i-1] != Tn[i]:\n",
    "                ret += 1\n",
    "        ret += 1\n",
    "    return ret"
   ]
  },
  {
   "cell_type": "code",
   "execution_count": 69,
   "id": "cecf90ba-cff1-4f26-82b7-26648984f3a4",
   "metadata": {},
   "outputs": [
    {
     "name": "stdout",
     "output_type": "stream",
     "text": [
      "6\n"
     ]
    }
   ],
   "source": [
    "print(solve())"
   ]
  },
  {
   "cell_type": "code",
   "execution_count": 41,
   "id": "753bd411-c03b-48bc-b59e-a86405bb3658",
   "metadata": {},
   "outputs": [
    {
     "data": {
      "text/plain": [
       "Counter({0: 2, 1: 1})"
      ]
     },
     "execution_count": 41,
     "metadata": {},
     "output_type": "execute_result"
    }
   ],
   "source": [
    "collections.Counter(Sn)"
   ]
  },
  {
   "cell_type": "code",
   "execution_count": null,
   "id": "4fd73678-98b3-42d6-aaed-95419af4a42a",
   "metadata": {},
   "outputs": [],
   "source": []
  }
 ],
 "metadata": {
  "kernelspec": {
   "display_name": "Python 3",
   "language": "python",
   "name": "python3"
  },
  "language_info": {
   "codemirror_mode": {
    "name": "ipython",
    "version": 3
   },
   "file_extension": ".py",
   "mimetype": "text/x-python",
   "name": "python",
   "nbconvert_exporter": "python",
   "pygments_lexer": "ipython3",
   "version": "3.6.13"
  }
 },
 "nbformat": 4,
 "nbformat_minor": 5
}
