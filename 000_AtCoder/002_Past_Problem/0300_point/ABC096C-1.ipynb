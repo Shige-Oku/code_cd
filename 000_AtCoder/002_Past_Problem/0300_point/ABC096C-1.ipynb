{
 "cells": [
  {
   "cell_type": "markdown",
   "metadata": {},
   "source": [
    "### 問題文\n",
    "H  行 W 列のマス目で表されるキャンバスがあります. 上から \n",
    "i 番目, 左から j 番目のマスを (i,j) と表します.  \n",
    "最初, すべてのマス目は白色です. square1001 君は, 黒い絵の具を使って絵を描きたいと思いました. 具体的には, square1001 君の目標は, si,j= # のときマス (i,j) を黒色,\n",
    "si,j= . のときマス (i,j) を白色にすることです.  \n",
    "しかし, 彼は絵を描くことが得意ではないので, 何回か (0 回でもよい)「上下左右に隣接する 2 つのマスを選び, 両方黒く塗る」ことしかできません.   \n",
    "ただし, すでに黒く塗られているマスを選ぶこともでき, この場合マスの色は黒のまま変わりません.  \n",
    "square1001 君が目標を達成することができるか判定してください.\n",
    "\n",
    "### 制約\n",
    " ・H は 1 以上 50 以下の整数  \n",
    " ・W  は 1 以上 50 以下の整数  \n",
    " ・すべての (i,j) (1≤i≤H,1≤j≤W) に対して, si,j は # または .\n"
   ]
  },
  {
   "cell_type": "code",
   "execution_count": 1,
   "metadata": {},
   "outputs": [],
   "source": [
    "import sys"
   ]
  },
  {
   "cell_type": "code",
   "execution_count": 3,
   "metadata": {},
   "outputs": [
    {
     "name": "stdin",
     "output_type": "stream",
     "text": [
      " 3 3\n"
     ]
    }
   ],
   "source": [
    "# H行、W列\n",
    "h, w = map(int, input().split())"
   ]
  },
  {
   "cell_type": "code",
   "execution_count": 8,
   "metadata": {},
   "outputs": [],
   "source": [
    "# マスの入力\n",
    "# マスの周りを\"#\"で囲む\n",
    "# ループでの判定をしやすくする\n",
    "goal = [\"#\" * (w + 2)]"
   ]
  },
  {
   "cell_type": "code",
   "execution_count": 9,
   "metadata": {},
   "outputs": [
    {
     "name": "stdin",
     "output_type": "stream",
     "text": [
      " .#.\n",
      " ###\n",
      " .#.\n"
     ]
    }
   ],
   "source": [
    "for ii in range(h):\n",
    "    st = input()\n",
    "    goal.append(\"#\" + st + \"#\")\n"
   ]
  },
  {
   "cell_type": "code",
   "execution_count": 10,
   "metadata": {},
   "outputs": [],
   "source": [
    "goal.append(\"#####\")"
   ]
  },
  {
   "cell_type": "code",
   "execution_count": 21,
   "metadata": {},
   "outputs": [
    {
     "name": "stdout",
     "output_type": "stream",
     "text": [
      "Yes\n"
     ]
    }
   ],
   "source": [
    "ng = 0\n",
    "# 周りを囲んでいるので 1から\n",
    "for i in range(1, h):\n",
    "    for j in range(1, w):\n",
    "        # \"#\" の前後左右が \"#\" ならOK\n",
    "        if goal[i][j] == \"#\":\n",
    "            if goal[i-1][j] == \".\" and \\\n",
    "               goal[i+1][j] == \".\" and \\\n",
    "               goal[i][j-1] == \".\" and \\\n",
    "               goal[i][j+1] == \".\":\n",
    "                    print(\"No\")\n",
    "                    ng = 1\n",
    "                    break\n",
    "    if ng == 1:\n",
    "        break\n",
    "else:\n",
    "    print(\"Yes\")"
   ]
  },
  {
   "cell_type": "code",
   "execution_count": null,
   "metadata": {},
   "outputs": [],
   "source": []
  }
 ],
 "metadata": {
  "kernelspec": {
   "display_name": "Python 3",
   "language": "python",
   "name": "python3"
  },
  "language_info": {
   "codemirror_mode": {
    "name": "ipython",
    "version": 3
   },
   "file_extension": ".py",
   "mimetype": "text/x-python",
   "name": "python",
   "nbconvert_exporter": "python",
   "pygments_lexer": "ipython3",
   "version": "3.6.10"
  }
 },
 "nbformat": 4,
 "nbformat_minor": 4
}
