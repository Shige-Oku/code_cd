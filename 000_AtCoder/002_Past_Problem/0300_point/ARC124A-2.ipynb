{
 "cells": [
  {
   "cell_type": "code",
   "execution_count": null,
   "id": "d9c8f4b9-2eab-481c-98d8-660183eda895",
   "metadata": {},
   "outputs": [],
   "source": [
    "# 解説を読んで実装"
   ]
  },
  {
   "cell_type": "code",
   "execution_count": 1,
   "id": "33d0103c-96e7-41ee-97b4-4bac1c5e11ff",
   "metadata": {},
   "outputs": [],
   "source": [
    "import numpy as np\n",
    "import math\n",
    "import collections\n",
    "import copy\n",
    "import decimal\n",
    "import itertools\n",
    "import re\n",
    "import bisect\n",
    "import scipy\n",
    "import heapq\n",
    "import array\n",
    "from collections import deque \n",
    "from functools import reduce\n",
    "from itertools import product\n",
    "from itertools import combinations\n",
    "from itertools import chain\n",
    "from functools import lru_cache\n",
    "from scipy.special import comb\n",
    "from numba import njit\n",
    "from bisect import bisect_right\n",
    "from bisect import bisect_left"
   ]
  },
  {
   "cell_type": "code",
   "execution_count": 16,
   "id": "10cd9c82-b7de-4327-b8aa-fea1ec2f15f7",
   "metadata": {},
   "outputs": [
    {
     "name": "stdin",
     "output_type": "stream",
     "text": [
      " 3 2\n"
     ]
    }
   ],
   "source": [
    "N, K = map(int, input().split())"
   ]
  },
  {
   "cell_type": "code",
   "execution_count": 17,
   "id": "dad5b4d0-5ead-4342-8be3-2647d035846e",
   "metadata": {},
   "outputs": [
    {
     "name": "stdin",
     "output_type": "stream",
     "text": [
      " L 1\n",
      " R 2\n"
     ]
    }
   ],
   "source": [
    "LR = [list(input().split()) for _ in range(K)]"
   ]
  },
  {
   "cell_type": "code",
   "execution_count": 26,
   "id": "25d8a432-1e8d-42e9-97e6-c34bf3279b6e",
   "metadata": {},
   "outputs": [],
   "source": [
    "de = [False] * N\n",
    "cnt = [0] * N\n",
    "for L, R in LR:\n",
    "    p = int(R)-1\n",
    "    de[p] = True\n",
    "    for i in range(N):\n",
    "        if L == 'L':\n",
    "            if p <= i:\n",
    "                cnt[i] += 1\n",
    "        else:\n",
    "            if i <= p:\n",
    "                cnt[i] += 1"
   ]
  },
  {
   "cell_type": "code",
   "execution_count": 27,
   "id": "eb25a625-fa96-43aa-9640-c20e0f479c33",
   "metadata": {},
   "outputs": [],
   "source": [
    "ans = 1\n",
    "for i in range(N):\n",
    "    if de[i]:\n",
    "        continue\n",
    "    ans *= cnt[i]\n",
    "    ans %= 998244353"
   ]
  },
  {
   "cell_type": "code",
   "execution_count": 28,
   "id": "0e1a2047-ff69-449f-893b-419707803e9b",
   "metadata": {},
   "outputs": [
    {
     "name": "stdout",
     "output_type": "stream",
     "text": [
      "1\n"
     ]
    }
   ],
   "source": [
    "print(ans)"
   ]
  },
  {
   "cell_type": "code",
   "execution_count": 29,
   "id": "689aba92-6494-424a-91b3-b481ca550cab",
   "metadata": {},
   "outputs": [
    {
     "data": {
      "text/plain": [
       "[True, True, False]"
      ]
     },
     "execution_count": 29,
     "metadata": {},
     "output_type": "execute_result"
    }
   ],
   "source": [
    "de"
   ]
  },
  {
   "cell_type": "code",
   "execution_count": 30,
   "id": "d248b5e4-3b4f-412e-9fbb-fbc2c72ad3d7",
   "metadata": {},
   "outputs": [
    {
     "data": {
      "text/plain": [
       "[2, 2, 1]"
      ]
     },
     "execution_count": 30,
     "metadata": {},
     "output_type": "execute_result"
    }
   ],
   "source": [
    "cnt"
   ]
  },
  {
   "cell_type": "code",
   "execution_count": null,
   "id": "1a67ea33-0f35-4862-b237-c74f7c6169c3",
   "metadata": {},
   "outputs": [],
   "source": []
  }
 ],
 "metadata": {
  "kernelspec": {
   "display_name": "Python 3",
   "language": "python",
   "name": "python3"
  },
  "language_info": {
   "codemirror_mode": {
    "name": "ipython",
    "version": 3
   },
   "file_extension": ".py",
   "mimetype": "text/x-python",
   "name": "python",
   "nbconvert_exporter": "python",
   "pygments_lexer": "ipython3",
   "version": "3.6.13"
  }
 },
 "nbformat": 4,
 "nbformat_minor": 5
}
