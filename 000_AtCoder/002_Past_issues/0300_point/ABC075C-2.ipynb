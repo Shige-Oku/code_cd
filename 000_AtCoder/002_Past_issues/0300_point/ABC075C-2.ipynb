{
 "cells": [
  {
   "cell_type": "code",
   "execution_count": null,
   "id": "f38d7bc0-b4ed-4494-834e-868375c3ae60",
   "metadata": {},
   "outputs": [],
   "source": [
    "# 解説を読んで実装"
   ]
  },
  {
   "cell_type": "code",
   "execution_count": 1,
   "id": "06476bad-507a-4ee5-b3b8-6909ca3d9053",
   "metadata": {},
   "outputs": [],
   "source": [
    "import sys\n",
    "import numpy as np\n",
    "import math\n",
    "import collections\n",
    "import copy\n",
    "import decimal\n",
    "import itertools\n",
    "import re\n",
    "import bisect\n",
    "import scipy\n",
    "import heapq\n",
    "from collections import deque \n",
    "from functools import reduce\n",
    "from itertools import product\n",
    "from itertools import combinations\n",
    "from itertools import chain\n",
    "from functools import lru_cache\n",
    "from scipy.special import comb\n",
    "from numba import njit\n",
    "from bisect import bisect_right\n",
    "from bisect import bisect_left"
   ]
  },
  {
   "cell_type": "code",
   "execution_count": 2,
   "id": "2cc842fd-15b2-4585-b4be-8dc272079f2a",
   "metadata": {},
   "outputs": [
    {
     "name": "stdin",
     "output_type": "stream",
     "text": [
      " 7 7\n"
     ]
    }
   ],
   "source": [
    "N, M = map(int, input().split())"
   ]
  },
  {
   "cell_type": "code",
   "execution_count": 3,
   "id": "b370fde3-9580-48af-ac7a-dd69ecab2437",
   "metadata": {},
   "outputs": [
    {
     "name": "stdin",
     "output_type": "stream",
     "text": [
      " 1 3\n",
      " 2 7\n",
      " 3 4\n",
      " 4 5\n",
      " 4 6\n",
      " 5 6\n",
      " 6 7\n"
     ]
    }
   ],
   "source": [
    "AB = [list(map(int, input().split())) for _ in range(M)]"
   ]
  },
  {
   "cell_type": "code",
   "execution_count": 8,
   "id": "6e93e526-d0b7-4f87-a2f7-233bb8dbd608",
   "metadata": {},
   "outputs": [],
   "source": [
    "graph = [[] for _ in range(N+1)]\n",
    "for A, B in AB:\n",
    "    graph[A].append(B)\n",
    "    graph[B].append(A)"
   ]
  },
  {
   "cell_type": "code",
   "execution_count": 27,
   "id": "b71cad5a-4df3-4b60-b22f-d327f6251a88",
   "metadata": {},
   "outputs": [],
   "source": [
    "def solve(a, b):\n",
    "#     print(a, b)\n",
    "    visit = [False] * (N+1)\n",
    "    q = deque()\n",
    "    q.append(1)\n",
    "    while q:\n",
    "        p = q.popleft()\n",
    "        if visit[p]:\n",
    "            continue\n",
    "        visit[p] = True\n",
    "        for gr in graph[p]:\n",
    "            if visit[gr]:\n",
    "                continue\n",
    "            if (p == a and gr == b) or (p == b and gr == a):\n",
    "                continue\n",
    "            q.append(gr)\n",
    "#     print(visit)\n",
    "    for v in visit[1:]:\n",
    "        if not v:\n",
    "            return True\n",
    "    return False"
   ]
  },
  {
   "cell_type": "code",
   "execution_count": 28,
   "id": "3d7926f3-b5a4-4a94-a0b5-548416c619b9",
   "metadata": {},
   "outputs": [
    {
     "name": "stdout",
     "output_type": "stream",
     "text": [
      "4\n"
     ]
    }
   ],
   "source": [
    "ans = 0\n",
    "for A, B in AB[:]:\n",
    "    if solve(A, B):\n",
    "        ans += 1\n",
    "print(ans)"
   ]
  },
  {
   "cell_type": "code",
   "execution_count": null,
   "id": "ddf79acf-670a-4a92-a8e8-057cbc7da54e",
   "metadata": {},
   "outputs": [],
   "source": []
  },
  {
   "cell_type": "code",
   "execution_count": null,
   "id": "aebc26b1-1844-45a9-b28d-d059d011a363",
   "metadata": {},
   "outputs": [],
   "source": []
  },
  {
   "cell_type": "code",
   "execution_count": 9,
   "id": "97b2ff61-c62e-49df-ba38-ece6b9908f19",
   "metadata": {},
   "outputs": [
    {
     "data": {
      "text/plain": [
       "[[], [3], [7], [1, 4], [3, 5, 6], [4, 6], [4, 5, 7], [2, 6]]"
      ]
     },
     "execution_count": 9,
     "metadata": {},
     "output_type": "execute_result"
    }
   ],
   "source": [
    "graph"
   ]
  },
  {
   "cell_type": "code",
   "execution_count": null,
   "id": "01ef0855-1033-41d8-ae51-04e0c6f493a3",
   "metadata": {},
   "outputs": [],
   "source": []
  }
 ],
 "metadata": {
  "kernelspec": {
   "display_name": "Python 3",
   "language": "python",
   "name": "python3"
  },
  "language_info": {
   "codemirror_mode": {
    "name": "ipython",
    "version": 3
   },
   "file_extension": ".py",
   "mimetype": "text/x-python",
   "name": "python",
   "nbconvert_exporter": "python",
   "pygments_lexer": "ipython3",
   "version": "3.6.13"
  }
 },
 "nbformat": 4,
 "nbformat_minor": 5
}
