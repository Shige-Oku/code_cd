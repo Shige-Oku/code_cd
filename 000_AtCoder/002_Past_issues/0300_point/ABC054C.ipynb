{
 "cells": [
  {
   "cell_type": "markdown",
   "metadata": {},
   "source": [
    "# 問題文\n",
    "自己ループと二重辺を含まない N 頂点 M 辺の重み無し無向グラフが与えられます。  \n",
    "i(1 ≦ i ≦ M)  番目の辺は頂点 ai と頂点 bi を結びます。  \n",
    "ここで、自己ループは ai=bi(1 ≦ i ≦ M) となる辺のことを表します。  \n",
    "また、二重辺は ai=aj かつ bi=bj(1 ≦ i < j ≦ M) となる辺のことを表します。  \n",
    "頂点 1 を始点として、全ての頂点を1度だけ訪れるパスは何通りありますか。  \n",
    "ただし、パスの始点と終点の頂点も訪れたものとみなします。  \n",
    "例として、図1のような無向グラフが与えられたとします。  \n",
    "\n",
    "# 制約\n",
    "  ・2 ≦ N ≦ 8  \n",
    "  ・0 ≦ M ≦ N (N − 1) / 2  \n",
    "  ・1 ≦ ai < bi ≦ N  \n",
    "  ・与えられるグラフは自己ループと二重辺を含まない。"
   ]
  },
  {
   "cell_type": "code",
   "execution_count": null,
   "metadata": {},
   "outputs": [],
   "source": [
    "# TODO"
   ]
  }
 ],
 "metadata": {
  "kernelspec": {
   "display_name": "Python 3",
   "language": "python",
   "name": "python3"
  },
  "language_info": {
   "codemirror_mode": {
    "name": "ipython",
    "version": 3
   },
   "file_extension": ".py",
   "mimetype": "text/x-python",
   "name": "python",
   "nbconvert_exporter": "python",
   "pygments_lexer": "ipython3",
   "version": "3.6.7"
  }
 },
 "nbformat": 4,
 "nbformat_minor": 2
}
