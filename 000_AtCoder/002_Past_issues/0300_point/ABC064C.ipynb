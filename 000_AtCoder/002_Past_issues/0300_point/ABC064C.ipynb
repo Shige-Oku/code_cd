{
 "cells": [
  {
   "cell_type": "markdown",
   "metadata": {},
   "source": [
    "# 問題文\n",
    "AtCoderでは、コンテストに参加すると「色」が付き、これはレートによって次のように変化します：  \n",
    "  ・レート 1-399：灰色  \n",
    "  ・レート 400-799：茶色  \n",
    "  ・レート 800-1199：緑色  \n",
    "  ・レート 1200-1599：水色  \n",
    "  ・レート 1600-1999：青色  \n",
    "  ・レート 2000-2399：黄色  \n",
    "  ・レート 2400-2799：橙色  \n",
    "  ・レート 2800-3199：赤色  \n",
    "また、レートが 3200 以上になると色を自由に変えることができます。  \n",
    "現在 N 人の人がAtCoderのコンテストに参加したことがあり、i 人目の人のレートは ai です。  \n",
    "そのとき、色の種類数の最小値と最大値を求めなさい。  \n",
    "\n",
    "# 制約\n",
    "  ・1 ≤ N ≤ 100  \n",
    "  ・1 ≤ ai ≤ 4800  \n",
    "  ・ai は整数である。"
   ]
  },
  {
   "cell_type": "code",
   "execution_count": 1,
   "metadata": {},
   "outputs": [],
   "source": [
    "import sys\n",
    "import numpy as np"
   ]
  },
  {
   "cell_type": "code",
   "execution_count": 31,
   "metadata": {},
   "outputs": [
    {
     "name": "stdin",
     "output_type": "stream",
     "text": [
      " 3\n"
     ]
    }
   ],
   "source": [
    "# N 参加した人数\n",
    "n = int(input())"
   ]
  },
  {
   "cell_type": "code",
   "execution_count": 32,
   "metadata": {},
   "outputs": [
    {
     "name": "stdin",
     "output_type": "stream",
     "text": [
      " 3200 3400 4800\n"
     ]
    }
   ],
   "source": [
    "# ai 各参加者のレート\n",
    "rate = list(map(int, input().split()))"
   ]
  },
  {
   "cell_type": "code",
   "execution_count": 43,
   "metadata": {},
   "outputs": [],
   "source": [
    "# 各レートによる人数\n",
    "people = np.zeros(8)\n",
    "# 3200以上の好きな色を選べる人数\n",
    "free = 0"
   ]
  },
  {
   "cell_type": "code",
   "execution_count": 44,
   "metadata": {},
   "outputs": [],
   "source": [
    "for r in rate:\n",
    "    # レートによって人数を求める\n",
    "    if r < 400:\n",
    "        people[0] += 1\n",
    "    elif r < 800:\n",
    "        people[1] += 1\n",
    "    elif r < 1200:\n",
    "        people[2] += 1\n",
    "    elif r < 1600:\n",
    "        people[3] += 1\n",
    "    elif r < 2000:\n",
    "        people[4] += 1\n",
    "    elif r < 2400:\n",
    "        people[5] += 1\n",
    "    elif r < 2800:\n",
    "        people[6] += 1\n",
    "    elif r < 3200:\n",
    "        people[7] += 1\n",
    "    else:\n",
    "        free += 1\n"
   ]
  },
  {
   "cell_type": "code",
   "execution_count": 45,
   "metadata": {},
   "outputs": [],
   "source": [
    "if people[people > 0].size > 0:\n",
    "    # 最小は色の数\n",
    "    min_color = people[people > 0].size\n",
    "    # 最大は、最小 + 選べる人数\n",
    "    max_col = min_color + free\n",
    "else:\n",
    "    # 高得点者しかいない場合、最小は 1\n",
    "    min_color = 1\n",
    "    # 最大は高得点者\n",
    "    max_col = free"
   ]
  },
  {
   "cell_type": "code",
   "execution_count": 46,
   "metadata": {},
   "outputs": [
    {
     "name": "stdout",
     "output_type": "stream",
     "text": [
      "1 3\n"
     ]
    }
   ],
   "source": [
    "print(min_color, max_col)"
   ]
  },
  {
   "cell_type": "code",
   "execution_count": null,
   "metadata": {},
   "outputs": [],
   "source": []
  }
 ],
 "metadata": {
  "kernelspec": {
   "display_name": "Python 3",
   "language": "python",
   "name": "python3"
  },
  "language_info": {
   "codemirror_mode": {
    "name": "ipython",
    "version": 3
   },
   "file_extension": ".py",
   "mimetype": "text/x-python",
   "name": "python",
   "nbconvert_exporter": "python",
   "pygments_lexer": "ipython3",
   "version": "3.6.7"
  }
 },
 "nbformat": 4,
 "nbformat_minor": 2
}
