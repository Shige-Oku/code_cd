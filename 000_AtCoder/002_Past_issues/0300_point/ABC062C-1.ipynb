{
 "cells": [
  {
   "cell_type": "code",
   "execution_count": 1,
   "metadata": {},
   "outputs": [],
   "source": [
    "import sys\n",
    "import numpy as np\n",
    "import math\n",
    "import collections\n",
    "import copy\n",
    "import decimal\n",
    "import itertools\n",
    "import re\n",
    "from collections import deque \n",
    "from functools import reduce\n",
    "from itertools import product\n",
    "from itertools import combinations\n",
    "from functools import lru_cache"
   ]
  },
  {
   "cell_type": "code",
   "execution_count": 67,
   "metadata": {},
   "outputs": [
    {
     "name": "stdin",
     "output_type": "stream",
     "text": [
      " 100000 100000\n"
     ]
    }
   ],
   "source": [
    "H, W = map(int, input().split())"
   ]
  },
  {
   "cell_type": "code",
   "execution_count": 70,
   "metadata": {},
   "outputs": [],
   "source": [
    "def solve(h, w):\n",
    "    ret = 10 ** 11\n",
    "    for i in range(1, h):\n",
    "        j = (h-i) // 2\n",
    "        k = h - (i + j)\n",
    "        ret = min(ret, max(i*w, j*w, k*w) - min(i*w, j*w, k*w))\n",
    "        j = w // 2\n",
    "        k = w - j\n",
    "        ret =  min(ret, max(i*w, (h-i)*(w-k), (h-i)*(w-j)) - min(i*w, (h-i)*(w-k), (h-i)*(w-j)))\n",
    "    return ret"
   ]
  },
  {
   "cell_type": "code",
   "execution_count": 71,
   "metadata": {},
   "outputs": [
    {
     "name": "stdout",
     "output_type": "stream",
     "text": [
      "50000\n"
     ]
    }
   ],
   "source": [
    "ans = min(solve(H, W), solve(W, H))\n",
    "print(ans)"
   ]
  },
  {
   "cell_type": "code",
   "execution_count": 27,
   "metadata": {},
   "outputs": [
    {
     "name": "stdout",
     "output_type": "stream",
     "text": [
      "1 0 1 1 1\n",
      "2 0 1 3 2\n"
     ]
    },
    {
     "data": {
      "text/plain": [
       "0"
      ]
     },
     "execution_count": 27,
     "metadata": {},
     "output_type": "execute_result"
    }
   ],
   "source": [
    "solve(3, 5)"
   ]
  },
  {
   "cell_type": "code",
   "execution_count": 53,
   "metadata": {},
   "outputs": [],
   "source": [
    "def solve2(h, w):\n",
    "    ret = 10**11\n",
    "    for i in range(1, h-1):\n",
    "        for j in range(1, h-i+1):\n",
    "            k = h - i - j\n",
    "            if j == 0 or k == 0:\n",
    "                continue\n",
    "            ret = min(ret, max(i*w, j*w, k*w) - min(i*w, j*w, k*w))\n",
    "#             print(\"1\", ret, i, j, k)\n",
    "        for j in range(1, w-1):\n",
    "            k = w - j\n",
    "            ret = min(ret, max(i*w, j*(h-i), k*(h-i)) - min(i*w, j*(h-i), k*(h-i)))\n",
    "#         print(\"2\", ret, i, j, k)\n",
    "    return ret"
   ]
  },
  {
   "cell_type": "code",
   "execution_count": 40,
   "metadata": {},
   "outputs": [
    {
     "data": {
      "text/plain": [
       "10000000000"
      ]
     },
     "execution_count": 40,
     "metadata": {},
     "output_type": "execute_result"
    }
   ],
   "source": [
    "(10**5)**2"
   ]
  },
  {
   "cell_type": "code",
   "execution_count": null,
   "metadata": {},
   "outputs": [],
   "source": [
    "10,000,000,000"
   ]
  }
 ],
 "metadata": {
  "kernelspec": {
   "display_name": "Python 3",
   "language": "python",
   "name": "python3"
  },
  "language_info": {
   "codemirror_mode": {
    "name": "ipython",
    "version": 3
   },
   "file_extension": ".py",
   "mimetype": "text/x-python",
   "name": "python",
   "nbconvert_exporter": "python",
   "pygments_lexer": "ipython3",
   "version": "3.6.10"
  }
 },
 "nbformat": 4,
 "nbformat_minor": 4
}
