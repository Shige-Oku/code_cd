{
 "cells": [
  {
   "cell_type": "code",
   "execution_count": 1,
   "metadata": {},
   "outputs": [],
   "source": [
    "import sys\n",
    "import numpy as np\n",
    "import math\n",
    "import collections\n",
    "import copy\n",
    "import decimal\n",
    "import itertools\n",
    "from collections import deque \n",
    "from functools import reduce\n",
    "from itertools import product\n",
    "from itertools import combinations\n",
    "from functools import lru_cache"
   ]
  },
  {
   "cell_type": "code",
   "execution_count": 10,
   "metadata": {},
   "outputs": [
    {
     "name": "stdin",
     "output_type": "stream",
     "text": [
      " 3242\n"
     ]
    }
   ],
   "source": [
    "ABCD = input()"
   ]
  },
  {
   "cell_type": "code",
   "execution_count": 11,
   "metadata": {},
   "outputs": [],
   "source": [
    "A, B, C, D = int(ABCD[0]), int(ABCD[1]), int(ABCD[2]), int(ABCD[3])"
   ]
  },
  {
   "cell_type": "code",
   "execution_count": 12,
   "metadata": {},
   "outputs": [
    {
     "name": "stdout",
     "output_type": "stream",
     "text": [
      "3+2+4-2=7\n"
     ]
    }
   ],
   "source": [
    "while True:\n",
    "    if A + B + C + D == 7:\n",
    "        print(\"{0}+{1}+{2}+{3}=7\".format(A, B, C, D))\n",
    "        break\n",
    "    if A + B + C - D == 7:\n",
    "        print(\"{0}+{1}+{2}-{3}=7\".format(A, B, C, D))\n",
    "        break    \n",
    "    if A + B - C + D == 7:\n",
    "        print(\"{0}+{1}-{2}+{3}=7\".format(A, B, C, D))\n",
    "        break    \n",
    "    if A - B + C + D == 7:\n",
    "        print(\"{0}-{1}+{2}+{3}=7\".format(A, B, C, D))\n",
    "        break\n",
    "    if A + B - C - D == 7:\n",
    "        print(\"{0}+{1}-{2}-{3}=7\".format(A, B, C, D))\n",
    "        break\n",
    "    if A - B + C - D == 7:\n",
    "        print(\"{0}-{1}+{2}-{3}=7\".format(A, B, C, D))\n",
    "        break\n",
    "    if A - B - C + D == 7:\n",
    "        print(\"{0}-{1}-{2}+{3}=7\".format(A, B, C, D))\n",
    "        break\n",
    "    if A - B - C - D == 7:\n",
    "        print(\"{0}-{1}-{2}-{3}=7\".format(A, B, C, D))\n",
    "        break"
   ]
  },
  {
   "cell_type": "code",
   "execution_count": null,
   "metadata": {},
   "outputs": [],
   "source": []
  }
 ],
 "metadata": {
  "kernelspec": {
   "display_name": "Python 3",
   "language": "python",
   "name": "python3"
  },
  "language_info": {
   "codemirror_mode": {
    "name": "ipython",
    "version": 3
   },
   "file_extension": ".py",
   "mimetype": "text/x-python",
   "name": "python",
   "nbconvert_exporter": "python",
   "pygments_lexer": "ipython3",
   "version": "3.6.10"
  }
 },
 "nbformat": 4,
 "nbformat_minor": 4
}
