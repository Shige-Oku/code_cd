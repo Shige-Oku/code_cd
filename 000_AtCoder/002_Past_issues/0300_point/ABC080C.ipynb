{
 "cells": [
  {
   "cell_type": "markdown",
   "metadata": {},
   "source": [
    "### 問題文\n",
    "joisinoお姉ちゃんは、ある商店街に店を開こうとしています。  \n",
    "その商店街の店は、月曜日から金曜日の 5 つの曜日を午前と午後の 2 つの時間帯に分けて、これら 10 個の時間帯それぞれについて店を営業するか否かを決めることとなっています。  \n",
    "ただし、1 つ以上の時間帯で店を営業しなければなりません。  \n",
    "商店街には既に N 個の店があり、1 から N までの番号がついています。  \n",
    "これらの店の営業時間の情報として Fi,j,k が与えられ、月曜日 = 曜日 1、火曜日 = 曜日 2、水曜日 = 曜日 3、木曜日 = 曜日 4、金曜日 = 曜日 5、 午前 = 時間帯 1、午後 = 時間帯 2 と対応させたとき、Fi,j,k=1 なら曜日 j の時間帯 k に店 i が営業しており、Fi,j,k=0 なら営業していないことを意味します。  \n",
    "店 i とjoisinoお姉ちゃんの開く店の両方が営業している時間帯の個数を ci としたとき、joisinoお姉ちゃんの店の利益は P1,c1+P2,c2+...+PN,cN となります。ただし、利益は負にもなりうることに注意してください。  \n",
    "1  つ以上の時間帯で店を営業しなければならないことに注意しつつ、10 個の時間帯それぞれについて店を営業するか否かを決めるとき、joisinoお姉ちゃんの店の利益のあり得る最大値を求めてください。  \n",
    "\n",
    "### 制約\n",
    "  ・1≦N≦100  \n",
    "  ・0≦Fi,j,k≦1  \n",
    "  ・1≦i≦N を満たす全ての整数 i に対して、Fi,j,k=\n",
    "1 を満たす (j,k) が必ず 1 つ以上存在する  \n",
    "  ・−10 ** 7≦Pi,j≦10 ** 7  \n",
    "  ・入力は全て整数"
   ]
  },
  {
   "cell_type": "code",
   "execution_count": 1,
   "metadata": {},
   "outputs": [],
   "source": [
    "# TODO NG\n",
    "import sys\n",
    "import numpy as np"
   ]
  },
  {
   "cell_type": "code",
   "execution_count": 26,
   "metadata": {},
   "outputs": [
    {
     "name": "stdin",
     "output_type": "stream",
     "text": [
      " 2\n"
     ]
    }
   ],
   "source": [
    "# N 店の数\n",
    "n = int(input())"
   ]
  },
  {
   "cell_type": "code",
   "execution_count": 27,
   "metadata": {},
   "outputs": [
    {
     "name": "stdin",
     "output_type": "stream",
     "text": [
      " 1 1 1 1 1 0 0 0 0 0\n",
      " 0 0 0 0 0 1 1 1 1 1\n"
     ]
    }
   ],
   "source": [
    "# F 店の営業計画\n",
    "f = [input().replace(\" \", \"\") for i in range(n)]"
   ]
  },
  {
   "cell_type": "code",
   "execution_count": 28,
   "metadata": {},
   "outputs": [
    {
     "name": "stdin",
     "output_type": "stream",
     "text": [
      " 0 -2 -2 -2 -2 -2 -1 -1 -1 -1 -1\n",
      " 0 -2 -2 -2 -2 -2 -1 -1 -1 -1 -1\n"
     ]
    }
   ],
   "source": [
    "# P 営業利益\n",
    "p = [list(map(int, input().split())) for i in range(n)]"
   ]
  },
  {
   "cell_type": "code",
   "execution_count": 46,
   "metadata": {},
   "outputs": [],
   "source": [
    "p_max = -999999999999999\n",
    "for i in range(1, 1024):\n",
    "    f_b = format(i, '010b')\n",
    "    p_10 = 0\n",
    "    for f_1, p_1 in zip(f, p):\n",
    "        p_cnt = 0\n",
    "        for j in range(10):\n",
    "            if f_1[j] == '1' and f_b[j] == '1':\n",
    "                p_cnt += 1\n",
    "        p_10 += p_1[p_cnt]\n",
    "#         if i == 32:\n",
    "#             print(str(p_cnt))\n",
    "#             print(str(p_1[p_cnt]))\n",
    "#             print(str(p_10))\n",
    "#     p_10 += p_m\n",
    "    if p_10 > p_max:\n",
    "        if p_10 == 0:\n",
    "            print(str(i))\n",
    "            break\n",
    "        p_max = p_10\n"
   ]
  },
  {
   "cell_type": "code",
   "execution_count": 47,
   "metadata": {},
   "outputs": [
    {
     "name": "stdout",
     "output_type": "stream",
     "text": [
      "-2\n"
     ]
    }
   ],
   "source": [
    "print(p_max)"
   ]
  },
  {
   "cell_type": "code",
   "execution_count": null,
   "metadata": {},
   "outputs": [],
   "source": []
  }
 ],
 "metadata": {
  "kernelspec": {
   "display_name": "Python 3",
   "language": "python",
   "name": "python3"
  },
  "language_info": {
   "codemirror_mode": {
    "name": "ipython",
    "version": 3
   },
   "file_extension": ".py",
   "mimetype": "text/x-python",
   "name": "python",
   "nbconvert_exporter": "python",
   "pygments_lexer": "ipython3",
   "version": "3.6.7"
  }
 },
 "nbformat": 4,
 "nbformat_minor": 2
}
