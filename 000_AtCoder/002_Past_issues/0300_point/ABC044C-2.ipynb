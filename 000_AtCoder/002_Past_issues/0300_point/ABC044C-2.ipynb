{
 "cells": [
  {
   "cell_type": "code",
   "execution_count": 1,
   "id": "4d0111a3-cb9a-4e59-b0f1-72cf50ddd702",
   "metadata": {},
   "outputs": [],
   "source": [
    "import sys\n",
    "import numpy as np\n",
    "import math\n",
    "import collections\n",
    "import copy\n",
    "import decimal\n",
    "import itertools\n",
    "import re\n",
    "import bisect\n",
    "import scipy\n",
    "import heapq\n",
    "from collections import deque \n",
    "from functools import reduce\n",
    "from itertools import product\n",
    "from itertools import combinations\n",
    "from itertools import chain\n",
    "from functools import lru_cache\n",
    "from scipy.special import comb\n",
    "from numba import njit\n",
    "from bisect import bisect_right\n",
    "from bisect import bisect_left"
   ]
  },
  {
   "cell_type": "code",
   "execution_count": 2,
   "id": "bb9fee20-472f-4dd3-8a43-78041e3d65f8",
   "metadata": {},
   "outputs": [
    {
     "name": "stdin",
     "output_type": "stream",
     "text": [
      " 8 5\n"
     ]
    }
   ],
   "source": [
    "N, A = map(int, input().split())"
   ]
  },
  {
   "cell_type": "code",
   "execution_count": 3,
   "id": "aa8f577d-e72e-4b1f-ac0a-0c336ac275e4",
   "metadata": {},
   "outputs": [
    {
     "name": "stdin",
     "output_type": "stream",
     "text": [
      " 3 6 2 8 7 6 5 9\n"
     ]
    }
   ],
   "source": [
    "An = list(map(int, input().split()))"
   ]
  },
  {
   "cell_type": "code",
   "execution_count": 24,
   "id": "e29f6761-ca93-422e-91c7-88e1cf26090b",
   "metadata": {},
   "outputs": [],
   "source": [
    "An_a = []\n",
    "for a in An:\n",
    "    An_a.append(a - A)\n",
    "\n",
    "dp = [[-1] * 5200 for _ in range(N+1)]\n",
    "dp[0][2600] = 1\n",
    "for i, a in enumerate(An_a, 1):\n",
    "    for j in range(5200):\n",
    "        if dp[i-1][j] == -1:\n",
    "            continue\n",
    "#         print(i, j)\n",
    "        if dp[i][j] == -1:\n",
    "            dp[i][j] = dp[i-1][j]\n",
    "        else:\n",
    "            dp[i][j] += dp[i-1][j]\n",
    "        if dp[i][j+a] == -1:\n",
    "            dp[i][j+a] = dp[i-1][j]\n",
    "        else:\n",
    "            dp[i][j+a] += dp[i-1][j]\n"
   ]
  },
  {
   "cell_type": "code",
   "execution_count": 25,
   "id": "30fa4e93-b4f3-4cf7-9999-ab7a675b48aa",
   "metadata": {},
   "outputs": [
    {
     "name": "stdout",
     "output_type": "stream",
     "text": [
      "19\n"
     ]
    }
   ],
   "source": [
    "print(dp[-1][2600]-1)"
   ]
  },
  {
   "cell_type": "code",
   "execution_count": 69,
   "id": "8e62a6bb-3f41-4066-b26d-b7ba8a9316af",
   "metadata": {},
   "outputs": [
    {
     "data": {
      "text/plain": [
       "(4, 49)"
      ]
     },
     "execution_count": 69,
     "metadata": {},
     "output_type": "execute_result"
    }
   ],
   "source": [
    "i, j"
   ]
  },
  {
   "cell_type": "code",
   "execution_count": 18,
   "id": "20684ad5-2553-4f7f-a989-2ff208156686",
   "metadata": {},
   "outputs": [
    {
     "data": {
      "text/plain": [
       "([-1, -1, -1, -1, -1, 1, -1, -1, -1, -1, -1, -1, -1, -1, -1],\n",
       " [-1, -1, 1, 1, -1, 9, 2, 1, 1, 1, -1, -1, -1, -1, -1],\n",
       " [1, 1, 10, 12, 3, 48, 22, 14, 12, 13, 3, 2, 1, 1, -1],\n",
       " [13, 14, 60, 81, 38, 204, 139, 106, 87, 95, 40, 29, 16, 15, 4],\n",
       " [-1, -1, -1, -1, -1, -1, -1, -1, -1, -1, -1, -1, -1, -1, -1],\n",
       " [-1, -1, -1, -1, -1, -1, -1, -1, -1, -1, -1, -1, -1, -1, -1],\n",
       " [-1, -1, -1, -1, -1, -1, -1, -1, -1, -1, -1, -1, -1, -1, -1],\n",
       " [-1, -1, -1, -1, -1, -1, -1, -1, -1, -1, -1, -1, -1, -1, -1],\n",
       " [-1, -1, -1, -1, -1, -1, -1, -1, -1, -1, -1, -1, -1, -1, -1])"
      ]
     },
     "execution_count": 18,
     "metadata": {},
     "output_type": "execute_result"
    }
   ],
   "source": [
    "dp[0][2595:2610],dp[1][2595:2610], dp[2][2595:2610],dp[3][2595:2610],dp[4][:15],dp[5][:15],dp[6][:15],dp[7][:15],dp[8][:15]"
   ]
  },
  {
   "cell_type": "code",
   "execution_count": 10,
   "id": "e34eb519-1df3-49dd-9b80-a705a549f235",
   "metadata": {},
   "outputs": [
    {
     "data": {
      "text/plain": [
       "[-2, 1, -3, 3, 2, 1, 0, 4]"
      ]
     },
     "execution_count": 10,
     "metadata": {},
     "output_type": "execute_result"
    }
   ],
   "source": [
    "An_a"
   ]
  },
  {
   "cell_type": "code",
   "execution_count": null,
   "id": "3fb94fce-4415-4e11-a7b5-6b4edf3e1faa",
   "metadata": {},
   "outputs": [],
   "source": []
  }
 ],
 "metadata": {
  "kernelspec": {
   "display_name": "Python 3",
   "language": "python",
   "name": "python3"
  },
  "language_info": {
   "codemirror_mode": {
    "name": "ipython",
    "version": 3
   },
   "file_extension": ".py",
   "mimetype": "text/x-python",
   "name": "python",
   "nbconvert_exporter": "python",
   "pygments_lexer": "ipython3",
   "version": "3.6.13"
  }
 },
 "nbformat": 4,
 "nbformat_minor": 5
}
