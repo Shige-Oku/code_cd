{
 "cells": [
  {
   "cell_type": "markdown",
   "metadata": {},
   "source": [
    "### 問題文\n",
    "自己ループと二重辺を含まない N 頂点 M 辺の無向連結グラフが与えられます。  \n",
    "i(1≦i≦M) 番目の辺は頂点 ai と頂点 bi を結びます。  \n",
    "グラフから辺を取り除いたとき、グラフ全体が非連結になるような辺のことを橋と呼びます。  \n",
    "与えられた M 本のうち橋である辺の本数を求めてください。  \n",
    "\n",
    "### ノート\n",
    "  ・自己ループ とは、ai=bi(1≦i≦M) であるような辺 i のことをいいます。  \n",
    "  ・二重辺 とは、ai=aj かつ bi=bj(1≦i<j≦M) であるような辺の組 i,j のことをいいます。  \n",
    "  ・無向グラフが 連結 であるとは、グラフの任意の二頂点間に経路が存在することをいいます。  \n",
    "\n",
    "### 制約\n",
    "  ・2≦N≦50   \n",
    "  ・N−1≦M≦min(N(N−1)/2,50)  \n",
    "  ・1≦ai<bi≦N与えられるグラフは自己ループと二重辺を含まない。  \n",
    "  ・与えられるグラフは連結である。  "
   ]
  },
  {
   "cell_type": "code",
   "execution_count": null,
   "metadata": {},
   "outputs": [],
   "source": [
    "# TODO NG"
   ]
  },
  {
   "cell_type": "code",
   "execution_count": 1,
   "metadata": {},
   "outputs": [],
   "source": [
    "import sys\n",
    "import numpy as np\n",
    "import math\n",
    "import collections\n",
    "import copy\n",
    "from collections import deque \n",
    "from functools import reduce\n",
    "from itertools import product\n",
    "from itertools import combinations\n",
    "\n",
    "# input = sys.stdin.readline\n"
   ]
  },
  {
   "cell_type": "code",
   "execution_count": 18,
   "metadata": {},
   "outputs": [
    {
     "name": "stdin",
     "output_type": "stream",
     "text": [
      " 3 3\n"
     ]
    }
   ],
   "source": [
    "# N 頂点の数、M 辺の数\n",
    "n, m = map(int, input().split())"
   ]
  },
  {
   "cell_type": "code",
   "execution_count": 3,
   "metadata": {},
   "outputs": [
    {
     "name": "stdin",
     "output_type": "stream",
     "text": [
      " 1 3\n",
      " 2 7\n",
      " 3 4\n",
      " 4 5\n",
      " 4 6\n",
      " 5 6\n",
      " 6 7\n"
     ]
    }
   ],
   "source": [
    "# ai bi 辺の接続する頂点\n",
    "# s = []\n",
    "# for i in range(m):\n",
    "#     s.append(list(map(int, input().split())))"
   ]
  },
  {
   "cell_type": "code",
   "execution_count": 19,
   "metadata": {},
   "outputs": [
    {
     "name": "stdin",
     "output_type": "stream",
     "text": [
      " 1 2\n",
      " 1 3\n",
      " 2 3\n"
     ]
    }
   ],
   "source": [
    "# ai bi 辺の接続する頂点\n",
    "s = [list(map(int, input().split())) for i in range(m)]"
   ]
  },
  {
   "cell_type": "code",
   "execution_count": 20,
   "metadata": {},
   "outputs": [],
   "source": [
    "s_np = np.array(s)"
   ]
  },
  {
   "cell_type": "code",
   "execution_count": 21,
   "metadata": {},
   "outputs": [
    {
     "data": {
      "text/plain": [
       "array([1, 2, 1, 3, 2, 3])"
      ]
     },
     "execution_count": 21,
     "metadata": {},
     "output_type": "execute_result"
    }
   ],
   "source": [
    "s_np.reshape(-1)"
   ]
  },
  {
   "cell_type": "code",
   "execution_count": 22,
   "metadata": {},
   "outputs": [],
   "source": [
    "unique, counts = np.unique(s_np, return_counts=True)"
   ]
  },
  {
   "cell_type": "code",
   "execution_count": 23,
   "metadata": {},
   "outputs": [
    {
     "name": "stdout",
     "output_type": "stream",
     "text": [
      "2\n"
     ]
    }
   ],
   "source": [
    "print(counts[counts[:] < 3].size-1)"
   ]
  },
  {
   "cell_type": "code",
   "execution_count": null,
   "metadata": {},
   "outputs": [],
   "source": []
  }
 ],
 "metadata": {
  "kernelspec": {
   "display_name": "Python 3",
   "language": "python",
   "name": "python3"
  },
  "language_info": {
   "codemirror_mode": {
    "name": "ipython",
    "version": 3
   },
   "file_extension": ".py",
   "mimetype": "text/x-python",
   "name": "python",
   "nbconvert_exporter": "python",
   "pygments_lexer": "ipython3",
   "version": "3.6.10"
  }
 },
 "nbformat": 4,
 "nbformat_minor": 4
}
