{
 "cells": [
  {
   "cell_type": "code",
   "execution_count": null,
   "id": "e168d551-6f09-4771-9c35-b448aaefb639",
   "metadata": {},
   "outputs": [],
   "source": [
    "# 解説を読んで実装"
   ]
  },
  {
   "cell_type": "code",
   "execution_count": 3,
   "id": "4d0111a3-cb9a-4e59-b0f1-72cf50ddd702",
   "metadata": {},
   "outputs": [],
   "source": [
    "import sys\n",
    "import numpy as np\n",
    "import math\n",
    "import collections\n",
    "import copy\n",
    "import decimal\n",
    "import itertools\n",
    "import re\n",
    "import bisect\n",
    "import scipy\n",
    "import heapq\n",
    "from collections import deque \n",
    "from functools import reduce\n",
    "from itertools import product\n",
    "from itertools import combinations\n",
    "from itertools import chain\n",
    "from functools import lru_cache\n",
    "from scipy.special import comb\n",
    "from numba import njit\n",
    "from bisect import bisect_right\n",
    "from bisect import bisect_left"
   ]
  },
  {
   "cell_type": "code",
   "execution_count": 36,
   "id": "bb9fee20-472f-4dd3-8a43-78041e3d65f8",
   "metadata": {},
   "outputs": [
    {
     "name": "stdin",
     "output_type": "stream",
     "text": [
      " 8 5\n"
     ]
    }
   ],
   "source": [
    "N, A = map(int, input().split())"
   ]
  },
  {
   "cell_type": "code",
   "execution_count": 37,
   "id": "aa8f577d-e72e-4b1f-ac0a-0c336ac275e4",
   "metadata": {},
   "outputs": [
    {
     "name": "stdin",
     "output_type": "stream",
     "text": [
      " 3 6 2 8 7 6 5 9\n"
     ]
    }
   ],
   "source": [
    "An = list(map(int, input().split()))"
   ]
  },
  {
   "cell_type": "code",
   "execution_count": 38,
   "id": "e29f6761-ca93-422e-91c7-88e1cf26090b",
   "metadata": {},
   "outputs": [],
   "source": [
    "dp = []\n",
    "for _ in range(N+1):\n",
    "    l = [[0] * 2600 for _ in range(N+1)]\n",
    "    dp.append(l)\n",
    "dp[0][0][0] = 1\n",
    "for i in range(N):\n",
    "    for j in range(N):\n",
    "        for k in range(2501):\n",
    "            if dp[i][j][k] == 0:\n",
    "                continue\n",
    "            dp[i+1][j][k] += dp[i][j][k]\n",
    "            dp[i+1][j+1][k+An[i]] += dp[i][j][k]\n"
   ]
  },
  {
   "cell_type": "code",
   "execution_count": 55,
   "id": "c939029e-2ecc-4682-b2fd-985b8b918f95",
   "metadata": {},
   "outputs": [],
   "source": [
    "dp = []\n",
    "for _ in range(N+1):\n",
    "    l = [[0] * 2600 for _ in range(N+1)]\n",
    "    dp.append(l)\n",
    "dp[0][0][0] = 1\n",
    "for i in range(1, N+1):\n",
    "    for j in range(1, N+1):\n",
    "        for k in range(2501):\n",
    "            if dp[i-1][j-1][k] == 0:\n",
    "                continue\n",
    "            dp[i][j-1][k] += dp[i-1][j-1][k]\n",
    "            dp[i][j][k+An[i-1]] += dp[i-1][j-1][k]\n"
   ]
  },
  {
   "cell_type": "code",
   "execution_count": 56,
   "id": "4ac1c0b8-aab8-4947-b269-3ef0aac4ed85",
   "metadata": {},
   "outputs": [
    {
     "name": "stdout",
     "output_type": "stream",
     "text": [
      "19\n"
     ]
    }
   ],
   "source": [
    "ans = 0\n",
    "for i in range(1, N+1):\n",
    "    ans += dp[-1][i][i*A]\n",
    "print(ans)"
   ]
  },
  {
   "cell_type": "code",
   "execution_count": 57,
   "id": "30fa4e93-b4f3-4cf7-9999-ab7a675b48aa",
   "metadata": {},
   "outputs": [],
   "source": [
    "# print(dp[-1][2600]-1)"
   ]
  },
  {
   "cell_type": "code",
   "execution_count": 54,
   "id": "8e62a6bb-3f41-4066-b26d-b7ba8a9316af",
   "metadata": {},
   "outputs": [
    {
     "data": {
      "text/plain": [
       "([1, 0, 0, 0, 0, 0, 0, 0, 0, 0, 0, 0, 0, 0, 0, 0, 0, 0, 0, 0],\n",
       " [0, 0, 1, 1, 0, 0, 1, 0, 0, 0, 0, 0, 0, 0, 0, 0, 0, 0, 0, 0],\n",
       " [0, 0, 0, 0, 0, 1, 0, 0, 1, 1, 0, 0, 0, 0, 0, 0, 0, 0, 0, 0],\n",
       " [0, 0, 0, 0, 0, 0, 0, 0, 0, 0, 0, 1, 0, 0, 0, 0, 0, 0, 0, 0])"
      ]
     },
     "execution_count": 54,
     "metadata": {},
     "output_type": "execute_result"
    }
   ],
   "source": [
    "dp[3][0][:20],dp[3][1][:20],dp[3][2][:20],dp[3][3][:20]"
   ]
  },
  {
   "cell_type": "code",
   "execution_count": 10,
   "id": "20684ad5-2553-4f7f-a989-2ff208156686",
   "metadata": {},
   "outputs": [
    {
     "data": {
      "text/plain": [
       "(1, 1, 2594)"
      ]
     },
     "execution_count": 10,
     "metadata": {},
     "output_type": "execute_result"
    }
   ],
   "source": [
    "i, j, k"
   ]
  },
  {
   "cell_type": "code",
   "execution_count": 10,
   "id": "e34eb519-1df3-49dd-9b80-a705a549f235",
   "metadata": {},
   "outputs": [
    {
     "data": {
      "text/plain": [
       "[-2, 1, -3, 3, 2, 1, 0, 4]"
      ]
     },
     "execution_count": 10,
     "metadata": {},
     "output_type": "execute_result"
    }
   ],
   "source": [
    "An_a"
   ]
  },
  {
   "cell_type": "code",
   "execution_count": null,
   "id": "3fb94fce-4415-4e11-a7b5-6b4edf3e1faa",
   "metadata": {},
   "outputs": [],
   "source": []
  }
 ],
 "metadata": {
  "kernelspec": {
   "display_name": "Python 3",
   "language": "python",
   "name": "python3"
  },
  "language_info": {
   "codemirror_mode": {
    "name": "ipython",
    "version": 3
   },
   "file_extension": ".py",
   "mimetype": "text/x-python",
   "name": "python",
   "nbconvert_exporter": "python",
   "pygments_lexer": "ipython3",
   "version": "3.6.13"
  }
 },
 "nbformat": 4,
 "nbformat_minor": 5
}
