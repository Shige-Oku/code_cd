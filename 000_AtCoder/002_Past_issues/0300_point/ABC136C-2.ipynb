{
 "cells": [
  {
   "cell_type": "code",
   "execution_count": 1,
   "metadata": {},
   "outputs": [],
   "source": [
    "import sys\n",
    "import numpy as np\n",
    "import math\n",
    "import collections\n",
    "import copy\n",
    "import decimal\n",
    "import itertools\n",
    "from collections import deque \n",
    "from functools import reduce\n",
    "from itertools import product\n",
    "from itertools import combinations"
   ]
  },
  {
   "cell_type": "code",
   "execution_count": 137,
   "metadata": {},
   "outputs": [
    {
     "name": "stdin",
     "output_type": "stream",
     "text": [
      " 1\n"
     ]
    }
   ],
   "source": [
    "N = int(input())"
   ]
  },
  {
   "cell_type": "code",
   "execution_count": 138,
   "metadata": {},
   "outputs": [
    {
     "name": "stdin",
     "output_type": "stream",
     "text": [
      " 100000\n"
     ]
    }
   ],
   "source": [
    "Hn = list(map(int, input().split()))"
   ]
  },
  {
   "cell_type": "code",
   "execution_count": 139,
   "metadata": {},
   "outputs": [
    {
     "name": "stdout",
     "output_type": "stream",
     "text": [
      "Yes\n"
     ]
    }
   ],
   "source": [
    "# これでOK\n",
    "for i in range(N-1, 0, -1):\n",
    "#     print(Hn)\n",
    "    if Hn[i-1] > Hn[i]:\n",
    "        Hn[i-1] -= 1\n",
    "#     print(Hn)\n",
    "    if Hn[i-1] > Hn[i]:\n",
    "        print(\"No\")\n",
    "        break\n",
    "else:\n",
    "    print(\"Yes\")"
   ]
  },
  {
   "cell_type": "code",
   "execution_count": null,
   "metadata": {},
   "outputs": [],
   "source": [
    "# 以下、WA"
   ]
  },
  {
   "cell_type": "code",
   "execution_count": 127,
   "metadata": {},
   "outputs": [],
   "source": [
    "for i in range(N-1):\n",
    "    if (Hn[i] == Hn[i+1]+1):\n",
    "        Hn[i] -= 1"
   ]
  },
  {
   "cell_type": "code",
   "execution_count": 100,
   "metadata": {},
   "outputs": [
    {
     "name": "stdout",
     "output_type": "stream",
     "text": [
      "No\n"
     ]
    }
   ],
   "source": [
    "if len(Hn) == 1:\n",
    "    print(\"Yes\")\n",
    "else:\n",
    "    for i in range(N-1):\n",
    "        if (Hn[i] > Hn[i+1]):\n",
    "            print(\"No\")\n",
    "            break\n",
    "    else:\n",
    "        print(\"Yes\")"
   ]
  },
  {
   "cell_type": "code",
   "execution_count": 128,
   "metadata": {},
   "outputs": [
    {
     "name": "stdout",
     "output_type": "stream",
     "text": [
      "4\n",
      "[1, 1, 1, 1, 3]\n",
      "3\n",
      "[1, 1, 1, 1, 3]\n",
      "2\n",
      "[1, 1, 1, 1, 3]\n",
      "1\n",
      "[1, 1, 1, 1, 3]\n",
      "Yes\n"
     ]
    }
   ],
   "source": [
    "for i in range(N-1, 0, -1):\n",
    "    print(i)\n",
    "    print(Hn)\n",
    "    if (Hn[i-1] > Hn[i]):\n",
    "        print(\"No\")\n",
    "        break\n",
    "else:\n",
    "    print(\"Yes\")"
   ]
  },
  {
   "cell_type": "code",
   "execution_count": null,
   "metadata": {},
   "outputs": [],
   "source": []
  }
 ],
 "metadata": {
  "kernelspec": {
   "display_name": "Python 3",
   "language": "python",
   "name": "python3"
  },
  "language_info": {
   "codemirror_mode": {
    "name": "ipython",
    "version": 3
   },
   "file_extension": ".py",
   "mimetype": "text/x-python",
   "name": "python",
   "nbconvert_exporter": "python",
   "pygments_lexer": "ipython3",
   "version": "3.6.10"
  }
 },
 "nbformat": 4,
 "nbformat_minor": 4
}
