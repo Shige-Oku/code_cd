{
 "cells": [
  {
   "cell_type": "markdown",
   "metadata": {},
   "source": [
    "# 問題文\n",
    "整数 N が与えられます。  \n",
    "ここで、2 つの正の整数 A,B に対して、F(A, B) を「10 進表記における、A の桁数と B の桁数のうち大きい方」と定義します。  \n",
    "例えば、F(3, 11) の値は、3 は 1 桁、11 は 2 桁であるため、F(3, 11)=2 となります。  \n",
    "2 つの正の整数の組 (A, B) が N=A×B を満たすように動くとき、F(A, B) の最小値を求めてください。  \n",
    "\n",
    "# 制約\n",
    "  ・1 ≦ N ≦ 10 ** 10  \n",
    "  ・N  は整数である。"
   ]
  },
  {
   "cell_type": "code",
   "execution_count": 1,
   "metadata": {},
   "outputs": [],
   "source": [
    "import sys\n",
    "import numpy as np"
   ]
  },
  {
   "cell_type": "code",
   "execution_count": 2,
   "metadata": {},
   "outputs": [
    {
     "name": "stdin",
     "output_type": "stream",
     "text": [
      " 10000\n"
     ]
    }
   ],
   "source": [
    "# N 対象の整数\n",
    "n = int(input())"
   ]
  },
  {
   "cell_type": "code",
   "execution_count": 7,
   "metadata": {},
   "outputs": [],
   "source": [
    "# N の平方根\n",
    "n_sqrt = np.sqrt(n)"
   ]
  },
  {
   "cell_type": "code",
   "execution_count": 8,
   "metadata": {},
   "outputs": [],
   "source": [
    "# 約数を求める\n",
    "divisors_a = []\n",
    "divisors_b = []\n",
    "for i in np.arange(1, n_sqrt + 1):\n",
    "    if n % i == 0:\n",
    "        # 約数\n",
    "        divisors_a.append(int(i))\n",
    "        divisors_b.append(int(n / i))"
   ]
  },
  {
   "cell_type": "code",
   "execution_count": 12,
   "metadata": {},
   "outputs": [
    {
     "name": "stdout",
     "output_type": "stream",
     "text": [
      "3\n"
     ]
    }
   ],
   "source": [
    "# divisors_b の一番最後の要素が桁数が小さい\n",
    "print(len(str(divisors_b[-1])))"
   ]
  },
  {
   "cell_type": "code",
   "execution_count": null,
   "metadata": {},
   "outputs": [],
   "source": []
  }
 ],
 "metadata": {
  "kernelspec": {
   "display_name": "Python 3",
   "language": "python",
   "name": "python3"
  },
  "language_info": {
   "codemirror_mode": {
    "name": "ipython",
    "version": 3
   },
   "file_extension": ".py",
   "mimetype": "text/x-python",
   "name": "python",
   "nbconvert_exporter": "python",
   "pygments_lexer": "ipython3",
   "version": "3.6.7"
  }
 },
 "nbformat": 4,
 "nbformat_minor": 2
}
