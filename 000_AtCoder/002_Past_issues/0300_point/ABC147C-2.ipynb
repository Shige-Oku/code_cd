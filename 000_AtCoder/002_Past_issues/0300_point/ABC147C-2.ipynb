{
 "cells": [
  {
   "cell_type": "code",
   "execution_count": null,
   "metadata": {},
   "outputs": [],
   "source": [
    "# maspy さんのコードをパクり"
   ]
  },
  {
   "cell_type": "code",
   "execution_count": 1,
   "metadata": {},
   "outputs": [],
   "source": [
    "import sys\n",
    "import numpy as np\n",
    "import math\n",
    "import collections\n",
    "import copy\n",
    "import decimal\n",
    "from collections import deque \n",
    "from functools import reduce\n",
    "from itertools import product\n",
    "from itertools import combinations"
   ]
  },
  {
   "cell_type": "code",
   "execution_count": 2,
   "metadata": {},
   "outputs": [
    {
     "name": "stdin",
     "output_type": "stream",
     "text": [
      " 3\n"
     ]
    }
   ],
   "source": [
    "N = int(input())"
   ]
  },
  {
   "cell_type": "code",
   "execution_count": 3,
   "metadata": {},
   "outputs": [
    {
     "name": "stdin",
     "output_type": "stream",
     "text": [
      " 2\n",
      " 2 1\n",
      " 3 0\n",
      " 2\n",
      " 1 1\n",
      " 3 0\n",
      " 2\n",
      " 1 1\n",
      " 2 1\n"
     ]
    }
   ],
   "source": [
    "XnYn = []\n",
    "for i in range(N):\n",
    "    A = int(input())\n",
    "    for _ in range(A):\n",
    "        X, Y = map(int, input().split())\n",
    "        XnYn.append((i, X-1, Y))"
   ]
  },
  {
   "cell_type": "code",
   "execution_count": 4,
   "metadata": {},
   "outputs": [],
   "source": [
    "A = np.array(list(product((0, 1), repeat=N)), np.bool)"
   ]
  },
  {
   "cell_type": "code",
   "execution_count": 5,
   "metadata": {},
   "outputs": [
    {
     "data": {
      "text/plain": [
       "array([[False, False, False],\n",
       "       [False, False,  True],\n",
       "       [False,  True, False],\n",
       "       [False,  True,  True],\n",
       "       [ True, False, False],\n",
       "       [ True, False,  True],\n",
       "       [ True,  True, False],\n",
       "       [ True,  True,  True]])"
      ]
     },
     "execution_count": 5,
     "metadata": {},
     "output_type": "execute_result"
    }
   ],
   "source": [
    "A"
   ]
  },
  {
   "cell_type": "code",
   "execution_count": 31,
   "metadata": {},
   "outputs": [
    {
     "name": "stdout",
     "output_type": "stream",
     "text": [
      "[False False False False  True  True  True  True] [ True  True  True  True False False False False]\n",
      "[False False  True  True False False  True  True]\n",
      "[ True  True  True  True False False  True  True]\n",
      "[[False False False]\n",
      " [False False  True]\n",
      " [False  True False]\n",
      " [False  True  True]\n",
      " [ True  True False]\n",
      " [ True  True  True]]\n",
      "[False False False False  True  True] [ True  True  True  True False False]\n",
      "[False  True False  True False  True]\n",
      "[ True  True  True  True  True False]\n",
      "[[False False False]\n",
      " [False False  True]\n",
      " [False  True False]\n",
      " [False  True  True]\n",
      " [ True  True False]]\n",
      "[False False  True  True  True] [ True  True False False False]\n",
      "[False False False False  True]\n",
      "[ True  True False False  True]\n",
      "[[False False False]\n",
      " [False False  True]\n",
      " [ True  True False]]\n",
      "[False False  True] [ True  True False]\n",
      "[False  True False]\n",
      "[ True  True  True]\n",
      "[[False False False]\n",
      " [False False  True]\n",
      " [ True  True False]]\n",
      "[False  True False] [ True False  True]\n",
      "[False False  True]\n",
      "[ True False  True]\n",
      "[[False False False]\n",
      " [ True  True False]]\n",
      "[False False] [ True  True]\n",
      "[False  True]\n",
      "[ True  True]\n",
      "[[False False False]\n",
      " [ True  True False]]\n"
     ]
    }
   ],
   "source": [
    "A = np.array(list(product((0, 1), repeat=N)), np.bool)\n",
    "for i, x, y in XnYn:\n",
    "#     bl = (A[:, i]) | (A[:, x] == bool(y))\n",
    "    bl = (~A[:, i]) | (A[:, x] == bool(y))\n",
    "    print(A[:, i], ~A[:, i])\n",
    "    print(A[:, x])\n",
    "    print(bl)\n",
    "    A = A[bl]\n",
    "    print(A)"
   ]
  },
  {
   "cell_type": "code",
   "execution_count": 32,
   "metadata": {},
   "outputs": [
    {
     "name": "stdout",
     "output_type": "stream",
     "text": [
      "2\n"
     ]
    }
   ],
   "source": [
    "print(A.sum(axis=1).max())"
   ]
  },
  {
   "cell_type": "code",
   "execution_count": 6,
   "metadata": {},
   "outputs": [
    {
     "data": {
      "text/plain": [
       "array([False, False, False, False,  True,  True,  True,  True])"
      ]
     },
     "execution_count": 6,
     "metadata": {},
     "output_type": "execute_result"
    }
   ],
   "source": [
    "A[:, 0]"
   ]
  },
  {
   "cell_type": "code",
   "execution_count": 7,
   "metadata": {},
   "outputs": [
    {
     "data": {
      "text/plain": [
       "array([ True,  True,  True,  True, False, False, False, False])"
      ]
     },
     "execution_count": 7,
     "metadata": {},
     "output_type": "execute_result"
    }
   ],
   "source": [
    "~A[:, 0]"
   ]
  },
  {
   "cell_type": "code",
   "execution_count": 8,
   "metadata": {},
   "outputs": [
    {
     "data": {
      "text/plain": [
       "array([False, False,  True,  True, False, False,  True,  True])"
      ]
     },
     "execution_count": 8,
     "metadata": {},
     "output_type": "execute_result"
    }
   ],
   "source": [
    "A[:, 1] == bool(1)"
   ]
  },
  {
   "cell_type": "code",
   "execution_count": 11,
   "metadata": {},
   "outputs": [
    {
     "data": {
      "text/plain": [
       "array([ True,  True,  True,  True, False, False,  True,  True])"
      ]
     },
     "execution_count": 11,
     "metadata": {},
     "output_type": "execute_result"
    }
   ],
   "source": [
    "~A[:, 0] | A[:, 1] == bool(1)"
   ]
  },
  {
   "cell_type": "code",
   "execution_count": 12,
   "metadata": {},
   "outputs": [
    {
     "data": {
      "text/plain": [
       "array([[False, False, False],\n",
       "       [False, False,  True],\n",
       "       [False,  True, False],\n",
       "       [False,  True,  True],\n",
       "       [ True,  True, False],\n",
       "       [ True,  True,  True]])"
      ]
     },
     "execution_count": 12,
     "metadata": {},
     "output_type": "execute_result"
    }
   ],
   "source": [
    "A[~A[:, 0] | A[:, 1] == bool(1)]"
   ]
  },
  {
   "cell_type": "code",
   "execution_count": 10,
   "metadata": {},
   "outputs": [
    {
     "data": {
      "text/plain": [
       "array([ True, False,  True, False,  True, False,  True, False])"
      ]
     },
     "execution_count": 10,
     "metadata": {},
     "output_type": "execute_result"
    }
   ],
   "source": [
    "A[:, 2] == bool(0)"
   ]
  },
  {
   "cell_type": "code",
   "execution_count": null,
   "metadata": {},
   "outputs": [],
   "source": []
  }
 ],
 "metadata": {
  "kernelspec": {
   "display_name": "Python 3",
   "language": "python",
   "name": "python3"
  },
  "language_info": {
   "codemirror_mode": {
    "name": "ipython",
    "version": 3
   },
   "file_extension": ".py",
   "mimetype": "text/x-python",
   "name": "python",
   "nbconvert_exporter": "python",
   "pygments_lexer": "ipython3",
   "version": "3.6.10"
  }
 },
 "nbformat": 4,
 "nbformat_minor": 4
}
