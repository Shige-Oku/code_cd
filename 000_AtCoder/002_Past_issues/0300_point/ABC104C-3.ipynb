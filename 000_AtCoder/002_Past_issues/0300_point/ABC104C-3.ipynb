{
 "cells": [
  {
   "cell_type": "code",
   "execution_count": 1,
   "metadata": {},
   "outputs": [],
   "source": [
    "import sys\n",
    "import numpy as np\n",
    "import math\n",
    "import collections\n",
    "import copy\n",
    "from collections import deque \n",
    "from functools import reduce\n",
    "from itertools import product\n",
    "\n",
    "# input = sys.stdin.readline"
   ]
  },
  {
   "cell_type": "code",
   "execution_count": 36,
   "metadata": {},
   "outputs": [
    {
     "name": "stdin",
     "output_type": "stream",
     "text": [
      " 2 2000\n"
     ]
    }
   ],
   "source": [
    "D, G = map(int, input().split())"
   ]
  },
  {
   "cell_type": "code",
   "execution_count": 37,
   "metadata": {},
   "outputs": [
    {
     "name": "stdin",
     "output_type": "stream",
     "text": [
      " 3 500\n",
      " 5 800\n"
     ]
    }
   ],
   "source": [
    "pc = [list(map(int, input().split())) for _ in range(D)]"
   ]
  },
  {
   "cell_type": "code",
   "execution_count": 55,
   "metadata": {},
   "outputs": [],
   "source": [
    "ans = 10**8"
   ]
  },
  {
   "cell_type": "code",
   "execution_count": 56,
   "metadata": {},
   "outputs": [
    {
     "name": "stdout",
     "output_type": "stream",
     "text": [
      "(0, 0)\n",
      "1 0 0\n",
      "(0, 1)\n",
      "0 5 1800\n",
      "200 100\n",
      "0 5 1800 2 7\n",
      "(1, 0)\n",
      "1 3 800\n",
      "1200 200\n",
      "1 3 800 6 7\n",
      "(1, 1)\n",
      "-1 8 2600\n",
      "-1 8 2600 0 7\n"
     ]
    }
   ],
   "source": [
    "for p in product((0, 1), repeat=D):\n",
    "    nmax = -1\n",
    "    num = 0\n",
    "    total = 0\n",
    "    need = 0\n",
    "    for i, pi in enumerate(p):\n",
    "        if pi == 1:\n",
    "            num += pc[i][0]\n",
    "            total += pc[i][0]*(i+1)*100 + pc[i][1]\n",
    "        else:\n",
    "            nmax = i\n",
    "    print(p)\n",
    "    print(nmax, num, total)\n",
    "    if total < G:\n",
    "        if nmax < 0:\n",
    "            continue\n",
    "        if total + nmax * 100 * pc[nmax][0] + pc[nmax][1] < G:\n",
    "            continue\n",
    "#         need = (G - total + ((nmax+1)*100-1)) // ((nmax+1)*100)\n",
    "        need = math.ceil((G-total) / ((nmax+1)*100))\n",
    "#         print(G-total, (nmax+1)*100)\n",
    "    ans = min(ans, num+need)\n",
    "    print(nmax, num, total, need, ans)\n",
    "        "
   ]
  },
  {
   "cell_type": "code",
   "execution_count": 57,
   "metadata": {},
   "outputs": [
    {
     "name": "stdout",
     "output_type": "stream",
     "text": [
      "7\n"
     ]
    }
   ],
   "source": [
    "print(ans)"
   ]
  },
  {
   "cell_type": "code",
   "execution_count": null,
   "metadata": {},
   "outputs": [],
   "source": []
  }
 ],
 "metadata": {
  "kernelspec": {
   "display_name": "Python 3",
   "language": "python",
   "name": "python3"
  },
  "language_info": {
   "codemirror_mode": {
    "name": "ipython",
    "version": 3
   },
   "file_extension": ".py",
   "mimetype": "text/x-python",
   "name": "python",
   "nbconvert_exporter": "python",
   "pygments_lexer": "ipython3",
   "version": "3.6.10"
  }
 },
 "nbformat": 4,
 "nbformat_minor": 4
}
