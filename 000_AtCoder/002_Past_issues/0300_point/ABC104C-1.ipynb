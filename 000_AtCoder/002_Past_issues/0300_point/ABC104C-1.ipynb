{
 "cells": [
  {
   "cell_type": "markdown",
   "metadata": {},
   "source": [
    "### 問題文\n",
    "プログラミングコンペティションサイト AtCode は、アルゴリズムの問題集を提供しています。   \n",
    "それぞれの問題には、難易度に応じて点数が付けられています。 現在、\n",
    "1 以上 D 以下のそれぞれの整数 i に対して、100i\n",
    " 点を付けられた問題が pi 問存在します。  \n",
    "これらの p1+…+pD 問が AtCode に収録された問題のすべてです。  \n",
    "AtCode のユーザーは 総合スコア と呼ばれる値を持ちます。 ユーザーの総合スコアは、以下の 2 つの要素の和です。  \n",
    " ・基本スコア: ユーザーが解いた問題すべての配点の合計です。\n",
    " ・コンプリートボーナス: 100i 点を付けられた p\n",
    "i 問の問題すべてを解いたユーザーは、基本スコアと別にコンプリートボーナス ci 点を獲得します (1≤i≤D)。  \n",
    "AtCode の新たなユーザーとなった高橋くんは、まだ問題を 1 問も解いていません。 彼の目標は、総合スコアを G\n",
    " 点以上にすることです。 このためには、少なくとも何問の問題を解く必要があるでしょうか？  \n",
    "\n",
    "### 制約\n",
    " ・1 ≤ D ≤ 10  \n",
    " ・1 ≤ pi ≤ 100  \n",
    " ・100 ≤ ci ≤ 10 ** 6  \n",
    " ・100 ≤ G  \n",
    " ・入力中のすべての値は整数である。  \n",
    " ・ci, G  はすべて 100 の倍数である。  \n",
    " ・総合スコアを G 点以上にすることは可能である。\n"
   ]
  },
  {
   "cell_type": "code",
   "execution_count": 1,
   "metadata": {},
   "outputs": [],
   "source": [
    "# TODO NG\n",
    "import sys\n",
    "import numpy as np\n",
    "import math\n",
    "# for AtCoder\n",
    "# import fractions\n",
    "from collections import deque \n",
    "from functools import reduce\n",
    "\n",
    "# input = sys.stdin.readline\n"
   ]
  },
  {
   "cell_type": "code",
   "execution_count": 44,
   "metadata": {},
   "outputs": [
    {
     "name": "stdin",
     "output_type": "stream",
     "text": [
      " 2 700\n"
     ]
    }
   ],
   "source": [
    "# D：得点ごとの問題 G：目標得点\n",
    "d, g = map(int, input().split())"
   ]
  },
  {
   "cell_type": "code",
   "execution_count": 62,
   "metadata": {},
   "outputs": [
    {
     "name": "stdin",
     "output_type": "stream",
     "text": [
      " 3 500\n",
      " 5 800\n"
     ]
    }
   ],
   "source": [
    "p = [list(map(int, input().split())) for x in range(d)]"
   ]
  },
  {
   "cell_type": "code",
   "execution_count": 63,
   "metadata": {},
   "outputs": [],
   "source": [
    "for i in range(d):\n",
    "    ex = ((i+1) * 100 * p[i][0] + p[i][1]) / p[i][0]\n",
    "    p[i].append(ex)\n",
    "    p[i].append((i+1)*100)"
   ]
  },
  {
   "cell_type": "code",
   "execution_count": 64,
   "metadata": {},
   "outputs": [],
   "source": [
    "p.sort(key=lambda x : x[3], reverse=True)"
   ]
  },
  {
   "cell_type": "code",
   "execution_count": 55,
   "metadata": {},
   "outputs": [],
   "source": [
    "cnt = 0\n",
    "point = 0\n",
    "total = 0"
   ]
  },
  {
   "cell_type": "code",
   "execution_count": 56,
   "metadata": {},
   "outputs": [],
   "source": [
    "for i in range(d):\n",
    "    i_total = p[i][0] * p[i][3] + p[i][1]\n",
    "    cnt_c = p[i][0]\n",
    "    # 目標を達成できる\n",
    "    point_h = 0\n",
    "    point_h_idx = i\n",
    "    for j in range(i, d):\n",
    "        if p[j][3] > point_h:\n",
    "            point_h = p[j][3]\n",
    "            point_h_idx = j\n",
    "    cnt_c2 = ((g - total) + (p[j][3] - 1)) // p[j][3]\n",
    "    if cnt_c2 > p[j][0]:\n",
    "        cnt_c2 = p[j][0]\n",
    "    # ポイントの高い方で超えるか\n",
    "    if cnt_c2 * p[j][3] + total >= g:\n",
    "        cnt += cnt_c2\n",
    "        break\n",
    "    cnt += p[i][0]\n",
    "    total += i_total\n",
    "    if (total >= g):\n",
    "        break\n"
   ]
  },
  {
   "cell_type": "code",
   "execution_count": 57,
   "metadata": {},
   "outputs": [
    {
     "name": "stdout",
     "output_type": "stream",
     "text": [
      "5\n"
     ]
    }
   ],
   "source": [
    "print(cnt)"
   ]
  },
  {
   "cell_type": "code",
   "execution_count": 58,
   "metadata": {},
   "outputs": [],
   "source": [
    "p[0].append(100)"
   ]
  },
  {
   "cell_type": "code",
   "execution_count": 8,
   "metadata": {},
   "outputs": [
    {
     "data": {
      "text/plain": [
       "100"
      ]
     },
     "execution_count": 8,
     "metadata": {},
     "output_type": "execute_result"
    }
   ],
   "source": [
    "p[0].pop()"
   ]
  },
  {
   "cell_type": "code",
   "execution_count": null,
   "metadata": {},
   "outputs": [],
   "source": []
  }
 ],
 "metadata": {
  "kernelspec": {
   "display_name": "Python 3",
   "language": "python",
   "name": "python3"
  },
  "language_info": {
   "codemirror_mode": {
    "name": "ipython",
    "version": 3
   },
   "file_extension": ".py",
   "mimetype": "text/x-python",
   "name": "python",
   "nbconvert_exporter": "python",
   "pygments_lexer": "ipython3",
   "version": "3.6.10"
  }
 },
 "nbformat": 4,
 "nbformat_minor": 4
}
