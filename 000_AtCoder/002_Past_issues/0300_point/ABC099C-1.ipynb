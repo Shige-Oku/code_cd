{
 "cells": [
  {
   "cell_type": "code",
   "execution_count": 26,
   "metadata": {},
   "outputs": [],
   "source": [
    "# 再帰処理を使用するのかと思った。\n",
    "# 解説を参考にした。"
   ]
  },
  {
   "cell_type": "markdown",
   "metadata": {},
   "source": [
    "### 問題文\n",
    "ある銀行では、お金の引き出しを難しくするために、一回の操作で引き出せる金額が以下のいずれかとなっています。  \n",
    " ・1 円  \n",
    " ・6 円、6 ** 2(=36) 円、6 ** 3(=216) 円、...  \n",
    " ・9 円、9 ** 2(=81) 円、9 ** 3(=729) 円、...  \n",
    " この銀行からちょうど N 円を引き出すには少なくとも何回の操作が必要か求めてください。  \n",
    " ただし、一度引き出したお金を再び預け入れてはならないとします。  \n",
    "\n",
    "### 制約\n",
    " ・1 ≤ N ≤ 100000    \n",
    " ・N  は整数"
   ]
  },
  {
   "cell_type": "code",
   "execution_count": 18,
   "metadata": {},
   "outputs": [],
   "source": [
    "import sys"
   ]
  },
  {
   "cell_type": "code",
   "execution_count": 20,
   "metadata": {},
   "outputs": [
    {
     "name": "stdin",
     "output_type": "stream",
     "text": [
      " 12\n"
     ]
    }
   ],
   "source": [
    "# N\n",
    "n = int(input())"
   ]
  },
  {
   "cell_type": "code",
   "execution_count": 21,
   "metadata": {},
   "outputs": [],
   "source": [
    "# 全部 1円でおろしたときが最大\n",
    "res = n"
   ]
  },
  {
   "cell_type": "code",
   "execution_count": 22,
   "metadata": {},
   "outputs": [],
   "source": [
    "for i in range(n+1):\n",
    "    cc = 0\n",
    "    t = i\n",
    "    # i円 を 6 ** n 円ででおろす\n",
    "    while(t > 0):\n",
    "        # 余りは 1円または、前の 6 ** (n-1)でおろす回数 \n",
    "        cc += t % 6\n",
    "        # 6 で割った商が、 6 ** n 円でおろす回数\n",
    "        t //= 6\n",
    "    # 残りの金額を 9 ** n 円でおろす\n",
    "    t = n - i\n",
    "    while(t > 0):\n",
    "        # 余りは 1円または、前の 6 ** (n-1)でおろす回数 \n",
    "        cc += t % 9\n",
    "        # 9 で割った商が 9 ** n 円でおろす回数\n",
    "        t //= 9\n",
    "    if (res > cc):\n",
    "        res = cc\n",
    "        "
   ]
  },
  {
   "cell_type": "code",
   "execution_count": 23,
   "metadata": {},
   "outputs": [
    {
     "name": "stdout",
     "output_type": "stream",
     "text": [
      "2\n"
     ]
    }
   ],
   "source": [
    "print(res)"
   ]
  },
  {
   "cell_type": "code",
   "execution_count": null,
   "metadata": {},
   "outputs": [],
   "source": []
  }
 ],
 "metadata": {
  "kernelspec": {
   "display_name": "Python 3",
   "language": "python",
   "name": "python3"
  },
  "language_info": {
   "codemirror_mode": {
    "name": "ipython",
    "version": 3
   },
   "file_extension": ".py",
   "mimetype": "text/x-python",
   "name": "python",
   "nbconvert_exporter": "python",
   "pygments_lexer": "ipython3",
   "version": "3.6.10"
  }
 },
 "nbformat": 4,
 "nbformat_minor": 4
}
