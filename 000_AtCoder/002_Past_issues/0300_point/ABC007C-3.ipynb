{
 "cells": [
  {
   "cell_type": "code",
   "execution_count": 1,
   "metadata": {},
   "outputs": [],
   "source": [
    "import sys\n",
    "import numpy as np\n",
    "import math\n",
    "import collections\n",
    "import copy\n",
    "import decimal\n",
    "from collections import deque \n",
    "from functools import reduce\n",
    "from itertools import product\n",
    "from itertools import combinations"
   ]
  },
  {
   "cell_type": "code",
   "execution_count": 2,
   "metadata": {},
   "outputs": [
    {
     "name": "stdin",
     "output_type": "stream",
     "text": [
      " 7 8\n"
     ]
    }
   ],
   "source": [
    "R, C = map(int, input().split())"
   ]
  },
  {
   "cell_type": "code",
   "execution_count": 3,
   "metadata": {},
   "outputs": [
    {
     "name": "stdin",
     "output_type": "stream",
     "text": [
      " 2 2\n"
     ]
    }
   ],
   "source": [
    "Sy, Sx = map(int, input().split())"
   ]
  },
  {
   "cell_type": "code",
   "execution_count": 5,
   "metadata": {},
   "outputs": [
    {
     "name": "stdin",
     "output_type": "stream",
     "text": [
      " 4 5\n"
     ]
    }
   ],
   "source": [
    "Gy, Gx = map(int, input().split())"
   ]
  },
  {
   "cell_type": "code",
   "execution_count": 6,
   "metadata": {},
   "outputs": [
    {
     "name": "stdin",
     "output_type": "stream",
     "text": [
      " ########\n",
      " #......#\n",
      " #.######\n",
      " #..#...#\n",
      " #..##..#\n",
      " ##.....#\n",
      " ########\n"
     ]
    }
   ],
   "source": [
    "maze = [input() for _ in range(R)]"
   ]
  },
  {
   "cell_type": "code",
   "execution_count": 7,
   "metadata": {},
   "outputs": [
    {
     "data": {
      "text/plain": [
       "['########',\n",
       " '#......#',\n",
       " '#.######',\n",
       " '#..#...#',\n",
       " '#..##..#',\n",
       " '##.....#',\n",
       " '########']"
      ]
     },
     "execution_count": 7,
     "metadata": {},
     "output_type": "execute_result"
    }
   ],
   "source": [
    "maze"
   ]
  },
  {
   "cell_type": "code",
   "execution_count": 35,
   "metadata": {},
   "outputs": [],
   "source": [
    "visit = [[-1]*C for _ in range(R)]\n",
    "visit[Sy-1][Sx-1] = 0\n",
    "qu = deque()\n",
    "qu.append([Sy, Sx])"
   ]
  },
  {
   "cell_type": "code",
   "execution_count": 36,
   "metadata": {},
   "outputs": [],
   "source": [
    "while qu:\n",
    "    ma = qu.popleft()\n",
    "#     for mazen in ma:\n",
    "    my, mx = ma\n",
    "    for y, x in ([1, 0], [-1, 0], [0, 1], [0, -1]):\n",
    "        if (maze[my+y-1][mx+x-1] == '#' or \n",
    "            visit[my+y-1][mx+x-1] != -1):\n",
    "            continue\n",
    "        visit[my+y-1][mx+x-1] = visit[my-1][mx-1] + 1\n",
    "        qu.append([my+y, mx+x])"
   ]
  },
  {
   "cell_type": "code",
   "execution_count": 37,
   "metadata": {},
   "outputs": [
    {
     "name": "stdout",
     "output_type": "stream",
     "text": [
      "11\n"
     ]
    }
   ],
   "source": [
    "print(visit[Gy-1][Gx-1])"
   ]
  },
  {
   "cell_type": "code",
   "execution_count": 38,
   "metadata": {},
   "outputs": [
    {
     "data": {
      "text/plain": [
       "[[-1, -1, -1, -1, -1, -1, -1, -1],\n",
       " [-1, 0, 1, 2, 3, 4, 5, -1],\n",
       " [-1, 1, -1, -1, -1, -1, -1, -1],\n",
       " [-1, 2, 3, -1, 11, 10, 11, -1],\n",
       " [-1, 3, 4, -1, -1, 9, 10, -1],\n",
       " [-1, -1, 5, 6, 7, 8, 9, -1],\n",
       " [-1, -1, -1, -1, -1, -1, -1, -1]]"
      ]
     },
     "execution_count": 38,
     "metadata": {},
     "output_type": "execute_result"
    }
   ],
   "source": [
    "visit"
   ]
  },
  {
   "cell_type": "code",
   "execution_count": 34,
   "metadata": {},
   "outputs": [
    {
     "data": {
      "text/plain": [
       "['########',\n",
       " '#......#',\n",
       " '#.######',\n",
       " '#..#...#',\n",
       " '#..##..#',\n",
       " '##.....#',\n",
       " '########']"
      ]
     },
     "execution_count": 34,
     "metadata": {},
     "output_type": "execute_result"
    }
   ],
   "source": [
    "maze"
   ]
  },
  {
   "cell_type": "code",
   "execution_count": null,
   "metadata": {},
   "outputs": [],
   "source": []
  }
 ],
 "metadata": {
  "kernelspec": {
   "display_name": "Python 3",
   "language": "python",
   "name": "python3"
  },
  "language_info": {
   "codemirror_mode": {
    "name": "ipython",
    "version": 3
   },
   "file_extension": ".py",
   "mimetype": "text/x-python",
   "name": "python",
   "nbconvert_exporter": "python",
   "pygments_lexer": "ipython3",
   "version": "3.6.10"
  }
 },
 "nbformat": 4,
 "nbformat_minor": 4
}
