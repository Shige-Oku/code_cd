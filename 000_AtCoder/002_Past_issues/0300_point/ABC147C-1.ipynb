{
 "cells": [
  {
   "cell_type": "code",
   "execution_count": 1,
   "metadata": {},
   "outputs": [],
   "source": [
    "import sys\n",
    "import numpy as np\n",
    "import math\n",
    "import collections\n",
    "import copy\n",
    "import decimal\n",
    "from collections import deque \n",
    "from functools import reduce\n",
    "from itertools import product\n",
    "from itertools import combinations"
   ]
  },
  {
   "cell_type": "code",
   "execution_count": 2,
   "metadata": {},
   "outputs": [
    {
     "name": "stdin",
     "output_type": "stream",
     "text": [
      " 3\n"
     ]
    }
   ],
   "source": [
    "N = int(input())"
   ]
  },
  {
   "cell_type": "code",
   "execution_count": 78,
   "metadata": {},
   "outputs": [
    {
     "name": "stdin",
     "output_type": "stream",
     "text": [
      " 2\n",
      " 2 1\n",
      " 3 0\n",
      " 2\n",
      " 3 1\n",
      " 1 0\n",
      " 2\n",
      " 1 1\n",
      " 2 0\n"
     ]
    }
   ],
   "source": [
    "XnYn = [[] for _ in range(N)]\n",
    "for i in range(N):\n",
    "    A = int(input())\n",
    "    for _ in range(A):\n",
    "        al = list(map(int, input().split()))\n",
    "        XnYn[i].append(al)"
   ]
  },
  {
   "cell_type": "code",
   "execution_count": 106,
   "metadata": {},
   "outputs": [],
   "source": [
    "ans = 0\n",
    "for pt in product(('0', '1'), repeat=N):\n",
    "#     print(pt)\n",
    "    evidennce = np.full(N, -1)\n",
    "    flag = True\n",
    "#     for i, p in enumerate(pt):\n",
    "    for i, p in enumerate(pt):\n",
    "        if p == '0':\n",
    "            continue\n",
    "        for X, Y in XnYn[i]:\n",
    "            X -= 1\n",
    "#             print(\"X={0}, Y={1}, pt={2}\".format(X, Y, pt[X]))\n",
    "            if evidennce[X] != Y:\n",
    "                flag = False\n",
    "                break\n",
    "            elif  pt[X] != chr(Y):\n",
    "                flag = False\n",
    "                break\n",
    "            evidennce[X] = Y\n",
    "        if flag == False:\n",
    "            break\n",
    "#     else:\n",
    "#         flag = True\n",
    "        \n",
    "    honest = 0\n",
    "    if flag:\n",
    "#         print(evidennce)\n",
    "        evidennce[evidennce == -1] = 1\n",
    "#         print(evidennce)\n",
    "        for j, p in enumerate(pt):\n",
    "#             print(p, j, evidennce[j] )\n",
    "            if (p == '1' and evidennce[j] == 1):\n",
    "                honest += 1\n",
    "        ans = max(ans, honest)\n",
    "#         print(honest, ans)\n",
    "#     print(flag, ans, honest)\n",
    "#     print(pt)"
   ]
  },
  {
   "cell_type": "code",
   "execution_count": 107,
   "metadata": {},
   "outputs": [
    {
     "name": "stdout",
     "output_type": "stream",
     "text": [
      "0\n"
     ]
    }
   ],
   "source": [
    "print(ans)"
   ]
  },
  {
   "cell_type": "code",
   "execution_count": 71,
   "metadata": {},
   "outputs": [
    {
     "data": {
      "text/plain": [
       "-2"
      ]
     },
     "execution_count": 71,
     "metadata": {},
     "output_type": "execute_result"
    }
   ],
   "source": [
    "~True"
   ]
  },
  {
   "cell_type": "code",
   "execution_count": 48,
   "metadata": {},
   "outputs": [
    {
     "data": {
      "text/plain": [
       "3"
      ]
     },
     "execution_count": 48,
     "metadata": {},
     "output_type": "execute_result"
    }
   ],
   "source": [
    "sum(pt)"
   ]
  },
  {
   "cell_type": "code",
   "execution_count": 34,
   "metadata": {},
   "outputs": [
    {
     "name": "stdout",
     "output_type": "stream",
     "text": [
      "1\n",
      "1\n",
      "0\n",
      "p = 0\n"
     ]
    }
   ],
   "source": [
    "flag = False\n",
    "st = ['1', '1', '0']\n",
    "for i, p in enumerate(\"110\"):\n",
    "    print(p)\n",
    "    if p == '0':\n",
    "        print(\"p = 0\")\n",
    "    for X, Y in XnYn[i]:\n",
    "        if evidennce[X] == -1:\n",
    "            evidennce[X] = Y\n",
    "        elif evidennce[X] != Y:\n",
    "            break\n",
    "#     if ~flag:\n",
    "#         break\n",
    "else:\n",
    "    flag = True"
   ]
  },
  {
   "cell_type": "code",
   "execution_count": 32,
   "metadata": {},
   "outputs": [
    {
     "name": "stdout",
     "output_type": "stream",
     "text": [
      "0 1\n",
      "1 2\n",
      "2 3\n"
     ]
    }
   ],
   "source": [
    "for i, p in enumerate(\"123\"):\n",
    "    print(i, p)"
   ]
  },
  {
   "cell_type": "code",
   "execution_count": 4,
   "metadata": {},
   "outputs": [
    {
     "data": {
      "text/plain": [
       "32768"
      ]
     },
     "execution_count": 4,
     "metadata": {},
     "output_type": "execute_result"
    }
   ],
   "source": [
    "2**15"
   ]
  },
  {
   "cell_type": "code",
   "execution_count": 10,
   "metadata": {},
   "outputs": [
    {
     "data": {
      "text/plain": [
       "[2, 1]"
      ]
     },
     "execution_count": 10,
     "metadata": {},
     "output_type": "execute_result"
    }
   ],
   "source": [
    "XnYn[0]"
   ]
  },
  {
   "cell_type": "code",
   "execution_count": 25,
   "metadata": {},
   "outputs": [],
   "source": [
    "Z = np.array(list(product((0,  1), repeat=N)), np.bool)"
   ]
  },
  {
   "cell_type": "code",
   "execution_count": 26,
   "metadata": {},
   "outputs": [
    {
     "name": "stdout",
     "output_type": "stream",
     "text": [
      "[False False]\n",
      "[False  True]\n",
      "[ True False]\n",
      "[ True  True]\n"
     ]
    }
   ],
   "source": [
    "for z in Z:\n",
    "    print(z)"
   ]
  },
  {
   "cell_type": "code",
   "execution_count": null,
   "metadata": {},
   "outputs": [],
   "source": []
  }
 ],
 "metadata": {
  "kernelspec": {
   "display_name": "Python 3",
   "language": "python",
   "name": "python3"
  },
  "language_info": {
   "codemirror_mode": {
    "name": "ipython",
    "version": 3
   },
   "file_extension": ".py",
   "mimetype": "text/x-python",
   "name": "python",
   "nbconvert_exporter": "python",
   "pygments_lexer": "ipython3",
   "version": "3.6.10"
  }
 },
 "nbformat": 4,
 "nbformat_minor": 4
}
