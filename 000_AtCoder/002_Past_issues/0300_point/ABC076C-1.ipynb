{
 "cells": [
  {
   "cell_type": "markdown",
   "metadata": {},
   "source": [
    "### 問題文\n",
    "E869120 は、宝物が入ってそうな箱を見つけました。  \n",
    "しかし、これには鍵がかかっており、鍵を開けるためには英小文字からなる文字列 S が必要です。  \n",
    "彼は文字列 S′ を見つけ、これは文字列 S の 0 個以上 |S| 個以内の文字が ? に置き換わった文字列であることも分かりました。  \n",
    "ただし、文字列 A に対して、|A| を「文字列 A の長さ」とします。  \n",
    "そこで、E869120 はヒントとなる紙を見つけました。  \n",
    "  ・条件1：文字列 S の中に連続する部分文字列として英小文字から成る文字列 T が含まれている。  \n",
    "  ・条件2：S は、条件1を満たす文字列の中で辞書順最小の文字列である。  \n",
    "そのとき、鍵となる文字列 S を出力しなさい。  \n",
    "ただし、そのような文字列 S\n",
    " が存在しない場合は代わりに UNRESTORABLE と出力しなさい。  \n",
    "### 制約\n",
    "  ・1≤|S′|,|T|≤50  \n",
    "  ・S′ は英小文字と ? から成るT は英小文字から成る"
   ]
  },
  {
   "cell_type": "code",
   "execution_count": 1,
   "metadata": {},
   "outputs": [],
   "source": [
    "import sys\n",
    "import re"
   ]
  },
  {
   "cell_type": "code",
   "execution_count": 9,
   "metadata": {},
   "outputs": [
    {
     "name": "stdin",
     "output_type": "stream",
     "text": [
      " ??????\n"
     ]
    }
   ],
   "source": [
    "# S' カギとなる文字列\n",
    "s = input()"
   ]
  },
  {
   "cell_type": "code",
   "execution_count": 10,
   "metadata": {},
   "outputs": [
    {
     "name": "stdin",
     "output_type": "stream",
     "text": [
      " coder\n"
     ]
    }
   ],
   "source": [
    "# T 含まれる文字列\n",
    "t = input()"
   ]
  },
  {
   "cell_type": "code",
   "execution_count": 11,
   "metadata": {},
   "outputs": [],
   "source": [
    "# \"?\" => \".\" 1文字のワイルドカードに変換\n",
    "s = s.replace(\"?\", \".\")"
   ]
  },
  {
   "cell_type": "code",
   "execution_count": 12,
   "metadata": {},
   "outputs": [],
   "source": [
    "# 文字列を反転\n",
    "# 前から見ていくと、Tのレングス以上に\"?\"が連続すると前が変換される\n",
    "# 後ろから見て変換する。なのでどちらも反転して比較して、後で戻す。\n",
    "s = s[::-1]\n",
    "t = t[::-1]"
   ]
  },
  {
   "cell_type": "code",
   "execution_count": 13,
   "metadata": {},
   "outputs": [],
   "source": [
    "match = False\n",
    "for i in range(len(s)-len(t)+1):\n",
    "    # 比較する分だけ切り出し\n",
    "    st = s[i:i+len(t)]\n",
    "    if len(st) < len(t):\n",
    "        break\n",
    "    # S' から取り出したものをパターンとしてマッチングするか\n",
    "    pattern = re.compile(r\"%s\" % st)\n",
    "    if re.match(pattern, t):\n",
    "        match = True\n",
    "        break"
   ]
  },
  {
   "cell_type": "code",
   "execution_count": 14,
   "metadata": {},
   "outputs": [
    {
     "name": "stdout",
     "output_type": "stream",
     "text": [
      "acoder\n"
     ]
    }
   ],
   "source": [
    "if match:\n",
    "    cut = i + len(t)\n",
    "    # 一致したところにTをセット\n",
    "    return_string = s[:i] + t + s[cut:]\n",
    "    # 変換されなかったワイルドカードは、辞書最小の\"a\"に変換\n",
    "    return_string = return_string.replace(\".\", \"a\")\n",
    "    # 反転したのを戻す\n",
    "    return_string = return_string[::-1]\n",
    "    print(return_string)\n",
    "else:\n",
    "    # アンマッチ\n",
    "    print(\"UNRESTORABLE\")"
   ]
  },
  {
   "cell_type": "code",
   "execution_count": null,
   "metadata": {},
   "outputs": [],
   "source": []
  },
  {
   "cell_type": "code",
   "execution_count": null,
   "metadata": {},
   "outputs": [],
   "source": []
  }
 ],
 "metadata": {
  "kernelspec": {
   "display_name": "Python 3",
   "language": "python",
   "name": "python3"
  },
  "language_info": {
   "codemirror_mode": {
    "name": "ipython",
    "version": 3
   },
   "file_extension": ".py",
   "mimetype": "text/x-python",
   "name": "python",
   "nbconvert_exporter": "python",
   "pygments_lexer": "ipython3",
   "version": "3.6.10"
  }
 },
 "nbformat": 4,
 "nbformat_minor": 4
}
