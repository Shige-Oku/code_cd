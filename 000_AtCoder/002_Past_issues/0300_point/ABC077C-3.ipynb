{
 "cells": [
  {
   "cell_type": "code",
   "execution_count": 2,
   "id": "9a8548d6-7dfc-407f-a469-f171515068ec",
   "metadata": {},
   "outputs": [],
   "source": [
    "import sys\n",
    "import numpy as np\n",
    "import math\n",
    "import collections\n",
    "import copy\n",
    "import decimal\n",
    "import itertools\n",
    "import re\n",
    "import bisect\n",
    "import scipy\n",
    "import heapq\n",
    "from collections import deque \n",
    "from functools import reduce\n",
    "from itertools import product\n",
    "from itertools import combinations\n",
    "from itertools import chain\n",
    "from functools import lru_cache\n",
    "from scipy.special import comb\n",
    "from numba import njit\n",
    "from bisect import bisect_right\n",
    "from bisect import bisect_left"
   ]
  },
  {
   "cell_type": "code",
   "execution_count": 21,
   "id": "a6d6ddbe-959d-4f3f-92ec-9460f13cbd6d",
   "metadata": {},
   "outputs": [
    {
     "name": "stdin",
     "output_type": "stream",
     "text": [
      " 6\n"
     ]
    }
   ],
   "source": [
    "N = int(input())"
   ]
  },
  {
   "cell_type": "code",
   "execution_count": 22,
   "id": "3e15b8c2-bdde-43e6-95f2-501d04cade49",
   "metadata": {},
   "outputs": [
    {
     "name": "stdin",
     "output_type": "stream",
     "text": [
      " 3 14 159 2 6 53\n"
     ]
    }
   ],
   "source": [
    "An = list(map(int, input().split()))"
   ]
  },
  {
   "cell_type": "code",
   "execution_count": 23,
   "id": "57ba0167-063e-44fb-b5ed-437e22acff3f",
   "metadata": {},
   "outputs": [
    {
     "name": "stdin",
     "output_type": "stream",
     "text": [
      " 58 9 79 323 84 6\n"
     ]
    }
   ],
   "source": [
    "Bn = list(map(int, input().split()))"
   ]
  },
  {
   "cell_type": "code",
   "execution_count": 24,
   "id": "48662eba-911f-4a8f-b73b-50f4d327f97d",
   "metadata": {},
   "outputs": [
    {
     "name": "stdin",
     "output_type": "stream",
     "text": [
      " 2643 383 2 79 50 288\n"
     ]
    }
   ],
   "source": [
    "Cn = list(map(int, input().split()))"
   ]
  },
  {
   "cell_type": "code",
   "execution_count": 25,
   "id": "adc67a0b-85ba-4cfe-a555-c784630acdbf",
   "metadata": {},
   "outputs": [],
   "source": [
    "An_s = sorted(An)\n",
    "Bn_s = sorted(Bn)\n",
    "Cn_s = sorted(Cn)\n",
    "An_s.append(10**10)\n",
    "Bn_s.append(10**10)\n",
    "Cn_s.append(10**10)\n",
    "Bcnt = [0] * (N+1)\n",
    "Ccnt = [0] * (N+1)\n",
    "i, j = 0, 0\n",
    "while i < N:\n",
    "    while j < N:\n",
    "        if Bn_s[i] <= An_s[j]:\n",
    "            break\n",
    "        Bcnt[i] += 1\n",
    "        j += 1\n",
    "    Bcnt[i+1] = Bcnt[i]\n",
    "    i += 1\n",
    "\n",
    "i, j = 0, 0\n",
    "while i < N:\n",
    "    while j < N:\n",
    "        if Cn_s[i] <= Bn_s[j]:\n",
    "            break\n",
    "        Ccnt[i] += Bcnt[j]\n",
    "        j += 1\n",
    "    Ccnt[i+1] = Ccnt[i]\n",
    "    i += 1\n"
   ]
  },
  {
   "cell_type": "code",
   "execution_count": 26,
   "id": "5840094e-69bb-427b-ba28-994592c2bd47",
   "metadata": {},
   "outputs": [
    {
     "name": "stdout",
     "output_type": "stream",
     "text": [
      "87\n"
     ]
    }
   ],
   "source": [
    "print(sum(Ccnt[:N]))"
   ]
  },
  {
   "cell_type": "code",
   "execution_count": 11,
   "id": "90ebc050-1d4f-4068-b9fc-de646d1fb8c3",
   "metadata": {},
   "outputs": [
    {
     "data": {
      "text/plain": [
       "[1, 1, 1]"
      ]
     },
     "execution_count": 11,
     "metadata": {},
     "output_type": "execute_result"
    }
   ],
   "source": [
    "Bcnt"
   ]
  },
  {
   "cell_type": "code",
   "execution_count": 13,
   "id": "395b7843-0ced-4580-abef-95465345af17",
   "metadata": {},
   "outputs": [
    {
     "data": {
      "text/plain": [
       "[1, 2, 2]"
      ]
     },
     "execution_count": 13,
     "metadata": {},
     "output_type": "execute_result"
    }
   ],
   "source": [
    "Ccnt"
   ]
  },
  {
   "cell_type": "code",
   "execution_count": null,
   "id": "8d39a416-3ede-478d-bc1a-eb899b400a9d",
   "metadata": {},
   "outputs": [],
   "source": []
  }
 ],
 "metadata": {
  "kernelspec": {
   "display_name": "Python 3",
   "language": "python",
   "name": "python3"
  },
  "language_info": {
   "codemirror_mode": {
    "name": "ipython",
    "version": 3
   },
   "file_extension": ".py",
   "mimetype": "text/x-python",
   "name": "python",
   "nbconvert_exporter": "python",
   "pygments_lexer": "ipython3",
   "version": "3.6.13"
  }
 },
 "nbformat": 4,
 "nbformat_minor": 5
}
