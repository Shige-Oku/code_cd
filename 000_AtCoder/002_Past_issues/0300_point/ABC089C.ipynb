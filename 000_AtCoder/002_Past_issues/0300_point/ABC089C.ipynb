{
 "cells": [
  {
   "cell_type": "markdown",
   "metadata": {},
   "source": [
    "### 問題\n",
    "N 人の人がいて、i 番目の人の名前は Si です。  \n",
    "この中から、以下の条件を満たすように 3 人を選びたいです。  \n",
    " ・全ての人の名前が M,A,R,C,H のどれかから始まっている  \n",
    " ・同じ文字から始まる名前を持つ人が複数いない  \n",
    "\n",
    "これらの条件を満たすように 3 人を選ぶ方法が何通りあるか、求めてください。ただし、選ぶ順番は考えません。  \n",
    "答えが 32 bit整数型に収まらない場合に注意してください。  \n",
    "\n",
    "### 制約\n",
    " ・1≤N≤10 ** 5  \n",
    " ・Si は英大文字からなる  \n",
    " ・1 ≤ |Si| ≤ 10  \n",
    " ・Si ≠ Sj (i ≠ j)"
   ]
  },
  {
   "cell_type": "code",
   "execution_count": 22,
   "metadata": {},
   "outputs": [],
   "source": [
    "import sys\n",
    "import numpy as np"
   ]
  },
  {
   "cell_type": "code",
   "execution_count": 1,
   "metadata": {},
   "outputs": [
    {
     "name": "stdin",
     "output_type": "stream",
     "text": [
      " 5\n"
     ]
    }
   ],
   "source": [
    "# N 人数\n",
    "n = int(input())"
   ]
  },
  {
   "cell_type": "code",
   "execution_count": 10,
   "metadata": {},
   "outputs": [
    {
     "name": "stdin",
     "output_type": "stream",
     "text": [
      " MASHIKE\n",
      " RUMOI\n",
      " OBIRA\n",
      " HABORO\n",
      " HOROKANAI\n"
     ]
    }
   ],
   "source": [
    "# 名前\n",
    "num = np.zeros(5)\n",
    "for ii in range(n):\n",
    "    nm = input()\n",
    "    if nm[0] == \"M\":\n",
    "        num[0] += 1\n",
    "    if nm[0] == \"A\":\n",
    "        num[1] += 1\n",
    "    if nm[0] == \"R\":\n",
    "        num[2] += 1\n",
    "    if nm[0] == \"C\":\n",
    "        num[3] += 1\n",
    "    if nm[0] == \"H\":\n",
    "        num[4] += 1\n",
    "    "
   ]
  },
  {
   "cell_type": "code",
   "execution_count": 23,
   "metadata": {},
   "outputs": [],
   "source": [
    "comb = 0\n",
    "for i in range(5):\n",
    "    for j in range(i+1, 5):\n",
    "        for k in range(j+1, 5):\n",
    "            cb = num[i] * num[j] * num[k]\n",
    "            comb += cb\n"
   ]
  },
  {
   "cell_type": "code",
   "execution_count": 24,
   "metadata": {},
   "outputs": [
    {
     "name": "stdout",
     "output_type": "stream",
     "text": [
      "2\n"
     ]
    }
   ],
   "source": [
    "print(int(comb))"
   ]
  },
  {
   "cell_type": "code",
   "execution_count": null,
   "metadata": {},
   "outputs": [],
   "source": []
  }
 ],
 "metadata": {
  "kernelspec": {
   "display_name": "Python 3",
   "language": "python",
   "name": "python3"
  },
  "language_info": {
   "codemirror_mode": {
    "name": "ipython",
    "version": 3
   },
   "file_extension": ".py",
   "mimetype": "text/x-python",
   "name": "python",
   "nbconvert_exporter": "python",
   "pygments_lexer": "ipython3",
   "version": "3.6.7"
  }
 },
 "nbformat": 4,
 "nbformat_minor": 2
}
