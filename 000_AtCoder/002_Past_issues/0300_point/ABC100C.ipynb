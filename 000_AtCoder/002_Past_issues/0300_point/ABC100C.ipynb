{
 "cells": [
  {
   "cell_type": "markdown",
   "metadata": {},
   "source": [
    "### 問題文\n",
    "AtCoder Beginner Contest 100 の開催にともなって, AtCoder 社では長さ N の数列 a={a1,a2,a3,...,aN} が飾られることになった.  \n",
    "社員のすぬけ君は, この数列で遊んでみようと思った.  \n",
    "具体的には, 以下の操作をできるだけ多くの回数繰り返そうと思った.  \n",
    " ・1≤i≤N  を満たす全ての i に対して, それぞれ「ai の値を 2 で割る」「ai の値を 3 倍する」のどちらかを行う.    \n",
    " ・ただし, 全ての i に対して 3 倍することはできず, 操作後の \n",
    "ai の値は整数でなければならない.   \n",
    "最大で何回の操作が可能か, 求めなさい.  \n",
    "\n",
    "### 制約\n",
    " ・N  は 1 以上 10,000 以下の整数  \n",
    " ・ai  は 1 以上 1,000,000,000 以下の整数\n"
   ]
  },
  {
   "cell_type": "code",
   "execution_count": 1,
   "metadata": {},
   "outputs": [],
   "source": [
    "import sys\n",
    "import numpy as np"
   ]
  },
  {
   "cell_type": "code",
   "execution_count": 6,
   "metadata": {},
   "outputs": [
    {
     "name": "stdin",
     "output_type": "stream",
     "text": [
      " 3\n"
     ]
    }
   ],
   "source": [
    "# N\n",
    "n = int(input())"
   ]
  },
  {
   "cell_type": "code",
   "execution_count": 7,
   "metadata": {},
   "outputs": [
    {
     "name": "stdin",
     "output_type": "stream",
     "text": [
      " 5 2 4\n"
     ]
    }
   ],
   "source": [
    "# an 数列\n",
    "an = [list(map(int, input().split()))]\n",
    "\n",
    "an_np = np.array(an)"
   ]
  },
  {
   "cell_type": "code",
   "execution_count": 8,
   "metadata": {},
   "outputs": [],
   "source": [
    "num = 0\n",
    "\n",
    "# 1つだけ2で割って、残りを3かけるのが一番回数が多い\n",
    "# 偶数の個数をカウントしていけばOK\n",
    "while True:\n",
    "    if np.any(an_np % 2 == 0):\n",
    "        # 偶数だけ取り出し\n",
    "        an_np = an_np[an_np % 2 == 0]\n",
    "        # 偶数の個数を加算\n",
    "        num += len(an_np)\n",
    "        # ２で割って次へ\n",
    "        an_np //= 2\n",
    "    else:\n",
    "        break\n"
   ]
  },
  {
   "cell_type": "code",
   "execution_count": 9,
   "metadata": {},
   "outputs": [
    {
     "name": "stdout",
     "output_type": "stream",
     "text": [
      "3\n"
     ]
    }
   ],
   "source": [
    "print(num)"
   ]
  },
  {
   "cell_type": "code",
   "execution_count": null,
   "metadata": {},
   "outputs": [],
   "source": [
    "an_np[an_np % 2 == 0]"
   ]
  },
  {
   "cell_type": "code",
   "execution_count": null,
   "metadata": {},
   "outputs": [],
   "source": []
  }
 ],
 "metadata": {
  "kernelspec": {
   "display_name": "Python 3",
   "language": "python",
   "name": "python3"
  },
  "language_info": {
   "codemirror_mode": {
    "name": "ipython",
    "version": 3
   },
   "file_extension": ".py",
   "mimetype": "text/x-python",
   "name": "python",
   "nbconvert_exporter": "python",
   "pygments_lexer": "ipython3",
   "version": "3.6.7"
  }
 },
 "nbformat": 4,
 "nbformat_minor": 2
}
