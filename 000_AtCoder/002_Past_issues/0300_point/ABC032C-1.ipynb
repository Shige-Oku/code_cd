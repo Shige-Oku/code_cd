{
 "cells": [
  {
   "cell_type": "code",
   "execution_count": 1,
   "id": "69adef6f-f9eb-4376-9b6b-46a32300b4a1",
   "metadata": {},
   "outputs": [],
   "source": [
    "import sys\n",
    "import numpy as np\n",
    "import math\n",
    "import collections\n",
    "import copy\n",
    "import decimal\n",
    "import itertools\n",
    "import re\n",
    "import bisect\n",
    "import scipy\n",
    "import heapq\n",
    "from collections import deque \n",
    "from functools import reduce\n",
    "from itertools import product\n",
    "from itertools import combinations\n",
    "from itertools import chain\n",
    "from functools import lru_cache\n",
    "from scipy.special import comb\n",
    "from numba import njit\n",
    "from bisect import bisect_right\n",
    "from bisect import bisect_left"
   ]
  },
  {
   "cell_type": "code",
   "execution_count": 34,
   "id": "eee02e69-2420-4f36-a4d7-8414302d9669",
   "metadata": {},
   "outputs": [
    {
     "name": "stdin",
     "output_type": "stream",
     "text": [
      " 7 6\n"
     ]
    }
   ],
   "source": [
    "N, K = map(int, input().split())"
   ]
  },
  {
   "cell_type": "code",
   "execution_count": 92,
   "id": "91a6c9ff-66b6-410a-a022-597b2894d938",
   "metadata": {},
   "outputs": [
    {
     "name": "stdin",
     "output_type": "stream",
     "text": [
      " 4\n",
      " 1\n",
      " 1\n",
      " 1\n",
      " 1\n",
      " 1\n",
      " 1\n"
     ]
    }
   ],
   "source": [
    "An = [int(input()) for _ in range(N)]"
   ]
  },
  {
   "cell_type": "code",
   "execution_count": 93,
   "id": "540c8ede-8386-46da-b8dd-b4e1c71c566d",
   "metadata": {},
   "outputs": [],
   "source": [
    "An.append(10**10)"
   ]
  },
  {
   "cell_type": "code",
   "execution_count": 99,
   "id": "8406b3e0-909a-4865-9b9a-a09b7f14b4fb",
   "metadata": {},
   "outputs": [],
   "source": [
    "ans = 0\n",
    "i, j = 0, 0\n",
    "num = 1\n",
    "for i in range(N):\n",
    "    if An[i] == 0:\n",
    "        break\n",
    "    while num*An[j] <= K and j < N:\n",
    "        num *= An[j]\n",
    "        j += 1\n",
    "    ans = max(ans, j-i)\n",
    "#     print(i, j, ans, num)\n",
    "    if i >= j:\n",
    "        j = i + 1\n",
    "    else:\n",
    "        num //= An[i]\n",
    "    "
   ]
  },
  {
   "cell_type": "code",
   "execution_count": 100,
   "id": "93c4ced9-a43e-464c-b1e5-283b959b7538",
   "metadata": {},
   "outputs": [
    {
     "name": "stdout",
     "output_type": "stream",
     "text": [
      "7\n"
     ]
    }
   ],
   "source": [
    "if 0 in An:\n",
    "    print(N)\n",
    "else:\n",
    "    print(ans)"
   ]
  },
  {
   "cell_type": "code",
   "execution_count": 87,
   "id": "f7378802-a511-44a2-a313-3ed520d5bf79",
   "metadata": {},
   "outputs": [
    {
     "data": {
      "text/plain": [
       "(6, 7, 2)"
      ]
     },
     "execution_count": 87,
     "metadata": {},
     "output_type": "execute_result"
    }
   ],
   "source": [
    "i, j, ans"
   ]
  },
  {
   "cell_type": "code",
   "execution_count": null,
   "id": "4a939839-50b1-431e-b8f5-6d3cd5a783b1",
   "metadata": {},
   "outputs": [],
   "source": [
    "# WA"
   ]
  },
  {
   "cell_type": "code",
   "execution_count": 94,
   "id": "b193a8f4-49b3-427a-875c-77a6b3bc9808",
   "metadata": {},
   "outputs": [],
   "source": [
    "ans = 0\n",
    "j = 1\n",
    "num = An[0]\n",
    "for i in range(N):\n",
    "    if An[i] == 0:\n",
    "        break\n",
    "    if An[i] > K:\n",
    "#         j = i\n",
    "        num //= An[i]\n",
    "        continue\n",
    "    if i >= j:\n",
    "        j = i+1\n",
    "        num = An[i]\n",
    "    while num <= K and j < N:\n",
    "        num *= An[j]\n",
    "        if num > K:\n",
    "            break\n",
    "#         print(i, j, num)\n",
    "        j += 1\n",
    "    ans = max(ans, j-i)\n",
    "#     print(i, j, ans, num)\n",
    "    num //= An[i]\n",
    "    "
   ]
  }
 ],
 "metadata": {
  "kernelspec": {
   "display_name": "Python 3",
   "language": "python",
   "name": "python3"
  },
  "language_info": {
   "codemirror_mode": {
    "name": "ipython",
    "version": 3
   },
   "file_extension": ".py",
   "mimetype": "text/x-python",
   "name": "python",
   "nbconvert_exporter": "python",
   "pygments_lexer": "ipython3",
   "version": "3.6.13"
  }
 },
 "nbformat": 4,
 "nbformat_minor": 5
}
