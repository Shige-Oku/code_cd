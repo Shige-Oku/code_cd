{
 "cells": [
  {
   "cell_type": "code",
   "execution_count": 1,
   "id": "93fc2f73-e0e3-4db8-b6cc-49884b1a955f",
   "metadata": {},
   "outputs": [],
   "source": [
    "import sys\n",
    "import numpy as np\n",
    "import math\n",
    "import collections\n",
    "import copy\n",
    "import decimal\n",
    "import itertools\n",
    "import re\n",
    "import bisect\n",
    "import scipy\n",
    "import heapq\n",
    "from collections import deque \n",
    "from functools import reduce\n",
    "from itertools import product\n",
    "from itertools import combinations\n",
    "from itertools import chain\n",
    "from functools import lru_cache\n",
    "from scipy.special import comb\n",
    "from numba import njit\n",
    "from bisect import bisect_right\n",
    "from bisect import bisect_left"
   ]
  },
  {
   "cell_type": "code",
   "execution_count": 14,
   "id": "7fcf6ae9-2937-4bdc-a8a1-750019226997",
   "metadata": {},
   "outputs": [
    {
     "name": "stdin",
     "output_type": "stream",
     "text": [
      " 123 456\n"
     ]
    }
   ],
   "source": [
    "W, H = map(int, input().split())"
   ]
  },
  {
   "cell_type": "code",
   "execution_count": 10,
   "id": "95650569-48d0-4281-a2b7-183faef0f4ba",
   "metadata": {},
   "outputs": [],
   "source": [
    "def COMinit():\n",
    "    fac[:2] = 1, 1\n",
    "    finv[:2] = 1, 1\n",
    "    inv[1] = 1\n",
    "    for i in range(2, N):\n",
    "        fac[i] = fac[i-1] * i % MOD\n",
    "        inv[i] = MOD - inv[MOD%i] * (MOD // i) % MOD\n",
    "        finv[i] = finv[i-1] * inv[i] % MOD\n",
    "    return"
   ]
  },
  {
   "cell_type": "code",
   "execution_count": 11,
   "id": "76c7bae4-a748-4f92-91f7-adad730a86d8",
   "metadata": {},
   "outputs": [],
   "source": [
    "def COM(n, k):\n",
    "    if  n < k:\n",
    "        return 0\n",
    "    if n < 0 or k < 0:\n",
    "        return 0\n",
    "    return fac[n] * (finv[k] * finv[n-k] % MOD) % MOD"
   ]
  },
  {
   "cell_type": "code",
   "execution_count": 15,
   "id": "29ac6dcc-a0ea-4762-bfc9-ecac4210f543",
   "metadata": {},
   "outputs": [],
   "source": [
    "N = 2 * 10**5\n",
    "MOD = 10**9 + 7\n",
    "fac = [0] * (N+1)\n",
    "finv = [0] * (N+1)\n",
    "inv = [0] * (N+1)\n",
    "COMinit()"
   ]
  },
  {
   "cell_type": "code",
   "execution_count": 16,
   "id": "ab2fc7a7-1b5b-45de-828a-aaa59bd531d0",
   "metadata": {},
   "outputs": [
    {
     "name": "stdout",
     "output_type": "stream",
     "text": [
      "210368064\n"
     ]
    }
   ],
   "source": [
    "print(COM(W+H-2, W-1))"
   ]
  },
  {
   "cell_type": "code",
   "execution_count": null,
   "id": "3a3e1e18-d05c-4838-98cb-25495f913b8d",
   "metadata": {},
   "outputs": [],
   "source": []
  }
 ],
 "metadata": {
  "kernelspec": {
   "display_name": "Python 3",
   "language": "python",
   "name": "python3"
  },
  "language_info": {
   "codemirror_mode": {
    "name": "ipython",
    "version": 3
   },
   "file_extension": ".py",
   "mimetype": "text/x-python",
   "name": "python",
   "nbconvert_exporter": "python",
   "pygments_lexer": "ipython3",
   "version": "3.6.13"
  }
 },
 "nbformat": 4,
 "nbformat_minor": 5
}
