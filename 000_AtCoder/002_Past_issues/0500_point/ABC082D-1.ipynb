{
 "cells": [
  {
   "cell_type": "code",
   "execution_count": null,
   "id": "17566a9a-1705-4f17-b575-03af52866312",
   "metadata": {},
   "outputs": [],
   "source": [
    "# TLE"
   ]
  },
  {
   "cell_type": "code",
   "execution_count": 1,
   "id": "49164ba8-16ef-4b3a-a753-d7b7bbac45b8",
   "metadata": {},
   "outputs": [],
   "source": [
    "import sys\n",
    "import numpy as np\n",
    "import math\n",
    "import collections\n",
    "import copy\n",
    "import decimal\n",
    "import itertools\n",
    "import re\n",
    "import bisect\n",
    "import scipy\n",
    "import heapq\n",
    "from collections import deque \n",
    "from functools import reduce\n",
    "from itertools import product\n",
    "from itertools import combinations\n",
    "from itertools import chain\n",
    "from functools import lru_cache\n",
    "from scipy.special import comb\n",
    "from numba import njit\n",
    "from bisect import bisect_right\n",
    "from bisect import bisect_left"
   ]
  },
  {
   "cell_type": "code",
   "execution_count": 92,
   "id": "d928af6f-6727-4e33-838a-399914121453",
   "metadata": {},
   "outputs": [
    {
     "name": "stdin",
     "output_type": "stream",
     "text": [
      " FTFFTFFF\n"
     ]
    }
   ],
   "source": [
    "S = input()"
   ]
  },
  {
   "cell_type": "code",
   "execution_count": 93,
   "id": "bdf000ee-0c83-43e5-b7ae-a442400f6414",
   "metadata": {},
   "outputs": [
    {
     "name": "stdin",
     "output_type": "stream",
     "text": [
      " -2 -2\n"
     ]
    }
   ],
   "source": [
    "X, Y = map(int, input().split())"
   ]
  },
  {
   "cell_type": "code",
   "execution_count": 94,
   "id": "823c6803-66dc-4653-b7fa-a874223a283b",
   "metadata": {},
   "outputs": [],
   "source": [
    "def MoveNext(dp, line, st, end):\n",
    "#     print(line)\n",
    "    for i in range(st, end+1):\n",
    "        dp[line][i] = dp[line-1][i]"
   ]
  },
  {
   "cell_type": "code",
   "execution_count": 95,
   "id": "c4c9c468-f143-4188-9b2a-0fab4240259f",
   "metadata": {},
   "outputs": [],
   "source": [
    "dp_x = [[False] * 16001 for _ in range(len(S)+1)]\n",
    "dp_y = [[False] * 16001 for _ in range(len(S)+1)]\n",
    "flg = True\n",
    "xmax = 8000\n",
    "xmin = 8000\n",
    "ymax = 8000\n",
    "ymin = 8000\n",
    "for s, SS in enumerate(S, 1):\n",
    "    if SS == 'T':\n",
    "        break\n",
    "    dp_x[s][8000+s] = True\n",
    "    dp_y[s][8000] = True\n",
    "    xmax += 1\n",
    "\n",
    "for i, s in enumerate(S[s-1:], s):\n",
    "    if s == 'T':\n",
    "        flg = not flg\n",
    "        if i > 0:\n",
    "            MoveNext(dp_x, i, xmin, xmax)\n",
    "            MoveNext(dp_y, i, ymin, ymax)\n",
    "    else:\n",
    "        if flg:\n",
    "            for j in range(xmin, xmax+1):\n",
    "                if dp_x[i-1][j]:\n",
    "                    dp_x[i][j-1] = True\n",
    "                    dp_x[i][j+1] = True\n",
    "            xmin -= 1\n",
    "            xmax += 1\n",
    "            MoveNext(dp_y, i, ymin, ymax)\n",
    "        else:\n",
    "            for j in range(ymin, ymax+1):\n",
    "                if dp_y[i-1][j]:\n",
    "                    dp_y[i][j-1] = True\n",
    "                    dp_y[i][j+1] = True\n",
    "            ymin -= 1\n",
    "            ymax += 1\n",
    "            MoveNext(dp_x, i, xmin, xmax)\n",
    "            "
   ]
  },
  {
   "cell_type": "code",
   "execution_count": 96,
   "id": "b14a68b1-321a-46f5-8d3a-70d670dcaa7c",
   "metadata": {},
   "outputs": [
    {
     "name": "stdout",
     "output_type": "stream",
     "text": [
      "Yes\n"
     ]
    }
   ],
   "source": [
    "if dp_x[len(S)][8000+X] and dp_y[len(S)][8000+Y]:\n",
    "    print('Yes')\n",
    "else:\n",
    "    print('No')"
   ]
  },
  {
   "cell_type": "code",
   "execution_count": 56,
   "id": "2e405802-39a9-45a3-9aaf-3fd1775a9c5f",
   "metadata": {},
   "outputs": [
    {
     "data": {
      "text/plain": [
       "(8, 16000)"
      ]
     },
     "execution_count": 56,
     "metadata": {},
     "output_type": "execute_result"
    }
   ],
   "source": [
    "i, j"
   ]
  },
  {
   "cell_type": "code",
   "execution_count": 57,
   "id": "48cb4be5-80f6-448d-b0bf-5f27c0e7f974",
   "metadata": {},
   "outputs": [
    {
     "data": {
      "text/plain": [
       "[True, False, True, False, False, False, False, False, False, False]"
      ]
     },
     "execution_count": 57,
     "metadata": {},
     "output_type": "execute_result"
    }
   ],
   "source": [
    "dp_x[6][8000:8010]"
   ]
  },
  {
   "cell_type": "code",
   "execution_count": 83,
   "id": "694f7212-f279-4e60-a031-77bd93db35e2",
   "metadata": {},
   "outputs": [
    {
     "data": {
      "text/plain": [
       "128000000"
      ]
     },
     "execution_count": 83,
     "metadata": {},
     "output_type": "execute_result"
    }
   ],
   "source": [
    "16000*8000"
   ]
  },
  {
   "cell_type": "code",
   "execution_count": null,
   "id": "b7c3a154-1a78-4ced-9c05-8a65927bd089",
   "metadata": {},
   "outputs": [],
   "source": []
  }
 ],
 "metadata": {
  "kernelspec": {
   "display_name": "Python 3",
   "language": "python",
   "name": "python3"
  },
  "language_info": {
   "codemirror_mode": {
    "name": "ipython",
    "version": 3
   },
   "file_extension": ".py",
   "mimetype": "text/x-python",
   "name": "python",
   "nbconvert_exporter": "python",
   "pygments_lexer": "ipython3",
   "version": "3.6.13"
  }
 },
 "nbformat": 4,
 "nbformat_minor": 5
}
