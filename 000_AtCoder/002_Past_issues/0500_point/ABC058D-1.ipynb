{
 "cells": [
  {
   "cell_type": "code",
   "execution_count": null,
   "id": "54dc88a7-cead-4430-a711-cabb9c40b932",
   "metadata": {},
   "outputs": [],
   "source": [
    "# 解説を読んで実装"
   ]
  },
  {
   "cell_type": "code",
   "execution_count": 1,
   "id": "9b529400-3b33-4dbb-afe8-987bc935e9a6",
   "metadata": {},
   "outputs": [],
   "source": [
    "import sys\n",
    "import numpy as np\n",
    "import math\n",
    "import collections\n",
    "import copy\n",
    "import decimal\n",
    "import itertools\n",
    "import re\n",
    "import bisect\n",
    "import scipy\n",
    "import heapq\n",
    "from collections import deque \n",
    "from functools import reduce\n",
    "from itertools import product\n",
    "from itertools import combinations\n",
    "from itertools import chain\n",
    "from functools import lru_cache\n",
    "from scipy.special import comb\n",
    "from numba import njit\n",
    "from bisect import bisect_right\n",
    "from bisect import bisect_left"
   ]
  },
  {
   "cell_type": "code",
   "execution_count": 45,
   "id": "d09b5eba-3d73-4c74-ae27-584835902d23",
   "metadata": {},
   "outputs": [
    {
     "name": "stdin",
     "output_type": "stream",
     "text": [
      " 6 5\n"
     ]
    }
   ],
   "source": [
    "N, M = map(int, input().split())"
   ]
  },
  {
   "cell_type": "code",
   "execution_count": 46,
   "id": "a67b095f-7795-42d8-ac1e-02ad4a0958dc",
   "metadata": {},
   "outputs": [
    {
     "name": "stdin",
     "output_type": "stream",
     "text": [
      " -790013317 -192321079 95834122 418379342 586260100 802780784\n"
     ]
    }
   ],
   "source": [
    "Xn = list(map(int, input().split()))"
   ]
  },
  {
   "cell_type": "code",
   "execution_count": 47,
   "id": "873f917b-d46c-4429-a577-584ede62c6e8",
   "metadata": {},
   "outputs": [
    {
     "name": "stdin",
     "output_type": "stream",
     "text": [
      " -253230108 193944314 363756450 712662868 735867677\n"
     ]
    }
   ],
   "source": [
    "Yn = list(map(int, input().split()))"
   ]
  },
  {
   "cell_type": "code",
   "execution_count": 75,
   "id": "d8f3d4c4-da5a-4a0e-ae28-50475e6dcf3d",
   "metadata": {},
   "outputs": [],
   "source": [
    "Xn2 = []\n",
    "for X in Xn:\n",
    "    Xn2.append(X-Xn[0])\n",
    "\n",
    "Yn2 = []\n",
    "for Y in Yn:\n",
    "    Yn2.append(Y-Yn[0])\n",
    "    "
   ]
  },
  {
   "cell_type": "code",
   "execution_count": 76,
   "id": "dd8ec99e-b3c3-4422-a11d-37db996c114a",
   "metadata": {},
   "outputs": [],
   "source": [
    "X_total = 0\n",
    "for i in range(1, N+1):\n",
    "    X_total += (i - 1) * Xn2[i-1] - (N - i) * Xn2[i-1]\n",
    "    X_total %= 10**9 + 7"
   ]
  },
  {
   "cell_type": "code",
   "execution_count": 77,
   "id": "e59ce29b-c4da-44d5-b9d1-20e0c7ddfdcc",
   "metadata": {},
   "outputs": [],
   "source": [
    "Y_total = 0\n",
    "for i in range(1, M+1):\n",
    "    Y_total += (i - 1) * Yn2[i-1] - (M - i) * Yn2[i-1]\n",
    "    Y_total %= 10**9 + 7"
   ]
  },
  {
   "cell_type": "code",
   "execution_count": 78,
   "id": "be40630c-2201-4be5-8875-5a6e63e9b6d4",
   "metadata": {},
   "outputs": [
    {
     "name": "stdout",
     "output_type": "stream",
     "text": [
      "835067060\n"
     ]
    }
   ],
   "source": [
    "print(X_total*Y_total%(10**9+7))"
   ]
  },
  {
   "cell_type": "code",
   "execution_count": 79,
   "id": "28e03ab1-a6c8-4023-88fd-528b6399ab90",
   "metadata": {},
   "outputs": [
    {
     "name": "stdout",
     "output_type": "stream",
     "text": [
      "835067060\n"
     ]
    }
   ],
   "source": [
    "X_total = 0\n",
    "for i in range(1, N+1):\n",
    "    X_total += (i - 1) * Xn[i-1] - (N - i) * Xn[i-1]\n",
    "    X_total %= 10**9 + 7\n",
    "\n",
    "Y_total = 0\n",
    "for i in range(1, M+1):\n",
    "    Y_total += (i - 1) * Yn[i-1] - (M - i) * Yn[i-1]\n",
    "    Y_total %= 10**9 + 7\n",
    "\n",
    "print(X_total*Y_total%(10**9+7))"
   ]
  },
  {
   "cell_type": "code",
   "execution_count": 52,
   "id": "9bd8d0fe-1ed8-4d6c-8b9d-e625fd794f54",
   "metadata": {},
   "outputs": [
    {
     "data": {
      "text/plain": [
       "(622259192, 974676500)"
      ]
     },
     "execution_count": 52,
     "metadata": {},
     "output_type": "execute_result"
    }
   ],
   "source": [
    "X_total, Y_total"
   ]
  },
  {
   "cell_type": "code",
   "execution_count": 53,
   "id": "6285f405-903b-4fc3-bf61-0cc3527fa2ff",
   "metadata": {},
   "outputs": [
    {
     "data": {
      "text/plain": [
       "([0, 597692238, 885847439, 1208392659, 1376273417, 1592794101],\n",
       " [0, 447174422, 616986558, 965892976, 989097785])"
      ]
     },
     "execution_count": 53,
     "metadata": {},
     "output_type": "execute_result"
    }
   ],
   "source": [
    "Xn2, Yn2"
   ]
  },
  {
   "cell_type": "code",
   "execution_count": 54,
   "id": "2f49a650-3101-4088-840d-1444cf28e316",
   "metadata": {},
   "outputs": [
    {
     "data": {
      "text/plain": [
       "[-790013317, -192321079, 95834122, 418379342, 586260100, 802780784]"
      ]
     },
     "execution_count": 54,
     "metadata": {},
     "output_type": "execute_result"
    }
   ],
   "source": [
    "Xn"
   ]
  },
  {
   "cell_type": "code",
   "execution_count": 55,
   "id": "8308639f-022c-4955-b646-2ad96e76ad75",
   "metadata": {},
   "outputs": [
    {
     "data": {
      "text/plain": [
       "(0, 597692238, 885847439, 1208392659, 1376273417, 1592794101)"
      ]
     },
     "execution_count": 55,
     "metadata": {},
     "output_type": "execute_result"
    }
   ],
   "source": [
    "Xn[0]-Xn[0], Xn[1]-Xn[0], Xn[2]-Xn[0], Xn[3]-Xn[0], Xn[4]-Xn[0], Xn[5]-Xn[0]"
   ]
  },
  {
   "cell_type": "code",
   "execution_count": 70,
   "id": "a0202263-d430-453a-b483-902ef7bf75be",
   "metadata": {},
   "outputs": [],
   "source": [
    "X_total = 0\n",
    "for i in range(N):\n",
    "    X_total += (2*i - N + 1) * Xn[i]\n",
    "#     X_total %= 10**9 + 7"
   ]
  },
  {
   "cell_type": "code",
   "execution_count": 73,
   "id": "0f89a6a2-1d58-482b-a99b-ab9b8017876b",
   "metadata": {},
   "outputs": [],
   "source": [
    "Y_total = 0\n",
    "for i in range(M):\n",
    "    Y_total += (2*i - M + 1) * Yn[i]\n",
    "#     Y_total %= 10**9 + 7"
   ]
  },
  {
   "cell_type": "code",
   "execution_count": 74,
   "id": "dc772c97-7f55-48ec-8fce-b3c2fe19b096",
   "metadata": {},
   "outputs": [
    {
     "name": "stdout",
     "output_type": "stream",
     "text": [
      "835067060\n"
     ]
    }
   ],
   "source": [
    "print(X_total*Y_total%(10**9+7))"
   ]
  },
  {
   "cell_type": "code",
   "execution_count": null,
   "id": "b09af22b-e4d3-41c3-94dc-6762e6d28a78",
   "metadata": {},
   "outputs": [],
   "source": []
  }
 ],
 "metadata": {
  "kernelspec": {
   "display_name": "Python 3",
   "language": "python",
   "name": "python3"
  },
  "language_info": {
   "codemirror_mode": {
    "name": "ipython",
    "version": 3
   },
   "file_extension": ".py",
   "mimetype": "text/x-python",
   "name": "python",
   "nbconvert_exporter": "python",
   "pygments_lexer": "ipython3",
   "version": "3.6.13"
  }
 },
 "nbformat": 4,
 "nbformat_minor": 5
}
