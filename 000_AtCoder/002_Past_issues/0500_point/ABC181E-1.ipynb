{
 "cells": [
  {
   "cell_type": "code",
   "execution_count": 1,
   "metadata": {},
   "outputs": [],
   "source": [
    "import sys\n",
    "import numpy as np\n",
    "import math\n",
    "import collections\n",
    "import copy\n",
    "import decimal\n",
    "import itertools\n",
    "import re\n",
    "import bisect\n",
    "import scipy\n",
    "import heapq\n",
    "from collections import deque \n",
    "from functools import reduce\n",
    "from itertools import product\n",
    "from itertools import combinations\n",
    "from functools import lru_cache\n",
    "from scipy.special import comb\n",
    "from numba import njit\n",
    "from bisect import bisect_right\n",
    "from bisect import bisect_left"
   ]
  },
  {
   "cell_type": "code",
   "execution_count": 210,
   "metadata": {},
   "outputs": [
    {
     "name": "stdin",
     "output_type": "stream",
     "text": [
      " 1 3\n"
     ]
    }
   ],
   "source": [
    "N, M = map(int, input().split())"
   ]
  },
  {
   "cell_type": "code",
   "execution_count": 211,
   "metadata": {},
   "outputs": [
    {
     "name": "stdin",
     "output_type": "stream",
     "text": [
      " 120\n"
     ]
    }
   ],
   "source": [
    "Hn = list(map(int, input().split()))"
   ]
  },
  {
   "cell_type": "code",
   "execution_count": 212,
   "metadata": {},
   "outputs": [
    {
     "name": "stdin",
     "output_type": "stream",
     "text": [
      " 100 120 130\n"
     ]
    }
   ],
   "source": [
    "Wn = list(map(int, input().split()))"
   ]
  },
  {
   "cell_type": "code",
   "execution_count": 213,
   "metadata": {},
   "outputs": [],
   "source": [
    "Hn_s = sorted(Hn)\n",
    "diff = []\n",
    "for i in range(0, N-1, 2):\n",
    "    diff.append(Hn_s[i+1] - Hn_s[i])\n",
    "diff_rev = []\n",
    "for i in range(1, N, 2):\n",
    "    diff_rev.append(Hn_s[i+1] - Hn_s[i])\n",
    "acc = np.cumsum(diff)\n",
    "# acc.insert(0, diff[0])\n",
    "acc_rev = np.cumsum(diff_rev)\n",
    "# acc_rev.insert(0, diff_rev[0])"
   ]
  },
  {
   "cell_type": "code",
   "execution_count": 216,
   "metadata": {},
   "outputs": [],
   "source": [
    "ans = 10**20\n",
    "for W in Wn:\n",
    "    idx = bisect_left(Hn_s, W)\n",
    "    if N == 1:\n",
    "        c = abs(W-Hn_s[0])\n",
    "    elif idx <= 1:\n",
    "        c = abs(W-Hn_s[0]) + acc_rev[-1]\n",
    "    elif idx >= N-1:\n",
    "        c = acc[-1] + abs(W-Hn_s[-1])\n",
    "    else:\n",
    "        if idx % 2 == 1:\n",
    "            c = acc[idx//2-1] + abs(W - Hn_s[idx-1]) + acc_rev[-1] - acc_rev[idx//2-1]\n",
    "        else:\n",
    "            c = acc[idx//2-1] + abs(W - Hn_s[idx]) + acc_rev[-1] - acc_rev[idx//2-1]\n",
    "    ans = min(ans, c)\n",
    "#     print(W, c, idx)"
   ]
  },
  {
   "cell_type": "code",
   "execution_count": 217,
   "metadata": {},
   "outputs": [
    {
     "name": "stdout",
     "output_type": "stream",
     "text": [
      "0\n"
     ]
    }
   ],
   "source": [
    "print(ans)"
   ]
  },
  {
   "cell_type": "code",
   "execution_count": 101,
   "metadata": {},
   "outputs": [
    {
     "name": "stdout",
     "output_type": "stream",
     "text": [
      "96 51\n",
      "80 43\n",
      "73 50\n",
      "76 47\n",
      "87 42\n",
      "57 60\n",
      "29 34\n"
     ]
    }
   ],
   "source": [
    "for W in Wn[:]:\n",
    "    Hn_c = copy.deepcopy(Hn_s)\n",
    "    Hn_c.append(W)\n",
    "    Hn_c.sort()\n",
    "    di = 0\n",
    "    for i in range(0, len(Hn_c), 2):\n",
    "        di += abs(Hn_c[i] - Hn_c[i+1])\n",
    "    print(W, di)\n",
    "    "
   ]
  },
  {
   "cell_type": "code",
   "execution_count": 215,
   "metadata": {},
   "outputs": [
    {
     "data": {
      "text/plain": [
       "([], [], array([], dtype=float64), array([], dtype=float64))"
      ]
     },
     "execution_count": 215,
     "metadata": {},
     "output_type": "execute_result"
    }
   ],
   "source": [
    "diff, diff_rev, acc, acc_rev"
   ]
  },
  {
   "cell_type": "code",
   "execution_count": 21,
   "metadata": {},
   "outputs": [
    {
     "data": {
      "text/plain": [
       "(0, 2, 5)"
      ]
     },
     "execution_count": 21,
     "metadata": {},
     "output_type": "execute_result"
    }
   ],
   "source": [
    "bisect_left(Hn_s, 1),bisect_left(Hn_s, 3), bisect_left(Hn_s, 8) "
   ]
  },
  {
   "cell_type": "code",
   "execution_count": 85,
   "metadata": {},
   "outputs": [
    {
     "data": {
      "text/plain": [
       "([13, 16, 23, 31, 32, 60, 84], 28)"
      ]
     },
     "execution_count": 85,
     "metadata": {},
     "output_type": "execute_result"
    }
   ],
   "source": [
    "Hn_s, diff[-1]"
   ]
  },
  {
   "cell_type": "code",
   "execution_count": 158,
   "metadata": {},
   "outputs": [
    {
     "data": {
      "text/plain": [
       "(3, 2)"
      ]
     },
     "execution_count": 158,
     "metadata": {},
     "output_type": "execute_result"
    }
   ],
   "source": [
    "W, idx"
   ]
  },
  {
   "cell_type": "code",
   "execution_count": 83,
   "metadata": {},
   "outputs": [
    {
     "data": {
      "text/plain": [
       "(39, 0, 40)"
      ]
     },
     "execution_count": 83,
     "metadata": {},
     "output_type": "execute_result"
    }
   ],
   "source": [
    "left, right, c"
   ]
  },
  {
   "cell_type": "code",
   "execution_count": 110,
   "metadata": {},
   "outputs": [],
   "source": [
    "ans = 10**20\n",
    "for W in Wn:\n",
    "    idx_i = bisect_left(Hn_s, W)\n",
    "    idx = idx_i\n",
    "    idx //= 2\n",
    "    if idx >= N//2:\n",
    "        left = acc[-1]\n",
    "    elif idx > 0:\n",
    "        left = acc[idx]\n",
    "    else:\n",
    "        left = 0\n",
    "    if idx <= N//2:\n",
    "        right = acc_rev[-1] - acc_rev[idx-1]\n",
    "    else:\n",
    "        right = 0\n",
    "    if idx_i == 0:\n",
    "        c = abs(W-Hn_s[0]) + acc_rev[-1]\n",
    "    elif idx_i == N:\n",
    "        c = acc[-1] + abs(W-Hn_s[-1])\n",
    "    else:\n",
    "        if idx % 2 == 1:\n",
    "            c = left + abs(W - Hn_s[idx]) + right\n",
    "        else:\n",
    "            c = left + abs(W - Hn_s[idx+1]) + right\n",
    "    ans = min(ans, c)"
   ]
  },
  {
   "cell_type": "code",
   "execution_count": null,
   "metadata": {},
   "outputs": [],
   "source": []
  }
 ],
 "metadata": {
  "kernelspec": {
   "display_name": "Python 3",
   "language": "python",
   "name": "python3"
  },
  "language_info": {
   "codemirror_mode": {
    "name": "ipython",
    "version": 3
   },
   "file_extension": ".py",
   "mimetype": "text/x-python",
   "name": "python",
   "nbconvert_exporter": "python",
   "pygments_lexer": "ipython3",
   "version": "3.6.10"
  }
 },
 "nbformat": 4,
 "nbformat_minor": 4
}
