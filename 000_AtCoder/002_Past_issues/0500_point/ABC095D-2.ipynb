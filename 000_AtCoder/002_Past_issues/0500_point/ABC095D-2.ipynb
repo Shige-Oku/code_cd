{
 "cells": [
  {
   "cell_type": "code",
   "execution_count": null,
   "id": "b70b4f11-1c80-435a-a682-6acd3e8ba04b",
   "metadata": {},
   "outputs": [],
   "source": [
    "# サンプルが合わない"
   ]
  },
  {
   "cell_type": "code",
   "execution_count": 1,
   "id": "ef2784de-b233-4c5f-b9d2-2814f743dc45",
   "metadata": {},
   "outputs": [],
   "source": [
    "import sys\n",
    "import numpy as np\n",
    "import math\n",
    "import collections\n",
    "import copy\n",
    "import decimal\n",
    "import itertools\n",
    "import re\n",
    "import bisect\n",
    "import scipy\n",
    "import heapq\n",
    "from collections import deque \n",
    "from functools import reduce\n",
    "from itertools import product\n",
    "from itertools import combinations\n",
    "from itertools import chain\n",
    "from functools import lru_cache\n",
    "from scipy.special import comb\n",
    "from numba import njit\n",
    "from bisect import bisect_right\n",
    "from bisect import bisect_left"
   ]
  },
  {
   "cell_type": "code",
   "execution_count": 56,
   "id": "ae5869f7-e6f7-4a47-8f6e-f4ae28186daf",
   "metadata": {},
   "outputs": [
    {
     "name": "stdin",
     "output_type": "stream",
     "text": [
      " 15 100\n"
     ]
    }
   ],
   "source": [
    "N, C = map(int, input().split())"
   ]
  },
  {
   "cell_type": "code",
   "execution_count": 57,
   "id": "4a6e0a64-e3bc-4fca-a782-79ed551cd47c",
   "metadata": {},
   "outputs": [
    {
     "name": "stdin",
     "output_type": "stream",
     "text": [
      " 4 100\n",
      " 8 100\n",
      " 19 100\n",
      " 24 100\n",
      " 29 100\n",
      " 33 100\n",
      " 37 100\n",
      " 38 100\n",
      " 40 100\n",
      " 41 100\n",
      " 52 100\n",
      " 66 100\n",
      " 80 100\n",
      " 93 100\n",
      " 97 100\n"
     ]
    }
   ],
   "source": [
    "XV = [list(map(int, input().split())) for _ in range(N)]"
   ]
  },
  {
   "cell_type": "code",
   "execution_count": 58,
   "id": "c4534481-0864-4aad-a0ec-cd6ebf98bdd3",
   "metadata": {},
   "outputs": [],
   "source": [
    "XV_s = sorted(XV)\n",
    "r_v = [0, ]\n",
    "r_max = [0, ]\n",
    "d = 0\n",
    "for i in range(N):\n",
    "    X, V = XV[i]\n",
    "    r_v.append(r_v[-1]+V-X+d)\n",
    "    r_max.append(max(r_v[-2],r_v[-1]))\n",
    "    d = X\n",
    "l_v = [0, ]\n",
    "l_max = [0, ]\n",
    "d = 0\n",
    "for i in range(N-1, -1, -1):\n",
    "    X, V = XV[i]\n",
    "    l_v.append(l_v[-1]+V-(C-X)+d)\n",
    "    l_max.append(max(l_v[-2],l_v[-1]))\n",
    "    d = C - X\n",
    "l_v = l_v[::-1]\n",
    "l_max = l_max[::-1]"
   ]
  },
  {
   "cell_type": "code",
   "execution_count": 63,
   "id": "5e9c4c2f-b692-45cd-8e61-ef36fc42483b",
   "metadata": {},
   "outputs": [],
   "source": [
    "ans = 0\n",
    "for i in range(1, N+1):\n",
    "    ans = max(ans, r_max[i])\n",
    "    if i >= N:\n",
    "        break\n",
    "    ans = max(ans, r_v[i] - XV_s[i-1][0] + l_max[i+1])\n",
    "#     print(i, ans)\n",
    "for i in range(N-1, 0, -1):\n",
    "    ans = max(ans, l_max[i])\n",
    "    if i <= 1:\n",
    "        break\n",
    "    ans = max(ans, l_v[i] - (C - XV_s[i-1][0]) + r_max[i-1])\n",
    "#     print(ans, l_v[i], C - XV_s[N-i][1], r_max[N-i])\n",
    "#     print(i, ans)"
   ]
  },
  {
   "cell_type": "code",
   "execution_count": 64,
   "id": "da894b32-3dac-4e40-976b-f429f2910947",
   "metadata": {},
   "outputs": [
    {
     "name": "stdout",
     "output_type": "stream",
     "text": [
      "1403\n"
     ]
    }
   ],
   "source": [
    "print(ans)"
   ]
  },
  {
   "cell_type": "code",
   "execution_count": 52,
   "id": "5583f4b9-980f-4591-8b5c-8776f4441ef7",
   "metadata": {},
   "outputs": [
    {
     "data": {
      "text/plain": [
       "([0, 78, 72, 185], [0, 78, 78, 185], [183, 110, 116, 0], [183, 116, 116, 0])"
      ]
     },
     "execution_count": 52,
     "metadata": {},
     "output_type": "execute_result"
    }
   ],
   "source": [
    "r_v, r_max, l_v, l_max"
   ]
  },
  {
   "cell_type": "code",
   "execution_count": 22,
   "id": "07b05fe4-af63-4458-82e5-1690749f8bf5",
   "metadata": {},
   "outputs": [
    {
     "data": {
      "text/plain": [
       "191"
      ]
     },
     "execution_count": 22,
     "metadata": {},
     "output_type": "execute_result"
    }
   ],
   "source": [
    "ans"
   ]
  },
  {
   "cell_type": "code",
   "execution_count": 53,
   "id": "c686ba4a-b9b7-43e0-acca-b86a536e087e",
   "metadata": {},
   "outputs": [
    {
     "data": {
      "text/plain": [
       "600000000"
      ]
     },
     "execution_count": 53,
     "metadata": {},
     "output_type": "execute_result"
    }
   ],
   "source": [
    "6500000000-5900000000"
   ]
  },
  {
   "cell_type": "code",
   "execution_count": null,
   "id": "2386f74f-e470-4630-8695-0a87d28f8136",
   "metadata": {},
   "outputs": [],
   "source": []
  }
 ],
 "metadata": {
  "kernelspec": {
   "display_name": "Python 3",
   "language": "python",
   "name": "python3"
  },
  "language_info": {
   "codemirror_mode": {
    "name": "ipython",
    "version": 3
   },
   "file_extension": ".py",
   "mimetype": "text/x-python",
   "name": "python",
   "nbconvert_exporter": "python",
   "pygments_lexer": "ipython3",
   "version": "3.6.13"
  }
 },
 "nbformat": 4,
 "nbformat_minor": 5
}
