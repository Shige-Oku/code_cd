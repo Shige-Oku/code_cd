{
 "cells": [
  {
   "cell_type": "code",
   "execution_count": null,
   "id": "f40e5011-bdee-4534-b410-d6a463f4a7e3",
   "metadata": {},
   "outputs": [],
   "source": [
    "# TLE"
   ]
  },
  {
   "cell_type": "code",
   "execution_count": 1,
   "id": "6c590bfb-41b9-46cd-b865-253aec65edb0",
   "metadata": {},
   "outputs": [],
   "source": [
    "import sys\n",
    "import numpy as np\n",
    "import math\n",
    "import collections\n",
    "import copy\n",
    "import decimal\n",
    "import itertools\n",
    "import re\n",
    "import bisect\n",
    "import scipy\n",
    "import heapq\n",
    "from collections import deque \n",
    "from functools import reduce\n",
    "from itertools import product\n",
    "from itertools import combinations\n",
    "from itertools import chain\n",
    "from functools import lru_cache\n",
    "from scipy.special import comb\n",
    "from numba import njit\n",
    "from bisect import bisect_right\n",
    "from bisect import bisect_left"
   ]
  },
  {
   "cell_type": "code",
   "execution_count": 81,
   "id": "7fe8d099-2471-43c8-ae69-25e2cb1e6cf3",
   "metadata": {},
   "outputs": [
    {
     "name": "stdin",
     "output_type": "stream",
     "text": [
      " FTFFTFFF\n"
     ]
    }
   ],
   "source": [
    "S = input()"
   ]
  },
  {
   "cell_type": "code",
   "execution_count": 82,
   "id": "2494aa62-54ba-4f32-a6f6-6df8a05766a5",
   "metadata": {},
   "outputs": [
    {
     "name": "stdin",
     "output_type": "stream",
     "text": [
      " -2 -2\n"
     ]
    }
   ],
   "source": [
    "X, Y = map(int, input().split())"
   ]
  },
  {
   "cell_type": "code",
   "execution_count": 83,
   "id": "58485cbb-46e4-483c-b731-8c467bef4b5f",
   "metadata": {},
   "outputs": [],
   "source": [
    "cnt = []\n",
    "i = 0\n",
    "for s in S:\n",
    "    if s == 'T':\n",
    "        cnt.append(i)\n",
    "        i = 0\n",
    "    else:\n",
    "         i += 1\n",
    "else:\n",
    "    cnt.append(i)\n"
   ]
  },
  {
   "cell_type": "code",
   "execution_count": 84,
   "id": "1f00a088-c6c5-4a9d-a095-526acb531f32",
   "metadata": {},
   "outputs": [],
   "source": [
    "dp_x = [[False] * 16001 for _ in range(len(S)+1)]\n",
    "dp_y = [[False] * 16001 for _ in range(len(S)+1)]\n",
    "dp_x[0][8000] = True\n",
    "dp_y[0][8000] = True\n",
    "dp_x[1][8000+cnt[0]] = True\n",
    "xmax = 8000 + cnt[0]\n",
    "xmin = 8000 - cnt[0]\n",
    "ymax = 8000\n",
    "ymin = 8000\n",
    "flg = True\n",
    "idx_x = 1\n",
    "idx_y = 0\n",
    "for c in cnt[1:]:\n",
    "    flg = not flg\n",
    "    if flg:\n",
    "        for i in range(xmin, xmax+1):\n",
    "            if dp_x[idx_x][i]:\n",
    "                dp_x[idx_x+1][i-c] = True\n",
    "                dp_x[idx_x+1][i+c] = True\n",
    "        xmin -= c\n",
    "        xmax += c\n",
    "        idx_x += 1\n",
    "    else:\n",
    "        for i in range(16001):\n",
    "            if dp_y[idx_y][i]:\n",
    "                dp_y[idx_y+1][i-c] = True\n",
    "                dp_y[idx_y+1][i+c] = True\n",
    "        ymin -= c\n",
    "        ymax += c\n",
    "        idx_y += 1\n",
    "#     h += c"
   ]
  },
  {
   "cell_type": "code",
   "execution_count": 85,
   "id": "9f5ee841-9193-4327-bc96-c66aed0bbe20",
   "metadata": {},
   "outputs": [
    {
     "name": "stdout",
     "output_type": "stream",
     "text": [
      "Yes\n"
     ]
    }
   ],
   "source": [
    "if dp_x[idx_x][8000+X] and dp_y[idx_y][8000+Y]:\n",
    "    print('Yes')\n",
    "else:\n",
    "    print('No')"
   ]
  },
  {
   "cell_type": "code",
   "execution_count": 49,
   "id": "114e3a3b-3001-4c55-8c03-0c507de387fb",
   "metadata": {},
   "outputs": [
    {
     "data": {
      "text/plain": [
       "[1, 2, 3]"
      ]
     },
     "execution_count": 49,
     "metadata": {},
     "output_type": "execute_result"
    }
   ],
   "source": [
    "cnt"
   ]
  },
  {
   "cell_type": "code",
   "execution_count": 50,
   "id": "bbc1c74e-c847-45b9-a8a2-aa306b1d6229",
   "metadata": {},
   "outputs": [
    {
     "data": {
      "text/plain": [
       "[False, False, False, True, False, False, False, False, False, False]"
      ]
     },
     "execution_count": 50,
     "metadata": {},
     "output_type": "execute_result"
    }
   ],
   "source": [
    "dp_x[2][8000:8010]"
   ]
  },
  {
   "cell_type": "code",
   "execution_count": 51,
   "id": "7c3f12f6-5605-48ba-8a09-9b2afa74be72",
   "metadata": {},
   "outputs": [
    {
     "data": {
      "text/plain": [
       "[False, False, False, False, False, True, False, False, False, False]"
      ]
     },
     "execution_count": 51,
     "metadata": {},
     "output_type": "execute_result"
    }
   ],
   "source": [
    "dp_y[1][7998:8008]"
   ]
  },
  {
   "cell_type": "code",
   "execution_count": null,
   "id": "b467651e-1f72-4210-ac24-2f5c6e787ec8",
   "metadata": {},
   "outputs": [],
   "source": []
  }
 ],
 "metadata": {
  "kernelspec": {
   "display_name": "Python 3",
   "language": "python",
   "name": "python3"
  },
  "language_info": {
   "codemirror_mode": {
    "name": "ipython",
    "version": 3
   },
   "file_extension": ".py",
   "mimetype": "text/x-python",
   "name": "python",
   "nbconvert_exporter": "python",
   "pygments_lexer": "ipython3",
   "version": "3.6.13"
  }
 },
 "nbformat": 4,
 "nbformat_minor": 5
}
