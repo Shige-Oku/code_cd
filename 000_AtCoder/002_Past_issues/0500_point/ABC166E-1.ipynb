{
 "cells": [
  {
   "cell_type": "code",
   "execution_count": null,
   "metadata": {},
   "outputs": [],
   "source": [
    "# サンプルが合わない"
   ]
  },
  {
   "cell_type": "code",
   "execution_count": 1,
   "metadata": {},
   "outputs": [],
   "source": [
    "import sys\n",
    "import numpy as np\n",
    "import math\n",
    "import collections\n",
    "import copy\n",
    "import decimal\n",
    "import itertools\n",
    "import re\n",
    "import bisect\n",
    "import scipy\n",
    "import heapq\n",
    "from collections import deque \n",
    "from functools import reduce\n",
    "from itertools import product\n",
    "from itertools import combinations\n",
    "from functools import lru_cache\n",
    "from scipy.special import comb\n",
    "from numba import njit\n",
    "from bisect import bisect_right\n",
    "from bisect import bisect_left"
   ]
  },
  {
   "cell_type": "code",
   "execution_count": 2,
   "metadata": {},
   "outputs": [
    {
     "name": "stdin",
     "output_type": "stream",
     "text": [
      " 6\n"
     ]
    }
   ],
   "source": [
    "N = int(input())"
   ]
  },
  {
   "cell_type": "code",
   "execution_count": 64,
   "metadata": {},
   "outputs": [
    {
     "name": "stdin",
     "output_type": "stream",
     "text": [
      " 3 1 4 1 5 9 2 6 5 3 5 8 9 7 9 3 2 3 8 4 6 2 6 4 3 3 8 3 2 7 9 5\n"
     ]
    }
   ],
   "source": [
    "An = list(map(int, input().split()))"
   ]
  },
  {
   "cell_type": "code",
   "execution_count": 65,
   "metadata": {},
   "outputs": [],
   "source": [
    "ad_d = {}\n",
    "su_d = {}\n",
    "for i, A in enumerate(An, 1):\n",
    "    ad = i + A\n",
    "    su = abs(i - A)\n",
    "    if ad in ad_d:\n",
    "        ad_d[ad].append(i)\n",
    "    else:\n",
    "        ad_d[ad] = [i, ]\n",
    "    if su in su_d:\n",
    "        su_d[su].append(i)\n",
    "    else:\n",
    "        su_d[su] = [i, ]"
   ]
  },
  {
   "cell_type": "code",
   "execution_count": 66,
   "metadata": {},
   "outputs": [],
   "source": [
    "ans = 0\n",
    "for k, li in su_d.items():\n",
    "    if k not in ad_d:\n",
    "        continue\n",
    "    for l1 in li:\n",
    "        for l2 in ad_d[k]:\n",
    "            if l1 > l2:\n",
    "                ans += 1"
   ]
  },
  {
   "cell_type": "code",
   "execution_count": 67,
   "metadata": {},
   "outputs": [
    {
     "name": "stdout",
     "output_type": "stream",
     "text": [
      "23\n"
     ]
    }
   ],
   "source": [
    "print(ans)"
   ]
  },
  {
   "cell_type": "code",
   "execution_count": 61,
   "metadata": {},
   "outputs": [
    {
     "data": {
      "text/plain": [
       "({4: [1],\n",
       "  3: [2],\n",
       "  7: [3],\n",
       "  5: [4],\n",
       "  10: [5],\n",
       "  15: [6],\n",
       "  9: [7],\n",
       "  14: [8, 9],\n",
       "  13: [10],\n",
       "  16: [11],\n",
       "  20: [12],\n",
       "  22: [13],\n",
       "  21: [14, 18],\n",
       "  24: [15, 20, 22],\n",
       "  19: [16, 17],\n",
       "  27: [19, 21],\n",
       "  29: [23, 26],\n",
       "  28: [24, 25],\n",
       "  35: [27],\n",
       "  31: [28, 29],\n",
       "  37: [30, 32],\n",
       "  40: [31]},\n",
       " {2: [1, 8],\n",
       "  1: [2, 3],\n",
       "  3: [4, 6],\n",
       "  0: [5],\n",
       "  5: [7],\n",
       "  4: [9, 12, 13],\n",
       "  7: [10, 14],\n",
       "  6: [11, 15],\n",
       "  13: [16],\n",
       "  15: [17, 18, 21],\n",
       "  11: [19],\n",
       "  16: [20],\n",
       "  20: [22, 24],\n",
       "  17: [23],\n",
       "  22: [25, 31],\n",
       "  23: [26, 30],\n",
       "  19: [27],\n",
       "  25: [28],\n",
       "  27: [29, 32]})"
      ]
     },
     "execution_count": 61,
     "metadata": {},
     "output_type": "execute_result"
    }
   ],
   "source": [
    "ad_d, su_d"
   ]
  },
  {
   "cell_type": "code",
   "execution_count": null,
   "metadata": {},
   "outputs": [],
   "source": [
    "# サンプルが合わない"
   ]
  },
  {
   "cell_type": "code",
   "execution_count": 35,
   "metadata": {},
   "outputs": [],
   "source": [
    "ad = []\n",
    "su = []\n",
    "for i, A in enumerate(An, 1):\n",
    "    ad.append(abs(i+A))\n",
    "    su.append(abs(i-A))"
   ]
  },
  {
   "cell_type": "code",
   "execution_count": 36,
   "metadata": {},
   "outputs": [],
   "source": [
    "ad_c = collections.Counter(ad)\n",
    "su_c = collections.Counter(su)\n",
    "ans = 0\n",
    "for k, v in su_c.items():\n",
    "    if k in ad_c:\n",
    "        ans += v * ad_c[k]"
   ]
  },
  {
   "cell_type": "code",
   "execution_count": 37,
   "metadata": {},
   "outputs": [
    {
     "name": "stdout",
     "output_type": "stream",
     "text": [
      "23\n"
     ]
    }
   ],
   "source": [
    "print(ans)"
   ]
  },
  {
   "cell_type": "code",
   "execution_count": 39,
   "metadata": {},
   "outputs": [],
   "source": [
    "# ad, su"
   ]
  },
  {
   "cell_type": "code",
   "execution_count": 42,
   "metadata": {},
   "outputs": [],
   "source": [
    "d = {}\n",
    "d[1] = [1,]\n",
    "d[1].append(2)"
   ]
  },
  {
   "cell_type": "code",
   "execution_count": 43,
   "metadata": {},
   "outputs": [
    {
     "data": {
      "text/plain": [
       "{1: [1, 2]}"
      ]
     },
     "execution_count": 43,
     "metadata": {},
     "output_type": "execute_result"
    }
   ],
   "source": [
    "d"
   ]
  },
  {
   "cell_type": "code",
   "execution_count": null,
   "metadata": {},
   "outputs": [],
   "source": []
  }
 ],
 "metadata": {
  "kernelspec": {
   "display_name": "Python 3",
   "language": "python",
   "name": "python3"
  },
  "language_info": {
   "codemirror_mode": {
    "name": "ipython",
    "version": 3
   },
   "file_extension": ".py",
   "mimetype": "text/x-python",
   "name": "python",
   "nbconvert_exporter": "python",
   "pygments_lexer": "ipython3",
   "version": "3.6.10"
  }
 },
 "nbformat": 4,
 "nbformat_minor": 4
}
