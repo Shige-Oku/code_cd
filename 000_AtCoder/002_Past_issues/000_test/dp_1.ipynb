{
 "cells": [
  {
   "cell_type": "markdown",
   "metadata": {},
   "source": [
    "# 動的計画法 受け取るほうで  \n",
    "# 問題文\n",
    "N 個の足場があって、i 番目の足場の高さは hi です。  \n",
    "最初、足場 1 にカエルがいて、ぴょんぴょん跳ねながら足場 N へと向かいます。カエルは足場 i にいるときに  \n",
    "・足場 i から足場 i + 1 へと移動する (そのコストは|hi−hi+1|)  \n",
    "・足場 i から足場 i + 2 へと移動する (そのコストは |hi−hi+2|)  \n",
    "のいずれかの行動を選べます。カエルが足場 1 から足場 N へと移動するのに必要な最小コストを求めよ。  \n"
   ]
  },
  {
   "cell_type": "code",
   "execution_count": 1,
   "metadata": {},
   "outputs": [],
   "source": [
    "import sys\n",
    "import numpy as np"
   ]
  },
  {
   "cell_type": "code",
   "execution_count": 2,
   "metadata": {},
   "outputs": [
    {
     "name": "stdin",
     "output_type": "stream",
     "text": [
      " 7\n"
     ]
    }
   ],
   "source": [
    "# n ノード数\n",
    "n = int(input())"
   ]
  },
  {
   "cell_type": "code",
   "execution_count": 3,
   "metadata": {},
   "outputs": [
    {
     "name": "stdin",
     "output_type": "stream",
     "text": [
      " 2 9 4 5 1 6 10\n"
     ]
    }
   ],
   "source": [
    "# h 各ノードの高さ\n",
    "h = np.array(list(map(int, input().split())))"
   ]
  },
  {
   "cell_type": "code",
   "execution_count": 21,
   "metadata": {},
   "outputs": [],
   "source": [
    "dp = np.repeat([100000000,], n+10)"
   ]
  },
  {
   "cell_type": "code",
   "execution_count": 22,
   "metadata": {},
   "outputs": [],
   "source": [
    "# 初期化\n",
    "# 開始位置は 0 に初期化\n",
    "dp[0] = 0\n",
    "# ２ノード目は1番目からしか来ない\n",
    "dp[1] = abs(h[1]-h[0])"
   ]
  },
  {
   "cell_type": "code",
   "execution_count": 23,
   "metadata": {},
   "outputs": [],
   "source": [
    "def retmin(a, b):\n",
    "    if (a > b):\n",
    "        return b\n",
    "    return a"
   ]
  },
  {
   "cell_type": "code",
   "execution_count": 24,
   "metadata": {},
   "outputs": [],
   "source": [
    "for i in range(2, n):\n",
    "    # １つ手前からのコスト\n",
    "    dp[i] = retmin(dp[i], dp[i-1] + abs(h[i]-h[i-1]))\n",
    "    # ２つ手前からのコスト\n",
    "    dp[i] = retmin(dp[i], dp[i-2] + abs(h[i]-h[i-2]))"
   ]
  },
  {
   "cell_type": "code",
   "execution_count": 26,
   "metadata": {},
   "outputs": [
    {
     "name": "stdout",
     "output_type": "stream",
     "text": [
      "8\n"
     ]
    }
   ],
   "source": [
    "print(dp[n-1])"
   ]
  },
  {
   "cell_type": "code",
   "execution_count": null,
   "metadata": {},
   "outputs": [],
   "source": []
  }
 ],
 "metadata": {
  "kernelspec": {
   "display_name": "Python 3",
   "language": "python",
   "name": "python3"
  },
  "language_info": {
   "codemirror_mode": {
    "name": "ipython",
    "version": 3
   },
   "file_extension": ".py",
   "mimetype": "text/x-python",
   "name": "python",
   "nbconvert_exporter": "python",
   "pygments_lexer": "ipython3",
   "version": "3.6.7"
  }
 },
 "nbformat": 4,
 "nbformat_minor": 2
}
