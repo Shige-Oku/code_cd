{
 "cells": [
  {
   "cell_type": "code",
   "execution_count": 17,
   "metadata": {},
   "outputs": [
    {
     "name": "stdin",
     "output_type": "stream",
     "text": [
      " 4 1\n"
     ]
    }
   ],
   "source": [
    "N, M = map(int, input().split())"
   ]
  },
  {
   "cell_type": "code",
   "execution_count": 18,
   "metadata": {},
   "outputs": [
    {
     "name": "stdin",
     "output_type": "stream",
     "text": [
      " ....\n",
      " ....\n",
      " ....\n",
      " ....\n"
     ]
    }
   ],
   "source": [
    "An = [input() for _ in range(N)]"
   ]
  },
  {
   "cell_type": "code",
   "execution_count": 19,
   "metadata": {},
   "outputs": [
    {
     "name": "stdin",
     "output_type": "stream",
     "text": [
      " #\n"
     ]
    }
   ],
   "source": [
    "Bn = [input() for _ in range(M)]"
   ]
  },
  {
   "cell_type": "code",
   "execution_count": 24,
   "metadata": {},
   "outputs": [
    {
     "name": "stdout",
     "output_type": "stream",
     "text": [
      "0 0\n",
      "# .\n",
      "0 1\n",
      "# .\n",
      "0 2\n",
      "# .\n",
      "0 3\n",
      "# .\n",
      "1 0\n",
      "# .\n",
      "1 1\n",
      "# .\n",
      "1 2\n",
      "# .\n",
      "1 3\n",
      "# .\n",
      "2 0\n",
      "# .\n",
      "2 1\n",
      "# .\n",
      "2 2\n",
      "# .\n",
      "2 3\n",
      "# .\n",
      "3 0\n",
      "# .\n",
      "3 1\n",
      "# .\n",
      "3 2\n",
      "# .\n",
      "3 3\n",
      "# .\n"
     ]
    }
   ],
   "source": [
    "flg = False\n",
    "for i in range(N-M+1):\n",
    "    for j in range(N-M+1):\n",
    "#         print(i, j)\n",
    "#         print(Bn[0], An[i][j:j+M])\n",
    "        if Bn[0] != An[i][j:j+M]:\n",
    "            continue\n",
    "        for k in range(M):\n",
    "            if Bn[k] != An[i+k][j:j+M]:\n",
    "                break\n",
    "        else:\n",
    "            flg = True"
   ]
  },
  {
   "cell_type": "code",
   "execution_count": 25,
   "metadata": {},
   "outputs": [
    {
     "name": "stdout",
     "output_type": "stream",
     "text": [
      "No\n"
     ]
    }
   ],
   "source": [
    "if flg:\n",
    "    print(\"Yes\")\n",
    "else:\n",
    "    print(\"No\")"
   ]
  },
  {
   "cell_type": "code",
   "execution_count": 4,
   "metadata": {},
   "outputs": [
    {
     "data": {
      "text/plain": [
       "6250000"
      ]
     },
     "execution_count": 4,
     "metadata": {},
     "output_type": "execute_result"
    }
   ],
   "source": [
    "50**4"
   ]
  },
  {
   "cell_type": "code",
   "execution_count": null,
   "metadata": {},
   "outputs": [],
   "source": []
  }
 ],
 "metadata": {
  "kernelspec": {
   "display_name": "Python 3",
   "language": "python",
   "name": "python3"
  },
  "language_info": {
   "codemirror_mode": {
    "name": "ipython",
    "version": 3
   },
   "file_extension": ".py",
   "mimetype": "text/x-python",
   "name": "python",
   "nbconvert_exporter": "python",
   "pygments_lexer": "ipython3",
   "version": "3.6.10"
  }
 },
 "nbformat": 4,
 "nbformat_minor": 4
}
