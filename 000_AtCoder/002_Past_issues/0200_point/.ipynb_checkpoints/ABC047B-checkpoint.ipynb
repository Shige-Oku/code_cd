{
 "cells": [
  {
   "cell_type": "markdown",
   "metadata": {},
   "source": [
    "# 問題文\n",
    "xy  平面上に、左下の座標が (0,0)、右上の座標が (W,H) で、各辺が x 軸か y 軸に平行な長方形があります。  \n",
    "最初、長方形の内部は白く塗られています。  \n",
    "すぬけ君はこの長方形の中に N 個の点を打ちました。  \n",
    "i 個目 (1≦i≦N) 点の座標は (xi,yi) でした。  \n",
    "また、すぬけ君は長さ N の数列 a を決めて、各 1≦i≦N に対し、  \n",
    "  ・ai=1  のときは長方形の x < xi をみたす領域  \n",
    "  ・ai=2  のときは長方形の x > xi をみたす領域  \n",
    "  ・ai=3  のときは長方形の y < yi をみたす領域  \n",
    "  ・ai=4  のときは長方形の y > yi をみたす領域  \n",
    "を黒く塗りました。  \n",
    "塗りつぶしが終わったあとの長方形内での白い部分の面積を求めてください。  \n",
    "\n",
    "# 制約\n",
    "  ・1 ≦ W, H≦ 100  \n",
    "  ・1 ≦ N ≦ 100  \n",
    "  ・0 ≦ xi ≦ W (1 ≦ i ≦ N)  \n",
    "  ・0 ≦ yi ≦ H  (1 ≦ i≦ N)  \n",
    "  ・W , H (21:32 追記), xi, yi は整数である  \n",
    "  ・ai  (1 ≦ i ≦ N) は 1,2,3,4 のいずれかである"
   ]
  },
  {
   "cell_type": "code",
   "execution_count": null,
   "metadata": {},
   "outputs": [],
   "source": []
  }
 ],
 "metadata": {
  "kernelspec": {
   "display_name": "Python 3",
   "language": "python",
   "name": "python3"
  },
  "language_info": {
   "codemirror_mode": {
    "name": "ipython",
    "version": 3
   },
   "file_extension": ".py",
   "mimetype": "text/x-python",
   "name": "python",
   "nbconvert_exporter": "python",
   "pygments_lexer": "ipython3",
   "version": "3.6.7"
  }
 },
 "nbformat": 4,
 "nbformat_minor": 2
}
