{
 "cells": [
  {
   "cell_type": "markdown",
   "metadata": {},
   "source": [
    "# 問題文\n",
    "いろはちゃんは 長さ L の文字列を N 個持っており、それぞれ S1,S2,...,SN です。  \n",
    "それらの文字列を好きな順番で全て結合してできる文字列のうち、もっとも辞書順で小さいものを求めてください。  \n",
    "なお、ある文字列 s = s1s2s3...sn と t = t1t2t3...tm について、以下のどちらかを満たすとき、辞書順比較で s < t であるといいます。  \n",
    " ・ある整数 i(1 ≦ i ≦ min(n, m)) に関して、 1 ≦ j < i を満たす任意の整数 j において sj = tj が成立し、かつ si < ti が成立する。  \n",
    " ・任意の整数 i(1 ≦ i ≦ min(n, m)) に関して si = ti が成立し、かつ n < m が成立する。  \n",
    "\n",
    "# 制約\n",
    " ・1 ≦ N, L ≦ 100  \n",
    " ・全ての i(1 ≦ i ≦ N) に対し、Si の長さは L に等しい。  \n",
    " ・各 i について, Si は全て半角英小文字のみから成る文字列である。"
   ]
  },
  {
   "cell_type": "code",
   "execution_count": 15,
   "metadata": {},
   "outputs": [],
   "source": [
    "import sys"
   ]
  },
  {
   "cell_type": "code",
   "execution_count": 16,
   "metadata": {},
   "outputs": [
    {
     "name": "stdin",
     "output_type": "stream",
     "text": [
      " 3 3\n"
     ]
    }
   ],
   "source": [
    "# N L 文字列数と文字列長\n",
    "n, l = map(int, input().split())"
   ]
  },
  {
   "cell_type": "code",
   "execution_count": 17,
   "metadata": {},
   "outputs": [],
   "source": [
    "s = []"
   ]
  },
  {
   "cell_type": "code",
   "execution_count": 18,
   "metadata": {},
   "outputs": [
    {
     "name": "stdin",
     "output_type": "stream",
     "text": [
      " abc xyz hjk\n",
      " zzz\n",
      " kkk\n"
     ]
    }
   ],
   "source": [
    "# S1, S2 ... Sn\n",
    "for i in range(n):\n",
    "    s.append(input())"
   ]
  },
  {
   "cell_type": "code",
   "execution_count": 19,
   "metadata": {},
   "outputs": [],
   "source": [
    "# ソート\n",
    "s.sort()"
   ]
  },
  {
   "cell_type": "code",
   "execution_count": 20,
   "metadata": {},
   "outputs": [
    {
     "name": "stdout",
     "output_type": "stream",
     "text": [
      "abc xyz hjkkkkzzz\n"
     ]
    }
   ],
   "source": [
    "# 要素を連結\n",
    "print(\"\".join(s))"
   ]
  },
  {
   "cell_type": "code",
   "execution_count": null,
   "metadata": {},
   "outputs": [],
   "source": []
  }
 ],
 "metadata": {
  "kernelspec": {
   "display_name": "Python 3",
   "language": "python",
   "name": "python3"
  },
  "language_info": {
   "codemirror_mode": {
    "name": "ipython",
    "version": 3
   },
   "file_extension": ".py",
   "mimetype": "text/x-python",
   "name": "python",
   "nbconvert_exporter": "python",
   "pygments_lexer": "ipython3",
   "version": "3.6.7"
  }
 },
 "nbformat": 4,
 "nbformat_minor": 2
}
