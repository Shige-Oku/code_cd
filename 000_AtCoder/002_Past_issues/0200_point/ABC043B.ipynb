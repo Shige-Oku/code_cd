{
 "cells": [
  {
   "cell_type": "markdown",
   "metadata": {},
   "source": [
    "# 問題文\n",
    "しぐはキーボードを製作しました。シンプルさを極限まで追求したこのキーボードには、0 キー、1 キー、バックスペースキーの \n",
    "3 つしかキーがありません。  \n",
    "手始めに、しぐはこのキーボードで簡単なテキストエディタを操作してみることにしました。  \n",
    "このエディタには常に一つの文字列が表示されます（文字列が空のこともあります）。  \n",
    "エディタを起動した直後では、文字列は空です。キーボードの各キーを押すと、文字列が次のように変化します。  \n",
    " ・0 キー: 文字列の右端に文字 0 が挿入される。\n",
    " ・1 キー: 文字列の右端に文字 1 が挿入される。\n",
    " ・バックスペースキー: 文字列が空なら、何も起こらない。そうでなければ、文字列の右端の 1 文字が削除される。  \n",
    "しぐはエディタを起動し、これらのキーを何回か押しました。しぐが押したキーを順番に記録した文字列 s が与えられます。  \n",
    "s の中の文字 0 は 0 キー、文字 1 は 1 キー、文字 B はバックスペースキーを表します。いま、エディタの画面にはどのような文字列が表示されているでしょうか？  \n",
    "\n",
    "# 制約\n",
    " ・1 ≦ |s| ≦ 10  (|s| は s の長さを表す)  \n",
    " ・s は文字 0, 1, B のみからなる。  \n",
    " ・正解は空文字列ではない。"
   ]
  },
  {
   "cell_type": "code",
   "execution_count": 1,
   "metadata": {},
   "outputs": [],
   "source": [
    "import sys"
   ]
  },
  {
   "cell_type": "code",
   "execution_count": 14,
   "metadata": {},
   "outputs": [
    {
     "name": "stdin",
     "output_type": "stream",
     "text": [
      " 0001\n"
     ]
    }
   ],
   "source": [
    "# キー入力\n",
    "key = input()"
   ]
  },
  {
   "cell_type": "code",
   "execution_count": 15,
   "metadata": {},
   "outputs": [],
   "source": [
    "display = \"\"\n",
    "for i in key:\n",
    "    if i == '0':\n",
    "        # '0'を追加\n",
    "        display += '0'\n",
    "    if i == '1':\n",
    "        # '1'を追加\n",
    "        display += '1'\n",
    "    if i == 'B':\n",
    "        # 一番後ろの文字を削除\n",
    "        display = display[:-1]"
   ]
  },
  {
   "cell_type": "code",
   "execution_count": 16,
   "metadata": {},
   "outputs": [
    {
     "name": "stdout",
     "output_type": "stream",
     "text": [
      "0001\n"
     ]
    }
   ],
   "source": [
    "print(display)"
   ]
  },
  {
   "cell_type": "code",
   "execution_count": null,
   "metadata": {},
   "outputs": [],
   "source": []
  }
 ],
 "metadata": {
  "kernelspec": {
   "display_name": "Python 3",
   "language": "python",
   "name": "python3"
  },
  "language_info": {
   "codemirror_mode": {
    "name": "ipython",
    "version": 3
   },
   "file_extension": ".py",
   "mimetype": "text/x-python",
   "name": "python",
   "nbconvert_exporter": "python",
   "pygments_lexer": "ipython3",
   "version": "3.6.7"
  }
 },
 "nbformat": 4,
 "nbformat_minor": 2
}
