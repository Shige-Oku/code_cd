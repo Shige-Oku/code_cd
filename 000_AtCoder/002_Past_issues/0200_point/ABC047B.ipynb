{
 "cells": [
  {
   "cell_type": "markdown",
   "metadata": {},
   "source": [
    "# 問題文\n",
    "xy  平面上に、左下の座標が (0, 0)、右上の座標が (W, H) で、各辺が x 軸か y 軸に平行な長方形があります。  \n",
    "最初、長方形の内部は白く塗られています。  \n",
    "すぬけ君はこの長方形の中に N 個の点を打ちました。  \n",
    "i 個目 (1 ≦ i ≦ N) 点の座標は (xi, yi) でした。  \n",
    "また、すぬけ君は長さ N の数列 a を決めて、各 1 ≦ i ≦ N に対し、  \n",
    "  ・ai=1  のときは長方形の x < xi をみたす領域  \n",
    "  ・ai=2  のときは長方形の x > xi をみたす領域  \n",
    "  ・ai=3  のときは長方形の y < yi をみたす領域  \n",
    "  ・ai=4  のときは長方形の y > yi をみたす領域  \n",
    "を黒く塗りました。  \n",
    "塗りつぶしが終わったあとの長方形内での白い部分の面積を求めてください。  \n",
    "\n",
    "# 制約\n",
    "  ・1 ≦ W, H ≦ 100  \n",
    "  ・1 ≦ N ≦ 100  \n",
    "  ・0 ≦ xi ≦ W (1 ≦ i ≦ N)  \n",
    "  ・0 ≦ yi ≦ H  (1 ≦ i≦ N)  \n",
    "  ・W , H (21:32 追記), xi, yi は整数である  \n",
    "  ・ai  (1 ≦ i ≦ N) は 1, 2, 3, 4 のいずれかである"
   ]
  },
  {
   "cell_type": "code",
   "execution_count": 1,
   "metadata": {},
   "outputs": [],
   "source": [
    "import sys"
   ]
  },
  {
   "cell_type": "code",
   "execution_count": 10,
   "metadata": {},
   "outputs": [
    {
     "name": "stdin",
     "output_type": "stream",
     "text": [
      " 5 4 3\n"
     ]
    }
   ],
   "source": [
    "# W H N X軸の最大、Y軸の最大、点の個数\n",
    "w, h, n = map(int, input().split())"
   ]
  },
  {
   "cell_type": "code",
   "execution_count": 11,
   "metadata": {},
   "outputs": [
    {
     "name": "stdin",
     "output_type": "stream",
     "text": [
      " 2 1 1\n",
      " 3 3 4\n",
      " 1 4 2\n"
     ]
    }
   ],
   "source": [
    "# xi, yi, ai 点のX座標、Y座標、処理\n",
    "list = []\n",
    "for i in range(n):\n",
    "    xi, yi, ai = map(int, input().split())\n",
    "    list.append([xi, yi, ai])"
   ]
  },
  {
   "cell_type": "code",
   "execution_count": 12,
   "metadata": {},
   "outputs": [
    {
     "data": {
      "text/plain": [
       "[[2, 1, 1], [3, 3, 4], [1, 4, 2]]"
      ]
     },
     "execution_count": 12,
     "metadata": {},
     "output_type": "execute_result"
    }
   ],
   "source": [
    "list"
   ]
  },
  {
   "cell_type": "code",
   "execution_count": 13,
   "metadata": {},
   "outputs": [],
   "source": [
    "# 白で残っている座標初期化\n",
    "x_min, y_min = 0, 0\n",
    "x_max, y_max = w, h"
   ]
  },
  {
   "cell_type": "code",
   "execution_count": 14,
   "metadata": {},
   "outputs": [],
   "source": [
    "for list_1 in list:\n",
    "    # 処理が 1 なら X軸最小より大きければ入れ替える\n",
    "    if list_1[2] == 1:\n",
    "        if x_min < list_1[0]:\n",
    "            x_min = list_1[0]\n",
    "    # 処理が 2 なら X軸最大より小さければ入れ替える\n",
    "    if list_1[2] == 2:\n",
    "        if x_max > list_1[0]:\n",
    "            x_max = list_1[0]\n",
    "    # 処理が 3 なら Y軸最小より大きければ入れ替える\n",
    "    if list_1[2] == 3:\n",
    "        if y_min < list_1[1]:\n",
    "            y_min = list_1[1]\n",
    "    # 処理が 2 なら X軸最大より小さければ入れ替える\n",
    "    if list_1[2] == 4:\n",
    "        if y_max > list_1[1]:\n",
    "            y_max = list_1[1]"
   ]
  },
  {
   "cell_type": "code",
   "execution_count": 15,
   "metadata": {},
   "outputs": [
    {
     "data": {
      "text/plain": [
       "(2, 1, 0, 3)"
      ]
     },
     "execution_count": 15,
     "metadata": {},
     "output_type": "execute_result"
    }
   ],
   "source": [
    "x_min, x_max, y_min, y_max"
   ]
  },
  {
   "cell_type": "code",
   "execution_count": 17,
   "metadata": {},
   "outputs": [
    {
     "name": "stdout",
     "output_type": "stream",
     "text": [
      "0\n"
     ]
    }
   ],
   "source": [
    "# 残った面積は (X最大 - X最小) * (Y最大 - Y最小)\n",
    "area = (x_max - x_min) * (y_max - y_min)\n",
    "if (x_max - x_min) > 0 and (y_max - y_min) > 0:\n",
    "    print(area)\n",
    "else:\n",
    "    print(0)"
   ]
  },
  {
   "cell_type": "code",
   "execution_count": null,
   "metadata": {},
   "outputs": [],
   "source": []
  }
 ],
 "metadata": {
  "kernelspec": {
   "display_name": "Python 3",
   "language": "python",
   "name": "python3"
  },
  "language_info": {
   "codemirror_mode": {
    "name": "ipython",
    "version": 3
   },
   "file_extension": ".py",
   "mimetype": "text/x-python",
   "name": "python",
   "nbconvert_exporter": "python",
   "pygments_lexer": "ipython3",
   "version": "3.6.7"
  }
 },
 "nbformat": 4,
 "nbformat_minor": 2
}
