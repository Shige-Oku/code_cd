{
 "cells": [
  {
   "cell_type": "markdown",
   "metadata": {},
   "source": [
    "# 問題文\n",
    "w  を、英小文字のみからなる文字列とします。   \n",
    "w が以下の条件を満たすならば、w を美しい文字列と呼ぶことにします。  \n",
    "　・どの英小文字も、w 中に偶数回出現する。  \n",
    "文字列 w が与えられます。w が美しい文字列かどうか判定してください。  \n",
    "\n",
    "# 制約\n",
    "　・1 ≤ |w| ≤ 100  \n",
    "　・w  は英小文字 (a-z) のみからなる文字列である"
   ]
  },
  {
   "cell_type": "code",
   "execution_count": 1,
   "metadata": {},
   "outputs": [],
   "source": [
    "import sys\n",
    "import numpy as np"
   ]
  },
  {
   "cell_type": "code",
   "execution_count": 7,
   "metadata": {},
   "outputs": [
    {
     "name": "stdin",
     "output_type": "stream",
     "text": [
      " hthth\n"
     ]
    }
   ],
   "source": [
    "# w 判定する文字列取得\n",
    "w = input()"
   ]
  },
  {
   "cell_type": "code",
   "execution_count": 8,
   "metadata": {},
   "outputs": [],
   "source": [
    "char_cnt = np.zeros(27)"
   ]
  },
  {
   "cell_type": "code",
   "execution_count": 9,
   "metadata": {},
   "outputs": [],
   "source": [
    "for c in w:\n",
    "    # アスキーコードで'a'からの変位を取得\n",
    "    i = ord(c) - ord('a')\n",
    "    # 出現した文字数をカントアップ\n",
    "    char_cnt[i] += 1\n"
   ]
  },
  {
   "cell_type": "code",
   "execution_count": 10,
   "metadata": {},
   "outputs": [],
   "source": [
    "# 2で割った余りを求める\n",
    "char_mod = char_cnt % 2"
   ]
  },
  {
   "cell_type": "code",
   "execution_count": 11,
   "metadata": {},
   "outputs": [
    {
     "name": "stdout",
     "output_type": "stream",
     "text": [
      "No\n"
     ]
    }
   ],
   "source": [
    "if char_mod.sum() == 0:\n",
    "    # 余りの合計が 0 なら美しい\n",
    "    print(\"Yes\")\n",
    "else:\n",
    "    print(\"No\")"
   ]
  },
  {
   "cell_type": "code",
   "execution_count": null,
   "metadata": {},
   "outputs": [],
   "source": []
  }
 ],
 "metadata": {
  "kernelspec": {
   "display_name": "Python 3",
   "language": "python",
   "name": "python3"
  },
  "language_info": {
   "codemirror_mode": {
    "name": "ipython",
    "version": 3
   },
   "file_extension": ".py",
   "mimetype": "text/x-python",
   "name": "python",
   "nbconvert_exporter": "python",
   "pygments_lexer": "ipython3",
   "version": "3.6.7"
  }
 },
 "nbformat": 4,
 "nbformat_minor": 2
}
