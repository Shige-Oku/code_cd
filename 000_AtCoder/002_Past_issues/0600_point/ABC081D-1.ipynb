{
 "cells": [
  {
   "cell_type": "code",
   "execution_count": null,
   "id": "0c1d71fb-20ed-4341-a19e-052bd5b036b1",
   "metadata": {},
   "outputs": [],
   "source": [
    "# WA"
   ]
  },
  {
   "cell_type": "code",
   "execution_count": 1,
   "id": "ab826006-56dd-4ced-a72c-f1331dda8f40",
   "metadata": {},
   "outputs": [],
   "source": [
    "import sys\n",
    "import numpy as np\n",
    "import math\n",
    "import collections\n",
    "import copy\n",
    "import decimal\n",
    "import itertools\n",
    "import re\n",
    "import bisect\n",
    "import scipy\n",
    "import heapq\n",
    "from collections import deque \n",
    "from functools import reduce\n",
    "from itertools import product\n",
    "from itertools import combinations\n",
    "from itertools import chain\n",
    "from functools import lru_cache\n",
    "from scipy.special import comb\n",
    "from numba import njit\n",
    "from bisect import bisect_right\n",
    "from bisect import bisect_left"
   ]
  },
  {
   "cell_type": "code",
   "execution_count": 49,
   "id": "294e0ff3-9d6d-4d07-a14f-44bdf4b204db",
   "metadata": {},
   "outputs": [
    {
     "name": "stdin",
     "output_type": "stream",
     "text": [
      " 5\n"
     ]
    }
   ],
   "source": [
    "N = int(input())"
   ]
  },
  {
   "cell_type": "code",
   "execution_count": 50,
   "id": "643586bb-cf35-4a9a-9fec-ae118337bee7",
   "metadata": {},
   "outputs": [
    {
     "name": "stdin",
     "output_type": "stream",
     "text": [
      " 0 0 0 0 0\n"
     ]
    }
   ],
   "source": [
    "An = list(map(int, input().split()))"
   ]
  },
  {
   "cell_type": "code",
   "execution_count": 51,
   "id": "ade5d61b-80b4-47ee-924e-153a86cec8b4",
   "metadata": {},
   "outputs": [],
   "source": [
    "ma = -1 * 10**10\n",
    "ma_idx = 0\n",
    "mi = 10**10\n",
    "mi_idx = 0\n",
    "for i, A in enumerate(An):\n",
    "    if A > ma:\n",
    "        ma = A\n",
    "        ma_idx = i\n",
    "    if A < mi:\n",
    "        mi = A\n",
    "        mi_idx = i"
   ]
  },
  {
   "cell_type": "code",
   "execution_count": 52,
   "id": "f57715a0-d854-448f-a1e7-56f90e60fa5e",
   "metadata": {},
   "outputs": [],
   "source": [
    "ope = []\n",
    "An2 = copy.deepcopy(An)\n",
    "if ma > 0:\n",
    "    for i in range(1, N):\n",
    "        if An2[i] >= An2[i-1]:\n",
    "            continue\n",
    "        while An2[i-1] > An2[i]:\n",
    "            An2[i] += ma\n",
    "            ope.append((ma_idx+1, i+1))\n",
    "            if An2[i] > ma:\n",
    "                ma = An2[i]\n",
    "                ma_idx = i\n",
    "else:\n",
    "    for i in range(N-2, -1, -1):\n",
    "        if An2[i] <= An2[i+1]:\n",
    "            continue\n",
    "        while An2[i+1] < An2[i]:\n",
    "            An2[i] += mi\n",
    "            ope.append((mi_idx+1, i+1))\n",
    "            if An2[i] < mi:\n",
    "                mi = An2[i]\n",
    "                mi_idx = i\n",
    "    "
   ]
  },
  {
   "cell_type": "code",
   "execution_count": 53,
   "id": "7108bc6b-e207-4b90-b4fb-2cd60c13a49d",
   "metadata": {},
   "outputs": [
    {
     "name": "stdout",
     "output_type": "stream",
     "text": [
      "0\n"
     ]
    }
   ],
   "source": [
    "print(len(ope))\n",
    "for a, b in ope:\n",
    "    print(a, b)"
   ]
  },
  {
   "cell_type": "code",
   "execution_count": 42,
   "id": "87060834-f92f-4060-b93e-e61644acf183",
   "metadata": {},
   "outputs": [
    {
     "data": {
      "text/plain": [
       "(3, 1, 1, 1)"
      ]
     },
     "execution_count": 42,
     "metadata": {},
     "output_type": "execute_result"
    }
   ],
   "source": [
    "ma, ma_idx, mi, mi_idx"
   ]
  },
  {
   "cell_type": "code",
   "execution_count": 30,
   "id": "0fc7a7ce-25c8-4a3a-824e-d853e3d5ed54",
   "metadata": {},
   "outputs": [
    {
     "data": {
      "text/plain": [
       "[-2, 5, 9]"
      ]
     },
     "execution_count": 30,
     "metadata": {},
     "output_type": "execute_result"
    }
   ],
   "source": [
    "An2"
   ]
  },
  {
   "cell_type": "code",
   "execution_count": 31,
   "id": "2865775d-7f47-4eef-a6ff-a8816454c6e0",
   "metadata": {},
   "outputs": [
    {
     "data": {
      "text/plain": [
       "[(2, 3), (2, 3)]"
      ]
     },
     "execution_count": 31,
     "metadata": {},
     "output_type": "execute_result"
    }
   ],
   "source": [
    "ope"
   ]
  },
  {
   "cell_type": "code",
   "execution_count": null,
   "id": "4a5c47d5-f27e-480a-8ffe-9f7280241a13",
   "metadata": {},
   "outputs": [],
   "source": []
  }
 ],
 "metadata": {
  "kernelspec": {
   "display_name": "Python 3",
   "language": "python",
   "name": "python3"
  },
  "language_info": {
   "codemirror_mode": {
    "name": "ipython",
    "version": 3
   },
   "file_extension": ".py",
   "mimetype": "text/x-python",
   "name": "python",
   "nbconvert_exporter": "python",
   "pygments_lexer": "ipython3",
   "version": "3.6.13"
  }
 },
 "nbformat": 4,
 "nbformat_minor": 5
}
