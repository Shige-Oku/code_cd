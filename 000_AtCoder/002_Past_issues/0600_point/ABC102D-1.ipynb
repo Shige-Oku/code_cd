{
 "cells": [
  {
   "cell_type": "code",
   "execution_count": null,
   "id": "19c55aad-bbca-487b-b153-23f164dc7036",
   "metadata": {},
   "outputs": [],
   "source": [
    "# 解説を読んで実装"
   ]
  },
  {
   "cell_type": "code",
   "execution_count": 1,
   "id": "0cc216a6-1fe3-4177-9953-1dc859eda25c",
   "metadata": {},
   "outputs": [],
   "source": [
    "import sys\n",
    "import numpy as np\n",
    "import math\n",
    "import collections\n",
    "import copy\n",
    "import decimal\n",
    "import itertools\n",
    "import re\n",
    "import bisect\n",
    "import scipy\n",
    "import heapq\n",
    "from collections import deque \n",
    "from functools import reduce\n",
    "from itertools import product\n",
    "from itertools import combinations\n",
    "from itertools import chain\n",
    "from functools import lru_cache\n",
    "from scipy.special import comb\n",
    "from numba import njit\n",
    "from bisect import bisect_right\n",
    "from bisect import bisect_left"
   ]
  },
  {
   "cell_type": "code",
   "execution_count": 85,
   "id": "52a1223a-4499-41d0-abf8-d6813f448c48",
   "metadata": {},
   "outputs": [
    {
     "name": "stdin",
     "output_type": "stream",
     "text": [
      " 10\n"
     ]
    }
   ],
   "source": [
    "N = int(input())"
   ]
  },
  {
   "cell_type": "code",
   "execution_count": 86,
   "id": "308cf778-373c-47ca-970a-d77d4fab1fc6",
   "metadata": {},
   "outputs": [
    {
     "name": "stdin",
     "output_type": "stream",
     "text": [
      " 10 71 84 33 6 47 23 25 52 64\n"
     ]
    }
   ],
   "source": [
    "An = list(map(int, input().split()))"
   ]
  },
  {
   "cell_type": "code",
   "execution_count": 87,
   "id": "b7d2c593-fec4-47c3-a109-a07df2dc5be7",
   "metadata": {},
   "outputs": [],
   "source": [
    "An_cum = [0, ]\n",
    "for A in An:\n",
    "    An_cum.append(An_cum[-1] + A)"
   ]
  },
  {
   "cell_type": "code",
   "execution_count": 90,
   "id": "c0b9a0ca-667c-48c3-b7a1-60c9b233cfdc",
   "metadata": {},
   "outputs": [
    {
     "name": "stdout",
     "output_type": "stream",
     "text": [
      "2 10 71 170 164 160\n",
      "3 81 84 134 116 53\n",
      "4 81 117 101 116 36\n",
      "5 81 123 95 116 36\n",
      "6 165 86 100 64 36\n",
      "7 165 109 77 64 36\n",
      "8 165 134 52 64 36\n"
     ]
    }
   ],
   "source": [
    "ans = 10**20\n",
    "li = 1\n",
    "ri = 3\n",
    "for i in range(2, N-1):\n",
    "    li -= 1\n",
    "    ri -= 1\n",
    "    P = An_cum[li]\n",
    "    Q = An_cum[i] - An_cum[li] \n",
    "    lmi = abs(Q-P)\n",
    "    while li <= i-1:\n",
    "        if lmi > abs(An_cum[i] - An_cum[li] - An_cum[li]):\n",
    "            P = An_cum[li]\n",
    "            Q = An_cum[i] - An_cum[li]\n",
    "            lmi = abs(Q-P)\n",
    "#         print(i, li, P, Q)\n",
    "        if An_cum[li] > An_cum[i]-An_cum[li]:\n",
    "            break\n",
    "        li += 1\n",
    "    \n",
    "    R = An_cum[ri] - An_cum[i]\n",
    "    S = An_cum[N] - An_cum[ri]\n",
    "    rmi = abs(S-R)\n",
    "    while ri <= N-1:\n",
    "        if rmi > abs(An_cum[N] - An_cum[ri] - (An_cum[ri] - An_cum[i])):\n",
    "            R = An_cum[ri] - An_cum[i]\n",
    "            S = An_cum[N] - An_cum[ri]\n",
    "            rmi = abs(S-R)\n",
    "#         print(ri, R, S)\n",
    "        if An_cum[ri] - An_cum[i] > An_cum[N]-An_cum[ri]:\n",
    "            break\n",
    "        ri += 1\n",
    "    ans = min(ans, max(P, Q, R, S)-min(P, Q, R, S))\n",
    "    print(i, P, Q, R, S, ans)\n",
    "#     print(sum((P, Q, R, S)))"
   ]
  },
  {
   "cell_type": "code",
   "execution_count": 89,
   "id": "7ba94e48-fddf-4af4-bafc-25e98111535d",
   "metadata": {},
   "outputs": [
    {
     "name": "stdout",
     "output_type": "stream",
     "text": [
      "36\n"
     ]
    }
   ],
   "source": [
    "print(ans)"
   ]
  },
  {
   "cell_type": "code",
   "execution_count": 23,
   "id": "7eaccf14-ba0f-48d2-8542-194feb08813c",
   "metadata": {},
   "outputs": [
    {
     "data": {
      "text/plain": [
       "[0, 10, 81, 165, 198, 204, 251, 274, 299, 351, 415]"
      ]
     },
     "execution_count": 23,
     "metadata": {},
     "output_type": "execute_result"
    }
   ],
   "source": [
    "An_cum"
   ]
  },
  {
   "cell_type": "code",
   "execution_count": 29,
   "id": "c6b3e398-4e79-41ba-8281-f2ea170aefaa",
   "metadata": {},
   "outputs": [
    {
     "data": {
      "text/plain": [
       "4"
      ]
     },
     "execution_count": 29,
     "metadata": {},
     "output_type": "execute_result"
    }
   ],
   "source": [
    "max(1, 2, 3, 4)"
   ]
  },
  {
   "cell_type": "code",
   "execution_count": null,
   "id": "01be1e62-3067-4639-b575-8e009e8458b9",
   "metadata": {},
   "outputs": [],
   "source": []
  }
 ],
 "metadata": {
  "kernelspec": {
   "display_name": "Python 3",
   "language": "python",
   "name": "python3"
  },
  "language_info": {
   "codemirror_mode": {
    "name": "ipython",
    "version": 3
   },
   "file_extension": ".py",
   "mimetype": "text/x-python",
   "name": "python",
   "nbconvert_exporter": "python",
   "pygments_lexer": "ipython3",
   "version": "3.6.13"
  }
 },
 "nbformat": 4,
 "nbformat_minor": 5
}
