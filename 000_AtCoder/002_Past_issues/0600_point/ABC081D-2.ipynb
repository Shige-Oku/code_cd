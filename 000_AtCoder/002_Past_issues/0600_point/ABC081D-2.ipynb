{
 "cells": [
  {
   "cell_type": "code",
   "execution_count": null,
   "id": "c3a74fd3-c509-4333-be22-8924553fdda7",
   "metadata": {},
   "outputs": [],
   "source": [
    "# 解説を読んで実装"
   ]
  },
  {
   "cell_type": "code",
   "execution_count": 1,
   "id": "99c88829-54c3-4db2-acca-cd0b402723bb",
   "metadata": {},
   "outputs": [],
   "source": [
    "import sys\n",
    "import numpy as np\n",
    "import math\n",
    "import collections\n",
    "import copy\n",
    "import decimal\n",
    "import itertools\n",
    "import re\n",
    "import bisect\n",
    "import scipy\n",
    "import heapq\n",
    "from collections import deque \n",
    "from functools import reduce\n",
    "from itertools import product\n",
    "from itertools import combinations\n",
    "from itertools import chain\n",
    "from functools import lru_cache\n",
    "from scipy.special import comb\n",
    "from numba import njit\n",
    "from bisect import bisect_right\n",
    "from bisect import bisect_left"
   ]
  },
  {
   "cell_type": "code",
   "execution_count": 9,
   "id": "f2fac293-edcc-4d5f-99a3-0518446d1654",
   "metadata": {},
   "outputs": [
    {
     "name": "stdin",
     "output_type": "stream",
     "text": [
      " 2\n"
     ]
    }
   ],
   "source": [
    "N = int(input())"
   ]
  },
  {
   "cell_type": "code",
   "execution_count": 10,
   "id": "55c919c5-c550-44cc-9a58-bbdfe69c4829",
   "metadata": {},
   "outputs": [
    {
     "name": "stdin",
     "output_type": "stream",
     "text": [
      " -1 -3\n"
     ]
    }
   ],
   "source": [
    "An = list(map(int, input().split()))"
   ]
  },
  {
   "cell_type": "code",
   "execution_count": 11,
   "id": "46326860-4590-48d1-baac-d38dd36859c1",
   "metadata": {},
   "outputs": [],
   "source": [
    "ma = -1 * 10**10\n",
    "ma_idx = 0\n",
    "mi = 10**10\n",
    "mi_idx = 0\n",
    "for i, A in enumerate(An):\n",
    "    if A > ma:\n",
    "        ma = A\n",
    "        ma_idx = i\n",
    "    if A < mi:\n",
    "        mi = A\n",
    "        mi_idx = i"
   ]
  },
  {
   "cell_type": "code",
   "execution_count": 16,
   "id": "3e30fba9-a382-4d99-b5b0-0327a11fd9ac",
   "metadata": {},
   "outputs": [],
   "source": [
    "ope = []\n",
    "if abs(ma) >= abs(mi):\n",
    "    for i in range(N):\n",
    "        ope.append((ma_idx+1, i+1))\n",
    "    for i in range(N-1):\n",
    "        ope.append((i+1, i+2))\n",
    "else:\n",
    "    for i in range(N):\n",
    "        ope.append((mi_idx+1, i+1))\n",
    "    for i in range(N-1, 0, -1):\n",
    "        ope.append((i+1, i))"
   ]
  },
  {
   "cell_type": "code",
   "execution_count": 17,
   "id": "41308cbd-ad31-4609-afdb-0df973d583f6",
   "metadata": {},
   "outputs": [
    {
     "name": "stdout",
     "output_type": "stream",
     "text": [
      "3\n",
      "2 1\n",
      "2 2\n",
      "2 1\n"
     ]
    }
   ],
   "source": [
    "print(len(ope))\n",
    "for a, b in ope:\n",
    "    print(a, b)"
   ]
  },
  {
   "cell_type": "code",
   "execution_count": null,
   "id": "27015efd-6315-4c9e-bcff-c0203cb4cda0",
   "metadata": {},
   "outputs": [],
   "source": []
  }
 ],
 "metadata": {
  "kernelspec": {
   "display_name": "Python 3",
   "language": "python",
   "name": "python3"
  },
  "language_info": {
   "codemirror_mode": {
    "name": "ipython",
    "version": 3
   },
   "file_extension": ".py",
   "mimetype": "text/x-python",
   "name": "python",
   "nbconvert_exporter": "python",
   "pygments_lexer": "ipython3",
   "version": "3.6.13"
  }
 },
 "nbformat": 4,
 "nbformat_minor": 5
}
