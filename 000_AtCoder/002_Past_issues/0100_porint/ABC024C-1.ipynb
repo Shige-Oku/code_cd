{
 "cells": [
  {
   "cell_type": "code",
   "execution_count": 1,
   "metadata": {},
   "outputs": [],
   "source": [
    "import sys\n",
    "import numpy as np\n",
    "import math\n",
    "import collections\n",
    "import copy\n",
    "import decimal\n",
    "import itertools\n",
    "import re\n",
    "import bisect\n",
    "from collections import deque \n",
    "from functools import reduce\n",
    "from itertools import product\n",
    "from itertools import combinations\n",
    "from functools import lru_cache"
   ]
  },
  {
   "cell_type": "code",
   "execution_count": 2,
   "metadata": {},
   "outputs": [
    {
     "name": "stdin",
     "output_type": "stream",
     "text": [
      " 10 10 3\n"
     ]
    }
   ],
   "source": [
    "N, D, K = map(int, input().split())"
   ]
  },
  {
   "cell_type": "code",
   "execution_count": 4,
   "metadata": {},
   "outputs": [
    {
     "name": "stdin",
     "output_type": "stream",
     "text": [
      " 1 5\n",
      " 3 6\n",
      " 7 10\n",
      " 5 8\n",
      " 4 4\n",
      " 1 4\n",
      " 2 9\n",
      " 1 3\n",
      " 1 1\n",
      " 4 5\n"
     ]
    }
   ],
   "source": [
    "LR = [list(map(int, input().split())) for _ in range(D)]"
   ]
  },
  {
   "cell_type": "code",
   "execution_count": 5,
   "metadata": {},
   "outputs": [
    {
     "name": "stdin",
     "output_type": "stream",
     "text": [
      " 1 6\n",
      " 2 7\n",
      " 10 1\n"
     ]
    }
   ],
   "source": [
    "ST = [list(map(int, input().split())) for _ in range(K)]"
   ]
  },
  {
   "cell_type": "code",
   "execution_count": 26,
   "metadata": {},
   "outputs": [],
   "source": [
    "mv = [0 for _ in range(K)]\n",
    "ans = [0 for _ in range(K)]\n",
    "for i, st in enumerate(ST):\n",
    "    S, T = st\n",
    "    mv[i] = S\n",
    "    for L, R in LR:\n",
    "        ans[i] += 1\n",
    "        if L <= mv[i] <= R and L <= T <= R:\n",
    "#             print(L, R, T)\n",
    "            break\n",
    "        if L <= mv[i] <= R:\n",
    "            if T > S:\n",
    "                mv[i] = R\n",
    "            else:\n",
    "                mv[i] = L\n"
   ]
  },
  {
   "cell_type": "code",
   "execution_count": 27,
   "metadata": {},
   "outputs": [
    {
     "name": "stdout",
     "output_type": "stream",
     "text": [
      "2\n",
      "4\n",
      "8\n"
     ]
    }
   ],
   "source": [
    "for an in ans:\n",
    "    print(an)"
   ]
  },
  {
   "cell_type": "code",
   "execution_count": 23,
   "metadata": {},
   "outputs": [
    {
     "data": {
      "text/plain": [
       "([[1, 6], [2, 7], [10, 1]], [5, 6, 2], [2, 4, 8])"
      ]
     },
     "execution_count": 23,
     "metadata": {},
     "output_type": "execute_result"
    }
   ],
   "source": [
    "ST, mv, ans"
   ]
  },
  {
   "cell_type": "code",
   "execution_count": null,
   "metadata": {},
   "outputs": [],
   "source": []
  }
 ],
 "metadata": {
  "kernelspec": {
   "display_name": "Python 3",
   "language": "python",
   "name": "python3"
  },
  "language_info": {
   "codemirror_mode": {
    "name": "ipython",
    "version": 3
   },
   "file_extension": ".py",
   "mimetype": "text/x-python",
   "name": "python",
   "nbconvert_exporter": "python",
   "pygments_lexer": "ipython3",
   "version": "3.6.10"
  }
 },
 "nbformat": 4,
 "nbformat_minor": 4
}
