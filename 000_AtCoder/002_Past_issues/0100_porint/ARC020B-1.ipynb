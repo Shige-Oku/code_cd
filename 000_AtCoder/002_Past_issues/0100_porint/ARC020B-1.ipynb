{
 "cells": [
  {
   "cell_type": "code",
   "execution_count": null,
   "metadata": {},
   "outputs": [],
   "source": [
    "# 解説を読んで実装"
   ]
  },
  {
   "cell_type": "code",
   "execution_count": 1,
   "metadata": {},
   "outputs": [],
   "source": [
    "import sys\n",
    "import numpy as np\n",
    "import math\n",
    "import collections\n",
    "import copy\n",
    "import decimal\n",
    "import itertools\n",
    "import re\n",
    "import bisect\n",
    "import scipy\n",
    "from collections import deque \n",
    "from functools import reduce\n",
    "from itertools import product\n",
    "from itertools import combinations\n",
    "from functools import lru_cache\n",
    "from scipy.special import comb\n",
    "from numba import njit, jit\n",
    "from bisect import bisect_right\n",
    "from bisect import bisect_left"
   ]
  },
  {
   "cell_type": "code",
   "execution_count": 2,
   "metadata": {},
   "outputs": [
    {
     "name": "stdin",
     "output_type": "stream",
     "text": [
      " 3 10\n"
     ]
    }
   ],
   "source": [
    "N, C = map(int, input().split())"
   ]
  },
  {
   "cell_type": "code",
   "execution_count": 3,
   "metadata": {},
   "outputs": [
    {
     "name": "stdin",
     "output_type": "stream",
     "text": [
      " 3\n",
      " 2\n",
      " 1\n"
     ]
    }
   ],
   "source": [
    "An = [int(input()) for _ in range(N)]"
   ]
  },
  {
   "cell_type": "code",
   "execution_count": 35,
   "metadata": {},
   "outputs": [],
   "source": [
    "color_e = [0] * 11\n",
    "color_o = [0] * 11\n",
    "for i, a in enumerate(An):\n",
    "    if i % 2 == 0:\n",
    "        color_e[a] += 1\n",
    "    else:\n",
    "        color_o[a] += 1\n"
   ]
  },
  {
   "cell_type": "code",
   "execution_count": 36,
   "metadata": {},
   "outputs": [],
   "source": [
    "ans = 10**5\n",
    "for i in range(1, 11):\n",
    "    for j in range(1, 11):\n",
    "        if i == j:\n",
    "            continue\n",
    "        ans = min(ans, (N - color_e[i] - color_o[j]) * C)"
   ]
  },
  {
   "cell_type": "code",
   "execution_count": 37,
   "metadata": {},
   "outputs": [
    {
     "name": "stdout",
     "output_type": "stream",
     "text": [
      "10\n"
     ]
    }
   ],
   "source": [
    "print(ans)"
   ]
  },
  {
   "cell_type": "code",
   "execution_count": 34,
   "metadata": {},
   "outputs": [
    {
     "data": {
      "text/plain": [
       "(6, [0, 1, 0, 1, 0, 0, 0, 0, 0, 0, 0], [0, 0, 1, 0, 0, 0, 0, 0, 0, 0, 0])"
      ]
     },
     "execution_count": 34,
     "metadata": {},
     "output_type": "execute_result"
    }
   ],
   "source": [
    "total, color_e, color_o"
   ]
  },
  {
   "cell_type": "code",
   "execution_count": null,
   "metadata": {},
   "outputs": [],
   "source": [
    "# WA"
   ]
  },
  {
   "cell_type": "code",
   "execution_count": 18,
   "metadata": {},
   "outputs": [],
   "source": [
    "max_col11 = -1\n",
    "max_idx11 = -1\n",
    "max_col12 = -1\n",
    "max_idx12 = -1\n",
    "for i, e in enumerate(color_e[1:]):\n",
    "    if color_e[i] > max_col11:\n",
    "        max_col11 = color_e[i]\n",
    "        max_idx11 = i\n",
    "        continue\n",
    "    if color_e[i] > max_col12:\n",
    "        max_col12 = color_e[i]\n",
    "        max_idx12 = i\n",
    "max_col21 = -1\n",
    "max_idx21 = -1\n",
    "max_col22 = -1\n",
    "max_idx22 = -1\n",
    "for i, o in enumerate(color_o[1:]):\n",
    "    if color_o[i] > max_col21:\n",
    "        max_col21 = color_o[i]\n",
    "        max_idx21 = i\n",
    "        continue\n",
    "    if color_o[i] > max_col22:\n",
    "        max_col22 = color_o[i]\n",
    "        max_idx22 = i\n"
   ]
  },
  {
   "cell_type": "code",
   "execution_count": 26,
   "metadata": {},
   "outputs": [],
   "source": [
    "if max_idx11 != max_idx21:\n",
    "    max_col_e = max_col11\n",
    "    max_idx_e = max_idx11\n",
    "    max_col_o = max_col21\n",
    "    max_idx_o = max_idx21\n",
    "else:\n",
    "    if max_col11 + max_col22 > max_col12 + max_col21:\n",
    "        max_col_e = max_col11\n",
    "        max_idx_e = max_idx11\n",
    "        max_col_o = max_col22\n",
    "        max_idx_o = max_idx22\n",
    "    else:\n",
    "        max_col_e = max_col12\n",
    "        max_idx_e = max_idx12\n",
    "        max_col_o = max_col21\n",
    "        max_idx_o = max_idx21\n",
    "        "
   ]
  },
  {
   "cell_type": "code",
   "execution_count": 27,
   "metadata": {},
   "outputs": [
    {
     "name": "stdout",
     "output_type": "stream",
     "text": [
      "10\n"
     ]
    }
   ],
   "source": [
    "ans = sum(color_e) - max_col_e\n",
    "ans += sum(color_o) - max_col_o\n",
    "print(ans*C)"
   ]
  },
  {
   "cell_type": "code",
   "execution_count": null,
   "metadata": {},
   "outputs": [],
   "source": [
    "# WA"
   ]
  },
  {
   "cell_type": "code",
   "execution_count": 22,
   "metadata": {},
   "outputs": [],
   "source": [
    "if max_idx11 != max_idx21:\n",
    "    max_col_e = max_col11\n",
    "    max_idx_e = max_idx11\n",
    "    max_col_o = max_col21\n",
    "    max_idx_o = max_idx21\n",
    "else:\n",
    "    if max_col11 > max_col21:\n",
    "        max_col_e = max_col11\n",
    "        max_idx_e = max_idx11\n",
    "        max_col_o = max_col22\n",
    "        max_idx_o = max_idx22\n",
    "    elif max_col11 < max_col21:\n",
    "        max_col_e = max_col12\n",
    "        max_idx_e = max_idx12\n",
    "        max_col_o = max_col21\n",
    "        max_idx_o = max_idx21\n",
    "    else:\n",
    "        if max_col12 > max_col22:\n",
    "            max_col_e = max_col12\n",
    "            max_idx_e = max_idx12\n",
    "            max_col_o = max_col21\n",
    "            max_idx_o = max_idx21\n",
    "        else:\n",
    "            max_col_e = max_col11\n",
    "            max_idx_e = max_idx11\n",
    "            max_col_o = max_col22\n",
    "            max_idx_o = max_idx22\n"
   ]
  },
  {
   "cell_type": "code",
   "execution_count": 20,
   "metadata": {},
   "outputs": [
    {
     "data": {
      "text/plain": [
       "([0, 1, 0, 1, 0, 0, 0, 0, 0, 0, 0],\n",
       " [0, 0, 1, 0, 0, 0, 0, 0, 0, 0, 0],\n",
       " 1,\n",
       " 1,\n",
       " 1,\n",
       " 3,\n",
       " 1,\n",
       " 2,\n",
       " 0,\n",
       " 1)"
      ]
     },
     "execution_count": 20,
     "metadata": {},
     "output_type": "execute_result"
    }
   ],
   "source": [
    "color_e, color_o, max_col11, max_idx11, max_col12, max_idx12, max_col21, max_idx21, max_col22, max_idx22"
   ]
  },
  {
   "cell_type": "code",
   "execution_count": 24,
   "metadata": {},
   "outputs": [
    {
     "data": {
      "text/plain": [
       "1"
      ]
     },
     "execution_count": 24,
     "metadata": {},
     "output_type": "execute_result"
    }
   ],
   "source": [
    "ans"
   ]
  },
  {
   "cell_type": "code",
   "execution_count": null,
   "metadata": {},
   "outputs": [],
   "source": []
  }
 ],
 "metadata": {
  "kernelspec": {
   "display_name": "Python 3",
   "language": "python",
   "name": "python3"
  },
  "language_info": {
   "codemirror_mode": {
    "name": "ipython",
    "version": 3
   },
   "file_extension": ".py",
   "mimetype": "text/x-python",
   "name": "python",
   "nbconvert_exporter": "python",
   "pygments_lexer": "ipython3",
   "version": "3.6.10"
  }
 },
 "nbformat": 4,
 "nbformat_minor": 4
}
