{
 "cells": [
  {
   "cell_type": "code",
   "execution_count": 1,
   "metadata": {},
   "outputs": [],
   "source": [
    "import sys\n",
    "import numpy as np\n",
    "import math\n",
    "import collections\n",
    "import copy\n",
    "import decimal\n",
    "import itertools\n",
    "import re\n",
    "import bisect\n",
    "import scipy\n",
    "from collections import deque \n",
    "from functools import reduce\n",
    "from itertools import product\n",
    "from itertools import combinations\n",
    "from functools import lru_cache\n",
    "from scipy.special import comb\n",
    "from numba import njit, jit\n",
    "from bisect import bisect_right\n",
    "from bisect import bisect_left"
   ]
  },
  {
   "cell_type": "code",
   "execution_count": 53,
   "metadata": {},
   "outputs": [
    {
     "name": "stdin",
     "output_type": "stream",
     "text": [
      " 1\n"
     ]
    }
   ],
   "source": [
    "N = int(input())"
   ]
  },
  {
   "cell_type": "code",
   "execution_count": 54,
   "metadata": {},
   "outputs": [
    {
     "name": "stdin",
     "output_type": "stream",
     "text": [
      " bc dw tj fq lv sx pm hk ng zr\n"
     ]
    }
   ],
   "source": [
    "S = input()"
   ]
  },
  {
   "cell_type": "code",
   "execution_count": 57,
   "metadata": {},
   "outputs": [],
   "source": [
    "SS = S.lower()\n",
    "ans = ''\n",
    "for ss in SS:\n",
    "    if ss in ('b', 'c'):\n",
    "        ans += '1'\n",
    "    elif ss in ('d', 'w'):\n",
    "        ans += '2'\n",
    "    elif ss in ('t', 'j'):\n",
    "        ans += '3'\n",
    "    elif ss in ('f', 'q'):\n",
    "        ans += '4'\n",
    "    elif ss in ('l', 'v'):\n",
    "        ans += '5'\n",
    "    elif ss in ('s', 'x'):\n",
    "        ans += '6'\n",
    "    elif ss in ('p', 'm'):\n",
    "        ans += '7'\n",
    "    elif ss in ('h', 'k'):\n",
    "        ans += '8'\n",
    "    elif ss in ('n', 'g'):\n",
    "        ans += '9'\n",
    "    elif ss in ('z', 'r'):\n",
    "        ans += '0'\n",
    "    elif ss == ' ':\n",
    "        ans += ' '"
   ]
  },
  {
   "cell_type": "code",
   "execution_count": 58,
   "metadata": {},
   "outputs": [
    {
     "name": "stdout",
     "output_type": "stream",
     "text": [
      "11 22 33 44 55 66 77 88 99 00\n"
     ]
    }
   ],
   "source": [
    "print(*ans.split())"
   ]
  },
  {
   "cell_type": "code",
   "execution_count": 43,
   "metadata": {},
   "outputs": [],
   "source": [
    "SS = S.lower()\n",
    "ans = ''\n",
    "for ss in SS:\n",
    "    if ss in ('b', 'c'):\n",
    "        ans += '1'\n",
    "    elif ss in ('d', 'w'):\n",
    "        ans += '2'\n",
    "    elif ss in ('t', 'j'):\n",
    "        ans += '3'\n",
    "    elif ss in ('f', 'q'):\n",
    "        ans += '4'\n",
    "    elif ss in ('l', 'v'):\n",
    "        ans += '5'\n",
    "    elif ss in ('s', 'X'):\n",
    "        ans += '6'\n",
    "    elif ss in ('p', 'm'):\n",
    "        ans += '7'\n",
    "    elif ss in ('h', 'k'):\n",
    "        ans += '8'\n",
    "    elif ss in ('n', 'g'):\n",
    "        ans += '9'\n",
    "    elif ss in ('z', 'r'):\n",
    "        ans += '0'\n",
    "    elif ss == ' ':\n",
    "        if len(ans) > 0 and ans[-1] != ' ': \n",
    "            ans += ' '"
   ]
  },
  {
   "cell_type": "code",
   "execution_count": 46,
   "metadata": {},
   "outputs": [
    {
     "name": "stdout",
     "output_type": "stream",
     "text": [
      "\n"
     ]
    }
   ],
   "source": [
    "if len(ans) > 0 and ans[-1] == ' ':\n",
    "    ans = ans[:-1]\n",
    "print(ans)"
   ]
  },
  {
   "cell_type": "code",
   "execution_count": 45,
   "metadata": {},
   "outputs": [
    {
     "data": {
      "text/plain": [
       "('aaa aa a aa', 0)"
      ]
     },
     "execution_count": 45,
     "metadata": {},
     "output_type": "execute_result"
    }
   ],
   "source": [
    "SS, len(ans)"
   ]
  },
  {
   "cell_type": "code",
   "execution_count": null,
   "metadata": {},
   "outputs": [],
   "source": []
  }
 ],
 "metadata": {
  "kernelspec": {
   "display_name": "Python 3",
   "language": "python",
   "name": "python3"
  },
  "language_info": {
   "codemirror_mode": {
    "name": "ipython",
    "version": 3
   },
   "file_extension": ".py",
   "mimetype": "text/x-python",
   "name": "python",
   "nbconvert_exporter": "python",
   "pygments_lexer": "ipython3",
   "version": "3.6.10"
  }
 },
 "nbformat": 4,
 "nbformat_minor": 4
}
