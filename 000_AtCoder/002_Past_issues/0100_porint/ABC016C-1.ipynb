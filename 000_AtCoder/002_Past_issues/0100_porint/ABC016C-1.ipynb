{
 "cells": [
  {
   "cell_type": "code",
   "execution_count": 1,
   "metadata": {},
   "outputs": [],
   "source": [
    "import sys\n",
    "import numpy as np\n",
    "import math\n",
    "import collections\n",
    "import copy\n",
    "import decimal\n",
    "import itertools\n",
    "import re\n",
    "import bisect\n",
    "from collections import deque \n",
    "from functools import reduce\n",
    "from itertools import product\n",
    "from itertools import combinations\n",
    "from functools import lru_cache"
   ]
  },
  {
   "cell_type": "code",
   "execution_count": 11,
   "metadata": {},
   "outputs": [
    {
     "name": "stdin",
     "output_type": "stream",
     "text": [
      " 8 12\n"
     ]
    }
   ],
   "source": [
    "N, M = map(int, input().split())"
   ]
  },
  {
   "cell_type": "code",
   "execution_count": 12,
   "metadata": {},
   "outputs": [
    {
     "name": "stdin",
     "output_type": "stream",
     "text": [
      " 1 6\n",
      " 1 7\n",
      " 1 8\n",
      " 2 5\n",
      " 2 6\n",
      " 3 5\n",
      " 3 6\n",
      " 4 5\n",
      " 4 8\n",
      " 5 6\n",
      " 5 7\n",
      " 7 8\n"
     ]
    }
   ],
   "source": [
    "AB = [list(map(int, input().split())) for _ in range(M)]"
   ]
  },
  {
   "cell_type": "code",
   "execution_count": 13,
   "metadata": {},
   "outputs": [],
   "source": [
    "graph = [[] for _ in range(N+1)]\n",
    "for A, B in AB:\n",
    "    graph[A].append(B)\n",
    "    graph[B].append(A)"
   ]
  },
  {
   "cell_type": "code",
   "execution_count": 17,
   "metadata": {},
   "outputs": [],
   "source": [
    "ans = [0 for _ in range(N+1)]\n",
    "for i in range(N+1):\n",
    "    s = set()\n",
    "    for gr in graph[i]:\n",
    "        for g in graph[gr]:\n",
    "            if g == i:\n",
    "                continue\n",
    "            if g in graph[i]:\n",
    "                continue\n",
    "            s.add(g)\n",
    "    ans[i] = len(s)"
   ]
  },
  {
   "cell_type": "code",
   "execution_count": 18,
   "metadata": {},
   "outputs": [
    {
     "name": "stdout",
     "output_type": "stream",
     "text": [
      "4\n",
      "4\n",
      "4\n",
      "5\n",
      "2\n",
      "3\n",
      "4\n",
      "2\n"
     ]
    }
   ],
   "source": [
    "for cnt in ans[1:]:\n",
    "    print(cnt)"
   ]
  },
  {
   "cell_type": "code",
   "execution_count": 16,
   "metadata": {},
   "outputs": [
    {
     "data": {
      "text/plain": [
       "[[],\n",
       " [6, 7, 8],\n",
       " [5, 6],\n",
       " [5, 6],\n",
       " [5, 8],\n",
       " [2, 3, 4, 6, 7],\n",
       " [1, 2, 3, 5],\n",
       " [1, 5, 8],\n",
       " [1, 4, 7]]"
      ]
     },
     "execution_count": 16,
     "metadata": {},
     "output_type": "execute_result"
    }
   ],
   "source": [
    "graph"
   ]
  },
  {
   "cell_type": "code",
   "execution_count": null,
   "metadata": {},
   "outputs": [],
   "source": []
  }
 ],
 "metadata": {
  "kernelspec": {
   "display_name": "Python 3",
   "language": "python",
   "name": "python3"
  },
  "language_info": {
   "codemirror_mode": {
    "name": "ipython",
    "version": 3
   },
   "file_extension": ".py",
   "mimetype": "text/x-python",
   "name": "python",
   "nbconvert_exporter": "python",
   "pygments_lexer": "ipython3",
   "version": "3.6.10"
  }
 },
 "nbformat": 4,
 "nbformat_minor": 4
}
