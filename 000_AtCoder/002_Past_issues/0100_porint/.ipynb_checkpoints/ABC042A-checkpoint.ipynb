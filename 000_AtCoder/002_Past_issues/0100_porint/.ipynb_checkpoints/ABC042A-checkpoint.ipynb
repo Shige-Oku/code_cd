{
 "cells": [
  {
   "cell_type": "markdown",
   "metadata": {},
   "source": [
    "# 問題文\n",
    "日本の誇る美しいリズムとして、五七五というものがあります。いろはちゃんは五七五が大好きです。  \n",
    "3  つの文節の並びの長さがそれぞれ 5,7,5 となるようにこの順番で並んでいるとき、その 3 つの文節の並びは五七五であると言います。  \n",
    "並び替えたい 3 つの文節の長さを表す整数 A,B,C が与えられるので、それらの文節を並び替えて五七五にできるか判定してください。  \n",
    "\n",
    "# 制約\n",
    " ・1 ≦ A, B, C ≦ 10"
   ]
  },
  {
   "cell_type": "code",
   "execution_count": 1,
   "metadata": {},
   "outputs": [],
   "source": [
    "import sys"
   ]
  },
  {
   "cell_type": "code",
   "execution_count": 2,
   "metadata": {},
   "outputs": [
    {
     "name": "stdin",
     "output_type": "stream",
     "text": [
      " 5 5 7\n"
     ]
    }
   ],
   "source": [
    "# A, B, C 文字数入力\n",
    "a, b, c = map(int, input().split())"
   ]
  },
  {
   "cell_type": "code",
   "execution_count": 3,
   "metadata": {},
   "outputs": [],
   "source": [
    "cnt5, cnt7 = 0, 0"
   ]
  },
  {
   "cell_type": "code",
   "execution_count": 4,
   "metadata": {},
   "outputs": [],
   "source": [
    "# 5文字と7文字がいくつあったか\n",
    "if a == 5:\n",
    "    cnt5 += 1\n",
    "if a == 7:\n",
    "    cnt7 += 1\n",
    "if b == 5:\n",
    "    cnt5 += 1\n",
    "if b == 7:\n",
    "    cnt7 += 1\n",
    "if c == 5:\n",
    "    cnt5 += 1\n",
    "if c == 7:\n",
    "    cnt7 += 1"
   ]
  },
  {
   "cell_type": "code",
   "execution_count": 5,
   "metadata": {},
   "outputs": [
    {
     "name": "stdout",
     "output_type": "stream",
     "text": [
      "YES\n"
     ]
    }
   ],
   "source": [
    "# 評価\n",
    "if cnt5 == 2 and cnt7 == 1:\n",
    "    print(\"YES\")\n",
    "else:\n",
    "    print(\"NO\")"
   ]
  },
  {
   "cell_type": "code",
   "execution_count": null,
   "metadata": {},
   "outputs": [],
   "source": []
  }
 ],
 "metadata": {
  "kernelspec": {
   "display_name": "Python 3",
   "language": "python",
   "name": "python3"
  },
  "language_info": {
   "codemirror_mode": {
    "name": "ipython",
    "version": 3
   },
   "file_extension": ".py",
   "mimetype": "text/x-python",
   "name": "python",
   "nbconvert_exporter": "python",
   "pygments_lexer": "ipython3",
   "version": "3.6.7"
  }
 },
 "nbformat": 4,
 "nbformat_minor": 2
}
