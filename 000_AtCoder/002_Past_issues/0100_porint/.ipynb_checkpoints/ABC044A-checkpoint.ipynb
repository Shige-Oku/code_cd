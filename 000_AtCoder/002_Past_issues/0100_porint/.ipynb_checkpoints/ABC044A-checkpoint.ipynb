{
 "cells": [
  {
   "cell_type": "markdown",
   "metadata": {},
   "source": [
    "# 問題文\n",
    "1  軒のホテルがあります。 このホテルの宿泊費は、次のようになっています。  \n",
    " ・最初の K 泊までは、1 泊あたり X 円  \n",
    " ・K+1  泊目以降は、1 泊あたり Y 円  \n",
    "高橋君は、このホテルに N 泊連続で宿泊することにしました。　\n",
    "高橋君の宿泊費は合計で何円になるか求めてください。\n",
    "\n",
    "# 制約\n",
    " ・1 ≤ N, K ≤ 10000  \n",
    " ・1 ≤ Y < X ≤ 10000  \n",
    " ・N, K, X, Y  はいずれも整数である"
   ]
  },
  {
   "cell_type": "code",
   "execution_count": null,
   "metadata": {},
   "outputs": [],
   "source": [
    "import sys"
   ]
  },
  {
   "cell_type": "code",
   "execution_count": null,
   "metadata": {},
   "outputs": [],
   "source": [
    "# N 宿泊数\n",
    "n = int(input())"
   ]
  },
  {
   "cell_type": "code",
   "execution_count": 3,
   "metadata": {},
   "outputs": [
    {
     "name": "stdin",
     "output_type": "stream",
     "text": [
      " 3\n"
     ]
    }
   ],
   "source": [
    "# K 最初のX円までの宿泊数\n",
    "k = int(input())"
   ]
  },
  {
   "cell_type": "code",
   "execution_count": 4,
   "metadata": {},
   "outputs": [
    {
     "name": "stdin",
     "output_type": "stream",
     "text": [
      " 10000\n"
     ]
    }
   ],
   "source": [
    "# X 最初のK日までの金額\n",
    "x = int(input())"
   ]
  },
  {
   "cell_type": "code",
   "execution_count": 5,
   "metadata": {},
   "outputs": [
    {
     "name": "stdin",
     "output_type": "stream",
     "text": [
      " 9000\n"
     ]
    }
   ],
   "source": [
    "# Y K+1日以降の金額\n",
    "y = int(input())"
   ]
  },
  {
   "cell_type": "code",
   "execution_count": 6,
   "metadata": {},
   "outputs": [],
   "source": [
    "# X円, Y円での宿泊数\n",
    "if n > k:\n",
    "    day_x = k\n",
    "    day_y = n - k\n",
    "else:\n",
    "    day_x = n\n",
    "    day_y = 0"
   ]
  },
  {
   "cell_type": "code",
   "execution_count": 7,
   "metadata": {},
   "outputs": [
    {
     "name": "stdout",
     "output_type": "stream",
     "text": [
      "48000\n"
     ]
    }
   ],
   "source": [
    "print(x * day_x + y * day_y)"
   ]
  },
  {
   "cell_type": "code",
   "execution_count": null,
   "metadata": {},
   "outputs": [],
   "source": []
  }
 ],
 "metadata": {
  "kernelspec": {
   "display_name": "Python 3",
   "language": "python",
   "name": "python3"
  },
  "language_info": {
   "codemirror_mode": {
    "name": "ipython",
    "version": 3
   },
   "file_extension": ".py",
   "mimetype": "text/x-python",
   "name": "python",
   "nbconvert_exporter": "python",
   "pygments_lexer": "ipython3",
   "version": "3.6.7"
  }
 },
 "nbformat": 4,
 "nbformat_minor": 2
}
