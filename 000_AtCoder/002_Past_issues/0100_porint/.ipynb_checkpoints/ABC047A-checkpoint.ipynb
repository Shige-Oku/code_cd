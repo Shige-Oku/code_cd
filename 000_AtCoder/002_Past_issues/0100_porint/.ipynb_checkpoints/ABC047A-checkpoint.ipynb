{
 "cells": [
  {
   "cell_type": "markdown",
   "metadata": {},
   "source": [
    "# 問題文\n",
    "競プロ幼稚園に通う 2 人の子供がキャンディーの取り合いをしています。  \n",
    "3 個のキャンディーパックがあり、それぞれのパックにはキャンディーが a, b, c 個入っています。  \n",
    "えび先生はこの 3 個のパックを、キャンディーの個数が等しくなるように 2 人に分けようとしています。  \n",
    "そのような分け方が可能かどうかを判定してください。  \n",
    "ただし、キャンディーをパックから取り出すことはできず、それぞれのパックをそのままどちらかの子供にあげる必要があります。  \n",
    "\n",
    "# 制約\n",
    " ・1 ≦ a, b, c ≦ 100"
   ]
  },
  {
   "cell_type": "code",
   "execution_count": 1,
   "metadata": {},
   "outputs": [],
   "source": [
    "import sys\n",
    "import numpy as np"
   ]
  },
  {
   "cell_type": "code",
   "execution_count": 2,
   "metadata": {},
   "outputs": [
    {
     "name": "stdin",
     "output_type": "stream",
     "text": [
      " 10 30 20\n"
     ]
    }
   ],
   "source": [
    "# a b c キャンディーの数\n",
    "a, b, c = map(int, input().split())"
   ]
  },
  {
   "cell_type": "code",
   "execution_count": 3,
   "metadata": {},
   "outputs": [],
   "source": [
    "candy = np.array([a, b, c])"
   ]
  },
  {
   "cell_type": "code",
   "execution_count": 4,
   "metadata": {},
   "outputs": [],
   "source": [
    "# キャンディーの数順でソート\n",
    "candy.sort()"
   ]
  },
  {
   "cell_type": "code",
   "execution_count": 6,
   "metadata": {},
   "outputs": [
    {
     "name": "stdout",
     "output_type": "stream",
     "text": [
      "Yes\n"
     ]
    }
   ],
   "source": [
    "# 少ない２つと一番多いので比較\n",
    "if (candy[0] + candy[1] == candy[2]):\n",
    "    print(\"Yes\")\n",
    "else:\n",
    "    print(\"No\")"
   ]
  },
  {
   "cell_type": "code",
   "execution_count": null,
   "metadata": {},
   "outputs": [],
   "source": []
  }
 ],
 "metadata": {
  "kernelspec": {
   "display_name": "Python 3",
   "language": "python",
   "name": "python3"
  },
  "language_info": {
   "codemirror_mode": {
    "name": "ipython",
    "version": 3
   },
   "file_extension": ".py",
   "mimetype": "text/x-python",
   "name": "python",
   "nbconvert_exporter": "python",
   "pygments_lexer": "ipython3",
   "version": "3.6.7"
  }
 },
 "nbformat": 4,
 "nbformat_minor": 2
}
