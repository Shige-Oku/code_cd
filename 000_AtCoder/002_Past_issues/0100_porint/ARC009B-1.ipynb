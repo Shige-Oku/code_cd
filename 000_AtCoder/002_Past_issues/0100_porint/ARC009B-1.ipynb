{
 "cells": [
  {
   "cell_type": "code",
   "execution_count": 5,
   "metadata": {},
   "outputs": [],
   "source": [
    "import sys\n",
    "import numpy as np\n",
    "import math\n",
    "import collections\n",
    "import copy\n",
    "import decimal\n",
    "import itertools\n",
    "import re\n",
    "import bisect\n",
    "import scipy\n",
    "from collections import deque \n",
    "from functools import reduce\n",
    "from itertools import product\n",
    "from itertools import combinations\n",
    "from functools import lru_cache\n",
    "from scipy.special import comb\n",
    "from numba import njit\n",
    "from bisect import bisect_right\n",
    "from bisect import bisect_left"
   ]
  },
  {
   "cell_type": "code",
   "execution_count": 135,
   "metadata": {},
   "outputs": [
    {
     "name": "stdin",
     "output_type": "stream",
     "text": [
      " 0 1 2 3 4 5 6 7 8 9\n"
     ]
    }
   ],
   "source": [
    "Bn = list(map(int, input().split()))"
   ]
  },
  {
   "cell_type": "code",
   "execution_count": 136,
   "metadata": {},
   "outputs": [
    {
     "name": "stdin",
     "output_type": "stream",
     "text": [
      " 4\n"
     ]
    }
   ],
   "source": [
    "N = int(input())"
   ]
  },
  {
   "cell_type": "code",
   "execution_count": 137,
   "metadata": {},
   "outputs": [
    {
     "name": "stdin",
     "output_type": "stream",
     "text": [
      " 643\n",
      " 1234\n",
      " 43\n",
      " 909\n"
     ]
    }
   ],
   "source": [
    "An = [input() for _ in range(N)]"
   ]
  },
  {
   "cell_type": "code",
   "execution_count": 138,
   "metadata": {},
   "outputs": [],
   "source": [
    "Sn = []\n",
    "for i, A in enumerate(An):\n",
    "    val = 0\n",
    "    for j, a in enumerate(A[::-1]):\n",
    "        for k in range(10):\n",
    "            if int(a) == Bn[k]:\n",
    "                break\n",
    "        val += k * 10**j\n",
    "    Sn.append([val, i])"
   ]
  },
  {
   "cell_type": "code",
   "execution_count": 139,
   "metadata": {},
   "outputs": [],
   "source": [
    "Sn_s = copy.deepcopy(sorted(Sn))\n",
    "for i, ss in enumerate(Sn_s):\n",
    "    val, idx = ss\n",
    "    Sn_s[i].append(i)\n",
    "Sn_ss = copy.deepcopy(sorted(Sn_s, key=lambda x:x[2]))"
   ]
  },
  {
   "cell_type": "code",
   "execution_count": 140,
   "metadata": {},
   "outputs": [
    {
     "name": "stdout",
     "output_type": "stream",
     "text": [
      "43\n",
      "643\n",
      "909\n",
      "1234\n"
     ]
    }
   ],
   "source": [
    "for v, i, n in Sn_ss:\n",
    "    print(An[i])"
   ]
  },
  {
   "cell_type": "code",
   "execution_count": 113,
   "metadata": {},
   "outputs": [],
   "source": [
    "# Sn_s = sorted(Sn)"
   ]
  },
  {
   "cell_type": "code",
   "execution_count": 122,
   "metadata": {},
   "outputs": [
    {
     "data": {
      "text/plain": [
       "([[10, 7, 0],\n",
       "  [20, 0, 1],\n",
       "  [20, 9, 2],\n",
       "  [30, 2, 3],\n",
       "  [40, 4, 4],\n",
       "  [50, 3, 5],\n",
       "  [60, 8, 6],\n",
       "  [70, 6, 7],\n",
       "  [80, 5, 8],\n",
       "  [90, 1, 9]],\n",
       " [[10, 7, 0],\n",
       "  [20, 0, 1],\n",
       "  [20, 9, 2],\n",
       "  [30, 2, 3],\n",
       "  [40, 4, 4],\n",
       "  [50, 3, 5],\n",
       "  [60, 8, 6],\n",
       "  [70, 6, 7],\n",
       "  [80, 5, 8],\n",
       "  [90, 1, 9]])"
      ]
     },
     "execution_count": 122,
     "metadata": {},
     "output_type": "execute_result"
    }
   ],
   "source": [
    "Sn_s, Sn_ss"
   ]
  },
  {
   "cell_type": "code",
   "execution_count": 62,
   "metadata": {},
   "outputs": [
    {
     "data": {
      "text/plain": [
       "[36718, 2]"
      ]
     },
     "execution_count": 62,
     "metadata": {},
     "output_type": "execute_result"
    }
   ],
   "source": [
    "Sn_s[0]"
   ]
  },
  {
   "cell_type": "code",
   "execution_count": 96,
   "metadata": {},
   "outputs": [
    {
     "data": {
      "text/plain": [
       "[[1, 1],\n",
       " [2, 8],\n",
       " [3, 2],\n",
       " [4, 4],\n",
       " [5, 3],\n",
       " [6, 7],\n",
       " [7, 6],\n",
       " [8, 0],\n",
       " [9, 5],\n",
       " [80, 9]]"
      ]
     },
     "execution_count": 96,
     "metadata": {},
     "output_type": "execute_result"
    }
   ],
   "source": [
    "sorted(Sn)"
   ]
  },
  {
   "cell_type": "code",
   "execution_count": null,
   "metadata": {},
   "outputs": [],
   "source": []
  }
 ],
 "metadata": {
  "kernelspec": {
   "display_name": "Python 3",
   "language": "python",
   "name": "python3"
  },
  "language_info": {
   "codemirror_mode": {
    "name": "ipython",
    "version": 3
   },
   "file_extension": ".py",
   "mimetype": "text/x-python",
   "name": "python",
   "nbconvert_exporter": "python",
   "pygments_lexer": "ipython3",
   "version": "3.6.10"
  }
 },
 "nbformat": 4,
 "nbformat_minor": 4
}
