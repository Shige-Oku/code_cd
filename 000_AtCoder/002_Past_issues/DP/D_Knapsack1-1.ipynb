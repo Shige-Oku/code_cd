{
 "cells": [
  {
   "cell_type": "code",
   "execution_count": 12,
   "metadata": {},
   "outputs": [],
   "source": [
    "import sys\n",
    "import numpy as np\n",
    "\n",
    "# input = sys.stdin.readline\n",
    "\n",
    "# TLE で終わらない。。。"
   ]
  },
  {
   "cell_type": "code",
   "execution_count": 13,
   "metadata": {},
   "outputs": [
    {
     "name": "stdin",
     "output_type": "stream",
     "text": [
      " 5 5\n"
     ]
    }
   ],
   "source": [
    "# N 品物の数、 W 合計の重さ\n",
    "n, w = map(int, input().split())"
   ]
  },
  {
   "cell_type": "code",
   "execution_count": 14,
   "metadata": {},
   "outputs": [
    {
     "name": "stdin",
     "output_type": "stream",
     "text": [
      " 1 1000000000\n",
      " 1 1000000000\n",
      " 1 1000000000\n",
      " 1 1000000000\n",
      " 1 1000000000\n"
     ]
    }
   ],
   "source": [
    "# (W V) W : 品物の重さ V：品物の価値\n",
    "lst = [list(map(int, input().split())) for ii in range(n)]"
   ]
  },
  {
   "cell_type": "code",
   "execution_count": 21,
   "metadata": {},
   "outputs": [],
   "source": [
    "# 価値 v を最大にするので、0に初期化\n",
    "# １次元は品物（インデックス0には ALL0）、２次元は重さの合計\n",
    "dp = np.zeros([n+1, w+1])"
   ]
  },
  {
   "cell_type": "code",
   "execution_count": 22,
   "metadata": {},
   "outputs": [],
   "source": [
    "def retmax(a, b):\n",
    "    if a > b:\n",
    "        return a\n",
    "    return b"
   ]
  },
  {
   "cell_type": "code",
   "execution_count": 23,
   "metadata": {},
   "outputs": [],
   "source": [
    "for i, ln in enumerate(lst):\n",
    "    # 品物の数分\n",
    "    for j in range(w+1):\n",
    "        # 重みの数まで\n",
    "        # 選ばない。１つ前からセットする。\n",
    "        dp[i+1, j] = retmax(dp[i+1, j], dp[i, j])\n",
    "        if j >= ln[0]:\n",
    "            # 品物を選べる\n",
    "            dp[i+1, j] = retmax(dp[i+1, j], dp[i, j-ln[0]]+ln[1])\n",
    "        "
   ]
  },
  {
   "cell_type": "code",
   "execution_count": 25,
   "metadata": {},
   "outputs": [
    {
     "name": "stdout",
     "output_type": "stream",
     "text": [
      "5000000000\n"
     ]
    }
   ],
   "source": [
    "print(int(dp[n, w]))"
   ]
  },
  {
   "cell_type": "code",
   "execution_count": null,
   "metadata": {},
   "outputs": [],
   "source": []
  }
 ],
 "metadata": {
  "kernelspec": {
   "display_name": "Python 3",
   "language": "python",
   "name": "python3"
  },
  "language_info": {
   "codemirror_mode": {
    "name": "ipython",
    "version": 3
   },
   "file_extension": ".py",
   "mimetype": "text/x-python",
   "name": "python",
   "nbconvert_exporter": "python",
   "pygments_lexer": "ipython3",
   "version": "3.6.7"
  }
 },
 "nbformat": 4,
 "nbformat_minor": 2
}
