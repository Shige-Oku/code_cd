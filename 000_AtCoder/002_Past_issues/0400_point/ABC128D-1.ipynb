{
 "cells": [
  {
   "cell_type": "code",
   "execution_count": 1,
   "id": "f40a5716-44cf-4074-a61e-95332ce22843",
   "metadata": {},
   "outputs": [],
   "source": [
    "import sys\n",
    "import numpy as np\n",
    "import math\n",
    "import collections\n",
    "import copy\n",
    "import decimal\n",
    "import itertools\n",
    "import re\n",
    "import bisect\n",
    "import scipy\n",
    "import heapq\n",
    "from collections import deque \n",
    "from functools import reduce\n",
    "from itertools import product\n",
    "from itertools import combinations\n",
    "from itertools import chain\n",
    "from functools import lru_cache\n",
    "from scipy.special import comb\n",
    "from numba import njit\n",
    "from bisect import bisect_right\n",
    "from bisect import bisect_left"
   ]
  },
  {
   "cell_type": "code",
   "execution_count": 66,
   "id": "85093c42-93db-4828-877d-16e5e0711578",
   "metadata": {},
   "outputs": [
    {
     "name": "stdin",
     "output_type": "stream",
     "text": [
      " 10 20\n"
     ]
    }
   ],
   "source": [
    "N, K = map(int, input().split())"
   ]
  },
  {
   "cell_type": "code",
   "execution_count": 67,
   "id": "db6e998a-b020-4aa7-98ff-42d1facf7dd4",
   "metadata": {},
   "outputs": [
    {
     "name": "stdin",
     "output_type": "stream",
     "text": [
      " 1 2 3 4 5 6 7 8 9 10\n"
     ]
    }
   ],
   "source": [
    "Vn = list(map(int, input().split()))"
   ]
  },
  {
   "cell_type": "code",
   "execution_count": 72,
   "id": "32f6df79-aa19-4151-b5d2-7889829262d4",
   "metadata": {},
   "outputs": [],
   "source": [
    "ans = 0\n",
    "for i in range(min(N+1, K+1)):\n",
    "    c = []\n",
    "    for l in range(i):\n",
    "        c.append(Vn[l])\n",
    "    for j in range(min(N+1, K+1)-i):\n",
    "        if j != 0:\n",
    "            c.append(Vn[-j])\n",
    "        c.sort()\n",
    "        d = 0\n",
    "        for k in range(min(K-(i+j), len(c))):\n",
    "            if c[k] >= 0:\n",
    "                break\n",
    "            d += 1\n",
    "        ans = max(ans, sum(c[d:]))\n",
    "#         print(i, j, ans, d, c)"
   ]
  },
  {
   "cell_type": "code",
   "execution_count": 73,
   "id": "dcd57b8b-1fbe-4ecc-8c29-ac57c1b628b7",
   "metadata": {},
   "outputs": [
    {
     "name": "stdout",
     "output_type": "stream",
     "text": [
      "55\n"
     ]
    }
   ],
   "source": [
    "print(ans)"
   ]
  },
  {
   "cell_type": "code",
   "execution_count": 51,
   "id": "a0e24e38-b44f-41db-9814-56eadb3e7716",
   "metadata": {},
   "outputs": [
    {
     "data": {
      "text/plain": [
       "49"
      ]
     },
     "execution_count": 51,
     "metadata": {},
     "output_type": "execute_result"
    }
   ],
   "source": [
    "sum(c)"
   ]
  },
  {
   "cell_type": "code",
   "execution_count": 5,
   "id": "90313453-2f8e-475a-babb-84655bc98b96",
   "metadata": {},
   "outputs": [
    {
     "data": {
      "text/plain": [
       "1125899906842624"
      ]
     },
     "execution_count": 5,
     "metadata": {},
     "output_type": "execute_result"
    }
   ],
   "source": [
    "2**50"
   ]
  },
  {
   "cell_type": "code",
   "execution_count": 6,
   "id": "4eb0e5cd-b762-4cde-a3f8-1f9c084c5983",
   "metadata": {},
   "outputs": [
    {
     "data": {
      "text/plain": [
       "9"
      ]
     },
     "execution_count": 6,
     "metadata": {},
     "output_type": "execute_result"
    }
   ],
   "source": [
    "sum(Vn)"
   ]
  },
  {
   "cell_type": "code",
   "execution_count": 45,
   "id": "229d5b68-8777-4f13-8f12-6debca92c33c",
   "metadata": {},
   "outputs": [
    {
     "data": {
      "text/plain": [
       "10000000"
      ]
     },
     "execution_count": 45,
     "metadata": {},
     "output_type": "execute_result"
    }
   ],
   "source": [
    "500000000-490000000"
   ]
  },
  {
   "cell_type": "code",
   "execution_count": null,
   "id": "bd466a5d-285b-494e-a548-48a00eb7357c",
   "metadata": {},
   "outputs": [],
   "source": []
  }
 ],
 "metadata": {
  "kernelspec": {
   "display_name": "Python 3",
   "language": "python",
   "name": "python3"
  },
  "language_info": {
   "codemirror_mode": {
    "name": "ipython",
    "version": 3
   },
   "file_extension": ".py",
   "mimetype": "text/x-python",
   "name": "python",
   "nbconvert_exporter": "python",
   "pygments_lexer": "ipython3",
   "version": "3.6.13"
  }
 },
 "nbformat": 4,
 "nbformat_minor": 5
}
