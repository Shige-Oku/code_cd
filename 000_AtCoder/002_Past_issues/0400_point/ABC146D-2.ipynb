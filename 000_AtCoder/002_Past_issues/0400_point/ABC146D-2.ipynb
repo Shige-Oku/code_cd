{
 "cells": [
  {
   "cell_type": "code",
   "execution_count": null,
   "id": "fff1c81e-b248-4cfc-be6b-26e658036dc0",
   "metadata": {},
   "outputs": [],
   "source": [
    "# WA"
   ]
  },
  {
   "cell_type": "code",
   "execution_count": 1,
   "id": "f2e8b9ba-1bdc-4962-8bc0-a62e03172d2c",
   "metadata": {},
   "outputs": [],
   "source": [
    "import sys\n",
    "import numpy as np\n",
    "import math\n",
    "import collections\n",
    "import copy\n",
    "import decimal\n",
    "import itertools\n",
    "import re\n",
    "import bisect\n",
    "import scipy\n",
    "import heapq\n",
    "from collections import deque \n",
    "from functools import reduce\n",
    "from itertools import product\n",
    "from itertools import combinations\n",
    "from itertools import chain\n",
    "from functools import lru_cache\n",
    "from scipy.special import comb\n",
    "from numba import njit\n",
    "from bisect import bisect_right\n",
    "from bisect import bisect_left"
   ]
  },
  {
   "cell_type": "code",
   "execution_count": 13,
   "id": "4217a2c9-c423-40c4-b197-d18543baeb0b",
   "metadata": {},
   "outputs": [
    {
     "name": "stdin",
     "output_type": "stream",
     "text": [
      " 9\n"
     ]
    }
   ],
   "source": [
    "N = int(input())"
   ]
  },
  {
   "cell_type": "code",
   "execution_count": 14,
   "id": "596837d4-0d3f-4289-b614-85e26863fdc3",
   "metadata": {},
   "outputs": [
    {
     "name": "stdin",
     "output_type": "stream",
     "text": [
      " 1 6\n",
      " 1 4\n",
      " 1 9\n",
      " 4 5\n",
      " 1 7\n",
      " 2 3\n",
      " 4 8\n",
      " 1 2\n"
     ]
    }
   ],
   "source": [
    "AB = [list(map(int, input().split())) for _ in range(N-1)]"
   ]
  },
  {
   "cell_type": "code",
   "execution_count": 23,
   "id": "cdfeaf17-e37e-4c22-ab9b-8b7bebfd4609",
   "metadata": {},
   "outputs": [],
   "source": [
    "AB_s = sorted(AB)\n",
    "graph = [[] for _ in range(N+1)]\n",
    "for A, B in AB_s:\n",
    "    graph[A].append(B)\n",
    "    graph[B].append(A)"
   ]
  },
  {
   "cell_type": "code",
   "execution_count": 24,
   "id": "3091c2dc-3b53-498e-88e3-f61d091e27a5",
   "metadata": {},
   "outputs": [],
   "source": [
    "colors = [-1] * (N+1)\n",
    "q = deque()\n",
    "q.append(1)\n",
    "colors[1] = 0\n",
    "while q:\n",
    "    p = q.popleft()\n",
    "    i = 1\n",
    "    for gr in graph[p]:\n",
    "        if colors[gr] != -1:\n",
    "            continue\n",
    "        if i == colors[p]:\n",
    "            i += 1\n",
    "        colors[gr] = i\n",
    "        q.append(gr)\n",
    "        i += 1"
   ]
  },
  {
   "cell_type": "code",
   "execution_count": 25,
   "id": "f1380826-11ef-4cd5-b7de-63528707ae94",
   "metadata": {},
   "outputs": [
    {
     "name": "stdout",
     "output_type": "stream",
     "text": [
      "5\n",
      "1\n",
      "2\n",
      "2\n",
      "1\n",
      "3\n",
      "4\n",
      "3\n",
      "5\n"
     ]
    }
   ],
   "source": [
    "print(max(colors[2:]))\n",
    "for color in colors[2:]:\n",
    "    print(color)"
   ]
  },
  {
   "cell_type": "code",
   "execution_count": 19,
   "id": "e5414046-980e-457d-a708-d379ea518bc8",
   "metadata": {},
   "outputs": [
    {
     "data": {
      "text/plain": [
       "(1, 2, 3, 4, 5)"
      ]
     },
     "execution_count": 19,
     "metadata": {},
     "output_type": "execute_result"
    }
   ],
   "source": [
    "colors[6], colors[4], colors[9], colors[7], colors[2]"
   ]
  },
  {
   "cell_type": "code",
   "execution_count": 21,
   "id": "74c56392-26d7-4015-933e-0b21ddd381aa",
   "metadata": {},
   "outputs": [
    {
     "data": {
      "text/plain": [
       "(2, 1, 3)"
      ]
     },
     "execution_count": 21,
     "metadata": {},
     "output_type": "execute_result"
    }
   ],
   "source": [
    "colors[4], colors[5], colors[8]"
   ]
  },
  {
   "cell_type": "code",
   "execution_count": 22,
   "id": "4556740a-7f5f-47ec-a4e0-36bf9ef0cdde",
   "metadata": {},
   "outputs": [
    {
     "data": {
      "text/plain": [
       "(5, 1)"
      ]
     },
     "execution_count": 22,
     "metadata": {},
     "output_type": "execute_result"
    }
   ],
   "source": [
    "colors[2], colors[3]"
   ]
  },
  {
   "cell_type": "code",
   "execution_count": null,
   "id": "eeccd075-f8b2-41f3-8db2-ca7c9260ca9c",
   "metadata": {},
   "outputs": [],
   "source": []
  }
 ],
 "metadata": {
  "kernelspec": {
   "display_name": "Python 3",
   "language": "python",
   "name": "python3"
  },
  "language_info": {
   "codemirror_mode": {
    "name": "ipython",
    "version": 3
   },
   "file_extension": ".py",
   "mimetype": "text/x-python",
   "name": "python",
   "nbconvert_exporter": "python",
   "pygments_lexer": "ipython3",
   "version": "3.6.13"
  }
 },
 "nbformat": 4,
 "nbformat_minor": 5
}
