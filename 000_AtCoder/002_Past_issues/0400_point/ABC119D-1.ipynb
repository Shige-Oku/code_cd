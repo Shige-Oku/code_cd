{
 "cells": [
  {
   "cell_type": "code",
   "execution_count": 1,
   "id": "9a2380f1-5afd-4fcc-9a69-3f6e09c51845",
   "metadata": {},
   "outputs": [],
   "source": [
    "import sys\n",
    "import numpy as np\n",
    "import math\n",
    "import collections\n",
    "import copy\n",
    "import decimal\n",
    "import itertools\n",
    "import re\n",
    "import bisect\n",
    "import scipy\n",
    "import heapq\n",
    "from collections import deque \n",
    "from functools import reduce\n",
    "from itertools import product\n",
    "from itertools import combinations\n",
    "from itertools import chain\n",
    "from functools import lru_cache\n",
    "from scipy.special import comb\n",
    "from numba import njit\n",
    "from bisect import bisect_right\n",
    "from bisect import bisect_left"
   ]
  },
  {
   "cell_type": "code",
   "execution_count": 2,
   "id": "9e321056-9cfa-48af-9357-4eacf3287a40",
   "metadata": {},
   "outputs": [
    {
     "name": "stdin",
     "output_type": "stream",
     "text": [
      " 2 3 4\n"
     ]
    }
   ],
   "source": [
    "A, B, Q = map(int, input().split())"
   ]
  },
  {
   "cell_type": "code",
   "execution_count": 3,
   "id": "fd21bec4-fdba-4ccf-8377-ac198d72784b",
   "metadata": {},
   "outputs": [
    {
     "name": "stdin",
     "output_type": "stream",
     "text": [
      " 100\n",
      " 600\n"
     ]
    }
   ],
   "source": [
    "Sn = [int(input()) for _ in range(A)]"
   ]
  },
  {
   "cell_type": "code",
   "execution_count": 4,
   "id": "a842be8e-3299-4fa3-8e9b-ead7f0ff4819",
   "metadata": {},
   "outputs": [
    {
     "name": "stdin",
     "output_type": "stream",
     "text": [
      " 400\n",
      " 900\n",
      " 1000\n"
     ]
    }
   ],
   "source": [
    "Tn = [int(input()) for _ in range(B)]"
   ]
  },
  {
   "cell_type": "code",
   "execution_count": 5,
   "id": "9960abcf-95f6-4b6e-a2dd-c9c0b4ca41e1",
   "metadata": {},
   "outputs": [
    {
     "name": "stdin",
     "output_type": "stream",
     "text": [
      " 150\n",
      " 2000\n",
      " 899\n",
      " 799\n"
     ]
    }
   ],
   "source": [
    "Xn =  [int(input()) for _ in range(Q)]"
   ]
  },
  {
   "cell_type": "code",
   "execution_count": 29,
   "id": "e7ff663c-2d70-474f-8d05-71ee1f64e3de",
   "metadata": {},
   "outputs": [
    {
     "name": "stdout",
     "output_type": "stream",
     "text": [
      "350\n",
      "1400\n",
      "301\n",
      "399\n"
     ]
    }
   ],
   "source": [
    "for X in Xn:\n",
    "    si = bisect_left(Sn, X)\n",
    "    S_l = max(0, si-1)\n",
    "    S_r = min(A-1, si)\n",
    "    ti = bisect_left(Tn, X)\n",
    "    T_l = max(0, ti-1)\n",
    "    T_r = min(B-1, ti)\n",
    "#     print(Sn[S_l], Sn[S_r], Tn[T_l], Tn[T_r])\n",
    "    ans = abs(X - Sn[S_l]) + min(abs(Sn[S_l] - Tn[T_l]),  abs(Sn[S_l] - Tn[T_r]))\n",
    "    ans = min(ans, abs(X - Sn[S_r]) + min(abs(Sn[S_r] - Tn[T_l]),  abs(Sn[S_r] - Tn[T_r])))\n",
    "    ans = min(ans, abs(X - Tn[T_l]) + min(abs(Tn[T_l] - Sn[S_l]),  abs(Tn[T_l] - Sn[S_r])))\n",
    "    ans = min(ans, abs(X - Tn[T_r]) + min(abs(Tn[T_r] - Sn[S_l]),  abs(Tn[T_r] - Sn[S_r])))\n",
    "    print(ans)"
   ]
  },
  {
   "cell_type": "code",
   "execution_count": 7,
   "id": "df77eae9-c26d-40b5-84c3-0752a80fdf2c",
   "metadata": {},
   "outputs": [
    {
     "data": {
      "text/plain": [
       "(1, 1)"
      ]
     },
     "execution_count": 7,
     "metadata": {},
     "output_type": "execute_result"
    }
   ],
   "source": [
    "bisect_right(Sn, Xn[0]), bisect_left(Sn, Xn[0])"
   ]
  },
  {
   "cell_type": "code",
   "execution_count": null,
   "id": "abfc7e10-3e4d-46f9-9347-6071bb11f3a3",
   "metadata": {},
   "outputs": [],
   "source": []
  }
 ],
 "metadata": {
  "kernelspec": {
   "display_name": "Python 3",
   "language": "python",
   "name": "python3"
  },
  "language_info": {
   "codemirror_mode": {
    "name": "ipython",
    "version": 3
   },
   "file_extension": ".py",
   "mimetype": "text/x-python",
   "name": "python",
   "nbconvert_exporter": "python",
   "pygments_lexer": "ipython3",
   "version": "3.6.13"
  }
 },
 "nbformat": 4,
 "nbformat_minor": 5
}
