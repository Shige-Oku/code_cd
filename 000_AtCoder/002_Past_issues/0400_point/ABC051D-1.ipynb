{
 "cells": [
  {
   "cell_type": "code",
   "execution_count": null,
   "id": "1cf33f18-24d8-4adf-8d0d-6eb85b240279",
   "metadata": {},
   "outputs": [],
   "source": [
    "# WA"
   ]
  },
  {
   "cell_type": "code",
   "execution_count": 1,
   "id": "f116c0a4-1495-4e6f-9f5d-8562014708ed",
   "metadata": {},
   "outputs": [],
   "source": [
    "import sys\n",
    "import numpy as np\n",
    "import math\n",
    "import collections\n",
    "import copy\n",
    "import decimal\n",
    "import itertools\n",
    "import re\n",
    "import bisect\n",
    "import scipy\n",
    "import heapq\n",
    "from collections import deque \n",
    "from functools import reduce\n",
    "from itertools import product\n",
    "from itertools import combinations\n",
    "from itertools import chain\n",
    "from functools import lru_cache\n",
    "from scipy.special import comb\n",
    "from numba import njit\n",
    "from bisect import bisect_right\n",
    "from bisect import bisect_left"
   ]
  },
  {
   "cell_type": "code",
   "execution_count": 2,
   "id": "efc9a51d-9942-4f94-afcb-8b8afdc7e515",
   "metadata": {},
   "outputs": [
    {
     "name": "stdin",
     "output_type": "stream",
     "text": [
      " 3 3 \n"
     ]
    }
   ],
   "source": [
    "N, M = map(int, input().split())"
   ]
  },
  {
   "cell_type": "code",
   "execution_count": 3,
   "id": "cca52389-e65c-4baa-83da-173305d51535",
   "metadata": {},
   "outputs": [
    {
     "name": "stdin",
     "output_type": "stream",
     "text": [
      " 1 2 1\n",
      " 1 3 1\n",
      " 2 3 3\n"
     ]
    }
   ],
   "source": [
    "ABC = [list(map(int, input().split())) for _ in range(M)]"
   ]
  },
  {
   "cell_type": "code",
   "execution_count": 32,
   "id": "a8383dd6-f4bf-4523-aab5-8a2fd18333e1",
   "metadata": {},
   "outputs": [],
   "source": [
    "graph = [[] for _ in range(N+1)]\n",
    "for A, B, C in ABC:\n",
    "    graph[A].append((B, C))\n",
    "    graph[B].append((A, C))"
   ]
  },
  {
   "cell_type": "code",
   "execution_count": 49,
   "id": "3fac43fb-0201-43a9-9345-0902555830c3",
   "metadata": {},
   "outputs": [],
   "source": [
    "marked = [False] * (N+1)\n",
    "marked_count = 0\n",
    "q = []\n",
    "heapq.heappush(q, (0, 1))\n",
    "d = 0\n",
    "while marked_count < N:\n",
    "    c, p = heapq.heappop(q)\n",
    "    if marked[p]:\n",
    "        d += 1\n",
    "        continue\n",
    "    marked[p] = True\n",
    "    marked_count += 1\n",
    "    for p2, c2 in graph[p]:\n",
    "        if marked[p2]:\n",
    "            continue\n",
    "        heapq.heappush(q, (c2, p2))\n"
   ]
  },
  {
   "cell_type": "code",
   "execution_count": 47,
   "id": "a299ad11-9a82-4afe-be35-a56b88ae6661",
   "metadata": {},
   "outputs": [
    {
     "name": "stdout",
     "output_type": "stream",
     "text": [
      "1\n"
     ]
    }
   ],
   "source": [
    "print(len(q)+d)"
   ]
  },
  {
   "cell_type": "code",
   "execution_count": 39,
   "id": "2064094d-69fc-4b07-950a-86e63ce8f437",
   "metadata": {},
   "outputs": [],
   "source": [
    "for c, p in q:\n",
    "    print(c, p)"
   ]
  },
  {
   "cell_type": "code",
   "execution_count": 40,
   "id": "f626e4a7-575d-48ca-9f6a-0e27331f192c",
   "metadata": {},
   "outputs": [
    {
     "data": {
      "text/plain": [
       "([[], [(2, 1), (3, 1)], [(3, 3)], []], [False, True, False, False], 1)"
      ]
     },
     "execution_count": 40,
     "metadata": {},
     "output_type": "execute_result"
    }
   ],
   "source": [
    "graph, marked, marked_count"
   ]
  },
  {
   "cell_type": "code",
   "execution_count": null,
   "id": "d89b9ba1-77a9-48e9-b517-ac9985a8aa86",
   "metadata": {},
   "outputs": [],
   "source": []
  }
 ],
 "metadata": {
  "kernelspec": {
   "display_name": "Python 3",
   "language": "python",
   "name": "python3"
  },
  "language_info": {
   "codemirror_mode": {
    "name": "ipython",
    "version": 3
   },
   "file_extension": ".py",
   "mimetype": "text/x-python",
   "name": "python",
   "nbconvert_exporter": "python",
   "pygments_lexer": "ipython3",
   "version": "3.6.13"
  }
 },
 "nbformat": 4,
 "nbformat_minor": 5
}
