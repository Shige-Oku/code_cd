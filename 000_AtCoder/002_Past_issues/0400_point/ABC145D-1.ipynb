{
 "cells": [
  {
   "cell_type": "code",
   "execution_count": null,
   "id": "aba18153-3139-4a59-8eb2-3b424ce54178",
   "metadata": {},
   "outputs": [],
   "source": [
    "# 解説を読んで実装"
   ]
  },
  {
   "cell_type": "code",
   "execution_count": 1,
   "id": "09fadbd4-2bff-4ef5-a52f-58f5a7fe7b32",
   "metadata": {},
   "outputs": [],
   "source": [
    "import sys\n",
    "import numpy as np\n",
    "import math\n",
    "import collections\n",
    "import copy\n",
    "import decimal\n",
    "import itertools\n",
    "import re\n",
    "import bisect\n",
    "import scipy\n",
    "import heapq\n",
    "from collections import deque \n",
    "from functools import reduce\n",
    "from itertools import product\n",
    "from itertools import combinations\n",
    "from itertools import chain\n",
    "from functools import lru_cache\n",
    "from scipy.special import comb\n",
    "from numba import njit\n",
    "from bisect import bisect_right\n",
    "from bisect import bisect_left"
   ]
  },
  {
   "cell_type": "code",
   "execution_count": 14,
   "id": "43dcc027-41d5-4b03-a57d-5ae3d99d4e0d",
   "metadata": {},
   "outputs": [
    {
     "name": "stdin",
     "output_type": "stream",
     "text": [
      " 999999 999999\n"
     ]
    }
   ],
   "source": [
    "X, Y  = map(int, input().split())"
   ]
  },
  {
   "cell_type": "code",
   "execution_count": 68,
   "id": "3ebfb1f2-ba37-4a62-8365-ee6ffba50a13",
   "metadata": {},
   "outputs": [],
   "source": [
    "def modinv(x, mod):\n",
    "    return pow(x, mod-2, mod)"
   ]
  },
  {
   "cell_type": "code",
   "execution_count": 69,
   "id": "fe8899c4-f009-4c06-a7b1-210679357208",
   "metadata": {},
   "outputs": [],
   "source": [
    "def binomial_coefficients(n, k, mod):\n",
    "    ans = 1\n",
    "    for i in range(k):\n",
    "        ans *= n-i\n",
    "        ans *= modinv_table[i + 1]\n",
    "        ans %= mod\n",
    "    return ans"
   ]
  },
  {
   "cell_type": "code",
   "execution_count": 73,
   "id": "ba650681-4884-40e6-9e24-4c3322b32999",
   "metadata": {},
   "outputs": [
    {
     "name": "stdout",
     "output_type": "stream",
     "text": [
      "151840682\n"
     ]
    }
   ],
   "source": [
    "if (X+Y) % 3 != 0:\n",
    "    print('0')\n",
    "elif X * 2 < Y or X > Y * 2:\n",
    "    print('0')\n",
    "else:\n",
    "    sa = abs(X-Y)\n",
    "    sb = min(X, Y) - sa\n",
    "    sb //= 3\n",
    "    modinv_table = [-1] * (sb*2+sa+1)\n",
    "    for i in range(1, sb*2+sa+1):\n",
    "        modinv_table[i] = modinv(i, 10**9+7)\n",
    "    print(binomial_coefficients(sb*2+sa, sb, 10**9+7))"
   ]
  },
  {
   "cell_type": "code",
   "execution_count": 72,
   "id": "0fd3c8c3-5315-4947-b938-f180abebcf3d",
   "metadata": {},
   "outputs": [
    {
     "data": {
      "text/plain": [
       "999999"
      ]
     },
     "execution_count": 72,
     "metadata": {},
     "output_type": "execute_result"
    }
   ],
   "source": [
    "sb"
   ]
  },
  {
   "cell_type": "code",
   "execution_count": 66,
   "id": "ecc321da-4155-4dba-a817-e1a81d8b209d",
   "metadata": {},
   "outputs": [],
   "source": [
    "mod = 10**9+7\n",
    "modinv_table = [-1] * (X+1)\n",
    "for i in range(1, X+1):\n",
    "    modinv_table[i] = modinv(i, mod)"
   ]
  },
  {
   "cell_type": "code",
   "execution_count": 70,
   "id": "c6f2744a-2c81-4be1-ad67-fb9a07ebaf23",
   "metadata": {},
   "outputs": [
    {
     "data": {
      "text/plain": [
       "151840682"
      ]
     },
     "execution_count": 70,
     "metadata": {},
     "output_type": "execute_result"
    }
   ],
   "source": [
    "binomial_coefficients(666666, 333333, mod)"
   ]
  },
  {
   "cell_type": "code",
   "execution_count": 44,
   "id": "794fccb6-8673-478d-9a0c-844f0b1eec05",
   "metadata": {},
   "outputs": [],
   "source": [
    "fac = [0] * 10**6\n",
    "finv = [0] * 10**6\n",
    "inv = [0] * 10**6\n",
    "fac[0], fac[1] = 1, 1\n",
    "finv[0], finv[1] = 1, 1\n",
    "inv[1] = 1"
   ]
  },
  {
   "cell_type": "code",
   "execution_count": null,
   "id": "39047086-725e-4e5d-a000-e7ae778d5f88",
   "metadata": {},
   "outputs": [],
   "source": []
  },
  {
   "cell_type": "code",
   "execution_count": 50,
   "id": "1f4188a8-3301-4053-9233-5f5d3e23e72d",
   "metadata": {},
   "outputs": [],
   "source": [
    "def my_comint(m):\n",
    "    for i in range(2, 10**6):\n",
    "        fac[i] = fac[i-1] * i % m\n",
    "        inv[i] = m - inv[m%i] * (m / i) % m\n",
    "        finv[i] = finv[i-1] * inv[i] % m"
   ]
  },
  {
   "cell_type": "code",
   "execution_count": 51,
   "id": "a6217c7a-b00d-49d2-9b98-7194ed310d35",
   "metadata": {},
   "outputs": [],
   "source": [
    "def my_com(n, k, m):\n",
    "    if n < k:\n",
    "        return 0\n",
    "    if n < 0 or k < 0:\n",
    "        return 0\n",
    "    return fac[n] * (finv[k] * finv[n-k] % m) % m"
   ]
  },
  {
   "cell_type": "code",
   "execution_count": 38,
   "id": "7ca6f950-8787-483b-b556-1a2ff1566823",
   "metadata": {},
   "outputs": [],
   "source": [
    "def my_comb(a, b, m):\n",
    "    ret = 1\n",
    "    for i in range(1, b+1):\n",
    "        ret *= (a-i+1)\n",
    "        ret /= i\n",
    "#         ret %= m\n",
    "    print(a, i, ret)\n",
    "    return ret % m "
   ]
  },
  {
   "cell_type": "code",
   "execution_count": 59,
   "id": "5348e422-7fd3-4382-9ade-8a4b51a5abc7",
   "metadata": {},
   "outputs": [],
   "source": [
    "my_comint(10**9+7)"
   ]
  },
  {
   "cell_type": "code",
   "execution_count": 60,
   "id": "7e72d624-8f0a-4973-95af-b6231ab5f6a3",
   "metadata": {},
   "outputs": [
    {
     "data": {
      "text/plain": [
       "999999587.0"
      ]
     },
     "execution_count": 60,
     "metadata": {},
     "output_type": "execute_result"
    }
   ],
   "source": [
    "my_com(5, 3, 10**9+7)"
   ]
  },
  {
   "cell_type": "code",
   "execution_count": 39,
   "id": "4f3d20e5-41fe-4393-84ba-76b7bd89ae1e",
   "metadata": {},
   "outputs": [
    {
     "name": "stdout",
     "output_type": "stream",
     "text": [
      "666666 333333 inf\n"
     ]
    },
    {
     "data": {
      "text/plain": [
       "nan"
      ]
     },
     "execution_count": 39,
     "metadata": {},
     "output_type": "execute_result"
    }
   ],
   "source": [
    "my_comb(666666, 333333, 10**9+7)"
   ]
  },
  {
   "cell_type": "code",
   "execution_count": 13,
   "id": "14bbf65b-62ce-496a-a5d3-bba2a68fae7f",
   "metadata": {},
   "outputs": [
    {
     "data": {
      "text/plain": [
       "3"
      ]
     },
     "execution_count": 13,
     "metadata": {},
     "output_type": "execute_result"
    }
   ],
   "source": [
    "sb"
   ]
  },
  {
   "cell_type": "code",
   "execution_count": 17,
   "id": "d367407e-fc55-4809-9302-b75037d5342a",
   "metadata": {},
   "outputs": [
    {
     "data": {
      "text/plain": [
       "110888112"
      ]
     },
     "execution_count": 17,
     "metadata": {},
     "output_type": "execute_result"
    }
   ],
   "source": [
    "333333*333333%(10**9+7)"
   ]
  },
  {
   "cell_type": "code",
   "execution_count": 18,
   "id": "bc3c28f7-f2cd-4b15-9cb7-e01117a1bcb4",
   "metadata": {},
   "outputs": [
    {
     "data": {
      "text/plain": [
       "903854489"
      ]
     },
     "execution_count": 18,
     "metadata": {},
     "output_type": "execute_result"
    }
   ],
   "source": [
    "2**333333%(10**9+7)"
   ]
  },
  {
   "cell_type": "code",
   "execution_count": null,
   "id": "7e6c6e5d-48e4-4048-aee5-08f9e5c23189",
   "metadata": {},
   "outputs": [],
   "source": []
  }
 ],
 "metadata": {
  "kernelspec": {
   "display_name": "Python 3",
   "language": "python",
   "name": "python3"
  },
  "language_info": {
   "codemirror_mode": {
    "name": "ipython",
    "version": 3
   },
   "file_extension": ".py",
   "mimetype": "text/x-python",
   "name": "python",
   "nbconvert_exporter": "python",
   "pygments_lexer": "ipython3",
   "version": "3.6.13"
  }
 },
 "nbformat": 4,
 "nbformat_minor": 5
}
