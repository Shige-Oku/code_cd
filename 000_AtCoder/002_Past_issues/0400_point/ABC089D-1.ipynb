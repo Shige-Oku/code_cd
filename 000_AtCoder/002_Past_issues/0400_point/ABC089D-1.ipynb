{
 "cells": [
  {
   "cell_type": "code",
   "execution_count": 1,
   "id": "5a1d365d-cf55-4e3f-b8c2-eaf34c957848",
   "metadata": {},
   "outputs": [],
   "source": [
    "import sys\n",
    "import numpy as np\n",
    "import math\n",
    "import collections\n",
    "import copy\n",
    "import decimal\n",
    "import itertools\n",
    "import re\n",
    "import bisect\n",
    "import scipy\n",
    "import heapq\n",
    "from collections import deque \n",
    "from functools import reduce\n",
    "from itertools import product\n",
    "from itertools import combinations\n",
    "from itertools import chain\n",
    "from functools import lru_cache\n",
    "from scipy.special import comb\n",
    "from numba import njit\n",
    "from bisect import bisect_right\n",
    "from bisect import bisect_left"
   ]
  },
  {
   "cell_type": "code",
   "execution_count": 42,
   "id": "34a65153-1705-4b89-b92f-7a4ac9868c94",
   "metadata": {},
   "outputs": [],
   "source": [
    "sys.setrecursionlimit(10**8)"
   ]
  },
  {
   "cell_type": "code",
   "execution_count": 2,
   "id": "7a7d8dca-dda9-4750-83b1-9cc76dcb582a",
   "metadata": {},
   "outputs": [
    {
     "name": "stdin",
     "output_type": "stream",
     "text": [
      " 3 3 2\n"
     ]
    }
   ],
   "source": [
    "H, W, D = map(int, input().split())"
   ]
  },
  {
   "cell_type": "code",
   "execution_count": 3,
   "id": "31d1553f-a71f-4043-8b04-079b84422cdb",
   "metadata": {},
   "outputs": [
    {
     "name": "stdin",
     "output_type": "stream",
     "text": [
      " 1 4 3\n",
      " 2 5 7\n",
      " 8 9 6\n"
     ]
    }
   ],
   "source": [
    "An = [list(map(int, input().split())) for _ in range(H)]"
   ]
  },
  {
   "cell_type": "code",
   "execution_count": 4,
   "id": "f7a31965-c1d5-4b58-85c4-81c8b8dcf86a",
   "metadata": {},
   "outputs": [
    {
     "name": "stdin",
     "output_type": "stream",
     "text": [
      " 1\n"
     ]
    }
   ],
   "source": [
    "Q = int(input())"
   ]
  },
  {
   "cell_type": "code",
   "execution_count": 5,
   "id": "8b0c1685-3b18-45fc-b068-8f65651051f9",
   "metadata": {},
   "outputs": [
    {
     "name": "stdin",
     "output_type": "stream",
     "text": [
      " 4 8\n"
     ]
    }
   ],
   "source": [
    "LR = [list(map(int, input().split())) for _ in range(Q)]"
   ]
  },
  {
   "cell_type": "code",
   "execution_count": 62,
   "id": "05976349-6f09-43e0-ba84-c5014b58dfe3",
   "metadata": {},
   "outputs": [
    {
     "data": {
      "text/plain": [
       "[[],\n",
       " [[1, 1]],\n",
       " [[2, 1]],\n",
       " [[1, 3]],\n",
       " [[1, 2]],\n",
       " [[2, 2]],\n",
       " [[3, 3]],\n",
       " [[2, 3]],\n",
       " [[3, 1]],\n",
       " [[3, 2]]]"
      ]
     },
     "execution_count": 62,
     "metadata": {},
     "output_type": "execute_result"
    }
   ],
   "source": [
    "graph"
   ]
  },
  {
   "cell_type": "code",
   "execution_count": 82,
   "id": "dbe3aa23-96f7-4e50-9f90-bbca24da78b6",
   "metadata": {},
   "outputs": [],
   "source": [
    "graph = [[] for _ in range(H * W +1)]\n",
    "for i in range(1, H+1):\n",
    "    for j in range(1, W+1):\n",
    "        graph[An[i-1][j-1]].append([i, j])\n",
    "cost = [0] * (H*W+1)\n",
    "for i in range(D+1, H*W+1):\n",
    "    x1, y1 = graph[i-D][0]\n",
    "    x2, y2 = graph[i][0]\n",
    "    cost[i] = abs(x1-x2) + abs(y1-y2) + cost[i-D]\n"
   ]
  },
  {
   "cell_type": "code",
   "execution_count": 83,
   "id": "6e9ec315-0dd7-4acb-bd38-14fe11af0407",
   "metadata": {},
   "outputs": [
    {
     "data": {
      "text/plain": [
       "([0, 0, 0, 2, 2, 4, 5, 5, 7, 7], 9)"
      ]
     },
     "execution_count": 83,
     "metadata": {},
     "output_type": "execute_result"
    }
   ],
   "source": [
    "cost, i"
   ]
  },
  {
   "cell_type": "code",
   "execution_count": 86,
   "id": "8621a90e-ff42-406a-bdc8-9e1de55cdbe0",
   "metadata": {},
   "outputs": [],
   "source": [
    "def solve(L, R):\n",
    "    if L % D == 0:\n",
    "        s = D\n",
    "    else:\n",
    "        s = L % D\n",
    "    return cost[R] - cost[L]"
   ]
  },
  {
   "cell_type": "code",
   "execution_count": 87,
   "id": "43da8760-7936-46e3-a2ee-7889af3cdb01",
   "metadata": {},
   "outputs": [
    {
     "name": "stdout",
     "output_type": "stream",
     "text": [
      "5\n"
     ]
    }
   ],
   "source": [
    "for L, R in LR:\n",
    "    print(solve(L, R))\n"
   ]
  },
  {
   "cell_type": "code",
   "execution_count": 56,
   "id": "75b236fe-c6e5-4bbf-84f9-759345fc0337",
   "metadata": {},
   "outputs": [],
   "source": [
    "@lru_cache(maxsize=None)\n",
    "def DFS(L, R):\n",
    "    if L == R:\n",
    "        return 0\n",
    "    x1, y1 = graph[L][0]\n",
    "    x2, y2 = graph[L+D][0]\n",
    "    ret = abs(x1-x2) + abs(y1-y2)\n",
    "    ret += DFS(L+D, R)\n",
    "    return ret"
   ]
  },
  {
   "cell_type": "code",
   "execution_count": 37,
   "id": "98900798-0c11-4169-bf9c-28b1b2b745a5",
   "metadata": {},
   "outputs": [
    {
     "name": "stdout",
     "output_type": "stream",
     "text": [
      "1 3 2 3 3\n",
      "3 3 3 1 5\n"
     ]
    },
    {
     "data": {
      "text/plain": [
       "5"
      ]
     },
     "execution_count": 37,
     "metadata": {},
     "output_type": "execute_result"
    }
   ],
   "source": [
    "solve(LR[0][0], LR[0][1])"
   ]
  },
  {
   "cell_type": "code",
   "execution_count": 27,
   "id": "6f77a5bd-4748-471d-babc-ca75d58c634f",
   "metadata": {},
   "outputs": [
    {
     "data": {
      "text/plain": [
       "([[],\n",
       "  [[1, 1]],\n",
       "  [[2, 1]],\n",
       "  [[1, 3]],\n",
       "  [[1, 2]],\n",
       "  [[2, 2]],\n",
       "  [[3, 3]],\n",
       "  [[2, 3]],\n",
       "  [[3, 1]],\n",
       "  [[3, 2]]],\n",
       " 3,\n",
       " 3,\n",
       " [[1, 1]])"
      ]
     },
     "execution_count": 27,
     "metadata": {},
     "output_type": "execute_result"
    }
   ],
   "source": [
    "graph, i, j, graph[1]"
   ]
  },
  {
   "cell_type": "code",
   "execution_count": 30,
   "id": "152ee4c2-b955-4171-9ad2-c0bceab47469",
   "metadata": {},
   "outputs": [],
   "source": [
    "a, b = graph[2][0]"
   ]
  },
  {
   "cell_type": "code",
   "execution_count": 31,
   "id": "c67e72be-5ce1-4a47-b682-46e77753e00a",
   "metadata": {},
   "outputs": [
    {
     "data": {
      "text/plain": [
       "(2, 1)"
      ]
     },
     "execution_count": 31,
     "metadata": {},
     "output_type": "execute_result"
    }
   ],
   "source": [
    "a, b"
   ]
  },
  {
   "cell_type": "code",
   "execution_count": null,
   "id": "a54de2e8-d87f-45dd-a77f-49c86def22ac",
   "metadata": {},
   "outputs": [],
   "source": []
  }
 ],
 "metadata": {
  "kernelspec": {
   "display_name": "Python 3",
   "language": "python",
   "name": "python3"
  },
  "language_info": {
   "codemirror_mode": {
    "name": "ipython",
    "version": 3
   },
   "file_extension": ".py",
   "mimetype": "text/x-python",
   "name": "python",
   "nbconvert_exporter": "python",
   "pygments_lexer": "ipython3",
   "version": "3.6.13"
  }
 },
 "nbformat": 4,
 "nbformat_minor": 5
}
