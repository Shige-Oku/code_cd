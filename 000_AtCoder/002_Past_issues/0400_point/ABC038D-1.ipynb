{
 "cells": [
  {
   "cell_type": "code",
   "execution_count": null,
   "id": "691524e8-3910-41f8-8c1a-21c06498cb85",
   "metadata": {},
   "outputs": [],
   "source": [
    "# WA"
   ]
  },
  {
   "cell_type": "code",
   "execution_count": 1,
   "id": "c9900dd2-7e9a-4fb2-8407-8cad1539b015",
   "metadata": {},
   "outputs": [],
   "source": [
    "import sys\n",
    "import numpy as np\n",
    "import math\n",
    "import collections\n",
    "import copy\n",
    "import decimal\n",
    "import itertools\n",
    "import re\n",
    "import bisect\n",
    "import scipy\n",
    "import heapq\n",
    "from collections import deque \n",
    "from functools import reduce\n",
    "from itertools import product\n",
    "from itertools import combinations\n",
    "from itertools import chain\n",
    "from functools import lru_cache\n",
    "from scipy.special import comb\n",
    "from numba import njit\n",
    "from bisect import bisect_right\n",
    "from bisect import bisect_left"
   ]
  },
  {
   "cell_type": "code",
   "execution_count": 2,
   "id": "401646f7-0767-419b-850e-075ca36ea40e",
   "metadata": {},
   "outputs": [
    {
     "name": "stdin",
     "output_type": "stream",
     "text": [
      " 3\n"
     ]
    }
   ],
   "source": [
    "N = int(input())"
   ]
  },
  {
   "cell_type": "code",
   "execution_count": 3,
   "id": "a6436524-9b71-4ebc-b245-e7fa89fee3dc",
   "metadata": {},
   "outputs": [
    {
     "name": "stdin",
     "output_type": "stream",
     "text": [
      " 3 3\n",
      " 1 1\n",
      " 2 2\n"
     ]
    }
   ],
   "source": [
    "HW = [list(map(int, input().split())) for _ in range(N)]"
   ]
  },
  {
   "cell_type": "code",
   "execution_count": 5,
   "id": "addd063a-cdee-43b7-80e7-4576308b1904",
   "metadata": {},
   "outputs": [],
   "source": [
    "HW_sh = sorted(HW, reverse=True, key=lambda x: (x[0], x[1]))\n",
    "HW_sw = sorted(HW, reverse=True, key=lambda x: (x[1], x[0]))"
   ]
  },
  {
   "cell_type": "code",
   "execution_count": 7,
   "id": "e6267fe4-d1cd-4ff3-88a8-0c5737921e84",
   "metadata": {},
   "outputs": [],
   "source": [
    "ans_h = 0\n",
    "h, w = 10**6, 10**6\n",
    "for H, W in HW_sh:\n",
    "    if H < h and W < w:\n",
    "        ans_h += 1\n",
    "        h, w = H, W\n",
    "ans_w = 0\n",
    "h, w = 10**6, 10**6\n",
    "for H, W in HW_sw:\n",
    "    if H < h and W < w:\n",
    "        ans_w += 1\n",
    "        h, w = H, W\n"
   ]
  },
  {
   "cell_type": "code",
   "execution_count": 8,
   "id": "45c3fce7-4b6c-4566-998f-07b36ef7af37",
   "metadata": {},
   "outputs": [
    {
     "name": "stdout",
     "output_type": "stream",
     "text": [
      "3\n"
     ]
    }
   ],
   "source": [
    "print(max(ans_h, ans_w))"
   ]
  },
  {
   "cell_type": "code",
   "execution_count": null,
   "id": "44c9ee4e-ba3d-44fa-815f-29f1e3fa26b2",
   "metadata": {},
   "outputs": [],
   "source": []
  }
 ],
 "metadata": {
  "kernelspec": {
   "display_name": "Python 3",
   "language": "python",
   "name": "python3"
  },
  "language_info": {
   "codemirror_mode": {
    "name": "ipython",
    "version": 3
   },
   "file_extension": ".py",
   "mimetype": "text/x-python",
   "name": "python",
   "nbconvert_exporter": "python",
   "pygments_lexer": "ipython3",
   "version": "3.6.13"
  }
 },
 "nbformat": 4,
 "nbformat_minor": 5
}
