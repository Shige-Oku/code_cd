{
 "cells": [
  {
   "cell_type": "code",
   "execution_count": null,
   "id": "50de8964-8c9d-4c9b-9e7b-5ed281c646f5",
   "metadata": {},
   "outputs": [],
   "source": [
    "# サンプルが合わない"
   ]
  },
  {
   "cell_type": "code",
   "execution_count": 2,
   "id": "0ab349a4-fdc9-4a68-91e8-ed4ae72c9857",
   "metadata": {},
   "outputs": [],
   "source": [
    "import sys\n",
    "import numpy as np\n",
    "import math\n",
    "import collections\n",
    "import copy\n",
    "import decimal\n",
    "import itertools\n",
    "import re\n",
    "import bisect\n",
    "import scipy\n",
    "import heapq\n",
    "from collections import deque \n",
    "from functools import reduce\n",
    "from itertools import product\n",
    "from itertools import combinations\n",
    "from itertools import chain\n",
    "from functools import lru_cache\n",
    "from scipy.special import comb\n",
    "from numba import njit\n",
    "from bisect import bisect_right\n",
    "from bisect import bisect_left"
   ]
  },
  {
   "cell_type": "code",
   "execution_count": 1,
   "id": "c78e9080-6c1d-48c9-a214-f189cc6e7fdd",
   "metadata": {},
   "outputs": [
    {
     "name": "stdin",
     "output_type": "stream",
     "text": [
      " 2 4\n"
     ]
    }
   ],
   "source": [
    "A, B = map(int, input().split())"
   ]
  },
  {
   "cell_type": "code",
   "execution_count": 3,
   "id": "63e258d0-b8a6-4d18-92d5-3afc79c352b6",
   "metadata": {},
   "outputs": [],
   "source": [
    "cnt = [0] * 40\n",
    "A1, B1 = A, B\n",
    "for b in range(40, -1, -1):\n",
    "    x = 2**b\n",
    "    if x > B1:\n",
    "        continue\n",
    "    if A1 >= x:\n",
    "        cnt[b] = B1 - A1 + 1\n",
    "        B1 -= x\n",
    "        A1 -= x\n",
    "    else:\n",
    "        cnt[b] = B1 - x + 1\n",
    "        B1 -= x"
   ]
  },
  {
   "cell_type": "code",
   "execution_count": 4,
   "id": "0d12a4c5-5673-4473-91b7-90cdf11a9c67",
   "metadata": {},
   "outputs": [
    {
     "name": "stdout",
     "output_type": "stream",
     "text": [
      "4\n"
     ]
    }
   ],
   "source": [
    "ans = 0\n",
    "for i, cn in enumerate(cnt):\n",
    "    if cn % 2 == 1:\n",
    "        ans += 2**(i)\n",
    "print(ans)"
   ]
  },
  {
   "cell_type": "code",
   "execution_count": null,
   "id": "bc66b5f2-63bf-4b50-9112-024150590898",
   "metadata": {},
   "outputs": [],
   "source": []
  },
  {
   "cell_type": "code",
   "execution_count": 4,
   "id": "760a8de2-9936-4e49-a65d-82747a5c9891",
   "metadata": {},
   "outputs": [
    {
     "data": {
      "text/plain": [
       "1000000.0"
      ]
     },
     "execution_count": 4,
     "metadata": {},
     "output_type": "execute_result"
    }
   ],
   "source": [
    "math.sqrt(10**12)"
   ]
  },
  {
   "cell_type": "code",
   "execution_count": 10,
   "id": "93b15586-242e-4bc1-8ce6-7d4b02bb73b7",
   "metadata": {},
   "outputs": [
    {
     "data": {
      "text/plain": [
       "True"
      ]
     },
     "execution_count": 10,
     "metadata": {},
     "output_type": "execute_result"
    }
   ],
   "source": [
    "10**12 < 2**40"
   ]
  },
  {
   "cell_type": "code",
   "execution_count": null,
   "id": "2c356815-ab4c-4005-ac84-32a19e01cd8d",
   "metadata": {},
   "outputs": [],
   "source": []
  }
 ],
 "metadata": {
  "kernelspec": {
   "display_name": "Python 3",
   "language": "python",
   "name": "python3"
  },
  "language_info": {
   "codemirror_mode": {
    "name": "ipython",
    "version": 3
   },
   "file_extension": ".py",
   "mimetype": "text/x-python",
   "name": "python",
   "nbconvert_exporter": "python",
   "pygments_lexer": "ipython3",
   "version": "3.6.13"
  }
 },
 "nbformat": 4,
 "nbformat_minor": 5
}
