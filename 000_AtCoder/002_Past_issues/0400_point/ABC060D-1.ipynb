{
 "cells": [
  {
   "cell_type": "code",
   "execution_count": 1,
   "id": "f1ae464c-a01b-4fd5-88ce-a9734002c3bb",
   "metadata": {},
   "outputs": [],
   "source": [
    "import sys\n",
    "import numpy as np\n",
    "import math\n",
    "import collections\n",
    "import copy\n",
    "import decimal\n",
    "import itertools\n",
    "import re\n",
    "import bisect\n",
    "import scipy\n",
    "import heapq\n",
    "from collections import deque \n",
    "from functools import reduce\n",
    "from itertools import product\n",
    "from itertools import combinations\n",
    "from itertools import chain\n",
    "from functools import lru_cache\n",
    "from scipy.special import comb\n",
    "from numba import njit\n",
    "from bisect import bisect_right\n",
    "from bisect import bisect_left"
   ]
  },
  {
   "cell_type": "code",
   "execution_count": 1,
   "id": "2144fbd2-d854-49dd-9699-8f9d56aa4df5",
   "metadata": {},
   "outputs": [
    {
     "name": "stdin",
     "output_type": "stream",
     "text": [
      " 4 6\n"
     ]
    }
   ],
   "source": [
    "N, W = map(int, input().split())"
   ]
  },
  {
   "cell_type": "code",
   "execution_count": 2,
   "id": "573ac39f-5a58-4863-8b55-80dc60cfd8d5",
   "metadata": {},
   "outputs": [
    {
     "name": "stdin",
     "output_type": "stream",
     "text": [
      " 2 1\n",
      " 3 4\n",
      " 4 10\n",
      " 3 4\n"
     ]
    }
   ],
   "source": [
    "WV = [list(map(int, input().split())) for _ in range(N)]"
   ]
  },
  {
   "cell_type": "code",
   "execution_count": 7,
   "id": "35b66a68-2cf7-4f86-8e83-bfa90271aa94",
   "metadata": {},
   "outputs": [],
   "source": [
    "WV_s = sorted(WV, key=lambda x:(-x[1]/x[0], x[0]))"
   ]
  },
  {
   "cell_type": "code",
   "execution_count": 11,
   "id": "03b0d22a-a4bd-439d-86b9-6ee62e42d520",
   "metadata": {},
   "outputs": [],
   "source": [
    "ans = 0\n",
    "wt = 0\n",
    "for w, v in WV_s:\n",
    "    if w + wt > W:\n",
    "        continue\n",
    "    ans += v\n",
    "    wt += w"
   ]
  },
  {
   "cell_type": "code",
   "execution_count": 12,
   "id": "4700b4ed-a267-4c44-9a92-49078190a8c4",
   "metadata": {},
   "outputs": [
    {
     "name": "stdout",
     "output_type": "stream",
     "text": [
      "11\n"
     ]
    }
   ],
   "source": [
    "print(ans)"
   ]
  },
  {
   "cell_type": "code",
   "execution_count": 8,
   "id": "9edda68c-c1b5-4a33-90a4-8425226628c7",
   "metadata": {},
   "outputs": [
    {
     "data": {
      "text/plain": [
       "[[4, 10], [3, 4], [3, 4], [2, 1]]"
      ]
     },
     "execution_count": 8,
     "metadata": {},
     "output_type": "execute_result"
    }
   ],
   "source": [
    "WV_s"
   ]
  },
  {
   "cell_type": "code",
   "execution_count": null,
   "id": "ca795008-364f-41a5-a116-80edb9b58348",
   "metadata": {},
   "outputs": [],
   "source": []
  }
 ],
 "metadata": {
  "kernelspec": {
   "display_name": "Python 3",
   "language": "python",
   "name": "python3"
  },
  "language_info": {
   "codemirror_mode": {
    "name": "ipython",
    "version": 3
   },
   "file_extension": ".py",
   "mimetype": "text/x-python",
   "name": "python",
   "nbconvert_exporter": "python",
   "pygments_lexer": "ipython3",
   "version": "3.6.13"
  }
 },
 "nbformat": 4,
 "nbformat_minor": 5
}
