{
 "cells": [
  {
   "cell_type": "code",
   "execution_count": null,
   "id": "02fa8b64-10c4-4bd1-9355-f9d885f9fbd8",
   "metadata": {},
   "outputs": [],
   "source": []
  },
  {
   "cell_type": "code",
   "execution_count": 1,
   "id": "9bab1892-da5b-4d57-8a4d-f27d273407e2",
   "metadata": {},
   "outputs": [],
   "source": [
    "import sys\n",
    "import numpy as np\n",
    "import math\n",
    "import collections\n",
    "import copy\n",
    "import decimal\n",
    "import itertools\n",
    "import re\n",
    "import bisect\n",
    "import scipy\n",
    "import heapq\n",
    "from collections import deque \n",
    "from functools import reduce\n",
    "from itertools import product\n",
    "from itertools import combinations\n",
    "from itertools import chain\n",
    "from functools import lru_cache\n",
    "from scipy.special import comb\n",
    "from numba import njit\n",
    "from bisect import bisect_right\n",
    "from bisect import bisect_left"
   ]
  },
  {
   "cell_type": "code",
   "execution_count": 2,
   "id": "d5a02d16-e396-4495-8537-439d12fd5dc0",
   "metadata": {},
   "outputs": [],
   "source": [
    "sys.setrecursionlimit(10**7)"
   ]
  },
  {
   "cell_type": "code",
   "execution_count": 3,
   "id": "82449c29-a443-418a-a8e4-7fb20686a5e7",
   "metadata": {},
   "outputs": [
    {
     "name": "stdin",
     "output_type": "stream",
     "text": [
      " 2 3\n"
     ]
    }
   ],
   "source": [
    "H, W = map(int, input().split())"
   ]
  },
  {
   "cell_type": "code",
   "execution_count": 4,
   "id": "c139fdb4-13db-406e-8b8f-66f6babcf0d9",
   "metadata": {},
   "outputs": [
    {
     "name": "stdin",
     "output_type": "stream",
     "text": [
      " 1 4 5\n",
      " 2 4 9\n"
     ]
    }
   ],
   "source": [
    "An = [list(map(int, input().split())) for _ in range(H)]"
   ]
  },
  {
   "cell_type": "code",
   "execution_count": 16,
   "id": "5990aa33-72fc-4d50-a5c2-32f465fe283b",
   "metadata": {},
   "outputs": [],
   "source": [
    "def DFS(i1, j1):\n",
    "    ret = 1\n",
    "    if dp[i1][j1] != -1:\n",
    "        return dp[i1][j1]\n",
    "    n = An[i1][j1]\n",
    "    for y, x in ((1, 0), (-1, 0), (0, 1), (0, -1)):\n",
    "        if i1 + y < 0 or i1 + y >= H:\n",
    "            continue\n",
    "        if j1 + x < 0 or j1 + x >= W:\n",
    "            continue\n",
    "        if n >= An[i1+y][j1+x]:\n",
    "            continue\n",
    "        ret += DFS(i1+y, j1+x)\n",
    "        ret %= 10**9 + 7\n",
    "    \n",
    "    dp[i1][j1] = ret\n",
    "    return ret"
   ]
  },
  {
   "cell_type": "code",
   "execution_count": 12,
   "id": "e0678b66-84dd-4b78-acb6-2eb5587fb934",
   "metadata": {},
   "outputs": [],
   "source": [
    "def DFS(i, j):\n",
    "    ret = 1\n",
    "    if dp[i][j] != -1:\n",
    "        return dp[i][j]\n",
    "    n = An[i][j]\n",
    "    for ii, jj in [(i-1, j), (i+1, j), (i, j-1), (i, j+1)]:\n",
    "        if ii < 0 or ii >= H:\n",
    "            continue\n",
    "        if jj < 0 or jj >= W:\n",
    "            continue\n",
    "        if n >= An[ii][jj]:\n",
    "            continue\n",
    "        ret += DFS(ii, jj)\n",
    "        ret %= 10**9 + 7\n",
    "    \n",
    "    dp[i][j] = ret\n",
    "    return ret"
   ]
  },
  {
   "cell_type": "code",
   "execution_count": 17,
   "id": "38aacf55-9ac8-4d63-bb7b-c92da4f1f2ed",
   "metadata": {},
   "outputs": [
    {
     "name": "stdout",
     "output_type": "stream",
     "text": [
      "18\n"
     ]
    }
   ],
   "source": [
    "dp = [[-1] * (W+1) for _ in range(H+1)]\n",
    "ans = 0\n",
    "for i in range(H):\n",
    "    for j in range(W):\n",
    "        ans += DFS(i, j)\n",
    "print(ans % (10**9 + 7))"
   ]
  },
  {
   "cell_type": "code",
   "execution_count": null,
   "id": "892c3a39-0fc1-4af4-abdb-38e83e6faf5b",
   "metadata": {},
   "outputs": [],
   "source": []
  }
 ],
 "metadata": {
  "kernelspec": {
   "display_name": "Python 3",
   "language": "python",
   "name": "python3"
  },
  "language_info": {
   "codemirror_mode": {
    "name": "ipython",
    "version": 3
   },
   "file_extension": ".py",
   "mimetype": "text/x-python",
   "name": "python",
   "nbconvert_exporter": "python",
   "pygments_lexer": "ipython3",
   "version": "3.6.13"
  }
 },
 "nbformat": 4,
 "nbformat_minor": 5
}
