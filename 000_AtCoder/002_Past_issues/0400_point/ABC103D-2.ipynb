{
 "cells": [
  {
   "cell_type": "code",
   "execution_count": null,
   "id": "e15ce948-30fa-4641-b220-bbd7cf15baa9",
   "metadata": {},
   "outputs": [],
   "source": [
    "# 解説を読んで実装"
   ]
  },
  {
   "cell_type": "code",
   "execution_count": 1,
   "id": "7d11153a-b1f9-4c50-9ba9-5eb1d3cbfb5c",
   "metadata": {},
   "outputs": [],
   "source": [
    "import sys\n",
    "import numpy as np\n",
    "import math\n",
    "import collections\n",
    "import copy\n",
    "import decimal\n",
    "import itertools\n",
    "import re\n",
    "import bisect\n",
    "import scipy\n",
    "import heapq\n",
    "from collections import deque \n",
    "from functools import reduce\n",
    "from itertools import product\n",
    "from itertools import combinations\n",
    "from itertools import chain\n",
    "from functools import lru_cache\n",
    "from scipy.special import comb\n",
    "from numba import njit\n",
    "from bisect import bisect_right\n",
    "from bisect import bisect_left"
   ]
  },
  {
   "cell_type": "code",
   "execution_count": 6,
   "id": "8c87d8b4-fd1a-419b-ae2d-48c63e997219",
   "metadata": {},
   "outputs": [
    {
     "name": "stdin",
     "output_type": "stream",
     "text": [
      " 5 10\n"
     ]
    }
   ],
   "source": [
    "N, M = map(int, input().split())"
   ]
  },
  {
   "cell_type": "code",
   "execution_count": 7,
   "id": "5607e543-d145-40c0-9daa-db84445099e1",
   "metadata": {},
   "outputs": [
    {
     "name": "stdin",
     "output_type": "stream",
     "text": [
      " 1 2\n",
      " 1 3\n",
      " 1 4\n",
      " 1 5\n",
      " 2 3\n",
      " 2 4\n",
      " 2 5\n",
      " 3 4\n",
      " 3 5\n",
      " 4 5\n"
     ]
    }
   ],
   "source": [
    "AB = [list(map(int, input().split())) for _ in range(M)]"
   ]
  },
  {
   "cell_type": "code",
   "execution_count": 8,
   "id": "fd8c4a96-6f13-46c6-98e6-90137ff3e70d",
   "metadata": {},
   "outputs": [],
   "source": [
    "AB_s = sorted(AB, reverse=True)\n",
    "ans = 0\n",
    "mi = 10**10\n",
    "for A, B in AB_s:\n",
    "    if  B <= mi:\n",
    "        ans += 1\n",
    "        mi = A"
   ]
  },
  {
   "cell_type": "code",
   "execution_count": 9,
   "id": "5e4c37cb-efcd-48e4-ac64-d1e87aafa4e9",
   "metadata": {},
   "outputs": [
    {
     "name": "stdout",
     "output_type": "stream",
     "text": [
      "2\n"
     ]
    }
   ],
   "source": [
    "print(ans)"
   ]
  },
  {
   "cell_type": "code",
   "execution_count": 10,
   "id": "99b7a415-8731-44d1-8dc8-864d28c2dce5",
   "metadata": {},
   "outputs": [
    {
     "data": {
      "text/plain": [
       "[[4, 5],\n",
       " [3, 5],\n",
       " [3, 4],\n",
       " [2, 5],\n",
       " [2, 4],\n",
       " [2, 3],\n",
       " [1, 5],\n",
       " [1, 4],\n",
       " [1, 3],\n",
       " [1, 2]]"
      ]
     },
     "execution_count": 10,
     "metadata": {},
     "output_type": "execute_result"
    }
   ],
   "source": [
    "AB_s"
   ]
  },
  {
   "cell_type": "code",
   "execution_count": null,
   "id": "0eb297ad-95d5-4c8e-9e35-cff29b043b55",
   "metadata": {},
   "outputs": [],
   "source": []
  }
 ],
 "metadata": {
  "kernelspec": {
   "display_name": "Python 3",
   "language": "python",
   "name": "python3"
  },
  "language_info": {
   "codemirror_mode": {
    "name": "ipython",
    "version": 3
   },
   "file_extension": ".py",
   "mimetype": "text/x-python",
   "name": "python",
   "nbconvert_exporter": "python",
   "pygments_lexer": "ipython3",
   "version": "3.6.13"
  }
 },
 "nbformat": 4,
 "nbformat_minor": 5
}
