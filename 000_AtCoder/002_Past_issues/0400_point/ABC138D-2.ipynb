{
 "cells": [
  {
   "cell_type": "code",
   "execution_count": 1,
   "metadata": {},
   "outputs": [],
   "source": [
    "import sys\n",
    "import numpy as np\n",
    "import math\n",
    "import collections\n",
    "import copy\n",
    "import decimal\n",
    "from collections import deque \n",
    "from functools import reduce\n",
    "from itertools import product\n",
    "from itertools import combinations\n"
   ]
  },
  {
   "cell_type": "code",
   "execution_count": 2,
   "metadata": {},
   "outputs": [
    {
     "name": "stdin",
     "output_type": "stream",
     "text": [
      " 4 3\n"
     ]
    }
   ],
   "source": [
    "N, Q = map(int, input().split())"
   ]
  },
  {
   "cell_type": "code",
   "execution_count": 4,
   "metadata": {},
   "outputs": [
    {
     "name": "stdin",
     "output_type": "stream",
     "text": [
      " 1 2\n",
      " 2 3\n",
      " 2 4\n"
     ]
    }
   ],
   "source": [
    "ab = [[] for _ in range(N+1)]\n",
    "for _ in range(N-1):\n",
    "    a, b = map(int, input().split())\n",
    "    ab[a].append(b)\n",
    "    ab[b].append(a)"
   ]
  },
  {
   "cell_type": "code",
   "execution_count": 8,
   "metadata": {},
   "outputs": [
    {
     "name": "stdin",
     "output_type": "stream",
     "text": [
      " 2 10\n",
      " 1 100\n",
      " 3 1\n"
     ]
    }
   ],
   "source": [
    "count = [0 for _ in range(N+1)]\n",
    "for _ in range(Q):\n",
    "    p, x = map(int, input().split())\n",
    "    count[p] += x\n"
   ]
  },
  {
   "cell_type": "code",
   "execution_count": 18,
   "metadata": {},
   "outputs": [],
   "source": [
    "def BFS():\n",
    "    return"
   ]
  },
  {
   "cell_type": "code",
   "execution_count": 28,
   "metadata": {},
   "outputs": [],
   "source": [
    "ans = [0 for _ in range(N+1)]\n",
    "deq = deque()\n",
    "deq.append((1, 0))\n",
    "ans[1] = count[1]\n",
    "while deq:\n",
    "    v, par= deq.popleft()\n",
    "#     print(v, par)\n",
    "    for vn in ab[v]:\n",
    "#         print(vn, par)\n",
    "        if vn != par:\n",
    "            ans[vn] = ans[v] + count[vn]\n",
    "            deq.append((vn, v))\n",
    "        "
   ]
  },
  {
   "cell_type": "code",
   "execution_count": 29,
   "metadata": {},
   "outputs": [
    {
     "name": "stdout",
     "output_type": "stream",
     "text": [
      "100 110 111 110\n"
     ]
    }
   ],
   "source": [
    "print(\" \".join([str(i) for i in ans[1:]]))"
   ]
  },
  {
   "cell_type": "code",
   "execution_count": null,
   "metadata": {},
   "outputs": [],
   "source": []
  }
 ],
 "metadata": {
  "kernelspec": {
   "display_name": "Python 3",
   "language": "python",
   "name": "python3"
  },
  "language_info": {
   "codemirror_mode": {
    "name": "ipython",
    "version": 3
   },
   "file_extension": ".py",
   "mimetype": "text/x-python",
   "name": "python",
   "nbconvert_exporter": "python",
   "pygments_lexer": "ipython3",
   "version": "3.6.10"
  }
 },
 "nbformat": 4,
 "nbformat_minor": 4
}
