{
 "cells": [
  {
   "cell_type": "code",
   "execution_count": 1,
   "id": "ffef9def-80b2-45f8-9372-9499c656e3e6",
   "metadata": {},
   "outputs": [],
   "source": [
    "import sys\n",
    "import numpy as np\n",
    "import math\n",
    "import collections\n",
    "import copy\n",
    "import decimal\n",
    "import itertools\n",
    "import re\n",
    "import bisect\n",
    "import scipy\n",
    "import heapq\n",
    "from collections import deque \n",
    "from functools import reduce\n",
    "from itertools import product\n",
    "from itertools import combinations\n",
    "from itertools import chain\n",
    "from functools import lru_cache\n",
    "from scipy.special import comb\n",
    "from numba import njit\n",
    "from bisect import bisect_right\n",
    "from bisect import bisect_left"
   ]
  },
  {
   "cell_type": "code",
   "execution_count": 56,
   "id": "8ad493ad-d708-4c88-9db1-479258a306dc",
   "metadata": {},
   "outputs": [
    {
     "name": "stdin",
     "output_type": "stream",
     "text": [
      " 31415 9265\n"
     ]
    }
   ],
   "source": [
    "N, K = map(int, input().split())"
   ]
  },
  {
   "cell_type": "code",
   "execution_count": 57,
   "id": "f5d4b6db-2753-428d-86ca-9678a2ae458c",
   "metadata": {},
   "outputs": [],
   "source": [
    "ans = 0\n",
    "for m in range(1, N+1):\n",
    "    if m <= K:\n",
    "        continue\n",
    "    if K == 0:\n",
    "        ans += N\n",
    "    elif N % m == 0:\n",
    "        ans += (N // m) * (m - K)\n",
    "    elif N % m < K:\n",
    "        ans += (N // m) * (m - K)\n",
    "    else:\n",
    "        ans += (N // m) * (m - K) + (N % m - K + 1)\n",
    "#     print(m, ans)"
   ]
  },
  {
   "cell_type": "code",
   "execution_count": 58,
   "id": "ccff8ba5-9344-41c4-9988-5aa9a1b6d6f1",
   "metadata": {},
   "outputs": [
    {
     "name": "stdout",
     "output_type": "stream",
     "text": [
      "287927211\n"
     ]
    }
   ],
   "source": [
    "print(ans)"
   ]
  },
  {
   "cell_type": "code",
   "execution_count": 34,
   "id": "09c5cbb7-92c7-4dc7-b3da-b00f0301a081",
   "metadata": {},
   "outputs": [
    {
     "data": {
      "text/plain": [
       "7047"
      ]
     },
     "execution_count": 34,
     "metadata": {},
     "output_type": "execute_result"
    }
   ],
   "source": [
    "287927211-287920164"
   ]
  },
  {
   "cell_type": "code",
   "execution_count": null,
   "id": "e9c39280-d222-4706-939b-b0745d9717c7",
   "metadata": {},
   "outputs": [],
   "source": []
  }
 ],
 "metadata": {
  "kernelspec": {
   "display_name": "Python 3",
   "language": "python",
   "name": "python3"
  },
  "language_info": {
   "codemirror_mode": {
    "name": "ipython",
    "version": 3
   },
   "file_extension": ".py",
   "mimetype": "text/x-python",
   "name": "python",
   "nbconvert_exporter": "python",
   "pygments_lexer": "ipython3",
   "version": "3.6.13"
  }
 },
 "nbformat": 4,
 "nbformat_minor": 5
}
