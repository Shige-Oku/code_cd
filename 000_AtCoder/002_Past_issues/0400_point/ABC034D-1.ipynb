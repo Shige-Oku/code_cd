{
 "cells": [
  {
   "cell_type": "code",
   "execution_count": 1,
   "id": "7eafee29-0d63-4c49-9c06-9bf94759212f",
   "metadata": {},
   "outputs": [],
   "source": [
    "import sys\n",
    "import numpy as np\n",
    "import math\n",
    "import collections\n",
    "import copy\n",
    "import decimal\n",
    "import itertools\n",
    "import re\n",
    "import bisect\n",
    "import scipy\n",
    "import heapq\n",
    "from collections import deque \n",
    "from functools import reduce\n",
    "from itertools import product\n",
    "from itertools import combinations\n",
    "from itertools import chain\n",
    "from functools import lru_cache\n",
    "from scipy.special import comb\n",
    "from numba import njit\n",
    "from bisect import bisect_right\n",
    "from bisect import bisect_left"
   ]
  },
  {
   "cell_type": "code",
   "execution_count": 2,
   "id": "94ffd74b-c4e9-41b3-be93-f64365bf27da",
   "metadata": {},
   "outputs": [
    {
     "name": "stdin",
     "output_type": "stream",
     "text": [
      " 3 2\n"
     ]
    }
   ],
   "source": [
    "N, K = map(int, input().split())"
   ]
  },
  {
   "cell_type": "code",
   "execution_count": 3,
   "id": "13a5bd28-942c-49d5-8580-bd1bd56c1ff3",
   "metadata": {},
   "outputs": [
    {
     "name": "stdin",
     "output_type": "stream",
     "text": [
      " 100 15\n",
      " 300 20\n",
      " 200 30\n"
     ]
    }
   ],
   "source": [
    "WP = [list(map(int, input().split())) for _ in range(N)]"
   ]
  },
  {
   "cell_type": "code",
   "execution_count": 10,
   "id": "44074106-50fc-4f5d-af39-2388ddbc1cab",
   "metadata": {},
   "outputs": [],
   "source": [
    "WP_s = sorted(WP, reverse=True, key=lambda x:(x[1], -x[0]))\n",
    "w, s = 0, 0\n",
    "for W, P in WP_s[:K]:\n",
    "    w += W\n",
    "    s += W * P / 100"
   ]
  },
  {
   "cell_type": "code",
   "execution_count": 12,
   "id": "916a7d69-4ea3-49eb-a5e9-396f42f1d6e9",
   "metadata": {},
   "outputs": [
    {
     "name": "stdout",
     "output_type": "stream",
     "text": [
      "24.0\n"
     ]
    }
   ],
   "source": [
    "print(s*100/w)"
   ]
  },
  {
   "cell_type": "code",
   "execution_count": 5,
   "id": "33efcada-7f1f-4cde-bd61-12d7a38c0445",
   "metadata": {},
   "outputs": [
    {
     "data": {
      "text/plain": [
       "[[200, 30], [300, 20], [100, 15]]"
      ]
     },
     "execution_count": 5,
     "metadata": {},
     "output_type": "execute_result"
    }
   ],
   "source": [
    "WP_s"
   ]
  },
  {
   "cell_type": "code",
   "execution_count": 13,
   "id": "ddb33eda-2636-43bd-9875-a9dd708187e6",
   "metadata": {},
   "outputs": [
    {
     "data": {
      "text/plain": [
       "(500, 120.0)"
      ]
     },
     "execution_count": 13,
     "metadata": {},
     "output_type": "execute_result"
    }
   ],
   "source": [
    "w, s"
   ]
  },
  {
   "cell_type": "code",
   "execution_count": null,
   "id": "c51a8a39-7e5a-4d3d-93c8-484339c6f6b7",
   "metadata": {},
   "outputs": [],
   "source": []
  }
 ],
 "metadata": {
  "kernelspec": {
   "display_name": "Python 3",
   "language": "python",
   "name": "python3"
  },
  "language_info": {
   "codemirror_mode": {
    "name": "ipython",
    "version": 3
   },
   "file_extension": ".py",
   "mimetype": "text/x-python",
   "name": "python",
   "nbconvert_exporter": "python",
   "pygments_lexer": "ipython3",
   "version": "3.6.13"
  }
 },
 "nbformat": 4,
 "nbformat_minor": 5
}
