{
 "cells": [
  {
   "cell_type": "code",
   "execution_count": 3,
   "id": "5e868525-1487-4976-9a69-3a53ecf1f601",
   "metadata": {},
   "outputs": [],
   "source": [
    "import sys\n",
    "import numpy as np\n",
    "import math\n",
    "import collections\n",
    "import copy\n",
    "import decimal\n",
    "import itertools\n",
    "import re\n",
    "import bisect\n",
    "import scipy\n",
    "import heapq\n",
    "from collections import deque \n",
    "from functools import reduce\n",
    "from itertools import product\n",
    "from itertools import combinations\n",
    "from itertools import chain\n",
    "from functools import lru_cache\n",
    "from scipy.special import comb\n",
    "from numba import njit\n",
    "from bisect import bisect_right\n",
    "from bisect import bisect_left"
   ]
  },
  {
   "cell_type": "code",
   "execution_count": 18,
   "id": "fc5d116c-7ae4-4337-9be7-840e345c1e7b",
   "metadata": {},
   "outputs": [
    {
     "name": "stdin",
     "output_type": "stream",
     "text": [
      " 15\n"
     ]
    }
   ],
   "source": [
    "N = int(input())"
   ]
  },
  {
   "cell_type": "code",
   "execution_count": 19,
   "id": "4ec0a362-0038-4818-8955-956685e02282",
   "metadata": {},
   "outputs": [
    {
     "name": "stdin",
     "output_type": "stream",
     "text": [
      " 1 3 5 2 1 3 2 8 8 6 2 6 11 1 1\n"
     ]
    }
   ],
   "source": [
    "An = list(map(int, input().split()))"
   ]
  },
  {
   "cell_type": "code",
   "execution_count": 18,
   "id": "3a6e1f1a-853e-46a8-b7dc-7b94aeff3ba2",
   "metadata": {},
   "outputs": [
    {
     "name": "stdout",
     "output_type": "stream",
     "text": [
      "7\n"
     ]
    }
   ],
   "source": [
    "An_c = collections.Counter(An)\n",
    "for k, v in An_c.items():\n",
    "    if v >= 3:\n",
    "        cnt = (v-1) // 2\n",
    "        An_c[k] -= cnt * 2\n",
    "cnt = 0\n",
    "for k, v in An_c.items():\n",
    "    if v >= 2:\n",
    "        cnt += 1\n",
    "print(len(An_c)-cnt%2)\n",
    "        "
   ]
  },
  {
   "cell_type": "code",
   "execution_count": 13,
   "id": "fb682651-9169-45a3-b43e-286543016f45",
   "metadata": {},
   "outputs": [
    {
     "name": "stdout",
     "output_type": "stream",
     "text": [
      "3\n"
     ]
    }
   ],
   "source": [
    "An_c = collections.Counter(An)\n",
    "cnt = 0\n",
    "for k, v in An_c.items():\n",
    "    if v >= 2:\n",
    "        cnt += v - 1\n",
    "print(len(An_c)-cnt%2)\n",
    "        "
   ]
  },
  {
   "cell_type": "code",
   "execution_count": null,
   "id": "ba3eea05-91e1-4653-a816-ec0eecb04d97",
   "metadata": {},
   "outputs": [],
   "source": [
    "# 何個余分かがわかれば計算できる。"
   ]
  },
  {
   "cell_type": "code",
   "execution_count": 20,
   "id": "2f74ac3c-3a8b-4868-b8dd-42fbb46ee2c8",
   "metadata": {},
   "outputs": [],
   "source": [
    "An_c = collections.Counter(An)\n",
    "ans = 0\n",
    "for k, v in An_c.items():\n",
    "    if v > 1:\n",
    "        ans += v - 1"
   ]
  },
  {
   "cell_type": "code",
   "execution_count": 21,
   "id": "346036f8-1aab-4f19-9ed2-e2e04169c122",
   "metadata": {},
   "outputs": [
    {
     "name": "stdout",
     "output_type": "stream",
     "text": [
      "7\n"
     ]
    }
   ],
   "source": [
    "print(N-(ans+1)//2*2)"
   ]
  },
  {
   "cell_type": "code",
   "execution_count": 16,
   "id": "8541e69c-c00b-4e02-9b49-fd020a008ddd",
   "metadata": {},
   "outputs": [
    {
     "data": {
      "text/plain": [
       "(Counter({1: 2, 2: 1, 3: 1, 7: 1}), 1)"
      ]
     },
     "execution_count": 16,
     "metadata": {},
     "output_type": "execute_result"
    }
   ],
   "source": [
    "collections.Counter(An), ans"
   ]
  },
  {
   "cell_type": "code",
   "execution_count": 20,
   "id": "7f61f725-88fc-4d88-9bfc-669edd441b1d",
   "metadata": {},
   "outputs": [
    {
     "data": {
      "text/plain": [
       "(Counter({1: 2, 3: 2, 5: 1, 2: 1, 8: 2, 6: 2, 11: 1}), 4)"
      ]
     },
     "execution_count": 20,
     "metadata": {},
     "output_type": "execute_result"
    }
   ],
   "source": [
    "An_c, cnt"
   ]
  },
  {
   "cell_type": "code",
   "execution_count": null,
   "id": "e747803b-aa9d-4040-a043-34c82a89d576",
   "metadata": {},
   "outputs": [],
   "source": []
  }
 ],
 "metadata": {
  "kernelspec": {
   "display_name": "Python 3",
   "language": "python",
   "name": "python3"
  },
  "language_info": {
   "codemirror_mode": {
    "name": "ipython",
    "version": 3
   },
   "file_extension": ".py",
   "mimetype": "text/x-python",
   "name": "python",
   "nbconvert_exporter": "python",
   "pygments_lexer": "ipython3",
   "version": "3.6.13"
  }
 },
 "nbformat": 4,
 "nbformat_minor": 5
}
