{
 "cells": [
  {
   "cell_type": "code",
   "execution_count": 1,
   "id": "61a5aec2-c79a-409c-abcb-8de540b46caa",
   "metadata": {},
   "outputs": [],
   "source": [
    "import sys\n",
    "import numpy as np\n",
    "import math\n",
    "import collections\n",
    "import copy\n",
    "import decimal\n",
    "import itertools\n",
    "import re\n",
    "import bisect\n",
    "import scipy\n",
    "import heapq\n",
    "from collections import deque \n",
    "from functools import reduce\n",
    "from itertools import product\n",
    "from itertools import combinations\n",
    "from itertools import chain\n",
    "from functools import lru_cache\n",
    "from scipy.special import comb\n",
    "from numba import njit\n",
    "from bisect import bisect_right\n",
    "from bisect import bisect_left"
   ]
  },
  {
   "cell_type": "code",
   "execution_count": 41,
   "id": "367a9b26-f793-44ba-a6b5-f91c235ad74d",
   "metadata": {},
   "outputs": [],
   "source": [
    "sys.setrecursionlimit(10**9)"
   ]
  },
  {
   "cell_type": "code",
   "execution_count": 74,
   "id": "1417ec0f-a29b-4677-8103-c9be9be62692",
   "metadata": {},
   "outputs": [
    {
     "name": "stdin",
     "output_type": "stream",
     "text": [
      " 1 1\n"
     ]
    }
   ],
   "source": [
    "H, W = map(int, input().split())"
   ]
  },
  {
   "cell_type": "code",
   "execution_count": 75,
   "id": "a4269319-7cf4-4be5-829f-dd8af09f1b8d",
   "metadata": {},
   "outputs": [
    {
     "name": "stdin",
     "output_type": "stream",
     "text": [
      " 1\n"
     ]
    }
   ],
   "source": [
    "An = [[0] + list(map(int, input().split())) + [0] for _ in range(H)]"
   ]
  },
  {
   "cell_type": "code",
   "execution_count": 76,
   "id": "46a87714-d90a-418e-99cf-6da32c7ecafc",
   "metadata": {},
   "outputs": [],
   "source": [
    "An.insert(0, [0] * (W+2))\n",
    "An.append([0] * (W+2))"
   ]
  },
  {
   "cell_type": "code",
   "execution_count": 77,
   "id": "58de1e20-c8da-4d73-9107-532244b203fc",
   "metadata": {},
   "outputs": [],
   "source": [
    "# RE"
   ]
  },
  {
   "cell_type": "code",
   "execution_count": 83,
   "id": "313abecf-105c-4f94-8dca-4c2735ea2162",
   "metadata": {},
   "outputs": [],
   "source": [
    "def DFS(h, w):\n",
    "    if dp[h][w] != -1:\n",
    "        return dp[h][w]\n",
    "    ret = 1\n",
    "    n = An[h][w]\n",
    "    if n < 1:\n",
    "        return 0\n",
    "#     for y, x in ((0, 1), (0, -1), (1, 0), (-1, 0)):\n",
    "    for y, x in ((1, 0), (-1, 0), (0, 1), (0, -1)):\n",
    "        if n >= An[h+y][w+x]:\n",
    "            continue\n",
    "        ret += DFS(h+y, w+x)\n",
    "        ret %= 10**9+7\n",
    "    \n",
    "    dp[h][w] = ret\n",
    "    return ret\n"
   ]
  },
  {
   "cell_type": "code",
   "execution_count": 84,
   "id": "5c23edda-215c-4733-ac91-bc5dca3ca5b5",
   "metadata": {},
   "outputs": [
    {
     "name": "stdout",
     "output_type": "stream",
     "text": [
      "1\n"
     ]
    }
   ],
   "source": [
    "ans = 0\n",
    "dp = [[-1] * (W+2) for _ in range(H+2)]\n",
    "for i in range(1, H+1):\n",
    "    for j in range(1, W+1):\n",
    "        ans += DFS(i, j)\n",
    "print(ans % (10**9+7))"
   ]
  },
  {
   "cell_type": "code",
   "execution_count": 80,
   "id": "306b9c31-0f29-43a6-b237-3e24cd5f5abd",
   "metadata": {},
   "outputs": [
    {
     "data": {
      "text/plain": [
       "[[0, 0, 0], [0, 1, 0], [0, 0, 0]]"
      ]
     },
     "execution_count": 80,
     "metadata": {},
     "output_type": "execute_result"
    }
   ],
   "source": [
    "An"
   ]
  },
  {
   "cell_type": "code",
   "execution_count": null,
   "id": "fdd8a61b-87ab-49c2-8a29-acccec83f7c0",
   "metadata": {},
   "outputs": [],
   "source": [
    "# RE, TLE"
   ]
  },
  {
   "cell_type": "code",
   "execution_count": 39,
   "id": "8055ad21-2719-4700-96ac-03c7cd4e3ae3",
   "metadata": {},
   "outputs": [],
   "source": [
    "@lru_cache(maxsize=None)\n",
    "def DFS(h, w):\n",
    "    ret = 1\n",
    "    n = An[h][w]\n",
    "    for y, x in ((0, 1), (0, -1), (1, 0), (-1, 0)):\n",
    "        if h + y < 0 or h + y >= H:\n",
    "            continue\n",
    "        if w + x < 0 or w + x >= W:\n",
    "            continue\n",
    "        if n >= An[h+y][w+x]:\n",
    "            continue\n",
    "        ret += DFS(h+y, w+x)\n",
    "    \n",
    "    return ret % (10**9+7)\n"
   ]
  },
  {
   "cell_type": "code",
   "execution_count": null,
   "id": "2fd0a237-406b-41b2-87d5-52981bf54cc0",
   "metadata": {},
   "outputs": [],
   "source": [
    "# TLE"
   ]
  },
  {
   "cell_type": "code",
   "execution_count": 34,
   "id": "db70f93b-d809-45fe-addc-e9baf88ccffc",
   "metadata": {},
   "outputs": [],
   "source": [
    "def BFS(i, j):\n",
    "    ret = 0\n",
    "    q = deque()\n",
    "    q.append((An[i][j], i, j))\n",
    "    while q:\n",
    "        n, h, w = q.popleft()\n",
    "        ret += 1\n",
    "        for y, x in ((0, 1), (0, -1), (1, 0), (-1, 0)):\n",
    "            if h + y < 0 or h + y >= H:\n",
    "                continue\n",
    "            if w + x < 0 or w + x >= W:\n",
    "                continue\n",
    "            if n >= An[h+y][w+x]:\n",
    "                continue\n",
    "            q.append((An[h+y][w+x], h+y, w+x))\n",
    "    return ret"
   ]
  },
  {
   "cell_type": "code",
   "execution_count": 35,
   "id": "29411e10-a190-4435-a44a-7a8226204217",
   "metadata": {},
   "outputs": [
    {
     "name": "stdout",
     "output_type": "stream",
     "text": [
      "18\n"
     ]
    }
   ],
   "source": [
    "ans = 0\n",
    "for i in range(H):\n",
    "    for j in range(W):\n",
    "        ans += BFS(i, j)\n",
    "print(ans)"
   ]
  },
  {
   "cell_type": "code",
   "execution_count": null,
   "id": "17876815-a1d4-40b2-ab25-2097206063e7",
   "metadata": {},
   "outputs": [],
   "source": []
  },
  {
   "cell_type": "code",
   "execution_count": null,
   "id": "6e7f38e7-4031-41f7-acbe-025edbff754d",
   "metadata": {},
   "outputs": [],
   "source": []
  }
 ],
 "metadata": {
  "kernelspec": {
   "display_name": "Python 3",
   "language": "python",
   "name": "python3"
  },
  "language_info": {
   "codemirror_mode": {
    "name": "ipython",
    "version": 3
   },
   "file_extension": ".py",
   "mimetype": "text/x-python",
   "name": "python",
   "nbconvert_exporter": "python",
   "pygments_lexer": "ipython3",
   "version": "3.6.13"
  }
 },
 "nbformat": 4,
 "nbformat_minor": 5
}
