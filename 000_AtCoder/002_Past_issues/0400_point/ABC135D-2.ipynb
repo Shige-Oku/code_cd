{
 "cells": [
  {
   "cell_type": "code",
   "execution_count": 25,
   "id": "4c602699-88bf-4e56-8475-61587656e8b5",
   "metadata": {},
   "outputs": [],
   "source": [
    "# 解説を読んで実装"
   ]
  },
  {
   "cell_type": "code",
   "execution_count": 1,
   "id": "c826f17d-3b42-4faf-b918-7d9873bef165",
   "metadata": {},
   "outputs": [],
   "source": [
    "import sys\n",
    "import numpy as np\n",
    "import math\n",
    "import collections\n",
    "import copy\n",
    "import decimal\n",
    "import itertools\n",
    "import re\n",
    "import bisect\n",
    "import scipy\n",
    "import heapq\n",
    "from collections import deque \n",
    "from functools import reduce\n",
    "from itertools import product\n",
    "from itertools import combinations\n",
    "from itertools import chain\n",
    "from functools import lru_cache\n",
    "from scipy.special import comb\n",
    "from numba import njit\n",
    "from bisect import bisect_right\n",
    "from bisect import bisect_left"
   ]
  },
  {
   "cell_type": "code",
   "execution_count": 22,
   "id": "b10f386b-d445-4f63-91e0-620ffda8e861",
   "metadata": {},
   "outputs": [
    {
     "name": "stdin",
     "output_type": "stream",
     "text": [
      " ?6?42???8??2??06243????9??3???7258??5??7???????774????4?1??17???9?5?70???76???\n"
     ]
    }
   ],
   "source": [
    "S = input()"
   ]
  },
  {
   "cell_type": "code",
   "execution_count": 23,
   "id": "4b6a78b8-6ed9-424f-88fa-11ad5f6483db",
   "metadata": {},
   "outputs": [],
   "source": [
    "dp = [[0] * 13 for _ in range(len(S)+1)]\n",
    "dp[0][0] = 1\n",
    "M = 10**9+7\n",
    "for i, s in enumerate(S):\n",
    "    for j in range(13):\n",
    "        if s == '?':\n",
    "            for k in range(10):\n",
    "                dp[i+1][(j*10+k)%13] += dp[i][j]\n",
    "        else:\n",
    "            dp[i+1][(j*10+int(s))%13] += dp[i][j]\n",
    "    for j in range(13):\n",
    "        dp[i+1][j] %= M"
   ]
  },
  {
   "cell_type": "code",
   "execution_count": 24,
   "id": "fb3c8539-3f11-442f-aec4-14f9ddd4a6b0",
   "metadata": {},
   "outputs": [
    {
     "name": "stdout",
     "output_type": "stream",
     "text": [
      "153716888\n"
     ]
    }
   ],
   "source": [
    "print(dp[-1][5])"
   ]
  },
  {
   "cell_type": "code",
   "execution_count": 12,
   "id": "5aefa4f2-ab12-42d2-8247-e355f0f35041",
   "metadata": {},
   "outputs": [
    {
     "data": {
      "text/plain": [
       "[[1, 0, 0, 0, 0, 0, 0, 0, 0, 0, 0, 0, 0],\n",
       " [0, 0, 0, 0, 0, 1, 0, 0, 0, 0, 0, 0, 0]]"
      ]
     },
     "execution_count": 12,
     "metadata": {},
     "output_type": "execute_result"
    }
   ],
   "source": [
    "dp"
   ]
  },
  {
   "cell_type": "code",
   "execution_count": 27,
   "id": "73778568-16cb-4f18-ac87-fa82b4124fc7",
   "metadata": {},
   "outputs": [
    {
     "data": {
      "text/plain": [
       "(12, 12)"
      ]
     },
     "execution_count": 27,
     "metadata": {},
     "output_type": "execute_result"
    }
   ],
   "source": [
    "311%13, 51%13"
   ]
  },
  {
   "cell_type": "code",
   "execution_count": null,
   "id": "6aa092d7-773b-42af-9de8-7e315eee7889",
   "metadata": {},
   "outputs": [],
   "source": []
  }
 ],
 "metadata": {
  "kernelspec": {
   "display_name": "Python 3",
   "language": "python",
   "name": "python3"
  },
  "language_info": {
   "codemirror_mode": {
    "name": "ipython",
    "version": 3
   },
   "file_extension": ".py",
   "mimetype": "text/x-python",
   "name": "python",
   "nbconvert_exporter": "python",
   "pygments_lexer": "ipython3",
   "version": "3.6.13"
  }
 },
 "nbformat": 4,
 "nbformat_minor": 5
}
