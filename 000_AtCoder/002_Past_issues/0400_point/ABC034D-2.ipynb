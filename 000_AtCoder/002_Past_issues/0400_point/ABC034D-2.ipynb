{
 "cells": [
  {
   "cell_type": "code",
   "execution_count": null,
   "id": "2f7fb2c2-3cfe-4cc3-b556-f0db86c49fc6",
   "metadata": {},
   "outputs": [],
   "source": [
    "# 解説を読んで実装"
   ]
  },
  {
   "cell_type": "code",
   "execution_count": 1,
   "id": "46df9bb7-f97e-4c37-8664-27728eec9dce",
   "metadata": {},
   "outputs": [],
   "source": [
    "import sys\n",
    "import numpy as np\n",
    "import math\n",
    "import collections\n",
    "import copy\n",
    "import decimal\n",
    "import itertools\n",
    "import re\n",
    "import bisect\n",
    "import scipy\n",
    "import heapq\n",
    "from collections import deque \n",
    "from functools import reduce\n",
    "from itertools import product\n",
    "from itertools import combinations\n",
    "from itertools import chain\n",
    "from functools import lru_cache\n",
    "from scipy.special import comb\n",
    "from numba import njit\n",
    "from bisect import bisect_right\n",
    "from bisect import bisect_left"
   ]
  },
  {
   "cell_type": "code",
   "execution_count": 33,
   "id": "9b2d7528-87d7-4321-8d52-a52c6a00de00",
   "metadata": {},
   "outputs": [
    {
     "name": "stdin",
     "output_type": "stream",
     "text": [
      " 4 3\n"
     ]
    }
   ],
   "source": [
    "N, K = map(int, input().split())"
   ]
  },
  {
   "cell_type": "code",
   "execution_count": 34,
   "id": "876259f5-9b0c-4648-8bf8-4c205f69965d",
   "metadata": {},
   "outputs": [
    {
     "name": "stdin",
     "output_type": "stream",
     "text": [
      " 16 51\n",
      " 51 64\n",
      " 61 57\n",
      " 4 26\n"
     ]
    }
   ],
   "source": [
    "WP = [list(map(int, input().split())) for _ in range(N)]"
   ]
  },
  {
   "cell_type": "code",
   "execution_count": 35,
   "id": "c701c2be-ecbe-4192-b1ed-d0200c7f636c",
   "metadata": {},
   "outputs": [],
   "source": [
    "def my_bisect(K):\n",
    "    l = 0\n",
    "    r = 100\n",
    "    while r - l > 1e-10:\n",
    "        m = (r + l) / 2\n",
    "        WP_s = sorted([W * (P-m) for W, P in WP], reverse=True)\n",
    "        if sum(WP_s[:K]) >= 0:\n",
    "            l = m\n",
    "        else:\n",
    "            r = m\n",
    "    return l\n"
   ]
  },
  {
   "cell_type": "code",
   "execution_count": 36,
   "id": "825b9923-f894-4a3b-ae18-73b9625edf71",
   "metadata": {},
   "outputs": [
    {
     "name": "stdout",
     "output_type": "stream",
     "text": [
      "59.03906249995998\n"
     ]
    }
   ],
   "source": [
    "print(my_bisect(K))"
   ]
  },
  {
   "cell_type": "code",
   "execution_count": 8,
   "id": "cb985b27-3044-4120-b912-ee5ee340b237",
   "metadata": {},
   "outputs": [
    {
     "data": {
      "text/plain": [
       "False"
      ]
     },
     "execution_count": 8,
     "metadata": {},
     "output_type": "execute_result"
    }
   ],
   "source": [
    "0.00001 > 1e-5"
   ]
  },
  {
   "cell_type": "code",
   "execution_count": 5,
   "id": "3c16ced7-6f69-4b40-a966-1ca0e501e43d",
   "metadata": {},
   "outputs": [
    {
     "name": "stdout",
     "output_type": "stream",
     "text": [
      "1e-05\n"
     ]
    }
   ],
   "source": [
    "print(1e-5)"
   ]
  },
  {
   "cell_type": "code",
   "execution_count": null,
   "id": "f8778aed-523b-4b59-9f1b-c54e81b73026",
   "metadata": {},
   "outputs": [],
   "source": []
  }
 ],
 "metadata": {
  "kernelspec": {
   "display_name": "Python 3",
   "language": "python",
   "name": "python3"
  },
  "language_info": {
   "codemirror_mode": {
    "name": "ipython",
    "version": 3
   },
   "file_extension": ".py",
   "mimetype": "text/x-python",
   "name": "python",
   "nbconvert_exporter": "python",
   "pygments_lexer": "ipython3",
   "version": "3.6.13"
  }
 },
 "nbformat": 4,
 "nbformat_minor": 5
}
