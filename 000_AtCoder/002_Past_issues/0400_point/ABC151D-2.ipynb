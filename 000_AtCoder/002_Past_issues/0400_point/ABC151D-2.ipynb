{
 "cells": [
  {
   "cell_type": "code",
   "execution_count": null,
   "metadata": {},
   "outputs": [],
   "source": [
    "# 解説を読んで実装"
   ]
  },
  {
   "cell_type": "code",
   "execution_count": 32,
   "metadata": {},
   "outputs": [],
   "source": [
    "import sys\n",
    "import numpy as np\n",
    "import math\n",
    "import collections\n",
    "import copy\n",
    "import decimal\n",
    "import itertools\n",
    "import re\n",
    "import bisect\n",
    "import scipy\n",
    "import heapq\n",
    "from collections import deque \n",
    "from functools import reduce\n",
    "from itertools import product\n",
    "from itertools import combinations\n",
    "from itertools import chain\n",
    "from functools import lru_cache\n",
    "from scipy.special import comb\n",
    "from numba import njit\n",
    "from bisect import bisect_right\n",
    "from bisect import bisect_left"
   ]
  },
  {
   "cell_type": "code",
   "execution_count": 21,
   "metadata": {},
   "outputs": [
    {
     "name": "stdin",
     "output_type": "stream",
     "text": [
      " 20 20\n"
     ]
    }
   ],
   "source": [
    "H, W = map(int, input().split())"
   ]
  },
  {
   "cell_type": "code",
   "execution_count": 22,
   "metadata": {},
   "outputs": [
    {
     "name": "stdin",
     "output_type": "stream",
     "text": [
      " ....................\n",
      " .##################.\n",
      " .##################.\n",
      " .##################.\n",
      " .##################.\n",
      " .##################.\n",
      " .##################.\n",
      " .##################.\n",
      " .##################.\n",
      " .##################.\n",
      " .##################.\n",
      " .##################.\n",
      " .##################.\n",
      " .##################.\n",
      " .##################.\n",
      " .##################.\n",
      " .##################.\n",
      " .##################.\n",
      " .##################.\n",
      " ....................\n"
     ]
    }
   ],
   "source": [
    "Sn = [input() for _ in range(H)]"
   ]
  },
  {
   "cell_type": "code",
   "execution_count": 33,
   "metadata": {},
   "outputs": [],
   "source": [
    "def solve(sx, sy):\n",
    "    if Sn[sx][sy] == '#':\n",
    "        return 0\n",
    "    dist = [[-1] * (W) for _ in range(H)]\n",
    "    q = deque()\n",
    "    q.append((sx, sy, 0))\n",
    "    dist[sx][sy] = 0\n",
    "    while q:\n",
    "        x, y, di = q.popleft()\n",
    "        for xx, yy in ((1, 0), (-1, 0), (0, 1), (0, -1)):\n",
    "            if x + xx < 0 or x + xx >= H:\n",
    "                continue\n",
    "            if y + yy < 0 or y + yy >= W:\n",
    "                continue\n",
    "            if Sn[x+xx][y+yy] == '#':\n",
    "                continue\n",
    "            if dist[x+xx][y+yy] != -1:\n",
    "                continue\n",
    "            dist[x+xx][y+yy] = dist[x][y] + 1\n",
    "            q.append((x+xx, y+yy, dist[x+xx][y+yy]))\n",
    "#     ret = 0\n",
    "#     for dis in dist:\n",
    "#         ret = max(ret, max(dis))\n",
    "    return max(chain(*dist))"
   ]
  },
  {
   "cell_type": "code",
   "execution_count": 34,
   "metadata": {},
   "outputs": [],
   "source": [
    "ans = 0\n",
    "for i in range(H):\n",
    "    for j in range(W):\n",
    "        ans = max(ans, solve(i, j))\n"
   ]
  },
  {
   "cell_type": "code",
   "execution_count": 35,
   "metadata": {},
   "outputs": [
    {
     "name": "stdout",
     "output_type": "stream",
     "text": [
      "38\n"
     ]
    }
   ],
   "source": [
    "print(ans)"
   ]
  },
  {
   "cell_type": "code",
   "execution_count": null,
   "metadata": {},
   "outputs": [],
   "source": []
  },
  {
   "cell_type": "code",
   "execution_count": 6,
   "metadata": {},
   "outputs": [],
   "source": [
    "st = [[1, 2, 3], [2, 3, 4], [5, 6, 7]]"
   ]
  },
  {
   "cell_type": "code",
   "execution_count": 8,
   "metadata": {},
   "outputs": [
    {
     "data": {
      "text/plain": [
       "3"
      ]
     },
     "execution_count": 8,
     "metadata": {},
     "output_type": "execute_result"
    }
   ],
   "source": [
    "max(st[0])"
   ]
  },
  {
   "cell_type": "code",
   "execution_count": null,
   "metadata": {},
   "outputs": [],
   "source": []
  }
 ],
 "metadata": {
  "kernelspec": {
   "display_name": "Python 3",
   "language": "python",
   "name": "python3"
  },
  "language_info": {
   "codemirror_mode": {
    "name": "ipython",
    "version": 3
   },
   "file_extension": ".py",
   "mimetype": "text/x-python",
   "name": "python",
   "nbconvert_exporter": "python",
   "pygments_lexer": "ipython3",
   "version": "3.6.10"
  }
 },
 "nbformat": 4,
 "nbformat_minor": 4
}
