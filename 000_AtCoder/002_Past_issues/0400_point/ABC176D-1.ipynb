{
 "cells": [
  {
   "cell_type": "code",
   "execution_count": 1,
   "metadata": {},
   "outputs": [],
   "source": [
    "import sys\n",
    "import numpy as np\n",
    "import math\n",
    "import collections\n",
    "import copy\n",
    "import decimal\n",
    "import itertools\n",
    "import re\n",
    "import bisect\n",
    "import scipy\n",
    "import heapq\n",
    "from collections import deque \n",
    "from functools import reduce\n",
    "from itertools import product\n",
    "from itertools import combinations\n",
    "from functools import lru_cache\n",
    "from scipy.special import comb\n",
    "from numba import njit\n",
    "from bisect import bisect_right\n",
    "from bisect import bisect_left"
   ]
  },
  {
   "cell_type": "code",
   "execution_count": 2,
   "metadata": {},
   "outputs": [
    {
     "name": "stdin",
     "output_type": "stream",
     "text": [
      " 4 4\n"
     ]
    }
   ],
   "source": [
    "H, W = map(int, input().split())"
   ]
  },
  {
   "cell_type": "code",
   "execution_count": 3,
   "metadata": {},
   "outputs": [
    {
     "name": "stdin",
     "output_type": "stream",
     "text": [
      " 1 1\n"
     ]
    }
   ],
   "source": [
    "Ch, Cw = map(int, input().split())"
   ]
  },
  {
   "cell_type": "code",
   "execution_count": 4,
   "metadata": {},
   "outputs": [
    {
     "name": "stdin",
     "output_type": "stream",
     "text": [
      " 4 4\n"
     ]
    }
   ],
   "source": [
    "Dh, Dw = map(int, input().split())"
   ]
  },
  {
   "cell_type": "code",
   "execution_count": 5,
   "metadata": {},
   "outputs": [
    {
     "name": "stdin",
     "output_type": "stream",
     "text": [
      " ..#.\n",
      " ..#.\n",
      " .#..\n",
      " .#..\n"
     ]
    }
   ],
   "source": [
    "Sn = [input() for _ in range(H)]"
   ]
  },
  {
   "cell_type": "code",
   "execution_count": 17,
   "metadata": {},
   "outputs": [],
   "source": [
    "dp = [[-1]*(W) for _ in range(H)]\n",
    "q = deque()\n",
    "q.append((Ch-1, Cw-1, 0))\n",
    "while q:\n",
    "    x, y, d = q.popleft()\n",
    "    if dp[x][y] != -1:\n",
    "        continue\n",
    "    dp[x][y] = d\n",
    "#     print(x, y, d)\n",
    "    for x1, y1 in ((1, 0), (-1, 0), (0, 1), (0, -1)):\n",
    "        xx = x + x1\n",
    "        yy = y + y1\n",
    "        if xx < 0 or xx > H-1:\n",
    "            continue\n",
    "        if yy < 0 or yy > W-1:\n",
    "            continue\n",
    "        if Sn[xx][yy] == '#':\n",
    "            continue\n",
    "        if dp[xx][yy] != -1:\n",
    "            continue\n",
    "        q.appendleft((xx, yy, d))\n",
    "#         print('2 {0}:{1}:{2}'.format(xx, yy , d))\n",
    "    for x2 in range(-2, 3):\n",
    "        for y2 in range(-2, 3):\n",
    "            xx = x + x2\n",
    "            yy = y - y2\n",
    "            if xx < 0 or xx > H-1:\n",
    "                continue\n",
    "            if yy < 0 or yy > W-1:\n",
    "                continue\n",
    "            if Sn[xx][yy] == '#':\n",
    "                continue\n",
    "            if dp[xx][yy] != -1:\n",
    "                continue\n",
    "            q.append((xx, yy, d+1))\n",
    "#             print('3 {0}:{1}:{2}'.format(xx, yy , d+1))\n",
    "            "
   ]
  },
  {
   "cell_type": "code",
   "execution_count": 18,
   "metadata": {},
   "outputs": [
    {
     "name": "stdout",
     "output_type": "stream",
     "text": [
      "1\n"
     ]
    }
   ],
   "source": [
    "print(dp[Dh-1][Dw-1])"
   ]
  },
  {
   "cell_type": "code",
   "execution_count": 19,
   "metadata": {},
   "outputs": [
    {
     "data": {
      "text/plain": [
       "[[0, 0, -1, 1], [0, 0, -1, 1], [0, -1, 1, 1], [0, -1, 1, 1]]"
      ]
     },
     "execution_count": 19,
     "metadata": {},
     "output_type": "execute_result"
    }
   ],
   "source": [
    "dp"
   ]
  },
  {
   "cell_type": "code",
   "execution_count": null,
   "metadata": {},
   "outputs": [],
   "source": []
  }
 ],
 "metadata": {
  "kernelspec": {
   "display_name": "Python 3",
   "language": "python",
   "name": "python3"
  },
  "language_info": {
   "codemirror_mode": {
    "name": "ipython",
    "version": 3
   },
   "file_extension": ".py",
   "mimetype": "text/x-python",
   "name": "python",
   "nbconvert_exporter": "python",
   "pygments_lexer": "ipython3",
   "version": "3.6.10"
  }
 },
 "nbformat": 4,
 "nbformat_minor": 4
}
