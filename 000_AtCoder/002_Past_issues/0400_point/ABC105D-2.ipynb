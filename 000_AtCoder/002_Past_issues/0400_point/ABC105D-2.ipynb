{
 "cells": [
  {
   "cell_type": "code",
   "execution_count": null,
   "id": "bfc538ff-af77-4820-ba9e-8402dd32b113",
   "metadata": {},
   "outputs": [],
   "source": [
    "# 解説、けんちょんさんの解説を読んで実装"
   ]
  },
  {
   "cell_type": "code",
   "execution_count": 36,
   "id": "db055db6-4cee-4df6-9f93-9085126af12a",
   "metadata": {},
   "outputs": [],
   "source": [
    "import sys\n",
    "import numpy as np\n",
    "import math\n",
    "import collections\n",
    "import copy\n",
    "import decimal\n",
    "import itertools\n",
    "import re\n",
    "import bisect\n",
    "import scipy\n",
    "import heapq\n",
    "from collections import deque \n",
    "from functools import reduce\n",
    "from itertools import product\n",
    "from itertools import combinations\n",
    "from itertools import chain\n",
    "from functools import lru_cache\n",
    "from scipy.special import comb\n",
    "from numba import njit\n",
    "from bisect import bisect_right\n",
    "from bisect import bisect_left"
   ]
  },
  {
   "cell_type": "code",
   "execution_count": 46,
   "id": "db09c4eb-7eff-46eb-966c-f4ca44fd2a33",
   "metadata": {},
   "outputs": [
    {
     "name": "stdin",
     "output_type": "stream",
     "text": [
      " 10 400000000\n"
     ]
    }
   ],
   "source": [
    "N, M = map(int, input().split())"
   ]
  },
  {
   "cell_type": "code",
   "execution_count": 47,
   "id": "f5f7f650-04d6-406d-86eb-399cd2284714",
   "metadata": {},
   "outputs": [
    {
     "name": "stdin",
     "output_type": "stream",
     "text": [
      " 1000000000 1000000000 1000000000 1000000000 1000000000 1000000000 1000000000 1000000000 1000000000 1000000000\n"
     ]
    }
   ],
   "source": [
    "An = list(map(int, input().split()))"
   ]
  },
  {
   "cell_type": "code",
   "execution_count": 48,
   "id": "e0b419ea-6fee-4447-affc-897c35b5d893",
   "metadata": {},
   "outputs": [],
   "source": [
    "cum = 0\n",
    "d = {}\n",
    "d[0] = 1\n",
    "for A in An:\n",
    "    cum += A\n",
    "    if cum%M in d:\n",
    "        d[cum%M] += 1\n",
    "    else:\n",
    "        d[cum%M] = 1\n"
   ]
  },
  {
   "cell_type": "code",
   "execution_count": 49,
   "id": "fef3953d-3dee-4912-a7c0-844722c97131",
   "metadata": {},
   "outputs": [
    {
     "name": "stdout",
     "output_type": "stream",
     "text": [
      "25\n"
     ]
    }
   ],
   "source": [
    "ans = 0\n",
    "for k, v in d.items():\n",
    "    ans += v * (v-1) // 2\n",
    "print(ans)"
   ]
  },
  {
   "cell_type": "code",
   "execution_count": 43,
   "id": "7c0ca669-5546-4895-93e6-1c1e7ea6cb7a",
   "metadata": {},
   "outputs": [
    {
     "data": {
      "text/plain": [
       "({0: 3, 12: 2, 2: 1, 7: 1, 14: 1, 6: 2, 13: 1, 9: 1, 4: 2}, 323, 4)"
      ]
     },
     "execution_count": 43,
     "metadata": {},
     "output_type": "execute_result"
    }
   ],
   "source": [
    "d, cum, ans"
   ]
  },
  {
   "cell_type": "code",
   "execution_count": 32,
   "id": "7d42a978-1b3c-4073-9061-524a8c672551",
   "metadata": {},
   "outputs": [],
   "source": [
    "An_cum = [0, ]\n",
    "for A in An:\n",
    "    An_cum.append(A+An_cum[-1])"
   ]
  },
  {
   "cell_type": "code",
   "execution_count": 33,
   "id": "a936cec8-5531-4166-809d-ac72d9926c75",
   "metadata": {},
   "outputs": [
    {
     "data": {
      "text/plain": [
       "[0, 29, 36, 41, 48, 57, 108, 115, 128, 136, 191, 233, 242, 323]"
      ]
     },
     "execution_count": 33,
     "metadata": {},
     "output_type": "execute_result"
    }
   ],
   "source": [
    "An_cum"
   ]
  },
  {
   "cell_type": "code",
   "execution_count": 37,
   "id": "3be902bc-d65d-4c50-b0d4-1ca993e29902",
   "metadata": {},
   "outputs": [
    {
     "data": {
      "text/plain": [
       "array([ 0, 12,  2,  7, 14,  6,  6, 13,  9,  0,  4, 12,  4,  0],\n",
       "      dtype=int32)"
      ]
     },
     "execution_count": 37,
     "metadata": {},
     "output_type": "execute_result"
    }
   ],
   "source": [
    "np.array(An_cum) % M"
   ]
  },
  {
   "cell_type": "code",
   "execution_count": null,
   "id": "680f9c71-dc7b-4774-a3ff-63055ff4c605",
   "metadata": {},
   "outputs": [],
   "source": []
  }
 ],
 "metadata": {
  "kernelspec": {
   "display_name": "Python 3",
   "language": "python",
   "name": "python3"
  },
  "language_info": {
   "codemirror_mode": {
    "name": "ipython",
    "version": 3
   },
   "file_extension": ".py",
   "mimetype": "text/x-python",
   "name": "python",
   "nbconvert_exporter": "python",
   "pygments_lexer": "ipython3",
   "version": "3.6.13"
  }
 },
 "nbformat": 4,
 "nbformat_minor": 5
}
