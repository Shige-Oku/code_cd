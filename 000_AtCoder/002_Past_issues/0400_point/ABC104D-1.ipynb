{
 "cells": [
  {
   "cell_type": "code",
   "execution_count": 1,
   "id": "3ade8ffb-1c6a-4d3d-986e-52de656f1991",
   "metadata": {},
   "outputs": [],
   "source": [
    "import sys\n",
    "import numpy as np\n",
    "import math\n",
    "import collections\n",
    "import copy\n",
    "import decimal\n",
    "import itertools\n",
    "import re\n",
    "import bisect\n",
    "import scipy\n",
    "import heapq\n",
    "from collections import deque \n",
    "from functools import reduce\n",
    "from itertools import product\n",
    "from itertools import combinations\n",
    "from itertools import chain\n",
    "from functools import lru_cache\n",
    "from scipy.special import comb\n",
    "from numba import njit\n",
    "from bisect import bisect_right\n",
    "from bisect import bisect_left"
   ]
  },
  {
   "cell_type": "code",
   "execution_count": 54,
   "id": "8d4ed720-8025-43b8-b2f9-9e66f0e5b3dc",
   "metadata": {},
   "outputs": [
    {
     "name": "stdin",
     "output_type": "stream",
     "text": [
      " A??C\n"
     ]
    }
   ],
   "source": [
    "S = input()"
   ]
  },
  {
   "cell_type": "code",
   "execution_count": 75,
   "id": "5dba6114-2917-4f56-b69c-99c812a20be0",
   "metadata": {},
   "outputs": [],
   "source": [
    "dp = [[0] * 4 for _ in range(len(S)+1)]\n",
    "dp[0][0] = 1\n",
    "for i, s in enumerate(S):\n",
    "    for j in range(4):\n",
    "        if s == '?':\n",
    "            dp[i+1][j] = dp[i][j] * 3\n",
    "            dp[i+1][j] %= 10**9 + 7\n",
    "        else:\n",
    "            dp[i+1][j] = dp[i][j]\n",
    "            dp[i+1][j] %= 10**9 + 7\n",
    "    if s == 'A' or s == '?':\n",
    "        dp[i+1][1] += dp[i][0]\n",
    "        dp[i+1][1] %= 10**9 + 7\n",
    "    if s == 'B' or s == '?':\n",
    "        dp[i+1][2] += dp[i][1]\n",
    "        dp[i+1][2] %= 10**9 + 7\n",
    "    if s == 'C' or s == '?':\n",
    "        dp[i+1][3] += dp[i][2]\n",
    "        dp[i+1][3] %= 10**9 + 7\n",
    "            "
   ]
  },
  {
   "cell_type": "code",
   "execution_count": 76,
   "id": "7beb7ae3-21ee-4568-8553-b48e51e256ff",
   "metadata": {},
   "outputs": [
    {
     "name": "stdout",
     "output_type": "stream",
     "text": [
      "8\n"
     ]
    }
   ],
   "source": [
    "print(dp[len(S)][3])"
   ]
  },
  {
   "cell_type": "code",
   "execution_count": 73,
   "id": "d881c961-8070-4450-9d23-57663cca5340",
   "metadata": {},
   "outputs": [
    {
     "data": {
      "text/plain": [
       "(3, 3)"
      ]
     },
     "execution_count": 73,
     "metadata": {},
     "output_type": "execute_result"
    }
   ],
   "source": [
    "i, j"
   ]
  },
  {
   "cell_type": "code",
   "execution_count": 74,
   "id": "cb257f97-8dfb-4930-a3e0-476ec0dfd9c1",
   "metadata": {},
   "outputs": [
    {
     "data": {
      "text/plain": [
       "[[1, 0, 0, 0], [1, 1, 0, 0], [3, 4, 1, 0], [9, 15, 7, 1], [9, 15, 7, 8]]"
      ]
     },
     "execution_count": 74,
     "metadata": {},
     "output_type": "execute_result"
    }
   ],
   "source": [
    "dp"
   ]
  },
  {
   "cell_type": "code",
   "execution_count": 70,
   "id": "bfdd3cee-5b12-481a-953f-3a078fdfc330",
   "metadata": {},
   "outputs": [
    {
     "data": {
      "text/plain": [
       "[[1, 0, 0, 0], [1, 1, 0, 0], [1, 2, 1, 0], [1, 3, 3, 1], [1, 3, 3, 4]]"
      ]
     },
     "execution_count": 70,
     "metadata": {},
     "output_type": "execute_result"
    }
   ],
   "source": [
    "dp"
   ]
  },
  {
   "cell_type": "code",
   "execution_count": 77,
   "id": "0f67fcf8-1101-478f-8d62-cf255fbd6b22",
   "metadata": {},
   "outputs": [
    {
     "data": {
      "text/plain": [
       "'C'"
      ]
     },
     "execution_count": 77,
     "metadata": {},
     "output_type": "execute_result"
    }
   ],
   "source": [
    "\"ABC\"[2]"
   ]
  },
  {
   "cell_type": "code",
   "execution_count": null,
   "id": "78d89a46-208c-4469-bbca-422e5647e037",
   "metadata": {},
   "outputs": [],
   "source": []
  }
 ],
 "metadata": {
  "kernelspec": {
   "display_name": "Python 3",
   "language": "python",
   "name": "python3"
  },
  "language_info": {
   "codemirror_mode": {
    "name": "ipython",
    "version": 3
   },
   "file_extension": ".py",
   "mimetype": "text/x-python",
   "name": "python",
   "nbconvert_exporter": "python",
   "pygments_lexer": "ipython3",
   "version": "3.6.13"
  }
 },
 "nbformat": 4,
 "nbformat_minor": 5
}
