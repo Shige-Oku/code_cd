{
 "cells": [
  {
   "cell_type": "code",
   "execution_count": 1,
   "id": "b535ed7c-0f86-4961-8f0a-970de9894f4d",
   "metadata": {},
   "outputs": [],
   "source": [
    "import sys\n",
    "import numpy as np\n",
    "import math\n",
    "import collections\n",
    "import copy\n",
    "import decimal\n",
    "import itertools\n",
    "import re\n",
    "import bisect\n",
    "import scipy\n",
    "import heapq\n",
    "from collections import deque \n",
    "from functools import reduce\n",
    "from itertools import product\n",
    "from itertools import combinations\n",
    "from itertools import chain\n",
    "from functools import lru_cache\n",
    "from scipy.special import comb\n",
    "from numba import njit\n",
    "from bisect import bisect_right\n",
    "from bisect import bisect_left"
   ]
  },
  {
   "cell_type": "code",
   "execution_count": 18,
   "id": "7333d5e6-d6ed-4ac6-9f5d-786d2de78c22",
   "metadata": {},
   "outputs": [
    {
     "name": "stdin",
     "output_type": "stream",
     "text": [
      " 3 7\n"
     ]
    }
   ],
   "source": [
    "N, K = map(int, input().split())"
   ]
  },
  {
   "cell_type": "code",
   "execution_count": 19,
   "id": "c0d10203-8ba6-4957-9922-47a7a71977c9",
   "metadata": {},
   "outputs": [
    {
     "name": "stdin",
     "output_type": "stream",
     "text": [
      " 1 6 3\n"
     ]
    }
   ],
   "source": [
    "An = list(map(int, input().split()))"
   ]
  },
  {
   "cell_type": "code",
   "execution_count": 20,
   "id": "31a652a1-a3fe-42d4-88c4-9a29046eef74",
   "metadata": {},
   "outputs": [],
   "source": [
    "k = 1\n",
    "while 2**k <= K:\n",
    "    k += 1"
   ]
  },
  {
   "cell_type": "code",
   "execution_count": 33,
   "id": "42f7d383-068f-4711-a375-58090ca52f7b",
   "metadata": {},
   "outputs": [
    {
     "name": "stdout",
     "output_type": "stream",
     "text": [
      "14\n"
     ]
    }
   ],
   "source": [
    "cnt0 = [0] * k\n",
    "cnt1 = [0] * k\n",
    "for A in An:\n",
    "    for i in range(k):\n",
    "        if A >> i & 1:\n",
    "            cnt1[i] += 1\n",
    "        else:\n",
    "            cnt0[i] += 1\n",
    "X = 0\n",
    "for i in range(k-1, -1, -1):\n",
    "    if  cnt0[i] > cnt1[i] and X + 2**i <= K:\n",
    "        X += 2**i\n",
    "ans = 0\n",
    "for A in An:\n",
    "    ans += A ^ X\n",
    "print(ans)"
   ]
  },
  {
   "cell_type": "code",
   "execution_count": 32,
   "id": "7dff51fb-5301-47a9-9a98-09f03f7722a4",
   "metadata": {},
   "outputs": [
    {
     "data": {
      "text/plain": [
       "(1, 3)"
      ]
     },
     "execution_count": 32,
     "metadata": {},
     "output_type": "execute_result"
    }
   ],
   "source": [
    "X, k"
   ]
  },
  {
   "cell_type": "code",
   "execution_count": 26,
   "id": "593524ac-9abe-40d9-aa4b-d4bae5577ecf",
   "metadata": {},
   "outputs": [
    {
     "data": {
      "text/plain": [
       "[2, 2, 1]"
      ]
     },
     "execution_count": 26,
     "metadata": {},
     "output_type": "execute_result"
    }
   ],
   "source": [
    "cnt1"
   ]
  },
  {
   "cell_type": "code",
   "execution_count": 27,
   "id": "64119201-3afa-4461-a30f-379e17fa390d",
   "metadata": {},
   "outputs": [
    {
     "data": {
      "text/plain": [
       "[1, 1, 2]"
      ]
     },
     "execution_count": 27,
     "metadata": {},
     "output_type": "execute_result"
    }
   ],
   "source": [
    "cnt0"
   ]
  },
  {
   "cell_type": "code",
   "execution_count": null,
   "id": "2b94b5a4-a159-426a-9592-2ba4f1b52419",
   "metadata": {},
   "outputs": [],
   "source": [
    "# WA"
   ]
  },
  {
   "cell_type": "code",
   "execution_count": 15,
   "id": "6a88827b-95f1-40b7-8ca7-6521172f29d2",
   "metadata": {},
   "outputs": [
    {
     "name": "stdout",
     "output_type": "stream",
     "text": [
      "1000000000000\n"
     ]
    }
   ],
   "source": [
    "cnt0 = [0] * k\n",
    "cnt1 = [0] * k\n",
    "for A in An:\n",
    "    for i in range(k):\n",
    "        if A >> i & 1:\n",
    "            cnt1[i] += 1\n",
    "        else:\n",
    "            cnt0[i] += 1\n",
    "X = 0\n",
    "for i, c in enumerate(cnt0):\n",
    "    if cnt0[i] > cnt1[i] and X + 2**i <= K:\n",
    "        X += 2**i\n",
    "ans = 0\n",
    "for A in An:\n",
    "    ans += A ^ X\n",
    "print(ans)"
   ]
  },
  {
   "cell_type": "code",
   "execution_count": 10,
   "id": "8ef1638a-4b40-4fc4-bf15-dd55ed35bd98",
   "metadata": {},
   "outputs": [
    {
     "data": {
      "text/plain": [
       "([2, 2, 2, 4], [2, 2, 2, 0])"
      ]
     },
     "execution_count": 10,
     "metadata": {},
     "output_type": "execute_result"
    }
   ],
   "source": [
    "cnt0, cnt1"
   ]
  },
  {
   "cell_type": "code",
   "execution_count": 6,
   "id": "ae012e69-7b13-424a-abf2-b43fc9833eda",
   "metadata": {},
   "outputs": [
    {
     "data": {
      "text/plain": [
       "1"
      ]
     },
     "execution_count": 6,
     "metadata": {},
     "output_type": "execute_result"
    }
   ],
   "source": [
    "1 >> 0"
   ]
  },
  {
   "cell_type": "code",
   "execution_count": 7,
   "id": "202dc3fa-1f3d-4375-9c56-54034d3e6009",
   "metadata": {},
   "outputs": [
    {
     "data": {
      "text/plain": [
       "(4, 3)"
      ]
     },
     "execution_count": 7,
     "metadata": {},
     "output_type": "execute_result"
    }
   ],
   "source": [
    "X, k"
   ]
  },
  {
   "cell_type": "code",
   "execution_count": 78,
   "id": "bf33241d-cf30-473d-8445-ea89020bb6c1",
   "metadata": {},
   "outputs": [
    {
     "data": {
      "text/plain": [
       "343846760218624"
      ]
     },
     "execution_count": 78,
     "metadata": {},
     "output_type": "execute_result"
    }
   ],
   "source": [
    "4642514674290680-4298667914072056"
   ]
  },
  {
   "cell_type": "code",
   "execution_count": 16,
   "id": "262b0dce-c2be-420e-83e7-51322446dc1e",
   "metadata": {},
   "outputs": [
    {
     "data": {
      "text/plain": [
       "0"
      ]
     },
     "execution_count": 16,
     "metadata": {},
     "output_type": "execute_result"
    }
   ],
   "source": [
    "1000000000000-1000000000000"
   ]
  },
  {
   "cell_type": "code",
   "execution_count": null,
   "id": "155c6987-239a-47a7-be74-db6c203558e7",
   "metadata": {},
   "outputs": [],
   "source": []
  }
 ],
 "metadata": {
  "kernelspec": {
   "display_name": "Python 3",
   "language": "python",
   "name": "python3"
  },
  "language_info": {
   "codemirror_mode": {
    "name": "ipython",
    "version": 3
   },
   "file_extension": ".py",
   "mimetype": "text/x-python",
   "name": "python",
   "nbconvert_exporter": "python",
   "pygments_lexer": "ipython3",
   "version": "3.6.13"
  }
 },
 "nbformat": 4,
 "nbformat_minor": 5
}
