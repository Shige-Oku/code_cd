{
 "cells": [
  {
   "cell_type": "code",
   "execution_count": 1,
   "id": "e6e71974-f390-48de-9d23-086b1834dac7",
   "metadata": {},
   "outputs": [],
   "source": [
    "import sys\n",
    "import numpy as np\n",
    "import math\n",
    "import collections\n",
    "import copy\n",
    "import decimal\n",
    "import itertools\n",
    "import re\n",
    "import bisect\n",
    "import scipy\n",
    "import heapq\n",
    "from collections import deque \n",
    "from functools import reduce\n",
    "from itertools import product\n",
    "from itertools import combinations\n",
    "from itertools import chain\n",
    "from functools import lru_cache\n",
    "from scipy.special import comb\n",
    "from numba import njit\n",
    "from bisect import bisect_right\n",
    "from bisect import bisect_left"
   ]
  },
  {
   "cell_type": "code",
   "execution_count": 46,
   "id": "20f696e6-96d4-40c4-87cd-cfacb3c77147",
   "metadata": {},
   "outputs": [
    {
     "name": "stdin",
     "output_type": "stream",
     "text": [
      " 10 8\n"
     ]
    }
   ],
   "source": [
    "N, M = map(int, input().split())"
   ]
  },
  {
   "cell_type": "code",
   "execution_count": 47,
   "id": "ec792d5e-7189-4dd3-9678-5219fcadecbf",
   "metadata": {},
   "outputs": [
    {
     "name": "stdin",
     "output_type": "stream",
     "text": [
      " 5 3 6 8 7 10 9 1 2 4\n"
     ]
    }
   ],
   "source": [
    "Pn = list(map(int, input().split()))"
   ]
  },
  {
   "cell_type": "code",
   "execution_count": 48,
   "id": "c19a408e-51f8-48ab-b780-11a786ed0d4c",
   "metadata": {},
   "outputs": [
    {
     "name": "stdin",
     "output_type": "stream",
     "text": [
      " 3 1\n",
      " 4 1\n",
      " 5 9\n",
      " 2 5\n",
      " 6 5\n",
      " 3 5\n",
      " 8 9\n",
      " 7 9\n"
     ]
    }
   ],
   "source": [
    "XY = [list(map(int, input().split())) for _ in range(M)]"
   ]
  },
  {
   "cell_type": "code",
   "execution_count": 58,
   "id": "713944c3-e0ed-4bce-b3c0-4e034ed83ba2",
   "metadata": {},
   "outputs": [],
   "source": [
    "Pn_d1 = {}\n",
    "for i, P in enumerate(Pn, 1):\n",
    "    Pn_d1[i] = P\n",
    "#     Pn_d2[P] = i\n",
    "graph = [[] for _ in range(N+1)]\n",
    "for x, y in XY:\n",
    "    graph[x].append(y)\n",
    "    graph[y].append(x)\n"
   ]
  },
  {
   "cell_type": "code",
   "execution_count": 65,
   "id": "78befb5c-b54b-4ced-895f-c85b5f26c810",
   "metadata": {},
   "outputs": [],
   "source": [
    "visit = [False] * (N+1)\n",
    "match = [False] * (N+1)\n",
    "q = deque()\n",
    "for i in range(1, N+1):\n",
    "    if visit[i]:\n",
    "        continue\n",
    "    q.append(i)\n",
    "    vi = set()\n",
    "    idx = set()\n",
    "    while q:\n",
    "        x = q.popleft()\n",
    "        if visit[x]:\n",
    "            continue\n",
    "        visit[x] = True\n",
    "        vi.add(Pn_d1[x])\n",
    "        idx.add(x)\n",
    "        for gr in graph[x]:\n",
    "            if visit[gr]:\n",
    "                continue\n",
    "            q.append(gr)\n",
    "    for vvi in vi:\n",
    "        if vvi in idx:\n",
    "            match[vvi] = True\n",
    "#     print(vi)\n",
    "#     print(idx)"
   ]
  },
  {
   "cell_type": "code",
   "execution_count": 66,
   "id": "7b972632-6ab0-463d-bc56-cef0deb7b8c3",
   "metadata": {},
   "outputs": [
    {
     "name": "stdout",
     "output_type": "stream",
     "text": [
      "8\n"
     ]
    }
   ],
   "source": [
    "ans = 0\n",
    "for f in match[1:]:\n",
    "    if f:\n",
    "        ans += 1\n",
    "print(ans)"
   ]
  },
  {
   "cell_type": "code",
   "execution_count": 61,
   "id": "f02edc22-3a51-4b17-b02c-fc0dddd3a4e4",
   "metadata": {},
   "outputs": [
    {
     "data": {
      "text/plain": [
       "({1: 5, 2: 3, 3: 6, 4: 8, 5: 7, 6: 10, 7: 9, 8: 1, 9: 2, 10: 4},\n",
       " [False, True, True, True, False, True, True, True, True, True, False])"
      ]
     },
     "execution_count": 61,
     "metadata": {},
     "output_type": "execute_result"
    }
   ],
   "source": [
    "Pn_d1, match"
   ]
  },
  {
   "cell_type": "code",
   "execution_count": 62,
   "id": "b0f9e19e-a5de-48a1-89f4-b09ef404ae64",
   "metadata": {},
   "outputs": [
    {
     "data": {
      "text/plain": [
       "[[], [3, 4], [5], [1, 5], [1], [9, 2, 6, 3], [5], [9], [9], [5, 8, 7], []]"
      ]
     },
     "execution_count": 62,
     "metadata": {},
     "output_type": "execute_result"
    }
   ],
   "source": [
    "graph"
   ]
  },
  {
   "cell_type": "code",
   "execution_count": 54,
   "id": "dba206d6-2b80-4abc-9f55-4cfa673fb4f7",
   "metadata": {},
   "outputs": [
    {
     "data": {
      "text/plain": [
       "{1: 5, 2: 3, 3: 6, 4: 8, 5: 7, 6: 10, 7: 9, 8: 1, 9: 2, 10: 4}"
      ]
     },
     "execution_count": 54,
     "metadata": {},
     "output_type": "execute_result"
    }
   ],
   "source": [
    "Pn_d1"
   ]
  },
  {
   "cell_type": "code",
   "execution_count": null,
   "id": "823e1304-f3e5-412b-841a-51b6d03c29a3",
   "metadata": {},
   "outputs": [],
   "source": []
  }
 ],
 "metadata": {
  "kernelspec": {
   "display_name": "Python 3",
   "language": "python",
   "name": "python3"
  },
  "language_info": {
   "codemirror_mode": {
    "name": "ipython",
    "version": 3
   },
   "file_extension": ".py",
   "mimetype": "text/x-python",
   "name": "python",
   "nbconvert_exporter": "python",
   "pygments_lexer": "ipython3",
   "version": "3.6.13"
  }
 },
 "nbformat": 4,
 "nbformat_minor": 5
}
