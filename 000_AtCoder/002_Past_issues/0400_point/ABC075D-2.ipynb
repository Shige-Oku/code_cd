{
 "cells": [
  {
   "cell_type": "code",
   "execution_count": null,
   "id": "6df714f5-3d81-4a52-8794-6f889eeba20f",
   "metadata": {},
   "outputs": [],
   "source": [
    "# 解説を読んで実装"
   ]
  },
  {
   "cell_type": "code",
   "execution_count": 1,
   "id": "f5fee17f-07be-4edf-a3b5-6478e7d3485f",
   "metadata": {},
   "outputs": [],
   "source": [
    "import sys\n",
    "import numpy as np\n",
    "import math\n",
    "import collections\n",
    "import copy\n",
    "import decimal\n",
    "import itertools\n",
    "import re\n",
    "import bisect\n",
    "import scipy\n",
    "import heapq\n",
    "from collections import deque \n",
    "from functools import reduce\n",
    "from itertools import product\n",
    "from itertools import combinations\n",
    "from itertools import chain\n",
    "from functools import lru_cache\n",
    "from scipy.special import comb\n",
    "from numba import njit\n",
    "from bisect import bisect_right\n",
    "from bisect import bisect_left"
   ]
  },
  {
   "cell_type": "code",
   "execution_count": 2,
   "id": "38cc0110-4ffb-49a5-932a-c4e89c346108",
   "metadata": {},
   "outputs": [
    {
     "name": "stdin",
     "output_type": "stream",
     "text": [
      " 4 4\n"
     ]
    }
   ],
   "source": [
    "N, K = map(int, input().split())"
   ]
  },
  {
   "cell_type": "code",
   "execution_count": 3,
   "id": "fa999a8f-17c9-4247-afca-12115da0be43",
   "metadata": {},
   "outputs": [
    {
     "name": "stdin",
     "output_type": "stream",
     "text": [
      " 1 4\n",
      " 3 3\n",
      " 6 2\n",
      " 8 1\n"
     ]
    }
   ],
   "source": [
    "XY = [list(map(int, input().split())) for _ in range(N)]"
   ]
  },
  {
   "cell_type": "code",
   "execution_count": 13,
   "id": "9a2b6363-5156-42b2-a827-33936569c6e0",
   "metadata": {},
   "outputs": [],
   "source": [
    "XY_x = sorted(XY)\n",
    "XY_y = sorted(XY, key=lambda x:x[1])\n",
    "ans = 10 ** 20\n",
    "for i in range(N-1):\n",
    "    for j in range(i+1, N):\n",
    "        for k in range(N-1):\n",
    "            for l in range(k+1, N):\n",
    "                xmi = min(XY_x[i][0], XY_x[j][0])\n",
    "                xma = max(XY_x[i][0], XY_x[j][0])\n",
    "                ymi = min(XY_y[k][1], XY_y[l][1])\n",
    "                yma = max(XY_y[k][1], XY_y[l][1])\n",
    "                if xmi == xma or ymi == yma:\n",
    "                    continue\n",
    "                cnt = 0\n",
    "                for m in range(N):\n",
    "                    if xmi <= XY[m][0] <= xma and ymi <= XY[m][1] <= yma:\n",
    "                        cnt += 1\n",
    "                if cnt >= K:\n",
    "                    ans = min(ans, abs(xma-xmi)*abs(yma-ymi))\n",
    "#                     print(i, j, k, m)\n",
    "#                     print(xmi, xma, ymi, yma, cnt, ans)\n",
    "                "
   ]
  },
  {
   "cell_type": "code",
   "execution_count": 14,
   "id": "3ea5ccee-1dfe-4a93-a0c6-9b7292ff55fc",
   "metadata": {},
   "outputs": [
    {
     "name": "stdout",
     "output_type": "stream",
     "text": [
      "21\n"
     ]
    }
   ],
   "source": [
    "print(ans)"
   ]
  },
  {
   "cell_type": "code",
   "execution_count": null,
   "id": "1a041763-aa7e-4399-9cfc-a10543cb0446",
   "metadata": {},
   "outputs": [],
   "source": []
  }
 ],
 "metadata": {
  "kernelspec": {
   "display_name": "Python 3",
   "language": "python",
   "name": "python3"
  },
  "language_info": {
   "codemirror_mode": {
    "name": "ipython",
    "version": 3
   },
   "file_extension": ".py",
   "mimetype": "text/x-python",
   "name": "python",
   "nbconvert_exporter": "python",
   "pygments_lexer": "ipython3",
   "version": "3.6.13"
  }
 },
 "nbformat": 4,
 "nbformat_minor": 5
}
