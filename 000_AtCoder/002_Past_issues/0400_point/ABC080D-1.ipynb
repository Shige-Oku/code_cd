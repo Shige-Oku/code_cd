{
 "cells": [
  {
   "cell_type": "code",
   "execution_count": 1,
   "id": "0604769f-1358-486f-83a0-8949a34cb645",
   "metadata": {},
   "outputs": [],
   "source": [
    "import sys\n",
    "import numpy as np\n",
    "import math\n",
    "import collections\n",
    "import copy\n",
    "import decimal\n",
    "import itertools\n",
    "import re\n",
    "import bisect\n",
    "import scipy\n",
    "import heapq\n",
    "from collections import deque \n",
    "from functools import reduce\n",
    "from itertools import product\n",
    "from itertools import combinations\n",
    "from itertools import chain\n",
    "from functools import lru_cache\n",
    "from scipy.special import comb\n",
    "from numba import njit\n",
    "from bisect import bisect_right\n",
    "from bisect import bisect_left"
   ]
  },
  {
   "cell_type": "code",
   "execution_count": 2,
   "id": "d478afa9-ff30-46ce-ba22-f3b62ce0a4b9",
   "metadata": {},
   "outputs": [
    {
     "name": "stdin",
     "output_type": "stream",
     "text": [
      " 3 2\n"
     ]
    }
   ],
   "source": [
    "N, C = map(int, input().split())"
   ]
  },
  {
   "cell_type": "code",
   "execution_count": 3,
   "id": "8834acaa-384a-4df4-9ce7-e6809a459eff",
   "metadata": {},
   "outputs": [
    {
     "name": "stdin",
     "output_type": "stream",
     "text": [
      " 1 7 2\n",
      " 7 8 1\n",
      " 8 12 1\n"
     ]
    }
   ],
   "source": [
    "STC = [list(map(int, input().split())) for _ in range(N)]"
   ]
  },
  {
   "cell_type": "code",
   "execution_count": 20,
   "id": "08d5f5fe-c1ac-45b1-8f8e-d962d6225361",
   "metadata": {},
   "outputs": [],
   "source": [
    "STC_s = sorted(STC, key=lambda x:(x[2], x[1]))\n",
    "cum = [0] * (10**5+1)\n",
    "ch = 0\n",
    "e = 0\n",
    "for S, T, C in STC_s:\n",
    "    if ch == C and e == S:\n",
    "        cum[S] += 1\n",
    "        cum[T] -= 1\n",
    "    else:\n",
    "        cum[S-1] += 1\n",
    "        cum[T] -= 1\n",
    "    ch = C\n",
    "    e = T"
   ]
  },
  {
   "cell_type": "code",
   "execution_count": 26,
   "id": "5143875d-2b86-4c36-8200-8daf8542b9a8",
   "metadata": {},
   "outputs": [
    {
     "name": "stdout",
     "output_type": "stream",
     "text": [
      "2\n"
     ]
    }
   ],
   "source": [
    "print(max(itertools.accumulate(cum)))"
   ]
  },
  {
   "cell_type": "code",
   "execution_count": 21,
   "id": "08a7ef8c-5513-46bb-b786-0cd62ff43972",
   "metadata": {},
   "outputs": [
    {
     "data": {
      "text/plain": [
       "[[7, 8, 1], [8, 12, 1], [1, 7, 2]]"
      ]
     },
     "execution_count": 21,
     "metadata": {},
     "output_type": "execute_result"
    }
   ],
   "source": [
    "STC_s"
   ]
  },
  {
   "cell_type": "code",
   "execution_count": 25,
   "id": "bc6f591f-8f1a-4541-bfb2-ced20307960f",
   "metadata": {},
   "outputs": [
    {
     "data": {
      "text/plain": [
       "2"
      ]
     },
     "execution_count": 25,
     "metadata": {},
     "output_type": "execute_result"
    }
   ],
   "source": [
    "max(itertools.accumulate(cum))"
   ]
  },
  {
   "cell_type": "code",
   "execution_count": null,
   "id": "6e13ce42-482d-4927-a3b8-59bfa1a234a3",
   "metadata": {},
   "outputs": [],
   "source": []
  }
 ],
 "metadata": {
  "kernelspec": {
   "display_name": "Python 3",
   "language": "python",
   "name": "python3"
  },
  "language_info": {
   "codemirror_mode": {
    "name": "ipython",
    "version": 3
   },
   "file_extension": ".py",
   "mimetype": "text/x-python",
   "name": "python",
   "nbconvert_exporter": "python",
   "pygments_lexer": "ipython3",
   "version": "3.6.13"
  }
 },
 "nbformat": 4,
 "nbformat_minor": 5
}
