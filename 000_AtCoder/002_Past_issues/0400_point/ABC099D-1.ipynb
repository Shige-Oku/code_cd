{
 "cells": [
  {
   "cell_type": "code",
   "execution_count": null,
   "id": "a64b447b-c028-4b9d-8f1c-152298b90180",
   "metadata": {},
   "outputs": [],
   "source": [
    "# 解説を読んで実装"
   ]
  },
  {
   "cell_type": "code",
   "execution_count": 1,
   "id": "c6dc0e98-db33-4d66-afaa-3c245a4084c5",
   "metadata": {},
   "outputs": [],
   "source": [
    "import sys\n",
    "import numpy as np\n",
    "import math\n",
    "import collections\n",
    "import copy\n",
    "import decimal\n",
    "import itertools\n",
    "import re\n",
    "import bisect\n",
    "import scipy\n",
    "import heapq\n",
    "from collections import deque \n",
    "from functools import reduce\n",
    "from itertools import product\n",
    "from itertools import combinations\n",
    "from itertools import chain\n",
    "from functools import lru_cache\n",
    "from scipy.special import comb\n",
    "from numba import njit\n",
    "from bisect import bisect_right\n",
    "from bisect import bisect_left"
   ]
  },
  {
   "cell_type": "code",
   "execution_count": 2,
   "id": "3bc4a8fb-bed8-4707-9a4e-fa9c19008e53",
   "metadata": {},
   "outputs": [
    {
     "name": "stdin",
     "output_type": "stream",
     "text": [
      " 2 3\n"
     ]
    }
   ],
   "source": [
    "N, C = map(int, input().split())"
   ]
  },
  {
   "cell_type": "code",
   "execution_count": 3,
   "id": "8acb7917-895f-49cf-a2ff-c38d118eba80",
   "metadata": {},
   "outputs": [
    {
     "name": "stdin",
     "output_type": "stream",
     "text": [
      " 0 1 1\n",
      " 1 0 1\n",
      " 1 4 0\n"
     ]
    }
   ],
   "source": [
    "Dn = [list(map(int, input().split())) for _ in range(C)]"
   ]
  },
  {
   "cell_type": "code",
   "execution_count": 4,
   "id": "dede4a2a-19ae-4354-8c96-7a63e2166fe2",
   "metadata": {},
   "outputs": [
    {
     "name": "stdin",
     "output_type": "stream",
     "text": [
      " 1 2\n",
      " 3 3\n"
     ]
    }
   ],
   "source": [
    "Cn = [list(map(int, input().split())) for _ in range(N)]"
   ]
  },
  {
   "cell_type": "code",
   "execution_count": 7,
   "id": "28238008-5480-4549-a564-12d26c7fabab",
   "metadata": {},
   "outputs": [],
   "source": [
    "col_cnt = [[0] * (C+1) for _ in range(3)]\n",
    "for i in range(1, N+1):\n",
    "    for j in range(1, N+1):\n",
    "        col_cnt[(i+j)%3][Cn[i-1][j-1]] += 1\n"
   ]
  },
  {
   "cell_type": "code",
   "execution_count": 16,
   "id": "7ff5c4a6-923a-465a-a743-60c6d133e6cf",
   "metadata": {},
   "outputs": [],
   "source": [
    "ans = 10**20\n",
    "for i in range(C):\n",
    "    for j in range(C):\n",
    "        if i == j:\n",
    "            continue\n",
    "        for k in range(C):\n",
    "            if k == i or k == j:\n",
    "                continue\n",
    "            total = 0\n",
    "            for l in range(1, C+1):\n",
    "                total += Dn[l-1][i] * col_cnt[0][l]\n",
    "                total += Dn[l-1][j] * col_cnt[1][l]\n",
    "                total += Dn[l-1][k] * col_cnt[2][l]\n",
    "            ans = min(ans, total)"
   ]
  },
  {
   "cell_type": "code",
   "execution_count": 17,
   "id": "cbee7134-afa7-4367-a549-1133c89ae86e",
   "metadata": {},
   "outputs": [
    {
     "name": "stdout",
     "output_type": "stream",
     "text": [
      "3\n"
     ]
    }
   ],
   "source": [
    "print(ans)"
   ]
  },
  {
   "cell_type": "code",
   "execution_count": 13,
   "id": "0cef20fa-1af2-427c-8df1-e47cfa5834d0",
   "metadata": {},
   "outputs": [
    {
     "data": {
      "text/plain": [
       "[[0, 0, 1, 1], [0, 0, 0, 1], [0, 1, 0, 0]]"
      ]
     },
     "execution_count": 13,
     "metadata": {},
     "output_type": "execute_result"
    }
   ],
   "source": [
    "col_cnt"
   ]
  },
  {
   "cell_type": "code",
   "execution_count": null,
   "id": "2f831acb-809a-4c9f-96f6-820f56948ac7",
   "metadata": {},
   "outputs": [],
   "source": []
  }
 ],
 "metadata": {
  "kernelspec": {
   "display_name": "Python 3",
   "language": "python",
   "name": "python3"
  },
  "language_info": {
   "codemirror_mode": {
    "name": "ipython",
    "version": 3
   },
   "file_extension": ".py",
   "mimetype": "text/x-python",
   "name": "python",
   "nbconvert_exporter": "python",
   "pygments_lexer": "ipython3",
   "version": "3.6.13"
  }
 },
 "nbformat": 4,
 "nbformat_minor": 5
}
