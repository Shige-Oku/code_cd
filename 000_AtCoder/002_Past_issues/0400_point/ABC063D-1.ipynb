{
 "cells": [
  {
   "cell_type": "code",
   "execution_count": 1,
   "id": "a026ba49-a31c-4046-9466-89b3cf178213",
   "metadata": {},
   "outputs": [],
   "source": [
    "import sys\n",
    "import numpy as np\n",
    "import math\n",
    "import collections\n",
    "import copy\n",
    "import decimal\n",
    "import itertools\n",
    "import re\n",
    "import bisect\n",
    "import scipy\n",
    "import heapq\n",
    "from collections import deque \n",
    "from functools import reduce\n",
    "from itertools import product\n",
    "from itertools import combinations\n",
    "from itertools import chain\n",
    "from functools import lru_cache\n",
    "from scipy.special import comb\n",
    "from numba import njit\n",
    "from bisect import bisect_right\n",
    "from bisect import bisect_left"
   ]
  },
  {
   "cell_type": "code",
   "execution_count": 2,
   "id": "693251d8-6e26-4b13-875b-537894131c74",
   "metadata": {},
   "outputs": [
    {
     "name": "stdin",
     "output_type": "stream",
     "text": [
      " 4 5 3\n"
     ]
    }
   ],
   "source": [
    "N, A, B = map(int, input().split())"
   ]
  },
  {
   "cell_type": "code",
   "execution_count": 3,
   "id": "fc4403e6-839f-4bdc-a81b-5ec21b18318f",
   "metadata": {},
   "outputs": [
    {
     "name": "stdin",
     "output_type": "stream",
     "text": [
      " 8 \n",
      " 7\n",
      " 4\n",
      " 2\n"
     ]
    }
   ],
   "source": [
    "Hn = [int(input()) for _ in range(N)]"
   ]
  },
  {
   "cell_type": "code",
   "execution_count": 5,
   "id": "79b92aea-0336-42f9-acc3-33e751b7dec4",
   "metadata": {},
   "outputs": [],
   "source": [
    "Hn2 = []\n",
    "for i, H in enumerate(Hn):\n",
    "    Hn2.append((H, i))"
   ]
  },
  {
   "cell_type": "code",
   "execution_count": 22,
   "id": "4e1165a2-20c7-45ee-832e-6c13624ca748",
   "metadata": {},
   "outputs": [
    {
     "name": "stdout",
     "output_type": "stream",
     "text": [
      "-8 0 0\n",
      "-7 1 6\n",
      "-4 2 9\n",
      "-2 3 9\n",
      "2 0 9\n",
      "4 1 9\n"
     ]
    }
   ],
   "source": [
    "damage = 0\n",
    "q = []\n",
    "for H, i in Hn2:\n",
    "    heapq.heappush(q, (-H, i))\n",
    "\n",
    "ans = 0\n",
    "while q:\n",
    "    h, p = heapq.heappop(q)\n",
    "    print(h, p, damage)\n",
    "    if -h <= damage:\n",
    "        continue\n",
    "    h += damage\n",
    "    heapq.heappush(q, (h%A, p))\n",
    "    damage += B * math.ceil((-h / A))\n",
    "    ans += math.ceil((-h / A))"
   ]
  },
  {
   "cell_type": "code",
   "execution_count": 21,
   "id": "ef879080-508c-4c34-9103-3bb50c591a31",
   "metadata": {},
   "outputs": [
    {
     "name": "stdout",
     "output_type": "stream",
     "text": [
      "3\n"
     ]
    }
   ],
   "source": [
    "print(ans)"
   ]
  },
  {
   "cell_type": "code",
   "execution_count": 6,
   "id": "b2232d35-1cfb-49dd-9c93-3ddfdbd124d2",
   "metadata": {},
   "outputs": [
    {
     "data": {
      "text/plain": [
       "[(8, 0), (7, 1), (4, 2), (2, 3)]"
      ]
     },
     "execution_count": 6,
     "metadata": {},
     "output_type": "execute_result"
    }
   ],
   "source": [
    "Hn2"
   ]
  },
  {
   "cell_type": "code",
   "execution_count": null,
   "id": "7398000f-fde5-4924-98f1-d855e37accbd",
   "metadata": {},
   "outputs": [],
   "source": []
  }
 ],
 "metadata": {
  "kernelspec": {
   "display_name": "Python 3",
   "language": "python",
   "name": "python3"
  },
  "language_info": {
   "codemirror_mode": {
    "name": "ipython",
    "version": 3
   },
   "file_extension": ".py",
   "mimetype": "text/x-python",
   "name": "python",
   "nbconvert_exporter": "python",
   "pygments_lexer": "ipython3",
   "version": "3.6.13"
  }
 },
 "nbformat": 4,
 "nbformat_minor": 5
}
