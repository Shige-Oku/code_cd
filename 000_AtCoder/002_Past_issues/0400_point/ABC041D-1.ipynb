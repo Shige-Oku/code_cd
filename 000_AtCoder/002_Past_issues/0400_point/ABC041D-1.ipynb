{
 "cells": [
  {
   "cell_type": "code",
   "execution_count": 1,
   "id": "6f7bb5ef-f9e6-43ed-844f-656412ad170a",
   "metadata": {},
   "outputs": [],
   "source": [
    "import sys\n",
    "import numpy as np\n",
    "import math\n",
    "import collections\n",
    "import copy\n",
    "import decimal\n",
    "import itertools\n",
    "import re\n",
    "import bisect\n",
    "import scipy\n",
    "import heapq\n",
    "from collections import deque \n",
    "from functools import reduce\n",
    "from itertools import product\n",
    "from itertools import combinations\n",
    "from itertools import chain\n",
    "from functools import lru_cache\n",
    "from scipy.special import comb\n",
    "from numba import njit\n",
    "from bisect import bisect_right\n",
    "from bisect import bisect_left"
   ]
  },
  {
   "cell_type": "code",
   "execution_count": 16,
   "id": "7dc9e302-59ad-4576-8276-1af957570775",
   "metadata": {},
   "outputs": [],
   "source": [
    "sys.setrecursionlimit(10**7)"
   ]
  },
  {
   "cell_type": "code",
   "execution_count": 41,
   "id": "e8cd3408-e4fe-482b-b67b-40920f82e61f",
   "metadata": {},
   "outputs": [
    {
     "name": "stdin",
     "output_type": "stream",
     "text": [
      " 16 1\n"
     ]
    }
   ],
   "source": [
    "N, M = map(int, input().split())"
   ]
  },
  {
   "cell_type": "code",
   "execution_count": 42,
   "id": "897da6c1-2bea-4950-a775-e7f0a494ee24",
   "metadata": {},
   "outputs": [
    {
     "name": "stdin",
     "output_type": "stream",
     "text": [
      " 1 2\n"
     ]
    }
   ],
   "source": [
    "XY = [list(map(int, input().split())) for _ in range(M)]"
   ]
  },
  {
   "cell_type": "code",
   "execution_count": 43,
   "id": "4a990f0d-940d-4a66-ae0e-d013831b9bad",
   "metadata": {},
   "outputs": [],
   "source": [
    "graph = [[] for _ in range(N+1)]\n",
    "for X, Y in XY:\n",
    "    graph[X].append(Y)"
   ]
  },
  {
   "cell_type": "code",
   "execution_count": 44,
   "id": "ffbeb84b-03d2-482e-b829-73f8d6d88f54",
   "metadata": {},
   "outputs": [],
   "source": [
    "factorial_table = [1] * (16+1)\n",
    "for i in range(1, len(factorial_table)):\n",
    "    factorial_table[i] = factorial_table[i-1] * i"
   ]
  },
  {
   "cell_type": "code",
   "execution_count": 45,
   "id": "e16a98a5-a5cf-4dfe-b3dc-2ead8834690a",
   "metadata": {},
   "outputs": [],
   "source": [
    "def DFS(n):\n",
    "    if len(graph[n]) == 0:\n",
    "        return 1\n",
    "    ret = 0\n",
    "    visit[n] = True\n",
    "    for g in graph[n]:\n",
    "        ret += DFS(g)\n",
    "        visit[g] = True\n",
    "    return factorial_table[len(graph[g])] * ret"
   ]
  },
  {
   "cell_type": "code",
   "execution_count": 46,
   "id": "01c2a4fc-df90-4448-ba2c-922df83d22e7",
   "metadata": {},
   "outputs": [
    {
     "name": "stdout",
     "output_type": "stream",
     "text": [
      "6227020800\n"
     ]
    }
   ],
   "source": [
    "visit = [False] * (N+1)\n",
    "ans = 1\n",
    "cnt = 0\n",
    "for i in range(1, N):\n",
    "    if visit[i]:\n",
    "        continue\n",
    "    ret = DFS(i)\n",
    "    if ret == 1:\n",
    "        continue\n",
    "    ans *= ret\n",
    "    cnt += 1\n",
    "fcnt = 0\n",
    "for i in range(1, N):\n",
    "    if not visit[i]:\n",
    "        fcnt += 1\n",
    "print(factorial_table[fcnt+cnt]*ans)"
   ]
  },
  {
   "cell_type": "code",
   "execution_count": 38,
   "id": "d41b3064-cfff-4653-9a8a-3cacc8fc3439",
   "metadata": {},
   "outputs": [
    {
     "data": {
      "text/plain": [
       "([[], [], [1, 3], []], 1, 0, 2)"
      ]
     },
     "execution_count": 38,
     "metadata": {},
     "output_type": "execute_result"
    }
   ],
   "source": [
    "graph, cnt, fcnt, ans"
   ]
  },
  {
   "cell_type": "code",
   "execution_count": 35,
   "id": "ec60dd75-4291-4b7c-a291-526fdeefbc2d",
   "metadata": {},
   "outputs": [
    {
     "data": {
      "text/plain": [
       "[False, False, True, False]"
      ]
     },
     "execution_count": 35,
     "metadata": {},
     "output_type": "execute_result"
    }
   ],
   "source": [
    "visit"
   ]
  },
  {
   "cell_type": "code",
   "execution_count": 9,
   "id": "e60d52a9-7ea0-42bc-b367-9632f9582d53",
   "metadata": {},
   "outputs": [
    {
     "data": {
      "text/plain": [
       "[1,\n",
       " 1,\n",
       " 2,\n",
       " 6,\n",
       " 24,\n",
       " 120,\n",
       " 720,\n",
       " 5040,\n",
       " 40320,\n",
       " 362880,\n",
       " 3628800,\n",
       " 39916800,\n",
       " 479001600,\n",
       " 6227020800,\n",
       " 87178291200,\n",
       " 1307674368000,\n",
       " 20922789888000]"
      ]
     },
     "execution_count": 9,
     "metadata": {},
     "output_type": "execute_result"
    }
   ],
   "source": [
    "factorial_table"
   ]
  },
  {
   "cell_type": "code",
   "execution_count": 39,
   "id": "9bf28ec4-f841-4974-a3fb-8f9f6f3d324d",
   "metadata": {},
   "outputs": [
    {
     "data": {
      "text/plain": [
       "1307674368000"
      ]
     },
     "execution_count": 39,
     "metadata": {},
     "output_type": "execute_result"
    }
   ],
   "source": [
    "factorial_table[15]"
   ]
  },
  {
   "cell_type": "code",
   "execution_count": 40,
   "id": "300e8b69-4123-4bf3-9671-3ebb7a633603",
   "metadata": {},
   "outputs": [
    {
     "data": {
      "text/plain": [
       "9153720576000"
      ]
     },
     "execution_count": 40,
     "metadata": {},
     "output_type": "execute_result"
    }
   ],
   "source": [
    "10461394944000-1307674368000"
   ]
  },
  {
   "cell_type": "code",
   "execution_count": 47,
   "id": "4e1cb0c5-414d-466c-96bb-efd4d64f4d7c",
   "metadata": {},
   "outputs": [
    {
     "data": {
      "text/plain": [
       "10461394944000"
      ]
     },
     "execution_count": 47,
     "metadata": {},
     "output_type": "execute_result"
    }
   ],
   "source": [
    "20922789888000-10461394944000"
   ]
  },
  {
   "cell_type": "code",
   "execution_count": null,
   "id": "64eb9570-e4f2-4e03-bc9f-f202e5735e63",
   "metadata": {},
   "outputs": [],
   "source": []
  }
 ],
 "metadata": {
  "kernelspec": {
   "display_name": "Python 3",
   "language": "python",
   "name": "python3"
  },
  "language_info": {
   "codemirror_mode": {
    "name": "ipython",
    "version": 3
   },
   "file_extension": ".py",
   "mimetype": "text/x-python",
   "name": "python",
   "nbconvert_exporter": "python",
   "pygments_lexer": "ipython3",
   "version": "3.6.13"
  }
 },
 "nbformat": 4,
 "nbformat_minor": 5
}
