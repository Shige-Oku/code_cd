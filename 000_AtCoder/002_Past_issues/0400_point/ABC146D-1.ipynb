{
 "cells": [
  {
   "cell_type": "code",
   "execution_count": null,
   "id": "baaef7d0-580b-4354-bc24-803b5168f851",
   "metadata": {},
   "outputs": [],
   "source": [
    "# WA"
   ]
  },
  {
   "cell_type": "code",
   "execution_count": 6,
   "id": "ea727a81-9c97-4f34-b704-83e5136f7b30",
   "metadata": {},
   "outputs": [],
   "source": [
    "import sys\n",
    "import numpy as np\n",
    "import math\n",
    "import collections\n",
    "import copy\n",
    "import decimal\n",
    "import itertools\n",
    "import re\n",
    "import bisect\n",
    "import scipy\n",
    "import heapq\n",
    "from collections import deque \n",
    "from functools import reduce\n",
    "from itertools import product\n",
    "from itertools import combinations\n",
    "from itertools import chain\n",
    "from functools import lru_cache\n",
    "from scipy.special import comb\n",
    "from numba import njit\n",
    "from bisect import bisect_right\n",
    "from bisect import bisect_left"
   ]
  },
  {
   "cell_type": "code",
   "execution_count": 25,
   "id": "dc80e4ca-69de-47e2-b51e-d44c20263455",
   "metadata": {},
   "outputs": [
    {
     "name": "stdin",
     "output_type": "stream",
     "text": [
      " 6\n"
     ]
    }
   ],
   "source": [
    "N = int(input())"
   ]
  },
  {
   "cell_type": "code",
   "execution_count": 26,
   "id": "bb78cba4-0f6b-4df0-8e7e-a96bff968bf8",
   "metadata": {},
   "outputs": [
    {
     "name": "stdin",
     "output_type": "stream",
     "text": [
      " 1 2\n",
      " 1 3\n",
      " 1 4\n",
      " 1 5\n",
      " 1 6\n"
     ]
    }
   ],
   "source": [
    "AB = [list(map(int, input().split())) for _ in range(N-1)]"
   ]
  },
  {
   "cell_type": "code",
   "execution_count": 27,
   "id": "8830474e-5652-483b-bc4a-e1dcb8fadfba",
   "metadata": {},
   "outputs": [],
   "source": [
    "graph = [[] for _ in range(N+1)]\n",
    "for A, B in AB:\n",
    "    graph[A].append(B)\n"
   ]
  },
  {
   "cell_type": "code",
   "execution_count": 28,
   "id": "bd293c23-3240-48e7-8bcd-edc3ff8347df",
   "metadata": {},
   "outputs": [],
   "source": [
    "K = 0\n",
    "ma = -1\n",
    "for i, gr in enumerate(graph[1:], 1):\n",
    "    if len(gr) > K:\n",
    "        K = len(gr)\n",
    "        ma = i"
   ]
  },
  {
   "cell_type": "code",
   "execution_count": 29,
   "id": "76cc67db-c59b-4025-bf71-9d48f9516363",
   "metadata": {},
   "outputs": [],
   "source": [
    "colors = [0] * (N+1)\n",
    "q = deque()\n",
    "q.append(ma)\n",
    "colors[ma] = 1\n",
    "while q:\n",
    "    p = q.popleft()\n",
    "    i = 1\n",
    "    for gr in graph[p]:\n",
    "        if colors[gr] != 0:\n",
    "            continue\n",
    "        if i == colors[p]:\n",
    "            i += 1\n",
    "        colors[gr] = i\n",
    "        q.append(gr)\n",
    "        i += 1\n",
    "        "
   ]
  },
  {
   "cell_type": "code",
   "execution_count": 33,
   "id": "b5fcd9f1-f518-4f21-9e0d-4a0441d87ff8",
   "metadata": {},
   "outputs": [
    {
     "name": "stdout",
     "output_type": "stream",
     "text": [
      "5\n",
      "1\n",
      "2\n",
      "3\n",
      "4\n",
      "5\n"
     ]
    }
   ],
   "source": [
    "if ma == 1:\n",
    "    print(max(colors[1:-1]))\n",
    "    for color in colors[1:-1]:\n",
    "        print(color)\n",
    "else:\n",
    "    print(max(colors[2:]))\n",
    "    for color in colors[2:]:\n",
    "        print(color)"
   ]
  },
  {
   "cell_type": "code",
   "execution_count": 31,
   "id": "799214f4-ec51-4c36-977a-3f13dcbd727c",
   "metadata": {},
   "outputs": [
    {
     "data": {
      "text/plain": [
       "([[], [2, 3, 4, 5, 6], [], [], [], [], []], 5, 1)"
      ]
     },
     "execution_count": 31,
     "metadata": {},
     "output_type": "execute_result"
    }
   ],
   "source": [
    "graph, K, ma"
   ]
  },
  {
   "cell_type": "code",
   "execution_count": 32,
   "id": "2b2fc05a-5ece-458e-bc5e-520cfb32a0d1",
   "metadata": {},
   "outputs": [
    {
     "data": {
      "text/plain": [
       "[0, 1, 2, 3, 4, 5, 6]"
      ]
     },
     "execution_count": 32,
     "metadata": {},
     "output_type": "execute_result"
    }
   ],
   "source": [
    "colors"
   ]
  },
  {
   "cell_type": "code",
   "execution_count": null,
   "id": "463736fc-8d79-4606-ba86-b6b4bfb7305a",
   "metadata": {},
   "outputs": [],
   "source": []
  }
 ],
 "metadata": {
  "kernelspec": {
   "display_name": "Python 3",
   "language": "python",
   "name": "python3"
  },
  "language_info": {
   "codemirror_mode": {
    "name": "ipython",
    "version": 3
   },
   "file_extension": ".py",
   "mimetype": "text/x-python",
   "name": "python",
   "nbconvert_exporter": "python",
   "pygments_lexer": "ipython3",
   "version": "3.6.13"
  }
 },
 "nbformat": 4,
 "nbformat_minor": 5
}
