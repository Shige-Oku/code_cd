{
 "cells": [
  {
   "cell_type": "code",
   "execution_count": null,
   "id": "a3169f8f-c9fe-460c-82fa-c320c20a8122",
   "metadata": {},
   "outputs": [],
   "source": [
    "# 解説を読んで実装"
   ]
  },
  {
   "cell_type": "code",
   "execution_count": 1,
   "id": "0a987c32-6dab-40ee-9205-3b480a940496",
   "metadata": {},
   "outputs": [],
   "source": [
    "import sys\n",
    "import numpy as np\n",
    "import math\n",
    "import collections\n",
    "import copy\n",
    "import decimal\n",
    "import itertools\n",
    "import re\n",
    "import bisect\n",
    "import scipy\n",
    "import heapq\n",
    "from collections import deque \n",
    "from functools import reduce\n",
    "from itertools import product\n",
    "from itertools import combinations\n",
    "from itertools import chain\n",
    "from functools import lru_cache\n",
    "from scipy.special import comb\n",
    "from numba import njit\n",
    "from bisect import bisect_right\n",
    "from bisect import bisect_left"
   ]
  },
  {
   "cell_type": "code",
   "execution_count": 9,
   "id": "f3fafc0e-6f05-4140-8ef9-15e2feacf36c",
   "metadata": {},
   "outputs": [],
   "source": [
    "# 素数のリスト作成\n",
    "def get_primes(number):\n",
    "    is_prime = [True] * (number+1)\n",
    "    is_prime[:1]  = False, False\n",
    "    sqrt_num = math.ceil(math.sqrt(number))\n",
    "    for i in range(2, sqrt_num):\n",
    "        if (is_prime[i]):\n",
    "            for j in range(i*2, number+1, i):\n",
    "                is_prime[j] = False\n",
    "    primes = []\n",
    "    for i in range(number+1):\n",
    "        if is_prime[i]:\n",
    "            primes.append(i)\n",
    "    return primes"
   ]
  },
  {
   "cell_type": "code",
   "execution_count": 2,
   "id": "52838897-23fe-453c-94f2-629cdfd7c70b",
   "metadata": {},
   "outputs": [
    {
     "name": "stdin",
     "output_type": "stream",
     "text": [
      " 5\n"
     ]
    }
   ],
   "source": [
    "N = int(input())"
   ]
  },
  {
   "cell_type": "code",
   "execution_count": 12,
   "id": "4abf44e5-a059-4eb9-aa7a-bb9450e3cc24",
   "metadata": {},
   "outputs": [],
   "source": [
    "primes = get_primes(55555)\n",
    "prime_1mod = []\n",
    "for prime in primes:\n",
    "    if prime % 5 != 1:\n",
    "        continue\n",
    "    prime_1mod.append(prime)\n",
    "    if len(prime_1mod) >= N:\n",
    "        break"
   ]
  },
  {
   "cell_type": "code",
   "execution_count": 14,
   "id": "989997f2-5f19-41cc-8dac-b2d7e90e6636",
   "metadata": {},
   "outputs": [
    {
     "name": "stdout",
     "output_type": "stream",
     "text": [
      "11 31 41 61 71\n"
     ]
    }
   ],
   "source": [
    "print(*prime_1mod)"
   ]
  },
  {
   "cell_type": "code",
   "execution_count": 11,
   "id": "1da35b36-5c98-47ef-958f-766a9af3593b",
   "metadata": {},
   "outputs": [
    {
     "data": {
      "text/plain": [
       "5637"
      ]
     },
     "execution_count": 11,
     "metadata": {},
     "output_type": "execute_result"
    }
   ],
   "source": [
    "len(primes)"
   ]
  },
  {
   "cell_type": "code",
   "execution_count": 8,
   "id": "f62e0bad-b251-44bc-b85b-2445fa33053f",
   "metadata": {},
   "outputs": [
    {
     "data": {
      "text/plain": [
       "312500000"
      ]
     },
     "execution_count": 8,
     "metadata": {},
     "output_type": "execute_result"
    }
   ],
   "source": [
    "50**5"
   ]
  },
  {
   "cell_type": "code",
   "execution_count": null,
   "id": "d09eeb35-6da9-44f9-a83b-ee0d648cffe5",
   "metadata": {},
   "outputs": [],
   "source": []
  }
 ],
 "metadata": {
  "kernelspec": {
   "display_name": "Python 3",
   "language": "python",
   "name": "python3"
  },
  "language_info": {
   "codemirror_mode": {
    "name": "ipython",
    "version": 3
   },
   "file_extension": ".py",
   "mimetype": "text/x-python",
   "name": "python",
   "nbconvert_exporter": "python",
   "pygments_lexer": "ipython3",
   "version": "3.6.13"
  }
 },
 "nbformat": 4,
 "nbformat_minor": 5
}
