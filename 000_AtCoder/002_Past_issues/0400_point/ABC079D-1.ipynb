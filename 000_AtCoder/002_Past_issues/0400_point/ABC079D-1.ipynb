{
 "cells": [
  {
   "cell_type": "code",
   "execution_count": null,
   "metadata": {},
   "outputs": [],
   "source": [
    "# 解説を読んで実装"
   ]
  },
  {
   "cell_type": "code",
   "execution_count": 1,
   "metadata": {},
   "outputs": [],
   "source": [
    "import sys\n",
    "import numpy as np\n",
    "import math\n",
    "import collections\n",
    "import copy\n",
    "import decimal\n",
    "import itertools\n",
    "from collections import deque \n",
    "from functools import reduce\n",
    "from itertools import product\n",
    "from itertools import combinations\n",
    "from functools import lru_cache"
   ]
  },
  {
   "cell_type": "code",
   "execution_count": 2,
   "metadata": {},
   "outputs": [
    {
     "name": "stdin",
     "output_type": "stream",
     "text": [
      " 2 4\n"
     ]
    }
   ],
   "source": [
    "H, W = map(int, input().split())"
   ]
  },
  {
   "cell_type": "code",
   "execution_count": 3,
   "metadata": {},
   "outputs": [
    {
     "name": "stdin",
     "output_type": "stream",
     "text": [
      " 0 9 9 9 9 9 9 9 9 9\n",
      " 9 0 9 9 9 9 9 9 9 9\n",
      " 9 9 0 9 9 9 9 9 9 9\n",
      " 9 9 9 0 9 9 9 9 9 9\n",
      " 9 9 9 9 0 9 9 9 9 2\n",
      " 9 9 9 9 9 0 9 9 9 9\n",
      " 9 9 9 9 9 9 0 9 9 9\n",
      " 9 9 9 9 9 9 9 0 9 9\n",
      " 9 9 9 9 2 9 9 9 0 9\n",
      " 9 2 9 9 9 9 9 9 9 0\n"
     ]
    }
   ],
   "source": [
    "Cn = [list(map(int, input().split())) for _ in range(10)]"
   ]
  },
  {
   "cell_type": "code",
   "execution_count": 4,
   "metadata": {},
   "outputs": [
    {
     "name": "stdin",
     "output_type": "stream",
     "text": [
      " -1 -1 -1 -1\n",
      " 8 1 1 8\n"
     ]
    }
   ],
   "source": [
    "An = [list(map(int, input().split())) for _ in range(H)]"
   ]
  },
  {
   "cell_type": "code",
   "execution_count": 28,
   "metadata": {},
   "outputs": [],
   "source": [
    "co = copy.deepcopy(Cn)"
   ]
  },
  {
   "cell_type": "code",
   "execution_count": 30,
   "metadata": {},
   "outputs": [],
   "source": [
    "for k in range(10):\n",
    "    for i in range(10):\n",
    "        for j in range(10):\n",
    "            co[i][j] = min(co[i][j], co[i][k]+co[k][j])\n"
   ]
  },
  {
   "cell_type": "code",
   "execution_count": 34,
   "metadata": {},
   "outputs": [
    {
     "name": "stdout",
     "output_type": "stream",
     "text": [
      "8\n",
      "1\n",
      "1\n",
      "8\n"
     ]
    }
   ],
   "source": [
    "ans = 0\n",
    "for Al in An:\n",
    "    for A in Al:\n",
    "        if A == -1:\n",
    "            continue\n",
    "        ans += co[A][1]"
   ]
  },
  {
   "cell_type": "code",
   "execution_count": 35,
   "metadata": {},
   "outputs": [
    {
     "name": "stdout",
     "output_type": "stream",
     "text": [
      "12\n"
     ]
    }
   ],
   "source": [
    "print(ans)"
   ]
  },
  {
   "cell_type": "code",
   "execution_count": 31,
   "metadata": {},
   "outputs": [
    {
     "data": {
      "text/plain": [
       "[[0, 9, 9, 9, 9, 9, 9, 9, 9, 9],\n",
       " [9, 0, 9, 9, 9, 9, 9, 9, 9, 9],\n",
       " [9, 9, 0, 9, 9, 9, 9, 9, 9, 9],\n",
       " [9, 9, 9, 0, 9, 9, 9, 9, 9, 9],\n",
       " [9, 4, 9, 9, 0, 9, 9, 9, 9, 2],\n",
       " [9, 9, 9, 9, 9, 0, 9, 9, 9, 9],\n",
       " [9, 9, 9, 9, 9, 9, 0, 9, 9, 9],\n",
       " [9, 9, 9, 9, 9, 9, 9, 0, 9, 9],\n",
       " [9, 6, 9, 9, 2, 9, 9, 9, 0, 4],\n",
       " [9, 2, 9, 9, 9, 9, 9, 9, 9, 0]]"
      ]
     },
     "execution_count": 31,
     "metadata": {},
     "output_type": "execute_result"
    }
   ],
   "source": [
    "co"
   ]
  },
  {
   "cell_type": "code",
   "execution_count": null,
   "metadata": {},
   "outputs": [],
   "source": []
  }
 ],
 "metadata": {
  "kernelspec": {
   "display_name": "Python 3",
   "language": "python",
   "name": "python3"
  },
  "language_info": {
   "codemirror_mode": {
    "name": "ipython",
    "version": 3
   },
   "file_extension": ".py",
   "mimetype": "text/x-python",
   "name": "python",
   "nbconvert_exporter": "python",
   "pygments_lexer": "ipython3",
   "version": "3.6.10"
  }
 },
 "nbformat": 4,
 "nbformat_minor": 4
}
