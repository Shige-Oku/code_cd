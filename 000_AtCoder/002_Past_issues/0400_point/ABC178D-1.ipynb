{
 "cells": [
  {
   "cell_type": "code",
   "execution_count": null,
   "metadata": {},
   "outputs": [],
   "source": [
    "# 解説を読んで実装"
   ]
  },
  {
   "cell_type": "code",
   "execution_count": 1,
   "metadata": {},
   "outputs": [],
   "source": [
    "import sys\n",
    "import numpy as np\n",
    "import math\n",
    "import collections\n",
    "import copy\n",
    "import decimal\n",
    "import itertools\n",
    "from collections import deque \n",
    "from functools import reduce\n",
    "from itertools import product\n",
    "from itertools import combinations\n",
    "from functools import lru_cache"
   ]
  },
  {
   "cell_type": "code",
   "execution_count": 41,
   "metadata": {},
   "outputs": [
    {
     "name": "stdin",
     "output_type": "stream",
     "text": [
      " 9\n"
     ]
    }
   ],
   "source": [
    "S = int(input())"
   ]
  },
  {
   "cell_type": "code",
   "execution_count": 42,
   "metadata": {},
   "outputs": [],
   "source": [
    "dp = [0 for _ in range(S+1)]"
   ]
  },
  {
   "cell_type": "code",
   "execution_count": 43,
   "metadata": {},
   "outputs": [],
   "source": [
    "dp[0] = 1"
   ]
  },
  {
   "cell_type": "code",
   "execution_count": 44,
   "metadata": {},
   "outputs": [
    {
     "name": "stdout",
     "output_type": "stream",
     "text": [
      "1\n",
      "2\n",
      "3\n",
      "3 0\n",
      "[1, 0, 0, 1, 0, 0, 0, 0, 0, 0]\n",
      "4\n",
      "4 0\n",
      "[1, 0, 0, 1, 1, 0, 0, 0, 0, 0]\n",
      "4 1\n",
      "[1, 0, 0, 1, 1, 0, 0, 0, 0, 0]\n",
      "5\n",
      "5 0\n",
      "[1, 0, 0, 1, 1, 1, 0, 0, 0, 0]\n",
      "5 1\n",
      "[1, 0, 0, 1, 1, 1, 0, 0, 0, 0]\n",
      "5 2\n",
      "[1, 0, 0, 1, 1, 1, 0, 0, 0, 0]\n",
      "6\n",
      "6 0\n",
      "[1, 0, 0, 1, 1, 1, 1, 0, 0, 0]\n",
      "6 1\n",
      "[1, 0, 0, 1, 1, 1, 1, 0, 0, 0]\n",
      "6 2\n",
      "[1, 0, 0, 1, 1, 1, 1, 0, 0, 0]\n",
      "6 3\n",
      "[1, 0, 0, 1, 1, 1, 2, 0, 0, 0]\n",
      "7\n",
      "7 0\n",
      "[1, 0, 0, 1, 1, 1, 2, 1, 0, 0]\n",
      "7 1\n",
      "[1, 0, 0, 1, 1, 1, 2, 1, 0, 0]\n",
      "7 2\n",
      "[1, 0, 0, 1, 1, 1, 2, 1, 0, 0]\n",
      "7 3\n",
      "[1, 0, 0, 1, 1, 1, 2, 2, 0, 0]\n",
      "7 4\n",
      "[1, 0, 0, 1, 1, 1, 2, 3, 0, 0]\n",
      "8\n",
      "8 0\n",
      "[1, 0, 0, 1, 1, 1, 2, 3, 1, 0]\n",
      "8 1\n",
      "[1, 0, 0, 1, 1, 1, 2, 3, 1, 0]\n",
      "8 2\n",
      "[1, 0, 0, 1, 1, 1, 2, 3, 1, 0]\n",
      "8 3\n",
      "[1, 0, 0, 1, 1, 1, 2, 3, 2, 0]\n",
      "8 4\n",
      "[1, 0, 0, 1, 1, 1, 2, 3, 3, 0]\n",
      "8 5\n",
      "[1, 0, 0, 1, 1, 1, 2, 3, 4, 0]\n",
      "9\n",
      "9 0\n",
      "[1, 0, 0, 1, 1, 1, 2, 3, 4, 1]\n",
      "9 1\n",
      "[1, 0, 0, 1, 1, 1, 2, 3, 4, 1]\n",
      "9 2\n",
      "[1, 0, 0, 1, 1, 1, 2, 3, 4, 1]\n",
      "9 3\n",
      "[1, 0, 0, 1, 1, 1, 2, 3, 4, 2]\n",
      "9 4\n",
      "[1, 0, 0, 1, 1, 1, 2, 3, 4, 3]\n",
      "9 5\n",
      "[1, 0, 0, 1, 1, 1, 2, 3, 4, 4]\n",
      "9 6\n",
      "[1, 0, 0, 1, 1, 1, 2, 3, 4, 6]\n"
     ]
    }
   ],
   "source": [
    "for v in range(1, S+1):\n",
    "    print(v)\n",
    "    for d in range(v-2):\n",
    "        dp[v] += dp[d]\n",
    "        dp[v] %= 10**9+7\n",
    "        print(v, d)\n",
    "        print(dp)"
   ]
  },
  {
   "cell_type": "code",
   "execution_count": 45,
   "metadata": {},
   "outputs": [
    {
     "name": "stdout",
     "output_type": "stream",
     "text": [
      "6\n"
     ]
    }
   ],
   "source": [
    "print(dp[S])"
   ]
  },
  {
   "cell_type": "code",
   "execution_count": null,
   "metadata": {},
   "outputs": [],
   "source": []
  }
 ],
 "metadata": {
  "kernelspec": {
   "display_name": "Python 3",
   "language": "python",
   "name": "python3"
  },
  "language_info": {
   "codemirror_mode": {
    "name": "ipython",
    "version": 3
   },
   "file_extension": ".py",
   "mimetype": "text/x-python",
   "name": "python",
   "nbconvert_exporter": "python",
   "pygments_lexer": "ipython3",
   "version": "3.6.10"
  }
 },
 "nbformat": 4,
 "nbformat_minor": 4
}
