{
 "cells": [
  {
   "cell_type": "code",
   "execution_count": null,
   "id": "d7747ace-6ea0-4bd4-b3d0-6c660bcefe58",
   "metadata": {},
   "outputs": [],
   "source": [
    "# WA"
   ]
  },
  {
   "cell_type": "code",
   "execution_count": 1,
   "id": "c5f97dbd-6532-4685-8f97-32f24d989a49",
   "metadata": {},
   "outputs": [],
   "source": [
    "import sys\n",
    "import numpy as np\n",
    "import math\n",
    "import collections\n",
    "import copy\n",
    "import decimal\n",
    "import itertools\n",
    "import re\n",
    "import bisect\n",
    "import scipy\n",
    "import heapq\n",
    "from collections import deque \n",
    "from functools import reduce\n",
    "from itertools import product\n",
    "from itertools import combinations\n",
    "from itertools import chain\n",
    "from functools import lru_cache\n",
    "from scipy.special import comb\n",
    "from numba import njit\n",
    "from bisect import bisect_right\n",
    "from bisect import bisect_left"
   ]
  },
  {
   "cell_type": "code",
   "execution_count": 8,
   "id": "59c6c823-1588-40ad-92b0-8a0f4a42ee7c",
   "metadata": {},
   "outputs": [],
   "source": [
    "# sys.setrecursionlimit(10**8)"
   ]
  },
  {
   "cell_type": "code",
   "execution_count": 2,
   "id": "ced5eabb-9dc5-4cf6-b873-fe7975641256",
   "metadata": {},
   "outputs": [
    {
     "name": "stdin",
     "output_type": "stream",
     "text": [
      " 5 3\n"
     ]
    }
   ],
   "source": [
    "N, K = map(int, input().split())"
   ]
  },
  {
   "cell_type": "code",
   "execution_count": 3,
   "id": "27e86bea-dd53-4d93-84e5-af2042a10e41",
   "metadata": {},
   "outputs": [
    {
     "name": "stdin",
     "output_type": "stream",
     "text": [
      " 1 9\n",
      " 1 7\n",
      " 2 6\n",
      " 2 5\n",
      " 3 1\n"
     ]
    }
   ],
   "source": [
    "TD = [list(map(int, input().split())) for _ in range(N)]"
   ]
  },
  {
   "cell_type": "code",
   "execution_count": 58,
   "id": "eab2b1d2-e81a-4e4c-b97d-9ee362cccc1b",
   "metadata": {},
   "outputs": [],
   "source": [
    "TD_s = sorted(TD, reverse=True, key=lambda x:x[1])\n",
    "kind = set()\n",
    "ma = []\n",
    "cq = []\n",
    "for T, D in TD[:K]:\n",
    "    if T not in kind:\n",
    "        kind.add(T)\n",
    "        ma.append(D)\n",
    "    else:\n",
    "        cq.append(D)\n",
    "cq.sort()"
   ]
  },
  {
   "cell_type": "code",
   "execution_count": 59,
   "id": "64319d31-c3f8-4408-98c5-d372575b0bad",
   "metadata": {},
   "outputs": [],
   "source": [
    "i = K\n",
    "m = sum(ma)\n",
    "c = sum(cq)\n",
    "ans = m + c + len(kind)**2\n",
    "for j in range(len(cq)):\n",
    "    flg = False\n",
    "    while i < N:\n",
    "        T, D = TD_s[i]\n",
    "        if T not in kind:\n",
    "            kind.add(T)\n",
    "            flg = True\n",
    "            c -= cq[j]\n",
    "            m += D\n",
    "            break\n",
    "        i += 1\n",
    "    if not flg:\n",
    "        break\n",
    "    ans = max(ans, m + c + len(kind)**2)"
   ]
  },
  {
   "cell_type": "code",
   "execution_count": 60,
   "id": "a16851e2-cd77-4b81-ac7e-684144ad0386",
   "metadata": {},
   "outputs": [
    {
     "name": "stdout",
     "output_type": "stream",
     "text": [
      "26\n"
     ]
    }
   ],
   "source": [
    "print(ans)"
   ]
  },
  {
   "cell_type": "code",
   "execution_count": 34,
   "id": "6e6f8f7b-e2fb-4262-bb66-9913836822d1",
   "metadata": {},
   "outputs": [
    {
     "data": {
      "text/plain": [
       "([9, 6, 1], [], {1, 2}, 20)"
      ]
     },
     "execution_count": 34,
     "metadata": {},
     "output_type": "execute_result"
    }
   ],
   "source": [
    "ma, cq, kind, ans"
   ]
  },
  {
   "cell_type": "code",
   "execution_count": null,
   "id": "afaf4497-764c-4f69-a63c-33f625305f54",
   "metadata": {},
   "outputs": [],
   "source": []
  }
 ],
 "metadata": {
  "kernelspec": {
   "display_name": "Python 3",
   "language": "python",
   "name": "python3"
  },
  "language_info": {
   "codemirror_mode": {
    "name": "ipython",
    "version": 3
   },
   "file_extension": ".py",
   "mimetype": "text/x-python",
   "name": "python",
   "nbconvert_exporter": "python",
   "pygments_lexer": "ipython3",
   "version": "3.6.13"
  }
 },
 "nbformat": 4,
 "nbformat_minor": 5
}
