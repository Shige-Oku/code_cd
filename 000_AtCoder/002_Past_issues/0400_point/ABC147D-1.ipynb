{
 "cells": [
  {
   "cell_type": "code",
   "execution_count": null,
   "id": "f3c8916c-98c9-4afc-870c-9c7c28fb05fd",
   "metadata": {},
   "outputs": [],
   "source": [
    "# 解説を読んで実装"
   ]
  },
  {
   "cell_type": "code",
   "execution_count": 1,
   "id": "0fd509c0-c492-4e41-90f7-76de95747863",
   "metadata": {},
   "outputs": [],
   "source": [
    "import sys\n",
    "import numpy as np\n",
    "import math\n",
    "import collections\n",
    "import copy\n",
    "import decimal\n",
    "import itertools\n",
    "import re\n",
    "import bisect\n",
    "import scipy\n",
    "import heapq\n",
    "from collections import deque \n",
    "from functools import reduce\n",
    "from itertools import product\n",
    "from itertools import combinations\n",
    "from itertools import chain\n",
    "from functools import lru_cache\n",
    "from scipy.special import comb\n",
    "from numba import njit\n",
    "from bisect import bisect_right\n",
    "from bisect import bisect_left"
   ]
  },
  {
   "cell_type": "code",
   "execution_count": 28,
   "id": "7b1ce62c-14b9-44d5-a7c7-250dc9264841",
   "metadata": {},
   "outputs": [
    {
     "name": "stdin",
     "output_type": "stream",
     "text": [
      " 10\n"
     ]
    }
   ],
   "source": [
    "N = int(input())"
   ]
  },
  {
   "cell_type": "code",
   "execution_count": 29,
   "id": "fa31591b-de07-4a73-bf44-4708697aed33",
   "metadata": {},
   "outputs": [
    {
     "name": "stdin",
     "output_type": "stream",
     "text": [
      " 3 14 159 2653 58979 323846 2643383 27950288 419716939 9375105820\n"
     ]
    }
   ],
   "source": [
    "An = list(map(int, input().split()))"
   ]
  },
  {
   "cell_type": "code",
   "execution_count": 30,
   "id": "6cd09244-8e63-4344-9295-5191b4cdc639",
   "metadata": {},
   "outputs": [],
   "source": [
    "zero = [0] * 61\n",
    "one = [0] * 61\n",
    "for A in An:\n",
    "    for i in range(61):\n",
    "        if A>>i & 1 == 0:\n",
    "            zero[i] += 1\n",
    "        else:\n",
    "            one[i] += 1"
   ]
  },
  {
   "cell_type": "code",
   "execution_count": 31,
   "id": "a2ac65e8-bb54-4c7c-921b-c532e324a1dd",
   "metadata": {},
   "outputs": [],
   "source": [
    "ans = 0\n",
    "for i in range(61):\n",
    "    ans += zero[i] * one[i] * (2**i)\n",
    "    ans %= (10**9+7)"
   ]
  },
  {
   "cell_type": "code",
   "execution_count": 32,
   "id": "db5bf6a6-6f61-40aa-909c-9b7fd8e818ae",
   "metadata": {},
   "outputs": [
    {
     "name": "stdout",
     "output_type": "stream",
     "text": [
      "103715602\n"
     ]
    }
   ],
   "source": [
    "print(ans)"
   ]
  },
  {
   "cell_type": "code",
   "execution_count": 19,
   "id": "b74f79df-e4f6-4eec-a452-e82ae3884db7",
   "metadata": {},
   "outputs": [
    {
     "data": {
      "text/plain": [
       "(30, Counter({3: 2, 1: 2, 4: 1, 5: 2, 9: 1, 2: 1, 6: 1}))"
      ]
     },
     "execution_count": 19,
     "metadata": {},
     "output_type": "execute_result"
    }
   ],
   "source": [
    "total, An_c"
   ]
  },
  {
   "cell_type": "code",
   "execution_count": 15,
   "id": "68418a8e-0caf-43fc-af56-257e7613fef9",
   "metadata": {},
   "outputs": [
    {
     "data": {
      "text/plain": [
       "{1, 2, 3, 4, 5, 6, 9}"
      ]
     },
     "execution_count": 15,
     "metadata": {},
     "output_type": "execute_result"
    }
   ],
   "source": [
    "set(An)"
   ]
  },
  {
   "cell_type": "code",
   "execution_count": null,
   "id": "51306263-ef32-41b3-95a4-b71f4d60f562",
   "metadata": {},
   "outputs": [],
   "source": []
  }
 ],
 "metadata": {
  "kernelspec": {
   "display_name": "Python 3",
   "language": "python",
   "name": "python3"
  },
  "language_info": {
   "codemirror_mode": {
    "name": "ipython",
    "version": 3
   },
   "file_extension": ".py",
   "mimetype": "text/x-python",
   "name": "python",
   "nbconvert_exporter": "python",
   "pygments_lexer": "ipython3",
   "version": "3.6.13"
  }
 },
 "nbformat": 4,
 "nbformat_minor": 5
}
