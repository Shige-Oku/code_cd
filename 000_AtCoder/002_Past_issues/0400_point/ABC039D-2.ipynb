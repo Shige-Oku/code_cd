{
 "cells": [
  {
   "cell_type": "code",
   "execution_count": null,
   "id": "c55a35ea-ba3b-4166-a674-f3cd3673cdc5",
   "metadata": {},
   "outputs": [],
   "source": [
    "# 解説を読んで実装"
   ]
  },
  {
   "cell_type": "code",
   "execution_count": 1,
   "id": "4a7d2136-9ccc-411b-89c7-960c811ee3cb",
   "metadata": {},
   "outputs": [],
   "source": [
    "import sys\n",
    "import numpy as np\n",
    "import math\n",
    "import collections\n",
    "import copy\n",
    "import decimal\n",
    "import itertools\n",
    "import re\n",
    "import bisect\n",
    "import scipy\n",
    "import heapq\n",
    "from collections import deque \n",
    "from functools import reduce\n",
    "from itertools import product\n",
    "from itertools import combinations\n",
    "from itertools import chain\n",
    "from functools import lru_cache\n",
    "from scipy.special import comb\n",
    "from numba import njit\n",
    "from bisect import bisect_right\n",
    "from bisect import bisect_left"
   ]
  },
  {
   "cell_type": "code",
   "execution_count": 2,
   "id": "25e2fa40-4499-4f2d-9a4d-5ae89f85636d",
   "metadata": {},
   "outputs": [
    {
     "name": "stdin",
     "output_type": "stream",
     "text": [
      " 4 4\n"
     ]
    }
   ],
   "source": [
    "H, W = map(int, input().split())"
   ]
  },
  {
   "cell_type": "code",
   "execution_count": 3,
   "id": "89adbf0f-69f4-4a16-8986-c3faeb00996a",
   "metadata": {},
   "outputs": [
    {
     "name": "stdin",
     "output_type": "stream",
     "text": [
      " ##..\n",
      " ##..\n",
      " ..##\n",
      " ..##\n"
     ]
    }
   ],
   "source": [
    "Sn = ['#' + input() + '#' for _ in range(H)]"
   ]
  },
  {
   "cell_type": "code",
   "execution_count": 4,
   "id": "c6f2c83e-8cd0-4b8e-abc8-a7876ce9e677",
   "metadata": {},
   "outputs": [],
   "source": [
    "Sn.insert(0, '#'* (W+2))\n",
    "Sn.append('#'* (W+2))"
   ]
  },
  {
   "cell_type": "code",
   "execution_count": 20,
   "id": "61978679-225b-46cc-a93e-d1c43b94d289",
   "metadata": {},
   "outputs": [],
   "source": [
    "ans = [['#'] * (W+2) for _ in range(H+2)]\n",
    "for i, S in enumerate(Sn[1:-1], 1):\n",
    "    for j, s in enumerate(S[1:-1], 1):\n",
    "        if s == '#':\n",
    "            continue\n",
    "        for k in range(i-1, i+2):\n",
    "            for l in range(j-1, j+2):\n",
    "                ans[k][l] = '.'"
   ]
  },
  {
   "cell_type": "code",
   "execution_count": 22,
   "id": "7c48e9b1-7a61-45fd-8a99-e8e09928ae8e",
   "metadata": {},
   "outputs": [],
   "source": [
    "co = [['.'] * (W+2) for _ in range(H+2)]\n",
    "for i, an in enumerate(ans[1:-1], 1):\n",
    "    for j, a in enumerate(an[1:-1], 1):\n",
    "        if a == '.':\n",
    "            continue\n",
    "        for k in range(i-1, i+2):\n",
    "            for l in range(j-1, j+2):\n",
    "                co[k][l] = '#'"
   ]
  },
  {
   "cell_type": "code",
   "execution_count": 23,
   "id": "0951a4e9-3f02-44a9-aba5-1b97012e55a4",
   "metadata": {},
   "outputs": [],
   "source": [
    "flg = True\n",
    "for i in range(1, H+1):\n",
    "    for j in range(1, W+1):\n",
    "        if Sn[i][j] != co[i][j]:\n",
    "            flg = False"
   ]
  },
  {
   "cell_type": "code",
   "execution_count": 25,
   "id": "f1326cd7-36a0-4ace-a341-115c85ba917d",
   "metadata": {},
   "outputs": [
    {
     "name": "stdout",
     "output_type": "stream",
     "text": [
      "possible\n",
      "#...\n",
      "....\n",
      "....\n",
      "...#\n"
     ]
    }
   ],
   "source": [
    "if flg:\n",
    "    print('possible')\n",
    "    for a in ans[1:-1]:\n",
    "        print(*a[1:-1], sep='')\n",
    "else:\n",
    "    print('impossible')"
   ]
  },
  {
   "cell_type": "code",
   "execution_count": 24,
   "id": "4a3e791f-aa35-47ce-8cfb-ee3dcfd43662",
   "metadata": {},
   "outputs": [
    {
     "data": {
      "text/plain": [
       "(['######', '###..#', '###..#', '#..###', '#..###', '######'],\n",
       " [['#', '#', '.', '.', '.', '.'],\n",
       "  ['#', '#', '.', '.', '.', '.'],\n",
       "  ['.', '.', '.', '.', '.', '.'],\n",
       "  ['.', '.', '.', '.', '.', '.'],\n",
       "  ['.', '.', '.', '.', '#', '#'],\n",
       "  ['.', '.', '.', '.', '#', '#']],\n",
       " True)"
      ]
     },
     "execution_count": 24,
     "metadata": {},
     "output_type": "execute_result"
    }
   ],
   "source": [
    "Sn, ans, flg"
   ]
  },
  {
   "cell_type": "code",
   "execution_count": null,
   "id": "105d694e-d2e6-4382-ad76-f118ba150678",
   "metadata": {},
   "outputs": [],
   "source": []
  }
 ],
 "metadata": {
  "kernelspec": {
   "display_name": "Python 3",
   "language": "python",
   "name": "python3"
  },
  "language_info": {
   "codemirror_mode": {
    "name": "ipython",
    "version": 3
   },
   "file_extension": ".py",
   "mimetype": "text/x-python",
   "name": "python",
   "nbconvert_exporter": "python",
   "pygments_lexer": "ipython3",
   "version": "3.6.13"
  }
 },
 "nbformat": 4,
 "nbformat_minor": 5
}
