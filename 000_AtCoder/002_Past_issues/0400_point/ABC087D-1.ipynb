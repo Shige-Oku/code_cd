{
 "cells": [
  {
   "cell_type": "code",
   "execution_count": null,
   "id": "f3c76bfd-3d1b-4cb5-b6d2-0f8218f81b2f",
   "metadata": {},
   "outputs": [],
   "source": [
    "# 解説を読んで実装　WA"
   ]
  },
  {
   "cell_type": "code",
   "execution_count": 35,
   "id": "94cd89c2-09dd-408e-9ad3-0ac8cd979aef",
   "metadata": {},
   "outputs": [],
   "source": [
    "import sys\n",
    "import numpy as np\n",
    "import math\n",
    "import collections\n",
    "import copy\n",
    "import decimal\n",
    "import itertools\n",
    "import re\n",
    "import bisect\n",
    "import scipy\n",
    "import heapq\n",
    "from collections import deque \n",
    "from functools import reduce\n",
    "from itertools import product\n",
    "from itertools import combinations\n",
    "from itertools import chain\n",
    "from functools import lru_cache\n",
    "from scipy.special import comb\n",
    "from numba import njit\n",
    "from bisect import bisect_right\n",
    "from bisect import bisect_left"
   ]
  },
  {
   "cell_type": "code",
   "execution_count": 56,
   "id": "f945260d-ab0c-4a07-80d4-727a3282693c",
   "metadata": {},
   "outputs": [
    {
     "name": "stdin",
     "output_type": "stream",
     "text": [
      " 100000 200000\n"
     ]
    }
   ],
   "source": [
    "N, M = map(int, input().split())"
   ]
  },
  {
   "cell_type": "code",
   "execution_count": 45,
   "id": "7910a845-30b9-442a-ad4a-7a2f4e3540e4",
   "metadata": {},
   "outputs": [
    {
     "name": "stdin",
     "output_type": "stream",
     "text": [
      " 2 1 1\n",
      " 2 3 5\n",
      " 3 4 2\n"
     ]
    }
   ],
   "source": [
    "LRD = [list(map(int, input().split())) for _ in range(M)]"
   ]
  },
  {
   "cell_type": "code",
   "execution_count": 46,
   "id": "f0fdc814-19df-4331-8405-053fba2fe486",
   "metadata": {},
   "outputs": [],
   "source": [
    "graph1 = [[] for _ in range(N+1)]\n",
    "graph2 = [[] for _ in range(N+1)]\n",
    "\n",
    "for L, R, D in LRD:\n",
    "    graph1[L].append((R, D))\n",
    "    graph2[R].append((L, D))"
   ]
  },
  {
   "cell_type": "code",
   "execution_count": 47,
   "id": "f7604a38-76c2-4407-8228-391c70b439c8",
   "metadata": {},
   "outputs": [],
   "source": [
    "def BFS(n, graph):\n",
    "    q = deque()\n",
    "    q.append((n, 0))\n",
    "    while q:\n",
    "        p, d = q.popleft()\n",
    "        if dis[p] != -1 and dis[p] != d:\n",
    "            return False\n",
    "#         print(p, d)\n",
    "        if dis[p] == d:\n",
    "            continue\n",
    "        dis[p] = d\n",
    "        for gr in graph[p]:\n",
    "            p2, d2 = gr\n",
    "            q.append((p2, dis[p]+d2))\n",
    "    return True"
   ]
  },
  {
   "cell_type": "code",
   "execution_count": 52,
   "id": "1aa669fe-e43a-4010-9381-9c0d939ab832",
   "metadata": {},
   "outputs": [],
   "source": [
    "dis = [-1] * (N+1)\n",
    "ans = True\n",
    "for i in range(1, N+1):\n",
    "    if dis[i] != -1 or len(graph1[i]) == 0:\n",
    "        continue\n",
    "    ans = BFS(i, graph1)\n",
    "    if not ans:\n",
    "        break\n",
    "# print(ans)\n",
    "if ans:\n",
    "    for i in range(1, N+1):\n",
    "        for p, d in graph2[i]:\n",
    "            if dis[p] != dis[i] - d:\n",
    "                ans = False\n",
    "                break\n",
    "        if not ans:\n",
    "            break\n"
   ]
  },
  {
   "cell_type": "code",
   "execution_count": 53,
   "id": "ae4ec8d9-fb0c-47c6-afa0-95a76bbbcb35",
   "metadata": {},
   "outputs": [
    {
     "name": "stdout",
     "output_type": "stream",
     "text": [
      "Yes\n"
     ]
    }
   ],
   "source": [
    "if ans:\n",
    "    print('Yes')\n",
    "else:\n",
    "    print('No')"
   ]
  },
  {
   "cell_type": "code",
   "execution_count": 54,
   "id": "60fb43c4-63b1-479e-a533-adce420143fb",
   "metadata": {},
   "outputs": [
    {
     "data": {
      "text/plain": [
       "([[], [], [(1, 1), (3, 5)], [(4, 2)], []],\n",
       " [[], [(2, 1)], [], [(2, 5)], [(3, 2)]])"
      ]
     },
     "execution_count": 54,
     "metadata": {},
     "output_type": "execute_result"
    }
   ],
   "source": [
    "graph1, graph2"
   ]
  },
  {
   "cell_type": "code",
   "execution_count": 55,
   "id": "7d63c4b7-1b9c-420c-9bdb-883a370d1f8c",
   "metadata": {},
   "outputs": [
    {
     "data": {
      "text/plain": [
       "(True, [-1, 1, 0, 5, 7])"
      ]
     },
     "execution_count": 55,
     "metadata": {},
     "output_type": "execute_result"
    }
   ],
   "source": [
    "ans, dis"
   ]
  },
  {
   "cell_type": "code",
   "execution_count": null,
   "id": "3f1d8be3-56ea-4991-b32b-01e1852e9284",
   "metadata": {},
   "outputs": [],
   "source": [
    "LRD = []"
   ]
  }
 ],
 "metadata": {
  "kernelspec": {
   "display_name": "Python 3",
   "language": "python",
   "name": "python3"
  },
  "language_info": {
   "codemirror_mode": {
    "name": "ipython",
    "version": 3
   },
   "file_extension": ".py",
   "mimetype": "text/x-python",
   "name": "python",
   "nbconvert_exporter": "python",
   "pygments_lexer": "ipython3",
   "version": "3.6.13"
  }
 },
 "nbformat": 4,
 "nbformat_minor": 5
}
