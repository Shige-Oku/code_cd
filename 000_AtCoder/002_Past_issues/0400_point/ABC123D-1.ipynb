{
 "cells": [
  {
   "cell_type": "code",
   "execution_count": null,
   "id": "845cef6c-e394-4fec-beba-1c318d622718",
   "metadata": {},
   "outputs": [],
   "source": [
    "# サンプルが合わない"
   ]
  },
  {
   "cell_type": "code",
   "execution_count": 1,
   "id": "df44c07a-6dae-429e-b7f2-3a5f2d4f797c",
   "metadata": {},
   "outputs": [],
   "source": [
    "import sys\n",
    "import numpy as np\n",
    "import math\n",
    "import collections\n",
    "import copy\n",
    "import decimal\n",
    "import itertools\n",
    "import re\n",
    "import bisect\n",
    "import scipy\n",
    "import heapq\n",
    "from collections import deque \n",
    "from functools import reduce\n",
    "from itertools import product\n",
    "from itertools import combinations\n",
    "from itertools import chain\n",
    "from functools import lru_cache\n",
    "from scipy.special import comb\n",
    "from numba import njit\n",
    "from bisect import bisect_right\n",
    "from bisect import bisect_left"
   ]
  },
  {
   "cell_type": "code",
   "execution_count": 48,
   "id": "890b7a2b-b800-45d9-9bb6-c987879d1397",
   "metadata": {},
   "outputs": [
    {
     "name": "stdin",
     "output_type": "stream",
     "text": [
      " 3 3 3 5\n"
     ]
    }
   ],
   "source": [
    "X, Y, Z, K = map(int, input().split())"
   ]
  },
  {
   "cell_type": "code",
   "execution_count": 49,
   "id": "edca5aa7-705a-45f9-b777-f598ab3a41d5",
   "metadata": {},
   "outputs": [
    {
     "name": "stdin",
     "output_type": "stream",
     "text": [
      " 1 10 100\n"
     ]
    }
   ],
   "source": [
    "An = list(map(int, input().split()))"
   ]
  },
  {
   "cell_type": "code",
   "execution_count": 50,
   "id": "b0e2e06d-e73d-433f-9cd6-4ca95b9b1f8d",
   "metadata": {},
   "outputs": [
    {
     "name": "stdin",
     "output_type": "stream",
     "text": [
      " 2 20 200\n"
     ]
    }
   ],
   "source": [
    "Bn = list(map(int, input().split()))"
   ]
  },
  {
   "cell_type": "code",
   "execution_count": 51,
   "id": "bceb4c3d-d0f1-4a89-b46d-367d8e42a85f",
   "metadata": {},
   "outputs": [
    {
     "name": "stdin",
     "output_type": "stream",
     "text": [
      " 1 10 100\n"
     ]
    }
   ],
   "source": [
    "Cn = list(map(int, input().split()))"
   ]
  },
  {
   "cell_type": "code",
   "execution_count": 52,
   "id": "3d8a0b12-d808-4072-bd2a-872534e45116",
   "metadata": {},
   "outputs": [],
   "source": [
    "An_s = sorted(set(An), reverse=True)\n",
    "Bn_s = sorted(set(Bn), reverse=True)\n",
    "Cn_s = sorted(set(Cn), reverse=True)\n",
    "An_s.append(-10**10)\n",
    "Bn_s.append(-10**10)\n",
    "Cn_s.append(-10**10)\n",
    "ai, bi, ci = 0, 0, 0\n",
    "while (ai+1)*(bi+1)*(ci+1) < K:\n",
    "    if An_s[ai+1] >= Bn_s[bi+1] and An_s[ai+1] >= Cn_s[ci+1]:\n",
    "        ai += 1\n",
    "    elif Bn_s[bi+1] >= Cn_s[ci+1]:\n",
    "        bi += 1\n",
    "    else:\n",
    "        ci += 1    "
   ]
  },
  {
   "cell_type": "code",
   "execution_count": 53,
   "id": "1a5a7fdd-bfb2-43de-b5b6-b4f7bd95efa7",
   "metadata": {},
   "outputs": [],
   "source": [
    "ans = []\n",
    "for i in range(ai+1):\n",
    "    for j in range(bi+1):\n",
    "        for k in range(ci+1):\n",
    "            ans.append(An_s[i]+Bn_s[j]+Cn_s[k])"
   ]
  },
  {
   "cell_type": "code",
   "execution_count": 54,
   "id": "9732203b-346f-4b2f-88c2-957d40955b1a",
   "metadata": {},
   "outputs": [
    {
     "name": "stdout",
     "output_type": "stream",
     "text": [
      "400\n",
      "310\n",
      "310\n",
      "220\n",
      "220\n"
     ]
    }
   ],
   "source": [
    "for an in sorted(ans, reverse=True)[:K]:\n",
    "    print(an)"
   ]
  },
  {
   "cell_type": "code",
   "execution_count": 55,
   "id": "00c55d18-df5b-489a-81ff-2cfdf9103c44",
   "metadata": {},
   "outputs": [
    {
     "data": {
      "text/plain": [
       "[400, 310, 220, 130, 310, 220, 130, 40]"
      ]
     },
     "execution_count": 55,
     "metadata": {},
     "output_type": "execute_result"
    }
   ],
   "source": [
    "ans"
   ]
  },
  {
   "cell_type": "code",
   "execution_count": 56,
   "id": "328b54bd-fcd2-4110-b85c-ddace207aea3",
   "metadata": {},
   "outputs": [
    {
     "data": {
      "text/plain": [
       "(1, 1, 1)"
      ]
     },
     "execution_count": 56,
     "metadata": {},
     "output_type": "execute_result"
    }
   ],
   "source": [
    "ai, bi, ci"
   ]
  },
  {
   "cell_type": "code",
   "execution_count": 39,
   "id": "a71c699b-ab28-45fa-9d81-265f4295f431",
   "metadata": {},
   "outputs": [
    {
     "data": {
      "text/plain": [
       "([6, 4, -10000000000], [5, 1, -10000000000], [8, 3, -10000000000])"
      ]
     },
     "execution_count": 39,
     "metadata": {},
     "output_type": "execute_result"
    }
   ],
   "source": [
    "An_s, Bn_s, Cn_s"
   ]
  },
  {
   "cell_type": "code",
   "execution_count": 31,
   "id": "de817c48-6043-41f3-9fd3-c17555d5aa2c",
   "metadata": {},
   "outputs": [
    {
     "name": "stdout",
     "output_type": "stream",
     "text": [
      "0 0 0\n",
      "1 0 0\n",
      "1 1 0\n",
      "1 1 1\n",
      "1 2 1\n"
     ]
    },
    {
     "ename": "IndexError",
     "evalue": "list index out of range",
     "output_type": "error",
     "traceback": [
      "\u001b[1;31m---------------------------------------------------------------------------\u001b[0m",
      "\u001b[1;31mIndexError\u001b[0m                                Traceback (most recent call last)",
      "\u001b[1;32m<ipython-input-31-9541a7566801>\u001b[0m in \u001b[0;36m<module>\u001b[1;34m\u001b[0m\n\u001b[0;32m     11\u001b[0m     \u001b[0mans\u001b[0m\u001b[1;33m.\u001b[0m\u001b[0mappend\u001b[0m\u001b[1;33m(\u001b[0m\u001b[0mAn_s\u001b[0m\u001b[1;33m[\u001b[0m\u001b[0mai\u001b[0m\u001b[1;33m]\u001b[0m \u001b[1;33m+\u001b[0m \u001b[0mBn_s\u001b[0m\u001b[1;33m[\u001b[0m\u001b[0mbi\u001b[0m\u001b[1;33m]\u001b[0m \u001b[1;33m+\u001b[0m \u001b[0mCn_s\u001b[0m\u001b[1;33m[\u001b[0m\u001b[0mci\u001b[0m\u001b[1;33m]\u001b[0m\u001b[1;33m)\u001b[0m\u001b[1;33m\u001b[0m\u001b[1;33m\u001b[0m\u001b[0m\n\u001b[0;32m     12\u001b[0m     \u001b[0mad\u001b[0m \u001b[1;33m=\u001b[0m \u001b[0mAn_s\u001b[0m\u001b[1;33m[\u001b[0m\u001b[0mai\u001b[0m\u001b[1;33m]\u001b[0m \u001b[1;33m-\u001b[0m \u001b[0mAn_s\u001b[0m\u001b[1;33m[\u001b[0m\u001b[0mai\u001b[0m\u001b[1;33m+\u001b[0m\u001b[1;36m1\u001b[0m\u001b[1;33m]\u001b[0m\u001b[1;33m\u001b[0m\u001b[1;33m\u001b[0m\u001b[0m\n\u001b[1;32m---> 13\u001b[1;33m     \u001b[0mbd\u001b[0m \u001b[1;33m=\u001b[0m \u001b[0mBn_s\u001b[0m\u001b[1;33m[\u001b[0m\u001b[0mbi\u001b[0m\u001b[1;33m]\u001b[0m \u001b[1;33m-\u001b[0m \u001b[0mBn_s\u001b[0m\u001b[1;33m[\u001b[0m\u001b[0mbi\u001b[0m\u001b[1;33m+\u001b[0m\u001b[1;36m1\u001b[0m\u001b[1;33m]\u001b[0m\u001b[1;33m\u001b[0m\u001b[1;33m\u001b[0m\u001b[0m\n\u001b[0m\u001b[0;32m     14\u001b[0m     \u001b[0mcd\u001b[0m \u001b[1;33m=\u001b[0m \u001b[0mCn_s\u001b[0m\u001b[1;33m[\u001b[0m\u001b[0mci\u001b[0m\u001b[1;33m]\u001b[0m \u001b[1;33m-\u001b[0m \u001b[0mCn_s\u001b[0m\u001b[1;33m[\u001b[0m\u001b[0mci\u001b[0m\u001b[1;33m+\u001b[0m\u001b[1;36m1\u001b[0m\u001b[1;33m]\u001b[0m\u001b[1;33m\u001b[0m\u001b[1;33m\u001b[0m\u001b[0m\n\u001b[0;32m     15\u001b[0m     \u001b[1;32mif\u001b[0m \u001b[0mad\u001b[0m \u001b[1;33m<=\u001b[0m \u001b[0mbd\u001b[0m \u001b[1;32mand\u001b[0m \u001b[0mad\u001b[0m \u001b[1;33m<=\u001b[0m \u001b[0mcd\u001b[0m\u001b[1;33m:\u001b[0m\u001b[1;33m\u001b[0m\u001b[1;33m\u001b[0m\u001b[0m\n",
      "\u001b[1;31mIndexError\u001b[0m: list index out of range"
     ]
    }
   ],
   "source": [
    "An_s = sorted(set(An), reverse=True)\n",
    "Bn_s = sorted(set(Bn), reverse=True)\n",
    "Cn_s = sorted(set(Cn), reverse=True)\n",
    "An_s.append(-10**10)\n",
    "Bn_s.append(-10**10)\n",
    "Cn_s.append(-10**10)\n",
    "ai, bi, ci = 0, 0, 0\n",
    "ans = []\n",
    "for _ in range(K):\n",
    "    print(ai, bi, ci)\n",
    "    ans.append(An_s[ai] + Bn_s[bi] + Cn_s[ci])\n",
    "    ad = An_s[ai] - An_s[ai+1]\n",
    "    bd = Bn_s[bi] - Bn_s[bi+1]\n",
    "    cd = Cn_s[ci] - Cn_s[ci+1]\n",
    "    if ad <= bd and ad <= cd:\n",
    "        ai += 1\n",
    "    elif bd <= cd:\n",
    "        bi += 1\n",
    "    else:\n",
    "        ci += 1\n",
    "        \n",
    "#     ifr An_s[ai+1] > "
   ]
  },
  {
   "cell_type": "code",
   "execution_count": null,
   "id": "60da057b-6e25-4f39-91a1-6bd1e8db793d",
   "metadata": {},
   "outputs": [],
   "source": []
  },
  {
   "cell_type": "code",
   "execution_count": 30,
   "id": "76056c2d-fc20-423e-90cf-86dd22a7ad83",
   "metadata": {},
   "outputs": [
    {
     "data": {
      "text/plain": [
       "([6, 4, -10000000000], [5, 1, 10000000000], [8, 3, 10000000000])"
      ]
     },
     "execution_count": 30,
     "metadata": {},
     "output_type": "execute_result"
    }
   ],
   "source": [
    "An_s, Bn_s, Cn_s"
   ]
  },
  {
   "cell_type": "code",
   "execution_count": 32,
   "id": "30a5f5ed-5b42-47ba-ac1e-8733efb366b1",
   "metadata": {},
   "outputs": [
    {
     "data": {
      "text/plain": [
       "[19, 17, 13, 8, -9999999993]"
      ]
     },
     "execution_count": 32,
     "metadata": {},
     "output_type": "execute_result"
    }
   ],
   "source": [
    "ans"
   ]
  },
  {
   "cell_type": "code",
   "execution_count": null,
   "id": "1e4c77e4-c6f8-4cf8-81c6-c4f9c85b503e",
   "metadata": {},
   "outputs": [],
   "source": []
  }
 ],
 "metadata": {
  "kernelspec": {
   "display_name": "Python 3",
   "language": "python",
   "name": "python3"
  },
  "language_info": {
   "codemirror_mode": {
    "name": "ipython",
    "version": 3
   },
   "file_extension": ".py",
   "mimetype": "text/x-python",
   "name": "python",
   "nbconvert_exporter": "python",
   "pygments_lexer": "ipython3",
   "version": "3.6.13"
  }
 },
 "nbformat": 4,
 "nbformat_minor": 5
}
