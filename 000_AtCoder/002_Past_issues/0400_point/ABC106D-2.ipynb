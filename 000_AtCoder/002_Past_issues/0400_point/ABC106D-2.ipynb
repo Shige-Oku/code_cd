{
 "cells": [
  {
   "cell_type": "code",
   "execution_count": 1,
   "id": "ab0e8de3-16cb-479f-8e28-a484a4c7dc44",
   "metadata": {},
   "outputs": [],
   "source": [
    "import sys\n",
    "import numpy as np\n",
    "import math\n",
    "import collections\n",
    "import copy\n",
    "import decimal\n",
    "import itertools\n",
    "import re\n",
    "import bisect\n",
    "import scipy\n",
    "import heapq\n",
    "from collections import deque \n",
    "from functools import reduce\n",
    "from itertools import product\n",
    "from itertools import combinations\n",
    "from itertools import chain\n",
    "from functools import lru_cache\n",
    "from scipy.special import comb\n",
    "from numba import njit\n",
    "from bisect import bisect_right\n",
    "from bisect import bisect_left"
   ]
  },
  {
   "cell_type": "code",
   "execution_count": 2,
   "id": "95268607-f3b2-431b-ade0-d4b4ca38f9f1",
   "metadata": {},
   "outputs": [
    {
     "name": "stdin",
     "output_type": "stream",
     "text": [
      " 10 3 2\n"
     ]
    }
   ],
   "source": [
    "N, M, Q = map(int, input().split())"
   ]
  },
  {
   "cell_type": "code",
   "execution_count": 3,
   "id": "468bce0c-734e-402c-8803-f892d997eb27",
   "metadata": {},
   "outputs": [
    {
     "name": "stdin",
     "output_type": "stream",
     "text": [
      " 1 5 \n",
      " 2 8\n",
      " 7 10\n"
     ]
    }
   ],
   "source": [
    "LR = [list(map(int, input().split())) for _ in range(M)]"
   ]
  },
  {
   "cell_type": "code",
   "execution_count": 4,
   "id": "46fe2bd8-a695-4889-94d1-49a516bd7ccd",
   "metadata": {},
   "outputs": [
    {
     "name": "stdin",
     "output_type": "stream",
     "text": [
      " 1 7\n",
      " 3 10\n"
     ]
    }
   ],
   "source": [
    "Qn = [list(map(int, input().split())) for _ in range(Q)]"
   ]
  },
  {
   "cell_type": "code",
   "execution_count": 14,
   "id": "1358b6e1-c010-4939-86c5-e99767886077",
   "metadata": {},
   "outputs": [],
   "source": [
    "cnt = [[0] * (N+1) for _ in range(N+1)]\n",
    "for L, R in LR:\n",
    "    for i in range(L+1):\n",
    "        cnt[i][R] += 1\n",
    "for i in range(N+1):\n",
    "    for j in range(1, N+1):\n",
    "        cnt[i][j] += cnt[i][j-1]"
   ]
  },
  {
   "cell_type": "code",
   "execution_count": 15,
   "id": "bf046da9-b46f-4404-a458-8d447ccfe088",
   "metadata": {},
   "outputs": [
    {
     "name": "stdout",
     "output_type": "stream",
     "text": [
      "1\n",
      "1\n"
     ]
    }
   ],
   "source": [
    "for L, R in Qn:\n",
    "    print(cnt[L][R])"
   ]
  },
  {
   "cell_type": "code",
   "execution_count": 16,
   "id": "4af239a2-52af-4d86-8e51-8f70f9186122",
   "metadata": {},
   "outputs": [
    {
     "data": {
      "text/plain": [
       "[[0, 0, 0, 0, 0, 1, 1, 1, 2, 2, 3],\n",
       " [0, 0, 0, 0, 0, 1, 1, 1, 2, 2, 3],\n",
       " [0, 0, 0, 0, 0, 0, 0, 0, 1, 1, 2],\n",
       " [0, 0, 0, 0, 0, 0, 0, 0, 0, 0, 1],\n",
       " [0, 0, 0, 0, 0, 0, 0, 0, 0, 0, 1],\n",
       " [0, 0, 0, 0, 0, 0, 0, 0, 0, 0, 1],\n",
       " [0, 0, 0, 0, 0, 0, 0, 0, 0, 0, 1],\n",
       " [0, 0, 0, 0, 0, 0, 0, 0, 0, 0, 1],\n",
       " [0, 0, 0, 0, 0, 0, 0, 0, 0, 0, 0],\n",
       " [0, 0, 0, 0, 0, 0, 0, 0, 0, 0, 0],\n",
       " [0, 0, 0, 0, 0, 0, 0, 0, 0, 0, 0]]"
      ]
     },
     "execution_count": 16,
     "metadata": {},
     "output_type": "execute_result"
    }
   ],
   "source": [
    "cnt"
   ]
  },
  {
   "cell_type": "code",
   "execution_count": 17,
   "id": "9ddda016-1d2c-4d87-8d6c-0024ac887e9f",
   "metadata": {},
   "outputs": [
    {
     "data": {
      "text/plain": [
       "3"
      ]
     },
     "execution_count": 17,
     "metadata": {},
     "output_type": "execute_result"
    }
   ],
   "source": [
    "-17%5"
   ]
  },
  {
   "cell_type": "code",
   "execution_count": null,
   "id": "735498e7-46b7-4319-8264-ab75eabfb54a",
   "metadata": {},
   "outputs": [],
   "source": []
  }
 ],
 "metadata": {
  "kernelspec": {
   "display_name": "Python 3",
   "language": "python",
   "name": "python3"
  },
  "language_info": {
   "codemirror_mode": {
    "name": "ipython",
    "version": 3
   },
   "file_extension": ".py",
   "mimetype": "text/x-python",
   "name": "python",
   "nbconvert_exporter": "python",
   "pygments_lexer": "ipython3",
   "version": "3.6.13"
  }
 },
 "nbformat": 4,
 "nbformat_minor": 5
}
