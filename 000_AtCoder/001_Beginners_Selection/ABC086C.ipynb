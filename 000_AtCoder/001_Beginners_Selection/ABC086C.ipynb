{
 "cells": [
  {
   "cell_type": "markdown",
   "metadata": {},
   "source": [
    "# 問題文\n",
    "シカのAtCoDeerくんは二次元平面上で旅行をしようとしています。  \n",
    "AtCoDeerくんの旅行プランでは、時刻 0 に 点 (0, 0) を出発し、  \n",
    "1 以上 N 以下の各 i に対し、時刻 ti に 点 (xi, yi) を訪れる予定です。  \n",
    "AtCoDeerくんが時刻 t に 点 (x, y) にいる時、 時刻 t+1 には  (x+1, y), (x−1, y), (x, y+1), (x, y−1) のうちいずれかに存在することができます。  \n",
    "その場にとどまることは出来ないことに注意してください。  AtCoDeerくんの旅行プランが実行可能かどうか判定してください。 \n",
    "\n",
    "# 制約\n",
    " ・1  ≤ N ≤ 10 ** 5  \n",
    " ・0 ≤ xi ≤ 10 ** 5  \n",
    " ・0  ≤ yi ≤ 10 ** 5  \n",
    " ・1  ≤ ti ≤ 10 ** 5  \n",
    " ・ti  < ti+1 (1 ≤ i ≤ N−1)"
   ]
  },
  {
   "cell_type": "code",
   "execution_count": 1,
   "metadata": {},
   "outputs": [],
   "source": [
    "import sys"
   ]
  },
  {
   "cell_type": "code",
   "execution_count": 16,
   "metadata": {},
   "outputs": [
    {
     "name": "stdin",
     "output_type": "stream",
     "text": [
      " 2\n"
     ]
    }
   ],
   "source": [
    "# n 行動予定数入力\n",
    "n = int(input())"
   ]
  },
  {
   "cell_type": "code",
   "execution_count": 17,
   "metadata": {},
   "outputs": [
    {
     "name": "stdin",
     "output_type": "stream",
     "text": [
      " 5 1 1\n",
      " 100 1 1\n"
     ]
    }
   ],
   "source": [
    "# 行動予定入力\n",
    "travel = []\n",
    "for i in range(n):\n",
    "    t, x, y = map(int, input().split())\n",
    "    travel.append([t, x, y])"
   ]
  },
  {
   "cell_type": "code",
   "execution_count": 18,
   "metadata": {},
   "outputs": [],
   "source": [
    "# 到着可能かどうか\n",
    "arrive = 'y'\n",
    "for tr in travel:\n",
    "    # 行動予定取り出し\n",
    "    t, x, y = tr[0], tr[1], tr[2]\n",
    "    # t秒後に 移動距離(x, y)に到着するか\n",
    "    if x + y > t:\n",
    "        # 距離が遠いて届かない\n",
    "        arrive = 'n'\n",
    "        break\n",
    "    # 同じ個所に留まれないので、行ったり来たりできるか\n",
    "    if t % 2 != (x + y) % 2:\n",
    "        arrive = 'n'\n",
    "        break       \n"
   ]
  },
  {
   "cell_type": "code",
   "execution_count": 19,
   "metadata": {},
   "outputs": [
    {
     "name": "stdout",
     "output_type": "stream",
     "text": [
      "NO\n"
     ]
    }
   ],
   "source": [
    "if arrive == 'y':\n",
    "    print(\"Yes\")\n",
    "else:\n",
    "    print(\"No\")\n"
   ]
  },
  {
   "cell_type": "code",
   "execution_count": null,
   "metadata": {},
   "outputs": [],
   "source": []
  }
 ],
 "metadata": {
  "kernelspec": {
   "display_name": "Python 3",
   "language": "python",
   "name": "python3"
  },
  "language_info": {
   "codemirror_mode": {
    "name": "ipython",
    "version": 3
   },
   "file_extension": ".py",
   "mimetype": "text/x-python",
   "name": "python",
   "nbconvert_exporter": "python",
   "pygments_lexer": "ipython3",
   "version": "3.6.7"
  }
 },
 "nbformat": 4,
 "nbformat_minor": 2
}
