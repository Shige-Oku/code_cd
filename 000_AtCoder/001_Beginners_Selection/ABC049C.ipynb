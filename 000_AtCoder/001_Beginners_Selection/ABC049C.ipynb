{
 "cells": [
  {
   "cell_type": "markdown",
   "metadata": {},
   "source": [
    "# 問題文\n",
    "英小文字からなる文字列 S が与えられます。  \n",
    "Tが空文字列である状態から始め、以下の操作を好きな回数繰り返すことで S=T とすることができるか判定してください。\n",
    "・T  の末尾に dream dreamer erase eraser のいずれかを追加する。  \n",
    "\n",
    "# 制約\n",
    " ・1 ≦ |S| ≦ 10 ** 5  \n",
    " ・S は英小文字からなる。"
   ]
  },
  {
   "cell_type": "code",
   "execution_count": 1,
   "metadata": {},
   "outputs": [],
   "source": [
    "import sys"
   ]
  },
  {
   "cell_type": "code",
   "execution_count": 31,
   "metadata": {},
   "outputs": [
    {
     "name": "stdin",
     "output_type": "stream",
     "text": [
      " eraserer\n"
     ]
    }
   ],
   "source": [
    "# s 入力文字列\n",
    "s = input()"
   ]
  },
  {
   "cell_type": "code",
   "execution_count": 32,
   "metadata": {},
   "outputs": [],
   "source": [
    "while len(s) > 0:\n",
    "    # 後方一致するか\n",
    "    if not s.endswith(('dream', 'dreamer', 'erase', 'eraser')):\n",
    "        # 一致しない\n",
    "        break\n",
    "    # 後方から切る文字数の設定\n",
    "    cut = 0\n",
    "    if s.endswith('dream'):\n",
    "        cut = 5\n",
    "    if s.endswith('erase'):\n",
    "        cut = 5\n",
    "    if s.endswith('dreamer'):\n",
    "        cut = 7\n",
    "    if s.endswith('eraser'):\n",
    "        cut = 6\n",
    "    s = s[:-cut]\n"
   ]
  },
  {
   "cell_type": "code",
   "execution_count": 33,
   "metadata": {},
   "outputs": [
    {
     "data": {
      "text/plain": [
       "8"
      ]
     },
     "execution_count": 33,
     "metadata": {},
     "output_type": "execute_result"
    }
   ],
   "source": [
    "len(s)"
   ]
  },
  {
   "cell_type": "code",
   "execution_count": 34,
   "metadata": {},
   "outputs": [
    {
     "name": "stdout",
     "output_type": "stream",
     "text": [
      "NO\n"
     ]
    }
   ],
   "source": [
    "if len(s) == 0:\n",
    "    print(\"YES\")\n",
    "else:\n",
    "    print(\"NO\")\n",
    "        "
   ]
  },
  {
   "cell_type": "code",
   "execution_count": null,
   "metadata": {},
   "outputs": [],
   "source": []
  }
 ],
 "metadata": {
  "kernelspec": {
   "display_name": "Python 3",
   "language": "python",
   "name": "python3"
  },
  "language_info": {
   "codemirror_mode": {
    "name": "ipython",
    "version": 3
   },
   "file_extension": ".py",
   "mimetype": "text/x-python",
   "name": "python",
   "nbconvert_exporter": "python",
   "pygments_lexer": "ipython3",
   "version": "3.6.7"
  }
 },
 "nbformat": 4,
 "nbformat_minor": 2
}
