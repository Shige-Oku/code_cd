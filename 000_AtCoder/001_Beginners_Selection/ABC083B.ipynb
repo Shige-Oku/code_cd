{
 "cells": [
  {
   "cell_type": "markdown",
   "metadata": {},
   "source": [
    "# 問題文\n",
    "1  以上 N 以下の整数のうち、10 進法での各桁の和が A 以上 B 以下であるものの総和を求めてください。  \n",
    "\n",
    "# 制約\n",
    " ・1 ≤ N ≤ 10**4  \n",
    " ・1 ≤ A ≤ B ≤ 36  \n",
    " ・入力はすべて整数である"
   ]
  },
  {
   "cell_type": "code",
   "execution_count": 1,
   "metadata": {},
   "outputs": [],
   "source": [
    "import sys"
   ]
  },
  {
   "cell_type": "code",
   "execution_count": 9,
   "metadata": {},
   "outputs": [
    {
     "name": "stdin",
     "output_type": "stream",
     "text": [
      " 100 4 16\n"
     ]
    }
   ],
   "source": [
    "# N A B 入力\n",
    "n, a, b = map(int, input().split())"
   ]
  },
  {
   "cell_type": "code",
   "execution_count": 10,
   "metadata": {},
   "outputs": [],
   "source": [
    "# 対称の総和\n",
    "total = 0\n",
    "\n",
    "for i in range(n + 1):\n",
    "    # 桁数初期化\n",
    "    number = 0\n",
    "    # 10,000 の桁取り出し\n",
    "    number += i // 10000\n",
    "    mod = i % 10000\n",
    "    # 1,000 の桁取り出し\n",
    "    number += mod // 1000\n",
    "    mod %= 1000\n",
    "    # 100 の桁取り出し\n",
    "    number += mod // 100\n",
    "    mod %= 100\n",
    "    # 10 の桁取り出し\n",
    "    number += mod // 10\n",
    "    # 1桁目取り出し\n",
    "    number += mod % 10\n",
    "    if (a <= number) and (number <= b):\n",
    "        total += i\n"
   ]
  },
  {
   "cell_type": "code",
   "execution_count": 11,
   "metadata": {},
   "outputs": [
    {
     "name": "stdout",
     "output_type": "stream",
     "text": [
      "4554\n"
     ]
    }
   ],
   "source": [
    "print(total)"
   ]
  },
  {
   "cell_type": "code",
   "execution_count": null,
   "metadata": {},
   "outputs": [],
   "source": []
  }
 ],
 "metadata": {
  "kernelspec": {
   "display_name": "Python 3",
   "language": "python",
   "name": "python3"
  },
  "language_info": {
   "codemirror_mode": {
    "name": "ipython",
    "version": 3
   },
   "file_extension": ".py",
   "mimetype": "text/x-python",
   "name": "python",
   "nbconvert_exporter": "python",
   "pygments_lexer": "ipython3",
   "version": "3.6.7"
  }
 },
 "nbformat": 4,
 "nbformat_minor": 2
}
