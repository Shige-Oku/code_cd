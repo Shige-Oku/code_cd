{
 "cells": [
  {
   "cell_type": "code",
   "execution_count": 1,
   "id": "864db6e6-da7d-4b6e-896c-fbf077e55b37",
   "metadata": {},
   "outputs": [],
   "source": [
    "import numpy as np\n",
    "import math\n",
    "import collections\n",
    "import copy\n",
    "import decimal\n",
    "import itertools\n",
    "import re\n",
    "import bisect\n",
    "import scipy\n",
    "import heapq\n",
    "import array\n",
    "from collections import deque\n",
    "from functools import reduce\n",
    "from itertools import product\n",
    "from itertools import combinations\n",
    "from itertools import chain\n",
    "from functools import lru_cache\n",
    "from scipy.special import comb\n",
    "from numba import njit\n",
    "from bisect import bisect_right\n",
    "from bisect import bisect_left"
   ]
  },
  {
   "cell_type": "code",
   "execution_count": 19,
   "id": "056ab830-c422-4405-b4ea-eaa4cf624ff7",
   "metadata": {},
   "outputs": [
    {
     "name": "stdin",
     "output_type": "stream",
     "text": [
      " 2\n"
     ]
    }
   ],
   "source": [
    "K = int(input())"
   ]
  },
  {
   "cell_type": "code",
   "execution_count": 20,
   "id": "2572c42c-3abc-419e-8c88-ad0f993b8569",
   "metadata": {},
   "outputs": [
    {
     "name": "stdin",
     "output_type": "stream",
     "text": [
      " 1011 10100\n"
     ]
    }
   ],
   "source": [
    "A, B = input().split()"
   ]
  },
  {
   "cell_type": "code",
   "execution_count": 21,
   "id": "7dcfc3b0-ca24-4e4a-a2cc-0e4e2f7c751c",
   "metadata": {},
   "outputs": [],
   "source": [
    "A_r = A[::-1]\n",
    "B_r = B[::-1]\n",
    "A1 = 0\n",
    "for cnt, a in enumerate(A_r):\n",
    "    A1 += (K ** cnt) * int(a)\n",
    "B1 = 0\n",
    "for cnt, b in enumerate(B_r):\n",
    "    B1 += (K ** cnt) * int(b)    "
   ]
  },
  {
   "cell_type": "code",
   "execution_count": 22,
   "id": "cd0e34e4-65c8-41d9-9f00-c67a905f7fd7",
   "metadata": {},
   "outputs": [
    {
     "name": "stdout",
     "output_type": "stream",
     "text": [
      "220\n"
     ]
    }
   ],
   "source": [
    "print(A1*B1)"
   ]
  },
  {
   "cell_type": "code",
   "execution_count": 16,
   "id": "87c7b049-6713-4d7d-8fb6-fff0a59b82f4",
   "metadata": {},
   "outputs": [
    {
     "data": {
      "text/plain": [
       "(66, 0)"
      ]
     },
     "execution_count": 16,
     "metadata": {},
     "output_type": "execute_result"
    }
   ],
   "source": [
    "A1, B1"
   ]
  },
  {
   "cell_type": "code",
   "execution_count": null,
   "id": "d7672560-a7fc-4a3c-8012-e1bcadb8b437",
   "metadata": {},
   "outputs": [],
   "source": []
  }
 ],
 "metadata": {
  "kernelspec": {
   "display_name": "Python 3",
   "language": "python",
   "name": "python3"
  },
  "language_info": {
   "codemirror_mode": {
    "name": "ipython",
    "version": 3
   },
   "file_extension": ".py",
   "mimetype": "text/x-python",
   "name": "python",
   "nbconvert_exporter": "python",
   "pygments_lexer": "ipython3",
   "version": "3.6.13"
  }
 },
 "nbformat": 4,
 "nbformat_minor": 5
}
