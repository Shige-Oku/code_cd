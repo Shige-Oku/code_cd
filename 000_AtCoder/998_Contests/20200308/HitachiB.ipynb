{
 "cells": [
  {
   "cell_type": "code",
   "execution_count": 1,
   "metadata": {},
   "outputs": [],
   "source": [
    "# TLE\n",
    "import sys\n",
    "import numpy as np\n",
    "\n",
    "# input = sys.stdin.readline"
   ]
  },
  {
   "cell_type": "code",
   "execution_count": 2,
   "metadata": {},
   "outputs": [
    {
     "name": "stdin",
     "output_type": "stream",
     "text": [
      " 2 3 1\n"
     ]
    }
   ],
   "source": [
    "a, b, m = map(int, input().split())"
   ]
  },
  {
   "cell_type": "code",
   "execution_count": 3,
   "metadata": {},
   "outputs": [
    {
     "name": "stdin",
     "output_type": "stream",
     "text": [
      " 3 3\n"
     ]
    }
   ],
   "source": [
    "microwave = list(map(int, input().split()))"
   ]
  },
  {
   "cell_type": "code",
   "execution_count": 4,
   "metadata": {},
   "outputs": [
    {
     "name": "stdin",
     "output_type": "stream",
     "text": [
      " 3 3 3\n"
     ]
    }
   ],
   "source": [
    "refrigerator = list(map(int, input().split()))"
   ]
  },
  {
   "cell_type": "code",
   "execution_count": null,
   "metadata": {},
   "outputs": [],
   "source": [
    "#Discount = [list(map(int, input().split())) for ii in range(m)]"
   ]
  },
  {
   "cell_type": "code",
   "execution_count": null,
   "metadata": {},
   "outputs": [],
   "source": [
    "# dis_dict = {}\n",
    "# for ii in range(m):\n",
    "#     an, bn, mn = map(int, input().split())\n",
    "#     key = str(an).zfill(5) + str(bn).zfill(5)\n",
    "#     if key in dis_dict:\n",
    "#         if dis_dict[key] < mn:\n",
    "#             dis_dict[key] = mn\n",
    "#     else:\n",
    "#         dis_dict[key] = mn"
   ]
  },
  {
   "cell_type": "code",
   "execution_count": 10,
   "metadata": {},
   "outputs": [
    {
     "name": "stdin",
     "output_type": "stream",
     "text": [
      " 1 2 1\n"
     ]
    }
   ],
   "source": [
    "dis_nm = np.zeros((a+1, b+1), dtype=np.int32)\n",
    "for ii in range(m):\n",
    "    an, bn, mn = map(int, input().split())\n",
    "    if dis_nm[an, bn] < mn:\n",
    "        dis_nm[an, bn] = mn\n"
   ]
  },
  {
   "cell_type": "code",
   "execution_count": 11,
   "metadata": {},
   "outputs": [],
   "source": [
    "money = 99999999999\n",
    "for i, ai in enumerate(microwave, start=1):\n",
    "    for j, bi in enumerate(refrigerator, start=1):\n",
    "        mi = ai + bi - dis_nm[i, j]\n",
    "#         key_ij = str(i).zfill(5) + str(j).zfill(5)\n",
    "#         dis_max = dis_dict.get(key_ij, 0)\n",
    "#         for dis in Discount:\n",
    "#             if (dis[0] == i+1) and (dis[1] == j+1):\n",
    "#                 if dis[2] > dis_max:\n",
    "#                     dis_max = dis[2]\n",
    "#         mi -= dis_max\n",
    "        if money > mi:\n",
    "            money = mi"
   ]
  },
  {
   "cell_type": "code",
   "execution_count": 12,
   "metadata": {},
   "outputs": [
    {
     "name": "stdout",
     "output_type": "stream",
     "text": [
      "5\n"
     ]
    }
   ],
   "source": [
    "print(int(money))"
   ]
  },
  {
   "cell_type": "code",
   "execution_count": null,
   "metadata": {},
   "outputs": [],
   "source": []
  }
 ],
 "metadata": {
  "kernelspec": {
   "display_name": "Python 3",
   "language": "python",
   "name": "python3"
  },
  "language_info": {
   "codemirror_mode": {
    "name": "ipython",
    "version": 3
   },
   "file_extension": ".py",
   "mimetype": "text/x-python",
   "name": "python",
   "nbconvert_exporter": "python",
   "pygments_lexer": "ipython3",
   "version": "3.6.7"
  }
 },
 "nbformat": 4,
 "nbformat_minor": 2
}
