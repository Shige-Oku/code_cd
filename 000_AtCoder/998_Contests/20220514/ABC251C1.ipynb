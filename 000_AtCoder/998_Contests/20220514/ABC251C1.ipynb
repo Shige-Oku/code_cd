{
 "cells": [
  {
   "cell_type": "code",
   "execution_count": 1,
   "id": "eca67091-5f41-4a6d-ba7e-dc293d9dbc72",
   "metadata": {},
   "outputs": [],
   "source": [
    "import sys\n",
    "import numpy as np\n",
    "import math\n",
    "import collections\n",
    "import copy\n",
    "import decimal\n",
    "import itertools\n",
    "import re\n",
    "import bisect\n",
    "import scipy\n",
    "import heapq\n",
    "from collections import deque \n",
    "from functools import reduce\n",
    "from itertools import product\n",
    "from itertools import combinations\n",
    "from functools import lru_cache\n",
    "from scipy.special import comb\n",
    "from numba import njit\n",
    "from bisect import bisect_right\n",
    "from bisect import bisect_left"
   ]
  },
  {
   "cell_type": "code",
   "execution_count": 2,
   "id": "c904d069-e071-4f27-a837-494e073f9494",
   "metadata": {},
   "outputs": [
    {
     "name": "stdin",
     "output_type": "stream",
     "text": [
      " 3\n"
     ]
    }
   ],
   "source": [
    "N = int(input())"
   ]
  },
  {
   "cell_type": "code",
   "execution_count": 3,
   "id": "9faf214d-f1c6-4d8a-acda-389f3c83c686",
   "metadata": {},
   "outputs": [
    {
     "name": "stdin",
     "output_type": "stream",
     "text": [
      " aaa 10\n",
      " bbb 20\n",
      " aaa 30\n"
     ]
    }
   ],
   "source": [
    "STn = [list(input().split()) for _ in range(N)]"
   ]
  },
  {
   "cell_type": "code",
   "execution_count": 9,
   "id": "02ac79c4-c5a1-4525-9a32-d73339b9d124",
   "metadata": {},
   "outputs": [],
   "source": [
    "ans = -1\n",
    "c = set()\n",
    "mx = -1\n",
    "for i, (S, T) in enumerate(STn, 1):\n",
    "    if S in c:\n",
    "        continue\n",
    "    c.add(S)\n",
    "    if int(T) > mx:\n",
    "        ans = i\n",
    "        mx = int(T)"
   ]
  },
  {
   "cell_type": "code",
   "execution_count": 10,
   "id": "b2245b35-bc63-43b2-b8c9-93eef071045b",
   "metadata": {},
   "outputs": [
    {
     "name": "stdout",
     "output_type": "stream",
     "text": [
      "2\n"
     ]
    }
   ],
   "source": [
    "print(ans)"
   ]
  },
  {
   "cell_type": "code",
   "execution_count": null,
   "id": "bbfb1b04-6b66-4cfb-8fcd-e7ad2a29673a",
   "metadata": {},
   "outputs": [],
   "source": []
  }
 ],
 "metadata": {
  "kernelspec": {
   "display_name": "Python 3",
   "language": "python",
   "name": "python3"
  },
  "language_info": {
   "codemirror_mode": {
    "name": "ipython",
    "version": 3
   },
   "file_extension": ".py",
   "mimetype": "text/x-python",
   "name": "python",
   "nbconvert_exporter": "python",
   "pygments_lexer": "ipython3",
   "version": "3.6.13"
  }
 },
 "nbformat": 4,
 "nbformat_minor": 5
}
