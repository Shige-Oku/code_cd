{
 "cells": [
  {
   "cell_type": "code",
   "execution_count": null,
   "id": "72dc1b0f-58d4-479a-b13f-cad336d66b18",
   "metadata": {},
   "outputs": [],
   "source": [
    "# 解説を読んで実装"
   ]
  },
  {
   "cell_type": "code",
   "execution_count": 1,
   "id": "b4b1f08c-48bf-4d3d-8d77-e59642c77bf6",
   "metadata": {},
   "outputs": [],
   "source": [
    "import sys\n",
    "import numpy as np\n",
    "import math\n",
    "import collections\n",
    "import copy\n",
    "import decimal\n",
    "import itertools\n",
    "import re\n",
    "import bisect\n",
    "import scipy\n",
    "import heapq\n",
    "from collections import deque \n",
    "from functools import reduce\n",
    "from itertools import product\n",
    "from itertools import combinations\n",
    "from functools import lru_cache\n",
    "from scipy.special import comb\n",
    "from numba import njit\n",
    "from bisect import bisect_right\n",
    "from bisect import bisect_left"
   ]
  },
  {
   "cell_type": "code",
   "execution_count": 52,
   "id": "701e0c2b-7d35-40f2-bf52-89aff6c36722",
   "metadata": {},
   "outputs": [
    {
     "name": "stdin",
     "output_type": "stream",
     "text": [
      " 6\n"
     ]
    }
   ],
   "source": [
    "W = int(input())"
   ]
  },
  {
   "cell_type": "code",
   "execution_count": 53,
   "id": "8113bb8a-98b2-4566-a39c-414889df1962",
   "metadata": {},
   "outputs": [
    {
     "name": "stdout",
     "output_type": "stream",
     "text": [
      "297\n",
      "1 100 10000 2 200 20000 3 300 30000 4 400 40000 5 500 50000 6 600 60000 7 700 70000 8 800 80000 9 900 90000 10 1000 100000 11 1100 110000 12 1200 120000 13 1300 130000 14 1400 140000 15 1500 150000 16 1600 160000 17 1700 170000 18 1800 180000 19 1900 190000 20 2000 200000 21 2100 210000 22 2200 220000 23 2300 230000 24 2400 240000 25 2500 250000 26 2600 260000 27 2700 270000 28 2800 280000 29 2900 290000 30 3000 300000 31 3100 310000 32 3200 320000 33 3300 330000 34 3400 340000 35 3500 350000 36 3600 360000 37 3700 370000 38 3800 380000 39 3900 390000 40 4000 400000 41 4100 410000 42 4200 420000 43 4300 430000 44 4400 440000 45 4500 450000 46 4600 460000 47 4700 470000 48 4800 480000 49 4900 490000 50 5000 500000 51 5100 510000 52 5200 520000 53 5300 530000 54 5400 540000 55 5500 550000 56 5600 560000 57 5700 570000 58 5800 580000 59 5900 590000 60 6000 600000 61 6100 610000 62 6200 620000 63 6300 630000 64 6400 640000 65 6500 650000 66 6600 660000 67 6700 670000 68 6800 680000 69 6900 690000 70 7000 700000 71 7100 710000 72 7200 720000 73 7300 730000 74 7400 740000 75 7500 750000 76 7600 760000 77 7700 770000 78 7800 780000 79 7900 790000 80 8000 800000 81 8100 810000 82 8200 820000 83 8300 830000 84 8400 840000 85 8500 850000 86 8600 860000 87 8700 870000 88 8800 880000 89 8900 890000 90 9000 900000 91 9100 910000 92 9200 920000 93 9300 930000 94 9400 940000 95 9500 950000 96 9600 960000 97 9700 970000 98 9800 980000 99 9900 990000 "
     ]
    }
   ],
   "source": [
    "print(297)\n",
    "for i in range(1, 100):\n",
    "    print(i, end =\" \")\n",
    "    print(i*100, end = \" \")\n",
    "    print(i*10000, end = \" \")"
   ]
  },
  {
   "cell_type": "code",
   "execution_count": 54,
   "id": "1d37e2a9-883e-44f5-bc14-f46cb9a30b14",
   "metadata": {},
   "outputs": [],
   "source": [
    "# 別解"
   ]
  },
  {
   "cell_type": "code",
   "execution_count": 55,
   "id": "76e3963a-32fc-4768-be81-1953c82e9f13",
   "metadata": {},
   "outputs": [],
   "source": [
    "ans = []\n",
    "m1 = W % 100\n",
    "q, m2 = divmod(W//100*100, 10000)\n",
    "m2 //= 100\n",
    "if m2 > 0:\n",
    "    m1  = 99\n",
    "if q > 0:\n",
    "    m1, m2 = 99, 99\n",
    "if q > 99:\n",
    "    q = 99\n",
    "for i in range(1, m1+1):\n",
    "    ans.append(i)\n",
    "for i in range(1, m2+1):\n",
    "    ans.append(i*100)\n",
    "for i in range(1, q+1):\n",
    "    ans.append(i*10000)"
   ]
  },
  {
   "cell_type": "code",
   "execution_count": 56,
   "id": "0da900d2-e003-4d25-bb92-f2a91174819c",
   "metadata": {},
   "outputs": [
    {
     "name": "stdout",
     "output_type": "stream",
     "text": [
      "6\n",
      "1 2 3 4 5 6\n"
     ]
    }
   ],
   "source": [
    "print(len(ans))\n",
    "print(*ans)"
   ]
  },
  {
   "cell_type": "code",
   "execution_count": 49,
   "id": "da544ef6-9d31-43f7-9b50-9ac2a64bb876",
   "metadata": {},
   "outputs": [
    {
     "data": {
      "text/plain": [
       "(99, 99, 100)"
      ]
     },
     "execution_count": 49,
     "metadata": {},
     "output_type": "execute_result"
    }
   ],
   "source": [
    "m1, m2, q"
   ]
  },
  {
   "cell_type": "code",
   "execution_count": 30,
   "id": "d1f49dc4-cc19-41f4-804a-a414112ef02c",
   "metadata": {},
   "outputs": [
    {
     "data": {
      "text/plain": [
       "0"
      ]
     },
     "execution_count": 30,
     "metadata": {},
     "output_type": "execute_result"
    }
   ],
   "source": [
    "W//100*100 % 100"
   ]
  },
  {
   "cell_type": "code",
   "execution_count": null,
   "id": "16d64f1e-0522-4129-8fbf-33bea0850d91",
   "metadata": {},
   "outputs": [],
   "source": []
  }
 ],
 "metadata": {
  "kernelspec": {
   "display_name": "Python 3",
   "language": "python",
   "name": "python3"
  },
  "language_info": {
   "codemirror_mode": {
    "name": "ipython",
    "version": 3
   },
   "file_extension": ".py",
   "mimetype": "text/x-python",
   "name": "python",
   "nbconvert_exporter": "python",
   "pygments_lexer": "ipython3",
   "version": "3.6.13"
  }
 },
 "nbformat": 4,
 "nbformat_minor": 5
}
