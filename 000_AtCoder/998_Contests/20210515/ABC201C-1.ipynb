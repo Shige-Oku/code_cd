{
 "cells": [
  {
   "cell_type": "code",
   "execution_count": 1,
   "id": "ef69b926-0b6a-4386-be9e-ea557e25f1b5",
   "metadata": {},
   "outputs": [],
   "source": [
    "import sys\n",
    "import numpy as np\n",
    "import math\n",
    "import collections\n",
    "import copy\n",
    "import decimal\n",
    "import itertools\n",
    "import re\n",
    "import bisect\n",
    "import scipy\n",
    "import heapq\n",
    "from collections import deque \n",
    "from functools import reduce\n",
    "from itertools import product\n",
    "from itertools import combinations\n",
    "from itertools import chain\n",
    "from functools import lru_cache\n",
    "from scipy.special import comb\n",
    "from numba import njit\n",
    "from bisect import bisect_right\n",
    "from bisect import bisect_left"
   ]
  },
  {
   "cell_type": "code",
   "execution_count": 20,
   "id": "68d8b9ea-5ab0-43e1-a57a-58d7a494e39b",
   "metadata": {},
   "outputs": [
    {
     "name": "stdin",
     "output_type": "stream",
     "text": [
      " xxxxx?xxxo\n"
     ]
    }
   ],
   "source": [
    "S = input()"
   ]
  },
  {
   "cell_type": "code",
   "execution_count": 21,
   "id": "c80063c8-7813-4db3-81e6-d22b80b02149",
   "metadata": {},
   "outputs": [],
   "source": [
    "req = ''\n",
    "req2 = ''\n",
    "maru = 0\n",
    "for i, s in enumerate(S):\n",
    "    if s == 'o':\n",
    "        req += str(i)\n",
    "        req2 += str(i)\n",
    "        maru += 1\n",
    "    elif s == '?':\n",
    "        req2 += str(i)\n"
   ]
  },
  {
   "cell_type": "code",
   "execution_count": 22,
   "id": "d273463a-c6d2-4cbe-b435-ed52cb052488",
   "metadata": {},
   "outputs": [],
   "source": [
    "ans = 0\n",
    "for i in range(10000):\n",
    "    ss = str(i).zfill(4)\n",
    "    flg = True\n",
    "    for r in req:\n",
    "        if r not in ss:\n",
    "            flg = False\n",
    "            break\n",
    "    for s in ss:\n",
    "        if s not in req2: \n",
    "            flg = False\n",
    "            break\n",
    "    if flg:\n",
    "        ans += 1\n",
    "            "
   ]
  },
  {
   "cell_type": "code",
   "execution_count": 23,
   "id": "0e6a79ca-aaba-4d34-8b5f-53a46a4746f6",
   "metadata": {},
   "outputs": [
    {
     "name": "stdout",
     "output_type": "stream",
     "text": [
      "15\n"
     ]
    }
   ],
   "source": [
    "print(ans)"
   ]
  },
  {
   "cell_type": "code",
   "execution_count": 7,
   "id": "c98ac4d4-78ca-4e7d-95a2-d6f725c654d3",
   "metadata": {},
   "outputs": [
    {
     "data": {
      "text/plain": [
       "'0010'"
      ]
     },
     "execution_count": 7,
     "metadata": {},
     "output_type": "execute_result"
    }
   ],
   "source": [
    "str(10).zfill(4)"
   ]
  },
  {
   "cell_type": "code",
   "execution_count": 11,
   "id": "e5fba7d0-6883-433e-9e6b-f43f377a5172",
   "metadata": {},
   "outputs": [
    {
     "data": {
      "text/plain": [
       "('012', '012345')"
      ]
     },
     "execution_count": 11,
     "metadata": {},
     "output_type": "execute_result"
    }
   ],
   "source": [
    "req, req2"
   ]
  },
  {
   "cell_type": "code",
   "execution_count": null,
   "id": "7ee7b882-3da6-4a5b-bb49-2fc195d78b31",
   "metadata": {},
   "outputs": [],
   "source": []
  }
 ],
 "metadata": {
  "kernelspec": {
   "display_name": "Python 3",
   "language": "python",
   "name": "python3"
  },
  "language_info": {
   "codemirror_mode": {
    "name": "ipython",
    "version": 3
   },
   "file_extension": ".py",
   "mimetype": "text/x-python",
   "name": "python",
   "nbconvert_exporter": "python",
   "pygments_lexer": "ipython3",
   "version": "3.6.13"
  }
 },
 "nbformat": 4,
 "nbformat_minor": 5
}
