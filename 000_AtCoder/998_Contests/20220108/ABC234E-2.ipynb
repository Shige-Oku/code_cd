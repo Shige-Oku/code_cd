{
 "cells": [
  {
   "cell_type": "code",
   "execution_count": null,
   "id": "f718d620-b2da-45bc-aee9-e41ab4427f67",
   "metadata": {},
   "outputs": [],
   "source": [
    "# 解説を読んで実装"
   ]
  },
  {
   "cell_type": "code",
   "execution_count": 17,
   "id": "8994a407-7fd1-4707-acfd-26c728437d96",
   "metadata": {},
   "outputs": [],
   "source": [
    "from bisect import bisect_right\n",
    "from bisect import bisect_left"
   ]
  },
  {
   "cell_type": "code",
   "execution_count": 22,
   "id": "7a342d3d-16ef-4d85-8eb0-9df653e46acf",
   "metadata": {},
   "outputs": [
    {
     "name": "stdin",
     "output_type": "stream",
     "text": [
      " 8989898989\n"
     ]
    }
   ],
   "source": [
    "X = int(input())"
   ]
  },
  {
   "cell_type": "code",
   "execution_count": 23,
   "id": "8cee329f-9956-4ae8-aae6-ff8a6d502c74",
   "metadata": {},
   "outputs": [],
   "source": [
    "tosa = set()\n",
    "for fir in range(1, 9+1):\n",
    "    for sa in range(-9, 8+1):\n",
    "        s = \"\"\n",
    "        di = fir\n",
    "        for l in range(18+1):\n",
    "            s += str(di)\n",
    "            tosa.add(int(s))\n",
    "            di += sa\n",
    "            if (di < 0 or di> 9):\n",
    "                break"
   ]
  },
  {
   "cell_type": "code",
   "execution_count": 24,
   "id": "5a7b2cf7-5891-4459-879a-1bea4c478ebf",
   "metadata": {},
   "outputs": [
    {
     "name": "stdout",
     "output_type": "stream",
     "text": [
      "9876543210\n"
     ]
    }
   ],
   "source": [
    "tosa_s = sorted(list(tosa))\n",
    "print(tosa_s[bisect_left(tosa_s, X)])"
   ]
  },
  {
   "cell_type": "code",
   "execution_count": null,
   "id": "0280262c-05d0-4c61-aaab-ddd69148f3f9",
   "metadata": {},
   "outputs": [],
   "source": []
  },
  {
   "cell_type": "code",
   "execution_count": 15,
   "id": "04ced919-0c51-4cd8-9cae-52d5dbef921b",
   "metadata": {},
   "outputs": [
    {
     "data": {
      "text/plain": [
       "(348,\n",
       " [222222222,\n",
       "  123456789,\n",
       "  111111111,\n",
       "  99999999,\n",
       "  98765432,\n",
       "  88888888,\n",
       "  87654321,\n",
       "  77777777,\n",
       "  76543210,\n",
       "  66666666])"
      ]
     },
     "execution_count": 15,
     "metadata": {},
     "output_type": "execute_result"
    }
   ],
   "source": [
    "len(tosa), sorted(list(tosa), reverse=True)[100:110]"
   ]
  },
  {
   "cell_type": "code",
   "execution_count": null,
   "id": "249957cf-0443-4a17-ada0-57227f132f85",
   "metadata": {},
   "outputs": [],
   "source": []
  }
 ],
 "metadata": {
  "kernelspec": {
   "display_name": "Python 3",
   "language": "python",
   "name": "python3"
  },
  "language_info": {
   "codemirror_mode": {
    "name": "ipython",
    "version": 3
   },
   "file_extension": ".py",
   "mimetype": "text/x-python",
   "name": "python",
   "nbconvert_exporter": "python",
   "pygments_lexer": "ipython3",
   "version": "3.6.13"
  }
 },
 "nbformat": 4,
 "nbformat_minor": 5
}
