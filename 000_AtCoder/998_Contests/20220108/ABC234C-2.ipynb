{
 "cells": [
  {
   "cell_type": "code",
   "execution_count": null,
   "id": "ceb88c03-709c-4431-8a57-a9f87d53498c",
   "metadata": {},
   "outputs": [],
   "source": [
    "# 解説を読んで実装"
   ]
  },
  {
   "cell_type": "code",
   "execution_count": 1,
   "id": "60e254dc-0c25-45c5-b982-4a39ff073da0",
   "metadata": {},
   "outputs": [
    {
     "name": "stdin",
     "output_type": "stream",
     "text": [
      " 923423423420220108\n"
     ]
    }
   ],
   "source": [
    "K = int(input())"
   ]
  },
  {
   "cell_type": "code",
   "execution_count": 8,
   "id": "1d679072-a4be-494c-9ef0-e388def08a87",
   "metadata": {},
   "outputs": [
    {
     "name": "stdout",
     "output_type": "stream",
     "text": [
      "220022020000202020002022022000002020002222002200002022002200\n"
     ]
    }
   ],
   "source": [
    "print(bin(K)[2:].replace('1', '2'))"
   ]
  },
  {
   "cell_type": "code",
   "execution_count": 4,
   "id": "d1404ad7-3341-4bfd-9cac-4b7244c4d2b8",
   "metadata": {},
   "outputs": [
    {
     "data": {
      "text/plain": [
       "str"
      ]
     },
     "execution_count": 4,
     "metadata": {},
     "output_type": "execute_result"
    }
   ],
   "source": [
    "type(bin(K))"
   ]
  },
  {
   "cell_type": "code",
   "execution_count": null,
   "id": "2357304d-4f98-4247-984e-e07204446f7c",
   "metadata": {},
   "outputs": [],
   "source": []
  }
 ],
 "metadata": {
  "kernelspec": {
   "display_name": "Python 3",
   "language": "python",
   "name": "python3"
  },
  "language_info": {
   "codemirror_mode": {
    "name": "ipython",
    "version": 3
   },
   "file_extension": ".py",
   "mimetype": "text/x-python",
   "name": "python",
   "nbconvert_exporter": "python",
   "pygments_lexer": "ipython3",
   "version": "3.6.13"
  }
 },
 "nbformat": 4,
 "nbformat_minor": 5
}
