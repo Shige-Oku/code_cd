{
 "cells": [
  {
   "cell_type": "code",
   "execution_count": 1,
   "id": "9220a624-a22d-425d-9552-ed8d8d88f079",
   "metadata": {},
   "outputs": [],
   "source": [
    "import sys\n",
    "import numpy as np\n",
    "import math\n",
    "import collections\n",
    "import copy\n",
    "import decimal\n",
    "import itertools\n",
    "import re\n",
    "import bisect\n",
    "import scipy\n",
    "import heapq\n",
    "import array\n",
    "from collections import deque\n",
    "from functools import reduce\n",
    "from itertools import product\n",
    "from itertools import combinations\n",
    "from itertools import chain\n",
    "from functools import lru_cache\n",
    "from scipy.special import comb\n",
    "from numba import njit\n",
    "from bisect import bisect_right\n",
    "from bisect import bisect_left\n",
    "from collections import defaultdict"
   ]
  },
  {
   "cell_type": "code",
   "execution_count": 12,
   "id": "2479c523-6ff3-45eb-90b4-291fb46b5b4c",
   "metadata": {},
   "outputs": [
    {
     "name": "stdin",
     "output_type": "stream",
     "text": [
      " 10\n"
     ]
    }
   ],
   "source": [
    "t = int(input())"
   ]
  },
  {
   "cell_type": "code",
   "execution_count": 13,
   "id": "48cec759-bba4-4cf0-a00a-784178035810",
   "metadata": {},
   "outputs": [],
   "source": [
    "def ft(t):\n",
    "    return t**2 + 2 * t + 3"
   ]
  },
  {
   "cell_type": "code",
   "execution_count": 14,
   "id": "f140fea5-cd1a-446c-b2db-3218f18c0c99",
   "metadata": {},
   "outputs": [],
   "source": [
    "f1 = ft(t)\n",
    "f2 = f1+t\n",
    "f3 = ft(f2)\n",
    "f4 = ft(f1)\n",
    "f5 = ft(f3 + f4)"
   ]
  },
  {
   "cell_type": "code",
   "execution_count": 15,
   "id": "22526848-28c0-4123-bfee-d0abcadf90a4",
   "metadata": {},
   "outputs": [
    {
     "name": "stdout",
     "output_type": "stream",
     "text": [
      "1111355571\n"
     ]
    }
   ],
   "source": [
    "print(f5)"
   ]
  },
  {
   "cell_type": "code",
   "execution_count": null,
   "id": "1d011659-cc0c-417b-a074-9026b703e745",
   "metadata": {},
   "outputs": [],
   "source": []
  }
 ],
 "metadata": {
  "kernelspec": {
   "display_name": "Python 3",
   "language": "python",
   "name": "python3"
  },
  "language_info": {
   "codemirror_mode": {
    "name": "ipython",
    "version": 3
   },
   "file_extension": ".py",
   "mimetype": "text/x-python",
   "name": "python",
   "nbconvert_exporter": "python",
   "pygments_lexer": "ipython3",
   "version": "3.6.13"
  }
 },
 "nbformat": 4,
 "nbformat_minor": 5
}
