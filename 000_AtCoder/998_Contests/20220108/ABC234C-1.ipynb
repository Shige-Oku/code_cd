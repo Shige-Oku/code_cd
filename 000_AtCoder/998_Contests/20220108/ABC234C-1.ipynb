{
 "cells": [
  {
   "cell_type": "code",
   "execution_count": 1,
   "id": "85d058e7-a5c1-4705-a06f-e8b237447a10",
   "metadata": {},
   "outputs": [],
   "source": [
    "import sys\n",
    "import numpy as np\n",
    "import math\n",
    "import collections\n",
    "import copy\n",
    "import decimal\n",
    "import itertools\n",
    "import re\n",
    "import bisect\n",
    "import scipy\n",
    "import heapq\n",
    "import array\n",
    "from collections import deque\n",
    "from functools import reduce\n",
    "from itertools import product\n",
    "from itertools import combinations\n",
    "from itertools import chain\n",
    "from functools import lru_cache\n",
    "from scipy.special import comb\n",
    "from numba import njit\n",
    "from bisect import bisect_right\n",
    "from bisect import bisect_left\n",
    "from collections import defaultdict"
   ]
  },
  {
   "cell_type": "code",
   "execution_count": 1,
   "id": "68e76c41-53c4-4c6e-8d26-f0dcc3abdd4d",
   "metadata": {},
   "outputs": [
    {
     "name": "stdin",
     "output_type": "stream",
     "text": [
      " 923423423420220108\n"
     ]
    }
   ],
   "source": [
    "K = int(input())"
   ]
  },
  {
   "cell_type": "code",
   "execution_count": 9,
   "id": "2b65fb60-9991-444e-a669-7ccb4bf73a2f",
   "metadata": {},
   "outputs": [],
   "source": [
    "ans = \"\"\n",
    "k = K\n",
    "while k > 0:\n",
    "    q, m = divmod(k, 2)\n",
    "    if m == 0:\n",
    "        ans = '0' + ans\n",
    "    else:\n",
    "        ans = '2' + ans\n",
    "    k = q"
   ]
  },
  {
   "cell_type": "code",
   "execution_count": 10,
   "id": "ef108693-7ca3-4d2d-a0ec-fb69b86c4290",
   "metadata": {},
   "outputs": [
    {
     "data": {
      "text/plain": [
       "'220022020000202020002022022000002020002222002200002022002200'"
      ]
     },
     "execution_count": 10,
     "metadata": {},
     "output_type": "execute_result"
    }
   ],
   "source": [
    "print(ans)"
   ]
  },
  {
   "cell_type": "code",
   "execution_count": null,
   "id": "5a8b5054-4fa6-4e94-a3b4-90e9887658c1",
   "metadata": {},
   "outputs": [],
   "source": []
  },
  {
   "cell_type": "code",
   "execution_count": null,
   "id": "a2a0eafc-b788-460e-b32f-146332bbf92e",
   "metadata": {},
   "outputs": [],
   "source": []
  }
 ],
 "metadata": {
  "kernelspec": {
   "display_name": "Python 3",
   "language": "python",
   "name": "python3"
  },
  "language_info": {
   "codemirror_mode": {
    "name": "ipython",
    "version": 3
   },
   "file_extension": ".py",
   "mimetype": "text/x-python",
   "name": "python",
   "nbconvert_exporter": "python",
   "pygments_lexer": "ipython3",
   "version": "3.6.13"
  }
 },
 "nbformat": 4,
 "nbformat_minor": 5
}
