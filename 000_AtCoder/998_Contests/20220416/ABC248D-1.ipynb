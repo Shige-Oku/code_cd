{
 "cells": [
  {
   "cell_type": "code",
   "execution_count": 1,
   "id": "9f4e8804-ef06-4e38-b68c-2ec064544abf",
   "metadata": {},
   "outputs": [],
   "source": [
    "import sys\n",
    "import numpy as np\n",
    "import math\n",
    "import collections\n",
    "import copy\n",
    "import decimal\n",
    "import itertools\n",
    "import re\n",
    "import bisect\n",
    "import scipy\n",
    "import heapq\n",
    "from collections import deque \n",
    "from functools import reduce\n",
    "from itertools import product\n",
    "from itertools import combinations\n",
    "from functools import lru_cache\n",
    "from scipy.special import comb\n",
    "from numba import njit\n",
    "from bisect import bisect_right\n",
    "from bisect import bisect_left"
   ]
  },
  {
   "cell_type": "code",
   "execution_count": 2,
   "id": "deaa384a-f44b-4ce5-ada9-325660be7c6e",
   "metadata": {},
   "outputs": [
    {
     "name": "stdin",
     "output_type": "stream",
     "text": [
      " 5\n"
     ]
    }
   ],
   "source": [
    "N = int(input())"
   ]
  },
  {
   "cell_type": "code",
   "execution_count": 3,
   "id": "d0fcd00e-d241-4bf4-a6f1-884150572ac9",
   "metadata": {},
   "outputs": [
    {
     "name": "stdin",
     "output_type": "stream",
     "text": [
      " 3 1 4 1 5\n"
     ]
    }
   ],
   "source": [
    "An = list(map(int, input().split()))"
   ]
  },
  {
   "cell_type": "code",
   "execution_count": 4,
   "id": "f1c9178d-199b-41c5-9bfe-ebf772b21222",
   "metadata": {},
   "outputs": [
    {
     "name": "stdin",
     "output_type": "stream",
     "text": [
      " 4\n"
     ]
    }
   ],
   "source": [
    "Q = int(input())"
   ]
  },
  {
   "cell_type": "code",
   "execution_count": 5,
   "id": "90a04314-1c3c-4043-a355-e1c310f2aa4f",
   "metadata": {},
   "outputs": [
    {
     "name": "stdin",
     "output_type": "stream",
     "text": [
      " 1 5 1\n",
      " 2 4 3\n",
      " 1 5 2\n",
      " 1 3 3\n"
     ]
    }
   ],
   "source": [
    "Qn = [list(map(int, input().split())) for _ in range(Q)]"
   ]
  },
  {
   "cell_type": "code",
   "execution_count": 14,
   "id": "f0be972d-6c45-4d71-aac7-bda91bfc7cb1",
   "metadata": {},
   "outputs": [],
   "source": [
    "cnt = [[] for _ in range(N+1)]\n",
    "for i, A in enumerate(An, 1):\n",
    "    cnt[A].append(i)"
   ]
  },
  {
   "cell_type": "code",
   "execution_count": 19,
   "id": "06e73b1a-7ba7-40a1-b22b-958ba2503dec",
   "metadata": {},
   "outputs": [
    {
     "name": "stdout",
     "output_type": "stream",
     "text": [
      "2\n",
      "0\n",
      "0\n",
      "1\n"
     ]
    }
   ],
   "source": [
    "for L, R, X in Qn:\n",
    "    li = bisect_left(cnt[X], L)\n",
    "    ri = bisect_right(cnt[X], R)\n",
    "    print(ri-li)"
   ]
  },
  {
   "cell_type": "code",
   "execution_count": 21,
   "id": "a0b4033d-06b5-4184-9f19-005accc58466",
   "metadata": {},
   "outputs": [
    {
     "data": {
      "text/plain": [
       "(0, 2)"
      ]
     },
     "execution_count": 21,
     "metadata": {},
     "output_type": "execute_result"
    }
   ],
   "source": [
    "bisect_left(cnt[1], 2), bisect_right(cnt[1], 4)"
   ]
  },
  {
   "cell_type": "code",
   "execution_count": 15,
   "id": "34b97629-90ec-4892-80d2-bfcd0902841c",
   "metadata": {},
   "outputs": [
    {
     "data": {
      "text/plain": [
       "[[], [2, 4], [], [1], [3], [5]]"
      ]
     },
     "execution_count": 15,
     "metadata": {},
     "output_type": "execute_result"
    }
   ],
   "source": [
    "cnt"
   ]
  },
  {
   "cell_type": "code",
   "execution_count": 9,
   "id": "11b7866e-e99c-447d-9484-196b53d1e8ea",
   "metadata": {},
   "outputs": [
    {
     "data": {
      "text/plain": [
       "[[0, 0, 0, 0, 0, 0],\n",
       " [0, 0, 0, 1, 0, 0],\n",
       " [0, 1, 0, 1, 0, 0],\n",
       " [0, 1, 0, 1, 1, 0],\n",
       " [0, 2, 0, 1, 1, 0],\n",
       " [0, 2, 0, 1, 1, 1],\n",
       " [0, 0, 0, 0, 0, 0]]"
      ]
     },
     "execution_count": 9,
     "metadata": {},
     "output_type": "execute_result"
    }
   ],
   "source": [
    "dp"
   ]
  },
  {
   "cell_type": "code",
   "execution_count": 8,
   "id": "eae382d2-e798-4d65-bb4d-b4c1d9241d06",
   "metadata": {},
   "outputs": [],
   "source": [
    "dp = [[0] * (N+1) for _ in range(N+2)]\n",
    "for i, A in enumerate(An, 1):\n",
    "    for j in range(N):\n",
    "        dp[i][j] = dp[i-1][j]\n",
    "    dp[i][A] += 1\n",
    "        "
   ]
  },
  {
   "cell_type": "code",
   "execution_count": 12,
   "id": "129b2ca4-b0ad-41d5-b6e3-7b135d458e69",
   "metadata": {},
   "outputs": [
    {
     "name": "stdout",
     "output_type": "stream",
     "text": [
      "2\n",
      "0\n",
      "0\n",
      "1\n"
     ]
    }
   ],
   "source": [
    "for L, R, X in Qn:\n",
    "    print(dp[R][X]-dp[L-1][X])"
   ]
  },
  {
   "cell_type": "code",
   "execution_count": null,
   "id": "0268e1bd-5141-4c10-af74-eaa79dba0a79",
   "metadata": {},
   "outputs": [],
   "source": []
  }
 ],
 "metadata": {
  "kernelspec": {
   "display_name": "Python 3",
   "language": "python",
   "name": "python3"
  },
  "language_info": {
   "codemirror_mode": {
    "name": "ipython",
    "version": 3
   },
   "file_extension": ".py",
   "mimetype": "text/x-python",
   "name": "python",
   "nbconvert_exporter": "python",
   "pygments_lexer": "ipython3",
   "version": "3.6.13"
  }
 },
 "nbformat": 4,
 "nbformat_minor": 5
}
