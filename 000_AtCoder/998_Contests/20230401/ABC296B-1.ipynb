{
 "cells": [
  {
   "cell_type": "code",
   "execution_count": 1,
   "id": "63475003-0863-4d7e-aa77-8588a0672a7d",
   "metadata": {},
   "outputs": [],
   "source": [
    "import sys\n",
    "import numpy as np\n",
    "import math\n",
    "import collections\n",
    "import copy\n",
    "import decimal\n",
    "import itertools\n",
    "import re\n",
    "import bisect\n",
    "import scipy\n",
    "import heapq\n",
    "from collections import deque \n",
    "from functools import reduce\n",
    "from itertools import product\n",
    "from itertools import combinations\n",
    "from functools import lru_cache\n",
    "from scipy.special import comb\n",
    "from numba import njit\n",
    "from bisect import bisect_right\n",
    "from bisect import bisect_left"
   ]
  },
  {
   "cell_type": "code",
   "execution_count": 10,
   "id": "94ef7552-fef7-4a47-9af2-34fb26cb4742",
   "metadata": {},
   "outputs": [
    {
     "name": "stdin",
     "output_type": "stream",
     "text": [
      " ........\n",
      " ........\n",
      " ........\n",
      " ........\n",
      " ........\n",
      " .*......\n",
      " ........\n",
      " ........\n"
     ]
    }
   ],
   "source": [
    "S8 = [input() for _ in range(8)]"
   ]
  },
  {
   "cell_type": "code",
   "execution_count": 21,
   "id": "3640efff-e1b8-415e-a56d-caa7ceeb4003",
   "metadata": {},
   "outputs": [],
   "source": [
    "flg = False\n",
    "for i in range(8):\n",
    "    for j in range(8):\n",
    "        if S8[i][j] == '*':\n",
    "            flg = True\n",
    "            break\n",
    "    if flg:\n",
    "        break\n"
   ]
  },
  {
   "cell_type": "code",
   "execution_count": 20,
   "id": "cc361c6d-5471-4d67-8563-72290dea7505",
   "metadata": {},
   "outputs": [
    {
     "name": "stdout",
     "output_type": "stream",
     "text": [
      "b3\n"
     ]
    }
   ],
   "source": [
    "print(chr(ord('a')+j) + str(8-i))"
   ]
  },
  {
   "cell_type": "code",
   "execution_count": 13,
   "id": "aae52e26-7ec7-4846-9785-1bab8effe5d1",
   "metadata": {},
   "outputs": [
    {
     "data": {
      "text/plain": [
       "(7, 7)"
      ]
     },
     "execution_count": 13,
     "metadata": {},
     "output_type": "execute_result"
    }
   ],
   "source": [
    "j, i"
   ]
  },
  {
   "cell_type": "code",
   "execution_count": 16,
   "id": "824d9384-f17a-49b2-bab9-30e2a4febec7",
   "metadata": {},
   "outputs": [
    {
     "data": {
      "text/plain": [
       "'.'"
      ]
     },
     "execution_count": 16,
     "metadata": {},
     "output_type": "execute_result"
    }
   ],
   "source": [
    "S8[5][2]"
   ]
  },
  {
   "cell_type": "code",
   "execution_count": null,
   "id": "7d92e418-20c3-4081-9adb-b1e5e8f270ab",
   "metadata": {},
   "outputs": [],
   "source": []
  }
 ],
 "metadata": {
  "kernelspec": {
   "display_name": "Python 3",
   "language": "python",
   "name": "python3"
  },
  "language_info": {
   "codemirror_mode": {
    "name": "ipython",
    "version": 3
   },
   "file_extension": ".py",
   "mimetype": "text/x-python",
   "name": "python",
   "nbconvert_exporter": "python",
   "pygments_lexer": "ipython3",
   "version": "3.6.13"
  }
 },
 "nbformat": 4,
 "nbformat_minor": 5
}
