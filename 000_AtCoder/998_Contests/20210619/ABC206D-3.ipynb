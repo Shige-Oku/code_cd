{
 "cells": [
  {
   "cell_type": "code",
   "execution_count": 1,
   "id": "da31a127-c734-4bfd-b27f-9e2d56023d1b",
   "metadata": {},
   "outputs": [],
   "source": [
    "import sys\n",
    "import numpy as np\n",
    "import math\n",
    "import collections\n",
    "import copy\n",
    "import decimal\n",
    "import itertools\n",
    "import re\n",
    "import bisect\n",
    "import scipy\n",
    "import heapq\n",
    "from collections import deque \n",
    "from functools import reduce\n",
    "from itertools import product\n",
    "from itertools import combinations\n",
    "from itertools import chain\n",
    "from functools import lru_cache\n",
    "from scipy.special import comb\n",
    "from numba import njit\n",
    "from bisect import bisect_right\n",
    "from bisect import bisect_left"
   ]
  },
  {
   "cell_type": "code",
   "execution_count": 38,
   "id": "165218ff-f3e2-4f95-8d62-86e31dc219fe",
   "metadata": {},
   "outputs": [
    {
     "name": "stdin",
     "output_type": "stream",
     "text": [
      " 1\n"
     ]
    }
   ],
   "source": [
    "N = int(input())"
   ]
  },
  {
   "cell_type": "code",
   "execution_count": 39,
   "id": "a267cbb5-621d-43d0-bb4c-d044f90ca777",
   "metadata": {},
   "outputs": [
    {
     "name": "stdin",
     "output_type": "stream",
     "text": [
      " 200000\n"
     ]
    }
   ],
   "source": [
    "An = list(map(int, input().split()))"
   ]
  },
  {
   "cell_type": "code",
   "execution_count": 40,
   "id": "ce22471b-edab-4ac6-b405-a9d14ac30766",
   "metadata": {},
   "outputs": [],
   "source": [
    "An_s = set(An)\n",
    "graph = [set() for _ in range(2*10**5+1)]\n",
    "for i in range(math.ceil(N/2)):\n",
    "    graph[An[i]].add(An[N-i-1])\n",
    "    graph[An[N-i-1]].add(An[i])"
   ]
  },
  {
   "cell_type": "code",
   "execution_count": 52,
   "id": "b5162603-cb3b-467a-a2cd-d600686fb492",
   "metadata": {},
   "outputs": [],
   "source": [
    "An_s = set(An)\n",
    "graph = [[] for _ in range(2*10**5+1)]\n",
    "for i in range(math.ceil(N/2)):\n",
    "    graph[An[i]].append(An[N-i-1])\n",
    "    graph[An[N-i-1]].append(An[i])"
   ]
  },
  {
   "cell_type": "code",
   "execution_count": 53,
   "id": "595819f6-784c-4fca-840d-cc659b6aba78",
   "metadata": {},
   "outputs": [],
   "source": [
    "def BFS(n):\n",
    "    q = deque()\n",
    "    q.append(n)\n",
    "    while q:\n",
    "        p = q.popleft()\n",
    "        if visit[p]:\n",
    "            continue\n",
    "        visit[p] = True\n",
    "        for g in graph[n]:\n",
    "            if visit[g]:\n",
    "                continue\n",
    "            q.append(g)\n",
    "    return"
   ]
  },
  {
   "cell_type": "code",
   "execution_count": 54,
   "id": "3b71977d-374c-444c-96ae-0d5db03353c1",
   "metadata": {},
   "outputs": [],
   "source": [
    "visit = [False] * (2*10**5+1)\n",
    "r = 0\n",
    "for i in range(2*10**5+1):\n",
    "    if len(graph[i]) == 0:\n",
    "        continue\n",
    "    if visit[i]:\n",
    "        continue\n",
    "    BFS(i)\n",
    "    r += 1"
   ]
  },
  {
   "cell_type": "code",
   "execution_count": 55,
   "id": "ecb03873-928d-4ad5-8b9d-9880efd90eb9",
   "metadata": {},
   "outputs": [
    {
     "name": "stdout",
     "output_type": "stream",
     "text": [
      "0\n"
     ]
    }
   ],
   "source": [
    "print(len(An_s)-r)"
   ]
  },
  {
   "cell_type": "code",
   "execution_count": 45,
   "id": "e93543ed-33f6-4640-8c0e-8e1da7a188bd",
   "metadata": {},
   "outputs": [
    {
     "data": {
      "text/plain": [
       "({200000}, 0)"
      ]
     },
     "execution_count": 45,
     "metadata": {},
     "output_type": "execute_result"
    }
   ],
   "source": [
    "An_s, r"
   ]
  },
  {
   "cell_type": "code",
   "execution_count": 47,
   "id": "a752222c-526f-4c96-8ceb-ff8c1a2b941d",
   "metadata": {},
   "outputs": [
    {
     "data": {
      "text/plain": [
       "[set(), set(), {200000}]"
      ]
     },
     "execution_count": 47,
     "metadata": {},
     "output_type": "execute_result"
    }
   ],
   "source": [
    "graph[-3:]"
   ]
  },
  {
   "cell_type": "code",
   "execution_count": null,
   "id": "2caa9317-97bc-44bf-8199-959f4f1d5998",
   "metadata": {},
   "outputs": [],
   "source": []
  }
 ],
 "metadata": {
  "kernelspec": {
   "display_name": "Python 3",
   "language": "python",
   "name": "python3"
  },
  "language_info": {
   "codemirror_mode": {
    "name": "ipython",
    "version": 3
   },
   "file_extension": ".py",
   "mimetype": "text/x-python",
   "name": "python",
   "nbconvert_exporter": "python",
   "pygments_lexer": "ipython3",
   "version": "3.6.13"
  }
 },
 "nbformat": 4,
 "nbformat_minor": 5
}
