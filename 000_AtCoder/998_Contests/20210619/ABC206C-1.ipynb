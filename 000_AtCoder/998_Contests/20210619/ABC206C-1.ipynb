{
 "cells": [
  {
   "cell_type": "code",
   "execution_count": 1,
   "id": "d22befd9-4563-48ec-a44d-c8d002d5dde3",
   "metadata": {},
   "outputs": [],
   "source": [
    "import sys\n",
    "import numpy as np\n",
    "import math\n",
    "import collections\n",
    "import copy\n",
    "import decimal\n",
    "import itertools\n",
    "import re\n",
    "import bisect\n",
    "import scipy\n",
    "import heapq\n",
    "from collections import deque \n",
    "from functools import reduce\n",
    "from itertools import product\n",
    "from itertools import combinations\n",
    "from itertools import chain\n",
    "from functools import lru_cache\n",
    "from scipy.special import comb\n",
    "from numba import njit\n",
    "from bisect import bisect_right\n",
    "from bisect import bisect_left"
   ]
  },
  {
   "cell_type": "code",
   "execution_count": 12,
   "id": "d4e74270-c34b-4d0f-8ad8-bda2e2f06291",
   "metadata": {},
   "outputs": [
    {
     "name": "stdin",
     "output_type": "stream",
     "text": [
      " 20\n"
     ]
    }
   ],
   "source": [
    "N = int(input())"
   ]
  },
  {
   "cell_type": "code",
   "execution_count": 25,
   "id": "03c00631-ec1b-4ac4-a632-89b033d54b29",
   "metadata": {},
   "outputs": [
    {
     "name": "stdin",
     "output_type": "stream",
     "text": [
      " 7 8 1 1 4 9 9 6 8 2 4 1 1 9 5 5 5 3 6 4\n"
     ]
    }
   ],
   "source": [
    "An = list(map(int, input().split()))"
   ]
  },
  {
   "cell_type": "code",
   "execution_count": 28,
   "id": "60ac2435-1e41-4811-8393-0bd5acb4961c",
   "metadata": {},
   "outputs": [],
   "source": [
    "An_c = collections.Counter(An)\n",
    "ans = 0\n",
    "for i, A in enumerate(An):\n",
    "    if An_c[A] == 1:\n",
    "        ans += N - 1\n",
    "    else:\n",
    "        ans += N - An_c[A]"
   ]
  },
  {
   "cell_type": "code",
   "execution_count": 30,
   "id": "ad7521e2-0f5f-484e-ad5c-2410e21bb903",
   "metadata": {},
   "outputs": [
    {
     "name": "stdout",
     "output_type": "stream",
     "text": [
      "173\n"
     ]
    }
   ],
   "source": [
    "print(ans//2)"
   ]
  },
  {
   "cell_type": "code",
   "execution_count": 16,
   "id": "f8f3bd1f-bffe-47d5-85a9-95a28329c145",
   "metadata": {},
   "outputs": [
    {
     "data": {
      "text/plain": [
       "Counter({7: 1, 8: 2, 1: 4, 4: 3, 9: 3, 6: 2, 2: 1, 5: 3, 3: 1})"
      ]
     },
     "execution_count": 16,
     "metadata": {},
     "output_type": "execute_result"
    }
   ],
   "source": [
    "An_c"
   ]
  },
  {
   "cell_type": "code",
   "execution_count": 17,
   "id": "4b994585-e28c-4445-9098-180a66fce5ea",
   "metadata": {},
   "outputs": [
    {
     "data": {
      "text/plain": [
       "190"
      ]
     },
     "execution_count": 17,
     "metadata": {},
     "output_type": "execute_result"
    }
   ],
   "source": [
    "20 * 19 //2"
   ]
  },
  {
   "cell_type": "code",
   "execution_count": 22,
   "id": "b8755f92-8ad0-4831-8407-26a3425d69eb",
   "metadata": {},
   "outputs": [
    {
     "name": "stdout",
     "output_type": "stream",
     "text": [
      "68\n"
     ]
    }
   ],
   "source": [
    "t = 0\n",
    "for k, v in An_c.items():\n",
    "    if v > 1:\n",
    "        t += v * (v - 1) * 2\n",
    "print(t)"
   ]
  },
  {
   "cell_type": "code",
   "execution_count": 23,
   "id": "22eb8612-a8db-4cff-ad2d-317e60e0c11b",
   "metadata": {},
   "outputs": [
    {
     "data": {
      "text/plain": [
       "36"
      ]
     },
     "execution_count": 23,
     "metadata": {},
     "output_type": "execute_result"
    }
   ],
   "source": [
    "len(An_c) * (len(An_c) - 1)// 2"
   ]
  },
  {
   "cell_type": "code",
   "execution_count": 24,
   "id": "01739228-d04f-4769-9874-84313afeef4c",
   "metadata": {},
   "outputs": [
    {
     "data": {
      "text/plain": [
       "9"
      ]
     },
     "execution_count": 24,
     "metadata": {},
     "output_type": "execute_result"
    }
   ],
   "source": [
    "len(An_c)"
   ]
  },
  {
   "cell_type": "code",
   "execution_count": null,
   "id": "3a3d3554-7469-4e0e-8b05-c2d324e5974d",
   "metadata": {},
   "outputs": [],
   "source": []
  }
 ],
 "metadata": {
  "kernelspec": {
   "display_name": "Python 3",
   "language": "python",
   "name": "python3"
  },
  "language_info": {
   "codemirror_mode": {
    "name": "ipython",
    "version": 3
   },
   "file_extension": ".py",
   "mimetype": "text/x-python",
   "name": "python",
   "nbconvert_exporter": "python",
   "pygments_lexer": "ipython3",
   "version": "3.6.13"
  }
 },
 "nbformat": 4,
 "nbformat_minor": 5
}
