{
 "cells": [
  {
   "cell_type": "code",
   "execution_count": 1,
   "id": "0089f7b9-7f0e-4cfa-bdd4-951b4aebdf5e",
   "metadata": {},
   "outputs": [],
   "source": [
    "import sys\n",
    "import numpy as np\n",
    "import math\n",
    "import collections\n",
    "import copy\n",
    "import decimal\n",
    "import itertools\n",
    "import re\n",
    "import bisect\n",
    "import scipy\n",
    "import heapq\n",
    "from collections import deque \n",
    "from functools import reduce\n",
    "from itertools import product\n",
    "from itertools import combinations\n",
    "from itertools import chain\n",
    "from functools import lru_cache\n",
    "from scipy.special import comb\n",
    "from numba import njit\n",
    "from bisect import bisect_right\n",
    "from bisect import bisect_left"
   ]
  },
  {
   "cell_type": "code",
   "execution_count": 75,
   "id": "f40d28b4-9de6-4d9f-94de-5f0b6e0f67f9",
   "metadata": {},
   "outputs": [
    {
     "name": "stdin",
     "output_type": "stream",
     "text": [
      " 7\n"
     ]
    }
   ],
   "source": [
    "N = int(input())"
   ]
  },
  {
   "cell_type": "code",
   "execution_count": 81,
   "id": "3bfe41d5-b983-48ff-9aa9-9777eed3b8bf",
   "metadata": {},
   "outputs": [
    {
     "name": "stdin",
     "output_type": "stream",
     "text": [
      " 2 1 1 1 1 1 1 \n"
     ]
    }
   ],
   "source": [
    "An = list(map(int, input().split()))"
   ]
  },
  {
   "cell_type": "code",
   "execution_count": 93,
   "id": "68523471-7424-4be2-913e-3740ff90f3bf",
   "metadata": {},
   "outputs": [],
   "source": [
    "c = {}\n",
    "for i in range(N//2):\n",
    "#     print(An[i], An[N-i-1])\n",
    "    if An[i] == An[N-i-1]:\n",
    "        continue\n",
    "    if An[i] not in c:\n",
    "        c[An[i]] = set()\n",
    "    c[An[i]].add(An[N-i-1])\n",
    "    if An[N-i-1] not in c:\n",
    "        c[An[N-i-1]] = set()\n",
    "    c[An[N-i-1]].add(An[i])"
   ]
  },
  {
   "cell_type": "code",
   "execution_count": 94,
   "id": "7627ef5b-8cd2-4cf5-b236-9001450e884c",
   "metadata": {},
   "outputs": [
    {
     "ename": "TypeError",
     "evalue": "unhashable type: 'set'",
     "output_type": "error",
     "traceback": [
      "\u001b[1;31m---------------------------------------------------------------------------\u001b[0m",
      "\u001b[1;31mTypeError\u001b[0m                                 Traceback (most recent call last)",
      "\u001b[1;32m<ipython-input-94-ef0eb09c97a2>\u001b[0m in \u001b[0;36m<module>\u001b[1;34m\u001b[0m\n\u001b[0;32m      3\u001b[0m     \u001b[0mcnt\u001b[0m \u001b[1;33m=\u001b[0m \u001b[1;36m0\u001b[0m\u001b[1;33m\u001b[0m\u001b[1;33m\u001b[0m\u001b[0m\n\u001b[0;32m      4\u001b[0m     \u001b[1;32mfor\u001b[0m \u001b[0mk\u001b[0m\u001b[1;33m,\u001b[0m \u001b[0mv\u001b[0m \u001b[1;32min\u001b[0m \u001b[0mc\u001b[0m\u001b[1;33m.\u001b[0m\u001b[0mitems\u001b[0m\u001b[1;33m(\u001b[0m\u001b[1;33m)\u001b[0m\u001b[1;33m:\u001b[0m\u001b[1;33m\u001b[0m\u001b[1;33m\u001b[0m\u001b[0m\n\u001b[1;32m----> 5\u001b[1;33m         \u001b[1;32mif\u001b[0m \u001b[0mlen\u001b[0m\u001b[1;33m(\u001b[0m\u001b[0mv\u001b[0m\u001b[1;33m)\u001b[0m \u001b[1;33m==\u001b[0m \u001b[1;36m1\u001b[0m \u001b[1;32mand\u001b[0m \u001b[0mlen\u001b[0m\u001b[1;33m(\u001b[0m\u001b[0mc\u001b[0m\u001b[1;33m[\u001b[0m\u001b[0mv\u001b[0m\u001b[1;33m]\u001b[0m\u001b[1;33m)\u001b[0m \u001b[1;33m==\u001b[0m \u001b[1;36m1\u001b[0m\u001b[1;33m:\u001b[0m\u001b[1;33m\u001b[0m\u001b[1;33m\u001b[0m\u001b[0m\n\u001b[0m\u001b[0;32m      6\u001b[0m             \u001b[0mans\u001b[0m \u001b[1;33m+=\u001b[0m \u001b[1;36m1\u001b[0m\u001b[1;33m\u001b[0m\u001b[1;33m\u001b[0m\u001b[0m\n\u001b[0;32m      7\u001b[0m         \u001b[1;32melse\u001b[0m\u001b[1;33m:\u001b[0m\u001b[1;33m\u001b[0m\u001b[1;33m\u001b[0m\u001b[0m\n",
      "\u001b[1;31mTypeError\u001b[0m: unhashable type: 'set'"
     ]
    }
   ],
   "source": [
    "if len(c) > 0:\n",
    "    ans = 0\n",
    "    cnt = 0\n",
    "    for k, v in c.items():\n",
    "        if len(v) == 1 and len(c[v]) == 1:\n",
    "            ans += 1\n",
    "        else:\n",
    "            cnt += len(v) - 1\n",
    "#             cnt += 1\n",
    "    print(ans//2+max(0, cnt-1))\n",
    "else:\n",
    "    print('0')"
   ]
  },
  {
   "cell_type": "code",
   "execution_count": 88,
   "id": "c0b242d3-3ca8-4d7a-be86-c7c72ab265d7",
   "metadata": {},
   "outputs": [
    {
     "data": {
      "text/plain": [
       "({2: {1}, 1: {2}}, 0, 0)"
      ]
     },
     "execution_count": 88,
     "metadata": {},
     "output_type": "execute_result"
    }
   ],
   "source": [
    "c, ans, cnt"
   ]
  },
  {
   "cell_type": "code",
   "execution_count": 91,
   "id": "6fc52d87-6edd-47c9-aba9-6becd07fbad1",
   "metadata": {},
   "outputs": [
    {
     "data": {
      "text/plain": [
       "({2}, 1)"
      ]
     },
     "execution_count": 91,
     "metadata": {},
     "output_type": "execute_result"
    }
   ],
   "source": [
    "c[1], len(c[1])"
   ]
  },
  {
   "cell_type": "code",
   "execution_count": 36,
   "id": "5eb7c6ac-e23c-468e-92ca-66b949eeaf30",
   "metadata": {},
   "outputs": [],
   "source": [
    "di = {1:set((1,1,2,3))}"
   ]
  },
  {
   "cell_type": "code",
   "execution_count": 39,
   "id": "0bc0450f-1109-4e1c-b7f8-68aface90c21",
   "metadata": {},
   "outputs": [
    {
     "data": {
      "text/plain": [
       "(True, False)"
      ]
     },
     "execution_count": 39,
     "metadata": {},
     "output_type": "execute_result"
    }
   ],
   "source": [
    "1 in di[1], 4 in di[1]"
   ]
  },
  {
   "cell_type": "code",
   "execution_count": 40,
   "id": "f217d652-0534-4aea-8321-4f6c465ab384",
   "metadata": {},
   "outputs": [],
   "source": [
    "di[1].add(4)"
   ]
  },
  {
   "cell_type": "code",
   "execution_count": 41,
   "id": "28871f4b-876f-4633-85a5-421b100be494",
   "metadata": {},
   "outputs": [
    {
     "data": {
      "text/plain": [
       "{1, 2, 3, 4}"
      ]
     },
     "execution_count": 41,
     "metadata": {},
     "output_type": "execute_result"
    }
   ],
   "source": [
    "di[1]"
   ]
  },
  {
   "cell_type": "code",
   "execution_count": null,
   "id": "45814277-bd25-4138-9be3-342d33928c02",
   "metadata": {},
   "outputs": [],
   "source": []
  }
 ],
 "metadata": {
  "kernelspec": {
   "display_name": "Python 3",
   "language": "python",
   "name": "python3"
  },
  "language_info": {
   "codemirror_mode": {
    "name": "ipython",
    "version": 3
   },
   "file_extension": ".py",
   "mimetype": "text/x-python",
   "name": "python",
   "nbconvert_exporter": "python",
   "pygments_lexer": "ipython3",
   "version": "3.6.13"
  }
 },
 "nbformat": 4,
 "nbformat_minor": 5
}
