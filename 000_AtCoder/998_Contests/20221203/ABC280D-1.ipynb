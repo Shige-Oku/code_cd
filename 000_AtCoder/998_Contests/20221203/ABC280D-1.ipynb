{
 "cells": [
  {
   "cell_type": "code",
   "execution_count": 1,
   "id": "9963655b-fff3-455f-a0c4-6adac4eb69d1",
   "metadata": {},
   "outputs": [],
   "source": [
    "import sys\n",
    "import numpy as np\n",
    "import math\n",
    "import collections\n",
    "import copy\n",
    "import decimal\n",
    "import itertools\n",
    "import re\n",
    "import bisect\n",
    "import scipy\n",
    "import heapq\n",
    "from collections import deque \n",
    "from functools import reduce\n",
    "from itertools import product\n",
    "from itertools import combinations\n",
    "from functools import lru_cache\n",
    "from scipy.special import comb\n",
    "from numba import njit\n",
    "from bisect import bisect_right\n",
    "from bisect import bisect_left"
   ]
  },
  {
   "cell_type": "code",
   "execution_count": 143,
   "id": "156473d7-a5e2-45d1-92cc-27391589c22c",
   "metadata": {},
   "outputs": [
    {
     "name": "stdin",
     "output_type": "stream",
     "text": [
      " 12\n"
     ]
    }
   ],
   "source": [
    "K = int(input())"
   ]
  },
  {
   "cell_type": "code",
   "execution_count": 144,
   "id": "e07d8154-e99f-4fa8-aade-320a80ab406a",
   "metadata": {},
   "outputs": [],
   "source": [
    "# 素因数分解\n",
    "from collections import defaultdict\n",
    "def factorization(n):\n",
    "    arr = {}\n",
    "    temp = n\n",
    "    for i in range(2, int(-(-n**0.5//1))+1):\n",
    "        if temp%i==0:\n",
    "            cnt=0\n",
    "            while temp%i==0:\n",
    "                cnt+=1\n",
    "                temp //= i\n",
    "            arr[i] = cnt\n",
    "\n",
    "    if temp != 1:\n",
    "        if temp in arr:\n",
    "            arr[temp] += 1\n",
    "        else:\n",
    "            arr[temp] = 1\n",
    "\n",
    "    if len(arr) == 0:\n",
    "        arr[n] = 1\n",
    "\n",
    "    return arr"
   ]
  },
  {
   "cell_type": "code",
   "execution_count": 185,
   "id": "08d1bd86-17d8-4d4f-9576-b61e78be5767",
   "metadata": {},
   "outputs": [],
   "source": [
    "def solve(n):\n",
    "    ans = []\n",
    "    fa = factorization(n)\n",
    "    for k, v in fa.items():\n",
    "        n = 0\n",
    "        while v > 0:\n",
    "            n += k\n",
    "            x = n\n",
    "            while x % k == 0:\n",
    "                v -= 1\n",
    "                x //= k\n",
    "        ans.append(n)\n",
    "    return max(ans)"
   ]
  },
  {
   "cell_type": "code",
   "execution_count": 186,
   "id": "af6c3fc6-f064-43d4-b1f7-dcf3d7278a0d",
   "metadata": {},
   "outputs": [
    {
     "name": "stdout",
     "output_type": "stream",
     "text": [
      "4\n"
     ]
    }
   ],
   "source": [
    "print(solve(K))"
   ]
  },
  {
   "cell_type": "code",
   "execution_count": 176,
   "id": "cd90985b-3d59-4e1b-8cf7-2d3e3b255dec",
   "metadata": {},
   "outputs": [
    {
     "data": {
      "text/plain": [
       "(4, 2)"
      ]
     },
     "execution_count": 176,
     "metadata": {},
     "output_type": "execute_result"
    }
   ],
   "source": [
    "solve(2), so(2)"
   ]
  },
  {
   "cell_type": "code",
   "execution_count": 128,
   "id": "3434ac89-0cfd-45ca-a32f-b89d024ea461",
   "metadata": {},
   "outputs": [],
   "source": [
    "def solve(n):\n",
    "    ar = factorization(n)\n",
    "    m = 0\n",
    "    for i in range(2, max(int(n**.5)+2, min(n+1, 10**6))):\n",
    "        ar2 = factorization(i)\n",
    "        for k, v in ar2.items():\n",
    "            if k not in ar:\n",
    "                continue\n",
    "            if ar[k] == 0:\n",
    "                continue\n",
    "            ar[k] = max(0, ar[k]-ar2[k])\n",
    "            m = max(m, i)\n",
    "    ret = 1\n",
    "    for k, v in ar.items():\n",
    "        if v == 0:\n",
    "            continue\n",
    "        ret = k\n",
    "    if ret == 1:\n",
    "        return m\n",
    "    else:\n",
    "        return ret"
   ]
  },
  {
   "cell_type": "code",
   "execution_count": 129,
   "id": "66ec0973-066a-4626-9c30-d0ef08f8082d",
   "metadata": {},
   "outputs": [
    {
     "name": "stdout",
     "output_type": "stream",
     "text": [
      "5\n"
     ]
    }
   ],
   "source": [
    "print(solve(K))"
   ]
  },
  {
   "cell_type": "code",
   "execution_count": 180,
   "id": "582e9083-37af-42d3-97fc-4ada08226457",
   "metadata": {},
   "outputs": [
    {
     "data": {
      "text/plain": [
       "(6, 9)"
      ]
     },
     "execution_count": 180,
     "metadata": {},
     "output_type": "execute_result"
    }
   ],
   "source": [
    "solve(27), so(27)"
   ]
  },
  {
   "cell_type": "code",
   "execution_count": 120,
   "id": "892de78e-3864-4e1a-9121-d252ded0a9fe",
   "metadata": {},
   "outputs": [],
   "source": [
    "def so(n):\n",
    "    num = 1\n",
    "    for i in range(1, 1000):\n",
    "        num *= i\n",
    "        if num % n == 0:\n",
    "            return i"
   ]
  },
  {
   "cell_type": "code",
   "execution_count": 187,
   "id": "f6895b90-e80b-48e9-b5b2-99c7a43d1d3c",
   "metadata": {},
   "outputs": [],
   "source": [
    "for i in range(2, 100):\n",
    "    if solve(i) != so(i):\n",
    "        print(i)\n",
    "        break"
   ]
  },
  {
   "cell_type": "code",
   "execution_count": 73,
   "id": "1f0b71f8-b353-4d16-aff6-af3a2525f2ef",
   "metadata": {},
   "outputs": [],
   "source": [
    "def solve(n):\n",
    "    cnt = n\n",
    "    w = []\n",
    "    for i in range(int(K**.5)+2, 1, -1):\n",
    "        if cnt % i == 0:\n",
    "            w.append(i)\n",
    "            cnt //= i\n",
    "    else:\n",
    "        w.append(cnt)\n",
    "    return max(w)"
   ]
  },
  {
   "cell_type": "code",
   "execution_count": 153,
   "id": "90114ec2-0b65-44c6-bd2b-ef8c0c6a63dd",
   "metadata": {},
   "outputs": [
    {
     "data": {
      "text/plain": [
       "(2, 4)"
      ]
     },
     "execution_count": 153,
     "metadata": {},
     "output_type": "execute_result"
    }
   ],
   "source": [
    "solve(4), so(4)"
   ]
  },
  {
   "cell_type": "code",
   "execution_count": 86,
   "id": "b727755a-598d-4cec-bc0a-ce420f859781",
   "metadata": {},
   "outputs": [
    {
     "data": {
      "text/plain": [
       "defaultdict(int, {2: 2, 3: 1})"
      ]
     },
     "execution_count": 86,
     "metadata": {},
     "output_type": "execute_result"
    }
   ],
   "source": [
    "factorization(12)"
   ]
  },
  {
   "cell_type": "code",
   "execution_count": 15,
   "id": "c3dbb36c-2a23-40bf-866b-01cd0c6cb850",
   "metadata": {},
   "outputs": [
    {
     "ename": "KeyboardInterrupt",
     "evalue": "",
     "output_type": "error",
     "traceback": [
      "\u001b[1;31m---------------------------------------------------------------------------\u001b[0m",
      "\u001b[1;31mKeyboardInterrupt\u001b[0m                         Traceback (most recent call last)",
      "\u001b[1;32m<ipython-input-15-201975ded4e8>\u001b[0m in \u001b[0;36m<module>\u001b[1;34m\u001b[0m\n\u001b[0;32m      1\u001b[0m \u001b[0mcnt\u001b[0m \u001b[1;33m=\u001b[0m \u001b[1;36m1\u001b[0m\u001b[1;33m\u001b[0m\u001b[1;33m\u001b[0m\u001b[0m\n\u001b[0;32m      2\u001b[0m \u001b[0mflg\u001b[0m \u001b[1;33m=\u001b[0m \u001b[1;32mFalse\u001b[0m\u001b[1;33m\u001b[0m\u001b[1;33m\u001b[0m\u001b[0m\n\u001b[1;32m----> 3\u001b[1;33m \u001b[1;32mfor\u001b[0m \u001b[0mans\u001b[0m \u001b[1;32min\u001b[0m \u001b[0mrange\u001b[0m\u001b[1;33m(\u001b[0m\u001b[1;36m1\u001b[0m\u001b[1;33m,\u001b[0m \u001b[0mint\u001b[0m\u001b[1;33m(\u001b[0m\u001b[0mK\u001b[0m\u001b[1;33m**\u001b[0m\u001b[1;36m.5\u001b[0m\u001b[1;33m)\u001b[0m\u001b[1;33m+\u001b[0m\u001b[1;36m2\u001b[0m\u001b[1;33m)\u001b[0m\u001b[1;33m:\u001b[0m\u001b[1;33m\u001b[0m\u001b[1;33m\u001b[0m\u001b[0m\n\u001b[0m\u001b[0;32m      4\u001b[0m     \u001b[0mcnt\u001b[0m \u001b[1;33m*=\u001b[0m \u001b[0mans\u001b[0m\u001b[1;33m\u001b[0m\u001b[1;33m\u001b[0m\u001b[0m\n\u001b[0;32m      5\u001b[0m     \u001b[1;32mif\u001b[0m \u001b[0mcnt\u001b[0m \u001b[1;33m%\u001b[0m \u001b[0mK\u001b[0m \u001b[1;33m==\u001b[0m \u001b[1;36m0\u001b[0m\u001b[1;33m:\u001b[0m\u001b[1;33m\u001b[0m\u001b[1;33m\u001b[0m\u001b[0m\n",
      "\u001b[1;31mKeyboardInterrupt\u001b[0m: "
     ]
    }
   ],
   "source": [
    "cnt = 1\n",
    "flg = False\n",
    "for ans in range(1, int(K**.5)+2):\n",
    "    cnt *= ans\n",
    "    if cnt % K == 0:\n",
    "        flg = True\n",
    "        break\n"
   ]
  },
  {
   "cell_type": "code",
   "execution_count": null,
   "id": "ec6d6466-08a0-437e-8644-86397b5571a8",
   "metadata": {},
   "outputs": [],
   "source": [
    "if flg:\n",
    "    print(ans)\n",
    "else:\n",
    "    print(K)"
   ]
  },
  {
   "cell_type": "code",
   "execution_count": 9,
   "id": "804ef361-a106-4dd7-bc25-de5c3988013d",
   "metadata": {},
   "outputs": [
    {
     "data": {
      "text/plain": [
       "351364.1828800995"
      ]
     },
     "execution_count": 9,
     "metadata": {},
     "output_type": "execute_result"
    }
   ],
   "source": [
    "123456789011**.5"
   ]
  },
  {
   "cell_type": "code",
   "execution_count": 10,
   "id": "57c9ddeb-7ad8-4b08-a70c-01fe52b5c7c2",
   "metadata": {},
   "outputs": [
    {
     "data": {
      "text/plain": [
       "123457363225"
      ]
     },
     "execution_count": 10,
     "metadata": {},
     "output_type": "execute_result"
    }
   ],
   "source": [
    "351365**2"
   ]
  },
  {
   "cell_type": "code",
   "execution_count": null,
   "id": "249aac32-2b46-4763-b6db-7fdebba47d4b",
   "metadata": {},
   "outputs": [],
   "source": []
  }
 ],
 "metadata": {
  "kernelspec": {
   "display_name": "Python 3",
   "language": "python",
   "name": "python3"
  },
  "language_info": {
   "codemirror_mode": {
    "name": "ipython",
    "version": 3
   },
   "file_extension": ".py",
   "mimetype": "text/x-python",
   "name": "python",
   "nbconvert_exporter": "python",
   "pygments_lexer": "ipython3",
   "version": "3.6.13"
  }
 },
 "nbformat": 4,
 "nbformat_minor": 5
}
