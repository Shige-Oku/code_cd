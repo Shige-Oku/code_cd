{
 "cells": [
  {
   "cell_type": "code",
   "execution_count": null,
   "metadata": {},
   "outputs": [],
   "source": [
    "# 後で実相"
   ]
  },
  {
   "cell_type": "code",
   "execution_count": 2,
   "metadata": {},
   "outputs": [],
   "source": [
    "import sys\n",
    "import numpy as np\n",
    "import math\n",
    "import collections\n",
    "import copy\n",
    "import decimal\n",
    "from collections import deque \n",
    "from functools import reduce\n",
    "from itertools import product\n",
    "from itertools import combinations"
   ]
  },
  {
   "cell_type": "code",
   "execution_count": 3,
   "metadata": {},
   "outputs": [
    {
     "name": "stdin",
     "output_type": "stream",
     "text": [
      " 1234\n"
     ]
    }
   ],
   "source": [
    "S = input()"
   ]
  },
  {
   "cell_type": "code",
   "execution_count": 6,
   "metadata": {},
   "outputs": [],
   "source": [
    "SS = \"\"\n",
    "f2n = True\n",
    "num_count = [0 for _ in range(9)]\n",
    "for s in S:\n",
    "    s_num = int(s)\n",
    "    num_count[s_num-1] += 1\n",
    "    if num_count[s_num-1] > 3:\n",
    "        continue\n",
    "    if s_num % 2 == 0:\n",
    "        f2n = False\n",
    "        SS = s + SS\n",
    "    else:\n",
    "        SS = SS + s"
   ]
  },
  {
   "cell_type": "code",
   "execution_count": 7,
   "metadata": {},
   "outputs": [
    {
     "data": {
      "text/plain": [
       "('4213', False)"
      ]
     },
     "execution_count": 7,
     "metadata": {},
     "output_type": "execute_result"
    }
   ],
   "source": [
    "SS, f2n"
   ]
  },
  {
   "cell_type": "code",
   "execution_count": 8,
   "metadata": {},
   "outputs": [
    {
     "name": "stdout",
     "output_type": "stream",
     "text": [
      "Yes\n"
     ]
    }
   ],
   "source": [
    "if len(S) == 1:\n",
    "    if int(S) % 8 == 0:\n",
    "        print(\"Yes\")\n",
    "    else:\n",
    "        print(\"No\")\n",
    "elif len(S) == 2:\n",
    "    if (int(S[0]) * 10 + int(S[1])) % 8 == 0 or \\\n",
    "       (int(S[1]) * 10 + int(S[0])) % 8 == 0:\n",
    "        print(\"Yes\")\n",
    "    else:\n",
    "        print(\"No\")\n",
    "else:\n",
    "    if f2n:\n",
    "        print(\"No\")\n",
    "\n",
    "    else:\n",
    "        for x, y, z in combinations(SS, 3):\n",
    "            if (int(x)*100 + int(y)*10 + int(z) ) % 8 == 0:\n",
    "                print(\"Yes\")\n",
    "                break\n",
    "            if (int(x)*100 + int(z)*10 + int(y) ) % 8 == 0:\n",
    "                print(\"Yes\")\n",
    "                break       \n",
    "            if (int(y)*100 + int(x)*10 + int(z) ) % 8 == 0:\n",
    "                print(\"Yes\")\n",
    "                break\n",
    "            if (int(y)*100 + int(z)*10 + int(x) ) % 8 == 0:\n",
    "                print(\"Yes\")\n",
    "                break\n",
    "            if (int(z)*100 + int(x)*10 + int(y) ) % 8 == 0:\n",
    "                print(\"Yes\")\n",
    "                break\n",
    "            if (int(z)*100 + int(y)*10 + int(x) ) % 8 == 0:\n",
    "                print(\"Yes\")\n",
    "                break\n",
    "        else:\n",
    "            print(\"No\")"
   ]
  },
  {
   "cell_type": "code",
   "execution_count": null,
   "metadata": {},
   "outputs": [],
   "source": [
    "for x, y, z in combinations(S, 3):\n",
    "    if (int(x)*100 + int(y)*10 + int(z) ) % 8 == 0:\n",
    "        print(\"Yes\")\n",
    "        break\n",
    "    if (int(x)*100 + int(z)*10 + int(y) ) % 8 == 0:\n",
    "        print(\"Yes\")\n",
    "        break       \n",
    "    if (int(y)*100 + int(x)*10 + int(z) ) % 8 == 0:\n",
    "        print(\"Yes\")\n",
    "        break\n",
    "    if (int(y)*100 + int(z)*10 + int(x) ) % 8 == 0:\n",
    "        print(\"Yes\")\n",
    "        break\n",
    "    if (int(z)*100 + int(x)*10 + int(y) ) % 8 == 0:\n",
    "        print(\"Yes\")\n",
    "        break\n",
    "    if (int(z)*100 + int(y)*10 + int(x) ) % 8 == 0:\n",
    "        print(\"Yes\")\n",
    "        break\n",
    "else:\n",
    "    print(\"No\")"
   ]
  },
  {
   "cell_type": "code",
   "execution_count": null,
   "metadata": {},
   "outputs": [],
   "source": [
    "for a, b, c in combinations(S, 3):\n",
    "    print(a, b, c)"
   ]
  },
  {
   "cell_type": "code",
   "execution_count": null,
   "metadata": {},
   "outputs": [],
   "source": [
    "c = collections.Counter(S)"
   ]
  },
  {
   "cell_type": "code",
   "execution_count": null,
   "metadata": {},
   "outputs": [],
   "source": [
    "c['2']"
   ]
  },
  {
   "cell_type": "code",
   "execution_count": 9,
   "metadata": {},
   "outputs": [
    {
     "data": {
      "text/plain": [
       "19683"
      ]
     },
     "execution_count": 9,
     "metadata": {},
     "output_type": "execute_result"
    }
   ],
   "source": [
    "3**9"
   ]
  },
  {
   "cell_type": "code",
   "execution_count": null,
   "metadata": {},
   "outputs": [],
   "source": []
  }
 ],
 "metadata": {
  "kernelspec": {
   "display_name": "Python 3",
   "language": "python",
   "name": "python3"
  },
  "language_info": {
   "codemirror_mode": {
    "name": "ipython",
    "version": 3
   },
   "file_extension": ".py",
   "mimetype": "text/x-python",
   "name": "python",
   "nbconvert_exporter": "python",
   "pygments_lexer": "ipython3",
   "version": "3.6.10"
  }
 },
 "nbformat": 4,
 "nbformat_minor": 4
}
