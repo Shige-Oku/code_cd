{
 "cells": [
  {
   "cell_type": "code",
   "execution_count": 1,
   "id": "437c5a53-48e3-4050-8c65-726c8b2a853e",
   "metadata": {},
   "outputs": [],
   "source": [
    "import sys\n",
    "import numpy as np\n",
    "import math\n",
    "import collections\n",
    "import copy\n",
    "import decimal\n",
    "import itertools\n",
    "import re\n",
    "import bisect\n",
    "import scipy\n",
    "import heapq\n",
    "from collections import deque \n",
    "from functools import reduce\n",
    "from itertools import product\n",
    "from itertools import combinations\n",
    "from functools import lru_cache\n",
    "from scipy.special import comb\n",
    "from numba import njit\n",
    "from bisect import bisect_right\n",
    "from bisect import bisect_left"
   ]
  },
  {
   "cell_type": "code",
   "execution_count": 35,
   "id": "8011b4de-3e67-4156-99ff-c79bbc91187e",
   "metadata": {},
   "outputs": [
    {
     "name": "stdin",
     "output_type": "stream",
     "text": [
      " 2 1\n"
     ]
    }
   ],
   "source": [
    "N, K = map(int, input().split())"
   ]
  },
  {
   "cell_type": "code",
   "execution_count": 36,
   "id": "fd7d1cb6-7819-4a73-92c9-7b76426f699e",
   "metadata": {},
   "outputs": [
    {
     "name": "stdin",
     "output_type": "stream",
     "text": [
      " 2\n"
     ]
    }
   ],
   "source": [
    "An = list(map(int, input().split()))"
   ]
  },
  {
   "cell_type": "code",
   "execution_count": 37,
   "id": "8d732a36-d562-42a5-8878-9c56c1fd9da0",
   "metadata": {},
   "outputs": [
    {
     "name": "stdin",
     "output_type": "stream",
     "text": [
      " -100000 -100000\n",
      " 100000 100000\n"
     ]
    }
   ],
   "source": [
    "XYn = [list(map(int, input().split())) for _ in range(N)]"
   ]
  },
  {
   "cell_type": "code",
   "execution_count": 52,
   "id": "80fcb095-e87c-4a0c-9ced-093e253c440a",
   "metadata": {},
   "outputs": [],
   "source": [
    "ans = 0\n",
    "for i, (x1, y1) in enumerate(XYn, 1):\n",
    "    if i in An:\n",
    "        continue\n",
    "    c = 10 ** 20\n",
    "    for A in An:\n",
    "        x2, y2 = XYn[A-1]\n",
    "        v = math.sqrt((x1-x2)**2 + (y1-y2)**2)\n",
    "        c = min(c, v)\n",
    "#     if c == 10**20:\n",
    "#         continue\n",
    "    ans = max(ans, c)"
   ]
  },
  {
   "cell_type": "code",
   "execution_count": 53,
   "id": "623c0dbe-7958-4338-8efe-521ae590c8d8",
   "metadata": {},
   "outputs": [
    {
     "name": "stdout",
     "output_type": "stream",
     "text": [
      "282842.71247461904\n"
     ]
    }
   ],
   "source": [
    "print(ans)"
   ]
  },
  {
   "cell_type": "code",
   "execution_count": 41,
   "id": "96adb82b-49a8-4653-b732-ffcd9783d082",
   "metadata": {},
   "outputs": [
    {
     "data": {
      "text/plain": [
       "(True, 100000, 100000, 100000, 100000)"
      ]
     },
     "execution_count": 41,
     "metadata": {},
     "output_type": "execute_result"
    }
   ],
   "source": [
    "c == 10**20, x1, x2, y1, y2"
   ]
  },
  {
   "cell_type": "code",
   "execution_count": 21,
   "id": "9b06356c-2910-43bd-aa83-b34b70819512",
   "metadata": {},
   "outputs": [],
   "source": [
    "ans = 0\n",
    "for A in An:\n",
    "    x1, y1 = XYn[A-1]\n",
    "    for i in range(N):\n",
    "        x2, y2 = XYn[i]\n",
    "        ans = max(ans, math.sqrt((x1-x2)**2 + (y1-y2)**2))"
   ]
  },
  {
   "cell_type": "code",
   "execution_count": 18,
   "id": "d39e04ba-ac98-45e8-81f9-bfd420d114ef",
   "metadata": {},
   "outputs": [],
   "source": [
    "XYn_sx = sorted(XYn)\n",
    "XYn_sy = sorted(XYn, key=lambda x:x[1])\n"
   ]
  },
  {
   "cell_type": "code",
   "execution_count": 24,
   "id": "1124a1ba-c36e-4147-b33a-6839e2792470",
   "metadata": {},
   "outputs": [
    {
     "name": "stdout",
     "output_type": "stream",
     "text": [
      "231722.33978190363\n"
     ]
    }
   ],
   "source": [
    "print(math.sqrt((XYn_sx[0][0]-XYn_sx[-1][0])**2 + (XYn_sy[0][1]-XYn_sy[-1][1]) ** 2))"
   ]
  },
  {
   "cell_type": "code",
   "execution_count": 22,
   "id": "bba94ccd-e07c-419d-916a-afbe25bbafce",
   "metadata": {},
   "outputs": [
    {
     "data": {
      "text/plain": [
       "([[-72739, 68805],\n",
       "  [-41515, -89802],\n",
       "  [-17683, 17993],\n",
       "  [24324, -73073],\n",
       "  [47863, 19268],\n",
       "  [58079, -57520],\n",
       "  [71049, 72103],\n",
       "  [93038, 47074]],\n",
       " [[-41515, -89802],\n",
       "  [24324, -73073],\n",
       "  [58079, -57520],\n",
       "  [-17683, 17993],\n",
       "  [47863, 19268],\n",
       "  [93038, 47074],\n",
       "  [-72739, 68805],\n",
       "  [71049, 72103]])"
      ]
     },
     "execution_count": 22,
     "metadata": {},
     "output_type": "execute_result"
    }
   ],
   "source": [
    "XYn_sx, XYn_sy"
   ]
  },
  {
   "cell_type": "code",
   "execution_count": null,
   "id": "b33bbca1-d7f9-4fef-9a3e-6a1767a1d5f4",
   "metadata": {},
   "outputs": [],
   "source": []
  }
 ],
 "metadata": {
  "kernelspec": {
   "display_name": "Python 3",
   "language": "python",
   "name": "python3"
  },
  "language_info": {
   "codemirror_mode": {
    "name": "ipython",
    "version": 3
   },
   "file_extension": ".py",
   "mimetype": "text/x-python",
   "name": "python",
   "nbconvert_exporter": "python",
   "pygments_lexer": "ipython3",
   "version": "3.6.13"
  }
 },
 "nbformat": 4,
 "nbformat_minor": 5
}
