{
 "cells": [
  {
   "cell_type": "code",
   "execution_count": 6,
   "id": "642863c8-83f4-4cc1-a0af-6536d7271e5a",
   "metadata": {},
   "outputs": [],
   "source": [
    "import sys\n",
    "import numpy as np\n",
    "import math\n",
    "import collections\n",
    "import copy\n",
    "import decimal\n",
    "import itertools\n",
    "import re\n",
    "import bisect\n",
    "import scipy\n",
    "import heapq\n",
    "from collections import deque \n",
    "from functools import reduce\n",
    "from itertools import product\n",
    "from itertools import combinations\n",
    "from functools import lru_cache\n",
    "from scipy.special import comb\n",
    "from numba import njit\n",
    "from bisect import bisect_right\n",
    "from bisect import bisect_left"
   ]
  },
  {
   "cell_type": "code",
   "execution_count": 1,
   "id": "fa77b72e-9471-4747-986d-2b5f7e6ac56b",
   "metadata": {},
   "outputs": [
    {
     "name": "stdin",
     "output_type": "stream",
     "text": [
      " 5 3\n"
     ]
    }
   ],
   "source": [
    "N, Q = map(int, input().split())"
   ]
  },
  {
   "cell_type": "code",
   "execution_count": 2,
   "id": "935ba9bd-9632-4e0f-a843-9ebef117aa7e",
   "metadata": {},
   "outputs": [
    {
     "name": "stdin",
     "output_type": "stream",
     "text": [
      "  6 11 2 5 5\n"
     ]
    }
   ],
   "source": [
    "An = list(map(int, input().split()))"
   ]
  },
  {
   "cell_type": "code",
   "execution_count": 3,
   "id": "99dd4867-ba39-4daa-bb49-1bb3746e2565",
   "metadata": {},
   "outputs": [
    {
     "name": "stdin",
     "output_type": "stream",
     "text": [
      " 5\n",
      " 20\n",
      " 0\n"
     ]
    }
   ],
   "source": [
    "Qn = [int(input()) for _ in range(Q)]"
   ]
  },
  {
   "cell_type": "code",
   "execution_count": null,
   "id": "a2ac6e86-e82e-4739-a4c0-53bc7ee558f0",
   "metadata": {},
   "outputs": [],
   "source": [
    "# コンテスト終了後にAC"
   ]
  },
  {
   "cell_type": "code",
   "execution_count": 7,
   "id": "93cf7521-1fe2-470b-8b58-ca8e899685e2",
   "metadata": {},
   "outputs": [],
   "source": [
    "An_s = sorted(An)\n",
    "An_c = [0, ]\n",
    "for A in An_s:\n",
    "    An_c.append(An_c[-1]+A)"
   ]
  },
  {
   "cell_type": "code",
   "execution_count": 8,
   "id": "241a94b6-a669-427b-ba36-dbedaecc8d8c",
   "metadata": {},
   "outputs": [
    {
     "name": "stdout",
     "output_type": "stream",
     "text": [
      "10\n",
      "71\n",
      "29\n"
     ]
    }
   ],
   "source": [
    "for q in Qn:\n",
    "    ans = 0\n",
    "    i = bisect_left(An_s, q)\n",
    "#     print(\"i=\" + str(i))\n",
    "    ans += i * q - An_c[i]\n",
    "#     print(ans)\n",
    "    i = bisect_right(An_s, q)\n",
    "#     print(\"i=\" + str(i))\n",
    "    ans += An_c[-1]-An_c[i] - ((N-i) * q)\n",
    "    print(ans)"
   ]
  },
  {
   "cell_type": "code",
   "execution_count": null,
   "id": "0e506e77-554e-48d5-8cf0-19f0dfd4f4f1",
   "metadata": {},
   "outputs": [],
   "source": []
  },
  {
   "cell_type": "code",
   "execution_count": null,
   "id": "fafad0e4-7b72-4209-91c5-0a9f7c3c90f3",
   "metadata": {},
   "outputs": [],
   "source": []
  },
  {
   "cell_type": "code",
   "execution_count": 7,
   "id": "e5603c8f-63b6-49d0-b216-11e2b2135072",
   "metadata": {},
   "outputs": [
    {
     "name": "stdout",
     "output_type": "stream",
     "text": [
      "14\n",
      "31\n",
      "29\n"
     ]
    }
   ],
   "source": [
    "t = sum(An)\n",
    "for q in Qn:\n",
    "    print(abs(q*Q-t))"
   ]
  },
  {
   "cell_type": "code",
   "execution_count": 8,
   "id": "eec5f9d5-c0c4-4fb6-bad5-02718af24a76",
   "metadata": {},
   "outputs": [
    {
     "data": {
      "text/plain": [
       "29"
      ]
     },
     "execution_count": 8,
     "metadata": {},
     "output_type": "execute_result"
    }
   ],
   "source": [
    "t"
   ]
  },
  {
   "cell_type": "code",
   "execution_count": null,
   "id": "56a46c2f-8a33-4354-bf15-ed8d9a59bd87",
   "metadata": {},
   "outputs": [],
   "source": []
  }
 ],
 "metadata": {
  "kernelspec": {
   "display_name": "Python 3",
   "language": "python",
   "name": "python3"
  },
  "language_info": {
   "codemirror_mode": {
    "name": "ipython",
    "version": 3
   },
   "file_extension": ".py",
   "mimetype": "text/x-python",
   "name": "python",
   "nbconvert_exporter": "python",
   "pygments_lexer": "ipython3",
   "version": "3.6.13"
  }
 },
 "nbformat": 4,
 "nbformat_minor": 5
}
