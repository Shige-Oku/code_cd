{
 "cells": [
  {
   "cell_type": "code",
   "execution_count": 1,
   "id": "d395e7c9-c66f-44a2-983f-6ce2ddddc5a2",
   "metadata": {},
   "outputs": [],
   "source": [
    "import sys\n",
    "import numpy as np\n",
    "import math\n",
    "import collections\n",
    "import copy\n",
    "import decimal\n",
    "import itertools\n",
    "import re\n",
    "import bisect\n",
    "import scipy\n",
    "import heapq\n",
    "import array\n",
    "from collections import deque\n",
    "from functools import reduce\n",
    "from itertools import product\n",
    "from itertools import combinations\n",
    "from itertools import chain\n",
    "from functools import lru_cache\n",
    "from scipy.special import comb\n",
    "from numba import njit\n",
    "from bisect import bisect_right\n",
    "from bisect import bisect_left"
   ]
  },
  {
   "cell_type": "code",
   "execution_count": 39,
   "id": "e829d342-35fb-49b4-9340-a3b15b09925b",
   "metadata": {},
   "outputs": [
    {
     "name": "stdin",
     "output_type": "stream",
     "text": [
      " 1 100 1\n"
     ]
    }
   ],
   "source": [
    "N, K, A = map(int, input().split())"
   ]
  },
  {
   "cell_type": "code",
   "execution_count": 40,
   "id": "bbf0ff13-e987-4c9c-a471-b06ef3ae9e0a",
   "metadata": {},
   "outputs": [],
   "source": [
    "ans = A-1\n",
    "for i in range(K):\n",
    "    if ans >= N:\n",
    "        ans = 1\n",
    "    else:\n",
    "        ans += 1"
   ]
  },
  {
   "cell_type": "code",
   "execution_count": 41,
   "id": "e3cc60a3-886f-44c3-97ee-119941e12f58",
   "metadata": {},
   "outputs": [
    {
     "name": "stdout",
     "output_type": "stream",
     "text": [
      "1\n"
     ]
    }
   ],
   "source": [
    "print(ans)"
   ]
  },
  {
   "cell_type": "code",
   "execution_count": 42,
   "id": "f435b2c3-5aa4-49d5-93b5-c9222875bd4d",
   "metadata": {},
   "outputs": [
    {
     "name": "stdout",
     "output_type": "stream",
     "text": [
      "1\n"
     ]
    }
   ],
   "source": [
    "if (A + K - 1) % N == 0:\n",
    "    print(N)\n",
    "else:\n",
    "    print((A + K - 1) % N)"
   ]
  },
  {
   "cell_type": "code",
   "execution_count": null,
   "id": "89646f58-57ac-4dd7-ac68-22a42208415e",
   "metadata": {},
   "outputs": [],
   "source": []
  }
 ],
 "metadata": {
  "kernelspec": {
   "display_name": "Python 3",
   "language": "python",
   "name": "python3"
  },
  "language_info": {
   "codemirror_mode": {
    "name": "ipython",
    "version": 3
   },
   "file_extension": ".py",
   "mimetype": "text/x-python",
   "name": "python",
   "nbconvert_exporter": "python",
   "pygments_lexer": "ipython3",
   "version": "3.6.13"
  }
 },
 "nbformat": 4,
 "nbformat_minor": 5
}
