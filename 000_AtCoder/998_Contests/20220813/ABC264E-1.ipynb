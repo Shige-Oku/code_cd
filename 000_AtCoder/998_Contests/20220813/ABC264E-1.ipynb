{
 "cells": [
  {
   "cell_type": "code",
   "execution_count": 1,
   "id": "6c68da6e-b41a-4601-847b-12817abe608e",
   "metadata": {},
   "outputs": [],
   "source": [
    "import sys\n",
    "import numpy as np\n",
    "import math\n",
    "import collections\n",
    "import copy\n",
    "import decimal\n",
    "import itertools\n",
    "import re\n",
    "import bisect\n",
    "import scipy\n",
    "import heapq\n",
    "from collections import deque \n",
    "from functools import reduce\n",
    "from itertools import product\n",
    "from itertools import combinations\n",
    "from functools import lru_cache\n",
    "from scipy.special import comb\n",
    "from numba import njit\n",
    "from bisect import bisect_right\n",
    "from bisect import bisect_left"
   ]
  },
  {
   "cell_type": "code",
   "execution_count": null,
   "id": "cf0a6533-ed7d-4986-b8f6-04e9dd13cd19",
   "metadata": {},
   "outputs": [],
   "source": [
    "# TLE"
   ]
  },
  {
   "cell_type": "code",
   "execution_count": 2,
   "id": "6df4ca05-6767-4ffb-ba3e-66a174336d04",
   "metadata": {},
   "outputs": [
    {
     "name": "stdin",
     "output_type": "stream",
     "text": [
      " 5 5 10\n"
     ]
    }
   ],
   "source": [
    "N, M, E = map(int, input().split())"
   ]
  },
  {
   "cell_type": "code",
   "execution_count": 3,
   "id": "bb875149-c84c-4849-ac17-29723541e5b8",
   "metadata": {},
   "outputs": [
    {
     "name": "stdin",
     "output_type": "stream",
     "text": [
      " 2 3\n",
      " 4 10\n",
      " 5 10\n",
      " 6 9\n",
      " 2 9\n",
      " 4 8\n",
      " 1 7\n",
      " 3 6\n",
      " 8 10\n",
      " 1 8\n"
     ]
    }
   ],
   "source": [
    "UVn = [list(map(int, input().split())) for _ in range(E)]"
   ]
  },
  {
   "cell_type": "code",
   "execution_count": 4,
   "id": "1569b51c-798e-4398-a158-9cc822acc172",
   "metadata": {},
   "outputs": [
    {
     "name": "stdin",
     "output_type": "stream",
     "text": [
      " 6\n"
     ]
    }
   ],
   "source": [
    "Q = int(input())"
   ]
  },
  {
   "cell_type": "code",
   "execution_count": 6,
   "id": "dceadbb9-969e-418a-ac27-02b608b20677",
   "metadata": {},
   "outputs": [
    {
     "name": "stdin",
     "output_type": "stream",
     "text": [
      " 3\n",
      " 5\n",
      " 8\n",
      " 10\n",
      " 2\n",
      " 7\n"
     ]
    }
   ],
   "source": [
    "Xn = [int(input()) for _ in range(Q)]"
   ]
  },
  {
   "cell_type": "code",
   "execution_count": 29,
   "id": "29e16052-9472-4cdb-a4ed-9ffc2f805833",
   "metadata": {},
   "outputs": [],
   "source": [
    "from collections import deque \n",
    "def BFS():\n",
    "    visit = [False] * (N+M+1)\n",
    "    q = deque()\n",
    "    for i in range(M, N+M+1):\n",
    "        q.append(i)\n",
    "        while q:\n",
    "            p = q.popleft()\n",
    "            for g in graph[p]:\n",
    "                if visit[g]:\n",
    "                    continue\n",
    "                visit[g] = True\n",
    "                q.append(g)\n",
    "    return sum(visit[:N])"
   ]
  },
  {
   "cell_type": "code",
   "execution_count": 30,
   "id": "70e71eb8-fd51-4953-9a72-bf31737458a7",
   "metadata": {},
   "outputs": [
    {
     "name": "stdout",
     "output_type": "stream",
     "text": [
      "2 3\n",
      "6 9\n",
      "4 8\n",
      "8 10\n"
     ]
    }
   ],
   "source": [
    "graph = [[] for _ in range(N+M+1)]\n",
    "for i, (U, V) in enumerate(UVn, 1):\n",
    "    if i in Xn:\n",
    "        continue\n",
    "    graph[U].append(V)\n",
    "    graph[V].append(U)"
   ]
  },
  {
   "cell_type": "code",
   "execution_count": 31,
   "id": "cef48e86-f22b-481a-b789-aca27bd54c57",
   "metadata": {},
   "outputs": [],
   "source": [
    "ans = []\n",
    "for x in Xn[::-1]:\n",
    "    ans.append(BFS())\n",
    "    U, V = UVn[x-1]\n",
    "    graph[U].append(V)\n",
    "    graph[V].append(U)"
   ]
  },
  {
   "cell_type": "code",
   "execution_count": 32,
   "id": "c43852d7-4afc-4ffb-9772-85a62b7be4bc",
   "metadata": {},
   "outputs": [
    {
     "name": "stdout",
     "output_type": "stream",
     "text": [
      "4\n",
      "4\n",
      "2\n",
      "2\n",
      "2\n",
      "1\n"
     ]
    }
   ],
   "source": [
    "ans = ans[::-1]\n",
    "for a in ans:\n",
    "    print(a)"
   ]
  },
  {
   "cell_type": "code",
   "execution_count": 25,
   "id": "b9c039cb-e04d-4649-b7e7-c6d8599a6589",
   "metadata": {},
   "outputs": [
    {
     "data": {
      "text/plain": [
       "[4, 4, 2, 2, 2, 1]"
      ]
     },
     "execution_count": 25,
     "metadata": {},
     "output_type": "execute_result"
    }
   ],
   "source": [
    "ans"
   ]
  },
  {
   "cell_type": "code",
   "execution_count": null,
   "id": "e185bbe0-03c6-4f1f-8530-22585c7d8b85",
   "metadata": {},
   "outputs": [],
   "source": []
  }
 ],
 "metadata": {
  "kernelspec": {
   "display_name": "Python 3",
   "language": "python",
   "name": "python3"
  },
  "language_info": {
   "codemirror_mode": {
    "name": "ipython",
    "version": 3
   },
   "file_extension": ".py",
   "mimetype": "text/x-python",
   "name": "python",
   "nbconvert_exporter": "python",
   "pygments_lexer": "ipython3",
   "version": "3.6.13"
  }
 },
 "nbformat": 4,
 "nbformat_minor": 5
}
