{
 "cells": [
  {
   "cell_type": "code",
   "execution_count": 1,
   "id": "bcba7306-7c96-461a-ad6b-910f291fe5bb",
   "metadata": {},
   "outputs": [],
   "source": [
    "import sys\n",
    "import numpy as np\n",
    "import math\n",
    "import collections\n",
    "import copy\n",
    "import decimal\n",
    "import itertools\n",
    "import re\n",
    "import bisect\n",
    "import scipy\n",
    "import heapq\n",
    "from collections import deque \n",
    "from functools import reduce\n",
    "from itertools import product\n",
    "from itertools import combinations\n",
    "from functools import lru_cache\n",
    "from scipy.special import comb\n",
    "from numba import njit\n",
    "from bisect import bisect_right\n",
    "from bisect import bisect_left"
   ]
  },
  {
   "cell_type": "code",
   "execution_count": 2,
   "id": "8432832c-9974-4b26-a739-556866d914e4",
   "metadata": {},
   "outputs": [
    {
     "name": "stdin",
     "output_type": "stream",
     "text": [
      " 5\n"
     ]
    }
   ],
   "source": [
    "N = int(input())"
   ]
  },
  {
   "cell_type": "code",
   "execution_count": 81,
   "id": "3ce20e65-d29d-4350-b412-b72979c18e99",
   "metadata": {},
   "outputs": [
    {
     "name": "stdin",
     "output_type": "stream",
     "text": [
      " 1 2 3 4 5\n"
     ]
    }
   ],
   "source": [
    "An = list(map(int, input().split()))"
   ]
  },
  {
   "cell_type": "code",
   "execution_count": 91,
   "id": "d1d9ba2c-1c21-4d96-b972-326f254e9c5e",
   "metadata": {},
   "outputs": [],
   "source": [
    "cnt = [0] * 32\n",
    "for A in An:\n",
    "    for i in range(31):\n",
    "        if A & 2**i > 0:\n",
    "            cnt[i] += 1\n"
   ]
  },
  {
   "cell_type": "code",
   "execution_count": 92,
   "id": "d09a873f-40b4-4571-aa2f-0504e17fcd6f",
   "metadata": {},
   "outputs": [],
   "source": [
    "def check(n):\n",
    "    f = 0\n",
    "    h = 0\n",
    "    for i in range(31):\n",
    "        if n & 2**i > 0:\n",
    "            if cnt[i] % 2 == 1:\n",
    "                h += 2**i\n",
    "            else:\n",
    "                f += 2**i\n",
    "#     print(n, af, bf)\n",
    "    return f - h"
   ]
  },
  {
   "cell_type": "code",
   "execution_count": 93,
   "id": "909f77de-eac0-4407-967d-8abdcac797ac",
   "metadata": {},
   "outputs": [
    {
     "name": "stdout",
     "output_type": "stream",
     "text": [
      "5 0 3\n"
     ]
    }
   ],
   "source": [
    "An_s = sorted(An, reverse=True)\n",
    "t = 0\n",
    "for A in An_s:\n",
    "    tt = check(A+t)\n",
    "    if tt < 1:\n",
    "        continue\n",
    "    print(A, t, tt)\n",
    "    t += tt\n",
    "    for i in range(31):\n",
    "        if A & 2**i > 0:\n",
    "            cnt[i] = N - cnt[i]\n",
    "#     print(cnt[:5])\n",
    "    "
   ]
  },
  {
   "cell_type": "code",
   "execution_count": 94,
   "id": "bcc5b0c0-dddb-407e-8df1-66df9ec97270",
   "metadata": {},
   "outputs": [
    {
     "name": "stdout",
     "output_type": "stream",
     "text": [
      "18\n"
     ]
    }
   ],
   "source": [
    "ans = 0\n",
    "for i in range(31):\n",
    "    ans += (2**i) * cnt[i]\n",
    "print(ans)"
   ]
  },
  {
   "cell_type": "code",
   "execution_count": 86,
   "id": "c0db2932-8405-483b-a2d1-993df1497dbb",
   "metadata": {},
   "outputs": [
    {
     "data": {
      "text/plain": [
       "[2, 2, 3, 0, 0]"
      ]
     },
     "execution_count": 86,
     "metadata": {},
     "output_type": "execute_result"
    }
   ],
   "source": [
    "cnt[:5]"
   ]
  },
  {
   "cell_type": "code",
   "execution_count": 10,
   "id": "bad0f390-c6eb-4d0e-b730-73824232dd31",
   "metadata": {},
   "outputs": [
    {
     "data": {
      "text/plain": [
       "False"
      ]
     },
     "execution_count": 10,
     "metadata": {},
     "output_type": "execute_result"
    }
   ],
   "source": [
    "1 & 1>1"
   ]
  },
  {
   "cell_type": "code",
   "execution_count": 74,
   "id": "8a5a44c8-fc21-475d-836c-b60184af5d0e",
   "metadata": {},
   "outputs": [],
   "source": [
    "def check(n):\n",
    "    bf = 0\n",
    "    af = 0\n",
    "    for i in range(31):\n",
    "        if n & 2**i > 0:\n",
    "            if cnt[i] % 2 == 1:\n",
    "                bf -= 2**i\n",
    "                af += 2**i\n",
    "            else:\n",
    "                bf += 2**i\n",
    "                af -= 2**i\n",
    "#     print(n, af, bf)\n",
    "    return af >  bf"
   ]
  },
  {
   "cell_type": "code",
   "execution_count": 20,
   "id": "e395cee6-6464-42a6-bdd3-4f832972870b",
   "metadata": {},
   "outputs": [
    {
     "data": {
      "text/plain": [
       "0"
      ]
     },
     "execution_count": 20,
     "metadata": {},
     "output_type": "execute_result"
    }
   ],
   "source": [
    "5 & 2**3"
   ]
  },
  {
   "cell_type": "code",
   "execution_count": null,
   "id": "91cf7929-a93e-4978-9ef3-774b03f98de2",
   "metadata": {},
   "outputs": [],
   "source": []
  }
 ],
 "metadata": {
  "kernelspec": {
   "display_name": "Python 3",
   "language": "python",
   "name": "python3"
  },
  "language_info": {
   "codemirror_mode": {
    "name": "ipython",
    "version": 3
   },
   "file_extension": ".py",
   "mimetype": "text/x-python",
   "name": "python",
   "nbconvert_exporter": "python",
   "pygments_lexer": "ipython3",
   "version": "3.6.13"
  }
 },
 "nbformat": 4,
 "nbformat_minor": 5
}
