{
 "cells": [
  {
   "cell_type": "code",
   "execution_count": 1,
   "metadata": {},
   "outputs": [],
   "source": [
    "import sys\n",
    "import numpy as np\n",
    "import math\n",
    "import collections\n",
    "import copy\n",
    "import decimal\n",
    "import itertools\n",
    "import re\n",
    "import bisect\n",
    "import scipy\n",
    "from collections import deque \n",
    "from functools import reduce\n",
    "from itertools import product\n",
    "from itertools import combinations\n",
    "from functools import lru_cache\n",
    "from scipy.special import comb\n",
    "from numba import njit, jit\n",
    "from bisect import bisect_right\n",
    "from bisect import bisect_left"
   ]
  },
  {
   "cell_type": "code",
   "execution_count": 130,
   "metadata": {},
   "outputs": [
    {
     "name": "stdin",
     "output_type": "stream",
     "text": [
      " 1000000000\n"
     ]
    }
   ],
   "source": [
    "N = input()"
   ]
  },
  {
   "cell_type": "code",
   "execution_count": null,
   "metadata": {},
   "outputs": [],
   "source": []
  },
  {
   "cell_type": "code",
   "execution_count": 131,
   "metadata": {},
   "outputs": [
    {
     "name": "stdout",
     "output_type": "stream",
     "text": [
      "9999\n"
     ]
    }
   ],
   "source": [
    "cnt = 10**(math.ceil(len(N)/2)-1)-1\n",
    "if len(N) % 2 == 0:\n",
    "    a = min(int(N[:len(N)//2]), int(N[len(N)//2:]))\n",
    "#     a = min(int(N[:len(N)//2]), max(int(N[len(N)//2:]), 10**(len(N)//2-1))) + 1\n",
    "else:\n",
    "    a = 0\n",
    "print(int(max(cnt, a)))"
   ]
  },
  {
   "cell_type": "code",
   "execution_count": 123,
   "metadata": {},
   "outputs": [
    {
     "data": {
      "text/plain": [
       "(999, 1000, '10001000')"
      ]
     },
     "execution_count": 123,
     "metadata": {},
     "output_type": "execute_result"
    }
   ],
   "source": [
    "cnt, a, N"
   ]
  },
  {
   "cell_type": "code",
   "execution_count": null,
   "metadata": {},
   "outputs": [],
   "source": [
    "min(int(N[:len(N)//2]), int(N[len(N)//2]))"
   ]
  },
  {
   "cell_type": "code",
   "execution_count": 13,
   "metadata": {},
   "outputs": [
    {
     "name": "stdout",
     "output_type": "stream",
     "text": [
      "10000000\n",
      "0\n"
     ]
    }
   ],
   "source": [
    "if len(N) < 3:\n",
    "    print(int(N)//11)\n",
    "elif len(N) < 5:\n",
    "    n = 9 + min(int(N[:2]), int(N[2:])) - 10 + 1\n",
    "    print(n)\n",
    "elif len(N) < 7:\n",
    "    n = 9 + 90 + min(int(N[:3]), int(N[3:])) - 100 + 1\n",
    "    print(n)\n",
    "elif len(N) < 9:\n",
    "    print(N)\n",
    "    n = 9 + 990 + min(int(N[:4]), int(N[4:])) - 1000 + 1\n",
    "    print(n)\n",
    "elif len(N) < 11:\n",
    "    n = 9 + 9990 + min(int(N[:5]), int(N[5:])) - 10000 + 1\n",
    "    print(n)\n",
    "else :\n",
    "    n = 9 + 99990 + min(int(N[:6]), int(N[6:])) - 100000 + 1\n",
    "    print(n)\n"
   ]
  },
  {
   "cell_type": "code",
   "execution_count": null,
   "metadata": {},
   "outputs": [],
   "source": []
  }
 ],
 "metadata": {
  "kernelspec": {
   "display_name": "Python 3",
   "language": "python",
   "name": "python3"
  },
  "language_info": {
   "codemirror_mode": {
    "name": "ipython",
    "version": 3
   },
   "file_extension": ".py",
   "mimetype": "text/x-python",
   "name": "python",
   "nbconvert_exporter": "python",
   "pygments_lexer": "ipython3",
   "version": "3.6.10"
  }
 },
 "nbformat": 4,
 "nbformat_minor": 4
}
