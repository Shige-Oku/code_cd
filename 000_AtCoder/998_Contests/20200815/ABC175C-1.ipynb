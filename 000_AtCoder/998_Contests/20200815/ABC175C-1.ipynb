{
 "cells": [
  {
   "cell_type": "code",
   "execution_count": 1,
   "metadata": {},
   "outputs": [],
   "source": [
    "import sys\n",
    "import numpy as np\n",
    "import math\n",
    "import collections\n",
    "import copy\n",
    "import decimal\n",
    "from collections import deque \n",
    "from functools import reduce\n",
    "from itertools import product\n",
    "from itertools import combinations\n",
    "\n",
    "# input = sys.stdin.readline"
   ]
  },
  {
   "cell_type": "code",
   "execution_count": 40,
   "metadata": {},
   "outputs": [
    {
     "name": "stdin",
     "output_type": "stream",
     "text": [
      " 0 3 3\n"
     ]
    }
   ],
   "source": [
    "Xa, K, D = map(int, input().split())"
   ]
  },
  {
   "cell_type": "code",
   "execution_count": 41,
   "metadata": {},
   "outputs": [],
   "source": [
    "X = abs(Xa)"
   ]
  },
  {
   "cell_type": "code",
   "execution_count": 42,
   "metadata": {},
   "outputs": [],
   "source": [
    "Xs = X // D\n",
    "Xm = X % D"
   ]
  },
  {
   "cell_type": "code",
   "execution_count": 43,
   "metadata": {},
   "outputs": [
    {
     "name": "stdout",
     "output_type": "stream",
     "text": [
      "3\n"
     ]
    }
   ],
   "source": [
    "if K < Xs:\n",
    "#     print(\"A\")\n",
    "    print(abs(X-K*D))\n",
    "elif Xa == 0:\n",
    "    if K % 2 == 0:\n",
    "        print(0)\n",
    "    else:\n",
    "        print(D)\n",
    "elif Xm == 0:\n",
    "    if K % 2 == 0:\n",
    "        print(D)\n",
    "    else:\n",
    "        print(0)\n",
    "elif ((K-Xs) % 2 == 0):\n",
    "    print(abs(Xm))\n",
    "else:\n",
    "    print(abs(D-Xm))\n",
    "# else:\n",
    "# #     print(abs(D-K))\n",
    "#     if ((K-Xs) % 2 == 0):\n",
    "#         print(abs(D-K))\n",
    "#     else:\n",
    "#         print(abs(D-Xm))\n"
   ]
  },
  {
   "cell_type": "code",
   "execution_count": null,
   "metadata": {},
   "outputs": [],
   "source": []
  },
  {
   "cell_type": "code",
   "execution_count": null,
   "metadata": {},
   "outputs": [],
   "source": []
  }
 ],
 "metadata": {
  "kernelspec": {
   "display_name": "Python 3",
   "language": "python",
   "name": "python3"
  },
  "language_info": {
   "codemirror_mode": {
    "name": "ipython",
    "version": 3
   },
   "file_extension": ".py",
   "mimetype": "text/x-python",
   "name": "python",
   "nbconvert_exporter": "python",
   "pygments_lexer": "ipython3",
   "version": "3.6.10"
  }
 },
 "nbformat": 4,
 "nbformat_minor": 4
}
