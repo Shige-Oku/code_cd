{
 "cells": [
  {
   "cell_type": "code",
   "execution_count": 1,
   "id": "44a600f0-c870-47b6-bbd0-be8f530b6d07",
   "metadata": {},
   "outputs": [],
   "source": [
    "import sys\n",
    "import numpy as np\n",
    "import math\n",
    "import collections\n",
    "import copy\n",
    "import decimal\n",
    "import itertools\n",
    "import re\n",
    "import bisect\n",
    "import scipy\n",
    "import heapq\n",
    "import array\n",
    "from collections import deque\n",
    "from functools import reduce\n",
    "from itertools import product\n",
    "from itertools import combinations\n",
    "from itertools import chain\n",
    "from functools import lru_cache\n",
    "from scipy.special import comb\n",
    "from numba import njit\n",
    "from bisect import bisect_right\n",
    "from bisect import bisect_left"
   ]
  },
  {
   "cell_type": "code",
   "execution_count": 20,
   "id": "4c19d1ed-4afd-48c4-a6f2-4b15128a920c",
   "metadata": {},
   "outputs": [
    {
     "name": "stdin",
     "output_type": "stream",
     "text": [
      " 4 13\n"
     ]
    }
   ],
   "source": [
    "L, R = map(int, input().split())"
   ]
  },
  {
   "cell_type": "code",
   "execution_count": 21,
   "id": "1d72a0b6-07d0-4966-abae-9197101578ee",
   "metadata": {},
   "outputs": [
    {
     "name": "stdin",
     "output_type": "stream",
     "text": [
      " merrychristmas\n"
     ]
    }
   ],
   "source": [
    "S = input()"
   ]
  },
  {
   "cell_type": "code",
   "execution_count": 22,
   "id": "0bae1426-9841-4716-a562-1dbbc83ae663",
   "metadata": {},
   "outputs": [
    {
     "name": "stdout",
     "output_type": "stream",
     "text": [
      "meramtsirhcyrs\n"
     ]
    }
   ],
   "source": [
    "print(S[:L-1] + S[L-1:R][::-1] + S[R:])"
   ]
  },
  {
   "cell_type": "code",
   "execution_count": 23,
   "id": "7df711ea-e99e-4074-9d27-01ed8358122f",
   "metadata": {},
   "outputs": [
    {
     "data": {
      "text/plain": [
       "'mer'"
      ]
     },
     "execution_count": 23,
     "metadata": {},
     "output_type": "execute_result"
    }
   ],
   "source": [
    "S[:L-1]"
   ]
  },
  {
   "cell_type": "code",
   "execution_count": 15,
   "id": "996e0627-bda4-4a10-be12-18219cace294",
   "metadata": {},
   "outputs": [
    {
     "data": {
      "text/plain": [
       "'gfedc'"
      ]
     },
     "execution_count": 15,
     "metadata": {},
     "output_type": "execute_result"
    }
   ],
   "source": [
    "S[L-1:R][::-1]"
   ]
  },
  {
   "cell_type": "code",
   "execution_count": 14,
   "id": "6d0b5a2a-16ec-4f43-8fe5-7b60eb4a314d",
   "metadata": {},
   "outputs": [
    {
     "data": {
      "text/plain": [
       "'defgh'"
      ]
     },
     "execution_count": 14,
     "metadata": {},
     "output_type": "execute_result"
    }
   ],
   "source": [
    "S[L:R+1]"
   ]
  },
  {
   "cell_type": "code",
   "execution_count": null,
   "id": "605d6c2e-7293-4fd2-be53-96db6a9f1813",
   "metadata": {},
   "outputs": [],
   "source": []
  }
 ],
 "metadata": {
  "kernelspec": {
   "display_name": "Python 3",
   "language": "python",
   "name": "python3"
  },
  "language_info": {
   "codemirror_mode": {
    "name": "ipython",
    "version": 3
   },
   "file_extension": ".py",
   "mimetype": "text/x-python",
   "name": "python",
   "nbconvert_exporter": "python",
   "pygments_lexer": "ipython3",
   "version": "3.6.13"
  }
 },
 "nbformat": 4,
 "nbformat_minor": 5
}
