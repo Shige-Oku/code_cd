{
 "cells": [
  {
   "cell_type": "code",
   "execution_count": 1,
   "id": "cb0b981c-4e29-4354-9ffa-e7c9d83de199",
   "metadata": {},
   "outputs": [],
   "source": [
    "import sys\n",
    "import numpy as np\n",
    "import math\n",
    "import collections\n",
    "import copy\n",
    "import decimal\n",
    "import itertools\n",
    "import re\n",
    "import bisect\n",
    "import scipy\n",
    "import heapq\n",
    "import array\n",
    "from collections import deque\n",
    "from functools import reduce\n",
    "from itertools import product\n",
    "from itertools import combinations\n",
    "from itertools import chain\n",
    "from functools import lru_cache\n",
    "from scipy.special import comb\n",
    "from numba import njit\n",
    "from bisect import bisect_right\n",
    "from bisect import bisect_left"
   ]
  },
  {
   "cell_type": "code",
   "execution_count": 3,
   "id": "dc84d36a-144f-4cf5-a93e-1d750348e0de",
   "metadata": {},
   "outputs": [
    {
     "name": "stdin",
     "output_type": "stream",
     "text": [
      " 2 40\n"
     ]
    }
   ],
   "source": [
    "N, X = map(int, input().split())"
   ]
  },
  {
   "cell_type": "code",
   "execution_count": 4,
   "id": "2de9c01b-e829-40ab-b4c1-3bf1a27395d4",
   "metadata": {},
   "outputs": [
    {
     "name": "stdin",
     "output_type": "stream",
     "text": [
      " 3 1 8 4\n",
      " 2 10 5\n"
     ]
    }
   ],
   "source": [
    "LA = [list(map(int, input().split())) for _ in range(N)]"
   ]
  },
  {
   "cell_type": "code",
   "execution_count": 8,
   "id": "3dbabe0f-f419-4239-a354-581bde53a4e4",
   "metadata": {},
   "outputs": [],
   "source": [
    "LA_s = [[] for _ in range(N)]\n",
    "for i, la in enumerate(LA):\n",
    "    LA_s[i].append(sorted(la[1:]))"
   ]
  },
  {
   "cell_type": "code",
   "execution_count": 53,
   "id": "03b6a58c-a856-4094-a946-1bf3cc921c0e",
   "metadata": {},
   "outputs": [],
   "source": [
    "def DFS(n, p):\n",
    "    ret = 0\n",
    "    if n >= N:\n",
    "        if p == X:\n",
    "            return 1\n",
    "        else:\n",
    "            return 0\n",
    "    for la in LA_s[n]:\n",
    "        for l in la:\n",
    "            if X % l != 0:\n",
    "                continue\n",
    "            if l * p > X:\n",
    "                return ret\n",
    "            ret += DFS(n+1, l*p)\n",
    "    return ret"
   ]
  },
  {
   "cell_type": "code",
   "execution_count": 54,
   "id": "64f0d1c7-df9f-460c-b414-86f1b94dd77f",
   "metadata": {},
   "outputs": [],
   "source": [
    "ans = 0\n",
    "for la in LA_s[0]:\n",
    "    for l in la:\n",
    "        if X % l != 0:\n",
    "            continue\n",
    "        ans += DFS(1, l)"
   ]
  },
  {
   "cell_type": "code",
   "execution_count": 55,
   "id": "01c893c2-60aa-4102-afef-5dd5b4fe2d6d",
   "metadata": {},
   "outputs": [
    {
     "name": "stdout",
     "output_type": "stream",
     "text": [
      "2\n"
     ]
    }
   ],
   "source": [
    "print(ans)"
   ]
  },
  {
   "cell_type": "code",
   "execution_count": 7,
   "id": "6c678094-c06c-4630-8a0f-7706277577fc",
   "metadata": {},
   "outputs": [
    {
     "data": {
      "text/plain": [
       "0"
      ]
     },
     "execution_count": 7,
     "metadata": {},
     "output_type": "execute_result"
    }
   ],
   "source": [
    "i"
   ]
  },
  {
   "cell_type": "code",
   "execution_count": 24,
   "id": "a5a4fa04-9cdf-45bc-9a35-1e030d6d62fa",
   "metadata": {},
   "outputs": [
    {
     "data": {
      "text/plain": [
       "([[[1, 4, 8]], [[5, 10]]], [[1, 4, 8]])"
      ]
     },
     "execution_count": 24,
     "metadata": {},
     "output_type": "execute_result"
    }
   ],
   "source": [
    "LA_s, LA_s[0]"
   ]
  },
  {
   "cell_type": "code",
   "execution_count": null,
   "id": "b0d61d92-cdbb-442c-b0e8-29e6b310253f",
   "metadata": {},
   "outputs": [],
   "source": []
  }
 ],
 "metadata": {
  "kernelspec": {
   "display_name": "Python 3",
   "language": "python",
   "name": "python3"
  },
  "language_info": {
   "codemirror_mode": {
    "name": "ipython",
    "version": 3
   },
   "file_extension": ".py",
   "mimetype": "text/x-python",
   "name": "python",
   "nbconvert_exporter": "python",
   "pygments_lexer": "ipython3",
   "version": "3.6.13"
  }
 },
 "nbformat": 4,
 "nbformat_minor": 5
}
