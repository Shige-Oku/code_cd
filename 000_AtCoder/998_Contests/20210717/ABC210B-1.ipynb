{
 "cells": [
  {
   "cell_type": "code",
   "execution_count": 1,
   "id": "a3057a08-43e4-47c0-ae29-0008ec8439ae",
   "metadata": {},
   "outputs": [],
   "source": [
    "import sys\n",
    "import numpy as np\n",
    "import math\n",
    "import collections\n",
    "import copy\n",
    "import decimal\n",
    "import itertools\n",
    "import re\n",
    "import bisect\n",
    "import scipy\n",
    "import heapq\n",
    "from collections import deque \n",
    "from functools import reduce\n",
    "from itertools import product\n",
    "from itertools import combinations\n",
    "from itertools import chain\n",
    "from functools import lru_cache\n",
    "from scipy.special import comb\n",
    "from numba import njit\n",
    "from bisect import bisect_right\n",
    "from bisect import bisect_left"
   ]
  },
  {
   "cell_type": "code",
   "execution_count": 7,
   "id": "a02ea3d6-006a-487d-bc2c-f63d602d3cc8",
   "metadata": {},
   "outputs": [
    {
     "name": "stdin",
     "output_type": "stream",
     "text": [
      " 3\n"
     ]
    }
   ],
   "source": [
    "N = int(input())"
   ]
  },
  {
   "cell_type": "code",
   "execution_count": 8,
   "id": "df0d652b-bda0-4001-91f0-3c9444d99d08",
   "metadata": {},
   "outputs": [
    {
     "name": "stdin",
     "output_type": "stream",
     "text": [
      " 010\n"
     ]
    }
   ],
   "source": [
    "S = input()"
   ]
  },
  {
   "cell_type": "code",
   "execution_count": 9,
   "id": "b12faa46-d6ca-4c68-a6c0-7db25cbd100f",
   "metadata": {},
   "outputs": [],
   "source": [
    "t = True\n",
    "for i, s in enumerate(S):\n",
    "    if s == '0':\n",
    "        continue\n",
    "    if i % 2 == 0:\n",
    "        t = True\n",
    "    else:\n",
    "        t = False\n",
    "    break"
   ]
  },
  {
   "cell_type": "code",
   "execution_count": 10,
   "id": "854533ef-3942-4da7-bb55-37b8bb307521",
   "metadata": {},
   "outputs": [
    {
     "name": "stdout",
     "output_type": "stream",
     "text": [
      "Aoki\n"
     ]
    }
   ],
   "source": [
    "if t:\n",
    "    print('Takahashi')\n",
    "else:\n",
    "    print('Aoki')"
   ]
  },
  {
   "cell_type": "code",
   "execution_count": null,
   "id": "f2a18130-2536-48a4-b27a-3b07c1cad80b",
   "metadata": {},
   "outputs": [],
   "source": []
  }
 ],
 "metadata": {
  "kernelspec": {
   "display_name": "Python 3",
   "language": "python",
   "name": "python3"
  },
  "language_info": {
   "codemirror_mode": {
    "name": "ipython",
    "version": 3
   },
   "file_extension": ".py",
   "mimetype": "text/x-python",
   "name": "python",
   "nbconvert_exporter": "python",
   "pygments_lexer": "ipython3",
   "version": "3.6.13"
  }
 },
 "nbformat": 4,
 "nbformat_minor": 5
}
