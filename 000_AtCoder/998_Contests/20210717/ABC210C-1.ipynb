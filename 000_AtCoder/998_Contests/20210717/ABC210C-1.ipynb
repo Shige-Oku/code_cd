{
 "cells": [
  {
   "cell_type": "code",
   "execution_count": 1,
   "id": "3b0ddd38-55fe-418c-808a-1057fe8e0781",
   "metadata": {},
   "outputs": [],
   "source": [
    "import sys\n",
    "import numpy as np\n",
    "import math\n",
    "import collections\n",
    "import copy\n",
    "import decimal\n",
    "import itertools\n",
    "import re\n",
    "import bisect\n",
    "import scipy\n",
    "import heapq\n",
    "from collections import deque \n",
    "from functools import reduce\n",
    "from itertools import product\n",
    "from itertools import combinations\n",
    "from itertools import chain\n",
    "from functools import lru_cache\n",
    "from scipy.special import comb\n",
    "from numba import njit\n",
    "from bisect import bisect_right\n",
    "from bisect import bisect_left"
   ]
  },
  {
   "cell_type": "code",
   "execution_count": 50,
   "id": "ec5b11be-6659-484b-a583-05b8b236fbd2",
   "metadata": {},
   "outputs": [
    {
     "name": "stdin",
     "output_type": "stream",
     "text": [
      " 5 3\n"
     ]
    }
   ],
   "source": [
    "N, K = map(int, input().split())"
   ]
  },
  {
   "cell_type": "code",
   "execution_count": 51,
   "id": "e6ef118a-741d-4647-9fe8-c5ff0617f9fb",
   "metadata": {},
   "outputs": [
    {
     "name": "stdin",
     "output_type": "stream",
     "text": [
      " 1 2 1 2 3\n"
     ]
    }
   ],
   "source": [
    "Cn = list(map(int, input().split()))"
   ]
  },
  {
   "cell_type": "code",
   "execution_count": 52,
   "id": "889f1b58-e5e3-430b-bc0c-a0091676bf15",
   "metadata": {},
   "outputs": [],
   "source": [
    "ans = 0\n",
    "candy = {}\n",
    "for C in Cn[:K]:\n",
    "    if C in candy:\n",
    "        candy[C] += 1\n",
    "    else:\n",
    "        candy[C] = 1\n",
    "ans = len(candy)"
   ]
  },
  {
   "cell_type": "code",
   "execution_count": 56,
   "id": "71d879ec-ee17-4feb-ac6a-886dbacb8785",
   "metadata": {},
   "outputs": [],
   "source": [
    "for k, C in enumerate(Cn[K:], K):\n",
    "    candy[Cn[k-K]] -= 1\n",
    "    if candy[Cn[k-K]] == 0:\n",
    "        del candy[Cn[k-K]]\n",
    "    if C in candy:\n",
    "        candy[C] += 1\n",
    "    else:\n",
    "        candy[C] = 1\n",
    "    ans = max(ans, len(candy))"
   ]
  },
  {
   "cell_type": "code",
   "execution_count": 57,
   "id": "ad648a9d-fc6d-47b0-a77b-5675fa860993",
   "metadata": {},
   "outputs": [
    {
     "name": "stdout",
     "output_type": "stream",
     "text": [
      "3\n"
     ]
    }
   ],
   "source": [
    "print(ans)"
   ]
  },
  {
   "cell_type": "code",
   "execution_count": 55,
   "id": "5f7e0561-5d85-4a71-954f-7bea2f8a7c89",
   "metadata": {},
   "outputs": [
    {
     "data": {
      "text/plain": [
       "({1: 1, 2: 1, 3: 1}, 3)"
      ]
     },
     "execution_count": 55,
     "metadata": {},
     "output_type": "execute_result"
    }
   ],
   "source": [
    "candy, ans"
   ]
  },
  {
   "cell_type": "code",
   "execution_count": null,
   "id": "bb9f6aa9-57dc-4e2d-8b1e-b2d61bea9042",
   "metadata": {},
   "outputs": [],
   "source": []
  }
 ],
 "metadata": {
  "kernelspec": {
   "display_name": "Python 3",
   "language": "python",
   "name": "python3"
  },
  "language_info": {
   "codemirror_mode": {
    "name": "ipython",
    "version": 3
   },
   "file_extension": ".py",
   "mimetype": "text/x-python",
   "name": "python",
   "nbconvert_exporter": "python",
   "pygments_lexer": "ipython3",
   "version": "3.6.13"
  }
 },
 "nbformat": 4,
 "nbformat_minor": 5
}
