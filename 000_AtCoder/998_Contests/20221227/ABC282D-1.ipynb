{
 "cells": [
  {
   "cell_type": "code",
   "execution_count": 1,
   "id": "7a0b350b-9751-4ccb-8ba4-46b681cf0d11",
   "metadata": {},
   "outputs": [],
   "source": [
    "import sys\n",
    "import numpy as np\n",
    "import math\n",
    "import collections\n",
    "import copy\n",
    "import decimal\n",
    "import itertools\n",
    "import re\n",
    "import bisect\n",
    "import scipy\n",
    "import heapq\n",
    "from collections import deque \n",
    "from functools import reduce\n",
    "from itertools import product\n",
    "from itertools import combinations\n",
    "from functools import lru_cache\n",
    "from scipy.special import comb\n",
    "from numba import njit\n",
    "from bisect import bisect_right\n",
    "from bisect import bisect_left"
   ]
  },
  {
   "cell_type": "code",
   "execution_count": 83,
   "id": "067b3f94-89eb-405d-89da-e00adfdeb700",
   "metadata": {},
   "outputs": [
    {
     "name": "stdin",
     "output_type": "stream",
     "text": [
      " 4 3\n"
     ]
    }
   ],
   "source": [
    "N, M = map(int, input().split())"
   ]
  },
  {
   "cell_type": "code",
   "execution_count": 84,
   "id": "9a27ff3b-424a-43b8-9dc5-dfa843695349",
   "metadata": {},
   "outputs": [
    {
     "name": "stdin",
     "output_type": "stream",
     "text": [
      " 3 1\n",
      " 3 2\n",
      " 1 2\n"
     ]
    }
   ],
   "source": [
    "UVn = [list(map(int, input().split())) for _ in range(M)]"
   ]
  },
  {
   "cell_type": "code",
   "execution_count": 85,
   "id": "8235756e-f6f4-4ceb-a246-aa673545f75a",
   "metadata": {},
   "outputs": [],
   "source": [
    "graph = [[] for _ in range(N+1)]\n",
    "for U, V in UVn:\n",
    "    graph[U].append(V)\n",
    "    graph[V].append(U)"
   ]
  },
  {
   "cell_type": "code",
   "execution_count": 135,
   "id": "2b230ac1-c63d-4266-865f-a9e5a2b132cd",
   "metadata": {},
   "outputs": [],
   "source": [
    "from collections import deque\n",
    "def BFS(s):\n",
    "    global flg\n",
    "    q = deque()\n",
    "    q.append(s)\n",
    "    visit[s] = True\n",
    "    dist[s] = 0\n",
    "    e, o = 1, 0\n",
    "    while q:\n",
    "        p = q.popleft()\n",
    "        for n in graph[p]:\n",
    "            if visit[n]:\n",
    "                if dist[p] % 2 == dist[n] % 2:\n",
    "                    flg = False\n",
    "                continue\n",
    "            q.append(n)\n",
    "            visit[n] = True\n",
    "            dist[n] = dist[p] + 1\n",
    "            if dist[n] % 2 == 0:\n",
    "                e += 1\n",
    "            else:\n",
    "                o += 1\n",
    "    return e, o\n"
   ]
  },
  {
   "cell_type": "code",
   "execution_count": 136,
   "id": "fc6d1232-6934-44d7-817d-fc3c3562381c",
   "metadata": {},
   "outputs": [],
   "source": [
    "visit = [False] * (N+1)\n",
    "dist = [0] * (N+1)\n",
    "flg = True\n",
    "cnt = 0\n",
    "for i in range(1, N+1):\n",
    "    if not visit[i]:\n",
    "        e, o = BFS(i)\n",
    "        cnt += e*(e-1)//2 + o*(o-1)//2\n"
   ]
  },
  {
   "cell_type": "code",
   "execution_count": 137,
   "id": "6c05b9c7-dcc5-40ff-baac-7dfb29ec8795",
   "metadata": {},
   "outputs": [
    {
     "name": "stdout",
     "output_type": "stream",
     "text": [
      "0\n"
     ]
    }
   ],
   "source": [
    "if flg:\n",
    "    print(N*(N-1)//2 - cnt - M)\n",
    "else:\n",
    "    print(0)"
   ]
  },
  {
   "cell_type": "code",
   "execution_count": 129,
   "id": "ba701ead-57bc-4002-983d-16ca68687cd5",
   "metadata": {},
   "outputs": [
    {
     "data": {
      "text/plain": [
       "(1, 1, 0, False)"
      ]
     },
     "execution_count": 129,
     "metadata": {},
     "output_type": "execute_result"
    }
   ],
   "source": [
    "cnt, e, o, flg"
   ]
  },
  {
   "cell_type": "code",
   "execution_count": 130,
   "id": "4b8f3190-3d98-47af-9626-717bda2ce619",
   "metadata": {},
   "outputs": [
    {
     "name": "stdout",
     "output_type": "stream",
     "text": [
      "0\n"
     ]
    }
   ],
   "source": [
    "ans = 0\n",
    "t = sum(gc)\n",
    "for g1, g2 in zip(gc, gc2):\n",
    "    ans += g1 * (g1-1) // 2 - g2\n",
    "    ans += g1 * (t-g1) // 2\n",
    "print(ans)"
   ]
  },
  {
   "cell_type": "code",
   "execution_count": 99,
   "id": "2f31d5aa-0af7-4068-be8f-7b8d69761c0e",
   "metadata": {},
   "outputs": [
    {
     "data": {
      "text/plain": [
       "([[], [3, 2], [3, 1], [1, 2], []],\n",
       " [False, True, True, True, True],\n",
       " [0, 0, 1, 1, 0])"
      ]
     },
     "execution_count": 99,
     "metadata": {},
     "output_type": "execute_result"
    }
   ],
   "source": [
    "graph, visit, dist"
   ]
  },
  {
   "cell_type": "code",
   "execution_count": 60,
   "id": "aa42a38e-8784-435d-b7cb-0cd0de2e3028",
   "metadata": {},
   "outputs": [
    {
     "data": {
      "text/plain": [
       "([0, 5, 0, 0, 0, 0], [0, 4, 0, 0, 0, 0])"
      ]
     },
     "execution_count": 60,
     "metadata": {},
     "output_type": "execute_result"
    }
   ],
   "source": [
    "gc, gc2"
   ]
  },
  {
   "cell_type": "code",
   "execution_count": null,
   "id": "79679a1c-0ed7-43e3-bfa5-7d1c283783e6",
   "metadata": {},
   "outputs": [],
   "source": []
  }
 ],
 "metadata": {
  "kernelspec": {
   "display_name": "Python 3",
   "language": "python",
   "name": "python3"
  },
  "language_info": {
   "codemirror_mode": {
    "name": "ipython",
    "version": 3
   },
   "file_extension": ".py",
   "mimetype": "text/x-python",
   "name": "python",
   "nbconvert_exporter": "python",
   "pygments_lexer": "ipython3",
   "version": "3.6.13"
  }
 },
 "nbformat": 4,
 "nbformat_minor": 5
}
