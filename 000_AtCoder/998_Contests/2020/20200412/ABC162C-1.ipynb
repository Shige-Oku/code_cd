{
 "cells": [
  {
   "cell_type": "code",
   "execution_count": 55,
   "metadata": {},
   "outputs": [],
   "source": [
    "# TLE で　NG\n",
    "# メモ再帰が一番早くて 2437 ms\n",
    "#  => 毎回３つで最大公約数を求めず、\n",
    "#     最初のループで２つ分計算する。"
   ]
  },
  {
   "cell_type": "code",
   "execution_count": 1,
   "metadata": {},
   "outputs": [],
   "source": [
    "import sys\n",
    "import numpy as np\n",
    "import math\n",
    "\n",
    "from collections import deque \n",
    "from functools import reduce\n",
    "from functools import lru_cache\n",
    "\n",
    "# input = sys.stdin.readline"
   ]
  },
  {
   "cell_type": "code",
   "execution_count": 2,
   "metadata": {},
   "outputs": [
    {
     "name": "stdin",
     "output_type": "stream",
     "text": [
      " 2\n"
     ]
    }
   ],
   "source": [
    "n = int(input())"
   ]
  },
  {
   "cell_type": "code",
   "execution_count": 3,
   "metadata": {},
   "outputs": [],
   "source": [
    "def gcd_list(numbers):\n",
    "    return reduce(math.gcd, numbers)"
   ]
  },
  {
   "cell_type": "code",
   "execution_count": 4,
   "metadata": {},
   "outputs": [],
   "source": [
    "def gcd_list2(numbers):\n",
    "    if (numbers[0] == 1 or numbers[1] == 1 or numbers[2] == 1):\n",
    "        return 1\n",
    "    return reduce(math.gcd, numbers)"
   ]
  },
  {
   "cell_type": "code",
   "execution_count": 5,
   "metadata": {},
   "outputs": [],
   "source": [
    "def gcd_list3(numbers):\n",
    "    g = math.gcd(numbers[0], numbers[1])\n",
    "    return math.gcd(g, numbers[2])"
   ]
  },
  {
   "cell_type": "code",
   "execution_count": 6,
   "metadata": {},
   "outputs": [],
   "source": [
    "@lru_cache(maxsize=None)\n",
    "def gc(a, b):\n",
    "    if (a % b == 0):\n",
    "        return b\n",
    "    return(gc(b, a%b))"
   ]
  },
  {
   "cell_type": "code",
   "execution_count": 7,
   "metadata": {},
   "outputs": [],
   "source": [
    "sum = 0"
   ]
  },
  {
   "cell_type": "code",
   "execution_count": 8,
   "metadata": {},
   "outputs": [],
   "source": [
    "for i in range(1, n+1):\n",
    "    for j in range(1, n+1):\n",
    "        g = gc(i, j)\n",
    "        for k in range(1, n+1):\n",
    "#             if (i == 1 or j ==1 or k ==1):\n",
    "#                 sum += 1\n",
    "#             else:\n",
    "#                 sum += gc(gc(i, j), k)\n",
    "#             sum += np.gcd.reduce([i, j, k])\n",
    "#             if (i < j):\n",
    "#                 g = gc(i, j)\n",
    "#             else:\n",
    "#                 g = gc(j, i)\n",
    "#             if (g < k):\n",
    "#                 sum += gc(g, k)\n",
    "#             else:\n",
    "#                 sum += gc(k, g)\n",
    "            sum += gc(g, k)\n",
    "#             sum += gcd_list3([i, j, k])\n"
   ]
  },
  {
   "cell_type": "code",
   "execution_count": 9,
   "metadata": {},
   "outputs": [
    {
     "name": "stdout",
     "output_type": "stream",
     "text": [
      "9\n"
     ]
    }
   ],
   "source": [
    "print(sum)"
   ]
  },
  {
   "cell_type": "code",
   "execution_count": 24,
   "metadata": {},
   "outputs": [],
   "source": [
    "ls = [1, 3, 2]"
   ]
  },
  {
   "cell_type": "code",
   "execution_count": 25,
   "metadata": {},
   "outputs": [],
   "source": [
    "ls.sort()"
   ]
  },
  {
   "cell_type": "code",
   "execution_count": null,
   "metadata": {},
   "outputs": [],
   "source": []
  }
 ],
 "metadata": {
  "kernelspec": {
   "display_name": "Python 3",
   "language": "python",
   "name": "python3"
  },
  "language_info": {
   "codemirror_mode": {
    "name": "ipython",
    "version": 3
   },
   "file_extension": ".py",
   "mimetype": "text/x-python",
   "name": "python",
   "nbconvert_exporter": "python",
   "pygments_lexer": "ipython3",
   "version": "3.6.10"
  }
 },
 "nbformat": 4,
 "nbformat_minor": 4
}
