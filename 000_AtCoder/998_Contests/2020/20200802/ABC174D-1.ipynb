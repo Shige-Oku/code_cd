{
 "cells": [
  {
   "cell_type": "code",
   "execution_count": 1,
   "metadata": {},
   "outputs": [],
   "source": [
    "import sys\n",
    "import numpy as np\n",
    "import math\n",
    "import collections\n",
    "import copy\n",
    "from collections import deque \n",
    "from functools import reduce\n",
    "from itertools import product\n",
    "from itertools import combinations\n",
    "\n",
    "# input = sys.stdin.readline\n"
   ]
  },
  {
   "cell_type": "code",
   "execution_count": 15,
   "metadata": {},
   "outputs": [
    {
     "name": "stdin",
     "output_type": "stream",
     "text": [
      " 8\n"
     ]
    }
   ],
   "source": [
    "N = int(input())"
   ]
  },
  {
   "cell_type": "code",
   "execution_count": 16,
   "metadata": {},
   "outputs": [
    {
     "name": "stdin",
     "output_type": "stream",
     "text": [
      " WRWWRWRR\n"
     ]
    }
   ],
   "source": [
    "Cn = list(input())"
   ]
  },
  {
   "cell_type": "code",
   "execution_count": 21,
   "metadata": {},
   "outputs": [],
   "source": [
    "Cc = copy.copy(Cn)\n",
    "if (Cn[0] == \"R\"):\n",
    "    Rflg = True\n",
    "else:\n",
    "    Rflg = False\n",
    "ans = 0\n",
    "K = N-1    \n",
    "allw = False\n",
    "for i in range(N):\n",
    "    if Rflg and Cc[i] == \"R\":\n",
    "        continue\n",
    "    else:\n",
    "        Rflg = True\n",
    "    if Cc[i] == \"W\":\n",
    "        for j in range(K, i, -1):\n",
    "            if Cc[j] == \"R\":\n",
    "#                 print(\"change\")\n",
    "                ans += 1\n",
    "                Cc[i], Cc[j] = Cc[j], Cc[i]\n",
    "                K = j\n",
    "#                 print(Cc)\n",
    "                break\n",
    "        else:\n",
    "            allw = True\n",
    "\n",
    "    else:\n",
    "#         print(\"replace\")\n",
    "        ans += 1\n",
    "        Cc[i] = \"W\"\n",
    "#         print(Cc)\n",
    "    if allw:\n",
    "        break\n"
   ]
  },
  {
   "cell_type": "code",
   "execution_count": 22,
   "metadata": {},
   "outputs": [
    {
     "name": "stdout",
     "output_type": "stream",
     "text": [
      "3\n"
     ]
    }
   ],
   "source": [
    "print(ans)"
   ]
  },
  {
   "cell_type": "code",
   "execution_count": null,
   "metadata": {},
   "outputs": [],
   "source": []
  },
  {
   "cell_type": "code",
   "execution_count": null,
   "metadata": {},
   "outputs": [],
   "source": []
  }
 ],
 "metadata": {
  "kernelspec": {
   "display_name": "Python 3",
   "language": "python",
   "name": "python3"
  },
  "language_info": {
   "codemirror_mode": {
    "name": "ipython",
    "version": 3
   },
   "file_extension": ".py",
   "mimetype": "text/x-python",
   "name": "python",
   "nbconvert_exporter": "python",
   "pygments_lexer": "ipython3",
   "version": "3.6.10"
  }
 },
 "nbformat": 4,
 "nbformat_minor": 4
}
