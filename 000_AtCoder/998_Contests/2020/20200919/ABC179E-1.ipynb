{
 "cells": [
  {
   "cell_type": "code",
   "execution_count": null,
   "metadata": {},
   "outputs": [],
   "source": [
    "# 解説を読んで実装"
   ]
  },
  {
   "cell_type": "code",
   "execution_count": 1,
   "metadata": {},
   "outputs": [],
   "source": [
    "import sys\n",
    "import numpy as np\n",
    "import math\n",
    "import collections\n",
    "import copy\n",
    "import decimal\n",
    "from collections import deque \n",
    "from functools import reduce\n",
    "from itertools import product\n",
    "from itertools import combinations"
   ]
  },
  {
   "cell_type": "code",
   "execution_count": 2,
   "metadata": {},
   "outputs": [
    {
     "name": "stdin",
     "output_type": "stream",
     "text": [
      " 10000000000 10 99959\n"
     ]
    }
   ],
   "source": [
    "N, X, M = map(int, input().split())"
   ]
  },
  {
   "cell_type": "code",
   "execution_count": 3,
   "metadata": {},
   "outputs": [],
   "source": [
    "# appear = np.full(M, -1)"
   ]
  },
  {
   "cell_type": "code",
   "execution_count": 4,
   "metadata": {},
   "outputs": [],
   "source": [
    "# X^2がMより大きい場合はMで割った余り、小さければそのままを返却\n",
    "def f(X, M):\n",
    "    if X**2 >= M:\n",
    "        return X**2 % M\n",
    "    else:\n",
    "        return X**2"
   ]
  },
  {
   "cell_type": "code",
   "execution_count": 5,
   "metadata": {},
   "outputs": [],
   "source": [
    "appear = np.full(M, -1)\n",
    "seq = []\n",
    "fx = X\n",
    "appear[fx] = 0\n",
    "seq.append(fx)\n",
    "for i in range(1, N):\n",
    "    fx = f(fx, M)\n",
    "#     print(fx, appear[fx])\n",
    "    if appear[fx] != -1:\n",
    "        loop_st = appear[fx]\n",
    "        loop_en = i\n",
    "        break\n",
    "    seq.append(fx)\n",
    "    appear[fx] = i\n"
   ]
  },
  {
   "cell_type": "code",
   "execution_count": 6,
   "metadata": {},
   "outputs": [],
   "source": [
    "seq.insert(0, 0)"
   ]
  },
  {
   "cell_type": "code",
   "execution_count": 7,
   "metadata": {},
   "outputs": [],
   "source": [
    "seq_sum = np.cumsum(seq)"
   ]
  },
  {
   "cell_type": "code",
   "execution_count": 8,
   "metadata": {},
   "outputs": [],
   "source": [
    "# seq_sum[-1]"
   ]
  },
  {
   "cell_type": "code",
   "execution_count": 9,
   "metadata": {},
   "outputs": [
    {
     "name": "stdout",
     "output_type": "stream",
     "text": [
      "492443256176507\n"
     ]
    }
   ],
   "source": [
    "if N <= len(seq)-1 :\n",
    "    print(seq_sum[N])\n",
    "else:\n",
    "    # ループの前まで\n",
    "    lp_b = seq_sum[loop_st-1]\n",
    "    # ループしている個数を求める\n",
    "    loop_num = (len(seq_sum)-1) - loop_st\n",
    "    # 商はループ回数、余りはループしきらなかった分\n",
    "    qu = (N-(loop_st)) // loop_num\n",
    "    mo = (N-(loop_st)) % loop_num\n",
    "    # ループした分だけかける\n",
    "    lp_sum = (seq_sum[-1] - seq_sum[loop_st]) * qu\n",
    "    # 最後の余りの部分を加算\n",
    "    lp_en = seq_sum[loop_st+mo] - seq_sum[loop_st-1]\n",
    "    print(lp_b+lp_sum+lp_en)\n",
    "    "
   ]
  },
  {
   "cell_type": "code",
   "execution_count": 68,
   "metadata": {},
   "outputs": [
    {
     "data": {
      "text/plain": [
       "789"
      ]
     },
     "execution_count": 68,
     "metadata": {},
     "output_type": "execute_result"
    }
   ],
   "source": [
    "len(seq_sum)"
   ]
  },
  {
   "cell_type": "code",
   "execution_count": 42,
   "metadata": {},
   "outputs": [
    {
     "data": {
      "text/plain": [
       "1000"
      ]
     },
     "execution_count": 42,
     "metadata": {},
     "output_type": "execute_result"
    }
   ],
   "source": [
    "N"
   ]
  },
  {
   "cell_type": "code",
   "execution_count": 71,
   "metadata": {},
   "outputs": [
    {
     "data": {
      "text/plain": [
       "233423"
      ]
     },
     "execution_count": 71,
     "metadata": {},
     "output_type": "execute_result"
    }
   ],
   "source": [
    "( 2 + 4 + 16 + 256 + 431 ) + ( 324 + 359 + 18 ) * 331 + ( 324 + 359 )"
   ]
  },
  {
   "cell_type": "code",
   "execution_count": 81,
   "metadata": {},
   "outputs": [
    {
     "data": {
      "text/plain": [
       "240"
      ]
     },
     "execution_count": 81,
     "metadata": {},
     "output_type": "execute_result"
    }
   ],
   "source": [
    "(233423-175258) % 331"
   ]
  },
  {
   "cell_type": "code",
   "execution_count": null,
   "metadata": {},
   "outputs": [],
   "source": []
  }
 ],
 "metadata": {
  "kernelspec": {
   "display_name": "Python 3",
   "language": "python",
   "name": "python3"
  },
  "language_info": {
   "codemirror_mode": {
    "name": "ipython",
    "version": 3
   },
   "file_extension": ".py",
   "mimetype": "text/x-python",
   "name": "python",
   "nbconvert_exporter": "python",
   "pygments_lexer": "ipython3",
   "version": "3.6.10"
  }
 },
 "nbformat": 4,
 "nbformat_minor": 4
}
