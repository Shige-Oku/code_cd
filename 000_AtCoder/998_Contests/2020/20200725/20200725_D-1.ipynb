{
 "cells": [
  {
   "cell_type": "code",
   "execution_count": null,
   "metadata": {},
   "outputs": [],
   "source": [
    "# 後で実装　WA"
   ]
  },
  {
   "cell_type": "code",
   "execution_count": 1,
   "metadata": {},
   "outputs": [],
   "source": [
    "import sys\n",
    "import numpy as np\n",
    "import math\n",
    "import collections\n",
    "import copy\n",
    "from collections import deque \n",
    "from functools import reduce\n",
    "from itertools import product\n",
    "from itertools import combinations\n",
    "\n",
    "# input = sys.stdin.readline\n"
   ]
  },
  {
   "cell_type": "code",
   "execution_count": 1,
   "metadata": {},
   "outputs": [
    {
     "name": "stdin",
     "output_type": "stream",
     "text": [
      " 7\n"
     ]
    }
   ],
   "source": [
    "N = int(input())"
   ]
  },
  {
   "cell_type": "code",
   "execution_count": 2,
   "metadata": {},
   "outputs": [
    {
     "name": "stdin",
     "output_type": "stream",
     "text": [
      " 100 130 130 130 115 115 150\n"
     ]
    }
   ],
   "source": [
    "An = list(map(int, input().split()))"
   ]
  },
  {
   "cell_type": "code",
   "execution_count": 83,
   "metadata": {},
   "outputs": [],
   "source": [
    "money = 1000\n",
    "stock = 0\n",
    "price = An[0]\n",
    "uri_flg = False\n",
    "kai_flg = False"
   ]
  },
  {
   "cell_type": "code",
   "execution_count": 84,
   "metadata": {},
   "outputs": [],
   "source": [
    "for i in range(N-1):\n",
    "#     if not uri_flg:\n",
    "#         print(\"skip1\")\n",
    "#         continue\n",
    "    if uri_flg and An[i] <= An[i+1]:\n",
    "#         print(\"skip2\")\n",
    "#         print(An[i], An[i+1])\n",
    "        continue\n",
    "#     print(i, Ai, money, stock, uri_flg)\n",
    "    if An[i] < An[i+1] or kai_flg:\n",
    "#         print(\"kai\")\n",
    "        uri_flg = False\n",
    "#         stock = money // An[i]\n",
    "#         money %= An[i]\n",
    "#         price = An[i]\n",
    "    else:\n",
    "#         print(\"uri\")\n",
    "        uri_flg = True\n",
    "#         money += stock * An[i-1]\n",
    "#         stock = 0\n",
    "#         price = 0\n",
    "    if uri_flg:\n",
    "        if (An[i] > An[i+1]):\n",
    "#             print(\"uru\")\n",
    "            money += stock * An[i-1]\n",
    "            stock = 0\n",
    "            price = 0\n",
    "            kai_flg = True\n",
    "            uri_flg = False\n",
    "    else:\n",
    "        if (An[i] < An[i+1]):\n",
    "#             print(\"kau\")\n",
    "            stock = money // An[i]\n",
    "            money %= An[i]\n",
    "            price = An[i]\n",
    "            kai_flg = False\n",
    "        \n",
    "#     print(i, Ai, money, stock, uri_flg)\n"
   ]
  },
  {
   "cell_type": "code",
   "execution_count": 85,
   "metadata": {},
   "outputs": [],
   "source": [
    "if (stock > 0):\n",
    "    money += stock * An[N-1]"
   ]
  },
  {
   "cell_type": "code",
   "execution_count": 86,
   "metadata": {},
   "outputs": [
    {
     "name": "stdout",
     "output_type": "stream",
     "text": [
      "1685\n"
     ]
    }
   ],
   "source": [
    "print(money)"
   ]
  },
  {
   "cell_type": "code",
   "execution_count": 76,
   "metadata": {},
   "outputs": [
    {
     "data": {
      "text/plain": [
       "(11, 115)"
      ]
     },
     "execution_count": 76,
     "metadata": {},
     "output_type": "execute_result"
    }
   ],
   "source": [
    "stock, An[i]"
   ]
  },
  {
   "cell_type": "code",
   "execution_count": null,
   "metadata": {},
   "outputs": [],
   "source": []
  }
 ],
 "metadata": {
  "kernelspec": {
   "display_name": "Python 3",
   "language": "python",
   "name": "python3"
  },
  "language_info": {
   "codemirror_mode": {
    "name": "ipython",
    "version": 3
   },
   "file_extension": ".py",
   "mimetype": "text/x-python",
   "name": "python",
   "nbconvert_exporter": "python",
   "pygments_lexer": "ipython3",
   "version": "3.6.10"
  }
 },
 "nbformat": 4,
 "nbformat_minor": 4
}
