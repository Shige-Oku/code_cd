{
 "cells": [
  {
   "cell_type": "code",
   "execution_count": 1,
   "id": "5a212fcf-dc02-46e5-977c-686424d00bb4",
   "metadata": {},
   "outputs": [],
   "source": [
    "import sys\n",
    "import numpy as np\n",
    "import math\n",
    "import collections\n",
    "import copy\n",
    "import decimal\n",
    "import itertools\n",
    "import re\n",
    "import bisect\n",
    "import scipy\n",
    "import heapq\n",
    "from collections import deque \n",
    "from functools import reduce\n",
    "from itertools import product\n",
    "from itertools import combinations\n",
    "from functools import lru_cache\n",
    "from scipy.special import comb\n",
    "from numba import njit\n",
    "from bisect import bisect_right\n",
    "from bisect import bisect_left"
   ]
  },
  {
   "cell_type": "code",
   "execution_count": 2,
   "id": "c1487705-2650-4914-88a8-3c7ad9f3cce8",
   "metadata": {},
   "outputs": [
    {
     "name": "stdin",
     "output_type": "stream",
     "text": [
      " 0 0\n"
     ]
    }
   ],
   "source": [
    "Ax, Ay = map(int, input().split())"
   ]
  },
  {
   "cell_type": "code",
   "execution_count": 36,
   "id": "c2ce70c3-109c-47a3-8df2-9636257a11c6",
   "metadata": {},
   "outputs": [
    {
     "name": "stdin",
     "output_type": "stream",
     "text": [
      " 1 1\n"
     ]
    }
   ],
   "source": [
    "Bx, By = map(int, input().split())"
   ]
  },
  {
   "cell_type": "code",
   "execution_count": 37,
   "id": "3710b3d1-6340-4915-88ca-5cea39e80b78",
   "metadata": {},
   "outputs": [
    {
     "name": "stdin",
     "output_type": "stream",
     "text": [
      " -1 0\n"
     ]
    }
   ],
   "source": [
    "Cx, Cy = map(int, input().split())"
   ]
  },
  {
   "cell_type": "code",
   "execution_count": 38,
   "id": "cafe4f6f-ccd1-433b-a6fe-648b97861065",
   "metadata": {},
   "outputs": [
    {
     "name": "stdin",
     "output_type": "stream",
     "text": [
      " 1 -1\n"
     ]
    }
   ],
   "source": [
    "Dx, Dy = map(int, input().split())"
   ]
  },
  {
   "cell_type": "code",
   "execution_count": 39,
   "id": "475da309-8c11-410c-b624-03a07999e043",
   "metadata": {},
   "outputs": [],
   "source": [
    "def getGai(x1, y1, x2, y2, x3, y3):\n",
    "    ax, ay = x1-x2, y1-y2\n",
    "    bx, by = x3-x2, y3-y2\n",
    "    return ax*by - ay*bx"
   ]
  },
  {
   "cell_type": "code",
   "execution_count": 40,
   "id": "94e91f85-3bef-409e-bc4e-a2b286acf663",
   "metadata": {},
   "outputs": [],
   "source": [
    "ab = getGai(Dx, Dy, Ax, Ay, Bx, By)\n",
    "bc = getGai(Ax, Ay, Bx, By, Cx, Cy)\n",
    "cd = getGai(Bx, By, Cx, Cy, Dx, Dy)\n",
    "da = getGai(Cx, Cy, Dx, Dy, Ax, Ay)"
   ]
  },
  {
   "cell_type": "code",
   "execution_count": 41,
   "id": "89adb8a4-cdd8-4819-ab6c-639c33e57dca",
   "metadata": {},
   "outputs": [
    {
     "name": "stdout",
     "output_type": "stream",
     "text": [
      "No\n"
     ]
    }
   ],
   "source": [
    "if ab < 0 and bc < 0 and cd < 0 and da < 0:\n",
    "    print('Yes')\n",
    "else:\n",
    "    print('No')"
   ]
  },
  {
   "cell_type": "code",
   "execution_count": 42,
   "id": "aceae376-ff96-4d66-911a-88d5733785b3",
   "metadata": {},
   "outputs": [
    {
     "data": {
      "text/plain": [
       "(2, -1, -4, -1)"
      ]
     },
     "execution_count": 42,
     "metadata": {},
     "output_type": "execute_result"
    }
   ],
   "source": [
    "ab, bc, cd, da"
   ]
  },
  {
   "cell_type": "code",
   "execution_count": null,
   "id": "864753d2-e52f-451c-9813-3e3291877f58",
   "metadata": {},
   "outputs": [],
   "source": []
  }
 ],
 "metadata": {
  "kernelspec": {
   "display_name": "Python 3",
   "language": "python",
   "name": "python3"
  },
  "language_info": {
   "codemirror_mode": {
    "name": "ipython",
    "version": 3
   },
   "file_extension": ".py",
   "mimetype": "text/x-python",
   "name": "python",
   "nbconvert_exporter": "python",
   "pygments_lexer": "ipython3",
   "version": "3.6.13"
  }
 },
 "nbformat": 4,
 "nbformat_minor": 5
}
