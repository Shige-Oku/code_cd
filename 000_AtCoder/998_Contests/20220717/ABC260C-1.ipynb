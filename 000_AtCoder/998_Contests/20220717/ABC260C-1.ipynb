{
 "cells": [
  {
   "cell_type": "code",
   "execution_count": 1,
   "id": "3ff48898-ab23-4556-b220-3814497e9741",
   "metadata": {},
   "outputs": [],
   "source": [
    "import sys\n",
    "import numpy as np\n",
    "import math\n",
    "import collections\n",
    "import copy\n",
    "import decimal\n",
    "import itertools\n",
    "import re\n",
    "import bisect\n",
    "import scipy\n",
    "import heapq\n",
    "from collections import deque \n",
    "from functools import reduce\n",
    "from itertools import product\n",
    "from itertools import combinations\n",
    "from functools import lru_cache\n",
    "from scipy.special import comb\n",
    "from numba import njit\n",
    "from bisect import bisect_right\n",
    "from bisect import bisect_left"
   ]
  },
  {
   "cell_type": "code",
   "execution_count": 7,
   "id": "67c57e8e-581f-464f-8977-4ad2541564e8",
   "metadata": {},
   "outputs": [
    {
     "name": "stdin",
     "output_type": "stream",
     "text": [
      " 10 5 5\n"
     ]
    }
   ],
   "source": [
    "N, X, Y = map(int, input().split())"
   ]
  },
  {
   "cell_type": "code",
   "execution_count": 8,
   "id": "202ab147-6e29-4c71-ae9d-28b06769146f",
   "metadata": {},
   "outputs": [],
   "source": [
    "r = X * Y\n",
    "b = Y\n",
    "for i in range(3, N+1):\n",
    "    b = r + b * Y\n",
    "    r += b * X"
   ]
  },
  {
   "cell_type": "code",
   "execution_count": 10,
   "id": "34074d43-2a08-4513-b884-f82ae0146cc8",
   "metadata": {},
   "outputs": [
    {
     "name": "stdout",
     "output_type": "stream",
     "text": [
      "3942349900\n"
     ]
    }
   ],
   "source": [
    "if N == 1:\n",
    "    print(0)\n",
    "else:\n",
    "    print(r)"
   ]
  },
  {
   "cell_type": "code",
   "execution_count": 11,
   "id": "a56ea0b4-da9e-46e4-a098-79af7f770380",
   "metadata": {},
   "outputs": [],
   "source": [
    "# 解説を読んで実装"
   ]
  },
  {
   "cell_type": "code",
   "execution_count": 14,
   "id": "103a450c-c88c-4a99-81b2-75bfc65445eb",
   "metadata": {},
   "outputs": [],
   "source": [
    "import sys\n",
    "sys.setrecursionlimit(10**7)"
   ]
  },
  {
   "cell_type": "code",
   "execution_count": 20,
   "id": "a339e5db-b656-466b-bdd5-29d48a42c669",
   "metadata": {},
   "outputs": [
    {
     "name": "stdin",
     "output_type": "stream",
     "text": [
      " 10 5 5\n"
     ]
    }
   ],
   "source": [
    "N, X, Y = map(int, input().split())"
   ]
  },
  {
   "cell_type": "code",
   "execution_count": 21,
   "id": "a84eb814-2a1a-402e-8305-dc94d9d07e4b",
   "metadata": {},
   "outputs": [],
   "source": [
    "def solve(n, red):\n",
    "    if n <= 1:\n",
    "        if red:\n",
    "            return 0\n",
    "        else:\n",
    "            return 1\n",
    "    if red:\n",
    "        return solve(n-1, True) + solve(n, False) * X\n",
    "    else:\n",
    "        return solve(n-1, True) + solve(n-1, False) * Y"
   ]
  },
  {
   "cell_type": "code",
   "execution_count": 22,
   "id": "efa3bc45-d537-4899-aef3-f1a215e4a207",
   "metadata": {},
   "outputs": [
    {
     "name": "stdout",
     "output_type": "stream",
     "text": [
      "3942349900\n"
     ]
    }
   ],
   "source": [
    "print(solve(N, True))"
   ]
  },
  {
   "cell_type": "code",
   "execution_count": 23,
   "id": "6463db48-a9d1-44d5-ac66-22a5027ef72d",
   "metadata": {},
   "outputs": [
    {
     "name": "stdin",
     "output_type": "stream",
     "text": [
      " 10 5 5\n"
     ]
    }
   ],
   "source": [
    "N, X, Y = map(int, input().split())"
   ]
  },
  {
   "cell_type": "code",
   "execution_count": 32,
   "id": "e25b1288-4583-4671-b507-74ba6c165bc3",
   "metadata": {},
   "outputs": [],
   "source": [
    "rdp = [0] * N\n",
    "bdp = [0] * N\n",
    "bdp[0] = 1\n",
    "for i in range(1, N):\n",
    "    bdp[i] = rdp[i-1] + bdp[i-1] * Y\n",
    "    rdp[i] = rdp[i-1] + bdp[i] * X"
   ]
  },
  {
   "cell_type": "code",
   "execution_count": 33,
   "id": "74cf9055-b34f-4583-9186-db5a0fafcdbe",
   "metadata": {},
   "outputs": [
    {
     "name": "stdout",
     "output_type": "stream",
     "text": [
      "3942349900\n"
     ]
    }
   ],
   "source": [
    "print(rdp[-1])"
   ]
  },
  {
   "cell_type": "code",
   "execution_count": 28,
   "id": "4e18f68d-ea8a-4cb1-b5be-b6a4bfd86a7b",
   "metadata": {},
   "outputs": [
    {
     "data": {
      "text/plain": [
       "[0, 5, 30, 180, 1080, 6480, 38880, 233280, 1399680, 8398080]"
      ]
     },
     "execution_count": 28,
     "metadata": {},
     "output_type": "execute_result"
    }
   ],
   "source": [
    "rdp"
   ]
  },
  {
   "cell_type": "code",
   "execution_count": 29,
   "id": "2cbf118a-52c3-41a3-b42f-56ab2f6ceab5",
   "metadata": {},
   "outputs": [
    {
     "data": {
      "text/plain": [
       "[1, 5, 30, 180, 1080, 6480, 38880, 233280, 1399680, 8398080]"
      ]
     },
     "execution_count": 29,
     "metadata": {},
     "output_type": "execute_result"
    }
   ],
   "source": [
    "bdp"
   ]
  },
  {
   "cell_type": "code",
   "execution_count": null,
   "id": "1d0f754c-a2d7-462c-bc55-0b50594183a2",
   "metadata": {},
   "outputs": [],
   "source": []
  }
 ],
 "metadata": {
  "kernelspec": {
   "display_name": "Python 3",
   "language": "python",
   "name": "python3"
  },
  "language_info": {
   "codemirror_mode": {
    "name": "ipython",
    "version": 3
   },
   "file_extension": ".py",
   "mimetype": "text/x-python",
   "name": "python",
   "nbconvert_exporter": "python",
   "pygments_lexer": "ipython3",
   "version": "3.6.13"
  }
 },
 "nbformat": 4,
 "nbformat_minor": 5
}
