{
 "cells": [
  {
   "cell_type": "code",
   "execution_count": null,
   "id": "c10ce1d8-b7e1-4601-a736-070816db8d33",
   "metadata": {},
   "outputs": [],
   "source": [
    "# RE"
   ]
  },
  {
   "cell_type": "code",
   "execution_count": 1,
   "id": "932c7351-b53a-49e1-89b3-bb35ac54e2fe",
   "metadata": {},
   "outputs": [],
   "source": [
    "import sys\n",
    "import numpy as np\n",
    "import math\n",
    "import collections\n",
    "import copy\n",
    "import decimal\n",
    "import itertools\n",
    "import re\n",
    "import bisect\n",
    "import scipy\n",
    "import heapq\n",
    "from collections import deque \n",
    "from functools import reduce\n",
    "from itertools import product\n",
    "from itertools import combinations\n",
    "from functools import lru_cache\n",
    "from scipy.special import comb\n",
    "from numba import njit\n",
    "from bisect import bisect_right\n",
    "from bisect import bisect_left"
   ]
  },
  {
   "cell_type": "code",
   "execution_count": 2,
   "id": "02b2bd1c-48c9-4134-a6a8-3bacdb53a6dc",
   "metadata": {},
   "outputs": [
    {
     "name": "stdin",
     "output_type": "stream",
     "text": [
      " 3\n"
     ]
    }
   ],
   "source": [
    "N = int(input())"
   ]
  },
  {
   "cell_type": "code",
   "execution_count": 3,
   "id": "4398a1a5-2b64-4021-b9cb-87323c01b494",
   "metadata": {},
   "outputs": [
    {
     "name": "stdin",
     "output_type": "stream",
     "text": [
      " 2 3\n",
      " 1 1\n",
      " 4 1\n"
     ]
    }
   ],
   "source": [
    "XYn = [list(map(int, input().split())) for _ in range(N)]"
   ]
  },
  {
   "cell_type": "code",
   "execution_count": 4,
   "id": "8184c537-79e7-446d-b9e5-0e0c7ee5f063",
   "metadata": {},
   "outputs": [
    {
     "name": "stdin",
     "output_type": "stream",
     "text": [
      " RRL\n"
     ]
    }
   ],
   "source": [
    "S = input()"
   ]
  },
  {
   "cell_type": "code",
   "execution_count": 21,
   "id": "e7bcc2d6-96be-447f-b3ca-ea78cbc48659",
   "metadata": {},
   "outputs": [],
   "source": [
    "graph = [[] for _ in range(N+1)]\n",
    "lmax = [-1] * (N+1)\n",
    "rmin = [10**10] * (N+1)\n",
    "for i, (X, Y) in enumerate(XYn):\n",
    "    graph[Y].append((X, i))\n",
    "    if S[i] == \"R\":\n",
    "        rmin[i] = min(rmin[i], X)\n",
    "    else:\n",
    "        lmax[i] = max(lmax[i], X)"
   ]
  },
  {
   "cell_type": "code",
   "execution_count": 22,
   "id": "947942d2-5356-4307-aba4-4b6e1bbf6aa0",
   "metadata": {},
   "outputs": [
    {
     "name": "stdout",
     "output_type": "stream",
     "text": [
      "No\n"
     ]
    }
   ],
   "source": [
    "for i, gr in enumerate(graph):\n",
    "    if len(gr) < 2:\n",
    "        continue\n",
    "    if rmin[i] < lmax[i]:\n",
    "        print(\"Yes\")\n",
    "        break\n",
    "else:\n",
    "    print(\"No\")"
   ]
  },
  {
   "cell_type": "code",
   "execution_count": 23,
   "id": "f2b3bea6-50a6-4485-82de-3c62ff149c92",
   "metadata": {},
   "outputs": [
    {
     "data": {
      "text/plain": [
       "[[], [(1, 1), (4, 2)], [], [(2, 0)]]"
      ]
     },
     "execution_count": 23,
     "metadata": {},
     "output_type": "execute_result"
    }
   ],
   "source": [
    "graph"
   ]
  },
  {
   "cell_type": "code",
   "execution_count": 24,
   "id": "78dc0795-93c3-43ac-88d7-79b28cdbcdab",
   "metadata": {},
   "outputs": [
    {
     "data": {
      "text/plain": [
       "([2, 1, 10000000000, 10000000000], [-1, -1, 4, -1])"
      ]
     },
     "execution_count": 24,
     "metadata": {},
     "output_type": "execute_result"
    }
   ],
   "source": [
    "rmin, lmax"
   ]
  },
  {
   "cell_type": "code",
   "execution_count": 19,
   "id": "e41b76f1-7966-49ea-aef0-ae1a0f4b7114",
   "metadata": {},
   "outputs": [],
   "source": [
    "def isCon(n):\n",
    "    for i in range(len(graph[n])-1):\n",
    "        for j in range(i+1, len(graph[n])):\n",
    "            x1, i1 = graph[n][i]\n",
    "            x2, i2 = graph[n][j]\n",
    "            if x1 < x2 and S[i1] == \"R\" and S[i2] == \"L\":\n",
    "                return True\n",
    "            if x1 > x2 and S[i1] == \"L\" and S[i2] == \"R\":\n",
    "                return True\n",
    "    return False"
   ]
  },
  {
   "cell_type": "code",
   "execution_count": null,
   "id": "9f7b8536-ef28-4cd0-8fc2-6fea090e9e04",
   "metadata": {},
   "outputs": [],
   "source": []
  }
 ],
 "metadata": {
  "kernelspec": {
   "display_name": "Python 3",
   "language": "python",
   "name": "python3"
  },
  "language_info": {
   "codemirror_mode": {
    "name": "ipython",
    "version": 3
   },
   "file_extension": ".py",
   "mimetype": "text/x-python",
   "name": "python",
   "nbconvert_exporter": "python",
   "pygments_lexer": "ipython3",
   "version": "3.6.13"
  }
 },
 "nbformat": 4,
 "nbformat_minor": 5
}
