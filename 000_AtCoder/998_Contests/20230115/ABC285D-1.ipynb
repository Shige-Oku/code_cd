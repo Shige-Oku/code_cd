{
 "cells": [
  {
   "cell_type": "code",
   "execution_count": 1,
   "id": "7494ca82-775a-40e6-84b4-84f0df799a2b",
   "metadata": {},
   "outputs": [],
   "source": [
    "import sys\n",
    "import numpy as np\n",
    "import math\n",
    "import collections\n",
    "import copy\n",
    "import decimal\n",
    "import itertools\n",
    "import re\n",
    "import bisect\n",
    "import scipy\n",
    "import heapq\n",
    "from collections import deque \n",
    "from functools import reduce\n",
    "from itertools import product\n",
    "from itertools import combinations\n",
    "from functools import lru_cache\n",
    "from scipy.special import comb\n",
    "from numba import njit\n",
    "from bisect import bisect_right\n",
    "from bisect import bisect_left"
   ]
  },
  {
   "cell_type": "code",
   "execution_count": 24,
   "id": "9fdb0b1c-c2fc-4d09-94a2-77a1cc8f17c3",
   "metadata": {},
   "outputs": [
    {
     "name": "stdin",
     "output_type": "stream",
     "text": [
      " 5\n"
     ]
    }
   ],
   "source": [
    "N = int(input())"
   ]
  },
  {
   "cell_type": "code",
   "execution_count": 25,
   "id": "cd575ab5-cb25-4b9d-afaa-dce0d1bf2d30",
   "metadata": {},
   "outputs": [
    {
     "name": "stdin",
     "output_type": "stream",
     "text": [
      " aaa bbb\n",
      " yyy zzz\n",
      " ccc ddd\n",
      " xxx yyy\n",
      " bbb ccc\n"
     ]
    }
   ],
   "source": [
    "STn = [input().split() for _ in range(N)]"
   ]
  },
  {
   "cell_type": "code",
   "execution_count": 44,
   "id": "edbf55d2-07a5-4e77-aa49-31ab5f16572b",
   "metadata": {},
   "outputs": [],
   "source": [
    "di1 = {}\n",
    "di2 = {}\n",
    "for i, (S, T) in enumerate(STn):\n",
    "    di1[S] = T\n",
    "    di2[S] = i\n"
   ]
  },
  {
   "cell_type": "code",
   "execution_count": 52,
   "id": "4feb4308-23a6-4a95-95e3-1bdcca1005d2",
   "metadata": {},
   "outputs": [],
   "source": [
    "import sys\n",
    "sys.setrecursionlimit(10**7)\n",
    "def DFS(s, nm):\n",
    "    if s in nm:\n",
    "        return False\n",
    "    flg[di2[s]] = True\n",
    "    nm.add(s)\n",
    "    if di1[s] in di1:\n",
    "        if not DFS(di1[s], nm):\n",
    "            return False\n",
    "    return True"
   ]
  },
  {
   "cell_type": "code",
   "execution_count": 51,
   "id": "5314b729-ec6f-4b92-bc4b-5bf318f2d9ac",
   "metadata": {},
   "outputs": [
    {
     "name": "stdout",
     "output_type": "stream",
     "text": [
      "Yes\n"
     ]
    }
   ],
   "source": [
    "flg = [False] * ((len(di1))+1)\n",
    "for S, T in STn:\n",
    "    if flg[di2[S]]:\n",
    "        continue\n",
    "    if not DFS(S, set()):\n",
    "        print('No')\n",
    "        break\n",
    "else:\n",
    "    print('Yes')"
   ]
  },
  {
   "cell_type": "code",
   "execution_count": null,
   "id": "eabf36b7-fb33-4791-80ad-14fbb4ecd03b",
   "metadata": {},
   "outputs": [],
   "source": []
  },
  {
   "cell_type": "code",
   "execution_count": 26,
   "id": "587c7472-22f0-489d-b3b7-9a6ead3194e0",
   "metadata": {},
   "outputs": [],
   "source": [
    "di = {}\n",
    "num = 1\n",
    "for S, T in STn:\n",
    "    if S not in di:\n",
    "        di[S] = num\n",
    "        num += 1\n",
    "    if T not in di:\n",
    "        di[T] = num\n",
    "        num += 1"
   ]
  },
  {
   "cell_type": "code",
   "execution_count": 27,
   "id": "c2d3779a-eb24-461e-81d5-00cf8a6ba542",
   "metadata": {},
   "outputs": [],
   "source": [
    "graph = [[] for _ in range(len(di)+1)]\n",
    "for S, T in STn:\n",
    "    A, B = di[S], di[T]\n",
    "    graph[A].append(B)\n"
   ]
  },
  {
   "cell_type": "code",
   "execution_count": 36,
   "id": "416c8891-c19d-4ef6-8f07-adb18c626730",
   "metadata": {},
   "outputs": [],
   "source": [
    "from collections import deque\n",
    "def BFS(n):\n",
    "    q = deque()\n",
    "    q.append(n)\n",
    "    visit[n] = True\n",
    "    while q:\n",
    "        p = q.popleft()\n",
    "        for g in graph[p]:\n",
    "            if visit[g]:\n",
    "                return False\n",
    "            q.append(g)\n",
    "            visit[g] = True\n",
    "    return True"
   ]
  },
  {
   "cell_type": "code",
   "execution_count": 35,
   "id": "a871ea7c-e109-4a57-8854-b4268f0657cf",
   "metadata": {},
   "outputs": [
    {
     "name": "stdout",
     "output_type": "stream",
     "text": [
      "No\n",
      "7\n"
     ]
    }
   ],
   "source": [
    "visit = [False] * (len(di)+1)\n",
    "for i in range(1, len(di)+1):\n",
    "    if visit[i]:\n",
    "        continue\n",
    "    if not BFS(i):\n",
    "        print('No')\n",
    "        print(i)\n",
    "        break\n",
    "else:\n",
    "    print('Yes')\n"
   ]
  },
  {
   "cell_type": "code",
   "execution_count": 31,
   "id": "dcd63c65-1fd9-4097-9a63-03d7f9ff37d2",
   "metadata": {},
   "outputs": [
    {
     "data": {
      "text/plain": [
       "{'aaa': 1, 'bbb': 2, 'yyy': 3, 'zzz': 4, 'ccc': 5, 'ddd': 6, 'xxx': 7}"
      ]
     },
     "execution_count": 31,
     "metadata": {},
     "output_type": "execute_result"
    }
   ],
   "source": [
    "di"
   ]
  },
  {
   "cell_type": "code",
   "execution_count": 32,
   "id": "88b0f67e-9e97-40bd-8961-f0d9fc58cbda",
   "metadata": {},
   "outputs": [
    {
     "data": {
      "text/plain": [
       "[[], [2], [5], [4], [], [6], [], [3]]"
      ]
     },
     "execution_count": 32,
     "metadata": {},
     "output_type": "execute_result"
    }
   ],
   "source": [
    "graph"
   ]
  },
  {
   "cell_type": "code",
   "execution_count": 33,
   "id": "1e71e315-6611-44c8-b6c5-cfc9f1789534",
   "metadata": {},
   "outputs": [
    {
     "data": {
      "text/plain": [
       "[False, True, True, True, True, True, True, True]"
      ]
     },
     "execution_count": 33,
     "metadata": {},
     "output_type": "execute_result"
    }
   ],
   "source": [
    "visit"
   ]
  },
  {
   "cell_type": "code",
   "execution_count": null,
   "id": "32db4d41-4ffc-4f64-b41f-39104f9b3b81",
   "metadata": {},
   "outputs": [],
   "source": []
  }
 ],
 "metadata": {
  "kernelspec": {
   "display_name": "Python 3",
   "language": "python",
   "name": "python3"
  },
  "language_info": {
   "codemirror_mode": {
    "name": "ipython",
    "version": 3
   },
   "file_extension": ".py",
   "mimetype": "text/x-python",
   "name": "python",
   "nbconvert_exporter": "python",
   "pygments_lexer": "ipython3",
   "version": "3.6.13"
  }
 },
 "nbformat": 4,
 "nbformat_minor": 5
}
