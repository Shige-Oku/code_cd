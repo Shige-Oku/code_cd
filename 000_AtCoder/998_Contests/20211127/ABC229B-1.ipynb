{
 "cells": [
  {
   "cell_type": "code",
   "execution_count": 1,
   "id": "7b885354-48b6-42f5-8a32-17c7a328f510",
   "metadata": {},
   "outputs": [],
   "source": [
    "import sys\n",
    "import numpy as np\n",
    "import math\n",
    "import collections\n",
    "import copy\n",
    "import decimal\n",
    "import itertools\n",
    "import re\n",
    "import bisect\n",
    "import scipy\n",
    "import heapq\n",
    "import array\n",
    "from collections import deque\n",
    "from functools import reduce\n",
    "from itertools import product\n",
    "from itertools import combinations\n",
    "from itertools import chain\n",
    "from functools import lru_cache\n",
    "from scipy.special import comb\n",
    "from numba import njit\n",
    "from bisect import bisect_right\n",
    "from bisect import bisect_left"
   ]
  },
  {
   "cell_type": "code",
   "execution_count": 12,
   "id": "2c8a83e8-78d2-4fed-9dd3-d8be952cbc7f",
   "metadata": {},
   "outputs": [
    {
     "name": "stdin",
     "output_type": "stream",
     "text": [
      " 229 390\n"
     ]
    }
   ],
   "source": [
    "A, B = input().split()"
   ]
  },
  {
   "cell_type": "code",
   "execution_count": 13,
   "id": "252be5a7-47c9-4f00-8f76-a7d576069f67",
   "metadata": {},
   "outputs": [],
   "source": [
    "flg = False\n",
    "for a, b in zip(A[::-1], B[::-1]):\n",
    "    if int(a) + int(b) >= 10:\n",
    "        flg = True\n",
    "        break"
   ]
  },
  {
   "cell_type": "code",
   "execution_count": 14,
   "id": "de396824-8a0a-436f-9d4b-f2fc31d5400e",
   "metadata": {},
   "outputs": [
    {
     "name": "stdout",
     "output_type": "stream",
     "text": [
      "Hard\n"
     ]
    }
   ],
   "source": [
    "if flg:\n",
    "    print('Hard')\n",
    "else:\n",
    "    print('Easy')"
   ]
  },
  {
   "cell_type": "code",
   "execution_count": null,
   "id": "4adba916-4a7d-4305-9668-167992c2fd6b",
   "metadata": {},
   "outputs": [],
   "source": []
  }
 ],
 "metadata": {
  "kernelspec": {
   "display_name": "Python 3",
   "language": "python",
   "name": "python3"
  },
  "language_info": {
   "codemirror_mode": {
    "name": "ipython",
    "version": 3
   },
   "file_extension": ".py",
   "mimetype": "text/x-python",
   "name": "python",
   "nbconvert_exporter": "python",
   "pygments_lexer": "ipython3",
   "version": "3.6.13"
  }
 },
 "nbformat": 4,
 "nbformat_minor": 5
}
