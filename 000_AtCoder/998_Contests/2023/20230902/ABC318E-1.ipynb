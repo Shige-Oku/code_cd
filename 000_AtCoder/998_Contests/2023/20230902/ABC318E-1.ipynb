{
 "cells": [
  {
   "cell_type": "code",
   "execution_count": 1,
   "id": "ef8dba46-3e3b-4b21-9643-33e692994a52",
   "metadata": {
    "tags": []
   },
   "outputs": [],
   "source": [
    "import sys\n",
    "import numpy as np\n",
    "import math\n",
    "import collections\n",
    "import copy\n",
    "import decimal\n",
    "import itertools\n",
    "import re\n",
    "import bisect\n",
    "import scipy\n",
    "import heapq\n",
    "from collections import deque \n",
    "from functools import reduce\n",
    "from itertools import product\n",
    "from itertools import combinations\n",
    "from functools import lru_cache\n",
    "from scipy.special import comb\n",
    "from numba import njit\n",
    "from bisect import bisect_right\n",
    "from bisect import bisect_left"
   ]
  },
  {
   "cell_type": "code",
   "execution_count": 33,
   "id": "63ecb9e5-0c1f-452e-96e3-3de4a65274af",
   "metadata": {
    "tags": []
   },
   "outputs": [
    {
     "name": "stdin",
     "output_type": "stream",
     "text": [
      " 13\n"
     ]
    }
   ],
   "source": [
    "N = int(input())"
   ]
  },
  {
   "cell_type": "code",
   "execution_count": 34,
   "id": "a16517f0-70d7-4cc8-867b-cbf33585315d",
   "metadata": {
    "tags": []
   },
   "outputs": [
    {
     "name": "stdin",
     "output_type": "stream",
     "text": [
      " 9 7 11 7 3 8 1 13 11 11 11 6 13\n"
     ]
    }
   ],
   "source": [
    "An = list(map(int, input().split()))"
   ]
  },
  {
   "cell_type": "code",
   "execution_count": 35,
   "id": "63feed46-e204-4134-9d0e-3f4a9fe81ea8",
   "metadata": {
    "tags": []
   },
   "outputs": [],
   "source": [
    "cnt = [0] * (N+1)\n",
    "idx = [[] for _ in range(N+1)]\n",
    "for i, A in enumerate(An, 1):\n",
    "    cnt[A] += 1\n",
    "    idx[A].append(i)\n",
    "dif = [[] for _ in range(N+1)]\n",
    "for i in range(1, N+1):\n",
    "    if cnt[i] < 2:\n",
    "        continue\n",
    "    for j in range(1, cnt[i]):\n",
    "        dif[i].append(idx[i][j] - idx[i][j-1]-1)"
   ]
  },
  {
   "cell_type": "code",
   "execution_count": 56,
   "id": "87ae88d1-4ba5-47d8-a66e-ea76abbb8604",
   "metadata": {
    "tags": []
   },
   "outputs": [],
   "source": [
    "ans = 0\n",
    "for i in range(N+1):\n",
    "    if cnt[i] < 2:\n",
    "        continue\n",
    "    for c, j in enumerate(range(len(dif[i])), 1):\n",
    "        ans += dif[i][j] * max(0, (len(dif[i]) - c + 1))\n"
   ]
  },
  {
   "cell_type": "code",
   "execution_count": 57,
   "id": "18e761ad-5f1e-4320-b9fd-b41105e9b407",
   "metadata": {
    "tags": []
   },
   "outputs": [
    {
     "name": "stdout",
     "output_type": "stream",
     "text": [
      "20\n"
     ]
    }
   ],
   "source": [
    "print(ans)"
   ]
  },
  {
   "cell_type": "code",
   "execution_count": 49,
   "id": "4a518c66-18dc-4ffa-8752-ecd0c2258de3",
   "metadata": {
    "tags": []
   },
   "outputs": [
    {
     "data": {
      "text/plain": [
       "[0, 1, 0, 1, 0, 0, 1, 2, 1, 1, 0, 4, 0, 2]"
      ]
     },
     "execution_count": 49,
     "metadata": {},
     "output_type": "execute_result"
    }
   ],
   "source": [
    "cnt"
   ]
  },
  {
   "cell_type": "code",
   "execution_count": 40,
   "id": "6bc6bf10-c067-423e-9d32-ef487851ec5c",
   "metadata": {
    "tags": []
   },
   "outputs": [
    {
     "data": {
      "text/plain": [
       "[[],\n",
       " [7],\n",
       " [],\n",
       " [5],\n",
       " [],\n",
       " [],\n",
       " [12],\n",
       " [2, 4],\n",
       " [6],\n",
       " [1],\n",
       " [],\n",
       " [3, 9, 10, 11],\n",
       " [],\n",
       " [8, 13]]"
      ]
     },
     "execution_count": 40,
     "metadata": {},
     "output_type": "execute_result"
    }
   ],
   "source": [
    "idx"
   ]
  },
  {
   "cell_type": "code",
   "execution_count": 41,
   "id": "f17af3d6-0ada-4195-a524-1c9a43e47985",
   "metadata": {
    "tags": []
   },
   "outputs": [
    {
     "data": {
      "text/plain": [
       "[[], [], [], [], [], [], [], [1], [], [], [], [5, 0, 0], [], [4]]"
      ]
     },
     "execution_count": 41,
     "metadata": {},
     "output_type": "execute_result"
    }
   ],
   "source": [
    "dif"
   ]
  },
  {
   "cell_type": "code",
   "execution_count": 26,
   "id": "c2290253-fc60-4e99-80c3-54e6207cbebc",
   "metadata": {
    "tags": []
   },
   "outputs": [
    {
     "data": {
      "text/plain": [
       "([1], 1)"
      ]
     },
     "execution_count": 26,
     "metadata": {},
     "output_type": "execute_result"
    }
   ],
   "source": [
    "dif[1], len(dif[1])"
   ]
  },
  {
   "cell_type": "code",
   "execution_count": 27,
   "id": "70f7c2ce-a68a-44f8-9135-5d1629c2ed98",
   "metadata": {
    "tags": []
   },
   "outputs": [
    {
     "name": "stdout",
     "output_type": "stream",
     "text": [
      "0\n"
     ]
    }
   ],
   "source": [
    "for i in range(len(dif[1])):\n",
    "    print(i)"
   ]
  },
  {
   "cell_type": "code",
   "execution_count": null,
   "id": "5fb89769-b8bb-4fef-91d8-ea4f6cc5a344",
   "metadata": {},
   "outputs": [],
   "source": []
  }
 ],
 "metadata": {
  "kernelspec": {
   "display_name": "Python 3 (ipykernel)",
   "language": "python",
   "name": "python3"
  },
  "language_info": {
   "codemirror_mode": {
    "name": "ipython",
    "version": 3
   },
   "file_extension": ".py",
   "mimetype": "text/x-python",
   "name": "python",
   "nbconvert_exporter": "python",
   "pygments_lexer": "ipython3",
   "version": "3.11.3"
  }
 },
 "nbformat": 4,
 "nbformat_minor": 5
}
