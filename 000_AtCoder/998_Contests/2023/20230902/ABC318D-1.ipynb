{
 "cells": [
  {
   "cell_type": "code",
   "execution_count": 1,
   "id": "b0350132-3899-44ff-a9e3-fd0598c27554",
   "metadata": {
    "tags": []
   },
   "outputs": [],
   "source": [
    "import sys\n",
    "import numpy as np\n",
    "import math\n",
    "import collections\n",
    "import copy\n",
    "import decimal\n",
    "import itertools\n",
    "import re\n",
    "import bisect\n",
    "import scipy\n",
    "import heapq\n",
    "from collections import deque \n",
    "from functools import reduce\n",
    "from itertools import product\n",
    "from itertools import combinations\n",
    "from functools import lru_cache\n",
    "from scipy.special import comb\n",
    "from numba import njit\n",
    "from bisect import bisect_right\n",
    "from bisect import bisect_left"
   ]
  },
  {
   "cell_type": "code",
   "execution_count": 1,
   "id": "5ed582a8-f68a-49ee-b33a-89e1ff7f89a4",
   "metadata": {
    "tags": []
   },
   "outputs": [
    {
     "name": "stdin",
     "output_type": "stream",
     "text": [
      " 4\n"
     ]
    }
   ],
   "source": [
    "N = int(input())"
   ]
  },
  {
   "cell_type": "code",
   "execution_count": 43,
   "id": "ce92e445-549b-41f5-a452-a06d19d56c75",
   "metadata": {
    "tags": []
   },
   "outputs": [
    {
     "name": "stdin",
     "output_type": "stream",
     "text": [
      " 1 5 4\n",
      " 7 8\n",
      " 6\n"
     ]
    }
   ],
   "source": [
    "Dn = [[0] * N for _ in range(N)]\n",
    "for i in range(N-1):\n",
    "    D = list(map(int, input().split()))\n",
    "    for j, d in enumerate(D):\n",
    "        Dn[i][i+j] = d\n",
    "        "
   ]
  },
  {
   "cell_type": "code",
   "execution_count": null,
   "id": "88b9614b-33a9-4756-9f51-5853e311b632",
   "metadata": {},
   "outputs": [],
   "source": [
    "# 解説を読んで実装"
   ]
  },
  {
   "cell_type": "code",
   "execution_count": 64,
   "id": "adaef411-23fe-4573-b478-58fa6a634dcb",
   "metadata": {
    "tags": []
   },
   "outputs": [],
   "source": [
    "dp = [0] * (2**N) \n",
    "for b in range(2**N):\n",
    "    l = -1\n",
    "    for i in range(N):\n",
    "        if not b >> i & 1:\n",
    "            l = i\n",
    "            break\n",
    "    else:\n",
    "        continue\n",
    "    for i in range(N):\n",
    "        if b >> i & 1:\n",
    "            continue\n",
    "        nb = b | 1<<l | 1<<i\n",
    "        dp[nb] = max(dp[nb], dp[b]+Dn[l][i-1])\n"
   ]
  },
  {
   "cell_type": "code",
   "execution_count": 65,
   "id": "27cd2161-0b87-4fed-8858-fc37f9490ddb",
   "metadata": {
    "tags": []
   },
   "outputs": [
    {
     "name": "stdout",
     "output_type": "stream",
     "text": [
      "13\n"
     ]
    }
   ],
   "source": [
    "print(dp[-1])"
   ]
  },
  {
   "cell_type": "code",
   "execution_count": 46,
   "id": "62b37922-cfea-4611-980b-2f034cc18e8a",
   "metadata": {
    "tags": []
   },
   "outputs": [
    {
     "data": {
      "text/plain": [
       "(15, -1, 3, 15)"
      ]
     },
     "execution_count": 46,
     "metadata": {},
     "output_type": "execute_result"
    }
   ],
   "source": [
    "b, l, i, nb"
   ]
  },
  {
   "cell_type": "code",
   "execution_count": 47,
   "id": "9462be62-3c4c-4a2d-96b6-897411508445",
   "metadata": {},
   "outputs": [
    {
     "data": {
      "text/plain": [
       "16"
      ]
     },
     "execution_count": 47,
     "metadata": {},
     "output_type": "execute_result"
    }
   ],
   "source": [
    "len(dp)"
   ]
  },
  {
   "cell_type": "code",
   "execution_count": 48,
   "id": "f1ecf177-7910-4095-90d1-92d89eb7282a",
   "metadata": {
    "tags": []
   },
   "outputs": [
    {
     "data": {
      "text/plain": [
       "[[1, 5, 4, 0], [0, 7, 8, 0], [0, 0, 6, 0], [0, 0, 0, 0]]"
      ]
     },
     "execution_count": 48,
     "metadata": {},
     "output_type": "execute_result"
    }
   ],
   "source": [
    "Dn"
   ]
  },
  {
   "cell_type": "code",
   "execution_count": 49,
   "id": "fb6de9c7-cff2-42a7-b373-5e6d3fd377b3",
   "metadata": {
    "tags": []
   },
   "outputs": [],
   "source": [
    "# 1<<(l-1)"
   ]
  },
  {
   "cell_type": "code",
   "execution_count": 50,
   "id": "8106b701-8322-4861-8480-49d52f05373e",
   "metadata": {
    "tags": []
   },
   "outputs": [
    {
     "data": {
      "text/plain": [
       "[0, 0, 0, 1, 0, 5, 0, 7, 0, 4, 0, 8, 0, 5, 0, 13]"
      ]
     },
     "execution_count": 50,
     "metadata": {},
     "output_type": "execute_result"
    }
   ],
   "source": [
    "dp"
   ]
  },
  {
   "cell_type": "code",
   "execution_count": 58,
   "id": "ea52a77d-ae88-4b71-96d2-6ac6f2279561",
   "metadata": {
    "tags": []
   },
   "outputs": [
    {
     "data": {
      "text/plain": [
       "7"
      ]
     },
     "execution_count": 58,
     "metadata": {},
     "output_type": "execute_result"
    }
   ],
   "source": [
    "2 | 1<<0 | 1<<2"
   ]
  },
  {
   "cell_type": "code",
   "execution_count": 59,
   "id": "04368e85-4454-4531-98d0-08d76fc1fa99",
   "metadata": {
    "tags": []
   },
   "outputs": [
    {
     "data": {
      "text/plain": [
       "(1, 2, 4)"
      ]
     },
     "execution_count": 59,
     "metadata": {},
     "output_type": "execute_result"
    }
   ],
   "source": [
    "1<<0, 1<<1, 1<<2"
   ]
  },
  {
   "cell_type": "code",
   "execution_count": 61,
   "id": "4907fe0e-0c5d-4d40-8ebe-a3795038fb23",
   "metadata": {
    "tags": []
   },
   "outputs": [
    {
     "data": {
      "text/plain": [
       "7"
      ]
     },
     "execution_count": 61,
     "metadata": {},
     "output_type": "execute_result"
    }
   ],
   "source": [
    "2 + (1<<0) + (1<<2)"
   ]
  },
  {
   "cell_type": "code",
   "execution_count": null,
   "id": "d7b09ec1-dcf9-4c54-8199-780fab55d664",
   "metadata": {},
   "outputs": [],
   "source": []
  }
 ],
 "metadata": {
  "kernelspec": {
   "display_name": "Python 3 (ipykernel)",
   "language": "python",
   "name": "python3"
  },
  "language_info": {
   "codemirror_mode": {
    "name": "ipython",
    "version": 3
   },
   "file_extension": ".py",
   "mimetype": "text/x-python",
   "name": "python",
   "nbconvert_exporter": "python",
   "pygments_lexer": "ipython3",
   "version": "3.11.3"
  }
 },
 "nbformat": 4,
 "nbformat_minor": 5
}
