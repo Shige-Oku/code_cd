{
 "cells": [
  {
   "cell_type": "code",
   "execution_count": 1,
   "id": "526807cb-1ed9-4c44-b8d8-bebdd9370a47",
   "metadata": {
    "tags": []
   },
   "outputs": [],
   "source": [
    "import sys\n",
    "import numpy as np\n",
    "import math\n",
    "import collections\n",
    "import copy\n",
    "import decimal\n",
    "import itertools\n",
    "import re\n",
    "import bisect\n",
    "import scipy\n",
    "import heapq\n",
    "from collections import deque \n",
    "from functools import reduce\n",
    "from itertools import product\n",
    "from itertools import combinations\n",
    "from functools import lru_cache\n",
    "from scipy.special import comb\n",
    "from numba import njit\n",
    "from bisect import bisect_right\n",
    "from bisect import bisect_left"
   ]
  },
  {
   "cell_type": "code",
   "execution_count": 21,
   "id": "1791a96b-c6d4-4ebe-b776-af7bc04f2988",
   "metadata": {
    "tags": []
   },
   "outputs": [
    {
     "name": "stdin",
     "output_type": "stream",
     "text": [
      " 8 3 1000000000\n"
     ]
    }
   ],
   "source": [
    "N, D, P = map(int, input().split())"
   ]
  },
  {
   "cell_type": "code",
   "execution_count": 22,
   "id": "73d56dc2-4933-4640-a6a8-86295ce00140",
   "metadata": {
    "tags": []
   },
   "outputs": [
    {
     "name": "stdin",
     "output_type": "stream",
     "text": [
      " 1000000000 1000000000 1000000000 1000000000 1000000000 1000000000 1000000000 1000000000\n"
     ]
    }
   ],
   "source": [
    "Fn = list(map(int, input().split()))"
   ]
  },
  {
   "cell_type": "code",
   "execution_count": 23,
   "id": "557bc833-9897-4a71-811a-5304705680c9",
   "metadata": {
    "tags": []
   },
   "outputs": [],
   "source": [
    "from itertools import accumulate\n",
    "Fn_s = sorted(Fn, reverse=True)\n",
    "Fn_c = [0] + list(accumulate(Fn_s))"
   ]
  },
  {
   "cell_type": "code",
   "execution_count": 34,
   "id": "218e5760-54ec-4154-b9f0-7890b820f9f5",
   "metadata": {
    "tags": []
   },
   "outputs": [],
   "source": [
    "ans = 10**20\n",
    "for c, d in enumerate(range((N+1))):\n",
    "    f = c * P\n",
    "    i = c * D\n",
    "    ans = min(ans, f + Fn_c[-1] - Fn_c[min(N, i)])\n"
   ]
  },
  {
   "cell_type": "code",
   "execution_count": 35,
   "id": "7c520bb8-35f9-498e-9740-9986f3f722ec",
   "metadata": {
    "tags": []
   },
   "outputs": [
    {
     "name": "stdout",
     "output_type": "stream",
     "text": [
      "3000000000\n"
     ]
    }
   ],
   "source": [
    "print(ans)"
   ]
  },
  {
   "cell_type": "code",
   "execution_count": 10,
   "id": "342f3ab5-de28-4531-af7d-1a7d1e2b01b5",
   "metadata": {
    "tags": []
   },
   "outputs": [
    {
     "data": {
      "text/plain": [
       "([7, 6, 6, 3, 1], [0, 7, 13, 19, 22, 23])"
      ]
     },
     "execution_count": 10,
     "metadata": {},
     "output_type": "execute_result"
    }
   ],
   "source": [
    "Fn_s, Fn_c"
   ]
  },
  {
   "cell_type": "code",
   "execution_count": 27,
   "id": "02cbb009-3c4b-461c-bdde-e1715375387f",
   "metadata": {
    "tags": []
   },
   "outputs": [
    {
     "data": {
      "text/plain": [
       "9"
      ]
     },
     "execution_count": 27,
     "metadata": {},
     "output_type": "execute_result"
    }
   ],
   "source": [
    "i"
   ]
  },
  {
   "cell_type": "code",
   "execution_count": null,
   "id": "ee745b04-1000-4d0b-8ced-09dd76758b6c",
   "metadata": {},
   "outputs": [],
   "source": []
  }
 ],
 "metadata": {
  "kernelspec": {
   "display_name": "Python 3 (ipykernel)",
   "language": "python",
   "name": "python3"
  },
  "language_info": {
   "codemirror_mode": {
    "name": "ipython",
    "version": 3
   },
   "file_extension": ".py",
   "mimetype": "text/x-python",
   "name": "python",
   "nbconvert_exporter": "python",
   "pygments_lexer": "ipython3",
   "version": "3.11.3"
  }
 },
 "nbformat": 4,
 "nbformat_minor": 5
}
