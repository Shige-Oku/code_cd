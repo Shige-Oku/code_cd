{
 "cells": [
  {
   "cell_type": "code",
   "execution_count": 1,
   "id": "afac81cf-e27d-419a-9f96-4fd27a0ec998",
   "metadata": {},
   "outputs": [],
   "source": [
    "import sys\n",
    "import numpy as np\n",
    "import math\n",
    "import collections\n",
    "import copy\n",
    "import decimal\n",
    "import itertools\n",
    "import re\n",
    "import bisect\n",
    "import scipy\n",
    "import heapq\n",
    "from collections import deque \n",
    "from functools import reduce\n",
    "from itertools import product\n",
    "from itertools import combinations\n",
    "from functools import lru_cache\n",
    "from scipy.special import comb\n",
    "from numba import njit\n",
    "from bisect import bisect_right\n",
    "from bisect import bisect_left"
   ]
  },
  {
   "cell_type": "code",
   "execution_count": 1,
   "id": "59e784a0-7312-4ae6-8502-06c5fb1ee9e8",
   "metadata": {},
   "outputs": [
    {
     "name": "stdin",
     "output_type": "stream",
     "text": [
      " 3\n"
     ]
    }
   ],
   "source": [
    "T = int(input())"
   ]
  },
  {
   "cell_type": "code",
   "execution_count": 2,
   "id": "ecdeaa6f-f572-4339-8905-ac12cc71aea9",
   "metadata": {},
   "outputs": [
    {
     "name": "stdin",
     "output_type": "stream",
     "text": [
      " 2023\n",
      " 63\n",
      " 1059872604593911\n"
     ]
    }
   ],
   "source": [
    "Tn = [int(input()) for _ in range(T)]"
   ]
  },
  {
   "cell_type": "code",
   "execution_count": 3,
   "id": "05c8cdd1-b969-4d42-adad-92717bc58577",
   "metadata": {},
   "outputs": [],
   "source": [
    "def getPrimes(n):\n",
    "    ret = []\n",
    "    isPrime = [True] * (n+1)\n",
    "    isPrime[:2] = False, False\n",
    "    isCheck = [False] * (n+1)\n",
    "    for i in range(2, int(n**.5)+1):\n",
    "        if isCheck[i]:\n",
    "            continue\n",
    "        for j in range(i*i, n+1, i):\n",
    "            isCheck[j] = True\n",
    "            isPrime[j] = False\n",
    "    for i in range(2, n+1):\n",
    "        if isPrime[i]:\n",
    "            ret.append(i)\n",
    "    return ret"
   ]
  },
  {
   "cell_type": "code",
   "execution_count": 4,
   "id": "8986067b-4f97-46a9-9df6-3c3bcddb6078",
   "metadata": {},
   "outputs": [],
   "source": [
    "primes = getPrimes(10**7)\n",
    "primes = set(primes)"
   ]
  },
  {
   "cell_type": "code",
   "execution_count": 7,
   "id": "345314c1-18c1-4ebd-9553-221c75ef15b7",
   "metadata": {},
   "outputs": [
    {
     "name": "stdout",
     "output_type": "stream",
     "text": [
      "17 7\n",
      "3 7\n",
      "104149 97711\n"
     ]
    }
   ],
   "source": [
    "for T in Tn:\n",
    "    for p1 in primes:\n",
    "        p2, m = divmod(T, p1)\n",
    "        if m != 0:\n",
    "            continue\n",
    "        if p2 % p1 == 0:\n",
    "            print(p1, p2//p1)\n",
    "        else:\n",
    "            print(int(p2**.5), p1)\n",
    "        break"
   ]
  },
  {
   "cell_type": "code",
   "execution_count": 11,
   "id": "adc7345c-cf31-4a0a-8273-3832e7c507bf",
   "metadata": {},
   "outputs": [
    {
     "name": "stdout",
     "output_type": "stream",
     "text": [
      "17 7\n",
      "3 7\n",
      "104149 97711\n"
     ]
    }
   ],
   "source": [
    "for t in Tn:\n",
    "    for p1 in primes:\n",
    "        p2, m = divmod(t,  p1)\n",
    "        if m > 0:\n",
    "            continue\n",
    "        if p2 % p1 == 0:\n",
    "            p2 //= p1\n",
    "            print(p1, p2)\n",
    "        else:\n",
    "            print(int(p2**.5), p1)\n",
    "        break\n"
   ]
  },
  {
   "cell_type": "code",
   "execution_count": 7,
   "id": "8e81cf16-d571-40ad-a9f7-6c07abb4859d",
   "metadata": {},
   "outputs": [
    {
     "data": {
      "text/plain": [
       "664579"
      ]
     },
     "execution_count": 7,
     "metadata": {},
     "output_type": "execute_result"
    }
   ],
   "source": [
    "len(primes)"
   ]
  },
  {
   "cell_type": "code",
   "execution_count": 9,
   "id": "86b7b79f-4e9c-41b7-bbd8-bbfe43c06c98",
   "metadata": {},
   "outputs": [
    {
     "name": "stdout",
     "output_type": "stream",
     "text": [
      "17 7\n",
      "3 7\n",
      "104149 97711\n"
     ]
    }
   ],
   "source": [
    "for T in Tn:\n",
    "    for i in range(2, 10**6*10):\n",
    "        q, m = divmod(T, i)\n",
    "        if m != 0:\n",
    "            continue\n",
    "        if q % i == 0:\n",
    "            print(i, q//i)\n",
    "        else:\n",
    "            print(int(q**.5), i)\n",
    "        break"
   ]
  },
  {
   "cell_type": "code",
   "execution_count": 14,
   "id": "517ec767-91a4-42ba-a990-1d077be71276",
   "metadata": {},
   "outputs": [
    {
     "data": {
      "text/plain": [
       "True"
      ]
     },
     "execution_count": 14,
     "metadata": {},
     "output_type": "execute_result"
    }
   ],
   "source": [
    "(10**6)**3 == 10**18"
   ]
  },
  {
   "cell_type": "code",
   "execution_count": 23,
   "id": "543f58e1-f428-4315-9c77-40c931d3e864",
   "metadata": {},
   "outputs": [],
   "source": [
    "import sympy\n",
    "from sympy import sieve"
   ]
  },
  {
   "cell_type": "code",
   "execution_count": 24,
   "id": "bd7bf72e-603b-478d-ad12-e8498cb36cf6",
   "metadata": {},
   "outputs": [],
   "source": [
    "pr = sieve.primerange(10**14, 10**19)"
   ]
  },
  {
   "cell_type": "code",
   "execution_count": null,
   "id": "80d29a88-50ae-4c00-99dc-37d3b65e57b7",
   "metadata": {},
   "outputs": [],
   "source": [
    "len(list(pr))"
   ]
  },
  {
   "cell_type": "code",
   "execution_count": 10,
   "id": "3ce4a68b-75d7-42e8-9b1c-096bf752f5e0",
   "metadata": {},
   "outputs": [],
   "source": [
    "# x以下の素数列挙\n",
    "def sieve_of_eratosthenes(x):\n",
    "    nums = [i for i in range(x+1)]\n",
    "\n",
    "    root = int(pow(x,0.5))\n",
    "    for i in range(2,root + 1):\n",
    "        if nums[i] != 0:\n",
    "            for j in range(i, x+1):\n",
    "                if i*j >= x+1:\n",
    "                    break\n",
    "                nums[i*j] = 0\n",
    "\n",
    "    primes = sorted(list(set(nums)))[2:]\n",
    "\n",
    "    return primes"
   ]
  },
  {
   "cell_type": "code",
   "execution_count": 11,
   "id": "a8d03b6d-aa75-4cf0-a0a6-8678cd47273a",
   "metadata": {},
   "outputs": [],
   "source": [
    "pr = sieve_of_eratosthenes(10**7)"
   ]
  },
  {
   "cell_type": "code",
   "execution_count": 12,
   "id": "1e2bc919-1a43-4b82-91c0-21d270def967",
   "metadata": {},
   "outputs": [
    {
     "data": {
      "text/plain": [
       "664579"
      ]
     },
     "execution_count": 12,
     "metadata": {},
     "output_type": "execute_result"
    }
   ],
   "source": [
    "len(pr)"
   ]
  },
  {
   "cell_type": "code",
   "execution_count": 13,
   "id": "80ed21ac-753e-4636-abdc-dbad460f8da9",
   "metadata": {},
   "outputs": [
    {
     "data": {
      "text/plain": [
       "False"
      ]
     },
     "execution_count": 13,
     "metadata": {},
     "output_type": "execute_result"
    }
   ],
   "source": [
    "primes == pr"
   ]
  },
  {
   "cell_type": "code",
   "execution_count": 16,
   "id": "df4f8024-8d0e-4c1c-b4d0-c71fa0c78fd1",
   "metadata": {},
   "outputs": [],
   "source": [
    "pr = set(pr)\n",
    "for p in primes:\n",
    "    if p not in pr:\n",
    "        print(p)"
   ]
  },
  {
   "cell_type": "code",
   "execution_count": 17,
   "id": "50a66bb4-3a9e-4f82-8fca-4949ec87940e",
   "metadata": {},
   "outputs": [
    {
     "data": {
      "text/plain": [
       "True"
      ]
     },
     "execution_count": 17,
     "metadata": {},
     "output_type": "execute_result"
    }
   ],
   "source": [
    "pr == primes"
   ]
  },
  {
   "cell_type": "code",
   "execution_count": null,
   "id": "2b8ae81a-7053-4980-8980-ffd5cb7d196c",
   "metadata": {},
   "outputs": [],
   "source": []
  }
 ],
 "metadata": {
  "kernelspec": {
   "display_name": "Python 3",
   "language": "python",
   "name": "python3"
  },
  "language_info": {
   "codemirror_mode": {
    "name": "ipython",
    "version": 3
   },
   "file_extension": ".py",
   "mimetype": "text/x-python",
   "name": "python",
   "nbconvert_exporter": "python",
   "pygments_lexer": "ipython3",
   "version": "3.6.13"
  }
 },
 "nbformat": 4,
 "nbformat_minor": 5
}
