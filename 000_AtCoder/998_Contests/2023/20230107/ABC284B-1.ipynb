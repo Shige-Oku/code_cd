{
 "cells": [
  {
   "cell_type": "code",
   "execution_count": 1,
   "id": "54583059-be97-4e64-b56b-1667d9b00771",
   "metadata": {},
   "outputs": [],
   "source": [
    "import sys\n",
    "import numpy as np\n",
    "import math\n",
    "import collections\n",
    "import copy\n",
    "import decimal\n",
    "import itertools\n",
    "import re\n",
    "import bisect\n",
    "import scipy\n",
    "import heapq\n",
    "from collections import deque \n",
    "from functools import reduce\n",
    "from itertools import product\n",
    "from itertools import combinations\n",
    "from functools import lru_cache\n",
    "from scipy.special import comb\n",
    "from numba import njit\n",
    "from bisect import bisect_right\n",
    "from bisect import bisect_left"
   ]
  },
  {
   "cell_type": "code",
   "execution_count": 2,
   "id": "82056297-7d0e-4429-9b72-5a48acacb799",
   "metadata": {},
   "outputs": [
    {
     "name": "stdin",
     "output_type": "stream",
     "text": [
      " 4\n"
     ]
    }
   ],
   "source": [
    "T = int(input())"
   ]
  },
  {
   "cell_type": "code",
   "execution_count": 3,
   "id": "3c25368d-717b-4d2b-abf5-8decf7ea050d",
   "metadata": {},
   "outputs": [
    {
     "name": "stdin",
     "output_type": "stream",
     "text": [
      " 3\n",
      " 1 2 3\n",
      " 2\n",
      " 20 23\n",
      " 10 \n",
      " 6 10 4 1 5 9 8 6 5 1\n",
      " 1\n",
      " 1000000000\n"
     ]
    }
   ],
   "source": [
    "n = []\n",
    "An = []\n",
    "for _ in range(T):\n",
    "    n.append(int(input()))\n",
    "    An.append(list(map(int, input().split())))"
   ]
  },
  {
   "cell_type": "code",
   "execution_count": 4,
   "id": "bd9f4222-ff3e-4701-8c40-af48dac94e3c",
   "metadata": {},
   "outputs": [
    {
     "name": "stdout",
     "output_type": "stream",
     "text": [
      "2\n",
      "1\n",
      "5\n",
      "0\n"
     ]
    }
   ],
   "source": [
    "for A in An:\n",
    "    ocnt = 0\n",
    "    for a in A:\n",
    "        if a % 2 == 1:\n",
    "            ocnt += 1\n",
    "    print(ocnt)"
   ]
  },
  {
   "cell_type": "code",
   "execution_count": null,
   "id": "b499d56c-e8da-4a98-9804-7bd9cd8010fb",
   "metadata": {},
   "outputs": [],
   "source": []
  }
 ],
 "metadata": {
  "kernelspec": {
   "display_name": "Python 3",
   "language": "python",
   "name": "python3"
  },
  "language_info": {
   "codemirror_mode": {
    "name": "ipython",
    "version": 3
   },
   "file_extension": ".py",
   "mimetype": "text/x-python",
   "name": "python",
   "nbconvert_exporter": "python",
   "pygments_lexer": "ipython3",
   "version": "3.6.13"
  }
 },
 "nbformat": 4,
 "nbformat_minor": 5
}
