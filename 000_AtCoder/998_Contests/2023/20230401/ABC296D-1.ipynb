{
 "cells": [
  {
   "cell_type": "code",
   "execution_count": 1,
   "id": "fba3e46b-4c09-469b-8065-509262c43afa",
   "metadata": {},
   "outputs": [],
   "source": [
    "import sys\n",
    "import numpy as np\n",
    "import math\n",
    "import collections\n",
    "import copy\n",
    "import decimal\n",
    "import itertools\n",
    "import re\n",
    "import bisect\n",
    "import scipy\n",
    "import heapq\n",
    "from collections import deque \n",
    "from functools import reduce\n",
    "from itertools import product\n",
    "from itertools import combinations\n",
    "from functools import lru_cache\n",
    "from scipy.special import comb\n",
    "from numba import njit\n",
    "from bisect import bisect_right\n",
    "from bisect import bisect_left"
   ]
  },
  {
   "cell_type": "code",
   "execution_count": 25,
   "id": "3686f11a-6111-435f-a070-253a013918f9",
   "metadata": {},
   "outputs": [
    {
     "name": "stdin",
     "output_type": "stream",
     "text": [
      " 5 7\n"
     ]
    }
   ],
   "source": [
    "N, M = map(int, input().split())"
   ]
  },
  {
   "cell_type": "code",
   "execution_count": null,
   "id": "aef3061e-f50a-45fa-99ae-8cbf765a6059",
   "metadata": {},
   "outputs": [],
   "source": [
    "# TLE"
   ]
  },
  {
   "cell_type": "code",
   "execution_count": 44,
   "id": "41fb8555-82ab-46e8-bbc8-e7da36dfadd5",
   "metadata": {},
   "outputs": [],
   "source": [
    "# 約数のリスト作成\n",
    "import math\n",
    "def get_divisor_list(number):\n",
    "    number_sqrt = int(math.sqrt(number)) + 1\n",
    "    divisors = []\n",
    "    for i in range(1, int(number_sqrt)):\n",
    "        if i > N:\n",
    "            break\n",
    "        if number % i == 0:\n",
    "            # 割り切れたので約数\n",
    "            if number // i <= N:\n",
    "                divisors.append((i, number//i))\n",
    "    return divisors\n"
   ]
  },
  {
   "cell_type": "code",
   "execution_count": 47,
   "id": "ce17fd42-d405-4105-898d-d81a1d87319d",
   "metadata": {},
   "outputs": [],
   "source": [
    "def solve():\n",
    "    if N**2 < M:\n",
    "        return -1\n",
    "    num = M\n",
    "    while True:\n",
    "        divisors = get_divisor_list(num)\n",
    "        for v1, v2 in divisors:\n",
    "            if v1 <= N and v2 <= N:\n",
    "                return num\n",
    "        num += 1\n"
   ]
  },
  {
   "cell_type": "code",
   "execution_count": 48,
   "id": "f2b2e14d-0c44-41d8-8c2b-4dd07b6025aa",
   "metadata": {},
   "outputs": [
    {
     "name": "stdout",
     "output_type": "stream",
     "text": [
      "8\n"
     ]
    }
   ],
   "source": [
    "print(solve())"
   ]
  },
  {
   "cell_type": "code",
   "execution_count": 7,
   "id": "49081a41-7f6c-4455-a8c1-7133a9459ad4",
   "metadata": {},
   "outputs": [
    {
     "data": {
      "text/plain": [
       "[(1, 8), (2, 4)]"
      ]
     },
     "execution_count": 7,
     "metadata": {},
     "output_type": "execute_result"
    }
   ],
   "source": [
    "get_divisor_list(8)"
   ]
  },
  {
   "cell_type": "code",
   "execution_count": null,
   "id": "56540202-3efd-4214-89a9-33bd903ed65a",
   "metadata": {},
   "outputs": [],
   "source": [
    "# 解説を読んで実装"
   ]
  },
  {
   "cell_type": "code",
   "execution_count": 57,
   "id": "e5b06ac6-45fa-42dc-9806-e5e600335c0c",
   "metadata": {},
   "outputs": [],
   "source": [
    "def solve():\n",
    "    if N**2 < M:\n",
    "        return -1\n",
    "\n",
    "    ret = 10**24\n",
    "    for i in range(1, N+1):\n",
    "        x = (M + i - 1) // i\n",
    "        if x <= N:\n",
    "            ret = min(ret, i * x)\n",
    "            if i > x:\n",
    "                break\n",
    "    return ret"
   ]
  },
  {
   "cell_type": "code",
   "execution_count": 58,
   "id": "7917c746-a556-4b5b-894e-ebb2a164fcbb",
   "metadata": {},
   "outputs": [
    {
     "name": "stdout",
     "output_type": "stream",
     "text": [
      "8\n"
     ]
    }
   ],
   "source": [
    "print(solve())"
   ]
  },
  {
   "cell_type": "code",
   "execution_count": 60,
   "id": "81c4f39d-4941-4473-b992-aa3439ef418f",
   "metadata": {},
   "outputs": [
    {
     "data": {
      "text/plain": [
       "1000000.0"
      ]
     },
     "execution_count": 60,
     "metadata": {},
     "output_type": "execute_result"
    }
   ],
   "source": [
    "(10**12)**.5"
   ]
  },
  {
   "cell_type": "code",
   "execution_count": null,
   "id": "fd2a4da5-32c7-49c0-9396-8b0d5eb8edb3",
   "metadata": {},
   "outputs": [],
   "source": []
  }
 ],
 "metadata": {
  "kernelspec": {
   "display_name": "Python 3",
   "language": "python",
   "name": "python3"
  },
  "language_info": {
   "codemirror_mode": {
    "name": "ipython",
    "version": 3
   },
   "file_extension": ".py",
   "mimetype": "text/x-python",
   "name": "python",
   "nbconvert_exporter": "python",
   "pygments_lexer": "ipython3",
   "version": "3.6.13"
  }
 },
 "nbformat": 4,
 "nbformat_minor": 5
}
