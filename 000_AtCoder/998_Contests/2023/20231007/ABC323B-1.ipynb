{
 "cells": [
  {
   "cell_type": "code",
   "execution_count": 1,
   "id": "b0c5ba0f-5376-440e-ae92-472aacf573a5",
   "metadata": {
    "tags": []
   },
   "outputs": [],
   "source": [
    "import sys\n",
    "import numpy as np\n",
    "import math\n",
    "import collections\n",
    "import copy\n",
    "import decimal\n",
    "import itertools\n",
    "import re\n",
    "import bisect\n",
    "import scipy\n",
    "import heapq\n",
    "from collections import deque \n",
    "from functools import reduce\n",
    "from itertools import product\n",
    "from itertools import combinations\n",
    "from functools import lru_cache\n",
    "from scipy.special import comb\n",
    "from numba import njit\n",
    "from bisect import bisect_right\n",
    "from bisect import bisect_left"
   ]
  },
  {
   "cell_type": "code",
   "execution_count": 2,
   "id": "a2120eb7-95f1-41ad-8883-547e4f91d579",
   "metadata": {
    "tags": []
   },
   "outputs": [
    {
     "name": "stdin",
     "output_type": "stream",
     "text": [
      " 3\n"
     ]
    }
   ],
   "source": [
    "N = int(input())"
   ]
  },
  {
   "cell_type": "code",
   "execution_count": 3,
   "id": "8a4bdadc-89a9-45b4-aaf9-a44d47ad88e4",
   "metadata": {
    "tags": []
   },
   "outputs": [
    {
     "name": "stdin",
     "output_type": "stream",
     "text": [
      " -xx\n",
      " o-x\n",
      " oo-\n"
     ]
    }
   ],
   "source": [
    "Sn = [input() for _ in range(N)]"
   ]
  },
  {
   "cell_type": "code",
   "execution_count": 7,
   "id": "6e8f34ed-31c2-4ace-a8ab-3590878869bf",
   "metadata": {
    "tags": []
   },
   "outputs": [],
   "source": [
    "cnt = [[0] * 2 for _ in range(N)]\n",
    "for i in range(N):\n",
    "    cnt[i][0] = i + 1\n",
    "for i, S in enumerate(Sn):\n",
    "    for j, s in enumerate(S):\n",
    "        if Sn[i][j] == 'o':\n",
    "            cnt[i][1] += 1"
   ]
  },
  {
   "cell_type": "code",
   "execution_count": 12,
   "id": "6bdbf5cb-bd55-467f-98f4-5884b3ed0566",
   "metadata": {
    "tags": []
   },
   "outputs": [
    {
     "name": "stdout",
     "output_type": "stream",
     "text": [
      "3 2 1 "
     ]
    }
   ],
   "source": [
    "ans = sorted(cnt, reverse=True, key=lambda x:(x[1], -x[0]))\n",
    "for a1, a2 in ans:\n",
    "    print(a1, end=' ')"
   ]
  },
  {
   "cell_type": "code",
   "execution_count": 10,
   "id": "c36baeda-fd89-4d36-9fa5-2f98b4610aab",
   "metadata": {
    "tags": []
   },
   "outputs": [
    {
     "data": {
      "text/plain": [
       "[[3, 2], [2, 1], [1, 0]]"
      ]
     },
     "execution_count": 10,
     "metadata": {},
     "output_type": "execute_result"
    }
   ],
   "source": [
    "ans"
   ]
  },
  {
   "cell_type": "code",
   "execution_count": null,
   "id": "748e79fa-945e-48d8-ad82-07f036ed8195",
   "metadata": {},
   "outputs": [],
   "source": []
  }
 ],
 "metadata": {
  "kernelspec": {
   "display_name": "Python 3 (ipykernel)",
   "language": "python",
   "name": "python3"
  },
  "language_info": {
   "codemirror_mode": {
    "name": "ipython",
    "version": 3
   },
   "file_extension": ".py",
   "mimetype": "text/x-python",
   "name": "python",
   "nbconvert_exporter": "python",
   "pygments_lexer": "ipython3",
   "version": "3.11.3"
  }
 },
 "nbformat": 4,
 "nbformat_minor": 5
}
