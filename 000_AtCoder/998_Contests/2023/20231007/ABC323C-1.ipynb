{
 "cells": [
  {
   "cell_type": "code",
   "execution_count": 1,
   "id": "77b02177-018d-434e-bb01-efff7e45e0f5",
   "metadata": {
    "tags": []
   },
   "outputs": [],
   "source": [
    "import sys\n",
    "import numpy as np\n",
    "import math\n",
    "import collections\n",
    "import copy\n",
    "import decimal\n",
    "import itertools\n",
    "import re\n",
    "import bisect\n",
    "import scipy\n",
    "import heapq\n",
    "from collections import deque \n",
    "from functools import reduce\n",
    "from itertools import product\n",
    "from itertools import combinations\n",
    "from functools import lru_cache\n",
    "from scipy.special import comb\n",
    "from numba import njit\n",
    "from bisect import bisect_right\n",
    "from bisect import bisect_left"
   ]
  },
  {
   "cell_type": "code",
   "execution_count": 13,
   "id": "348b0933-7863-4744-be4d-276ec700b131",
   "metadata": {
    "tags": []
   },
   "outputs": [
    {
     "name": "stdin",
     "output_type": "stream",
     "text": [
      " 7 8\n"
     ]
    }
   ],
   "source": [
    "N, M = map(int, input().split())"
   ]
  },
  {
   "cell_type": "code",
   "execution_count": 14,
   "id": "62770331-4c84-434c-aee9-d2a9e79492d9",
   "metadata": {
    "tags": []
   },
   "outputs": [
    {
     "name": "stdin",
     "output_type": "stream",
     "text": [
      " 500 500 500 500 500 500 500 500\n"
     ]
    }
   ],
   "source": [
    "An = list(map(int, input().split()))"
   ]
  },
  {
   "cell_type": "code",
   "execution_count": 15,
   "id": "4c657216-6805-4089-81a7-a58559764627",
   "metadata": {
    "tags": []
   },
   "outputs": [
    {
     "name": "stdin",
     "output_type": "stream",
     "text": [
      " xxxxxxxx\n",
      " oxxxxxxx\n",
      " ooxxxxxx\n",
      " oooxxxxx\n",
      " ooooxxxx\n",
      " oooooxxx\n",
      " ooooooxx\n"
     ]
    }
   ],
   "source": [
    "Sn = [input() for _ in range(N)]"
   ]
  },
  {
   "cell_type": "code",
   "execution_count": 16,
   "id": "56848238-db51-4b22-82b3-4ba58566a865",
   "metadata": {
    "tags": []
   },
   "outputs": [],
   "source": [
    "point = [0] * N\n",
    "for i, S in enumerate(Sn):\n",
    "    point[i] += i\n",
    "    for j, s in enumerate(S):\n",
    "        if s == 'o':\n",
    "            point[i] += An[j]\n"
   ]
  },
  {
   "cell_type": "code",
   "execution_count": 32,
   "id": "9870a590-745d-429b-9ace-c976860780c5",
   "metadata": {
    "tags": []
   },
   "outputs": [],
   "source": [
    "def solve(n, p):\n",
    "    ret = 0\n",
    "    pp = p\n",
    "    if p >= pa:\n",
    "        return 0\n",
    "    \n",
    "    for A, j in An_s:\n",
    "        if Sn[n][j] == 'o':\n",
    "            continue\n",
    "        ret += 1\n",
    "        pp += A\n",
    "        if pp >= pa:\n",
    "            break\n",
    "    return ret\n"
   ]
  },
  {
   "cell_type": "code",
   "execution_count": 33,
   "id": "b92bcfda-3761-4e33-bfd0-6fcd3429f226",
   "metadata": {
    "tags": []
   },
   "outputs": [
    {
     "name": "stdout",
     "output_type": "stream",
     "text": [
      "7\n",
      "6\n",
      "5\n",
      "4\n",
      "3\n",
      "2\n",
      "0\n"
     ]
    }
   ],
   "source": [
    "An2 = []\n",
    "for i, A in enumerate(An):\n",
    "    An2.append((A, i))\n",
    "An_s = sorted(An2, reverse=True)\n",
    "pa = max(point)\n",
    "for i, po in enumerate(point):\n",
    "    print(solve(i, po))"
   ]
  },
  {
   "cell_type": "code",
   "execution_count": 34,
   "id": "5a4e9ba3-ba7e-42b0-aaee-f8776dae8d5e",
   "metadata": {
    "tags": []
   },
   "outputs": [
    {
     "data": {
      "text/plain": [
       "[(500, 7),\n",
       " (500, 6),\n",
       " (500, 5),\n",
       " (500, 4),\n",
       " (500, 3),\n",
       " (500, 2),\n",
       " (500, 1),\n",
       " (500, 0)]"
      ]
     },
     "execution_count": 34,
     "metadata": {},
     "output_type": "execute_result"
    }
   ],
   "source": [
    "An_s"
   ]
  },
  {
   "cell_type": "code",
   "execution_count": 20,
   "id": "b6ce469c-2b5b-44a4-8209-c751fed267a2",
   "metadata": {
    "tags": []
   },
   "outputs": [
    {
     "data": {
      "text/plain": [
       "[0, 501, 1002, 1503, 2004, 2505, 3006]"
      ]
     },
     "execution_count": 20,
     "metadata": {},
     "output_type": "execute_result"
    }
   ],
   "source": [
    "point"
   ]
  },
  {
   "cell_type": "code",
   "execution_count": 23,
   "id": "f5a221eb-ba56-4c2d-888f-6fbe774f30ad",
   "metadata": {
    "tags": []
   },
   "outputs": [
    {
     "data": {
      "text/plain": [
       "[(500, 0),\n",
       " (500, 1),\n",
       " (500, 2),\n",
       " (500, 3),\n",
       " (500, 4),\n",
       " (500, 5),\n",
       " (500, 6),\n",
       " (500, 7)]"
      ]
     },
     "execution_count": 23,
     "metadata": {},
     "output_type": "execute_result"
    }
   ],
   "source": [
    "An2"
   ]
  },
  {
   "cell_type": "code",
   "execution_count": null,
   "id": "9eb5c803-4897-4b82-ac5f-a501cd0d05c1",
   "metadata": {},
   "outputs": [],
   "source": []
  }
 ],
 "metadata": {
  "kernelspec": {
   "display_name": "Python 3 (ipykernel)",
   "language": "python",
   "name": "python3"
  },
  "language_info": {
   "codemirror_mode": {
    "name": "ipython",
    "version": 3
   },
   "file_extension": ".py",
   "mimetype": "text/x-python",
   "name": "python",
   "nbconvert_exporter": "python",
   "pygments_lexer": "ipython3",
   "version": "3.11.3"
  }
 },
 "nbformat": 4,
 "nbformat_minor": 5
}
