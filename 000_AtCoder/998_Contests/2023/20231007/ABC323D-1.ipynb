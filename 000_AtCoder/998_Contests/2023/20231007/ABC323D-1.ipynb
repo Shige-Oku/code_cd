{
 "cells": [
  {
   "cell_type": "code",
   "execution_count": 1,
   "id": "4e95a0cc-425c-4b4d-834b-490375a536c2",
   "metadata": {
    "tags": []
   },
   "outputs": [],
   "source": [
    "import sys\n",
    "import numpy as np\n",
    "import math\n",
    "import collections\n",
    "import copy\n",
    "import decimal\n",
    "import itertools\n",
    "import re\n",
    "import bisect\n",
    "import scipy\n",
    "import heapq\n",
    "from collections import deque \n",
    "from functools import reduce\n",
    "from itertools import product\n",
    "from itertools import combinations\n",
    "from functools import lru_cache\n",
    "from scipy.special import comb\n",
    "from numba import njit\n",
    "from bisect import bisect_right\n",
    "from bisect import bisect_left"
   ]
  },
  {
   "cell_type": "code",
   "execution_count": 39,
   "id": "8898166a-03e3-47d5-aea4-f1370cfc7529",
   "metadata": {
    "tags": []
   },
   "outputs": [
    {
     "name": "stdin",
     "output_type": "stream",
     "text": [
      " 1\n"
     ]
    }
   ],
   "source": [
    "N = int(input())"
   ]
  },
  {
   "cell_type": "code",
   "execution_count": 40,
   "id": "e2a60d1d-150b-4ac7-ac45-7fd31acb767d",
   "metadata": {
    "tags": []
   },
   "outputs": [
    {
     "name": "stdin",
     "output_type": "stream",
     "text": [
      " 1000000000 1000000000\n"
     ]
    }
   ],
   "source": [
    "SCn = [list(map(int, input().split())) for _ in range(N)]"
   ]
  },
  {
   "cell_type": "code",
   "execution_count": 47,
   "id": "4d7e3554-b916-4279-9198-041b6a2d2ec0",
   "metadata": {
    "tags": []
   },
   "outputs": [],
   "source": [
    "cnt = {}\n",
    "for S, C in SCn:\n",
    "    if S in cnt:\n",
    "        cnt[S] += C\n",
    "    else:\n",
    "        cnt[S] = C"
   ]
  },
  {
   "cell_type": "code",
   "execution_count": 53,
   "id": "c7136e70-8675-465f-8e75-2e84ca298191",
   "metadata": {
    "tags": []
   },
   "outputs": [],
   "source": [
    "import heapq\n",
    "def solve():\n",
    "    q = []\n",
    "    for k, v in cnt_l_s:\n",
    "        heapq.heappush(q, k)\n",
    "    while q:\n",
    "        number = heapq.heappop(q)\n",
    "        r, m = divmod(cnt[number], 2)\n",
    "        if r == 0:\n",
    "            continue\n",
    "        cnt[number] = m\n",
    "        if 2 * number in cnt:\n",
    "            cnt[2*number] += r\n",
    "        else:\n",
    "            cnt[2*number] = r      \n",
    "            heapq.heappush(q, number*2)\n",
    "    return"
   ]
  },
  {
   "cell_type": "code",
   "execution_count": 54,
   "id": "f037c772-d862-4d70-8acf-23be36ef2318",
   "metadata": {
    "tags": []
   },
   "outputs": [],
   "source": [
    "cnt_l = list(cnt.items())\n",
    "cnt_l_s = sorted(cnt_l)\n",
    "solve()"
   ]
  },
  {
   "cell_type": "code",
   "execution_count": 55,
   "id": "21c0894b-21ee-4986-b241-8b3056e7eb23",
   "metadata": {
    "tags": []
   },
   "outputs": [
    {
     "name": "stdout",
     "output_type": "stream",
     "text": [
      "13\n"
     ]
    }
   ],
   "source": [
    "ans = 0\n",
    "for k, v in cnt.items():\n",
    "    if v > 0:\n",
    "        ans += v\n",
    "print(ans)"
   ]
  },
  {
   "cell_type": "code",
   "execution_count": 56,
   "id": "0b88ce38-58dc-4375-b70b-53fef25ee5d3",
   "metadata": {
    "tags": []
   },
   "outputs": [
    {
     "name": "stdout",
     "output_type": "stream",
     "text": [
      "13\n"
     ]
    }
   ],
   "source": [
    "print(sum(cnt.values()))"
   ]
  },
  {
   "cell_type": "code",
   "execution_count": 45,
   "id": "99038474-0ec1-4672-b381-cd971ca43599",
   "metadata": {
    "tags": []
   },
   "outputs": [
    {
     "data": {
      "text/plain": [
       "({1000000000: 0, 2000000000: 500000000}, [(1000000000, 1000000000)])"
      ]
     },
     "execution_count": 45,
     "metadata": {},
     "output_type": "execute_result"
    }
   ],
   "source": [
    "cnt, cnt_l_s"
   ]
  },
  {
   "cell_type": "code",
   "execution_count": 28,
   "id": "5014f060-20ae-4eb8-bdb3-0783c21e64a4",
   "metadata": {
    "tags": []
   },
   "outputs": [
    {
     "data": {
      "text/plain": [
       "{3: 1, 5: 1, 6: 1, 10: 0, 12: 0}"
      ]
     },
     "execution_count": 28,
     "metadata": {},
     "output_type": "execute_result"
    }
   ],
   "source": [
    "cnt"
   ]
  },
  {
   "cell_type": "code",
   "execution_count": null,
   "id": "37be7dc8-bffa-49c3-b69a-91062991596a",
   "metadata": {},
   "outputs": [],
   "source": []
  }
 ],
 "metadata": {
  "kernelspec": {
   "display_name": "Python 3 (ipykernel)",
   "language": "python",
   "name": "python3"
  },
  "language_info": {
   "codemirror_mode": {
    "name": "ipython",
    "version": 3
   },
   "file_extension": ".py",
   "mimetype": "text/x-python",
   "name": "python",
   "nbconvert_exporter": "python",
   "pygments_lexer": "ipython3",
   "version": "3.11.3"
  }
 },
 "nbformat": 4,
 "nbformat_minor": 5
}
