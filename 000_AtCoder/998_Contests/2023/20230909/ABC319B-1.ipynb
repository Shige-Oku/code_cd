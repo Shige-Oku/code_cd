{
 "cells": [
  {
   "cell_type": "code",
   "execution_count": 1,
   "id": "fa4bcdbc-7290-4501-9e2c-0d6679f0de05",
   "metadata": {
    "tags": []
   },
   "outputs": [],
   "source": [
    "import sys\n",
    "import numpy as np\n",
    "import math\n",
    "import collections\n",
    "import copy\n",
    "import decimal\n",
    "import itertools\n",
    "import re\n",
    "import bisect\n",
    "import scipy\n",
    "import heapq\n",
    "from collections import deque \n",
    "from functools import reduce\n",
    "from itertools import product\n",
    "from itertools import combinations\n",
    "from functools import lru_cache\n",
    "from scipy.special import comb\n",
    "from numba import njit\n",
    "from bisect import bisect_right\n",
    "from bisect import bisect_left"
   ]
  },
  {
   "cell_type": "code",
   "execution_count": 20,
   "id": "f21c47e4-d1b4-444c-abdf-ef3c169c7c78",
   "metadata": {
    "tags": []
   },
   "outputs": [
    {
     "name": "stdin",
     "output_type": "stream",
     "text": [
      " 1\n"
     ]
    }
   ],
   "source": [
    "N = int(input())"
   ]
  },
  {
   "cell_type": "code",
   "execution_count": 21,
   "id": "e232bed9-1382-4fbf-9730-af2a5d8bd700",
   "metadata": {
    "tags": []
   },
   "outputs": [],
   "source": [
    "ans = ['-'] * (N+1)\n",
    "for i in range(N+1):\n",
    "    for j in range(1, 10):\n",
    "        if N % j != 0:\n",
    "            continue\n",
    "        if i % (N//j) == 0:\n",
    "            ans[i] = str(j)\n",
    "            break"
   ]
  },
  {
   "cell_type": "code",
   "execution_count": 22,
   "id": "55b37a4c-bdaa-4f6b-9d84-b59011a05b50",
   "metadata": {
    "tags": []
   },
   "outputs": [
    {
     "name": "stdout",
     "output_type": "stream",
     "text": [
      "11\n"
     ]
    }
   ],
   "source": [
    "print(''.join(ans))"
   ]
  },
  {
   "cell_type": "code",
   "execution_count": 5,
   "id": "17781b74-880b-4929-81b3-09847325ebe1",
   "metadata": {
    "tags": []
   },
   "outputs": [],
   "source": [
    "ans[1] = '0'"
   ]
  },
  {
   "cell_type": "code",
   "execution_count": 6,
   "id": "7c9ef2ea-3771-41a7-b6e4-d47cb0bade6c",
   "metadata": {
    "tags": []
   },
   "outputs": [
    {
     "data": {
      "text/plain": [
       "['-', '0', '-', '-', '-', '-', '-', '-', '-', '-', '-', '-', '-']"
      ]
     },
     "execution_count": 6,
     "metadata": {},
     "output_type": "execute_result"
    }
   ],
   "source": [
    "ans"
   ]
  },
  {
   "cell_type": "code",
   "execution_count": null,
   "id": "b3556ef0-56fb-450d-ae88-2c6b7fd0d8e7",
   "metadata": {},
   "outputs": [],
   "source": []
  }
 ],
 "metadata": {
  "kernelspec": {
   "display_name": "Python 3 (ipykernel)",
   "language": "python",
   "name": "python3"
  },
  "language_info": {
   "codemirror_mode": {
    "name": "ipython",
    "version": 3
   },
   "file_extension": ".py",
   "mimetype": "text/x-python",
   "name": "python",
   "nbconvert_exporter": "python",
   "pygments_lexer": "ipython3",
   "version": "3.11.3"
  }
 },
 "nbformat": 4,
 "nbformat_minor": 5
}
