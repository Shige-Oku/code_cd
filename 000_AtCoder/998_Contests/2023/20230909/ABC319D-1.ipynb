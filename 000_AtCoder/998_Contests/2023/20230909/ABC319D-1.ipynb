{
 "cells": [
  {
   "cell_type": "code",
   "execution_count": 1,
   "id": "95560cb5-41bc-456b-8ab0-63cfcb0adbb5",
   "metadata": {
    "tags": []
   },
   "outputs": [],
   "source": [
    "import sys\n",
    "import numpy as np\n",
    "import math\n",
    "import collections\n",
    "import copy\n",
    "import decimal\n",
    "import itertools\n",
    "import re\n",
    "import bisect\n",
    "import scipy\n",
    "import heapq\n",
    "from collections import deque \n",
    "from functools import reduce\n",
    "from itertools import product\n",
    "from itertools import combinations\n",
    "from functools import lru_cache\n",
    "from scipy.special import comb\n",
    "from numba import njit\n",
    "from bisect import bisect_right\n",
    "from bisect import bisect_left"
   ]
  },
  {
   "cell_type": "code",
   "execution_count": 47,
   "id": "3ae96f5b-fad6-4dc1-ad4b-9162033b9561",
   "metadata": {
    "tags": []
   },
   "outputs": [
    {
     "name": "stdin",
     "output_type": "stream",
     "text": [
      " 30 8\n"
     ]
    }
   ],
   "source": [
    "N, M = map(int, input().split())"
   ]
  },
  {
   "cell_type": "code",
   "execution_count": 48,
   "id": "1f6060a0-02ed-4cbb-b1e4-820b9af32176",
   "metadata": {
    "tags": []
   },
   "outputs": [
    {
     "name": "stdin",
     "output_type": "stream",
     "text": [
      " 8 55 26 97 48 37 47 35 55 5 17 62 2 60 23 99 73 34 75 7 46 82 84 29 41 32 31 52 32 60\n"
     ]
    }
   ],
   "source": [
    "Ln = list(map(int, input().split()))"
   ]
  },
  {
   "cell_type": "code",
   "execution_count": 52,
   "id": "7c590a2b-0099-40f1-83f7-3176864ce3b7",
   "metadata": {
    "tags": []
   },
   "outputs": [],
   "source": [
    "def check(m):\n",
    "    line = 1\n",
    "    st = 0\n",
    "    for L in Ln:\n",
    "        if st + L > m:\n",
    "            line += 1\n",
    "            st = L + 1\n",
    "        else:\n",
    "            st += L + 1\n",
    "    return line <= M"
   ]
  },
  {
   "cell_type": "code",
   "execution_count": 57,
   "id": "a475776e-74ad-4fc3-8bec-a3fb1e52ae81",
   "metadata": {
    "tags": []
   },
   "outputs": [],
   "source": [
    "def my_bisect(n):\n",
    "    l = max(Ln)-1\n",
    "    r = n+1\n",
    "    while l + 1 < r:\n",
    "        m = (r + l) // 2\n",
    "        if check(m):\n",
    "            r = m\n",
    "        else:\n",
    "            l = m\n",
    "    return r"
   ]
  },
  {
   "cell_type": "code",
   "execution_count": 60,
   "id": "b2d262a2-35f8-4c9e-9695-fc84eba8aab2",
   "metadata": {
    "tags": []
   },
   "outputs": [
    {
     "data": {
      "text/plain": [
       "189"
      ]
     },
     "execution_count": 60,
     "metadata": {},
     "output_type": "execute_result"
    }
   ],
   "source": [
    "my_bisect(10**20)"
   ]
  },
  {
   "cell_type": "code",
   "execution_count": 39,
   "id": "c1cd3649-3f9b-452b-8c43-f8b61be955b5",
   "metadata": {
    "tags": []
   },
   "outputs": [
    {
     "data": {
      "text/plain": [
       "True"
      ]
     },
     "execution_count": 39,
     "metadata": {},
     "output_type": "execute_result"
    }
   ],
   "source": [
    "check(26)"
   ]
  },
  {
   "cell_type": "code",
   "execution_count": null,
   "id": "2bbf3c27-318a-4592-bbf8-2682b8e8d324",
   "metadata": {},
   "outputs": [],
   "source": []
  }
 ],
 "metadata": {
  "kernelspec": {
   "display_name": "Python 3 (ipykernel)",
   "language": "python",
   "name": "python3"
  },
  "language_info": {
   "codemirror_mode": {
    "name": "ipython",
    "version": 3
   },
   "file_extension": ".py",
   "mimetype": "text/x-python",
   "name": "python",
   "nbconvert_exporter": "python",
   "pygments_lexer": "ipython3",
   "version": "3.11.3"
  }
 },
 "nbformat": 4,
 "nbformat_minor": 5
}
