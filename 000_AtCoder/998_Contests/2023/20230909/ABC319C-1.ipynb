{
 "cells": [
  {
   "cell_type": "code",
   "execution_count": 1,
   "id": "75e297fd-2808-47da-beb3-493a134cc22f",
   "metadata": {
    "tags": []
   },
   "outputs": [],
   "source": [
    "import sys\n",
    "import numpy as np\n",
    "import math\n",
    "import collections\n",
    "import copy\n",
    "import decimal\n",
    "import itertools\n",
    "import re\n",
    "import bisect\n",
    "import scipy\n",
    "import heapq\n",
    "from collections import deque \n",
    "from functools import reduce\n",
    "from itertools import product\n",
    "from itertools import combinations\n",
    "from functools import lru_cache\n",
    "from scipy.special import comb\n",
    "from numba import njit\n",
    "from bisect import bisect_right\n",
    "from bisect import bisect_left"
   ]
  },
  {
   "cell_type": "code",
   "execution_count": 17,
   "id": "37e8e276-0e49-4238-8ef7-0a150d8cac9b",
   "metadata": {
    "tags": []
   },
   "outputs": [
    {
     "name": "stdin",
     "output_type": "stream",
     "text": [
      " 3 6 7\n"
     ]
    }
   ],
   "source": [
    "C11, C12, C13 = map(int, input().split())"
   ]
  },
  {
   "cell_type": "code",
   "execution_count": 18,
   "id": "639969cc-67fa-40e2-8183-84855b6358d7",
   "metadata": {
    "tags": []
   },
   "outputs": [
    {
     "name": "stdin",
     "output_type": "stream",
     "text": [
      " 1 9 7\n"
     ]
    }
   ],
   "source": [
    "C21, C22, C23 = map(int, input().split())"
   ]
  },
  {
   "cell_type": "code",
   "execution_count": 19,
   "id": "72bf21dd-ddfb-4d3b-b4e8-e27b62411ea5",
   "metadata": {
    "tags": []
   },
   "outputs": [
    {
     "name": "stdin",
     "output_type": "stream",
     "text": [
      " 5 7 5\n"
     ]
    }
   ],
   "source": [
    "C31, C32, C33 = map(int, input().split())"
   ]
  },
  {
   "cell_type": "code",
   "execution_count": 12,
   "id": "9be14402-886b-40f4-a3d0-98ea8222bfd9",
   "metadata": {
    "tags": []
   },
   "outputs": [],
   "source": [
    "C = [[C11, C12, C13], [C21, C22, C23], [C31, C32, C33]]"
   ]
  },
  {
   "cell_type": "code",
   "execution_count": 20,
   "id": "a8768288-2739-4de3-bbc1-a3c5ec8afc59",
   "metadata": {
    "tags": []
   },
   "outputs": [],
   "source": [
    "def check(p, h, w, f):\n",
    "    if p+1 in (1, 4, 7):\n",
    "        s = set()\n",
    "        if f[0][0] + f[1][0] + f[2][0] == 2:\n",
    "            if f[0][0]:\n",
    "                s.add(C11)\n",
    "            if f[1][0]:\n",
    "                s.add(C21)\n",
    "            if f[2][0]:\n",
    "                s.add(C31)\n",
    "            if len(s) != 2:\n",
    "                # print(1, 4, 7)\n",
    "                return False\n",
    "\n",
    "    if p+1 in (2, 5, 8):\n",
    "        s = set()\n",
    "        if f[0][1] + f[1][1] + f[2][1] == 2:\n",
    "            if f[0][1]:\n",
    "                s.add(C12)\n",
    "            if f[1][1]:\n",
    "                s.add(C22)\n",
    "            if f[2][1]:\n",
    "                s.add(C32)\n",
    "            if len(s) != 2:\n",
    "                # print(2, 5, 8)\n",
    "                return False \n",
    "            \n",
    "    if p+1 in (3, 6, 9):\n",
    "        s = set()\n",
    "        if f[0][2] + f[1][2] + f[2][2] == 2:\n",
    "            if f[0][2]:\n",
    "                s.add(C13)\n",
    "            if f[1][2]:\n",
    "                s.add(C23)\n",
    "            if f[2][2]:\n",
    "                s.add(C33)\n",
    "            if len(s) != 2:\n",
    "                # print(3, 6, 9)\n",
    "                return False \n",
    "            \n",
    "    if p+1 in (1, 2, 3):\n",
    "        s = set()\n",
    "        if f[0][0] + f[0][1] + f[0][2] == 2:\n",
    "            if f[0][0]:\n",
    "                s.add(C11)\n",
    "            if f[0][1]:\n",
    "                s.add(C12)\n",
    "            if f[0][2]:\n",
    "                s.add(C13)\n",
    "            if len(s) != 2:\n",
    "                # print(1, 2, 3)\n",
    "                return False \n",
    "\n",
    "    if p+1 in (4, 5, 6):\n",
    "        s = set()\n",
    "        if f[1][0] + f[1][1] + f[1][2] == 2:\n",
    "            if f[1][0]:\n",
    "                s.add(C21)\n",
    "            if f[1][1]:\n",
    "                s.add(C22)\n",
    "            if f[1][2]:\n",
    "                s.add(C23)\n",
    "            if len(s) != 2:\n",
    "                # print(4, 5, 6)\n",
    "                # print(f[1])\n",
    "                # print(C21, C22, C23)\n",
    "                # print(s)\n",
    "                return False \n",
    "            \n",
    "    if p+1 in (7, 8, 9):\n",
    "        s = set()\n",
    "        if f[2][0] + f[2][1] + f[2][2] == 2:\n",
    "            if f[2][0]:\n",
    "                s.add(C31)\n",
    "            if f[2][1]:\n",
    "                s.add(C32)\n",
    "            if f[2][2]:\n",
    "                s.add(C33)\n",
    "            if len(s) != 2:\n",
    "                # print(7, 8, 9)\n",
    "                return False \n",
    "\n",
    "    if p+1 in (1, 5, 9):\n",
    "        s = set()\n",
    "        if f[0][0] + f[1][1] + f[2][2] == 2:\n",
    "            if f[0][0]:\n",
    "                s.add(C11)\n",
    "            if f[1][1]:\n",
    "                s.add(C22)\n",
    "            if f[2][2]:\n",
    "                s.add(C33)\n",
    "            if len(s) != 2:\n",
    "                # print(1, 5, 9)\n",
    "                return False \n",
    "    if p+1 in (3, 5, 7):\n",
    "        s = set()\n",
    "        if f[0][2] + f[1][1] + f[2][0] == 2:\n",
    "            if f[0][2]:\n",
    "                s.add(C13)\n",
    "            if f[1][1]:\n",
    "                s.add(C22)\n",
    "            if f[2][0]:\n",
    "                s.add(C31)\n",
    "            if len(s) != 2:\n",
    "                # print(3, 5, 7)\n",
    "                return False \n",
    "                \n",
    "    return True"
   ]
  },
  {
   "cell_type": "code",
   "execution_count": 21,
   "id": "6b65de6d-75b0-4120-b2a4-b2f730b3b5c6",
   "metadata": {
    "tags": []
   },
   "outputs": [],
   "source": [
    "def solve(P):\n",
    "    # print(P)\n",
    "    f = [[False] * 3 for _ in range(3)]\n",
    "    for p in P:\n",
    "        h, w = divmod(p, 3)\n",
    "        f[h][w] = True\n",
    "        if not check(p, h, w, f):\n",
    "            # print(p, h, w)\n",
    "            # print(f)\n",
    "            return False\n",
    "    return True"
   ]
  },
  {
   "cell_type": "code",
   "execution_count": 22,
   "id": "12c8bbd2-a41e-4a54-9173-ef60a0eefca1",
   "metadata": {
    "tags": []
   },
   "outputs": [],
   "source": [
    "from itertools import permutations\n",
    "ok, ng = 0,0\n",
    "for P in permutations(range(9), 9):\n",
    "    if solve(P):\n",
    "        ok += 1\n",
    "    else:\n",
    "        ng += 1"
   ]
  },
  {
   "cell_type": "code",
   "execution_count": 23,
   "id": "9a06fd2e-90a7-47bb-a7e1-5681fac64050",
   "metadata": {
    "tags": []
   },
   "outputs": [
    {
     "name": "stdout",
     "output_type": "stream",
     "text": [
      "0.4\n"
     ]
    }
   ],
   "source": [
    "print(ok/(ok+ng))"
   ]
  },
  {
   "cell_type": "code",
   "execution_count": 10,
   "id": "5f6ad310-c85e-4cec-8da3-a0e58715f71a",
   "metadata": {
    "tags": []
   },
   "outputs": [],
   "source": [
    "s = set([C11, C12, C13])"
   ]
  },
  {
   "cell_type": "code",
   "execution_count": 11,
   "id": "0272384f-6a02-4ac8-af32-f56c0ac35efd",
   "metadata": {
    "tags": []
   },
   "outputs": [
    {
     "data": {
      "text/plain": [
       "{1, 3, 9}"
      ]
     },
     "execution_count": 11,
     "metadata": {},
     "output_type": "execute_result"
    }
   ],
   "source": [
    "s"
   ]
  },
  {
   "cell_type": "code",
   "execution_count": 12,
   "id": "31d3ff22-e459-4f97-9095-14842e42aa5c",
   "metadata": {
    "tags": []
   },
   "outputs": [
    {
     "data": {
      "text/plain": [
       "(241920, 120960)"
      ]
     },
     "execution_count": 12,
     "metadata": {},
     "output_type": "execute_result"
    }
   ],
   "source": [
    "ok, ng"
   ]
  },
  {
   "cell_type": "code",
   "execution_count": 27,
   "id": "c9d8ef90-1509-4e29-94fe-f71be30538a0",
   "metadata": {
    "tags": []
   },
   "outputs": [
    {
     "data": {
      "text/plain": [
       "False"
      ]
     },
     "execution_count": 27,
     "metadata": {},
     "output_type": "execute_result"
    }
   ],
   "source": [
    "solve([0, 2, 1, 3, 4, 5, 6, 7, 8, 9])"
   ]
  },
  {
   "cell_type": "code",
   "execution_count": 14,
   "id": "a90f9d07-8582-49c4-888d-bd2b2c7950ed",
   "metadata": {
    "tags": []
   },
   "outputs": [
    {
     "data": {
      "text/plain": [
       "2"
      ]
     },
     "execution_count": 14,
     "metadata": {},
     "output_type": "execute_result"
    }
   ],
   "source": [
    "True + False + True"
   ]
  },
  {
   "cell_type": "code",
   "execution_count": null,
   "id": "090804ce-d336-4b2d-812d-707fbb60c7e8",
   "metadata": {},
   "outputs": [],
   "source": []
  },
  {
   "cell_type": "code",
   "execution_count": null,
   "id": "5588f829-67fa-42c3-ba0b-f4c10c467ea0",
   "metadata": {},
   "outputs": [],
   "source": []
  }
 ],
 "metadata": {
  "kernelspec": {
   "display_name": "Python 3 (ipykernel)",
   "language": "python",
   "name": "python3"
  },
  "language_info": {
   "codemirror_mode": {
    "name": "ipython",
    "version": 3
   },
   "file_extension": ".py",
   "mimetype": "text/x-python",
   "name": "python",
   "nbconvert_exporter": "python",
   "pygments_lexer": "ipython3",
   "version": "3.11.3"
  }
 },
 "nbformat": 4,
 "nbformat_minor": 5
}
