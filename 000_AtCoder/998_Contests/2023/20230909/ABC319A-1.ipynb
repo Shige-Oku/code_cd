{
 "cells": [
  {
   "cell_type": "code",
   "execution_count": 1,
   "id": "28934727-54e6-4160-8e9f-c09a296a364f",
   "metadata": {
    "tags": []
   },
   "outputs": [],
   "source": [
    "import sys\n",
    "import numpy as np\n",
    "import math\n",
    "import collections\n",
    "import copy\n",
    "import decimal\n",
    "import itertools\n",
    "import re\n",
    "import bisect\n",
    "import scipy\n",
    "import heapq\n",
    "from collections import deque \n",
    "from functools import reduce\n",
    "from itertools import product\n",
    "from itertools import combinations\n",
    "from functools import lru_cache\n",
    "from scipy.special import comb\n",
    "from numba import njit\n",
    "from bisect import bisect_right\n",
    "from bisect import bisect_left"
   ]
  },
  {
   "cell_type": "code",
   "execution_count": 16,
   "id": "3641a5a0-0ff8-44fb-adb2-89d7018d38db",
   "metadata": {
    "tags": []
   },
   "outputs": [
    {
     "name": "stdin",
     "output_type": "stream",
     "text": [
      " semiexp\n"
     ]
    }
   ],
   "source": [
    "S = input()"
   ]
  },
  {
   "cell_type": "code",
   "execution_count": 24,
   "id": "c9d59cd0-ae4d-4a55-846b-12e01e6f0672",
   "metadata": {
    "tags": []
   },
   "outputs": [],
   "source": [
    "di = {\n",
    "    \"tourist\" :3858,\n",
    "    \"ksun48\" :3679,\n",
    "    \"Benq\" :3658,\n",
    "    \"Um_nik\" :3648,\n",
    "    \"apiad\" :3638,\n",
    "    \"Stonefeang\" :3630,\n",
    "    \"ecnerwala\" :3613,\n",
    "    \"mnbvmar\" :3555,\n",
    "    \"newbiedmy\" :3516,\n",
    "    \"semiexp\" :3481,\n",
    "}"
   ]
  },
  {
   "cell_type": "code",
   "execution_count": 21,
   "id": "da2f7b1f-d40b-4bb3-bca8-1f65c6827531",
   "metadata": {
    "tags": []
   },
   "outputs": [],
   "source": [
    "def solve(s):\n",
    "    if s == \"tourist\":\n",
    "        return 3858\n",
    "    if s == \"ksun48\":\n",
    "        return 3679\n",
    "    if s == \"Benq\" :\n",
    "        return 3658\n",
    "    if s == \"Um_nik\" :\n",
    "        return 3648\n",
    "    if s == \"apiad\" :\n",
    "        return 3638\n",
    "    if s == \"Stonefeang\" :\n",
    "        return 3630\n",
    "    if s ==  \"ecnerwala\" :\n",
    "        return 3613\n",
    "    if s == \"mnbvmar\" :\n",
    "        return 3555\n",
    "    if s == \"newbiedmy\" :\n",
    "        return 3516\n",
    "    return 3481"
   ]
  },
  {
   "cell_type": "code",
   "execution_count": 22,
   "id": "6d6a0939-00b5-4d6a-86f7-812f4e838a64",
   "metadata": {
    "tags": []
   },
   "outputs": [
    {
     "name": "stdout",
     "output_type": "stream",
     "text": [
      "3481\n"
     ]
    }
   ],
   "source": [
    "print(solve(S))"
   ]
  },
  {
   "cell_type": "code",
   "execution_count": 25,
   "id": "80f5e274-fcda-4ff2-a93c-de4a69b55411",
   "metadata": {
    "tags": []
   },
   "outputs": [
    {
     "name": "stdout",
     "output_type": "stream",
     "text": [
      "3481\n"
     ]
    }
   ],
   "source": [
    "print(di[S])"
   ]
  },
  {
   "cell_type": "code",
   "execution_count": null,
   "id": "7706fe07-04ac-4fc1-b950-e6b88bb0041f",
   "metadata": {},
   "outputs": [],
   "source": []
  }
 ],
 "metadata": {
  "kernelspec": {
   "display_name": "Python 3 (ipykernel)",
   "language": "python",
   "name": "python3"
  },
  "language_info": {
   "codemirror_mode": {
    "name": "ipython",
    "version": 3
   },
   "file_extension": ".py",
   "mimetype": "text/x-python",
   "name": "python",
   "nbconvert_exporter": "python",
   "pygments_lexer": "ipython3",
   "version": "3.11.3"
  }
 },
 "nbformat": 4,
 "nbformat_minor": 5
}
