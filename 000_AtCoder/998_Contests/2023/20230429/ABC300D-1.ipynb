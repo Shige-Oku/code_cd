{
 "cells": [
  {
   "cell_type": "code",
   "execution_count": 1,
   "id": "24f98f74-a7f6-4002-b5e5-7ec3a080fbb7",
   "metadata": {},
   "outputs": [],
   "source": [
    "import sys\n",
    "import numpy as np\n",
    "import math\n",
    "import collections\n",
    "import copy\n",
    "import decimal\n",
    "import itertools\n",
    "import re\n",
    "import bisect\n",
    "import scipy\n",
    "import heapq\n",
    "from collections import deque \n",
    "from functools import reduce\n",
    "from itertools import product\n",
    "from itertools import combinations\n",
    "from functools import lru_cache\n",
    "from scipy.special import comb\n",
    "from numba import njit\n",
    "from bisect import bisect_right\n",
    "from bisect import bisect_left"
   ]
  },
  {
   "cell_type": "code",
   "execution_count": 33,
   "id": "a1cf57e2-a72b-4237-bb53-fd8de610edb6",
   "metadata": {},
   "outputs": [
    {
     "name": "stdin",
     "output_type": "stream",
     "text": [
      " 1000000000000\n"
     ]
    }
   ],
   "source": [
    "N = int(input())"
   ]
  },
  {
   "cell_type": "code",
   "execution_count": 34,
   "id": "84cb66bd-6ab2-47b5-9bd4-8e7b0a20ac91",
   "metadata": {},
   "outputs": [],
   "source": [
    "def getPrimes(n):\n",
    "    ret = []\n",
    "    isPrime = [True] * (n+1)\n",
    "    isPrime[:2] = False, False\n",
    "    isCheck = [False] * (n+1)\n",
    "    for i in range(2, int(n**.5)+1):\n",
    "        if isCheck[i]:\n",
    "            continue\n",
    "        for j in range(i*i, n+1, i):\n",
    "            isCheck[j] = True\n",
    "            isPrime[j] = False\n",
    "    for i in range(2, n+1):\n",
    "        if isPrime[i]:\n",
    "            ret.append(i)\n",
    "    return ret\n"
   ]
  },
  {
   "cell_type": "code",
   "execution_count": 41,
   "id": "f02b7a4b-51f3-4680-b517-e017dcb6ddb2",
   "metadata": {},
   "outputs": [
    {
     "ename": "KeyboardInterrupt",
     "evalue": "",
     "output_type": "error",
     "traceback": [
      "\u001b[1;31m---------------------------------------------------------------------------\u001b[0m",
      "\u001b[1;31mKeyboardInterrupt\u001b[0m                         Traceback (most recent call last)",
      "\u001b[1;32m<ipython-input-41-918eda90bdfa>\u001b[0m in \u001b[0;36m<module>\u001b[1;34m\u001b[0m\n\u001b[0;32m     10\u001b[0m             \u001b[1;32mbreak\u001b[0m\u001b[1;33m\u001b[0m\u001b[1;33m\u001b[0m\u001b[0m\n\u001b[0;32m     11\u001b[0m         \u001b[1;32mfor\u001b[0m \u001b[0mk\u001b[0m \u001b[1;32min\u001b[0m \u001b[0mrange\u001b[0m\u001b[1;33m(\u001b[0m\u001b[0mlen\u001b[0m\u001b[1;33m(\u001b[0m\u001b[0mprimes\u001b[0m\u001b[1;33m)\u001b[0m\u001b[1;33m-\u001b[0m\u001b[1;36m1\u001b[0m\u001b[1;33m,\u001b[0m \u001b[0mj\u001b[0m\u001b[1;33m,\u001b[0m \u001b[1;33m-\u001b[0m\u001b[1;36m1\u001b[0m\u001b[1;33m)\u001b[0m\u001b[1;33m:\u001b[0m\u001b[1;33m\u001b[0m\u001b[1;33m\u001b[0m\u001b[0m\n\u001b[1;32m---> 12\u001b[1;33m             \u001b[1;32mif\u001b[0m \u001b[0mnum2\u001b[0m \u001b[1;33m*\u001b[0m \u001b[0mprimes\u001b[0m\u001b[1;33m[\u001b[0m\u001b[0mk\u001b[0m\u001b[1;33m]\u001b[0m \u001b[1;33m**\u001b[0m \u001b[1;36m2\u001b[0m \u001b[1;33m<=\u001b[0m \u001b[0mN\u001b[0m\u001b[1;33m:\u001b[0m\u001b[1;33m\u001b[0m\u001b[1;33m\u001b[0m\u001b[0m\n\u001b[0m\u001b[0;32m     13\u001b[0m                 \u001b[1;32mbreak\u001b[0m\u001b[1;33m\u001b[0m\u001b[1;33m\u001b[0m\u001b[0m\n\u001b[0;32m     14\u001b[0m         \u001b[0mans\u001b[0m \u001b[1;33m+=\u001b[0m \u001b[0mk\u001b[0m \u001b[1;33m-\u001b[0m \u001b[0mj\u001b[0m\u001b[1;33m\u001b[0m\u001b[1;33m\u001b[0m\u001b[0m\n",
      "\u001b[1;31mKeyboardInterrupt\u001b[0m: "
     ]
    }
   ],
   "source": [
    "primes = getPrimes(int(N**0.5)+1)\n",
    "ans = 0\n",
    "for i in range(len(primes)-2):\n",
    "    num1 = primes[i] ** 2\n",
    "    if num1 > N:\n",
    "        break\n",
    "    for j in range(i+1, len(primes)-1):\n",
    "        num2 = num1 * primes[j]\n",
    "        if num2 > N:\n",
    "            break\n",
    "        for k in range(j+1, len(primes)):\n",
    "            if num2 * primes[k] ** 2 <= N:\n",
    "                break\n",
    "            ans += 1\n",
    "            "
   ]
  },
  {
   "cell_type": "code",
   "execution_count": 39,
   "id": "58a8ac3d-3e3c-4939-ba91-9520453dd430",
   "metadata": {},
   "outputs": [
    {
     "name": "stdout",
     "output_type": "stream",
     "text": [
      "104440\n"
     ]
    }
   ],
   "source": [
    "print(ans)"
   ]
  },
  {
   "cell_type": "code",
   "execution_count": 37,
   "id": "6fdafb00-8ff8-4ed6-ad4e-663c401d3a52",
   "metadata": {},
   "outputs": [
    {
     "data": {
      "text/plain": [
       "78498"
      ]
     },
     "execution_count": 37,
     "metadata": {},
     "output_type": "execute_result"
    }
   ],
   "source": [
    "len(primes)"
   ]
  },
  {
   "cell_type": "code",
   "execution_count": 19,
   "id": "0433db1c-d9a3-444c-8695-e0e8193c4921",
   "metadata": {},
   "outputs": [
    {
     "data": {
      "text/plain": [
       "[2, 3, 5, 7, 11, 13, 17, 19, 23, 29, 31]"
      ]
     },
     "execution_count": 19,
     "metadata": {},
     "output_type": "execute_result"
    }
   ],
   "source": [
    "primes"
   ]
  },
  {
   "cell_type": "code",
   "execution_count": null,
   "id": "4d119965-64a0-4a96-ae21-178d9d349e2f",
   "metadata": {},
   "outputs": [],
   "source": [
    "# サンプルが合わない"
   ]
  },
  {
   "cell_type": "code",
   "execution_count": 38,
   "id": "ea3aeeeb-2d17-4733-929b-b356236d4e95",
   "metadata": {},
   "outputs": [],
   "source": [
    "primes = getPrimes(int(N**0.5)+1)\n",
    "ans = 0\n",
    "for i in range(len(primes)-2):\n",
    "    num = primes[i] ** 2\n",
    "    for j in range(i+1, len(primes)-1):\n",
    "        num *= primes[j]\n",
    "        if num > N:\n",
    "            break\n",
    "        for k in range(j+1, len(primes)):\n",
    "            if num * primes[k] ** 2 > N:\n",
    "                break\n",
    "            ans += 1\n",
    "            "
   ]
  },
  {
   "cell_type": "code",
   "execution_count": null,
   "id": "16becca7-0fc3-4385-a13e-df03a79b8384",
   "metadata": {},
   "outputs": [],
   "source": []
  }
 ],
 "metadata": {
  "kernelspec": {
   "display_name": "Python 3",
   "language": "python",
   "name": "python3"
  },
  "language_info": {
   "codemirror_mode": {
    "name": "ipython",
    "version": 3
   },
   "file_extension": ".py",
   "mimetype": "text/x-python",
   "name": "python",
   "nbconvert_exporter": "python",
   "pygments_lexer": "ipython3",
   "version": "3.6.13"
  }
 },
 "nbformat": 4,
 "nbformat_minor": 5
}
