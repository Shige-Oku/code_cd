{
 "cells": [
  {
   "cell_type": "code",
   "execution_count": 1,
   "id": "d72c5229-23f7-44af-bfcb-995d0bdc30d8",
   "metadata": {},
   "outputs": [],
   "source": [
    "import sys\n",
    "import numpy as np\n",
    "import math\n",
    "import collections\n",
    "import copy\n",
    "import decimal\n",
    "import itertools\n",
    "import re\n",
    "import bisect\n",
    "import scipy\n",
    "import heapq\n",
    "from collections import deque \n",
    "from functools import reduce\n",
    "from itertools import product\n",
    "from itertools import combinations\n",
    "from functools import lru_cache\n",
    "from scipy.special import comb\n",
    "from numba import njit\n",
    "from bisect import bisect_right\n",
    "from bisect import bisect_left"
   ]
  },
  {
   "cell_type": "code",
   "execution_count": 19,
   "id": "48faec64-f072-4123-9443-048cda9bc66e",
   "metadata": {},
   "outputs": [
    {
     "name": "stdin",
     "output_type": "stream",
     "text": [
      " 15 20\n"
     ]
    }
   ],
   "source": [
    "H, W = map(int, input().split())"
   ]
  },
  {
   "cell_type": "code",
   "execution_count": 20,
   "id": "738eefb2-db0d-406c-af08-c18d89339274",
   "metadata": {},
   "outputs": [
    {
     "name": "stdin",
     "output_type": "stream",
     "text": [
      " #.#..#.............#\n",
      " .#....#....#.#....#.\n",
      " #.#....#....#....#..\n",
      " ........#..#.#..#...\n",
      " #.....#..#.....#....\n",
      " .#...#....#...#..#.#\n",
      " ..#.#......#.#....#.\n",
      " ...#........#....#.#\n",
      " ..#.#......#.#......\n",
      " .#...#....#...#.....\n",
      " #.....#..#.....#....\n",
      " ........#.......#...\n",
      " #.#....#....#.#..#..\n",
      " .#....#......#....#.\n",
      " #.#..#......#.#....#\n"
     ]
    }
   ],
   "source": [
    "Ch = [input() for _ in range(H)]"
   ]
  },
  {
   "cell_type": "code",
   "execution_count": 59,
   "id": "f277d79e-8c7f-467f-b6e4-564055a7290f",
   "metadata": {},
   "outputs": [],
   "source": [
    "def myCnt(n, sh, sw):\n",
    "    if sh + 2 * n >= H:\n",
    "        return False\n",
    "    if sw + 2 * n >= W:\n",
    "        return False\n",
    "    ch = sh + n\n",
    "    cw = sw + n\n",
    "    for i in range(n+1):\n",
    "        if Ch[ch+i][cw+i] == '.':\n",
    "            return False\n",
    "        if Ch[ch+i][cw-i] == '.':\n",
    "            return False\n",
    "        if Ch[ch-i][cw+i] == '.':\n",
    "            return False\n",
    "        if Ch[ch-i][cw-i] == '.':\n",
    "            return False\n",
    "    if ch + n + 1 < H and cw + n + 1 < W:\n",
    "        if Ch[ch+n+1][cw+n+1] == '#':\n",
    "            return False\n",
    "    if ch - n - 1 >= 0 and cw - n - 1 >= 0 :\n",
    "        if Ch[ch-n-1][cw-n-1] == '#':\n",
    "            return False\n",
    "    if ch + n + 1 < H and cw - n - 1 >= 0 :\n",
    "        if Ch[ch+n+1][cw-n-1] == '#':\n",
    "            return False\n",
    "    if ch - n - 1 >= 0 and cw + n + 1 < W :\n",
    "        if Ch[ch-n-1][cw+n+1] == '#':\n",
    "            return False\n",
    "        \n",
    "    return True"
   ]
  },
  {
   "cell_type": "code",
   "execution_count": 63,
   "id": "857154d1-f00b-4bae-9a56-8becb3c8aa54",
   "metadata": {},
   "outputs": [],
   "source": [
    "def solve(n):\n",
    "    ret = 0\n",
    "    for i in range(H):\n",
    "        for j in range(W):\n",
    "            if myCnt(n, i, j):\n",
    "                ret += 1\n",
    "    return ret"
   ]
  },
  {
   "cell_type": "code",
   "execution_count": 64,
   "id": "a65bbaf8-10be-4662-b010-fd90f003e5db",
   "metadata": {},
   "outputs": [],
   "source": [
    "ans = []\n",
    "for i in range(1, min(H, W)+1):\n",
    "    ans.append(solve(i))"
   ]
  },
  {
   "cell_type": "code",
   "execution_count": 65,
   "id": "8cf7b30d-de46-4bbe-ba41-051b51388b34",
   "metadata": {},
   "outputs": [
    {
     "name": "stdout",
     "output_type": "stream",
     "text": [
      "5 0 1 0 0 0 1 0 0 0 0 0 0 0 0\n"
     ]
    }
   ],
   "source": [
    "print(*ans)"
   ]
  },
  {
   "cell_type": "code",
   "execution_count": 38,
   "id": "6dce1f43-7324-4cd7-a84f-cd8939eeb574",
   "metadata": {},
   "outputs": [],
   "source": [
    "def myCnt(n, sh, sw):\n",
    "    if sh + 2 * n >= H:\n",
    "        return False\n",
    "    if sw + 2 * n >= W:\n",
    "        return False\n",
    "    ch = sh + n\n",
    "    cw = sw + n\n",
    "    for i in range(n+1):\n",
    "        if Ch[ch+i][cw+i] == '.':\n",
    "            return False\n",
    "        if Ch[ch+i][cw-i] == '.':\n",
    "            return False\n",
    "        if Ch[ch-i][cw+i] == '.':\n",
    "            return False\n",
    "        if Ch[ch-i][cw-i] == '.':\n",
    "            return False\n",
    "    if ch + n + 2 < H and cw + n + 2 < W:\n",
    "        if Ch[ch+n+2][cw+n+2] == '.':\n",
    "            return False\n",
    "    if ch - n - 2 >= 0 and cw - n - 2 >= 0 :\n",
    "        if Ch[ch-n-2][cw-n-2] == '.':\n",
    "            return False\n",
    "    if ch + n + 2 < H and cw - n - 2 >= 0 :\n",
    "        if Ch[ch+n+2][cw-n-2] == '.':\n",
    "            return False\n",
    "    if ch - n - 2 >= 0 and cw + n + 2 < W :\n",
    "        if Ch[ch-n-2][cw+n+2] == '.':\n",
    "            return False\n",
    "        \n",
    "    return True"
   ]
  },
  {
   "cell_type": "code",
   "execution_count": null,
   "id": "af181b00-54aa-47ea-bd90-44b5cc7324a8",
   "metadata": {},
   "outputs": [],
   "source": []
  }
 ],
 "metadata": {
  "kernelspec": {
   "display_name": "Python 3",
   "language": "python",
   "name": "python3"
  },
  "language_info": {
   "codemirror_mode": {
    "name": "ipython",
    "version": 3
   },
   "file_extension": ".py",
   "mimetype": "text/x-python",
   "name": "python",
   "nbconvert_exporter": "python",
   "pygments_lexer": "ipython3",
   "version": "3.6.13"
  }
 },
 "nbformat": 4,
 "nbformat_minor": 5
}
