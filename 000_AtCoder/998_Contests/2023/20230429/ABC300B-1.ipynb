{
 "cells": [
  {
   "cell_type": "code",
   "execution_count": 1,
   "id": "89e8bcc5-182a-40e0-8b4e-72668f6d94e3",
   "metadata": {},
   "outputs": [],
   "source": [
    "import sys\n",
    "import numpy as np\n",
    "import math\n",
    "import collections\n",
    "import copy\n",
    "import decimal\n",
    "import itertools\n",
    "import re\n",
    "import bisect\n",
    "import scipy\n",
    "import heapq\n",
    "from collections import deque \n",
    "from functools import reduce\n",
    "from itertools import product\n",
    "from itertools import combinations\n",
    "from functools import lru_cache\n",
    "from scipy.special import comb\n",
    "from numba import njit\n",
    "from bisect import bisect_right\n",
    "from bisect import bisect_left"
   ]
  },
  {
   "cell_type": "code",
   "execution_count": 2,
   "id": "facf58bb-1f27-41a4-b9ee-317bf11dd8e7",
   "metadata": {},
   "outputs": [
    {
     "name": "stdin",
     "output_type": "stream",
     "text": [
      " 4 3\n"
     ]
    }
   ],
   "source": [
    "H, W = map(int, input().split())"
   ]
  },
  {
   "cell_type": "code",
   "execution_count": 3,
   "id": "aab5626b-9cd8-40f4-bbf7-c1348287721b",
   "metadata": {},
   "outputs": [
    {
     "name": "stdin",
     "output_type": "stream",
     "text": [
      " ..#\n",
      " ...\n",
      " .#.\n",
      " ...\n"
     ]
    }
   ],
   "source": [
    "Ah = [input() for _ in range(H)]"
   ]
  },
  {
   "cell_type": "code",
   "execution_count": 4,
   "id": "c625eeed-9237-4d24-a0d9-9789be47be69",
   "metadata": {},
   "outputs": [
    {
     "name": "stdin",
     "output_type": "stream",
     "text": [
      " #..\n",
      " ...\n",
      " .#.\n",
      " ...\n"
     ]
    }
   ],
   "source": [
    "Bh = [input() for _ in range(H)]"
   ]
  },
  {
   "cell_type": "code",
   "execution_count": 12,
   "id": "08bfb257-5d2a-48bf-990c-28ba9f9bde40",
   "metadata": {},
   "outputs": [],
   "source": [
    "def solve(h, w):\n",
    "    for ah, bh in zip(range(h, h+H), range(H)):\n",
    "        for aw, bw in zip(range(w, w+W), range(W)):\n",
    "            if Ah[ah%H][aw%W] != Bh[bh][bw]:\n",
    "                return False\n",
    "    return True"
   ]
  },
  {
   "cell_type": "code",
   "execution_count": 13,
   "id": "02954ff3-fc68-4fce-8633-1a905d118ae3",
   "metadata": {},
   "outputs": [],
   "source": [
    "flg = False\n",
    "for h in range(H):\n",
    "    for w in range(W):\n",
    "        if solve(h, w):\n",
    "            flg = True\n"
   ]
  },
  {
   "cell_type": "code",
   "execution_count": 14,
   "id": "8f54c3fc-5c77-4917-bacf-de27de8f03b0",
   "metadata": {},
   "outputs": [
    {
     "name": "stdout",
     "output_type": "stream",
     "text": [
      "Yes\n"
     ]
    }
   ],
   "source": [
    "print('Yes' if flg else 'No')"
   ]
  },
  {
   "cell_type": "code",
   "execution_count": null,
   "id": "3a68d42b-49cb-4787-bfa4-669d794f5765",
   "metadata": {},
   "outputs": [],
   "source": []
  }
 ],
 "metadata": {
  "kernelspec": {
   "display_name": "Python 3",
   "language": "python",
   "name": "python3"
  },
  "language_info": {
   "codemirror_mode": {
    "name": "ipython",
    "version": 3
   },
   "file_extension": ".py",
   "mimetype": "text/x-python",
   "name": "python",
   "nbconvert_exporter": "python",
   "pygments_lexer": "ipython3",
   "version": "3.6.13"
  }
 },
 "nbformat": 4,
 "nbformat_minor": 5
}
