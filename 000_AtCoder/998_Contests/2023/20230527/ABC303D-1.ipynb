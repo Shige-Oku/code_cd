{
 "cells": [
  {
   "cell_type": "code",
   "execution_count": 1,
   "id": "5c8a8ca7-7fe4-4f04-a3e2-1ab64800a34c",
   "metadata": {},
   "outputs": [],
   "source": [
    "import sys\n",
    "import numpy as np\n",
    "import math\n",
    "import collections\n",
    "import copy\n",
    "import decimal\n",
    "import itertools\n",
    "import re\n",
    "import bisect\n",
    "import scipy\n",
    "import heapq\n",
    "from collections import deque \n",
    "from functools import reduce\n",
    "from itertools import product\n",
    "from itertools import combinations\n",
    "from functools import lru_cache\n",
    "from scipy.special import comb\n",
    "from numba import njit\n",
    "from bisect import bisect_right\n",
    "from bisect import bisect_left"
   ]
  },
  {
   "cell_type": "code",
   "execution_count": 27,
   "id": "a3137805-9071-4388-acda-8082db8a590f",
   "metadata": {},
   "outputs": [
    {
     "name": "stdin",
     "output_type": "stream",
     "text": [
      " 1 2 4\n"
     ]
    }
   ],
   "source": [
    "X, Y, Z = map(int, input().split())"
   ]
  },
  {
   "cell_type": "code",
   "execution_count": 28,
   "id": "3f35471e-28a1-443f-bab6-313027331f30",
   "metadata": {},
   "outputs": [
    {
     "name": "stdin",
     "output_type": "stream",
     "text": [
      " aaAaAaaAAAAaAaaAaAAaaaAAAAA\n"
     ]
    }
   ],
   "source": [
    "S = input()"
   ]
  },
  {
   "cell_type": "code",
   "execution_count": 29,
   "id": "656a3065-dd72-4cf3-a712-1016015edfc0",
   "metadata": {},
   "outputs": [],
   "source": [
    "dp = [[10**20] * (len(S)+1) for _ in range(2)]\n",
    "dp[0][0] = 0\n",
    "for i, s in enumerate(S, 1):\n",
    "    if s == 'A':\n",
    "        dp[0][i] = min(dp[0][i-1]+Y, dp[1][i-1]+Y+Z)\n",
    "        dp[1][i] = min(dp[1][i-1]+X, dp[0][i-1]+X+Z)\n",
    "    else:\n",
    "        dp[0][i] = min(dp[0][i-1]+X, dp[1][i-1]+X+Z)\n",
    "        dp[1][i] = min(dp[1][i-1]+Y, dp[0][i-1]+Y+Z)\n",
    "    "
   ]
  },
  {
   "cell_type": "code",
   "execution_count": 30,
   "id": "67846e62-af6f-4935-9757-8267a9f578e3",
   "metadata": {},
   "outputs": [
    {
     "name": "stdout",
     "output_type": "stream",
     "text": [
      "40\n"
     ]
    }
   ],
   "source": [
    "print(min(dp[0][-1], dp[1][-1]))"
   ]
  },
  {
   "cell_type": "code",
   "execution_count": 31,
   "id": "1ccd060b-0910-4e18-826e-14a24f88fcfe",
   "metadata": {},
   "outputs": [
    {
     "data": {
      "text/plain": [
       "[[0,\n",
       "  1,\n",
       "  2,\n",
       "  4,\n",
       "  5,\n",
       "  7,\n",
       "  8,\n",
       "  9,\n",
       "  11,\n",
       "  13,\n",
       "  15,\n",
       "  17,\n",
       "  18,\n",
       "  20,\n",
       "  21,\n",
       "  22,\n",
       "  24,\n",
       "  25,\n",
       "  27,\n",
       "  29,\n",
       "  30,\n",
       "  31,\n",
       "  32,\n",
       "  34,\n",
       "  36,\n",
       "  38,\n",
       "  40,\n",
       "  42],\n",
       " [100000000000000000000,\n",
       "  100000000000000000002,\n",
       "  100000000000000000004,\n",
       "  7,\n",
       "  9,\n",
       "  10,\n",
       "  12,\n",
       "  14,\n",
       "  14,\n",
       "  15,\n",
       "  16,\n",
       "  17,\n",
       "  19,\n",
       "  20,\n",
       "  22,\n",
       "  24,\n",
       "  25,\n",
       "  27,\n",
       "  28,\n",
       "  29,\n",
       "  31,\n",
       "  33,\n",
       "  35,\n",
       "  36,\n",
       "  37,\n",
       "  38,\n",
       "  39,\n",
       "  40]]"
      ]
     },
     "execution_count": 31,
     "metadata": {},
     "output_type": "execute_result"
    }
   ],
   "source": [
    "dp"
   ]
  },
  {
   "cell_type": "code",
   "execution_count": 14,
   "id": "ace018eb-a092-4658-815c-4ffe728ee567",
   "metadata": {},
   "outputs": [
    {
     "data": {
      "text/plain": [
       "(1, 'A')"
      ]
     },
     "execution_count": 14,
     "metadata": {},
     "output_type": "execute_result"
    }
   ],
   "source": [
    "i, s"
   ]
  },
  {
   "cell_type": "code",
   "execution_count": 15,
   "id": "b42535f2-c08f-4c7a-86d3-bc1334a842db",
   "metadata": {},
   "outputs": [
    {
     "data": {
      "text/plain": [
       "2"
      ]
     },
     "execution_count": 15,
     "metadata": {},
     "output_type": "execute_result"
    }
   ],
   "source": [
    "dp[0][i-1]+Y"
   ]
  },
  {
   "cell_type": "code",
   "execution_count": null,
   "id": "ff610e1c-8f1a-4c8b-987b-2029012a171b",
   "metadata": {},
   "outputs": [],
   "source": []
  }
 ],
 "metadata": {
  "kernelspec": {
   "display_name": "Python 3",
   "language": "python",
   "name": "python3"
  },
  "language_info": {
   "codemirror_mode": {
    "name": "ipython",
    "version": 3
   },
   "file_extension": ".py",
   "mimetype": "text/x-python",
   "name": "python",
   "nbconvert_exporter": "python",
   "pygments_lexer": "ipython3",
   "version": "3.6.13"
  }
 },
 "nbformat": 4,
 "nbformat_minor": 5
}
