{
 "cells": [
  {
   "cell_type": "code",
   "execution_count": 1,
   "id": "40767af3-f3e1-4a4f-8482-a61d259c64a8",
   "metadata": {},
   "outputs": [],
   "source": [
    "import sys\n",
    "import numpy as np\n",
    "import math\n",
    "import collections\n",
    "import copy\n",
    "import decimal\n",
    "import itertools\n",
    "import re\n",
    "import bisect\n",
    "import scipy\n",
    "import heapq\n",
    "from collections import deque \n",
    "from functools import reduce\n",
    "from itertools import product\n",
    "from itertools import combinations\n",
    "from functools import lru_cache\n",
    "from scipy.special import comb\n",
    "from numba import njit\n",
    "from bisect import bisect_right\n",
    "from bisect import bisect_left"
   ]
  },
  {
   "cell_type": "code",
   "execution_count": 13,
   "id": "4ed95293-dcd6-4fec-8160-e634e4175d5c",
   "metadata": {},
   "outputs": [
    {
     "name": "stdin",
     "output_type": "stream",
     "text": [
      " 4\n"
     ]
    }
   ],
   "source": [
    "N = int(input())"
   ]
  },
  {
   "cell_type": "code",
   "execution_count": 14,
   "id": "4f45ef46-d1a3-43fe-ad2f-4c38630e90c6",
   "metadata": {},
   "outputs": [
    {
     "name": "stdin",
     "output_type": "stream",
     "text": [
      " nok0\n"
     ]
    }
   ],
   "source": [
    "S = input()"
   ]
  },
  {
   "cell_type": "code",
   "execution_count": 15,
   "id": "e0eae112-77a1-4dba-9244-dae9f09d58ef",
   "metadata": {},
   "outputs": [
    {
     "name": "stdin",
     "output_type": "stream",
     "text": [
      " n0ko\n"
     ]
    }
   ],
   "source": [
    "T = input()"
   ]
  },
  {
   "cell_type": "code",
   "execution_count": 16,
   "id": "b28e676c-769a-40ee-998a-e0a938839005",
   "metadata": {},
   "outputs": [],
   "source": [
    "def check():\n",
    "    for s, t in zip(S, T):\n",
    "        if s == t:\n",
    "            continue\n",
    "        if s == '1' and t == 'l' :\n",
    "            continue\n",
    "        if t == '1' and s == 'l' :\n",
    "            continue\n",
    "        if s == '0' and t == 'o' :\n",
    "            continue\n",
    "        if t == '0' and s == 'o' :\n",
    "            continue\n",
    "        return False\n",
    "    return True"
   ]
  },
  {
   "cell_type": "code",
   "execution_count": 17,
   "id": "45183988-4a50-4326-b6e9-3b46629e4291",
   "metadata": {},
   "outputs": [
    {
     "name": "stdout",
     "output_type": "stream",
     "text": [
      "Yes\n"
     ]
    }
   ],
   "source": [
    "print('Yes' if check() else 'No')"
   ]
  },
  {
   "cell_type": "code",
   "execution_count": null,
   "id": "5add1aab-11d8-4e90-8a63-f8f28501bba3",
   "metadata": {},
   "outputs": [],
   "source": []
  }
 ],
 "metadata": {
  "kernelspec": {
   "display_name": "Python 3",
   "language": "python",
   "name": "python3"
  },
  "language_info": {
   "codemirror_mode": {
    "name": "ipython",
    "version": 3
   },
   "file_extension": ".py",
   "mimetype": "text/x-python",
   "name": "python",
   "nbconvert_exporter": "python",
   "pygments_lexer": "ipython3",
   "version": "3.6.13"
  }
 },
 "nbformat": 4,
 "nbformat_minor": 5
}
