{
 "cells": [
  {
   "cell_type": "code",
   "execution_count": 1,
   "id": "1f3704b3-2e09-481f-a2fc-af6c9bd09ad3",
   "metadata": {},
   "outputs": [],
   "source": [
    "import sys\n",
    "import numpy as np\n",
    "import math\n",
    "import collections\n",
    "import copy\n",
    "import decimal\n",
    "import itertools\n",
    "import re\n",
    "import bisect\n",
    "import scipy\n",
    "import heapq\n",
    "from collections import deque \n",
    "from functools import reduce\n",
    "from itertools import product\n",
    "from itertools import combinations\n",
    "from functools import lru_cache\n",
    "from scipy.special import comb\n",
    "from numba import njit\n",
    "from bisect import bisect_right\n",
    "from bisect import bisect_left"
   ]
  },
  {
   "cell_type": "code",
   "execution_count": 25,
   "id": "ddd4a65a-5c3d-4f97-a5f2-c62f3960f400",
   "metadata": {},
   "outputs": [
    {
     "name": "stdin",
     "output_type": "stream",
     "text": [
      " 5 2 1 5\n"
     ]
    }
   ],
   "source": [
    "N, M, H, K = map(int, input().split())"
   ]
  },
  {
   "cell_type": "code",
   "execution_count": 26,
   "id": "f2c2c114-98e9-44f5-a14c-13c599061059",
   "metadata": {},
   "outputs": [
    {
     "name": "stdin",
     "output_type": "stream",
     "text": [
      " LDRLD\n"
     ]
    }
   ],
   "source": [
    "S = input()"
   ]
  },
  {
   "cell_type": "code",
   "execution_count": 27,
   "id": "07282915-883d-4bc6-b680-88cb2917fe6f",
   "metadata": {},
   "outputs": [
    {
     "name": "stdin",
     "output_type": "stream",
     "text": [
      " 0 0\n",
      " -1 -1\n"
     ]
    }
   ],
   "source": [
    "XYm = [list(map(int, input().split())) for _ in range(M)]"
   ]
  },
  {
   "cell_type": "code",
   "execution_count": 34,
   "id": "b0c3ec22-1db6-436d-8d9e-cc5c2ae187f0",
   "metadata": {},
   "outputs": [],
   "source": [
    "def solve():\n",
    "    cnt = N\n",
    "    h = H\n",
    "    x, y = 0, 0\n",
    "    item = set()\n",
    "    for X, Y in XYm:\n",
    "        item.add((X, Y))\n",
    "    for s in S:\n",
    "        if s == 'R':\n",
    "            x += 1\n",
    "        elif s == 'L':\n",
    "            x -= 1\n",
    "        elif s =='U':\n",
    "            y += 1\n",
    "        else:\n",
    "            y -= 1\n",
    "        h -= 1\n",
    "        if h < 0:\n",
    "            return False\n",
    "        if h >= K:\n",
    "            continue\n",
    "        if (x, y) in item:\n",
    "            h = K\n",
    "            item.remove((x, y))\n",
    "        \n",
    "    return True"
   ]
  },
  {
   "cell_type": "code",
   "execution_count": 35,
   "id": "94e3ba2b-df35-4dcf-b874-301b51644765",
   "metadata": {},
   "outputs": [
    {
     "name": "stdout",
     "output_type": "stream",
     "text": [
      "1 L 0 0\n",
      "0 D -1 0\n",
      "No\n"
     ]
    }
   ],
   "source": [
    "print('Yes' if solve() else 'No')"
   ]
  },
  {
   "cell_type": "code",
   "execution_count": 22,
   "id": "b1637ba3-7672-403a-8959-04f6b6790d44",
   "metadata": {},
   "outputs": [
    {
     "data": {
      "text/plain": [
       "[[-1, -1], [1, 0]]"
      ]
     },
     "execution_count": 22,
     "metadata": {},
     "output_type": "execute_result"
    }
   ],
   "source": [
    "XYm"
   ]
  },
  {
   "cell_type": "code",
   "execution_count": null,
   "id": "edb833e5-056f-44cb-91b0-b1450c3da0f7",
   "metadata": {},
   "outputs": [],
   "source": []
  }
 ],
 "metadata": {
  "kernelspec": {
   "display_name": "Python 3",
   "language": "python",
   "name": "python3"
  },
  "language_info": {
   "codemirror_mode": {
    "name": "ipython",
    "version": 3
   },
   "file_extension": ".py",
   "mimetype": "text/x-python",
   "name": "python",
   "nbconvert_exporter": "python",
   "pygments_lexer": "ipython3",
   "version": "3.6.13"
  }
 },
 "nbformat": 4,
 "nbformat_minor": 5
}
