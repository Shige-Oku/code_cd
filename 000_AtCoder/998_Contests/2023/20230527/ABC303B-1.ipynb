{
 "cells": [
  {
   "cell_type": "code",
   "execution_count": 1,
   "id": "f0dfd17f-9fac-41e6-b139-ced6aecf59ef",
   "metadata": {},
   "outputs": [],
   "source": [
    "import sys\n",
    "import numpy as np\n",
    "import math\n",
    "import collections\n",
    "import copy\n",
    "import decimal\n",
    "import itertools\n",
    "import re\n",
    "import bisect\n",
    "import scipy\n",
    "import heapq\n",
    "from collections import deque \n",
    "from functools import reduce\n",
    "from itertools import product\n",
    "from itertools import combinations\n",
    "from functools import lru_cache\n",
    "from scipy.special import comb\n",
    "from numba import njit\n",
    "from bisect import bisect_right\n",
    "from bisect import bisect_left"
   ]
  },
  {
   "cell_type": "code",
   "execution_count": 2,
   "id": "4016a5c2-13ed-487e-8781-1631293c7a1a",
   "metadata": {},
   "outputs": [
    {
     "name": "stdin",
     "output_type": "stream",
     "text": [
      " 4 2\n"
     ]
    }
   ],
   "source": [
    "N, M = map(int, input().split())"
   ]
  },
  {
   "cell_type": "code",
   "execution_count": 4,
   "id": "9fce30c3-8a61-4880-9465-0d4b0c99491d",
   "metadata": {},
   "outputs": [
    {
     "name": "stdin",
     "output_type": "stream",
     "text": [
      " 1 2 3 4\n",
      " 4 3 1 2\n"
     ]
    }
   ],
   "source": [
    "An = [list(map(int, input().split())) for _ in range(M)]"
   ]
  },
  {
   "cell_type": "code",
   "execution_count": 9,
   "id": "918aec78-a76f-4f6a-952c-dfed4037d23f",
   "metadata": {},
   "outputs": [],
   "source": [
    "graph = [set() for _ in range(N+1)]\n",
    "for A in An:\n",
    "    for i in range(N-1):\n",
    "        a, b = A[i:i+2]\n",
    "        graph[a].add(b)\n",
    "        graph[b].add(a)"
   ]
  },
  {
   "cell_type": "code",
   "execution_count": 11,
   "id": "3c743f6e-cabb-427b-a435-3cf2aea09d50",
   "metadata": {},
   "outputs": [],
   "source": [
    "ans = 0\n",
    "for i in range(1, N+1):\n",
    "    ans += N - len(graph[i]) -1"
   ]
  },
  {
   "cell_type": "code",
   "execution_count": 12,
   "id": "31f263ba-cb6b-4d29-afeb-04607007fa9d",
   "metadata": {},
   "outputs": [
    {
     "name": "stdout",
     "output_type": "stream",
     "text": [
      "2\n"
     ]
    }
   ],
   "source": [
    "print(ans//2)"
   ]
  },
  {
   "cell_type": "code",
   "execution_count": 8,
   "id": "08f813f1-317b-405f-a020-2aa1c6ac9bcd",
   "metadata": {},
   "outputs": [
    {
     "data": {
      "text/plain": [
       "[[1, 2, 3, 4], [4, 3, 1, 2]]"
      ]
     },
     "execution_count": 8,
     "metadata": {},
     "output_type": "execute_result"
    }
   ],
   "source": [
    "An"
   ]
  },
  {
   "cell_type": "code",
   "execution_count": 10,
   "id": "bb287c21-ac3e-4215-83fe-63627e3d5be8",
   "metadata": {},
   "outputs": [
    {
     "data": {
      "text/plain": [
       "[set(), {2, 3}, {1, 3}, {1, 2, 4}, {3}]"
      ]
     },
     "execution_count": 10,
     "metadata": {},
     "output_type": "execute_result"
    }
   ],
   "source": [
    "graph"
   ]
  },
  {
   "cell_type": "code",
   "execution_count": null,
   "id": "b7504f9c-57f0-41f9-bf98-b0d87cda056f",
   "metadata": {},
   "outputs": [],
   "source": []
  }
 ],
 "metadata": {
  "kernelspec": {
   "display_name": "Python 3",
   "language": "python",
   "name": "python3"
  },
  "language_info": {
   "codemirror_mode": {
    "name": "ipython",
    "version": 3
   },
   "file_extension": ".py",
   "mimetype": "text/x-python",
   "name": "python",
   "nbconvert_exporter": "python",
   "pygments_lexer": "ipython3",
   "version": "3.6.13"
  }
 },
 "nbformat": 4,
 "nbformat_minor": 5
}
