{
 "cells": [
  {
   "cell_type": "code",
   "execution_count": 1,
   "id": "3e14d191-4235-46bd-800f-82405c5a70f9",
   "metadata": {},
   "outputs": [],
   "source": [
    "import sys\n",
    "import numpy as np\n",
    "import math\n",
    "import collections\n",
    "import copy\n",
    "import decimal\n",
    "import itertools\n",
    "import re\n",
    "import bisect\n",
    "import scipy\n",
    "import heapq\n",
    "from collections import deque \n",
    "from functools import reduce\n",
    "from itertools import product\n",
    "from itertools import combinations\n",
    "from functools import lru_cache\n",
    "from scipy.special import comb\n",
    "from numba import njit\n",
    "from bisect import bisect_right\n",
    "from bisect import bisect_left"
   ]
  },
  {
   "cell_type": "code",
   "execution_count": 53,
   "id": "63fe835c-9782-49ea-a1a8-74ac8375f272",
   "metadata": {},
   "outputs": [
    {
     "name": "stdin",
     "output_type": "stream",
     "text": [
      " ????\n"
     ]
    }
   ],
   "source": [
    "S = input()"
   ]
  },
  {
   "cell_type": "code",
   "execution_count": 59,
   "id": "cdcc1ce9-0ef1-4b31-95e5-055943a211a8",
   "metadata": {},
   "outputs": [
    {
     "name": "stdin",
     "output_type": "stream",
     "text": [
      " 4\n"
     ]
    }
   ],
   "source": [
    "N = int(input())"
   ]
  },
  {
   "cell_type": "code",
   "execution_count": 62,
   "id": "cb19c53a-ed44-4c49-b7e9-aa137bda1dd5",
   "metadata": {},
   "outputs": [],
   "source": [
    "def solve():\n",
    "    num = 0\n",
    "    for i, s in enumerate(S[::-1]):\n",
    "        if s == '1':\n",
    "            num += 2**i\n",
    "    if num > N:\n",
    "        return -1\n",
    "    for i, s in enumerate(S, 1):\n",
    "        if s == '?':\n",
    "            if num + 2**(len(S)-i) <= N:\n",
    "                num += 2**(len(S)-i)\n",
    "    return num"
   ]
  },
  {
   "cell_type": "code",
   "execution_count": 63,
   "id": "601e494c-c674-40a7-ad79-1edb3f3bcd5c",
   "metadata": {},
   "outputs": [
    {
     "name": "stdout",
     "output_type": "stream",
     "text": [
      "4\n"
     ]
    }
   ],
   "source": [
    "print(solve())"
   ]
  },
  {
   "cell_type": "code",
   "execution_count": null,
   "id": "9e51aed3-d781-4ccb-9d36-62d98ba41767",
   "metadata": {},
   "outputs": [],
   "source": [
    "2**60"
   ]
  },
  {
   "cell_type": "code",
   "execution_count": 19,
   "id": "b32507d8-cec6-468b-9a0b-aab1c2e7f616",
   "metadata": {},
   "outputs": [
    {
     "data": {
      "text/plain": [
       "'?0?'"
      ]
     },
     "execution_count": 19,
     "metadata": {},
     "output_type": "execute_result"
    }
   ],
   "source": [
    "S"
   ]
  },
  {
   "cell_type": "code",
   "execution_count": null,
   "id": "b456ec41-3312-47ea-af7a-1d88ab5b5b17",
   "metadata": {},
   "outputs": [],
   "source": []
  }
 ],
 "metadata": {
  "kernelspec": {
   "display_name": "Python 3",
   "language": "python",
   "name": "python3"
  },
  "language_info": {
   "codemirror_mode": {
    "name": "ipython",
    "version": 3
   },
   "file_extension": ".py",
   "mimetype": "text/x-python",
   "name": "python",
   "nbconvert_exporter": "python",
   "pygments_lexer": "ipython3",
   "version": "3.6.13"
  }
 },
 "nbformat": 4,
 "nbformat_minor": 5
}
