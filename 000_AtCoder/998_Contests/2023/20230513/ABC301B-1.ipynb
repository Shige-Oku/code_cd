{
 "cells": [
  {
   "cell_type": "code",
   "execution_count": 1,
   "id": "bbbe0063-c261-4fdd-8731-5ad83d3ebab5",
   "metadata": {},
   "outputs": [],
   "source": [
    "import sys\n",
    "import numpy as np\n",
    "import math\n",
    "import collections\n",
    "import copy\n",
    "import decimal\n",
    "import itertools\n",
    "import re\n",
    "import bisect\n",
    "import scipy\n",
    "import heapq\n",
    "from collections import deque \n",
    "from functools import reduce\n",
    "from itertools import product\n",
    "from itertools import combinations\n",
    "from functools import lru_cache\n",
    "from scipy.special import comb\n",
    "from numba import njit\n",
    "from bisect import bisect_right\n",
    "from bisect import bisect_left"
   ]
  },
  {
   "cell_type": "code",
   "execution_count": 24,
   "id": "1bea156e-4b7b-4d3b-a32c-9095af126323",
   "metadata": {},
   "outputs": [
    {
     "name": "stdin",
     "output_type": "stream",
     "text": [
      " 6\n"
     ]
    }
   ],
   "source": [
    "N = int(input())"
   ]
  },
  {
   "cell_type": "code",
   "execution_count": 25,
   "id": "27a45055-f98f-4141-9f40-699d1efabded",
   "metadata": {},
   "outputs": [
    {
     "name": "stdin",
     "output_type": "stream",
     "text": [
      " 3 4 5 6 5 4\n"
     ]
    }
   ],
   "source": [
    "An = list(map(int, input().split()))"
   ]
  },
  {
   "cell_type": "code",
   "execution_count": 26,
   "id": "f63ce62a-12f0-40ab-a62f-af61a565126e",
   "metadata": {},
   "outputs": [],
   "source": [
    "ans = [An[0], ]\n",
    "for i, A in enumerate(An[:-1]):\n",
    "    if An[i] > An[i+1]:\n",
    "        for j in range(An[i]-1, An[i+1]-1, -1):\n",
    "            ans.append(j)\n",
    "    else:\n",
    "        for j in range(An[i]+1, An[i+1]+1):\n",
    "            ans.append(j)\n",
    "            "
   ]
  },
  {
   "cell_type": "code",
   "execution_count": 27,
   "id": "b8deece5-d278-4b2f-a2fa-a8f7b9fbbef6",
   "metadata": {},
   "outputs": [
    {
     "name": "stdout",
     "output_type": "stream",
     "text": [
      "3 4 5 6 5 4\n"
     ]
    }
   ],
   "source": [
    "print(*ans)"
   ]
  },
  {
   "cell_type": "code",
   "execution_count": null,
   "id": "f3e89641-dc70-4e36-8ee9-02253b416e4a",
   "metadata": {},
   "outputs": [],
   "source": []
  }
 ],
 "metadata": {
  "kernelspec": {
   "display_name": "Python 3",
   "language": "python",
   "name": "python3"
  },
  "language_info": {
   "codemirror_mode": {
    "name": "ipython",
    "version": 3
   },
   "file_extension": ".py",
   "mimetype": "text/x-python",
   "name": "python",
   "nbconvert_exporter": "python",
   "pygments_lexer": "ipython3",
   "version": "3.6.13"
  }
 },
 "nbformat": 4,
 "nbformat_minor": 5
}
