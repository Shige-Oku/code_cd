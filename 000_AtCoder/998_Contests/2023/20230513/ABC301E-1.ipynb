{
 "cells": [
  {
   "cell_type": "code",
   "execution_count": 1,
   "id": "ece3ba74-0a70-4349-a1b6-dbe916aa9e13",
   "metadata": {},
   "outputs": [],
   "source": [
    "import sys\n",
    "import numpy as np\n",
    "import math\n",
    "import collections\n",
    "import copy\n",
    "import decimal\n",
    "import itertools\n",
    "import re\n",
    "import bisect\n",
    "import scipy\n",
    "import heapq\n",
    "from collections import deque \n",
    "from functools import reduce\n",
    "from itertools import product\n",
    "from itertools import combinations\n",
    "from functools import lru_cache\n",
    "from scipy.special import comb\n",
    "from numba import njit\n",
    "from bisect import bisect_right\n",
    "from bisect import bisect_left"
   ]
  },
  {
   "cell_type": "code",
   "execution_count": 2,
   "id": "c7e8883d-20c8-4389-ad0d-c610c976a677",
   "metadata": {},
   "outputs": [
    {
     "name": "stdin",
     "output_type": "stream",
     "text": [
      " 3 3 5\n"
     ]
    }
   ],
   "source": [
    "H, W, T = map(int, input().split())"
   ]
  },
  {
   "cell_type": "code",
   "execution_count": 3,
   "id": "937d6edc-d3bd-427e-b838-746c5b11812f",
   "metadata": {},
   "outputs": [
    {
     "name": "stdin",
     "output_type": "stream",
     "text": [
      " S.G\n",
      " o#o\n",
      " .#.\n"
     ]
    }
   ],
   "source": [
    "Ahw = [input() for _ in range(H)]"
   ]
  },
  {
   "cell_type": "code",
   "execution_count": 4,
   "id": "6d5c1646-40c7-4641-8be5-1e40516ae9b7",
   "metadata": {},
   "outputs": [],
   "source": [
    "for i in range(H):\n",
    "    for j in range(W):\n",
    "        if Ahw[i][j] == 'S':\n",
    "            s = (i, j)\n",
    "        if Ahw[i][j] == 'G':\n",
    "            g = (i, j)"
   ]
  },
  {
   "cell_type": "code",
   "execution_count": 19,
   "id": "cda50e39-bb5c-4d66-9e76-7092f0518580",
   "metadata": {},
   "outputs": [],
   "source": [
    "from collections import deque\n",
    "def BFS():\n",
    "    q = deque()\n",
    "    q.append((s[0], s[1]))\n",
    "    dist[s[0]][s[1]] = 0\n",
    "    while q:\n",
    "        h1, w1 = q.popleft()\n",
    "        if (h1, w1) == g:\n",
    "            return\n",
    "        for h, w in ((1, 0), (-1, 0), (0, 1), (0, -1)):\n",
    "            if h1 + h >= H or h1 + h < 0:\n",
    "                continue\n",
    "            if w1 + w >= W or w1 + w < 0:\n",
    "                continue\n",
    "            if Ahw[h1+h][w1+w] == '#':\n",
    "                continue\n",
    "            if dist[h1+h][w1+w] != -1:\n",
    "                continue\n",
    "            q.append((h1+h, w1+w))\n",
    "            dist[h1+h][w1+w] = dist[h1][w1] + 1\n",
    "    return"
   ]
  },
  {
   "cell_type": "code",
   "execution_count": 22,
   "id": "31b25d10-296a-4fa0-a638-027c3c28dc52",
   "metadata": {},
   "outputs": [],
   "source": [
    "def solve():\n",
    "    BFS()\n",
    "    print(dist)\n",
    "    if dist[g[0]][g[1]] > T:\n",
    "        return -1\n",
    "    return dist[g[0]][g[1]]"
   ]
  },
  {
   "cell_type": "code",
   "execution_count": 23,
   "id": "a6055c42-4d1d-44ec-8bd6-969e29e9b1da",
   "metadata": {},
   "outputs": [
    {
     "name": "stdout",
     "output_type": "stream",
     "text": [
      "[[0, 1, 2], [1, -1, -1], [2, -1, -1]]\n",
      "2\n"
     ]
    }
   ],
   "source": [
    "dist = [[-1] * W for _ in range(H)]\n",
    "\n",
    "print(solve())"
   ]
  },
  {
   "cell_type": "code",
   "execution_count": 24,
   "id": "e5c37d63-3491-40a6-9505-669a96a4722b",
   "metadata": {},
   "outputs": [
    {
     "data": {
      "text/plain": [
       "((0, 0), (0, 2), [[0, 1, 2], [1, -1, -1], [2, -1, -1]])"
      ]
     },
     "execution_count": 24,
     "metadata": {},
     "output_type": "execute_result"
    }
   ],
   "source": [
    "s, g, dist"
   ]
  },
  {
   "cell_type": "code",
   "execution_count": 27,
   "id": "0bf3ba8a-3410-41c8-b129-cd7570f1eec7",
   "metadata": {},
   "outputs": [
    {
     "data": {
      "text/plain": [
       "23592960000"
      ]
     },
     "execution_count": 27,
     "metadata": {},
     "output_type": "execute_result"
    }
   ],
   "source": [
    "300*300"
   ]
  },
  {
   "cell_type": "code",
   "execution_count": 30,
   "id": "7df55d75-ea00-44f4-9c7d-7064a2b7fcf4",
   "metadata": {},
   "outputs": [
    {
     "data": {
      "text/plain": [
       "262144"
      ]
     },
     "execution_count": 30,
     "metadata": {},
     "output_type": "execute_result"
    }
   ],
   "source": [
    "(2**18) "
   ]
  },
  {
   "cell_type": "code",
   "execution_count": null,
   "id": "ae298918-4998-401a-8438-61a62ab66b10",
   "metadata": {},
   "outputs": [],
   "source": []
  }
 ],
 "metadata": {
  "kernelspec": {
   "display_name": "Python 3",
   "language": "python",
   "name": "python3"
  },
  "language_info": {
   "codemirror_mode": {
    "name": "ipython",
    "version": 3
   },
   "file_extension": ".py",
   "mimetype": "text/x-python",
   "name": "python",
   "nbconvert_exporter": "python",
   "pygments_lexer": "ipython3",
   "version": "3.6.13"
  }
 },
 "nbformat": 4,
 "nbformat_minor": 5
}
