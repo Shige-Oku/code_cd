{
 "cells": [
  {
   "cell_type": "code",
   "execution_count": 1,
   "id": "695577e1-83bf-4717-9a0e-19d7baedd2c4",
   "metadata": {},
   "outputs": [],
   "source": [
    "import sys\n",
    "import numpy as np\n",
    "import math\n",
    "import collections\n",
    "import copy\n",
    "import decimal\n",
    "import itertools\n",
    "import re\n",
    "import bisect\n",
    "import scipy\n",
    "import heapq\n",
    "from collections import deque \n",
    "from functools import reduce\n",
    "from itertools import product\n",
    "from itertools import combinations\n",
    "from functools import lru_cache\n",
    "from scipy.special import comb\n",
    "from numba import njit\n",
    "from bisect import bisect_right\n",
    "from bisect import bisect_left"
   ]
  },
  {
   "cell_type": "code",
   "execution_count": 25,
   "id": "07132ae0-f3d3-47e7-bf68-ee628b34d9ab",
   "metadata": {},
   "outputs": [
    {
     "name": "stdin",
     "output_type": "stream",
     "text": [
      " aa\n"
     ]
    }
   ],
   "source": [
    "S = input()"
   ]
  },
  {
   "cell_type": "code",
   "execution_count": 26,
   "id": "18627866-a291-47c7-ba7e-8d85ce0edd08",
   "metadata": {},
   "outputs": [
    {
     "name": "stdin",
     "output_type": "stream",
     "text": [
      " bb\n"
     ]
    }
   ],
   "source": [
    "T = input()"
   ]
  },
  {
   "cell_type": "code",
   "execution_count": 27,
   "id": "9902375c-96e0-46c0-bc48-d9e582022cf2",
   "metadata": {},
   "outputs": [],
   "source": [
    "from collections import Counter\n",
    "import string\n",
    "def solve():\n",
    "    Sc = Counter(S)\n",
    "    Tc = Counter(T)\n",
    "    for a in string.ascii_letters:\n",
    "        if a in 'atcoder':\n",
    "            continue\n",
    "        if Sc[a] != Tc[a]:\n",
    "            return False\n",
    "    cnt = 0\n",
    "    for a in 'atcoder':\n",
    "        cnt += abs(Sc[a] - Tc[a])\n",
    "    return Sc['@'] + Tc['@'] >= cnt"
   ]
  },
  {
   "cell_type": "code",
   "execution_count": 28,
   "id": "6fc8afa7-4059-438c-af36-3b8d993b2c97",
   "metadata": {},
   "outputs": [
    {
     "name": "stdout",
     "output_type": "stream",
     "text": [
      "No\n"
     ]
    }
   ],
   "source": [
    "print('Yes' if solve() else 'No')"
   ]
  },
  {
   "cell_type": "code",
   "execution_count": 11,
   "id": "be32cb97-34d7-41fc-ac76-402b895dbf5f",
   "metadata": {},
   "outputs": [
    {
     "data": {
      "text/plain": [
       "Counter({'c': 1, 'h': 1, '@': 2, 'k': 1, 'u': 1, 'a': 1, 'i': 1})"
      ]
     },
     "execution_count": 11,
     "metadata": {},
     "output_type": "execute_result"
    }
   ],
   "source": [
    "Counter(S)"
   ]
  },
  {
   "cell_type": "code",
   "execution_count": 12,
   "id": "561d6c25-cb98-4782-975e-0404292a6ccd",
   "metadata": {},
   "outputs": [
    {
     "data": {
      "text/plain": [
       "['@', '@', 'a', 'c', 'h', 'i', 'k', 'u']"
      ]
     },
     "execution_count": 12,
     "metadata": {},
     "output_type": "execute_result"
    }
   ],
   "source": [
    "sorted(S)"
   ]
  },
  {
   "cell_type": "code",
   "execution_count": null,
   "id": "f8875382-2e8d-455e-80e2-bdccd198da1b",
   "metadata": {},
   "outputs": [],
   "source": []
  }
 ],
 "metadata": {
  "kernelspec": {
   "display_name": "Python 3",
   "language": "python",
   "name": "python3"
  },
  "language_info": {
   "codemirror_mode": {
    "name": "ipython",
    "version": 3
   },
   "file_extension": ".py",
   "mimetype": "text/x-python",
   "name": "python",
   "nbconvert_exporter": "python",
   "pygments_lexer": "ipython3",
   "version": "3.6.13"
  }
 },
 "nbformat": 4,
 "nbformat_minor": 5
}
