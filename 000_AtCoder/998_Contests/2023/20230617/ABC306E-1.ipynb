{
 "cells": [
  {
   "cell_type": "code",
   "execution_count": 1,
   "id": "70c6927d-1c77-4bab-ad3b-e2baff6df4a2",
   "metadata": {},
   "outputs": [],
   "source": [
    "import sys\n",
    "import numpy as np\n",
    "import math\n",
    "import collections\n",
    "import copy\n",
    "import decimal\n",
    "import itertools\n",
    "import re\n",
    "import bisect\n",
    "import scipy\n",
    "import heapq\n",
    "from collections import deque \n",
    "from functools import reduce\n",
    "from itertools import product\n",
    "from itertools import combinations\n",
    "from functools import lru_cache\n",
    "from scipy.special import comb\n",
    "from numba import njit\n",
    "from bisect import bisect_right\n",
    "from bisect import bisect_left"
   ]
  },
  {
   "cell_type": "code",
   "execution_count": 1,
   "id": "594b427a-86fa-42cf-bfa3-d2fef7e7ff05",
   "metadata": {},
   "outputs": [
    {
     "name": "stdin",
     "output_type": "stream",
     "text": [
      " 4 2 10\n"
     ]
    }
   ],
   "source": [
    "N, K, Q = map(int, input().split())"
   ]
  },
  {
   "cell_type": "code",
   "execution_count": 3,
   "id": "8ce9fd2f-a108-4d09-80f6-76c61aca38ae",
   "metadata": {},
   "outputs": [
    {
     "name": "stdin",
     "output_type": "stream",
     "text": [
      " 1 5\n",
      " 2 1\n",
      " 3 3\n",
      " 4 2\n",
      " 2 10\n",
      " 1 0\n",
      " 4 0\n",
      " 3 1\n",
      " 2 0\n",
      " 3 0\n"
     ]
    }
   ],
   "source": [
    "XYq = [list(map(int, input().split())) for _ in range(Q)]"
   ]
  },
  {
   "cell_type": "code",
   "execution_count": null,
   "id": "81a0af79-c372-4ec6-8e3f-b635b7f639d3",
   "metadata": {},
   "outputs": [],
   "source": [
    "# サンプルが合わない"
   ]
  },
  {
   "cell_type": "code",
   "execution_count": 26,
   "id": "60ce0134-6bf1-466b-bf46-87f01ba1789c",
   "metadata": {},
   "outputs": [],
   "source": [
    "def solve(X, Y, c):\n",
    "    print(X, Y, c)\n",
    "    ret = ans\n",
    "    heapq.heappush(q, (Y, X))\n",
    "    if X in key:\n",
    "        if Y >= c:\n",
    "            ret += Y - c\n",
    "#             heapq.heappush(q, (Y, X))\n",
    "            return ret\n",
    "        else:\n",
    "            ret -= c\n",
    "            if q2:\n",
    "                n2, p2 = heapq.heappop(q2)\n",
    "                ret += -n2\n",
    "                heapq.heappush(q, (-n2, p2))\n",
    "            else:\n",
    "                ret += -Y\n",
    "#                 heapq.heappush(q, (Y, X))\n",
    "                \n",
    "    else:\n",
    "        while q:\n",
    "            n, p = heapq.heappop(q)\n",
    "            if p not in key:\n",
    "                break\n",
    "            if n == num[X]:\n",
    "                break\n",
    "        if X != n:\n",
    "            ret -= n\n",
    "            ret += Y\n",
    "            key.remove(p)\n",
    "            key.add(X)\n",
    "            heapq.heappush(q2, (n, p))\n",
    "        else:\n",
    "            heapq.heappush(q2, (-Y, X))\n",
    "\n",
    "    return ret"
   ]
  },
  {
   "cell_type": "code",
   "execution_count": 27,
   "id": "7e8d3056-6481-490b-89ab-519c152e7dd9",
   "metadata": {},
   "outputs": [
    {
     "name": "stdout",
     "output_type": "stream",
     "text": [
      "5\n",
      "[-1, 5, -1, -1, -1] [] []\n",
      "6\n",
      "[-1, 5, 1, -1, -1] [(1, 2), (5, 1)] []\n",
      "3 3 -1\n",
      "6\n",
      "[-1, 5, 1, 3, -1] [(5, 1)] [(-3, 3)]\n",
      "4 2 -1\n"
     ]
    },
    {
     "ename": "KeyError",
     "evalue": "4",
     "output_type": "error",
     "traceback": [
      "\u001b[1;31m---------------------------------------------------------------------------\u001b[0m",
      "\u001b[1;31mKeyError\u001b[0m                                  Traceback (most recent call last)",
      "\u001b[1;32m<ipython-input-27-4e53b3579185>\u001b[0m in \u001b[0;36m<module>\u001b[1;34m\u001b[0m\n\u001b[0;32m     14\u001b[0m             \u001b[0mcnt\u001b[0m \u001b[1;33m+=\u001b[0m \u001b[1;36m1\u001b[0m\u001b[1;33m\u001b[0m\u001b[1;33m\u001b[0m\u001b[0m\n\u001b[0;32m     15\u001b[0m     \u001b[1;32melse\u001b[0m\u001b[1;33m:\u001b[0m\u001b[1;33m\u001b[0m\u001b[1;33m\u001b[0m\u001b[0m\n\u001b[1;32m---> 16\u001b[1;33m         \u001b[0mans\u001b[0m \u001b[1;33m=\u001b[0m \u001b[0msolve\u001b[0m\u001b[1;33m(\u001b[0m\u001b[0mX\u001b[0m\u001b[1;33m,\u001b[0m \u001b[0mY\u001b[0m\u001b[1;33m,\u001b[0m \u001b[0mc\u001b[0m\u001b[1;33m)\u001b[0m\u001b[1;33m\u001b[0m\u001b[1;33m\u001b[0m\u001b[0m\n\u001b[0m\u001b[0;32m     17\u001b[0m     \u001b[1;32mif\u001b[0m \u001b[0mcnt\u001b[0m \u001b[1;33m==\u001b[0m \u001b[0mK\u001b[0m \u001b[1;32mand\u001b[0m \u001b[1;32mnot\u001b[0m \u001b[0mf\u001b[0m\u001b[1;33m:\u001b[0m\u001b[1;33m\u001b[0m\u001b[1;33m\u001b[0m\u001b[0m\n\u001b[0;32m     18\u001b[0m         \u001b[1;32mfor\u001b[0m \u001b[0mi\u001b[0m\u001b[1;33m,\u001b[0m \u001b[0mn\u001b[0m \u001b[1;32min\u001b[0m \u001b[0menumerate\u001b[0m\u001b[1;33m(\u001b[0m\u001b[0mnum\u001b[0m\u001b[1;33m[\u001b[0m\u001b[1;36m1\u001b[0m\u001b[1;33m:\u001b[0m\u001b[1;33m]\u001b[0m\u001b[1;33m,\u001b[0m \u001b[1;36m1\u001b[0m\u001b[1;33m)\u001b[0m\u001b[1;33m:\u001b[0m\u001b[1;33m\u001b[0m\u001b[1;33m\u001b[0m\u001b[0m\n",
      "\u001b[1;32m<ipython-input-26-cae595135033>\u001b[0m in \u001b[0;36msolve\u001b[1;34m(X, Y, c)\u001b[0m\n\u001b[0;32m     28\u001b[0m             \u001b[0mret\u001b[0m \u001b[1;33m-=\u001b[0m \u001b[0mn\u001b[0m\u001b[1;33m\u001b[0m\u001b[1;33m\u001b[0m\u001b[0m\n\u001b[0;32m     29\u001b[0m             \u001b[0mret\u001b[0m \u001b[1;33m+=\u001b[0m \u001b[0mY\u001b[0m\u001b[1;33m\u001b[0m\u001b[1;33m\u001b[0m\u001b[0m\n\u001b[1;32m---> 30\u001b[1;33m             \u001b[0mkey\u001b[0m\u001b[1;33m.\u001b[0m\u001b[0mremove\u001b[0m\u001b[1;33m(\u001b[0m\u001b[0mp\u001b[0m\u001b[1;33m)\u001b[0m\u001b[1;33m\u001b[0m\u001b[1;33m\u001b[0m\u001b[0m\n\u001b[0m\u001b[0;32m     31\u001b[0m             \u001b[0mkey\u001b[0m\u001b[1;33m.\u001b[0m\u001b[0madd\u001b[0m\u001b[1;33m(\u001b[0m\u001b[0mX\u001b[0m\u001b[1;33m)\u001b[0m\u001b[1;33m\u001b[0m\u001b[1;33m\u001b[0m\u001b[0m\n\u001b[0;32m     32\u001b[0m             \u001b[0mheapq\u001b[0m\u001b[1;33m.\u001b[0m\u001b[0mheappush\u001b[0m\u001b[1;33m(\u001b[0m\u001b[0mq2\u001b[0m\u001b[1;33m,\u001b[0m \u001b[1;33m(\u001b[0m\u001b[0mn\u001b[0m\u001b[1;33m,\u001b[0m \u001b[0mp\u001b[0m\u001b[1;33m)\u001b[0m\u001b[1;33m)\u001b[0m\u001b[1;33m\u001b[0m\u001b[1;33m\u001b[0m\u001b[0m\n",
      "\u001b[1;31mKeyError\u001b[0m: 4"
     ]
    }
   ],
   "source": [
    "import heapq\n",
    "ans = 0\n",
    "num = [-1] * (N+1)\n",
    "q, q2 = [], []\n",
    "cnt = 0\n",
    "key = set()\n",
    "f = False\n",
    "for X, Y in XYq[:4]:\n",
    "    c = num[X]\n",
    "    num[X] = Y\n",
    "    if cnt < K:\n",
    "        ans += Y - max(0, c)\n",
    "        if c == -1:\n",
    "            cnt += 1\n",
    "    else:\n",
    "        ans = solve(X, Y, c)\n",
    "    if cnt == K and not f:\n",
    "        for i, n in enumerate(num[1:], 1):\n",
    "            if n == -1:\n",
    "                continue\n",
    "            heapq.heappush(q, (n, i))\n",
    "            key.add(i)\n",
    "        f = True\n",
    "    print(ans)\n",
    "    print(num, q, q2)\n"
   ]
  },
  {
   "cell_type": "code",
   "execution_count": 31,
   "id": "db8d4ec7-ba32-48da-8701-68540703e46c",
   "metadata": {},
   "outputs": [
    {
     "data": {
      "text/plain": [
       "([(0, 3), (0, 3), (1, 3), (10, 2)], {1, 3}, [-1, 0, 0, 0, 0])"
      ]
     },
     "execution_count": 31,
     "metadata": {},
     "output_type": "execute_result"
    }
   ],
   "source": [
    "q, key, num"
   ]
  },
  {
   "cell_type": "code",
   "execution_count": 14,
   "id": "83cb5806-5736-4091-aa21-612af0a7b75c",
   "metadata": {},
   "outputs": [
    {
     "data": {
      "text/plain": [
       "([(0, 3), (10, 2), (5, 1)], [])"
      ]
     },
     "execution_count": 14,
     "metadata": {},
     "output_type": "execute_result"
    }
   ],
   "source": [
    "q, q2"
   ]
  },
  {
   "cell_type": "code",
   "execution_count": null,
   "id": "ee9be7b8-60c6-4909-a9f8-2d6d17f4ed88",
   "metadata": {},
   "outputs": [],
   "source": []
  }
 ],
 "metadata": {
  "kernelspec": {
   "display_name": "Python 3",
   "language": "python",
   "name": "python3"
  },
  "language_info": {
   "codemirror_mode": {
    "name": "ipython",
    "version": 3
   },
   "file_extension": ".py",
   "mimetype": "text/x-python",
   "name": "python",
   "nbconvert_exporter": "python",
   "pygments_lexer": "ipython3",
   "version": "3.6.13"
  }
 },
 "nbformat": 4,
 "nbformat_minor": 5
}
