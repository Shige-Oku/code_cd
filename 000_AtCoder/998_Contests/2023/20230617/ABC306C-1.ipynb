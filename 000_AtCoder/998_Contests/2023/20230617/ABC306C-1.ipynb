{
 "cells": [
  {
   "cell_type": "code",
   "execution_count": 1,
   "id": "89d6153a-d7d6-4b01-b335-ef2181fb5349",
   "metadata": {},
   "outputs": [],
   "source": [
    "import sys\n",
    "import numpy as np\n",
    "import math\n",
    "import collections\n",
    "import copy\n",
    "import decimal\n",
    "import itertools\n",
    "import re\n",
    "import bisect\n",
    "import scipy\n",
    "import heapq\n",
    "from collections import deque \n",
    "from functools import reduce\n",
    "from itertools import product\n",
    "from itertools import combinations\n",
    "from functools import lru_cache\n",
    "from scipy.special import comb\n",
    "from numba import njit\n",
    "from bisect import bisect_right\n",
    "from bisect import bisect_left"
   ]
  },
  {
   "cell_type": "code",
   "execution_count": 17,
   "id": "e0ca369c-f657-41fd-9152-28cf5109faef",
   "metadata": {},
   "outputs": [
    {
     "name": "stdin",
     "output_type": "stream",
     "text": [
      " 4\n"
     ]
    }
   ],
   "source": [
    "N = int(input())"
   ]
  },
  {
   "cell_type": "code",
   "execution_count": 18,
   "id": "9d52b164-7691-4595-acdd-7e5747769896",
   "metadata": {},
   "outputs": [
    {
     "name": "stdin",
     "output_type": "stream",
     "text": [
      " 2 3 4 3 4 1 3 1 1 4 2 2\n"
     ]
    }
   ],
   "source": [
    "An = list(map(int, input().split()))"
   ]
  },
  {
   "cell_type": "code",
   "execution_count": 19,
   "id": "6a45c1b5-670e-4d9d-a56d-4b5cfb5f14a2",
   "metadata": {},
   "outputs": [],
   "source": [
    "cnt = [0] * (N+1)\n",
    "idx = [[] for _ in range(N+1)]\n",
    "for i, A in enumerate(An):\n",
    "    cnt[A] += 1\n",
    "    if cnt[A] == 2:\n",
    "        idx[A] = [i, A]"
   ]
  },
  {
   "cell_type": "code",
   "execution_count": 20,
   "id": "307d9cb3-673f-42a8-ab32-ebc56b96abb8",
   "metadata": {},
   "outputs": [
    {
     "name": "stdout",
     "output_type": "stream",
     "text": [
      "3 4 1 2 "
     ]
    }
   ],
   "source": [
    "idx_s = sorted(idx)\n",
    "for _, v in idx_s[1:]:\n",
    "    print(v, end=' ')"
   ]
  },
  {
   "cell_type": "code",
   "execution_count": 11,
   "id": "00737e13-9281-4f0e-bcbb-e2d56c756b24",
   "metadata": {},
   "outputs": [
    {
     "data": {
      "text/plain": [
       "[[], [1, 1], [4, 3], [5, 2]]"
      ]
     },
     "execution_count": 11,
     "metadata": {},
     "output_type": "execute_result"
    }
   ],
   "source": [
    "idx_s"
   ]
  },
  {
   "cell_type": "code",
   "execution_count": null,
   "id": "ef4945d7-fc0f-4694-8889-1d3d8db63ce4",
   "metadata": {},
   "outputs": [],
   "source": []
  }
 ],
 "metadata": {
  "kernelspec": {
   "display_name": "Python 3",
   "language": "python",
   "name": "python3"
  },
  "language_info": {
   "codemirror_mode": {
    "name": "ipython",
    "version": 3
   },
   "file_extension": ".py",
   "mimetype": "text/x-python",
   "name": "python",
   "nbconvert_exporter": "python",
   "pygments_lexer": "ipython3",
   "version": "3.6.13"
  }
 },
 "nbformat": 4,
 "nbformat_minor": 5
}
