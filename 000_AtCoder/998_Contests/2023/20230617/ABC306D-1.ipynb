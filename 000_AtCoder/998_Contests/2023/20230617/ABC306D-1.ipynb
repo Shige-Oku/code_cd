{
 "cells": [
  {
   "cell_type": "code",
   "execution_count": 1,
   "id": "4752c3b5-49f2-4512-8e6d-c62eff282e5d",
   "metadata": {},
   "outputs": [],
   "source": [
    "import sys\n",
    "import numpy as np\n",
    "import math\n",
    "import collections\n",
    "import copy\n",
    "import decimal\n",
    "import itertools\n",
    "import re\n",
    "import bisect\n",
    "import scipy\n",
    "import heapq\n",
    "from collections import deque \n",
    "from functools import reduce\n",
    "from itertools import product\n",
    "from itertools import combinations\n",
    "from functools import lru_cache\n",
    "from scipy.special import comb\n",
    "from numba import njit\n",
    "from bisect import bisect_right\n",
    "from bisect import bisect_left"
   ]
  },
  {
   "cell_type": "code",
   "execution_count": 2,
   "id": "6b532a87-d8b7-4b3d-b82b-c02a583e5721",
   "metadata": {},
   "outputs": [
    {
     "name": "stdin",
     "output_type": "stream",
     "text": [
      " 5\n"
     ]
    }
   ],
   "source": [
    "N = int(input())"
   ]
  },
  {
   "cell_type": "code",
   "execution_count": 3,
   "id": "4944ee12-a26c-4185-a7e4-aefb8a309c4a",
   "metadata": {},
   "outputs": [
    {
     "name": "stdin",
     "output_type": "stream",
     "text": [
      " 1 100\n",
      " 1 300\n",
      " 0 -200\n",
      " 1 500\n",
      " 1 300\n"
     ]
    }
   ],
   "source": [
    "XYn = [list(map(int, input().split())) for _ in range(N)]"
   ]
  },
  {
   "cell_type": "code",
   "execution_count": 13,
   "id": "89bb5717-d009-4e3e-a0c1-c8667289f2fe",
   "metadata": {},
   "outputs": [],
   "source": [
    "dp = [[10**20*(-1)] * 2 for _ in range(N+1)]\n",
    "dp[0][:2] = 0, 0\n",
    "for i, (X, Y) in enumerate(XYn, 1):\n",
    "    if X == 0:\n",
    "        dp[i][0] = max(dp[i-1][0], dp[i-1][0]+Y, dp[i-1][1]+Y)\n",
    "        dp[i][1] = dp[i-1][1]\n",
    "    else:\n",
    "        dp[i][0] = dp[i-1][0]\n",
    "        dp[i][1] = max(dp[i-1][0], dp[i-1][1])\n",
    "        dp[i][1] = max(dp[i][1], dp[i-1][0]+Y)"
   ]
  },
  {
   "cell_type": "code",
   "execution_count": 14,
   "id": "80e41802-28dd-4aea-b1e4-61bfbae07e38",
   "metadata": {},
   "outputs": [
    {
     "name": "stdout",
     "output_type": "stream",
     "text": [
      "600\n"
     ]
    }
   ],
   "source": [
    "print(max(dp[N]))"
   ]
  },
  {
   "cell_type": "code",
   "execution_count": 12,
   "id": "66a2c097-d0ed-4d71-897c-7cbe94a3e631",
   "metadata": {},
   "outputs": [
    {
     "data": {
      "text/plain": [
       "[[0, 0, 0, 0],\n",
       " [0, 100, -100000000000000000000, -100000000000000000000],\n",
       " [0, 300, -100000000000000000000, -100000000000000000000],\n",
       " [100, 300, -100000000000000000000, -100000000000000000000],\n",
       " [100, 600, -100000000000000000000, -100000000000000000000],\n",
       " [100, 600, -100000000000000000000, -100000000000000000000]]"
      ]
     },
     "execution_count": 12,
     "metadata": {},
     "output_type": "execute_result"
    }
   ],
   "source": [
    "dp"
   ]
  },
  {
   "cell_type": "code",
   "execution_count": null,
   "id": "e2521594-cc38-4d21-887e-1dd2e53a0ec4",
   "metadata": {},
   "outputs": [],
   "source": []
  }
 ],
 "metadata": {
  "kernelspec": {
   "display_name": "Python 3",
   "language": "python",
   "name": "python3"
  },
  "language_info": {
   "codemirror_mode": {
    "name": "ipython",
    "version": 3
   },
   "file_extension": ".py",
   "mimetype": "text/x-python",
   "name": "python",
   "nbconvert_exporter": "python",
   "pygments_lexer": "ipython3",
   "version": "3.6.13"
  }
 },
 "nbformat": 4,
 "nbformat_minor": 5
}
