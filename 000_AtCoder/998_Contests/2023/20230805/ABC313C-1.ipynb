{
 "cells": [
  {
   "cell_type": "code",
   "execution_count": 1,
   "id": "5f67a9ab-b94f-4da4-8f3b-23f7accf448e",
   "metadata": {
    "tags": []
   },
   "outputs": [],
   "source": [
    "import sys\n",
    "import numpy as np\n",
    "import math\n",
    "import collections\n",
    "import copy\n",
    "import decimal\n",
    "import itertools\n",
    "import re\n",
    "import bisect\n",
    "import scipy\n",
    "import heapq\n",
    "from collections import deque \n",
    "from functools import reduce\n",
    "from itertools import product\n",
    "from itertools import combinations\n",
    "from functools import lru_cache\n",
    "from scipy.special import comb\n",
    "from numba import njit\n",
    "from bisect import bisect_right\n",
    "from bisect import bisect_left"
   ]
  },
  {
   "cell_type": "code",
   "execution_count": 28,
   "id": "d4f09ed4-a58c-4e89-aece-66459ac640a3",
   "metadata": {
    "tags": []
   },
   "outputs": [
    {
     "name": "stdin",
     "output_type": "stream",
     "text": [
      " 3\n"
     ]
    }
   ],
   "source": [
    "N = int(input())"
   ]
  },
  {
   "cell_type": "code",
   "execution_count": 29,
   "id": "d884ebaf-17c9-447e-b670-4afa321ace91",
   "metadata": {
    "tags": []
   },
   "outputs": [
    {
     "name": "stdin",
     "output_type": "stream",
     "text": [
      " 5 5 1\n"
     ]
    }
   ],
   "source": [
    "An = list(map(int, input().split()))"
   ]
  },
  {
   "cell_type": "code",
   "execution_count": 43,
   "id": "ffb51ac2-f987-43ff-a24c-97edb61c3b2e",
   "metadata": {
    "tags": []
   },
   "outputs": [],
   "source": [
    "q, r = divmod(sum(An), N)\n",
    "ans = 0\n",
    "l = 0\n",
    "for A in An:\n",
    "    if A > q:\n",
    "        l += 1\n",
    "    else:\n",
    "        ans += abs(q - A)"
   ]
  },
  {
   "cell_type": "code",
   "execution_count": 44,
   "id": "cbcddc02-36a2-45a3-863e-a9f477583690",
   "metadata": {
    "tags": []
   },
   "outputs": [
    {
     "name": "stdout",
     "output_type": "stream",
     "text": [
      "2\n"
     ]
    }
   ],
   "source": [
    "if N == 1:\n",
    "    print(0)\n",
    "else:\n",
    "    print(ans + max(0, r-l))"
   ]
  },
  {
   "cell_type": "code",
   "execution_count": 40,
   "id": "e0d2c619-68ed-43a1-974e-33a4805a76ee",
   "metadata": {
    "tags": []
   },
   "outputs": [],
   "source": [
    "q, r = divmod(sum(An), N)\n",
    "ans = 0\n",
    "cnt = 0\n",
    "for A in An:\n",
    "    if q < A and r > 0:\n",
    "        ans += A - q - 1\n",
    "        r -= 1\n",
    "        cnt += 1\n",
    "    else:\n",
    "        ans += abs(q - A)"
   ]
  },
  {
   "cell_type": "code",
   "execution_count": 42,
   "id": "b505b123-5ecc-4cd5-a926-5be547820448",
   "metadata": {
    "tags": []
   },
   "outputs": [
    {
     "data": {
      "text/plain": [
       "(6, 2, 3, 0)"
      ]
     },
     "execution_count": 42,
     "metadata": {},
     "output_type": "execute_result"
    }
   ],
   "source": [
    "ans, cnt, q, r"
   ]
  },
  {
   "cell_type": "code",
   "execution_count": 30,
   "id": "1dc4b822-0632-4ea4-b41b-55d1dc8fa4ec",
   "metadata": {
    "tags": []
   },
   "outputs": [],
   "source": [
    "q, r = divmod(sum(An), N)\n",
    "ans = 0\n",
    "for A in An:\n",
    "    ans += abs(q - A)"
   ]
  },
  {
   "cell_type": "code",
   "execution_count": 35,
   "id": "96933606-e767-4040-8525-5188a8f1c36a",
   "metadata": {
    "tags": []
   },
   "outputs": [
    {
     "name": "stdout",
     "output_type": "stream",
     "text": [
      "2\n"
     ]
    }
   ],
   "source": [
    "if N == 1:\n",
    "    print(0)\n",
    "else:\n",
    "    print((ans-r)//2)"
   ]
  },
  {
   "cell_type": "code",
   "execution_count": 33,
   "id": "0d1d080e-7354-4fc2-b90c-a506dcfe3c2f",
   "metadata": {
    "tags": []
   },
   "outputs": [
    {
     "data": {
      "text/plain": [
       "(3, 2, 6)"
      ]
     },
     "execution_count": 33,
     "metadata": {},
     "output_type": "execute_result"
    }
   ],
   "source": [
    "q, r, ans"
   ]
  },
  {
   "cell_type": "code",
   "execution_count": 5,
   "id": "107b5871-959c-4865-abb0-9a22013f694c",
   "metadata": {
    "tags": []
   },
   "outputs": [
    {
     "data": {
      "text/plain": [
       "21"
      ]
     },
     "execution_count": 5,
     "metadata": {},
     "output_type": "execute_result"
    }
   ],
   "source": [
    "sum(An)"
   ]
  },
  {
   "cell_type": "code",
   "execution_count": 6,
   "id": "5292616b-2953-4750-bc08-7e54429326ff",
   "metadata": {
    "tags": []
   },
   "outputs": [
    {
     "name": "stdin",
     "output_type": "stream",
     "text": [
      " 999999997 999999999 4 3 2 4 999999990 8 999999991 999999993\n"
     ]
    }
   ],
   "source": [
    "t = list(map(int, input().split()))"
   ]
  },
  {
   "cell_type": "code",
   "execution_count": 8,
   "id": "70f05813-3d11-4988-81de-5cdc6d28a082",
   "metadata": {
    "tags": []
   },
   "outputs": [
    {
     "data": {
      "text/plain": [
       "499999999"
      ]
     },
     "execution_count": 8,
     "metadata": {},
     "output_type": "execute_result"
    }
   ],
   "source": [
    "sum(t)//10"
   ]
  },
  {
   "cell_type": "code",
   "execution_count": 11,
   "id": "325a25fb-d43a-4361-acca-5e4df95b64a9",
   "metadata": {
    "tags": []
   },
   "outputs": [],
   "source": [
    "q, r = divmod(sum(t), 10)\n",
    "ans = 0\n",
    "for tt in t:\n",
    "    ans += abs(q - tt)"
   ]
  },
  {
   "cell_type": "code",
   "execution_count": 10,
   "id": "2c5f6d71-8bdf-444b-859c-d2d95cb5147f",
   "metadata": {
    "tags": []
   },
   "outputs": [
    {
     "data": {
      "text/plain": [
       "(499999999, 1)"
      ]
     },
     "execution_count": 10,
     "metadata": {},
     "output_type": "execute_result"
    }
   ],
   "source": [
    "q, r"
   ]
  },
  {
   "cell_type": "code",
   "execution_count": 13,
   "id": "19f9f74e-40e1-4980-b836-606265d1021c",
   "metadata": {
    "tags": []
   },
   "outputs": [
    {
     "data": {
      "text/plain": [
       "2499999974.0"
      ]
     },
     "execution_count": 13,
     "metadata": {},
     "output_type": "execute_result"
    }
   ],
   "source": [
    "(ans-r)/2"
   ]
  },
  {
   "cell_type": "code",
   "execution_count": null,
   "id": "36d84501-82e5-4fe6-93e5-4db1bc9b2d2d",
   "metadata": {},
   "outputs": [],
   "source": []
  }
 ],
 "metadata": {
  "kernelspec": {
   "display_name": "Python 3 (ipykernel)",
   "language": "python",
   "name": "python3"
  },
  "language_info": {
   "codemirror_mode": {
    "name": "ipython",
    "version": 3
   },
   "file_extension": ".py",
   "mimetype": "text/x-python",
   "name": "python",
   "nbconvert_exporter": "python",
   "pygments_lexer": "ipython3",
   "version": "3.11.3"
  }
 },
 "nbformat": 4,
 "nbformat_minor": 5
}
