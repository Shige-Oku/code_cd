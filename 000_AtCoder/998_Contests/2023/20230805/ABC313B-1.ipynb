{
 "cells": [
  {
   "cell_type": "code",
   "execution_count": 1,
   "id": "f8d4d23a-4307-4119-bfc9-7cef3918f7fb",
   "metadata": {
    "tags": []
   },
   "outputs": [],
   "source": [
    "import sys\n",
    "import numpy as np\n",
    "import math\n",
    "import collections\n",
    "import copy\n",
    "import decimal\n",
    "import itertools\n",
    "import re\n",
    "import bisect\n",
    "import scipy\n",
    "import heapq\n",
    "from collections import deque \n",
    "from functools import reduce\n",
    "from itertools import product\n",
    "from itertools import combinations\n",
    "from functools import lru_cache\n",
    "from scipy.special import comb\n",
    "from numba import njit\n",
    "from bisect import bisect_right\n",
    "from bisect import bisect_left"
   ]
  },
  {
   "cell_type": "code",
   "execution_count": 2,
   "id": "131d3c4b-adc3-4b1f-a53e-6fd1e7b92dd2",
   "metadata": {
    "tags": []
   },
   "outputs": [
    {
     "name": "stdin",
     "output_type": "stream",
     "text": [
      " 3 2\n"
     ]
    }
   ],
   "source": [
    "N, M = map(int, input().split())"
   ]
  },
  {
   "cell_type": "code",
   "execution_count": 23,
   "id": "0aa1db7d-f097-4213-aed7-e21f9f22470b",
   "metadata": {
    "tags": []
   },
   "outputs": [
    {
     "name": "stdin",
     "output_type": "stream",
     "text": [
      " 3 1\n",
      " 3 2\n"
     ]
    }
   ],
   "source": [
    "ABm = [list(map(int, input().split())) for _ in range(M)]"
   ]
  },
  {
   "cell_type": "code",
   "execution_count": 32,
   "id": "c99d63f9-4bfe-4af1-83e8-a66d7ca8405c",
   "metadata": {
    "tags": []
   },
   "outputs": [],
   "source": [
    "flg = [True] * (N+1)\n",
    "flg[0] = False\n",
    "for A, B in ABm:\n",
    "    flg[B] = False"
   ]
  },
  {
   "cell_type": "code",
   "execution_count": 35,
   "id": "e9320ebc-bc2a-4bfd-a0ac-c4c6579b2264",
   "metadata": {
    "tags": []
   },
   "outputs": [
    {
     "name": "stdout",
     "output_type": "stream",
     "text": [
      "3\n"
     ]
    }
   ],
   "source": [
    "if sum(flg) == 1:\n",
    "    print(flg.index(True))\n",
    "else:\n",
    "    print(-1)"
   ]
  },
  {
   "cell_type": "code",
   "execution_count": 33,
   "id": "5b962b4a-da5b-4a7e-83da-1ed19cbae294",
   "metadata": {
    "tags": []
   },
   "outputs": [
    {
     "data": {
      "text/plain": [
       "[False, False, False, True]"
      ]
     },
     "execution_count": 33,
     "metadata": {},
     "output_type": "execute_result"
    }
   ],
   "source": [
    "flg"
   ]
  },
  {
   "cell_type": "code",
   "execution_count": 24,
   "id": "6ba9eb05-3ab0-4226-b06e-c0e2505d6564",
   "metadata": {
    "tags": []
   },
   "outputs": [],
   "source": [
    "graph = [[] for _ in range(N+1)]\n",
    "for A, B in ABm:\n",
    "    graph[A].append(B)"
   ]
  },
  {
   "cell_type": "code",
   "execution_count": 25,
   "id": "5a2088a2-f7fb-4743-9b9b-23a029b4fd34",
   "metadata": {
    "tags": []
   },
   "outputs": [],
   "source": [
    "import collections \n",
    "def bfs(n):\n",
    "    q = deque()\n",
    "    q.append(n)\n",
    "    dist[n] = 0\n",
    "    while q:\n",
    "        p = q.popleft()\n",
    "        for ne in graph[p]:\n",
    "            if dist[ne] != -1:\n",
    "                continue\n",
    "            dist[ne] = dist[p] + 1\n",
    "            q.append(ne)"
   ]
  },
  {
   "cell_type": "code",
   "execution_count": 30,
   "id": "fe6c5a75-d00d-4986-ad64-220f8c6adab7",
   "metadata": {
    "tags": []
   },
   "outputs": [],
   "source": [
    "dist = [-1] * (N+1)\n",
    "for i in range(1, N+1):\n",
    "    if dist[i] == -1 and len(graph[i]) > 0:\n",
    "        bfs(i)"
   ]
  },
  {
   "cell_type": "code",
   "execution_count": 31,
   "id": "3fc234e3-8e56-46fd-9839-ca24fc3c5387",
   "metadata": {
    "tags": []
   },
   "outputs": [
    {
     "name": "stdout",
     "output_type": "stream",
     "text": [
      "3\n"
     ]
    }
   ],
   "source": [
    "if dist.count(0) == 1:\n",
    "    print(dist.index(0))\n",
    "else:\n",
    "    print(-1)"
   ]
  },
  {
   "cell_type": "code",
   "execution_count": 28,
   "id": "2ca9f405-0193-450b-8c1c-169b707bd4ab",
   "metadata": {
    "tags": []
   },
   "outputs": [
    {
     "data": {
      "text/plain": [
       "[-1, 0, 0, 0]"
      ]
     },
     "execution_count": 28,
     "metadata": {},
     "output_type": "execute_result"
    }
   ],
   "source": [
    "dist"
   ]
  },
  {
   "cell_type": "code",
   "execution_count": 16,
   "id": "ac389075-b716-4550-b1e8-6593bdbbfa5b",
   "metadata": {
    "tags": []
   },
   "outputs": [
    {
     "data": {
      "text/plain": [
       "1"
      ]
     },
     "execution_count": 16,
     "metadata": {},
     "output_type": "execute_result"
    }
   ],
   "source": [
    "dist.index(0)"
   ]
  },
  {
   "cell_type": "code",
   "execution_count": 29,
   "id": "68881062-9a68-431b-a3d9-da6eb0138008",
   "metadata": {
    "tags": []
   },
   "outputs": [
    {
     "data": {
      "text/plain": [
       "[[], [], [], [1, 2]]"
      ]
     },
     "execution_count": 29,
     "metadata": {},
     "output_type": "execute_result"
    }
   ],
   "source": [
    "graph"
   ]
  },
  {
   "cell_type": "code",
   "execution_count": null,
   "id": "1b26afc9-838d-4de0-86f6-de5b13ad6c03",
   "metadata": {},
   "outputs": [],
   "source": []
  }
 ],
 "metadata": {
  "kernelspec": {
   "display_name": "Python 3 (ipykernel)",
   "language": "python",
   "name": "python3"
  },
  "language_info": {
   "codemirror_mode": {
    "name": "ipython",
    "version": 3
   },
   "file_extension": ".py",
   "mimetype": "text/x-python",
   "name": "python",
   "nbconvert_exporter": "python",
   "pygments_lexer": "ipython3",
   "version": "3.11.3"
  }
 },
 "nbformat": 4,
 "nbformat_minor": 5
}
