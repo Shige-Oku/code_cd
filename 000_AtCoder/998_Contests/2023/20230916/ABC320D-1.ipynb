{
 "cells": [
  {
   "cell_type": "code",
   "execution_count": 1,
   "id": "a8ca6ad6-6548-4de4-9d34-3d9e967591b3",
   "metadata": {
    "tags": []
   },
   "outputs": [],
   "source": [
    "import sys\n",
    "import numpy as np\n",
    "import math\n",
    "import collections\n",
    "import copy\n",
    "import decimal\n",
    "import itertools\n",
    "import re\n",
    "import bisect\n",
    "import scipy\n",
    "import heapq\n",
    "from collections import deque \n",
    "from functools import reduce\n",
    "from itertools import product\n",
    "from itertools import combinations\n",
    "from functools import lru_cache\n",
    "from scipy.special import comb\n",
    "from numba import njit\n",
    "from bisect import bisect_right\n",
    "from bisect import bisect_left"
   ]
  },
  {
   "cell_type": "code",
   "execution_count": 1,
   "id": "72a57a6a-8ec9-4cbd-ab58-153e23892302",
   "metadata": {},
   "outputs": [
    {
     "name": "stdin",
     "output_type": "stream",
     "text": [
      " 3 2\n"
     ]
    }
   ],
   "source": [
    "N, M = map(int, input().split())"
   ]
  },
  {
   "cell_type": "code",
   "execution_count": 2,
   "id": "4aebb44e-a642-4b4a-a207-dd0ce933dab9",
   "metadata": {
    "tags": []
   },
   "outputs": [
    {
     "name": "stdin",
     "output_type": "stream",
     "text": [
      " 1 2 2 1\n",
      " 1 3 -1 -2\n"
     ]
    }
   ],
   "source": [
    "ABXYm = [list(map(int, input().split())) for _ in range(M)]"
   ]
  },
  {
   "cell_type": "code",
   "execution_count": 5,
   "id": "3a61fec4-f99e-4e01-aa4f-c10a3fde3b46",
   "metadata": {
    "tags": []
   },
   "outputs": [],
   "source": [
    "graph = [[] for _ in range(N+1)]\n",
    "for A, B, X, Y in ABXYm:\n",
    "    graph[A].append((B, X, Y))\n",
    "    graph[B].append((A, -X, -Y))"
   ]
  },
  {
   "cell_type": "code",
   "execution_count": 20,
   "id": "3fad1ade-2115-4fb5-a2b4-568d9fc5633f",
   "metadata": {
    "tags": []
   },
   "outputs": [],
   "source": [
    "from collections import deque\n",
    "def bfs():\n",
    "    q = deque()\n",
    "    q.append(1)\n",
    "    visit[1] = True\n",
    "    # ans[1][0], ans[1][1] = 0, 0\n",
    "    while q:\n",
    "        p = q.popleft()\n",
    "        for n, nx, ny in graph[p]:\n",
    "            if visit[n]:\n",
    "                continue\n",
    "            q.append(n)\n",
    "            ans[n][0] = ans[p][0] + nx\n",
    "            ans[n][1] = ans[p][1] + ny\n",
    "            visit[n] = True\n",
    "    return"
   ]
  },
  {
   "cell_type": "code",
   "execution_count": 21,
   "id": "c350a384-bf86-4005-91c6-7bedec0d1019",
   "metadata": {
    "tags": []
   },
   "outputs": [],
   "source": [
    "visit = [False] * (N+1)\n",
    "ans = [[0] * 2 for _ in range(N+1)]\n",
    "bfs()"
   ]
  },
  {
   "cell_type": "code",
   "execution_count": 25,
   "id": "a890a57e-a7b2-4b50-9c02-53e61916cc91",
   "metadata": {
    "tags": []
   },
   "outputs": [
    {
     "name": "stdout",
     "output_type": "stream",
     "text": [
      "0 0\n",
      "2 1\n",
      "-1 -2\n"
     ]
    }
   ],
   "source": [
    "for i in range(1, N+1):\n",
    "    if visit[i]:\n",
    "        print(ans[i][0], ans[i][1])\n",
    "    else:\n",
    "        print('undecidable')"
   ]
  },
  {
   "cell_type": "code",
   "execution_count": 22,
   "id": "5ee3b61a-343d-48f4-a269-2ce1c2d595c2",
   "metadata": {
    "tags": []
   },
   "outputs": [
    {
     "data": {
      "text/plain": [
       "[[], [(2, 2, 1), (3, -1, -2)], [(1, -2, -1)], [(1, 1, 2)]]"
      ]
     },
     "execution_count": 22,
     "metadata": {},
     "output_type": "execute_result"
    }
   ],
   "source": [
    "graph"
   ]
  },
  {
   "cell_type": "code",
   "execution_count": 23,
   "id": "02b6e137-cf79-4ee0-95f2-b3fac348c8a6",
   "metadata": {
    "tags": []
   },
   "outputs": [
    {
     "data": {
      "text/plain": [
       "[False, True, True, True]"
      ]
     },
     "execution_count": 23,
     "metadata": {},
     "output_type": "execute_result"
    }
   ],
   "source": [
    "visit"
   ]
  },
  {
   "cell_type": "code",
   "execution_count": 24,
   "id": "31f9698d-ee4c-41ae-8483-2d0bf54722f5",
   "metadata": {
    "tags": []
   },
   "outputs": [
    {
     "data": {
      "text/plain": [
       "[[0, 0], [0, 0], [2, 1], [-1, -2]]"
      ]
     },
     "execution_count": 24,
     "metadata": {},
     "output_type": "execute_result"
    }
   ],
   "source": [
    "ans"
   ]
  },
  {
   "cell_type": "code",
   "execution_count": null,
   "id": "94536956-24c3-4962-bfcd-a8582c617bad",
   "metadata": {},
   "outputs": [],
   "source": []
  }
 ],
 "metadata": {
  "kernelspec": {
   "display_name": "Python 3 (ipykernel)",
   "language": "python",
   "name": "python3"
  },
  "language_info": {
   "codemirror_mode": {
    "name": "ipython",
    "version": 3
   },
   "file_extension": ".py",
   "mimetype": "text/x-python",
   "name": "python",
   "nbconvert_exporter": "python",
   "pygments_lexer": "ipython3",
   "version": "3.11.3"
  }
 },
 "nbformat": 4,
 "nbformat_minor": 5
}
