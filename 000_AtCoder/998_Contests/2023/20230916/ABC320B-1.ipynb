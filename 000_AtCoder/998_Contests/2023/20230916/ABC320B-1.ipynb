{
 "cells": [
  {
   "cell_type": "code",
   "execution_count": 1,
   "id": "59f97a20-3b27-4fae-867f-2d37c9a2f706",
   "metadata": {
    "tags": []
   },
   "outputs": [],
   "source": [
    "import sys\n",
    "import numpy as np\n",
    "import math\n",
    "import collections\n",
    "import copy\n",
    "import decimal\n",
    "import itertools\n",
    "import re\n",
    "import bisect\n",
    "import scipy\n",
    "import heapq\n",
    "from collections import deque \n",
    "from functools import reduce\n",
    "from itertools import product\n",
    "from itertools import combinations\n",
    "from functools import lru_cache\n",
    "from scipy.special import comb\n",
    "from numba import njit\n",
    "from bisect import bisect_right\n",
    "from bisect import bisect_left"
   ]
  },
  {
   "cell_type": "code",
   "execution_count": 81,
   "id": "812e3541-d4ca-448e-a2ee-58e13fd2cc3c",
   "metadata": {
    "tags": []
   },
   "outputs": [
    {
     "name": "stdin",
     "output_type": "stream",
     "text": [
      " AAAAAAAAAA\n"
     ]
    }
   ],
   "source": [
    "S = input()"
   ]
  },
  {
   "cell_type": "code",
   "execution_count": 32,
   "id": "d1a34056-c528-4e95-9aac-fac4de4ede5a",
   "metadata": {
    "tags": []
   },
   "outputs": [],
   "source": [
    "def myCheck(i, j):\n",
    "    ret = 0\n",
    "    for s1, s2 in zip(S[i:], S_r[j:]):\n",
    "        if s1 != s2:\n",
    "            break\n",
    "        ret += 1\n",
    "    return ret\n",
    "    "
   ]
  },
  {
   "cell_type": "code",
   "execution_count": 82,
   "id": "15663762-fd37-4b17-95ba-0cc54a47157b",
   "metadata": {
    "tags": []
   },
   "outputs": [],
   "source": [
    "ans = 0\n",
    "for i in range(len(S)+1):\n",
    "    for j in range(len(S)+1):\n",
    "        S1 = S[i:j*1]\n",
    "        S2 = S1[::-1]\n",
    "        c = 0\n",
    "        for s1, s2 in zip(S1, S2):\n",
    "            if s1 != s2:\n",
    "                break\n",
    "            c += 1\n",
    "        else:\n",
    "            ans = max(ans, c)\n"
   ]
  },
  {
   "cell_type": "code",
   "execution_count": 83,
   "id": "f44e7768-7dd0-456e-aae2-b63d3937f549",
   "metadata": {
    "tags": []
   },
   "outputs": [
    {
     "name": "stdout",
     "output_type": "stream",
     "text": [
      "10\n"
     ]
    }
   ],
   "source": [
    "print(ans)"
   ]
  },
  {
   "cell_type": "code",
   "execution_count": 6,
   "id": "097218f2-6902-4196-894d-2711e6b7e821",
   "metadata": {
    "tags": []
   },
   "outputs": [
    {
     "data": {
      "text/plain": [
       "('TOYOTA', 'TOYOTA')"
      ]
     },
     "execution_count": 6,
     "metadata": {},
     "output_type": "execute_result"
    }
   ],
   "source": [
    "S, S_r"
   ]
  },
  {
   "cell_type": "code",
   "execution_count": 24,
   "id": "016e7a42-72c2-4690-9046-74c177d622ae",
   "metadata": {
    "tags": []
   },
   "outputs": [
    {
     "data": {
      "text/plain": [
       "10"
      ]
     },
     "execution_count": 24,
     "metadata": {},
     "output_type": "execute_result"
    }
   ],
   "source": [
    "len(S)"
   ]
  },
  {
   "cell_type": "code",
   "execution_count": null,
   "id": "d87c38e3-e093-4c37-8ce1-69549d8bbceb",
   "metadata": {},
   "outputs": [],
   "source": []
  }
 ],
 "metadata": {
  "kernelspec": {
   "display_name": "Python 3 (ipykernel)",
   "language": "python",
   "name": "python3"
  },
  "language_info": {
   "codemirror_mode": {
    "name": "ipython",
    "version": 3
   },
   "file_extension": ".py",
   "mimetype": "text/x-python",
   "name": "python",
   "nbconvert_exporter": "python",
   "pygments_lexer": "ipython3",
   "version": "3.11.3"
  }
 },
 "nbformat": 4,
 "nbformat_minor": 5
}
