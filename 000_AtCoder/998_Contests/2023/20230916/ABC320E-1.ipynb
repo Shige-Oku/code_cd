{
 "cells": [
  {
   "cell_type": "code",
   "execution_count": 1,
   "id": "e4298684-4685-4db8-8e20-d090364f6433",
   "metadata": {
    "tags": []
   },
   "outputs": [],
   "source": [
    "import sys\n",
    "import numpy as np\n",
    "import math\n",
    "import collections\n",
    "import copy\n",
    "import decimal\n",
    "import itertools\n",
    "import re\n",
    "import bisect\n",
    "import scipy\n",
    "import heapq\n",
    "from collections import deque \n",
    "from functools import reduce\n",
    "from itertools import product\n",
    "from itertools import combinations\n",
    "from functools import lru_cache\n",
    "from scipy.special import comb\n",
    "from numba import njit\n",
    "from bisect import bisect_right\n",
    "from bisect import bisect_left"
   ]
  },
  {
   "cell_type": "code",
   "execution_count": 1,
   "id": "a855d232-aab0-4b15-904d-7cda472f767a",
   "metadata": {},
   "outputs": [
    {
     "name": "stdin",
     "output_type": "stream",
     "text": [
      " 3 5\n"
     ]
    }
   ],
   "source": [
    "N, M = map(int, input().split())"
   ]
  },
  {
   "cell_type": "code",
   "execution_count": 2,
   "id": "2ed965c9-794a-4085-ab87-ddc9287266b2",
   "metadata": {
    "tags": []
   },
   "outputs": [
    {
     "name": "stdin",
     "output_type": "stream",
     "text": [
      " 1 1 3\n",
      " 2 10 100\n",
      " 4 100 1000\n",
      " 10 1000 1000000000\n",
      " 100 1000000000 1\n"
     ]
    }
   ],
   "source": [
    "TWSm = [list(map(int, input().split())) for _ in range(M)]"
   ]
  },
  {
   "cell_type": "code",
   "execution_count": 9,
   "id": "8b8cd69b-15fe-4ad7-956e-b6efa8047ec5",
   "metadata": {
    "tags": []
   },
   "outputs": [],
   "source": [
    "import heapq\n",
    "def solve():\n",
    "    taiki = []\n",
    "    for i in range(1, N+1):\n",
    "        heapq.heappush(taiki, i)\n",
    "    q = []\n",
    "    for T, W, S in TWSm:\n",
    "        heapq.heappush(q, (T, W, S))\n",
    "        \n",
    "    while q:\n",
    "        T, W, S = heapq.heappop(q)\n",
    "        if W > 0:\n",
    "            if len(taiki) == 0:\n",
    "                continue\n",
    "            target = heapq.heappop(taiki)\n",
    "            ans[target] += W\n",
    "            heapq.heappush(q, (T+S, -1, target))\n",
    "        else:\n",
    "            heapq.heappush(taiki, S)\n",
    "    \n",
    "    return"
   ]
  },
  {
   "cell_type": "code",
   "execution_count": 10,
   "id": "199e2fe4-e775-4009-b053-1eb9d205cfc1",
   "metadata": {
    "tags": []
   },
   "outputs": [],
   "source": [
    "ans = [0] * (N+1)\n",
    "solve()"
   ]
  },
  {
   "cell_type": "code",
   "execution_count": 12,
   "id": "3d5ad82c-c3a3-4f4d-a2fb-1c6e4e335368",
   "metadata": {
    "tags": []
   },
   "outputs": [
    {
     "name": "stdout",
     "output_type": "stream",
     "text": [
      "101\n",
      "10\n",
      "1000\n"
     ]
    }
   ],
   "source": [
    "for a in ans[1:]:\n",
    "    print(a)"
   ]
  },
  {
   "cell_type": "code",
   "execution_count": 11,
   "id": "cabbf681-c95f-47bf-93e2-eac3201bce1e",
   "metadata": {
    "tags": []
   },
   "outputs": [
    {
     "data": {
      "text/plain": [
       "[0, 101, 10, 1000]"
      ]
     },
     "execution_count": 11,
     "metadata": {},
     "output_type": "execute_result"
    }
   ],
   "source": [
    "ans"
   ]
  },
  {
   "cell_type": "code",
   "execution_count": 14,
   "id": "1db9a6f2-1d9a-474e-b291-3d22bdf9f8eb",
   "metadata": {
    "tags": []
   },
   "outputs": [
    {
     "data": {
      "text/plain": [
       "{13999: 1, 26237: 1}"
      ]
     },
     "execution_count": 14,
     "metadata": {},
     "output_type": "execute_result"
    }
   ],
   "source": [
    "factorization(367291763)"
   ]
  },
  {
   "cell_type": "code",
   "execution_count": 13,
   "id": "8da362c8-5a40-4984-914b-854c15fb21a3",
   "metadata": {
    "tags": []
   },
   "outputs": [],
   "source": [
    "# 素因数分解\n",
    "from collections import defaultdict\n",
    "def factorization(n):\n",
    "    arr = {}\n",
    "    temp = n\n",
    "    for i in range(2, int(-(-n**0.5//1))+1):\n",
    "        if temp % i == 0:\n",
    "            cnt = 0\n",
    "            while temp % i == 0:\n",
    "                cnt += 1\n",
    "                temp //= i\n",
    "            arr[i] = cnt\n",
    "\n",
    "    if temp != 1:\n",
    "        if temp in arr:\n",
    "            arr[temp] += 1\n",
    "        else:\n",
    "            arr[temp] = 1\n",
    "\n",
    "    if len(arr) == 0:\n",
    "        arr[n] = 1\n",
    "\n",
    "    return arr"
   ]
  },
  {
   "cell_type": "code",
   "execution_count": 15,
   "id": "677ba584-f4f3-43a1-a2f1-f30838bec95d",
   "metadata": {
    "tags": []
   },
   "outputs": [
    {
     "data": {
      "text/plain": [
       "367291763"
      ]
     },
     "execution_count": 15,
     "metadata": {},
     "output_type": "execute_result"
    }
   ],
   "source": [
    "13999 * 26237"
   ]
  },
  {
   "cell_type": "code",
   "execution_count": null,
   "id": "123b753b-a19e-4ac0-88bc-5fc1c7aa3a8b",
   "metadata": {},
   "outputs": [],
   "source": []
  }
 ],
 "metadata": {
  "kernelspec": {
   "display_name": "Python 3 (ipykernel)",
   "language": "python",
   "name": "python3"
  },
  "language_info": {
   "codemirror_mode": {
    "name": "ipython",
    "version": 3
   },
   "file_extension": ".py",
   "mimetype": "text/x-python",
   "name": "python",
   "nbconvert_exporter": "python",
   "pygments_lexer": "ipython3",
   "version": "3.11.3"
  }
 },
 "nbformat": 4,
 "nbformat_minor": 5
}
