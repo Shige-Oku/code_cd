{
 "cells": [
  {
   "cell_type": "code",
   "execution_count": 1,
   "id": "462524b2-8a2e-4baf-a667-4959aea5f358",
   "metadata": {
    "tags": []
   },
   "outputs": [],
   "source": [
    "import sys\n",
    "import numpy as np\n",
    "import math\n",
    "import collections\n",
    "import copy\n",
    "import decimal\n",
    "import itertools\n",
    "import re\n",
    "import bisect\n",
    "import scipy\n",
    "import heapq\n",
    "from collections import deque \n",
    "from functools import reduce\n",
    "from itertools import product\n",
    "from itertools import combinations\n",
    "from functools import lru_cache\n",
    "from scipy.special import comb\n",
    "from numba import njit\n",
    "from bisect import bisect_right\n",
    "from bisect import bisect_left"
   ]
  },
  {
   "cell_type": "code",
   "execution_count": 24,
   "id": "c2b72d66-ee56-44db-9fbd-f978eeed1178",
   "metadata": {
    "tags": []
   },
   "outputs": [
    {
     "name": "stdin",
     "output_type": "stream",
     "text": [
      " 20\n"
     ]
    }
   ],
   "source": [
    "M = int(input())"
   ]
  },
  {
   "cell_type": "code",
   "execution_count": 25,
   "id": "636afd76-23ab-416e-abc7-a6935634f9d1",
   "metadata": {
    "tags": []
   },
   "outputs": [
    {
     "name": "stdin",
     "output_type": "stream",
     "text": [
      " 01234567890123456789\n",
      " 01234567890123456789\n",
      " 01234567890123456789\n"
     ]
    }
   ],
   "source": [
    "Sn = [input() for _ in range(3)]"
   ]
  },
  {
   "cell_type": "code",
   "execution_count": 10,
   "id": "ef8da68d-b1e4-4d6d-b5b2-85c7754d9779",
   "metadata": {
    "tags": []
   },
   "outputs": [],
   "source": [
    "# 回答を読んで実装"
   ]
  },
  {
   "cell_type": "code",
   "execution_count": 28,
   "id": "8eb8e5d2-2d0b-4034-afea-fe57c9def2af",
   "metadata": {
    "tags": []
   },
   "outputs": [],
   "source": [
    "ans = 10**10\n",
    "for i in range(3*M):\n",
    "    s1 = Sn[0][i%M]\n",
    "    for j in range(3*M):\n",
    "        if i == j:\n",
    "            continue\n",
    "        s2 = Sn[1][j%M]\n",
    "        for k in range(3*M):\n",
    "            if i == k or j == k:\n",
    "                continue\n",
    "            s3 = Sn[2][k%M]\n",
    "            if s1 == s2 == s3:\n",
    "                ans = min(ans, max(i, j, k))"
   ]
  },
  {
   "cell_type": "code",
   "execution_count": 29,
   "id": "0c3bd942-dfee-4687-8f64-ba70865acdbb",
   "metadata": {
    "tags": []
   },
   "outputs": [
    {
     "name": "stdout",
     "output_type": "stream",
     "text": [
      "20\n"
     ]
    }
   ],
   "source": [
    "if ans == 10**10:\n",
    "    print(-1)\n",
    "else:\n",
    "    print(ans)"
   ]
  },
  {
   "cell_type": "code",
   "execution_count": 25,
   "id": "65737dcb-1cc4-46d7-b723-2920a1c9e2fb",
   "metadata": {
    "tags": []
   },
   "outputs": [
    {
     "name": "stdin",
     "output_type": "stream",
     "text": [
      " 01234567890123456789\n",
      " 01234567890123456789\n",
      " 01234567890123456789\n"
     ]
    }
   ],
   "source": [
    "Sn = [input() for _ in range(3)]"
   ]
  },
  {
   "cell_type": "code",
   "execution_count": 15,
   "id": "90af085f-0d13-412b-bdd8-4c76bb4b753d",
   "metadata": {
    "tags": []
   },
   "outputs": [],
   "source": [
    "ans = 10**10\n",
    "for i, s1 in enumerate(Sn[0]):\n",
    "    for j, s2 in enumerate(Sn[1]):\n",
    "        if i == j:\n",
    "            continue\n",
    "        for k, s3 in enumerate(Sn[2]):\n",
    "            if i == k or j == k:\n",
    "                continue\n",
    "            if s1 == s2 == s3:\n",
    "                ans = min(ans, max(i, j, k))"
   ]
  },
  {
   "cell_type": "code",
   "execution_count": 18,
   "id": "cc8fb092-4add-43ca-855d-f64289e7041e",
   "metadata": {
    "tags": []
   },
   "outputs": [],
   "source": [
    "ans = 10**10\n",
    "for i in range(len(Sn[0])):\n",
    "    s1 = Sn[0][i]\n",
    "    for j in range(len((Sn[1]))):\n",
    "        if i == j:\n",
    "            continue\n",
    "        s2 = Sn[1][j]\n",
    "        for k in range(len(Sn[2])):\n",
    "            if i == k or j == k:\n",
    "                continue\n",
    "            s3 = Sn[2][k]\n",
    "            if s1 == s2 == s3:\n",
    "                ans = min(ans, max(i, j, k))"
   ]
  },
  {
   "cell_type": "code",
   "execution_count": null,
   "id": "9049ea96-18fd-4907-ad9c-15f63df0b703",
   "metadata": {},
   "outputs": [],
   "source": [
    "# WA"
   ]
  },
  {
   "cell_type": "code",
   "execution_count": 36,
   "id": "e8e1bb2b-8074-4941-b6ab-8a5b2164e393",
   "metadata": {
    "tags": []
   },
   "outputs": [],
   "source": [
    "flg = [False] * 10\n",
    "for i in range(10):\n",
    "    if str(i) not in Sn[0]:\n",
    "        continue\n",
    "    if str(i) not in Sn[1]:\n",
    "        continue\n",
    "    if str(i) not in Sn[2]:\n",
    "        continue\n",
    "    flg[i] = True"
   ]
  },
  {
   "cell_type": "code",
   "execution_count": 37,
   "id": "ef83a9dd-26a5-432e-b697-30fe45121e6a",
   "metadata": {
    "tags": []
   },
   "outputs": [],
   "source": [
    "cnt = []\n",
    "for _ in range(3):\n",
    "    cnt1 = [[] for _ in range(10)]\n",
    "    cnt.append(cnt1)\n",
    "for i, (s1, s2, s3) in enumerate(zip(Sn[0], Sn[1], Sn[2])):\n",
    "    s1, s2, s3 = int(s1), int(s2), int(s3)\n",
    "    cnt[0][s1].append(i)\n",
    "    cnt[1][s2].append(i)\n",
    "    cnt[2][s3].append(i)\n",
    "    "
   ]
  },
  {
   "cell_type": "code",
   "execution_count": 79,
   "id": "6242ab89-dc1d-48ae-9601-ff7903fb3eae",
   "metadata": {
    "tags": []
   },
   "outputs": [],
   "source": [
    "from bisect import bisect_left, bisect_right\n",
    "def solve2(mi, l1, l2):\n",
    "    i1 = bisect_right(l1, mi)\n",
    "    i2 = bisect_right(l2, mi)\n",
    "    # print(i1, l1[i1], i2, l2[i2])\n",
    "    \n",
    "    if l1[i1] > l2[i2]:\n",
    "        return l1[bisect_right(l1, l2[i2])]\n",
    "    else:\n",
    "        return l2[bisect_right(l2, l1[i1])]\n",
    "        "
   ]
  },
  {
   "cell_type": "code",
   "execution_count": 82,
   "id": "073e68bd-4b4f-418b-b55e-58a847b0ab95",
   "metadata": {
    "tags": []
   },
   "outputs": [],
   "source": [
    "def solve(n):\n",
    "    ret = 10**10\n",
    "    if not flg[n]:\n",
    "        return ret\n",
    "    ret = min(ret, solve2(cnt[0][n][0], cnt[1][n], cnt[2][n]))\n",
    "    ret = min(ret, solve2(cnt[1][n][0], cnt[0][n], cnt[2][n]))\n",
    "    ret = min(ret, solve2(cnt[2][n][0], cnt[0][n], cnt[1][n]))\n",
    "\n",
    "    return ret\n",
    "        "
   ]
  },
  {
   "cell_type": "code",
   "execution_count": 83,
   "id": "bb699bdf-4771-447d-95e5-fad2080592f3",
   "metadata": {
    "tags": []
   },
   "outputs": [],
   "source": [
    "ans = 10**10\n",
    "for i in range(10):\n",
    "    ans = min(ans, solve(i))\n",
    "    # print(i, ans)\n"
   ]
  },
  {
   "cell_type": "code",
   "execution_count": 84,
   "id": "39ba5b26-3c11-483c-8157-a11acb631c21",
   "metadata": {
    "tags": []
   },
   "outputs": [
    {
     "name": "stdout",
     "output_type": "stream",
     "text": [
      "6\n"
     ]
    }
   ],
   "source": [
    "if ans == 10**10:\n",
    "    print(-1)\n",
    "else:\n",
    "    print(ans)"
   ]
  },
  {
   "cell_type": "code",
   "execution_count": 65,
   "id": "5af29b98-f23b-47b6-ba7e-823769cc4270",
   "metadata": {
    "tags": []
   },
   "outputs": [
    {
     "name": "stdout",
     "output_type": "stream",
     "text": [
      "0\n",
      "2 [6, 16, 26] [2, 12, 22]\n",
      "0 6 0 2\n",
      "6\n"
     ]
    },
    {
     "data": {
      "text/plain": [
       "6"
      ]
     },
     "execution_count": 65,
     "metadata": {},
     "output_type": "execute_result"
    }
   ],
   "source": [
    "solve(8)"
   ]
  },
  {
   "cell_type": "code",
   "execution_count": 85,
   "id": "75e211d1-bfcd-44d6-986a-321ccf97731a",
   "metadata": {
    "tags": []
   },
   "outputs": [
    {
     "data": {
      "text/plain": [
       "('1937458062193745806219374580621937458062', 27000000)"
      ]
     },
     "execution_count": 85,
     "metadata": {},
     "output_type": "execute_result"
    }
   ],
   "source": [
    "Sn[0], 300**3"
   ]
  },
  {
   "cell_type": "code",
   "execution_count": 51,
   "id": "bf17446c-9218-4424-8549-8490a5c86673",
   "metadata": {
    "tags": []
   },
   "outputs": [
    {
     "data": {
      "text/plain": [
       "([True, True, True, True, True, True, True, True, True, True],\n",
       " [[[7, 17, 27],\n",
       "   [0, 10, 20],\n",
       "   [9, 19, 29],\n",
       "   [2, 12, 22],\n",
       "   [4, 14, 24],\n",
       "   [5, 15, 25],\n",
       "   [8, 18, 28],\n",
       "   [3, 13, 23],\n",
       "   [6, 16, 26],\n",
       "   [1, 11, 21]],\n",
       "  [[6, 16, 26],\n",
       "   [1, 11, 21],\n",
       "   [2, 12, 22],\n",
       "   [7, 17, 27],\n",
       "   [3, 13, 23],\n",
       "   [8, 18, 28],\n",
       "   [4, 14, 24],\n",
       "   [9, 19, 29],\n",
       "   [0, 10, 20],\n",
       "   [5, 15, 25]],\n",
       "  [[6, 16, 26],\n",
       "   [7, 17, 27],\n",
       "   [0, 10, 20],\n",
       "   [1, 11, 21],\n",
       "   [8, 18, 28],\n",
       "   [3, 13, 23],\n",
       "   [5, 15, 25],\n",
       "   [4, 14, 24],\n",
       "   [2, 12, 22],\n",
       "   [9, 19, 29]]])"
      ]
     },
     "execution_count": 51,
     "metadata": {},
     "output_type": "execute_result"
    }
   ],
   "source": [
    "flg, cnt"
   ]
  },
  {
   "cell_type": "code",
   "execution_count": null,
   "id": "9334bc08-872f-477a-b4c7-483bdd617fff",
   "metadata": {},
   "outputs": [],
   "source": []
  }
 ],
 "metadata": {
  "kernelspec": {
   "display_name": "Python 3 (ipykernel)",
   "language": "python",
   "name": "python3"
  },
  "language_info": {
   "codemirror_mode": {
    "name": "ipython",
    "version": 3
   },
   "file_extension": ".py",
   "mimetype": "text/x-python",
   "name": "python",
   "nbconvert_exporter": "python",
   "pygments_lexer": "ipython3",
   "version": "3.11.3"
  }
 },
 "nbformat": 4,
 "nbformat_minor": 5
}
