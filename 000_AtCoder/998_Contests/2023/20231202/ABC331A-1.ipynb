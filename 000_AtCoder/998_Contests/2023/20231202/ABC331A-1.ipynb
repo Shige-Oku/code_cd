{
 "cells": [
  {
   "cell_type": "code",
   "execution_count": 1,
   "id": "4fa3a23a-21e0-4015-9263-810c6eab576e",
   "metadata": {
    "tags": []
   },
   "outputs": [],
   "source": [
    "import sys\n",
    "import numpy as np\n",
    "import math\n",
    "import collections\n",
    "import copy\n",
    "import decimal\n",
    "import itertools\n",
    "import re\n",
    "import bisect\n",
    "import scipy\n",
    "import heapq\n",
    "from collections import deque \n",
    "from functools import reduce\n",
    "from itertools import product\n",
    "from itertools import combinations\n",
    "from functools import lru_cache\n",
    "from scipy.special import comb\n",
    "from numba import njit\n",
    "from bisect import bisect_right\n",
    "from bisect import bisect_left"
   ]
  },
  {
   "cell_type": "code",
   "execution_count": 10,
   "id": "1d0847a2-1f69-41d6-943e-62919c1db1dc",
   "metadata": {
    "tags": []
   },
   "outputs": [
    {
     "name": "stdin",
     "output_type": "stream",
     "text": [
      " 12 30\n"
     ]
    }
   ],
   "source": [
    "M, D = map(int, input().split())"
   ]
  },
  {
   "cell_type": "code",
   "execution_count": 15,
   "id": "6587373e-6fa4-476e-bd26-cef444da0f61",
   "metadata": {
    "tags": []
   },
   "outputs": [
    {
     "name": "stdin",
     "output_type": "stream",
     "text": [
      " 2012 11 30\n"
     ]
    }
   ],
   "source": [
    "y, m, d = map(int, input().split())"
   ]
  },
  {
   "cell_type": "code",
   "execution_count": 17,
   "id": "82b69252-09d7-4132-b629-27eb0ab004c6",
   "metadata": {
    "tags": []
   },
   "outputs": [
    {
     "name": "stdout",
     "output_type": "stream",
     "text": [
      "2012 12 1\n"
     ]
    }
   ],
   "source": [
    "if M == m:\n",
    "    if D == d:\n",
    "        print(y+1, 1, 1)\n",
    "    else:\n",
    "        print(y, m, d+1)\n",
    "else:\n",
    "    if D == d:\n",
    "        print(y, m+1, 1)\n",
    "    else:\n",
    "        print(y, m, d+1)\n"
   ]
  },
  {
   "cell_type": "code",
   "execution_count": null,
   "id": "cfa0a77c-074e-4d8e-9981-4b38d8ed31f9",
   "metadata": {},
   "outputs": [],
   "source": []
  }
 ],
 "metadata": {
  "kernelspec": {
   "display_name": "Python 3 (ipykernel)",
   "language": "python",
   "name": "python3"
  },
  "language_info": {
   "codemirror_mode": {
    "name": "ipython",
    "version": 3
   },
   "file_extension": ".py",
   "mimetype": "text/x-python",
   "name": "python",
   "nbconvert_exporter": "python",
   "pygments_lexer": "ipython3",
   "version": "3.11.3"
  }
 },
 "nbformat": 4,
 "nbformat_minor": 5
}
