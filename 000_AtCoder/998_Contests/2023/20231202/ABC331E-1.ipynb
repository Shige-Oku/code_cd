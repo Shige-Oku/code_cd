{
 "cells": [
  {
   "cell_type": "code",
   "execution_count": 1,
   "id": "a8789a35-e982-4cac-95c4-864033d804c5",
   "metadata": {
    "tags": []
   },
   "outputs": [],
   "source": [
    "import sys\n",
    "import numpy as np\n",
    "import math\n",
    "import collections\n",
    "import copy\n",
    "import decimal\n",
    "import itertools\n",
    "import re\n",
    "import bisect\n",
    "import scipy\n",
    "import heapq\n",
    "from collections import deque \n",
    "from functools import reduce\n",
    "from itertools import product\n",
    "from itertools import combinations\n",
    "from functools import lru_cache\n",
    "from scipy.special import comb\n",
    "from numba import njit\n",
    "from bisect import bisect_right\n",
    "from bisect import bisect_left"
   ]
  },
  {
   "cell_type": "code",
   "execution_count": 2,
   "id": "07e05231-1740-47da-ac8a-266bd1561d09",
   "metadata": {
    "tags": []
   },
   "outputs": [
    {
     "name": "stdin",
     "output_type": "stream",
     "text": [
      " 2 3 3\n"
     ]
    }
   ],
   "source": [
    "N, M, L = map(int, input().split())"
   ]
  },
  {
   "cell_type": "code",
   "execution_count": 3,
   "id": "43f40718-4906-418d-912f-2b095dff067a",
   "metadata": {
    "tags": []
   },
   "outputs": [
    {
     "name": "stdin",
     "output_type": "stream",
     "text": [
      " 2 1\n"
     ]
    }
   ],
   "source": [
    "An = list(map(int, input().split()))"
   ]
  },
  {
   "cell_type": "code",
   "execution_count": 4,
   "id": "1ec25e2d-d15d-4412-b8f3-8fbe8dc4dd92",
   "metadata": {
    "tags": []
   },
   "outputs": [
    {
     "name": "stdin",
     "output_type": "stream",
     "text": [
      " 10 30 20\n"
     ]
    }
   ],
   "source": [
    "Bm = list(map(int, input().split()))"
   ]
  },
  {
   "cell_type": "code",
   "execution_count": 7,
   "id": "1e8976f9-f2e6-451f-aa2a-0a0bd5db72c2",
   "metadata": {
    "tags": []
   },
   "outputs": [
    {
     "name": "stdin",
     "output_type": "stream",
     "text": [
      " 1 2\n",
      " 2 1\n",
      " 2 3\n"
     ]
    }
   ],
   "source": [
    "CDl = [list(map(int, input().split())) for _ in range(L)]"
   ]
  },
  {
   "cell_type": "code",
   "execution_count": 32,
   "id": "616e8c01-b077-44dc-b5ff-47cd69e3a36e",
   "metadata": {
    "tags": []
   },
   "outputs": [],
   "source": [
    "graph = [set() for _ in range(N+1)]\n",
    "for C, D in CDl:\n",
    "    graph[C].add(D)\n",
    "An2 = []\n",
    "for i, A in enumerate(An, 1):\n",
    "    An2.append((A, i))\n",
    "An2_s = sorted(An2, reverse=True)\n",
    "Bm2 = []\n",
    "for i, B in enumerate(Bm, 1):\n",
    "    Bm2.append((B, i))\n",
    "Bm2_s = sorted(Bm2, reverse=True)"
   ]
  },
  {
   "cell_type": "code",
   "execution_count": 33,
   "id": "f69b9d3d-89cc-42a6-b545-9dc4a4d63063",
   "metadata": {
    "tags": []
   },
   "outputs": [],
   "source": [
    "ans = 0\n",
    "for A, i in An2_s:\n",
    "    for B, j in Bm2_s:\n",
    "        if ans > A + B:\n",
    "            break\n",
    "        if j in graph[i]:\n",
    "            continue\n",
    "        ans = max(ans, A+B)\n",
    "        break\n"
   ]
  },
  {
   "cell_type": "code",
   "execution_count": 34,
   "id": "692ae5e5-4739-4e02-b030-042fe6a715af",
   "metadata": {
    "tags": []
   },
   "outputs": [
    {
     "name": "stdout",
     "output_type": "stream",
     "text": [
      "31\n"
     ]
    }
   ],
   "source": [
    "print(ans)"
   ]
  },
  {
   "cell_type": "code",
   "execution_count": 9,
   "id": "f39f75ff-bb67-4240-aa7f-ec79e46b784a",
   "metadata": {
    "tags": []
   },
   "outputs": [
    {
     "data": {
      "text/plain": [
       "[[], [2], [1, 3]]"
      ]
     },
     "execution_count": 9,
     "metadata": {},
     "output_type": "execute_result"
    }
   ],
   "source": [
    "graph"
   ]
  },
  {
   "cell_type": "code",
   "execution_count": 16,
   "id": "42dc3c1d-813f-4bde-bcd4-26bec8bb8442",
   "metadata": {
    "tags": []
   },
   "outputs": [
    {
     "data": {
      "text/plain": [
       "[(30, 2), (20, 3), (10, 1)]"
      ]
     },
     "execution_count": 16,
     "metadata": {},
     "output_type": "execute_result"
    }
   ],
   "source": [
    "Bm2_s"
   ]
  },
  {
   "cell_type": "code",
   "execution_count": 35,
   "id": "ea81f006-bdc8-4090-ab67-cb6021c72869",
   "metadata": {
    "tags": []
   },
   "outputs": [],
   "source": [
    "graph = [set() for _ in range(N+1)]\n",
    "for C, D in CDl:\n",
    "    graph[C].add(D)\n",
    "Bm2 = []\n",
    "for i, B in enumerate(Bm, 1):\n",
    "    Bm2.append((B, i))\n",
    "Bm2_s = sorted(Bm2, reverse=True)\n",
    "\n",
    "ans = 0\n",
    "for i, A in enumerate(An, 1):\n",
    "    for B, j in Bm2_s:\n",
    "        if ans > A + B:\n",
    "            break\n",
    "        if j in graph[i]:\n",
    "            continue\n",
    "        ans = max(ans, A+B)\n",
    "        break"
   ]
  },
  {
   "cell_type": "code",
   "execution_count": 36,
   "id": "bcfb0e23-1ba2-4f43-8e71-4639d51ec272",
   "metadata": {
    "tags": []
   },
   "outputs": [
    {
     "name": "stdout",
     "output_type": "stream",
     "text": [
      "31\n"
     ]
    }
   ],
   "source": [
    "print(ans)"
   ]
  },
  {
   "cell_type": "code",
   "execution_count": null,
   "id": "e00a2b96-4902-4904-83af-58bb2aac3831",
   "metadata": {},
   "outputs": [],
   "source": []
  }
 ],
 "metadata": {
  "kernelspec": {
   "display_name": "Python 3 (ipykernel)",
   "language": "python",
   "name": "python3"
  },
  "language_info": {
   "codemirror_mode": {
    "name": "ipython",
    "version": 3
   },
   "file_extension": ".py",
   "mimetype": "text/x-python",
   "name": "python",
   "nbconvert_exporter": "python",
   "pygments_lexer": "ipython3",
   "version": "3.11.3"
  }
 },
 "nbformat": 4,
 "nbformat_minor": 5
}
