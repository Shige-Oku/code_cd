{
 "cells": [
  {
   "cell_type": "code",
   "execution_count": 1,
   "id": "65fde466-3347-4260-a938-b969c0ef3072",
   "metadata": {
    "tags": []
   },
   "outputs": [],
   "source": [
    "import sys\n",
    "import numpy as np\n",
    "import math\n",
    "import collections\n",
    "import copy\n",
    "import decimal\n",
    "import itertools\n",
    "import re\n",
    "import bisect\n",
    "import scipy\n",
    "import heapq\n",
    "from collections import deque \n",
    "from functools import reduce\n",
    "from itertools import product\n",
    "from itertools import combinations\n",
    "from functools import lru_cache\n",
    "from scipy.special import comb\n",
    "from numba import njit\n",
    "from bisect import bisect_right\n",
    "from bisect import bisect_left"
   ]
  },
  {
   "cell_type": "code",
   "execution_count": 2,
   "id": "0c28fc71-4f9e-4b91-ba3a-56f849f31f94",
   "metadata": {
    "tags": []
   },
   "outputs": [
    {
     "name": "stdin",
     "output_type": "stream",
     "text": [
      " 3 2\n"
     ]
    }
   ],
   "source": [
    "N, Q = map(int, input().split())"
   ]
  },
  {
   "cell_type": "code",
   "execution_count": 24,
   "id": "22034bdb-1e2e-47e1-b3da-703194564fb7",
   "metadata": {
    "tags": []
   },
   "outputs": [
    {
     "name": "stdin",
     "output_type": "stream",
     "text": [
      " WWB\n",
      " BBW\n",
      " WBW\n"
     ]
    }
   ],
   "source": [
    "Sn = [input() for _ in range(N)]"
   ]
  },
  {
   "cell_type": "code",
   "execution_count": 5,
   "id": "aefd1db7-cc4d-433a-a29b-8ef0ece7abf2",
   "metadata": {
    "tags": []
   },
   "outputs": [
    {
     "name": "stdin",
     "output_type": "stream",
     "text": [
      " 1 2 3 4\n",
      " 0 3 4 5\n"
     ]
    }
   ],
   "source": [
    "Qq = [list(map(int, input().split())) for _ in range(Q)]"
   ]
  },
  {
   "cell_type": "code",
   "execution_count": 25,
   "id": "6ab7412d-734e-4bdd-a613-bc4ae1d952a6",
   "metadata": {
    "tags": []
   },
   "outputs": [],
   "source": [
    "flg_b = [[0] * (N+1) for _ in range(N+1)]\n",
    "for i in range(1, N+1):\n",
    "    for j in range(1, N+1):\n",
    "        if Sn[i-1][j-1] == 'B':\n",
    "            flg_b[i][j] = 1"
   ]
  },
  {
   "cell_type": "code",
   "execution_count": 34,
   "id": "01f621b0-2a53-4793-be51-de4ad2bc8b05",
   "metadata": {
    "tags": []
   },
   "outputs": [],
   "source": [
    "from itertools import accumulate\n",
    "cnt_b = []\n",
    "for flg in flg_b:\n",
    "    cnt_b.append(list(accumulate(flg)))\n",
    "cnt_b.append([])\n",
    "for j in range(N+1):\n",
    "    cnt = 0\n",
    "    for i in range(N+1):\n",
    "        cnt += cnt_b[i][j]\n",
    "        # print(i, j, cnt_b[j][i], cnt)\n",
    "    cnt_b[-1].append(cnt)\n",
    "    # print(j, cnt)"
   ]
  },
  {
   "cell_type": "code",
   "execution_count": 35,
   "id": "ee5825b8-72d0-45a4-bd55-c26970493178",
   "metadata": {
    "tags": []
   },
   "outputs": [
    {
     "name": "stdout",
     "output_type": "stream",
     "text": [
      "4\n"
     ]
    },
    {
     "ename": "IndexError",
     "evalue": "list index out of range",
     "output_type": "error",
     "traceback": [
      "\u001b[1;31m---------------------------------------------------------------------------\u001b[0m",
      "\u001b[1;31mIndexError\u001b[0m                                Traceback (most recent call last)",
      "Cell \u001b[1;32mIn[35], line 2\u001b[0m\n\u001b[0;32m      1\u001b[0m \u001b[38;5;28;01mfor\u001b[39;00m A, B, C, D \u001b[38;5;129;01min\u001b[39;00m Qq:\n\u001b[1;32m----> 2\u001b[0m     \u001b[38;5;28mprint\u001b[39m(cnt_b[D][C] \u001b[38;5;241m-\u001b[39m cnt_b[A][B])\n",
      "\u001b[1;31mIndexError\u001b[0m: list index out of range"
     ]
    }
   ],
   "source": [
    "for A, B, C, D in Qq:\n",
    "    print(cnt_b[D][C] - cnt_b[A][B])"
   ]
  },
  {
   "cell_type": "code",
   "execution_count": 32,
   "id": "8b71be04-6313-4c57-9dea-115cb9fe332d",
   "metadata": {
    "tags": []
   },
   "outputs": [
    {
     "data": {
      "text/plain": [
       "[[0, 0, 0, 0], [0, 0, 0, 1], [0, 1, 1, 0], [0, 0, 1, 0]]"
      ]
     },
     "execution_count": 32,
     "metadata": {},
     "output_type": "execute_result"
    }
   ],
   "source": [
    "flg_b"
   ]
  },
  {
   "cell_type": "code",
   "execution_count": 33,
   "id": "3fc947d6-2454-471d-9c7b-73850e544a9c",
   "metadata": {
    "tags": []
   },
   "outputs": [
    {
     "data": {
      "text/plain": [
       "[[0, 0, 0, 0], [0, 0, 0, 1], [0, 1, 2, 2], [0, 0, 1, 1], [0, 1, 3, 4]]"
      ]
     },
     "execution_count": 33,
     "metadata": {},
     "output_type": "execute_result"
    }
   ],
   "source": [
    "cnt_b"
   ]
  },
  {
   "cell_type": "code",
   "execution_count": null,
   "id": "22d4bc6b-63ab-42de-a6d6-361066f40a2d",
   "metadata": {},
   "outputs": [],
   "source": []
  }
 ],
 "metadata": {
  "kernelspec": {
   "display_name": "Python 3 (ipykernel)",
   "language": "python",
   "name": "python3"
  },
  "language_info": {
   "codemirror_mode": {
    "name": "ipython",
    "version": 3
   },
   "file_extension": ".py",
   "mimetype": "text/x-python",
   "name": "python",
   "nbconvert_exporter": "python",
   "pygments_lexer": "ipython3",
   "version": "3.11.3"
  }
 },
 "nbformat": 4,
 "nbformat_minor": 5
}
