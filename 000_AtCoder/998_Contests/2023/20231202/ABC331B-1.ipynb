{
 "cells": [
  {
   "cell_type": "code",
   "execution_count": 1,
   "id": "5864ecae-d311-4a90-90f5-bc3a4397412a",
   "metadata": {
    "tags": []
   },
   "outputs": [],
   "source": [
    "import sys\n",
    "import numpy as np\n",
    "import math\n",
    "import collections\n",
    "import copy\n",
    "import decimal\n",
    "import itertools\n",
    "import re\n",
    "import bisect\n",
    "import scipy\n",
    "import heapq\n",
    "from collections import deque \n",
    "from functools import reduce\n",
    "from itertools import product\n",
    "from itertools import combinations\n",
    "from functools import lru_cache\n",
    "from scipy.special import comb\n",
    "from numba import njit\n",
    "from bisect import bisect_right\n",
    "from bisect import bisect_left"
   ]
  },
  {
   "cell_type": "code",
   "execution_count": 14,
   "id": "01adc9e7-61d5-4c33-bced-6399a6c3fa03",
   "metadata": {
    "tags": []
   },
   "outputs": [
    {
     "name": "stdin",
     "output_type": "stream",
     "text": [
      " 99 600 800 1200\n"
     ]
    }
   ],
   "source": [
    "N, S, M, L = map(int, input().split())"
   ]
  },
  {
   "cell_type": "code",
   "execution_count": 15,
   "id": "97c6eb61-298d-4431-80f2-41ed7bf18964",
   "metadata": {
    "tags": []
   },
   "outputs": [],
   "source": [
    "ans = 10**10\n",
    "for s in range(N+1):\n",
    "    for m in range(N+1):\n",
    "        for l in range(N+1):\n",
    "            if N <= 6*s + 8*m + 12*l:\n",
    "                ans = min(ans, s*S + m*M + l*L)\n",
    "                # print(ans, s, m, l)"
   ]
  },
  {
   "cell_type": "code",
   "execution_count": 16,
   "id": "10741be3-1550-4a18-a2b3-235026234554",
   "metadata": {
    "tags": []
   },
   "outputs": [
    {
     "name": "stdout",
     "output_type": "stream",
     "text": [
      "10000\n"
     ]
    }
   ],
   "source": [
    "print(ans)"
   ]
  },
  {
   "cell_type": "code",
   "execution_count": 5,
   "id": "e7704b58-417a-4a87-9a2b-d7e5efad12ed",
   "metadata": {
    "tags": []
   },
   "outputs": [
    {
     "data": {
      "text/plain": [
       "16"
      ]
     },
     "execution_count": 5,
     "metadata": {},
     "output_type": "execute_result"
    }
   ],
   "source": [
    "N"
   ]
  },
  {
   "cell_type": "code",
   "execution_count": 6,
   "id": "6a474821-f59b-4ff3-bbfb-d8d396a4c205",
   "metadata": {
    "tags": []
   },
   "outputs": [
    {
     "data": {
      "text/plain": [
       "(16, 16, 16)"
      ]
     },
     "execution_count": 6,
     "metadata": {},
     "output_type": "execute_result"
    }
   ],
   "source": [
    "s, m, l"
   ]
  },
  {
   "cell_type": "code",
   "execution_count": null,
   "id": "fe7336be-dd80-4252-ac9a-3ee1ddda25ca",
   "metadata": {},
   "outputs": [],
   "source": []
  }
 ],
 "metadata": {
  "kernelspec": {
   "display_name": "Python 3 (ipykernel)",
   "language": "python",
   "name": "python3"
  },
  "language_info": {
   "codemirror_mode": {
    "name": "ipython",
    "version": 3
   },
   "file_extension": ".py",
   "mimetype": "text/x-python",
   "name": "python",
   "nbconvert_exporter": "python",
   "pygments_lexer": "ipython3",
   "version": "3.11.3"
  }
 },
 "nbformat": 4,
 "nbformat_minor": 5
}
