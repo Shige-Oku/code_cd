{
 "cells": [
  {
   "cell_type": "code",
   "execution_count": 1,
   "id": "02decda2-e376-475c-bb2a-a1c1a00186ef",
   "metadata": {},
   "outputs": [],
   "source": [
    "import sys\n",
    "import numpy as np\n",
    "import math\n",
    "import collections\n",
    "import copy\n",
    "import decimal\n",
    "import itertools\n",
    "import re\n",
    "import bisect\n",
    "import scipy\n",
    "import heapq\n",
    "from collections import deque \n",
    "from functools import reduce\n",
    "from itertools import product\n",
    "from itertools import combinations\n",
    "from functools import lru_cache\n",
    "from scipy.special import comb\n",
    "from numba import njit\n",
    "from bisect import bisect_right\n",
    "from bisect import bisect_left"
   ]
  },
  {
   "cell_type": "code",
   "execution_count": 2,
   "id": "5afebcb2-703c-4178-80d2-aa09e05c1302",
   "metadata": {},
   "outputs": [
    {
     "name": "stdin",
     "output_type": "stream",
     "text": [
      " 3 3\n"
     ]
    }
   ],
   "source": [
    "N, M = map(int, input().split())"
   ]
  },
  {
   "cell_type": "code",
   "execution_count": 4,
   "id": "6fc427e2-6946-4c8a-addc-61e704398738",
   "metadata": {},
   "outputs": [
    {
     "name": "stdin",
     "output_type": "stream",
     "text": [
      " 2\n",
      " 1 2\n",
      " 2\n",
      " 1 3\n",
      " 1\n",
      " 2\n"
     ]
    }
   ],
   "source": [
    "Cm = []\n",
    "Am = []\n",
    "for _ in range(M):\n",
    "    Cm.append(int(input()))\n",
    "    Am.append(list(map(int, input().split())))"
   ]
  },
  {
   "cell_type": "code",
   "execution_count": 8,
   "id": "ae35720a-4aa4-4eac-af44-586da5190e38",
   "metadata": {},
   "outputs": [],
   "source": [
    "from itertools import product\n",
    "ans = 0\n",
    "for P in product([0, 1], repeat=M):\n",
    "    s = set()\n",
    "    for i, p in enumerate(P):\n",
    "        if p == 0:\n",
    "            continue\n",
    "        for A in Am[i]:\n",
    "            s.add(A)\n",
    "    for j in range(1, N+1):\n",
    "        if j not in s:\n",
    "            break\n",
    "    else:\n",
    "        ans += 1"
   ]
  },
  {
   "cell_type": "code",
   "execution_count": 9,
   "id": "32df2bf6-0112-4bbc-88ac-acd0c4a3796c",
   "metadata": {},
   "outputs": [
    {
     "name": "stdout",
     "output_type": "stream",
     "text": [
      "3\n"
     ]
    }
   ],
   "source": [
    "print(ans)"
   ]
  },
  {
   "cell_type": "code",
   "execution_count": null,
   "id": "c8e99a9d-bbec-4330-a9db-87bd1be2aaeb",
   "metadata": {},
   "outputs": [],
   "source": []
  }
 ],
 "metadata": {
  "kernelspec": {
   "display_name": "Python 3",
   "language": "python",
   "name": "python3"
  },
  "language_info": {
   "codemirror_mode": {
    "name": "ipython",
    "version": 3
   },
   "file_extension": ".py",
   "mimetype": "text/x-python",
   "name": "python",
   "nbconvert_exporter": "python",
   "pygments_lexer": "ipython3",
   "version": "3.6.13"
  }
 },
 "nbformat": 4,
 "nbformat_minor": 5
}
