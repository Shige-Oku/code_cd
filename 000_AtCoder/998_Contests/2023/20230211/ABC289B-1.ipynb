{
 "cells": [
  {
   "cell_type": "code",
   "execution_count": 1,
   "id": "7775be75-0e87-424f-9717-5eda1145cf85",
   "metadata": {},
   "outputs": [],
   "source": [
    "import sys\n",
    "import numpy as np\n",
    "import math\n",
    "import collections\n",
    "import copy\n",
    "import decimal\n",
    "import itertools\n",
    "import re\n",
    "import bisect\n",
    "import scipy\n",
    "import heapq\n",
    "from collections import deque \n",
    "from functools import reduce\n",
    "from itertools import product\n",
    "from itertools import combinations\n",
    "from functools import lru_cache\n",
    "from scipy.special import comb\n",
    "from numba import njit\n",
    "from bisect import bisect_right\n",
    "from bisect import bisect_left"
   ]
  },
  {
   "cell_type": "code",
   "execution_count": 27,
   "id": "6902ecdf-66cb-4020-997b-f7ecb261f4af",
   "metadata": {},
   "outputs": [
    {
     "name": "stdin",
     "output_type": "stream",
     "text": [
      " 10 6\n"
     ]
    }
   ],
   "source": [
    "N, M = map(int, input().split())"
   ]
  },
  {
   "cell_type": "code",
   "execution_count": 28,
   "id": "fb19b279-cba8-45c9-8a13-5673f356a9fb",
   "metadata": {},
   "outputs": [
    {
     "name": "stdin",
     "output_type": "stream",
     "text": [
      " 1 2 3 7 8 9\n"
     ]
    }
   ],
   "source": [
    "An = set(map(int, input().split()))"
   ]
  },
  {
   "cell_type": "code",
   "execution_count": 29,
   "id": "96d9d7c0-0788-416f-99e8-fb0c73014049",
   "metadata": {},
   "outputs": [],
   "source": [
    "ans = []\n",
    "flg = False\n",
    "l = []\n",
    "for i in range(1, N+1):\n",
    "    if i in An:\n",
    "        l.append(i)\n",
    "        flg = True\n",
    "    else:\n",
    "        l.append(i)\n",
    "        for ll in l[::-1]:\n",
    "            ans.append(ll)\n",
    "            flg = False\n",
    "        l = []"
   ]
  },
  {
   "cell_type": "code",
   "execution_count": 30,
   "id": "8409e59f-c813-4011-b5f2-f22d4982232e",
   "metadata": {},
   "outputs": [
    {
     "name": "stdout",
     "output_type": "stream",
     "text": [
      "4 3 2 1 5 6 10 9 8 7\n"
     ]
    }
   ],
   "source": [
    "print(*ans)"
   ]
  },
  {
   "cell_type": "code",
   "execution_count": 19,
   "id": "fb60f713-fd0a-412a-a78a-a186e8a3607c",
   "metadata": {},
   "outputs": [
    {
     "data": {
      "text/plain": [
       "[]"
      ]
     },
     "execution_count": 19,
     "metadata": {},
     "output_type": "execute_result"
    }
   ],
   "source": [
    "ans"
   ]
  },
  {
   "cell_type": "code",
   "execution_count": null,
   "id": "fceddd98-0331-4333-b80b-fe2a9bc520c6",
   "metadata": {},
   "outputs": [],
   "source": []
  }
 ],
 "metadata": {
  "kernelspec": {
   "display_name": "Python 3",
   "language": "python",
   "name": "python3"
  },
  "language_info": {
   "codemirror_mode": {
    "name": "ipython",
    "version": 3
   },
   "file_extension": ".py",
   "mimetype": "text/x-python",
   "name": "python",
   "nbconvert_exporter": "python",
   "pygments_lexer": "ipython3",
   "version": "3.6.13"
  }
 },
 "nbformat": 4,
 "nbformat_minor": 5
}
