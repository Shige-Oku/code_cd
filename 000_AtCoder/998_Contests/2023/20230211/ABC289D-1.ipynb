{
 "cells": [
  {
   "cell_type": "code",
   "execution_count": 1,
   "id": "9f87a54e-aa5a-418a-ae17-97b75f2b031a",
   "metadata": {},
   "outputs": [],
   "source": [
    "import sys\n",
    "import numpy as np\n",
    "import math\n",
    "import collections\n",
    "import copy\n",
    "import decimal\n",
    "import itertools\n",
    "import re\n",
    "import bisect\n",
    "import scipy\n",
    "import heapq\n",
    "from collections import deque \n",
    "from functools import reduce\n",
    "from itertools import product\n",
    "from itertools import combinations\n",
    "from functools import lru_cache\n",
    "from scipy.special import comb\n",
    "from numba import njit\n",
    "from bisect import bisect_right\n",
    "from bisect import bisect_left"
   ]
  },
  {
   "cell_type": "code",
   "execution_count": 9,
   "id": "a32eb746-ca00-490f-8831-431d061fb412",
   "metadata": {},
   "outputs": [
    {
     "name": "stdin",
     "output_type": "stream",
     "text": [
      " 3\n"
     ]
    }
   ],
   "source": [
    "N = int(input())"
   ]
  },
  {
   "cell_type": "code",
   "execution_count": 10,
   "id": "8789ada0-820b-4eb8-949e-f7635fe292a1",
   "metadata": {},
   "outputs": [
    {
     "name": "stdin",
     "output_type": "stream",
     "text": [
      " 3 4 5\n"
     ]
    }
   ],
   "source": [
    "An = list(map(int, input().split()))"
   ]
  },
  {
   "cell_type": "code",
   "execution_count": 3,
   "id": "0aaa2d49-9429-49e8-98b8-b3a066eb0f2a",
   "metadata": {},
   "outputs": [
    {
     "name": "stdin",
     "output_type": "stream",
     "text": [
      " 4\n"
     ]
    }
   ],
   "source": [
    "M = int(input())"
   ]
  },
  {
   "cell_type": "code",
   "execution_count": 11,
   "id": "e895e236-9d3b-4ee5-9c4a-70b769ed9f15",
   "metadata": {},
   "outputs": [
    {
     "name": "stdin",
     "output_type": "stream",
     "text": [
      " 4 5 6 8\n"
     ]
    }
   ],
   "source": [
    "Bm = set(map(int, input().split()))"
   ]
  },
  {
   "cell_type": "code",
   "execution_count": 12,
   "id": "7261114d-b0f6-4ac1-b2ee-4fff4dc105c8",
   "metadata": {},
   "outputs": [
    {
     "name": "stdin",
     "output_type": "stream",
     "text": [
      " 15\n"
     ]
    }
   ],
   "source": [
    "X = int(input())"
   ]
  },
  {
   "cell_type": "code",
   "execution_count": 59,
   "id": "574f6b75-19f2-4d7f-84ae-963737685c99",
   "metadata": {},
   "outputs": [],
   "source": [
    "import heapq\n",
    "def solve():\n",
    "    q = []\n",
    "    v = set()\n",
    "    for A in An:\n",
    "        if A in Bm:\n",
    "            continue\n",
    "        q.append(A)\n",
    "        v.add(A)\n",
    "    while q:\n",
    "        num = heapq.heappop(q)\n",
    "        if num == X:\n",
    "            return True\n",
    "        elif num > X:\n",
    "            return False\n",
    "        for A in An:\n",
    "            if num + A in v:\n",
    "                continue\n",
    "            if num + A in Bm:\n",
    "                continue\n",
    "            heapq.heappush(q, num+A)\n",
    "            v.add(num+A)\n",
    "    return False"
   ]
  },
  {
   "cell_type": "code",
   "execution_count": 60,
   "id": "6d9aa026-5999-4cbd-a507-05a1eb9c2d36",
   "metadata": {},
   "outputs": [
    {
     "name": "stdout",
     "output_type": "stream",
     "text": [
      "No\n"
     ]
    }
   ],
   "source": [
    "print('Yes' if solve() else 'No')"
   ]
  },
  {
   "cell_type": "code",
   "execution_count": 13,
   "id": "b63b7ec6-f0fc-44ec-9bad-e68196a221cd",
   "metadata": {},
   "outputs": [],
   "source": [
    "dp = [False] * (X+1)\n",
    "dp[0] = True\n",
    "for i in range(X+1):\n",
    "    if not dp[i]:\n",
    "        continue\n",
    "    for A in An:\n",
    "        if i + A in Bm:\n",
    "            continue\n",
    "        if i + A > X:\n",
    "            continue\n",
    "        dp[i+A] = True"
   ]
  },
  {
   "cell_type": "code",
   "execution_count": 14,
   "id": "035c7862-3b97-4bfa-aecb-3cd4795fcaf1",
   "metadata": {},
   "outputs": [
    {
     "name": "stdout",
     "output_type": "stream",
     "text": [
      "Yes\n"
     ]
    }
   ],
   "source": [
    "print('Yes' if dp[X] else 'No')"
   ]
  },
  {
   "cell_type": "code",
   "execution_count": 8,
   "id": "fab0f2fc-8066-4a8b-9859-85fb55342d95",
   "metadata": {},
   "outputs": [
    {
     "data": {
      "text/plain": [
       "[True, False, False, False, False, False, False, False, False]"
      ]
     },
     "execution_count": 8,
     "metadata": {},
     "output_type": "execute_result"
    }
   ],
   "source": [
    "dp"
   ]
  },
  {
   "cell_type": "code",
   "execution_count": null,
   "id": "e05082e2-428c-4d0c-b762-d8c029e68ae7",
   "metadata": {},
   "outputs": [],
   "source": [
    "# WA"
   ]
  },
  {
   "cell_type": "code",
   "execution_count": 56,
   "id": "f834b695-7aa7-4374-aade-93663cfdd57f",
   "metadata": {},
   "outputs": [],
   "source": [
    "def solve():\n",
    "    cnt = X // An[0]\n",
    "    dp = [[False] * (X+1) for _ in range(cnt+1)]\n",
    "    dp[0][0] = True\n",
    "    for i in range(1, cnt+1):\n",
    "        for j in range(X+1):\n",
    "            if not dp[i-1][j]:\n",
    "                continue\n",
    "            dp[i][j] = True\n",
    "            for A in An:\n",
    "                if j + A in Bm:\n",
    "                    continue\n",
    "                if j + A <= X:\n",
    "                    dp[i][j+A] = True\n",
    "        if dp[i][X]:\n",
    "            return True\n",
    "    return dp[-1][X]"
   ]
  },
  {
   "cell_type": "code",
   "execution_count": null,
   "id": "b766848a-2e8e-40c6-96a4-57597eddd47d",
   "metadata": {},
   "outputs": [],
   "source": []
  },
  {
   "cell_type": "code",
   "execution_count": 22,
   "id": "7c048818-d7f0-422a-9acb-7550f844087f",
   "metadata": {},
   "outputs": [
    {
     "name": "stdout",
     "output_type": "stream",
     "text": [
      "No\n"
     ]
    }
   ],
   "source": [
    "d = 0\n",
    "i = 0\n",
    "while d <= X:\n",
    "    d += An[i]\n",
    "    if d == X:\n",
    "        print('Yes')\n",
    "        break\n",
    "    if d in Bm:\n",
    "        print('No')\n",
    "        break\n",
    "    i += 1\n",
    "    i %= N\n",
    "else:\n",
    "    print('No')"
   ]
  },
  {
   "cell_type": "code",
   "execution_count": 35,
   "id": "13b5f953-6b2c-46ab-a987-07099b88239a",
   "metadata": {},
   "outputs": [
    {
     "data": {
      "text/plain": [
       "(10, 0, 8)"
      ]
     },
     "execution_count": 35,
     "metadata": {},
     "output_type": "execute_result"
    }
   ],
   "source": [
    "i, j, j + A"
   ]
  },
  {
   "cell_type": "code",
   "execution_count": 31,
   "id": "36146c7d-7cbb-4a1d-b331-df3df88dd5b2",
   "metadata": {},
   "outputs": [
    {
     "ename": "IndexError",
     "evalue": "list index out of range",
     "output_type": "error",
     "traceback": [
      "\u001b[1;31m---------------------------------------------------------------------------\u001b[0m",
      "\u001b[1;31mIndexError\u001b[0m                                Traceback (most recent call last)",
      "\u001b[1;32m<ipython-input-31-61fd0e87800e>\u001b[0m in \u001b[0;36m<module>\u001b[1;34m\u001b[0m\n\u001b[1;32m----> 1\u001b[1;33m \u001b[0mdp\u001b[0m\u001b[1;33m[\u001b[0m\u001b[1;36m1\u001b[0m\u001b[1;33m]\u001b[0m\u001b[1;33m[\u001b[0m\u001b[1;36m5\u001b[0m\u001b[1;33m]\u001b[0m\u001b[1;33m\u001b[0m\u001b[1;33m\u001b[0m\u001b[0m\n\u001b[0m",
      "\u001b[1;31mIndexError\u001b[0m: list index out of range"
     ]
    }
   ],
   "source": [
    "dp[1][5]"
   ]
  },
  {
   "cell_type": "code",
   "execution_count": 32,
   "id": "8fc9c24c-9c52-4aad-af5f-04ba47ad4b0c",
   "metadata": {},
   "outputs": [
    {
     "data": {
      "text/plain": [
       "10"
      ]
     },
     "execution_count": 32,
     "metadata": {},
     "output_type": "execute_result"
    }
   ],
   "source": [
    "cnt"
   ]
  },
  {
   "cell_type": "code",
   "execution_count": null,
   "id": "152d069c-c634-4b57-9a27-1d1fe66999ef",
   "metadata": {},
   "outputs": [],
   "source": []
  }
 ],
 "metadata": {
  "kernelspec": {
   "display_name": "Python 3",
   "language": "python",
   "name": "python3"
  },
  "language_info": {
   "codemirror_mode": {
    "name": "ipython",
    "version": 3
   },
   "file_extension": ".py",
   "mimetype": "text/x-python",
   "name": "python",
   "nbconvert_exporter": "python",
   "pygments_lexer": "ipython3",
   "version": "3.6.13"
  }
 },
 "nbformat": 4,
 "nbformat_minor": 5
}
