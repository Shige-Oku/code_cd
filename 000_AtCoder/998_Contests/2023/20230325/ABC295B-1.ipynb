{
 "cells": [
  {
   "cell_type": "code",
   "execution_count": 1,
   "id": "9af4809a-7f5f-4dfe-bf64-968cd2816e4d",
   "metadata": {},
   "outputs": [],
   "source": [
    "import sys\n",
    "import numpy as np\n",
    "import math\n",
    "import collections\n",
    "import copy\n",
    "import decimal\n",
    "import itertools\n",
    "import re\n",
    "import bisect\n",
    "import scipy\n",
    "import heapq\n",
    "from collections import deque \n",
    "from functools import reduce\n",
    "from itertools import product\n",
    "from itertools import combinations\n",
    "from functools import lru_cache\n",
    "from scipy.special import comb\n",
    "from numba import njit\n",
    "from bisect import bisect_right\n",
    "from bisect import bisect_left"
   ]
  },
  {
   "cell_type": "code",
   "execution_count": 51,
   "id": "18a4531a-b64c-48bf-a630-78177b685d89",
   "metadata": {},
   "outputs": [
    {
     "name": "stdin",
     "output_type": "stream",
     "text": [
      " 4 6\n"
     ]
    }
   ],
   "source": [
    "R, C = map(int, input().split())"
   ]
  },
  {
   "cell_type": "code",
   "execution_count": 52,
   "id": "5f4e3b9c-071d-4ead-8555-bdbb08f58a06",
   "metadata": {},
   "outputs": [
    {
     "name": "stdin",
     "output_type": "stream",
     "text": [
      " #.#3#.\n",
      " ###.#.\n",
      " ##.###\n",
      " #1..#.\n"
     ]
    }
   ],
   "source": [
    "Brc = [input() for _ in range(R)]"
   ]
  },
  {
   "cell_type": "code",
   "execution_count": 61,
   "id": "41401aa6-028c-4457-9b0e-4991fd88943b",
   "metadata": {},
   "outputs": [],
   "source": [
    "def solve(x, y, n):\n",
    "#     print(x, y, n)\n",
    "    for i in range(max(0, x-n), min(R, x+n+1)):\n",
    "        for j in range(max(0, y-n), min(C, y+n+1)):\n",
    "            if abs(i-x) +abs(j-y) > n:\n",
    "                continue\n",
    "#             print(i, j)\n",
    "            ans[i][j] = '.'\n",
    "    return"
   ]
  },
  {
   "cell_type": "code",
   "execution_count": 62,
   "id": "dd249f8a-045d-4b11-9926-2fdb47519e74",
   "metadata": {},
   "outputs": [],
   "source": [
    "ans = [list(x) for x in Brc]\n",
    "for i in range(R):\n",
    "    for j in range(C):\n",
    "        if Brc[i][j].isdigit():\n",
    "            solve(i, j, int(Brc[i][j]))\n",
    "    "
   ]
  },
  {
   "cell_type": "code",
   "execution_count": 63,
   "id": "81d39f15-8cb2-493f-9869-24e4e8be3bbe",
   "metadata": {},
   "outputs": [
    {
     "name": "stdout",
     "output_type": "stream",
     "text": [
      "......\n",
      "#.....\n",
      "#....#\n",
      "....#.\n"
     ]
    }
   ],
   "source": [
    "for a in ans:\n",
    "    print(*a, sep='')"
   ]
  },
  {
   "cell_type": "code",
   "execution_count": 23,
   "id": "6af16c8a-5375-4f39-94a0-226b8dc4a81b",
   "metadata": {},
   "outputs": [
    {
     "data": {
      "text/plain": [
       "['.', '1', '.', '#']"
      ]
     },
     "execution_count": 23,
     "metadata": {},
     "output_type": "execute_result"
    }
   ],
   "source": [
    "list(Brc[0])"
   ]
  },
  {
   "cell_type": "code",
   "execution_count": 24,
   "id": "53fa2dc2-2354-49e0-83f0-4b5fbe2431bf",
   "metadata": {},
   "outputs": [
    {
     "data": {
      "text/plain": [
       "[['.', '.', '.', '#'],\n",
       " ['#', '.', '.', '.'],\n",
       " ['.', '.', '.', '.'],\n",
       " ['#', '.', '.', '.']]"
      ]
     },
     "execution_count": 24,
     "metadata": {},
     "output_type": "execute_result"
    }
   ],
   "source": [
    "ans"
   ]
  },
  {
   "cell_type": "code",
   "execution_count": 9,
   "id": "a6e705b2-7520-4e82-86d1-3d1a2d22d23b",
   "metadata": {},
   "outputs": [
    {
     "data": {
      "text/plain": [
       "False"
      ]
     },
     "execution_count": 9,
     "metadata": {},
     "output_type": "execute_result"
    }
   ],
   "source": [
    "ans[0][2].isdigit()"
   ]
  },
  {
   "cell_type": "code",
   "execution_count": 12,
   "id": "f23b9422-ba37-4303-88ca-1a65429a1f30",
   "metadata": {},
   "outputs": [
    {
     "data": {
      "text/plain": [
       "True"
      ]
     },
     "execution_count": 12,
     "metadata": {},
     "output_type": "execute_result"
    }
   ],
   "source": [
    "Brc[0][1].isdigit()"
   ]
  },
  {
   "cell_type": "code",
   "execution_count": 36,
   "id": "612e4ecf-2680-422f-8cdc-02c328633e80",
   "metadata": {},
   "outputs": [
    {
     "data": {
      "text/plain": [
       "['11#', '###']"
      ]
     },
     "execution_count": 36,
     "metadata": {},
     "output_type": "execute_result"
    }
   ],
   "source": [
    "Brc"
   ]
  },
  {
   "cell_type": "code",
   "execution_count": null,
   "id": "7652575f-bb61-4807-a024-7b9d4d20dd8d",
   "metadata": {},
   "outputs": [],
   "source": []
  }
 ],
 "metadata": {
  "kernelspec": {
   "display_name": "Python 3",
   "language": "python",
   "name": "python3"
  },
  "language_info": {
   "codemirror_mode": {
    "name": "ipython",
    "version": 3
   },
   "file_extension": ".py",
   "mimetype": "text/x-python",
   "name": "python",
   "nbconvert_exporter": "python",
   "pygments_lexer": "ipython3",
   "version": "3.6.13"
  }
 },
 "nbformat": 4,
 "nbformat_minor": 5
}
