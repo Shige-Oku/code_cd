{
 "cells": [
  {
   "cell_type": "code",
   "execution_count": 1,
   "id": "4dad39d1-395e-4b8e-905f-bb2da893e7af",
   "metadata": {},
   "outputs": [],
   "source": [
    "import sys\n",
    "import numpy as np\n",
    "import math\n",
    "import collections\n",
    "import copy\n",
    "import decimal\n",
    "import itertools\n",
    "import re\n",
    "import bisect\n",
    "import scipy\n",
    "import heapq\n",
    "from collections import deque \n",
    "from functools import reduce\n",
    "from itertools import product\n",
    "from itertools import combinations\n",
    "from functools import lru_cache\n",
    "from scipy.special import comb\n",
    "from numba import njit\n",
    "from bisect import bisect_right\n",
    "from bisect import bisect_left"
   ]
  },
  {
   "cell_type": "code",
   "execution_count": 37,
   "id": "540de34f-ec59-4b73-8363-fb569e1b6752",
   "metadata": {},
   "outputs": [
    {
     "name": "stdin",
     "output_type": "stream",
     "text": [
      " 3141592653589793238462643383279502884197169399375105820974944\n"
     ]
    }
   ],
   "source": [
    "S = input()"
   ]
  },
  {
   "cell_type": "code",
   "execution_count": 38,
   "id": "09f959e4-e7ad-41fe-944e-d326a2629f32",
   "metadata": {},
   "outputs": [],
   "source": [
    "bit_table = [0] * (2**10)\n",
    "bit_table[0] = 1\n",
    "b = 0\n",
    "for s in S:\n",
    "    s = int(s)\n",
    "    b ^= 1<<s\n",
    "    bit_table[b] += 1"
   ]
  },
  {
   "cell_type": "code",
   "execution_count": 39,
   "id": "d75b34ac-5ae7-4707-b6c0-caa4c33f5929",
   "metadata": {},
   "outputs": [
    {
     "name": "stdout",
     "output_type": "stream",
     "text": [
      "9\n"
     ]
    }
   ],
   "source": [
    "ans = 0\n",
    "for b in bit_table:\n",
    "    ans += b * (b-1) // 2\n",
    "print(ans)"
   ]
  },
  {
   "cell_type": "code",
   "execution_count": 21,
   "id": "248f33d9-40c8-4218-b074-a373f34e4b32",
   "metadata": {},
   "outputs": [],
   "source": [
    "cnt = [0] * (len(S)+1)\n",
    "for j in range(len(S)):\n",
    "    for k in range(j+1):\n",
    "        s = int(S[k])\n",
    "        c = 1<<s\n",
    "        cnt[j] ^= c\n"
   ]
  },
  {
   "cell_type": "code",
   "execution_count": 22,
   "id": "fcab909d-0108-46af-8e6e-bfa944834846",
   "metadata": {},
   "outputs": [
    {
     "name": "stdout",
     "output_type": "stream",
     "text": [
      "9\n"
     ]
    }
   ],
   "source": [
    "from collections import Counter\n",
    "cnt_c = Counter(cnt)\n",
    "ans = 0\n",
    "for k, v in cnt_c.items():\n",
    "    ans += v * (v-1) // 2\n",
    "print(ans)"
   ]
  },
  {
   "cell_type": "code",
   "execution_count": 2,
   "id": "d62308e4-d4c8-4fca-9bdf-bbd520db4818",
   "metadata": {},
   "outputs": [],
   "source": [
    "cnt = [[0] * 10 for _ in range(len(S))]\n",
    "for j in range(len(S)):\n",
    "    for k in range(j+1):\n",
    "        s = int(S[k])\n",
    "        c = 1<<s\n",
    "        cnt[j][s] += 1\n",
    "        cnt[j][s] %= 2\n",
    "cnt.append([0] * 10)     "
   ]
  },
  {
   "cell_type": "code",
   "execution_count": 3,
   "id": "f4c8f682-1d73-4fad-9025-b8e45626150b",
   "metadata": {},
   "outputs": [],
   "source": [
    "cnt_t = []\n",
    "for c in cnt:\n",
    "    cnt_t.append(tuple(c))"
   ]
  },
  {
   "cell_type": "code",
   "execution_count": 4,
   "id": "ef8e50e1-fb2c-4cee-8933-27b6499e66d1",
   "metadata": {},
   "outputs": [
    {
     "name": "stdout",
     "output_type": "stream",
     "text": [
      "185\n"
     ]
    }
   ],
   "source": [
    "from collections import Counter\n",
    "cnt_c = Counter(cnt_t)\n",
    "ans = 0\n",
    "for k, v in cnt_c.items():\n",
    "    ans += v * (v-1) // 2\n",
    "print(ans)"
   ]
  },
  {
   "cell_type": "code",
   "execution_count": 163,
   "id": "745f1a46-4f36-4361-b122-68c4812a2ffb",
   "metadata": {},
   "outputs": [
    {
     "data": {
      "text/plain": [
       "Counter({(0, 0, 0, 0, 0, 0, 0, 0, 0, 0): 3,\n",
       "         (0, 0, 1, 0, 0, 0, 0, 0, 0, 0): 2,\n",
       "         (1, 0, 1, 0, 0, 0, 0, 0, 0, 0): 1,\n",
       "         (1, 0, 0, 0, 0, 0, 0, 0, 0, 0): 1,\n",
       "         (1, 0, 0, 1, 0, 0, 0, 0, 0, 0): 1,\n",
       "         (0, 0, 0, 1, 0, 0, 0, 0, 0, 0): 1})"
      ]
     },
     "execution_count": 163,
     "metadata": {},
     "output_type": "execute_result"
    }
   ],
   "source": [
    "cnt_c"
   ]
  },
  {
   "cell_type": "code",
   "execution_count": 83,
   "id": "5e1183ec-ee26-4b62-97e2-40182fd2dd62",
   "metadata": {},
   "outputs": [
    {
     "data": {
      "text/plain": [
       "(7, 7, 2)"
      ]
     },
     "execution_count": 83,
     "metadata": {},
     "output_type": "execute_result"
    }
   ],
   "source": [
    "j, k, s"
   ]
  },
  {
   "cell_type": "code",
   "execution_count": 11,
   "id": "14917565-e741-452b-a0ee-a73c8eac0462",
   "metadata": {},
   "outputs": [
    {
     "data": {
      "text/plain": [
       "(1, 0, 1, 1, 0)"
      ]
     },
     "execution_count": 11,
     "metadata": {},
     "output_type": "execute_result"
    }
   ],
   "source": [
    "1<<0, 1^1, 1^0, 0^1, 0^0"
   ]
  },
  {
   "cell_type": "code",
   "execution_count": 145,
   "id": "c013692f-d036-4a9f-ac64-cee6c2d7a155",
   "metadata": {},
   "outputs": [],
   "source": [
    "from itertools import product\n",
    "c = [0] * (2**10)\n",
    "for i, p in enumerate(product([0, 1], repeat=10)):\n",
    "    for j in range(len(S)+1):\n",
    "#         print(p, cnt[j])\n",
    "        if list(p) == cnt[j]:\n",
    "            c[i] += 1\n"
   ]
  },
  {
   "cell_type": "code",
   "execution_count": 150,
   "id": "e6aa44ed-958c-4fe0-8365-d33c5762ec55",
   "metadata": {},
   "outputs": [
    {
     "name": "stdout",
     "output_type": "stream",
     "text": [
      "4\n"
     ]
    }
   ],
   "source": [
    "ans = 0\n",
    "for cc in c:\n",
    "    ans += cc * (cc-1) // 2\n",
    "print(ans)"
   ]
  },
  {
   "cell_type": "code",
   "execution_count": 141,
   "id": "ed4b99f0-f031-42d3-b135-2c84306a28f5",
   "metadata": {},
   "outputs": [
    {
     "data": {
      "text/plain": [
       "(7, 6, 2, 1023)"
      ]
     },
     "execution_count": 141,
     "metadata": {},
     "output_type": "execute_result"
    }
   ],
   "source": [
    "j, k, s, i"
   ]
  },
  {
   "cell_type": "code",
   "execution_count": 144,
   "id": "29637016-a558-45fc-8803-efeddcc76411",
   "metadata": {},
   "outputs": [
    {
     "data": {
      "text/plain": [
       "[[0, 0, 0, 0, 0, 0, 0, 0, 0, 0],\n",
       " [0, 0, 1, 0, 0, 0, 0, 0, 0, 0],\n",
       " [1, 0, 1, 0, 0, 0, 0, 0, 0, 0],\n",
       " [1, 0, 0, 0, 0, 0, 0, 0, 0, 0],\n",
       " [1, 0, 0, 1, 0, 0, 0, 0, 0, 0],\n",
       " [0, 0, 0, 1, 0, 0, 0, 0, 0, 0],\n",
       " [0, 0, 0, 0, 0, 0, 0, 0, 0, 0],\n",
       " [0, 0, 1, 0, 0, 0, 0, 0, 0, 0],\n",
       " [0, 0, 0, 0, 0, 0, 0, 0, 0, 0]]"
      ]
     },
     "execution_count": 144,
     "metadata": {},
     "output_type": "execute_result"
    }
   ],
   "source": [
    "cnt"
   ]
  },
  {
   "cell_type": "code",
   "execution_count": 155,
   "id": "e4c455e7-ee0a-4765-8b41-f3da43082bd4",
   "metadata": {},
   "outputs": [
    {
     "data": {
      "text/plain": [
       "([0, 0, 0, 0, 0, 0, 0, 0, 0, 0],\n",
       " [0, 0, 1, 0, 0, 0, 0, 0, 0, 0],\n",
       " [1, 0, 1, 0, 0, 0, 0, 0, 0, 0],\n",
       " [1, 0, 0, 0, 0, 0, 0, 0, 0, 0],\n",
       " [1, 0, 0, 1, 0, 0, 0, 0, 0, 0],\n",
       " [0, 0, 0, 1, 0, 0, 0, 0, 0, 0],\n",
       " [0, 0, 0, 0, 0, 0, 0, 0, 0, 0],\n",
       " [0, 0, 1, 0, 0, 0, 0, 0, 0, 0],\n",
       " [0, 0, 0, 0, 0, 0, 0, 0, 0, 0])"
      ]
     },
     "execution_count": 155,
     "metadata": {},
     "output_type": "execute_result"
    }
   ],
   "source": [
    "tuple(cnt)"
   ]
  },
  {
   "cell_type": "code",
   "execution_count": 158,
   "id": "6042ffc6-755b-4c30-b541-23ab126dbd16",
   "metadata": {},
   "outputs": [
    {
     "data": {
      "text/plain": [
       "Counter({(1, 0, 0, 1): 2})"
      ]
     },
     "execution_count": 158,
     "metadata": {},
     "output_type": "execute_result"
    }
   ],
   "source": [
    "t = [(1, 0, 0, 1), (1, 0, 0, 1)]\n",
    "Counter(t)"
   ]
  },
  {
   "cell_type": "code",
   "execution_count": 148,
   "id": "f0788922-2cfb-486a-9e6f-579a05eff98a",
   "metadata": {},
   "outputs": [],
   "source": [
    "# c"
   ]
  },
  {
   "cell_type": "code",
   "execution_count": null,
   "id": "0ef18359-6a30-46fb-a494-dbc0b4e570dc",
   "metadata": {},
   "outputs": [],
   "source": [
    "# TLE"
   ]
  },
  {
   "cell_type": "code",
   "execution_count": 47,
   "id": "95484445-4482-461e-b693-68a8d9f68f51",
   "metadata": {},
   "outputs": [],
   "source": [
    "cnt = []\n",
    "for _ in range(len(S)):\n",
    "    c = [[0] * 10 for _ in range(len(S))]\n",
    "    cnt.append(c)\n",
    "for i in range(len(S)):\n",
    "# for i in range(1):\n",
    "    for j in range(i, len(S)):\n",
    "        for k in range(i, j+1):\n",
    "            s = int(S[k])\n",
    "            cnt[i][j][s] += 1\n",
    "#             print(i, j, k, s)\n",
    "        "
   ]
  },
  {
   "cell_type": "code",
   "execution_count": 59,
   "id": "b3327a68-17d8-45fc-834b-a5b20a254020",
   "metadata": {},
   "outputs": [],
   "source": [
    "ans = 0\n",
    "for i in range(len(S)):\n",
    "    for j in range(len(S)):\n",
    "        c = 0\n",
    "        flg = True\n",
    "#         print(i, j)\n",
    "#         print(cnt[i][j])\n",
    "        for k in range(10):\n",
    "            n = cnt[i][j][k]\n",
    "            if n % 2 != 0:\n",
    "                flg = False\n",
    "                break\n",
    "            if n > 0:\n",
    "                c += 1\n",
    "        if flg and c > 0:\n",
    "            ans += 1\n",
    "#             print(i, j, c)\n"
   ]
  },
  {
   "cell_type": "code",
   "execution_count": 55,
   "id": "9d54765a-7e18-4c77-834f-b71ff2dca1ab",
   "metadata": {},
   "outputs": [
    {
     "data": {
      "text/plain": [
       "[0, 0, 1, 0, 0, 0, 0, 0, 0, 0]"
      ]
     },
     "execution_count": 55,
     "metadata": {},
     "output_type": "execute_result"
    }
   ],
   "source": [
    "cnt[0][0]"
   ]
  },
  {
   "cell_type": "code",
   "execution_count": 49,
   "id": "25932e49-db2d-407e-beb9-cefaaaeab57e",
   "metadata": {},
   "outputs": [
    {
     "data": {
      "text/plain": [
       "[[[0, 0, 1, 0, 0, 0, 0, 0, 0, 0],\n",
       "  [1, 0, 1, 0, 0, 0, 0, 0, 0, 0],\n",
       "  [1, 0, 2, 0, 0, 0, 0, 0, 0, 0],\n",
       "  [1, 0, 2, 1, 0, 0, 0, 0, 0, 0],\n",
       "  [2, 0, 2, 1, 0, 0, 0, 0, 0, 0],\n",
       "  [2, 0, 2, 2, 0, 0, 0, 0, 0, 0],\n",
       "  [2, 0, 3, 2, 0, 0, 0, 0, 0, 0],\n",
       "  [2, 0, 4, 2, 0, 0, 0, 0, 0, 0]],\n",
       " [[0, 0, 0, 0, 0, 0, 0, 0, 0, 0],\n",
       "  [1, 0, 0, 0, 0, 0, 0, 0, 0, 0],\n",
       "  [1, 0, 1, 0, 0, 0, 0, 0, 0, 0],\n",
       "  [1, 0, 1, 1, 0, 0, 0, 0, 0, 0],\n",
       "  [2, 0, 1, 1, 0, 0, 0, 0, 0, 0],\n",
       "  [2, 0, 1, 2, 0, 0, 0, 0, 0, 0],\n",
       "  [2, 0, 2, 2, 0, 0, 0, 0, 0, 0],\n",
       "  [2, 0, 3, 2, 0, 0, 0, 0, 0, 0]],\n",
       " [[0, 0, 0, 0, 0, 0, 0, 0, 0, 0],\n",
       "  [0, 0, 0, 0, 0, 0, 0, 0, 0, 0],\n",
       "  [0, 0, 1, 0, 0, 0, 0, 0, 0, 0],\n",
       "  [0, 0, 1, 1, 0, 0, 0, 0, 0, 0],\n",
       "  [1, 0, 1, 1, 0, 0, 0, 0, 0, 0],\n",
       "  [1, 0, 1, 2, 0, 0, 0, 0, 0, 0],\n",
       "  [1, 0, 2, 2, 0, 0, 0, 0, 0, 0],\n",
       "  [1, 0, 3, 2, 0, 0, 0, 0, 0, 0]],\n",
       " [[0, 0, 0, 0, 0, 0, 0, 0, 0, 0],\n",
       "  [0, 0, 0, 0, 0, 0, 0, 0, 0, 0],\n",
       "  [0, 0, 0, 0, 0, 0, 0, 0, 0, 0],\n",
       "  [0, 0, 0, 1, 0, 0, 0, 0, 0, 0],\n",
       "  [1, 0, 0, 1, 0, 0, 0, 0, 0, 0],\n",
       "  [1, 0, 0, 2, 0, 0, 0, 0, 0, 0],\n",
       "  [1, 0, 1, 2, 0, 0, 0, 0, 0, 0],\n",
       "  [1, 0, 2, 2, 0, 0, 0, 0, 0, 0]],\n",
       " [[0, 0, 0, 0, 0, 0, 0, 0, 0, 0],\n",
       "  [0, 0, 0, 0, 0, 0, 0, 0, 0, 0],\n",
       "  [0, 0, 0, 0, 0, 0, 0, 0, 0, 0],\n",
       "  [0, 0, 0, 0, 0, 0, 0, 0, 0, 0],\n",
       "  [1, 0, 0, 0, 0, 0, 0, 0, 0, 0],\n",
       "  [1, 0, 0, 1, 0, 0, 0, 0, 0, 0],\n",
       "  [1, 0, 1, 1, 0, 0, 0, 0, 0, 0],\n",
       "  [1, 0, 2, 1, 0, 0, 0, 0, 0, 0]],\n",
       " [[0, 0, 0, 0, 0, 0, 0, 0, 0, 0],\n",
       "  [0, 0, 0, 0, 0, 0, 0, 0, 0, 0],\n",
       "  [0, 0, 0, 0, 0, 0, 0, 0, 0, 0],\n",
       "  [0, 0, 0, 0, 0, 0, 0, 0, 0, 0],\n",
       "  [0, 0, 0, 0, 0, 0, 0, 0, 0, 0],\n",
       "  [0, 0, 0, 1, 0, 0, 0, 0, 0, 0],\n",
       "  [0, 0, 1, 1, 0, 0, 0, 0, 0, 0],\n",
       "  [0, 0, 2, 1, 0, 0, 0, 0, 0, 0]],\n",
       " [[0, 0, 0, 0, 0, 0, 0, 0, 0, 0],\n",
       "  [0, 0, 0, 0, 0, 0, 0, 0, 0, 0],\n",
       "  [0, 0, 0, 0, 0, 0, 0, 0, 0, 0],\n",
       "  [0, 0, 0, 0, 0, 0, 0, 0, 0, 0],\n",
       "  [0, 0, 0, 0, 0, 0, 0, 0, 0, 0],\n",
       "  [0, 0, 0, 0, 0, 0, 0, 0, 0, 0],\n",
       "  [0, 0, 1, 0, 0, 0, 0, 0, 0, 0],\n",
       "  [0, 0, 2, 0, 0, 0, 0, 0, 0, 0]],\n",
       " [[0, 0, 0, 0, 0, 0, 0, 0, 0, 0],\n",
       "  [0, 0, 0, 0, 0, 0, 0, 0, 0, 0],\n",
       "  [0, 0, 0, 0, 0, 0, 0, 0, 0, 0],\n",
       "  [0, 0, 0, 0, 0, 0, 0, 0, 0, 0],\n",
       "  [0, 0, 0, 0, 0, 0, 0, 0, 0, 0],\n",
       "  [0, 0, 0, 0, 0, 0, 0, 0, 0, 0],\n",
       "  [0, 0, 0, 0, 0, 0, 0, 0, 0, 0],\n",
       "  [0, 0, 1, 0, 0, 0, 0, 0, 0, 0]]]"
      ]
     },
     "execution_count": 49,
     "metadata": {},
     "output_type": "execute_result"
    }
   ],
   "source": [
    "cnt"
   ]
  },
  {
   "cell_type": "code",
   "execution_count": null,
   "id": "7c610aa5-c7c5-4eb5-974d-8c1c5f3164e0",
   "metadata": {},
   "outputs": [],
   "source": []
  }
 ],
 "metadata": {
  "kernelspec": {
   "display_name": "Python 3",
   "language": "python",
   "name": "python3"
  },
  "language_info": {
   "codemirror_mode": {
    "name": "ipython",
    "version": 3
   },
   "file_extension": ".py",
   "mimetype": "text/x-python",
   "name": "python",
   "nbconvert_exporter": "python",
   "pygments_lexer": "ipython3",
   "version": "3.6.13"
  }
 },
 "nbformat": 4,
 "nbformat_minor": 5
}
