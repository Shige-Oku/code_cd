{
 "cells": [
  {
   "cell_type": "code",
   "execution_count": 1,
   "id": "5f57a57c-d1e9-45d8-a475-55db69ceeee9",
   "metadata": {
    "tags": []
   },
   "outputs": [],
   "source": [
    "import sys\n",
    "import numpy as np\n",
    "import math\n",
    "import collections\n",
    "import copy\n",
    "import decimal\n",
    "import itertools\n",
    "import re\n",
    "import bisect\n",
    "import scipy\n",
    "import heapq\n",
    "from collections import deque \n",
    "from functools import reduce\n",
    "from itertools import product\n",
    "from itertools import combinations\n",
    "from functools import lru_cache\n",
    "from scipy.special import comb\n",
    "from numba import njit\n",
    "from bisect import bisect_right\n",
    "from bisect import bisect_left"
   ]
  },
  {
   "cell_type": "code",
   "execution_count": 2,
   "id": "da985eb1-c876-4b1c-872c-5ef87f0ef371",
   "metadata": {
    "tags": []
   },
   "outputs": [
    {
     "name": "stdin",
     "output_type": "stream",
     "text": [
      " 4\n"
     ]
    }
   ],
   "source": [
    "N = int(input())"
   ]
  },
  {
   "cell_type": "code",
   "execution_count": 3,
   "id": "2a4c8566-6fea-4d36-8b6c-82cb148d6046",
   "metadata": {
    "tags": []
   },
   "outputs": [
    {
     "name": "stdin",
     "output_type": "stream",
     "text": [
      " 3 \n",
      " 7 19 20\n",
      " 4\n",
      " 4 19 24 0\n",
      " 2\n",
      " 26 10\n",
      " 3\n",
      " 19 31 24\n"
     ]
    }
   ],
   "source": [
    "Cn = []\n",
    "ACn = []\n",
    "for _ in range(N):\n",
    "    Cn.append(int(input()))\n",
    "    ACn.append(list(map(int, input().split())))"
   ]
  },
  {
   "cell_type": "code",
   "execution_count": 4,
   "id": "e9f43613-f754-43c8-99e5-cd0a0a9ae733",
   "metadata": {
    "tags": []
   },
   "outputs": [
    {
     "name": "stdin",
     "output_type": "stream",
     "text": [
      " 19\n"
     ]
    }
   ],
   "source": [
    "X = int(input())"
   ]
  },
  {
   "cell_type": "code",
   "execution_count": 16,
   "id": "bd03b397-eb69-4eaf-9c24-d23a92e1b4d0",
   "metadata": {
    "tags": []
   },
   "outputs": [],
   "source": [
    "ans = []\n",
    "for i, (C, AC) in enumerate(zip(Cn, ACn), 1):\n",
    "    if X in AC:\n",
    "        ans.append((C, i))\n",
    "ans.sort()\n",
    "m = 10**10\n",
    "ans2 = []\n",
    "for c, n in ans:\n",
    "    if c <= m:\n",
    "        ans2.append(n)\n",
    "        m = c"
   ]
  },
  {
   "cell_type": "code",
   "execution_count": 18,
   "id": "3ee70bcd-41da-47dc-bb62-5a85d3a2e5be",
   "metadata": {
    "tags": []
   },
   "outputs": [
    {
     "name": "stdout",
     "output_type": "stream",
     "text": [
      "2\n",
      "1 4\n"
     ]
    }
   ],
   "source": [
    "print(len(ans2))\n",
    "print(*ans2)"
   ]
  },
  {
   "cell_type": "code",
   "execution_count": 5,
   "id": "4167d3c8-018e-4d3f-b16a-5105923188ba",
   "metadata": {
    "tags": []
   },
   "outputs": [
    {
     "data": {
      "text/plain": [
       "([3, 4, 2, 3], [[7, 19, 20], [4, 19, 24, 0], [26, 10], [19, 31, 24]])"
      ]
     },
     "execution_count": 5,
     "metadata": {},
     "output_type": "execute_result"
    }
   ],
   "source": [
    "Cn, ACn"
   ]
  },
  {
   "cell_type": "code",
   "execution_count": 13,
   "id": "f97621c1-315d-4bd0-af3d-6a99feb7fcba",
   "metadata": {
    "tags": []
   },
   "outputs": [
    {
     "data": {
      "text/plain": [
       "(3, 1)"
      ]
     },
     "execution_count": 13,
     "metadata": {},
     "output_type": "execute_result"
    }
   ],
   "source": [
    "min(ans)"
   ]
  },
  {
   "cell_type": "code",
   "execution_count": 1,
   "id": "c0999603-e480-4b60-8d16-6393833a42db",
   "metadata": {},
   "outputs": [
    {
     "name": "stdin",
     "output_type": "stream",
     "text": [
      " 4\n"
     ]
    }
   ],
   "source": [
    "N = int(input())"
   ]
  },
  {
   "cell_type": "code",
   "execution_count": 12,
   "id": "eaa46415-b40f-4f3f-b066-f7c1d51ecf63",
   "metadata": {
    "tags": []
   },
   "outputs": [
    {
     "name": "stdin",
     "output_type": "stream",
     "text": [
      " 3\n",
      " 7 19 20\n",
      " 4\n",
      " 4 19 24 0\n",
      " 2\n",
      " 26 10\n",
      " 3\n",
      " 19 31 24\n"
     ]
    }
   ],
   "source": [
    "CAn = [[] for _ in range(N)]\n",
    "for i in range(N):\n",
    "    CAn[i].append(int(input()))\n",
    "    CAn[i].append(list(map(int, input().split())))"
   ]
  },
  {
   "cell_type": "code",
   "execution_count": 4,
   "id": "e71f5936-eb63-4fd0-9a08-5781ae73c9c0",
   "metadata": {
    "tags": []
   },
   "outputs": [
    {
     "name": "stdin",
     "output_type": "stream",
     "text": [
      " 19\n"
     ]
    }
   ],
   "source": [
    "X = int(input())"
   ]
  },
  {
   "cell_type": "code",
   "execution_count": 13,
   "id": "a1069445-f3d6-4338-ba4f-8f514c9a55ac",
   "metadata": {
    "tags": []
   },
   "outputs": [],
   "source": [
    "win = []\n",
    "mi = 10**10\n",
    "for i, (C, A) in enumerate(CAn):\n",
    "    if X in A:\n",
    "        win.append((C, i))\n",
    "        mi = min(mi, C)"
   ]
  },
  {
   "cell_type": "code",
   "execution_count": 17,
   "id": "e13f22be-c1e0-4703-9570-f3cf0d9f713a",
   "metadata": {
    "tags": []
   },
   "outputs": [
    {
     "name": "stdout",
     "output_type": "stream",
     "text": [
      "2\n",
      "1 4\n"
     ]
    }
   ],
   "source": [
    "win.sort()\n",
    "ans = []\n",
    "for c, n in win:\n",
    "    if c == mi:\n",
    "        ans.append(n+1)\n",
    "print(len(ans))\n",
    "print(*ans)"
   ]
  },
  {
   "cell_type": "code",
   "execution_count": 14,
   "id": "61952e0e-71be-44ea-9008-b3af6455fa1c",
   "metadata": {
    "tags": []
   },
   "outputs": [
    {
     "data": {
      "text/plain": [
       "[[3, [7, 19, 20]], [4, [4, 19, 24, 0]], [2, [26, 10]], [3, [19, 31, 24]]]"
      ]
     },
     "execution_count": 14,
     "metadata": {},
     "output_type": "execute_result"
    }
   ],
   "source": [
    "CAn"
   ]
  },
  {
   "cell_type": "code",
   "execution_count": 15,
   "id": "4f62cc2e-f912-42bd-96e2-5ddda540d9e9",
   "metadata": {
    "tags": []
   },
   "outputs": [
    {
     "data": {
      "text/plain": [
       "([(3, 0), (4, 1), (3, 3)], 3)"
      ]
     },
     "execution_count": 15,
     "metadata": {},
     "output_type": "execute_result"
    }
   ],
   "source": [
    "win, mi"
   ]
  },
  {
   "cell_type": "code",
   "execution_count": null,
   "id": "2d3aa2b0-bc9d-4f40-95ea-6596eed60a3a",
   "metadata": {},
   "outputs": [],
   "source": []
  }
 ],
 "metadata": {
  "kernelspec": {
   "display_name": "Python 3 (ipykernel)",
   "language": "python",
   "name": "python3"
  },
  "language_info": {
   "codemirror_mode": {
    "name": "ipython",
    "version": 3
   },
   "file_extension": ".py",
   "mimetype": "text/x-python",
   "name": "python",
   "nbconvert_exporter": "python",
   "pygments_lexer": "ipython3",
   "version": "3.11.3"
  }
 },
 "nbformat": 4,
 "nbformat_minor": 5
}
