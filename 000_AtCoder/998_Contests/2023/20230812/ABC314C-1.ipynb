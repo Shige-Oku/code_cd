{
 "cells": [
  {
   "cell_type": "code",
   "execution_count": 1,
   "id": "9b9a1c51-acc5-4a6b-b8c0-590a1801a1b5",
   "metadata": {
    "tags": []
   },
   "outputs": [],
   "source": [
    "import sys\n",
    "import numpy as np\n",
    "import math\n",
    "import collections\n",
    "import copy\n",
    "import decimal\n",
    "import itertools\n",
    "import re\n",
    "import bisect\n",
    "import scipy\n",
    "import heapq\n",
    "from collections import deque \n",
    "from functools import reduce\n",
    "from itertools import product\n",
    "from itertools import combinations\n",
    "from functools import lru_cache\n",
    "from scipy.special import comb\n",
    "from numba import njit\n",
    "from bisect import bisect_right\n",
    "from bisect import bisect_left"
   ]
  },
  {
   "cell_type": "code",
   "execution_count": 2,
   "id": "64a224a6-362d-4f7f-913a-81c9b57b4667",
   "metadata": {
    "tags": []
   },
   "outputs": [
    {
     "name": "stdin",
     "output_type": "stream",
     "text": [
      " 8 3\n"
     ]
    }
   ],
   "source": [
    "N, M = map(int, input().split())"
   ]
  },
  {
   "cell_type": "code",
   "execution_count": 3,
   "id": "c0b9949d-8564-44cf-817a-6a685b16a102",
   "metadata": {
    "tags": []
   },
   "outputs": [
    {
     "name": "stdin",
     "output_type": "stream",
     "text": [
      " apzbqrcs\n"
     ]
    }
   ],
   "source": [
    "S = input()"
   ]
  },
  {
   "cell_type": "code",
   "execution_count": 7,
   "id": "d01d823b-5ba9-4eb5-a80a-c10338d3215e",
   "metadata": {
    "tags": []
   },
   "outputs": [
    {
     "name": "stdin",
     "output_type": "stream",
     "text": [
      " 1 2 3 1 2 2 1 2\n"
     ]
    }
   ],
   "source": [
    "Cn = list(map(int, input().split()))"
   ]
  },
  {
   "cell_type": "code",
   "execution_count": 39,
   "id": "6ebc2f40-6916-41f6-849d-740687f9338a",
   "metadata": {
    "tags": []
   },
   "outputs": [],
   "source": [
    "ans = [[] for _ in range(N+1)]\n",
    "col = [[] for _ in range(M+1)]\n",
    "for i, C in enumerate(Cn, 1):\n",
    "    col[C].append(i)\n",
    "for co in col[1:]:\n",
    "    for i in range(len(co)):\n",
    "        n1 = co[i]\n",
    "        if i == len(co)-1:\n",
    "            n2 = co[0]\n",
    "        else:\n",
    "            n2 = co[i+1]\n",
    "        ans[n2] = S[n1-1]\n"
   ]
  },
  {
   "cell_type": "code",
   "execution_count": 41,
   "id": "41d29aab-9cdc-4b73-a386-4ff1c7f97bec",
   "metadata": {
    "tags": []
   },
   "outputs": [
    {
     "name": "stdout",
     "output_type": "stream",
     "text": [
      "cszapqbr\n"
     ]
    }
   ],
   "source": [
    "print(*ans[1:], sep='')"
   ]
  },
  {
   "cell_type": "code",
   "execution_count": 12,
   "id": "a0efe0a8-3e76-4f03-97c7-2aa2d74cfe62",
   "metadata": {
    "tags": []
   },
   "outputs": [
    {
     "data": {
      "text/plain": [
       "[[], [1, 4, 7], [2, 5, 6, 8], [3]]"
      ]
     },
     "execution_count": 12,
     "metadata": {},
     "output_type": "execute_result"
    }
   ],
   "source": [
    "col"
   ]
  },
  {
   "cell_type": "code",
   "execution_count": 25,
   "id": "1d863631-599e-480d-8a28-81b733c7af74",
   "metadata": {
    "tags": []
   },
   "outputs": [
    {
     "ename": "IndexError",
     "evalue": "list index out of range",
     "output_type": "error",
     "traceback": [
      "\u001b[1;31m---------------------------------------------------------------------------\u001b[0m",
      "\u001b[1;31mIndexError\u001b[0m                                Traceback (most recent call last)",
      "Cell \u001b[1;32mIn[25], line 1\u001b[0m\n\u001b[1;32m----> 1\u001b[0m S[co[n1\u001b[38;5;241m-\u001b[39m\u001b[38;5;241m1\u001b[39m]]\n",
      "\u001b[1;31mIndexError\u001b[0m: list index out of range"
     ]
    }
   ],
   "source": [
    "S[co[n1-1]]"
   ]
  },
  {
   "cell_type": "code",
   "execution_count": 35,
   "id": "77f54cbb-f283-47d4-851e-57de46bc34d2",
   "metadata": {
    "tags": []
   },
   "outputs": [
    {
     "data": {
      "text/plain": [
       "([1, 4, 7], 7, 2)"
      ]
     },
     "execution_count": 35,
     "metadata": {},
     "output_type": "execute_result"
    }
   ],
   "source": [
    "co, n1, i"
   ]
  },
  {
   "cell_type": "code",
   "execution_count": 1,
   "id": "7f3486c4-c384-46b3-b204-98d11e1bd5c8",
   "metadata": {},
   "outputs": [
    {
     "name": "stdin",
     "output_type": "stream",
     "text": [
      " 8 3\n"
     ]
    }
   ],
   "source": [
    "N, M = map(int, input().split())"
   ]
  },
  {
   "cell_type": "code",
   "execution_count": 2,
   "id": "91e0dd60-4692-49e9-a483-b7840ef11a72",
   "metadata": {
    "tags": []
   },
   "outputs": [
    {
     "name": "stdin",
     "output_type": "stream",
     "text": [
      " apzbqrcs\n"
     ]
    }
   ],
   "source": [
    "S = input()"
   ]
  },
  {
   "cell_type": "code",
   "execution_count": 4,
   "id": "bd122686-d7c3-4960-93b6-1cd3342e6912",
   "metadata": {
    "tags": []
   },
   "outputs": [
    {
     "name": "stdin",
     "output_type": "stream",
     "text": [
      " 1 2 3 1 2 2 1 2\n"
     ]
    }
   ],
   "source": [
    "Cn = list(map(int, input().split()))"
   ]
  },
  {
   "cell_type": "code",
   "execution_count": 7,
   "id": "0a3d5341-058f-4975-8bd8-505310cf1265",
   "metadata": {
    "tags": []
   },
   "outputs": [],
   "source": [
    "col_idx = [[] for _ in range(M)]\n",
    "for i, C in enumerate(Cn):\n",
    "    col_idx[C-1].append(i)"
   ]
  },
  {
   "cell_type": "code",
   "execution_count": 24,
   "id": "0bdc8327-eda3-46d7-a47e-4049e56506cb",
   "metadata": {
    "tags": []
   },
   "outputs": [],
   "source": [
    "S_l = [[] for _ in range(N)]\n",
    "for col in col_idx:\n",
    "    for i in range(len(col)):\n",
    "        if i == len(col) - 1:\n",
    "            n = 0\n",
    "        else:\n",
    "            n = i + 1\n",
    "        ii = col[i]\n",
    "        ni = col[n]\n",
    "        S_l[ni] = S[ii]\n",
    "        "
   ]
  },
  {
   "cell_type": "code",
   "execution_count": 29,
   "id": "32a904e1-7a8a-421e-bb64-194bf9d64c00",
   "metadata": {
    "tags": []
   },
   "outputs": [],
   "source": [
    "S_l = [[] for _ in range(N)]\n",
    "for col in col_idx:\n",
    "    for i in range(len(col)):\n",
    "        n = (i + 1) % len(col)\n",
    "        if i == len(col) - 1:\n",
    "            n = 0\n",
    "        else:\n",
    "            n = i + 1\n",
    "        ii = col[i]\n",
    "        ni = col[n]\n",
    "        S_l[ni] = S[ii]\n",
    "        "
   ]
  },
  {
   "cell_type": "code",
   "execution_count": 30,
   "id": "acc3b1e8-94a0-4186-a409-544818b842e0",
   "metadata": {
    "tags": []
   },
   "outputs": [
    {
     "name": "stdout",
     "output_type": "stream",
     "text": [
      "cszapqbr\n"
     ]
    }
   ],
   "source": [
    "print(*S_l, sep='')"
   ]
  },
  {
   "cell_type": "code",
   "execution_count": 25,
   "id": "6704074a-89ca-49f7-b62a-7fd21f156398",
   "metadata": {
    "tags": []
   },
   "outputs": [
    {
     "data": {
      "text/plain": [
       "[[0, 3, 6], [1, 4, 5, 7], [2]]"
      ]
     },
     "execution_count": 25,
     "metadata": {},
     "output_type": "execute_result"
    }
   ],
   "source": [
    "col_idx"
   ]
  },
  {
   "cell_type": "code",
   "execution_count": null,
   "id": "4ef01e50-2c6f-485c-b7cd-68b24b275396",
   "metadata": {},
   "outputs": [],
   "source": []
  },
  {
   "cell_type": "code",
   "execution_count": 26,
   "id": "cf532aaa-aa7d-4cb8-8f0d-b67b5af8f6c1",
   "metadata": {
    "tags": []
   },
   "outputs": [
    {
     "data": {
      "text/plain": [
       "['c', 's', 'z', 'a', 'p', 'q', 'b', 'r']"
      ]
     },
     "execution_count": 26,
     "metadata": {},
     "output_type": "execute_result"
    }
   ],
   "source": [
    "S_l"
   ]
  },
  {
   "cell_type": "code",
   "execution_count": null,
   "id": "cfd7ed1c-0ae4-492e-8a28-5671f51793e9",
   "metadata": {},
   "outputs": [],
   "source": []
  }
 ],
 "metadata": {
  "kernelspec": {
   "display_name": "Python 3 (ipykernel)",
   "language": "python",
   "name": "python3"
  },
  "language_info": {
   "codemirror_mode": {
    "name": "ipython",
    "version": 3
   },
   "file_extension": ".py",
   "mimetype": "text/x-python",
   "name": "python",
   "nbconvert_exporter": "python",
   "pygments_lexer": "ipython3",
   "version": "3.11.3"
  }
 },
 "nbformat": 4,
 "nbformat_minor": 5
}
