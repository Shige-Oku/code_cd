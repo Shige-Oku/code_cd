{
 "cells": [
  {
   "cell_type": "code",
   "execution_count": 1,
   "id": "b18f774e-7dc3-4182-8a47-b9667dcef731",
   "metadata": {
    "tags": []
   },
   "outputs": [],
   "source": [
    "import sys\n",
    "import numpy as np\n",
    "import math\n",
    "import collections\n",
    "import copy\n",
    "import decimal\n",
    "import itertools\n",
    "import re\n",
    "import bisect\n",
    "import scipy\n",
    "import heapq\n",
    "from collections import deque \n",
    "from functools import reduce\n",
    "from itertools import product\n",
    "from itertools import combinations\n",
    "from functools import lru_cache\n",
    "from scipy.special import comb\n",
    "from numba import njit\n",
    "from bisect import bisect_right\n",
    "from bisect import bisect_left"
   ]
  },
  {
   "cell_type": "code",
   "execution_count": 2,
   "id": "75184604-d608-49aa-b832-fd9c2bae4ff8",
   "metadata": {
    "tags": []
   },
   "outputs": [
    {
     "name": "stdin",
     "output_type": "stream",
     "text": [
      " 7\n"
     ]
    }
   ],
   "source": [
    "N = int(input())"
   ]
  },
  {
   "cell_type": "code",
   "execution_count": 3,
   "id": "d9216b98-4174-47e6-91bf-a5d2c83353f6",
   "metadata": {
    "tags": []
   },
   "outputs": [
    {
     "name": "stdin",
     "output_type": "stream",
     "text": [
      " AtCoder\n"
     ]
    }
   ],
   "source": [
    "S = input()"
   ]
  },
  {
   "cell_type": "code",
   "execution_count": 4,
   "id": "8caea8ce-a15e-465d-9e3b-3fa716a58fe6",
   "metadata": {
    "tags": []
   },
   "outputs": [
    {
     "name": "stdin",
     "output_type": "stream",
     "text": [
      " 5\n"
     ]
    }
   ],
   "source": [
    "Q = int(input())"
   ]
  },
  {
   "cell_type": "code",
   "execution_count": 7,
   "id": "aa6a8ea7-6e87-4d74-bf0f-07e37c32e9c8",
   "metadata": {
    "tags": []
   },
   "outputs": [
    {
     "name": "stdin",
     "output_type": "stream",
     "text": [
      " 1 4 i\n",
      " 3 0 a\n",
      " 1 5 b\n",
      " 2 0 a\n",
      " 1 4 Y\n"
     ]
    }
   ],
   "source": [
    "TXCq = [list(input().split()) for _ in range(Q)]"
   ]
  },
  {
   "cell_type": "code",
   "execution_count": 21,
   "id": "43cf362f-bf81-4751-aa7e-d8521923fc6c",
   "metadata": {
    "tags": []
   },
   "outputs": [],
   "source": [
    "S_l = list(S)\n",
    "f = None\n",
    "se = set()\n",
    "for T, X, C in TXCq:\n",
    "    t = int(T)\n",
    "    x = int(X)\n",
    "    if t == 1:\n",
    "        S_l[x-1] = C\n",
    "        se.add(x-1)\n",
    "    elif t == 2:\n",
    "        f = True\n",
    "        se = set()\n",
    "    else:\n",
    "        f = False\n",
    "        se = set()\n",
    "        "
   ]
  },
  {
   "cell_type": "code",
   "execution_count": 22,
   "id": "f0093eca-7c21-411c-bc97-f1ab22b2743f",
   "metadata": {
    "tags": []
   },
   "outputs": [
    {
     "name": "stdout",
     "output_type": "stream",
     "text": [
      "atcYber"
     ]
    }
   ],
   "source": [
    "for i, s in enumerate(S_l):\n",
    "    if f is None:\n",
    "        print(s, sep='', end='')\n",
    "    else:\n",
    "        if i in se:\n",
    "            print(s, sep='', end='')\n",
    "        else:\n",
    "            if f:\n",
    "                print(s.lower(), sep='',  end='')\n",
    "            else:\n",
    "                print(s.upper(), sep='',  end='')\n",
    "                "
   ]
  },
  {
   "cell_type": "code",
   "execution_count": 16,
   "id": "eee75fb2-906d-496d-bd45-3d0b434ffd27",
   "metadata": {
    "tags": []
   },
   "outputs": [
    {
     "data": {
      "text/plain": [
       "['A', 't', 'C', 'Y', 'b', 'e', 'r']"
      ]
     },
     "execution_count": 16,
     "metadata": {},
     "output_type": "execute_result"
    }
   ],
   "source": [
    "S_l"
   ]
  },
  {
   "cell_type": "code",
   "execution_count": 13,
   "id": "2f14970a-fad0-45db-b079-1d1df6a73094",
   "metadata": {
    "tags": []
   },
   "outputs": [
    {
     "data": {
      "text/plain": [
       "(['A', 't', 'C', 'Y', 'b', 'e', 'r'], True, {3})"
      ]
     },
     "execution_count": 13,
     "metadata": {},
     "output_type": "execute_result"
    }
   ],
   "source": [
    "S_l, f, s"
   ]
  },
  {
   "cell_type": "code",
   "execution_count": 1,
   "id": "b0c231f3-726c-443a-a72f-2bbd12257d99",
   "metadata": {},
   "outputs": [
    {
     "name": "stdin",
     "output_type": "stream",
     "text": [
      " 7\n"
     ]
    }
   ],
   "source": [
    "N = int(input())"
   ]
  },
  {
   "cell_type": "code",
   "execution_count": 2,
   "id": "6e639444-1695-4ee9-b84a-775139817e32",
   "metadata": {
    "tags": []
   },
   "outputs": [
    {
     "name": "stdin",
     "output_type": "stream",
     "text": [
      " AtCoder\n"
     ]
    }
   ],
   "source": [
    "S = input()"
   ]
  },
  {
   "cell_type": "code",
   "execution_count": 3,
   "id": "299fc787-a579-4e8f-8577-d65068b2e099",
   "metadata": {
    "tags": []
   },
   "outputs": [
    {
     "name": "stdin",
     "output_type": "stream",
     "text": [
      " 5\n"
     ]
    }
   ],
   "source": [
    "Q = int(input())"
   ]
  },
  {
   "cell_type": "code",
   "execution_count": 4,
   "id": "0d4ec11f-9b7a-477b-8920-bcebab8672dd",
   "metadata": {
    "tags": []
   },
   "outputs": [
    {
     "name": "stdin",
     "output_type": "stream",
     "text": [
      " 1 4 i\n",
      " 3 0 a\n",
      " 1 5 b\n",
      " 2 0 a\n",
      " 1 4 Y\n"
     ]
    }
   ],
   "source": [
    "TXCq = [list(input().split()) for _ in range(Q)]"
   ]
  },
  {
   "cell_type": "code",
   "execution_count": 8,
   "id": "d723541b-34f4-45dd-bb17-b1b9f7aa248c",
   "metadata": {
    "tags": []
   },
   "outputs": [],
   "source": [
    "al = -1\n",
    "low = None\n",
    "for i, (T, X, C) in enumerate(TXCq):\n",
    "    if T == '2':\n",
    "        al = i\n",
    "        low = True\n",
    "    elif T == '3':\n",
    "        al = i\n",
    "        low = False"
   ]
  },
  {
   "cell_type": "code",
   "execution_count": 13,
   "id": "3d9df2da-14cf-4c5e-bb97-2f0b8d751e40",
   "metadata": {
    "tags": []
   },
   "outputs": [],
   "source": [
    "S_l = list(S)\n",
    "for i, (T, X, C) in enumerate(TXCq):\n",
    "    t, x = int(T), int(X)\n",
    "    if t == 1:\n",
    "        S_l[x-1] = C\n",
    "    else:\n",
    "        if i != al:\n",
    "            continue\n",
    "        s = \"\".join(S_l)\n",
    "        if low:\n",
    "            s = s.lower()\n",
    "        else:\n",
    "            s = s.upper()\n",
    "        S_l = list(s)\n"
   ]
  },
  {
   "cell_type": "code",
   "execution_count": 17,
   "id": "b47d0298-eaef-4b3c-94da-e265ced3133f",
   "metadata": {
    "tags": []
   },
   "outputs": [
    {
     "name": "stdout",
     "output_type": "stream",
     "text": [
      "atcYber\n"
     ]
    }
   ],
   "source": [
    "print(*S_l, sep='')"
   ]
  },
  {
   "cell_type": "code",
   "execution_count": 14,
   "id": "e2a90df3-5c7e-4273-9713-7422968b06ac",
   "metadata": {
    "tags": []
   },
   "outputs": [
    {
     "data": {
      "text/plain": [
       "(3, True, ['a', 't', 'c', 'Y', 'b', 'e', 'r'])"
      ]
     },
     "execution_count": 14,
     "metadata": {},
     "output_type": "execute_result"
    }
   ],
   "source": [
    "al, low, S_l"
   ]
  },
  {
   "cell_type": "code",
   "execution_count": 11,
   "id": "f07b248d-babb-4cd8-aa9f-fd826c845144",
   "metadata": {
    "tags": []
   },
   "outputs": [
    {
     "data": {
      "text/plain": [
       "'aaa'"
      ]
     },
     "execution_count": 11,
     "metadata": {},
     "output_type": "execute_result"
    }
   ],
   "source": [
    "s = 'AAA'\n",
    "s.lower()"
   ]
  },
  {
   "cell_type": "code",
   "execution_count": 12,
   "id": "327f6795-aed7-4bdf-a061-a919e0c876de",
   "metadata": {
    "tags": []
   },
   "outputs": [
    {
     "data": {
      "text/plain": [
       "'AAA'"
      ]
     },
     "execution_count": 12,
     "metadata": {},
     "output_type": "execute_result"
    }
   ],
   "source": [
    "s"
   ]
  },
  {
   "cell_type": "code",
   "execution_count": null,
   "id": "7865b6c8-d051-467f-a812-076378297ea4",
   "metadata": {},
   "outputs": [],
   "source": []
  }
 ],
 "metadata": {
  "kernelspec": {
   "display_name": "Python 3 (ipykernel)",
   "language": "python",
   "name": "python3"
  },
  "language_info": {
   "codemirror_mode": {
    "name": "ipython",
    "version": 3
   },
   "file_extension": ".py",
   "mimetype": "text/x-python",
   "name": "python",
   "nbconvert_exporter": "python",
   "pygments_lexer": "ipython3",
   "version": "3.11.3"
  }
 },
 "nbformat": 4,
 "nbformat_minor": 5
}
