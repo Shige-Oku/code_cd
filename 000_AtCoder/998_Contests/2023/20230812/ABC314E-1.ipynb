{
 "cells": [
  {
   "cell_type": "code",
   "execution_count": 1,
   "id": "6295f665-7a60-464c-bacc-d61d0d5d2cb7",
   "metadata": {
    "tags": []
   },
   "outputs": [],
   "source": [
    "import sys\n",
    "import numpy as np\n",
    "import math\n",
    "import collections\n",
    "import copy\n",
    "import decimal\n",
    "import itertools\n",
    "import re\n",
    "import bisect\n",
    "import scipy\n",
    "import heapq\n",
    "from collections import deque \n",
    "from functools import reduce\n",
    "from itertools import product\n",
    "from itertools import combinations\n",
    "from functools import lru_cache\n",
    "from scipy.special import comb\n",
    "from numba import njit\n",
    "from bisect import bisect_right\n",
    "from bisect import bisect_left"
   ]
  },
  {
   "cell_type": "code",
   "execution_count": 2,
   "id": "32761ef1-7b7a-40c2-960a-28b2b6da2b62",
   "metadata": {
    "tags": []
   },
   "outputs": [
    {
     "name": "stdin",
     "output_type": "stream",
     "text": [
      " 3 14\n"
     ]
    }
   ],
   "source": [
    "N, M = map(int, input().split())"
   ]
  },
  {
   "cell_type": "code",
   "execution_count": 3,
   "id": "b0ef8b81-6069-4cf2-8bfe-3b50c50aa244",
   "metadata": {
    "tags": []
   },
   "outputs": [
    {
     "name": "stdin",
     "output_type": "stream",
     "text": [
      " 100 2 5 9\n",
      " 50 4 1 2 4 8\n",
      " 70 5 2 4 2 8 8\n"
     ]
    }
   ],
   "source": [
    "CPSn = [list(map(int, input().split())) for _ in range(N)]"
   ]
  },
  {
   "cell_type": "code",
   "execution_count": 8,
   "id": "a4df14c8-0810-4d27-9378-1bf719caa682",
   "metadata": {
    "tags": []
   },
   "outputs": [
    {
     "name": "stdout",
     "output_type": "stream",
     "text": [
      "100 2 [5, 9] 0.07\n",
      "50 4 [1, 2, 4, 8] 0.075\n",
      "70 5 [2, 4, 2, 8, 8] 0.06857142857142857\n"
     ]
    }
   ],
   "source": [
    "for C, P, *S in CPSn:\n",
    "    print(C, P, S, sum(S)/P/C)"
   ]
  },
  {
   "cell_type": "code",
   "execution_count": 9,
   "id": "839a8dd7-dea7-4256-8dde-4cb722219333",
   "metadata": {
    "tags": []
   },
   "outputs": [
    {
     "data": {
      "text/plain": [
       "204.16666666666666"
      ]
     },
     "execution_count": 9,
     "metadata": {},
     "output_type": "execute_result"
    }
   ],
   "source": [
    "M/ 0.06857142857142857"
   ]
  },
  {
   "cell_type": "code",
   "execution_count": 6,
   "id": "ad7b1bcf-4fe6-4d04-ab63-5a393544c347",
   "metadata": {
    "tags": []
   },
   "outputs": [
    {
     "data": {
      "text/plain": [
       "24.0"
      ]
     },
     "execution_count": 6,
     "metadata": {},
     "output_type": "execute_result"
    }
   ],
   "source": [
    "70* 0.34285714285714286"
   ]
  },
  {
   "cell_type": "code",
   "execution_count": 7,
   "id": "00c2ebad-9cca-4930-bfc1-818d6f785da0",
   "metadata": {
    "tags": []
   },
   "outputs": [
    {
     "data": {
      "text/plain": [
       "24"
      ]
     },
     "execution_count": 7,
     "metadata": {},
     "output_type": "execute_result"
    }
   ],
   "source": [
    "sum([2, 4, 2, 8, 8])"
   ]
  },
  {
   "cell_type": "code",
   "execution_count": null,
   "id": "1664308f-96b0-4aca-9a26-d0452acfaef6",
   "metadata": {},
   "outputs": [],
   "source": []
  }
 ],
 "metadata": {
  "kernelspec": {
   "display_name": "Python 3 (ipykernel)",
   "language": "python",
   "name": "python3"
  },
  "language_info": {
   "codemirror_mode": {
    "name": "ipython",
    "version": 3
   },
   "file_extension": ".py",
   "mimetype": "text/x-python",
   "name": "python",
   "nbconvert_exporter": "python",
   "pygments_lexer": "ipython3",
   "version": "3.11.3"
  }
 },
 "nbformat": 4,
 "nbformat_minor": 5
}
