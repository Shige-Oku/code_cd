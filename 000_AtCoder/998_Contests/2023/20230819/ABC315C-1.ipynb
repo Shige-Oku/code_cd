{
 "cells": [
  {
   "cell_type": "code",
   "execution_count": 1,
   "id": "5b78b4de-001e-4562-9185-68b1d6b483c5",
   "metadata": {
    "tags": []
   },
   "outputs": [],
   "source": [
    "import sys\n",
    "import numpy as np\n",
    "import math\n",
    "import collections\n",
    "import copy\n",
    "import decimal\n",
    "import itertools\n",
    "import re\n",
    "import bisect\n",
    "import scipy\n",
    "import heapq\n",
    "from collections import deque \n",
    "from functools import reduce\n",
    "from itertools import product\n",
    "from itertools import combinations\n",
    "from functools import lru_cache\n",
    "from scipy.special import comb\n",
    "from numba import njit\n",
    "from bisect import bisect_right\n",
    "from bisect import bisect_left"
   ]
  },
  {
   "cell_type": "code",
   "execution_count": 2,
   "id": "17c37631-bf03-483d-81a4-038a22948c28",
   "metadata": {
    "tags": []
   },
   "outputs": [
    {
     "name": "stdin",
     "output_type": "stream",
     "text": [
      " 4\n"
     ]
    }
   ],
   "source": [
    "N = int(input())"
   ]
  },
  {
   "cell_type": "code",
   "execution_count": 3,
   "id": "567eebd0-c6f2-4c38-8858-8c45bea6492f",
   "metadata": {
    "tags": []
   },
   "outputs": [
    {
     "name": "stdin",
     "output_type": "stream",
     "text": [
      " 1 4\n",
      " 2 10\n",
      " 2 8\n",
      " 3 6\n"
     ]
    }
   ],
   "source": [
    "FSn = [list(map(int, input().split())) for _ in range(N)]"
   ]
  },
  {
   "cell_type": "code",
   "execution_count": 15,
   "id": "22a27cab-2293-425e-b3a0-b5410058adfd",
   "metadata": {
    "tags": []
   },
   "outputs": [],
   "source": [
    "def solve():\n",
    "    ms = FSn_s[0][1]\n",
    "    mf = set()\n",
    "    for F, S in FSn:\n",
    "        if ms == S:\n",
    "            mf.add(F)\n",
    "    if len(mf) > 1:\n",
    "        return FSn_s[0][1] * 2\n",
    "    c = 0\n",
    "    for F, S in FSn_s[1:]:\n",
    "        if F in mf:\n",
    "            c = max(c, S//2)\n",
    "        else:\n",
    "            c = max(c, S)\n",
    "    return ms + c"
   ]
  },
  {
   "cell_type": "code",
   "execution_count": 17,
   "id": "45ee270b-e486-477a-9f7d-e82e96c3a805",
   "metadata": {
    "tags": []
   },
   "outputs": [],
   "source": [
    "FSn_s = sorted(FSn, key=lambda x:x[1], reverse=True)   "
   ]
  },
  {
   "cell_type": "code",
   "execution_count": 18,
   "id": "d79f6f92-dc21-4c46-b8b0-f7f492fdc5f8",
   "metadata": {
    "tags": []
   },
   "outputs": [
    {
     "name": "stdout",
     "output_type": "stream",
     "text": [
      "16\n"
     ]
    }
   ],
   "source": [
    "print(solve())"
   ]
  },
  {
   "cell_type": "code",
   "execution_count": 5,
   "id": "3342d772-7d42-4ba4-abeb-871702075005",
   "metadata": {
    "tags": []
   },
   "outputs": [
    {
     "data": {
      "text/plain": [
       "[[2, 10], [2, 8], [3, 6], [1, 4]]"
      ]
     },
     "execution_count": 5,
     "metadata": {},
     "output_type": "execute_result"
    }
   ],
   "source": [
    "FSn_s"
   ]
  },
  {
   "cell_type": "code",
   "execution_count": 7,
   "id": "e1d541f0-f4b5-4a85-9046-9ceac0df1cfd",
   "metadata": {
    "tags": []
   },
   "outputs": [
    {
     "data": {
      "text/plain": [
       "(2, 10)"
      ]
     },
     "execution_count": 7,
     "metadata": {},
     "output_type": "execute_result"
    }
   ],
   "source": [
    "ans, col"
   ]
  },
  {
   "cell_type": "code",
   "execution_count": null,
   "id": "3ef47b97-75b4-4772-9313-6d7a62430a77",
   "metadata": {},
   "outputs": [],
   "source": []
  }
 ],
 "metadata": {
  "kernelspec": {
   "display_name": "Python 3 (ipykernel)",
   "language": "python",
   "name": "python3"
  },
  "language_info": {
   "codemirror_mode": {
    "name": "ipython",
    "version": 3
   },
   "file_extension": ".py",
   "mimetype": "text/x-python",
   "name": "python",
   "nbconvert_exporter": "python",
   "pygments_lexer": "ipython3",
   "version": "3.11.3"
  }
 },
 "nbformat": 4,
 "nbformat_minor": 5
}
