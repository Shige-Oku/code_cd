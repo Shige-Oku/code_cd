{
 "cells": [
  {
   "cell_type": "code",
   "execution_count": 1,
   "id": "fc4917f8-8cf8-43cb-af81-69563731b657",
   "metadata": {
    "tags": []
   },
   "outputs": [],
   "source": [
    "import sys\n",
    "import numpy as np\n",
    "import math\n",
    "import collections\n",
    "import copy\n",
    "import decimal\n",
    "import itertools\n",
    "import re\n",
    "import bisect\n",
    "import scipy\n",
    "import heapq\n",
    "from collections import deque \n",
    "from functools import reduce\n",
    "from itertools import product\n",
    "from itertools import combinations\n",
    "from functools import lru_cache\n",
    "from scipy.special import comb\n",
    "from numba import njit\n",
    "from bisect import bisect_right\n",
    "from bisect import bisect_left"
   ]
  },
  {
   "cell_type": "code",
   "execution_count": 1,
   "id": "a5d16db8-4708-4dda-a085-f97db34a52cd",
   "metadata": {
    "tags": []
   },
   "outputs": [
    {
     "name": "stdin",
     "output_type": "stream",
     "text": [
      " 6\n"
     ]
    }
   ],
   "source": [
    "N = int(input())"
   ]
  },
  {
   "cell_type": "code",
   "execution_count": 2,
   "id": "ed209f4a-39f0-4735-baae-592c394e5abc",
   "metadata": {
    "tags": []
   },
   "outputs": [
    {
     "name": "stdin",
     "output_type": "stream",
     "text": [
      " 3 2 3 4\n",
      " 2 3 5\n",
      " 0\n",
      " 1 5\n",
      " 0\n",
      " 0\n"
     ]
    }
   ],
   "source": [
    "CPn = [list(map(int, input().split())) for _ in range(N)]"
   ]
  },
  {
   "cell_type": "code",
   "execution_count": 3,
   "id": "5b250371-d3aa-4c0b-b350-33c3dce8849f",
   "metadata": {
    "tags": []
   },
   "outputs": [],
   "source": [
    "graph = [[] for _ in range(N+1)]\n",
    "for i, (C, *P) in enumerate(CPn, 1):\n",
    "    for p in P:\n",
    "        graph[i].append(p)"
   ]
  },
  {
   "cell_type": "code",
   "execution_count": 4,
   "id": "60eb53db-92ef-480a-9574-d63dc22a750b",
   "metadata": {
    "tags": []
   },
   "outputs": [],
   "source": [
    "def DFS(n):\n",
    "    if len(graph[n]) == 0:\n",
    "        ans.append(n)\n",
    "        return\n",
    "    for ne in graph[n]:\n",
    "        if ne in rt:\n",
    "            continue\n",
    "        rt.add(ne)\n",
    "        DFS(ne)\n",
    "    ans.append(n)\n",
    "    return"
   ]
  },
  {
   "cell_type": "code",
   "execution_count": 5,
   "id": "7feeb7cc-a0f5-433c-9ff2-1c45b32fb078",
   "metadata": {
    "tags": []
   },
   "outputs": [],
   "source": [
    "import sys\n",
    "sys.setrecursionlimit(10**6)\n",
    "ans = []\n",
    "rt = set()\n",
    "DFS(1)\n"
   ]
  },
  {
   "cell_type": "code",
   "execution_count": 6,
   "id": "40abae84-45fa-4469-8de1-5b07f7b00e57",
   "metadata": {
    "tags": []
   },
   "outputs": [
    {
     "name": "stdout",
     "output_type": "stream",
     "text": [
      "3 5 2 4\n"
     ]
    }
   ],
   "source": [
    "print(*ans[:-1])"
   ]
  },
  {
   "cell_type": "code",
   "execution_count": 17,
   "id": "5eab2625-0399-434a-af91-8172cce64475",
   "metadata": {
    "tags": []
   },
   "outputs": [
    {
     "data": {
      "text/plain": [
       "[3, 5, 2, 4, 1]"
      ]
     },
     "execution_count": 17,
     "metadata": {},
     "output_type": "execute_result"
    }
   ],
   "source": [
    "ans"
   ]
  },
  {
   "cell_type": "code",
   "execution_count": null,
   "id": "8f6a78f7-ca51-454e-b88f-cd03689585fc",
   "metadata": {},
   "outputs": [],
   "source": [
    "# BFSでは、サンプルが合わない"
   ]
  },
  {
   "cell_type": "code",
   "execution_count": 98,
   "id": "fa8677f4-4cdc-4762-ac79-e15a8c6254e3",
   "metadata": {
    "tags": []
   },
   "outputs": [],
   "source": [
    "graph = [[] for _ in range(N+1)]\n",
    "ind = [0] * (N+1)\n",
    "oud = [0] * (N+1)\n",
    "for i, (C, *P) in enumerate(CPn, 1):\n",
    "    for p in P:\n",
    "        graph[p].append(i)\n",
    "        ind[i] += 1\n",
    "        oud[p] += 1"
   ]
  },
  {
   "cell_type": "code",
   "execution_count": 96,
   "id": "5e69dcde-0d33-437e-8528-e0ceb8704247",
   "metadata": {},
   "outputs": [],
   "source": [
    "from collections import deque\n",
    "def BFS():\n",
    "    ret = []\n",
    "    q = deque()\n",
    "    visit = [False] * (N+1)\n",
    "    for n, (o, i) in enumerate(zip(oud[1:], ind[1:]), 1):\n",
    "        if i == 0 and o > 0:\n",
    "            q.append(n)\n",
    "            visit[n] = True\n",
    "            ret.append(n)\n",
    "    \n",
    "    while q:\n",
    "        p = q.popleft()\n",
    "        for n in graph[p]:\n",
    "            oud[n] -= 1\n",
    "            if n == 1 and oud[n] == 0:\n",
    "                break\n",
    "            if oud[n] > 0 or visit[n]:\n",
    "                continue\n",
    "            visit[n] = True\n",
    "            q.append(n)\n",
    "            ret.append(n)\n",
    "        \n",
    "    return ret"
   ]
  },
  {
   "cell_type": "code",
   "execution_count": 97,
   "id": "55f0855a-65fb-4612-8df2-762efd8cf805",
   "metadata": {
    "tags": []
   },
   "outputs": [
    {
     "name": "stdout",
     "output_type": "stream",
     "text": [
      "\n"
     ]
    }
   ],
   "source": [
    "ans = BFS()\n",
    "print(*ans[:-1])"
   ]
  },
  {
   "cell_type": "code",
   "execution_count": 99,
   "id": "87b0c1d6-6fa1-4f45-b045-79b870319417",
   "metadata": {
    "tags": []
   },
   "outputs": [
    {
     "data": {
      "text/plain": [
       "([0, 3, 2, 0, 1, 0, 0], [0, 0, 1, 2, 1, 2, 0])"
      ]
     },
     "execution_count": 99,
     "metadata": {},
     "output_type": "execute_result"
    }
   ],
   "source": [
    "ind, oud"
   ]
  },
  {
   "cell_type": "code",
   "execution_count": 10,
   "id": "4b97732b-58f0-4c57-949b-d29d861e57e4",
   "metadata": {
    "tags": []
   },
   "outputs": [
    {
     "data": {
      "text/plain": [
       "2"
      ]
     },
     "execution_count": 10,
     "metadata": {},
     "output_type": "execute_result"
    }
   ],
   "source": [
    "p"
   ]
  },
  {
   "cell_type": "code",
   "execution_count": null,
   "id": "d7ac31ec-e843-4d9a-bd6b-97d4c5538d14",
   "metadata": {},
   "outputs": [],
   "source": []
  }
 ],
 "metadata": {
  "kernelspec": {
   "display_name": "Python 3 (ipykernel)",
   "language": "python",
   "name": "python3"
  },
  "language_info": {
   "codemirror_mode": {
    "name": "ipython",
    "version": 3
   },
   "file_extension": ".py",
   "mimetype": "text/x-python",
   "name": "python",
   "nbconvert_exporter": "python",
   "pygments_lexer": "ipython3",
   "version": "3.11.3"
  }
 },
 "nbformat": 4,
 "nbformat_minor": 5
}
