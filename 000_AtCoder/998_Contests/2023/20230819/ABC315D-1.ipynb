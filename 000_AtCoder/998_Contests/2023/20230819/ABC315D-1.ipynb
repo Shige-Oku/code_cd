{
 "cells": [
  {
   "cell_type": "code",
   "execution_count": 1,
   "id": "ee1dc2de-dc43-4449-ac9c-1ec28650765c",
   "metadata": {
    "tags": []
   },
   "outputs": [],
   "source": [
    "import sys\n",
    "import numpy as np\n",
    "import math\n",
    "import collections\n",
    "import copy\n",
    "import decimal\n",
    "import itertools\n",
    "import re\n",
    "import bisect\n",
    "import scipy\n",
    "import heapq\n",
    "from collections import deque \n",
    "from functools import reduce\n",
    "from itertools import product\n",
    "from itertools import combinations\n",
    "from functools import lru_cache\n",
    "from scipy.special import comb\n",
    "from numba import njit\n",
    "from bisect import bisect_right\n",
    "from bisect import bisect_left"
   ]
  },
  {
   "cell_type": "code",
   "execution_count": 2,
   "id": "1d44a323-b91c-41b1-915e-e791e7c2c666",
   "metadata": {
    "tags": []
   },
   "outputs": [
    {
     "name": "stdin",
     "output_type": "stream",
     "text": [
      " 4 3\n"
     ]
    }
   ],
   "source": [
    "H, W = map(int, input().split())"
   ]
  },
  {
   "cell_type": "code",
   "execution_count": 3,
   "id": "2b640a7f-61cd-4272-8816-ed405cfeb6e0",
   "metadata": {
    "tags": []
   },
   "outputs": [
    {
     "name": "stdin",
     "output_type": "stream",
     "text": [
      " aaa\n",
      " aaa\n",
      " abc\n",
      " abd\n"
     ]
    }
   ],
   "source": [
    "Chw = [input() for _ in range(H)]"
   ]
  },
  {
   "cell_type": "code",
   "execution_count": 7,
   "id": "ba0cf3d8-28fb-41d5-938a-bd47eccb4d9b",
   "metadata": {
    "tags": []
   },
   "outputs": [],
   "source": [
    "def DFS(mt):\n",
    "    return "
   ]
  },
  {
   "cell_type": "code",
   "execution_count": 8,
   "id": "e1c288d2-7d37-41e6-b892-e190e3864e1f",
   "metadata": {
    "tags": []
   },
   "outputs": [
    {
     "name": "stdout",
     "output_type": "stream",
     "text": [
      "None\n"
     ]
    }
   ],
   "source": [
    "print(DFS(Chw))"
   ]
  },
  {
   "cell_type": "code",
   "execution_count": 4,
   "id": "61c9b75e-7629-4157-9dfc-6a33b66c3a0f",
   "metadata": {
    "tags": []
   },
   "outputs": [],
   "source": [
    "ps = [[False] * (W) for _ in range(H)]"
   ]
  },
  {
   "cell_type": "code",
   "execution_count": 5,
   "id": "c82233fd-d647-41d7-8c93-04eee74dc7ab",
   "metadata": {
    "tags": []
   },
   "outputs": [
    {
     "data": {
      "text/plain": [
       "[[False, False, False],\n",
       " [False, False, False],\n",
       " [False, False, False],\n",
       " [False, False, False]]"
      ]
     },
     "execution_count": 5,
     "metadata": {},
     "output_type": "execute_result"
    }
   ],
   "source": [
    "ps"
   ]
  },
  {
   "cell_type": "code",
   "execution_count": null,
   "id": "1af51c38-82a0-45bf-ae9f-4bf0ea979eef",
   "metadata": {},
   "outputs": [],
   "source": []
  }
 ],
 "metadata": {
  "kernelspec": {
   "display_name": "Python 3 (ipykernel)",
   "language": "python",
   "name": "python3"
  },
  "language_info": {
   "codemirror_mode": {
    "name": "ipython",
    "version": 3
   },
   "file_extension": ".py",
   "mimetype": "text/x-python",
   "name": "python",
   "nbconvert_exporter": "python",
   "pygments_lexer": "ipython3",
   "version": "3.11.3"
  }
 },
 "nbformat": 4,
 "nbformat_minor": 5
}
