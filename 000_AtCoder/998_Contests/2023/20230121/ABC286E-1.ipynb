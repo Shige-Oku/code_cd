{
 "cells": [
  {
   "cell_type": "code",
   "execution_count": 1,
   "id": "5f4a62e5-6187-4d31-8f3a-19ac22556db1",
   "metadata": {},
   "outputs": [],
   "source": [
    "import sys\n",
    "import numpy as np\n",
    "import math\n",
    "import collections\n",
    "import copy\n",
    "import decimal\n",
    "import itertools\n",
    "import re\n",
    "import bisect\n",
    "import scipy\n",
    "import heapq\n",
    "from collections import deque \n",
    "from functools import reduce\n",
    "from itertools import product\n",
    "from itertools import combinations\n",
    "from functools import lru_cache\n",
    "from scipy.special import comb\n",
    "from numba import njit\n",
    "from bisect import bisect_right\n",
    "from bisect import bisect_left"
   ]
  },
  {
   "cell_type": "code",
   "execution_count": 1,
   "id": "c1f388c0-d2a5-4828-9ae6-75be8f8f5384",
   "metadata": {},
   "outputs": [
    {
     "name": "stdin",
     "output_type": "stream",
     "text": [
      " 5\n"
     ]
    }
   ],
   "source": [
    "N = int(input())"
   ]
  },
  {
   "cell_type": "code",
   "execution_count": 2,
   "id": "761180cb-ba81-4a8a-b986-7968bd4a60dc",
   "metadata": {},
   "outputs": [
    {
     "name": "stdin",
     "output_type": "stream",
     "text": [
      " 30 50 70 20 60\n"
     ]
    }
   ],
   "source": [
    "An = list(map(int, input().split()))"
   ]
  },
  {
   "cell_type": "code",
   "execution_count": 3,
   "id": "7bb54cdd-645c-49ea-bc4c-32b400281f66",
   "metadata": {},
   "outputs": [
    {
     "name": "stdin",
     "output_type": "stream",
     "text": [
      " NYYNN\n",
      " NNYNN\n",
      " NNNYY\n",
      " YNNNN\n",
      " YNNNN\n"
     ]
    }
   ],
   "source": [
    "Sn = [input() for _ in range(N)]"
   ]
  },
  {
   "cell_type": "code",
   "execution_count": 4,
   "id": "f97d2ebd-ec5e-48de-8765-290dbf7c3ad7",
   "metadata": {},
   "outputs": [
    {
     "name": "stdin",
     "output_type": "stream",
     "text": [
      " 3\n"
     ]
    }
   ],
   "source": [
    "Q = int(input())"
   ]
  },
  {
   "cell_type": "code",
   "execution_count": 5,
   "id": "1d27a356-18ad-49c3-9e72-a721a122119f",
   "metadata": {},
   "outputs": [
    {
     "name": "stdin",
     "output_type": "stream",
     "text": [
      " 1 3\n",
      " 3 1\n",
      " 4 5\n"
     ]
    }
   ],
   "source": [
    "UVq = [list(map(int, input().split())) for _ in range(Q)]"
   ]
  },
  {
   "cell_type": "code",
   "execution_count": 10,
   "id": "238f6e8a-ab34-46d5-8032-d606bea0d717",
   "metadata": {},
   "outputs": [],
   "source": [
    "dist = [[10**10] * N for _ in range(N)]\n",
    "value = [[0] * N for _ in range(N)]\n",
    "for i in range(N):\n",
    "    dist[i][i] = 0\n",
    "for i, S in enumerate(Sn):\n",
    "    for j, s in enumerate(S):\n",
    "        if s == 'N':\n",
    "            continue\n",
    "        dist[i][j] = 1\n",
    "        value[i][j] = An[j]"
   ]
  },
  {
   "cell_type": "code",
   "execution_count": 16,
   "id": "e3a04d96-f4b6-43d5-8b20-ca7535cf36ac",
   "metadata": {},
   "outputs": [],
   "source": [
    "for k in range(N):\n",
    "    for i in range(N):\n",
    "        for j in range(N):\n",
    "            if dist[i][j] > dist[i][k] + dist[k][j]:\n",
    "                dist[i][j] = dist[i][k] + dist[k][j]\n",
    "                value[i][j] = value[i][k] + value[k][j]\n",
    "            elif dist[i][j] == dist[i][k] + dist[k][j]:\n",
    "                if value[i][j] < value[i][k] + value[k][j]:\n",
    "                    value[i][j] = value[i][k] + value[k][j]"
   ]
  },
  {
   "cell_type": "code",
   "execution_count": 17,
   "id": "e3ba3faf-1f7a-4b99-98c2-245ef21335e9",
   "metadata": {},
   "outputs": [
    {
     "name": "stdout",
     "output_type": "stream",
     "text": [
      "1 100\n",
      "2 160\n",
      "3 180\n"
     ]
    }
   ],
   "source": [
    "for U, V in UVq:\n",
    "    if dist[U-1][V-1] == 10**10:\n",
    "        print('Impossible')\n",
    "    else:\n",
    "        print(dist[U-1][V-1], value[U-1][V-1]+An[U-1])"
   ]
  },
  {
   "cell_type": "code",
   "execution_count": 12,
   "id": "176f7d72-3c3b-4ee6-b17f-cd7797e5f8ff",
   "metadata": {},
   "outputs": [
    {
     "data": {
      "text/plain": [
       "([[0, 1, 1, 10000000000, 10000000000],\n",
       "  [10000000000, 0, 1, 10000000000, 10000000000],\n",
       "  [10000000000, 10000000000, 0, 1, 1],\n",
       "  [1, 10000000000, 10000000000, 0, 10000000000],\n",
       "  [1, 10000000000, 10000000000, 10000000000, 0]],\n",
       " [[0, 50, 70, 0, 0],\n",
       "  [0, 0, 70, 0, 0],\n",
       "  [0, 0, 0, 20, 60],\n",
       "  [30, 0, 0, 0, 0],\n",
       "  [30, 0, 0, 0, 0]])"
      ]
     },
     "execution_count": 12,
     "metadata": {},
     "output_type": "execute_result"
    }
   ],
   "source": [
    "dist, value"
   ]
  },
  {
   "cell_type": "code",
   "execution_count": null,
   "id": "36a55a4f-92a2-464a-b38d-50efd62b5a41",
   "metadata": {},
   "outputs": [],
   "source": []
  }
 ],
 "metadata": {
  "kernelspec": {
   "display_name": "Python 3",
   "language": "python",
   "name": "python3"
  },
  "language_info": {
   "codemirror_mode": {
    "name": "ipython",
    "version": 3
   },
   "file_extension": ".py",
   "mimetype": "text/x-python",
   "name": "python",
   "nbconvert_exporter": "python",
   "pygments_lexer": "ipython3",
   "version": "3.6.13"
  }
 },
 "nbformat": 4,
 "nbformat_minor": 5
}
