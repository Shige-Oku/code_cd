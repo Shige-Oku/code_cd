{
 "cells": [
  {
   "cell_type": "code",
   "execution_count": 1,
   "id": "602360a1-a36e-43f5-9a84-afc6e8cd200d",
   "metadata": {
    "tags": []
   },
   "outputs": [],
   "source": [
    "import sys\n",
    "import numpy as np\n",
    "import math\n",
    "import collections\n",
    "import copy\n",
    "import decimal\n",
    "import itertools\n",
    "import re\n",
    "import bisect\n",
    "import scipy\n",
    "import heapq\n",
    "from collections import deque \n",
    "from functools import reduce\n",
    "from itertools import product\n",
    "from itertools import combinations\n",
    "from functools import lru_cache\n",
    "from scipy.special import comb\n",
    "from numba import njit\n",
    "from bisect import bisect_right\n",
    "from bisect import bisect_left"
   ]
  },
  {
   "cell_type": "code",
   "execution_count": 2,
   "id": "5b70ea2a-e5ee-4f62-bbd4-b546d4b28738",
   "metadata": {
    "tags": []
   },
   "outputs": [
    {
     "name": "stdin",
     "output_type": "stream",
     "text": [
      " 3 5\n"
     ]
    }
   ],
   "source": [
    "N, D = map(int, input().split())"
   ]
  },
  {
   "cell_type": "code",
   "execution_count": 3,
   "id": "a562abf9-0d66-4278-8728-36f75f8cae3a",
   "metadata": {
    "tags": []
   },
   "outputs": [
    {
     "name": "stdin",
     "output_type": "stream",
     "text": [
      " xooox\n",
      " oooxx\n",
      " oooxo\n"
     ]
    }
   ],
   "source": [
    "Sn = [input() for _ in range(N)]"
   ]
  },
  {
   "cell_type": "code",
   "execution_count": 6,
   "id": "d3569c1f-9c0b-4aa8-aa56-8f281b5eae5f",
   "metadata": {
    "tags": []
   },
   "outputs": [],
   "source": [
    "day = [False] * D\n",
    "for d in range(D):\n",
    "    cnt = 0\n",
    "    for i in range(N):\n",
    "        if Sn[i][d] == 'o':\n",
    "            cnt += 1\n",
    "    if cnt >= N:\n",
    "        day[d] = True"
   ]
  },
  {
   "cell_type": "code",
   "execution_count": 9,
   "id": "3dc8a42c-2bcb-4d78-83a6-5829050f58ad",
   "metadata": {
    "tags": []
   },
   "outputs": [],
   "source": [
    "ans = 0\n",
    "cnt = 0\n",
    "for i in range(D):\n",
    "    if day[i]:\n",
    "        cnt += 1\n",
    "        ans = max(ans, cnt)\n",
    "    else:\n",
    "        cnt = 0"
   ]
  },
  {
   "cell_type": "code",
   "execution_count": 11,
   "id": "60a1abfd-b373-4663-904f-0fc332e108cf",
   "metadata": {
    "tags": []
   },
   "outputs": [
    {
     "name": "stdout",
     "output_type": "stream",
     "text": [
      "2\n"
     ]
    }
   ],
   "source": [
    "print(ans)"
   ]
  },
  {
   "cell_type": "code",
   "execution_count": 8,
   "id": "07fec1cc-9360-4489-94a1-12369bec3a87",
   "metadata": {
    "tags": []
   },
   "outputs": [
    {
     "data": {
      "text/plain": [
       "[False, True, True, False, False]"
      ]
     },
     "execution_count": 8,
     "metadata": {},
     "output_type": "execute_result"
    }
   ],
   "source": [
    "day"
   ]
  },
  {
   "cell_type": "code",
   "execution_count": null,
   "id": "8687c2dc-569b-44c3-8851-7221179b6612",
   "metadata": {},
   "outputs": [],
   "source": []
  }
 ],
 "metadata": {
  "kernelspec": {
   "display_name": "Python 3 (ipykernel)",
   "language": "python",
   "name": "python3"
  },
  "language_info": {
   "codemirror_mode": {
    "name": "ipython",
    "version": 3
   },
   "file_extension": ".py",
   "mimetype": "text/x-python",
   "name": "python",
   "nbconvert_exporter": "python",
   "pygments_lexer": "ipython3",
   "version": "3.11.3"
  }
 },
 "nbformat": 4,
 "nbformat_minor": 5
}
