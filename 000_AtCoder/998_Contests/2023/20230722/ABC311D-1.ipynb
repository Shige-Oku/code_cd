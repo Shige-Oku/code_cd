{
 "cells": [
  {
   "cell_type": "code",
   "execution_count": 1,
   "id": "e4462310-14d5-4fc0-a72c-ae43756a779f",
   "metadata": {
    "tags": []
   },
   "outputs": [],
   "source": [
    "import sys\n",
    "import numpy as np\n",
    "import math\n",
    "import collections\n",
    "import copy\n",
    "import decimal\n",
    "import itertools\n",
    "import re\n",
    "import bisect\n",
    "import scipy\n",
    "import heapq\n",
    "from collections import deque \n",
    "from functools import reduce\n",
    "from itertools import product\n",
    "from itertools import combinations\n",
    "from functools import lru_cache\n",
    "from scipy.special import comb\n",
    "from numba import njit\n",
    "from bisect import bisect_right\n",
    "from bisect import bisect_left"
   ]
  },
  {
   "cell_type": "code",
   "execution_count": 2,
   "id": "325320e6-06ca-4626-8d85-a41cfb5b4ccf",
   "metadata": {
    "tags": []
   },
   "outputs": [
    {
     "name": "stdin",
     "output_type": "stream",
     "text": [
      " 6 6\n"
     ]
    }
   ],
   "source": [
    "N, M = map(int, input().split())"
   ]
  },
  {
   "cell_type": "code",
   "execution_count": 4,
   "id": "f4e790ef-cf7d-4b8b-a4c9-76657ce425bc",
   "metadata": {
    "tags": []
   },
   "outputs": [
    {
     "name": "stdin",
     "output_type": "stream",
     "text": [
      " ######\n",
      " #....#\n",
      " #.#..#\n",
      " #..#.#\n",
      " #....#\n",
      " ######\n"
     ]
    }
   ],
   "source": [
    "Sn = [input() for _ in range(N)]"
   ]
  },
  {
   "cell_type": "code",
   "execution_count": 28,
   "id": "2156f3d0-b91c-4223-b5ed-4ebb473209f4",
   "metadata": {
    "tags": []
   },
   "outputs": [],
   "source": [
    "def queAdd(h, w, m, q, s):\n",
    "    for i, (x, y) in enumerate(((1, 0), (-1, 0), (0, 1), (0, -1))):\n",
    "        nx = h + x\n",
    "        ny = w + y\n",
    "        if nx < 0 or nx >= N:\n",
    "            continue\n",
    "        if ny < 0 or ny >= M:\n",
    "            continue\n",
    "        if Sn[nx][ny] == '#':\n",
    "            continue\n",
    "        if i == m:\n",
    "            continue\n",
    "        if (nx, ny, i) in s:\n",
    "            continue\n",
    "        q.append((nx, ny, i))\n",
    "        s.add((nx, ny, i))\n",
    "        visit[nx][ny] = True\n",
    "        \n",
    "    return"
   ]
  },
  {
   "cell_type": "code",
   "execution_count": 47,
   "id": "7cc53bfd-a446-496a-a586-050e05e1d579",
   "metadata": {
    "tags": []
   },
   "outputs": [],
   "source": [
    "from collections import deque\n",
    "def solve():\n",
    "    q = deque()\n",
    "    s = set()\n",
    "    queAdd(1, 1, 5, q, s)\n",
    "    visit[1][1] = True\n",
    "    while q:\n",
    "        h, w, m = q.popleft()\n",
    "        # print(h, w, m)\n",
    "        if m == 0:\n",
    "            x = 1\n",
    "            y = 0\n",
    "        elif m == 1:\n",
    "            x = -1\n",
    "            y = 0\n",
    "        elif m == 2:\n",
    "            x = 0\n",
    "            y = 1\n",
    "        else:\n",
    "            x = 0\n",
    "            y = -1\n",
    "        nh = h + x\n",
    "        nw = w + y\n",
    "        # print(nh, nw, Sn[nh][nw])\n",
    "        if Sn[nh][nw] == '.':\n",
    "            q.append((nh, nw, m))\n",
    "            s.add((nh, nw, m))\n",
    "            visit[nh][nw] = True\n",
    "        else:\n",
    "            queAdd(h, w, m, q, s)\n",
    "\n",
    "    return"
   ]
  },
  {
   "cell_type": "code",
   "execution_count": 48,
   "id": "e3463ae1-4ed8-49e1-be32-dfa007e1ad79",
   "metadata": {
    "tags": []
   },
   "outputs": [],
   "source": [
    "visit = [[False] * (M) for _ in range(N)]\n",
    "solve()"
   ]
  },
  {
   "cell_type": "code",
   "execution_count": 51,
   "id": "c992894e-22a7-4fc2-8a9d-14ea869c2e9e",
   "metadata": {
    "tags": []
   },
   "outputs": [
    {
     "name": "stdout",
     "output_type": "stream",
     "text": [
      "12\n"
     ]
    }
   ],
   "source": [
    "ans = 0\n",
    "for v in visit:\n",
    "    ans += sum(v)\n",
    "print(ans)"
   ]
  },
  {
   "cell_type": "code",
   "execution_count": 49,
   "id": "8f25ff72-d416-40ad-9c4a-6695ae0c78a7",
   "metadata": {
    "tags": []
   },
   "outputs": [
    {
     "data": {
      "text/plain": [
       "[[False, False, False, False, False, False],\n",
       " [False, True, True, True, True, False],\n",
       " [False, True, False, False, True, False],\n",
       " [False, True, False, False, True, False],\n",
       " [False, True, True, True, True, False],\n",
       " [False, False, False, False, False, False]]"
      ]
     },
     "execution_count": 49,
     "metadata": {},
     "output_type": "execute_result"
    }
   ],
   "source": [
    "visit"
   ]
  },
  {
   "cell_type": "code",
   "execution_count": 35,
   "id": "bf7ab2dc-07d0-4fe0-8609-2f0e452f2c2c",
   "metadata": {
    "tags": []
   },
   "outputs": [],
   "source": [
    "q = deque()\n",
    "s = set()\n",
    "queAdd(1, 1, 5, q, s)\n",
    "visit[1][1] = True\n"
   ]
  },
  {
   "cell_type": "code",
   "execution_count": 36,
   "id": "5f84b9e6-96c9-4ec3-a4a6-40dc9eb3d6f6",
   "metadata": {
    "tags": []
   },
   "outputs": [
    {
     "data": {
      "text/plain": [
       "deque([(2, 1, 0), (1, 2, 2)])"
      ]
     },
     "execution_count": 36,
     "metadata": {},
     "output_type": "execute_result"
    }
   ],
   "source": [
    "q"
   ]
  },
  {
   "cell_type": "code",
   "execution_count": null,
   "id": "c9d0ba96-84ad-400e-b6af-4009e61c29bf",
   "metadata": {},
   "outputs": [],
   "source": []
  }
 ],
 "metadata": {
  "kernelspec": {
   "display_name": "Python 3 (ipykernel)",
   "language": "python",
   "name": "python3"
  },
  "language_info": {
   "codemirror_mode": {
    "name": "ipython",
    "version": 3
   },
   "file_extension": ".py",
   "mimetype": "text/x-python",
   "name": "python",
   "nbconvert_exporter": "python",
   "pygments_lexer": "ipython3",
   "version": "3.11.3"
  }
 },
 "nbformat": 4,
 "nbformat_minor": 5
}
