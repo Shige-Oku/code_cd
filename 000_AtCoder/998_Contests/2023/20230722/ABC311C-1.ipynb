{
 "cells": [
  {
   "cell_type": "code",
   "execution_count": 1,
   "id": "53d79575-7dc9-4f7d-ad46-570117540ccc",
   "metadata": {
    "tags": []
   },
   "outputs": [],
   "source": [
    "import sys\n",
    "import numpy as np\n",
    "import math\n",
    "import collections\n",
    "import copy\n",
    "import decimal\n",
    "import itertools\n",
    "import re\n",
    "import bisect\n",
    "import scipy\n",
    "import heapq\n",
    "from collections import deque \n",
    "from functools import reduce\n",
    "from itertools import product\n",
    "from itertools import combinations\n",
    "from functools import lru_cache\n",
    "from scipy.special import comb\n",
    "from numba import njit\n",
    "from bisect import bisect_right\n",
    "from bisect import bisect_left"
   ]
  },
  {
   "cell_type": "code",
   "execution_count": 20,
   "id": "a86fcc33-320c-4f2d-ae4a-aa8897cdf2a6",
   "metadata": {
    "tags": []
   },
   "outputs": [
    {
     "name": "stdin",
     "output_type": "stream",
     "text": [
      " 8\n"
     ]
    }
   ],
   "source": [
    "N = int(input())"
   ]
  },
  {
   "cell_type": "code",
   "execution_count": 21,
   "id": "7759ed3b-519c-4682-96bd-cc0783ca0c18",
   "metadata": {
    "tags": []
   },
   "outputs": [
    {
     "name": "stdin",
     "output_type": "stream",
     "text": [
      " 3 7 4 7 3 3 8 2\n"
     ]
    }
   ],
   "source": [
    "An = list(map(int, input().split()))"
   ]
  },
  {
   "cell_type": "code",
   "execution_count": 31,
   "id": "b4a242eb-c189-43a5-8dbc-16df7e07afa0",
   "metadata": {
    "tags": []
   },
   "outputs": [],
   "source": [
    "def solve(s, rt):\n",
    "    rt.append(s)\n",
    "    visit[s] = True\n",
    "    n = An[s-1]\n",
    "    while True:\n",
    "        rt.append(n)\n",
    "        visit[n] = True\n",
    "        n = An[n-1]\n",
    "        if visit[n]:\n",
    "            p = rt.index(n)\n",
    "            rt = rt[p:]\n",
    "            print(len(rt))\n",
    "            print(*rt, sep=' ')\n",
    "            return True\n",
    "    return False"
   ]
  },
  {
   "cell_type": "code",
   "execution_count": 32,
   "id": "4c1f7a21-8f31-4c67-9b00-12cc9484b992",
   "metadata": {
    "tags": []
   },
   "outputs": [
    {
     "name": "stdout",
     "output_type": "stream",
     "text": [
      "3\n",
      "7 8 2\n"
     ]
    }
   ],
   "source": [
    "visit = [False] * (N+1)\n",
    "for i, A in enumerate(An, 1):\n",
    "    if visit[i]:\n",
    "        continue\n",
    "    rt = []\n",
    "    if solve(i, rt):\n",
    "        break"
   ]
  },
  {
   "cell_type": "code",
   "execution_count": 30,
   "id": "ff12f73d-fdfc-4aff-b6fd-de900d3443c2",
   "metadata": {
    "tags": []
   },
   "outputs": [],
   "source": [
    "graph = [[] for _ in range(N+1)]\n",
    "for i, A in enumerate(An, 1):\n",
    "    graph[i].append(A)"
   ]
  },
  {
   "cell_type": "code",
   "execution_count": 5,
   "id": "25484f28-8527-4c1f-b315-d1b720c420ba",
   "metadata": {
    "tags": []
   },
   "outputs": [
    {
     "data": {
      "text/plain": [
       "[[], [6], [7], [2], [1], [3], [4], [5]]"
      ]
     },
     "execution_count": 5,
     "metadata": {},
     "output_type": "execute_result"
    }
   ],
   "source": [
    "graph"
   ]
  },
  {
   "cell_type": "code",
   "execution_count": 7,
   "id": "5c992214-d0cc-4bd0-926f-e0fe112fff04",
   "metadata": {
    "tags": []
   },
   "outputs": [],
   "source": [
    "from collections import deque\n",
    "def bfs(s, r):\n",
    "    q = deque()\n",
    "    q.append(s)\n",
    "    visit[s] = True\n",
    "    while q:\n",
    "        p = q.popleft()\n",
    "        for n in graph[p]:\n",
    "            \n",
    "    return True"
   ]
  },
  {
   "cell_type": "code",
   "execution_count": 9,
   "id": "e4c0cff9-70e5-40ce-8273-2b5115abf4e8",
   "metadata": {
    "tags": []
   },
   "outputs": [
    {
     "name": "stdout",
     "output_type": "stream",
     "text": [
      "0\n",
      "\n"
     ]
    }
   ],
   "source": [
    "visit = [False] * (N+1)\n",
    "for i in range(1, N+1):\n",
    "    rt = []\n",
    "    if not visit[i]:\n",
    "        if bfs(i, rt):\n",
    "            print(len(rt))\n",
    "            print(*rt, sep=' ')\n",
    "            break"
   ]
  },
  {
   "cell_type": "code",
   "execution_count": null,
   "id": "a1ec5a28-aa2b-4e83-88b2-407bfcf6e9aa",
   "metadata": {},
   "outputs": [],
   "source": []
  }
 ],
 "metadata": {
  "kernelspec": {
   "display_name": "Python 3 (ipykernel)",
   "language": "python",
   "name": "python3"
  },
  "language_info": {
   "codemirror_mode": {
    "name": "ipython",
    "version": 3
   },
   "file_extension": ".py",
   "mimetype": "text/x-python",
   "name": "python",
   "nbconvert_exporter": "python",
   "pygments_lexer": "ipython3",
   "version": "3.11.3"
  }
 },
 "nbformat": 4,
 "nbformat_minor": 5
}
