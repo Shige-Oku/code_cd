{
 "cells": [
  {
   "cell_type": "code",
   "execution_count": 1,
   "id": "92351575-95ce-41eb-adb8-40662b2b0451",
   "metadata": {
    "tags": []
   },
   "outputs": [],
   "source": [
    "import sys\n",
    "import numpy as np\n",
    "import math\n",
    "import collections\n",
    "import copy\n",
    "import decimal\n",
    "import itertools\n",
    "import re\n",
    "import bisect\n",
    "import scipy\n",
    "import heapq\n",
    "from collections import deque \n",
    "from functools import reduce\n",
    "from itertools import product\n",
    "from itertools import combinations\n",
    "from functools import lru_cache\n",
    "from scipy.special import comb\n",
    "from numba import njit\n",
    "from bisect import bisect_right\n",
    "from bisect import bisect_left"
   ]
  },
  {
   "cell_type": "code",
   "execution_count": 1,
   "id": "291485a6-9c12-4bac-b139-192bfa27a985",
   "metadata": {
    "tags": []
   },
   "outputs": [
    {
     "name": "stdin",
     "output_type": "stream",
     "text": [
      " 264428617\n"
     ]
    }
   ],
   "source": [
    "D = int(input())"
   ]
  },
  {
   "cell_type": "code",
   "execution_count": 2,
   "id": "da09b158-d8c3-4f79-9ac0-df451860d94b",
   "metadata": {
    "tags": []
   },
   "outputs": [],
   "source": [
    "ans = 10**10\n",
    "for x in range(int(D**.5)+2):\n",
    "    y = int(abs((D - x*x)) ** .5)\n",
    "    ans = min(ans, abs(x*x + y*y - D))\n",
    "    ans = min(ans, abs(x*x + (y+1)*(y+1) - D))"
   ]
  },
  {
   "cell_type": "code",
   "execution_count": 3,
   "id": "f54e5b6c-067a-4520-bf19-e0191948f2c0",
   "metadata": {
    "tags": []
   },
   "outputs": [
    {
     "name": "stdout",
     "output_type": "stream",
     "text": [
      "32\n"
     ]
    }
   ],
   "source": [
    "print(ans)"
   ]
  },
  {
   "cell_type": "code",
   "execution_count": 5,
   "id": "258e03e8-3904-4fc9-aaf9-ed5e6b89a794",
   "metadata": {
    "tags": []
   },
   "outputs": [],
   "source": [
    "ans = 10**20\n",
    "y = int(D**.5) + 2\n",
    "for x in range(int(D**.5)+2):\n",
    "    while y > 0 and x*x + y*y > D:\n",
    "        y -= 1\n",
    "    ans = min(ans, abs(x*x + y*y - D))\n",
    "    ans = min(ans, abs(x*x + (y+1)*(y+1) - D))\n",
    "              "
   ]
  },
  {
   "cell_type": "code",
   "execution_count": 6,
   "id": "5108e2ec-d137-42e2-a394-bb531a9a4a05",
   "metadata": {
    "tags": []
   },
   "outputs": [
    {
     "name": "stdout",
     "output_type": "stream",
     "text": [
      "32\n"
     ]
    }
   ],
   "source": [
    "print(ans)"
   ]
  },
  {
   "cell_type": "code",
   "execution_count": 9,
   "id": "c598e944-2e6d-432b-b874-c3311ba36a97",
   "metadata": {
    "tags": []
   },
   "outputs": [
    {
     "data": {
      "text/plain": [
       "148934"
      ]
     },
     "execution_count": 9,
     "metadata": {},
     "output_type": "execute_result"
    }
   ],
   "source": [
    "len(primes)"
   ]
  },
  {
   "cell_type": "code",
   "execution_count": 3,
   "id": "490c791d-3569-4d72-898c-380ecb3f52c6",
   "metadata": {
    "tags": []
   },
   "outputs": [],
   "source": [
    "def getPrimes(n):\n",
    "    ret = []\n",
    "    isPrime = [True] * (n+1)\n",
    "    isPrime[:2] = False, False\n",
    "    isCheck = [False] * (n+1)\n",
    "    for i in range(2, int(n**.5)+1):\n",
    "        if isCheck[i]:\n",
    "            continue\n",
    "        for j in range(i*i, n+1, i):\n",
    "            isCheck[j] = True\n",
    "            isPrime[j] = False\n",
    "    for i in range(2, n+1):\n",
    "        if isPrime[i]:\n",
    "            ret.append(i)\n",
    "    return ret"
   ]
  },
  {
   "cell_type": "code",
   "execution_count": 8,
   "id": "f5503b8e-e174-415a-b0c9-9d2bda0cfab2",
   "metadata": {
    "tags": []
   },
   "outputs": [],
   "source": [
    "primes = [0] + getPrimes(2*10**6 + 1)"
   ]
  },
  {
   "cell_type": "code",
   "execution_count": 6,
   "id": "67664ca6-9d90-404e-b603-766058c9b233",
   "metadata": {
    "tags": []
   },
   "outputs": [],
   "source": [
    "def my_bisect(n):\n",
    "    ok = s\n",
    "    ng = e\n",
    "    while ok + 1 < ng:\n",
    "        m = (ng + ok) // 2\n",
    "        if m * (m+1) // 2 >= n:\n",
    "            ok = m\n",
    "        else:\n",
    "            ng = m\n",
    "    return ok"
   ]
  },
  {
   "cell_type": "code",
   "execution_count": null,
   "id": "75e9f464-8b91-4e58-8c24-49d18061b69c",
   "metadata": {},
   "outputs": [],
   "source": []
  }
 ],
 "metadata": {
  "kernelspec": {
   "display_name": "Python 3 (ipykernel)",
   "language": "python",
   "name": "python3"
  },
  "language_info": {
   "codemirror_mode": {
    "name": "ipython",
    "version": 3
   },
   "file_extension": ".py",
   "mimetype": "text/x-python",
   "name": "python",
   "nbconvert_exporter": "python",
   "pygments_lexer": "ipython3",
   "version": "3.11.3"
  }
 },
 "nbformat": 4,
 "nbformat_minor": 5
}
