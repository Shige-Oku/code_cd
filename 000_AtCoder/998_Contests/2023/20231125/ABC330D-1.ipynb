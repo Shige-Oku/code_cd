{
 "cells": [
  {
   "cell_type": "code",
   "execution_count": 1,
   "id": "b6d770fd-2c11-4d95-b633-8e794a7e27b5",
   "metadata": {
    "tags": []
   },
   "outputs": [],
   "source": [
    "import sys\n",
    "import numpy as np\n",
    "import math\n",
    "import collections\n",
    "import copy\n",
    "import decimal\n",
    "import itertools\n",
    "import re\n",
    "import bisect\n",
    "import scipy\n",
    "import heapq\n",
    "from collections import deque \n",
    "from functools import reduce\n",
    "from itertools import product\n",
    "from itertools import combinations\n",
    "from functools import lru_cache\n",
    "from scipy.special import comb\n",
    "from numba import njit\n",
    "from bisect import bisect_right\n",
    "from bisect import bisect_left"
   ]
  },
  {
   "cell_type": "code",
   "execution_count": 1,
   "id": "e6d5017d-1232-4212-8b3b-d98e50026613",
   "metadata": {
    "tags": []
   },
   "outputs": [
    {
     "name": "stdin",
     "output_type": "stream",
     "text": [
      " 3\n"
     ]
    }
   ],
   "source": [
    "N = int(input())"
   ]
  },
  {
   "cell_type": "code",
   "execution_count": 2,
   "id": "ba78e8b8-65c9-4f25-86ca-eacbf3424e30",
   "metadata": {
    "tags": []
   },
   "outputs": [
    {
     "name": "stdin",
     "output_type": "stream",
     "text": [
      " ooo\n",
      " oxx\n",
      " xxo\n"
     ]
    }
   ],
   "source": [
    "Sn = [input() for _ in range(N)]"
   ]
  },
  {
   "cell_type": "code",
   "execution_count": null,
   "id": "45f6f180-d6d9-48fa-9fe3-a7e697b0ff6f",
   "metadata": {},
   "outputs": [],
   "source": [
    "# コンテスト後"
   ]
  },
  {
   "cell_type": "code",
   "execution_count": 3,
   "id": "1ad17a7f-dbbb-47ac-8bb8-e7364bdf36bf",
   "metadata": {
    "tags": []
   },
   "outputs": [],
   "source": [
    "cnt_c = [0] * (N+1)\n",
    "for i in range(N):\n",
    "    for j in range(N):\n",
    "        if Sn[i][j] == 'o':\n",
    "            cnt_c[i] += 1\n",
    "cnt_r = [0] * (N+1)\n",
    "for j in range(N):\n",
    "    for i in range(N):\n",
    "        if Sn[i][j] == 'o':\n",
    "            cnt_r[j] += 1\n"
   ]
  },
  {
   "cell_type": "code",
   "execution_count": 6,
   "id": "f9c28f8d-9aed-4446-b4c1-b7310873920b",
   "metadata": {
    "tags": []
   },
   "outputs": [],
   "source": [
    "ans = 0\n",
    "for i in range(N):\n",
    "    for j in range(N):\n",
    "        if Sn[i][j] == 'o':\n",
    "            ans += (cnt_c[i]-1) * (cnt_r[j]-1)\n"
   ]
  },
  {
   "cell_type": "code",
   "execution_count": 7,
   "id": "3ca8c7f0-41de-48c2-8d2f-fdbff2a49af6",
   "metadata": {
    "tags": []
   },
   "outputs": [
    {
     "name": "stdout",
     "output_type": "stream",
     "text": [
      "4\n"
     ]
    }
   ],
   "source": [
    "print(ans)"
   ]
  },
  {
   "cell_type": "code",
   "execution_count": 5,
   "id": "da194792-bdcf-41e8-857c-828c43ec07af",
   "metadata": {
    "tags": []
   },
   "outputs": [
    {
     "data": {
      "text/plain": [
       "([3, 1, 1, 0], [2, 1, 2, 0])"
      ]
     },
     "execution_count": 5,
     "metadata": {},
     "output_type": "execute_result"
    }
   ],
   "source": [
    "cnt_c, cnt_r"
   ]
  },
  {
   "cell_type": "code",
   "execution_count": null,
   "id": "b8937924-0853-4901-a99c-7cd28916cc35",
   "metadata": {},
   "outputs": [],
   "source": [
    "# サンプルが合わない"
   ]
  },
  {
   "cell_type": "code",
   "execution_count": 48,
   "id": "297e53fa-0046-4931-97ea-8233bb751524",
   "metadata": {
    "tags": []
   },
   "outputs": [],
   "source": [
    "cnt_c = [[0] * (N+1) for _ in range(N+1)]\n",
    "for i in range(N):\n",
    "    for j in range(N-1, -1, -1):\n",
    "        cnt_c[i][j] = cnt_c[i][j+1]\n",
    "        if Sn[i][j] == 'o':\n",
    "            cnt_c[i][j] += 1\n",
    "cnt_r = [[0] * (N+1) for _ in range(N+1)]\n",
    "for j in range(N):\n",
    "    for i in range(N-1, -1, -1):\n",
    "        cnt_r[i][j] = cnt_r[i+1][j]\n",
    "        if Sn[i][j] == 'o':\n",
    "            cnt_r[i][j] += 1\n"
   ]
  },
  {
   "cell_type": "code",
   "execution_count": 59,
   "id": "e0fd0c93-8834-42be-9c56-4516737b3f3a",
   "metadata": {
    "tags": []
   },
   "outputs": [
    {
     "name": "stdout",
     "output_type": "stream",
     "text": [
      "0 0 3 2\n",
      "0 1 2 1\n",
      "0 2 1 2\n",
      "1 0 1 1\n",
      "2 2 1 1\n"
     ]
    }
   ],
   "source": [
    "ans = 0\n",
    "for i in range(N):\n",
    "    for j in range(N):\n",
    "        if Sn[i][j] == 'o':\n",
    "            ans += (cnt_c[i][j]-1) * (cnt_r[i][j]-1)\n",
    "            print(i, j, cnt_c[i][j], cnt_r[i][j])\n"
   ]
  },
  {
   "cell_type": "code",
   "execution_count": 58,
   "id": "3a874317-799f-4bd6-a928-3d0bcadb823b",
   "metadata": {
    "tags": []
   },
   "outputs": [
    {
     "name": "stdout",
     "output_type": "stream",
     "text": [
      "2\n"
     ]
    }
   ],
   "source": [
    "print(ans)"
   ]
  },
  {
   "cell_type": "code",
   "execution_count": 49,
   "id": "7afc50e3-2d8f-48f3-ac95-df55b794c877",
   "metadata": {
    "tags": []
   },
   "outputs": [
    {
     "data": {
      "text/plain": [
       "[[3, 2, 1, 0], [1, 0, 0, 0], [1, 1, 1, 0], [0, 0, 0, 0]]"
      ]
     },
     "execution_count": 49,
     "metadata": {},
     "output_type": "execute_result"
    }
   ],
   "source": [
    "cnt_c"
   ]
  },
  {
   "cell_type": "code",
   "execution_count": 50,
   "id": "07c8b5a0-900d-4e10-bb6b-dad52e235dd8",
   "metadata": {
    "tags": []
   },
   "outputs": [
    {
     "data": {
      "text/plain": [
       "[[2, 1, 2, 0], [1, 0, 1, 0], [0, 0, 1, 0], [0, 0, 0, 0]]"
      ]
     },
     "execution_count": 50,
     "metadata": {},
     "output_type": "execute_result"
    }
   ],
   "source": [
    "cnt_r"
   ]
  },
  {
   "cell_type": "code",
   "execution_count": 27,
   "id": "c5ba633e-99fa-4dc4-97dc-20f1e06f412a",
   "metadata": {
    "tags": []
   },
   "outputs": [],
   "source": [
    "cnt_c = [[0] * (N+1) for _ in range(N+1)]\n",
    "for i, S in enumerate(Sn, 1):\n",
    "    for j, s in enumerate(S, 1):\n",
    "        cnt_c[i][j] = cnt_c[i][j-1]\n",
    "        if s == 'o':\n",
    "            cnt_c[i][j] += 1\n",
    "        else:\n",
    "            \n",
    "cnt_r = [[0] * (N+1) for _ in range(N+1)]\n",
    "for j in range(1, N+1):\n",
    "    for i in range(1, N+1):\n",
    "        if Sn[j-1][i-1] == 'o':\n",
    "            cnt_r[j][i] = cnt_r[j][i-1] + 1\n",
    "for i in range(N):\n",
    "    cnt_r[i] = cnt_r[i][::-1]"
   ]
  },
  {
   "cell_type": "code",
   "execution_count": 29,
   "id": "35799584-d183-4cea-88c0-5d6816f309b2",
   "metadata": {
    "tags": []
   },
   "outputs": [
    {
     "data": {
      "text/plain": [
       "[[0, 0, 0, 0], [3, 2, 1, 0], [0, 0, 1, 0], [0, 0, 0, 1]]"
      ]
     },
     "execution_count": 29,
     "metadata": {},
     "output_type": "execute_result"
    }
   ],
   "source": [
    "cnt_r"
   ]
  },
  {
   "cell_type": "code",
   "execution_count": 46,
   "id": "359c8350-c9f2-4b1b-9d79-fe40faffd4ab",
   "metadata": {
    "tags": []
   },
   "outputs": [
    {
     "name": "stdout",
     "output_type": "stream",
     "text": [
      "2 0 x 0 0\n",
      "1 0 o 1 0\n",
      "0 0 o 2 1\n",
      "2 1 x 0 0\n",
      "1 1 x 0 0\n",
      "0 1 o 1 0\n",
      "2 2 o 1 0\n",
      "1 2 x 0 1\n",
      "0 2 o 1 0\n"
     ]
    }
   ],
   "source": [
    "cnt_r = [[0] * (N+1) for _ in range(N+1)]\n",
    "# for j in range(1):\n",
    "for j in range(N):\n",
    "    for i in range(N-1, -1, -1):\n",
    "        if Sn[i][j] == 'o':\n",
    "            cnt_r[i][j] = cnt_r[i+1][j] + 1\n",
    "        print(i, j, Sn[i][j], cnt_r[i][j], cnt_r[i+1][j])"
   ]
  },
  {
   "cell_type": "code",
   "execution_count": 47,
   "id": "f4639a39-cc69-4400-986c-41c135c12a59",
   "metadata": {
    "tags": []
   },
   "outputs": [
    {
     "data": {
      "text/plain": [
       "[[2, 1, 1, 0], [1, 0, 0, 0], [0, 0, 1, 0], [0, 0, 0, 0]]"
      ]
     },
     "execution_count": 47,
     "metadata": {},
     "output_type": "execute_result"
    }
   ],
   "source": [
    "cnt_r"
   ]
  },
  {
   "cell_type": "code",
   "execution_count": null,
   "id": "f5b605d8-7260-40cc-b580-ea2b27108dca",
   "metadata": {},
   "outputs": [],
   "source": []
  }
 ],
 "metadata": {
  "kernelspec": {
   "display_name": "Python 3 (ipykernel)",
   "language": "python",
   "name": "python3"
  },
  "language_info": {
   "codemirror_mode": {
    "name": "ipython",
    "version": 3
   },
   "file_extension": ".py",
   "mimetype": "text/x-python",
   "name": "python",
   "nbconvert_exporter": "python",
   "pygments_lexer": "ipython3",
   "version": "3.11.3"
  }
 },
 "nbformat": 4,
 "nbformat_minor": 5
}
