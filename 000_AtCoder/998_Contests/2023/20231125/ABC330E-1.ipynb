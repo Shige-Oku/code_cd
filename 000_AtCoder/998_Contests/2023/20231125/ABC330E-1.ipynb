{
 "cells": [
  {
   "cell_type": "code",
   "execution_count": 1,
   "id": "2eebeb9e-a9ad-4181-81c3-dd81ba3e5a32",
   "metadata": {
    "tags": []
   },
   "outputs": [],
   "source": [
    "import sys\n",
    "import numpy as np\n",
    "import math\n",
    "import collections\n",
    "import copy\n",
    "import decimal\n",
    "import itertools\n",
    "import re\n",
    "import bisect\n",
    "import scipy\n",
    "import heapq\n",
    "from collections import deque \n",
    "from functools import reduce\n",
    "from itertools import product\n",
    "from itertools import combinations\n",
    "from functools import lru_cache\n",
    "from scipy.special import comb\n",
    "from numba import njit\n",
    "from bisect import bisect_right\n",
    "from bisect import bisect_left"
   ]
  },
  {
   "cell_type": "code",
   "execution_count": 1,
   "id": "2080f7e5-f460-4f48-9a96-ae61884dcf60",
   "metadata": {},
   "outputs": [
    {
     "name": "stdin",
     "output_type": "stream",
     "text": [
      " 8 5\n"
     ]
    }
   ],
   "source": [
    "N, Q = map(int, input().split())"
   ]
  },
  {
   "cell_type": "code",
   "execution_count": 8,
   "id": "d624a33b-eedf-4138-a7ef-db81143f5cc2",
   "metadata": {
    "tags": []
   },
   "outputs": [
    {
     "name": "stdin",
     "output_type": "stream",
     "text": [
      " 2 0 2 2 1 1 2 5\n"
     ]
    }
   ],
   "source": [
    "An = list(map(int, input().split()))"
   ]
  },
  {
   "cell_type": "code",
   "execution_count": 3,
   "id": "967ede59-05cb-4391-b88a-96cdb512c3ed",
   "metadata": {
    "tags": []
   },
   "outputs": [
    {
     "name": "stdin",
     "output_type": "stream",
     "text": [
      " 4 3\n",
      " 4 4\n",
      " 6 3\n",
      " 8 1000000000\n",
      " 2 1\n"
     ]
    }
   ],
   "source": [
    "IXq = [list(map(int, input().split())) for _ in range(Q)]"
   ]
  },
  {
   "cell_type": "code",
   "execution_count": null,
   "id": "d877a8bc-71d3-46ab-bea2-1603fb658190",
   "metadata": {},
   "outputs": [],
   "source": [
    "# コンテスト後"
   ]
  },
  {
   "cell_type": "code",
   "execution_count": 16,
   "id": "ceaed178-529f-478e-99dc-0325c489accf",
   "metadata": {
    "tags": []
   },
   "outputs": [],
   "source": [
    "import heapq\n",
    "import collections \n",
    "An_c = collections.Counter(An)\n",
    "An2 = []\n",
    "for A in An:\n",
    "    An2.append(A)\n",
    "q = []\n",
    "for i in range(2* 10**5 + 1):\n",
    "    if i not in An_c:\n",
    "        heapq.heappush(q, i)"
   ]
  },
  {
   "cell_type": "code",
   "execution_count": 17,
   "id": "17dd8c5e-6e38-4d34-bd2d-0564f42ba1bc",
   "metadata": {
    "tags": []
   },
   "outputs": [
    {
     "name": "stdout",
     "output_type": "stream",
     "text": [
      "4\n",
      "3\n",
      "6\n",
      "5\n",
      "0\n"
     ]
    }
   ],
   "source": [
    "for I, X in IXq:\n",
    "    An_c[X] += 1\n",
    "    An_c[An2[I-1]] -= 1\n",
    "    if An_c[An2[I-1]]  == 0:\n",
    "        heapq.heappush(q, An2[I-1])\n",
    "    An2[I-1] = X\n",
    "    ans = -1\n",
    "    while q:\n",
    "        ans = heapq.heappop(q)\n",
    "        if An_c[ans] == 0:\n",
    "            print(ans)\n",
    "            heapq.heappush(q, ans)\n",
    "            break"
   ]
  },
  {
   "cell_type": "code",
   "execution_count": 13,
   "id": "e29418b3-eeb9-4486-a262-97c4b9989e04",
   "metadata": {
    "tags": []
   },
   "outputs": [
    {
     "data": {
      "text/plain": [
       "Counter({2: 4, 0: 1, 1: 4, 5: 1000000000, 3: 2, 4: 1, 1000000000: 1})"
      ]
     },
     "execution_count": 13,
     "metadata": {},
     "output_type": "execute_result"
    }
   ],
   "source": [
    "An_c"
   ]
  },
  {
   "cell_type": "code",
   "execution_count": 14,
   "id": "151d5126-2026-482f-a7b3-f3c7c324abdd",
   "metadata": {
    "tags": []
   },
   "outputs": [
    {
     "data": {
      "text/plain": [
       "([2, 0, 2, 2, 1, 1, 2, 5], [2, 0, 2, 2, 1, 1, 2, 5])"
      ]
     },
     "execution_count": 14,
     "metadata": {},
     "output_type": "execute_result"
    }
   ],
   "source": [
    "An, An2"
   ]
  },
  {
   "cell_type": "code",
   "execution_count": null,
   "id": "a8c05680-ecf1-4059-a8af-ed33642b9b63",
   "metadata": {},
   "outputs": [],
   "source": []
  }
 ],
 "metadata": {
  "kernelspec": {
   "display_name": "Python 3 (ipykernel)",
   "language": "python",
   "name": "python3"
  },
  "language_info": {
   "codemirror_mode": {
    "name": "ipython",
    "version": 3
   },
   "file_extension": ".py",
   "mimetype": "text/x-python",
   "name": "python",
   "nbconvert_exporter": "python",
   "pygments_lexer": "ipython3",
   "version": "3.11.3"
  }
 },
 "nbformat": 4,
 "nbformat_minor": 5
}
