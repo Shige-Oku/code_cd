{
 "cells": [
  {
   "cell_type": "code",
   "execution_count": 1,
   "id": "20aaed4f-6899-4871-8abb-fc003e254ee5",
   "metadata": {},
   "outputs": [],
   "source": [
    "import sys\n",
    "import numpy as np\n",
    "import math\n",
    "import collections\n",
    "import copy\n",
    "import decimal\n",
    "import itertools\n",
    "import re\n",
    "import bisect\n",
    "import scipy\n",
    "import heapq\n",
    "from collections import deque \n",
    "from functools import reduce\n",
    "from itertools import product\n",
    "from itertools import combinations\n",
    "from functools import lru_cache\n",
    "from scipy.special import comb\n",
    "from numba import njit\n",
    "from bisect import bisect_right\n",
    "from bisect import bisect_left"
   ]
  },
  {
   "cell_type": "code",
   "execution_count": 33,
   "id": "d9f08427-4c37-4b99-ab8c-b8cc20bad6d8",
   "metadata": {},
   "outputs": [
    {
     "name": "stdin",
     "output_type": "stream",
     "text": [
      " 3 2\n"
     ]
    }
   ],
   "source": [
    "H, W = map(int, input().split())"
   ]
  },
  {
   "cell_type": "code",
   "execution_count": 49,
   "id": "a716d72f-0298-4247-a11d-d9d978124f14",
   "metadata": {},
   "outputs": [
    {
     "name": "stdin",
     "output_type": "stream",
     "text": [
      " ##\n",
      " ##\n",
      " #.\n"
     ]
    }
   ],
   "source": [
    "Sh = [input() for _ in range(H)]"
   ]
  },
  {
   "cell_type": "code",
   "execution_count": 53,
   "id": "3d7f60a9-b31c-423d-a7a0-30643ef998d4",
   "metadata": {},
   "outputs": [],
   "source": [
    "def solve():\n",
    "    L, R, U, D = W, 0, H, 0\n",
    "    for h in range(H):\n",
    "        for w in range(W):\n",
    "            if Sh[h][w] == '#':\n",
    "                L = min(L, w)\n",
    "                R = max(R, w)\n",
    "                U = min(U, h)\n",
    "                D = max(D, h)\n",
    "    for h in range(U, D+1):\n",
    "        for w in range(L, R+1):\n",
    "            if Sh[h][w] == '.':\n",
    "                return h, w\n"
   ]
  },
  {
   "cell_type": "code",
   "execution_count": 55,
   "id": "110b376d-5e87-4814-8947-451d27781977",
   "metadata": {},
   "outputs": [
    {
     "name": "stdout",
     "output_type": "stream",
     "text": [
      "3 2\n"
     ]
    }
   ],
   "source": [
    "h, w = solve()\n",
    "print(h+1, w+1)"
   ]
  },
  {
   "cell_type": "code",
   "execution_count": null,
   "id": "fe7471fe-6666-4ad9-84aa-0f816b3e5320",
   "metadata": {},
   "outputs": [],
   "source": [
    "# WA"
   ]
  },
  {
   "cell_type": "code",
   "execution_count": 79,
   "id": "774523ab-8a28-4686-ad6e-63aa81b3717f",
   "metadata": {},
   "outputs": [],
   "source": [
    "Sh2 = []\n",
    "Sh2.append('#' * (W + 2))\n",
    "for s in Sh:\n",
    "    Sh2.append('#' + s + '#')\n",
    "Sh2.append('#' * (W + 2))\n"
   ]
  },
  {
   "cell_type": "code",
   "execution_count": 80,
   "id": "abf6a152-f33a-47ba-b7eb-fc03f6f467b4",
   "metadata": {},
   "outputs": [],
   "source": [
    "def myCount(h, w):\n",
    "    cnt = 0\n",
    "    for i in range(h-1, h+2):\n",
    "        for j in range(w-1, w+2):\n",
    "            if Sh2[i][j] == '#':\n",
    "                cnt += 1\n",
    "    return cnt"
   ]
  },
  {
   "cell_type": "code",
   "execution_count": 81,
   "id": "6e79f4ad-569a-467d-b056-6cd736449899",
   "metadata": {},
   "outputs": [],
   "source": [
    "def solve():\n",
    "    cnt = 0\n",
    "    rh, rw = 0, 0\n",
    "    for h in range(1, H+1):\n",
    "        for w in range(1, W+1):\n",
    "            if Sh2[h][w] == '#':\n",
    "                continue\n",
    "            c = myCount(h, w)\n",
    "            if c > cnt:\n",
    "                cnt = c\n",
    "                rh, rw = h,w\n",
    "    return rh, rw\n"
   ]
  },
  {
   "cell_type": "code",
   "execution_count": 82,
   "id": "a8a56895-1652-4d75-b96e-e56b9a14dec0",
   "metadata": {},
   "outputs": [
    {
     "name": "stdout",
     "output_type": "stream",
     "text": [
      "3 2\n"
     ]
    }
   ],
   "source": [
    "h, w = solve()\n",
    "print(h, w)"
   ]
  },
  {
   "cell_type": "code",
   "execution_count": 40,
   "id": "e6ddd6b0-8185-46af-8c0c-c03ad3e18958",
   "metadata": {},
   "outputs": [
    {
     "data": {
      "text/plain": [
       "['####', '##.#', '####', '####', '####']"
      ]
     },
     "execution_count": 40,
     "metadata": {},
     "output_type": "execute_result"
    }
   ],
   "source": [
    "Sh2"
   ]
  },
  {
   "cell_type": "code",
   "execution_count": 10,
   "id": "bf6a3634-0226-437c-b980-4f2d56326642",
   "metadata": {},
   "outputs": [
    {
     "data": {
      "text/plain": [
       "'#......'"
      ]
     },
     "execution_count": 10,
     "metadata": {},
     "output_type": "execute_result"
    }
   ],
   "source": [
    "'#' + s"
   ]
  },
  {
   "cell_type": "code",
   "execution_count": null,
   "id": "0a31ab78-a6fd-451c-a357-c83019c75d44",
   "metadata": {},
   "outputs": [],
   "source": []
  }
 ],
 "metadata": {
  "kernelspec": {
   "display_name": "Python 3",
   "language": "python",
   "name": "python3"
  },
  "language_info": {
   "codemirror_mode": {
    "name": "ipython",
    "version": 3
   },
   "file_extension": ".py",
   "mimetype": "text/x-python",
   "name": "python",
   "nbconvert_exporter": "python",
   "pygments_lexer": "ipython3",
   "version": "3.6.13"
  }
 },
 "nbformat": 4,
 "nbformat_minor": 5
}
