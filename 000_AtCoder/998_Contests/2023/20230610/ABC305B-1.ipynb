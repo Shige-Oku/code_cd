{
 "cells": [
  {
   "cell_type": "code",
   "execution_count": 1,
   "id": "c21cfd62-e308-4d95-9133-a7056330efbe",
   "metadata": {},
   "outputs": [],
   "source": [
    "import sys\n",
    "import numpy as np\n",
    "import math\n",
    "import collections\n",
    "import copy\n",
    "import decimal\n",
    "import itertools\n",
    "import re\n",
    "import bisect\n",
    "import scipy\n",
    "import heapq\n",
    "from collections import deque \n",
    "from functools import reduce\n",
    "from itertools import product\n",
    "from itertools import combinations\n",
    "from functools import lru_cache\n",
    "from scipy.special import comb\n",
    "from numba import njit\n",
    "from bisect import bisect_right\n",
    "from bisect import bisect_left"
   ]
  },
  {
   "cell_type": "code",
   "execution_count": 29,
   "id": "3e3da0e9-c35b-4136-9f69-c17ae010b4cb",
   "metadata": {},
   "outputs": [
    {
     "name": "stdin",
     "output_type": "stream",
     "text": [
      " C F\n"
     ]
    }
   ],
   "source": [
    "P, Q = input().split()"
   ]
  },
  {
   "cell_type": "code",
   "execution_count": 30,
   "id": "1fc7dd5c-cd57-43d5-8f2f-2fcd5efbf39d",
   "metadata": {},
   "outputs": [
    {
     "name": "stdout",
     "output_type": "stream",
     "text": [
      "10\n"
     ]
    }
   ],
   "source": [
    "dis = [3, 1, 4, 1, 5, 9]\n",
    "p = ord(P) - ord('A')\n",
    "q = ord(Q) - ord('A')\n",
    "l = min(p, q)\n",
    "r = max(p, q)\n",
    "print(sum(dis[l:r]))"
   ]
  },
  {
   "cell_type": "code",
   "execution_count": 24,
   "id": "304b2632-77f9-4a68-82d6-4c09e1800190",
   "metadata": {},
   "outputs": [
    {
     "data": {
      "text/plain": [
       "(6, 1, 1, 6, [])"
      ]
     },
     "execution_count": 24,
     "metadata": {},
     "output_type": "execute_result"
    }
   ],
   "source": [
    "p, q, l, r, dis[p:q]"
   ]
  },
  {
   "cell_type": "code",
   "execution_count": 20,
   "id": "064e3f7c-3ba1-466c-bde1-4231b5fc2c8d",
   "metadata": {},
   "outputs": [
    {
     "data": {
      "text/plain": [
       "[0, 3, 4, 8, 9, 14, 23]"
      ]
     },
     "execution_count": 20,
     "metadata": {},
     "output_type": "execute_result"
    }
   ],
   "source": [
    "dis_c"
   ]
  },
  {
   "cell_type": "code",
   "execution_count": null,
   "id": "06ccc3ca-f424-4eb0-beb5-d88c2bb91836",
   "metadata": {},
   "outputs": [],
   "source": []
  },
  {
   "cell_type": "code",
   "execution_count": 18,
   "id": "85d86f43-6892-4234-97a0-9f1e35ab2d10",
   "metadata": {},
   "outputs": [
    {
     "name": "stdout",
     "output_type": "stream",
     "text": [
      "26\n"
     ]
    }
   ],
   "source": [
    "from itertools import accumulate\n",
    "dis = [3, 1, 4, 1, 5, 9]\n",
    "dis_c = [0] + list(accumulate(dis))\n",
    "p = ord(P) - ord('A')\n",
    "q = ord(Q) - ord('A')\n",
    "l = min(p, q)c\n",
    "r = max(p, q)\n",
    "print(dis_c[r] + dis_c[l])"
   ]
  },
  {
   "cell_type": "code",
   "execution_count": 20,
   "id": "990927d0-874e-495d-ae5e-4146e2d4ac76",
   "metadata": {},
   "outputs": [
    {
     "data": {
      "text/plain": [
       "[0, 3, 4, 8, 9, 14, 23]"
      ]
     },
     "execution_count": 20,
     "metadata": {},
     "output_type": "execute_result"
    }
   ],
   "source": [
    "dis_c"
   ]
  },
  {
   "cell_type": "code",
   "execution_count": null,
   "id": "76d505c7-263d-4cd2-b0c4-d63b9c087085",
   "metadata": {},
   "outputs": [],
   "source": []
  }
 ],
 "metadata": {
  "kernelspec": {
   "display_name": "Python 3",
   "language": "python",
   "name": "python3"
  },
  "language_info": {
   "codemirror_mode": {
    "name": "ipython",
    "version": 3
   },
   "file_extension": ".py",
   "mimetype": "text/x-python",
   "name": "python",
   "nbconvert_exporter": "python",
   "pygments_lexer": "ipython3",
   "version": "3.6.13"
  }
 },
 "nbformat": 4,
 "nbformat_minor": 5
}
