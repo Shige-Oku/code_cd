{
 "cells": [
  {
   "cell_type": "code",
   "execution_count": 1,
   "id": "fc78d39b-a475-4148-b137-4509caf0e333",
   "metadata": {},
   "outputs": [],
   "source": [
    "import sys\n",
    "import numpy as np\n",
    "import math\n",
    "import collections\n",
    "import copy\n",
    "import decimal\n",
    "import itertools\n",
    "import re\n",
    "import bisect\n",
    "import scipy\n",
    "import heapq\n",
    "from collections import deque \n",
    "from functools import reduce\n",
    "from itertools import product\n",
    "from itertools import combinations\n",
    "from functools import lru_cache\n",
    "from scipy.special import comb\n",
    "from numba import njit\n",
    "from bisect import bisect_right\n",
    "from bisect import bisect_left"
   ]
  },
  {
   "cell_type": "code",
   "execution_count": 34,
   "id": "cf715a01-6542-48f4-9ead-42a6fa9a1b30",
   "metadata": {},
   "outputs": [
    {
     "name": "stdin",
     "output_type": "stream",
     "text": [
      " 7\n"
     ]
    }
   ],
   "source": [
    "N = int(input())"
   ]
  },
  {
   "cell_type": "code",
   "execution_count": 35,
   "id": "a7b97aa4-8a65-4512-98c3-b2d65b0330d1",
   "metadata": {},
   "outputs": [
    {
     "name": "stdin",
     "output_type": "stream",
     "text": [
      " 0 240 720 1320 1440 1800 2160\n"
     ]
    }
   ],
   "source": [
    "An = list(map(int, input().split()))"
   ]
  },
  {
   "cell_type": "code",
   "execution_count": 36,
   "id": "e531098f-389f-44ad-be5b-ba72a0665c5d",
   "metadata": {},
   "outputs": [
    {
     "name": "stdin",
     "output_type": "stream",
     "text": [
      " 3\n"
     ]
    }
   ],
   "source": [
    "Q = int(input())"
   ]
  },
  {
   "cell_type": "code",
   "execution_count": 37,
   "id": "c265c1b9-3e15-4e08-868e-4ee682fa1711",
   "metadata": {},
   "outputs": [
    {
     "name": "stdin",
     "output_type": "stream",
     "text": [
      " 480 1920\n",
      " 720 1200\n",
      " 0 2160\n"
     ]
    }
   ],
   "source": [
    "LRq = [list(map(int, input().split())) for _ in range(Q)]"
   ]
  },
  {
   "cell_type": "code",
   "execution_count": 38,
   "id": "d8bce90b-a83a-4001-a8a5-97b8e94737cb",
   "metadata": {},
   "outputs": [],
   "source": [
    "from itertools import accumulate\n",
    "An2 = []\n",
    "for i in range(1, N, 2):\n",
    "    An2.append(An[i+1]-An[i])\n",
    "An2_c = [0] + list(accumulate(An2))"
   ]
  },
  {
   "cell_type": "code",
   "execution_count": 42,
   "id": "edc6f740-1fe3-4331-8a41-c29c167aeefd",
   "metadata": {},
   "outputs": [
    {
     "name": "stdout",
     "output_type": "stream",
     "text": [
      "480\n",
      "0\n",
      "960\n"
     ]
    }
   ],
   "source": [
    "from bisect import bisect_left\n",
    "for L, R in LRq:\n",
    "    li = bisect_left(An, L)\n",
    "    if li % 2 == 0:\n",
    "        li -= 1\n",
    "    li = max(li, 0)\n",
    "    ri = bisect_left(An, R)\n",
    "    if ri % 2 == 1:\n",
    "        ri -= 1\n",
    "#     ans = An2_c[(ri+1)//2] - An2_c[(li+1)//2]\n",
    "    ans = An2_c[(ri)//2] - An2_c[(li)//2]\n",
    "    if An[li] < L:\n",
    "        ans -= L - An[li]\n",
    "    if An[ri] > R:\n",
    "        ans -= An[ri] - R\n",
    "    print(ans)"
   ]
  },
  {
   "cell_type": "code",
   "execution_count": 27,
   "id": "452a7eed-81b5-42e9-b0eb-f8a72cbd76c6",
   "metadata": {},
   "outputs": [
    {
     "data": {
      "text/plain": [
       "[0, 42, 134, 147, 175, 210, 244, 255, 338, 362, 416]"
      ]
     },
     "execution_count": 27,
     "metadata": {},
     "output_type": "execute_result"
    }
   ],
   "source": [
    "An2_c"
   ]
  },
  {
   "cell_type": "code",
   "execution_count": null,
   "id": "f9fdea19-61eb-4df3-a88d-0fcf012d7eea",
   "metadata": {},
   "outputs": [],
   "source": []
  }
 ],
 "metadata": {
  "kernelspec": {
   "display_name": "Python 3",
   "language": "python",
   "name": "python3"
  },
  "language_info": {
   "codemirror_mode": {
    "name": "ipython",
    "version": 3
   },
   "file_extension": ".py",
   "mimetype": "text/x-python",
   "name": "python",
   "nbconvert_exporter": "python",
   "pygments_lexer": "ipython3",
   "version": "3.6.13"
  }
 },
 "nbformat": 4,
 "nbformat_minor": 5
}
