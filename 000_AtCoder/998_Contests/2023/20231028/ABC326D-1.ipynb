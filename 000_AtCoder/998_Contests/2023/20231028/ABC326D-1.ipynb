{
 "cells": [
  {
   "cell_type": "code",
   "execution_count": 1,
   "id": "b71c4bca-9e49-4bcb-b6ed-9eafe3e80ace",
   "metadata": {
    "tags": []
   },
   "outputs": [],
   "source": [
    "import sys\n",
    "import numpy as np\n",
    "import math\n",
    "import collections\n",
    "import copy\n",
    "import decimal\n",
    "import itertools\n",
    "import re\n",
    "import bisect\n",
    "import scipy\n",
    "import heapq\n",
    "from collections import deque \n",
    "from functools import reduce\n",
    "from itertools import product\n",
    "from itertools import combinations\n",
    "from functools import lru_cache\n",
    "from scipy.special import comb\n",
    "from numba import njit\n",
    "from bisect import bisect_right\n",
    "from bisect import bisect_left"
   ]
  },
  {
   "cell_type": "code",
   "execution_count": 3,
   "id": "0a663f28-f4ab-4b2e-93a2-673721fcb83f",
   "metadata": {
    "tags": []
   },
   "outputs": [
    {
     "name": "stdin",
     "output_type": "stream",
     "text": [
      " 5\n"
     ]
    }
   ],
   "source": [
    "N = int(input())"
   ]
  },
  {
   "cell_type": "code",
   "execution_count": 1,
   "id": "e90cc259-6a16-41e6-bb84-98712a5d19b3",
   "metadata": {
    "tags": []
   },
   "outputs": [
    {
     "name": "stdin",
     "output_type": "stream",
     "text": [
      " ABCBC\n"
     ]
    }
   ],
   "source": [
    "R = input()"
   ]
  },
  {
   "cell_type": "code",
   "execution_count": 2,
   "id": "1b98b78b-856f-400b-b0d8-fd5a4aa3c127",
   "metadata": {
    "tags": []
   },
   "outputs": [
    {
     "name": "stdin",
     "output_type": "stream",
     "text": [
      " ACAAB\n"
     ]
    }
   ],
   "source": [
    "C = input()"
   ]
  },
  {
   "cell_type": "code",
   "execution_count": null,
   "id": "2627faf7-78db-434a-972c-39aac3d9a063",
   "metadata": {},
   "outputs": [],
   "source": [
    "# 解説を読んで実装"
   ]
  },
  {
   "cell_type": "code",
   "execution_count": 61,
   "id": "6ac4b282-c0fb-4b94-b2df-b714f517ff8d",
   "metadata": {
    "tags": []
   },
   "outputs": [],
   "source": [
    "def firstChar(s):\n",
    "    for c in s:\n",
    "        if c != \".\":\n",
    "            return c"
   ]
  },
  {
   "cell_type": "code",
   "execution_count": 68,
   "id": "698f1281-3143-4d7a-b602-21c570d43ddd",
   "metadata": {
    "tags": []
   },
   "outputs": [
    {
     "name": "stdout",
     "output_type": "stream",
     "text": [
      "Yes\n",
      "AC..B\n",
      ".BA.C\n",
      "C.BA.\n",
      "BA.C.\n",
      "..CBA\n"
     ]
    }
   ],
   "source": [
    "from itertools import permutations, product\n",
    "for a, b, c in product(permutations(range(N)), repeat=3):\n",
    "    # if any(ai==bi or bi==ci or ci==ai for ai, bi, ci in zip(a, b, c)): \n",
    "    #     continue\n",
    "    NG = True\n",
    "    for ai, bi, ci in zip(a, b, c):\n",
    "        if ai == bi or bi == ci or ai == ci:\n",
    "            break\n",
    "    else:\n",
    "        NG = False\n",
    "    if NG:\n",
    "        continue\n",
    "    S = [[\".\"] * N for _ in range(N)]\n",
    "    for i, j in enumerate(a):\n",
    "        S[i][j] ='A'\n",
    "    for i, j in enumerate(b):\n",
    "        S[i][j] ='B'\n",
    "    for i, j in enumerate(c):\n",
    "        S[i][j] ='C'\n",
    "    if \"\".join(map(firstChar, S)) == R and \"\".join(map(firstChar, zip(*S))) == C:\n",
    "        print('Yes')\n",
    "        for s in S:\n",
    "            print(*s, sep='')\n",
    "        break\n",
    "else:\n",
    "    print('No')\n",
    "        # print(ai, bi, ci)"
   ]
  },
  {
   "cell_type": "code",
   "execution_count": 69,
   "id": "210392ed-b789-40e3-b3f1-3d1d302695fd",
   "metadata": {
    "tags": []
   },
   "outputs": [
    {
     "name": "stdout",
     "output_type": "stream",
     "text": [
      "Yes\n",
      "AC..B\n",
      ".BA.C\n",
      "C.BA.\n",
      "BA.C.\n",
      "..CBA\n"
     ]
    }
   ],
   "source": [
    "from itertools import permutations, product\n",
    "for a, b, c in product(permutations(range(N)), repeat=3):\n",
    "    if any(ai==bi or bi==ci or ci==ai for ai, bi, ci in zip(a, b, c)): \n",
    "        continue\n",
    "    S = [[\".\"] * N for _ in range(N)]\n",
    "    for i, (ai, bi, ci) in enumerate(zip(a, b, c)):\n",
    "        S[i][ai] = 'A'\n",
    "        S[i][bi] = 'B'\n",
    "        S[i][ci] = 'C'\n",
    "    if \"\".join(map(firstChar, S)) == R and \"\".join(map(firstChar, zip(*S))) == C:\n",
    "        print('Yes')\n",
    "        for s in S:\n",
    "            print(*s, sep='')\n",
    "        break\n",
    "else:\n",
    "    print('No')\n"
   ]
  },
  {
   "cell_type": "code",
   "execution_count": 56,
   "id": "6c58309b-3b7e-4381-af26-dff26da2fa96",
   "metadata": {
    "tags": []
   },
   "outputs": [
    {
     "name": "stdout",
     "output_type": "stream",
     "text": [
      "([1, 2], [1, 2], [1, 2])\n",
      "([1, 2], [1, 2], [3, 4])\n",
      "([1, 2], [1, 2], [4, 5])\n",
      "([1, 2], [1, 2], [6, 7])\n",
      "([1, 2], [3, 4], [1, 2])\n",
      "([1, 2], [3, 4], [3, 4])\n",
      "([1, 2], [3, 4], [4, 5])\n",
      "([1, 2], [3, 4], [6, 7])\n",
      "([1, 2], [4, 5], [1, 2])\n",
      "([1, 2], [4, 5], [3, 4])\n",
      "([1, 2], [4, 5], [4, 5])\n",
      "([1, 2], [4, 5], [6, 7])\n",
      "([1, 2], [6, 7], [1, 2])\n",
      "([1, 2], [6, 7], [3, 4])\n",
      "([1, 2], [6, 7], [4, 5])\n",
      "([1, 2], [6, 7], [6, 7])\n",
      "([3, 4], [1, 2], [1, 2])\n",
      "([3, 4], [1, 2], [3, 4])\n",
      "([3, 4], [1, 2], [4, 5])\n",
      "([3, 4], [1, 2], [6, 7])\n",
      "([3, 4], [3, 4], [1, 2])\n",
      "([3, 4], [3, 4], [3, 4])\n",
      "([3, 4], [3, 4], [4, 5])\n",
      "([3, 4], [3, 4], [6, 7])\n",
      "([3, 4], [4, 5], [1, 2])\n",
      "([3, 4], [4, 5], [3, 4])\n",
      "([3, 4], [4, 5], [4, 5])\n",
      "([3, 4], [4, 5], [6, 7])\n",
      "([3, 4], [6, 7], [1, 2])\n",
      "([3, 4], [6, 7], [3, 4])\n",
      "([3, 4], [6, 7], [4, 5])\n",
      "([3, 4], [6, 7], [6, 7])\n",
      "([4, 5], [1, 2], [1, 2])\n",
      "([4, 5], [1, 2], [3, 4])\n",
      "([4, 5], [1, 2], [4, 5])\n",
      "([4, 5], [1, 2], [6, 7])\n",
      "([4, 5], [3, 4], [1, 2])\n",
      "([4, 5], [3, 4], [3, 4])\n",
      "([4, 5], [3, 4], [4, 5])\n",
      "([4, 5], [3, 4], [6, 7])\n",
      "([4, 5], [4, 5], [1, 2])\n",
      "([4, 5], [4, 5], [3, 4])\n",
      "([4, 5], [4, 5], [4, 5])\n",
      "([4, 5], [4, 5], [6, 7])\n",
      "([4, 5], [6, 7], [1, 2])\n",
      "([4, 5], [6, 7], [3, 4])\n",
      "([4, 5], [6, 7], [4, 5])\n",
      "([4, 5], [6, 7], [6, 7])\n",
      "([6, 7], [1, 2], [1, 2])\n",
      "([6, 7], [1, 2], [3, 4])\n",
      "([6, 7], [1, 2], [4, 5])\n",
      "([6, 7], [1, 2], [6, 7])\n",
      "([6, 7], [3, 4], [1, 2])\n",
      "([6, 7], [3, 4], [3, 4])\n",
      "([6, 7], [3, 4], [4, 5])\n",
      "([6, 7], [3, 4], [6, 7])\n",
      "([6, 7], [4, 5], [1, 2])\n",
      "([6, 7], [4, 5], [3, 4])\n",
      "([6, 7], [4, 5], [4, 5])\n",
      "([6, 7], [4, 5], [6, 7])\n",
      "([6, 7], [6, 7], [1, 2])\n",
      "([6, 7], [6, 7], [3, 4])\n",
      "([6, 7], [6, 7], [4, 5])\n",
      "([6, 7], [6, 7], [6, 7])\n"
     ]
    }
   ],
   "source": [
    "l = [[1, 2], [3, 4], [4, 5], [6, 7]]\n",
    "for P in product(l, repeat=3):\n",
    "    print(P)"
   ]
  },
  {
   "cell_type": "code",
   "execution_count": 33,
   "id": "e4c2cb2e-3bf9-462f-8b85-c9cca06214ab",
   "metadata": {
    "tags": []
   },
   "outputs": [
    {
     "name": "stdout",
     "output_type": "stream",
     "text": [
      "(['1', '2', 'C', 'B', 'A'],)\n",
      "(['3', 'C', '.', 'A', 'B'],)\n",
      "(['C', 'B', 'A', '.', '.'],)\n",
      "(['B', 'A', '.', '.', 'C'],)\n",
      "(['A', '.', 'B', 'C', '.'],)\n",
      "('1', '3', 'C', 'B', 'A')\n",
      "('2', 'C', 'B', 'A', '.')\n",
      "('C', '.', 'A', '.', 'B')\n",
      "('B', 'A', '.', '.', 'C')\n",
      "('A', 'B', '.', 'C', '.')\n"
     ]
    }
   ],
   "source": [
    "for s in zip(S):\n",
    "    print(s)\n",
    "for s in zip(*S):\n",
    "    print(s)"
   ]
  },
  {
   "cell_type": "code",
   "execution_count": 28,
   "id": "2c12ba6f-77ad-43a2-82b2-43ceffaf11ed",
   "metadata": {
    "tags": []
   },
   "outputs": [],
   "source": [
    "S[0][0] = '1'\n",
    "S[0][1] = '2'\n",
    "S[1][0] = '3'"
   ]
  },
  {
   "cell_type": "code",
   "execution_count": 34,
   "id": "11bf99b6-c883-4095-a63c-85a4dbb7f68f",
   "metadata": {
    "tags": []
   },
   "outputs": [
    {
     "data": {
      "text/plain": [
       "([['1', '2', 'C', 'B', 'A'],\n",
       "  ['3', 'C', '.', 'A', 'B'],\n",
       "  ['C', 'B', 'A', '.', '.'],\n",
       "  ['B', 'A', '.', '.', 'C'],\n",
       "  ['A', '.', 'B', 'C', '.']],\n",
       " ['1', '2', 'C', 'B', 'A'],\n",
       " ['3', 'C', '.', 'A', 'B'],\n",
       " ['C', 'B', 'A', '.', '.'],\n",
       " ['B', 'A', '.', '.', 'C'],\n",
       " ['A', '.', 'B', 'C', '.'])"
      ]
     },
     "execution_count": 34,
     "metadata": {},
     "output_type": "execute_result"
    }
   ],
   "source": [
    "S, *S"
   ]
  },
  {
   "cell_type": "code",
   "execution_count": 8,
   "id": "2f379e9c-88bf-435e-8aa6-1e69f966f3a5",
   "metadata": {
    "tags": []
   },
   "outputs": [
    {
     "name": "stdout",
     "output_type": "stream",
     "text": [
      "1728000\n"
     ]
    }
   ],
   "source": [
    "print(cnt)"
   ]
  },
  {
   "cell_type": "code",
   "execution_count": null,
   "id": "4138e0a9-8a7e-4168-8493-d25db8890f85",
   "metadata": {},
   "outputs": [],
   "source": [
    "# サンプルが合わない"
   ]
  },
  {
   "cell_type": "code",
   "execution_count": 39,
   "id": "6aa8e6b9-bf5f-4845-ba7f-e3c18683ddc1",
   "metadata": {
    "tags": []
   },
   "outputs": [],
   "source": [
    "def solve():\n",
    "    for i, r in enumerate(R):\n",
    "        x = ord(r) - ord('A')\n",
    "        p = r_cnt[x]\n",
    "        if ans[i][p] == '.' or ans[i][p] == r:\n",
    "            ans[i][p] = r\n",
    "            r_cnt[x] += 1\n",
    "            r_flg[i][x] = True\n",
    "        else:\n",
    "            return False\n",
    "    for i, c in enumerate(C):\n",
    "        x = ord(c) - ord('A')\n",
    "        p = c_cnt[x]\n",
    "        if ans[p][i] == '.' or ans[p][i] == c:\n",
    "            ans[p][i] = c\n",
    "            c_cnt[x] += 1\n",
    "            c_flg[x] = True\n",
    "        else:\n",
    "            return False\n",
    "    for i in range(N):\n",
    "        if r_flg[i]:\n",
    "            continue\n",
    "        \n",
    "    return True"
   ]
  },
  {
   "cell_type": "code",
   "execution_count": 42,
   "id": "97658cf1-da62-496b-bbc3-eeac6efa2588",
   "metadata": {
    "tags": []
   },
   "outputs": [
    {
     "name": "stdout",
     "output_type": "stream",
     "text": [
      "Yes\n",
      "AC..B\n",
      "B.A..\n",
      "C..A.\n",
      ".B...\n",
      ".C...\n"
     ]
    }
   ],
   "source": [
    "r_cnt = [0] * 3\n",
    "c_cnt = [0] * 3\n",
    "r_flg = [False] * N\n",
    "c_flg = [False] * N\n",
    "ans = [['.'] * N for _ in range(N)]\n",
    "if solve():\n",
    "    print('Yes')\n",
    "    for a in ans:\n",
    "        print(\"\".join(a))\n",
    "else:\n",
    "    print('No')"
   ]
  },
  {
   "cell_type": "code",
   "execution_count": null,
   "id": "47a27918-9e8b-4f3e-ad4b-b651c41c9b49",
   "metadata": {},
   "outputs": [],
   "source": []
  },
  {
   "cell_type": "code",
   "execution_count": 43,
   "id": "e3fa1451-96f2-4713-856d-f798abea2ff1",
   "metadata": {
    "tags": []
   },
   "outputs": [
    {
     "data": {
      "text/plain": [
       "[['A', 'C', '.', '.', 'B'],\n",
       " ['B', '.', 'A', '.', '.'],\n",
       " ['C', '.', '.', 'A', '.'],\n",
       " ['.', 'B', '.', '.', '.'],\n",
       " ['.', 'C', '.', '.', '.']]"
      ]
     },
     "execution_count": 43,
     "metadata": {},
     "output_type": "execute_result"
    }
   ],
   "source": [
    "ans"
   ]
  },
  {
   "cell_type": "code",
   "execution_count": 19,
   "id": "b4d7099a-7bf5-4920-91b8-803959aa4e4b",
   "metadata": {
    "tags": []
   },
   "outputs": [
    {
     "data": {
      "text/plain": [
       "True"
      ]
     },
     "execution_count": 19,
     "metadata": {},
     "output_type": "execute_result"
    }
   ],
   "source": [
    "solve()"
   ]
  },
  {
   "cell_type": "code",
   "execution_count": 37,
   "id": "8b8e0b05-e17c-453a-93ad-d66313391fd0",
   "metadata": {
    "tags": []
   },
   "outputs": [],
   "source": [
    "r_flg = [[False] * N for _ in range(3)]"
   ]
  },
  {
   "cell_type": "code",
   "execution_count": 44,
   "id": "25a208d4-2d36-4265-9e46-375e56c669cd",
   "metadata": {
    "tags": []
   },
   "outputs": [
    {
     "data": {
      "text/plain": [
       "[True, True, True, False, False]"
      ]
     },
     "execution_count": 44,
     "metadata": {},
     "output_type": "execute_result"
    }
   ],
   "source": [
    "r_flg"
   ]
  },
  {
   "cell_type": "code",
   "execution_count": 45,
   "id": "c00244b4-2060-4e88-9741-7a15b92d0c38",
   "metadata": {
    "tags": []
   },
   "outputs": [
    {
     "data": {
      "text/plain": [
       "207360000"
      ]
     },
     "execution_count": 45,
     "metadata": {},
     "output_type": "execute_result"
    }
   ],
   "source": [
    "120**4"
   ]
  },
  {
   "cell_type": "code",
   "execution_count": 42,
   "id": "172354db-017d-4f45-bf81-aec98d0bde9e",
   "metadata": {},
   "outputs": [],
   "source": [
    "L = [[1, 2, 3, 4], [5, 6, 7, 8], [9, 10, 11, 12]]"
   ]
  },
  {
   "cell_type": "code",
   "execution_count": 40,
   "id": "ca170858-f834-4ac4-88fb-c7927ccae3ce",
   "metadata": {
    "tags": []
   },
   "outputs": [
    {
     "data": {
      "text/plain": [
       "[[1, 2, 3, 4], [5, 6, 7, 8], [9, 10, 11, 12]]"
      ]
     },
     "execution_count": 40,
     "metadata": {},
     "output_type": "execute_result"
    }
   ],
   "source": [
    "l"
   ]
  },
  {
   "cell_type": "code",
   "execution_count": 44,
   "id": "4e36d904-af39-4dfa-b038-be0d61a7aae0",
   "metadata": {
    "tags": []
   },
   "outputs": [
    {
     "name": "stdout",
     "output_type": "stream",
     "text": [
      "([1, 2, 3, 4],)\n",
      "([5, 6, 7, 8],)\n",
      "([9, 10, 11, 12],)\n"
     ]
    }
   ],
   "source": [
    "for l in zip(L):\n",
    "    print(l)"
   ]
  },
  {
   "cell_type": "code",
   "execution_count": 45,
   "id": "8fecbca7-04a6-448b-a4ab-2ccd4d8a1a87",
   "metadata": {
    "tags": []
   },
   "outputs": [
    {
     "name": "stdout",
     "output_type": "stream",
     "text": [
      "(1, 5, 9)\n",
      "(2, 6, 10)\n",
      "(3, 7, 11)\n",
      "(4, 8, 12)\n"
     ]
    }
   ],
   "source": [
    "for l in zip(*L):\n",
    "    print(l)"
   ]
  },
  {
   "cell_type": "code",
   "execution_count": 47,
   "id": "d7d42e81-a970-4e04-a48f-8beb3e60352c",
   "metadata": {
    "tags": []
   },
   "outputs": [
    {
     "name": "stdout",
     "output_type": "stream",
     "text": [
      "(1, 5, 9)\n",
      "(2, 6, 10)\n",
      "(3, 7, 11)\n",
      "(4, 8, 12)\n"
     ]
    }
   ],
   "source": [
    "for l in zip([1, 2, 3, 4], [5, 6, 7, 8], [9, 10, 11, 12]):\n",
    "    print(l)"
   ]
  },
  {
   "cell_type": "code",
   "execution_count": null,
   "id": "310ab4ff-600a-437f-ba04-26d0ad0bf06d",
   "metadata": {},
   "outputs": [],
   "source": []
  }
 ],
 "metadata": {
  "kernelspec": {
   "display_name": "Python 3 (ipykernel)",
   "language": "python",
   "name": "python3"
  },
  "language_info": {
   "codemirror_mode": {
    "name": "ipython",
    "version": 3
   },
   "file_extension": ".py",
   "mimetype": "text/x-python",
   "name": "python",
   "nbconvert_exporter": "python",
   "pygments_lexer": "ipython3",
   "version": "3.11.3"
  }
 },
 "nbformat": 4,
 "nbformat_minor": 5
}
