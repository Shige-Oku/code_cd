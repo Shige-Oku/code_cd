{
 "cells": [
  {
   "cell_type": "code",
   "execution_count": 1,
   "id": "9599aea4-6d04-4c65-8ae5-f2b9d6bd36e9",
   "metadata": {},
   "outputs": [],
   "source": [
    "import sys\n",
    "import numpy as np\n",
    "import math\n",
    "import collections\n",
    "import copy\n",
    "import decimal\n",
    "import itertools\n",
    "import re\n",
    "import bisect\n",
    "import scipy\n",
    "import heapq\n",
    "from collections import deque \n",
    "from functools import reduce\n",
    "from itertools import product\n",
    "from itertools import combinations\n",
    "from functools import lru_cache\n",
    "from scipy.special import comb\n",
    "from numba import njit\n",
    "from bisect import bisect_right\n",
    "from bisect import bisect_left"
   ]
  },
  {
   "cell_type": "code",
   "execution_count": 42,
   "id": "25fa83af-598c-486c-b95e-c8357bba1042",
   "metadata": {},
   "outputs": [
    {
     "name": "stdin",
     "output_type": "stream",
     "text": [
      " 6\n"
     ]
    }
   ],
   "source": [
    "N = int(input())"
   ]
  },
  {
   "cell_type": "code",
   "execution_count": 154,
   "id": "3b794e3b-4d53-4e39-84c4-ed6389c7833c",
   "metadata": {},
   "outputs": [
    {
     "name": "stdin",
     "output_type": "stream",
     "text": [
      " ((aaa(bbb(ccc()c)bbb)\n"
     ]
    }
   ],
   "source": [
    "S = input()"
   ]
  },
  {
   "cell_type": "code",
   "execution_count": 160,
   "id": "e0cfae4d-f122-46b3-9c74-737858310110",
   "metadata": {},
   "outputs": [],
   "source": [
    "from collections import deque\n",
    "q = deque()\n",
    "cnt = 0\n",
    "for s in S:\n",
    "    if s == ')':\n",
    "        if cnt > 0:\n",
    "            while True:\n",
    "                d = q.pop()\n",
    "                if d == '(':\n",
    "                    break\n",
    "            cnt -= 1\n",
    "        else:\n",
    "            q.append(s)\n",
    "    else:\n",
    "        q.append(s)\n",
    "    if s == '(':\n",
    "        cnt += 1\n"
   ]
  },
  {
   "cell_type": "code",
   "execution_count": 161,
   "id": "f6611803-2307-4139-a964-e302be69fb4e",
   "metadata": {},
   "outputs": [
    {
     "name": "stdout",
     "output_type": "stream",
     "text": [
      "((aaa"
     ]
    }
   ],
   "source": [
    "while q:\n",
    "    ans = q.popleft()\n",
    "    print(ans, end='')"
   ]
  },
  {
   "cell_type": "code",
   "execution_count": null,
   "id": "bacc5e9c-f9b9-4d61-8636-0eecb8fb8a58",
   "metadata": {},
   "outputs": [],
   "source": [
    "# WA"
   ]
  },
  {
   "cell_type": "code",
   "execution_count": 155,
   "id": "ee50b7ff-6092-419f-8b1e-278afdae70cf",
   "metadata": {},
   "outputs": [
    {
     "name": "stdout",
     "output_type": "stream",
     "text": [
      "deque([]) ['('] 1\n",
      "deque([['(']]) ['('] 2\n",
      "deque([['(']]) ['(', 'a'] 2\n",
      "deque([['(']]) ['(', 'a', 'a'] 2\n",
      "deque([['(']]) ['(', 'a', 'a', 'a'] 2\n",
      "deque([['('], ['(', 'a', 'a', 'a']]) ['('] 3\n",
      "deque([['('], ['(', 'a', 'a', 'a']]) ['(', 'b'] 3\n",
      "deque([['('], ['(', 'a', 'a', 'a']]) ['(', 'b', 'b'] 3\n",
      "deque([['('], ['(', 'a', 'a', 'a']]) ['(', 'b', 'b', 'b'] 3\n",
      "deque([['('], ['(', 'a', 'a', 'a'], ['(', 'b', 'b', 'b']]) ['('] 4\n",
      "deque([['('], ['(', 'a', 'a', 'a'], ['(', 'b', 'b', 'b']]) ['(', 'c'] 4\n",
      "deque([['('], ['(', 'a', 'a', 'a'], ['(', 'b', 'b', 'b']]) ['(', 'c', 'c'] 4\n",
      "deque([['('], ['(', 'a', 'a', 'a'], ['(', 'b', 'b', 'b']]) ['(', 'c', 'c', 'c'] 4\n",
      "deque([['('], ['(', 'a', 'a', 'a'], ['(', 'b', 'b', 'b'], ['(', 'c', 'c', 'c']]) ['('] 5\n",
      "deque([['('], ['(', 'a', 'a', 'a'], ['(', 'b', 'b', 'b'], ['(', 'c', 'c', 'c']]) [] 4\n",
      "deque([['('], ['(', 'a', 'a', 'a'], ['(', 'b', 'b', 'b'], ['(', 'c', 'c', 'c']]) ['c'] 4\n",
      "deque([['('], ['(', 'a', 'a', 'a'], ['(', 'b', 'b', 'b']]) [] 3\n",
      "deque([['('], ['(', 'a', 'a', 'a'], ['(', 'b', 'b', 'b']]) ['b'] 3\n",
      "deque([['('], ['(', 'a', 'a', 'a'], ['(', 'b', 'b', 'b']]) ['b', 'b'] 3\n",
      "deque([['('], ['(', 'a', 'a', 'a'], ['(', 'b', 'b', 'b']]) ['b', 'b', 'b'] 3\n",
      "deque([['('], ['(', 'a', 'a', 'a']]) [] 2\n"
     ]
    }
   ],
   "source": [
    "from collections import deque\n",
    "q = deque()\n",
    "# q = []\n",
    "st = []\n",
    "cnt = 0\n",
    "for s in S:\n",
    "    if s == '(':\n",
    "        if len(st) != 0:\n",
    "            q.append(st)\n",
    "            st = []\n",
    "        st.append(s)\n",
    "        cnt += 1\n",
    "    elif s == ')':\n",
    "        if cnt > 0:\n",
    "            cnt -= 1\n",
    "            if len(st) > 0 and st[0] == '(':\n",
    "#             if len(st) > 0:\n",
    "                st = []\n",
    "            else:\n",
    "                q.pop()\n",
    "                st = []\n",
    "        else:\n",
    "            st.append(s)\n",
    "    else:\n",
    "        st.append(s)\n",
    "    print(q, st, cnt)\n",
    "else:\n",
    "    q.append(st)\n",
    "        "
   ]
  },
  {
   "cell_type": "code",
   "execution_count": 156,
   "id": "f022a2cf-fc5e-4d67-8bd9-c9333574000f",
   "metadata": {},
   "outputs": [
    {
     "name": "stdout",
     "output_type": "stream",
     "text": [
      "((aaa"
     ]
    }
   ],
   "source": [
    "while q:\n",
    "    s = q.popleft()\n",
    "    print(*s, end='',sep= '')\n",
    "#     print(s)"
   ]
  },
  {
   "cell_type": "code",
   "execution_count": 157,
   "id": "6c847db6-27b3-40b8-8088-0f3409017133",
   "metadata": {},
   "outputs": [
    {
     "data": {
      "text/plain": [
       "'((aaa(bbb(ccc()c)bbb)'"
      ]
     },
     "execution_count": 157,
     "metadata": {},
     "output_type": "execute_result"
    }
   ],
   "source": [
    "S"
   ]
  },
  {
   "cell_type": "code",
   "execution_count": null,
   "id": "4951244d-8ba8-466d-9453-16a73e98ba8a",
   "metadata": {},
   "outputs": [],
   "source": []
  }
 ],
 "metadata": {
  "kernelspec": {
   "display_name": "Python 3",
   "language": "python",
   "name": "python3"
  },
  "language_info": {
   "codemirror_mode": {
    "name": "ipython",
    "version": 3
   },
   "file_extension": ".py",
   "mimetype": "text/x-python",
   "name": "python",
   "nbconvert_exporter": "python",
   "pygments_lexer": "ipython3",
   "version": "3.6.13"
  }
 },
 "nbformat": 4,
 "nbformat_minor": 5
}
