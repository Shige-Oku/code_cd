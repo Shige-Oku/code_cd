{
 "cells": [
  {
   "cell_type": "code",
   "execution_count": 1,
   "id": "295f8c1c-c1b7-4064-bb75-621baa08bccc",
   "metadata": {},
   "outputs": [],
   "source": [
    "import sys\n",
    "import numpy as np\n",
    "import math\n",
    "import collections\n",
    "import copy\n",
    "import decimal\n",
    "import itertools\n",
    "import re\n",
    "import bisect\n",
    "import scipy\n",
    "import heapq\n",
    "from collections import deque \n",
    "from functools import reduce\n",
    "from itertools import product\n",
    "from itertools import combinations\n",
    "from functools import lru_cache\n",
    "from scipy.special import comb\n",
    "from numba import njit\n",
    "from bisect import bisect_right\n",
    "from bisect import bisect_left"
   ]
  },
  {
   "cell_type": "code",
   "execution_count": 16,
   "id": "5d117215-9a85-4698-b901-d980e3c1f352",
   "metadata": {},
   "outputs": [
    {
     "name": "stdin",
     "output_type": "stream",
     "text": [
      " 3\n"
     ]
    }
   ],
   "source": [
    "N = int(input())"
   ]
  },
  {
   "cell_type": "code",
   "execution_count": 17,
   "id": "82cacc1b-a37b-4d0d-85da-4b42fd8aa374",
   "metadata": {},
   "outputs": [
    {
     "name": "stdin",
     "output_type": "stream",
     "text": [
      " a\n",
      " b\n",
      " aba\n"
     ]
    }
   ],
   "source": [
    "Sn = [input() for _ in range(N)]"
   ]
  },
  {
   "cell_type": "code",
   "execution_count": 28,
   "id": "1164c640-c94b-4b98-8fc5-3e7491bdfdcd",
   "metadata": {},
   "outputs": [],
   "source": [
    "def solve(s1, s2):\n",
    "    ss = s1 + s2\n",
    "    rs = ss[::-1]\n",
    "    for s3, s4 in zip(ss, rs):\n",
    "        if s3 != s4:\n",
    "            return False\n",
    "    return True"
   ]
  },
  {
   "cell_type": "code",
   "execution_count": 29,
   "id": "987c2708-56e4-4aa8-aa10-037f87557bc0",
   "metadata": {},
   "outputs": [],
   "source": [
    "flg = False\n",
    "for i in range(N-1):\n",
    "    for j in range(i+1, N):\n",
    "        if solve(Sn[i], Sn[j]):\n",
    "            flg = True\n",
    "        if solve(Sn[j], Sn[i]):\n",
    "            flg = True\n"
   ]
  },
  {
   "cell_type": "code",
   "execution_count": 27,
   "id": "27da412d-9ea4-459b-a7d3-3a06971c2032",
   "metadata": {},
   "outputs": [
    {
     "name": "stdout",
     "output_type": "stream",
     "text": [
      "No\n"
     ]
    }
   ],
   "source": [
    "print('Yes' if flg else 'No')"
   ]
  },
  {
   "cell_type": "code",
   "execution_count": 7,
   "id": "72633f63-7241-4531-ab0a-01df222731eb",
   "metadata": {},
   "outputs": [
    {
     "data": {
      "text/plain": [
       "['ab', 'ccef', 'da', 'a', 'fe']"
      ]
     },
     "execution_count": 7,
     "metadata": {},
     "output_type": "execute_result"
    }
   ],
   "source": [
    "Sn"
   ]
  },
  {
   "cell_type": "code",
   "execution_count": null,
   "id": "935f479e-936d-4d70-925b-4fc788a8c7db",
   "metadata": {},
   "outputs": [],
   "source": []
  }
 ],
 "metadata": {
  "kernelspec": {
   "display_name": "Python 3",
   "language": "python",
   "name": "python3"
  },
  "language_info": {
   "codemirror_mode": {
    "name": "ipython",
    "version": 3
   },
   "file_extension": ".py",
   "mimetype": "text/x-python",
   "name": "python",
   "nbconvert_exporter": "python",
   "pygments_lexer": "ipython3",
   "version": "3.6.13"
  }
 },
 "nbformat": 4,
 "nbformat_minor": 5
}
