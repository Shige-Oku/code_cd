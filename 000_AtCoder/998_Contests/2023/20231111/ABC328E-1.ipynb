{
 "cells": [
  {
   "cell_type": "code",
   "execution_count": 1,
   "id": "55c0e80c-6c21-45a4-87ce-0c10a6702ed0",
   "metadata": {
    "tags": []
   },
   "outputs": [],
   "source": [
    "import sys\n",
    "import numpy as np\n",
    "import math\n",
    "import collections\n",
    "import copy\n",
    "import decimal\n",
    "import itertools\n",
    "import re\n",
    "import bisect\n",
    "import scipy\n",
    "import heapq\n",
    "from collections import deque \n",
    "from functools import reduce\n",
    "from itertools import product\n",
    "from itertools import combinations\n",
    "from functools import lru_cache\n",
    "from scipy.special import comb\n",
    "from numba import njit\n",
    "from bisect import bisect_right\n",
    "from bisect import bisect_left"
   ]
  },
  {
   "cell_type": "code",
   "execution_count": 1,
   "id": "3585e33d-e7eb-4a25-ba30-25331a8c8609",
   "metadata": {},
   "outputs": [
    {
     "name": "stdin",
     "output_type": "stream",
     "text": [
      "  5 6 328\n"
     ]
    }
   ],
   "source": [
    "N, M, K = map(int, input().split())"
   ]
  },
  {
   "cell_type": "code",
   "execution_count": 2,
   "id": "ae0bebed-b25e-488f-89da-719f0b3f371d",
   "metadata": {
    "tags": []
   },
   "outputs": [
    {
     "name": "stdin",
     "output_type": "stream",
     "text": [
      " 1 2 99\n",
      " 1 3 102\n",
      " 2 3 86\n",
      " 2 4 94\n",
      " 2 5 95\n",
      " 3 4 81\n"
     ]
    }
   ],
   "source": [
    "UVWm = [list(map(int, input().split())) for _ in range(M)]"
   ]
  },
  {
   "cell_type": "code",
   "execution_count": null,
   "id": "d33ee3ed-6fd9-4593-93cb-5fbc744d43a7",
   "metadata": {},
   "outputs": [],
   "source": [
    "# コンテスト後に実装"
   ]
  },
  {
   "cell_type": "code",
   "execution_count": 23,
   "id": "6f5e65f5-4b23-483f-a058-015df455c6d5",
   "metadata": {},
   "outputs": [],
   "source": [
    "from collections import defaultdict\n",
    "import sys\n",
    "sys.setrecursionlimit(10**7)\n",
    "class UnionFind():\n",
    "    # イニシャライザ\n",
    "    def __init__(self, n):\n",
    "        self.n = n  # 頂点の数\n",
    "        self.parents = [-1] * n  # 親の頂点。根は -1\n",
    "        self.size = [1] * n  # 各頂点の所属する木の頂点数\n",
    "        sys.setrecursionlimit(10**7)\n",
    "        \n",
    "    # 根を返す\n",
    "    def root(self, x):\n",
    "        if self.parents[x] < 0: # 根なのでそのまま返す\n",
    "            return x\n",
    "        else:\n",
    "            self.parents[x] = self.root(self.parents[x])  # 経路圧縮\n",
    "            return self.parents[x]\n",
    "        \n",
    "    # x, y が同じ木に属するか\n",
    "    def issame(self, x, y):\n",
    "        return self.root(x) == self.root(y)\n",
    "    \n",
    "    # x y を併合する    \n",
    "    def unite(self, x, y):\n",
    "        x = self.root(x)\n",
    "        y = self.root(y)\n",
    "        \n",
    "        # 元々同じ木に所属するので、何もせずリターン\n",
    "        if x == y:\n",
    "            return False\n",
    "        \n",
    "        # 大きいほうにまとめる。 y を x にまとめるようにスワップ\n",
    "        if self.parents[x] < self.parents[y]:\n",
    "            x, y = y, x\n",
    "        # 小さいほうの親を大きいほうを親に\n",
    "        self.parents[y] = x\n",
    "        # 大きいほうの頂点に小さいほうの数を加算\n",
    "        self.size[x] += self.size[y]\n",
    "        return True\n",
    "    \n",
    "    # x の所属する頂点数を返す\n",
    "    def getsize(self, x):\n",
    "        return self.size[self.root(x)]\n",
    "\n",
    "    # x の所属する頂点の一覧を返す\n",
    "    def getmembers(self, x):\n",
    "        root = self.root(x)\n",
    "        return [i for i in range(self.n) if self.root(i) == root]    "
   ]
  },
  {
   "cell_type": "code",
   "execution_count": 30,
   "id": "de9cdaac-d27a-4d67-a831-ce781d554582",
   "metadata": {
    "tags": []
   },
   "outputs": [],
   "source": [
    "from itertools import combinations\n",
    "def solve(P):\n",
    "    uf = UnionFind(N+1)\n",
    "    ret = 0\n",
    "    for p in P:\n",
    "        u, v, w = UVWm[p]\n",
    "        uf.unite(u, v)\n",
    "        ret += w\n",
    "        ret %= K\n",
    "    \n",
    "    for i in range(1, N+1):\n",
    "        if uf.root(1) != uf.root(i):\n",
    "            return 10**20\n",
    "    \n",
    "    return ret % K"
   ]
  },
  {
   "cell_type": "code",
   "execution_count": 33,
   "id": "5c059952-d955-4239-8814-7bf0843579d4",
   "metadata": {
    "tags": []
   },
   "outputs": [],
   "source": [
    "ans = 10**20\n",
    "for P in combinations(range(M), N-1):\n",
    "    c = solve(P)\n",
    "    ans = min(ans, c)"
   ]
  },
  {
   "cell_type": "code",
   "execution_count": 32,
   "id": "134c8519-cd74-4594-bfcb-40e202572674",
   "metadata": {
    "tags": []
   },
   "outputs": [
    {
     "name": "stdout",
     "output_type": "stream",
     "text": [
      "33\n"
     ]
    }
   ],
   "source": [
    "print(ans)"
   ]
  },
  {
   "cell_type": "code",
   "execution_count": 5,
   "id": "0fb792f7-f2f2-423e-bc78-a9b2def336f2",
   "metadata": {
    "tags": []
   },
   "outputs": [
    {
     "data": {
      "text/plain": [
       "134217728"
      ]
     },
     "execution_count": 5,
     "metadata": {},
     "output_type": "execute_result"
    }
   ],
   "source": [
    "2**27"
   ]
  },
  {
   "cell_type": "code",
   "execution_count": null,
   "id": "8ed250cd-e873-4b5e-8816-9376ac656840",
   "metadata": {},
   "outputs": [],
   "source": [
    "# サンプルが合わない"
   ]
  },
  {
   "cell_type": "code",
   "execution_count": 20,
   "id": "a28d02b7-d4c2-4075-adc8-6cb8062e0c4e",
   "metadata": {
    "tags": []
   },
   "outputs": [],
   "source": [
    "from itertools import combinations\n",
    "def solve(P):\n",
    "    visit = [False] * (N+1)\n",
    "    ret = 0\n",
    "    for p in P:\n",
    "        u, v, w = UVWm[p]\n",
    "        visit[u] = True\n",
    "        visit[v] = True\n",
    "        ret += w\n",
    "        ret %= K\n",
    "    \n",
    "    if sum(visit) != N:\n",
    "        return 10**20\n",
    "    \n",
    "    return ret % K"
   ]
  },
  {
   "cell_type": "code",
   "execution_count": 6,
   "id": "d01e9140-1ecc-4e1c-a319-a0c5bdec1504",
   "metadata": {
    "tags": []
   },
   "outputs": [],
   "source": [
    "# 組合せの数を算出\n",
    "from math import factorial\n",
    "def nCr(n, r):\n",
    "    return factorial(n) // (factorial(n-r) * factorial(r))"
   ]
  },
  {
   "cell_type": "code",
   "execution_count": 39,
   "id": "41b1f1b4-5332-4e9b-8eee-87757dbd9385",
   "metadata": {
    "tags": []
   },
   "outputs": [
    {
     "data": {
      "text/plain": [
       "(3108105, 1184040)"
      ]
     },
     "execution_count": 39,
     "metadata": {},
     "output_type": "execute_result"
    }
   ],
   "source": [
    "nCr(28, 8), nCr(28, 7)"
   ]
  },
  {
   "cell_type": "code",
   "execution_count": 18,
   "id": "ea06e5c2-7d04-4ada-b19d-63a2d5452144",
   "metadata": {
    "tags": []
   },
   "outputs": [
    {
     "data": {
      "text/plain": [
       "3"
      ]
     },
     "execution_count": 18,
     "metadata": {},
     "output_type": "execute_result"
    }
   ],
   "source": [
    "len(set([0, 0, 0, 1, 2]))"
   ]
  },
  {
   "cell_type": "code",
   "execution_count": 50,
   "id": "2f4853c9-139c-4a4a-8c62-7efbf2c4035c",
   "metadata": {
    "tags": []
   },
   "outputs": [
    {
     "name": "stdout",
     "output_type": "stream",
     "text": [
      "1 2 99\n",
      "2 3 86\n",
      "2 5 95\n",
      "3 4 81\n"
     ]
    },
    {
     "data": {
      "text/plain": [
       "288"
      ]
     },
     "execution_count": 50,
     "metadata": {},
     "output_type": "execute_result"
    }
   ],
   "source": [
    "solve([0, 2, 4, 5])"
   ]
  },
  {
   "cell_type": "code",
   "execution_count": 67,
   "id": "2a78fa1a-17b3-45da-be11-9d2091d61869",
   "metadata": {
    "tags": []
   },
   "outputs": [
    {
     "data": {
      "text/plain": [
       "([0, 1, 2, 3, 4, 5], [0, 1, 2, 3, 4, 5])"
      ]
     },
     "execution_count": 67,
     "metadata": {},
     "output_type": "execute_result"
    }
   ],
   "source": [
    "list(range(M)), l"
   ]
  },
  {
   "cell_type": "code",
   "execution_count": null,
   "id": "b974517c-1dad-4a07-b010-ffddec243fa0",
   "metadata": {},
   "outputs": [],
   "source": []
  }
 ],
 "metadata": {
  "kernelspec": {
   "display_name": "Python 3 (ipykernel)",
   "language": "python",
   "name": "python3"
  },
  "language_info": {
   "codemirror_mode": {
    "name": "ipython",
    "version": 3
   },
   "file_extension": ".py",
   "mimetype": "text/x-python",
   "name": "python",
   "nbconvert_exporter": "python",
   "pygments_lexer": "ipython3",
   "version": "3.11.3"
  }
 },
 "nbformat": 4,
 "nbformat_minor": 5
}
