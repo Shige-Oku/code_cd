{
 "cells": [
  {
   "cell_type": "code",
   "execution_count": 1,
   "id": "8370d9cf-c8f8-44ff-a804-96a32c64bc8c",
   "metadata": {
    "tags": []
   },
   "outputs": [],
   "source": [
    "import sys\n",
    "import numpy as np\n",
    "import math\n",
    "import collections\n",
    "import copy\n",
    "import decimal\n",
    "import itertools\n",
    "import re\n",
    "import bisect\n",
    "import scipy\n",
    "import heapq\n",
    "from collections import deque \n",
    "from functools import reduce\n",
    "from itertools import product\n",
    "from itertools import combinations\n",
    "from functools import lru_cache\n",
    "from scipy.special import comb\n",
    "from numba import njit\n",
    "from bisect import bisect_right\n",
    "from bisect import bisect_left"
   ]
  },
  {
   "cell_type": "code",
   "execution_count": 2,
   "id": "1c96c710-34f8-4486-b118-f650044ea9b8",
   "metadata": {
    "tags": []
   },
   "outputs": [
    {
     "name": "stdin",
     "output_type": "stream",
     "text": [
      " 11 4\n"
     ]
    }
   ],
   "source": [
    "N, Q = map(int, input().split())"
   ]
  },
  {
   "cell_type": "code",
   "execution_count": 3,
   "id": "c4ad27f6-4639-467a-b9cb-44efe9146ab2",
   "metadata": {
    "tags": []
   },
   "outputs": [
    {
     "name": "stdin",
     "output_type": "stream",
     "text": [
      " mississippi\n"
     ]
    }
   ],
   "source": [
    "S = input()"
   ]
  },
  {
   "cell_type": "code",
   "execution_count": 4,
   "id": "a7c5d05e-f7c8-4054-ba83-4e3e060d03ad",
   "metadata": {
    "tags": []
   },
   "outputs": [
    {
     "name": "stdin",
     "output_type": "stream",
     "text": [
      " 3 9\n",
      " 4 10\n",
      " 4 6\n",
      " 7 7\n"
     ]
    }
   ],
   "source": [
    "LRq = [list(map(int, input().split())) for _ in range(Q)]"
   ]
  },
  {
   "cell_type": "code",
   "execution_count": 20,
   "id": "b201e266-f03c-45f7-b4a3-1424fc7a2c62",
   "metadata": {
    "tags": []
   },
   "outputs": [],
   "source": [
    "from itertools import accumulate\n",
    "ls = [0, ]\n",
    "for i in range(N-1):\n",
    "    if S[i] == S[i+1]:\n",
    "        ls.append(1)\n",
    "    else:\n",
    "        ls.append(0)\n",
    "ls.append(0)\n",
    "rs = [0, ]\n",
    "for i in range(N-1, 0, -1):\n",
    "    if S[i] == S[i-1]:\n",
    "        rs.append(1)\n",
    "    else:\n",
    "        rs.append(0)\n",
    "rs.append(0)\n",
    "ls_c = list(accumulate(ls))\n",
    "rs_c = list(accumulate(rs))\n",
    "rs_cr = rs_c[::-1]"
   ]
  },
  {
   "cell_type": "code",
   "execution_count": 32,
   "id": "e37569e7-a920-4d25-984c-2d7f532a0c15",
   "metadata": {
    "tags": []
   },
   "outputs": [
    {
     "name": "stdout",
     "output_type": "stream",
     "text": [
      "2\n",
      "2\n",
      "0\n",
      "0\n"
     ]
    }
   ],
   "source": [
    "for L, R in LRq:\n",
    "    print(ls_c[R-1] - ls_c[L-1])"
   ]
  },
  {
   "cell_type": "code",
   "execution_count": 23,
   "id": "fb80fb5d-c0cf-4a55-a81a-a4b55d513dd0",
   "metadata": {
    "tags": []
   },
   "outputs": [
    {
     "data": {
      "text/plain": [
       "([0, 0, 0, 1, 0, 0, 1, 0, 0, 1, 0, 0],\n",
       " [0, 0, 1, 0, 0, 1, 0, 0, 1, 0, 0, 0],\n",
       " [0, 0, 0, 1, 1, 1, 2, 2, 2, 3, 3, 3],\n",
       " [3, 3, 3, 3, 2, 2, 2, 1, 1, 1, 0, 0])"
      ]
     },
     "execution_count": 23,
     "metadata": {},
     "output_type": "execute_result"
    }
   ],
   "source": [
    "ls, rs, ls_c, rs_cr"
   ]
  },
  {
   "cell_type": "code",
   "execution_count": 29,
   "id": "debe5016-040a-4ba8-9bdd-bab1d4f7172a",
   "metadata": {
    "tags": []
   },
   "outputs": [
    {
     "data": {
      "text/plain": [
       "(1, 2, 3)"
      ]
     },
     "execution_count": 29,
     "metadata": {},
     "output_type": "execute_result"
    }
   ],
   "source": [
    "ls_c[3], rs_cr[-8], rs_cr[-9]"
   ]
  },
  {
   "cell_type": "code",
   "execution_count": 27,
   "id": "2b9362d1-8375-495d-9ab7-3c2613cfbef7",
   "metadata": {
    "tags": []
   },
   "outputs": [
    {
     "data": {
      "text/plain": [
       "12"
      ]
     },
     "execution_count": 27,
     "metadata": {},
     "output_type": "execute_result"
    }
   ],
   "source": [
    "len(ls_c)"
   ]
  },
  {
   "cell_type": "code",
   "execution_count": null,
   "id": "25a8700b-03c2-4b9c-bb23-b50374c23524",
   "metadata": {},
   "outputs": [],
   "source": []
  }
 ],
 "metadata": {
  "kernelspec": {
   "display_name": "Python 3 (ipykernel)",
   "language": "python",
   "name": "python3"
  },
  "language_info": {
   "codemirror_mode": {
    "name": "ipython",
    "version": 3
   },
   "file_extension": ".py",
   "mimetype": "text/x-python",
   "name": "python",
   "nbconvert_exporter": "python",
   "pygments_lexer": "ipython3",
   "version": "3.11.3"
  }
 },
 "nbformat": 4,
 "nbformat_minor": 5
}
