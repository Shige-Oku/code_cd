{
 "cells": [
  {
   "cell_type": "code",
   "execution_count": 1,
   "id": "4443d29a-7367-468f-ba01-0ac0ae22b5bb",
   "metadata": {},
   "outputs": [],
   "source": [
    "import sys\n",
    "import numpy as np\n",
    "import math\n",
    "import collections\n",
    "import copy\n",
    "import decimal\n",
    "import itertools\n",
    "import re\n",
    "import bisect\n",
    "import scipy\n",
    "import heapq\n",
    "from collections import deque \n",
    "from functools import reduce\n",
    "from itertools import product\n",
    "from itertools import combinations\n",
    "from functools import lru_cache\n",
    "from scipy.special import comb\n",
    "from numba import njit\n",
    "from bisect import bisect_right\n",
    "from bisect import bisect_left"
   ]
  },
  {
   "cell_type": "code",
   "execution_count": 2,
   "id": "7c729ce2-bf6c-465d-9887-da72d0cdc1bd",
   "metadata": {},
   "outputs": [
    {
     "name": "stdin",
     "output_type": "stream",
     "text": [
      " 4 6\n"
     ]
    }
   ],
   "source": [
    "N, K = map(int, input().split())"
   ]
  },
  {
   "cell_type": "code",
   "execution_count": 3,
   "id": "e9aca910-fae8-46ef-bcbe-0b82d9d993c0",
   "metadata": {},
   "outputs": [
    {
     "name": "stdin",
     "output_type": "stream",
     "text": [
      " 20 25 30 100\n"
     ]
    }
   ],
   "source": [
    "An = list(map(int, input().split()))"
   ]
  },
  {
   "cell_type": "code",
   "execution_count": 39,
   "id": "09a87cd5-5270-4299-b391-f2a6c79e30d4",
   "metadata": {},
   "outputs": [],
   "source": [
    "def check(m, n, c):\n",
    "    ret = 0\n",
    "    if m >= N:\n",
    "        return False\n",
    "    km = An_s[m]\n",
    "    if n % km == 0:\n",
    "        return True\n",
    "    cnt = 0\n",
    "    while n - km >= 0:\n",
    "        ret = check(m+1, n, c)\n",
    "        if ret:\n",
    "            return True\n",
    "        n -= km\n",
    "        c += 1\n",
    "    return False"
   ]
  },
  {
   "cell_type": "code",
   "execution_count": 42,
   "id": "1d11cb27-e06a-424c-b9c3-857df35cc21d",
   "metadata": {},
   "outputs": [],
   "source": [
    "def myBisect():\n",
    "    l = An_s[0]\n",
    "    r = An_s[0] * K\n",
    "    while l + 1 < r:\n",
    "        m = (l + r) // 2\n",
    "        if check(0, m, 0):\n",
    "            r = m\n",
    "        else:\n",
    "            l = m\n",
    "    return r"
   ]
  },
  {
   "cell_type": "code",
   "execution_count": 43,
   "id": "0fba5a0a-894d-4381-9e43-42555b379a94",
   "metadata": {},
   "outputs": [
    {
     "name": "stdout",
     "output_type": "stream",
     "text": [
      "20 70 120\n",
      "20 45 70\n",
      "20 32 45\n",
      "32 38 45\n",
      "38 41 45\n",
      "41 43 45\n",
      "43 44 45\n",
      "45\n"
     ]
    }
   ],
   "source": [
    "An_s = sorted(An)\n",
    "print(myBisect())"
   ]
  },
  {
   "cell_type": "code",
   "execution_count": null,
   "id": "3865e869-ea7c-4b90-9ba7-fb04f43c7698",
   "metadata": {},
   "outputs": [],
   "source": []
  }
 ],
 "metadata": {
  "kernelspec": {
   "display_name": "Python 3",
   "language": "python",
   "name": "python3"
  },
  "language_info": {
   "codemirror_mode": {
    "name": "ipython",
    "version": 3
   },
   "file_extension": ".py",
   "mimetype": "text/x-python",
   "name": "python",
   "nbconvert_exporter": "python",
   "pygments_lexer": "ipython3",
   "version": "3.6.13"
  }
 },
 "nbformat": 4,
 "nbformat_minor": 5
}
