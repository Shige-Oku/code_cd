{
 "cells": [
  {
   "cell_type": "code",
   "execution_count": 1,
   "id": "55cf2a0f-6c0d-4bab-ad60-2309852425ff",
   "metadata": {},
   "outputs": [],
   "source": [
    "import sys\n",
    "import numpy as np\n",
    "import math\n",
    "import collections\n",
    "import copy\n",
    "import decimal\n",
    "import itertools\n",
    "import re\n",
    "import bisect\n",
    "import scipy\n",
    "import heapq\n",
    "from collections import deque \n",
    "from functools import reduce\n",
    "from itertools import product\n",
    "from itertools import combinations\n",
    "from functools import lru_cache\n",
    "from scipy.special import comb\n",
    "from numba import njit\n",
    "from bisect import bisect_right\n",
    "from bisect import bisect_left"
   ]
  },
  {
   "cell_type": "code",
   "execution_count": 2,
   "id": "d4a45fa2-4fd6-4f1f-bd89-19fd6a1b5ded",
   "metadata": {},
   "outputs": [
    {
     "name": "stdin",
     "output_type": "stream",
     "text": [
      " 3 3\n"
     ]
    }
   ],
   "source": [
    "N, M = map(int, input().split())"
   ]
  },
  {
   "cell_type": "code",
   "execution_count": 3,
   "id": "c11640d2-1ed1-4e3e-b1fa-6b3806479703",
   "metadata": {},
   "outputs": [
    {
     "name": "stdin",
     "output_type": "stream",
     "text": [
      " 142857\n",
      " 004159\n",
      " 071028\n"
     ]
    }
   ],
   "source": [
    "Sn = [input() for _ in range(N)]"
   ]
  },
  {
   "cell_type": "code",
   "execution_count": 4,
   "id": "d69ca6a9-7436-4e03-b74a-0e9d0653aabd",
   "metadata": {},
   "outputs": [
    {
     "name": "stdin",
     "output_type": "stream",
     "text": [
      " 159\n",
      " 287\n",
      " 857\n"
     ]
    }
   ],
   "source": [
    "Tn = [input() for _ in range(M)]"
   ]
  },
  {
   "cell_type": "code",
   "execution_count": 7,
   "id": "4c966410-452e-424a-b675-53b8cfb5b147",
   "metadata": {},
   "outputs": [],
   "source": [
    "Tms = set(Tn)\n",
    "ans = 0\n",
    "for S in Sn:\n",
    "    if S[3:] in Tms:\n",
    "        ans += 1"
   ]
  },
  {
   "cell_type": "code",
   "execution_count": 8,
   "id": "c86b1ffd-8782-4dab-869a-dc7ff82d35dd",
   "metadata": {},
   "outputs": [
    {
     "name": "stdout",
     "output_type": "stream",
     "text": [
      "2\n"
     ]
    }
   ],
   "source": [
    "print(ans)"
   ]
  },
  {
   "cell_type": "code",
   "execution_count": 6,
   "id": "c504daad-5ab4-429f-aba4-edbb8ff96362",
   "metadata": {},
   "outputs": [
    {
     "data": {
      "text/plain": [
       "{'159', '287', '857'}"
      ]
     },
     "execution_count": 6,
     "metadata": {},
     "output_type": "execute_result"
    }
   ],
   "source": [
    "Tms"
   ]
  },
  {
   "cell_type": "code",
   "execution_count": null,
   "id": "1a05caf5-ec5b-4532-bfcb-8acea21997ce",
   "metadata": {},
   "outputs": [],
   "source": []
  }
 ],
 "metadata": {
  "kernelspec": {
   "display_name": "Python 3",
   "language": "python",
   "name": "python3"
  },
  "language_info": {
   "codemirror_mode": {
    "name": "ipython",
    "version": 3
   },
   "file_extension": ".py",
   "mimetype": "text/x-python",
   "name": "python",
   "nbconvert_exporter": "python",
   "pygments_lexer": "ipython3",
   "version": "3.6.13"
  }
 },
 "nbformat": 4,
 "nbformat_minor": 5
}
