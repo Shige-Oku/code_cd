{
 "cells": [
  {
   "cell_type": "code",
   "execution_count": 1,
   "id": "cb5a3afd-687a-419e-8f9e-5e661b47f5c2",
   "metadata": {},
   "outputs": [],
   "source": [
    "import sys\n",
    "import numpy as np\n",
    "import math\n",
    "import collections\n",
    "import copy\n",
    "import decimal\n",
    "import itertools\n",
    "import re\n",
    "import bisect\n",
    "import scipy\n",
    "import heapq\n",
    "from collections import deque \n",
    "from functools import reduce\n",
    "from itertools import product\n",
    "from itertools import combinations\n",
    "from functools import lru_cache\n",
    "from scipy.special import comb\n",
    "from numba import njit\n",
    "from bisect import bisect_right\n",
    "from bisect import bisect_left"
   ]
  },
  {
   "cell_type": "code",
   "execution_count": 1,
   "id": "86e129d3-d933-46f5-8b6e-d7568b437b19",
   "metadata": {},
   "outputs": [
    {
     "name": "stdin",
     "output_type": "stream",
     "text": [
      " 2 0\n"
     ]
    }
   ],
   "source": [
    "N, M = map(int, input().split())"
   ]
  },
  {
   "cell_type": "code",
   "execution_count": 2,
   "id": "554d6563-6ff3-4d3e-9dcf-4a581b8fc0ec",
   "metadata": {},
   "outputs": [],
   "source": [
    "UVm = [list(map(int, input().split())) for _ in range(M)]"
   ]
  },
  {
   "cell_type": "code",
   "execution_count": 46,
   "id": "e8c60fd7-973f-45d4-9c51-a5e9b009e492",
   "metadata": {},
   "outputs": [],
   "source": [
    "from collections import defaultdict\n",
    "import sys\n",
    "sys.setrecursionlimit(10**7)\n",
    "class UnionFind():\n",
    "    # イニシャライザ\n",
    "    def __init__(self, n):\n",
    "        self.n = n  # 頂点の数\n",
    "        self.parents = [-1] * n  # 親の頂点。根は -1\n",
    "        self.size = [1] * n  # 各頂点の所属する木の頂点数\n",
    "        sys.setrecursionlimit(10**7)\n",
    "        \n",
    "    # 根を返す\n",
    "    def root(self, x):\n",
    "        if self.parents[x] < 0: # 根なのでそのまま返す\n",
    "            return x\n",
    "        else:\n",
    "            self.parents[x] = self.root(self.parents[x])  # 経路圧縮\n",
    "            return self.parents[x]\n",
    "        \n",
    "    # x, y が同じ木に属するか\n",
    "    def issame(self, x, y):\n",
    "        return self.root(x) == self.root(y)\n",
    "    \n",
    "    # x y を併合する    \n",
    "    def unite(self, x, y):\n",
    "        x = self.root(x)\n",
    "        y = self.root(y)\n",
    "        \n",
    "        # 元々同じ木に所属するので、何もせずリターン\n",
    "        if x == y:\n",
    "            return False\n",
    "        \n",
    "        # 大きいほうにまとめる。 y を x にまとめるようにスワップ\n",
    "        if self.parents[x] < self.parents[y]:\n",
    "            x, y = y, x\n",
    "        # 小さいほうの親を大きいほうを親に\n",
    "        self.parents[y] = x\n",
    "        # 大きいほうの頂点に小さいほうの数を加算\n",
    "        self.size[x] += self.size[y]\n",
    "        return True\n",
    "    \n",
    "    # x の所属する頂点数を返す\n",
    "    def getsize(self, x):\n",
    "        return self.size[self.root(x)]\n",
    "\n",
    "    # x の所属する頂点の一覧を返す\n",
    "    def getmembers(self, x):\n",
    "        root = self.root(x)\n",
    "        return [i for i in range(self.n) if self.root(i) == root]    "
   ]
  },
  {
   "cell_type": "code",
   "execution_count": 5,
   "id": "f74133a4-09b1-4c0c-a323-2effc36ba4fa",
   "metadata": {},
   "outputs": [],
   "source": [
    "graph = [[] for _ in range(N+1)]\n",
    "for U, V in UVm:\n",
    "    graph[U].append(V)\n",
    "    graph[V].append(U)"
   ]
  },
  {
   "cell_type": "code",
   "execution_count": 8,
   "id": "560e774c-577e-4170-a31c-f73f219beb7b",
   "metadata": {},
   "outputs": [],
   "source": [
    "def myCheck():\n",
    "#     if M != N-1:\n",
    "#         return False\n",
    "    for i in range(1, N+1):\n",
    "        if len(graph[i]) == 0 or len(graph[i]) > 2:\n",
    "            return False\n",
    "    uf = UnionFind(N+1)\n",
    "    for U, V in UVm:\n",
    "        if uf.issame(U, V):\n",
    "            return False\n",
    "        uf.unite(U, V)\n",
    "    for i in range(2, N+1):\n",
    "        if not uf.issame(1, i):\n",
    "            return False\n",
    "    return True"
   ]
  },
  {
   "cell_type": "code",
   "execution_count": 9,
   "id": "a2440b87-230a-413b-a2cc-3ffc5120e6d9",
   "metadata": {},
   "outputs": [
    {
     "name": "stdout",
     "output_type": "stream",
     "text": [
      "No\n"
     ]
    }
   ],
   "source": [
    "print('Yes' if myCheck() else 'No')"
   ]
  },
  {
   "cell_type": "code",
   "execution_count": 10,
   "id": "29e0eac0-178b-4906-a8e7-3f7f1cb3d30f",
   "metadata": {},
   "outputs": [],
   "source": [
    "graph = [[] for _ in range(N+1)]\n",
    "for U, V in UVm:\n",
    "    graph[U].append(V)\n",
    "    graph[V].append(U)"
   ]
  },
  {
   "cell_type": "code",
   "execution_count": 56,
   "id": "e98c9863-de87-4106-acd4-7684b6b4051a",
   "metadata": {},
   "outputs": [],
   "source": [
    "from collections import deque\n",
    "def solve():\n",
    "    if M != N-1:\n",
    "        return False\n",
    "    for i in range(1, N+1):\n",
    "        if len(graph[i]) == 0 or len(graph[i]) > 2:\n",
    "            return False\n",
    "    visit = [False] * (N+1)\n",
    "    q = deque()\n",
    "    q.append(1)\n",
    "    visit[1] = True\n",
    "    while q:\n",
    "        p = q.popleft()\n",
    "        for g in graph[p]:\n",
    "            if visit[g]:\n",
    "                continue\n",
    "            visit[g] = True\n",
    "            q.append(g)\n",
    "    return sum(visit) == N"
   ]
  },
  {
   "cell_type": "code",
   "execution_count": 57,
   "id": "36e45aa7-e34d-43dc-8d1c-4f8a65508d00",
   "metadata": {},
   "outputs": [
    {
     "name": "stdout",
     "output_type": "stream",
     "text": [
      "No\n"
     ]
    }
   ],
   "source": [
    "print('Yes' if solve() else 'No')"
   ]
  },
  {
   "cell_type": "code",
   "execution_count": null,
   "id": "115432b5-64d3-47c5-82d3-d96666947be6",
   "metadata": {},
   "outputs": [],
   "source": [
    "# WA"
   ]
  },
  {
   "cell_type": "code",
   "execution_count": 38,
   "id": "889a5002-d2df-46bd-8816-5a431236f48e",
   "metadata": {},
   "outputs": [],
   "source": [
    "def myCheck():\n",
    "    e1, e2 = 0, 0\n",
    "    for i in range(1, N+1):\n",
    "        if len(graph[i]) == 1:\n",
    "            e1 += 1\n",
    "        elif len(graph[i]c) == 2:\n",
    "            e2 += 1\n",
    "        else:\n",
    "            return False\n",
    "    return e1 == 2"
   ]
  },
  {
   "cell_type": "code",
   "execution_count": 39,
   "id": "30006b9e-637f-4a6d-9df1-d20326b26a68",
   "metadata": {},
   "outputs": [
    {
     "name": "stdout",
     "output_type": "stream",
     "text": [
      "Yes\n"
     ]
    }
   ],
   "source": [
    "print('Yes' if myCheck() else 'No')"
   ]
  },
  {
   "cell_type": "code",
   "execution_count": 34,
   "id": "22eceae9-da6c-4472-a5ab-a8ebb6aa0a74",
   "metadata": {},
   "outputs": [],
   "source": [
    "from collections import deque\n",
    "def BFS():\n",
    "    dist = [-1] * (N+1)\n",
    "    q = deque()\n",
    "    q.append(1)\n",
    "    dist[1] = 0\n",
    "    while q:\n",
    "        p = q.popleft()\n",
    "        for g in graph[p]:\n",
    "            if dist[g] != -1:\n",
    "                continue\n",
    "            dist[g] = dist[p] + 1\n",
    "            q.append(g)\n",
    "    for i, d in enumerate(sorted(dist[1:])):\n",
    "        if i != d:\n",
    "            return False\n",
    "    return True"
   ]
  },
  {
   "cell_type": "code",
   "execution_count": 35,
   "id": "2433b20a-a699-4921-89cf-35bb645f6640",
   "metadata": {},
   "outputs": [
    {
     "name": "stdout",
     "output_type": "stream",
     "text": [
      "[-1, 0, 2, 1, 3]\n",
      "Yes\n"
     ]
    }
   ],
   "source": [
    "print('Yes' if BFS() else 'No')"
   ]
  },
  {
   "cell_type": "code",
   "execution_count": null,
   "id": "ca51f8f0-715b-47b8-9e27-c3b90e41ad79",
   "metadata": {},
   "outputs": [],
   "source": []
  }
 ],
 "metadata": {
  "kernelspec": {
   "display_name": "Python 3",
   "language": "python",
   "name": "python3"
  },
  "language_info": {
   "codemirror_mode": {
    "name": "ipython",
    "version": 3
   },
   "file_extension": ".py",
   "mimetype": "text/x-python",
   "name": "python",
   "nbconvert_exporter": "python",
   "pygments_lexer": "ipython3",
   "version": "3.6.13"
  }
 },
 "nbformat": 4,
 "nbformat_minor": 5
}
