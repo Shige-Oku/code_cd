{
 "cells": [
  {
   "cell_type": "code",
   "execution_count": 1,
   "id": "88ef84b4-9429-4f35-87a7-3a5e7528e73d",
   "metadata": {
    "tags": []
   },
   "outputs": [],
   "source": [
    "import sys\n",
    "import numpy as np\n",
    "import math\n",
    "import collections\n",
    "import copy\n",
    "import decimal\n",
    "import itertools\n",
    "import re\n",
    "import bisect\n",
    "import scipy\n",
    "import heapq\n",
    "from collections import deque \n",
    "from functools import reduce\n",
    "from itertools import product\n",
    "from itertools import combinations\n",
    "from functools import lru_cache\n",
    "from scipy.special import comb\n",
    "from numba import njit\n",
    "from bisect import bisect_right\n",
    "from bisect import bisect_left"
   ]
  },
  {
   "cell_type": "code",
   "execution_count": 8,
   "id": "ae18081d-3229-49cc-a5e5-076a46b92490",
   "metadata": {
    "tags": []
   },
   "outputs": [
    {
     "name": "stdin",
     "output_type": "stream",
     "text": [
      " 2 2000 500\n"
     ]
    }
   ],
   "source": [
    "N, S, K = map(int, input().split())"
   ]
  },
  {
   "cell_type": "code",
   "execution_count": 9,
   "id": "1eb18b17-123d-4ecf-8d4e-0b044c6e2f35",
   "metadata": {
    "tags": []
   },
   "outputs": [
    {
     "name": "stdin",
     "output_type": "stream",
     "text": [
      " 1000 1\n",
      " 1000 1\n"
     ]
    }
   ],
   "source": [
    "PQn = [list(map(int, input().split())) for _ in range(N)]"
   ]
  },
  {
   "cell_type": "code",
   "execution_count": 10,
   "id": "5591de02-dff3-4c92-b0cd-aa14375c10a2",
   "metadata": {
    "tags": []
   },
   "outputs": [],
   "source": [
    "ans = 0\n",
    "for P, Q in PQn:\n",
    "    ans += P * Q"
   ]
  },
  {
   "cell_type": "code",
   "execution_count": 11,
   "id": "97a55d78-740b-44b3-82ff-965d44d37402",
   "metadata": {
    "tags": []
   },
   "outputs": [
    {
     "name": "stdout",
     "output_type": "stream",
     "text": [
      "2000\n"
     ]
    }
   ],
   "source": [
    "print(ans if ans >= S else ans + K)"
   ]
  },
  {
   "cell_type": "code",
   "execution_count": null,
   "id": "b9fb1925-a3d3-408d-866f-e6ecb8d02a99",
   "metadata": {},
   "outputs": [],
   "source": []
  }
 ],
 "metadata": {
  "kernelspec": {
   "display_name": "Python 3 (ipykernel)",
   "language": "python",
   "name": "python3"
  },
  "language_info": {
   "codemirror_mode": {
    "name": "ipython",
    "version": 3
   },
   "file_extension": ".py",
   "mimetype": "text/x-python",
   "name": "python",
   "nbconvert_exporter": "python",
   "pygments_lexer": "ipython3",
   "version": "3.11.3"
  }
 },
 "nbformat": 4,
 "nbformat_minor": 5
}
