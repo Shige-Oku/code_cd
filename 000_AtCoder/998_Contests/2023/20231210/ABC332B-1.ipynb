{
 "cells": [
  {
   "cell_type": "code",
   "execution_count": 1,
   "id": "ff450629-1080-4e93-a7cc-e4556e303364",
   "metadata": {
    "tags": []
   },
   "outputs": [],
   "source": [
    "import sys\n",
    "import numpy as np\n",
    "import math\n",
    "import collections\n",
    "import copy\n",
    "import decimal\n",
    "import itertools\n",
    "import re\n",
    "import bisect\n",
    "import scipy\n",
    "import heapq\n",
    "from collections import deque \n",
    "from functools import reduce\n",
    "from itertools import product\n",
    "from itertools import combinations\n",
    "from functools import lru_cache\n",
    "from scipy.special import comb\n",
    "from numba import njit\n",
    "from bisect import bisect_right\n",
    "from bisect import bisect_left"
   ]
  },
  {
   "cell_type": "code",
   "execution_count": 33,
   "id": "9330d4b3-54d8-4a7b-b04c-df282b862f70",
   "metadata": {
    "tags": []
   },
   "outputs": [
    {
     "name": "stdin",
     "output_type": "stream",
     "text": [
      " 5 300 500\n"
     ]
    }
   ],
   "source": [
    "K, G, M = map(int, input().split())"
   ]
  },
  {
   "cell_type": "code",
   "execution_count": 36,
   "id": "007bcba8-3ebd-4768-87ef-620ba0524d95",
   "metadata": {
    "tags": []
   },
   "outputs": [],
   "source": [
    "def solve():\n",
    "    g, m = 0, 0\n",
    "    cnt = 0\n",
    "    while cnt < K:\n",
    "        if g == G:\n",
    "            g = 0\n",
    "            cnt += 1\n",
    "        elif m == 0:\n",
    "            m = M\n",
    "            cnt += 1\n",
    "        else:\n",
    "            s = min(G-g, m)\n",
    "            g += s\n",
    "            m -= s\n",
    "            cnt += 1\n",
    "    return g, m"
   ]
  },
  {
   "cell_type": "code",
   "execution_count": 37,
   "id": "8b1867d0-3944-4e2c-92d1-fc90f7b7f1ec",
   "metadata": {
    "tags": []
   },
   "outputs": [
    {
     "name": "stdout",
     "output_type": "stream",
     "text": [
      "200 500\n"
     ]
    }
   ],
   "source": [
    "g, m = solve()\n",
    "print(g, m)"
   ]
  },
  {
   "cell_type": "code",
   "execution_count": null,
   "id": "d7ddfdec-9f8f-4df8-bffd-337c367b032d",
   "metadata": {},
   "outputs": [],
   "source": []
  }
 ],
 "metadata": {
  "kernelspec": {
   "display_name": "Python 3 (ipykernel)",
   "language": "python",
   "name": "python3"
  },
  "language_info": {
   "codemirror_mode": {
    "name": "ipython",
    "version": 3
   },
   "file_extension": ".py",
   "mimetype": "text/x-python",
   "name": "python",
   "nbconvert_exporter": "python",
   "pygments_lexer": "ipython3",
   "version": "3.11.3"
  }
 },
 "nbformat": 4,
 "nbformat_minor": 5
}
