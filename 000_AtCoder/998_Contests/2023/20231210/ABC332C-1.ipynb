{
 "cells": [
  {
   "cell_type": "code",
   "execution_count": 1,
   "id": "b73f99e6-d56a-4f10-b397-7da825dd3295",
   "metadata": {
    "tags": []
   },
   "outputs": [],
   "source": [
    "import sys\n",
    "import numpy as np\n",
    "import math\n",
    "import collections\n",
    "import copy\n",
    "import decimal\n",
    "import itertools\n",
    "import re\n",
    "import bisect\n",
    "import scipy\n",
    "import heapq\n",
    "from collections import deque \n",
    "from functools import reduce\n",
    "from itertools import product\n",
    "from itertools import combinations\n",
    "from functools import lru_cache\n",
    "from scipy.special import comb\n",
    "from numba import njit\n",
    "from bisect import bisect_right\n",
    "from bisect import bisect_left"
   ]
  },
  {
   "cell_type": "code",
   "execution_count": 17,
   "id": "1be3181a-b0b7-4a03-896d-76c70c0108cc",
   "metadata": {
    "tags": []
   },
   "outputs": [
    {
     "name": "stdin",
     "output_type": "stream",
     "text": [
      " 2 1\n"
     ]
    }
   ],
   "source": [
    "N, M = map(int, input().split())"
   ]
  },
  {
   "cell_type": "code",
   "execution_count": 18,
   "id": "1b883596-04f1-4f64-8b94-9dd13ed8902e",
   "metadata": {
    "tags": []
   },
   "outputs": [
    {
     "name": "stdin",
     "output_type": "stream",
     "text": [
      " 01\n"
     ]
    }
   ],
   "source": [
    "S = input()"
   ]
  },
  {
   "cell_type": "code",
   "execution_count": 21,
   "id": "c6eb078e-751f-4489-9c34-e36548f79123",
   "metadata": {
    "tags": []
   },
   "outputs": [],
   "source": [
    "m, r = 0, 0\n",
    "mm, rm = M, 0\n",
    "for s in S:\n",
    "    if s == '0':\n",
    "        mm = max(mm, m)\n",
    "        rm = max(rm, r)\n",
    "        m, r = 0, 0\n",
    "    elif s == '1':\n",
    "        if m < mm:\n",
    "            m += 1\n",
    "        else:\n",
    "            r += 1\n",
    "    else:\n",
    "        r += 1\n",
    "else:\n",
    "    mm = max(mm, m)\n",
    "    rm = max(rm, r)\n",
    "    "
   ]
  },
  {
   "cell_type": "code",
   "execution_count": 22,
   "id": "c9f44fcc-8e9b-417d-b274-8c4983ab6994",
   "metadata": {
    "tags": []
   },
   "outputs": [
    {
     "name": "stdout",
     "output_type": "stream",
     "text": [
      "0\n"
     ]
    }
   ],
   "source": [
    "print(max(0, mm-M) + rm)"
   ]
  },
  {
   "cell_type": "code",
   "execution_count": null,
   "id": "e02cda02-58be-4ef6-b91d-33068302f2eb",
   "metadata": {},
   "outputs": [],
   "source": []
  }
 ],
 "metadata": {
  "kernelspec": {
   "display_name": "Python 3 (ipykernel)",
   "language": "python",
   "name": "python3"
  },
  "language_info": {
   "codemirror_mode": {
    "name": "ipython",
    "version": 3
   },
   "file_extension": ".py",
   "mimetype": "text/x-python",
   "name": "python",
   "nbconvert_exporter": "python",
   "pygments_lexer": "ipython3",
   "version": "3.11.3"
  }
 },
 "nbformat": 4,
 "nbformat_minor": 5
}
