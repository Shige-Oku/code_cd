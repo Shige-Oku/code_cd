{
 "cells": [
  {
   "cell_type": "code",
   "execution_count": 1,
   "id": "004556df-26c5-4b5b-96df-48627ec712bb",
   "metadata": {
    "tags": []
   },
   "outputs": [],
   "source": [
    "import sys\n",
    "import numpy as np\n",
    "import math\n",
    "import collections\n",
    "import copy\n",
    "import decimal\n",
    "import itertools\n",
    "import re\n",
    "import bisect\n",
    "import scipy\n",
    "import heapq\n",
    "from collections import deque \n",
    "from functools import reduce\n",
    "from itertools import product\n",
    "from itertools import combinations\n",
    "from functools import lru_cache\n",
    "from scipy.special import comb\n",
    "from numba import njit\n",
    "from bisect import bisect_right\n",
    "from bisect import bisect_left"
   ]
  },
  {
   "cell_type": "code",
   "execution_count": 2,
   "id": "a0dac733-722d-4226-b0e7-e83921fa59bb",
   "metadata": {
    "tags": []
   },
   "outputs": [
    {
     "name": "stdin",
     "output_type": "stream",
     "text": [
      " 4 5\n"
     ]
    }
   ],
   "source": [
    "H, W = map(int, input().split())"
   ]
  },
  {
   "cell_type": "code",
   "execution_count": 3,
   "id": "f1af0c25-2c05-4b41-a4f8-6096e3cface3",
   "metadata": {
    "tags": []
   },
   "outputs": [
    {
     "name": "stdin",
     "output_type": "stream",
     "text": [
      " 1 2 3 4 5\n",
      " 6 7 8 9 10\n",
      " 11 12 13 14 15\n",
      " 16 17 18 19 20\n"
     ]
    }
   ],
   "source": [
    "Ahw = [list(map(int, input().split())) for _ in range(H)]"
   ]
  },
  {
   "cell_type": "code",
   "execution_count": 4,
   "id": "589cb871-f859-431a-b5cf-67878044a476",
   "metadata": {
    "tags": []
   },
   "outputs": [
    {
     "name": "stdin",
     "output_type": "stream",
     "text": [
      " 1 3 2 5 4\n",
      " 11 13 12 15 14\n",
      " 6 8 7 10 9\n",
      " 16 18 17 20 19\n"
     ]
    }
   ],
   "source": [
    "Bhw = [list(map(int, input().split())) for _ in range(H)]"
   ]
  },
  {
   "cell_type": "code",
   "execution_count": 42,
   "id": "2e40944c-1e69-476e-b731-1d12ee655998",
   "metadata": {
    "tags": []
   },
   "outputs": [],
   "source": [
    "def check_r():\n",
    "    ret = 0\n",
    "    Ahw_s = []\n",
    "    for A in Ahw:\n",
    "        Ahw_s.append(sorted(A))\n",
    "    Bhw_s = []\n",
    "    for B in Bhw:\n",
    "        Bhw_s.append(sorted(B))\n",
    "    o, n = 0, 0\n",
    "    for i, (A, B) in enumerate(zip(Ahw_s, Bhw_s)):\n",
    "        if A not in Bhw_s:\n",
    "            return -1\n",
    "        if A == B:\n",
    "            continue\n",
    "        for j, B2 in enumerate(Bhw_s):\n",
    "            if A == B2:\n",
    "                o += 1\n",
    "            else:\n",
    "                n += 1\n",
    "                \n",
    "    ret =  o // 2\n",
    "    if n == 3:\n",
    "        ret += 1\n",
    "    elif n == 4:\n",
    "        ret += 3\n",
    "    elif n == 5:\n",
    "        ret += 4\n",
    "    return ret "
   ]
  },
  {
   "cell_type": "code",
   "execution_count": 55,
   "id": "96e76617-aee9-4113-807c-30a813b7eb02",
   "metadata": {
    "tags": []
   },
   "outputs": [],
   "source": [
    "def check_c():\n",
    "    ret = 0\n",
    "    Ahw_s = []\n",
    "    for A in zip(*Ahw):\n",
    "        Ahw_s.append(sorted(A))\n",
    "    Bhw_s = []\n",
    "    for B in zip(*Bhw):\n",
    "        Bhw_s.append(sorted(B))\n",
    "    o, n = 0, 0\n",
    "    for i, (A, B) in enumerate(zip(Ahw_s, Bhw_s)):\n",
    "        if A not in Bhw_s:\n",
    "            return -1\n",
    "        if A == B:\n",
    "            continue\n",
    "        for j, B2 in enumerate(Bhw_s):\n",
    "            if A == B2:\n",
    "                o += 1\n",
    "            else:\n",
    "                n += 1\n",
    "                \n",
    "    ret =  o // 2\n",
    "    if n == 3:\n",
    "        ret += 1\n",
    "    elif n == 4:\n",
    "        ret += 3\n",
    "    elif n == 5:\n",
    "        ret += 4\n",
    "    return ret"
   ]
  },
  {
   "cell_type": "code",
   "execution_count": 56,
   "id": "f6085274-33c3-46f3-81a2-e2bc51d21573",
   "metadata": {
    "tags": []
   },
   "outputs": [],
   "source": [
    "def solve():\n",
    "    r1 = check_r()\n",
    "    if r1 == -1:\n",
    "        return -1\n",
    "    \n",
    "    r2 = check_c()\n",
    "    if r2 == -1:\n",
    "        return -1\n",
    "    return r1 + r2"
   ]
  },
  {
   "cell_type": "code",
   "execution_count": 57,
   "id": "0d66c891-395c-4577-a4cb-4c3544be46c4",
   "metadata": {
    "tags": []
   },
   "outputs": [
    {
     "name": "stdout",
     "output_type": "stream",
     "text": [
      "3\n"
     ]
    }
   ],
   "source": [
    "print(solve())"
   ]
  },
  {
   "cell_type": "code",
   "execution_count": 5,
   "id": "4f686c6a-8a84-4435-8e27-613ab2beb7e6",
   "metadata": {
    "tags": []
   },
   "outputs": [
    {
     "data": {
      "text/plain": [
       "625"
      ]
     },
     "execution_count": 5,
     "metadata": {},
     "output_type": "execute_result"
    }
   ],
   "source": [
    "5**4"
   ]
  },
  {
   "cell_type": "code",
   "execution_count": 34,
   "id": "86c17f11-74ef-4b6a-9ebe-26194c30f114",
   "metadata": {
    "tags": []
   },
   "outputs": [
    {
     "data": {
      "text/plain": [
       "2"
      ]
     },
     "execution_count": 34,
     "metadata": {},
     "output_type": "execute_result"
    }
   ],
   "source": [
    "check_r()"
   ]
  },
  {
   "cell_type": "code",
   "execution_count": 38,
   "id": "54e0cd1e-427e-4c5d-9d7c-5bfe6242959a",
   "metadata": {
    "tags": []
   },
   "outputs": [
    {
     "name": "stdout",
     "output_type": "stream",
     "text": [
      "[2, 7, 12, 17] [3, 8, 13, 18]\n",
      "[3, 8, 13, 18] [2, 7, 12, 17]\n",
      "[4, 9, 14, 19] [5, 10, 15, 20]\n",
      "[5, 10, 15, 20] [4, 9, 14, 19]\n"
     ]
    },
    {
     "data": {
      "text/plain": [
       "4"
      ]
     },
     "execution_count": 38,
     "metadata": {},
     "output_type": "execute_result"
    }
   ],
   "source": [
    "check_c()"
   ]
  },
  {
   "cell_type": "code",
   "execution_count": null,
   "id": "1265d813-6eb1-4e86-acc3-0ed625213b73",
   "metadata": {},
   "outputs": [],
   "source": []
  }
 ],
 "metadata": {
  "kernelspec": {
   "display_name": "Python 3 (ipykernel)",
   "language": "python",
   "name": "python3"
  },
  "language_info": {
   "codemirror_mode": {
    "name": "ipython",
    "version": 3
   },
   "file_extension": ".py",
   "mimetype": "text/x-python",
   "name": "python",
   "nbconvert_exporter": "python",
   "pygments_lexer": "ipython3",
   "version": "3.11.3"
  }
 },
 "nbformat": 4,
 "nbformat_minor": 5
}
