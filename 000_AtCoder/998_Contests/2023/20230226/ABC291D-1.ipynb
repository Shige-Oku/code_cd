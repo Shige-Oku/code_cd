{
 "cells": [
  {
   "cell_type": "code",
   "execution_count": 1,
   "id": "9447ac72-ec43-43ae-9f7a-2f2a6618ea70",
   "metadata": {},
   "outputs": [],
   "source": [
    "import sys\n",
    "import numpy as np\n",
    "import math\n",
    "import collections\n",
    "import copy\n",
    "import decimal\n",
    "import itertools\n",
    "import re\n",
    "import bisect\n",
    "import scipy\n",
    "import heapq\n",
    "from collections import deque \n",
    "from functools import reduce\n",
    "from itertools import product\n",
    "from itertools import combinations\n",
    "from functools import lru_cache\n",
    "from scipy.special import comb\n",
    "from numba import njit\n",
    "from bisect import bisect_right\n",
    "from bisect import bisect_left"
   ]
  },
  {
   "cell_type": "code",
   "execution_count": 28,
   "id": "01fc75a0-75fb-4433-a3a8-77bb32551bfe",
   "metadata": {},
   "outputs": [
    {
     "name": "stdin",
     "output_type": "stream",
     "text": [
      " 3\n"
     ]
    }
   ],
   "source": [
    "N = int(input())"
   ]
  },
  {
   "cell_type": "code",
   "execution_count": 29,
   "id": "1f4cec50-fb3f-4e30-b722-b6860f499717",
   "metadata": {},
   "outputs": [
    {
     "name": "stdin",
     "output_type": "stream",
     "text": [
      " 1 2\n",
      " 4 2\n",
      " 3 4\n"
     ]
    }
   ],
   "source": [
    "ABn = [list(map(int, input().split())) for _ in range(N)]"
   ]
  },
  {
   "cell_type": "code",
   "execution_count": 45,
   "id": "65609934-cfc9-4217-b538-3cd1fef49ba1",
   "metadata": {},
   "outputs": [],
   "source": [
    "dp = [[0] * (N+1) for _ in range(2)]\n",
    "dp[0][0] = 1\n",
    "dp[1][0] = 1\n",
    "MOD = 998244353\n",
    "for i in range(N-1):\n",
    "    A1, B1 = ABn[i]\n",
    "    A2, B2 = ABn[i+1]\n",
    "    if A1 != A2:\n",
    "        dp[0][i+1] += dp[0][i]\n",
    "        \n",
    "    if A1 != B2:\n",
    "        dp[1][i+1] += dp[0][i]\n",
    "    if B1 != A2:\n",
    "        dp[0][i+1] += dp[1][i]\n",
    "    if B1 != B2:\n",
    "        dp[1][i+1] += dp[1][i]\n",
    "    dp[0][i+1] %= MOD\n",
    "    dp[1][i+1] %= MOD\n"
   ]
  },
  {
   "cell_type": "code",
   "execution_count": 46,
   "id": "422a6307-976c-499a-8616-282f0e64ee8e",
   "metadata": {},
   "outputs": [
    {
     "name": "stdout",
     "output_type": "stream",
     "text": [
      "4\n"
     ]
    }
   ],
   "source": [
    "print((dp[0][N-1]+dp[1][N-1]) % MOD)"
   ]
  },
  {
   "cell_type": "code",
   "execution_count": 44,
   "id": "726a4963-a648-451b-a687-091b23e844cf",
   "metadata": {},
   "outputs": [
    {
     "data": {
      "text/plain": [
       "[[1, 2, 3, 0], [1, 1, 1, 0]]"
      ]
     },
     "execution_count": 44,
     "metadata": {},
     "output_type": "execute_result"
    }
   ],
   "source": [
    "dp"
   ]
  },
  {
   "cell_type": "code",
   "execution_count": null,
   "id": "65aa6976-e714-4338-a058-744e856d66aa",
   "metadata": {},
   "outputs": [],
   "source": []
  }
 ],
 "metadata": {
  "kernelspec": {
   "display_name": "Python 3",
   "language": "python",
   "name": "python3"
  },
  "language_info": {
   "codemirror_mode": {
    "name": "ipython",
    "version": 3
   },
   "file_extension": ".py",
   "mimetype": "text/x-python",
   "name": "python",
   "nbconvert_exporter": "python",
   "pygments_lexer": "ipython3",
   "version": "3.6.13"
  }
 },
 "nbformat": 4,
 "nbformat_minor": 5
}
