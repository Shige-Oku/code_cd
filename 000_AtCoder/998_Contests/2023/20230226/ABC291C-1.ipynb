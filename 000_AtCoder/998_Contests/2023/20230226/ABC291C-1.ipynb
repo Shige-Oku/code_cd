{
 "cells": [
  {
   "cell_type": "code",
   "execution_count": 1,
   "id": "08571812-069c-4af3-bfb5-7bf9a428e107",
   "metadata": {},
   "outputs": [],
   "source": [
    "import sys\n",
    "import numpy as np\n",
    "import math\n",
    "import collections\n",
    "import copy\n",
    "import decimal\n",
    "import itertools\n",
    "import re\n",
    "import bisect\n",
    "import scipy\n",
    "import heapq\n",
    "from collections import deque \n",
    "from functools import reduce\n",
    "from itertools import product\n",
    "from itertools import combinations\n",
    "from functools import lru_cache\n",
    "from scipy.special import comb\n",
    "from numba import njit\n",
    "from bisect import bisect_right\n",
    "from bisect import bisect_left"
   ]
  },
  {
   "cell_type": "code",
   "execution_count": 10,
   "id": "d0bcb650-da63-45c5-965b-3e71c05205c0",
   "metadata": {},
   "outputs": [
    {
     "name": "stdin",
     "output_type": "stream",
     "text": [
      " 20\n"
     ]
    }
   ],
   "source": [
    "N = int(input())"
   ]
  },
  {
   "cell_type": "code",
   "execution_count": 11,
   "id": "bd3d2b2e-0e86-4814-8cde-05d5ddf36e90",
   "metadata": {},
   "outputs": [
    {
     "name": "stdin",
     "output_type": "stream",
     "text": [
      " URDDLLUUURRRDDDDLLLL\n"
     ]
    }
   ],
   "source": [
    "S = input()"
   ]
  },
  {
   "cell_type": "code",
   "execution_count": 12,
   "id": "09984781-5620-461e-9f3e-290e29f9e5d4",
   "metadata": {},
   "outputs": [
    {
     "name": "stdout",
     "output_type": "stream",
     "text": [
      "No\n"
     ]
    }
   ],
   "source": [
    "p = set()\n",
    "x, y = 0, 0\n",
    "p.add((x, y))\n",
    "for s in S:\n",
    "    if s == 'R':\n",
    "        x += 1\n",
    "    elif s == 'L':\n",
    "        x -= 1\n",
    "    elif s == 'U':\n",
    "        y += 1\n",
    "    else:\n",
    "        y -= 1\n",
    "    if (x, y) in p:\n",
    "        print('Yes')\n",
    "        break\n",
    "    p.add((x, y))\n",
    "else:\n",
    "    print('No')"
   ]
  },
  {
   "cell_type": "code",
   "execution_count": 13,
   "id": "dbe857af-0f28-46f4-a100-3eeb9b5c4d2b",
   "metadata": {},
   "outputs": [
    {
     "data": {
      "text/plain": [
       "{(-2, -2),\n",
       " (-1, -2),\n",
       " (-1, -1),\n",
       " (-1, 0),\n",
       " (-1, 1),\n",
       " (-1, 2),\n",
       " (0, -2),\n",
       " (0, -1),\n",
       " (0, 0),\n",
       " (0, 1),\n",
       " (0, 2),\n",
       " (1, -2),\n",
       " (1, -1),\n",
       " (1, 0),\n",
       " (1, 1),\n",
       " (1, 2),\n",
       " (2, -2),\n",
       " (2, -1),\n",
       " (2, 0),\n",
       " (2, 1),\n",
       " (2, 2)}"
      ]
     },
     "execution_count": 13,
     "metadata": {},
     "output_type": "execute_result"
    }
   ],
   "source": [
    "p"
   ]
  },
  {
   "cell_type": "code",
   "execution_count": null,
   "id": "62cb3da5-31b1-44d6-94b9-3f9f62e67ea2",
   "metadata": {},
   "outputs": [],
   "source": []
  }
 ],
 "metadata": {
  "kernelspec": {
   "display_name": "Python 3",
   "language": "python",
   "name": "python3"
  },
  "language_info": {
   "codemirror_mode": {
    "name": "ipython",
    "version": 3
   },
   "file_extension": ".py",
   "mimetype": "text/x-python",
   "name": "python",
   "nbconvert_exporter": "python",
   "pygments_lexer": "ipython3",
   "version": "3.6.13"
  }
 },
 "nbformat": 4,
 "nbformat_minor": 5
}
