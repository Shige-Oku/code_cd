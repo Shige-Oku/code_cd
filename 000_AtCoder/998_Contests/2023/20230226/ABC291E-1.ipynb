{
 "cells": [
  {
   "cell_type": "code",
   "execution_count": 1,
   "id": "10a86c48-2879-470d-a378-bf3f78fe52be",
   "metadata": {},
   "outputs": [],
   "source": [
    "import sys\n",
    "import numpy as np\n",
    "import math\n",
    "import collections\n",
    "import copy\n",
    "import decimal\n",
    "import itertools\n",
    "import re\n",
    "import bisect\n",
    "import scipy\n",
    "import heapq\n",
    "from collections import deque \n",
    "from functools import reduce\n",
    "from itertools import product\n",
    "from itertools import combinations\n",
    "from functools import lru_cache\n",
    "from scipy.special import comb\n",
    "from numba import njit\n",
    "from bisect import bisect_right\n",
    "from bisect import bisect_left"
   ]
  },
  {
   "cell_type": "code",
   "execution_count": 2,
   "id": "62924e9e-2677-4863-b776-ab3eed87815c",
   "metadata": {},
   "outputs": [
    {
     "name": "stdin",
     "output_type": "stream",
     "text": [
      " 3 2\n"
     ]
    }
   ],
   "source": [
    "N, M = map(int, input().split())"
   ]
  },
  {
   "cell_type": "code",
   "execution_count": 3,
   "id": "09892221-c479-4414-9a24-d45465842361",
   "metadata": {},
   "outputs": [
    {
     "name": "stdin",
     "output_type": "stream",
     "text": [
      " 3 1\n",
      " 2 3\n"
     ]
    }
   ],
   "source": [
    "XYm = [list(map(int, input().split())) for _ in range(M)]"
   ]
  },
  {
   "cell_type": "code",
   "execution_count": 32,
   "id": "b396806a-a530-4680-915e-68993de1fa34",
   "metadata": {},
   "outputs": [],
   "source": [
    "graph = [[] for _ in range(N+1)]\n",
    "s = [False] * (N+1)\n",
    "e = [False] * (N+1)\n",
    "for X, Y in XYm:\n",
    "    graph[X].append(Y)\n",
    "    s[X] = True\n",
    "    e[Y] = True"
   ]
  },
  {
   "cell_type": "code",
   "execution_count": 38,
   "id": "95d7383d-b19e-45c0-9651-d8ba2ade5ec2",
   "metadata": {},
   "outputs": [],
   "source": [
    "from collections import deque\n",
    "\n",
    "def solve():\n",
    "    st = 0\n",
    "    for i, (s1, e1) in enumerate(zip(s[1:], e[1:]), 1):\n",
    "        if not s1 and not e1:\n",
    "            return False\n",
    "        if s1 and not e1:\n",
    "            st = i\n",
    "    q = deque()\n",
    "    q.append(st)\n",
    "    dis[st] = 0\n",
    "    while q:\n",
    "        p = q.popleft()\n",
    "        for n in graph[p]:\n",
    "            if dis[n] != -1:\n",
    "                continue\n",
    "            dis[n] = dis[p] + 1\n",
    "            q.append(n)\n",
    "    return True"
   ]
  },
  {
   "cell_type": "code",
   "execution_count": 45,
   "id": "78536be6-1259-4324-8fca-86f1990e5bbc",
   "metadata": {},
   "outputs": [
    {
     "name": "stdout",
     "output_type": "stream",
     "text": [
      "2\n",
      "Yes\n",
      "2 0 1 "
     ]
    }
   ],
   "source": [
    "dis = [-1] * (N+1)\n",
    "if solve():\n",
    "    print('Yes')\n",
    "    ans = []\n",
    "    for i, d in enumerate(dis[1:]):\n",
    "        ans.append((i, d))\n",
    "    for i, d in sorted(ans):\n",
    "        print(d+1, end=' ')\n",
    "else:\n",
    "    print('No')\n"
   ]
  },
  {
   "cell_type": "code",
   "execution_count": 40,
   "id": "99766129-3317-4afb-bdc2-2bbaf45ce4ed",
   "metadata": {},
   "outputs": [
    {
     "data": {
      "text/plain": [
       "[[], [], [3], [1]]"
      ]
     },
     "execution_count": 40,
     "metadata": {},
     "output_type": "execute_result"
    }
   ],
   "source": [
    "graph"
   ]
  },
  {
   "cell_type": "code",
   "execution_count": 41,
   "id": "000584c0-1db7-447b-900c-550a291ecff3",
   "metadata": {},
   "outputs": [
    {
     "name": "stdout",
     "output_type": "stream",
     "text": [
      "2\n"
     ]
    },
    {
     "data": {
      "text/plain": [
       "True"
      ]
     },
     "execution_count": 41,
     "metadata": {},
     "output_type": "execute_result"
    }
   ],
   "source": [
    "solve()"
   ]
  },
  {
   "cell_type": "code",
   "execution_count": 42,
   "id": "8b97fb12-6ac1-4f49-a5ab-73f3d32252bc",
   "metadata": {},
   "outputs": [
    {
     "data": {
      "text/plain": [
       "([False, False, True, True], [False, True, False, True])"
      ]
     },
     "execution_count": 42,
     "metadata": {},
     "output_type": "execute_result"
    }
   ],
   "source": [
    "s, e"
   ]
  },
  {
   "cell_type": "code",
   "execution_count": 43,
   "id": "f2502418-c367-45c8-bc89-c03ff73e3968",
   "metadata": {},
   "outputs": [
    {
     "data": {
      "text/plain": [
       "[-1, 2, 0, 1]"
      ]
     },
     "execution_count": 43,
     "metadata": {},
     "output_type": "execute_result"
    }
   ],
   "source": [
    "dis"
   ]
  },
  {
   "cell_type": "code",
   "execution_count": null,
   "id": "3fa23369-30bf-4f8a-89da-bd66aa381241",
   "metadata": {},
   "outputs": [],
   "source": []
  }
 ],
 "metadata": {
  "kernelspec": {
   "display_name": "Python 3",
   "language": "python",
   "name": "python3"
  },
  "language_info": {
   "codemirror_mode": {
    "name": "ipython",
    "version": 3
   },
   "file_extension": ".py",
   "mimetype": "text/x-python",
   "name": "python",
   "nbconvert_exporter": "python",
   "pygments_lexer": "ipython3",
   "version": "3.6.13"
  }
 },
 "nbformat": 4,
 "nbformat_minor": 5
}
