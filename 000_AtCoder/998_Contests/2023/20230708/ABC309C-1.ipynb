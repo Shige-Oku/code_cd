{
 "cells": [
  {
   "cell_type": "code",
   "execution_count": 1,
   "id": "b23d461e-cf90-4dac-99f4-dbc8842f6cd4",
   "metadata": {},
   "outputs": [],
   "source": [
    "import sys\n",
    "import numpy as np\n",
    "import math\n",
    "import collections\n",
    "import copy\n",
    "import decimal\n",
    "import itertools\n",
    "import re\n",
    "import bisect\n",
    "import scipy\n",
    "import heapq\n",
    "from collections import deque \n",
    "from functools import reduce\n",
    "from itertools import product\n",
    "from itertools import combinations\n",
    "from functools import lru_cache\n",
    "from scipy.special import comb\n",
    "from numba import njit\n",
    "from bisect import bisect_right\n",
    "from bisect import bisect_left"
   ]
  },
  {
   "cell_type": "code",
   "execution_count": 2,
   "id": "33297366-71e9-47b2-8023-cb0806de1665",
   "metadata": {},
   "outputs": [
    {
     "name": "stdin",
     "output_type": "stream",
     "text": [
      " 4 8\n"
     ]
    }
   ],
   "source": [
    "N, K = map(int, input().split())"
   ]
  },
  {
   "cell_type": "code",
   "execution_count": 3,
   "id": "72aabb63-3b36-442c-a4d0-1ce707060b8d",
   "metadata": {},
   "outputs": [
    {
     "name": "stdin",
     "output_type": "stream",
     "text": [
      " 6 3\n",
      " 2 5\n",
      " 1 9\n",
      " 4 2\n"
     ]
    }
   ],
   "source": [
    "ABn = [list(map(int, input().split())) for _ in range(N)]"
   ]
  },
  {
   "cell_type": "code",
   "execution_count": 14,
   "id": "54bd093e-31cb-43fb-8521-46e0e7223c39",
   "metadata": {},
   "outputs": [],
   "source": [
    "def solve(m):\n",
    "    if m <= K:\n",
    "        return 1\n",
    "    \n",
    "    for A, B in ABn_s:\n",
    "        m -= B\n",
    "        if m <= K:\n",
    "            return A + 1\n"
   ]
  },
  {
   "cell_type": "code",
   "execution_count": 15,
   "id": "58f94c94-7747-41ea-952e-44200c519f1c",
   "metadata": {},
   "outputs": [
    {
     "name": "stdout",
     "output_type": "stream",
     "text": [
      "3\n"
     ]
    }
   ],
   "source": [
    "ABn_s = sorted(ABn)\n",
    "m = 0\n",
    "for A, B in ABn:\n",
    "    m += B\n",
    "print(solve(m))"
   ]
  },
  {
   "cell_type": "code",
   "execution_count": 5,
   "id": "f2fb2583-c1f3-4d92-aa7f-1f2322df8cb1",
   "metadata": {},
   "outputs": [
    {
     "data": {
      "text/plain": [
       "[[1, 9], [2, 5], [4, 2], [6, 3]]"
      ]
     },
     "execution_count": 5,
     "metadata": {},
     "output_type": "execute_result"
    }
   ],
   "source": [
    "ABn_s"
   ]
  },
  {
   "cell_type": "code",
   "execution_count": null,
   "id": "e853b85c-d345-4fbd-900e-c11045ff5f09",
   "metadata": {},
   "outputs": [],
   "source": []
  }
 ],
 "metadata": {
  "kernelspec": {
   "display_name": "Python 3 (ipykernel)",
   "language": "python",
   "name": "python3"
  },
  "language_info": {
   "codemirror_mode": {
    "name": "ipython",
    "version": 3
   },
   "file_extension": ".py",
   "mimetype": "text/x-python",
   "name": "python",
   "nbconvert_exporter": "python",
   "pygments_lexer": "ipython3",
   "version": "3.11.3"
  }
 },
 "nbformat": 4,
 "nbformat_minor": 5
}
