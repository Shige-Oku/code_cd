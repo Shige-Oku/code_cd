{
 "cells": [
  {
   "cell_type": "code",
   "execution_count": 1,
   "id": "150b216c-2110-48ff-96f5-50407417ed41",
   "metadata": {},
   "outputs": [],
   "source": [
    "import sys\n",
    "import numpy as np\n",
    "import math\n",
    "import collections\n",
    "import copy\n",
    "import decimal\n",
    "import itertools\n",
    "import re\n",
    "import bisect\n",
    "import scipy\n",
    "import heapq\n",
    "from collections import deque \n",
    "from functools import reduce\n",
    "from itertools import product\n",
    "from itertools import combinations\n",
    "from functools import lru_cache\n",
    "from scipy.special import comb\n",
    "from numba import njit\n",
    "from bisect import bisect_right\n",
    "from bisect import bisect_left"
   ]
  },
  {
   "cell_type": "code",
   "execution_count": 2,
   "id": "b7505cf2-453d-4a38-bef0-c93e80c02bb4",
   "metadata": {},
   "outputs": [
    {
     "name": "stdin",
     "output_type": "stream",
     "text": [
      " 4\n"
     ]
    }
   ],
   "source": [
    "N = int(input())"
   ]
  },
  {
   "cell_type": "code",
   "execution_count": 20,
   "id": "986c8bd4-97c2-4693-84db-a84ac445322d",
   "metadata": {},
   "outputs": [
    {
     "name": "stdin",
     "output_type": "stream",
     "text": [
      " 0101\n",
      " 1101\n",
      " 1111\n",
      " 0000\n"
     ]
    }
   ],
   "source": [
    "An = [list(input()) for _ in range(N)]"
   ]
  },
  {
   "cell_type": "code",
   "execution_count": 36,
   "id": "042dc023-bce7-4dcf-a6da-ceb1714523ca",
   "metadata": {},
   "outputs": [],
   "source": [
    "from copy import deepcopy\n",
    "An_c = deepcopy(An)\n",
    "for i in range(N-1):\n",
    "    An_c[0][i+1] = An[0][i]\n",
    "for i in range(N-1):\n",
    "    An_c[i+1][N-1] = An[i][N-1]\n",
    "for i in range(N-1, 0, -1):\n",
    "    An_c[N-1][i-1] = An[N-1][i]\n",
    "for i in range(N-1, 0, -1):\n",
    "    An_c[i-1][0] = An[i][0]\n"
   ]
  },
  {
   "cell_type": "code",
   "execution_count": 40,
   "id": "3ee3289b-9bed-40d4-8cf6-3cc4384679d2",
   "metadata": {},
   "outputs": [
    {
     "name": "stdout",
     "output_type": "stream",
     "text": [
      "1010\n",
      "1101\n",
      "0111\n",
      "0001\n"
     ]
    }
   ],
   "source": [
    "for A in An_c:\n",
    "    print(*A, sep='')"
   ]
  },
  {
   "cell_type": "code",
   "execution_count": 37,
   "id": "15971914-f1b3-407c-8e3d-cbb9af538cc2",
   "metadata": {},
   "outputs": [
    {
     "data": {
      "text/plain": [
       "[['0', '1', '0', '1'],\n",
       " ['1', '1', '0', '1'],\n",
       " ['1', '1', '1', '1'],\n",
       " ['0', '0', '0', '0']]"
      ]
     },
     "execution_count": 37,
     "metadata": {},
     "output_type": "execute_result"
    }
   ],
   "source": [
    "An"
   ]
  },
  {
   "cell_type": "code",
   "execution_count": 38,
   "id": "70db292f-8115-4ee0-b4ac-2220c81ab5db",
   "metadata": {},
   "outputs": [
    {
     "data": {
      "text/plain": [
       "[['1', '0', '1', '0'],\n",
       " ['1', '1', '0', '1'],\n",
       " ['0', '1', '1', '1'],\n",
       " ['0', '0', '0', '1']]"
      ]
     },
     "execution_count": 38,
     "metadata": {},
     "output_type": "execute_result"
    }
   ],
   "source": [
    "An_c"
   ]
  },
  {
   "cell_type": "code",
   "execution_count": 34,
   "id": "dd091ce2-cf88-4501-ad6e-329a8211cefe",
   "metadata": {},
   "outputs": [
    {
     "data": {
      "text/plain": [
       "3"
      ]
     },
     "execution_count": 34,
     "metadata": {},
     "output_type": "execute_result"
    }
   ],
   "source": [
    "i"
   ]
  },
  {
   "cell_type": "code",
   "execution_count": null,
   "id": "a4ff342f-f41f-4742-a8a6-392c82d7337c",
   "metadata": {},
   "outputs": [],
   "source": []
  }
 ],
 "metadata": {
  "kernelspec": {
   "display_name": "Python 3",
   "language": "python",
   "name": "python3"
  },
  "language_info": {
   "codemirror_mode": {
    "name": "ipython",
    "version": 3
   },
   "file_extension": ".py",
   "mimetype": "text/x-python",
   "name": "python",
   "nbconvert_exporter": "python",
   "pygments_lexer": "ipython3",
   "version": "3.6.13"
  }
 },
 "nbformat": 4,
 "nbformat_minor": 5
}
