{
 "cells": [
  {
   "cell_type": "code",
   "execution_count": 1,
   "id": "0211d216-61e3-43fd-bb1b-b3f53b8ef3f1",
   "metadata": {},
   "outputs": [],
   "source": [
    "import sys\n",
    "import numpy as np\n",
    "import math\n",
    "import collections\n",
    "import copy\n",
    "import decimal\n",
    "import itertools\n",
    "import re\n",
    "import bisect\n",
    "import scipy\n",
    "import heapq\n",
    "from collections import deque \n",
    "from functools import reduce\n",
    "from itertools import product\n",
    "from itertools import combinations\n",
    "from functools import lru_cache\n",
    "from scipy.special import comb\n",
    "from numba import njit\n",
    "from bisect import bisect_right\n",
    "from bisect import bisect_left"
   ]
  },
  {
   "cell_type": "code",
   "execution_count": 2,
   "id": "e18ee6cc-0ae8-4d0d-9e55-3ed2314302cd",
   "metadata": {},
   "outputs": [
    {
     "name": "stdin",
     "output_type": "stream",
     "text": [
      " 3 4 6\n"
     ]
    }
   ],
   "source": [
    "N1, N2, M = map(int, input().split())"
   ]
  },
  {
   "cell_type": "code",
   "execution_count": 3,
   "id": "edd38e99-3777-40f9-ae3f-efd74d8c29d3",
   "metadata": {},
   "outputs": [
    {
     "name": "stdin",
     "output_type": "stream",
     "text": [
      " 1 2\n",
      " 2 3\n",
      " 4 5\n",
      " 4 6\n",
      " 1 3\n",
      " 6 7\n"
     ]
    }
   ],
   "source": [
    "ABm = [list(map(int, input().split())) for _ in range(M)]"
   ]
  },
  {
   "cell_type": "code",
   "execution_count": 4,
   "id": "4c964c25-b7a7-43f6-8372-94c7a943c908",
   "metadata": {},
   "outputs": [],
   "source": [
    "graph1 = [[] for _ in range(N1+1)]\n",
    "graph2 = [[] for _ in range(N1+N2+1)]\n",
    "for A, B in ABm:\n",
    "    if A > N1:\n",
    "        graph2[A].append(B)\n",
    "        graph2[B].append(A)\n",
    "    else:\n",
    "        graph1[A].append(B)\n",
    "        graph1[B].append(A)        "
   ]
  },
  {
   "cell_type": "code",
   "execution_count": 26,
   "id": "a681765f-fa1a-4e57-9695-9f71d0208355",
   "metadata": {},
   "outputs": [],
   "source": [
    "from collections import deque\n",
    "def BFS(dist, graph, s):\n",
    "    dist[s] = 0\n",
    "    q = deque()\n",
    "    q.append(s)\n",
    "    while q:\n",
    "        p = q.popleft()\n",
    "        for n in graph[p]:\n",
    "            if dist[n] != -1:\n",
    "                continue\n",
    "            dist[n] = dist[p] + 1\n",
    "            q.append(n)"
   ]
  },
  {
   "cell_type": "code",
   "execution_count": 28,
   "id": "04a96106-50f7-4c8c-90d8-eee730feaec0",
   "metadata": {},
   "outputs": [
    {
     "name": "stdout",
     "output_type": "stream",
     "text": [
      "5\n"
     ]
    }
   ],
   "source": [
    "dist1 = [-1] * (N1+1)\n",
    "BFS(dist1, graph1, 1)\n",
    "dist2 = [-1] * (N1+N2+1)\n",
    "BFS(dist2, graph2, N1+N2)\n",
    "print(max(dist1) + max(dist2) + 1)"
   ]
  },
  {
   "cell_type": "code",
   "execution_count": 24,
   "id": "a845ac67-fc2b-469e-ab4f-4372bc1f77f4",
   "metadata": {},
   "outputs": [
    {
     "data": {
      "text/plain": [
       "([[], [2, 3], [1, 3], [2, 1]], [[], [], [], [], [5, 6], [4], [4, 7], [6]])"
      ]
     },
     "execution_count": 24,
     "metadata": {},
     "output_type": "execute_result"
    }
   ],
   "source": [
    "graph1, graph2"
   ]
  },
  {
   "cell_type": "code",
   "execution_count": 25,
   "id": "86aa7830-39de-41e6-98c7-131049ff4c66",
   "metadata": {},
   "outputs": [
    {
     "data": {
      "text/plain": [
       "([-1, 0, 1, 1], [-1, -1, -1, -1, 2, 3, 1, 0])"
      ]
     },
     "execution_count": 25,
     "metadata": {},
     "output_type": "execute_result"
    }
   ],
   "source": [
    "dist1, dist2"
   ]
  },
  {
   "cell_type": "code",
   "execution_count": 21,
   "id": "b079a2f8-77f6-49ab-a9ff-6d5f0d0ac35d",
   "metadata": {},
   "outputs": [
    {
     "name": "stdout",
     "output_type": "stream",
     "text": [
      "7\n",
      "7 6\n"
     ]
    }
   ],
   "source": [
    "BFS(dist2, graph2, N1+N2)\n"
   ]
  },
  {
   "cell_type": "code",
   "execution_count": null,
   "id": "19422bb1-bca5-4a84-8804-40902f16702f",
   "metadata": {},
   "outputs": [],
   "source": []
  }
 ],
 "metadata": {
  "kernelspec": {
   "display_name": "Python 3 (ipykernel)",
   "language": "python",
   "name": "python3"
  },
  "language_info": {
   "codemirror_mode": {
    "name": "ipython",
    "version": 3
   },
   "file_extension": ".py",
   "mimetype": "text/x-python",
   "name": "python",
   "nbconvert_exporter": "python",
   "pygments_lexer": "ipython3",
   "version": "3.11.3"
  }
 },
 "nbformat": 4,
 "nbformat_minor": 5
}
