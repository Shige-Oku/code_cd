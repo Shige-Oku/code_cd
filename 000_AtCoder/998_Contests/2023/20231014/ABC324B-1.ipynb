{
 "cells": [
  {
   "cell_type": "code",
   "execution_count": 1,
   "id": "18ad9773-92ff-4f2a-b486-9628e1956b28",
   "metadata": {
    "tags": []
   },
   "outputs": [],
   "source": [
    "import sys\n",
    "import numpy as np\n",
    "import math\n",
    "import collections\n",
    "import copy\n",
    "import decimal\n",
    "import itertools\n",
    "import re\n",
    "import bisect\n",
    "import scipy\n",
    "import heapq\n",
    "from collections import deque \n",
    "from functools import reduce\n",
    "from itertools import product\n",
    "from itertools import combinations\n",
    "from functools import lru_cache\n",
    "from scipy.special import comb\n",
    "from numba import njit\n",
    "from bisect import bisect_right\n",
    "from bisect import bisect_left"
   ]
  },
  {
   "cell_type": "code",
   "execution_count": 22,
   "id": "e110ab42-0a3d-4b23-abb3-7e17772ca2d5",
   "metadata": {
    "tags": []
   },
   "outputs": [
    {
     "name": "stdin",
     "output_type": "stream",
     "text": [
      " 37748736\n"
     ]
    }
   ],
   "source": [
    "N = int(input())"
   ]
  },
  {
   "cell_type": "code",
   "execution_count": 23,
   "id": "633478b9-b0e3-457c-8469-bf39b05a9e5e",
   "metadata": {
    "tags": []
   },
   "outputs": [],
   "source": [
    "f = False\n",
    "for x in range(60):\n",
    "    for y in range(60):\n",
    "        if N == 2**x * 3**y:\n",
    "            f = True\n"
   ]
  },
  {
   "cell_type": "code",
   "execution_count": 24,
   "id": "a35706b1-56dd-4406-9d0a-66e0e41b4d28",
   "metadata": {
    "tags": []
   },
   "outputs": [
    {
     "name": "stdout",
     "output_type": "stream",
     "text": [
      "Yes\n"
     ]
    }
   ],
   "source": [
    "print('Yes' if f else 'No')"
   ]
  },
  {
   "cell_type": "code",
   "execution_count": 4,
   "id": "31564d80-d10e-42fc-9d0a-7b0c8c6dd5c0",
   "metadata": {
    "tags": []
   },
   "outputs": [
    {
     "data": {
      "text/plain": [
       "True"
      ]
     },
     "execution_count": 4,
     "metadata": {},
     "output_type": "execute_result"
    }
   ],
   "source": [
    "2**60 > 10**18"
   ]
  },
  {
   "cell_type": "code",
   "execution_count": null,
   "id": "d06bc394-3807-4b58-bd98-89744529764c",
   "metadata": {},
   "outputs": [],
   "source": [
    "x, Y"
   ]
  }
 ],
 "metadata": {
  "kernelspec": {
   "display_name": "Python 3 (ipykernel)",
   "language": "python",
   "name": "python3"
  },
  "language_info": {
   "codemirror_mode": {
    "name": "ipython",
    "version": 3
   },
   "file_extension": ".py",
   "mimetype": "text/x-python",
   "name": "python",
   "nbconvert_exporter": "python",
   "pygments_lexer": "ipython3",
   "version": "3.11.3"
  }
 },
 "nbformat": 4,
 "nbformat_minor": 5
}
