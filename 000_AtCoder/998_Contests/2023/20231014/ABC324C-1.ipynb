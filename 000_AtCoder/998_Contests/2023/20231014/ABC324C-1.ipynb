{
 "cells": [
  {
   "cell_type": "code",
   "execution_count": 1,
   "id": "bb0ca45c-4fb0-4eb8-aa73-4e2735e7c7dc",
   "metadata": {
    "tags": []
   },
   "outputs": [],
   "source": [
    "import sys\n",
    "import numpy as np\n",
    "import math\n",
    "import collections\n",
    "import copy\n",
    "import decimal\n",
    "import itertools\n",
    "import re\n",
    "import bisect\n",
    "import scipy\n",
    "import heapq\n",
    "from collections import deque \n",
    "from functools import reduce\n",
    "from itertools import product\n",
    "from itertools import combinations\n",
    "from functools import lru_cache\n",
    "from scipy.special import comb\n",
    "from numba import njit\n",
    "from bisect import bisect_right\n",
    "from bisect import bisect_left"
   ]
  },
  {
   "cell_type": "code",
   "execution_count": 3,
   "id": "b98198bc-c6ab-485f-ad97-b8a990a62d0d",
   "metadata": {
    "tags": []
   },
   "outputs": [
    {
     "name": "stdin",
     "output_type": "stream",
     "text": [
      " 5 ababc\n"
     ]
    }
   ],
   "source": [
    "N, T = input().split()"
   ]
  },
  {
   "cell_type": "code",
   "execution_count": 5,
   "id": "68ca7b7e-8dd8-47fc-8e81-a93b630873b0",
   "metadata": {
    "tags": []
   },
   "outputs": [
    {
     "name": "stdin",
     "output_type": "stream",
     "text": [
      " ababc\n",
      " babc\n",
      " abacbc\n",
      " abdbc\n",
      " abbac\n"
     ]
    }
   ],
   "source": [
    "Sn = [input() for _ in range(int(N))]"
   ]
  },
  {
   "cell_type": "code",
   "execution_count": 47,
   "id": "237ff02a-fc0a-4bc5-b6b0-5b029bce7862",
   "metadata": {
    "tags": []
   },
   "outputs": [],
   "source": [
    "c = set()\n",
    "c.add(T)\n",
    "for i in range(int(N)):\n",
    "    s = T[0:i] + T[i+1:]\n",
    "    c.add(s)\n",
    "\n",
    "for i in range(int(N)):\n",
    "    for j in range(26):\n",
    "        cha = chr(ord('a') + j)\n",
    "        s = T[0:i] + cha + T[i+1:]\n",
    "        c.add(s)\n",
    "\n",
    "for i in range(int(N)+1):\n",
    "    for j in range(26):\n",
    "        cha = chr(ord('a') + j)\n",
    "        s = T[0:i] + cha + T[i:]\n",
    "        c.add(s)\n"
   ]
  },
  {
   "cell_type": "code",
   "execution_count": 48,
   "id": "da1ffccc-30bb-4943-b53c-745cb5d0f4ae",
   "metadata": {
    "tags": []
   },
   "outputs": [],
   "source": [
    "flg = [False] * (int(N)+1)\n",
    "for i, S in enumerate(Sn, 1):\n",
    "    if S in c:\n",
    "        flg[i] = True"
   ]
  },
  {
   "cell_type": "code",
   "execution_count": 51,
   "id": "ed65f0b4-54e7-4e12-b2b2-d09a44961e5c",
   "metadata": {
    "tags": []
   },
   "outputs": [
    {
     "name": "stdout",
     "output_type": "stream",
     "text": [
      "4\n",
      "1 2 3 4 "
     ]
    }
   ],
   "source": [
    "print(sum(flg))\n",
    "for i, f in enumerate(flg):\n",
    "    if f:\n",
    "        print(i, end= ' ')"
   ]
  },
  {
   "cell_type": "code",
   "execution_count": 6,
   "id": "d10cf107-8f49-4ba6-871e-897affb44a01",
   "metadata": {
    "tags": []
   },
   "outputs": [
    {
     "data": {
      "text/plain": [
       "2700000"
      ]
     },
     "execution_count": 6,
     "metadata": {},
     "output_type": "execute_result"
    }
   ],
   "source": [
    "27*10**5"
   ]
  },
  {
   "cell_type": "code",
   "execution_count": 7,
   "id": "7ee205bf-4081-4358-b59e-b07f78943b4e",
   "metadata": {
    "tags": []
   },
   "outputs": [
    {
     "data": {
      "text/plain": [
       "''"
      ]
     },
     "execution_count": 7,
     "metadata": {},
     "output_type": "execute_result"
    }
   ],
   "source": [
    "T[0:0]"
   ]
  },
  {
   "cell_type": "code",
   "execution_count": 21,
   "id": "79c51b82-a47f-47df-8f12-54905d6db01e",
   "metadata": {
    "tags": []
   },
   "outputs": [
    {
     "data": {
      "text/plain": [
       "(['ababc', 'babc', 'abacbc', 'abdbc', 'abbac'],\n",
       " {'aabc', 'abab', 'ababc', 'abac', 'abbc', 'babc'})"
      ]
     },
     "execution_count": 21,
     "metadata": {},
     "output_type": "execute_result"
    }
   ],
   "source": [
    "Sn, c"
   ]
  },
  {
   "cell_type": "code",
   "execution_count": 18,
   "id": "86ec6c09-4ab0-4780-a658-5528d3e69720",
   "metadata": {
    "tags": []
   },
   "outputs": [],
   "source": [
    "c = set(T)"
   ]
  },
  {
   "cell_type": "code",
   "execution_count": 52,
   "id": "54bc9a7b-0ade-4f9c-a3b3-56121fb91b9f",
   "metadata": {
    "tags": []
   },
   "outputs": [
    {
     "data": {
      "text/plain": [
       "282"
      ]
     },
     "execution_count": 52,
     "metadata": {},
     "output_type": "execute_result"
    }
   ],
   "source": [
    "len(c)"
   ]
  },
  {
   "cell_type": "code",
   "execution_count": 22,
   "id": "22fefe65-2a17-4a6e-a89b-60a61201e395",
   "metadata": {
    "tags": []
   },
   "outputs": [
    {
     "ename": "TypeError",
     "evalue": "can only concatenate str (not \"int\") to str",
     "output_type": "error",
     "traceback": [
      "\u001b[1;31m---------------------------------------------------------------------------\u001b[0m",
      "\u001b[1;31mTypeError\u001b[0m                                 Traceback (most recent call last)",
      "Cell \u001b[1;32mIn[22], line 1\u001b[0m\n\u001b[1;32m----> 1\u001b[0m \u001b[38;5;124m'\u001b[39m\u001b[38;5;124ma\u001b[39m\u001b[38;5;124m'\u001b[39m \u001b[38;5;241m+\u001b[39m \u001b[38;5;241m25\u001b[39m\n",
      "\u001b[1;31mTypeError\u001b[0m: can only concatenate str (not \"int\") to str"
     ]
    }
   ],
   "source": [
    "'a' + 25"
   ]
  },
  {
   "cell_type": "code",
   "execution_count": 24,
   "id": "7a2ebeca-c2ea-4001-8f54-1a0a58d27892",
   "metadata": {
    "tags": []
   },
   "outputs": [
    {
     "data": {
      "text/plain": [
       "'z'"
      ]
     },
     "execution_count": 24,
     "metadata": {},
     "output_type": "execute_result"
    }
   ],
   "source": [
    "chr(ord('a') + 25)"
   ]
  },
  {
   "cell_type": "code",
   "execution_count": 49,
   "id": "c25ad7a4-ddda-4ae3-9555-605336a08241",
   "metadata": {
    "tags": []
   },
   "outputs": [
    {
     "data": {
      "text/plain": [
       "[False, True, True, True, True, False]"
      ]
     },
     "execution_count": 49,
     "metadata": {},
     "output_type": "execute_result"
    }
   ],
   "source": [
    "flg"
   ]
  },
  {
   "cell_type": "code",
   "execution_count": 63,
   "id": "aa8b54a0-60d5-4c3f-bb4c-ffe214f33edd",
   "metadata": {
    "tags": []
   },
   "outputs": [
    {
     "data": {
      "text/plain": [
       "True"
      ]
     },
     "execution_count": 63,
     "metadata": {},
     "output_type": "execute_result"
    }
   ],
   "source": [
    "'ababcz' in c"
   ]
  },
  {
   "cell_type": "code",
   "execution_count": 53,
   "id": "37f45137-0538-4352-a946-1dae29741fd7",
   "metadata": {
    "tags": []
   },
   "outputs": [
    {
     "data": {
      "text/plain": [
       "{'aaabc',\n",
       " 'aababc',\n",
       " 'aabc',\n",
       " 'abaabc',\n",
       " 'abaac',\n",
       " 'abab',\n",
       " 'ababa',\n",
       " 'ababac',\n",
       " 'ababb',\n",
       " 'ababbc',\n",
       " 'ababc',\n",
       " 'ababca',\n",
       " 'ababcb',\n",
       " 'ababcc',\n",
       " 'ababcd',\n",
       " 'ababce',\n",
       " 'ababcf',\n",
       " 'ababcg',\n",
       " 'ababch',\n",
       " 'ababci',\n",
       " 'ababcj',\n",
       " 'ababck',\n",
       " 'ababcl',\n",
       " 'ababcm',\n",
       " 'ababcn',\n",
       " 'ababco',\n",
       " 'ababcp',\n",
       " 'ababcq',\n",
       " 'ababcr',\n",
       " 'ababcs',\n",
       " 'ababct',\n",
       " 'ababcu',\n",
       " 'ababcv',\n",
       " 'ababcw',\n",
       " 'ababcx',\n",
       " 'ababcy',\n",
       " 'ababcz',\n",
       " 'ababd',\n",
       " 'ababdc',\n",
       " 'ababe',\n",
       " 'ababec',\n",
       " 'ababf',\n",
       " 'ababfc',\n",
       " 'ababg',\n",
       " 'ababgc',\n",
       " 'ababh',\n",
       " 'ababhc',\n",
       " 'ababi',\n",
       " 'ababic',\n",
       " 'ababj',\n",
       " 'ababjc',\n",
       " 'ababk',\n",
       " 'ababkc',\n",
       " 'ababl',\n",
       " 'abablc',\n",
       " 'ababm',\n",
       " 'ababmc',\n",
       " 'ababn',\n",
       " 'ababnc',\n",
       " 'ababo',\n",
       " 'ababoc',\n",
       " 'ababp',\n",
       " 'ababpc',\n",
       " 'ababq',\n",
       " 'ababqc',\n",
       " 'ababr',\n",
       " 'ababrc',\n",
       " 'ababs',\n",
       " 'ababsc',\n",
       " 'ababt',\n",
       " 'ababtc',\n",
       " 'ababu',\n",
       " 'ababuc',\n",
       " 'ababv',\n",
       " 'ababvc',\n",
       " 'ababw',\n",
       " 'ababwc',\n",
       " 'ababx',\n",
       " 'ababxc',\n",
       " 'ababy',\n",
       " 'ababyc',\n",
       " 'ababz',\n",
       " 'ababzc',\n",
       " 'abac',\n",
       " 'abacbc',\n",
       " 'abacc',\n",
       " 'abadbc',\n",
       " 'abadc',\n",
       " 'abaebc',\n",
       " 'abaec',\n",
       " 'abafbc',\n",
       " 'abafc',\n",
       " 'abagbc',\n",
       " 'abagc',\n",
       " 'abahbc',\n",
       " 'abahc',\n",
       " 'abaibc',\n",
       " 'abaic',\n",
       " 'abajbc',\n",
       " 'abajc',\n",
       " 'abakbc',\n",
       " 'abakc',\n",
       " 'abalbc',\n",
       " 'abalc',\n",
       " 'abambc',\n",
       " 'abamc',\n",
       " 'abanbc',\n",
       " 'abanc',\n",
       " 'abaobc',\n",
       " 'abaoc',\n",
       " 'abapbc',\n",
       " 'abapc',\n",
       " 'abaqbc',\n",
       " 'abaqc',\n",
       " 'abarbc',\n",
       " 'abarc',\n",
       " 'abasbc',\n",
       " 'abasc',\n",
       " 'abatbc',\n",
       " 'abatc',\n",
       " 'abaubc',\n",
       " 'abauc',\n",
       " 'abavbc',\n",
       " 'abavc',\n",
       " 'abawbc',\n",
       " 'abawc',\n",
       " 'abaxbc',\n",
       " 'abaxc',\n",
       " 'abaybc',\n",
       " 'abayc',\n",
       " 'abazbc',\n",
       " 'abazc',\n",
       " 'abbabc',\n",
       " 'abbbc',\n",
       " 'abbc',\n",
       " 'abcabc',\n",
       " 'abcbc',\n",
       " 'abdabc',\n",
       " 'abdbc',\n",
       " 'abeabc',\n",
       " 'abebc',\n",
       " 'abfabc',\n",
       " 'abfbc',\n",
       " 'abgabc',\n",
       " 'abgbc',\n",
       " 'abhabc',\n",
       " 'abhbc',\n",
       " 'abiabc',\n",
       " 'abibc',\n",
       " 'abjabc',\n",
       " 'abjbc',\n",
       " 'abkabc',\n",
       " 'abkbc',\n",
       " 'ablabc',\n",
       " 'ablbc',\n",
       " 'abmabc',\n",
       " 'abmbc',\n",
       " 'abnabc',\n",
       " 'abnbc',\n",
       " 'aboabc',\n",
       " 'abobc',\n",
       " 'abpabc',\n",
       " 'abpbc',\n",
       " 'abqabc',\n",
       " 'abqbc',\n",
       " 'abrabc',\n",
       " 'abrbc',\n",
       " 'absabc',\n",
       " 'absbc',\n",
       " 'abtabc',\n",
       " 'abtbc',\n",
       " 'abuabc',\n",
       " 'abubc',\n",
       " 'abvabc',\n",
       " 'abvbc',\n",
       " 'abwabc',\n",
       " 'abwbc',\n",
       " 'abxabc',\n",
       " 'abxbc',\n",
       " 'abyabc',\n",
       " 'abybc',\n",
       " 'abzabc',\n",
       " 'abzbc',\n",
       " 'acabc',\n",
       " 'acbabc',\n",
       " 'adabc',\n",
       " 'adbabc',\n",
       " 'aeabc',\n",
       " 'aebabc',\n",
       " 'afabc',\n",
       " 'afbabc',\n",
       " 'agabc',\n",
       " 'agbabc',\n",
       " 'ahabc',\n",
       " 'ahbabc',\n",
       " 'aiabc',\n",
       " 'aibabc',\n",
       " 'ajabc',\n",
       " 'ajbabc',\n",
       " 'akabc',\n",
       " 'akbabc',\n",
       " 'alabc',\n",
       " 'albabc',\n",
       " 'amabc',\n",
       " 'ambabc',\n",
       " 'anabc',\n",
       " 'anbabc',\n",
       " 'aoabc',\n",
       " 'aobabc',\n",
       " 'apabc',\n",
       " 'apbabc',\n",
       " 'aqabc',\n",
       " 'aqbabc',\n",
       " 'arabc',\n",
       " 'arbabc',\n",
       " 'asabc',\n",
       " 'asbabc',\n",
       " 'atabc',\n",
       " 'atbabc',\n",
       " 'auabc',\n",
       " 'aubabc',\n",
       " 'avabc',\n",
       " 'avbabc',\n",
       " 'awabc',\n",
       " 'awbabc',\n",
       " 'axabc',\n",
       " 'axbabc',\n",
       " 'ayabc',\n",
       " 'aybabc',\n",
       " 'azabc',\n",
       " 'azbabc',\n",
       " 'bababc',\n",
       " 'babc',\n",
       " 'bbabc',\n",
       " 'cababc',\n",
       " 'cbabc',\n",
       " 'dababc',\n",
       " 'dbabc',\n",
       " 'eababc',\n",
       " 'ebabc',\n",
       " 'fababc',\n",
       " 'fbabc',\n",
       " 'gababc',\n",
       " 'gbabc',\n",
       " 'hababc',\n",
       " 'hbabc',\n",
       " 'iababc',\n",
       " 'ibabc',\n",
       " 'jababc',\n",
       " 'jbabc',\n",
       " 'kababc',\n",
       " 'kbabc',\n",
       " 'lababc',\n",
       " 'lbabc',\n",
       " 'mababc',\n",
       " 'mbabc',\n",
       " 'nababc',\n",
       " 'nbabc',\n",
       " 'oababc',\n",
       " 'obabc',\n",
       " 'pababc',\n",
       " 'pbabc',\n",
       " 'qababc',\n",
       " 'qbabc',\n",
       " 'rababc',\n",
       " 'rbabc',\n",
       " 'sababc',\n",
       " 'sbabc',\n",
       " 'tababc',\n",
       " 'tbabc',\n",
       " 'uababc',\n",
       " 'ubabc',\n",
       " 'vababc',\n",
       " 'vbabc',\n",
       " 'wababc',\n",
       " 'wbabc',\n",
       " 'xababc',\n",
       " 'xbabc',\n",
       " 'yababc',\n",
       " 'ybabc',\n",
       " 'zababc',\n",
       " 'zbabc'}"
      ]
     },
     "execution_count": 53,
     "metadata": {},
     "output_type": "execute_result"
    }
   ],
   "source": [
    "c"
   ]
  },
  {
   "cell_type": "code",
   "execution_count": null,
   "id": "4793933c-cdf0-4cc4-892d-f9d8db761663",
   "metadata": {},
   "outputs": [],
   "source": []
  }
 ],
 "metadata": {
  "kernelspec": {
   "display_name": "Python 3 (ipykernel)",
   "language": "python",
   "name": "python3"
  },
  "language_info": {
   "codemirror_mode": {
    "name": "ipython",
    "version": 3
   },
   "file_extension": ".py",
   "mimetype": "text/x-python",
   "name": "python",
   "nbconvert_exporter": "python",
   "pygments_lexer": "ipython3",
   "version": "3.11.3"
  }
 },
 "nbformat": 4,
 "nbformat_minor": 5
}
