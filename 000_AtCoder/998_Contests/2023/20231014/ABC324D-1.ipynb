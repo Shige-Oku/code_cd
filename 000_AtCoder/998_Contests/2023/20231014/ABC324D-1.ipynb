{
 "cells": [
  {
   "cell_type": "code",
   "execution_count": 1,
   "id": "b843f528-a5ff-44f5-aca7-2413c49f07cf",
   "metadata": {
    "tags": []
   },
   "outputs": [],
   "source": [
    "import sys\n",
    "import numpy as np\n",
    "import math\n",
    "import collections\n",
    "import copy\n",
    "import decimal\n",
    "import itertools\n",
    "import re\n",
    "import bisect\n",
    "import scipy\n",
    "import heapq\n",
    "from collections import deque \n",
    "from functools import reduce\n",
    "from itertools import product\n",
    "from itertools import combinations\n",
    "from functools import lru_cache\n",
    "from scipy.special import comb\n",
    "from numba import njit\n",
    "from bisect import bisect_right\n",
    "from bisect import bisect_left"
   ]
  },
  {
   "cell_type": "code",
   "execution_count": 41,
   "id": "82959c14-88c8-4988-958e-16c2fef1d2ab",
   "metadata": {
    "tags": []
   },
   "outputs": [
    {
     "name": "stdin",
     "output_type": "stream",
     "text": [
      " 1\n"
     ]
    }
   ],
   "source": [
    "N = int(input())"
   ]
  },
  {
   "cell_type": "code",
   "execution_count": 62,
   "id": "a8ec20ef-a3a0-4e00-a418-d97c87acb97b",
   "metadata": {
    "tags": []
   },
   "outputs": [
    {
     "name": "stdin",
     "output_type": "stream",
     "text": [
      " 0\n"
     ]
    }
   ],
   "source": [
    "S = input()"
   ]
  },
  {
   "cell_type": "code",
   "execution_count": 69,
   "id": "9cf755aa-51f3-4969-95a6-7e30e88a2352",
   "metadata": {
    "tags": []
   },
   "outputs": [],
   "source": [
    "hei = set()\n",
    "k = 10**N\n",
    "k = int(k ** .5) + 1\n",
    "for i in range(k+1):\n",
    "    hei.add(i*i)\n",
    "    # hei.add(str(i*i).zfill(N))"
   ]
  },
  {
   "cell_type": "code",
   "execution_count": 70,
   "id": "c2dc8f8d-84db-4e41-a0e7-f369e1eca5ec",
   "metadata": {
    "tags": []
   },
   "outputs": [],
   "source": [
    "from collections import Counter\n",
    "ans = 0\n",
    "S_d = Counter(S)\n",
    "for h in hei:\n",
    "    h_d = Counter(str(h).zfill(N))\n",
    "    if S_d == h_d:\n",
    "        ans += 1"
   ]
  },
  {
   "cell_type": "code",
   "execution_count": 71,
   "id": "3b7d9c05-b5af-42b9-9823-8c3b01661371",
   "metadata": {
    "tags": []
   },
   "outputs": [
    {
     "name": "stdout",
     "output_type": "stream",
     "text": [
      "1\n"
     ]
    }
   ],
   "source": [
    "print(ans)"
   ]
  },
  {
   "cell_type": "code",
   "execution_count": 31,
   "id": "d37a84c8-fc5f-4c73-93a7-78e07f6e8b4e",
   "metadata": {
    "tags": []
   },
   "outputs": [],
   "source": [
    "c = 1\n",
    "for i in range(1, 14):\n",
    "    c *= i"
   ]
  },
  {
   "cell_type": "code",
   "execution_count": null,
   "id": "b89488cf-7d1f-470d-9df2-8ea364e610d0",
   "metadata": {},
   "outputs": [],
   "source": [
    "ans = 0\n",
    "S_d = {S}"
   ]
  },
  {
   "cell_type": "code",
   "execution_count": 5,
   "id": "66be8248-b032-48f8-b1a8-60ea44986897",
   "metadata": {
    "tags": []
   },
   "outputs": [
    {
     "data": {
      "text/plain": [
       "6227020800"
      ]
     },
     "execution_count": 5,
     "metadata": {},
     "output_type": "execute_result"
    }
   ],
   "source": [
    "c"
   ]
  },
  {
   "cell_type": "code",
   "execution_count": 6,
   "id": "452f5ed2-2557-46bb-9993-29909613f7d2",
   "metadata": {
    "tags": []
   },
   "outputs": [
    {
     "data": {
      "text/plain": [
       "10000000"
      ]
     },
     "execution_count": 6,
     "metadata": {},
     "output_type": "execute_result"
    }
   ],
   "source": [
    "10**7"
   ]
  },
  {
   "cell_type": "code",
   "execution_count": 7,
   "id": "4f84f042-5ad5-4e93-a970-6a574c78d6e7",
   "metadata": {
    "tags": []
   },
   "outputs": [],
   "source": [
    "k = 10**N\n",
    "k = k ** .5"
   ]
  },
  {
   "cell_type": "code",
   "execution_count": 8,
   "id": "b97525ae-b525-4edf-8d33-83cf736d88e3",
   "metadata": {
    "tags": []
   },
   "outputs": [
    {
     "data": {
      "text/plain": [
       "100.0"
      ]
     },
     "execution_count": 8,
     "metadata": {},
     "output_type": "execute_result"
    }
   ],
   "source": [
    "k"
   ]
  },
  {
   "cell_type": "code",
   "execution_count": 15,
   "id": "f52ee4fa-3c6b-4534-8a22-e10cc444e100",
   "metadata": {
    "tags": []
   },
   "outputs": [
    {
     "data": {
      "text/plain": [
       "Counter({'4': 1, '3': 1, '2': 1, '0': 1})"
      ]
     },
     "execution_count": 15,
     "metadata": {},
     "output_type": "execute_result"
    }
   ],
   "source": [
    "S_d"
   ]
  },
  {
   "cell_type": "code",
   "execution_count": 13,
   "id": "be041f6f-24d9-4d27-8704-c93e6734d020",
   "metadata": {
    "tags": []
   },
   "outputs": [
    {
     "ename": "ValueError",
     "evalue": "dictionary update sequence element #0 has length 1; 2 is required",
     "output_type": "error",
     "traceback": [
      "\u001b[1;31m---------------------------------------------------------------------------\u001b[0m",
      "\u001b[1;31mValueError\u001b[0m                                Traceback (most recent call last)",
      "Cell \u001b[1;32mIn[13], line 1\u001b[0m\n\u001b[1;32m----> 1\u001b[0m \u001b[38;5;28mdict\u001b[39m(S)\n",
      "\u001b[1;31mValueError\u001b[0m: dictionary update sequence element #0 has length 1; 2 is required"
     ]
    }
   ],
   "source": [
    "dict(S)"
   ]
  },
  {
   "cell_type": "code",
   "execution_count": 16,
   "id": "eab42095-bdce-4ca1-92e7-10ce8b6e2585",
   "metadata": {
    "tags": []
   },
   "outputs": [
    {
     "ename": "NameError",
     "evalue": "name 'zfill' is not defined",
     "output_type": "error",
     "traceback": [
      "\u001b[1;31m---------------------------------------------------------------------------\u001b[0m",
      "\u001b[1;31mNameError\u001b[0m                                 Traceback (most recent call last)",
      "Cell \u001b[1;32mIn[16], line 1\u001b[0m\n\u001b[1;32m----> 1\u001b[0m zfill(\u001b[38;5;241m1\u001b[39m)\n",
      "\u001b[1;31mNameError\u001b[0m: name 'zfill' is not defined"
     ]
    }
   ],
   "source": [
    "zfill(1)"
   ]
  },
  {
   "cell_type": "code",
   "execution_count": 18,
   "id": "f6419b81-72ba-40c1-93b4-e7e335a5e275",
   "metadata": {
    "tags": []
   },
   "outputs": [
    {
     "data": {
      "text/plain": [
       "{'0001',\n",
       " '0004',\n",
       " '0009',\n",
       " '0016',\n",
       " '0025',\n",
       " '0036',\n",
       " '0049',\n",
       " '0064',\n",
       " '0081',\n",
       " '0100',\n",
       " '0121',\n",
       " '0144',\n",
       " '0169',\n",
       " '0196',\n",
       " '0225',\n",
       " '0256',\n",
       " '0289',\n",
       " '0324',\n",
       " '0361',\n",
       " '0400',\n",
       " '0441',\n",
       " '0484',\n",
       " '0529',\n",
       " '0576',\n",
       " '0625',\n",
       " '0676',\n",
       " '0729',\n",
       " '0784',\n",
       " '0841',\n",
       " '0900',\n",
       " '0961',\n",
       " '1024',\n",
       " '1089',\n",
       " '1156',\n",
       " '1225',\n",
       " '1296',\n",
       " '1369',\n",
       " '1444',\n",
       " '1521',\n",
       " '1600',\n",
       " '1681',\n",
       " '1764',\n",
       " '1849',\n",
       " '1936',\n",
       " '2025',\n",
       " '2116',\n",
       " '2209',\n",
       " '2304',\n",
       " '2401',\n",
       " '2500',\n",
       " '2601',\n",
       " '2704',\n",
       " '2809',\n",
       " '2916',\n",
       " '3025',\n",
       " '3136',\n",
       " '3249',\n",
       " '3364',\n",
       " '3481',\n",
       " '3600',\n",
       " '3721',\n",
       " '3844',\n",
       " '3969',\n",
       " '4096',\n",
       " '4225',\n",
       " '4356',\n",
       " '4489',\n",
       " '4624',\n",
       " '4761',\n",
       " '4900',\n",
       " '5041',\n",
       " '5184',\n",
       " '5329',\n",
       " '5476',\n",
       " '5625',\n",
       " '5776',\n",
       " '5929',\n",
       " '6084',\n",
       " '6241',\n",
       " '6400',\n",
       " '6561',\n",
       " '6724',\n",
       " '6889',\n",
       " '7056',\n",
       " '7225',\n",
       " '7396',\n",
       " '7569',\n",
       " '7744',\n",
       " '7921',\n",
       " '8100',\n",
       " '8281',\n",
       " '8464',\n",
       " '8649',\n",
       " '8836',\n",
       " '9025',\n",
       " '9216',\n",
       " '9409',\n",
       " '9604',\n",
       " '9801'}"
      ]
     },
     "execution_count": 18,
     "metadata": {},
     "output_type": "execute_result"
    }
   ],
   "source": [
    "hei"
   ]
  },
  {
   "cell_type": "code",
   "execution_count": null,
   "id": "e0e99cb6-ed62-4f8e-9dbd-60395e83795a",
   "metadata": {},
   "outputs": [],
   "source": []
  }
 ],
 "metadata": {
  "kernelspec": {
   "display_name": "Python 3 (ipykernel)",
   "language": "python",
   "name": "python3"
  },
  "language_info": {
   "codemirror_mode": {
    "name": "ipython",
    "version": 3
   },
   "file_extension": ".py",
   "mimetype": "text/x-python",
   "name": "python",
   "nbconvert_exporter": "python",
   "pygments_lexer": "ipython3",
   "version": "3.11.3"
  }
 },
 "nbformat": 4,
 "nbformat_minor": 5
}
