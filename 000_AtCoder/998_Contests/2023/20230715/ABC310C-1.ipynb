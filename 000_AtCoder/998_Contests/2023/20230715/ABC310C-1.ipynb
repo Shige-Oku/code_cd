{
 "cells": [
  {
   "cell_type": "code",
   "execution_count": 1,
   "id": "5ecc9698-459f-4827-9823-9349432f93e8",
   "metadata": {},
   "outputs": [],
   "source": [
    "import sys\n",
    "import numpy as np\n",
    "import math\n",
    "import collections\n",
    "import copy\n",
    "import decimal\n",
    "import itertools\n",
    "import re\n",
    "import bisect\n",
    "import scipy\n",
    "import heapq\n",
    "from collections import deque \n",
    "from functools import reduce\n",
    "from itertools import product\n",
    "from itertools import combinations\n",
    "from functools import lru_cache\n",
    "from scipy.special import comb\n",
    "from numba import njit\n",
    "from bisect import bisect_right\n",
    "from bisect import bisect_left"
   ]
  },
  {
   "cell_type": "code",
   "execution_count": 2,
   "id": "c308acae-f063-40ad-895f-3d67f5daac0b",
   "metadata": {},
   "outputs": [
    {
     "name": "stdin",
     "output_type": "stream",
     "text": [
      " 6\n"
     ]
    }
   ],
   "source": [
    "N = int(input())"
   ]
  },
  {
   "cell_type": "code",
   "execution_count": 3,
   "id": "ac907992-0379-4462-9da8-b7754483dda2",
   "metadata": {},
   "outputs": [
    {
     "name": "stdin",
     "output_type": "stream",
     "text": [
      " a\n",
      " abc\n",
      " de\n",
      " cba\n",
      " de\n",
      " abc\n"
     ]
    }
   ],
   "source": [
    "Sn = [input() for _ in range(N)]"
   ]
  },
  {
   "cell_type": "code",
   "execution_count": 5,
   "id": "328d49b2-e6da-4230-bf03-f17e1bf13915",
   "metadata": {},
   "outputs": [],
   "source": [
    "kind = set()\n",
    "ans = 0\n",
    "for S in Sn:\n",
    "    if S in kind:\n",
    "        continue\n",
    "    if S[::-1] in kind:\n",
    "        continue\n",
    "    ans += 1\n",
    "    kind.add(S)"
   ]
  },
  {
   "cell_type": "code",
   "execution_count": 6,
   "id": "ae8c15bc-c3d9-4e88-a78a-9e4938c599a9",
   "metadata": {},
   "outputs": [
    {
     "name": "stdout",
     "output_type": "stream",
     "text": [
      "3\n"
     ]
    }
   ],
   "source": [
    "print(ans)"
   ]
  },
  {
   "cell_type": "code",
   "execution_count": 7,
   "id": "92ebde96-8a99-4513-9f52-88c2b799c64e",
   "metadata": {},
   "outputs": [
    {
     "data": {
      "text/plain": [
       "{'a', 'abc', 'de'}"
      ]
     },
     "execution_count": 7,
     "metadata": {},
     "output_type": "execute_result"
    }
   ],
   "source": [
    "kind"
   ]
  },
  {
   "cell_type": "code",
   "execution_count": null,
   "id": "912c7f93-d2e4-49ef-bab2-46e6f149a573",
   "metadata": {},
   "outputs": [],
   "source": []
  }
 ],
 "metadata": {
  "kernelspec": {
   "display_name": "Python 3",
   "language": "python",
   "name": "python3"
  },
  "language_info": {
   "codemirror_mode": {
    "name": "ipython",
    "version": 3
   },
   "file_extension": ".py",
   "mimetype": "text/x-python",
   "name": "python",
   "nbconvert_exporter": "python",
   "pygments_lexer": "ipython3",
   "version": "3.6.13"
  }
 },
 "nbformat": 4,
 "nbformat_minor": 5
}
