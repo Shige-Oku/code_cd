{
 "cells": [
  {
   "cell_type": "code",
   "execution_count": 1,
   "id": "7332bffa-b00b-4764-a945-d1a8f467335b",
   "metadata": {},
   "outputs": [],
   "source": [
    "import sys\n",
    "import numpy as np\n",
    "import math\n",
    "import collections\n",
    "import copy\n",
    "import decimal\n",
    "import itertools\n",
    "import re\n",
    "import bisect\n",
    "import scipy\n",
    "import heapq\n",
    "from collections import deque \n",
    "from functools import reduce\n",
    "from itertools import product\n",
    "from itertools import combinations\n",
    "from functools import lru_cache\n",
    "from scipy.special import comb\n",
    "from numba import njit\n",
    "from bisect import bisect_right\n",
    "from bisect import bisect_left"
   ]
  },
  {
   "cell_type": "code",
   "execution_count": 2,
   "id": "f9393a49-648f-4093-8107-f73b9b8c29be",
   "metadata": {},
   "outputs": [
    {
     "name": "stdin",
     "output_type": "stream",
     "text": [
      " 5 6\n"
     ]
    }
   ],
   "source": [
    "N, M = map(int, input().split())"
   ]
  },
  {
   "cell_type": "code",
   "execution_count": 3,
   "id": "466ec73e-04e3-475a-871e-41d7eba394b6",
   "metadata": {},
   "outputs": [
    {
     "name": "stdin",
     "output_type": "stream",
     "text": [
      " 10000 2 1 3\n",
      " 15000 3 1 2 4\n",
      " 30000 3 1 3 5\n",
      " 35000 2 1 5\n",
      " 100000 6 1 2 3 4 5 6\n"
     ]
    }
   ],
   "source": [
    "PCFn = [list(map(int, input().split())) for _ in range(N)]"
   ]
  },
  {
   "cell_type": "code",
   "execution_count": 8,
   "id": "87e3317a-e468-432a-82f0-927ac0a59405",
   "metadata": {},
   "outputs": [],
   "source": [
    "def myCheck(i, j):\n",
    "    Pi, Ci, *Fi = PCFn[i]\n",
    "    Pj, Cj, *Fj = PCFn[j]\n",
    "    if Pi < Pj:\n",
    "        return False\n",
    "    for F in Fi:\n",
    "        if F not in Fj:\n",
    "            return False\n",
    "    \n",
    "    if Pi > Pj:\n",
    "        return True\n",
    "    return len(Fj) > len(Fi)"
   ]
  },
  {
   "cell_type": "code",
   "execution_count": 9,
   "id": "e504d449-8a67-4409-92d2-28aa3920bbb4",
   "metadata": {},
   "outputs": [],
   "source": [
    "def solve():\n",
    "    for i in range(N-1):\n",
    "        for j in range(i+1, N):\n",
    "            if myCheck(i, j):\n",
    "                return True\n",
    "            if myCheck(j, i):\n",
    "                return True\n",
    "    return False"
   ]
  },
  {
   "cell_type": "code",
   "execution_count": 10,
   "id": "5a094d89-4957-4655-a1ea-6bc174afa6ab",
   "metadata": {},
   "outputs": [
    {
     "name": "stdout",
     "output_type": "stream",
     "text": [
      "Yes\n"
     ]
    }
   ],
   "source": [
    "print('Yes' if solve() else 'No')"
   ]
  },
  {
   "cell_type": "code",
   "execution_count": null,
   "id": "7e5e4505-3f4e-4daa-aaf0-101a6fce2fda",
   "metadata": {},
   "outputs": [],
   "source": []
  }
 ],
 "metadata": {
  "kernelspec": {
   "display_name": "Python 3",
   "language": "python",
   "name": "python3"
  },
  "language_info": {
   "codemirror_mode": {
    "name": "ipython",
    "version": 3
   },
   "file_extension": ".py",
   "mimetype": "text/x-python",
   "name": "python",
   "nbconvert_exporter": "python",
   "pygments_lexer": "ipython3",
   "version": "3.6.13"
  }
 },
 "nbformat": 4,
 "nbformat_minor": 5
}
