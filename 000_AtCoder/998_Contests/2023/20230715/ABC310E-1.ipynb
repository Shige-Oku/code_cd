{
 "cells": [
  {
   "cell_type": "code",
   "execution_count": 1,
   "id": "7888d151-e392-4193-bc4e-40909490d82f",
   "metadata": {},
   "outputs": [],
   "source": [
    "import sys\n",
    "import numpy as np\n",
    "import math\n",
    "import collections\n",
    "import copy\n",
    "import decimal\n",
    "import itertools\n",
    "import re\n",
    "import bisect\n",
    "import scipy\n",
    "import heapq\n",
    "from collections import deque \n",
    "from functools import reduce\n",
    "from itertools import product\n",
    "from itertools import combinations\n",
    "from functools import lru_cache\n",
    "from scipy.special import comb\n",
    "from numba import njit\n",
    "from bisect import bisect_right\n",
    "from bisect import bisect_left"
   ]
  },
  {
   "cell_type": "code",
   "execution_count": 2,
   "id": "56aef189-3d4a-4589-a468-8e02fa2f1ce2",
   "metadata": {},
   "outputs": [
    {
     "name": "stdin",
     "output_type": "stream",
     "text": [
      " 5\n"
     ]
    }
   ],
   "source": [
    "N = int(input())"
   ]
  },
  {
   "cell_type": "code",
   "execution_count": 3,
   "id": "43cf1e10-aad6-47c2-9bfa-a4a8a829a8f6",
   "metadata": {},
   "outputs": [
    {
     "name": "stdin",
     "output_type": "stream",
     "text": [
      " 00110\n"
     ]
    }
   ],
   "source": [
    "S = input()"
   ]
  },
  {
   "cell_type": "code",
   "execution_count": 70,
   "id": "933a8ff8-aaa9-4ed2-936d-8920457ed756",
   "metadata": {},
   "outputs": [],
   "source": [
    "v = [0] * N\n",
    "for i, s in enumerate(S):\n",
    "    if i == 0:\n",
    "        v[i] = int(s)\n",
    "        continue\n",
    "    if v[i-1] + int(s) == 2:\n",
    "        v[i] = 0\n",
    "    else:\n",
    "        v[i] = 1\n"
   ]
  },
  {
   "cell_type": "code",
   "execution_count": 74,
   "id": "d669f2db-b8fa-46f0-8e0b-67887c576d0e",
   "metadata": {},
   "outputs": [],
   "source": [
    "cnt0 = [0] * (N+1)\n",
    "cnt1 = [0] * (N+1)\n",
    "for i, val in enumerate(v, 1):\n",
    "    if val == 0:\n",
    "        cnt0[i] = cnt0[i-1] + 1\n",
    "        cnt1[i] = cnt1[i-1]\n",
    "    else:\n",
    "        cnt0[i] = cnt0[i-1]\n",
    "        cnt1[i] = cnt1[i-1] + 1"
   ]
  },
  {
   "cell_type": "code",
   "execution_count": 76,
   "id": "2688891d-2593-490a-aeb4-f0aca97e5a39",
   "metadata": {},
   "outputs": [
    {
     "name": "stdout",
     "output_type": "stream",
     "text": [
      "9\n"
     ]
    }
   ],
   "source": [
    "ans = 0\n",
    "for i, val in enumerate(v, 1):\n",
    "    if val == 0:\n",
    "        ans += cnt1[-1] - cnt1[i]\n",
    "    else:\n",
    "        ans += cnt0[-1] - cnt0[i] + 1\n",
    "print(ans)"
   ]
  },
  {
   "cell_type": "code",
   "execution_count": 75,
   "id": "2a4c402e-3170-4b2f-8f76-cabd372df30b",
   "metadata": {},
   "outputs": [
    {
     "data": {
      "text/plain": [
       "([0, 1, 0, 1, 1], [0, 1, 1, 2, 2, 2], [0, 0, 1, 1, 2, 3])"
      ]
     },
     "execution_count": 75,
     "metadata": {},
     "output_type": "execute_result"
    }
   ],
   "source": [
    "v, cnt0, cnt1"
   ]
  },
  {
   "cell_type": "code",
   "execution_count": 64,
   "id": "0e97001d-0f43-4f9e-b93e-029ec9dae3d1",
   "metadata": {},
   "outputs": [],
   "source": [
    "cnt0 = [0] * (N+1)\n",
    "cnt1 = [0] * (N+1)\n",
    "for i, s in enumerate(S, 1):\n",
    "    if s == '0':\n",
    "        cnt0[i] = cnt0[i-1] + 1\n",
    "        cnt1[i] = cnt1[i-1]\n",
    "    else:\n",
    "        cnt0[i] = cnt0[i-1]\n",
    "        cnt1[i] = cnt1[i-1] + 1\n",
    "        "
   ]
  },
  {
   "cell_type": "code",
   "execution_count": 68,
   "id": "f154a2d4-280d-4aa7-8c2a-d6fb074af642",
   "metadata": {},
   "outputs": [
    {
     "name": "stdout",
     "output_type": "stream",
     "text": [
      "2\n",
      "4\n",
      "6\n",
      "8\n",
      "8\n",
      "8\n"
     ]
    }
   ],
   "source": [
    "ans = 0\n",
    "for i, s in enumerate(S, 1):\n",
    "    if s == '0':\n",
    "        ans += cnt1[-1] - cnt1[i]\n",
    "    else:\n",
    "        ans += cnt0[-1] - cnt0[i] + 1\n",
    "    print(ans)\n",
    "print(ans)"
   ]
  },
  {
   "cell_type": "code",
   "execution_count": 69,
   "id": "c2a79b43-ccda-4031-9baa-cfbebe63cab1",
   "metadata": {},
   "outputs": [
    {
     "data": {
      "text/plain": [
       "([0, 1, 2, 2, 2, 3], [0, 0, 0, 1, 2, 2])"
      ]
     },
     "execution_count": 69,
     "metadata": {},
     "output_type": "execute_result"
    }
   ],
   "source": [
    "cnt0, cnt1"
   ]
  },
  {
   "cell_type": "code",
   "execution_count": 52,
   "id": "8fbf9c49-aace-4f88-8389-19947d58c177",
   "metadata": {},
   "outputs": [],
   "source": [
    "al = N * (N+1) // 2\n",
    "v = [0] * N\n",
    "for i, s in enumerate(S):\n",
    "    if i == 0:\n",
    "        v[i] = int(s)\n",
    "        continue\n",
    "    if v[i-1] + int(s) == 2:\n",
    "        v[i] = 0\n",
    "    else:\n",
    "        v[i] = 1"
   ]
  },
  {
   "cell_type": "code",
   "execution_count": 53,
   "id": "631e09ee-c5a0-433b-a44d-0650c5caa9ff",
   "metadata": {},
   "outputs": [
    {
     "name": "stdout",
     "output_type": "stream",
     "text": [
      "9\n"
     ]
    }
   ],
   "source": [
    "from itertools import accumulate\n",
    "v_c = list(accumulate(v))\n",
    "v_c = v_c[::-1]\n",
    "ans = 0\n",
    "for i, s in enumerate(S):\n",
    "    if s == '0':\n",
    "        ans += v_c[i] - v_c[-1]\n",
    "    else:\n",
    "        ans += v_c[i] - v_c[-1] + 1\n",
    "#     print(ans)\n",
    "print(ans)"
   ]
  },
  {
   "cell_type": "code",
   "execution_count": 39,
   "id": "7aabd2bb-4413-4d3c-a728-f953e2fd5a7d",
   "metadata": {},
   "outputs": [],
   "source": [
    "al = N * (N+1) // 2\n",
    "v = [0] * N\n",
    "for i, s in enumerate(S[::-1]):\n",
    "    if i == 0:\n",
    "        v[i] = int(s)\n",
    "        continue\n",
    "    if v[i-1] + int(s) == 2:\n",
    "        v[i] = 0\n",
    "    else:\n",
    "        v[i] = 1"
   ]
  },
  {
   "cell_type": "code",
   "execution_count": 50,
   "id": "84a4bd7b-5712-4197-a96e-dfee7ef32ffd",
   "metadata": {},
   "outputs": [
    {
     "data": {
      "text/plain": [
       "([3, 2, 1, 1, 0], [0, 1, 0, 1, 1], 3, 9)"
      ]
     },
     "execution_count": 50,
     "metadata": {},
     "output_type": "execute_result"
    }
   ],
   "source": [
    "v_c, v, cnt, ans"
   ]
  },
  {
   "cell_type": "code",
   "execution_count": 26,
   "id": "ae872f2b-c249-4ea1-8db4-44ecd9498a37",
   "metadata": {},
   "outputs": [
    {
     "data": {
      "text/plain": [
       "[0, 1, 0, 1, 1]"
      ]
     },
     "execution_count": 26,
     "metadata": {},
     "output_type": "execute_result"
    }
   ],
   "source": [
    "v"
   ]
  },
  {
   "cell_type": "code",
   "execution_count": null,
   "id": "9d557396-0f90-4454-95ab-c25e72f38103",
   "metadata": {},
   "outputs": [],
   "source": []
  }
 ],
 "metadata": {
  "kernelspec": {
   "display_name": "Python 3 (ipykernel)",
   "language": "python",
   "name": "python3"
  },
  "language_info": {
   "codemirror_mode": {
    "name": "ipython",
    "version": 3
   },
   "file_extension": ".py",
   "mimetype": "text/x-python",
   "name": "python",
   "nbconvert_exporter": "python",
   "pygments_lexer": "ipython3",
   "version": "3.11.3"
  }
 },
 "nbformat": 4,
 "nbformat_minor": 5
}
