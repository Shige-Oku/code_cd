{
 "cells": [
  {
   "cell_type": "code",
   "execution_count": 1,
   "id": "2b64eea8-3363-4984-ae0d-d08002d3085b",
   "metadata": {},
   "outputs": [],
   "source": [
    "import sys\n",
    "import numpy as np\n",
    "import math\n",
    "import collections\n",
    "import copy\n",
    "import decimal\n",
    "import itertools\n",
    "import re\n",
    "import bisect\n",
    "import scipy\n",
    "import heapq\n",
    "from collections import deque \n",
    "from functools import reduce\n",
    "from itertools import product\n",
    "from itertools import combinations\n",
    "from functools import lru_cache\n",
    "from scipy.special import comb\n",
    "from numba import njit\n",
    "from bisect import bisect_right\n",
    "from bisect import bisect_left"
   ]
  },
  {
   "cell_type": "code",
   "execution_count": 15,
   "id": "739a4f57-b6db-4367-84af-97e19c88ce76",
   "metadata": {},
   "outputs": [
    {
     "name": "stdin",
     "output_type": "stream",
     "text": [
      " 1\n"
     ]
    }
   ],
   "source": [
    "N = int(input())"
   ]
  },
  {
   "cell_type": "code",
   "execution_count": 16,
   "id": "c2bc161a-93ab-4dd5-bad5-7123d36f0ab7",
   "metadata": {},
   "outputs": [
    {
     "name": "stdin",
     "output_type": "stream",
     "text": [
      " 5\n"
     ]
    }
   ],
   "source": [
    "Q = int(input())"
   ]
  },
  {
   "cell_type": "code",
   "execution_count": 17,
   "id": "ede5b06c-3b11-49d8-a9a0-b680fe4881d4",
   "metadata": {},
   "outputs": [
    {
     "name": "stdin",
     "output_type": "stream",
     "text": [
      " 1 1 1\n",
      " 1 2 1\n",
      " 1 200000 1\n",
      " 2 1\n",
      " 3 200000\n"
     ]
    }
   ],
   "source": [
    "Qu = [list(map(int, input().split())) for _ in range(Q)]"
   ]
  },
  {
   "cell_type": "code",
   "execution_count": 32,
   "id": "d2930e24-367a-4327-8b7f-8d45e515b5c6",
   "metadata": {},
   "outputs": [
    {
     "name": "stdout",
     "output_type": "stream",
     "text": [
      "{}\n",
      "{1: 1}\n",
      "{1: 1, 2: 1}\n",
      "1 2 200000 \n",
      "1\n"
     ]
    }
   ],
   "source": [
    "box = [{} for _ in range (N+1)]\n",
    "num = [set() for _ in range(2*10**5+1)]\n",
    "for q in Qu:\n",
    "    if q[0] == 1:\n",
    "        _, i, j = q\n",
    "        di = box[j]\n",
    "        if i in di:\n",
    "            di[i] += 1\n",
    "        else:\n",
    "            di[i] = 1\n",
    "        num[i].add(j)\n",
    "    elif q[0] == 2:\n",
    "        _, i = q\n",
    "        for k, v in sorted(box[i].items()):\n",
    "            for _ in range(v):\n",
    "                print(k, end=' ')\n",
    "        print('')\n",
    "    else:\n",
    "        _, i = q\n",
    "        print(*sorted(num[i]))\n",
    "#     print(box)\n",
    "        "
   ]
  },
  {
   "cell_type": "code",
   "execution_count": 22,
   "id": "b0471ffa-169c-4d2e-929b-7d4fac9007bd",
   "metadata": {},
   "outputs": [
    {
     "data": {
      "text/plain": [
       "[{}, 1]"
      ]
     },
     "execution_count": 22,
     "metadata": {},
     "output_type": "execute_result"
    }
   ],
   "source": [
    "box"
   ]
  },
  {
   "cell_type": "code",
   "execution_count": null,
   "id": "36185944-f40f-418f-a586-790384cad307",
   "metadata": {},
   "outputs": [],
   "source": [
    "# 解説を読んで実装"
   ]
  },
  {
   "cell_type": "code",
   "execution_count": 33,
   "id": "d9a28f1a-04d9-45bb-9d31-e359f1577d1f",
   "metadata": {},
   "outputs": [
    {
     "name": "stdout",
     "output_type": "stream",
     "text": [
      "1 2 200000\n",
      "1\n"
     ]
    }
   ],
   "source": [
    "box = [[] for _ in range (N+1)]\n",
    "card = [set() for _ in range(2*10**5+1)]\n",
    "for q in Qu:\n",
    "    if q[0] == 1:\n",
    "        _, i, j = q\n",
    "        box[j].append(i)\n",
    "        card[i].add(j)\n",
    "    elif q[0] == 2:\n",
    "        _, i = q\n",
    "        print(*sorted(box[i]))\n",
    "    else:\n",
    "        _, i = q\n",
    "        print(*sorted(card[i]))"
   ]
  },
  {
   "cell_type": "code",
   "execution_count": null,
   "id": "74ad53fd-b4a6-4778-9ab6-0d288830a013",
   "metadata": {},
   "outputs": [],
   "source": [
    "# TLE"
   ]
  },
  {
   "cell_type": "code",
   "execution_count": 20,
   "id": "04124395-d229-4c8a-885b-4ee6e933640e",
   "metadata": {},
   "outputs": [
    {
     "name": "stdout",
     "output_type": "stream",
     "text": [
      "1 2 200000\n",
      "1\n"
     ]
    }
   ],
   "source": [
    "from bisect import bisect_left\n",
    "box = [[] for _ in range (N+1)]\n",
    "num = [[] for _ in range(2*10**5+1)]\n",
    "for q in Qu:\n",
    "    if q[0] == 1:\n",
    "        _, i, j = q\n",
    "        p = bisect_left(box[j], i)\n",
    "        box[j].insert(p, i)\n",
    "        num[i].add(j)\n",
    "    elif q[0] == 2:\n",
    "        _, i = q\n",
    "        print(*box[i])\n",
    "    else:\n",
    "        _, i = q\n",
    "        print(*num[i])\n",
    "#     print(box)\n",
    "        "
   ]
  },
  {
   "cell_type": "code",
   "execution_count": 19,
   "id": "c7bc0c03-0498-4932-a3d9-25292f1ea9e8",
   "metadata": {},
   "outputs": [
    {
     "name": "stdout",
     "output_type": "stream",
     "text": [
      "1 2 200000\n",
      "1\n"
     ]
    }
   ],
   "source": [
    "from bisect import bisect_left\n",
    "box = [[] for _ in range (N+1)]\n",
    "num = [set() for _ in range(2*10**5+1)]\n",
    "for q in Qu:\n",
    "    if q[0] == 1:\n",
    "        _, i, j = q\n",
    "        p = bisect_left(box[j], i)\n",
    "        box[j].insert(p, i)\n",
    "        num[i].add(j)\n",
    "    elif q[0] == 2:\n",
    "        _, i = q\n",
    "        print(*box[i])\n",
    "    else:\n",
    "        _, i = q\n",
    "        print(*sorted(num[i]))\n",
    "#     print(box)\n",
    "        "
   ]
  },
  {
   "cell_type": "code",
   "execution_count": 7,
   "id": "9d44274e-177c-437a-b1af-2df1f8bc1c67",
   "metadata": {},
   "outputs": [
    {
     "data": {
      "text/plain": [
       "([[], [], [], [], [], []], [set(), set(), set(), set(), set(), set()])"
      ]
     },
     "execution_count": 7,
     "metadata": {},
     "output_type": "execute_result"
    }
   ],
   "source": [
    "box, num"
   ]
  },
  {
   "cell_type": "code",
   "execution_count": 10,
   "id": "70647d2e-86d2-4835-8dd3-6ad90e7d2c68",
   "metadata": {},
   "outputs": [
    {
     "data": {
      "text/plain": [
       "[[], [0], [], [], [0, 1, 1], []]"
      ]
     },
     "execution_count": 10,
     "metadata": {},
     "output_type": "execute_result"
    }
   ],
   "source": [
    "box"
   ]
  },
  {
   "cell_type": "code",
   "execution_count": 11,
   "id": "465bb3cb-89a9-491d-97df-bcf1cdfa99eb",
   "metadata": {},
   "outputs": [
    {
     "data": {
      "text/plain": [
       "[[1, 1, 1], [1, 2, 4], [1, 1, 4], [2, 4], [1, 1, 4], [2, 4], [3, 1], [3, 2]]"
      ]
     },
     "execution_count": 11,
     "metadata": {},
     "output_type": "execute_result"
    }
   ],
   "source": [
    "Qu"
   ]
  },
  {
   "cell_type": "code",
   "execution_count": null,
   "id": "d4bde49b-1dcc-484c-b837-1316cf14eed1",
   "metadata": {},
   "outputs": [],
   "source": []
  }
 ],
 "metadata": {
  "kernelspec": {
   "display_name": "Python 3",
   "language": "python",
   "name": "python3"
  },
  "language_info": {
   "codemirror_mode": {
    "name": "ipython",
    "version": 3
   },
   "file_extension": ".py",
   "mimetype": "text/x-python",
   "name": "python",
   "nbconvert_exporter": "python",
   "pygments_lexer": "ipython3",
   "version": "3.6.13"
  }
 },
 "nbformat": 4,
 "nbformat_minor": 5
}
