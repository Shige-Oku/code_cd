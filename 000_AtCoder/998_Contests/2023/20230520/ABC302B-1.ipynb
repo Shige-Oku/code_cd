{
 "cells": [
  {
   "cell_type": "code",
   "execution_count": 1,
   "id": "f2b165e7-7faf-4c7b-9003-e525d068dc47",
   "metadata": {},
   "outputs": [],
   "source": [
    "import sys\n",
    "import numpy as np\n",
    "import math\n",
    "import collections\n",
    "import copy\n",
    "import decimal\n",
    "import itertools\n",
    "import re\n",
    "import bisect\n",
    "import scipy\n",
    "import heapq\n",
    "from collections import deque \n",
    "from functools import reduce\n",
    "from itertools import product\n",
    "from itertools import combinations\n",
    "from functools import lru_cache\n",
    "from scipy.special import comb\n",
    "from numba import njit\n",
    "from bisect import bisect_right\n",
    "from bisect import bisect_left"
   ]
  },
  {
   "cell_type": "code",
   "execution_count": 2,
   "id": "6ea73c15-2582-4e32-b480-1a4c0c24f91c",
   "metadata": {},
   "outputs": [
    {
     "name": "stdin",
     "output_type": "stream",
     "text": [
      " 6 6\n"
     ]
    }
   ],
   "source": [
    "H, W = map(int, input().split())"
   ]
  },
  {
   "cell_type": "code",
   "execution_count": 3,
   "id": "7ea6e560-e365-49d2-a7b5-f6492ac7ff2f",
   "metadata": {},
   "outputs": [
    {
     "name": "stdin",
     "output_type": "stream",
     "text": [
      " vgxgpu\n",
      " amkxks4\n",
      " zhkbpp\n",
      " hykink\n",
      " esnuke\n",
      " zplvfj\n"
     ]
    }
   ],
   "source": [
    "Sh = [input() for _ in range(H)]"
   ]
  },
  {
   "cell_type": "code",
   "execution_count": 12,
   "id": "3ad76f15-469c-47cd-82eb-35671b73613d",
   "metadata": {},
   "outputs": [],
   "source": [
    "def solve():\n",
    "    for i in range(H):\n",
    "        for j in range(W-4):\n",
    "            if Sh[i][j] == 's' and Sh[i][j+1] == 'n' and Sh[i][j+2] == 'u' and Sh[i][j+3] == 'k' and Sh[i][j+4] == 'e':\n",
    "                return [[i, j], [i, j+1], [i, j+2], [i, j+3], [i, j+4]]\n",
    "    for j in range(W):\n",
    "        for i in range(H-4):\n",
    "            if Sh[i][j] == 's' and Sh[i+1][j] == 'n' and Sh[i+2][j] == 'u' and Sh[i+3][j] == 'k' and Sh[i+4][j] == 'e':\n",
    "                return [[i, j], [i+1, j], [i+2, j], [i+3, j], [i+4, j]]\n",
    "    for i in range(H-4):\n",
    "        for j in range(W-4):\n",
    "            if Sh[i][j] == 's' and Sh[i+1][j+1] == 'n' and Sh[i+2][j+2] == 'u' and Sh[i+3][j+3] == 'k' and Sh[i+4][j+4] == 'e':\n",
    "                return [[i, j], [i+1, j+1], [i+2, j+2], [i+3, j+3], [i+4, j+4]]\n",
    "    for i in range(H-4):\n",
    "        for j in range(W-1, 3, -1):\n",
    "            if Sh[i][j] == 's' and Sh[i+1][j-1] == 'n' and Sh[i+2][j-2] == 'u' and Sh[i+3][j-3] == 'k' and Sh[i+4][j-4] == 'e':\n",
    "                return [[i, j], [i+1, j-1], [i+2, j-2], [i+3, j-3], [i+4, j-4]]\n",
    "            \n",
    "            \n",
    "    for i in range(H-1, -1, -1):\n",
    "        for j in range(W-1, 3, -1):\n",
    "            if Sh[i][j] == 's' and Sh[i][j-1] == 'n' and Sh[i][j-2] == 'u' and Sh[i][j-3] == 'k' and Sh[i][j-4] == 'e':\n",
    "                return [[i, j], [i, j-1], [i, j-2], [i, j-3], [i, j-4]]\n",
    "    for j in range(W-1, -1, -1):\n",
    "        for i in range(H-1, 3, -1):\n",
    "            if Sh[i][j] == 's' and Sh[i-1][j] == 'n' and Sh[i-2][j] == 'u' and Sh[i-3][j] == 'k' and Sh[i-4][j] == 'e':\n",
    "                return [[i, j], [i-1, j], [i-2, j], [i-3, j], [i-4, j]]\n",
    "    for i in range(H-1, 3, -1):\n",
    "        for j in range(W-1, 3, -1):\n",
    "            if Sh[i][j] == 's' and Sh[i-1][j-1] == 'n' and Sh[i-2][j-2] == 'u' and Sh[i-3][j-3] == 'k' and Sh[i-4][j-4] == 'e':\n",
    "                return [[i, j], [i-1, j-1], [i-2, j-2], [i-3, j-3], [i-4, j-4]]\n",
    "    for i in range(H-1, 3, -1):\n",
    "        for j in range(W-4):\n",
    "            if Sh[i][j] == 's' and Sh[i-1][j+1] == 'n' and Sh[i-2][j+2] == 'u' and Sh[i-3][j+3] == 'k' and Sh[i-4][j+4] == 'e':\n",
    "                return [[i, j], [i-1, j+1], [i-2, j+2], [i-3, j+3], [i-4, j+4]]\n",
    "            \n",
    "    return "
   ]
  },
  {
   "cell_type": "code",
   "execution_count": 13,
   "id": "47d0068e-3c6f-4013-aae5-a1b0e2efbf26",
   "metadata": {},
   "outputs": [
    {
     "name": "stdout",
     "output_type": "stream",
     "text": [
      "5 2\n",
      "5 3\n",
      "5 4\n",
      "5 5\n",
      "5 6\n"
     ]
    }
   ],
   "source": [
    "ans = solve()\n",
    "for h, w in ans:\n",
    "    print(h+1, w+1)"
   ]
  },
  {
   "cell_type": "code",
   "execution_count": 14,
   "id": "d14c519d-6902-4d82-934d-462b10a15fc1",
   "metadata": {},
   "outputs": [
    {
     "name": "stdout",
     "output_type": "stream",
     "text": [
      "5\n",
      "4\n"
     ]
    }
   ],
   "source": [
    "for j in range(W-1, 3, -1):\n",
    "    print(j)"
   ]
  },
  {
   "cell_type": "code",
   "execution_count": null,
   "id": "6871eab2-825d-4bf1-b7df-8506ba88bd32",
   "metadata": {},
   "outputs": [],
   "source": []
  }
 ],
 "metadata": {
  "kernelspec": {
   "display_name": "Python 3",
   "language": "python",
   "name": "python3"
  },
  "language_info": {
   "codemirror_mode": {
    "name": "ipython",
    "version": 3
   },
   "file_extension": ".py",
   "mimetype": "text/x-python",
   "name": "python",
   "nbconvert_exporter": "python",
   "pygments_lexer": "ipython3",
   "version": "3.6.13"
  }
 },
 "nbformat": 4,
 "nbformat_minor": 5
}
