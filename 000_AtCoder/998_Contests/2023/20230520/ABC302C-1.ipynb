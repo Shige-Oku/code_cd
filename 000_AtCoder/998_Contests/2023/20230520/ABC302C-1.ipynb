{
 "cells": [
  {
   "cell_type": "code",
   "execution_count": 1,
   "id": "8ad69a9b-2920-4b02-aa87-ddcdac8c5054",
   "metadata": {},
   "outputs": [],
   "source": [
    "import sys\n",
    "import numpy as np\n",
    "import math\n",
    "import collections\n",
    "import copy\n",
    "import decimal\n",
    "import itertools\n",
    "import re\n",
    "import bisect\n",
    "import scipy\n",
    "import heapq\n",
    "from collections import deque \n",
    "from functools import reduce\n",
    "from itertools import product\n",
    "from itertools import combinations\n",
    "from functools import lru_cache\n",
    "from scipy.special import comb\n",
    "from numba import njit\n",
    "from bisect import bisect_right\n",
    "from bisect import bisect_left"
   ]
  },
  {
   "cell_type": "code",
   "execution_count": 2,
   "id": "fde60365-915a-4b81-a6d4-930a288608f9",
   "metadata": {},
   "outputs": [
    {
     "name": "stdin",
     "output_type": "stream",
     "text": [
      " 4 4\n"
     ]
    }
   ],
   "source": [
    "N, M = map(int, input().split())"
   ]
  },
  {
   "cell_type": "code",
   "execution_count": 3,
   "id": "ca455e46-cdf3-4c15-b1b8-04c88795e4ca",
   "metadata": {},
   "outputs": [
    {
     "name": "stdin",
     "output_type": "stream",
     "text": [
      " bbed\n",
      " abcd\n",
      " abed\n",
      " fbed\n"
     ]
    }
   ],
   "source": [
    "Sn = [input() for _ in range(N)]"
   ]
  },
  {
   "cell_type": "code",
   "execution_count": 33,
   "id": "6227f181-91e3-41dd-bd5f-7f4f79dea68f",
   "metadata": {},
   "outputs": [],
   "source": [
    "def check(i, j):\n",
    "    cnt = 0\n",
    "    for s1, s2 in zip(Sn[i], Sn[j]):\n",
    "        if s1 != s2:\n",
    "            cnt += 1\n",
    "    return cnt <= 1"
   ]
  },
  {
   "cell_type": "code",
   "execution_count": 38,
   "id": "f1a7361a-c809-451a-b7d2-8ab2fcd521df",
   "metadata": {},
   "outputs": [],
   "source": [
    "def solve(P):\n",
    "    for i in range(N-1):\n",
    "        if not check(P[i], P[i+1]):\n",
    "            return False\n",
    "    return True"
   ]
  },
  {
   "cell_type": "code",
   "execution_count": 39,
   "id": "02c0b5dd-6e11-48e0-a619-0ef2cf727803",
   "metadata": {},
   "outputs": [
    {
     "name": "stdout",
     "output_type": "stream",
     "text": [
      "Yes\n"
     ]
    }
   ],
   "source": [
    "from itertools import permutations\n",
    "for P in permutations(range(N), N):\n",
    "    if solve(P):\n",
    "        print('Yes')\n",
    "        break\n",
    "else:\n",
    "    print('No')"
   ]
  },
  {
   "cell_type": "code",
   "execution_count": 35,
   "id": "04ccef43-899a-40b3-a04b-4539d72edc33",
   "metadata": {},
   "outputs": [
    {
     "name": "stdout",
     "output_type": "stream",
     "text": [
      "(1, 2, 0, 3)\n",
      "0 1 2\n",
      "1 2 0\n",
      "2 0 3\n"
     ]
    },
    {
     "data": {
      "text/plain": [
       "True"
      ]
     },
     "execution_count": 35,
     "metadata": {},
     "output_type": "execute_result"
    }
   ],
   "source": [
    "solve((1, 2, 0, 3))"
   ]
  },
  {
   "cell_type": "code",
   "execution_count": null,
   "id": "70da7995-771d-48fe-8619-1367d6a02eec",
   "metadata": {},
   "outputs": [],
   "source": []
  }
 ],
 "metadata": {
  "kernelspec": {
   "display_name": "Python 3",
   "language": "python",
   "name": "python3"
  },
  "language_info": {
   "codemirror_mode": {
    "name": "ipython",
    "version": 3
   },
   "file_extension": ".py",
   "mimetype": "text/x-python",
   "name": "python",
   "nbconvert_exporter": "python",
   "pygments_lexer": "ipython3",
   "version": "3.6.13"
  }
 },
 "nbformat": 4,
 "nbformat_minor": 5
}
