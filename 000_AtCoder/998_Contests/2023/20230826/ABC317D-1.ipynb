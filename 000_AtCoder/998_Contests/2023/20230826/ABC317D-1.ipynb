{
 "cells": [
  {
   "cell_type": "code",
   "execution_count": 1,
   "id": "0cb83b23-e935-4c53-8c61-77724172adfb",
   "metadata": {
    "tags": []
   },
   "outputs": [],
   "source": [
    "import sys\n",
    "import numpy as np\n",
    "import math\n",
    "import collections\n",
    "import copy\n",
    "import decimal\n",
    "import itertools\n",
    "import re\n",
    "import bisect\n",
    "import scipy\n",
    "import heapq\n",
    "from collections import deque \n",
    "from functools import reduce\n",
    "from itertools import product\n",
    "from itertools import combinations\n",
    "from functools import lru_cache\n",
    "from scipy.special import comb\n",
    "from numba import njit\n",
    "from bisect import bisect_right\n",
    "from bisect import bisect_left"
   ]
  },
  {
   "cell_type": "code",
   "execution_count": 19,
   "id": "fffe2c34-a7ae-429a-9b34-c7ff0580d9f0",
   "metadata": {},
   "outputs": [
    {
     "name": "stdin",
     "output_type": "stream",
     "text": [
      " 2\n"
     ]
    }
   ],
   "source": [
    "N = int(input())"
   ]
  },
  {
   "cell_type": "code",
   "execution_count": 20,
   "id": "4d7672ac-a5e7-4a4f-b149-8bae48d9118f",
   "metadata": {
    "tags": []
   },
   "outputs": [
    {
     "name": "stdin",
     "output_type": "stream",
     "text": [
      " 3 6 2\n",
      " 1 8 5\n"
     ]
    }
   ],
   "source": [
    "XYZn = [list(map(int, input().split())) for _ in range(N)]"
   ]
  },
  {
   "cell_type": "code",
   "execution_count": 21,
   "id": "683263d3-65ce-4d8a-9595-0d4c3e8bc0f7",
   "metadata": {
    "tags": []
   },
   "outputs": [],
   "source": [
    "dp = [[10**10] * (10**5+100) for _ in range(N+1)]\n",
    "dp[0][0] = 0\n",
    "total = 0\n",
    "for i, (X, Y, Z) in enumerate(XYZn, 1):\n",
    "    total += Z\n",
    "    for j in range(10**5+1):\n",
    "        if dp[i-1][j] == 10**10:\n",
    "            continue\n",
    "        df = max(0, ((Y+1) - X)//2)\n",
    "        dp[i][j] = dp[i-1][j]\n",
    "        if j + Z < 10**5+100:\n",
    "            dp[i][j+Z] = min(dp[i][j+Z], dp[i-1][j]+df)\n"
   ]
  },
  {
   "cell_type": "code",
   "execution_count": 29,
   "id": "9fbc9594-d8ff-4a9d-9563-f621e65bd640",
   "metadata": {
    "tags": []
   },
   "outputs": [
    {
     "name": "stdout",
     "output_type": "stream",
     "text": [
      "4\n"
     ]
    }
   ],
   "source": [
    "print(min(dp[-1][(total+1)//2:]))"
   ]
  },
  {
   "cell_type": "code",
   "execution_count": 27,
   "id": "337506ba-2108-4daa-b348-7daca0a88123",
   "metadata": {
    "tags": []
   },
   "outputs": [
    {
     "data": {
      "text/plain": [
       "[0,\n",
       " 10000000000,\n",
       " 2,\n",
       " 10000000000,\n",
       " 10000000000,\n",
       " 4,\n",
       " 10000000000,\n",
       " 6,\n",
       " 10000000000,\n",
       " 10000000000]"
      ]
     },
     "execution_count": 27,
     "metadata": {},
     "output_type": "execute_result"
    }
   ],
   "source": [
    "dp[2][:10]"
   ]
  },
  {
   "cell_type": "code",
   "execution_count": 24,
   "id": "58b0f33a-4b47-4238-aa72-32de39c18bb5",
   "metadata": {
    "tags": []
   },
   "outputs": [
    {
     "data": {
      "text/plain": [
       "7"
      ]
     },
     "execution_count": 24,
     "metadata": {},
     "output_type": "execute_result"
    }
   ],
   "source": [
    "total"
   ]
  },
  {
   "cell_type": "code",
   "execution_count": 28,
   "id": "e27ad9b1-67f6-4098-87e8-60e4662a85f1",
   "metadata": {
    "tags": []
   },
   "outputs": [
    {
     "data": {
      "text/plain": [
       "7"
      ]
     },
     "execution_count": 28,
     "metadata": {},
     "output_type": "execute_result"
    }
   ],
   "source": [
    "(total+1//2)"
   ]
  },
  {
   "cell_type": "code",
   "execution_count": null,
   "id": "adfbf104-9e45-4854-b990-727f3be80d7a",
   "metadata": {},
   "outputs": [],
   "source": []
  }
 ],
 "metadata": {
  "kernelspec": {
   "display_name": "Python 3 (ipykernel)",
   "language": "python",
   "name": "python3"
  },
  "language_info": {
   "codemirror_mode": {
    "name": "ipython",
    "version": 3
   },
   "file_extension": ".py",
   "mimetype": "text/x-python",
   "name": "python",
   "nbconvert_exporter": "python",
   "pygments_lexer": "ipython3",
   "version": "3.11.3"
  }
 },
 "nbformat": 4,
 "nbformat_minor": 5
}
