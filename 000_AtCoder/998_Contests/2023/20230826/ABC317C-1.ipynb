{
 "cells": [
  {
   "cell_type": "code",
   "execution_count": 1,
   "id": "2c46b554-29b0-4dd9-bfc8-f12d36154468",
   "metadata": {
    "tags": []
   },
   "outputs": [],
   "source": [
    "import sys\n",
    "import numpy as np\n",
    "import math\n",
    "import collections\n",
    "import copy\n",
    "import decimal\n",
    "import itertools\n",
    "import re\n",
    "import bisect\n",
    "import scipy\n",
    "import heapq\n",
    "from collections import deque \n",
    "from functools import reduce\n",
    "from itertools import product\n",
    "from itertools import combinations\n",
    "from functools import lru_cache\n",
    "from scipy.special import comb\n",
    "from numba import njit\n",
    "from bisect import bisect_right\n",
    "from bisect import bisect_left"
   ]
  },
  {
   "cell_type": "code",
   "execution_count": 69,
   "id": "8e3b490e-0db2-4e6c-a359-f6b88b036500",
   "metadata": {
    "tags": []
   },
   "outputs": [
    {
     "name": "stdin",
     "output_type": "stream",
     "text": [
      " 10 1\n"
     ]
    }
   ],
   "source": [
    "N, M = map(int, input().split())"
   ]
  },
  {
   "cell_type": "code",
   "execution_count": 70,
   "id": "e4e1d8ac-5404-408d-8286-152fd430c45a",
   "metadata": {
    "tags": []
   },
   "outputs": [
    {
     "name": "stdin",
     "output_type": "stream",
     "text": [
      " 5 9 1\n"
     ]
    }
   ],
   "source": [
    "ABCm = [list(map(int, input().split())) for _ in range(M)]"
   ]
  },
  {
   "cell_type": "code",
   "execution_count": 49,
   "id": "2b475b37-b91f-49c6-92b3-f46e42855ca9",
   "metadata": {
    "tags": []
   },
   "outputs": [],
   "source": [
    "graph = [[0] * (N+1) for _ in range(N+1)]\n",
    "for A, B, C in ABCm:\n",
    "    graph[A][B] = C\n",
    "    graph[B][A] = C\n"
   ]
  },
  {
   "cell_type": "code",
   "execution_count": 5,
   "id": "0beb2bc4-686a-48ed-bc82-bc1e40d2a4b0",
   "metadata": {
    "tags": []
   },
   "outputs": [],
   "source": [
    "# 解説を読んで実装　TLE"
   ]
  },
  {
   "cell_type": "code",
   "execution_count": 50,
   "id": "d5e23788-2f77-4646-ae10-467f2e513fbe",
   "metadata": {
    "tags": []
   },
   "outputs": [],
   "source": [
    "import sys\n",
    "sys.setrecursionlimit(10**6)\n",
    "def dfs(n, c):\n",
    "    global ans\n",
    "    visit[n] = True\n",
    "    ans = max(ans, c)\n",
    "    for ne in range(1, N+1):\n",
    "        if visit[ne] or graph[n][ne] == 0:\n",
    "            continue\n",
    "        dfs(ne, c + graph[n][ne])\n",
    "    visit[n] = False\n",
    "    return\n",
    "    "
   ]
  },
  {
   "cell_type": "code",
   "execution_count": 61,
   "id": "7466cc9f-2cf5-4c81-a8af-f1a9abe6f150",
   "metadata": {
    "tags": []
   },
   "outputs": [],
   "source": [
    "graph = [[] for _ in range(N+1)]\n",
    "for A, B, C in ABCm:\n",
    "    graph[A].append((B, C))\n",
    "    graph[B].append((A, C))\n"
   ]
  },
  {
   "cell_type": "code",
   "execution_count": 62,
   "id": "4f7475e1-22bf-4d65-940d-66076666d912",
   "metadata": {
    "tags": []
   },
   "outputs": [],
   "source": [
    "import sys\n",
    "sys.setrecursionlimit(10**6)\n",
    "def dfs(n, c):\n",
    "    global ans\n",
    "    visit[n] = True\n",
    "    ans = max(ans, c)\n",
    "    for ne, nc in graph[n]:\n",
    "        if visit[ne]:\n",
    "            continue\n",
    "        dfs(ne, c+nc)\n",
    "    visit[n] = False\n",
    "    return\n",
    "    "
   ]
  },
  {
   "cell_type": "code",
   "execution_count": 63,
   "id": "9b45f41e-ddfc-4802-befa-d459f1ad7c8a",
   "metadata": {
    "tags": []
   },
   "outputs": [],
   "source": [
    "ans = 0\n",
    "visit = [False] *(N+1)\n",
    "for i in range(1, N+1):\n",
    "    dfs(i, 0)"
   ]
  },
  {
   "cell_type": "code",
   "execution_count": 64,
   "id": "9f41565f-a453-4d8f-b394-f85d0f071f00",
   "metadata": {
    "tags": []
   },
   "outputs": [
    {
     "name": "stdout",
     "output_type": "stream",
     "text": [
      "1110\n"
     ]
    }
   ],
   "source": [
    "print(ans)"
   ]
  },
  {
   "cell_type": "code",
   "execution_count": 75,
   "id": "58b3834b-ff92-4106-988f-e7a1c8b1fa36",
   "metadata": {
    "tags": []
   },
   "outputs": [],
   "source": [
    "graph = [[] for _ in range(N+1)]\n",
    "cost = [[0] * (N+1) for _ in range(N+1)]\n",
    "for A, B, C in ABCm:\n",
    "    graph[A].append((B, C))\n",
    "    graph[B].append((A, C))\n",
    "    cost[A][B] = C\n",
    "    cost[B][A] = C\n"
   ]
  },
  {
   "cell_type": "code",
   "execution_count": 87,
   "id": "9f4b16df-8894-4199-9790-f638a8217b96",
   "metadata": {
    "tags": []
   },
   "outputs": [],
   "source": [
    "from collections import deque\n",
    "def bfs(n):\n",
    "    q = deque()\n",
    "    visit = [False] * (N+1)\n",
    "    ret = []\n",
    "    q.append(n)\n",
    "    ret.append(n)\n",
    "    visit[n] = True\n",
    "    while q:\n",
    "        p = q.popleft()\n",
    "        for ne, c in graph[p]:\n",
    "            if visit[ne]:\n",
    "                continue\n",
    "            visit[ne] = True\n",
    "            ret.append(ne)\n",
    "    return ret"
   ]
  },
  {
   "cell_type": "code",
   "execution_count": 95,
   "id": "55769695-d352-446a-b176-6900489b8068",
   "metadata": {
    "tags": []
   },
   "outputs": [],
   "source": [
    "from itertools import permutations\n",
    "for i in range(1, N+1):\n",
    "    if len(graph[i]) == 0:\n",
    "        continue\n",
    "    rt = bfs(i)\n",
    "    break\n",
    "\n",
    "ans = 0\n",
    "for P in permutations(rt, len(rt)):\n",
    "    c = 0\n",
    "    for i in range(len(rt)-1):\n",
    "        p1 = P[i]\n",
    "        p2 = P[i+1]\n",
    "        if cost[p1][p2] == 0:\n",
    "            break\n",
    "        c += cost[p1][p2]\n",
    "    else:\n",
    "        ans = max(ans, c)"
   ]
  },
  {
   "cell_type": "code",
   "execution_count": 96,
   "id": "cc471af1-d4d5-4e04-89c7-9581282d24c5",
   "metadata": {
    "tags": []
   },
   "outputs": [
    {
     "name": "stdout",
     "output_type": "stream",
     "text": [
      "1\n"
     ]
    }
   ],
   "source": [
    "print(ans)"
   ]
  },
  {
   "cell_type": "code",
   "execution_count": 97,
   "id": "2ad73dc5-cac6-4d3e-ac4b-d81631ad3f11",
   "metadata": {
    "tags": []
   },
   "outputs": [
    {
     "data": {
      "text/plain": [
       "[5, 9]"
      ]
     },
     "execution_count": 97,
     "metadata": {},
     "output_type": "execute_result"
    }
   ],
   "source": [
    "rt"
   ]
  },
  {
   "cell_type": "code",
   "execution_count": null,
   "id": "87501707-2ac9-4b64-abc9-bd2dd9176754",
   "metadata": {
    "tags": []
   },
   "outputs": [],
   "source": [
    "# サンプル合わない"
   ]
  },
  {
   "cell_type": "code",
   "execution_count": null,
   "id": "b2991024-ce35-48c4-bcc0-d357a12b5b89",
   "metadata": {
    "tags": []
   },
   "outputs": [],
   "source": [
    "import heapq\n",
    "def solve(s, e):\n",
    "    marked = [False] * (N+1)\n",
    "    marked[s] = True\n",
    "    cnt = 1\n",
    "    ret = 0\n",
    "    q = []\n",
    "    for ne, nc in graph[s]:\n",
    "        heapq.heappush(q, (-nc, ne))\n",
    "    while q:\n",
    "        if cnt >= e:\n",
    "            break\n",
    "        c, p = heapq.heappop(q)\n",
    "        if marked[p]:\n",
    "            continue\n",
    "        marked[p] = True\n",
    "        cnt += 1\n",
    "        ret -= c\n",
    "        for ne, nc in graph[p]:\n",
    "            if marked[ne]:\n",
    "                continue\n",
    "            heapq.heappush(q, (-nc, ne))\n",
    "    return ret"
   ]
  },
  {
   "cell_type": "code",
   "execution_count": null,
   "id": "adcfeaf9-5d5e-4d1a-9d76-a32de9bdc37e",
   "metadata": {
    "tags": []
   },
   "outputs": [],
   "source": [
    "from collections import deque\n",
    "def bfs(n):\n",
    "    q = deque()\n",
    "    visit = [False] * (N+1)\n",
    "    ret = []\n",
    "    q.append(n)\n",
    "    ret.append(n)\n",
    "    visit[n] = True\n",
    "    while q:\n",
    "        p = q.popleft()\n",
    "        for ne, c in graph[p]:\n",
    "            if visit[ne]:\n",
    "                continue\n",
    "            visit[ne] = True\n",
    "            ret.append(ne)\n",
    "    return ret"
   ]
  },
  {
   "cell_type": "code",
   "execution_count": null,
   "id": "358c5482-f301-4d38-9f5b-53f5019158cd",
   "metadata": {
    "tags": []
   },
   "outputs": [],
   "source": [
    "ans = 0\n",
    "marked = [False] * (N+1)\n",
    "for i in range(1, N+1):\n",
    "    rt = bfs(i)\n",
    "    for r in rt:\n",
    "        ans = max(ans, solve(r, len(rt)))\n"
   ]
  },
  {
   "cell_type": "code",
   "execution_count": null,
   "id": "f86333fc-b075-43e5-a68b-ab895b0286a7",
   "metadata": {
    "tags": []
   },
   "outputs": [],
   "source": [
    "print(ans)"
   ]
  },
  {
   "cell_type": "code",
   "execution_count": 43,
   "id": "9e739408-c0fb-4f30-afce-faeddc73bdd9",
   "metadata": {
    "tags": []
   },
   "outputs": [],
   "source": [
    "import heapq\n",
    "def solve(n):\n",
    "    visit = [False] *(N+1)\n",
    "    dist = [-1] * (N+1)\n",
    "    q = []\n",
    "    heapq.heappush(q, (0, n))\n",
    "    dist[n] = 0\n",
    "    ret = 0\n",
    "    while q:\n",
    "        c, p = heapq.heappop(q)\n",
    "        print(c, p)\n",
    "        if visit[p]:\n",
    "            continue\n",
    "        visit[n] = True\n",
    "        ret -= c\n",
    "        for np, nc in graph[p]:\n",
    "            if dist[np] == -1 or dist[np] < dist[n] - c:\n",
    "                dist[np] = dist[n] - c\n",
    "                heapq.heappush(q, (-nc, np))\n",
    "    return ret"
   ]
  },
  {
   "cell_type": "code",
   "execution_count": 7,
   "id": "d862e4cb-8e17-47b5-9b63-70e5872d0862",
   "metadata": {
    "tags": []
   },
   "outputs": [
    {
     "ename": "NameError",
     "evalue": "name 'solve' is not defined",
     "output_type": "error",
     "traceback": [
      "\u001b[1;31m---------------------------------------------------------------------------\u001b[0m",
      "\u001b[1;31mNameError\u001b[0m                                 Traceback (most recent call last)",
      "Cell \u001b[1;32mIn[7], line 3\u001b[0m\n\u001b[0;32m      1\u001b[0m ans \u001b[38;5;241m=\u001b[39m \u001b[38;5;241m0\u001b[39m\n\u001b[0;32m      2\u001b[0m \u001b[38;5;28;01mfor\u001b[39;00m i \u001b[38;5;129;01min\u001b[39;00m \u001b[38;5;28mrange\u001b[39m(\u001b[38;5;241m1\u001b[39m, N\u001b[38;5;241m+\u001b[39m\u001b[38;5;241m1\u001b[39m):\n\u001b[1;32m----> 3\u001b[0m     ans \u001b[38;5;241m=\u001b[39m \u001b[38;5;28mmax\u001b[39m(ans, solve(i))\n",
      "\u001b[1;31mNameError\u001b[0m: name 'solve' is not defined"
     ]
    }
   ],
   "source": [
    "ans = 0\n",
    "for i in range(1, N+1):\n",
    "    ans = max(ans, solve(i))"
   ]
  },
  {
   "cell_type": "code",
   "execution_count": 42,
   "id": "05be3c27-ca77-409a-9d5b-01158de64e98",
   "metadata": {
    "tags": []
   },
   "outputs": [
    {
     "name": "stdout",
     "output_type": "stream",
     "text": [
      "1141\n"
     ]
    }
   ],
   "source": [
    "print(ans)"
   ]
  },
  {
   "cell_type": "code",
   "execution_count": 16,
   "id": "65323e3c-9cc4-458e-a0de-9a36fc504633",
   "metadata": {
    "tags": []
   },
   "outputs": [],
   "source": [
    "from collections import deque\n",
    "from itertools import permutations\n",
    "def bfs(n):\n",
    "    q = deque()\n",
    "    ret = []\n",
    "    q.append(n)\n",
    "    ret.append(n)\n",
    "    visit[n] = True\n",
    "    while q:\n",
    "        p = q.popleft()\n",
    "        for ne, c in graph[p]:\n",
    "            if visit[ne]:\n",
    "                continue\n",
    "            visit[ne] = True\n",
    "            ret.append(ne)\n",
    "    return ret"
   ]
  },
  {
   "cell_type": "code",
   "execution_count": 22,
   "id": "f5b8d189-1367-4e7f-b5fd-6d30ddccaf61",
   "metadata": {
    "tags": []
   },
   "outputs": [],
   "source": [
    "def solve(rt):\n",
    "    ret = 0\n",
    "    for P in permutations(rt, len(rt)):\n",
    "        c = 0\n",
    "        for i in range(len(P)-1):\n",
    "            if P[i+1] not in graph[P[i]]:\n",
    "                break\n",
    "            _, c = graph[i]\n",
    "            c += c\n",
    "        else:\n",
    "            ret = max(ret, c)\n",
    "    return ret"
   ]
  },
  {
   "cell_type": "code",
   "execution_count": 23,
   "id": "52e31895-f9a6-47aa-bd8f-14eb60452f59",
   "metadata": {
    "tags": []
   },
   "outputs": [
    {
     "name": "stdout",
     "output_type": "stream",
     "text": [
      "[1, 2, 3, 4]\n"
     ]
    }
   ],
   "source": [
    "visit = [False] *(N+1)\n",
    "ans = 0\n",
    "for i in range(1, N+1):\n",
    "    if visit[i]:\n",
    "        continue\n",
    "    rt = bfs(i)\n",
    "    print(rt)\n",
    "    ans = max(ans, solve(rt))"
   ]
  },
  {
   "cell_type": "code",
   "execution_count": 24,
   "id": "7f50df86-92e8-41bb-9bd8-d38b8ef9f1d5",
   "metadata": {
    "tags": []
   },
   "outputs": [
    {
     "name": "stdout",
     "output_type": "stream",
     "text": [
      "0\n"
     ]
    }
   ],
   "source": [
    "print(ans)"
   ]
  },
  {
   "cell_type": "code",
   "execution_count": 29,
   "id": "9ad75f45-201b-4dff-8458-c0c822353360",
   "metadata": {
    "tags": []
   },
   "outputs": [
    {
     "data": {
      "text/plain": [
       "[(2, 1), (3, 100), (4, 1000)]"
      ]
     },
     "execution_count": 29,
     "metadata": {},
     "output_type": "execute_result"
    }
   ],
   "source": [
    "graph[1]"
   ]
  },
  {
   "cell_type": "code",
   "execution_count": 25,
   "id": "3a5fc3b3-8775-4d35-8f17-b0d880a6f038",
   "metadata": {
    "tags": []
   },
   "outputs": [
    {
     "data": {
      "text/plain": [
       "0"
      ]
     },
     "execution_count": 25,
     "metadata": {},
     "output_type": "execute_result"
    }
   ],
   "source": [
    "solve(rt)"
   ]
  },
  {
   "cell_type": "code",
   "execution_count": null,
   "id": "f0500145-fa72-4dc9-8e9f-242069125602",
   "metadata": {},
   "outputs": [],
   "source": []
  }
 ],
 "metadata": {
  "kernelspec": {
   "display_name": "Python 3 (ipykernel)",
   "language": "python",
   "name": "python3"
  },
  "language_info": {
   "codemirror_mode": {
    "name": "ipython",
    "version": 3
   },
   "file_extension": ".py",
   "mimetype": "text/x-python",
   "name": "python",
   "nbconvert_exporter": "python",
   "pygments_lexer": "ipython3",
   "version": "3.11.3"
  }
 },
 "nbformat": 4,
 "nbformat_minor": 5
}
