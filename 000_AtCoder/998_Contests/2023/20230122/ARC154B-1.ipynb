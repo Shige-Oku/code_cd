{
 "cells": [
  {
   "cell_type": "code",
   "execution_count": 29,
   "id": "a2e2e42c-8eb8-4f5b-9e46-3e5a6fd1f65a",
   "metadata": {},
   "outputs": [
    {
     "name": "stdin",
     "output_type": "stream",
     "text": [
      " 4\n"
     ]
    }
   ],
   "source": [
    "N = int(input())"
   ]
  },
  {
   "cell_type": "code",
   "execution_count": 38,
   "id": "de37a87c-b4f9-49ca-ab9f-50b21eb499b7",
   "metadata": {},
   "outputs": [
    {
     "name": "stdin",
     "output_type": "stream",
     "text": [
      " aaba\n"
     ]
    }
   ],
   "source": [
    "S = input()"
   ]
  },
  {
   "cell_type": "code",
   "execution_count": 46,
   "id": "e0b36e1f-fdd6-4be6-8950-2555df39a13f",
   "metadata": {},
   "outputs": [
    {
     "name": "stdin",
     "output_type": "stream",
     "text": [
      " baaa\n"
     ]
    }
   ],
   "source": [
    "T = input()"
   ]
  },
  {
   "cell_type": "code",
   "execution_count": 47,
   "id": "fe188e88-cb28-4b4c-8d39-f3fffd147d49",
   "metadata": {},
   "outputs": [],
   "source": [
    "def solve():\n",
    "    Ss = sorted(S)\n",
    "    Ts = sorted(T)\n",
    "    if Ss != Ts:\n",
    "        return -1\n",
    "    ret = 0\n",
    "    for si in range(N):\n",
    "        for ti in range(N-si):\n",
    "            if S[ti+si] != T[ti]:\n",
    "                break\n",
    "        else:\n",
    "            ret = max(ret, N-si)\n",
    "    return ret"
   ]
  },
  {
   "cell_type": "code",
   "execution_count": 48,
   "id": "281e4e80-8792-4fd0-959c-151ff10d903d",
   "metadata": {},
   "outputs": [
    {
     "name": "stdout",
     "output_type": "stream",
     "text": [
      "2\n"
     ]
    }
   ],
   "source": [
    "ret = solve()\n",
    "if ret == -1:\n",
    "    print(ret)\n",
    "else:\n",
    "    print(N-ret)\n"
   ]
  },
  {
   "cell_type": "code",
   "execution_count": 45,
   "id": "848cda18-283a-41ea-80e8-5fbd4a2b5dee",
   "metadata": {},
   "outputs": [
    {
     "ename": "IndentationError",
     "evalue": "unexpected indent (<ipython-input-45-b96b33eab677>, line 9)",
     "output_type": "error",
     "traceback": [
      "\u001b[1;36m  File \u001b[1;32m\"<ipython-input-45-b96b33eab677>\"\u001b[1;36m, line \u001b[1;32m9\u001b[0m\n\u001b[1;33m    ret += 1\u001b[0m\n\u001b[1;37m    ^\u001b[0m\n\u001b[1;31mIndentationError\u001b[0m\u001b[1;31m:\u001b[0m unexpected indent\n"
     ]
    }
   ],
   "source": [
    "def solve():\n",
    "    Ss = sorted(S)\n",
    "    Ts = sorted(T)\n",
    "    if Ss != Ts:\n",
    "        return -1\n",
    "    ret = 0\n",
    "    for s, t in zip(S, T):\n",
    "        if s != t:c\n",
    "            ret += 1\n",
    "    return ret"
   ]
  },
  {
   "cell_type": "code",
   "execution_count": 14,
   "id": "fd26b6a2-af3e-4538-8f77-5013d98f27bd",
   "metadata": {},
   "outputs": [
    {
     "name": "stdout",
     "output_type": "stream",
     "text": [
      "2\n"
     ]
    }
   ],
   "source": [
    "print(solve())"
   ]
  },
  {
   "cell_type": "code",
   "execution_count": 7,
   "id": "2056d01a-dafe-47f3-b993-56e1afd4c2fb",
   "metadata": {},
   "outputs": [
    {
     "data": {
      "text/plain": [
       "True"
      ]
     },
     "execution_count": 7,
     "metadata": {},
     "output_type": "execute_result"
    }
   ],
   "source": [
    "sorted(S) == sorted(T)"
   ]
  },
  {
   "cell_type": "code",
   "execution_count": null,
   "id": "e466171e-c654-40cf-892b-9a75d0a0a996",
   "metadata": {},
   "outputs": [],
   "source": []
  }
 ],
 "metadata": {
  "kernelspec": {
   "display_name": "Python 3",
   "language": "python",
   "name": "python3"
  },
  "language_info": {
   "codemirror_mode": {
    "name": "ipython",
    "version": 3
   },
   "file_extension": ".py",
   "mimetype": "text/x-python",
   "name": "python",
   "nbconvert_exporter": "python",
   "pygments_lexer": "ipython3",
   "version": "3.6.13"
  }
 },
 "nbformat": 4,
 "nbformat_minor": 5
}
