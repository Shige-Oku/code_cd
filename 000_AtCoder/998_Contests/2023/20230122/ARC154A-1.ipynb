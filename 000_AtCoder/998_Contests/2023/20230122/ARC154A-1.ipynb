{
 "cells": [
  {
   "cell_type": "code",
   "execution_count": 16,
   "id": "d9631f02-4fc0-4d9f-9206-887b1dfbe18e",
   "metadata": {},
   "outputs": [
    {
     "name": "stdin",
     "output_type": "stream",
     "text": [
      " 8\n"
     ]
    }
   ],
   "source": [
    "N = int(input())"
   ]
  },
  {
   "cell_type": "code",
   "execution_count": 17,
   "id": "478e1f14-73f5-4edb-81a5-65719990b0ce",
   "metadata": {},
   "outputs": [
    {
     "name": "stdin",
     "output_type": "stream",
     "text": [
      " 20220122\n"
     ]
    }
   ],
   "source": [
    "A = input()"
   ]
  },
  {
   "cell_type": "code",
   "execution_count": 18,
   "id": "51f1c545-b550-4807-8cd7-07a3bd02a2ef",
   "metadata": {},
   "outputs": [
    {
     "name": "stdin",
     "output_type": "stream",
     "text": [
      " 21002300\n"
     ]
    }
   ],
   "source": [
    "B = input()"
   ]
  },
  {
   "cell_type": "code",
   "execution_count": 21,
   "id": "3ae2f67e-6fe7-4e5e-b270-74aa25c74c0a",
   "metadata": {},
   "outputs": [],
   "source": [
    "a = list(A)\n",
    "b = list(B)\n",
    "for i in range(N):\n",
    "    if a[0] > b[0]:\n",
    "        if a[i] < b[i]:\n",
    "            a[i], b[i] = b[i], a[i]\n",
    "    else:\n",
    "        if a[i] > b[i]:\n",
    "            a[i], b[i] = b[i], a[i]\n",
    "        "
   ]
  },
  {
   "cell_type": "code",
   "execution_count": 22,
   "id": "329279aa-72ed-4c78-b173-2ab4e9310499",
   "metadata": {},
   "outputs": [
    {
     "name": "stdout",
     "output_type": "stream",
     "text": [
      "54558365\n"
     ]
    }
   ],
   "source": [
    "print(int(''.join(a)) * int(''.join(b)) % 998244353)"
   ]
  },
  {
   "cell_type": "code",
   "execution_count": 19,
   "id": "7f6ea557-2dda-4d51-8ebf-b34d76646820",
   "metadata": {},
   "outputs": [],
   "source": [
    "from itertools import product\n",
    "ans = 10**20\n",
    "for P in product([0, 1], repeat=N):\n",
    "    a = list(A)\n",
    "    b = list(B)\n",
    "    for i, p in enumerate(P):\n",
    "        if p == 1:\n",
    "            a[i], b[i] = b[i], a[i]\n",
    "    na = int(''.join(a))\n",
    "    nb = int(''.join(b))\n",
    "    ans = min(ans, na*nb)"
   ]
  },
  {
   "cell_type": "code",
   "execution_count": 20,
   "id": "0fd6a721-f640-419d-99cf-ba9ad5288a4e",
   "metadata": {},
   "outputs": [
    {
     "name": "stdout",
     "output_type": "stream",
     "text": [
      "54558365\n"
     ]
    }
   ],
   "source": [
    "print(ans%998244353)"
   ]
  },
  {
   "cell_type": "code",
   "execution_count": 10,
   "id": "8c828835-9348-4e75-b548-6f3d445e8123",
   "metadata": {},
   "outputs": [
    {
     "data": {
      "text/plain": [
       "['1', '3']"
      ]
     },
     "execution_count": 10,
     "metadata": {},
     "output_type": "execute_result"
    }
   ],
   "source": [
    "list(A)"
   ]
  },
  {
   "cell_type": "code",
   "execution_count": null,
   "id": "df6fc7bd-d7e8-4d6e-ae95-924128d3d209",
   "metadata": {},
   "outputs": [],
   "source": []
  }
 ],
 "metadata": {
  "kernelspec": {
   "display_name": "Python 3",
   "language": "python",
   "name": "python3"
  },
  "language_info": {
   "codemirror_mode": {
    "name": "ipython",
    "version": 3
   },
   "file_extension": ".py",
   "mimetype": "text/x-python",
   "name": "python",
   "nbconvert_exporter": "python",
   "pygments_lexer": "ipython3",
   "version": "3.6.13"
  }
 },
 "nbformat": 4,
 "nbformat_minor": 5
}
