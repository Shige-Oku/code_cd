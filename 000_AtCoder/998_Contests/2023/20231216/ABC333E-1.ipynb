{
 "cells": [
  {
   "cell_type": "code",
   "execution_count": 1,
   "id": "5eb21d1b-65c7-419b-8120-1889264f5676",
   "metadata": {
    "tags": []
   },
   "outputs": [],
   "source": [
    "import sys\n",
    "import numpy as np\n",
    "import math\n",
    "import collections\n",
    "import copy\n",
    "import decimal\n",
    "import itertools\n",
    "import re\n",
    "import bisect\n",
    "import scipy\n",
    "import heapq\n",
    "from collections import deque \n",
    "from functools import reduce\n",
    "from itertools import product\n",
    "from itertools import combinations\n",
    "from functools import lru_cache\n",
    "from scipy.special import comb\n",
    "from numba import njit\n",
    "from bisect import bisect_right\n",
    "from bisect import bisect_left"
   ]
  },
  {
   "cell_type": "code",
   "execution_count": 1,
   "id": "d429eb02-fe4d-41b9-8e16-b2cb3abcc77a",
   "metadata": {
    "tags": []
   },
   "outputs": [
    {
     "name": "stdin",
     "output_type": "stream",
     "text": [
      " 13\n"
     ]
    }
   ],
   "source": [
    "N = int(input())"
   ]
  },
  {
   "cell_type": "code",
   "execution_count": 2,
   "id": "152b4126-2b7b-4a22-9360-ceeef6aceb51",
   "metadata": {
    "tags": []
   },
   "outputs": [
    {
     "name": "stdin",
     "output_type": "stream",
     "text": [
      " 1 2\n",
      " 1 3\n",
      " 1 1\n",
      " 1 3\n",
      " 1 2\n",
      " 2 3\n",
      " 1 3\n",
      " 1 3\n",
      " 2 3\n",
      " 1 3\n",
      " 2 2\n",
      " 2 3\n",
      " 2 1\n"
     ]
    }
   ],
   "source": [
    "TXn = [list(map(int, input().split())) for _ in range(N)]"
   ]
  },
  {
   "cell_type": "code",
   "execution_count": null,
   "id": "a7690817-1a77-4fb2-b3f2-f08a1fd7e848",
   "metadata": {},
   "outputs": [],
   "source": [
    "# コンテスト終了後"
   ]
  },
  {
   "cell_type": "code",
   "execution_count": 17,
   "id": "40ff9823-14d2-4278-af48-885baae67aa2",
   "metadata": {
    "tags": []
   },
   "outputs": [],
   "source": [
    "from collections import deque\n",
    "def solve():\n",
    "    global p\n",
    "    po = [deque() for _ in range(N+1)]\n",
    "    for i, (T, X) in enumerate(TXn, 1):\n",
    "        if T == 1:\n",
    "            po[X].append(i)\n",
    "            p[i] = 0\n",
    "        else:\n",
    "            if len(po[X]) == 0:\n",
    "                return False\n",
    "            pi = po[X].pop()\n",
    "            p[pi] = 1\n",
    "    return True"
   ]
  },
  {
   "cell_type": "code",
   "execution_count": 27,
   "id": "07da2588-f72c-4c34-8936-270bd6909c74",
   "metadata": {
    "tags": []
   },
   "outputs": [
    {
     "name": "stdout",
     "output_type": "stream",
     "text": [
      "3\n",
      "0 0 1 1 1 0 1 1 "
     ]
    }
   ],
   "source": [
    "from itertools import accumulate\n",
    "p = [-1] * (N+1)\n",
    "if not solve():\n",
    "    print(-1)\n",
    "else:\n",
    "    pn = list(accumulate(p[1:]))\n",
    "    print(max(pn))\n",
    "    for pp in p[1:]:\n",
    "        if pp == -1:\n",
    "            continue\n",
    "        print(pp, end=' ')"
   ]
  },
  {
   "cell_type": "code",
   "execution_count": 19,
   "id": "a7b3b044-4f48-4363-a989-bcbd14bc9bbe",
   "metadata": {
    "tags": []
   },
   "outputs": [
    {
     "data": {
      "text/plain": [
       "[-1, 0, 0, 1, 1, 1, -1, 0, 1, -1, 1, -1, -1, -1]"
      ]
     },
     "execution_count": 19,
     "metadata": {},
     "output_type": "execute_result"
    }
   ],
   "source": [
    "p"
   ]
  },
  {
   "cell_type": "code",
   "execution_count": 26,
   "id": "3c18ff84-16fe-4d31-a970-b06e2a5569e3",
   "metadata": {
    "tags": []
   },
   "outputs": [
    {
     "data": {
      "text/plain": [
       "[0, 0, 1, 2, 3, 2, 2, 3, 2, 3, 2, 1, 0]"
      ]
     },
     "execution_count": 26,
     "metadata": {},
     "output_type": "execute_result"
    }
   ],
   "source": [
    "list(accumulate(p[1:]))"
   ]
  },
  {
   "cell_type": "code",
   "execution_count": 29,
   "id": "a4237cf5-da2c-4e01-b710-9525e17451da",
   "metadata": {
    "tags": []
   },
   "outputs": [],
   "source": [
    "ma = 0\n",
    "en = [0] * (N+1)\n",
    "e = 0\n",
    "p = []\n",
    "for T, X in TXn[::-1]:\n",
    "    if T == 1:\n",
    "        if en[X] == 0:\n",
    "            p.append(0)\n",
    "            continue\n",
    "        e -= 1\n",
    "        en[X] -= 1\n",
    "        p.append(1)\n",
    "    else:\n",
    "        e += 1\n",
    "        en[X] += 1\n",
    "        ma = max(ma, e)"
   ]
  },
  {
   "cell_type": "code",
   "execution_count": 32,
   "id": "db646b25-2db0-4c2b-8c00-41d9784087b7",
   "metadata": {
    "tags": []
   },
   "outputs": [
    {
     "name": "stdout",
     "output_type": "stream",
     "text": [
      "3\n",
      "0 0 1 1 1 0 1 1\n"
     ]
    }
   ],
   "source": [
    "if e > 0:\n",
    "    print(-1)\n",
    "else :\n",
    "    print(ma)\n",
    "    print(*(p[::-1]))"
   ]
  },
  {
   "cell_type": "code",
   "execution_count": 31,
   "id": "c1776278-6b8b-449c-ba67-3f91f290abf8",
   "metadata": {
    "tags": []
   },
   "outputs": [
    {
     "data": {
      "text/plain": [
       "[1, 1, 0, 1, 1, 1, 0, 0]"
      ]
     },
     "execution_count": 31,
     "metadata": {},
     "output_type": "execute_result"
    }
   ],
   "source": [
    "p"
   ]
  },
  {
   "cell_type": "code",
   "execution_count": 5,
   "id": "89aff0a0-2a3a-452c-a3ef-e2926494280c",
   "metadata": {
    "tags": []
   },
   "outputs": [
    {
     "ename": "IndentationError",
     "evalue": "expected an indented block after 'else' statement on line 9 (2166218868.py, line 10)",
     "output_type": "error",
     "traceback": [
      "\u001b[1;36m  Cell \u001b[1;32mIn[5], line 10\u001b[1;36m\u001b[0m\n\u001b[1;33m    return ret\u001b[0m\n\u001b[1;37m    ^\u001b[0m\n\u001b[1;31mIndentationError\u001b[0m\u001b[1;31m:\u001b[0m expected an indented block after 'else' statement on line 9\n"
     ]
    }
   ],
   "source": [
    "def solve():\n",
    "    ret = 0\n",
    "    pm = 0\n",
    "    for T, X in TXn:\n",
    "        if T == 1:\n",
    "            p[X] += 1\n",
    "            pm += 1\n",
    "        else:\n",
    "            if p[X] <= 0:\n",
    "                return -1\n",
    "            p[X] -= 1\n",
    "    return ret"
   ]
  },
  {
   "cell_type": "code",
   "execution_count": null,
   "id": "38da2d6e-98c1-412d-8150-81fac8c3a177",
   "metadata": {},
   "outputs": [],
   "source": [
    "p = [0] * (N+1)\n",
    "r = solve()\n",
    "if r == -1:\n",
    "    print(-1)\n",
    "else:\n",
    "print(solve())"
   ]
  }
 ],
 "metadata": {
  "kernelspec": {
   "display_name": "Python 3 (ipykernel)",
   "language": "python",
   "name": "python3"
  },
  "language_info": {
   "codemirror_mode": {
    "name": "ipython",
    "version": 3
   },
   "file_extension": ".py",
   "mimetype": "text/x-python",
   "name": "python",
   "nbconvert_exporter": "python",
   "pygments_lexer": "ipython3",
   "version": "3.11.3"
  }
 },
 "nbformat": 4,
 "nbformat_minor": 5
}
