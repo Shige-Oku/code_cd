{
 "cells": [
  {
   "cell_type": "code",
   "execution_count": 1,
   "id": "a7e15b64-8fa7-40a3-a4b4-81738df18a94",
   "metadata": {
    "tags": []
   },
   "outputs": [],
   "source": [
    "import sys\n",
    "import numpy as np\n",
    "import math\n",
    "import collections\n",
    "import copy\n",
    "import decimal\n",
    "import itertools\n",
    "import re\n",
    "import bisect\n",
    "import scipy\n",
    "import heapq\n",
    "from collections import deque \n",
    "from functools import reduce\n",
    "from itertools import product\n",
    "from itertools import combinations\n",
    "from functools import lru_cache\n",
    "from scipy.special import comb\n",
    "from numba import njit\n",
    "from bisect import bisect_right\n",
    "from bisect import bisect_left"
   ]
  },
  {
   "cell_type": "code",
   "execution_count": 19,
   "id": "4b3947a8-8652-452c-a2aa-5234f6a19936",
   "metadata": {
    "tags": []
   },
   "outputs": [
    {
     "name": "stdin",
     "output_type": "stream",
     "text": [
      " 333\n"
     ]
    }
   ],
   "source": [
    "N = int(input())"
   ]
  },
  {
   "cell_type": "code",
   "execution_count": 20,
   "id": "8809b943-143c-4c68-b1e5-785d300512d1",
   "metadata": {
    "tags": []
   },
   "outputs": [],
   "source": [
    "num = []\n",
    "i = 1\n",
    "for _ in range(1, 13):\n",
    "    num.append(i)\n",
    "    num.append(i)\n",
    "    num.append(i) \n",
    "    i *= 10\n",
    "    i += 1"
   ]
  },
  {
   "cell_type": "code",
   "execution_count": 21,
   "id": "cbb152e4-2db8-4a33-891f-5e73bc5b41cf",
   "metadata": {
    "tags": []
   },
   "outputs": [],
   "source": [
    "def solve():\n",
    "    n = set()\n",
    "    for i in range(len(num)-2):\n",
    "        n1 = num[i]\n",
    "        for j in range(i+1, len(num)-1):\n",
    "            n2 = num[j]\n",
    "            for k in range(j+1, len(num)):\n",
    "                n3 = num[k]\n",
    "                n.add(n1+n2+n3)\n",
    "    n_s = sorted(list(n))\n",
    "    return n_s[N-1]\n"
   ]
  },
  {
   "cell_type": "code",
   "execution_count": 22,
   "id": "90ec04a6-d42c-4b00-ab2a-8a6cc69ed331",
   "metadata": {
    "tags": []
   },
   "outputs": [
    {
     "name": "stdout",
     "output_type": "stream",
     "text": [
      "112222222233\n"
     ]
    }
   ],
   "source": [
    "print(solve())"
   ]
  },
  {
   "cell_type": "code",
   "execution_count": 23,
   "id": "2c45d68c-cb0a-4b05-9a56-9f725169bb6f",
   "metadata": {
    "tags": []
   },
   "outputs": [
    {
     "data": {
      "text/plain": [
       "36"
      ]
     },
     "execution_count": 23,
     "metadata": {},
     "output_type": "execute_result"
    }
   ],
   "source": [
    "len(num)"
   ]
  },
  {
   "cell_type": "code",
   "execution_count": null,
   "id": "86e0ba96-2591-4837-b05f-ac354698f0ca",
   "metadata": {},
   "outputs": [],
   "source": [
    "#  コンテスト終了後"
   ]
  },
  {
   "cell_type": "code",
   "execution_count": 24,
   "id": "2979f9cc-6891-41cb-aec5-bb79157d72ce",
   "metadata": {
    "tags": []
   },
   "outputs": [],
   "source": [
    "num = []\n",
    "n = 1\n",
    "for _ in range(12):\n",
    "    num.append(n)\n",
    "    n *= 10\n",
    "    n += 1"
   ]
  },
  {
   "cell_type": "code",
   "execution_count": 25,
   "id": "65a23ffb-a5d0-4bc6-b7b6-26c11c6550ab",
   "metadata": {
    "tags": []
   },
   "outputs": [
    {
     "name": "stdout",
     "output_type": "stream",
     "text": [
      "112222222233\n"
     ]
    }
   ],
   "source": [
    "w = set()\n",
    "for i in range(len(num)):\n",
    "    for j in range(len(num)):\n",
    "        for k in range(len(num)):\n",
    "            n1 = num[i]\n",
    "            n2 = num[j]\n",
    "            n3 = num[k]\n",
    "            w.add(n1 + n2 + n3)\n",
    "w_s = sorted(list(w))\n",
    "print(w_s[N-1])"
   ]
  },
  {
   "cell_type": "code",
   "execution_count": 18,
   "id": "02caeccb-d105-47a6-a1a1-bc317291d556",
   "metadata": {
    "tags": []
   },
   "outputs": [
    {
     "data": {
      "text/plain": [
       "[1,\n",
       " 11,\n",
       " 111,\n",
       " 1111,\n",
       " 11111,\n",
       " 111111,\n",
       " 1111111,\n",
       " 11111111,\n",
       " 111111111,\n",
       " 1111111111,\n",
       " 11111111111,\n",
       " 111111111111]"
      ]
     },
     "execution_count": 18,
     "metadata": {},
     "output_type": "execute_result"
    }
   ],
   "source": [
    "num"
   ]
  },
  {
   "cell_type": "code",
   "execution_count": 46,
   "id": "deb84c3c-d663-4ab1-a604-66b611c3cd64",
   "metadata": {
    "tags": []
   },
   "outputs": [
    {
     "data": {
      "text/plain": [
       "True"
      ]
     },
     "execution_count": 46,
     "metadata": {},
     "output_type": "execute_result"
    }
   ],
   "source": [
    "112222222233 < 4074444670579"
   ]
  },
  {
   "cell_type": "code",
   "execution_count": 4,
   "id": "b72541ae-fce7-4e0a-b223-beca4e305d11",
   "metadata": {
    "tags": []
   },
   "outputs": [],
   "source": [
    "# num"
   ]
  },
  {
   "cell_type": "code",
   "execution_count": null,
   "id": "55de2355-0fa7-4cb2-989d-dc24cbee0cca",
   "metadata": {},
   "outputs": [],
   "source": []
  }
 ],
 "metadata": {
  "kernelspec": {
   "display_name": "Python 3 (ipykernel)",
   "language": "python",
   "name": "python3"
  },
  "language_info": {
   "codemirror_mode": {
    "name": "ipython",
    "version": 3
   },
   "file_extension": ".py",
   "mimetype": "text/x-python",
   "name": "python",
   "nbconvert_exporter": "python",
   "pygments_lexer": "ipython3",
   "version": "3.11.3"
  }
 },
 "nbformat": 4,
 "nbformat_minor": 5
}
