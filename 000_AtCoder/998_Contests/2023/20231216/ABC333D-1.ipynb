{
 "cells": [
  {
   "cell_type": "code",
   "execution_count": 1,
   "id": "82139ebc-77bb-4475-af72-e6e9fbbedbde",
   "metadata": {
    "tags": []
   },
   "outputs": [],
   "source": [
    "import sys\n",
    "import numpy as np\n",
    "import math\n",
    "import collections\n",
    "import copy\n",
    "import decimal\n",
    "import itertools\n",
    "import re\n",
    "import bisect\n",
    "import scipy\n",
    "import heapq\n",
    "from collections import deque \n",
    "from functools import reduce\n",
    "from itertools import product\n",
    "from itertools import combinations\n",
    "from functools import lru_cache\n",
    "from scipy.special import comb\n",
    "from numba import njit\n",
    "from bisect import bisect_right\n",
    "from bisect import bisect_left"
   ]
  },
  {
   "cell_type": "code",
   "execution_count": 1,
   "id": "b8e7e26a-9c9c-44a0-8c9f-2317bd908538",
   "metadata": {
    "tags": []
   },
   "outputs": [
    {
     "name": "stdin",
     "output_type": "stream",
     "text": [
      " 9\n"
     ]
    }
   ],
   "source": [
    "N = int(input())"
   ]
  },
  {
   "cell_type": "code",
   "execution_count": 2,
   "id": "fd40241f-be9d-459e-9427-299f2d9b97b7",
   "metadata": {
    "tags": []
   },
   "outputs": [
    {
     "name": "stdin",
     "output_type": "stream",
     "text": [
      " 1 2\n",
      " 2 3\n",
      " 2 4\n",
      " 2 5\n",
      " 1 6\n",
      " 6 7\n",
      " 7 8\n",
      " 7 9\n"
     ]
    }
   ],
   "source": [
    "UVn = [list(map(int, input().split())) for _ in range(N-1)]"
   ]
  },
  {
   "cell_type": "code",
   "execution_count": 3,
   "id": "7370e4ea-733f-49e9-a8dd-dc199739b075",
   "metadata": {
    "tags": []
   },
   "outputs": [],
   "source": [
    "graph = [[] for _ in range(N+1)]\n",
    "for U, V in UVn:\n",
    "    graph[U].append(V)\n",
    "    graph[V].append(U)"
   ]
  },
  {
   "cell_type": "code",
   "execution_count": 4,
   "id": "38c4bd35-d9c3-4540-9a5e-a41b4f3e5a23",
   "metadata": {
    "tags": []
   },
   "outputs": [],
   "source": [
    "from collections import deque\n",
    "def bfs():\n",
    "    if len(graph[1]) == 1:\n",
    "        return 1\n",
    "    k = []\n",
    "    dis = [-1] * (N+1)\n",
    "    for t in graph[1]:\n",
    "        q = deque()\n",
    "        q.append(t)\n",
    "        dis[t] = 0\n",
    "        cnt = 1\n",
    "        while q:\n",
    "            p = q.popleft()\n",
    "            for ne in graph[p]:\n",
    "                if ne == 1:\n",
    "                    continue\n",
    "                if dis[ne] != -1:\n",
    "                    continue\n",
    "                dis[ne] = dis[p] + 1\n",
    "                q.append(ne)\n",
    "                cnt += 1\n",
    "        k.append(cnt)\n",
    "    \n",
    "    k_s = sorted(k)\n",
    "    \n",
    "    return sum(k_s[:-1])+1 "
   ]
  },
  {
   "cell_type": "code",
   "execution_count": 5,
   "id": "c6342e55-8689-4375-a4d3-d2b655c89299",
   "metadata": {
    "tags": []
   },
   "outputs": [
    {
     "name": "stdout",
     "output_type": "stream",
     "text": [
      "5\n"
     ]
    }
   ],
   "source": [
    "print(bfs())"
   ]
  },
  {
   "cell_type": "code",
   "execution_count": null,
   "id": "3d9103ed-d6da-4af1-a7f1-df9cb945be8d",
   "metadata": {},
   "outputs": [],
   "source": [
    "# コンテスト終了後"
   ]
  },
  {
   "cell_type": "code",
   "execution_count": 7,
   "id": "cf9e6ff6-5cf3-44b5-a3f4-03e601139055",
   "metadata": {},
   "outputs": [],
   "source": [
    "from collections import defaultdict\n",
    "import sys\n",
    "sys.setrecursionlimit(10**7)\n",
    "class UnionFind():\n",
    "    # イニシャライザ\n",
    "    def __init__(self, n):\n",
    "        self.n = n  # 頂点の数\n",
    "        self.parents = [-1] * n  # 親の頂点。根は -1\n",
    "        self.size = [1] * n  # 各頂点の所属する木の頂点数\n",
    "        sys.setrecursionlimit(10**7)\n",
    "        \n",
    "    # 根を返す\n",
    "    def root(self, x):\n",
    "        if self.parents[x] < 0: # 根なのでそのまま返す\n",
    "            return x\n",
    "        else:\n",
    "            self.parents[x] = self.root(self.parents[x])  # 経路圧縮\n",
    "            return self.parents[x]\n",
    "        \n",
    "    # x, y が同じ木に属するか\n",
    "    def issame(self, x, y):\n",
    "        return self.root(x) == self.root(y)\n",
    "    \n",
    "    # x y を併合する    \n",
    "    def unite(self, x, y):\n",
    "        x = self.root(x)\n",
    "        y = self.root(y)\n",
    "        \n",
    "        # 元々同じ木に所属するので、何もせずリターン\n",
    "        if x == y:\n",
    "            return False\n",
    "        \n",
    "        # 大きいほうにまとめる。 y を x にまとめるようにスワップ\n",
    "        if self.parents[x] < self.parents[y]:\n",
    "            x, y = y, x\n",
    "        # 小さいほうの親を大きいほうを親に\n",
    "        self.parents[y] = x\n",
    "        # 大きいほうの頂点に小さいほうの数を加算\n",
    "        self.size[x] += self.size[y]\n",
    "        return True\n",
    "    \n",
    "    # x の所属する頂点数を返す\n",
    "    def getsize(self, x):\n",
    "        return self.size[self.root(x)]\n",
    "\n",
    "    # x の所属する頂点の一覧を返す\n",
    "    def getmembers(self, x):\n",
    "        root = self.root(x)\n",
    "        return [i for i in range(self.n) if self.root(i) == root]    "
   ]
  },
  {
   "cell_type": "code",
   "execution_count": 8,
   "id": "2cd4dde9-02eb-45e9-b1b6-f81ae7a17bb6",
   "metadata": {},
   "outputs": [],
   "source": [
    "uf = UnionFind(N+1)\n",
    "for U, V in UVn:\n",
    "    if U == 1 or V == 1:\n",
    "        continue\n",
    "    uf.unite(U, V)"
   ]
  },
  {
   "cell_type": "code",
   "execution_count": 14,
   "id": "8e9be8e0-e45d-4600-a6fe-84f1dcd7685f",
   "metadata": {
    "tags": []
   },
   "outputs": [],
   "source": [
    "dis = []\n",
    "p = set()\n",
    "for n in graph[1]:\n",
    "    if uf.root(n) in p:\n",
    "        continue\n",
    "    p.add(uf.root(n))\n",
    "    dis.append(uf.getsize(n))\n"
   ]
  },
  {
   "cell_type": "code",
   "execution_count": 15,
   "id": "cfdeea68-b3e8-443f-a114-b48d567a85bb",
   "metadata": {
    "tags": []
   },
   "outputs": [
    {
     "name": "stdout",
     "output_type": "stream",
     "text": [
      "5\n"
     ]
    }
   ],
   "source": [
    "if len(graph[1]) == 1:\n",
    "    print(1)\n",
    "else:\n",
    "    print(sum(dis)-max(dis)+1)"
   ]
  },
  {
   "cell_type": "code",
   "execution_count": 12,
   "id": "cffe237f-9814-4c73-a10f-4abcc9fe46e1",
   "metadata": {
    "tags": []
   },
   "outputs": [
    {
     "data": {
      "text/plain": [
       "[4, 4]"
      ]
     },
     "execution_count": 12,
     "metadata": {},
     "output_type": "execute_result"
    }
   ],
   "source": [
    "dis"
   ]
  },
  {
   "cell_type": "code",
   "execution_count": null,
   "id": "42ef97ec-e0e0-4b2a-94fa-1939846c981d",
   "metadata": {},
   "outputs": [],
   "source": []
  }
 ],
 "metadata": {
  "kernelspec": {
   "display_name": "Python 3 (ipykernel)",
   "language": "python",
   "name": "python3"
  },
  "language_info": {
   "codemirror_mode": {
    "name": "ipython",
    "version": 3
   },
   "file_extension": ".py",
   "mimetype": "text/x-python",
   "name": "python",
   "nbconvert_exporter": "python",
   "pygments_lexer": "ipython3",
   "version": "3.11.3"
  }
 },
 "nbformat": 4,
 "nbformat_minor": 5
}
