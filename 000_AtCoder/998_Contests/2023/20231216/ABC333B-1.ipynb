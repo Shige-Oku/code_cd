{
 "cells": [
  {
   "cell_type": "code",
   "execution_count": 1,
   "id": "84528cd6-ede7-4d87-978e-5e28dee7d8ff",
   "metadata": {
    "tags": []
   },
   "outputs": [],
   "source": [
    "import sys\n",
    "import numpy as np\n",
    "import math\n",
    "import collections\n",
    "import copy\n",
    "import decimal\n",
    "import itertools\n",
    "import re\n",
    "import bisect\n",
    "import scipy\n",
    "import heapq\n",
    "from collections import deque \n",
    "from functools import reduce\n",
    "from itertools import product\n",
    "from itertools import combinations\n",
    "from functools import lru_cache\n",
    "from scipy.special import comb\n",
    "from numba import njit\n",
    "from bisect import bisect_right\n",
    "from bisect import bisect_left"
   ]
  },
  {
   "cell_type": "code",
   "execution_count": 22,
   "id": "d56be7f5-0693-4f07-af2f-856093d99dab",
   "metadata": {
    "tags": []
   },
   "outputs": [
    {
     "name": "stdin",
     "output_type": "stream",
     "text": [
      " AE\n"
     ]
    }
   ],
   "source": [
    "S1S2 = input()"
   ]
  },
  {
   "cell_type": "code",
   "execution_count": 23,
   "id": "658d535b-26b5-4af3-96aa-dd2ab68e1a36",
   "metadata": {
    "tags": []
   },
   "outputs": [
    {
     "name": "stdin",
     "output_type": "stream",
     "text": [
      " BD\n"
     ]
    }
   ],
   "source": [
    "T1T2 = input()"
   ]
  },
  {
   "cell_type": "code",
   "execution_count": 24,
   "id": "716e2b73-c89f-49a7-a76d-e6069a77a531",
   "metadata": {
    "tags": []
   },
   "outputs": [],
   "source": [
    "k1 = abs(ord(S1S2[0]) - ord(S1S2[1]))\n",
    "k2 = abs(ord(T1T2[0]) - ord(T1T2[1]))\n",
    "             "
   ]
  },
  {
   "cell_type": "code",
   "execution_count": 25,
   "id": "1ee6c5c5-56cb-42d6-b5f0-a62a01632e12",
   "metadata": {
    "tags": []
   },
   "outputs": [
    {
     "name": "stdout",
     "output_type": "stream",
     "text": [
      "No\n"
     ]
    }
   ],
   "source": [
    "if k1 in (1, 4):\n",
    "    if k2 in (1, 4):\n",
    "        print('Yes')\n",
    "    else:\n",
    "        print('No')\n",
    "else:\n",
    "    if k2 in (2, 3):\n",
    "        print('Yes')\n",
    "    else:\n",
    "        print('No')\n",
    "    "
   ]
  },
  {
   "cell_type": "code",
   "execution_count": 5,
   "id": "f5e8c912-3cbd-4d95-99eb-c2d96a9ee444",
   "metadata": {
    "tags": []
   },
   "outputs": [
    {
     "data": {
      "text/plain": [
       "97"
      ]
     },
     "execution_count": 5,
     "metadata": {},
     "output_type": "execute_result"
    }
   ],
   "source": [
    "ord('a')"
   ]
  },
  {
   "cell_type": "code",
   "execution_count": 8,
   "id": "212eda9f-22fa-4b3d-a4ee-2b6a2864f91f",
   "metadata": {
    "tags": []
   },
   "outputs": [
    {
     "data": {
      "text/plain": [
       "(2, 2)"
      ]
     },
     "execution_count": 8,
     "metadata": {},
     "output_type": "execute_result"
    }
   ],
   "source": [
    "k1, k2"
   ]
  },
  {
   "cell_type": "code",
   "execution_count": null,
   "id": "a772005a-1634-481e-8050-e75991552c31",
   "metadata": {},
   "outputs": [],
   "source": [
    "# コンテスト終了後"
   ]
  },
  {
   "cell_type": "code",
   "execution_count": 28,
   "id": "15e011fd-a43c-4077-bb9e-8bbecb6b6070",
   "metadata": {},
   "outputs": [
    {
     "name": "stdin",
     "output_type": "stream",
     "text": [
      " DA\n"
     ]
    }
   ],
   "source": [
    "S = input()"
   ]
  },
  {
   "cell_type": "code",
   "execution_count": 29,
   "id": "9cab29ea-b868-41e4-a58e-2f17e192064a",
   "metadata": {
    "tags": []
   },
   "outputs": [
    {
     "name": "stdin",
     "output_type": "stream",
     "text": [
      " EA\n"
     ]
    }
   ],
   "source": [
    "T = input()"
   ]
  },
  {
   "cell_type": "code",
   "execution_count": 32,
   "id": "4b93dbb9-93b6-4e0e-96a6-7582b036815f",
   "metadata": {
    "tags": []
   },
   "outputs": [],
   "source": [
    "def check(st):\n",
    "    s1, s2 = st[:]\n",
    "    d = abs(ord(s1)- ord(s2))\n",
    "    if d in (1, 4):\n",
    "        return True\n",
    "    else:\n",
    "        return False"
   ]
  },
  {
   "cell_type": "code",
   "execution_count": 33,
   "id": "f8a682b3-cd2a-43a8-aa4d-0760d4197b0b",
   "metadata": {
    "tags": []
   },
   "outputs": [
    {
     "name": "stdout",
     "output_type": "stream",
     "text": [
      "No\n"
     ]
    }
   ],
   "source": [
    "print('Yes' if check(S) == check(T) else 'No')"
   ]
  },
  {
   "cell_type": "code",
   "execution_count": 34,
   "id": "41f89162-a601-4e11-829c-930123f3b5ea",
   "metadata": {
    "tags": []
   },
   "outputs": [
    {
     "data": {
      "text/plain": [
       "(False, False)"
      ]
     },
     "execution_count": 34,
     "metadata": {},
     "output_type": "execute_result"
    }
   ],
   "source": [
    "check('BD'), check('BD')"
   ]
  },
  {
   "cell_type": "code",
   "execution_count": null,
   "id": "7e3f7eef-9741-400c-aebd-882679199c65",
   "metadata": {},
   "outputs": [],
   "source": []
  }
 ],
 "metadata": {
  "kernelspec": {
   "display_name": "Python 3 (ipykernel)",
   "language": "python",
   "name": "python3"
  },
  "language_info": {
   "codemirror_mode": {
    "name": "ipython",
    "version": 3
   },
   "file_extension": ".py",
   "mimetype": "text/x-python",
   "name": "python",
   "nbconvert_exporter": "python",
   "pygments_lexer": "ipython3",
   "version": "3.11.3"
  }
 },
 "nbformat": 4,
 "nbformat_minor": 5
}
