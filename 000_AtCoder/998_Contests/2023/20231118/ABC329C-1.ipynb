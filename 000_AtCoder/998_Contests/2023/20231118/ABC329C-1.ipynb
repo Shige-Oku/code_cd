{
 "cells": [
  {
   "cell_type": "code",
   "execution_count": 1,
   "id": "5a4b0f58-8fc9-40c6-a09a-64ee9d769f69",
   "metadata": {
    "tags": []
   },
   "outputs": [],
   "source": [
    "import sys\n",
    "import numpy as np\n",
    "import math\n",
    "import collections\n",
    "import copy\n",
    "import decimal\n",
    "import itertools\n",
    "import re\n",
    "import bisect\n",
    "import scipy\n",
    "import heapq\n",
    "from collections import deque \n",
    "from functools import reduce\n",
    "from itertools import product\n",
    "from itertools import combinations\n",
    "from functools import lru_cache\n",
    "from scipy.special import comb\n",
    "from numba import njit\n",
    "from bisect import bisect_right\n",
    "from bisect import bisect_left"
   ]
  },
  {
   "cell_type": "code",
   "execution_count": 7,
   "id": "b34fd098-39cd-43cd-969e-b5bd2f8e525c",
   "metadata": {
    "tags": []
   },
   "outputs": [
    {
     "name": "stdin",
     "output_type": "stream",
     "text": [
      " 1\n"
     ]
    }
   ],
   "source": [
    "N = int(input())"
   ]
  },
  {
   "cell_type": "code",
   "execution_count": 24,
   "id": "706ad9ec-a48f-44e5-a2e6-29b142d737ee",
   "metadata": {
    "tags": []
   },
   "outputs": [
    {
     "name": "stdin",
     "output_type": "stream",
     "text": [
      " x\n"
     ]
    }
   ],
   "source": [
    "S = input()"
   ]
  },
  {
   "cell_type": "code",
   "execution_count": 25,
   "id": "af19f57b-c094-4bf8-baa1-21dd826510c6",
   "metadata": {
    "tags": []
   },
   "outputs": [],
   "source": [
    "ans = [0] * 26\n",
    "zc = ' '\n",
    "c = 0\n",
    "for s in S:\n",
    "    p = ord(s) - ord('a')\n",
    "    if zc != s:\n",
    "        c = 1\n",
    "    else:\n",
    "        c += 1\n",
    "    zc = s\n",
    "    ans[p] = max(ans[p], c)"
   ]
  },
  {
   "cell_type": "code",
   "execution_count": 26,
   "id": "9eef972a-bd8f-4cdb-a5d3-7a09114fa9dc",
   "metadata": {
    "tags": []
   },
   "outputs": [
    {
     "name": "stdout",
     "output_type": "stream",
     "text": [
      "1\n"
     ]
    }
   ],
   "source": [
    "print(sum(ans))"
   ]
  },
  {
   "cell_type": "code",
   "execution_count": 16,
   "id": "65ec0878-b826-4fef-ba4f-d1ce0a104334",
   "metadata": {
    "tags": []
   },
   "outputs": [
    {
     "data": {
      "text/plain": [
       "(50, 's', 1, 's')"
      ]
     },
     "execution_count": 16,
     "metadata": {},
     "output_type": "execute_result"
    }
   ],
   "source": [
    "p, s, c, zc"
   ]
  },
  {
   "cell_type": "code",
   "execution_count": 19,
   "id": "39215377-965d-435b-a8f4-e5562ca7db7e",
   "metadata": {
    "tags": []
   },
   "outputs": [
    {
     "data": {
      "text/plain": [
       "[0, 0, 0, 0, 0, 0, 0, 0, 0, 0, 4, 0, 0, 0, 0, 0, 0, 0, 3, 0, 0, 0, 0, 0, 1, 0]"
      ]
     },
     "execution_count": 19,
     "metadata": {},
     "output_type": "execute_result"
    }
   ],
   "source": [
    "ans"
   ]
  },
  {
   "cell_type": "code",
   "execution_count": null,
   "id": "4b107aef-f7cd-4a00-84fe-310c7b45d5c8",
   "metadata": {},
   "outputs": [],
   "source": []
  }
 ],
 "metadata": {
  "kernelspec": {
   "display_name": "Python 3 (ipykernel)",
   "language": "python",
   "name": "python3"
  },
  "language_info": {
   "codemirror_mode": {
    "name": "ipython",
    "version": 3
   },
   "file_extension": ".py",
   "mimetype": "text/x-python",
   "name": "python",
   "nbconvert_exporter": "python",
   "pygments_lexer": "ipython3",
   "version": "3.11.3"
  }
 },
 "nbformat": 4,
 "nbformat_minor": 5
}
