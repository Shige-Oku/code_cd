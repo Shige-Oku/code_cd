{
 "cells": [
  {
   "cell_type": "code",
   "execution_count": 1,
   "id": "2435799b-df66-4f3a-8e62-9c94c50d97b4",
   "metadata": {
    "tags": []
   },
   "outputs": [],
   "source": [
    "import sys\n",
    "import numpy as np\n",
    "import math\n",
    "import collections\n",
    "import copy\n",
    "import decimal\n",
    "import itertools\n",
    "import re\n",
    "import bisect\n",
    "import scipy\n",
    "import heapq\n",
    "from collections import deque \n",
    "from functools import reduce\n",
    "from itertools import product\n",
    "from itertools import combinations\n",
    "from functools import lru_cache\n",
    "from scipy.special import comb\n",
    "from numba import njit\n",
    "from bisect import bisect_right\n",
    "from bisect import bisect_left"
   ]
  },
  {
   "cell_type": "code",
   "execution_count": 2,
   "id": "069abc66-80bd-4cbb-8d31-043361979606",
   "metadata": {
    "tags": []
   },
   "outputs": [
    {
     "name": "stdin",
     "output_type": "stream",
     "text": [
      " 6 5\n"
     ]
    }
   ],
   "source": [
    "N, Q = map(int, input().split())"
   ]
  },
  {
   "cell_type": "code",
   "execution_count": 3,
   "id": "0ea7c227-c014-4ed3-8906-f60866f433f2",
   "metadata": {
    "tags": []
   },
   "outputs": [
    {
     "name": "stdin",
     "output_type": "stream",
     "text": [
      " 1 1 1 2 2 3\n"
     ]
    }
   ],
   "source": [
    "Cn = list(map(int, input().split()))"
   ]
  },
  {
   "cell_type": "code",
   "execution_count": 4,
   "id": "5a35ce9f-f188-4fb3-baec-07e3adc0d9e5",
   "metadata": {
    "tags": []
   },
   "outputs": [
    {
     "name": "stdin",
     "output_type": "stream",
     "text": [
      " 1 2\n",
      " 6 4\n",
      " 5 1\n",
      " 3 6\n",
      " 4 6\n"
     ]
    }
   ],
   "source": [
    "ABq = [list(map(int, input().split())) for _ in range(Q)]"
   ]
  },
  {
   "cell_type": "code",
   "execution_count": 15,
   "id": "f563e150-d025-40d5-80e1-40ab41d016bb",
   "metadata": {
    "tags": []
   },
   "outputs": [],
   "source": [
    "cnt = [set() for _ in range(N+1)]\n",
    "for i, C in enumerate(Cn, 1):\n",
    "    cnt[i].add(C)"
   ]
  },
  {
   "cell_type": "code",
   "execution_count": 16,
   "id": "ed044230-55d0-40eb-8c60-3ef9bcd76cdc",
   "metadata": {
    "tags": []
   },
   "outputs": [
    {
     "name": "stdout",
     "output_type": "stream",
     "text": [
      "1\n",
      "2\n",
      "1\n",
      "1\n",
      "3\n"
     ]
    }
   ],
   "source": [
    "for A, B in ABq:\n",
    "    if len(cnt[B]) == 0:\n",
    "        cnt[B] = cnt[A]\n",
    "    else:\n",
    "        if len(cnt[A]) > len(cnt[B]):\n",
    "            cnt[A], cnt[B] = cnt[B], cnt[A]\n",
    "        for c in cnt[A]:\n",
    "            cnt[B].add(c)\n",
    "    cnt[A] = set()\n",
    "    print(len(cnt[B]))"
   ]
  },
  {
   "cell_type": "code",
   "execution_count": 14,
   "id": "6fde3d0d-d0a5-4e75-8bd5-3c80b9c761e5",
   "metadata": {
    "tags": []
   },
   "outputs": [
    {
     "data": {
      "text/plain": [
       "[set(), {2}, {1}, set(), set(), set(), {1, 2, 3}]"
      ]
     },
     "execution_count": 14,
     "metadata": {},
     "output_type": "execute_result"
    }
   ],
   "source": [
    "cnt"
   ]
  },
  {
   "cell_type": "code",
   "execution_count": 9,
   "id": "5dcfa76d-7051-4614-9df9-5c0e420f9250",
   "metadata": {
    "tags": []
   },
   "outputs": [
    {
     "ename": "TypeError",
     "evalue": "unsupported operand type(s) for +: 'set' and 'set'",
     "output_type": "error",
     "traceback": [
      "\u001b[1;31m---------------------------------------------------------------------------\u001b[0m",
      "\u001b[1;31mTypeError\u001b[0m                                 Traceback (most recent call last)",
      "Cell \u001b[1;32mIn[9], line 1\u001b[0m\n\u001b[1;32m----> 1\u001b[0m cnt[\u001b[38;5;241m0\u001b[39m] \u001b[38;5;241m+\u001b[39m cnt[\u001b[38;5;241m1\u001b[39m]\n",
      "\u001b[1;31mTypeError\u001b[0m: unsupported operand type(s) for +: 'set' and 'set'"
     ]
    }
   ],
   "source": [
    "cnt[0] + cnt[1]"
   ]
  },
  {
   "cell_type": "code",
   "execution_count": null,
   "id": "445a278d-e7f8-4401-8bda-87c49043fc46",
   "metadata": {},
   "outputs": [],
   "source": []
  }
 ],
 "metadata": {
  "kernelspec": {
   "display_name": "Python 3 (ipykernel)",
   "language": "python",
   "name": "python3"
  },
  "language_info": {
   "codemirror_mode": {
    "name": "ipython",
    "version": 3
   },
   "file_extension": ".py",
   "mimetype": "text/x-python",
   "name": "python",
   "nbconvert_exporter": "python",
   "pygments_lexer": "ipython3",
   "version": "3.11.3"
  }
 },
 "nbformat": 4,
 "nbformat_minor": 5
}
