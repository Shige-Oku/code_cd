{
 "cells": [
  {
   "cell_type": "code",
   "execution_count": 1,
   "id": "76fbeb15-77da-48be-97cc-c2f0fc8ecfba",
   "metadata": {
    "tags": []
   },
   "outputs": [],
   "source": [
    "import sys\n",
    "import numpy as np\n",
    "import math\n",
    "import collections\n",
    "import copy\n",
    "import decimal\n",
    "import itertools\n",
    "import re\n",
    "import bisect\n",
    "import scipy\n",
    "import heapq\n",
    "from collections import deque \n",
    "from functools import reduce\n",
    "from itertools import product\n",
    "from itertools import combinations\n",
    "from functools import lru_cache\n",
    "from scipy.special import comb\n",
    "from numba import njit\n",
    "from bisect import bisect_right\n",
    "from bisect import bisect_left"
   ]
  },
  {
   "cell_type": "code",
   "execution_count": 8,
   "id": "ff063a20-2b73-4f74-bbf8-195af1309367",
   "metadata": {
    "tags": []
   },
   "outputs": [
    {
     "name": "stdin",
     "output_type": "stream",
     "text": [
      " 9 8\n"
     ]
    }
   ],
   "source": [
    "N, M = map(int, input().split())"
   ]
  },
  {
   "cell_type": "code",
   "execution_count": 9,
   "id": "d62c5760-5f2d-4d62-8e2b-8a7066c7c31d",
   "metadata": {
    "tags": []
   },
   "outputs": [
    {
     "name": "stdin",
     "output_type": "stream",
     "text": [
      " 8 8 2 2 8 8 2 2\n"
     ]
    }
   ],
   "source": [
    "Am = list(map(int, input().split()))"
   ]
  },
  {
   "cell_type": "code",
   "execution_count": 10,
   "id": "687c8806-a123-4554-bcae-6d8b8193696e",
   "metadata": {
    "tags": []
   },
   "outputs": [
    {
     "name": "stdout",
     "output_type": "stream",
     "text": [
      "8\n",
      "8\n",
      "8\n",
      "2\n",
      "8\n",
      "8\n",
      "8\n",
      "2\n"
     ]
    }
   ],
   "source": [
    "import heapq\n",
    "cnt = [0] * (N+1)\n",
    "m = 0\n",
    "q = []\n",
    "for A in Am:\n",
    "    cnt[A] += 1\n",
    "    if cnt[A] > m:\n",
    "        m = cnt[A]\n",
    "        q = []\n",
    "        heapq.heappush(q, A)\n",
    "    elif cnt[A] == m:\n",
    "        heapq.heappush(q, A)\n",
    "    \n",
    "    ans = heapq.heappop(q)\n",
    "    print(ans)\n",
    "    heapq.heappush(q, ans)\n",
    "        "
   ]
  },
  {
   "cell_type": "code",
   "execution_count": null,
   "id": "fe91d03f-4b14-4967-a424-cab4e0ec8dec",
   "metadata": {},
   "outputs": [],
   "source": []
  }
 ],
 "metadata": {
  "kernelspec": {
   "display_name": "Python 3 (ipykernel)",
   "language": "python",
   "name": "python3"
  },
  "language_info": {
   "codemirror_mode": {
    "name": "ipython",
    "version": 3
   },
   "file_extension": ".py",
   "mimetype": "text/x-python",
   "name": "python",
   "nbconvert_exporter": "python",
   "pygments_lexer": "ipython3",
   "version": "3.11.3"
  }
 },
 "nbformat": 4,
 "nbformat_minor": 5
}
