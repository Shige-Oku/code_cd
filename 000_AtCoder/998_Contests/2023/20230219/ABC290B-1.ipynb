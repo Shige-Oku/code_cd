{
 "cells": [
  {
   "cell_type": "code",
   "execution_count": 1,
   "id": "deb4d390-b728-4a3b-81c4-2d7f7f31e985",
   "metadata": {},
   "outputs": [],
   "source": [
    "import sys\n",
    "import numpy as np\n",
    "import math\n",
    "import collections\n",
    "import copy\n",
    "import decimal\n",
    "import itertools\n",
    "import re\n",
    "import bisect\n",
    "import scipy\n",
    "import heapq\n",
    "from collections import deque \n",
    "from functools import reduce\n",
    "from itertools import product\n",
    "from itertools import combinations\n",
    "from functools import lru_cache\n",
    "from scipy.special import comb\n",
    "from numba import njit\n",
    "from bisect import bisect_right\n",
    "from bisect import bisect_left"
   ]
  },
  {
   "cell_type": "code",
   "execution_count": 2,
   "id": "dd0056a3-05ec-4664-81d9-f86e630b4c9e",
   "metadata": {},
   "outputs": [
    {
     "name": "stdin",
     "output_type": "stream",
     "text": [
      " 10 3\n"
     ]
    }
   ],
   "source": [
    "N, K = map(int, input().split())"
   ]
  },
  {
   "cell_type": "code",
   "execution_count": 3,
   "id": "eec50b39-a7ab-4c7f-8c23-704c7a2ce3b2",
   "metadata": {},
   "outputs": [
    {
     "name": "stdin",
     "output_type": "stream",
     "text": [
      " oxxoxooxox\n"
     ]
    }
   ],
   "source": [
    "S = input()"
   ]
  },
  {
   "cell_type": "code",
   "execution_count": 7,
   "id": "5fa467eb-ca01-4cbe-8de0-f5bdb6e647d0",
   "metadata": {},
   "outputs": [],
   "source": [
    "ans = ''\n",
    "cnt = 0\n",
    "for i, s in enumerate(S):\n",
    "    if s == 'x':\n",
    "        ans += 'x'\n",
    "    elif cnt < K:\n",
    "        ans += 'o'\n",
    "        cnt += 1\n",
    "    else:\n",
    "        ans += 'x' "
   ]
  },
  {
   "cell_type": "code",
   "execution_count": 10,
   "id": "bb1368dc-c260-4734-a007-fba6f7a92daf",
   "metadata": {},
   "outputs": [],
   "source": [
    "ans = ''\n",
    "cnt = 0\n",
    "for s in S:\n",
    "    if s == 'o':\n",
    "        cnt += 1\n",
    "    if cnt > K:\n",
    "        ans += 'x'\n",
    "    else:\n",
    "        ans += s"
   ]
  },
  {
   "cell_type": "code",
   "execution_count": 11,
   "id": "4b9d4acd-e22a-4754-842a-8c9027416091",
   "metadata": {},
   "outputs": [
    {
     "name": "stdout",
     "output_type": "stream",
     "text": [
      "oxxoxoxxxx\n"
     ]
    }
   ],
   "source": [
    "print(ans)"
   ]
  },
  {
   "cell_type": "code",
   "execution_count": 9,
   "id": "694cdb01-e00c-4470-8eff-a7af85d862b7",
   "metadata": {},
   "outputs": [
    {
     "data": {
      "text/plain": [
       "True"
      ]
     },
     "execution_count": 9,
     "metadata": {},
     "output_type": "execute_result"
    }
   ],
   "source": [
    "'oxxoxoxxxx' == 'oxxoxoxxxx'"
   ]
  },
  {
   "cell_type": "code",
   "execution_count": null,
   "id": "39994ba5-b433-42b9-8e20-5adfa0ae0ba1",
   "metadata": {},
   "outputs": [],
   "source": []
  }
 ],
 "metadata": {
  "kernelspec": {
   "display_name": "Python 3",
   "language": "python",
   "name": "python3"
  },
  "language_info": {
   "codemirror_mode": {
    "name": "ipython",
    "version": 3
   },
   "file_extension": ".py",
   "mimetype": "text/x-python",
   "name": "python",
   "nbconvert_exporter": "python",
   "pygments_lexer": "ipython3",
   "version": "3.6.13"
  }
 },
 "nbformat": 4,
 "nbformat_minor": 5
}
