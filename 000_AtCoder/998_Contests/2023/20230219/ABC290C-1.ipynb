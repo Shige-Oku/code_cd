{
 "cells": [
  {
   "cell_type": "code",
   "execution_count": 1,
   "id": "c7b9acd9-f14c-4099-b76b-851ef70dafb1",
   "metadata": {},
   "outputs": [],
   "source": [
    "import sys\n",
    "import numpy as np\n",
    "import math\n",
    "import collections\n",
    "import copy\n",
    "import decimal\n",
    "import itertools\n",
    "import re\n",
    "import bisect\n",
    "import scipy\n",
    "import heapq\n",
    "from collections import deque \n",
    "from functools import reduce\n",
    "from itertools import product\n",
    "from itertools import combinations\n",
    "from functools import lru_cache\n",
    "from scipy.special import comb\n",
    "from numba import njit\n",
    "from bisect import bisect_right\n",
    "from bisect import bisect_left"
   ]
  },
  {
   "cell_type": "code",
   "execution_count": 2,
   "id": "108b6b17-1d87-477e-9a85-fb26dd689f31",
   "metadata": {},
   "outputs": [
    {
     "name": "stdin",
     "output_type": "stream",
     "text": [
      " 7 3\n"
     ]
    }
   ],
   "source": [
    "N, K = map(int, input().split())"
   ]
  },
  {
   "cell_type": "code",
   "execution_count": 3,
   "id": "2abe1666-c7cc-44d7-9de0-336c5120a524",
   "metadata": {},
   "outputs": [
    {
     "name": "stdin",
     "output_type": "stream",
     "text": [
      " 2 0 2 3 2 1 9\n"
     ]
    }
   ],
   "source": [
    "An = list(map(int, input().split()))"
   ]
  },
  {
   "cell_type": "code",
   "execution_count": 56,
   "id": "eb346dac-1108-4fe9-99b2-30de8e1db1b7",
   "metadata": {},
   "outputs": [],
   "source": [
    "def getMex():\n",
    "    for i in range(K+1):\n",
    "        if i not in An_c:\n",
    "            break\n",
    "    return i\n"
   ]
  },
  {
   "cell_type": "code",
   "execution_count": 57,
   "id": "56f4a59b-faed-4532-b385-5f19c54654ce",
   "metadata": {},
   "outputs": [
    {
     "name": "stdout",
     "output_type": "stream",
     "text": [
      "3\n"
     ]
    }
   ],
   "source": [
    "from collections import Counter\n",
    "\n",
    "An_c = Counter(An)\n",
    "print(getMex())"
   ]
  },
  {
   "cell_type": "code",
   "execution_count": 43,
   "id": "4dcb05ba-a646-4cdb-bc20-3c209fbb045f",
   "metadata": {},
   "outputs": [],
   "source": [
    "from collections import Counter\n",
    "def solve():\n",
    "    mex = getMex()\n",
    "    An_s = sorted(An_c.items())\n",
    "\n",
    "    ret = 0\n",
    "    n = N\n",
    "    c = 0\n",
    "    for k, v in An_s:\n",
    "        n -= v\n",
    "        if N - n > K - c:\n",
    "            print(k, v, n, c)\n",
    "            return k\n",
    "        c += 1"
   ]
  },
  {
   "cell_type": "code",
   "execution_count": 44,
   "id": "b9f892cd-d3a5-446c-bfc2-d76a80d7ddd5",
   "metadata": {},
   "outputs": [
    {
     "name": "stdout",
     "output_type": "stream",
     "text": [
      "2 3 2 2\n",
      "2\n"
     ]
    }
   ],
   "source": [
    "An_c = Counter(An)\n",
    "print(solve())"
   ]
  },
  {
   "cell_type": "code",
   "execution_count": 40,
   "id": "d8267dd2-06ee-4140-ae73-9567377ce5d0",
   "metadata": {},
   "outputs": [
    {
     "data": {
      "text/plain": [
       "3"
      ]
     },
     "execution_count": 40,
     "metadata": {},
     "output_type": "execute_result"
    }
   ],
   "source": [
    "getMex()"
   ]
  },
  {
   "cell_type": "code",
   "execution_count": 35,
   "id": "8995f94e-9ef3-4abb-b777-998b5e43ff8c",
   "metadata": {},
   "outputs": [
    {
     "data": {
      "text/plain": [
       "(Counter({2: 3, 0: 1, 3: 1, 1: 1, 9: 1}),\n",
       " [(0, 1), (1, 1), (2, 3), (3, 1), (9, 1)])"
      ]
     },
     "execution_count": 35,
     "metadata": {},
     "output_type": "execute_result"
    }
   ],
   "source": [
    "An_c, sorted(An_c.items())"
   ]
  },
  {
   "cell_type": "code",
   "execution_count": 18,
   "id": "bd64ce5e-6811-4dd9-8785-9a5aa1dc2815",
   "metadata": {},
   "outputs": [],
   "source": [
    "from collections import Counter\n",
    "def solve():\n",
    "    mex = getMex()\n",
    "    An_s = sorted(An_c)\n",
    "    if len(An_s) >= K:\n",
    "        return mex\n",
    "\n",
    "    ret = 0\n",
    "    n = N\n",
    "    for k, v in An_s:\n",
    "        if N - n < K:\n",
    "            return k"
   ]
  },
  {
   "cell_type": "code",
   "execution_count": null,
   "id": "5dd6caa3-4df7-4029-b63d-ff0e77c9986d",
   "metadata": {},
   "outputs": [],
   "source": []
  },
  {
   "cell_type": "code",
   "execution_count": null,
   "id": "39bc7bf2-1cf1-450d-94a9-23cca824b6c0",
   "metadata": {},
   "outputs": [],
   "source": []
  }
 ],
 "metadata": {
  "kernelspec": {
   "display_name": "Python 3",
   "language": "python",
   "name": "python3"
  },
  "language_info": {
   "codemirror_mode": {
    "name": "ipython",
    "version": 3
   },
   "file_extension": ".py",
   "mimetype": "text/x-python",
   "name": "python",
   "nbconvert_exporter": "python",
   "pygments_lexer": "ipython3",
   "version": "3.6.13"
  }
 },
 "nbformat": 4,
 "nbformat_minor": 5
}
