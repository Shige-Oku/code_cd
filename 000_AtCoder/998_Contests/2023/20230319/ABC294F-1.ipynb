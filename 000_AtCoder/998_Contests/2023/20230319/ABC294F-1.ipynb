{
 "cells": [
  {
   "cell_type": "code",
   "execution_count": 1,
   "id": "cdc64537-1dbe-4765-aa78-4199d1f153fb",
   "metadata": {},
   "outputs": [
    {
     "name": "stdin",
     "output_type": "stream",
     "text": [
      " 3 1 1\n"
     ]
    }
   ],
   "source": [
    "N, M, K = map(int, input().split())"
   ]
  },
  {
   "cell_type": "code",
   "execution_count": 3,
   "id": "a28751d7-c636-4478-b335-6f9026c7a71b",
   "metadata": {},
   "outputs": [
    {
     "name": "stdin",
     "output_type": "stream",
     "text": [
      " 1 2\n",
      " 4 1\n",
      " 1 4\n"
     ]
    }
   ],
   "source": [
    "ABn = [list(map(int, input().split())) for _ in range(N)]"
   ]
  },
  {
   "cell_type": "code",
   "execution_count": 19,
   "id": "ed090e28-ace0-4ce8-839a-2e86114ea1aa",
   "metadata": {},
   "outputs": [
    {
     "name": "stdin",
     "output_type": "stream",
     "text": [
      " 1 4\n"
     ]
    }
   ],
   "source": [
    "CDm = [list(map(int, input().split())) for _ in range(M)]"
   ]
  },
  {
   "cell_type": "code",
   "execution_count": 83,
   "id": "4e91c3fe-ebff-4770-8dc2-caf7fb2f4a45",
   "metadata": {},
   "outputs": [],
   "source": [
    "from bisect import bisect_left\n",
    "def check(p):\n",
    "    CDm2 = []\n",
    "    for i, (C, D) in enumerate(CDm):\n",
    "        CDm2.append(C - (C+D) * p)\n",
    "    CDm2_s = sorted(CDm2)\n",
    "#     print(CDm2, CDm2_s)\n",
    "    cnt = 0\n",
    "    for A, B in ABn:\n",
    "        k = A - (A+B) * p\n",
    "        k *= -1\n",
    "        idx = bisect_left(CDm2_s, k)\n",
    "        cnt += M - idx\n",
    "#         print(cnt, idx, k)\n",
    "    return cnt"
   ]
  },
  {
   "cell_type": "code",
   "execution_count": 84,
   "id": "f4014fee-91e0-4235-8284-6b557a9bab27",
   "metadata": {},
   "outputs": [],
   "source": [
    "def my_bisect():\n",
    "    ng = 0\n",
    "    ok = 1\n",
    "    roop = 0\n",
    "    while roop < 100:\n",
    "        m = (ng + ok) / 2\n",
    "        cnt = check(m)\n",
    "        if cnt >= K:\n",
    "            ng = m\n",
    "        else:\n",
    "            ok = m\n",
    "        roop += 1\n",
    "#         print(m, cnt)\n",
    "    return ok"
   ]
  },
  {
   "cell_type": "code",
   "execution_count": 85,
   "id": "91574439-fce6-4f1d-9a18-db25ed5744fc",
   "metadata": {},
   "outputs": [
    {
     "name": "stdout",
     "output_type": "stream",
     "text": [
      "0.5000000000000001\n"
     ]
    }
   ],
   "source": [
    "print(my_bisect())"
   ]
  },
  {
   "cell_type": "code",
   "execution_count": 23,
   "id": "93d1efd2-2485-468e-aba4-0623f2dd63e7",
   "metadata": {},
   "outputs": [
    {
     "data": {
      "text/plain": [
       "[[1, 4]]"
      ]
     },
     "execution_count": 23,
     "metadata": {},
     "output_type": "execute_result"
    }
   ],
   "source": [
    "CDm"
   ]
  },
  {
   "cell_type": "code",
   "execution_count": null,
   "id": "1ce78d51-15d1-4935-a038-bea17e6928ef",
   "metadata": {},
   "outputs": [],
   "source": []
  }
 ],
 "metadata": {
  "kernelspec": {
   "display_name": "Python 3",
   "language": "python",
   "name": "python3"
  },
  "language_info": {
   "codemirror_mode": {
    "name": "ipython",
    "version": 3
   },
   "file_extension": ".py",
   "mimetype": "text/x-python",
   "name": "python",
   "nbconvert_exporter": "python",
   "pygments_lexer": "ipython3",
   "version": "3.6.13"
  }
 },
 "nbformat": 4,
 "nbformat_minor": 5
}
