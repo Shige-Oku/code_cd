{
 "cells": [
  {
   "cell_type": "code",
   "execution_count": 1,
   "id": "2a3b3a9e-3cc8-416e-9cc6-417258e25c4f",
   "metadata": {},
   "outputs": [],
   "source": [
    "import sys\n",
    "import numpy as np\n",
    "import math\n",
    "import collections\n",
    "import copy\n",
    "import decimal\n",
    "import itertools\n",
    "import re\n",
    "import bisect\n",
    "import scipy\n",
    "import heapq\n",
    "from collections import deque \n",
    "from functools import reduce\n",
    "from itertools import product\n",
    "from itertools import combinations\n",
    "from functools import lru_cache\n",
    "from scipy.special import comb\n",
    "from numba import njit\n",
    "from bisect import bisect_right\n",
    "from bisect import bisect_left"
   ]
  },
  {
   "cell_type": "code",
   "execution_count": 2,
   "id": "2f35edbe-99d9-4a1b-b64d-ae7284aaaf4e",
   "metadata": {},
   "outputs": [
    {
     "name": "stdin",
     "output_type": "stream",
     "text": [
      " 8 4 3\n"
     ]
    }
   ],
   "source": [
    "L, N1, N2 = map(int, input().split())"
   ]
  },
  {
   "cell_type": "code",
   "execution_count": 4,
   "id": "e42002c8-106a-4d78-84c8-c5d5d44a6f92",
   "metadata": {},
   "outputs": [
    {
     "name": "stdin",
     "output_type": "stream",
     "text": [
      " 1 2\n",
      " 3 2\n",
      " 2 3\n",
      " 3 1\n"
     ]
    }
   ],
   "source": [
    "VLn1 = [list(map(int, input().split())) for _ in range(N1)]"
   ]
  },
  {
   "cell_type": "code",
   "execution_count": 5,
   "id": "df0f169c-d946-4a87-8db9-a3a0edf30162",
   "metadata": {},
   "outputs": [
    {
     "name": "stdin",
     "output_type": "stream",
     "text": [
      " 1 4\n",
      " 2 1\n",
      " 3 3\n"
     ]
    }
   ],
   "source": [
    "VLn2 = [list(map(int, input().split())) for _ in range(N2)]"
   ]
  },
  {
   "cell_type": "code",
   "execution_count": 20,
   "id": "ff1e8c5b-c097-4788-b398-38d6f169ba55",
   "metadata": {},
   "outputs": [],
   "source": [
    "VLn1.append((10**20, 0))\n",
    "VLn2.append((10**20, 0))"
   ]
  },
  {
   "cell_type": "code",
   "execution_count": 30,
   "id": "5e91c4a5-2fed-44d7-b1fd-fe5a00e5248b",
   "metadata": {},
   "outputs": [],
   "source": [
    "ans = 0\n",
    "p = 0\n",
    "i1, i2 = 0, 0\n",
    "c1, c2 = 0, 0\n",
    "v1, l1 = VLn1[0]\n",
    "v2, l2 = VLn2[0]\n",
    "while i1 < N1 and i2 < N2:\n",
    "    if v1 == v2:\n",
    "        ans += min(l1, l2)\n",
    "    \n",
    "    if l1 < l2:\n",
    "        l2 -= l1\n",
    "        i1 += 1\n",
    "        v1, l1 = VLn1[i1]\n",
    "    else:\n",
    "        l1 -= l2\n",
    "        i2 += 1\n",
    "        v2, l2 = VLn2[i2]\n",
    "else:\n",
    "    if v1 == v2:\n",
    "        ans += min(l1, l2)\n",
    "    "
   ]
  },
  {
   "cell_type": "code",
   "execution_count": 31,
   "id": "8683554d-5985-4a78-93dd-35d00ab09d33",
   "metadata": {},
   "outputs": [
    {
     "name": "stdout",
     "output_type": "stream",
     "text": [
      "4\n"
     ]
    }
   ],
   "source": [
    "print(ans)"
   ]
  },
  {
   "cell_type": "code",
   "execution_count": 25,
   "id": "7afa1394-3bf1-4f33-a977-501a1952ccbe",
   "metadata": {},
   "outputs": [
    {
     "data": {
      "text/plain": [
       "(4, 2)"
      ]
     },
     "execution_count": 25,
     "metadata": {},
     "output_type": "execute_result"
    }
   ],
   "source": [
    "i1, i2"
   ]
  },
  {
   "cell_type": "code",
   "execution_count": 26,
   "id": "c9988e0e-bbd0-4bd4-91c2-170b9865a97e",
   "metadata": {},
   "outputs": [
    {
     "data": {
      "text/plain": [
       "(100000000000000000000, 0, 2, 1)"
      ]
     },
     "execution_count": 26,
     "metadata": {},
     "output_type": "execute_result"
    }
   ],
   "source": [
    "v1, l1, v2, l2"
   ]
  },
  {
   "cell_type": "code",
   "execution_count": null,
   "id": "2ddfcec4-70b3-4f66-b8eb-fef87426e412",
   "metadata": {},
   "outputs": [],
   "source": []
  }
 ],
 "metadata": {
  "kernelspec": {
   "display_name": "Python 3",
   "language": "python",
   "name": "python3"
  },
  "language_info": {
   "codemirror_mode": {
    "name": "ipython",
    "version": 3
   },
   "file_extension": ".py",
   "mimetype": "text/x-python",
   "name": "python",
   "nbconvert_exporter": "python",
   "pygments_lexer": "ipython3",
   "version": "3.6.13"
  }
 },
 "nbformat": 4,
 "nbformat_minor": 5
}
