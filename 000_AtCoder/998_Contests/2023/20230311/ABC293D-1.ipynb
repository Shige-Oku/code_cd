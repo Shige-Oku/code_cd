{
 "cells": [
  {
   "cell_type": "code",
   "execution_count": 1,
   "id": "c0a71dbf-156d-4753-aaa2-198bd2388316",
   "metadata": {},
   "outputs": [],
   "source": [
    "import sys\n",
    "import numpy as np\n",
    "import math\n",
    "import collections\n",
    "import copy\n",
    "import decimal\n",
    "import itertools\n",
    "import re\n",
    "import bisect\n",
    "import scipy\n",
    "import heapq\n",
    "from collections import deque \n",
    "from functools import reduce\n",
    "from itertools import product\n",
    "from itertools import combinations\n",
    "from functools import lru_cache\n",
    "from scipy.special import comb\n",
    "from numba import njit\n",
    "from bisect import bisect_right\n",
    "from bisect import bisect_left"
   ]
  },
  {
   "cell_type": "code",
   "execution_count": 2,
   "id": "2bfae551-6a84-4758-89df-5e94c86b4762",
   "metadata": {},
   "outputs": [
    {
     "name": "stdin",
     "output_type": "stream",
     "text": [
      " 5 3\n"
     ]
    }
   ],
   "source": [
    "N, M = map(int, input().split())"
   ]
  },
  {
   "cell_type": "code",
   "execution_count": 3,
   "id": "ee6d119e-fe9a-4381-9d94-c1e71bf1ee8d",
   "metadata": {},
   "outputs": [
    {
     "name": "stdin",
     "output_type": "stream",
     "text": [
      " 3 R 5 B\n",
      " 5 R 3 B\n",
      " 4 R 2 B\n"
     ]
    }
   ],
   "source": [
    "ABCDm = [list(input().split()) for _ in range(M)]"
   ]
  },
  {
   "cell_type": "code",
   "execution_count": 16,
   "id": "79e0a2bd-7345-48b3-b88e-035e220b6e3c",
   "metadata": {},
   "outputs": [],
   "source": [
    "graph = [[] for _ in range(N+1)]\n",
    "for A, B, C, D in ABCDm:\n",
    "    graph[int(A)].append(int(C))\n",
    "    graph[int(C)].append(int(A))"
   ]
  },
  {
   "cell_type": "code",
   "execution_count": 34,
   "id": "d8c8ac33-913e-4624-9461-318aa0103cf9",
   "metadata": {},
   "outputs": [],
   "source": [
    "from collections import deque\n",
    "def BFS(n):\n",
    "    q = deque()\n",
    "    q.append(n)\n",
    "    visit[n] = 0\n",
    "    f = False\n",
    "    t = 1\n",
    "    h = 0\n",
    "    while q:\n",
    "        p = q.popleft()\n",
    "        for n in graph[p]:\n",
    "            if visit[n] != -1:\n",
    "                h += 1\n",
    "                continue\n",
    "            visit[n] = visit[p] + 1\n",
    "            q.append(n)\n",
    "            t += 1\n",
    "            h += 1\n",
    "#     print(n, t, h)\n",
    "    return t == h//2"
   ]
  },
  {
   "cell_type": "code",
   "execution_count": 35,
   "id": "13468d86-412f-4975-b616-4bdd7a67f8b3",
   "metadata": {},
   "outputs": [],
   "source": [
    "nc, c = 0, 0\n",
    "visit = [-1] * (N+1)\n",
    "for i in range(1, N+1):\n",
    "    if visit[i] != -1:\n",
    "        continue\n",
    "    if BFS(i):\n",
    "        c += 1\n",
    "    else:\n",
    "        nc += 1"
   ]
  },
  {
   "cell_type": "code",
   "execution_count": 36,
   "id": "6af009fa-2fbb-4c70-8806-334fa328422e",
   "metadata": {},
   "outputs": [
    {
     "name": "stdout",
     "output_type": "stream",
     "text": [
      "1 2\n"
     ]
    }
   ],
   "source": [
    "print(c, nc)"
   ]
  },
  {
   "cell_type": "code",
   "execution_count": 19,
   "id": "72a493de-3f46-4cdd-80ab-5974865c5d5c",
   "metadata": {},
   "outputs": [
    {
     "data": {
      "text/plain": [
       "[-1, 0, 0, 0, 1, 1]"
      ]
     },
     "execution_count": 19,
     "metadata": {},
     "output_type": "execute_result"
    }
   ],
   "source": [
    "visit"
   ]
  },
  {
   "cell_type": "code",
   "execution_count": 21,
   "id": "46b98714-dd31-4cb3-a61f-6abf0eabfe6d",
   "metadata": {},
   "outputs": [
    {
     "data": {
      "text/plain": [
       "[[], [], [4], [5, 5], [2], [3, 3]]"
      ]
     },
     "execution_count": 21,
     "metadata": {},
     "output_type": "execute_result"
    }
   ],
   "source": [
    "graph"
   ]
  },
  {
   "cell_type": "code",
   "execution_count": 14,
   "id": "e57757a6-2c34-400a-b5ad-df6b12934595",
   "metadata": {},
   "outputs": [
    {
     "data": {
      "text/plain": [
       "(2, 2)"
      ]
     },
     "execution_count": 14,
     "metadata": {},
     "output_type": "execute_result"
    }
   ],
   "source": [
    "nc, c"
   ]
  },
  {
   "cell_type": "code",
   "execution_count": 6,
   "id": "3a471cab-e42a-48be-89ff-f55654b559fe",
   "metadata": {},
   "outputs": [],
   "source": [
    "graph = [[] for _ in range(N+1)]\n",
    "for A, B, C, D in ABCDm:\n",
    "    if B == 'R':\n",
    "        graph[int(A)].append(int(C))\n",
    "    else:\n",
    "        graph[int(C)].append(int(A))"
   ]
  },
  {
   "cell_type": "code",
   "execution_count": null,
   "id": "3d04d232-80e6-4002-8d6d-d213efc014da",
   "metadata": {},
   "outputs": [],
   "source": []
  }
 ],
 "metadata": {
  "kernelspec": {
   "display_name": "Python 3",
   "language": "python",
   "name": "python3"
  },
  "language_info": {
   "codemirror_mode": {
    "name": "ipython",
    "version": 3
   },
   "file_extension": ".py",
   "mimetype": "text/x-python",
   "name": "python",
   "nbconvert_exporter": "python",
   "pygments_lexer": "ipython3",
   "version": "3.6.13"
  }
 },
 "nbformat": 4,
 "nbformat_minor": 5
}
