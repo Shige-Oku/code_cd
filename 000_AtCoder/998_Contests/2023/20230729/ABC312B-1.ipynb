{
 "cells": [
  {
   "cell_type": "code",
   "execution_count": 1,
   "id": "70a710e4-b28b-473d-a00a-1496ef3e2aa1",
   "metadata": {
    "tags": []
   },
   "outputs": [],
   "source": [
    "import sys\n",
    "import numpy as np\n",
    "import math\n",
    "import collections\n",
    "import copy\n",
    "import decimal\n",
    "import itertools\n",
    "import re\n",
    "import bisect\n",
    "import scipy\n",
    "import heapq\n",
    "from collections import deque \n",
    "from functools import reduce\n",
    "from itertools import product\n",
    "from itertools import combinations\n",
    "from functools import lru_cache\n",
    "from scipy.special import comb\n",
    "from numba import njit\n",
    "from bisect import bisect_right\n",
    "from bisect import bisect_left"
   ]
  },
  {
   "cell_type": "code",
   "execution_count": 73,
   "id": "ff7cf1d4-a791-4be2-b1f0-ee56ec8f92e9",
   "metadata": {
    "tags": []
   },
   "outputs": [
    {
     "name": "stdin",
     "output_type": "stream",
     "text": [
      " 9 21\n"
     ]
    }
   ],
   "source": [
    "N, M = map(int, input().split())"
   ]
  },
  {
   "cell_type": "code",
   "execution_count": 74,
   "id": "2a7cce9d-8b2f-4380-81dc-33876537099e",
   "metadata": {
    "tags": []
   },
   "outputs": [
    {
     "name": "stdin",
     "output_type": "stream",
     "text": [
      " ###.#...........#.###\n",
      " ###.#...........#.###\n",
      " ###.#...........#.###\n",
      " ....#...........#....\n",
      " #########...#########\n",
      " ....#...........#....\n",
      " ....#.###...###.#....\n",
      " ....#.###...###.#....\n",
      " ....#.###...###.#....\n"
     ]
    }
   ],
   "source": [
    "Sn = [input() for _ in range(N)]"
   ]
  },
  {
   "cell_type": "code",
   "execution_count": 112,
   "id": "22866f5e-b287-4e88-ab8b-70d4f481c9fa",
   "metadata": {
    "tags": []
   },
   "outputs": [],
   "source": [
    "def check1(h, w):\n",
    "    for h1 in range(h, h+3):\n",
    "        for w1 in range(w, w+3):\n",
    "            if Sn[h1][w1] != '#':\n",
    "                # print(h1, w1)\n",
    "                # print(Sn[h1])\n",
    "                return False\n",
    "    \n",
    "    return True"
   ]
  },
  {
   "cell_type": "code",
   "execution_count": 116,
   "id": "0db39848-da60-4825-8e85-fd2b76a4fb6f",
   "metadata": {
    "tags": []
   },
   "outputs": [],
   "source": [
    "def check(h, w):\n",
    "    if not check1(h, w):\n",
    "        # print(1)\n",
    "        return False\n",
    "    w1 = w + 3\n",
    "    for h1 in range(h, h+4):\n",
    "        if Sn[h1][w1] != '.':\n",
    "            # print(3, h1, w1)\n",
    "            # print(Sn[h1])\n",
    "            # print(Sn[h1][w1])\n",
    "            return False\n",
    "    h1 = h + 3\n",
    "    for w1 in range(w, w+4):\n",
    "        if Sn[h1][w1] != '.':\n",
    "            # print(4, h1, w1)\n",
    "            return False\n",
    "        \n",
    "    if not check1(h+6, w+6):\n",
    "        # print(5)\n",
    "        return False\n",
    "    w1 = w + 6 - 1\n",
    "    for h1 in range(h-1+6, h+3+6):\n",
    "        if Sn[h1][w1] != '.':\n",
    "            # print(6)\n",
    "            return False\n",
    "    h1 = h + 6 - 1\n",
    "    for w1 in range(w+6, w+6+3):\n",
    "        if Sn[h1][w1] != '.':\n",
    "            # print(7, h1, w1)\n",
    "            # print(Sn[h1])\n",
    "            return False\n",
    "    return True"
   ]
  },
  {
   "cell_type": "code",
   "execution_count": 117,
   "id": "a7619c6e-8c54-4b9d-a9fe-97082ca5f337",
   "metadata": {
    "tags": []
   },
   "outputs": [],
   "source": [
    "ans = []\n",
    "for n in range(N-8):\n",
    "    for m in range(M-8):\n",
    "        # print(n, m)\n",
    "        if check(n, m):\n",
    "            ans.append([n+1, m+1])"
   ]
  },
  {
   "cell_type": "code",
   "execution_count": 118,
   "id": "492d2e38-abe1-4157-96f5-e0c99ea9a55b",
   "metadata": {
    "tags": []
   },
   "outputs": [
    {
     "name": "stdout",
     "output_type": "stream",
     "text": [
      "1 1\n"
     ]
    }
   ],
   "source": [
    "for h, w in ans:\n",
    "    print(h, w)"
   ]
  },
  {
   "cell_type": "code",
   "execution_count": 79,
   "id": "9fdb649b-7319-4c0a-9195-9a78a7ffbb79",
   "metadata": {
    "tags": []
   },
   "outputs": [
    {
     "data": {
      "text/plain": [
       "[]"
      ]
     },
     "execution_count": 79,
     "metadata": {},
     "output_type": "execute_result"
    }
   ],
   "source": [
    "ans"
   ]
  },
  {
   "cell_type": "code",
   "execution_count": 58,
   "id": "a3e173e5-8cf6-4c83-8739-249f991123e9",
   "metadata": {
    "tags": []
   },
   "outputs": [
    {
     "data": {
      "text/plain": [
       "(10, 9)"
      ]
     },
     "execution_count": 58,
     "metadata": {},
     "output_type": "execute_result"
    }
   ],
   "source": [
    "n, m"
   ]
  },
  {
   "cell_type": "code",
   "execution_count": 103,
   "id": "d0d6c554-439e-4fc5-9377-a8f5d69b04cf",
   "metadata": {
    "tags": []
   },
   "outputs": [
    {
     "data": {
      "text/plain": [
       "True"
      ]
     },
     "execution_count": 103,
     "metadata": {},
     "output_type": "execute_result"
    }
   ],
   "source": [
    "check(0, 0)"
   ]
  },
  {
   "cell_type": "code",
   "execution_count": null,
   "id": "8b8f54da-be52-4009-8187-7880212bed1d",
   "metadata": {},
   "outputs": [],
   "source": []
  }
 ],
 "metadata": {
  "kernelspec": {
   "display_name": "Python 3 (ipykernel)",
   "language": "python",
   "name": "python3"
  },
  "language_info": {
   "codemirror_mode": {
    "name": "ipython",
    "version": 3
   },
   "file_extension": ".py",
   "mimetype": "text/x-python",
   "name": "python",
   "nbconvert_exporter": "python",
   "pygments_lexer": "ipython3",
   "version": "3.11.3"
  }
 },
 "nbformat": 4,
 "nbformat_minor": 5
}
