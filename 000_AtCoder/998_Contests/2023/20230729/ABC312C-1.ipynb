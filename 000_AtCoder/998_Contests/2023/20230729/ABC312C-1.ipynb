{
 "cells": [
  {
   "cell_type": "code",
   "execution_count": 1,
   "id": "ef53a294-f1cf-4885-a3a4-09d1b6877486",
   "metadata": {
    "tags": []
   },
   "outputs": [],
   "source": [
    "import sys\n",
    "import numpy as np\n",
    "import math\n",
    "import collections\n",
    "import copy\n",
    "import decimal\n",
    "import itertools\n",
    "import re\n",
    "import bisect\n",
    "import scipy\n",
    "import heapq\n",
    "from collections import deque \n",
    "from functools import reduce\n",
    "from itertools import product\n",
    "from itertools import combinations\n",
    "from functools import lru_cache\n",
    "from scipy.special import comb\n",
    "from numba import njit\n",
    "from bisect import bisect_right\n",
    "from bisect import bisect_left"
   ]
  },
  {
   "cell_type": "code",
   "execution_count": 107,
   "id": "dd726894-af12-425b-a407-7a30577f911c",
   "metadata": {
    "tags": []
   },
   "outputs": [
    {
     "name": "stdin",
     "output_type": "stream",
     "text": [
      " 3 4\n"
     ]
    }
   ],
   "source": [
    "N, M = map(int, input().split())"
   ]
  },
  {
   "cell_type": "code",
   "execution_count": 115,
   "id": "f6efdcac-586b-4ffb-a4d1-e4ae536f94ab",
   "metadata": {
    "tags": []
   },
   "outputs": [
    {
     "name": "stdin",
     "output_type": "stream",
     "text": [
      " 110 90 120\n"
     ]
    }
   ],
   "source": [
    "An = list(map(int, input().split()))"
   ]
  },
  {
   "cell_type": "code",
   "execution_count": 116,
   "id": "d1f22421-e539-4ab4-b9de-b2bde7cb660c",
   "metadata": {
    "tags": []
   },
   "outputs": [
    {
     "name": "stdin",
     "output_type": "stream",
     "text": [
      " 100 80 120 10000\n"
     ]
    }
   ],
   "source": [
    "Bn = list(map(int, input().split()))"
   ]
  },
  {
   "cell_type": "code",
   "execution_count": 124,
   "id": "ae6de281-a5a1-43f7-b194-cd8e9390b0e4",
   "metadata": {
    "tags": []
   },
   "outputs": [],
   "source": [
    "import bisect\n",
    "An_s = sorted(An)\n",
    "Bn_s = sorted(Bn)\n",
    "money = set()\n",
    "for A in An:\n",
    "    money.add(A)\n",
    "for B in Bn:\n",
    "    money.add(B+1)\n",
    "money = list(money)\n",
    "money.sort()"
   ]
  },
  {
   "cell_type": "code",
   "execution_count": 125,
   "id": "a1acb3bb-a3b2-4faf-9f24-1837fe684b6c",
   "metadata": {
    "tags": []
   },
   "outputs": [
    {
     "name": "stdout",
     "output_type": "stream",
     "text": [
      "110\n"
     ]
    }
   ],
   "source": [
    "for m in money:\n",
    "    ai = bisect.bisect_right(An_s, m)\n",
    "    bi = bisect.bisect_left(Bn_s, m)\n",
    "    if ai >= M-bi:\n",
    "        print(m)\n",
    "        break\n"
   ]
  },
  {
   "cell_type": "code",
   "execution_count": 129,
   "id": "4ac004ec-6bec-43de-a037-7730af0ebec9",
   "metadata": {
    "tags": []
   },
   "outputs": [
    {
     "name": "stdout",
     "output_type": "stream",
     "text": [
      "110\n"
     ]
    }
   ],
   "source": [
    "for ai, A in enumerate(An_s):\n",
    "    bi = bisect.bisect_left(Bn_s, A)\n",
    "    if bi == M:\n",
    "        print(Bn_s[-1]+1)\n",
    "        break\n",
    "    # print(A, ai, bi, M-bi)\n",
    "    if ai+1 >= M-bi:\n",
    "        print(min(A, Bn_s[bi]+1))\n",
    "        break\n",
    "else:\n",
    "    print(Bn_s[-1]+1)\n"
   ]
  },
  {
   "cell_type": "code",
   "execution_count": 126,
   "id": "f4956ed5-997c-4a60-aeae-1b5ef5f40d8b",
   "metadata": {
    "tags": []
   },
   "outputs": [
    {
     "name": "stdout",
     "output_type": "stream",
     "text": [
      "110\n"
     ]
    }
   ],
   "source": [
    "for A in An_s:\n",
    "    ai = bisect.bisect_right(An_s, A)\n",
    "    bi = bisect.bisect_left(Bn_s, A)\n",
    "    if bi == M:\n",
    "        print(Bn_s[-1]+1)\n",
    "        break\n",
    "    if ai >= M-bi:\n",
    "        print(A)\n",
    "        break"
   ]
  },
  {
   "cell_type": "code",
   "execution_count": 93,
   "id": "f6acba0c-7555-4782-aa93-c6ace785945f",
   "metadata": {
    "tags": []
   },
   "outputs": [
    {
     "data": {
      "text/plain": [
       "(0, 1, [81, 100, 121])"
      ]
     },
     "execution_count": 93,
     "metadata": {},
     "output_type": "execute_result"
    }
   ],
   "source": [
    "ai, bi, money"
   ]
  },
  {
   "cell_type": "code",
   "execution_count": 42,
   "id": "e84eb77f-37ab-42c7-bcdc-be51549439aa",
   "metadata": {
    "tags": []
   },
   "outputs": [
    {
     "name": "stdout",
     "output_type": "stream",
     "text": [
      "120\n"
     ]
    }
   ],
   "source": [
    "for i, B in enumerate(Bn_s):\n",
    "    ai = bisect.bisect_left(An_s, B)\n",
    "    if An_s[ai] != B:\n",
    "        ai -= 1\n",
    "    # bi = bisect.bisect_right(Bn_s, B)\n",
    "    if ai >= M-i:\n",
    "        print(An_s[ai])\n",
    "        break\n",
    "else:\n",
    "    print(Bn_s[-1]+1)\n",
    "    "
   ]
  },
  {
   "cell_type": "code",
   "execution_count": 38,
   "id": "a6a31a7d-9d6f-4f9e-a02a-3fb2af3a29bf",
   "metadata": {
    "tags": []
   },
   "outputs": [
    {
     "data": {
      "text/plain": [
       "([90, 110, 120], [80, 100, 120, 10000])"
      ]
     },
     "execution_count": 38,
     "metadata": {},
     "output_type": "execute_result"
    }
   ],
   "source": [
    "An_s, Bn_s"
   ]
  },
  {
   "cell_type": "code",
   "execution_count": null,
   "id": "ec480d6c-c968-4e9a-b760-e1de04e9ac48",
   "metadata": {},
   "outputs": [],
   "source": []
  },
  {
   "cell_type": "code",
   "execution_count": 25,
   "id": "79fae966-729a-4d7c-9c2d-463d1a8561b6",
   "metadata": {
    "tags": []
   },
   "outputs": [
    {
     "name": "stdout",
     "output_type": "stream",
     "text": [
      "100\n"
     ]
    }
   ],
   "source": [
    "for A in An_s:\n",
    "    ai = bisect.bisect_right(An_s, A)\n",
    "    bi = bisect.bisect_right(Bn_s, A)\n",
    "    if ai == 0:\n",
    "        continue\n",
    "    if ai >= M-bi:\n",
    "        if M-bi == 0:\n",
    "            print(Bn_s[-1]+1)\n",
    "        else:\n",
    "            print(A)\n",
    "        break"
   ]
  },
  {
   "cell_type": "code",
   "execution_count": null,
   "id": "0f8bf6f6-ac73-47ed-a431-976186a4f6bb",
   "metadata": {},
   "outputs": [],
   "source": []
  }
 ],
 "metadata": {
  "kernelspec": {
   "display_name": "Python 3 (ipykernel)",
   "language": "python",
   "name": "python3"
  },
  "language_info": {
   "codemirror_mode": {
    "name": "ipython",
    "version": 3
   },
   "file_extension": ".py",
   "mimetype": "text/x-python",
   "name": "python",
   "nbconvert_exporter": "python",
   "pygments_lexer": "ipython3",
   "version": "3.11.3"
  }
 },
 "nbformat": 4,
 "nbformat_minor": 5
}
