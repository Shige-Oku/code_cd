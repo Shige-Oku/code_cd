{
 "cells": [
  {
   "cell_type": "code",
   "execution_count": 1,
   "id": "0d61bb7b-32f9-46c3-a28a-fd8f953076fe",
   "metadata": {},
   "outputs": [],
   "source": [
    "import sys\n",
    "import numpy as np\n",
    "import math\n",
    "import collections\n",
    "import copy\n",
    "import decimal\n",
    "import itertools\n",
    "import re\n",
    "import bisect\n",
    "import scipy\n",
    "import heapq\n",
    "from collections import deque \n",
    "from functools import reduce\n",
    "from itertools import product\n",
    "from itertools import combinations\n",
    "from functools import lru_cache\n",
    "from scipy.special import comb\n",
    "from numba import njit\n",
    "from bisect import bisect_right\n",
    "from bisect import bisect_left"
   ]
  },
  {
   "cell_type": "code",
   "execution_count": 14,
   "id": "417e1e19-faad-4d63-b23f-1c2b58b35695",
   "metadata": {},
   "outputs": [
    {
     "name": "stdin",
     "output_type": "stream",
     "text": [
      " 500600\n"
     ]
    }
   ],
   "source": [
    "N = int(input())"
   ]
  },
  {
   "cell_type": "code",
   "execution_count": 15,
   "id": "0064455f-7e04-4fd9-bc36-35d30b68d18b",
   "metadata": {},
   "outputs": [],
   "source": [
    "def solve():\n",
    "    ret = 0\n",
    "    if N < 10 ** 3:\n",
    "        return N\n",
    "    if N < 10**4:\n",
    "        return N // 10 * 10\n",
    "    if N < 10**5:\n",
    "        return N // 100 * 100\n",
    "    if N < 10**6:\n",
    "        return N // 1000 * 1000\n",
    "    if N < 10**7:\n",
    "        return N // 10000 * 10000\n",
    "    if N < 10**8:\n",
    "        return N // 100000 * 100000\n",
    "    \n",
    "    return N // 1000000 * 1000000"
   ]
  },
  {
   "cell_type": "code",
   "execution_count": 16,
   "id": "cb9d5973-2967-4b72-8221-a81110778414",
   "metadata": {},
   "outputs": [
    {
     "name": "stdout",
     "output_type": "stream",
     "text": [
      "500000\n"
     ]
    }
   ],
   "source": [
    "print(solve())"
   ]
  },
  {
   "cell_type": "code",
   "execution_count": null,
   "id": "68745a68-e968-4d53-aba4-080e36d289e0",
   "metadata": {},
   "outputs": [],
   "source": []
  }
 ],
 "metadata": {
  "kernelspec": {
   "display_name": "Python 3",
   "language": "python",
   "name": "python3"
  },
  "language_info": {
   "codemirror_mode": {
    "name": "ipython",
    "version": 3
   },
   "file_extension": ".py",
   "mimetype": "text/x-python",
   "name": "python",
   "nbconvert_exporter": "python",
   "pygments_lexer": "ipython3",
   "version": "3.6.13"
  }
 },
 "nbformat": 4,
 "nbformat_minor": 5
}
