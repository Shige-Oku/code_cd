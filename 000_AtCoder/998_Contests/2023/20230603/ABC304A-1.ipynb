{
 "cells": [
  {
   "cell_type": "code",
   "execution_count": 1,
   "id": "0ac1ab05-beb6-4b35-abce-591a5f1dade5",
   "metadata": {},
   "outputs": [],
   "source": [
    "import sys\n",
    "import numpy as np\n",
    "import math\n",
    "import collections\n",
    "import copy\n",
    "import decimal\n",
    "import itertools\n",
    "import re\n",
    "import bisect\n",
    "import scipy\n",
    "import heapq\n",
    "from collections import deque \n",
    "from functools import reduce\n",
    "from itertools import product\n",
    "from itertools import combinations\n",
    "from functools import lru_cache\n",
    "from scipy.special import comb\n",
    "from numba import njit\n",
    "from bisect import bisect_right\n",
    "from bisect import bisect_left"
   ]
  },
  {
   "cell_type": "code",
   "execution_count": 2,
   "id": "bd7e2dee-39e7-4554-9cb5-236af58ffa77",
   "metadata": {},
   "outputs": [
    {
     "name": "stdin",
     "output_type": "stream",
     "text": [
      " 5\n"
     ]
    }
   ],
   "source": [
    "N = int(input())"
   ]
  },
  {
   "cell_type": "code",
   "execution_count": 7,
   "id": "c06aebac-d847-4a99-bbc8-29587f13935d",
   "metadata": {},
   "outputs": [
    {
     "name": "stdin",
     "output_type": "stream",
     "text": [
      " alice\n",
      " 31\n",
      " bob\n",
      " 41\n",
      " carol\n",
      " 5\n",
      " dave\n",
      " 92\n",
      " ellen\n",
      " 65\n"
     ]
    }
   ],
   "source": [
    "SAn = []\n",
    "mi = 10**10\n",
    "for _ in range(N):\n",
    "    S = input()\n",
    "    A = int(input())\n",
    "    SAn.append((A, S))\n",
    "    mi = min(mi, A)"
   ]
  },
  {
   "cell_type": "code",
   "execution_count": 9,
   "id": "d07635dd-d1e9-4e01-ba01-ebc15b1787f3",
   "metadata": {},
   "outputs": [
    {
     "name": "stdout",
     "output_type": "stream",
     "text": [
      "carol\n",
      "dave\n",
      "ellen\n"
     ]
    }
   ],
   "source": [
    "e = -1\n",
    "for i, (A, S) in enumerate(SAn):\n",
    "    if A == mi:\n",
    "        print(S)\n",
    "        e = i\n",
    "        continue\n",
    "    if e == -1:\n",
    "        continue\n",
    "    print(S)"
   ]
  },
  {
   "cell_type": "code",
   "execution_count": 10,
   "id": "539fcfa9-6761-4b2d-bc2a-de245e473a8f",
   "metadata": {},
   "outputs": [
    {
     "name": "stdout",
     "output_type": "stream",
     "text": [
      "alice\n",
      "bob\n"
     ]
    }
   ],
   "source": [
    "for A, S in SAn[:e]:\n",
    "    print(S)"
   ]
  },
  {
   "cell_type": "code",
   "execution_count": 8,
   "id": "967e727e-2d7a-4e94-9194-ccd675c0280a",
   "metadata": {},
   "outputs": [
    {
     "data": {
      "text/plain": [
       "([(31, 'alice'), (41, 'bob'), (5, 'carol'), (92, 'dave'), (65, 'ellen')], 5)"
      ]
     },
     "execution_count": 8,
     "metadata": {},
     "output_type": "execute_result"
    }
   ],
   "source": [
    "SAn, mi"
   ]
  },
  {
   "cell_type": "code",
   "execution_count": null,
   "id": "6120ad9f-2585-4bd9-b968-0fff522e1d64",
   "metadata": {},
   "outputs": [],
   "source": []
  }
 ],
 "metadata": {
  "kernelspec": {
   "display_name": "Python 3",
   "language": "python",
   "name": "python3"
  },
  "language_info": {
   "codemirror_mode": {
    "name": "ipython",
    "version": 3
   },
   "file_extension": ".py",
   "mimetype": "text/x-python",
   "name": "python",
   "nbconvert_exporter": "python",
   "pygments_lexer": "ipython3",
   "version": "3.6.13"
  }
 },
 "nbformat": 4,
 "nbformat_minor": 5
}
