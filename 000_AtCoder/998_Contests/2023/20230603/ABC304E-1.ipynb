{
 "cells": [
  {
   "cell_type": "code",
   "execution_count": 1,
   "id": "f35dcecf-9c2d-4858-8315-325b2f938a61",
   "metadata": {},
   "outputs": [],
   "source": [
    "import sys\n",
    "import numpy as np\n",
    "import math\n",
    "import collections\n",
    "import copy\n",
    "import decimal\n",
    "import itertools\n",
    "import re\n",
    "import bisect\n",
    "import scipy\n",
    "import heapq\n",
    "from collections import deque \n",
    "from functools import reduce\n",
    "from itertools import product\n",
    "from itertools import combinations\n",
    "from functools import lru_cache\n",
    "from scipy.special import comb\n",
    "from numba import njit\n",
    "from bisect import bisect_right\n",
    "from bisect import bisect_left"
   ]
  },
  {
   "cell_type": "code",
   "execution_count": 2,
   "id": "f565ea53-5f30-4686-be3f-f13557d759b5",
   "metadata": {},
   "outputs": [
    {
     "name": "stdin",
     "output_type": "stream",
     "text": [
      " 6 6\n"
     ]
    }
   ],
   "source": [
    "N, M = map(int, input().split())"
   ]
  },
  {
   "cell_type": "code",
   "execution_count": 3,
   "id": "fe0db398-ebed-4d1d-b203-9422095bb6d0",
   "metadata": {},
   "outputs": [
    {
     "name": "stdin",
     "output_type": "stream",
     "text": [
      " 1 2\n",
      " 2 3\n",
      " 2 3\n",
      " 3 1\n",
      " 5 4\n",
      " 5 5\n"
     ]
    }
   ],
   "source": [
    "UVm = [list(map(int, input().split())) for _ in range(M)]"
   ]
  },
  {
   "cell_type": "code",
   "execution_count": 4,
   "id": "ea2ce564-1e81-4fc8-98a0-ee72343a7d1c",
   "metadata": {},
   "outputs": [
    {
     "name": "stdin",
     "output_type": "stream",
     "text": [
      " 3\n"
     ]
    }
   ],
   "source": [
    "K = int(input())"
   ]
  },
  {
   "cell_type": "code",
   "execution_count": 5,
   "id": "eeae6768-cbc7-4435-845f-2530dcb4c7b5",
   "metadata": {},
   "outputs": [
    {
     "name": "stdin",
     "output_type": "stream",
     "text": [
      " 1 5\n",
      " 2 6\n",
      " 4 3\n"
     ]
    }
   ],
   "source": [
    "XYk = [list(map(int, input().split())) for _ in range(K)]"
   ]
  },
  {
   "cell_type": "code",
   "execution_count": 6,
   "id": "b7bcc006-f28a-4f08-89f3-3e0e1a6b8ea7",
   "metadata": {},
   "outputs": [
    {
     "name": "stdin",
     "output_type": "stream",
     "text": [
      " 4\n"
     ]
    }
   ],
   "source": [
    "Q = int(input())"
   ]
  },
  {
   "cell_type": "code",
   "execution_count": 7,
   "id": "970ce83c-d71d-44a8-8780-853b53b97bb1",
   "metadata": {},
   "outputs": [
    {
     "name": "stdin",
     "output_type": "stream",
     "text": [
      " 2 5\n",
      " 2 6\n",
      " 5 6\n",
      " 5 4\n"
     ]
    }
   ],
   "source": [
    "PQq = [list(map(int, input().split())) for _ in range(Q)]"
   ]
  },
  {
   "cell_type": "code",
   "execution_count": 8,
   "id": "e0bd2372-168d-4787-8e12-b22bb28c6c62",
   "metadata": {},
   "outputs": [],
   "source": [
    "from collections import defaultdict\n",
    "import sys\n",
    "sys.setrecursionlimit(10**7)\n",
    "class UnionFind():\n",
    "    # イニシャライザ\n",
    "    def __init__(self, n):\n",
    "        self.n = n  # 頂点の数\n",
    "        self.parents = [-1] * n  # 親の頂点。根は -1\n",
    "        self.size = [1] * n  # 各頂点の所属する木の頂点数\n",
    "        sys.setrecursionlimit(10**7)\n",
    "        \n",
    "    # 根を返す\n",
    "    def root(self, x):\n",
    "        if self.parents[x] < 0: # 根なのでそのまま返す\n",
    "            return x\n",
    "        else:\n",
    "            self.parents[x] = self.root(self.parents[x])  # 経路圧縮\n",
    "            return self.parents[x]\n",
    "        \n",
    "    # x, y が同じ木に属するか\n",
    "    def issame(self, x, y):\n",
    "        return self.root(x) == self.root(y)\n",
    "    \n",
    "    # x y を併合する    \n",
    "    def unite(self, x, y):\n",
    "        x = self.root(x)\n",
    "        y = self.root(y)\n",
    "        \n",
    "        # 元々同じ木に所属するので、何もせずリターン\n",
    "        if x == y:\n",
    "            return False\n",
    "        \n",
    "        # 大きいほうにまとめる。 y を x にまとめるようにスワップ\n",
    "        if self.parents[x] < self.parents[y]:\n",
    "            x, y = y, x\n",
    "        # 小さいほうの親を大きいほうを親に\n",
    "        self.parents[y] = x\n",
    "        # 大きいほうの頂点に小さいほうの数を加算\n",
    "        self.size[x] += self.size[y]\n",
    "        return True\n",
    "    \n",
    "    # x の所属する頂点数を返す\n",
    "    def getsize(self, x):\n",
    "        return self.size[self.root(x)]\n",
    "\n",
    "    # x の所属する頂点の一覧を返す\n",
    "    def getmembers(self, x):\n",
    "        root = self.root(x)\n",
    "        return [i for i in range(self.n) if self.root(i) == root]    "
   ]
  },
  {
   "cell_type": "code",
   "execution_count": 9,
   "id": "37326f04-65b9-43b6-9dfe-3fe8a3fc49eb",
   "metadata": {},
   "outputs": [],
   "source": [
    "uf = UnionFind(N+1)\n",
    "for U, V in UVm:\n",
    "    uf.unite(U, V)"
   ]
  },
  {
   "cell_type": "code",
   "execution_count": 18,
   "id": "7557af13-8507-4606-ab0d-ffce499d74a0",
   "metadata": {},
   "outputs": [
    {
     "name": "stdout",
     "output_type": "stream",
     "text": [
      "No\n",
      "No\n",
      "Yes\n",
      "Yes\n"
     ]
    }
   ],
   "source": [
    "par = set()\n",
    "for X, Y in XYk:\n",
    "    par.add((uf.root(X), uf.root(Y)))\n",
    "    par.add((uf.root(Y), uf.root(X)))\n",
    "\n",
    "for P, Q in PQq:\n",
    "    if (uf.root(P), uf.root(Q)) in par:\n",
    "        print('No')\n",
    "        continue\n",
    "    if (uf.root(Q), uf.root(P)) in par:\n",
    "        print('No')\n",
    "        continue        \n",
    "    print('Yes')"
   ]
  },
  {
   "cell_type": "code",
   "execution_count": 11,
   "id": "0ce4744c-f1a7-4ec2-98ab-a0850827afe2",
   "metadata": {},
   "outputs": [
    {
     "data": {
      "text/plain": [
       "{(1, 5), (1, 6), (5, 1), (6, 1)}"
      ]
     },
     "execution_count": 11,
     "metadata": {},
     "output_type": "execute_result"
    }
   ],
   "source": [
    "par"
   ]
  },
  {
   "cell_type": "code",
   "execution_count": 15,
   "id": "3bd10b92-b080-4f1a-8610-f97ab53bd807",
   "metadata": {},
   "outputs": [
    {
     "data": {
      "text/plain": [
       "(6, 5)"
      ]
     },
     "execution_count": 15,
     "metadata": {},
     "output_type": "execute_result"
    }
   ],
   "source": [
    "uf.root(6), uf.root(5)"
   ]
  },
  {
   "cell_type": "code",
   "execution_count": null,
   "id": "bf9d5b15-be07-4a29-b4c7-ec45eba38706",
   "metadata": {},
   "outputs": [],
   "source": []
  }
 ],
 "metadata": {
  "kernelspec": {
   "display_name": "Python 3",
   "language": "python",
   "name": "python3"
  },
  "language_info": {
   "codemirror_mode": {
    "name": "ipython",
    "version": 3
   },
   "file_extension": ".py",
   "mimetype": "text/x-python",
   "name": "python",
   "nbconvert_exporter": "python",
   "pygments_lexer": "ipython3",
   "version": "3.6.13"
  }
 },
 "nbformat": 4,
 "nbformat_minor": 5
}
