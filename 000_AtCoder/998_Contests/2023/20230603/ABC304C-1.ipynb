{
 "cells": [
  {
   "cell_type": "code",
   "execution_count": 1,
   "id": "4852fd87-03ee-4501-9b77-c811b8e5a7d7",
   "metadata": {},
   "outputs": [],
   "source": [
    "import sys\n",
    "import numpy as np\n",
    "import math\n",
    "import collections\n",
    "import copy\n",
    "import decimal\n",
    "import itertools\n",
    "import re\n",
    "import bisect\n",
    "import scipy\n",
    "import heapq\n",
    "from collections import deque \n",
    "from functools import reduce\n",
    "from itertools import product\n",
    "from itertools import combinations\n",
    "from functools import lru_cache\n",
    "from scipy.special import comb\n",
    "from numba import njit\n",
    "from bisect import bisect_right\n",
    "from bisect import bisect_left"
   ]
  },
  {
   "cell_type": "code",
   "execution_count": 3,
   "id": "95e40663-82ae-4f87-b187-61239740d14c",
   "metadata": {},
   "outputs": [
    {
     "name": "stdin",
     "output_type": "stream",
     "text": [
      " 4 5\n"
     ]
    }
   ],
   "source": [
    "N, D = map(int, input().split())"
   ]
  },
  {
   "cell_type": "code",
   "execution_count": 4,
   "id": "6190548b-a18f-4315-add8-93e4d2e651b2",
   "metadata": {},
   "outputs": [
    {
     "name": "stdin",
     "output_type": "stream",
     "text": [
      " 2 -1\n",
      " 3 1\n",
      " 8 8\n",
      " 0 5\n"
     ]
    }
   ],
   "source": [
    "XYn = [list(map(int, input().split())) for _ in range(N)]"
   ]
  },
  {
   "cell_type": "code",
   "execution_count": 18,
   "id": "599ea81e-3ae1-4d98-8bbf-56f3fec654c3",
   "metadata": {},
   "outputs": [],
   "source": [
    "def solve(n):\n",
    "    x1, y1 = XYn[n]\n",
    "    for i, (X, Y) in enumerate(XYn):\n",
    "        if ans[i]:\n",
    "            continue\n",
    "        x2, y2 = XYn[i]\n",
    "        if (x1-x2)**2 + (y1-y2)**2 <= D**2:\n",
    "            q.append(i)\n",
    "            ans[i] = True\n",
    "    return"
   ]
  },
  {
   "cell_type": "code",
   "execution_count": 19,
   "id": "3e5fb4c7-1a90-4be6-9b50-847213e69aef",
   "metadata": {},
   "outputs": [],
   "source": [
    "ans = [False] * N\n",
    "from collections import deque\n",
    "q = deque()\n",
    "q.append(0)\n",
    "ans[0] = True\n",
    "while q:\n",
    "    n = q.popleft()\n",
    "    solve(n)"
   ]
  },
  {
   "cell_type": "code",
   "execution_count": 20,
   "id": "9d23bf36-2374-42d5-85ee-38fe0e093935",
   "metadata": {},
   "outputs": [
    {
     "name": "stdout",
     "output_type": "stream",
     "text": [
      "Yes\n",
      "Yes\n",
      "No\n",
      "Yes\n"
     ]
    }
   ],
   "source": [
    "for a in ans:\n",
    "    print('Yes' if a else 'No')"
   ]
  },
  {
   "cell_type": "code",
   "execution_count": null,
   "id": "d527085c-e834-4ca8-9e7f-fb4a3c6e5e98",
   "metadata": {},
   "outputs": [],
   "source": []
  }
 ],
 "metadata": {
  "kernelspec": {
   "display_name": "Python 3",
   "language": "python",
   "name": "python3"
  },
  "language_info": {
   "codemirror_mode": {
    "name": "ipython",
    "version": 3
   },
   "file_extension": ".py",
   "mimetype": "text/x-python",
   "name": "python",
   "nbconvert_exporter": "python",
   "pygments_lexer": "ipython3",
   "version": "3.6.13"
  }
 },
 "nbformat": 4,
 "nbformat_minor": 5
}
