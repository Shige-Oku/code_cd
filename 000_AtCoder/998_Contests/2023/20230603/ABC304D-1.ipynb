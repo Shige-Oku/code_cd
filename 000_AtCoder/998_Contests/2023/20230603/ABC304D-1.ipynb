{
 "cells": [
  {
   "cell_type": "code",
   "execution_count": 1,
   "id": "c9eeb324-b042-4c11-b986-3797cff1edf4",
   "metadata": {},
   "outputs": [],
   "source": [
    "import sys\n",
    "import numpy as np\n",
    "import math\n",
    "import collections\n",
    "import copy\n",
    "import decimal\n",
    "import itertools\n",
    "import re\n",
    "import bisect\n",
    "import scipy\n",
    "import heapq\n",
    "from collections import deque \n",
    "from functools import reduce\n",
    "from itertools import product\n",
    "from itertools import combinations\n",
    "from functools import lru_cache\n",
    "from scipy.special import comb\n",
    "from numba import njit\n",
    "from bisect import bisect_right\n",
    "from bisect import bisect_left"
   ]
  },
  {
   "cell_type": "code",
   "execution_count": 1,
   "id": "b04353c3-cc3f-4974-8255-c5f94e20f6f1",
   "metadata": {},
   "outputs": [
    {
     "name": "stdin",
     "output_type": "stream",
     "text": [
      " 7 6\n"
     ]
    }
   ],
   "source": [
    "W, H = map(int, input().split())"
   ]
  },
  {
   "cell_type": "code",
   "execution_count": 3,
   "id": "f123f585-4162-4f51-a184-6b5af7510fe7",
   "metadata": {},
   "outputs": [
    {
     "name": "stdin",
     "output_type": "stream",
     "text": [
      " 5\n"
     ]
    }
   ],
   "source": [
    "N = int(input())"
   ]
  },
  {
   "cell_type": "code",
   "execution_count": 4,
   "id": "87aa4f83-3afe-425c-b88d-db953b609f28",
   "metadata": {},
   "outputs": [
    {
     "name": "stdin",
     "output_type": "stream",
     "text": [
      " 6 1\n",
      " 3 1\n",
      " 4 2\n",
      " 1 5\n",
      " 6 2\n"
     ]
    }
   ],
   "source": [
    "PQn = [list(map(int, input().split())) for _ in range(N)]"
   ]
  },
  {
   "cell_type": "code",
   "execution_count": 5,
   "id": "aa74fce7-0fd3-4b52-940a-24ed4a82e549",
   "metadata": {},
   "outputs": [
    {
     "name": "stdin",
     "output_type": "stream",
     "text": [
      " 2\n"
     ]
    }
   ],
   "source": [
    "An = int(input())"
   ]
  },
  {
   "cell_type": "code",
   "execution_count": 6,
   "id": "8767ef10-6f4d-4a8c-b508-2a0ca7b1b34d",
   "metadata": {},
   "outputs": [
    {
     "name": "stdin",
     "output_type": "stream",
     "text": [
      " 2 5\n"
     ]
    }
   ],
   "source": [
    "Aa = list(map(int, input().split()))"
   ]
  },
  {
   "cell_type": "code",
   "execution_count": 7,
   "id": "64e52899-2a22-49ae-94d8-af5fccc29157",
   "metadata": {},
   "outputs": [
    {
     "name": "stdin",
     "output_type": "stream",
     "text": [
      " 2\n"
     ]
    }
   ],
   "source": [
    "Bn = int(input())"
   ]
  },
  {
   "cell_type": "code",
   "execution_count": 8,
   "id": "84081f96-233d-4831-9d7c-0c5c941597bd",
   "metadata": {},
   "outputs": [
    {
     "name": "stdin",
     "output_type": "stream",
     "text": [
      " 3 4\n"
     ]
    }
   ],
   "source": [
    "Bb = list(map(int, input().split()))"
   ]
  },
  {
   "cell_type": "code",
   "execution_count": 14,
   "id": "d86d0502-abf8-45a6-bef7-1d1d87561c67",
   "metadata": {},
   "outputs": [],
   "source": [
    "from bisect import bisect_left\n",
    "Aa_s = sorted(Aa)\n",
    "Bb_s = sorted(Bb)\n",
    "cnt = {}\n",
    "for P, Q in PQn:\n",
    "    wi = bisect_left(Aa_s, P)\n",
    "    hi = bisect_left(Bb_s, Q)\n",
    "    if (wi, hi) in cnt:\n",
    "        cnt[wi, hi] += 1\n",
    "    else:\n",
    "        cnt[wi, hi] = 1"
   ]
  },
  {
   "cell_type": "code",
   "execution_count": 22,
   "id": "746c374c-3b89-42f6-9737-37b2941a2a40",
   "metadata": {},
   "outputs": [
    {
     "name": "stdout",
     "output_type": "stream",
     "text": [
      "0 2\n"
     ]
    }
   ],
   "source": [
    "mi = 10**10\n",
    "ma = 0\n",
    "cn = 0\n",
    "for k, v in cnt.items():\n",
    "    mi = min(mi, v)\n",
    "    ma = max(ma, v)\n",
    "    cn += 1\n",
    "if cn == (An+1) * (Bn+1):\n",
    "    print(mi, ma)\n",
    "else:\n",
    "    print(0, ma)"
   ]
  },
  {
   "cell_type": "code",
   "execution_count": 18,
   "id": "5f8e8b0b-bd96-44d7-9630-f1b72fc77e34",
   "metadata": {},
   "outputs": [
    {
     "data": {
      "text/plain": [
       "{(2, 0): 2, (1, 0): 2, (0, 2): 1}"
      ]
     },
     "execution_count": 18,
     "metadata": {},
     "output_type": "execute_result"
    }
   ],
   "source": [
    "cnt"
   ]
  },
  {
   "cell_type": "code",
   "execution_count": 20,
   "id": "18efae9b-08d9-4638-a430-7a8349b570f8",
   "metadata": {},
   "outputs": [
    {
     "data": {
      "text/plain": [
       "3"
      ]
     },
     "execution_count": 20,
     "metadata": {},
     "output_type": "execute_result"
    }
   ],
   "source": [
    "cn"
   ]
  },
  {
   "cell_type": "code",
   "execution_count": null,
   "id": "ce898592-6069-484b-a681-01092a6de944",
   "metadata": {},
   "outputs": [],
   "source": []
  }
 ],
 "metadata": {
  "kernelspec": {
   "display_name": "Python 3",
   "language": "python",
   "name": "python3"
  },
  "language_info": {
   "codemirror_mode": {
    "name": "ipython",
    "version": 3
   },
   "file_extension": ".py",
   "mimetype": "text/x-python",
   "name": "python",
   "nbconvert_exporter": "python",
   "pygments_lexer": "ipython3",
   "version": "3.6.13"
  }
 },
 "nbformat": 4,
 "nbformat_minor": 5
}
