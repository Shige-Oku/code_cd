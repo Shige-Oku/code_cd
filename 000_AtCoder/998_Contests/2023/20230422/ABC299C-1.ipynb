{
 "cells": [
  {
   "cell_type": "code",
   "execution_count": 1,
   "id": "4c531280-1868-4406-9e03-8638908c4a9f",
   "metadata": {},
   "outputs": [],
   "source": [
    "import sys\n",
    "import numpy as np\n",
    "import math\n",
    "import collections\n",
    "import copy\n",
    "import decimal\n",
    "import itertools\n",
    "import re\n",
    "import bisect\n",
    "import scipy\n",
    "import heapq\n",
    "from collections import deque \n",
    "from functools import reduce\n",
    "from itertools import product\n",
    "from itertools import combinations\n",
    "from functools import lru_cache\n",
    "from scipy.special import comb\n",
    "from numba import njit\n",
    "from bisect import bisect_right\n",
    "from bisect import bisect_left"
   ]
  },
  {
   "cell_type": "code",
   "execution_count": 14,
   "id": "885f098d-9740-4d7b-bed0-1142e5acb94a",
   "metadata": {},
   "outputs": [
    {
     "name": "stdin",
     "output_type": "stream",
     "text": [
      " 10\n"
     ]
    }
   ],
   "source": [
    "N = int(input())"
   ]
  },
  {
   "cell_type": "code",
   "execution_count": 15,
   "id": "79e8c6cb-1189-42e3-9838-efb594dcd34f",
   "metadata": {},
   "outputs": [
    {
     "name": "stdin",
     "output_type": "stream",
     "text": [
      " -o-o-oooo-oo-o-ooooooo--oooo-o\n"
     ]
    }
   ],
   "source": [
    "S = input()"
   ]
  },
  {
   "cell_type": "code",
   "execution_count": 18,
   "id": "b61eee96-8fe0-4514-924d-6059f458576a",
   "metadata": {},
   "outputs": [],
   "source": [
    "def solve():\n",
    "    if S.count('o') == 0 or S.count('-') == 0:\n",
    "        return -1\n",
    "    ret = 0\n",
    "    cnt = 0\n",
    "    for s in S:\n",
    "        if s == 'o':\n",
    "            cnt += 1\n",
    "        else:\n",
    "            cnt = 0\n",
    "        ret = max(ret, cnt)\n",
    "    cnt = 0\n",
    "#     for s in S:\n",
    "#         if s == '-':\n",
    "#             cnt += 1\n",
    "#         else:\n",
    "#             cnt = 0\n",
    "#         ret = max(ret, cnt)        \n",
    "    return ret"
   ]
  },
  {
   "cell_type": "code",
   "execution_count": 19,
   "id": "83f3027f-5095-4660-ae93-dd2cc0841123",
   "metadata": {},
   "outputs": [
    {
     "name": "stdout",
     "output_type": "stream",
     "text": [
      "7\n"
     ]
    }
   ],
   "source": [
    "print(solve())"
   ]
  },
  {
   "cell_type": "code",
   "execution_count": 5,
   "id": "1b75f270-228c-467f-b2ad-74e2897a7421",
   "metadata": {},
   "outputs": [
    {
     "data": {
      "text/plain": [
       "(6, 4)"
      ]
     },
     "execution_count": 5,
     "metadata": {},
     "output_type": "execute_result"
    }
   ],
   "source": [
    "S.count('o'), S.count('-')"
   ]
  },
  {
   "cell_type": "code",
   "execution_count": null,
   "id": "1c4cdb5d-5d40-4edc-8e03-189427318242",
   "metadata": {},
   "outputs": [],
   "source": []
  }
 ],
 "metadata": {
  "kernelspec": {
   "display_name": "Python 3",
   "language": "python",
   "name": "python3"
  },
  "language_info": {
   "codemirror_mode": {
    "name": "ipython",
    "version": 3
   },
   "file_extension": ".py",
   "mimetype": "text/x-python",
   "name": "python",
   "nbconvert_exporter": "python",
   "pygments_lexer": "ipython3",
   "version": "3.6.13"
  }
 },
 "nbformat": 4,
 "nbformat_minor": 5
}
