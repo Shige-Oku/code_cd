{
 "cells": [
  {
   "cell_type": "code",
   "execution_count": 2,
   "id": "dfc46a47-24a1-46a5-b3ef-44665db0ec08",
   "metadata": {},
   "outputs": [
    {
     "name": "stdin",
     "output_type": "stream",
     "text": [
      " 5 5\n"
     ]
    }
   ],
   "source": [
    "N, M = map(int, input().split())"
   ]
  },
  {
   "cell_type": "code",
   "execution_count": 3,
   "id": "43165d12-951f-4583-9dcc-d1ddb115551b",
   "metadata": {},
   "outputs": [
    {
     "name": "stdin",
     "output_type": "stream",
     "text": [
      " 1 2\n",
      " 2 3\n",
      " 3 1\n",
      " 3 4\n",
      " 4 5\n"
     ]
    }
   ],
   "source": [
    "UVm = [list(map(int, input().split())) for _ in range(M)]"
   ]
  },
  {
   "cell_type": "code",
   "execution_count": 4,
   "id": "37f87982-4b14-4b8a-b0f5-25d86e796ff8",
   "metadata": {},
   "outputs": [
    {
     "name": "stdin",
     "output_type": "stream",
     "text": [
      " 2\n"
     ]
    }
   ],
   "source": [
    "K = int(input())"
   ]
  },
  {
   "cell_type": "code",
   "execution_count": 5,
   "id": "e67b6994-e399-49bc-bef9-d3d497968d5f",
   "metadata": {},
   "outputs": [
    {
     "name": "stdin",
     "output_type": "stream",
     "text": [
      " 1 0\n",
      " 5 2\n"
     ]
    }
   ],
   "source": [
    "PDk =  [list(map(int, input().split())) for _ in range(K)]"
   ]
  },
  {
   "cell_type": "code",
   "execution_count": 7,
   "id": "afd06a98-a2e2-42d2-81a1-9fecf213ec7c",
   "metadata": {},
   "outputs": [],
   "source": [
    "graph = [[] for _ in range(N+1)]\n",
    "for U, V in UVm:\n",
    "    graph[U].append(V)\n",
    "    graph[V].append(U)"
   ]
  },
  {
   "cell_type": "code",
   "execution_count": 30,
   "id": "37bf02f4-e24c-4809-ba9b-b7cd8c750b5d",
   "metadata": {},
   "outputs": [],
   "source": [
    "from collections import deque\n",
    "def BFS(start, dis):\n",
    "    q = deque()\n",
    "    visit = [False] * (N+1)\n",
    "    q.append(start)\n",
    "    visit[start] = True\n",
    "    while q:\n",
    "        p = q.popleft()\n",
    "        for ne in graph[p]:\n",
    "            if visit[ne]:\n",
    "                continue\n",
    "            dis[ne] = dis[p] + 1\n",
    "            visit[ne] = True\n",
    "            q.append(ne)\n",
    "    return "
   ]
  },
  {
   "cell_type": "code",
   "execution_count": 34,
   "id": "aa1bfe60-4c83-4499-8411-3b35d543abad",
   "metadata": {},
   "outputs": [],
   "source": [
    "dist = []\n",
    "for i in range(N+1):\n",
    "    dis  = [0] * (N+1)\n",
    "    if i > 0:\n",
    "        BFS(i, dis)\n",
    "    dist.append(dis)"
   ]
  },
  {
   "cell_type": "code",
   "execution_count": 41,
   "id": "62db5004-5708-48d8-92cb-07d35b6f78f4",
   "metadata": {},
   "outputs": [],
   "source": [
    "def BFS2(start ,d):\n",
    "    q = deque()\n",
    "    visit = [False] * (N+1)\n",
    "    dis = [0] * (N+1)\n",
    "    q.append(start)\n",
    "    visit[start] = True\n",
    "    while q:\n",
    "        p = q.popleft()\n",
    "        for ne in graph[p]:\n",
    "            if visit[ne]:\n",
    "                continue\n",
    "            if dis[p] + 1 >= d:\n",
    "                continue\n",
    "            dis[ne] = dis[p] + 1\n",
    "            visit[ne] = True\n",
    "            black[ne] = False\n",
    "            q.append(ne)\n",
    "    return True    "
   ]
  },
  {
   "cell_type": "code",
   "execution_count": 48,
   "id": "9f14135b-03db-408f-8401-350ecdd0040c",
   "metadata": {},
   "outputs": [],
   "source": [
    "black = [-1] * (N+1)\n",
    "PDk_s = sorted(PDk, key=lambda x: -x[1])\n",
    "for P, D in PDk:\n",
    "    BFS2(P, D)\n"
   ]
  },
  {
   "cell_type": "code",
   "execution_count": null,
   "id": "970fce42-6f37-4757-89b2-806b29f807f9",
   "metadata": {},
   "outputs": [],
   "source": [
    "f = True\n",
    "for P, D in PDk:\n",
    "    for d in dist[P]:\n",
    "        if "
   ]
  },
  {
   "cell_type": "code",
   "execution_count": 35,
   "id": "343e400c-f79d-4402-9615-f90a2ba9990f",
   "metadata": {},
   "outputs": [
    {
     "data": {
      "text/plain": [
       "[[], [2, 3], [1, 3], [2, 1, 4], [3, 5], [4]]"
      ]
     },
     "execution_count": 35,
     "metadata": {},
     "output_type": "execute_result"
    }
   ],
   "source": [
    "graph"
   ]
  },
  {
   "cell_type": "code",
   "execution_count": 36,
   "id": "a0a01c51-793c-4f5a-ad2e-f139db0ccfcf",
   "metadata": {},
   "outputs": [
    {
     "data": {
      "text/plain": [
       "[[0, 0, 0, 0, 0, 0],\n",
       " [0, 0, 1, 1, 2, 3],\n",
       " [0, 1, 0, 1, 2, 3],\n",
       " [0, 1, 1, 0, 1, 2],\n",
       " [0, 2, 2, 1, 0, 1],\n",
       " [0, 3, 3, 2, 1, 0]]"
      ]
     },
     "execution_count": 36,
     "metadata": {},
     "output_type": "execute_result"
    }
   ],
   "source": [
    "dist"
   ]
  },
  {
   "cell_type": "code",
   "execution_count": 45,
   "id": "71eb6b68-1ee8-4395-94d2-a0045a5fdd45",
   "metadata": {},
   "outputs": [
    {
     "data": {
      "text/plain": [
       "[True, True, True, True, False, True]"
      ]
     },
     "execution_count": 45,
     "metadata": {},
     "output_type": "execute_result"
    }
   ],
   "source": [
    "black"
   ]
  },
  {
   "cell_type": "code",
   "execution_count": null,
   "id": "86d00e43-c6c6-4918-897b-b09c0a48f5b9",
   "metadata": {},
   "outputs": [],
   "source": []
  }
 ],
 "metadata": {
  "kernelspec": {
   "display_name": "Python 3",
   "language": "python",
   "name": "python3"
  },
  "language_info": {
   "codemirror_mode": {
    "name": "ipython",
    "version": 3
   },
   "file_extension": ".py",
   "mimetype": "text/x-python",
   "name": "python",
   "nbconvert_exporter": "python",
   "pygments_lexer": "ipython3",
   "version": "3.6.13"
  }
 },
 "nbformat": 4,
 "nbformat_minor": 5
}
