{
 "cells": [
  {
   "cell_type": "code",
   "execution_count": 1,
   "id": "81b6d00c-448c-4afb-9918-138316c0a52a",
   "metadata": {},
   "outputs": [],
   "source": [
    "import sys\n",
    "import numpy as np\n",
    "import math\n",
    "import collections\n",
    "import copy\n",
    "import decimal\n",
    "import itertools\n",
    "import re\n",
    "import bisect\n",
    "import scipy\n",
    "import heapq\n",
    "from collections import deque \n",
    "from functools import reduce\n",
    "from itertools import product\n",
    "from itertools import combinations\n",
    "from functools import lru_cache\n",
    "from scipy.special import comb\n",
    "from numba import njit\n",
    "from bisect import bisect_right\n",
    "from bisect import bisect_left"
   ]
  },
  {
   "cell_type": "code",
   "execution_count": 28,
   "id": "8fb11bbf-bb18-4129-a69f-64f8798c1ec6",
   "metadata": {},
   "outputs": [
    {
     "name": "stdin",
     "output_type": "stream",
     "text": [
      " 2 1000000000\n"
     ]
    }
   ],
   "source": [
    "N, T = map(int, input().split())"
   ]
  },
  {
   "cell_type": "code",
   "execution_count": 29,
   "id": "74c1b8b5-cfb1-4f96-9f80-f16032b19f9a",
   "metadata": {},
   "outputs": [
    {
     "name": "stdin",
     "output_type": "stream",
     "text": [
      " 1000000000 1\n"
     ]
    }
   ],
   "source": [
    "Cn = list(map(int, input().split()))"
   ]
  },
  {
   "cell_type": "code",
   "execution_count": 30,
   "id": "e6b16d81-6422-4086-ae49-afc77eaabb94",
   "metadata": {},
   "outputs": [
    {
     "name": "stdin",
     "output_type": "stream",
     "text": [
      " 1 1000000000\n"
     ]
    }
   ],
   "source": [
    "Rn = list(map(int, input().split()))"
   ]
  },
  {
   "cell_type": "code",
   "execution_count": 31,
   "id": "40baec9d-1846-4213-a1ae-28e301f8755e",
   "metadata": {},
   "outputs": [],
   "source": [
    "def solve():\n",
    "    m = 0\n",
    "    ret = 0\n",
    "    for i, (C, R) in enumerate(zip(Cn, Rn), 1):\n",
    "        if C == T:\n",
    "            if R > m:\n",
    "                ret = i\n",
    "                m = R\n",
    "    if ret != 0:\n",
    "        return ret\n",
    "    c1 = Cn[0]\n",
    "    m = 0\n",
    "    for i, (C, R) in enumerate(zip(Cn, Rn), 1):\n",
    "        if C == c1:\n",
    "            if R > m:\n",
    "                ret = i\n",
    "                m = R\n",
    "    return ret"
   ]
  },
  {
   "cell_type": "code",
   "execution_count": 32,
   "id": "da0ad595-39f6-4e92-9cdf-44a11e31f0c1",
   "metadata": {},
   "outputs": [
    {
     "name": "stdout",
     "output_type": "stream",
     "text": [
      "1\n"
     ]
    }
   ],
   "source": [
    "print(solve())"
   ]
  },
  {
   "cell_type": "code",
   "execution_count": null,
   "id": "3feec586-939f-490a-bfda-cc79610a6ab8",
   "metadata": {},
   "outputs": [],
   "source": []
  }
 ],
 "metadata": {
  "kernelspec": {
   "display_name": "Python 3",
   "language": "python",
   "name": "python3"
  },
  "language_info": {
   "codemirror_mode": {
    "name": "ipython",
    "version": 3
   },
   "file_extension": ".py",
   "mimetype": "text/x-python",
   "name": "python",
   "nbconvert_exporter": "python",
   "pygments_lexer": "ipython3",
   "version": "3.6.13"
  }
 },
 "nbformat": 4,
 "nbformat_minor": 5
}
