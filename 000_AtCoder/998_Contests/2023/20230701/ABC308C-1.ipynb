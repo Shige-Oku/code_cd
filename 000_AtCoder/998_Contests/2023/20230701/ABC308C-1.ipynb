{
 "cells": [
  {
   "cell_type": "code",
   "execution_count": 1,
   "id": "f6b09777-fa80-49b1-8aed-6d78fc41ee27",
   "metadata": {},
   "outputs": [],
   "source": [
    "import sys\n",
    "import numpy as np\n",
    "import math\n",
    "import collections\n",
    "import copy\n",
    "import decimal\n",
    "import itertools\n",
    "import re\n",
    "import bisect\n",
    "import scipy\n",
    "import heapq\n",
    "from collections import deque \n",
    "from functools import reduce\n",
    "from itertools import product\n",
    "from itertools import combinations\n",
    "from functools import lru_cache\n",
    "from scipy.special import comb\n",
    "from numba import njit\n",
    "from bisect import bisect_right\n",
    "from bisect import bisect_left"
   ]
  },
  {
   "cell_type": "code",
   "execution_count": 2,
   "id": "715bd694-0b6c-46c7-b58a-c17502fac96e",
   "metadata": {},
   "outputs": [
    {
     "name": "stdin",
     "output_type": "stream",
     "text": [
      " 3\n"
     ]
    }
   ],
   "source": [
    "N = int(input())"
   ]
  },
  {
   "cell_type": "code",
   "execution_count": 4,
   "id": "31e02a8b-b845-46ae-9680-51b4510a818e",
   "metadata": {},
   "outputs": [
    {
     "name": "stdin",
     "output_type": "stream",
     "text": [
      " 1 3\n",
      " 3 1\n",
      " 2 2\n"
     ]
    }
   ],
   "source": [
    "ABn = [list(map(int, input().split())) for _ in range(N)]"
   ]
  },
  {
   "cell_type": "code",
   "execution_count": 21,
   "id": "eaca9140-830b-4f28-8252-bf115dac014f",
   "metadata": {},
   "outputs": [],
   "source": [
    "rate = []\n",
    "for i, (A, B) in enumerate(ABn, 1):\n",
    "    rate.append((A*10**20//(A+B), i))"
   ]
  },
  {
   "cell_type": "code",
   "execution_count": 22,
   "id": "aa40b14b-5275-4ddc-b1e4-2e8983a6af7c",
   "metadata": {},
   "outputs": [
    {
     "name": "stdout",
     "output_type": "stream",
     "text": [
      "2 3 1 "
     ]
    }
   ],
   "source": [
    "ans = sorted(rate, reverse=True, key=lambda x: (x[0], -x[1]))\n",
    "for a1, a2 in ans:\n",
    "    print(a2, end=' ')"
   ]
  },
  {
   "cell_type": "code",
   "execution_count": null,
   "id": "12d069fa-b8d8-46b9-aeac-3eec9cd6b286",
   "metadata": {},
   "outputs": [],
   "source": []
  },
  {
   "cell_type": "code",
   "execution_count": 13,
   "id": "77eb44b3-1bd3-4fed-9f6d-a26a727a5f07",
   "metadata": {},
   "outputs": [],
   "source": [
    "from decimal import Decimal\n",
    "rate = []\n",
    "for i, (A, B) in enumerate(ABn, 1):\n",
    "    rate.append(((Decimal(A)/(Decimal(A)+Decimal(B)), i)))"
   ]
  },
  {
   "cell_type": "code",
   "execution_count": 9,
   "id": "4bf84dc7-50f1-4ff2-a172-c641aa5b7cb9",
   "metadata": {},
   "outputs": [
    {
     "data": {
      "text/plain": [
       "[(0.25, 1), (0.75, 2), (0.5, 3)]"
      ]
     },
     "execution_count": 9,
     "metadata": {},
     "output_type": "execute_result"
    }
   ],
   "source": [
    "rate"
   ]
  },
  {
   "cell_type": "code",
   "execution_count": 20,
   "id": "f52ac99b-a7d1-4615-9078-0b67e560b333",
   "metadata": {},
   "outputs": [
    {
     "data": {
      "text/plain": [
       "1e-09"
      ]
     },
     "execution_count": 20,
     "metadata": {},
     "output_type": "execute_result"
    }
   ],
   "source": [
    "10e-10"
   ]
  },
  {
   "cell_type": "code",
   "execution_count": 18,
   "id": "fb13438a-2630-4f34-90cd-c6bd957fbf05",
   "metadata": {},
   "outputs": [],
   "source": [
    "import math\n",
    "g = ABn[0][0] + ABn[0][1]\n",
    "for A, B in ABn:\n",
    "    g = g * (A+B) // math.gcd(g, A+B)\n",
    "rate = []\n",
    "for i, (A, B) in enumerate(ABn, 1):\n",
    "    rate.append((A*g//(A+B), i))"
   ]
  },
  {
   "cell_type": "code",
   "execution_count": null,
   "id": "a9db12a6-1de3-49e1-94f9-3c8d0dbe6480",
   "metadata": {},
   "outputs": [],
   "source": []
  }
 ],
 "metadata": {
  "kernelspec": {
   "display_name": "Python 3",
   "language": "python",
   "name": "python3"
  },
  "language_info": {
   "codemirror_mode": {
    "name": "ipython",
    "version": 3
   },
   "file_extension": ".py",
   "mimetype": "text/x-python",
   "name": "python",
   "nbconvert_exporter": "python",
   "pygments_lexer": "ipython3",
   "version": "3.6.13"
  }
 },
 "nbformat": 4,
 "nbformat_minor": 5
}
