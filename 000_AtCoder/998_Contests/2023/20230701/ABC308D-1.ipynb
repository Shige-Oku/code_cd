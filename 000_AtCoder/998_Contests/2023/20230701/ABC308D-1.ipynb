{
 "cells": [
  {
   "cell_type": "code",
   "execution_count": 1,
   "id": "90217868-cb54-44c9-a00b-93803402a7db",
   "metadata": {},
   "outputs": [],
   "source": [
    "import sys\n",
    "import numpy as np\n",
    "import math\n",
    "import collections\n",
    "import copy\n",
    "import decimal\n",
    "import itertools\n",
    "import re\n",
    "import bisect\n",
    "import scipy\n",
    "import heapq\n",
    "from collections import deque \n",
    "from functools import reduce\n",
    "from itertools import product\n",
    "from itertools import combinations\n",
    "from functools import lru_cache\n",
    "from scipy.special import comb\n",
    "from numba import njit\n",
    "from bisect import bisect_right\n",
    "from bisect import bisect_left"
   ]
  },
  {
   "cell_type": "code",
   "execution_count": 2,
   "id": "8bcef21f-34f2-469c-b765-4abf74c0bf22",
   "metadata": {},
   "outputs": [
    {
     "name": "stdin",
     "output_type": "stream",
     "text": [
      " 2 3\n"
     ]
    }
   ],
   "source": [
    "H, W = map(int, input().split())"
   ]
  },
  {
   "cell_type": "code",
   "execution_count": 3,
   "id": "48c6b250-272f-49c9-8576-aee2289ee396",
   "metadata": {},
   "outputs": [
    {
     "name": "stdin",
     "output_type": "stream",
     "text": [
      " sns\n",
      " euk\n"
     ]
    }
   ],
   "source": [
    "Sh = [input() for _ in range(H)]"
   ]
  },
  {
   "cell_type": "code",
   "execution_count": 41,
   "id": "46af1d3e-af4e-4bec-bc8e-70932836f3e1",
   "metadata": {},
   "outputs": [],
   "source": [
    "from collections import deque\n",
    "def BFS():\n",
    "    if Sh[0][0] != 's':\n",
    "        return False\n",
    "    visit = [[False] * (W+1) for _ in range(H+1)]\n",
    "    q = deque()\n",
    "    q.append((0, 0, 0))\n",
    "    visit[0][0] = True\n",
    "    while q:\n",
    "        x, y, i = q.popleft()\n",
    "        for x1, y1 in ((-1, 0), (1, 0), (0, -1), (0, 1)):\n",
    "            nx = x + x1\n",
    "            ny = y + y1\n",
    "            if visit[nx][ny]:\n",
    "                continue\n",
    "            if nx < 0 or nx >= H:\n",
    "                continue\n",
    "            if ny < 0 or ny >= W:\n",
    "                continue\n",
    "            if Sh[nx][ny] not in 'snuke':\n",
    "                continue\n",
    "            if (i + 1) % 5 != 'snuke'.index(Sh[nx][ny]):\n",
    "                continue\n",
    "            if nx == H-1 and ny == W-1:\n",
    "                return True\n",
    "            q.append((nx, ny, 'snuke'.index(Sh[nx][ny])))\n",
    "            visit[nx][ny] = True\n",
    "    return False"
   ]
  },
  {
   "cell_type": "code",
   "execution_count": 34,
   "id": "bdadab4e-bd81-4c65-b4ff-7d94848168b2",
   "metadata": {},
   "outputs": [],
   "source": [
    "from collections import deque\n",
    "def BFS():\n",
    "    visit = [[False] * (W+1) for _ in range(H+1)]\n",
    "    q = deque()\n",
    "    q.append((0, 0, 0))\n",
    "    visit[0][0] = True\n",
    "    while q:\n",
    "        x, y, i = q.popleft()\n",
    "#         print(x, y, i)\n",
    "        if Sh[x][y] not in 'snuke':\n",
    "#             print('nai')\n",
    "            continue\n",
    "        if i != 'snuke'.index(Sh[x][y]):\n",
    "#             print('non')\n",
    "            continue\n",
    "        if x == H-1 and y == W-1:\n",
    "            return True\n",
    "        for x1, y1 in ((-1, 0), (1, 0), (0, -1), (0, 1)):\n",
    "            nx = x + x1\n",
    "            ny = y + y1\n",
    "            if visit[nx][ny]:\n",
    "                continue\n",
    "#             print(nx, ny)\n",
    "            if nx < 0 or nx >= H:\n",
    "#                 print('c3')\n",
    "                continue\n",
    "            if ny < 0 or ny >= W:\n",
    "#                 print('c4')\n",
    "                continue\n",
    "            if (Sh[nx][ny] not in 'snuke':\n",
    "#                 print('c5')\n",
    "                continue\n",
    "            if (i + 1) % 5 != 'snuke'.index(Sh[nx][ny]):\n",
    "#                 print('c5')\n",
    "                continue\n",
    "            q.append((x+x1, y+y1, 'snuke'.index(Sh[nx][ny])))\n",
    "            visit[nx][ny] = True\n",
    "#             print('append')\n",
    "    return False"
   ]
  },
  {
   "cell_type": "code",
   "execution_count": 42,
   "id": "bd43193e-6174-4d41-91ea-f21688a7b948",
   "metadata": {},
   "outputs": [
    {
     "name": "stdout",
     "output_type": "stream",
     "text": [
      "Yes\n"
     ]
    }
   ],
   "source": [
    "print('Yes' if BFS() else 'No')"
   ]
  },
  {
   "cell_type": "code",
   "execution_count": null,
   "id": "d3ccebd2-d997-4326-ae6a-dde2524413d6",
   "metadata": {},
   "outputs": [],
   "source": []
  }
 ],
 "metadata": {
  "kernelspec": {
   "display_name": "Python 3",
   "language": "python",
   "name": "python3"
  },
  "language_info": {
   "codemirror_mode": {
    "name": "ipython",
    "version": 3
   },
   "file_extension": ".py",
   "mimetype": "text/x-python",
   "name": "python",
   "nbconvert_exporter": "python",
   "pygments_lexer": "ipython3",
   "version": "3.6.13"
  }
 },
 "nbformat": 4,
 "nbformat_minor": 5
}
