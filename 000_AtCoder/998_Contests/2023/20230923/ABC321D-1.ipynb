{
 "cells": [
  {
   "cell_type": "code",
   "execution_count": 1,
   "id": "f7f5b000-95d9-42e0-bcd5-b95afed519a1",
   "metadata": {
    "tags": []
   },
   "outputs": [],
   "source": [
    "import sys\n",
    "import numpy as np\n",
    "import math\n",
    "import collections\n",
    "import copy\n",
    "import decimal\n",
    "import itertools\n",
    "import re\n",
    "import bisect\n",
    "import scipy\n",
    "import heapq\n",
    "from collections import deque \n",
    "from functools import reduce\n",
    "from itertools import product\n",
    "from itertools import combinations\n",
    "from functools import lru_cache\n",
    "from scipy.special import comb\n",
    "from numba import njit\n",
    "from bisect import bisect_right\n",
    "from bisect import bisect_left"
   ]
  },
  {
   "cell_type": "code",
   "execution_count": 2,
   "id": "4d602259-967c-4a43-a69e-5e676dd313b4",
   "metadata": {
    "tags": []
   },
   "outputs": [
    {
     "name": "stdin",
     "output_type": "stream",
     "text": [
      " 2 2 7\n"
     ]
    }
   ],
   "source": [
    "N, M, P = map(int, input().split())"
   ]
  },
  {
   "cell_type": "code",
   "execution_count": 3,
   "id": "db5018ce-c97a-4aaf-9ffc-28b4025b5cbe",
   "metadata": {
    "tags": []
   },
   "outputs": [
    {
     "name": "stdin",
     "output_type": "stream",
     "text": [
      " 3 5\n"
     ]
    }
   ],
   "source": [
    "An = list(map(int, input().split()))"
   ]
  },
  {
   "cell_type": "code",
   "execution_count": 4,
   "id": "09ed54d1-ab17-4485-8ed9-15641f838804",
   "metadata": {
    "tags": []
   },
   "outputs": [
    {
     "name": "stdin",
     "output_type": "stream",
     "text": [
      " 6 1\n"
     ]
    }
   ],
   "source": [
    "Bn = list(map(int, input().split()))"
   ]
  },
  {
   "cell_type": "code",
   "execution_count": 5,
   "id": "8e67136a-c4c4-4772-abeb-a4d36911c839",
   "metadata": {
    "tags": []
   },
   "outputs": [],
   "source": [
    "from itertools import accumulate\n",
    "Bn_s = sorted(Bn)\n",
    "Bn_c = [0] + list(accumulate(Bn_s))"
   ]
  },
  {
   "cell_type": "code",
   "execution_count": 17,
   "id": "aaa9a0f4-dcd5-40f4-829a-5682429b1095",
   "metadata": {
    "tags": []
   },
   "outputs": [],
   "source": [
    "import bisect\n",
    "ans = 0\n",
    "for A in An:\n",
    "    k = P - A\n",
    "    idx = bisect.bisect_left(Bn_s, k)\n",
    "    ans += Bn_c[idx] + A * idx\n",
    "    # print(k, idx, Bn_c[idx], ans)\n",
    "    if idx < M:\n",
    "        ans += P * (M-idx)\n",
    "    # print(ans)"
   ]
  },
  {
   "cell_type": "code",
   "execution_count": 18,
   "id": "0a92b2e6-c1ba-4e7a-b299-abaaccf74a1b",
   "metadata": {
    "tags": []
   },
   "outputs": [
    {
     "name": "stdout",
     "output_type": "stream",
     "text": [
      "24\n"
     ]
    }
   ],
   "source": [
    "print(ans)"
   ]
  },
  {
   "cell_type": "code",
   "execution_count": 6,
   "id": "22770915-5a06-4221-9b5c-c27a786ab0ea",
   "metadata": {
    "tags": []
   },
   "outputs": [
    {
     "data": {
      "text/plain": [
       "[0, 1, 7]"
      ]
     },
     "execution_count": 6,
     "metadata": {},
     "output_type": "execute_result"
    }
   ],
   "source": [
    "Bn_c"
   ]
  },
  {
   "cell_type": "code",
   "execution_count": null,
   "id": "2a71649c-d42f-4d86-bce2-6bbaf149c9e9",
   "metadata": {},
   "outputs": [],
   "source": []
  }
 ],
 "metadata": {
  "kernelspec": {
   "display_name": "Python 3 (ipykernel)",
   "language": "python",
   "name": "python3"
  },
  "language_info": {
   "codemirror_mode": {
    "name": "ipython",
    "version": 3
   },
   "file_extension": ".py",
   "mimetype": "text/x-python",
   "name": "python",
   "nbconvert_exporter": "python",
   "pygments_lexer": "ipython3",
   "version": "3.11.3"
  }
 },
 "nbformat": 4,
 "nbformat_minor": 5
}
