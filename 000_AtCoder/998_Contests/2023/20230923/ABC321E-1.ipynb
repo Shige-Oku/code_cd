{
 "cells": [
  {
   "cell_type": "code",
   "execution_count": 1,
   "id": "2201d7dd-3e0a-4c9b-a57c-b55d34bc055b",
   "metadata": {
    "tags": []
   },
   "outputs": [],
   "source": [
    "import sys\n",
    "import numpy as np\n",
    "import math\n",
    "import collections\n",
    "import copy\n",
    "import decimal\n",
    "import itertools\n",
    "import re\n",
    "import bisect\n",
    "import scipy\n",
    "import heapq\n",
    "from collections import deque \n",
    "from functools import reduce\n",
    "from itertools import product\n",
    "from itertools import combinations\n",
    "from functools import lru_cache\n",
    "from scipy.special import comb\n",
    "from numba import njit\n",
    "from bisect import bisect_right\n",
    "from bisect import bisect_left"
   ]
  },
  {
   "cell_type": "code",
   "execution_count": 3,
   "id": "f4e5244e-6744-484b-896f-938fe4c1fe07",
   "metadata": {
    "tags": []
   },
   "outputs": [
    {
     "name": "stdin",
     "output_type": "stream",
     "text": [
      " 5\n"
     ]
    }
   ],
   "source": [
    "T = int(input())"
   ]
  },
  {
   "cell_type": "code",
   "execution_count": 4,
   "id": "8220f56c-0ebb-4e89-b0a9-b9781b68621d",
   "metadata": {
    "tags": []
   },
   "outputs": [
    {
     "name": "stdin",
     "output_type": "stream",
     "text": [
      " 10 2 0\n",
      " 10 2 1\n",
      " 10 2 2\n",
      " 10 2 3\n",
      " 10 2 4\n"
     ]
    }
   ],
   "source": [
    "test = [list(map(int, input().split())) for _ in range(T)]"
   ]
  },
  {
   "cell_type": "code",
   "execution_count": null,
   "id": "6892678f-50ff-4c47-9cca-f65837e6e737",
   "metadata": {},
   "outputs": [],
   "source": [
    "# サンプルが合わない"
   ]
  },
  {
   "cell_type": "code",
   "execution_count": 7,
   "id": "7d05ca86-c4c4-41d8-b527-58aa67815d83",
   "metadata": {
    "tags": []
   },
   "outputs": [],
   "source": [
    "import math\n",
    "def check2(x):\n",
    "    s = int(math.log2(x))\n",
    "    if s < 2**s + 2**(s-1) - 1:\n",
    "        return True\n",
    "    else:\n",
    "        return False"
   ]
  },
  {
   "cell_type": "code",
   "execution_count": 57,
   "id": "3035d49b-d0ef-4af2-9535-3e12a9b0f286",
   "metadata": {
    "tags": []
   },
   "outputs": [],
   "source": [
    "import math\n",
    "def solve(n, x, k):\n",
    "    if k == 0:\n",
    "        return 1\n",
    "    ret = 0\n",
    "    if check2(x):\n",
    "        b = int(math.log2(x))\n",
    "        s = 2 * 2**k\n",
    "        e = min(2 * 2**k + 2*(2**(k-1)), n)\n",
    "        ret += max(0, e-s)\n",
    "        # print(ret, b, s, e)\n",
    "        if b >= k:\n",
    "            ret += 1\n",
    "        else:\n",
    "            nb = k - b\n",
    "            # print(nb)\n",
    "            ns = 2 * (2**nb)\n",
    "            ne = min(2 * 2**nb + 2*(2**(nb-1)), n)\n",
    "            ret += max(0, ne-ns)\n",
    "    else:\n",
    "        b = int(math.log2(x))\n",
    "        s = 3 * 2**k\n",
    "        e = min(3 * 2**k + 3*(2**(k-1)), n)\n",
    "        ret += max(0, e-s)\n",
    "        # print(ret, b, s, e)\n",
    "        if b >= k:\n",
    "            ret += 1\n",
    "        else:\n",
    "            nb = k - b\n",
    "            # print(nb)\n",
    "            ns = 2 * (2**nb)\n",
    "            ne = min(3 * 2**nb + 3*(2**(nb-1)), n)\n",
    "            ret += max(0, ne-ns)\n",
    "    return ret"
   ]
  },
  {
   "cell_type": "code",
   "execution_count": 58,
   "id": "67bc7e15-27cd-4630-bbed-c9e53992a05d",
   "metadata": {
    "tags": []
   },
   "outputs": [
    {
     "name": "stdout",
     "output_type": "stream",
     "text": [
      "1\n",
      "3\n",
      "4\n",
      "2\n",
      "0\n"
     ]
    }
   ],
   "source": [
    "for N, X, K in test:\n",
    "    print(solve(N, X, K))"
   ]
  },
  {
   "cell_type": "code",
   "execution_count": 53,
   "id": "28ee100c-2d09-48c8-9a73-bd4072e22351",
   "metadata": {
    "tags": []
   },
   "outputs": [
    {
     "name": "stdout",
     "output_type": "stream",
     "text": [
      "0 1 16 10\n",
      "2\n"
     ]
    },
    {
     "data": {
      "text/plain": [
       "2"
      ]
     },
     "execution_count": 53,
     "metadata": {},
     "output_type": "execute_result"
    }
   ],
   "source": [
    "solve(10, 2, 3)"
   ]
  },
  {
   "cell_type": "code",
   "execution_count": null,
   "id": "cc8fc8db-5485-46e0-bdc7-3432e4506068",
   "metadata": {},
   "outputs": [],
   "source": []
  }
 ],
 "metadata": {
  "kernelspec": {
   "display_name": "Python 3 (ipykernel)",
   "language": "python",
   "name": "python3"
  },
  "language_info": {
   "codemirror_mode": {
    "name": "ipython",
    "version": 3
   },
   "file_extension": ".py",
   "mimetype": "text/x-python",
   "name": "python",
   "nbconvert_exporter": "python",
   "pygments_lexer": "ipython3",
   "version": "3.11.3"
  }
 },
 "nbformat": 4,
 "nbformat_minor": 5
}
