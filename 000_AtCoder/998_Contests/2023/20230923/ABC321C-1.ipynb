{
 "cells": [
  {
   "cell_type": "code",
   "execution_count": 1,
   "id": "bccfc6dd-a160-46f9-8c2a-6e35729f9c26",
   "metadata": {
    "tags": []
   },
   "outputs": [],
   "source": [
    "import sys\n",
    "import numpy as np\n",
    "import math\n",
    "import collections\n",
    "import copy\n",
    "import decimal\n",
    "import itertools\n",
    "import re\n",
    "import bisect\n",
    "import scipy\n",
    "import heapq\n",
    "from collections import deque \n",
    "from functools import reduce\n",
    "from itertools import product\n",
    "from itertools import combinations\n",
    "from functools import lru_cache\n",
    "from scipy.special import comb\n",
    "from numba import njit\n",
    "from bisect import bisect_right\n",
    "from bisect import bisect_left"
   ]
  },
  {
   "cell_type": "code",
   "execution_count": 68,
   "id": "e206452c-1401-454b-afba-a5aff38068b6",
   "metadata": {
    "tags": []
   },
   "outputs": [
    {
     "name": "stdin",
     "output_type": "stream",
     "text": [
      " 777\n"
     ]
    }
   ],
   "source": [
    "K = int(input())"
   ]
  },
  {
   "cell_type": "code",
   "execution_count": 69,
   "id": "17265f7a-590e-46a7-9911-fea2faa4935b",
   "metadata": {
    "tags": []
   },
   "outputs": [],
   "source": [
    "from collections import deque\n",
    "def solve():\n",
    "    global cnt\n",
    "    q = deque()\n",
    "    for i in range(1, 10):\n",
    "        q.append(i)\n",
    "    while q:\n",
    "        if cnt >= K:\n",
    "            break\n",
    "        number = q.popleft()\n",
    "        ans[cnt] = number\n",
    "        cnt += 1\n",
    "        ne = number * 10\n",
    "        for n in range(number%10):\n",
    "            q.append(ne+n)\n",
    "    return"
   ]
  },
  {
   "cell_type": "code",
   "execution_count": 70,
   "id": "009e4282-5356-4700-8dbb-0d4221b01d56",
   "metadata": {
    "tags": []
   },
   "outputs": [],
   "source": [
    "ans = [-1] * (K+1)\n",
    "cnt = 0\n",
    "solve()"
   ]
  },
  {
   "cell_type": "code",
   "execution_count": 71,
   "id": "c8b99d3d-3b53-48dd-8aec-c78f81da2216",
   "metadata": {
    "tags": []
   },
   "outputs": [
    {
     "name": "stdout",
     "output_type": "stream",
     "text": [
      "983210\n"
     ]
    }
   ],
   "source": [
    "print(ans[K-1])"
   ]
  },
  {
   "cell_type": "code",
   "execution_count": 72,
   "id": "ef34f125-3e91-4773-a508-1dac5e2cb634",
   "metadata": {},
   "outputs": [],
   "source": [
    "# コンテスト後"
   ]
  },
  {
   "cell_type": "code",
   "execution_count": 73,
   "id": "d8961fb9-2632-49bd-8fa5-0440b0939922",
   "metadata": {
    "tags": []
   },
   "outputs": [],
   "source": [
    "from itertools import product\n",
    "num321 = []\n",
    "for P in product([0, 1], repeat=10):\n",
    "    if sum(P) == 0:\n",
    "        continue\n",
    "    c, n = 0, 1\n",
    "    for i, p in enumerate(P[::-1]):\n",
    "        if p == 0:\n",
    "            continue\n",
    "        c += 10**(n-1) * i\n",
    "        n += 1\n",
    "    num321.append(c)"
   ]
  },
  {
   "cell_type": "code",
   "execution_count": 74,
   "id": "8fb3fea0-c8b5-4138-b94d-825226d31639",
   "metadata": {
    "tags": []
   },
   "outputs": [
    {
     "name": "stdout",
     "output_type": "stream",
     "text": [
      "983210\n"
     ]
    }
   ],
   "source": [
    "num321.sort()\n",
    "print(num321[K])"
   ]
  },
  {
   "cell_type": "code",
   "execution_count": 75,
   "id": "d65c663e-64ce-4c76-9a7a-87dc47099a22",
   "metadata": {
    "tags": []
   },
   "outputs": [
    {
     "data": {
      "text/plain": [
       "(1023, 9876543210, [0, 1, 2])"
      ]
     },
     "execution_count": 75,
     "metadata": {},
     "output_type": "execute_result"
    }
   ],
   "source": [
    "len(num321), num321[-1], num321[:3]"
   ]
  },
  {
   "cell_type": "code",
   "execution_count": 22,
   "id": "80963a1c-6709-4010-825d-7b8f81b92655",
   "metadata": {
    "tags": []
   },
   "outputs": [
    {
     "data": {
      "text/plain": [
       "[(0, 0, 0),\n",
       " (0, 0, 1),\n",
       " (0, 1, 0),\n",
       " (0, 1, 1),\n",
       " (1, 0, 0),\n",
       " (1, 0, 1),\n",
       " (1, 1, 0),\n",
       " (1, 1, 1)]"
      ]
     },
     "execution_count": 22,
     "metadata": {},
     "output_type": "execute_result"
    }
   ],
   "source": [
    "list(product([0, 1], repeat=3))"
   ]
  },
  {
   "cell_type": "code",
   "execution_count": 43,
   "id": "d4f6a863-3d3a-4e8b-8b86-6ec743a3d8a0",
   "metadata": {
    "tags": []
   },
   "outputs": [
    {
     "data": {
      "text/plain": [
       "512"
      ]
     },
     "execution_count": 43,
     "metadata": {},
     "output_type": "execute_result"
    }
   ],
   "source": [
    "len(num321)"
   ]
  },
  {
   "cell_type": "code",
   "execution_count": 80,
   "id": "23510e8b-c7f2-4b60-9c1f-6b9a374ce9e9",
   "metadata": {
    "tags": []
   },
   "outputs": [
    {
     "data": {
      "text/plain": [
       "0"
      ]
     },
     "execution_count": 80,
     "metadata": {},
     "output_type": "execute_result"
    }
   ],
   "source": [
    "4>>4 & 1"
   ]
  },
  {
   "cell_type": "code",
   "execution_count": 81,
   "id": "6c46cd88-2113-45ea-89d7-dac93297d36f",
   "metadata": {
    "tags": []
   },
   "outputs": [
    {
     "name": "stdout",
     "output_type": "stream",
     "text": [
      "59.794705707972525\n"
     ]
    }
   ],
   "source": [
    "import math\n",
    "print(math.log2(10**18))"
   ]
  },
  {
   "cell_type": "code",
   "execution_count": null,
   "id": "1db67534-f2e9-41b1-88fe-7bc7576bd6eb",
   "metadata": {},
   "outputs": [],
   "source": []
  }
 ],
 "metadata": {
  "kernelspec": {
   "display_name": "Python 3 (ipykernel)",
   "language": "python",
   "name": "python3"
  },
  "language_info": {
   "codemirror_mode": {
    "name": "ipython",
    "version": 3
   },
   "file_extension": ".py",
   "mimetype": "text/x-python",
   "name": "python",
   "nbconvert_exporter": "python",
   "pygments_lexer": "ipython3",
   "version": "3.11.3"
  }
 },
 "nbformat": 4,
 "nbformat_minor": 5
}
