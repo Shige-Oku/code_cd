{
 "cells": [
  {
   "cell_type": "code",
   "execution_count": 2,
   "id": "25f274c8-9eee-4471-a041-8d9e6d83f323",
   "metadata": {},
   "outputs": [],
   "source": [
    "import sys\n",
    "import numpy as np\n",
    "import math\n",
    "import collections\n",
    "import copy\n",
    "import decimal\n",
    "import itertools\n",
    "import re\n",
    "import bisect\n",
    "import scipy\n",
    "import heapq\n",
    "from collections import deque \n",
    "from functools import reduce\n",
    "from itertools import product\n",
    "from itertools import combinations\n",
    "from functools import lru_cache\n",
    "from scipy.special import comb\n",
    "from numba import njit\n",
    "from bisect import bisect_right\n",
    "from bisect import bisect_left"
   ]
  },
  {
   "cell_type": "code",
   "execution_count": 147,
   "id": "28c9b13f-aa0d-431a-a674-4138559c9549",
   "metadata": {},
   "outputs": [
    {
     "name": "stdin",
     "output_type": "stream",
     "text": [
      " 5 0 4 0 0\n"
     ]
    }
   ],
   "source": [
    "N, A, B, C, D = map(int, input().split())"
   ]
  },
  {
   "cell_type": "code",
   "execution_count": 112,
   "id": "0d59590c-3de3-4095-a461-e7ac1d35e720",
   "metadata": {},
   "outputs": [],
   "source": [
    "xl, xr, yl, yr = 0, 0, 0, 0\n",
    "xl += A\n",
    "xl += B\n",
    "xr += A\n",
    "xr += C\n",
    "yl += C\n",
    "yl += D\n",
    "yr += B\n",
    "yr += D"
   ]
  },
  {
   "cell_type": "code",
   "execution_count": 148,
   "id": "46eb0047-30ec-4e83-a938-c6fa2e4c1334",
   "metadata": {},
   "outputs": [],
   "source": [
    "def solve():\n",
    "    l = sum([A, B, C, D]) * 2\n",
    "    xx, xy, yx, yy = [A, A], [B, B], [C, C], [D, D]\n",
    "    d = 0\n",
    "    e = min(xx[1], xy[0])\n",
    "    d += e\n",
    "    xx[1] -= e\n",
    "    xy[0] -= e\n",
    "    e = min(xx[0], yx[1])\n",
    "    d += e\n",
    "    xx[0] -= e\n",
    "    yx[1] -= e\n",
    "    e = min(xy[0], yx[1])\n",
    "    d += e\n",
    "    xy[0] -= e\n",
    "    yx[1] -= e\n",
    "    e = min(xx[0], xx[1])\n",
    "    d += e\n",
    "    xx[0] -= e\n",
    "    xx[1] -= e\n",
    "\n",
    "    e = min(yy[0], xy[1])\n",
    "    d += e\n",
    "    yy[0] -= e\n",
    "    xy[1] -= e\n",
    "    e = min(yy[1], yx[0])\n",
    "    d += e\n",
    "    yy[1] -= e\n",
    "    yx[0] -= e\n",
    "    e = min(xy[1], yx[0])\n",
    "    d += e\n",
    "    xy[1] -= e\n",
    "    yx[0] -= e\n",
    "    e = min(yy[0], yy[1])\n",
    "    d += e\n",
    "    yy[0] -= e\n",
    "    yy[1] -= e\n",
    "    t = sum([sum(xx), sum(xy), sum(yx), sum(yy)])\n",
    "    if t == 0:\n",
    "        d -= 1\n",
    "#     print(l, N, d)\n",
    "    return l - N <= d"
   ]
  },
  {
   "cell_type": "code",
   "execution_count": 149,
   "id": "fb3c23b1-ab69-4e16-8776-1e47accc2f3d",
   "metadata": {},
   "outputs": [
    {
     "name": "stdout",
     "output_type": "stream",
     "text": [
      "No\n"
     ]
    }
   ],
   "source": [
    "print('Yes' if solve() else 'No')"
   ]
  },
  {
   "cell_type": "code",
   "execution_count": 100,
   "id": "849fdb6a-4a07-4d9d-9e37-1d0737ec4b23",
   "metadata": {},
   "outputs": [
    {
     "data": {
      "text/plain": [
       "(3, 2, 1, 2)"
      ]
     },
     "execution_count": 100,
     "metadata": {},
     "output_type": "execute_result"
    }
   ],
   "source": [
    "xl, xr, yl, yr"
   ]
  },
  {
   "cell_type": "code",
   "execution_count": 75,
   "id": "9a2295db-b244-419a-a16a-6c35cbfc236a",
   "metadata": {},
   "outputs": [],
   "source": [
    "xxx = [A, A]"
   ]
  },
  {
   "cell_type": "code",
   "execution_count": 76,
   "id": "04990dc7-27c6-4a10-a3a8-0de398887172",
   "metadata": {},
   "outputs": [
    {
     "data": {
      "text/plain": [
       "[1, 1]"
      ]
     },
     "execution_count": 76,
     "metadata": {},
     "output_type": "execute_result"
    }
   ],
   "source": [
    "xxx"
   ]
  },
  {
   "cell_type": "code",
   "execution_count": 134,
   "id": "ba6c41fd-e71c-4b2d-bbe4-1ad1638f32b8",
   "metadata": {},
   "outputs": [
    {
     "ename": "TypeError",
     "evalue": "unsupported operand type(s) for +: 'int' and 'list'",
     "output_type": "error",
     "traceback": [
      "\u001b[1;31m---------------------------------------------------------------------------\u001b[0m",
      "\u001b[1;31mTypeError\u001b[0m                                 Traceback (most recent call last)",
      "\u001b[1;32m<ipython-input-134-172a5f7d508d>\u001b[0m in \u001b[0;36m<module>\u001b[1;34m\u001b[0m\n\u001b[1;32m----> 1\u001b[1;33m \u001b[0msum\u001b[0m\u001b[1;33m(\u001b[0m\u001b[1;33m[\u001b[0m\u001b[1;33m[\u001b[0m\u001b[1;36m1\u001b[0m\u001b[1;33m,\u001b[0m \u001b[1;36m2\u001b[0m\u001b[1;33m]\u001b[0m\u001b[1;33m,\u001b[0m \u001b[1;33m[\u001b[0m\u001b[1;36m3\u001b[0m\u001b[1;33m,\u001b[0m \u001b[1;36m4\u001b[0m\u001b[1;33m]\u001b[0m\u001b[1;33m]\u001b[0m\u001b[1;33m)\u001b[0m\u001b[1;33m\u001b[0m\u001b[1;33m\u001b[0m\u001b[0m\n\u001b[0m",
      "\u001b[1;31mTypeError\u001b[0m: unsupported operand type(s) for +: 'int' and 'list'"
     ]
    }
   ],
   "source": [
    "sum([[1, 2], [3, 4]])"
   ]
  },
  {
   "cell_type": "code",
   "execution_count": null,
   "id": "0a529c49-ca33-46eb-89cd-b868c854ebe0",
   "metadata": {},
   "outputs": [],
   "source": []
  }
 ],
 "metadata": {
  "kernelspec": {
   "display_name": "Python 3",
   "language": "python",
   "name": "python3"
  },
  "language_info": {
   "codemirror_mode": {
    "name": "ipython",
    "version": 3
   },
   "file_extension": ".py",
   "mimetype": "text/x-python",
   "name": "python",
   "nbconvert_exporter": "python",
   "pygments_lexer": "ipython3",
   "version": "3.6.13"
  }
 },
 "nbformat": 4,
 "nbformat_minor": 5
}
