{
 "cells": [
  {
   "cell_type": "code",
   "execution_count": 1,
   "id": "813f23e6-f24c-4850-9db7-55bd3c6c12f7",
   "metadata": {
    "tags": []
   },
   "outputs": [],
   "source": [
    "import sys\n",
    "import numpy as np\n",
    "import math\n",
    "import collections\n",
    "import copy\n",
    "import decimal\n",
    "import itertools\n",
    "import re\n",
    "import bisect\n",
    "import scipy\n",
    "import heapq\n",
    "from collections import deque \n",
    "from functools import reduce\n",
    "from itertools import product\n",
    "from itertools import combinations\n",
    "from functools import lru_cache\n",
    "from scipy.special import comb\n",
    "from numba import njit\n",
    "from bisect import bisect_right\n",
    "from bisect import bisect_left"
   ]
  },
  {
   "cell_type": "code",
   "execution_count": 14,
   "id": "27464a5e-bde6-4b5f-a6cc-d87cd6ef2215",
   "metadata": {
    "tags": []
   },
   "outputs": [
    {
     "name": "stdin",
     "output_type": "stream",
     "text": [
      " 3 3\n"
     ]
    }
   ],
   "source": [
    "H, W = map(int, input().split())"
   ]
  },
  {
   "cell_type": "code",
   "execution_count": 15,
   "id": "f724746f-c1cc-43ca-8252-ee38716615ac",
   "metadata": {
    "tags": []
   },
   "outputs": [
    {
     "name": "stdin",
     "output_type": "stream",
     "text": [
      " #.#\n",
      " .#.\n",
      " #.#\n"
     ]
    }
   ],
   "source": [
    "Sh = [input() for _ in range(H)]"
   ]
  },
  {
   "cell_type": "code",
   "execution_count": 16,
   "id": "97a2dbe0-e9e8-41cd-a30d-0ee98e2d0b7d",
   "metadata": {},
   "outputs": [],
   "source": [
    "from collections import defaultdict\n",
    "import sys\n",
    "sys.setrecursionlimit(10**7)\n",
    "class UnionFind():\n",
    "    # イニシャライザ\n",
    "    def __init__(self, n):\n",
    "        self.n = n  # 頂点の数\n",
    "        self.parents = [-1] * n  # 親の頂点。根は -1\n",
    "        self.size = [1] * n  # 各頂点の所属する木の頂点数\n",
    "        sys.setrecursionlimit(10**7)\n",
    "        \n",
    "    # 根を返す\n",
    "    def root(self, x):\n",
    "        if self.parents[x] < 0: # 根なのでそのまま返す\n",
    "            return x\n",
    "        else:\n",
    "            self.parents[x] = self.root(self.parents[x])  # 経路圧縮\n",
    "            return self.parents[x]\n",
    "        \n",
    "    # x, y が同じ木に属するか\n",
    "    def issame(self, x, y):\n",
    "        return self.root(x) == self.root(y)\n",
    "    \n",
    "    # x y を併合する    \n",
    "    def unite(self, x, y):\n",
    "        x = self.root(x)\n",
    "        y = self.root(y)\n",
    "        \n",
    "        # 元々同じ木に所属するので、何もせずリターン\n",
    "        if x == y:\n",
    "            return False\n",
    "        \n",
    "        # 大きいほうにまとめる。 y を x にまとめるようにスワップ\n",
    "        if self.parents[x] < self.parents[y]:\n",
    "            x, y = y, x\n",
    "        # 小さいほうの親を大きいほうを親に\n",
    "        self.parents[y] = x\n",
    "        # 大きいほうの頂点に小さいほうの数を加算\n",
    "        self.size[x] += self.size[y]\n",
    "        return True\n",
    "    \n",
    "    # x の所属する頂点数を返す\n",
    "    def getsize(self, x):\n",
    "        return self.size[self.root(x)]\n",
    "\n",
    "    # x の所属する頂点の一覧を返す\n",
    "    def getmembers(self, x):\n",
    "        root = self.root(x)\n",
    "        return [i for i in range(self.n) if self.root(i) == root]    "
   ]
  },
  {
   "cell_type": "code",
   "execution_count": 34,
   "id": "b8f5b04b-5da6-4603-acd2-0e15f41b3561",
   "metadata": {
    "tags": []
   },
   "outputs": [],
   "source": [
    "sensors = {}\n",
    "cnt = 0\n",
    "for h in range(H):\n",
    "    for w in range(W):\n",
    "        if Sh[h][w] == '#':\n",
    "            sensors[(h, w)] = cnt\n",
    "            cnt += 1"
   ]
  },
  {
   "cell_type": "code",
   "execution_count": 44,
   "id": "e066ecd8-fe25-498f-92d9-51061be3fcaa",
   "metadata": {
    "tags": []
   },
   "outputs": [],
   "source": [
    "uf = UnionFind(cnt+1)\n",
    "for (h, w), p in sensors.items():\n",
    "    for i in range(-1, 2):\n",
    "        for j in range(-1, 2):\n",
    "            if i == j == 0:\n",
    "                continue\n",
    "            if (h+i, w+j) in sensors:\n",
    "                uf.unite(p, sensors[h+i, w+j])\n"
   ]
  },
  {
   "cell_type": "code",
   "execution_count": 45,
   "id": "f734c104-fbaf-493d-82c9-473c2e457cd1",
   "metadata": {
    "tags": []
   },
   "outputs": [],
   "source": [
    "ans = set()\n",
    "for i in range(len(sensors)):\n",
    "    ans.add(uf.root(i))"
   ]
  },
  {
   "cell_type": "code",
   "execution_count": 43,
   "id": "c2b247c7-a5da-4408-9446-f14b5dc3ab16",
   "metadata": {
    "tags": []
   },
   "outputs": [
    {
     "name": "stdout",
     "output_type": "stream",
     "text": [
      "1\n"
     ]
    }
   ],
   "source": [
    "print(len(ans))"
   ]
  },
  {
   "cell_type": "code",
   "execution_count": 32,
   "id": "3176cad0-8cc6-405d-ab2d-8c55ab418116",
   "metadata": {
    "tags": []
   },
   "outputs": [
    {
     "name": "stdout",
     "output_type": "stream",
     "text": [
      "0 0\n",
      "1 1\n",
      "2 1\n",
      "3 1\n",
      "4 1\n"
     ]
    }
   ],
   "source": [
    "for i in range(cnt):\n",
    "    print(i, uf.root(i))"
   ]
  },
  {
   "cell_type": "code",
   "execution_count": 36,
   "id": "4719697e-5550-4c5b-935e-0e1990ac25ff",
   "metadata": {
    "tags": []
   },
   "outputs": [],
   "source": [
    "a, b = 0, 0\n",
    "for i in range(-1, 2):\n",
    "    for j in range(-1, 2):\n",
    "        if i == j == 0:\n",
    "            continue\n",
    "        if (a+i, a+j) in sensors:\n",
    "            uf.unite(i, sensors[a+i, b+j])"
   ]
  },
  {
   "cell_type": "code",
   "execution_count": 33,
   "id": "0ea8d836-8d24-4ce3-be3f-7709bc6ba325",
   "metadata": {
    "tags": []
   },
   "outputs": [
    {
     "data": {
      "text/plain": [
       "2"
      ]
     },
     "execution_count": 33,
     "metadata": {},
     "output_type": "execute_result"
    }
   ],
   "source": [
    "sensors[(1, 1)]"
   ]
  },
  {
   "cell_type": "code",
   "execution_count": 22,
   "id": "b3a3e757-bf48-4e02-8d5e-8c936f5e0c64",
   "metadata": {
    "tags": []
   },
   "outputs": [
    {
     "data": {
      "text/plain": [
       "({0, 1}, 5)"
      ]
     },
     "execution_count": 22,
     "metadata": {},
     "output_type": "execute_result"
    }
   ],
   "source": [
    "ans, cnt"
   ]
  },
  {
   "cell_type": "code",
   "execution_count": 23,
   "id": "70bf4e97-67cb-4277-a529-756589be6c73",
   "metadata": {
    "tags": []
   },
   "outputs": [
    {
     "data": {
      "text/plain": [
       "{(0, 0): 0, (0, 2): 1, (1, 1): 2, (2, 0): 3, (2, 2): 4}"
      ]
     },
     "execution_count": 23,
     "metadata": {},
     "output_type": "execute_result"
    }
   ],
   "source": [
    "sensors"
   ]
  },
  {
   "cell_type": "code",
   "execution_count": 8,
   "id": "f179c622-229a-433c-8d87-77c2d21be6d6",
   "metadata": {
    "tags": []
   },
   "outputs": [
    {
     "name": "stdout",
     "output_type": "stream",
     "text": [
      "-1 -1\n",
      "-1 0\n",
      "-1 1\n",
      "0 -1\n",
      "0 0\n",
      "0 1\n",
      "1 -1\n",
      "1 0\n",
      "1 1\n"
     ]
    }
   ],
   "source": [
    "for i in range(-1, 2):\n",
    "    for j in range(-1, 2):\n",
    "        print(i, j)"
   ]
  },
  {
   "cell_type": "code",
   "execution_count": 10,
   "id": "63d2424f-fde9-43c4-973a-ee84aa20db98",
   "metadata": {
    "tags": []
   },
   "outputs": [
    {
     "data": {
      "text/plain": [
       "<__main__.UnionFind at 0x274a967d750>"
      ]
     },
     "execution_count": 10,
     "metadata": {},
     "output_type": "execute_result"
    }
   ],
   "source": [
    "uf"
   ]
  },
  {
   "cell_type": "code",
   "execution_count": null,
   "id": "3538355a-96e1-41a2-9705-ccc6855364d9",
   "metadata": {},
   "outputs": [],
   "source": []
  }
 ],
 "metadata": {
  "kernelspec": {
   "display_name": "Python 3 (ipykernel)",
   "language": "python",
   "name": "python3"
  },
  "language_info": {
   "codemirror_mode": {
    "name": "ipython",
    "version": 3
   },
   "file_extension": ".py",
   "mimetype": "text/x-python",
   "name": "python",
   "nbconvert_exporter": "python",
   "pygments_lexer": "ipython3",
   "version": "3.11.3"
  }
 },
 "nbformat": 4,
 "nbformat_minor": 5
}
