{
 "cells": [
  {
   "cell_type": "code",
   "execution_count": 1,
   "id": "835f81d1-9f18-4e6a-9d77-662e89849b82",
   "metadata": {
    "tags": []
   },
   "outputs": [],
   "source": [
    "import sys\n",
    "import numpy as np\n",
    "import math\n",
    "import collections\n",
    "import copy\n",
    "import decimal\n",
    "import itertools\n",
    "import re\n",
    "import bisect\n",
    "import scipy\n",
    "import heapq\n",
    "from collections import deque \n",
    "from functools import reduce\n",
    "from itertools import product\n",
    "from itertools import combinations\n",
    "from functools import lru_cache\n",
    "from scipy.special import comb\n",
    "from numba import njit\n",
    "from bisect import bisect_right\n",
    "from bisect import bisect_left"
   ]
  },
  {
   "cell_type": "code",
   "execution_count": 2,
   "id": "bb92aed1-d895-40db-8605-b1ce47d674ce",
   "metadata": {
    "tags": []
   },
   "outputs": [
    {
     "name": "stdin",
     "output_type": "stream",
     "text": [
      " 5\n"
     ]
    }
   ],
   "source": [
    "N = int(input())"
   ]
  },
  {
   "cell_type": "code",
   "execution_count": 3,
   "id": "70741bcc-66bc-494c-bfdc-0c61248d62e1",
   "metadata": {
    "tags": []
   },
   "outputs": [
    {
     "name": "stdin",
     "output_type": "stream",
     "text": [
      " 1 1\n",
      " 1 1\n",
      " 2 1\n",
      " 1 2\n",
      " 1 4\n"
     ]
    }
   ],
   "source": [
    "TDn = [list(map(int, input().split())) for _ in range(N)]"
   ]
  },
  {
   "cell_type": "code",
   "execution_count": null,
   "id": "eb4f1374-77c5-4988-a9b7-e28cb94b2e74",
   "metadata": {},
   "outputs": [],
   "source": [
    "# WA"
   ]
  },
  {
   "cell_type": "code",
   "execution_count": 51,
   "id": "b3567961-ab41-4fff-b5e8-dc6686c3c433",
   "metadata": {
    "tags": []
   },
   "outputs": [],
   "source": [
    "TDn2 = []\n",
    "for T, D in TDn:\n",
    "    TDn2.append((T, T+D))\n",
    "TDn_s = sorted(TDn2, key=lambda x:(x[1], x[0]))"
   ]
  },
  {
   "cell_type": "code",
   "execution_count": 65,
   "id": "482ff38a-b8b1-4414-834d-4e5f5d12bc9a",
   "metadata": {
    "tags": []
   },
   "outputs": [
    {
     "name": "stdout",
     "output_type": "stream",
     "text": [
      "1 2\n",
      "1 2 3 1 0\n",
      "1 2\n",
      "1 2 4 2 1\n",
      "1 3\n",
      "1 3 5 3 2\n",
      "2 3\n",
      "2 3 6 4 3\n",
      "1 5\n",
      "1 5 7 5 4\n"
     ]
    }
   ],
   "source": [
    "ans = 0\n",
    "t = TDn_s[0][1]\n",
    "for i, (S, E) in enumerate(TDn_s):\n",
    "    print(S, E)\n",
    "    if E > t :\n",
    "        continue\n",
    "    # if E > t:\n",
    "    #     e = E\n",
    "    ans += 1\n",
    "    if E > t:\n",
    "        t = E + 1\n",
    "    else:\n",
    "        t += 1\n",
    "    print(S, E, t, ans, i)\n"
   ]
  },
  {
   "cell_type": "code",
   "execution_count": 66,
   "id": "09f6b7de-189e-4887-8f94-f82390a5b464",
   "metadata": {
    "tags": []
   },
   "outputs": [
    {
     "name": "stdout",
     "output_type": "stream",
     "text": [
      "5\n"
     ]
    }
   ],
   "source": [
    "print(ans)"
   ]
  },
  {
   "cell_type": "code",
   "execution_count": 54,
   "id": "8d77f70e-a04f-4638-9a2e-187f30521585",
   "metadata": {
    "tags": []
   },
   "outputs": [
    {
     "data": {
      "text/plain": [
       "2"
      ]
     },
     "execution_count": 54,
     "metadata": {},
     "output_type": "execute_result"
    }
   ],
   "source": [
    "sum(TDn[1])"
   ]
  },
  {
   "cell_type": "code",
   "execution_count": 55,
   "id": "a860d22b-15f5-40f2-a7ec-7d200d2d8853",
   "metadata": {
    "tags": []
   },
   "outputs": [
    {
     "data": {
      "text/plain": [
       "[(1, 2), (1, 2), (1, 3), (2, 3), (1, 5)]"
      ]
     },
     "execution_count": 55,
     "metadata": {},
     "output_type": "execute_result"
    }
   ],
   "source": [
    "TDn_s"
   ]
  },
  {
   "cell_type": "code",
   "execution_count": null,
   "id": "4d010d1e-4687-4704-b65e-722d3d2f528b",
   "metadata": {},
   "outputs": [],
   "source": []
  }
 ],
 "metadata": {
  "kernelspec": {
   "display_name": "Python 3 (ipykernel)",
   "language": "python",
   "name": "python3"
  },
  "language_info": {
   "codemirror_mode": {
    "name": "ipython",
    "version": 3
   },
   "file_extension": ".py",
   "mimetype": "text/x-python",
   "name": "python",
   "nbconvert_exporter": "python",
   "pygments_lexer": "ipython3",
   "version": "3.11.3"
  }
 },
 "nbformat": 4,
 "nbformat_minor": 5
}
