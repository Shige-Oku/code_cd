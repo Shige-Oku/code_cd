{
 "cells": [
  {
   "cell_type": "code",
   "execution_count": 1,
   "id": "f6c7e718-fc3e-46cb-85e7-5dda42d7c629",
   "metadata": {
    "tags": []
   },
   "outputs": [],
   "source": [
    "import sys\n",
    "import numpy as np\n",
    "import math\n",
    "import collections\n",
    "import copy\n",
    "import decimal\n",
    "import itertools\n",
    "import re\n",
    "import bisect\n",
    "import scipy\n",
    "import heapq\n",
    "from collections import deque \n",
    "from functools import reduce\n",
    "from itertools import product\n",
    "from itertools import combinations\n",
    "from functools import lru_cache\n",
    "from scipy.special import comb\n",
    "from numba import njit\n",
    "from bisect import bisect_right\n",
    "from bisect import bisect_left"
   ]
  },
  {
   "cell_type": "code",
   "execution_count": null,
   "id": "7958aaf8-1b4a-45a0-97bc-90186bdb47e8",
   "metadata": {},
   "outputs": [],
   "source": [
    "# 解説を読んで実装"
   ]
  },
  {
   "cell_type": "code",
   "execution_count": 1,
   "id": "63c58dd9-0f5d-4998-9216-eee2c0d4307b",
   "metadata": {},
   "outputs": [
    {
     "name": "stdin",
     "output_type": "stream",
     "text": [
      " 4 8 5 13\n"
     ]
    }
   ],
   "source": [
    "N, A, B, C = map(int, input().split())"
   ]
  },
  {
   "cell_type": "code",
   "execution_count": 2,
   "id": "79bddd36-cbad-406d-8e94-1136974c1c43",
   "metadata": {
    "tags": []
   },
   "outputs": [
    {
     "name": "stdin",
     "output_type": "stream",
     "text": [
      " 0 6 2 15\n",
      " 6 0 3 5\n",
      " 2 3 0 13\n",
      " 15 5 13 0\n"
     ]
    }
   ],
   "source": [
    "Dn = [list(map(int, input().split())) for _ in range(N)]"
   ]
  },
  {
   "cell_type": "code",
   "execution_count": 22,
   "id": "5ecb1f65-85fb-4d9f-bade-4825ff27e102",
   "metadata": {
    "tags": []
   },
   "outputs": [],
   "source": [
    "import heapq\n",
    "def Dijkstra(s, g, graph, visit, dist):\n",
    "    q = []\n",
    "    heapq.heappush(q, (s, 0))\n",
    "    dist[s] = 0\n",
    "    while q:\n",
    "        p, c = heapq.heappop(q)\n",
    "        if visit[p]:\n",
    "            continue\n",
    "        for np, nc in graph[p]:\n",
    "            if dist[np] == -1 or dist[np] > dist[p] + nc:\n",
    "                dist[np] = dist[p] + nc\n",
    "                heapq.heappush(q, (np, dist[np]))\n",
    "    return"
   ]
  },
  {
   "cell_type": "code",
   "execution_count": 23,
   "id": "d3565101-d42f-4f67-bbf4-8a3cec5209a3",
   "metadata": {
    "tags": []
   },
   "outputs": [],
   "source": [
    "graph_car = [[] for _ in range(N+1)]\n",
    "graph_train = [[] for _ in range(N+1)]\n",
    "for i, D in enumerate(Dn, 1):\n",
    "    for j, d in enumerate(D, 1):\n",
    "        if i == j:\n",
    "            continue\n",
    "        graph_car[i].append((j, d * A))\n",
    "        graph_train[i].append((j, d * B + C))\n"
   ]
  },
  {
   "cell_type": "code",
   "execution_count": 24,
   "id": "6bae4e59-8da7-42f5-9665-02d683bbd752",
   "metadata": {
    "tags": []
   },
   "outputs": [],
   "source": [
    "visit_car = [False] * (N+1)\n",
    "dist_car = [-1] * (N+1)\n",
    "Dijkstra(1, N, graph_car, visit_car, dist_car)\n"
   ]
  },
  {
   "cell_type": "code",
   "execution_count": 31,
   "id": "0316ab00-4f43-4934-b750-9d0802a6229a",
   "metadata": {
    "tags": []
   },
   "outputs": [],
   "source": [
    "visit_train = [False] * (N+1)\n",
    "dist_train = [-1] * (N+1)\n",
    "Dijkstra(N, 1, graph_train, visit_train, dist_train)"
   ]
  },
  {
   "cell_type": "code",
   "execution_count": 32,
   "id": "473cbcbc-6814-4fd5-bded-9d029320be63",
   "metadata": {
    "tags": []
   },
   "outputs": [],
   "source": [
    "ans = 10**20\n",
    "for i in range(1, N+1):\n",
    "    ans = min(ans, dist_car[i] + dist_train[i])"
   ]
  },
  {
   "cell_type": "code",
   "execution_count": 33,
   "id": "54b3b396-d3f6-4f70-af57-715207453731",
   "metadata": {
    "tags": []
   },
   "outputs": [
    {
     "name": "stdout",
     "output_type": "stream",
     "text": [
      "78\n"
     ]
    }
   ],
   "source": [
    "print(ans)"
   ]
  },
  {
   "cell_type": "code",
   "execution_count": 29,
   "id": "6fc5dc2b-01c2-4fb1-a795-90d503476f84",
   "metadata": {
    "tags": []
   },
   "outputs": [
    {
     "data": {
      "text/plain": [
       "([[],\n",
       "  [(2, 48), (3, 16), (4, 120)],\n",
       "  [(1, 48), (3, 24), (4, 40)],\n",
       "  [(1, 16), (2, 24), (4, 104)],\n",
       "  [(1, 120), (2, 40), (3, 104)]],\n",
       " [[],\n",
       "  [(2, 43), (3, 23), (4, 88)],\n",
       "  [(1, 43), (3, 28), (4, 38)],\n",
       "  [(1, 23), (2, 28), (4, 78)],\n",
       "  [(1, 88), (2, 38), (3, 78)]])"
      ]
     },
     "execution_count": 29,
     "metadata": {},
     "output_type": "execute_result"
    }
   ],
   "source": [
    "graph_car, graph_train"
   ]
  },
  {
   "cell_type": "code",
   "execution_count": 30,
   "id": "626da785-2d0f-40a0-8039-03408ac69b59",
   "metadata": {
    "tags": []
   },
   "outputs": [
    {
     "data": {
      "text/plain": [
       "([-1, 0, 40, 16, 80], [-1, 0, 43, 23, 81])"
      ]
     },
     "execution_count": 30,
     "metadata": {},
     "output_type": "execute_result"
    }
   ],
   "source": [
    "dist_car, dist_train"
   ]
  },
  {
   "cell_type": "code",
   "execution_count": null,
   "id": "28a60192-28a4-4910-bc3b-0506ff852eff",
   "metadata": {},
   "outputs": [],
   "source": []
  }
 ],
 "metadata": {
  "kernelspec": {
   "display_name": "Python 3 (ipykernel)",
   "language": "python",
   "name": "python3"
  },
  "language_info": {
   "codemirror_mode": {
    "name": "ipython",
    "version": 3
   },
   "file_extension": ".py",
   "mimetype": "text/x-python",
   "name": "python",
   "nbconvert_exporter": "python",
   "pygments_lexer": "ipython3",
   "version": "3.11.3"
  }
 },
 "nbformat": 4,
 "nbformat_minor": 5
}
