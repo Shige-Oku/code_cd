{
 "cells": [
  {
   "cell_type": "code",
   "execution_count": 1,
   "id": "acdb79e7-2091-43c7-9f36-aae5eeaadadd",
   "metadata": {
    "tags": []
   },
   "outputs": [],
   "source": [
    "import sys\n",
    "import numpy as np\n",
    "import math\n",
    "import collections\n",
    "import copy\n",
    "import decimal\n",
    "import itertools\n",
    "import re\n",
    "import bisect\n",
    "import scipy\n",
    "import heapq\n",
    "from collections import deque \n",
    "from functools import reduce\n",
    "from itertools import product\n",
    "from itertools import combinations\n",
    "from functools import lru_cache\n",
    "from scipy.special import comb\n",
    "from numba import njit\n",
    "from bisect import bisect_right\n",
    "from bisect import bisect_left"
   ]
  },
  {
   "cell_type": "code",
   "execution_count": 60,
   "id": "5813ab1d-32e1-4c13-8157-926da7f7dcea",
   "metadata": {
    "tags": []
   },
   "outputs": [
    {
     "name": "stdin",
     "output_type": "stream",
     "text": [
      " -177018739841739480 2436426 -80154573737296504 585335723211047198\n"
     ]
    }
   ],
   "source": [
    "A, M, L, R = map(int, input().split())"
   ]
  },
  {
   "cell_type": "code",
   "execution_count": 61,
   "id": "63ff9630-3527-477e-a3ff-3095840a92de",
   "metadata": {
    "tags": []
   },
   "outputs": [],
   "source": [
    "l = L - A % M\n",
    "r = R - A % M"
   ]
  },
  {
   "cell_type": "code",
   "execution_count": 62,
   "id": "8f8f4f23-11b9-41a0-93f1-40780b377ad6",
   "metadata": {
    "tags": []
   },
   "outputs": [
    {
     "name": "stdout",
     "output_type": "stream",
     "text": [
      "273142010859\n"
     ]
    }
   ],
   "source": [
    "print(r//M - (l-1)//M)"
   ]
  },
  {
   "cell_type": "code",
   "execution_count": 63,
   "id": "60ffb70d-fa59-46eb-b54c-f470e8336511",
   "metadata": {
    "tags": []
   },
   "outputs": [
    {
     "data": {
      "text/plain": [
       "(240243587619, -32898423240)"
      ]
     },
     "execution_count": 63,
     "metadata": {},
     "output_type": "execute_result"
    }
   ],
   "source": [
    "r//M, (l-1)//M"
   ]
  },
  {
   "cell_type": "code",
   "execution_count": 31,
   "id": "0eb6aea6-f8c7-451c-a34e-d69b46423e05",
   "metadata": {
    "tags": []
   },
   "outputs": [
    {
     "data": {
      "text/plain": [
       "273142010858"
      ]
     },
     "execution_count": 31,
     "metadata": {},
     "output_type": "execute_result"
    }
   ],
   "source": [
    "(R - L) // M"
   ]
  },
  {
   "cell_type": "code",
   "execution_count": 32,
   "id": "dc837741-2fd4-4830-80c7-3cd4c9799398",
   "metadata": {
    "tags": []
   },
   "outputs": [
    {
     "data": {
      "text/plain": [
       "(2150850, 1207310, 401078)"
      ]
     },
     "execution_count": 32,
     "metadata": {},
     "output_type": "execute_result"
    }
   ],
   "source": [
    "A % M, L % M, R % M"
   ]
  },
  {
   "cell_type": "code",
   "execution_count": 34,
   "id": "48dd33c7-17a7-4dde-b49b-9d9e4f5e31ac",
   "metadata": {
    "tags": []
   },
   "outputs": [
    {
     "data": {
      "text/plain": [
       "273142010858"
      ]
     },
     "execution_count": 34,
     "metadata": {},
     "output_type": "execute_result"
    }
   ],
   "source": [
    "(R - L - 1) // M"
   ]
  },
  {
   "cell_type": "code",
   "execution_count": 38,
   "id": "0ce26218-de0f-4b8c-bef6-318b8582d601",
   "metadata": {
    "tags": []
   },
   "outputs": [
    {
     "data": {
      "text/plain": [
       "(False, -96864166104442976)"
      ]
     },
     "execution_count": 38,
     "metadata": {},
     "output_type": "execute_result"
    }
   ],
   "source": [
    "A > L, A - L"
   ]
  },
  {
   "cell_type": "code",
   "execution_count": null,
   "id": "40a96003-6772-49c2-9644-df7e2a0fdd5e",
   "metadata": {},
   "outputs": [],
   "source": []
  },
  {
   "cell_type": "code",
   "execution_count": 44,
   "id": "a17af31f-1cf6-4598-942d-47a34a856b83",
   "metadata": {
    "tags": []
   },
   "outputs": [],
   "source": [
    "ans = R - L + 1\n",
    "ans //= M\n",
    "if L % M == A % M:\n",
    "    ans += 1\n",
    "if L != R:\n",
    "    if R % M == A % M:\n",
    "        ans += 1\n"
   ]
  },
  {
   "cell_type": "code",
   "execution_count": 46,
   "id": "a9fe2264-349c-4d01-97d9-f9098a530167",
   "metadata": {
    "tags": []
   },
   "outputs": [
    {
     "data": {
      "text/plain": [
       "0"
      ]
     },
     "execution_count": 46,
     "metadata": {},
     "output_type": "execute_result"
    }
   ],
   "source": [
    "(L % M + R % M) // M"
   ]
  },
  {
   "cell_type": "code",
   "execution_count": null,
   "id": "942512d4-51ae-418d-8618-ab8990f3b4dd",
   "metadata": {},
   "outputs": [],
   "source": [
    "2,436,426 "
   ]
  }
 ],
 "metadata": {
  "kernelspec": {
   "display_name": "Python 3 (ipykernel)",
   "language": "python",
   "name": "python3"
  },
  "language_info": {
   "codemirror_mode": {
    "name": "ipython",
    "version": 3
   },
   "file_extension": ".py",
   "mimetype": "text/x-python",
   "name": "python",
   "nbconvert_exporter": "python",
   "pygments_lexer": "ipython3",
   "version": "3.11.3"
  }
 },
 "nbformat": 4,
 "nbformat_minor": 5
}
