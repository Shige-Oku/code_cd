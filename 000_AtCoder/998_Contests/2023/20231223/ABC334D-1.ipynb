{
 "cells": [
  {
   "cell_type": "code",
   "execution_count": 1,
   "id": "d75639d6-cac9-4b73-910c-7463c8bdc886",
   "metadata": {
    "tags": []
   },
   "outputs": [],
   "source": [
    "import sys\n",
    "import numpy as np\n",
    "import math\n",
    "import collections\n",
    "import copy\n",
    "import decimal\n",
    "import itertools\n",
    "import re\n",
    "import bisect\n",
    "import scipy\n",
    "import heapq\n",
    "from collections import deque \n",
    "from functools import reduce\n",
    "from itertools import product\n",
    "from itertools import combinations\n",
    "from functools import lru_cache\n",
    "from scipy.special import comb\n",
    "from numba import njit\n",
    "from bisect import bisect_right\n",
    "from bisect import bisect_left"
   ]
  },
  {
   "cell_type": "code",
   "execution_count": 2,
   "id": "59cc5a94-7eeb-4273-b342-c30ba39ad8d2",
   "metadata": {
    "tags": []
   },
   "outputs": [
    {
     "name": "stdin",
     "output_type": "stream",
     "text": [
      " 4 3\n"
     ]
    }
   ],
   "source": [
    "N, Q = map(int, input().split())"
   ]
  },
  {
   "cell_type": "code",
   "execution_count": 3,
   "id": "583a0415-a97f-4090-9a36-4eccff5f2c2a",
   "metadata": {
    "tags": []
   },
   "outputs": [
    {
     "name": "stdin",
     "output_type": "stream",
     "text": [
      " 5 3 11 8\n"
     ]
    }
   ],
   "source": [
    "Rn = list(map(int, input().split()))"
   ]
  },
  {
   "cell_type": "code",
   "execution_count": 4,
   "id": "f106b5b7-ec70-4ac5-a860-0ed3ec27fa53",
   "metadata": {
    "tags": []
   },
   "outputs": [
    {
     "name": "stdin",
     "output_type": "stream",
     "text": [
      " 16\n",
      " 7\n",
      " 1000\n"
     ]
    }
   ],
   "source": [
    "Qq = [int(input()) for _ in range(Q)]"
   ]
  },
  {
   "cell_type": "code",
   "execution_count": 8,
   "id": "145aadfa-f931-42fa-8f9a-37399604e659",
   "metadata": {
    "tags": []
   },
   "outputs": [],
   "source": [
    "from itertools import accumulate\n",
    "Rn_s = sorted(Rn)\n",
    "Rn_c = [0] + list(accumulate(Rn_s))"
   ]
  },
  {
   "cell_type": "code",
   "execution_count": 10,
   "id": "ce3558c2-87cd-4a52-9147-f0496ef3a55c",
   "metadata": {
    "tags": []
   },
   "outputs": [
    {
     "name": "stdout",
     "output_type": "stream",
     "text": [
      "3\n",
      "1\n",
      "4\n"
     ]
    }
   ],
   "source": [
    "from bisect import bisect_right\n",
    "for q in Qq:\n",
    "    ans = bisect_right(Rn_c, q)\n",
    "    print(ans - 1)"
   ]
  },
  {
   "cell_type": "code",
   "execution_count": 9,
   "id": "3c21f827-2851-46c8-a36f-cf24fa716a9e",
   "metadata": {
    "tags": []
   },
   "outputs": [
    {
     "data": {
      "text/plain": [
       "([3, 5, 8, 11], [0, 3, 8, 16, 27])"
      ]
     },
     "execution_count": 9,
     "metadata": {},
     "output_type": "execute_result"
    }
   ],
   "source": [
    "Rn_s, Rn_c"
   ]
  },
  {
   "cell_type": "code",
   "execution_count": null,
   "id": "745e115f-71de-404a-bb54-3bc215047ae3",
   "metadata": {},
   "outputs": [],
   "source": []
  }
 ],
 "metadata": {
  "kernelspec": {
   "display_name": "Python 3 (ipykernel)",
   "language": "python",
   "name": "python3"
  },
  "language_info": {
   "codemirror_mode": {
    "name": "ipython",
    "version": 3
   },
   "file_extension": ".py",
   "mimetype": "text/x-python",
   "name": "python",
   "nbconvert_exporter": "python",
   "pygments_lexer": "ipython3",
   "version": "3.11.3"
  }
 },
 "nbformat": 4,
 "nbformat_minor": 5
}
