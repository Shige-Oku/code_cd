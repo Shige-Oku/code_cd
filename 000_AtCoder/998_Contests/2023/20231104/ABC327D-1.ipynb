{
 "cells": [
  {
   "cell_type": "code",
   "execution_count": 1,
   "id": "7e335115-3d4d-49f1-8662-c92544406d7d",
   "metadata": {
    "tags": []
   },
   "outputs": [],
   "source": [
    "import sys\n",
    "import numpy as np\n",
    "import math\n",
    "import collections\n",
    "import copy\n",
    "import decimal\n",
    "import itertools\n",
    "import re\n",
    "import bisect\n",
    "import scipy\n",
    "import heapq\n",
    "from collections import deque \n",
    "from functools import reduce\n",
    "from itertools import product\n",
    "from itertools import combinations\n",
    "from functools import lru_cache\n",
    "from scipy.special import comb\n",
    "from numba import njit\n",
    "from bisect import bisect_right\n",
    "from bisect import bisect_left"
   ]
  },
  {
   "cell_type": "code",
   "execution_count": 15,
   "id": "e232a22c-1876-46b2-8bce-7803a6117b37",
   "metadata": {
    "tags": []
   },
   "outputs": [
    {
     "name": "stdin",
     "output_type": "stream",
     "text": [
      " 3 3\n"
     ]
    }
   ],
   "source": [
    "N, M = map(int, input().split())"
   ]
  },
  {
   "cell_type": "code",
   "execution_count": 16,
   "id": "8c920e90-d916-4740-bbad-be729148f904",
   "metadata": {
    "tags": []
   },
   "outputs": [
    {
     "name": "stdin",
     "output_type": "stream",
     "text": [
      " 1 2 3\n"
     ]
    }
   ],
   "source": [
    "An = list(map(int, input().split()))"
   ]
  },
  {
   "cell_type": "code",
   "execution_count": 17,
   "id": "66e72e3d-7c0f-4c99-8300-fcd8bb01c291",
   "metadata": {
    "tags": []
   },
   "outputs": [
    {
     "name": "stdin",
     "output_type": "stream",
     "text": [
      " 2 3 1\n"
     ]
    }
   ],
   "source": [
    "Bn = list(map(int, input().split()))"
   ]
  },
  {
   "cell_type": "code",
   "execution_count": null,
   "id": "c1809d33-2a9b-4834-aeff-b81e19f86441",
   "metadata": {},
   "outputs": [],
   "source": [
    "# コンテスト終了後"
   ]
  },
  {
   "cell_type": "code",
   "execution_count": 18,
   "id": "9ce4ec59-78a0-49af-af8a-bbc3c7d87cd4",
   "metadata": {
    "tags": []
   },
   "outputs": [],
   "source": [
    "graph = [[] for _ in range(N+1)]\n",
    "for A, B in zip(An, Bn):\n",
    "    graph[A].append(B)\n",
    "    graph[B].append(A)"
   ]
  },
  {
   "cell_type": "code",
   "execution_count": 19,
   "id": "d8b81177-6a8b-4157-bfc4-94bc289a9b02",
   "metadata": {
    "tags": []
   },
   "outputs": [],
   "source": [
    "from collections import deque\n",
    "def solve(n):\n",
    "    q = deque()\n",
    "    q.append(n)\n",
    "    values[n] = 0\n",
    "    while q:\n",
    "        p = q.popleft()\n",
    "        for n in graph[p]:\n",
    "            if values[n] == values[p]:\n",
    "                return False\n",
    "            if values[n] != -1:\n",
    "                continue\n",
    "            values[n] = (values[p] + 1) % 2\n",
    "            q.append(n)\n",
    "    return True"
   ]
  },
  {
   "cell_type": "code",
   "execution_count": 20,
   "id": "2aa6cf9b-769f-41a6-87b1-1855b7a39e17",
   "metadata": {
    "tags": []
   },
   "outputs": [
    {
     "name": "stdout",
     "output_type": "stream",
     "text": [
      "No\n"
     ]
    }
   ],
   "source": [
    "values = [-1] * (N+1)\n",
    "for i in range(1, N+1):\n",
    "    if values[i] == -1:\n",
    "        if not solve(i):\n",
    "            print('No')\n",
    "            break\n",
    "else:\n",
    "    print('Yes')"
   ]
  },
  {
   "cell_type": "code",
   "execution_count": 35,
   "id": "493ca18c-b1b4-41fe-82e9-9dbf020bb85f",
   "metadata": {
    "tags": []
   },
   "outputs": [],
   "source": [
    "import sys\n",
    "sys.setrecursionlimit(10**6)\n",
    "def DFS(n, f):\n",
    "    global OK\n",
    "    if visit[n] != -1:\n",
    "        if visit[n] != f:\n",
    "            OK = False\n",
    "        return\n",
    "    visit[n] = f\n",
    "    for ne in graph[n]:\n",
    "        DFS(ne, (f+1)%2)"
   ]
  },
  {
   "cell_type": "code",
   "execution_count": 36,
   "id": "70e02e83-da53-48c6-802f-27c985b49756",
   "metadata": {
    "tags": []
   },
   "outputs": [],
   "source": [
    "visit = [-1] * (N+1)\n",
    "OK = True\n",
    "for i in range(1, N+1):\n",
    "    if  visit[i] != -1:\n",
    "        continue\n",
    "    DFS(i, 0)"
   ]
  },
  {
   "cell_type": "code",
   "execution_count": 34,
   "id": "e7a9f98d-a9ee-4679-8d3f-207108144019",
   "metadata": {
    "tags": []
   },
   "outputs": [
    {
     "name": "stdout",
     "output_type": "stream",
     "text": [
      "No\n"
     ]
    }
   ],
   "source": [
    "print('Yes' if OK else 'No')"
   ]
  },
  {
   "cell_type": "code",
   "execution_count": 27,
   "id": "73670bce-0b16-40c7-9f2e-8d73215a0633",
   "metadata": {
    "tags": []
   },
   "outputs": [
    {
     "data": {
      "text/plain": [
       "[-1, 0, 1, 0]"
      ]
     },
     "execution_count": 27,
     "metadata": {},
     "output_type": "execute_result"
    }
   ],
   "source": [
    "visit"
   ]
  },
  {
   "cell_type": "code",
   "execution_count": null,
   "id": "35841c4b-b808-4f2f-b98e-e49124188046",
   "metadata": {},
   "outputs": [],
   "source": [
    "# WA"
   ]
  },
  {
   "cell_type": "code",
   "execution_count": null,
   "id": "af477cbb-1cfe-4219-9f27-6bd04378b078",
   "metadata": {},
   "outputs": [],
   "source": []
  },
  {
   "cell_type": "code",
   "execution_count": 151,
   "id": "b7d5be76-a365-4e56-86ae-fd20a78cfc0f",
   "metadata": {
    "tags": []
   },
   "outputs": [],
   "source": [
    "from collections import deque\n",
    "def solve(n):\n",
    "    if len(graphA[n+1]) == 0:\n",
    "        return True\n",
    "    q = deque()\n",
    "    q.append((An[n], 0))\n",
    "    values[An[n]] = 0\n",
    "    while q:\n",
    "        p, f = q.popleft()\n",
    "        for n in graphA[p]:\n",
    "            if values[n] != -1:\n",
    "                if values[n] == values[p]:\n",
    "                    return False\n",
    "                continue\n",
    "            values[n] = (values[p] + 1) % 2\n",
    "            q.append((n, 1))\n",
    "        for n in graphB[p]:\n",
    "            if values[n] != -1:\n",
    "                if values[n] == values[p]:\n",
    "                    return False\n",
    "            else:\n",
    "                values[n] = (values[p]  + 1) % 2\n",
    "                q.append((n, 0))\n",
    "    return True"
   ]
  },
  {
   "cell_type": "code",
   "execution_count": 152,
   "id": "dba7fe0d-d0ce-46c0-ae6d-eed85f235ec9",
   "metadata": {
    "tags": []
   },
   "outputs": [],
   "source": [
    "graphA = [set() for _ in range(N+1)]\n",
    "graphB = [set() for _ in range(N+1)]\n",
    "for A, B in zip(An, Bn):\n",
    "    graphA[A].add(B)\n",
    "    graphB[B].add(A)\n"
   ]
  },
  {
   "cell_type": "code",
   "execution_count": 154,
   "id": "89b81635-dbfd-4401-92fb-aa6ffc91cdfe",
   "metadata": {
    "tags": []
   },
   "outputs": [
    {
     "name": "stdout",
     "output_type": "stream",
     "text": [
      "Yes\n"
     ]
    }
   ],
   "source": [
    "values = [-1] * (N+1)\n",
    "for i in range(N):\n",
    "    if values[i] == -1:\n",
    "        if not solve(i):\n",
    "            print('No')\n",
    "            break\n",
    "else:\n",
    "    print('Yes')\n"
   ]
  },
  {
   "cell_type": "code",
   "execution_count": 155,
   "id": "69dc41d9-a0bc-4344-af85-e9e4c23dc0fa",
   "metadata": {
    "tags": []
   },
   "outputs": [
    {
     "ename": "TypeError",
     "evalue": "solve() missing 1 required positional argument: 'n'",
     "output_type": "error",
     "traceback": [
      "\u001b[1;31m---------------------------------------------------------------------------\u001b[0m",
      "\u001b[1;31mTypeError\u001b[0m                                 Traceback (most recent call last)",
      "Cell \u001b[1;32mIn[155], line 2\u001b[0m\n\u001b[0;32m      1\u001b[0m values \u001b[38;5;241m=\u001b[39m [\u001b[38;5;241m-\u001b[39m\u001b[38;5;241m1\u001b[39m] \u001b[38;5;241m*\u001b[39m (N\u001b[38;5;241m+\u001b[39m\u001b[38;5;241m1\u001b[39m)\n\u001b[1;32m----> 2\u001b[0m \u001b[38;5;28mprint\u001b[39m(\u001b[38;5;124m'\u001b[39m\u001b[38;5;124mYes\u001b[39m\u001b[38;5;124m'\u001b[39m \u001b[38;5;28;01mif\u001b[39;00m solve() \u001b[38;5;28;01melse\u001b[39;00m \u001b[38;5;124m'\u001b[39m\u001b[38;5;124mNo\u001b[39m\u001b[38;5;124m'\u001b[39m)\n",
      "\u001b[1;31mTypeError\u001b[0m: solve() missing 1 required positional argument: 'n'"
     ]
    }
   ],
   "source": [
    "values = [-1] * (N+1)\n",
    "print('Yes' if solve() else 'No')\n"
   ]
  },
  {
   "cell_type": "code",
   "execution_count": 143,
   "id": "991281eb-f6e1-4976-849b-8d2958a67125",
   "metadata": {
    "tags": []
   },
   "outputs": [
    {
     "data": {
      "text/plain": [
       "[-1, 0, 1, 0, -1, 1, -1, 0]"
      ]
     },
     "execution_count": 143,
     "metadata": {},
     "output_type": "execute_result"
    }
   ],
   "source": [
    "values"
   ]
  },
  {
   "cell_type": "code",
   "execution_count": 121,
   "id": "cdc3c568-c78b-48dc-92aa-63e75d220e59",
   "metadata": {
    "tags": []
   },
   "outputs": [
    {
     "data": {
      "text/plain": [
       "[set(), {3}, {3, 7}, set(), {2}, {1}, {2}, {2}]"
      ]
     },
     "execution_count": 121,
     "metadata": {},
     "output_type": "execute_result"
    }
   ],
   "source": [
    "graphA"
   ]
  },
  {
   "cell_type": "code",
   "execution_count": 123,
   "id": "05ad6537-a570-4035-ab69-a774df3f343d",
   "metadata": {
    "tags": []
   },
   "outputs": [
    {
     "data": {
      "text/plain": [
       "[set(), {5}, {4, 6, 7}, {1, 2}, set(), set(), set(), {2}]"
      ]
     },
     "execution_count": 123,
     "metadata": {},
     "output_type": "execute_result"
    }
   ],
   "source": [
    "graphB"
   ]
  },
  {
   "cell_type": "code",
   "execution_count": 90,
   "id": "abbb7811-43d7-4cd8-864b-5a44453cebeb",
   "metadata": {
    "tags": []
   },
   "outputs": [],
   "source": [
    "from collections import deque\n",
    "def solve():\n",
    "    q = deque()\n",
    "    q.append((An[0], 0))\n",
    "    values[An[0]] = 0\n",
    "    while q:\n",
    "        p, f = q.popleft()\n",
    "        for n in graphA[p]:\n",
    "            if values[n] != -1:\n",
    "                if values[n] == values[p]:\n",
    "                    return False\n",
    "            else:\n",
    "                values[n] = (f + 1) % 2\n",
    "                q.append((n, values[n]))\n",
    "        for n in graphB[p]:\n",
    "            if values[n] != -1:\n",
    "                if values[n] == values[p]:\n",
    "                    return False\n",
    "            else:\n",
    "                values[n] = (f + 1) % 2\n",
    "                q.append((n, values[n]))\n",
    "    return True"
   ]
  },
  {
   "cell_type": "code",
   "execution_count": null,
   "id": "0ba3c360-bc23-468d-925a-06df5efe8ffb",
   "metadata": {},
   "outputs": [],
   "source": []
  },
  {
   "cell_type": "code",
   "execution_count": 86,
   "id": "470d15e7-465d-42cb-867c-869d91a47972",
   "metadata": {
    "tags": []
   },
   "outputs": [],
   "source": [
    "from collections import deque\n",
    "def solve(n):\n",
    "    q = deque()\n",
    "    q.append((An[n], 0))\n",
    "    values[An[n]] = 0\n",
    "    while q:\n",
    "        p, f = q.popleft()\n",
    "        for n in graphA[p]:\n",
    "            if values[n] != -1:\n",
    "                if values[n] == values[p]:\n",
    "                    return False\n",
    "            else:\n",
    "                values[n] = (f + 1) % 2\n",
    "                q.append((n, values[n]))\n",
    "        for n in graphB[p]:\n",
    "            if values[n] != -1:\n",
    "                if values[n] == values[p]:\n",
    "                    return False\n",
    "            else:\n",
    "                values[n] = (f + 1) % 2\n",
    "                q.append((n, values[n]))\n",
    "    return True"
   ]
  },
  {
   "cell_type": "code",
   "execution_count": 83,
   "id": "94826b7c-c230-4309-a865-ef027fc0879a",
   "metadata": {
    "tags": []
   },
   "outputs": [
    {
     "name": "stdout",
     "output_type": "stream",
     "text": [
      "Yes\n"
     ]
    }
   ],
   "source": [
    "values = [-1] * (N+1)\n",
    "for i in range(N):\n",
    "    if values[i] == -1:\n",
    "        if not solve(i):\n",
    "            print('No')\n",
    "            break\n",
    "else:\n",
    "    print('Yes')\n"
   ]
  },
  {
   "cell_type": "code",
   "execution_count": 84,
   "id": "a7e256d7-3a46-4131-a580-905200abc212",
   "metadata": {
    "tags": []
   },
   "outputs": [
    {
     "data": {
      "text/plain": [
       "[set(), {3}, {3, 7}, set(), {2}, {1}, {2}, {2}]"
      ]
     },
     "execution_count": 84,
     "metadata": {},
     "output_type": "execute_result"
    }
   ],
   "source": [
    "graph"
   ]
  },
  {
   "cell_type": "code",
   "execution_count": 85,
   "id": "2ef9d5e6-276c-4c43-b04d-3eddf973c32e",
   "metadata": {
    "tags": []
   },
   "outputs": [
    {
     "data": {
      "text/plain": [
       "[-1, 0, 0, 1, 1, 1, 1, 1]"
      ]
     },
     "execution_count": 85,
     "metadata": {},
     "output_type": "execute_result"
    }
   ],
   "source": [
    "values"
   ]
  },
  {
   "cell_type": "code",
   "execution_count": 58,
   "id": "8f2c72a6-a0e8-49df-a857-fe716d93cc97",
   "metadata": {
    "tags": []
   },
   "outputs": [
    {
     "data": {
      "text/plain": [
       "[False, False, False, False]"
      ]
     },
     "execution_count": 58,
     "metadata": {},
     "output_type": "execute_result"
    }
   ],
   "source": [
    "visit"
   ]
  },
  {
   "cell_type": "code",
   "execution_count": null,
   "id": "4b521009-0279-4059-8472-7105b00f339e",
   "metadata": {},
   "outputs": [],
   "source": []
  }
 ],
 "metadata": {
  "kernelspec": {
   "display_name": "Python 3 (ipykernel)",
   "language": "python",
   "name": "python3"
  },
  "language_info": {
   "codemirror_mode": {
    "name": "ipython",
    "version": 3
   },
   "file_extension": ".py",
   "mimetype": "text/x-python",
   "name": "python",
   "nbconvert_exporter": "python",
   "pygments_lexer": "ipython3",
   "version": "3.11.3"
  }
 },
 "nbformat": 4,
 "nbformat_minor": 5
}
