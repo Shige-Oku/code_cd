{
 "cells": [
  {
   "cell_type": "code",
   "execution_count": 1,
   "id": "9b30b439-02f3-4c88-960b-08450f51c6b6",
   "metadata": {
    "tags": []
   },
   "outputs": [],
   "source": [
    "import sys\n",
    "import numpy as np\n",
    "import math\n",
    "import collections\n",
    "import copy\n",
    "import decimal\n",
    "import itertools\n",
    "import re\n",
    "import bisect\n",
    "import scipy\n",
    "import heapq\n",
    "from collections import deque \n",
    "from functools import reduce\n",
    "from itertools import product\n",
    "from itertools import combinations\n",
    "from functools import lru_cache\n",
    "from scipy.special import comb\n",
    "from numba import njit\n",
    "from bisect import bisect_right\n",
    "from bisect import bisect_left"
   ]
  },
  {
   "cell_type": "code",
   "execution_count": 9,
   "id": "481a1c58-e4ce-495e-9062-421941a0b961",
   "metadata": {
    "tags": []
   },
   "outputs": [
    {
     "name": "stdin",
     "output_type": "stream",
     "text": [
      " 1 2 3 4 5 6 7 8 9\n",
      " 4 5 6 7 8 9 1 2 3\n",
      " 7 8 9 1 2 3 4 5 6\n",
      " 2 3 4 5 6 7 8 9 1\n",
      " 5 6 7 8 9 1 2 3 4\n",
      " 8 9 1 2 3 4 5 6 7\n",
      " 3 4 5 6 7 8 9 1 2\n",
      " 6 7 8 9 1 2 3 4 5\n",
      " 9 1 2 3 4 5 6 7 8\n"
     ]
    }
   ],
   "source": [
    "An = [list(map(int, input().split())) for _ in range(9)]"
   ]
  },
  {
   "cell_type": "code",
   "execution_count": 19,
   "id": "edbd74c0-df6c-457f-b612-583a224fbf2c",
   "metadata": {
    "tags": []
   },
   "outputs": [],
   "source": [
    "def check2(h, w):\n",
    "    s = set()\n",
    "    for h2 in range(h, h+3):\n",
    "        for w2 in range(w, w+3):\n",
    "            if An[h2][w2] in s:\n",
    "                return False\n",
    "            s.add(An[h2][w2])\n",
    "\n",
    "    return True\n",
    "            "
   ]
  },
  {
   "cell_type": "code",
   "execution_count": 20,
   "id": "c902c25f-fb4b-4004-be0f-64a3cde151fd",
   "metadata": {
    "tags": []
   },
   "outputs": [],
   "source": [
    "def solve():\n",
    "    for A in An:\n",
    "        As = set(A)\n",
    "        if len(As) != 9:\n",
    "            return False\n",
    "\n",
    "    for A in zip(*An):\n",
    "        As = set(A)\n",
    "        if len(As) != 9:\n",
    "            return False\n",
    "    \n",
    "    for i in range(0, 7, 3):\n",
    "        for j in range(0, 7, 3):\n",
    "            if not check2(i, j):\n",
    "                return False\n",
    "    return True"
   ]
  },
  {
   "cell_type": "code",
   "execution_count": 21,
   "id": "0ee79c07-e2a4-4a40-ae4e-611b66690623",
   "metadata": {
    "tags": []
   },
   "outputs": [
    {
     "name": "stdout",
     "output_type": "stream",
     "text": [
      "Yes\n"
     ]
    }
   ],
   "source": [
    "print('Yes' if solve() else 'No')"
   ]
  },
  {
   "cell_type": "code",
   "execution_count": null,
   "id": "bba00297-0315-4a84-aa8d-1c728b852c59",
   "metadata": {},
   "outputs": [],
   "source": [
    "def check2(h, w):\n",
    "    for h2 in range(h, h+3):\n",
    "        s = set()\n",
    "        for w2 in range(w, w+3):\n",
    "            if An[h2][w2] in s:\n",
    "                return False\n",
    "            s.add(An[h2][w2])\n",
    "\n",
    "    for w2 in range(w, w+3):\n",
    "        s = set()\n",
    "        for h2 in range(h, h+3):\n",
    "            if An[w2][h2] in s:\n",
    "                return False\n",
    "            s.add(An[w2][h2]) \n",
    "    return True"
   ]
  }
 ],
 "metadata": {
  "kernelspec": {
   "display_name": "Python 3 (ipykernel)",
   "language": "python",
   "name": "python3"
  },
  "language_info": {
   "codemirror_mode": {
    "name": "ipython",
    "version": 3
   },
   "file_extension": ".py",
   "mimetype": "text/x-python",
   "name": "python",
   "nbconvert_exporter": "python",
   "pygments_lexer": "ipython3",
   "version": "3.11.3"
  }
 },
 "nbformat": 4,
 "nbformat_minor": 5
}
