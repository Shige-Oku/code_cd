{
 "cells": [
  {
   "cell_type": "code",
   "execution_count": null,
   "id": "3e022b06-2a40-4402-a5c7-c97940adbac2",
   "metadata": {},
   "outputs": [],
   "source": [
    "# 解説を読んで実装"
   ]
  },
  {
   "cell_type": "code",
   "execution_count": 5,
   "id": "2a242b92-1b8f-402a-a176-f49cde6f52b3",
   "metadata": {},
   "outputs": [],
   "source": [
    "import sys\n",
    "import numpy as np\n",
    "import math\n",
    "import collections\n",
    "import copy\n",
    "import decimal\n",
    "import itertools\n",
    "import re\n",
    "import bisect\n",
    "import scipy\n",
    "import heapq\n",
    "import array\n",
    "from collections import deque\n",
    "from functools import reduce\n",
    "from itertools import product\n",
    "from itertools import combinations\n",
    "from itertools import chain\n",
    "from functools import lru_cache\n",
    "from scipy.special import comb\n",
    "from numba import njit\n",
    "from bisect import bisect_right\n",
    "from bisect import bisect_left\n",
    "from collections import defaultdict"
   ]
  },
  {
   "cell_type": "code",
   "execution_count": 2,
   "id": "0662e1e8-29b4-4b67-9264-48522ffbb2ac",
   "metadata": {},
   "outputs": [
    {
     "name": "stdin",
     "output_type": "stream",
     "text": [
      " 6 5\n"
     ]
    }
   ],
   "source": [
    "N, K = map(int, input().split())"
   ]
  },
  {
   "cell_type": "code",
   "execution_count": 3,
   "id": "661624e1-f873-4eff-9f6d-356794ed37f7",
   "metadata": {},
   "outputs": [
    {
     "name": "stdin",
     "output_type": "stream",
     "text": [
      "  8 -3 5 7 0 -4\n"
     ]
    }
   ],
   "source": [
    "An = list(map(int, input().split()))"
   ]
  },
  {
   "cell_type": "code",
   "execution_count": 7,
   "id": "18853f10-381b-4519-aad3-cbd5652f7f04",
   "metadata": {},
   "outputs": [],
   "source": [
    "An_sum = [0, ]\n",
    "for A in An:\n",
    "    An_sum.append(An_sum[-1]+A)\n",
    "An_c = collections.Counter(An_sum)"
   ]
  },
  {
   "cell_type": "code",
   "execution_count": 18,
   "id": "353cacfd-b788-4ddd-b918-0d42400064f3",
   "metadata": {},
   "outputs": [
    {
     "name": "stdout",
     "output_type": "stream",
     "text": [
      "8 0\n",
      "5 0\n",
      "10 0\n",
      "17 0\n",
      "17 0\n",
      "13 0\n"
     ]
    }
   ],
   "source": [
    "di = defaultdict(int)\n",
    "ans = 0\n",
    "for i, A in enumerate(An_sum[1:], 1):\n",
    "    print(A, di[A-K])\n",
    "    ans += di[An_sum[i]-K]"
   ]
  },
  {
   "cell_type": "code",
   "execution_count": 19,
   "id": "d990df3d-6472-482d-b8e6-2e6e9e72cc6c",
   "metadata": {},
   "outputs": [
    {
     "name": "stdout",
     "output_type": "stream",
     "text": [
      "0\n"
     ]
    }
   ],
   "source": [
    "print(ans)"
   ]
  },
  {
   "cell_type": "code",
   "execution_count": 8,
   "id": "095e510d-0b22-42d1-ba82-37ed3f20f1cb",
   "metadata": {},
   "outputs": [
    {
     "data": {
      "text/plain": [
       "Counter({0: 1, 8: 1, 5: 1, 10: 1, 17: 2, 13: 1})"
      ]
     },
     "execution_count": 8,
     "metadata": {},
     "output_type": "execute_result"
    }
   ],
   "source": [
    "An_c"
   ]
  },
  {
   "cell_type": "code",
   "execution_count": null,
   "id": "dd5e39d5-1e6e-49ed-912a-6052f2179d5b",
   "metadata": {},
   "outputs": [],
   "source": []
  }
 ],
 "metadata": {
  "kernelspec": {
   "display_name": "Python 3",
   "language": "python",
   "name": "python3"
  },
  "language_info": {
   "codemirror_mode": {
    "name": "ipython",
    "version": 3
   },
   "file_extension": ".py",
   "mimetype": "text/x-python",
   "name": "python",
   "nbconvert_exporter": "python",
   "pygments_lexer": "ipython3",
   "version": "3.6.13"
  }
 },
 "nbformat": 4,
 "nbformat_minor": 5
}
