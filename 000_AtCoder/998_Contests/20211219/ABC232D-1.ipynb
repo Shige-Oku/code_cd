{
 "cells": [
  {
   "cell_type": "code",
   "execution_count": 1,
   "id": "2fc493df-a000-44af-b08f-60146c94497e",
   "metadata": {},
   "outputs": [],
   "source": [
    "import sys\n",
    "import numpy as np\n",
    "import math\n",
    "import collections\n",
    "import copy\n",
    "import decimal\n",
    "import itertools\n",
    "import re\n",
    "import bisect\n",
    "import scipy\n",
    "import heapq\n",
    "import array\n",
    "from collections import deque\n",
    "from functools import reduce\n",
    "from itertools import product\n",
    "from itertools import combinations\n",
    "from itertools import chain\n",
    "from functools import lru_cache\n",
    "from scipy.special import comb\n",
    "from numba import njit\n",
    "from bisect import bisect_right\n",
    "from bisect import bisect_left"
   ]
  },
  {
   "cell_type": "code",
   "execution_count": 11,
   "id": "0eb5111a-6399-4ee4-9e29-ac760f6c6142",
   "metadata": {},
   "outputs": [
    {
     "name": "stdin",
     "output_type": "stream",
     "text": [
      " 5 5\n"
     ]
    }
   ],
   "source": [
    "H, W = map(int, input().split())"
   ]
  },
  {
   "cell_type": "code",
   "execution_count": 12,
   "id": "fa282a94-5e52-48ff-97eb-bef39bb42946",
   "metadata": {},
   "outputs": [
    {
     "name": "stdin",
     "output_type": "stream",
     "text": [
      " .....\n",
      " .....\n",
      " .....\n",
      " .....\n",
      " .....\n"
     ]
    }
   ],
   "source": [
    "maze = [input() for _ in range(H)]"
   ]
  },
  {
   "cell_type": "code",
   "execution_count": 19,
   "id": "194e6950-0541-4b70-a5f0-06c76ec54f4d",
   "metadata": {},
   "outputs": [],
   "source": [
    "ans = [[0] * W for _ in range(H)]\n",
    "q = deque()\n",
    "q.append((0, 0, 0))\n",
    "while q:\n",
    "    x, y, c = q.popleft()\n",
    "    if maze[x][y] == '#':\n",
    "        continue\n",
    "    if ans[x][y] > 0:\n",
    "        continue\n",
    "    ans[x][y] = c + 1\n",
    "    if x + 1 < H:\n",
    "        q.append((x+1, y, c+1))\n",
    "        \n",
    "    if y + 1 < W:\n",
    "        q.append((x, y+1, c+1))\n",
    "    "
   ]
  },
  {
   "cell_type": "code",
   "execution_count": 20,
   "id": "3799f39d-01d0-49ac-9e3a-aff520643556",
   "metadata": {},
   "outputs": [
    {
     "name": "stdout",
     "output_type": "stream",
     "text": [
      "9\n"
     ]
    }
   ],
   "source": [
    "a = 0\n",
    "for h in ans:\n",
    "    for col in h:\n",
    "        a = max(a, col)\n",
    "print(a)"
   ]
  },
  {
   "cell_type": "code",
   "execution_count": 15,
   "id": "d0a573d3-4f55-4404-9fa4-49709ff3c6b6",
   "metadata": {},
   "outputs": [
    {
     "data": {
      "text/plain": [
       "[[1, 2, 3, 4, 5],\n",
       " [2, 3, 4, 5, 6],\n",
       " [3, 4, 5, 6, 7],\n",
       " [4, 5, 6, 7, 8],\n",
       " [5, 6, 7, 8, 0]]"
      ]
     },
     "execution_count": 15,
     "metadata": {},
     "output_type": "execute_result"
    }
   ],
   "source": [
    "ans"
   ]
  },
  {
   "cell_type": "code",
   "execution_count": 8,
   "id": "d617292a-9474-40d4-9c5c-bbc9ef6540b5",
   "metadata": {},
   "outputs": [
    {
     "data": {
      "text/plain": [
       "[[1, 0, 0, 0], [2, 3, 0, 0], [3, 4, 0, 0]]"
      ]
     },
     "execution_count": 8,
     "metadata": {},
     "output_type": "execute_result"
    }
   ],
   "source": [
    "ans"
   ]
  },
  {
   "cell_type": "code",
   "execution_count": null,
   "id": "9f770811-8d31-4cc9-befb-f8fb115006fd",
   "metadata": {},
   "outputs": [],
   "source": []
  }
 ],
 "metadata": {
  "kernelspec": {
   "display_name": "Python 3",
   "language": "python",
   "name": "python3"
  },
  "language_info": {
   "codemirror_mode": {
    "name": "ipython",
    "version": 3
   },
   "file_extension": ".py",
   "mimetype": "text/x-python",
   "name": "python",
   "nbconvert_exporter": "python",
   "pygments_lexer": "ipython3",
   "version": "3.6.13"
  }
 },
 "nbformat": 4,
 "nbformat_minor": 5
}
