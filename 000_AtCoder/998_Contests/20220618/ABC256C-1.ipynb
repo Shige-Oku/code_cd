{
 "cells": [
  {
   "cell_type": "code",
   "execution_count": 1,
   "id": "642284e6-0c44-460f-9cc6-51167e098e83",
   "metadata": {},
   "outputs": [],
   "source": [
    "import sys\n",
    "import numpy as np\n",
    "import math\n",
    "import collections\n",
    "import copy\n",
    "import decimal\n",
    "import itertools\n",
    "import re\n",
    "import bisect\n",
    "import scipy\n",
    "import heapq\n",
    "from collections import deque \n",
    "from functools import reduce\n",
    "from itertools import product\n",
    "from itertools import combinations\n",
    "from functools import lru_cache\n",
    "from scipy.special import comb\n",
    "from numba import njit\n",
    "from bisect import bisect_right\n",
    "from bisect import bisect_left"
   ]
  },
  {
   "cell_type": "code",
   "execution_count": null,
   "id": "bd460b0e-f837-4a85-89a8-492f06fcfebb",
   "metadata": {},
   "outputs": [],
   "source": [
    "# コンテスト終了後に実装"
   ]
  },
  {
   "cell_type": "code",
   "execution_count": 21,
   "id": "2326390e-e6b1-4537-a11d-a5005135e8de",
   "metadata": {},
   "outputs": [
    {
     "name": "stdin",
     "output_type": "stream",
     "text": [
      " 20 25 30 22 29 24\n"
     ]
    }
   ],
   "source": [
    "H1, H2, H3, W1, W2, W3 = map(int, input().split())"
   ]
  },
  {
   "cell_type": "code",
   "execution_count": 22,
   "id": "73897700-77e2-4e7d-9bd3-f7f8b50d41a7",
   "metadata": {},
   "outputs": [],
   "source": [
    "ans = 0\n",
    "for c11 in range(1, 31):\n",
    "    for c12 in range(1, 31):\n",
    "        for c21 in range(1, 31):\n",
    "            for c22 in range(1, 31):\n",
    "                c13 = H1 - c11 - c12\n",
    "                c23 = H2 - c21 - c22\n",
    "                c31 = W1 - c11 - c21\n",
    "                c32 = W2 - c12 - c22\n",
    "                c33 = H3 - c31 - c32\n",
    "                if c13 < 1 or c23 < 1 or c31 < 1 or c32 < 1 or c33 < 1: \n",
    "                    continue\n",
    "                if W3 != c13 + c23 + c33:\n",
    "                    continue\n",
    "                ans += 1\n",
    "    "
   ]
  },
  {
   "cell_type": "code",
   "execution_count": 23,
   "id": "ec905b60-541b-48f2-8f0d-20f4f7777e89",
   "metadata": {},
   "outputs": [
    {
     "name": "stdout",
     "output_type": "stream",
     "text": [
      "30613\n"
     ]
    }
   ],
   "source": [
    "print(ans)"
   ]
  },
  {
   "cell_type": "code",
   "execution_count": 4,
   "id": "28633d59-4b61-43d5-bd06-35697bfdf00a",
   "metadata": {},
   "outputs": [
    {
     "data": {
      "text/plain": [
       "810000"
      ]
     },
     "execution_count": 4,
     "metadata": {},
     "output_type": "execute_result"
    }
   ],
   "source": [
    "30**4"
   ]
  },
  {
   "cell_type": "code",
   "execution_count": null,
   "id": "35aadd1f-92c5-4408-8f26-4af9dc798970",
   "metadata": {},
   "outputs": [],
   "source": []
  }
 ],
 "metadata": {
  "kernelspec": {
   "display_name": "Python 3",
   "language": "python",
   "name": "python3"
  },
  "language_info": {
   "codemirror_mode": {
    "name": "ipython",
    "version": 3
   },
   "file_extension": ".py",
   "mimetype": "text/x-python",
   "name": "python",
   "nbconvert_exporter": "python",
   "pygments_lexer": "ipython3",
   "version": "3.6.13"
  }
 },
 "nbformat": 4,
 "nbformat_minor": 5
}
