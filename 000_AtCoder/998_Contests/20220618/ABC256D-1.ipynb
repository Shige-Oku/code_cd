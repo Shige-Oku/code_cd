{
 "cells": [
  {
   "cell_type": "code",
   "execution_count": 1,
   "id": "e974fddb-198f-4632-bce6-5f698190411b",
   "metadata": {},
   "outputs": [],
   "source": [
    "import sys\n",
    "import numpy as np\n",
    "import math\n",
    "import collections\n",
    "import copy\n",
    "import decimal\n",
    "import itertools\n",
    "import re\n",
    "import bisect\n",
    "import scipy\n",
    "import heapq\n",
    "from collections import deque \n",
    "from functools import reduce\n",
    "from itertools import product\n",
    "from itertools import combinations\n",
    "from functools import lru_cache\n",
    "from scipy.special import comb\n",
    "from numba import njit\n",
    "from bisect import bisect_right\n",
    "from bisect import bisect_left"
   ]
  },
  {
   "cell_type": "code",
   "execution_count": 54,
   "id": "86606ee7-5cc9-47b4-8701-d9634c40f102",
   "metadata": {},
   "outputs": [
    {
     "name": "stdin",
     "output_type": "stream",
     "text": [
      " 3\n"
     ]
    }
   ],
   "source": [
    "N = int(input())"
   ]
  },
  {
   "cell_type": "code",
   "execution_count": 58,
   "id": "e7f0c290-2956-4521-adc3-34d5a696a159",
   "metadata": {},
   "outputs": [
    {
     "name": "stdin",
     "output_type": "stream",
     "text": [
      " 10 40\n",
      " 30 60\n",
      " 20 50\n"
     ]
    }
   ],
   "source": [
    "LRn = [list(map(int, input().split())) for _ in range(N)]"
   ]
  },
  {
   "cell_type": "code",
   "execution_count": 59,
   "id": "1eabf246-b6b8-43c2-a738-1ad5c24bdeac",
   "metadata": {},
   "outputs": [],
   "source": [
    "LRn_s = sorted(LRn)"
   ]
  },
  {
   "cell_type": "code",
   "execution_count": 60,
   "id": "3f7e4c1e-e805-4d7e-b1b1-7d31ba0d15a1",
   "metadata": {},
   "outputs": [
    {
     "name": "stdout",
     "output_type": "stream",
     "text": [
      "10 60\n"
     ]
    }
   ],
   "source": [
    "l, r = LRn_s[0]\n",
    "for L, R in LRn_s[1:]:\n",
    "    if L > r:\n",
    "        print(l, r)\n",
    "        l = L\n",
    "        r = R\n",
    "    else:\n",
    "        l = min(l, L)\n",
    "        r = max(r, R)\n",
    "else:\n",
    "    print(l, r)"
   ]
  },
  {
   "cell_type": "code",
   "execution_count": 6,
   "id": "ed134581-5226-492e-82c2-c91099c1f49c",
   "metadata": {},
   "outputs": [
    {
     "data": {
      "text/plain": [
       "[[10, 20], [20, 30], [40, 50]]"
      ]
     },
     "execution_count": 6,
     "metadata": {},
     "output_type": "execute_result"
    }
   ],
   "source": [
    "LRn_s"
   ]
  },
  {
   "cell_type": "code",
   "execution_count": null,
   "id": "3e00217a-2973-4bee-8bf5-412c60ee8d00",
   "metadata": {},
   "outputs": [],
   "source": []
  },
  {
   "cell_type": "code",
   "execution_count": 50,
   "id": "f35dbec3-653a-4090-b07c-218c86e900b7",
   "metadata": {},
   "outputs": [],
   "source": [
    "LRn_s = sorted(LRn, key=lambda x: x[1])"
   ]
  },
  {
   "cell_type": "code",
   "execution_count": 51,
   "id": "a5bf28a4-2e07-4fc7-b94e-12cc9324cea9",
   "metadata": {},
   "outputs": [
    {
     "name": "stdout",
     "output_type": "stream",
     "text": [
      "1 5\n",
      "7 9\n",
      "10 15\n",
      "20 30\n"
     ]
    }
   ],
   "source": [
    "l, r = LRn_s[0]\n",
    "for L, R in LRn_s[1:]:\n",
    "    if L > r:\n",
    "        print(l, r)\n",
    "        l = L\n",
    "        r = R\n",
    "    else:\n",
    "        l = min(l, L)\n",
    "        r = max(r, R)\n",
    "else:\n",
    "    print(l, r)"
   ]
  }
 ],
 "metadata": {
  "kernelspec": {
   "display_name": "Python 3",
   "language": "python",
   "name": "python3"
  },
  "language_info": {
   "codemirror_mode": {
    "name": "ipython",
    "version": 3
   },
   "file_extension": ".py",
   "mimetype": "text/x-python",
   "name": "python",
   "nbconvert_exporter": "python",
   "pygments_lexer": "ipython3",
   "version": "3.6.13"
  }
 },
 "nbformat": 4,
 "nbformat_minor": 5
}
