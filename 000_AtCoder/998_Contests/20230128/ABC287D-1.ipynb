{
 "cells": [
  {
   "cell_type": "code",
   "execution_count": 1,
   "id": "2eead1b7-bd99-4b63-a45d-fe746c378709",
   "metadata": {},
   "outputs": [],
   "source": [
    "import sys\n",
    "import numpy as np\n",
    "import math\n",
    "import collections\n",
    "import copy\n",
    "import decimal\n",
    "import itertools\n",
    "import re\n",
    "import bisect\n",
    "import scipy\n",
    "import heapq\n",
    "from collections import deque \n",
    "from functools import reduce\n",
    "from itertools import product\n",
    "from itertools import combinations\n",
    "from functools import lru_cache\n",
    "from scipy.special import comb\n",
    "from numba import njit\n",
    "from bisect import bisect_right\n",
    "from bisect import bisect_left"
   ]
  },
  {
   "cell_type": "code",
   "execution_count": 56,
   "id": "1ddc2053-c73e-400f-b68c-582ab5726e30",
   "metadata": {},
   "outputs": [
    {
     "name": "stdin",
     "output_type": "stream",
     "text": [
      " beginner\n"
     ]
    }
   ],
   "source": [
    "S = input()"
   ]
  },
  {
   "cell_type": "code",
   "execution_count": 57,
   "id": "1e55aa9d-ef7f-4de6-9424-a32d880ea85f",
   "metadata": {},
   "outputs": [
    {
     "name": "stdin",
     "output_type": "stream",
     "text": [
      " contest\n"
     ]
    }
   ],
   "source": [
    "T = input()"
   ]
  },
  {
   "cell_type": "code",
   "execution_count": 58,
   "id": "f7ca0840-f151-4473-a4f5-1573def12e73",
   "metadata": {},
   "outputs": [],
   "source": [
    "pre, suf = 0, 0\n",
    "for s, t in zip(S, T):\n",
    "    if s == t or s == '?' or t == '?':\n",
    "        pre += 1\n",
    "    else:\n",
    "        break\n",
    "for s, t in zip(S[::-1], T[::-1]):\n",
    "    if s == t or s == '?' or t == '?':\n",
    "        suf += 1\n",
    "    else:\n",
    "        break\n"
   ]
  },
  {
   "cell_type": "code",
   "execution_count": 59,
   "id": "0b181cc7-1ea9-49b5-8a74-9cd6350ad66f",
   "metadata": {},
   "outputs": [
    {
     "name": "stdout",
     "output_type": "stream",
     "text": [
      "No\n",
      "No\n",
      "No\n",
      "No\n",
      "No\n",
      "No\n",
      "No\n",
      "No\n"
     ]
    }
   ],
   "source": [
    "for i in range(len(T)+1):\n",
    "    print('Yes' if i <= pre and len(T)-i <= suf else 'No')"
   ]
  },
  {
   "cell_type": "code",
   "execution_count": null,
   "id": "f8a44bb5-3ad1-4f79-9272-28d62442e87c",
   "metadata": {},
   "outputs": [],
   "source": [
    "# WA"
   ]
  },
  {
   "cell_type": "code",
   "execution_count": 63,
   "id": "b526c731-a219-4932-870f-7ee799ac5818",
   "metadata": {},
   "outputs": [],
   "source": [
    "pre = [False] * (len(T))\n",
    "suf = [False] * (len(T))\n",
    "for i, (s, t) in enumerate(zip(S, T)):\n",
    "    if s == t or s == '?' or t == '?':\n",
    "        pre[i] = True\n",
    "        continue\n",
    "    break\n",
    "for i, (s, t) in enumerate(zip(S[::-1], T[::-1])):\n",
    "    if s == t or s == '?' or t == '?':\n",
    "        suf[i] = True\n",
    "        continue\n",
    "    break\n",
    "suf = suf[::-1]\n",
    "pre = [True] + pre\n",
    "suf = [True] + suf"
   ]
  },
  {
   "cell_type": "code",
   "execution_count": 64,
   "id": "f66e69a7-adff-426f-97e8-df1fc5d36ec6",
   "metadata": {},
   "outputs": [
    {
     "name": "stdout",
     "output_type": "stream",
     "text": [
      "No\n",
      "No\n",
      "No\n",
      "No\n",
      "No\n",
      "No\n",
      "No\n",
      "No\n"
     ]
    }
   ],
   "source": [
    "for i in range(len(T)+1):\n",
    "    print('Yes' if pre[i] and suf[len(T)-i] else 'No')"
   ]
  },
  {
   "cell_type": "code",
   "execution_count": 62,
   "id": "3578d744-1040-4f5a-a982-81fbbdb21553",
   "metadata": {},
   "outputs": [
    {
     "data": {
      "text/plain": [
       "([True, False, False, False, False, False, False, False],\n",
       " [False, False, False, False, False, False, False, True])"
      ]
     },
     "execution_count": 62,
     "metadata": {},
     "output_type": "execute_result"
    }
   ],
   "source": [
    "pre, suf"
   ]
  },
  {
   "cell_type": "code",
   "execution_count": 10,
   "id": "a1ad4620-ba8b-4c38-82e2-0be9aab3a912",
   "metadata": {},
   "outputs": [],
   "source": [
    "def isMatch(n):\n",
    "    ls = n\n",
    "    rs = len(S) - n - 1\n",
    "    \n",
    "    s1 += \n",
    "    return True"
   ]
  },
  {
   "cell_type": "code",
   "execution_count": 11,
   "id": "9fa5fd63-c1e5-4130-bcf0-e3d23d89c8ab",
   "metadata": {},
   "outputs": [],
   "source": [
    "match = [False] * (len(T) + 1)\n",
    "match[0] = isMatch(0)\n",
    "for i in range(1, len(T)+1):\n",
    "    match[i] = isMatch(i)\n",
    "    if not match[i]:\n",
    "        break"
   ]
  },
  {
   "cell_type": "code",
   "execution_count": 14,
   "id": "21912642-6d75-4c0e-a212-ed1cf380066c",
   "metadata": {},
   "outputs": [],
   "source": [
    "cnt = 0\n",
    "for s, t in zip(S, T):\n",
    "    if s == t or s == '?' or t == '?':\n",
    "        cnt += 1\n",
    "        continue\n",
    "    break\n",
    "\n",
    "match = [False] * (len(T) + 1)\n",
    "for i in range(cnt, -1, -1):\n",
    "    if S[-cnt:] == T[len{T}-i]\n"
   ]
  },
  {
   "cell_type": "code",
   "execution_count": null,
   "id": "de6cdc43-0006-4f92-b26c-dca475b0d360",
   "metadata": {},
   "outputs": [],
   "source": []
  },
  {
   "cell_type": "code",
   "execution_count": 15,
   "id": "6a42fcd1-4f0c-4316-bbd2-a90c6dbb21a1",
   "metadata": {},
   "outputs": [
    {
     "data": {
      "text/plain": [
       "(0, [False, False, False])"
      ]
     },
     "execution_count": 15,
     "metadata": {},
     "output_type": "execute_result"
    }
   ],
   "source": [
    "cnt, match"
   ]
  },
  {
   "cell_type": "code",
   "execution_count": null,
   "id": "3a2565b9-58c3-42ea-8ec9-f151d51c88f8",
   "metadata": {},
   "outputs": [],
   "source": []
  }
 ],
 "metadata": {
  "kernelspec": {
   "display_name": "Python 3",
   "language": "python",
   "name": "python3"
  },
  "language_info": {
   "codemirror_mode": {
    "name": "ipython",
    "version": 3
   },
   "file_extension": ".py",
   "mimetype": "text/x-python",
   "name": "python",
   "nbconvert_exporter": "python",
   "pygments_lexer": "ipython3",
   "version": "3.6.13"
  }
 },
 "nbformat": 4,
 "nbformat_minor": 5
}
