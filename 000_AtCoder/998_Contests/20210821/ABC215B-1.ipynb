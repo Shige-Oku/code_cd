{
 "cells": [
  {
   "cell_type": "code",
   "execution_count": 1,
   "id": "fd66c936-c995-45d0-bc65-7ecf58c68df1",
   "metadata": {},
   "outputs": [],
   "source": [
    "import sys\n",
    "import numpy as np\n",
    "import math\n",
    "import collections\n",
    "import copy\n",
    "import decimal\n",
    "import itertools\n",
    "import re\n",
    "import bisect\n",
    "import scipy\n",
    "import heapq\n",
    "from collections import deque \n",
    "from functools import reduce\n",
    "from itertools import product\n",
    "from itertools import combinations\n",
    "from itertools import chain\n",
    "from functools import lru_cache\n",
    "from scipy.special import comb\n",
    "from numba import njit\n",
    "from bisect import bisect_right\n",
    "from bisect import bisect_left"
   ]
  },
  {
   "cell_type": "code",
   "execution_count": 36,
   "id": "98cde899-1db4-4390-8dac-de8c9f11fda3",
   "metadata": {},
   "outputs": [
    {
     "name": "stdin",
     "output_type": "stream",
     "text": [
      " 1000000000000000000\n"
     ]
    }
   ],
   "source": [
    "N = int(input())"
   ]
  },
  {
   "cell_type": "code",
   "execution_count": 37,
   "id": "978f38d2-e134-46e1-8712-22cc2aa5c8ce",
   "metadata": {},
   "outputs": [],
   "source": [
    "ans = 0\n",
    "for i in range(61):\n",
    "    if 2 ** i > N:\n",
    "        ans -= 1\n",
    "        break\n",
    "    ans += 1"
   ]
  },
  {
   "cell_type": "code",
   "execution_count": 38,
   "id": "a71c04f9-59bb-4afe-8cdd-d35812ccd490",
   "metadata": {},
   "outputs": [
    {
     "name": "stdout",
     "output_type": "stream",
     "text": [
      "59\n"
     ]
    }
   ],
   "source": [
    "print(ans)"
   ]
  },
  {
   "cell_type": "code",
   "execution_count": 25,
   "id": "2b211880-ecf4-4c22-8b21-6ebd0e0b6dec",
   "metadata": {},
   "outputs": [
    {
     "name": "stdout",
     "output_type": "stream",
     "text": [
      "0\n"
     ]
    }
   ],
   "source": [
    "print(math.floor(math.log2(N)))"
   ]
  },
  {
   "cell_type": "code",
   "execution_count": 27,
   "id": "0a67b0bc-b2ad-4370-b466-1794275030a5",
   "metadata": {},
   "outputs": [
    {
     "data": {
      "text/plain": [
       "59.794705707972525"
      ]
     },
     "execution_count": 27,
     "metadata": {},
     "output_type": "execute_result"
    }
   ],
   "source": [
    "math.log2(10**18)"
   ]
  },
  {
   "cell_type": "code",
   "execution_count": null,
   "id": "cf5ef987-59ae-4bd2-a8a7-b13378aba5ad",
   "metadata": {},
   "outputs": [],
   "source": []
  }
 ],
 "metadata": {
  "kernelspec": {
   "display_name": "Python 3",
   "language": "python",
   "name": "python3"
  },
  "language_info": {
   "codemirror_mode": {
    "name": "ipython",
    "version": 3
   },
   "file_extension": ".py",
   "mimetype": "text/x-python",
   "name": "python",
   "nbconvert_exporter": "python",
   "pygments_lexer": "ipython3",
   "version": "3.6.13"
  }
 },
 "nbformat": 4,
 "nbformat_minor": 5
}
