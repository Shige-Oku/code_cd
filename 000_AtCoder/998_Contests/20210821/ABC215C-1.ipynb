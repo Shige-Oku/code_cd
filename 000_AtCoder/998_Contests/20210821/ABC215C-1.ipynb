{
 "cells": [
  {
   "cell_type": "code",
   "execution_count": 1,
   "id": "3ee35f6f-84ce-4db0-a4d0-cb5ec1ab5b42",
   "metadata": {},
   "outputs": [],
   "source": [
    "import sys\n",
    "import numpy as np\n",
    "import math\n",
    "import collections\n",
    "import copy\n",
    "import decimal\n",
    "import itertools\n",
    "import re\n",
    "import bisect\n",
    "import scipy\n",
    "import heapq\n",
    "from collections import deque \n",
    "from functools import reduce\n",
    "from itertools import product\n",
    "from itertools import combinations\n",
    "from itertools import chain\n",
    "from functools import lru_cache\n",
    "from scipy.special import comb\n",
    "from numba import njit\n",
    "from bisect import bisect_right\n",
    "from bisect import bisect_left"
   ]
  },
  {
   "cell_type": "code",
   "execution_count": 27,
   "id": "92ec0ee6-d3fb-4514-bfcc-fd756553bbdd",
   "metadata": {},
   "outputs": [
    {
     "name": "stdin",
     "output_type": "stream",
     "text": [
      " ydxwacbz 40320\n"
     ]
    }
   ],
   "source": [
    "S, K = input().split()"
   ]
  },
  {
   "cell_type": "code",
   "execution_count": 28,
   "id": "01d33538-521b-4a6d-87ed-818f3cc4d9ae",
   "metadata": {},
   "outputs": [],
   "source": [
    "K = int(K)"
   ]
  },
  {
   "cell_type": "code",
   "execution_count": 29,
   "id": "fcbf573e-0e1f-4512-bb23-345c5865b276",
   "metadata": {},
   "outputs": [],
   "source": [
    "ca = set()\n",
    "for p in itertools.permutations(range(len(S))):\n",
    "    s = \"\"\n",
    "    for i in p:\n",
    "        s += S[i]\n",
    "    ca.add(s)"
   ]
  },
  {
   "cell_type": "code",
   "execution_count": 30,
   "id": "dc217ae3-b2ab-4973-baf2-6b6d4b39717f",
   "metadata": {},
   "outputs": [
    {
     "name": "stdout",
     "output_type": "stream",
     "text": [
      "zyxwdcba\n"
     ]
    }
   ],
   "source": [
    "ca_s = sorted(ca)\n",
    "print(ca_s[K-1])"
   ]
  },
  {
   "cell_type": "code",
   "execution_count": 10,
   "id": "5d6fc356-7135-49d2-82bc-95984d2b2609",
   "metadata": {},
   "outputs": [
    {
     "name": "stdout",
     "output_type": "stream",
     "text": [
      "(1, 2, 3)\n",
      "(1, 3, 2)\n",
      "(2, 1, 3)\n",
      "(2, 3, 1)\n",
      "(3, 1, 2)\n",
      "(3, 2, 1)\n"
     ]
    }
   ],
   "source": [
    "for p in itertools.permutations((1, 2, 3)):\n",
    "    print(p)"
   ]
  },
  {
   "cell_type": "code",
   "execution_count": 19,
   "id": "37c814a0-2463-4f34-8ae1-b22f856ab7a5",
   "metadata": {},
   "outputs": [
    {
     "data": {
      "text/plain": [
       "['aab', 'aab', 'aba', 'aba', 'baa', 'baa']"
      ]
     },
     "execution_count": 19,
     "metadata": {},
     "output_type": "execute_result"
    }
   ],
   "source": [
    "ca_s"
   ]
  },
  {
   "cell_type": "code",
   "execution_count": 20,
   "id": "bb1e72d0-a984-4de1-8bc5-4e1e770bbdfe",
   "metadata": {},
   "outputs": [
    {
     "data": {
      "text/plain": [
       "['aab', 'aab', 'aba', 'aba', 'baa', 'baa']"
      ]
     },
     "execution_count": 20,
     "metadata": {},
     "output_type": "execute_result"
    }
   ],
   "source": [
    "ca"
   ]
  },
  {
   "cell_type": "code",
   "execution_count": null,
   "id": "297d0d45-c34e-4f96-8ad2-8b1ab418d8a8",
   "metadata": {},
   "outputs": [],
   "source": []
  }
 ],
 "metadata": {
  "kernelspec": {
   "display_name": "Python 3",
   "language": "python",
   "name": "python3"
  },
  "language_info": {
   "codemirror_mode": {
    "name": "ipython",
    "version": 3
   },
   "file_extension": ".py",
   "mimetype": "text/x-python",
   "name": "python",
   "nbconvert_exporter": "python",
   "pygments_lexer": "ipython3",
   "version": "3.6.13"
  }
 },
 "nbformat": 4,
 "nbformat_minor": 5
}
