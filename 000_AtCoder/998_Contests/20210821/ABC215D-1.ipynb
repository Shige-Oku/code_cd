{
 "cells": [
  {
   "cell_type": "code",
   "execution_count": 1,
   "id": "8985cb68-70ba-4159-9e29-80b7ac22f7a0",
   "metadata": {},
   "outputs": [],
   "source": [
    "import sys\n",
    "import numpy as np\n",
    "import math\n",
    "import collections\n",
    "import copy\n",
    "import decimal\n",
    "import itertools\n",
    "import re\n",
    "import bisect\n",
    "import scipy\n",
    "import heapq\n",
    "from collections import deque \n",
    "from functools import reduce\n",
    "from itertools import product\n",
    "from itertools import combinations\n",
    "from itertools import chain\n",
    "from functools import lru_cache\n",
    "from scipy.special import comb\n",
    "from numba import njit\n",
    "from bisect import bisect_right\n",
    "from bisect import bisect_left"
   ]
  },
  {
   "cell_type": "code",
   "execution_count": 2,
   "id": "d31b1930-9a0d-41b7-8f3d-b86eb3ff7bd7",
   "metadata": {},
   "outputs": [
    {
     "name": "stdin",
     "output_type": "stream",
     "text": [
      " 3 12\n"
     ]
    }
   ],
   "source": [
    "N, M = map(int, input().split())"
   ]
  },
  {
   "cell_type": "code",
   "execution_count": 4,
   "id": "84c986da-4bb1-44c8-a061-602f60ddf874",
   "metadata": {},
   "outputs": [
    {
     "name": "stdin",
     "output_type": "stream",
     "text": [
      " 6 1 5\n"
     ]
    }
   ],
   "source": [
    "An = list(map(int, input().split()))"
   ]
  },
  {
   "cell_type": "code",
   "execution_count": 5,
   "id": "dc37f7e3-79af-4c95-b543-7e2f37b8b029",
   "metadata": {},
   "outputs": [],
   "source": [
    "# 約数のリスト作成\n",
    "def get_divisor_list(number):\n",
    "    number_sqrt = int(math.sqrt(number)) + 1\n",
    "    divisors = []\n",
    "    for i in range(1, int(number_sqrt)):\n",
    "        if number % i == 0:\n",
    "            # 割り切れたので約数\n",
    "            divisors.append(i)\n",
    "            divisors.append(number // i)\n",
    "    return divisors"
   ]
  },
  {
   "cell_type": "code",
   "execution_count": 6,
   "id": "66bb1ebf-e329-4278-a955-5bc86d859951",
   "metadata": {},
   "outputs": [],
   "source": [
    "divisors_s = set()\n",
    "for A in An:\n",
    "    divisors = get_divisor_list(A)\n",
    "    for divisor in divisors:\n",
    "        divisors_s.add(divisor)"
   ]
  },
  {
   "cell_type": "code",
   "execution_count": 8,
   "id": "b57b34eb-a2ad-4a5d-9c32-abbe0e9b3016",
   "metadata": {},
   "outputs": [],
   "source": [
    "ans = []\n",
    "for i in range(1, M+1):\n",
    "    divisors = get_divisor_list(i)\n",
    "    for divisor in divisors:\n",
    "        if divisor == 1:\n",
    "            continue\n",
    "        if divisor in divisors_s:\n",
    "            break\n",
    "    else:\n",
    "        ans.append(i)"
   ]
  },
  {
   "cell_type": "code",
   "execution_count": 10,
   "id": "246517ae-4d2e-470e-b0b9-f29884f5013b",
   "metadata": {},
   "outputs": [
    {
     "name": "stdout",
     "output_type": "stream",
     "text": [
      "3\n",
      "1\n",
      "7\n",
      "11\n"
     ]
    }
   ],
   "source": [
    "print(len(ans))\n",
    "for an in ans:\n",
    "    print(an)"
   ]
  },
  {
   "cell_type": "code",
   "execution_count": 7,
   "id": "e7e96336-8671-47a2-9bca-a12f3a561911",
   "metadata": {},
   "outputs": [
    {
     "data": {
      "text/plain": [
       "{1, 2, 3, 5, 6}"
      ]
     },
     "execution_count": 7,
     "metadata": {},
     "output_type": "execute_result"
    }
   ],
   "source": [
    "divisors_s"
   ]
  },
  {
   "cell_type": "code",
   "execution_count": null,
   "id": "d04db9d3-7d59-4280-985b-437cfe366c30",
   "metadata": {},
   "outputs": [],
   "source": []
  }
 ],
 "metadata": {
  "kernelspec": {
   "display_name": "Python 3",
   "language": "python",
   "name": "python3"
  },
  "language_info": {
   "codemirror_mode": {
    "name": "ipython",
    "version": 3
   },
   "file_extension": ".py",
   "mimetype": "text/x-python",
   "name": "python",
   "nbconvert_exporter": "python",
   "pygments_lexer": "ipython3",
   "version": "3.6.13"
  }
 },
 "nbformat": 4,
 "nbformat_minor": 5
}
