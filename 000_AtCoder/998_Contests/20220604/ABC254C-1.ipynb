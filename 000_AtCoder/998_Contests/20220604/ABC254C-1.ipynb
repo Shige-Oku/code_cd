{
 "cells": [
  {
   "cell_type": "code",
   "execution_count": 1,
   "id": "c731a952-433f-42de-82d3-0ce7668c7008",
   "metadata": {},
   "outputs": [],
   "source": [
    "import sys\n",
    "import numpy as np\n",
    "import math\n",
    "import collections\n",
    "import copy\n",
    "import decimal\n",
    "import itertools\n",
    "import re\n",
    "import bisect\n",
    "import scipy\n",
    "import heapq\n",
    "from collections import deque \n",
    "from functools import reduce\n",
    "from itertools import product\n",
    "from itertools import combinations\n",
    "from functools import lru_cache\n",
    "from scipy.special import comb\n",
    "from numba import njit\n",
    "from bisect import bisect_right\n",
    "from bisect import bisect_left"
   ]
  },
  {
   "cell_type": "code",
   "execution_count": 28,
   "id": "17154258-3612-4455-84fd-3aee67cf7e15",
   "metadata": {},
   "outputs": [
    {
     "name": "stdin",
     "output_type": "stream",
     "text": [
      " 7 5\n"
     ]
    }
   ],
   "source": [
    "N, K = map(int, input().split())"
   ]
  },
  {
   "cell_type": "code",
   "execution_count": 29,
   "id": "3e891f9d-b7f9-44d7-b0e2-09191a8e40b9",
   "metadata": {},
   "outputs": [
    {
     "name": "stdin",
     "output_type": "stream",
     "text": [
      " 1 2 3 4 5 5 10\n"
     ]
    }
   ],
   "source": [
    "An = list(map(int, input().split()))"
   ]
  },
  {
   "cell_type": "code",
   "execution_count": 31,
   "id": "0540c287-35a8-4052-8d42-64a9a6e7180a",
   "metadata": {},
   "outputs": [
    {
     "name": "stdout",
     "output_type": "stream",
     "text": [
      "Yes\n"
     ]
    }
   ],
   "source": [
    "num = [[] for _ in range(K)]\n",
    "for i, A in enumerate(An):\n",
    "    num[i%K].append(A)\n",
    "for i in range(K):\n",
    "    num[i].sort()\n",
    "co = []\n",
    "for c in range(N//K+1):\n",
    "    for l in range(K):\n",
    "        if c >= len(num[l]):\n",
    "            continue\n",
    "        co.append(num[l][c])\n",
    "An_s = sorted(An)\n",
    "for A, c in zip(An_s, co):\n",
    "    if A != c:\n",
    "        print(\"No\")\n",
    "        break\n",
    "else:\n",
    "    print('Yes')"
   ]
  },
  {
   "cell_type": "code",
   "execution_count": 10,
   "id": "cc1c75d4-7bae-4f73-8233-3fb885b7c08d",
   "metadata": {},
   "outputs": [
    {
     "data": {
      "text/plain": [
       "[[1, 3, 4], [3, 4]]"
      ]
     },
     "execution_count": 10,
     "metadata": {},
     "output_type": "execute_result"
    }
   ],
   "source": [
    "num"
   ]
  },
  {
   "cell_type": "code",
   "execution_count": 13,
   "id": "1a4a8a64-ddc9-4bd6-9daa-173dbb0c0c8a",
   "metadata": {},
   "outputs": [
    {
     "data": {
      "text/plain": [
       "(1, 2)"
      ]
     },
     "execution_count": 13,
     "metadata": {},
     "output_type": "execute_result"
    }
   ],
   "source": [
    "l, c"
   ]
  },
  {
   "cell_type": "code",
   "execution_count": 21,
   "id": "668319ca-1cfb-4110-9db6-b64f441bc16e",
   "metadata": {},
   "outputs": [
    {
     "data": {
      "text/plain": [
       "([1, 3, 3, 4, 4], [1, 3, 3, 4, 4])"
      ]
     },
     "execution_count": 21,
     "metadata": {},
     "output_type": "execute_result"
    }
   ],
   "source": [
    "co, An"
   ]
  },
  {
   "cell_type": "code",
   "execution_count": 30,
   "id": "20a00c81-12c9-4f13-be67-a177c715d3ee",
   "metadata": {},
   "outputs": [
    {
     "name": "stdout",
     "output_type": "stream",
     "text": [
      "Yes\n"
     ]
    }
   ],
   "source": [
    "num = [[] for _ in range(K)]\n",
    "for i, A in enumerate(An):\n",
    "    num[i%K].append(A)\n",
    "for i in range(K):\n",
    "    num[i].sort()\n",
    "co = []\n",
    "for c in range(N):\n",
    "    for l in range(K):\n",
    "        if c >= len(num[l]):\n",
    "            continue\n",
    "        co.append(num[l][c])\n",
    "An_s = sorted(An)\n",
    "for A, c in zip(An_s, co):\n",
    "    if A != c:\n",
    "        print(\"No\")\n",
    "        break\n",
    "else:\n",
    "    print('Yes')"
   ]
  },
  {
   "cell_type": "code",
   "execution_count": null,
   "id": "4a42881a-2116-4bc7-ac73-ad9ed81922e2",
   "metadata": {},
   "outputs": [],
   "source": []
  }
 ],
 "metadata": {
  "kernelspec": {
   "display_name": "Python 3",
   "language": "python",
   "name": "python3"
  },
  "language_info": {
   "codemirror_mode": {
    "name": "ipython",
    "version": 3
   },
   "file_extension": ".py",
   "mimetype": "text/x-python",
   "name": "python",
   "nbconvert_exporter": "python",
   "pygments_lexer": "ipython3",
   "version": "3.6.13"
  }
 },
 "nbformat": 4,
 "nbformat_minor": 5
}
