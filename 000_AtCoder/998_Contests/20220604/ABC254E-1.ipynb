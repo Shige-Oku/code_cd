{
 "cells": [
  {
   "cell_type": "code",
   "execution_count": null,
   "id": "39993eec-f770-41e1-97f6-8e732ac71f34",
   "metadata": {},
   "outputs": [],
   "source": [
    "# 解説を読んで実装"
   ]
  },
  {
   "cell_type": "code",
   "execution_count": 1,
   "id": "0086852b-4cd3-462a-a1ec-1332f28344a0",
   "metadata": {},
   "outputs": [],
   "source": [
    "import sys\n",
    "import numpy as np\n",
    "import math\n",
    "import collections\n",
    "import copy\n",
    "import decimal\n",
    "import itertools\n",
    "import re\n",
    "import bisect\n",
    "import scipy\n",
    "import heapq\n",
    "from collections import deque \n",
    "from functools import reduce\n",
    "from itertools import product\n",
    "from itertools import combinations\n",
    "from functools import lru_cache\n",
    "from scipy.special import comb\n",
    "from numba import njit\n",
    "from bisect import bisect_right\n",
    "from bisect import bisect_left"
   ]
  },
  {
   "cell_type": "code",
   "execution_count": 2,
   "id": "202211c9-4d82-4e33-87ed-faba2c2e65ea",
   "metadata": {},
   "outputs": [
    {
     "name": "stdin",
     "output_type": "stream",
     "text": [
      " 6 5\n"
     ]
    }
   ],
   "source": [
    "N, M = map(int, input().split())"
   ]
  },
  {
   "cell_type": "code",
   "execution_count": 3,
   "id": "d009da9f-6f18-4a90-aae2-dffbd45ec43a",
   "metadata": {},
   "outputs": [
    {
     "name": "stdin",
     "output_type": "stream",
     "text": [
      " 2 3\n",
      " 3 4\n",
      " 3 5\n",
      " 5 6\n",
      " 2 6\n"
     ]
    }
   ],
   "source": [
    "ABn = [list(map(int, input().split())) for _ in range(M)]"
   ]
  },
  {
   "cell_type": "code",
   "execution_count": 6,
   "id": "bcb3fa55-b9d3-4517-9069-6b91aa2b11c3",
   "metadata": {},
   "outputs": [
    {
     "name": "stdin",
     "output_type": "stream",
     "text": [
      " 7\n"
     ]
    }
   ],
   "source": [
    "Q = int(input())"
   ]
  },
  {
   "cell_type": "code",
   "execution_count": 7,
   "id": "8912e0ef-e613-452e-a788-4f34712810cb",
   "metadata": {},
   "outputs": [
    {
     "name": "stdin",
     "output_type": "stream",
     "text": [
      " 1 1\n",
      " 2 2\n",
      " 2 0\n",
      " 2 3\n",
      " 4 1\n",
      " 6 0\n",
      " 4 3\n"
     ]
    }
   ],
   "source": [
    "XKn =  [list(map(int, input().split())) for _ in range(Q)]"
   ]
  },
  {
   "cell_type": "code",
   "execution_count": 9,
   "id": "50231b88-30e2-4b9d-a181-f700563df8c2",
   "metadata": {},
   "outputs": [],
   "source": [
    "graph = [[] for _ in range(N+1)]\n",
    "for A, B in ABn:\n",
    "    graph[A].append(B)\n",
    "    graph[B].append(A)"
   ]
  },
  {
   "cell_type": "code",
   "execution_count": 49,
   "id": "0f4f94bf-b86a-4c27-b476-f5cd83e35599",
   "metadata": {},
   "outputs": [],
   "source": [
    "def BFS(n, k):\n",
    "    ret = 0\n",
    "    dist = set()\n",
    "    q = deque()\n",
    "    q.append((n, 0))\n",
    "    while q:\n",
    "        p, d = q.popleft()\n",
    "        if p in dist:\n",
    "            continue\n",
    "        ret += p\n",
    "        dist.add(p)\n",
    "        if d >= k:\n",
    "            continue\n",
    "        for gr in graph[p]:\n",
    "            q.append((gr, d+1))\n",
    "    return ret"
   ]
  },
  {
   "cell_type": "code",
   "execution_count": 50,
   "id": "70306941-d642-4587-95e8-155ebe833aad",
   "metadata": {},
   "outputs": [
    {
     "name": "stdout",
     "output_type": "stream",
     "text": [
      "1\n",
      "20\n",
      "2\n",
      "20\n",
      "7\n",
      "6\n",
      "20\n"
     ]
    }
   ],
   "source": [
    "for X, K in XKn:\n",
    "    print(BFS(X, K))\n"
   ]
  },
  {
   "cell_type": "code",
   "execution_count": 10,
   "id": "304f4ab0-6224-4834-bff1-5f5543449a6d",
   "metadata": {},
   "outputs": [
    {
     "data": {
      "text/plain": [
       "[[], [], [3, 6], [2, 4, 5], [3], [3, 6], [5, 2]]"
      ]
     },
     "execution_count": 10,
     "metadata": {},
     "output_type": "execute_result"
    }
   ],
   "source": [
    "graph"
   ]
  },
  {
   "cell_type": "code",
   "execution_count": 13,
   "id": "4b22bfb2-aeb2-4b42-bcbc-ea7a1412db7e",
   "metadata": {},
   "outputs": [
    {
     "data": {
      "text/plain": [
       "[10, 10, 10, 10, 10, 10, 10]"
      ]
     },
     "execution_count": 13,
     "metadata": {},
     "output_type": "execute_result"
    }
   ],
   "source": [
    "dist"
   ]
  },
  {
   "cell_type": "code",
   "execution_count": null,
   "id": "71c745eb-e749-443e-b124-aad90b780650",
   "metadata": {},
   "outputs": [],
   "source": [
    "# TLE "
   ]
  },
  {
   "cell_type": "code",
   "execution_count": 29,
   "id": "a0ff8154-935a-4890-9885-91d104b0db9a",
   "metadata": {},
   "outputs": [],
   "source": [
    "def BFS(n, k):\n",
    "    dist[n] = 0\n",
    "    q = deque()\n",
    "    q.append((n, dist[n]))\n",
    "    while q:\n",
    "        p, d = q.popleft()\n",
    "        if d >= k:\n",
    "            continue\n",
    "        for gr in graph[p]:\n",
    "            if dist[gr] != -1:\n",
    "                continue\n",
    "            dist[gr] = d + 1\n",
    "            q.append((gr, d+1))\n",
    "    return"
   ]
  },
  {
   "cell_type": "code",
   "execution_count": 30,
   "id": "62bcbde5-4bc4-49ce-99d1-98f887bce878",
   "metadata": {},
   "outputs": [
    {
     "name": "stdout",
     "output_type": "stream",
     "text": [
      "1\n",
      "20\n",
      "2\n",
      "20\n",
      "7\n",
      "6\n",
      "20\n"
     ]
    }
   ],
   "source": [
    "for X, K in XKn:\n",
    "    dist = [-1 for _ in range(N+1)]\n",
    "    BFS(X, K)\n",
    "    ans = 0\n",
    "    for i, d in enumerate(dist[1:], 1):\n",
    "        if 0 <= d <= K:\n",
    "            ans += i\n",
    "    print(ans)\n"
   ]
  },
  {
   "cell_type": "code",
   "execution_count": null,
   "id": "c8978896-4ee4-457e-b4cd-629184c13833",
   "metadata": {},
   "outputs": [],
   "source": []
  }
 ],
 "metadata": {
  "kernelspec": {
   "display_name": "Python 3",
   "language": "python",
   "name": "python3"
  },
  "language_info": {
   "codemirror_mode": {
    "name": "ipython",
    "version": 3
   },
   "file_extension": ".py",
   "mimetype": "text/x-python",
   "name": "python",
   "nbconvert_exporter": "python",
   "pygments_lexer": "ipython3",
   "version": "3.6.13"
  }
 },
 "nbformat": 4,
 "nbformat_minor": 5
}
