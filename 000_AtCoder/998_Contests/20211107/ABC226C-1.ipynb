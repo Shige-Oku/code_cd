{
 "cells": [
  {
   "cell_type": "code",
   "execution_count": 22,
   "id": "6c520f2f-0053-48c2-8265-ee9623fa5f03",
   "metadata": {},
   "outputs": [],
   "source": [
    "import sys\n",
    "import numpy as np\n",
    "import math\n",
    "import collections\n",
    "import copy\n",
    "import decimal\n",
    "import itertools\n",
    "import re\n",
    "import bisect\n",
    "import scipy\n",
    "import heapq\n",
    "import array\n",
    "from collections import deque\n",
    "from functools import reduce\n",
    "from itertools import product\n",
    "from itertools import combinations\n",
    "from itertools import chain\n",
    "from functools import lru_cache\n",
    "from scipy.special import comb\n",
    "from numba import njit\n",
    "from bisect import bisect_right\n",
    "from bisect import bisect_left"
   ]
  },
  {
   "cell_type": "code",
   "execution_count": 23,
   "id": "08ae0bbe-0c97-4a1c-8067-8113734167cf",
   "metadata": {},
   "outputs": [],
   "source": [
    "sys.setrecursionlimit(10**8)"
   ]
  },
  {
   "cell_type": "code",
   "execution_count": 7,
   "id": "7569c624-4e91-45d0-8c3a-010a95c6f23d",
   "metadata": {},
   "outputs": [
    {
     "name": "stdin",
     "output_type": "stream",
     "text": [
      " 3\n"
     ]
    }
   ],
   "source": [
    "N = int(input())"
   ]
  },
  {
   "cell_type": "code",
   "execution_count": 8,
   "id": "02f1e255-91b3-463b-8a68-6f6677f5ac11",
   "metadata": {},
   "outputs": [
    {
     "name": "stdin",
     "output_type": "stream",
     "text": [
      " 3 0\n",
      " 5 1 1\n",
      " 7 1 1\n"
     ]
    }
   ],
   "source": [
    "TKAn = [list(map(int, input().split())) for _ in range(N)]"
   ]
  },
  {
   "cell_type": "code",
   "execution_count": 36,
   "id": "aab7d811-9744-4bc6-af81-e742713dbd05",
   "metadata": {},
   "outputs": [],
   "source": [
    "def solve(n):\n",
    "    t = TKAn[n][0]\n",
    "    c = TKAn[n][1]\n",
    "    if n in di:\n",
    "        return\n",
    "    if n in di:\n",
    "        return\n",
    "    di[n] = t\n",
    "    if c == 0:\n",
    "        return\n",
    "    for i in range(c):\n",
    "        solve(TKAn[n][i+2]-1)"
   ]
  },
  {
   "cell_type": "code",
   "execution_count": 37,
   "id": "8a9a8d83-0ae0-4c06-8447-9801db945595",
   "metadata": {},
   "outputs": [],
   "source": [
    "di = {}\n",
    "i = N-1\n",
    "solve(N-1)"
   ]
  },
  {
   "cell_type": "code",
   "execution_count": 38,
   "id": "397b46aa-1793-44e2-bff9-b7a9cad082dd",
   "metadata": {},
   "outputs": [
    {
     "name": "stdout",
     "output_type": "stream",
     "text": [
      "10\n"
     ]
    }
   ],
   "source": [
    "ans = 0\n",
    "for v in di.values():\n",
    "    ans += v\n",
    "print(ans)"
   ]
  },
  {
   "cell_type": "code",
   "execution_count": null,
   "id": "0babad25-f131-45fa-b41f-afe2e06918cc",
   "metadata": {},
   "outputs": [],
   "source": []
  }
 ],
 "metadata": {
  "kernelspec": {
   "display_name": "Python 3",
   "language": "python",
   "name": "python3"
  },
  "language_info": {
   "codemirror_mode": {
    "name": "ipython",
    "version": 3
   },
   "file_extension": ".py",
   "mimetype": "text/x-python",
   "name": "python",
   "nbconvert_exporter": "python",
   "pygments_lexer": "ipython3",
   "version": "3.6.13"
  }
 },
 "nbformat": 4,
 "nbformat_minor": 5
}
