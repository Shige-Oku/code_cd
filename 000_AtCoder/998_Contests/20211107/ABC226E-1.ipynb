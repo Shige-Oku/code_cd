{
 "cells": [
  {
   "cell_type": "code",
   "execution_count": 1,
   "id": "b90b210f-96c2-45e8-99ea-23db996c1ade",
   "metadata": {},
   "outputs": [],
   "source": [
    "import numpy as np\n",
    "import math\n",
    "import collections\n",
    "import copy\n",
    "import decimal\n",
    "import itertools\n",
    "import re\n",
    "import bisect\n",
    "import scipy\n",
    "import heapq\n",
    "import array\n",
    "from collections import deque\n",
    "from functools import reduce\n",
    "from itertools import product\n",
    "from itertools import combinations\n",
    "from itertools import chain\n",
    "from functools import lru_cache\n",
    "from scipy.special import comb\n",
    "from numba import njit\n",
    "from bisect import bisect_right\n",
    "from bisect import bisect_left"
   ]
  },
  {
   "cell_type": "code",
   "execution_count": null,
   "id": "2b207d7b-2bd6-4097-9e86-ffbbfb2b3465",
   "metadata": {},
   "outputs": [],
   "source": [
    "np.cumsum()"
   ]
  },
  {
   "cell_type": "code",
   "execution_count": 3,
   "id": "3ca32746-21fd-41f6-b296-310b8b63a5c7",
   "metadata": {},
   "outputs": [
    {
     "data": {
      "text/plain": [
       "\u001b[1;31mSignature:\u001b[0m \u001b[0mnp\u001b[0m\u001b[1;33m.\u001b[0m\u001b[0mcumsum\u001b[0m\u001b[1;33m(\u001b[0m\u001b[0ma\u001b[0m\u001b[1;33m,\u001b[0m \u001b[0maxis\u001b[0m\u001b[1;33m=\u001b[0m\u001b[1;32mNone\u001b[0m\u001b[1;33m,\u001b[0m \u001b[0mdtype\u001b[0m\u001b[1;33m=\u001b[0m\u001b[1;32mNone\u001b[0m\u001b[1;33m,\u001b[0m \u001b[0mout\u001b[0m\u001b[1;33m=\u001b[0m\u001b[1;32mNone\u001b[0m\u001b[1;33m)\u001b[0m\u001b[1;33m\u001b[0m\u001b[1;33m\u001b[0m\u001b[0m\n",
       "\u001b[1;31mDocstring:\u001b[0m\n",
       "Return the cumulative sum of the elements along a given axis.\n",
       "\n",
       "Parameters\n",
       "----------\n",
       "a : array_like\n",
       "    Input array.\n",
       "axis : int, optional\n",
       "    Axis along which the cumulative sum is computed. The default\n",
       "    (None) is to compute the cumsum over the flattened array.\n",
       "dtype : dtype, optional\n",
       "    Type of the returned array and of the accumulator in which the\n",
       "    elements are summed.  If `dtype` is not specified, it defaults\n",
       "    to the dtype of `a`, unless `a` has an integer dtype with a\n",
       "    precision less than that of the default platform integer.  In\n",
       "    that case, the default platform integer is used.\n",
       "out : ndarray, optional\n",
       "    Alternative output array in which to place the result. It must\n",
       "    have the same shape and buffer length as the expected output\n",
       "    but the type will be cast if necessary. See `ufuncs-output-type` for\n",
       "    more details.\n",
       "\n",
       "Returns\n",
       "-------\n",
       "cumsum_along_axis : ndarray.\n",
       "    A new array holding the result is returned unless `out` is\n",
       "    specified, in which case a reference to `out` is returned. The\n",
       "    result has the same size as `a`, and the same shape as `a` if\n",
       "    `axis` is not None or `a` is a 1-d array.\n",
       "\n",
       "\n",
       "See Also\n",
       "--------\n",
       "sum : Sum array elements.\n",
       "\n",
       "trapz : Integration of array values using the composite trapezoidal rule.\n",
       "\n",
       "diff :  Calculate the n-th discrete difference along given axis.\n",
       "\n",
       "Notes\n",
       "-----\n",
       "Arithmetic is modular when using integer types, and no error is\n",
       "raised on overflow.\n",
       "\n",
       "Examples\n",
       "--------\n",
       ">>> a = np.array([[1,2,3], [4,5,6]])\n",
       ">>> a\n",
       "array([[1, 2, 3],\n",
       "       [4, 5, 6]])\n",
       ">>> np.cumsum(a)\n",
       "array([ 1,  3,  6, 10, 15, 21])\n",
       ">>> np.cumsum(a, dtype=float)     # specifies type of output value(s)\n",
       "array([  1.,   3.,   6.,  10.,  15.,  21.])\n",
       "\n",
       ">>> np.cumsum(a,axis=0)      # sum over rows for each of the 3 columns\n",
       "array([[1, 2, 3],\n",
       "       [5, 7, 9]])\n",
       ">>> np.cumsum(a,axis=1)      # sum over columns for each of the 2 rows\n",
       "array([[ 1,  3,  6],\n",
       "       [ 4,  9, 15]])\n",
       "\u001b[1;31mFile:\u001b[0m      c:\\users\\owner\\anaconda3\\lib\\site-packages\\numpy\\core\\fromnumeric.py\n",
       "\u001b[1;31mType:\u001b[0m      function\n"
      ]
     },
     "metadata": {},
     "output_type": "display_data"
    }
   ],
   "source": [
    "?np.cumsum"
   ]
  },
  {
   "cell_type": "code",
   "execution_count": null,
   "id": "e200ebff-e118-4dba-a812-c248c8b41d3f",
   "metadata": {},
   "outputs": [],
   "source": []
  }
 ],
 "metadata": {
  "kernelspec": {
   "display_name": "Python 3",
   "language": "python",
   "name": "python3"
  },
  "language_info": {
   "codemirror_mode": {
    "name": "ipython",
    "version": 3
   },
   "file_extension": ".py",
   "mimetype": "text/x-python",
   "name": "python",
   "nbconvert_exporter": "python",
   "pygments_lexer": "ipython3",
   "version": "3.6.13"
  }
 },
 "nbformat": 4,
 "nbformat_minor": 5
}
