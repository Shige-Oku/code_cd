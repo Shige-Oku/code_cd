{
 "cells": [
  {
   "cell_type": "code",
   "execution_count": null,
   "id": "745cd427-de6c-4a18-ae05-748d17c6406d",
   "metadata": {},
   "outputs": [],
   "source": [
    "# 解説を読んで実装"
   ]
  },
  {
   "cell_type": "code",
   "execution_count": 1,
   "id": "a9ed4760-a791-4c6e-9b5a-59dce8dc04c2",
   "metadata": {},
   "outputs": [],
   "source": [
    "import sys\n",
    "import numpy as np\n",
    "import math\n",
    "import collections\n",
    "import copy\n",
    "import decimal\n",
    "import itertools\n",
    "import re\n",
    "import bisect\n",
    "import scipy\n",
    "import heapq\n",
    "from collections import deque \n",
    "from functools import reduce\n",
    "from itertools import product\n",
    "from itertools import combinations\n",
    "from functools import lru_cache\n",
    "from scipy.special import comb\n",
    "from numba import njit\n",
    "from bisect import bisect_right\n",
    "from bisect import bisect_left"
   ]
  },
  {
   "cell_type": "code",
   "execution_count": 85,
   "id": "13979b8a-1be1-4c5e-a652-368b1ca8693e",
   "metadata": {},
   "outputs": [
    {
     "name": "stdin",
     "output_type": "stream",
     "text": [
      " 0\n"
     ]
    }
   ],
   "source": [
    "N = int(input())"
   ]
  },
  {
   "cell_type": "code",
   "execution_count": 86,
   "id": "fe07f332-de23-474f-b4d1-7bde53786ba6",
   "metadata": {},
   "outputs": [],
   "source": [
    "ans = 10**18\n",
    "j = 10**6+1\n",
    "for i in range(10**6+1):\n",
    "    while j >= 0:\n",
    "        v = i**3 + i**2 * j + i * j**2 + j**3\n",
    "        if v < N:\n",
    "            break\n",
    "        ans = min(ans, v)\n",
    "        j -= 1"
   ]
  },
  {
   "cell_type": "code",
   "execution_count": 87,
   "id": "e68c85af-7f54-46e9-a4db-070c3571ce07",
   "metadata": {},
   "outputs": [
    {
     "name": "stdout",
     "output_type": "stream",
     "text": [
      "0\n"
     ]
    }
   ],
   "source": [
    "print(ans)"
   ]
  },
  {
   "cell_type": "code",
   "execution_count": null,
   "id": "d960c5f0-5297-4960-926e-6f6c79ce1061",
   "metadata": {},
   "outputs": [],
   "source": [
    "# コンテスト終了後に実装"
   ]
  },
  {
   "cell_type": "code",
   "execution_count": 88,
   "id": "463e21e6-9c42-4e3a-8bdf-443fef34b2b0",
   "metadata": {},
   "outputs": [],
   "source": [
    "def my_bisect(n):\n",
    "    l = -1\n",
    "    r = 10**6+1\n",
    "    while r > l+1:\n",
    "        m = (r + l) // 2\n",
    "        v = n**3 + n**2 * m + n * m**2 + m**3\n",
    "        if v >= N:\n",
    "            r = m\n",
    "        else:\n",
    "            l = m\n",
    "    return r\n"
   ]
  },
  {
   "cell_type": "code",
   "execution_count": 89,
   "id": "6f132f20-abb8-4365-9c9f-9b9878940b02",
   "metadata": {},
   "outputs": [],
   "source": [
    "ans = 10**18\n",
    "for i in range(10**6+1):\n",
    "    j = my_bisect(i)\n",
    "    ans = min(ans, i**3 + i**2 * j + i * j**2 + j**3)"
   ]
  },
  {
   "cell_type": "code",
   "execution_count": 90,
   "id": "003d65a7-8b51-4f23-911b-b3f36e72615e",
   "metadata": {},
   "outputs": [
    {
     "name": "stdout",
     "output_type": "stream",
     "text": [
      "0\n"
     ]
    }
   ],
   "source": [
    "print(ans)"
   ]
  },
  {
   "cell_type": "code",
   "execution_count": 70,
   "id": "4dcf033f-e6d0-4b08-a6ec-c75dd0c1b79e",
   "metadata": {},
   "outputs": [
    {
     "name": "stdout",
     "output_type": "stream",
     "text": [
      "0\n",
      "500000 125000000000000000\n",
      "250000 15625000000000000\n",
      "125000 1953125000000000\n",
      "62500 244140625000000\n",
      "31250 30517578125000\n",
      "15625 3814697265625\n",
      "7812 476745611328\n",
      "3906 59593201416\n",
      "1953 7449150177\n",
      "976 929714176\n",
      "488 116214272\n",
      "244 14526784\n",
      "122 1815848\n",
      "61 226981\n",
      "30 27000\n",
      "15 3375\n",
      "7 343\n",
      "3 27\n",
      "1 1\n"
     ]
    },
    {
     "data": {
      "text/plain": [
       "1"
      ]
     },
     "execution_count": 70,
     "metadata": {},
     "output_type": "execute_result"
    }
   ],
   "source": [
    "my_bisect(0)"
   ]
  },
  {
   "cell_type": "code",
   "execution_count": null,
   "id": "1fdb1b55-6de3-4474-a1f4-493c37e28e20",
   "metadata": {},
   "outputs": [],
   "source": []
  }
 ],
 "metadata": {
  "kernelspec": {
   "display_name": "Python 3",
   "language": "python",
   "name": "python3"
  },
  "language_info": {
   "codemirror_mode": {
    "name": "ipython",
    "version": 3
   },
   "file_extension": ".py",
   "mimetype": "text/x-python",
   "name": "python",
   "nbconvert_exporter": "python",
   "pygments_lexer": "ipython3",
   "version": "3.6.13"
  }
 },
 "nbformat": 4,
 "nbformat_minor": 5
}
