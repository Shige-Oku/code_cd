{
 "cells": [
  {
   "cell_type": "code",
   "execution_count": 1,
   "id": "20bb41fd-09d1-440d-9387-591ef99a1212",
   "metadata": {},
   "outputs": [],
   "source": [
    "import sys\n",
    "import numpy as np\n",
    "import math\n",
    "import collections\n",
    "import copy\n",
    "import decimal\n",
    "import itertools\n",
    "import re\n",
    "import bisect\n",
    "import scipy\n",
    "import heapq\n",
    "from collections import deque \n",
    "from functools import reduce\n",
    "from itertools import product\n",
    "from itertools import combinations\n",
    "from functools import lru_cache\n",
    "from scipy.special import comb\n",
    "from numba import njit\n",
    "from bisect import bisect_right\n",
    "from bisect import bisect_left"
   ]
  },
  {
   "cell_type": "code",
   "execution_count": 2,
   "id": "ed2d7eb0-d7f1-4491-8c02-1d6c00978016",
   "metadata": {},
   "outputs": [
    {
     "name": "stdin",
     "output_type": "stream",
     "text": [
      " -1 -1\n"
     ]
    }
   ],
   "source": [
    "X1, Y1 = map(int, input().split())"
   ]
  },
  {
   "cell_type": "code",
   "execution_count": 3,
   "id": "4cabebaa-1326-4bbc-926c-23822e070be2",
   "metadata": {},
   "outputs": [
    {
     "name": "stdin",
     "output_type": "stream",
     "text": [
      " -1 2\n"
     ]
    }
   ],
   "source": [
    "X2, Y2 = map(int, input().split())"
   ]
  },
  {
   "cell_type": "code",
   "execution_count": 4,
   "id": "bb0625ae-0e2c-4ef0-b192-c2136cd91e69",
   "metadata": {},
   "outputs": [
    {
     "name": "stdin",
     "output_type": "stream",
     "text": [
      " 3 2\n"
     ]
    }
   ],
   "source": [
    "X3, Y3 = map(int, input().split())"
   ]
  },
  {
   "cell_type": "code",
   "execution_count": 5,
   "id": "169e3ebc-9043-418a-8f7b-ced0a56a7cbd",
   "metadata": {},
   "outputs": [],
   "source": [
    "if X1 == X2:\n",
    "    ansx = X3\n",
    "elif X1 == X3:\n",
    "    ansx = X2\n",
    "else:\n",
    "    ansx = X1\n",
    "if Y1 == Y2:\n",
    "    ansy = Y3\n",
    "elif Y1 == Y3:\n",
    "    ansy = Y2\n",
    "else:\n",
    "    ansy = Y1\n",
    "    "
   ]
  },
  {
   "cell_type": "code",
   "execution_count": 6,
   "id": "16adafd7-5ebd-474c-9954-f0664ff0c130",
   "metadata": {},
   "outputs": [
    {
     "name": "stdout",
     "output_type": "stream",
     "text": [
      "3 -1\n"
     ]
    }
   ],
   "source": [
    "print(ansx, ansy)"
   ]
  },
  {
   "cell_type": "code",
   "execution_count": 1,
   "id": "2767d89e-a7ed-44f9-9f59-a503b2b5c35d",
   "metadata": {},
   "outputs": [],
   "source": [
    "# 解説を読んで実装"
   ]
  },
  {
   "cell_type": "code",
   "execution_count": 7,
   "id": "48b2f75a-1608-4274-8d89-c87be58a0e62",
   "metadata": {},
   "outputs": [
    {
     "name": "stdout",
     "output_type": "stream",
     "text": [
      "3 -1\n"
     ]
    }
   ],
   "source": [
    "print(X1 ^ X2 ^ X3, Y1 ^ Y2 ^ Y3)"
   ]
  },
  {
   "cell_type": "code",
   "execution_count": null,
   "id": "7cb257a3-363e-48ad-be72-04b1a30cb69e",
   "metadata": {},
   "outputs": [],
   "source": []
  }
 ],
 "metadata": {
  "kernelspec": {
   "display_name": "Python 3",
   "language": "python",
   "name": "python3"
  },
  "language_info": {
   "codemirror_mode": {
    "name": "ipython",
    "version": 3
   },
   "file_extension": ".py",
   "mimetype": "text/x-python",
   "name": "python",
   "nbconvert_exporter": "python",
   "pygments_lexer": "ipython3",
   "version": "3.6.13"
  }
 },
 "nbformat": 4,
 "nbformat_minor": 5
}
