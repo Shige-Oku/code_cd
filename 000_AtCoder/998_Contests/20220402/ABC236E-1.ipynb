{
 "cells": [
  {
   "cell_type": "code",
   "execution_count": 1,
   "id": "a257c7b9-8607-44d5-bbe3-07e8a8e889a2",
   "metadata": {},
   "outputs": [],
   "source": [
    "import sys\n",
    "import numpy as np\n",
    "import math\n",
    "import collections\n",
    "import copy\n",
    "import decimal\n",
    "import itertools\n",
    "import re\n",
    "import bisect\n",
    "import scipy\n",
    "import heapq\n",
    "from collections import deque \n",
    "from functools import reduce\n",
    "from itertools import product\n",
    "from itertools import combinations\n",
    "from functools import lru_cache\n",
    "from scipy.special import comb\n",
    "from numba import njit\n",
    "from bisect import bisect_right\n",
    "from bisect import bisect_left"
   ]
  },
  {
   "cell_type": "code",
   "execution_count": 2,
   "id": "e98d9a77-04d6-4631-bc40-6eeb3d25ebf2",
   "metadata": {},
   "outputs": [
    {
     "name": "stdin",
     "output_type": "stream",
     "text": [
      " 5\n"
     ]
    }
   ],
   "source": [
    "N = int(input())"
   ]
  },
  {
   "cell_type": "code",
   "execution_count": 3,
   "id": "57b6bdc6-96e5-49ca-8483-da20d33022b8",
   "metadata": {},
   "outputs": [
    {
     "name": "stdin",
     "output_type": "stream",
     "text": [
      " 1 3\n"
     ]
    }
   ],
   "source": [
    "Ax, Ay = map(int, input().split())"
   ]
  },
  {
   "cell_type": "code",
   "execution_count": 4,
   "id": "1eae35b4-a2bc-4748-909e-1cf8c97b206c",
   "metadata": {},
   "outputs": [
    {
     "name": "stdin",
     "output_type": "stream",
     "text": [
      " 3 5\n"
     ]
    }
   ],
   "source": [
    "Bx, By = map(int, input().split())"
   ]
  },
  {
   "cell_type": "code",
   "execution_count": 5,
   "id": "711565fd-3a1b-497a-b4a5-b1a408c8a5d3",
   "metadata": {},
   "outputs": [
    {
     "name": "stdin",
     "output_type": "stream",
     "text": [
      " ....#\n",
      " ...#.\n",
      " .....\n",
      " .#...\n",
      " #....\n"
     ]
    }
   ],
   "source": [
    "Sn = [input() for _ in range(N)]"
   ]
  },
  {
   "cell_type": "code",
   "execution_count": 17,
   "id": "2d32a128-cb5f-4b8a-a53d-af935bbf5de6",
   "metadata": {},
   "outputs": [],
   "source": [
    "di = [[-1] * (N+1) for _ in range(N+1)]\n",
    "q = deque()\n",
    "q.append((Ax-1, Ay-1))\n",
    "di[Ax-1][Ay-1] = 0\n",
    "s = set()\n",
    "# s.add((Ax-1, Ay-1))\n",
    "while q:\n",
    "    x, y = q.popleft()\n",
    "    for i in range(1, N):\n",
    "        if x+i >= N or y+i >= N:\n",
    "            break\n",
    "        if Sn[x+i][y+i] == \"#\":\n",
    "            break\n",
    "        if (x+i, y+i, 1) in s:\n",
    "            break\n",
    "        s.add((x+i, y+i, 1))\n",
    "        if di[x+i][y+i] != -1:\n",
    "            continue\n",
    "        q.append((x+i, y+i))\n",
    "        di[x+i][y+i] = di[x][y] + 1\n",
    "    for i in range(1, N):\n",
    "        if x-i < 0 or y+i >= N:\n",
    "            break\n",
    "        if Sn[x-i][y+i] == \"#\":\n",
    "            break\n",
    "        if (x-i, y+i, 2) in s:\n",
    "            break\n",
    "        s.add((x-i, y+i, 2))\n",
    "        if di[x-i][y+i] != -1:\n",
    "            continue\n",
    "        q.append((x-i, y+i))\n",
    "        di[x-i][y+i] = di[x][y] + 1\n",
    "    for i in range(1, N):\n",
    "        if x+i >= N or y-i < 0:\n",
    "            break\n",
    "        if Sn[x+i][y-i] == \"#\":\n",
    "            break\n",
    "        if (x+i, y-i, 3) in s:\n",
    "            break\n",
    "        s.add((x+i, y-i, 3))\n",
    "        if di[x+i][y-i] != -1:\n",
    "            continue\n",
    "        q.append((x+i, y-i))\n",
    "        di[x+i][y-i] = di[x][y] + 1\n",
    "    for i in range(1, N):\n",
    "        if x-i < 0 or y-i < 0:\n",
    "            break\n",
    "        if Sn[x-i][y-i] == \"#\":\n",
    "            break\n",
    "        if (x-i, y-i, 4) in s:\n",
    "            break\n",
    "        s.add((x-i, y-i, 4))\n",
    "        if di[x-i][y-i] != -1:\n",
    "            continue\n",
    "        q.append((x-i, y-i))\n",
    "        di[x-i][y-i] = di[x][y] + 1\n"
   ]
  },
  {
   "cell_type": "code",
   "execution_count": 18,
   "id": "e77861aa-760f-42bb-ac87-68061c4573f8",
   "metadata": {},
   "outputs": [
    {
     "name": "stdout",
     "output_type": "stream",
     "text": [
      "3\n"
     ]
    }
   ],
   "source": [
    "print(di[Bx-1][By-1])"
   ]
  },
  {
   "cell_type": "code",
   "execution_count": 11,
   "id": "7d099317-fe20-4ec2-8faa-4a1dd92e141f",
   "metadata": {},
   "outputs": [
    {
     "data": {
      "text/plain": [
       "[[0, 0, 0, 0, 0, 0],\n",
       " [0, 3, 0, 0, 0, 0],\n",
       " [0, 0, 0, 0, 0, 0],\n",
       " [0, 0, 0, 0, 0, 0],\n",
       " [0, 0, 0, 0, 0, 0],\n",
       " [0, 0, 0, 0, 0, 0]]"
      ]
     },
     "execution_count": 11,
     "metadata": {},
     "output_type": "execute_result"
    }
   ],
   "source": [
    "di[1][1] = 3\n",
    "di"
   ]
  },
  {
   "cell_type": "code",
   "execution_count": null,
   "id": "31b3f421-9f85-452b-829d-4056c7e557c3",
   "metadata": {},
   "outputs": [],
   "source": []
  }
 ],
 "metadata": {
  "kernelspec": {
   "display_name": "Python 3",
   "language": "python",
   "name": "python3"
  },
  "language_info": {
   "codemirror_mode": {
    "name": "ipython",
    "version": 3
   },
   "file_extension": ".py",
   "mimetype": "text/x-python",
   "name": "python",
   "nbconvert_exporter": "python",
   "pygments_lexer": "ipython3",
   "version": "3.6.13"
  }
 },
 "nbformat": 4,
 "nbformat_minor": 5
}
