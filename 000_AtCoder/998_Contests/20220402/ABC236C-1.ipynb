{
 "cells": [
  {
   "cell_type": "code",
   "execution_count": 1,
   "id": "ff42b4ea-9f47-47b9-a0bc-ffc915c2b5a8",
   "metadata": {},
   "outputs": [],
   "source": [
    "import sys\n",
    "import numpy as np\n",
    "import math\n",
    "import collections\n",
    "import copy\n",
    "import decimal\n",
    "import itertools\n",
    "import re\n",
    "import bisect\n",
    "import scipy\n",
    "import heapq\n",
    "from collections import deque \n",
    "from functools import reduce\n",
    "from itertools import product\n",
    "from itertools import combinations\n",
    "from functools import lru_cache\n",
    "from scipy.special import comb\n",
    "from numba import njit\n",
    "from bisect import bisect_right\n",
    "from bisect import bisect_left"
   ]
  },
  {
   "cell_type": "code",
   "execution_count": 24,
   "id": "67734417-8d3f-4224-8d2c-bbd7eff870a9",
   "metadata": {},
   "outputs": [
    {
     "name": "stdin",
     "output_type": "stream",
     "text": [
      " 5 100 7\n"
     ]
    }
   ],
   "source": [
    "N, K, X = map(int, input().split())"
   ]
  },
  {
   "cell_type": "code",
   "execution_count": 25,
   "id": "59f1effc-3081-41f3-81f0-a74353a9945c",
   "metadata": {},
   "outputs": [
    {
     "name": "stdin",
     "output_type": "stream",
     "text": [
      " 8 3 10 5 13\n"
     ]
    }
   ],
   "source": [
    "An = list(map(int, input().split()))"
   ]
  },
  {
   "cell_type": "code",
   "execution_count": 26,
   "id": "274ecc96-d171-4071-b860-bf986f7b0332",
   "metadata": {},
   "outputs": [],
   "source": [
    "An_s = sorted(An, reverse=True)\n",
    "cnt = K\n",
    "for i in range(N):\n",
    "    q, m = divmod(An_s[i], X)\n",
    "    if q > 0:\n",
    "        u = min(q, cnt)\n",
    "        An_s[i] -= X * u\n",
    "        cnt -= u"
   ]
  },
  {
   "cell_type": "code",
   "execution_count": 28,
   "id": "92f760f2-b165-4b50-97bb-ee2337e85ac6",
   "metadata": {},
   "outputs": [],
   "source": [
    "An_s2 = sorted(An_s, reverse=True)\n",
    "for i in range(min(cnt, N)):\n",
    "    An_s2[i] = 0"
   ]
  },
  {
   "cell_type": "code",
   "execution_count": 29,
   "id": "8d75c4dc-a52b-4687-9fd8-1e9645fa5207",
   "metadata": {},
   "outputs": [
    {
     "name": "stdout",
     "output_type": "stream",
     "text": [
      "0\n"
     ]
    }
   ],
   "source": [
    "print(sum(An_s2))"
   ]
  },
  {
   "cell_type": "code",
   "execution_count": 22,
   "id": "dab43807-fa9d-45a0-9a51-ff1b7147bb25",
   "metadata": {},
   "outputs": [
    {
     "data": {
      "text/plain": [
       "(1, [6, 3, 1, 5, 3])"
      ]
     },
     "execution_count": 22,
     "metadata": {},
     "output_type": "execute_result"
    }
   ],
   "source": [
    "cnt, An_s"
   ]
  },
  {
   "cell_type": "code",
   "execution_count": null,
   "id": "378e3839-3422-4096-aca5-7b3cfa160c15",
   "metadata": {},
   "outputs": [],
   "source": []
  }
 ],
 "metadata": {
  "kernelspec": {
   "display_name": "Python 3",
   "language": "python",
   "name": "python3"
  },
  "language_info": {
   "codemirror_mode": {
    "name": "ipython",
    "version": 3
   },
   "file_extension": ".py",
   "mimetype": "text/x-python",
   "name": "python",
   "nbconvert_exporter": "python",
   "pygments_lexer": "ipython3",
   "version": "3.6.13"
  }
 },
 "nbformat": 4,
 "nbformat_minor": 5
}
