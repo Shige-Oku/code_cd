{
 "cells": [
  {
   "cell_type": "code",
   "execution_count": 1,
   "id": "84343944-bc1a-44c5-b7a5-d29e45ce5c7c",
   "metadata": {},
   "outputs": [],
   "source": [
    "import sys\n",
    "import numpy as np\n",
    "import math\n",
    "import collections\n",
    "import copy\n",
    "import decimal\n",
    "import itertools\n",
    "import re\n",
    "import bisect\n",
    "import scipy\n",
    "import heapq\n",
    "from collections import deque \n",
    "from functools import reduce\n",
    "from itertools import product\n",
    "from itertools import combinations\n",
    "from functools import lru_cache\n",
    "from scipy.special import comb\n",
    "from numba import njit\n",
    "from bisect import bisect_right\n",
    "from bisect import bisect_left"
   ]
  },
  {
   "cell_type": "code",
   "execution_count": 16,
   "id": "1b5b7e79-4282-4c3f-86fd-2d9ba15560ce",
   "metadata": {},
   "outputs": [
    {
     "name": "stdin",
     "output_type": "stream",
     "text": [
      " 576461302059761664\n"
     ]
    }
   ],
   "source": [
    "N = int(input())"
   ]
  },
  {
   "cell_type": "code",
   "execution_count": 21,
   "id": "f4c8070e-e676-4693-897e-1f0dc18c52cd",
   "metadata": {},
   "outputs": [],
   "source": [
    "import sys\n",
    "sys.setrecursionlimit(10**6)\n",
    "def DFS(cur, n):\n",
    "    if n > N:\n",
    "        return\n",
    "    if cur >= len(b):\n",
    "        return\n",
    "    ans.add(n)\n",
    "    DFS(cur+1, n)\n",
    "    if b[cur] == '1':\n",
    "        ans.add(n+2**cur)\n",
    "        DFS(cur+1, n+2**cur)\n",
    "    return "
   ]
  },
  {
   "cell_type": "code",
   "execution_count": 22,
   "id": "ac7dac11-b9a7-4515-9868-36e471823e6a",
   "metadata": {},
   "outputs": [],
   "source": [
    "ans = set()\n",
    "b = bin(N)[2:][::-1]\n",
    "DFS(0, 0)"
   ]
  },
  {
   "cell_type": "code",
   "execution_count": 23,
   "id": "2c448edf-e7d1-4c3b-87fc-7e4dcc6de673",
   "metadata": {},
   "outputs": [
    {
     "name": "stdout",
     "output_type": "stream",
     "text": [
      "0\n",
      "524288\n",
      "549755813888\n",
      "549756338176\n",
      "576460752303423488\n",
      "576460752303947776\n",
      "576461302059237376\n",
      "576461302059761664\n"
     ]
    }
   ],
   "source": [
    "ans = list(ans)\n",
    "ans.sort()\n",
    "print(*ans, sep='\\n')"
   ]
  },
  {
   "cell_type": "code",
   "execution_count": 24,
   "id": "14eb101f-ab83-4124-8e2f-9c2885a0a94f",
   "metadata": {},
   "outputs": [],
   "source": [
    "ans = [0, ]\n",
    "b = bin(N)[2:][::-1]\n",
    "for i in range(len(b)):\n",
    "    if b[i] == '0':\n",
    "        continue\n",
    "    for j in range(len(ans)):\n",
    "        ans.append(ans[j]+2**i)"
   ]
  },
  {
   "cell_type": "code",
   "execution_count": 25,
   "id": "b84be4b6-8f1a-4f99-98c3-5df5fb678fc7",
   "metadata": {},
   "outputs": [
    {
     "name": "stdout",
     "output_type": "stream",
     "text": [
      "0\n",
      "524288\n",
      "549755813888\n",
      "549756338176\n",
      "576460752303423488\n",
      "576460752303947776\n",
      "576461302059237376\n",
      "576461302059761664\n"
     ]
    }
   ],
   "source": [
    "print(*ans, sep='\\n')"
   ]
  },
  {
   "cell_type": "code",
   "execution_count": 42,
   "id": "1a52076b-eff2-4bc2-9ef9-a9251fda86c9",
   "metadata": {},
   "outputs": [],
   "source": [
    "import sys\n",
    "sys.setrecursionlimit(10**6)\n",
    "def DFS(n, s):\n",
    "    print(n, s)\n",
    "    if n >= len(b):\n",
    "        return\n",
    "    if b[i] == '1':\n",
    "        ss = s + '0'\n",
    "        ss[::-1]\n",
    "        ans.add(int(ss, 2))\n",
    "        print('1:1')\n",
    "        print(int(ss, 2))\n",
    "        ss = s + '1'\n",
    "        ss[::-1]\n",
    "        ans.add(int(ss, 2))\n",
    "        print('1:2')\n",
    "        print(int(ss, 2))\n",
    "        DFS(n+1, s+'0')\n",
    "        DFS(n+1, s+'1')\n",
    "    else:\n",
    "        ss = s + '0'\n",
    "        ss[::-1]\n",
    "        ans.add(int(ss, 2))\n",
    "        print('2:1')\n",
    "        print(int(ss, 2))\n",
    "        DFS(n+1, s+'0')\n",
    "    return"
   ]
  },
  {
   "cell_type": "code",
   "execution_count": null,
   "id": "db2378f7-71cc-4456-8576-fe3f1f679869",
   "metadata": {},
   "outputs": [],
   "source": []
  },
  {
   "cell_type": "code",
   "execution_count": 15,
   "id": "dc15c50c-1d02-4792-9c1f-eb6ce8a80fda",
   "metadata": {},
   "outputs": [
    {
     "data": {
      "text/plain": [
       "'1101'"
      ]
     },
     "execution_count": 15,
     "metadata": {},
     "output_type": "execute_result"
    }
   ],
   "source": [
    "bin(N)[2:][::-1]"
   ]
  },
  {
   "cell_type": "code",
   "execution_count": 16,
   "id": "f23f7531-ad0f-4963-98f3-1b9e5c43ea7e",
   "metadata": {},
   "outputs": [
    {
     "data": {
      "text/plain": [
       "0"
      ]
     },
     "execution_count": 16,
     "metadata": {},
     "output_type": "execute_result"
    }
   ],
   "source": [
    "int('' + '0', 2)"
   ]
  },
  {
   "cell_type": "code",
   "execution_count": 21,
   "id": "67852cd5-a94a-4ffd-9341-63263137bfb7",
   "metadata": {},
   "outputs": [
    {
     "data": {
      "text/plain": [
       "'1101'"
      ]
     },
     "execution_count": 21,
     "metadata": {},
     "output_type": "execute_result"
    }
   ],
   "source": [
    "b"
   ]
  },
  {
   "cell_type": "code",
   "execution_count": null,
   "id": "053f90e9-9bb7-4c83-9101-13312158ee9e",
   "metadata": {},
   "outputs": [],
   "source": []
  }
 ],
 "metadata": {
  "kernelspec": {
   "display_name": "Python 3",
   "language": "python",
   "name": "python3"
  },
  "language_info": {
   "codemirror_mode": {
    "name": "ipython",
    "version": 3
   },
   "file_extension": ".py",
   "mimetype": "text/x-python",
   "name": "python",
   "nbconvert_exporter": "python",
   "pygments_lexer": "ipython3",
   "version": "3.6.13"
  }
 },
 "nbformat": 4,
 "nbformat_minor": 5
}
