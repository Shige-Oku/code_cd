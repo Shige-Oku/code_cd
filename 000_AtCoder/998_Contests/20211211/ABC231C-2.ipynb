{
 "cells": [
  {
   "cell_type": "code",
   "execution_count": null,
   "id": "6e37f5e7-785c-4d6d-95b3-da6489e6d6b0",
   "metadata": {},
   "outputs": [],
   "source": [
    "# ボツ"
   ]
  },
  {
   "cell_type": "code",
   "execution_count": 1,
   "id": "d1bb5d6b-6f80-47fa-a4f2-b53f1acb714e",
   "metadata": {},
   "outputs": [],
   "source": [
    "import sys\n",
    "import numpy as np\n",
    "import math\n",
    "import collections\n",
    "import copy\n",
    "import decimal\n",
    "import itertools\n",
    "import re\n",
    "import bisect\n",
    "import scipy\n",
    "import heapq\n",
    "import array\n",
    "from collections import deque\n",
    "from functools import reduce\n",
    "from itertools import product\n",
    "from itertools import combinations\n",
    "from itertools import chain\n",
    "from functools import lru_cache\n",
    "from scipy.special import comb\n",
    "from numba import njit\n",
    "from bisect import bisect_right\n",
    "from bisect import bisect_left"
   ]
  },
  {
   "cell_type": "code",
   "execution_count": 2,
   "id": "908e0ac4-72f2-4074-a07d-25aa149f1589",
   "metadata": {},
   "outputs": [
    {
     "name": "stdin",
     "output_type": "stream",
     "text": [
      " 3 1\n"
     ]
    }
   ],
   "source": [
    "N, Q = map(int, input().split())"
   ]
  },
  {
   "cell_type": "code",
   "execution_count": 16,
   "id": "c894ce95-863b-49f5-ac10-9367117c6f61",
   "metadata": {},
   "outputs": [
    {
     "name": "stdin",
     "output_type": "stream",
     "text": [
      "  100 160 130\n"
     ]
    }
   ],
   "source": [
    "An = list(map(int, input().split()))"
   ]
  },
  {
   "cell_type": "code",
   "execution_count": 10,
   "id": "55a4ee29-79bc-4ad4-9971-a54ab6d96c1f",
   "metadata": {},
   "outputs": [
    {
     "name": "stdin",
     "output_type": "stream",
     "text": [
      " 120\n"
     ]
    }
   ],
   "source": [
    "Xn = [[int(input()), i] for i in range(Q)]"
   ]
  },
  {
   "cell_type": "code",
   "execution_count": 19,
   "id": "e8590592-4166-4f72-9feb-06e2f813dbf5",
   "metadata": {},
   "outputs": [
    {
     "ename": "TypeError",
     "evalue": "'<' not supported between instances of 'int' and 'list'",
     "output_type": "error",
     "traceback": [
      "\u001b[1;31m---------------------------------------------------------------------------\u001b[0m",
      "\u001b[1;31mTypeError\u001b[0m                                 Traceback (most recent call last)",
      "\u001b[1;32m<ipython-input-19-11d7f1a43ac0>\u001b[0m in \u001b[0;36m<module>\u001b[1;34m\u001b[0m\n\u001b[1;32m----> 1\u001b[1;33m \u001b[0mAX\u001b[0m \u001b[1;33m=\u001b[0m \u001b[0msorted\u001b[0m\u001b[1;33m(\u001b[0m\u001b[0mAn\u001b[0m\u001b[1;33m+\u001b[0m\u001b[0mXn\u001b[0m\u001b[1;33m,\u001b[0m \u001b[0mreverse\u001b[0m\u001b[1;33m=\u001b[0m\u001b[1;32mTrue\u001b[0m\u001b[1;33m)\u001b[0m\u001b[1;33m\u001b[0m\u001b[1;33m\u001b[0m\u001b[0m\n\u001b[0m",
      "\u001b[1;31mTypeError\u001b[0m: '<' not supported between instances of 'int' and 'list'"
     ]
    }
   ],
   "source": [
    "AX = sorted(An+Xn, reverse=True)"
   ]
  },
  {
   "cell_type": "code",
   "execution_count": 17,
   "id": "da6d2b15-936b-4f1c-a2e0-7b8ab6823135",
   "metadata": {},
   "outputs": [],
   "source": [
    "An.append(10**9)"
   ]
  },
  {
   "cell_type": "code",
   "execution_count": 8,
   "id": "7e089343-d744-44d4-9645-e17a36e7267e",
   "metadata": {},
   "outputs": [
    {
     "data": {
      "text/plain": [
       "[[120, 0], [100, 1]]"
      ]
     },
     "execution_count": 8,
     "metadata": {},
     "output_type": "execute_result"
    }
   ],
   "source": [
    "Xn"
   ]
  },
  {
   "cell_type": "code",
   "execution_count": 9,
   "id": "40cc6f66-fc2f-4e13-9e6f-84821473a9d0",
   "metadata": {},
   "outputs": [],
   "source": [
    "Q = 1"
   ]
  },
  {
   "cell_type": "code",
   "execution_count": null,
   "id": "ff0a3de3-de65-4bc2-9796-2f138dd8aa5a",
   "metadata": {},
   "outputs": [],
   "source": []
  }
 ],
 "metadata": {
  "kernelspec": {
   "display_name": "Python 3",
   "language": "python",
   "name": "python3"
  },
  "language_info": {
   "codemirror_mode": {
    "name": "ipython",
    "version": 3
   },
   "file_extension": ".py",
   "mimetype": "text/x-python",
   "name": "python",
   "nbconvert_exporter": "python",
   "pygments_lexer": "ipython3",
   "version": "3.6.13"
  }
 },
 "nbformat": 4,
 "nbformat_minor": 5
}
