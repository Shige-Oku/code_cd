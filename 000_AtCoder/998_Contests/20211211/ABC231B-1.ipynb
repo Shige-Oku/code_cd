{
 "cells": [
  {
   "cell_type": "code",
   "execution_count": 1,
   "id": "989695a8-752a-4799-968c-fb627378f7a5",
   "metadata": {},
   "outputs": [],
   "source": [
    "import sys\n",
    "import numpy as np\n",
    "import math\n",
    "import collections\n",
    "import copy\n",
    "import decimal\n",
    "import itertools\n",
    "import re\n",
    "import bisect\n",
    "import scipy\n",
    "import heapq\n",
    "import array\n",
    "from collections import deque\n",
    "from functools import reduce\n",
    "from itertools import product\n",
    "from itertools import combinations\n",
    "from itertools import chain\n",
    "from functools import lru_cache\n",
    "from scipy.special import comb\n",
    "from numba import njit\n",
    "from bisect import bisect_right\n",
    "from bisect import bisect_left"
   ]
  },
  {
   "cell_type": "code",
   "execution_count": 2,
   "id": "930e67fa-93a8-455f-9555-382e94f78395",
   "metadata": {},
   "outputs": [
    {
     "name": "stdin",
     "output_type": "stream",
     "text": [
      " 5\n"
     ]
    }
   ],
   "source": [
    "N = int(input())"
   ]
  },
  {
   "cell_type": "code",
   "execution_count": 3,
   "id": "2edd1a63-deaa-4847-9b8f-86245585077b",
   "metadata": {},
   "outputs": [
    {
     "name": "stdin",
     "output_type": "stream",
     "text": [
      " snuke\n",
      " snuke\n",
      " takahashi\n",
      " takahashi\n",
      " takahashi\n"
     ]
    }
   ],
   "source": [
    "Sn = [input() for _ in range(N)]"
   ]
  },
  {
   "cell_type": "code",
   "execution_count": 23,
   "id": "0bfc9630-3069-468d-ade8-26798c745c32",
   "metadata": {},
   "outputs": [
    {
     "name": "stdout",
     "output_type": "stream",
     "text": [
      "takahashi\n"
     ]
    }
   ],
   "source": [
    "Sn_c = collections.Counter(Sn)\n",
    "Sn_s = sorted(Sn_c.items(), key=lambda x:x[1], reverse=True)\n",
    "print(Sn_s[0][0])"
   ]
  },
  {
   "cell_type": "code",
   "execution_count": 21,
   "id": "1c6e59aa-7f0c-4861-99ea-6769cf173517",
   "metadata": {},
   "outputs": [
    {
     "data": {
      "text/plain": [
       "[('takahashi', 3), ('snuke', 2)]"
      ]
     },
     "execution_count": 21,
     "metadata": {},
     "output_type": "execute_result"
    }
   ],
   "source": [
    "Sn_s"
   ]
  },
  {
   "cell_type": "code",
   "execution_count": 14,
   "id": "0f6d132c-c1fd-4697-bfcc-1fe2dca8ce9b",
   "metadata": {},
   "outputs": [
    {
     "data": {
      "text/plain": [
       "['snuke', 'takahashi']"
      ]
     },
     "execution_count": 14,
     "metadata": {},
     "output_type": "execute_result"
    }
   ],
   "source": [
    "list(Sn_c)"
   ]
  },
  {
   "cell_type": "code",
   "execution_count": 18,
   "id": "35ce10ba-b246-4b17-ae94-b0ae48f4433b",
   "metadata": {},
   "outputs": [
    {
     "data": {
      "text/plain": [
       "dict_items([('snuke', 2), ('takahashi', 3)])"
      ]
     },
     "execution_count": 18,
     "metadata": {},
     "output_type": "execute_result"
    }
   ],
   "source": [
    "Sn_c.items()"
   ]
  },
  {
   "cell_type": "code",
   "execution_count": null,
   "id": "06368b94-c471-45d1-8b72-74be10395333",
   "metadata": {},
   "outputs": [],
   "source": []
  }
 ],
 "metadata": {
  "kernelspec": {
   "display_name": "Python 3",
   "language": "python",
   "name": "python3"
  },
  "language_info": {
   "codemirror_mode": {
    "name": "ipython",
    "version": 3
   },
   "file_extension": ".py",
   "mimetype": "text/x-python",
   "name": "python",
   "nbconvert_exporter": "python",
   "pygments_lexer": "ipython3",
   "version": "3.6.13"
  }
 },
 "nbformat": 4,
 "nbformat_minor": 5
}
