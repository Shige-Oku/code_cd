{
 "cells": [
  {
   "cell_type": "code",
   "execution_count": null,
   "id": "ea93cc4d-cc6a-46a0-af1d-899d2f52b198",
   "metadata": {},
   "outputs": [],
   "source": [
    "# 解説を読んで実装"
   ]
  },
  {
   "cell_type": "code",
   "execution_count": 1,
   "id": "09af42b5-90ea-416c-97e5-973480d4db80",
   "metadata": {},
   "outputs": [],
   "source": [
    "import sys\n",
    "import numpy as np\n",
    "import math\n",
    "import collections\n",
    "import copy\n",
    "import decimal\n",
    "import itertools\n",
    "import re\n",
    "import bisect\n",
    "import scipy\n",
    "import heapq\n",
    "import array\n",
    "from collections import deque\n",
    "from functools import reduce\n",
    "from itertools import product\n",
    "from itertools import combinations\n",
    "from itertools import chain\n",
    "from functools import lru_cache\n",
    "from scipy.special import comb\n",
    "from numba import njit\n",
    "from bisect import bisect_right\n",
    "from bisect import bisect_left"
   ]
  },
  {
   "cell_type": "code",
   "execution_count": 2,
   "id": "698b0609-5253-4099-ace9-2aee3004d315",
   "metadata": {},
   "outputs": [
    {
     "name": "stdin",
     "output_type": "stream",
     "text": [
      " 3 1\n"
     ]
    }
   ],
   "source": [
    "N, Q = map(int, input().split())"
   ]
  },
  {
   "cell_type": "code",
   "execution_count": 3,
   "id": "4e1e6c76-2500-4094-9440-64f65f3c496e",
   "metadata": {},
   "outputs": [
    {
     "name": "stdin",
     "output_type": "stream",
     "text": [
      " 100 160 130\n"
     ]
    }
   ],
   "source": [
    "A=[(a, 10**9) for a in map(int,input().split())]"
   ]
  },
  {
   "cell_type": "code",
   "execution_count": 14,
   "id": "bafb6219-b9b9-4681-95e4-15540b25fc99",
   "metadata": {},
   "outputs": [
    {
     "name": "stdin",
     "output_type": "stream",
     "text": [
      " 120\n"
     ]
    }
   ],
   "source": [
    "X = [(int(input()), i) for i in range(Q)]"
   ]
  },
  {
   "cell_type": "code",
   "execution_count": 15,
   "id": "b25aab23-ddd6-45fe-bf51-bbdedad7dd1b",
   "metadata": {},
   "outputs": [],
   "source": [
    "AX=sorted(A+X, reverse=True)"
   ]
  },
  {
   "cell_type": "code",
   "execution_count": 16,
   "id": "2e21eaac-d766-4b12-98cb-fe6ce3996a70",
   "metadata": {},
   "outputs": [],
   "source": [
    "ans = [0] * Q\n",
    "cnt = 0\n",
    "for v, i in AX:\n",
    "    if i < Q:\n",
    "        ans[i] = cnt\n",
    "    else:\n",
    "        cnt += 1"
   ]
  },
  {
   "cell_type": "code",
   "execution_count": 18,
   "id": "5b94244e-24be-4ec7-b979-93a2703ef6d1",
   "metadata": {},
   "outputs": [
    {
     "name": "stdout",
     "output_type": "stream",
     "text": [
      "2\n"
     ]
    }
   ],
   "source": [
    "print(*ans, sep='\\n')"
   ]
  },
  {
   "cell_type": "code",
   "execution_count": 9,
   "id": "947bb990-36f9-4660-8e34-19b36982e53e",
   "metadata": {},
   "outputs": [
    {
     "data": {
      "text/plain": [
       "[(160, 1000000000), (130, 1000000000), (120, 0), (100, 1000000000)]"
      ]
     },
     "execution_count": 9,
     "metadata": {},
     "output_type": "execute_result"
    }
   ],
   "source": [
    "AX"
   ]
  },
  {
   "cell_type": "code",
   "execution_count": null,
   "id": "702f3acc-0888-4949-80ad-2c9d4883d0d2",
   "metadata": {},
   "outputs": [],
   "source": []
  }
 ],
 "metadata": {
  "kernelspec": {
   "display_name": "Python 3",
   "language": "python",
   "name": "python3"
  },
  "language_info": {
   "codemirror_mode": {
    "name": "ipython",
    "version": 3
   },
   "file_extension": ".py",
   "mimetype": "text/x-python",
   "name": "python",
   "nbconvert_exporter": "python",
   "pygments_lexer": "ipython3",
   "version": "3.6.13"
  }
 },
 "nbformat": 4,
 "nbformat_minor": 5
}
