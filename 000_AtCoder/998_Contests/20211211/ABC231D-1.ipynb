{
 "cells": [
  {
   "cell_type": "code",
   "execution_count": null,
   "id": "9754cde2-8670-4070-b3e2-824a39cff6da",
   "metadata": {},
   "outputs": [],
   "source": [
    "# WA"
   ]
  },
  {
   "cell_type": "code",
   "execution_count": 6,
   "id": "b36e417f-7f6c-4437-a9a6-83bfa8762d4f",
   "metadata": {},
   "outputs": [],
   "source": [
    "import sys\n",
    "import numpy as np\n",
    "import math\n",
    "import collections\n",
    "import copy\n",
    "import decimal\n",
    "import itertools\n",
    "import re\n",
    "import bisect\n",
    "import scipy\n",
    "import heapq\n",
    "import array\n",
    "from collections import deque\n",
    "from functools import reduce\n",
    "from itertools import product\n",
    "from itertools import combinations\n",
    "from itertools import chain\n",
    "from functools import lru_cache\n",
    "from scipy.special import comb\n",
    "from numba import njit\n",
    "from bisect import bisect_right\n",
    "from bisect import bisect_left"
   ]
  },
  {
   "cell_type": "code",
   "execution_count": 27,
   "id": "7f1a8ea2-93b6-4afe-bd10-d38fef19ea8e",
   "metadata": {},
   "outputs": [
    {
     "name": "stdin",
     "output_type": "stream",
     "text": [
      " 4 3\n"
     ]
    }
   ],
   "source": [
    "N, M = map(int, input().split())"
   ]
  },
  {
   "cell_type": "code",
   "execution_count": 28,
   "id": "feee7c99-e99e-4c58-a73b-8c692b308255",
   "metadata": {},
   "outputs": [
    {
     "name": "stdin",
     "output_type": "stream",
     "text": [
      " 1 4\n",
      " 2 4\n",
      " 3 4\n"
     ]
    }
   ],
   "source": [
    "AB = [list(map(int, input().split())) for _ in range(M)]"
   ]
  },
  {
   "cell_type": "code",
   "execution_count": 29,
   "id": "919ab243-0bcf-4bb5-9cc5-bf3405a32b4a",
   "metadata": {},
   "outputs": [],
   "source": [
    "graph = [[] for _ in range(N+1)]\n",
    "cnt = [0] * (N+1)\n",
    "for A, B in AB:\n",
    "    graph[A].append(B)\n",
    "    graph[B].append(A)\n",
    "#     cnt[A] += 1\n",
    "#     cnt[B] += 1\n"
   ]
  },
  {
   "cell_type": "code",
   "execution_count": 33,
   "id": "2296b5af-27c3-43bc-9519-0b29b71f84aa",
   "metadata": {},
   "outputs": [],
   "source": [
    "def BFS(n):\n",
    "    q = deque()\n",
    "    q.append((n, 0))\n",
    "    while q:\n",
    "        v, p = q.popleft()\n",
    "        seen[v] = True\n",
    "        if len(graph[v]) > 2:\n",
    "            return False\n",
    "        for gr in graph[p]:\n",
    "            if gr == p:\n",
    "                continue\n",
    "            if seen[gr]:\n",
    "                return False\n",
    "            q.append(gr)\n",
    "    return True"
   ]
  },
  {
   "cell_type": "code",
   "execution_count": 34,
   "id": "537f0272-5e9e-497c-9566-987144ade4cc",
   "metadata": {},
   "outputs": [
    {
     "name": "stdout",
     "output_type": "stream",
     "text": [
      "No\n"
     ]
    }
   ],
   "source": [
    "if max(cnt) > 2:\n",
    "    print('No')\n",
    "else:\n",
    "    for i in range(1, N+1):\n",
    "        seen = [False] * (N+1)\n",
    "        if not seen[i]:\n",
    "            if not BFS(i):\n",
    "                print('No')\n",
    "                break\n",
    "    else:\n",
    "        print('Yes')"
   ]
  },
  {
   "cell_type": "code",
   "execution_count": 32,
   "id": "867421e4-55ad-43fd-be59-1bc4f650962c",
   "metadata": {},
   "outputs": [
    {
     "data": {
      "text/plain": [
       "([[], [4], [4], [4], [1, 2, 3]], [False, False, False, False, True])"
      ]
     },
     "execution_count": 32,
     "metadata": {},
     "output_type": "execute_result"
    }
   ],
   "source": [
    "graph, seen"
   ]
  },
  {
   "cell_type": "code",
   "execution_count": 14,
   "id": "eefcee73-fd2e-4e1c-ac64-43e5f73faf98",
   "metadata": {},
   "outputs": [],
   "source": [
    "cnt = [0] * N\n",
    "for A, B in AB:\n",
    "    cnt[A-1] += 1\n",
    "    cnt[B-1] += 1"
   ]
  },
  {
   "cell_type": "code",
   "execution_count": 15,
   "id": "73510e33-09a8-47a4-9c14-dd05e4594f10",
   "metadata": {},
   "outputs": [
    {
     "name": "stdout",
     "output_type": "stream",
     "text": [
      "Yes\n"
     ]
    }
   ],
   "source": [
    "if max(cnt) > 2:\n",
    "    print('No')\n",
    "else:\n",
    "    print('Yes')"
   ]
  },
  {
   "cell_type": "code",
   "execution_count": 7,
   "id": "0465858c-0f58-4319-8acb-5cf99fb6b71d",
   "metadata": {},
   "outputs": [],
   "source": [
    "M = 0"
   ]
  },
  {
   "cell_type": "code",
   "execution_count": 22,
   "id": "dde085d1-9833-4eae-8de9-4cf6b15be6b3",
   "metadata": {},
   "outputs": [
    {
     "data": {
      "text/plain": [
       "[[], [3], [3], [1, 2], []]"
      ]
     },
     "execution_count": 22,
     "metadata": {},
     "output_type": "execute_result"
    }
   ],
   "source": [
    "graph"
   ]
  },
  {
   "cell_type": "code",
   "execution_count": 25,
   "id": "3512e583-d2f4-42d6-ad11-894aedac69e0",
   "metadata": {},
   "outputs": [
    {
     "data": {
      "text/plain": [
       "(3, [1, 2])"
      ]
     },
     "execution_count": 25,
     "metadata": {},
     "output_type": "execute_result"
    }
   ],
   "source": [
    "graph[1][0], graph[3]"
   ]
  },
  {
   "cell_type": "code",
   "execution_count": null,
   "id": "66d0e7c2-9b7e-4c46-af8e-1eabe61aed13",
   "metadata": {},
   "outputs": [],
   "source": []
  }
 ],
 "metadata": {
  "kernelspec": {
   "display_name": "Python 3",
   "language": "python",
   "name": "python3"
  },
  "language_info": {
   "codemirror_mode": {
    "name": "ipython",
    "version": 3
   },
   "file_extension": ".py",
   "mimetype": "text/x-python",
   "name": "python",
   "nbconvert_exporter": "python",
   "pygments_lexer": "ipython3",
   "version": "3.6.13"
  }
 },
 "nbformat": 4,
 "nbformat_minor": 5
}
