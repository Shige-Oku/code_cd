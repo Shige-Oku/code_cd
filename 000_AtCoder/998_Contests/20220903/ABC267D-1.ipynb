{
 "cells": [
  {
   "cell_type": "code",
   "execution_count": 1,
   "id": "40354b60-c907-4306-adcb-848e0bcdc531",
   "metadata": {},
   "outputs": [],
   "source": [
    "import sys\n",
    "import numpy as np\n",
    "import math\n",
    "import collections\n",
    "import copy\n",
    "import decimal\n",
    "import itertools\n",
    "import re\n",
    "import bisect\n",
    "import scipy\n",
    "import heapq\n",
    "from collections import deque \n",
    "from functools import reduce\n",
    "from itertools import product\n",
    "from itertools import combinations\n",
    "from functools import lru_cache\n",
    "from scipy.special import comb\n",
    "from numba import njit\n",
    "from bisect import bisect_right\n",
    "from bisect import bisect_left"
   ]
  },
  {
   "cell_type": "code",
   "execution_count": 39,
   "id": "f2e0371c-1245-4a8a-bde2-9f2b4fef40ca",
   "metadata": {},
   "outputs": [
    {
     "name": "stdin",
     "output_type": "stream",
     "text": [
      " 4 2\n"
     ]
    }
   ],
   "source": [
    "N, M = map(int, input().split())"
   ]
  },
  {
   "cell_type": "code",
   "execution_count": 40,
   "id": "fbbc5f00-97e1-4ef0-b3ed-bbfee244d375",
   "metadata": {},
   "outputs": [
    {
     "name": "stdin",
     "output_type": "stream",
     "text": [
      " 5 4 -1 8\n"
     ]
    }
   ],
   "source": [
    "An = list(map(int, input().split()))"
   ]
  },
  {
   "cell_type": "code",
   "execution_count": 57,
   "id": "07a56eed-e49b-4199-978d-60e4b202c20d",
   "metadata": {},
   "outputs": [],
   "source": [
    "dp = [[-10**20] * (N+1) for _ in range(N+1)]\n",
    "dp[0][0] = 0\n",
    "for i, A in enumerate(An, 1):\n",
    "    for j in range(N+1):\n",
    "        dp[i][j] = max(dp[i][j], dp[i-1][j])\n",
    "        if dp[i-1][j-1] == -10**20:\n",
    "            continue\n",
    "        dp[i][j] = max(dp[i][j], dp[i-1][j-1]+A*j)"
   ]
  },
  {
   "cell_type": "code",
   "execution_count": 58,
   "id": "0a18640f-ca6d-4767-8500-0169a0904fd0",
   "metadata": {},
   "outputs": [
    {
     "name": "stdout",
     "output_type": "stream",
     "text": [
      "21\n"
     ]
    }
   ],
   "source": [
    "print(dp[N][M])"
   ]
  },
  {
   "cell_type": "code",
   "execution_count": 53,
   "id": "34a0820c-0f68-43a2-8458-2a029d5b80e6",
   "metadata": {},
   "outputs": [
    {
     "data": {
      "text/plain": [
       "(4, 4)"
      ]
     },
     "execution_count": 53,
     "metadata": {},
     "output_type": "execute_result"
    }
   ],
   "source": [
    "i, j"
   ]
  },
  {
   "cell_type": "code",
   "execution_count": 54,
   "id": "e73d49fd-bf2d-440e-aeda-1566444c9ee1",
   "metadata": {},
   "outputs": [
    {
     "data": {
      "text/plain": [
       "[[0, -10000000000, -10000000000, -10000000000, -10000000000],\n",
       " [0, 5, -10000000000, -10000000000, -10000000000],\n",
       " [0, 5, 13, -10000000000, -10000000000],\n",
       " [0, 5, 13, 10, -10000000000],\n",
       " [0, 8, 21, 37, 42]]"
      ]
     },
     "execution_count": 54,
     "metadata": {},
     "output_type": "execute_result"
    }
   ],
   "source": [
    "dp"
   ]
  },
  {
   "cell_type": "code",
   "execution_count": null,
   "id": "b564b035-d04d-47c5-8bfc-dd04ba5c0c18",
   "metadata": {},
   "outputs": [],
   "source": []
  }
 ],
 "metadata": {
  "kernelspec": {
   "display_name": "Python 3",
   "language": "python",
   "name": "python3"
  },
  "language_info": {
   "codemirror_mode": {
    "name": "ipython",
    "version": 3
   },
   "file_extension": ".py",
   "mimetype": "text/x-python",
   "name": "python",
   "nbconvert_exporter": "python",
   "pygments_lexer": "ipython3",
   "version": "3.6.13"
  }
 },
 "nbformat": 4,
 "nbformat_minor": 5
}
