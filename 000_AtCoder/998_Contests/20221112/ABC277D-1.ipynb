{
 "cells": [
  {
   "cell_type": "code",
   "execution_count": 1,
   "id": "9f4f632d-7421-45f7-b808-abe60f57a212",
   "metadata": {},
   "outputs": [],
   "source": [
    "import sys\n",
    "import numpy as np\n",
    "import math\n",
    "import collections\n",
    "import copy\n",
    "import decimal\n",
    "import itertools\n",
    "import re\n",
    "import bisect\n",
    "import scipy\n",
    "import heapq\n",
    "from collections import deque \n",
    "from functools import reduce\n",
    "from itertools import product\n",
    "from itertools import combinations\n",
    "from functools import lru_cache\n",
    "from scipy.special import comb\n",
    "from numba import njit\n",
    "from bisect import bisect_right\n",
    "from bisect import bisect_left"
   ]
  },
  {
   "cell_type": "code",
   "execution_count": 103,
   "id": "7f38a792-9e9c-46d0-aec5-7f6313b892c8",
   "metadata": {},
   "outputs": [
    {
     "name": "stdin",
     "output_type": "stream",
     "text": [
      " 6 10\n"
     ]
    }
   ],
   "source": [
    "N, M = map(int, input().split())"
   ]
  },
  {
   "cell_type": "code",
   "execution_count": 116,
   "id": "74250c29-2eef-476e-bf52-2233f4ed1a33",
   "metadata": {},
   "outputs": [
    {
     "name": "stdin",
     "output_type": "stream",
     "text": [
      " 0 1 2 4 8 9\n"
     ]
    }
   ],
   "source": [
    "An = list(map(int, input().split()))"
   ]
  },
  {
   "cell_type": "code",
   "execution_count": 117,
   "id": "867d1eef-f88e-49b8-b3e6-ddbae7166876",
   "metadata": {},
   "outputs": [],
   "source": [
    "from collections import Counter\n",
    "An_c = Counter(An)\n",
    "total = 0\n",
    "for k, v in An_c.items():\n",
    "    total += k * v"
   ]
  },
  {
   "cell_type": "code",
   "execution_count": 122,
   "id": "f3e9ad89-55ce-405e-9f4b-5a8d98f49ac2",
   "metadata": {},
   "outputs": [],
   "source": [
    "def solve(n):\n",
    "    ret = total\n",
    "    for i in range(n, n+N+1):\n",
    "        p = i % M\n",
    "        if p not in An_c:\n",
    "            break\n",
    "        ret -= p * An_c[p]\n",
    "    return ret\n",
    "    "
   ]
  },
  {
   "cell_type": "code",
   "execution_count": 123,
   "id": "cc4dde83-b744-4c5f-8839-1709da02c75a",
   "metadata": {},
   "outputs": [
    {
     "name": "stdout",
     "output_type": "stream",
     "text": [
      "0 21\n",
      "4 20\n",
      "8 4\n"
     ]
    }
   ],
   "source": [
    "ans = total\n",
    "c = 0\n",
    "for k, _ in sorted(An_c.items()):\n",
    "    if k-1 in An_c:\n",
    "        continue\n",
    "    ans = min(ans, solve(k))\n"
   ]
  },
  {
   "cell_type": "code",
   "execution_count": 124,
   "id": "5b18274c-fa4c-4710-a955-850d66ac6e9d",
   "metadata": {},
   "outputs": [
    {
     "name": "stdout",
     "output_type": "stream",
     "text": [
      "4\n"
     ]
    }
   ],
   "source": [
    "print(ans)"
   ]
  },
  {
   "cell_type": "code",
   "execution_count": 121,
   "id": "cc8ac9c6-7a1b-4c0d-b72c-e18db21c3086",
   "metadata": {},
   "outputs": [
    {
     "data": {
      "text/plain": [
       "7"
      ]
     },
     "execution_count": 121,
     "metadata": {},
     "output_type": "execute_result"
    }
   ],
   "source": [
    "solve(8)"
   ]
  },
  {
   "cell_type": "code",
   "execution_count": 76,
   "id": "135d9185-aac7-412a-8abf-1f136fb65a2b",
   "metadata": {},
   "outputs": [
    {
     "data": {
      "text/plain": [
       "([(1, 1),\n",
       "  (2, 2),\n",
       "  (3, 9),\n",
       "  (7, 7),\n",
       "  (8, 16),\n",
       "  (9, 18),\n",
       "  (11, 22),\n",
       "  (12, 24),\n",
       "  (14, 14),\n",
       "  (15, 15),\n",
       "  (16, 16),\n",
       "  (17, 34),\n",
       "  (18, 18)],\n",
       " 196)"
      ]
     },
     "execution_count": 76,
     "metadata": {},
     "output_type": "execute_result"
    }
   ],
   "source": [
    "sorted(t.items()), total"
   ]
  },
  {
   "cell_type": "code",
   "execution_count": 29,
   "id": "ca1ad86f-d5de-4320-82bb-7d39fad05111",
   "metadata": {},
   "outputs": [
    {
     "data": {
      "text/plain": [
       "[0, 0, 2, 11, 11, 21, 27]"
      ]
     },
     "execution_count": 29,
     "metadata": {},
     "output_type": "execute_result"
    }
   ],
   "source": [
    "t_c"
   ]
  },
  {
   "cell_type": "code",
   "execution_count": 72,
   "id": "f7119844-188b-4483-8f20-f11bea32c816",
   "metadata": {},
   "outputs": [
    {
     "data": {
      "text/plain": [
       "(196, 196)"
      ]
     },
     "execution_count": 72,
     "metadata": {},
     "output_type": "execute_result"
    }
   ],
   "source": [
    "total, sum(An)"
   ]
  },
  {
   "cell_type": "code",
   "execution_count": 78,
   "id": "71e84615-d2f1-46ad-97e8-f9745a632fbc",
   "metadata": {},
   "outputs": [
    {
     "data": {
      "text/plain": [
       "99"
      ]
     },
     "execution_count": 78,
     "metadata": {},
     "output_type": "execute_result"
    }
   ],
   "source": [
    "196-(14+15+16+34+18)"
   ]
  },
  {
   "cell_type": "code",
   "execution_count": null,
   "id": "a267fdfc-8cce-4e4d-9c5a-f316f30faa5c",
   "metadata": {},
   "outputs": [],
   "source": []
  }
 ],
 "metadata": {
  "kernelspec": {
   "display_name": "Python 3",
   "language": "python",
   "name": "python3"
  },
  "language_info": {
   "codemirror_mode": {
    "name": "ipython",
    "version": 3
   },
   "file_extension": ".py",
   "mimetype": "text/x-python",
   "name": "python",
   "nbconvert_exporter": "python",
   "pygments_lexer": "ipython3",
   "version": "3.6.13"
  }
 },
 "nbformat": 4,
 "nbformat_minor": 5
}
