{
 "cells": [
  {
   "cell_type": "code",
   "execution_count": 1,
   "id": "3ed38cc0-2822-4001-ac95-0f42b2237245",
   "metadata": {},
   "outputs": [],
   "source": [
    "import sys\n",
    "import numpy as np\n",
    "import math\n",
    "import collections\n",
    "import copy\n",
    "import decimal\n",
    "import itertools\n",
    "import re\n",
    "import bisect\n",
    "import scipy\n",
    "import heapq\n",
    "from collections import deque \n",
    "from functools import reduce\n",
    "from itertools import product\n",
    "from itertools import combinations\n",
    "from functools import lru_cache\n",
    "from scipy.special import comb\n",
    "from numba import njit\n",
    "from bisect import bisect_right\n",
    "from bisect import bisect_left"
   ]
  },
  {
   "cell_type": "code",
   "execution_count": 2,
   "id": "a6a20cc0-54cd-4fd2-8969-ce189170042a",
   "metadata": {},
   "outputs": [
    {
     "name": "stdin",
     "output_type": "stream",
     "text": [
      " 3\n"
     ]
    }
   ],
   "source": [
    "N = int(input())"
   ]
  },
  {
   "cell_type": "code",
   "execution_count": 17,
   "id": "b15afb07-7561-44c2-b0c7-197c80c39f57",
   "metadata": {},
   "outputs": [
    {
     "name": "stdin",
     "output_type": "stream",
     "text": [
      " xxx aaa\n",
      " bbb yyy\n",
      " aaa bbb\n"
     ]
    }
   ],
   "source": [
    "STn = [input().split() for _ in range(N)]"
   ]
  },
  {
   "cell_type": "code",
   "execution_count": 19,
   "id": "e346674b-ef76-4aa9-a77d-bffe803cf97f",
   "metadata": {},
   "outputs": [
    {
     "name": "stdout",
     "output_type": "stream",
     "text": [
      "No\n"
     ]
    }
   ],
   "source": [
    "for i in range(N):\n",
    "    sflg = False\n",
    "    tflg = False\n",
    "    for j in range(N):\n",
    "        if i == j:\n",
    "            continue\n",
    "        if STn[i][0] == STn[j][0] or STn[i][0] == STn[j][1]:\n",
    "            sflg = True\n",
    "        if STn[i][1] == STn[j][0] or STn[i][1] == STn[j][1]:\n",
    "            tflg = True\n",
    "    if sflg and tflg:\n",
    "        print(\"No\")\n",
    "        break\n",
    "else:\n",
    "    print(\"Yes\")"
   ]
  },
  {
   "cell_type": "code",
   "execution_count": null,
   "id": "ef9432ab-46d1-42dc-89c7-984cae3c122f",
   "metadata": {},
   "outputs": [],
   "source": [
    "# 下はサンプルが合わない"
   ]
  },
  {
   "cell_type": "code",
   "execution_count": 14,
   "id": "4b3a9fdf-51a8-45f9-b9ff-936332d83f4c",
   "metadata": {},
   "outputs": [],
   "source": [
    "Sn = []\n",
    "Tn = []\n",
    "for S, T in STn:\n",
    "    Sn.append(S)\n",
    "    Tn.append(T)"
   ]
  },
  {
   "cell_type": "code",
   "execution_count": 15,
   "id": "e6b8eb7d-7e26-4877-b53c-e079ddaa5c22",
   "metadata": {},
   "outputs": [
    {
     "name": "stdout",
     "output_type": "stream",
     "text": [
      "Yes\n"
     ]
    }
   ],
   "source": [
    "Sn_c = collections.Counter(Sn)\n",
    "Tn_c = collections.Counter(Tn)\n",
    "for S, T in STn:\n",
    "    sflg = False\n",
    "    tflg = False\n",
    "    if Sn_c[S] > 1 or  Tn_c[S] > 1:\n",
    "        sflg = True\n",
    "    if Sn_c[T] > 1 or  Tn_c[T] > 1:\n",
    "        tflg = True\n",
    "    if sflg and tflg:\n",
    "        print(\"No\")\n",
    "        break\n",
    "else:\n",
    "    print(\"Yes\")"
   ]
  },
  {
   "cell_type": "code",
   "execution_count": 16,
   "id": "3ec054cd-7e2d-492a-987d-0ccdf98fb26f",
   "metadata": {},
   "outputs": [
    {
     "data": {
      "text/plain": [
       "(Counter({'aaa': 1, 'xxx': 1, 'bbb': 1}),\n",
       " Counter({'bbb': 1, 'aaa': 1, 'yyy': 1}))"
      ]
     },
     "execution_count": 16,
     "metadata": {},
     "output_type": "execute_result"
    }
   ],
   "source": [
    "Sn_c, Tn_c"
   ]
  },
  {
   "cell_type": "code",
   "execution_count": null,
   "id": "1c7e33ef-4958-49fd-af52-da1f695feb0b",
   "metadata": {},
   "outputs": [],
   "source": []
  }
 ],
 "metadata": {
  "kernelspec": {
   "display_name": "Python 3",
   "language": "python",
   "name": "python3"
  },
  "language_info": {
   "codemirror_mode": {
    "name": "ipython",
    "version": 3
   },
   "file_extension": ".py",
   "mimetype": "text/x-python",
   "name": "python",
   "nbconvert_exporter": "python",
   "pygments_lexer": "ipython3",
   "version": "3.6.13"
  }
 },
 "nbformat": 4,
 "nbformat_minor": 5
}
