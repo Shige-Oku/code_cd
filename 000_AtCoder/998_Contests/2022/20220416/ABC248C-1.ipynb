{
 "cells": [
  {
   "cell_type": "code",
   "execution_count": 1,
   "id": "b093e440-a4db-44fd-8a8e-32574fc1e462",
   "metadata": {},
   "outputs": [],
   "source": [
    "import sys\n",
    "import numpy as np\n",
    "import math\n",
    "import collections\n",
    "import copy\n",
    "import decimal\n",
    "import itertools\n",
    "import re\n",
    "import bisect\n",
    "import scipy\n",
    "import heapq\n",
    "from collections import deque \n",
    "from functools import reduce\n",
    "from itertools import product\n",
    "from itertools import combinations\n",
    "from functools import lru_cache\n",
    "from scipy.special import comb\n",
    "from numba import njit\n",
    "from bisect import bisect_right\n",
    "from bisect import bisect_left"
   ]
  },
  {
   "cell_type": "code",
   "execution_count": 1,
   "id": "601a124b-5866-400b-9470-872939067829",
   "metadata": {},
   "outputs": [
    {
     "name": "stdin",
     "output_type": "stream",
     "text": [
      "  31 41 592\n"
     ]
    }
   ],
   "source": [
    "N, M, K = map(int, input().split())"
   ]
  },
  {
   "cell_type": "code",
   "execution_count": null,
   "id": "04b32070-5f56-4995-aa44-5baf79a80a20",
   "metadata": {},
   "outputs": [],
   "source": [
    "# 解説を読んで実装"
   ]
  },
  {
   "cell_type": "code",
   "execution_count": 7,
   "id": "d3a231a5-719c-41e4-b3bc-29e9a5a69f7a",
   "metadata": {},
   "outputs": [],
   "source": [
    "dp = [[0] * (N+1) for _ in range(K+1)]\n",
    "dp[0][0] = 1\n",
    "for i in range(N):\n",
    "    for j in range(K):\n",
    "        for k in range(1, M+1):\n",
    "            if j + k <= K:\n",
    "                dp[j+k][i+1] += dp[j][i]\n",
    "                dp[j+k][i+1] %= 998244353"
   ]
  },
  {
   "cell_type": "code",
   "execution_count": 9,
   "id": "e930793d-233c-4926-be1a-f7a95a3204ce",
   "metadata": {},
   "outputs": [
    {
     "name": "stdout",
     "output_type": "stream",
     "text": [
      "798416518\n"
     ]
    }
   ],
   "source": [
    "ans = 0\n",
    "for i in range(K+1):\n",
    "    ans += dp[i][N]\n",
    "print(ans % 998244353)"
   ]
  },
  {
   "cell_type": "code",
   "execution_count": 5,
   "id": "38185757-f2cd-425a-aaa6-60ffffefaa8e",
   "metadata": {},
   "outputs": [],
   "source": [
    "dp = [[0] * (K+1) for _ in range(N+1)]\n",
    "dp[0][0] = 1\n",
    "for i in range(N):\n",
    "    for j in range(K):\n",
    "        for k in range(1, M+1):\n",
    "            if j + k <= K:\n",
    "                dp[i+1][j+k] += dp[i][j]\n",
    "                dp[i+1][j+k] %= 998244353"
   ]
  },
  {
   "cell_type": "code",
   "execution_count": 6,
   "id": "7db0594d-6fb8-4cce-93f0-a931916e8f49",
   "metadata": {},
   "outputs": [
    {
     "name": "stdout",
     "output_type": "stream",
     "text": [
      "798416518\n"
     ]
    }
   ],
   "source": [
    "print(sum(dp[N]) % 998244353)"
   ]
  },
  {
   "cell_type": "code",
   "execution_count": 50,
   "id": "b886582a-d6de-4632-af75-6743fb622f5f",
   "metadata": {},
   "outputs": [
    {
     "data": {
      "text/plain": [
       "(0, 3, 5)"
      ]
     },
     "execution_count": 50,
     "metadata": {},
     "output_type": "execute_result"
    }
   ],
   "source": [
    "i, j, k"
   ]
  },
  {
   "cell_type": "code",
   "execution_count": 38,
   "id": "5add7b5e-5b95-464a-84c6-699c5695a2d8",
   "metadata": {},
   "outputs": [],
   "source": [
    "dp = [[0] * (N+1) for _ in range(N*K+1)]"
   ]
  },
  {
   "cell_type": "code",
   "execution_count": 70,
   "id": "913f1d0d-55b8-4257-bcce-eda9acb689b5",
   "metadata": {},
   "outputs": [
    {
     "data": {
      "text/plain": [
       "1"
      ]
     },
     "execution_count": 70,
     "metadata": {},
     "output_type": "execute_result"
    }
   ],
   "source": [
    "dp[N][N]"
   ]
  },
  {
   "cell_type": "code",
   "execution_count": null,
   "id": "70e2e2f1-fffd-49b1-a529-95c6ab4062c8",
   "metadata": {},
   "outputs": [],
   "source": [
    "# サンプルが時間内に終わらない"
   ]
  },
  {
   "cell_type": "code",
   "execution_count": 9,
   "id": "61143e7a-723d-4242-99a4-87cf602021ff",
   "metadata": {},
   "outputs": [],
   "source": [
    "sys.setrecursionlimit(10**7)"
   ]
  },
  {
   "cell_type": "code",
   "execution_count": 35,
   "id": "b698653f-8693-45ff-bc41-7253be8d660a",
   "metadata": {},
   "outputs": [],
   "source": [
    "def DFS(d, n, s):\n",
    "#     print(d, n, s)\n",
    "    ret = 0\n",
    "#     if n > M:\n",
    "#         return 0\n",
    "    if d >= N:\n",
    "        return 1\n",
    "    for i in range(1, 10):\n",
    "        if n+i <= K:\n",
    "            ret += DFS(d+1, n+i, s+str(i))\n",
    "#     print(ret)\n",
    "    return ret % 998244353"
   ]
  },
  {
   "cell_type": "code",
   "execution_count": 71,
   "id": "eea25038-fa65-416d-9787-207df613681c",
   "metadata": {},
   "outputs": [],
   "source": [
    "# print(DFS(0, 0, \"\"))"
   ]
  },
  {
   "cell_type": "code",
   "execution_count": 37,
   "id": "5d6e589e-17a9-4f14-b907-29b937b5f848",
   "metadata": {},
   "outputs": [
    {
     "data": {
      "text/plain": [
       "13990377952941688885717088838707011639375858793049146840659231"
      ]
     },
     "execution_count": 37,
     "metadata": {},
     "output_type": "execute_result"
    }
   ],
   "source": [
    "31**41"
   ]
  },
  {
   "cell_type": "code",
   "execution_count": null,
   "id": "a8348f52-1d41-4874-8782-ee431dd5ec24",
   "metadata": {},
   "outputs": [],
   "source": []
  }
 ],
 "metadata": {
  "kernelspec": {
   "display_name": "Python 3",
   "language": "python",
   "name": "python3"
  },
  "language_info": {
   "codemirror_mode": {
    "name": "ipython",
    "version": 3
   },
   "file_extension": ".py",
   "mimetype": "text/x-python",
   "name": "python",
   "nbconvert_exporter": "python",
   "pygments_lexer": "ipython3",
   "version": "3.6.13"
  }
 },
 "nbformat": 4,
 "nbformat_minor": 5
}
