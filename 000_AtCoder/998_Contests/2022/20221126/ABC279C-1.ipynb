{
 "cells": [
  {
   "cell_type": "code",
   "execution_count": 1,
   "id": "a98e46d5-212d-4494-a87d-9c12bfc7625a",
   "metadata": {},
   "outputs": [],
   "source": [
    "import sys\n",
    "import numpy as np\n",
    "import math\n",
    "import collections\n",
    "import copy\n",
    "import decimal\n",
    "import itertools\n",
    "import re\n",
    "import bisect\n",
    "import scipy\n",
    "import heapq\n",
    "from collections import deque \n",
    "from functools import reduce\n",
    "from itertools import product\n",
    "from itertools import combinations\n",
    "from functools import lru_cache\n",
    "from scipy.special import comb\n",
    "from numba import njit\n",
    "from bisect import bisect_right\n",
    "from bisect import bisect_left"
   ]
  },
  {
   "cell_type": "code",
   "execution_count": 2,
   "id": "6d475e66-1e45-4e60-8d0f-1bd6994c6e51",
   "metadata": {},
   "outputs": [
    {
     "name": "stdin",
     "output_type": "stream",
     "text": [
      " 3 4\n"
     ]
    }
   ],
   "source": [
    "H, W = map(int, input().split())"
   ]
  },
  {
   "cell_type": "code",
   "execution_count": 3,
   "id": "3fb25846-c90d-44a9-820c-d55190bdad21",
   "metadata": {},
   "outputs": [
    {
     "name": "stdin",
     "output_type": "stream",
     "text": [
      " ##.#\n",
      " ##..\n",
      " #...\n"
     ]
    }
   ],
   "source": [
    "Sn = [input() for _ in range(H)]"
   ]
  },
  {
   "cell_type": "code",
   "execution_count": 4,
   "id": "e9346b71-3d21-4f89-a5c0-085bdb8bd59e",
   "metadata": {},
   "outputs": [
    {
     "name": "stdin",
     "output_type": "stream",
     "text": [
      " .###\n",
      " ..##\n",
      " ...#\n"
     ]
    }
   ],
   "source": [
    "Tn = [input() for _ in range(H)]"
   ]
  },
  {
   "cell_type": "code",
   "execution_count": 18,
   "id": "a05e6130-9a23-4dd4-89e7-154883a1650f",
   "metadata": {},
   "outputs": [],
   "source": [
    "scnt = [[] for _ in range(W)]\n",
    "tcnt = [[] for _ in range(W)]\n",
    "for w in range(W):\n",
    "    for h in range(H):\n",
    "        if Sn[h][w] == '#':\n",
    "            scnt[w].append(h)\n",
    "        if Tn[h][w] == '#':\n",
    "            tcnt[w].append(h)\n"
   ]
  },
  {
   "cell_type": "code",
   "execution_count": 22,
   "id": "b4bfb6ed-756f-4175-81ea-82125a3f44d3",
   "metadata": {},
   "outputs": [
    {
     "name": "stdout",
     "output_type": "stream",
     "text": [
      "Yes\n"
     ]
    }
   ],
   "source": [
    "scnt.sort()\n",
    "tcnt.sort()\n",
    "print('Yes' if scnt == tcnt else 'No')"
   ]
  },
  {
   "cell_type": "code",
   "execution_count": 21,
   "id": "d52063bd-a6fe-43b1-866c-b5d8dc8c079d",
   "metadata": {},
   "outputs": [
    {
     "data": {
      "text/plain": [
       "True"
      ]
     },
     "execution_count": 21,
     "metadata": {},
     "output_type": "execute_result"
    }
   ],
   "source": [
    "scnt == tcnt"
   ]
  },
  {
   "cell_type": "code",
   "execution_count": 5,
   "id": "28153750-d710-463e-a57e-0e44d4736f84",
   "metadata": {},
   "outputs": [
    {
     "data": {
      "text/plain": [
       "True"
      ]
     },
     "execution_count": 5,
     "metadata": {},
     "output_type": "execute_result"
    }
   ],
   "source": [
    "[] == []"
   ]
  },
  {
   "cell_type": "code",
   "execution_count": 6,
   "id": "24f167e4-847f-431c-ac8a-f688ed42c43b",
   "metadata": {},
   "outputs": [
    {
     "data": {
      "text/plain": [
       "160000000000"
      ]
     },
     "execution_count": 6,
     "metadata": {},
     "output_type": "execute_result"
    }
   ],
   "source": [
    "(4*10**5)**2"
   ]
  },
  {
   "cell_type": "code",
   "execution_count": 8,
   "id": "6abe85c4-6595-42e9-b792-37ae666fb376",
   "metadata": {},
   "outputs": [],
   "source": [
    "import numpy as np\n",
    "S_n = np.array(Sn)"
   ]
  },
  {
   "cell_type": "code",
   "execution_count": 11,
   "id": "6fbd470a-7475-479d-9a9b-9eca31fb5ee5",
   "metadata": {},
   "outputs": [
    {
     "ename": "IndexError",
     "evalue": "too many indices for array: array is 1-dimensional, but 2 were indexed",
     "output_type": "error",
     "traceback": [
      "\u001b[1;31m---------------------------------------------------------------------------\u001b[0m",
      "\u001b[1;31mIndexError\u001b[0m                                Traceback (most recent call last)",
      "\u001b[1;32m<ipython-input-11-cb2a5668c1b6>\u001b[0m in \u001b[0;36m<module>\u001b[1;34m\u001b[0m\n\u001b[1;32m----> 1\u001b[1;33m \u001b[0mS_n\u001b[0m\u001b[1;33m[\u001b[0m\u001b[1;33m:\u001b[0m\u001b[1;33m,\u001b[0m \u001b[1;36m1\u001b[0m\u001b[1;33m]\u001b[0m\u001b[1;33m\u001b[0m\u001b[1;33m\u001b[0m\u001b[0m\n\u001b[0m",
      "\u001b[1;31mIndexError\u001b[0m: too many indices for array: array is 1-dimensional, but 2 were indexed"
     ]
    }
   ],
   "source": [
    "S_n[:, 1]"
   ]
  },
  {
   "cell_type": "code",
   "execution_count": null,
   "id": "19ce2a88-5cf2-4bd5-85a1-7cebe6ba1a37",
   "metadata": {},
   "outputs": [],
   "source": []
  }
 ],
 "metadata": {
  "kernelspec": {
   "display_name": "Python 3",
   "language": "python",
   "name": "python3"
  },
  "language_info": {
   "codemirror_mode": {
    "name": "ipython",
    "version": 3
   },
   "file_extension": ".py",
   "mimetype": "text/x-python",
   "name": "python",
   "nbconvert_exporter": "python",
   "pygments_lexer": "ipython3",
   "version": "3.6.13"
  }
 },
 "nbformat": 4,
 "nbformat_minor": 5
}
