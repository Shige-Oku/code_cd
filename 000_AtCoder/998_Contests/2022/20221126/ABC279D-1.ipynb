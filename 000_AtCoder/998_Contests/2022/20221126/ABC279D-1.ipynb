{
 "cells": [
  {
   "cell_type": "code",
   "execution_count": 1,
   "id": "b25d7763-265a-4355-8b00-e2f13e3cb70e",
   "metadata": {},
   "outputs": [],
   "source": [
    "import sys\n",
    "import numpy as np\n",
    "import math\n",
    "import collections\n",
    "import copy\n",
    "import decimal\n",
    "import itertools\n",
    "import re\n",
    "import bisect\n",
    "import scipy\n",
    "import heapq\n",
    "from collections import deque \n",
    "from functools import reduce\n",
    "from itertools import product\n",
    "from itertools import combinations\n",
    "from functools import lru_cache\n",
    "from scipy.special import comb\n",
    "from numba import njit\n",
    "from bisect import bisect_right\n",
    "from bisect import bisect_left"
   ]
  },
  {
   "cell_type": "code",
   "execution_count": 66,
   "id": "807937f8-602f-487a-898f-7bc712eda361",
   "metadata": {},
   "outputs": [
    {
     "name": "stdin",
     "output_type": "stream",
     "text": [
      " 5 10\n"
     ]
    }
   ],
   "source": [
    "A, B = map(int, input().split())"
   ]
  },
  {
   "cell_type": "code",
   "execution_count": 67,
   "id": "07f83f12-efef-4ac7-abcd-09627d2bfa96",
   "metadata": {},
   "outputs": [],
   "source": [
    "from decimal import Decimal\n",
    "def calcVal(n):\n",
    "    return Decimal(B) * Decimal(n) + Decimal(A) / Decimal(n + 1)**Decimal(0.5)"
   ]
  },
  {
   "cell_type": "code",
   "execution_count": 68,
   "id": "ba97c092-61c6-4aed-92f0-4ed96b43f391",
   "metadata": {},
   "outputs": [],
   "source": [
    "def check(n):\n",
    "    if n == 0:\n",
    "        return 0\n",
    "    v1 = calcVal(n-1)\n",
    "    v2 = calcVal(n)\n",
    "    v3 = calcVal(n+1)\n",
    "    if v1 < v2 < v3:\n",
    "        return 1\n",
    "    elif v1 > v2 > v3:\n",
    "        return -1\n",
    "    else:\n",
    "        return 0\n"
   ]
  },
  {
   "cell_type": "code",
   "execution_count": 69,
   "id": "ae4d3405-acc4-484a-b336-03f04ac54d10",
   "metadata": {},
   "outputs": [],
   "source": [
    "def my_bisect(n):\n",
    "    l = 0\n",
    "    r = A\n",
    "    while True:\n",
    "        m = (r + l) // 2\n",
    "        rtn = check(m)\n",
    "        if rtn == 0:\n",
    "            return m\n",
    "        elif rtn == -1:\n",
    "            l = m\n",
    "        else:\n",
    "            r = m\n"
   ]
  },
  {
   "cell_type": "code",
   "execution_count": 70,
   "id": "0c8944ae-ae37-4239-b953-254720dea961",
   "metadata": {},
   "outputs": [
    {
     "name": "stdout",
     "output_type": "stream",
     "text": [
      "5\n"
     ]
    }
   ],
   "source": [
    "w = my_bisect(A)\n",
    "print(calcVal(w))"
   ]
  },
  {
   "cell_type": "code",
   "execution_count": 24,
   "id": "a236c8b9-fa17-4edf-8833-d7e0936f6dd4",
   "metadata": {},
   "outputs": [
    {
     "data": {
      "text/plain": [
       "5"
      ]
     },
     "execution_count": 24,
     "metadata": {},
     "output_type": "execute_result"
    }
   ],
   "source": [
    "w"
   ]
  },
  {
   "cell_type": "code",
   "execution_count": 49,
   "id": "4ffd20a1-e7d1-4b21-8316-0d4e6af1d1b7",
   "metadata": {},
   "outputs": [
    {
     "data": {
      "text/plain": [
       "0"
      ]
     },
     "execution_count": 49,
     "metadata": {},
     "output_type": "execute_result"
    }
   ],
   "source": [
    "check(500000000000000000 ) "
   ]
  },
  {
   "cell_type": "code",
   "execution_count": 52,
   "id": "63b0dd8b-deef-4110-b4e8-059158f1ff43",
   "metadata": {},
   "outputs": [
    {
     "data": {
      "text/plain": [
       "(Decimal('50000000001414213462.37309505'),\n",
       " Decimal('50000000001414213562.37309505'),\n",
       " Decimal('50000000001414213662.37309505'))"
      ]
     },
     "execution_count": 52,
     "metadata": {},
     "output_type": "execute_result"
    }
   ],
   "source": [
    "calcVal(500000000000000000 - 1), calcVal(500000000000000000), calcVal(500000000000000000 + 1)"
   ]
  },
  {
   "cell_type": "code",
   "execution_count": null,
   "id": "9e04507f-1196-4e72-acf9-b1ca889c0193",
   "metadata": {},
   "outputs": [],
   "source": [
    "def my_bisect(n):\n",
    "    l = s\n",
    "    r = e\n",
    "    while l + 1 < r:\n",
    "        m = (r + l) // 2\n",
    "        if m * (m+1) // 2 <= n:\n",
    "            r = m\n",
    "        else:\n",
    "            l = m\n",
    "    return r"
   ]
  }
 ],
 "metadata": {
  "kernelspec": {
   "display_name": "Python 3",
   "language": "python",
   "name": "python3"
  },
  "language_info": {
   "codemirror_mode": {
    "name": "ipython",
    "version": 3
   },
   "file_extension": ".py",
   "mimetype": "text/x-python",
   "name": "python",
   "nbconvert_exporter": "python",
   "pygments_lexer": "ipython3",
   "version": "3.6.13"
  }
 },
 "nbformat": 4,
 "nbformat_minor": 5
}
