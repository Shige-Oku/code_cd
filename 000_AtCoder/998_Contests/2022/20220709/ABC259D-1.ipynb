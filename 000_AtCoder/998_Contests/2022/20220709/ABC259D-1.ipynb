{
 "cells": [
  {
   "cell_type": "code",
   "execution_count": 1,
   "id": "3d08107f-015a-40e7-af75-4325b1582dcd",
   "metadata": {},
   "outputs": [],
   "source": [
    "import sys\n",
    "import numpy as np\n",
    "import math\n",
    "import collections\n",
    "import copy\n",
    "import decimal\n",
    "import itertools\n",
    "import re\n",
    "import bisect\n",
    "import scipy\n",
    "import heapq\n",
    "from collections import deque \n",
    "from functools import reduce\n",
    "from itertools import product\n",
    "from itertools import combinations\n",
    "from functools import lru_cache\n",
    "from scipy.special import comb\n",
    "from numba import njit\n",
    "from bisect import bisect_right\n",
    "from bisect import bisect_left"
   ]
  },
  {
   "cell_type": "code",
   "execution_count": 1,
   "id": "aaad82b1-9db0-43af-b462-7de1df76b959",
   "metadata": {},
   "outputs": [
    {
     "name": "stdin",
     "output_type": "stream",
     "text": [
      " 4\n"
     ]
    }
   ],
   "source": [
    "N = int(input())"
   ]
  },
  {
   "cell_type": "code",
   "execution_count": 2,
   "id": "aeca9310-7f04-43a5-a2ec-9896f56ee533",
   "metadata": {},
   "outputs": [
    {
     "name": "stdin",
     "output_type": "stream",
     "text": [
      " 0 -2 3 3\n"
     ]
    }
   ],
   "source": [
    "sx, sy, tx, ty = map(int, input().split())"
   ]
  },
  {
   "cell_type": "code",
   "execution_count": 3,
   "id": "d4e7489f-7e02-4e11-b986-e32893494a0d",
   "metadata": {},
   "outputs": [
    {
     "name": "stdin",
     "output_type": "stream",
     "text": [
      " 0 0 2\n",
      " 2 0 2\n",
      " 2 3 1\n",
      " -3 3 3\n"
     ]
    }
   ],
   "source": [
    "XYRn = [list(map(int, input().split())) for _ in range(N)]"
   ]
  },
  {
   "cell_type": "code",
   "execution_count": 6,
   "id": "98a64380-ad9d-4ce0-ab3d-b09d7b7017e4",
   "metadata": {},
   "outputs": [],
   "source": [
    "from collections import defaultdict\n",
    "import sys\n",
    "class UnionFind():\n",
    "    # イニシャライザ\n",
    "    def __init__(self, n):\n",
    "        self.n = n  # 頂点の数\n",
    "        self.parents = [-1] * n  # 親の頂点。根は -1\n",
    "        self.size = [1] * n  # 各頂点の所属する木の頂点数\n",
    "        sys.setrecursionlimit(10**7)\n",
    "        \n",
    "    # 根を返す\n",
    "    def root(self, x):\n",
    "        if self.parents[x] < 0: # 根なのでそのまま返す\n",
    "            return x\n",
    "        else:\n",
    "            self.parents[x] = self.root(self.parents[x])  # 経路圧縮\n",
    "            return self.parents[x]\n",
    "        \n",
    "    # x, y が同じ木に属するか\n",
    "    def issame(self, x, y):\n",
    "        return self.root(x) == self.root(y)\n",
    "    \n",
    "    # x y を併合する    \n",
    "    def unite(self, x, y):\n",
    "        x = self.root(x)\n",
    "        y = self.root(y)\n",
    "        \n",
    "        # 元々同じ木に所属するので、何もせずリターン\n",
    "        if x == y:\n",
    "            return False\n",
    "        \n",
    "        # 大きいほうにまとめる。 y を x にまとめるようにスワップ\n",
    "        if self.parents[x] < self.parents[y]:\n",
    "            x, y = y, x\n",
    "        # 小さいほうの親を大きいほうを親に\n",
    "        self.parents[y] = x\n",
    "        # 大きいほうの頂点に小さいほうの数を加算\n",
    "        self.size[x] += self.size[y]\n",
    "        return True\n",
    "    \n",
    "    # x の所属する頂点数を返す\n",
    "    def getsize(self, x):\n",
    "        return self.size[self.root(x)]\n",
    "\n",
    "    # x の所属する頂点の一覧を返す\n",
    "    def getmembers(self, x):\n",
    "        root = self.root(x)\n",
    "        return [i for i in range(self.n) if self.root(i) == root]    "
   ]
  },
  {
   "cell_type": "code",
   "execution_count": 7,
   "id": "8fa63fbe-60ff-48e0-94c5-72d6f4d467b6",
   "metadata": {},
   "outputs": [],
   "source": [
    "sc, ec = [], []\n",
    "for i in range(N):\n",
    "    x1, y1, r1 = XYRn[i]\n",
    "    if (sx-x1)**2 + (sy-y1)**2 == r1**2:\n",
    "        sc.append(i)\n",
    "    if (tx-x1)**2 + (ty-y1)**2 == r1**2:\n",
    "        ec.append(i)\n"
   ]
  },
  {
   "cell_type": "code",
   "execution_count": 13,
   "id": "f8c691b1-7a2e-4819-8367-47446e760d5f",
   "metadata": {},
   "outputs": [],
   "source": [
    "def myCheck(x1, y1, r1, x2, y2, r2):\n",
    "    if (x1-x2)**2 + (y1-y2)**2 < (r1-r2)**2:\n",
    "        return False\n",
    "    if (x1-x2)**2 + (y1-y2)**2 > (r1+r2)**2:\n",
    "        return False\n",
    "    return True"
   ]
  },
  {
   "cell_type": "code",
   "execution_count": 20,
   "id": "0e16d195-755e-4500-b1d2-3cf300745b69",
   "metadata": {},
   "outputs": [],
   "source": [
    "uf = UnionFind(N)\n",
    "for i in range(N-1):\n",
    "    x1, y1, r1 = XYRn[i]\n",
    "    for j in range(i+1, N):\n",
    "        if uf.issame(i, j):\n",
    "            continue\n",
    "        x2, y2, r2 = XYRn[j]\n",
    "        if myCheck(x1, y1, r1, x2, y2, r2):\n",
    "            uf.unite(i, j)"
   ]
  },
  {
   "cell_type": "code",
   "execution_count": 19,
   "id": "5a69e542-7305-40b0-b660-0857a5c43be8",
   "metadata": {},
   "outputs": [
    {
     "name": "stdout",
     "output_type": "stream",
     "text": [
      "Yes\n"
     ]
    }
   ],
   "source": [
    "ok = False\n",
    "for s in sc:\n",
    "    for e in ec:\n",
    "        if uf.issame(s, e):\n",
    "            ok = True\n",
    "            break\n",
    "    if ok:\n",
    "        break\n",
    "if ok:\n",
    "    print('Yes')\n",
    "else:\n",
    "    print('No')"
   ]
  },
  {
   "cell_type": "code",
   "execution_count": 15,
   "id": "d17c7199-b406-4f33-a416-a77e9a79d79c",
   "metadata": {},
   "outputs": [
    {
     "data": {
      "text/plain": [
       "([0], [2])"
      ]
     },
     "execution_count": 15,
     "metadata": {},
     "output_type": "execute_result"
    }
   ],
   "source": [
    "sc, ec"
   ]
  },
  {
   "cell_type": "code",
   "execution_count": 16,
   "id": "e7636170-d464-44b7-9bb7-c4c75f900499",
   "metadata": {},
   "outputs": [
    {
     "data": {
      "text/plain": [
       "(4, [0, 1, 2, 3])"
      ]
     },
     "execution_count": 16,
     "metadata": {},
     "output_type": "execute_result"
    }
   ],
   "source": [
    "uf.getsize(0), uf.getmembers(0)"
   ]
  },
  {
   "cell_type": "code",
   "execution_count": 21,
   "id": "45493787-0b60-459e-a5c6-5fe89b585059",
   "metadata": {},
   "outputs": [],
   "source": [
    "uf = UnionFind(N)\n",
    "for i in range(N-1):\n",
    "    x1, y1, r1 = XYRn[i]\n",
    "    for j in range(i+1, N):\n",
    "        x2, y2, r2 = XYRn[j]\n",
    "        if myCheck(x1, y1, r1, x2, y2, r2):\n",
    "            uf.unite(i, j)"
   ]
  },
  {
   "cell_type": "code",
   "execution_count": 22,
   "id": "504dae73-c544-4b35-a62e-8deb4042dcca",
   "metadata": {},
   "outputs": [
    {
     "name": "stdout",
     "output_type": "stream",
     "text": [
      "Yes\n"
     ]
    }
   ],
   "source": [
    "ok = False\n",
    "for s in sc:\n",
    "    for e in ec:\n",
    "        if uf.issame(s, e):\n",
    "            ok = True\n",
    "if ok:\n",
    "    print('Yes')\n",
    "else:\n",
    "    print('No')"
   ]
  },
  {
   "cell_type": "code",
   "execution_count": null,
   "id": "e2edccf0-83f3-4e70-8bee-b0149bc5fbbc",
   "metadata": {},
   "outputs": [],
   "source": []
  }
 ],
 "metadata": {
  "kernelspec": {
   "display_name": "Python 3",
   "language": "python",
   "name": "python3"
  },
  "language_info": {
   "codemirror_mode": {
    "name": "ipython",
    "version": 3
   },
   "file_extension": ".py",
   "mimetype": "text/x-python",
   "name": "python",
   "nbconvert_exporter": "python",
   "pygments_lexer": "ipython3",
   "version": "3.6.13"
  }
 },
 "nbformat": 4,
 "nbformat_minor": 5
}
