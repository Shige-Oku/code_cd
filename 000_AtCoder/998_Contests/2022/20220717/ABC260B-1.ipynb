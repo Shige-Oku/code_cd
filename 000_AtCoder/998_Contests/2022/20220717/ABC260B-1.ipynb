{
 "cells": [
  {
   "cell_type": "code",
   "execution_count": 1,
   "id": "d239a79e-7abb-476a-aaf3-7a3f05df798b",
   "metadata": {},
   "outputs": [],
   "source": [
    "import sys\n",
    "import numpy as np\n",
    "import math\n",
    "import collections\n",
    "import copy\n",
    "import decimal\n",
    "import itertools\n",
    "import re\n",
    "import bisect\n",
    "import scipy\n",
    "import heapq\n",
    "from collections import deque \n",
    "from functools import reduce\n",
    "from itertools import product\n",
    "from itertools import combinations\n",
    "from functools import lru_cache\n",
    "from scipy.special import comb\n",
    "from numba import njit\n",
    "from bisect import bisect_right\n",
    "from bisect import bisect_left"
   ]
  },
  {
   "cell_type": "code",
   "execution_count": 2,
   "id": "c6b778a1-6160-4c14-8a40-584aaf576377",
   "metadata": {},
   "outputs": [
    {
     "name": "stdin",
     "output_type": "stream",
     "text": [
      " 6 1 0 2\n"
     ]
    }
   ],
   "source": [
    "N, X, Y, Z = map(int, input().split())"
   ]
  },
  {
   "cell_type": "code",
   "execution_count": 5,
   "id": "b7b11892-fe73-4ec5-970c-3a65feb925ed",
   "metadata": {},
   "outputs": [
    {
     "name": "stdin",
     "output_type": "stream",
     "text": [
      " 80 60 80 60 70 70\n"
     ]
    }
   ],
   "source": [
    "An = list(map(int, input().split()))"
   ]
  },
  {
   "cell_type": "code",
   "execution_count": 4,
   "id": "81e5ddb7-7ff4-4ce7-8a3c-b28a54571928",
   "metadata": {},
   "outputs": [
    {
     "name": "stdin",
     "output_type": "stream",
     "text": [
      " 40 20 50 90 90 80\n"
     ]
    }
   ],
   "source": [
    "Bn = list(map(int, input().split()))"
   ]
  },
  {
   "cell_type": "code",
   "execution_count": 18,
   "id": "9482b97e-8f31-4473-9813-127f657a3344",
   "metadata": {},
   "outputs": [],
   "source": [
    "An1 = []\n",
    "Bn1 = []\n",
    "Tn1 = []\n",
    "for i, (A, B) in enumerate(zip(An, Bn), 1):\n",
    "    An1.append((A, i))\n",
    "    Bn1.append((B, i))\n",
    "    Tn1.append((A+B, i))"
   ]
  },
  {
   "cell_type": "code",
   "execution_count": 19,
   "id": "16bb6858-8c95-4b69-9b92-0377bdb11570",
   "metadata": {},
   "outputs": [],
   "source": [
    "An_s = sorted(An1, reverse=True, key=lambda x:(x[0], -x[1]))\n",
    "Bn_s = sorted(Bn1, reverse=True, key=lambda x:(x[0], -x[1]))\n",
    "Tn_s = sorted(Tn1, reverse=True, key=lambda x:(x[0], -x[1]))"
   ]
  },
  {
   "cell_type": "code",
   "execution_count": 20,
   "id": "0e98b4c8-5c47-4ea5-b861-20eed677b02d",
   "metadata": {},
   "outputs": [],
   "source": [
    "ans = set()\n",
    "for i in range(X):\n",
    "    ans.add(An_s[i][1])\n",
    "cnt = 0\n",
    "for i in range(N):\n",
    "    if cnt >= Y:\n",
    "        break\n",
    "    p, n = Bn_s[i]\n",
    "    if n in ans:\n",
    "        continue\n",
    "    ans.add(n)\n",
    "    cnt += 1\n",
    "cnt = 0\n",
    "for i in range(N):\n",
    "    if cnt >= Z:\n",
    "        break\n",
    "    p, n = Tn_s[i]\n",
    "    if n in ans:\n",
    "        continue\n",
    "    ans.add(n)\n",
    "    cnt += 1    "
   ]
  },
  {
   "cell_type": "code",
   "execution_count": 25,
   "id": "5d2720e0-ccf0-48dd-9ffa-291f949fbaff",
   "metadata": {},
   "outputs": [
    {
     "name": "stdout",
     "output_type": "stream",
     "text": [
      "1\n",
      "4\n",
      "5\n"
     ]
    }
   ],
   "source": [
    "ans = sorted(ans)\n",
    "print(*ans, sep='\\n')"
   ]
  },
  {
   "cell_type": "code",
   "execution_count": 21,
   "id": "03e863b4-bca4-415a-84c6-210dff6c6855",
   "metadata": {},
   "outputs": [
    {
     "data": {
      "text/plain": [
       "([(80, 1), (80, 3), (70, 5), (70, 6), (60, 2), (60, 4)],\n",
       " [(90, 4), (90, 5), (80, 6), (50, 3), (40, 1), (20, 2)],\n",
       " [(160, 5), (150, 4), (150, 6), (130, 3), (120, 1), (80, 2)])"
      ]
     },
     "execution_count": 21,
     "metadata": {},
     "output_type": "execute_result"
    }
   ],
   "source": [
    "An_s, Bn_s, Tn_s"
   ]
  },
  {
   "cell_type": "code",
   "execution_count": 22,
   "id": "e2560ce3-d2da-4c41-9125-e38923d1b3ab",
   "metadata": {},
   "outputs": [
    {
     "data": {
      "text/plain": [
       "{1, 4, 5}"
      ]
     },
     "execution_count": 22,
     "metadata": {},
     "output_type": "execute_result"
    }
   ],
   "source": [
    "ans"
   ]
  },
  {
   "cell_type": "code",
   "execution_count": null,
   "id": "8f006d18-174d-4d57-8377-ce2eb9a20d19",
   "metadata": {},
   "outputs": [],
   "source": []
  }
 ],
 "metadata": {
  "kernelspec": {
   "display_name": "Python 3",
   "language": "python",
   "name": "python3"
  },
  "language_info": {
   "codemirror_mode": {
    "name": "ipython",
    "version": 3
   },
   "file_extension": ".py",
   "mimetype": "text/x-python",
   "name": "python",
   "nbconvert_exporter": "python",
   "pygments_lexer": "ipython3",
   "version": "3.6.13"
  }
 },
 "nbformat": 4,
 "nbformat_minor": 5
}
