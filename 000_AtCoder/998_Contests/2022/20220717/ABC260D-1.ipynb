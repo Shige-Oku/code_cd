{
 "cells": [
  {
   "cell_type": "code",
   "execution_count": null,
   "id": "9bb01928-58ce-4cf5-ae78-bfda9eba7d1e",
   "metadata": {},
   "outputs": [],
   "source": [
    "# 解説を読んで実装"
   ]
  },
  {
   "cell_type": "code",
   "execution_count": 26,
   "id": "2a3322aa-10c8-4032-afeb-ad28b57669a8",
   "metadata": {},
   "outputs": [],
   "source": [
    "import sys\n",
    "import numpy as np\n",
    "import math\n",
    "import collections\n",
    "import copy\n",
    "import decimal\n",
    "import itertools\n",
    "import re\n",
    "import bisect\n",
    "import scipy\n",
    "import heapq\n",
    "from collections import deque \n",
    "from functools import reduce\n",
    "from itertools import product\n",
    "from itertools import combinations\n",
    "from functools import lru_cache\n",
    "from scipy.special import comb\n",
    "from numba import njit\n",
    "from bisect import bisect_right\n",
    "from bisect import bisect_left\n",
    "from collections import deque \n",
    "from collections import defaultdict"
   ]
  },
  {
   "cell_type": "code",
   "execution_count": 35,
   "id": "eb62e5c5-216b-47c9-ad87-797cbfd33d71",
   "metadata": {},
   "outputs": [
    {
     "name": "stdin",
     "output_type": "stream",
     "text": [
      " 5 2\n"
     ]
    }
   ],
   "source": [
    "N, K = map(int, input().split())"
   ]
  },
  {
   "cell_type": "code",
   "execution_count": 34,
   "id": "c42c9ac0-3c18-457a-8ce4-142e134a8025",
   "metadata": {},
   "outputs": [
    {
     "name": "stdin",
     "output_type": "stream",
     "text": [
      " 3 5 2 1 4\n"
     ]
    }
   ],
   "source": [
    "Pn = list(map(int, input().split()))"
   ]
  },
  {
   "cell_type": "code",
   "execution_count": 54,
   "id": "d893d254-eb56-487a-825a-5350ac3a0f4b",
   "metadata": {},
   "outputs": [],
   "source": [
    "ans = [-1] * N\n",
    "card = []\n",
    "top = []\n",
    "for i, P in enumerate(Pn, 1):\n",
    "    P -= 1\n",
    "    pos = bisect_left(top, P)\n",
    "    if pos == len(top):\n",
    "        top.append(P)\n",
    "        card.append([P, ])\n",
    "    else:\n",
    "        top[pos] = P\n",
    "        card[pos].append(P)\n",
    "    if len(card[pos]) >= K:\n",
    "        for d in card[pos]:\n",
    "            ans[d] = i\n",
    "        del top[pos]\n",
    "        del card[pos]\n"
   ]
  },
  {
   "cell_type": "code",
   "execution_count": 55,
   "id": "9225c0e9-ef7a-449f-a67e-2eca05cb90ee",
   "metadata": {},
   "outputs": [
    {
     "name": "stdout",
     "output_type": "stream",
     "text": [
      "4\n",
      "3\n",
      "3\n",
      "-1\n",
      "4\n"
     ]
    }
   ],
   "source": [
    "print(*ans, sep='\\n')"
   ]
  },
  {
   "cell_type": "code",
   "execution_count": 44,
   "id": "5b83117d-1f30-4438-a32e-265497c233c5",
   "metadata": {},
   "outputs": [
    {
     "data": {
      "text/plain": [
       "(deque([]), 3, 0, 5, {0: [2, 1, 0, 3], 1: [4]})"
      ]
     },
     "execution_count": 44,
     "metadata": {},
     "output_type": "execute_result"
    }
   ],
   "source": [
    "top, P, pos, i, card"
   ]
  },
  {
   "cell_type": "code",
   "execution_count": 53,
   "id": "04d54ba0-336c-4185-b2d3-a74f7486860c",
   "metadata": {},
   "outputs": [
    {
     "ename": "TypeError",
     "evalue": "'key' is an invalid keyword argument for this function",
     "output_type": "error",
     "traceback": [
      "\u001b[1;31m---------------------------------------------------------------------------\u001b[0m",
      "\u001b[1;31mTypeError\u001b[0m                                 Traceback (most recent call last)",
      "\u001b[1;32m<ipython-input-53-7ef80b29df65>\u001b[0m in \u001b[0;36m<module>\u001b[1;34m\u001b[0m\n\u001b[0;32m      4\u001b[0m \u001b[1;32mfor\u001b[0m \u001b[0mi\u001b[0m\u001b[1;33m,\u001b[0m \u001b[0mP\u001b[0m \u001b[1;32min\u001b[0m \u001b[0menumerate\u001b[0m\u001b[1;33m(\u001b[0m\u001b[0mPn\u001b[0m\u001b[1;33m,\u001b[0m \u001b[1;36m1\u001b[0m\u001b[1;33m)\u001b[0m\u001b[1;33m:\u001b[0m\u001b[1;33m\u001b[0m\u001b[1;33m\u001b[0m\u001b[0m\n\u001b[0;32m      5\u001b[0m     \u001b[0mP\u001b[0m \u001b[1;33m-=\u001b[0m \u001b[1;36m1\u001b[0m\u001b[1;33m\u001b[0m\u001b[1;33m\u001b[0m\u001b[0m\n\u001b[1;32m----> 6\u001b[1;33m     \u001b[0mpos\u001b[0m \u001b[1;33m=\u001b[0m \u001b[0mbisect_left\u001b[0m\u001b[1;33m(\u001b[0m\u001b[0mtop\u001b[0m\u001b[1;33m,\u001b[0m \u001b[0mP\u001b[0m\u001b[1;33m,\u001b[0m \u001b[0mkey\u001b[0m\u001b[1;33m=\u001b[0m\u001b[1;32mlambda\u001b[0m \u001b[0mx\u001b[0m\u001b[1;33m:\u001b[0m\u001b[0mx\u001b[0m\u001b[1;33m[\u001b[0m\u001b[1;36m0\u001b[0m\u001b[1;33m]\u001b[0m\u001b[1;33m)\u001b[0m\u001b[1;33m\u001b[0m\u001b[1;33m\u001b[0m\u001b[0m\n\u001b[0m\u001b[0;32m      7\u001b[0m     \u001b[1;32mif\u001b[0m \u001b[0mpos\u001b[0m \u001b[1;33m==\u001b[0m \u001b[0mlen\u001b[0m\u001b[1;33m(\u001b[0m\u001b[0mtop\u001b[0m\u001b[1;33m)\u001b[0m\u001b[1;33m:\u001b[0m\u001b[1;33m\u001b[0m\u001b[1;33m\u001b[0m\u001b[0m\n\u001b[0;32m      8\u001b[0m         \u001b[0mtop\u001b[0m\u001b[1;33m.\u001b[0m\u001b[0mappend\u001b[0m\u001b[1;33m(\u001b[0m\u001b[1;33m(\u001b[0m\u001b[0mP\u001b[0m\u001b[1;33m,\u001b[0m \u001b[0mset\u001b[0m\u001b[1;33m(\u001b[0m\u001b[1;33m)\u001b[0m\u001b[1;33m)\u001b[0m\u001b[1;33m)\u001b[0m\u001b[1;33m\u001b[0m\u001b[1;33m\u001b[0m\u001b[0m\n",
      "\u001b[1;31mTypeError\u001b[0m: 'key' is an invalid keyword argument for this function"
     ]
    }
   ],
   "source": [
    "ans = [-1] * N\n",
    "# card = {}\n",
    "top = deque()\n",
    "for i, P in enumerate(Pn, 1):\n",
    "    P -= 1\n",
    "    pos = bisect_left(top, P, key=lambda x:x[0])\n",
    "    if pos == len(top):\n",
    "        top.append((P, set()))\n",
    "    else:\n",
    "        top[pos][0] = P\n",
    "    top[pos][1].add(P)\n",
    "    if len(top[pos][1]) >= K:\n",
    "        for d in top[pos][1]:\n",
    "            ans[d] = i\n",
    "        del top[pos]\n",
    "    print(i, P, pos)\n",
    "    print(top)\n",
    "    print(ans)\n",
    "#         del card.pop(pos)\n",
    "#         card.append([])"
   ]
  },
  {
   "cell_type": "code",
   "execution_count": 24,
   "id": "86f8d14a-b9ff-49c5-a924-936b4d8c4cc1",
   "metadata": {},
   "outputs": [],
   "source": [
    "ans = [-1] * N\n",
    "card = [set() for _ in range(N)]\n",
    "top = []\n",
    "for i, P in enumerate(Pn, 1):\n",
    "    P -= 1\n",
    "    pos = bisect_left(top, P)\n",
    "    if pos == len(top):\n",
    "        top.append(P)\n",
    "    else:\n",
    "        top[pos] = P\n",
    "    card[pos].add(P)\n",
    "    if len(card[pos]) >= K:\n",
    "        for d in card[pos]:\n",
    "            ans[d] = i\n",
    "        del top[pos]\n",
    "        card.pop(pos)\n",
    "        card.append([])"
   ]
  },
  {
   "cell_type": "code",
   "execution_count": null,
   "id": "aefa6399-d9c5-4e72-bdfd-6865764fd113",
   "metadata": {},
   "outputs": [],
   "source": []
  }
 ],
 "metadata": {
  "kernelspec": {
   "display_name": "Python 3",
   "language": "python",
   "name": "python3"
  },
  "language_info": {
   "codemirror_mode": {
    "name": "ipython",
    "version": 3
   },
   "file_extension": ".py",
   "mimetype": "text/x-python",
   "name": "python",
   "nbconvert_exporter": "python",
   "pygments_lexer": "ipython3",
   "version": "3.6.13"
  }
 },
 "nbformat": 4,
 "nbformat_minor": 5
}
