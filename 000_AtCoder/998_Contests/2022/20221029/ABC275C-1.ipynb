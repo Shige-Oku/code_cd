{
 "cells": [
  {
   "cell_type": "code",
   "execution_count": 1,
   "id": "2057b238-da93-4af9-9be6-4aaa1dcd4ca7",
   "metadata": {},
   "outputs": [],
   "source": [
    "import sys\n",
    "import numpy as np\n",
    "import math\n",
    "import collections\n",
    "import copy\n",
    "import decimal\n",
    "import itertools\n",
    "import re\n",
    "import bisect\n",
    "import scipy\n",
    "import heapq\n",
    "from collections import deque \n",
    "from functools import reduce\n",
    "from itertools import product\n",
    "from itertools import combinations\n",
    "from functools import lru_cache\n",
    "from scipy.special import comb\n",
    "from numba import njit\n",
    "from bisect import bisect_right\n",
    "from bisect import bisect_left"
   ]
  },
  {
   "cell_type": "code",
   "execution_count": 2,
   "id": "566627d6-c228-48e5-a277-c6f509877926",
   "metadata": {},
   "outputs": [
    {
     "name": "stdin",
     "output_type": "stream",
     "text": [
      " ##.......\n",
      " ##.......\n",
      " .........\n",
      " .......#.\n",
      " .....#...\n",
      " ........#\n",
      " ......#..\n",
      " .........\n",
      " .........\n"
     ]
    }
   ],
   "source": [
    "Sn = [input() for _ in range(9)]"
   ]
  },
  {
   "cell_type": "code",
   "execution_count": 80,
   "id": "12cd5127-0256-4e27-b808-f049d450db72",
   "metadata": {},
   "outputs": [],
   "source": [
    "ans = set()\n",
    "for i in range(1, 10):\n",
    "    for h in range(9):\n",
    "        if h + i >= 9:\n",
    "            continue\n",
    "        for c in range(9):\n",
    "            if c + i >= 9:\n",
    "                continue\n",
    "            if Sn[h][c] == Sn[h][c+i] == Sn[h+i][c] == Sn[h+i][c+i] == '#':\n",
    "                ans.add(((h, c), (h, c+i), (h+i, c), (h+i, c+i)))\n",
    "            "
   ]
  },
  {
   "cell_type": "code",
   "execution_count": 83,
   "id": "f6b5b87a-84e6-47af-8182-ffe4a58733fa",
   "metadata": {},
   "outputs": [],
   "source": [
    "for i in range(1, 5):\n",
    "    for j in range(1, 5):\n",
    "        for h in range(9):\n",
    "            if h + i + j >= 9:\n",
    "                continue\n",
    "            if h + i >= 9 or h + j >= 9:\n",
    "                continue\n",
    "            for c in range(9):\n",
    "                if c - j < 0 or c + i >= 9:\n",
    "                    continue\n",
    "                if c - (max(i, j) - min(i, j)) < 0:\n",
    "                    continue\n",
    "                if Sn[h][c] == Sn[h+i][c-j] == Sn[h+j][c+i] == Sn[h+i+j][c-(max(i, j)-min(i, j))] == '#':\n",
    "                    ans.add(((h, c), (h+i, c-j), (h+j, c+i), (h+i+j, c-(max(i, j)-min(i, j)))))\n",
    "#                 if i ==1 and j == 2 and  h ==3 and c == 7:\n",
    "#                     print(Sn[h][c], Sn[h+i][c-j], Sn[h+j][c+i], Sn[h+i+j][c-(max(i, j)-min(i, j))])\n",
    "    "
   ]
  },
  {
   "cell_type": "code",
   "execution_count": 84,
   "id": "b8430d1b-ce5e-4ef1-b90a-46679af96d6e",
   "metadata": {},
   "outputs": [
    {
     "name": "stdout",
     "output_type": "stream",
     "text": [
      "2\n"
     ]
    }
   ],
   "source": [
    "print(len(ans))"
   ]
  },
  {
   "cell_type": "code",
   "execution_count": 73,
   "id": "68c8e2d5-23f8-42e3-896e-3a7d0e916caa",
   "metadata": {},
   "outputs": [],
   "source": [
    "ans = 0\n",
    "for i in range(1, 10):\n",
    "    for h in range(9):\n",
    "        if h + i >= 9:\n",
    "            continue\n",
    "        for c in range(9):\n",
    "            if c + i >= 9:\n",
    "                continue\n",
    "            if Sn[h][c] == Sn[h][c+i] == Sn[h+i][c] == Sn[h+i][c+i] == '#':\n",
    "                ans += 1\n",
    "            "
   ]
  },
  {
   "cell_type": "code",
   "execution_count": 77,
   "id": "56ae29dd-978b-4b27-96da-44cb733e65f9",
   "metadata": {},
   "outputs": [
    {
     "name": "stdout",
     "output_type": "stream",
     "text": [
      "# # # #\n"
     ]
    }
   ],
   "source": [
    "for i in range(1, 5):\n",
    "    for j in range(1, 5):\n",
    "        for h in range(9):\n",
    "            if h + i + j >= 9:\n",
    "                continue\n",
    "            if h + i >= 9 or h + j >= 9:\n",
    "                continue\n",
    "            for c in range(9):\n",
    "                if c - j < 0 or c + i >= 9:\n",
    "                    continue\n",
    "                if c - (max(i, j) - min(i, j)) < 0:\n",
    "                    continue\n",
    "                if Sn[h][c] == Sn[h+i][c-j] == Sn[h+j][c+i] == Sn[h+i+j][c-(max(i, j)-min(i, j))] == '#':\n",
    "                    ans += 1\n",
    "#                 if i ==1 and j == 2 and  h ==3 and c == 7:\n",
    "#                     print(Sn[h][c], Sn[h+i][c-j], Sn[h+j][c+i], Sn[h+i+j][c-(max(i, j)-min(i, j))])\n",
    "    "
   ]
  },
  {
   "cell_type": "code",
   "execution_count": 78,
   "id": "4d8f35f7-b4f4-4396-be19-06bc2d778002",
   "metadata": {},
   "outputs": [
    {
     "name": "stdout",
     "output_type": "stream",
     "text": [
      "2\n"
     ]
    }
   ],
   "source": [
    "print(ans)"
   ]
  },
  {
   "cell_type": "code",
   "execution_count": 39,
   "id": "f066bff5-7d22-4634-b683-385489b3a02d",
   "metadata": {},
   "outputs": [
    {
     "data": {
      "text/plain": [
       "(1, 3, 0, 7)"
      ]
     },
     "execution_count": 39,
     "metadata": {},
     "output_type": "execute_result"
    }
   ],
   "source": [
    "i, j, h, c"
   ]
  },
  {
   "cell_type": "code",
   "execution_count": 41,
   "id": "67be9545-b412-4da7-b121-c297c9a876a6",
   "metadata": {},
   "outputs": [
    {
     "data": {
      "text/plain": [
       "'.'"
      ]
     },
     "execution_count": 41,
     "metadata": {},
     "output_type": "execute_result"
    }
   ],
   "source": [
    "Sn[h][c]"
   ]
  },
  {
   "cell_type": "code",
   "execution_count": 42,
   "id": "90820eaa-04c6-4301-9b93-a4c96c091d0a",
   "metadata": {},
   "outputs": [
    {
     "data": {
      "text/plain": [
       "'.'"
      ]
     },
     "execution_count": 42,
     "metadata": {},
     "output_type": "execute_result"
    }
   ],
   "source": [
    "Sn[h+i][c-i]"
   ]
  },
  {
   "cell_type": "code",
   "execution_count": 43,
   "id": "a23c312f-325c-4674-a637-b8b35c3fe439",
   "metadata": {},
   "outputs": [
    {
     "data": {
      "text/plain": [
       "'.'"
      ]
     },
     "execution_count": 43,
     "metadata": {},
     "output_type": "execute_result"
    }
   ],
   "source": [
    "Sn[h+j][c+i]"
   ]
  },
  {
   "cell_type": "code",
   "execution_count": 44,
   "id": "4631cbf7-f6b9-4a89-a930-950b24d09bce",
   "metadata": {},
   "outputs": [
    {
     "data": {
      "text/plain": [
       "'#'"
      ]
     },
     "execution_count": 44,
     "metadata": {},
     "output_type": "execute_result"
    }
   ],
   "source": [
    "Sn[h+i+j][c-(max(i, j)-min(i, j))]"
   ]
  },
  {
   "cell_type": "code",
   "execution_count": 13,
   "id": "6d33cb66-7a99-44ac-b056-efd6e8939ac5",
   "metadata": {},
   "outputs": [
    {
     "data": {
      "text/plain": [
       "(3, 8)"
      ]
     },
     "execution_count": 13,
     "metadata": {},
     "output_type": "execute_result"
    }
   ],
   "source": [
    "h+j, c+i"
   ]
  },
  {
   "cell_type": "code",
   "execution_count": 19,
   "id": "62de87b5-ac17-44af-a5f8-8ece6c3537b5",
   "metadata": {},
   "outputs": [
    {
     "data": {
      "text/plain": [
       "(3, 1)"
      ]
     },
     "execution_count": 19,
     "metadata": {},
     "output_type": "execute_result"
    }
   ],
   "source": [
    "max(i, j), min(i, j)"
   ]
  },
  {
   "cell_type": "code",
   "execution_count": 45,
   "id": "5a88d1ab-1065-45ae-9d67-42b17b2eca92",
   "metadata": {},
   "outputs": [
    {
     "data": {
      "text/plain": [
       "9"
      ]
     },
     "execution_count": 45,
     "metadata": {},
     "output_type": "execute_result"
    }
   ],
   "source": [
    "c+(max(i, j)-min(i, j))"
   ]
  },
  {
   "cell_type": "code",
   "execution_count": 76,
   "id": "2a99a718-ce94-46a7-a39e-57c7681edf34",
   "metadata": {},
   "outputs": [
    {
     "data": {
      "text/plain": [
       "['##.......',\n",
       " '##.......',\n",
       " '.........',\n",
       " '.......#.',\n",
       " '.....#...',\n",
       " '........#',\n",
       " '......#..',\n",
       " '.........',\n",
       " '.........']"
      ]
     },
     "execution_count": 76,
     "metadata": {},
     "output_type": "execute_result"
    }
   ],
   "source": [
    "Sn"
   ]
  },
  {
   "cell_type": "code",
   "execution_count": null,
   "id": "7653f0fa-8de5-48a6-a823-22c4e7c95ee0",
   "metadata": {},
   "outputs": [],
   "source": []
  }
 ],
 "metadata": {
  "kernelspec": {
   "display_name": "Python 3",
   "language": "python",
   "name": "python3"
  },
  "language_info": {
   "codemirror_mode": {
    "name": "ipython",
    "version": 3
   },
   "file_extension": ".py",
   "mimetype": "text/x-python",
   "name": "python",
   "nbconvert_exporter": "python",
   "pygments_lexer": "ipython3",
   "version": "3.6.13"
  }
 },
 "nbformat": 4,
 "nbformat_minor": 5
}
