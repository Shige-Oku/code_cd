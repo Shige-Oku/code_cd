{
 "cells": [
  {
   "cell_type": "code",
   "execution_count": 1,
   "id": "b18a02cc-e32f-4c79-a1e7-1c6e5fee94bf",
   "metadata": {},
   "outputs": [],
   "source": [
    "import sys\n",
    "import numpy as np\n",
    "import math\n",
    "import collections\n",
    "import copy\n",
    "import decimal\n",
    "import itertools\n",
    "import re\n",
    "import bisect\n",
    "import scipy\n",
    "import heapq\n",
    "from collections import deque \n",
    "from functools import reduce\n",
    "from itertools import product\n",
    "from itertools import combinations\n",
    "from functools import lru_cache\n",
    "from scipy.special import comb\n",
    "from numba import njit\n",
    "from bisect import bisect_right\n",
    "from bisect import bisect_left"
   ]
  },
  {
   "cell_type": "code",
   "execution_count": 10,
   "id": "92fa64b1-9406-4b08-8fcf-e5552823eddc",
   "metadata": {},
   "outputs": [
    {
     "name": "stdin",
     "output_type": "stream",
     "text": [
      " 4 5\n"
     ]
    }
   ],
   "source": [
    "R, C = map(int, input().split())"
   ]
  },
  {
   "cell_type": "code",
   "execution_count": 11,
   "id": "99d8a624-5f20-4a3a-9380-74e42fcbb62d",
   "metadata": {},
   "outputs": [
    {
     "name": "stdout",
     "output_type": "stream",
     "text": [
      "white\n"
     ]
    }
   ],
   "source": [
    "if R == 1 or R == 15:\n",
    "    print('black')\n",
    "elif R == 2 or R == 14:\n",
    "    if C == 1:\n",
    "        print('black')\n",
    "    else:\n",
    "        print('white')\n",
    "elif R == 3 or R == 13:\n",
    "    if 3 <= C <= 13:\n",
    "        print('black')\n",
    "    else:\n",
    "        if C % 2 == 1:\n",
    "            print('black')\n",
    "        else:\n",
    "            print('white')\n",
    "elif R == 4 or R == 12:\n",
    "    if 4 <= C <= 12:\n",
    "        print('white')\n",
    "    else:\n",
    "        if C % 2 == 1:\n",
    "            print('black')\n",
    "        else:\n",
    "            print('white')\n",
    "elif R == 5 or R == 11:\n",
    "    if 5 <= C <= 11:\n",
    "        print('black')\n",
    "    else:\n",
    "        if C % 2 == 1:\n",
    "            print('black')\n",
    "        else:\n",
    "            print('white')\n",
    "elif R == 6 or R == 10:\n",
    "    if 6 <= C <= 10:\n",
    "        print('white')\n",
    "    else:\n",
    "        if C % 2 == 1:\n",
    "            print('black')\n",
    "        else:\n",
    "            print('white')\n",
    "elif R == 7 or R == 9:\n",
    "    if 7 <= C <= 9:\n",
    "        print('black')\n",
    "    else:\n",
    "        if C % 2 == 1:\n",
    "            print('black')\n",
    "        else:\n",
    "            print('white')\n",
    "else:\n",
    "    if C % 2 == 1:\n",
    "        print('black')\n",
    "    else:\n",
    "        print('white')\n",
    "        "
   ]
  },
  {
   "cell_type": "code",
   "execution_count": null,
   "id": "f25cea85-bd00-4a87-9062-0de2073adeb9",
   "metadata": {},
   "outputs": [],
   "source": [
    "# WA"
   ]
  },
  {
   "cell_type": "code",
   "execution_count": 8,
   "id": "86a7512e-f8f1-40d5-beb7-2bf7bfe583b9",
   "metadata": {},
   "outputs": [
    {
     "name": "stdout",
     "output_type": "stream",
     "text": [
      "black\n"
     ]
    }
   ],
   "source": [
    "if C > R or C > 15 - R:\n",
    "    if R % 2 == 0:\n",
    "        if C % 2 == 0:\n",
    "            print('black')\n",
    "        else:\n",
    "            print('white')\n",
    "    else:\n",
    "        if C % 2 == 0:\n",
    "            print('white')\n",
    "        else:\n",
    "            print('black')\n",
    "else:\n",
    "    if R % 2 == 0:\n",
    "        print('black')\n",
    "    else:\n",
    "        print('white')\n",
    "    "
   ]
  },
  {
   "cell_type": "code",
   "execution_count": 12,
   "id": "2c3b836e-0ce5-4e43-a639-0e325d5256fb",
   "metadata": {},
   "outputs": [],
   "source": [
    "# 解説を読んで実装"
   ]
  },
  {
   "cell_type": "code",
   "execution_count": 13,
   "id": "9e03b992-d29b-49c5-a402-47f449fcadd9",
   "metadata": {},
   "outputs": [
    {
     "name": "stdout",
     "output_type": "stream",
     "text": [
      "white\n"
     ]
    }
   ],
   "source": [
    "print('black' if max(abs(R-8), abs(C-8)) % 2 == 1 else 'white')"
   ]
  },
  {
   "cell_type": "code",
   "execution_count": 14,
   "id": "8b5a3591-303f-4956-93b7-7479f9d5298c",
   "metadata": {},
   "outputs": [],
   "source": [
    "grid = [\n",
    "  \"###############\",\n",
    "  \"#.............#\",\n",
    "  \"#.###########.#\",\n",
    "  \"#.#.........#.#\",\n",
    "  \"#.#.#######.#.#\",\n",
    "  \"#.#.#.....#.#.#\",\n",
    "  \"#.#.#.###.#.#.#\",\n",
    "  \"#.#.#.#.#.#.#.#\",\n",
    "  \"#.#.#.###.#.#.#\",\n",
    "  \"#.#.#.....#.#.#\",\n",
    "  \"#.#.#######.#.#\",\n",
    "  \"#.#.........#.#\",\n",
    "  \"#.###########.#\",\n",
    "  \"#.............#\",\n",
    "  \"###############\"    \n",
    "]"
   ]
  },
  {
   "cell_type": "code",
   "execution_count": 16,
   "id": "ba66180b-e7c8-4d7c-9fb4-7b3e5c94bebc",
   "metadata": {},
   "outputs": [
    {
     "name": "stdout",
     "output_type": "stream",
     "text": [
      "white\n"
     ]
    }
   ],
   "source": [
    "print('black' if grid[R-1][C-1] =='#' else 'white')"
   ]
  },
  {
   "cell_type": "code",
   "execution_count": null,
   "id": "b6f7f8f6-20bf-4e99-86d8-4e8fa5585b5b",
   "metadata": {},
   "outputs": [],
   "source": []
  }
 ],
 "metadata": {
  "kernelspec": {
   "display_name": "Python 3",
   "language": "python",
   "name": "python3"
  },
  "language_info": {
   "codemirror_mode": {
    "name": "ipython",
    "version": 3
   },
   "file_extension": ".py",
   "mimetype": "text/x-python",
   "name": "python",
   "nbconvert_exporter": "python",
   "pygments_lexer": "ipython3",
   "version": "3.6.13"
  }
 },
 "nbformat": 4,
 "nbformat_minor": 5
}
