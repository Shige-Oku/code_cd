{
 "cells": [
  {
   "cell_type": "code",
   "execution_count": 1,
   "id": "744f258e-28cb-42c0-a3c3-4f95ec05ab42",
   "metadata": {},
   "outputs": [],
   "source": [
    "import sys\n",
    "import numpy as np\n",
    "import math\n",
    "import collections\n",
    "import copy\n",
    "import decimal\n",
    "import itertools\n",
    "import re\n",
    "import bisect\n",
    "import scipy\n",
    "import heapq\n",
    "from collections import deque \n",
    "from functools import reduce\n",
    "from itertools import product\n",
    "from itertools import combinations\n",
    "from functools import lru_cache\n",
    "from scipy.special import comb\n",
    "from numba import njit\n",
    "from bisect import bisect_right\n",
    "from bisect import bisect_left"
   ]
  },
  {
   "cell_type": "code",
   "execution_count": 17,
   "id": "beccfd3c-91a0-4ba9-8eda-8cb4e9dbe1fa",
   "metadata": {},
   "outputs": [
    {
     "name": "stdin",
     "output_type": "stream",
     "text": [
      " redocta\n"
     ]
    }
   ],
   "source": [
    "S = input()"
   ]
  },
  {
   "cell_type": "code",
   "execution_count": 18,
   "id": "7d9efb9c-0074-4823-8155-503e3718be14",
   "metadata": {},
   "outputs": [],
   "source": [
    "atcoder = 'atcoder'\n",
    "ans = 0\n",
    "m = 0\n",
    "sl = list(S)\n",
    "while True:\n",
    "    if atcoder == ''.join(sl):\n",
    "        break\n",
    "    p = sl.index(atcoder[m])\n",
    "    for i in range(p, m, -1):\n",
    "        sl[i-1], sl[i] = sl[i], sl[i-1]\n",
    "        ans += 1\n",
    "    m += 1\n"
   ]
  },
  {
   "cell_type": "code",
   "execution_count": 19,
   "id": "80be58d4-9e24-465a-aba7-bf1460690cf6",
   "metadata": {},
   "outputs": [
    {
     "name": "stdout",
     "output_type": "stream",
     "text": [
      "21\n"
     ]
    }
   ],
   "source": [
    "print(ans)"
   ]
  },
  {
   "cell_type": "code",
   "execution_count": 8,
   "id": "91c8f08c-43c8-4f76-9dc6-1fb9b70dc278",
   "metadata": {},
   "outputs": [
    {
     "data": {
      "text/plain": [
       "['a', 't', 'c', 'o', 'd', 'e', 'r']"
      ]
     },
     "execution_count": 8,
     "metadata": {},
     "output_type": "execute_result"
    }
   ],
   "source": [
    "sl"
   ]
  },
  {
   "cell_type": "code",
   "execution_count": null,
   "id": "7e6cd455-794b-4570-976a-63a8bb232ae1",
   "metadata": {},
   "outputs": [],
   "source": []
  }
 ],
 "metadata": {
  "kernelspec": {
   "display_name": "Python 3",
   "language": "python",
   "name": "python3"
  },
  "language_info": {
   "codemirror_mode": {
    "name": "ipython",
    "version": 3
   },
   "file_extension": ".py",
   "mimetype": "text/x-python",
   "name": "python",
   "nbconvert_exporter": "python",
   "pygments_lexer": "ipython3",
   "version": "3.6.13"
  }
 },
 "nbformat": 4,
 "nbformat_minor": 5
}
