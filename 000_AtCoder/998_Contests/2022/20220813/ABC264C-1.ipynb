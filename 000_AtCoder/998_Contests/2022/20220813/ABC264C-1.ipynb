{
 "cells": [
  {
   "cell_type": "code",
   "execution_count": 1,
   "id": "4c1702f9-1286-44fd-86a7-69a079e07a15",
   "metadata": {},
   "outputs": [],
   "source": [
    "import sys\n",
    "import numpy as np\n",
    "import math\n",
    "import collections\n",
    "import copy\n",
    "import decimal\n",
    "import itertools\n",
    "import re\n",
    "import bisect\n",
    "import scipy\n",
    "import heapq\n",
    "from collections import deque \n",
    "from functools import reduce\n",
    "from itertools import product\n",
    "from itertools import combinations\n",
    "from functools import lru_cache\n",
    "from scipy.special import comb\n",
    "from numba import njit\n",
    "from bisect import bisect_right\n",
    "from bisect import bisect_left"
   ]
  },
  {
   "cell_type": "code",
   "execution_count": 2,
   "id": "de81b4c9-d7a2-4b77-af9d-76ca2af2c9bc",
   "metadata": {},
   "outputs": [
    {
     "name": "stdin",
     "output_type": "stream",
     "text": [
      " 4 5\n"
     ]
    }
   ],
   "source": [
    "H1, W1 = map(int, input().split())"
   ]
  },
  {
   "cell_type": "code",
   "execution_count": 5,
   "id": "08bef8ba-c4c1-4228-904a-654d397377c3",
   "metadata": {},
   "outputs": [
    {
     "name": "stdin",
     "output_type": "stream",
     "text": [
      "  1 2 3 4 5\n",
      " 6 7 8 9 10\n",
      " 11 12 13 14 15\n",
      " 16 17 18 19 20\n"
     ]
    }
   ],
   "source": [
    "An = [list(map(int, input().split())) for _ in range(H1)]"
   ]
  },
  {
   "cell_type": "code",
   "execution_count": 6,
   "id": "f116ae2b-5382-428f-81ca-3973cb9ae8c3",
   "metadata": {},
   "outputs": [
    {
     "name": "stdin",
     "output_type": "stream",
     "text": [
      " 2 3\n"
     ]
    }
   ],
   "source": [
    "H2, W2 = map(int, input().split())"
   ]
  },
  {
   "cell_type": "code",
   "execution_count": 7,
   "id": "538f67b7-e55b-43e4-8e8a-bbac4575ae58",
   "metadata": {},
   "outputs": [
    {
     "name": "stdin",
     "output_type": "stream",
     "text": [
      " 6 8 9\n",
      " 16 18 19\n"
     ]
    }
   ],
   "source": [
    "Bn = [list(map(int, input().split())) for _ in range(H2)]"
   ]
  },
  {
   "cell_type": "code",
   "execution_count": 25,
   "id": "507066a9-299c-48f5-a746-081396853c5b",
   "metadata": {},
   "outputs": [],
   "source": [
    "def myCheck(P1, P2):\n",
    "    for i1, p1 in enumerate(P1):\n",
    "        if p1 == 0:\n",
    "            continue\n",
    "        for i2, p2 in enumerate(P2):\n",
    "            if p2 == 0:\n",
    "                continue\n",
    "            if An[i1][i2] != Bn[sum(P1[:i1+1])-1][sum(P2[:i2+1])-1]:\n",
    "                return False\n",
    "    return True"
   ]
  },
  {
   "cell_type": "code",
   "execution_count": 26,
   "id": "4bd497ff-cbde-42e8-b870-90c9f9b02976",
   "metadata": {},
   "outputs": [],
   "source": [
    "import itertools\n",
    "flg = False\n",
    "for P1 in itertools.product([0, 1], repeat=H1):\n",
    "    for P2 in  itertools.product([0, 1], repeat=W1):\n",
    "        if sum(P1) != H2 or sum(P2) != W2:\n",
    "            continue\n",
    "        if myCheck(P1, P2):\n",
    "            flg = True\n"
   ]
  },
  {
   "cell_type": "code",
   "execution_count": 27,
   "id": "d2d4d4e6-ecc6-42fd-bb7e-6f4025fcdc96",
   "metadata": {},
   "outputs": [
    {
     "name": "stdout",
     "output_type": "stream",
     "text": [
      "Yes\n"
     ]
    }
   ],
   "source": [
    "print('Yes' if flg else 'No')"
   ]
  },
  {
   "cell_type": "code",
   "execution_count": 24,
   "id": "18dbca8c-967f-4128-8379-ac0c6c55a23b",
   "metadata": {},
   "outputs": [
    {
     "data": {
      "text/plain": [
       "False"
      ]
     },
     "execution_count": 24,
     "metadata": {},
     "output_type": "execute_result"
    }
   ],
   "source": [
    "myCheck([1, 0, 1, 0], [0, 1, 0, 1, 0])"
   ]
  },
  {
   "cell_type": "code",
   "execution_count": null,
   "id": "ce143fe6-6580-4add-958e-a8ad4f0e9b8b",
   "metadata": {},
   "outputs": [],
   "source": []
  }
 ],
 "metadata": {
  "kernelspec": {
   "display_name": "Python 3",
   "language": "python",
   "name": "python3"
  },
  "language_info": {
   "codemirror_mode": {
    "name": "ipython",
    "version": 3
   },
   "file_extension": ".py",
   "mimetype": "text/x-python",
   "name": "python",
   "nbconvert_exporter": "python",
   "pygments_lexer": "ipython3",
   "version": "3.6.13"
  }
 },
 "nbformat": 4,
 "nbformat_minor": 5
}
