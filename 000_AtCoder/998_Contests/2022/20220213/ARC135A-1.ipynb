{
 "cells": [
  {
   "cell_type": "code",
   "execution_count": 1,
   "id": "1e564a8d-b2c4-4dc4-9fad-7cc6cf55b79e",
   "metadata": {},
   "outputs": [],
   "source": [
    "import sys\n",
    "import numpy as np\n",
    "import math\n",
    "import collections\n",
    "import copy\n",
    "import decimal\n",
    "import itertools\n",
    "import re\n",
    "import bisect\n",
    "import scipy\n",
    "import heapq\n",
    "from collections import deque \n",
    "from functools import reduce\n",
    "from itertools import product\n",
    "from itertools import combinations\n",
    "from functools import lru_cache\n",
    "from scipy.special import comb\n",
    "from numba import njit\n",
    "from bisect import bisect_right\n",
    "from bisect import bisect_left"
   ]
  },
  {
   "cell_type": "code",
   "execution_count": 21,
   "id": "35bbd078-ccd6-46b3-b715-19da9940deaf",
   "metadata": {},
   "outputs": [
    {
     "name": "stdin",
     "output_type": "stream",
     "text": [
      " 100\n"
     ]
    }
   ],
   "source": [
    "N = int(input())"
   ]
  },
  {
   "cell_type": "code",
   "execution_count": 29,
   "id": "ce9865b2-8928-4d16-9559-2bc5b6e9dfbc",
   "metadata": {},
   "outputs": [],
   "source": [
    "def DFS(n):\n",
    "    if n in di:\n",
    "        return di[n]\n",
    "    if n < 5:\n",
    "        return n\n",
    "    if n % 2 == 0:\n",
    "        ret = DFS(n // 2) ** 2\n",
    "    else:\n",
    "        ret = DFS(n // 2) * DFS(n // 2 + 1)\n",
    "    ret %= 998244353\n",
    "    di[n] = ret\n",
    "    return ret"
   ]
  },
  {
   "cell_type": "code",
   "execution_count": 30,
   "id": "87c16656-f44a-4bbc-be4e-9e1a204aeea9",
   "metadata": {},
   "outputs": [
    {
     "name": "stdout",
     "output_type": "stream",
     "text": [
      "824552442\n"
     ]
    }
   ],
   "source": [
    "di = {}\n",
    "print(DFS(N)%998244353)"
   ]
  },
  {
   "cell_type": "code",
   "execution_count": 28,
   "id": "274b01f0-4c36-4f72-803d-12e71fe28831",
   "metadata": {},
   "outputs": [
    {
     "data": {
      "text/plain": [
       "1000000000000000000"
      ]
     },
     "execution_count": 28,
     "metadata": {},
     "output_type": "execute_result"
    }
   ],
   "source": [
    "10**18"
   ]
  },
  {
   "cell_type": "code",
   "execution_count": null,
   "id": "fbfadc07-2e42-4373-b1fb-7fb8d9ed2494",
   "metadata": {},
   "outputs": [],
   "source": []
  }
 ],
 "metadata": {
  "kernelspec": {
   "display_name": "Python 3",
   "language": "python",
   "name": "python3"
  },
  "language_info": {
   "codemirror_mode": {
    "name": "ipython",
    "version": 3
   },
   "file_extension": ".py",
   "mimetype": "text/x-python",
   "name": "python",
   "nbconvert_exporter": "python",
   "pygments_lexer": "ipython3",
   "version": "3.6.13"
  }
 },
 "nbformat": 4,
 "nbformat_minor": 5
}
