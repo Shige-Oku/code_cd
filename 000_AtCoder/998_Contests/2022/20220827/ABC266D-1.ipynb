{
 "cells": [
  {
   "cell_type": "code",
   "execution_count": 1,
   "id": "cafb1369-3d88-4d01-860d-df53861ea4ec",
   "metadata": {},
   "outputs": [],
   "source": [
    "import sys\n",
    "import numpy as np\n",
    "import math\n",
    "import collections\n",
    "import copy\n",
    "import decimal\n",
    "import itertools\n",
    "import re\n",
    "import bisect\n",
    "import scipy\n",
    "import heapq\n",
    "from collections import deque \n",
    "from functools import reduce\n",
    "from itertools import product\n",
    "from itertools import combinations\n",
    "from functools import lru_cache\n",
    "from scipy.special import comb\n",
    "from numba import njit\n",
    "from bisect import bisect_right\n",
    "from bisect import bisect_left"
   ]
  },
  {
   "cell_type": "code",
   "execution_count": 2,
   "id": "6ed22408-2b6a-4fb8-a716-58abe9f07793",
   "metadata": {},
   "outputs": [
    {
     "name": "stdin",
     "output_type": "stream",
     "text": [
      " 3\n"
     ]
    }
   ],
   "source": [
    "N = int(input())"
   ]
  },
  {
   "cell_type": "code",
   "execution_count": 58,
   "id": "d05af65f-d1ff-492a-98f0-772166028613",
   "metadata": {},
   "outputs": [
    {
     "name": "stdin",
     "output_type": "stream",
     "text": [
      " 1 4 1\n",
      " 2 4 1\n",
      " 3 4 1\n"
     ]
    }
   ],
   "source": [
    "TXA = [list(map(int, input().split())) for _ in range(N)]"
   ]
  },
  {
   "cell_type": "code",
   "execution_count": 63,
   "id": "f3f9db7f-71f5-4136-b350-c8d16d6fcddf",
   "metadata": {},
   "outputs": [],
   "source": [
    "tmax = TXA[-1][0]\n",
    "dp = [[0] * 5 for _ in range(tmax+1)]\n",
    "x = [10**10] * (tmax+1)\n",
    "a = [0] * (tmax+1)\n",
    "for i, (T, X, A) in enumerate(TXA):\n",
    "    x[T] = X\n",
    "    a[T] = A"
   ]
  },
  {
   "cell_type": "code",
   "execution_count": 64,
   "id": "eb302bbf-e4ef-472a-adef-b12845cb8d2f",
   "metadata": {},
   "outputs": [],
   "source": [
    "for t in range(1, tmax+1):\n",
    "    for i in range(5):\n",
    "        dp[t][i] = dp[t-1][i]\n",
    "        if i != 0:\n",
    "            dp[t][i] = max(dp[t][i], dp[t-1][i-1])\n",
    "        if i != 4:\n",
    "            dp[t][i] = max(dp[t][i], dp[t-1][i+1])\n",
    "    if t >= x[t]:\n",
    "        dp[t][x[t]] += a[t]\n",
    "            "
   ]
  },
  {
   "cell_type": "code",
   "execution_count": 65,
   "id": "c6247c3b-ef17-4057-8c4b-ce7a52f65bf3",
   "metadata": {},
   "outputs": [
    {
     "name": "stdout",
     "output_type": "stream",
     "text": [
      "0\n"
     ]
    }
   ],
   "source": [
    "print(max(dp[-1]))"
   ]
  },
  {
   "cell_type": "code",
   "execution_count": 66,
   "id": "2bc1c94f-e212-4d84-aa9f-321019dd860c",
   "metadata": {},
   "outputs": [
    {
     "data": {
      "text/plain": [
       "([10000000000, 4, 4, 4],\n",
       " [0, 1, 1, 1],\n",
       " [[0, 0, 0, 0, 0], [0, 0, 0, 0, 0], [0, 0, 0, 0, 0], [0, 0, 0, 0, 0]])"
      ]
     },
     "execution_count": 66,
     "metadata": {},
     "output_type": "execute_result"
    }
   ],
   "source": [
    "x, a, dp"
   ]
  },
  {
   "cell_type": "code",
   "execution_count": null,
   "id": "83fb0019-43df-42ee-b4c3-0e47c8976d91",
   "metadata": {},
   "outputs": [],
   "source": [
    "# WA"
   ]
  },
  {
   "cell_type": "code",
   "execution_count": 37,
   "id": "156e3312-0230-446a-b60f-99487aa23135",
   "metadata": {},
   "outputs": [],
   "source": [
    "dp = [[0] * 6 for _ in range(TXA[-1][0])]\n",
    "TXAn_d = {}\n",
    "for T, X, A in TXA:\n",
    "    TXAn_d[T] = (X, A)\n",
    "for i in range(TXA[-1][0]):\n",
    "    for j in range(5):\n",
    "        if j > i:\n",
    "            dp[i][j] = dp[i-1][j]\n",
    "            if i % 5 != 0:\n",
    "                dp[i][j] = max(dp[i][j], dp[i-1][j-1])\n",
    "            if i % 5 != 4:\n",
    "                dp[i][j] = max(dp[i][j], dp[i-1][j+1])\n",
    "            continue\n",
    "        if i+1 in TXAn_d:\n",
    "            x, a = TXAn_d[i+1]\n",
    "            if x == i%5:\n",
    "                dp[i][j] = max(dp[i][j], dp[i-1][j]+a)\n",
    "                if i % 5 != 0:\n",
    "                    dp[i][j] = max(dp[i][j], dp[i-1][j-1]+a)\n",
    "                if i % 5 != 4:\n",
    "                    dp[i][j] = max(dp[i][j], dp[i-1][j+1]+a)\n",
    "            else:\n",
    "                dp[i][j] = max(dp[i][j], dp[i-1][j])\n",
    "                if i % 5 != 0:\n",
    "                    dp[i][j] = max(dp[i][j], dp[i-1][j-1])\n",
    "                if i % 5 != 4:\n",
    "                    dp[i][j] = max(dp[i][j], dp[i-1][j+1])\n",
    "        else:\n",
    "            dp[i][j] = dp[i-1][j]\n",
    "            if i % 5 != 0:\n",
    "                dp[i][j] = max(dp[i][j], dp[i-1][j-1])\n",
    "            if i % 5 != 4:\n",
    "                dp[i][j] = max(dp[i][j], dp[i-1][j+1])\n",
    "            "
   ]
  },
  {
   "cell_type": "code",
   "execution_count": 38,
   "id": "c995f28c-08d4-4603-ac3f-53000efa64f2",
   "metadata": {},
   "outputs": [
    {
     "name": "stdout",
     "output_type": "stream",
     "text": [
      "101\n"
     ]
    }
   ],
   "source": [
    "print(max(dp[-1]))"
   ]
  },
  {
   "cell_type": "code",
   "execution_count": 39,
   "id": "40944ed3-baf3-4704-9e1e-ba68102b7384",
   "metadata": {},
   "outputs": [
    {
     "data": {
      "text/plain": [
       "([[100, 0, 0, 0, 0],\n",
       "  [100, 0, 0, 0, 0],\n",
       "  [100, 100, 0, 0, 0],\n",
       "  [100, 100, 0, 0, 0],\n",
       "  [101, 101, 101, 1, 1]],\n",
       " {1: (0, 100), 3: (3, 10), 5: (4, 1)})"
      ]
     },
     "execution_count": 39,
     "metadata": {},
     "output_type": "execute_result"
    }
   ],
   "source": [
    "dp, TXAn_d"
   ]
  },
  {
   "cell_type": "code",
   "execution_count": 23,
   "id": "c9f94e8b-2bb6-4052-859c-3d02fb35219a",
   "metadata": {},
   "outputs": [
    {
     "data": {
      "text/plain": [
       "5"
      ]
     },
     "execution_count": 23,
     "metadata": {},
     "output_type": "execute_result"
    }
   ],
   "source": [
    "TXA[-1][0]"
   ]
  },
  {
   "cell_type": "code",
   "execution_count": 36,
   "id": "4517d260-9197-4922-ba35-cc5d8f48e7af",
   "metadata": {},
   "outputs": [
    {
     "data": {
      "text/plain": [
       "[0, 0, 0, 0, 0]"
      ]
     },
     "execution_count": 36,
     "metadata": {},
     "output_type": "execute_result"
    }
   ],
   "source": [
    "dp[-1]"
   ]
  },
  {
   "cell_type": "code",
   "execution_count": null,
   "id": "cd160955-93ba-4592-a146-efe0c3414776",
   "metadata": {},
   "outputs": [],
   "source": []
  }
 ],
 "metadata": {
  "kernelspec": {
   "display_name": "Python 3",
   "language": "python",
   "name": "python3"
  },
  "language_info": {
   "codemirror_mode": {
    "name": "ipython",
    "version": 3
   },
   "file_extension": ".py",
   "mimetype": "text/x-python",
   "name": "python",
   "nbconvert_exporter": "python",
   "pygments_lexer": "ipython3",
   "version": "3.6.13"
  }
 },
 "nbformat": 4,
 "nbformat_minor": 5
}
