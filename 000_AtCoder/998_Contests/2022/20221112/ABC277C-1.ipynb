{
 "cells": [
  {
   "cell_type": "code",
   "execution_count": 1,
   "id": "6e984e8d-faf9-4319-940a-8a9c21d71834",
   "metadata": {},
   "outputs": [],
   "source": [
    "import sys\n",
    "import numpy as np\n",
    "import math\n",
    "import collections\n",
    "import copy\n",
    "import decimal\n",
    "import itertools\n",
    "import re\n",
    "import bisect\n",
    "import scipy\n",
    "import heapq\n",
    "from collections import deque \n",
    "from functools import reduce\n",
    "from itertools import product\n",
    "from itertools import combinations\n",
    "from functools import lru_cache\n",
    "from scipy.special import comb\n",
    "from numba import njit\n",
    "from bisect import bisect_right\n",
    "from bisect import bisect_left"
   ]
  },
  {
   "cell_type": "code",
   "execution_count": 7,
   "id": "e6000bf8-5e4c-4cbc-ac2a-b71d2973f232",
   "metadata": {},
   "outputs": [
    {
     "name": "stdin",
     "output_type": "stream",
     "text": [
      " 4\n"
     ]
    }
   ],
   "source": [
    "N = int(input())"
   ]
  },
  {
   "cell_type": "code",
   "execution_count": 9,
   "id": "756ed2a3-3649-478e-bc5a-58aca080c636",
   "metadata": {},
   "outputs": [
    {
     "name": "stdin",
     "output_type": "stream",
     "text": [
      " 1 4\n",
      " 4 3\n",
      " 4 10\n",
      " 8 3\n"
     ]
    }
   ],
   "source": [
    "ABn = [list(map(int, input().split())) for _ in range(N)]"
   ]
  },
  {
   "cell_type": "code",
   "execution_count": 24,
   "id": "a7b5de7a-f12f-46ec-a6f8-b70f39f5de9e",
   "metadata": {},
   "outputs": [],
   "source": [
    "graph = {}\n",
    "for A, B in ABn:\n",
    "    if A not in graph:\n",
    "        graph[A] = [B, ]\n",
    "    else:\n",
    "        graph[A].append(B)\n",
    "    if B not in graph:\n",
    "        graph[B] = [A, ]\n",
    "    else:\n",
    "        graph[B].append(A)\n"
   ]
  },
  {
   "cell_type": "code",
   "execution_count": 26,
   "id": "65833bb3-d228-4e8b-acdb-78f2c76acaea",
   "metadata": {},
   "outputs": [],
   "source": [
    "from collections import deque\n",
    "fl = [False] * (2 * 10**5 + 1)\n",
    "q = deque()\n",
    "fl = set()\n",
    "if 1 in graph:\n",
    "    q.append(1)\n",
    "while q:\n",
    "    f = q.popleft()\n",
    "    for g in graph[f]:\n",
    "        if g in fl:\n",
    "            continue\n",
    "        fl.add(g)\n",
    "        q.append(g)"
   ]
  },
  {
   "cell_type": "code",
   "execution_count": 29,
   "id": "9f0b610b-7fb9-4d96-ac7f-7b29560f1fd1",
   "metadata": {},
   "outputs": [
    {
     "name": "stdout",
     "output_type": "stream",
     "text": [
      "10\n"
     ]
    }
   ],
   "source": [
    "if len(fl) == 0:\n",
    "    print(1)\n",
    "else:\n",
    "    print(max(fl))"
   ]
  },
  {
   "cell_type": "code",
   "execution_count": 15,
   "id": "79999de2-73c7-49ca-9083-22426006be21",
   "metadata": {},
   "outputs": [
    {
     "name": "stdout",
     "output_type": "stream",
     "text": [
      "10\n"
     ]
    }
   ],
   "source": [
    "print(ans)"
   ]
  },
  {
   "cell_type": "code",
   "execution_count": 28,
   "id": "70441d39-2e08-47f1-ac45-3a321e8cf78b",
   "metadata": {},
   "outputs": [
    {
     "data": {
      "text/plain": [
       "{1: [4], 4: [1, 3, 10], 3: [4, 8], 10: [4], 8: [3]}"
      ]
     },
     "execution_count": 28,
     "metadata": {},
     "output_type": "execute_result"
    }
   ],
   "source": [
    "graph"
   ]
  },
  {
   "cell_type": "code",
   "execution_count": null,
   "id": "8fdc2f86-2abc-4b31-830a-1f2267dc9cca",
   "metadata": {},
   "outputs": [],
   "source": []
  }
 ],
 "metadata": {
  "kernelspec": {
   "display_name": "Python 3",
   "language": "python",
   "name": "python3"
  },
  "language_info": {
   "codemirror_mode": {
    "name": "ipython",
    "version": 3
   },
   "file_extension": ".py",
   "mimetype": "text/x-python",
   "name": "python",
   "nbconvert_exporter": "python",
   "pygments_lexer": "ipython3",
   "version": "3.6.13"
  }
 },
 "nbformat": 4,
 "nbformat_minor": 5
}
