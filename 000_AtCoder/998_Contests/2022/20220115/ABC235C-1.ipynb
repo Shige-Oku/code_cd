{
 "cells": [
  {
   "cell_type": "code",
   "execution_count": 1,
   "id": "a2bb88f1-4bac-4751-8580-834b1ad9bb86",
   "metadata": {},
   "outputs": [],
   "source": [
    "import sys\n",
    "import numpy as np\n",
    "import math\n",
    "import collections\n",
    "import copy\n",
    "import decimal\n",
    "import itertools\n",
    "import re\n",
    "import bisect\n",
    "import scipy\n",
    "import heapq\n",
    "import array\n",
    "from collections import deque\n",
    "from functools import reduce\n",
    "from itertools import product\n",
    "from itertools import combinations\n",
    "from itertools import chain\n",
    "from functools import lru_cache\n",
    "from scipy.special import comb\n",
    "from numba import njit\n",
    "from bisect import bisect_right\n",
    "from bisect import bisect_left"
   ]
  },
  {
   "cell_type": "code",
   "execution_count": 2,
   "id": "a40fd5b8-5375-4d1b-8756-47691b0ad100",
   "metadata": {},
   "outputs": [
    {
     "name": "stdin",
     "output_type": "stream",
     "text": [
      " 6 8\n"
     ]
    }
   ],
   "source": [
    "N, Q = map(int, input().split())"
   ]
  },
  {
   "cell_type": "code",
   "execution_count": 3,
   "id": "3ee6f3a9-68fc-40ce-9a5d-ab0da6458e5d",
   "metadata": {},
   "outputs": [
    {
     "name": "stdin",
     "output_type": "stream",
     "text": [
      " 1 1 2 3 1 2\n"
     ]
    }
   ],
   "source": [
    "An = list(map(int, input().split()))"
   ]
  },
  {
   "cell_type": "code",
   "execution_count": 4,
   "id": "d076f812-7ca8-4d37-a8d7-f7c0f8dae66d",
   "metadata": {},
   "outputs": [
    {
     "name": "stdin",
     "output_type": "stream",
     "text": [
      " 1 1\n",
      " 1 2\n",
      " 1 3\n",
      " 1 4\n",
      " 2 1\n",
      " 2 2\n",
      " 2 3\n",
      " 4 1\n"
     ]
    }
   ],
   "source": [
    "Qn = [list(map(int, input().split())) for _ in range(Q)]"
   ]
  },
  {
   "cell_type": "code",
   "execution_count": 23,
   "id": "ff65706a-cc7c-4a42-a3bd-5ece75c5c1fa",
   "metadata": {},
   "outputs": [],
   "source": [
    "ma_di = collections.defaultdict(int)\n",
    "cnt_di = collections.defaultdict(int)\n",
    "for i, A in enumerate(An):\n",
    "    ma_di[An[i]] += 1\n",
    "    cnt_di[(An[i], ma_di[An[i]])] = i"
   ]
  },
  {
   "cell_type": "code",
   "execution_count": 29,
   "id": "03e977f8-73c4-4b48-888e-c6b211e55c12",
   "metadata": {},
   "outputs": [
    {
     "name": "stdout",
     "output_type": "stream",
     "text": [
      "1\n",
      "2\n",
      "5\n",
      "-1\n",
      "3\n",
      "6\n",
      "-1\n",
      "-1\n"
     ]
    }
   ],
   "source": [
    "for x, k in Qn:\n",
    "    if (x, k) in cnt_di:\n",
    "        print(cnt_di[x, k]+1)\n",
    "    else:\n",
    "        print('-1')"
   ]
  },
  {
   "cell_type": "code",
   "execution_count": 24,
   "id": "95de5d6a-9a27-466d-b3bc-2ab46ded7bca",
   "metadata": {},
   "outputs": [
    {
     "data": {
      "text/plain": [
       "defaultdict(int, {1: 3, 2: 2, 3: 1})"
      ]
     },
     "execution_count": 24,
     "metadata": {},
     "output_type": "execute_result"
    }
   ],
   "source": [
    "ma_di"
   ]
  },
  {
   "cell_type": "code",
   "execution_count": 25,
   "id": "016cb45b-670b-4dec-902e-9cea1486a5ec",
   "metadata": {},
   "outputs": [
    {
     "data": {
      "text/plain": [
       "defaultdict(int,\n",
       "            {(1, 1): 0, (1, 2): 1, (2, 1): 2, (3, 1): 3, (1, 3): 4, (2, 2): 5})"
      ]
     },
     "execution_count": 25,
     "metadata": {},
     "output_type": "execute_result"
    }
   ],
   "source": [
    "cnt_di"
   ]
  },
  {
   "cell_type": "code",
   "execution_count": null,
   "id": "aeef4fee-7018-42f7-8b9c-fe11f8a99bb1",
   "metadata": {},
   "outputs": [],
   "source": []
  }
 ],
 "metadata": {
  "kernelspec": {
   "display_name": "Python 3",
   "language": "python",
   "name": "python3"
  },
  "language_info": {
   "codemirror_mode": {
    "name": "ipython",
    "version": 3
   },
   "file_extension": ".py",
   "mimetype": "text/x-python",
   "name": "python",
   "nbconvert_exporter": "python",
   "pygments_lexer": "ipython3",
   "version": "3.6.13"
  }
 },
 "nbformat": 4,
 "nbformat_minor": 5
}
