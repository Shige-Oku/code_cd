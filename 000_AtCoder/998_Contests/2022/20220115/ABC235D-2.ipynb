{
 "cells": [
  {
   "cell_type": "code",
   "execution_count": null,
   "id": "432c75f4-86a9-44b6-8de4-b081bd5519e9",
   "metadata": {},
   "outputs": [],
   "source": [
    "# 解説を読んで実装"
   ]
  },
  {
   "cell_type": "code",
   "execution_count": 1,
   "id": "ec1f47e5-cf50-4cca-b0cd-9f10b1696de4",
   "metadata": {},
   "outputs": [],
   "source": [
    "import sys\n",
    "import numpy as np\n",
    "import math\n",
    "import collections\n",
    "import copy\n",
    "import decimal\n",
    "import itertools\n",
    "import re\n",
    "import bisect\n",
    "import scipy\n",
    "import heapq\n",
    "import array\n",
    "from collections import deque\n",
    "from functools import reduce\n",
    "from itertools import product\n",
    "from itertools import combinations\n",
    "from itertools import chain\n",
    "from functools import lru_cache\n",
    "from scipy.special import comb\n",
    "from numba import njit\n",
    "from bisect import bisect_right\n",
    "from bisect import bisect_left"
   ]
  },
  {
   "cell_type": "code",
   "execution_count": 61,
   "id": "8cbc7cad-8a6c-41ff-a761-55fb92860989",
   "metadata": {},
   "outputs": [
    {
     "name": "stdin",
     "output_type": "stream",
     "text": [
      " 2 767090\n"
     ]
    }
   ],
   "source": [
    "a, N = map(int, input().split())"
   ]
  },
  {
   "cell_type": "code",
   "execution_count": 64,
   "id": "3074bead-bb39-4774-86fb-1a8f9fc1ed34",
   "metadata": {},
   "outputs": [],
   "source": [
    "ma = 10**(len(str(N)))\n",
    "ans = [-1] * (ma+100)\n",
    "q = deque()\n",
    "q.append(1)\n",
    "ans[1] = 0\n",
    "while q:\n",
    "    pos = q.popleft()\n",
    "    cnt = ans[pos]\n",
    "#     if ans[pos] != -1:\n",
    "#         continue\n",
    "    if a * pos < ma and ans[a*pos] == -1:\n",
    "        ans[a*pos] = cnt + 1\n",
    "        q.append(pos*a)\n",
    "    if pos >= 10 and pos % 10 != 0:\n",
    "        s = str(pos)\n",
    "        l = len(s)\n",
    "        ne = int(s[-1]+s[:-1])\n",
    "        if ne < ma and ans[ne] != -1:\n",
    "            continue\n",
    "        ans[ne] = cnt + 1\n",
    "        q.append(ne)"
   ]
  },
  {
   "cell_type": "code",
   "execution_count": 65,
   "id": "7463fcf9-7915-46f5-9bf2-39adfe3e3da3",
   "metadata": {},
   "outputs": [
    {
     "name": "stdout",
     "output_type": "stream",
     "text": [
      "111\n"
     ]
    }
   ],
   "source": [
    "print(ans[N])"
   ]
  },
  {
   "cell_type": "code",
   "execution_count": 46,
   "id": "6ab50c4f-c89f-488a-839b-62900fdc72bd",
   "metadata": {},
   "outputs": [
    {
     "name": "stdout",
     "output_type": "stream",
     "text": [
      "111\n"
     ]
    }
   ],
   "source": [
    "M = 1\n",
    "while M <= N:\n",
    "  M *= 10\n",
    "d = [-1] * M\n",
    "Q = deque()\n",
    "d[1] = 0\n",
    "Q.append(1)\n",
    "while len(Q):\n",
    "  c = Q.popleft()\n",
    "  dc = d[c]\n",
    "  op1 = a * c\n",
    "  if op1 < M and d[op1] == -1:\n",
    "    d[op1] = dc + 1\n",
    "    Q.append(op1)\n",
    "  if c >= 10 and c % 10 != 0:\n",
    "    s = str(c)\n",
    "    op2 = int(s[-1] + s[:-1])\n",
    "    if op2 < M and d[op2] == -1:\n",
    "      d[op2] = dc + 1\n",
    "      Q.append(op2)\n",
    "print(d[N])"
   ]
  },
  {
   "cell_type": "code",
   "execution_count": 48,
   "id": "4300b9d0-2b32-4d9f-a348-93882a71b089",
   "metadata": {},
   "outputs": [
    {
     "data": {
      "text/plain": [
       "(1000000, 1000000, True)"
      ]
     },
     "execution_count": 48,
     "metadata": {},
     "output_type": "execute_result"
    }
   ],
   "source": [
    "ma, M, ma == M"
   ]
  },
  {
   "cell_type": "code",
   "execution_count": null,
   "id": "1f63fd53-8ffd-4300-bdcb-80a1deaa18b3",
   "metadata": {},
   "outputs": [],
   "source": []
  }
 ],
 "metadata": {
  "kernelspec": {
   "display_name": "Python 3",
   "language": "python",
   "name": "python3"
  },
  "language_info": {
   "codemirror_mode": {
    "name": "ipython",
    "version": 3
   },
   "file_extension": ".py",
   "mimetype": "text/x-python",
   "name": "python",
   "nbconvert_exporter": "python",
   "pygments_lexer": "ipython3",
   "version": "3.6.13"
  }
 },
 "nbformat": 4,
 "nbformat_minor": 5
}
