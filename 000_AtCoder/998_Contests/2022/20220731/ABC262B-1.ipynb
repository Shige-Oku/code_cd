{
 "cells": [
  {
   "cell_type": "code",
   "execution_count": 1,
   "id": "3ad559da-bcfd-4998-a0a3-27efb45c5407",
   "metadata": {},
   "outputs": [],
   "source": [
    "import sys\n",
    "import numpy as np\n",
    "import math\n",
    "import collections\n",
    "import copy\n",
    "import decimal\n",
    "import itertools\n",
    "import re\n",
    "import bisect\n",
    "import scipy\n",
    "import heapq\n",
    "from collections import deque \n",
    "from functools import reduce\n",
    "from itertools import product\n",
    "from itertools import combinations\n",
    "from functools import lru_cache\n",
    "from scipy.special import comb\n",
    "from numba import njit\n",
    "from bisect import bisect_right\n",
    "from bisect import bisect_left"
   ]
  },
  {
   "cell_type": "code",
   "execution_count": 2,
   "id": "6e440d71-110f-4b90-92ac-f5637a7d56b2",
   "metadata": {},
   "outputs": [
    {
     "name": "stdin",
     "output_type": "stream",
     "text": [
      " 5 6\n"
     ]
    }
   ],
   "source": [
    "N, M = map(int, input().split())"
   ]
  },
  {
   "cell_type": "code",
   "execution_count": 4,
   "id": "463310a4-201c-4004-b8e5-492f1b7c7c52",
   "metadata": {},
   "outputs": [
    {
     "name": "stdin",
     "output_type": "stream",
     "text": [
      " 1 5\n",
      " 4 5\n",
      " 2 3\n",
      " 1 4\n",
      " 3 5\n",
      " 2 5\n"
     ]
    }
   ],
   "source": [
    "UV = [list(map(int, input().split())) for _ in range(M)]"
   ]
  },
  {
   "cell_type": "code",
   "execution_count": 5,
   "id": "64105870-165e-43f7-89d0-85ac29508166",
   "metadata": {},
   "outputs": [],
   "source": [
    "graph = [[] for _ in range(N+1)]\n",
    "for U, V in UV:\n",
    "    graph[U].append(V)\n",
    "    graph[V].append(U)"
   ]
  },
  {
   "cell_type": "code",
   "execution_count": 19,
   "id": "6e30c85a-7ab3-4ede-a1b4-64358c02929a",
   "metadata": {},
   "outputs": [
    {
     "name": "stdout",
     "output_type": "stream",
     "text": [
      "1 5 4\n",
      "1 4 5\n",
      "2 3 5\n",
      "2 5 3\n",
      "3 2 5\n",
      "3 5 2\n",
      "4 5 1\n",
      "4 1 5\n",
      "5 1 4\n",
      "5 4 1\n",
      "5 3 2\n",
      "5 2 3\n"
     ]
    }
   ],
   "source": [
    "ans = 0\n",
    "for i in range(1, N+1):\n",
    "    for g1 in graph[i]:\n",
    "        for g2 in graph[g1]:\n",
    "            if i in graph[g2]:\n",
    "                ans += 1\n"
   ]
  },
  {
   "cell_type": "code",
   "execution_count": 20,
   "id": "6f7b9b5c-cc12-481e-8b9a-1371923df8ad",
   "metadata": {},
   "outputs": [
    {
     "name": "stdout",
     "output_type": "stream",
     "text": [
      "2\n"
     ]
    }
   ],
   "source": [
    "print(ans//6)"
   ]
  },
  {
   "cell_type": "code",
   "execution_count": null,
   "id": "8a48f346-ebc4-4b4d-98da-e878910b7ed5",
   "metadata": {},
   "outputs": [],
   "source": []
  },
  {
   "cell_type": "code",
   "execution_count": null,
   "id": "e5577499-798f-4977-ae7a-35ada3395d8d",
   "metadata": {},
   "outputs": [],
   "source": []
  },
  {
   "cell_type": "code",
   "execution_count": 7,
   "id": "fd442ed6-1c40-4846-b5ab-f112a13af933",
   "metadata": {},
   "outputs": [],
   "source": [
    "import collections"
   ]
  },
  {
   "cell_type": "code",
   "execution_count": 15,
   "id": "3f8e00c3-0757-4322-afcf-6bfe6b2f40bc",
   "metadata": {},
   "outputs": [],
   "source": [
    "ans = 0\n",
    "for i in range(M-2):\n",
    "    u1, v1 = UV[i]\n",
    "    for j in range(i+1, M-1):\n",
    "        u2, v2 = UV[j]\n",
    "        for k in range(j+1, M):\n",
    "            u3, v3 = UV[k]\n",
    "            c = collections.Counter([u1, u2, u3, v1, v2, v3])\n",
    "            if len(c) != 3:\n",
    "                continue\n",
    "            for k, v in c.items():\n",
    "                if v != 2:\n",
    "                    continue\n",
    "            else:\n",
    "                ans += 1"
   ]
  },
  {
   "cell_type": "code",
   "execution_count": 16,
   "id": "5e5059b3-4d94-4a68-a81f-1db7cea330d3",
   "metadata": {},
   "outputs": [
    {
     "name": "stdout",
     "output_type": "stream",
     "text": [
      "2\n"
     ]
    }
   ],
   "source": [
    "print(ans)"
   ]
  },
  {
   "cell_type": "code",
   "execution_count": 6,
   "id": "dc44a93e-666a-4f40-a61c-0a79e96b2a5b",
   "metadata": {},
   "outputs": [
    {
     "data": {
      "text/plain": [
       "[[], [5, 4], [3, 5], [2, 5], [5, 1], [1, 4, 3, 2]]"
      ]
     },
     "execution_count": 6,
     "metadata": {},
     "output_type": "execute_result"
    }
   ],
   "source": [
    "graph"
   ]
  },
  {
   "cell_type": "code",
   "execution_count": null,
   "id": "441783ed-11b6-441b-b9c7-e43359068514",
   "metadata": {},
   "outputs": [],
   "source": []
  }
 ],
 "metadata": {
  "kernelspec": {
   "display_name": "Python 3",
   "language": "python",
   "name": "python3"
  },
  "language_info": {
   "codemirror_mode": {
    "name": "ipython",
    "version": 3
   },
   "file_extension": ".py",
   "mimetype": "text/x-python",
   "name": "python",
   "nbconvert_exporter": "python",
   "pygments_lexer": "ipython3",
   "version": "3.6.13"
  }
 },
 "nbformat": 4,
 "nbformat_minor": 5
}
