{
 "cells": [
  {
   "cell_type": "code",
   "execution_count": 1,
   "id": "9467c5c8-15f7-4e25-b021-8dbb5b965f66",
   "metadata": {},
   "outputs": [],
   "source": [
    "import sys\n",
    "import numpy as np\n",
    "import math\n",
    "import collections\n",
    "import copy\n",
    "import decimal\n",
    "import itertools\n",
    "import re\n",
    "import bisect\n",
    "import scipy\n",
    "import heapq\n",
    "from collections import deque \n",
    "from functools import reduce\n",
    "from itertools import product\n",
    "from itertools import combinations\n",
    "from functools import lru_cache\n",
    "from scipy.special import comb\n",
    "from numba import njit\n",
    "from bisect import bisect_right\n",
    "from bisect import bisect_left"
   ]
  },
  {
   "cell_type": "code",
   "execution_count": 15,
   "id": "f145e44f-f3bf-4938-8a5b-7af011621ac5",
   "metadata": {},
   "outputs": [
    {
     "name": "stdin",
     "output_type": "stream",
     "text": [
      " 2021\n"
     ]
    }
   ],
   "source": [
    "Y = int(input())"
   ]
  },
  {
   "cell_type": "code",
   "execution_count": 16,
   "id": "1d14cca9-ecde-4ad7-8fbc-f1ac5cd49a42",
   "metadata": {},
   "outputs": [
    {
     "name": "stdout",
     "output_type": "stream",
     "text": [
      "2022\n"
     ]
    }
   ],
   "source": [
    "r = Y % 4\n",
    "if r == 2:\n",
    "    print(Y)\n",
    "elif r == 1:\n",
    "    print(Y+1)\n",
    "elif r == 0:\n",
    "    print(Y+2)\n",
    "else:\n",
    "    print(Y+3)"
   ]
  },
  {
   "cell_type": "code",
   "execution_count": null,
   "id": "e47cf905-6d88-4bff-8f3d-1462b956a655",
   "metadata": {},
   "outputs": [],
   "source": []
  }
 ],
 "metadata": {
  "kernelspec": {
   "display_name": "Python 3",
   "language": "python",
   "name": "python3"
  },
  "language_info": {
   "codemirror_mode": {
    "name": "ipython",
    "version": 3
   },
   "file_extension": ".py",
   "mimetype": "text/x-python",
   "name": "python",
   "nbconvert_exporter": "python",
   "pygments_lexer": "ipython3",
   "version": "3.6.13"
  }
 },
 "nbformat": 4,
 "nbformat_minor": 5
}
