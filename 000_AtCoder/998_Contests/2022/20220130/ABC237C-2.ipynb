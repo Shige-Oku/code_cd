{
 "cells": [
  {
   "cell_type": "code",
   "execution_count": 15,
   "id": "99c5c3b9-4154-4479-95c0-ff0438ddaa56",
   "metadata": {},
   "outputs": [
    {
     "name": "stdin",
     "output_type": "stream",
     "text": [
      " php\n"
     ]
    }
   ],
   "source": [
    "S = input()"
   ]
  },
  {
   "cell_type": "code",
   "execution_count": 16,
   "id": "5e955121-d2bd-49ad-9830-aba82039d384",
   "metadata": {},
   "outputs": [],
   "source": [
    "h = 0\n",
    "t = len(S)-1\n",
    "for _ in range(len(S)):\n",
    "    if S[t] == 'a':\n",
    "        if S[h] == 'a':\n",
    "            h += 1\n",
    "        t -= 1"
   ]
  },
  {
   "cell_type": "code",
   "execution_count": 17,
   "id": "41eecda0-dcda-4c69-9013-1e4ab0de406a",
   "metadata": {},
   "outputs": [
    {
     "name": "stdout",
     "output_type": "stream",
     "text": [
      "Yes\n"
     ]
    }
   ],
   "source": [
    "s1 = S[min(h, t):max(h, t)+1]\n",
    "s2 = s1[::-1]\n",
    "for ss1, ss2 in zip(s1, s2):\n",
    "    if ss1 != ss2:\n",
    "        print('No')\n",
    "        break\n",
    "else:\n",
    "    print('Yes')"
   ]
  },
  {
   "cell_type": "code",
   "execution_count": 9,
   "id": "547f9d71-0865-4568-9a02-f5523d050935",
   "metadata": {},
   "outputs": [
    {
     "data": {
      "text/plain": [
       "'a'"
      ]
     },
     "execution_count": 9,
     "metadata": {},
     "output_type": "execute_result"
    }
   ],
   "source": [
    "S[-1]"
   ]
  },
  {
   "cell_type": "code",
   "execution_count": 10,
   "id": "8e1a063e-7e5a-45ef-9249-59c7bd821e81",
   "metadata": {},
   "outputs": [
    {
     "data": {
      "text/plain": [
       "(0, 4)"
      ]
     },
     "execution_count": 10,
     "metadata": {},
     "output_type": "execute_result"
    }
   ],
   "source": [
    "h, t"
   ]
  },
  {
   "cell_type": "code",
   "execution_count": 6,
   "id": "a44d9151-7e5d-42ff-9cc7-2a6ff4b6cbf0",
   "metadata": {},
   "outputs": [
    {
     "data": {
      "text/plain": [
       "('kasa', 'asak')"
      ]
     },
     "execution_count": 6,
     "metadata": {},
     "output_type": "execute_result"
    }
   ],
   "source": [
    "s1, s2"
   ]
  },
  {
   "cell_type": "code",
   "execution_count": null,
   "id": "32d09e76-926a-40ef-adae-bd6bf4341245",
   "metadata": {},
   "outputs": [],
   "source": []
  }
 ],
 "metadata": {
  "kernelspec": {
   "display_name": "Python 3",
   "language": "python",
   "name": "python3"
  },
  "language_info": {
   "codemirror_mode": {
    "name": "ipython",
    "version": 3
   },
   "file_extension": ".py",
   "mimetype": "text/x-python",
   "name": "python",
   "nbconvert_exporter": "python",
   "pygments_lexer": "ipython3",
   "version": "3.6.13"
  }
 },
 "nbformat": 4,
 "nbformat_minor": 5
}
