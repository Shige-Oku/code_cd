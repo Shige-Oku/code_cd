{
 "cells": [
  {
   "cell_type": "code",
   "execution_count": null,
   "id": "65d897ff-6b6b-4567-8a97-4160b736d3f1",
   "metadata": {},
   "outputs": [],
   "source": [
    "# TLE"
   ]
  },
  {
   "cell_type": "code",
   "execution_count": 1,
   "id": "9e13ac17-730d-4cce-b332-c7a8abb201ba",
   "metadata": {},
   "outputs": [],
   "source": [
    "import sys\n",
    "import numpy as np\n",
    "import math\n",
    "import collections\n",
    "import copy\n",
    "import decimal\n",
    "import itertools\n",
    "import re\n",
    "import bisect\n",
    "import scipy\n",
    "import heapq\n",
    "import array\n",
    "from collections import deque\n",
    "from functools import reduce\n",
    "from itertools import product\n",
    "from itertools import combinations\n",
    "from itertools import chain\n",
    "from functools import lru_cache\n",
    "from scipy.special import comb\n",
    "from numba import njit\n",
    "from bisect import bisect_right\n",
    "from bisect import bisect_left"
   ]
  },
  {
   "cell_type": "code",
   "execution_count": 32,
   "id": "159f958d-e1af-462c-8976-c4e3e5cfc2c2",
   "metadata": {},
   "outputs": [
    {
     "name": "stdin",
     "output_type": "stream",
     "text": [
      " php\n"
     ]
    }
   ],
   "source": [
    "S = input()"
   ]
  },
  {
   "cell_type": "code",
   "execution_count": 33,
   "id": "3778e4c7-1494-46d5-a519-55f0d2d0610c",
   "metadata": {},
   "outputs": [],
   "source": [
    "s1 = S[::-1]\n",
    "s2 = S\n",
    "cs = ''\n",
    "for i in range(len(S)):\n",
    "    if s1[i] == 'a' and s2[i] != 'a':\n",
    "        cs += 'a'\n",
    "    else:\n",
    "        break"
   ]
  },
  {
   "cell_type": "code",
   "execution_count": 34,
   "id": "7a47223c-9db6-406f-a7c8-c5ed60cd7ee5",
   "metadata": {},
   "outputs": [],
   "source": [
    "for s in S[max(0, i-1):]:\n",
    "    cs += s"
   ]
  },
  {
   "cell_type": "code",
   "execution_count": 35,
   "id": "a4485d50-0473-45b6-9afc-cd8cd2caff71",
   "metadata": {},
   "outputs": [
    {
     "name": "stdout",
     "output_type": "stream",
     "text": [
      "Yes\n"
     ]
    }
   ],
   "source": [
    "cs2 = cs[::-1]\n",
    "if cs == cs2:\n",
    "    print('Yes')\n",
    "else:\n",
    "    print('No')"
   ]
  },
  {
   "cell_type": "code",
   "execution_count": 27,
   "id": "79de0034-3f0e-4639-97be-9d965a9f584d",
   "metadata": {},
   "outputs": [
    {
     "data": {
      "text/plain": [
       "('atcoder', 'redocta', 0)"
      ]
     },
     "execution_count": 27,
     "metadata": {},
     "output_type": "execute_result"
    }
   ],
   "source": [
    "cs, cs2, i"
   ]
  },
  {
   "cell_type": "code",
   "execution_count": 11,
   "id": "153a3d2e-51ca-4e65-bc52-a2e5f09bb56f",
   "metadata": {},
   "outputs": [
    {
     "data": {
      "text/plain": [
       "'asaka'"
      ]
     },
     "execution_count": 11,
     "metadata": {},
     "output_type": "execute_result"
    }
   ],
   "source": [
    "S[i:]"
   ]
  },
  {
   "cell_type": "code",
   "execution_count": null,
   "id": "8dcd0e22-dc41-4dab-971c-12674554e2c6",
   "metadata": {},
   "outputs": [],
   "source": []
  }
 ],
 "metadata": {
  "kernelspec": {
   "display_name": "Python 3",
   "language": "python",
   "name": "python3"
  },
  "language_info": {
   "codemirror_mode": {
    "name": "ipython",
    "version": 3
   },
   "file_extension": ".py",
   "mimetype": "text/x-python",
   "name": "python",
   "nbconvert_exporter": "python",
   "pygments_lexer": "ipython3",
   "version": "3.6.13"
  }
 },
 "nbformat": 4,
 "nbformat_minor": 5
}
