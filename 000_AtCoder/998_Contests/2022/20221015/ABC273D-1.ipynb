{
 "cells": [
  {
   "cell_type": "code",
   "execution_count": 1,
   "id": "30c9c1a8-962e-42ed-938b-a029d197544b",
   "metadata": {},
   "outputs": [],
   "source": [
    "import sys\n",
    "import numpy as np\n",
    "import math\n",
    "import collections\n",
    "import copy\n",
    "import decimal\n",
    "import itertools\n",
    "import re\n",
    "import bisect\n",
    "import scipy\n",
    "import heapq\n",
    "from collections import deque \n",
    "from functools import reduce\n",
    "from itertools import product\n",
    "from itertools import combinations\n",
    "from functools import lru_cache\n",
    "from scipy.special import comb\n",
    "from numba import njit\n",
    "from bisect import bisect_right\n",
    "from bisect import bisect_left"
   ]
  },
  {
   "cell_type": "code",
   "execution_count": 35,
   "id": "eb1db9f3-de6b-4129-87cb-5589482f6aa5",
   "metadata": {},
   "outputs": [
    {
     "name": "stdin",
     "output_type": "stream",
     "text": [
      " 6 6 6 3\n"
     ]
    }
   ],
   "source": [
    "H, W, Rs, Cs = map(int, input().split())"
   ]
  },
  {
   "cell_type": "code",
   "execution_count": 36,
   "id": "85ea44eb-4d68-430d-bc6e-9dd4da8a1be3",
   "metadata": {},
   "outputs": [
    {
     "name": "stdin",
     "output_type": "stream",
     "text": [
      " 7\n"
     ]
    }
   ],
   "source": [
    "N = int(input())"
   ]
  },
  {
   "cell_type": "code",
   "execution_count": 37,
   "id": "3b4194c7-dfb5-4699-aa9d-d50200d5bae5",
   "metadata": {},
   "outputs": [
    {
     "name": "stdin",
     "output_type": "stream",
     "text": [
      " 3 1\n",
      " 4 3\n",
      " 2 6\n",
      " 3 4\n",
      " 5 5\n",
      " 1 1\n",
      " 3 2\n"
     ]
    }
   ],
   "source": [
    "RCn = [list(map(int, input().split())) for _ in range(N)]"
   ]
  },
  {
   "cell_type": "code",
   "execution_count": 38,
   "id": "de4306bc-9f08-44ad-90ef-c3cdea52e6b4",
   "metadata": {},
   "outputs": [
    {
     "name": "stdin",
     "output_type": "stream",
     "text": [
      " 10\n"
     ]
    }
   ],
   "source": [
    "Q = int(input())"
   ]
  },
  {
   "cell_type": "code",
   "execution_count": 39,
   "id": "8106cb6f-6943-4634-a21f-dd3cd1c55590",
   "metadata": {},
   "outputs": [
    {
     "name": "stdin",
     "output_type": "stream",
     "text": [
      " D 3\n",
      " U 3\n",
      " L 2\n",
      " D 2\n",
      " U 3\n",
      " D 3\n",
      " U 3\n",
      " R 3\n",
      " L 3\n",
      " D 1\n"
     ]
    }
   ],
   "source": [
    "Qn = [list(input().split()) for _ in range(Q)]"
   ]
  },
  {
   "cell_type": "code",
   "execution_count": 54,
   "id": "7269f1d1-f542-45ee-b2c7-beca6e1b3424",
   "metadata": {},
   "outputs": [],
   "source": [
    "w_h = [[] * (W+1) for _ in range(H+1)] \n",
    "w_v = [[] * (H+1) for _ in range(W+1)]\n",
    "for R, C in RCn:\n",
    "    w_h[R].append(C)\n",
    "    w_v[C].append(R)\n",
    "for i in range(len(w_h)):\n",
    "    w_h[i] = sorted(w_h[i])\n",
    "for i in range(len(w_v)):\n",
    "    w_v[i] = sorted(w_v[i])\n",
    "    "
   ]
  },
  {
   "cell_type": "code",
   "execution_count": 69,
   "id": "f6173847-74b7-48f1-a9f9-869e5d1bb920",
   "metadata": {},
   "outputs": [
    {
     "name": "stdout",
     "output_type": "stream",
     "text": [
      "6 3\n",
      "5 3\n",
      "5 1\n",
      "6 1\n",
      "4 1\n",
      "6 1\n",
      "4 1\n",
      "4 2\n",
      "4 1\n",
      "5 1\n"
     ]
    }
   ],
   "source": [
    "from bisect import bisect_left\n",
    "th, tv = Rs, Cs\n",
    "for D, L in Qn:\n",
    "    L = int(L)\n",
    "    if D == 'L':\n",
    "        p = bisect_left(w_h[th], tv-L)\n",
    "        if len(w_h[th]) == 0 or p >= len(w_h[th]) or w_h[th][p] > tv:\n",
    "            tv = max(1, tv-L)\n",
    "        else:\n",
    "            tv = max(w_h[th][p-1] - 1, tv-L)\n",
    "        print(th, tv)\n",
    "    elif D == 'R':\n",
    "        p = bisect_left(w_h[th], tv+1)\n",
    "        if len(w_h[th]) == 0 or p >= len(w_h[th]):\n",
    "            tv = min(W, tv+L)\n",
    "        else:\n",
    "            tv = min(w_h[th][p] - 1, tv+L)\n",
    "        print(th, tv)\n",
    "    elif D == 'U':\n",
    "        p = bisect_left(w_v[tv], th-L)\n",
    "        if len(w_v[tv]) == 0 or p >= len(w_v[tv]) or w_v[tv][p] > th:\n",
    "            th = max(1, th-L)\n",
    "        else:\n",
    "            th = w_v[tv][p] + 1\n",
    "        print(th, tv)\n",
    "    else:\n",
    "        p = bisect_left(w_v[tv], th+1)\n",
    "        if len(w_v[tv]) == 0 or p >= len(w_v[tv]) or w_v[tv][p] > th:\n",
    "            th = min(H, th+L)\n",
    "        else:\n",
    "            th = max(w_v[tv][p] - 1, th-L)\n",
    "        print(th, tv)\n",
    "        "
   ]
  },
  {
   "cell_type": "code",
   "execution_count": 22,
   "id": "9fe13c1c-58c3-4b60-9f4d-89a273e351ff",
   "metadata": {},
   "outputs": [
    {
     "data": {
      "text/plain": [
       "0"
      ]
     },
     "execution_count": 22,
     "metadata": {},
     "output_type": "execute_result"
    }
   ],
   "source": [
    "bisect_left(w_h[4], 4)"
   ]
  },
  {
   "cell_type": "code",
   "execution_count": 56,
   "id": "f234f674-f84d-4400-a45f-cab4f97bd8bf",
   "metadata": {},
   "outputs": [
    {
     "data": {
      "text/plain": [
       "([[], [1], [6], [1, 2, 4], [3], [5], []],\n",
       " [[], [1, 3], [3], [4], [3], [5], [2]],\n",
       " 5,\n",
       " 2)"
      ]
     },
     "execution_count": 56,
     "metadata": {},
     "output_type": "execute_result"
    }
   ],
   "source": [
    "w_h, w_v, th, tv"
   ]
  },
  {
   "cell_type": "code",
   "execution_count": 65,
   "id": "ed19a3d7-6f2e-41e7-bd84-4a66bbcdf8c3",
   "metadata": {},
   "outputs": [
    {
     "data": {
      "text/plain": [
       "(3, 2, [3], [3])"
      ]
     },
     "execution_count": 65,
     "metadata": {},
     "output_type": "execute_result"
    }
   ],
   "source": [
    "R, C, w_v[2], w_h[4]"
   ]
  },
  {
   "cell_type": "code",
   "execution_count": null,
   "id": "8c6de408-aa0f-4e14-93d4-9da491328818",
   "metadata": {},
   "outputs": [],
   "source": []
  },
  {
   "cell_type": "code",
   "execution_count": 10,
   "id": "0cc1f345-466b-4307-a891-973dfd19c447",
   "metadata": {},
   "outputs": [],
   "source": [
    "w_wr = [[] for _ in range(W+1)]\n",
    "w_wl = [[] for _ in range(W+1)]\n",
    "w_hu = [[] for _ in range(H+1)]\n",
    "w_hd = [[] for _ in range(H+1)]\n",
    "for R, C in RCn:\n",
    "    w_hu[R].append(-C)\n",
    "    w_hd[R].append(C)\n",
    "    w_wr[C].append(R)\n",
    "    w_wl[C].append(-R)\n",
    "for i in range(H):\n",
    "    w_hu[i] = sorted(w_hu[i])\n",
    "    w_hd[i] = sorted(w_hd[i])    \n",
    "for i in range(W):\n",
    "    w_wr[i] = sorted(w_wr[i])\n",
    "    w_wl[i] = sorted(w_wl[i])        "
   ]
  },
  {
   "cell_type": "code",
   "execution_count": 30,
   "id": "5f899e13-cb2e-42d6-b9f7-07234711de73",
   "metadata": {},
   "outputs": [
    {
     "name": "stdout",
     "output_type": "stream",
     "text": [
      "L 2\n",
      "0 0\n",
      "4 2\n",
      "U 3\n",
      "0 1\n",
      "4 5\n",
      "L 2\n",
      "0 0\n",
      "4 3\n",
      "R 4\n",
      "4 7\n"
     ]
    }
   ],
   "source": [
    "from bisect import bisect_left\n",
    "th, tw = Rs, Cs\n",
    "for R, C in Qn:\n",
    "    C = int(C)\n",
    "    print(R, C)\n",
    "    if R == 'R':\n",
    "        p1 = bisect_left(w_wr[th], tw)\n",
    "        p2 = bisect_left(w_wr[th], tw+C)\n",
    "        if p1 == p2:\n",
    "            print(th, tw+C)\n",
    "            tw += C\n",
    "        else:\n",
    "            print(th, w_wr[R][p2]-1)\n",
    "            tw += w_wr[R][p2] - 1\n",
    "    elif R == 'L':\n",
    "        p1 = bisect_left(w_wl[th], -tw)\n",
    "        p2 = bisect_left(w_wl[th], -tw+C)\n",
    "        print(p1, p2)\n",
    "        if p1 == p2:\n",
    "            print(th, tw-C)\n",
    "            tw -= C\n",
    "        else:\n",
    "            print(th, w_wr[R][p2]-1)\n",
    "            tw -= w_wr[th][p2] - 1\n",
    "    elif R == 'U':\n",
    "        p1 = bisect_left(w_hu[tw], -th)\n",
    "        p2 = bisect_left(w_hu[tw], -th+C)\n",
    "        print(p1, p2)\n",
    "        if p1 == p2:\n",
    "            print(th-C, tw)\n",
    "            th -= C\n",
    "        else:\n",
    "            if p2 >= len(w_hu[tw]):\n",
    "                print(1, tw)\n",
    "                tw = 1\n",
    "            else:\n",
    "                print(th-, tw)\n",
    "                tw += w_wr[tw][p2] - 1\n"
   ]
  },
  {
   "cell_type": "code",
   "execution_count": 15,
   "id": "5f6de7ac-df5a-4880-9941-54d278d22545",
   "metadata": {},
   "outputs": [
    {
     "data": {
      "text/plain": [
       "([[], [], [2], [5], [1], []],\n",
       " [[], [], [-2], [-5], [-1], []],\n",
       " [[], [-4], [-2], [], [], [-3]],\n",
       " [[], [4], [2], [], [], [3]],\n",
       " 'L')"
      ]
     },
     "execution_count": 15,
     "metadata": {},
     "output_type": "execute_result"
    }
   ],
   "source": [
    "w_wr, w_wl, w_hu, w_hd, R"
   ]
  },
  {
   "cell_type": "code",
   "execution_count": 27,
   "id": "cdb8cace-7e06-40d8-b716-fb9982129473",
   "metadata": {},
   "outputs": [
    {
     "data": {
      "text/plain": [
       "(4, 2, 0, 1)"
      ]
     },
     "execution_count": 27,
     "metadata": {},
     "output_type": "execute_result"
    }
   ],
   "source": [
    "th, tw, p1, p2"
   ]
  },
  {
   "cell_type": "code",
   "execution_count": null,
   "id": "ac836f81-19c8-46c7-bb29-ff3594146bf2",
   "metadata": {},
   "outputs": [],
   "source": []
  }
 ],
 "metadata": {
  "kernelspec": {
   "display_name": "Python 3",
   "language": "python",
   "name": "python3"
  },
  "language_info": {
   "codemirror_mode": {
    "name": "ipython",
    "version": 3
   },
   "file_extension": ".py",
   "mimetype": "text/x-python",
   "name": "python",
   "nbconvert_exporter": "python",
   "pygments_lexer": "ipython3",
   "version": "3.6.13"
  }
 },
 "nbformat": 4,
 "nbformat_minor": 5
}
