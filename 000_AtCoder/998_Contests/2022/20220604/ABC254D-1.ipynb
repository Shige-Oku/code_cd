{
 "cells": [
  {
   "cell_type": "code",
   "execution_count": 1,
   "id": "8da59c9c-1b78-498d-b878-07ecd8468f4e",
   "metadata": {},
   "outputs": [],
   "source": [
    "import sys\n",
    "import numpy as np\n",
    "import math\n",
    "import collections\n",
    "import copy\n",
    "import decimal\n",
    "import itertools\n",
    "import re\n",
    "import bisect\n",
    "import scipy\n",
    "import heapq\n",
    "from collections import deque \n",
    "from functools import reduce\n",
    "from itertools import product\n",
    "from itertools import combinations\n",
    "from functools import lru_cache\n",
    "from scipy.special import comb\n",
    "from numba import njit\n",
    "from bisect import bisect_right\n",
    "from bisect import bisect_left"
   ]
  },
  {
   "cell_type": "code",
   "execution_count": 102,
   "id": "0924be29-8d73-4d78-b177-4b35fdc279fa",
   "metadata": {},
   "outputs": [
    {
     "name": "stdin",
     "output_type": "stream",
     "text": [
      " 254\n"
     ]
    }
   ],
   "source": [
    "N = int(input())"
   ]
  },
  {
   "cell_type": "code",
   "execution_count": null,
   "id": "2343a3f8-8152-4e6e-9235-ef3b8ae66ab6",
   "metadata": {},
   "outputs": [],
   "source": [
    "# 解説を読んで実装したが、WA"
   ]
  },
  {
   "cell_type": "code",
   "execution_count": 103,
   "id": "f85cdae6-4ed1-4a2e-9073-8aca7314f8af",
   "metadata": {},
   "outputs": [],
   "source": [
    "# 約数のリスト作成\n",
    "def get_divisor_list_without_sqrt(number):\n",
    "    number_sqrt = int(math.sqrt(number)) + 1\n",
    "    divisors = []\n",
    "    for i in range(1, int(number_sqrt)):\n",
    "        if number % i == 0:\n",
    "            # 割り切れたので約数\n",
    "            divisors.append(i)\n",
    "            if i ** 2 != number:\n",
    "                divisors.append(number // i)\n",
    "    return divisors\n"
   ]
  },
  {
   "cell_type": "code",
   "execution_count": 107,
   "id": "f675f6ac-2fb1-4749-8911-7657d49e6b57",
   "metadata": {},
   "outputs": [
    {
     "name": "stdout",
     "output_type": "stream",
     "text": [
      "1 1\n",
      "[1]\n",
      "4 3\n",
      "[1, 4, 2]\n",
      "9 3\n",
      "[1, 9, 3]\n",
      "16 5\n",
      "[1, 16, 2, 8, 4]\n",
      "25 3\n",
      "[1, 25, 5]\n",
      "36 9\n",
      "[1, 36, 2, 18, 3, 12, 4, 9, 6]\n",
      "49 3\n",
      "[1, 49, 7]\n",
      "64 7\n",
      "[1, 64, 2, 32, 4, 16, 8]\n",
      "81 5\n",
      "[1, 81, 3, 27, 9]\n",
      "100 9\n",
      "[1, 100, 2, 50, 4, 25, 5, 20, 10]\n",
      "121 3\n",
      "[1, 121, 11]\n",
      "144 15\n",
      "[1, 144, 2, 72, 3, 48, 4, 36, 6, 24, 8, 18, 9, 16, 12]\n",
      "169 3\n",
      "[1, 169, 13]\n",
      "196 9\n",
      "[1, 196, 2, 98, 4, 49, 7, 28, 14]\n",
      "225 9\n",
      "[1, 225, 3, 75, 5, 45, 9, 25, 15]\n"
     ]
    }
   ],
   "source": [
    "ans = 0\n",
    "s = set([i**2 for i in range(1, N+1)])\n",
    "for i in range(1, N+1):\n",
    "    if i in s:\n",
    "        primes = get_divisor_list_without_sqrt(i)\n",
    "        ans += len(primes)\n",
    "        print(i, len(primes))\n",
    "        print(primes)\n",
    "    else:\n",
    "        ans += 1\n"
   ]
  },
  {
   "cell_type": "code",
   "execution_count": 105,
   "id": "d4369e9e-6304-4ec3-b8f2-648506e9ca11",
   "metadata": {},
   "outputs": [
    {
     "name": "stdout",
     "output_type": "stream",
     "text": [
      "326\n"
     ]
    }
   ],
   "source": [
    "print(ans)"
   ]
  },
  {
   "cell_type": "code",
   "execution_count": 106,
   "id": "6a4b2e81-a6d5-46f2-ba68-b6dfda9503b5",
   "metadata": {},
   "outputs": [
    {
     "data": {
      "text/plain": [
       "254"
      ]
     },
     "execution_count": 106,
     "metadata": {},
     "output_type": "execute_result"
    }
   ],
   "source": [
    "len(s)"
   ]
  },
  {
   "cell_type": "code",
   "execution_count": 32,
   "id": "34e4cb18-145a-4cc2-af8d-f15b82b7061b",
   "metadata": {},
   "outputs": [
    {
     "data": {
      "text/plain": [
       "[[2, 1]]"
      ]
     },
     "execution_count": 32,
     "metadata": {},
     "output_type": "execute_result"
    }
   ],
   "source": [
    "y2"
   ]
  },
  {
   "cell_type": "code",
   "execution_count": 71,
   "id": "27389f56-6e51-4d6e-b76e-ac13ba062634",
   "metadata": {},
   "outputs": [
    {
     "data": {
      "text/plain": [
       "816"
      ]
     },
     "execution_count": 71,
     "metadata": {},
     "output_type": "execute_result"
    }
   ],
   "source": [
    "1712-896"
   ]
  },
  {
   "cell_type": "code",
   "execution_count": null,
   "id": "c7a1a153-f251-4811-bb15-bb23217dafa1",
   "metadata": {},
   "outputs": [],
   "source": [
    "# サンプルが合わない"
   ]
  },
  {
   "cell_type": "code",
   "execution_count": 63,
   "id": "45b794ac-6ee3-4e6e-a6b4-5d2c40cfb340",
   "metadata": {},
   "outputs": [],
   "source": [
    "# 素因数分解\n",
    "def factorization(n):\n",
    "    arr = []\n",
    "    temp = n\n",
    "    for i in range(2, int(-(-n**0.5//1))+1):\n",
    "        if temp%i==0:\n",
    "            cnt=0\n",
    "            while temp%i==0:\n",
    "                cnt+=1\n",
    "                temp //= i\n",
    "            arr.append([i, cnt])\n",
    "\n",
    "    if temp!=1:\n",
    "        arr.append([temp, 1])\n",
    "\n",
    "    if arr==[]:\n",
    "        arr.append([n, 1])\n",
    "\n",
    "    return arr\n",
    "\n",
    "# factorization(24) "
   ]
  },
  {
   "cell_type": "code",
   "execution_count": 76,
   "id": "8e66504f-9721-443b-abc7-62a1c262564b",
   "metadata": {},
   "outputs": [],
   "source": [
    "ans = N\n",
    "s = set()\n",
    "for i in range(1, N+1):\n",
    "    y = factorization(i)\n",
    "    if len(y) == 1 and y[0][1] <= 2:\n",
    "        continue\n",
    "    c = 1\n",
    "    for j in range(len(y)):\n",
    "        p, cnt = y[j]\n",
    "        if cnt % 2 == 1:\n",
    "            cnt += 1\n",
    "        c *= p ** cnt\n",
    "    if c in s:\n",
    "        continue\n",
    "    y2 = get_divisor_list_without_sqrt(c)\n",
    "    if len(y2) == 2:\n",
    "        continue\n",
    "    if i in y2:\n",
    "        ans += len(y2) - 3\n",
    "    else:\n",
    "        ans += len(y2) - 2\n",
    "    s.add(c)"
   ]
  },
  {
   "cell_type": "code",
   "execution_count": null,
   "id": "3a3eff72-b011-49a7-b0f0-6d627d77afaf",
   "metadata": {},
   "outputs": [],
   "source": []
  }
 ],
 "metadata": {
  "kernelspec": {
   "display_name": "Python 3",
   "language": "python",
   "name": "python3"
  },
  "language_info": {
   "codemirror_mode": {
    "name": "ipython",
    "version": 3
   },
   "file_extension": ".py",
   "mimetype": "text/x-python",
   "name": "python",
   "nbconvert_exporter": "python",
   "pygments_lexer": "ipython3",
   "version": "3.6.13"
  }
 },
 "nbformat": 4,
 "nbformat_minor": 5
}
