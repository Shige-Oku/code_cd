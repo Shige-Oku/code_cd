{
 "cells": [
  {
   "cell_type": "code",
   "execution_count": 1,
   "id": "ba7672c7-024b-4171-95e8-117bed5d4231",
   "metadata": {},
   "outputs": [],
   "source": [
    "import sys\n",
    "import numpy as np\n",
    "import math\n",
    "import collections\n",
    "import copy\n",
    "import decimal\n",
    "import itertools\n",
    "import re\n",
    "import bisect\n",
    "import scipy\n",
    "import heapq\n",
    "from collections import deque \n",
    "from functools import reduce\n",
    "from itertools import product\n",
    "from itertools import combinations\n",
    "from functools import lru_cache\n",
    "from scipy.special import comb\n",
    "from numba import njit\n",
    "from bisect import bisect_right\n",
    "from bisect import bisect_left"
   ]
  },
  {
   "cell_type": "code",
   "execution_count": 7,
   "id": "3b9e173b-7410-4218-a338-f04c8e960aec",
   "metadata": {},
   "outputs": [
    {
     "name": "stdin",
     "output_type": "stream",
     "text": [
      " 9 44\n"
     ]
    }
   ],
   "source": [
    "H, W = map(int, input().split())"
   ]
  },
  {
   "cell_type": "code",
   "execution_count": 8,
   "id": "5762643f-6ff1-4fa4-afa0-89fa38e27b2c",
   "metadata": {},
   "outputs": [
    {
     "name": "stdin",
     "output_type": "stream",
     "text": [
      " RRDDDDRRRDDDRRRRRRDDDRDDDDRDDRDDDDDDRRDRRRRR\n",
      " RRRDLRDRDLLLLRDRRLLLDDRDLLLRDDDLLLDRRLLLLLDD\n",
      " DRDLRLDRDLRDRLDRLRDDLDDLRDRLDRLDDRLRRLRRRDRR\n",
      " DDLRRDLDDLDDRLDDLDRDDRDDDDRLRRLRDDRRRLDRDRDD\n",
      " RDLRRDLRDLLLLRRDLRDRRDRRRDLRDDLLLLDDDLLLLRDR\n",
      " RDLLLLLRDLRDRLDDLDDRDRRDRLDRRRLDDDLDDDRDDLDR\n",
      " RDLRRDLDDLRDRLRDLDDDLDDRLDRDRDLDRDLDDLRRDLRR\n",
      " RDLDRRLDRLLLLDRDRLLLRDDLLLLLRDRLLLRRRRLLLDDR\n",
      " RRRRDRDDRRRDDRDDDRRRDRDRDRDRRRRRRDDDRDDDDRRR\n"
     ]
    }
   ],
   "source": [
    "Gn = [input() for _ in range(H)]"
   ]
  },
  {
   "cell_type": "code",
   "execution_count": 22,
   "id": "af27cd91-8f3b-4883-b7a8-bf1482f8580e",
   "metadata": {},
   "outputs": [
    {
     "name": "stdout",
     "output_type": "stream",
     "text": [
      "9 5 1\n"
     ]
    }
   ],
   "source": [
    "visit = set()\n",
    "h, w = 0, 0\n",
    "while True:\n",
    "    op = Gn[h][w]\n",
    "#     print(h, w, op)\n",
    "    if (h, w) in visit:\n",
    "        print(-1)\n",
    "        break\n",
    "    visit.add((h, w))\n",
    "    if op == 'D':\n",
    "        if h + 1 >= H:\n",
    "            print(h+1, w+1)\n",
    "            break\n",
    "        else:\n",
    "            h += 1\n",
    "            continue\n",
    "    elif op == 'U':\n",
    "        if h == 0:\n",
    "            print(h+1, w+1)\n",
    "            break\n",
    "        else:\n",
    "            h -= 1\n",
    "            continue\n",
    "    elif op == 'R':\n",
    "        if w + 1 >= W:\n",
    "            print(h+1, w+1)\n",
    "            break\n",
    "        else:\n",
    "            w += 1\n",
    "            continue\n",
    "    else:\n",
    "        if w == 0:\n",
    "            print(h+1, w+1)\n",
    "            break\n",
    "        else:\n",
    "            w -= 1\n",
    "            continue           \n"
   ]
  },
  {
   "cell_type": "code",
   "execution_count": 21,
   "id": "f31c1b65-0f44-4b7c-96f1-bc4006837e25",
   "metadata": {},
   "outputs": [
    {
     "data": {
      "text/plain": [
       "(8, 4)"
      ]
     },
     "execution_count": 21,
     "metadata": {},
     "output_type": "execute_result"
    }
   ],
   "source": [
    "h, w"
   ]
  },
  {
   "cell_type": "code",
   "execution_count": 11,
   "id": "afba7c62-c4c7-4ec7-a301-be87a41dc2b0",
   "metadata": {},
   "outputs": [
    {
     "data": {
      "text/plain": [
       "{(-2, 4), (-2, 5), (-2, 6), (-1, 2), (-1, 3), (-1, 4), (0, 0), (0, 1), (0, 2)}"
      ]
     },
     "execution_count": 11,
     "metadata": {},
     "output_type": "execute_result"
    }
   ],
   "source": [
    "visit"
   ]
  },
  {
   "cell_type": "code",
   "execution_count": null,
   "id": "804c0b3a-1879-421c-b4c0-9faa4e815a76",
   "metadata": {},
   "outputs": [],
   "source": []
  }
 ],
 "metadata": {
  "kernelspec": {
   "display_name": "Python 3",
   "language": "python",
   "name": "python3"
  },
  "language_info": {
   "codemirror_mode": {
    "name": "ipython",
    "version": 3
   },
   "file_extension": ".py",
   "mimetype": "text/x-python",
   "name": "python",
   "nbconvert_exporter": "python",
   "pygments_lexer": "ipython3",
   "version": "3.6.13"
  }
 },
 "nbformat": 4,
 "nbformat_minor": 5
}
