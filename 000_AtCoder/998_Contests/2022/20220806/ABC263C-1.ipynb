{
 "cells": [
  {
   "cell_type": "code",
   "execution_count": 1,
   "id": "83254467-a7b0-43ab-bf9b-2e4fa3a0af95",
   "metadata": {},
   "outputs": [],
   "source": [
    "import sys\n",
    "import numpy as np\n",
    "import math\n",
    "import collections\n",
    "import copy\n",
    "import decimal\n",
    "import itertools\n",
    "import re\n",
    "import bisect\n",
    "import scipy\n",
    "import heapq\n",
    "from collections import deque \n",
    "from functools import reduce\n",
    "from itertools import product\n",
    "from itertools import combinations\n",
    "from functools import lru_cache\n",
    "from scipy.special import comb\n",
    "from numba import njit\n",
    "from bisect import bisect_right\n",
    "from bisect import bisect_left"
   ]
  },
  {
   "cell_type": "code",
   "execution_count": 86,
   "id": "8eece89a-abad-4199-843a-543b81a2202c",
   "metadata": {},
   "outputs": [
    {
     "name": "stdin",
     "output_type": "stream",
     "text": [
      " 3 5\n"
     ]
    }
   ],
   "source": [
    "N, M = map(int, input().split())"
   ]
  },
  {
   "cell_type": "code",
   "execution_count": 87,
   "id": "1a4f6343-bf95-4436-9d76-60f2e915c126",
   "metadata": {},
   "outputs": [],
   "source": [
    "import sys\n",
    "sys.setrecursionlimit(10**7)\n",
    "def DFS(l, s, n):\n",
    "    if n >= N:\n",
    "        ans.add(l)\n",
    "        return\n",
    "    for i in range(s, M+1):\n",
    "        DFS(l + ' ' + str(i), i+1, n+1)\n",
    "    return"
   ]
  },
  {
   "cell_type": "code",
   "execution_count": 88,
   "id": "54cbd4c8-be58-49f6-87d0-29f0905eaefb",
   "metadata": {},
   "outputs": [],
   "source": [
    "ans = set()\n",
    "for i in range(1, M+1):\n",
    "    DFS(str(i), i+1, 1)"
   ]
  },
  {
   "cell_type": "code",
   "execution_count": 89,
   "id": "be378ca7-648b-4ab6-87f4-23a6f5e60179",
   "metadata": {},
   "outputs": [
    {
     "name": "stdout",
     "output_type": "stream",
     "text": [
      "1 2 3\n",
      "1 2 4\n",
      "1 2 5\n",
      "1 3 4\n",
      "1 3 5\n",
      "1 4 5\n",
      "2 3 4\n",
      "2 3 5\n",
      "2 4 5\n",
      "3 4 5\n"
     ]
    }
   ],
   "source": [
    "ans2 = []\n",
    "for an in ans:\n",
    "    ans2.append(list(map(int, an.split())))\n",
    "ans_l = sorted(ans2)\n",
    "for an in ans_l:\n",
    "    print(*an)\n"
   ]
  },
  {
   "cell_type": "code",
   "execution_count": 90,
   "id": "2d0f59e0-87cd-4bfa-958d-236fc560ea0e",
   "metadata": {},
   "outputs": [
    {
     "data": {
      "text/plain": [
       "[[1, 2, 4],\n",
       " [2, 3, 5],\n",
       " [1, 4, 5],\n",
       " [2, 4, 5],\n",
       " [1, 2, 3],\n",
       " [2, 3, 4],\n",
       " [3, 4, 5],\n",
       " [1, 2, 5],\n",
       " [1, 3, 4],\n",
       " [1, 3, 5]]"
      ]
     },
     "execution_count": 90,
     "metadata": {},
     "output_type": "execute_result"
    }
   ],
   "source": [
    "ans2"
   ]
  },
  {
   "cell_type": "code",
   "execution_count": 91,
   "id": "de61280a-c807-4363-b11d-7745d0e835b6",
   "metadata": {},
   "outputs": [],
   "source": [
    "import sys\n",
    "sys.setrecursionlimit(10**3)\n",
    "def DFS(l, s, n):\n",
    "    if n >= N:\n",
    "        ans.add(tuple(l))\n",
    "        return\n",
    "    for i in range(s, M+1):\n",
    "        DFS(l+[i], i+1, n+1)\n",
    "    return"
   ]
  },
  {
   "cell_type": "code",
   "execution_count": 94,
   "id": "8620235f-3e49-4e28-ad7a-c8d097b0d3c9",
   "metadata": {},
   "outputs": [
    {
     "name": "stdout",
     "output_type": "stream",
     "text": [
      "1 2 3\n",
      "1 2 4\n",
      "1 2 5\n",
      "1 3 4\n",
      "1 3 5\n",
      "1 4 5\n",
      "2 3 4\n",
      "2 3 5\n",
      "2 4 5\n",
      "3 4 5\n"
     ]
    }
   ],
   "source": [
    "ans = set()\n",
    "DFS([], 1, 0)\n",
    "for an in sorted(ans):\n",
    "    print(*an)"
   ]
  },
  {
   "cell_type": "code",
   "execution_count": 105,
   "id": "c52c40e5-58c9-46ed-9372-c6c95db5713e",
   "metadata": {},
   "outputs": [],
   "source": [
    "import sys\n",
    "sys.setrecursionlimit(10**7)\n",
    "def DFS(l, s, n):\n",
    "    if n >= N:\n",
    "        ans.append(l)\n",
    "        return\n",
    "    for i in range(s, M+1):\n",
    "        DFS(l+[i], i+1, n+1)\n",
    "    return"
   ]
  },
  {
   "cell_type": "code",
   "execution_count": 106,
   "id": "9ee2c512-80c4-4d65-9f84-14be57bbc5f8",
   "metadata": {},
   "outputs": [
    {
     "name": "stdout",
     "output_type": "stream",
     "text": [
      "1 2 3\n",
      "1 2 4\n",
      "1 2 5\n",
      "1 3 4\n",
      "1 3 5\n",
      "1 4 5\n",
      "2 3 4\n",
      "2 3 5\n",
      "2 4 5\n",
      "3 4 5\n"
     ]
    }
   ],
   "source": [
    "ans = []\n",
    "DFS([], 1, 0)\n",
    "for an in ans:\n",
    "    print(*an)"
   ]
  },
  {
   "cell_type": "code",
   "execution_count": 93,
   "id": "55a1e238-3720-466e-939a-44f7160310f5",
   "metadata": {},
   "outputs": [
    {
     "data": {
      "text/plain": [
       "{(1, 2, 3),\n",
       " (1, 2, 4),\n",
       " (1, 2, 5),\n",
       " (1, 3, 4),\n",
       " (1, 3, 5),\n",
       " (1, 4, 5),\n",
       " (2, 3, 4),\n",
       " (2, 3, 5),\n",
       " (2, 4, 5),\n",
       " (3, 4, 5)}"
      ]
     },
     "execution_count": 93,
     "metadata": {},
     "output_type": "execute_result"
    }
   ],
   "source": [
    "ans"
   ]
  },
  {
   "cell_type": "code",
   "execution_count": 65,
   "id": "55971530-e440-4130-9095-8a6cba62d621",
   "metadata": {},
   "outputs": [],
   "source": [
    "l = [1, 2]"
   ]
  },
  {
   "cell_type": "code",
   "execution_count": 67,
   "id": "1a8a81a5-c30b-4a3e-97f5-2d724782ad53",
   "metadata": {},
   "outputs": [],
   "source": [
    "l += [3]"
   ]
  },
  {
   "cell_type": "code",
   "execution_count": 68,
   "id": "3bcb1dcc-da4e-45a4-8d70-6897cd83e15b",
   "metadata": {},
   "outputs": [
    {
     "data": {
      "text/plain": [
       "[1, 2, 3]"
      ]
     },
     "execution_count": 68,
     "metadata": {},
     "output_type": "execute_result"
    }
   ],
   "source": [
    "l"
   ]
  },
  {
   "cell_type": "code",
   "execution_count": null,
   "id": "211c14ad-be5f-468e-998c-4b21bcc6b34e",
   "metadata": {},
   "outputs": [],
   "source": []
  }
 ],
 "metadata": {
  "kernelspec": {
   "display_name": "Python 3",
   "language": "python",
   "name": "python3"
  },
  "language_info": {
   "codemirror_mode": {
    "name": "ipython",
    "version": 3
   },
   "file_extension": ".py",
   "mimetype": "text/x-python",
   "name": "python",
   "nbconvert_exporter": "python",
   "pygments_lexer": "ipython3",
   "version": "3.6.13"
  }
 },
 "nbformat": 4,
 "nbformat_minor": 5
}
