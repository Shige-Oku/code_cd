{
 "cells": [
  {
   "cell_type": "code",
   "execution_count": 1,
   "id": "9aa00bcf-0596-449d-b5e4-69b6ef127b38",
   "metadata": {},
   "outputs": [],
   "source": [
    "import sys\n",
    "import numpy as np\n",
    "import math\n",
    "import collections\n",
    "import copy\n",
    "import decimal\n",
    "import itertools\n",
    "import re\n",
    "import bisect\n",
    "import scipy\n",
    "import heapq\n",
    "from collections import deque \n",
    "from functools import reduce\n",
    "from itertools import product\n",
    "from itertools import combinations\n",
    "from functools import lru_cache\n",
    "from scipy.special import comb\n",
    "from numba import njit\n",
    "from bisect import bisect_right\n",
    "from bisect import bisect_left"
   ]
  },
  {
   "cell_type": "code",
   "execution_count": 131,
   "id": "cf9d5f7a-db82-45a5-9406-a3234aff15e4",
   "metadata": {},
   "outputs": [
    {
     "name": "stdin",
     "output_type": "stream",
     "text": [
      " 4\n"
     ]
    }
   ],
   "source": [
    "N = int(input())"
   ]
  },
  {
   "cell_type": "code",
   "execution_count": 139,
   "id": "27711464-a85f-43ca-8a6e-92d6dd314082",
   "metadata": {},
   "outputs": [
    {
     "name": "stdin",
     "output_type": "stream",
     "text": [
      " 1 1 2\n"
     ]
    }
   ],
   "source": [
    "Pn = list(map(int, input().split()))"
   ]
  },
  {
   "cell_type": "code",
   "execution_count": 140,
   "id": "8a689a90-8259-4fdf-b7c7-867e0b7edc14",
   "metadata": {},
   "outputs": [],
   "source": [
    "graph = [[] for _ in range(N+1)]\n",
    "for i, P in enumerate(Pn, 2):\n",
    "    graph[i].append(P)"
   ]
  },
  {
   "cell_type": "code",
   "execution_count": 141,
   "id": "4a80a01f-d818-4c76-8e37-05ead632c6b7",
   "metadata": {},
   "outputs": [],
   "source": [
    "from collections import deque \n",
    "q = deque()\n",
    "gen = [-1] * (N+1)\n",
    "gen[N] = 0\n",
    "q.append(N)\n",
    "while q:\n",
    "    c = q.popleft()\n",
    "    for p in graph[c]:\n",
    "        if gen[p] != -1:\n",
    "            continue\n",
    "        gen[p] = gen[c] + 1\n",
    "        q.append(p)"
   ]
  },
  {
   "cell_type": "code",
   "execution_count": 142,
   "id": "2405b134-3396-4d56-8477-bf4dd6b01fef",
   "metadata": {},
   "outputs": [
    {
     "name": "stdout",
     "output_type": "stream",
     "text": [
      "2\n"
     ]
    }
   ],
   "source": [
    "print(gen[1])"
   ]
  },
  {
   "cell_type": "code",
   "execution_count": 143,
   "id": "0086fb6b-ccc0-476c-970a-ae3af2300cb7",
   "metadata": {},
   "outputs": [
    {
     "data": {
      "text/plain": [
       "([[], [], [1], [1], [2]], [2], [-1, 2, 1, -1, 0], deque([]))"
      ]
     },
     "execution_count": 143,
     "metadata": {},
     "output_type": "execute_result"
    }
   ],
   "source": [
    "graph, graph[N], gen, q"
   ]
  },
  {
   "cell_type": "code",
   "execution_count": null,
   "id": "5f80187f-9842-47cd-b395-d58c5ed9a9ee",
   "metadata": {},
   "outputs": [],
   "source": [
    "# 解説を読んで実装"
   ]
  },
  {
   "cell_type": "code",
   "execution_count": 146,
   "id": "520c03d3-0d48-4c30-9430-e8119f8ec41e",
   "metadata": {},
   "outputs": [],
   "source": [
    "ans = 0\n",
    "s = N\n",
    "while s != 1:\n",
    "    ans += 1\n",
    "    s = Pn[s-2]\n"
   ]
  },
  {
   "cell_type": "code",
   "execution_count": 147,
   "id": "5cfcf42d-0c7f-42b7-9d87-e84391f922e3",
   "metadata": {},
   "outputs": [
    {
     "name": "stdout",
     "output_type": "stream",
     "text": [
      "2\n"
     ]
    }
   ],
   "source": [
    "print(ans)"
   ]
  },
  {
   "cell_type": "code",
   "execution_count": null,
   "id": "9d9cf2ab-973c-43f2-8ec1-3bd48cc384d4",
   "metadata": {},
   "outputs": [],
   "source": []
  },
  {
   "cell_type": "code",
   "execution_count": null,
   "id": "7fc851f1-9690-4df0-b49c-dffaa3385c82",
   "metadata": {},
   "outputs": [],
   "source": []
  }
 ],
 "metadata": {
  "kernelspec": {
   "display_name": "Python 3",
   "language": "python",
   "name": "python3"
  },
  "language_info": {
   "codemirror_mode": {
    "name": "ipython",
    "version": 3
   },
   "file_extension": ".py",
   "mimetype": "text/x-python",
   "name": "python",
   "nbconvert_exporter": "python",
   "pygments_lexer": "ipython3",
   "version": "3.6.13"
  }
 },
 "nbformat": 4,
 "nbformat_minor": 5
}
