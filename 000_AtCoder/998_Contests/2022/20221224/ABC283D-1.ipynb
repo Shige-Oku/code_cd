{
 "cells": [
  {
   "cell_type": "code",
   "execution_count": 1,
   "id": "a82fa3e5-e524-4481-9bf0-1b1a52985323",
   "metadata": {},
   "outputs": [],
   "source": [
    "import sys\n",
    "import numpy as np\n",
    "import math\n",
    "import collections\n",
    "import copy\n",
    "import decimal\n",
    "import itertools\n",
    "import re\n",
    "import bisect\n",
    "import scipy\n",
    "import heapq\n",
    "from collections import deque \n",
    "from functools import reduce\n",
    "from itertools import product\n",
    "from itertools import combinations\n",
    "from functools import lru_cache\n",
    "from scipy.special import comb\n",
    "from numba import njit\n",
    "from bisect import bisect_right\n",
    "from bisect import bisect_left"
   ]
  },
  {
   "cell_type": "code",
   "execution_count": 56,
   "id": "abaa49b7-2fb3-4804-baf3-eba03615777b",
   "metadata": {},
   "outputs": [
    {
     "name": "stdin",
     "output_type": "stream",
     "text": [
      " (a(b)ba)\n"
     ]
    }
   ],
   "source": [
    "S = input()"
   ]
  },
  {
   "cell_type": "code",
   "execution_count": null,
   "id": "05f70bd0-5923-490b-b1b0-59436798121c",
   "metadata": {},
   "outputs": [],
   "source": [
    "# 嘘解法"
   ]
  },
  {
   "cell_type": "code",
   "execution_count": 57,
   "id": "9580ab70-bfc8-47cf-8c1c-4f54ef10e67a",
   "metadata": {},
   "outputs": [],
   "source": [
    "flg = False\n",
    "box = set()\n",
    "for i, s in enumerate(S):\n",
    "    if s == '(':\n",
    "        continue\n",
    "    if s ==')':\n",
    "        box = set()\n",
    "        continue\n",
    "    if s in box:\n",
    "        break\n",
    "    box.add(s)\n",
    "else:\n",
    "    flg = True"
   ]
  },
  {
   "cell_type": "code",
   "execution_count": 58,
   "id": "916d3126-662e-4872-973c-003950367972",
   "metadata": {},
   "outputs": [
    {
     "name": "stdout",
     "output_type": "stream",
     "text": [
      "Yes\n"
     ]
    }
   ],
   "source": [
    "print('Yes' if flg else 'No')"
   ]
  },
  {
   "cell_type": "code",
   "execution_count": 59,
   "id": "5a87c0ba-c605-4773-8d18-1d722926751e",
   "metadata": {},
   "outputs": [],
   "source": [
    "from collections import deque\n",
    "box = set()\n",
    "now = set()\n",
    "q = deque()\n",
    "flg = False\n",
    "for s in S:\n",
    "    if s == '(':\n",
    "        q.append(now)\n",
    "        now = set()\n",
    "    elif s == ')':\n",
    "        for d in now:\n",
    "            box.remove(d)\n",
    "        now = q.pop()\n",
    "    else:\n",
    "        if s in box:\n",
    "            break\n",
    "        box.add(s)\n",
    "        now.add(s)\n",
    "else:\n",
    "    flg = True"
   ]
  },
  {
   "cell_type": "code",
   "execution_count": 60,
   "id": "da1d528a-15ae-4158-8849-94b7b8bb2c83",
   "metadata": {},
   "outputs": [
    {
     "name": "stdout",
     "output_type": "stream",
     "text": [
      "No\n"
     ]
    }
   ],
   "source": [
    "print('Yes' if flg else 'No')"
   ]
  },
  {
   "cell_type": "code",
   "execution_count": null,
   "id": "012227d5-eb10-42c0-b922-0396eed84292",
   "metadata": {},
   "outputs": [],
   "source": []
  },
  {
   "cell_type": "code",
   "execution_count": null,
   "id": "34e77512-508a-459f-a62f-24a3b57455c1",
   "metadata": {},
   "outputs": [],
   "source": []
  }
 ],
 "metadata": {
  "kernelspec": {
   "display_name": "Python 3",
   "language": "python",
   "name": "python3"
  },
  "language_info": {
   "codemirror_mode": {
    "name": "ipython",
    "version": 3
   },
   "file_extension": ".py",
   "mimetype": "text/x-python",
   "name": "python",
   "nbconvert_exporter": "python",
   "pygments_lexer": "ipython3",
   "version": "3.6.13"
  }
 },
 "nbformat": 4,
 "nbformat_minor": 5
}
