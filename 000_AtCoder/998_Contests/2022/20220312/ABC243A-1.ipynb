{
 "cells": [
  {
   "cell_type": "code",
   "execution_count": 1,
   "id": "0c9a5df7-bad9-4c9b-abbc-d750f028687c",
   "metadata": {},
   "outputs": [],
   "source": [
    "import sys\n",
    "import numpy as np\n",
    "import math\n",
    "import collections\n",
    "import copy\n",
    "import decimal\n",
    "import itertools\n",
    "import re\n",
    "import bisect\n",
    "import scipy\n",
    "import heapq\n",
    "from collections import deque \n",
    "from functools import reduce\n",
    "from itertools import product\n",
    "from itertools import combinations\n",
    "from functools import lru_cache\n",
    "from scipy.special import comb\n",
    "from numba import njit\n",
    "from bisect import bisect_right\n",
    "from bisect import bisect_left"
   ]
  },
  {
   "cell_type": "code",
   "execution_count": 9,
   "id": "eac7e0db-3571-428e-9e15-cc5100eb4d26",
   "metadata": {},
   "outputs": [
    {
     "name": "stdin",
     "output_type": "stream",
     "text": [
      " 100000 1 1 1\n"
     ]
    }
   ],
   "source": [
    "V, A, B, C = map(int, input().split())"
   ]
  },
  {
   "cell_type": "code",
   "execution_count": 10,
   "id": "4659b00d-2ba2-4e09-8940-f883d4ef15d0",
   "metadata": {},
   "outputs": [],
   "source": [
    "v = V\n",
    "while True:\n",
    "    v -= A\n",
    "    if v < 0:\n",
    "        ans = \"F\"\n",
    "        break\n",
    "    v -= B\n",
    "    if v < 0:\n",
    "        ans = 'M'\n",
    "        break\n",
    "    v -= C\n",
    "    if v < 0:\n",
    "        ans = 'T'\n",
    "        break"
   ]
  },
  {
   "cell_type": "code",
   "execution_count": 11,
   "id": "0a1e46ad-a907-430c-a0ce-bba7fbd3344d",
   "metadata": {},
   "outputs": [
    {
     "name": "stdout",
     "output_type": "stream",
     "text": [
      "M\n"
     ]
    }
   ],
   "source": [
    "print(ans)"
   ]
  },
  {
   "cell_type": "code",
   "execution_count": null,
   "id": "b370e0cf-467f-4c64-8d1c-896ac9164884",
   "metadata": {},
   "outputs": [],
   "source": [
    "# 解説を読んで実装"
   ]
  },
  {
   "cell_type": "code",
   "execution_count": 12,
   "id": "a603ef80-6b77-43ff-8879-b6060d613cc0",
   "metadata": {},
   "outputs": [
    {
     "name": "stdout",
     "output_type": "stream",
     "text": [
      "M\n"
     ]
    }
   ],
   "source": [
    "m = V % (A + B + C)\n",
    "if m < A:\n",
    "    print(\"F\")\n",
    "elif m < (A + B):\n",
    "    print(\"M\")\n",
    "else:\n",
    "    print(\"T\")"
   ]
  },
  {
   "cell_type": "code",
   "execution_count": null,
   "id": "961525ad-2c39-486a-8df2-67693811231c",
   "metadata": {},
   "outputs": [],
   "source": []
  }
 ],
 "metadata": {
  "kernelspec": {
   "display_name": "Python 3",
   "language": "python",
   "name": "python3"
  },
  "language_info": {
   "codemirror_mode": {
    "name": "ipython",
    "version": 3
   },
   "file_extension": ".py",
   "mimetype": "text/x-python",
   "name": "python",
   "nbconvert_exporter": "python",
   "pygments_lexer": "ipython3",
   "version": "3.6.13"
  }
 },
 "nbformat": 4,
 "nbformat_minor": 5
}
