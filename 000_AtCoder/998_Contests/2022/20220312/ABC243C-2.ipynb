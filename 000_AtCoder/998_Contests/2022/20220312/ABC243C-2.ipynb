{
 "cells": [
  {
   "cell_type": "code",
   "execution_count": 29,
   "id": "a56e0a05-9a49-403d-934c-9901935c80cb",
   "metadata": {},
   "outputs": [
    {
     "name": "stdin",
     "output_type": "stream",
     "text": [
      " 3\n"
     ]
    }
   ],
   "source": [
    "N = int(input())"
   ]
  },
  {
   "cell_type": "code",
   "execution_count": 30,
   "id": "93934128-ad38-448a-8e47-15065b153669",
   "metadata": {},
   "outputs": [
    {
     "name": "stdin",
     "output_type": "stream",
     "text": [
      " 2 3\n",
      " 1 1\n",
      " 4 1\n"
     ]
    }
   ],
   "source": [
    "XYn = []\n",
    "for i in range(N):\n",
    "    X, Y = map(int, input().split())\n",
    "    XYn.append((X, Y, i))"
   ]
  },
  {
   "cell_type": "code",
   "execution_count": 31,
   "id": "a3925027-6a16-4adc-a467-98702499968a",
   "metadata": {},
   "outputs": [
    {
     "name": "stdin",
     "output_type": "stream",
     "text": [
      " RRL\n"
     ]
    }
   ],
   "source": [
    "S = input()"
   ]
  },
  {
   "cell_type": "code",
   "execution_count": 32,
   "id": "1bdc7f58-cdc4-4941-9a00-ee80fc412029",
   "metadata": {},
   "outputs": [
    {
     "name": "stdout",
     "output_type": "stream",
     "text": [
      "Yes\n"
     ]
    }
   ],
   "source": [
    "XYn_s = sorted(XYn, key=lambda x:(x[1], x[0]))\n",
    "rmin = 10**10\n",
    "lmax = -1\n",
    "if S[XYn_s[0][2]] == \"R\":\n",
    "    rmin = XYn_s[0][0]\n",
    "else:\n",
    "    lmax = XYn_s[0][0]\n",
    "for i in range(1, N):\n",
    "    x1 = XYn_s[i-1][0]\n",
    "    x2 = XYn_s[i][0]\n",
    "    y1 = XYn_s[i-1][1]\n",
    "    y2 = XYn_s[i][1]\n",
    "    if y1 != y2:\n",
    "        if lmax >= rmin:\n",
    "            print(\"Yes\")\n",
    "            break\n",
    "        rmin = 10**10\n",
    "        lmax = -1\n",
    "    if S[XYn_s[i][2]] == \"R\":\n",
    "        rmin = min(rmin, x2)\n",
    "    else:\n",
    "        lmax = max(lmax, x2)\n",
    "else:\n",
    "    if lmax >= rmin:\n",
    "        print(\"Yes\")\n",
    "    else:\n",
    "        print(\"No\")\n",
    "    "
   ]
  },
  {
   "cell_type": "code",
   "execution_count": 33,
   "id": "acc7eed2-e3ba-479f-af03-7ddf1ce07b8d",
   "metadata": {},
   "outputs": [],
   "source": [
    "# 解説を読んで実装"
   ]
  },
  {
   "cell_type": "code",
   "execution_count": 34,
   "id": "cbd16e12-cc08-467d-8648-9b9d5a9ef3f0",
   "metadata": {},
   "outputs": [],
   "source": [
    "ans = {}\n",
    "for X, Y, i in XYn:\n",
    "    if Y in ans:\n",
    "        x1, x2 = ans[Y]\n",
    "        if S[i] == \"R\":\n",
    "            ans[Y] = [min(x1, X), x2]\n",
    "        else:\n",
    "            ans[Y] = [x1, max(x2, X)]\n",
    "    else:\n",
    "        if S[i] == \"R\":\n",
    "            ans[Y] = [X, -1]\n",
    "        else:\n",
    "            ans[Y] = [10**10, X]\n",
    "            "
   ]
  },
  {
   "cell_type": "code",
   "execution_count": 39,
   "id": "ffdada49-166c-4a4b-99bc-d843a861d2c4",
   "metadata": {},
   "outputs": [
    {
     "name": "stdout",
     "output_type": "stream",
     "text": [
      "Yes\n"
     ]
    }
   ],
   "source": [
    "for x1, x2 in ans.values():\n",
    "    if x1 == 10**10 or x2 == -1:\n",
    "        continue\n",
    "    if x1 < x2:\n",
    "        print(\"Yes\")\n",
    "        break\n",
    "else:\n",
    "    print(\"No\")"
   ]
  },
  {
   "cell_type": "code",
   "execution_count": 23,
   "id": "8d487fa7-34c7-43e0-970d-295a6a1e39c3",
   "metadata": {},
   "outputs": [
    {
     "data": {
      "text/plain": [
       "[(1, 1, 1), (4, 1, 2), (2, 3, 0)]"
      ]
     },
     "execution_count": 23,
     "metadata": {},
     "output_type": "execute_result"
    }
   ],
   "source": [
    "XYn_s"
   ]
  },
  {
   "cell_type": "code",
   "execution_count": 13,
   "id": "d6847c9b-7522-4567-b343-df36bcb17655",
   "metadata": {},
   "outputs": [
    {
     "data": {
      "text/plain": [
       "2"
      ]
     },
     "execution_count": 13,
     "metadata": {},
     "output_type": "execute_result"
    }
   ],
   "source": [
    "i"
   ]
  },
  {
   "cell_type": "code",
   "execution_count": 26,
   "id": "cff52904-1946-4a76-8970-f34d4c0b4098",
   "metadata": {},
   "outputs": [
    {
     "data": {
      "text/plain": [
       "'R'"
      ]
     },
     "execution_count": 26,
     "metadata": {},
     "output_type": "execute_result"
    }
   ],
   "source": [
    " S[XYn_s[0][2]] "
   ]
  },
  {
   "cell_type": "code",
   "execution_count": 36,
   "id": "7a14127b-f8b1-4358-9c2f-1cca8ea485ff",
   "metadata": {},
   "outputs": [
    {
     "data": {
      "text/plain": [
       "{3: [2, -1], 1: [1, 4]}"
      ]
     },
     "execution_count": 36,
     "metadata": {},
     "output_type": "execute_result"
    }
   ],
   "source": [
    "ans"
   ]
  },
  {
   "cell_type": "code",
   "execution_count": null,
   "id": "3bae2246-65ee-40c8-b1b6-d4f3bd52a78a",
   "metadata": {},
   "outputs": [],
   "source": []
  }
 ],
 "metadata": {
  "kernelspec": {
   "display_name": "Python 3",
   "language": "python",
   "name": "python3"
  },
  "language_info": {
   "codemirror_mode": {
    "name": "ipython",
    "version": 3
   },
   "file_extension": ".py",
   "mimetype": "text/x-python",
   "name": "python",
   "nbconvert_exporter": "python",
   "pygments_lexer": "ipython3",
   "version": "3.6.13"
  }
 },
 "nbformat": 4,
 "nbformat_minor": 5
}
