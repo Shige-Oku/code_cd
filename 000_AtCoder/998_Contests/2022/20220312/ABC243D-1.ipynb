{
 "cells": [
  {
   "cell_type": "code",
   "execution_count": null,
   "id": "fdba3a27-1ea4-43d5-96a1-8641d06b5b9c",
   "metadata": {},
   "outputs": [],
   "source": [
    "# 解説を読んで実装"
   ]
  },
  {
   "cell_type": "code",
   "execution_count": 3,
   "id": "e4cac6c5-dfe5-4d6d-984e-570c88718917",
   "metadata": {},
   "outputs": [],
   "source": [
    "import sys\n",
    "import numpy as np\n",
    "import math\n",
    "import collections\n",
    "import copy\n",
    "import decimal\n",
    "import itertools\n",
    "import re\n",
    "import bisect\n",
    "import scipy\n",
    "import heapq\n",
    "from collections import deque \n",
    "from functools import reduce\n",
    "from itertools import product\n",
    "from itertools import combinations\n",
    "from functools import lru_cache\n",
    "from scipy.special import comb\n",
    "from numba import njit\n",
    "from bisect import bisect_right\n",
    "from bisect import bisect_left"
   ]
  },
  {
   "cell_type": "code",
   "execution_count": 36,
   "id": "413dd91c-a9c0-4ea7-8239-8325aed31a9a",
   "metadata": {},
   "outputs": [
    {
     "name": "stdin",
     "output_type": "stream",
     "text": [
      " 3 2\n"
     ]
    }
   ],
   "source": [
    "N, X = map(int, input().split())"
   ]
  },
  {
   "cell_type": "code",
   "execution_count": 37,
   "id": "55ac7197-2de2-4e5e-bdab-c908e8da6868",
   "metadata": {},
   "outputs": [
    {
     "name": "stdin",
     "output_type": "stream",
     "text": [
      " URL\n"
     ]
    }
   ],
   "source": [
    "S = input()"
   ]
  },
  {
   "cell_type": "code",
   "execution_count": 38,
   "id": "6ce2a58e-4588-4ebe-81a3-3488477c8488",
   "metadata": {},
   "outputs": [],
   "source": [
    "q = deque()\n",
    "for s in S:\n",
    "    if len(q) == 0:\n",
    "        q.append(s)\n",
    "        continue\n",
    "    if s == \"U\":\n",
    "        if q[-1] != \"U\":\n",
    "            q.pop()\n",
    "            continue\n",
    "    q.append(s)\n",
    "        "
   ]
  },
  {
   "cell_type": "code",
   "execution_count": 39,
   "id": "010a329f-87eb-481e-bc64-1d5247b1d5f3",
   "metadata": {},
   "outputs": [],
   "source": [
    "ans = X\n",
    "while q:\n",
    "    s = q.popleft()\n",
    "    if s == \"U\":\n",
    "        ans //= 2\n",
    "    elif s == \"L\":\n",
    "        ans *= 2\n",
    "    else:\n",
    "        ans *= 2\n",
    "        ans += 1\n"
   ]
  },
  {
   "cell_type": "code",
   "execution_count": 40,
   "id": "33b3fe08-0ec8-4d49-8442-9cb231407e10",
   "metadata": {},
   "outputs": [
    {
     "name": "stdout",
     "output_type": "stream",
     "text": [
      "6\n"
     ]
    }
   ],
   "source": [
    "print(ans)"
   ]
  },
  {
   "cell_type": "code",
   "execution_count": 26,
   "id": "775ad655-ff6d-440b-aec5-56ce8414c935",
   "metadata": {},
   "outputs": [
    {
     "data": {
      "text/plain": [
       "deque([])"
      ]
     },
     "execution_count": 26,
     "metadata": {},
     "output_type": "execute_result"
    }
   ],
   "source": [
    "q"
   ]
  },
  {
   "cell_type": "code",
   "execution_count": 50,
   "id": "819d28d7-1f96-4dd8-beb3-c814b9a65cca",
   "metadata": {},
   "outputs": [],
   "source": [
    "x = bin(X)[2:]\n",
    "q = deque()\n",
    "for xx in x:\n",
    "    q.append(xx)\n",
    "for s in S:\n",
    "    if s == \"U\":\n",
    "        q.pop()\n",
    "    elif s == \"L\":\n",
    "        q.append(\"0\")\n",
    "    else:\n",
    "        q.append(\"1\")"
   ]
  },
  {
   "cell_type": "code",
   "execution_count": 52,
   "id": "5d0dd1db-1108-46de-8ee4-e5fa63355c41",
   "metadata": {},
   "outputs": [
    {
     "name": "stdout",
     "output_type": "stream",
     "text": [
      "6\n"
     ]
    }
   ],
   "source": [
    "print(int(\"\".join(q), 2))"
   ]
  },
  {
   "cell_type": "code",
   "execution_count": 48,
   "id": "6cd9c47b-1fd7-412f-af31-3cd8c90a8475",
   "metadata": {},
   "outputs": [],
   "source": [
    "x = bin(X)[2:]\n",
    "q = deque()\n",
    "for xx in x:\n",
    "    q.append(xx)"
   ]
  },
  {
   "cell_type": "code",
   "execution_count": 51,
   "id": "85ae5376-4535-4e92-95d2-60e8c818b60c",
   "metadata": {},
   "outputs": [
    {
     "data": {
      "text/plain": [
       "('10', deque(['1', '1', '0']))"
      ]
     },
     "execution_count": 51,
     "metadata": {},
     "output_type": "execute_result"
    }
   ],
   "source": [
    "x, q"
   ]
  },
  {
   "cell_type": "code",
   "execution_count": null,
   "id": "1eaf23cb-dc8d-4330-a9cd-fba3a0cc4a34",
   "metadata": {},
   "outputs": [],
   "source": []
  }
 ],
 "metadata": {
  "kernelspec": {
   "display_name": "Python 3",
   "language": "python",
   "name": "python3"
  },
  "language_info": {
   "codemirror_mode": {
    "name": "ipython",
    "version": 3
   },
   "file_extension": ".py",
   "mimetype": "text/x-python",
   "name": "python",
   "nbconvert_exporter": "python",
   "pygments_lexer": "ipython3",
   "version": "3.6.13"
  }
 },
 "nbformat": 4,
 "nbformat_minor": 5
}
