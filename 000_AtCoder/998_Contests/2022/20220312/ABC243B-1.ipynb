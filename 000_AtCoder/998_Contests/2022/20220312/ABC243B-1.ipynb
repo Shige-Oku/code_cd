{
 "cells": [
  {
   "cell_type": "code",
   "execution_count": 1,
   "id": "6698aba7-15b2-489d-9b0f-78d6446c2903",
   "metadata": {},
   "outputs": [],
   "source": [
    "import sys\n",
    "import numpy as np\n",
    "import math\n",
    "import collections\n",
    "import copy\n",
    "import decimal\n",
    "import itertools\n",
    "import re\n",
    "import bisect\n",
    "import scipy\n",
    "import heapq\n",
    "from collections import deque \n",
    "from functools import reduce\n",
    "from itertools import product\n",
    "from itertools import combinations\n",
    "from functools import lru_cache\n",
    "from scipy.special import comb\n",
    "from numba import njit\n",
    "from bisect import bisect_right\n",
    "from bisect import bisect_left"
   ]
  },
  {
   "cell_type": "code",
   "execution_count": 2,
   "id": "da72e1d3-70de-4a26-947c-60704b05cc47",
   "metadata": {},
   "outputs": [
    {
     "name": "stdin",
     "output_type": "stream",
     "text": [
      " 4\n"
     ]
    }
   ],
   "source": [
    "N = int(input())"
   ]
  },
  {
   "cell_type": "code",
   "execution_count": 3,
   "id": "96507c9f-cefb-4c0d-933a-d3cff2fe7771",
   "metadata": {},
   "outputs": [
    {
     "name": "stdin",
     "output_type": "stream",
     "text": [
      " 1 3 5 2\n"
     ]
    }
   ],
   "source": [
    "An = list(map(int, input().split()))"
   ]
  },
  {
   "cell_type": "code",
   "execution_count": 4,
   "id": "6134da75-203d-49e1-bf0e-e0df9a156f5a",
   "metadata": {},
   "outputs": [
    {
     "name": "stdin",
     "output_type": "stream",
     "text": [
      " 2 3 1 4\n"
     ]
    }
   ],
   "source": [
    "Bn = list(map(int, input().split()))"
   ]
  },
  {
   "cell_type": "code",
   "execution_count": 5,
   "id": "6ef563cd-74b7-47b6-af1e-0f87e5c1b61f",
   "metadata": {},
   "outputs": [],
   "source": [
    "ans1 = 0\n",
    "ans2 = 0\n",
    "sa = set(An)\n",
    "sb = set(Bn)\n",
    "for A, B in zip(An, Bn):\n",
    "    if A == B:\n",
    "        ans1 += 1\n",
    "        continue\n",
    "    if A in sb:\n",
    "        ans2 += 1\n",
    "    if B in sa:\n",
    "        ans2 += 1\n"
   ]
  },
  {
   "cell_type": "code",
   "execution_count": 6,
   "id": "4801a11d-20a3-4ae9-b2a3-b53e506229ce",
   "metadata": {},
   "outputs": [
    {
     "name": "stdout",
     "output_type": "stream",
     "text": [
      "1\n",
      "2\n"
     ]
    }
   ],
   "source": [
    "print(ans1)\n",
    "print(ans2//2)"
   ]
  },
  {
   "cell_type": "code",
   "execution_count": 1,
   "id": "9e0299c9-05d8-44fc-b636-a407a1021223",
   "metadata": {},
   "outputs": [],
   "source": [
    "# 解説を読んで実装"
   ]
  },
  {
   "cell_type": "code",
   "execution_count": 10,
   "id": "05f77b23-8225-4fc5-b906-9c77ea6b51f4",
   "metadata": {},
   "outputs": [],
   "source": [
    "ans1 = 0\n",
    "ans2 = 0\n",
    "for A, B in zip(An, Bn):\n",
    "    if A == B:\n",
    "        ans1 += 1\n",
    "for i in range(N):\n",
    "    for j in range(N):\n",
    "        if i == j:\n",
    "            continue\n",
    "        if An[i] == Bn[j]:\n",
    "            ans2 += 1"
   ]
  },
  {
   "cell_type": "code",
   "execution_count": 11,
   "id": "1396212f-0f8c-431c-a9dd-a8f0b116fecc",
   "metadata": {},
   "outputs": [
    {
     "name": "stdout",
     "output_type": "stream",
     "text": [
      "1\n",
      "2\n"
     ]
    }
   ],
   "source": [
    "print(ans1)\n",
    "print(ans2)"
   ]
  },
  {
   "cell_type": "code",
   "execution_count": 39,
   "id": "79c04922-a87b-45f1-97e3-a7d57ef4a8a3",
   "metadata": {},
   "outputs": [
    {
     "data": {
      "text/plain": [
       "({1, 2, 3, 5}, {1, 2, 3, 4})"
      ]
     },
     "execution_count": 39,
     "metadata": {},
     "output_type": "execute_result"
    }
   ],
   "source": [
    "sa, sb"
   ]
  },
  {
   "cell_type": "code",
   "execution_count": 40,
   "id": "800ed345-eeb7-4d6e-8df9-052cd2ac0d2c",
   "metadata": {},
   "outputs": [
    {
     "data": {
      "text/plain": [
       "(1, 3)"
      ]
     },
     "execution_count": 40,
     "metadata": {},
     "output_type": "execute_result"
    }
   ],
   "source": [
    "ans1, ans2"
   ]
  },
  {
   "cell_type": "code",
   "execution_count": null,
   "id": "e6ecc310-7d82-4c69-8cee-6d01f2af1f28",
   "metadata": {},
   "outputs": [],
   "source": []
  }
 ],
 "metadata": {
  "kernelspec": {
   "display_name": "Python 3",
   "language": "python",
   "name": "python3"
  },
  "language_info": {
   "codemirror_mode": {
    "name": "ipython",
    "version": 3
   },
   "file_extension": ".py",
   "mimetype": "text/x-python",
   "name": "python",
   "nbconvert_exporter": "python",
   "pygments_lexer": "ipython3",
   "version": "3.6.13"
  }
 },
 "nbformat": 4,
 "nbformat_minor": 5
}
