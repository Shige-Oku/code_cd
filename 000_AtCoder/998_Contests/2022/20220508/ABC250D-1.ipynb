{
 "cells": [
  {
   "cell_type": "code",
   "execution_count": 1,
   "id": "875ce733-c9df-42cb-972d-a5a12dfcb515",
   "metadata": {},
   "outputs": [],
   "source": [
    "import sys\n",
    "import numpy as np\n",
    "import math\n",
    "import collections\n",
    "import copy\n",
    "import decimal\n",
    "import itertools\n",
    "import re\n",
    "import bisect\n",
    "import scipy\n",
    "import heapq\n",
    "from collections import deque \n",
    "from functools import reduce\n",
    "from itertools import product\n",
    "from itertools import combinations\n",
    "from functools import lru_cache\n",
    "from scipy.special import comb\n",
    "from numba import njit\n",
    "from bisect import bisect_right\n",
    "from bisect import bisect_left"
   ]
  },
  {
   "cell_type": "code",
   "execution_count": 2,
   "id": "564e6229-91cb-4263-8bdf-6ae5c1268575",
   "metadata": {},
   "outputs": [
    {
     "name": "stdin",
     "output_type": "stream",
     "text": [
      " 250\n"
     ]
    }
   ],
   "source": [
    "N = int(input())"
   ]
  },
  {
   "cell_type": "code",
   "execution_count": 3,
   "id": "2e1b2442-e635-44c4-a7fc-dcd3e9a17363",
   "metadata": {},
   "outputs": [],
   "source": [
    "# 素数のリスト作成（boolで返却）\n",
    "def get_prime_list(number):\n",
    "    is_prime = np.ones(number+1, dtype=bool)\n",
    "    is_prime[:2] = False\n",
    "    num_sqrt = np.sqrt(number)\n",
    "    for i in range(2, int(num_sqrt)+1):\n",
    "        if (is_prime[i]):\n",
    "            is_prime[i*2::i] = False\n",
    "    return is_prime"
   ]
  },
  {
   "cell_type": "code",
   "execution_count": 6,
   "id": "2a33671e-d06c-438c-a1d6-d5c92ef04ec3",
   "metadata": {},
   "outputs": [],
   "source": [
    "# 素数のリスト作成\n",
    "def get_primes(number):\n",
    "    is_prime = [True] * (number+1)\n",
    "    is_prime[:1]  = False, False\n",
    "    sqrt_num = math.ceil(math.sqrt(number))\n",
    "    for i in range(2, sqrt_num):\n",
    "        if (is_prime[i]):\n",
    "            for j in range(i*2, number+1, i):\n",
    "                is_prime[j] = False\n",
    "    primes = []\n",
    "    for i in range(number+1):\n",
    "        if is_prime[i]:\n",
    "            primes.append(i)\n",
    "    return primes"
   ]
  },
  {
   "cell_type": "code",
   "execution_count": 7,
   "id": "f763cca7-00fc-4e9e-9dca-a4188e7729bc",
   "metadata": {},
   "outputs": [],
   "source": [
    "primes = get_primes(10**7)"
   ]
  },
  {
   "cell_type": "code",
   "execution_count": 9,
   "id": "24100a77-d44d-4d02-b105-de0a4e8e3fd6",
   "metadata": {},
   "outputs": [],
   "source": [
    "ans = 0\n",
    "for i, p1 in enumerate(primes):\n",
    "    if p1 > N:\n",
    "        break\n",
    "    for p2 in primes[i+1:]:\n",
    "        if p1 * p2 ** 3 > N:\n",
    "            break\n",
    "        ans += 1"
   ]
  },
  {
   "cell_type": "code",
   "execution_count": 10,
   "id": "002e76d6-85c9-4574-aa30-c037ee87c53c",
   "metadata": {},
   "outputs": [
    {
     "name": "stdout",
     "output_type": "stream",
     "text": [
      "2\n"
     ]
    }
   ],
   "source": [
    "print(ans)"
   ]
  },
  {
   "cell_type": "code",
   "execution_count": null,
   "id": "cfae98fd-a421-4a9d-abb8-82465e5c40df",
   "metadata": {},
   "outputs": [],
   "source": []
  }
 ],
 "metadata": {
  "kernelspec": {
   "display_name": "Python 3",
   "language": "python",
   "name": "python3"
  },
  "language_info": {
   "codemirror_mode": {
    "name": "ipython",
    "version": 3
   },
   "file_extension": ".py",
   "mimetype": "text/x-python",
   "name": "python",
   "nbconvert_exporter": "python",
   "pygments_lexer": "ipython3",
   "version": "3.6.13"
  }
 },
 "nbformat": 4,
 "nbformat_minor": 5
}
