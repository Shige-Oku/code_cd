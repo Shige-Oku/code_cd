{
 "cells": [
  {
   "cell_type": "code",
   "execution_count": 1,
   "id": "5561632b-21fd-46a5-b64d-181758b52108",
   "metadata": {},
   "outputs": [],
   "source": [
    "import sys\n",
    "import numpy as np\n",
    "import math\n",
    "import collections\n",
    "import copy\n",
    "import decimal\n",
    "import itertools\n",
    "import re\n",
    "import bisect\n",
    "import scipy\n",
    "import heapq\n",
    "from collections import deque \n",
    "from functools import reduce\n",
    "from itertools import product\n",
    "from itertools import combinations\n",
    "from functools import lru_cache\n",
    "from scipy.special import comb\n",
    "from numba import njit\n",
    "from bisect import bisect_right\n",
    "from bisect import bisect_left"
   ]
  },
  {
   "cell_type": "code",
   "execution_count": 2,
   "id": "fd0182ee-4bf2-4819-91a2-9c1d76860b77",
   "metadata": {},
   "outputs": [
    {
     "name": "stdin",
     "output_type": "stream",
     "text": [
      " 4 3 2\n"
     ]
    }
   ],
   "source": [
    "N, A, B = map(int, input().split())"
   ]
  },
  {
   "cell_type": "code",
   "execution_count": 3,
   "id": "254348ab-a37b-45e8-8938-a693155fc10f",
   "metadata": {},
   "outputs": [],
   "source": [
    "s1, s2 = \"\", \"\"\n",
    "for i in range(N):\n",
    "    if i % 2 == 0:\n",
    "        s1 += '.' * 2\n",
    "        s2 += '#' * 2\n",
    "    else:\n",
    "        s1 += '#' * 2\n",
    "        s2 += '.' * 2\n",
    "  "
   ]
  },
  {
   "cell_type": "code",
   "execution_count": 7,
   "id": "df370e15-5a5f-4fde-830c-841f6babdeac",
   "metadata": {},
   "outputs": [
    {
     "name": "stdout",
     "output_type": "stream",
     "text": [
      "..##..##\n",
      "..##..##\n",
      "..##..##\n",
      "##..##..\n",
      "##..##..\n",
      "##..##..\n",
      "..##..##\n",
      "..##..##\n",
      "..##..##\n",
      "##..##..\n",
      "##..##..\n",
      "##..##..\n"
     ]
    }
   ],
   "source": [
    "for i in range(N):\n",
    "    if i % 2 == 0:\n",
    "        s = s1\n",
    "    else:\n",
    "        s = s2\n",
    "    for _ in range(A):\n",
    "        print(s)"
   ]
  },
  {
   "cell_type": "code",
   "execution_count": 4,
   "id": "0b0a16c9-97db-4f4c-ae2e-a427baf5b326",
   "metadata": {},
   "outputs": [
    {
     "data": {
      "text/plain": [
       "('..##..##', '##..##..')"
      ]
     },
     "execution_count": 4,
     "metadata": {},
     "output_type": "execute_result"
    }
   ],
   "source": [
    "s1, s2"
   ]
  },
  {
   "cell_type": "code",
   "execution_count": null,
   "id": "577dbdc9-098d-41e1-a2b8-427e6b908e03",
   "metadata": {},
   "outputs": [],
   "source": []
  }
 ],
 "metadata": {
  "kernelspec": {
   "display_name": "Python 3",
   "language": "python",
   "name": "python3"
  },
  "language_info": {
   "codemirror_mode": {
    "name": "ipython",
    "version": 3
   },
   "file_extension": ".py",
   "mimetype": "text/x-python",
   "name": "python",
   "nbconvert_exporter": "python",
   "pygments_lexer": "ipython3",
   "version": "3.6.13"
  }
 },
 "nbformat": 4,
 "nbformat_minor": 5
}
