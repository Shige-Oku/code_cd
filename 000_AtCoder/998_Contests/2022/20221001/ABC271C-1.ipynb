{
 "cells": [
  {
   "cell_type": "code",
   "execution_count": 1,
   "id": "740dcead-f7f9-48f4-847a-8927cdeb5a90",
   "metadata": {},
   "outputs": [],
   "source": [
    "import sys\n",
    "import numpy as np\n",
    "import math\n",
    "import collections\n",
    "import copy\n",
    "import decimal\n",
    "import itertools\n",
    "import re\n",
    "import bisect\n",
    "import scipy\n",
    "import heapq\n",
    "from collections import deque \n",
    "from functools import reduce\n",
    "from itertools import product\n",
    "from itertools import combinations\n",
    "from functools import lru_cache\n",
    "from scipy.special import comb\n",
    "from numba import njit\n",
    "from bisect import bisect_right\n",
    "from bisect import bisect_left"
   ]
  },
  {
   "cell_type": "code",
   "execution_count": 316,
   "id": "4d870df0-4aaf-44c3-8908-8ec5f30d9114",
   "metadata": {},
   "outputs": [
    {
     "name": "stdin",
     "output_type": "stream",
     "text": [
      " 3\n"
     ]
    }
   ],
   "source": [
    "N = int(input())"
   ]
  },
  {
   "cell_type": "code",
   "execution_count": 317,
   "id": "b4b4bf19-1df6-49dd-a487-52981c89281b",
   "metadata": {},
   "outputs": [
    {
     "name": "stdin",
     "output_type": "stream",
     "text": [
      " 1 1 3\n"
     ]
    }
   ],
   "source": [
    "An = list(map(int, input().split()))"
   ]
  },
  {
   "cell_type": "code",
   "execution_count": 318,
   "id": "15f14536-2466-4f14-a3c4-31943daf6f9f",
   "metadata": {},
   "outputs": [],
   "source": [
    "from collections import Counter\n",
    "An_c = Counter(An)\n",
    "An_s = sorted(An_c.items())\n",
    "m = N - len(An_s)\n"
   ]
  },
  {
   "cell_type": "code",
   "execution_count": 319,
   "id": "af06e1c5-24b8-4003-b268-0a3deb4b68d6",
   "metadata": {},
   "outputs": [],
   "source": [
    "ans = []\n",
    "d = 0\n",
    "for i in range(1, N+1):\n",
    "    if d >= N:\n",
    "        break\n",
    "    if i in An_c:\n",
    "        ans.append(i)\n",
    "        d += 1\n",
    "        continue\n",
    "    if m > 1:\n",
    "        ans.append(i)\n",
    "        m -= 2\n",
    "        d += 2\n",
    "        continue\n",
    "    if N - d - 2 < 0:\n",
    "        break\n",
    "    ans.append(i)\n",
    "    d += 2\n",
    "    m = 0\n"
   ]
  },
  {
   "cell_type": "code",
   "execution_count": 320,
   "id": "4f870deb-69d4-4640-89d9-5374824a67dc",
   "metadata": {},
   "outputs": [
    {
     "name": "stdout",
     "output_type": "stream",
     "text": [
      "2\n"
     ]
    }
   ],
   "source": [
    "print(len(ans))"
   ]
  },
  {
   "cell_type": "code",
   "execution_count": 248,
   "id": "47c39118-9922-427c-a98c-3cdb4244275b",
   "metadata": {},
   "outputs": [
    {
     "data": {
      "text/plain": [
       "[1, 2, 3, 4, 5, 6]"
      ]
     },
     "execution_count": 248,
     "metadata": {},
     "output_type": "execute_result"
    }
   ],
   "source": [
    "ans"
   ]
  },
  {
   "cell_type": "code",
   "execution_count": null,
   "id": "db4e9c2d-37c6-4c10-8ded-89eda79c1b9f",
   "metadata": {},
   "outputs": [],
   "source": [
    "An = list(map(int, input().split()))"
   ]
  },
  {
   "cell_type": "code",
   "execution_count": 202,
   "id": "2d5c1f4f-e3d4-485c-b65d-d6f5d2ad4ba2",
   "metadata": {},
   "outputs": [
    {
     "data": {
      "text/plain": [
       "(0, 3)"
      ]
     },
     "execution_count": 202,
     "metadata": {},
     "output_type": "execute_result"
    }
   ],
   "source": [
    "m, d"
   ]
  },
  {
   "cell_type": "code",
   "execution_count": 203,
   "id": "541900df-1dce-44cd-a571-12e9e903240f",
   "metadata": {},
   "outputs": [
    {
     "data": {
      "text/plain": [
       "[1, 2, 3]"
      ]
     },
     "execution_count": 203,
     "metadata": {},
     "output_type": "execute_result"
    }
   ],
   "source": [
    "ans"
   ]
  },
  {
   "cell_type": "code",
   "execution_count": 107,
   "id": "7737d01b-f278-4190-b5c1-3291c39e2aee",
   "metadata": {},
   "outputs": [],
   "source": [
    "ans = []\n",
    "d = 0\n",
    "for i in range(1, N+1):\n",
    "    if i in An_c:\n",
    "        ans.append(i)\n",
    "        continue\n",
    "    if m > 0:\n",
    "        ans.append(i)\n",
    "        m -= 1\n",
    "        d += 2\n",
    "        continue\n",
    "    if N - d - 2  < i:\n",
    "        break\n",
    "    ans.append(i)\n",
    "    d += 2"
   ]
  }
 ],
 "metadata": {
  "kernelspec": {
   "display_name": "Python 3",
   "language": "python",
   "name": "python3"
  },
  "language_info": {
   "codemirror_mode": {
    "name": "ipython",
    "version": 3
   },
   "file_extension": ".py",
   "mimetype": "text/x-python",
   "name": "python",
   "nbconvert_exporter": "python",
   "pygments_lexer": "ipython3",
   "version": "3.6.13"
  }
 },
 "nbformat": 4,
 "nbformat_minor": 5
}
