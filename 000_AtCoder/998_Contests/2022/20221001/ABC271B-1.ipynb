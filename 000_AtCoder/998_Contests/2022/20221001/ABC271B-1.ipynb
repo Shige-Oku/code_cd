{
 "cells": [
  {
   "cell_type": "code",
   "execution_count": 1,
   "id": "7ebd32db-44ec-4b13-be78-0ade7d22780e",
   "metadata": {},
   "outputs": [],
   "source": [
    "import sys\n",
    "import numpy as np\n",
    "import math\n",
    "import collections\n",
    "import copy\n",
    "import decimal\n",
    "import itertools\n",
    "import re\n",
    "import bisect\n",
    "import scipy\n",
    "import heapq\n",
    "from collections import deque \n",
    "from functools import reduce\n",
    "from itertools import product\n",
    "from itertools import combinations\n",
    "from functools import lru_cache\n",
    "from scipy.special import comb\n",
    "from numba import njit\n",
    "from bisect import bisect_right\n",
    "from bisect import bisect_left"
   ]
  },
  {
   "cell_type": "code",
   "execution_count": 2,
   "id": "eb4e4ad3-7dfa-436f-a97a-2d58f41ceb03",
   "metadata": {},
   "outputs": [
    {
     "name": "stdin",
     "output_type": "stream",
     "text": [
      " 2 2\n"
     ]
    }
   ],
   "source": [
    "N, Q = map(int, input().split())"
   ]
  },
  {
   "cell_type": "code",
   "execution_count": 8,
   "id": "a37e5bf5-8e3c-4c49-8151-927186f62c30",
   "metadata": {},
   "outputs": [
    {
     "name": "stdin",
     "output_type": "stream",
     "text": [
      " 3 1 4 7\n",
      " 2 5 9\n"
     ]
    }
   ],
   "source": [
    "LAn = [list(map(int, input().split())) for _ in range(N)]"
   ]
  },
  {
   "cell_type": "code",
   "execution_count": 4,
   "id": "bb8002ad-6371-4708-b7dc-fb6bd02e573d",
   "metadata": {},
   "outputs": [
    {
     "name": "stdin",
     "output_type": "stream",
     "text": [
      " 1 3\n",
      " 2 1\n"
     ]
    }
   ],
   "source": [
    "STn = [list(map(int, input().split())) for _ in range(Q)]"
   ]
  },
  {
   "cell_type": "code",
   "execution_count": 9,
   "id": "700cf9e3-c945-47be-b8c1-1f1576b70f66",
   "metadata": {},
   "outputs": [
    {
     "name": "stdout",
     "output_type": "stream",
     "text": [
      "7\n",
      "5\n"
     ]
    }
   ],
   "source": [
    "for S, T in STn:\n",
    "    print(LAn[S-1][T])"
   ]
  },
  {
   "cell_type": "code",
   "execution_count": null,
   "id": "ecac3182-4ab3-4627-8e13-aec9b7b5c6b9",
   "metadata": {},
   "outputs": [],
   "source": []
  }
 ],
 "metadata": {
  "kernelspec": {
   "display_name": "Python 3",
   "language": "python",
   "name": "python3"
  },
  "language_info": {
   "codemirror_mode": {
    "name": "ipython",
    "version": 3
   },
   "file_extension": ".py",
   "mimetype": "text/x-python",
   "name": "python",
   "nbconvert_exporter": "python",
   "pygments_lexer": "ipython3",
   "version": "3.6.13"
  }
 },
 "nbformat": 4,
 "nbformat_minor": 5
}
