{
 "cells": [
  {
   "cell_type": "code",
   "execution_count": 1,
   "id": "71a0db36-6cd2-4997-9bae-b8f4921f875c",
   "metadata": {},
   "outputs": [],
   "source": [
    "import sys\n",
    "import numpy as np\n",
    "import math\n",
    "import collections\n",
    "import copy\n",
    "import decimal\n",
    "import itertools\n",
    "import re\n",
    "import bisect\n",
    "import scipy\n",
    "import heapq\n",
    "from collections import deque \n",
    "from functools import reduce\n",
    "from itertools import product\n",
    "from itertools import combinations\n",
    "from functools import lru_cache\n",
    "from scipy.special import comb\n",
    "from numba import njit\n",
    "from bisect import bisect_right\n",
    "from bisect import bisect_left"
   ]
  },
  {
   "cell_type": "code",
   "execution_count": 8,
   "id": "fc70eabf-d524-4573-b963-8d311ed11249",
   "metadata": {},
   "outputs": [
    {
     "name": "stdin",
     "output_type": "stream",
     "text": [
      " 1 10\n"
     ]
    }
   ],
   "source": [
    "H, W = map(int, input().split())"
   ]
  },
  {
   "cell_type": "code",
   "execution_count": 9,
   "id": "ccb73e65-b012-48bf-a4fc-94255475a006",
   "metadata": {},
   "outputs": [
    {
     "name": "stdin",
     "output_type": "stream",
     "text": [
      " ..........\n"
     ]
    }
   ],
   "source": [
    "Sn = [input() for _ in range(H)]"
   ]
  },
  {
   "cell_type": "code",
   "execution_count": 10,
   "id": "3e0a1bee-ca7d-4bf4-bd77-3771db9bb26f",
   "metadata": {},
   "outputs": [],
   "source": [
    "cnt = 0\n",
    "for S in Sn:\n",
    "    cnt += S.count('#')"
   ]
  },
  {
   "cell_type": "code",
   "execution_count": 11,
   "id": "c96d70e9-0aac-427e-af01-1e3573d3f16b",
   "metadata": {},
   "outputs": [
    {
     "name": "stdout",
     "output_type": "stream",
     "text": [
      "0\n"
     ]
    }
   ],
   "source": [
    "print(cnt)"
   ]
  },
  {
   "cell_type": "code",
   "execution_count": null,
   "id": "220e0960-fc6e-40c1-b0ab-9b7b9564affa",
   "metadata": {},
   "outputs": [],
   "source": []
  }
 ],
 "metadata": {
  "kernelspec": {
   "display_name": "Python 3",
   "language": "python",
   "name": "python3"
  },
  "language_info": {
   "codemirror_mode": {
    "name": "ipython",
    "version": 3
   },
   "file_extension": ".py",
   "mimetype": "text/x-python",
   "name": "python",
   "nbconvert_exporter": "python",
   "pygments_lexer": "ipython3",
   "version": "3.6.13"
  }
 },
 "nbformat": 4,
 "nbformat_minor": 5
}
