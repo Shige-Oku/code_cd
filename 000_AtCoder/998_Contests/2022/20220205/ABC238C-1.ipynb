{
 "cells": [
  {
   "cell_type": "code",
   "execution_count": 1,
   "id": "3ff0d784-1c7b-41b3-804b-02c141c541e6",
   "metadata": {},
   "outputs": [],
   "source": [
    "import sys\n",
    "import numpy as np\n",
    "import math\n",
    "import collections\n",
    "import copy\n",
    "import decimal\n",
    "import itertools\n",
    "import re\n",
    "import bisect\n",
    "import scipy\n",
    "import heapq\n",
    "import array\n",
    "from collections import deque\n",
    "from functools import reduce\n",
    "from itertools import product\n",
    "from itertools import combinations\n",
    "from itertools import chain\n",
    "from functools import lru_cache\n",
    "from scipy.special import comb\n",
    "from numba import njit\n",
    "from bisect import bisect_right\n",
    "from bisect import bisect_left"
   ]
  },
  {
   "cell_type": "code",
   "execution_count": 51,
   "id": "d76bff7e-f7e6-447d-b21e-1eefec2bac7f",
   "metadata": {},
   "outputs": [
    {
     "name": "stdin",
     "output_type": "stream",
     "text": [
      " 999999999999999999\n"
     ]
    }
   ],
   "source": [
    "N = input()"
   ]
  },
  {
   "cell_type": "code",
   "execution_count": 52,
   "id": "bb4b1529-539c-4462-a903-7ac1e5efbdc0",
   "metadata": {},
   "outputs": [],
   "source": [
    "n = N[::-1]"
   ]
  },
  {
   "cell_type": "code",
   "execution_count": 56,
   "id": "5a32c5c7-89be-46e5-a0dc-4badec2a858b",
   "metadata": {},
   "outputs": [],
   "source": [
    "ans = 0\n",
    "for i in range(len(N)):\n",
    "    s = 10**i\n",
    "    if i < len(N)-1:\n",
    "        e = 10**(i+1) - 1\n",
    "    else:\n",
    "        nn = n[:i+1]\n",
    "        nn = nn[::-1]\n",
    "        e = int(nn)\n",
    "    if i == 0:\n",
    "        nu = s + e\n",
    "    else:\n",
    "        nu = (s - 10**i + 1) + (e - 10**i + 1)\n",
    "    nu *= e - s + 1\n",
    "    nu //= 2\n",
    "    ans += nu\n",
    " "
   ]
  },
  {
   "cell_type": "code",
   "execution_count": 55,
   "id": "546772af-9c94-4a5b-9e4a-2409b80514ae",
   "metadata": {},
   "outputs": [
    {
     "name": "stdout",
     "output_type": "stream",
     "text": [
      "762062362\n"
     ]
    }
   ],
   "source": [
    "print(ans%998244353)"
   ]
  },
  {
   "cell_type": "code",
   "execution_count": 38,
   "id": "bcc1eb0e-f0bb-41c0-8101-90e2859a554d",
   "metadata": {},
   "outputs": [
    {
     "data": {
      "text/plain": [
       "('16', 10, 16, -609)"
      ]
     },
     "execution_count": 38,
     "metadata": {},
     "output_type": "execute_result"
    }
   ],
   "source": [
    "nn, s, e, nu"
   ]
  },
  {
   "cell_type": "code",
   "execution_count": null,
   "id": "21f75f4d-4005-4399-87b5-ebbdc67063fa",
   "metadata": {},
   "outputs": [],
   "source": []
  }
 ],
 "metadata": {
  "kernelspec": {
   "display_name": "Python 3",
   "language": "python",
   "name": "python3"
  },
  "language_info": {
   "codemirror_mode": {
    "name": "ipython",
    "version": 3
   },
   "file_extension": ".py",
   "mimetype": "text/x-python",
   "name": "python",
   "nbconvert_exporter": "python",
   "pygments_lexer": "ipython3",
   "version": "3.6.13"
  }
 },
 "nbformat": 4,
 "nbformat_minor": 5
}
