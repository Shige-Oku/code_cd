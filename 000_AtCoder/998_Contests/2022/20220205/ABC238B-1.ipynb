{
 "cells": [
  {
   "cell_type": "code",
   "execution_count": 1,
   "id": "54d79122-9b42-4a3c-a9fe-0d34179604c5",
   "metadata": {},
   "outputs": [],
   "source": [
    "import sys\n",
    "import numpy as np\n",
    "import math\n",
    "import collections\n",
    "import copy\n",
    "import decimal\n",
    "import itertools\n",
    "import re\n",
    "import bisect\n",
    "import scipy\n",
    "import heapq\n",
    "import array\n",
    "from collections import deque\n",
    "from functools import reduce\n",
    "from itertools import product\n",
    "from itertools import combinations\n",
    "from itertools import chain\n",
    "from functools import lru_cache\n",
    "from scipy.special import comb\n",
    "from numba import njit\n",
    "from bisect import bisect_right\n",
    "from bisect import bisect_left"
   ]
  },
  {
   "cell_type": "code",
   "execution_count": 41,
   "id": "c48498a0-ceed-49f5-8409-5fbf79333017",
   "metadata": {},
   "outputs": [
    {
     "name": "stdin",
     "output_type": "stream",
     "text": [
      " 10\n"
     ]
    }
   ],
   "source": [
    "N = int(input())"
   ]
  },
  {
   "cell_type": "code",
   "execution_count": 42,
   "id": "b63af431-5b3c-4778-ab4a-37400602bc47",
   "metadata": {},
   "outputs": [
    {
     "name": "stdin",
     "output_type": "stream",
     "text": [
      " 215 137 320 339 341 41 44 18 241 149\n"
     ]
    }
   ],
   "source": [
    "An = list(map(int, input().split()))"
   ]
  },
  {
   "cell_type": "code",
   "execution_count": 43,
   "id": "44fb3509-3a41-40f5-98ad-22b80319a831",
   "metadata": {},
   "outputs": [],
   "source": [
    "ans = [0] * 361\n",
    "ans[0] = 1\n",
    "k = 0\n",
    "for A in An:\n",
    "    k += A\n",
    "    k %= 360\n",
    "    ans[k] = 1\n"
   ]
  },
  {
   "cell_type": "code",
   "execution_count": 44,
   "id": "34d9c205-5a72-4d22-8139-33bc3dfd4386",
   "metadata": {},
   "outputs": [],
   "source": [
    "b = 0\n",
    "an = 0\n",
    "for i in range(361):\n",
    "    if ans[i] == 0:\n",
    "        continue\n",
    "    an = max(an, i-b)\n",
    "    b = i\n",
    "else:\n",
    "    an = max(an, i-b)"
   ]
  },
  {
   "cell_type": "code",
   "execution_count": 45,
   "id": "b4dcd99d-3006-4fea-9f88-b95ab407a287",
   "metadata": {},
   "outputs": [
    {
     "name": "stdout",
     "output_type": "stream",
     "text": [
      "170\n"
     ]
    }
   ],
   "source": [
    "print(an)"
   ]
  },
  {
   "cell_type": "code",
   "execution_count": 32,
   "id": "7c5680e1-b85f-4be3-b49c-f61c9d3a10ba",
   "metadata": {},
   "outputs": [
    {
     "data": {
      "text/plain": [
       "([1, 1, 0, 0, 0], [0, 0])"
      ]
     },
     "execution_count": 32,
     "metadata": {},
     "output_type": "execute_result"
    }
   ],
   "source": [
    "ans[:5], ans[89:91]"
   ]
  },
  {
   "cell_type": "code",
   "execution_count": null,
   "id": "eb51df47-7456-44c4-97b8-d42134903819",
   "metadata": {},
   "outputs": [],
   "source": []
  }
 ],
 "metadata": {
  "kernelspec": {
   "display_name": "Python 3",
   "language": "python",
   "name": "python3"
  },
  "language_info": {
   "codemirror_mode": {
    "name": "ipython",
    "version": 3
   },
   "file_extension": ".py",
   "mimetype": "text/x-python",
   "name": "python",
   "nbconvert_exporter": "python",
   "pygments_lexer": "ipython3",
   "version": "3.6.13"
  }
 },
 "nbformat": 4,
 "nbformat_minor": 5
}
