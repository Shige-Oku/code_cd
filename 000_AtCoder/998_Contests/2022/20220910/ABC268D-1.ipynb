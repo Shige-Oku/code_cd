{
 "cells": [
  {
   "cell_type": "code",
   "execution_count": 1,
   "id": "3596e455-451f-4712-8f33-12e854c8a10e",
   "metadata": {},
   "outputs": [],
   "source": [
    "import sys\n",
    "import numpy as np\n",
    "import math\n",
    "import collections\n",
    "import copy\n",
    "import decimal\n",
    "import itertools\n",
    "import re\n",
    "import bisect\n",
    "import scipy\n",
    "import heapq\n",
    "from collections import deque \n",
    "from functools import reduce\n",
    "from itertools import product\n",
    "from itertools import combinations\n",
    "from functools import lru_cache\n",
    "from scipy.special import comb\n",
    "from numba import njit\n",
    "from bisect import bisect_right\n",
    "from bisect import bisect_left"
   ]
  },
  {
   "cell_type": "code",
   "execution_count": 2,
   "id": "27f4dd70-63d1-4ddd-b342-6df887f7bd53",
   "metadata": {},
   "outputs": [
    {
     "name": "stdin",
     "output_type": "stream",
     "text": [
      " 1 1\n"
     ]
    }
   ],
   "source": [
    "N, M = map(int, input().split())"
   ]
  },
  {
   "cell_type": "code",
   "execution_count": 3,
   "id": "6729bc1d-e2b0-4d15-aef1-7bdd5bce8a55",
   "metadata": {},
   "outputs": [
    {
     "name": "stdin",
     "output_type": "stream",
     "text": [
      " chokudai\n"
     ]
    }
   ],
   "source": [
    "Sn = [input() for _ in range(N)]"
   ]
  },
  {
   "cell_type": "code",
   "execution_count": 14,
   "id": "132c61e0-0b61-473d-aeab-07c993127abb",
   "metadata": {},
   "outputs": [
    {
     "name": "stdin",
     "output_type": "stream",
     "text": [
      " chokudai\n"
     ]
    }
   ],
   "source": [
    "Tn = {input() for _ in range(N)}"
   ]
  },
  {
   "cell_type": "code",
   "execution_count": 24,
   "id": "3f03de69-c045-4c1a-be86-d64915ef5eb3",
   "metadata": {},
   "outputs": [],
   "source": [
    "import sys\n",
    "sys.setrecursionlimit(10**6)\n",
    "def DFS(na, l):\n",
    "    if na not in Tn2:\n",
    "        return na\n",
    "    for i in range(N):\n",
    "        if i in l:\n",
    "            continue\n",
    "        \n",
    "    \n",
    "    return ret"
   ]
  },
  {
   "cell_type": "code",
   "execution_count": 25,
   "id": "52de875a-b08e-4db2-97a1-bb3579d86d48",
   "metadata": {},
   "outputs": [],
   "source": [
    "Tn2 = set()\n",
    "for T in Tn:\n",
    "    for S in Sn:\n",
    "        if T.count(S) > 0:\n",
    "            Tn2.add(T)\n",
    "            break"
   ]
  },
  {
   "cell_type": "code",
   "execution_count": 26,
   "id": "7c73e208-228c-46b1-879c-95d379cfcab0",
   "metadata": {},
   "outputs": [
    {
     "name": "stdout",
     "output_type": "stream",
     "text": [
      "-1\n"
     ]
    }
   ],
   "source": [
    "for i, S in enumerate(Sn):\n",
    "    if S not in Tn2:\n",
    "        print(S)\n",
    "        break\n",
    "    un = DFS(S, [i, ])\n",
    "    if un != '':\n",
    "        print(un)\n",
    "        break\n",
    "else:\n",
    "    print(-1)"
   ]
  },
  {
   "cell_type": "code",
   "execution_count": 12,
   "id": "efeeffca-cb94-4f05-9794-e773f691a368",
   "metadata": {},
   "outputs": [],
   "source": [
    "flg = False\n",
    "for T in Tn:\n",
    "    for S in Sn:\n",
    "        if T.count(S) > 0:\n",
    "            break\n",
    "    else:\n",
    "        flg = True\n"
   ]
  },
  {
   "cell_type": "code",
   "execution_count": null,
   "id": "91178398-02b9-4d51-965c-4a44864bc0b7",
   "metadata": {},
   "outputs": [],
   "source": [
    "print()"
   ]
  },
  {
   "cell_type": "code",
   "execution_count": null,
   "id": "b6e21327-d83c-4224-bf9a-9c9763a3880e",
   "metadata": {},
   "outputs": [],
   "source": []
  },
  {
   "cell_type": "code",
   "execution_count": 19,
   "id": "36987f02-4d1d-4f07-b076-296c43ff0ada",
   "metadata": {},
   "outputs": [
    {
     "data": {
      "text/plain": [
       "(set, {'chokudai'})"
      ]
     },
     "execution_count": 19,
     "metadata": {},
     "output_type": "execute_result"
    }
   ],
   "source": [
    "type(Tn), Tn2"
   ]
  },
  {
   "cell_type": "code",
   "execution_count": 5,
   "id": "a837132a-fa1e-4ef0-805d-af5bd1c76fd9",
   "metadata": {},
   "outputs": [
    {
     "data": {
      "text/plain": [
       "1"
      ]
     },
     "execution_count": 5,
     "metadata": {},
     "output_type": "execute_result"
    }
   ],
   "source": [
    "'abcde'.count('cd')"
   ]
  },
  {
   "cell_type": "code",
   "execution_count": 8,
   "id": "51bf1fed-988d-40b3-ab75-dc70de246cab",
   "metadata": {},
   "outputs": [
    {
     "data": {
      "text/plain": [
       "['chokudai']"
      ]
     },
     "execution_count": 8,
     "metadata": {},
     "output_type": "execute_result"
    }
   ],
   "source": [
    "Tn2"
   ]
  },
  {
   "cell_type": "code",
   "execution_count": 11,
   "id": "b6ba69de-0277-4dde-be20-905d7322bcb9",
   "metadata": {},
   "outputs": [
    {
     "name": "stdout",
     "output_type": "stream",
     "text": [
      "(0, 1, 2, 3, 4)\n",
      "(0, 1, 2, 4, 3)\n",
      "(0, 1, 3, 2, 4)\n",
      "(0, 1, 3, 4, 2)\n",
      "(0, 1, 4, 2, 3)\n",
      "(0, 1, 4, 3, 2)\n",
      "(0, 2, 1, 3, 4)\n",
      "(0, 2, 1, 4, 3)\n",
      "(0, 2, 3, 1, 4)\n",
      "(0, 2, 3, 4, 1)\n",
      "(0, 2, 4, 1, 3)\n",
      "(0, 2, 4, 3, 1)\n",
      "(0, 3, 1, 2, 4)\n",
      "(0, 3, 1, 4, 2)\n",
      "(0, 3, 2, 1, 4)\n",
      "(0, 3, 2, 4, 1)\n",
      "(0, 3, 4, 1, 2)\n",
      "(0, 3, 4, 2, 1)\n",
      "(0, 4, 1, 2, 3)\n",
      "(0, 4, 1, 3, 2)\n",
      "(0, 4, 2, 1, 3)\n",
      "(0, 4, 2, 3, 1)\n",
      "(0, 4, 3, 1, 2)\n",
      "(0, 4, 3, 2, 1)\n",
      "(1, 0, 2, 3, 4)\n",
      "(1, 0, 2, 4, 3)\n",
      "(1, 0, 3, 2, 4)\n",
      "(1, 0, 3, 4, 2)\n",
      "(1, 0, 4, 2, 3)\n",
      "(1, 0, 4, 3, 2)\n",
      "(1, 2, 0, 3, 4)\n",
      "(1, 2, 0, 4, 3)\n",
      "(1, 2, 3, 0, 4)\n",
      "(1, 2, 3, 4, 0)\n",
      "(1, 2, 4, 0, 3)\n",
      "(1, 2, 4, 3, 0)\n",
      "(1, 3, 0, 2, 4)\n",
      "(1, 3, 0, 4, 2)\n",
      "(1, 3, 2, 0, 4)\n",
      "(1, 3, 2, 4, 0)\n",
      "(1, 3, 4, 0, 2)\n",
      "(1, 3, 4, 2, 0)\n",
      "(1, 4, 0, 2, 3)\n",
      "(1, 4, 0, 3, 2)\n",
      "(1, 4, 2, 0, 3)\n",
      "(1, 4, 2, 3, 0)\n",
      "(1, 4, 3, 0, 2)\n",
      "(1, 4, 3, 2, 0)\n",
      "(2, 0, 1, 3, 4)\n",
      "(2, 0, 1, 4, 3)\n",
      "(2, 0, 3, 1, 4)\n",
      "(2, 0, 3, 4, 1)\n",
      "(2, 0, 4, 1, 3)\n",
      "(2, 0, 4, 3, 1)\n",
      "(2, 1, 0, 3, 4)\n",
      "(2, 1, 0, 4, 3)\n",
      "(2, 1, 3, 0, 4)\n",
      "(2, 1, 3, 4, 0)\n",
      "(2, 1, 4, 0, 3)\n",
      "(2, 1, 4, 3, 0)\n",
      "(2, 3, 0, 1, 4)\n",
      "(2, 3, 0, 4, 1)\n",
      "(2, 3, 1, 0, 4)\n",
      "(2, 3, 1, 4, 0)\n",
      "(2, 3, 4, 0, 1)\n",
      "(2, 3, 4, 1, 0)\n",
      "(2, 4, 0, 1, 3)\n",
      "(2, 4, 0, 3, 1)\n",
      "(2, 4, 1, 0, 3)\n",
      "(2, 4, 1, 3, 0)\n",
      "(2, 4, 3, 0, 1)\n",
      "(2, 4, 3, 1, 0)\n",
      "(3, 0, 1, 2, 4)\n",
      "(3, 0, 1, 4, 2)\n",
      "(3, 0, 2, 1, 4)\n",
      "(3, 0, 2, 4, 1)\n",
      "(3, 0, 4, 1, 2)\n",
      "(3, 0, 4, 2, 1)\n",
      "(3, 1, 0, 2, 4)\n",
      "(3, 1, 0, 4, 2)\n",
      "(3, 1, 2, 0, 4)\n",
      "(3, 1, 2, 4, 0)\n",
      "(3, 1, 4, 0, 2)\n",
      "(3, 1, 4, 2, 0)\n",
      "(3, 2, 0, 1, 4)\n",
      "(3, 2, 0, 4, 1)\n",
      "(3, 2, 1, 0, 4)\n",
      "(3, 2, 1, 4, 0)\n",
      "(3, 2, 4, 0, 1)\n",
      "(3, 2, 4, 1, 0)\n",
      "(3, 4, 0, 1, 2)\n",
      "(3, 4, 0, 2, 1)\n",
      "(3, 4, 1, 0, 2)\n",
      "(3, 4, 1, 2, 0)\n",
      "(3, 4, 2, 0, 1)\n",
      "(3, 4, 2, 1, 0)\n",
      "(4, 0, 1, 2, 3)\n",
      "(4, 0, 1, 3, 2)\n",
      "(4, 0, 2, 1, 3)\n",
      "(4, 0, 2, 3, 1)\n",
      "(4, 0, 3, 1, 2)\n",
      "(4, 0, 3, 2, 1)\n",
      "(4, 1, 0, 2, 3)\n",
      "(4, 1, 0, 3, 2)\n",
      "(4, 1, 2, 0, 3)\n",
      "(4, 1, 2, 3, 0)\n",
      "(4, 1, 3, 0, 2)\n",
      "(4, 1, 3, 2, 0)\n",
      "(4, 2, 0, 1, 3)\n",
      "(4, 2, 0, 3, 1)\n",
      "(4, 2, 1, 0, 3)\n",
      "(4, 2, 1, 3, 0)\n",
      "(4, 2, 3, 0, 1)\n",
      "(4, 2, 3, 1, 0)\n",
      "(4, 3, 0, 1, 2)\n",
      "(4, 3, 0, 2, 1)\n",
      "(4, 3, 1, 0, 2)\n",
      "(4, 3, 1, 2, 0)\n",
      "(4, 3, 2, 0, 1)\n",
      "(4, 3, 2, 1, 0)\n"
     ]
    }
   ],
   "source": [
    "from itertools import permutations\n",
    "for p in permutations(range(5)):\n",
    "    print(p)"
   ]
  },
  {
   "cell_type": "code",
   "execution_count": null,
   "id": "710683bf-f54a-4f7c-a6c9-134494db6aa0",
   "metadata": {},
   "outputs": [],
   "source": []
  }
 ],
 "metadata": {
  "kernelspec": {
   "display_name": "Python 3",
   "language": "python",
   "name": "python3"
  },
  "language_info": {
   "codemirror_mode": {
    "name": "ipython",
    "version": 3
   },
   "file_extension": ".py",
   "mimetype": "text/x-python",
   "name": "python",
   "nbconvert_exporter": "python",
   "pygments_lexer": "ipython3",
   "version": "3.6.13"
  }
 },
 "nbformat": 4,
 "nbformat_minor": 5
}
