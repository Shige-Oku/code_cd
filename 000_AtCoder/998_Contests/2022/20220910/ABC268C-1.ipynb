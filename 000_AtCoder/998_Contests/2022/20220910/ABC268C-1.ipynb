{
 "cells": [
  {
   "cell_type": "code",
   "execution_count": 1,
   "id": "c38c0e46-022a-4a30-ac6e-5d1707e04364",
   "metadata": {},
   "outputs": [],
   "source": [
    "import sys\n",
    "import numpy as np\n",
    "import math\n",
    "import collections\n",
    "import copy\n",
    "import decimal\n",
    "import itertools\n",
    "import re\n",
    "import bisect\n",
    "import scipy\n",
    "import heapq\n",
    "from collections import deque \n",
    "from functools import reduce\n",
    "from itertools import product\n",
    "from itertools import combinations\n",
    "from functools import lru_cache\n",
    "from scipy.special import comb\n",
    "from numba import njit\n",
    "from bisect import bisect_right\n",
    "from bisect import bisect_left"
   ]
  },
  {
   "cell_type": "code",
   "execution_count": 91,
   "id": "e517d32f-38b8-497c-b28e-de14e5a2f084",
   "metadata": {},
   "outputs": [
    {
     "name": "stdin",
     "output_type": "stream",
     "text": [
      " 10\n"
     ]
    }
   ],
   "source": [
    "N = int(input())"
   ]
  },
  {
   "cell_type": "code",
   "execution_count": 92,
   "id": "25f2546b-0ad8-48c7-8241-1eaf789c567c",
   "metadata": {},
   "outputs": [
    {
     "name": "stdin",
     "output_type": "stream",
     "text": [
      " 3 9 6 1 7 2 8 0 5 4\n"
     ]
    }
   ],
   "source": [
    "Pn = list(map(int, input().split()))"
   ]
  },
  {
   "cell_type": "code",
   "execution_count": 93,
   "id": "ad045235-f091-4cb8-9cf6-78af1324ed29",
   "metadata": {},
   "outputs": [],
   "source": [
    "dis = []\n",
    "for i, P in enumerate(Pn):\n",
    "    if P >= i:\n",
    "        dis.append(P-i)\n",
    "    else:\n",
    "        dis.append(N-(i-P))"
   ]
  },
  {
   "cell_type": "code",
   "execution_count": 94,
   "id": "89a3a82e-ccdd-4dd6-bf1a-c1a74ba19771",
   "metadata": {},
   "outputs": [],
   "source": [
    "d = [0] * N\n",
    "for di in dis:\n",
    "    d[di] += 1\n",
    "ans = 0\n",
    "for i in range(N):\n",
    "    c = d[i] + d[(i+1)%N] + d[(i+2)%N]\n",
    "    ans = max(ans, c)"
   ]
  },
  {
   "cell_type": "code",
   "execution_count": 95,
   "id": "bf1de38c-03e9-4fd4-bf33-939e8c0b4c99",
   "metadata": {},
   "outputs": [
    {
     "name": "stdout",
     "output_type": "stream",
     "text": [
      "5\n"
     ]
    }
   ],
   "source": [
    "print(ans)"
   ]
  },
  {
   "cell_type": "code",
   "execution_count": 78,
   "id": "fbc539c8-239b-4e4a-a0f5-e48c4cc45a3e",
   "metadata": {},
   "outputs": [
    {
     "data": {
      "text/plain": [
       "[0, 0, 1, 3, 1, 1, 0, 2, 2, 0]"
      ]
     },
     "execution_count": 78,
     "metadata": {},
     "output_type": "execute_result"
    }
   ],
   "source": [
    "d"
   ]
  },
  {
   "cell_type": "code",
   "execution_count": null,
   "id": "6cb2e4fd-e685-4a9a-abe2-914aa6f8fcf1",
   "metadata": {},
   "outputs": [],
   "source": [
    "# WA"
   ]
  },
  {
   "cell_type": "code",
   "execution_count": 53,
   "id": "3173ad71-1628-44e8-a7e0-4580e20e07a8",
   "metadata": {},
   "outputs": [],
   "source": [
    "from collections import Counter\n",
    "dis_c = Counter(dis)\n",
    "ans = 0\n",
    "dis_s = sorted(list(dis_c.items()))\n",
    "for i, (k, v) in enumerate(dis_s[:3]):\n",
    "    ans += v\n"
   ]
  },
  {
   "cell_type": "code",
   "execution_count": 54,
   "id": "ffd08636-3ce7-4b7c-bef3-f05477f798f6",
   "metadata": {},
   "outputs": [],
   "source": [
    "c = ans\n",
    "for i in range(3, len(dis_s)-2):\n",
    "    c -= dis_s[i-3][1]\n",
    "    c += dis_s[i][1]\n",
    "    ans = max(ans, c)"
   ]
  },
  {
   "cell_type": "code",
   "execution_count": 55,
   "id": "1e941c64-2c46-42f8-bc4f-aa0296874102",
   "metadata": {},
   "outputs": [
    {
     "name": "stdout",
     "output_type": "stream",
     "text": [
      "5\n"
     ]
    }
   ],
   "source": [
    "print(ans)"
   ]
  },
  {
   "cell_type": "code",
   "execution_count": 56,
   "id": "ac961049-2ad8-486b-8508-51d5b4a3a788",
   "metadata": {},
   "outputs": [
    {
     "data": {
      "text/plain": [
       "(Counter({3: 2, 0: 1, 1: 2, 4: 1}), [(0, 1), (1, 2), (3, 2), (4, 1)])"
      ]
     },
     "execution_count": 56,
     "metadata": {},
     "output_type": "execute_result"
    }
   ],
   "source": [
    "dis_c, dis_s"
   ]
  },
  {
   "cell_type": "code",
   "execution_count": 57,
   "id": "46ffc24e-0f72-4f9d-adc1-b0762f03c5d2",
   "metadata": {},
   "outputs": [
    {
     "data": {
      "text/plain": [
       "[3, 0, 3, 1, 4, 1]"
      ]
     },
     "execution_count": 57,
     "metadata": {},
     "output_type": "execute_result"
    }
   ],
   "source": [
    "dis"
   ]
  },
  {
   "cell_type": "code",
   "execution_count": null,
   "id": "9ca83dc1-a5e7-4ec6-9c2a-db6952aacc0b",
   "metadata": {},
   "outputs": [],
   "source": []
  }
 ],
 "metadata": {
  "kernelspec": {
   "display_name": "Python 3",
   "language": "python",
   "name": "python3"
  },
  "language_info": {
   "codemirror_mode": {
    "name": "ipython",
    "version": 3
   },
   "file_extension": ".py",
   "mimetype": "text/x-python",
   "name": "python",
   "nbconvert_exporter": "python",
   "pygments_lexer": "ipython3",
   "version": "3.6.13"
  }
 },
 "nbformat": 4,
 "nbformat_minor": 5
}
