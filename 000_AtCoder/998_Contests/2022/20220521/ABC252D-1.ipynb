{
 "cells": [
  {
   "cell_type": "code",
   "execution_count": 1,
   "id": "ca21e6e1-e375-4725-b4df-17a428231278",
   "metadata": {},
   "outputs": [],
   "source": [
    "import sys\n",
    "import numpy as np\n",
    "import math\n",
    "import collections\n",
    "import copy\n",
    "import decimal\n",
    "import itertools\n",
    "import re\n",
    "import bisect\n",
    "import scipy\n",
    "import heapq\n",
    "from collections import deque \n",
    "from functools import reduce\n",
    "from itertools import product\n",
    "from itertools import combinations\n",
    "from functools import lru_cache\n",
    "from scipy.special import comb\n",
    "from numba import njit\n",
    "from bisect import bisect_right\n",
    "from bisect import bisect_left"
   ]
  },
  {
   "cell_type": "code",
   "execution_count": 28,
   "id": "aafee18d-37a2-4e64-9c02-0e3b372ce771",
   "metadata": {},
   "outputs": [
    {
     "name": "stdin",
     "output_type": "stream",
     "text": [
      " 15\n"
     ]
    }
   ],
   "source": [
    "N = int(input())"
   ]
  },
  {
   "cell_type": "code",
   "execution_count": 29,
   "id": "5b70cdbf-b8f6-48a6-97fb-5102c0057533",
   "metadata": {},
   "outputs": [
    {
     "name": "stdin",
     "output_type": "stream",
     "text": [
      " 3 1 4 1 5 9 2 6 5 3 5 8 9 7 9\n"
     ]
    }
   ],
   "source": [
    "An = list(map(int, input().split()))"
   ]
  },
  {
   "cell_type": "code",
   "execution_count": null,
   "id": "020a7b5d-19cb-4036-8005-8c313c1698aa",
   "metadata": {},
   "outputs": [],
   "source": [
    "# サンプルが合わない"
   ]
  },
  {
   "cell_type": "code",
   "execution_count": null,
   "id": "85c18b3b-c45d-4774-884e-10c81ccfae24",
   "metadata": {},
   "outputs": [],
   "source": [
    "cnt = [[0] * (N+1) for _ in range(10)]"
   ]
  },
  {
   "cell_type": "code",
   "execution_count": 30,
   "id": "2ba81899-b514-4a25-9065-f47bb6f5a037",
   "metadata": {},
   "outputs": [],
   "source": [
    "An_c = collections.Counter(An)"
   ]
  },
  {
   "cell_type": "code",
   "execution_count": 31,
   "id": "233c1a8e-dded-4b44-af78-58d1e9480f72",
   "metadata": {},
   "outputs": [],
   "source": [
    "ans = comb(len(An_c), 3, exact=True)\n",
    "for k, v in An_c.items():\n",
    "    ans *= v"
   ]
  },
  {
   "cell_type": "code",
   "execution_count": 32,
   "id": "b0ad2d79-a09a-47ee-b27d-fe3d6d0f75fb",
   "metadata": {},
   "outputs": [
    {
     "name": "stdout",
     "output_type": "stream",
     "text": [
      "3024\n"
     ]
    }
   ],
   "source": [
    "print(ans)"
   ]
  },
  {
   "cell_type": "code",
   "execution_count": 35,
   "id": "f414da46-63be-434f-9be3-8ea8928c771e",
   "metadata": {},
   "outputs": [
    {
     "data": {
      "text/plain": [
       "(Counter({3: 2, 1: 2, 4: 1, 5: 3, 9: 3, 2: 1, 6: 1, 8: 1, 7: 1}), 9)"
      ]
     },
     "execution_count": 35,
     "metadata": {},
     "output_type": "execute_result"
    }
   ],
   "source": [
    "An_c, len(An_c)"
   ]
  },
  {
   "cell_type": "code",
   "execution_count": 8,
   "id": "09cb6e21-4573-4552-bc63-71adc77f019c",
   "metadata": {},
   "outputs": [],
   "source": [
    "def modinv(x, mod):\n",
    "    return pow(x, mod-2, mod)"
   ]
  },
  {
   "cell_type": "code",
   "execution_count": 9,
   "id": "8e9fe9c5-927e-445a-a009-6339373ec1a5",
   "metadata": {},
   "outputs": [],
   "source": [
    "def binomial_coefficients(n, k, mod):\n",
    "    ret = 1\n",
    "    for i in range(k):\n",
    "        ret *= n-i\n",
    "        ret *= modinv_table[i + 1]\n",
    "        ret %= mod\n",
    "    return ret"
   ]
  },
  {
   "cell_type": "code",
   "execution_count": 10,
   "id": "a97a63f8-bece-417b-8dd0-dc1c530e6768",
   "metadata": {},
   "outputs": [],
   "source": [
    "mod = 10**9+7\n",
    "X = 10**6\n",
    "modinv_table = [-1] * (X+1)\n",
    "for i in range(1, X+1):\n",
    "    modinv_table[i] = modinv(i, mod)"
   ]
  },
  {
   "cell_type": "code",
   "execution_count": 11,
   "id": "01c1c374-44db-43e9-9d24-1c36c402507e",
   "metadata": {},
   "outputs": [],
   "source": [
    "def aCb(n, a):\n",
    "    return factorial_table[n] // (factorial_table[n-a]*factorial_table[a])"
   ]
  },
  {
   "cell_type": "code",
   "execution_count": 13,
   "id": "8bf178d6-bd01-450b-a31c-c90ab9889d32",
   "metadata": {},
   "outputs": [],
   "source": [
    "N = 10\n",
    "factorial_table = [1] * (N+1)\n",
    "for i in range(1, len(factorial_table)):\n",
    "    factorial_table[i] = factorial_table[i-1] * i"
   ]
  },
  {
   "cell_type": "code",
   "execution_count": 7,
   "id": "2573646f-4c44-425e-95bc-6f08dfa24908",
   "metadata": {},
   "outputs": [
    {
     "data": {
      "text/plain": [
       "Counter({3: 1, 1: 2, 4: 1})"
      ]
     },
     "execution_count": 7,
     "metadata": {},
     "output_type": "execute_result"
    }
   ],
   "source": [
    "An_c"
   ]
  },
  {
   "cell_type": "code",
   "execution_count": 14,
   "id": "0cca454b-1d2c-49a6-ab1a-30889fd73025",
   "metadata": {},
   "outputs": [
    {
     "data": {
      "text/plain": [
       "1"
      ]
     },
     "execution_count": 14,
     "metadata": {},
     "output_type": "execute_result"
    }
   ],
   "source": [
    "aCb(10, 3)"
   ]
  },
  {
   "cell_type": "code",
   "execution_count": 15,
   "id": "0e1fa743-0ba8-4097-b959-02c735efa4fa",
   "metadata": {},
   "outputs": [
    {
     "data": {
      "text/plain": [
       "[1, 1, 1, 1, 1, 1, 1, 1, 1, 1, 1]"
      ]
     },
     "execution_count": 15,
     "metadata": {},
     "output_type": "execute_result"
    }
   ],
   "source": [
    "factorial_table"
   ]
  },
  {
   "cell_type": "code",
   "execution_count": 16,
   "id": "74ab2ee7-8133-48cd-9681-dd278d4a0180",
   "metadata": {},
   "outputs": [
    {
     "data": {
      "text/plain": [
       "120"
      ]
     },
     "execution_count": 16,
     "metadata": {},
     "output_type": "execute_result"
    }
   ],
   "source": [
    "comb(10, 3, exact=True)"
   ]
  },
  {
   "cell_type": "code",
   "execution_count": null,
   "id": "e7ea806a-e090-46ce-8cc4-f8d7d89169ef",
   "metadata": {},
   "outputs": [],
   "source": []
  }
 ],
 "metadata": {
  "kernelspec": {
   "display_name": "Python 3",
   "language": "python",
   "name": "python3"
  },
  "language_info": {
   "codemirror_mode": {
    "name": "ipython",
    "version": 3
   },
   "file_extension": ".py",
   "mimetype": "text/x-python",
   "name": "python",
   "nbconvert_exporter": "python",
   "pygments_lexer": "ipython3",
   "version": "3.6.13"
  }
 },
 "nbformat": 4,
 "nbformat_minor": 5
}
