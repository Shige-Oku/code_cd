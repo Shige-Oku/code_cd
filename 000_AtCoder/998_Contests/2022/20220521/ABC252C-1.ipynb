{
 "cells": [
  {
   "cell_type": "code",
   "execution_count": 1,
   "id": "57c21080-a5e5-4549-8d29-d292df816a86",
   "metadata": {},
   "outputs": [],
   "source": [
    "import sys\n",
    "import numpy as np\n",
    "import math\n",
    "import collections\n",
    "import copy\n",
    "import decimal\n",
    "import itertools\n",
    "import re\n",
    "import bisect\n",
    "import scipy\n",
    "import heapq\n",
    "from collections import deque \n",
    "from functools import reduce\n",
    "from itertools import product\n",
    "from itertools import combinations\n",
    "from functools import lru_cache\n",
    "from scipy.special import comb\n",
    "from numba import njit\n",
    "from bisect import bisect_right\n",
    "from bisect import bisect_left"
   ]
  },
  {
   "cell_type": "code",
   "execution_count": 2,
   "id": "080de494-0ac8-4587-ae1c-5fb000ef857a",
   "metadata": {},
   "outputs": [
    {
     "name": "stdin",
     "output_type": "stream",
     "text": [
      " 3\n"
     ]
    }
   ],
   "source": [
    "N = int(input())"
   ]
  },
  {
   "cell_type": "code",
   "execution_count": 3,
   "id": "78a1ed5e-5d6c-4e4e-9503-b46f69b5c161",
   "metadata": {},
   "outputs": [
    {
     "name": "stdin",
     "output_type": "stream",
     "text": [
      " 1937458062\n",
      " 8124690357\n",
      " 2385760149\n"
     ]
    }
   ],
   "source": [
    "Sn = [input() for _ in range(N)]"
   ]
  },
  {
   "cell_type": "code",
   "execution_count": 104,
   "id": "a9fb9e5e-6cf4-4646-afb5-cf54b290859f",
   "metadata": {},
   "outputs": [],
   "source": [
    "def solve(n):\n",
    "    l = graph[n]\n",
    "    l_c = collections.Counter(l)\n",
    "    l_ss = sorted(list(l_c.items()))\n",
    "    l_s = []\n",
    "    for k, v in l_ss:\n",
    "        l_s.append([k, v])\n",
    "    ret = 0\n",
    "    cnt = N\n",
    "    t = -1\n",
    "    while cnt > 0:\n",
    "        for j in range(len(l_s)):\n",
    "            k ,v = l_s[j]\n",
    "#             print(j , k, v, t)\n",
    "            if v == 0:\n",
    "                continue\n",
    "            if t == -1:\n",
    "                ret = k\n",
    "            elif k > t:\n",
    "                ret += k - t\n",
    "            else:\n",
    "                ret += k - t + 10\n",
    "#             print(n, ret, k, t)\n",
    "            l_s[j][1] -= 1\n",
    "            t = k\n",
    "            cnt -= 1\n",
    "#             print(ret)\n",
    "#     print(n, ret)\n",
    "    return ret"
   ]
  },
  {
   "cell_type": "code",
   "execution_count": 105,
   "id": "a0d34237-a64f-45b8-a062-f41fd4c64389",
   "metadata": {},
   "outputs": [],
   "source": [
    "graph = [[] for _ in range(10)]\n",
    "for i, S in enumerate(Sn):\n",
    "    for j, s in enumerate(S):\n",
    "        graph[int(s)].append(j)"
   ]
  },
  {
   "cell_type": "code",
   "execution_count": 106,
   "id": "eaecb326-4493-4f18-b377-a83e194fdbe8",
   "metadata": {},
   "outputs": [],
   "source": [
    "ans = 10 ** 30\n",
    "for i in range(10):\n",
    "    c = solve(i)\n",
    "    ans = min(ans, c)\n",
    "#     print(i, c, ans)"
   ]
  },
  {
   "cell_type": "code",
   "execution_count": 107,
   "id": "e627af37-46a9-4ed3-9b83-0e23088059f5",
   "metadata": {},
   "outputs": [
    {
     "name": "stdout",
     "output_type": "stream",
     "text": [
      "6\n"
     ]
    }
   ],
   "source": [
    "print(ans)"
   ]
  },
  {
   "cell_type": "code",
   "execution_count": 8,
   "id": "003132dc-5cbb-4ed5-9c69-a4fae5bbd964",
   "metadata": {},
   "outputs": [
    {
     "data": {
      "text/plain": [
       "[[7, 6, 6],\n",
       " [0, 1, 7],\n",
       " [9, 2, 0],\n",
       " [2, 7, 1],\n",
       " [4, 3, 8],\n",
       " [5, 8, 3],\n",
       " [8, 4, 5],\n",
       " [3, 9, 4],\n",
       " [6, 0, 2],\n",
       " [1, 5, 9]]"
      ]
     },
     "execution_count": 8,
     "metadata": {},
     "output_type": "execute_result"
    }
   ],
   "source": [
    "graph"
   ]
  },
  {
   "cell_type": "code",
   "execution_count": 19,
   "id": "73236199-5aad-4c79-ba08-664639664316",
   "metadata": {},
   "outputs": [],
   "source": [
    "def solve(n):\n",
    "    l = graph[n]\n",
    "    l_c = collections.Counter(l)\n",
    "    l_s = sorted(l_c.items())\n",
    "    ret = 0\n",
    "    for k, v in l_s:\n",
    "        ret += k\n",
    "        ret += (v-1) * 10\n",
    "    \n",
    "    return ret"
   ]
  },
  {
   "cell_type": "code",
   "execution_count": null,
   "id": "8f81ac0e-63d1-4404-9937-e75b8d5a8903",
   "metadata": {},
   "outputs": [],
   "source": []
  }
 ],
 "metadata": {
  "kernelspec": {
   "display_name": "Python 3",
   "language": "python",
   "name": "python3"
  },
  "language_info": {
   "codemirror_mode": {
    "name": "ipython",
    "version": 3
   },
   "file_extension": ".py",
   "mimetype": "text/x-python",
   "name": "python",
   "nbconvert_exporter": "python",
   "pygments_lexer": "ipython3",
   "version": "3.6.13"
  }
 },
 "nbformat": 4,
 "nbformat_minor": 5
}
