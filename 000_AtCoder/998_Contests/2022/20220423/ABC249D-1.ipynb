{
 "cells": [
  {
   "cell_type": "code",
   "execution_count": null,
   "id": "fbc65814-2de2-4e2a-91f2-6b0d44c4bb2f",
   "metadata": {},
   "outputs": [],
   "source": [
    "# サンプルが合わない"
   ]
  },
  {
   "cell_type": "code",
   "execution_count": 1,
   "id": "4bacf0c4-3d67-4518-a2a8-b1c2a3c544dd",
   "metadata": {},
   "outputs": [],
   "source": [
    "import sys\n",
    "import numpy as np\n",
    "import math\n",
    "import collections\n",
    "import copy\n",
    "import decimal\n",
    "import itertools\n",
    "import re\n",
    "import bisect\n",
    "import scipy\n",
    "import heapq\n",
    "from collections import deque \n",
    "from functools import reduce\n",
    "from itertools import product\n",
    "from itertools import combinations\n",
    "from functools import lru_cache\n",
    "from scipy.special import comb\n",
    "from numba import njit\n",
    "from bisect import bisect_right\n",
    "from bisect import bisect_left"
   ]
  },
  {
   "cell_type": "code",
   "execution_count": 13,
   "id": "6536ff1c-16b4-43f4-a132-b6821f176c82",
   "metadata": {},
   "outputs": [
    {
     "name": "stdin",
     "output_type": "stream",
     "text": [
      " 10\n"
     ]
    }
   ],
   "source": [
    "N = int(input())"
   ]
  },
  {
   "cell_type": "code",
   "execution_count": 14,
   "id": "68738c67-6c1d-4864-9f15-a386a32539b5",
   "metadata": {},
   "outputs": [
    {
     "name": "stdin",
     "output_type": "stream",
     "text": [
      " 1 3 2 4 6 8 2 2 3 7\n"
     ]
    }
   ],
   "source": [
    "An = list(map(int, input().split()))"
   ]
  },
  {
   "cell_type": "code",
   "execution_count": 39,
   "id": "cc9ec744-bad6-4fed-8998-dbd5b958d3b4",
   "metadata": {},
   "outputs": [
    {
     "name": "stdout",
     "output_type": "stream",
     "text": [
      "1 1 1 0\n",
      "1 0\n",
      "3 1 3 1\n",
      "3 3 1 2\n",
      "3 2\n",
      "2 1 2 4\n",
      "2 2 1 6\n",
      "2 6\n",
      "4 1 4 6\n",
      "4 2 2 12\n",
      "4 4 1 12\n",
      "4 12\n",
      "6 1 6 12\n",
      "6 2 3 16\n",
      "6 3 2 19\n",
      "6 6 1 19\n",
      "6 19\n",
      "8 1 8 19\n",
      "8 2 4 21\n",
      "8 4 2 21\n",
      "8 8 1 21\n",
      "8 21\n",
      "2 1 2 23\n",
      "2 2 1 25\n",
      "2 25\n",
      "2 1 2 27\n",
      "2 2 1 29\n",
      "2 29\n",
      "3 1 3 30\n",
      "3 3 1 31\n",
      "3 31\n",
      "7 1 7 31\n",
      "7 7 1 31\n",
      "7 31\n"
     ]
    }
   ],
   "source": [
    "An_c = collections.Counter(An)\n",
    "ans = 0\n",
    "for A in An:\n",
    "    for i in range(1, 10**5+2):\n",
    "        if i not in An_c:\n",
    "            continue\n",
    "        q, m = divmod(A, i)\n",
    "        if m != 0:\n",
    "            continue\n",
    "        if q in An_c:\n",
    "            if i == 1:\n",
    "                ans += An_c[q] - 1\n",
    "            else:\n",
    "                ans += An_c[q] * (An_c[i]-1)\n",
    "            print(A, i, q, ans)\n",
    "    print(A, ans)"
   ]
  },
  {
   "cell_type": "code",
   "execution_count": 40,
   "id": "d0b0e3a0-d3c9-4f24-ae3d-98675a7e61de",
   "metadata": {},
   "outputs": [
    {
     "name": "stdout",
     "output_type": "stream",
     "text": [
      "31\n"
     ]
    }
   ],
   "source": [
    "print(ans)"
   ]
  },
  {
   "cell_type": "code",
   "execution_count": 23,
   "id": "a759ae4a-9e3e-4f48-b7c4-fc02f222ff31",
   "metadata": {},
   "outputs": [
    {
     "data": {
      "text/plain": [
       "Counter({1: 1, 3: 2, 2: 3, 4: 1, 6: 1, 8: 1, 7: 1})"
      ]
     },
     "execution_count": 23,
     "metadata": {},
     "output_type": "execute_result"
    }
   ],
   "source": [
    "An_c"
   ]
  },
  {
   "cell_type": "code",
   "execution_count": 15,
   "id": "d59eaa58-8a3e-4c87-ab6a-9cbeebc0b20c",
   "metadata": {},
   "outputs": [],
   "source": [
    "An_c = collections.Counter(An)\n",
    "ans = 0\n",
    "for k, v in An_c.items():\n",
    "    for i in range(1, 10**5+2):\n",
    "        if i not in An_c:\n",
    "            continue\n",
    "        q, m = divmod(k, i)\n",
    "        if m != 0:\n",
    "            continue\n",
    "        if q in An_c:\n",
    "            ans += v * An_c[q]"
   ]
  },
  {
   "cell_type": "code",
   "execution_count": 16,
   "id": "0c84bb0f-a45a-46fd-a6c1-cf9e10391989",
   "metadata": {},
   "outputs": [
    {
     "name": "stdout",
     "output_type": "stream",
     "text": [
      "39\n"
     ]
    }
   ],
   "source": [
    "print(ans)"
   ]
  },
  {
   "cell_type": "code",
   "execution_count": 17,
   "id": "c76deafb-74ff-4bac-b23a-5eb6985be3a5",
   "metadata": {},
   "outputs": [
    {
     "data": {
      "text/plain": [
       "Counter({1: 1, 3: 2, 2: 3, 4: 1, 6: 1, 8: 1, 7: 1})"
      ]
     },
     "execution_count": 17,
     "metadata": {},
     "output_type": "execute_result"
    }
   ],
   "source": [
    "An_c"
   ]
  },
  {
   "cell_type": "code",
   "execution_count": null,
   "id": "c0d01baa-4a87-495d-81be-74b55a971cc8",
   "metadata": {},
   "outputs": [],
   "source": []
  }
 ],
 "metadata": {
  "kernelspec": {
   "display_name": "Python 3",
   "language": "python",
   "name": "python3"
  },
  "language_info": {
   "codemirror_mode": {
    "name": "ipython",
    "version": 3
   },
   "file_extension": ".py",
   "mimetype": "text/x-python",
   "name": "python",
   "nbconvert_exporter": "python",
   "pygments_lexer": "ipython3",
   "version": "3.6.13"
  }
 },
 "nbformat": 4,
 "nbformat_minor": 5
}
