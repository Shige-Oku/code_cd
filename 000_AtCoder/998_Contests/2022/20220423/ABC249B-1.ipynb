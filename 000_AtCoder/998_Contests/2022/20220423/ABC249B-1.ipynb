{
 "cells": [
  {
   "cell_type": "code",
   "execution_count": 1,
   "id": "fa82a8db-a86b-4c44-987f-0ce235e8f34e",
   "metadata": {},
   "outputs": [],
   "source": [
    "import sys\n",
    "import numpy as np\n",
    "import math\n",
    "import collections\n",
    "import copy\n",
    "import decimal\n",
    "import itertools\n",
    "import re\n",
    "import bisect\n",
    "import scipy\n",
    "import heapq\n",
    "from collections import deque \n",
    "from functools import reduce\n",
    "from itertools import product\n",
    "from itertools import combinations\n",
    "from functools import lru_cache\n",
    "from scipy.special import comb\n",
    "from numba import njit\n",
    "from bisect import bisect_right\n",
    "from bisect import bisect_left"
   ]
  },
  {
   "cell_type": "code",
   "execution_count": 20,
   "id": "88162ddd-82f6-4fc0-b272-10b92563edc8",
   "metadata": {},
   "outputs": [
    {
     "name": "stdin",
     "output_type": "stream",
     "text": [
      " AB\n"
     ]
    }
   ],
   "source": [
    "S = input()"
   ]
  },
  {
   "cell_type": "code",
   "execution_count": 21,
   "id": "7b4106b7-9b36-47dc-b034-d6e75256106c",
   "metadata": {},
   "outputs": [],
   "source": [
    "flg_o = False\n",
    "flg_k = False\n",
    "for s in S:\n",
    "    if s.isupper():\n",
    "        flg_o = True\n",
    "    else:\n",
    "        flg_k = True"
   ]
  },
  {
   "cell_type": "code",
   "execution_count": 22,
   "id": "9e5fe39f-f514-4f18-a50c-f54c46388ca7",
   "metadata": {},
   "outputs": [
    {
     "name": "stdout",
     "output_type": "stream",
     "text": [
      "No\n"
     ]
    }
   ],
   "source": [
    "S_c = collections.Counter(S)\n",
    "if len(S) == len(S_c) and flg_o and flg_k:\n",
    "    print(\"Yes\")\n",
    "else:\n",
    "    print(\"No\")"
   ]
  },
  {
   "cell_type": "code",
   "execution_count": 4,
   "id": "682b3638-7fcb-4505-8e5f-268c6b7ca984",
   "metadata": {},
   "outputs": [
    {
     "data": {
      "text/plain": [
       "(True, True)"
      ]
     },
     "execution_count": 4,
     "metadata": {},
     "output_type": "execute_result"
    }
   ],
   "source": [
    "flg_o, flg_k"
   ]
  },
  {
   "cell_type": "code",
   "execution_count": 9,
   "id": "39e97bae-3a91-48ba-accc-680b6d3a553f",
   "metadata": {},
   "outputs": [
    {
     "data": {
      "text/plain": [
       "(Counter({'A': 1, 't': 1, 'C': 1, 'o': 1, 'd': 1, 'e': 1, 'r': 1}), 7, 7)"
      ]
     },
     "execution_count": 9,
     "metadata": {},
     "output_type": "execute_result"
    }
   ],
   "source": [
    "S_c, len(S_c), len(S)"
   ]
  },
  {
   "cell_type": "code",
   "execution_count": 25,
   "id": "5e32c8a7-7957-4c68-a0a4-ee1faf212b76",
   "metadata": {},
   "outputs": [],
   "source": [
    "flg_o = False\n",
    "flg_k = False\n",
    "t = set()\n",
    "for s in S:\n",
    "    if s.isupper():\n",
    "        flg_o = True\n",
    "    else:\n",
    "        flg_k = True\n",
    "    t.add(s)"
   ]
  },
  {
   "cell_type": "code",
   "execution_count": 26,
   "id": "10194bd0-31cf-4820-b081-6a2c8b03028e",
   "metadata": {},
   "outputs": [
    {
     "name": "stdout",
     "output_type": "stream",
     "text": [
      "No\n"
     ]
    }
   ],
   "source": [
    "if len(t) == len(S) and flg_o and flg_k:\n",
    "    print(\"Yes\")\n",
    "else:\n",
    "    print(\"No\")"
   ]
  },
  {
   "cell_type": "code",
   "execution_count": null,
   "id": "86a39b20-5e2a-4fb0-8485-3607a0e5075a",
   "metadata": {},
   "outputs": [],
   "source": []
  }
 ],
 "metadata": {
  "kernelspec": {
   "display_name": "Python 3",
   "language": "python",
   "name": "python3"
  },
  "language_info": {
   "codemirror_mode": {
    "name": "ipython",
    "version": 3
   },
   "file_extension": ".py",
   "mimetype": "text/x-python",
   "name": "python",
   "nbconvert_exporter": "python",
   "pygments_lexer": "ipython3",
   "version": "3.6.13"
  }
 },
 "nbformat": 4,
 "nbformat_minor": 5
}
