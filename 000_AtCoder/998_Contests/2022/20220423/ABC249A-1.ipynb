{
 "cells": [
  {
   "cell_type": "code",
   "execution_count": 1,
   "id": "b53fe570-ccfc-41e7-87dd-fe0d7cb38719",
   "metadata": {},
   "outputs": [],
   "source": [
    "import sys\n",
    "import numpy as np\n",
    "import math\n",
    "import collections\n",
    "import copy\n",
    "import decimal\n",
    "import itertools\n",
    "import re\n",
    "import bisect\n",
    "import scipy\n",
    "import heapq\n",
    "from collections import deque \n",
    "from functools import reduce\n",
    "from itertools import product\n",
    "from itertools import combinations\n",
    "from functools import lru_cache\n",
    "from scipy.special import comb\n",
    "from numba import njit\n",
    "from bisect import bisect_right\n",
    "from bisect import bisect_left"
   ]
  },
  {
   "cell_type": "code",
   "execution_count": 13,
   "id": "66e919ae-271b-470a-970e-ac49125cb20f",
   "metadata": {},
   "outputs": [
    {
     "name": "stdin",
     "output_type": "stream",
     "text": [
      " 1 1 1 1 1 1 1\n"
     ]
    }
   ],
   "source": [
    "A, B, C, D, E, F, X = map(int, input().split())"
   ]
  },
  {
   "cell_type": "code",
   "execution_count": 14,
   "id": "bf74aa31-0320-4b64-82bc-137728fa31fa",
   "metadata": {},
   "outputs": [],
   "source": [
    "t = 0\n",
    "z = X\n",
    "while z > 0:\n",
    "    t += min(A, z) * B\n",
    "    z -= min(A, z)\n",
    "    z -= C"
   ]
  },
  {
   "cell_type": "code",
   "execution_count": 15,
   "id": "a3f43688-687d-45db-9c0f-1fe53ce60399",
   "metadata": {},
   "outputs": [],
   "source": [
    "a = 0\n",
    "z = X\n",
    "while z > 0:\n",
    "    a += min(D, z) * E\n",
    "    z -= min(D, z)\n",
    "    z -= F"
   ]
  },
  {
   "cell_type": "code",
   "execution_count": 16,
   "id": "c9b9ea2a-2ca2-4708-9d87-92300b52bf86",
   "metadata": {},
   "outputs": [
    {
     "name": "stdout",
     "output_type": "stream",
     "text": [
      "Draw\n"
     ]
    }
   ],
   "source": [
    "if t > a:\n",
    "    print(\"Takahashi\")\n",
    "elif t == a:\n",
    "    print(\"Draw\")\n",
    "else:\n",
    "    print(\"Aoki\")"
   ]
  },
  {
   "cell_type": "code",
   "execution_count": 7,
   "id": "b415b375-e98d-4b38-bdb4-61399f88871e",
   "metadata": {},
   "outputs": [
    {
     "data": {
      "text/plain": [
       "(21, 12)"
      ]
     },
     "execution_count": 7,
     "metadata": {},
     "output_type": "execute_result"
    }
   ],
   "source": [
    "t, a"
   ]
  },
  {
   "cell_type": "code",
   "execution_count": null,
   "id": "b10d8ca2-5485-43a8-9494-7a85994b11a5",
   "metadata": {},
   "outputs": [],
   "source": []
  }
 ],
 "metadata": {
  "kernelspec": {
   "display_name": "Python 3",
   "language": "python",
   "name": "python3"
  },
  "language_info": {
   "codemirror_mode": {
    "name": "ipython",
    "version": 3
   },
   "file_extension": ".py",
   "mimetype": "text/x-python",
   "name": "python",
   "nbconvert_exporter": "python",
   "pygments_lexer": "ipython3",
   "version": "3.6.13"
  }
 },
 "nbformat": 4,
 "nbformat_minor": 5
}
