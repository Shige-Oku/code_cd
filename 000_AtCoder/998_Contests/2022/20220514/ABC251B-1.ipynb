{
 "cells": [
  {
   "cell_type": "code",
   "execution_count": 1,
   "id": "90a2bebc-8f81-4b3c-b685-f7662faf824e",
   "metadata": {},
   "outputs": [],
   "source": [
    "import sys\n",
    "import numpy as np\n",
    "import math\n",
    "import collections\n",
    "import copy\n",
    "import decimal\n",
    "import itertools\n",
    "import re\n",
    "import bisect\n",
    "import scipy\n",
    "import heapq\n",
    "from collections import deque \n",
    "from functools import reduce\n",
    "from itertools import product\n",
    "from itertools import combinations\n",
    "from functools import lru_cache\n",
    "from scipy.special import comb\n",
    "from numba import njit\n",
    "from bisect import bisect_right\n",
    "from bisect import bisect_left"
   ]
  },
  {
   "cell_type": "code",
   "execution_count": 33,
   "id": "a3998a21-91f4-4c84-8627-90bfb43033c5",
   "metadata": {},
   "outputs": [
    {
     "name": "stdin",
     "output_type": "stream",
     "text": [
      " 7 251\n"
     ]
    }
   ],
   "source": [
    "N, W = map(int, input().split())"
   ]
  },
  {
   "cell_type": "code",
   "execution_count": 34,
   "id": "93bda460-d6e6-4760-9270-f4867e455a03",
   "metadata": {},
   "outputs": [
    {
     "name": "stdin",
     "output_type": "stream",
     "text": [
      " 202 20 5 1 4 2 100\n"
     ]
    }
   ],
   "source": [
    "An = list(map(int, input().split()))"
   ]
  },
  {
   "cell_type": "code",
   "execution_count": 35,
   "id": "a76ae4cd-c247-4a0d-8f8e-b675ce8a4fa6",
   "metadata": {},
   "outputs": [],
   "source": [
    "c = set()\n",
    "for A in An:\n",
    "    c.add(A)\n",
    "for i in range(N-1):\n",
    "    for j in range(i+1, N):\n",
    "        c.add(An[i]+An[j])\n",
    "for i in range(N-2):\n",
    "    for j in range(i+1, N-1):\n",
    "        for k in range(j+1, N):\n",
    "            c.add(An[i]+An[j]+An[k])\n"
   ]
  },
  {
   "cell_type": "code",
   "execution_count": 36,
   "id": "e8f0dba3-c58e-49c6-bf3d-36f289497780",
   "metadata": {},
   "outputs": [
    {
     "name": "stdout",
     "output_type": "stream",
     "text": [
      "48\n"
     ]
    }
   ],
   "source": [
    "ans = 0\n",
    "for cc in c:\n",
    "    if cc <= W:\n",
    "        ans += 1\n",
    "print(ans)\n",
    "        "
   ]
  },
  {
   "cell_type": "code",
   "execution_count": 18,
   "id": "7f9e584a-d10e-447e-904c-4829d7191aa5",
   "metadata": {},
   "outputs": [
    {
     "data": {
      "text/plain": [
       "{1, 2, 3, 4}"
      ]
     },
     "execution_count": 18,
     "metadata": {},
     "output_type": "execute_result"
    }
   ],
   "source": [
    "c"
   ]
  },
  {
   "cell_type": "code",
   "execution_count": null,
   "id": "d0d1e5cf-7674-4ecd-b04a-7f9593ec01d1",
   "metadata": {},
   "outputs": [],
   "source": []
  }
 ],
 "metadata": {
  "kernelspec": {
   "display_name": "Python 3",
   "language": "python",
   "name": "python3"
  },
  "language_info": {
   "codemirror_mode": {
    "name": "ipython",
    "version": 3
   },
   "file_extension": ".py",
   "mimetype": "text/x-python",
   "name": "python",
   "nbconvert_exporter": "python",
   "pygments_lexer": "ipython3",
   "version": "3.6.13"
  }
 },
 "nbformat": 4,
 "nbformat_minor": 5
}
