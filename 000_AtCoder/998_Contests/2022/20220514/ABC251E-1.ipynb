{
 "cells": [
  {
   "cell_type": "code",
   "execution_count": 28,
   "id": "a5468266-b2bd-4dcf-8504-3ce825f2fb05",
   "metadata": {},
   "outputs": [],
   "source": [
    "import sys\n",
    "import numpy as np\n",
    "import math\n",
    "import collections\n",
    "import copy\n",
    "import decimal\n",
    "import itertools\n",
    "import re\n",
    "import bisect\n",
    "import scipy\n",
    "import heapq\n",
    "from collections import deque \n",
    "from functools import reduce\n",
    "from itertools import product\n",
    "from itertools import combinations\n",
    "from functools import lru_cache\n",
    "from scipy.special import comb\n",
    "from numba import njit\n",
    "from bisect import bisect_right\n",
    "from bisect import bisect_left"
   ]
  },
  {
   "cell_type": "code",
   "execution_count": 23,
   "id": "634f4800-a1b1-4493-a7df-fef999f17b21",
   "metadata": {},
   "outputs": [
    {
     "name": "stdin",
     "output_type": "stream",
     "text": [
      " 20\n"
     ]
    }
   ],
   "source": [
    "N = int(input())"
   ]
  },
  {
   "cell_type": "code",
   "execution_count": 24,
   "id": "be73acf6-e287-4163-a48c-8c5a3a52e878",
   "metadata": {},
   "outputs": [
    {
     "name": "stdin",
     "output_type": "stream",
     "text": [
      " 29 27 79 27 30 4 93 89 44 88 70 75 96 3 78 39 97 12 53 62\n"
     ]
    }
   ],
   "source": [
    "An = list(map(int, input().split()))"
   ]
  },
  {
   "cell_type": "code",
   "execution_count": null,
   "id": "27969ff9-f34c-475a-92e8-a945b480db15",
   "metadata": {},
   "outputs": [],
   "source": [
    "# サンプルが合わない"
   ]
  },
  {
   "cell_type": "code",
   "execution_count": 29,
   "id": "12c114ff-9d2d-476f-a3cc-030e19e5579a",
   "metadata": {},
   "outputs": [],
   "source": [
    "q = []\n",
    "for i, A in enumerate(An):\n",
    "    if i == N-1:\n",
    "        heapq.heappush(q, (A, i, 1))\n",
    "    else:\n",
    "        heapq.heappush(q, (A, i, i+1))\n",
    "        "
   ]
  },
  {
   "cell_type": "code",
   "execution_count": 30,
   "id": "c6de6abf-42a2-4475-b7e4-592267bc5cd1",
   "metadata": {},
   "outputs": [],
   "source": [
    "cost = [-1] * N\n",
    "ans = 0\n",
    "while q:\n",
    "    c, i1, i2 = heapq.heappop(q)\n",
    "    if cost[i1] > -1 and cost[i2] > -1:\n",
    "        continue\n",
    "    ans += c\n",
    "    cost[i1] = c\n",
    "    cost[i2] = c"
   ]
  },
  {
   "cell_type": "code",
   "execution_count": 31,
   "id": "d732a478-bb5f-4c6c-8b01-c63835565adf",
   "metadata": {},
   "outputs": [
    {
     "name": "stdout",
     "output_type": "stream",
     "text": [
      "472\n"
     ]
    }
   ],
   "source": [
    "print(ans)"
   ]
  },
  {
   "cell_type": "code",
   "execution_count": 15,
   "id": "45277c8e-9cea-4e38-85f7-4ce989be1add",
   "metadata": {},
   "outputs": [
    {
     "data": {
      "text/plain": [
       "1095"
      ]
     },
     "execution_count": 15,
     "metadata": {},
     "output_type": "execute_result"
    }
   ],
   "source": [
    "sum(An)"
   ]
  },
  {
   "cell_type": "code",
   "execution_count": 21,
   "id": "3a0f8430-5eb4-42f1-9449-0c7eff0b4485",
   "metadata": {},
   "outputs": [],
   "source": [
    "ans = 0\n",
    "for i, c in enumerate(cost):\n",
    "    if cost[i] == c or cost[i-1] == c:\n",
    "        ans += c"
   ]
  },
  {
   "cell_type": "code",
   "execution_count": 22,
   "id": "e5db4391-2b44-41c9-8bde-71ec7ffe043a",
   "metadata": {},
   "outputs": [
    {
     "name": "stdout",
     "output_type": "stream",
     "text": [
      "12\n"
     ]
    }
   ],
   "source": [
    "print(ans)"
   ]
  },
  {
   "cell_type": "code",
   "execution_count": 29,
   "id": "80ded2e7-1076-4ec4-8009-b954786498ec",
   "metadata": {},
   "outputs": [
    {
     "data": {
      "text/plain": [
       "[29, 29, 27, 27, 27, 4, 4, 89, 89, 44, 70, 75, 75, 3, 3, 39, 39, 12, 53, 53]"
      ]
     },
     "execution_count": 29,
     "metadata": {},
     "output_type": "execute_result"
    }
   ],
   "source": [
    "cost"
   ]
  },
  {
   "cell_type": "code",
   "execution_count": null,
   "id": "912dffae-9771-494d-8524-fb70e272d090",
   "metadata": {},
   "outputs": [],
   "source": [
    "# 解説を読んで実装"
   ]
  },
  {
   "cell_type": "code",
   "execution_count": 91,
   "id": "4c44db27-2240-437c-8115-b4934dd21c16",
   "metadata": {},
   "outputs": [],
   "source": [
    "dp = [[10**20] * (N+1) for _ in range(2) ]\n",
    "ans = 10**20\n",
    "for j in range(2):\n",
    "    if j == 0:\n",
    "        dp[0][1] = 0\n",
    "        dp[1][1] = An[0]\n",
    "    else:\n",
    "        dp[0][1] = An[-1]\n",
    "        dp[1][1] = 0\n",
    "    for i, A in enumerate(An[1:], 2):\n",
    "        dp[0][i] = dp[1][i-1]\n",
    "        dp[1][i] = min(dp[0][i-1], dp[1][i-1]) + A\n",
    "    ans = min(ans, dp[0][N], dp[1][N])"
   ]
  },
  {
   "cell_type": "code",
   "execution_count": 92,
   "id": "57bab00b-c0f0-4144-a303-dfbe4bc541e4",
   "metadata": {},
   "outputs": [
    {
     "name": "stdout",
     "output_type": "stream",
     "text": [
      "417\n"
     ]
    }
   ],
   "source": [
    "print(ans)"
   ]
  },
  {
   "cell_type": "code",
   "execution_count": 85,
   "id": "4361a892-ea55-4a85-85c4-a2498bde6a02",
   "metadata": {},
   "outputs": [
    {
     "data": {
      "text/plain": [
       "20"
      ]
     },
     "execution_count": 85,
     "metadata": {},
     "output_type": "execute_result"
    }
   ],
   "source": [
    "i"
   ]
  },
  {
   "cell_type": "code",
   "execution_count": 86,
   "id": "e6f40ed4-8487-4e5e-980c-ced83d7b5d3c",
   "metadata": {},
   "outputs": [
    {
     "data": {
      "text/plain": [
       "([100000000000000000000, 62, 100000000000000000000],\n",
       " [100000000000000000000, 100000000000000000000, 89])"
      ]
     },
     "execution_count": 86,
     "metadata": {},
     "output_type": "execute_result"
    }
   ],
   "source": [
    "dp[0][:3], dp[1][:3]"
   ]
  },
  {
   "cell_type": "code",
   "execution_count": 87,
   "id": "1368e267-abb5-40ed-bc48-f22f16cf9085",
   "metadata": {},
   "outputs": [
    {
     "data": {
      "text/plain": [
       "[[100000000000000000000,\n",
       "  62,\n",
       "  100000000000000000000,\n",
       "  89,\n",
       "  168,\n",
       "  116,\n",
       "  146,\n",
       "  120,\n",
       "  213,\n",
       "  209,\n",
       "  253,\n",
       "  297,\n",
       "  323,\n",
       "  372,\n",
       "  419,\n",
       "  375,\n",
       "  453,\n",
       "  414,\n",
       "  511,\n",
       "  426,\n",
       "  479],\n",
       " [100000000000000000000,\n",
       "  100000000000000000000,\n",
       "  89,\n",
       "  168,\n",
       "  116,\n",
       "  146,\n",
       "  120,\n",
       "  213,\n",
       "  209,\n",
       "  253,\n",
       "  297,\n",
       "  323,\n",
       "  372,\n",
       "  419,\n",
       "  375,\n",
       "  453,\n",
       "  414,\n",
       "  511,\n",
       "  426,\n",
       "  479,\n",
       "  488]]"
      ]
     },
     "execution_count": 87,
     "metadata": {},
     "output_type": "execute_result"
    }
   ],
   "source": [
    "dp"
   ]
  },
  {
   "cell_type": "code",
   "execution_count": null,
   "id": "b505bc80-f3e4-4f8f-a7e6-7c07c78b85b7",
   "metadata": {},
   "outputs": [],
   "source": []
  }
 ],
 "metadata": {
  "kernelspec": {
   "display_name": "Python 3",
   "language": "python",
   "name": "python3"
  },
  "language_info": {
   "codemirror_mode": {
    "name": "ipython",
    "version": 3
   },
   "file_extension": ".py",
   "mimetype": "text/x-python",
   "name": "python",
   "nbconvert_exporter": "python",
   "pygments_lexer": "ipython3",
   "version": "3.6.13"
  }
 },
 "nbformat": 4,
 "nbformat_minor": 5
}
