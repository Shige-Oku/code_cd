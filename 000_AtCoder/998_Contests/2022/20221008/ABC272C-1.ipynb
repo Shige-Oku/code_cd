{
 "cells": [
  {
   "cell_type": "code",
   "execution_count": 1,
   "id": "49787d9d-6def-41b6-8c5c-62cdd56180b7",
   "metadata": {},
   "outputs": [],
   "source": [
    "import sys\n",
    "import numpy as np\n",
    "import math\n",
    "import collections\n",
    "import copy\n",
    "import decimal\n",
    "import itertools\n",
    "import re\n",
    "import bisect\n",
    "import scipy\n",
    "import heapq\n",
    "from collections import deque \n",
    "from functools import reduce\n",
    "from itertools import product\n",
    "from itertools import combinations\n",
    "from functools import lru_cache\n",
    "from scipy.special import comb\n",
    "from numba import njit\n",
    "from bisect import bisect_right\n",
    "from bisect import bisect_left"
   ]
  },
  {
   "cell_type": "code",
   "execution_count": 20,
   "id": "185a3fd0-127c-4ff2-8c30-919f64097912",
   "metadata": {},
   "outputs": [
    {
     "name": "stdin",
     "output_type": "stream",
     "text": [
      " 4\n"
     ]
    }
   ],
   "source": [
    "N = int(input())"
   ]
  },
  {
   "cell_type": "code",
   "execution_count": 27,
   "id": "225a0f12-fe79-45c5-aa02-ea1b00cb25e7",
   "metadata": {},
   "outputs": [
    {
     "name": "stdin",
     "output_type": "stream",
     "text": [
      " 2 4 6 8\n"
     ]
    }
   ],
   "source": [
    "An = list(map(int, input().split()))"
   ]
  },
  {
   "cell_type": "code",
   "execution_count": 28,
   "id": "f0533b6f-2796-400b-9774-05c2fe3ec8cd",
   "metadata": {},
   "outputs": [],
   "source": [
    "o = [0, ]\n",
    "e = [0, ]\n",
    "for A in An:\n",
    "    if A % 2 == 0:\n",
    "        e.append(A)\n",
    "    else:\n",
    "        o.append(A)\n",
    "o.sort()\n",
    "e.sort()"
   ]
  },
  {
   "cell_type": "code",
   "execution_count": 29,
   "id": "c77061a0-689f-4030-838d-7a64cf7b792a",
   "metadata": {},
   "outputs": [
    {
     "name": "stdout",
     "output_type": "stream",
     "text": [
      "14\n"
     ]
    }
   ],
   "source": [
    "if len(o) == 2 and len(e) == 2:\n",
    "    print(-1)\n",
    "else:\n",
    "    if len(o) == 1:\n",
    "        print(e[-2]+e[-1])\n",
    "    elif len(e) == 1:\n",
    "        print(o[-2]+o[-1])\n",
    "    else:\n",
    "        print(max(o[-2]+o[-1], e[-2]+e[-1]))"
   ]
  },
  {
   "cell_type": "code",
   "execution_count": 7,
   "id": "903081a7-e2de-4afd-ba7b-f5987531629a",
   "metadata": {},
   "outputs": [
    {
     "data": {
      "text/plain": [
       "([0, 3], [0, 2, 4])"
      ]
     },
     "execution_count": 7,
     "metadata": {},
     "output_type": "execute_result"
    }
   ],
   "source": [
    "o, e"
   ]
  },
  {
   "cell_type": "code",
   "execution_count": null,
   "id": "e3d56ea9-4baa-4b97-8742-ec6beb5b1578",
   "metadata": {},
   "outputs": [],
   "source": []
  }
 ],
 "metadata": {
  "kernelspec": {
   "display_name": "Python 3",
   "language": "python",
   "name": "python3"
  },
  "language_info": {
   "codemirror_mode": {
    "name": "ipython",
    "version": 3
   },
   "file_extension": ".py",
   "mimetype": "text/x-python",
   "name": "python",
   "nbconvert_exporter": "python",
   "pygments_lexer": "ipython3",
   "version": "3.6.13"
  }
 },
 "nbformat": 4,
 "nbformat_minor": 5
}
