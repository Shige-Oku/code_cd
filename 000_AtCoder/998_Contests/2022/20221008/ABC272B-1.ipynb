{
 "cells": [
  {
   "cell_type": "code",
   "execution_count": 1,
   "id": "b80d6395-a8a9-4029-810c-88df0577698b",
   "metadata": {},
   "outputs": [],
   "source": [
    "import sys\n",
    "import numpy as np\n",
    "import math\n",
    "import collections\n",
    "import copy\n",
    "import decimal\n",
    "import itertools\n",
    "import re\n",
    "import bisect\n",
    "import scipy\n",
    "import heapq\n",
    "from collections import deque \n",
    "from functools import reduce\n",
    "from itertools import product\n",
    "from itertools import combinations\n",
    "from functools import lru_cache\n",
    "from scipy.special import comb\n",
    "from numba import njit\n",
    "from bisect import bisect_right\n",
    "from bisect import bisect_left"
   ]
  },
  {
   "cell_type": "code",
   "execution_count": 2,
   "id": "df7a4ad0-0460-43b1-a4d5-ec31c11bba96",
   "metadata": {},
   "outputs": [
    {
     "name": "stdin",
     "output_type": "stream",
     "text": [
      " 3 3\n"
     ]
    }
   ],
   "source": [
    "N, M = map(int, input().split())"
   ]
  },
  {
   "cell_type": "code",
   "execution_count": 3,
   "id": "000020c8-a976-44ad-8f02-61efc849397c",
   "metadata": {},
   "outputs": [
    {
     "name": "stdin",
     "output_type": "stream",
     "text": [
      " 2 1 2\n",
      " 2 2 3\n",
      " 2 1 3\n"
     ]
    }
   ],
   "source": [
    "KXn = [list(map(int, input().split())) for _ in range(M)]"
   ]
  },
  {
   "cell_type": "code",
   "execution_count": 17,
   "id": "74cef2ca-2ca6-406b-9679-c79a2ac0be51",
   "metadata": {},
   "outputs": [],
   "source": [
    "b = [set() for _ in range(N+1)]\n",
    "for K, *X in KXn:\n",
    "    for i in range(K-1):\n",
    "        for j in range(i+1, K):\n",
    "            b[X[i]].add(X[j])\n",
    "            b[X[j]].add(X[i])\n"
   ]
  },
  {
   "cell_type": "code",
   "execution_count": 18,
   "id": "e446a701-965b-4445-a404-4c431cb62551",
   "metadata": {},
   "outputs": [
    {
     "name": "stdout",
     "output_type": "stream",
     "text": [
      "Yes\n"
     ]
    }
   ],
   "source": [
    "for i in range(1, N+1):\n",
    "    if len(b[i]) != N-1:\n",
    "        print('No')\n",
    "        break\n",
    "else:\n",
    "    print('Yes')"
   ]
  },
  {
   "cell_type": "code",
   "execution_count": 16,
   "id": "e2554580-9792-46e9-86f3-477727112fb5",
   "metadata": {},
   "outputs": [
    {
     "data": {
      "text/plain": [
       "[set(), {2, 3}, {1, 3}, {1, 2}]"
      ]
     },
     "execution_count": 16,
     "metadata": {},
     "output_type": "execute_result"
    }
   ],
   "source": [
    "b"
   ]
  },
  {
   "cell_type": "code",
   "execution_count": null,
   "id": "0bb9fdac-06b8-476f-9dd6-42c5b5995e75",
   "metadata": {},
   "outputs": [],
   "source": []
  }
 ],
 "metadata": {
  "kernelspec": {
   "display_name": "Python 3",
   "language": "python",
   "name": "python3"
  },
  "language_info": {
   "codemirror_mode": {
    "name": "ipython",
    "version": 3
   },
   "file_extension": ".py",
   "mimetype": "text/x-python",
   "name": "python",
   "nbconvert_exporter": "python",
   "pygments_lexer": "ipython3",
   "version": "3.6.13"
  }
 },
 "nbformat": 4,
 "nbformat_minor": 5
}
