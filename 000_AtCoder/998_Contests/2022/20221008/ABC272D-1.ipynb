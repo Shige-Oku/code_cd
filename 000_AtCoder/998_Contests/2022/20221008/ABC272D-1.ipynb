{
 "cells": [
  {
   "cell_type": "code",
   "execution_count": 1,
   "id": "404b876f-9ae6-44a2-8db4-aa0830cab52c",
   "metadata": {},
   "outputs": [],
   "source": [
    "import sys\n",
    "import numpy as np\n",
    "import math\n",
    "import collections\n",
    "import copy\n",
    "import decimal\n",
    "import itertools\n",
    "import re\n",
    "import bisect\n",
    "import scipy\n",
    "import heapq\n",
    "from collections import deque \n",
    "from functools import reduce\n",
    "from itertools import product\n",
    "from itertools import combinations\n",
    "from functools import lru_cache\n",
    "from scipy.special import comb\n",
    "from numba import njit\n",
    "from bisect import bisect_right\n",
    "from bisect import bisect_left"
   ]
  },
  {
   "cell_type": "code",
   "execution_count": 25,
   "id": "7d717985-c6ed-4465-a81c-0ad0725137c6",
   "metadata": {},
   "outputs": [
    {
     "name": "stdin",
     "output_type": "stream",
     "text": [
      " 10 5\n"
     ]
    }
   ],
   "source": [
    "N, M = map(int, input().split())"
   ]
  },
  {
   "cell_type": "code",
   "execution_count": 26,
   "id": "c1bcd9fb-ca24-4e06-8e4b-59cad528e85a",
   "metadata": {},
   "outputs": [],
   "source": [
    "# 素数のリスト作成\n",
    "import numpy as np\n",
    "def get_prime_list(number):\n",
    "    is_prime = np.ones(number+1, dtype=bool)\n",
    "#     is_prime[:2] = False\n",
    "    num_sqrt = np.sqrt(number)\n",
    "    for i in range(2, int(num_sqrt)+1):\n",
    "        if (is_prime[i]):\n",
    "            is_prime[i*2::i] = False\n",
    "    prime_list = np.arange(number+1)[is_prime]\n",
    "    return prime_list"
   ]
  },
  {
   "cell_type": "code",
   "execution_count": 43,
   "id": "d0e05650-ce8f-4623-b757-5c0263f2df5b",
   "metadata": {},
   "outputs": [],
   "source": [
    "primes = get_prime_list(M)\n",
    "pc = []\n",
    "for i in range(len(primes)-1):\n",
    "    for j in range(i+1, len(primes)):\n",
    "        pi, pj = primes[i], primes[j]\n",
    "        if pi**2 + pj**2 == M:\n",
    "            pc.append((pi, pj))"
   ]
  },
  {
   "cell_type": "code",
   "execution_count": 46,
   "id": "d44dc2ce-ad09-43a6-b5d8-10b8914f8bd0",
   "metadata": {},
   "outputs": [],
   "source": [
    "from collections import deque \n",
    "q = deque()\n",
    "ans = [[-1]*N for _ in range(N)]\n",
    "q.append((0, 0))\n",
    "ans[0][0] = 0\n",
    "while q:\n",
    "    x, y = q.popleft()\n",
    "    for px, py in pc:\n",
    "        for x1, y1 in ((px, py), (px, -py), (-px, py), (-px, -py)):\n",
    "            if x+x1 < 0 or x+x1 >= N:\n",
    "                continue\n",
    "            if y+y1 < 0 or y+y1 >= N:\n",
    "                continue\n",
    "            if ans[x+x1][y+y1] != -1:\n",
    "                continue\n",
    "            q.append((x+x1, y+y1))\n",
    "            ans[x+x1][y+y1] = ans[x][y] + 1\n",
    "        for y1, x1 in ((px, py), (px, -py), (-px, py), (-px, -py)):\n",
    "            if x+x1 < 0 or x+x1 >= N:\n",
    "                continue\n",
    "            if y+y1 < 0 or y+y1 >= N:\n",
    "                continue\n",
    "            if ans[x+x1][y+y1] != -1:\n",
    "                continue\n",
    "            q.append((x+x1, y+y1))\n",
    "            ans[x+x1][y+y1] = ans[x][y] + 1\n"
   ]
  },
  {
   "cell_type": "code",
   "execution_count": 47,
   "id": "36796c45-a6b7-4050-8780-c9020f1c47ef",
   "metadata": {},
   "outputs": [
    {
     "name": "stdout",
     "output_type": "stream",
     "text": [
      "0 3 2 3 2 3 4 5 4 5\n",
      "3 4 1 2 3 4 3 4 5 6\n",
      "2 1 4 3 2 3 4 5 4 5\n",
      "3 2 3 2 3 4 3 4 5 6\n",
      "2 3 2 3 4 3 4 5 4 5\n",
      "3 4 3 4 3 4 5 4 5 6\n",
      "4 3 4 3 4 5 4 5 6 5\n",
      "5 4 5 4 5 4 5 6 5 6\n",
      "4 5 4 5 4 5 6 5 6 7\n",
      "5 6 5 6 5 6 5 6 7 6\n"
     ]
    }
   ],
   "source": [
    "for a in ans:\n",
    "    print(*a)"
   ]
  },
  {
   "cell_type": "code",
   "execution_count": 31,
   "id": "41113ea6-2cc0-4038-bb93-1b32852933c2",
   "metadata": {},
   "outputs": [
    {
     "data": {
      "text/plain": [
       "(array([0, 1, 2, 3, 5]), [(1, 2)])"
      ]
     },
     "execution_count": 31,
     "metadata": {},
     "output_type": "execute_result"
    }
   ],
   "source": [
    "primes, pc"
   ]
  },
  {
   "cell_type": "code",
   "execution_count": null,
   "id": "a847a78e-04c2-46e6-9d09-4876b9489754",
   "metadata": {},
   "outputs": [],
   "source": []
  },
  {
   "cell_type": "code",
   "execution_count": 3,
   "id": "571f8b8d-574a-4a66-8ebf-8d3dfbca7780",
   "metadata": {},
   "outputs": [],
   "source": [
    "import deque\n",
    "q = deque()\n",
    "ans = [[-1]*N for _ in range(N)]\n",
    "q.append((0, 0))\n",
    "while q:\n",
    "    x, y = q.popleft()\n",
    "    for i in range(1, M+1):\n",
    "        j = "
   ]
  },
  {
   "cell_type": "code",
   "execution_count": 4,
   "id": "1c4d24c5-a4d9-4fce-b222-4ab877556183",
   "metadata": {},
   "outputs": [
    {
     "data": {
      "text/plain": [
       "[[-1, -1, -1], [-1, -1, -1], [-1, -1, -1]]"
      ]
     },
     "execution_count": 4,
     "metadata": {},
     "output_type": "execute_result"
    }
   ],
   "source": [
    "ans"
   ]
  },
  {
   "cell_type": "code",
   "execution_count": 5,
   "id": "12008d8b-372f-4fd7-911a-094c3f3f6535",
   "metadata": {},
   "outputs": [
    {
     "data": {
      "text/plain": [
       "0.30000000000000004"
      ]
     },
     "execution_count": 5,
     "metadata": {},
     "output_type": "execute_result"
    }
   ],
   "source": [
    "1.3 % 1"
   ]
  },
  {
   "cell_type": "code",
   "execution_count": null,
   "id": "1eb428c1-fb78-4294-bf6f-3db9ef581901",
   "metadata": {},
   "outputs": [],
   "source": []
  }
 ],
 "metadata": {
  "kernelspec": {
   "display_name": "Python 3",
   "language": "python",
   "name": "python3"
  },
  "language_info": {
   "codemirror_mode": {
    "name": "ipython",
    "version": 3
   },
   "file_extension": ".py",
   "mimetype": "text/x-python",
   "name": "python",
   "nbconvert_exporter": "python",
   "pygments_lexer": "ipython3",
   "version": "3.6.13"
  }
 },
 "nbformat": 4,
 "nbformat_minor": 5
}
