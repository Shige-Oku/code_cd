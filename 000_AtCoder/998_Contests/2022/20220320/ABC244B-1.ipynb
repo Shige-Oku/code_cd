{
 "cells": [
  {
   "cell_type": "code",
   "execution_count": 1,
   "id": "ed968b0a-b0f3-4659-9ed5-b6fd12de78eb",
   "metadata": {},
   "outputs": [],
   "source": [
    "import sys\n",
    "import numpy as np\n",
    "import math\n",
    "import collections\n",
    "import copy\n",
    "import decimal\n",
    "import itertools\n",
    "import re\n",
    "import bisect\n",
    "import scipy\n",
    "import heapq\n",
    "from collections import deque \n",
    "from functools import reduce\n",
    "from itertools import product\n",
    "from itertools import combinations\n",
    "from functools import lru_cache\n",
    "from scipy.special import comb\n",
    "from numba import njit\n",
    "from bisect import bisect_right\n",
    "from bisect import bisect_left"
   ]
  },
  {
   "cell_type": "code",
   "execution_count": 9,
   "id": "3ce64cca-be8e-4b22-afcd-53df091c2729",
   "metadata": {},
   "outputs": [
    {
     "name": "stdin",
     "output_type": "stream",
     "text": [
      " 20\n"
     ]
    }
   ],
   "source": [
    "N = int(input())"
   ]
  },
  {
   "cell_type": "code",
   "execution_count": 10,
   "id": "06d97c25-6402-4810-b5a6-8e8c8a21d364",
   "metadata": {},
   "outputs": [
    {
     "name": "stdin",
     "output_type": "stream",
     "text": [
      " SRSRSSRSSSRSRRRRRSRR\n"
     ]
    }
   ],
   "source": [
    "T = input()"
   ]
  },
  {
   "cell_type": "code",
   "execution_count": 11,
   "id": "d7d674f0-7c30-4e7f-a8f0-0fbf75985ce3",
   "metadata": {},
   "outputs": [],
   "source": [
    "ansx, ansy = 0, 0\n",
    "p = 0\n",
    "for t in T:\n",
    "    if t == 'S':\n",
    "        if p == 0:\n",
    "            ansx += 1\n",
    "        elif p == 1:\n",
    "            ansy -= 1\n",
    "        elif p == 2:\n",
    "            ansx -= 1\n",
    "        else:\n",
    "            ansy += 1\n",
    "    else:\n",
    "        p += 1\n",
    "        p %= 4"
   ]
  },
  {
   "cell_type": "code",
   "execution_count": 12,
   "id": "8e765e8f-c717-4b85-a29e-154c9a7ea5cd",
   "metadata": {},
   "outputs": [
    {
     "name": "stdout",
     "output_type": "stream",
     "text": [
      "0 1\n"
     ]
    }
   ],
   "source": [
    "print(ansx, ansy)"
   ]
  },
  {
   "cell_type": "code",
   "execution_count": null,
   "id": "c98858c5-494a-4699-9bcb-577c3a988318",
   "metadata": {},
   "outputs": [],
   "source": []
  }
 ],
 "metadata": {
  "kernelspec": {
   "display_name": "Python 3",
   "language": "python",
   "name": "python3"
  },
  "language_info": {
   "codemirror_mode": {
    "name": "ipython",
    "version": 3
   },
   "file_extension": ".py",
   "mimetype": "text/x-python",
   "name": "python",
   "nbconvert_exporter": "python",
   "pygments_lexer": "ipython3",
   "version": "3.6.13"
  }
 },
 "nbformat": 4,
 "nbformat_minor": 5
}
