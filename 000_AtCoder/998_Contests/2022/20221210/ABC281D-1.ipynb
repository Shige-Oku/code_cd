{
 "cells": [
  {
   "cell_type": "code",
   "execution_count": 1,
   "id": "bcfc8a44-13f6-46ac-8cfc-41df892844ce",
   "metadata": {},
   "outputs": [],
   "source": [
    "import sys\n",
    "import numpy as np\n",
    "import math\n",
    "import collections\n",
    "import copy\n",
    "import decimal\n",
    "import itertools\n",
    "import re\n",
    "import bisect\n",
    "import scipy\n",
    "import heapq\n",
    "from collections import deque \n",
    "from functools import reduce\n",
    "from itertools import product\n",
    "from itertools import combinations\n",
    "from functools import lru_cache\n",
    "from scipy.special import comb\n",
    "from numba import njit\n",
    "from bisect import bisect_right\n",
    "from bisect import bisect_left"
   ]
  },
  {
   "cell_type": "code",
   "execution_count": 20,
   "id": "6298feba-2ae0-4055-b97e-0410249cdc16",
   "metadata": {},
   "outputs": [
    {
     "name": "stdin",
     "output_type": "stream",
     "text": [
      " 4 2 2 \n"
     ]
    }
   ],
   "source": [
    "N, K, D = map(int, input().split())"
   ]
  },
  {
   "cell_type": "code",
   "execution_count": 21,
   "id": "074d0796-816d-4230-aa60-fdbb5b19fe3e",
   "metadata": {},
   "outputs": [
    {
     "name": "stdin",
     "output_type": "stream",
     "text": [
      " 1 2 3 4\n"
     ]
    }
   ],
   "source": [
    "An = list(map(int, input().split()))"
   ]
  },
  {
   "cell_type": "code",
   "execution_count": null,
   "id": "fb9bbd39-d59f-43f4-8ff0-21b61db6b082",
   "metadata": {},
   "outputs": [],
   "source": [
    "# 解説を読んで実装"
   ]
  },
  {
   "cell_type": "code",
   "execution_count": 46,
   "id": "b7b0c07b-18af-45d0-80a5-85900f6403b3",
   "metadata": {},
   "outputs": [],
   "source": [
    "dp = [] \n",
    "for i in range(N+1):\n",
    "    n = [[-1] * (D) for _ in range(K+1)]\n",
    "    dp.append(n)\n",
    "dp[0][0][0] = 0\n",
    "for i, A in enumerate(An):\n",
    "    for j in range(K+1):\n",
    "        for k in range(D):\n",
    "            if dp[i][j][k] == -1:\n",
    "                continue\n",
    "            dp[i+1][j][k] = max(dp[i+1][j][k], dp[i][j][k])\n",
    "            if j < K:\n",
    "                dp[i+1][j+1][(k+A)%D] = max(dp[i+1][j+1][(k+A)%D], dp[i][j][k]+A)\n",
    "        "
   ]
  },
  {
   "cell_type": "code",
   "execution_count": 47,
   "id": "78db73a3-a9dd-4428-acc0-e49a0853d77d",
   "metadata": {},
   "outputs": [
    {
     "name": "stdout",
     "output_type": "stream",
     "text": [
      "6\n"
     ]
    }
   ],
   "source": [
    "print(dp[-1][-1][0])"
   ]
  },
  {
   "cell_type": "code",
   "execution_count": 48,
   "id": "e3227244-ea90-4398-9aa5-b99ae69cc767",
   "metadata": {},
   "outputs": [
    {
     "data": {
      "text/plain": [
       "[[[0, -1], [-1, -1], [-1, -1]],\n",
       " [[0, -1], [-1, 1], [-1, -1]],\n",
       " [[0, -1], [2, 1], [-1, 3]],\n",
       " [[0, -1], [2, 3], [4, 5]],\n",
       " [[0, -1], [4, 3], [6, 7]]]"
      ]
     },
     "execution_count": 48,
     "metadata": {},
     "output_type": "execute_result"
    }
   ],
   "source": [
    "dp"
   ]
  },
  {
   "cell_type": "code",
   "execution_count": 65,
   "id": "9345e744-3ca4-4aa7-bc59-aaa1b93f3f37",
   "metadata": {},
   "outputs": [],
   "source": [
    "dp2 = []\n",
    "for _ in range(N+1):\n",
    "    d = [[-1] * D for _ in range(K+1)]\n",
    "    dp2.append(d)\n",
    "for i in range(N+1):\n",
    "    dp2[i][0][0] = 0\n",
    "for i, A in enumerate(An, 1):\n",
    "    for j in range(1, K+1):\n",
    "        for k in range(D):\n",
    "            if dp2[i-1][j][k] != -1:\n",
    "                dp2[i][j][k] = max(dp2[i][j][k], dp2[i-1][j][k])\n",
    "            if dp2[i-1][j-1][k] != -1:\n",
    "                dp2[i][j][(k+A)%D] = max(dp2[i][j][(k+A)%D], dp2[i-1][j-1][k]+A)"
   ]
  },
  {
   "cell_type": "code",
   "execution_count": 66,
   "id": "0c251b16-e342-4141-a674-c63a9aa2141f",
   "metadata": {},
   "outputs": [
    {
     "name": "stdout",
     "output_type": "stream",
     "text": [
      "6\n"
     ]
    }
   ],
   "source": [
    "print(dp2[-1][-1][0])"
   ]
  },
  {
   "cell_type": "code",
   "execution_count": 67,
   "id": "db82fe03-06fb-412f-8fa2-cbd640b0b752",
   "metadata": {},
   "outputs": [
    {
     "data": {
      "text/plain": [
       "[[[0, -1], [-1, -1], [-1, -1]],\n",
       " [[0, -1], [-1, 1], [-1, -1]],\n",
       " [[0, -1], [2, 1], [-1, 3]],\n",
       " [[0, -1], [2, 3], [4, 5]],\n",
       " [[0, -1], [4, 3], [6, 7]]]"
      ]
     },
     "execution_count": 67,
     "metadata": {},
     "output_type": "execute_result"
    }
   ],
   "source": [
    "dp2"
   ]
  },
  {
   "cell_type": "code",
   "execution_count": 97,
   "id": "8ba4d3b3-8f60-4d1c-ac54-b9d2e6005fb8",
   "metadata": {},
   "outputs": [],
   "source": [
    "dp = [] \n",
    "for i in range(N+1):\n",
    "    n = [[0] * D for _ in range(K+1)]\n",
    "    dp.append(n)"
   ]
  },
  {
   "cell_type": "code",
   "execution_count": 79,
   "id": "abc935f5-ae14-494a-9843-5ceb0b1761aa",
   "metadata": {},
   "outputs": [],
   "source": [
    "def solve(n, c, t):\n",
    "    ret = -1\n",
    "    if n >= K:\n",
    "        return t\n",
    "    r = solve(n+1, c+1, t+An[n])\n",
    "    if r % D == 0:\n",
    "        ret = r\n",
    "    r = solve(n+1, c+1, t)\n",
    "    return ret"
   ]
  },
  {
   "cell_type": "code",
   "execution_count": 80,
   "id": "0427b510-2379-453b-81fe-f5a33a2c7f6b",
   "metadata": {},
   "outputs": [
    {
     "name": "stdout",
     "output_type": "stream",
     "text": [
      "-1\n"
     ]
    }
   ],
   "source": [
    "print(solve(0, 0, 0))"
   ]
  },
  {
   "cell_type": "code",
   "execution_count": 49,
   "id": "ab87434b-82dd-443d-ae9a-88f6c1d0f0f2",
   "metadata": {},
   "outputs": [
    {
     "ename": "TypeError",
     "evalue": "'list' object cannot be interpreted as an integer",
     "output_type": "error",
     "traceback": [
      "\u001b[1;31m---------------------------------------------------------------------------\u001b[0m",
      "\u001b[1;31mTypeError\u001b[0m                                 Traceback (most recent call last)",
      "\u001b[1;32m<ipython-input-49-7739acb95690>\u001b[0m in \u001b[0;36m<module>\u001b[1;34m\u001b[0m\n\u001b[0;32m      1\u001b[0m \u001b[0mn\u001b[0m \u001b[1;33m=\u001b[0m \u001b[1;33m[\u001b[0m\u001b[0mset\u001b[0m\u001b[1;33m(\u001b[0m\u001b[1;33m)\u001b[0m \u001b[1;32mfor\u001b[0m \u001b[0m_\u001b[0m \u001b[1;32min\u001b[0m \u001b[0mrange\u001b[0m\u001b[1;33m(\u001b[0m\u001b[0mK\u001b[0m\u001b[1;33m+\u001b[0m\u001b[1;36m1\u001b[0m\u001b[1;33m)\u001b[0m\u001b[1;33m]\u001b[0m\u001b[1;33m\u001b[0m\u001b[1;33m\u001b[0m\u001b[0m\n\u001b[1;32m----> 2\u001b[1;33m \u001b[0mdp\u001b[0m \u001b[1;33m=\u001b[0m \u001b[1;33m[\u001b[0m\u001b[0mn\u001b[0m \u001b[1;32mfor\u001b[0m \u001b[0m_\u001b[0m \u001b[1;32min\u001b[0m \u001b[0mrange\u001b[0m\u001b[1;33m(\u001b[0m\u001b[0mn\u001b[0m\u001b[1;33m)\u001b[0m\u001b[1;33m]\u001b[0m\u001b[1;33m\u001b[0m\u001b[1;33m\u001b[0m\u001b[0m\n\u001b[0m\u001b[0;32m      3\u001b[0m \u001b[0mn\u001b[0m\u001b[1;33m[\u001b[0m\u001b[1;36m0\u001b[0m\u001b[1;33m]\u001b[0m\u001b[1;33m.\u001b[0m\u001b[0madd\u001b[0m\u001b[1;33m(\u001b[0m\u001b[1;36m0\u001b[0m\u001b[1;33m)\u001b[0m\u001b[1;33m\u001b[0m\u001b[1;33m\u001b[0m\u001b[0m\n\u001b[0;32m      4\u001b[0m \u001b[1;32mfor\u001b[0m \u001b[0mi\u001b[0m\u001b[1;33m,\u001b[0m \u001b[0mA\u001b[0m \u001b[1;32min\u001b[0m \u001b[0menumerate\u001b[0m\u001b[1;33m(\u001b[0m\u001b[0mAn\u001b[0m\u001b[1;33m,\u001b[0m \u001b[1;36m1\u001b[0m\u001b[1;33m)\u001b[0m\u001b[1;33m:\u001b[0m\u001b[1;33m\u001b[0m\u001b[1;33m\u001b[0m\u001b[0m\n\u001b[0;32m      5\u001b[0m     \u001b[1;32mfor\u001b[0m \u001b[0mj\u001b[0m \u001b[1;32min\u001b[0m \u001b[0mrange\u001b[0m\u001b[1;33m(\u001b[0m\u001b[0mmin\u001b[0m\u001b[1;33m(\u001b[0m\u001b[0mi\u001b[0m\u001b[1;33m,\u001b[0m \u001b[0mK\u001b[0m\u001b[1;33m)\u001b[0m\u001b[1;33m)\u001b[0m\u001b[1;33m:\u001b[0m\u001b[1;33m\u001b[0m\u001b[1;33m\u001b[0m\u001b[0m\n",
      "\u001b[1;31mTypeError\u001b[0m: 'list' object cannot be interpreted as an integer"
     ]
    }
   ],
   "source": [
    "n = [set() for _ in range(K+1)]\n",
    "dp = [n for _ in range(n)]\n",
    "n[0].add(0)\n",
    "for i, A in enumerate(An, 1):\n",
    "    for j in range(min(i, K)):\n",
    "        for n1 in n[j]:\n",
    "            n[j+1].add(n1+A)\n"
   ]
  },
  {
   "cell_type": "code",
   "execution_count": null,
   "id": "532d0b43-7a02-4d2c-9a89-bcfa6485d0ba",
   "metadata": {},
   "outputs": [],
   "source": []
  },
  {
   "cell_type": "code",
   "execution_count": null,
   "id": "80a43e16-7537-46d0-ab3c-9a81dc578734",
   "metadata": {},
   "outputs": [],
   "source": []
  },
  {
   "cell_type": "code",
   "execution_count": 14,
   "id": "fb388a4d-7d1b-495b-beb2-7d90a28bca40",
   "metadata": {},
   "outputs": [
    {
     "data": {
      "text/plain": [
       "([{0}, {1, 2, 3, 4}, {3, 4, 5, 6, 7, 8}], 4, 1)"
      ]
     },
     "execution_count": 14,
     "metadata": {},
     "output_type": "execute_result"
    }
   ],
   "source": [
    "n, i, j"
   ]
  },
  {
   "cell_type": "code",
   "execution_count": 55,
   "id": "3a455e0c-d1ca-4569-a3c1-0aafb6a75837",
   "metadata": {},
   "outputs": [],
   "source": [
    "dp = [] \n",
    "for i in range(N+1):\n",
    "    n = [set() for _ in range(K+1)]\n",
    "    dp.append(n)\n",
    "dp[0][0].add(0)\n",
    "for i, A in enumerate(An, 1):\n",
    "    for j in range(min(i, K)+1):\n",
    "        for s in dp[i-1][j]:\n",
    "            dp[i][j].add(s)\n",
    "    for j in range(1, min(i, K)+1):\n",
    "        for s in dp[i-1][j-1]:\n",
    "            dp[i][j].add(s+A)\n",
    "        "
   ]
  },
  {
   "cell_type": "code",
   "execution_count": 56,
   "id": "891db59a-aa8f-41af-86fb-1c01c281cb63",
   "metadata": {},
   "outputs": [
    {
     "name": "stdout",
     "output_type": "stream",
     "text": [
      "-1\n"
     ]
    }
   ],
   "source": [
    "ans = -1\n",
    "for s in dp[-1][-1]:\n",
    "    if s % D == 0:\n",
    "        ans = max(ans, s)\n",
    "print(ans)"
   ]
  },
  {
   "cell_type": "code",
   "execution_count": 45,
   "id": "4b551870-0374-428d-aafb-630d7308c95c",
   "metadata": {},
   "outputs": [
    {
     "data": {
      "text/plain": [
       "[[{0}, set(), set()],\n",
       " [{0}, {1}, set()],\n",
       " [{0}, {1, 2}, {3}],\n",
       " [{0}, {1, 2, 3}, {3, 4, 5}],\n",
       " [{0}, {1, 2, 3, 4}, {3, 4, 5, 6, 7}]]"
      ]
     },
     "execution_count": 45,
     "metadata": {},
     "output_type": "execute_result"
    }
   ],
   "source": [
    "dp"
   ]
  },
  {
   "cell_type": "code",
   "execution_count": 28,
   "id": "8d1efe66-6453-441d-b546-c50cd694060c",
   "metadata": {},
   "outputs": [
    {
     "data": {
      "text/plain": [
       "[set(), set(), set()]"
      ]
     },
     "execution_count": 28,
     "metadata": {},
     "output_type": "execute_result"
    }
   ],
   "source": [
    "n"
   ]
  },
  {
   "cell_type": "code",
   "execution_count": 48,
   "id": "6c89fe2d-77bf-4619-bc52-8d2a36d84e76",
   "metadata": {},
   "outputs": [
    {
     "data": {
      "text/plain": [
       "6"
      ]
     },
     "execution_count": 48,
     "metadata": {},
     "output_type": "execute_result"
    }
   ],
   "source": [
    "ans"
   ]
  },
  {
   "cell_type": "code",
   "execution_count": 73,
   "id": "7ad04dc1-f03a-413e-9b7a-e5066d88d097",
   "metadata": {},
   "outputs": [],
   "source": [
    "from itertools import permutations\n",
    "ans = -1\n",
    "l = list(range(N))\n",
    "for P in permutations(l, K):\n",
    "    t = 0\n",
    "    for p in P:\n",
    "        t += An[p]\n",
    "    if t % D == 0:\n",
    "        ans = max(ans, t)"
   ]
  },
  {
   "cell_type": "code",
   "execution_count": 74,
   "id": "dd1a8cae-8bad-43ea-91fc-dbded8a46351",
   "metadata": {},
   "outputs": [
    {
     "name": "stdout",
     "output_type": "stream",
     "text": [
      "6\n"
     ]
    }
   ],
   "source": [
    "print(ans)"
   ]
  },
  {
   "cell_type": "code",
   "execution_count": null,
   "id": "d4f6660f-9c90-4123-b3ec-076392112426",
   "metadata": {},
   "outputs": [],
   "source": []
  }
 ],
 "metadata": {
  "kernelspec": {
   "display_name": "Python 3",
   "language": "python",
   "name": "python3"
  },
  "language_info": {
   "codemirror_mode": {
    "name": "ipython",
    "version": 3
   },
   "file_extension": ".py",
   "mimetype": "text/x-python",
   "name": "python",
   "nbconvert_exporter": "python",
   "pygments_lexer": "ipython3",
   "version": "3.6.13"
  }
 },
 "nbformat": 4,
 "nbformat_minor": 5
}
