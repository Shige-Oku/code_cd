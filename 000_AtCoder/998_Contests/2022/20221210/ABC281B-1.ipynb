{
 "cells": [
  {
   "cell_type": "code",
   "execution_count": 1,
   "id": "0dd57d89-1f92-41e9-898a-ab0500862c95",
   "metadata": {},
   "outputs": [],
   "source": [
    "import sys\n",
    "import numpy as np\n",
    "import math\n",
    "import collections\n",
    "import copy\n",
    "import decimal\n",
    "import itertools\n",
    "import re\n",
    "import bisect\n",
    "import scipy\n",
    "import heapq\n",
    "from collections import deque \n",
    "from functools import reduce\n",
    "from itertools import product\n",
    "from itertools import combinations\n",
    "from functools import lru_cache\n",
    "from scipy.special import comb\n",
    "from numba import njit\n",
    "from bisect import bisect_right\n",
    "from bisect import bisect_left"
   ]
  },
  {
   "cell_type": "code",
   "execution_count": 44,
   "id": "08d51864-d4db-4fdd-a360-a58d34a4d6be",
   "metadata": {},
   "outputs": [
    {
     "name": "stdin",
     "output_type": "stream",
     "text": [
      " K012345K\n"
     ]
    }
   ],
   "source": [
    "S = input()"
   ]
  },
  {
   "cell_type": "code",
   "execution_count": 45,
   "id": "6b118a19-58e6-4fdb-b269-66f95d97e658",
   "metadata": {},
   "outputs": [],
   "source": [
    "def isCheck():\n",
    "    if len(S) != 8:\n",
    "        return False\n",
    "    if not S[0].isupper():\n",
    "        return False\n",
    "    if not S[1:-1].isdigit():\n",
    "        return False\n",
    "    n = int(S[1:-1])\n",
    "    if n < 100000 or n > 999999:\n",
    "        return False\n",
    "    if not S[-1].isupper():\n",
    "        return False\n",
    "    \n",
    "    return True"
   ]
  },
  {
   "cell_type": "code",
   "execution_count": 46,
   "id": "091932bf-aa2a-451f-9506-b3eb2ff3dd3f",
   "metadata": {},
   "outputs": [
    {
     "name": "stdout",
     "output_type": "stream",
     "text": [
      "No\n"
     ]
    }
   ],
   "source": [
    "print('Yes' if isCheck() else 'No')"
   ]
  },
  {
   "cell_type": "code",
   "execution_count": 6,
   "id": "8c8bd97b-2c8b-42a1-ba11-85d1a0fe47b3",
   "metadata": {},
   "outputs": [
    {
     "data": {
      "text/plain": [
       "True"
      ]
     },
     "execution_count": 6,
     "metadata": {},
     "output_type": "execute_result"
    }
   ],
   "source": [
    "S[0].isupper()"
   ]
  },
  {
   "cell_type": "code",
   "execution_count": null,
   "id": "f197cc10-a5d4-4103-9e24-65060d9724d9",
   "metadata": {},
   "outputs": [],
   "source": []
  }
 ],
 "metadata": {
  "kernelspec": {
   "display_name": "Python 3",
   "language": "python",
   "name": "python3"
  },
  "language_info": {
   "codemirror_mode": {
    "name": "ipython",
    "version": 3
   },
   "file_extension": ".py",
   "mimetype": "text/x-python",
   "name": "python",
   "nbconvert_exporter": "python",
   "pygments_lexer": "ipython3",
   "version": "3.6.13"
  }
 },
 "nbformat": 4,
 "nbformat_minor": 5
}
