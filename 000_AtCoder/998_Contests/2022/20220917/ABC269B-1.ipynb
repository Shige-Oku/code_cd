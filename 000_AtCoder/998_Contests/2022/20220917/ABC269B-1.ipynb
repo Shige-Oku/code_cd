{
 "cells": [
  {
   "cell_type": "code",
   "execution_count": 1,
   "id": "9105d571-19c5-45f8-b295-2f30e5614c2f",
   "metadata": {},
   "outputs": [],
   "source": [
    "import sys\n",
    "import numpy as np\n",
    "import math\n",
    "import collections\n",
    "import copy\n",
    "import decimal\n",
    "import itertools\n",
    "import re\n",
    "import bisect\n",
    "import scipy\n",
    "import heapq\n",
    "from collections import deque \n",
    "from functools import reduce\n",
    "from itertools import product\n",
    "from itertools import combinations\n",
    "from functools import lru_cache\n",
    "from scipy.special import comb\n",
    "from numba import njit\n",
    "from bisect import bisect_right\n",
    "from bisect import bisect_left"
   ]
  },
  {
   "cell_type": "code",
   "execution_count": 3,
   "id": "48aba517-4731-477b-b281-c8eadcd1c752",
   "metadata": {},
   "outputs": [
    {
     "name": "stdin",
     "output_type": "stream",
     "text": [
      " ..........\n",
      " ..........\n",
      " ..........\n",
      " ..........\n",
      " ...######.\n",
      " ...######.\n",
      " ...######.\n",
      " ...######.\n",
      " ..........\n",
      " ..........\n"
     ]
    }
   ],
   "source": [
    "Sn = [input() for _ in range(10)]"
   ]
  },
  {
   "cell_type": "code",
   "execution_count": 4,
   "id": "e90e9bf3-71f2-4c29-8025-633d33cfcf5f",
   "metadata": {},
   "outputs": [],
   "source": [
    "A, B, C, D = -1, -1, -1, -1\n",
    "flg = False\n",
    "for i, S in enumerate(Sn):\n",
    "    if '#' not in S:\n",
    "        continue\n",
    "    if not flg:\n",
    "        A, B = i, i\n",
    "        flg = True\n",
    "    else:\n",
    "        B += 1\n",
    "    C = S.find('#')\n",
    "    D = C + S.count('#') - 1\n",
    "                "
   ]
  },
  {
   "cell_type": "code",
   "execution_count": 5,
   "id": "92787cdd-66aa-4baa-a172-a2def8f7f344",
   "metadata": {},
   "outputs": [
    {
     "name": "stdout",
     "output_type": "stream",
     "text": [
      "5 8\n",
      "4 9\n"
     ]
    }
   ],
   "source": [
    "print(A+1, B+1)\n",
    "print(C+1, D+1)"
   ]
  },
  {
   "cell_type": "code",
   "execution_count": 6,
   "id": "3d102f03-867e-46bd-8aae-2ec8a9ad0ba7",
   "metadata": {},
   "outputs": [],
   "source": [
    "A, B = 10**10, -1\n",
    "C, D = 10**10, -1\n",
    "for i in range(10):\n",
    "    for j in range(10):\n",
    "        if Sn[i][j] == '#':\n",
    "            A = min(A, i)\n",
    "            B = max(B, i)\n",
    "            C = min(C, j)\n",
    "            D = max(D, j)"
   ]
  },
  {
   "cell_type": "code",
   "execution_count": 7,
   "id": "7c356a36-5e0d-4e2d-9345-cd25cabf5871",
   "metadata": {},
   "outputs": [
    {
     "name": "stdout",
     "output_type": "stream",
     "text": [
      "5 8\n",
      "4 9\n"
     ]
    }
   ],
   "source": [
    "print(A+1, B+1)\n",
    "print(C+1, D+1)"
   ]
  },
  {
   "cell_type": "code",
   "execution_count": null,
   "id": "4ae220d4-0f36-4668-b6e8-d8b9a5c1d62c",
   "metadata": {},
   "outputs": [],
   "source": []
  }
 ],
 "metadata": {
  "kernelspec": {
   "display_name": "Python 3",
   "language": "python",
   "name": "python3"
  },
  "language_info": {
   "codemirror_mode": {
    "name": "ipython",
    "version": 3
   },
   "file_extension": ".py",
   "mimetype": "text/x-python",
   "name": "python",
   "nbconvert_exporter": "python",
   "pygments_lexer": "ipython3",
   "version": "3.6.13"
  }
 },
 "nbformat": 4,
 "nbformat_minor": 5
}
