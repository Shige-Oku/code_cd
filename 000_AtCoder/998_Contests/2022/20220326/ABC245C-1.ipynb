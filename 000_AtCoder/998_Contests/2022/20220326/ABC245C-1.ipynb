{
 "cells": [
  {
   "cell_type": "code",
   "execution_count": 1,
   "id": "9ff320ea-7934-46cf-93a5-fc9814b4a801",
   "metadata": {},
   "outputs": [],
   "source": [
    "import sys\n",
    "import numpy as np\n",
    "import math\n",
    "import collections\n",
    "import copy\n",
    "import decimal\n",
    "import itertools\n",
    "import re\n",
    "import bisect\n",
    "import scipy\n",
    "import heapq\n",
    "from collections import deque \n",
    "from functools import reduce\n",
    "from itertools import product\n",
    "from itertools import combinations\n",
    "from functools import lru_cache\n",
    "from scipy.special import comb\n",
    "from numba import njit\n",
    "from bisect import bisect_right\n",
    "from bisect import bisect_left"
   ]
  },
  {
   "cell_type": "code",
   "execution_count": 1,
   "id": "35c4ce29-8986-4a97-b488-da2214886f14",
   "metadata": {},
   "outputs": [
    {
     "name": "stdin",
     "output_type": "stream",
     "text": [
      " 5 4\n"
     ]
    }
   ],
   "source": [
    "N, K = map(int, input().split())"
   ]
  },
  {
   "cell_type": "code",
   "execution_count": 2,
   "id": "6f235b9a-7d9e-4fa1-8eeb-a77950794a6f",
   "metadata": {},
   "outputs": [
    {
     "name": "stdin",
     "output_type": "stream",
     "text": [
      " 9 8 3 7 2\n"
     ]
    }
   ],
   "source": [
    "An = list(map(int, input().split()))"
   ]
  },
  {
   "cell_type": "code",
   "execution_count": 3,
   "id": "6d414e56-2402-4954-8994-7cbc56ea2044",
   "metadata": {},
   "outputs": [
    {
     "name": "stdin",
     "output_type": "stream",
     "text": [
      " 1 6 2 9 5\n"
     ]
    }
   ],
   "source": [
    "Bn = list(map(int, input().split()))"
   ]
  },
  {
   "cell_type": "code",
   "execution_count": 4,
   "id": "04d32c09-bd72-4891-95b7-2d5d14659d4c",
   "metadata": {},
   "outputs": [
    {
     "name": "stdout",
     "output_type": "stream",
     "text": [
      "Yes\n"
     ]
    }
   ],
   "source": [
    "fa, fb = True, True\n",
    "for i in range(1, N):\n",
    "    faa, fba = False, False\n",
    "    if fa:\n",
    "        if abs(An[i-1] - An[i]) <= K:\n",
    "            faa = True\n",
    "        if abs(An[i-1] - Bn[i]) <= K:\n",
    "            fba = True\n",
    "    if fb:\n",
    "        if abs(Bn[i-1] - An[i]) <= K:\n",
    "            faa = True\n",
    "        if abs(Bn[i-1] - Bn[i]) <= K:\n",
    "            fba = True\n",
    "\n",
    "    if not faa and not fba:\n",
    "        print(\"No\")\n",
    "        break\n",
    "    fa, fb = faa, fba\n",
    "else:\n",
    "    print(\"Yes\")\n",
    "    "
   ]
  },
  {
   "cell_type": "code",
   "execution_count": 36,
   "id": "a5283ec8-de96-429a-9f07-69d410c82909",
   "metadata": {},
   "outputs": [
    {
     "data": {
      "text/plain": [
       "(4, False, True, False, True)"
      ]
     },
     "execution_count": 36,
     "metadata": {},
     "output_type": "execute_result"
    }
   ],
   "source": [
    "i, fa, fb, faa, fba"
   ]
  },
  {
   "cell_type": "code",
   "execution_count": 5,
   "id": "481fa562-ed5d-4509-847c-2baf06163fdb",
   "metadata": {},
   "outputs": [],
   "source": [
    "# 解説を読んで実装"
   ]
  },
  {
   "cell_type": "code",
   "execution_count": 27,
   "id": "aeb06d0b-8df3-4fbb-a895-c5ba9427643c",
   "metadata": {},
   "outputs": [],
   "source": [
    "dpa = [False] * (N+1)\n",
    "dpb = [False] * (N+1)\n",
    "dpa[0], dpb[0] = True, True\n",
    "for i in range(1, N):\n",
    "    if dpa[i-1]:\n",
    "        if abs(An[i-1] - An[i]) <= K:\n",
    "            dpa[i] = True\n",
    "        if abs(An[i-1] - Bn[i]) <= K:\n",
    "            dpb[i] = True\n",
    "    if dpb[i-1]:\n",
    "        if abs(Bn[i-1] - An[i]) <= K:\n",
    "            dpa[i] = True\n",
    "        if abs(Bn[i-1] - Bn[i]) <= K:\n",
    "            dpb[i] = True\n"
   ]
  },
  {
   "cell_type": "code",
   "execution_count": 30,
   "id": "586d7733-c8cf-4982-be16-03400a93eff2",
   "metadata": {},
   "outputs": [
    {
     "name": "stdout",
     "output_type": "stream",
     "text": [
      "Yes\n"
     ]
    }
   ],
   "source": [
    "if dpa[N-1] or dpb[N-1]:\n",
    "    print(\"Yes\")\n",
    "else:\n",
    "    print(\"No\")"
   ]
  },
  {
   "cell_type": "code",
   "execution_count": 19,
   "id": "32ad3b36-76d3-4c96-b312-0c9fa6a1456f",
   "metadata": {},
   "outputs": [],
   "source": [
    "dp[0][1] = 1"
   ]
  },
  {
   "cell_type": "code",
   "execution_count": 29,
   "id": "5b96609b-3c61-4722-bd53-ddea5e4403e0",
   "metadata": {},
   "outputs": [
    {
     "data": {
      "text/plain": [
       "([True, True, True, True, False, False],\n",
       " [True, True, True, False, True, False])"
      ]
     },
     "execution_count": 29,
     "metadata": {},
     "output_type": "execute_result"
    }
   ],
   "source": [
    "dpa, dpb"
   ]
  },
  {
   "cell_type": "code",
   "execution_count": 24,
   "id": "6b057e9f-a3c1-4982-92ed-ded5dd3ebcf7",
   "metadata": {},
   "outputs": [
    {
     "data": {
      "text/plain": [
       "(2, 0)"
      ]
     },
     "execution_count": 24,
     "metadata": {},
     "output_type": "execute_result"
    }
   ],
   "source": [
    "i, j"
   ]
  },
  {
   "cell_type": "code",
   "execution_count": 39,
   "id": "0ed4d5a9-a1e0-492f-82d2-71242529453d",
   "metadata": {},
   "outputs": [],
   "source": [
    "import sys"
   ]
  },
  {
   "cell_type": "code",
   "execution_count": 40,
   "id": "e24140ca-6c89-45c2-bc4c-1d244f82198c",
   "metadata": {},
   "outputs": [],
   "source": [
    "sys.setrecursionlimit(10**7)"
   ]
  },
  {
   "cell_type": "code",
   "execution_count": 41,
   "id": "576105a7-0a9d-410d-a05f-6b5e35cc8ed3",
   "metadata": {},
   "outputs": [],
   "source": [
    "from functools import lru_cache\n",
    "@lru_cache(maxsize=None)\n",
    "def DFS(bef, n):\n",
    "    if n >= N:\n",
    "        return True\n",
    "    if abs(bef - An[n]) <= K:\n",
    "        if DFS(An[n], n+1):\n",
    "            return True\n",
    "    if abs(bef - Bn[n]) <= K:\n",
    "        if DFS(Bn[n], n+1):\n",
    "            return True\n",
    "    return False"
   ]
  },
  {
   "cell_type": "code",
   "execution_count": 42,
   "id": "0e358c3b-42fa-4a93-82ea-4b55ad3fe4b7",
   "metadata": {},
   "outputs": [
    {
     "name": "stdout",
     "output_type": "stream",
     "text": [
      "Yes\n"
     ]
    }
   ],
   "source": [
    "if DFS(An[0], 1) or DFS(Bn[0], 1):\n",
    "    print(\"Yes\")\n",
    "else:\n",
    "    print(\"No\")"
   ]
  },
  {
   "cell_type": "code",
   "execution_count": null,
   "id": "b28c4b5c-2c66-4b18-9717-5c5d94546e5a",
   "metadata": {},
   "outputs": [],
   "source": []
  }
 ],
 "metadata": {
  "kernelspec": {
   "display_name": "Python 3",
   "language": "python",
   "name": "python3"
  },
  "language_info": {
   "codemirror_mode": {
    "name": "ipython",
    "version": 3
   },
   "file_extension": ".py",
   "mimetype": "text/x-python",
   "name": "python",
   "nbconvert_exporter": "python",
   "pygments_lexer": "ipython3",
   "version": "3.6.13"
  }
 },
 "nbformat": 4,
 "nbformat_minor": 5
}
