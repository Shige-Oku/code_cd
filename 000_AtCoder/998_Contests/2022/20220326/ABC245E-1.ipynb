{
 "cells": [
  {
   "cell_type": "code",
   "execution_count": 1,
   "id": "3b3f59f8-75d0-43e4-867d-c945413acbb6",
   "metadata": {},
   "outputs": [],
   "source": [
    "import sys\n",
    "import numpy as np\n",
    "import math\n",
    "import collections\n",
    "import copy\n",
    "import decimal\n",
    "import itertools\n",
    "import re\n",
    "import bisect\n",
    "import scipy\n",
    "import heapq\n",
    "from collections import deque \n",
    "from functools import reduce\n",
    "from itertools import product\n",
    "from itertools import combinations\n",
    "from functools import lru_cache\n",
    "from scipy.special import comb\n",
    "from numba import njit\n",
    "from bisect import bisect_right\n",
    "from bisect import bisect_left"
   ]
  },
  {
   "cell_type": "code",
   "execution_count": 16,
   "id": "46c93ae7-5d7d-4f50-a9a5-6efd8bcde7f9",
   "metadata": {},
   "outputs": [
    {
     "name": "stdin",
     "output_type": "stream",
     "text": [
      " 2 2\n"
     ]
    }
   ],
   "source": [
    "N, M = map(int, input().split())"
   ]
  },
  {
   "cell_type": "code",
   "execution_count": 17,
   "id": "fc819a18-394a-492c-9154-b8e9aa383e3a",
   "metadata": {},
   "outputs": [
    {
     "name": "stdin",
     "output_type": "stream",
     "text": [
      " 1 1\n"
     ]
    }
   ],
   "source": [
    "An = list(map(int, input().split()))"
   ]
  },
  {
   "cell_type": "code",
   "execution_count": 18,
   "id": "fe46de19-6d8a-4b68-aa32-779c8d37af30",
   "metadata": {},
   "outputs": [
    {
     "name": "stdin",
     "output_type": "stream",
     "text": [
      " 2 2\n"
     ]
    }
   ],
   "source": [
    "Bn = list(map(int, input().split()))"
   ]
  },
  {
   "cell_type": "code",
   "execution_count": 19,
   "id": "be792df0-befb-4bd6-870d-210e55b37665",
   "metadata": {},
   "outputs": [
    {
     "name": "stdin",
     "output_type": "stream",
     "text": [
      " 100 1\n"
     ]
    }
   ],
   "source": [
    "Cn = list(map(int, input().split())) "
   ]
  },
  {
   "cell_type": "code",
   "execution_count": 20,
   "id": "1d24a3a2-f48e-4178-85b0-236fa23db90b",
   "metadata": {},
   "outputs": [
    {
     "name": "stdin",
     "output_type": "stream",
     "text": [
      " 100 1\n"
     ]
    }
   ],
   "source": [
    "Dn = list(map(int, input().split()))"
   ]
  },
  {
   "cell_type": "code",
   "execution_count": 8,
   "id": "2cb87621-d311-4e14-86ea-ea9d5a2c98f4",
   "metadata": {},
   "outputs": [],
   "source": [
    "ABn = []\n",
    "for A, B in zip(An, Bn):\n",
    "    ABn.append((A, B))\n",
    "CDn = []\n",
    "for C, D in zip(Cn, Dn):\n",
    "    CDn.append((C, D))"
   ]
  },
  {
   "cell_type": "code",
   "execution_count": 9,
   "id": "1546015e-2924-4f9b-8723-fd3a2b7e7573",
   "metadata": {},
   "outputs": [],
   "source": [
    "ABn_s1 = sorted(ABn)\n",
    "ABn_s2 = sorted(ABn, key=lambda x:x[1])\n",
    "CDn_s1 = sorted(CDn)\n",
    "CDn_s2 = sorted(CDn, key=lambda x:x[1])"
   ]
  },
  {
   "cell_type": "code",
   "execution_count": 13,
   "id": "a44f4039-c2a5-4e45-9e3a-028a89fe8164",
   "metadata": {},
   "outputs": [],
   "source": [
    "fa = False\n",
    "j = 0\n",
    "for i in range(N):\n",
    "    A, B = ABn_s1[i]\n",
    "    while j < M:\n",
    "        C, D = CDn_s1[j]\n",
    "        if A <= C and B <= D:\n",
    "            break\n",
    "        j += 1\n",
    "    if j >= M:\n",
    "        break\n",
    "else:\n",
    "    fa = True\n",
    "j = 0\n",
    "for i in range(N):\n",
    "    A, B = ABn_s2[i]\n",
    "    while j < M:\n",
    "        C, D = CDn_s2[j]\n",
    "        if A <= C and B <= D:\n",
    "            break\n",
    "        j += 1\n",
    "    if j >= M:\n",
    "        break\n",
    "else:\n",
    "    fa = True\n",
    "        "
   ]
  },
  {
   "cell_type": "code",
   "execution_count": 15,
   "id": "61f34a24-b6d9-4dc2-83ac-e49732ee8767",
   "metadata": {},
   "outputs": [
    {
     "name": "stdout",
     "output_type": "stream",
     "text": [
      "Yes\n"
     ]
    }
   ],
   "source": [
    "if fa:\n",
    "    print(\"Yes\")\n",
    "else:\n",
    "    print(\"No\")"
   ]
  },
  {
   "cell_type": "code",
   "execution_count": 12,
   "id": "44d85d1f-6c15-4450-8167-984b01cdd06d",
   "metadata": {},
   "outputs": [
    {
     "data": {
      "text/plain": [
       "([(2, 3), (4, 2)], [(4, 2), (2, 3)])"
      ]
     },
     "execution_count": 12,
     "metadata": {},
     "output_type": "execute_result"
    }
   ],
   "source": [
    "ABn_s1, ABn_s2"
   ]
  },
  {
   "cell_type": "code",
   "execution_count": null,
   "id": "96019c49-cc7e-4652-bc99-1cac15e098b9",
   "metadata": {},
   "outputs": [],
   "source": []
  },
  {
   "cell_type": "code",
   "execution_count": null,
   "id": "01054a82-dc1f-4571-84ff-5223d1b1682a",
   "metadata": {},
   "outputs": [],
   "source": []
  }
 ],
 "metadata": {
  "kernelspec": {
   "display_name": "Python 3",
   "language": "python",
   "name": "python3"
  },
  "language_info": {
   "codemirror_mode": {
    "name": "ipython",
    "version": 3
   },
   "file_extension": ".py",
   "mimetype": "text/x-python",
   "name": "python",
   "nbconvert_exporter": "python",
   "pygments_lexer": "ipython3",
   "version": "3.6.13"
  }
 },
 "nbformat": 4,
 "nbformat_minor": 5
}
