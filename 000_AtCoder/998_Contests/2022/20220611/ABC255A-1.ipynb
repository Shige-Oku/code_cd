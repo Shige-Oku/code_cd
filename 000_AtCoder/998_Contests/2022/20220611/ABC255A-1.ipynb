{
 "cells": [
  {
   "cell_type": "code",
   "execution_count": 1,
   "id": "d8564f85-5c08-4e42-a5a9-e495f5336505",
   "metadata": {},
   "outputs": [],
   "source": [
    "import sys\n",
    "import numpy as np\n",
    "import math\n",
    "import collections\n",
    "import copy\n",
    "import decimal\n",
    "import itertools\n",
    "import re\n",
    "import bisect\n",
    "import scipy\n",
    "import heapq\n",
    "from collections import deque \n",
    "from functools import reduce\n",
    "from itertools import product\n",
    "from itertools import combinations\n",
    "from functools import lru_cache\n",
    "from scipy.special import comb\n",
    "from numba import njit\n",
    "from bisect import bisect_right\n",
    "from bisect import bisect_left"
   ]
  },
  {
   "cell_type": "code",
   "execution_count": 10,
   "id": "a0716974-abf6-4808-b41c-66da20ea51ae",
   "metadata": {},
   "outputs": [
    {
     "name": "stdin",
     "output_type": "stream",
     "text": [
      " 2 1\n"
     ]
    }
   ],
   "source": [
    "R, C = map(int, input().split())"
   ]
  },
  {
   "cell_type": "code",
   "execution_count": 11,
   "id": "3d9c582b-3e4f-4002-8e36-0080e3e94e97",
   "metadata": {},
   "outputs": [
    {
     "name": "stdin",
     "output_type": "stream",
     "text": [
      " 90 80\n",
      " 70 60\n"
     ]
    }
   ],
   "source": [
    "An = [list(map(int, input().split())) for _ in range(2)]"
   ]
  },
  {
   "cell_type": "code",
   "execution_count": 12,
   "id": "f2651c94-96dc-400b-9358-093ce2a9bad1",
   "metadata": {},
   "outputs": [
    {
     "name": "stdout",
     "output_type": "stream",
     "text": [
      "70\n"
     ]
    }
   ],
   "source": [
    "print(An[R-1][C-1])"
   ]
  },
  {
   "cell_type": "code",
   "execution_count": null,
   "id": "d921821a-a02c-4612-9a13-265136137fac",
   "metadata": {},
   "outputs": [],
   "source": []
  }
 ],
 "metadata": {
  "kernelspec": {
   "display_name": "Python 3",
   "language": "python",
   "name": "python3"
  },
  "language_info": {
   "codemirror_mode": {
    "name": "ipython",
    "version": 3
   },
   "file_extension": ".py",
   "mimetype": "text/x-python",
   "name": "python",
   "nbconvert_exporter": "python",
   "pygments_lexer": "ipython3",
   "version": "3.6.13"
  }
 },
 "nbformat": 4,
 "nbformat_minor": 5
}
