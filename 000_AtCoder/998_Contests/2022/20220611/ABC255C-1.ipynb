{
 "cells": [
  {
   "cell_type": "code",
   "execution_count": 1,
   "id": "86a1b534-4315-49aa-be21-47e8080e1ba0",
   "metadata": {},
   "outputs": [],
   "source": [
    "import sys\n",
    "import numpy as np\n",
    "import math\n",
    "import collections\n",
    "import copy\n",
    "import decimal\n",
    "import itertools\n",
    "import re\n",
    "import bisect\n",
    "import scipy\n",
    "import heapq\n",
    "from collections import deque \n",
    "from functools import reduce\n",
    "from itertools import product\n",
    "from itertools import combinations\n",
    "from functools import lru_cache\n",
    "from scipy.special import comb\n",
    "from numba import njit\n",
    "from bisect import bisect_right\n",
    "from bisect import bisect_left"
   ]
  },
  {
   "cell_type": "code",
   "execution_count": 76,
   "id": "60b63157-d08e-4377-afb6-ac9dbc54bb96",
   "metadata": {},
   "outputs": [
    {
     "name": "stdin",
     "output_type": "stream",
     "text": [
      " -555555555555555555 -1000000000000000000 1000000 1000000000000\n"
     ]
    }
   ],
   "source": [
    "X, A, D, N = map(int, input().split())"
   ]
  },
  {
   "cell_type": "code",
   "execution_count": 77,
   "id": "6bba12c6-eecc-4195-b1bb-d54d496eddf2",
   "metadata": {},
   "outputs": [],
   "source": [
    "s, e = A, A+D*(N-1)"
   ]
  },
  {
   "cell_type": "code",
   "execution_count": 78,
   "id": "35b1ce47-58dc-4e68-9704-05a1cb87d903",
   "metadata": {},
   "outputs": [],
   "source": [
    "l = min(s, e)\n",
    "r = max(s, e)"
   ]
  },
  {
   "cell_type": "code",
   "execution_count": 79,
   "id": "d8b86f3a-d916-4bcc-9d1b-85e9ce9e063d",
   "metadata": {},
   "outputs": [
    {
     "name": "stdout",
     "output_type": "stream",
     "text": [
      "444445\n"
     ]
    }
   ],
   "source": [
    "if X < l:\n",
    "    print(abs(X-l))\n",
    "elif X > r:\n",
    "    print(abs(X-r))\n",
    "else:\n",
    "    if D == 0:\n",
    "        print(min(abs(X-l), abs(X-r)))\n",
    "    else:\n",
    "        print(min(abs(X-l) % abs(D), abs(X-r) % abs(D)))"
   ]
  },
  {
   "cell_type": "code",
   "execution_count": 53,
   "id": "3f691562-b68f-4bf7-a491-c9e842b917ed",
   "metadata": {},
   "outputs": [
    {
     "data": {
      "text/plain": [
       "(-7, 8)"
      ]
     },
     "execution_count": 53,
     "metadata": {},
     "output_type": "execute_result"
    }
   ],
   "source": [
    "l, r"
   ]
  },
  {
   "cell_type": "code",
   "execution_count": null,
   "id": "4d589cfc-be83-40a5-b6b8-379418fa8b82",
   "metadata": {},
   "outputs": [],
   "source": []
  }
 ],
 "metadata": {
  "kernelspec": {
   "display_name": "Python 3",
   "language": "python",
   "name": "python3"
  },
  "language_info": {
   "codemirror_mode": {
    "name": "ipython",
    "version": 3
   },
   "file_extension": ".py",
   "mimetype": "text/x-python",
   "name": "python",
   "nbconvert_exporter": "python",
   "pygments_lexer": "ipython3",
   "version": "3.6.13"
  }
 },
 "nbformat": 4,
 "nbformat_minor": 5
}
