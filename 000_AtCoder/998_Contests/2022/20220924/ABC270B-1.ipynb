{
 "cells": [
  {
   "cell_type": "code",
   "execution_count": 1,
   "id": "84d32cdb-15c3-4e16-85a4-9c18c272edb0",
   "metadata": {},
   "outputs": [],
   "source": [
    "import sys\n",
    "import numpy as np\n",
    "import math\n",
    "import collections\n",
    "import copy\n",
    "import decimal\n",
    "import itertools\n",
    "import re\n",
    "import bisect\n",
    "import scipy\n",
    "import heapq\n",
    "from collections import deque \n",
    "from functools import reduce\n",
    "from itertools import product\n",
    "from itertools import combinations\n",
    "from functools import lru_cache\n",
    "from scipy.special import comb\n",
    "from numba import njit\n",
    "from bisect import bisect_right\n",
    "from bisect import bisect_left"
   ]
  },
  {
   "cell_type": "code",
   "execution_count": 7,
   "id": "3f5ffbb8-4e85-4584-87a9-dc56cf37c351",
   "metadata": {},
   "outputs": [
    {
     "name": "stdin",
     "output_type": "stream",
     "text": [
      " 100 1 1000\n"
     ]
    }
   ],
   "source": [
    "X, Y, Z = map(int, input().split())"
   ]
  },
  {
   "cell_type": "code",
   "execution_count": 9,
   "id": "9f914956-97dc-4b10-93ad-08e6a2ed79a8",
   "metadata": {},
   "outputs": [
    {
     "name": "stdout",
     "output_type": "stream",
     "text": [
      "-1\n"
     ]
    }
   ],
   "source": [
    "if X >= 0 and (Y < 0 or Y > X):\n",
    "    print(abs(X))\n",
    "elif X < 0 and(Y > 0 or Y < X):\n",
    "    print(abs(X))\n",
    "elif X > 0:\n",
    "    if Y < Z:\n",
    "        print(-1)\n",
    "    else:\n",
    "        if Z > 0:\n",
    "            print(abs(X))\n",
    "        else:\n",
    "            print(abs(Z)*2+abs(X))\n",
    "else:\n",
    "    if Y > Z:\n",
    "        print(-1)\n",
    "    else:\n",
    "        if Z < 0:\n",
    "            print(abs(X))\n",
    "        else:\n",
    "            print(abs(Z)*2+abs(X))\n"
   ]
  },
  {
   "cell_type": "code",
   "execution_count": null,
   "id": "a8758b93-c59b-4be9-ac95-847f2e55ad49",
   "metadata": {},
   "outputs": [],
   "source": []
  }
 ],
 "metadata": {
  "kernelspec": {
   "display_name": "Python 3",
   "language": "python",
   "name": "python3"
  },
  "language_info": {
   "codemirror_mode": {
    "name": "ipython",
    "version": 3
   },
   "file_extension": ".py",
   "mimetype": "text/x-python",
   "name": "python",
   "nbconvert_exporter": "python",
   "pygments_lexer": "ipython3",
   "version": "3.6.13"
  }
 },
 "nbformat": 4,
 "nbformat_minor": 5
}
