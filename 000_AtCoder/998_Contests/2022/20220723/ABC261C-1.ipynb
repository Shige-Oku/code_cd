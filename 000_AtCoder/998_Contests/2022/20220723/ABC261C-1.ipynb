{
 "cells": [
  {
   "cell_type": "code",
   "execution_count": 1,
   "id": "f86b2df4-127c-4c63-88e3-bf57d1f9e50a",
   "metadata": {},
   "outputs": [],
   "source": [
    "import sys\n",
    "import numpy as np\n",
    "import math\n",
    "import collections\n",
    "import copy\n",
    "import decimal\n",
    "import itertools\n",
    "import re\n",
    "import bisect\n",
    "import scipy\n",
    "import heapq\n",
    "from collections import deque \n",
    "from functools import reduce\n",
    "from itertools import product\n",
    "from itertools import combinations\n",
    "from functools import lru_cache\n",
    "from scipy.special import comb\n",
    "from numba import njit\n",
    "from bisect import bisect_right\n",
    "from bisect import bisect_left"
   ]
  },
  {
   "cell_type": "code",
   "execution_count": 2,
   "id": "273e6f06-d887-4029-8365-ec080b1de80d",
   "metadata": {},
   "outputs": [
    {
     "name": "stdin",
     "output_type": "stream",
     "text": [
      " 5\n"
     ]
    }
   ],
   "source": [
    "N = int(input())"
   ]
  },
  {
   "cell_type": "code",
   "execution_count": 3,
   "id": "41763cc6-fc50-426f-810c-d2c74d123d52",
   "metadata": {},
   "outputs": [
    {
     "name": "stdin",
     "output_type": "stream",
     "text": [
      " newfile\n",
      " newfile\n",
      " newfolder\n",
      " newfile\n",
      " newfolder\n"
     ]
    }
   ],
   "source": [
    "Sn = [input() for _ in range(N)]"
   ]
  },
  {
   "cell_type": "code",
   "execution_count": 5,
   "id": "253bc99a-9b5b-4e51-b7a8-43b465ca176e",
   "metadata": {},
   "outputs": [
    {
     "name": "stdout",
     "output_type": "stream",
     "text": [
      "newfile\n",
      "newfile(1)\n",
      "newfolder\n",
      "newfile(2)\n",
      "newfolder(1)\n"
     ]
    }
   ],
   "source": [
    "s = {}\n",
    "for S in Sn:\n",
    "    if S in s:\n",
    "        print(S + '(' + str(s[S]) + ')')\n",
    "        s[S] += 1\n",
    "    else:\n",
    "        print(S)\n",
    "        s[S] = 1"
   ]
  },
  {
   "cell_type": "code",
   "execution_count": null,
   "id": "c0eacbcc-3d4c-4ece-97c3-0ba146747451",
   "metadata": {},
   "outputs": [],
   "source": []
  }
 ],
 "metadata": {
  "kernelspec": {
   "display_name": "Python 3",
   "language": "python",
   "name": "python3"
  },
  "language_info": {
   "codemirror_mode": {
    "name": "ipython",
    "version": 3
   },
   "file_extension": ".py",
   "mimetype": "text/x-python",
   "name": "python",
   "nbconvert_exporter": "python",
   "pygments_lexer": "ipython3",
   "version": "3.6.13"
  }
 },
 "nbformat": 4,
 "nbformat_minor": 5
}
