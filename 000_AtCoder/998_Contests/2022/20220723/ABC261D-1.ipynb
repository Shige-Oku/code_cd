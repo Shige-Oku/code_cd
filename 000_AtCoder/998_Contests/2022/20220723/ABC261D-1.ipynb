{
 "cells": [
  {
   "cell_type": "code",
   "execution_count": 1,
   "id": "24896dad-9ea6-4c5c-ba6e-76249c2406c1",
   "metadata": {},
   "outputs": [],
   "source": [
    "import sys\n",
    "import numpy as np\n",
    "import math\n",
    "import collections\n",
    "import copy\n",
    "import decimal\n",
    "import itertools\n",
    "import re\n",
    "import bisect\n",
    "import scipy\n",
    "import heapq\n",
    "from collections import deque \n",
    "from functools import reduce\n",
    "from itertools import product\n",
    "from itertools import combinations\n",
    "from functools import lru_cache\n",
    "from scipy.special import comb\n",
    "from numba import njit\n",
    "from bisect import bisect_right\n",
    "from bisect import bisect_left"
   ]
  },
  {
   "cell_type": "code",
   "execution_count": 2,
   "id": "da28baec-eefa-4a8e-b12d-c37940d5f3ee",
   "metadata": {},
   "outputs": [
    {
     "name": "stdin",
     "output_type": "stream",
     "text": [
      " 6 3\n"
     ]
    }
   ],
   "source": [
    "N, M = map(int, input().split())"
   ]
  },
  {
   "cell_type": "code",
   "execution_count": 3,
   "id": "0be50a17-272c-4e66-a521-3050e5ba87d9",
   "metadata": {},
   "outputs": [
    {
     "name": "stdin",
     "output_type": "stream",
     "text": [
      " 2 7 1 8 2 8\n"
     ]
    }
   ],
   "source": [
    "Xn = list(map(int, input().split()))"
   ]
  },
  {
   "cell_type": "code",
   "execution_count": 29,
   "id": "bbdbbf1b-b27a-4d29-a161-19573d47b31d",
   "metadata": {},
   "outputs": [
    {
     "name": "stdin",
     "output_type": "stream",
     "text": [
      " 2 10\n",
      " 3 1\n",
      " 5 5\n"
     ]
    }
   ],
   "source": [
    "CYn = collections.defaultdict(int)\n",
    "for _ in range(M):\n",
    "    C, Y = map(int, input().split())\n",
    "    CYn[C] = Y"
   ]
  },
  {
   "cell_type": "code",
   "execution_count": 64,
   "id": "82944d42-5bba-46f1-bd55-b0b5da082420",
   "metadata": {},
   "outputs": [],
   "source": [
    "dp = [[0] * (N+1) for _ in range(N+2)]\n",
    "for i in range(1, N+1):\n",
    "    for j in range(i+1):\n",
    "#         if j > i:\n",
    "#             break\n",
    "#         if j >= i:\n",
    "        dp[i][j] = max(dp[i][j], dp[i-1][j-1]+Xn[i-1]+CYn[j])\n",
    "        dp[i+1][0] = max(dp[i+1][0], dp[i][j])\n",
    "        "
   ]
  },
  {
   "cell_type": "code",
   "execution_count": 65,
   "id": "63e12fbe-11b8-471f-8fbc-cfde6585b7fb",
   "metadata": {},
   "outputs": [
    {
     "name": "stdout",
     "output_type": "stream",
     "text": [
      "48\n"
     ]
    }
   ],
   "source": [
    "print(max(dp[N]))"
   ]
  },
  {
   "cell_type": "code",
   "execution_count": 62,
   "id": "a6d71381-50df-432b-9e42-1af99b2fd49d",
   "metadata": {},
   "outputs": [
    {
     "data": {
      "text/plain": [
       "0"
      ]
     },
     "execution_count": 62,
     "metadata": {},
     "output_type": "execute_result"
    }
   ],
   "source": [
    "CYn[1]"
   ]
  },
  {
   "cell_type": "code",
   "execution_count": 63,
   "id": "1a540db6-33f9-4582-8de4-1146f8241c96",
   "metadata": {},
   "outputs": [
    {
     "data": {
      "text/plain": [
       "[[0, 0, 0, 0, 0, 0, 0],\n",
       " [2, 2, 0, 0, 0, 0, 0],\n",
       " [7, 9, 19, 0, 0, 0, 0],\n",
       " [19, 8, 20, 21, 0, 0, 0],\n",
       " [21, 27, 26, 29, 29, 0, 0],\n",
       " [29, 23, 39, 29, 31, 36, 0],\n",
       " [36, 37, 41, 48, 37, 44, 44],\n",
       " [44, 0, 0, 0, 0, 0, 0]]"
      ]
     },
     "execution_count": 63,
     "metadata": {},
     "output_type": "execute_result"
    }
   ],
   "source": [
    "dp"
   ]
  },
  {
   "cell_type": "code",
   "execution_count": null,
   "id": "16e67607-1ce5-4817-85a7-f27c32febeed",
   "metadata": {},
   "outputs": [],
   "source": []
  }
 ],
 "metadata": {
  "kernelspec": {
   "display_name": "Python 3",
   "language": "python",
   "name": "python3"
  },
  "language_info": {
   "codemirror_mode": {
    "name": "ipython",
    "version": 3
   },
   "file_extension": ".py",
   "mimetype": "text/x-python",
   "name": "python",
   "nbconvert_exporter": "python",
   "pygments_lexer": "ipython3",
   "version": "3.6.13"
  }
 },
 "nbformat": 4,
 "nbformat_minor": 5
}
