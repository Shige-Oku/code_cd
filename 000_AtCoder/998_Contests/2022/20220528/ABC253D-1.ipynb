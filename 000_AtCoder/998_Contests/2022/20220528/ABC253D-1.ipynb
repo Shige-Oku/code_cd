{
 "cells": [
  {
   "cell_type": "code",
   "execution_count": 1,
   "id": "88d817ac-cf87-4920-b1b1-0d0cbdc39814",
   "metadata": {},
   "outputs": [],
   "source": [
    "import sys\n",
    "import numpy as np\n",
    "import math\n",
    "import collections\n",
    "import copy\n",
    "import decimal\n",
    "import itertools\n",
    "import re\n",
    "import bisect\n",
    "import scipy\n",
    "import heapq\n",
    "from collections import deque \n",
    "from functools import reduce\n",
    "from itertools import product\n",
    "from itertools import combinations\n",
    "from functools import lru_cache\n",
    "from scipy.special import comb\n",
    "from numba import njit\n",
    "from bisect import bisect_right\n",
    "from bisect import bisect_left"
   ]
  },
  {
   "cell_type": "code",
   "execution_count": 112,
   "id": "562b503f-f5d8-4545-8428-e226166daa95",
   "metadata": {},
   "outputs": [
    {
     "name": "stdin",
     "output_type": "stream",
     "text": [
      " 1000000000 314 159\n"
     ]
    }
   ],
   "source": [
    "N, A, B = map(int, input().split())"
   ]
  },
  {
   "cell_type": "code",
   "execution_count": null,
   "id": "5739220f-61ab-44bc-bcf2-3148ed540ac4",
   "metadata": {},
   "outputs": [],
   "source": [
    "# 解説を読んで実装"
   ]
  },
  {
   "cell_type": "code",
   "execution_count": 113,
   "id": "006fe837-9171-4cb2-831a-4d6ad7287d6b",
   "metadata": {},
   "outputs": [],
   "source": [
    "def solve(mi, ma):\n",
    "    ans = (N+1) * N // 2\n",
    "    if mi > N:\n",
    "        return ans\n",
    "    q = N // mi\n",
    "    m = mi * q\n",
    "    ans -= (mi + m) * q // 2\n",
    "    q = N // ma\n",
    "    m = ma * q\n",
    "    ans -= (ma + m) * q // 2\n",
    "    l = mi * ma // math.gcd(mi, ma)\n",
    "    q = N // l\n",
    "    m = l * q\n",
    "    ans += (l + m) * q // 2\n",
    "    return ans"
   ]
  },
  {
   "cell_type": "code",
   "execution_count": 114,
   "id": "e3bef839-2060-4f95-a756-7b884f093ac1",
   "metadata": {},
   "outputs": [
    {
     "name": "stdout",
     "output_type": "stream",
     "text": [
      "500000000500000000\n",
      "496855346088050326\n",
      "495262989275948452\n"
     ]
    }
   ],
   "source": [
    "ans = solve(min(A, B), max(A, B))"
   ]
  },
  {
   "cell_type": "code",
   "execution_count": 115,
   "id": "c07a81a1-9d84-40ed-820c-d1e9785bdaeb",
   "metadata": {},
   "outputs": [
    {
     "name": "stdout",
     "output_type": "stream",
     "text": [
      "495273003954006262\n"
     ]
    }
   ],
   "source": [
    "print(ans)"
   ]
  },
  {
   "cell_type": "code",
   "execution_count": 28,
   "id": "fba3eb57-a57d-497b-8563-ae0973011a71",
   "metadata": {},
   "outputs": [
    {
     "data": {
      "text/plain": [
       "(314, 159)"
      ]
     },
     "execution_count": 28,
     "metadata": {},
     "output_type": "execute_result"
    }
   ],
   "source": [
    "ma, mi"
   ]
  },
  {
   "cell_type": "code",
   "execution_count": null,
   "id": "1ce6919c-8a63-4c68-b5f7-1995e402731f",
   "metadata": {},
   "outputs": [],
   "source": []
  },
  {
   "cell_type": "code",
   "execution_count": 93,
   "id": "640d0580-719e-4874-bb80-f009a397c766",
   "metadata": {},
   "outputs": [],
   "source": [
    "def solve(mi, ma):\n",
    "    ans = (N+1) * N // 2\n",
    "    if mi > N:\n",
    "        return ans\n",
    "    q = N // mi\n",
    "    m = mi * q\n",
    "    ans -= ( + m) * q // 2\n",
    "    if ma > N:\n",
    "        return ans\n",
    "    if ma % mi != 0:\n",
    "        q = N // ma\n",
    "        m = ma * q\n",
    "        ans -= (ma + m) * q // 2\n",
    "        q = N // (mi * ma)\n",
    "        m = mi * ma * q // math.gcd(mi, ma)\n",
    "        ans += (mi*ma + m) * q // 2\n",
    "    return ans"
   ]
  }
 ],
 "metadata": {
  "kernelspec": {
   "display_name": "Python 3",
   "language": "python",
   "name": "python3"
  },
  "language_info": {
   "codemirror_mode": {
    "name": "ipython",
    "version": 3
   },
   "file_extension": ".py",
   "mimetype": "text/x-python",
   "name": "python",
   "nbconvert_exporter": "python",
   "pygments_lexer": "ipython3",
   "version": "3.6.13"
  }
 },
 "nbformat": 4,
 "nbformat_minor": 5
}
