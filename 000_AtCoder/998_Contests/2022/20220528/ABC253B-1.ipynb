{
 "cells": [
  {
   "cell_type": "code",
   "execution_count": 1,
   "id": "8e3b03cc-4575-42a2-a9f8-a5cc13056400",
   "metadata": {},
   "outputs": [],
   "source": [
    "import sys\n",
    "import numpy as np\n",
    "import math\n",
    "import collections\n",
    "import copy\n",
    "import decimal\n",
    "import itertools\n",
    "import re\n",
    "import bisect\n",
    "import scipy\n",
    "import heapq\n",
    "from collections import deque \n",
    "from functools import reduce\n",
    "from itertools import product\n",
    "from itertools import combinations\n",
    "from functools import lru_cache\n",
    "from scipy.special import comb\n",
    "from numba import njit\n",
    "from bisect import bisect_right\n",
    "from bisect import bisect_left"
   ]
  },
  {
   "cell_type": "code",
   "execution_count": 11,
   "id": "00c25c0d-01cb-4a53-970f-bb77410f7369",
   "metadata": {},
   "outputs": [
    {
     "name": "stdin",
     "output_type": "stream",
     "text": [
      " 5 4\n"
     ]
    }
   ],
   "source": [
    "H, W = map(int, input().split())"
   ]
  },
  {
   "cell_type": "code",
   "execution_count": 12,
   "id": "850cd247-049c-4fa1-8beb-bade0d9162a3",
   "metadata": {},
   "outputs": [
    {
     "name": "stdin",
     "output_type": "stream",
     "text": [
      " -o--\n",
      " ----\n",
      " ----\n",
      " ----\n",
      " -o--\n"
     ]
    }
   ],
   "source": [
    "Sn = [input() for _ in range(H)]"
   ]
  },
  {
   "cell_type": "code",
   "execution_count": 13,
   "id": "2631a79f-5630-4e37-a9cc-8d5dfc02b97b",
   "metadata": {},
   "outputs": [],
   "source": [
    "k1, k2 = False, False\n",
    "for i in range(H):\n",
    "    for j in range(W):\n",
    "        if Sn[i][j] == 'o':\n",
    "            if not k1:\n",
    "                p1 = (i, j)\n",
    "                k1 = True\n",
    "            else:\n",
    "                p2 = (i, j)"
   ]
  },
  {
   "cell_type": "code",
   "execution_count": 14,
   "id": "edccbfde-2576-4d52-8916-2d495b4d6163",
   "metadata": {},
   "outputs": [
    {
     "name": "stdout",
     "output_type": "stream",
     "text": [
      "4\n"
     ]
    }
   ],
   "source": [
    "print(abs(p1[0]-p2[0])+abs(p1[1]-p2[1]))"
   ]
  },
  {
   "cell_type": "code",
   "execution_count": 15,
   "id": "d3278fc7-86f1-464b-b576-516f6db54655",
   "metadata": {},
   "outputs": [
    {
     "data": {
      "text/plain": [
       "(True, False, (0, 1), (4, 1))"
      ]
     },
     "execution_count": 15,
     "metadata": {},
     "output_type": "execute_result"
    }
   ],
   "source": [
    "k1, k2, p1, p2"
   ]
  },
  {
   "cell_type": "code",
   "execution_count": null,
   "id": "0608a309-2b98-4fe9-886f-627a501142d1",
   "metadata": {},
   "outputs": [],
   "source": []
  }
 ],
 "metadata": {
  "kernelspec": {
   "display_name": "Python 3",
   "language": "python",
   "name": "python3"
  },
  "language_info": {
   "codemirror_mode": {
    "name": "ipython",
    "version": 3
   },
   "file_extension": ".py",
   "mimetype": "text/x-python",
   "name": "python",
   "nbconvert_exporter": "python",
   "pygments_lexer": "ipython3",
   "version": "3.6.13"
  }
 },
 "nbformat": 4,
 "nbformat_minor": 5
}
