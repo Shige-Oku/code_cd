{
 "cells": [
  {
   "cell_type": "code",
   "execution_count": 1,
   "id": "3e576cea-0b49-44c9-9203-6d07dfc14dba",
   "metadata": {},
   "outputs": [],
   "source": [
    "import sys\n",
    "import numpy as np\n",
    "import math\n",
    "import collections\n",
    "import copy\n",
    "import decimal\n",
    "import itertools\n",
    "import re\n",
    "import bisect\n",
    "import scipy\n",
    "import heapq\n",
    "from collections import deque \n",
    "from functools import reduce\n",
    "from itertools import product\n",
    "from itertools import combinations\n",
    "from functools import lru_cache\n",
    "from scipy.special import comb\n",
    "from numba import njit\n",
    "from bisect import bisect_right\n",
    "from bisect import bisect_left"
   ]
  },
  {
   "cell_type": "code",
   "execution_count": 197,
   "id": "539b480b-2b42-4aa6-8097-497448760586",
   "metadata": {},
   "outputs": [
    {
     "name": "stdin",
     "output_type": "stream",
     "text": [
      " 1101110101\n"
     ]
    }
   ],
   "source": [
    "S = input()"
   ]
  },
  {
   "cell_type": "code",
   "execution_count": 198,
   "id": "b3c67332-c1b3-44f4-a6ca-13cde39daa69",
   "metadata": {},
   "outputs": [],
   "source": [
    "p = [False] * 7\n",
    "if S[6] == '1':\n",
    "    p[0] = True\n",
    "if S[3] == '1':\n",
    "    p[1] = True\n",
    "if S[1] =='1' or  S[7] == '1':\n",
    "    p[2] = True\n",
    "if S[0] == '1' or S[4] == '1':\n",
    "    p[3] = True\n",
    "if S[2] == '1' or S[8] == '1':\n",
    "    p[4] = True\n",
    "if S[5] == '1':\n",
    "    p[5] = True\n",
    "if S[9] == '1':\n",
    "    p[6] = True\n"
   ]
  },
  {
   "cell_type": "code",
   "execution_count": 199,
   "id": "e21259fe-c6fb-4e3b-8933-d82cd7637b84",
   "metadata": {},
   "outputs": [],
   "source": [
    "def solve():\n",
    "    if S[0] == '1':\n",
    "        return False\n",
    "    st = 0\n",
    "    for pp in p:\n",
    "        if pp:\n",
    "            if st % 2 == 0:\n",
    "                st += 1\n",
    "        else:\n",
    "            if st % 2 == 1:\n",
    "                st += 1\n",
    "    return st >= 3"
   ]
  },
  {
   "cell_type": "code",
   "execution_count": 200,
   "id": "28289c68-6f84-42c0-8012-5ebd5722876b",
   "metadata": {},
   "outputs": [
    {
     "name": "stdout",
     "output_type": "stream",
     "text": [
      "No\n"
     ]
    }
   ],
   "source": [
    "print('Yes' if solve() else 'No')"
   ]
  },
  {
   "cell_type": "code",
   "execution_count": 182,
   "id": "d710f681-1d1e-4533-ad65-6f252bc5b69e",
   "metadata": {},
   "outputs": [
    {
     "data": {
      "text/plain": [
       "[False, False, True, True, True, False, False]"
      ]
     },
     "execution_count": 182,
     "metadata": {},
     "output_type": "execute_result"
    }
   ],
   "source": [
    "p"
   ]
  },
  {
   "cell_type": "code",
   "execution_count": 153,
   "id": "fe877c25-c5f6-4fed-9179-6f656faf7c96",
   "metadata": {},
   "outputs": [
    {
     "data": {
      "text/plain": [
       "True"
      ]
     },
     "execution_count": 153,
     "metadata": {},
     "output_type": "execute_result"
    }
   ],
   "source": [
    "p[4] and (not p[4+1]) and p[4+2]"
   ]
  },
  {
   "cell_type": "code",
   "execution_count": 154,
   "id": "8e249025-a9bc-43aa-842f-4cc253b1e3b9",
   "metadata": {},
   "outputs": [
    {
     "data": {
      "text/plain": [
       "'0'"
      ]
     },
     "execution_count": 154,
     "metadata": {},
     "output_type": "execute_result"
    }
   ],
   "source": [
    "S[0]"
   ]
  },
  {
   "cell_type": "code",
   "execution_count": null,
   "id": "bb6edabc-fdb4-403f-85f0-5ada404e486a",
   "metadata": {},
   "outputs": [],
   "source": []
  }
 ],
 "metadata": {
  "kernelspec": {
   "display_name": "Python 3",
   "language": "python",
   "name": "python3"
  },
  "language_info": {
   "codemirror_mode": {
    "name": "ipython",
    "version": 3
   },
   "file_extension": ".py",
   "mimetype": "text/x-python",
   "name": "python",
   "nbconvert_exporter": "python",
   "pygments_lexer": "ipython3",
   "version": "3.6.13"
  }
 },
 "nbformat": 4,
 "nbformat_minor": 5
}
