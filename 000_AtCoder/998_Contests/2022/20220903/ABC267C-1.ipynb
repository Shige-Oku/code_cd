{
 "cells": [
  {
   "cell_type": "code",
   "execution_count": 1,
   "id": "d00714e1-5090-425f-8830-493cad5ead03",
   "metadata": {},
   "outputs": [],
   "source": [
    "import sys\n",
    "import numpy as np\n",
    "import math\n",
    "import collections\n",
    "import copy\n",
    "import decimal\n",
    "import itertools\n",
    "import re\n",
    "import bisect\n",
    "import scipy\n",
    "import heapq\n",
    "from collections import deque \n",
    "from functools import reduce\n",
    "from itertools import product\n",
    "from itertools import combinations\n",
    "from functools import lru_cache\n",
    "from scipy.special import comb\n",
    "from numba import njit\n",
    "from bisect import bisect_right\n",
    "from bisect import bisect_left"
   ]
  },
  {
   "cell_type": "code",
   "execution_count": 69,
   "id": "e325cb64-a595-4165-aa06-e370ae888360",
   "metadata": {},
   "outputs": [
    {
     "name": "stdin",
     "output_type": "stream",
     "text": [
      " 10 4\n"
     ]
    }
   ],
   "source": [
    "N, M = map(int, input().split())"
   ]
  },
  {
   "cell_type": "code",
   "execution_count": 70,
   "id": "ea649535-9160-4067-a437-05ab0eb89eec",
   "metadata": {},
   "outputs": [
    {
     "name": "stdin",
     "output_type": "stream",
     "text": [
      " -3 1 -4 1 -5 9 -2 6 -5 3\n"
     ]
    }
   ],
   "source": [
    "An = list(map(int, input().split()))"
   ]
  },
  {
   "cell_type": "code",
   "execution_count": 71,
   "id": "447b0c98-ae97-4cc8-8990-e2c3565228da",
   "metadata": {},
   "outputs": [],
   "source": [
    "from itertools import accumulate\n",
    "An_s2 = list(accumulate(An))\n"
   ]
  },
  {
   "cell_type": "code",
   "execution_count": 72,
   "id": "b53f90c4-f0ec-4f78-8b85-506d36ed94b3",
   "metadata": {},
   "outputs": [],
   "source": [
    "An_s = [An[0], ]\n",
    "for i, A in enumerate(An[1:], 2):\n",
    "    An_s.append(An_s[-1]+A*i)\n"
   ]
  },
  {
   "cell_type": "code",
   "execution_count": 75,
   "id": "2a51293a-26a4-47fd-81e1-a723bced156c",
   "metadata": {},
   "outputs": [],
   "source": [
    "ans = An_s[M-1]\n",
    "c = An_s[M-1]\n",
    "for i in range(M, N):\n",
    "    c -= An[i-M]\n",
    "    c -= An_s2[i-1] - An_s2[i-M]\n",
    "    c += An[i] * M\n",
    "    ans = max(ans, c)\n"
   ]
  },
  {
   "cell_type": "code",
   "execution_count": 76,
   "id": "f14c9c5f-0c1e-48ce-b521-13c55b8fddd3",
   "metadata": {},
   "outputs": [
    {
     "name": "stdout",
     "output_type": "stream",
     "text": [
      "31\n"
     ]
    }
   ],
   "source": [
    "print(ans)"
   ]
  },
  {
   "cell_type": "code",
   "execution_count": 23,
   "id": "0aa393f1-caf5-4a61-aaa1-377c18f6e983",
   "metadata": {},
   "outputs": [
    {
     "data": {
      "text/plain": [
       "([5, 13, 10, 42], 13)"
      ]
     },
     "execution_count": 23,
     "metadata": {},
     "output_type": "execute_result"
    }
   ],
   "source": [
    "An_s, An_s[M-1]"
   ]
  },
  {
   "cell_type": "code",
   "execution_count": 27,
   "id": "01ecedbd-bfcc-4e6d-9f2a-85fd07589272",
   "metadata": {},
   "outputs": [
    {
     "data": {
      "text/plain": [
       "[5, 9, 8, 16]"
      ]
     },
     "execution_count": 27,
     "metadata": {},
     "output_type": "execute_result"
    }
   ],
   "source": [
    "An_s2"
   ]
  },
  {
   "cell_type": "code",
   "execution_count": null,
   "id": "39e66c1a-21ee-4be9-bebd-dc8b904e4f09",
   "metadata": {},
   "outputs": [],
   "source": []
  }
 ],
 "metadata": {
  "kernelspec": {
   "display_name": "Python 3",
   "language": "python",
   "name": "python3"
  },
  "language_info": {
   "codemirror_mode": {
    "name": "ipython",
    "version": 3
   },
   "file_extension": ".py",
   "mimetype": "text/x-python",
   "name": "python",
   "nbconvert_exporter": "python",
   "pygments_lexer": "ipython3",
   "version": "3.6.13"
  }
 },
 "nbformat": 4,
 "nbformat_minor": 5
}
