{
 "cells": [
  {
   "cell_type": "code",
   "execution_count": 1,
   "metadata": {},
   "outputs": [],
   "source": [
    "import sys\n",
    "import numpy as np\n",
    "import math\n",
    "import collections\n",
    "import copy\n",
    "import decimal\n",
    "import itertools\n",
    "import re\n",
    "import bisect\n",
    "import scipy\n",
    "from collections import deque \n",
    "from functools import reduce\n",
    "from itertools import product\n",
    "from itertools import combinations\n",
    "from functools import lru_cache\n",
    "from scipy.special import comb\n",
    "from numba import njit, jit\n",
    "from bisect import bisect_right\n",
    "from bisect import bisect_left"
   ]
  },
  {
   "cell_type": "code",
   "execution_count": 2,
   "metadata": {},
   "outputs": [
    {
     "name": "stdin",
     "output_type": "stream",
     "text": [
      " 2\n"
     ]
    }
   ],
   "source": [
    "N = int(input())"
   ]
  },
  {
   "cell_type": "code",
   "execution_count": 3,
   "metadata": {},
   "outputs": [
    {
     "name": "stdin",
     "output_type": "stream",
     "text": [
      " FLIP\n"
     ]
    }
   ],
   "source": [
    "S = input()"
   ]
  },
  {
   "cell_type": "code",
   "execution_count": 26,
   "metadata": {},
   "outputs": [
    {
     "name": "stdin",
     "output_type": "stream",
     "text": [
      " 6\n"
     ]
    }
   ],
   "source": [
    "Q = int(input())"
   ]
  },
  {
   "cell_type": "code",
   "execution_count": 27,
   "metadata": {},
   "outputs": [
    {
     "name": "stdin",
     "output_type": "stream",
     "text": [
      " 1 1 3\n",
      " 2 0 0\n",
      " 1 1 2\n",
      " 1 2 3\n",
      " 2 0 0\n",
      " 1 1 4\n"
     ]
    }
   ],
   "source": [
    "TAB = [list(map(int, input().split())) for _ in range(Q)]"
   ]
  },
  {
   "cell_type": "code",
   "execution_count": 35,
   "metadata": {},
   "outputs": [
    {
     "name": "stdout",
     "output_type": "stream",
     "text": [
      "['I', 'L', 'F', 'P']\n",
      "['I', 'L', 'F', 'P']\n",
      "3 4\n",
      "['I', 'L', 'P', 'F']\n",
      "4 1\n",
      "['F', 'L', 'P', 'I']\n",
      "['F', 'L', 'P', 'I']\n",
      "['I', 'L', 'P', 'F']\n"
     ]
    }
   ],
   "source": [
    "flg = True\n",
    "SS = []\n",
    "for s in S:\n",
    "    SS.append(s)\n",
    "for T, A, B in TAB:\n",
    "    if T == 2:\n",
    "        flg = not flg\n",
    "    else:\n",
    "        if flg:\n",
    "            SS[A-1], SS[B-1] = SS[B-1], SS[A-1]\n",
    "        else:\n",
    "            if A > N:\n",
    "                idx1 = A - N\n",
    "            else:\n",
    "                idx1 = A + N\n",
    "            if B > N:\n",
    "                idx2 = B - N\n",
    "            else:\n",
    "                idx2 = B + N\n",
    "#             print(idx1, idx2)\n",
    "            SS[idx2-1], SS[idx1-1] = SS[idx1-1], SS[idx2-1]\n",
    "#     print(SS)"
   ]
  },
  {
   "cell_type": "code",
   "execution_count": 36,
   "metadata": {},
   "outputs": [
    {
     "name": "stdout",
     "output_type": "stream",
     "text": [
      "ILPF\n"
     ]
    }
   ],
   "source": [
    "if not flg:\n",
    "    print(*SS[N:], *SS[:N], sep='')\n",
    "else:\n",
    "    print(*SS, sep='')"
   ]
  },
  {
   "cell_type": "code",
   "execution_count": 30,
   "metadata": {},
   "outputs": [
    {
     "data": {
      "text/plain": [
       "(['F', 'L', 'P', 'P'], True)"
      ]
     },
     "execution_count": 30,
     "metadata": {},
     "output_type": "execute_result"
    }
   ],
   "source": [
    "SS, flg"
   ]
  },
  {
   "cell_type": "code",
   "execution_count": null,
   "metadata": {},
   "outputs": [],
   "source": []
  }
 ],
 "metadata": {
  "kernelspec": {
   "display_name": "Python 3",
   "language": "python",
   "name": "python3"
  },
  "language_info": {
   "codemirror_mode": {
    "name": "ipython",
    "version": 3
   },
   "file_extension": ".py",
   "mimetype": "text/x-python",
   "name": "python",
   "nbconvert_exporter": "python",
   "pygments_lexer": "ipython3",
   "version": "3.6.10"
  }
 },
 "nbformat": 4,
 "nbformat_minor": 4
}
