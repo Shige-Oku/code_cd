{
 "cells": [
  {
   "cell_type": "code",
   "execution_count": 1,
   "id": "4513186b-ad04-4a78-b364-4af2df4cd728",
   "metadata": {},
   "outputs": [],
   "source": [
    "import sys\n",
    "import numpy as np\n",
    "import math\n",
    "import collections\n",
    "import copy\n",
    "import decimal\n",
    "import itertools\n",
    "import re\n",
    "import bisect\n",
    "import scipy\n",
    "import heapq\n",
    "from collections import deque \n",
    "from functools import reduce\n",
    "from itertools import product\n",
    "from itertools import combinations\n",
    "from functools import lru_cache\n",
    "from scipy.special import comb\n",
    "from numba import njit\n",
    "from bisect import bisect_right\n",
    "from bisect import bisect_left"
   ]
  },
  {
   "cell_type": "code",
   "execution_count": 146,
   "id": "e29d3c9a-9375-4f10-815e-8f4d31d84142",
   "metadata": {},
   "outputs": [
    {
     "name": "stdin",
     "output_type": "stream",
     "text": [
      " sss\n"
     ]
    }
   ],
   "source": [
    "S = input()"
   ]
  },
  {
   "cell_type": "code",
   "execution_count": 147,
   "id": "5cc04ffa-0b01-4e46-aac1-254fac8470be",
   "metadata": {},
   "outputs": [
    {
     "name": "stdin",
     "output_type": "stream",
     "text": [
      " ss\n"
     ]
    }
   ],
   "source": [
    "T = input()"
   ]
  },
  {
   "cell_type": "code",
   "execution_count": 148,
   "id": "43deed70-fef0-48b0-8f44-5e05ec7a1cd3",
   "metadata": {},
   "outputs": [],
   "source": [
    "def myZip(s):\n",
    "    s1 = []\n",
    "    cnt = 1\n",
    "    c = s[0]\n",
    "    for i in range(1, len(s)):\n",
    "        if c == s[i]:\n",
    "            cnt += 1\n",
    "            continue\n",
    "        else:\n",
    "            s1.append([c, cnt])\n",
    "            cnt = 1\n",
    "            c = s[i]    \n",
    "    else:\n",
    "            s1.append([c, cnt])\n",
    "    return s1\n",
    "        "
   ]
  },
  {
   "cell_type": "code",
   "execution_count": 149,
   "id": "79ece56e-8730-40a8-8a17-f3e52682731f",
   "metadata": {},
   "outputs": [],
   "source": [
    "def myCheck(s, t):\n",
    "    if len(ss) != len(tt):\n",
    "        return False\n",
    "    for (s1, c1), (s2, c2) in zip(s, t):\n",
    "        if s1 != s2:\n",
    "            return False\n",
    "        if c1 > c2:\n",
    "            return False\n",
    "        if c1 == 1 and c2 > 1:\n",
    "            return False\n",
    "    return True"
   ]
  },
  {
   "cell_type": "code",
   "execution_count": 150,
   "id": "1927d022-17de-4176-a335-f965c231cb3d",
   "metadata": {},
   "outputs": [],
   "source": [
    "ss = myZip(S)\n",
    "tt = myZip(T)"
   ]
  },
  {
   "cell_type": "code",
   "execution_count": 151,
   "id": "13963ffa-d2ed-4ae2-8048-d534b83a8976",
   "metadata": {},
   "outputs": [
    {
     "name": "stdout",
     "output_type": "stream",
     "text": [
      "No\n"
     ]
    }
   ],
   "source": [
    "if myCheck(ss, tt):\n",
    "    print('Yes')\n",
    "else:\n",
    "    print('No')"
   ]
  },
  {
   "cell_type": "code",
   "execution_count": 134,
   "id": "fdbbb4d6-76bf-4fb4-9999-b039468064c9",
   "metadata": {},
   "outputs": [
    {
     "data": {
      "text/plain": [
       "([['s', 2], ['y', 1]], [['s', 6], ['y', 1]])"
      ]
     },
     "execution_count": 134,
     "metadata": {},
     "output_type": "execute_result"
    }
   ],
   "source": [
    "ss, tt"
   ]
  },
  {
   "cell_type": "code",
   "execution_count": 13,
   "id": "76861ec0-380b-4924-b5ca-dd7ea5bec526",
   "metadata": {},
   "outputs": [
    {
     "data": {
      "text/plain": [
       "(4, 4)"
      ]
     },
     "execution_count": 13,
     "metadata": {},
     "output_type": "execute_result"
    }
   ],
   "source": [
    "len(ss), len(tt)"
   ]
  },
  {
   "cell_type": "code",
   "execution_count": 153,
   "id": "3e64a80a-73c0-4b01-bdde-e84611dae38f",
   "metadata": {},
   "outputs": [
    {
     "data": {
      "text/plain": [
       "[['s', 1], ['a', 3]]"
      ]
     },
     "execution_count": 153,
     "metadata": {},
     "output_type": "execute_result"
    }
   ],
   "source": [
    "myZip('aaaa')"
   ]
  },
  {
   "cell_type": "code",
   "execution_count": null,
   "id": "86b2efb9-6e93-4303-8faf-77c2e19612de",
   "metadata": {},
   "outputs": [],
   "source": []
  }
 ],
 "metadata": {
  "kernelspec": {
   "display_name": "Python 3",
   "language": "python",
   "name": "python3"
  },
  "language_info": {
   "codemirror_mode": {
    "name": "ipython",
    "version": 3
   },
   "file_extension": ".py",
   "mimetype": "text/x-python",
   "name": "python",
   "nbconvert_exporter": "python",
   "pygments_lexer": "ipython3",
   "version": "3.6.13"
  }
 },
 "nbformat": 4,
 "nbformat_minor": 5
}
