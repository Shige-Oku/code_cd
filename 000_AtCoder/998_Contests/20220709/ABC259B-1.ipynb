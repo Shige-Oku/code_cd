{
 "cells": [
  {
   "cell_type": "code",
   "execution_count": 1,
   "id": "79a4893c-3eb1-460a-942b-aef0b4eae65d",
   "metadata": {},
   "outputs": [],
   "source": [
    "import sys\n",
    "import numpy as np\n",
    "import math\n",
    "import collections\n",
    "import copy\n",
    "import decimal\n",
    "import itertools\n",
    "import re\n",
    "import bisect\n",
    "import scipy\n",
    "import heapq\n",
    "from collections import deque \n",
    "from functools import reduce\n",
    "from itertools import product\n",
    "from itertools import combinations\n",
    "from functools import lru_cache\n",
    "from scipy.special import comb\n",
    "from numba import njit\n",
    "from bisect import bisect_right\n",
    "from bisect import bisect_left"
   ]
  },
  {
   "cell_type": "code",
   "execution_count": 31,
   "id": "65b8c91e-3009-481b-b8d1-369f719df6c5",
   "metadata": {},
   "outputs": [
    {
     "name": "stdin",
     "output_type": "stream",
     "text": [
      " -505 191 278\n"
     ]
    }
   ],
   "source": [
    "A, B, D = map(int, input().split())"
   ]
  },
  {
   "cell_type": "code",
   "execution_count": 32,
   "id": "91e32dce-8444-4667-8a3b-d82cc710ac04",
   "metadata": {},
   "outputs": [],
   "source": [
    "x = A * math.cos(math.radians(D)) - B * math.sin(math.radians(D))\n",
    "y = A * math.sin(math.radians(D)) + B * math.cos(math.radians(D))"
   ]
  },
  {
   "cell_type": "code",
   "execution_count": 33,
   "id": "d93c1439-c477-4745-9823-4a84bf5a22d1",
   "metadata": {},
   "outputs": [
    {
     "name": "stdout",
     "output_type": "stream",
     "text": [
      "118.85878514480687 526.6674369978655\n"
     ]
    }
   ],
   "source": [
    "print(x, y)"
   ]
  },
  {
   "cell_type": "code",
   "execution_count": null,
   "id": "126cd60a-6c16-437e-9f8f-774c0a7f9250",
   "metadata": {},
   "outputs": [],
   "source": []
  },
  {
   "cell_type": "code",
   "execution_count": null,
   "id": "9eea147b-be79-4cce-86e4-60026181e45b",
   "metadata": {},
   "outputs": [],
   "source": []
  }
 ],
 "metadata": {
  "kernelspec": {
   "display_name": "Python 3",
   "language": "python",
   "name": "python3"
  },
  "language_info": {
   "codemirror_mode": {
    "name": "ipython",
    "version": 3
   },
   "file_extension": ".py",
   "mimetype": "text/x-python",
   "name": "python",
   "nbconvert_exporter": "python",
   "pygments_lexer": "ipython3",
   "version": "3.6.13"
  }
 },
 "nbformat": 4,
 "nbformat_minor": 5
}
