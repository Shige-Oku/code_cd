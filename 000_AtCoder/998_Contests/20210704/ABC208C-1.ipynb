{
 "cells": [
  {
   "cell_type": "code",
   "execution_count": 1,
   "id": "126790a2-c7f6-4de6-90db-5db006fb04c9",
   "metadata": {},
   "outputs": [],
   "source": [
    "import sys\n",
    "import numpy as np\n",
    "import math\n",
    "import collections\n",
    "import copy\n",
    "import decimal\n",
    "import itertools\n",
    "import re\n",
    "import bisect\n",
    "import scipy\n",
    "import heapq\n",
    "from collections import deque \n",
    "from functools import reduce\n",
    "from itertools import product\n",
    "from itertools import combinations\n",
    "from itertools import chain\n",
    "from functools import lru_cache\n",
    "from scipy.special import comb\n",
    "from numba import njit\n",
    "from bisect import bisect_right\n",
    "from bisect import bisect_left"
   ]
  },
  {
   "cell_type": "code",
   "execution_count": 27,
   "id": "3dde29b7-bb9d-422a-88fc-d7da0e6fe249",
   "metadata": {},
   "outputs": [
    {
     "name": "stdin",
     "output_type": "stream",
     "text": [
      " 7 1000000000000\n"
     ]
    }
   ],
   "source": [
    "N, K = map(int, input().split())"
   ]
  },
  {
   "cell_type": "code",
   "execution_count": 29,
   "id": "ed52138e-2cd9-46aa-bead-b8d457692877",
   "metadata": {},
   "outputs": [
    {
     "name": "stdin",
     "output_type": "stream",
     "text": [
      " 99 8 2 4 43 5 3\n"
     ]
    }
   ],
   "source": [
    "An = list(map(int, input().split()))"
   ]
  },
  {
   "cell_type": "code",
   "execution_count": 39,
   "id": "bcb66108-56b4-4ff5-b709-a464d73261df",
   "metadata": {},
   "outputs": [],
   "source": [
    "An_s = []\n",
    "for i, A in enumerate(An):\n",
    "    An_s.append([i, A])\n",
    "An_s2 = sorted(An_s, key=lambda x:x[1])\n",
    "for i, A in enumerate(An_s2):\n",
    "    An_s2[i].append(i)"
   ]
  },
  {
   "cell_type": "code",
   "execution_count": 46,
   "id": "7a4ed31f-37c9-46b0-86cd-0bac8a89a239",
   "metadata": {},
   "outputs": [
    {
     "name": "stdout",
     "output_type": "stream",
     "text": [
      "142857142857\n",
      "142857142857\n",
      "142857142858\n",
      "142857142857\n",
      "142857142857\n",
      "142857142857\n",
      "142857142857\n"
     ]
    }
   ],
   "source": [
    "q, m = divmod(K, N)\n",
    "An_s = sorted(An_s2, key=lambda x:x[0])\n",
    "for _, a, i in An_s:\n",
    "    if i+1 <= m:\n",
    "        print(q+1)\n",
    "    else:\n",
    "        print(q)"
   ]
  },
  {
   "cell_type": "code",
   "execution_count": 21,
   "id": "0652f46f-9bc9-456c-8458-4cc3b077f54d",
   "metadata": {},
   "outputs": [
    {
     "data": {
      "text/plain": [
       "(3, 1)"
      ]
     },
     "execution_count": 21,
     "metadata": {},
     "output_type": "execute_result"
    }
   ],
   "source": [
    "q, m"
   ]
  },
  {
   "cell_type": "code",
   "execution_count": 45,
   "id": "df35abfe-9378-41c2-9e0a-3d66efaf5a70",
   "metadata": {},
   "outputs": [
    {
     "data": {
      "text/plain": [
       "([[0, 99, 6],\n",
       "  [1, 8, 4],\n",
       "  [2, 2, 0],\n",
       "  [3, 4, 2],\n",
       "  [4, 43, 5],\n",
       "  [5, 5, 3],\n",
       "  [6, 3, 1]],\n",
       " [[2, 2, 0],\n",
       "  [6, 3, 1],\n",
       "  [3, 4, 2],\n",
       "  [5, 5, 3],\n",
       "  [1, 8, 4],\n",
       "  [4, 43, 5],\n",
       "  [0, 99, 6]])"
      ]
     },
     "execution_count": 45,
     "metadata": {},
     "output_type": "execute_result"
    }
   ],
   "source": [
    "An_s, An_s2"
   ]
  },
  {
   "cell_type": "code",
   "execution_count": null,
   "id": "862f2ae9-61ea-4ab9-9dce-1d4cbda42d96",
   "metadata": {},
   "outputs": [],
   "source": []
  }
 ],
 "metadata": {
  "kernelspec": {
   "display_name": "Python 3",
   "language": "python",
   "name": "python3"
  },
  "language_info": {
   "codemirror_mode": {
    "name": "ipython",
    "version": 3
   },
   "file_extension": ".py",
   "mimetype": "text/x-python",
   "name": "python",
   "nbconvert_exporter": "python",
   "pygments_lexer": "ipython3",
   "version": "3.6.13"
  }
 },
 "nbformat": 4,
 "nbformat_minor": 5
}
