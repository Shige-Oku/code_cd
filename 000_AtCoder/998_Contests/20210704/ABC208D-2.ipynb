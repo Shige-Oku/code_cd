{
 "cells": [
  {
   "cell_type": "code",
   "execution_count": null,
   "id": "b1f7efc5-844e-4867-90d6-1576733b5441",
   "metadata": {},
   "outputs": [],
   "source": [
    "# 解説を読んで実装"
   ]
  },
  {
   "cell_type": "code",
   "execution_count": 1,
   "id": "81102d67-8694-4527-b92a-06395226e837",
   "metadata": {},
   "outputs": [],
   "source": [
    "import sys\n",
    "import numpy as np\n",
    "import math\n",
    "import collections\n",
    "import copy\n",
    "import decimal\n",
    "import itertools\n",
    "import re\n",
    "import bisect\n",
    "import scipy\n",
    "import heapq\n",
    "from collections import deque \n",
    "from functools import reduce\n",
    "from itertools import product\n",
    "from itertools import combinations\n",
    "from itertools import chain\n",
    "from functools import lru_cache\n",
    "from scipy.special import comb\n",
    "from numba import njit\n",
    "from bisect import bisect_right\n",
    "from bisect import bisect_left"
   ]
  },
  {
   "cell_type": "code",
   "execution_count": 2,
   "id": "ac2a39c2-8e4a-40ef-9fa3-d909071c4c55",
   "metadata": {},
   "outputs": [
    {
     "name": "stdin",
     "output_type": "stream",
     "text": [
      " 3 2\n"
     ]
    }
   ],
   "source": [
    "N, M = map(int, input().split())"
   ]
  },
  {
   "cell_type": "code",
   "execution_count": 27,
   "id": "40c41873-c2b7-4c8f-90e9-3f58f0853e0d",
   "metadata": {},
   "outputs": [
    {
     "name": "stdin",
     "output_type": "stream",
     "text": [
      " 1 2 3\n",
      " 2 3 2\n"
     ]
    }
   ],
   "source": [
    "ABC = [list(map(int, input().split())) for _ in range(M)]"
   ]
  },
  {
   "cell_type": "code",
   "execution_count": 60,
   "id": "b1b960cf-a79b-44e9-9cfc-1e78403d0442",
   "metadata": {},
   "outputs": [],
   "source": [
    "cost = [[10**60] * (N+1) for _ in range(N+1)]"
   ]
  },
  {
   "cell_type": "code",
   "execution_count": 61,
   "id": "909ae5ed-d309-450e-95df-59ae8427b316",
   "metadata": {},
   "outputs": [],
   "source": [
    "for i in range(N+1):\n",
    "    cost[i][i] = 0\n",
    "\n",
    "for A, B, C in ABC:\n",
    "    cost[A][B] = C"
   ]
  },
  {
   "cell_type": "code",
   "execution_count": 62,
   "id": "4d0463f5-0972-4f7a-a815-c15a1e2d8ac9",
   "metadata": {},
   "outputs": [],
   "source": [
    "ans = 0\n",
    "for k in range(1, N+1):\n",
    "    for i in range(1, N+1):\n",
    "        for j in range(1, N+1):\n",
    "            cost[i][j] = min(cost[i][j], cost[i][k] + cost[k][j])\n",
    "            if cost[i][j] < 10**60:\n",
    "                ans += cost[i][j]"
   ]
  },
  {
   "cell_type": "code",
   "execution_count": 63,
   "id": "94b95346-5a63-48ee-84a6-67c0e298e45b",
   "metadata": {},
   "outputs": [
    {
     "name": "stdout",
     "output_type": "stream",
     "text": [
      "25\n"
     ]
    }
   ],
   "source": [
    "print(ans)"
   ]
  },
  {
   "cell_type": "code",
   "execution_count": 33,
   "id": "a8c8e4ea-2789-4ed6-a2b0-e7457f1ad6be",
   "metadata": {},
   "outputs": [
    {
     "data": {
      "text/plain": [
       "[[1000000000000000000000000000000000000000000000000000000000000,\n",
       "  1000000000000000000000000000000000000000000000000000000000000,\n",
       "  1000000000000000000000000000000000000000000000000000000000000,\n",
       "  1000000000000000000000000000000000000000000000000000000000000],\n",
       " [1000000000000000000000000000000000000000000000000000000000000,\n",
       "  1000000000000000000000000000000000000000000000000000000000000,\n",
       "  3,\n",
       "  1000000000000000000000000000000000000000000000000000000000000],\n",
       " [1000000000000000000000000000000000000000000000000000000000000,\n",
       "  1000000000000000000000000000000000000000000000000000000000000,\n",
       "  1000000000000000000000000000000000000000000000000000000000000,\n",
       "  2],\n",
       " [1000000000000000000000000000000000000000000000000000000000000,\n",
       "  1000000000000000000000000000000000000000000000000000000000000,\n",
       "  1000000000000000000000000000000000000000000000000000000000000,\n",
       "  1000000000000000000000000000000000000000000000000000000000000]]"
      ]
     },
     "execution_count": 33,
     "metadata": {},
     "output_type": "execute_result"
    }
   ],
   "source": [
    "cost"
   ]
  },
  {
   "cell_type": "code",
   "execution_count": 41,
   "id": "fcf3acbd-3244-43c2-b491-7a34dae27fd9",
   "metadata": {},
   "outputs": [
    {
     "data": {
      "text/plain": [
       "[[0, 0, 0, 0],\n",
       " [0,\n",
       "  1000000000000000000000000000000000000000000000000000000000000,\n",
       "  3,\n",
       "  1000000000000000000000000000000000000000000000000000000000000],\n",
       " [0,\n",
       "  1000000000000000000000000000000000000000000000000000000000000,\n",
       "  1000000000000000000000000000000000000000000000000000000000000,\n",
       "  2],\n",
       " [0,\n",
       "  1000000000000000000000000000000000000000000000000000000000000,\n",
       "  1000000000000000000000000000000000000000000000000000000000000,\n",
       "  1000000000000000000000000000000000000000000000000000000000000]]"
      ]
     },
     "execution_count": 41,
     "metadata": {},
     "output_type": "execute_result"
    }
   ],
   "source": [
    "ne"
   ]
  },
  {
   "cell_type": "code",
   "execution_count": 32,
   "id": "330e1ce8-91cf-4507-bef7-f08c49d5bd31",
   "metadata": {},
   "outputs": [
    {
     "data": {
      "text/plain": [
       "[[1, 2, 3], [2, 3, 2]]"
      ]
     },
     "execution_count": 32,
     "metadata": {},
     "output_type": "execute_result"
    }
   ],
   "source": [
    "ABC"
   ]
  },
  {
   "cell_type": "code",
   "execution_count": 42,
   "id": "d1fae15c-946b-4383-9d29-f2149963e904",
   "metadata": {},
   "outputs": [
    {
     "data": {
      "text/plain": [
       "1000000000000000000000000000000000000000000000000000000000000"
      ]
     },
     "execution_count": 42,
     "metadata": {},
     "output_type": "execute_result"
    }
   ],
   "source": [
    "cost[1][3]"
   ]
  },
  {
   "cell_type": "code",
   "execution_count": null,
   "id": "e80b7bfa-d742-48dc-8871-8d95e74c40e6",
   "metadata": {},
   "outputs": [],
   "source": []
  }
 ],
 "metadata": {
  "kernelspec": {
   "display_name": "Python 3",
   "language": "python",
   "name": "python3"
  },
  "language_info": {
   "codemirror_mode": {
    "name": "ipython",
    "version": 3
   },
   "file_extension": ".py",
   "mimetype": "text/x-python",
   "name": "python",
   "nbconvert_exporter": "python",
   "pygments_lexer": "ipython3",
   "version": "3.6.13"
  }
 },
 "nbformat": 4,
 "nbformat_minor": 5
}
