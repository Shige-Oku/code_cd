{
 "cells": [
  {
   "cell_type": "code",
   "execution_count": 1,
   "id": "19175ca5-1757-459d-9d95-4cb80602e05b",
   "metadata": {},
   "outputs": [],
   "source": [
    "import sys\n",
    "import numpy as np\n",
    "import math\n",
    "import collections\n",
    "import copy\n",
    "import decimal\n",
    "import itertools\n",
    "import re\n",
    "import bisect\n",
    "import scipy\n",
    "import heapq\n",
    "from collections import deque \n",
    "from functools import reduce\n",
    "from itertools import product\n",
    "from itertools import combinations\n",
    "from itertools import chain\n",
    "from functools import lru_cache\n",
    "from scipy.special import comb\n",
    "from numba import njit\n",
    "from bisect import bisect_right\n",
    "from bisect import bisect_left"
   ]
  },
  {
   "cell_type": "code",
   "execution_count": 23,
   "id": "89f63f07-818c-4764-8d4e-2a20ef818869",
   "metadata": {},
   "outputs": [
    {
     "name": "stdin",
     "output_type": "stream",
     "text": [
      " 10000000\n"
     ]
    }
   ],
   "source": [
    "P = int(input())"
   ]
  },
  {
   "cell_type": "code",
   "execution_count": 24,
   "id": "6497776b-9a44-41a1-9417-fe244d6d674f",
   "metadata": {},
   "outputs": [],
   "source": [
    "k = [1, ]\n",
    "for i in range(1, 11):\n",
    "    k.append(k[i-1] * i)"
   ]
  },
  {
   "cell_type": "code",
   "execution_count": 25,
   "id": "975cc747-ba7e-4200-8146-231e4592af49",
   "metadata": {},
   "outputs": [],
   "source": [
    "ans = 0\n",
    "money = P\n",
    "for i in range(10, 0, -1):\n",
    "    ans += money // k[i]\n",
    "    money %= k[i]"
   ]
  },
  {
   "cell_type": "code",
   "execution_count": 26,
   "id": "c2cbf179-424f-4b37-af67-03709a394af6",
   "metadata": {},
   "outputs": [
    {
     "name": "stdout",
     "output_type": "stream",
     "text": [
      "24\n"
     ]
    }
   ],
   "source": [
    "print(ans)"
   ]
  },
  {
   "cell_type": "code",
   "execution_count": null,
   "id": "da0210d6-0a6c-4da5-bf53-e74a167cc392",
   "metadata": {},
   "outputs": [],
   "source": []
  }
 ],
 "metadata": {
  "kernelspec": {
   "display_name": "Python 3",
   "language": "python",
   "name": "python3"
  },
  "language_info": {
   "codemirror_mode": {
    "name": "ipython",
    "version": 3
   },
   "file_extension": ".py",
   "mimetype": "text/x-python",
   "name": "python",
   "nbconvert_exporter": "python",
   "pygments_lexer": "ipython3",
   "version": "3.6.13"
  }
 },
 "nbformat": 4,
 "nbformat_minor": 5
}
