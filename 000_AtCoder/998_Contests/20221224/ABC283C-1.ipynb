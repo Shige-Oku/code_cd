{
 "cells": [
  {
   "cell_type": "code",
   "execution_count": 1,
   "id": "428cef75-6a2b-4f14-a263-c02ccee5ad50",
   "metadata": {},
   "outputs": [],
   "source": [
    "import sys\n",
    "import numpy as np\n",
    "import math\n",
    "import collections\n",
    "import copy\n",
    "import decimal\n",
    "import itertools\n",
    "import re\n",
    "import bisect\n",
    "import scipy\n",
    "import heapq\n",
    "from collections import deque \n",
    "from functools import reduce\n",
    "from itertools import product\n",
    "from itertools import combinations\n",
    "from functools import lru_cache\n",
    "from scipy.special import comb\n",
    "from numba import njit\n",
    "from bisect import bisect_right\n",
    "from bisect import bisect_left"
   ]
  },
  {
   "cell_type": "code",
   "execution_count": 11,
   "id": "3959f02e-f72c-4db3-a36d-e7735ebd23de",
   "metadata": {},
   "outputs": [
    {
     "name": "stdin",
     "output_type": "stream",
     "text": [
      " 10888869450418352160768000001\n"
     ]
    }
   ],
   "source": [
    "S = input()"
   ]
  },
  {
   "cell_type": "code",
   "execution_count": 12,
   "id": "4eac3af1-0341-4159-adcc-ed271688c557",
   "metadata": {},
   "outputs": [],
   "source": [
    "ans = 0\n",
    "c0 = 0\n",
    "for i, s in enumerate(S):\n",
    "    if s == '0':\n",
    "        c0 += 1\n",
    "    else:\n",
    "        ans += (c0 + 1) // 2\n",
    "        ans += 1\n",
    "        c0 = 0\n",
    "else:\n",
    "        ans += (c0 + 1) // 2\n",
    "            "
   ]
  },
  {
   "cell_type": "code",
   "execution_count": 13,
   "id": "d01c0f4b-a2a6-45a8-97a7-bb01f0f4c37a",
   "metadata": {},
   "outputs": [
    {
     "name": "stdout",
     "output_type": "stream",
     "text": [
      "27\n"
     ]
    }
   ],
   "source": [
    "print(ans)"
   ]
  },
  {
   "cell_type": "code",
   "execution_count": null,
   "id": "350fbaaa-240c-4be7-bbfd-280b65a8c48a",
   "metadata": {},
   "outputs": [],
   "source": []
  }
 ],
 "metadata": {
  "kernelspec": {
   "display_name": "Python 3",
   "language": "python",
   "name": "python3"
  },
  "language_info": {
   "codemirror_mode": {
    "name": "ipython",
    "version": 3
   },
   "file_extension": ".py",
   "mimetype": "text/x-python",
   "name": "python",
   "nbconvert_exporter": "python",
   "pygments_lexer": "ipython3",
   "version": "3.6.13"
  }
 },
 "nbformat": 4,
 "nbformat_minor": 5
}
