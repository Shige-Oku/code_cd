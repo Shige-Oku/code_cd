{
 "cells": [
  {
   "cell_type": "code",
   "execution_count": 1,
   "id": "f9f9a552-a7ce-4823-b36c-e75da8e56206",
   "metadata": {},
   "outputs": [],
   "source": [
    "import sys\n",
    "import numpy as np\n",
    "import math\n",
    "import collections\n",
    "import copy\n",
    "import decimal\n",
    "import itertools\n",
    "import re\n",
    "import bisect\n",
    "import scipy\n",
    "import heapq\n",
    "from collections import deque \n",
    "from functools import reduce\n",
    "from itertools import product\n",
    "from itertools import combinations\n",
    "from functools import lru_cache\n",
    "from scipy.special import comb\n",
    "from numba import njit\n",
    "from bisect import bisect_right\n",
    "from bisect import bisect_left"
   ]
  },
  {
   "cell_type": "code",
   "execution_count": 2,
   "id": "1ba260a7-c866-43ed-bc58-fa93dee92509",
   "metadata": {},
   "outputs": [
    {
     "name": "stdin",
     "output_type": "stream",
     "text": [
      " 3\n"
     ]
    }
   ],
   "source": [
    "N = int(input())"
   ]
  },
  {
   "cell_type": "code",
   "execution_count": 3,
   "id": "0289489e-b53c-4927-9675-fd9e05a19dbb",
   "metadata": {},
   "outputs": [
    {
     "name": "stdin",
     "output_type": "stream",
     "text": [
      " 1 3 5\n"
     ]
    }
   ],
   "source": [
    "An = list(map(int, input().split()))"
   ]
  },
  {
   "cell_type": "code",
   "execution_count": 4,
   "id": "a8499a77-80ca-48fc-931e-2c3bee5ee6d9",
   "metadata": {},
   "outputs": [
    {
     "name": "stdin",
     "output_type": "stream",
     "text": [
      " 7\n"
     ]
    }
   ],
   "source": [
    "Qc = int(input())"
   ]
  },
  {
   "cell_type": "code",
   "execution_count": 5,
   "id": "c1825fc6-ce7f-4809-aa91-8fabc839e731",
   "metadata": {},
   "outputs": [
    {
     "name": "stdin",
     "output_type": "stream",
     "text": [
      " 2 2\n",
      " 2 3\n",
      " 1 3 0\n",
      " 2 3\n",
      " 1 2 8\n",
      " 2 2\n",
      " 2 1\n"
     ]
    }
   ],
   "source": [
    "Qn = [list(map(int, input().split())) for _ in range(Qc)]"
   ]
  },
  {
   "cell_type": "code",
   "execution_count": 6,
   "id": "fd5dc2bd-0efa-4ead-b451-dec820ad6c56",
   "metadata": {},
   "outputs": [
    {
     "name": "stdout",
     "output_type": "stream",
     "text": [
      "3\n",
      "5\n",
      "0\n",
      "8\n",
      "1\n"
     ]
    }
   ],
   "source": [
    "for i, Q in enumerate(Qn):\n",
    "    if Q[0] == 1:\n",
    "        _, k, x = Qn[i]\n",
    "        An[k-1] = x\n",
    "    else:\n",
    "        _, k = Qn[i]\n",
    "        print(An[k-1])"
   ]
  },
  {
   "cell_type": "code",
   "execution_count": null,
   "id": "541198a8-633b-4281-aae1-9012b8fc2c9c",
   "metadata": {},
   "outputs": [],
   "source": []
  }
 ],
 "metadata": {
  "kernelspec": {
   "display_name": "Python 3",
   "language": "python",
   "name": "python3"
  },
  "language_info": {
   "codemirror_mode": {
    "name": "ipython",
    "version": 3
   },
   "file_extension": ".py",
   "mimetype": "text/x-python",
   "name": "python",
   "nbconvert_exporter": "python",
   "pygments_lexer": "ipython3",
   "version": "3.6.13"
  }
 },
 "nbformat": 4,
 "nbformat_minor": 5
}
