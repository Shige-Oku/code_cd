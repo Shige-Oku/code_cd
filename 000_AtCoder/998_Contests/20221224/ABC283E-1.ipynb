{
 "cells": [
  {
   "cell_type": "code",
   "execution_count": 1,
   "id": "a43a115e-81a5-47fb-9a28-8bbd0644f169",
   "metadata": {},
   "outputs": [],
   "source": [
    "import sys\n",
    "import numpy as np\n",
    "import math\n",
    "import collections\n",
    "import copy\n",
    "import decimal\n",
    "import itertools\n",
    "import re\n",
    "import bisect\n",
    "import scipy\n",
    "import heapq\n",
    "from collections import deque \n",
    "from functools import reduce\n",
    "from itertools import product\n",
    "from itertools import combinations\n",
    "from functools import lru_cache\n",
    "from scipy.special import comb\n",
    "from numba import njit\n",
    "from bisect import bisect_right\n",
    "from bisect import bisect_left"
   ]
  },
  {
   "cell_type": "code",
   "execution_count": 3,
   "id": "951ef03f-567a-4cfb-b9f7-47c4b13457cb",
   "metadata": {},
   "outputs": [
    {
     "name": "stdin",
     "output_type": "stream",
     "text": [
      " 3 3\n"
     ]
    }
   ],
   "source": [
    "H, W = map(int, input().split())"
   ]
  },
  {
   "cell_type": "code",
   "execution_count": 4,
   "id": "6a8fe878-0783-471d-bccb-8bedf8fb9182",
   "metadata": {},
   "outputs": [
    {
     "name": "stdin",
     "output_type": "stream",
     "text": [
      " 1 1 0\n",
      " 1 0 1\n",
      " 1 0 0\n"
     ]
    }
   ],
   "source": [
    "An = [list(map(int, input().split())) for _ in range(H)]"
   ]
  },
  {
   "cell_type": "code",
   "execution_count": 9,
   "id": "352822eb-2fb4-4594-a2a8-91c32118a3ec",
   "metadata": {},
   "outputs": [],
   "source": [
    "def myCheck(h, w):\n",
    "    for i in range(max(0, h-1), min(H, h+1)):\n",
    "        for j in range(max(0, w-1), min(W, w+1)):\n",
    "            if h == i and w == j:\n",
    "                continue\n",
    "            if An[h][w] == An[i][j]:\n",
    "                break\n",
    "        else:\n",
    "            return False\n",
    "    return True"
   ]
  },
  {
   "cell_type": "code",
   "execution_count": 10,
   "id": "ee195071-9c8d-4d20-aef6-edf92ea56d27",
   "metadata": {},
   "outputs": [],
   "source": [
    "flg = False\n",
    "for h in range(H):\n",
    "    for w in range(W):\n",
    "        if not myCheck(h, w):\n",
    "            break\n",
    "else:\n",
    "    flg = True"
   ]
  },
  {
   "cell_type": "code",
   "execution_count": 12,
   "id": "5228b0cc-b28c-4d18-9064-9c77ca9224a2",
   "metadata": {},
   "outputs": [],
   "source": [
    "def myCnt():\n",
    "    ret = 0\n",
    "    for h in range(H):\n",
    "        for w in range(W):\n",
    "            if h > 0:\n",
    "                if An[h][j] == An[h-1][j]:\n",
    "                    continue\n",
    "                if w == 0\n",
    "                    continue\n",
    "                else:\n",
    "                    ret += 1\n",
    "                    break\n",
    "                if An[h][j] == An[h][j+1] or An[h][j] == An[h-1][j]:\n",
    "                    continue\n",
    "                else:\n",
    "                    ret += 1\n",
    "                    break\n",
    "            \n",
    "            \n",
    "    return ret"
   ]
  },
  {
   "cell_type": "code",
   "execution_count": 13,
   "id": "987c9a68-bd3a-4073-95f5-d44525f87233",
   "metadata": {},
   "outputs": [
    {
     "name": "stdout",
     "output_type": "stream",
     "text": [
      "0\n"
     ]
    }
   ],
   "source": [
    "if flg:\n",
    "    print(myCnt())\n",
    "else:\n",
    "    print(-1)"
   ]
  },
  {
   "cell_type": "code",
   "execution_count": null,
   "id": "5b6a8fbd-01ba-492c-86fc-e4ae3f97e40f",
   "metadata": {},
   "outputs": [],
   "source": []
  }
 ],
 "metadata": {
  "kernelspec": {
   "display_name": "Python 3",
   "language": "python",
   "name": "python3"
  },
  "language_info": {
   "codemirror_mode": {
    "name": "ipython",
    "version": 3
   },
   "file_extension": ".py",
   "mimetype": "text/x-python",
   "name": "python",
   "nbconvert_exporter": "python",
   "pygments_lexer": "ipython3",
   "version": "3.6.13"
  }
 },
 "nbformat": 4,
 "nbformat_minor": 5
}
