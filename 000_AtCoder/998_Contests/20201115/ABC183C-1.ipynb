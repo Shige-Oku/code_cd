{
 "cells": [
  {
   "cell_type": "code",
   "execution_count": 1,
   "metadata": {},
   "outputs": [],
   "source": [
    "import sys\n",
    "import numpy as np\n",
    "import math\n",
    "import collections\n",
    "import copy\n",
    "import decimal\n",
    "import itertools\n",
    "from collections import deque \n",
    "from functools import reduce\n",
    "from itertools import product\n",
    "from itertools import combinations"
   ]
  },
  {
   "cell_type": "code",
   "execution_count": 2,
   "metadata": {},
   "outputs": [
    {
     "name": "stdin",
     "output_type": "stream",
     "text": [
      " 4 330\n"
     ]
    }
   ],
   "source": [
    "N, K = map(int, input().split())"
   ]
  },
  {
   "cell_type": "code",
   "execution_count": 17,
   "metadata": {},
   "outputs": [
    {
     "name": "stdin",
     "output_type": "stream",
     "text": [
      " 0 1 10 100\n",
      " 1 0 20 200\n",
      " 10 20 0 300\n",
      " 100 200 300 0\n"
     ]
    }
   ],
   "source": [
    "Tij = [list(map(int, input().split())) for _ in range(N)]"
   ]
  },
  {
   "cell_type": "code",
   "execution_count": 55,
   "metadata": {},
   "outputs": [
    {
     "name": "stdout",
     "output_type": "stream",
     "text": [
      "(1, 2, 3)\n",
      "421\n",
      "(1, 3, 2)\n",
      "511\n",
      "(2, 1, 3)\n",
      "330\n",
      "(2, 3, 1)\n",
      "511\n",
      "(3, 1, 2)\n",
      "330\n",
      "(3, 2, 1)\n",
      "421\n"
     ]
    }
   ],
   "source": [
    "ans = 0\n",
    "for p in itertools.permutations(range(1, N)):\n",
    "    distance = 0\n",
    "#     print(p)\n",
    "    st = 0\n",
    "    for i, pp in enumerate(p):\n",
    "#         print(i, pp)\n",
    "#         if i == N-2:\n",
    "#             print(Tij[st][0], 0)\n",
    "#             distance += Tij[st][0]\n",
    "#         else:\n",
    "#             print(Tij[st][pp])\n",
    "#             distance += Tij[st][pp]\n",
    "        distance += Tij[st][pp]\n",
    "        st = pp\n",
    "    distance += Tij[st][0]\n",
    "#     print(distance)\n",
    "    if distance == K:\n",
    "        ans += 1"
   ]
  },
  {
   "cell_type": "code",
   "execution_count": 56,
   "metadata": {},
   "outputs": [
    {
     "name": "stdout",
     "output_type": "stream",
     "text": [
      "2\n"
     ]
    }
   ],
   "source": [
    "print(ans)"
   ]
  },
  {
   "cell_type": "code",
   "execution_count": 48,
   "metadata": {},
   "outputs": [
    {
     "data": {
      "text/plain": [
       "100"
      ]
     },
     "execution_count": 48,
     "metadata": {},
     "output_type": "execute_result"
    }
   ],
   "source": [
    "Tij[3][0]"
   ]
  },
  {
   "cell_type": "code",
   "execution_count": null,
   "metadata": {},
   "outputs": [],
   "source": []
  }
 ],
 "metadata": {
  "kernelspec": {
   "display_name": "Python 3",
   "language": "python",
   "name": "python3"
  },
  "language_info": {
   "codemirror_mode": {
    "name": "ipython",
    "version": 3
   },
   "file_extension": ".py",
   "mimetype": "text/x-python",
   "name": "python",
   "nbconvert_exporter": "python",
   "pygments_lexer": "ipython3",
   "version": "3.6.10"
  }
 },
 "nbformat": 4,
 "nbformat_minor": 4
}
