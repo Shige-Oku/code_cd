{
 "cells": [
  {
   "cell_type": "code",
   "execution_count": 1,
   "id": "c286e30a-7da5-4185-b33d-e7f387aa40d2",
   "metadata": {},
   "outputs": [],
   "source": [
    "import sys\n",
    "import numpy as np\n",
    "import math\n",
    "import collections\n",
    "import copy\n",
    "import decimal\n",
    "import itertools\n",
    "import re\n",
    "import bisect\n",
    "import scipy\n",
    "import heapq\n",
    "from collections import deque \n",
    "from functools import reduce\n",
    "from itertools import product\n",
    "from itertools import combinations\n",
    "from functools import lru_cache\n",
    "from scipy.special import comb\n",
    "from numba import njit\n",
    "from bisect import bisect_right\n",
    "from bisect import bisect_left"
   ]
  },
  {
   "cell_type": "code",
   "execution_count": 1,
   "id": "f2c5153a-68c1-4814-8718-54ef73119210",
   "metadata": {},
   "outputs": [
    {
     "name": "stdin",
     "output_type": "stream",
     "text": [
      " 3\n"
     ]
    }
   ],
   "source": [
    "N = int(input())"
   ]
  },
  {
   "cell_type": "code",
   "execution_count": 2,
   "id": "41f36bf4-a26b-4eb4-ae56-3c2a0c9ff12f",
   "metadata": {},
   "outputs": [
    {
     "name": "stdin",
     "output_type": "stream",
     "text": [
      " 0 1 1 \n",
      " 1 0 0\n",
      " 0 1 0\n"
     ]
    }
   ],
   "source": [
    "An = [list(map(int, input().split())) for _ in range(N)]"
   ]
  },
  {
   "cell_type": "code",
   "execution_count": 3,
   "id": "6805837d-45dc-4cea-9530-e8e2b57fece6",
   "metadata": {},
   "outputs": [
    {
     "name": "stdin",
     "output_type": "stream",
     "text": [
      " 1 1 0\n",
      " 0 0 1\n",
      " 1 1 1\n"
     ]
    }
   ],
   "source": [
    "Bn = [list(map(int, input().split())) for _ in range(N)]"
   ]
  },
  {
   "cell_type": "code",
   "execution_count": 22,
   "id": "60ee0a5d-4c1b-422d-90ab-555375c2396a",
   "metadata": {},
   "outputs": [],
   "source": [
    "def solve2(An_n):\n",
    "    for i in range(N):\n",
    "        for j in range(N):\n",
    "            if An_n[i][j] == 0:\n",
    "                continue\n",
    "            if Bn_np[i][j] != 1:\n",
    "                return False\n",
    "    return True"
   ]
  },
  {
   "cell_type": "code",
   "execution_count": 24,
   "id": "39ed6655-7335-47c2-85af-41c010a1e40c",
   "metadata": {},
   "outputs": [],
   "source": [
    "def solve():\n",
    "    if solve2(An_np):\n",
    "        return True\n",
    "    if solve2(An_n2):\n",
    "        return True\n",
    "    if solve2(An_n3):\n",
    "        return True\n",
    "    if solve2(An_n4):\n",
    "        return True\n",
    "    return False"
   ]
  },
  {
   "cell_type": "code",
   "execution_count": 25,
   "id": "6bc9631f-467f-4600-a414-a8b1c98736e3",
   "metadata": {},
   "outputs": [],
   "source": [
    "import numpy as np\n",
    "An_np = np.zeros([N, N])\n",
    "Bn_np = np.zeros([N, N])\n",
    "for i, (A, B) in enumerate(zip(An, Bn)):\n",
    "    for j, (a, b) in enumerate(zip(A, B)):\n",
    "        An_np[i][j] = a\n",
    "        Bn_np[i][j] = b\n",
    "An_n2 = np.rot90(An_np).copy()\n",
    "An_n3 = np.rot90(An_np, 2).copy()\n",
    "An_n4 = np.rot90(An_np, 3).copy()\n"
   ]
  },
  {
   "cell_type": "code",
   "execution_count": 26,
   "id": "b8389de7-5ba7-4847-bd3e-15912cf2027d",
   "metadata": {},
   "outputs": [
    {
     "name": "stdout",
     "output_type": "stream",
     "text": [
      "Yes\n"
     ]
    }
   ],
   "source": [
    "print('Yes' if solve() else 'No')"
   ]
  },
  {
   "cell_type": "code",
   "execution_count": null,
   "id": "ac09b9f6-b0ed-4297-9c22-6eed1739acf9",
   "metadata": {},
   "outputs": [],
   "source": [
    "# 解説を読んで実装"
   ]
  },
  {
   "cell_type": "code",
   "execution_count": 10,
   "id": "9287ab26-683b-4636-ada5-89caa81ff14f",
   "metadata": {},
   "outputs": [],
   "source": [
    "import numpy as np\n",
    "def solve():\n",
    "    An_n = np.array(An)\n",
    "    Bn_n = np.array(Bn)\n",
    "    for _ in range(4):\n",
    "        if np.min(Bn_n - An_n) >= 0:\n",
    "            return True\n",
    "        An_n = np.rot90(An_n)\n",
    "    return False"
   ]
  },
  {
   "cell_type": "code",
   "execution_count": 21,
   "id": "90f5e1d9-7134-4681-ad71-36f391ba7f2c",
   "metadata": {},
   "outputs": [
    {
     "name": "stdout",
     "output_type": "stream",
     "text": [
      "Yes\n"
     ]
    }
   ],
   "source": [
    "print('Yes' if solve() else 'No')"
   ]
  },
  {
   "cell_type": "code",
   "execution_count": 22,
   "id": "805043aa-3c97-4ff2-9ff5-000f4421a0f5",
   "metadata": {},
   "outputs": [],
   "source": [
    "import numpy as np\n",
    "def solve():\n",
    "    An_n = np.array(An)\n",
    "    Bn_n = np.array(Bn)\n",
    "    for _ in range(4):\n",
    "        if np.all(Bn_n >= An_n):\n",
    "            return True\n",
    "        An_n = np.rot90(An_n)\n",
    "    return False"
   ]
  },
  {
   "cell_type": "code",
   "execution_count": 23,
   "id": "610f3416-c302-42d5-baa0-3589df44fdc5",
   "metadata": {},
   "outputs": [
    {
     "name": "stdout",
     "output_type": "stream",
     "text": [
      "Yes\n"
     ]
    }
   ],
   "source": [
    "print('Yes' if solve() else 'No')"
   ]
  },
  {
   "cell_type": "code",
   "execution_count": 16,
   "id": "a84b1573-5fc0-43db-b215-078d47233364",
   "metadata": {},
   "outputs": [],
   "source": [
    "def rotate(An_c):\n",
    "    ret = deepcopy(An_c)\n",
    "    for i in range(N):\n",
    "        for j in range(N):\n",
    "            ret[N-1-j][i] = An_c[i][j]\n",
    "    return ret"
   ]
  },
  {
   "cell_type": "code",
   "execution_count": 17,
   "id": "1eede5c4-b956-4f9f-a7c1-735fc8052f9d",
   "metadata": {},
   "outputs": [],
   "source": [
    "def check(An_c):\n",
    "    for i in range(N):\n",
    "        for j in range(N):\n",
    "            if An_c[i][j] == 0:\n",
    "                continue\n",
    "            if Bn[i][j] != 1:\n",
    "                return False\n",
    "    return True"
   ]
  },
  {
   "cell_type": "code",
   "execution_count": 18,
   "id": "c31685d9-24cc-42aa-b859-326ddfeef82c",
   "metadata": {},
   "outputs": [],
   "source": [
    "from copy import deepcopy\n",
    "def solve():\n",
    "    An_c = deepcopy(An)\n",
    "    for _ in range(4):\n",
    "        if check(An_c):\n",
    "            return True\n",
    "        An_c = rotate(An_c)\n",
    "    return False"
   ]
  },
  {
   "cell_type": "code",
   "execution_count": 19,
   "id": "9df7a4f3-2e27-47ff-9f23-513bb8a7dbc1",
   "metadata": {},
   "outputs": [
    {
     "name": "stdout",
     "output_type": "stream",
     "text": [
      "Yes\n"
     ]
    }
   ],
   "source": [
    "print('Yes' if solve() else 'No')"
   ]
  },
  {
   "cell_type": "code",
   "execution_count": null,
   "id": "58d71aae-43ac-4476-885f-ae2285887036",
   "metadata": {},
   "outputs": [],
   "source": [
    "def solve(f1, f2):\n",
    "    "
   ]
  },
  {
   "cell_type": "code",
   "execution_count": 6,
   "id": "b58ee7c4-1b58-409b-8adc-31413475dfde",
   "metadata": {},
   "outputs": [
    {
     "name": "stdout",
     "output_type": "stream",
     "text": [
      "True True\n",
      "True False\n",
      "False True\n",
      "False False\n"
     ]
    }
   ],
   "source": [
    "for f1, f2 in ([True, True], [True, False], [False, True], [False, False]):\n",
    "    print(f1, f2)"
   ]
  },
  {
   "cell_type": "code",
   "execution_count": 14,
   "id": "7c98b07a-fcaa-4963-a016-9dc362e183d4",
   "metadata": {},
   "outputs": [
    {
     "data": {
      "text/plain": [
       "(array([[0., 1., 1.],\n",
       "        [1., 0., 0.],\n",
       "        [0., 1., 0.]]),\n",
       " array([[1., 1., 0.],\n",
       "        [0., 0., 1.],\n",
       "        [1., 1., 1.]]),\n",
       " array([[1., 0., 0.],\n",
       "        [1., 0., 1.],\n",
       "        [0., 1., 0.]]))"
      ]
     },
     "execution_count": 14,
     "metadata": {},
     "output_type": "execute_result"
    }
   ],
   "source": [
    "An_np, Bn_np, An_n2"
   ]
  },
  {
   "cell_type": "code",
   "execution_count": 28,
   "id": "878bca91-6aa2-4df7-aa67-f4d70f56c279",
   "metadata": {},
   "outputs": [],
   "source": [
    "an = np.array(An)"
   ]
  },
  {
   "cell_type": "code",
   "execution_count": 29,
   "id": "3e6ba40d-5df9-407a-ba44-0061071bbe59",
   "metadata": {},
   "outputs": [
    {
     "data": {
      "text/plain": [
       "array([[0, 1, 1],\n",
       "       [1, 0, 0],\n",
       "       [0, 1, 0]])"
      ]
     },
     "execution_count": 29,
     "metadata": {},
     "output_type": "execute_result"
    }
   ],
   "source": [
    "an"
   ]
  },
  {
   "cell_type": "code",
   "execution_count": null,
   "id": "265562a3-5af0-4e67-b211-78c3a7daf2c5",
   "metadata": {},
   "outputs": [],
   "source": []
  }
 ],
 "metadata": {
  "kernelspec": {
   "display_name": "Python 3",
   "language": "python",
   "name": "python3"
  },
  "language_info": {
   "codemirror_mode": {
    "name": "ipython",
    "version": 3
   },
   "file_extension": ".py",
   "mimetype": "text/x-python",
   "name": "python",
   "nbconvert_exporter": "python",
   "pygments_lexer": "ipython3",
   "version": "3.6.13"
  }
 },
 "nbformat": 4,
 "nbformat_minor": 5
}
