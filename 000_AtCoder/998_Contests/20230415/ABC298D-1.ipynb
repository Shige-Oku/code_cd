{
 "cells": [
  {
   "cell_type": "code",
   "execution_count": 1,
   "id": "87181b9b-fc10-4c57-90b5-e5ae0b7e702f",
   "metadata": {},
   "outputs": [],
   "source": [
    "import sys\n",
    "import numpy as np\n",
    "import math\n",
    "import collections\n",
    "import copy\n",
    "import decimal\n",
    "import itertools\n",
    "import re\n",
    "import bisect\n",
    "import scipy\n",
    "import heapq\n",
    "from collections import deque \n",
    "from functools import reduce\n",
    "from itertools import product\n",
    "from itertools import combinations\n",
    "from functools import lru_cache\n",
    "from scipy.special import comb\n",
    "from numba import njit\n",
    "from bisect import bisect_right\n",
    "from bisect import bisect_left"
   ]
  },
  {
   "cell_type": "code",
   "execution_count": 1,
   "id": "e2215ad4-f932-468e-ba26-762d3a5c31b8",
   "metadata": {},
   "outputs": [
    {
     "name": "stdin",
     "output_type": "stream",
     "text": [
      " 3\n"
     ]
    }
   ],
   "source": [
    "Q = int(input())"
   ]
  },
  {
   "cell_type": "code",
   "execution_count": 2,
   "id": "c304253b-ee43-43d1-bddd-b74b7aca1f2c",
   "metadata": {},
   "outputs": [
    {
     "name": "stdin",
     "output_type": "stream",
     "text": [
      " 1 5\n",
      " 2\n",
      " 3\n"
     ]
    }
   ],
   "source": [
    "Qq = [list(map(int, input().split())) for _ in range(Q)]"
   ]
  },
  {
   "cell_type": "code",
   "execution_count": null,
   "id": "d49312a5-b529-42e0-9eaf-1da6e1755b45",
   "metadata": {},
   "outputs": [],
   "source": [
    "# 解説を読んで実装"
   ]
  },
  {
   "cell_type": "code",
   "execution_count": 5,
   "id": "9c7bcd3a-bf1b-403c-be22-d05d34dcf6d6",
   "metadata": {},
   "outputs": [
    {
     "name": "stdout",
     "output_type": "stream",
     "text": [
      "5\n"
     ]
    }
   ],
   "source": [
    "from collections import deque\n",
    "que = deque()\n",
    "que.append(1)\n",
    "s = 1\n",
    "MOD = 998244353\n",
    "for q in Qq:\n",
    "    if q[0] == 1:\n",
    "        s *= 10\n",
    "        s += q[1]\n",
    "        s %= MOD\n",
    "        que.append(q[1])\n",
    "    elif q[0] == 2:\n",
    "        v = que.popleft()\n",
    "        d = pow(10, len(que), MOD) * v\n",
    "        d %= MOD\n",
    "        if d > s:\n",
    "            s += MOD - d\n",
    "        else:\n",
    "            s -= d\n",
    "    else:\n",
    "        print(s)\n"
   ]
  },
  {
   "cell_type": "code",
   "execution_count": 8,
   "id": "9139ff5a-b0cd-40e1-8817-55490098e7d1",
   "metadata": {},
   "outputs": [
    {
     "name": "stdout",
     "output_type": "stream",
     "text": [
      "5\n"
     ]
    }
   ],
   "source": [
    "from collections import deque\n",
    "que = deque()\n",
    "que.append(1)\n",
    "s = 1\n",
    "MOD = 998244353\n",
    "for q in Qq:\n",
    "    if q[0] == 1:\n",
    "        s *= 10\n",
    "        s += q[1]\n",
    "        s %= MOD\n",
    "        que.append(q[1])\n",
    "    elif q[0] == 2:\n",
    "        v = que.popleft()\n",
    "        s -= pow(10, len(que), MOD) * v\n",
    "        s %= MOD\n",
    "    else:\n",
    "        print(s)\n"
   ]
  },
  {
   "cell_type": "code",
   "execution_count": 10,
   "id": "6f150710-f521-4024-840c-94a45231190f",
   "metadata": {},
   "outputs": [
    {
     "name": "stdout",
     "output_type": "stream",
     "text": [
      "5\n"
     ]
    }
   ],
   "source": [
    "from collections import deque\n",
    "que = deque()\n",
    "que.append(1)\n",
    "s = 1\n",
    "MOD = 998244353\n",
    "for q in Qq:\n",
    "    if q[0] == 1:\n",
    "        s *= 10\n",
    "        s += q[1]\n",
    "        s %= MOD\n",
    "        que.append(q[1])\n",
    "    elif q[0] == 2:\n",
    "        v = que.popleft()\n",
    "        s -= pow(10, len(que), MOD) * v\n",
    "        s %= MOD\n",
    "    else:\n",
    "        print(s)\n"
   ]
  },
  {
   "cell_type": "code",
   "execution_count": null,
   "id": "02dc9d7c-70f1-4c1e-ab1a-761195282ce3",
   "metadata": {},
   "outputs": [],
   "source": [
    "# TLE"
   ]
  },
  {
   "cell_type": "code",
   "execution_count": 7,
   "id": "1e1841a0-851c-4d97-9cdf-6600b47d1eaa",
   "metadata": {},
   "outputs": [
    {
     "name": "stdout",
     "output_type": "stream",
     "text": [
      "5\n"
     ]
    }
   ],
   "source": [
    "from collections import deque\n",
    "MOD = 998244353\n",
    "que = deque()\n",
    "que.append(1)\n",
    "ans = 1\n",
    "for q in Qq:\n",
    "    if q[0] == 1:\n",
    "        ans *= 10\n",
    "        ans += q[1]\n",
    "        que.append(q[1])\n",
    "    elif q[0] == 2:\n",
    "        v = que.popleft()\n",
    "        d = pow(10, len(que)) * v\n",
    "        ans -= d\n",
    "    else:\n",
    "        print(ans % MOD)"
   ]
  },
  {
   "cell_type": "code",
   "execution_count": null,
   "id": "a8d987e9-ef3c-45ee-ba4e-5460436f6908",
   "metadata": {},
   "outputs": [],
   "source": [
    "# WA"
   ]
  },
  {
   "cell_type": "code",
   "execution_count": null,
   "id": "5ffe3bf3-1119-452c-a3a2-f3b45514a165",
   "metadata": {},
   "outputs": [],
   "source": [
    "s = 1\n",
    "k = 2\n",
    "d = 0\n",
    "for q in Qq:\n",
    "    if q[0] == 1:\n",
    "        s *= 10\n",
    "        s += q[1]\n",
    "        k += 1\n",
    "    elif q[0] == 2:\n",
    "        d += 1\n",
    "    else:\n",
    "        print(s % 10**(k-d) % 998244353)"
   ]
  },
  {
   "cell_type": "code",
   "execution_count": null,
   "id": "b4ee63e6-9edf-46af-ad66-7bdf470719f7",
   "metadata": {},
   "outputs": [],
   "source": [
    "# TLE"
   ]
  },
  {
   "cell_type": "code",
   "execution_count": 4,
   "id": "357886c6-61c1-4193-b941-9a4266f536c8",
   "metadata": {},
   "outputs": [
    {
     "name": "stdout",
     "output_type": "stream",
     "text": [
      "1\n",
      "12\n"
     ]
    }
   ],
   "source": [
    "S = '1'\n",
    "d = 0\n",
    "for q in Qq:\n",
    "    if q[0] == 1:\n",
    "        S += str(q[1])\n",
    "    elif q[0] == 2:\n",
    "        d += 1\n",
    "    else:\n",
    "        print(int(S[d:]) % 998244353)"
   ]
  },
  {
   "cell_type": "code",
   "execution_count": null,
   "id": "28aa724b-c2fd-410f-b9b6-c5fc32bd6ba3",
   "metadata": {},
   "outputs": [],
   "source": []
  }
 ],
 "metadata": {
  "kernelspec": {
   "display_name": "Python 3",
   "language": "python",
   "name": "python3"
  },
  "language_info": {
   "codemirror_mode": {
    "name": "ipython",
    "version": 3
   },
   "file_extension": ".py",
   "mimetype": "text/x-python",
   "name": "python",
   "nbconvert_exporter": "python",
   "pygments_lexer": "ipython3",
   "version": "3.6.13"
  }
 },
 "nbformat": 4,
 "nbformat_minor": 5
}
