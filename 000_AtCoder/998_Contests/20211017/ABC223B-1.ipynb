{
 "cells": [
  {
   "cell_type": "code",
   "execution_count": 1,
   "id": "476f7dc1-b430-4e6c-8a35-591e44b303f6",
   "metadata": {},
   "outputs": [],
   "source": [
    "import numpy as np\n",
    "import math\n",
    "import collections\n",
    "import copy\n",
    "import decimal\n",
    "import itertools\n",
    "import re\n",
    "import bisect\n",
    "import scipy\n",
    "import heapq\n",
    "import array\n",
    "from collections import deque\n",
    "from functools import reduce\n",
    "from itertools import product\n",
    "from itertools import combinations\n",
    "from itertools import chain\n",
    "from functools import lru_cache\n",
    "from scipy.special import comb\n",
    "from numba import njit\n",
    "from bisect import bisect_right\n",
    "from bisect import bisect_left"
   ]
  },
  {
   "cell_type": "code",
   "execution_count": 20,
   "id": "f8368250-e210-4a2c-89ef-2cb29ce83400",
   "metadata": {},
   "outputs": [
    {
     "name": "stdin",
     "output_type": "stream",
     "text": [
      " abracadabra\n"
     ]
    }
   ],
   "source": [
    "S = input()"
   ]
  },
  {
   "cell_type": "code",
   "execution_count": 21,
   "id": "d3eadc68-664b-423c-87b5-c1b89f38c4fd",
   "metadata": {},
   "outputs": [],
   "source": [
    "mi = 'z' * len(S)\n",
    "ma = 'a' * len(S)"
   ]
  },
  {
   "cell_type": "code",
   "execution_count": 22,
   "id": "d9218407-1180-4965-a17c-fe24cd028088",
   "metadata": {},
   "outputs": [],
   "source": [
    "s = S\n",
    "for i in range(len(S)):\n",
    "    if mi > s:\n",
    "        mi = s\n",
    "    if ma < s:\n",
    "        ma = s\n",
    "    s = s[1:] + s[0]\n"
   ]
  },
  {
   "cell_type": "code",
   "execution_count": 23,
   "id": "bc5dcc4e-7b1a-4362-80a4-8b2b4143f717",
   "metadata": {},
   "outputs": [],
   "source": [
    "s = S\n",
    "for i in range(len(S)):\n",
    "    if mi > s:\n",
    "        mi = s\n",
    "    if ma < s:\n",
    "        ma = s\n",
    "    s = s[-1] + s[:-1]\n"
   ]
  },
  {
   "cell_type": "code",
   "execution_count": 24,
   "id": "fc059c3c-1a1f-451e-9ffb-4fc0395c105b",
   "metadata": {},
   "outputs": [
    {
     "name": "stdout",
     "output_type": "stream",
     "text": [
      "aabracadabr\n",
      "racadabraab\n"
     ]
    }
   ],
   "source": [
    "print(mi)\n",
    "print(ma)"
   ]
  },
  {
   "cell_type": "code",
   "execution_count": 13,
   "id": "63dd36f4-9479-41e3-aaf6-84d662405adb",
   "metadata": {},
   "outputs": [
    {
     "data": {
      "text/plain": [
       "('aaab', 'baaa')"
      ]
     },
     "execution_count": 13,
     "metadata": {},
     "output_type": "execute_result"
    }
   ],
   "source": [
    "mi, ma"
   ]
  },
  {
   "cell_type": "code",
   "execution_count": null,
   "id": "bf009ea2-126a-448a-a910-aa2661056e3c",
   "metadata": {},
   "outputs": [],
   "source": []
  }
 ],
 "metadata": {
  "kernelspec": {
   "display_name": "Python 3",
   "language": "python",
   "name": "python3"
  },
  "language_info": {
   "codemirror_mode": {
    "name": "ipython",
    "version": 3
   },
   "file_extension": ".py",
   "mimetype": "text/x-python",
   "name": "python",
   "nbconvert_exporter": "python",
   "pygments_lexer": "ipython3",
   "version": "3.6.13"
  }
 },
 "nbformat": 4,
 "nbformat_minor": 5
}
