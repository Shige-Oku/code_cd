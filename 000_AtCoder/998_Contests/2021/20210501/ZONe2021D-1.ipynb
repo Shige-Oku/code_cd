{
 "cells": [
  {
   "cell_type": "code",
   "execution_count": null,
   "metadata": {},
   "outputs": [],
   "source": [
    "# 解説を読んで実装"
   ]
  },
  {
   "cell_type": "code",
   "execution_count": 1,
   "metadata": {},
   "outputs": [],
   "source": [
    "import sys\n",
    "import numpy as np\n",
    "import math\n",
    "import collections\n",
    "import copy\n",
    "import decimal\n",
    "import itertools\n",
    "import re\n",
    "import bisect\n",
    "import scipy\n",
    "from collections import deque \n",
    "from functools import reduce\n",
    "from itertools import product\n",
    "from itertools import combinations\n",
    "from functools import lru_cache\n",
    "from scipy.special import comb\n",
    "from numba import njit\n",
    "from bisect import bisect_right\n",
    "from bisect import bisect_left"
   ]
  },
  {
   "cell_type": "code",
   "execution_count": 26,
   "metadata": {},
   "outputs": [
    {
     "name": "stdin",
     "output_type": "stream",
     "text": [
      " hellospaceRhellospace\n"
     ]
    }
   ],
   "source": [
    "S = input()"
   ]
  },
  {
   "cell_type": "code",
   "execution_count": 27,
   "metadata": {},
   "outputs": [],
   "source": [
    "ans = deque()\n",
    "rev = False\n",
    "for s in S:\n",
    "    if s == 'R':\n",
    "        rev = not rev\n",
    "        continue\n",
    "    if len(ans) == 0:\n",
    "        ans.append(s)\n",
    "        continue\n",
    "    if rev:\n",
    "        if s == ans[0]:\n",
    "            ans.popleft()\n",
    "        else:\n",
    "            ans.appendleft(s)\n",
    "    else:\n",
    "        if s == ans[-1]:\n",
    "            ans.pop()\n",
    "        else:\n",
    "            ans.append(s)"
   ]
  },
  {
   "cell_type": "code",
   "execution_count": 28,
   "metadata": {},
   "outputs": [
    {
     "name": "stdout",
     "output_type": "stream",
     "text": [
      "\n"
     ]
    }
   ],
   "source": [
    "if rev:\n",
    "    ans = reversed(ans)\n",
    "print(''.join(ans))"
   ]
  },
  {
   "cell_type": "code",
   "execution_count": 18,
   "metadata": {},
   "outputs": [
    {
     "data": {
      "text/plain": [
       "<_collections._deque_reverse_iterator at 0x20ee5f8f3b8>"
      ]
     },
     "execution_count": 18,
     "metadata": {},
     "output_type": "execute_result"
    }
   ],
   "source": [
    "ans"
   ]
  },
  {
   "cell_type": "code",
   "execution_count": null,
   "metadata": {},
   "outputs": [],
   "source": [
    "# WA"
   ]
  },
  {
   "cell_type": "code",
   "execution_count": 78,
   "metadata": {},
   "outputs": [],
   "source": [
    "flg = True\n",
    "T = ''\n",
    "for s in S:\n",
    "    if s == 'R':\n",
    "        flg = not flg\n",
    "        continue\n",
    "    if flg:\n",
    "        T = T + s\n",
    "    else:\n",
    "        T = s + T\n"
   ]
  },
  {
   "cell_type": "code",
   "execution_count": 91,
   "metadata": {},
   "outputs": [
    {
     "name": "stdout",
     "output_type": "stream",
     "text": [
      "zonooe\n",
      "zone\n"
     ]
    }
   ],
   "source": [
    "if flg:\n",
    "    ans = T\n",
    "else:\n",
    "    ans = T[::-1]\n",
    "st = 0\n",
    "while True:\n",
    "    i = max(0, st-1)\n",
    "    b = ans[:i]\n",
    "    st = -1\n",
    "    while i < len(ans)-1:\n",
    "        if ans[i] != ans[i+1]:\n",
    "            b += ans[i]\n",
    "            i += 1\n",
    "        else:\n",
    "            if st == -1:\n",
    "                st = i\n",
    "            i += 2\n",
    "    if len(ans) > 2 and ans[-2] != ans[-1]:\n",
    "        b += ans[-1]\n",
    "    elif len(ans) == 1:\n",
    "        b += ans[-1]\n",
    "        break\n",
    "    if ans == b or len(ans) == 0:\n",
    "        break\n",
    "    ans = b\n",
    "    if len(ans) < 2:\n",
    "        break\n",
    "#     print(ans)"
   ]
  },
  {
   "cell_type": "code",
   "execution_count": 90,
   "metadata": {},
   "outputs": [
    {
     "name": "stdout",
     "output_type": "stream",
     "text": [
      "zone\n"
     ]
    }
   ],
   "source": [
    "print(ans)"
   ]
  },
  {
   "cell_type": "code",
   "execution_count": 74,
   "metadata": {},
   "outputs": [
    {
     "data": {
      "text/plain": [
       "('s', 0)"
      ]
     },
     "execution_count": 74,
     "metadata": {},
     "output_type": "execute_result"
    }
   ],
   "source": [
    "T, len(ans)"
   ]
  },
  {
   "cell_type": "code",
   "execution_count": 47,
   "metadata": {},
   "outputs": [],
   "source": [
    "T = ''\n",
    "for s  in S:\n",
    "    if s == 'R':\n",
    "        T = T[::-1]\n",
    "        continue\n",
    "    T += s"
   ]
  },
  {
   "cell_type": "code",
   "execution_count": null,
   "metadata": {},
   "outputs": [],
   "source": []
  }
 ],
 "metadata": {
  "kernelspec": {
   "display_name": "Python 3",
   "language": "python",
   "name": "python3"
  },
  "language_info": {
   "codemirror_mode": {
    "name": "ipython",
    "version": 3
   },
   "file_extension": ".py",
   "mimetype": "text/x-python",
   "name": "python",
   "nbconvert_exporter": "python",
   "pygments_lexer": "ipython3",
   "version": "3.6.10"
  }
 },
 "nbformat": 4,
 "nbformat_minor": 4
}
