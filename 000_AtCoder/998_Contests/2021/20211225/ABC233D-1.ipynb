{
 "cells": [
  {
   "cell_type": "code",
   "execution_count": null,
   "id": "378bed7d-eb13-4725-be10-8790974228f6",
   "metadata": {},
   "outputs": [],
   "source": [
    "# WA, TLE"
   ]
  },
  {
   "cell_type": "code",
   "execution_count": 2,
   "id": "23ce712f-a201-4232-9c3c-f1303157f72d",
   "metadata": {},
   "outputs": [],
   "source": [
    "import sys\n",
    "import numpy as np\n",
    "import math\n",
    "import collections\n",
    "import copy\n",
    "import decimal\n",
    "import itertools\n",
    "import re\n",
    "import bisect\n",
    "import scipy\n",
    "import heapq\n",
    "import array\n",
    "from collections import deque\n",
    "from functools import reduce\n",
    "from itertools import product\n",
    "from itertools import combinations\n",
    "from itertools import chain\n",
    "from functools import lru_cache\n",
    "from scipy.special import comb\n",
    "from numba import njit\n",
    "from bisect import bisect_right\n",
    "from bisect import bisect_left"
   ]
  },
  {
   "cell_type": "code",
   "execution_count": 29,
   "id": "59bc7b49-186c-4e2f-851c-1716b733fce7",
   "metadata": {},
   "outputs": [
    {
     "name": "stdin",
     "output_type": "stream",
     "text": [
      " 6 5\n"
     ]
    }
   ],
   "source": [
    "N, K = map(int, input().split())"
   ]
  },
  {
   "cell_type": "code",
   "execution_count": 30,
   "id": "31d9b467-4942-48b3-b0ad-d2141c5d74ec",
   "metadata": {},
   "outputs": [
    {
     "name": "stdin",
     "output_type": "stream",
     "text": [
      " 8 -3 5 7 0 -4\n"
     ]
    }
   ],
   "source": [
    "An = list(map(int, input().split()))"
   ]
  },
  {
   "cell_type": "code",
   "execution_count": 31,
   "id": "e985d820-b36a-4f82-87ae-92abd7550af0",
   "metadata": {},
   "outputs": [],
   "source": [
    "An_sum = [0, ]\n",
    "for A in An:\n",
    "    An_sum.append(An_sum[-1]+A)"
   ]
  },
  {
   "cell_type": "code",
   "execution_count": 34,
   "id": "7f653f46-eaa9-4534-ad4a-fa3b944a021a",
   "metadata": {},
   "outputs": [],
   "source": [
    "ans = 0\n",
    "for l in range(1, N):\n",
    "    for r in range(l, N+1):\n",
    "        if An_sum[r] - An_sum[l-1] == K:\n",
    "            ans += 1\n",
    "        "
   ]
  },
  {
   "cell_type": "code",
   "execution_count": 35,
   "id": "a6b17fe2-4567-49a3-b4aa-78b73b96b549",
   "metadata": {},
   "outputs": [
    {
     "name": "stdout",
     "output_type": "stream",
     "text": [
      "3\n"
     ]
    }
   ],
   "source": [
    "print(ans)"
   ]
  },
  {
   "cell_type": "code",
   "execution_count": 13,
   "id": "92cc2408-e8b4-4190-a9f1-08547c679e99",
   "metadata": {},
   "outputs": [
    {
     "data": {
      "text/plain": [
       "[0, 8, 5, 10, 17, 17, 13]"
      ]
     },
     "execution_count": 13,
     "metadata": {},
     "output_type": "execute_result"
    }
   ],
   "source": [
    "An_sum"
   ]
  },
  {
   "cell_type": "code",
   "execution_count": null,
   "id": "f27e4f16-7bf4-4177-8631-d228044a968b",
   "metadata": {},
   "outputs": [],
   "source": []
  }
 ],
 "metadata": {
  "kernelspec": {
   "display_name": "Python 3",
   "language": "python",
   "name": "python3"
  },
  "language_info": {
   "codemirror_mode": {
    "name": "ipython",
    "version": 3
   },
   "file_extension": ".py",
   "mimetype": "text/x-python",
   "name": "python",
   "nbconvert_exporter": "python",
   "pygments_lexer": "ipython3",
   "version": "3.6.13"
  }
 },
 "nbformat": 4,
 "nbformat_minor": 5
}
