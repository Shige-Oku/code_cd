{
 "cells": [
  {
   "cell_type": "code",
   "execution_count": 1,
   "id": "9acb2380-f06e-4425-873e-383522d99915",
   "metadata": {},
   "outputs": [],
   "source": [
    "import numpy as np\n",
    "import math\n",
    "import collections\n",
    "import copy\n",
    "import decimal\n",
    "import itertools\n",
    "import re\n",
    "import bisect\n",
    "import scipy\n",
    "import heapq\n",
    "import array\n",
    "from collections import deque\n",
    "from functools import reduce\n",
    "from itertools import product\n",
    "from itertools import combinations\n",
    "from itertools import chain\n",
    "from functools import lru_cache\n",
    "from scipy.special import comb\n",
    "from numba import njit\n",
    "from bisect import bisect_right\n",
    "from bisect import bisect_left"
   ]
  },
  {
   "cell_type": "code",
   "execution_count": 2,
   "id": "7b712a4f-8551-4958-98d2-7208adc00b1b",
   "metadata": {},
   "outputs": [
    {
     "name": "stdin",
     "output_type": "stream",
     "text": [
      " 7 14\n"
     ]
    }
   ],
   "source": [
    "N, Q = map(int, input().split())"
   ]
  },
  {
   "cell_type": "code",
   "execution_count": 3,
   "id": "eb5f7f6c-95df-47e8-ac97-0ad974005575",
   "metadata": {},
   "outputs": [
    {
     "name": "stdin",
     "output_type": "stream",
     "text": [
      " 1 6 3\n",
      " 1 4 1\n",
      " 1 5 2\n",
      " 1 2 7\n",
      " 1 3 5\n",
      " 3 2\n",
      " 3 4\n",
      " 3 6\n",
      " 2 3 5\n",
      " 2 4 1\n",
      " 1 1 5\n",
      " 3 2\n",
      " 3 4\n",
      " 3 6\n"
     ]
    }
   ],
   "source": [
    "Qn = [list(map(int, input().split())) for _ in range(Q)]"
   ]
  },
  {
   "cell_type": "code",
   "execution_count": 22,
   "id": "40b6be3c-6bf1-4096-b3dd-879bc24719dd",
   "metadata": {},
   "outputs": [],
   "source": [
    "def getTrain(n):\n",
    "    p = n\n",
    "    while True:\n",
    "        if st[p][0] == -1:\n",
    "            break\n",
    "        p = st[p][0]\n",
    "    train = []\n",
    "    while True:\n",
    "        train.append(p)\n",
    "        if st[p][1] == 10**10:\n",
    "            break\n",
    "        p = st[p][1]\n",
    "    return train"
   ]
  },
  {
   "cell_type": "code",
   "execution_count": 33,
   "id": "cf40090b-7ccf-4156-93db-13d261b0566f",
   "metadata": {},
   "outputs": [
    {
     "name": "stdout",
     "output_type": "stream",
     "text": [
      "5 6 3 5 2 7\n",
      "2 4 1\n",
      "5 6 3 5 2 7\n",
      "4 1 5 2 7\n",
      "1 4\n",
      "2 6 3\n"
     ]
    }
   ],
   "source": [
    "st = []\n",
    "for _ in range(N+1):\n",
    "    st.append([-1, 10**10])\n",
    "for q in Qn:\n",
    "    if q[0] == 1:\n",
    "        s, e = q[1:]\n",
    "        st[s][1] = e\n",
    "        st[e][0] = s\n",
    "    elif q[0] == 2:\n",
    "        s, e = q[1:]\n",
    "        st[s][1] = 10**10\n",
    "        st[e][0] = -1\n",
    "    else:\n",
    "        p = getTrain(q[1])\n",
    "        print(len(p), end=' ')\n",
    "        print(*p)"
   ]
  },
  {
   "cell_type": "code",
   "execution_count": 12,
   "id": "8c159453-3512-4ec2-b9d8-a3fd9ab31c09",
   "metadata": {},
   "outputs": [
    {
     "data": {
      "text/plain": [
       "[1, 6, 3]"
      ]
     },
     "execution_count": 12,
     "metadata": {},
     "output_type": "execute_result"
    }
   ],
   "source": [
    "q"
   ]
  },
  {
   "cell_type": "code",
   "execution_count": 30,
   "id": "ba6fd404-81a1-4421-bccc-aed6407afc47",
   "metadata": {},
   "outputs": [
    {
     "data": {
      "text/plain": [
       "[[-1, 10000000000],\n",
       " [4, 5],\n",
       " [5, 7],\n",
       " [6, 10000000000],\n",
       " [-1, 1],\n",
       " [1, 2],\n",
       " [-1, 3],\n",
       " [2, 10000000000]]"
      ]
     },
     "execution_count": 30,
     "metadata": {},
     "output_type": "execute_result"
    }
   ],
   "source": [
    "st"
   ]
  },
  {
   "cell_type": "code",
   "execution_count": 15,
   "id": "e4ef4c56-263c-4dfc-8389-444832fc4f7d",
   "metadata": {},
   "outputs": [
    {
     "ename": "IndexError",
     "evalue": "list index out of range",
     "output_type": "error",
     "traceback": [
      "\u001b[1;31m---------------------------------------------------------------------------\u001b[0m",
      "\u001b[1;31mIndexError\u001b[0m                                Traceback (most recent call last)",
      "\u001b[1;32m<ipython-input-15-2f3ee520a202>\u001b[0m in \u001b[0;36m<module>\u001b[1;34m\u001b[0m\n\u001b[1;32m----> 1\u001b[1;33m \u001b[0mst\u001b[0m\u001b[1;33m[\u001b[0m\u001b[1;36m6\u001b[0m\u001b[1;33m]\u001b[0m\u001b[1;33m[\u001b[0m\u001b[1;36m1\u001b[0m\u001b[1;33m]\u001b[0m\u001b[1;33m\u001b[0m\u001b[1;33m\u001b[0m\u001b[0m\n\u001b[0m",
      "\u001b[1;31mIndexError\u001b[0m: list index out of range"
     ]
    }
   ],
   "source": [
    "st[6][1]"
   ]
  },
  {
   "cell_type": "code",
   "execution_count": null,
   "id": "357abeb1-9ca0-440b-aa43-c57aa368efdc",
   "metadata": {},
   "outputs": [],
   "source": []
  }
 ],
 "metadata": {
  "kernelspec": {
   "display_name": "Python 3",
   "language": "python",
   "name": "python3"
  },
  "language_info": {
   "codemirror_mode": {
    "name": "ipython",
    "version": 3
   },
   "file_extension": ".py",
   "mimetype": "text/x-python",
   "name": "python",
   "nbconvert_exporter": "python",
   "pygments_lexer": "ipython3",
   "version": "3.6.13"
  }
 },
 "nbformat": 4,
 "nbformat_minor": 5
}
