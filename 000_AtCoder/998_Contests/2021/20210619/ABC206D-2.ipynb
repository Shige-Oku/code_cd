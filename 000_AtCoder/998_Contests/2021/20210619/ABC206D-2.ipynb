{
 "cells": [
  {
   "cell_type": "code",
   "execution_count": 1,
   "id": "cb5767a7-4e9f-4b17-872d-2a57419145df",
   "metadata": {},
   "outputs": [],
   "source": [
    "import sys\n",
    "import numpy as np\n",
    "import math\n",
    "import collections\n",
    "import copy\n",
    "import decimal\n",
    "import itertools\n",
    "import re\n",
    "import bisect\n",
    "import scipy\n",
    "import heapq\n",
    "from collections import deque \n",
    "from functools import reduce\n",
    "from itertools import product\n",
    "from itertools import combinations\n",
    "from itertools import chain\n",
    "from functools import lru_cache\n",
    "from scipy.special import comb\n",
    "from numba import njit\n",
    "from bisect import bisect_right\n",
    "from bisect import bisect_left"
   ]
  },
  {
   "cell_type": "code",
   "execution_count": 23,
   "id": "56349836-3147-468a-af10-c5af22570117",
   "metadata": {},
   "outputs": [
    {
     "name": "stdin",
     "output_type": "stream",
     "text": [
      " 1\n"
     ]
    }
   ],
   "source": [
    "N = int(input())"
   ]
  },
  {
   "cell_type": "code",
   "execution_count": 24,
   "id": "567c2b37-9702-4eba-aa46-82afba9bbd1f",
   "metadata": {},
   "outputs": [
    {
     "name": "stdin",
     "output_type": "stream",
     "text": [
      " 200000\n"
     ]
    }
   ],
   "source": [
    "An = list(map(int, input().split()))"
   ]
  },
  {
   "cell_type": "code",
   "execution_count": 25,
   "id": "3dad50e8-2db0-4180-8ab9-0a1cce13a576",
   "metadata": {},
   "outputs": [],
   "source": [
    "graph = [set() for _ in range(N+1)]\n",
    "for i in range(N//2):\n",
    "    if An[i] == An[N-i-1]:\n",
    "        continue\n",
    "    graph[An[i]].add(An[N-i-1])\n",
    "    graph[An[N-i-1]].add(An[i])"
   ]
  },
  {
   "cell_type": "code",
   "execution_count": 29,
   "id": "32d3b3e2-d86e-4c70-9e97-4edcb25f8a36",
   "metadata": {},
   "outputs": [],
   "source": [
    "def BFS(n):\n",
    "    if len(graph[n]) == 0:\n",
    "        return 0\n",
    "    ret = 0\n",
    "    q = deque()\n",
    "    q.append(i)\n",
    "    while q:\n",
    "        p = q.popleft()\n",
    "        if visit[p]:\n",
    "            continue\n",
    "        visit[p] = True\n",
    "        ret += 1\n",
    "        for g in graph[n]:\n",
    "            if visit[g]:\n",
    "                continue\n",
    "            q.append(g)\n",
    "    return ret-1"
   ]
  },
  {
   "cell_type": "code",
   "execution_count": 30,
   "id": "a0857f94-32f4-48de-8fd0-8c4c81aff50c",
   "metadata": {},
   "outputs": [],
   "source": [
    "visit = [False] * (N+1)\n",
    "ans = 0\n",
    "for i in range(N+1):\n",
    "    if visit[i]:\n",
    "        continue\n",
    "    ans += BFS(i)"
   ]
  },
  {
   "cell_type": "code",
   "execution_count": 31,
   "id": "a65244e1-695b-44ff-adc0-912c0015b636",
   "metadata": {},
   "outputs": [
    {
     "name": "stdout",
     "output_type": "stream",
     "text": [
      "0\n"
     ]
    }
   ],
   "source": [
    "print(ans)"
   ]
  },
  {
   "cell_type": "code",
   "execution_count": 8,
   "id": "0eec902a-27cb-4a5e-8054-0844a6e1ee70",
   "metadata": {},
   "outputs": [
    {
     "data": {
      "text/plain": [
       "[set(), set(), {3, 5}, {2, 5}, set(), {2, 3}, set(), set(), set()]"
      ]
     },
     "execution_count": 8,
     "metadata": {},
     "output_type": "execute_result"
    }
   ],
   "source": [
    "graph"
   ]
  },
  {
   "cell_type": "code",
   "execution_count": 9,
   "id": "89fc8934-afaf-4712-bcef-52729844ea81",
   "metadata": {},
   "outputs": [
    {
     "data": {
      "text/plain": [
       "0"
      ]
     },
     "execution_count": 9,
     "metadata": {},
     "output_type": "execute_result"
    }
   ],
   "source": [
    "len(graph[0])"
   ]
  },
  {
   "cell_type": "code",
   "execution_count": null,
   "id": "8f72f145-cb98-458c-98ec-e4e99e0be82e",
   "metadata": {},
   "outputs": [],
   "source": []
  }
 ],
 "metadata": {
  "kernelspec": {
   "display_name": "Python 3",
   "language": "python",
   "name": "python3"
  },
  "language_info": {
   "codemirror_mode": {
    "name": "ipython",
    "version": 3
   },
   "file_extension": ".py",
   "mimetype": "text/x-python",
   "name": "python",
   "nbconvert_exporter": "python",
   "pygments_lexer": "ipython3",
   "version": "3.6.13"
  }
 },
 "nbformat": 4,
 "nbformat_minor": 5
}
