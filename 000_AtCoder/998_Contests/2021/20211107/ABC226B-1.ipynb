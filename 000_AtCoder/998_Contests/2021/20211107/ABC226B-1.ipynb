{
 "cells": [
  {
   "cell_type": "code",
   "execution_count": 1,
   "id": "4f963bab-3a16-461e-9722-0144083fdc4b",
   "metadata": {},
   "outputs": [],
   "source": [
    "import numpy as np\n",
    "import math\n",
    "import collections\n",
    "import copy\n",
    "import decimal\n",
    "import itertools\n",
    "import re\n",
    "import bisect\n",
    "import scipy\n",
    "import heapq\n",
    "import array\n",
    "from collections import deque\n",
    "from functools import reduce\n",
    "from itertools import product\n",
    "from itertools import combinations\n",
    "from itertools import chain\n",
    "from functools import lru_cache\n",
    "from scipy.special import comb\n",
    "from numba import njit\n",
    "from bisect import bisect_right\n",
    "from bisect import bisect_left"
   ]
  },
  {
   "cell_type": "code",
   "execution_count": 2,
   "id": "b49bcd27-b0ab-405e-99e0-b465db7e57a0",
   "metadata": {},
   "outputs": [
    {
     "name": "stdin",
     "output_type": "stream",
     "text": [
      " 4\n"
     ]
    }
   ],
   "source": [
    "N = int(input())"
   ]
  },
  {
   "cell_type": "code",
   "execution_count": 10,
   "id": "5b87d629-6bb6-4ede-bb00-4facf88c9c8e",
   "metadata": {},
   "outputs": [
    {
     "name": "stdin",
     "output_type": "stream",
     "text": [
      " 2 1 2\n",
      " 2 1 1 \n",
      " 2 2 1\n",
      " 2 1 2\n"
     ]
    }
   ],
   "source": [
    "LAn = [list(map(int, input().split())) for _ in range(N)]"
   ]
  },
  {
   "cell_type": "code",
   "execution_count": 12,
   "id": "887c250e-7ab6-4880-8d89-232f09b30ddb",
   "metadata": {},
   "outputs": [],
   "source": [
    "la = set()\n",
    "for LA in LAn:\n",
    "    la.add(tuple(LA))"
   ]
  },
  {
   "cell_type": "code",
   "execution_count": 14,
   "id": "f448708d-e68f-4bc5-989f-4762b48ed164",
   "metadata": {},
   "outputs": [
    {
     "name": "stdout",
     "output_type": "stream",
     "text": [
      "3\n"
     ]
    }
   ],
   "source": [
    "print(len(la))"
   ]
  },
  {
   "cell_type": "code",
   "execution_count": 5,
   "id": "2fec5264-e793-4d24-9a5a-b65a58a44fb8",
   "metadata": {},
   "outputs": [
    {
     "data": {
      "text/plain": [
       "[[2, 1, 2], [2, 1, 1], [2, 2, 1], [2, 1, 2]]"
      ]
     },
     "execution_count": 5,
     "metadata": {},
     "output_type": "execute_result"
    }
   ],
   "source": [
    "LAn"
   ]
  },
  {
   "cell_type": "code",
   "execution_count": null,
   "id": "ac370b7a-5b95-43e2-8938-45bd786eb2f7",
   "metadata": {},
   "outputs": [],
   "source": []
  }
 ],
 "metadata": {
  "kernelspec": {
   "display_name": "Python 3",
   "language": "python",
   "name": "python3"
  },
  "language_info": {
   "codemirror_mode": {
    "name": "ipython",
    "version": 3
   },
   "file_extension": ".py",
   "mimetype": "text/x-python",
   "name": "python",
   "nbconvert_exporter": "python",
   "pygments_lexer": "ipython3",
   "version": "3.6.13"
  }
 },
 "nbformat": 4,
 "nbformat_minor": 5
}
