{
 "cells": [
  {
   "cell_type": "code",
   "execution_count": 1,
   "id": "04361260-0c06-4213-8adf-6975f4983f8f",
   "metadata": {},
   "outputs": [],
   "source": [
    "import numpy as np\n",
    "import math\n",
    "import collections\n",
    "import copy\n",
    "import decimal\n",
    "import itertools\n",
    "import re\n",
    "import bisect\n",
    "import scipy\n",
    "import heapq\n",
    "import array\n",
    "from collections import deque\n",
    "from functools import reduce\n",
    "from itertools import product\n",
    "from itertools import combinations\n",
    "from itertools import chain\n",
    "from functools import lru_cache\n",
    "from scipy.special import comb\n",
    "from numba import njit\n",
    "from bisect import bisect_right\n",
    "from bisect import bisect_left"
   ]
  },
  {
   "cell_type": "code",
   "execution_count": 30,
   "id": "0589aad7-ed7c-41db-9f76-c5cce48b5bd3",
   "metadata": {},
   "outputs": [
    {
     "name": "stdin",
     "output_type": "stream",
     "text": [
      " 4\n"
     ]
    }
   ],
   "source": [
    "N = int(input())"
   ]
  },
  {
   "cell_type": "code",
   "execution_count": 31,
   "id": "9a61d3a7-2b9e-4c0d-ae12-2197ed6aa6c0",
   "metadata": {},
   "outputs": [
    {
     "name": "stdin",
     "output_type": "stream",
     "text": [
      " 0 0\n",
      " 0 1000000000\n",
      " 1000000000 0\n",
      " 1000000000 1000000000\n"
     ]
    }
   ],
   "source": [
    "XYn = [list(map(int, input().split())) for _ in range(N)]"
   ]
  },
  {
   "cell_type": "code",
   "execution_count": 44,
   "id": "a3542944-ad5a-4eef-8e95-7ba624dbd7c5",
   "metadata": {},
   "outputs": [],
   "source": [
    "ans = set()\n",
    "fx = False\n",
    "fy = False\n",
    "for i in range(N-1):\n",
    "    x1, y1 = XYn[i]\n",
    "    for j in range(i+1, N):\n",
    "        x2, y2 = XYn[j]\n",
    "        a = x1 - x2\n",
    "        b = y1 - y2\n",
    "        l = math.gcd(a, b)\n",
    "        ans.add((a//l, b//l))\n",
    "        ans.add((-a//l, -b//l))"
   ]
  },
  {
   "cell_type": "code",
   "execution_count": 45,
   "id": "1cb0b5d0-9477-41ab-858e-eee4f61a3d31",
   "metadata": {},
   "outputs": [
    {
     "name": "stdout",
     "output_type": "stream",
     "text": [
      "8\n"
     ]
    }
   ],
   "source": [
    "print(len(ans))"
   ]
  },
  {
   "cell_type": "code",
   "execution_count": 39,
   "id": "544110b4-ffd2-4548-ab43-9e846d1e8664",
   "metadata": {},
   "outputs": [
    {
     "name": "stdout",
     "output_type": "stream",
     "text": [
      "6\n"
     ]
    }
   ],
   "source": [
    "kasan = 0\n",
    "if fx:\n",
    "    kasan += 2\n",
    "if fy:\n",
    "    kasan += 2\n",
    "print(len(ans)+kasan)\n",
    "    "
   ]
  },
  {
   "cell_type": "code",
   "execution_count": 40,
   "id": "0eb9fffe-3873-4732-b51b-f8e8c3e8c009",
   "metadata": {},
   "outputs": [
    {
     "data": {
      "text/plain": [
       "{-1.0, 1.0}"
      ]
     },
     "execution_count": 40,
     "metadata": {},
     "output_type": "execute_result"
    }
   ],
   "source": [
    "ans"
   ]
  },
  {
   "cell_type": "code",
   "execution_count": 42,
   "id": "0bad82b9-2066-4733-a11d-6025ae964afd",
   "metadata": {},
   "outputs": [
    {
     "data": {
      "text/plain": [
       "3"
      ]
     },
     "execution_count": 42,
     "metadata": {},
     "output_type": "execute_result"
    }
   ],
   "source": [
    "math.gcd(6, 3 )"
   ]
  },
  {
   "cell_type": "code",
   "execution_count": 38,
   "id": "b82b35ef-8929-45ed-9f1f-f01200a03a9f",
   "metadata": {},
   "outputs": [],
   "source": [
    "ans = set()\n",
    "fx = False\n",
    "fy = False\n",
    "for i in range(N-1):\n",
    "    x1, y1 = XYn[i]\n",
    "    for j in range(i+1, N):\n",
    "        x2, y2 = XYn[j]\n",
    "        if x1 == x2:\n",
    "            fx = True\n",
    "        if y1 == y2:\n",
    "            fy = True\n",
    "        if x1 == x2 or y1 == y2:\n",
    "            continue\n",
    "        a = (y1 - y2) / (x1 - x2)\n",
    "        ans.add(a)\n",
    "        ans.add(-a)"
   ]
  }
 ],
 "metadata": {
  "kernelspec": {
   "display_name": "Python 3",
   "language": "python",
   "name": "python3"
  },
  "language_info": {
   "codemirror_mode": {
    "name": "ipython",
    "version": 3
   },
   "file_extension": ".py",
   "mimetype": "text/x-python",
   "name": "python",
   "nbconvert_exporter": "python",
   "pygments_lexer": "ipython3",
   "version": "3.6.13"
  }
 },
 "nbformat": 4,
 "nbformat_minor": 5
}
