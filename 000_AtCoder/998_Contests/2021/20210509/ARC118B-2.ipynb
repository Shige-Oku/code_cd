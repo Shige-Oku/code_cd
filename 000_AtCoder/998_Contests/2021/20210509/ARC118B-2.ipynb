{
 "cells": [
  {
   "cell_type": "code",
   "execution_count": 1,
   "metadata": {},
   "outputs": [],
   "source": [
    "import sys\n",
    "import numpy as np\n",
    "import math\n",
    "import collections\n",
    "import copy\n",
    "import decimal\n",
    "import itertools\n",
    "import re\n",
    "import bisect\n",
    "import scipy\n",
    "import heapq\n",
    "from collections import deque \n",
    "from functools import reduce\n",
    "from itertools import product\n",
    "from itertools import combinations\n",
    "from functools import lru_cache\n",
    "from scipy.special import comb\n",
    "from numba import njit\n",
    "from bisect import bisect_right\n",
    "from bisect import bisect_left"
   ]
  },
  {
   "cell_type": "code",
   "execution_count": 2,
   "metadata": {},
   "outputs": [
    {
     "name": "stdin",
     "output_type": "stream",
     "text": [
      " 3 7 20\n"
     ]
    }
   ],
   "source": [
    "K, N, M = map(int, input().split())"
   ]
  },
  {
   "cell_type": "code",
   "execution_count": 3,
   "metadata": {},
   "outputs": [
    {
     "name": "stdin",
     "output_type": "stream",
     "text": [
      " 1 2 4\n"
     ]
    }
   ],
   "source": [
    "An = list(map(int, input().split()))"
   ]
  },
  {
   "cell_type": "code",
   "execution_count": 27,
   "metadata": {},
   "outputs": [],
   "source": [
    "An_t = sum(An)\n",
    "Bn = []\n",
    "for A in An:\n",
    "    Bn.append(M*A/An_t)\n",
    "Cn = []\n",
    "total = 0\n",
    "for i, B in enumerate(Bn):\n",
    "    Cn.append((B%1, B//1, i))\n",
    "    total += B//1\n",
    "Cn_s = sorted(Cn, reverse=True)\n",
    "ans = []\n",
    "f = M - total\n",
    "for _, v, i in Cn_s:\n",
    "    if f > 0:\n",
    "        ans.append((i, v+1))\n",
    "        f -= 1\n",
    "    else:\n",
    "        ans.append((i, v))"
   ]
  },
  {
   "cell_type": "code",
   "execution_count": 28,
   "metadata": {},
   "outputs": [
    {
     "name": "stdout",
     "output_type": "stream",
     "text": [
      "3 6 11 "
     ]
    }
   ],
   "source": [
    "ans_s = sorted(ans)\n",
    "for _, a in ans_s:\n",
    "    print(int(a), end=' ')"
   ]
  },
  {
   "cell_type": "code",
   "execution_count": 25,
   "metadata": {},
   "outputs": [
    {
     "data": {
      "text/plain": [
       "(0.10000000000000009,\n",
       " 7,\n",
       " [2.857142857142857, 5.714285714285714, 11.428571428571429],\n",
       " [(0.8571428571428572, 2.0, 0),\n",
       "  (0.7142857142857144, 5.0, 1),\n",
       "  (0.4285714285714288, 11.0, 2)],\n",
       " [(0.8571428571428572, 2.0, 0),\n",
       "  (0.7142857142857144, 5.0, 1),\n",
       "  (0.4285714285714288, 11.0, 2)],\n",
       " [(0, 3.0), (1, 6.0), (2, 11.0)])"
      ]
     },
     "execution_count": 25,
     "metadata": {},
     "output_type": "execute_result"
    }
   ],
   "source": [
    "1.1 % 1, An_t, Bn, Cn, Cn_s, ans"
   ]
  },
  {
   "cell_type": "code",
   "execution_count": 23,
   "metadata": {},
   "outputs": [
    {
     "data": {
      "text/plain": [
       "[(0, 3.0), (1, 6.0), (2, 12.0)]"
      ]
     },
     "execution_count": 23,
     "metadata": {},
     "output_type": "execute_result"
    }
   ],
   "source": [
    "ans"
   ]
  },
  {
   "cell_type": "code",
   "execution_count": 7,
   "metadata": {},
   "outputs": [
    {
     "data": {
      "text/plain": [
       "(2.857142857142857, 5.714285714285714, 11.428571428571429)"
      ]
     },
     "execution_count": 7,
     "metadata": {},
     "output_type": "execute_result"
    }
   ],
   "source": [
    "20/7*1, 20/7*2, 20/7*4"
   ]
  },
  {
   "cell_type": "code",
   "execution_count": null,
   "metadata": {},
   "outputs": [],
   "source": []
  }
 ],
 "metadata": {
  "kernelspec": {
   "display_name": "Python 3",
   "language": "python",
   "name": "python3"
  },
  "language_info": {
   "codemirror_mode": {
    "name": "ipython",
    "version": 3
   },
   "file_extension": ".py",
   "mimetype": "text/x-python",
   "name": "python",
   "nbconvert_exporter": "python",
   "pygments_lexer": "ipython3",
   "version": "3.6.10"
  }
 },
 "nbformat": 4,
 "nbformat_minor": 4
}
