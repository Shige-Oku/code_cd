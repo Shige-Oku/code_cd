{
 "cells": [
  {
   "cell_type": "code",
   "execution_count": null,
   "metadata": {},
   "outputs": [],
   "source": [
    "# サンプルが合わない => 終わってから AC"
   ]
  },
  {
   "cell_type": "code",
   "execution_count": 1,
   "metadata": {},
   "outputs": [],
   "source": [
    "import sys\n",
    "import numpy as np\n",
    "import math\n",
    "import collections\n",
    "import copy\n",
    "import decimal\n",
    "import itertools\n",
    "import re\n",
    "import bisect\n",
    "import scipy\n",
    "from collections import deque \n",
    "from functools import reduce\n",
    "from itertools import product\n",
    "from itertools import combinations\n",
    "from functools import lru_cache\n",
    "from scipy.special import comb\n",
    "from numba import njit\n",
    "from bisect import bisect_right\n",
    "from bisect import bisect_left\n"
   ]
  },
  {
   "cell_type": "code",
   "execution_count": 2,
   "metadata": {},
   "outputs": [
    {
     "name": "stdin",
     "output_type": "stream",
     "text": [
      " 100000\n"
     ]
    }
   ],
   "source": [
    "K = int(input())"
   ]
  },
  {
   "cell_type": "code",
   "execution_count": 3,
   "metadata": {},
   "outputs": [
    {
     "name": "stdin",
     "output_type": "stream",
     "text": [
      " 3226#\n"
     ]
    }
   ],
   "source": [
    "S = input()"
   ]
  },
  {
   "cell_type": "code",
   "execution_count": 7,
   "metadata": {},
   "outputs": [
    {
     "name": "stdin",
     "output_type": "stream",
     "text": [
      " 3597#\n"
     ]
    }
   ],
   "source": [
    "T = input()"
   ]
  },
  {
   "cell_type": "code",
   "execution_count": 8,
   "metadata": {},
   "outputs": [],
   "source": [
    "# cr = np.full(9, K)\n",
    "# tc = np.zeros(9)\n",
    "# ac = np.zeros(9)\n",
    "cr = [K for _ in range(9)]\n",
    "tc = [0 for _ in range(9)]\n",
    "ac = [0 for _ in range(9)]\n",
    "for s in S[:-1]:\n",
    "    cr[int(s)-1] -= 1\n",
    "    tc[int(s)-1] += 1\n",
    "for s in T[:-1]:\n",
    "    cr[int(s)-1] -= 1\n",
    "    ac[int(s)-1] += 1\n",
    "    "
   ]
  },
  {
   "cell_type": "code",
   "execution_count": 9,
   "metadata": {},
   "outputs": [],
   "source": [
    "cm = 0\n",
    "for i in range(1, 10):\n",
    "    if cr[i-1] == 0:\n",
    "        continue\n",
    "    cr[i-1] -= 1\n",
    "    tc[i-1] += 1\n",
    "    tt = 0\n",
    "    for idx in range(1, 10):\n",
    "        tt += idx * (10**tc[idx-1])\n",
    "#     print(\"tt = {0}\".format(tt))\n",
    "    for j in range(1, 10):\n",
    "        if cr[j-1] == 0:\n",
    "            continue\n",
    "        cr[j-1] -= 1\n",
    "        ac[j-1] += 1\n",
    "        at = 0\n",
    "        for idx in range(1, 10):\n",
    "            at += idx * (10**ac[idx-1])\n",
    "#         print(\"at={0}\".format(at))\n",
    "        if tt > at:\n",
    "            cm += (cr[i-1]+1) * (cr[j-1]+1)\n",
    "            if i == j:\n",
    "                cm += (cr[j-1]+1)\n",
    "        cr[j-1] += 1\n",
    "        ac[j-1] -= 1\n",
    "    cr[i-1] += 1\n",
    "    tc[i-1] -= 1\n",
    "#     print(\"cm={0}\".format(cm))"
   ]
  },
  {
   "cell_type": "code",
   "execution_count": 10,
   "metadata": {},
   "outputs": [
    {
     "name": "stdout",
     "output_type": "stream",
     "text": [
      "0.6296297942426156\n"
     ]
    }
   ],
   "source": [
    "print(cm/((K*9-8)*(K*9-9)))"
   ]
  },
  {
   "cell_type": "code",
   "execution_count": 11,
   "metadata": {},
   "outputs": [
    {
     "data": {
      "text/plain": [
       "([100000, 99998, 99998, 100000, 99999, 99999, 99999, 100000, 99999],\n",
       " [0, 2, 1, 0, 0, 1, 0, 0, 0],\n",
       " [0, 0, 1, 0, 1, 0, 1, 0, 1])"
      ]
     },
     "execution_count": 11,
     "metadata": {},
     "output_type": "execute_result"
    }
   ],
   "source": [
    "cr, tc, ac"
   ]
  },
  {
   "cell_type": "code",
   "execution_count": 12,
   "metadata": {},
   "outputs": [
    {
     "data": {
      "text/plain": [
       "(509990500046, 809984700072)"
      ]
     },
     "execution_count": 12,
     "metadata": {},
     "output_type": "execute_result"
    }
   ],
   "source": [
    "cm, ((K*9-8)*(K*9-9))"
   ]
  },
  {
   "cell_type": "code",
   "execution_count": 8,
   "metadata": {},
   "outputs": [
    {
     "data": {
      "text/plain": [
       "(0.0005120327700972862, 15624, 3906.0)"
      ]
     },
     "execution_count": 8,
     "metadata": {},
     "output_type": "execute_result"
    }
   ],
   "source": [
    "8/(5**6-1), 5**6-1, (5**6-1)/4"
   ]
  },
  {
   "cell_type": "code",
   "execution_count": 15,
   "metadata": {},
   "outputs": [
    {
     "data": {
      "text/plain": [
       "0.001932367149758454"
      ]
     },
     "execution_count": 15,
     "metadata": {},
     "output_type": "execute_result"
    }
   ],
   "source": [
    "4/(46*45)"
   ]
  },
  {
   "cell_type": "code",
   "execution_count": 16,
   "metadata": {},
   "outputs": [
    {
     "data": {
      "text/plain": [
       "9999899992"
      ]
     },
     "execution_count": 16,
     "metadata": {},
     "output_type": "execute_result"
    }
   ],
   "source": [
    "((10**5)*(10**5-1)-8)"
   ]
  },
  {
   "cell_type": "code",
   "execution_count": null,
   "metadata": {},
   "outputs": [],
   "source": []
  }
 ],
 "metadata": {
  "kernelspec": {
   "display_name": "Python 3",
   "language": "python",
   "name": "python3"
  },
  "language_info": {
   "codemirror_mode": {
    "name": "ipython",
    "version": 3
   },
   "file_extension": ".py",
   "mimetype": "text/x-python",
   "name": "python",
   "nbconvert_exporter": "python",
   "pygments_lexer": "ipython3",
   "version": "3.6.10"
  }
 },
 "nbformat": 4,
 "nbformat_minor": 4
}
