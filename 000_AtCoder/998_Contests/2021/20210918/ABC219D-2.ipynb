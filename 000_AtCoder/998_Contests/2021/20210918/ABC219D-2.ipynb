{
 "cells": [
  {
   "cell_type": "code",
   "execution_count": null,
   "id": "84f7107d-9b70-4421-bf00-57e4eecc9a7d",
   "metadata": {},
   "outputs": [],
   "source": [
    "# 解説を読んで実装"
   ]
  },
  {
   "cell_type": "code",
   "execution_count": 1,
   "id": "133c72ac-dd3b-4d4c-80e9-d095bc339cfb",
   "metadata": {},
   "outputs": [],
   "source": [
    "import numpy as np\n",
    "import math\n",
    "import collections\n",
    "import copy\n",
    "import decimal\n",
    "import itertools\n",
    "import re\n",
    "import bisect\n",
    "import scipy\n",
    "import heapq\n",
    "import array\n",
    "from collections import deque \n",
    "from functools import reduce\n",
    "from itertools import product\n",
    "from itertools import combinations\n",
    "from itertools import chain\n",
    "from functools import lru_cache\n",
    "from scipy.special import comb\n",
    "from numba import njit\n",
    "from bisect import bisect_right\n",
    "from bisect import bisect_left"
   ]
  },
  {
   "cell_type": "code",
   "execution_count": 2,
   "id": "c3d73d98-8327-4f9b-9e57-0bb64518e1c3",
   "metadata": {},
   "outputs": [
    {
     "name": "stdin",
     "output_type": "stream",
     "text": [
      " 3\n"
     ]
    }
   ],
   "source": [
    "N = int(input())"
   ]
  },
  {
   "cell_type": "code",
   "execution_count": 3,
   "id": "1d7cf128-a8cf-41ed-9be0-e17cdbc06835",
   "metadata": {},
   "outputs": [
    {
     "name": "stdin",
     "output_type": "stream",
     "text": [
      " 5 6\n"
     ]
    }
   ],
   "source": [
    "X, Y = map(int, input().split())"
   ]
  },
  {
   "cell_type": "code",
   "execution_count": 4,
   "id": "c1ce0e45-b12e-4735-b699-e5140183c19d",
   "metadata": {},
   "outputs": [
    {
     "name": "stdin",
     "output_type": "stream",
     "text": [
      " 2 1\n",
      " 3 4\n",
      " 2 3\n"
     ]
    }
   ],
   "source": [
    "AB = [list(map(int, input().split())) for _ in range(N)]"
   ]
  },
  {
   "cell_type": "code",
   "execution_count": 41,
   "id": "1efe22fc-0dd4-4d85-af87-67acfed97ed4",
   "metadata": {},
   "outputs": [],
   "source": [
    "dp = []\n",
    "for _ in range(N+1):\n",
    "    dp2 = [[10**5] * 301 for _ in range(301)]\n",
    "    dp.append(dp2)\n"
   ]
  },
  {
   "cell_type": "code",
   "execution_count": 42,
   "id": "10501455-64ff-45f3-8071-b0d816b1bdfc",
   "metadata": {},
   "outputs": [],
   "source": [
    "dp[0][0][0] = 0\n",
    "for i, (A, B) in enumerate(AB, 1):\n",
    "    for j in range(301):\n",
    "        for k in range(301):\n",
    "            # 選ぶ時の処理\n",
    "            dp[i][min(j+A, X)][min(k+B, Y)] = min(dp[i][min(j+A, X)][min(k+B, Y)], dp[i-1][j][k]+1)\n",
    "            # 選ばない時の処理\n",
    "            dp[i][j][k] = min(dp[i][j][k], dp[i-1][j][k])\n"
   ]
  },
  {
   "cell_type": "code",
   "execution_count": 43,
   "id": "bb84865c-5a90-4117-a562-fd72dc3e03cb",
   "metadata": {},
   "outputs": [
    {
     "name": "stdout",
     "output_type": "stream",
     "text": [
      "2\n"
     ]
    }
   ],
   "source": [
    "if dp[N][X][Y] == 10**5:\n",
    "    print('-1')\n",
    "else:\n",
    "    print(dp[N][X][Y])"
   ]
  },
  {
   "cell_type": "code",
   "execution_count": 30,
   "id": "071ab38b-dc79-4ccc-8a3f-40a8c037d712",
   "metadata": {},
   "outputs": [
    {
     "data": {
      "text/plain": [
       "8"
      ]
     },
     "execution_count": 30,
     "metadata": {},
     "output_type": "execute_result"
    }
   ],
   "source": [
    "len(dp)"
   ]
  },
  {
   "cell_type": "code",
   "execution_count": 31,
   "id": "b7e2e36b-28df-403a-8250-65cde4db2152",
   "metadata": {},
   "outputs": [
    {
     "data": {
      "text/plain": [
       "(3, 300, 300)"
      ]
     },
     "execution_count": 31,
     "metadata": {},
     "output_type": "execute_result"
    }
   ],
   "source": [
    "i, j, k"
   ]
  },
  {
   "cell_type": "code",
   "execution_count": 35,
   "id": "3b96f5e0-ecc3-4bac-b2db-b72076c218a5",
   "metadata": {},
   "outputs": [
    {
     "data": {
      "text/plain": [
       "(0, 0, 0)"
      ]
     },
     "execution_count": 35,
     "metadata": {},
     "output_type": "execute_result"
    }
   ],
   "source": [
    "dp[1][0][0], dp[1][2][1], dp[0][2][1]"
   ]
  },
  {
   "cell_type": "code",
   "execution_count": null,
   "id": "02b5a483-0c25-499b-b2e7-0d6ab132577f",
   "metadata": {},
   "outputs": [],
   "source": []
  }
 ],
 "metadata": {
  "kernelspec": {
   "display_name": "Python 3",
   "language": "python",
   "name": "python3"
  },
  "language_info": {
   "codemirror_mode": {
    "name": "ipython",
    "version": 3
   },
   "file_extension": ".py",
   "mimetype": "text/x-python",
   "name": "python",
   "nbconvert_exporter": "python",
   "pygments_lexer": "ipython3",
   "version": "3.6.13"
  }
 },
 "nbformat": 4,
 "nbformat_minor": 5
}
