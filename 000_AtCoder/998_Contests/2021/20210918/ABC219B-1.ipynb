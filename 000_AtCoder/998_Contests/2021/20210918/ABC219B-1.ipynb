{
 "cells": [
  {
   "cell_type": "code",
   "execution_count": 1,
   "id": "5b8e8061-cbd7-4531-a9b2-82006a1ace90",
   "metadata": {},
   "outputs": [],
   "source": [
    "import numpy as np\n",
    "import math\n",
    "import collections\n",
    "import copy\n",
    "import decimal\n",
    "import itertools\n",
    "import re\n",
    "import bisect\n",
    "import scipy\n",
    "import heapq\n",
    "import array\n",
    "from collections import deque \n",
    "from functools import reduce\n",
    "from itertools import product\n",
    "from itertools import combinations\n",
    "from itertools import chain\n",
    "from functools import lru_cache\n",
    "from scipy.special import comb\n",
    "from numba import njit\n",
    "from bisect import bisect_right\n",
    "from bisect import bisect_left"
   ]
  },
  {
   "cell_type": "code",
   "execution_count": null,
   "id": "b0d2549d-39de-4238-8675-da38caa2297d",
   "metadata": {},
   "outputs": [],
   "source": [
    "S1 = input()"
   ]
  },
  {
   "cell_type": "code",
   "execution_count": 3,
   "id": "f212e3ab-47e0-4829-90dd-8e7b5839ca04",
   "metadata": {},
   "outputs": [
    {
     "name": "stdin",
     "output_type": "stream",
     "text": [
      " to\n"
     ]
    }
   ],
   "source": [
    "S2 = input()"
   ]
  },
  {
   "cell_type": "code",
   "execution_count": 4,
   "id": "6dd7c64e-1d59-4c6d-884e-2456fe7cb08d",
   "metadata": {},
   "outputs": [
    {
     "name": "stdin",
     "output_type": "stream",
     "text": [
      " zzo\n"
     ]
    }
   ],
   "source": [
    "S3 = input()"
   ]
  },
  {
   "cell_type": "code",
   "execution_count": 5,
   "id": "b9e1681a-e5a2-4808-99eb-43166dcfd0e1",
   "metadata": {},
   "outputs": [
    {
     "name": "stdin",
     "output_type": "stream",
     "text": [
      " 1321\n"
     ]
    }
   ],
   "source": [
    "Z = input()"
   ]
  },
  {
   "cell_type": "code",
   "execution_count": 6,
   "id": "6a8be1b9-c926-4255-8189-1d9b6ff095aa",
   "metadata": {},
   "outputs": [],
   "source": [
    "ans = ''\n",
    "for z in Z:\n",
    "    if z == '1':\n",
    "        ans += S1\n",
    "    elif z == '2':\n",
    "        ans += S2\n",
    "    else:\n",
    "        ans += S3"
   ]
  },
  {
   "cell_type": "code",
   "execution_count": 7,
   "id": "988c70cc-93f9-4ab2-849e-d63b7276eabe",
   "metadata": {},
   "outputs": [
    {
     "name": "stdout",
     "output_type": "stream",
     "text": [
      "marizzotomari\n"
     ]
    }
   ],
   "source": [
    "print(ans)"
   ]
  },
  {
   "cell_type": "code",
   "execution_count": null,
   "id": "03397f27-139a-4598-be81-625f564f7212",
   "metadata": {},
   "outputs": [],
   "source": []
  }
 ],
 "metadata": {
  "kernelspec": {
   "display_name": "Python 3",
   "language": "python",
   "name": "python3"
  },
  "language_info": {
   "codemirror_mode": {
    "name": "ipython",
    "version": 3
   },
   "file_extension": ".py",
   "mimetype": "text/x-python",
   "name": "python",
   "nbconvert_exporter": "python",
   "pygments_lexer": "ipython3",
   "version": "3.6.13"
  }
 },
 "nbformat": 4,
 "nbformat_minor": 5
}
