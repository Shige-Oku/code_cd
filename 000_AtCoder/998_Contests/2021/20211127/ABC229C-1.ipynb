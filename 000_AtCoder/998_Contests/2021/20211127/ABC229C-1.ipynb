{
 "cells": [
  {
   "cell_type": "code",
   "execution_count": 1,
   "id": "07610ec2-f859-4ecb-9382-3140e5b31536",
   "metadata": {},
   "outputs": [],
   "source": [
    "import sys\n",
    "import numpy as np\n",
    "import math\n",
    "import collections\n",
    "import copy\n",
    "import decimal\n",
    "import itertools\n",
    "import re\n",
    "import bisect\n",
    "import scipy\n",
    "import heapq\n",
    "import array\n",
    "from collections import deque\n",
    "from functools import reduce\n",
    "from itertools import product\n",
    "from itertools import combinations\n",
    "from itertools import chain\n",
    "from functools import lru_cache\n",
    "from scipy.special import comb\n",
    "from numba import njit\n",
    "from bisect import bisect_right\n",
    "from bisect import bisect_left"
   ]
  },
  {
   "cell_type": "code",
   "execution_count": 13,
   "id": "ff57a646-d8a1-4623-ad52-50677790d2da",
   "metadata": {},
   "outputs": [
    {
     "name": "stdin",
     "output_type": "stream",
     "text": [
      " 10 3141\n"
     ]
    }
   ],
   "source": [
    "N, W = map(int, input().split())"
   ]
  },
  {
   "cell_type": "code",
   "execution_count": 14,
   "id": "7448d608-b07d-4260-b0f7-7630f4440c6b",
   "metadata": {},
   "outputs": [
    {
     "name": "stdin",
     "output_type": "stream",
     "text": [
      " 314944731 649\n",
      " 140276783 228\n",
      " 578012421 809\n",
      " 878510647 519\n",
      " 925326537 943\n",
      " 337666726 611\n",
      " 879137070 306\n",
      " 87808915 39\n",
      " 756059990 244\n",
      " 228622672 291\n"
     ]
    }
   ],
   "source": [
    "AB = [list(map(int, input().split())) for _ in range(N)]"
   ]
  },
  {
   "cell_type": "code",
   "execution_count": 32,
   "id": "39a92185-e239-473c-b6bb-8808159a17e3",
   "metadata": {},
   "outputs": [],
   "source": [
    "ans = 0\n",
    "total = 0\n",
    "AB_s = sorted(AB, reverse=True)\n",
    "for a, b in AB_s:\n",
    "    if total + b > W:\n",
    "        ans += (W - total) * a\n",
    "        break\n",
    "    ans += a * b\n",
    "    total += b"
   ]
  },
  {
   "cell_type": "code",
   "execution_count": 33,
   "id": "8ef31215-3510-42e8-b8a6-8a65477e8e61",
   "metadata": {},
   "outputs": [
    {
     "name": "stdout",
     "output_type": "stream",
     "text": [
      "2357689932073\n"
     ]
    }
   ],
   "source": [
    "print(ans)"
   ]
  },
  {
   "cell_type": "code",
   "execution_count": 29,
   "id": "0a60fcc6-02b0-4171-986a-0ee4c597210b",
   "metadata": {},
   "outputs": [
    {
     "name": "stdout",
     "output_type": "stream",
     "text": [
      "872582924391 943\n",
      "1141598867811 1249\n",
      "1597545893604 1768\n",
      "1782024531164 2012\n",
      "2249636579753 2821\n",
      "2455950949339 3432\n",
      "6 2455950949339 3432\n"
     ]
    }
   ],
   "source": [
    "t = 0\n",
    "c = 0\n",
    "for i, (a, b) in enumerate(AB_s):\n",
    "    if t > 2357689932073:\n",
    "        print(i, t, c)\n",
    "        break\n",
    "    t += a * b\n",
    "    c += b\n",
    "    print(t, c)"
   ]
  },
  {
   "cell_type": "code",
   "execution_count": 17,
   "id": "809bc0de-62a0-45f5-8c01-c16fc7ca839a",
   "metadata": {},
   "outputs": [
    {
     "data": {
      "text/plain": [
       "[[925326537, 943],\n",
       " [879137070, 306],\n",
       " [878510647, 519],\n",
       " [756059990, 244],\n",
       " [578012421, 809],\n",
       " [337666726, 611],\n",
       " [314944731, 649],\n",
       " [228622672, 291],\n",
       " [140276783, 228],\n",
       " [87808915, 39]]"
      ]
     },
     "execution_count": 17,
     "metadata": {},
     "output_type": "execute_result"
    }
   ],
   "source": [
    "AB_s"
   ]
  },
  {
   "cell_type": "code",
   "execution_count": 8,
   "id": "f175519d-6cb7-4c80-8896-75e7abaa8b42",
   "metadata": {},
   "outputs": [
    {
     "data": {
      "text/plain": [
       "(1, 7)"
      ]
     },
     "execution_count": 8,
     "metadata": {},
     "output_type": "execute_result"
    }
   ],
   "source": [
    "ans, total"
   ]
  },
  {
   "cell_type": "code",
   "execution_count": 20,
   "id": "8067685d-cbe1-4229-9312-9ec0886b3259",
   "metadata": {},
   "outputs": [
    {
     "data": {
      "text/plain": [
       "3148"
      ]
     },
     "execution_count": 20,
     "metadata": {},
     "output_type": "execute_result"
    }
   ],
   "source": [
    "943+2205"
   ]
  },
  {
   "cell_type": "code",
   "execution_count": 22,
   "id": "71dc89e7-60ff-41fb-b50c-fba25e5a6b0e",
   "metadata": {},
   "outputs": [
    {
     "data": {
      "text/plain": [
       "866105638632"
      ]
     },
     "execution_count": 22,
     "metadata": {},
     "output_type": "execute_result"
    }
   ],
   "source": [
    "936*925326537 "
   ]
  },
  {
   "cell_type": "code",
   "execution_count": 23,
   "id": "d6c76e7d-c37c-4e92-a208-da173ffaee02",
   "metadata": {},
   "outputs": [
    {
     "data": {
      "text/plain": [
       "331642982116"
      ]
     },
     "execution_count": 23,
     "metadata": {},
     "output_type": "execute_result"
    }
   ],
   "source": [
    "2357689932073-2026046949957"
   ]
  },
  {
   "cell_type": "code",
   "execution_count": 24,
   "id": "007f13b1-fe6d-4e00-a50c-6d6da8aeae50",
   "metadata": {},
   "outputs": [
    {
     "data": {
      "text/plain": [
       "358.40643151899576"
      ]
     },
     "execution_count": 24,
     "metadata": {},
     "output_type": "execute_result"
    }
   ],
   "source": [
    "331642982116/925326537"
   ]
  },
  {
   "cell_type": "code",
   "execution_count": 34,
   "id": "266d26fe-6fb8-4b96-ba22-fb8d2b851320",
   "metadata": {},
   "outputs": [
    {
     "data": {
      "text/plain": [
       "0"
      ]
     },
     "execution_count": 34,
     "metadata": {},
     "output_type": "execute_result"
    }
   ],
   "source": [
    "2357689932073-2357689932073"
   ]
  },
  {
   "cell_type": "code",
   "execution_count": null,
   "id": "5a1afacb-08e3-4127-8cf6-b5d1fcca00ab",
   "metadata": {},
   "outputs": [],
   "source": []
  }
 ],
 "metadata": {
  "kernelspec": {
   "display_name": "Python 3",
   "language": "python",
   "name": "python3"
  },
  "language_info": {
   "codemirror_mode": {
    "name": "ipython",
    "version": 3
   },
   "file_extension": ".py",
   "mimetype": "text/x-python",
   "name": "python",
   "nbconvert_exporter": "python",
   "pygments_lexer": "ipython3",
   "version": "3.6.13"
  }
 },
 "nbformat": 4,
 "nbformat_minor": 5
}
