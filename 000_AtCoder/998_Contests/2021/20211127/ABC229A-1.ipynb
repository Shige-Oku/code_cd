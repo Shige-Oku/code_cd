{
 "cells": [
  {
   "cell_type": "code",
   "execution_count": 1,
   "id": "070dcb51-66c2-48de-b821-15809a9a9fdf",
   "metadata": {},
   "outputs": [],
   "source": [
    "import sys\n",
    "import numpy as np\n",
    "import math\n",
    "import collections\n",
    "import copy\n",
    "import decimal\n",
    "import itertools\n",
    "import re\n",
    "import bisect\n",
    "import scipy\n",
    "import heapq\n",
    "import array\n",
    "from collections import deque\n",
    "from functools import reduce\n",
    "from itertools import product\n",
    "from itertools import combinations\n",
    "from itertools import chain\n",
    "from functools import lru_cache\n",
    "from scipy.special import comb\n",
    "from numba import njit\n",
    "from bisect import bisect_right\n",
    "from bisect import bisect_left"
   ]
  },
  {
   "cell_type": "code",
   "execution_count": 12,
   "id": "06abe36f-57ae-4fa4-b1be-e657d06b4a4f",
   "metadata": {},
   "outputs": [
    {
     "name": "stdin",
     "output_type": "stream",
     "text": [
      " ..\n"
     ]
    }
   ],
   "source": [
    "S1 = input()"
   ]
  },
  {
   "cell_type": "code",
   "execution_count": 13,
   "id": "bad98ceb-2899-4488-8e7a-b1a332b321c8",
   "metadata": {},
   "outputs": [
    {
     "name": "stdin",
     "output_type": "stream",
     "text": [
      " ##\n"
     ]
    }
   ],
   "source": [
    "S2 = input()"
   ]
  },
  {
   "cell_type": "code",
   "execution_count": 14,
   "id": "0dc71dae-3a99-49f1-a1f7-8aeed3ada03c",
   "metadata": {},
   "outputs": [
    {
     "name": "stdout",
     "output_type": "stream",
     "text": [
      "Yes\n"
     ]
    }
   ],
   "source": [
    "if S1 == '#.' and S2 == '.#':\n",
    "    print('No')\n",
    "elif S1 == '.#' and S2 == '#.':\n",
    "    print('No')\n",
    "else:\n",
    "    print('Yes')\n"
   ]
  },
  {
   "cell_type": "code",
   "execution_count": null,
   "id": "e37c722a-f79b-4ee9-aade-e78e5488033c",
   "metadata": {},
   "outputs": [],
   "source": []
  }
 ],
 "metadata": {
  "kernelspec": {
   "display_name": "Python 3",
   "language": "python",
   "name": "python3"
  },
  "language_info": {
   "codemirror_mode": {
    "name": "ipython",
    "version": 3
   },
   "file_extension": ".py",
   "mimetype": "text/x-python",
   "name": "python",
   "nbconvert_exporter": "python",
   "pygments_lexer": "ipython3",
   "version": "3.6.13"
  }
 },
 "nbformat": 4,
 "nbformat_minor": 5
}
