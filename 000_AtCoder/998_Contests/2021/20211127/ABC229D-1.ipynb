{
 "cells": [
  {
   "cell_type": "code",
   "execution_count": 1,
   "id": "af486ecb-86af-44cf-be48-fba42e096e26",
   "metadata": {},
   "outputs": [],
   "source": [
    "import sys\n",
    "import numpy as np\n",
    "import math\n",
    "import collections\n",
    "import copy\n",
    "import decimal\n",
    "import itertools\n",
    "import re\n",
    "import bisect\n",
    "import scipy\n",
    "import heapq\n",
    "import array\n",
    "from collections import deque\n",
    "from functools import reduce\n",
    "from itertools import product\n",
    "from itertools import combinations\n",
    "from itertools import chain\n",
    "from functools import lru_cache\n",
    "from scipy.special import comb\n",
    "from numba import njit\n",
    "from bisect import bisect_right\n",
    "from bisect import bisect_left"
   ]
  },
  {
   "cell_type": "code",
   "execution_count": 26,
   "id": "02f877cb-fa11-477d-8891-5df94f4c78e1",
   "metadata": {},
   "outputs": [
    {
     "name": "stdin",
     "output_type": "stream",
     "text": [
      " XX...X.X.X.\n"
     ]
    }
   ],
   "source": [
    "S = input()"
   ]
  },
  {
   "cell_type": "code",
   "execution_count": 27,
   "id": "2925e89b-545f-4af1-9549-d1b5cfe68eb3",
   "metadata": {},
   "outputs": [
    {
     "name": "stdin",
     "output_type": "stream",
     "text": [
      " 2\n"
     ]
    }
   ],
   "source": [
    "K = int(input())"
   ]
  },
  {
   "cell_type": "code",
   "execution_count": 28,
   "id": "c3499acc-c5d1-47b3-9bc1-e2d73fb879ae",
   "metadata": {},
   "outputs": [],
   "source": [
    "S_cum = [0, ]\n",
    "for s in S:\n",
    "    if s == '.':\n",
    "        S_cum.append(S_cum[-1]+1)\n",
    "    else:\n",
    "        S_cum.append(S_cum[-1])\n",
    "        "
   ]
  },
  {
   "cell_type": "code",
   "execution_count": 29,
   "id": "d316d174-798c-44e6-9327-467316ec915f",
   "metadata": {},
   "outputs": [],
   "source": [
    "ans = 0\n",
    "j = 0\n",
    "for i, s in enumerate(S, 1):\n",
    "    cnt = 0\n",
    "    while True:\n",
    "        if j > len(S) or S_cum[j] - S_cum[i-1] > K:\n",
    "            break\n",
    "        j += 1\n",
    "    ans = max(ans, j-i)\n"
   ]
  },
  {
   "cell_type": "code",
   "execution_count": 30,
   "id": "45570219-f5ef-43bc-bf18-d0e1b1c49c2f",
   "metadata": {},
   "outputs": [
    {
     "name": "stdout",
     "output_type": "stream",
     "text": [
      "5\n"
     ]
    }
   ],
   "source": [
    "print(ans)"
   ]
  },
  {
   "cell_type": "code",
   "execution_count": 21,
   "id": "784771b9-88f7-42f3-8432-21d5d4154992",
   "metadata": {},
   "outputs": [
    {
     "data": {
      "text/plain": [
       "[0, 0, 0, 0, 0]"
      ]
     },
     "execution_count": 21,
     "metadata": {},
     "output_type": "execute_result"
    }
   ],
   "source": [
    "S_cum"
   ]
  },
  {
   "cell_type": "code",
   "execution_count": null,
   "id": "11a6db07-0a75-4842-aa8a-5075b14ca1df",
   "metadata": {},
   "outputs": [],
   "source": [
    "S_cum"
   ]
  }
 ],
 "metadata": {
  "kernelspec": {
   "display_name": "Python 3",
   "language": "python",
   "name": "python3"
  },
  "language_info": {
   "codemirror_mode": {
    "name": "ipython",
    "version": 3
   },
   "file_extension": ".py",
   "mimetype": "text/x-python",
   "name": "python",
   "nbconvert_exporter": "python",
   "pygments_lexer": "ipython3",
   "version": "3.6.13"
  }
 },
 "nbformat": 4,
 "nbformat_minor": 5
}
