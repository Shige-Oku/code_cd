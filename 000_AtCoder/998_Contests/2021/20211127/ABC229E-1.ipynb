{
 "cells": [
  {
   "cell_type": "code",
   "execution_count": 12,
   "id": "af39b236-7c85-49ee-8eb8-63037bf8183b",
   "metadata": {},
   "outputs": [],
   "source": [
    "graph = [[] for _ in range(N+1)]\n",
    "for A, B in AB:\n",
    "    graph[A].append(B)\n",
    "    graph[B].append(A)"
   ]
  },
  {
   "cell_type": "code",
   "execution_count": 1,
   "id": "4d6e0777-d0ce-405c-8bd1-7b8e3bd4eb9f",
   "metadata": {},
   "outputs": [],
   "source": [
    "import sys\n",
    "import numpy as np\n",
    "import math\n",
    "import collections\n",
    "import copy\n",
    "import decimal\n",
    "import itertools\n",
    "import re\n",
    "import bisect\n",
    "import scipy\n",
    "import heapq\n",
    "import array\n",
    "from collections import deque\n",
    "from functools import reduce\n",
    "from itertools import product\n",
    "from itertools import combinations\n",
    "from itertools import chain\n",
    "from functools import lru_cache\n",
    "from scipy.special import comb\n",
    "from numba import njit\n",
    "from bisect import bisect_right\n",
    "from bisect import bisect_left"
   ]
  },
  {
   "cell_type": "code",
   "execution_count": 2,
   "id": "4f1774c4-9062-44c9-99dc-6d441ed591e8",
   "metadata": {},
   "outputs": [
    {
     "name": "stdin",
     "output_type": "stream",
     "text": [
      " 6 7\n"
     ]
    }
   ],
   "source": [
    "N, M = map(int, input().split())"
   ]
  },
  {
   "cell_type": "code",
   "execution_count": 3,
   "id": "e0a21bfc-614d-4c67-8d0d-1637d689a7c8",
   "metadata": {},
   "outputs": [
    {
     "name": "stdin",
     "output_type": "stream",
     "text": [
      " 1 2\n",
      " 1 4\n",
      " 1 5\n",
      " 2 4\n",
      " 2 3\n",
      " 3 5\n",
      " 3 6\n"
     ]
    }
   ],
   "source": [
    "AB = [list(map(int, input().split())) for _ in range(M)]"
   ]
  },
  {
   "cell_type": "code",
   "execution_count": 53,
   "id": "5c50f655-aa3e-40b8-a386-96dd5cae1e46",
   "metadata": {},
   "outputs": [],
   "source": [
    "graph = [[] for _ in range(N+1)]\n",
    "for A, B in AB:\n",
    "    graph[A].append(B)\n"
   ]
  },
  {
   "cell_type": "code",
   "execution_count": 54,
   "id": "8feb32cc-a1ca-424a-92b3-00671a9f4529",
   "metadata": {},
   "outputs": [],
   "source": [
    "from collections import defaultdict\n",
    "import sys\n",
    "class UnionFind():\n",
    "    # イニシャライザ\n",
    "    def __init__(self, n):\n",
    "        self.n = n  # 頂点の数\n",
    "        self.parents = [-1] * n  # 親の頂点。根は -1\n",
    "        self.size = [1] * n  # 各頂点の所属する木の頂点数\n",
    "        sys.setrecursionlimit(10**7)\n",
    "        \n",
    "    # 根を返す\n",
    "    def root(self, x):\n",
    "        if self.parents[x] < 0: # 根なのでそのまま返す\n",
    "            return x\n",
    "        else:\n",
    "            self.parents[x] = self.root(self.parents[x])  # 経路圧縮\n",
    "            return self.parents[x]\n",
    "        \n",
    "    # x, y が同じ木に属するか\n",
    "    def issame(self, x, y):\n",
    "        return self.root(x) == self.root(y)\n",
    "    \n",
    "    # x y を併合する    \n",
    "    def unite(self, x, y):\n",
    "        x = self.root(x)\n",
    "        y = self.root(y)\n",
    "        \n",
    "        # 元々同じ木に所属するので、何もせずリターン\n",
    "        if x == y:\n",
    "            return False\n",
    "        \n",
    "        # 大きいほうにまとめる。 y を x にまとめるようにスワップ\n",
    "        if self.parents[x] < self.parents[y]:\n",
    "            x, y = y, x\n",
    "        # 小さいほうの親を大きいほうを親に\n",
    "        self.parents[y] = x\n",
    "        # 大きいほうの頂点に小さいほうの数を加算\n",
    "        self.size[x] += self.size[y]\n",
    "        return True\n",
    "    \n",
    "    # x の所属する頂点数を返す\n",
    "    def getsize(self, x):\n",
    "        return self.size[self.root(x)]\n",
    "\n",
    "    # x の所属する頂点の一覧を返す\n",
    "    def getmembers(self, x):\n",
    "        root = self.root(x)\n",
    "        return [i for i in range(self.n) if self.root(i) == root]    "
   ]
  },
  {
   "cell_type": "code",
   "execution_count": null,
   "id": "bb3902b9-80a4-49bf-ae89-ce25abe5f103",
   "metadata": {},
   "outputs": [],
   "source": [
    "# 解説を読んで実装"
   ]
  },
  {
   "cell_type": "code",
   "execution_count": 58,
   "id": "8e6d08be-36b2-4d90-9c36-aeb48bfcb20c",
   "metadata": {},
   "outputs": [],
   "source": [
    "ans = [0, ]\n",
    "uf = UnionFind(N+1)\n",
    "cnt = 0\n",
    "for i in range(N, 1, -1):\n",
    "    cnt += 1\n",
    "    for gr in graph[i]:\n",
    "        if not uf.issame(i, gr):\n",
    "            uf.unite(i, gr)\n",
    "            cnt -= 1\n",
    "    ans.append(cnt)"
   ]
  },
  {
   "cell_type": "code",
   "execution_count": 59,
   "id": "8e06f7e9-b286-4ef7-82b8-bd07ccd83a95",
   "metadata": {},
   "outputs": [
    {
     "name": "stdout",
     "output_type": "stream",
     "text": [
      "1\n",
      "2\n",
      "3\n",
      "2\n",
      "1\n",
      "0\n"
     ]
    }
   ],
   "source": [
    "for a in ans[::-1]:\n",
    "    print(a)"
   ]
  },
  {
   "cell_type": "code",
   "execution_count": null,
   "id": "2eb35342-a2aa-41c9-9bf5-61f9e5b03ab0",
   "metadata": {},
   "outputs": [],
   "source": [
    "# TLE"
   ]
  },
  {
   "cell_type": "code",
   "execution_count": 40,
   "id": "b3e7031c-2687-40fa-ba37-651f8af5dc7d",
   "metadata": {},
   "outputs": [],
   "source": [
    "ans = [0, ]\n",
    "uf = UnionFind(N+1)\n",
    "for i in range(N, 0, -1):\n",
    "    for gr in graph[i]:\n",
    "        if gr >= i:\n",
    "            uf.unite(i, gr)\n",
    "    s = set()\n",
    "    for j in range(i, N+1):\n",
    "        s.add(uf.root(j))\n",
    "    ans.append(len(s))"
   ]
  },
  {
   "cell_type": "code",
   "execution_count": 56,
   "id": "d1049be0-2649-416a-9f57-c64395d0d5b8",
   "metadata": {},
   "outputs": [
    {
     "name": "stdout",
     "output_type": "stream",
     "text": [
      "1\n",
      "2\n",
      "3\n",
      "2\n",
      "1\n",
      "0\n"
     ]
    }
   ],
   "source": [
    "an = ans[:-1]\n",
    "for a in an[::-1]:\n",
    "    print(a)"
   ]
  },
  {
   "cell_type": "code",
   "execution_count": 48,
   "id": "d62a7862-ad20-4799-adad-d33bbd6e8a06",
   "metadata": {},
   "outputs": [
    {
     "data": {
      "text/plain": [
       "[[], [2, 4, 5], [4, 3], [5, 6], [], [], []]"
      ]
     },
     "execution_count": 48,
     "metadata": {},
     "output_type": "execute_result"
    }
   ],
   "source": [
    "graph"
   ]
  },
  {
   "cell_type": "code",
   "execution_count": 24,
   "id": "05a22247-cd66-4a06-8248-70d08e03a054",
   "metadata": {},
   "outputs": [
    {
     "data": {
      "text/plain": [
       "[1, 2, 3, 4, 5, 6]"
      ]
     },
     "execution_count": 24,
     "metadata": {},
     "output_type": "execute_result"
    }
   ],
   "source": [
    "uf.getmembers(1)"
   ]
  },
  {
   "cell_type": "code",
   "execution_count": 31,
   "id": "80a433b2-cd9a-45fd-a4ab-46cbba69c11a",
   "metadata": {},
   "outputs": [
    {
     "data": {
      "text/plain": [
       "[0, 1, 2, 3, 2, 1, 1]"
      ]
     },
     "execution_count": 31,
     "metadata": {},
     "output_type": "execute_result"
    }
   ],
   "source": [
    "ans"
   ]
  },
  {
   "cell_type": "code",
   "execution_count": null,
   "id": "75298f35-c1d4-4622-97a5-c0178c6819a6",
   "metadata": {},
   "outputs": [],
   "source": []
  }
 ],
 "metadata": {
  "kernelspec": {
   "display_name": "Python 3",
   "language": "python",
   "name": "python3"
  },
  "language_info": {
   "codemirror_mode": {
    "name": "ipython",
    "version": 3
   },
   "file_extension": ".py",
   "mimetype": "text/x-python",
   "name": "python",
   "nbconvert_exporter": "python",
   "pygments_lexer": "ipython3",
   "version": "3.6.13"
  }
 },
 "nbformat": 4,
 "nbformat_minor": 5
}
