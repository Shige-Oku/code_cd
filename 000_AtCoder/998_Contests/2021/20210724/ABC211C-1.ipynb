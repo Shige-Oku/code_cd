{
 "cells": [
  {
   "cell_type": "code",
   "execution_count": 1,
   "id": "45eae849-eb0a-4fce-be23-d4879799c2b7",
   "metadata": {},
   "outputs": [],
   "source": [
    "import sys\n",
    "import numpy as np\n",
    "import math\n",
    "import collections\n",
    "import copy\n",
    "import decimal\n",
    "import itertools\n",
    "import re\n",
    "import bisect\n",
    "import scipy\n",
    "import heapq\n",
    "from collections import deque \n",
    "from functools import reduce\n",
    "from itertools import product\n",
    "from itertools import combinations\n",
    "from itertools import chain\n",
    "from functools import lru_cache\n",
    "from scipy.special import comb\n",
    "from numba import njit\n",
    "from bisect import bisect_right\n",
    "from bisect import bisect_left"
   ]
  },
  {
   "cell_type": "code",
   "execution_count": 27,
   "id": "b1c284d0-dfca-49b1-82ae-5994f7aeb71a",
   "metadata": {},
   "outputs": [
    {
     "name": "stdin",
     "output_type": "stream",
     "text": [
      " chokudaichokudaichokudai\n"
     ]
    }
   ],
   "source": [
    "S = input()"
   ]
  },
  {
   "cell_type": "code",
   "execution_count": 37,
   "id": "6b5dad9e-a05e-4509-8c43-e82459d87326",
   "metadata": {},
   "outputs": [],
   "source": [
    "dp = [0] * (len('chokudai')+1)"
   ]
  },
  {
   "cell_type": "code",
   "execution_count": 38,
   "id": "c78e095a-c1e9-405f-8ca2-dffa9ea26890",
   "metadata": {},
   "outputs": [],
   "source": [
    "for s in S:\n",
    "    if s == 'c':\n",
    "        dp[0] += 1\n",
    "        dp[0] %= 10**9+7\n",
    "    elif s == 'h':\n",
    "        dp[1] += dp[0]\n",
    "        dp[1] %= 10**9+7\n",
    "    elif s == 'o':\n",
    "        dp[2] += dp[1]\n",
    "        dp[2] %= 10**9+7\n",
    "    elif s == 'k':\n",
    "        dp[3] += dp[2]\n",
    "        dp[3] %= 10**9+7\n",
    "    elif s == 'u':\n",
    "        dp[4] += dp[3]\n",
    "        dp[4] %= 10**9+7\n",
    "    elif s == 'd':\n",
    "        dp[5] += dp[4]\n",
    "        dp[5] %= 10**9+7\n",
    "    elif s == 'a':\n",
    "        dp[6] += dp[5]\n",
    "        dp[6] %= 10**9+7\n",
    "    elif s == 'i':\n",
    "        dp[7] += dp[6]\n",
    "        dp[7] %= 10**9+7\n",
    "        "
   ]
  },
  {
   "cell_type": "code",
   "execution_count": 39,
   "id": "25952a74-cbc2-4852-9f00-ad63f940c512",
   "metadata": {},
   "outputs": [
    {
     "name": "stdout",
     "output_type": "stream",
     "text": [
      "45\n"
     ]
    }
   ],
   "source": [
    "print(dp[7]%(10**9+7))"
   ]
  },
  {
   "cell_type": "code",
   "execution_count": 40,
   "id": "cc8841de-b032-450b-b7e3-3055e7824ed3",
   "metadata": {},
   "outputs": [
    {
     "data": {
      "text/plain": [
       "[3, 6, 10, 15, 21, 28, 36, 45, 0]"
      ]
     },
     "execution_count": 40,
     "metadata": {},
     "output_type": "execute_result"
    }
   ],
   "source": [
    "dp"
   ]
  },
  {
   "cell_type": "code",
   "execution_count": null,
   "id": "fcfdca0c-de75-4a59-b829-477c4fbf7c13",
   "metadata": {},
   "outputs": [],
   "source": []
  }
 ],
 "metadata": {
  "kernelspec": {
   "display_name": "Python 3",
   "language": "python",
   "name": "python3"
  },
  "language_info": {
   "codemirror_mode": {
    "name": "ipython",
    "version": 3
   },
   "file_extension": ".py",
   "mimetype": "text/x-python",
   "name": "python",
   "nbconvert_exporter": "python",
   "pygments_lexer": "ipython3",
   "version": "3.6.13"
  }
 },
 "nbformat": 4,
 "nbformat_minor": 5
}
