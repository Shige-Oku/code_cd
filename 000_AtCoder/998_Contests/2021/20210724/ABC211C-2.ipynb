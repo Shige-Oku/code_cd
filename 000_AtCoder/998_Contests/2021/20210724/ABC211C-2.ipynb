{
 "cells": [
  {
   "cell_type": "code",
   "execution_count": 1,
   "id": "9a986b54-6e10-44ee-98ee-29fd7bc0eb79",
   "metadata": {},
   "outputs": [],
   "source": [
    "import sys\n",
    "import numpy as np\n",
    "import math\n",
    "import collections\n",
    "import copy\n",
    "import decimal\n",
    "import itertools\n",
    "import re\n",
    "import bisect\n",
    "import scipy\n",
    "import heapq\n",
    "from collections import deque \n",
    "from functools import reduce\n",
    "from itertools import product\n",
    "from itertools import combinations\n",
    "from itertools import chain\n",
    "from functools import lru_cache\n",
    "from scipy.special import comb\n",
    "from numba import njit\n",
    "from bisect import bisect_right\n",
    "from bisect import bisect_left"
   ]
  },
  {
   "cell_type": "code",
   "execution_count": 51,
   "id": "7468cdf6-d837-416e-ab9e-3096dcbd5de3",
   "metadata": {},
   "outputs": [
    {
     "name": "stdin",
     "output_type": "stream",
     "text": [
      " chokudaichoku\n"
     ]
    }
   ],
   "source": [
    "S = input()"
   ]
  },
  {
   "cell_type": "code",
   "execution_count": 58,
   "id": "2b8f2dc2-43c6-4765-9e11-72561a0fd915",
   "metadata": {},
   "outputs": [],
   "source": [
    "chokudai = 'chokudai'\n",
    "dp = [0] * (len(chokudai)+1)\n",
    "dp[0] = 1\n",
    "for s in S:\n",
    "    for i, t in enumerate(chokudai):\n",
    "        if s == t:\n",
    "            dp[i+1] += dp[i]\n",
    "            dp[i+1] %= 10**9 + 7"
   ]
  },
  {
   "cell_type": "code",
   "execution_count": 53,
   "id": "67751d79-0493-4977-82cd-9a808c657120",
   "metadata": {},
   "outputs": [
    {
     "name": "stdout",
     "output_type": "stream",
     "text": [
      "1\n"
     ]
    }
   ],
   "source": [
    "print(dp[-1])"
   ]
  },
  {
   "cell_type": "code",
   "execution_count": 55,
   "id": "6f313e8a-d83f-4077-bd53-3e2487ecd366",
   "metadata": {},
   "outputs": [
    {
     "data": {
      "text/plain": [
       "([1, 2, 3, 4, 5, 6, 1, 1, 1], 1)"
      ]
     },
     "execution_count": 55,
     "metadata": {},
     "output_type": "execute_result"
    }
   ],
   "source": [
    "dp, dp[8]"
   ]
  },
  {
   "cell_type": "code",
   "execution_count": 57,
   "id": "6f302664-2a31-49b1-97fe-11e2376c3202",
   "metadata": {},
   "outputs": [
    {
     "data": {
      "text/plain": [
       "(8, 9)"
      ]
     },
     "execution_count": 57,
     "metadata": {},
     "output_type": "execute_result"
    }
   ],
   "source": [
    "len(chokudai), len(dp)"
   ]
  },
  {
   "cell_type": "code",
   "execution_count": null,
   "id": "72f4b6db-cc39-453f-b280-027d83798219",
   "metadata": {},
   "outputs": [],
   "source": []
  }
 ],
 "metadata": {
  "kernelspec": {
   "display_name": "Python 3",
   "language": "python",
   "name": "python3"
  },
  "language_info": {
   "codemirror_mode": {
    "name": "ipython",
    "version": 3
   },
   "file_extension": ".py",
   "mimetype": "text/x-python",
   "name": "python",
   "nbconvert_exporter": "python",
   "pygments_lexer": "ipython3",
   "version": "3.6.13"
  }
 },
 "nbformat": 4,
 "nbformat_minor": 5
}
