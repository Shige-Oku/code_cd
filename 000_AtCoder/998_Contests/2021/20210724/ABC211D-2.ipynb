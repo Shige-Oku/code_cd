{
 "cells": [
  {
   "cell_type": "code",
   "execution_count": null,
   "id": "b6831015-12aa-4d00-bba1-dde4ccff6421",
   "metadata": {},
   "outputs": [],
   "source": [
    "# 後で実装"
   ]
  },
  {
   "cell_type": "code",
   "execution_count": 7,
   "id": "c411dd07-fa38-4b1b-8c4e-6ec74a65842d",
   "metadata": {},
   "outputs": [],
   "source": [
    "import sys\n",
    "import numpy as np\n",
    "import math\n",
    "import collections\n",
    "import copy\n",
    "import decimal\n",
    "import itertools\n",
    "import re\n",
    "import bisect\n",
    "import scipy\n",
    "import heapq\n",
    "from collections import deque \n",
    "from functools import reduce\n",
    "from itertools import product\n",
    "from itertools import combinations\n",
    "from itertools import chain\n",
    "from functools import lru_cache\n",
    "from scipy.special import comb\n",
    "from numba import njit\n",
    "from bisect import bisect_right\n",
    "from bisect import bisect_left"
   ]
  },
  {
   "cell_type": "code",
   "execution_count": 19,
   "id": "0746cb55-dc6c-4ef5-bc44-0d01b6128268",
   "metadata": {},
   "outputs": [
    {
     "name": "stdin",
     "output_type": "stream",
     "text": [
      " 7 8\n"
     ]
    }
   ],
   "source": [
    "N, M = map(int, input().split())"
   ]
  },
  {
   "cell_type": "code",
   "execution_count": 20,
   "id": "012aea0f-b666-4729-a5fd-4e8ea6820f70",
   "metadata": {},
   "outputs": [
    {
     "name": "stdin",
     "output_type": "stream",
     "text": [
      " 1 3\n",
      " 1 4\n",
      " 2 3\n",
      " 2 4\n",
      " 2 5\n",
      " 2 6\n",
      " 5 7\n",
      " 6 7\n"
     ]
    }
   ],
   "source": [
    "AB = [list(map(int, input().split())) for _ in range(M)]"
   ]
  },
  {
   "cell_type": "code",
   "execution_count": 21,
   "id": "7622ffde-e0db-4aea-aae4-0a9fb4980c99",
   "metadata": {},
   "outputs": [],
   "source": [
    "graph = [[] for _ in range(N+1)]\n",
    "for A, B in AB:\n",
    "    graph[A].append(B)\n",
    "    graph[B].append(A)"
   ]
  },
  {
   "cell_type": "code",
   "execution_count": 32,
   "id": "5eaf4990-a8e5-4f60-8d25-312ba0625bae",
   "metadata": {},
   "outputs": [],
   "source": [
    "def BFS():\n",
    "    q = deque()\n",
    "    q.append(1)\n",
    "    dis[1] = 0\n",
    "    cnt[1] = 1\n",
    "    while q:\n",
    "        p = q.popleft()\n",
    "        if visit[p]:\n",
    "            continue\n",
    "        visit[p] = True\n",
    "        for gr in graph[p]:\n",
    "            if visit[gr]:\n",
    "                continue\n",
    "            if dis[gr] != -1 and dis[p] + 1 > dis[gr]:\n",
    "                continue\n",
    "            if dis[gr] == -1:\n",
    "                dis[gr] = dis[p] + 1\n",
    "            cnt[gr] += cnt[p]\n",
    "            cnt[gr] %= 10**9 + 7\n",
    "            q.append(gr)\n",
    "    return"
   ]
  },
  {
   "cell_type": "code",
   "execution_count": 33,
   "id": "4a58411c-f57e-4b7c-a3cb-910fdedc9744",
   "metadata": {},
   "outputs": [],
   "source": [
    "dis = [-1] * (N+1)\n",
    "visit = [False] * (N+1)\n",
    "cnt = [0] * (N+1)\n",
    "BFS()"
   ]
  },
  {
   "cell_type": "code",
   "execution_count": 34,
   "id": "f36b4a68-7e2e-4d07-988c-ef88e5785c0d",
   "metadata": {},
   "outputs": [
    {
     "name": "stdout",
     "output_type": "stream",
     "text": [
      "4\n"
     ]
    }
   ],
   "source": [
    "print(cnt[N])"
   ]
  },
  {
   "cell_type": "code",
   "execution_count": 25,
   "id": "4c6b039f-5e55-4ecf-9eb6-de5a301d054e",
   "metadata": {},
   "outputs": [
    {
     "data": {
      "text/plain": [
       "[0, 1, 2, 1, 1, 4, 4, 16]"
      ]
     },
     "execution_count": 25,
     "metadata": {},
     "output_type": "execute_result"
    }
   ],
   "source": [
    "cnt"
   ]
  },
  {
   "cell_type": "code",
   "execution_count": 26,
   "id": "5cd07bf4-8297-4c39-aadf-5faf352d6e57",
   "metadata": {},
   "outputs": [
    {
     "data": {
      "text/plain": [
       "[[], [3, 4], [3, 4, 5, 6], [1, 2], [1, 2], [2, 7], [2, 7], [5, 6]]"
      ]
     },
     "execution_count": 26,
     "metadata": {},
     "output_type": "execute_result"
    }
   ],
   "source": [
    "graph"
   ]
  },
  {
   "cell_type": "code",
   "execution_count": 22,
   "id": "ac3b58de-b8b3-4e21-9823-1e51c177f2b9",
   "metadata": {},
   "outputs": [
    {
     "data": {
      "text/plain": [
       "([-1, 0, 1, 1, 2], [False, True, True, True, True])"
      ]
     },
     "execution_count": 22,
     "metadata": {},
     "output_type": "execute_result"
    }
   ],
   "source": [
    "dis, visit"
   ]
  },
  {
   "cell_type": "code",
   "execution_count": null,
   "id": "bda8d617-c07b-434c-afbb-4f7fab957e05",
   "metadata": {},
   "outputs": [],
   "source": []
  }
 ],
 "metadata": {
  "kernelspec": {
   "display_name": "Python 3",
   "language": "python",
   "name": "python3"
  },
  "language_info": {
   "codemirror_mode": {
    "name": "ipython",
    "version": 3
   },
   "file_extension": ".py",
   "mimetype": "text/x-python",
   "name": "python",
   "nbconvert_exporter": "python",
   "pygments_lexer": "ipython3",
   "version": "3.6.13"
  }
 },
 "nbformat": 4,
 "nbformat_minor": 5
}
