{
 "cells": [
  {
   "cell_type": "code",
   "execution_count": 1,
   "id": "7dc77a9b-d646-4794-8774-c29cd356c688",
   "metadata": {},
   "outputs": [],
   "source": [
    "import sys\n",
    "import numpy as np\n",
    "import math\n",
    "import collections\n",
    "import copy\n",
    "import decimal\n",
    "import itertools\n",
    "import re\n",
    "import bisect\n",
    "import scipy\n",
    "import heapq\n",
    "from collections import deque \n",
    "from functools import reduce\n",
    "from itertools import product\n",
    "from itertools import combinations\n",
    "from itertools import chain\n",
    "from functools import lru_cache\n",
    "from scipy.special import comb\n",
    "from numba import njit\n",
    "from bisect import bisect_right\n",
    "from bisect import bisect_left"
   ]
  },
  {
   "cell_type": "code",
   "execution_count": 31,
   "id": "16704d00-7d1a-44d6-abab-a563d6d1a1dd",
   "metadata": {},
   "outputs": [
    {
     "name": "stdin",
     "output_type": "stream",
     "text": [
      " 8\n"
     ]
    }
   ],
   "source": [
    "N = int(input())"
   ]
  },
  {
   "cell_type": "code",
   "execution_count": 32,
   "id": "2a35d783-6de7-4aad-8456-a5f2d8f93331",
   "metadata": {},
   "outputs": [
    {
     "name": "stdin",
     "output_type": "stream",
     "text": [
      " 84 87 78 16 94 36 87 93\n"
     ]
    }
   ],
   "source": [
    "Sn = list(map(int, input().split()))"
   ]
  },
  {
   "cell_type": "code",
   "execution_count": 33,
   "id": "05a1b94e-fe9f-4f93-aed8-2f5de9c0ec43",
   "metadata": {},
   "outputs": [
    {
     "name": "stdin",
     "output_type": "stream",
     "text": [
      " 50 22 63 28 91 60 64 27\n"
     ]
    }
   ],
   "source": [
    "Tn = list(map(int, input().split()))"
   ]
  },
  {
   "cell_type": "code",
   "execution_count": 61,
   "id": "2254445b-54cf-4a95-92f6-896b3e331e54",
   "metadata": {},
   "outputs": [],
   "source": [
    "ans = [0] * (N + 1)\n",
    "q = []\n",
    "for i, T in enumerate(Tn):\n",
    "    heapq.heappush(q, (T, i))"
   ]
  },
  {
   "cell_type": "code",
   "execution_count": 62,
   "id": "f0bf8885-3333-4908-902e-c1ce4b3eeebe",
   "metadata": {},
   "outputs": [],
   "source": [
    "while q:\n",
    "    t, p = heapq.heappop(q)\n",
    "    p %= N\n",
    "    if ans[p] != 0:\n",
    "        continue\n",
    "    ans[p] = t\n",
    "    heapq.heappush(q, (t+Sn[p], p+1))\n",
    "    "
   ]
  },
  {
   "cell_type": "code",
   "execution_count": 63,
   "id": "eaf18edf-8831-4ce4-bb52-691bc7515726",
   "metadata": {},
   "outputs": [
    {
     "name": "stdout",
     "output_type": "stream",
     "text": [
      "50\n",
      "22\n",
      "63\n",
      "28\n",
      "44\n",
      "60\n",
      "64\n",
      "27\n"
     ]
    }
   ],
   "source": [
    "for an in ans[:-1]:\n",
    "    print(an)"
   ]
  },
  {
   "cell_type": "code",
   "execution_count": 49,
   "id": "6ef92b38-fe60-4426-9a07-151867f32c05",
   "metadata": {},
   "outputs": [
    {
     "data": {
      "text/plain": [
       "([120, 22, 63, 28, 44, 60, 64, 27, 0], 8)"
      ]
     },
     "execution_count": 49,
     "metadata": {},
     "output_type": "execute_result"
    }
   ],
   "source": [
    "ans, cnt"
   ]
  },
  {
   "cell_type": "code",
   "execution_count": 43,
   "id": "5bbb90de-4c22-43cb-ac90-f7f3204ddc9a",
   "metadata": {},
   "outputs": [],
   "source": [
    "while q and cnt < N:\n",
    "    t, p = heapq.heappop(q)\n",
    "    if ans[p] != 0 and ans[p] <= t:\n",
    "        continue\n",
    "    p %= N\n",
    "    if ans[p] == 0:\n",
    "        cnt += 1\n",
    "    ans[p] = t\n",
    "    heapq.heappush(q, (t+Sn[p], p+1))\n",
    "    "
   ]
  },
  {
   "cell_type": "code",
   "execution_count": 43,
   "id": "8d974672-9a1e-4782-be5e-0fb9e866af1e",
   "metadata": {},
   "outputs": [],
   "source": [
    "while q and cnt < N:\n",
    "    t, p = heapq.heappop(q)\n",
    "    if ans[p] != 0 and ans[p] <= t:\n",
    "        continue\n",
    "    p %= N\n",
    "    if ans[p] == 0:\n",
    "        cnt += 1\n",
    "    ans[p] = t\n",
    "    heapq.heappush(q, (t+Sn[p], p+1))\n",
    "    "
   ]
  },
  {
   "cell_type": "code",
   "execution_count": null,
   "id": "1e7e5ca3-627c-4e37-a51b-f3aad98bf825",
   "metadata": {},
   "outputs": [],
   "source": []
  }
 ],
 "metadata": {
  "kernelspec": {
   "display_name": "Python 3",
   "language": "python",
   "name": "python3"
  },
  "language_info": {
   "codemirror_mode": {
    "name": "ipython",
    "version": 3
   },
   "file_extension": ".py",
   "mimetype": "text/x-python",
   "name": "python",
   "nbconvert_exporter": "python",
   "pygments_lexer": "ipython3",
   "version": "3.6.13"
  }
 },
 "nbformat": 4,
 "nbformat_minor": 5
}
