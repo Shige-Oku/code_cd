{
 "cells": [
  {
   "cell_type": "code",
   "execution_count": 1,
   "id": "2261fa74-f7d5-491a-ab08-75ca8612bc60",
   "metadata": {},
   "outputs": [],
   "source": [
    "import sys\n",
    "import numpy as np\n",
    "import math\n",
    "import collections\n",
    "import copy\n",
    "import decimal\n",
    "import itertools\n",
    "import re\n",
    "import bisect\n",
    "import scipy\n",
    "import heapq\n",
    "import array\n",
    "from collections import deque\n",
    "from functools import reduce\n",
    "from itertools import product\n",
    "from itertools import combinations\n",
    "from itertools import chain\n",
    "from functools import lru_cache\n",
    "from scipy.special import comb\n",
    "from numba import njit\n",
    "from bisect import bisect_right\n",
    "from bisect import bisect_left"
   ]
  },
  {
   "cell_type": "code",
   "execution_count": 2,
   "id": "a186907d-c7f0-47b7-8197-42efe8fe41c9",
   "metadata": {},
   "outputs": [
    {
     "name": "stdin",
     "output_type": "stream",
     "text": [
      " 4 4\n"
     ]
    }
   ],
   "source": [
    "N, M = map(int, input().split())"
   ]
  },
  {
   "cell_type": "code",
   "execution_count": 3,
   "id": "5d8566f4-0954-429d-a107-26bdbe1ac2ab",
   "metadata": {},
   "outputs": [
    {
     "name": "stdin",
     "output_type": "stream",
     "text": [
      " 1 2\n",
      " 1 3\n",
      " 1 4\n",
      " 3 4\n"
     ]
    }
   ],
   "source": [
    "AB = [list(map(int, input().split())) for _ in range(M)]"
   ]
  },
  {
   "cell_type": "code",
   "execution_count": 4,
   "id": "aaba7c9c-1550-4530-8ff7-4cb51d95f230",
   "metadata": {},
   "outputs": [
    {
     "name": "stdin",
     "output_type": "stream",
     "text": [
      " 1 3\n",
      " 1 4\n",
      " 2 3\n",
      " 3 4\n"
     ]
    }
   ],
   "source": [
    "CD = [list(map(int, input().split())) for _ in range(M)]"
   ]
  },
  {
   "cell_type": "code",
   "execution_count": 32,
   "id": "ab74a083-f89f-4787-81b4-9a67c9638831",
   "metadata": {},
   "outputs": [],
   "source": [
    "graph1 = [[] for _ in range(N+1)]\n",
    "for A, B in AB:\n",
    "    graph1[A-1].append(B-1)\n",
    "    graph1[B-1].append(A-1)\n",
    "graph2 = [[] for _ in range(N+1)]\n",
    "for C, D in CD:\n",
    "    graph2[C-1].append(D-1)\n",
    "    graph2[D-1].append(C-1)"
   ]
  },
  {
   "cell_type": "code",
   "execution_count": 42,
   "id": "3dd495ab-f92f-453c-abc3-a4de28de0d1c",
   "metadata": {},
   "outputs": [],
   "source": [
    "for l in itertools.permutations(range(N)):\n",
    "    flg = True\n",
    "    for i in range(N-1):\n",
    "        for j in range(i+1, N):\n",
    "            if j in graph1[i]:\n",
    "                if l[j] not in graph2[l[i]]: \n",
    "                    flg = False\n",
    "                    break\n",
    "#                     print('false 1 i, j {0}:{1}'.format(i, j))\n",
    "#                     print('false 1 li, lj {0}:{1}'.format(l[i], l[j]))\n",
    "            else:\n",
    "                if l[j] in graph2[l[i]]: \n",
    "                    flg = False\n",
    "                    break\n",
    "#                     print('false 1 i, j {0}:{1}'.format(i, j))\n",
    "#                     print('false 1 li, lj {0}:{1}'.format(l[i], l[j]))\n",
    "    if flg:\n",
    "        break\n",
    "                "
   ]
  },
  {
   "cell_type": "code",
   "execution_count": 44,
   "id": "0f8f1da3-9d77-45b6-991b-e87e9b9792d7",
   "metadata": {},
   "outputs": [
    {
     "name": "stdout",
     "output_type": "stream",
     "text": [
      "Yes\n"
     ]
    }
   ],
   "source": [
    "if flg:\n",
    "    print('Yes')\n",
    "else:\n",
    "    print('No')"
   ]
  },
  {
   "cell_type": "code",
   "execution_count": 35,
   "id": "0721e40c-d022-45c0-b8b4-79046e3cdc98",
   "metadata": {},
   "outputs": [
    {
     "data": {
      "text/plain": [
       "([[1, 2, 3], [0], [0, 3], [0, 2], []], [[2, 3], [2], [0, 1, 3], [0, 2], []])"
      ]
     },
     "execution_count": 35,
     "metadata": {},
     "output_type": "execute_result"
    }
   ],
   "source": [
    "graph1, graph2"
   ]
  },
  {
   "cell_type": "code",
   "execution_count": 19,
   "id": "6d0fe2f5-7e9a-42d1-b5e3-fa4745a5d57f",
   "metadata": {},
   "outputs": [
    {
     "data": {
      "text/plain": [
       "([2, 3, 4], 1, 2)"
      ]
     },
     "execution_count": 19,
     "metadata": {},
     "output_type": "execute_result"
    }
   ],
   "source": [
    "graph1[i], i, j"
   ]
  },
  {
   "cell_type": "code",
   "execution_count": 28,
   "id": "b0bc3ae8-4249-41d3-8f78-28fd224b264e",
   "metadata": {},
   "outputs": [
    {
     "data": {
      "text/plain": [
       "((1, 2, 3, 4), 4)"
      ]
     },
     "execution_count": 28,
     "metadata": {},
     "output_type": "execute_result"
    }
   ],
   "source": [
    "l, j"
   ]
  },
  {
   "cell_type": "code",
   "execution_count": 5,
   "id": "583ee47e-fd9a-4300-b682-3cbc323b5b77",
   "metadata": {},
   "outputs": [
    {
     "data": {
      "text/plain": [
       "([[1, 2], [1, 3], [1, 4], [3, 4]], [[1, 3], [1, 4], [2, 3], [3, 4]])"
      ]
     },
     "execution_count": 5,
     "metadata": {},
     "output_type": "execute_result"
    }
   ],
   "source": [
    "AB, CD"
   ]
  },
  {
   "cell_type": "code",
   "execution_count": 25,
   "id": "d4c96262-deea-4979-8d43-f6e686a3fca0",
   "metadata": {},
   "outputs": [
    {
     "name": "stdout",
     "output_type": "stream",
     "text": [
      "(1, 2, 3, 4)\n",
      "(1, 2, 4, 3)\n",
      "(1, 3, 2, 4)\n",
      "(1, 3, 4, 2)\n",
      "(1, 4, 2, 3)\n",
      "(1, 4, 3, 2)\n",
      "(2, 1, 3, 4)\n",
      "(2, 1, 4, 3)\n",
      "(2, 3, 1, 4)\n",
      "(2, 3, 4, 1)\n",
      "(2, 4, 1, 3)\n",
      "(2, 4, 3, 1)\n",
      "(3, 1, 2, 4)\n",
      "(3, 1, 4, 2)\n",
      "(3, 2, 1, 4)\n",
      "(3, 2, 4, 1)\n",
      "(3, 4, 1, 2)\n",
      "(3, 4, 2, 1)\n",
      "(4, 1, 2, 3)\n",
      "(4, 1, 3, 2)\n",
      "(4, 2, 1, 3)\n",
      "(4, 2, 3, 1)\n",
      "(4, 3, 1, 2)\n",
      "(4, 3, 2, 1)\n"
     ]
    }
   ],
   "source": [
    "for l in itertools.permutations(range(1, N+1)):\n",
    "    print(l)"
   ]
  },
  {
   "cell_type": "code",
   "execution_count": null,
   "id": "cfd1613f-65d2-428c-8374-3371177e6821",
   "metadata": {},
   "outputs": [],
   "source": []
  }
 ],
 "metadata": {
  "kernelspec": {
   "display_name": "Python 3",
   "language": "python",
   "name": "python3"
  },
  "language_info": {
   "codemirror_mode": {
    "name": "ipython",
    "version": 3
   },
   "file_extension": ".py",
   "mimetype": "text/x-python",
   "name": "python",
   "nbconvert_exporter": "python",
   "pygments_lexer": "ipython3",
   "version": "3.6.13"
  }
 },
 "nbformat": 4,
 "nbformat_minor": 5
}
