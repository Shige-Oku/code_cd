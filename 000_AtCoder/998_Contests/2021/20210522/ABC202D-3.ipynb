{
 "cells": [
  {
   "cell_type": "code",
   "execution_count": null,
   "id": "2ce31c46-f21e-4391-9973-3c534128897d",
   "metadata": {},
   "outputs": [],
   "source": [
    "# 解説を読んで実装"
   ]
  },
  {
   "cell_type": "code",
   "execution_count": 1,
   "id": "1fe688cd-c7bf-4266-b3c9-e4f1acd67485",
   "metadata": {},
   "outputs": [],
   "source": [
    "import sys\n",
    "import numpy as np\n",
    "import math\n",
    "import collections\n",
    "import copy\n",
    "import decimal\n",
    "import itertools\n",
    "import re\n",
    "import bisect\n",
    "import scipy\n",
    "import heapq\n",
    "from collections import deque \n",
    "from functools import reduce\n",
    "from itertools import product\n",
    "from itertools import combinations\n",
    "from itertools import chain\n",
    "from functools import lru_cache\n",
    "from scipy.special import comb\n",
    "from numba import njit\n",
    "from bisect import bisect_right\n",
    "from bisect import bisect_left"
   ]
  },
  {
   "cell_type": "code",
   "execution_count": 3,
   "id": "513de462-a372-48c4-abd3-1ab04b82d03c",
   "metadata": {},
   "outputs": [],
   "source": [
    "sys.setrecursionlimit(10**7)"
   ]
  },
  {
   "cell_type": "code",
   "execution_count": 12,
   "id": "68db6acf-9c93-4007-bfc4-81bdcd4369de",
   "metadata": {},
   "outputs": [
    {
     "name": "stdin",
     "output_type": "stream",
     "text": [
      " 30 30 118264581564861424\n"
     ]
    }
   ],
   "source": [
    "A, B, K = map(int, input().split())"
   ]
  },
  {
   "cell_type": "code",
   "execution_count": 13,
   "id": "1e2ed898-8d11-4631-8a57-7e625663fdf1",
   "metadata": {},
   "outputs": [],
   "source": [
    "factorial_table = [1] * (A+B+1)\n",
    "for i in range(1, len(factorial_table)):\n",
    "    factorial_table[i] = factorial_table[i-1] * i"
   ]
  },
  {
   "cell_type": "code",
   "execution_count": 14,
   "id": "bee065cf-98bd-4a4a-9b1c-eddd03460516",
   "metadata": {},
   "outputs": [],
   "source": [
    "def aCb(n, a):\n",
    "    return factorial_table[n] // (factorial_table[n-a]*factorial_table[a])"
   ]
  },
  {
   "cell_type": "code",
   "execution_count": 17,
   "id": "d9b74565-aa47-4cb7-8223-4704c077e074",
   "metadata": {},
   "outputs": [],
   "source": [
    "def DFS(a, b, k):\n",
    "#     ret = ''\n",
    "    if a <= 0:\n",
    "        return 'b' * b\n",
    "    if b <= 0:\n",
    "        return 'a' * a\n",
    "    if k <= aCb(a+b-1, b):\n",
    "        return 'a' + DFS(a-1, b, k)\n",
    "    else:\n",
    "        return 'b' + DFS(a, b-1, k-aCb(a+b-1, b))\n",
    "#     return ret"
   ]
  },
  {
   "cell_type": "code",
   "execution_count": 18,
   "id": "c30fe9be-b935-480e-96e6-f6c4a5a85cb5",
   "metadata": {},
   "outputs": [
    {
     "name": "stdout",
     "output_type": "stream",
     "text": [
      "bbbbbbbbbbbbbbbbbbbbbbbbbbbbbbaaaaaaaaaaaaaaaaaaaaaaaaaaaaaa\n"
     ]
    }
   ],
   "source": [
    "print(DFS(A, B, K))"
   ]
  },
  {
   "cell_type": "code",
   "execution_count": null,
   "id": "cd696f35-e1af-456d-aaf9-f894d7cce9fe",
   "metadata": {},
   "outputs": [],
   "source": []
  }
 ],
 "metadata": {
  "kernelspec": {
   "display_name": "Python 3",
   "language": "python",
   "name": "python3"
  },
  "language_info": {
   "codemirror_mode": {
    "name": "ipython",
    "version": 3
   },
   "file_extension": ".py",
   "mimetype": "text/x-python",
   "name": "python",
   "nbconvert_exporter": "python",
   "pygments_lexer": "ipython3",
   "version": "3.6.13"
  }
 },
 "nbformat": 4,
 "nbformat_minor": 5
}
