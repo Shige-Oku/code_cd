{
 "cells": [
  {
   "cell_type": "code",
   "execution_count": null,
   "id": "f06161fb-dbc4-4c4e-8cec-8efb8edc2378",
   "metadata": {},
   "outputs": [],
   "source": [
    "# はまやんさんの解説を読んで実装"
   ]
  },
  {
   "cell_type": "code",
   "execution_count": 1,
   "id": "45266159-fd39-4feb-92e5-fdd8822a037f",
   "metadata": {},
   "outputs": [],
   "source": [
    "import sys\n",
    "import numpy as np\n",
    "import math\n",
    "import collections\n",
    "import copy\n",
    "import decimal\n",
    "import itertools\n",
    "import re\n",
    "import bisect\n",
    "import scipy\n",
    "import heapq\n",
    "from collections import deque \n",
    "from functools import reduce\n",
    "from itertools import product\n",
    "from itertools import combinations\n",
    "from itertools import chain\n",
    "from functools import lru_cache\n",
    "from scipy.special import comb\n",
    "from numba import njit\n",
    "from bisect import bisect_right\n",
    "from bisect import bisect_left"
   ]
  },
  {
   "cell_type": "code",
   "execution_count": 41,
   "id": "20fa9db0-d4d0-4cec-a937-9de950254d10",
   "metadata": {},
   "outputs": [
    {
     "name": "stdin",
     "output_type": "stream",
     "text": [
      " 30 30 118264581564861424\n"
     ]
    }
   ],
   "source": [
    "A, B, K = map(int, input().split())"
   ]
  },
  {
   "cell_type": "code",
   "execution_count": 42,
   "id": "c293bb17-3ad0-4f83-bba3-56b6a467f25e",
   "metadata": {},
   "outputs": [],
   "source": [
    "factorial_table = [1] * (A+B+1)\n",
    "for i in range(1, len(factorial_table)):\n",
    "    factorial_table[i] = factorial_table[i-1] * i"
   ]
  },
  {
   "cell_type": "code",
   "execution_count": 43,
   "id": "d7d396ac-d266-4f71-a607-1ec66d2630f5",
   "metadata": {},
   "outputs": [],
   "source": [
    "def aCb(n, a):\n",
    "    return factorial_table[n] // (factorial_table[n-a]*factorial_table[a])"
   ]
  },
  {
   "cell_type": "code",
   "execution_count": 44,
   "id": "d88a371f-39a6-49de-b386-38273101e6b8",
   "metadata": {},
   "outputs": [],
   "source": [
    "ans = ''\n",
    "a, b, k = A, B, K\n",
    "for _ in range(A+B):\n",
    "#     print(a, b, k)\n",
    "    if a > 0:\n",
    "        if k <= aCb(a+b-1, b):\n",
    "            ans += 'a'\n",
    "            a -= 1\n",
    "        else:\n",
    "            ans += 'b'\n",
    "            k -= aCb(a+b-1, b)\n",
    "            b -= 1\n",
    "    else:\n",
    "        ans += 'b'\n",
    "        b -= 1\n",
    "#     print(ans)"
   ]
  },
  {
   "cell_type": "code",
   "execution_count": 45,
   "id": "9636408d-9587-48ef-86f5-4c465bf0e819",
   "metadata": {},
   "outputs": [
    {
     "name": "stdout",
     "output_type": "stream",
     "text": [
      "bbbbbbbbbbbbbbbbbbbbbbbbbbbbbbaaaaaaaaaaaaaaaaaaaaaaaaaaaaaa\n"
     ]
    }
   ],
   "source": [
    "print(ans)"
   ]
  },
  {
   "cell_type": "code",
   "execution_count": 30,
   "id": "f0d8a4d8-d509-4c00-814e-362254c5fade",
   "metadata": {},
   "outputs": [
    {
     "data": {
      "text/plain": [
       "[1, 1, 2, 6, 24]"
      ]
     },
     "execution_count": 30,
     "metadata": {},
     "output_type": "execute_result"
    }
   ],
   "source": [
    "factorial_table"
   ]
  },
  {
   "cell_type": "code",
   "execution_count": 8,
   "id": "528620a3-5e60-44ad-8741-931eeff5a225",
   "metadata": {},
   "outputs": [
    {
     "data": {
      "text/plain": [
       "(2, -2, 0)"
      ]
     },
     "execution_count": 8,
     "metadata": {},
     "output_type": "execute_result"
    }
   ],
   "source": [
    "a, b, k"
   ]
  },
  {
   "cell_type": "code",
   "execution_count": null,
   "id": "d5cb8c6f-c4d1-4527-a467-b2b2917099eb",
   "metadata": {},
   "outputs": [],
   "source": []
  }
 ],
 "metadata": {
  "kernelspec": {
   "display_name": "Python 3",
   "language": "python",
   "name": "python3"
  },
  "language_info": {
   "codemirror_mode": {
    "name": "ipython",
    "version": 3
   },
   "file_extension": ".py",
   "mimetype": "text/x-python",
   "name": "python",
   "nbconvert_exporter": "python",
   "pygments_lexer": "ipython3",
   "version": "3.6.13"
  }
 },
 "nbformat": 4,
 "nbformat_minor": 5
}
