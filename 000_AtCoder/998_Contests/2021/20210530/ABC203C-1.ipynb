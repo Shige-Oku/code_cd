{
 "cells": [
  {
   "cell_type": "code",
   "execution_count": 1,
   "id": "d5909b19-4184-4dff-928e-2110c603eccd",
   "metadata": {},
   "outputs": [],
   "source": [
    "import sys\n",
    "import numpy as np\n",
    "import math\n",
    "import collections\n",
    "import copy\n",
    "import decimal\n",
    "import itertools\n",
    "import re\n",
    "import bisect\n",
    "import scipy\n",
    "import heapq\n",
    "from collections import deque \n",
    "from functools import reduce\n",
    "from itertools import product\n",
    "from itertools import combinations\n",
    "from itertools import chain\n",
    "from functools import lru_cache\n",
    "from scipy.special import comb\n",
    "from numba import njit\n",
    "from bisect import bisect_right\n",
    "from bisect import bisect_left"
   ]
  },
  {
   "cell_type": "code",
   "execution_count": 2,
   "id": "42a9be8d-93f5-418e-a455-bb9fb1763ddd",
   "metadata": {},
   "outputs": [
    {
     "name": "stdin",
     "output_type": "stream",
     "text": [
      " 3 2\n"
     ]
    }
   ],
   "source": [
    "N, K = map(int, input().split())"
   ]
  },
  {
   "cell_type": "code",
   "execution_count": 25,
   "id": "a5fd484f-881c-4d8a-9727-bdbeacfa14bc",
   "metadata": {},
   "outputs": [
    {
     "name": "stdin",
     "output_type": "stream",
     "text": [
      " 5 5\n",
      " 2 1\n",
      " 2 2\n"
     ]
    }
   ],
   "source": [
    "AB = [list(map(int, input().split())) for _ in range(N)]"
   ]
  },
  {
   "cell_type": "code",
   "execution_count": 32,
   "id": "660930e3-1215-423b-997e-c358cc03a8b4",
   "metadata": {},
   "outputs": [],
   "source": [
    "AB_s = sorted(AB)\n",
    "AB2 = []\n",
    "AB2.append([AB_s[0][0], AB_s[0][1]])\n",
    "cnt = 0\n",
    "for i in range(1, N):\n",
    "    if AB_s[i][0] == AB2[cnt][0]:\n",
    "        AB2[cnt][1] += AB_s[i][1]\n",
    "    else:\n",
    "        AB2.append([AB_s[i][0], AB_s[i][1]])\n",
    "        cnt += 1\n",
    "#     print(AB2[cnt])"
   ]
  },
  {
   "cell_type": "code",
   "execution_count": 33,
   "id": "907c33e4-1a99-4052-af96-134446a275b4",
   "metadata": {},
   "outputs": [
    {
     "data": {
      "text/plain": [
       "([[5, 5], [2, 1], [2, 2]], [[2, 3], [5, 5]], [[2, 1], [2, 2], [5, 5]])"
      ]
     },
     "execution_count": 33,
     "metadata": {},
     "output_type": "execute_result"
    }
   ],
   "source": [
    "AB, AB2, AB_s"
   ]
  },
  {
   "cell_type": "code",
   "execution_count": 34,
   "id": "b08ca041-e4e8-4cf4-a74f-6ba5064dfcb9",
   "metadata": {},
   "outputs": [
    {
     "name": "stdout",
     "output_type": "stream",
     "text": [
      "2 0\n",
      "3 2 3\n",
      "3 2\n",
      "3 5 5\n"
     ]
    }
   ],
   "source": [
    "ans = 0\n",
    "money = K\n",
    "for i in range(len(AB2)):\n",
    "    if money < AB2[i][0] - ans:\n",
    "        ans += money\n",
    "        break\n",
    "    money += AB2[i][1] - AB2[i][0]\n",
    "    ans += AB2[i][0]\n",
    "else:\n",
    "    ans += money\n"
   ]
  },
  {
   "cell_type": "code",
   "execution_count": 35,
   "id": "1d456245-954b-43b9-9556-a60f45a68b0c",
   "metadata": {},
   "outputs": [
    {
     "name": "stdout",
     "output_type": "stream",
     "text": [
      "10\n"
     ]
    }
   ],
   "source": [
    "print(ans)"
   ]
  },
  {
   "cell_type": "code",
   "execution_count": 14,
   "id": "f7fc60c3-adaf-4f16-8f4c-9bcdbede7be1",
   "metadata": {},
   "outputs": [
    {
     "data": {
      "text/plain": [
       "([[2, 4], [5, 5]], 4)"
      ]
     },
     "execution_count": 14,
     "metadata": {},
     "output_type": "execute_result"
    }
   ],
   "source": [
    "AB2, money"
   ]
  },
  {
   "cell_type": "code",
   "execution_count": 57,
   "id": "55d2717a-7e57-429c-8a46-511a3f41fde0",
   "metadata": {},
   "outputs": [],
   "source": [
    "AB_s = sorted(AB)\n",
    "ans = 0\n",
    "money = K\n",
    "for i in range(N):\n",
    "#     print(money, ans)\n",
    "    A, B = AB_s[i]\n",
    "    if ans != A and money < A - ans:\n",
    "        ans += money\n",
    "        break\n",
    "    money += B\n",
    "#     print(i, AB_s[:2], ans, money)\n",
    "    if i == 0 or AB_s[i-1][0] != A:\n",
    "#     if i == 0 or AB_s[i-1][0] != AB_s[i][0]:\n",
    "        money -= A\n",
    "        ans += A\n",
    "#     print(money, AB_s[i][0])\n",
    "else:\n",
    "    ans += money"
   ]
  },
  {
   "cell_type": "code",
   "execution_count": 57,
   "id": "5d724903-a669-4a18-a945-985bd7ecf24a",
   "metadata": {},
   "outputs": [],
   "source": [
    "AB_s = sorted(AB)\n",
    "ans = 0\n",
    "money = K\n",
    "for i in range(N):\n",
    "#     print(money, ans)\n",
    "    if ans != AB_s[i][0] and money < AB_s[i][0] - AB_s[i-1][0]:\n",
    "        ans += money\n",
    "        break\n",
    "    money += AB_s[i][1]\n",
    "#     print(i, AB_s[:2], ans, money)\n",
    "    if i == 0 or AB_s[i-1][0] != AB_s[i][0]:\n",
    "#     if i == 0 or AB_s[i-1][0] != AB_s[i][0]:\n",
    "        money -= AB_s[i][0]\n",
    "        ans += AB_s[i][0]\n",
    "#     print(money, AB_s[i][0])\n",
    "else:\n",
    "    ans += money"
   ]
  },
  {
   "cell_type": "code",
   "execution_count": 55,
   "id": "8ed036cf-ab54-44ca-9050-d1c239752fdc",
   "metadata": {},
   "outputs": [
    {
     "name": "stdout",
     "output_type": "stream",
     "text": [
      "10\n"
     ]
    }
   ],
   "source": [
    "print(ans)"
   ]
  },
  {
   "cell_type": "code",
   "execution_count": 53,
   "id": "7ab8d7f6-cc00-4d73-958b-af38c1633b95",
   "metadata": {},
   "outputs": [
    {
     "data": {
      "text/plain": [
       "([[2, 1], [2, 2], [5, 5]], 8)"
      ]
     },
     "execution_count": 53,
     "metadata": {},
     "output_type": "execute_result"
    }
   ],
   "source": [
    "AB_s, money"
   ]
  },
  {
   "cell_type": "code",
   "execution_count": null,
   "id": "c5cfd8e0-a665-46eb-bc07-e88e6a3462cf",
   "metadata": {},
   "outputs": [],
   "source": []
  },
  {
   "cell_type": "code",
   "execution_count": null,
   "id": "519ae567-ceb5-43fe-8e6f-5f0e0c91c5d6",
   "metadata": {},
   "outputs": [],
   "source": []
  }
 ],
 "metadata": {
  "kernelspec": {
   "display_name": "Python 3",
   "language": "python",
   "name": "python3"
  },
  "language_info": {
   "codemirror_mode": {
    "name": "ipython",
    "version": 3
   },
   "file_extension": ".py",
   "mimetype": "text/x-python",
   "name": "python",
   "nbconvert_exporter": "python",
   "pygments_lexer": "ipython3",
   "version": "3.6.13"
  }
 },
 "nbformat": 4,
 "nbformat_minor": 5
}
