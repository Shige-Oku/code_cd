{
 "cells": [
  {
   "cell_type": "code",
   "execution_count": 3,
   "id": "9f56a996-acb3-4299-88c2-b59ed51cc69d",
   "metadata": {},
   "outputs": [],
   "source": [
    "import sys\n",
    "import numpy as np\n",
    "import math\n",
    "import collections\n",
    "import copy\n",
    "import decimal\n",
    "import itertools\n",
    "import re\n",
    "import bisect\n",
    "import scipy\n",
    "import heapq\n",
    "from collections import deque \n",
    "from functools import reduce\n",
    "from itertools import product\n",
    "from itertools import combinations\n",
    "from itertools import chain\n",
    "from functools import lru_cache\n",
    "from scipy.special import comb\n",
    "from numba import njit\n",
    "from bisect import bisect_right\n",
    "from bisect import bisect_left"
   ]
  },
  {
   "cell_type": "code",
   "execution_count": 8,
   "id": "578db321-ed54-41ba-8f4a-534283e72321",
   "metadata": {},
   "outputs": [
    {
     "name": "stdin",
     "output_type": "stream",
     "text": [
      " 3 2\n"
     ]
    }
   ],
   "source": [
    "N, K = map(int, input().split())"
   ]
  },
  {
   "cell_type": "code",
   "execution_count": 9,
   "id": "1adc5500-426f-4132-bd00-1b63f8f24725",
   "metadata": {},
   "outputs": [
    {
     "name": "stdin",
     "output_type": "stream",
     "text": [
      " 5 5\n",
      " 2 1\n",
      " 2 2\n"
     ]
    }
   ],
   "source": [
    "AB = [list(map(int, input().split())) for _ in range(N)]"
   ]
  },
  {
   "cell_type": "code",
   "execution_count": 20,
   "id": "b091d26d-aec7-40c6-b97e-1686f84fc320",
   "metadata": {},
   "outputs": [],
   "source": [
    "AB_s = sorted(AB)\n",
    "ans = 0\n",
    "money = K\n",
    "for i in range(N):\n",
    "    A, B = AB_s[i]\n",
    "    if money - (A - ans) < 0 and ans != A:\n",
    "        ans += money\n",
    "        break\n",
    "    money += B\n",
    "    if i == 0 or A != AB_s[i-1][0]:\n",
    "        money -= A\n",
    "        ans += A\n",
    "else:\n",
    "    ans += money"
   ]
  },
  {
   "cell_type": "code",
   "execution_count": 21,
   "id": "79b3e53a-5ef6-42f9-bcb9-615044c4d3b9",
   "metadata": {},
   "outputs": [
    {
     "name": "stdout",
     "output_type": "stream",
     "text": [
      "10\n"
     ]
    }
   ],
   "source": [
    "print(ans)"
   ]
  },
  {
   "cell_type": "code",
   "execution_count": 14,
   "id": "487a0845-40de-4db3-bdef-fe57bd08ccf7",
   "metadata": {},
   "outputs": [
    {
     "data": {
      "text/plain": [
       "(1, [[2, 1], [2, 2], [5, 5]])"
      ]
     },
     "execution_count": 14,
     "metadata": {},
     "output_type": "execute_result"
    }
   ],
   "source": [
    "money, AB_s"
   ]
  },
  {
   "cell_type": "code",
   "execution_count": null,
   "id": "a90a0623-ae16-4d2f-af9a-2c3c432ef6fd",
   "metadata": {},
   "outputs": [],
   "source": []
  }
 ],
 "metadata": {
  "kernelspec": {
   "display_name": "Python 3",
   "language": "python",
   "name": "python3"
  },
  "language_info": {
   "codemirror_mode": {
    "name": "ipython",
    "version": 3
   },
   "file_extension": ".py",
   "mimetype": "text/x-python",
   "name": "python",
   "nbconvert_exporter": "python",
   "pygments_lexer": "ipython3",
   "version": "3.6.13"
  }
 },
 "nbformat": 4,
 "nbformat_minor": 5
}
