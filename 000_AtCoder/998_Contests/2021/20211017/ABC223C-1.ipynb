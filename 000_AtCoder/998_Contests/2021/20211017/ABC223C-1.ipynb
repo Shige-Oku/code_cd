{
 "cells": [
  {
   "cell_type": "code",
   "execution_count": 1,
   "id": "30686bcb-5803-4d29-ae8d-9cdf41072d2a",
   "metadata": {},
   "outputs": [],
   "source": [
    "import numpy as np\n",
    "import math\n",
    "import collections\n",
    "import copy\n",
    "import decimal\n",
    "import itertools\n",
    "import re\n",
    "import bisect\n",
    "import scipy\n",
    "import heapq\n",
    "import array\n",
    "from collections import deque\n",
    "from functools import reduce\n",
    "from itertools import product\n",
    "from itertools import combinations\n",
    "from itertools import chain\n",
    "from functools import lru_cache\n",
    "from scipy.special import comb\n",
    "from numba import njit\n",
    "from bisect import bisect_right\n",
    "from bisect import bisect_left"
   ]
  },
  {
   "cell_type": "code",
   "execution_count": 57,
   "id": "d06a1cd2-a441-42ba-887e-97edcc8b8310",
   "metadata": {},
   "outputs": [
    {
     "name": "stdin",
     "output_type": "stream",
     "text": [
      " 5\n"
     ]
    }
   ],
   "source": [
    "N = int(input())"
   ]
  },
  {
   "cell_type": "code",
   "execution_count": 58,
   "id": "630933a1-9ce4-44fb-a3f8-b9455ae0bc37",
   "metadata": {},
   "outputs": [
    {
     "name": "stdin",
     "output_type": "stream",
     "text": [
      " 3 9\n",
      " 1 2\n",
      " 4 6\n",
      " 1 5\n",
      " 5 3\n"
     ]
    }
   ],
   "source": [
    "AB = [list(map(int, input().split())) for _ in range(N)]"
   ]
  },
  {
   "cell_type": "code",
   "execution_count": 62,
   "id": "070e91f9-4a09-4427-8931-9d61a0925b34",
   "metadata": {},
   "outputs": [],
   "source": [
    "T = []\n",
    "for A, B in AB:\n",
    "    T.append(A / B)\n",
    "T_l = [T[0], ]\n",
    "for t in T[1:]:\n",
    "    T_l.append(T_l[-1] + t)\n",
    "T_r = [0, ]\n",
    "for t in T[::-1]:\n",
    "    T_r.append(T_r[-1] + t)\n",
    "T_r = T_r[::-1]"
   ]
  },
  {
   "cell_type": "code",
   "execution_count": 81,
   "id": "90197121-9132-4abe-bf66-ac5ae171016e",
   "metadata": {},
   "outputs": [
    {
     "name": "stdout",
     "output_type": "stream",
     "text": [
      "con ans:3\n",
      "con ans:4\n",
      "con ans:8\n",
      "8.833333333333334\n",
      "0.16666666666666674 0.9666666666666667 8.93 1.5 1.6666666666666667\n",
      "3\n"
     ]
    }
   ],
   "source": [
    "ans = 0\n",
    "for i, (A, B) in enumerate(AB):\n",
    "    if T_l[i] < T_r[i+1]:\n",
    "        ans += AB[i][0]\n",
    "        print('con ans:{0}'.format(ans))\n",
    "        continue\n",
    "    if T_l[i] == T_r[i+1]:\n",
    "        ans += AB[i][0]\n",
    "        break\n",
    "    a, b = AB[i]\n",
    "    if i == 0:\n",
    "        s = T_r[i]\n",
    "    else:\n",
    "        s = max(T_l[i-1], T_r[i+1]) - min(T_l[i-1], T_r[i+1])\n",
    "    k = a - (a * s / b)\n",
    "    ans += s * b\n",
    "    print(ans)\n",
    "    ans += k / (b * 2)\n",
    "    print(s, k, ans, T_l[i-1], T_r[i+1])\n",
    "    print(i)\n",
    "    break"
   ]
  },
  {
   "cell_type": "code",
   "execution_count": 80,
   "id": "097659d8-73a3-4517-bb91-8e95345138c9",
   "metadata": {},
   "outputs": [
    {
     "name": "stdout",
     "output_type": "stream",
     "text": [
      "8.93\n"
     ]
    }
   ],
   "source": [
    "print(ans)"
   ]
  },
  {
   "cell_type": "code",
   "execution_count": 32,
   "id": "f5ab3e34-4072-40e7-945d-0fdfee5667ae",
   "metadata": {},
   "outputs": [
    {
     "data": {
      "text/plain": [
       "(3, [[1, 3], [2, 2], [3, 1]])"
      ]
     },
     "execution_count": 32,
     "metadata": {},
     "output_type": "execute_result"
    }
   ],
   "source": [
    "N, AB"
   ]
  },
  {
   "cell_type": "code",
   "execution_count": 52,
   "id": "b6c3448f-c52c-40d3-92b8-93675de38aa6",
   "metadata": {},
   "outputs": [
    {
     "data": {
      "text/plain": [
       "0.5333333333333333"
      ]
     },
     "execution_count": 52,
     "metadata": {},
     "output_type": "execute_result"
    }
   ],
   "source": [
    "1.6/3"
   ]
  },
  {
   "cell_type": "code",
   "execution_count": 9,
   "id": "d035fdbd-a089-4f48-8450-53c0b244bb29",
   "metadata": {},
   "outputs": [
    {
     "data": {
      "text/plain": [
       "0.8333333333333334"
      ]
     },
     "execution_count": 9,
     "metadata": {},
     "output_type": "execute_result"
    }
   ],
   "source": [
    "5/6"
   ]
  },
  {
   "cell_type": "code",
   "execution_count": 63,
   "id": "5e7b758d-1911-45c9-956b-e97863d6925d",
   "metadata": {},
   "outputs": [
    {
     "data": {
      "text/plain": [
       "(0.3333333333333333,\n",
       " [0.3333333333333333, 0.8333333333333333, 1.5, 1.7, 3.3666666666666667],\n",
       " [3.3666666666666667,\n",
       "  3.033333333333333,\n",
       "  2.533333333333333,\n",
       "  1.8666666666666667,\n",
       "  1.6666666666666667,\n",
       "  0],\n",
       " 7.35)"
      ]
     },
     "execution_count": 63,
     "metadata": {},
     "output_type": "execute_result"
    }
   ],
   "source": [
    "t, T_l, T_r, ans"
   ]
  },
  {
   "cell_type": "code",
   "execution_count": 29,
   "id": "e0e27284-2875-4b06-ba39-3ee1ae75df40",
   "metadata": {},
   "outputs": [
    {
     "data": {
      "text/plain": [
       "3"
      ]
     },
     "execution_count": 29,
     "metadata": {},
     "output_type": "execute_result"
    }
   ],
   "source": [
    "ans"
   ]
  },
  {
   "cell_type": "code",
   "execution_count": 64,
   "id": "4dca57d4-9866-4155-bdd5-ae3ab7e4de63",
   "metadata": {},
   "outputs": [
    {
     "data": {
      "text/plain": [
       "[0.3333333333333333, 0.8333333333333333, 1.5, 1.7, 3.3666666666666667]"
      ]
     },
     "execution_count": 64,
     "metadata": {},
     "output_type": "execute_result"
    }
   ],
   "source": [
    "T_l"
   ]
  },
  {
   "cell_type": "code",
   "execution_count": 65,
   "id": "3de9badf-a1c8-406d-b2d0-bfeb5371a532",
   "metadata": {},
   "outputs": [
    {
     "data": {
      "text/plain": [
       "[3.3666666666666667,\n",
       " 3.033333333333333,\n",
       " 2.533333333333333,\n",
       " 1.8666666666666667,\n",
       " 1.6666666666666667,\n",
       " 0]"
      ]
     },
     "execution_count": 65,
     "metadata": {},
     "output_type": "execute_result"
    }
   ],
   "source": [
    "T_r"
   ]
  },
  {
   "cell_type": "code",
   "execution_count": null,
   "id": "f8fe6be1-a46b-4abb-bd0c-53985de67630",
   "metadata": {},
   "outputs": [],
   "source": []
  }
 ],
 "metadata": {
  "kernelspec": {
   "display_name": "Python 3",
   "language": "python",
   "name": "python3"
  },
  "language_info": {
   "codemirror_mode": {
    "name": "ipython",
    "version": 3
   },
   "file_extension": ".py",
   "mimetype": "text/x-python",
   "name": "python",
   "nbconvert_exporter": "python",
   "pygments_lexer": "ipython3",
   "version": "3.6.13"
  }
 },
 "nbformat": 4,
 "nbformat_minor": 5
}
