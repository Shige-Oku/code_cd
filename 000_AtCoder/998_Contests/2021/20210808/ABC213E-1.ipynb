{
 "cells": [
  {
   "cell_type": "code",
   "execution_count": null,
   "id": "709bea92-b4aa-4733-9c55-5da3d7fac59d",
   "metadata": {},
   "outputs": [],
   "source": [
    "# コンテスト終了後に再度実装"
   ]
  },
  {
   "cell_type": "code",
   "execution_count": 1,
   "id": "99396af7-8cea-4d85-8a87-dec4e1d50976",
   "metadata": {},
   "outputs": [],
   "source": [
    "import sys\n",
    "import numpy as np\n",
    "import math\n",
    "import collections\n",
    "import copy\n",
    "import decimal\n",
    "import itertools\n",
    "import re\n",
    "import bisect\n",
    "import scipy\n",
    "import heapq\n",
    "from collections import deque \n",
    "from functools import reduce\n",
    "from itertools import product\n",
    "from itertools import combinations\n",
    "from itertools import chain\n",
    "from functools import lru_cache\n",
    "from scipy.special import comb\n",
    "from numba import njit\n",
    "from bisect import bisect_right\n",
    "from bisect import bisect_left"
   ]
  },
  {
   "cell_type": "code",
   "execution_count": 43,
   "id": "5a8a81a8-f738-4164-bbb9-799ccde9d984",
   "metadata": {},
   "outputs": [
    {
     "name": "stdin",
     "output_type": "stream",
     "text": [
      " 8 8\n"
     ]
    }
   ],
   "source": [
    "H, W = map(int, input().split())"
   ]
  },
  {
   "cell_type": "code",
   "execution_count": 44,
   "id": "4ea54ab0-8004-481c-b352-1b82a6074f73",
   "metadata": {},
   "outputs": [
    {
     "name": "stdin",
     "output_type": "stream",
     "text": [
      " .#######\n",
      " ########\n",
      " ########\n",
      " ########\n",
      " ########\n",
      " ########\n",
      " ########\n",
      " #######.\n"
     ]
    }
   ],
   "source": [
    "Sn = [input() for _ in range(H)]"
   ]
  },
  {
   "cell_type": "code",
   "execution_count": 50,
   "id": "06c11144-c364-40d9-9160-c8d894811b29",
   "metadata": {},
   "outputs": [],
   "source": [
    "def BFS1():\n",
    "    q = deque()\n",
    "    q.append((0, 0, 0, False))\n",
    "    while q:\n",
    "        h, w, c, f = q.popleft()\n",
    "        if visit[h][w]:\n",
    "            continue\n",
    "        visit[h][w] = True\n",
    "        cnt[h][w] = c\n",
    "#         print(h, w, c, f)\n",
    "        for x, y in ((0, 1), (0, -1), (1, 0), (-1, 0)):\n",
    "            if h + x >= H or h + x < 0:\n",
    "                continue\n",
    "            if w + y >= W or w + y < 0:\n",
    "                continue\n",
    "#             if visit[h+x][w+y]:\n",
    "#                 continue\n",
    "            if Sn[h+x][w+y] == '#':\n",
    "                continue\n",
    "            q.appendleft((h+x, w+y, c, False))\n",
    "        for x2 in range(-2, 3):\n",
    "            for y2 in range(-2, 3):\n",
    "                if (x2, y2) in ((-2, -2), (-2, 2), (2, -2), (2, 2)):\n",
    "                    continue\n",
    "                if h + x2 >= H or h + x2 < 0:\n",
    "                    continue\n",
    "                if w + y2 >= W or w + y2 < 0:\n",
    "                    continue\n",
    "                if visit[h+x2][w+y2]:\n",
    "                    continue\n",
    "                q.append((h+x2, w+y2, c+1, True))\n",
    "            \n",
    "    return"
   ]
  },
  {
   "cell_type": "code",
   "execution_count": 51,
   "id": "2c35b8c8-d4b9-4e81-b778-b8cff46a79fc",
   "metadata": {},
   "outputs": [],
   "source": [
    "visit = [[False] * W for _ in range(H)]\n",
    "cnt = [[0] * W for _ in range(H)]\n",
    "BFS1()"
   ]
  },
  {
   "cell_type": "code",
   "execution_count": 52,
   "id": "ecdfd470-cb29-425b-8720-96bd74aa8cb7",
   "metadata": {},
   "outputs": [
    {
     "name": "stdout",
     "output_type": "stream",
     "text": [
      "5\n"
     ]
    }
   ],
   "source": [
    "print(cnt[H-1][W-1])"
   ]
  },
  {
   "cell_type": "code",
   "execution_count": 53,
   "id": "03bf052a-0f5d-4792-a028-3829f756a9b9",
   "metadata": {},
   "outputs": [
    {
     "data": {
      "text/plain": [
       "[[0, 1, 1, 2, 2, 3, 3, 4],\n",
       " [1, 1, 1, 2, 2, 3, 3, 4],\n",
       " [1, 1, 2, 2, 2, 3, 3, 4],\n",
       " [2, 2, 2, 2, 3, 3, 3, 4],\n",
       " [2, 2, 2, 3, 3, 3, 4, 4],\n",
       " [3, 3, 3, 3, 3, 4, 4, 4],\n",
       " [3, 3, 3, 3, 4, 4, 4, 5],\n",
       " [4, 4, 4, 4, 4, 4, 5, 5]]"
      ]
     },
     "execution_count": 53,
     "metadata": {},
     "output_type": "execute_result"
    }
   ],
   "source": [
    "cnt"
   ]
  },
  {
   "cell_type": "code",
   "execution_count": 49,
   "id": "ebd187a7-a550-4754-9d83-ab832ee4ca17",
   "metadata": {},
   "outputs": [
    {
     "data": {
      "text/plain": [
       "[[True, False, False, False, False, False, False, False],\n",
       " [False, False, False, False, False, False, False, False],\n",
       " [False, False, False, False, False, False, False, False],\n",
       " [False, False, False, False, False, False, False, False],\n",
       " [False, False, False, False, False, False, False, False],\n",
       " [False, False, False, False, False, False, False, False],\n",
       " [False, False, False, False, False, False, False, False],\n",
       " [False, False, False, False, False, False, False, False]]"
      ]
     },
     "execution_count": 49,
     "metadata": {},
     "output_type": "execute_result"
    }
   ],
   "source": [
    "visit"
   ]
  },
  {
   "cell_type": "code",
   "execution_count": 58,
   "id": "213831a8-cc6c-4f29-b36b-1e84f92226d4",
   "metadata": {},
   "outputs": [],
   "source": [
    "def BFS():\n",
    "    q = []\n",
    "    heapq.heappush(q, (0, 0, 0))\n",
    "    while q:\n",
    "        c, h, w = heapq.heappop(q)\n",
    "        if visit[h][w]:\n",
    "            continue\n",
    "        visit[h][w] = True\n",
    "        cnt[h][w] = c\n",
    "        if h + 1 == H and w + 1 == W:\n",
    "            break\n",
    "#         print(h, w, c)\n",
    "        for x, y in ((0, 1), (0, -1), (1, 0), (-1, 0)):\n",
    "            if h + x >= H or h + x < 0:\n",
    "                continue\n",
    "            if w + y >= W or w + y < 0:\n",
    "                continue\n",
    "#             if visit[h+x][w+y]:\n",
    "#                 continue\n",
    "            if Sn[h+x][w+y] == '#':\n",
    "                continue\n",
    "            heapq.heappush(q, (c, h+x, w+y))\n",
    "        for x2 in range(-2, 3):\n",
    "            for y2 in range(-2, 3):\n",
    "                if (x2, y2) in ((-2, -2), (-2, 2), (2, -2), (2, 2)):\n",
    "                    continue\n",
    "                if h + x2 >= H or h + x2 < 0:\n",
    "                    continue\n",
    "                if w + y2 >= W or w + y2 < 0:\n",
    "                    continue\n",
    "                if visit[h+x2][w+y2]:\n",
    "                    continue\n",
    "                heapq.heappush(q, (c+1, h+x2, w+y2))\n",
    "            \n",
    "    return"
   ]
  },
  {
   "cell_type": "code",
   "execution_count": 59,
   "id": "6ef22132-be38-491a-8408-77ad560c9dd8",
   "metadata": {},
   "outputs": [],
   "source": [
    "visit = [[False] * W for _ in range(H)]\n",
    "cnt = [[0] * W for _ in range(H)]\n",
    "BFS()"
   ]
  },
  {
   "cell_type": "code",
   "execution_count": 60,
   "id": "67a7a894-1541-43fe-85e6-a4f4269b52ee",
   "metadata": {},
   "outputs": [
    {
     "name": "stdout",
     "output_type": "stream",
     "text": [
      "5\n"
     ]
    }
   ],
   "source": [
    "print(cnt[H-1][W-1])"
   ]
  },
  {
   "cell_type": "code",
   "execution_count": 61,
   "id": "ab002b83-5273-4924-8bdb-c9eac2f6d4d7",
   "metadata": {},
   "outputs": [
    {
     "data": {
      "text/plain": [
       "[[0, 1, 2, 3, 3, 4, 4, 5],\n",
       " [2, 2, 2, 3, 3, 4, 4, 5],\n",
       " [2, 2, 3, 3, 3, 4, 4, 5],\n",
       " [3, 3, 3, 3, 4, 4, 4, 5],\n",
       " [3, 3, 3, 4, 4, 4, 5, 5],\n",
       " [4, 4, 4, 4, 4, 5, 5, 5],\n",
       " [4, 4, 4, 4, 5, 5, 5, 5],\n",
       " [5, 5, 5, 5, 5, 5, 5, 5]]"
      ]
     },
     "execution_count": 61,
     "metadata": {},
     "output_type": "execute_result"
    }
   ],
   "source": [
    "cnt"
   ]
  },
  {
   "cell_type": "code",
   "execution_count": 19,
   "id": "624fb597-0391-4543-8500-2775f2ae68a1",
   "metadata": {},
   "outputs": [
    {
     "data": {
      "text/plain": [
       "[[True, True, True, True, True],\n",
       " [True, True, True, True, True],\n",
       " [True, True, True, True, True],\n",
       " [True, True, True, True, True],\n",
       " [True, True, True, True, True]]"
      ]
     },
     "execution_count": 19,
     "metadata": {},
     "output_type": "execute_result"
    }
   ],
   "source": [
    "visit"
   ]
  },
  {
   "cell_type": "code",
   "execution_count": null,
   "id": "f2130dc2-6045-48a8-935c-02f417b518f0",
   "metadata": {},
   "outputs": [],
   "source": []
  }
 ],
 "metadata": {
  "kernelspec": {
   "display_name": "Python 3",
   "language": "python",
   "name": "python3"
  },
  "language_info": {
   "codemirror_mode": {
    "name": "ipython",
    "version": 3
   },
   "file_extension": ".py",
   "mimetype": "text/x-python",
   "name": "python",
   "nbconvert_exporter": "python",
   "pygments_lexer": "ipython3",
   "version": "3.6.13"
  }
 },
 "nbformat": 4,
 "nbformat_minor": 5
}
