{
 "cells": [
  {
   "cell_type": "code",
   "execution_count": null,
   "metadata": {},
   "outputs": [],
   "source": [
    "# サンプルが合わない"
   ]
  },
  {
   "cell_type": "code",
   "execution_count": 1,
   "metadata": {},
   "outputs": [],
   "source": [
    "import sys\n",
    "import numpy as np\n",
    "import math\n",
    "import collections\n",
    "import copy\n",
    "import decimal\n",
    "import itertools\n",
    "import re\n",
    "import bisect\n",
    "from collections import deque \n",
    "from functools import reduce\n",
    "from itertools import product\n",
    "from itertools import combinations\n",
    "from functools import lru_cache"
   ]
  },
  {
   "cell_type": "code",
   "execution_count": 22,
   "metadata": {},
   "outputs": [
    {
     "name": "stdin",
     "output_type": "stream",
     "text": [
      " 31415\n"
     ]
    }
   ],
   "source": [
    "K = int(input())"
   ]
  },
  {
   "cell_type": "code",
   "execution_count": 23,
   "metadata": {},
   "outputs": [],
   "source": [
    "# 約数のリスト作成\n",
    "def get_divisor_list_without_sqrt(number):\n",
    "    number_sqrt = int(np.sqrt(number)) + 1\n",
    "    divisors = []\n",
    "    for i in range(1, int(number_sqrt)):\n",
    "        if number % i == 0:\n",
    "            # 割り切れたので約数\n",
    "            divisors.append(i)\n",
    "            if i ** 2 != number:\n",
    "                divisors.append(number // i)\n",
    "    return sorted(divisors)"
   ]
  },
  {
   "cell_type": "code",
   "execution_count": 24,
   "metadata": {},
   "outputs": [],
   "source": [
    "divisors = get_divisor_list_without_sqrt(K)\n",
    "ans = 0\n",
    "for i in range(len(divisors)):\n",
    "    for j in range(i, len(divisors)):\n",
    "        if i * j > K:\n",
    "            break\n",
    "        for k in range(j, len(divisors)):\n",
    "            if i * j * k > K:\n",
    "                break\n",
    "            if i == j == 1:\n",
    "                ans += 1\n",
    "            elif i == j or i == k or j == k:\n",
    "                ans += 3\n",
    "            elif i < k and j < k:\n",
    "                ans += (K-1)*6\n",
    "            elif i > k and j > k:\n",
    "                ans += k\n",
    "            elif i == k or j == k:\n",
    "                ans += 3\n",
    "            else:\n",
    "                ans += k * 6 -3"
   ]
  },
  {
   "cell_type": "code",
   "execution_count": 25,
   "metadata": {},
   "outputs": [
    {
     "name": "stdout",
     "output_type": "stream",
     "text": [
      "514\n"
     ]
    }
   ],
   "source": [
    "print(ans)"
   ]
  },
  {
   "cell_type": "code",
   "execution_count": 26,
   "metadata": {},
   "outputs": [
    {
     "data": {
      "text/plain": [
       "[1, 5, 61, 103, 305, 515, 6283, 31415]"
      ]
     },
     "execution_count": 26,
     "metadata": {},
     "output_type": "execute_result"
    }
   ],
   "source": [
    "divisors"
   ]
  },
  {
   "cell_type": "code",
   "execution_count": null,
   "metadata": {},
   "outputs": [],
   "source": []
  }
 ],
 "metadata": {
  "kernelspec": {
   "display_name": "Python 3",
   "language": "python",
   "name": "python3"
  },
  "language_info": {
   "codemirror_mode": {
    "name": "ipython",
    "version": 3
   },
   "file_extension": ".py",
   "mimetype": "text/x-python",
   "name": "python",
   "nbconvert_exporter": "python",
   "pygments_lexer": "ipython3",
   "version": "3.6.10"
  }
 },
 "nbformat": 4,
 "nbformat_minor": 4
}
