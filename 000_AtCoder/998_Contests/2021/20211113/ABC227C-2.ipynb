{
 "cells": [
  {
   "cell_type": "code",
   "execution_count": null,
   "id": "669025a5-9643-4156-b68d-7a3f75362e9d",
   "metadata": {},
   "outputs": [],
   "source": [
    "# 解説を読んで実装"
   ]
  },
  {
   "cell_type": "code",
   "execution_count": 2,
   "id": "4ec45f3a-e70f-4e31-a754-7953f236962c",
   "metadata": {},
   "outputs": [],
   "source": [
    "import sys\n",
    "import numpy as np\n",
    "import math\n",
    "import collections\n",
    "import copy\n",
    "import decimal\n",
    "import itertools\n",
    "import re\n",
    "import bisect\n",
    "import scipy\n",
    "import heapq\n",
    "import array\n",
    "from collections import deque\n",
    "from functools import reduce\n",
    "from itertools import product\n",
    "from itertools import combinations\n",
    "from itertools import chain\n",
    "from functools import lru_cache\n",
    "from scipy.special import comb\n",
    "from numba import njit\n",
    "from bisect import bisect_right\n",
    "from bisect import bisect_left"
   ]
  },
  {
   "cell_type": "code",
   "execution_count": 22,
   "id": "487a27ce-d6d3-4aca-b427-ef7abbf4874d",
   "metadata": {},
   "outputs": [
    {
     "name": "stdin",
     "output_type": "stream",
     "text": [
      " 100000000000\n"
     ]
    }
   ],
   "source": [
    "N = int(input())"
   ]
  },
  {
   "cell_type": "code",
   "execution_count": 36,
   "id": "f8a815e6-73ac-48a1-a686-6c64ce7322db",
   "metadata": {},
   "outputs": [],
   "source": [
    "ans = 0\n",
    "for i in range(1, N+1):\n",
    "    if i ** 3 > N:\n",
    "        break\n",
    "    for j in range(i, N+1):\n",
    "        if i * (j ** 2) > N:\n",
    "            break\n",
    "        ans += N // (i * j) - j + 1\n"
   ]
  },
  {
   "cell_type": "code",
   "execution_count": 37,
   "id": "6857a8f4-224e-4efd-b20e-3e0d5846eb57",
   "metadata": {},
   "outputs": [
    {
     "name": "stdout",
     "output_type": "stream",
     "text": [
      "5745290566750\n"
     ]
    }
   ],
   "source": [
    "print(ans)"
   ]
  },
  {
   "cell_type": "code",
   "execution_count": 24,
   "id": "99ea850f-6363-4f6a-9e65-44719027bced",
   "metadata": {},
   "outputs": [
    {
     "data": {
      "text/plain": [
       "4642"
      ]
     },
     "execution_count": 24,
     "metadata": {},
     "output_type": "execute_result"
    }
   ],
   "source": [
    "cnt"
   ]
  },
  {
   "cell_type": "code",
   "execution_count": null,
   "id": "ca328f05-c4ad-4858-a4a0-8d5c55c85f29",
   "metadata": {},
   "outputs": [],
   "source": [
    "# サンプルでTLE"
   ]
  },
  {
   "cell_type": "code",
   "execution_count": 22,
   "id": "6f99c8a9-9679-4d44-a7f0-f1081d52d7af",
   "metadata": {},
   "outputs": [],
   "source": [
    "ans = 0\n",
    "for i in range(1, math.sart(N)+1):\n",
    "    for j in range(i, N//i+1):\n",
    "        k = N // (j * i)\n",
    "        if i * j * k > N:\n",
    "            break\n",
    "        if k >= j:\n",
    "            ans += k - j + 1\n",
    "    if i * i > N:\n",
    "        break"
   ]
  },
  {
   "cell_type": "code",
   "execution_count": 23,
   "id": "c889f0a9-e0c9-45f9-a4c3-c9aeed654dc6",
   "metadata": {},
   "outputs": [
    {
     "name": "stdout",
     "output_type": "stream",
     "text": [
      "323\n"
     ]
    }
   ],
   "source": [
    "print(ans)"
   ]
  },
  {
   "cell_type": "code",
   "execution_count": null,
   "id": "9749a8bf-7f15-48c5-81fc-6ef968785a87",
   "metadata": {},
   "outputs": [],
   "source": []
  }
 ],
 "metadata": {
  "kernelspec": {
   "display_name": "Python 3",
   "language": "python",
   "name": "python3"
  },
  "language_info": {
   "codemirror_mode": {
    "name": "ipython",
    "version": 3
   },
   "file_extension": ".py",
   "mimetype": "text/x-python",
   "name": "python",
   "nbconvert_exporter": "python",
   "pygments_lexer": "ipython3",
   "version": "3.6.13"
  }
 },
 "nbformat": 4,
 "nbformat_minor": 5
}
