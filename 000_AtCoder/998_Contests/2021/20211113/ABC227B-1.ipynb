{
 "cells": [
  {
   "cell_type": "code",
   "execution_count": 1,
   "id": "86b6fe2a-9d47-4bb0-a120-37120511ac4d",
   "metadata": {},
   "outputs": [],
   "source": [
    "import sys\n",
    "import numpy as np\n",
    "import math\n",
    "import collections\n",
    "import copy\n",
    "import decimal\n",
    "import itertools\n",
    "import re\n",
    "import bisect\n",
    "import scipy\n",
    "import heapq\n",
    "import array\n",
    "from collections import deque\n",
    "from functools import reduce\n",
    "from itertools import product\n",
    "from itertools import combinations\n",
    "from itertools import chain\n",
    "from functools import lru_cache\n",
    "from scipy.special import comb\n",
    "from numba import njit\n",
    "from bisect import bisect_right\n",
    "from bisect import bisect_left"
   ]
  },
  {
   "cell_type": "code",
   "execution_count": 1,
   "id": "f96b1c49-826d-4063-a433-8ab9842cc710",
   "metadata": {},
   "outputs": [
    {
     "name": "stdin",
     "output_type": "stream",
     "text": [
      " 3\n"
     ]
    }
   ],
   "source": [
    "N = int(input())"
   ]
  },
  {
   "cell_type": "code",
   "execution_count": 2,
   "id": "fef568a6-f3af-415c-b513-96cc8f519b02",
   "metadata": {},
   "outputs": [
    {
     "name": "stdin",
     "output_type": "stream",
     "text": [
      " 10 20 39\n"
     ]
    }
   ],
   "source": [
    "Sn = list(map(int, input().split()))"
   ]
  },
  {
   "cell_type": "code",
   "execution_count": 3,
   "id": "1248e0c2-505c-4587-835d-9791631773aa",
   "metadata": {},
   "outputs": [],
   "source": [
    "ans = 0\n",
    "for S in Sn:\n",
    "    f = False\n",
    "    for i in range(1, 1000):\n",
    "        for j in range(1, 1000):\n",
    "            t = 4 * i * j + 3 * i + 3 * j\n",
    "            if S == t:\n",
    "                f = True\n",
    "                break\n",
    "        if f:\n",
    "            break\n",
    "    if not f:\n",
    "        ans += 1"
   ]
  },
  {
   "cell_type": "code",
   "execution_count": 4,
   "id": "3ea92f68-6823-4b12-a3dc-70d56b7305e0",
   "metadata": {},
   "outputs": [
    {
     "name": "stdout",
     "output_type": "stream",
     "text": [
      "1\n"
     ]
    }
   ],
   "source": [
    "print(ans)"
   ]
  },
  {
   "cell_type": "code",
   "execution_count": 8,
   "id": "e6a2fabd-464c-432d-bb74-92d7a8f0d0da",
   "metadata": {},
   "outputs": [],
   "source": [
    "ans = 0\n",
    "for S in Sn:\n",
    "    f = False\n",
    "    for i in range(1, 1000):\n",
    "        for j in range(1, 1000):\n",
    "            if 4 * i * j + 3 * i + 3 * j == S:\n",
    "                f = True\n",
    "    if not f:\n",
    "        ans += 1"
   ]
  },
  {
   "cell_type": "code",
   "execution_count": 9,
   "id": "4c31c4cf-88e7-483e-a36c-e7162b403852",
   "metadata": {},
   "outputs": [
    {
     "name": "stdout",
     "output_type": "stream",
     "text": [
      "1\n"
     ]
    }
   ],
   "source": [
    "print(ans)"
   ]
  },
  {
   "cell_type": "code",
   "execution_count": null,
   "id": "6767dd62-4604-45d6-83ad-337a7034faf7",
   "metadata": {},
   "outputs": [],
   "source": []
  }
 ],
 "metadata": {
  "kernelspec": {
   "display_name": "Python 3",
   "language": "python",
   "name": "python3"
  },
  "language_info": {
   "codemirror_mode": {
    "name": "ipython",
    "version": 3
   },
   "file_extension": ".py",
   "mimetype": "text/x-python",
   "name": "python",
   "nbconvert_exporter": "python",
   "pygments_lexer": "ipython3",
   "version": "3.6.13"
  }
 },
 "nbformat": 4,
 "nbformat_minor": 5
}
