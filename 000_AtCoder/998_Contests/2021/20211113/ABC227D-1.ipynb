{
 "cells": [
  {
   "cell_type": "code",
   "execution_count": 1,
   "id": "626922c2-a189-42b3-a190-0fcaf49e2f4b",
   "metadata": {},
   "outputs": [],
   "source": [
    "import sys\n",
    "import numpy as np\n",
    "import math\n",
    "import collections\n",
    "import copy\n",
    "import decimal\n",
    "import itertools\n",
    "import re\n",
    "import bisect\n",
    "import scipy\n",
    "import heapq\n",
    "import array\n",
    "from collections import deque\n",
    "from functools import reduce\n",
    "from itertools import product\n",
    "from itertools import combinations\n",
    "from itertools import chain\n",
    "from functools import lru_cache\n",
    "from scipy.special import comb\n",
    "from numba import njit\n",
    "from bisect import bisect_right\n",
    "from bisect import bisect_left"
   ]
  },
  {
   "cell_type": "code",
   "execution_count": 23,
   "id": "b0247e2e-7fbc-4b8d-8caa-60d6e0da6394",
   "metadata": {},
   "outputs": [
    {
     "name": "stdin",
     "output_type": "stream",
     "text": [
      " 4 3\n"
     ]
    }
   ],
   "source": [
    "N, K = map(int, input().split())"
   ]
  },
  {
   "cell_type": "code",
   "execution_count": 19,
   "id": "98faa8cd-e908-4124-a55f-396aa962259a",
   "metadata": {},
   "outputs": [
    {
     "name": "stdin",
     "output_type": "stream",
     "text": [
      " 1 1 3 4\n"
     ]
    }
   ],
   "source": [
    "An = list(map(int, input().split()))"
   ]
  },
  {
   "cell_type": "code",
   "execution_count": 24,
   "id": "1b318fdc-29c7-4d60-b329-a76a51b2738d",
   "metadata": {},
   "outputs": [],
   "source": [
    "def my_check(g):\n",
    "    s = 0\n",
    "    for A in An:\n",
    "        s += min(A, g)\n",
    "    return s >= g * K"
   ]
  },
  {
   "cell_type": "code",
   "execution_count": 29,
   "id": "1945504c-f2d8-42e0-a514-6428b0a12635",
   "metadata": {},
   "outputs": [],
   "source": [
    "def my_bisect():\n",
    "    l = 0\n",
    "    r = 10**18\n",
    "    while r - l > 1:\n",
    "        m = (r + l) // 2\n",
    "        if my_check(m):\n",
    "            l = m\n",
    "        else:\n",
    "            r = m\n",
    "    return l"
   ]
  },
  {
   "cell_type": "code",
   "execution_count": 30,
   "id": "be59aea3-6d08-48de-b558-ccc622240d16",
   "metadata": {},
   "outputs": [
    {
     "name": "stdout",
     "output_type": "stream",
     "text": [
      "2\n"
     ]
    }
   ],
   "source": [
    "print(my_bisect())"
   ]
  },
  {
   "cell_type": "code",
   "execution_count": null,
   "id": "fa5a896b-14d2-42b5-8ace-2550bcf45609",
   "metadata": {},
   "outputs": [],
   "source": []
  }
 ],
 "metadata": {
  "kernelspec": {
   "display_name": "Python 3",
   "language": "python",
   "name": "python3"
  },
  "language_info": {
   "codemirror_mode": {
    "name": "ipython",
    "version": 3
   },
   "file_extension": ".py",
   "mimetype": "text/x-python",
   "name": "python",
   "nbconvert_exporter": "python",
   "pygments_lexer": "ipython3",
   "version": "3.6.13"
  }
 },
 "nbformat": 4,
 "nbformat_minor": 5
}
