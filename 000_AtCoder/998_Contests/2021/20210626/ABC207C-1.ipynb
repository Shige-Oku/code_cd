{
 "cells": [
  {
   "cell_type": "code",
   "execution_count": null,
   "id": "271fddd7-88c7-44e8-88f4-0a7debf07bb9",
   "metadata": {},
   "outputs": [],
   "source": [
    "# 解説を読んで実装"
   ]
  },
  {
   "cell_type": "code",
   "execution_count": 2,
   "id": "aa75a413-6238-4bef-a0a9-3eb51882abfe",
   "metadata": {},
   "outputs": [],
   "source": [
    "import sys\n",
    "import numpy as np\n",
    "import math\n",
    "import collections\n",
    "import copy\n",
    "import decimal\n",
    "import itertools\n",
    "import re\n",
    "import bisect\n",
    "import scipy\n",
    "import heapq\n",
    "from collections import deque \n",
    "from functools import reduce\n",
    "from itertools import product\n",
    "from itertools import combinations\n",
    "from itertools import chain\n",
    "from functools import lru_cache\n",
    "from scipy.special import comb\n",
    "from numba import njit\n",
    "from bisect import bisect_right\n",
    "from bisect import bisect_left"
   ]
  },
  {
   "cell_type": "code",
   "execution_count": 1,
   "id": "be0969fe-62fc-4d0d-82c9-7010826f30bc",
   "metadata": {},
   "outputs": [
    {
     "name": "stdin",
     "output_type": "stream",
     "text": [
      " 3\n"
     ]
    }
   ],
   "source": [
    "N = int(input())"
   ]
  },
  {
   "cell_type": "code",
   "execution_count": 3,
   "id": "a36e5457-5b04-4861-9646-62b133b79843",
   "metadata": {},
   "outputs": [
    {
     "name": "stdin",
     "output_type": "stream",
     "text": [
      " 1  1 2\n",
      " 2 2 3\n",
      " 3 2 4\n"
     ]
    }
   ],
   "source": [
    "TLR = [list(map(int, input().split())) for _ in range(N)]"
   ]
  },
  {
   "cell_type": "code",
   "execution_count": 7,
   "id": "f31cc750-e168-4f89-98b6-17c76d18caf1",
   "metadata": {},
   "outputs": [],
   "source": [
    "ans = 0\n",
    "for i in range(N-1):\n",
    "    for j in range(i+1, N):\n",
    "        ti, li, ri = TLR[i]\n",
    "        tj, lj, rj = TLR[j]\n",
    "        if ti == 2:\n",
    "            ri -= 0.5\n",
    "        elif ti == 3:\n",
    "            li += 0.5\n",
    "        elif ti == 4:\n",
    "            li += 0.5\n",
    "            ri -= 0.5\n",
    "        if tj == 2:\n",
    "            rj -= 0.5\n",
    "        elif tj == 3:\n",
    "            lj += 0.5\n",
    "        elif tj == 4:\n",
    "            lj += 0.5\n",
    "            rj -= 0.5\n",
    "#         print(ti, li, ri, tj, lj, rj)\n",
    "        if max(li, lj) > min(ri, rj):\n",
    "            continue\n",
    "        ans += 1\n",
    "#         print(ans)"
   ]
  },
  {
   "cell_type": "code",
   "execution_count": 8,
   "id": "27505866-3bc1-4c07-bec8-346ffeb8cebc",
   "metadata": {},
   "outputs": [
    {
     "name": "stdout",
     "output_type": "stream",
     "text": [
      "2\n"
     ]
    }
   ],
   "source": [
    "print(ans)"
   ]
  },
  {
   "cell_type": "code",
   "execution_count": 6,
   "id": "5775dd7f-68a2-4112-9812-79433f6668a7",
   "metadata": {},
   "outputs": [],
   "source": [
    "TLR_s = sorted(TLR, key=lambda x:(x[1], x[2]))"
   ]
  },
  {
   "cell_type": "code",
   "execution_count": 7,
   "id": "361ca132-6b40-4ee7-9769-ead058fd3559",
   "metadata": {},
   "outputs": [
    {
     "data": {
      "text/plain": [
       "[[1, 1, 2], [2, 2, 3], [3, 2, 4]]"
      ]
     },
     "execution_count": 7,
     "metadata": {},
     "output_type": "execute_result"
    }
   ],
   "source": [
    "TLR_s"
   ]
  },
  {
   "cell_type": "code",
   "execution_count": null,
   "id": "f262f48a-0c59-4a96-9555-5dbaf0773820",
   "metadata": {},
   "outputs": [],
   "source": []
  }
 ],
 "metadata": {
  "kernelspec": {
   "display_name": "Python 3",
   "language": "python",
   "name": "python3"
  },
  "language_info": {
   "codemirror_mode": {
    "name": "ipython",
    "version": 3
   },
   "file_extension": ".py",
   "mimetype": "text/x-python",
   "name": "python",
   "nbconvert_exporter": "python",
   "pygments_lexer": "ipython3",
   "version": "3.6.13"
  }
 },
 "nbformat": 4,
 "nbformat_minor": 5
}
