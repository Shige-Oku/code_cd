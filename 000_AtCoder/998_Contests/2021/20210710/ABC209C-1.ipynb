{
 "cells": [
  {
   "cell_type": "code",
   "execution_count": 1,
   "id": "4e918a9a-8e35-4646-a659-e7d3f47e44b9",
   "metadata": {},
   "outputs": [],
   "source": [
    "import sys\n",
    "import numpy as np\n",
    "import math\n",
    "import collections\n",
    "import copy\n",
    "import decimal\n",
    "import itertools\n",
    "import re\n",
    "import bisect\n",
    "import scipy\n",
    "import heapq\n",
    "from collections import deque \n",
    "from functools import reduce\n",
    "from itertools import product\n",
    "from itertools import combinations\n",
    "from itertools import chain\n",
    "from functools import lru_cache\n",
    "from scipy.special import comb\n",
    "from numba import njit\n",
    "from bisect import bisect_right\n",
    "from bisect import bisect_left"
   ]
  },
  {
   "cell_type": "code",
   "execution_count": 63,
   "id": "d7f1fdbe-2a17-425e-af58-0c21ea9d0ede",
   "metadata": {},
   "outputs": [
    {
     "name": "stdin",
     "output_type": "stream",
     "text": [
      " 4\n"
     ]
    }
   ],
   "source": [
    "N = int(input())"
   ]
  },
  {
   "cell_type": "code",
   "execution_count": 64,
   "id": "470564a0-38e1-48aa-8485-e15a1f447e8f",
   "metadata": {},
   "outputs": [
    {
     "name": "stdin",
     "output_type": "stream",
     "text": [
      " 3 3 4 4 \n"
     ]
    }
   ],
   "source": [
    "Cn = list(map(int, input().split()))"
   ]
  },
  {
   "cell_type": "code",
   "execution_count": 59,
   "id": "a28e7374-733e-4970-96d1-cc888e6ca3b9",
   "metadata": {},
   "outputs": [],
   "source": [
    "Cn2 = []\n",
    "m = 10**10\n",
    "for C in Cn[::-1]:\n",
    "    if m > C:\n",
    "        Cn2.append(C)\n",
    "        m = C\n",
    "    else:\n",
    "        Cn2.append(m)\n",
    "Cn2 = Cn2[::-1]"
   ]
  },
  {
   "cell_type": "code",
   "execution_count": 66,
   "id": "5ddfb662-0da3-49bd-abcd-b71e5885459e",
   "metadata": {},
   "outputs": [
    {
     "name": "stdout",
     "output_type": "stream",
     "text": [
      "0 3 0\n",
      "1 3 0\n",
      "2 3 0\n",
      "3 0 0\n",
      "0\n"
     ]
    }
   ],
   "source": [
    "ans = 1\n",
    "for i, C in enumerate(Cn):\n",
    "#     if i > 0 and Cn[i-1] > Cn[i]:\n",
    "    if i == 0:\n",
    "        ans *= C\n",
    "    else:\n",
    "        ans *= C - i - 1\n",
    "    ans %= 10**9+7\n",
    "    print(i, ans, mul)\n",
    "print(ans)"
   ]
  },
  {
   "cell_type": "code",
   "execution_count": 54,
   "id": "573c75e5-2ee4-4c6a-8818-106ae865aa76",
   "metadata": {},
   "outputs": [
    {
     "name": "stdout",
     "output_type": "stream",
     "text": [
      "0 2 2\n",
      "1 2 1\n",
      "2 2 1\n",
      "3 0 0\n",
      "0\n"
     ]
    }
   ],
   "source": [
    "ans = 1\n",
    "for i, C in enumerate(Cn):\n",
    "    mul = 0\n",
    "    if C >= Cn2[i]:\n",
    "        mul = Cn2[i] - 1 - i\n",
    "    else:\n",
    "        mul = C\n",
    "    ans *= mul\n",
    "    ans %= 10**9+7\n",
    "    print(i, ans, mul)\n",
    "print(ans)"
   ]
  },
  {
   "cell_type": "code",
   "execution_count": 28,
   "id": "3d42b4d8-130d-420a-a9e6-bbef3e9d4180",
   "metadata": {},
   "outputs": [
    {
     "data": {
      "text/plain": [
       "8460"
      ]
     },
     "execution_count": 28,
     "metadata": {},
     "output_type": "execute_result"
    }
   ],
   "source": [
    "999999917 * (999999914 - 1) % (10**9+7)"
   ]
  },
  {
   "cell_type": "code",
   "execution_count": 55,
   "id": "44554e37-69cb-4789-abdc-3c16d5029b31",
   "metadata": {},
   "outputs": [
    {
     "data": {
      "text/plain": [
       "[3, 3, 4, 4]"
      ]
     },
     "execution_count": 55,
     "metadata": {},
     "output_type": "execute_result"
    }
   ],
   "source": [
    "Cn2"
   ]
  },
  {
   "cell_type": "code",
   "execution_count": null,
   "id": "a3b3c006-f4c4-41e7-84d6-0c9837c9fc1e",
   "metadata": {},
   "outputs": [],
   "source": []
  }
 ],
 "metadata": {
  "kernelspec": {
   "display_name": "Python 3",
   "language": "python",
   "name": "python3"
  },
  "language_info": {
   "codemirror_mode": {
    "name": "ipython",
    "version": 3
   },
   "file_extension": ".py",
   "mimetype": "text/x-python",
   "name": "python",
   "nbconvert_exporter": "python",
   "pygments_lexer": "ipython3",
   "version": "3.6.13"
  }
 },
 "nbformat": 4,
 "nbformat_minor": 5
}
