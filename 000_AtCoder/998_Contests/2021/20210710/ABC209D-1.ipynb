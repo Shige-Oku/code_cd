{
 "cells": [
  {
   "cell_type": "code",
   "execution_count": 1,
   "id": "e6f6116d-a0e7-4c6d-809a-cd4e82032a36",
   "metadata": {},
   "outputs": [],
   "source": [
    "import sys\n",
    "import numpy as np\n",
    "import math\n",
    "import collections\n",
    "import copy\n",
    "import decimal\n",
    "import itertools\n",
    "import re\n",
    "import bisect\n",
    "import scipy\n",
    "import heapq\n",
    "from collections import deque \n",
    "from functools import reduce\n",
    "from itertools import product\n",
    "from itertools import combinations\n",
    "from itertools import chain\n",
    "from functools import lru_cache\n",
    "from scipy.special import comb\n",
    "from numba import njit\n",
    "from bisect import bisect_right\n",
    "from bisect import bisect_left"
   ]
  },
  {
   "cell_type": "code",
   "execution_count": 2,
   "id": "a14dc425-5d80-4d9e-9011-9e5838769edd",
   "metadata": {},
   "outputs": [
    {
     "name": "stdin",
     "output_type": "stream",
     "text": [
      " 4 1\n"
     ]
    }
   ],
   "source": [
    "N, Q = map(int, input().split())"
   ]
  },
  {
   "cell_type": "code",
   "execution_count": 3,
   "id": "47dbc273-03e7-4042-9643-25a65348afad",
   "metadata": {},
   "outputs": [
    {
     "name": "stdin",
     "output_type": "stream",
     "text": [
      " 1 2\n",
      " 2 3\n",
      " 2 4\n"
     ]
    }
   ],
   "source": [
    "AB = [list(map(int, input().split())) for _ in range(N-1)]"
   ]
  },
  {
   "cell_type": "code",
   "execution_count": 4,
   "id": "70ed199b-10f9-4178-8791-6d523fc316e5",
   "metadata": {},
   "outputs": [
    {
     "name": "stdin",
     "output_type": "stream",
     "text": [
      " 1 2\n"
     ]
    }
   ],
   "source": [
    "Qn = [list(map(int, input().split())) for _ in range(Q)]"
   ]
  },
  {
   "cell_type": "code",
   "execution_count": 5,
   "id": "eb76f747-108b-4aa9-8579-21fb1a2cd030",
   "metadata": {},
   "outputs": [],
   "source": [
    "graph = [[] for _ in range(N+1)]\n",
    "for A, B in AB:\n",
    "    graph[A].append(B)\n",
    "    graph[B].append(A)"
   ]
  },
  {
   "cell_type": "code",
   "execution_count": 8,
   "id": "65c307b5-ec37-494b-bc30-463d2581f44f",
   "metadata": {},
   "outputs": [],
   "source": [
    "def BFS():\n",
    "    q = deque()\n",
    "    q.append(1)\n",
    "    cost[1] = 0\n",
    "    while q:\n",
    "        p = q.popleft()\n",
    "        if visit[p]:\n",
    "            continue\n",
    "        visit[p] = True\n",
    "        for p2 in graph[p]:\n",
    "            if visit[p2]:\n",
    "                continue\n",
    "            cost[p2] = cost[p] + 1\n",
    "            q.append(p2)\n",
    "    return"
   ]
  },
  {
   "cell_type": "code",
   "execution_count": 9,
   "id": "f7741662-0e2f-4059-b502-6b63f26e9f08",
   "metadata": {},
   "outputs": [],
   "source": [
    "visit = [False] * (N+1)\n",
    "cost = [-1] * (N+1)\n",
    "BFS()"
   ]
  },
  {
   "cell_type": "code",
   "execution_count": 10,
   "id": "0c373fac-67ab-4871-8e3f-c34f4508b7ca",
   "metadata": {},
   "outputs": [
    {
     "name": "stdout",
     "output_type": "stream",
     "text": [
      "Road\n"
     ]
    }
   ],
   "source": [
    "for C, D in Qn:\n",
    "    if abs(cost[C]-cost[D]) % 2 == 1:\n",
    "        print('Road')\n",
    "    else:\n",
    "        print('Town')"
   ]
  },
  {
   "cell_type": "code",
   "execution_count": null,
   "id": "07aba981-5602-456c-93fb-1cbfbd2c7f40",
   "metadata": {},
   "outputs": [],
   "source": []
  }
 ],
 "metadata": {
  "kernelspec": {
   "display_name": "Python 3",
   "language": "python",
   "name": "python3"
  },
  "language_info": {
   "codemirror_mode": {
    "name": "ipython",
    "version": 3
   },
   "file_extension": ".py",
   "mimetype": "text/x-python",
   "name": "python",
   "nbconvert_exporter": "python",
   "pygments_lexer": "ipython3",
   "version": "3.6.13"
  }
 },
 "nbformat": 4,
 "nbformat_minor": 5
}
