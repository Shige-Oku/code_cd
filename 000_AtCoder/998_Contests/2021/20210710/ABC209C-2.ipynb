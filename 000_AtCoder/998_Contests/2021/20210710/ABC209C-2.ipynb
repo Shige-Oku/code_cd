{
 "cells": [
  {
   "cell_type": "code",
   "execution_count": null,
   "id": "ee007cf8-2e57-4dce-a4ef-c4e17f563ba0",
   "metadata": {},
   "outputs": [],
   "source": [
    "# 解説を読んで実装"
   ]
  },
  {
   "cell_type": "code",
   "execution_count": 1,
   "id": "831ec3ed-7290-4b21-b3cb-d1ca68a17f6a",
   "metadata": {},
   "outputs": [],
   "source": [
    "import sys\n",
    "import numpy as np\n",
    "import math\n",
    "import collections\n",
    "import copy\n",
    "import decimal\n",
    "import itertools\n",
    "import re\n",
    "import bisect\n",
    "import scipy\n",
    "import heapq\n",
    "from collections import deque \n",
    "from functools import reduce\n",
    "from itertools import product\n",
    "from itertools import combinations\n",
    "from itertools import chain\n",
    "from functools import lru_cache\n",
    "from scipy.special import comb\n",
    "from numba import njit\n",
    "from bisect import bisect_right\n",
    "from bisect import bisect_left"
   ]
  },
  {
   "cell_type": "code",
   "execution_count": 6,
   "id": "3854872d-a622-423d-9935-06fc2ecf6936",
   "metadata": {},
   "outputs": [
    {
     "name": "stdin",
     "output_type": "stream",
     "text": [
      " 10\n"
     ]
    }
   ],
   "source": [
    "N = int(input())"
   ]
  },
  {
   "cell_type": "code",
   "execution_count": 7,
   "id": "b2fa966e-0974-4088-8c8e-e114052aec49",
   "metadata": {},
   "outputs": [
    {
     "name": "stdin",
     "output_type": "stream",
     "text": [
      " 999999917 999999914 999999923 999999985 999999907 999999965 999999914 999999908 999999951 999999979\n"
     ]
    }
   ],
   "source": [
    "Cn = list(map(int, input().split()))"
   ]
  },
  {
   "cell_type": "code",
   "execution_count": 8,
   "id": "d630b6ef-4656-4abd-837b-fe2f93051aa6",
   "metadata": {},
   "outputs": [
    {
     "name": "stdout",
     "output_type": "stream",
     "text": [
      "405924645\n"
     ]
    }
   ],
   "source": [
    "Cn_s = sorted(Cn)\n",
    "ans = 1\n",
    "for i, C in enumerate(Cn_s):\n",
    "    ans *= max(0, C-i)\n",
    "    ans %= 10**9+7\n",
    "print(ans)"
   ]
  },
  {
   "cell_type": "code",
   "execution_count": null,
   "id": "202eac05-21e3-47cb-b40e-194a429a7fe9",
   "metadata": {},
   "outputs": [],
   "source": []
  }
 ],
 "metadata": {
  "kernelspec": {
   "display_name": "Python 3",
   "language": "python",
   "name": "python3"
  },
  "language_info": {
   "codemirror_mode": {
    "name": "ipython",
    "version": 3
   },
   "file_extension": ".py",
   "mimetype": "text/x-python",
   "name": "python",
   "nbconvert_exporter": "python",
   "pygments_lexer": "ipython3",
   "version": "3.6.13"
  }
 },
 "nbformat": 4,
 "nbformat_minor": 5
}
