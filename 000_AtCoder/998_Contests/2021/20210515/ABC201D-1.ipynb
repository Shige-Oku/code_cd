{
 "cells": [
  {
   "cell_type": "code",
   "execution_count": null,
   "id": "808ba500-5770-44b0-a340-7814d5c1a86f",
   "metadata": {},
   "outputs": [],
   "source": [
    "# 解説を読んで実装 WA, TLE"
   ]
  },
  {
   "cell_type": "code",
   "execution_count": 1,
   "id": "4ee0f3f2-9659-4608-8042-1c86ef264542",
   "metadata": {},
   "outputs": [],
   "source": [
    "import sys\n",
    "import numpy as np\n",
    "import math\n",
    "import collections\n",
    "import copy\n",
    "import decimal\n",
    "import itertools\n",
    "import re\n",
    "import bisect\n",
    "import scipy\n",
    "import heapq\n",
    "from collections import deque \n",
    "from functools import reduce\n",
    "from itertools import product\n",
    "from itertools import combinations\n",
    "from itertools import chain\n",
    "from functools import lru_cache\n",
    "from scipy.special import comb\n",
    "from numba import njit\n",
    "from bisect import bisect_right\n",
    "from bisect import bisect_left"
   ]
  },
  {
   "cell_type": "code",
   "execution_count": 2,
   "id": "29e898ed-83f3-4b41-bc13-6bf1ea0b061d",
   "metadata": {},
   "outputs": [],
   "source": [
    "sys.setrecursionlimit(10**6)"
   ]
  },
  {
   "cell_type": "code",
   "execution_count": 3,
   "id": "a18563c4-011a-454b-b085-68d09f01c6cd",
   "metadata": {},
   "outputs": [
    {
     "name": "stdin",
     "output_type": "stream",
     "text": [
      " 3 3\n"
     ]
    }
   ],
   "source": [
    "H, W = map(int, input().split())"
   ]
  },
  {
   "cell_type": "code",
   "execution_count": 4,
   "id": "d1d86e3f-c788-47e9-89d2-aead87a28ecb",
   "metadata": {},
   "outputs": [
    {
     "name": "stdin",
     "output_type": "stream",
     "text": [
      " ---\n",
      " +-+\n",
      " +--\n"
     ]
    }
   ],
   "source": [
    "An = [input() for _ in range(H)]"
   ]
  },
  {
   "cell_type": "code",
   "execution_count": 51,
   "id": "e1f2f9c7-8344-4e41-b15c-1956a55836e0",
   "metadata": {},
   "outputs": [],
   "source": [
    "# @lru_cache(maxsize=None)\n",
    "def DFS(h, w):\n",
    "#     print(h, w)\n",
    "    if h >= H:\n",
    "        return 0\n",
    "    if w >= W:\n",
    "        return 0\n",
    "    if visit[h][w]:\n",
    "        return points[h][w]\n",
    "    if h == w == 0:\n",
    "        point = 0\n",
    "    else:\n",
    "        if An[h][w] == '+':\n",
    "            point = 1\n",
    "        else:\n",
    "            point = -1\n",
    "#     print(point)\n",
    "    if (h+w) % 2 == 1:\n",
    "        visit[h][w] = min(DFS(h+1, w)+point, DFS(h, w+1)+point)\n",
    "    else:\n",
    "        visit[h][w] = max(DFS(h+1, w)-point, DFS(h, w+1)-point)\n",
    "    visit[h][w] = True\n",
    "    return visit[h][w]"
   ]
  },
  {
   "cell_type": "code",
   "execution_count": 46,
   "id": "db8186ae-8283-40ed-a88a-c199ca34cdc6",
   "metadata": {},
   "outputs": [],
   "source": [
    "def DFS(h, w):\n",
    "    if h >= H:\n",
    "        return 0\n",
    "    if w >= W:\n",
    "        return 0\n",
    "    if h == w == 0:\n",
    "        point = 0\n",
    "    else:\n",
    "        if An[h][w] == '+':\n",
    "            point = 1\n",
    "        else:\n",
    "            point = -1\n",
    "    if (h+w) % 2 == 1:\n",
    "        ret1 = DFS(h+1, w)+point\n",
    "        ret2 = DFS(h, w+1)+point\n",
    "        print(h, w, point)\n",
    "#         print(point)\n",
    "        print('Taka:{0}, {1}, {2}'.format(ret1, ret2, min(ret1, ret2)))\n",
    "        return min(ret1, ret2)\n",
    "    else:\n",
    "        ret1 = DFS(h+1, w)-point\n",
    "        ret2 = DFS(h, w+1)-point\n",
    "        print(h, w, point)\n",
    "        print('Ao:{0}, {1}, {2}'.format(ret1, ret2, max(ret1, ret2)))\n",
    "        return max(ret1, ret2)"
   ]
  },
  {
   "cell_type": "code",
   "execution_count": 53,
   "id": "09c65006-75ba-4d39-b051-2c1fa61c6fb7",
   "metadata": {},
   "outputs": [
    {
     "name": "stdout",
     "output_type": "stream",
     "text": [
      "Draw\n"
     ]
    }
   ],
   "source": [
    "points = [[0] * W for _ in range(H)]\n",
    "visit = [[False] * W for _ in range(H)]\n",
    "ret = DFS(0, 0)\n",
    "if ret > 0:\n",
    "    print('Takahashi')\n",
    "elif ret < 0:\n",
    "    print('Aoki')\n",
    "else:\n",
    "    print('Draw')"
   ]
  },
  {
   "cell_type": "code",
   "execution_count": 47,
   "id": "a4319e68-5fce-4019-822c-7e7f48907f5d",
   "metadata": {},
   "outputs": [
    {
     "name": "stdout",
     "output_type": "stream",
     "text": [
      "2 2 -1\n",
      "Ao:1, 1, 1\n",
      "2 1 -1\n",
      "Taka:-1, 0, -1\n",
      "2 0 1\n",
      "Ao:-1, -2, -1\n",
      "2 2 -1\n",
      "Ao:1, 1, 1\n",
      "2 1 -1\n",
      "Taka:-1, 0, -1\n",
      "2 2 -1\n",
      "Ao:1, 1, 1\n",
      "1 2 1\n",
      "Taka:2, 1, 1\n",
      "1 1 -1\n",
      "Ao:0, 2, 2\n",
      "1 0 1\n",
      "Taka:0, 3, 0\n"
     ]
    },
    {
     "data": {
      "text/plain": [
       "0"
      ]
     },
     "execution_count": 47,
     "metadata": {},
     "output_type": "execute_result"
    }
   ],
   "source": [
    "DFS(1, 0)"
   ]
  },
  {
   "cell_type": "code",
   "execution_count": 48,
   "id": "24a9014c-9814-432d-bdef-bd6bf51563f5",
   "metadata": {},
   "outputs": [
    {
     "name": "stdout",
     "output_type": "stream",
     "text": [
      "2 2 -1\n",
      "Ao:1, 1, 1\n",
      "2 1 -1\n",
      "Taka:-1, 0, -1\n",
      "2 2 -1\n",
      "Ao:1, 1, 1\n",
      "1 2 1\n",
      "Taka:2, 1, 1\n",
      "1 1 -1\n",
      "Ao:0, 2, 2\n",
      "2 2 -1\n",
      "Ao:1, 1, 1\n",
      "1 2 1\n",
      "Taka:2, 1, 1\n",
      "0 2 -1\n",
      "Ao:2, 1, 2\n",
      "0 1 -1\n",
      "Taka:1, 1, 1\n"
     ]
    },
    {
     "data": {
      "text/plain": [
       "1"
      ]
     },
     "execution_count": 48,
     "metadata": {},
     "output_type": "execute_result"
    }
   ],
   "source": [
    "DFS(0, 1)"
   ]
  },
  {
   "cell_type": "code",
   "execution_count": 24,
   "id": "d35e7cb4-6062-4781-b854-80bbec05f28f",
   "metadata": {},
   "outputs": [],
   "source": [
    "T = 0\n",
    "A = 0\n",
    "flg = True\n",
    "for i, s in enumerate(An):\n",
    "    if i == 0:\n",
    "        start = 1\n",
    "    else:\n",
    "        start = 0\n",
    "    for ss in s[start:]:\n",
    "        if ss == '+':\n",
    "            if flg:\n",
    "                T += 1\n",
    "            else:\n",
    "                A += 1\n",
    "        flg = not flg"
   ]
  },
  {
   "cell_type": "code",
   "execution_count": 25,
   "id": "02bf0228-8005-40ba-95e2-5a52d782ea9c",
   "metadata": {},
   "outputs": [
    {
     "name": "stdout",
     "output_type": "stream",
     "text": [
      "Takahashi\n"
     ]
    }
   ],
   "source": [
    "if T > A:\n",
    "    print('Takahashi')\n",
    "elif A > T:\n",
    "    print('Aoki')\n",
    "else:\n",
    "    print('Draw')"
   ]
  },
  {
   "cell_type": "code",
   "execution_count": 26,
   "id": "5ef261a8-fe86-4ef1-9f37-8ca0156a3b8a",
   "metadata": {},
   "outputs": [
    {
     "data": {
      "text/plain": [
       "(3, 1)"
      ]
     },
     "execution_count": 26,
     "metadata": {},
     "output_type": "execute_result"
    }
   ],
   "source": [
    "T, A"
   ]
  },
  {
   "cell_type": "code",
   "execution_count": 4,
   "id": "a33f4b17-8cd4-4016-8342-40a68d74e9bd",
   "metadata": {},
   "outputs": [
    {
     "data": {
      "text/plain": [
       "<itertools.chain at 0x1c00b9e4ef0>"
      ]
     },
     "execution_count": 4,
     "metadata": {},
     "output_type": "execute_result"
    }
   ],
   "source": [
    "itertools.chain(An)"
   ]
  },
  {
   "cell_type": "code",
   "execution_count": 6,
   "id": "d2f209a1-bf05-4924-bcb2-56a285286798",
   "metadata": {},
   "outputs": [
    {
     "name": "stdout",
     "output_type": "stream",
     "text": [
      "---\n",
      "+-+\n",
      "+--\n"
     ]
    }
   ],
   "source": [
    "for s in itertools.chain(An):\n",
    "    print(s)\n",
    "    "
   ]
  },
  {
   "cell_type": "code",
   "execution_count": null,
   "id": "cc897013-f8d9-40c1-a885-1a2a739a9239",
   "metadata": {},
   "outputs": [],
   "source": []
  }
 ],
 "metadata": {
  "kernelspec": {
   "display_name": "Python 3",
   "language": "python",
   "name": "python3"
  },
  "language_info": {
   "codemirror_mode": {
    "name": "ipython",
    "version": 3
   },
   "file_extension": ".py",
   "mimetype": "text/x-python",
   "name": "python",
   "nbconvert_exporter": "python",
   "pygments_lexer": "ipython3",
   "version": "3.6.13"
  }
 },
 "nbformat": 4,
 "nbformat_minor": 5
}
