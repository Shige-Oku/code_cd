{
 "cells": [
  {
   "cell_type": "code",
   "execution_count": 1,
   "id": "e1d80e8d-932c-45f8-b063-70d66da3a0a9",
   "metadata": {},
   "outputs": [],
   "source": [
    "import sys\n",
    "import numpy as np\n",
    "import math\n",
    "import collections\n",
    "import copy\n",
    "import decimal\n",
    "import itertools\n",
    "import re\n",
    "import bisect\n",
    "import scipy\n",
    "import heapq\n",
    "from collections import deque \n",
    "from functools import reduce\n",
    "from itertools import product\n",
    "from itertools import combinations\n",
    "from itertools import chain\n",
    "from functools import lru_cache\n",
    "from scipy.special import comb\n",
    "from numba import njit\n",
    "from bisect import bisect_right\n",
    "from bisect import bisect_left"
   ]
  },
  {
   "cell_type": "code",
   "execution_count": 21,
   "id": "2c81eb92-1465-43c9-a4d8-9d5250e085be",
   "metadata": {},
   "outputs": [
    {
     "name": "stdin",
     "output_type": "stream",
     "text": [
      " 4\n"
     ]
    }
   ],
   "source": [
    "N = int(input())"
   ]
  },
  {
   "cell_type": "code",
   "execution_count": 22,
   "id": "318f8a73-f4b8-4ff8-820b-eafb019096ca",
   "metadata": {},
   "outputs": [
    {
     "name": "stdin",
     "output_type": "stream",
     "text": [
      " QCFium 2846\n",
      " chokudai 2992\n",
      " kyoprofriends 2432\n",
      " penguinman 2390\n"
     ]
    }
   ],
   "source": [
    "ST = [list(input().split()) for _ in range(N)]"
   ]
  },
  {
   "cell_type": "code",
   "execution_count": 26,
   "id": "6d3fd44e-8568-4988-a590-2f3cda0a74ee",
   "metadata": {},
   "outputs": [],
   "source": [
    "st = []\n",
    "for S, T in ST:\n",
    "    st.append((int(T), S))\n",
    "st_s = sorted(st, reverse=True)"
   ]
  },
  {
   "cell_type": "code",
   "execution_count": 27,
   "id": "bdd44f77-83ac-458c-a5ee-42f6dec44114",
   "metadata": {},
   "outputs": [
    {
     "name": "stdout",
     "output_type": "stream",
     "text": [
      "QCFium\n"
     ]
    }
   ],
   "source": [
    "print(st_s[1][1])"
   ]
  },
  {
   "cell_type": "code",
   "execution_count": 25,
   "id": "da2c1001-af78-4f47-809b-136b3085da93",
   "metadata": {},
   "outputs": [
    {
     "data": {
      "text/plain": [
       "[(2390, 'penguinman'),\n",
       " (2432, 'kyoprofriends'),\n",
       " (2992, 'chokudai'),\n",
       " (2846, 'QCFium')]"
      ]
     },
     "execution_count": 25,
     "metadata": {},
     "output_type": "execute_result"
    }
   ],
   "source": [
    "st_s"
   ]
  },
  {
   "cell_type": "code",
   "execution_count": null,
   "id": "4edc34c7-1659-45f8-b04c-6bbd5c47b463",
   "metadata": {},
   "outputs": [],
   "source": []
  }
 ],
 "metadata": {
  "kernelspec": {
   "display_name": "Python 3",
   "language": "python",
   "name": "python3"
  },
  "language_info": {
   "codemirror_mode": {
    "name": "ipython",
    "version": 3
   },
   "file_extension": ".py",
   "mimetype": "text/x-python",
   "name": "python",
   "nbconvert_exporter": "python",
   "pygments_lexer": "ipython3",
   "version": "3.6.13"
  }
 },
 "nbformat": 4,
 "nbformat_minor": 5
}
