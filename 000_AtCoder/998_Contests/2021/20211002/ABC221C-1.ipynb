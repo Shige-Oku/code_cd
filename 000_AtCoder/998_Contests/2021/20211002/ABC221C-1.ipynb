{
 "cells": [
  {
   "cell_type": "code",
   "execution_count": 1,
   "id": "f7e63511-6a31-4445-900d-1b4d2af3ef78",
   "metadata": {},
   "outputs": [],
   "source": [
    "import numpy as np\n",
    "import math\n",
    "import collections\n",
    "import copy\n",
    "import decimal\n",
    "import itertools\n",
    "import re\n",
    "import bisect\n",
    "import scipy\n",
    "import heapq\n",
    "import array\n",
    "from collections import deque\n",
    "from functools import reduce\n",
    "from itertools import product\n",
    "from itertools import combinations\n",
    "from itertools import chain\n",
    "from functools import lru_cache\n",
    "from scipy.special import comb\n",
    "from numba import njit\n",
    "from bisect import bisect_right\n",
    "from bisect import bisect_left"
   ]
  },
  {
   "cell_type": "code",
   "execution_count": 18,
   "id": "a57c0df8-dd14-4d17-8383-3e5c23877dd2",
   "metadata": {},
   "outputs": [
    {
     "name": "stdin",
     "output_type": "stream",
     "text": [
      " 998244353\n"
     ]
    }
   ],
   "source": [
    "N = input()"
   ]
  },
  {
   "cell_type": "code",
   "execution_count": 19,
   "id": "a10e2698-dd2e-48fc-9d80-46573a2e2eb0",
   "metadata": {},
   "outputs": [],
   "source": [
    "ans = 0\n",
    "for P in product(('0', '1'), repeat=len(N)):\n",
    "    a = \"\"\n",
    "    b = \"\"\n",
    "    for i, p in enumerate(P):\n",
    "        if p == '0':\n",
    "            a += N[i]\n",
    "        else:\n",
    "            b += N[i]\n",
    "    a_s = sorted(a, reverse=True)\n",
    "    b_s = sorted(b, reverse=True)\n",
    "    if len(a_s) == 0 or len(b_s) == 0:\n",
    "        continue\n",
    "    if a_s[0] == '0' or b_s[0] == '0':\n",
    "        continue\n",
    "    ans = max(ans, int(\"\".join(a_s)) * int(\"\".join(b_s)))\n"
   ]
  },
  {
   "cell_type": "code",
   "execution_count": 20,
   "id": "4e0d5fe9-7c1a-48f4-aec4-a7b35052b84e",
   "metadata": {},
   "outputs": [
    {
     "name": "stdout",
     "output_type": "stream",
     "text": [
      "939337176\n"
     ]
    }
   ],
   "source": [
    "print(ans)"
   ]
  },
  {
   "cell_type": "code",
   "execution_count": 11,
   "id": "512bb853-a952-42d9-a139-d2ea183b26d8",
   "metadata": {},
   "outputs": [
    {
     "data": {
      "text/plain": [
       "'2'"
      ]
     },
     "execution_count": 11,
     "metadata": {},
     "output_type": "execute_result"
    }
   ],
   "source": [
    "N[1]"
   ]
  },
  {
   "cell_type": "code",
   "execution_count": 21,
   "id": "6801baf3-7824-443c-b3c0-967978b600ea",
   "metadata": {},
   "outputs": [
    {
     "data": {
      "text/plain": [
       "'998244353'"
      ]
     },
     "execution_count": 21,
     "metadata": {},
     "output_type": "execute_result"
    }
   ],
   "source": [
    "N"
   ]
  },
  {
   "cell_type": "code",
   "execution_count": 22,
   "id": "994446b5-0c87-4a30-95d8-29dce47ee8b9",
   "metadata": {},
   "outputs": [
    {
     "data": {
      "text/plain": [
       "('', '998244353')"
      ]
     },
     "execution_count": 22,
     "metadata": {},
     "output_type": "execute_result"
    }
   ],
   "source": [
    "a, b"
   ]
  },
  {
   "cell_type": "code",
   "execution_count": 26,
   "id": "ea76f79f-5af5-4682-8e93-72c26659ec39",
   "metadata": {},
   "outputs": [
    {
     "data": {
      "text/plain": [
       "['9', '9', '8', '5', '4', '4', '3', '3', '2']"
      ]
     },
     "execution_count": 26,
     "metadata": {},
     "output_type": "execute_result"
    }
   ],
   "source": [
    "sorted(b, reverse=True)"
   ]
  },
  {
   "cell_type": "code",
   "execution_count": null,
   "id": "1ad6fcb2-d56b-4906-8a2e-61fc92e0ceb9",
   "metadata": {},
   "outputs": [],
   "source": []
  }
 ],
 "metadata": {
  "kernelspec": {
   "display_name": "Python 3",
   "language": "python",
   "name": "python3"
  },
  "language_info": {
   "codemirror_mode": {
    "name": "ipython",
    "version": 3
   },
   "file_extension": ".py",
   "mimetype": "text/x-python",
   "name": "python",
   "nbconvert_exporter": "python",
   "pygments_lexer": "ipython3",
   "version": "3.6.13"
  }
 },
 "nbformat": 4,
 "nbformat_minor": 5
}
