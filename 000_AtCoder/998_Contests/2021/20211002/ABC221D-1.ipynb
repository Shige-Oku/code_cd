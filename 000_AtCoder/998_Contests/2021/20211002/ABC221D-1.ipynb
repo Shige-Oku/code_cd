{
 "cells": [
  {
   "cell_type": "code",
   "execution_count": null,
   "id": "4ed27404-9554-4316-8d15-31a8e907bc16",
   "metadata": {},
   "outputs": [],
   "source": [
    "# サンプルが合わない"
   ]
  },
  {
   "cell_type": "code",
   "execution_count": 1,
   "id": "8f7e23da-b663-41e2-a74b-0cf9b42664a3",
   "metadata": {},
   "outputs": [],
   "source": [
    "import numpy as np\n",
    "import math\n",
    "import collections\n",
    "import copy\n",
    "import decimal\n",
    "import itertools\n",
    "import re\n",
    "import bisect\n",
    "import scipy\n",
    "import heapq\n",
    "import array\n",
    "from collections import deque\n",
    "from functools import reduce\n",
    "from itertools import product\n",
    "from itertools import combinations\n",
    "from itertools import chain\n",
    "from functools import lru_cache\n",
    "from scipy.special import comb\n",
    "from numba import njit\n",
    "from bisect import bisect_right\n",
    "from bisect import bisect_left"
   ]
  },
  {
   "cell_type": "code",
   "execution_count": 2,
   "id": "a3f31e74-aa36-488c-8546-ac7240b7af82",
   "metadata": {},
   "outputs": [
    {
     "name": "stdin",
     "output_type": "stream",
     "text": [
      " 3\n"
     ]
    }
   ],
   "source": [
    "N = int(input())"
   ]
  },
  {
   "cell_type": "code",
   "execution_count": 3,
   "id": "30400abf-6eb8-493a-840e-516b0dc67458",
   "metadata": {},
   "outputs": [
    {
     "name": "stdin",
     "output_type": "stream",
     "text": [
      " 1 2\n",
      " 2 3\n",
      " 3 1\n"
     ]
    }
   ],
   "source": [
    "AB = [list(map(int, input().split())) for _ in range(N)]"
   ]
  },
  {
   "cell_type": "code",
   "execution_count": 11,
   "id": "03942711-938f-48b6-9a6b-072bd3817c6b",
   "metadata": {},
   "outputs": [],
   "source": [
    "h1 = []\n",
    "h2 = []\n",
    "for A, B in AB:\n",
    "    h1.append(A)\n",
    "    h2.append(A+B)\n",
    "h1_s = sorted(h1)\n",
    "h2_s = sorted(h2)"
   ]
  },
  {
   "cell_type": "code",
   "execution_count": null,
   "id": "81e64b0c-f49f-4537-9caf-4009e1481ef6",
   "metadata": {},
   "outputs": [],
   "source": [
    "cnt = [0] * N\n",
    "i = j = 0\n",
    "while True:\n",
    "    if h1_s[i+1] < h2_s[j]:\n",
    "        "
   ]
  },
  {
   "cell_type": "code",
   "execution_count": 7,
   "id": "3be626db-015e-4caf-8bab-415f6c449b6d",
   "metadata": {},
   "outputs": [],
   "source": [
    "i = j = 1"
   ]
  },
  {
   "cell_type": "code",
   "execution_count": 8,
   "id": "676e1ca7-1508-4c54-a0b4-8a883810b859",
   "metadata": {},
   "outputs": [
    {
     "data": {
      "text/plain": [
       "(1, 1)"
      ]
     },
     "execution_count": 8,
     "metadata": {},
     "output_type": "execute_result"
    }
   ],
   "source": [
    "i, j"
   ]
  },
  {
   "cell_type": "code",
   "execution_count": 12,
   "id": "971d9a85-e610-4713-85db-efbb823a0ec6",
   "metadata": {},
   "outputs": [
    {
     "data": {
      "text/plain": [
       "([1, 2, 3], [3, 4, 5])"
      ]
     },
     "execution_count": 12,
     "metadata": {},
     "output_type": "execute_result"
    }
   ],
   "source": [
    "h1_s, h2_s"
   ]
  },
  {
   "cell_type": "code",
   "execution_count": null,
   "id": "987938ab-28ed-4b23-ba6d-9f34577697c4",
   "metadata": {},
   "outputs": [],
   "source": []
  }
 ],
 "metadata": {
  "kernelspec": {
   "display_name": "Python 3",
   "language": "python",
   "name": "python3"
  },
  "language_info": {
   "codemirror_mode": {
    "name": "ipython",
    "version": 3
   },
   "file_extension": ".py",
   "mimetype": "text/x-python",
   "name": "python",
   "nbconvert_exporter": "python",
   "pygments_lexer": "ipython3",
   "version": "3.6.13"
  }
 },
 "nbformat": 4,
 "nbformat_minor": 5
}
