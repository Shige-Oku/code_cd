{
 "cells": [
  {
   "cell_type": "code",
   "execution_count": null,
   "id": "b87e327e-9103-4eff-ab71-dc704b81ec5d",
   "metadata": {},
   "outputs": [],
   "source": [
    "# 解説を読んで実装"
   ]
  },
  {
   "cell_type": "code",
   "execution_count": 1,
   "id": "5f22f369-643d-4494-b1ea-460d89cb0b1a",
   "metadata": {},
   "outputs": [],
   "source": [
    "import numpy as np\n",
    "import math\n",
    "import collections\n",
    "import copy\n",
    "import decimal\n",
    "import itertools\n",
    "import re\n",
    "import bisect\n",
    "import scipy\n",
    "import heapq\n",
    "import array\n",
    "from collections import deque\n",
    "from functools import reduce\n",
    "from itertools import product\n",
    "from itertools import combinations\n",
    "from itertools import chain\n",
    "from functools import lru_cache\n",
    "from scipy.special import comb\n",
    "from numba import njit\n",
    "from bisect import bisect_right\n",
    "from bisect import bisect_left"
   ]
  },
  {
   "cell_type": "code",
   "execution_count": 32,
   "id": "9857ecb2-93be-4824-9427-99d704973303",
   "metadata": {},
   "outputs": [
    {
     "name": "stdin",
     "output_type": "stream",
     "text": [
      " 3\n"
     ]
    }
   ],
   "source": [
    "N = int(input())"
   ]
  },
  {
   "cell_type": "code",
   "execution_count": 33,
   "id": "1ca8bf91-97ea-4fba-8232-3ae98f96b773",
   "metadata": {},
   "outputs": [
    {
     "name": "stdin",
     "output_type": "stream",
     "text": [
      " 1 2\n",
      " 2 3\n",
      " 3 1\n"
     ]
    }
   ],
   "source": [
    "AB = [list(map(int, input().split())) for _ in range(N)]"
   ]
  },
  {
   "cell_type": "code",
   "execution_count": 41,
   "id": "791ec9fa-56cf-4934-9075-90a30e498912",
   "metadata": {},
   "outputs": [],
   "source": [
    "log = []\n",
    "for A, B in AB:\n",
    "    log.append((A, 1))\n",
    "    log.append((A+B, -1))\n",
    "log.sort()"
   ]
  },
  {
   "cell_type": "code",
   "execution_count": 42,
   "id": "d2b76567-7c64-407c-b10b-ace4eee681b3",
   "metadata": {},
   "outputs": [],
   "source": [
    "ans = [0] * (N+1)\n",
    "cnt = 0\n",
    "for i in range(len(log)-1):\n",
    "    cnt += log[i][1]\n",
    "    ans[cnt] += log[i+1][0] - log[i][0]"
   ]
  },
  {
   "cell_type": "code",
   "execution_count": 43,
   "id": "908bfdd1-16a3-48ff-8dc2-810997d2236e",
   "metadata": {},
   "outputs": [
    {
     "name": "stdout",
     "output_type": "stream",
     "text": [
      "2 2 0\n"
     ]
    }
   ],
   "source": [
    "print(*ans[1:])"
   ]
  },
  {
   "cell_type": "code",
   "execution_count": 38,
   "id": "8ac74b3d-b38b-490b-9aa8-1a6b2c82f328",
   "metadata": {},
   "outputs": [
    {
     "data": {
      "text/plain": [
       "([(0, 0), (1, 1), (2, 1), (3, -1), (3, 1), (4, -1), (5, -1)], [-4, 3, 1, 0])"
      ]
     },
     "execution_count": 38,
     "metadata": {},
     "output_type": "execute_result"
    }
   ],
   "source": [
    "log, ans"
   ]
  },
  {
   "cell_type": "code",
   "execution_count": null,
   "id": "6f0933ec-7d2f-4c78-80b6-c54446548097",
   "metadata": {},
   "outputs": [],
   "source": [
    "# WA => AC"
   ]
  },
  {
   "cell_type": "code",
   "execution_count": 48,
   "id": "2d62c4fc-2051-4403-9769-5b2e9faf6931",
   "metadata": {},
   "outputs": [],
   "source": [
    "di = collections.defaultdict(int)\n",
    "for A, B in AB:\n",
    "    di[A] += 1\n",
    "    di[A+B] -= 1"
   ]
  },
  {
   "cell_type": "code",
   "execution_count": 49,
   "id": "478f02d1-0c51-43fa-93af-360e75651fe8",
   "metadata": {},
   "outputs": [],
   "source": [
    "l = list(sorted(di.items()))"
   ]
  },
  {
   "cell_type": "code",
   "execution_count": 50,
   "id": "fc78e374-7695-4f0f-85f0-fbb87712327c",
   "metadata": {},
   "outputs": [],
   "source": [
    "day = [0] * (N+1)\n",
    "cnt = 0\n",
    "for i in range(len(l)-1):\n",
    "    cnt += l[i][1]\n",
    "    day[cnt] += l[i+1][0] - l[i][0]\n"
   ]
  },
  {
   "cell_type": "code",
   "execution_count": 51,
   "id": "611aef78-e2ce-4428-8495-ce885976a0a0",
   "metadata": {},
   "outputs": [
    {
     "name": "stdout",
     "output_type": "stream",
     "text": [
      "2 2 0\n"
     ]
    }
   ],
   "source": [
    "print(*day[1:])"
   ]
  },
  {
   "cell_type": "code",
   "execution_count": 20,
   "id": "93636b8b-ca00-4eb1-b7cf-c4ca312282ed",
   "metadata": {},
   "outputs": [
    {
     "data": {
      "text/plain": [
       "[1, 2, 2, 0]"
      ]
     },
     "execution_count": 20,
     "metadata": {},
     "output_type": "execute_result"
    }
   ],
   "source": [
    "day"
   ]
  },
  {
   "cell_type": "code",
   "execution_count": null,
   "id": "8ada9953-1c8b-46c6-87b8-de36bd244fb5",
   "metadata": {},
   "outputs": [],
   "source": []
  }
 ],
 "metadata": {
  "kernelspec": {
   "display_name": "Python 3",
   "language": "python",
   "name": "python3"
  },
  "language_info": {
   "codemirror_mode": {
    "name": "ipython",
    "version": 3
   },
   "file_extension": ".py",
   "mimetype": "text/x-python",
   "name": "python",
   "nbconvert_exporter": "python",
   "pygments_lexer": "ipython3",
   "version": "3.6.13"
  }
 },
 "nbformat": 4,
 "nbformat_minor": 5
}
