{
 "cells": [
  {
   "cell_type": "code",
   "execution_count": null,
   "id": "2a3bdf1b-b670-49da-84b4-9e2538a43fd6",
   "metadata": {},
   "outputs": [],
   "source": [
    "# 解説を読んで実装"
   ]
  },
  {
   "cell_type": "code",
   "execution_count": 1,
   "id": "b62017dd-cf9f-4be6-9df7-19902ea9d5dc",
   "metadata": {},
   "outputs": [],
   "source": [
    "import sys\n",
    "import numpy as np\n",
    "import math\n",
    "import collections\n",
    "import copy\n",
    "import decimal\n",
    "import itertools\n",
    "import re\n",
    "import bisect\n",
    "import scipy\n",
    "import heapq\n",
    "from collections import deque \n",
    "from functools import reduce\n",
    "from itertools import product\n",
    "from itertools import combinations\n",
    "from itertools import chain\n",
    "from functools import lru_cache\n",
    "from scipy.special import comb\n",
    "from numba import njit\n",
    "from bisect import bisect_right\n",
    "from bisect import bisect_left"
   ]
  },
  {
   "cell_type": "code",
   "execution_count": 28,
   "id": "adf53396-9773-4e9d-9815-977b7ffc166f",
   "metadata": {},
   "outputs": [
    {
     "name": "stdin",
     "output_type": "stream",
     "text": [
      " 9\n"
     ]
    }
   ],
   "source": [
    "N = int(input())"
   ]
  },
  {
   "cell_type": "code",
   "execution_count": 29,
   "id": "02a9fdc1-ad0b-4b81-b477-a539f92ba92f",
   "metadata": {},
   "outputs": [
    {
     "name": "stdin",
     "output_type": "stream",
     "text": [
      " 3 14 15 9 26 5 35 89 79\n"
     ]
    }
   ],
   "source": [
    "Tn = list(map(int, input().split()))"
   ]
  },
  {
   "cell_type": "code",
   "execution_count": 30,
   "id": "712ff998-9634-42f7-a793-aaa00afd5a11",
   "metadata": {},
   "outputs": [],
   "source": [
    "dp = [[False] * (1000*100+1100) for _ in range(N+1)]\n",
    "dp[0][0] = True\n",
    "for i, T in enumerate(Tn, 1):\n",
    "    for j in range(1000*100):\n",
    "        dp[i][j] |= dp[i-1][j]\n",
    "        if dp[i-1][j]:\n",
    "            dp[i][j+T] |= dp[i-1][j]"
   ]
  },
  {
   "cell_type": "code",
   "execution_count": 31,
   "id": "8a83754f-44e1-4d46-9eb3-99c39a65c821",
   "metadata": {},
   "outputs": [
    {
     "name": "stdout",
     "output_type": "stream",
     "text": [
      "138\n"
     ]
    }
   ],
   "source": [
    "ans = (sum(Tn) + 1) // 2\n",
    "for ans in range((sum(Tn)+1)//2, 1000*100+1):\n",
    "    if dp[N][ans]:\n",
    "        break\n",
    "print(ans)"
   ]
  },
  {
   "cell_type": "code",
   "execution_count": 33,
   "id": "cbb1b24a-bf32-4021-8a44-d06c72c987ca",
   "metadata": {},
   "outputs": [],
   "source": [
    "# dp[5]"
   ]
  },
  {
   "cell_type": "code",
   "execution_count": 1,
   "id": "a8ddf9b9-583a-458e-894d-bb4040638890",
   "metadata": {},
   "outputs": [
    {
     "data": {
      "text/plain": [
       "40320"
      ]
     },
     "execution_count": 1,
     "metadata": {},
     "output_type": "execute_result"
    }
   ],
   "source": [
    "8*7*6*5*4*3*2*1"
   ]
  },
  {
   "cell_type": "code",
   "execution_count": null,
   "id": "40441da6-2fcb-4646-a26b-9c635e1d5f9b",
   "metadata": {},
   "outputs": [],
   "source": []
  }
 ],
 "metadata": {
  "kernelspec": {
   "display_name": "Python 3",
   "language": "python",
   "name": "python3"
  },
  "language_info": {
   "codemirror_mode": {
    "name": "ipython",
    "version": 3
   },
   "file_extension": ".py",
   "mimetype": "text/x-python",
   "name": "python",
   "nbconvert_exporter": "python",
   "pygments_lexer": "ipython3",
   "version": "3.6.13"
  }
 },
 "nbformat": 4,
 "nbformat_minor": 5
}
