{
 "cells": [
  {
   "cell_type": "code",
   "execution_count": null,
   "id": "3d87b8df-4a63-414e-b4b5-376631f29202",
   "metadata": {},
   "outputs": [],
   "source": [
    "# 後d実装"
   ]
  },
  {
   "cell_type": "code",
   "execution_count": 1,
   "id": "602565fd-15d7-4fb3-9df1-8cc186dd23f2",
   "metadata": {},
   "outputs": [
    {
     "name": "stdin",
     "output_type": "stream",
     "text": [
      " 0 1\n"
     ]
    }
   ],
   "source": [
    "X, Y = map(int, input().split())"
   ]
  },
  {
   "cell_type": "code",
   "execution_count": 3,
   "id": "ea414e9b-c04d-42da-934d-c4fa052390e4",
   "metadata": {},
   "outputs": [
    {
     "name": "stdout",
     "output_type": "stream",
     "text": [
      "2\n"
     ]
    }
   ],
   "source": [
    "if X == Y:\n",
    "    print(X)\n",
    "else:\n",
    "    print(3-X-Y)"
   ]
  },
  {
   "cell_type": "code",
   "execution_count": null,
   "id": "a175f413-48b5-4f4b-981b-932daa48661b",
   "metadata": {},
   "outputs": [],
   "source": []
  }
 ],
 "metadata": {
  "kernelspec": {
   "display_name": "Python 3",
   "language": "python",
   "name": "python3"
  },
  "language_info": {
   "codemirror_mode": {
    "name": "ipython",
    "version": 3
   },
   "file_extension": ".py",
   "mimetype": "text/x-python",
   "name": "python",
   "nbconvert_exporter": "python",
   "pygments_lexer": "ipython3",
   "version": "3.6.13"
  }
 },
 "nbformat": 4,
 "nbformat_minor": 5
}
