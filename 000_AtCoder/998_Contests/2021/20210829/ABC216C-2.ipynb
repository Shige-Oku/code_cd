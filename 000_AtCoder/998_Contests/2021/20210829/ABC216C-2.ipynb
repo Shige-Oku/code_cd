{
 "cells": [
  {
   "cell_type": "code",
   "execution_count": 1,
   "id": "3ee98052-6275-48c0-ac1f-1e53903b2133",
   "metadata": {},
   "outputs": [],
   "source": [
    "# 解説を読んで後で実装"
   ]
  },
  {
   "cell_type": "code",
   "execution_count": 2,
   "id": "724f250f-8aa7-44a9-88c8-3872fcffd29d",
   "metadata": {},
   "outputs": [],
   "source": [
    "import sys\n",
    "import numpy as np\n",
    "import math\n",
    "import collections\n",
    "import copy\n",
    "import decimal\n",
    "import itertools\n",
    "import re\n",
    "import bisect\n",
    "import scipy\n",
    "import heapq\n",
    "from collections import deque \n",
    "from functools import reduce\n",
    "from itertools import product\n",
    "from itertools import combinations\n",
    "from itertools import chain\n",
    "from functools import lru_cache\n",
    "from scipy.special import comb\n",
    "from numba import njit\n",
    "from bisect import bisect_right\n",
    "from bisect import bisect_left"
   ]
  },
  {
   "cell_type": "code",
   "execution_count": 92,
   "id": "44293af5-c825-4684-8128-b8c766320e5e",
   "metadata": {},
   "outputs": [
    {
     "name": "stdin",
     "output_type": "stream",
     "text": [
      " 1000000000000000000\n"
     ]
    }
   ],
   "source": [
    "N = int(input())"
   ]
  },
  {
   "cell_type": "code",
   "execution_count": 93,
   "id": "c1e0689a-0c6c-4991-840c-004831796b6d",
   "metadata": {},
   "outputs": [],
   "source": [
    "n = N\n",
    "ans = \"\"\n",
    "while n > 0:\n",
    "    if n % 2 == 1:\n",
    "        ans += \"A\"\n",
    "        n -= 1\n",
    "    else:\n",
    "        ans += \"B\"\n",
    "        n //= 2\n"
   ]
  },
  {
   "cell_type": "code",
   "execution_count": 94,
   "id": "01c5a34a-1754-4be4-ade1-dbe7b12e292e",
   "metadata": {},
   "outputs": [
    {
     "name": "stdout",
     "output_type": "stream",
     "text": [
      "ABABBABABABABBBBBBABBABABBABABBABBABABBBABABABBABBBABABABBABABBBABBBBBBBBBBBBBBBBBB\n"
     ]
    }
   ],
   "source": [
    "print(ans[::-1])"
   ]
  },
  {
   "cell_type": "code",
   "execution_count": 95,
   "id": "0acdf2b0-807c-4842-a610-7a24b4bd4500",
   "metadata": {},
   "outputs": [
    {
     "name": "stdout",
     "output_type": "stream",
     "text": [
      "1000000000000000000 True\n"
     ]
    }
   ],
   "source": [
    "num = 0\n",
    "for a in ans[::-1]:\n",
    "    if a == \"A\":\n",
    "        num += 1\n",
    "    else:\n",
    "        num *= 2\n",
    "print(num, num==N)"
   ]
  },
  {
   "cell_type": "code",
   "execution_count": 64,
   "id": "10851bb6-8adf-4950-9ddc-af263fcdf5d1",
   "metadata": {},
   "outputs": [
    {
     "data": {
      "text/plain": [
       "'A'"
      ]
     },
     "execution_count": 64,
     "metadata": {},
     "output_type": "execute_result"
    }
   ],
   "source": [
    "ans"
   ]
  },
  {
   "cell_type": "code",
   "execution_count": 91,
   "id": "e9c38e5d-6ace-47ed-9999-296bcd9cee56",
   "metadata": {},
   "outputs": [
    {
     "data": {
      "text/plain": [
       "1000000000000000000"
      ]
     },
     "execution_count": 91,
     "metadata": {},
     "output_type": "execute_result"
    }
   ],
   "source": [
    "10**18"
   ]
  },
  {
   "cell_type": "code",
   "execution_count": null,
   "id": "165602e9-b416-4837-b5d5-7dc898e92214",
   "metadata": {},
   "outputs": [],
   "source": []
  }
 ],
 "metadata": {
  "kernelspec": {
   "display_name": "Python 3",
   "language": "python",
   "name": "python3"
  },
  "language_info": {
   "codemirror_mode": {
    "name": "ipython",
    "version": 3
   },
   "file_extension": ".py",
   "mimetype": "text/x-python",
   "name": "python",
   "nbconvert_exporter": "python",
   "pygments_lexer": "ipython3",
   "version": "3.6.13"
  }
 },
 "nbformat": 4,
 "nbformat_minor": 5
}
