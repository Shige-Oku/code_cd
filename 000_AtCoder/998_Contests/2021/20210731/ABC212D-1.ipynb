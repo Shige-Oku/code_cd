{
 "cells": [
  {
   "cell_type": "code",
   "execution_count": 1,
   "id": "284e1bd7-d7c9-403d-87ec-2ea533048198",
   "metadata": {},
   "outputs": [],
   "source": [
    "import sys\n",
    "import numpy as np\n",
    "import math\n",
    "import collections\n",
    "import copy\n",
    "import decimal\n",
    "import itertools\n",
    "import re\n",
    "import bisect\n",
    "import scipy\n",
    "import heapq\n",
    "from collections import deque \n",
    "from functools import reduce\n",
    "from itertools import product\n",
    "from itertools import combinations\n",
    "from itertools import chain\n",
    "from functools import lru_cache\n",
    "from scipy.special import comb\n",
    "from numba import njit\n",
    "from bisect import bisect_right\n",
    "from bisect import bisect_left"
   ]
  },
  {
   "cell_type": "code",
   "execution_count": 2,
   "id": "9300cc75-ab2e-4842-ba3b-892cf427f19c",
   "metadata": {},
   "outputs": [
    {
     "name": "stdin",
     "output_type": "stream",
     "text": [
      " 5\n"
     ]
    }
   ],
   "source": [
    "Q = int(input())"
   ]
  },
  {
   "cell_type": "code",
   "execution_count": 3,
   "id": "a6cb07b5-9ed7-4743-b804-b59f08042113",
   "metadata": {},
   "outputs": [
    {
     "name": "stdin",
     "output_type": "stream",
     "text": [
      " 1 3\n",
      " 1 5\n",
      " 3\n",
      " 2 2\n",
      " 3\n"
     ]
    }
   ],
   "source": [
    "qn = [list(map(int, input().split())) for _ in range(Q)]"
   ]
  },
  {
   "cell_type": "code",
   "execution_count": 20,
   "id": "34cc398d-acbd-4ffd-b3c8-7e59c4be5f98",
   "metadata": {},
   "outputs": [],
   "source": [
    "ad = [0, ]\n",
    "for i in range(Q):\n",
    "    if qn[i][0] == 2:\n",
    "        ad.append(ad[-1] + qn[i][1])\n",
    "    else:\n",
    "        ad.append(ad[-1])"
   ]
  },
  {
   "cell_type": "code",
   "execution_count": 25,
   "id": "b02767e9-a23a-4683-bdf6-53d120caf79c",
   "metadata": {},
   "outputs": [],
   "source": [
    "def solve(n):\n",
    "    ret = -1\n",
    "    while True:\n",
    "        c, x, p = heapq.heappop(q)\n",
    "        if c == x + (ad[n] - ad[p]):\n",
    "            ret = c\n",
    "            break\n",
    "        else:\n",
    "            heapq.heappush(q, (x + (ad[n] - ad[p]), x, p))\n",
    "    return ret"
   ]
  },
  {
   "cell_type": "code",
   "execution_count": 26,
   "id": "bcbb2ea2-c063-4d0d-b1c9-af6169365192",
   "metadata": {},
   "outputs": [
    {
     "name": "stdout",
     "output_type": "stream",
     "text": [
      "1\n",
      "2\n",
      "2\n"
     ]
    }
   ],
   "source": [
    "ans = []\n",
    "q = []\n",
    "for i in range(Q):\n",
    "    if qn[i][0] == 1:\n",
    "        heapq.heappush(q, (qn[i][1], qn[i][1], i+1))\n",
    "    elif qn[i][0] == 3:\n",
    "        ans.append(solve(i+1))"
   ]
  },
  {
   "cell_type": "code",
   "execution_count": 27,
   "id": "32d5953c-6602-4f93-9d9d-0e95c38f0400",
   "metadata": {},
   "outputs": [
    {
     "name": "stdout",
     "output_type": "stream",
     "text": [
      "3\n",
      "7\n"
     ]
    }
   ],
   "source": [
    "print(*ans, sep='\\n')"
   ]
  },
  {
   "cell_type": "code",
   "execution_count": 5,
   "id": "24f6a075-97e1-4716-aec1-8ca45785c5cb",
   "metadata": {},
   "outputs": [
    {
     "data": {
      "text/plain": [
       "[[1, 3], [1, 5], [3], [2, 2], [3]]"
      ]
     },
     "execution_count": 5,
     "metadata": {},
     "output_type": "execute_result"
    }
   ],
   "source": [
    "qn"
   ]
  },
  {
   "cell_type": "code",
   "execution_count": 7,
   "id": "df12ebfb-d121-4f17-968c-a20730deea1d",
   "metadata": {},
   "outputs": [
    {
     "data": {
      "text/plain": [
       "[0, 0, 0, 0, 2, 2]"
      ]
     },
     "execution_count": 7,
     "metadata": {},
     "output_type": "execute_result"
    }
   ],
   "source": [
    "ad"
   ]
  },
  {
   "cell_type": "code",
   "execution_count": null,
   "id": "da82dbc0-dd15-4795-af2a-7e1cf3ad443e",
   "metadata": {},
   "outputs": [],
   "source": []
  }
 ],
 "metadata": {
  "kernelspec": {
   "display_name": "Python 3",
   "language": "python",
   "name": "python3"
  },
  "language_info": {
   "codemirror_mode": {
    "name": "ipython",
    "version": 3
   },
   "file_extension": ".py",
   "mimetype": "text/x-python",
   "name": "python",
   "nbconvert_exporter": "python",
   "pygments_lexer": "ipython3",
   "version": "3.6.13"
  }
 },
 "nbformat": 4,
 "nbformat_minor": 5
}
