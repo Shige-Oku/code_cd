{
 "cells": [
  {
   "cell_type": "code",
   "execution_count": null,
   "id": "6557efd2-dd4a-4351-bb1a-1b4d6e9644d7",
   "metadata": {},
   "outputs": [],
   "source": [
    "# 解説を読んで実装"
   ]
  },
  {
   "cell_type": "code",
   "execution_count": 3,
   "id": "dbbeb0f2-6d0e-47ff-8424-edd9e2831bf0",
   "metadata": {},
   "outputs": [],
   "source": [
    "import sys\n",
    "import numpy as np\n",
    "import math\n",
    "import collections\n",
    "import copy\n",
    "import decimal\n",
    "import itertools\n",
    "import re\n",
    "import bisect\n",
    "import scipy\n",
    "import heapq\n",
    "from collections import deque \n",
    "from functools import reduce\n",
    "from itertools import product\n",
    "from itertools import combinations\n",
    "from itertools import chain\n",
    "from functools import lru_cache\n",
    "from scipy.special import comb\n",
    "from numba import njit\n",
    "from bisect import bisect_right\n",
    "from bisect import bisect_left"
   ]
  },
  {
   "cell_type": "code",
   "execution_count": 1,
   "id": "f83e8a3e-1358-4c86-8af1-1b8266c6b89b",
   "metadata": {},
   "outputs": [
    {
     "name": "stdin",
     "output_type": "stream",
     "text": [
      " 5\n"
     ]
    }
   ],
   "source": [
    "Q = int(input())"
   ]
  },
  {
   "cell_type": "code",
   "execution_count": 2,
   "id": "fd968161-e000-4fa4-bbaf-272c6fd046f3",
   "metadata": {},
   "outputs": [
    {
     "name": "stdin",
     "output_type": "stream",
     "text": [
      " 1 3 \n",
      " 1 5\n",
      " 3\n",
      " 2 2\n",
      " 3\n"
     ]
    }
   ],
   "source": [
    "qn = [list(map(int, input().split())) for _ in range(Q)]"
   ]
  },
  {
   "cell_type": "code",
   "execution_count": 6,
   "id": "c4f1d2d2-f762-4149-adbc-95baeff9f11b",
   "metadata": {},
   "outputs": [
    {
     "name": "stdout",
     "output_type": "stream",
     "text": [
      "3\n",
      "7\n"
     ]
    }
   ],
   "source": [
    "sub = 0\n",
    "q = []\n",
    "for i in range(Q):\n",
    "    if qn[i][0] == 1:\n",
    "        heapq.heappush(q, qn[i][1] - sub)\n",
    "    elif qn[i][0] == 2:\n",
    "        sub += qn[i][1]\n",
    "    else:\n",
    "        print(heapq.heappop(q) + sub)\n",
    "        "
   ]
  },
  {
   "cell_type": "code",
   "execution_count": null,
   "id": "3010bb58-a6ac-4650-9884-d09d93d042d4",
   "metadata": {},
   "outputs": [],
   "source": []
  }
 ],
 "metadata": {
  "kernelspec": {
   "display_name": "Python 3",
   "language": "python",
   "name": "python3"
  },
  "language_info": {
   "codemirror_mode": {
    "name": "ipython",
    "version": 3
   },
   "file_extension": ".py",
   "mimetype": "text/x-python",
   "name": "python",
   "nbconvert_exporter": "python",
   "pygments_lexer": "ipython3",
   "version": "3.6.13"
  }
 },
 "nbformat": 4,
 "nbformat_minor": 5
}
