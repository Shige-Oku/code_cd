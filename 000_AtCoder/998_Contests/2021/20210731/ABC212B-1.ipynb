{
 "cells": [
  {
   "cell_type": "code",
   "execution_count": 1,
   "id": "e4510732-8e72-4369-b57c-80829dcc1e00",
   "metadata": {},
   "outputs": [],
   "source": [
    "import sys\n",
    "import numpy as np\n",
    "import math\n",
    "import collections\n",
    "import copy\n",
    "import decimal\n",
    "import itertools\n",
    "import re\n",
    "import bisect\n",
    "import scipy\n",
    "import heapq\n",
    "from collections import deque \n",
    "from functools import reduce\n",
    "from itertools import product\n",
    "from itertools import combinations\n",
    "from itertools import chain\n",
    "from functools import lru_cache\n",
    "from scipy.special import comb\n",
    "from numba import njit\n",
    "from bisect import bisect_right\n",
    "from bisect import bisect_left"
   ]
  },
  {
   "cell_type": "code",
   "execution_count": 21,
   "id": "52dfb56f-3c3d-438a-994a-ef65e4c3a60c",
   "metadata": {},
   "outputs": [
    {
     "name": "stdin",
     "output_type": "stream",
     "text": [
      " 9012\n"
     ]
    }
   ],
   "source": [
    "X = input()"
   ]
  },
  {
   "cell_type": "code",
   "execution_count": 22,
   "id": "5cfeae55-76ec-4ab7-8d1c-4d678b0941f6",
   "metadata": {},
   "outputs": [],
   "source": [
    "X_c = collections.Counter(X)"
   ]
  },
  {
   "cell_type": "code",
   "execution_count": 25,
   "id": "e1280fb3-3c06-423a-b139-536069ff298a",
   "metadata": {},
   "outputs": [
    {
     "name": "stdout",
     "output_type": "stream",
     "text": [
      "1\n",
      "2\n",
      "3\n",
      "Weak\n"
     ]
    }
   ],
   "source": [
    "if len(X_c) == 1:\n",
    "    print('Weak')\n",
    "else:\n",
    "    for i in range(1, len(X)):\n",
    "        n = int(X[i-1])\n",
    "        if (n + 1) % 10 != int(X[i]):\n",
    "            print('Strong')\n",
    "            break\n",
    "    else:\n",
    "        print('Weak')"
   ]
  },
  {
   "cell_type": "code",
   "execution_count": 10,
   "id": "79646c7a-e4a9-4a35-833c-4ed0a8a5e932",
   "metadata": {},
   "outputs": [
    {
     "data": {
      "text/plain": [
       "Counter({'0': 1, '1': 2, '2': 1})"
      ]
     },
     "execution_count": 10,
     "metadata": {},
     "output_type": "execute_result"
    }
   ],
   "source": [
    "X_c"
   ]
  },
  {
   "cell_type": "code",
   "execution_count": null,
   "id": "82f00fff-a768-428a-a20c-6673ad5d6985",
   "metadata": {},
   "outputs": [],
   "source": []
  }
 ],
 "metadata": {
  "kernelspec": {
   "display_name": "Python 3",
   "language": "python",
   "name": "python3"
  },
  "language_info": {
   "codemirror_mode": {
    "name": "ipython",
    "version": 3
   },
   "file_extension": ".py",
   "mimetype": "text/x-python",
   "name": "python",
   "nbconvert_exporter": "python",
   "pygments_lexer": "ipython3",
   "version": "3.6.13"
  }
 },
 "nbformat": 4,
 "nbformat_minor": 5
}
