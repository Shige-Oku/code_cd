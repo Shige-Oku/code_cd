{
 "cells": [
  {
   "cell_type": "code",
   "execution_count": 1,
   "id": "6935375a-2396-4040-abd8-3bde66244f41",
   "metadata": {},
   "outputs": [],
   "source": [
    "import numpy as np\n",
    "import math\n",
    "import collections\n",
    "import copy\n",
    "import decimal\n",
    "import itertools\n",
    "import re\n",
    "import bisect\n",
    "import scipy\n",
    "import heapq\n",
    "import array\n",
    "from collections import deque\n",
    "from functools import reduce\n",
    "from itertools import product\n",
    "from itertools import combinations\n",
    "from itertools import chain\n",
    "from functools import lru_cache\n",
    "from scipy.special import comb\n",
    "from numba import njit\n",
    "from bisect import bisect_right\n",
    "from bisect import bisect_left"
   ]
  },
  {
   "cell_type": "code",
   "execution_count": 44,
   "id": "a165326a-818d-4aac-84a4-3347ff755c5c",
   "metadata": {},
   "outputs": [
    {
     "name": "stdin",
     "output_type": "stream",
     "text": [
      " 5\n"
     ]
    }
   ],
   "source": [
    "N = int(input())"
   ]
  },
  {
   "cell_type": "code",
   "execution_count": 45,
   "id": "8b81cfa0-4ca6-4163-bbeb-a7b79595550f",
   "metadata": {},
   "outputs": [
    {
     "name": "stdin",
     "output_type": "stream",
     "text": [
      " 0 1 2 3 4\n"
     ]
    }
   ],
   "source": [
    "An = list(map(int, input().split()))"
   ]
  },
  {
   "cell_type": "code",
   "execution_count": 46,
   "id": "dc45833f-d2ee-4116-a999-cc36392d3cac",
   "metadata": {},
   "outputs": [],
   "source": [
    "dp = [[0] * 10 for _ in range(N+1)]\n",
    "dp[0][An[0]] = 1\n",
    "for i in range(1, N):\n",
    "    for j in range(10):\n",
    "        if dp[i-1][j] == 0:\n",
    "            continue\n",
    "        idx = (j + An[i]) % 10\n",
    "        dp[i][idx] += dp[i-1][j]\n",
    "        dp[i][idx] %= 998244353\n",
    "        idx = (j * An[i]) % 10\n",
    "        dp[i][idx] += dp[i-1][j]\n",
    "        dp[i][idx] %= 998244353\n"
   ]
  },
  {
   "cell_type": "code",
   "execution_count": 47,
   "id": "27ed4f60-a77a-48c8-aaba-58333dc34d2d",
   "metadata": {},
   "outputs": [
    {
     "name": "stdout",
     "output_type": "stream",
     "text": [
      "6\n",
      "0\n",
      "1\n",
      "1\n",
      "4\n",
      "0\n",
      "1\n",
      "1\n",
      "0\n",
      "2\n"
     ]
    }
   ],
   "source": [
    "for i in range(10):\n",
    "    print(dp[N-1][i])"
   ]
  },
  {
   "cell_type": "code",
   "execution_count": 40,
   "id": "600005d2-ff38-4a56-a5ef-3164c20701ce",
   "metadata": {},
   "outputs": [
    {
     "data": {
      "text/plain": [
       "[[0, 0, 1, 0, 0, 0, 0, 0, 0, 0],\n",
       " [0, 0, 0, 0, 0, 0, 0, 1, 1, 0],\n",
       " [0, 0, 2, 0, 0, 0, 0, 0, 2, 0],\n",
       " [0, 0, 0, 0, 0, 0, 0, 0, 0, 0]]"
      ]
     },
     "execution_count": 40,
     "metadata": {},
     "output_type": "execute_result"
    }
   ],
   "source": [
    "dp"
   ]
  },
  {
   "cell_type": "code",
   "execution_count": 19,
   "id": "1be0543e-765f-41ea-9a0d-062476c36ed1",
   "metadata": {},
   "outputs": [
    {
     "data": {
      "text/plain": [
       "13"
      ]
     },
     "execution_count": 19,
     "metadata": {},
     "output_type": "execute_result"
    }
   ],
   "source": [
    "An[2-1]+An[2]"
   ]
  },
  {
   "cell_type": "code",
   "execution_count": 33,
   "id": "75580ce7-ff37-4d7f-a2dc-fc3536b01de3",
   "metadata": {},
   "outputs": [
    {
     "data": {
      "text/plain": [
       "[2, 7]"
      ]
     },
     "execution_count": 33,
     "metadata": {},
     "output_type": "execute_result"
    }
   ],
   "source": [
    "An[:2]"
   ]
  },
  {
   "cell_type": "code",
   "execution_count": null,
   "id": "2b377e33-8bb1-42d6-9cd3-9e218b46f2fc",
   "metadata": {},
   "outputs": [],
   "source": []
  }
 ],
 "metadata": {
  "kernelspec": {
   "display_name": "Python 3",
   "language": "python",
   "name": "python3"
  },
  "language_info": {
   "codemirror_mode": {
    "name": "ipython",
    "version": 3
   },
   "file_extension": ".py",
   "mimetype": "text/x-python",
   "name": "python",
   "nbconvert_exporter": "python",
   "pygments_lexer": "ipython3",
   "version": "3.6.13"
  }
 },
 "nbformat": 4,
 "nbformat_minor": 5
}
