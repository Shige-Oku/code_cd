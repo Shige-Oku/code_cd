{
 "cells": [
  {
   "cell_type": "code",
   "execution_count": 1,
   "id": "f8d68084-7f26-4c31-9354-f419a5b65595",
   "metadata": {},
   "outputs": [],
   "source": [
    "import sys\n",
    "import numpy as np\n",
    "import math\n",
    "import collections\n",
    "import copy\n",
    "import decimal\n",
    "import itertools\n",
    "import re\n",
    "import bisect\n",
    "import scipy\n",
    "import heapq\n",
    "import array\n",
    "from collections import deque\n",
    "from functools import reduce\n",
    "from itertools import product\n",
    "from itertools import combinations\n",
    "from itertools import chain\n",
    "from functools import lru_cache\n",
    "from scipy.special import comb\n",
    "from numba import njit\n",
    "from bisect import bisect_right\n",
    "from bisect import bisect_left"
   ]
  },
  {
   "cell_type": "code",
   "execution_count": 48,
   "id": "2a614598-1275-41a3-899c-600e5918e4c1",
   "metadata": {},
   "outputs": [
    {
     "name": "stdin",
     "output_type": "stream",
     "text": [
      " 5 3 2\n"
     ]
    }
   ],
   "source": [
    "N, A, B = map(int, input().split())"
   ]
  },
  {
   "cell_type": "code",
   "execution_count": 49,
   "id": "aa4dc36e-842b-4506-a2fa-8a348497fda2",
   "metadata": {},
   "outputs": [
    {
     "name": "stdin",
     "output_type": "stream",
     "text": [
      " 1 5 1 5\n"
     ]
    }
   ],
   "source": [
    "P, Q, R, S = map(int, input().split())"
   ]
  },
  {
   "cell_type": "code",
   "execution_count": 50,
   "id": "1dc0bfff-2c85-4617-93ba-fed09e101d8f",
   "metadata": {},
   "outputs": [],
   "source": [
    "ans = [['.'] * ((S-R)+1) for _ in range((Q-P)+1)]\n"
   ]
  },
  {
   "cell_type": "code",
   "execution_count": 53,
   "id": "cdfd41d0-1fb5-4735-9c31-0fb74c17d6be",
   "metadata": {},
   "outputs": [],
   "source": [
    "for i in range(P, Q+1):\n",
    "    for j in range(R, S+1):\n",
    "        if i - j == A - B:\n",
    "            ans[i-P][j-R] = '#'\n",
    "        if i + j == A + B:\n",
    "            ans[i-P][j-R] = '#'\n",
    "           "
   ]
  },
  {
   "cell_type": "code",
   "execution_count": 56,
   "id": "bb2f9469-b170-4356-94dc-ed77e5794a2b",
   "metadata": {},
   "outputs": [
    {
     "name": "stdout",
     "output_type": "stream",
     "text": [
      "...#.\n",
      "#.#..\n",
      ".#...\n",
      "#.#..\n",
      "...#.\n"
     ]
    }
   ],
   "source": [
    "for a in ans:\n",
    "    print(''.join(a))"
   ]
  },
  {
   "cell_type": "code",
   "execution_count": 54,
   "id": "d874b6c4-7c16-4311-9217-13ab5af7dddd",
   "metadata": {},
   "outputs": [
    {
     "data": {
      "text/plain": [
       "[['.', '.', '.', '#', '.'],\n",
       " ['#', '.', '#', '.', '.'],\n",
       " ['.', '#', '.', '.', '.'],\n",
       " ['#', '.', '#', '.', '.'],\n",
       " ['.', '.', '.', '#', '.']]"
      ]
     },
     "execution_count": 54,
     "metadata": {},
     "output_type": "execute_result"
    }
   ],
   "source": [
    "ans"
   ]
  },
  {
   "cell_type": "code",
   "execution_count": 14,
   "id": "1afe8a41-d777-41c2-9673-69f4d9cfcdcf",
   "metadata": {},
   "outputs": [
    {
     "data": {
      "text/plain": [
       "(-1, 2, -2, 1)"
      ]
     },
     "execution_count": 14,
     "metadata": {},
     "output_type": "execute_result"
    }
   ],
   "source": [
    "s1, b1, s2, b2"
   ]
  },
  {
   "cell_type": "code",
   "execution_count": 20,
   "id": "40e42b36-0aff-43d9-8a38-d232bfd2c5c1",
   "metadata": {},
   "outputs": [
    {
     "name": "stdout",
     "output_type": "stream",
     "text": [
      "0 0\n",
      "0 1\n",
      "0 2\n",
      "0 3\n",
      "0 4\n",
      "1 0\n",
      "1 1\n",
      "1 2\n",
      "1 3\n",
      "1 4\n",
      "2 0\n",
      "2 1\n",
      "2 2\n",
      "2 3\n",
      "2 4\n",
      "3 0\n",
      "3 1\n",
      "3 2\n",
      "3 3\n",
      "3 4\n",
      "4 0\n",
      "4 1\n",
      "4 2\n",
      "4 3\n",
      "4 4\n"
     ]
    }
   ],
   "source": [
    "for i in range(P-1, Q):\n",
    "    for j in range(R-1, S):\n",
    "        print(i, j)\n",
    "        if s1 <= A + i <= b1 and  s1 <= B + j <= b1:\n",
    "            ans[i-P+1][j-R+1] = '#'"
   ]
  },
  {
   "cell_type": "code",
   "execution_count": null,
   "id": "8abb7b0a-bebb-415c-a35a-d015b1804c8d",
   "metadata": {},
   "outputs": [],
   "source": []
  }
 ],
 "metadata": {
  "kernelspec": {
   "display_name": "Python 3",
   "language": "python",
   "name": "python3"
  },
  "language_info": {
   "codemirror_mode": {
    "name": "ipython",
    "version": 3
   },
   "file_extension": ".py",
   "mimetype": "text/x-python",
   "name": "python",
   "nbconvert_exporter": "python",
   "pygments_lexer": "ipython3",
   "version": "3.6.13"
  }
 },
 "nbformat": 4,
 "nbformat_minor": 5
}
