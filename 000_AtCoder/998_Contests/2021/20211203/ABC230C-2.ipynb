{
 "cells": [
  {
   "cell_type": "code",
   "execution_count": null,
   "id": "afcb2d0a-57d2-416e-9da3-685a9c8cc810",
   "metadata": {},
   "outputs": [],
   "source": [
    "# 解説を読んで実装"
   ]
  },
  {
   "cell_type": "code",
   "execution_count": 1,
   "id": "0e595189-d93b-4a54-911a-1bcbdc8e6881",
   "metadata": {},
   "outputs": [],
   "source": [
    "import sys\n",
    "import numpy as np\n",
    "import math\n",
    "import collections\n",
    "import copy\n",
    "import decimal\n",
    "import itertools\n",
    "import re\n",
    "import bisect\n",
    "import scipy\n",
    "import heapq\n",
    "import array\n",
    "from collections import deque\n",
    "from functools import reduce\n",
    "from itertools import product\n",
    "from itertools import combinations\n",
    "from itertools import chain\n",
    "from functools import lru_cache\n",
    "from scipy.special import comb\n",
    "from numba import njit\n",
    "from bisect import bisect_right\n",
    "from bisect import bisect_left"
   ]
  },
  {
   "cell_type": "code",
   "execution_count": 37,
   "id": "ae1c4ee4-9336-4074-a80a-6145bd3dd3bd",
   "metadata": {},
   "outputs": [
    {
     "name": "stdin",
     "output_type": "stream",
     "text": [
      " 5 3 3\n"
     ]
    }
   ],
   "source": [
    "N, A, B = map(int, input().split())"
   ]
  },
  {
   "cell_type": "code",
   "execution_count": 38,
   "id": "62b16783-4f71-4837-8b42-cd036dd2c978",
   "metadata": {},
   "outputs": [
    {
     "name": "stdin",
     "output_type": "stream",
     "text": [
      " 4 5 2 5\n"
     ]
    }
   ],
   "source": [
    "P, Q, R, S = map(int, input().split())"
   ]
  },
  {
   "cell_type": "code",
   "execution_count": 39,
   "id": "e3c7c5ef-277d-4798-942c-44c9a5448682",
   "metadata": {},
   "outputs": [],
   "source": [
    "ans = [['.'] * (S-R+1) for _ in range(Q-P+1)]\n",
    "x = max(P-A, R-B)\n",
    "y = min(Q-A, S-B)\n",
    "for k in range(x, y+1):\n",
    "    ans[A+k-P][B+k-R] = '#'\n",
    "\n",
    "x = max(P-A, B-S)\n",
    "y = min(Q-A, B-R)\n",
    "for k in range(x, y+1):\n",
    "    ans[A+k-P][B-k-R] = '#'\n",
    "    "
   ]
  },
  {
   "cell_type": "code",
   "execution_count": 40,
   "id": "3c6073fb-1b5f-44b0-abcb-7e90498abf3f",
   "metadata": {},
   "outputs": [
    {
     "name": "stdout",
     "output_type": "stream",
     "text": [
      "#.#.\n",
      "...#\n"
     ]
    }
   ],
   "source": [
    "for a in ans:\n",
    "    print(''.join(a))"
   ]
  },
  {
   "cell_type": "code",
   "execution_count": 30,
   "id": "d3e1e763-3e8a-4ad7-8481-e6ec94f535b8",
   "metadata": {},
   "outputs": [
    {
     "data": {
      "text/plain": [
       "[['.', '#'], ['.', '.'], ['.', '.'], ['.', '.']]"
      ]
     },
     "execution_count": 30,
     "metadata": {},
     "output_type": "execute_result"
    }
   ],
   "source": [
    "ans"
   ]
  },
  {
   "cell_type": "code",
   "execution_count": 29,
   "id": "2eec27de-c230-4247-b69e-1ff6aa2c5da8",
   "metadata": {},
   "outputs": [
    {
     "data": {
      "text/plain": [
       "(1, 2, 2)"
      ]
     },
     "execution_count": 29,
     "metadata": {},
     "output_type": "execute_result"
    }
   ],
   "source": [
    "x, y, k"
   ]
  },
  {
   "cell_type": "code",
   "execution_count": null,
   "id": "0c87dc9e-ca75-4ef8-a9d6-c75df805ab45",
   "metadata": {},
   "outputs": [],
   "source": []
  }
 ],
 "metadata": {
  "kernelspec": {
   "display_name": "Python 3",
   "language": "python",
   "name": "python3"
  },
  "language_info": {
   "codemirror_mode": {
    "name": "ipython",
    "version": 3
   },
   "file_extension": ".py",
   "mimetype": "text/x-python",
   "name": "python",
   "nbconvert_exporter": "python",
   "pygments_lexer": "ipython3",
   "version": "3.6.13"
  }
 },
 "nbformat": 4,
 "nbformat_minor": 5
}
