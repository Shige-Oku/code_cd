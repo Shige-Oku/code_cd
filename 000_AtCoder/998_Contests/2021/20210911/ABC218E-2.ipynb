{
 "cells": [
  {
   "cell_type": "code",
   "execution_count": null,
   "id": "eae072e4-0ba2-4121-95f8-3bb679a02c7a",
   "metadata": {},
   "outputs": [],
   "source": [
    "# 解説を読んで実装"
   ]
  },
  {
   "cell_type": "code",
   "execution_count": 1,
   "id": "25d50ccb-3b59-4678-99ca-87e6a2cc4229",
   "metadata": {},
   "outputs": [],
   "source": [
    "import numpy as np\n",
    "import math\n",
    "import collections\n",
    "import copy\n",
    "import decimal\n",
    "import itertools\n",
    "import re\n",
    "import bisect\n",
    "import scipy\n",
    "import heapq\n",
    "from collections import deque \n",
    "from functools import reduce\n",
    "from itertools import product\n",
    "from itertools import combinations\n",
    "from itertools import chain\n",
    "from functools import lru_cache\n",
    "from scipy.special import comb\n",
    "from numba import njit\n",
    "from bisect import bisect_right\n",
    "from bisect import bisect_left"
   ]
  },
  {
   "cell_type": "code",
   "execution_count": 2,
   "id": "403b2620-c0c0-4257-8a58-654467b17196",
   "metadata": {},
   "outputs": [
    {
     "name": "stdin",
     "output_type": "stream",
     "text": [
      " 4 5\n"
     ]
    }
   ],
   "source": [
    "N, M = map(int, input().split())"
   ]
  },
  {
   "cell_type": "code",
   "execution_count": 4,
   "id": "4e5396a7-6acd-4aeb-98eb-750fbc76e5e5",
   "metadata": {},
   "outputs": [
    {
     "name": "stdin",
     "output_type": "stream",
     "text": [
      " 1 2 1\n",
      " 1 3 1\n",
      " 1 4 1\n",
      " 3 2 2\n",
      " 4 2 2\n"
     ]
    }
   ],
   "source": [
    "ABC = []\n",
    "ans = 0\n",
    "for _ in range(M):\n",
    "    A, B, C = map(int, input().split())\n",
    "    ABC.append((A-1, B-1, C))\n",
    "    if C > 0:\n",
    "        ans += C"
   ]
  },
  {
   "cell_type": "code",
   "execution_count": 14,
   "id": "21444df6-af41-45c1-bf78-aa2845d7ce15",
   "metadata": {},
   "outputs": [],
   "source": [
    "graph = [[] for _ in range(N)]\n",
    "for A, B, C in ABC:\n",
    "    graph[A].append((B, C))\n",
    "    graph[B].append((A, C))"
   ]
  },
  {
   "cell_type": "code",
   "execution_count": 42,
   "id": "22e8dfc4-3a04-4760-83f1-c34575c6b9bb",
   "metadata": {},
   "outputs": [],
   "source": [
    "def solve(cost):\n",
    "    ret = cost\n",
    "    visit = [False] * N\n",
    "    cnt = 0\n",
    "    q = []\n",
    "    heapq.heappush(q, (0, 0))\n",
    "    while cnt < N:\n",
    "        c, p = heapq.heappop(q)\n",
    "        if visit[p]:\n",
    "            continue\n",
    "        visit[p] = True\n",
    "        cnt += 1\n",
    "        if c > 0:\n",
    "            ret -= c\n",
    "        for ne, c2 in graph[p]:\n",
    "            if visit[ne]:\n",
    "                continue\n",
    "            heapq.heappush(q, (c2, ne))\n",
    "\n",
    "    return ret"
   ]
  },
  {
   "cell_type": "code",
   "execution_count": 43,
   "id": "9ce687a8-9406-49ad-9bfc-a465df15f131",
   "metadata": {},
   "outputs": [
    {
     "name": "stdout",
     "output_type": "stream",
     "text": [
      "4\n"
     ]
    }
   ],
   "source": [
    "print(solve(ans))"
   ]
  },
  {
   "cell_type": "code",
   "execution_count": 37,
   "id": "d1155e84-932d-48de-b320-4b915957cacd",
   "metadata": {},
   "outputs": [
    {
     "data": {
      "text/plain": [
       "([[(1, 1), (2, 1), (3, 1)],\n",
       "  [(0, 1), (2, 2), (3, 2)],\n",
       "  [(0, 1), (1, 2)],\n",
       "  [(0, 1), (1, 2)]],\n",
       " 4)"
      ]
     },
     "execution_count": 37,
     "metadata": {},
     "output_type": "execute_result"
    }
   ],
   "source": [
    "graph, N"
   ]
  },
  {
   "cell_type": "code",
   "execution_count": 12,
   "id": "7162438f-c13f-44ee-b3b5-b1a064aa672a",
   "metadata": {},
   "outputs": [],
   "source": [
    "def solve(cost):\n",
    "    ret = cost\n",
    "    visit = [False] * N\n",
    "    cnt = 0\n",
    "    q = []\n",
    "    for A, B, C in ABC:\n",
    "        heapq.heappush(q, (C, A, B))\n",
    "    while q:\n",
    "        if cnt >= N:\n",
    "            break\n",
    "        C, A, B = heapq.heappop(q)\n",
    "        if visit[A] and visit[B]:\n",
    "            continue\n",
    "        if not visit[A]:\n",
    "            visit[A] = True\n",
    "            cnt += 1\n",
    "        if not visit[B]:\n",
    "            visit[B] = True\n",
    "            cnt += 1\n",
    "        if C > 0:\n",
    "            ret -= C\n",
    "    return ret"
   ]
  },
  {
   "cell_type": "code",
   "execution_count": null,
   "id": "f8862ff8-f8cc-4b38-86f0-bd318edbbc4c",
   "metadata": {},
   "outputs": [],
   "source": []
  }
 ],
 "metadata": {
  "kernelspec": {
   "display_name": "Python 3",
   "language": "python",
   "name": "python3"
  },
  "language_info": {
   "codemirror_mode": {
    "name": "ipython",
    "version": 3
   },
   "file_extension": ".py",
   "mimetype": "text/x-python",
   "name": "python",
   "nbconvert_exporter": "python",
   "pygments_lexer": "ipython3",
   "version": "3.6.13"
  }
 },
 "nbformat": 4,
 "nbformat_minor": 5
}
