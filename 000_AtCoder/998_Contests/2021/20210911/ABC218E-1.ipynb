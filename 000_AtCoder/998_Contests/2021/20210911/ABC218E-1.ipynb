{
 "cells": [
  {
   "cell_type": "code",
   "execution_count": 1,
   "id": "1c77101f-134b-465b-b10e-9437ff8666ca",
   "metadata": {},
   "outputs": [],
   "source": [
    "import numpy as np\n",
    "import math\n",
    "import collections\n",
    "import copy\n",
    "import decimal\n",
    "import itertools\n",
    "import re\n",
    "import bisect\n",
    "import scipy\n",
    "import heapq\n",
    "from collections import deque \n",
    "from functools import reduce\n",
    "from itertools import product\n",
    "from itertools import combinations\n",
    "from itertools import chain\n",
    "from functools import lru_cache\n",
    "from scipy.special import comb\n",
    "from numba import njit\n",
    "from bisect import bisect_right\n",
    "from bisect import bisect_left"
   ]
  },
  {
   "cell_type": "code",
   "execution_count": 20,
   "id": "9cc2d487-7e26-4672-b09a-7af4aa34f2fe",
   "metadata": {},
   "outputs": [
    {
     "name": "stdin",
     "output_type": "stream",
     "text": [
      " 3 3\n"
     ]
    }
   ],
   "source": [
    "N, M = map(int, input().split())"
   ]
  },
  {
   "cell_type": "code",
   "execution_count": 21,
   "id": "0a0f46e7-b17f-4907-a1b0-426720bb7104",
   "metadata": {},
   "outputs": [
    {
     "name": "stdin",
     "output_type": "stream",
     "text": [
      " 1 2 1\n",
      " 2 3 0\n",
      " 3 1 -1\n"
     ]
    }
   ],
   "source": [
    "ABC = []\n",
    "for _ in range(M):\n",
    "    A, B, C = map(int, input().split())\n",
    "    ABC.append((A-1, B-1, C))"
   ]
  },
  {
   "cell_type": "code",
   "execution_count": 22,
   "id": "b11225fe-c2a3-4a84-abd8-bbc86018f5d2",
   "metadata": {},
   "outputs": [],
   "source": [
    "from collections import defaultdict\n",
    "import sys\n",
    "class UnionFind():\n",
    "    # イニシャライザ\n",
    "    def __init__(self, n):\n",
    "        self.n = n  # 頂点の数\n",
    "        self.parents = [-1] * n  # 親の頂点。根は -1\n",
    "        self.size = [1] * n  # 各頂点の所属する木の頂点数\n",
    "        sys.setrecursionlimit(10**7)\n",
    "        \n",
    "    # 根を返す\n",
    "    def root(self, x):\n",
    "        if self.parents[x] < 0: # 根なのでそのまま返す\n",
    "            return x\n",
    "        else:\n",
    "            self.parents[x] = self.root(self.parents[x])  # 経路圧縮\n",
    "            return self.parents[x]\n",
    "        \n",
    "    # x, y が同じ木に属するか\n",
    "    def issame(self, x, y):\n",
    "        return self.root(x) == self.root(y)\n",
    "    \n",
    "    # x y を併合する    \n",
    "    def unite(self, x, y):\n",
    "        x = self.root(x)\n",
    "        y = self.root(y)\n",
    "        \n",
    "        # 元々同じ木に所属するので、何もせずリターン\n",
    "        if x == y:\n",
    "            return False\n",
    "        \n",
    "        # 大きいほうにまとめる。 y を x にまとめるようにスワップ\n",
    "        if self.parents[x] < self.parents[y]:\n",
    "            x, y = y, x\n",
    "        # 小さいほうの親を大きいほうを親に\n",
    "        self.parents[y] = x\n",
    "        # 大きいほうの頂点に小さいほうの数を加算\n",
    "        self.size[x] += self.size[y]\n",
    "        return True\n",
    "    \n",
    "    # x の所属する頂点数を返す\n",
    "    def getsize(self, x):\n",
    "        return self.size[self.root(x)]\n",
    "\n",
    "    # x の所属する頂点の一覧を返す\n",
    "    def getmembers(self, x):\n",
    "        root = self.root(x)\n",
    "        return [i for i in range(self.n) if self.root(i) == root]    "
   ]
  },
  {
   "cell_type": "code",
   "execution_count": 29,
   "id": "3cef1802-1647-4e84-9de8-656a84fc3cea",
   "metadata": {},
   "outputs": [],
   "source": [
    "ABC_s = sorted(ABC, key=lambda x:x[2])\n",
    "ans = 0\n",
    "UF = UnionFind(N)\n",
    "l = 0\n",
    "for i, (A, B, C) in enumerate(ABC_s):\n",
    "    if UF.issame(A, B):\n",
    "        if C > 0:\n",
    "            ans += C\n",
    "        continue\n",
    "    UF.unite(A, B)\n",
    "    l += 1\n",
    "    if l > N:\n",
    "        break\n"
   ]
  },
  {
   "cell_type": "code",
   "execution_count": 30,
   "id": "bf834c6b-4cdf-4ac7-a32b-f3d8ed0023be",
   "metadata": {},
   "outputs": [
    {
     "name": "stdout",
     "output_type": "stream",
     "text": [
      "1\n"
     ]
    }
   ],
   "source": [
    "print(ans)"
   ]
  },
  {
   "cell_type": "code",
   "execution_count": 13,
   "id": "e23f57a5-445e-408c-ad77-f13ea8ee587f",
   "metadata": {},
   "outputs": [],
   "source": [
    "ABC_s = sorted(ABC, key=lambda x:x[2])"
   ]
  },
  {
   "cell_type": "code",
   "execution_count": 25,
   "id": "013e52af-0fb7-45ab-b13b-cc733fedd4ab",
   "metadata": {},
   "outputs": [
    {
     "data": {
      "text/plain": [
       "[(2, 0, -1), (1, 2, 0), (0, 1, 1)]"
      ]
     },
     "execution_count": 25,
     "metadata": {},
     "output_type": "execute_result"
    }
   ],
   "source": [
    "ABC_s"
   ]
  },
  {
   "cell_type": "code",
   "execution_count": null,
   "id": "07d71d4b-6cad-47e4-b0a2-1559aa9307f3",
   "metadata": {},
   "outputs": [],
   "source": []
  },
  {
   "cell_type": "code",
   "execution_count": 12,
   "id": "89368d64-20ec-48e2-b93c-aaf2111302aa",
   "metadata": {},
   "outputs": [
    {
     "name": "stdout",
     "output_type": "stream",
     "text": [
      "0 1\n",
      "1 1\n",
      "2 1\n",
      "3 2\n"
     ]
    }
   ],
   "source": [
    "ABC_s = sorted(ABC, key=lambda x:x[2])\n",
    "ans = 0\n",
    "for i in range(N):\n",
    "    UF = UnionFind(N)\n",
    "    cc = 0\n",
    "    for j, (A, B, C) in enumerate(ABC):\n",
    "        if i == j:\n",
    "            if C < 0:\n",
    "                break\n",
    "            else:\n",
    "                continue\n",
    "        UF.unite(A, B)\n",
    "    for k in range(N):c\n",
    "        if not UF.issame(0, k):\n",
    "            break\n",
    "    else:\n",
    "        print(i, ABC[i][2])\n",
    "        if ABC[i][2] > 0:\n",
    "            ans += ABC[i][2]"
   ]
  }
 ],
 "metadata": {
  "kernelspec": {
   "display_name": "Python 3",
   "language": "python",
   "name": "python3"
  },
  "language_info": {
   "codemirror_mode": {
    "name": "ipython",
    "version": 3
   },
   "file_extension": ".py",
   "mimetype": "text/x-python",
   "name": "python",
   "nbconvert_exporter": "python",
   "pygments_lexer": "ipython3",
   "version": "3.6.13"
  }
 },
 "nbformat": 4,
 "nbformat_minor": 5
}
