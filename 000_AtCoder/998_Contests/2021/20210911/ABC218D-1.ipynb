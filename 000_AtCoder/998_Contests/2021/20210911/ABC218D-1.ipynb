{
 "cells": [
  {
   "cell_type": "code",
   "execution_count": null,
   "id": "0fb60869-c6e9-4c17-bf19-92d1abc2f3c2",
   "metadata": {},
   "outputs": [],
   "source": [
    "# 解説を読んで実装"
   ]
  },
  {
   "cell_type": "code",
   "execution_count": 1,
   "id": "b84df824-8cd7-4bb2-81dc-9e5cc5124058",
   "metadata": {},
   "outputs": [],
   "source": [
    "import numpy as np\n",
    "import math\n",
    "import collections\n",
    "import copy\n",
    "import decimal\n",
    "import itertools\n",
    "import re\n",
    "import bisect\n",
    "import scipy\n",
    "import heapq\n",
    "from collections import deque \n",
    "from functools import reduce\n",
    "from itertools import product\n",
    "from itertools import combinations\n",
    "from itertools import chain\n",
    "from functools import lru_cache\n",
    "from scipy.special import comb\n",
    "from numba import njit\n",
    "from bisect import bisect_right\n",
    "from bisect import bisect_left"
   ]
  },
  {
   "cell_type": "code",
   "execution_count": 1,
   "id": "36469083-a6da-4a52-80d8-dc6b4a26ada7",
   "metadata": {},
   "outputs": [
    {
     "name": "stdin",
     "output_type": "stream",
     "text": [
      " 6\n"
     ]
    }
   ],
   "source": [
    "N = int(input())"
   ]
  },
  {
   "cell_type": "code",
   "execution_count": 2,
   "id": "efa117db-f055-4ae2-9d31-4e828aa5696d",
   "metadata": {},
   "outputs": [
    {
     "name": "stdin",
     "output_type": "stream",
     "text": [
      " 0 0\n",
      " 0 1\n",
      " 1 0\n",
      " 1 1\n",
      " 2 0\n",
      " 2 1\n"
     ]
    }
   ],
   "source": [
    "XY = [list(map(int, input().split())) for _ in range(N)]"
   ]
  },
  {
   "cell_type": "code",
   "execution_count": 5,
   "id": "ce8538fa-36b8-48af-b816-c29016112e74",
   "metadata": {},
   "outputs": [],
   "source": [
    "s = set()\n",
    "for X, Y in XY:\n",
    "    s.add((X, Y))  "
   ]
  },
  {
   "cell_type": "code",
   "execution_count": 14,
   "id": "69e86702-f751-4ac0-902d-7b9c4735fd69",
   "metadata": {},
   "outputs": [],
   "source": [
    "ans = 0\n",
    "for i, (xi, yi) in enumerate(XY[:-1]):\n",
    "    for j, (xj, yj) in enumerate(XY[i+1:]):\n",
    "        if xi == xj or yi == yj:\n",
    "            continue\n",
    "        if (xi, yj) in s and (xj, yi) in s:\n",
    "            ans += 1\n"
   ]
  },
  {
   "cell_type": "code",
   "execution_count": 15,
   "id": "cb82fd21-e660-4945-b18d-ab887bbe9e3e",
   "metadata": {},
   "outputs": [
    {
     "name": "stdout",
     "output_type": "stream",
     "text": [
      "3\n"
     ]
    }
   ],
   "source": [
    "print(ans//2)"
   ]
  },
  {
   "cell_type": "code",
   "execution_count": 11,
   "id": "f5088366-5e00-4d83-bbd0-50445660a680",
   "metadata": {},
   "outputs": [],
   "source": [
    "XY_sx = sorted(XY)\n",
    "XY_sy = sorted(XY, key=lambda x:(x[1], x[0]))"
   ]
  },
  {
   "cell_type": "code",
   "execution_count": 6,
   "id": "157e02db-9b56-46b9-9d49-39f1e60d0a4c",
   "metadata": {},
   "outputs": [
    {
     "data": {
      "text/plain": [
       "{(0, 0), (0, 1), (1, 0), (1, 1), (2, 0), (2, 1)}"
      ]
     },
     "execution_count": 6,
     "metadata": {},
     "output_type": "execute_result"
    }
   ],
   "source": [
    "s"
   ]
  },
  {
   "cell_type": "code",
   "execution_count": 12,
   "id": "0a41d2f4-5a72-4c69-ad07-4aaa7cf78e53",
   "metadata": {},
   "outputs": [
    {
     "data": {
      "text/plain": [
       "[[0, 0], [0, 1], [1, 0], [1, 1], [2, 0], [2, 1]]"
      ]
     },
     "execution_count": 12,
     "metadata": {},
     "output_type": "execute_result"
    }
   ],
   "source": [
    "XY_sx"
   ]
  },
  {
   "cell_type": "code",
   "execution_count": 13,
   "id": "e2645df2-3994-45e8-b28d-8ca6f51e6680",
   "metadata": {},
   "outputs": [
    {
     "data": {
      "text/plain": [
       "[[0, 0], [1, 0], [2, 0], [0, 1], [1, 1], [2, 1]]"
      ]
     },
     "execution_count": 13,
     "metadata": {},
     "output_type": "execute_result"
    }
   ],
   "source": [
    "XY_sy"
   ]
  },
  {
   "cell_type": "code",
   "execution_count": null,
   "id": "b75ed82d-f342-4b28-bf85-f27b036d5ac7",
   "metadata": {},
   "outputs": [],
   "source": []
  }
 ],
 "metadata": {
  "kernelspec": {
   "display_name": "Python 3",
   "language": "python",
   "name": "python3"
  },
  "language_info": {
   "codemirror_mode": {
    "name": "ipython",
    "version": 3
   },
   "file_extension": ".py",
   "mimetype": "text/x-python",
   "name": "python",
   "nbconvert_exporter": "python",
   "pygments_lexer": "ipython3",
   "version": "3.6.13"
  }
 },
 "nbformat": 4,
 "nbformat_minor": 5
}
