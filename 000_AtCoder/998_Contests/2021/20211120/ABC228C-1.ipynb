{
 "cells": [
  {
   "cell_type": "code",
   "execution_count": 1,
   "id": "864cb9eb-8197-41fd-981f-eebab7392ba7",
   "metadata": {},
   "outputs": [],
   "source": [
    "import sys\n",
    "import numpy as np\n",
    "import math\n",
    "import collections\n",
    "import copy\n",
    "import decimal\n",
    "import itertools\n",
    "import re\n",
    "import bisect\n",
    "import scipy\n",
    "import heapq\n",
    "import array\n",
    "from collections import deque\n",
    "from functools import reduce\n",
    "from itertools import product\n",
    "from itertools import combinations\n",
    "from itertools import chain\n",
    "from functools import lru_cache\n",
    "from scipy.special import comb\n",
    "from numba import njit\n",
    "from bisect import bisect_right\n",
    "from bisect import bisect_left"
   ]
  },
  {
   "cell_type": "code",
   "execution_count": 23,
   "id": "2e57f66a-8fa5-4506-abcf-a8a5e9e208d8",
   "metadata": {},
   "outputs": [
    {
     "name": "stdin",
     "output_type": "stream",
     "text": [
      " 4 2\n"
     ]
    }
   ],
   "source": [
    "N, K = map(int, input().split())"
   ]
  },
  {
   "cell_type": "code",
   "execution_count": 24,
   "id": "d2ac8f9f-7155-4e74-b89e-4d9b96195626",
   "metadata": {},
   "outputs": [
    {
     "name": "stdin",
     "output_type": "stream",
     "text": [
      " 127 235 78\n",
      " 192 134 298\n",
      " 28 56 42\n",
      " 96 120 250\n"
     ]
    }
   ],
   "source": [
    "Pn = [list(map(int, input().split())) for _ in range(N)]"
   ]
  },
  {
   "cell_type": "code",
   "execution_count": 25,
   "id": "17f0b27b-0f9f-44d8-a087-7aee96ba4f25",
   "metadata": {},
   "outputs": [],
   "source": [
    "total = []\n",
    "for i, P in enumerate(Pn):\n",
    "    tt = np.sum(P)\n",
    "    total.append((tt, i))"
   ]
  },
  {
   "cell_type": "code",
   "execution_count": 28,
   "id": "96d44d40-f2e1-43dc-b3a4-b2cd5520097e",
   "metadata": {},
   "outputs": [],
   "source": [
    "total_s = sorted(total, reverse=True)\n",
    "k = [True] * (N + 1)\n",
    "for i in range(K, N):\n",
    "    if total_s[K-1][0] > total_s[i][0] + 300:\n",
    "        k[total_s[i][1]] = False"
   ]
  },
  {
   "cell_type": "code",
   "execution_count": 29,
   "id": "c728ee84-3c2f-4d22-9c79-6c274c87e4b8",
   "metadata": {},
   "outputs": [
    {
     "name": "stdout",
     "output_type": "stream",
     "text": [
      "Yes\n",
      "Yes\n",
      "No\n",
      "Yes\n"
     ]
    }
   ],
   "source": [
    "for kk in k[:-1]:\n",
    "    if kk:\n",
    "        print('Yes')\n",
    "    else:\n",
    "        print('No')"
   ]
  },
  {
   "cell_type": "code",
   "execution_count": 4,
   "id": "5d35e79f-fa1b-4b5e-aca2-34fb3ad9da7f",
   "metadata": {},
   "outputs": [
    {
     "ename": "TypeError",
     "evalue": "'builtin_function_or_method' object is not subscriptable",
     "output_type": "error",
     "traceback": [
      "\u001b[1;31m---------------------------------------------------------------------------\u001b[0m",
      "\u001b[1;31mTypeError\u001b[0m                                 Traceback (most recent call last)",
      "\u001b[1;32m<ipython-input-4-1ebe37108ec7>\u001b[0m in \u001b[0;36m<module>\u001b[1;34m\u001b[0m\n\u001b[1;32m----> 1\u001b[1;33m \u001b[0msum\u001b[0m\u001b[1;33m[\u001b[0m\u001b[0mPn\u001b[0m\u001b[1;33m[\u001b[0m\u001b[1;36m0\u001b[0m\u001b[1;33m]\u001b[0m\u001b[1;33m]\u001b[0m\u001b[1;33m\u001b[0m\u001b[1;33m\u001b[0m\u001b[0m\n\u001b[0m",
      "\u001b[1;31mTypeError\u001b[0m: 'builtin_function_or_method' object is not subscriptable"
     ]
    }
   ],
   "source": [
    "sum[Pn[0]]"
   ]
  },
  {
   "cell_type": "code",
   "execution_count": 6,
   "id": "528cd17e-4f0f-472a-bddf-c5e4cac2247c",
   "metadata": {},
   "outputs": [
    {
     "data": {
      "text/plain": [
       "515"
      ]
     },
     "execution_count": 6,
     "metadata": {},
     "output_type": "execute_result"
    }
   ],
   "source": [
    "np.sum(Pn[0])"
   ]
  },
  {
   "cell_type": "code",
   "execution_count": 14,
   "id": "25e20b8c-b407-4601-a6b6-2803bf30799d",
   "metadata": {},
   "outputs": [
    {
     "data": {
      "text/plain": [
       "([(515, 0), (428, 1), (120, 2)], [(515, 0), (428, 1), (120, 2)])"
      ]
     },
     "execution_count": 14,
     "metadata": {},
     "output_type": "execute_result"
    }
   ],
   "source": [
    "total, total_s"
   ]
  },
  {
   "cell_type": "code",
   "execution_count": 17,
   "id": "29ecd098-c239-493d-a368-7f655d7144c7",
   "metadata": {},
   "outputs": [
    {
     "data": {
      "text/plain": [
       "3"
      ]
     },
     "execution_count": 17,
     "metadata": {},
     "output_type": "execute_result"
    }
   ],
   "source": [
    "i"
   ]
  },
  {
   "cell_type": "code",
   "execution_count": 21,
   "id": "9d327cc2-0832-4de2-9f96-24d4f5b293da",
   "metadata": {},
   "outputs": [
    {
     "data": {
      "text/plain": [
       "[True, True, False, True]"
      ]
     },
     "execution_count": 21,
     "metadata": {},
     "output_type": "execute_result"
    }
   ],
   "source": [
    "k"
   ]
  },
  {
   "cell_type": "code",
   "execution_count": null,
   "id": "fcdcd8d0-c4ee-448c-b126-75adeb3662ee",
   "metadata": {},
   "outputs": [],
   "source": []
  }
 ],
 "metadata": {
  "kernelspec": {
   "display_name": "Python 3",
   "language": "python",
   "name": "python3"
  },
  "language_info": {
   "codemirror_mode": {
    "name": "ipython",
    "version": 3
   },
   "file_extension": ".py",
   "mimetype": "text/x-python",
   "name": "python",
   "nbconvert_exporter": "python",
   "pygments_lexer": "ipython3",
   "version": "3.6.13"
  }
 },
 "nbformat": 4,
 "nbformat_minor": 5
}
