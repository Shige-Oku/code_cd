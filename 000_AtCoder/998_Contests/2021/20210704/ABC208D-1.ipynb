{
 "cells": [
  {
   "cell_type": "code",
   "execution_count": null,
   "id": "63ce9577-6c62-4ba9-aeee-080aa1eeaa4d",
   "metadata": {},
   "outputs": [],
   "source": [
    "# サンプルが合わない"
   ]
  },
  {
   "cell_type": "code",
   "execution_count": 1,
   "id": "e3b19499-4c4b-4a60-b211-7178f3df75f5",
   "metadata": {},
   "outputs": [],
   "source": [
    "import sys\n",
    "import numpy as np\n",
    "import math\n",
    "import collections\n",
    "import copy\n",
    "import decimal\n",
    "import itertools\n",
    "import re\n",
    "import bisect\n",
    "import scipy\n",
    "import heapq\n",
    "from collections import deque \n",
    "from functools import reduce\n",
    "from itertools import product\n",
    "from itertools import combinations\n",
    "from itertools import chain\n",
    "from functools import lru_cache\n",
    "from scipy.special import comb\n",
    "from numba import njit\n",
    "from bisect import bisect_right\n",
    "from bisect import bisect_left"
   ]
  },
  {
   "cell_type": "code",
   "execution_count": 2,
   "id": "8ba70b9b-8d91-4f1c-a864-cb3ef3fe6ac4",
   "metadata": {},
   "outputs": [
    {
     "name": "stdin",
     "output_type": "stream",
     "text": [
      " 3 2\n"
     ]
    }
   ],
   "source": [
    "N, M = map(int, input().split())"
   ]
  },
  {
   "cell_type": "code",
   "execution_count": 3,
   "id": "e62c8ddf-c58c-4325-bbcf-b95c390434f9",
   "metadata": {},
   "outputs": [
    {
     "name": "stdin",
     "output_type": "stream",
     "text": [
      " 1 2 3\n",
      " 2 3 2\n"
     ]
    }
   ],
   "source": [
    "ABC = list(map(int, input().split()) for _ in range(M))"
   ]
  },
  {
   "cell_type": "code",
   "execution_count": 4,
   "id": "166bfa01-8e1c-4e3f-b03b-eae02a533217",
   "metadata": {},
   "outputs": [],
   "source": [
    "graph = [[] for _ in range(N+1)]\n",
    "for A, B, C in ABC:\n",
    "    graph[A].append((B, C))"
   ]
  },
  {
   "cell_type": "code",
   "execution_count": 15,
   "id": "fb2bb3c7-6281-4cfd-8570-4115c64cffe9",
   "metadata": {},
   "outputs": [],
   "source": [
    "def solve(s):\n",
    "    visit = [False] * (N+1)\n",
    "    q = []\n",
    "    heapq.heappush(q, (0, s))\n",
    "    cost[s][s] = 0\n",
    "    while q:\n",
    "        c, p = heapq.heappop(q)\n",
    "        if visit[p] :\n",
    "            continue\n",
    "        visit[p] = True\n",
    "        for p2, c2 in graph[p]:\n",
    "            if cost[s][p2] == -1 or cost[s][p] + c2 < cost[s][p2]:\n",
    "                cost[s][p2] = cost[s][p] + c2\n",
    "                heapq.heappush(q, (cost[s][p2], p2))\n",
    "                via[s][p2] = max(via[s][p2], p)\n",
    "    return"
   ]
  },
  {
   "cell_type": "code",
   "execution_count": 20,
   "id": "2b7886bd-3533-45bd-874b-eb85c15dbd8c",
   "metadata": {},
   "outputs": [],
   "source": [
    "cost = [[-1] * (N+1) for _ in range(N+1)]\n",
    "via = [[0] * (N+1) for _ in range(N+1)]\n",
    "for i in range(1, N+1):\n",
    "    solve(i)"
   ]
  },
  {
   "cell_type": "code",
   "execution_count": 33,
   "id": "6d57f3b5-14a7-44eb-a7b2-af64a69e3612",
   "metadata": {},
   "outputs": [],
   "source": [
    "ans = 0\n",
    "for i in range(1, N+1):\n",
    "    for j in range(1, N+1):\n",
    "        if i == j:\n",
    "            continue\n",
    "        if cost[i][j] == -1:\n",
    "            continue\n",
    "        if via[i][j] == i or via[i][j] == j:\n",
    "            ans += cost[i][j] * N\n",
    "        else:\n",
    "            ans += cost[i][j] * (N-via[i][j]+1) \n",
    "#         print(i, j, ans)"
   ]
  },
  {
   "cell_type": "code",
   "execution_count": 34,
   "id": "7c51b2b8-2bfa-423a-8796-0a9f2b658b9c",
   "metadata": {},
   "outputs": [
    {
     "name": "stdout",
     "output_type": "stream",
     "text": [
      "25\n"
     ]
    }
   ],
   "source": [
    "print(ans)"
   ]
  },
  {
   "cell_type": "code",
   "execution_count": 26,
   "id": "c4aede89-8381-4486-8e7d-54cd8a8e9db1",
   "metadata": {},
   "outputs": [
    {
     "data": {
      "text/plain": [
       "([[], [(2, 3)], [(3, 2)], []],\n",
       " [[-1, -1, -1, -1], [-1, 0, 3, 5], [-1, -1, 0, 2], [-1, -1, -1, 0]],\n",
       " [[0, 0, 0, 0], [0, 0, 1, 2], [0, 0, 0, 2], [0, 0, 0, 0]])"
      ]
     },
     "execution_count": 26,
     "metadata": {},
     "output_type": "execute_result"
    }
   ],
   "source": [
    "graph, cost, via"
   ]
  },
  {
   "cell_type": "code",
   "execution_count": 6,
   "id": "a8366244-ec10-4ad2-9647-3cd3d07f02a7",
   "metadata": {},
   "outputs": [
    {
     "data": {
      "text/plain": [
       "64000000"
      ]
     },
     "execution_count": 6,
     "metadata": {},
     "output_type": "execute_result"
    }
   ],
   "source": [
    "400**3"
   ]
  },
  {
   "cell_type": "code",
   "execution_count": null,
   "id": "0182653b-0bd3-43c1-adb8-06da5a05bb00",
   "metadata": {},
   "outputs": [],
   "source": []
  }
 ],
 "metadata": {
  "kernelspec": {
   "display_name": "Python 3",
   "language": "python",
   "name": "python3"
  },
  "language_info": {
   "codemirror_mode": {
    "name": "ipython",
    "version": 3
   },
   "file_extension": ".py",
   "mimetype": "text/x-python",
   "name": "python",
   "nbconvert_exporter": "python",
   "pygments_lexer": "ipython3",
   "version": "3.6.13"
  }
 },
 "nbformat": 4,
 "nbformat_minor": 5
}
