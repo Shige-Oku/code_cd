{
 "cells": [
  {
   "cell_type": "code",
   "execution_count": 1,
   "id": "e49e6e5e-a210-44e4-87ff-8263691743d4",
   "metadata": {},
   "outputs": [],
   "source": [
    "# 後で試しに実装"
   ]
  },
  {
   "cell_type": "code",
   "execution_count": 2,
   "id": "d69caaeb-0ff2-4080-b698-c95a9062c177",
   "metadata": {},
   "outputs": [
    {
     "name": "stdin",
     "output_type": "stream",
     "text": [
      " 3 2 4\n"
     ]
    }
   ],
   "source": [
    "A, B, C = map(int, input().split())"
   ]
  },
  {
   "cell_type": "code",
   "execution_count": 3,
   "id": "771f6cb7-5c59-44e2-96cd-472bb76b8daf",
   "metadata": {},
   "outputs": [
    {
     "name": "stdout",
     "output_type": "stream",
     "text": [
      ">\n"
     ]
    }
   ],
   "source": [
    "if C % 2 == 0:\n",
    "    c = 2\n",
    "else:\n",
    "    c = 1\n",
    "if pow(A, c) > pow(B, c):\n",
    "    print('>')\n",
    "elif pow(A, c) == pow(B, c):\n",
    "    print('=')\n",
    "else:\n",
    "    print('<')"
   ]
  },
  {
   "cell_type": "code",
   "execution_count": null,
   "id": "723a2666-a261-473e-87ab-be3bdc1cd86b",
   "metadata": {},
   "outputs": [],
   "source": []
  }
 ],
 "metadata": {
  "kernelspec": {
   "display_name": "Python 3",
   "language": "python",
   "name": "python3"
  },
  "language_info": {
   "codemirror_mode": {
    "name": "ipython",
    "version": 3
   },
   "file_extension": ".py",
   "mimetype": "text/x-python",
   "name": "python",
   "nbconvert_exporter": "python",
   "pygments_lexer": "ipython3",
   "version": "3.6.13"
  }
 },
 "nbformat": 4,
 "nbformat_minor": 5
}
