{
 "cells": [
  {
   "cell_type": "code",
   "execution_count": 1,
   "id": "1ea861c6-ac11-4e93-a4e8-747706ceb5d1",
   "metadata": {},
   "outputs": [],
   "source": [
    "import sys\n",
    "import numpy as np\n",
    "import math\n",
    "import collections\n",
    "import copy\n",
    "import decimal\n",
    "import itertools\n",
    "import re\n",
    "import bisect\n",
    "import scipy\n",
    "import heapq\n",
    "from collections import deque \n",
    "from functools import reduce\n",
    "from itertools import product\n",
    "from itertools import combinations\n",
    "from itertools import chain\n",
    "from functools import lru_cache\n",
    "from scipy.special import comb\n",
    "from numba import njit\n",
    "from bisect import bisect_right\n",
    "from bisect import bisect_left"
   ]
  },
  {
   "cell_type": "code",
   "execution_count": 2,
   "id": "d35426d7-9949-48c1-853b-3c771b814b21",
   "metadata": {},
   "outputs": [
    {
     "name": "stdin",
     "output_type": "stream",
     "text": [
      " 4 3\n"
     ]
    }
   ],
   "source": [
    "N, Q = map(int, input().split())"
   ]
  },
  {
   "cell_type": "code",
   "execution_count": 3,
   "id": "28401f90-b758-4393-b48c-3a200a4e2a30",
   "metadata": {},
   "outputs": [
    {
     "name": "stdin",
     "output_type": "stream",
     "text": [
      " 3 5 6 7\n"
     ]
    }
   ],
   "source": [
    "An = list(map(int, input().split()))"
   ]
  },
  {
   "cell_type": "code",
   "execution_count": 4,
   "id": "ab84fce1-4674-4270-b057-fbb03c040fd6",
   "metadata": {},
   "outputs": [
    {
     "name": "stdin",
     "output_type": "stream",
     "text": [
      " 2\n",
      " 5\n",
      " 3\n"
     ]
    }
   ],
   "source": [
    "Qn = [int(input()) for _ in range(Q)]"
   ]
  },
  {
   "cell_type": "code",
   "execution_count": 14,
   "id": "6ea40b51-1d6b-49fe-9bf0-1eabc3943a09",
   "metadata": {},
   "outputs": [],
   "source": [
    "An_s = sorted(An)\n",
    "An_cum = [An_s[0]-1, ]\n",
    "for i in range(1, N):\n",
    "    An_cum.append(An_s[i]-An_s[i-1]-1)\n",
    "Qn2 = []\n",
    "for i, Q in enumerate(Qn):\n",
    "    Qn2.append((Q, i))\n",
    "Qn_s = sorted(Qn2)"
   ]
  },
  {
   "cell_type": "code",
   "execution_count": 39,
   "id": "6e15173d-e6e9-4af8-9d93-845edefeb557",
   "metadata": {},
   "outputs": [
    {
     "name": "stdout",
     "output_type": "stream",
     "text": [
      "7 5 3\n"
     ]
    }
   ],
   "source": [
    "ans = []\n",
    "i = 0\n",
    "num = 0\n",
    "for Q, j in Qn_s:\n",
    "    while i < N:\n",
    "        if num + An_cum[i] >= Q:\n",
    "            if i > 0:\n",
    "                ans.append((j, An_s[i-1]+(Q-num)))\n",
    "#                 print(An_s[i-1]+(Q-num))\n",
    "            else:\n",
    "                ans.append((j, Q))\n",
    "#                 print(Q)\n",
    "#             i -= 1\n",
    "            break\n",
    "        num += An_cum[i]\n",
    "        i += 1\n",
    "    else:\n",
    "        ans.append((j, An_s[-1]+Q-num))\n",
    "#         print(An_s[-1], Q, num)\n",
    "            "
   ]
  },
  {
   "cell_type": "code",
   "execution_count": 40,
   "id": "37d9ac08-b16a-4cc8-a282-d365099ddcf3",
   "metadata": {},
   "outputs": [
    {
     "name": "stdout",
     "output_type": "stream",
     "text": [
      "2\n",
      "9\n",
      "4\n"
     ]
    }
   ],
   "source": [
    "for i, an in sorted(ans):\n",
    "    print(an)"
   ]
  },
  {
   "cell_type": "code",
   "execution_count": 28,
   "id": "33d2c8b3-1a67-41f5-b046-3164155b7fc4",
   "metadata": {},
   "outputs": [
    {
     "data": {
      "text/plain": [
       "([2, 1, 0, 0], [(0, 2), (2, 4), (1, 11)])"
      ]
     },
     "execution_count": 28,
     "metadata": {},
     "output_type": "execute_result"
    }
   ],
   "source": [
    "An_cum, ans"
   ]
  },
  {
   "cell_type": "code",
   "execution_count": 15,
   "id": "cd568c70-6412-4284-a9f2-eb3212007651",
   "metadata": {},
   "outputs": [
    {
     "data": {
      "text/plain": [
       "[(2, 0), (3, 2), (5, 1)]"
      ]
     },
     "execution_count": 15,
     "metadata": {},
     "output_type": "execute_result"
    }
   ],
   "source": [
    "Qn_s"
   ]
  },
  {
   "cell_type": "code",
   "execution_count": null,
   "id": "da73186f-94a9-42cb-a1dd-8bcc7f277700",
   "metadata": {},
   "outputs": [],
   "source": []
  }
 ],
 "metadata": {
  "kernelspec": {
   "display_name": "Python 3",
   "language": "python",
   "name": "python3"
  },
  "language_info": {
   "codemirror_mode": {
    "name": "ipython",
    "version": 3
   },
   "file_extension": ".py",
   "mimetype": "text/x-python",
   "name": "python",
   "nbconvert_exporter": "python",
   "pygments_lexer": "ipython3",
   "version": "3.6.13"
  }
 },
 "nbformat": 4,
 "nbformat_minor": 5
}
