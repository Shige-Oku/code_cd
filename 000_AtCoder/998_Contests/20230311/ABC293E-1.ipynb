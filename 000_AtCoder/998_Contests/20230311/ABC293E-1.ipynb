{
 "cells": [
  {
   "cell_type": "code",
   "execution_count": 1,
   "id": "d48cb847-5bff-47ef-ae81-ca9470cf4020",
   "metadata": {},
   "outputs": [],
   "source": [
    "import sys\n",
    "import numpy as np\n",
    "import math\n",
    "import collections\n",
    "import copy\n",
    "import decimal\n",
    "import itertools\n",
    "import re\n",
    "import bisect\n",
    "import scipy\n",
    "import heapq\n",
    "from collections import deque \n",
    "from functools import reduce\n",
    "from itertools import product\n",
    "from itertools import combinations\n",
    "from functools import lru_cache\n",
    "from scipy.special import comb\n",
    "from numba import njit\n",
    "from bisect import bisect_right\n",
    "from bisect import bisect_left"
   ]
  },
  {
   "cell_type": "code",
   "execution_count": 11,
   "id": "3d5537b9-c145-47d0-9f17-a9c9af206e2f",
   "metadata": {},
   "outputs": [
    {
     "name": "stdin",
     "output_type": "stream",
     "text": [
      " 1000000000 1000000000000 998244353\n"
     ]
    }
   ],
   "source": [
    "A, X, M = map(int, input().split())"
   ]
  },
  {
   "cell_type": "code",
   "execution_count": null,
   "id": "2abc98dc-c81d-4347-af53-ba6824c646ae",
   "metadata": {},
   "outputs": [],
   "source": [
    "s = 1 * (pow(A, X)) // (A-1)"
   ]
  },
  {
   "cell_type": "code",
   "execution_count": null,
   "id": "f0ae0cd4-62ed-40c8-aa09-a4c655d4b161",
   "metadata": {},
   "outputs": [],
   "source": [
    "print(s%M)"
   ]
  },
  {
   "cell_type": "code",
   "execution_count": null,
   "id": "19ea979e-4c98-4104-a13a-9196b9116283",
   "metadata": {},
   "outputs": [],
   "source": []
  }
 ],
 "metadata": {
  "kernelspec": {
   "display_name": "Python 3",
   "language": "python",
   "name": "python3"
  },
  "language_info": {
   "codemirror_mode": {
    "name": "ipython",
    "version": 3
   },
   "file_extension": ".py",
   "mimetype": "text/x-python",
   "name": "python",
   "nbconvert_exporter": "python",
   "pygments_lexer": "ipython3",
   "version": "3.6.13"
  }
 },
 "nbformat": 4,
 "nbformat_minor": 5
}
