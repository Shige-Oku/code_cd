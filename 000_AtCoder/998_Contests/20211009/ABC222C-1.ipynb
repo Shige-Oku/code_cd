{
 "cells": [
  {
   "cell_type": "code",
   "execution_count": 1,
   "id": "bdb4b8c3-2f9f-4e4c-aed1-e26fd69bd91b",
   "metadata": {},
   "outputs": [],
   "source": [
    "import numpy as np\n",
    "import math\n",
    "import collections\n",
    "import copy\n",
    "import decimal\n",
    "import itertools\n",
    "import re\n",
    "import bisect\n",
    "import scipy\n",
    "import heapq\n",
    "import array\n",
    "from collections import deque\n",
    "from functools import reduce\n",
    "from itertools import product\n",
    "from itertools import combinations\n",
    "from itertools import chain\n",
    "from functools import lru_cache\n",
    "from scipy.special import comb\n",
    "from numba import njit\n",
    "from bisect import bisect_right\n",
    "from bisect import bisect_left"
   ]
  },
  {
   "cell_type": "code",
   "execution_count": 2,
   "id": "1da199e3-4a3a-4c97-8f51-fa3fe9173da2",
   "metadata": {},
   "outputs": [
    {
     "name": "stdin",
     "output_type": "stream",
     "text": [
      " 2 3\n"
     ]
    }
   ],
   "source": [
    "N, M = map(int, input().split())"
   ]
  },
  {
   "cell_type": "code",
   "execution_count": 4,
   "id": "87aeed32-8e50-456f-b4b9-049950c02d30",
   "metadata": {},
   "outputs": [
    {
     "name": "stdin",
     "output_type": "stream",
     "text": [
      " GCP\n",
      " PPP\n",
      " CCC\n",
      " PPC\n"
     ]
    }
   ],
   "source": [
    "An = [input() for _ in range(N*2)]"
   ]
  },
  {
   "cell_type": "code",
   "execution_count": 31,
   "id": "dcd6af30-37cd-4c96-8197-8f1952292d7f",
   "metadata": {},
   "outputs": [],
   "source": []
  },
  {
   "cell_type": "code",
   "execution_count": 42,
   "id": "3f854454-4402-4edb-a444-8dd9c72fac68",
   "metadata": {},
   "outputs": [],
   "source": [
    "def solve(a, b):\n",
    "    if a == b:\n",
    "        return 0\n",
    "    if a == 'G':\n",
    "        if b == 'C':\n",
    "            return 1\n",
    "        else:\n",
    "            return -1\n",
    "    elif a == 'C':\n",
    "        if b == 'P':\n",
    "            return 1\n",
    "        else:\n",
    "            return -1\n",
    "    else:\n",
    "        if b == 'G':\n",
    "            return 1\n",
    "        else:\n",
    "            return -1\n"
   ]
  },
  {
   "cell_type": "code",
   "execution_count": 45,
   "id": "3df7de67-40ec-47bd-a75e-0455d37e73b2",
   "metadata": {},
   "outputs": [],
   "source": [
    "point = []\n",
    "for i in range(N*2):\n",
    "    point.append([0, i])\n",
    "for i in range(M):\n",
    "    i1 = 0\n",
    "    i2 = 1\n",
    "    for j in range(N):\n",
    "        ret = solve(An[point[i1][1]][i], An[point[i2][1]][i])\n",
    "        if ret > 0:\n",
    "            point[i1][0] += 1\n",
    "        elif ret < 0:\n",
    "            point[i2][0] += 1\n",
    "        i1 += 2\n",
    "        i2 += 2\n",
    "    point.sort(key=lambda x:(-x[0], x[1]))\n"
   ]
  },
  {
   "cell_type": "code",
   "execution_count": 46,
   "id": "1c888f2b-880b-4bd0-aa0d-c4b1f810061b",
   "metadata": {},
   "outputs": [
    {
     "name": "stdout",
     "output_type": "stream",
     "text": [
      "3\n",
      "1\n",
      "2\n",
      "4\n"
     ]
    }
   ],
   "source": [
    "for _, i in point:\n",
    "    print(i+1)"
   ]
  },
  {
   "cell_type": "code",
   "execution_count": null,
   "id": "490d40c6-8377-4f8b-a183-95e8a7098cb1",
   "metadata": {},
   "outputs": [],
   "source": []
  },
  {
   "cell_type": "code",
   "execution_count": 39,
   "id": "00a6cad7-fa64-4086-b369-01145368278c",
   "metadata": {},
   "outputs": [
    {
     "data": {
      "text/plain": [
       "[[3, 2], [1, 0], [1, 1], [1, 3]]"
      ]
     },
     "execution_count": 39,
     "metadata": {},
     "output_type": "execute_result"
    }
   ],
   "source": [
    "point"
   ]
  },
  {
   "cell_type": "code",
   "execution_count": null,
   "id": "ff144802-64ee-40be-84c6-ac5851ad8907",
   "metadata": {},
   "outputs": [],
   "source": []
  }
 ],
 "metadata": {
  "kernelspec": {
   "display_name": "Python 3",
   "language": "python",
   "name": "python3"
  },
  "language_info": {
   "codemirror_mode": {
    "name": "ipython",
    "version": 3
   },
   "file_extension": ".py",
   "mimetype": "text/x-python",
   "name": "python",
   "nbconvert_exporter": "python",
   "pygments_lexer": "ipython3",
   "version": "3.6.13"
  }
 },
 "nbformat": 4,
 "nbformat_minor": 5
}
