{
 "cells": [
  {
   "cell_type": "code",
   "execution_count": 1,
   "id": "a78e9863-6ca3-4591-b84c-47949c9f0b6b",
   "metadata": {},
   "outputs": [],
   "source": [
    "import numpy as np\n",
    "import math\n",
    "import collections\n",
    "import copy\n",
    "import decimal\n",
    "import itertools\n",
    "import re\n",
    "import bisect\n",
    "import scipy\n",
    "import heapq\n",
    "import array\n",
    "from collections import deque\n",
    "from functools import reduce\n",
    "from itertools import product\n",
    "from itertools import combinations\n",
    "from itertools import chain\n",
    "from functools import lru_cache\n",
    "from scipy.special import comb\n",
    "from numba import njit\n",
    "from bisect import bisect_right\n",
    "from bisect import bisect_left"
   ]
  },
  {
   "cell_type": "code",
   "execution_count": 35,
   "id": "2bc6a4f1-0d43-4020-8ec2-b950a36d3c3e",
   "metadata": {},
   "outputs": [
    {
     "name": "stdin",
     "output_type": "stream",
     "text": [
      " 3\n"
     ]
    }
   ],
   "source": [
    "N = int(input())"
   ]
  },
  {
   "cell_type": "code",
   "execution_count": 36,
   "id": "31ac41ca-bb5a-46df-b8aa-931e9eab0758",
   "metadata": {},
   "outputs": [
    {
     "name": "stdin",
     "output_type": "stream",
     "text": [
      " 2 2 2\n"
     ]
    }
   ],
   "source": [
    "An = list(map(int, input().split()))"
   ]
  },
  {
   "cell_type": "code",
   "execution_count": 37,
   "id": "7d444135-5424-4cfb-9a28-60e1416c7b31",
   "metadata": {},
   "outputs": [
    {
     "name": "stdin",
     "output_type": "stream",
     "text": [
      " 2 2 2\n"
     ]
    }
   ],
   "source": [
    "Bn = list(map(int, input().split()))"
   ]
  },
  {
   "cell_type": "code",
   "execution_count": 38,
   "id": "98eed15a-3292-4886-9be7-69ebcf73abc4",
   "metadata": {},
   "outputs": [
    {
     "name": "stdout",
     "output_type": "stream",
     "text": [
      "i = 0\n",
      "0 1\n",
      "2 2 2\n",
      "k = 2\n",
      "ans = 1\n",
      "0 2\n",
      "2 2 2\n",
      "k = 2\n",
      "ans = 2\n",
      "i = 1\n",
      "1 2\n",
      "2 2 2\n",
      "k = 2\n",
      "ans = 3\n",
      "i = 2\n"
     ]
    }
   ],
   "source": [
    "ans = 0\n",
    "for i in range(N):\n",
    "    print(\"i = {0}\".format(i))\n",
    "    for j in range(i+1, N):\n",
    "        print(i, j)\n",
    "        print(An[i], An[j], Bn[j])\n",
    "        for k in range(An[i], Bn[i]+1):\n",
    "            print(\"k = {0}\".format(k))\n",
    "            ans += Bn[j] - max(k, An[j]) + 1\n",
    "            ans %= 998244353\n",
    "            print(\"ans = {0}\".format(ans))"
   ]
  },
  {
   "cell_type": "code",
   "execution_count": 39,
   "id": "c213da0e-d180-4b3b-abe5-b6763ae99b46",
   "metadata": {},
   "outputs": [
    {
     "name": "stdout",
     "output_type": "stream",
     "text": [
      "3\n"
     ]
    }
   ],
   "source": [
    "print(ans)"
   ]
  },
  {
   "cell_type": "code",
   "execution_count": null,
   "id": "6a5c2088-4acd-4a7f-935c-930fb5bdac6a",
   "metadata": {},
   "outputs": [],
   "source": []
  }
 ],
 "metadata": {
  "kernelspec": {
   "display_name": "Python 3",
   "language": "python",
   "name": "python3"
  },
  "language_info": {
   "codemirror_mode": {
    "name": "ipython",
    "version": 3
   },
   "file_extension": ".py",
   "mimetype": "text/x-python",
   "name": "python",
   "nbconvert_exporter": "python",
   "pygments_lexer": "ipython3",
   "version": "3.6.13"
  }
 },
 "nbformat": 4,
 "nbformat_minor": 5
}
