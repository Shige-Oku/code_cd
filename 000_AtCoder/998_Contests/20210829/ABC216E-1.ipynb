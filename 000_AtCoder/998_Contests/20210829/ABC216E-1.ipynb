{
 "cells": [
  {
   "cell_type": "code",
   "execution_count": null,
   "id": "7572356a-4fec-47c7-b066-8ef0980f8cba",
   "metadata": {},
   "outputs": [],
   "source": [
    "# 完成してない"
   ]
  },
  {
   "cell_type": "code",
   "execution_count": 1,
   "id": "956ad347-c5e5-4a0c-b612-9c0b98387f9f",
   "metadata": {},
   "outputs": [],
   "source": [
    "import sys\n",
    "import numpy as np\n",
    "import math\n",
    "import collections\n",
    "import copy\n",
    "import decimal\n",
    "import itertools\n",
    "import re\n",
    "import bisect\n",
    "import scipy\n",
    "import heapq\n",
    "from collections import deque \n",
    "from functools import reduce\n",
    "from itertools import product\n",
    "from itertools import combinations\n",
    "from itertools import chain\n",
    "from functools import lru_cache\n",
    "from scipy.special import comb\n",
    "from numba import njit\n",
    "from bisect import bisect_right\n",
    "from bisect import bisect_left"
   ]
  },
  {
   "cell_type": "code",
   "execution_count": 24,
   "id": "8fdc0468-0b67-4f7a-83e0-d1ec5cf2a7cc",
   "metadata": {},
   "outputs": [
    {
     "name": "stdin",
     "output_type": "stream",
     "text": [
      " 2 2021\n"
     ]
    }
   ],
   "source": [
    "N, K = map(int, input().split())"
   ]
  },
  {
   "cell_type": "code",
   "execution_count": 25,
   "id": "d851040d-0f80-4319-822b-c8d348e980e3",
   "metadata": {},
   "outputs": [
    {
     "name": "stdin",
     "output_type": "stream",
     "text": [
      " 2 3\n"
     ]
    }
   ],
   "source": [
    "An = list(map(int, input().split()))"
   ]
  },
  {
   "cell_type": "code",
   "execution_count": 41,
   "id": "29c6651c-ffe8-46ab-b6ed-5bba8c554325",
   "metadata": {},
   "outputs": [],
   "source": [
    "An_s = sorted(An, reverse=True)\n",
    "An_di = []\n",
    "for i in range(N-1):\n",
    "    An_di.append(An_s[i]-An_s[i+1])\n",
    "An_di.append(K)"
   ]
  },
  {
   "cell_type": "code",
   "execution_count": 42,
   "id": "89d42950-86cd-44db-ae9c-10cf5dae008b",
   "metadata": {},
   "outputs": [
    {
     "name": "stdout",
     "output_type": "stream",
     "text": [
      "0 1 4 3\n",
      "1 4 0 10\n"
     ]
    }
   ],
   "source": [
    "ans = 0\n",
    "cnt = min(K, sum(An))\n",
    "s = 0\n",
    "for i in range(N):\n",
    "    s = min(An_di[i]+s, max(0, cnt))\n",
    "    ans += An_s[i] * s - (s // (i+1)) - (s % (i+1)) + 1\n",
    "    cnt -= s\n",
    "    print(i, s, cnt, ans)"
   ]
  },
  {
   "cell_type": "code",
   "execution_count": 43,
   "id": "933a6e30-cc3d-46fc-827f-3d2d10412245",
   "metadata": {},
   "outputs": [
    {
     "name": "stdout",
     "output_type": "stream",
     "text": [
      "10\n"
     ]
    }
   ],
   "source": [
    "print(ans)"
   ]
  },
  {
   "cell_type": "code",
   "execution_count": 44,
   "id": "19ee108e-f555-4c0b-86a0-d68afbcd3233",
   "metadata": {},
   "outputs": [
    {
     "data": {
      "text/plain": [
       "([3, 2], [1, 2021])"
      ]
     },
     "execution_count": 44,
     "metadata": {},
     "output_type": "execute_result"
    }
   ],
   "source": [
    "An_s, An_di"
   ]
  },
  {
   "cell_type": "code",
   "execution_count": null,
   "id": "78302dbe-00e5-4de7-bb0f-60dd4796386f",
   "metadata": {},
   "outputs": [],
   "source": []
  }
 ],
 "metadata": {
  "kernelspec": {
   "display_name": "Python 3",
   "language": "python",
   "name": "python3"
  },
  "language_info": {
   "codemirror_mode": {
    "name": "ipython",
    "version": 3
   },
   "file_extension": ".py",
   "mimetype": "text/x-python",
   "name": "python",
   "nbconvert_exporter": "python",
   "pygments_lexer": "ipython3",
   "version": "3.6.13"
  }
 },
 "nbformat": 4,
 "nbformat_minor": 5
}
