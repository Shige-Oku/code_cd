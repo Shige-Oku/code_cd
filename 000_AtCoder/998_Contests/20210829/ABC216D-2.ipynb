{
 "cells": [
  {
   "cell_type": "code",
   "execution_count": null,
   "id": "73a1f03c-4e54-41b8-bac1-cd6daa1024c4",
   "metadata": {},
   "outputs": [],
   "source": [
    "# 解説を読んで実装"
   ]
  },
  {
   "cell_type": "code",
   "execution_count": 1,
   "id": "f8286316-6948-49f0-a953-519bf572893e",
   "metadata": {},
   "outputs": [],
   "source": [
    "import sys\n",
    "import numpy as np\n",
    "import math\n",
    "import collections\n",
    "import copy\n",
    "import decimal\n",
    "import itertools\n",
    "import re\n",
    "import bisect\n",
    "import scipy\n",
    "import heapq\n",
    "from collections import deque \n",
    "from functools import reduce\n",
    "from itertools import product\n",
    "from itertools import combinations\n",
    "from itertools import chain\n",
    "from functools import lru_cache\n",
    "from scipy.special import comb\n",
    "from numba import njit\n",
    "from bisect import bisect_right\n",
    "from bisect import bisect_left"
   ]
  },
  {
   "cell_type": "code",
   "execution_count": 2,
   "id": "8347374e-71a1-445c-98bb-1902ea3c28dd",
   "metadata": {},
   "outputs": [
    {
     "name": "stdin",
     "output_type": "stream",
     "text": [
      " 2 2\n"
     ]
    }
   ],
   "source": [
    "N, M = map(int, input().split())"
   ]
  },
  {
   "cell_type": "code",
   "execution_count": 5,
   "id": "c5f25ba5-9ad7-4020-baee-b808396cff35",
   "metadata": {},
   "outputs": [
    {
     "name": "stdin",
     "output_type": "stream",
     "text": [
      " 2 \n",
      " 1 2\n",
      " 2\n",
      " 1 2\n"
     ]
    }
   ],
   "source": [
    "Kn = []\n",
    "An = []\n",
    "for _ in range(M):\n",
    "    Kn.append(int(input()))\n",
    "    A = list(map(int, input().split()))\n",
    "    An.append(A[::-1])"
   ]
  },
  {
   "cell_type": "code",
   "execution_count": null,
   "id": "9c37549d-48d9-43d0-b3a0-a1cebea6570f",
   "metadata": {},
   "outputs": [],
   "source": [
    "cnt = [0] * (N+1)\n",
    "for "
   ]
  },
  {
   "cell_type": "code",
   "execution_count": 6,
   "id": "f9047c20-f146-442a-9743-58dd541ada2c",
   "metadata": {},
   "outputs": [
    {
     "data": {
      "text/plain": [
       "[[2, 1], [2, 1]]"
      ]
     },
     "execution_count": 6,
     "metadata": {},
     "output_type": "execute_result"
    }
   ],
   "source": [
    "An"
   ]
  },
  {
   "cell_type": "code",
   "execution_count": null,
   "id": "c23e2cd5-bde6-462f-bd16-357bfd81defa",
   "metadata": {},
   "outputs": [],
   "source": []
  }
 ],
 "metadata": {
  "kernelspec": {
   "display_name": "Python 3",
   "language": "python",
   "name": "python3"
  },
  "language_info": {
   "codemirror_mode": {
    "name": "ipython",
    "version": 3
   },
   "file_extension": ".py",
   "mimetype": "text/x-python",
   "name": "python",
   "nbconvert_exporter": "python",
   "pygments_lexer": "ipython3",
   "version": "3.6.13"
  }
 },
 "nbformat": 4,
 "nbformat_minor": 5
}
