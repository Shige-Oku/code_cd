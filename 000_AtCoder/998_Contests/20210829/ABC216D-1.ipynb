{
 "cells": [
  {
   "cell_type": "code",
   "execution_count": null,
   "id": "5727a735-be83-4719-8c1b-f84f8362aa33",
   "metadata": {},
   "outputs": [],
   "source": [
    "# 後で実装"
   ]
  },
  {
   "cell_type": "code",
   "execution_count": 1,
   "id": "26c94590-60f6-4cfc-bd29-7e83a0701931",
   "metadata": {},
   "outputs": [],
   "source": [
    "import sys\n",
    "import numpy as np\n",
    "import math\n",
    "import collections\n",
    "import copy\n",
    "import decimal\n",
    "import itertools\n",
    "import re\n",
    "import bisect\n",
    "import scipy\n",
    "import heapq\n",
    "from collections import deque \n",
    "from functools import reduce\n",
    "from itertools import product\n",
    "from itertools import combinations\n",
    "from itertools import chain\n",
    "from functools import lru_cache\n",
    "from scipy.special import comb\n",
    "from numba import njit\n",
    "from bisect import bisect_right\n",
    "from bisect import bisect_left"
   ]
  },
  {
   "cell_type": "code",
   "execution_count": 2,
   "id": "8a0583d5-9b80-4bda-a4f5-8891f83161d9",
   "metadata": {},
   "outputs": [
    {
     "name": "stdin",
     "output_type": "stream",
     "text": [
      " 2 2\n"
     ]
    }
   ],
   "source": [
    "N, M = map(int, input().split())"
   ]
  },
  {
   "cell_type": "code",
   "execution_count": 42,
   "id": "c473ab82-e2b4-4d3c-afd4-3f633fb593bb",
   "metadata": {},
   "outputs": [
    {
     "name": "stdin",
     "output_type": "stream",
     "text": [
      " 2\n",
      " 1 2\n",
      " 2\n",
      " 2 1\n"
     ]
    }
   ],
   "source": [
    "Kn = []\n",
    "An = []\n",
    "for _ in range(M):\n",
    "    Kn.append(int(input()))\n",
    "    An.append(list(map(int, input().split())))"
   ]
  },
  {
   "cell_type": "code",
   "execution_count": 43,
   "id": "74942572-84cf-40e2-8f6c-bea5f2e803d6",
   "metadata": {},
   "outputs": [],
   "source": [
    "q = []\n",
    "for i, an in enumerate(An):\n",
    "    for j, a in enumerate(an[::-1]):\n",
    "        heapq.heappush(q, (j, i, a-1))\n"
   ]
  },
  {
   "cell_type": "code",
   "execution_count": 44,
   "id": "b5158726-6166-4252-a22b-3fdab28ca6f8",
   "metadata": {},
   "outputs": [
    {
     "name": "stdout",
     "output_type": "stream",
     "text": [
      "0 1 0\n",
      "No\n"
     ]
    }
   ],
   "source": [
    "idx = [-1] * (N+1)\n",
    "wait = {}\n",
    "while q:\n",
    "    j, i, a = heapq.heappop(q)\n",
    "    if idx[i] + 1 < j:\n",
    "        print('No')\n",
    "        break\n",
    "    if a not in wait:\n",
    "        wait[a] = i\n",
    "        continue\n",
    "    idx[i] += 1\n",
    "    idx[wait[a]] += 1\n",
    "else:\n",
    "    print('Yes')"
   ]
  },
  {
   "cell_type": "code",
   "execution_count": 39,
   "id": "98ded727-0362-47d8-a1a7-95ed0c15b699",
   "metadata": {},
   "outputs": [
    {
     "data": {
      "text/plain": [
       "([(0, 0, 2), (1, 0, 1), (0, 1, 2), (1, 1, 1)], {2: 0}, [-1, 0, 0])"
      ]
     },
     "execution_count": 39,
     "metadata": {},
     "output_type": "execute_result"
    }
   ],
   "source": [
    "q, wait, idx"
   ]
  },
  {
   "cell_type": "code",
   "execution_count": 9,
   "id": "013a4dfc-7a43-41cf-83e1-33f21b0a5860",
   "metadata": {},
   "outputs": [
    {
     "data": {
      "text/plain": [
       "([2, 2], [[1, 2], [1, 2]])"
      ]
     },
     "execution_count": 9,
     "metadata": {},
     "output_type": "execute_result"
    }
   ],
   "source": [
    "Kn, An"
   ]
  },
  {
   "cell_type": "code",
   "execution_count": 22,
   "id": "f383693c-ed46-4594-a024-e975f4d9c7b1",
   "metadata": {},
   "outputs": [],
   "source": [
    "idx = [[-1] * max(Kn) for _ in range(N)]"
   ]
  },
  {
   "cell_type": "code",
   "execution_count": 23,
   "id": "1ff410c4-6575-4fe5-93b1-b4680cd3e11c",
   "metadata": {},
   "outputs": [
    {
     "data": {
      "text/plain": [
       "[[-1, -1], [-1, -1]]"
      ]
     },
     "execution_count": 23,
     "metadata": {},
     "output_type": "execute_result"
    }
   ],
   "source": [
    "idx"
   ]
  },
  {
   "cell_type": "code",
   "execution_count": 14,
   "id": "4fe814e1-fff3-4751-85c8-eba4cfebf84d",
   "metadata": {},
   "outputs": [
    {
     "name": "stdin",
     "output_type": "stream",
     "text": [
      " 5 2 3 1 4\n"
     ]
    },
    {
     "data": {
      "text/plain": [
       "[4, 1, 3, 2, 5]"
      ]
     },
     "execution_count": 14,
     "metadata": {},
     "output_type": "execute_result"
    }
   ],
   "source": [
    "list(map(int, input().split()))[::-1]"
   ]
  },
  {
   "cell_type": "code",
   "execution_count": null,
   "id": "ca10a7b2-39f5-46b4-902f-cd0009a170ca",
   "metadata": {},
   "outputs": [],
   "source": []
  }
 ],
 "metadata": {
  "kernelspec": {
   "display_name": "Python 3",
   "language": "python",
   "name": "python3"
  },
  "language_info": {
   "codemirror_mode": {
    "name": "ipython",
    "version": 3
   },
   "file_extension": ".py",
   "mimetype": "text/x-python",
   "name": "python",
   "nbconvert_exporter": "python",
   "pygments_lexer": "ipython3",
   "version": "3.6.13"
  }
 },
 "nbformat": 4,
 "nbformat_minor": 5
}
