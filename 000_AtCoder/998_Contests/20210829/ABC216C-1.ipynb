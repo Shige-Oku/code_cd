{
 "cells": [
  {
   "cell_type": "code",
   "execution_count": 1,
   "id": "35257a46-563f-4436-b00a-db7e7e4aaea6",
   "metadata": {},
   "outputs": [],
   "source": [
    "import sys\n",
    "import numpy as np\n",
    "import math\n",
    "import collections\n",
    "import copy\n",
    "import decimal\n",
    "import itertools\n",
    "import re\n",
    "import bisect\n",
    "import scipy\n",
    "import heapq\n",
    "from collections import deque \n",
    "from functools import reduce\n",
    "from itertools import product\n",
    "from itertools import combinations\n",
    "from itertools import chain\n",
    "from functools import lru_cache\n",
    "from scipy.special import comb\n",
    "from numba import njit\n",
    "from bisect import bisect_right\n",
    "from bisect import bisect_left"
   ]
  },
  {
   "cell_type": "code",
   "execution_count": 29,
   "id": "acd312a8-46eb-4aad-a1e2-a37d18374d9b",
   "metadata": {},
   "outputs": [],
   "source": [
    "sys.setrecursionlimit(10**7)"
   ]
  },
  {
   "cell_type": "code",
   "execution_count": 33,
   "id": "bf666030-1ba0-4b01-919b-f817335d6d32",
   "metadata": {},
   "outputs": [
    {
     "name": "stdin",
     "output_type": "stream",
     "text": [
      " 100000000000000\n"
     ]
    }
   ],
   "source": [
    "N = int(input())"
   ]
  },
  {
   "cell_type": "code",
   "execution_count": 36,
   "id": "4e6781fa-b515-4a81-a8c3-c50c13c7ed77",
   "metadata": {},
   "outputs": [],
   "source": [
    "def DFS(s, c, v):\n",
    "#     print(s, c, v)\n",
    "    if c > 120:\n",
    "        return False, \"\"\n",
    "    if v > N:\n",
    "        return False, \"\"\n",
    "    if v == N:\n",
    "        return True, s\n",
    "    r1, r2 = DFS(s+'B', c+1, v*2)\n",
    "    if r1:\n",
    "        return True, r2\n",
    "    r1, r2 = DFS(s+'A', c+1, v+1)\n",
    "    if r1:\n",
    "        return True, r2\n",
    "    return False, 'A'"
   ]
  },
  {
   "cell_type": "code",
   "execution_count": null,
   "id": "dc41608c-3295-4ebe-9d10-21c9cecb47c5",
   "metadata": {},
   "outputs": [],
   "source": [
    "_, ans = DFS('A', 1, 1)\n",
    "print(ans)"
   ]
  },
  {
   "cell_type": "code",
   "execution_count": null,
   "id": "43b37021-afc5-4ed1-842d-5ad4dafb877c",
   "metadata": {},
   "outputs": [],
   "source": []
  }
 ],
 "metadata": {
  "kernelspec": {
   "display_name": "Python 3",
   "language": "python",
   "name": "python3"
  },
  "language_info": {
   "codemirror_mode": {
    "name": "ipython",
    "version": 3
   },
   "file_extension": ".py",
   "mimetype": "text/x-python",
   "name": "python",
   "nbconvert_exporter": "python",
   "pygments_lexer": "ipython3",
   "version": "3.6.13"
  }
 },
 "nbformat": 4,
 "nbformat_minor": 5
}
