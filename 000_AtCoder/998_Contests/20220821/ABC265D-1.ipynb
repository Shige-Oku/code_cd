{
 "cells": [
  {
   "cell_type": "code",
   "execution_count": 1,
   "id": "18d33ec9-b0ec-4235-8e1e-151f93161e19",
   "metadata": {},
   "outputs": [],
   "source": [
    "import sys\n",
    "import numpy as np\n",
    "import math\n",
    "import collections\n",
    "import copy\n",
    "import decimal\n",
    "import itertools\n",
    "import re\n",
    "import bisect\n",
    "import scipy\n",
    "import heapq\n",
    "from collections import deque \n",
    "from functools import reduce\n",
    "from itertools import product\n",
    "from itertools import combinations\n",
    "from functools import lru_cache\n",
    "from scipy.special import comb\n",
    "from numba import njit\n",
    "from bisect import bisect_right\n",
    "from bisect import bisect_left"
   ]
  },
  {
   "cell_type": "code",
   "execution_count": 63,
   "id": "3ab83044-bf01-4e6f-a385-c2bcf7e65490",
   "metadata": {},
   "outputs": [
    {
     "name": "stdin",
     "output_type": "stream",
     "text": [
      " 10 5 7 5\n"
     ]
    }
   ],
   "source": [
    "N, P, Q, R = map(int, input().split())"
   ]
  },
  {
   "cell_type": "code",
   "execution_count": 73,
   "id": "3ee2c737-c905-42bf-9fa1-76653a6cd1d9",
   "metadata": {},
   "outputs": [
    {
     "name": "stdin",
     "output_type": "stream",
     "text": [
      " 1 3 2 2 2 3 1 4 3 2\n"
     ]
    }
   ],
   "source": [
    "An = list(map(int, input().split()))"
   ]
  },
  {
   "cell_type": "code",
   "execution_count": null,
   "id": "17bf3287-5f29-4e67-b2a9-f32ab1436f84",
   "metadata": {},
   "outputs": [],
   "source": [
    "# 解説を読んで実装"
   ]
  },
  {
   "cell_type": "code",
   "execution_count": 74,
   "id": "94568ca9-d6a4-4db0-b64c-c7b078677640",
   "metadata": {},
   "outputs": [],
   "source": [
    "from itertools import accumulate\n",
    "An_s = set(accumulate(An))\n",
    "flg = False\n",
    "t = 0\n",
    "for i, A in enumerate(An):\n",
    "    key = t + P\n",
    "    t += A\n",
    "#     print(i, A, t, key)\n",
    "    if key not in An_s:\n",
    "        continue\n",
    "    key += Q\n",
    "#     print(i, A, t, key)\n",
    "    if key not in An_s:\n",
    "        continue\n",
    "    key += R\n",
    "#     print(i, A, t, key)\n",
    "    if key not in An_s:\n",
    "        continue\n",
    "    flg = True\n",
    "#     print('True')"
   ]
  },
  {
   "cell_type": "code",
   "execution_count": 75,
   "id": "89439505-5b57-4ea9-b4b5-bcec98721655",
   "metadata": {},
   "outputs": [
    {
     "name": "stdout",
     "output_type": "stream",
     "text": [
      "Yes\n"
     ]
    }
   ],
   "source": [
    "print('Yes' if flg else 'No')"
   ]
  },
  {
   "cell_type": "code",
   "execution_count": 76,
   "id": "e20809c4-22f1-44c9-9b52-e9cb4a490873",
   "metadata": {},
   "outputs": [
    {
     "data": {
      "text/plain": [
       "{1, 4, 6, 8, 10, 13, 14, 18, 21, 23}"
      ]
     },
     "execution_count": 76,
     "metadata": {},
     "output_type": "execute_result"
    }
   ],
   "source": [
    "An_s"
   ]
  },
  {
   "cell_type": "code",
   "execution_count": 77,
   "id": "6deb433f-f442-4f4b-ad39-61cdaaf2af96",
   "metadata": {},
   "outputs": [],
   "source": [
    "# WA => コンテスト終了後にAC"
   ]
  },
  {
   "cell_type": "code",
   "execution_count": 78,
   "id": "ddcbe38a-49bb-42a1-bbec-0f56c4346985",
   "metadata": {},
   "outputs": [],
   "source": [
    "from itertools import accumulate\n",
    "from bisect import bisect_left"
   ]
  },
  {
   "cell_type": "code",
   "execution_count": 85,
   "id": "c6f94c0f-2e31-408e-86f9-2a61ef466a4d",
   "metadata": {},
   "outputs": [],
   "source": [
    "An_s = [0] + list(accumulate(An))\n",
    "flg = False\n",
    "for i in range(N):\n",
    "    key = An_s[i] + P\n",
    "    idx = bisect_left(An_s, key)\n",
    "#     print(i, key, idx)\n",
    "    if idx > N or key != An_s[idx]:\n",
    "        continue\n",
    "    key = An_s[idx] + Q\n",
    "    idx = bisect_left(An_s, key)\n",
    "#     print(i, key, idx)\n",
    "    if idx+1 > N or key != An_s[idx]:\n",
    "        continue\n",
    "    key = An_s[idx] + R\n",
    "    idx = bisect_left(An_s, key)\n",
    "#     print(i, key, idx)\n",
    "    if idx > N or key != An_s[idx]:\n",
    "        continue\n",
    "    flg = True\n"
   ]
  },
  {
   "cell_type": "code",
   "execution_count": 86,
   "id": "57161fb7-e916-4142-bf0d-9516a9284926",
   "metadata": {},
   "outputs": [
    {
     "name": "stdout",
     "output_type": "stream",
     "text": [
      "Yes\n"
     ]
    }
   ],
   "source": [
    "print('Yes' if flg else 'No')"
   ]
  },
  {
   "cell_type": "code",
   "execution_count": 72,
   "id": "39dd2c19-21ba-4f4e-93c7-ff91dffeda77",
   "metadata": {},
   "outputs": [
    {
     "data": {
      "text/plain": [
       "([0, 31, 72, 131, 157, 210, 268, 365, 458, 481], 210)"
      ]
     },
     "execution_count": 72,
     "metadata": {},
     "output_type": "execute_result"
    }
   ],
   "source": [
    "An_s, An_s[5]"
   ]
  },
  {
   "cell_type": "code",
   "execution_count": null,
   "id": "bfd25634-160d-4a8d-8107-2591f866644b",
   "metadata": {},
   "outputs": [],
   "source": [
    "# WA, TLE"
   ]
  },
  {
   "cell_type": "code",
   "execution_count": 53,
   "id": "01b0aa67-17c9-4c7a-9dbb-8c29d5f9db34",
   "metadata": {},
   "outputs": [],
   "source": [
    "def solve(n, v):\n",
    "    key = An_s[n] + v\n",
    "    idx = bisect_left(An_s, key)\n",
    "    if idx >= N or  key != An_s[idx]:\n",
    "        return False, -1\n",
    "    print(n, v, key, idx)\n",
    "    return True, idx"
   ]
  },
  {
   "cell_type": "code",
   "execution_count": 54,
   "id": "45a2a19d-f6be-465b-8df3-043eb16fc9b6",
   "metadata": {},
   "outputs": [
    {
     "name": "stdout",
     "output_type": "stream",
     "text": [
      "0 5 6 2\n",
      "6 7 21 8\n",
      "3 5 13 5\n",
      "6 7 21 8\n",
      "5 5 18 7\n",
      "7 5 23 9\n"
     ]
    }
   ],
   "source": [
    "An_s = list(accumulate(An))\n",
    "flg = False\n",
    "for i in range(N):\n",
    "    r, idx = solve(i, P)\n",
    "    if not r:\n",
    "        continue\n",
    "    for j in range(idx+1, N):\n",
    "        r2, idx2  = solve(j, Q)\n",
    "        if not r2:\n",
    "            continue\n",
    "        for k in range(idx2+1, N):\n",
    "            r3, idx3 = solve(k, R)\n",
    "            if r3:\n",
    "                flg = True\n"
   ]
  },
  {
   "cell_type": "code",
   "execution_count": 55,
   "id": "0c42017d-73e8-4fd1-8380-9b82f0f8b7d4",
   "metadata": {},
   "outputs": [
    {
     "name": "stdout",
     "output_type": "stream",
     "text": [
      "No\n"
     ]
    }
   ],
   "source": [
    "print('Yes' if flg else 'No')"
   ]
  },
  {
   "cell_type": "code",
   "execution_count": 49,
   "id": "5b487711-894c-4323-a3f8-01e5af2a1ed4",
   "metadata": {},
   "outputs": [
    {
     "data": {
      "text/plain": [
       "[1, 4, 6, 8, 10, 13, 14, 18, 21, 23]"
      ]
     },
     "execution_count": 49,
     "metadata": {},
     "output_type": "execute_result"
    }
   ],
   "source": [
    "An_s"
   ]
  },
  {
   "cell_type": "code",
   "execution_count": 50,
   "id": "7790fd0f-4535-4bbf-8991-84a532f77622",
   "metadata": {},
   "outputs": [
    {
     "data": {
      "text/plain": [
       "[2, 5, 9, 10, 13, 15, 17, 19, 22, 23]"
      ]
     },
     "execution_count": 50,
     "metadata": {},
     "output_type": "execute_result"
    }
   ],
   "source": [
    "list(accumulate(An[::-1]))"
   ]
  },
  {
   "cell_type": "code",
   "execution_count": null,
   "id": "6e936ea5-a41e-4ed8-8648-d00a055ccbf0",
   "metadata": {},
   "outputs": [],
   "source": []
  }
 ],
 "metadata": {
  "kernelspec": {
   "display_name": "Python 3",
   "language": "python",
   "name": "python3"
  },
  "language_info": {
   "codemirror_mode": {
    "name": "ipython",
    "version": 3
   },
   "file_extension": ".py",
   "mimetype": "text/x-python",
   "name": "python",
   "nbconvert_exporter": "python",
   "pygments_lexer": "ipython3",
   "version": "3.6.13"
  }
 },
 "nbformat": 4,
 "nbformat_minor": 5
}
