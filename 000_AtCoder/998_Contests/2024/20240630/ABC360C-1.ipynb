{
 "cells": [
  {
   "cell_type": "code",
   "execution_count": 1,
   "id": "9e7119b5-3259-466b-8383-b6024f5dcfa9",
   "metadata": {
    "tags": []
   },
   "outputs": [],
   "source": [
    "import sys\n",
    "import numpy as np\n",
    "import math\n",
    "import collections\n",
    "import copy\n",
    "import decimal\n",
    "import itertools\n",
    "import re\n",
    "import bisect\n",
    "import scipy\n",
    "import heapq\n",
    "from collections import deque \n",
    "from functools import reduce\n",
    "from itertools import product\n",
    "from itertools import combinations\n",
    "from functools import lru_cache\n",
    "from scipy.special import comb\n",
    "from numba import njit\n",
    "from bisect import bisect_right\n",
    "from bisect import bisect_left\n",
    "from atcoder.fenwicktree import FenwickTree\n",
    "from sortedcontainers import SortedList"
   ]
  },
  {
   "cell_type": "code",
   "execution_count": 18,
   "id": "9fcfca34-96ce-4ad8-927c-04fe6629f8a9",
   "metadata": {
    "tags": []
   },
   "outputs": [
    {
     "name": "stdin",
     "output_type": "stream",
     "text": [
      " 12\n"
     ]
    }
   ],
   "source": [
    "N = int(input())"
   ]
  },
  {
   "cell_type": "code",
   "execution_count": 19,
   "id": "4806d8fc-cd73-4998-85b9-f40f965d76ab",
   "metadata": {
    "tags": []
   },
   "outputs": [
    {
     "name": "stdin",
     "output_type": "stream",
     "text": [
      " 3 6 7 4 12 4 8 11 11 1 8 11\n"
     ]
    }
   ],
   "source": [
    "An = list(map(int, input().split()))"
   ]
  },
  {
   "cell_type": "code",
   "execution_count": 20,
   "id": "2c92f190-38f7-49b1-87dc-c31ac11aab8f",
   "metadata": {
    "tags": []
   },
   "outputs": [
    {
     "name": "stdin",
     "output_type": "stream",
     "text": [
      " 3925 9785 9752 3587 4013 1117 3937 7045 6437 6208 3391 6309\n"
     ]
    }
   ],
   "source": [
    "Wn = list(map(int, input().split()))"
   ]
  },
  {
   "cell_type": "code",
   "execution_count": 21,
   "id": "ca30b670-71dc-4946-8c95-b21c1838e27a",
   "metadata": {
    "tags": []
   },
   "outputs": [],
   "source": [
    "n_w = [[] for _ in range(N)]\n",
    "for A, W in zip(An, Wn):\n",
    "    n_w[A-1].append(W)"
   ]
  },
  {
   "cell_type": "code",
   "execution_count": 22,
   "id": "84b9b0e1-089b-4e5a-93ce-a9c2f3fc502d",
   "metadata": {
    "tags": []
   },
   "outputs": [],
   "source": [
    "ans = 0\n",
    "for i in range(N):\n",
    "    if len(n_w[i]) < 2:\n",
    "        continue\n",
    "    nwl = sorted(n_w[i], reverse=True)\n",
    "    # print(nwl)\n",
    "    for nw in nwl[1:]:\n",
    "        ans += nw\n",
    "    # print(ans)"
   ]
  },
  {
   "cell_type": "code",
   "execution_count": 23,
   "id": "877fb1f3-f4a6-4596-8caf-b86e2170bc2a",
   "metadata": {
    "tags": []
   },
   "outputs": [
    {
     "name": "stdout",
     "output_type": "stream",
     "text": [
      "17254\n"
     ]
    }
   ],
   "source": [
    "print(ans)"
   ]
  },
  {
   "cell_type": "code",
   "execution_count": null,
   "id": "d0548e4d-48c0-4600-8ec6-78c4b7ffd0d1",
   "metadata": {},
   "outputs": [],
   "source": []
  }
 ],
 "metadata": {
  "kernelspec": {
   "display_name": "Python 3 (ipykernel)",
   "language": "python",
   "name": "python3"
  },
  "language_info": {
   "codemirror_mode": {
    "name": "ipython",
    "version": 3
   },
   "file_extension": ".py",
   "mimetype": "text/x-python",
   "name": "python",
   "nbconvert_exporter": "python",
   "pygments_lexer": "ipython3",
   "version": "3.11.3"
  }
 },
 "nbformat": 4,
 "nbformat_minor": 5
}
