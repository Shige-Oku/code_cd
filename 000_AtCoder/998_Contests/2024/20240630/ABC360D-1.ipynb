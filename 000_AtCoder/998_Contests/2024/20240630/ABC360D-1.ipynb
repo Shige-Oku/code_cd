{
 "cells": [
  {
   "cell_type": "code",
   "execution_count": 1,
   "id": "51ee4f86-a52b-48a9-ad8e-beacc680f3bb",
   "metadata": {
    "tags": []
   },
   "outputs": [],
   "source": [
    "import sys\n",
    "import numpy as np\n",
    "import math\n",
    "import collections\n",
    "import copy\n",
    "import decimal\n",
    "import itertools\n",
    "import re\n",
    "import bisect\n",
    "import scipy\n",
    "import heapq\n",
    "from collections import deque \n",
    "from functools import reduce\n",
    "from itertools import product\n",
    "from itertools import combinations\n",
    "from functools import lru_cache\n",
    "from scipy.special import comb\n",
    "from numba import njit\n",
    "from bisect import bisect_right\n",
    "from bisect import bisect_left\n",
    "from atcoder.fenwicktree import FenwickTree\n",
    "from sortedcontainers import SortedList"
   ]
  },
  {
   "cell_type": "code",
   "execution_count": 74,
   "id": "313243ec-e61f-488c-ba4f-799d50688752",
   "metadata": {
    "tags": []
   },
   "outputs": [
    {
     "name": "stdin",
     "output_type": "stream",
     "text": [
      " 13 656320850\n"
     ]
    }
   ],
   "source": [
    "N, T = map(int, input().split())"
   ]
  },
  {
   "cell_type": "code",
   "execution_count": 75,
   "id": "30ecf068-f89f-4d0c-9d53-91567b025bc1",
   "metadata": {
    "tags": []
   },
   "outputs": [
    {
     "name": "stdin",
     "output_type": "stream",
     "text": [
      " 0100110011101\n"
     ]
    }
   ],
   "source": [
    "S = input()"
   ]
  },
  {
   "cell_type": "code",
   "execution_count": 76,
   "id": "685f0cc1-deff-4f88-ac01-d8cc2ee67129",
   "metadata": {
    "tags": []
   },
   "outputs": [
    {
     "name": "stdin",
     "output_type": "stream",
     "text": [
      " -900549713 -713494784 -713078652 -687818593 -517374932 -498415009 -472742091 -390030458 -379340552 -237481538 -44636942 352721061 695864366\n"
     ]
    }
   ],
   "source": [
    "Xn = list(map(int, input().split()))"
   ]
  },
  {
   "cell_type": "code",
   "execution_count": 77,
   "id": "1bf72b2b-2966-4e5b-9a77-d821b9982d55",
   "metadata": {
    "tags": []
   },
   "outputs": [],
   "source": [
    "a_p = []\n",
    "a_m = []\n",
    "for i, (s, x) in enumerate(zip(S, Xn)):\n",
    "    if s == '0':\n",
    "        a_m.append(x)\n",
    "    else:\n",
    "        a_p.append(x)\n",
    "a_ps = sorted(a_p)\n",
    "a_ms = sorted(a_m)"
   ]
  },
  {
   "cell_type": "code",
   "execution_count": 78,
   "id": "80acb65e-3207-4fb3-bd78-820d83221d64",
   "metadata": {
    "tags": []
   },
   "outputs": [],
   "source": [
    "from bisect import bisect_left, bisect_right\n",
    "def solve(l, r, ls):\n",
    "    # print(l, r, ls)\n",
    "    s = bisect_left(ls, l)\n",
    "    e = bisect_left(ls, r+1)\n",
    "    e -= 1\n",
    "    # print(s, e)\n",
    "    return max(0, e - s + 1)"
   ]
  },
  {
   "cell_type": "code",
   "execution_count": 79,
   "id": "da6ffb23-f7f6-48e5-a8ef-2fd7c2a74baf",
   "metadata": {
    "tags": []
   },
   "outputs": [],
   "source": [
    "ans = 0\n",
    "for i, (s, X) in enumerate(zip(S, Xn)):\n",
    "    if s == '0':\n",
    "        l = X - 2 * T\n",
    "        r = X\n",
    "        c = solve(l, r, a_ps)\n",
    "    else:\n",
    "        l = X\n",
    "        r = X + 2 * T\n",
    "        c = solve(l, r, a_ms)\n",
    "    \n",
    "    ans += c\n",
    "    # print(ans)"
   ]
  },
  {
   "cell_type": "code",
   "execution_count": 80,
   "id": "2e3b8095-613d-4e56-9a2d-8c45ecfdfb98",
   "metadata": {
    "tags": []
   },
   "outputs": [
    {
     "name": "stdout",
     "output_type": "stream",
     "text": [
      "14\n"
     ]
    }
   ],
   "source": [
    "print(ans//2)"
   ]
  },
  {
   "cell_type": "code",
   "execution_count": 54,
   "id": "5e795b62-a055-4ed1-87cf-e6b51f375e1f",
   "metadata": {
    "tags": []
   },
   "outputs": [
    {
     "data": {
      "text/plain": [
       "([-5, 0, 2], [-1, 1, 4])"
      ]
     },
     "execution_count": 54,
     "metadata": {},
     "output_type": "execute_result"
    }
   ],
   "source": [
    "a_ps, a_ms"
   ]
  },
  {
   "cell_type": "code",
   "execution_count": null,
   "id": "264497d2-16b0-442a-8d20-eecc93135d31",
   "metadata": {},
   "outputs": [],
   "source": []
  }
 ],
 "metadata": {
  "kernelspec": {
   "display_name": "Python 3 (ipykernel)",
   "language": "python",
   "name": "python3"
  },
  "language_info": {
   "codemirror_mode": {
    "name": "ipython",
    "version": 3
   },
   "file_extension": ".py",
   "mimetype": "text/x-python",
   "name": "python",
   "nbconvert_exporter": "python",
   "pygments_lexer": "ipython3",
   "version": "3.11.3"
  }
 },
 "nbformat": 4,
 "nbformat_minor": 5
}
