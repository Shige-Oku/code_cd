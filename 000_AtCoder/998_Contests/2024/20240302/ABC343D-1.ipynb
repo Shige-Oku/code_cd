{
 "cells": [
  {
   "cell_type": "code",
   "execution_count": 2,
   "id": "6fe4eea5-1845-409e-8297-12ae0189c8cb",
   "metadata": {
    "tags": []
   },
   "outputs": [],
   "source": [
    "import sys\n",
    "import numpy as np\n",
    "import math\n",
    "import collections\n",
    "import copy\n",
    "import decimal\n",
    "import itertools\n",
    "import re\n",
    "import bisect\n",
    "import scipy\n",
    "import heapq\n",
    "from collections import deque \n",
    "from functools import reduce\n",
    "from itertools import product\n",
    "from itertools import combinations\n",
    "from functools import lru_cache\n",
    "from scipy.special import comb\n",
    "from numba import njit\n",
    "from bisect import bisect_right\n",
    "from bisect import bisect_left\n",
    "from atcoder.fenwicktree import FenwickTree"
   ]
  },
  {
   "cell_type": "code",
   "execution_count": 3,
   "id": "f8b01b0f-6a41-4fac-b28f-e02266b79c4b",
   "metadata": {
    "tags": []
   },
   "outputs": [
    {
     "name": "stdin",
     "output_type": "stream",
     "text": [
      " 3 4\n"
     ]
    }
   ],
   "source": [
    "N, T = map(int, input().split())"
   ]
  },
  {
   "cell_type": "code",
   "execution_count": 4,
   "id": "01376d2d-4e49-407a-b147-f146ec7fb5db",
   "metadata": {
    "tags": []
   },
   "outputs": [
    {
     "name": "stdin",
     "output_type": "stream",
     "text": [
      " 1 10\n",
      " 3 20\n",
      " 2 10\n",
      " 2 10\n"
     ]
    }
   ],
   "source": [
    "ABt = [list(map(int, input().split())) for _ in range(T)]"
   ]
  },
  {
   "cell_type": "code",
   "execution_count": 25,
   "id": "f861486e-cc60-403a-8ffb-9d8428592148",
   "metadata": {
    "tags": []
   },
   "outputs": [],
   "source": [
    "point = [0] * (N+1)\n",
    "point_d = {0 : N}"
   ]
  },
  {
   "cell_type": "code",
   "execution_count": 26,
   "id": "f7dd6de0-fe09-4c14-9829-cf0b78a821f5",
   "metadata": {
    "tags": []
   },
   "outputs": [
    {
     "name": "stdout",
     "output_type": "stream",
     "text": [
      "2\n",
      "3\n",
      "2\n",
      "2\n"
     ]
    }
   ],
   "source": [
    "for A, B in ABt:\n",
    "    p1 = point[A]\n",
    "    point[A] += B\n",
    "    p2 = point[A]\n",
    "    point_d[p1] -= 1\n",
    "    if point_d[p1] == 0:\n",
    "        del point_d[p1]\n",
    "    if p2 in point_d:\n",
    "        point_d[p2] += 1\n",
    "    else:\n",
    "        point_d[p2] = 1\n",
    "    print(len(point_d))\n",
    "    # print(point_d)"
   ]
  },
  {
   "cell_type": "code",
   "execution_count": 17,
   "id": "a3c86264-dce9-4d68-b5de-2e79ef874cc4",
   "metadata": {
    "tags": []
   },
   "outputs": [
    {
     "data": {
      "text/plain": [
       "{0: 3}"
      ]
     },
     "execution_count": 17,
     "metadata": {},
     "output_type": "execute_result"
    }
   ],
   "source": [
    "point_d"
   ]
  },
  {
   "cell_type": "code",
   "execution_count": null,
   "id": "f7c833a4-cafa-4514-9e90-7e66d5f5842a",
   "metadata": {},
   "outputs": [],
   "source": []
  }
 ],
 "metadata": {
  "kernelspec": {
   "display_name": "Python 3 (ipykernel)",
   "language": "python",
   "name": "python3"
  },
  "language_info": {
   "codemirror_mode": {
    "name": "ipython",
    "version": 3
   },
   "file_extension": ".py",
   "mimetype": "text/x-python",
   "name": "python",
   "nbconvert_exporter": "python",
   "pygments_lexer": "ipython3",
   "version": "3.11.3"
  }
 },
 "nbformat": 4,
 "nbformat_minor": 5
}
