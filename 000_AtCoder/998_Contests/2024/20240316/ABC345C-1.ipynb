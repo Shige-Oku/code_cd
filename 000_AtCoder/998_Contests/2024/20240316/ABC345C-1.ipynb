{
 "cells": [
  {
   "cell_type": "code",
   "execution_count": 1,
   "id": "671df9e4-9f8c-4e23-bb27-4ec3572a0528",
   "metadata": {
    "tags": []
   },
   "outputs": [],
   "source": [
    "import sys\n",
    "import numpy as np\n",
    "import math\n",
    "import collections\n",
    "import copy\n",
    "import decimal\n",
    "import itertools\n",
    "import re\n",
    "import bisect\n",
    "import scipy\n",
    "import heapq\n",
    "from collections import deque \n",
    "from functools import reduce\n",
    "from itertools import product\n",
    "from itertools import combinations\n",
    "from functools import lru_cache\n",
    "from scipy.special import comb\n",
    "from numba import njit\n",
    "from bisect import bisect_right\n",
    "from bisect import bisect_left\n",
    "from atcoder.fenwicktree import FenwickTree"
   ]
  },
  {
   "cell_type": "code",
   "execution_count": 221,
   "id": "67cf035d-b3c1-4a13-a97a-08448a9cb712",
   "metadata": {
    "tags": []
   },
   "outputs": [
    {
     "name": "stdin",
     "output_type": "stream",
     "text": [
      " aaaaa\n"
     ]
    }
   ],
   "source": [
    "S = input()"
   ]
  },
  {
   "cell_type": "code",
   "execution_count": 222,
   "id": "59854c97-d913-430f-8eb7-92ddea9ef4ef",
   "metadata": {
    "tags": []
   },
   "outputs": [],
   "source": [
    "import collections \n",
    "S_c = collections.Counter(S)"
   ]
  },
  {
   "cell_type": "code",
   "execution_count": 223,
   "id": "55f2d026-6513-47ab-b546-c7d669ca3b76",
   "metadata": {
    "tags": []
   },
   "outputs": [],
   "source": [
    "def solve():\n",
    "    l = len(S)\n",
    "    ret = 0\n",
    "    if len(S_c) == 1:\n",
    "        return 1\n",
    "    f = False\n",
    "    for k, v in S_c.items():\n",
    "        l -= v\n",
    "        ret += l * v\n",
    "        if v > 1:\n",
    "            f = True\n",
    "            \n",
    "    return ret + f"
   ]
  },
  {
   "cell_type": "code",
   "execution_count": 224,
   "id": "4f6217af-dd7c-445d-9bcd-ee04e7c5b0e7",
   "metadata": {
    "tags": []
   },
   "outputs": [
    {
     "name": "stdout",
     "output_type": "stream",
     "text": [
      "1\n"
     ]
    }
   ],
   "source": [
    "print(solve())"
   ]
  },
  {
   "cell_type": "code",
   "execution_count": 194,
   "id": "557423f5-2ede-4bda-b658-d687d9d1cd41",
   "metadata": {
    "tags": []
   },
   "outputs": [],
   "source": [
    "def solve():\n",
    "    l = len(S)\n",
    "    ret = 0\n",
    "    if len(S_c) == 1:\n",
    "        return 1\n",
    "\n",
    "    for i, s in enumerate(S):\n",
    "        ret += len(S) - S_c[s] - i\n",
    "        S_c[s] -= 1\n",
    "        \n",
    "    return ret"
   ]
  },
  {
   "cell_type": "code",
   "execution_count": 190,
   "id": "e9d8a6b4-5291-4af2-bccd-6573cd567589",
   "metadata": {
    "tags": []
   },
   "outputs": [
    {
     "data": {
      "text/plain": [
       "6"
      ]
     },
     "execution_count": 190,
     "metadata": {},
     "output_type": "execute_result"
    }
   ],
   "source": [
    "solve()"
   ]
  },
  {
   "cell_type": "code",
   "execution_count": 196,
   "id": "83948b03-de72-4708-a370-b4eba3a8711e",
   "metadata": {
    "tags": []
   },
   "outputs": [],
   "source": [
    "a = set()\n",
    "ans = 0\n",
    "for i in range(len(S)-1):\n",
    "    for j in range(i+1, len(S)):\n",
    "        s = S[:i] + S[j] + S[i+1:j] + S[i] + S[j+1:]\n",
    "        a.add(s)\n",
    "        if S[i] != S[j]:\n",
    "            ans += 1\n"
   ]
  },
  {
   "cell_type": "code",
   "execution_count": 171,
   "id": "c9aaae28-53e3-4232-be44-bab9a60c23b9",
   "metadata": {
    "tags": []
   },
   "outputs": [
    {
     "name": "stdout",
     "output_type": "stream",
     "text": [
      "12 13\n"
     ]
    }
   ],
   "source": [
    "print(ans, len(a))"
   ]
  },
  {
   "cell_type": "code",
   "execution_count": 169,
   "id": "65ee2b66-3a23-4bd0-9157-4a2135f9bcf6",
   "metadata": {
    "tags": []
   },
   "outputs": [
    {
     "data": {
      "text/plain": [
       "{'aacbbc',\n",
       " 'abacbc',\n",
       " 'abbacc',\n",
       " 'abcabc',\n",
       " 'abcacb',\n",
       " 'abcbac',\n",
       " 'abccba',\n",
       " 'acbabc',\n",
       " 'accabb',\n",
       " 'bacabc',\n",
       " 'bbcaac',\n",
       " 'cbaabc',\n",
       " 'cbcaba'}"
      ]
     },
     "execution_count": 169,
     "metadata": {},
     "output_type": "execute_result"
    }
   ],
   "source": [
    "a"
   ]
  },
  {
   "cell_type": "code",
   "execution_count": null,
   "id": "ed145791-59ed-4c68-a3ab-881e37a4fd8c",
   "metadata": {},
   "outputs": [],
   "source": []
  }
 ],
 "metadata": {
  "kernelspec": {
   "display_name": "Python 3 (ipykernel)",
   "language": "python",
   "name": "python3"
  },
  "language_info": {
   "codemirror_mode": {
    "name": "ipython",
    "version": 3
   },
   "file_extension": ".py",
   "mimetype": "text/x-python",
   "name": "python",
   "nbconvert_exporter": "python",
   "pygments_lexer": "ipython3",
   "version": "3.11.3"
  }
 },
 "nbformat": 4,
 "nbformat_minor": 5
}
