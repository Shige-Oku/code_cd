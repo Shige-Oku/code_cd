{
 "cells": [
  {
   "cell_type": "code",
   "execution_count": 1,
   "id": "d9440b2b-01a3-490f-9594-fbfe3df9276d",
   "metadata": {
    "tags": []
   },
   "outputs": [],
   "source": [
    "import sys\n",
    "import numpy as np\n",
    "import math\n",
    "import collections\n",
    "import copy\n",
    "import decimal\n",
    "import itertools\n",
    "import re\n",
    "import bisect\n",
    "import scipy\n",
    "import heapq\n",
    "from collections import deque \n",
    "from functools import reduce\n",
    "from itertools import product\n",
    "from itertools import combinations\n",
    "from functools import lru_cache\n",
    "from scipy.special import comb\n",
    "from numba import njit\n",
    "from bisect import bisect_right\n",
    "from bisect import bisect_left\n",
    "from atcoder.fenwicktree import FenwickTree\n",
    "from sortedcontainers import SortedSet, SortedList, SortedDict"
   ]
  },
  {
   "cell_type": "code",
   "execution_count": 2,
   "id": "d37ae535-cf96-4e73-a266-964f4dadecb0",
   "metadata": {
    "tags": []
   },
   "outputs": [
    {
     "name": "stdin",
     "output_type": "stream",
     "text": [
      " 5 6\n"
     ]
    }
   ],
   "source": [
    "N, Q = map(int, input().split())"
   ]
  },
  {
   "cell_type": "code",
   "execution_count": 10,
   "id": "7f491846-285e-46bf-ad80-57f1a58a641e",
   "metadata": {
    "tags": []
   },
   "outputs": [
    {
     "name": "stdin",
     "output_type": "stream",
     "text": [
      " 1 5 4\n",
      " 1 4 2\n",
      " 2 2\n",
      " 1 3 2\n",
      " 1 2 3\n",
      " 2 3\n"
     ]
    }
   ],
   "source": [
    "Query_q = [list(map(int, input().split())) for _ in range(Q)]"
   ]
  },
  {
   "cell_type": "code",
   "execution_count": 37,
   "id": "8a1a9e82-93c2-4859-815a-f95c7300cb26",
   "metadata": {},
   "outputs": [],
   "source": [
    "from collections import defaultdict\n",
    "import sys\n",
    "sys.setrecursionlimit(10**7)\n",
    "class UnionFind():\n",
    "    # イニシャライザ\n",
    "    def __init__(self, n):\n",
    "        self.n = n  # 頂点の数\n",
    "        self.parents = [-1] * n  # 親の頂点。根は -1\n",
    "        self.size = [1] * n  # 各頂点の所属する木の頂点数\n",
    "        sys.setrecursionlimit(10**7)\n",
    "        \n",
    "    # 根を返す\n",
    "    def root(self, x):\n",
    "        if self.parents[x] < 0: # 根なのでそのまま返す\n",
    "            return x\n",
    "        else:\n",
    "            self.parents[x] = self.root(self.parents[x])  # 経路圧縮\n",
    "            return self.parents[x]\n",
    "        \n",
    "    # x, y が同じ木に属するか\n",
    "    def issame(self, x, y):\n",
    "        return self.root(x) == self.root(y)\n",
    "    \n",
    "    # x y を併合する    \n",
    "    def unite(self, x, y):\n",
    "        x = self.root(x)\n",
    "        y = self.root(y)\n",
    "        \n",
    "        # 元々同じ木に所属するので、何もせずリターン\n",
    "        if x == y:\n",
    "            return False\n",
    "        \n",
    "        # 大きいほうにまとめる。 y を x にまとめるようにスワップ\n",
    "        if self.parents[x] < self.parents[y]:\n",
    "            x, y = y, x\n",
    "        # 小さいほうの親を大きいほうを親に\n",
    "        self.parents[y] = x\n",
    "        # 大きいほうの頂点に小さいほうの数を加算\n",
    "        self.size[x] += self.size[y]\n",
    "        return True\n",
    "    \n",
    "    # x の所属する頂点数を返す\n",
    "    def getsize(self, x):\n",
    "        return self.size[self.root(x)]\n",
    "\n",
    "    # x の所属する頂点の一覧を返す\n",
    "    def getmembers(self, x):\n",
    "        root = self.root(x)\n",
    "        return [i for i in range(self.n) if self.root(i) == root]    "
   ]
  },
  {
   "cell_type": "code",
   "execution_count": 51,
   "id": "bdc157f8-9d57-45a0-9660-ee031a1f1384",
   "metadata": {
    "tags": []
   },
   "outputs": [],
   "source": [
    "def solve2(a, b):\n",
    "    size_a = uf.getsize(a)\n",
    "    size_b = uf.getsize(b)\n",
    "\n",
    "    col_a = col[a] \n",
    "    col_b = col[b]\n",
    "    \n",
    "    cnt[col_a] += size_b\n",
    "    cnt[col_b] -= size_b\n",
    "    uf.unite(a, b)\n",
    "    col[uf.root(a)] = col_a\n",
    "    return "
   ]
  },
  {
   "cell_type": "code",
   "execution_count": 52,
   "id": "c92fd1e7-3672-43c2-a944-1e0e1d6ba06e",
   "metadata": {
    "tags": []
   },
   "outputs": [],
   "source": [
    "def solve(x, c):\n",
    "    par_pre = uf.root(x-1)\n",
    "    par_cur = uf.root(x)\n",
    "    par_fwd = uf.root(x+1)\n",
    "    col_pre = col[par_pre]\n",
    "    col_cur = col[par_cur]\n",
    "    col_fwd = col[par_fwd]\n",
    "    size_pre = uf.getsize(par_pre)\n",
    "    size_cur = uf.getsize(par_cur)\n",
    "    size_fwd = uf.getsize(par_fwd)\n",
    "    \n",
    "    if col_cur == c:\n",
    "        return\n",
    "    \n",
    "    if (c != col_pre and c != col_fwd) or (c == col_pre and c== col_fwd):\n",
    "        cnt[col_cur] -= size_cur\n",
    "        cnt[c] += size_cur\n",
    "        col[par_cur] = c\n",
    "        return\n",
    "    \n",
    "    if c == col_pre:\n",
    "        solve2(par_pre, par_cur)\n",
    "\n",
    "    if c == col_fwd:\n",
    "        solve2(par_fwd, par_cur)\n",
    "    "
   ]
  },
  {
   "cell_type": "code",
   "execution_count": 53,
   "id": "e56f4196-e7ad-4391-9fc6-5f5fcb044421",
   "metadata": {
    "tags": []
   },
   "outputs": [
    {
     "name": "stdout",
     "output_type": "stream",
     "text": [
      "5 4\n",
      "[0, 1, 2, 3, 4, 5, 6]\n",
      "[1, 1, 1, 1, 2, 0, 1]\n",
      "4\n",
      "4 2\n",
      "[0, 1, 2, 3, 2, 5, 6]\n",
      "[1, 1, 3, 1, 0, 0, 1]\n",
      "4\n",
      "3\n",
      "3 2\n",
      "[0, 1, 2, 2, 2, 5, 6]\n",
      "[1, 1, 4, 0, 0, 0, 1]\n",
      "3\n",
      "2 3\n",
      "[0, 1, 3, 2, 2, 5, 6]\n",
      "[1, 1, 3, 1, 0, 0, 1]\n",
      "2\n",
      "1\n"
     ]
    }
   ],
   "source": [
    "uf = UnionFind(N+2)\n",
    "col = [x for x in range(N+2)]\n",
    "cnt = [1 for x in range(N+2)]\n",
    "for query in Query_q:\n",
    "    if query[0] == 1:\n",
    "        _, x, c = query\n",
    "        solve(x, c)\n",
    "        \n",
    "        print(x, c)\n",
    "        print(col)\n",
    "        print(cnt)\n",
    "        print(uf.root(x))\n",
    "    else:\n",
    "        _, c = query\n",
    "        print(cnt[c])"
   ]
  },
  {
   "cell_type": "code",
   "execution_count": 36,
   "id": "a4231dbf-1500-4495-b678-d5be7d89fecc",
   "metadata": {
    "tags": []
   },
   "outputs": [],
   "source": [
    "def solve(a, b, cl):\n",
    "    par_a = uf.parents(a)\n",
    "    par_b = uf.parents(b)\n",
    "    size_a = uf.getsize(a)\n",
    "    size_b = uf.getsize(b)\n",
    "    if par_a == par_b:\n",
    "        cnt[col[par_a]] -= size_a\n",
    "        cnt[cl] -= size_a\n",
    "        col[par_a] = cl\n",
    "        return\n",
    "\n",
    "    col_a = col[par_a] \n",
    "    col_b = col[par_b]\n",
    "    \n",
    "    if col != col_a:\n",
    "        col[par_a] -= size_a\n",
    "        col[col] += size_a\n",
    "        \n",
    "    col[par_b] -= size_b\n",
    "    col[par_a] += size_b\n",
    "    par[par_b] = par_a\n",
    "    uf.unite(a, b)\n",
    "    return "
   ]
  },
  {
   "cell_type": "code",
   "execution_count": 27,
   "id": "b4966d64-4002-4773-af62-0d706121f88d",
   "metadata": {
    "tags": []
   },
   "outputs": [
    {
     "data": {
      "text/plain": [
       "([0, 1, 2, 3, 4, 5, 6], [1, 1, 1, 1, 1, 1, 1])"
      ]
     },
     "execution_count": 27,
     "metadata": {},
     "output_type": "execute_result"
    }
   ],
   "source": [
    "par, col"
   ]
  },
  {
   "cell_type": "code",
   "execution_count": null,
   "id": "eed37d5b-3538-49aa-8bc5-de462b5a3ea5",
   "metadata": {},
   "outputs": [],
   "source": []
  }
 ],
 "metadata": {
  "kernelspec": {
   "display_name": "Python 3 (ipykernel)",
   "language": "python",
   "name": "python3"
  },
  "language_info": {
   "codemirror_mode": {
    "name": "ipython",
    "version": 3
   },
   "file_extension": ".py",
   "mimetype": "text/x-python",
   "name": "python",
   "nbconvert_exporter": "python",
   "pygments_lexer": "ipython3",
   "version": "3.11.3"
  }
 },
 "nbformat": 4,
 "nbformat_minor": 5
}
