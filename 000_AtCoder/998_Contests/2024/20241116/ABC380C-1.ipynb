{
 "cells": [
  {
   "cell_type": "code",
   "execution_count": 1,
   "id": "198cc79c-a085-4223-b577-d3f1a39d7e9d",
   "metadata": {
    "tags": []
   },
   "outputs": [],
   "source": [
    "import sys\n",
    "import numpy as np\n",
    "import math\n",
    "import collections\n",
    "import copy\n",
    "import decimal\n",
    "import itertools\n",
    "import re\n",
    "import bisect\n",
    "import scipy\n",
    "import heapq\n",
    "from collections import deque \n",
    "from functools import reduce\n",
    "from itertools import product\n",
    "from itertools import combinations\n",
    "from functools import lru_cache\n",
    "from scipy.special import comb\n",
    "from numba import njit\n",
    "from bisect import bisect_right\n",
    "from bisect import bisect_left\n",
    "from atcoder.fenwicktree import FenwickTree\n",
    "from sortedcontainers import SortedSet, SortedList, SortedDict"
   ]
  },
  {
   "cell_type": "code",
   "execution_count": 10,
   "id": "16c18947-8c16-4e2b-aa02-bd99716dffc1",
   "metadata": {
    "tags": []
   },
   "outputs": [
    {
     "name": "stdin",
     "output_type": "stream",
     "text": [
      " 10 2\n"
     ]
    }
   ],
   "source": [
    "N, K = map(int, input().split())"
   ]
  },
  {
   "cell_type": "code",
   "execution_count": 11,
   "id": "dc5ded1b-59ea-475c-95f2-3c768fecfa73",
   "metadata": {
    "tags": []
   },
   "outputs": [
    {
     "name": "stdin",
     "output_type": "stream",
     "text": [
      " 1011111111\n"
     ]
    }
   ],
   "source": [
    "S = input()"
   ]
  },
  {
   "cell_type": "code",
   "execution_count": 14,
   "id": "69556fb7-60c5-4afb-8222-d951c7886a6a",
   "metadata": {
    "tags": []
   },
   "outputs": [],
   "source": [
    "ans = []\n",
    "cnt = 0\n",
    "taihi = []\n",
    "S2 = '0' + S\n",
    "for i, s in enumerate(S2[1:], 1):\n",
    "    if S2[i-1] == '0' and S2[i] == '1':\n",
    "        cnt += 1\n",
    "        ans.append(s)\n",
    "        continue\n",
    "    if cnt == K-1 and s == '0':\n",
    "        taihi.append(s)\n",
    "        continue\n",
    "    if cnt == K and s == '0':\n",
    "        for t in taihi:\n",
    "            ans.append(t)\n",
    "        taihi = []\n",
    "    ans.append(s)\n",
    "else:\n",
    "    for t in taihi:\n",
    "        ans.append(t)"
   ]
  },
  {
   "cell_type": "code",
   "execution_count": 15,
   "id": "794c687f-9987-4d98-bc14-2dc44fe53a6e",
   "metadata": {
    "tags": []
   },
   "outputs": [
    {
     "name": "stdout",
     "output_type": "stream",
     "text": [
      "1111111110\n"
     ]
    }
   ],
   "source": [
    "print(*ans, sep='')"
   ]
  },
  {
   "cell_type": "code",
   "execution_count": null,
   "id": "53e9a72f-9638-4161-a6d1-525b52ee56a5",
   "metadata": {},
   "outputs": [],
   "source": []
  }
 ],
 "metadata": {
  "kernelspec": {
   "display_name": "Python 3 (ipykernel)",
   "language": "python",
   "name": "python3"
  },
  "language_info": {
   "codemirror_mode": {
    "name": "ipython",
    "version": 3
   },
   "file_extension": ".py",
   "mimetype": "text/x-python",
   "name": "python",
   "nbconvert_exporter": "python",
   "pygments_lexer": "ipython3",
   "version": "3.11.3"
  }
 },
 "nbformat": 4,
 "nbformat_minor": 5
}
