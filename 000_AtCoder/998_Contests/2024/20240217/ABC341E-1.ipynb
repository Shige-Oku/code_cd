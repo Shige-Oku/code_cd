{
 "cells": [
  {
   "cell_type": "code",
   "execution_count": 16,
   "id": "437bc76a-f0b5-4c37-a10d-3614227a31f8",
   "metadata": {
    "tags": []
   },
   "outputs": [],
   "source": [
    "import sys\n",
    "import numpy as np\n",
    "import math\n",
    "import collections\n",
    "import copy\n",
    "import decimal\n",
    "import itertools\n",
    "import re\n",
    "import bisect\n",
    "import scipy\n",
    "import heapq\n",
    "from collections import deque \n",
    "from functools import reduce\n",
    "from itertools import product\n",
    "from itertools import combinations\n",
    "from functools import lru_cache\n",
    "from scipy.special import comb\n",
    "from numba import njit\n",
    "from bisect import bisect_right\n",
    "from bisect import bisect_left\n",
    "from atcoder.fenwicktree import FenwickTree"
   ]
  },
  {
   "cell_type": "code",
   "execution_count": 17,
   "id": "cb5badc3-f93d-41b1-ae52-89677917a7a6",
   "metadata": {},
   "outputs": [
    {
     "name": "stdin",
     "output_type": "stream",
     "text": [
      " 5 6\n"
     ]
    }
   ],
   "source": [
    "N, Q = map(int, input().split())"
   ]
  },
  {
   "cell_type": "code",
   "execution_count": 18,
   "id": "f62127c2-828d-4055-b1c8-5c29f99e7c66",
   "metadata": {
    "tags": []
   },
   "outputs": [
    {
     "name": "stdin",
     "output_type": "stream",
     "text": [
      " 10100\n"
     ]
    }
   ],
   "source": [
    "S = input()"
   ]
  },
  {
   "cell_type": "code",
   "execution_count": 3,
   "id": "63707c88-94f0-451c-a070-94ef4febe103",
   "metadata": {
    "tags": []
   },
   "outputs": [
    {
     "name": "stdin",
     "output_type": "stream",
     "text": [
      " 2 1 3\n",
      " 2 1 5\n",
      " 1 1 4\n",
      " 2 1 5\n",
      " 1 3 3\n",
      " 2 2 4\n"
     ]
    }
   ],
   "source": [
    "Qn = [list(map(int, input().split())) for _ in range(Q)]"
   ]
  },
  {
   "cell_type": "code",
   "execution_count": 12,
   "id": "c75f8ada-0f63-4fb0-b385-72b68ffe92fb",
   "metadata": {
    "tags": []
   },
   "outputs": [],
   "source": [
    "from atcoder.segtree import SegTree"
   ]
  },
  {
   "cell_type": "code",
   "execution_count": 19,
   "id": "33992155-83e5-44ed-9ea3-9348e50fb737",
   "metadata": {
    "tags": []
   },
   "outputs": [],
   "source": [
    "def op(a, b):\n",
    "    return a + b"
   ]
  },
  {
   "cell_type": "code",
   "execution_count": 32,
   "id": "13a2d7ca-d5f6-43c9-8421-43ba14905ba6",
   "metadata": {
    "tags": []
   },
   "outputs": [],
   "source": [
    "seg = SegTree(op, 0, N+1)\n",
    "for i in range(1, N):\n",
    "    if S[i-1] == S[i]:\n",
    "        seg.set(i, 0)\n",
    "    else:\n",
    "        seg.set(i, 1)\n"
   ]
  },
  {
   "cell_type": "code",
   "execution_count": 21,
   "id": "6a4dd0f6-0d35-4d40-8b05-8562e7a33154",
   "metadata": {
    "tags": []
   },
   "outputs": [
    {
     "name": "stdout",
     "output_type": "stream",
     "text": [
      "Yes\n",
      "No\n",
      "Yes\n",
      "No\n"
     ]
    }
   ],
   "source": [
    "for Q, l, r in Qn:\n",
    "    if Q == 1:\n",
    "        l -= 1\n",
    "        v = seg.get(l)\n",
    "        seg.set(l, v^1)\n",
    "        \n",
    "        v = seg.get(r)\n",
    "        seg.set(r, v^1)\n",
    "        \n",
    "    else:\n",
    "        if seg.prod(l, r) == r - l:\n",
    "            print('Yes')\n",
    "        else:\n",
    "            print('No')\n"
   ]
  },
  {
   "cell_type": "code",
   "execution_count": 39,
   "id": "6f2fa2bb-0a5b-47b4-bacc-2247c12b26a7",
   "metadata": {
    "tags": []
   },
   "outputs": [],
   "source": [
    "from atcoder.segtree import SegTree\n",
    "def op(a, b):\n",
    "    return a + b"
   ]
  },
  {
   "cell_type": "code",
   "execution_count": 95,
   "id": "5f1fbac0-58a7-4f64-afbf-64607bfd8646",
   "metadata": {
    "tags": []
   },
   "outputs": [],
   "source": [
    "seg = SegTree(op, 0, N+1)\n",
    "for i in range(1, N):\n",
    "    if S[i-1] == S[i]:\n",
    "        seg.set(i, 1)"
   ]
  },
  {
   "cell_type": "code",
   "execution_count": 96,
   "id": "ff3e537f-ed23-49d7-9eac-cdbdc4dc435c",
   "metadata": {
    "tags": []
   },
   "outputs": [
    {
     "name": "stdout",
     "output_type": "stream",
     "text": [
      "Yes\n",
      "No\n",
      "Yes\n",
      "No\n"
     ]
    }
   ],
   "source": [
    "for Q, l, r in Qn:\n",
    "    if Q == 1:\n",
    "        l -= 1\n",
    "        seg.set(l, seg.get(l)^1)\n",
    "        seg.set(r, seg.get(r)^1)\n",
    "    else:\n",
    "        if seg.prod(l, r) == 0:\n",
    "            print('Yes')\n",
    "        else:\n",
    "            print('No')\n"
   ]
  },
  {
   "cell_type": "code",
   "execution_count": null,
   "id": "3ed31b1d-69b9-44f4-ad8b-da3ec9abd017",
   "metadata": {},
   "outputs": [],
   "source": [
    "# WA"
   ]
  },
  {
   "cell_type": "code",
   "execution_count": 195,
   "id": "562cf91b-4f44-40ee-9732-709f0f8fbe57",
   "metadata": {
    "tags": []
   },
   "outputs": [],
   "source": [
    "from atcoder.fenwicktree import FenwickTree\n",
    "fw = FenwickTree(N+2)\n",
    "for i in range(1, N):\n",
    "    if S[i-1] == S[i]:\n",
    "        fw.add(i+1, 1)\n",
    "    else:\n",
    "        fw.add(i+1, 0)"
   ]
  },
  {
   "cell_type": "code",
   "execution_count": 196,
   "id": "cf05814b-f0ba-4a72-8311-972d0eb98ee6",
   "metadata": {
    "tags": []
   },
   "outputs": [
    {
     "name": "stdout",
     "output_type": "stream",
     "text": [
      "Yes\n",
      "No\n",
      "Yes\n",
      "No\n"
     ]
    }
   ],
   "source": [
    "for Q, l, r in Qn:\n",
    "    if Q == 1:\n",
    "        # print(l, r)\n",
    "        v = fw.sum(l, l+1)\n",
    "        if v == 0:\n",
    "            fw.add(l, 1)\n",
    "        else:\n",
    "            fw.add(l, -1)\n",
    "            \n",
    "        v = fw.sum(r+1, r+2)\n",
    "        if v == 0:\n",
    "            fw.add(r+1, 1)\n",
    "        else:\n",
    "            fw.add(r+1, -1)\n",
    "    \n",
    "        # for i in range(N+2):\n",
    "        #     print(fw.sum(i, i+1), end = ' ')\n",
    "        # print()                \n",
    "        # for i in range(N+2):\n",
    "        #     print(fw.sum(0, i), end = ' ')\n",
    "        # print()\n",
    "    else:\n",
    "        if r - l < 2 or fw.sum(l+1, r+1) == 0:\n",
    "            print('Yes')\n",
    "        else:\n",
    "            print('No')\n"
   ]
  },
  {
   "cell_type": "code",
   "execution_count": 188,
   "id": "d0dfb678-894c-4268-af2b-9066ec86cb10",
   "metadata": {
    "tags": []
   },
   "outputs": [
    {
     "name": "stdout",
     "output_type": "stream",
     "text": [
      "0 1 0 1 1 0 0 \n",
      "0 0 1 1 2 3 3 \n"
     ]
    }
   ],
   "source": [
    "for i in range(N+2):\n",
    "    print(fw.sum(i, i+1), end = ' ')\n",
    "print()                \n",
    "for i in range(N+2):\n",
    "    print(fw.sum(0, i), end = ' ')\n",
    "print()\n"
   ]
  },
  {
   "cell_type": "code",
   "execution_count": null,
   "id": "4c9a04d1-003b-476c-9d67-529e1042a480",
   "metadata": {},
   "outputs": [],
   "source": [
    "# WA"
   ]
  },
  {
   "cell_type": "code",
   "execution_count": 140,
   "id": "d0675ba6-4776-4a94-876a-0ad8a8984695",
   "metadata": {
    "tags": []
   },
   "outputs": [],
   "source": [
    "from atcoder.fenwicktree import FenwickTree\n",
    "def add(a, b, x):\n",
    "    fw.add(a, x)\n",
    "    fw.add(b, -x)"
   ]
  },
  {
   "cell_type": "code",
   "execution_count": 143,
   "id": "7dd87f38-56cb-4382-91e0-5ae01ddd4c67",
   "metadata": {
    "tags": []
   },
   "outputs": [],
   "source": [
    "fw = FenwickTree(N+2)\n",
    "for i in range(1, N):\n",
    "    if S[i-1] != S[i]:\n",
    "        add(i, i+1, 1)\n",
    "    else:\n",
    "        add(i, i+1, 0)"
   ]
  },
  {
   "cell_type": "code",
   "execution_count": 144,
   "id": "66ae4aa3-427d-4990-8897-e4e0cdbdab11",
   "metadata": {
    "tags": []
   },
   "outputs": [
    {
     "name": "stdout",
     "output_type": "stream",
     "text": [
      "1 3 2 0\n",
      "No\n",
      "0 0 1 1 1 0 0 \n",
      "1 5 4 -1\n",
      "No\n",
      "0 0 1 1 1 0 0 \n",
      "0 1 1 1 1 -1 0 \n",
      "1 5 4 -2\n",
      "No\n",
      "0 1 1 1 1 -1 0 \n",
      "0 1 1 0 2 -1 0 \n",
      "2 4 2 2\n",
      "Yes\n",
      "0 1 1 0 2 -1 0 \n"
     ]
    }
   ],
   "source": [
    "for Q, l, r in Qn:\n",
    "    if Q == 1:\n",
    "        l -= 1\n",
    "        v = fw.sum(0, l)\n",
    "        if v == 0:\n",
    "            add(l, l+1, 1)\n",
    "        else:\n",
    "            add(l, l+1, -1)\n",
    "            \n",
    "        v = fw.sum(0, r)\n",
    "        if v == 0:\n",
    "            add(r, r+1, 1)\n",
    "        else:\n",
    "            add(r, r+1, -1)\n",
    "    else:\n",
    "        print(l, r, r-l, fw.sum(l+1, r))\n",
    "        if r - l < 1 or fw.sum(l+1, r) == r-l:\n",
    "            print('Yes')\n",
    "        else:\n",
    "            print('No')\n",
    "    # for i in range(N+2):\n",
    "    #     print(fw.sum(0, i), end = ' ')\n",
    "    # print()"
   ]
  },
  {
   "cell_type": "code",
   "execution_count": 159,
   "id": "8fa0bc50-44ee-434b-9807-70f8b75c7c91",
   "metadata": {
    "tags": []
   },
   "outputs": [
    {
     "name": "stdout",
     "output_type": "stream",
     "text": [
      "0 0 0 0 1 0 0 \n",
      "0 0 0 0 0 1 1 \n"
     ]
    }
   ],
   "source": [
    "for i in range(N+2):\n",
    "    print(fw.sum(i, i+1), end = ' ')\n",
    "print()\n",
    "for i in range(N+2):\n",
    "    print(fw.sum(0, i), end = ' ')\n",
    "print()"
   ]
  },
  {
   "cell_type": "code",
   "execution_count": 127,
   "id": "d742ceed-8722-4d12-9d46-476604185d1b",
   "metadata": {
    "tags": []
   },
   "outputs": [
    {
     "name": "stdout",
     "output_type": "stream",
     "text": [
      "1 -1 1 -2 1 0 0 \n",
      "0 1 0 1 -1 0 0 \n"
     ]
    }
   ],
   "source": [
    "for i in range(N+2):\n",
    "    print(fw.sum(i, i+1), end = ' ')\n",
    "print()\n",
    "for i in range(N+2):\n",
    "    print(fw.sum(0, i), end = ' ')\n",
    "print()"
   ]
  },
  {
   "cell_type": "code",
   "execution_count": 92,
   "id": "1e0cb549-df9e-4a2e-8d83-95d3b8e919f7",
   "metadata": {
    "tags": []
   },
   "outputs": [
    {
     "name": "stdout",
     "output_type": "stream",
     "text": [
      "1\n",
      "0\n",
      "1\n",
      "1\n",
      "0\n",
      "0\n"
     ]
    }
   ],
   "source": [
    "for i in range(N+1):\n",
    "    print(seg.get(i))"
   ]
  },
  {
   "cell_type": "code",
   "execution_count": 35,
   "id": "f2f663f8-3961-4287-8c89-c59e3256d858",
   "metadata": {
    "tags": []
   },
   "outputs": [
    {
     "name": "stdout",
     "output_type": "stream",
     "text": [
      "1 1 0\n",
      "1 2 1\n",
      "1 3 2\n",
      "1 4 3\n",
      "1 5 3\n",
      "2 2 0\n",
      "2 3 1\n",
      "2 4 2\n",
      "2 5 2\n",
      "3 3 0\n",
      "3 4 1\n",
      "3 5 1\n",
      "4 4 0\n",
      "4 5 0\n",
      "5 5 0\n"
     ]
    }
   ],
   "source": [
    "for i in range(1, N+1):\n",
    "    for j in range(i, N+1):\n",
    "        print(i, j, seg.prod(i, j))"
   ]
  },
  {
   "cell_type": "code",
   "execution_count": 18,
   "id": "fca47d28-05e2-4748-841d-afb143f3d4c6",
   "metadata": {
    "tags": []
   },
   "outputs": [
    {
     "data": {
      "text/plain": [
       "(1, 0)"
      ]
     },
     "execution_count": 18,
     "metadata": {},
     "output_type": "execute_result"
    }
   ],
   "source": [
    "1^0, 1^1"
   ]
  },
  {
   "cell_type": "code",
   "execution_count": null,
   "id": "dad0739e-5682-47e9-ba9f-af4a2e612d2d",
   "metadata": {},
   "outputs": [],
   "source": []
  }
 ],
 "metadata": {
  "kernelspec": {
   "display_name": "Python 3 (ipykernel)",
   "language": "python",
   "name": "python3"
  },
  "language_info": {
   "codemirror_mode": {
    "name": "ipython",
    "version": 3
   },
   "file_extension": ".py",
   "mimetype": "text/x-python",
   "name": "python",
   "nbconvert_exporter": "python",
   "pygments_lexer": "ipython3",
   "version": "3.11.3"
  }
 },
 "nbformat": 4,
 "nbformat_minor": 5
}
