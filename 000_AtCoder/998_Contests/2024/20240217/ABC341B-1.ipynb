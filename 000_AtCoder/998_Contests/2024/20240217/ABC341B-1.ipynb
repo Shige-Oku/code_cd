{
 "cells": [
  {
   "cell_type": "code",
   "execution_count": 1,
   "id": "73caec49-0aea-4b4d-87f6-2703db816b8f",
   "metadata": {
    "tags": []
   },
   "outputs": [],
   "source": [
    "import sys\n",
    "import numpy as np\n",
    "import math\n",
    "import collections\n",
    "import copy\n",
    "import decimal\n",
    "import itertools\n",
    "import re\n",
    "import bisect\n",
    "import scipy\n",
    "import heapq\n",
    "from collections import deque \n",
    "from functools import reduce\n",
    "from itertools import product\n",
    "from itertools import combinations\n",
    "from functools import lru_cache\n",
    "from scipy.special import comb\n",
    "from numba import njit\n",
    "from bisect import bisect_right\n",
    "from bisect import bisect_left\n",
    "from atcoder.fenwicktree import FenwickTree"
   ]
  },
  {
   "cell_type": "code",
   "execution_count": 1,
   "id": "a475b1ed-70dd-41dc-914f-c93fee7a2d90",
   "metadata": {
    "tags": []
   },
   "outputs": [
    {
     "name": "stdin",
     "output_type": "stream",
     "text": [
      " 4\n"
     ]
    }
   ],
   "source": [
    "N = int(input())"
   ]
  },
  {
   "cell_type": "code",
   "execution_count": 2,
   "id": "653fddac-e5e5-4373-b852-45b7a14a7bff",
   "metadata": {
    "tags": []
   },
   "outputs": [
    {
     "name": "stdin",
     "output_type": "stream",
     "text": [
      " 5 7 0 3\n"
     ]
    }
   ],
   "source": [
    "An = list(map(int, input().split()))"
   ]
  },
  {
   "cell_type": "code",
   "execution_count": 3,
   "id": "b37f6ced-a10b-409d-8d8a-4208c85e01d9",
   "metadata": {
    "tags": []
   },
   "outputs": [
    {
     "name": "stdin",
     "output_type": "stream",
     "text": [
      " 2 2\n",
      " 4 3\n",
      " 5 2\n"
     ]
    }
   ],
   "source": [
    "STn = [list(map(int, input().split())) for _ in range(N-1)]"
   ]
  },
  {
   "cell_type": "code",
   "execution_count": 4,
   "id": "15eac981-b212-4538-b595-b6317caf0c1b",
   "metadata": {
    "tags": []
   },
   "outputs": [],
   "source": [
    "n = 0\n",
    "for i, A in enumerate(An[:-1]):\n",
    "    S, T = STn[i]\n",
    "    n = (n + A) // S * T\n"
   ]
  },
  {
   "cell_type": "code",
   "execution_count": 5,
   "id": "495b96e7-252d-4cca-806f-9cbcc15c5ae1",
   "metadata": {
    "tags": []
   },
   "outputs": [
    {
     "name": "stdout",
     "output_type": "stream",
     "text": [
      "5\n"
     ]
    }
   ],
   "source": [
    "print(n + An[-1])"
   ]
  },
  {
   "cell_type": "code",
   "execution_count": 10,
   "id": "6a64b3b9-ba4c-44b2-9a5f-c43791f05c27",
   "metadata": {
    "tags": []
   },
   "outputs": [],
   "source": [
    "m = [A for A in An] \n",
    "for i, (S, T) in enumerate(STn):\n",
    "    m[i+1] += m[i] // S * T"
   ]
  },
  {
   "cell_type": "code",
   "execution_count": 11,
   "id": "af3fe5da-8161-4208-988e-f5a058647c76",
   "metadata": {},
   "outputs": [
    {
     "name": "stdout",
     "output_type": "stream",
     "text": [
      "5\n"
     ]
    }
   ],
   "source": [
    "print(m[N-1])"
   ]
  },
  {
   "cell_type": "code",
   "execution_count": 9,
   "id": "e65f3761-310b-4517-9fb2-a79a3066dee0",
   "metadata": {
    "tags": []
   },
   "outputs": [
    {
     "data": {
      "text/plain": [
       "[[2, 2], [4, 3], [5, 2]]"
      ]
     },
     "execution_count": 9,
     "metadata": {},
     "output_type": "execute_result"
    }
   ],
   "source": [
    "STn"
   ]
  },
  {
   "cell_type": "code",
   "execution_count": null,
   "id": "b9473503-de1c-4b4e-947b-0e897b9dcbcc",
   "metadata": {},
   "outputs": [],
   "source": []
  }
 ],
 "metadata": {
  "kernelspec": {
   "display_name": "Python 3 (ipykernel)",
   "language": "python",
   "name": "python3"
  },
  "language_info": {
   "codemirror_mode": {
    "name": "ipython",
    "version": 3
   },
   "file_extension": ".py",
   "mimetype": "text/x-python",
   "name": "python",
   "nbconvert_exporter": "python",
   "pygments_lexer": "ipython3",
   "version": "3.11.3"
  }
 },
 "nbformat": 4,
 "nbformat_minor": 5
}
