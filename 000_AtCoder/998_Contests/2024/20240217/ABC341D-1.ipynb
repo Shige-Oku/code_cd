{
 "cells": [
  {
   "cell_type": "code",
   "execution_count": 1,
   "id": "60869ee2-1a30-4b62-9154-f840a67aaa2b",
   "metadata": {
    "tags": []
   },
   "outputs": [],
   "source": [
    "import sys\n",
    "import numpy as np\n",
    "import math\n",
    "import collections\n",
    "import copy\n",
    "import decimal\n",
    "import itertools\n",
    "import re\n",
    "import bisect\n",
    "import scipy\n",
    "import heapq\n",
    "from collections import deque \n",
    "from functools import reduce\n",
    "from itertools import product\n",
    "from itertools import combinations\n",
    "from functools import lru_cache\n",
    "from scipy.special import comb\n",
    "from numba import njit\n",
    "from bisect import bisect_right\n",
    "from bisect import bisect_left\n",
    "from atcoder.fenwicktree import FenwickTree"
   ]
  },
  {
   "cell_type": "code",
   "execution_count": 110,
   "id": "a9f0c21e-7628-4d18-9ea6-b9168770cfac",
   "metadata": {
    "tags": []
   },
   "outputs": [
    {
     "name": "stdin",
     "output_type": "stream",
     "text": [
      " 100000000 99999999 10000000000\n"
     ]
    }
   ],
   "source": [
    "N, M, K = map(int, input().split())"
   ]
  },
  {
   "cell_type": "code",
   "execution_count": 117,
   "id": "045ffd37-6d93-4f91-a690-b15cbc31f7d7",
   "metadata": {
    "tags": []
   },
   "outputs": [],
   "source": [
    "import math\n",
    "def f(m):\n",
    "    cnt = m // N + m // M - m // math.lcm(N, M) * 2\n",
    "    return cnt < K"
   ]
  },
  {
   "cell_type": "code",
   "execution_count": 118,
   "id": "3fbad38c-e3c9-4deb-9ca5-511d2840bfc9",
   "metadata": {
    "tags": []
   },
   "outputs": [],
   "source": [
    "def my_bisect():\n",
    "    l, r = 0, 10**20\n",
    "\n",
    "    while r - l > 1:\n",
    "        m = (r + l) // 2\n",
    "        if f(m):\n",
    "            l = m\n",
    "        else:\n",
    "            r = m\n",
    "    return r"
   ]
  },
  {
   "cell_type": "code",
   "execution_count": 119,
   "id": "f1059cfc-2dfa-4838-ace8-7b7f6e9713a4",
   "metadata": {
    "tags": []
   },
   "outputs": [
    {
     "name": "stdout",
     "output_type": "stream",
     "text": [
      "500000002500000000\n"
     ]
    }
   ],
   "source": [
    "print(my_bisect())"
   ]
  },
  {
   "cell_type": "code",
   "execution_count": 92,
   "id": "6ca4b6f5-3d2a-4fd9-881c-85c61b9c240f",
   "metadata": {
    "tags": []
   },
   "outputs": [
    {
     "data": {
      "text/plain": [
       "2500000000"
      ]
     },
     "execution_count": 92,
     "metadata": {},
     "output_type": "execute_result"
    }
   ],
   "source": [
    "500000002500000000 - 500000000000000000"
   ]
  },
  {
   "cell_type": "code",
   "execution_count": 74,
   "id": "f3baab30-b3fa-4791-b33b-187dbdb6245a",
   "metadata": {
    "tags": []
   },
   "outputs": [],
   "source": [
    "def solve1():\n",
    "    lcm = math.lcm(N, M)\n",
    "    Nc = lcm // N\n",
    "    Mc = lcm // M\n",
    "    NMc = Nc + Mc -2\n",
    "    r, m = divmod(K, NMc)\n",
    "    ans = lcm * r\n",
    "    lcm_n, lcm_m = lcm * r, lcm * r\n",
    "\n",
    "    while m > 0:\n",
    "        if lcm_n + N < lcm_m + M:\n",
    "            lcm_n += N\n",
    "            ans = lcm_n\n",
    "        else:\n",
    "            lcm_m += M\n",
    "            ans = lcm_m\n",
    "        m -= 1\n",
    "\n",
    "    return ans"
   ]
  },
  {
   "cell_type": "code",
   "execution_count": 75,
   "id": "c549165b-ce25-4e99-a6da-de501d452217",
   "metadata": {
    "tags": []
   },
   "outputs": [],
   "source": [
    "def solve2():\n",
    "    r = K // (max(N, M) - 1) - 1\n",
    "\n",
    "    return max(N, M) * r + K % r"
   ]
  },
  {
   "cell_type": "code",
   "execution_count": 76,
   "id": "ac37cb8a-56f3-4b97-90a0-16b2b0d1fd2e",
   "metadata": {
    "tags": []
   },
   "outputs": [],
   "source": [
    "def solve():\n",
    "    if N == 1 or M == 1:\n",
    "        f = True\n",
    "    else:\n",
    "        f = False\n",
    "    if f:\n",
    "        return solve2()\n",
    "    else:\n",
    "        return solve1()\n"
   ]
  },
  {
   "cell_type": "code",
   "execution_count": 77,
   "id": "0f3048ba-e5b8-4399-a9f4-e3c418af92b2",
   "metadata": {
    "tags": []
   },
   "outputs": [
    {
     "name": "stdout",
     "output_type": "stream",
     "text": [
      "500000002500000000\n"
     ]
    }
   ],
   "source": [
    "print(solve())"
   ]
  },
  {
   "cell_type": "code",
   "execution_count": 37,
   "id": "c4ebaec8-1d94-422f-9c97-04c3e387a682",
   "metadata": {
    "tags": []
   },
   "outputs": [],
   "source": [
    "import math\n",
    "lcm = math.lcm(N, M)\n",
    "Nc = lcm // N\n",
    "Mc = lcm // M\n",
    "NMc = Nc + Mc -2\n",
    "r, m = divmod(K, NMc)\n",
    "ans = lcm * r"
   ]
  },
  {
   "cell_type": "code",
   "execution_count": 38,
   "id": "3f5f7a56-fdb9-4af8-918c-cacae57236d0",
   "metadata": {
    "tags": []
   },
   "outputs": [],
   "source": [
    "lcm_n, lcm_m = lcm * r, lcm * r\n",
    "while m > 0:\n",
    "    print(lcm_n, lcm_m, m)\n",
    "    if lcm_n + N == lcm_m + M:\n",
    "        lcm_n += N\n",
    "        lcm_m += M\n",
    "        continue\n",
    "        \n",
    "    if lcm_n + N < lcm_m + M:\n",
    "        lcm_n += N\n",
    "        ans = lcm_n\n",
    "    elif lcm_n + N < lcm_m + M:\n",
    "        lcm_m += M\n",
    "        ans = lcm_m\n",
    "    m -= 1"
   ]
  },
  {
   "cell_type": "code",
   "execution_count": 39,
   "id": "a9fc36bd-d0ea-4c85-ba0b-10e0d61ca313",
   "metadata": {
    "tags": []
   },
   "outputs": [
    {
     "name": "stdout",
     "output_type": "stream",
     "text": [
      "6\n"
     ]
    }
   ],
   "source": [
    "print(ans)"
   ]
  },
  {
   "cell_type": "code",
   "execution_count": 40,
   "id": "a00be07f-ee3b-4e77-80a4-c062c3b4397d",
   "metadata": {
    "tags": []
   },
   "outputs": [
    {
     "data": {
      "text/plain": [
       "2"
      ]
     },
     "execution_count": 40,
     "metadata": {},
     "output_type": "execute_result"
    }
   ],
   "source": [
    "lcm"
   ]
  },
  {
   "cell_type": "code",
   "execution_count": 6,
   "id": "5ab098ad-8335-4a4e-9fb5-041f81006674",
   "metadata": {
    "tags": []
   },
   "outputs": [
    {
     "data": {
      "text/plain": [
       "(3, 2)"
      ]
     },
     "execution_count": 6,
     "metadata": {},
     "output_type": "execute_result"
    }
   ],
   "source": [
    "Nc, Mc"
   ]
  },
  {
   "cell_type": "code",
   "execution_count": 8,
   "id": "0acddb0b-84eb-4e47-bffd-64bab5a25f18",
   "metadata": {
    "tags": []
   },
   "outputs": [
    {
     "data": {
      "text/plain": [
       "3"
      ]
     },
     "execution_count": 8,
     "metadata": {},
     "output_type": "execute_result"
    }
   ],
   "source": [
    "M"
   ]
  },
  {
   "cell_type": "code",
   "execution_count": 11,
   "id": "5c9ef2d2-6c0f-4b59-a29b-41e62aabd596",
   "metadata": {
    "tags": []
   },
   "outputs": [
    {
     "data": {
      "text/plain": [
       "6"
      ]
     },
     "execution_count": 11,
     "metadata": {},
     "output_type": "execute_result"
    }
   ],
   "source": [
    "kiso"
   ]
  },
  {
   "cell_type": "code",
   "execution_count": 9,
   "id": "5178aa4a-0b8a-4340-b4bf-ccfa023117cd",
   "metadata": {
    "tags": []
   },
   "outputs": [
    {
     "data": {
      "text/plain": [
       "3"
      ]
     },
     "execution_count": 9,
     "metadata": {},
     "output_type": "execute_result"
    }
   ],
   "source": [
    "NMc"
   ]
  },
  {
   "cell_type": "code",
   "execution_count": null,
   "id": "2b6a3e56-cb39-4f44-96b3-709b8c44bdab",
   "metadata": {},
   "outputs": [],
   "source": []
  }
 ],
 "metadata": {
  "kernelspec": {
   "display_name": "Python 3 (ipykernel)",
   "language": "python",
   "name": "python3"
  },
  "language_info": {
   "codemirror_mode": {
    "name": "ipython",
    "version": 3
   },
   "file_extension": ".py",
   "mimetype": "text/x-python",
   "name": "python",
   "nbconvert_exporter": "python",
   "pygments_lexer": "ipython3",
   "version": "3.11.3"
  }
 },
 "nbformat": 4,
 "nbformat_minor": 5
}
