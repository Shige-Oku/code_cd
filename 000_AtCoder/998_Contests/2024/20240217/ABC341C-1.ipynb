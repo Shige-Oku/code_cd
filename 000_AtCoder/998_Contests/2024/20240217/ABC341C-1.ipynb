{
 "cells": [
  {
   "cell_type": "code",
   "execution_count": 1,
   "id": "2cb4558e-f58e-40f7-9f70-111c364d3cff",
   "metadata": {
    "tags": []
   },
   "outputs": [],
   "source": [
    "import sys\n",
    "import numpy as np\n",
    "import math\n",
    "import collections\n",
    "import copy\n",
    "import decimal\n",
    "import itertools\n",
    "import re\n",
    "import bisect\n",
    "import scipy\n",
    "import heapq\n",
    "from collections import deque \n",
    "from functools import reduce\n",
    "from itertools import product\n",
    "from itertools import combinations\n",
    "from functools import lru_cache\n",
    "from scipy.special import comb\n",
    "from numba import njit\n",
    "from bisect import bisect_right\n",
    "from bisect import bisect_left\n",
    "from atcoder.fenwicktree import FenwickTree"
   ]
  },
  {
   "cell_type": "code",
   "execution_count": 2,
   "id": "28264ca4-1fca-4a09-959f-b4f98db7a79a",
   "metadata": {
    "tags": []
   },
   "outputs": [
    {
     "name": "stdin",
     "output_type": "stream",
     "text": [
      " 6 7 5\n"
     ]
    }
   ],
   "source": [
    "H, W, N = map(int, input().split())"
   ]
  },
  {
   "cell_type": "code",
   "execution_count": 3,
   "id": "45b7b203-358a-43ab-8c44-d99c685a9dec",
   "metadata": {
    "tags": []
   },
   "outputs": [
    {
     "name": "stdin",
     "output_type": "stream",
     "text": [
      " LULDR\n"
     ]
    }
   ],
   "source": [
    "T = input()"
   ]
  },
  {
   "cell_type": "code",
   "execution_count": 4,
   "id": "2d762b52-c24f-4037-8e1c-8054d27cd931",
   "metadata": {
    "tags": []
   },
   "outputs": [
    {
     "name": "stdin",
     "output_type": "stream",
     "text": [
      " #######\n",
      " #...#.#\n",
      " ##...##\n",
      " #.#...#\n",
      " #...#.#\n",
      " #######\n"
     ]
    }
   ],
   "source": [
    "Sh = [input() for _ in range(H)]"
   ]
  },
  {
   "cell_type": "code",
   "execution_count": 32,
   "id": "7c706047-2575-44a3-a89c-2c3edbd2741a",
   "metadata": {
    "tags": []
   },
   "outputs": [],
   "source": [
    "def solve(h, w):\n",
    "    for i, t in enumerate(T):\n",
    "        if t == 'L':\n",
    "            w -= 1\n",
    "        elif t == 'R':\n",
    "            w += 1\n",
    "        elif t == 'U':\n",
    "            h -= 1\n",
    "        else:\n",
    "            h += 1\n",
    "        if Sh[h][w] == '#':\n",
    "            return False\n",
    "    return True"
   ]
  },
  {
   "cell_type": "code",
   "execution_count": 33,
   "id": "4a96addf-c524-4206-ae0c-f475d85a92ca",
   "metadata": {
    "tags": []
   },
   "outputs": [],
   "source": [
    "ans = 0\n",
    "for h in range(1, H):\n",
    "    for w in range(1, W):\n",
    "        if Sh[h][w] == '#':\n",
    "            continue\n",
    "        if solve(h, w):\n",
    "            ans += 1"
   ]
  },
  {
   "cell_type": "code",
   "execution_count": 34,
   "id": "bf98efd0-7558-45da-84f3-410b7570a714",
   "metadata": {
    "tags": []
   },
   "outputs": [
    {
     "name": "stdout",
     "output_type": "stream",
     "text": [
      "2\n"
     ]
    }
   ],
   "source": [
    "print(ans)"
   ]
  },
  {
   "cell_type": "code",
   "execution_count": 31,
   "id": "b1dc5dcb-db7b-4260-8379-7251bd88f316",
   "metadata": {
    "tags": []
   },
   "outputs": [
    {
     "name": "stdout",
     "output_type": "stream",
     "text": [
      "3 5\n",
      "3 4\n",
      "2 4\n",
      "2 3\n",
      "3 3\n",
      "3 4\n"
     ]
    },
    {
     "data": {
      "text/plain": [
       "True"
      ]
     },
     "execution_count": 31,
     "metadata": {},
     "output_type": "execute_result"
    }
   ],
   "source": [
    "solve(3, 5)"
   ]
  },
  {
   "cell_type": "code",
   "execution_count": 5,
   "id": "76a64835-8e8c-482b-942f-796d44da8791",
   "metadata": {
    "tags": []
   },
   "outputs": [
    {
     "data": {
      "text/plain": [
       "125000000"
      ]
     },
     "execution_count": 5,
     "metadata": {},
     "output_type": "execute_result"
    }
   ],
   "source": [
    "500**3"
   ]
  },
  {
   "cell_type": "code",
   "execution_count": 9,
   "id": "909d33ec-5100-4ef8-8e0b-963479ea5c42",
   "metadata": {
    "tags": []
   },
   "outputs": [
    {
     "data": {
      "text/plain": [
       "(1, 7)"
      ]
     },
     "execution_count": 9,
     "metadata": {},
     "output_type": "execute_result"
    }
   ],
   "source": [
    "h, w"
   ]
  },
  {
   "cell_type": "code",
   "execution_count": 11,
   "id": "f4e2f7e3-27cd-49ba-ac64-d4ef9e02559e",
   "metadata": {
    "tags": []
   },
   "outputs": [
    {
     "data": {
      "text/plain": [
       "15"
      ]
     },
     "execution_count": 11,
     "metadata": {},
     "output_type": "execute_result"
    }
   ],
   "source": [
    "ans"
   ]
  },
  {
   "cell_type": "code",
   "execution_count": null,
   "id": "8dfb651c-25fe-4576-bad5-639ac4968856",
   "metadata": {},
   "outputs": [],
   "source": []
  }
 ],
 "metadata": {
  "kernelspec": {
   "display_name": "Python 3 (ipykernel)",
   "language": "python",
   "name": "python3"
  },
  "language_info": {
   "codemirror_mode": {
    "name": "ipython",
    "version": 3
   },
   "file_extension": ".py",
   "mimetype": "text/x-python",
   "name": "python",
   "nbconvert_exporter": "python",
   "pygments_lexer": "ipython3",
   "version": "3.11.3"
  }
 },
 "nbformat": 4,
 "nbformat_minor": 5
}
