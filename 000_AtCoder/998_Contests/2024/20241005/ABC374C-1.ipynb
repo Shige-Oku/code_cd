{
 "cells": [
  {
   "cell_type": "code",
   "execution_count": 1,
   "id": "4a7c7361-8c52-4ebd-a15b-4c0b1ed2a1c4",
   "metadata": {
    "tags": []
   },
   "outputs": [],
   "source": [
    "import sys\n",
    "import numpy as np\n",
    "import math\n",
    "import collections\n",
    "import copy\n",
    "import decimal\n",
    "import itertools\n",
    "import re\n",
    "import bisect\n",
    "import scipy\n",
    "import heapq\n",
    "from collections import deque \n",
    "from functools import reduce\n",
    "from itertools import product\n",
    "from itertools import combinations\n",
    "from functools import lru_cache\n",
    "from scipy.special import comb\n",
    "from numba import njit\n",
    "from bisect import bisect_right\n",
    "from bisect import bisect_left\n",
    "from atcoder.fenwicktree import FenwickTree\n",
    "from sortedcontainers import SortedSet, SortedList, SortedDict"
   ]
  },
  {
   "cell_type": "code",
   "execution_count": 30,
   "id": "db84f46a-d595-45b6-9a73-276ee3bc893a",
   "metadata": {
    "tags": []
   },
   "outputs": [
    {
     "name": "stdin",
     "output_type": "stream",
     "text": [
      " 6\n"
     ]
    }
   ],
   "source": [
    "N = int(input())"
   ]
  },
  {
   "cell_type": "code",
   "execution_count": 31,
   "id": "c43c53f4-eb24-4a2a-966d-37a449975cf4",
   "metadata": {
    "tags": []
   },
   "outputs": [
    {
     "name": "stdin",
     "output_type": "stream",
     "text": [
      " 22 25 26 45 22 31\n"
     ]
    }
   ],
   "source": [
    "Kn = list(map(int, input().split()))"
   ]
  },
  {
   "cell_type": "code",
   "execution_count": 35,
   "id": "5f359995-3696-4500-ac90-e2279af20ddf",
   "metadata": {
    "tags": []
   },
   "outputs": [],
   "source": [
    "from itertools import product\n",
    "diff = 10**20\n",
    "ans = 0\n",
    "for P in product([0, 1], repeat=N):\n",
    "    groupA = 0\n",
    "    groupB = 0\n",
    "    for i, p in enumerate(P):\n",
    "        if p == 0:\n",
    "            groupA += Kn[i]\n",
    "        else:\n",
    "            groupB += Kn[i]\n",
    "    # print(groupA, groupB, diff, ans)\n",
    "    if abs(groupA-groupB) < diff:\n",
    "        diff = abs(groupA - groupB)\n",
    "        ans = max(groupA, groupB)\n",
    "    elif abs(groupA-groupB) == diff:\n",
    "        diff = abs(groupA - groupB)\n",
    "        c = max(groupA, groupB)\n",
    "        if c > ans:\n",
    "            ans = c"
   ]
  },
  {
   "cell_type": "code",
   "execution_count": 33,
   "id": "67962dac-8ed7-409b-98cb-195a0e5d08d0",
   "metadata": {
    "tags": []
   },
   "outputs": [
    {
     "name": "stdout",
     "output_type": "stream",
     "text": [
      "89\n"
     ]
    }
   ],
   "source": [
    "print(ans)"
   ]
  },
  {
   "cell_type": "code",
   "execution_count": 4,
   "id": "f0568c4f-74b8-4e1a-b3a1-9f6bc98ccc75",
   "metadata": {
    "tags": []
   },
   "outputs": [
    {
     "name": "stdout",
     "output_type": "stream",
     "text": [
      "(0, 0, 0, 0)\n",
      "(0, 0, 0, 1)\n",
      "(0, 0, 1, 0)\n",
      "(0, 0, 1, 1)\n",
      "(0, 1, 0, 0)\n",
      "(0, 1, 0, 1)\n",
      "(0, 1, 1, 0)\n",
      "(0, 1, 1, 1)\n",
      "(1, 0, 0, 0)\n",
      "(1, 0, 0, 1)\n",
      "(1, 0, 1, 0)\n",
      "(1, 0, 1, 1)\n",
      "(1, 1, 0, 0)\n",
      "(1, 1, 0, 1)\n",
      "(1, 1, 1, 0)\n",
      "(1, 1, 1, 1)\n"
     ]
    }
   ],
   "source": [
    "from itertools import product\n",
    "for p in product([0, 1], repeat=4):\n",
    "    print(p)"
   ]
  },
  {
   "cell_type": "code",
   "execution_count": 9,
   "id": "f72f386a-7fcb-4d4f-9955-22c9bf596248",
   "metadata": {
    "tags": []
   },
   "outputs": [
    {
     "data": {
      "text/plain": [
       "32"
      ]
     },
     "execution_count": 9,
     "metadata": {},
     "output_type": "execute_result"
    }
   ],
   "source": [
    "sum(Kn)"
   ]
  },
  {
   "cell_type": "code",
   "execution_count": null,
   "id": "febb8827-cbc9-42f5-b4d8-8b162d7cf121",
   "metadata": {},
   "outputs": [],
   "source": []
  }
 ],
 "metadata": {
  "kernelspec": {
   "display_name": "Python 3 (ipykernel)",
   "language": "python",
   "name": "python3"
  },
  "language_info": {
   "codemirror_mode": {
    "name": "ipython",
    "version": 3
   },
   "file_extension": ".py",
   "mimetype": "text/x-python",
   "name": "python",
   "nbconvert_exporter": "python",
   "pygments_lexer": "ipython3",
   "version": "3.11.3"
  }
 },
 "nbformat": 4,
 "nbformat_minor": 5
}
