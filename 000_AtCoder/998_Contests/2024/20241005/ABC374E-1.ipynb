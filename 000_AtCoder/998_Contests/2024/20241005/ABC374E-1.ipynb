{
 "cells": [
  {
   "cell_type": "code",
   "execution_count": 1,
   "id": "6d2bb5db-7c14-432b-851d-296039cc058f",
   "metadata": {
    "tags": []
   },
   "outputs": [],
   "source": [
    "import sys\n",
    "import numpy as np\n",
    "import math\n",
    "import collections\n",
    "import copy\n",
    "import decimal\n",
    "import itertools\n",
    "import re\n",
    "import bisect\n",
    "import scipy\n",
    "import heapq\n",
    "from collections import deque \n",
    "from functools import reduce\n",
    "from itertools import product\n",
    "from itertools import combinations\n",
    "from functools import lru_cache\n",
    "from scipy.special import comb\n",
    "from numba import njit\n",
    "from bisect import bisect_right\n",
    "from bisect import bisect_left\n",
    "from atcoder.fenwicktree import FenwickTree\n",
    "from sortedcontainers import SortedSet, SortedList, SortedDict"
   ]
  },
  {
   "cell_type": "code",
   "execution_count": 2,
   "id": "047bba0b-e407-40db-9ad6-0e2f86af1b22",
   "metadata": {
    "tags": []
   },
   "outputs": [
    {
     "name": "stdin",
     "output_type": "stream",
     "text": [
      " 3 22\n"
     ]
    }
   ],
   "source": [
    "N, X = map(int, input().split())"
   ]
  },
  {
   "cell_type": "code",
   "execution_count": 3,
   "id": "bfe3a7f8-d701-471c-8227-71652338e1a7",
   "metadata": {
    "tags": []
   },
   "outputs": [
    {
     "name": "stdin",
     "output_type": "stream",
     "text": [
      " 2 5 3 6\n",
      " 1 1 3 3\n",
      " 1 3 2 4\n"
     ]
    }
   ],
   "source": [
    "APBQn = [list(map(int, input().split())) for _ in range(N)]"
   ]
  },
  {
   "cell_type": "code",
   "execution_count": 70,
   "id": "bb390042-9f94-4cc2-b939-66cf1db3eaaa",
   "metadata": {
    "tags": []
   },
   "outputs": [],
   "source": [
    "def check(n):\n",
    "    money = 0\n",
    "    for A, P, B, Q in APBQn:\n",
    "        c = 10**20\n",
    "        for i in range(0, B+1, A):\n",
    "            ca = i // A * P\n",
    "            ca += max(0, ((n-i) + B - 1) // B * Q)\n",
    "            # print(c, ca, i)\n",
    "            c = min(c, ca)\n",
    "        for i in range(0, A+1, B):\n",
    "            ca = i // B * Q\n",
    "            ca += max(0, ((n-i) + A - 1) // A * P)\n",
    "            # print(c, ca, i)\n",
    "            c = min(c, ca)\n",
    "        money += c\n",
    "    # print(money)\n",
    "    return X >= money"
   ]
  },
  {
   "cell_type": "code",
   "execution_count": 71,
   "id": "4e697104-34f7-47d6-b9c9-c78c12ed557b",
   "metadata": {
    "tags": []
   },
   "outputs": [],
   "source": [
    "def mybi_sect():\n",
    "    l, r = 0, 10**20\n",
    "    while l + 1 < r:\n",
    "        m = (r + l) // 2\n",
    "        if check(m):\n",
    "            l = m\n",
    "        else:\n",
    "            r = m\n",
    "    return l"
   ]
  },
  {
   "cell_type": "code",
   "execution_count": 72,
   "id": "39c3a87b-56f5-40bc-bcab-412b5a9da8c7",
   "metadata": {
    "tags": []
   },
   "outputs": [
    {
     "name": "stdout",
     "output_type": "stream",
     "text": [
      "4\n"
     ]
    }
   ],
   "source": [
    "print(mybi_sect())"
   ]
  },
  {
   "cell_type": "code",
   "execution_count": 60,
   "id": "5e88b3a3-7093-4af3-8e82-d72de53d7854",
   "metadata": {
    "tags": []
   },
   "outputs": [
    {
     "name": "stdout",
     "output_type": "stream",
     "text": [
      "100000000000000000000 12 0\n",
      "12 17 1\n",
      "12 11 2\n",
      "11 16 3\n",
      "11 16 4\n",
      "11 15 5\n",
      "100000000000000000000 6 0\n",
      "6 7 1\n",
      "6 5 2\n",
      "5 6 3\n",
      "5 7 4\n",
      "5 5 5\n",
      "100000000000000000000 12 0\n",
      "12 11 1\n",
      "11 14 2\n",
      "11 13 3\n",
      "11 16 4\n",
      "11 15 5\n"
     ]
    },
    {
     "data": {
      "text/plain": [
       "False"
      ]
     },
     "execution_count": 60,
     "metadata": {},
     "output_type": "execute_result"
    }
   ],
   "source": [
    "check(5)"
   ]
  },
  {
   "cell_type": "code",
   "execution_count": null,
   "id": "3b4d6739-73c5-4cfa-ae98-a72d87dea040",
   "metadata": {},
   "outputs": [],
   "source": []
  },
  {
   "cell_type": "code",
   "execution_count": 37,
   "id": "908b0a4d-c3b8-4aad-9703-c815cae0f960",
   "metadata": {
    "tags": []
   },
   "outputs": [],
   "source": [
    "def check(n):\n",
    "    money = 0\n",
    "    for A, P, B, Q in APBQn:\n",
    "        if P / A < Q / B:\n",
    "            ca = max(0, (n+A-1) // A * P)\n",
    "            cb = Q + (n+A-1-B) // A * P\n",
    "        else:\n",
    "            ca = max(0, (n+B-1) // B * Q)\n",
    "            cb = P + (n+B-1-A) // B * Q\n",
    "        money += min(ca, cb)\n",
    "        print((n+B-1), (n+B-1) // B)\n",
    "        print(money, ca, cb, A/P, B/Q)\n",
    "    # print(money)\n",
    "    return X >= money"
   ]
  }
 ],
 "metadata": {
  "kernelspec": {
   "display_name": "Python 3 (ipykernel)",
   "language": "python",
   "name": "python3"
  },
  "language_info": {
   "codemirror_mode": {
    "name": "ipython",
    "version": 3
   },
   "file_extension": ".py",
   "mimetype": "text/x-python",
   "name": "python",
   "nbconvert_exporter": "python",
   "pygments_lexer": "ipython3",
   "version": "3.11.3"
  }
 },
 "nbformat": 4,
 "nbformat_minor": 5
}
