{
 "cells": [
  {
   "cell_type": "code",
   "execution_count": 1,
   "id": "0a59c6bd-0863-48fc-9980-59d49dafd7a0",
   "metadata": {
    "tags": []
   },
   "outputs": [],
   "source": [
    "import sys\n",
    "import numpy as np\n",
    "import math\n",
    "import collections\n",
    "import copy\n",
    "import decimal\n",
    "import itertools\n",
    "import re\n",
    "import bisect\n",
    "import scipy\n",
    "import heapq\n",
    "from collections import deque \n",
    "from functools import reduce\n",
    "from itertools import product\n",
    "from itertools import combinations\n",
    "from functools import lru_cache\n",
    "from scipy.special import comb\n",
    "from numba import njit\n",
    "from bisect import bisect_right\n",
    "from bisect import bisect_left\n",
    "from atcoder.fenwicktree import FenwickTree\n",
    "from sortedcontainers import SortedSet, SortedList, SortedDict"
   ]
  },
  {
   "cell_type": "code",
   "execution_count": 2,
   "id": "7a1eb9b9-6eb2-4f28-b4ce-8b930c843934",
   "metadata": {
    "tags": []
   },
   "outputs": [
    {
     "name": "stdin",
     "output_type": "stream",
     "text": [
      " 3 2 1\n"
     ]
    }
   ],
   "source": [
    "N, S, T = map(int, input().split())"
   ]
  },
  {
   "cell_type": "code",
   "execution_count": 3,
   "id": "2c9ec943-1baf-4b2d-a433-e0febf8e215a",
   "metadata": {
    "tags": []
   },
   "outputs": [
    {
     "name": "stdin",
     "output_type": "stream",
     "text": [
      " 1 3 2 1\n",
      " 0 2 0 0 \n",
      " 3 0 2 0\n"
     ]
    }
   ],
   "source": [
    "ABCDn = [list(map(int, input().split())) for _ in range(N)]"
   ]
  },
  {
   "cell_type": "code",
   "execution_count": 53,
   "id": "a6122488-1059-4d34-b372-385adbe68d66",
   "metadata": {
    "tags": []
   },
   "outputs": [],
   "source": [
    "def solve(P1, P2):\n",
    "    cur = [0, 0]\n",
    "    ca  = 0\n",
    "    for i, j in zip(P1, P2):\n",
    "        if j == 0:\n",
    "            a, b = ABCDn[i][:2]\n",
    "            c, d = ABCDn[i][2:]\n",
    "        else:\n",
    "            c, d = ABCDn[i][:2]\n",
    "            a, b = ABCDn[i][2:]\n",
    "        # print(a, b, c, d, cur)\n",
    "        di = (cur[0]-a)**2 + (cur[1]-b)**2\n",
    "        ca += di**0.5 / S\n",
    "        di = (a-c)**2 + (b-d)**2\n",
    "        ca += di**0.5 / T\n",
    "        cur[0], cur[1] = c, d\n",
    "        # print(ca, cur)\n",
    "    return ca"
   ]
  },
  {
   "cell_type": "code",
   "execution_count": 60,
   "id": "14cc0a64-96f2-4727-9fe7-a4605b1617a6",
   "metadata": {
    "tags": []
   },
   "outputs": [],
   "source": [
    "from itertools import permutations, product\n",
    "ans = 10**20\n",
    "for P1 in permutations(range(N), N):\n",
    "    for P2 in product([0, 1], repeat=N):\n",
    "        # print(P1, P2)\n",
    "        c = solve(P1, P2)\n",
    "        ans = min(ans, c)\n",
    "        # if ans == c:\n",
    "        #     print(ans, P1, P2)"
   ]
  },
  {
   "cell_type": "code",
   "execution_count": 52,
   "id": "65bf0681-8261-41bb-8e66-feebdb0e944e",
   "metadata": {
    "tags": []
   },
   "outputs": [
    {
     "name": "stdout",
     "output_type": "stream",
     "text": [
      "6.443174758686338\n"
     ]
    }
   ],
   "source": [
    "print(ans)"
   ]
  },
  {
   "cell_type": "code",
   "execution_count": 4,
   "id": "98fb012e-a3a7-4ac9-a799-874f2a585c16",
   "metadata": {
    "tags": []
   },
   "outputs": [
    {
     "data": {
      "text/plain": [
       "33554432"
      ]
     },
     "execution_count": 4,
     "metadata": {},
     "output_type": "execute_result"
    }
   ],
   "source": [
    "2**25"
   ]
  },
  {
   "cell_type": "code",
   "execution_count": 6,
   "id": "7fe3f355-8769-4a47-8eff-b89da98cf258",
   "metadata": {
    "tags": []
   },
   "outputs": [
    {
     "name": "stdout",
     "output_type": "stream",
     "text": [
      "(0, 1, 2)\n",
      "(0, 2, 1)\n",
      "(1, 0, 2)\n",
      "(1, 2, 0)\n",
      "(2, 0, 1)\n",
      "(2, 1, 0)\n"
     ]
    }
   ],
   "source": [
    "for p in permutations(range(N), N):\n",
    "    print(p)"
   ]
  },
  {
   "cell_type": "code",
   "execution_count": 59,
   "id": "012f17a9-58ac-4586-a184-7292380d290c",
   "metadata": {
    "tags": []
   },
   "outputs": [
    {
     "data": {
      "text/plain": [
       "6.443174758686338"
      ]
     },
     "execution_count": 59,
     "metadata": {},
     "output_type": "execute_result"
    }
   ],
   "source": [
    "solve([1, 0, 2], [1, 0, 1])"
   ]
  },
  {
   "cell_type": "code",
   "execution_count": 18,
   "id": "ca69b678-dec8-454e-94fb-ba219f146227",
   "metadata": {
    "tags": []
   },
   "outputs": [
    {
     "data": {
      "text/plain": [
       "1.4142135623730951"
      ]
     },
     "execution_count": 18,
     "metadata": {},
     "output_type": "execute_result"
    }
   ],
   "source": [
    "2**0.5"
   ]
  },
  {
   "cell_type": "code",
   "execution_count": 20,
   "id": "733ff24e-5671-4f52-9c23-4c4ea151ec6c",
   "metadata": {
    "tags": []
   },
   "outputs": [
    {
     "data": {
      "text/plain": [
       "6.0"
      ]
     },
     "execution_count": 20,
     "metadata": {},
     "output_type": "execute_result"
    }
   ],
   "source": [
    "4**0.5 * 3"
   ]
  },
  {
   "cell_type": "code",
   "execution_count": null,
   "id": "2d76ae31-bf11-4516-aac7-8781b09320ca",
   "metadata": {},
   "outputs": [],
   "source": []
  }
 ],
 "metadata": {
  "kernelspec": {
   "display_name": "Python 3 (ipykernel)",
   "language": "python",
   "name": "python3"
  },
  "language_info": {
   "codemirror_mode": {
    "name": "ipython",
    "version": 3
   },
   "file_extension": ".py",
   "mimetype": "text/x-python",
   "name": "python",
   "nbconvert_exporter": "python",
   "pygments_lexer": "ipython3",
   "version": "3.11.3"
  }
 },
 "nbformat": 4,
 "nbformat_minor": 5
}
