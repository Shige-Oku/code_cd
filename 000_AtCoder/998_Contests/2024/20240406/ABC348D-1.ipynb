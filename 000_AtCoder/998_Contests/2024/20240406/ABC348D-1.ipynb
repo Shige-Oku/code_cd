{
 "cells": [
  {
   "cell_type": "code",
   "execution_count": 1,
   "id": "c054bd9a-3253-491e-9169-0f8e228570a6",
   "metadata": {
    "tags": []
   },
   "outputs": [],
   "source": [
    "import sys\n",
    "import numpy as np\n",
    "import math\n",
    "import collections\n",
    "import copy\n",
    "import decimal\n",
    "import itertools\n",
    "import re\n",
    "import bisect\n",
    "import scipy\n",
    "import heapq\n",
    "from collections import deque \n",
    "from functools import reduce\n",
    "from itertools import product\n",
    "from itertools import combinations\n",
    "from functools import lru_cache\n",
    "from scipy.special import comb\n",
    "from numba import njit\n",
    "from bisect import bisect_right\n",
    "from bisect import bisect_left\n",
    "from atcoder.fenwicktree import FenwickTree"
   ]
  },
  {
   "cell_type": "code",
   "execution_count": 23,
   "id": "33b8f6d3-c613-43c9-b797-3d38b0d61f5e",
   "metadata": {
    "tags": []
   },
   "outputs": [
    {
     "name": "stdin",
     "output_type": "stream",
     "text": [
      " 4 4\n"
     ]
    }
   ],
   "source": [
    "H, W = map(int, input().split())"
   ]
  },
  {
   "cell_type": "code",
   "execution_count": 3,
   "id": "91dd178e-2bf0-46af-a9d4-89ff92cc2ca1",
   "metadata": {
    "tags": []
   },
   "outputs": [
    {
     "name": "stdin",
     "output_type": "stream",
     "text": [
      " S...\n",
      " #..#\n",
      " #...\n",
      " ..#T\n"
     ]
    }
   ],
   "source": [
    "Ahw = [input() for _ in range(H)]"
   ]
  },
  {
   "cell_type": "code",
   "execution_count": 6,
   "id": "e3959dd9-3e91-46ad-bef8-cb397268c781",
   "metadata": {
    "tags": []
   },
   "outputs": [
    {
     "name": "stdin",
     "output_type": "stream",
     "text": [
      " 4\n"
     ]
    }
   ],
   "source": [
    "N = int(input())"
   ]
  },
  {
   "cell_type": "code",
   "execution_count": 7,
   "id": "1bb56e12-4761-4819-b382-459c0698c4f4",
   "metadata": {
    "tags": []
   },
   "outputs": [
    {
     "name": "stdin",
     "output_type": "stream",
     "text": [
      " 1 1 3\n",
      " 1 3 5\n",
      " 3 2 1\n",
      " 2 3 1\n"
     ]
    }
   ],
   "source": [
    "RCEn = [list(map(int, input().split())) for _ in range(N)]"
   ]
  },
  {
   "cell_type": "code",
   "execution_count": null,
   "id": "dd6ee5c3-abcc-44a5-ba9c-6f4296d33df9",
   "metadata": {},
   "outputs": [],
   "source": [
    "# 解説を読んで実装"
   ]
  },
  {
   "cell_type": "code",
   "execution_count": 8,
   "id": "7260a3c7-ecbc-491f-89d7-33658fd7fb59",
   "metadata": {
    "tags": []
   },
   "outputs": [],
   "source": [
    "e = {}\n",
    "for R, C, E in RCEn:\n",
    "    e[(R, C)] = E"
   ]
  },
  {
   "cell_type": "code",
   "execution_count": 9,
   "id": "46cb1afc-f6a9-4de5-8f85-c427473b0ba3",
   "metadata": {
    "tags": []
   },
   "outputs": [],
   "source": [
    "def getStart():\n",
    "    for sh in range(H):\n",
    "        for sw in range(W):\n",
    "            if Ahw[sh][sw] == 'S':\n",
    "                return sh, sw\n",
    "    return sh, sw"
   ]
  },
  {
   "cell_type": "code",
   "execution_count": 10,
   "id": "fbe010d0-5514-4dbe-b9e7-1ad177622501",
   "metadata": {
    "tags": []
   },
   "outputs": [],
   "source": [
    "def getEne(h, w):\n",
    "    h += 1\n",
    "    w += 1\n",
    "    if (h, w) in e:\n",
    "        return e[(h, w)]\n",
    "    else:\n",
    "        return 0\n"
   ]
  },
  {
   "cell_type": "code",
   "execution_count": 106,
   "id": "153c29f2-eb72-4e65-a827-25654b6b6499",
   "metadata": {
    "tags": []
   },
   "outputs": [],
   "source": [
    "import heapq\n",
    "def solve():\n",
    "    q = []\n",
    "    visit = [[-1] * W for _ in range(H)]\n",
    "    sh, sw = getStart()\n",
    "    visit[sh][sw] = getEne(sh, sw)\n",
    "    if visit[sh][sw] == 0:\n",
    "        return False\n",
    "    heapq.heappush(q, (-visit[sh][sw] , sh, sw))\n",
    "    while q:\n",
    "        ee, h, w = heapq.heappop(q)\n",
    "        if Ahw[h][w] == 'T':\n",
    "            return True\n",
    "        \n",
    "        ee *= -1\n",
    "        if ee <= 0:\n",
    "            continue\n",
    "        if visit[h][w] > ee:\n",
    "            continue\n",
    "        # print(h, w, ee, visit[h][w])\n",
    "        for h1, w1 in ((-1, 0), (1, 0), (0, -1), (0, 1)):\n",
    "            nh = h + h1\n",
    "            nw = w + w1\n",
    "            # print(nh, nw)\n",
    "            if nh < 0 or nh >= H:\n",
    "                continue\n",
    "            if nw < 0 or nw >= W:\n",
    "                continue\n",
    "            if Ahw[nh][nw] == '#':\n",
    "                continue\n",
    "            ne = getEne(nh, nw)\n",
    "            ne = max(ne, ee-1)\n",
    "            if ne <= visit[nh][nw]:\n",
    "                continue\n",
    "            heapq.heappush(q, (-ne, nh, nw))\n",
    "            visit[nh][nw] = ne\n",
    "    return False"
   ]
  },
  {
   "cell_type": "code",
   "execution_count": 107,
   "id": "04c8fb48-99fd-44bc-9fcb-e3f4b15f57b8",
   "metadata": {
    "tags": []
   },
   "outputs": [
    {
     "name": "stdout",
     "output_type": "stream",
     "text": [
      "Yes\n"
     ]
    }
   ],
   "source": [
    "print('Yes' if solve() else 'No')"
   ]
  },
  {
   "cell_type": "code",
   "execution_count": null,
   "id": "4f37ccdf-e608-4edc-ac26-3023624e2a38",
   "metadata": {},
   "outputs": [],
   "source": [
    "# WA"
   ]
  },
  {
   "cell_type": "code",
   "execution_count": 19,
   "id": "9935298a-f4bc-4644-bf42-9bceea1572a4",
   "metadata": {
    "tags": []
   },
   "outputs": [],
   "source": [
    "def getPostion(s):\n",
    "    for rh in range(H):\n",
    "        for rw in range(W):\n",
    "            if Ahw[rh][rw] == s:\n",
    "                return rh, rw\n",
    "    return rh, rw"
   ]
  },
  {
   "cell_type": "code",
   "execution_count": 63,
   "id": "5d0ec983-6fdc-4f9b-9975-8cc4dacf45ee",
   "metadata": {
    "tags": []
   },
   "outputs": [],
   "source": [
    "from collections import deque\n",
    "def addGraph(r, c, e):\n",
    "    r -= 1\n",
    "    c -= 1\n",
    "    q = deque()\n",
    "    visit = [[False] * (W+1) for _ in range(H+1)]\n",
    "    dis = [[-1] * (W+1) for _ in range(H+1)]\n",
    "    q.append((r, c))\n",
    "    visit[r][c] = True\n",
    "    dis[r][c] = 0\n",
    "    while q:\n",
    "        h, w = q.popleft()\n",
    "        for ah, aw in ((-1, 0), (1, 0), (0, -1), (0, 1)):\n",
    "            nh = h + ah\n",
    "            nw = w + aw\n",
    "            if nh < 0 or nh >= H:\n",
    "                continue\n",
    "            if nw < 0 or nw >= W:\n",
    "                continue\n",
    "            if Ahw[nh][nw] == \"#\":\n",
    "                continue\n",
    "            if visit[nh][nw]:\n",
    "                continue\n",
    "            visit[nh][nw] = True\n",
    "            dis[nh][nw] = dis[h][w] + 1\n",
    "            q.append((nh, nw))\n",
    "    for R, C, E in RCEn:\n",
    "        R -= 1\n",
    "        C -= 1\n",
    "        if r == R and c == C:\n",
    "            continue\n",
    "        if dis[R][C] > e:\n",
    "            continue\n",
    "        graph[(r, c)].append((R, C))\n",
    "    if dis[th][tw] <= e:\n",
    "        graph[(r, c)].append((th, tw))\n",
    "    return"
   ]
  },
  {
   "cell_type": "code",
   "execution_count": 64,
   "id": "8223b933-8173-41eb-9222-6053d4e114da",
   "metadata": {
    "tags": []
   },
   "outputs": [],
   "source": [
    "from collections import deque\n",
    "def createGraph():\n",
    "    global graph\n",
    "    for R, C, E in RCEn:\n",
    "        addGraph(R, C, E)\n",
    "        \n",
    "    return "
   ]
  },
  {
   "cell_type": "code",
   "execution_count": 65,
   "id": "ee8222bd-89a8-4dec-99b7-407f86c1d60c",
   "metadata": {
    "tags": []
   },
   "outputs": [],
   "source": [
    "sh, sw = getPostion('S')\n",
    "th, tw = getPostion('T')"
   ]
  },
  {
   "cell_type": "code",
   "execution_count": 71,
   "id": "aa7db78f-ee6f-422f-ac8a-06647441c276",
   "metadata": {
    "tags": []
   },
   "outputs": [],
   "source": [
    "graph = {}\n",
    "for R, C, _ in RCEn:\n",
    "    R -= 1\n",
    "    C -= 1\n",
    "    graph[(R, C)] = []\n",
    "graph[(sh, sw)] = []\n",
    "graph[(th, tw)] = []\n",
    "createGraph()"
   ]
  },
  {
   "cell_type": "code",
   "execution_count": 72,
   "id": "c3531c6b-b774-4867-a087-a7f299e9b8be",
   "metadata": {
    "tags": []
   },
   "outputs": [],
   "source": [
    "from collections import deque\n",
    "q = deque()\n",
    "visit = [[False] * (W+1) for _ in range(H+1)]\n",
    "dis = [[-1] * (W+1) for _ in range(H+1)]\n",
    "q.append((sh, sw))\n",
    "visit[sh][sw] = True\n",
    "dis[sh][sw] = 0\n",
    "while q:\n",
    "    h, w = q.popleft()\n",
    "    for nh, nw in graph[(h, w)]:\n",
    "        if visit[nh][nw]:\n",
    "            continue\n",
    "        visit[nh][nw] = True\n",
    "        q.append((nh, nw))\n"
   ]
  },
  {
   "cell_type": "code",
   "execution_count": 73,
   "id": "684cd7e9-3d3b-40e5-b1f9-4d3c4ea99cf3",
   "metadata": {
    "tags": []
   },
   "outputs": [
    {
     "name": "stdout",
     "output_type": "stream",
     "text": [
      "Yes\n"
     ]
    }
   ],
   "source": [
    "print('Yes' if visit[th][tw] else 'No')"
   ]
  },
  {
   "cell_type": "code",
   "execution_count": 25,
   "id": "b06afab2-8f89-4470-8e0a-a4e214ca353c",
   "metadata": {
    "tags": []
   },
   "outputs": [
    {
     "data": {
      "text/plain": [
       "(0, 0, 3, 3)"
      ]
     },
     "execution_count": 25,
     "metadata": {},
     "output_type": "execute_result"
    }
   ],
   "source": [
    "sh, sw, th, tw"
   ]
  },
  {
   "cell_type": "code",
   "execution_count": 49,
   "id": "42d0638e-04fc-437f-b2aa-62e5c7df6157",
   "metadata": {
    "tags": []
   },
   "outputs": [],
   "source": [
    "addGraph(1, 1, 3)"
   ]
  },
  {
   "cell_type": "code",
   "execution_count": 62,
   "id": "b5dc447b-f931-42d0-b331-01882175a374",
   "metadata": {
    "tags": []
   },
   "outputs": [
    {
     "data": {
      "text/plain": [
       "{(0, 0): [(0, 2), (2, 1), (1, 2)],\n",
       " (0, 2): [(0, 0), (2, 1), (1, 2), (3, 3)],\n",
       " (1, 2): [(0, 2)]}"
      ]
     },
     "execution_count": 62,
     "metadata": {},
     "output_type": "execute_result"
    }
   ],
   "source": [
    "graph"
   ]
  },
  {
   "cell_type": "code",
   "execution_count": null,
   "id": "f7556723-63e7-40fe-a301-c4d51d9b5fe1",
   "metadata": {},
   "outputs": [],
   "source": [
    "# WA"
   ]
  },
  {
   "cell_type": "code",
   "execution_count": 87,
   "id": "ae36e892-fc2e-430b-a276-f94c941da3f6",
   "metadata": {
    "tags": []
   },
   "outputs": [],
   "source": [
    "import heapq\n",
    "def solve():\n",
    "    q = []\n",
    "    visit = [[False] * W for _ in range(H)]\n",
    "    sh, sw = getStart()\n",
    "    en = getEne(sh, sw)\n",
    "    heapq.heappush(q, (-en, sh, sw))\n",
    "    while q:\n",
    "        ee, h, w = heapq.heappop(q)\n",
    "        # print(h, w, ee, visit[h][w])\n",
    "        if Ahw[h][w] == 'T':\n",
    "            return True\n",
    "\n",
    "        if visit[h][w]:\n",
    "            continue\n",
    "        ee += 1\n",
    "        if ee > 0:\n",
    "            continue\n",
    "        visit[h][w] = True\n",
    "        # print(h, w, ee, visit[h][w])\n",
    "        for h1, w1 in ((-1, 0), (1, 0), (0, -1), (0, 1)):\n",
    "            nh = h + h1\n",
    "            nw = w + w1\n",
    "            # print(nh, nw)\n",
    "            if nh < 0 or nh >= H:\n",
    "                continue\n",
    "            if nw < 0 or nw >= W:\n",
    "                continue\n",
    "            if Ahw[nh][nw] == '#':\n",
    "                continue\n",
    "            ne = getEne(nh, nw)\n",
    "            heapq.heappush(q, (min(ee, -ne), nh, nw))\n",
    "    # print(visit)\n",
    "    return False"
   ]
  },
  {
   "cell_type": "code",
   "execution_count": 66,
   "id": "26c22792-f8ba-43ce-88e7-aec7de0c9619",
   "metadata": {
    "tags": []
   },
   "outputs": [
    {
     "data": {
      "text/plain": [
       "(1, 1)"
      ]
     },
     "execution_count": 66,
     "metadata": {},
     "output_type": "execute_result"
    }
   ],
   "source": [
    "getStart()"
   ]
  },
  {
   "cell_type": "code",
   "execution_count": 67,
   "id": "02c41cf8-48a7-4829-bdeb-1f72abbbda99",
   "metadata": {
    "tags": []
   },
   "outputs": [
    {
     "data": {
      "text/plain": [
       "1"
      ]
     },
     "execution_count": 67,
     "metadata": {},
     "output_type": "execute_result"
    }
   ],
   "source": [
    "getEne(1, 1)"
   ]
  },
  {
   "cell_type": "code",
   "execution_count": 12,
   "id": "097144df-764c-4518-9b56-efcc7346631a",
   "metadata": {
    "tags": []
   },
   "outputs": [],
   "source": [
    "from collections import deque\n",
    "def bfs():\n",
    "    q = deque\n",
    "    visit = [[False] * W for _ in range(H)]\n",
    "    sh, sw = getStart()\n",
    "    en = 0\n",
    "    q.append((sh, sw, en))\n",
    "    visit[sh][sw] = True\n",
    "    while q:\n",
    "        h, w, e = q.popleft()\n",
    "        en += e\n",
    "        e -= 1\n",
    "        if e < 0:\n",
    "            continue\n",
    "        for h1, w1 in ((-1, 0), (1, 0), (0, -1), (0, 1)):\n",
    "            nh = h + h1\n",
    "            nw = w + w1\n",
    "            if nh < 0 or nh >= H:\n",
    "                continue\n",
    "            if nw < 0 or nw >= W:\n",
    "                continue\n",
    "            if visit[nh][nw]:\n",
    "                continue\n",
    "            q.append((nh, nw, getEne(nh, nw)))\n",
    "            visit[nh][nw] = True\n",
    "    return False"
   ]
  },
  {
   "cell_type": "code",
   "execution_count": 14,
   "id": "c7f33582-24e2-443d-ac4c-a0245e7daa01",
   "metadata": {
    "tags": []
   },
   "outputs": [
    {
     "data": {
      "text/plain": [
       "(0, 0)"
      ]
     },
     "execution_count": 14,
     "metadata": {},
     "output_type": "execute_result"
    }
   ],
   "source": [
    "getStart()"
   ]
  },
  {
   "cell_type": "code",
   "execution_count": 19,
   "id": "8d264831-aeb9-459b-9004-fec689188e46",
   "metadata": {
    "tags": []
   },
   "outputs": [
    {
     "data": {
      "text/plain": [
       "3"
      ]
     },
     "execution_count": 19,
     "metadata": {},
     "output_type": "execute_result"
    }
   ],
   "source": [
    "getEne(0, 0)"
   ]
  },
  {
   "cell_type": "code",
   "execution_count": null,
   "id": "34cf8918-8fad-412a-b0e3-999f7fef1994",
   "metadata": {},
   "outputs": [],
   "source": []
  }
 ],
 "metadata": {
  "kernelspec": {
   "display_name": "Python 3 (ipykernel)",
   "language": "python",
   "name": "python3"
  },
  "language_info": {
   "codemirror_mode": {
    "name": "ipython",
    "version": 3
   },
   "file_extension": ".py",
   "mimetype": "text/x-python",
   "name": "python",
   "nbconvert_exporter": "python",
   "pygments_lexer": "ipython3",
   "version": "3.11.3"
  }
 },
 "nbformat": 4,
 "nbformat_minor": 5
}
