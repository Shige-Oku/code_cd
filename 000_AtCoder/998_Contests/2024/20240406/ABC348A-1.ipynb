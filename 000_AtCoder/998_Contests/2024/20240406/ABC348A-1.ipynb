{
 "cells": [
  {
   "cell_type": "code",
   "execution_count": 1,
   "id": "f4f1bcf8-0ece-4536-909d-512930995d07",
   "metadata": {
    "tags": []
   },
   "outputs": [],
   "source": [
    "import sys\n",
    "import numpy as np\n",
    "import math\n",
    "import collections\n",
    "import copy\n",
    "import decimal\n",
    "import itertools\n",
    "import re\n",
    "import bisect\n",
    "import scipy\n",
    "import heapq\n",
    "from collections import deque \n",
    "from functools import reduce\n",
    "from itertools import product\n",
    "from itertools import combinations\n",
    "from functools import lru_cache\n",
    "from scipy.special import comb\n",
    "from numba import njit\n",
    "from bisect import bisect_right\n",
    "from bisect import bisect_left\n",
    "from atcoder.fenwicktree import FenwickTree"
   ]
  },
  {
   "cell_type": "code",
   "execution_count": 15,
   "id": "81876fcd-ef37-4778-b762-0243f3ea5c24",
   "metadata": {
    "tags": []
   },
   "outputs": [
    {
     "name": "stdin",
     "output_type": "stream",
     "text": [
      " 9\n"
     ]
    }
   ],
   "source": [
    "N = int(input())"
   ]
  },
  {
   "cell_type": "code",
   "execution_count": 16,
   "id": "e8febca9-4cd5-4f25-8ff3-36616c9da2ff",
   "metadata": {
    "tags": []
   },
   "outputs": [],
   "source": [
    "ans = ''\n",
    "for i in range(1, N+1):\n",
    "    if i % 3 == 0:\n",
    "        ans += 'x'\n",
    "    else:\n",
    "        ans += 'o'"
   ]
  },
  {
   "cell_type": "code",
   "execution_count": 17,
   "id": "a1f8de24-5e43-43d9-bc40-a93f06b50d66",
   "metadata": {
    "tags": []
   },
   "outputs": [
    {
     "name": "stdout",
     "output_type": "stream",
     "text": [
      "ooxooxoox\n"
     ]
    }
   ],
   "source": [
    "print(ans)"
   ]
  },
  {
   "cell_type": "code",
   "execution_count": 18,
   "id": "a58ffea6-b8d9-41c8-971f-ad7d684a2084",
   "metadata": {},
   "outputs": [
    {
     "name": "stdout",
     "output_type": "stream",
     "text": [
      "ooxooxoox\n"
     ]
    }
   ],
   "source": [
    "print(('oox' * N)[:N])"
   ]
  },
  {
   "cell_type": "code",
   "execution_count": 24,
   "id": "7dc19bfa-69e6-42f6-b2bf-50eb805d9c05",
   "metadata": {
    "tags": []
   },
   "outputs": [
    {
     "name": "stdout",
     "output_type": "stream",
     "text": [
      "ooxooxoox\n"
     ]
    }
   ],
   "source": [
    "print(\"\".join(['x' if i % 3 == 0 else 'o' for i in range(1, N+1)]))"
   ]
  },
  {
   "cell_type": "code",
   "execution_count": 19,
   "id": "61e49785-a9db-4c69-bc0b-bb33d26c305a",
   "metadata": {
    "tags": []
   },
   "outputs": [
    {
     "data": {
      "text/plain": [
       "'ooxooxoox'"
      ]
     },
     "execution_count": 19,
     "metadata": {},
     "output_type": "execute_result"
    }
   ],
   "source": [
    "('oox' * N)[:N]"
   ]
  },
  {
   "cell_type": "code",
   "execution_count": 8,
   "id": "687d8663-4894-434d-b2bc-f8cda94f850d",
   "metadata": {
    "tags": []
   },
   "outputs": [
    {
     "data": {
      "text/plain": [
       "7"
      ]
     },
     "execution_count": 8,
     "metadata": {},
     "output_type": "execute_result"
    }
   ],
   "source": [
    "N"
   ]
  },
  {
   "cell_type": "code",
   "execution_count": 10,
   "id": "e12e5e9b-1b9a-41b6-96f1-0460f2ca2e9e",
   "metadata": {
    "tags": []
   },
   "outputs": [
    {
     "data": {
      "text/plain": [
       "'ooxooxooxooxooxooxoox'"
      ]
     },
     "execution_count": 10,
     "metadata": {},
     "output_type": "execute_result"
    }
   ],
   "source": [
    "ans"
   ]
  },
  {
   "cell_type": "code",
   "execution_count": null,
   "id": "ea2c8910-b16d-4b11-95a7-53612d85a600",
   "metadata": {},
   "outputs": [],
   "source": []
  }
 ],
 "metadata": {
  "kernelspec": {
   "display_name": "Python 3 (ipykernel)",
   "language": "python",
   "name": "python3"
  },
  "language_info": {
   "codemirror_mode": {
    "name": "ipython",
    "version": 3
   },
   "file_extension": ".py",
   "mimetype": "text/x-python",
   "name": "python",
   "nbconvert_exporter": "python",
   "pygments_lexer": "ipython3",
   "version": "3.11.3"
  }
 },
 "nbformat": 4,
 "nbformat_minor": 5
}
