{
 "cells": [
  {
   "cell_type": "code",
   "execution_count": 1,
   "id": "30858aea-e5ed-4d20-9c76-76c6da181fea",
   "metadata": {
    "tags": []
   },
   "outputs": [],
   "source": [
    "import sys\n",
    "import numpy as np\n",
    "import math\n",
    "import collections\n",
    "import copy\n",
    "import decimal\n",
    "import itertools\n",
    "import re\n",
    "import bisect\n",
    "import scipy\n",
    "import heapq\n",
    "from collections import deque \n",
    "from functools import reduce\n",
    "from itertools import product\n",
    "from itertools import combinations\n",
    "from functools import lru_cache\n",
    "from scipy.special import comb\n",
    "from numba import njit\n",
    "from bisect import bisect_right\n",
    "from bisect import bisect_left\n",
    "from atcoder.fenwicktree import FenwickTree"
   ]
  },
  {
   "cell_type": "code",
   "execution_count": 2,
   "id": "7528ee3f-ea6f-4f32-b9c2-1f50f29c1397",
   "metadata": {
    "tags": []
   },
   "outputs": [
    {
     "name": "stdin",
     "output_type": "stream",
     "text": [
      " 4\n"
     ]
    }
   ],
   "source": [
    "N = int(input())"
   ]
  },
  {
   "cell_type": "code",
   "execution_count": 3,
   "id": "100a10e9-bf21-47ea-8cbe-cdbf032caa9f",
   "metadata": {
    "tags": []
   },
   "outputs": [
    {
     "name": "stdin",
     "output_type": "stream",
     "text": [
      " 100 1\n",
      " 20 5\n",
      " 30 5\n",
      " 40 1\n"
     ]
    }
   ],
   "source": [
    "XCn = [list(map(int, input().split())) for _ in range(N)]"
   ]
  },
  {
   "cell_type": "code",
   "execution_count": 5,
   "id": "ccb11331-7178-41bf-92a6-1ecf0fdf16d8",
   "metadata": {
    "tags": []
   },
   "outputs": [],
   "source": [
    "mi = {}\n",
    "for X, C in XCn:\n",
    "    if C in mi:\n",
    "        if X < mi[C]:\n",
    "            mi[C] = X\n",
    "    else:\n",
    "        mi[C] = X"
   ]
  },
  {
   "cell_type": "code",
   "execution_count": 10,
   "id": "b2b51c6a-0a6b-4325-9e44-368c53d6364c",
   "metadata": {
    "tags": []
   },
   "outputs": [],
   "source": [
    "ans = 0\n",
    "for k, v in mi.items():\n",
    "    ans = max(ans, v)"
   ]
  },
  {
   "cell_type": "code",
   "execution_count": 11,
   "id": "3cf14429-6d2c-4af5-90d4-5dce8b66f69f",
   "metadata": {
    "tags": []
   },
   "outputs": [
    {
     "name": "stdout",
     "output_type": "stream",
     "text": [
      "40\n"
     ]
    }
   ],
   "source": [
    "print(ans)"
   ]
  },
  {
   "cell_type": "code",
   "execution_count": 9,
   "id": "a543d75b-6518-4de0-8059-130c0cdff2d0",
   "metadata": {
    "tags": []
   },
   "outputs": [
    {
     "data": {
      "text/plain": [
       "{1: 40, 5: 20}"
      ]
     },
     "execution_count": 9,
     "metadata": {},
     "output_type": "execute_result"
    }
   ],
   "source": [
    "mi"
   ]
  },
  {
   "cell_type": "code",
   "execution_count": null,
   "id": "0bb691f8-c69b-4c3c-a16e-5323f3dede7f",
   "metadata": {},
   "outputs": [],
   "source": []
  }
 ],
 "metadata": {
  "kernelspec": {
   "display_name": "Python 3 (ipykernel)",
   "language": "python",
   "name": "python3"
  },
  "language_info": {
   "codemirror_mode": {
    "name": "ipython",
    "version": 3
   },
   "file_extension": ".py",
   "mimetype": "text/x-python",
   "name": "python",
   "nbconvert_exporter": "python",
   "pygments_lexer": "ipython3",
   "version": "3.11.3"
  }
 },
 "nbformat": 4,
 "nbformat_minor": 5
}
