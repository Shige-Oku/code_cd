{
 "cells": [
  {
   "cell_type": "code",
   "execution_count": 1,
   "id": "c98afa38-f08b-4936-b6a6-f3f58ef77bb7",
   "metadata": {
    "tags": []
   },
   "outputs": [],
   "source": [
    "import sys\n",
    "import numpy as np\n",
    "import math\n",
    "import collections\n",
    "import copy\n",
    "import decimal\n",
    "import itertools\n",
    "import re\n",
    "import bisect\n",
    "import scipy\n",
    "import heapq\n",
    "from collections import deque \n",
    "from functools import reduce\n",
    "from itertools import product\n",
    "from itertools import combinations\n",
    "from functools import lru_cache\n",
    "from scipy.special import comb\n",
    "from numba import njit\n",
    "from bisect import bisect_right\n",
    "from bisect import bisect_left\n",
    "from atcoder.fenwicktree import FenwickTree\n",
    "from sortedcontainers import SortedList"
   ]
  },
  {
   "cell_type": "code",
   "execution_count": 2,
   "id": "2c420332-e8f6-4485-9a60-b29256fe148e",
   "metadata": {
    "tags": []
   },
   "outputs": [
    {
     "name": "stdin",
     "output_type": "stream",
     "text": [
      " 3 2 2\n"
     ]
    }
   ],
   "source": [
    "N, M, K = map(int, input().split())"
   ]
  },
  {
   "cell_type": "code",
   "execution_count": 4,
   "id": "66fdc96d-74af-426f-84b5-23cb63cce7fb",
   "metadata": {
    "tags": []
   },
   "outputs": [
    {
     "name": "stdin",
     "output_type": "stream",
     "text": [
      " 3 1 2 3 o\n",
      " 2 2 3 x\n"
     ]
    }
   ],
   "source": [
    "CARm = [list(input().split()) for _ in range(M)]"
   ]
  },
  {
   "cell_type": "code",
   "execution_count": 20,
   "id": "5206f421-9662-44b0-ab20-d3563fc144d6",
   "metadata": {
    "tags": []
   },
   "outputs": [],
   "source": [
    "def getCount(p, k):\n",
    "    ret = 0\n",
    "    for kk in k:\n",
    "        if p[kk-1] == 1:\n",
    "            ret += 1\n",
    "    return ret"
   ]
  },
  {
   "cell_type": "code",
   "execution_count": 21,
   "id": "4148db97-7e93-4ecf-85ba-829975ee0db7",
   "metadata": {
    "tags": []
   },
   "outputs": [],
   "source": [
    "from itertools import product\n",
    "ans = 0\n",
    "for p in product([0, 1], repeat=N):\n",
    "    mat = [1] * N\n",
    "    for CAR in CARm:\n",
    "        c = int(CAR[0])\n",
    "        k = list(map(int, CAR[1:-1]))\n",
    "        r = CAR[-1]\n",
    "        cnt = getCount(p, k)\n",
    "        if r == 'o':\n",
    "            if cnt < K:\n",
    "                break\n",
    "        else:\n",
    "            if cnt >= K:\n",
    "                break\n",
    "    else:\n",
    "        ans += 1\n"
   ]
  },
  {
   "cell_type": "code",
   "execution_count": 22,
   "id": "ff37d34b-9779-45ce-877a-b318b7e7a906",
   "metadata": {
    "tags": []
   },
   "outputs": [
    {
     "name": "stdout",
     "output_type": "stream",
     "text": [
      "2\n"
     ]
    }
   ],
   "source": [
    "print(ans)"
   ]
  },
  {
   "cell_type": "code",
   "execution_count": null,
   "id": "0d2ba4af-0953-4f87-b595-15240af2ff34",
   "metadata": {},
   "outputs": [],
   "source": []
  },
  {
   "cell_type": "code",
   "execution_count": null,
   "id": "18beeb30-e924-4e2f-82e2-0ea5179fe735",
   "metadata": {},
   "outputs": [],
   "source": [
    "ng = set()\n",
    "for car in CARm:\n",
    "    c = int(CAR[0])\n",
    "    k = list(map(int, CAR[1:-1]))\n",
    "    r = CAR[-1]\n",
    "    "
   ]
  }
 ],
 "metadata": {
  "kernelspec": {
   "display_name": "Python 3 (ipykernel)",
   "language": "python",
   "name": "python3"
  },
  "language_info": {
   "codemirror_mode": {
    "name": "ipython",
    "version": 3
   },
   "file_extension": ".py",
   "mimetype": "text/x-python",
   "name": "python",
   "nbconvert_exporter": "python",
   "pygments_lexer": "ipython3",
   "version": "3.11.3"
  }
 },
 "nbformat": 4,
 "nbformat_minor": 5
}
