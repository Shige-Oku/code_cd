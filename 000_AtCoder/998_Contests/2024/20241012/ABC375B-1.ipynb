{
 "cells": [
  {
   "cell_type": "code",
   "execution_count": 1,
   "id": "25299506-623e-40ed-97ab-e0228bab7b19",
   "metadata": {
    "tags": []
   },
   "outputs": [],
   "source": [
    "import sys\n",
    "import numpy as np\n",
    "import math\n",
    "import collections\n",
    "import copy\n",
    "import decimal\n",
    "import itertools\n",
    "import re\n",
    "import bisect\n",
    "import scipy\n",
    "import heapq\n",
    "from collections import deque \n",
    "from functools import reduce\n",
    "from itertools import product\n",
    "from itertools import combinations\n",
    "from functools import lru_cache\n",
    "from scipy.special import comb\n",
    "from numba import njit\n",
    "from bisect import bisect_right\n",
    "from bisect import bisect_left\n",
    "from atcoder.fenwicktree import FenwickTree\n",
    "from sortedcontainers import SortedSet, SortedList, SortedDict"
   ]
  },
  {
   "cell_type": "code",
   "execution_count": 17,
   "id": "7a0fe605-87f8-4038-a537-50c0cf7f6f68",
   "metadata": {
    "tags": []
   },
   "outputs": [
    {
     "name": "stdin",
     "output_type": "stream",
     "text": [
      " 7\n"
     ]
    }
   ],
   "source": [
    "N = int(input())"
   ]
  },
  {
   "cell_type": "code",
   "execution_count": 22,
   "id": "580355e9-3aaa-457c-b093-23b075672d3b",
   "metadata": {
    "tags": []
   },
   "outputs": [
    {
     "name": "stdin",
     "output_type": "stream",
     "text": [
      " -14142 13562\n",
      " -17320 50807\n",
      " -22360 67977\n",
      " 24494 89742\n",
      " -26457 51311\n",
      " 28284 27124\n",
      " 31622 77660\n"
     ]
    }
   ],
   "source": [
    "XYn = [list(map(int, input().split())) for _ in range(N)]"
   ]
  },
  {
   "cell_type": "code",
   "execution_count": 23,
   "id": "8da4f75f-eccc-4fb9-90ba-be2c2e288c66",
   "metadata": {
    "tags": []
   },
   "outputs": [],
   "source": [
    "dist = 0\n",
    "ans = 0\n",
    "cur = [0, 0]\n",
    "for X, Y in XYn:\n",
    "    dist = (cur[0]-X)**2 + (cur[1]-Y)**2\n",
    "    ans += dist**0.5\n",
    "    cur[0], cur[1] = X, Y\n",
    "else:\n",
    "    dist = (0-X)**2 + (0-Y)**2\n",
    "    ans += dist**0.5\n",
    "    "
   ]
  },
  {
   "cell_type": "code",
   "execution_count": 24,
   "id": "905c1f00-3b97-426f-9c33-d36db42b9ec6",
   "metadata": {
    "tags": []
   },
   "outputs": [
    {
     "name": "stdout",
     "output_type": "stream",
     "text": [
      "384694.57587932074\n"
     ]
    }
   ],
   "source": [
    "print(ans)"
   ]
  },
  {
   "cell_type": "code",
   "execution_count": 7,
   "id": "852a35da-1071-43e3-b814-905d8de982b9",
   "metadata": {
    "tags": []
   },
   "outputs": [
    {
     "data": {
      "text/plain": [
       "8"
      ]
     },
     "execution_count": 7,
     "metadata": {},
     "output_type": "execute_result"
    }
   ],
   "source": [
    "dist"
   ]
  },
  {
   "cell_type": "code",
   "execution_count": 25,
   "id": "5b1279fa-3c38-42d4-9b93-4fa6a202c715",
   "metadata": {
    "tags": []
   },
   "outputs": [],
   "source": [
    "import math\n",
    "ans = 0\n",
    "cur = [0, 0]\n",
    "for X, Y in XYn:\n",
    "    ans += math.hypot(cur[0]-X, cur[1]-Y)\n",
    "    cur[0], cur[1] = X, Y\n",
    "else:\n",
    "    ans += math.hypot(X, Y)\n",
    "    "
   ]
  },
  {
   "cell_type": "code",
   "execution_count": 26,
   "id": "e4603fbc-d547-4366-9fbe-8f96f9d7e801",
   "metadata": {
    "tags": []
   },
   "outputs": [
    {
     "name": "stdout",
     "output_type": "stream",
     "text": [
      "384694.57587932074\n"
     ]
    }
   ],
   "source": [
    "print(ans)"
   ]
  },
  {
   "cell_type": "code",
   "execution_count": null,
   "id": "8d163ee2-b16f-4ae8-98b9-7d53c59f0743",
   "metadata": {},
   "outputs": [],
   "source": []
  }
 ],
 "metadata": {
  "kernelspec": {
   "display_name": "Python 3 (ipykernel)",
   "language": "python",
   "name": "python3"
  },
  "language_info": {
   "codemirror_mode": {
    "name": "ipython",
    "version": 3
   },
   "file_extension": ".py",
   "mimetype": "text/x-python",
   "name": "python",
   "nbconvert_exporter": "python",
   "pygments_lexer": "ipython3",
   "version": "3.11.3"
  }
 },
 "nbformat": 4,
 "nbformat_minor": 5
}
