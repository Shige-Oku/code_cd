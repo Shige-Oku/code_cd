{
 "cells": [
  {
   "cell_type": "code",
   "execution_count": 1,
   "id": "86dae454-2ee5-4a4f-a0e6-091119578b79",
   "metadata": {
    "tags": []
   },
   "outputs": [],
   "source": [
    "import sys\n",
    "import numpy as np\n",
    "import math\n",
    "import collections\n",
    "import copy\n",
    "import decimal\n",
    "import itertools\n",
    "import re\n",
    "import bisect\n",
    "import scipy\n",
    "import heapq\n",
    "from collections import deque \n",
    "from functools import reduce\n",
    "from itertools import product\n",
    "from itertools import combinations\n",
    "from functools import lru_cache\n",
    "from scipy.special import comb\n",
    "from numba import njit\n",
    "from bisect import bisect_right\n",
    "from bisect import bisect_left\n",
    "from atcoder.fenwicktree import FenwickTree\n",
    "from sortedcontainers import SortedSet, SortedList, SortedDict"
   ]
  },
  {
   "cell_type": "code",
   "execution_count": 80,
   "id": "fe918997-d830-4e0e-b60d-95fe3d3dedd2",
   "metadata": {
    "tags": []
   },
   "outputs": [
    {
     "name": "stdin",
     "output_type": "stream",
     "text": [
      " XYYXYYXYXXX\n"
     ]
    }
   ],
   "source": [
    "S = input()"
   ]
  },
  {
   "cell_type": "code",
   "execution_count": 81,
   "id": "72c47764-9f9e-4d3c-8606-d18352eee999",
   "metadata": {
    "tags": []
   },
   "outputs": [],
   "source": [
    "cnt = [[0] * 26 for _ in range(len(S))]"
   ]
  },
  {
   "cell_type": "code",
   "execution_count": 82,
   "id": "9dc334fa-dbcc-4a3f-af01-b3425262cbca",
   "metadata": {
    "tags": []
   },
   "outputs": [],
   "source": [
    "for i, s in enumerate(S):\n",
    "    for j in range(26):\n",
    "        cnt[i][j] = cnt[i-1][j]\n",
    "        if ord(s) - ord('A') == j:\n",
    "            cnt[i][j] += 1"
   ]
  },
  {
   "cell_type": "code",
   "execution_count": 83,
   "id": "d9764d39-586e-4c52-a55f-cbca44796965",
   "metadata": {
    "tags": []
   },
   "outputs": [],
   "source": [
    "ans = 0\n",
    "for i, s in enumerate(S[1:], 1):\n",
    "    for j in range(26):\n",
    "        if cnt[i-1][j] == 0:\n",
    "            continue\n",
    "        if ord(s) - ord('A') == j:\n",
    "            ans += cnt[i-1][j] * (cnt[-1][j] - cnt[i-1][j] - 1)\n",
    "        else:\n",
    "            ans += cnt[i-1][j] * (cnt[-1][j] - cnt[i-1][j])\n",
    "    # print(i, s, ans)"
   ]
  },
  {
   "cell_type": "code",
   "execution_count": 84,
   "id": "4d6ed8c5-6c45-48e0-b38e-9d25d6e9b918",
   "metadata": {
    "tags": []
   },
   "outputs": [
    {
     "name": "stdout",
     "output_type": "stream",
     "text": [
      "75\n"
     ]
    }
   ],
   "source": [
    "print(ans)"
   ]
  },
  {
   "cell_type": "code",
   "execution_count": 85,
   "id": "549125e9-ce7e-4613-b79e-3b89da5b6ceb",
   "metadata": {
    "tags": []
   },
   "outputs": [],
   "source": [
    "# cnt"
   ]
  },
  {
   "cell_type": "code",
   "execution_count": 86,
   "id": "8938101a-b989-4ccc-8a24-889bf771f18c",
   "metadata": {
    "tags": []
   },
   "outputs": [
    {
     "data": {
      "text/plain": [
       "97"
      ]
     },
     "execution_count": 86,
     "metadata": {},
     "output_type": "execute_result"
    }
   ],
   "source": [
    "ord('a')"
   ]
  },
  {
   "cell_type": "code",
   "execution_count": 87,
   "id": "93ca8272-ab98-45c3-9f46-e49994a02b48",
   "metadata": {
    "tags": []
   },
   "outputs": [
    {
     "data": {
      "text/plain": [
       "(10, 25)"
      ]
     },
     "execution_count": 87,
     "metadata": {},
     "output_type": "execute_result"
    }
   ],
   "source": [
    "i, j"
   ]
  },
  {
   "cell_type": "code",
   "execution_count": 88,
   "id": "72bea522-7b27-4b92-a753-52e2b0c48d26",
   "metadata": {
    "tags": []
   },
   "outputs": [],
   "source": [
    "ans = 0\n",
    "for i, s in enumerate(S[1:], 1):\n",
    "    for j in range(26):\n",
    "        if cnt[i-1][j] == 0:\n",
    "            continue\n",
    "        ans += cnt[i-1][j] * (cnt[-1][j] - cnt[i][j])\n",
    "    # print(i, s, ans)"
   ]
  },
  {
   "cell_type": "code",
   "execution_count": 89,
   "id": "8313e7ee-f454-488a-9fc4-597a210a79a8",
   "metadata": {
    "tags": []
   },
   "outputs": [
    {
     "name": "stdout",
     "output_type": "stream",
     "text": [
      "75\n"
     ]
    }
   ],
   "source": [
    "print(ans)"
   ]
  },
  {
   "cell_type": "code",
   "execution_count": null,
   "id": "05682bfc-c558-44c3-b9d2-a1b868a349fd",
   "metadata": {},
   "outputs": [],
   "source": []
  }
 ],
 "metadata": {
  "kernelspec": {
   "display_name": "Python 3 (ipykernel)",
   "language": "python",
   "name": "python3"
  },
  "language_info": {
   "codemirror_mode": {
    "name": "ipython",
    "version": 3
   },
   "file_extension": ".py",
   "mimetype": "text/x-python",
   "name": "python",
   "nbconvert_exporter": "python",
   "pygments_lexer": "ipython3",
   "version": "3.11.3"
  }
 },
 "nbformat": 4,
 "nbformat_minor": 5
}
