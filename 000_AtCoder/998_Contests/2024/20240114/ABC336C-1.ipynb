{
 "cells": [
  {
   "cell_type": "code",
   "execution_count": 1,
   "id": "79c62e69-e492-418f-a585-5b26d5d7f749",
   "metadata": {
    "tags": []
   },
   "outputs": [],
   "source": [
    "import sys\n",
    "import numpy as np\n",
    "import math\n",
    "import collections\n",
    "import copy\n",
    "import decimal\n",
    "import itertools\n",
    "import re\n",
    "import bisect\n",
    "import scipy\n",
    "import heapq\n",
    "from collections import deque \n",
    "from functools import reduce\n",
    "from itertools import product\n",
    "from itertools import combinations\n",
    "from functools import lru_cache\n",
    "from scipy.special import comb\n",
    "from numba import njit\n",
    "from bisect import bisect_right\n",
    "from bisect import bisect_left"
   ]
  },
  {
   "cell_type": "code",
   "execution_count": 62,
   "id": "765db16a-1710-4c9b-bce5-5cf7194ca0d6",
   "metadata": {
    "tags": []
   },
   "outputs": [
    {
     "name": "stdin",
     "output_type": "stream",
     "text": [
      " 31415926535\n"
     ]
    }
   ],
   "source": [
    "N = int(input())"
   ]
  },
  {
   "cell_type": "code",
   "execution_count": 63,
   "id": "9068403b-a9a7-4082-b025-590be01dd3c3",
   "metadata": {
    "tags": []
   },
   "outputs": [],
   "source": [
    "ar = [0, 2, 4, 6, 8]\n",
    "n = N-1\n",
    "w = 5\n",
    "ans = []\n",
    "q, r = divmod(n, w)\n",
    "ans.append(r)\n",
    "n = q\n",
    "while n >= 5:\n",
    "    q, r = divmod(n, w)\n",
    "    ans.append(r)\n",
    "    n = q\n",
    "else:\n",
    "    if q > 0:\n",
    "        ans.append(q)"
   ]
  },
  {
   "cell_type": "code",
   "execution_count": 64,
   "id": "d77b9ba8-238d-4d24-a04f-2bdaf15c4c17",
   "metadata": {
    "tags": []
   },
   "outputs": [
    {
     "name": "stdout",
     "output_type": "stream",
     "text": [
      "2006628868244228"
     ]
    }
   ],
   "source": [
    "for ai in ans[::-1]:\n",
    "    print(ar[ai], end='')"
   ]
  },
  {
   "cell_type": "code",
   "execution_count": 50,
   "id": "e450f2c0-fc3e-491f-ad17-b742ec875266",
   "metadata": {
    "tags": []
   },
   "outputs": [
    {
     "data": {
      "text/plain": [
       "[3, 0]"
      ]
     },
     "execution_count": 50,
     "metadata": {},
     "output_type": "execute_result"
    }
   ],
   "source": [
    "ans"
   ]
  },
  {
   "cell_type": "code",
   "execution_count": 37,
   "id": "0ee0f845-0397-4667-8fff-1e01233dd80e",
   "metadata": {
    "tags": []
   },
   "outputs": [
    {
     "data": {
      "text/plain": [
       "1000000000000"
      ]
     },
     "execution_count": 37,
     "metadata": {},
     "output_type": "execute_result"
    }
   ],
   "source": [
    "10**12"
   ]
  },
  {
   "cell_type": "code",
   "execution_count": null,
   "id": "9af6dfbe-d2d1-4e70-af4c-1556ded1d337",
   "metadata": {},
   "outputs": [],
   "source": []
  }
 ],
 "metadata": {
  "kernelspec": {
   "display_name": "Python 3 (ipykernel)",
   "language": "python",
   "name": "python3"
  },
  "language_info": {
   "codemirror_mode": {
    "name": "ipython",
    "version": 3
   },
   "file_extension": ".py",
   "mimetype": "text/x-python",
   "name": "python",
   "nbconvert_exporter": "python",
   "pygments_lexer": "ipython3",
   "version": "3.11.3"
  }
 },
 "nbformat": 4,
 "nbformat_minor": 5
}
