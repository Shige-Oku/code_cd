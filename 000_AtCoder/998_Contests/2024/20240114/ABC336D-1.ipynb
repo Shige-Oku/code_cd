{
 "cells": [
  {
   "cell_type": "code",
   "execution_count": 1,
   "id": "719ed646-2fd1-4d07-9cb7-792d0a2b8db4",
   "metadata": {
    "tags": []
   },
   "outputs": [],
   "source": [
    "import sys\n",
    "import numpy as np\n",
    "import math\n",
    "import collections\n",
    "import copy\n",
    "import decimal\n",
    "import itertools\n",
    "import re\n",
    "import bisect\n",
    "import scipy\n",
    "import heapq\n",
    "from collections import deque \n",
    "from functools import reduce\n",
    "from itertools import product\n",
    "from itertools import combinations\n",
    "from functools import lru_cache\n",
    "from scipy.special import comb\n",
    "from numba import njit\n",
    "from bisect import bisect_right\n",
    "from bisect import bisect_left"
   ]
  },
  {
   "cell_type": "code",
   "execution_count": 77,
   "id": "76a8d17b-1a4b-43bb-9644-e565ebe74b1e",
   "metadata": {
    "tags": []
   },
   "outputs": [
    {
     "name": "stdin",
     "output_type": "stream",
     "text": [
      " 5\n"
     ]
    }
   ],
   "source": [
    "N = int(input())"
   ]
  },
  {
   "cell_type": "code",
   "execution_count": 111,
   "id": "280c882d-f373-4142-aa3d-c8098dc32ec4",
   "metadata": {
    "tags": []
   },
   "outputs": [
    {
     "name": "stdin",
     "output_type": "stream",
     "text": [
      " 1 3 3 1 1\n"
     ]
    }
   ],
   "source": [
    "An = list(map(int, input().split()))"
   ]
  },
  {
   "cell_type": "code",
   "execution_count": 112,
   "id": "135e8f0d-96c6-44e3-bb21-0ce53b32e717",
   "metadata": {
    "tags": []
   },
   "outputs": [],
   "source": [
    "k = (N+1)//2\n",
    "An_2 = []\n",
    "for A in An:\n",
    "    An_2.append(min(A, k))"
   ]
  },
  {
   "cell_type": "code",
   "execution_count": 113,
   "id": "0c63534f-b1d9-4a06-9b5f-09e324595665",
   "metadata": {
    "tags": []
   },
   "outputs": [],
   "source": [
    "cnt = [1, ]\n",
    "c = 1\n",
    "for i, A in enumerate(An_2[1:], 1):\n",
    "    if A >= An[i-1]:\n",
    "        c += 1\n",
    "        cnt.append(c)\n",
    "    else:\n",
    "        c = 1\n",
    "        cnt.append(c)\n",
    "cnt_r = [1, ]\n",
    "c = 1\n",
    "An_r = An_2[::-1]\n",
    "for i, A in enumerate(An_r[1:], 1):\n",
    "    if A >= An_r[i-1]:\n",
    "        c += 1\n",
    "        cnt_r.append(c)\n",
    "    else:\n",
    "        c = 1\n",
    "        cnt_r.append(c)\n",
    "cnt_r2 = cnt_r[::-1]"
   ]
  },
  {
   "cell_type": "code",
   "execution_count": 118,
   "id": "92ba0995-2272-4e07-8a05-1b0896e29f0a",
   "metadata": {
    "tags": []
   },
   "outputs": [
    {
     "name": "stdout",
     "output_type": "stream",
     "text": [
      "1\n",
      "3\n",
      "3\n",
      "3\n"
     ]
    }
   ],
   "source": [
    "ans = 0\n",
    "for i in range(1, N):\n",
    "    ans = max(ans, min(cnt[i], cnt_r2[i-1]))\n",
    "    print(ans)"
   ]
  },
  {
   "cell_type": "code",
   "execution_count": 115,
   "id": "1a0e63ff-2ca0-4c3c-b255-36fdb63de90a",
   "metadata": {
    "tags": []
   },
   "outputs": [
    {
     "name": "stdout",
     "output_type": "stream",
     "text": [
      "3\n"
     ]
    }
   ],
   "source": [
    "print(max(1, ans))"
   ]
  },
  {
   "cell_type": "code",
   "execution_count": 116,
   "id": "efdce3db-9f96-46ce-849a-12704fbbfc99",
   "metadata": {
    "tags": []
   },
   "outputs": [
    {
     "data": {
      "text/plain": [
       "([1, 3, 3, 1, 1], [1, 1, 3, 3, 1], [1, 2, 3, 1, 2])"
      ]
     },
     "execution_count": 116,
     "metadata": {},
     "output_type": "execute_result"
    }
   ],
   "source": [
    "An_2, An_r, An_r2"
   ]
  },
  {
   "cell_type": "code",
   "execution_count": 117,
   "id": "ee55e5ce-aab8-492d-a7cc-323d6820a01e",
   "metadata": {
    "tags": []
   },
   "outputs": [
    {
     "data": {
      "text/plain": [
       "([1, 2, 3, 1, 2], [1, 2, 3, 4, 1], [1, 4, 3, 2, 1])"
      ]
     },
     "execution_count": 117,
     "metadata": {},
     "output_type": "execute_result"
    }
   ],
   "source": [
    "cnt, cnt_r, cnt_r2"
   ]
  },
  {
   "cell_type": "code",
   "execution_count": null,
   "id": "1b2f6147-13c9-4f8d-9d38-31165dbb7e4a",
   "metadata": {},
   "outputs": [],
   "source": []
  }
 ],
 "metadata": {
  "kernelspec": {
   "display_name": "Python 3 (ipykernel)",
   "language": "python",
   "name": "python3"
  },
  "language_info": {
   "codemirror_mode": {
    "name": "ipython",
    "version": 3
   },
   "file_extension": ".py",
   "mimetype": "text/x-python",
   "name": "python",
   "nbconvert_exporter": "python",
   "pygments_lexer": "ipython3",
   "version": "3.11.3"
  }
 },
 "nbformat": 4,
 "nbformat_minor": 5
}
