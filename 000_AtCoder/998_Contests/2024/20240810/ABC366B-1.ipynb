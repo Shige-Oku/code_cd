{
 "cells": [
  {
   "cell_type": "code",
   "execution_count": 1,
   "id": "945d5bb4-660b-4dc7-8fb9-94819fcbfce6",
   "metadata": {
    "tags": []
   },
   "outputs": [],
   "source": [
    "import sys\n",
    "import numpy as np\n",
    "import math\n",
    "import collections\n",
    "import copy\n",
    "import decimal\n",
    "import itertools\n",
    "import re\n",
    "import bisect\n",
    "import scipy\n",
    "import heapq\n",
    "from collections import deque \n",
    "from functools import reduce\n",
    "from itertools import product\n",
    "from itertools import combinations\n",
    "from functools import lru_cache\n",
    "from scipy.special import comb\n",
    "from numba import njit\n",
    "from bisect import bisect_right\n",
    "from bisect import bisect_left\n",
    "from atcoder.fenwicktree import FenwickTree\n",
    "from sortedcontainers import SortedList"
   ]
  },
  {
   "cell_type": "code",
   "execution_count": 1,
   "id": "f521bda5-dc2b-466a-9525-f9aa675a40d0",
   "metadata": {
    "tags": []
   },
   "outputs": [
    {
     "name": "stdin",
     "output_type": "stream",
     "text": [
      " 3\n"
     ]
    }
   ],
   "source": [
    "N = int(input())"
   ]
  },
  {
   "cell_type": "code",
   "execution_count": 2,
   "id": "67a54288-d677-4300-a875-ae3fd6a8dd8a",
   "metadata": {
    "tags": []
   },
   "outputs": [
    {
     "name": "stdin",
     "output_type": "stream",
     "text": [
      " abc\n",
      " de\n",
      " fghi\n"
     ]
    }
   ],
   "source": [
    "Sn = [input() for _ in range(N)]"
   ]
  },
  {
   "cell_type": "code",
   "execution_count": 3,
   "id": "28bf4124-6da6-420f-8fc2-6a6354468b5d",
   "metadata": {
    "tags": []
   },
   "outputs": [],
   "source": [
    "ma = 0\n",
    "for S in Sn:\n",
    "    ma = max(ma, len(S))"
   ]
  },
  {
   "cell_type": "code",
   "execution_count": 4,
   "id": "04555f4a-5949-43d0-a801-039fb978e669",
   "metadata": {
    "tags": []
   },
   "outputs": [],
   "source": [
    "ans = [[] for _ in  range(ma)]\n",
    "for S in Sn[::-1]:\n",
    "    # print(S)\n",
    "    l = 0\n",
    "    for s in S:\n",
    "        ans[l].append(s)\n",
    "        l += 1\n",
    "    while l < ma:\n",
    "        ans[l].append('*')\n",
    "        l += 1\n",
    "    # print(ans)"
   ]
  },
  {
   "cell_type": "code",
   "execution_count": 5,
   "id": "f50560f5-ec4c-4b81-8c66-83f8d7d12797",
   "metadata": {
    "tags": []
   },
   "outputs": [
    {
     "name": "stdout",
     "output_type": "stream",
     "text": [
      "fda\n",
      "geb\n",
      "h*c\n",
      "i\n"
     ]
    }
   ],
   "source": [
    "for a in ans:\n",
    "    print(\"\".join(a).rstrip('*'))"
   ]
  },
  {
   "cell_type": "code",
   "execution_count": 6,
   "id": "accf8640-cc27-4fb6-af95-e440d2404ff2",
   "metadata": {
    "tags": []
   },
   "outputs": [
    {
     "name": "stdout",
     "output_type": "stream",
     "text": [
      "fda\n",
      "geb\n",
      "h*c\n",
      "i\n"
     ]
    }
   ],
   "source": [
    "for a in ans:\n",
    "    while True:\n",
    "        if a[-1] != '*':\n",
    "            print(*a, sep='')\n",
    "            break\n",
    "        a.pop(-1)"
   ]
  },
  {
   "cell_type": "code",
   "execution_count": 7,
   "id": "09903781-965f-4159-ac1d-4bb92cd32df9",
   "metadata": {
    "tags": []
   },
   "outputs": [],
   "source": [
    "from itertools import zip_longest\n",
    "ans = []\n",
    "for S in zip_longest(*Sn, fillvalue='*'):\n",
    "    ans.append(S[::-1])"
   ]
  },
  {
   "cell_type": "code",
   "execution_count": 8,
   "id": "3c3e45af-fbb7-4f62-96cb-34ce23f487e7",
   "metadata": {
    "tags": []
   },
   "outputs": [
    {
     "name": "stdout",
     "output_type": "stream",
     "text": [
      "fda\n",
      "geb\n",
      "h*c\n",
      "i\n"
     ]
    }
   ],
   "source": [
    "for a in ans:\n",
    "    print(\"\".join(a).rstrip('*'))"
   ]
  },
  {
   "cell_type": "code",
   "execution_count": null,
   "id": "77000170-9a29-4c79-b0c0-c4757a96c044",
   "metadata": {},
   "outputs": [],
   "source": [
    "from itertools import zip_longest\n",
    "for S in zip_longest(*Sn[::-1], fillvalue=\"*\"):\n",
    "    print(\"\".join(S).rstrip('*'))"
   ]
  },
  {
   "cell_type": "code",
   "execution_count": 9,
   "id": "7844714e-453e-49b3-90e4-e55956c70a7b",
   "metadata": {
    "tags": []
   },
   "outputs": [
    {
     "name": "stdout",
     "output_type": "stream",
     "text": [
      "('f', 'd', 'a') ('g', 'e', 'b') ('h', '*', 'c') ('i', '*', '*')\n"
     ]
    }
   ],
   "source": []
  },
  {
   "cell_type": "code",
   "execution_count": 7,
   "id": "b714ae9d-9dad-44b9-bb2c-dff944dd0cc8",
   "metadata": {
    "tags": []
   },
   "outputs": [
    {
     "data": {
      "text/plain": [
       "[('f', 'd', 'a'), ('g', 'e', 'b'), ('h', '*', 'c'), ('i', '*', '*')]"
      ]
     },
     "execution_count": 7,
     "metadata": {},
     "output_type": "execute_result"
    }
   ],
   "source": [
    "ans"
   ]
  },
  {
   "cell_type": "code",
   "execution_count": 136,
   "id": "1d579fbd-7977-4c5a-95e1-7ef4c1932d6b",
   "metadata": {
    "tags": []
   },
   "outputs": [
    {
     "data": {
      "text/plain": [
       "'he'"
      ]
     },
     "execution_count": 136,
     "metadata": {},
     "output_type": "execute_result"
    }
   ],
   "source": [
    "\"\".join(ans[2]).rstrip('*')"
   ]
  },
  {
   "cell_type": "code",
   "execution_count": 118,
   "id": "e098bfea-86a1-49c7-8444-fdbd5d620720",
   "metadata": {
    "tags": []
   },
   "outputs": [],
   "source": [
    "a = ans[-1]\n",
    "i = len(a) - 1\n",
    "while i >= 0:\n",
    "    if a[i] != '*':\n",
    "        break\n",
    "    del ans[-1][-1]\n",
    "    i -= 1\n",
    "    # print(ans)"
   ]
  },
  {
   "cell_type": "code",
   "execution_count": 119,
   "id": "35d10fe4-1656-4b9d-a887-d4456322846a",
   "metadata": {
    "tags": []
   },
   "outputs": [
    {
     "name": "stdout",
     "output_type": "stream",
     "text": [
      "fca\n",
      "gdb\n",
      "he*\n",
      "i**\n",
      "j\n"
     ]
    }
   ],
   "source": [
    "for a in ans:\n",
    "    print(*a, sep='')"
   ]
  },
  {
   "cell_type": "code",
   "execution_count": 133,
   "id": "8030350c-2702-4164-8e88-e87c9a85a04c",
   "metadata": {
    "tags": []
   },
   "outputs": [
    {
     "data": {
      "text/plain": [
       "[['f', 'c', 'a'],\n",
       " ['g', 'd', 'b'],\n",
       " ['h', 'e', '*'],\n",
       " ['i', '*', '*'],\n",
       " ['j', '*', '*']]"
      ]
     },
     "execution_count": 133,
     "metadata": {},
     "output_type": "execute_result"
    }
   ],
   "source": [
    "ans"
   ]
  },
  {
   "cell_type": "code",
   "execution_count": 22,
   "id": "b49bfa7f-8921-4249-b1c6-bce30bdbb493",
   "metadata": {
    "tags": []
   },
   "outputs": [
    {
     "data": {
      "text/plain": [
       "['i', '*', '*']"
      ]
     },
     "execution_count": 22,
     "metadata": {},
     "output_type": "execute_result"
    }
   ],
   "source": [
    "ans[-1]"
   ]
  },
  {
   "cell_type": "code",
   "execution_count": 23,
   "id": "a54d500d-d032-48d3-b143-9d18ad5194d9",
   "metadata": {
    "tags": []
   },
   "outputs": [],
   "source": [
    "a = ans[-1]"
   ]
  },
  {
   "cell_type": "code",
   "execution_count": 24,
   "id": "980bd647-d4ff-41c6-8da8-8903ba98c2c9",
   "metadata": {
    "tags": []
   },
   "outputs": [
    {
     "data": {
      "text/plain": [
       "['i', '*', '*']"
      ]
     },
     "execution_count": 24,
     "metadata": {},
     "output_type": "execute_result"
    }
   ],
   "source": [
    "a"
   ]
  },
  {
   "cell_type": "code",
   "execution_count": 60,
   "id": "0fcafbb2-85b9-40d9-bd3b-7bd9b88d96c7",
   "metadata": {
    "tags": []
   },
   "outputs": [
    {
     "data": {
      "text/plain": [
       "'i'"
      ]
     },
     "execution_count": 60,
     "metadata": {},
     "output_type": "execute_result"
    }
   ],
   "source": [
    "aa"
   ]
  },
  {
   "cell_type": "code",
   "execution_count": 61,
   "id": "c4b620e1-2c3a-4bc2-bf20-1a3a7ddc5dcb",
   "metadata": {
    "tags": []
   },
   "outputs": [
    {
     "data": {
      "text/plain": [
       "[['f', 'd', 'a'], ['g', 'e', 'b'], ['h', '*', 'c'], ['i', '*', '*']]"
      ]
     },
     "execution_count": 61,
     "metadata": {},
     "output_type": "execute_result"
    }
   ],
   "source": [
    "ans"
   ]
  },
  {
   "cell_type": "code",
   "execution_count": 84,
   "id": "9d36465f-8ec9-43d9-8284-b49f6de90164",
   "metadata": {
    "tags": []
   },
   "outputs": [
    {
     "data": {
      "text/plain": [
       "8"
      ]
     },
     "execution_count": 84,
     "metadata": {},
     "output_type": "execute_result"
    }
   ],
   "source": [
    "ma"
   ]
  },
  {
   "cell_type": "code",
   "execution_count": 86,
   "id": "e77e258a-fb55-4620-9332-71aaf2342335",
   "metadata": {
    "tags": []
   },
   "outputs": [
    {
     "data": {
      "text/plain": [
       "7"
      ]
     },
     "execution_count": 86,
     "metadata": {},
     "output_type": "execute_result"
    }
   ],
   "source": [
    "i"
   ]
  },
  {
   "cell_type": "code",
   "execution_count": null,
   "id": "d4a54dfe-f011-47dd-aff3-09fc61ab3bf0",
   "metadata": {},
   "outputs": [],
   "source": []
  }
 ],
 "metadata": {
  "kernelspec": {
   "display_name": "Python 3 (ipykernel)",
   "language": "python",
   "name": "python3"
  },
  "language_info": {
   "codemirror_mode": {
    "name": "ipython",
    "version": 3
   },
   "file_extension": ".py",
   "mimetype": "text/x-python",
   "name": "python",
   "nbconvert_exporter": "python",
   "pygments_lexer": "ipython3",
   "version": "3.11.3"
  }
 },
 "nbformat": 4,
 "nbformat_minor": 5
}
