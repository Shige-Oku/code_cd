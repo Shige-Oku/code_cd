{
 "cells": [
  {
   "cell_type": "code",
   "execution_count": 1,
   "id": "ba4796f2-63db-4164-ace2-65c7df1e01eb",
   "metadata": {
    "tags": []
   },
   "outputs": [],
   "source": [
    "import sys\n",
    "import numpy as np\n",
    "import math\n",
    "import collections\n",
    "import copy\n",
    "import decimal\n",
    "import itertools\n",
    "import re\n",
    "import bisect\n",
    "import scipy\n",
    "import heapq\n",
    "from collections import deque \n",
    "from functools import reduce\n",
    "from itertools import product\n",
    "from itertools import combinations\n",
    "from functools import lru_cache\n",
    "from scipy.special import comb\n",
    "from numba import njit\n",
    "from bisect import bisect_right\n",
    "from bisect import bisect_left\n",
    "from atcoder.fenwicktree import FenwickTree\n",
    "from sortedcontainers import SortedList"
   ]
  },
  {
   "cell_type": "code",
   "execution_count": 1,
   "id": "b09dac69-cbee-4487-8e14-70dbb5021b21",
   "metadata": {
    "tags": []
   },
   "outputs": [
    {
     "name": "stdin",
     "output_type": "stream",
     "text": [
      " 2\n"
     ]
    }
   ],
   "source": [
    "N = int(input())"
   ]
  },
  {
   "cell_type": "code",
   "execution_count": 2,
   "id": "a092e896-aa0c-4c5e-ab02-de030cd65f53",
   "metadata": {},
   "outputs": [
    {
     "name": "stdin",
     "output_type": "stream",
     "text": [
      " 1 2\n",
      " 3 4\n",
      " 5 6\n",
      " 7 8\n"
     ]
    }
   ],
   "source": [
    "Ann = []\n",
    "for _ in range(N):\n",
    "    an = [list(map(int, input().split())) for _ in range(N)]\n",
    "    Ann.append(an)"
   ]
  },
  {
   "cell_type": "code",
   "execution_count": 18,
   "id": "732b9082-3eff-4e2c-bd7d-23543ff11579",
   "metadata": {
    "tags": []
   },
   "outputs": [
    {
     "name": "stdin",
     "output_type": "stream",
     "text": [
      " 2\n"
     ]
    }
   ],
   "source": [
    "Q = int(input())"
   ]
  },
  {
   "cell_type": "code",
   "execution_count": 19,
   "id": "99ab3ed9-fc28-4fc7-902f-71d3f12f89c2",
   "metadata": {
    "tags": []
   },
   "outputs": [
    {
     "name": "stdin",
     "output_type": "stream",
     "text": [
      " 1 2 2 2 1 1\n",
      " 2 2 1 2 1 2\n"
     ]
    }
   ],
   "source": [
    "Qq = [list(map(int, input().split())) for _ in range(Q)]"
   ]
  },
  {
   "cell_type": "code",
   "execution_count": 16,
   "id": "e4b35d0f-9a89-40cf-802b-2613083af4b4",
   "metadata": {
    "tags": []
   },
   "outputs": [],
   "source": [
    "Snn = [[[0] * (N+1) for _ in range(N+1)] for _ in range(N+1)]\n",
    "for x in range(N):\n",
    "    for y in range(N):\n",
    "        for z in range(N):\n",
    "            Snn[x+1][y+1][z+1] = (\n",
    "                Snn[x+1][y+1][z]\n",
    "                + Snn[x+1][y][z+1]\n",
    "                + Snn[x][y+1][z+1]\n",
    "                - Snn[x+1][y][z]\n",
    "                - Snn[x][y+1][z]\n",
    "                - Snn[x][y][z+1]\n",
    "                + Snn[x][y][z]\n",
    "                + Ann[x][y][z]\n",
    "            )\n"
   ]
  },
  {
   "cell_type": "code",
   "execution_count": 21,
   "id": "5d083839-f5fc-4f8c-99d0-014ef636dd5c",
   "metadata": {
    "tags": []
   },
   "outputs": [
    {
     "name": "stdout",
     "output_type": "stream",
     "text": [
      "10\n",
      "26\n"
     ]
    }
   ],
   "source": [
    "for Lx, Rx, Ly, Ry, Lz, Rz in Qq:\n",
    "    Lx, Ly, Lz = Lx-1, Ly-1, Lz-1\n",
    "    print(\n",
    "        Snn[Rx][Ry][Rz]\n",
    "        - Snn[Lx][Ry][Rz]\n",
    "        - Snn[Rx][Ly][Rz]\n",
    "        - Snn[Rx][Ry][Lz]\n",
    "        + Snn[Lx][Ly][Rz]\n",
    "        + Snn[Lx][Ry][Lz]\n",
    "        + Snn[Rx][Ly][Lz]\n",
    "        - Snn[Lx][Ly][Lz]\n",
    "    )"
   ]
  },
  {
   "cell_type": "code",
   "execution_count": 39,
   "id": "e631dfe9-e5f1-416c-8ce0-635c3837e560",
   "metadata": {
    "tags": []
   },
   "outputs": [],
   "source": [
    "Snn2 = [[[0] * (N+2) for _ in range(N+2)] for _ in range(N+2)]\n",
    "for x in range(N):\n",
    "    for y in range(N):\n",
    "        for z in range(N):\n",
    "            Snn2[x+1][y+1][z+1] = Ann[x][y][z]\n",
    "\n",
    "for x in range(N+1):\n",
    "    for y in range(N+1):\n",
    "        for z in range(N+1):\n",
    "            Snn2[x+1][y][z] += Snn2[x][y][z]\n",
    "\n",
    "for x in range(N+1):\n",
    "    for y in range(N+1):\n",
    "        for z in range(N+1):\n",
    "            Snn2[x][y+1][z] += Snn2[x][y][z]\n",
    "\n",
    "for x in range(N+1):\n",
    "    for y in range(N+1):\n",
    "        for z in range(N+1):\n",
    "            Snn2[x][y][z+1] += Snn2[x][y][z]\n",
    "            "
   ]
  },
  {
   "cell_type": "code",
   "execution_count": 40,
   "id": "1c6af8e6-fdff-4287-8196-58fcc36ef8da",
   "metadata": {
    "tags": []
   },
   "outputs": [
    {
     "name": "stdout",
     "output_type": "stream",
     "text": [
      "10\n",
      "26\n"
     ]
    }
   ],
   "source": [
    "for Lx, Rx, Ly, Ry, Lz, Rz in Qq:\n",
    "    Lx, Ly, Lz = Lx-1, Ly-1, Lz-1\n",
    "    print(\n",
    "        Snn2[Rx][Ry][Rz]\n",
    "        - Snn2[Lx][Ry][Rz]\n",
    "        - Snn2[Rx][Ly][Rz]\n",
    "        - Snn2[Rx][Ry][Lz]\n",
    "        + Snn2[Lx][Ly][Rz]\n",
    "        + Snn2[Lx][Ry][Lz]\n",
    "        + Snn2[Rx][Ly][Lz]\n",
    "        - Snn2[Lx][Ly][Lz]\n",
    "    )"
   ]
  },
  {
   "cell_type": "code",
   "execution_count": 43,
   "id": "53dbc2fa-b209-413c-a8b2-0c4dd007727b",
   "metadata": {
    "tags": []
   },
   "outputs": [
    {
     "name": "stdout",
     "output_type": "stream",
     "text": [
      "10\n",
      "26\n"
     ]
    }
   ],
   "source": [
    "def sum_z(rx, ry, lz, rz):\n",
    "    return Snn2[rx][ry][rz] - Snn2[rx][ry][lz]\n",
    "\n",
    "def sum_yz(rx, ly, ry, lz, rz):\n",
    "    return sum_z(rx, ry, lz, rz) - sum_z(rx, ly, lz, rz)\n",
    "\n",
    "def sum_xyz(lx, rx, ly, ry, lz, rz):\n",
    "    return sum_yz(rx, ly, ry, lz, rz) - sum_yz(lx, ly, ry, lz, rz)\n",
    "\n",
    "for Lx, Rx, Ly, Ry, Lz, Rz in Qq:\n",
    "    Lx, Ly, Lz = Lx-1, Ly-1, Lz-1\n",
    "    ans = sum_xyz(Lx, Rx, Ly, Ry, Lz, Rz)\n",
    "    print(ans)\n"
   ]
  },
  {
   "cell_type": "code",
   "execution_count": 35,
   "id": "ab0a1322-3a76-4c3e-b02d-88da588e65a6",
   "metadata": {
    "tags": []
   },
   "outputs": [
    {
     "data": {
      "text/plain": [
       "([[[1, 2], [3, 4]], [[5, 6], [7, 8]]],\n",
       " [[[0, 0, 0], [0, 0, 0], [0, 0, 0]],\n",
       "  [[0, 0, 0], [0, 1, 3], [0, 4, 10]],\n",
       "  [[0, 0, 0], [0, 6, 14], [0, 16, 36]]],\n",
       " [[[0, 0, 0, 0], [0, 0, 0, 0], [0, 0, 0, 0], [0, 0, 0, 0]],\n",
       "  [[0, 0, 0, 0], [0, 1, 3, 3], [0, 4, 10, 10], [0, 4, 6, 0]],\n",
       "  [[0, 0, 0, 0], [0, 6, 14, 14], [0, 16, 36, 36], [0, 16, 20, 0]],\n",
       "  [[0, 0, 0, 0], [0, 6, 8, 0], [0, 10, 12, 0], [0, 0, 0, 0]]])"
      ]
     },
     "execution_count": 35,
     "metadata": {},
     "output_type": "execute_result"
    }
   ],
   "source": [
    "Ann, Snn, Snn2"
   ]
  },
  {
   "cell_type": "code",
   "execution_count": 29,
   "id": "8b7a68fc-9e25-430c-9e9f-722ac8fc09db",
   "metadata": {
    "tags": []
   },
   "outputs": [
    {
     "data": {
      "text/plain": [
       "(0, 0, 2)"
      ]
     },
     "execution_count": 29,
     "metadata": {},
     "output_type": "execute_result"
    }
   ],
   "source": [
    "x, y, z"
   ]
  },
  {
   "cell_type": "code",
   "execution_count": null,
   "id": "f750cdd1-380b-40e1-8635-fe2c726778fb",
   "metadata": {},
   "outputs": [],
   "source": []
  }
 ],
 "metadata": {
  "kernelspec": {
   "display_name": "Python 3 (ipykernel)",
   "language": "python",
   "name": "python3"
  },
  "language_info": {
   "codemirror_mode": {
    "name": "ipython",
    "version": 3
   },
   "file_extension": ".py",
   "mimetype": "text/x-python",
   "name": "python",
   "nbconvert_exporter": "python",
   "pygments_lexer": "ipython3",
   "version": "3.11.3"
  }
 },
 "nbformat": 4,
 "nbformat_minor": 5
}
