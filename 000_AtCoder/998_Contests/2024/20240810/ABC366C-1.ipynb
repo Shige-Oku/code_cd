{
 "cells": [
  {
   "cell_type": "code",
   "execution_count": 1,
   "id": "89720d32-70b4-4034-b392-469350896a55",
   "metadata": {
    "tags": []
   },
   "outputs": [],
   "source": [
    "import sys\n",
    "import numpy as np\n",
    "import math\n",
    "import collections\n",
    "import copy\n",
    "import decimal\n",
    "import itertools\n",
    "import re\n",
    "import bisect\n",
    "import scipy\n",
    "import heapq\n",
    "from collections import deque \n",
    "from functools import reduce\n",
    "from itertools import product\n",
    "from itertools import combinations\n",
    "from functools import lru_cache\n",
    "from scipy.special import comb\n",
    "from numba import njit\n",
    "from bisect import bisect_right\n",
    "from bisect import bisect_left\n",
    "from atcoder.fenwicktree import FenwickTree\n",
    "from sortedcontainers import SortedList"
   ]
  },
  {
   "cell_type": "code",
   "execution_count": 1,
   "id": "09e26aca-2cf3-42b4-a3c8-29d559d80ca0",
   "metadata": {
    "tags": []
   },
   "outputs": [
    {
     "name": "stdin",
     "output_type": "stream",
     "text": [
      " 8\n"
     ]
    }
   ],
   "source": [
    "Q = int(input())"
   ]
  },
  {
   "cell_type": "code",
   "execution_count": 2,
   "id": "068dc0a3-d0af-488b-904e-5bb5fdfbd01a",
   "metadata": {
    "tags": []
   },
   "outputs": [
    {
     "name": "stdin",
     "output_type": "stream",
     "text": [
      " 1 3\n",
      " 1 1\n",
      " 1 4\n",
      " 3\n",
      " 2 1\n",
      " 3\n",
      "  1 5\n",
      " 3\n"
     ]
    }
   ],
   "source": [
    "Qq = [list(map(int, input().split())) for _ in range(Q)]"
   ]
  },
  {
   "cell_type": "code",
   "execution_count": 3,
   "id": "3cb57b7a-32a8-4af2-a99a-fe33f3ef8a4d",
   "metadata": {
    "tags": []
   },
   "outputs": [
    {
     "name": "stdout",
     "output_type": "stream",
     "text": [
      "3\n",
      "2\n",
      "3\n"
     ]
    }
   ],
   "source": [
    "ball = {}\n",
    "for q in Qq:\n",
    "    if q[0] == 1:\n",
    "        if q[1] not in ball:\n",
    "            ball[q[1]] = 1\n",
    "        else:\n",
    "            ball[q[1]] += 1\n",
    "    elif q[0] == 2:\n",
    "        ball[q[1]] -= 1\n",
    "        if ball[q[1]] == 0:\n",
    "            del ball[q[1]]\n",
    "    else:\n",
    "        print(len(ball))\n"
   ]
  },
  {
   "cell_type": "code",
   "execution_count": 8,
   "id": "a033c74d-559e-40d7-ab12-531a3727995f",
   "metadata": {},
   "outputs": [
    {
     "name": "stdout",
     "output_type": "stream",
     "text": [
      "3\n",
      "2\n",
      "3\n"
     ]
    }
   ],
   "source": [
    "from collections import defaultdict\n",
    "ball = defaultdict(int)\n",
    "for q in Qq:\n",
    "    if q[0] == 1:\n",
    "        _, b = q\n",
    "        ball[b] += 1\n",
    "    elif q[0] == 2:\n",
    "        _, b = q\n",
    "        ball[b] -= 1\n",
    "        if ball[b] == 0:\n",
    "            del ball[b]\n",
    "    else:\n",
    "        print(len(ball))"
   ]
  },
  {
   "cell_type": "code",
   "execution_count": 7,
   "id": "cdade544-1f56-43b6-9301-33877cd9801e",
   "metadata": {
    "tags": []
   },
   "outputs": [
    {
     "data": {
      "text/plain": [
       "1"
      ]
     },
     "execution_count": 7,
     "metadata": {},
     "output_type": "execute_result"
    }
   ],
   "source": [
    "len(ball)"
   ]
  },
  {
   "cell_type": "code",
   "execution_count": 6,
   "id": "7db38376-4c16-453b-826f-a5c2fca9b477",
   "metadata": {
    "tags": []
   },
   "outputs": [],
   "source": [
    "ball[1] = 0"
   ]
  },
  {
   "cell_type": "code",
   "execution_count": null,
   "id": "edf772de-bf3c-4a39-aab8-4a69d7f675da",
   "metadata": {},
   "outputs": [],
   "source": [
    "len(ball)"
   ]
  }
 ],
 "metadata": {
  "kernelspec": {
   "display_name": "Python 3 (ipykernel)",
   "language": "python",
   "name": "python3"
  },
  "language_info": {
   "codemirror_mode": {
    "name": "ipython",
    "version": 3
   },
   "file_extension": ".py",
   "mimetype": "text/x-python",
   "name": "python",
   "nbconvert_exporter": "python",
   "pygments_lexer": "ipython3",
   "version": "3.11.3"
  }
 },
 "nbformat": 4,
 "nbformat_minor": 5
}
