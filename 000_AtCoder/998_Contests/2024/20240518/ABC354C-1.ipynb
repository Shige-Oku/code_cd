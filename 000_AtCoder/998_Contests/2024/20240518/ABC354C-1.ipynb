{
 "cells": [
  {
   "cell_type": "code",
   "execution_count": 1,
   "id": "667f48b7-6309-424b-bee3-214c18057ef0",
   "metadata": {
    "tags": []
   },
   "outputs": [],
   "source": [
    "import sys\n",
    "import numpy as np\n",
    "import math\n",
    "import collections\n",
    "import copy\n",
    "import decimal\n",
    "import itertools\n",
    "import re\n",
    "import bisect\n",
    "import scipy\n",
    "import heapq\n",
    "from collections import deque \n",
    "from functools import reduce\n",
    "from itertools import product\n",
    "from itertools import combinations\n",
    "from functools import lru_cache\n",
    "from scipy.special import comb\n",
    "from numba import njit\n",
    "from bisect import bisect_right\n",
    "from bisect import bisect_left\n",
    "from atcoder.fenwicktree import FenwickTree\n",
    "from sortedcontainers import SortedSet, SortedKeyList, SortedDict"
   ]
  },
  {
   "cell_type": "code",
   "execution_count": 25,
   "id": "6c018514-a19c-426f-8689-2f702c4ba1cc",
   "metadata": {
    "tags": []
   },
   "outputs": [
    {
     "name": "stdin",
     "output_type": "stream",
     "text": [
      " 6\n"
     ]
    }
   ],
   "source": [
    "N = int(input())"
   ]
  },
  {
   "cell_type": "code",
   "execution_count": 26,
   "id": "4138583f-a7a9-4a28-ac66-722d02a00c28",
   "metadata": {
    "tags": []
   },
   "outputs": [
    {
     "name": "stdin",
     "output_type": "stream",
     "text": [
      " 32 101\n",
      " 65 78\n",
      " 2 29\n",
      " 46 55\n",
      " 103 130\n",
      " 52 40\n"
     ]
    }
   ],
   "source": [
    "ACn = [list(map(int, input().split())) for _ in range(N)]"
   ]
  },
  {
   "cell_type": "code",
   "execution_count": 40,
   "id": "e740bd82-5574-4dd9-a15f-83ff2e53c0de",
   "metadata": {
    "tags": []
   },
   "outputs": [],
   "source": [
    "ACn2 = []\n",
    "for i, (A, C) in enumerate(ACn, 1):\n",
    "    ACn2.append((A, C, i))\n",
    "ACn_s = sorted(ACn2, reverse=True, key=lambda x:(x[0], x[1]))\n",
    "ans = []\n",
    "cm = 10**20\n",
    "for A, C, i in ACn_s:\n",
    "    # print(A, C, am, cm, ans)\n",
    "    if C > cm:\n",
    "        continue\n",
    "    cm = min(cm, C)\n",
    "    ans.append(i)\n",
    "    # print(A, C, am, cm, ans)"
   ]
  },
  {
   "cell_type": "code",
   "execution_count": 42,
   "id": "ea351a59-5b00-4940-852a-e43c8f4c89d3",
   "metadata": {
    "tags": []
   },
   "outputs": [
    {
     "name": "stdout",
     "output_type": "stream",
     "text": [
      "4\n",
      "2 3 5 6\n"
     ]
    }
   ],
   "source": [
    "ans.sort()\n",
    "print(len(ans))\n",
    "print(*ans)"
   ]
  },
  {
   "cell_type": "code",
   "execution_count": 38,
   "id": "ba53536e-5877-4c08-affb-a3729eba00dc",
   "metadata": {
    "tags": []
   },
   "outputs": [
    {
     "data": {
      "text/plain": [
       "[(103, -130, 5),\n",
       " (65, -78, 2),\n",
       " (52, -40, 6),\n",
       " (46, -55, 4),\n",
       " (32, -101, 1),\n",
       " (2, -29, 3)]"
      ]
     },
     "execution_count": 38,
     "metadata": {},
     "output_type": "execute_result"
    }
   ],
   "source": [
    "ACn_s"
   ]
  },
  {
   "cell_type": "code",
   "execution_count": 39,
   "id": "37e7620c-7767-44ce-8689-cfdd7175c77c",
   "metadata": {
    "tags": []
   },
   "outputs": [
    {
     "data": {
      "text/plain": [
       "[5]"
      ]
     },
     "execution_count": 39,
     "metadata": {},
     "output_type": "execute_result"
    }
   ],
   "source": [
    "ans"
   ]
  },
  {
   "cell_type": "code",
   "execution_count": null,
   "id": "b92cea2e-f29e-47f5-8c7d-76d8464e20a1",
   "metadata": {},
   "outputs": [],
   "source": []
  }
 ],
 "metadata": {
  "kernelspec": {
   "display_name": "Python 3 (ipykernel)",
   "language": "python",
   "name": "python3"
  },
  "language_info": {
   "codemirror_mode": {
    "name": "ipython",
    "version": 3
   },
   "file_extension": ".py",
   "mimetype": "text/x-python",
   "name": "python",
   "nbconvert_exporter": "python",
   "pygments_lexer": "ipython3",
   "version": "3.11.3"
  }
 },
 "nbformat": 4,
 "nbformat_minor": 5
}
