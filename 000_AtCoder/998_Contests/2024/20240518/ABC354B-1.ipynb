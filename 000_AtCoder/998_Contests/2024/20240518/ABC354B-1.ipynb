{
 "cells": [
  {
   "cell_type": "code",
   "execution_count": 1,
   "id": "3318dc99-d384-4552-844d-d4e5832ba408",
   "metadata": {
    "tags": []
   },
   "outputs": [],
   "source": [
    "import sys\n",
    "import numpy as np\n",
    "import math\n",
    "import collections\n",
    "import copy\n",
    "import decimal\n",
    "import itertools\n",
    "import re\n",
    "import bisect\n",
    "import scipy\n",
    "import heapq\n",
    "from collections import deque \n",
    "from functools import reduce\n",
    "from itertools import product\n",
    "from itertools import combinations\n",
    "from functools import lru_cache\n",
    "from scipy.special import comb\n",
    "from numba import njit\n",
    "from bisect import bisect_right\n",
    "from bisect import bisect_left\n",
    "from atcoder.fenwicktree import FenwickTree\n",
    "from sortedcontainers import SortedSet, SortedKeyList, SortedDict"
   ]
  },
  {
   "cell_type": "code",
   "execution_count": 2,
   "id": "68c9e449-29fd-40eb-81f5-ef05a5fd3183",
   "metadata": {
    "tags": []
   },
   "outputs": [
    {
     "name": "stdin",
     "output_type": "stream",
     "text": [
      " 3\n"
     ]
    }
   ],
   "source": [
    "N = int(input())"
   ]
  },
  {
   "cell_type": "code",
   "execution_count": 15,
   "id": "55cb0333-482d-441b-853d-9cb796a42670",
   "metadata": {
    "tags": []
   },
   "outputs": [
    {
     "name": "stdin",
     "output_type": "stream",
     "text": [
      " takahashi 2813\n",
      " takahashixx 1086\n",
      " takahashix 4229\n"
     ]
    }
   ],
   "source": [
    "SCn = [input().split() for _ in range(N)]"
   ]
  },
  {
   "cell_type": "code",
   "execution_count": 16,
   "id": "398a1946-e330-4836-8055-eb1bddd3a986",
   "metadata": {
    "tags": []
   },
   "outputs": [],
   "source": [
    "SCn_s = sorted(SCn)\n",
    "total = 0\n",
    "for S, C in SCn:\n",
    "    total += int(C)"
   ]
  },
  {
   "cell_type": "code",
   "execution_count": 17,
   "id": "03bd783a-cc7e-4192-ac88-ffacc5f0597c",
   "metadata": {
    "tags": []
   },
   "outputs": [
    {
     "name": "stdout",
     "output_type": "stream",
     "text": [
      "takahashix\n"
     ]
    }
   ],
   "source": [
    "print(SCn_s[total%N][0])"
   ]
  },
  {
   "cell_type": "code",
   "execution_count": 5,
   "id": "c5c1bb24-abb6-477a-95a3-467a7f8edad9",
   "metadata": {
    "tags": []
   },
   "outputs": [
    {
     "data": {
      "text/plain": [
       "[['aoki', '6'], ['snuke', '5'], ['takahashi', '2']]"
      ]
     },
     "execution_count": 5,
     "metadata": {},
     "output_type": "execute_result"
    }
   ],
   "source": [
    "SCn_s"
   ]
  },
  {
   "cell_type": "code",
   "execution_count": 9,
   "id": "3c1051e6-7c7b-4b7a-abbb-a836dacdf7c3",
   "metadata": {
    "tags": []
   },
   "outputs": [
    {
     "data": {
      "text/plain": [
       "13"
      ]
     },
     "execution_count": 9,
     "metadata": {},
     "output_type": "execute_result"
    }
   ],
   "source": [
    "total"
   ]
  },
  {
   "cell_type": "code",
   "execution_count": 13,
   "id": "04a7f4ac-235f-483a-b8cd-86700acdd3e6",
   "metadata": {
    "tags": []
   },
   "outputs": [
    {
     "data": {
      "text/plain": [
       "1"
      ]
     },
     "execution_count": 13,
     "metadata": {},
     "output_type": "execute_result"
    }
   ],
   "source": [
    "total%N"
   ]
  },
  {
   "cell_type": "code",
   "execution_count": null,
   "id": "4bc74c8c-e8de-4d23-ac57-137d83e78f52",
   "metadata": {},
   "outputs": [],
   "source": []
  }
 ],
 "metadata": {
  "kernelspec": {
   "display_name": "Python 3 (ipykernel)",
   "language": "python",
   "name": "python3"
  },
  "language_info": {
   "codemirror_mode": {
    "name": "ipython",
    "version": 3
   },
   "file_extension": ".py",
   "mimetype": "text/x-python",
   "name": "python",
   "nbconvert_exporter": "python",
   "pygments_lexer": "ipython3",
   "version": "3.11.3"
  }
 },
 "nbformat": 4,
 "nbformat_minor": 5
}
