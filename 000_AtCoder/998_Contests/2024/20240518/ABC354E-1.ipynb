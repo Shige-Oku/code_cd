{
 "cells": [
  {
   "cell_type": "code",
   "execution_count": 1,
   "id": "2151a858-19ad-4239-a545-84937a209f4e",
   "metadata": {
    "tags": []
   },
   "outputs": [],
   "source": [
    "import sys\n",
    "import numpy as np\n",
    "import math\n",
    "import collections\n",
    "import copy\n",
    "import decimal\n",
    "import itertools\n",
    "import re\n",
    "import bisect\n",
    "import scipy\n",
    "import heapq\n",
    "from collections import deque \n",
    "from functools import reduce\n",
    "from itertools import product\n",
    "from itertools import combinations\n",
    "from functools import lru_cache\n",
    "from scipy.special import comb\n",
    "from numba import njit\n",
    "from bisect import bisect_right\n",
    "from bisect import bisect_left\n",
    "from atcoder.fenwicktree import FenwickTree\n",
    "from sortedcontainers import SortedSet, SortedKeyList, SortedDict"
   ]
  },
  {
   "cell_type": "code",
   "execution_count": 33,
   "id": "a234e1b3-e4d0-4b63-bf92-781512063789",
   "metadata": {
    "tags": []
   },
   "outputs": [
    {
     "name": "stdin",
     "output_type": "stream",
     "text": [
      " 9\n"
     ]
    }
   ],
   "source": [
    "N = int(input())"
   ]
  },
  {
   "cell_type": "code",
   "execution_count": 34,
   "id": "70f7e08c-b303-410a-badb-4a595404b34e",
   "metadata": {
    "tags": []
   },
   "outputs": [
    {
     "name": "stdin",
     "output_type": "stream",
     "text": [
      " 3 2\n",
      " 1 7\n",
      " 4 1\n",
      " 1 8\n",
      " 5 2\n",
      " 9 8\n",
      " 2 1\n",
      " 6 8\n",
      " 5 2\n"
     ]
    }
   ],
   "source": [
    "ABn = [list(map(int, input().split())) for _ in range(N)]"
   ]
  },
  {
   "cell_type": "code",
   "execution_count": 44,
   "id": "42821f98-e05e-4b52-8ffc-b81628a0f5c0",
   "metadata": {
    "tags": []
   },
   "outputs": [],
   "source": [
    "omote = {}\n",
    "ura = {}\n",
    "for A, B in ABn:\n",
    "    if A in omote:\n",
    "        omote[A].append(B)\n",
    "    else:\n",
    "        omote[A] = [B]\n",
    "    if B in ura:\n",
    "        ura[B].append(A)\n",
    "    else:\n",
    "        ura[B] = [A]"
   ]
  },
  {
   "cell_type": "code",
   "execution_count": 45,
   "id": "da349880-3621-4906-b820-36d99e6e5080",
   "metadata": {
    "tags": []
   },
   "outputs": [
    {
     "name": "stdout",
     "output_type": "stream",
     "text": [
      "2\n"
     ]
    }
   ],
   "source": [
    "cnt = 0\n",
    "for k ,v in omote.items():\n",
    "    l = len(v)\n",
    "    i = 0\n",
    "    while l > 1:\n",
    "        p1 = v[2 * i]\n",
    "        p2 = v[2 * i + 1]\n",
    "        ura[p1].remove(k)\n",
    "        ura[p2].remove(k)\n",
    "        cnt += 1\n",
    "        i += 1\n",
    "        l -= 2\n",
    "print(cnt)"
   ]
  },
  {
   "cell_type": "code",
   "execution_count": 46,
   "id": "510d40d8-c7c8-495f-8e13-b84a7fba0525",
   "metadata": {
    "tags": []
   },
   "outputs": [
    {
     "name": "stdout",
     "output_type": "stream",
     "text": [
      "4\n"
     ]
    }
   ],
   "source": [
    "for k ,v in ura.items():\n",
    "    cnt += len(v) // 2\n",
    "print(cnt)"
   ]
  },
  {
   "cell_type": "code",
   "execution_count": 47,
   "id": "77488249-b004-4c68-b057-2c57038c51d3",
   "metadata": {
    "tags": []
   },
   "outputs": [
    {
     "name": "stdout",
     "output_type": "stream",
     "text": [
      "Aoki\n"
     ]
    }
   ],
   "source": [
    "print('Takahashi' if cnt % 2 == 1 else 'Aoki')"
   ]
  },
  {
   "cell_type": "code",
   "execution_count": 30,
   "id": "8fd802cf-9950-4edc-a32e-70bcc8f77c9c",
   "metadata": {
    "tags": []
   },
   "outputs": [],
   "source": [
    "cnt = 0\n",
    "for k ,v in omote.items():\n",
    "    if len(v) > 1:\n",
    "        cnt += len(v)\n",
    "\n",
    "for k, v in ura.items():\n",
    "    if len(v) > 1:\n",
    "        cnt += len(v)\n"
   ]
  },
  {
   "cell_type": "code",
   "execution_count": 29,
   "id": "d1d5d799-9a78-4333-91cc-ac02ba6e6500",
   "metadata": {
    "tags": []
   },
   "outputs": [
    {
     "name": "stdout",
     "output_type": "stream",
     "text": [
      "Aoki\n"
     ]
    }
   ],
   "source": [
    "print('Takahashi' if cnt % 2 == 1 else 'Aoki')"
   ]
  },
  {
   "cell_type": "code",
   "execution_count": 43,
   "id": "b20a8eec-3c9f-4e79-9464-33c20e5cf611",
   "metadata": {
    "tags": []
   },
   "outputs": [
    {
     "data": {
      "text/plain": [
       "({3: [2], 1: [7, 8], 4: [1], 5: [2, 2], 9: [8], 2: [1], 6: [8]},\n",
       " {2: [3], 7: [], 1: [4, 2], 8: [9, 6]})"
      ]
     },
     "execution_count": 43,
     "metadata": {},
     "output_type": "execute_result"
    }
   ],
   "source": [
    "omote, ura"
   ]
  },
  {
   "cell_type": "code",
   "execution_count": 15,
   "id": "e2b522b4-c6d5-4198-916a-f0f1db85ecc7",
   "metadata": {
    "tags": []
   },
   "outputs": [
    {
     "data": {
      "text/plain": [
       "1"
      ]
     },
     "execution_count": 15,
     "metadata": {},
     "output_type": "execute_result"
    }
   ],
   "source": [
    "ura[9][0]"
   ]
  },
  {
   "cell_type": "code",
   "execution_count": 18,
   "id": "152f84ba-9e6d-4f78-ab6c-cda81c80a529",
   "metadata": {
    "tags": []
   },
   "outputs": [
    {
     "data": {
      "text/plain": [
       "(1, 9, 4)"
      ]
     },
     "execution_count": 18,
     "metadata": {},
     "output_type": "execute_result"
    }
   ],
   "source": [
    "i, p1, p2"
   ]
  },
  {
   "cell_type": "code",
   "execution_count": 42,
   "id": "63bf27af-c393-47df-a559-cdb163929726",
   "metadata": {
    "tags": []
   },
   "outputs": [
    {
     "data": {
      "text/plain": [
       "4"
      ]
     },
     "execution_count": 42,
     "metadata": {},
     "output_type": "execute_result"
    }
   ],
   "source": [
    "cnt"
   ]
  },
  {
   "cell_type": "code",
   "execution_count": 1,
   "id": "46bada9d-a762-4c43-b500-2bda6b847872",
   "metadata": {},
   "outputs": [
    {
     "data": {
      "text/plain": [
       "262144"
      ]
     },
     "execution_count": 1,
     "metadata": {},
     "output_type": "execute_result"
    }
   ],
   "source": [
    "2**18"
   ]
  },
  {
   "cell_type": "code",
   "execution_count": null,
   "id": "51e084b1-70d7-4ed1-8203-3e73fa10b26d",
   "metadata": {},
   "outputs": [],
   "source": []
  }
 ],
 "metadata": {
  "kernelspec": {
   "display_name": "Python 3 (ipykernel)",
   "language": "python",
   "name": "python3"
  },
  "language_info": {
   "codemirror_mode": {
    "name": "ipython",
    "version": 3
   },
   "file_extension": ".py",
   "mimetype": "text/x-python",
   "name": "python",
   "nbconvert_exporter": "python",
   "pygments_lexer": "ipython3",
   "version": "3.11.3"
  }
 },
 "nbformat": 4,
 "nbformat_minor": 5
}
