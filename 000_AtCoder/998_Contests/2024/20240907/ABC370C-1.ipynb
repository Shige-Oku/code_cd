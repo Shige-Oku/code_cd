{
 "cells": [
  {
   "cell_type": "code",
   "execution_count": 1,
   "id": "beec4d0a-940c-4e14-91e8-ee820aefd10e",
   "metadata": {
    "tags": []
   },
   "outputs": [],
   "source": [
    "import sys\n",
    "import numpy as np\n",
    "import math\n",
    "import collections\n",
    "import copy\n",
    "import decimal\n",
    "import itertools\n",
    "import re\n",
    "import bisect\n",
    "import scipy\n",
    "import heapq\n",
    "from collections import deque \n",
    "from functools import reduce\n",
    "from itertools import product\n",
    "from itertools import combinations\n",
    "from functools import lru_cache\n",
    "from scipy.special import comb\n",
    "from numba import njit\n",
    "from bisect import bisect_right\n",
    "from bisect import bisect_left\n",
    "from atcoder.fenwicktree import FenwickTree\n",
    "from sortedcontainers import SortedList"
   ]
  },
  {
   "cell_type": "code",
   "execution_count": 2,
   "id": "5092a1ef-66ce-4027-9c61-f50c7db60c55",
   "metadata": {
    "tags": []
   },
   "outputs": [
    {
     "name": "stdin",
     "output_type": "stream",
     "text": [
      " adbe\n"
     ]
    }
   ],
   "source": [
    "S = input()"
   ]
  },
  {
   "cell_type": "code",
   "execution_count": 3,
   "id": "6ec6dbf5-99f5-47f9-8918-9c42c6bc30cd",
   "metadata": {
    "tags": []
   },
   "outputs": [
    {
     "name": "stdin",
     "output_type": "stream",
     "text": [
      " bcbc\n"
     ]
    }
   ],
   "source": [
    "T = input()"
   ]
  },
  {
   "cell_type": "code",
   "execution_count": 16,
   "id": "a1f94c65-c54b-4363-a3fa-585a8b0a0d39",
   "metadata": {
    "tags": []
   },
   "outputs": [],
   "source": [
    "di_f = []\n",
    "di_s = []\n",
    "for i, (s, t) in enumerate(zip(S, T)):\n",
    "    if s == t:\n",
    "        continue\n",
    "    if s > t:\n",
    "        di_f.append((i, t, s))\n",
    "    else:\n",
    "        di_s.append((i, t, s))"
   ]
  },
  {
   "cell_type": "code",
   "execution_count": 18,
   "id": "96f016d3-bd3d-4adf-ac25-1a80b286354b",
   "metadata": {
    "tags": []
   },
   "outputs": [
    {
     "name": "stdout",
     "output_type": "stream",
     "text": [
      "3\n",
      "acbe\n",
      "acbc\n",
      "bcbc\n"
     ]
    }
   ],
   "source": [
    "print(len(di_f) + len(di_s))\n",
    "ans = list(S)\n",
    "di_fs = sorted(di_f)\n",
    "for i, t, s in di_fs:\n",
    "    ans[i] = t\n",
    "    print(*ans, sep='')\n",
    "di_ss = sorted(di_s, reverse=True)\n",
    "for i, t, a in di_ss:\n",
    "    ans[i] = t\n",
    "    print(*ans, sep='')\n"
   ]
  },
  {
   "cell_type": "code",
   "execution_count": 19,
   "id": "85c627db-554e-4e6d-9b56-f2fa4c668e8f",
   "metadata": {
    "tags": []
   },
   "outputs": [
    {
     "name": "stdout",
     "output_type": "stream",
     "text": [
      "3\n"
     ]
    }
   ],
   "source": [
    "d = 0\n",
    "for s, t in zip(S, T):\n",
    "    if s != t:\n",
    "        d += 1\n",
    "print(d)"
   ]
  },
  {
   "cell_type": "code",
   "execution_count": 27,
   "id": "b7f24f57-e55e-454a-babc-3572922c4f0c",
   "metadata": {
    "tags": []
   },
   "outputs": [
    {
     "name": "stdout",
     "output_type": "stream",
     "text": [
      "acbe\n",
      "acbc\n",
      "bcbc\n"
     ]
    }
   ],
   "source": [
    "from copy import deepcopy\n",
    "ans = list(S)\n",
    "for i in range(d):\n",
    "    c = list('z' * 200)\n",
    "    for i, (s, t) in enumerate(zip(ans, list(T))):\n",
    "        c2 = deepcopy(ans)\n",
    "        if s == t:\n",
    "            continue\n",
    "        c2[i] = t\n",
    "        if c2 < c:\n",
    "            c = c2\n",
    "    ans = c\n",
    "    print(*ans, sep=\"\")\n"
   ]
  },
  {
   "cell_type": "code",
   "execution_count": 13,
   "id": "12e2cc6f-d1c2-4b0c-8f23-8f9f7f02d62c",
   "metadata": {
    "tags": []
   },
   "outputs": [
    {
     "data": {
      "text/plain": [
       "([('c', 1, 'd'), ('c', 3, 'e')], [('b', 0, 'a')])"
      ]
     },
     "execution_count": 13,
     "metadata": {},
     "output_type": "execute_result"
    }
   ],
   "source": [
    "di_fs, di_s"
   ]
  },
  {
   "cell_type": "code",
   "execution_count": 11,
   "id": "18d20df9-dfcb-4a41-8d73-38d98153b664",
   "metadata": {
    "tags": []
   },
   "outputs": [
    {
     "data": {
      "text/plain": [
       "(['a', 'd', 'b', 'e'], 3)"
      ]
     },
     "execution_count": 11,
     "metadata": {},
     "output_type": "execute_result"
    }
   ],
   "source": [
    "ans, i"
   ]
  },
  {
   "cell_type": "code",
   "execution_count": 21,
   "id": "8c662af7-10bb-4491-8733-ed4db0f2a95b",
   "metadata": {
    "tags": []
   },
   "outputs": [
    {
     "data": {
      "text/plain": [
       "False"
      ]
     },
     "execution_count": 21,
     "metadata": {},
     "output_type": "execute_result"
    }
   ],
   "source": [
    "'z' > 'zz'"
   ]
  },
  {
   "cell_type": "code",
   "execution_count": 23,
   "id": "69702c7c-d585-4594-a3f4-d19f4832cd6a",
   "metadata": {
    "tags": []
   },
   "outputs": [
    {
     "data": {
      "text/plain": [
       "['z', 'z', 'z', 'z', 'z']"
      ]
     },
     "execution_count": 23,
     "metadata": {},
     "output_type": "execute_result"
    }
   ],
   "source": [
    "list('z' * 5)"
   ]
  },
  {
   "cell_type": "code",
   "execution_count": 25,
   "id": "1b6d5812-dc94-4280-bfa9-9e5463d720a4",
   "metadata": {
    "tags": []
   },
   "outputs": [
    {
     "data": {
      "text/plain": [
       "(['b', 'c', 'b', 'c'], ['b', 'c', 'b', 'c'])"
      ]
     },
     "execution_count": 25,
     "metadata": {},
     "output_type": "execute_result"
    }
   ],
   "source": [
    "list(ans), ans"
   ]
  },
  {
   "cell_type": "code",
   "execution_count": null,
   "id": "277205af-65f9-49f6-8de3-a847a3f2fb38",
   "metadata": {},
   "outputs": [],
   "source": []
  }
 ],
 "metadata": {
  "kernelspec": {
   "display_name": "Python 3 (ipykernel)",
   "language": "python",
   "name": "python3"
  },
  "language_info": {
   "codemirror_mode": {
    "name": "ipython",
    "version": 3
   },
   "file_extension": ".py",
   "mimetype": "text/x-python",
   "name": "python",
   "nbconvert_exporter": "python",
   "pygments_lexer": "ipython3",
   "version": "3.11.3"
  }
 },
 "nbformat": 4,
 "nbformat_minor": 5
}
