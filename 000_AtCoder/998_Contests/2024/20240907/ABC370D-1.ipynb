{
 "cells": [
  {
   "cell_type": "code",
   "execution_count": 3,
   "id": "fadcc1d3-563b-43d5-8c9c-b29f35fb3579",
   "metadata": {
    "tags": []
   },
   "outputs": [],
   "source": [
    "import sys\n",
    "import numpy as np\n",
    "import math\n",
    "import collections\n",
    "import copy\n",
    "import decimal\n",
    "import itertools\n",
    "import re\n",
    "import bisect\n",
    "import scipy\n",
    "import heapq\n",
    "from collections import deque \n",
    "from functools import reduce\n",
    "from itertools import product\n",
    "from itertools import combinations\n",
    "from functools import lru_cache\n",
    "from scipy.special import comb\n",
    "from numba import njit\n",
    "from bisect import bisect_right\n",
    "from bisect import bisect_left\n",
    "from atcoder.fenwicktree import FenwickTree\n",
    "from sortedcontainers import SortedSet, SortedList, SortedDict"
   ]
  },
  {
   "cell_type": "code",
   "execution_count": 155,
   "id": "2af99002-2972-40e7-8da5-973dc380b009",
   "metadata": {
    "tags": []
   },
   "outputs": [
    {
     "name": "stdin",
     "output_type": "stream",
     "text": [
      " 5 5 5\n"
     ]
    }
   ],
   "source": [
    "H, W, Q = map(int, input().split())"
   ]
  },
  {
   "cell_type": "code",
   "execution_count": 156,
   "id": "f528871d-37ff-47b2-a5aa-f5a594404755",
   "metadata": {
    "tags": []
   },
   "outputs": [
    {
     "name": "stdin",
     "output_type": "stream",
     "text": [
      " 3 3\n",
      " 3 3\n",
      " 3 2\n",
      " 2 2\n",
      " 1 2\n"
     ]
    }
   ],
   "source": [
    "RCq = [list(map(int, input().split())) for _ in range(Q)]"
   ]
  },
  {
   "cell_type": "code",
   "execution_count": 157,
   "id": "3e05ac3d-1385-4897-a581-72ff929db961",
   "metadata": {
    "tags": []
   },
   "outputs": [],
   "source": [
    "def Destrly(h, w):\n",
    "    destroy[h][w] = True\n",
    "    Hcnt[h].discard(w)\n",
    "    Wcnt[w].discard(h)\n",
    "    \n",
    "    return"
   ]
  },
  {
   "cell_type": "code",
   "execution_count": 160,
   "id": "b3be5156-1f0c-43a7-bdd3-0a35472b8e5c",
   "metadata": {
    "tags": []
   },
   "outputs": [],
   "source": [
    "def solve(h, w):\n",
    "    delete = []\n",
    "\n",
    "    p = Hcnt[h].bisect_left(w)\n",
    "    # 左削除\n",
    "    if 0 < p:\n",
    "        d = Hcnt[h][p-1]\n",
    "        delete.append([h, d])\n",
    "    \n",
    "    # 右削除\n",
    "    if p < len(Hcnt[h]):\n",
    "        d = Hcnt[h][p]\n",
    "        delete.append([h, d])\n",
    "    \n",
    "    p = Wcnt[w].bisect_left(h)\n",
    "    # 上削除\n",
    "    if 0 < p:\n",
    "        d = Wcnt[w][p-1]\n",
    "        delete.append([d, w])\n",
    "        \n",
    "    # 下削除\n",
    "    if p < len(Wcnt[w]):\n",
    "        d = Wcnt[w][p]\n",
    "        delete.append([d, w])\n",
    "\n",
    "    for hd, wd in delete:\n",
    "        Destrly(hd, wd)\n",
    "\n",
    "    return \n"
   ]
  },
  {
   "cell_type": "code",
   "execution_count": 161,
   "id": "887151f2-20b1-466c-b79e-2b9f946bed1f",
   "metadata": {
    "tags": []
   },
   "outputs": [],
   "source": [
    "from sortedcontainers import SortedSet, SortedList, SortedDict\n",
    "Hcnt = [SortedSet([x for x in range(1, W+1)]) for _ in range(H+1)]\n",
    "Wcnt = [SortedSet([x for x in range(1, H+1)]) for _ in range(W+1)]\n",
    "destroy = [[False] * (W+1) for _ in range(H+1)]\n",
    "\n",
    "for R, C in RCq:\n",
    "    if destroy[R][C]:\n",
    "        solve(R, C)\n",
    "    else:\n",
    "        Destrly(R, C)\n",
    "    # print(Hcnt)\n",
    "    # print(Wcnt)\n",
    "        "
   ]
  },
  {
   "cell_type": "code",
   "execution_count": 162,
   "id": "3f90c9bf-c5cf-49d0-b01c-caa1664bf953",
   "metadata": {
    "tags": []
   },
   "outputs": [
    {
     "name": "stdout",
     "output_type": "stream",
     "text": [
      "10\n"
     ]
    }
   ],
   "source": [
    "d = 0\n",
    "for dest in destroy:\n",
    "    d += sum(dest)\n",
    "print(H*W - d)"
   ]
  },
  {
   "cell_type": "code",
   "execution_count": 138,
   "id": "7fabce5f-3d5b-48de-bab1-0b87ee1dfda0",
   "metadata": {
    "tags": []
   },
   "outputs": [
    {
     "data": {
      "text/plain": [
       "([SortedSet([1, 2, 3, 4]), SortedSet([]), SortedSet([1, 2, 3, 4])],\n",
       " [SortedSet([1, 2]),\n",
       "  SortedSet([2]),\n",
       "  SortedSet([2]),\n",
       "  SortedSet([2]),\n",
       "  SortedSet([2])],\n",
       " [[False, False, False, False, False],\n",
       "  [False, True, True, True, True],\n",
       "  [False, False, False, False, False]])"
      ]
     },
     "execution_count": 138,
     "metadata": {},
     "output_type": "execute_result"
    }
   ],
   "source": [
    "Hcnt, Wcnt, destroy"
   ]
  },
  {
   "cell_type": "code",
   "execution_count": 139,
   "id": "085786d7-5358-4c41-91d2-52087302a219",
   "metadata": {
    "tags": []
   },
   "outputs": [
    {
     "data": {
      "text/plain": [
       "[SortedSet([1, 2]),\n",
       " SortedSet([2]),\n",
       " SortedSet([2]),\n",
       " SortedSet([2]),\n",
       " SortedSet([2])]"
      ]
     },
     "execution_count": 139,
     "metadata": {},
     "output_type": "execute_result"
    }
   ],
   "source": [
    "Wcnt"
   ]
  },
  {
   "cell_type": "code",
   "execution_count": 48,
   "id": "e7346d63-a663-4ead-a371-dff67adc0d91",
   "metadata": {
    "tags": []
   },
   "outputs": [
    {
     "data": {
      "text/plain": [
       "[SortedSet([1, 2, 3, 4]), SortedSet([1, 3, 4]), SortedSet([1, 2, 3, 4])]"
      ]
     },
     "execution_count": 48,
     "metadata": {},
     "output_type": "execute_result"
    }
   ],
   "source": [
    "Hcnt"
   ]
  },
  {
   "cell_type": "code",
   "execution_count": 106,
   "id": "5e2ad79e-1390-4e5c-8e87-4a8d1efbf31a",
   "metadata": {
    "tags": []
   },
   "outputs": [],
   "source": [
    "def solve(h, w):\n",
    "    for i in range(h, 0, -1):\n",
    "        if WC[w] <= 0:\n",
    "            break\n",
    "        if not visit[i][w]:\n",
    "            visit[i][w] = True\n",
    "            HC[w] -= 1\n",
    "            break\n",
    "    for i in range(h, H+1):\n",
    "        if WC[w] <= 0:\n",
    "            break\n",
    "        if not visit[i][w]:\n",
    "            visit[i][w] = True\n",
    "            HC[w] -= 1\n",
    "            break\n",
    "    \n",
    "    # print(visit)\n",
    "    for i in range(w, 0, -1):\n",
    "        if HC[h] <= 0:\n",
    "            break\n",
    "        if not visit[h][i]:\n",
    "            visit[h][i] = True\n",
    "            HC[h] -= 1\n",
    "            break\n",
    "    for i in range(w, W+1):\n",
    "        if HC[h] <= 0:\n",
    "            break\n",
    "        if not visit[h][i]:\n",
    "            visit[h][i] = True\n",
    "            HC[h] -= 1\n",
    "            break\n",
    "    # print(visit)\n",
    "    return"
   ]
  },
  {
   "cell_type": "code",
   "execution_count": 107,
   "id": "23b41c73-7f13-4792-8aec-ab7d8ede698a",
   "metadata": {
    "tags": []
   },
   "outputs": [
    {
     "ename": "IndexError",
     "evalue": "list index out of range",
     "output_type": "error",
     "traceback": [
      "\u001b[1;31m---------------------------------------------------------------------------\u001b[0m",
      "\u001b[1;31mIndexError\u001b[0m                                Traceback (most recent call last)",
      "Cell \u001b[1;32mIn[107], line 7\u001b[0m\n\u001b[0;32m      4\u001b[0m \u001b[38;5;28;01mfor\u001b[39;00m R, C \u001b[38;5;129;01min\u001b[39;00m RCq:\n\u001b[0;32m      5\u001b[0m     \u001b[38;5;66;03m# print(R, C)\u001b[39;00m\n\u001b[0;32m      6\u001b[0m     \u001b[38;5;28;01mif\u001b[39;00m visit[R][C]:\n\u001b[1;32m----> 7\u001b[0m         solve(R, C)\n\u001b[0;32m      8\u001b[0m     \u001b[38;5;28;01melse\u001b[39;00m:\n\u001b[0;32m      9\u001b[0m         visit[R][C] \u001b[38;5;241m=\u001b[39m \u001b[38;5;28;01mTrue\u001b[39;00m\n",
      "Cell \u001b[1;32mIn[106], line 3\u001b[0m, in \u001b[0;36msolve\u001b[1;34m(h, w)\u001b[0m\n\u001b[0;32m      1\u001b[0m \u001b[38;5;28;01mdef\u001b[39;00m \u001b[38;5;21msolve\u001b[39m(h, w):\n\u001b[0;32m      2\u001b[0m     \u001b[38;5;28;01mfor\u001b[39;00m i \u001b[38;5;129;01min\u001b[39;00m \u001b[38;5;28mrange\u001b[39m(h, \u001b[38;5;241m0\u001b[39m, \u001b[38;5;241m-\u001b[39m\u001b[38;5;241m1\u001b[39m):\n\u001b[1;32m----> 3\u001b[0m         \u001b[38;5;28;01mif\u001b[39;00m WC[w] \u001b[38;5;241m<\u001b[39m\u001b[38;5;241m=\u001b[39m \u001b[38;5;241m0\u001b[39m:\n\u001b[0;32m      4\u001b[0m             \u001b[38;5;28;01mbreak\u001b[39;00m\n\u001b[0;32m      5\u001b[0m         \u001b[38;5;28;01mif\u001b[39;00m \u001b[38;5;129;01mnot\u001b[39;00m visit[i][w]:\n",
      "\u001b[1;31mIndexError\u001b[0m: list index out of range"
     ]
    }
   ],
   "source": [
    "visit = [[0] * (W+1) for _ in range(H+1)]\n",
    "HC = [[W] * (H+1)]\n",
    "WC = [[H] * (W+1)]\n",
    "for R, C in RCq:\n",
    "    # print(R, C)\n",
    "    if visit[R][C]:\n",
    "        solve(R, C)\n",
    "    else:\n",
    "        visit[R][C] = True\n"
   ]
  },
  {
   "cell_type": "code",
   "execution_count": 48,
   "id": "89f561d2-b304-408d-90cc-ca0f0f3f0ee4",
   "metadata": {
    "tags": []
   },
   "outputs": [
    {
     "name": "stdout",
     "output_type": "stream",
     "text": [
      "10\n"
     ]
    }
   ],
   "source": [
    "d = 0\n",
    "for v in visit:\n",
    "    d += sum(v)\n",
    "print(H*W - d)"
   ]
  },
  {
   "cell_type": "code",
   "execution_count": 42,
   "id": "ad3fde75-44e4-46fc-a29f-c7c1cb61899f",
   "metadata": {
    "tags": []
   },
   "outputs": [
    {
     "data": {
      "text/plain": [
       "[[0, 0, 0, 0, 0, 0],\n",
       " [0, 0, True, 0, 0, 0],\n",
       " [0, 0, True, 0, 0, 0],\n",
       " [0, True, True, True, True, True],\n",
       " [0, 0, True, True, 0, 0],\n",
       " [0, 0, 0, 0, 0, 0]]"
      ]
     },
     "execution_count": 42,
     "metadata": {},
     "output_type": "execute_result"
    }
   ],
   "source": [
    "visit"
   ]
  },
  {
   "cell_type": "code",
   "execution_count": 14,
   "id": "cf1ba274-cc6e-4b4e-b874-a2045703b41c",
   "metadata": {
    "tags": []
   },
   "outputs": [],
   "source": [
    "from collections import deque \n",
    "def solve(h, w):\n",
    "    if not visit[R][C]:\n",
    "        visit[R][C] = True\n",
    "        return\n",
    "    q = deque()\n",
    "    q.append([h, w])\n",
    "    while q:\n",
    "        y, x = q.popleft()\n",
    "        print(y, x)\n",
    "        for dy, dx in ((1, 0), (-1, 0), (-1, 0), (1, 0)):\n",
    "            ny = y + dy\n",
    "            nx = x + dx\n",
    "            if nx <= 0 or nx > W:\n",
    "                continue\n",
    "            if ny <= 0 or ny  > H:\n",
    "                continue\n",
    "            if not visit[ny][nx]:\n",
    "                visit[ny][nx] = True\n",
    "                continue\n",
    "            q.append([ny, nx])\n",
    "    return"
   ]
  },
  {
   "cell_type": "code",
   "execution_count": 163,
   "id": "ff0c78f0-7d6f-4be7-8a78-7b71bca1bbe5",
   "metadata": {},
   "outputs": [],
   "source": [
    "# https://github.com/tatyam-prime/SortedSet/blob/main/SortedSet.py\n",
    "import math\n",
    "from bisect import bisect_left, bisect_right\n",
    "from typing import Generic, Iterable, Iterator, List, Tuple, TypeVar, Optional\n",
    "\n",
    "T = TypeVar(\"T\")\n",
    "\n",
    "\n",
    "class SortedSet(Generic[T]):\n",
    "    BUCKET_RATIO = 16\n",
    "    SPLIT_RATIO = 24\n",
    "\n",
    "    def __init__(self, a: Iterable[T] = []) -> None:\n",
    "        \"Make a new SortedSet from iterable. / O(N) if sorted and unique / O(N log N)\"\n",
    "        a = list(a)\n",
    "        n = len(a)\n",
    "        if any(a[i] > a[i + 1] for i in range(n - 1)):\n",
    "            a.sort()\n",
    "        if any(a[i] >= a[i + 1] for i in range(n - 1)):\n",
    "            a, b = [], a\n",
    "            for x in b:\n",
    "                if not a or a[-1] != x:\n",
    "                    a.append(x)\n",
    "        n = self.size = len(a)\n",
    "        num_bucket = int(math.ceil(math.sqrt(n / self.BUCKET_RATIO)))\n",
    "        self.a = [\n",
    "            a[n * i // num_bucket : n * (i + 1) // num_bucket]\n",
    "            for i in range(num_bucket)\n",
    "        ]\n",
    "\n",
    "    def __iter__(self) -> Iterator[T]:\n",
    "        for i in self.a:\n",
    "            for j in i:\n",
    "                yield j\n",
    "\n",
    "    def __reversed__(self) -> Iterator[T]:\n",
    "        for i in reversed(self.a):\n",
    "            for j in reversed(i):\n",
    "                yield j\n",
    "\n",
    "    def __eq__(self, other) -> bool:\n",
    "        return list(self) == list(other)\n",
    "\n",
    "    def __len__(self) -> int:\n",
    "        return self.size\n",
    "\n",
    "    def __repr__(self) -> str:\n",
    "        return \"SortedSet\" + str(self.a)\n",
    "\n",
    "    def __str__(self) -> str:\n",
    "        s = str(list(self))\n",
    "        return \"{\" + s[1 : len(s) - 1] + \"}\"\n",
    "\n",
    "    def _position(self, x: T) -> Tuple[List[T], int, int]:\n",
    "        \"return the bucket, index of the bucket and position in which x should be. self must not be empty.\"\n",
    "        for i, a in enumerate(self.a):\n",
    "            if x <= a[-1]:\n",
    "                break\n",
    "        return (a, i, bisect_left(a, x))\n",
    "\n",
    "    def __contains__(self, x: T) -> bool:\n",
    "        if self.size == 0:\n",
    "            return False\n",
    "        a, _, i = self._position(x)\n",
    "        return i != len(a) and a[i] == x\n",
    "\n",
    "    def add(self, x: T) -> bool:\n",
    "        \"Add an element and return True if added. / O(√N)\"\n",
    "        if self.size == 0:\n",
    "            self.a = [[x]]\n",
    "            self.size = 1\n",
    "            return True\n",
    "        a, b, i = self._position(x)\n",
    "        if i != len(a) and a[i] == x:\n",
    "            return False\n",
    "        a.insert(i, x)\n",
    "        self.size += 1\n",
    "        if len(a) > len(self.a) * self.SPLIT_RATIO:\n",
    "            mid = len(a) >> 1\n",
    "            self.a[b : b + 1] = [a[:mid], a[mid:]]\n",
    "        return True\n",
    "\n",
    "    def _pop(self, a: List[T], b: int, i: int) -> T:\n",
    "        ans = a.pop(i)\n",
    "        self.size -= 1\n",
    "        if not a:\n",
    "            del self.a[b]\n",
    "        return ans\n",
    "\n",
    "    def discard(self, x: T) -> bool:\n",
    "        \"Remove an element and return True if removed. / O(√N)\"\n",
    "        if self.size == 0:\n",
    "            return False\n",
    "        a, b, i = self._position(x)\n",
    "        if i == len(a) or a[i] != x:\n",
    "            return False\n",
    "        self._pop(a, b, i)\n",
    "        return True\n",
    "\n",
    "    def lt(self, x: T) -> Optional[T]:\n",
    "        \"Find the largest element < x, or None if it doesn't exist.\"\n",
    "        for a in reversed(self.a):\n",
    "            if a[0] < x:\n",
    "                return a[bisect_left(a, x) - 1]\n",
    "\n",
    "    def le(self, x: T) -> Optional[T]:\n",
    "        \"Find the largest element <= x, or None if it doesn't exist.\"\n",
    "        for a in reversed(self.a):\n",
    "            if a[0] <= x:\n",
    "                return a[bisect_right(a, x) - 1]\n",
    "\n",
    "    def gt(self, x: T) -> Optional[T]:\n",
    "        \"Find the smallest element > x, or None if it doesn't exist.\"\n",
    "        for a in self.a:\n",
    "            if a[-1] > x:\n",
    "                return a[bisect_right(a, x)]\n",
    "\n",
    "    def ge(self, x: T) -> Optional[T]:\n",
    "        \"Find the smallest element >= x, or None if it doesn't exist.\"\n",
    "        for a in self.a:\n",
    "            if a[-1] >= x:\n",
    "                return a[bisect_left(a, x)]\n",
    "\n",
    "    def __getitem__(self, i: int) -> T:\n",
    "        \"Return the i-th element.\"\n",
    "        if i < 0:\n",
    "            for a in reversed(self.a):\n",
    "                i += len(a)\n",
    "                if i >= 0:\n",
    "                    return a[i]\n",
    "        else:\n",
    "            for a in self.a:\n",
    "                if i < len(a):\n",
    "                    return a[i]\n",
    "                i -= len(a)\n",
    "        raise IndexError\n",
    "\n",
    "    def pop(self, i: int = -1) -> T:\n",
    "        \"Pop and return the i-th element.\"\n",
    "        if i < 0:\n",
    "            for b, a in enumerate(reversed(self.a)):\n",
    "                i += len(a)\n",
    "                if i >= 0:\n",
    "                    return self._pop(a, ~b, i)\n",
    "        else:\n",
    "            for b, a in enumerate(self.a):\n",
    "                if i < len(a):\n",
    "                    return self._pop(a, b, i)\n",
    "                i -= len(a)\n",
    "        raise IndexError\n",
    "\n",
    "    def index(self, x: T) -> int:\n",
    "        \"Count the number of elements < x.\"\n",
    "        ans = 0\n",
    "        for a in self.a:\n",
    "            if a[-1] >= x:\n",
    "                return ans + bisect_left(a, x)\n",
    "            ans += len(a)\n",
    "        return ans\n",
    "\n",
    "    def index_right(self, x: T) -> int:\n",
    "        \"Count the number of elements <= x.\"\n",
    "        ans = 0\n",
    "        for a in self.a:\n",
    "            if a[-1] > x:\n",
    "                return ans + bisect_right(a, x)\n",
    "            ans += len(a)\n",
    "        return ans\n"
   ]
  },
  {
   "cell_type": "code",
   "execution_count": 164,
   "id": "5cf1b8d6-6f59-4d2f-8719-3f89a7074055",
   "metadata": {
    "tags": []
   },
   "outputs": [
    {
     "name": "stdin",
     "output_type": "stream",
     "text": [
      " 5 5 5\n",
      " 3 3\n",
      " 3 3\n",
      " 3 2\n",
      " 2 2\n",
      " 1 2\n"
     ]
    },
    {
     "name": "stdout",
     "output_type": "stream",
     "text": [
      "10\n"
     ]
    }
   ],
   "source": [
    "H, W, Q = map(int, input().split())\n",
    "\n",
    "g1 = [SortedSet() for i in range(H)]\n",
    "g2 = [SortedSet() for j in range(W)]\n",
    "\n",
    "for i in range(H):\n",
    "    for j in range(W):\n",
    "        g1[i].add(j)\n",
    "        g2[j].add(i)\n",
    "\n",
    "\n",
    "def erase(i, j):\n",
    "    assert g1[i].discard(j) == True\n",
    "    assert g2[j].discard(i) == True\n",
    "\n",
    "\n",
    "for _ in range(Q):\n",
    "    R, C = map(int, input().split())\n",
    "    R, C = R - 1, C - 1\n",
    "\n",
    "    if C in g1[R]:\n",
    "        erase(R, C)\n",
    "        continue\n",
    "\n",
    "    j = g1[R].lt(C)\n",
    "    if j != None:\n",
    "        erase(R, j)\n",
    "\n",
    "    j = g1[R].gt(C)\n",
    "    if j != None:\n",
    "        erase(R, j)\n",
    "\n",
    "    i = g2[C].lt(R)\n",
    "    if i != None:\n",
    "        erase(i, C)\n",
    "\n",
    "    i = g2[C].gt(R)\n",
    "    if i != None:\n",
    "        erase(i, C)\n",
    "\n",
    "print(sum([len(g1[i]) for i in range(H)]))\n"
   ]
  },
  {
   "cell_type": "code",
   "execution_count": null,
   "id": "582b482a-41d5-4461-a48a-7f9c07198195",
   "metadata": {},
   "outputs": [],
   "source": []
  }
 ],
 "metadata": {
  "kernelspec": {
   "display_name": "Python 3 (ipykernel)",
   "language": "python",
   "name": "python3"
  },
  "language_info": {
   "codemirror_mode": {
    "name": "ipython",
    "version": 3
   },
   "file_extension": ".py",
   "mimetype": "text/x-python",
   "name": "python",
   "nbconvert_exporter": "python",
   "pygments_lexer": "ipython3",
   "version": "3.11.3"
  }
 },
 "nbformat": 4,
 "nbformat_minor": 5
}
