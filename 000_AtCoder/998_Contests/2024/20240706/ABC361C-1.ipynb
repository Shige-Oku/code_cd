{
 "cells": [
  {
   "cell_type": "code",
   "execution_count": 1,
   "id": "e2a967f6-2c63-4bea-8d60-72f11f9fd97d",
   "metadata": {
    "tags": []
   },
   "outputs": [],
   "source": [
    "import sys\n",
    "import numpy as np\n",
    "import math\n",
    "import collections\n",
    "import copy\n",
    "import decimal\n",
    "import itertools\n",
    "import re\n",
    "import bisect\n",
    "import scipy\n",
    "import heapq\n",
    "from collections import deque \n",
    "from functools import reduce\n",
    "from itertools import product\n",
    "from itertools import combinations\n",
    "from functools import lru_cache\n",
    "from scipy.special import comb\n",
    "from numba import njit\n",
    "from bisect import bisect_right\n",
    "from bisect import bisect_left\n",
    "from atcoder.fenwicktree import FenwickTree\n",
    "from sortedcontainers import SortedList"
   ]
  },
  {
   "cell_type": "code",
   "execution_count": 305,
   "id": "b14786f7-f2c0-4c55-9e65-750cf7da3261",
   "metadata": {
    "tags": []
   },
   "outputs": [
    {
     "name": "stdin",
     "output_type": "stream",
     "text": [
      " 8 3\n"
     ]
    }
   ],
   "source": [
    "N, K = map(int, input().split())"
   ]
  },
  {
   "cell_type": "code",
   "execution_count": 306,
   "id": "70ef823c-5062-4c8e-be56-b97ff0892fa7",
   "metadata": {
    "tags": []
   },
   "outputs": [
    {
     "name": "stdin",
     "output_type": "stream",
     "text": [
      " 31 43 26 6 18 36 22 13\n"
     ]
    }
   ],
   "source": [
    "An = list(map(int, input().split()))"
   ]
  },
  {
   "cell_type": "code",
   "execution_count": 307,
   "id": "54a1f09e-4c8c-4ef4-9af1-5cd8afdfc1b4",
   "metadata": {
    "tags": []
   },
   "outputs": [],
   "source": [
    "An_s = sorted(An)\n",
    "ans = 10**20\n",
    "cnt = N - K - 1\n",
    "for i in range(K+1):\n",
    "    ans = min(ans, An_s[i+cnt] - An_s[i])"
   ]
  },
  {
   "cell_type": "code",
   "execution_count": 308,
   "id": "0824372e-699c-4242-b87c-0871e32ee814",
   "metadata": {
    "tags": []
   },
   "outputs": [
    {
     "name": "stdout",
     "output_type": "stream",
     "text": [
      "18\n"
     ]
    }
   ],
   "source": [
    "print(ans)"
   ]
  },
  {
   "cell_type": "code",
   "execution_count": 269,
   "id": "9d7b0e37-047b-4e3c-b499-fbd00d4e1e10",
   "metadata": {
    "tags": []
   },
   "outputs": [
    {
     "name": "stdout",
     "output_type": "stream",
     "text": [
      "0\n"
     ]
    }
   ],
   "source": [
    "print(0 if ans == 10**20 else ans)"
   ]
  },
  {
   "cell_type": "code",
   "execution_count": 270,
   "id": "25e29e8c-9a21-44b3-b9c2-c1c38787f6ee",
   "metadata": {
    "tags": []
   },
   "outputs": [
    {
     "data": {
      "text/plain": [
       "1"
      ]
     },
     "execution_count": 270,
     "metadata": {},
     "output_type": "execute_result"
    }
   ],
   "source": [
    "i"
   ]
  },
  {
   "cell_type": "code",
   "execution_count": 309,
   "id": "20b7f825-2e09-4197-9a6f-28972bfd12f6",
   "metadata": {
    "tags": []
   },
   "outputs": [],
   "source": [
    "An_s = sorted(An)\n",
    "ans = 10**20\n",
    "for mi, ma in zip(range(K+1), range(N-K-1, N)):\n",
    "    # print(mi, ma)\n",
    "    ans = min(ans, An_s[ma] - An_s[mi])\n",
    "    # print(An_s[ma], An_s[mi], ans)"
   ]
  },
  {
   "cell_type": "code",
   "execution_count": 274,
   "id": "760d7287-265d-4f53-be9c-8574feea2a06",
   "metadata": {
    "tags": []
   },
   "outputs": [
    {
     "name": "stdout",
     "output_type": "stream",
     "text": [
      "0\n"
     ]
    }
   ],
   "source": [
    "print(ans)"
   ]
  },
  {
   "cell_type": "code",
   "execution_count": 219,
   "id": "d79aba95-39db-4d6a-85b8-1001c9f53007",
   "metadata": {
    "tags": []
   },
   "outputs": [
    {
     "data": {
      "text/plain": [
       "[6, 13, 18, 22, 26, 31, 36, 43]"
      ]
     },
     "execution_count": 219,
     "metadata": {},
     "output_type": "execute_result"
    }
   ],
   "source": [
    "An_s"
   ]
  },
  {
   "cell_type": "code",
   "execution_count": 201,
   "id": "ee5be2dc-9fc1-4dc4-8c80-5035868d4833",
   "metadata": {
    "tags": []
   },
   "outputs": [],
   "source": [
    "An_s = sorted(An)\n",
    "ans = An_s[N-K-1] - An_s[0]\n",
    "mi = 1\n",
    "for i in range(N-K, N):\n",
    "    c = An_s[i] - An_s[mi]\n",
    "    ans = min(ans, c)\n",
    "    # print(i, An_s[i], An_s[mi], c, ans)\n",
    "    mi += 1\n"
   ]
  },
  {
   "cell_type": "code",
   "execution_count": 202,
   "id": "4dd2fbfc-4178-4a5b-b0c8-59a245b82940",
   "metadata": {
    "tags": []
   },
   "outputs": [
    {
     "name": "stdout",
     "output_type": "stream",
     "text": [
      "0\n"
     ]
    }
   ],
   "source": [
    "print(ans)"
   ]
  },
  {
   "cell_type": "code",
   "execution_count": 188,
   "id": "973bdf84-2619-4cee-b924-f597dca648d8",
   "metadata": {
    "tags": []
   },
   "outputs": [
    {
     "data": {
      "text/plain": [
       "([1, 3, 4, 5, 9], 3)"
      ]
     },
     "execution_count": 188,
     "metadata": {},
     "output_type": "execute_result"
    }
   ],
   "source": [
    "An_s, ans"
   ]
  },
  {
   "cell_type": "code",
   "execution_count": 189,
   "id": "cecff113-851a-43bf-abed-75f82b5ef436",
   "metadata": {
    "tags": []
   },
   "outputs": [
    {
     "data": {
      "text/plain": [
       "3"
      ]
     },
     "execution_count": 189,
     "metadata": {},
     "output_type": "execute_result"
    }
   ],
   "source": [
    "An_s[N-K-1] - An_s[0]"
   ]
  },
  {
   "cell_type": "code",
   "execution_count": 150,
   "id": "b9986718-bf33-446e-8fe2-fedbc8876d20",
   "metadata": {
    "tags": []
   },
   "outputs": [],
   "source": [
    "from itertools import accumulate\n",
    "An_s = sorted(An)\n",
    "An_d = []\n",
    "for i in range(1, N):\n",
    "    An_d.append(An_s[i] - An_s[i-1])\n",
    "ans = sum(An_d[:N-K-1])\n",
    "di = 0\n",
    "for i in range(N-K-1, len(An_d)):\n",
    "    # print(i, An_d[di], An_d[i])\n",
    "    c = ans\n",
    "    # print(c)\n",
    "    c -= An_d[di]\n",
    "    # print(c)\n",
    "    c += An_d[i]\n",
    "    ans = min(ans, c)\n",
    "    # print(ans, c)\n",
    "    di += 1"
   ]
  },
  {
   "cell_type": "code",
   "execution_count": 151,
   "id": "28bb31c7-7ec0-4eb5-9dde-3a26514b34a8",
   "metadata": {
    "tags": []
   },
   "outputs": [
    {
     "name": "stdout",
     "output_type": "stream",
     "text": [
      "0\n"
     ]
    }
   ],
   "source": [
    "print(ans)"
   ]
  },
  {
   "cell_type": "code",
   "execution_count": 133,
   "id": "94d008d2-b4c9-4af0-8639-e5eeb88108cf",
   "metadata": {
    "tags": []
   },
   "outputs": [
    {
     "data": {
      "text/plain": [
       "[7, 5, 4, 4, 5, 5, 7]"
      ]
     },
     "execution_count": 133,
     "metadata": {},
     "output_type": "execute_result"
    }
   ],
   "source": [
    "An_d"
   ]
  },
  {
   "cell_type": "code",
   "execution_count": 73,
   "id": "c4a21342-6368-4e4d-8eed-3df73c023fca",
   "metadata": {
    "tags": []
   },
   "outputs": [
    {
     "data": {
      "text/plain": [
       "[6, 13, 18, 22, 26, 31, 36, 43]"
      ]
     },
     "execution_count": 73,
     "metadata": {},
     "output_type": "execute_result"
    }
   ],
   "source": [
    "An_s"
   ]
  },
  {
   "cell_type": "code",
   "execution_count": 137,
   "id": "d45ce7f4-1f09-48ae-86ee-ade10243d309",
   "metadata": {
    "tags": []
   },
   "outputs": [
    {
     "data": {
      "text/plain": [
       "(20, 6)"
      ]
     },
     "execution_count": 137,
     "metadata": {},
     "output_type": "execute_result"
    }
   ],
   "source": [
    "sum(An_d[:N-K-1]), i"
   ]
  },
  {
   "cell_type": "code",
   "execution_count": 34,
   "id": "9db280e1-7271-42d8-9b82-08d4c72fde8e",
   "metadata": {
    "tags": []
   },
   "outputs": [],
   "source": [
    "\n",
    "ave = sum(An) / N\n",
    "Bn = []\n",
    "for i, A in enumerate(An):\n",
    "    Bn.append([abs(A-ave), i])\n",
    "Bn_s = sorted(Bn, reverse=True)"
   ]
  },
  {
   "cell_type": "code",
   "execution_count": 35,
   "id": "5ba5198e-af59-4201-9bd4-bd339bdafe6b",
   "metadata": {
    "tags": []
   },
   "outputs": [
    {
     "name": "stdout",
     "output_type": "stream",
     "text": [
      "18\n"
     ]
    }
   ],
   "source": [
    "ans = []\n",
    "for B, i in Bn_s[K:]:\n",
    "    ans.append(An[i])\n",
    "print(max(ans) - min(ans))"
   ]
  },
  {
   "cell_type": "code",
   "execution_count": 27,
   "id": "318b1e99-7f1f-4fe6-9c1a-2d698ac37265",
   "metadata": {
    "tags": []
   },
   "outputs": [
    {
     "name": "stdout",
     "output_type": "stream",
     "text": [
      "0\n"
     ]
    }
   ],
   "source": [
    "print(ma-mi)"
   ]
  },
  {
   "cell_type": "code",
   "execution_count": 25,
   "id": "207e5ff7-76bc-4593-87cd-1c6da71949bc",
   "metadata": {
    "tags": []
   },
   "outputs": [
    {
     "name": "stdout",
     "output_type": "stream",
     "text": [
      "5 3\n"
     ]
    }
   ],
   "source": [
    "print(max(ans), min(ans))"
   ]
  },
  {
   "cell_type": "code",
   "execution_count": 5,
   "id": "1c8274df-d9c4-4f56-aa79-4f36883636e2",
   "metadata": {
    "tags": []
   },
   "outputs": [
    {
     "data": {
      "text/plain": [
       "4.4"
      ]
     },
     "execution_count": 5,
     "metadata": {},
     "output_type": "execute_result"
    }
   ],
   "source": [
    "ave"
   ]
  },
  {
   "cell_type": "code",
   "execution_count": 8,
   "id": "8188d65c-6505-4aa7-8985-e752848d39b5",
   "metadata": {
    "tags": []
   },
   "outputs": [
    {
     "data": {
      "text/plain": [
       "[[1.4000000000000004, 0],\n",
       " [3.4000000000000004, 1],\n",
       " [0.5999999999999996, 2],\n",
       " [0.40000000000000036, 3],\n",
       " [4.6, 4]]"
      ]
     },
     "execution_count": 8,
     "metadata": {},
     "output_type": "execute_result"
    }
   ],
   "source": [
    "Bn"
   ]
  },
  {
   "cell_type": "code",
   "execution_count": 10,
   "id": "f0d6395b-9109-450c-b6af-7e3bdfe5c93a",
   "metadata": {
    "tags": []
   },
   "outputs": [
    {
     "data": {
      "text/plain": [
       "[[4.6, 4],\n",
       " [3.4000000000000004, 1],\n",
       " [1.4000000000000004, 0],\n",
       " [0.5999999999999996, 2],\n",
       " [0.40000000000000036, 3]]"
      ]
     },
     "execution_count": 10,
     "metadata": {},
     "output_type": "execute_result"
    }
   ],
   "source": [
    "Bn_s"
   ]
  },
  {
   "cell_type": "code",
   "execution_count": 17,
   "id": "aee27592-e592-4589-976e-d100586049a4",
   "metadata": {
    "tags": []
   },
   "outputs": [
    {
     "data": {
      "text/plain": [
       "[[4.6, 4],\n",
       " [3.4000000000000004, 1],\n",
       " [1.4000000000000004, 0],\n",
       " [0.5999999999999996, 2],\n",
       " [0.40000000000000036, 3]]"
      ]
     },
     "execution_count": 17,
     "metadata": {},
     "output_type": "execute_result"
    }
   ],
   "source": [
    "Bn_s"
   ]
  },
  {
   "cell_type": "code",
   "execution_count": 21,
   "id": "e0cc7219-174a-44b7-a348-3d9d12c87104",
   "metadata": {
    "tags": []
   },
   "outputs": [
    {
     "data": {
      "text/plain": [
       "(3, 3)"
      ]
     },
     "execution_count": 21,
     "metadata": {},
     "output_type": "execute_result"
    }
   ],
   "source": [
    "ma, mi"
   ]
  },
  {
   "cell_type": "code",
   "execution_count": null,
   "id": "557564b3-0614-45db-8146-bbcaf2176a24",
   "metadata": {},
   "outputs": [],
   "source": []
  }
 ],
 "metadata": {
  "kernelspec": {
   "display_name": "Python 3 (ipykernel)",
   "language": "python",
   "name": "python3"
  },
  "language_info": {
   "codemirror_mode": {
    "name": "ipython",
    "version": 3
   },
   "file_extension": ".py",
   "mimetype": "text/x-python",
   "name": "python",
   "nbconvert_exporter": "python",
   "pygments_lexer": "ipython3",
   "version": "3.11.3"
  }
 },
 "nbformat": 4,
 "nbformat_minor": 5
}
