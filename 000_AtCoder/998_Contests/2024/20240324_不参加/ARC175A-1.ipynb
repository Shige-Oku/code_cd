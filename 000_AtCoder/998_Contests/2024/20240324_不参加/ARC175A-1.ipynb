{
 "cells": [
  {
   "cell_type": "code",
   "execution_count": null,
   "id": "795a1cea-fc45-4d3d-b893-0c697dc6c0c6",
   "metadata": {},
   "outputs": [],
   "source": [
    "# WA"
   ]
  },
  {
   "cell_type": "code",
   "execution_count": 80,
   "id": "d3073bd7-39c2-4b55-9ee2-0b313055b4e5",
   "metadata": {
    "tags": []
   },
   "outputs": [
    {
     "name": "stdin",
     "output_type": "stream",
     "text": [
      " 7 2622 26092458\n"
     ]
    }
   ],
   "source": [
    "N, A, B = map(int, input().split())"
   ]
  },
  {
   "cell_type": "code",
   "execution_count": 81,
   "id": "73082a85-ef0e-47ff-bb56-7584baa35ce7",
   "metadata": {
    "tags": []
   },
   "outputs": [
    {
     "name": "stdin",
     "output_type": "stream",
     "text": [
      " ))()((((()()((\n"
     ]
    }
   ],
   "source": [
    "S = input()"
   ]
  },
  {
   "cell_type": "code",
   "execution_count": 129,
   "id": "2b804750-d5a6-4ae0-9e2f-1588f6250dd1",
   "metadata": {
    "tags": []
   },
   "outputs": [],
   "source": [
    "lc = S.count('(')\n",
    "rc = N * 2 - lc\n",
    "ans = abs(lc - rc) // 2 * B\n",
    "c = abs(lc - rc) // 2"
   ]
  },
  {
   "cell_type": "code",
   "execution_count": 130,
   "id": "db261cc5-2959-4e23-a9f0-32e1b6d552f4",
   "metadata": {
    "tags": []
   },
   "outputs": [],
   "source": [
    "if lc > rc:\n",
    "    cm = '('\n",
    "    ch = ')'\n",
    "    S2 = S[::-1]\n",
    "else:\n",
    "    cm = ')'\n",
    "    ch = '('\n",
    "    S2 = S\n",
    "cnt = 0\n",
    "S3 = \"\"\n",
    "for s in S2:\n",
    "    if cnt >= c:\n",
    "        S3 += s\n",
    "    else:\n",
    "        if s == cm:\n",
    "            S3 += ch\n",
    "        else:\n",
    "            S3 += s\n",
    "        cnt += 1"
   ]
  },
  {
   "cell_type": "code",
   "execution_count": 131,
   "id": "a02aff27-5dcd-4e9b-acd9-f7061920f271",
   "metadata": {
    "tags": []
   },
   "outputs": [],
   "source": [
    "S4 = S3[::-1] if lc > rc else S3\n",
    "p = 0\n",
    "ng = 0\n",
    "for s in S4:\n",
    "    if s == '(':\n",
    "        p += 1\n",
    "    else:\n",
    "        p -= 1\n",
    "    if p < 0:\n",
    "        ng = max(ng, -p)\n",
    "else:\n",
    "    if p > 0:\n",
    "        ng = max(ng, p)"
   ]
  },
  {
   "cell_type": "code",
   "execution_count": 132,
   "id": "1db5388a-36e0-4e8e-bfc0-1fce76cccca4",
   "metadata": {
    "tags": []
   },
   "outputs": [
    {
     "name": "stdout",
     "output_type": "stream",
     "text": [
      "52187538\n"
     ]
    }
   ],
   "source": [
    "ans += min((ng+1)//2*A,  (ng+1)//2*B)\n",
    "print(ans)"
   ]
  },
  {
   "cell_type": "code",
   "execution_count": 128,
   "id": "3aeea837-abe7-4f9c-bf78-4565e4d30078",
   "metadata": {
    "tags": []
   },
   "outputs": [
    {
     "data": {
      "text/plain": [
       "-15732"
      ]
     },
     "execution_count": 128,
     "metadata": {},
     "output_type": "execute_result"
    }
   ],
   "source": [
    "52187538 - ans"
   ]
  },
  {
   "cell_type": "code",
   "execution_count": 120,
   "id": "5d8635ee-6006-4704-aa7e-4f10ad63aed5",
   "metadata": {
    "tags": []
   },
   "outputs": [
    {
     "data": {
      "text/plain": [
       "52200648"
      ]
     },
     "execution_count": 120,
     "metadata": {},
     "output_type": "execute_result"
    }
   ],
   "source": [
    "ans"
   ]
  },
  {
   "cell_type": "code",
   "execution_count": 125,
   "id": "5207adfd-ed1c-4971-b734-ed233bf4efa2",
   "metadata": {
    "tags": []
   },
   "outputs": [
    {
     "data": {
      "text/plain": [
       "'))()((((()()))'"
      ]
     },
     "execution_count": 125,
     "metadata": {},
     "output_type": "execute_result"
    }
   ],
   "source": [
    "S4"
   ]
  },
  {
   "cell_type": "code",
   "execution_count": 22,
   "id": "eaca5c34-db23-4e60-a00c-a83e26807994",
   "metadata": {
    "tags": []
   },
   "outputs": [
    {
     "data": {
      "text/plain": [
       "')'"
      ]
     },
     "execution_count": 22,
     "metadata": {},
     "output_type": "execute_result"
    }
   ],
   "source": [
    "c1"
   ]
  },
  {
   "cell_type": "code",
   "execution_count": 23,
   "id": "d49be544-b98c-496a-9b75-ea754ae7a6e4",
   "metadata": {
    "tags": []
   },
   "outputs": [
    {
     "data": {
      "text/plain": [
       "'('"
      ]
     },
     "execution_count": 23,
     "metadata": {},
     "output_type": "execute_result"
    }
   ],
   "source": [
    "c2"
   ]
  },
  {
   "cell_type": "code",
   "execution_count": 113,
   "id": "cb6abb21-41c5-401c-b3b0-2ae546a8c3d2",
   "metadata": {
    "tags": []
   },
   "outputs": [
    {
     "data": {
      "text/plain": [
       "2"
      ]
     },
     "execution_count": 113,
     "metadata": {},
     "output_type": "execute_result"
    }
   ],
   "source": [
    "c"
   ]
  },
  {
   "cell_type": "code",
   "execution_count": 115,
   "id": "1e6ec892-4c46-4602-a17d-ce4f125f2bad",
   "metadata": {
    "tags": []
   },
   "outputs": [
    {
     "data": {
      "text/plain": [
       "'))()((((()()(('"
      ]
     },
     "execution_count": 115,
     "metadata": {},
     "output_type": "execute_result"
    }
   ],
   "source": [
    "S"
   ]
  },
  {
   "cell_type": "code",
   "execution_count": 122,
   "id": "54ec3e3e-605c-458a-bd79-16d7e48d29f9",
   "metadata": {
    "tags": []
   },
   "outputs": [
    {
     "data": {
      "text/plain": [
       "')))()((((()())'"
      ]
     },
     "execution_count": 122,
     "metadata": {},
     "output_type": "execute_result"
    }
   ],
   "source": [
    "S3"
   ]
  },
  {
   "cell_type": "code",
   "execution_count": 114,
   "id": "9f1ffb2d-ebf4-44bd-a6dd-2b58481222e1",
   "metadata": {
    "tags": []
   },
   "outputs": [
    {
     "data": {
      "text/plain": [
       "'(()()((((()())'"
      ]
     },
     "execution_count": 114,
     "metadata": {},
     "output_type": "execute_result"
    }
   ],
   "source": [
    "S2"
   ]
  },
  {
   "cell_type": "code",
   "execution_count": 126,
   "id": "fff12259-4aae-4741-a227-6d10b0a3e711",
   "metadata": {
    "tags": []
   },
   "outputs": [
    {
     "data": {
      "text/plain": [
       "2"
      ]
     },
     "execution_count": 126,
     "metadata": {},
     "output_type": "execute_result"
    }
   ],
   "source": [
    "ng"
   ]
  },
  {
   "cell_type": "code",
   "execution_count": 11,
   "id": "5647cb91-1f82-4f55-a957-bdc1b7d36296",
   "metadata": {
    "tags": []
   },
   "outputs": [],
   "source": [
    "cc = ['(' if lc > rc else ')']"
   ]
  },
  {
   "cell_type": "code",
   "execution_count": 12,
   "id": "160eef77-ee66-4ca9-81d5-bc311a4671ab",
   "metadata": {
    "tags": []
   },
   "outputs": [
    {
     "data": {
      "text/plain": [
       "[')']"
      ]
     },
     "execution_count": 12,
     "metadata": {},
     "output_type": "execute_result"
    }
   ],
   "source": [
    "cc"
   ]
  },
  {
   "cell_type": "code",
   "execution_count": 97,
   "id": "83f31d76-76b0-4efd-9d5c-3200275d4ace",
   "metadata": {
    "tags": []
   },
   "outputs": [
    {
     "data": {
      "text/plain": [
       "True"
      ]
     },
     "execution_count": 97,
     "metadata": {},
     "output_type": "execute_result"
    }
   ],
   "source": [
    "S3 == S[::-1]"
   ]
  },
  {
   "cell_type": "code",
   "execution_count": 54,
   "id": "c630e2f7-6ea7-4d07-ba73-6b8d772171d4",
   "metadata": {
    "tags": []
   },
   "outputs": [
    {
     "data": {
      "text/plain": [
       "')(())('"
      ]
     },
     "execution_count": 54,
     "metadata": {},
     "output_type": "execute_result"
    }
   ],
   "source": [
    "S3[::-1]"
   ]
  },
  {
   "cell_type": "code",
   "execution_count": 123,
   "id": "5acd6537-82d1-4eb0-bdac-41ebf4a73331",
   "metadata": {
    "tags": []
   },
   "outputs": [
    {
     "data": {
      "text/plain": [
       "7"
      ]
     },
     "execution_count": 123,
     "metadata": {},
     "output_type": "execute_result"
    }
   ],
   "source": [
    "S3.count('(')"
   ]
  },
  {
   "cell_type": "code",
   "execution_count": 124,
   "id": "9e733463-95d6-486f-8048-dc799400f26b",
   "metadata": {
    "tags": []
   },
   "outputs": [
    {
     "data": {
      "text/plain": [
       "7"
      ]
     },
     "execution_count": 124,
     "metadata": {},
     "output_type": "execute_result"
    }
   ],
   "source": [
    "S3.count(')')"
   ]
  },
  {
   "cell_type": "code",
   "execution_count": 21,
   "id": "f6c6828e-46a8-40e1-a82a-89ec14bc823c",
   "metadata": {
    "tags": []
   },
   "outputs": [
    {
     "data": {
      "text/plain": [
       "(')', '(')"
      ]
     },
     "execution_count": 21,
     "metadata": {},
     "output_type": "execute_result"
    }
   ],
   "source": [
    "c1, c2"
   ]
  },
  {
   "cell_type": "code",
   "execution_count": 57,
   "id": "626284ab-ad29-4aab-b5dc-e7752d1fbcac",
   "metadata": {
    "tags": []
   },
   "outputs": [
    {
     "data": {
      "text/plain": [
       "')))(()'"
      ]
     },
     "execution_count": 57,
     "metadata": {},
     "output_type": "execute_result"
    }
   ],
   "source": [
    "S2"
   ]
  },
  {
   "cell_type": "code",
   "execution_count": 41,
   "id": "1ef0a32c-e3fd-40e8-8600-a584686381a4",
   "metadata": {
    "tags": []
   },
   "outputs": [
    {
     "data": {
      "text/plain": [
       "(2, 3)"
      ]
     },
     "execution_count": 41,
     "metadata": {},
     "output_type": "execute_result"
    }
   ],
   "source": [
    "c, cnt"
   ]
  },
  {
   "cell_type": "code",
   "execution_count": 95,
   "id": "6bb08f01-2388-4901-b840-9ab6bd982a84",
   "metadata": {
    "tags": []
   },
   "outputs": [
    {
     "data": {
      "text/plain": [
       "(9, 5)"
      ]
     },
     "execution_count": 95,
     "metadata": {},
     "output_type": "execute_result"
    }
   ],
   "source": [
    "lc, rc"
   ]
  },
  {
   "cell_type": "code",
   "execution_count": null,
   "id": "74e34d66-b543-4935-b0ed-7e0737668592",
   "metadata": {},
   "outputs": [],
   "source": []
  }
 ],
 "metadata": {
  "kernelspec": {
   "display_name": "Python 3 (ipykernel)",
   "language": "python",
   "name": "python3"
  },
  "language_info": {
   "codemirror_mode": {
    "name": "ipython",
    "version": 3
   },
   "file_extension": ".py",
   "mimetype": "text/x-python",
   "name": "python",
   "nbconvert_exporter": "python",
   "pygments_lexer": "ipython3",
   "version": "3.11.3"
  }
 },
 "nbformat": 4,
 "nbformat_minor": 5
}
