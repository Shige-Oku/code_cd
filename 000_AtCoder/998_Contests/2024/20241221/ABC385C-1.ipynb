{
 "cells": [
  {
   "cell_type": "code",
   "execution_count": 1,
   "id": "22062883-acce-46e0-a029-be411f1c57d1",
   "metadata": {
    "tags": []
   },
   "outputs": [],
   "source": [
    "import sys\n",
    "import numpy as np\n",
    "import math\n",
    "import collections\n",
    "import copy\n",
    "import decimal\n",
    "import itertools\n",
    "import re\n",
    "import bisect\n",
    "import scipy\n",
    "import heapq\n",
    "from collections import deque \n",
    "from functools import reduce\n",
    "from itertools import product\n",
    "from itertools import combinations\n",
    "from functools import lru_cache\n",
    "from scipy.special import comb\n",
    "from numba import njit\n",
    "from bisect import bisect_right\n",
    "from bisect import bisect_left\n",
    "from atcoder.fenwicktree import FenwickTree\n",
    "from sortedcontainers import SortedSet, SortedList, SortedDict"
   ]
  },
  {
   "cell_type": "code",
   "execution_count": 29,
   "id": "cbdd8249-a10f-40ee-bee7-d27edc5a2c47",
   "metadata": {
    "tags": []
   },
   "outputs": [
    {
     "name": "stdin",
     "output_type": "stream",
     "text": [
      " 32\n"
     ]
    }
   ],
   "source": [
    "N = int(input())"
   ]
  },
  {
   "cell_type": "code",
   "execution_count": 30,
   "id": "2537808e-e501-4a3c-9fb4-979ef7148440",
   "metadata": {
    "tags": []
   },
   "outputs": [
    {
     "name": "stdin",
     "output_type": "stream",
     "text": [
      " 3 1 4 1 5 9 2 6 5 3 5 8 9 7 9 3 2 3 8 4 6 2 6 4 3 3 8 3 2 7 9 5\n"
     ]
    }
   ],
   "source": [
    "Hn = list(map(int, input().split()))"
   ]
  },
  {
   "cell_type": "code",
   "execution_count": 31,
   "id": "3a16b5c2-f6ce-4e4a-80bf-02e5f656ab9c",
   "metadata": {
    "tags": []
   },
   "outputs": [],
   "source": [
    "Hn2 = [set() for _ in range(5000)]\n",
    "for i, H in enumerate(Hn):\n",
    "    Hn2[H].add(i)"
   ]
  },
  {
   "cell_type": "code",
   "execution_count": 32,
   "id": "eed1f0fa-1ccd-45ab-8900-ce3b26559f7d",
   "metadata": {
    "tags": []
   },
   "outputs": [],
   "source": [
    "from collections import Counter \n",
    "ans = 1\n",
    "for i in range(len(Hn2)):\n",
    "    if len(Hn2[i]) == 0:\n",
    "        continue\n",
    "    ni = list(Hn2[i])\n",
    "    for n in ni:\n",
    "        c = 0\n",
    "        for j in range(1, 3001):\n",
    "            m = 0\n",
    "            for k in range(3001):\n",
    "                if n + j * k not in Hn2[i]:\n",
    "                    break\n",
    "                m += 1\n",
    "            c = max(c, m)\n",
    "        ans = max(ans, c)\n",
    "    # print(i, sa, sa_c, m, ans)"
   ]
  },
  {
   "cell_type": "code",
   "execution_count": 33,
   "id": "14d83826-1761-4bc7-bcd1-942189d16f46",
   "metadata": {
    "tags": []
   },
   "outputs": [
    {
     "name": "stdout",
     "output_type": "stream",
     "text": [
      "3\n"
     ]
    }
   ],
   "source": [
    "print(ans)"
   ]
  },
  {
   "cell_type": "code",
   "execution_count": 28,
   "id": "6f8ea0b8-9c81-42ea-b723-0d125c7e11e8",
   "metadata": {
    "tags": []
   },
   "outputs": [
    {
     "data": {
      "text/plain": [
       "[set(), set(), set(), set(), set()]"
      ]
     },
     "execution_count": 28,
     "metadata": {},
     "output_type": "execute_result"
    }
   ],
   "source": [
    "Hn2[4:9]"
   ]
  },
  {
   "cell_type": "code",
   "execution_count": 13,
   "id": "f6a37b8f-ece6-4ec0-b3bf-f950eb4352ff",
   "metadata": {
    "tags": []
   },
   "outputs": [
    {
     "data": {
      "text/plain": [
       "5000"
      ]
     },
     "execution_count": 13,
     "metadata": {},
     "output_type": "execute_result"
    }
   ],
   "source": [
    "i"
   ]
  },
  {
   "cell_type": "code",
   "execution_count": null,
   "id": "068227a8-1d1b-49d9-8737-1ab44e82280c",
   "metadata": {},
   "outputs": [],
   "source": []
  }
 ],
 "metadata": {
  "kernelspec": {
   "display_name": "Python 3 (ipykernel)",
   "language": "python",
   "name": "python3"
  },
  "language_info": {
   "codemirror_mode": {
    "name": "ipython",
    "version": 3
   },
   "file_extension": ".py",
   "mimetype": "text/x-python",
   "name": "python",
   "nbconvert_exporter": "python",
   "pygments_lexer": "ipython3",
   "version": "3.11.3"
  }
 },
 "nbformat": 4,
 "nbformat_minor": 5
}
