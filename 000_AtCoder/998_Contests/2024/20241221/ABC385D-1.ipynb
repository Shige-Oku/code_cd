{
 "cells": [
  {
   "cell_type": "code",
   "execution_count": 1,
   "id": "a9b608c4-8793-4d10-b2d4-61ac45527951",
   "metadata": {
    "tags": []
   },
   "outputs": [],
   "source": [
    "import sys\n",
    "import numpy as np\n",
    "import math\n",
    "import collections\n",
    "import copy\n",
    "import decimal\n",
    "import itertools\n",
    "import re\n",
    "import bisect\n",
    "import scipy\n",
    "import heapq\n",
    "from collections import deque \n",
    "from functools import reduce\n",
    "from itertools import product\n",
    "from itertools import combinations\n",
    "from functools import lru_cache\n",
    "from scipy.special import comb\n",
    "from numba import njit\n",
    "from bisect import bisect_right\n",
    "from bisect import bisect_left\n",
    "from atcoder.fenwicktree import FenwickTree\n",
    "from sortedcontainers import SortedSet, SortedList, SortedDict"
   ]
  },
  {
   "cell_type": "code",
   "execution_count": 2,
   "id": "e4ffd753-403a-48a6-b596-75843e6f5200",
   "metadata": {
    "tags": []
   },
   "outputs": [
    {
     "name": "stdin",
     "output_type": "stream",
     "text": [
      " 3 4 3 2\n"
     ]
    }
   ],
   "source": [
    "N, M, Sx, Sy = map(int, input().split())"
   ]
  },
  {
   "cell_type": "code",
   "execution_count": 3,
   "id": "8829e6c5-27fc-4c52-90af-9ba5afa4ccb9",
   "metadata": {
    "tags": []
   },
   "outputs": [
    {
     "name": "stdin",
     "output_type": "stream",
     "text": [
      " 2 2\n",
      " 3 3\n",
      " 2 1\n"
     ]
    }
   ],
   "source": [
    "XYn = [list(map(int, input().split())) for _ in range(N)]"
   ]
  },
  {
   "cell_type": "code",
   "execution_count": 5,
   "id": "3a57a3a3-6b2a-4c8c-ac78-d7c6d1c2b9cd",
   "metadata": {
    "tags": []
   },
   "outputs": [
    {
     "name": "stdin",
     "output_type": "stream",
     "text": [
      " L 2\n",
      " D 1\n",
      " R 1\n",
      " U 2\n"
     ]
    }
   ],
   "source": [
    "DCn = [list(input().split()) for _ in range(M)]"
   ]
  },
  {
   "cell_type": "code",
   "execution_count": 8,
   "id": "1ce6aadb-5d72-49fc-a87b-904b86ddc0ce",
   "metadata": {
    "tags": []
   },
   "outputs": [],
   "source": [
    "di_x, di_y = {}, {}\n",
    "for X, Y in XYn:\n",
    "    if X in di_x:\n",
    "        di_x[X].append(Y)\n",
    "    else:\n",
    "        di_x[X] = [Y, ]\n",
    "        \n",
    "    if Y in di_y:\n",
    "        di_y[y].append(X)\n",
    "    else:\n",
    "        di_y[Y] = [X, ]        \n",
    "for k, v in di_x.items():\n",
    "    di_x[k] = sorted(v)\n",
    "for k, v in di_y.items():\n",
    "    di_y[k] = sorted(v)\n",
    "    "
   ]
  },
  {
   "cell_type": "code",
   "execution_count": 16,
   "id": "c328c1d0-56e2-4243-881f-e69b362b5a20",
   "metadata": {
    "tags": []
   },
   "outputs": [],
   "source": [
    "from  bisect import bisect_left\n",
    "def solve(s, e, p, di, f):\n",
    "    if p not in di:\n",
    "        return\n",
    "    li = di[p]\n",
    "    if s > e:\n",
    "        s, e = e, s\n",
    "    si = bisect_left(li, s)\n",
    "    ei = bisect_left(li, e)\n",
    "    for i in range(si, ei+1):\n",
    "        if i >= len(li):\n",
    "            return\n",
    "        if li[i] > e:\n",
    "            break\n",
    "        if f:\n",
    "            ans.add((p, li[i]))\n",
    "        else:\n",
    "            ans.add((li[i], p))"
   ]
  },
  {
   "cell_type": "code",
   "execution_count": 35,
   "id": "5f1ced21-cf37-465b-bbc2-7dac03a1abfd",
   "metadata": {
    "tags": []
   },
   "outputs": [],
   "source": [
    "ans = set()\n",
    "sx, sy = Sx, Sy\n",
    "for D, C in DCn:\n",
    "    # print(D, C, sx, sy)\n",
    "    C = int(C)\n",
    "    nx, ny = sx, sy\n",
    "    if D == 'U':\n",
    "        ny += C\n",
    "        solve(sy, ny, sx, di_x, False)\n",
    "    elif D == 'D':\n",
    "        ny -= C\n",
    "        solve(sy, ny, sx, di_x, False)\n",
    "    elif D == 'L':\n",
    "        nx -= C\n",
    "        solve(sx, nx, sy, di_y, True)\n",
    "    else:\n",
    "        nx += C\n",
    "        solve(sx, nx, sy, di_y, True)\n",
    "    sx, sy = nx, ny\n",
    "    # print(sx, sy, nx, ny, ans)"
   ]
  },
  {
   "cell_type": "code",
   "execution_count": 36,
   "id": "d6d451a7-9721-4fc5-b6dd-799177afdbcc",
   "metadata": {
    "tags": []
   },
   "outputs": [
    {
     "name": "stdout",
     "output_type": "stream",
     "text": [
      "2 3 2\n"
     ]
    }
   ],
   "source": [
    "print(sx, sy, len(ans))"
   ]
  },
  {
   "cell_type": "code",
   "execution_count": 22,
   "id": "1cce8d23-00fa-4065-8939-93edf0fde2f0",
   "metadata": {
    "tags": []
   },
   "outputs": [
    {
     "data": {
      "text/plain": [
       "({2: [1, 2], 3: [3]}, {2: [2], 3: [3], 1: [2]})"
      ]
     },
     "execution_count": 22,
     "metadata": {},
     "output_type": "execute_result"
    }
   ],
   "source": [
    "di_x, di_y"
   ]
  },
  {
   "cell_type": "code",
   "execution_count": 23,
   "id": "0ebd95a1-5231-4c46-9fef-04933a70da32",
   "metadata": {
    "tags": []
   },
   "outputs": [
    {
     "data": {
      "text/plain": [
       "{(2, 1)}"
      ]
     },
     "execution_count": 23,
     "metadata": {},
     "output_type": "execute_result"
    }
   ],
   "source": [
    "ans"
   ]
  },
  {
   "cell_type": "code",
   "execution_count": null,
   "id": "89412d5e-cd24-42af-ad54-d7815c7d2261",
   "metadata": {},
   "outputs": [],
   "source": []
  }
 ],
 "metadata": {
  "kernelspec": {
   "display_name": "Python 3 (ipykernel)",
   "language": "python",
   "name": "python3"
  },
  "language_info": {
   "codemirror_mode": {
    "name": "ipython",
    "version": 3
   },
   "file_extension": ".py",
   "mimetype": "text/x-python",
   "name": "python",
   "nbconvert_exporter": "python",
   "pygments_lexer": "ipython3",
   "version": "3.11.3"
  }
 },
 "nbformat": 4,
 "nbformat_minor": 5
}
