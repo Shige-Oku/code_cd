{
 "cells": [
  {
   "cell_type": "code",
   "execution_count": 1,
   "id": "ca10394b-9f72-4543-a181-c7303b1e9276",
   "metadata": {
    "tags": []
   },
   "outputs": [],
   "source": [
    "import sys\n",
    "import numpy as np\n",
    "import math\n",
    "import collections\n",
    "import copy\n",
    "import decimal\n",
    "import itertools\n",
    "import re\n",
    "import bisect\n",
    "import scipy\n",
    "import heapq\n",
    "from collections import deque \n",
    "from functools import reduce\n",
    "from itertools import product\n",
    "from itertools import combinations\n",
    "from functools import lru_cache\n",
    "from scipy.special import comb\n",
    "from numba import njit\n",
    "from bisect import bisect_right\n",
    "from bisect import bisect_left\n",
    "from atcoder.fenwicktree import FenwickTree\n",
    "from sortedcontainers import SortedSet, SortedList, SortedDict"
   ]
  },
  {
   "cell_type": "code",
   "execution_count": 2,
   "id": "ce747eb9-cc84-456e-b120-7185c3057f16",
   "metadata": {
    "tags": []
   },
   "outputs": [
    {
     "name": "stdin",
     "output_type": "stream",
     "text": [
      " 5 5 3 4\n"
     ]
    }
   ],
   "source": [
    "H, W, X, Y = map(int, input().split())"
   ]
  },
  {
   "cell_type": "code",
   "execution_count": 3,
   "id": "e4154390-ddce-47a7-9150-7eac91ea48e1",
   "metadata": {
    "tags": []
   },
   "outputs": [
    {
     "name": "stdin",
     "output_type": "stream",
     "text": [
      " #####\n",
      " #...#\n",
      " #.@.#\n",
      " #..@#\n",
      " #####\n"
     ]
    }
   ],
   "source": [
    "Shw = [input() for _ in range(H)]"
   ]
  },
  {
   "cell_type": "code",
   "execution_count": 4,
   "id": "dc91f4a5-7c71-46ee-bbaf-0bcbe410d73c",
   "metadata": {
    "tags": []
   },
   "outputs": [
    {
     "name": "stdin",
     "output_type": "stream",
     "text": [
      " LLLDRUU\n"
     ]
    }
   ],
   "source": [
    "T = input()"
   ]
  },
  {
   "cell_type": "code",
   "execution_count": 7,
   "id": "4984fd34-1eda-48dc-b1e1-39f64d476623",
   "metadata": {
    "tags": []
   },
   "outputs": [],
   "source": [
    "ho = set()\n",
    "x, y = X-1, Y-1\n",
    "for t in T:\n",
    "    if t == 'U':\n",
    "        if Shw[y-1][x] == '#':\n",
    "            continue\n",
    "        y -= 1\n",
    "    elif t == 'D':\n",
    "        if Shw[y+1][x] == '#':\n",
    "            continue\n",
    "        y += 1\n",
    "    elif t == 'L':\n",
    "        if Shw[y][x-1] == '#':\n",
    "            continue\n",
    "        x -= 1\n",
    "    else:\n",
    "        if Shw[y][x+1] == '#':\n",
    "            continue\n",
    "        x += 1\n",
    "    if Shw[y][x] == '@':\n",
    "        ho.add((y, x))\n"
   ]
  },
  {
   "cell_type": "code",
   "execution_count": 9,
   "id": "c9291ccc-4eda-4543-b5d8-73cd8d3331f6",
   "metadata": {
    "tags": []
   },
   "outputs": [
    {
     "name": "stdout",
     "output_type": "stream",
     "text": [
      "3 2 1\n"
     ]
    }
   ],
   "source": [
    "print(x+1, y+1, len(ho))"
   ]
  },
  {
   "cell_type": "code",
   "execution_count": 8,
   "id": "f14ebcde-46ec-4c8a-b2ee-6a05f6671218",
   "metadata": {
    "tags": []
   },
   "outputs": [
    {
     "data": {
      "text/plain": [
       "(2, 1, 1)"
      ]
     },
     "execution_count": 8,
     "metadata": {},
     "output_type": "execute_result"
    }
   ],
   "source": [
    "x, y, len(ho)"
   ]
  },
  {
   "cell_type": "code",
   "execution_count": null,
   "id": "e5881ea6-9539-4f43-8229-4df8d520dfe6",
   "metadata": {},
   "outputs": [],
   "source": []
  }
 ],
 "metadata": {
  "kernelspec": {
   "display_name": "Python 3 (ipykernel)",
   "language": "python",
   "name": "python3"
  },
  "language_info": {
   "codemirror_mode": {
    "name": "ipython",
    "version": 3
   },
   "file_extension": ".py",
   "mimetype": "text/x-python",
   "name": "python",
   "nbconvert_exporter": "python",
   "pygments_lexer": "ipython3",
   "version": "3.11.3"
  }
 },
 "nbformat": 4,
 "nbformat_minor": 5
}
