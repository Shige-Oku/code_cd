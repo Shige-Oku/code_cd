{
 "cells": [
  {
   "cell_type": "code",
   "execution_count": 1,
   "id": "cdbc70d7-1225-40e0-aa4b-e53059696328",
   "metadata": {
    "tags": []
   },
   "outputs": [],
   "source": [
    "import sys\n",
    "import numpy as np\n",
    "import math\n",
    "import collections\n",
    "import copy\n",
    "import decimal\n",
    "import itertools\n",
    "import re\n",
    "import bisect\n",
    "import scipy\n",
    "import heapq\n",
    "from collections import deque \n",
    "from functools import reduce\n",
    "from itertools import product\n",
    "from itertools import combinations\n",
    "from functools import lru_cache\n",
    "from scipy.special import comb\n",
    "from numba import njit\n",
    "from bisect import bisect_right\n",
    "from bisect import bisect_left\n",
    "from atcoder.fenwicktree import FenwickTree\n",
    "from sortedcontainers import SortedSet, SortedList, SortedDict"
   ]
  },
  {
   "cell_type": "code",
   "execution_count": 2,
   "id": "9a552505-1d50-4c92-a38b-0bf828dfed08",
   "metadata": {
    "tags": []
   },
   "outputs": [
    {
     "name": "stdin",
     "output_type": "stream",
     "text": [
      " 1\n"
     ]
    }
   ],
   "source": [
    "K = int(input())"
   ]
  },
  {
   "cell_type": "code",
   "execution_count": 26,
   "id": "11de1c6e-7eaf-49bf-90f7-c72339d5845f",
   "metadata": {
    "tags": []
   },
   "outputs": [
    {
     "name": "stdin",
     "output_type": "stream",
     "text": [
      " leap\n"
     ]
    }
   ],
   "source": [
    "S = input()"
   ]
  },
  {
   "cell_type": "code",
   "execution_count": 27,
   "id": "5488be49-3018-4134-838c-82138e20ba6d",
   "metadata": {
    "tags": []
   },
   "outputs": [
    {
     "name": "stdin",
     "output_type": "stream",
     "text": [
      " read\n"
     ]
    }
   ],
   "source": [
    "T = input()"
   ]
  },
  {
   "cell_type": "code",
   "execution_count": 30,
   "id": "7519deab-5735-4009-bc1e-0fd018ff4c3a",
   "metadata": {
    "tags": []
   },
   "outputs": [],
   "source": [
    "def solve():\n",
    "    d = abs(len(S) - len(T))\n",
    "    if d > 1:\n",
    "        return False\n",
    "    \n",
    "    if d == 0:\n",
    "        c = 0\n",
    "        for s, t in zip(S, T):\n",
    "            if s != t:\n",
    "                c += 1\n",
    "    else:\n",
    "        if len(S) > len(T):\n",
    "            S1 = T\n",
    "            T1 = S\n",
    "        else:\n",
    "            S1 = S\n",
    "            T1 = T\n",
    "        si, ti = 0, 0\n",
    "        c = 0\n",
    "        while si < len(S1) and ti < len(T1):\n",
    "            if S1[si] != T1[ti]:\n",
    "                c += 1\n",
    "                ti += 1\n",
    "            si += 1\n",
    "            ti += 1\n",
    "    return c <= 1"
   ]
  },
  {
   "cell_type": "code",
   "execution_count": 29,
   "id": "a6616f23-54d9-46cb-87c0-786cf20728eb",
   "metadata": {
    "tags": []
   },
   "outputs": [
    {
     "name": "stdout",
     "output_type": "stream",
     "text": [
      "No\n"
     ]
    }
   ],
   "source": [
    "print('Yes' if solve() else 'No')"
   ]
  },
  {
   "cell_type": "code",
   "execution_count": 5,
   "id": "3629dcb5-12ba-4788-8473-e87f4bad4c9b",
   "metadata": {
    "tags": []
   },
   "outputs": [],
   "source": [
    "dp = [[10*20] * (len(S)+10) for _ in range(len(S)+10)]\n",
    "si, ti = 0, 0\n",
    "while si < len(S):\n",
    "    while ti < len(T)"
   ]
  },
  {
   "cell_type": "code",
   "execution_count": null,
   "id": "baa9dcf9-df5d-4bde-b186-f45bccfdfb22",
   "metadata": {},
   "outputs": [],
   "source": []
  }
 ],
 "metadata": {
  "kernelspec": {
   "display_name": "Python 3 (ipykernel)",
   "language": "python",
   "name": "python3"
  },
  "language_info": {
   "codemirror_mode": {
    "name": "ipython",
    "version": 3
   },
   "file_extension": ".py",
   "mimetype": "text/x-python",
   "name": "python",
   "nbconvert_exporter": "python",
   "pygments_lexer": "ipython3",
   "version": "3.11.3"
  }
 },
 "nbformat": 4,
 "nbformat_minor": 5
}
