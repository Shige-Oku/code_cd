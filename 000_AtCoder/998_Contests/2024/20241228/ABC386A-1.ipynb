{
 "cells": [
  {
   "cell_type": "code",
   "execution_count": 1,
   "id": "d47e23fd-cd66-4ea8-aa9f-94e7cfbe896b",
   "metadata": {
    "tags": []
   },
   "outputs": [],
   "source": [
    "import sys\n",
    "import numpy as np\n",
    "import math\n",
    "import collections\n",
    "import copy\n",
    "import decimal\n",
    "import itertools\n",
    "import re\n",
    "import bisect\n",
    "import scipy\n",
    "import heapq\n",
    "from collections import deque \n",
    "from functools import reduce\n",
    "from itertools import product\n",
    "from itertools import combinations\n",
    "from functools import lru_cache\n",
    "from scipy.special import comb\n",
    "from numba import njit\n",
    "from bisect import bisect_right\n",
    "from bisect import bisect_left\n",
    "from atcoder.fenwicktree import FenwickTree\n",
    "from sortedcontainers import SortedSet, SortedList, SortedDict"
   ]
  },
  {
   "cell_type": "code",
   "execution_count": 23,
   "id": "ec4b26e0-9bec-4cdb-a9de-3a8d42f75656",
   "metadata": {
    "tags": []
   },
   "outputs": [
    {
     "name": "stdin",
     "output_type": "stream",
     "text": [
      " 1 3 4 1\n"
     ]
    }
   ],
   "source": [
    "A, B, C, D = map(int, input().split())"
   ]
  },
  {
   "cell_type": "code",
   "execution_count": 24,
   "id": "33c294df-2283-4663-8421-4c262ecf7d2e",
   "metadata": {
    "tags": []
   },
   "outputs": [
    {
     "name": "stdout",
     "output_type": "stream",
     "text": [
      "No\n"
     ]
    }
   ],
   "source": [
    "c = set((A, B, C, D))\n",
    "print('Yes' if 2 == len(c)  else 'No')"
   ]
  },
  {
   "cell_type": "code",
   "execution_count": null,
   "id": "04f53b59-41b2-4457-a5b1-e95fa99701c7",
   "metadata": {},
   "outputs": [],
   "source": []
  }
 ],
 "metadata": {
  "kernelspec": {
   "display_name": "Python 3 (ipykernel)",
   "language": "python",
   "name": "python3"
  },
  "language_info": {
   "codemirror_mode": {
    "name": "ipython",
    "version": 3
   },
   "file_extension": ".py",
   "mimetype": "text/x-python",
   "name": "python",
   "nbconvert_exporter": "python",
   "pygments_lexer": "ipython3",
   "version": "3.11.3"
  }
 },
 "nbformat": 4,
 "nbformat_minor": 5
}
