{
 "cells": [
  {
   "cell_type": "code",
   "execution_count": 1,
   "id": "a72de0ed-7c53-47e4-b4ba-5d2381aa55e8",
   "metadata": {
    "tags": []
   },
   "outputs": [],
   "source": [
    "import sys\n",
    "import numpy as np\n",
    "import math\n",
    "import collections\n",
    "import copy\n",
    "import decimal\n",
    "import itertools\n",
    "import re\n",
    "import bisect\n",
    "import scipy\n",
    "import heapq\n",
    "from collections import deque \n",
    "from functools import reduce\n",
    "from itertools import product\n",
    "from itertools import combinations\n",
    "from functools import lru_cache\n",
    "from scipy.special import comb\n",
    "from numba import njit\n",
    "from bisect import bisect_right\n",
    "from bisect import bisect_left\n",
    "from atcoder.fenwicktree import FenwickTree\n",
    "from sortedcontainers import SortedSet, SortedList, SortedDict"
   ]
  },
  {
   "cell_type": "code",
   "execution_count": 40,
   "id": "ed73b776-9063-4b03-ba89-420774861d2a",
   "metadata": {
    "tags": []
   },
   "outputs": [
    {
     "name": "stdin",
     "output_type": "stream",
     "text": [
      " 4 4\n"
     ]
    }
   ],
   "source": [
    "N, M = map(int, input().split())"
   ]
  },
  {
   "cell_type": "code",
   "execution_count": 41,
   "id": "fd1c936a-704f-4088-bd14-ace57901c790",
   "metadata": {
    "tags": []
   },
   "outputs": [
    {
     "name": "stdin",
     "output_type": "stream",
     "text": [
      " 4 1 B\n",
      " 3 2 W\n",
      " 1 3 B\n",
      "  4 3 B\n"
     ]
    }
   ],
   "source": [
    "XYCm = [list(input().split()) for _ in range(M)]"
   ]
  },
  {
   "cell_type": "code",
   "execution_count": 56,
   "id": "3c7d55aa-c632-4040-bbb8-095e5f39a56a",
   "metadata": {
    "tags": []
   },
   "outputs": [],
   "source": [
    "wr = []\n",
    "wc = []\n",
    "\n",
    "for X, Y, C in XYCm:\n",
    "    if C == 'W':\n",
    "        wr.append((int(X), int(Y)))\n",
    "        wc.append((int(Y), int(X)))\n",
    "wr_s = sorted(wr)\n",
    "wc_s = sorted(wc)"
   ]
  },
  {
   "cell_type": "code",
   "execution_count": 77,
   "id": "fdb98042-5bbb-44e0-bcec-bf0cbdea4a3e",
   "metadata": {
    "tags": []
   },
   "outputs": [],
   "source": [
    "def solve():\n",
    "    if len(wr_s) == 0:\n",
    "        return True\n",
    "    for X, Y, C in XYCm:\n",
    "        if C == 'W':\n",
    "            continue\n",
    "        X = int(X)\n",
    "        Y = int(Y)\n",
    "        if X < wr_s[0][0]:\n",
    "            continue\n",
    "        if Y < wc_s[0][0]:\n",
    "            continue\n",
    "        # print(X, Y, C)\n",
    "        return False\n",
    "    return True"
   ]
  },
  {
   "cell_type": "code",
   "execution_count": 78,
   "id": "a3d7c143-db87-4714-b4c4-1b9e89e1aae8",
   "metadata": {
    "tags": []
   },
   "outputs": [
    {
     "name": "stdout",
     "output_type": "stream",
     "text": [
      "No\n"
     ]
    }
   ],
   "source": [
    "print('Yes' if solve() else 'No')"
   ]
  },
  {
   "cell_type": "code",
   "execution_count": 72,
   "id": "6c7cfb60-c0e1-4fa1-b30c-0dda378a8b3f",
   "metadata": {
    "tags": []
   },
   "outputs": [
    {
     "data": {
      "text/plain": [
       "([(3, 2)], [(2, 3)], [(3, 2)], [(2, 3)])"
      ]
     },
     "execution_count": 72,
     "metadata": {},
     "output_type": "execute_result"
    }
   ],
   "source": [
    "wr_s, wc_s, wr, wc"
   ]
  },
  {
   "cell_type": "code",
   "execution_count": 74,
   "id": "1ad23658-e8e3-495b-9067-1deb585ceabc",
   "metadata": {
    "tags": []
   },
   "outputs": [
    {
     "data": {
      "text/plain": [
       "(3, 2)"
      ]
     },
     "execution_count": 74,
     "metadata": {},
     "output_type": "execute_result"
    }
   ],
   "source": [
    "wr_s[0][0], wc_s[0][0]"
   ]
  },
  {
   "cell_type": "code",
   "execution_count": 42,
   "id": "e5156ce1-09e8-4dcc-8fd8-c356fbbc6022",
   "metadata": {
    "tags": []
   },
   "outputs": [],
   "source": [
    "r = [[[], []] for _ in range(N+1)]\n",
    "c = [[[], []] for _ in range(N+1)]\n",
    "for X, Y, C in XYCm:\n",
    "    X = int(X)\n",
    "    Y = int(Y)\n",
    "    if C == 'B':\n",
    "        r[X][0].append(Y)\n",
    "        c[Y][0].append(X)\n",
    "    else:\n",
    "        r[X][1].append(Y)\n",
    "        c[Y][1].append(X)\n",
    "        "
   ]
  },
  {
   "cell_type": "code",
   "execution_count": 43,
   "id": "0ceae507-361f-4b17-86cd-5f63e8393db2",
   "metadata": {
    "tags": []
   },
   "outputs": [],
   "source": [
    "def solve():\n",
    "    for i in range(1, N+1):\n",
    "        ri = r[i]\n",
    "        if len(ri[0]) == 0 or len(ri[1]) == 0:\n",
    "            continue\n",
    "        xa = max(ri[0])\n",
    "        yi = min(ri[1])\n",
    "        print(xa, yi)\n",
    "        if yi <= xa:\n",
    "            return False\n",
    "\n",
    "    for i in range(1, N+1):\n",
    "        ci = c[i]\n",
    "        if len(ci[0]) == 0 or len(ci[1]) == 0:\n",
    "            continue\n",
    "        xa = max(ci[0])\n",
    "        yi = min(ci[1])\n",
    "        # print(xa, yi, ci, ci[0], ci[1])\n",
    "        if yi <= xa:\n",
    "            return False\n",
    "    return True"
   ]
  },
  {
   "cell_type": "code",
   "execution_count": 44,
   "id": "e8be07e0-5dc5-4ac8-945f-54655fd93fd3",
   "metadata": {
    "tags": []
   },
   "outputs": [
    {
     "name": "stdout",
     "output_type": "stream",
     "text": [
      "Yes\n"
     ]
    }
   ],
   "source": [
    "print('Yes' if solve() else 'No')"
   ]
  },
  {
   "cell_type": "code",
   "execution_count": 45,
   "id": "15353e15-cc81-4c82-a445-0831e07e51b3",
   "metadata": {
    "tags": []
   },
   "outputs": [
    {
     "data": {
      "text/plain": [
       "([[[], []], [[3], []], [[], []], [[], [2]], [[1, 3], []]],\n",
       " [[[], []], [[4], []], [[], [3]], [[1, 4], []], [[], []]])"
      ]
     },
     "execution_count": 45,
     "metadata": {},
     "output_type": "execute_result"
    }
   ],
   "source": [
    "r, c"
   ]
  },
  {
   "cell_type": "code",
   "execution_count": 18,
   "id": "e87297d8-7702-4392-8428-37b618efe1b8",
   "metadata": {
    "tags": []
   },
   "outputs": [],
   "source": [
    "def solve():\n",
    "    for i in range(1, N+1):\n",
    "        ri = r[i]\n",
    "        if len(ri[0]) == 0 or len(ri[1]) == 0:\n",
    "            continue\n",
    "        xi, xa = min(ri[0]), max(ri[0])\n",
    "        yi, ya = min(ri[1]), max(ri[1])\n",
    "        if xi <= yi <= xa:\n",
    "            return False\n",
    "        if xi <= ya <= xa:\n",
    "            return False      \n",
    "\n",
    "    for i in range(1, N+1):\n",
    "        ci = c[i]\n",
    "        if len(ci[0]) == 0 or len(ci[1]) == 0:\n",
    "            continue\n",
    "        xi, xa = min(ci[0]), max(ci[0])\n",
    "        yi, ya = min(ci[1]), max(ci[1])\n",
    "        if xi <= yi <= xa:\n",
    "            return False\n",
    "        if xi <= ya <= xa:\n",
    "            return False          \n",
    "    return True"
   ]
  },
  {
   "cell_type": "code",
   "execution_count": 46,
   "id": "8d6512af-01c7-4ba8-a8bf-9de780b33e7a",
   "metadata": {
    "tags": []
   },
   "outputs": [
    {
     "data": {
      "text/plain": [
       "[[[], []], [[3], []], [[], []], [[], [2]], [[1, 3], []]]"
      ]
     },
     "execution_count": 46,
     "metadata": {},
     "output_type": "execute_result"
    }
   ],
   "source": [
    "r"
   ]
  },
  {
   "cell_type": "code",
   "execution_count": 47,
   "id": "1126a3e5-5f4e-457b-93b4-8a0d9187cc98",
   "metadata": {
    "tags": []
   },
   "outputs": [
    {
     "data": {
      "text/plain": [
       "[[[], []], [[4], []], [[], [3]], [[1, 4], []], [[], []]]"
      ]
     },
     "execution_count": 47,
     "metadata": {},
     "output_type": "execute_result"
    }
   ],
   "source": [
    "c"
   ]
  },
  {
   "cell_type": "code",
   "execution_count": null,
   "id": "4a9c21b0-0954-4c7b-b9e1-fa6447f024c4",
   "metadata": {},
   "outputs": [],
   "source": []
  }
 ],
 "metadata": {
  "kernelspec": {
   "display_name": "Python 3 (ipykernel)",
   "language": "python",
   "name": "python3"
  },
  "language_info": {
   "codemirror_mode": {
    "name": "ipython",
    "version": 3
   },
   "file_extension": ".py",
   "mimetype": "text/x-python",
   "name": "python",
   "nbconvert_exporter": "python",
   "pygments_lexer": "ipython3",
   "version": "3.11.3"
  }
 },
 "nbformat": 4,
 "nbformat_minor": 5
}
