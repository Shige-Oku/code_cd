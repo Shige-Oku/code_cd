{
 "cells": [
  {
   "cell_type": "code",
   "execution_count": 111,
   "id": "cfbc6ed7-e2d5-418d-8be5-dcc0ddd5f22e",
   "metadata": {
    "tags": []
   },
   "outputs": [],
   "source": [
    "import sys\n",
    "import numpy as np\n",
    "import math\n",
    "import collections\n",
    "import copy\n",
    "import decimal\n",
    "import itertools\n",
    "import re\n",
    "import bisect\n",
    "import scipy\n",
    "import heapq\n",
    "from collections import deque \n",
    "from functools import reduce\n",
    "from itertools import product\n",
    "from itertools import combinations\n",
    "from functools import lru_cache\n",
    "from scipy.special import comb\n",
    "from numba import njit\n",
    "from bisect import bisect_right\n",
    "from bisect import bisect_left\n",
    "from atcoder.fenwicktree import FenwickTree\n",
    "from sortedcontainers import SortedSet, SortedList, SortedDict\n",
    "from array import array"
   ]
  },
  {
   "cell_type": "code",
   "execution_count": 2,
   "id": "6e391bc8-fa0e-45cc-9f48-bc01091a3819",
   "metadata": {
    "tags": []
   },
   "outputs": [
    {
     "name": "stdin",
     "output_type": "stream",
     "text": [
      " 3 23\n"
     ]
    }
   ],
   "source": [
    "N, M = map(int, input().split())"
   ]
  },
  {
   "cell_type": "code",
   "execution_count": 167,
   "id": "f24a8182-d18b-4ef6-95f8-7618ba0d7009",
   "metadata": {
    "tags": []
   },
   "outputs": [],
   "source": [
    "import sys\n",
    "sys.setrecursionlimit(10**4)\n",
    "from array import array\n",
    "def dfs(n, v):\n",
    "    # print(n, v, l)\n",
    "    if n == N:\n",
    "        lst.append(v)\n",
    "        # print(l)\n",
    "        ans.append(lst[:])\n",
    "        # print(l, ans)\n",
    "        lst.pop()\n",
    "        return\n",
    "    \n",
    "    lst.append(v)\n",
    "    for ne in range(v+10, M+1):\n",
    "        # print(n, v, l, ne)\n",
    "        if ne + 10*(N-n-1) > M:\n",
    "            return\n",
    "        # print(l)\n",
    "        dfs(n+1, ne)\n",
    "    lst.pop()\n",
    "    return"
   ]
  },
  {
   "cell_type": "code",
   "execution_count": 170,
   "id": "ce974a9e-8e35-45c9-8942-d465891f62f8",
   "metadata": {
    "tags": []
   },
   "outputs": [],
   "source": [
    "ans = []\n",
    "lst = [0]\n",
    "for i in range(1, M-10*(N-1)+1):\n",
    "    if i + 10*(N-1) > M:\n",
    "        continue\n",
    "    dfs(1, i)\n",
    "    lst.pop()\n",
    "    # print(ans)"
   ]
  },
  {
   "cell_type": "code",
   "execution_count": 171,
   "id": "d12f9576-e72c-4213-8f47-b5a0dcaa478c",
   "metadata": {
    "tags": []
   },
   "outputs": [
    {
     "name": "stdout",
     "output_type": "stream",
     "text": [
      "10\n",
      "1 11 21\n",
      "1 11 22\n",
      "1 11 23\n",
      "1 12 22\n",
      "1 12 23\n",
      "1 13 23\n",
      "2 12 22\n",
      "2 12 23\n",
      "2 13 23\n",
      "3 13 23\n"
     ]
    }
   ],
   "source": [
    "print(len(ans))\n",
    "for a in ans:\n",
    "    print(*a[1:])"
   ]
  },
  {
   "cell_type": "code",
   "execution_count": 135,
   "id": "83b23d62-5f97-4fd4-9308-1c34430089e6",
   "metadata": {
    "tags": []
   },
   "outputs": [
    {
     "data": {
      "text/plain": [
       "[array('i'),\n",
       " array('i'),\n",
       " array('i'),\n",
       " array('i'),\n",
       " array('i'),\n",
       " array('i'),\n",
       " array('i'),\n",
       " array('i'),\n",
       " array('i'),\n",
       " array('i')]"
      ]
     },
     "execution_count": 135,
     "metadata": {},
     "output_type": "execute_result"
    }
   ],
   "source": [
    "ans"
   ]
  },
  {
   "cell_type": "code",
   "execution_count": 120,
   "id": "1a603a5f-b764-4876-9578-a091e1b91df7",
   "metadata": {
    "tags": []
   },
   "outputs": [],
   "source": [
    "import sys\n",
    "sys.setrecursionlimit(10**4)\n",
    "def dfs(n, v, l):\n",
    "    # print(n, v, l)\n",
    "    if n == N:\n",
    "        l.append(v)\n",
    "        ans.append(l)\n",
    "        # print(l, ans)\n",
    "        l.pop()\n",
    "        return\n",
    "    \n",
    "    l.append(v)\n",
    "    for ne in range(v+10, M+1):\n",
    "        # print(n, v, l, ne)\n",
    "        if i + 10*(N-n-1) > M:\n",
    "            return\n",
    "        # print(l)\n",
    "        dfs(n+1, ne, l)\n",
    "    l.pop()\n",
    "    return"
   ]
  },
  {
   "cell_type": "code",
   "execution_count": null,
   "id": "ef9eedf9-db09-4089-8caa-ccbf38128331",
   "metadata": {
    "tags": []
   },
   "outputs": [],
   "source": [
    "ans = []\n",
    "for i in range(1, M-10*(N-1)+1):\n",
    "    if i + 10*(N-1) > M:\n",
    "        continue\n",
    "    a = array('i')\n",
    "    dfs(1, i, a)\n",
    "    # print(ans)"
   ]
  },
  {
   "cell_type": "code",
   "execution_count": 146,
   "id": "2efb0583-71d1-44ad-b1b8-75c5018e4fc8",
   "metadata": {
    "tags": []
   },
   "outputs": [
    {
     "name": "stdout",
     "output_type": "stream",
     "text": [
      "10\n",
      "1 11 21\n",
      "1 11 22\n",
      "1 11 23\n",
      "1 12 22\n",
      "1 12 23\n",
      "1 13 23\n",
      "2 12 22\n",
      "2 12 23\n",
      "2 13 23\n",
      "3 13 23\n"
     ]
    }
   ],
   "source": [
    "print(len(ans))\n",
    "for a in ans:\n",
    "    print(*a)"
   ]
  },
  {
   "cell_type": "code",
   "execution_count": 100,
   "id": "94baa454-f023-4131-959f-ed9315329bd5",
   "metadata": {
    "tags": []
   },
   "outputs": [
    {
     "data": {
      "text/plain": [
       "[[], [], [], [], [], [], [], [], [], []]"
      ]
     },
     "execution_count": 100,
     "metadata": {},
     "output_type": "execute_result"
    }
   ],
   "source": [
    "ans"
   ]
  },
  {
   "cell_type": "code",
   "execution_count": 25,
   "id": "cd272d9d-9aa6-4c27-89aa-d91956244f49",
   "metadata": {
    "tags": []
   },
   "outputs": [
    {
     "data": {
      "text/plain": [
       "10"
      ]
     },
     "execution_count": 25,
     "metadata": {},
     "output_type": "execute_result"
    }
   ],
   "source": [
    "len(ans)"
   ]
  },
  {
   "cell_type": "code",
   "execution_count": 39,
   "id": "fdab8d63-5b72-4f0a-acc8-d03d8333165d",
   "metadata": {
    "tags": []
   },
   "outputs": [
    {
     "data": {
      "text/plain": [
       "4"
      ]
     },
     "execution_count": 39,
     "metadata": {},
     "output_type": "execute_result"
    }
   ],
   "source": [
    "M-10*(N-1)+1"
   ]
  },
  {
   "cell_type": "code",
   "execution_count": 42,
   "id": "7d622686-fe23-4fe7-a232-5071046d98d9",
   "metadata": {
    "tags": []
   },
   "outputs": [
    {
     "data": {
      "text/plain": [
       "(23, 20)"
      ]
     },
     "execution_count": 42,
     "metadata": {},
     "output_type": "execute_result"
    }
   ],
   "source": [
    "M, 10*(N-1)"
   ]
  },
  {
   "cell_type": "code",
   "execution_count": null,
   "id": "e0d130fd-4c15-4bfa-90f2-5665865496d8",
   "metadata": {},
   "outputs": [],
   "source": []
  }
 ],
 "metadata": {
  "kernelspec": {
   "display_name": "Python 3 (ipykernel)",
   "language": "python",
   "name": "python3"
  },
  "language_info": {
   "codemirror_mode": {
    "name": "ipython",
    "version": 3
   },
   "file_extension": ".py",
   "mimetype": "text/x-python",
   "name": "python",
   "nbconvert_exporter": "python",
   "pygments_lexer": "ipython3",
   "version": "3.11.3"
  }
 },
 "nbformat": 4,
 "nbformat_minor": 5
}
