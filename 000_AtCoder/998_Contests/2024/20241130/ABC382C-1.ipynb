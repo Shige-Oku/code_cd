{
 "cells": [
  {
   "cell_type": "code",
   "execution_count": 1,
   "id": "1990c356-4530-48f5-98f9-a0f1ee45962e",
   "metadata": {
    "tags": []
   },
   "outputs": [],
   "source": [
    "import sys\n",
    "import numpy as np\n",
    "import math\n",
    "import collections\n",
    "import copy\n",
    "import decimal\n",
    "import itertools\n",
    "import re\n",
    "import bisect\n",
    "import scipy\n",
    "import heapq\n",
    "from collections import deque \n",
    "from functools import reduce\n",
    "from itertools import product\n",
    "from itertools import combinations\n",
    "from functools import lru_cache\n",
    "from scipy.special import comb\n",
    "from numba import njit\n",
    "from bisect import bisect_right\n",
    "from bisect import bisect_left\n",
    "from atcoder.fenwicktree import FenwickTree\n",
    "from sortedcontainers import SortedSet, SortedList, SortedDict"
   ]
  },
  {
   "cell_type": "code",
   "execution_count": 43,
   "id": "7b833b62-25d2-4041-b297-a71020ab834f",
   "metadata": {
    "tags": []
   },
   "outputs": [
    {
     "name": "stdin",
     "output_type": "stream",
     "text": [
      " 3 3\n"
     ]
    }
   ],
   "source": [
    "N, M = map(int, input().split())"
   ]
  },
  {
   "cell_type": "code",
   "execution_count": 48,
   "id": "aae0085a-0776-47dc-af4e-2ff7e1fea75d",
   "metadata": {
    "tags": []
   },
   "outputs": [
    {
     "name": "stdin",
     "output_type": "stream",
     "text": [
      " 1 1 1\n"
     ]
    }
   ],
   "source": [
    "An = list(map(int, input().split()))"
   ]
  },
  {
   "cell_type": "code",
   "execution_count": 49,
   "id": "ecbda3ad-d6f7-4c55-82ad-fcc9319f8296",
   "metadata": {
    "tags": []
   },
   "outputs": [
    {
     "name": "stdin",
     "output_type": "stream",
     "text": [
      " 1 1 1\n"
     ]
    }
   ],
   "source": [
    "Bn = list(map(int, input().split()))"
   ]
  },
  {
   "cell_type": "code",
   "execution_count": 50,
   "id": "29e08355-8bed-4e82-b330-9d96bf298e5d",
   "metadata": {
    "tags": []
   },
   "outputs": [],
   "source": [
    "man = []\n",
    "for i, A in enumerate(An, 1):\n",
    "    man.append([-A, i])\n",
    "man_s = sorted(man)\n",
    "man_s2 = []\n",
    "mi = N\n",
    "for b, i in man_s[::-1]:\n",
    "    mi = min(mi, i)\n",
    "    man_s2.append([b, mi])\n",
    "man_s2 = man_s2[::-1]"
   ]
  },
  {
   "cell_type": "code",
   "execution_count": 51,
   "id": "7d34e134-904e-4717-8769-9dcf7290ed84",
   "metadata": {
    "tags": []
   },
   "outputs": [
    {
     "name": "stdout",
     "output_type": "stream",
     "text": [
      "1\n",
      "1\n",
      "1\n"
     ]
    }
   ],
   "source": [
    "from bisect import bisect_left\n",
    "for B in Bn:\n",
    "    p = bisect_left(man_s2, [-B, 0])\n",
    "    if p >= N:\n",
    "        print(-1)\n",
    "    else:\n",
    "        print(man_s2[p][1])"
   ]
  },
  {
   "cell_type": "code",
   "execution_count": 31,
   "id": "3dee558f-d6fa-4273-8229-25c815abb82f",
   "metadata": {
    "tags": []
   },
   "outputs": [
    {
     "data": {
      "text/plain": [
       "4"
      ]
     },
     "execution_count": 31,
     "metadata": {},
     "output_type": "execute_result"
    }
   ],
   "source": [
    "bisect_left(man_s, (-70, 0))"
   ]
  },
  {
   "cell_type": "code",
   "execution_count": 39,
   "id": "94bbaf63-7024-426e-b378-1dcdbf63f1f6",
   "metadata": {
    "tags": []
   },
   "outputs": [
    {
     "data": {
      "text/plain": [
       "([[-60, 1],\n",
       "  [-83, 2],\n",
       "  [-76, 3],\n",
       "  [-45, 4],\n",
       "  [-70, 5],\n",
       "  [-91, 6],\n",
       "  [-37, 7],\n",
       "  [-58, 8],\n",
       "  [-94, 9],\n",
       "  [-22, 10]],\n",
       " [[-94, 9],\n",
       "  [-91, 6],\n",
       "  [-83, 2],\n",
       "  [-76, 3],\n",
       "  [-70, 5],\n",
       "  [-60, 1],\n",
       "  [-58, 8],\n",
       "  [-45, 4],\n",
       "  [-37, 7],\n",
       "  [-22, 10]],\n",
       " [[-22, 10],\n",
       "  [-37, 7],\n",
       "  [-45, 4],\n",
       "  [-58, 4],\n",
       "  [-60, 1],\n",
       "  [-70, 1],\n",
       "  [-76, 1],\n",
       "  [-83, 1],\n",
       "  [-91, 1],\n",
       "  [-94, 1]])"
      ]
     },
     "execution_count": 39,
     "metadata": {},
     "output_type": "execute_result"
    }
   ],
   "source": [
    "man, man_s, man_s2"
   ]
  },
  {
   "cell_type": "code",
   "execution_count": null,
   "id": "7163d765-d722-4a23-95a5-e1bb2257b84b",
   "metadata": {},
   "outputs": [],
   "source": []
  }
 ],
 "metadata": {
  "kernelspec": {
   "display_name": "Python 3 (ipykernel)",
   "language": "python",
   "name": "python3"
  },
  "language_info": {
   "codemirror_mode": {
    "name": "ipython",
    "version": 3
   },
   "file_extension": ".py",
   "mimetype": "text/x-python",
   "name": "python",
   "nbconvert_exporter": "python",
   "pygments_lexer": "ipython3",
   "version": "3.11.3"
  }
 },
 "nbformat": 4,
 "nbformat_minor": 5
}
