{
 "cells": [
  {
   "cell_type": "code",
   "execution_count": 1,
   "id": "d86cb89f-447f-44f0-9977-951765895fd8",
   "metadata": {
    "tags": []
   },
   "outputs": [],
   "source": [
    "import sys\n",
    "import numpy as np\n",
    "import math\n",
    "import collections\n",
    "import copy\n",
    "import decimal\n",
    "import itertools\n",
    "import re\n",
    "import bisect\n",
    "import scipy\n",
    "import heapq\n",
    "from collections import deque \n",
    "from functools import reduce\n",
    "from itertools import product\n",
    "from itertools import combinations\n",
    "from functools import lru_cache\n",
    "from scipy.special import comb\n",
    "from numba import njit\n",
    "from bisect import bisect_right\n",
    "from bisect import bisect_left\n",
    "from atcoder.fenwicktree import FenwickTree\n",
    "from sortedcontainers import SortedSet, SortedList, SortedDict"
   ]
  },
  {
   "cell_type": "code",
   "execution_count": 15,
   "id": "b42ebb94-98d4-4444-b822-a3a4070dee60",
   "metadata": {
    "tags": []
   },
   "outputs": [
    {
     "name": "stdin",
     "output_type": "stream",
     "text": [
      " 10 10 11\n"
     ]
    }
   ],
   "source": [
    "H, W, K = map(int, input().split())"
   ]
  },
  {
   "cell_type": "code",
   "execution_count": 16,
   "id": "7f5b370d-2965-43b4-a47a-9e2ab61eaf6d",
   "metadata": {
    "tags": []
   },
   "outputs": [
    {
     "name": "stdin",
     "output_type": "stream",
     "text": [
      " ....#..#..\n",
      " .#.....##.\n",
      " ..#...##..\n",
      " ...#......\n",
      " ......##..\n",
      " ..#......#\n",
      " #........#\n",
      " ..##......\n",
      " .###....#.\n",
      " ...#.....#\n"
     ]
    }
   ],
   "source": [
    "Shw = [input() for _ in range(H)]"
   ]
  },
  {
   "cell_type": "code",
   "execution_count": 51,
   "id": "40ed32bf-01f8-4ba4-b323-e6822d541d7d",
   "metadata": {
    "tags": []
   },
   "outputs": [],
   "source": [
    "import sys\n",
    "sys.setrecursionlimit(10**4)\n",
    "def dfs(h, w, d, r):\n",
    "    global ans\n",
    "    if d == K:\n",
    "        if Shw[h][w] != '#':\n",
    "            ans += 1\n",
    "        return\n",
    "    \n",
    "    r.add((h, w))\n",
    "    for dy, dx in ((-1, 0), (1, 0), (0, -1), (0, 1)):\n",
    "        ny = h + dy\n",
    "        nx = w + dx\n",
    "        if ny < 0 or ny >= H:\n",
    "            continue\n",
    "        if nx < 0 or nx >= W:\n",
    "            continue\n",
    "        if Shw[ny][nx] == '#':\n",
    "            continue\n",
    "        if (ny, nx) in r:\n",
    "            continue\n",
    "        dfs(ny, nx, d+1, r)\n",
    "    \n",
    "    r.discard((h, w))\n",
    "    return "
   ]
  },
  {
   "cell_type": "code",
   "execution_count": 38,
   "id": "a6067bfd-b9fe-4c80-b230-99be3ef91f7d",
   "metadata": {
    "tags": []
   },
   "outputs": [],
   "source": [
    "from collections import deque \n",
    "def solve(h, w):\n",
    "    if Shw[h][w] == '#':\n",
    "        return 0\n",
    "    \n",
    "    dist = [[-1] * W for _ in range(H)]\n",
    "    q = deque()\n",
    "    dist[h][w] = 1\n",
    "    q.append((h, w, 1, -1))\n",
    "    ret = 0\n",
    "    visit = set()\n",
    "    visit.add((h, w, -1))\n",
    "    while q:\n",
    "        y, x, c, m2 = q.popleft()\n",
    "        for dy, dx, m in ((0, -1, 0), (0, 1, 1), (-1, 0, 2), (1, 0, 3)):\n",
    "            ny = y + dy\n",
    "            nx = x + dx\n",
    "            if ny < 0 or ny >= H:\n",
    "                continue\n",
    "            if nx < 0 or nx >= W:\n",
    "                continue\n",
    "            if Shw[ny][nx] == '#':\n",
    "                continue\n",
    "            if ny, nx in r:\n",
    "                continue\n",
    "            if c >= K:\n",
    "                continue\n",
    "            if c + 1 == K:\n",
    "                ret += 1\n",
    "            q.append((ny, nx, c+1, m))\n",
    "            visit.add((ny, nx, m))\n",
    "    # print(dist)\n",
    "    return ret"
   ]
  },
  {
   "cell_type": "code",
   "execution_count": 37,
   "id": "a278c9c8-5577-410c-bb87-a29aefaffebf",
   "metadata": {
    "tags": []
   },
   "outputs": [
    {
     "name": "stdout",
     "output_type": "stream",
     "text": [
      "[[1, -1, -1, -1, -1, -1, -1, -1, -1, -1], [-1, -1, -1, -1, -1, -1, -1, -1, -1, -1], [-1, -1, -1, -1, -1, -1, -1, -1, -1, -1], [-1, -1, -1, -1, -1, -1, -1, -1, -1, -1], [-1, -1, -1, -1, -1, -1, -1, -1, -1, -1], [-1, -1, -1, -1, -1, -1, -1, -1, -1, -1], [-1, -1, -1, -1, -1, -1, -1, -1, -1, -1], [-1, -1, -1, -1, -1, -1, -1, -1, -1, -1], [-1, -1, -1, -1, -1, -1, -1, -1, -1, -1], [-1, -1, -1, -1, -1, -1, -1, -1, -1, -1]]\n"
     ]
    },
    {
     "data": {
      "text/plain": [
       "14"
      ]
     },
     "execution_count": 37,
     "metadata": {},
     "output_type": "execute_result"
    }
   ],
   "source": [
    "solve(0, 0)"
   ]
  },
  {
   "cell_type": "code",
   "execution_count": 55,
   "id": "98aa262d-4e19-43c0-974d-ce32a17733c9",
   "metadata": {
    "tags": []
   },
   "outputs": [],
   "source": [
    "ans = 0\n",
    "for h in range(H):\n",
    "    for w in range(W):\n",
    "        if Shw[h][w] != '#':\n",
    "            dfs(h, w, 0, set())\n",
    "        # print(ans, h, w)\n",
    "        "
   ]
  },
  {
   "cell_type": "code",
   "execution_count": 54,
   "id": "1e87b845-c72d-4dcc-81b3-9c2c312afa23",
   "metadata": {
    "tags": []
   },
   "outputs": [
    {
     "name": "stdout",
     "output_type": "stream",
     "text": [
      "116962\n"
     ]
    }
   ],
   "source": [
    "print(ans)"
   ]
  },
  {
   "cell_type": "code",
   "execution_count": null,
   "id": "b3ba0bfa-3396-4568-950d-eb5ea409224a",
   "metadata": {},
   "outputs": [],
   "source": []
  }
 ],
 "metadata": {
  "kernelspec": {
   "display_name": "Python 3 (ipykernel)",
   "language": "python",
   "name": "python3"
  },
  "language_info": {
   "codemirror_mode": {
    "name": "ipython",
    "version": 3
   },
   "file_extension": ".py",
   "mimetype": "text/x-python",
   "name": "python",
   "nbconvert_exporter": "python",
   "pygments_lexer": "ipython3",
   "version": "3.11.3"
  }
 },
 "nbformat": 4,
 "nbformat_minor": 5
}
