{
 "cells": [
  {
   "cell_type": "code",
   "execution_count": 1,
   "id": "b327d4ce-07b9-43ab-af7a-8db639d98466",
   "metadata": {
    "tags": []
   },
   "outputs": [],
   "source": [
    "import sys\n",
    "import numpy as np\n",
    "import math\n",
    "import collections\n",
    "import copy\n",
    "import decimal\n",
    "import itertools\n",
    "import re\n",
    "import bisect\n",
    "import scipy\n",
    "import heapq\n",
    "from collections import deque \n",
    "from functools import reduce\n",
    "from itertools import product\n",
    "from itertools import combinations\n",
    "from functools import lru_cache\n",
    "from scipy.special import comb\n",
    "from numba import njit\n",
    "from bisect import bisect_right\n",
    "from bisect import bisect_left\n",
    "from atcoder.fenwicktree import FenwickTree\n",
    "from sortedcontainers import SortedSet, SortedList, SortedDict"
   ]
  },
  {
   "cell_type": "code",
   "execution_count": 7,
   "id": "ca6c8eb0-4cfa-4c45-ace3-e94dbc6de123",
   "metadata": {
    "tags": []
   },
   "outputs": [
    {
     "name": "stdin",
     "output_type": "stream",
     "text": [
      " 4\n"
     ]
    }
   ],
   "source": [
    "N = int(input())"
   ]
  },
  {
   "cell_type": "code",
   "execution_count": 8,
   "id": "47cdf076-d74e-4cb9-9cdf-477538e921ab",
   "metadata": {
    "tags": []
   },
   "outputs": [
    {
     "name": "stdin",
     "output_type": "stream",
     "text": [
      " 1 1000000000 1000000000 1\n"
     ]
    }
   ],
   "source": [
    "An = list(map(int, input().split()))"
   ]
  },
  {
   "cell_type": "code",
   "execution_count": 9,
   "id": "00d064bc-8429-46fc-8c98-fdc614ae4c98",
   "metadata": {
    "tags": []
   },
   "outputs": [],
   "source": [
    "pos = {}\n",
    "ans = []\n",
    "for i, A in enumerate(An, 1):\n",
    "    if A in pos:\n",
    "        ans.append(pos[A])\n",
    "    else:\n",
    "        ans.append(-1)\n",
    "    pos[A] = i\n"
   ]
  },
  {
   "cell_type": "code",
   "execution_count": 10,
   "id": "adf0c62f-a9d2-494e-aeff-c33ef8b5803e",
   "metadata": {
    "tags": []
   },
   "outputs": [
    {
     "name": "stdout",
     "output_type": "stream",
     "text": [
      "-1 -1 2 1\n"
     ]
    }
   ],
   "source": [
    "print(*ans)"
   ]
  },
  {
   "cell_type": "code",
   "execution_count": null,
   "id": "73136832-2fa1-4218-bc0c-d026ad77cd00",
   "metadata": {},
   "outputs": [],
   "source": []
  }
 ],
 "metadata": {
  "kernelspec": {
   "display_name": "Python 3 (ipykernel)",
   "language": "python",
   "name": "python3"
  },
  "language_info": {
   "codemirror_mode": {
    "name": "ipython",
    "version": 3
   },
   "file_extension": ".py",
   "mimetype": "text/x-python",
   "name": "python",
   "nbconvert_exporter": "python",
   "pygments_lexer": "ipython3",
   "version": "3.11.3"
  }
 },
 "nbformat": 4,
 "nbformat_minor": 5
}
