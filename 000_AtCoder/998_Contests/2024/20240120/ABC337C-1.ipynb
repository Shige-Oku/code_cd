{
 "cells": [
  {
   "cell_type": "code",
   "execution_count": 1,
   "id": "a98fca37-fcab-4603-83ec-82526521d076",
   "metadata": {
    "tags": []
   },
   "outputs": [],
   "source": [
    "import sys\n",
    "import numpy as np\n",
    "import math\n",
    "import collections\n",
    "import copy\n",
    "import decimal\n",
    "import itertools\n",
    "import re\n",
    "import bisect\n",
    "import scipy\n",
    "import heapq\n",
    "from collections import deque \n",
    "from functools import reduce\n",
    "from itertools import product\n",
    "from itertools import combinations\n",
    "from functools import lru_cache\n",
    "from scipy.special import comb\n",
    "from numba import njit\n",
    "from bisect import bisect_right\n",
    "from bisect import bisect_left"
   ]
  },
  {
   "cell_type": "code",
   "execution_count": 31,
   "id": "8e68613e-fc8c-4e47-b974-7d69d8151c1a",
   "metadata": {
    "tags": []
   },
   "outputs": [
    {
     "name": "stdin",
     "output_type": "stream",
     "text": [
      " 30\n"
     ]
    }
   ],
   "source": [
    "N = int(input())"
   ]
  },
  {
   "cell_type": "code",
   "execution_count": 32,
   "id": "4fc89be7-38a4-4d13-a72d-dc39ce465659",
   "metadata": {
    "tags": []
   },
   "outputs": [
    {
     "name": "stdin",
     "output_type": "stream",
     "text": [
      " 3 25 20 6 18 12 26 1 29 -1 21 17 23 9 8 30 10 15 22 27 4 13 5 11 16 24 28 2 19 7\n"
     ]
    }
   ],
   "source": [
    "An = list(map(int, input().split()))"
   ]
  },
  {
   "cell_type": "code",
   "execution_count": 33,
   "id": "1d7ea113-c58b-4605-85a5-76411228545e",
   "metadata": {
    "tags": []
   },
   "outputs": [],
   "source": [
    "di = {}\n",
    "for i, A in enumerate(An, 1):\n",
    "    di[A] = i\n"
   ]
  },
  {
   "cell_type": "code",
   "execution_count": 34,
   "id": "cbdb2c1b-be03-4263-ae8b-ac209725d698",
   "metadata": {
    "tags": []
   },
   "outputs": [
    {
     "name": "stdout",
     "output_type": "stream",
     "text": [
      "10 17 12 6 4 21 11 24 26 7 30 16 25 2 28 27 20 3 1 8 15 18 5 23 13 22 19 29 9 14 "
     ]
    }
   ],
   "source": [
    "k = -1\n",
    "c = 0\n",
    "while c < N:\n",
    "    print(di[k], end=' ')\n",
    "    k = di[k]\n",
    "    c += 1"
   ]
  },
  {
   "cell_type": "code",
   "execution_count": 18,
   "id": "2d73c50d-eaad-4131-afe5-e0acf0e93d80",
   "metadata": {
    "tags": []
   },
   "outputs": [
    {
     "data": {
      "text/plain": [
       "{4: 1, 1: 2, -1: 3, 5: 4, 3: 5, 2: 6}"
      ]
     },
     "execution_count": 18,
     "metadata": {},
     "output_type": "execute_result"
    }
   ],
   "source": [
    "di"
   ]
  },
  {
   "cell_type": "code",
   "execution_count": 11,
   "id": "9d3dd646-7614-4abd-85c6-b1ab7e31a87b",
   "metadata": {
    "tags": []
   },
   "outputs": [
    {
     "name": "stdout",
     "output_type": "stream",
     "text": [
      "3 2 6 5 1 4 "
     ]
    }
   ],
   "source": [
    "ans = list(p.items())\n",
    "ans.sort()\n",
    "for i, a in ans:\n",
    "    print(a, end =' ')"
   ]
  },
  {
   "cell_type": "code",
   "execution_count": 12,
   "id": "78767a19-037c-428c-a21f-c5dc87356cb4",
   "metadata": {
    "tags": []
   },
   "outputs": [
    {
     "data": {
      "text/plain": [
       "[(-1, 3), (1, 2), (2, 6), (3, 5), (4, 1), (5, 4)]"
      ]
     },
     "execution_count": 12,
     "metadata": {},
     "output_type": "execute_result"
    }
   ],
   "source": [
    "ans"
   ]
  },
  {
   "cell_type": "code",
   "execution_count": null,
   "id": "7fcfe413-1a57-484e-ab06-115777b9607c",
   "metadata": {},
   "outputs": [],
   "source": []
  }
 ],
 "metadata": {
  "kernelspec": {
   "display_name": "Python 3 (ipykernel)",
   "language": "python",
   "name": "python3"
  },
  "language_info": {
   "codemirror_mode": {
    "name": "ipython",
    "version": 3
   },
   "file_extension": ".py",
   "mimetype": "text/x-python",
   "name": "python",
   "nbconvert_exporter": "python",
   "pygments_lexer": "ipython3",
   "version": "3.11.3"
  }
 },
 "nbformat": 4,
 "nbformat_minor": 5
}
