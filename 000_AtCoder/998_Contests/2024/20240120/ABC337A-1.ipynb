{
 "cells": [
  {
   "cell_type": "code",
   "execution_count": 1,
   "id": "dd79adf7-62be-4d58-964b-d98c4c04d673",
   "metadata": {
    "tags": []
   },
   "outputs": [],
   "source": [
    "import sys\n",
    "import numpy as np\n",
    "import math\n",
    "import collections\n",
    "import copy\n",
    "import decimal\n",
    "import itertools\n",
    "import re\n",
    "import bisect\n",
    "import scipy\n",
    "import heapq\n",
    "from collections import deque \n",
    "from functools import reduce\n",
    "from itertools import product\n",
    "from itertools import combinations\n",
    "from functools import lru_cache\n",
    "from scipy.special import comb\n",
    "from numba import njit\n",
    "from bisect import bisect_right\n",
    "from bisect import bisect_left"
   ]
  },
  {
   "cell_type": "code",
   "execution_count": 3,
   "id": "5abf24c4-edb9-40da-8aa4-3843134fa4d4",
   "metadata": {
    "tags": []
   },
   "outputs": [
    {
     "name": "stdin",
     "output_type": "stream",
     "text": [
      " 4\n"
     ]
    }
   ],
   "source": [
    "N = int(input())"
   ]
  },
  {
   "cell_type": "code",
   "execution_count": 4,
   "id": "ae2abc76-398f-4134-bf62-8cc265417468",
   "metadata": {
    "tags": []
   },
   "outputs": [
    {
     "name": "stdin",
     "output_type": "stream",
     "text": [
      " 10 2\n",
      " 10 1\n",
      " 10 2\n",
      " 3 2\n"
     ]
    }
   ],
   "source": [
    "XYn = [list(map(int, input().split())) for _ in range(N)]"
   ]
  },
  {
   "cell_type": "code",
   "execution_count": 5,
   "id": "8983d831-c3ab-410c-b4ff-1a81a2353843",
   "metadata": {
    "tags": []
   },
   "outputs": [],
   "source": [
    "x, y = 0, 0\n",
    "for X, Y in XYn:\n",
    "    x += X\n",
    "    y += Y"
   ]
  },
  {
   "cell_type": "code",
   "execution_count": 7,
   "id": "fc1f3927-40b0-46d8-9821-977904f34ace",
   "metadata": {
    "tags": []
   },
   "outputs": [
    {
     "name": "stdout",
     "output_type": "stream",
     "text": [
      "Takahashi\n"
     ]
    }
   ],
   "source": [
    "if x > y:\n",
    "    print('Takahashi')\n",
    "elif x == y:\n",
    "    print('Draw')\n",
    "else:\n",
    "    print('Aoki')"
   ]
  },
  {
   "cell_type": "code",
   "execution_count": null,
   "id": "4e604c77-4a7b-407e-9135-98a6e43378d1",
   "metadata": {},
   "outputs": [],
   "source": []
  }
 ],
 "metadata": {
  "kernelspec": {
   "display_name": "Python 3 (ipykernel)",
   "language": "python",
   "name": "python3"
  },
  "language_info": {
   "codemirror_mode": {
    "name": "ipython",
    "version": 3
   },
   "file_extension": ".py",
   "mimetype": "text/x-python",
   "name": "python",
   "nbconvert_exporter": "python",
   "pygments_lexer": "ipython3",
   "version": "3.11.3"
  }
 },
 "nbformat": 4,
 "nbformat_minor": 5
}
