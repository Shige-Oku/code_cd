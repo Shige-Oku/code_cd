{
 "cells": [
  {
   "cell_type": "code",
   "execution_count": 1,
   "id": "8b50505b-08b9-46bb-be12-1406742d23fd",
   "metadata": {
    "tags": []
   },
   "outputs": [],
   "source": [
    "import sys\n",
    "import numpy as np\n",
    "import math\n",
    "import collections\n",
    "import copy\n",
    "import decimal\n",
    "import itertools\n",
    "import re\n",
    "import bisect\n",
    "import scipy\n",
    "import heapq\n",
    "from collections import deque \n",
    "from functools import reduce\n",
    "from itertools import product\n",
    "from itertools import combinations\n",
    "from functools import lru_cache\n",
    "from scipy.special import comb\n",
    "from numba import njit\n",
    "from bisect import bisect_right\n",
    "from bisect import bisect_left"
   ]
  },
  {
   "cell_type": "code",
   "execution_count": 1,
   "id": "85f7bf21-86e8-4ec7-9789-40296500c38e",
   "metadata": {
    "tags": []
   },
   "outputs": [
    {
     "name": "stdin",
     "output_type": "stream",
     "text": [
      " 3 4 3\n"
     ]
    }
   ],
   "source": [
    "H, W, K = map(int, input().split())"
   ]
  },
  {
   "cell_type": "code",
   "execution_count": 2,
   "id": "d45651b8-328b-41dd-98c5-4e3082da55ab",
   "metadata": {
    "tags": []
   },
   "outputs": [
    {
     "name": "stdin",
     "output_type": "stream",
     "text": [
      " xo.x\n",
      " ..o.\n",
      " xx.o\n"
     ]
    }
   ],
   "source": [
    "Sh = [input() for _ in range(H)]"
   ]
  },
  {
   "cell_type": "code",
   "execution_count": 23,
   "id": "c5f03ead-bb7e-49df-aaf0-13f70e0717d0",
   "metadata": {
    "tags": []
   },
   "outputs": [],
   "source": [
    "x_cum_w = [[0] * (W+1) for _ in range(H+1)]\n",
    "p_cum_w = [[0] * (W+1) for _ in range(H+1)]\n",
    "for h in range(1, H+1):\n",
    "    for w in range(1, W+1):\n",
    "        if Sh[h-1][w-1] == 'x':\n",
    "            x_cum_w[h][w]  = x_cum_w[h][w-1] + 1\n",
    "        else:\n",
    "            x_cum_w[h][w]  = x_cum_w[h][w-1]\n",
    "            \n",
    "        if Sh[h-1][w-1] == '.':\n",
    "            p_cum_w[h][w]  = p_cum_w[h][w-1] + 1\n",
    "        else:\n",
    "            p_cum_w[h][w]  = p_cum_w[h][w-1]\n",
    "            "
   ]
  },
  {
   "cell_type": "code",
   "execution_count": 24,
   "id": "07de5824-4e5d-4a51-8711-9c0b9d53a111",
   "metadata": {
    "tags": []
   },
   "outputs": [],
   "source": [
    "x_cum_h = [[0] * (H+1) for _ in range(W+1)]\n",
    "p_cum_h = [[0] * (H+1) for _ in range(W+1)]\n",
    "for w in range(1, W+1):\n",
    "    for h in range(1, H+1):\n",
    "        if Sh[h-1][w-1] == 'x':\n",
    "            x_cum_h[w][h]  = x_cum_h[w][h-1] + 1\n",
    "        else:\n",
    "            x_cum_h[w][h]  = x_cum_h[w][h-1]\n",
    "            \n",
    "        if Sh[h-1][w-1] == '.':\n",
    "            p_cum_h[w][h]  = p_cum_h[w][h-1] + 1\n",
    "        else:\n",
    "            p_cum_h[w][h]  = p_cum_h[w][h-1]\n",
    "            "
   ]
  },
  {
   "cell_type": "code",
   "execution_count": 40,
   "id": "5ff5317b-1cdb-40a9-9697-10e780a8c63c",
   "metadata": {
    "tags": []
   },
   "outputs": [],
   "source": [
    "ans = 10**20\n",
    "for h in range(1, H+1):\n",
    "    for w in range(1, W-K+2):\n",
    "        if x_cum_w[h][w+K-1] - x_cum_w[h][w-1] > 0:\n",
    "            continue\n",
    "        ans = min(ans, p_cum_w[h][w+K-1] - p_cum_w[h][w-1])\n",
    "\n",
    "for w in range(1, W+1):\n",
    "    for h in range(1, H-K+2):\n",
    "        if x_cum_h[w][h+K-1] - x_cum_h[w][h-1] > 0:\n",
    "            continue\n",
    "        ans = min(ans, p_cum_h[w][h+K-1] - p_cum_h[w][h-1])\n",
    "        "
   ]
  },
  {
   "cell_type": "code",
   "execution_count": 42,
   "id": "0f1151e5-e621-4271-90b9-9526a755f333",
   "metadata": {
    "tags": []
   },
   "outputs": [
    {
     "name": "stdout",
     "output_type": "stream",
     "text": [
      "2\n"
     ]
    }
   ],
   "source": [
    "print(-1 if ans == 10**20 else ans)"
   ]
  },
  {
   "cell_type": "code",
   "execution_count": 12,
   "id": "acd1baca-4606-4f86-9dc9-cc1f832fa426",
   "metadata": {},
   "outputs": [],
   "source": [
    "l = [[1, 2, 3, 4, 5],\n",
    "[6, 7, 8, 9, 10]]"
   ]
  },
  {
   "cell_type": "code",
   "execution_count": 13,
   "id": "271bc025-3993-4d78-8082-d536b53b1141",
   "metadata": {
    "tags": []
   },
   "outputs": [
    {
     "data": {
      "text/plain": [
       "3"
      ]
     },
     "execution_count": 13,
     "metadata": {},
     "output_type": "execute_result"
    }
   ],
   "source": [
    "l[0][2]"
   ]
  },
  {
   "cell_type": "code",
   "execution_count": 25,
   "id": "982a4d21-52e9-4705-9448-2610f40ddf17",
   "metadata": {
    "tags": []
   },
   "outputs": [
    {
     "data": {
      "text/plain": [
       "([[0, 0, 0, 0, 0], [0, 1, 1, 1, 2], [0, 0, 0, 0, 0], [0, 1, 2, 2, 2]],\n",
       " [[0, 0, 0, 0, 0], [0, 0, 0, 1, 1], [0, 1, 2, 2, 3], [0, 0, 0, 1, 1]],\n",
       " [[0, 0, 0, 0], [0, 1, 1, 2], [0, 0, 0, 1], [0, 0, 0, 0], [0, 1, 1, 1]],\n",
       " [[0, 0, 0, 0], [0, 0, 1, 1], [0, 0, 1, 1], [0, 1, 1, 2], [0, 0, 1, 1]])"
      ]
     },
     "execution_count": 25,
     "metadata": {},
     "output_type": "execute_result"
    }
   ],
   "source": [
    "x_cum_w, p_cum_w, x_cum_h, p_cum_h"
   ]
  },
  {
   "cell_type": "code",
   "execution_count": 36,
   "id": "c363d732-7de0-4285-ac29-1008a010eeb5",
   "metadata": {
    "tags": []
   },
   "outputs": [
    {
     "data": {
      "text/plain": [
       "(1, 2)"
      ]
     },
     "execution_count": 36,
     "metadata": {},
     "output_type": "execute_result"
    }
   ],
   "source": [
    "h, w"
   ]
  },
  {
   "cell_type": "code",
   "execution_count": 39,
   "id": "01c1ed39-eeb1-4e16-9efd-8a0640f5600b",
   "metadata": {
    "tags": []
   },
   "outputs": [
    {
     "data": {
      "text/plain": [
       "2"
      ]
     },
     "execution_count": 39,
     "metadata": {},
     "output_type": "execute_result"
    }
   ],
   "source": [
    "ans"
   ]
  },
  {
   "cell_type": "code",
   "execution_count": null,
   "id": "a6694221-07bf-4b38-a1a5-b96bc755b2cf",
   "metadata": {},
   "outputs": [],
   "source": []
  }
 ],
 "metadata": {
  "kernelspec": {
   "display_name": "Python 3 (ipykernel)",
   "language": "python",
   "name": "python3"
  },
  "language_info": {
   "codemirror_mode": {
    "name": "ipython",
    "version": 3
   },
   "file_extension": ".py",
   "mimetype": "text/x-python",
   "name": "python",
   "nbconvert_exporter": "python",
   "pygments_lexer": "ipython3",
   "version": "3.11.3"
  }
 },
 "nbformat": 4,
 "nbformat_minor": 5
}
