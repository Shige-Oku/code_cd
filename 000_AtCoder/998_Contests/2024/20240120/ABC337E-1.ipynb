{
 "cells": [
  {
   "cell_type": "code",
   "execution_count": 1,
   "id": "d6a5043c-3098-415e-905f-ac67829f421a",
   "metadata": {
    "tags": []
   },
   "outputs": [],
   "source": [
    "import sys\n",
    "import numpy as np\n",
    "import math\n",
    "import collections\n",
    "import copy\n",
    "import decimal\n",
    "import itertools\n",
    "import re\n",
    "import bisect\n",
    "import scipy\n",
    "import heapq\n",
    "from collections import deque \n",
    "from functools import reduce\n",
    "from itertools import product\n",
    "from itertools import combinations\n",
    "from functools import lru_cache\n",
    "from scipy.special import comb\n",
    "from numba import njit\n",
    "from bisect import bisect_right\n",
    "from bisect import bisect_left"
   ]
  },
  {
   "cell_type": "code",
   "execution_count": 93,
   "id": "4367fb8a-1171-451e-9ee8-0a6c7d97a108",
   "metadata": {
    "tags": []
   },
   "outputs": [
    {
     "name": "stdin",
     "output_type": "stream",
     "text": [
      " 8\n"
     ]
    }
   ],
   "source": [
    "N = int(input())"
   ]
  },
  {
   "cell_type": "code",
   "execution_count": 100,
   "id": "906b2397-1b3c-4243-be0e-2645d246117f",
   "metadata": {
    "tags": []
   },
   "outputs": [
    {
     "name": "stdout",
     "output_type": "stream",
     "text": [
      "3\n"
     ]
    }
   ],
   "source": [
    "M = 0\n",
    "cnt = 1\n",
    "while cnt < N:\n",
    "    cnt *= 2\n",
    "    M += 1\n",
    "print(M)\n"
   ]
  },
  {
   "cell_type": "code",
   "execution_count": 103,
   "id": "9702e9ea-3763-419e-96c2-aa4d9aecd3c9",
   "metadata": {
    "tags": []
   },
   "outputs": [],
   "source": [
    "wine = [[] for _ in range(M+1)]\n",
    "for i in range(1, N):\n",
    "    bi = bin(i)\n",
    "    bi = bi[2:]\n",
    "    for j, b in enumerate(bi[::-1], 1):\n",
    "        if b == '0':\n",
    "            continue\n",
    "        wine[j].append(i)"
   ]
  },
  {
   "cell_type": "code",
   "execution_count": 102,
   "id": "2208986e-6958-46a8-971a-88afde0db56e",
   "metadata": {
    "tags": []
   },
   "outputs": [
    {
     "data": {
      "text/plain": [
       "([[], [1, 3, 5, 7], [2, 3, 6, 7], [4, 5, 6, 7]], 8)"
      ]
     },
     "execution_count": 102,
     "metadata": {},
     "output_type": "execute_result"
    }
   ],
   "source": [
    "wine, i"
   ]
  },
  {
   "cell_type": "code",
   "execution_count": 104,
   "id": "142e2d94-5ca3-455e-8c50-b0d1e1e1cac8",
   "metadata": {
    "tags": []
   },
   "outputs": [
    {
     "name": "stdout",
     "output_type": "stream",
     "text": [
      "4 1 3 5 7\n",
      "4 2 3 6 7\n",
      "4 4 5 6 7\n"
     ]
    }
   ],
   "source": [
    "for w in wine[1:]:\n",
    "    print(len(w), *w)"
   ]
  },
  {
   "cell_type": "code",
   "execution_count": 122,
   "id": "dea522d9-b016-426b-b006-86a5dd88ef82",
   "metadata": {
    "tags": []
   },
   "outputs": [
    {
     "name": "stdin",
     "output_type": "stream",
     "text": [
      " 000\n"
     ]
    }
   ],
   "source": [
    "S = input()"
   ]
  },
  {
   "cell_type": "code",
   "execution_count": 123,
   "id": "529aa3fb-7fc2-4f1e-bf13-de5e54b55d0a",
   "metadata": {
    "tags": []
   },
   "outputs": [
    {
     "name": "stdout",
     "output_type": "stream",
     "text": [
      "8\n"
     ]
    }
   ],
   "source": [
    "ans = 0\n",
    "c = 1\n",
    "for s in S:\n",
    "    if s == '1':\n",
    "        ans += c\n",
    "    c *= 2\n",
    "if ans == 0:\n",
    "    print(N)\n",
    "else:\n",
    "    print(ans)"
   ]
  },
  {
   "cell_type": "code",
   "execution_count": 76,
   "id": "f82eecbd-8875-446e-98e7-f5c0568c528f",
   "metadata": {
    "tags": []
   },
   "outputs": [
    {
     "data": {
      "text/plain": [
       "'0b101'"
      ]
     },
     "execution_count": 76,
     "metadata": {},
     "output_type": "execute_result"
    }
   ],
   "source": [
    "bin(5)"
   ]
  },
  {
   "cell_type": "code",
   "execution_count": 48,
   "id": "b1cf6a30-e557-4e52-b0f5-f27d217b7f83",
   "metadata": {
    "tags": []
   },
   "outputs": [
    {
     "data": {
      "text/plain": [
       "[[], [1, 3], [2, 3]]"
      ]
     },
     "execution_count": 48,
     "metadata": {},
     "output_type": "execute_result"
    }
   ],
   "source": [
    "wine"
   ]
  },
  {
   "cell_type": "code",
   "execution_count": 98,
   "id": "27b93b2c-a463-4212-86eb-f2c5d4e3374d",
   "metadata": {
    "tags": []
   },
   "outputs": [
    {
     "data": {
      "text/plain": [
       "(8, 4, 16)"
      ]
     },
     "execution_count": 98,
     "metadata": {},
     "output_type": "execute_result"
    }
   ],
   "source": [
    "N, M, cnt"
   ]
  },
  {
   "cell_type": "code",
   "execution_count": null,
   "id": "e93a3c64-0fd4-4170-bafb-510fa9347d7a",
   "metadata": {},
   "outputs": [],
   "source": []
  }
 ],
 "metadata": {
  "kernelspec": {
   "display_name": "Python 3 (ipykernel)",
   "language": "python",
   "name": "python3"
  },
  "language_info": {
   "codemirror_mode": {
    "name": "ipython",
    "version": 3
   },
   "file_extension": ".py",
   "mimetype": "text/x-python",
   "name": "python",
   "nbconvert_exporter": "python",
   "pygments_lexer": "ipython3",
   "version": "3.11.3"
  }
 },
 "nbformat": 4,
 "nbformat_minor": 5
}
