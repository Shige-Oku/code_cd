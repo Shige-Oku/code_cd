{
 "cells": [
  {
   "cell_type": "code",
   "execution_count": 1,
   "id": "e8834360-7a5b-4dde-9584-e5aaac415663",
   "metadata": {
    "tags": []
   },
   "outputs": [
    {
     "name": "stdin",
     "output_type": "stream",
     "text": [
      " 5 3\n"
     ]
    }
   ],
   "source": [
    "N, M = map(int, input().split())"
   ]
  },
  {
   "cell_type": "code",
   "execution_count": 2,
   "id": "4dca857d-08bb-4063-a28e-e3e734de459b",
   "metadata": {
    "tags": []
   },
   "outputs": [
    {
     "name": "stdin",
     "output_type": "stream",
     "text": [
      " 1 2 3 4 5\n"
     ]
    }
   ],
   "source": [
    "An = list(map(int, input().split()))"
   ]
  },
  {
   "cell_type": "code",
   "execution_count": 3,
   "id": "1a0a3f27-5bed-4359-8929-dbdaedd7b853",
   "metadata": {
    "tags": []
   },
   "outputs": [
    {
     "name": "stdin",
     "output_type": "stream",
     "text": [
      " 2 4 0\n"
     ]
    }
   ],
   "source": [
    "Bn = list(map(int, input().split()))"
   ]
  },
  {
   "cell_type": "code",
   "execution_count": 12,
   "id": "00163c73-dddf-4139-805b-9411a6c86618",
   "metadata": {
    "tags": []
   },
   "outputs": [],
   "source": [
    "from atcoder.fenwicktree import FenwickTree"
   ]
  },
  {
   "cell_type": "code",
   "execution_count": 5,
   "id": "5bc6c100-4b30-47d6-80ff-f99970b2c4a7",
   "metadata": {
    "tags": []
   },
   "outputs": [],
   "source": [
    "class BIT:\n",
    "    # 長さN+1の配列を初期化\n",
    "    def __init__(self, N):\n",
    "        self.size = N\n",
    "        self.bit = [0]*(N+1)\n",
    "\n",
    "    # i番目までの和を求める\n",
    "    def sum(self, i):\n",
    "        res = 0\n",
    "        while i > 0:\n",
    "            res += self.bit[i] # フェニック木のi番目の値を加算\n",
    "            i -= -i & i # 最も右にある1の桁を0にする\n",
    "        return res\n",
    "\n",
    "    # i番目の値にxを足して更新する\n",
    "    def add(self, i, x):\n",
    "        while i <= self.size:\n",
    "            self.bit[i] += x # フェニック木のi番目にxを足して更新\n",
    "            i += -i & i # 最も右にある1の桁に1を足す\n"
   ]
  },
  {
   "cell_type": "code",
   "execution_count": 6,
   "id": "ea73fe20-cbea-4b83-a893-aaffb5f153ad",
   "metadata": {
    "tags": []
   },
   "outputs": [],
   "source": [
    "def add(l, r, x):\n",
    "    ft.add(l, x)\n",
    "    ft.add(r, -x)"
   ]
  },
  {
   "cell_type": "code",
   "execution_count": 7,
   "id": "5d84544d-937a-4bb8-acd8-d62e58c235e8",
   "metadata": {
    "tags": []
   },
   "outputs": [],
   "source": [
    "ft = FenwickTree(N+1)\n",
    "for i, A in enumerate(An):\n",
    "    add(i, i+1, A)\n",
    "\n",
    "for B in Bn:\n",
    "    a = ft.sum(0, B+1)\n",
    "    add(B, B+1, -a)\n",
    "    \n",
    "    c, a = divmod(a, N)\n",
    "    add(0, N, c)\n",
    "    \n",
    "    l, r = B+1, B+1+a\n",
    "    if r < N:\n",
    "        add(l, r, 1)\n",
    "    else:\n",
    "        add(l, N, 1)\n",
    "        add(0, r-N, 1)"
   ]
  },
  {
   "cell_type": "code",
   "execution_count": 8,
   "id": "26fa660d-bd01-45ed-9534-2908cec35f92",
   "metadata": {
    "tags": []
   },
   "outputs": [
    {
     "name": "stdout",
     "output_type": "stream",
     "text": [
      "0 4 2 7 2 "
     ]
    }
   ],
   "source": [
    "for i in range(1, N+1):\n",
    "    print(ft.sum(0, i), end=' ')"
   ]
  },
  {
   "cell_type": "code",
   "execution_count": 28,
   "id": "5c14e118-1ca5-4ab0-b166-a84249dcba02",
   "metadata": {
    "tags": []
   },
   "outputs": [
    {
     "name": "stdout",
     "output_type": "stream",
     "text": [
      "2 2\n",
      "4 5\n",
      "0 0\n"
     ]
    }
   ],
   "source": [
    "fw = FenwickTree(N+1)\n",
    "for i, A in enumerate(An, 1):\n",
    "    fw.add(i, A)\n",
    "\n",
    "for B in Bn:\n",
    "    v = fw.sum(B, B+1)\n",
    "    print(B, v)\n",
    "    \n",
    "    s, a = divmod(v, N)\n",
    "    for i in range(1, N+1):\n",
    "        fw.add(i, s)\n",
    "    \n",
    "    l, r = B+1, B+a+1\n",
    "    if r <= N:\n",
    "        for i in range(l, r+1):\n",
    "            fw.add(i, 1)\n",
    "    else:\n",
    "        for i in range(l, N+1):\n",
    "            fw.add(i, 1)\n",
    "        for i in range(r-N+1):\n",
    "            fw.add(i, 1)            "
   ]
  },
  {
   "cell_type": "code",
   "execution_count": 30,
   "id": "09341721-2585-47df-922c-8a94fb520075",
   "metadata": {
    "tags": []
   },
   "outputs": [
    {
     "name": "stdout",
     "output_type": "stream",
     "text": [
      "0 19 16 25 13 "
     ]
    }
   ],
   "source": [
    "for i in range(1, N+1):\n",
    "    print(ft.sum(0, i) - ft.sum(0, i-1), end=' ')"
   ]
  },
  {
   "cell_type": "code",
   "execution_count": 51,
   "id": "f1a38374-5aa3-4cca-96d6-97018cab75b8",
   "metadata": {
    "tags": []
   },
   "outputs": [
    {
     "data": {
      "text/plain": [
       "([1], [0, 0, 0, 0])"
      ]
     },
     "execution_count": 51,
     "metadata": {},
     "output_type": "execute_result"
    }
   ],
   "source": [
    "An, Bn"
   ]
  },
  {
   "cell_type": "code",
   "execution_count": 34,
   "id": "866e9e42-5581-4cd9-bd3c-1b333a680614",
   "metadata": {
    "tags": []
   },
   "outputs": [
    {
     "name": "stdout",
     "output_type": "stream",
     "text": [
      "0 1 0\n",
      "0 2 1\n",
      "0 3 3\n",
      "0 4 6\n",
      "0 5 10\n",
      "0 6 15\n",
      "0 7 21\n",
      "0 8 28\n",
      "0 9 36\n",
      "1 2 1\n",
      "1 3 3\n",
      "1 4 6\n",
      "1 5 10\n",
      "1 6 15\n",
      "1 7 21\n",
      "1 8 28\n",
      "1 9 36\n",
      "2 3 2\n",
      "2 4 5\n",
      "2 5 9\n",
      "2 6 14\n",
      "2 7 20\n",
      "2 8 27\n",
      "2 9 35\n",
      "3 4 3\n",
      "3 5 7\n",
      "3 6 12\n",
      "3 7 18\n",
      "3 8 25\n",
      "3 9 33\n",
      "4 5 4\n",
      "4 6 9\n",
      "4 7 15\n",
      "4 8 22\n",
      "4 9 30\n",
      "5 6 5\n",
      "5 7 11\n",
      "5 8 18\n",
      "5 9 26\n",
      "6 7 6\n",
      "6 8 13\n",
      "6 9 21\n",
      "7 8 7\n",
      "7 9 15\n",
      "8 9 8\n"
     ]
    }
   ],
   "source": [
    "fw = FenwickTree(8+1)\n",
    "for i in range(1, 9):\n",
    "    fw.add(i, i)\n",
    "\n",
    "for l in range(10):\n",
    "    for r in range(l+1, 10):\n",
    "        print(l, r, fw.sum(l, r))"
   ]
  },
  {
   "cell_type": "code",
   "execution_count": 35,
   "id": "ec0ae7a9-51f2-4233-bd99-0087dc7cefec",
   "metadata": {
    "tags": []
   },
   "outputs": [],
   "source": [
    "# for i in range(2, 5):\n",
    "#     fw.add(i, 1)\n",
    "#     fw.add(i+1, -1)\n",
    "fw.add(2, 1)"
   ]
  },
  {
   "cell_type": "code",
   "execution_count": 36,
   "id": "6e38aaaa-2b41-476a-8678-5992b9a48f1d",
   "metadata": {},
   "outputs": [
    {
     "name": "stdout",
     "output_type": "stream",
     "text": [
      "0 1 0\n",
      "0 2 1\n",
      "0 3 4\n",
      "0 4 7\n",
      "0 5 11\n",
      "0 6 16\n",
      "0 7 22\n",
      "0 8 29\n",
      "0 9 37\n",
      "1 2 1\n",
      "1 3 4\n",
      "1 4 7\n",
      "1 5 11\n",
      "1 6 16\n",
      "1 7 22\n",
      "1 8 29\n",
      "1 9 37\n",
      "2 3 3\n",
      "2 4 6\n",
      "2 5 10\n",
      "2 6 15\n",
      "2 7 21\n",
      "2 8 28\n",
      "2 9 36\n",
      "3 4 3\n",
      "3 5 7\n",
      "3 6 12\n",
      "3 7 18\n",
      "3 8 25\n",
      "3 9 33\n",
      "4 5 4\n",
      "4 6 9\n",
      "4 7 15\n",
      "4 8 22\n",
      "4 9 30\n",
      "5 6 5\n",
      "5 7 11\n",
      "5 8 18\n",
      "5 9 26\n",
      "6 7 6\n",
      "6 8 13\n",
      "6 9 21\n",
      "7 8 7\n",
      "7 9 15\n",
      "8 9 8\n"
     ]
    }
   ],
   "source": [
    "for l in range(10):\n",
    "    for r in range(l+1, 10):\n",
    "        print(l, r, fw.sum(l, r))"
   ]
  },
  {
   "cell_type": "code",
   "execution_count": null,
   "id": "cbf8f09b-bd76-42a1-bb36-d0bb74031b52",
   "metadata": {},
   "outputs": [],
   "source": []
  }
 ],
 "metadata": {
  "kernelspec": {
   "display_name": "Python 3 (ipykernel)",
   "language": "python",
   "name": "python3"
  },
  "language_info": {
   "codemirror_mode": {
    "name": "ipython",
    "version": 3
   },
   "file_extension": ".py",
   "mimetype": "text/x-python",
   "name": "python",
   "nbconvert_exporter": "python",
   "pygments_lexer": "ipython3",
   "version": "3.11.3"
  }
 },
 "nbformat": 4,
 "nbformat_minor": 5
}
