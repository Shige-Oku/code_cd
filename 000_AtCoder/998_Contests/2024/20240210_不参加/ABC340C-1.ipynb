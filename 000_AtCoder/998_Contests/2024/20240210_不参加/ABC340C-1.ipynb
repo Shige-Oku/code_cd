{
 "cells": [
  {
   "cell_type": "code",
   "execution_count": 18,
   "id": "8e5e1ba5-7806-47bf-a44e-4be6563c80f9",
   "metadata": {
    "tags": []
   },
   "outputs": [
    {
     "name": "stdin",
     "output_type": "stream",
     "text": [
      " 100000000000000000\n"
     ]
    }
   ],
   "source": [
    "N = int(input())"
   ]
  },
  {
   "cell_type": "code",
   "execution_count": 19,
   "id": "fb00499f-fb01-457f-97d0-59015305a79d",
   "metadata": {
    "tags": []
   },
   "outputs": [],
   "source": [
    "import sys\n",
    "sys.setrecursionlimit(10**7)"
   ]
  },
  {
   "cell_type": "code",
   "execution_count": 20,
   "id": "662a716f-f415-443e-8fe7-e55fd07a1294",
   "metadata": {
    "tags": []
   },
   "outputs": [],
   "source": [
    "from functools import lru_cache\n",
    "@lru_cache(maxsize=None)\n",
    "def dfs(n):\n",
    "    if n <= 1:\n",
    "        return 0\n",
    "    ret = n\n",
    "    ret += dfs((n+1)//2)\n",
    "    ret += dfs(n//2)\n",
    "   \n",
    "    return ret"
   ]
  },
  {
   "cell_type": "code",
   "execution_count": 21,
   "id": "3063ef3a-91e0-483f-bb67-905e7a978d0a",
   "metadata": {
    "tags": []
   },
   "outputs": [
    {
     "name": "stdout",
     "output_type": "stream",
     "text": [
      "5655884811924144128\n"
     ]
    }
   ],
   "source": [
    "print(dfs(N))"
   ]
  },
  {
   "cell_type": "code",
   "execution_count": 22,
   "id": "3a408d25-a9a0-4544-a40a-49f58bc86ecd",
   "metadata": {
    "tags": []
   },
   "outputs": [],
   "source": [
    "di = {}"
   ]
  },
  {
   "cell_type": "code",
   "execution_count": 25,
   "id": "a0a96240-1f92-4a0c-8826-c5c05728600e",
   "metadata": {
    "tags": []
   },
   "outputs": [],
   "source": [
    "def f(n):\n",
    "    if n == 1:\n",
    "        return 0\n",
    "    if n in di:\n",
    "        return di[n]\n",
    "    ret = n + f(n//2) + f((n+1)//2)\n",
    "    di[n] = ret\n",
    "    return ret"
   ]
  },
  {
   "cell_type": "code",
   "execution_count": 26,
   "id": "52229d79-e96d-4751-8d5c-953af728bfa5",
   "metadata": {
    "tags": []
   },
   "outputs": [
    {
     "name": "stdout",
     "output_type": "stream",
     "text": [
      "5655884811924144128\n"
     ]
    }
   ],
   "source": [
    "print(f(N))"
   ]
  },
  {
   "cell_type": "code",
   "execution_count": null,
   "id": "a4866a1c-1416-41d0-99cd-3a4f4595d5e9",
   "metadata": {},
   "outputs": [],
   "source": []
  }
 ],
 "metadata": {
  "kernelspec": {
   "display_name": "Python 3 (ipykernel)",
   "language": "python",
   "name": "python3"
  },
  "language_info": {
   "codemirror_mode": {
    "name": "ipython",
    "version": 3
   },
   "file_extension": ".py",
   "mimetype": "text/x-python",
   "name": "python",
   "nbconvert_exporter": "python",
   "pygments_lexer": "ipython3",
   "version": "3.11.3"
  }
 },
 "nbformat": 4,
 "nbformat_minor": 5
}
