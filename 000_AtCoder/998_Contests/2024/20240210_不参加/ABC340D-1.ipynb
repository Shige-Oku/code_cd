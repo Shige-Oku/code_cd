{
 "cells": [
  {
   "cell_type": "code",
   "execution_count": 1,
   "id": "1184cf31-32ae-431b-b55e-f9ef4c4905eb",
   "metadata": {
    "tags": []
   },
   "outputs": [
    {
     "name": "stdin",
     "output_type": "stream",
     "text": [
      " 5\n"
     ]
    }
   ],
   "source": [
    "N = int(input())"
   ]
  },
  {
   "cell_type": "code",
   "execution_count": 3,
   "id": "fc53d90a-c0c3-49ae-8f43-6d921970174c",
   "metadata": {
    "tags": []
   },
   "outputs": [
    {
     "name": "stdin",
     "output_type": "stream",
     "text": [
      " 100 200 3\n",
      " 50 10 1\n",
      " 100 200 5\n",
      " 150 1 2\n"
     ]
    }
   ],
   "source": [
    "ABXn = [list(map(int, input().split())) for _ in range(N-1)]"
   ]
  },
  {
   "cell_type": "code",
   "execution_count": 29,
   "id": "5d67943d-fbf2-4e6e-8054-5a824413a64d",
   "metadata": {
    "tags": []
   },
   "outputs": [],
   "source": [
    "import heapq\n",
    "def solve():\n",
    "    q = []\n",
    "    dist = [-1] * (N+1)\n",
    "    dist[1] = 0\n",
    "    a, b, x = ABXn[0]\n",
    "    heapq.heappush(q, (a, 2))\n",
    "    heapq.heappush(q, (b, x))\n",
    "    while q:\n",
    "        c, p = heapq.heappop(q)\n",
    "        if dist[p] != -1:\n",
    "            continue\n",
    "        dist[p] = c\n",
    "        if p == N:\n",
    "            break\n",
    "        a, b, x = ABXn[p-1]\n",
    "        heapq.heappush(q, (c+a, p+1))\n",
    "        heapq.heappush(q, (c+b, x))\n",
    "        \n",
    "    return dist[N]"
   ]
  },
  {
   "cell_type": "code",
   "execution_count": 30,
   "id": "5d1aef67-2842-49fb-bc3c-5dd59571d083",
   "metadata": {
    "tags": []
   },
   "outputs": [
    {
     "name": "stdout",
     "output_type": "stream",
     "text": [
      "350\n"
     ]
    }
   ],
   "source": [
    "print(solve())"
   ]
  },
  {
   "cell_type": "code",
   "execution_count": null,
   "id": "004d5029-a41d-4ede-a317-c9c36a3aeeac",
   "metadata": {},
   "outputs": [],
   "source": []
  }
 ],
 "metadata": {
  "kernelspec": {
   "display_name": "Python 3 (ipykernel)",
   "language": "python",
   "name": "python3"
  },
  "language_info": {
   "codemirror_mode": {
    "name": "ipython",
    "version": 3
   },
   "file_extension": ".py",
   "mimetype": "text/x-python",
   "name": "python",
   "nbconvert_exporter": "python",
   "pygments_lexer": "ipython3",
   "version": "3.11.3"
  }
 },
 "nbformat": 4,
 "nbformat_minor": 5
}
