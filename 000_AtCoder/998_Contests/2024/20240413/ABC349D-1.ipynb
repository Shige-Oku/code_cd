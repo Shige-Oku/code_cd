{
 "cells": [
  {
   "cell_type": "code",
   "execution_count": 1,
   "id": "8a8d9706-0e51-4066-9326-212f9b10c49c",
   "metadata": {
    "tags": []
   },
   "outputs": [],
   "source": [
    "import sys\n",
    "import numpy as np\n",
    "import math\n",
    "import collections\n",
    "import copy\n",
    "import decimal\n",
    "import itertools\n",
    "import re\n",
    "import bisect\n",
    "import scipy\n",
    "import heapq\n",
    "from collections import deque \n",
    "from functools import reduce\n",
    "from itertools import product\n",
    "from itertools import combinations\n",
    "from functools import lru_cache\n",
    "from scipy.special import comb\n",
    "from numba import njit\n",
    "from bisect import bisect_right\n",
    "from bisect import bisect_left\n",
    "from atcoder.fenwicktree import FenwickTree"
   ]
  },
  {
   "cell_type": "code",
   "execution_count": 25,
   "id": "33a86a1e-046c-41ef-b878-9f5d29fea47b",
   "metadata": {
    "tags": []
   },
   "outputs": [
    {
     "name": "stdin",
     "output_type": "stream",
     "text": [
      " 0 1024\n"
     ]
    }
   ],
   "source": [
    "L, R = map(int, input().split())"
   ]
  },
  {
   "cell_type": "code",
   "execution_count": null,
   "id": "70e8df19-ac61-4fe2-91fd-eeaf328dbfa6",
   "metadata": {},
   "outputs": [],
   "source": [
    "# 解説を読んで実装"
   ]
  },
  {
   "cell_type": "code",
   "execution_count": 26,
   "id": "add426b3-d4d7-4ac5-898f-305f1f268f1d",
   "metadata": {},
   "outputs": [],
   "source": [
    "ans = []\n",
    "l, r = L, R\n",
    "while l != r:\n",
    "    for i in range(61, -1, -1):\n",
    "        w = 2 ** i\n",
    "        if l % w != 0:\n",
    "            continue\n",
    "        if l + w > r:\n",
    "            continue\n",
    "        ans.append((l, l+w))\n",
    "        l += w\n",
    "        break"
   ]
  },
  {
   "cell_type": "code",
   "execution_count": 27,
   "id": "d19bb424-a2be-44cb-a050-198e3c883753",
   "metadata": {
    "tags": []
   },
   "outputs": [
    {
     "name": "stdout",
     "output_type": "stream",
     "text": [
      "1\n",
      "0 1024\n"
     ]
    }
   ],
   "source": [
    "print(len(ans))\n",
    "for l, r in ans:\n",
    "    print(l, r)"
   ]
  },
  {
   "cell_type": "code",
   "execution_count": 31,
   "id": "45b1fea5-36f5-41d3-b3ae-9bcafb76185b",
   "metadata": {
    "tags": []
   },
   "outputs": [],
   "source": [
    "import sys\n",
    "sys.setrecursionlimit(10**4)\n",
    "def dfs(l, r):\n",
    "    if L <= l and r <= R:\n",
    "        ans.append((l, r))\n",
    "        return\n",
    "    m = (l + r) // 2\n",
    "    if L < m:\n",
    "        dfs(l, m)\n",
    "    if m < R:\n",
    "        dfs(m, r)\n",
    "    return"
   ]
  },
  {
   "cell_type": "code",
   "execution_count": 32,
   "id": "215cde9d-2c84-4e1c-ab5d-44490bb58f2b",
   "metadata": {
    "tags": []
   },
   "outputs": [],
   "source": [
    "ans = []\n",
    "dfs(0, 2**61)"
   ]
  },
  {
   "cell_type": "code",
   "execution_count": 33,
   "id": "48503fa1-f39e-4651-948c-fe04d4bf027d",
   "metadata": {
    "tags": []
   },
   "outputs": [
    {
     "name": "stdout",
     "output_type": "stream",
     "text": [
      "1\n",
      "0 1024\n"
     ]
    }
   ],
   "source": [
    "print(len(ans))\n",
    "for l, r in ans:\n",
    "    print(l, r)"
   ]
  },
  {
   "cell_type": "code",
   "execution_count": null,
   "id": "44f8248f-aac7-4657-809f-13d72e100a7d",
   "metadata": {},
   "outputs": [],
   "source": []
  },
  {
   "cell_type": "code",
   "execution_count": 17,
   "id": "98b6d66f-98c0-4044-887e-f31c5c4951d5",
   "metadata": {
    "tags": []
   },
   "outputs": [
    {
     "data": {
      "text/plain": [
       "[(3940649673945088, 3940649673949184),\n",
       " (3940649673949184, 4503599627370496),\n",
       " (4503599627370496, 9007199254740992),\n",
       " (9007199254740992, 11258999068426240),\n",
       " (11258999068426240, 11540474045136896),\n",
       " (11540474045136896, 11549270138159104),\n",
       " (11549270138159104, 11549545016066048),\n",
       " (11549545016066048, 11549545024454656)]"
      ]
     },
     "execution_count": 17,
     "metadata": {},
     "output_type": "execute_result"
    }
   ],
   "source": [
    "ans"
   ]
  },
  {
   "cell_type": "code",
   "execution_count": 24,
   "id": "6c34cc29-85ae-48a4-969e-2b59bde89f38",
   "metadata": {
    "tags": []
   },
   "outputs": [],
   "source": [
    "import sys\n",
    "sys.setrecursionlimit(10**4)\n",
    "def dfs():\n",
    "    return\n"
   ]
  },
  {
   "cell_type": "code",
   "execution_count": 3,
   "id": "dfd329ff-9478-4ddc-862d-0504b20bcb2b",
   "metadata": {
    "tags": []
   },
   "outputs": [
    {
     "data": {
      "text/plain": [
       "51.807354922057606"
      ]
     },
     "execution_count": 3,
     "metadata": {},
     "output_type": "execute_result"
    }
   ],
   "source": [
    "math.log2(3940649673949184)"
   ]
  },
  {
   "cell_type": "code",
   "execution_count": 4,
   "id": "5428f100-35a3-4eac-912f-ea85688e9104",
   "metadata": {
    "tags": []
   },
   "outputs": [
    {
     "data": {
      "text/plain": [
       "4096"
      ]
     },
     "execution_count": 4,
     "metadata": {},
     "output_type": "execute_result"
    }
   ],
   "source": [
    "3940649673949184 - 3940649673945088 "
   ]
  },
  {
   "cell_type": "code",
   "execution_count": 5,
   "id": "8115205a-c068-4a1f-bf06-ab50e421347f",
   "metadata": {
    "tags": []
   },
   "outputs": [
    {
     "data": {
      "text/plain": [
       "562949953421312"
      ]
     },
     "execution_count": 5,
     "metadata": {},
     "output_type": "execute_result"
    }
   ],
   "source": [
    "4503599627370496 - 3940649673949184 "
   ]
  },
  {
   "cell_type": "code",
   "execution_count": 8,
   "id": "555ba2ec-d3bd-40d2-bab4-1e8b740cb646",
   "metadata": {
    "tags": []
   },
   "outputs": [
    {
     "data": {
      "text/plain": [
       "4503599627370496"
      ]
     },
     "execution_count": 8,
     "metadata": {},
     "output_type": "execute_result"
    }
   ],
   "source": [
    "9007199254740992 - 4503599627370496"
   ]
  },
  {
   "cell_type": "code",
   "execution_count": 10,
   "id": "553ce98d-45fe-446a-a2d8-55569a433a35",
   "metadata": {
    "tags": []
   },
   "outputs": [
    {
     "data": {
      "text/plain": [
       "2251799813685248"
      ]
     },
     "execution_count": 10,
     "metadata": {},
     "output_type": "execute_result"
    }
   ],
   "source": [
    "11258999068426240 - 9007199254740992"
   ]
  },
  {
   "cell_type": "code",
   "execution_count": 12,
   "id": "36f3a8d5-370a-41db-8673-9c656c11447f",
   "metadata": {
    "tags": []
   },
   "outputs": [
    {
     "data": {
      "text/plain": [
       "281474976710656"
      ]
     },
     "execution_count": 12,
     "metadata": {},
     "output_type": "execute_result"
    }
   ],
   "source": [
    "11540474045136896 - 11258999068426240"
   ]
  },
  {
   "cell_type": "code",
   "execution_count": 14,
   "id": "c72172ad-466c-4668-aa92-8ebfc5ba95f1",
   "metadata": {
    "tags": []
   },
   "outputs": [
    {
     "data": {
      "text/plain": [
       "8796093022208"
      ]
     },
     "execution_count": 14,
     "metadata": {},
     "output_type": "execute_result"
    }
   ],
   "source": [
    "11549270138159104 - 11540474045136896"
   ]
  },
  {
   "cell_type": "code",
   "execution_count": 15,
   "id": "f4318fb3-7406-43c2-85ff-17e8f840a88a",
   "metadata": {
    "tags": []
   },
   "outputs": [
    {
     "data": {
      "text/plain": [
       "43.0"
      ]
     },
     "execution_count": 15,
     "metadata": {},
     "output_type": "execute_result"
    }
   ],
   "source": [
    "math.log2(8796093022208)"
   ]
  },
  {
   "cell_type": "code",
   "execution_count": 7,
   "id": "7ff41984-e96a-4bd6-b13c-9c2f6a2bc36b",
   "metadata": {
    "tags": []
   },
   "outputs": [
    {
     "data": {
      "text/plain": [
       "12.0"
      ]
     },
     "execution_count": 7,
     "metadata": {},
     "output_type": "execute_result"
    }
   ],
   "source": [
    "math.log2(4096)"
   ]
  },
  {
   "cell_type": "code",
   "execution_count": 16,
   "id": "96cd5495-ee90-4ebe-a1a4-2f03bbe7b218",
   "metadata": {
    "tags": []
   },
   "outputs": [
    {
     "data": {
      "text/plain": [
       "(51.807354922056106, 53.35868553833337)"
      ]
     },
     "execution_count": 16,
     "metadata": {},
     "output_type": "execute_result"
    }
   ],
   "source": [
    "math.log2(3940649673945088), math.log2(11549545024454656) "
   ]
  },
  {
   "cell_type": "code",
   "execution_count": 20,
   "id": "1f0df01a-a5a4-4fa5-886d-30da15c5963d",
   "metadata": {
    "tags": []
   },
   "outputs": [
    {
     "data": {
      "text/plain": [
       "53.32192809488736"
      ]
     },
     "execution_count": 20,
     "metadata": {},
     "output_type": "execute_result"
    }
   ],
   "source": [
    "math.log2(11258999068426240 )"
   ]
  },
  {
   "cell_type": "code",
   "execution_count": 21,
   "id": "d2d34cf2-c081-410c-9100-0176a5178dc8",
   "metadata": {
    "tags": []
   },
   "outputs": [
    {
     "data": {
      "text/plain": [
       "7608895350509568"
      ]
     },
     "execution_count": 21,
     "metadata": {},
     "output_type": "execute_result"
    }
   ],
   "source": [
    "11549545024454656 - 3940649673945088 "
   ]
  },
  {
   "cell_type": "code",
   "execution_count": 22,
   "id": "35d94fb2-4ec4-4c4d-9175-b9387824bde1",
   "metadata": {
    "tags": []
   },
   "outputs": [
    {
     "data": {
      "text/plain": [
       "52.756608443659516"
      ]
     },
     "execution_count": 22,
     "metadata": {},
     "output_type": "execute_result"
    }
   ],
   "source": [
    "math.log2(7608895350509568)"
   ]
  },
  {
   "cell_type": "code",
   "execution_count": 27,
   "id": "def558c5-3c91-4cc1-8ac6-3a5e34e66202",
   "metadata": {
    "tags": []
   },
   "outputs": [
    {
     "name": "stdin",
     "output_type": "stream",
     "text": [
      " 13 17\n"
     ]
    },
    {
     "name": "stdout",
     "output_type": "stream",
     "text": [
      "3\n",
      "13 14\n",
      "14 16\n",
      "16 17\n"
     ]
    }
   ],
   "source": [
    "L, R = map(int, input().split())\n",
    "ans = []\n",
    "for i in range(61):\n",
    "    if L % (pow(2, i+1)) == pow(2, i) and L+pow(2, i) <= R:\n",
    "        ans.append([L, L+pow(2, i)])\n",
    "        L += pow(2, i)\n",
    "for i in range(60, -1, -1):\n",
    "    if L+pow(2, i) <= R:\n",
    "        ans.append([L, L+pow(2, i)])\n",
    "        L += pow(2, i)\n",
    "print(len(ans))\n",
    "for l, r in ans:\n",
    "    print(l, r)"
   ]
  },
  {
   "cell_type": "code",
   "execution_count": null,
   "id": "4c975273-78f6-49c3-99e5-f5f4b72dec32",
   "metadata": {},
   "outputs": [],
   "source": []
  }
 ],
 "metadata": {
  "kernelspec": {
   "display_name": "Python 3 (ipykernel)",
   "language": "python",
   "name": "python3"
  },
  "language_info": {
   "codemirror_mode": {
    "name": "ipython",
    "version": 3
   },
   "file_extension": ".py",
   "mimetype": "text/x-python",
   "name": "python",
   "nbconvert_exporter": "python",
   "pygments_lexer": "ipython3",
   "version": "3.11.3"
  }
 },
 "nbformat": 4,
 "nbformat_minor": 5
}
