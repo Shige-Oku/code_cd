{
 "cells": [
  {
   "cell_type": "code",
   "execution_count": 1,
   "id": "24eeec72-5a46-4108-8be3-cc65b3466852",
   "metadata": {
    "tags": []
   },
   "outputs": [],
   "source": [
    "import sys\n",
    "import numpy as np\n",
    "import math\n",
    "import collections\n",
    "import copy\n",
    "import decimal\n",
    "import itertools\n",
    "import re\n",
    "import bisect\n",
    "import scipy\n",
    "import heapq\n",
    "from collections import deque \n",
    "from functools import reduce\n",
    "from itertools import product\n",
    "from itertools import combinations\n",
    "from functools import lru_cache\n",
    "from scipy.special import comb\n",
    "from numba import njit\n",
    "from bisect import bisect_right\n",
    "from bisect import bisect_left\n",
    "from atcoder.fenwicktree import FenwickTree\n",
    "from sortedcontainers import SortedSet, SortedList, SortedDict"
   ]
  },
  {
   "cell_type": "code",
   "execution_count": 2,
   "id": "393cee6e-ba65-4682-b247-d7ceca88689e",
   "metadata": {
    "tags": []
   },
   "outputs": [
    {
     "name": "stdin",
     "output_type": "stream",
     "text": [
      " 5 2 16\n"
     ]
    }
   ],
   "source": [
    "N, M, K = map(int, input().split())"
   ]
  },
  {
   "cell_type": "code",
   "execution_count": 3,
   "id": "a63f7e03-50e6-4cc7-980c-7b5ba340f34d",
   "metadata": {
    "tags": []
   },
   "outputs": [
    {
     "name": "stdin",
     "output_type": "stream",
     "text": [
      " 3 1 4 1 5\n"
     ]
    }
   ],
   "source": [
    "An = list(map(int, input().split()))"
   ]
  },
  {
   "cell_type": "code",
   "execution_count": 24,
   "id": "459379e3-6f12-4e21-b670-69f8b47f554e",
   "metadata": {
    "tags": []
   },
   "outputs": [],
   "source": [
    "def my_bisect():\n",
    "    ok = 0\n",
    "    ng = 10**20\n",
    "    while ok + 1 < ng:\n",
    "        m = (ng + ok) // 2\n",
    "        if m * K - jyoui < zan:\n",
    "            ok = m\n",
    "        else:\n",
    "            ng = m\n",
    "        print(m)\n",
    "    return ok"
   ]
  },
  {
   "cell_type": "code",
   "execution_count": 25,
   "id": "a3c1d9d8-0794-4aef-81b6-4f34a040f677",
   "metadata": {
    "tags": []
   },
   "outputs": [
    {
     "name": "stdout",
     "output_type": "stream",
     "text": [
      "50000000000000000000\n",
      "75000000000000000000\n",
      "87500000000000000000\n",
      "93750000000000000000\n",
      "96875000000000000000\n",
      "98437500000000000000\n",
      "99218750000000000000\n",
      "99609375000000000000\n",
      "99804687500000000000\n",
      "99902343750000000000\n",
      "99951171875000000000\n",
      "99975585937500000000\n",
      "99987792968750000000\n",
      "99993896484375000000\n",
      "99996948242187500000\n",
      "99998474121093750000\n",
      "99999237060546875000\n",
      "99999618530273437500\n",
      "99999809265136718750\n",
      "99999904632568359375\n",
      "99999952316284179687\n",
      "99999976158142089843\n",
      "99999988079071044921\n",
      "99999994039535522460\n",
      "99999997019767761230\n",
      "99999998509883880615\n",
      "99999999254941940307\n",
      "99999999627470970153\n",
      "99999999813735485076\n",
      "99999999906867742538\n",
      "99999999953433871269\n",
      "99999999976716935634\n",
      "99999999988358467817\n",
      "99999999994179233908\n",
      "99999999997089616954\n",
      "99999999998544808477\n",
      "99999999999272404238\n",
      "99999999999636202119\n",
      "99999999999818101059\n",
      "99999999999909050529\n",
      "99999999999954525264\n",
      "99999999999977262632\n",
      "99999999999988631316\n",
      "99999999999994315658\n",
      "99999999999997157829\n",
      "99999999999998578914\n",
      "99999999999999289457\n",
      "99999999999999644728\n",
      "99999999999999822364\n",
      "99999999999999911182\n",
      "99999999999999955591\n",
      "99999999999999977795\n",
      "99999999999999988897\n",
      "99999999999999994448\n",
      "99999999999999997224\n",
      "99999999999999998612\n",
      "99999999999999999306\n",
      "99999999999999999653\n",
      "99999999999999999826\n",
      "99999999999999999913\n",
      "99999999999999999956\n",
      "99999999999999999978\n",
      "99999999999999999989\n",
      "99999999999999999994\n",
      "99999999999999999997\n",
      "99999999999999999998\n",
      "99999999999999999999\n"
     ]
    }
   ],
   "source": [
    "zan = K - sum(An)\n",
    "jyoui = sum(An_s[:M])\n",
    "An_s = sorted(An, reverse=True) + [0]\n",
    "tousen = my_bisect()"
   ]
  },
  {
   "cell_type": "code",
   "execution_count": 19,
   "id": "ca1f099b-91e7-4d0f-8ec8-381d8436a62f",
   "metadata": {
    "tags": []
   },
   "outputs": [
    {
     "data": {
      "text/plain": [
       "(2, [5, 4, 3, 1, 1, 0])"
      ]
     },
     "execution_count": 19,
     "metadata": {},
     "output_type": "execute_result"
    }
   ],
   "source": [
    "zan, An_s"
   ]
  },
  {
   "cell_type": "code",
   "execution_count": 20,
   "id": "b4743b83-8223-49e9-8eee-1db5e449baa4",
   "metadata": {
    "tags": []
   },
   "outputs": [
    {
     "data": {
      "text/plain": [
       "9"
      ]
     },
     "execution_count": 20,
     "metadata": {},
     "output_type": "execute_result"
    }
   ],
   "source": [
    "jyoui"
   ]
  },
  {
   "cell_type": "code",
   "execution_count": 21,
   "id": "7c1d9930-97dd-4629-a564-fa6a191e1183",
   "metadata": {
    "tags": []
   },
   "outputs": [
    {
     "data": {
      "text/plain": [
       "0"
      ]
     },
     "execution_count": 21,
     "metadata": {},
     "output_type": "execute_result"
    }
   ],
   "source": [
    "tousen"
   ]
  },
  {
   "cell_type": "code",
   "execution_count": null,
   "id": "8943c955-abbc-4749-a7b5-8171f3890d85",
   "metadata": {},
   "outputs": [],
   "source": []
  }
 ],
 "metadata": {
  "kernelspec": {
   "display_name": "Python 3 (ipykernel)",
   "language": "python",
   "name": "python3"
  },
  "language_info": {
   "codemirror_mode": {
    "name": "ipython",
    "version": 3
   },
   "file_extension": ".py",
   "mimetype": "text/x-python",
   "name": "python",
   "nbconvert_exporter": "python",
   "pygments_lexer": "ipython3",
   "version": "3.11.3"
  }
 },
 "nbformat": 4,
 "nbformat_minor": 5
}
