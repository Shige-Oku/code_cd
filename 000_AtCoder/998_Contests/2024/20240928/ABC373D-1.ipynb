{
 "cells": [
  {
   "cell_type": "code",
   "execution_count": 1,
   "id": "e19e5bc2-1cd2-4d84-b82c-35eb3c9bd49c",
   "metadata": {
    "tags": []
   },
   "outputs": [],
   "source": [
    "import sys\n",
    "import numpy as np\n",
    "import math\n",
    "import collections\n",
    "import copy\n",
    "import decimal\n",
    "import itertools\n",
    "import re\n",
    "import bisect\n",
    "import scipy\n",
    "import heapq\n",
    "from collections import deque \n",
    "from functools import reduce\n",
    "from itertools import product\n",
    "from itertools import combinations\n",
    "from functools import lru_cache\n",
    "from scipy.special import comb\n",
    "from numba import njit\n",
    "from bisect import bisect_right\n",
    "from bisect import bisect_left\n",
    "from atcoder.fenwicktree import FenwickTree\n",
    "from sortedcontainers import SortedSet, SortedList, SortedDict"
   ]
  },
  {
   "cell_type": "code",
   "execution_count": 36,
   "id": "dea741db-3df4-4302-8de3-da286a530abb",
   "metadata": {
    "tags": []
   },
   "outputs": [
    {
     "name": "stdin",
     "output_type": "stream",
     "text": [
      " 4 2\n"
     ]
    }
   ],
   "source": [
    "N, M = map(int, input().split())"
   ]
  },
  {
   "cell_type": "code",
   "execution_count": 42,
   "id": "e60fea46-af76-4df9-9da8-411e637c9619",
   "metadata": {
    "tags": []
   },
   "outputs": [
    {
     "name": "stdin",
     "output_type": "stream",
     "text": [
      " 2 1 5\n",
      " 3 4 -3\n"
     ]
    }
   ],
   "source": [
    "UVWm = [list(map(int, input().split())) for _ in range(M)]"
   ]
  },
  {
   "cell_type": "code",
   "execution_count": 43,
   "id": "69f29707-35f8-45dd-a191-624f2e08f699",
   "metadata": {
    "tags": []
   },
   "outputs": [],
   "source": [
    "graph = [[] for _ in range(N+1)]\n",
    "for U, V, W in UVWm:\n",
    "    graph[U].append((V, -W))\n",
    "    graph[V].append((U, W))"
   ]
  },
  {
   "cell_type": "code",
   "execution_count": 44,
   "id": "ed12a1b7-f0ad-4acf-a159-6df8f48a04fb",
   "metadata": {
    "tags": []
   },
   "outputs": [],
   "source": [
    "from collections import deque \n",
    "def bfs(s):\n",
    "    q = deque()\n",
    "    q.append(s)\n",
    "    ans[s] = 0\n",
    "    while q:\n",
    "        p = q.popleft()\n",
    "        for ne, cost in graph[p]:\n",
    "            if ans[ne] != -10**20:\n",
    "                continue\n",
    "            ans[ne] = ans[p] - cost\n",
    "            q.append(ne)\n",
    "    return"
   ]
  },
  {
   "cell_type": "code",
   "execution_count": 45,
   "id": "c3d30cb9-f278-4a29-b8ad-1f1f2825ce87",
   "metadata": {
    "tags": []
   },
   "outputs": [],
   "source": [
    "ans = [-10**20] * (N+1)\n",
    "for i in range(1, N+1):\n",
    "    if ans[i] == -10**20:\n",
    "        bfs(i)"
   ]
  },
  {
   "cell_type": "code",
   "execution_count": 46,
   "id": "ea6a5663-7b0f-452f-8880-16421a62c0db",
   "metadata": {
    "tags": []
   },
   "outputs": [
    {
     "name": "stdout",
     "output_type": "stream",
     "text": [
      "0 -5 0 -3\n"
     ]
    }
   ],
   "source": [
    "print(*ans[1:])"
   ]
  },
  {
   "cell_type": "code",
   "execution_count": null,
   "id": "b9fe697c-833d-4a58-b10d-6da97923b9a2",
   "metadata": {},
   "outputs": [],
   "source": []
  }
 ],
 "metadata": {
  "kernelspec": {
   "display_name": "Python 3 (ipykernel)",
   "language": "python",
   "name": "python3"
  },
  "language_info": {
   "codemirror_mode": {
    "name": "ipython",
    "version": 3
   },
   "file_extension": ".py",
   "mimetype": "text/x-python",
   "name": "python",
   "nbconvert_exporter": "python",
   "pygments_lexer": "ipython3",
   "version": "3.11.3"
  }
 },
 "nbformat": 4,
 "nbformat_minor": 5
}
