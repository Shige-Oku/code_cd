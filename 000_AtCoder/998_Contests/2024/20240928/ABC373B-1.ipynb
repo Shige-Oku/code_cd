{
 "cells": [
  {
   "cell_type": "code",
   "execution_count": 1,
   "id": "96cb85d5-f2b8-4b59-90b6-dcb8a75aaf6b",
   "metadata": {
    "tags": []
   },
   "outputs": [],
   "source": [
    "import sys\n",
    "import numpy as np\n",
    "import math\n",
    "import collections\n",
    "import copy\n",
    "import decimal\n",
    "import itertools\n",
    "import re\n",
    "import bisect\n",
    "import scipy\n",
    "import heapq\n",
    "from collections import deque \n",
    "from functools import reduce\n",
    "from itertools import product\n",
    "from itertools import combinations\n",
    "from functools import lru_cache\n",
    "from scipy.special import comb\n",
    "from numba import njit\n",
    "from bisect import bisect_right\n",
    "from bisect import bisect_left\n",
    "from atcoder.fenwicktree import FenwickTree\n",
    "from sortedcontainers import SortedSet, SortedList, SortedDict"
   ]
  },
  {
   "cell_type": "code",
   "execution_count": 8,
   "id": "efe7b50d-11e8-43e9-bde6-1d7ed63e0e28",
   "metadata": {
    "tags": []
   },
   "outputs": [
    {
     "name": "stdin",
     "output_type": "stream",
     "text": [
      " MGJYIZDKSBHPVENFLQURTCWOAX\n"
     ]
    }
   ],
   "source": [
    "S = input()"
   ]
  },
  {
   "cell_type": "code",
   "execution_count": 9,
   "id": "3f03b412-4f6e-49a7-bb98-dd5152582d56",
   "metadata": {
    "tags": []
   },
   "outputs": [],
   "source": [
    "S_d = {}\n",
    "for i, s in enumerate(S):\n",
    "    S_d[s] = i"
   ]
  },
  {
   "cell_type": "code",
   "execution_count": 10,
   "id": "ed0cd7b0-b87e-4415-a2a7-7ed49fc1103e",
   "metadata": {
    "tags": []
   },
   "outputs": [],
   "source": [
    "ans = 0\n",
    "p = S_d['A']\n",
    "for a in 'BCDEFGHIJKLMNOPQRSTUVWXYZ':\n",
    "    ans += abs(S_d[a] - p)\n",
    "    p = S_d[a]"
   ]
  },
  {
   "cell_type": "code",
   "execution_count": 11,
   "id": "21ebbff4-0cc7-453e-ac7a-e52a438b0b7a",
   "metadata": {
    "tags": []
   },
   "outputs": [
    {
     "name": "stdout",
     "output_type": "stream",
     "text": [
      "223\n"
     ]
    }
   ],
   "source": [
    "print(ans)"
   ]
  },
  {
   "cell_type": "code",
   "execution_count": null,
   "id": "b0413a3a-1593-4780-b6ba-cac2501a2760",
   "metadata": {},
   "outputs": [],
   "source": []
  }
 ],
 "metadata": {
  "kernelspec": {
   "display_name": "Python 3 (ipykernel)",
   "language": "python",
   "name": "python3"
  },
  "language_info": {
   "codemirror_mode": {
    "name": "ipython",
    "version": 3
   },
   "file_extension": ".py",
   "mimetype": "text/x-python",
   "name": "python",
   "nbconvert_exporter": "python",
   "pygments_lexer": "ipython3",
   "version": "3.11.3"
  }
 },
 "nbformat": 4,
 "nbformat_minor": 5
}
