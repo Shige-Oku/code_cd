{
 "cells": [
  {
   "cell_type": "code",
   "execution_count": 1,
   "id": "4d13e369-5c31-4443-a1f3-328367df673b",
   "metadata": {
    "tags": []
   },
   "outputs": [],
   "source": [
    "import sys\n",
    "import numpy as np\n",
    "import math\n",
    "import collections\n",
    "import copy\n",
    "import decimal\n",
    "import itertools\n",
    "import re\n",
    "import bisect\n",
    "import scipy\n",
    "import heapq\n",
    "from collections import deque \n",
    "from functools import reduce\n",
    "from itertools import product\n",
    "from itertools import combinations\n",
    "from functools import lru_cache\n",
    "from scipy.special import comb\n",
    "from numba import njit\n",
    "from bisect import bisect_right\n",
    "from bisect import bisect_left\n",
    "from atcoder.fenwicktree import FenwickTree"
   ]
  },
  {
   "cell_type": "code",
   "execution_count": 10,
   "id": "127d7b92-52cd-4cc5-a0e0-2c0af2b3cc01",
   "metadata": {
    "tags": []
   },
   "outputs": [
    {
     "name": "stdin",
     "output_type": "stream",
     "text": [
      " 1000000000 1000000000 999999999 999999999\n"
     ]
    }
   ],
   "source": [
    "X1, Y1, X2, Y2 = map(int, input().split())"
   ]
  },
  {
   "cell_type": "code",
   "execution_count": 11,
   "id": "f38d60f8-dc76-487c-869e-569614768899",
   "metadata": {
    "tags": []
   },
   "outputs": [],
   "source": [
    "p = [[1, 2], [2, 1], [1, -2], [2, -1], [-1, -2], [-2, -1], [-1, 2], [-2, 1]]"
   ]
  },
  {
   "cell_type": "code",
   "execution_count": 12,
   "id": "a2c5042d-9251-4dc3-9359-276f700bb0ae",
   "metadata": {
    "tags": []
   },
   "outputs": [],
   "source": [
    "f = False\n",
    "for dx1, dy1 in p:\n",
    "    x1 = X1 + dx1\n",
    "    y1 = Y1 + dy1\n",
    "    for dx2, dy2 in p:\n",
    "        x2 = X2 + dx2\n",
    "        y2 = Y2 + dy2\n",
    "        if x1 == x2 and y1 == y2:\n",
    "            f = True"
   ]
  },
  {
   "cell_type": "code",
   "execution_count": 13,
   "id": "4fc3bd57-0e7f-4b85-91be-c9612a7a1a35",
   "metadata": {
    "tags": []
   },
   "outputs": [
    {
     "name": "stdout",
     "output_type": "stream",
     "text": [
      "Yes\n"
     ]
    }
   ],
   "source": [
    "print('Yes' if f else 'No')"
   ]
  },
  {
   "cell_type": "code",
   "execution_count": 19,
   "id": "7e6a1d85-2a51-4dda-9e34-a50fc6837cbb",
   "metadata": {
    "tags": []
   },
   "outputs": [
    {
     "name": "stdin",
     "output_type": "stream",
     "text": [
      " 3 1\n"
     ]
    }
   ],
   "source": [
    "A, B = map(int, input().split())"
   ]
  },
  {
   "cell_type": "code",
   "execution_count": 20,
   "id": "6fd73dae-4f71-4673-b0ae-f23a217e3202",
   "metadata": {
    "tags": []
   },
   "outputs": [
    {
     "name": "stdout",
     "output_type": "stream",
     "text": [
      "2\n"
     ]
    }
   ],
   "source": [
    "if A == B:\n",
    "    print(-1)\n",
    "else:\n",
    "    print(6-A-B)"
   ]
  },
  {
   "cell_type": "code",
   "execution_count": null,
   "id": "41f3cada-e29b-4fad-9191-809dc6a8ad71",
   "metadata": {},
   "outputs": [],
   "source": []
  }
 ],
 "metadata": {
  "kernelspec": {
   "display_name": "Python 3 (ipykernel)",
   "language": "python",
   "name": "python3"
  },
  "language_info": {
   "codemirror_mode": {
    "name": "ipython",
    "version": 3
   },
   "file_extension": ".py",
   "mimetype": "text/x-python",
   "name": "python",
   "nbconvert_exporter": "python",
   "pygments_lexer": "ipython3",
   "version": "3.11.3"
  }
 },
 "nbformat": 4,
 "nbformat_minor": 5
}
