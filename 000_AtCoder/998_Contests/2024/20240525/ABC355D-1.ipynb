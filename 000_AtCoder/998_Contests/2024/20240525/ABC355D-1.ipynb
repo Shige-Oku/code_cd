{
 "cells": [
  {
   "cell_type": "code",
   "execution_count": 52,
   "id": "f369aca9-8f9b-4431-be05-d8986bd26443",
   "metadata": {
    "tags": []
   },
   "outputs": [],
   "source": [
    "import sys\n",
    "import numpy as np\n",
    "import math\n",
    "import collections\n",
    "import copy\n",
    "import decimal\n",
    "import itertools\n",
    "import re\n",
    "import bisect\n",
    "import scipy\n",
    "import heapq\n",
    "from collections import deque \n",
    "from functools import reduce\n",
    "from itertools import product\n",
    "from itertools import combinations\n",
    "from functools import lru_cache\n",
    "from scipy.special import comb\n",
    "from numba import njit\n",
    "from bisect import bisect_right\n",
    "from bisect import bisect_left\n",
    "from atcoder.fenwicktree import FenwickTree\n",
    "from sortedcontainers import SortedList"
   ]
  },
  {
   "cell_type": "code",
   "execution_count": 1,
   "id": "6060952e-0a69-4c40-9fcd-116d511df657",
   "metadata": {
    "tags": []
   },
   "outputs": [
    {
     "name": "stdin",
     "output_type": "stream",
     "text": [
      " 3\n"
     ]
    }
   ],
   "source": [
    "N = int(input())"
   ]
  },
  {
   "cell_type": "code",
   "execution_count": 2,
   "id": "3430601e-3fca-4c16-9689-811da51e7da1",
   "metadata": {
    "tags": []
   },
   "outputs": [
    {
     "name": "stdin",
     "output_type": "stream",
     "text": [
      " 3 4\n",
      " 2 5\n",
      " 1 6\n"
     ]
    }
   ],
   "source": [
    "LRn = [list(map(int, input().split())) for _ in range(N)]"
   ]
  },
  {
   "cell_type": "code",
   "execution_count": null,
   "id": "34dcdbe6-b67a-4e6e-a698-296aa038ae57",
   "metadata": {},
   "outputs": [],
   "source": [
    "# 解説をよんで実装"
   ]
  },
  {
   "cell_type": "code",
   "execution_count": 3,
   "id": "396c1d07-77af-4b75-81ce-8c58193695b9",
   "metadata": {
    "tags": []
   },
   "outputs": [],
   "source": [
    "LRn_s = sorted(LRn, key=lambda x:(x[1], x[0]))"
   ]
  },
  {
   "cell_type": "code",
   "execution_count": 60,
   "id": "8bd6d143-1651-4326-825f-00ccc99bc9ca",
   "metadata": {
    "tags": []
   },
   "outputs": [],
   "source": [
    "from sortedcontainers import SortedList\n",
    "ll = SortedList()\n",
    "ans = 0\n",
    "for l, r in LRn_s:\n",
    "    ans += len(ll) - ll.bisect_left(l)\n",
    "    ll.add(r)"
   ]
  },
  {
   "cell_type": "code",
   "execution_count": 61,
   "id": "56894438-f96b-4c68-b3a7-20bf83d75b99",
   "metadata": {
    "tags": []
   },
   "outputs": [
    {
     "name": "stdout",
     "output_type": "stream",
     "text": [
      "3\n"
     ]
    }
   ],
   "source": [
    "print(ans)"
   ]
  },
  {
   "cell_type": "code",
   "execution_count": null,
   "id": "1cb265ff-85c4-4a4a-8dc4-957d6525e869",
   "metadata": {},
   "outputs": [],
   "source": [
    "# WA"
   ]
  },
  {
   "cell_type": "code",
   "execution_count": 4,
   "id": "6c2d1432-7913-4ac5-996d-f34ccd07413f",
   "metadata": {
    "tags": []
   },
   "outputs": [],
   "source": [
    "LRn_s = sorted(LRn, key=lambda x:(x[1], x[0]))"
   ]
  },
  {
   "cell_type": "code",
   "execution_count": null,
   "id": "843fe0a3-ae3d-402f-9988-d84bbda3fa19",
   "metadata": {},
   "outputs": [],
   "source": [
    "# 消してしまうと、後から小さい l が出てくることもある"
   ]
  },
  {
   "cell_type": "code",
   "execution_count": 19,
   "id": "808b91fd-8714-4058-98ea-55777130beb4",
   "metadata": {
    "tags": []
   },
   "outputs": [],
   "source": [
    "import heapq\n",
    "q = []\n",
    "ans = 0\n",
    "for i, (l, r) in enumerate(LRn_s, 1):\n",
    "    while q:\n",
    "        if q[0] >= l:\n",
    "            break\n",
    "        heapq.heappop(q)\n",
    "    \n",
    "    ans += len(q)\n",
    "    heapq.heappush(q, r)\n"
   ]
  },
  {
   "cell_type": "code",
   "execution_count": 20,
   "id": "84e62013-25a8-4788-912d-b57b2f31ef22",
   "metadata": {
    "tags": []
   },
   "outputs": [
    {
     "name": "stdout",
     "output_type": "stream",
     "text": [
      "3\n"
     ]
    }
   ],
   "source": [
    "print(ans)"
   ]
  },
  {
   "cell_type": "code",
   "execution_count": null,
   "id": "691f062a-103c-4772-b9c0-fff3d3b682a0",
   "metadata": {},
   "outputs": [],
   "source": [
    "cnt = 0\n",
    "fcnt = 0\n",
    "fr = 0\n",
    "ans = 0\n",
    "for l, r in LRn_s:\n",
    "    if l <= fr:\n",
    "        cnt += 1\n",
    "    else:\n",
    "        ans += cnt * (cnt-1) // 2\n",
    "        cnt = max(0, cnt-1)"
   ]
  },
  {
   "cell_type": "code",
   "execution_count": 6,
   "id": "e4b3ddc8-4730-4a23-8a4f-26ab6bd23d14",
   "metadata": {
    "tags": []
   },
   "outputs": [],
   "source": [
    "cnt = [0] * (10**5+100)\n",
    "for L, R in LRn:\n",
    "    cnt[L] += 1\n",
    "    cnt[R+1] -= 1"
   ]
  },
  {
   "cell_type": "code",
   "execution_count": 30,
   "id": "54104afe-757c-4dbc-8703-9fae7c4b4edb",
   "metadata": {
    "tags": []
   },
   "outputs": [],
   "source": [
    "from itertools import accumulate\n",
    "cnt_s = list(accumulate(cnt))\n",
    "f = 0\n",
    "ans = 0\n",
    "up = False\n",
    "for i, c in enumerate(cnt_s):\n",
    "    if c > f:\n",
    "        up = True\n",
    "        f = c\n",
    "        continue\n",
    "    elif c == f:\n",
    "        continue\n",
    "\n",
    "    if up and f > 1:\n",
    "        ans += f * (f-1) // 2\n",
    "        # print(i, f, ans)\n",
    "    f = c\n",
    "    up = False\n"
   ]
  },
  {
   "cell_type": "code",
   "execution_count": 29,
   "id": "0569cdd8-e157-4b1a-b050-b0f0584155cd",
   "metadata": {
    "tags": []
   },
   "outputs": [
    {
     "name": "stdout",
     "output_type": "stream",
     "text": [
      "2\n"
     ]
    }
   ],
   "source": [
    "print(ans)"
   ]
  },
  {
   "cell_type": "code",
   "execution_count": 20,
   "id": "12ce87bb-8668-4432-bd3a-62fa1794e630",
   "metadata": {
    "tags": []
   },
   "outputs": [
    {
     "data": {
      "text/plain": [
       "[0, 1, 0, 1, 0, 0, -1, 1, -1, -1]"
      ]
     },
     "execution_count": 20,
     "metadata": {},
     "output_type": "execute_result"
    }
   ],
   "source": [
    "cnt[:10]"
   ]
  },
  {
   "cell_type": "code",
   "execution_count": 23,
   "id": "f92a8f05-f599-4cf3-91eb-d3c010f7aa12",
   "metadata": {
    "tags": []
   },
   "outputs": [
    {
     "data": {
      "text/plain": [
       "[0, 1, 1, 2, 2, 2, 1, 2, 1, 0, 0, 0, 0, 0, 0]"
      ]
     },
     "execution_count": 23,
     "metadata": {},
     "output_type": "execute_result"
    }
   ],
   "source": [
    "cnt_s[:15]"
   ]
  },
  {
   "cell_type": "code",
   "execution_count": 32,
   "id": "89f3b181-d77c-4c7f-ac8d-b399a668bb00",
   "metadata": {
    "tags": []
   },
   "outputs": [
    {
     "data": {
      "text/plain": [
       "[[1, 5], [3, 7], [7, 8]]"
      ]
     },
     "execution_count": 32,
     "metadata": {},
     "output_type": "execute_result"
    }
   ],
   "source": [
    "LRn_s"
   ]
  },
  {
   "cell_type": "code",
   "execution_count": null,
   "id": "9443dce9-ae7b-42ed-832a-602524a6a8e0",
   "metadata": {},
   "outputs": [],
   "source": []
  }
 ],
 "metadata": {
  "kernelspec": {
   "display_name": "Python 3 (ipykernel)",
   "language": "python",
   "name": "python3"
  },
  "language_info": {
   "codemirror_mode": {
    "name": "ipython",
    "version": 3
   },
   "file_extension": ".py",
   "mimetype": "text/x-python",
   "name": "python",
   "nbconvert_exporter": "python",
   "pygments_lexer": "ipython3",
   "version": "3.11.3"
  }
 },
 "nbformat": 4,
 "nbformat_minor": 5
}
