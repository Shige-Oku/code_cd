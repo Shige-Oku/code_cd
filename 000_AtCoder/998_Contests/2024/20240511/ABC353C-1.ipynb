{
 "cells": [
  {
   "cell_type": "code",
   "execution_count": 1,
   "id": "e3af2c66-d973-4250-85be-1466fa012b00",
   "metadata": {
    "tags": []
   },
   "outputs": [],
   "source": [
    "import sys\n",
    "import numpy as np\n",
    "import math\n",
    "import collections\n",
    "import copy\n",
    "import decimal\n",
    "import itertools\n",
    "import re\n",
    "import bisect\n",
    "import scipy\n",
    "import heapq\n",
    "from collections import deque \n",
    "from functools import reduce\n",
    "from itertools import product\n",
    "from itertools import combinations\n",
    "from functools import lru_cache\n",
    "from scipy.special import comb\n",
    "from numba import njit\n",
    "from bisect import bisect_right\n",
    "from bisect import bisect_left\n",
    "from atcoder.fenwicktree import FenwickTree\n",
    "from sortedcontainers import SortedSet, SortedKeyList, SortedDict"
   ]
  },
  {
   "cell_type": "code",
   "execution_count": 141,
   "id": "786cc7be-764c-4450-b927-d157d87cef83",
   "metadata": {
    "tags": []
   },
   "outputs": [
    {
     "name": "stdin",
     "output_type": "stream",
     "text": [
      " 3\n"
     ]
    }
   ],
   "source": [
    "N = int(input())"
   ]
  },
  {
   "cell_type": "code",
   "execution_count": 142,
   "id": "12ad9380-9c0d-4a62-8d03-576a7035d8d4",
   "metadata": {
    "tags": []
   },
   "outputs": [
    {
     "name": "stdin",
     "output_type": "stream",
     "text": [
      " 3 50000001 50000002\n"
     ]
    }
   ],
   "source": [
    "An = list(map(int, input().split()))"
   ]
  },
  {
   "cell_type": "code",
   "execution_count": null,
   "id": "81eae0c6-9c09-4fc8-b0d4-bcf83bb1f7f0",
   "metadata": {},
   "outputs": [],
   "source": [
    "# コンテスト終了後に自走"
   ]
  },
  {
   "cell_type": "code",
   "execution_count": 145,
   "id": "9db2d0fe-8d72-40c8-9621-b92b7fd221d1",
   "metadata": {
    "tags": []
   },
   "outputs": [],
   "source": [
    "An_s = sorted(An)\n",
    "total = sum(An)\n",
    "\n",
    "from bisect import bisect_left \n",
    "ans = 0\n",
    "for i, A in enumerate(An_s[:-1]):\n",
    "    total -= A\n",
    "    ans += total + A * (N-i-1)\n",
    "    # print(A, total, ans)\n",
    "    k = 10**8 - A\n",
    "    kp = bisect_left(An_s, k)\n",
    "    # print(i, kp)\n",
    "    if kp > i:\n",
    "        d = N - kp\n",
    "    else:\n",
    "        d = N - (i + 1)\n",
    "    ans -= 10**8 * d\n",
    "    # print(ans, d)"
   ]
  },
  {
   "cell_type": "code",
   "execution_count": 146,
   "id": "16a7799b-67d8-4938-8114-7a7f5ab7cfd7",
   "metadata": {
    "tags": []
   },
   "outputs": [
    {
     "name": "stdout",
     "output_type": "stream",
     "text": [
      "100000012\n"
     ]
    }
   ],
   "source": [
    "print(ans)"
   ]
  },
  {
   "cell_type": "code",
   "execution_count": 136,
   "id": "b990fc70-22b5-4d2b-b55a-4dd872587793",
   "metadata": {
    "tags": []
   },
   "outputs": [
    {
     "data": {
      "text/plain": [
       "200999997"
      ]
     },
     "execution_count": 136,
     "metadata": {},
     "output_type": "execute_result"
    }
   ],
   "source": [
    "sum(An)"
   ]
  },
  {
   "cell_type": "code",
   "execution_count": null,
   "id": "e470cd2d-1197-46ac-b332-a819eeed3ebb",
   "metadata": {},
   "outputs": [],
   "source": [
    "# WA"
   ]
  },
  {
   "cell_type": "code",
   "execution_count": 54,
   "id": "fb723d0c-8cfd-43d8-b5ab-4a4a16fc0fc8",
   "metadata": {
    "tags": []
   },
   "outputs": [],
   "source": [
    "from itertools import accumulate\n",
    "An_s = [0] + sorted(An)\n",
    "An_c = list(accumulate(An_s))"
   ]
  },
  {
   "cell_type": "code",
   "execution_count": 91,
   "id": "384185b4-26f2-4aa5-a189-48bf6e4381f4",
   "metadata": {
    "tags": []
   },
   "outputs": [
    {
     "name": "stdout",
     "output_type": "stream",
     "text": [
      "1 5 1 99999999\n",
      "ans =  101000000\n",
      "ans =  101000000\n",
      "2 5 3 99999997\n",
      "ans =  202000000\n",
      "ans =  202000000\n",
      "3 4 1000000 99000000\n",
      "ans =  202000000\n",
      "ans =  202999999\n",
      "4 3 99999994 6\n",
      "ans =  402999992\n",
      "5 1 99999999 1\n",
      "ans =  502999992\n"
     ]
    }
   ],
   "source": [
    "from bisect import bisect_left \n",
    "ans = 0\n",
    "for i, A in enumerate(An_s[1:], 1):\n",
    "    k = 10**8 - A\n",
    "    kp = bisect_left(An_s, k)\n",
    "    print(i, kp, A, k)\n",
    "    \n",
    "    if kp > i:\n",
    "        ans += An_c[kp-1] - An_c[i] + A * (kp - i - 1)\n",
    "        print('ans = ', ans)\n",
    "        if kp <= N:\n",
    "            ans += An_c[-1] - An_c[kp] - 10**8 * (N-kp) + A * (N - kp)\n",
    "    else:\n",
    "        ans +=  An_c[-1] - An_c[i] - 10**8 * (N-i-1) + A * (N - i)\n",
    "    print('ans = ', ans)\n"
   ]
  },
  {
   "cell_type": "code",
   "execution_count": 89,
   "id": "d8c91a09-ba03-4897-a9ca-fce8ad26c4dd",
   "metadata": {
    "tags": []
   },
   "outputs": [
    {
     "name": "stdout",
     "output_type": "stream",
     "text": [
      "802999984\n"
     ]
    }
   ],
   "source": [
    "print(ans)"
   ]
  },
  {
   "cell_type": "code",
   "execution_count": 80,
   "id": "26a5beef-5f1c-40d1-9973-7842ba44049a",
   "metadata": {
    "tags": []
   },
   "outputs": [
    {
     "name": "stdout",
     "output_type": "stream",
     "text": [
      "-597000006\n"
     ]
    }
   ],
   "source": [
    "print(ans)"
   ]
  },
  {
   "cell_type": "code",
   "execution_count": 31,
   "id": "d33496f9-d86f-4132-b676-5b828f23319e",
   "metadata": {
    "tags": []
   },
   "outputs": [
    {
     "data": {
      "text/plain": [
       "([0, 1, 3, 1000000, 99999994, 99999999],\n",
       " [0, 1, 4, 1000004, 100999998, 200999997])"
      ]
     },
     "execution_count": 31,
     "metadata": {},
     "output_type": "execute_result"
    }
   ],
   "source": [
    "An_s, An_c"
   ]
  },
  {
   "cell_type": "code",
   "execution_count": 90,
   "id": "878329b2-6e6c-4cb4-a9b6-ae27fc82a28a",
   "metadata": {
    "tags": []
   },
   "outputs": [
    {
     "data": {
      "text/plain": [
       "-498999988"
      ]
     },
     "execution_count": 90,
     "metadata": {},
     "output_type": "execute_result"
    }
   ],
   "source": [
    "303999996 - 802999984"
   ]
  },
  {
   "cell_type": "code",
   "execution_count": 66,
   "id": "368a96dd-4eb0-4ed8-84b4-0be4b8155798",
   "metadata": {
    "tags": []
   },
   "outputs": [
    {
     "data": {
      "text/plain": [
       "999996"
      ]
     },
     "execution_count": 66,
     "metadata": {},
     "output_type": "execute_result"
    }
   ],
   "source": [
    "303999988 - 302999992"
   ]
  },
  {
   "cell_type": "code",
   "execution_count": 32,
   "id": "47c8c6ef-025b-4577-a69a-25509c0ead7a",
   "metadata": {
    "tags": []
   },
   "outputs": [
    {
     "data": {
      "text/plain": [
       "True"
      ]
     },
     "execution_count": 32,
     "metadata": {},
     "output_type": "execute_result"
    }
   ],
   "source": [
    "99999994 + 1 < 10**8"
   ]
  },
  {
   "cell_type": "code",
   "execution_count": 81,
   "id": "75ef72f3-3269-49d9-ad87-cdb537aeda66",
   "metadata": {
    "tags": []
   },
   "outputs": [
    {
     "data": {
      "text/plain": [
       "(100999998, 99999999)"
      ]
     },
     "execution_count": 81,
     "metadata": {},
     "output_type": "execute_result"
    }
   ],
   "source": [
    "An_c[4], An_s[5]"
   ]
  },
  {
   "cell_type": "code",
   "execution_count": 41,
   "id": "2cdcc96b-843f-413d-9694-ed71c3508ce9",
   "metadata": {
    "tags": []
   },
   "outputs": [
    {
     "data": {
      "text/plain": [
       "100999997"
      ]
     },
     "execution_count": 41,
     "metadata": {},
     "output_type": "execute_result"
    }
   ],
   "source": [
    "An_c[4] - An_c[1]"
   ]
  },
  {
   "cell_type": "code",
   "execution_count": 60,
   "id": "80ad02a9-71be-42f5-bb85-b1db6a75a767",
   "metadata": {
    "tags": []
   },
   "outputs": [
    {
     "data": {
      "text/plain": [
       "(200999997, 999995)"
      ]
     },
     "execution_count": 60,
     "metadata": {},
     "output_type": "execute_result"
    }
   ],
   "source": [
    "An_c[-1], (An_c[4] - An_c[2] + 1) - 10**8"
   ]
  },
  {
   "cell_type": "code",
   "execution_count": 82,
   "id": "84c727f3-1b2c-422e-82b1-0d06a626b623",
   "metadata": {
    "tags": []
   },
   "outputs": [
    {
     "data": {
      "text/plain": [
       "200999997"
      ]
     },
     "execution_count": 82,
     "metadata": {},
     "output_type": "execute_result"
    }
   ],
   "source": [
    "An_c[5]"
   ]
  },
  {
   "cell_type": "code",
   "execution_count": null,
   "id": "ad2b5cfc-7c8e-45dc-bf57-d78911868c47",
   "metadata": {},
   "outputs": [],
   "source": []
  }
 ],
 "metadata": {
  "kernelspec": {
   "display_name": "Python 3 (ipykernel)",
   "language": "python",
   "name": "python3"
  },
  "language_info": {
   "codemirror_mode": {
    "name": "ipython",
    "version": 3
   },
   "file_extension": ".py",
   "mimetype": "text/x-python",
   "name": "python",
   "nbconvert_exporter": "python",
   "pygments_lexer": "ipython3",
   "version": "3.11.3"
  }
 },
 "nbformat": 4,
 "nbformat_minor": 5
}
