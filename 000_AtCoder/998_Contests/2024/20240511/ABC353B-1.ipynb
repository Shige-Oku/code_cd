{
 "cells": [
  {
   "cell_type": "code",
   "execution_count": 1,
   "id": "279c217f-1933-4899-9f20-4d004b184cab",
   "metadata": {
    "tags": []
   },
   "outputs": [],
   "source": [
    "import sys\n",
    "import numpy as np\n",
    "import math\n",
    "import collections\n",
    "import copy\n",
    "import decimal\n",
    "import itertools\n",
    "import re\n",
    "import bisect\n",
    "import scipy\n",
    "import heapq\n",
    "from collections import deque \n",
    "from functools import reduce\n",
    "from itertools import product\n",
    "from itertools import combinations\n",
    "from functools import lru_cache\n",
    "from scipy.special import comb\n",
    "from numba import njit\n",
    "from bisect import bisect_right\n",
    "from bisect import bisect_left\n",
    "from atcoder.fenwicktree import FenwickTree\n",
    "from sortedcontainers import SortedSet, SortedKeyList, SortedDict"
   ]
  },
  {
   "cell_type": "code",
   "execution_count": 17,
   "id": "42dd44cb-89dc-4c67-8af1-2d708992f923",
   "metadata": {
    "tags": []
   },
   "outputs": [
    {
     "name": "stdin",
     "output_type": "stream",
     "text": [
      " 7 10\n"
     ]
    }
   ],
   "source": [
    "N, K = map(int, input().split())"
   ]
  },
  {
   "cell_type": "code",
   "execution_count": 18,
   "id": "b0fbdac7-3397-439c-865f-c8db7cfe19bf",
   "metadata": {
    "tags": []
   },
   "outputs": [
    {
     "name": "stdin",
     "output_type": "stream",
     "text": [
      " 1 10 1 10 1 10 1\n"
     ]
    }
   ],
   "source": [
    "An = list(map(int, input().split()))"
   ]
  },
  {
   "cell_type": "code",
   "execution_count": 19,
   "id": "63ceeed5-5555-41c0-b5b1-7928537d4868",
   "metadata": {
    "tags": []
   },
   "outputs": [],
   "source": [
    "ans = 0\n",
    "i = 0\n",
    "c = 0\n",
    "while i < N:\n",
    "    a = An[i]\n",
    "    if c + a > K:\n",
    "        ans += 1\n",
    "        c = a\n",
    "    elif c + a == K:\n",
    "        ans += 1\n",
    "        c = 0\n",
    "    else:\n",
    "        c += a\n",
    "    i += 1\n",
    "else:\n",
    "    if c > 0:\n",
    "        ans += 1"
   ]
  },
  {
   "cell_type": "code",
   "execution_count": 20,
   "id": "bf124fa5-1617-4775-86e6-9617a05f1eca",
   "metadata": {
    "tags": []
   },
   "outputs": [
    {
     "name": "stdout",
     "output_type": "stream",
     "text": [
      "7\n"
     ]
    }
   ],
   "source": [
    "print(ans)"
   ]
  },
  {
   "cell_type": "code",
   "execution_count": 21,
   "id": "c2d47bc5-2d2b-47ec-b743-97bcc046d170",
   "metadata": {},
   "outputs": [],
   "source": [
    "seat = K\n",
    "ans = 1\n",
    "for A in An:\n",
    "    if A > seat:\n",
    "        ans += 1\n",
    "        seat = K\n",
    "    seat -= A"
   ]
  },
  {
   "cell_type": "code",
   "execution_count": 22,
   "id": "e26c2164-3853-47e3-af06-bfc08cc30825",
   "metadata": {
    "tags": []
   },
   "outputs": [
    {
     "name": "stdout",
     "output_type": "stream",
     "text": [
      "7\n"
     ]
    }
   ],
   "source": [
    "print(ans)"
   ]
  },
  {
   "cell_type": "code",
   "execution_count": null,
   "id": "048d6d8d-0d84-4723-9ab0-d44a3ca0110b",
   "metadata": {},
   "outputs": [],
   "source": []
  }
 ],
 "metadata": {
  "kernelspec": {
   "display_name": "Python 3 (ipykernel)",
   "language": "python",
   "name": "python3"
  },
  "language_info": {
   "codemirror_mode": {
    "name": "ipython",
    "version": 3
   },
   "file_extension": ".py",
   "mimetype": "text/x-python",
   "name": "python",
   "nbconvert_exporter": "python",
   "pygments_lexer": "ipython3",
   "version": "3.11.3"
  }
 },
 "nbformat": 4,
 "nbformat_minor": 5
}
