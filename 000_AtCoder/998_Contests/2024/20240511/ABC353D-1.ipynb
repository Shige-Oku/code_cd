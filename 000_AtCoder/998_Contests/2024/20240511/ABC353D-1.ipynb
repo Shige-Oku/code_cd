{
 "cells": [
  {
   "cell_type": "code",
   "execution_count": 1,
   "id": "5214278d-39e5-4249-80be-30fde3080f21",
   "metadata": {
    "tags": []
   },
   "outputs": [],
   "source": [
    "import sys\n",
    "import numpy as np\n",
    "import math\n",
    "import collections\n",
    "import copy\n",
    "import decimal\n",
    "import itertools\n",
    "import re\n",
    "import bisect\n",
    "import scipy\n",
    "import heapq\n",
    "from collections import deque \n",
    "from functools import reduce\n",
    "from itertools import product\n",
    "from itertools import combinations\n",
    "from functools import lru_cache\n",
    "from scipy.special import comb\n",
    "from numba import njit\n",
    "from bisect import bisect_right\n",
    "from bisect import bisect_left\n",
    "from atcoder.fenwicktree import FenwickTree\n",
    "from sortedcontainers import SortedSet, SortedKeyList, SortedDict"
   ]
  },
  {
   "cell_type": "code",
   "execution_count": 81,
   "id": "662c23e1-3102-4778-9806-da1fda46a6d1",
   "metadata": {
    "tags": []
   },
   "outputs": [
    {
     "name": "stdin",
     "output_type": "stream",
     "text": [
      " 5\n"
     ]
    }
   ],
   "source": [
    "N = int(input())"
   ]
  },
  {
   "cell_type": "code",
   "execution_count": 82,
   "id": "be9c50ec-e619-43f1-9f26-524c36ab7b50",
   "metadata": {
    "tags": []
   },
   "outputs": [
    {
     "name": "stdin",
     "output_type": "stream",
     "text": [
      " 1001 5 1000000 1000000000 100000\n"
     ]
    }
   ],
   "source": [
    "An = list(input().split())"
   ]
  },
  {
   "cell_type": "code",
   "execution_count": 86,
   "id": "04931ad3-e564-4063-bdbd-eaa3d8f76f1a",
   "metadata": {
    "tags": []
   },
   "outputs": [],
   "source": [
    "k_cnt = [0] * 11\n",
    "k_sum = [0] * 11\n",
    "An_n = []\n",
    "for i, A in enumerate(An):\n",
    "    k_cnt[len(A)] += 1\n",
    "    n = int(A)\n",
    "    An_n.append(A)\n",
    "    k_sum[len(A)] += n"
   ]
  },
  {
   "cell_type": "code",
   "execution_count": 87,
   "id": "4d37b474-930e-4521-8808-211feee71d2e",
   "metadata": {
    "tags": []
   },
   "outputs": [],
   "source": [
    "ans = 0\n",
    "for i, A in enumerate(An):\n",
    "    a = int(A)\n",
    "    k_cnt[len(A)] -= 1\n",
    "    k_sum[len(A)] -= a\n",
    "    for j in range(1, 11):\n",
    "        n = a * (10**j) * k_cnt[j] + k_sum[j]\n",
    "        # print(j, n)\n",
    "        ans += n % 998244353\n",
    "        ans %= 998244353\n",
    "    # print('ans = ', ans)"
   ]
  },
  {
   "cell_type": "code",
   "execution_count": 88,
   "id": "ca133db7-3316-4fdb-934f-b588d2a6d89f",
   "metadata": {
    "tags": []
   },
   "outputs": [
    {
     "name": "stdout",
     "output_type": "stream",
     "text": [
      "625549048\n"
     ]
    }
   ],
   "source": [
    "print(ans)"
   ]
  },
  {
   "cell_type": "code",
   "execution_count": 72,
   "id": "64c1dbab-4716-4e24-bb21-e235b0bacf01",
   "metadata": {
    "tags": []
   },
   "outputs": [
    {
     "data": {
      "text/plain": [
       "([0, 1, 2, 0, 0, 0, 0, 0, 0, 0, 0], [0, 3, 29, 0, 0, 0, 0, 0, 0, 0, 0])"
      ]
     },
     "execution_count": 72,
     "metadata": {},
     "output_type": "execute_result"
    }
   ],
   "source": [
    "k_cnt, k_sum"
   ]
  },
  {
   "cell_type": "code",
   "execution_count": 58,
   "id": "62f684c5-97ca-4799-bee1-0dbc3dcf3bf9",
   "metadata": {
    "tags": []
   },
   "outputs": [
    {
     "data": {
      "text/plain": [
       "-10935505821"
      ]
     },
     "execution_count": 58,
     "metadata": {},
     "output_type": "execute_result"
    }
   ],
   "source": [
    "625549048 - 11561054869"
   ]
  },
  {
   "cell_type": "code",
   "execution_count": 36,
   "id": "bf784e72-91cc-41c6-bb66-dbc063530d89",
   "metadata": {
    "tags": []
   },
   "outputs": [
    {
     "data": {
      "text/plain": [
       "10"
      ]
     },
     "execution_count": 36,
     "metadata": {},
     "output_type": "execute_result"
    }
   ],
   "source": [
    "len(A)"
   ]
  },
  {
   "cell_type": "code",
   "execution_count": null,
   "id": "bd2548cc-d4b3-4112-86a7-f31e15e60caa",
   "metadata": {},
   "outputs": [],
   "source": []
  }
 ],
 "metadata": {
  "kernelspec": {
   "display_name": "Python 3 (ipykernel)",
   "language": "python",
   "name": "python3"
  },
  "language_info": {
   "codemirror_mode": {
    "name": "ipython",
    "version": 3
   },
   "file_extension": ".py",
   "mimetype": "text/x-python",
   "name": "python",
   "nbconvert_exporter": "python",
   "pygments_lexer": "ipython3",
   "version": "3.11.3"
  }
 },
 "nbformat": 4,
 "nbformat_minor": 5
}
