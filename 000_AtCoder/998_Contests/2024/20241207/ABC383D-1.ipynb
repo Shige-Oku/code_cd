{
 "cells": [
  {
   "cell_type": "code",
   "execution_count": 1,
   "id": "0b57b79f-1978-4e5f-8a24-3b4c32af4e10",
   "metadata": {
    "tags": []
   },
   "outputs": [],
   "source": [
    "import sys\n",
    "import numpy as np\n",
    "import math\n",
    "import collections\n",
    "import copy\n",
    "import decimal\n",
    "import itertools\n",
    "import re\n",
    "import bisect\n",
    "import scipy\n",
    "import heapq\n",
    "from collections import deque \n",
    "from functools import reduce\n",
    "from itertools import product\n",
    "from itertools import combinations\n",
    "from functools import lru_cache\n",
    "from scipy.special import comb\n",
    "from numba import njit\n",
    "from bisect import bisect_right\n",
    "from bisect import bisect_left\n",
    "from atcoder.fenwicktree import FenwickTree\n",
    "from sortedcontainers import SortedSet, SortedList, SortedDict"
   ]
  },
  {
   "cell_type": "code",
   "execution_count": 2,
   "id": "cf15563b-39fb-4b87-821a-a6f94e240a57",
   "metadata": {
    "tags": []
   },
   "outputs": [
    {
     "name": "stdin",
     "output_type": "stream",
     "text": [
      " 200\n"
     ]
    }
   ],
   "source": [
    "N = int(input())"
   ]
  },
  {
   "cell_type": "code",
   "execution_count": 29,
   "id": "297d72cd-f286-4955-a3e6-414f4c9695bf",
   "metadata": {},
   "outputs": [],
   "source": [
    "def getPrimes(n):\n",
    "    ret = []\n",
    "    isPrime = [True] * (n+1)\n",
    "    isPrime[:2] = False, False\n",
    "    isCheck = [False] * (n+1)\n",
    "    for i in range(2, int(n**.5)+1):\n",
    "        if isCheck[i]:\n",
    "            continue\n",
    "        for j in range(i*i, n+1, i):\n",
    "            isCheck[j] = True\n",
    "            isPrime[j] = False\n",
    "    for i in range(2, n+1):\n",
    "        if isPrime[i]:\n",
    "            ret.append(i)\n",
    "    return ret"
   ]
  },
  {
   "cell_type": "code",
   "execution_count": 46,
   "id": "f6d42498-8de4-4ebe-bac6-fcb2279e66d1",
   "metadata": {
    "tags": []
   },
   "outputs": [],
   "source": [
    "def solve1():\n",
    "    for i in range(len(primes)-1):\n",
    "        p1 = primes[i]\n",
    "        if p1**4 > N:\n",
    "            break\n",
    "        for j in range(i+1, len(primes)):\n",
    "            p2 = primes[j]\n",
    "            if p1*p1 * p2*p2 > N:\n",
    "                break\n",
    "            ans.add(p1 * p1 * p2 * p2)\n",
    "            # print(p1, p2, p1*p2)"
   ]
  },
  {
   "cell_type": "code",
   "execution_count": 47,
   "id": "471b16d9-b944-415c-9a7f-79a4636ee0f0",
   "metadata": {
    "tags": []
   },
   "outputs": [],
   "source": [
    "def solve2():\n",
    "    for prime in primes:\n",
    "        if prime **8 > N:\n",
    "            break\n",
    "        ans.add(prime**8)"
   ]
  },
  {
   "cell_type": "code",
   "execution_count": 48,
   "id": "8a6c6c57-2f66-4067-bb1f-2ebecf46aa81",
   "metadata": {
    "tags": []
   },
   "outputs": [],
   "source": [
    "primes = getPrimes(2*10**6)\n",
    "ans = set()"
   ]
  },
  {
   "cell_type": "code",
   "execution_count": 49,
   "id": "6f049ea0-ad7d-4fe5-ad4a-6e424a11d6bd",
   "metadata": {
    "tags": []
   },
   "outputs": [],
   "source": [
    "solve1()\n",
    "solve2()"
   ]
  },
  {
   "cell_type": "code",
   "execution_count": 51,
   "id": "b9463289-f64e-4081-9f15-9a399ea21bb2",
   "metadata": {
    "tags": []
   },
   "outputs": [
    {
     "name": "stdout",
     "output_type": "stream",
     "text": [
      "3\n"
     ]
    }
   ],
   "source": [
    "print(len(ans))"
   ]
  },
  {
   "cell_type": "code",
   "execution_count": 33,
   "id": "fccf2541-7f7b-4cb8-b8fa-1f4a1053b53c",
   "metadata": {
    "tags": []
   },
   "outputs": [
    {
     "data": {
      "text/plain": [
       "148933"
      ]
     },
     "execution_count": 33,
     "metadata": {},
     "output_type": "execute_result"
    }
   ],
   "source": [
    "len(primes)"
   ]
  },
  {
   "cell_type": "code",
   "execution_count": 14,
   "id": "a8bea19d-dee0-48cf-88da-459e9a353db7",
   "metadata": {
    "tags": []
   },
   "outputs": [
    {
     "data": {
      "text/plain": [
       "196"
      ]
     },
     "execution_count": 14,
     "metadata": {},
     "output_type": "execute_result"
    }
   ],
   "source": [
    "14*14"
   ]
  },
  {
   "cell_type": "code",
   "execution_count": 26,
   "id": "8a997b0d-6932-4b1f-8061-146e6d6d9a44",
   "metadata": {
    "tags": []
   },
   "outputs": [
    {
     "data": {
      "text/plain": [
       "196"
      ]
     },
     "execution_count": 26,
     "metadata": {},
     "output_type": "execute_result"
    }
   ],
   "source": [
    "2*2*7*7"
   ]
  },
  {
   "cell_type": "code",
   "execution_count": null,
   "id": "95be2dfd-1ff6-496f-8e3c-fe4d60d58c4b",
   "metadata": {},
   "outputs": [],
   "source": []
  }
 ],
 "metadata": {
  "kernelspec": {
   "display_name": "Python 3 (ipykernel)",
   "language": "python",
   "name": "python3"
  },
  "language_info": {
   "codemirror_mode": {
    "name": "ipython",
    "version": 3
   },
   "file_extension": ".py",
   "mimetype": "text/x-python",
   "name": "python",
   "nbconvert_exporter": "python",
   "pygments_lexer": "ipython3",
   "version": "3.11.3"
  }
 },
 "nbformat": 4,
 "nbformat_minor": 5
}
