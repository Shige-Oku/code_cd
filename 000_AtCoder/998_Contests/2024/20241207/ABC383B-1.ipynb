{
 "cells": [
  {
   "cell_type": "code",
   "execution_count": 1,
   "id": "f86839d7-ec8b-4afc-857d-31b97a60ef4d",
   "metadata": {
    "tags": []
   },
   "outputs": [],
   "source": [
    "import sys\n",
    "import numpy as np\n",
    "import math\n",
    "import collections\n",
    "import copy\n",
    "import decimal\n",
    "import itertools\n",
    "import re\n",
    "import bisect\n",
    "import scipy\n",
    "import heapq\n",
    "from collections import deque \n",
    "from functools import reduce\n",
    "from itertools import product\n",
    "from itertools import combinations\n",
    "from functools import lru_cache\n",
    "from scipy.special import comb\n",
    "from numba import njit\n",
    "from bisect import bisect_right\n",
    "from bisect import bisect_left\n",
    "from atcoder.fenwicktree import FenwickTree\n",
    "from sortedcontainers import SortedSet, SortedList, SortedDict"
   ]
  },
  {
   "cell_type": "code",
   "execution_count": 2,
   "id": "be349557-6544-4b2c-85bc-f68ab86ebb3f",
   "metadata": {
    "tags": []
   },
   "outputs": [
    {
     "name": "stdin",
     "output_type": "stream",
     "text": [
      " 2 5 1\n"
     ]
    }
   ],
   "source": [
    "H, W, D = map(int, input().split())"
   ]
  },
  {
   "cell_type": "code",
   "execution_count": 3,
   "id": "36c4fcb0-96a2-4173-b9b2-f9625ac648a6",
   "metadata": {
    "tags": []
   },
   "outputs": [
    {
     "name": "stdin",
     "output_type": "stream",
     "text": [
      " .###.\n",
      " .#.##\n"
     ]
    }
   ],
   "source": [
    "Shw = [input() for _ in range(H)]"
   ]
  },
  {
   "cell_type": "code",
   "execution_count": 17,
   "id": "5bca9a7b-d201-442d-90e8-96fe308a08d4",
   "metadata": {
    "tags": []
   },
   "outputs": [],
   "source": [
    "def solve(f, s):\n",
    "    ok = set()\n",
    "    x1, y1 = fl[f]\n",
    "    x2, y2 = fl[s]\n",
    "    for h in range(H):\n",
    "        for w in range(W):\n",
    "            if Shw[h][w] != '.':\n",
    "                continue\n",
    "            d = abs(x1-h) + abs(y1-w)\n",
    "            if d <= D:\n",
    "                ok.add((h, w))\n",
    "                continue\n",
    "            d = abs(x2-h) + abs(y2-w)\n",
    "            if d <= D:\n",
    "                ok.add((h, w))\n",
    "                continue\n",
    "    return len(ok)"
   ]
  },
  {
   "cell_type": "code",
   "execution_count": 18,
   "id": "2b3cb26a-37d7-443b-9fcd-d977d43e3678",
   "metadata": {
    "tags": []
   },
   "outputs": [],
   "source": [
    "fl = []\n",
    "for h in range(H):\n",
    "    for w in range(W):\n",
    "        if Shw[h][w] == '.':\n",
    "            fl.append([h, w])"
   ]
  },
  {
   "cell_type": "code",
   "execution_count": 19,
   "id": "1ba874ba-2d1a-4564-a769-b4b5bc0bbb02",
   "metadata": {
    "tags": []
   },
   "outputs": [],
   "source": [
    "ans = 0\n",
    "for i in range(len(fl)-1):\n",
    "    for j in range(len(fl)):\n",
    "        cnt  = solve(i, j)\n",
    "        ans = max(ans, cnt)"
   ]
  },
  {
   "cell_type": "code",
   "execution_count": 20,
   "id": "40290080-9bc3-4c4f-a172-6b745bf3d08a",
   "metadata": {
    "tags": []
   },
   "outputs": [
    {
     "name": "stdout",
     "output_type": "stream",
     "text": [
      "3\n"
     ]
    }
   ],
   "source": [
    "print(ans)"
   ]
  },
  {
   "cell_type": "code",
   "execution_count": 6,
   "id": "0538523a-e05b-43f7-bb4d-e9a1af27248e",
   "metadata": {
    "tags": []
   },
   "outputs": [
    {
     "data": {
      "text/plain": [
       "[[0, 0], [0, 4], [1, 0], [1, 2]]"
      ]
     },
     "execution_count": 6,
     "metadata": {},
     "output_type": "execute_result"
    }
   ],
   "source": [
    "fl"
   ]
  },
  {
   "cell_type": "code",
   "execution_count": null,
   "id": "815fcb64-3ba6-4200-9458-3aa597b95edc",
   "metadata": {},
   "outputs": [],
   "source": []
  }
 ],
 "metadata": {
  "kernelspec": {
   "display_name": "Python 3 (ipykernel)",
   "language": "python",
   "name": "python3"
  },
  "language_info": {
   "codemirror_mode": {
    "name": "ipython",
    "version": 3
   },
   "file_extension": ".py",
   "mimetype": "text/x-python",
   "name": "python",
   "nbconvert_exporter": "python",
   "pygments_lexer": "ipython3",
   "version": "3.11.3"
  }
 },
 "nbformat": 4,
 "nbformat_minor": 5
}
