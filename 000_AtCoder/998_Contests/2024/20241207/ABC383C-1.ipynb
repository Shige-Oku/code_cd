{
 "cells": [
  {
   "cell_type": "code",
   "execution_count": 1,
   "id": "1092d7eb-0c14-410d-92d3-13f9a3e10569",
   "metadata": {
    "tags": []
   },
   "outputs": [],
   "source": [
    "import sys\n",
    "import numpy as np\n",
    "import math\n",
    "import collections\n",
    "import copy\n",
    "import decimal\n",
    "import itertools\n",
    "import re\n",
    "import bisect\n",
    "import scipy\n",
    "import heapq\n",
    "from collections import deque \n",
    "from functools import reduce\n",
    "from itertools import product\n",
    "from itertools import combinations\n",
    "from functools import lru_cache\n",
    "from scipy.special import comb\n",
    "from numba import njit\n",
    "from bisect import bisect_right\n",
    "from bisect import bisect_left\n",
    "from atcoder.fenwicktree import FenwickTree\n",
    "from sortedcontainers import SortedSet, SortedList, SortedDict"
   ]
  },
  {
   "cell_type": "code",
   "execution_count": 21,
   "id": "f1e6c7a8-458b-415e-a2df-8a7e661ab657",
   "metadata": {
    "tags": []
   },
   "outputs": [
    {
     "name": "stdin",
     "output_type": "stream",
     "text": [
      " 5 6 2\n"
     ]
    }
   ],
   "source": [
    "H, W, D = map(int, input().split())"
   ]
  },
  {
   "cell_type": "code",
   "execution_count": 22,
   "id": "2501a057-138b-42c1-a064-e665f90b74f6",
   "metadata": {
    "tags": []
   },
   "outputs": [
    {
     "name": "stdin",
     "output_type": "stream",
     "text": [
      " ##...H\n",
      " H.....\n",
      " ..H.#.\n",
      " .HH...\n",
      " .###..\n"
     ]
    }
   ],
   "source": [
    "Shw = [input() for _ in range(H)]"
   ]
  },
  {
   "cell_type": "code",
   "execution_count": 64,
   "id": "4b7ec91f-9615-463c-ab47-8af1e4a1357f",
   "metadata": {
    "tags": []
   },
   "outputs": [],
   "source": [
    "from collections import deque \n",
    "def bfs():\n",
    "    q = deque()\n",
    "    for h in range(H):\n",
    "        for w in range(W):\n",
    "            if Shw[h][w] == 'H':\n",
    "                q.append([h, w])\n",
    "                dist[h][w] = 0\n",
    "                \n",
    "    while q:\n",
    "        y, x = q.popleft()\n",
    "        for dy, dx in ((1, 0), (-1, 0), (0, 1), (0, -1)):\n",
    "            nh = y + dy\n",
    "            nw = x + dx\n",
    "            if nh < 0 or nh >= H:\n",
    "                # print('H')\n",
    "                continue\n",
    "            if nw < 0 or nw >= W:\n",
    "                # print('Y')\n",
    "                continue\n",
    "            if Shw[nh][nw] == '#':\n",
    "                continue\n",
    "            if dist[nh][nw] != -1:\n",
    "                # print(nh, nw, dist[nh][nw])\n",
    "                continue\n",
    "            if dist[y][x] + 1 > D:\n",
    "                # print(nh, nw, dist[x][y], x, y)\n",
    "                continue\n",
    "            if Shw[nh][nw] == 'H':\n",
    "                return True\n",
    "            q.append([nh, nw])\n",
    "            dist[nh][nw] = dist[y][x] + 1\n",
    "    return"
   ]
  },
  {
   "cell_type": "code",
   "execution_count": 65,
   "id": "c1f16167-9708-4c98-80bf-2a78fe6b42d6",
   "metadata": {
    "tags": []
   },
   "outputs": [],
   "source": [
    "dist = [[-1] * W for _ in range(H)]\n",
    "bfs()"
   ]
  },
  {
   "cell_type": "code",
   "execution_count": 67,
   "id": "b4036a3e-7c7f-4c3e-9791-05cca500541f",
   "metadata": {
    "tags": []
   },
   "outputs": [],
   "source": [
    "ans = 0\n",
    "for di in dist:\n",
    "    for d in di:\n",
    "        if d != -1:\n",
    "            ans += 1"
   ]
  },
  {
   "cell_type": "code",
   "execution_count": 68,
   "id": "edf82e8d-a3fb-4b20-b890-a2b6ad7867b3",
   "metadata": {
    "tags": []
   },
   "outputs": [
    {
     "name": "stdout",
     "output_type": "stream",
     "text": [
      "21\n"
     ]
    }
   ],
   "source": [
    "print(ans)"
   ]
  },
  {
   "cell_type": "code",
   "execution_count": 66,
   "id": "2c993e56-1768-4177-b294-2fdfda4e27a5",
   "metadata": {
    "tags": []
   },
   "outputs": [
    {
     "data": {
      "text/plain": [
       "[[-1, -1, 2, 2, 1, 0],\n",
       " [0, 1, 1, 2, 2, 1],\n",
       " [1, 1, 0, 1, -1, 2],\n",
       " [1, 0, 0, 1, 2, -1],\n",
       " [2, -1, -1, -1, -1, -1]]"
      ]
     },
     "execution_count": 66,
     "metadata": {},
     "output_type": "execute_result"
    }
   ],
   "source": [
    "dist"
   ]
  },
  {
   "cell_type": "code",
   "execution_count": null,
   "id": "1bff5a5f-a080-413a-b919-d55a322e23c8",
   "metadata": {},
   "outputs": [],
   "source": []
  },
  {
   "cell_type": "code",
   "execution_count": 52,
   "id": "b95e2857-bd1a-4e0a-9807-cf1b7768b955",
   "metadata": {
    "tags": []
   },
   "outputs": [],
   "source": [
    "from collections import deque \n",
    "def solve(h, w):\n",
    "    q = deque()\n",
    "    dist = [[-1] * W for _ in range(H)]\n",
    "    q.append([h, w])\n",
    "    dist[h][w] = 0\n",
    "    while q:\n",
    "        y, x = q.popleft()\n",
    "        for dy, dx in ((1, 0), (-1, 0), (0, 1), (0, -1)):\n",
    "            nh = y + dy\n",
    "            nw = x + dx\n",
    "            if nh < 0 or nh >= H:\n",
    "                # print('H')\n",
    "                continue\n",
    "            if nw < 0 or nw >= W:\n",
    "                # print('Y')\n",
    "                continue\n",
    "            if Shw[nh][nw] == '#':\n",
    "                continue\n",
    "            if dist[nh][nw] != -1:\n",
    "                # print(nh, nw, dist[nh][nw])\n",
    "                continue\n",
    "            if dist[y][x] + 1 > D:\n",
    "                # print(nh, nw, dist[x][y], x, y)\n",
    "                continue\n",
    "            if Shw[nh][nw] == 'H':\n",
    "                return True\n",
    "            q.append([nh, nw])\n",
    "            dist[nh][nw] = dist[y][x] + 1\n",
    "    # print(dist)\n",
    "    return False"
   ]
  },
  {
   "cell_type": "code",
   "execution_count": 55,
   "id": "d879564c-989f-46c0-bf21-acf49451b5aa",
   "metadata": {
    "tags": []
   },
   "outputs": [],
   "source": [
    "ans = 0\n",
    "for h in range(H):\n",
    "    for w in range(W):\n",
    "        if Shw[h][w] == '.':\n",
    "            if solve(h, w):\n",
    "                ans += 1\n",
    "        elif Shw[h][w] == 'H':\n",
    "            ans += 1\n"
   ]
  },
  {
   "cell_type": "code",
   "execution_count": 56,
   "id": "2fdaeff0-eaef-4d82-97bd-e11432d2bb8d",
   "metadata": {
    "tags": []
   },
   "outputs": [
    {
     "name": "stdout",
     "output_type": "stream",
     "text": [
      "21\n"
     ]
    }
   ],
   "source": [
    "print(ans)"
   ]
  },
  {
   "cell_type": "code",
   "execution_count": 8,
   "id": "a7d09730-8538-4650-ac52-0e58beac3960",
   "metadata": {
    "tags": []
   },
   "outputs": [],
   "source": [
    "d = [[-1] * W for _ in range(H)]"
   ]
  },
  {
   "cell_type": "code",
   "execution_count": 9,
   "id": "df12c922-6e3e-42da-8a43-8aa9f229413c",
   "metadata": {
    "tags": []
   },
   "outputs": [
    {
     "data": {
      "text/plain": [
       "[[-1, -1, -1, -1], [-1, -1, -1, -1], [-1, -1, -1, -1]]"
      ]
     },
     "execution_count": 9,
     "metadata": {},
     "output_type": "execute_result"
    }
   ],
   "source": [
    "d"
   ]
  },
  {
   "cell_type": "code",
   "execution_count": 50,
   "id": "94b843c5-e6c2-43da-adf3-971959b9527b",
   "metadata": {
    "tags": []
   },
   "outputs": [
    {
     "data": {
      "text/plain": [
       "True"
      ]
     },
     "execution_count": 50,
     "metadata": {},
     "output_type": "execute_result"
    }
   ],
   "source": [
    "solve(1, 5)"
   ]
  },
  {
   "cell_type": "code",
   "execution_count": 32,
   "id": "7dce7b2e-eef9-4448-8f6d-363b9ce3db76",
   "metadata": {
    "tags": []
   },
   "outputs": [
    {
     "data": {
      "text/plain": [
       "2"
      ]
     },
     "execution_count": 32,
     "metadata": {},
     "output_type": "execute_result"
    }
   ],
   "source": [
    "D"
   ]
  },
  {
   "cell_type": "code",
   "execution_count": null,
   "id": "46e450fd-cac0-49a4-84c5-c379792ae3ba",
   "metadata": {},
   "outputs": [],
   "source": []
  }
 ],
 "metadata": {
  "kernelspec": {
   "display_name": "Python 3 (ipykernel)",
   "language": "python",
   "name": "python3"
  },
  "language_info": {
   "codemirror_mode": {
    "name": "ipython",
    "version": 3
   },
   "file_extension": ".py",
   "mimetype": "text/x-python",
   "name": "python",
   "nbconvert_exporter": "python",
   "pygments_lexer": "ipython3",
   "version": "3.11.3"
  }
 },
 "nbformat": 4,
 "nbformat_minor": 5
}
