{
 "cells": [
  {
   "cell_type": "code",
   "execution_count": 1,
   "id": "3c5af5cb-d00e-443d-b873-1015247ab066",
   "metadata": {
    "tags": []
   },
   "outputs": [],
   "source": [
    "import sys\n",
    "import numpy as np\n",
    "import math\n",
    "import collections\n",
    "import copy\n",
    "import decimal\n",
    "import itertools\n",
    "import re\n",
    "import bisect\n",
    "import scipy\n",
    "import heapq\n",
    "from collections import deque \n",
    "from functools import reduce\n",
    "from itertools import product\n",
    "from itertools import combinations\n",
    "from functools import lru_cache\n",
    "from scipy.special import comb\n",
    "from numba import njit\n",
    "from bisect import bisect_right\n",
    "from bisect import bisect_left\n",
    "from atcoder.fenwicktree import FenwickTree\n",
    "from sortedcontainers import SortedList"
   ]
  },
  {
   "cell_type": "code",
   "execution_count": 74,
   "id": "b255c729-b658-41b1-9809-f1bb8f7f53f4",
   "metadata": {
    "tags": []
   },
   "outputs": [
    {
     "name": "stdin",
     "output_type": "stream",
     "text": [
      " 5\n"
     ]
    }
   ],
   "source": [
    "N = int(input())"
   ]
  },
  {
   "cell_type": "code",
   "execution_count": 75,
   "id": "5fc698b2-8928-47e8-9fc4-813e68b3822c",
   "metadata": {
    "tags": []
   },
   "outputs": [
    {
     "name": "stdin",
     "output_type": "stream",
     "text": [
      " 1000000000 1000000000 1000000000 1000000000 1000000000\n"
     ]
    }
   ],
   "source": [
    "Hn = list(map(int, input().split()))"
   ]
  },
  {
   "cell_type": "code",
   "execution_count": 76,
   "id": "ce04ba85-f641-4225-b675-699c23911682",
   "metadata": {
    "tags": []
   },
   "outputs": [],
   "source": [
    "def solve(h, t):\n",
    "    while t % 3 != 0:\n",
    "        t += 1\n",
    "        if t % 3 == 2:\n",
    "            h -= 1\n",
    "        else:\n",
    "            h -= 3\n",
    "        if h <= 0:\n",
    "            return t\n",
    "    \n",
    "    # print(h, t)\n",
    "    q, r = divmod(h, 5)\n",
    "    t += q * 3\n",
    "       \n",
    "    return t + min(r, 3)"
   ]
  },
  {
   "cell_type": "code",
   "execution_count": 77,
   "id": "75a6e12a-e721-4257-b11b-ac70535dde38",
   "metadata": {
    "tags": []
   },
   "outputs": [],
   "source": [
    "ans = 0\n",
    "for H in Hn:\n",
    "    ans = solve(H, ans)\n",
    "    # print(ans)"
   ]
  },
  {
   "cell_type": "code",
   "execution_count": 78,
   "id": "344688a8-0b49-4ffb-b38a-bc37755fde57",
   "metadata": {
    "tags": []
   },
   "outputs": [
    {
     "name": "stdout",
     "output_type": "stream",
     "text": [
      "3000000000\n"
     ]
    }
   ],
   "source": [
    "print(ans)"
   ]
  },
  {
   "cell_type": "code",
   "execution_count": 62,
   "id": "b34d913d-d416-48a7-8081-3b640ae9fba6",
   "metadata": {
    "tags": []
   },
   "outputs": [
    {
     "data": {
      "text/plain": [
       "7"
      ]
     },
     "execution_count": 62,
     "metadata": {},
     "output_type": "execute_result"
    }
   ],
   "source": [
    "solve(2, 6)"
   ]
  },
  {
   "cell_type": "code",
   "execution_count": null,
   "id": "930e6a88-98c5-4575-b62c-4b8bd9557cf3",
   "metadata": {},
   "outputs": [],
   "source": []
  }
 ],
 "metadata": {
  "kernelspec": {
   "display_name": "Python 3 (ipykernel)",
   "language": "python",
   "name": "python3"
  },
  "language_info": {
   "codemirror_mode": {
    "name": "ipython",
    "version": 3
   },
   "file_extension": ".py",
   "mimetype": "text/x-python",
   "name": "python",
   "nbconvert_exporter": "python",
   "pygments_lexer": "ipython3",
   "version": "3.11.3"
  }
 },
 "nbformat": 4,
 "nbformat_minor": 5
}
