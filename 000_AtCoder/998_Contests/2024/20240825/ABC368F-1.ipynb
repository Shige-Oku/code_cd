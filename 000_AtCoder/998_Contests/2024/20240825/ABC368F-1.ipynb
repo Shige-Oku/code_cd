{
 "cells": [
  {
   "cell_type": "code",
   "execution_count": 1,
   "id": "621eb218-503f-481b-995c-963d433af898",
   "metadata": {
    "tags": []
   },
   "outputs": [],
   "source": [
    "import sys\n",
    "import numpy as np\n",
    "import math\n",
    "import collections\n",
    "import copy\n",
    "import decimal\n",
    "import itertools\n",
    "import re\n",
    "import bisect\n",
    "import scipy\n",
    "import heapq\n",
    "from collections import deque \n",
    "from functools import reduce\n",
    "from itertools import product\n",
    "from itertools import combinations\n",
    "from functools import lru_cache\n",
    "from scipy.special import comb\n",
    "from numba import njit\n",
    "from bisect import bisect_right\n",
    "from bisect import bisect_left\n",
    "from atcoder.fenwicktree import FenwickTree\n",
    "from sortedcontainers import SortedList"
   ]
  },
  {
   "cell_type": "code",
   "execution_count": 2,
   "id": "99fcbe4f-390a-4a1b-b0c1-00baade11bb1",
   "metadata": {
    "tags": []
   },
   "outputs": [
    {
     "name": "stdin",
     "output_type": "stream",
     "text": [
      " 3\n"
     ]
    }
   ],
   "source": [
    "N = int(input())"
   ]
  },
  {
   "cell_type": "code",
   "execution_count": 3,
   "id": "eeb2f735-2fed-4aa9-9a12-4449363776e9",
   "metadata": {
    "tags": []
   },
   "outputs": [
    {
     "name": "stdin",
     "output_type": "stream",
     "text": [
      " 2 3 4\n"
     ]
    }
   ],
   "source": [
    "An = list(map(int, input().split()))"
   ]
  },
  {
   "cell_type": "code",
   "execution_count": 5,
   "id": "e5519808-18f3-4d54-9781-79160a52f47a",
   "metadata": {
    "tags": []
   },
   "outputs": [],
   "source": [
    "# 素因数分解\n",
    "from collections import defaultdict\n",
    "def factorization(n):\n",
    "    arr = {}\n",
    "    temp = n\n",
    "    for i in range(2, int(-(-n**0.5//1))+1):\n",
    "        if temp % i == 0:\n",
    "            cnt = 0\n",
    "            while temp % i == 0:\n",
    "                cnt += 1\n",
    "                temp //= i\n",
    "            arr[i] = cnt\n",
    "\n",
    "    if temp != 1:\n",
    "        if temp in arr:\n",
    "            arr[temp] += 1\n",
    "        else:\n",
    "            arr[temp] = 1\n",
    "\n",
    "    if len(arr) == 0:\n",
    "        arr[n] = 1\n",
    "\n",
    "    return arr"
   ]
  },
  {
   "cell_type": "code",
   "execution_count": 6,
   "id": "3fe1912a-ac74-4999-b759-0df0b2cdc108",
   "metadata": {
    "tags": []
   },
   "outputs": [],
   "source": [
    "An_p = []\n",
    "for A in An:\n",
    "    An_p.append(len(factorization(A)))"
   ]
  },
  {
   "cell_type": "code",
   "execution_count": 7,
   "id": "b58381c5-9a3f-473b-b557-114aee4903f9",
   "metadata": {
    "tags": []
   },
   "outputs": [
    {
     "data": {
      "text/plain": [
       "[1, 1, 1]"
      ]
     },
     "execution_count": 7,
     "metadata": {},
     "output_type": "execute_result"
    }
   ],
   "source": [
    "An_p"
   ]
  },
  {
   "cell_type": "code",
   "execution_count": null,
   "id": "4992787d-d247-4d0d-979a-7b21412afe96",
   "metadata": {},
   "outputs": [],
   "source": []
  }
 ],
 "metadata": {
  "kernelspec": {
   "display_name": "Python 3 (ipykernel)",
   "language": "python",
   "name": "python3"
  },
  "language_info": {
   "codemirror_mode": {
    "name": "ipython",
    "version": 3
   },
   "file_extension": ".py",
   "mimetype": "text/x-python",
   "name": "python",
   "nbconvert_exporter": "python",
   "pygments_lexer": "ipython3",
   "version": "3.11.3"
  }
 },
 "nbformat": 4,
 "nbformat_minor": 5
}
