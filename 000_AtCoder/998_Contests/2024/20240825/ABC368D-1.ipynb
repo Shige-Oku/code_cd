{
 "cells": [
  {
   "cell_type": "code",
   "execution_count": 1,
   "id": "d6d3c57d-0d02-4e0c-9ec5-3e4d82487136",
   "metadata": {
    "tags": []
   },
   "outputs": [],
   "source": [
    "import sys\n",
    "import numpy as np\n",
    "import math\n",
    "import collections\n",
    "import copy\n",
    "import decimal\n",
    "import itertools\n",
    "import re\n",
    "import bisect\n",
    "import scipy\n",
    "import heapq\n",
    "from collections import deque \n",
    "from functools import reduce\n",
    "from itertools import product\n",
    "from itertools import combinations\n",
    "from functools import lru_cache\n",
    "from scipy.special import comb\n",
    "from numba import njit\n",
    "from bisect import bisect_right\n",
    "from bisect import bisect_left\n",
    "from atcoder.fenwicktree import FenwickTree\n",
    "from sortedcontainers import SortedList"
   ]
  },
  {
   "cell_type": "code",
   "execution_count": 20,
   "id": "65c927be-0f2a-4f3d-bb81-589e3921f09b",
   "metadata": {
    "tags": []
   },
   "outputs": [
    {
     "name": "stdin",
     "output_type": "stream",
     "text": [
      " 7 3\n"
     ]
    }
   ],
   "source": [
    "N, K = map(int, input().split())"
   ]
  },
  {
   "cell_type": "code",
   "execution_count": 21,
   "id": "0cec578c-fc65-47bb-8c2a-f5d20ca43604",
   "metadata": {
    "tags": []
   },
   "outputs": [
    {
     "name": "stdin",
     "output_type": "stream",
     "text": [
      " 1 2\n",
      " 1 3\n",
      " 2 4\n",
      " 2 5\n",
      " 3 6\n",
      " 3 7\n"
     ]
    }
   ],
   "source": [
    "ABn = [list(map(int, input().split())) for _ in range(N-1)]"
   ]
  },
  {
   "cell_type": "code",
   "execution_count": 22,
   "id": "c7b9da63-0d69-4356-a879-86f051f7f193",
   "metadata": {
    "tags": []
   },
   "outputs": [
    {
     "name": "stdin",
     "output_type": "stream",
     "text": [
      " 1 3 5\n"
     ]
    }
   ],
   "source": [
    "Vk = list(map(int, input().split()))"
   ]
  },
  {
   "cell_type": "code",
   "execution_count": 23,
   "id": "96e037d1-db42-4862-b1ae-a12637abf9f6",
   "metadata": {
    "tags": []
   },
   "outputs": [],
   "source": [
    "graph = [[] for _ in range(N+1)]\n",
    "for A, B in ABn:\n",
    "    graph[A].append(B)\n",
    "    graph[B].append(A)"
   ]
  },
  {
   "cell_type": "code",
   "execution_count": 37,
   "id": "7ac42834-f19a-44c1-a6df-6564ddbf6f2c",
   "metadata": {
    "tags": []
   },
   "outputs": [],
   "source": [
    "import sys\n",
    "sys.setrecursionlimit(10**7)\n",
    "def dfs(n):\n",
    "    global ans\n",
    "    visit[n] = True\n",
    "    f = False\n",
    "    for ne in graph[n]:\n",
    "        if visit[ne]:\n",
    "            continue\n",
    "        if dfs(ne):\n",
    "            f = True\n",
    "    \n",
    "    if f or n in Vks:\n",
    "        ans += 1\n",
    "        return True\n",
    "    return False"
   ]
  },
  {
   "cell_type": "code",
   "execution_count": 35,
   "id": "e82b1fe8-cd4e-4a03-ad67-fc613590b529",
   "metadata": {
    "tags": []
   },
   "outputs": [],
   "source": [
    "Vks = set(Vk)\n",
    "ans = 0\n",
    "visit = [False] * (N+1)\n",
    "ret = dfs(Vk[0])"
   ]
  },
  {
   "cell_type": "code",
   "execution_count": 36,
   "id": "3c18e743-7011-43b2-ac25-7bfb05980942",
   "metadata": {
    "tags": []
   },
   "outputs": [
    {
     "name": "stdout",
     "output_type": "stream",
     "text": [
      "4\n"
     ]
    }
   ],
   "source": [
    "print(ans)"
   ]
  },
  {
   "cell_type": "code",
   "execution_count": 8,
   "id": "cd509a6c-6c94-4362-86d8-a949fa6119bf",
   "metadata": {
    "tags": []
   },
   "outputs": [
    {
     "data": {
      "text/plain": [
       "[[], [2, 3], [1, 4, 5], [1, 6, 7], [2], [2], [3], [3]]"
      ]
     },
     "execution_count": 8,
     "metadata": {},
     "output_type": "execute_result"
    }
   ],
   "source": [
    "graph"
   ]
  },
  {
   "cell_type": "code",
   "execution_count": null,
   "id": "84e17c5d-4dfb-4b1f-85eb-e6d23309bd86",
   "metadata": {},
   "outputs": [],
   "source": []
  },
  {
   "cell_type": "code",
   "execution_count": null,
   "id": "1b39f95d-a8c9-440a-9d1d-05154c5ddd8c",
   "metadata": {},
   "outputs": [],
   "source": []
  }
 ],
 "metadata": {
  "kernelspec": {
   "display_name": "Python 3 (ipykernel)",
   "language": "python",
   "name": "python3"
  },
  "language_info": {
   "codemirror_mode": {
    "name": "ipython",
    "version": 3
   },
   "file_extension": ".py",
   "mimetype": "text/x-python",
   "name": "python",
   "nbconvert_exporter": "python",
   "pygments_lexer": "ipython3",
   "version": "3.11.3"
  }
 },
 "nbformat": 4,
 "nbformat_minor": 5
}
