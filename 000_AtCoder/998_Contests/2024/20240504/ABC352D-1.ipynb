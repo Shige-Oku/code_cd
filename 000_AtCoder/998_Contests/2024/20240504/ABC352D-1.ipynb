{
 "cells": [
  {
   "cell_type": "code",
   "execution_count": 38,
   "id": "b866a11e-b041-4f4c-a034-1cd13584442d",
   "metadata": {
    "tags": []
   },
   "outputs": [],
   "source": [
    "import sys\n",
    "import numpy as np\n",
    "import math\n",
    "import collections\n",
    "import copy\n",
    "import decimal\n",
    "import itertools\n",
    "import re\n",
    "import bisect\n",
    "import scipy\n",
    "import heapq\n",
    "from collections import deque \n",
    "from functools import reduce\n",
    "from itertools import product\n",
    "from itertools import combinations\n",
    "from functools import lru_cache\n",
    "from scipy.special import comb\n",
    "from numba import njit\n",
    "from bisect import bisect_right\n",
    "from bisect import bisect_left\n",
    "from atcoder.fenwicktree import FenwickTree\n",
    "from sortedcontainers import SortedSet, SortedKeyList, SortedDict"
   ]
  },
  {
   "cell_type": "code",
   "execution_count": 24,
   "id": "cd8ba0f4-17e1-42c5-b48d-c5b11228facb",
   "metadata": {
    "tags": []
   },
   "outputs": [
    {
     "name": "stdin",
     "output_type": "stream",
     "text": [
      " 10 5\n"
     ]
    }
   ],
   "source": [
    "N, K = map(int, input().split())"
   ]
  },
  {
   "cell_type": "code",
   "execution_count": 25,
   "id": "5c58c04e-6ece-4319-986b-04bffe2bc839",
   "metadata": {
    "tags": []
   },
   "outputs": [
    {
     "name": "stdin",
     "output_type": "stream",
     "text": [
      " 10 1 6 8 7 2 5 9 3 4\n"
     ]
    }
   ],
   "source": [
    "Pn = list(map(int, input().split()))"
   ]
  },
  {
   "cell_type": "code",
   "execution_count": null,
   "id": "394a1c79-76e3-444e-8f9a-8b1eac3a16c3",
   "metadata": {},
   "outputs": [],
   "source": [
    "# コンテスト終了後に実装"
   ]
  },
  {
   "cell_type": "code",
   "execution_count": 26,
   "id": "1f8bfee0-0345-41c6-8faa-4af7b5f76a45",
   "metadata": {
    "tags": []
   },
   "outputs": [],
   "source": [
    "Pn2 = []\n",
    "for i, P in enumerate(Pn):\n",
    "    Pn2.append((P, i))\n",
    "Pn2_s = sorted(Pn2)"
   ]
  },
  {
   "cell_type": "code",
   "execution_count": 27,
   "id": "2709793e-6f31-40cd-bb8a-dfbb429b4574",
   "metadata": {
    "tags": []
   },
   "outputs": [],
   "source": [
    "import heapq\n",
    "mi, ma = 10**20, 0\n",
    "miq, maq = [], []\n",
    "for i in range(K):\n",
    "    v = Pn2_s[i][1]\n",
    "    mi = min(mi, v)\n",
    "    ma = max(ma, v)\n",
    "    heapq.heappush(miq, v)\n",
    "    heapq.heappush(maq, -v)\n",
    "s = i+1"
   ]
  },
  {
   "cell_type": "code",
   "execution_count": 28,
   "id": "ec8185b0-da7e-4e9c-91ce-f1bbc4e2ac80",
   "metadata": {
    "tags": []
   },
   "outputs": [],
   "source": [
    "ans = ma - mi\n",
    "p_di = set()\n",
    "p_da = set()\n",
    "for i in range(s, N):\n",
    "    a = Pn2_s[i][1]\n",
    "    heapq.heappush(miq, a)\n",
    "    heapq.heappush(maq, -a)\n",
    "    \n",
    "    dp = i - K\n",
    "    d = Pn2_s[dp][1]\n",
    "    p_di.add(d)\n",
    "    p_da.add(-d)\n",
    "    \n",
    "    while True:\n",
    "        if miq[0] not in p_di:\n",
    "            break\n",
    "        # print('miq del : {0}', miq[0])\n",
    "        heapq.heappop(miq)\n",
    "    # c = miq[0]\n",
    "    mi = miq[0]\n",
    "\n",
    "    while True:\n",
    "        if maq[0] not in p_da:\n",
    "            break\n",
    "        # print('maq del : {0}', maq[0])\n",
    "        heapq.heappop(maq)\n",
    "    # c = -maq[0]\n",
    "    ma = -maq[0]\n",
    "    ans = min(ans, abs(ma-mi))\n",
    "    # print(ans)\n",
    "    # print(mi, ma)\n",
    "    # print(miq, maq)\n",
    "    # print(p_di, p_da)"
   ]
  },
  {
   "cell_type": "code",
   "execution_count": 29,
   "id": "ec5f7e7b-3178-418a-b46b-3618ef2afb46",
   "metadata": {
    "tags": []
   },
   "outputs": [
    {
     "name": "stdout",
     "output_type": "stream",
     "text": [
      "5\n"
     ]
    }
   ],
   "source": [
    "print(ans)"
   ]
  },
  {
   "cell_type": "code",
   "execution_count": 34,
   "id": "51cbd9a6-9590-45f0-824c-33054f3de3ec",
   "metadata": {
    "tags": []
   },
   "outputs": [],
   "source": [
    "from sortedcontainers import SortedSet\n",
    "di = {}\n",
    "for i, P in enumerate(Pn):\n",
    "    di[P] = i\n",
    "\n",
    "s = SortedSet()\n",
    "for i in range(1, K+1):\n",
    "    s.add(di[i])\n",
    "\n",
    "ans = 10**20\n",
    "ans = s[-1] - s[0]\n",
    "for i in range(K+1, N+1):\n",
    "    d = di[i-K]\n",
    "    s.pop(s.index(d))\n",
    "    s.add(di[i])\n",
    "    ans = min(ans, s[-1] - s[0])"
   ]
  },
  {
   "cell_type": "code",
   "execution_count": 35,
   "id": "325e33cf-6c5b-4286-a826-91d508b938d0",
   "metadata": {
    "tags": []
   },
   "outputs": [
    {
     "name": "stdout",
     "output_type": "stream",
     "text": [
      "5\n"
     ]
    }
   ],
   "source": [
    "print(ans)"
   ]
  },
  {
   "cell_type": "code",
   "execution_count": 10,
   "id": "46156f8b-f64e-4b2a-b70b-f310790131cb",
   "metadata": {
    "tags": []
   },
   "outputs": [
    {
     "data": {
      "text/plain": [
       "(SortedSet([0, 2]), 2)"
      ]
     },
     "execution_count": 10,
     "metadata": {},
     "output_type": "execute_result"
    }
   ],
   "source": [
    "s, ans"
   ]
  },
  {
   "cell_type": "code",
   "execution_count": 41,
   "id": "19a5cd3c-fd75-4fbc-a06b-fb3eb2900917",
   "metadata": {
    "tags": []
   },
   "outputs": [
    {
     "data": {
      "text/plain": [
       "(1, 9, {1, 5, 6, 8, 9})"
      ]
     },
     "execution_count": 41,
     "metadata": {},
     "output_type": "execute_result"
    }
   ],
   "source": [
    "mi, ma, val"
   ]
  },
  {
   "cell_type": "code",
   "execution_count": 19,
   "id": "0f4c41b3-e6ca-464e-8151-82fdb4960899",
   "metadata": {
    "tags": []
   },
   "outputs": [
    {
     "name": "stdout",
     "output_type": "stream",
     "text": [
      "1\n"
     ]
    }
   ],
   "source": [
    "print(ans)"
   ]
  },
  {
   "cell_type": "code",
   "execution_count": 20,
   "id": "cba22852-e36a-4718-bd79-b99566af0e3c",
   "metadata": {
    "tags": []
   },
   "outputs": [
    {
     "data": {
      "text/plain": [
       "[(1, 1),\n",
       " (2, 5),\n",
       " (3, 8),\n",
       " (4, 9),\n",
       " (5, 6),\n",
       " (6, 2),\n",
       " (7, 4),\n",
       " (8, 3),\n",
       " (9, 7),\n",
       " (10, 0)]"
      ]
     },
     "execution_count": 20,
     "metadata": {},
     "output_type": "execute_result"
    }
   ],
   "source": [
    "Pn2_s"
   ]
  },
  {
   "cell_type": "code",
   "execution_count": 90,
   "id": "9be45497-bcf0-49c0-a28f-3aa20e71628a",
   "metadata": {
    "tags": []
   },
   "outputs": [
    {
     "data": {
      "text/plain": [
       "(1, 9)"
      ]
     },
     "execution_count": 90,
     "metadata": {},
     "output_type": "execute_result"
    }
   ],
   "source": [
    "mi, ma"
   ]
  },
  {
   "cell_type": "code",
   "execution_count": 57,
   "id": "19282edb-17c3-447a-9d9b-45e36051413d",
   "metadata": {
    "tags": []
   },
   "outputs": [
    {
     "data": {
      "text/plain": [
       "([1, 5, 8, 9, 6], [-5, -1])"
      ]
     },
     "execution_count": 57,
     "metadata": {},
     "output_type": "execute_result"
    }
   ],
   "source": [
    "miq, maq"
   ]
  },
  {
   "cell_type": "code",
   "execution_count": 56,
   "id": "85510e06-8b81-470a-926a-53c5cb55d71b",
   "metadata": {
    "tags": []
   },
   "outputs": [
    {
     "data": {
      "text/plain": [
       "(5, 9, 5)"
      ]
     },
     "execution_count": 56,
     "metadata": {},
     "output_type": "execute_result"
    }
   ],
   "source": [
    "s, i, dp"
   ]
  },
  {
   "cell_type": "code",
   "execution_count": 74,
   "id": "82e5b91b-d41d-46fe-939e-5531d7bc85f8",
   "metadata": {
    "tags": []
   },
   "outputs": [
    {
     "data": {
      "text/plain": [
       "({1, 5, 6, 8, 9}, {-9, -8, -6, -5, -1})"
      ]
     },
     "execution_count": 74,
     "metadata": {},
     "output_type": "execute_result"
    }
   ],
   "source": [
    "p_di, p_da"
   ]
  },
  {
   "cell_type": "code",
   "execution_count": null,
   "id": "a14c01cc-c3c9-4578-97a6-56d3c2c63ff0",
   "metadata": {},
   "outputs": [],
   "source": []
  }
 ],
 "metadata": {
  "kernelspec": {
   "display_name": "Python 3 (ipykernel)",
   "language": "python",
   "name": "python3"
  },
  "language_info": {
   "codemirror_mode": {
    "name": "ipython",
    "version": 3
   },
   "file_extension": ".py",
   "mimetype": "text/x-python",
   "name": "python",
   "nbconvert_exporter": "python",
   "pygments_lexer": "ipython3",
   "version": "3.11.3"
  }
 },
 "nbformat": 4,
 "nbformat_minor": 5
}
