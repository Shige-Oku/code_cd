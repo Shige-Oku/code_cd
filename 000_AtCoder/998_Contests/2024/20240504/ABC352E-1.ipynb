{
 "cells": [
  {
   "cell_type": "code",
   "execution_count": 41,
   "id": "08efa80f-484a-48ee-9dc5-98cd84295448",
   "metadata": {
    "tags": []
   },
   "outputs": [],
   "source": [
    "import sys\n",
    "import numpy as np\n",
    "import math\n",
    "import collections\n",
    "import copy\n",
    "import decimal\n",
    "import itertools\n",
    "import re\n",
    "import bisect\n",
    "import scipy\n",
    "import heapq\n",
    "from collections import deque \n",
    "from functools import reduce\n",
    "from itertools import product\n",
    "from itertools import combinations\n",
    "from functools import lru_cache\n",
    "from scipy.special import comb\n",
    "from numba import njit\n",
    "from bisect import bisect_right\n",
    "from bisect import bisect_left\n",
    "from atcoder.fenwicktree import FenwickTree\n",
    "from sortedcontainers import SortedSet, SortedKeyList, SortedDict"
   ]
  },
  {
   "cell_type": "code",
   "execution_count": 1,
   "id": "c6d8f787-8fc5-476b-a789-c089d7041a06",
   "metadata": {
    "tags": []
   },
   "outputs": [
    {
     "name": "stdin",
     "output_type": "stream",
     "text": [
      " 4 3\n"
     ]
    }
   ],
   "source": [
    "N, M = map(int, input().split())"
   ]
  },
  {
   "cell_type": "code",
   "execution_count": 2,
   "id": "1e306261-1e46-457d-a1c8-6d1542f339a2",
   "metadata": {
    "tags": []
   },
   "outputs": [
    {
     "name": "stdin",
     "output_type": "stream",
     "text": [
      " 3 3 \n",
      " 1 2 3\n",
      " 2 2\n",
      " 1 2\n",
      " 3 4 \n",
      " 1 3 4\n"
     ]
    }
   ],
   "source": [
    "KCm = []\n",
    "Akm = []\n",
    "for _ in range(M):\n",
    "    K, C = list(map(int, input().split()))\n",
    "    KCm.append((K, C))\n",
    "    Ak = list(map(int, input().split()))\n",
    "    Akm.append(Ak)"
   ]
  },
  {
   "cell_type": "code",
   "execution_count": null,
   "id": "ba3ee8ed-f4fb-42af-95af-55ed10636e9a",
   "metadata": {},
   "outputs": [],
   "source": [
    "# 解説を読んで実装"
   ]
  },
  {
   "cell_type": "code",
   "execution_count": 36,
   "id": "600573b7-b9dd-4e19-bf89-9c7d90857cd6",
   "metadata": {
    "tags": []
   },
   "outputs": [],
   "source": [
    "import heapq\n",
    "q = []\n",
    "for mi in range(M):\n",
    "    _, C = KCm[mi]\n",
    "    Am = Akm[mi]\n",
    "    for A in Am[1:]:\n",
    "        heapq.heappush(q, (C, Am[0], A))"
   ]
  },
  {
   "cell_type": "code",
   "execution_count": 40,
   "id": "74faa4df-f961-453f-84aa-3aafa3109a89",
   "metadata": {
    "tags": []
   },
   "outputs": [],
   "source": [
    "from atcoder.dsu import DSU\n",
    "ans = 0\n",
    "uf = DSU(N+1)\n",
    "while q:\n",
    "    C, A, B = heapq.heappop(q)\n",
    "    if uf.same(A, B):\n",
    "        continue\n",
    "    ans += C\n",
    "    uf.merge(A, B)\n"
   ]
  },
  {
   "cell_type": "code",
   "execution_count": 39,
   "id": "c70752e0-c5e3-40dd-80db-4c537ec4d526",
   "metadata": {
    "tags": []
   },
   "outputs": [
    {
     "name": "stdout",
     "output_type": "stream",
     "text": [
      "9\n"
     ]
    }
   ],
   "source": [
    "if uf.size(1) == N:\n",
    "    print(ans)\n",
    "else:\n",
    "    print(-1)"
   ]
  },
  {
   "cell_type": "code",
   "execution_count": 25,
   "id": "31189f9e-b9fb-4e1f-82c9-3537189c0a22",
   "metadata": {
    "tags": []
   },
   "outputs": [
    {
     "data": {
      "text/plain": [
       "[-1, 4, 2, 3, 4]"
      ]
     },
     "execution_count": 25,
     "metadata": {},
     "output_type": "execute_result"
    }
   ],
   "source": [
    "cost"
   ]
  },
  {
   "cell_type": "code",
   "execution_count": 4,
   "id": "ec543b7d-317a-47cb-92bc-8072e1cb31c5",
   "metadata": {
    "tags": []
   },
   "outputs": [
    {
     "data": {
      "text/plain": [
       "[(3, 3), (2, 2), (3, 4)]"
      ]
     },
     "execution_count": 4,
     "metadata": {},
     "output_type": "execute_result"
    }
   ],
   "source": [
    "KCm"
   ]
  },
  {
   "cell_type": "code",
   "execution_count": 5,
   "id": "ccfde730-e7bc-40c1-9a74-1f901d5c2dfa",
   "metadata": {
    "tags": []
   },
   "outputs": [
    {
     "data": {
      "text/plain": [
       "[[1, 2, 3], [1, 2], [1, 3, 4]]"
      ]
     },
     "execution_count": 5,
     "metadata": {},
     "output_type": "execute_result"
    }
   ],
   "source": [
    "Akm"
   ]
  },
  {
   "cell_type": "code",
   "execution_count": 5,
   "id": "a03927bb-2c52-435e-8a31-623f3c0fef7c",
   "metadata": {},
   "outputs": [
    {
     "data": {
      "text/plain": [
       "1"
      ]
     },
     "execution_count": 5,
     "metadata": {},
     "output_type": "execute_result"
    }
   ],
   "source": [
    "uf.merge(1, 1)"
   ]
  },
  {
   "cell_type": "code",
   "execution_count": 17,
   "id": "28e77992-85fd-4987-a7a9-3ede6937802e",
   "metadata": {
    "tags": []
   },
   "outputs": [
    {
     "data": {
      "text/plain": [
       "[(2, 1, 2), (3, 1, 3), (3, 1, 2), (4, 1, 3), (4, 1, 4)]"
      ]
     },
     "execution_count": 17,
     "metadata": {},
     "output_type": "execute_result"
    }
   ],
   "source": [
    "q"
   ]
  },
  {
   "cell_type": "code",
   "execution_count": 27,
   "id": "3b251644-7c5c-4712-9ad1-85befd34d6ab",
   "metadata": {
    "tags": []
   },
   "outputs": [
    {
     "data": {
      "text/plain": [
       "(True, 4)"
      ]
     },
     "execution_count": 27,
     "metadata": {},
     "output_type": "execute_result"
    }
   ],
   "source": [
    "uf.same(1, 2), uf.size(1)"
   ]
  },
  {
   "cell_type": "code",
   "execution_count": 31,
   "id": "a97c17d6-6821-4649-83c6-f754df814dee",
   "metadata": {
    "tags": []
   },
   "outputs": [
    {
     "data": {
      "text/plain": [
       "7901231175"
      ]
     },
     "execution_count": 31,
     "metadata": {},
     "output_type": "execute_result"
    }
   ],
   "source": [
    "877914575 * 9"
   ]
  },
  {
   "cell_type": "code",
   "execution_count": 35,
   "id": "240dd892-15f0-4c0e-b6a2-2d4e529b5b33",
   "metadata": {
    "tags": []
   },
   "outputs": [
    {
     "data": {
      "text/plain": [
       "24979446"
      ]
     },
     "execution_count": 35,
     "metadata": {},
     "output_type": "execute_result"
    }
   ],
   "source": [
    "1202115217 - 1177135771"
   ]
  },
  {
   "cell_type": "code",
   "execution_count": null,
   "id": "c02ae595-ada6-4a94-b69d-ec36b68889b5",
   "metadata": {},
   "outputs": [],
   "source": []
  }
 ],
 "metadata": {
  "kernelspec": {
   "display_name": "Python 3 (ipykernel)",
   "language": "python",
   "name": "python3"
  },
  "language_info": {
   "codemirror_mode": {
    "name": "ipython",
    "version": 3
   },
   "file_extension": ".py",
   "mimetype": "text/x-python",
   "name": "python",
   "nbconvert_exporter": "python",
   "pygments_lexer": "ipython3",
   "version": "3.11.3"
  }
 },
 "nbformat": 4,
 "nbformat_minor": 5
}
