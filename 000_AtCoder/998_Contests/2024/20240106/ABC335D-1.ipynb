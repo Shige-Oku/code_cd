{
 "cells": [
  {
   "cell_type": "code",
   "execution_count": 1,
   "id": "f1732a8a-88f5-45c7-83d0-a96435936529",
   "metadata": {
    "tags": []
   },
   "outputs": [],
   "source": [
    "import sys\n",
    "import numpy as np\n",
    "import math\n",
    "import collections\n",
    "import copy\n",
    "import decimal\n",
    "import itertools\n",
    "import re\n",
    "import bisect\n",
    "import scipy\n",
    "import heapq\n",
    "from collections import deque \n",
    "from functools import reduce\n",
    "from itertools import product\n",
    "from itertools import combinations\n",
    "from functools import lru_cache\n",
    "from scipy.special import comb\n",
    "from numba import njit\n",
    "from bisect import bisect_right\n",
    "from bisect import bisect_left"
   ]
  },
  {
   "cell_type": "code",
   "execution_count": 2,
   "id": "920199be-2f83-4c03-9dbd-62c4776461e7",
   "metadata": {
    "tags": []
   },
   "outputs": [
    {
     "name": "stdin",
     "output_type": "stream",
     "text": [
      " 5\n"
     ]
    }
   ],
   "source": [
    "N = int(input())"
   ]
  },
  {
   "cell_type": "code",
   "execution_count": 59,
   "id": "5e9e27a9-c3e3-4aaa-983c-e3c1636a29c4",
   "metadata": {
    "tags": []
   },
   "outputs": [],
   "source": [
    "ans = [[-1] * N for _ in range(N)]\n",
    "ans[int((N+1)//2-1)][int((N+1)//2-1)] = 'T'"
   ]
  },
  {
   "cell_type": "code",
   "execution_count": 60,
   "id": "6e98489d-ee15-412a-8c06-fb922ae32370",
   "metadata": {
    "tags": []
   },
   "outputs": [],
   "source": [
    "from collections import deque\n",
    "def solve():\n",
    "    q = deque()\n",
    "    q.append((0, 0, 0))\n",
    "    p = 1\n",
    "    while q:\n",
    "        x, y, z = q.popleft()\n",
    "        ans[y][x] = p\n",
    "        if ans[y][x] == 'T':\n",
    "            return\n",
    "        if z == 0:\n",
    "            if x + 1 < N:\n",
    "                if ans[y][x+1] == -1:\n",
    "                    q.append((x+1, y, z))\n",
    "                else:\n",
    "                    q.append((x, y+1, 1))\n",
    "            else:\n",
    "                q.append((x, y+1, 1))\n",
    "        elif z == 1:\n",
    "            if y + 1 < N:\n",
    "                if ans[y+1][x] == -1:\n",
    "                    q.append((x, y+1, z))\n",
    "                else:\n",
    "                    q.append((x-1, y, 2))\n",
    "            else:\n",
    "                q.append((x-1, y, 2))\n",
    "        elif z == 2:\n",
    "            if x - 1 >= 0:\n",
    "                if ans[y][x-1] == -1:\n",
    "                    q.append((x-1, y, z))\n",
    "                else:\n",
    "                    q.append((x, y-1, 3))\n",
    "            else:\n",
    "                q.append((x, y-1, 3))\n",
    "        else:\n",
    "            if y - 1 >= 0:\n",
    "                if ans[y-1][x] == -1:\n",
    "                    q.append((x, y-1, z))\n",
    "                else:\n",
    "                    q.append((x+1, y, 0))\n",
    "            else:\n",
    "                q.append((x+1, y, 0))\n",
    "        p += 1\n",
    "        if p >= N**2:\n",
    "            break\n",
    "    return"
   ]
  },
  {
   "cell_type": "code",
   "execution_count": 61,
   "id": "41870222-7928-4478-811d-be0d7ac2085b",
   "metadata": {
    "tags": []
   },
   "outputs": [
    {
     "name": "stdout",
     "output_type": "stream",
     "text": [
      "1 2 3 4 5\n",
      "16 17 18 19 6\n",
      "15 24 T 20 7\n",
      "14 23 22 21 8\n",
      "13 12 11 10 9\n"
     ]
    }
   ],
   "source": [
    "solve()\n",
    "for a in ans:\n",
    "    print(*a)"
   ]
  },
  {
   "cell_type": "code",
   "execution_count": 58,
   "id": "8f28747c-a527-439a-834a-f4ee191fe2ae",
   "metadata": {
    "tags": []
   },
   "outputs": [
    {
     "data": {
      "text/plain": [
       "[[1, 2, 3, 4, 5],\n",
       " [16, 17, 18, 19, 6],\n",
       " [15, 24, 'T', 20, 7],\n",
       " [14, 23, 22, 21, 8],\n",
       " [13, 12, 11, 10, 9]]"
      ]
     },
     "execution_count": 58,
     "metadata": {},
     "output_type": "execute_result"
    }
   ],
   "source": [
    "ans"
   ]
  },
  {
   "cell_type": "code",
   "execution_count": 7,
   "id": "ca454fd6-973b-49b8-8828-ae1343081ef5",
   "metadata": {
    "tags": []
   },
   "outputs": [
    {
     "data": {
      "text/plain": [
       "5"
      ]
     },
     "execution_count": 7,
     "metadata": {},
     "output_type": "execute_result"
    }
   ],
   "source": [
    "int((2*N+1)//2)"
   ]
  },
  {
   "cell_type": "code",
   "execution_count": null,
   "id": "e1f301e1-9064-4790-b263-7f8fa43b0f8e",
   "metadata": {},
   "outputs": [],
   "source": []
  }
 ],
 "metadata": {
  "kernelspec": {
   "display_name": "Python 3 (ipykernel)",
   "language": "python",
   "name": "python3"
  },
  "language_info": {
   "codemirror_mode": {
    "name": "ipython",
    "version": 3
   },
   "file_extension": ".py",
   "mimetype": "text/x-python",
   "name": "python",
   "nbconvert_exporter": "python",
   "pygments_lexer": "ipython3",
   "version": "3.11.3"
  }
 },
 "nbformat": 4,
 "nbformat_minor": 5
}
