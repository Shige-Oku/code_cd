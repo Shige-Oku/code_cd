{
 "cells": [
  {
   "cell_type": "code",
   "execution_count": 2,
   "id": "64925ed1-366a-4a6e-9c70-efb64e5adcbd",
   "metadata": {
    "tags": []
   },
   "outputs": [],
   "source": [
    "import sys\n",
    "import numpy as np\n",
    "import math\n",
    "import collections\n",
    "import copy\n",
    "import decimal\n",
    "import itertools\n",
    "import re\n",
    "import bisect\n",
    "import scipy\n",
    "import heapq\n",
    "from collections import deque \n",
    "from functools import reduce\n",
    "from itertools import product\n",
    "from itertools import combinations\n",
    "from functools import lru_cache\n",
    "from scipy.special import comb\n",
    "from numba import njit\n",
    "from bisect import bisect_right\n",
    "from bisect import bisect_left"
   ]
  },
  {
   "cell_type": "code",
   "execution_count": 28,
   "id": "021c6a81-6d74-4ce3-a455-16a8bbcf6e43",
   "metadata": {
    "tags": []
   },
   "outputs": [
    {
     "name": "stdin",
     "output_type": "stream",
     "text": [
      " 10 12\n"
     ]
    }
   ],
   "source": [
    "N, M = map(int, input().split())"
   ]
  },
  {
   "cell_type": "code",
   "execution_count": 29,
   "id": "1e2ce713-18dc-4f19-989b-e15f69240e1a",
   "metadata": {
    "tags": []
   },
   "outputs": [
    {
     "name": "stdin",
     "output_type": "stream",
     "text": [
      " 1 2 3 3 4 4 4 6 5 7\n"
     ]
    }
   ],
   "source": [
    "An = list(map(int, input().split()))"
   ]
  },
  {
   "cell_type": "code",
   "execution_count": 4,
   "id": "34dd7654-8e7b-405e-921b-4a97fa255107",
   "metadata": {
    "tags": []
   },
   "outputs": [
    {
     "name": "stdin",
     "output_type": "stream",
     "text": [
      " 1 2\n",
      " 1 3\n",
      " 2 5\n",
      " 3 4\n",
      " 3 5\n",
      " 4 5\n"
     ]
    }
   ],
   "source": [
    "UVm = [list(map(int, input().split())) for _ in range(M)]"
   ]
  },
  {
   "cell_type": "code",
   "execution_count": 81,
   "id": "bc86fe50-0db6-479b-843f-d74065e48349",
   "metadata": {
    "tags": []
   },
   "outputs": [],
   "source": [
    "UVm = [\n",
    "[1, 3],\n",
    "[2, 9],\n",
    "[3, 4],\n",
    "[5, 6],\n",
    "[1, 2],\n",
    "[8, 9],\n",
    "[4, 5],\n",
    "[8, 10],\n",
    "[7, 10],\n",
    "[4, 6],\n",
    "[2, 8],\n",
    "[6, 7],\n",
    "    \n",
    "]"
   ]
  },
  {
   "cell_type": "code",
   "execution_count": 83,
   "id": "4837218e-d10a-41f1-9bd8-942b42729012",
   "metadata": {
    "tags": []
   },
   "outputs": [
    {
     "name": "stdout",
     "output_type": "stream",
     "text": [
      "1 3\n",
      "2 9\n",
      "3 4\n",
      "5 6\n",
      "1 2\n",
      "8 9\n",
      "4 5\n",
      "8 10\n",
      "7 10\n",
      "4 6\n",
      "2 8\n",
      "6 7\n"
     ]
    }
   ],
   "source": [
    "graph = [[] for _ in range(N+1)]\n",
    "for U, V in UVm:\n",
    "    print(U, V)\n",
    "    if An[U-1] <= An[V-1]:\n",
    "        graph[U].append(V)\n",
    "    if An[V-1] <= An[U-1]:\n",
    "        graph[V].append(U)"
   ]
  },
  {
   "cell_type": "code",
   "execution_count": 91,
   "id": "d277e4ae-7fec-4c0a-a548-5522edf963a1",
   "metadata": {
    "tags": []
   },
   "outputs": [],
   "source": [
    "def add(q, p, n):\n",
    "    if An[p-1] == An[n-1]:\n",
    "        ma = dis[p]\n",
    "    else:\n",
    "        ma = dis[p] + 1\n",
    "    if ma < dis[n]:\n",
    "        return\n",
    "    heapq.heappush(q, [ma, n])\n",
    "    dis[n] = ma\n",
    "    return "
   ]
  },
  {
   "cell_type": "code",
   "execution_count": 97,
   "id": "b5f2feb0-911e-425b-9754-8fe3afcadc8c",
   "metadata": {
    "tags": []
   },
   "outputs": [],
   "source": [
    "import heapq\n",
    "def solve():\n",
    "    q = []\n",
    "    heapq.heappush(q, [1, 1])\n",
    "    while q:\n",
    "        d, p = heapq.heappop(q)\n",
    "        if d < dis[p]:\n",
    "            continue\n",
    "        # print(d, p)\n",
    "        dis[p] = d\n",
    "        for ne in graph[p]:\n",
    "            if An[ne-1] < An[p-1]:\n",
    "                continue\n",
    "            if dis[ne] == -1 or dis[p] <= dis[ne]:\n",
    "                add(q, p, ne)\n",
    "    return "
   ]
  },
  {
   "cell_type": "code",
   "execution_count": 98,
   "id": "e7741a8a-5132-4afa-85c0-96d96eec857c",
   "metadata": {
    "tags": []
   },
   "outputs": [
    {
     "name": "stdout",
     "output_type": "stream",
     "text": [
      "Unexpected exception formatting exception. Falling back to standard exception\n"
     ]
    },
    {
     "name": "stderr",
     "output_type": "stream",
     "text": [
      "Traceback (most recent call last):\n",
      "  File \"C:\\Users\\owner\\Anaconda3\\Lib\\site-packages\\IPython\\core\\interactiveshell.py\", line 3505, in run_code\n",
      "    exec(code_obj, self.user_global_ns, self.user_ns)\n",
      "  File \"C:\\Users\\owner\\AppData\\Local\\Temp\\ipykernel_20148\\2281890875.py\", line 3, in <module>\n",
      "    solve()\n",
      "  File \"C:\\Users\\owner\\AppData\\Local\\Temp\\ipykernel_20148\\2009933804.py\", line -1, in solve\n",
      "KeyboardInterrupt\n",
      "\n",
      "During handling of the above exception, another exception occurred:\n",
      "\n",
      "Traceback (most recent call last):\n",
      "  File \"C:\\Users\\owner\\Anaconda3\\Lib\\site-packages\\IPython\\core\\interactiveshell.py\", line 2102, in showtraceback\n",
      "    stb = self.InteractiveTB.structured_traceback(\n",
      "          ^^^^^^^^^^^^^^^^^^^^^^^^^^^^^^^^^^^^^^^^\n",
      "  File \"C:\\Users\\owner\\Anaconda3\\Lib\\site-packages\\IPython\\core\\ultratb.py\", line 1310, in structured_traceback\n",
      "    return FormattedTB.structured_traceback(\n",
      "           ^^^^^^^^^^^^^^^^^^^^^^^^^^^^^^^^^\n",
      "  File \"C:\\Users\\owner\\Anaconda3\\Lib\\site-packages\\IPython\\core\\ultratb.py\", line 1199, in structured_traceback\n",
      "    return VerboseTB.structured_traceback(\n",
      "           ^^^^^^^^^^^^^^^^^^^^^^^^^^^^^^^\n",
      "  File \"C:\\Users\\owner\\Anaconda3\\Lib\\site-packages\\IPython\\core\\ultratb.py\", line 1052, in structured_traceback\n",
      "    formatted_exception = self.format_exception_as_a_whole(etype, evalue, etb, number_of_lines_of_context,\n",
      "                          ^^^^^^^^^^^^^^^^^^^^^^^^^^^^^^^^^^^^^^^^^^^^^^^^^^^^^^^^^^^^^^^^^^^^^^^^^^^^^^^^\n",
      "  File \"C:\\Users\\owner\\Anaconda3\\Lib\\site-packages\\IPython\\core\\ultratb.py\", line 978, in format_exception_as_a_whole\n",
      "    frames.append(self.format_record(record))\n",
      "                  ^^^^^^^^^^^^^^^^^^^^^^^^^^\n",
      "  File \"C:\\Users\\owner\\Anaconda3\\Lib\\site-packages\\IPython\\core\\ultratb.py\", line 878, in format_record\n",
      "    frame_info.lines, Colors, self.has_colors, lvals\n",
      "    ^^^^^^^^^^^^^^^^\n",
      "  File \"C:\\Users\\owner\\Anaconda3\\Lib\\site-packages\\IPython\\core\\ultratb.py\", line 712, in lines\n",
      "    return self._sd.lines\n",
      "           ^^^^^^^^^^^^^^\n",
      "  File \"C:\\Users\\owner\\Anaconda3\\Lib\\site-packages\\stack_data\\utils.py\", line 145, in cached_property_wrapper\n",
      "    value = obj.__dict__[self.func.__name__] = self.func(obj)\n",
      "                                               ^^^^^^^^^^^^^^\n",
      "  File \"C:\\Users\\owner\\Anaconda3\\Lib\\site-packages\\stack_data\\core.py\", line 698, in lines\n",
      "    pieces = self.included_pieces\n",
      "             ^^^^^^^^^^^^^^^^^^^^\n",
      "  File \"C:\\Users\\owner\\Anaconda3\\Lib\\site-packages\\stack_data\\utils.py\", line 145, in cached_property_wrapper\n",
      "    value = obj.__dict__[self.func.__name__] = self.func(obj)\n",
      "                                               ^^^^^^^^^^^^^^\n",
      "  File \"C:\\Users\\owner\\Anaconda3\\Lib\\site-packages\\stack_data\\core.py\", line 649, in included_pieces\n",
      "    pos = scope_pieces.index(self.executing_piece)\n",
      "                             ^^^^^^^^^^^^^^^^^^^^\n",
      "  File \"C:\\Users\\owner\\Anaconda3\\Lib\\site-packages\\stack_data\\utils.py\", line 145, in cached_property_wrapper\n",
      "    value = obj.__dict__[self.func.__name__] = self.func(obj)\n",
      "                                               ^^^^^^^^^^^^^^\n",
      "  File \"C:\\Users\\owner\\Anaconda3\\Lib\\site-packages\\stack_data\\core.py\", line 628, in executing_piece\n",
      "    return only(\n",
      "           ^^^^^\n",
      "  File \"C:\\Users\\owner\\Anaconda3\\Lib\\site-packages\\executing\\executing.py\", line 164, in only\n",
      "    raise NotOneValueFound('Expected one value, found 0')\n",
      "executing.executing.NotOneValueFound: Expected one value, found 0\n"
     ]
    }
   ],
   "source": [
    "dis = [-1] * (N+1)\n",
    "visit = [False] * (N+1)\n",
    "solve()\n",
    "print(max(0, dis[N]))"
   ]
  },
  {
   "cell_type": "code",
   "execution_count": 72,
   "id": "987234a7-4770-4860-8878-2d239e38bf8d",
   "metadata": {
    "tags": []
   },
   "outputs": [
    {
     "data": {
      "text/plain": [
       "([-1, 1, 2, 2, 2, 3, 3, 3, 4, 3, 4],\n",
       " [False, False, False, False, False, False, False, False, False, False, False])"
      ]
     },
     "execution_count": 72,
     "metadata": {},
     "output_type": "execute_result"
    }
   ],
   "source": [
    "dis, visit"
   ]
  },
  {
   "cell_type": "code",
   "execution_count": 79,
   "id": "65d1cdbe-dac2-426d-b884-f7771bc901fb",
   "metadata": {
    "tags": []
   },
   "outputs": [
    {
     "data": {
      "text/plain": [
       "[[], [3, 2], [9, 8], [4], [3, 5, 6], [6], [5, 7], [10, 6], [10], [8], []]"
      ]
     },
     "execution_count": 79,
     "metadata": {},
     "output_type": "execute_result"
    }
   ],
   "source": [
    "graph"
   ]
  },
  {
   "cell_type": "code",
   "execution_count": 87,
   "id": "b9e89b2c-b6b7-41a5-90bf-38eb3c5847e3",
   "metadata": {
    "tags": []
   },
   "outputs": [],
   "source": [
    "import heapq\n",
    "def solve():\n",
    "    q = []\n",
    "    heapq.heappush(q, [-1, 1, -1])\n",
    "    s = set((1, -1, -1))\n",
    "    while q:\n",
    "        d, p, f = heapq.heappop(q)\n",
    "        if (p, f, dis[f]) in s:\n",
    "            continue\n",
    "        print(d, p, f)\n",
    "        if -d > dis[p]:\n",
    "            dis[p] = -d\n",
    "        s.add((p, f, dis[f]))\n",
    "        for ne in graph[p]:\n",
    "            if An[ne-1] < An[p-1]:\n",
    "                continue\n",
    "            if dis[ne] == -1 or dis[p] <= dis[ne]:\n",
    "                add(q, p, ne)\n",
    "    return "
   ]
  },
  {
   "cell_type": "code",
   "execution_count": 5,
   "id": "b1346f87-f8fd-4d13-9379-91dad75c2059",
   "metadata": {
    "tags": []
   },
   "outputs": [],
   "source": [
    "graph = [[] for _ in range(N+1)]\n",
    "for U, V in UMm:\n",
    "    graph[U].append(V)\n",
    "    graph[V].append(U)"
   ]
  },
  {
   "cell_type": "code",
   "execution_count": 28,
   "id": "39ae5e9a-c1af-4b00-8c3c-77417bcaca90",
   "metadata": {
    "tags": []
   },
   "outputs": [],
   "source": [
    "from collections import deque\n",
    "def bfs():\n",
    "    q = deque()\n",
    "    q.append(1)\n",
    "    dist[1] = 0\n",
    "    while q:\n",
    "        p = q.popleft()\n",
    "        for ne in graph[p]:\n",
    "            if An[ne-1] >= An[p-1]:\n",
    "                if dist[ne] == -1:\n",
    "                    q.append(ne)\n",
    "                    dist[ne] = dist[p] + 1\n",
    "                    continue\n",
    "                if dist[p] + 1 > dist[ne]:\n",
    "                    q.append(ne)\n",
    "                    dist[ne] = dist[p] + 1\n",
    "                    continue\n",
    "                    \n",
    "    return "
   ]
  },
  {
   "cell_type": "code",
   "execution_count": 29,
   "id": "30da123d-3c38-4d29-a158-d51799f779cd",
   "metadata": {
    "tags": []
   },
   "outputs": [
    {
     "name": "stdout",
     "output_type": "stream",
     "text": [
      "4\n"
     ]
    }
   ],
   "source": [
    "dist = [-1] * (N+1)\n",
    "bfs()\n",
    "print(dist[N]+1)"
   ]
  },
  {
   "cell_type": "code",
   "execution_count": 30,
   "id": "c0e7daf0-b4c7-4b6d-80e6-cb5898f16569",
   "metadata": {
    "tags": []
   },
   "outputs": [
    {
     "data": {
      "text/plain": [
       "[[], [2, 3], [5], [4, 5], [5], []]"
      ]
     },
     "execution_count": 30,
     "metadata": {},
     "output_type": "execute_result"
    }
   ],
   "source": [
    "graph"
   ]
  },
  {
   "cell_type": "code",
   "execution_count": 20,
   "id": "cdcad86b-4d20-4cc5-acd2-6aa8c1bd92ad",
   "metadata": {
    "tags": []
   },
   "outputs": [
    {
     "data": {
      "text/plain": [
       "[-1, 0, 1, 1, 2, 3]"
      ]
     },
     "execution_count": 20,
     "metadata": {},
     "output_type": "execute_result"
    }
   ],
   "source": [
    "dist"
   ]
  },
  {
   "cell_type": "code",
   "execution_count": null,
   "id": "779c30d0-ce97-4b08-ab3f-8e33fcd9838e",
   "metadata": {},
   "outputs": [],
   "source": []
  }
 ],
 "metadata": {
  "kernelspec": {
   "display_name": "Python 3 (ipykernel)",
   "language": "python",
   "name": "python3"
  },
  "language_info": {
   "codemirror_mode": {
    "name": "ipython",
    "version": 3
   },
   "file_extension": ".py",
   "mimetype": "text/x-python",
   "name": "python",
   "nbconvert_exporter": "python",
   "pygments_lexer": "ipython3",
   "version": "3.11.3"
  }
 },
 "nbformat": 4,
 "nbformat_minor": 5
}
