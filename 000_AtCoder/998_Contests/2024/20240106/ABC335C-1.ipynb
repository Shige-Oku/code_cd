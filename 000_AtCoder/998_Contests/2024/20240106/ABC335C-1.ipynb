{
 "cells": [
  {
   "cell_type": "code",
   "execution_count": 1,
   "id": "cf44f412-9cfd-4b23-9565-137b213e337d",
   "metadata": {
    "tags": []
   },
   "outputs": [],
   "source": [
    "import sys\n",
    "import numpy as np\n",
    "import math\n",
    "import collections\n",
    "import copy\n",
    "import decimal\n",
    "import itertools\n",
    "import re\n",
    "import bisect\n",
    "import scipy\n",
    "import heapq\n",
    "from collections import deque \n",
    "from functools import reduce\n",
    "from itertools import product\n",
    "from itertools import combinations\n",
    "from functools import lru_cache\n",
    "from scipy.special import comb\n",
    "from numba import njit\n",
    "from bisect import bisect_right\n",
    "from bisect import bisect_left"
   ]
  },
  {
   "cell_type": "code",
   "execution_count": 18,
   "id": "b29aff39-e190-4508-865a-247478db218c",
   "metadata": {
    "tags": []
   },
   "outputs": [
    {
     "name": "stdin",
     "output_type": "stream",
     "text": [
      " 5 12\n"
     ]
    }
   ],
   "source": [
    "N, Q = map(int, input().split())"
   ]
  },
  {
   "cell_type": "code",
   "execution_count": 19,
   "id": "c6bbd0e0-6ccd-4311-b37b-535616b90e67",
   "metadata": {
    "tags": []
   },
   "outputs": [
    {
     "name": "stdin",
     "output_type": "stream",
     "text": [
      " 2 3\n",
      " 1 U\n",
      " 2 3\n",
      " 1 R\n",
      " 1 D\n",
      " 2 3\n",
      " 1 L\n",
      " 2 1\n",
      " 2 5\n",
      " 2 2\n",
      " 2 3\n",
      " 2 4\n"
     ]
    }
   ],
   "source": [
    "Qq = [list(input().split()) for _ in range(Q)]"
   ]
  },
  {
   "cell_type": "code",
   "execution_count": 21,
   "id": "e99b4704-e88a-4b62-aa33-9eb68817fb26",
   "metadata": {
    "tags": []
   },
   "outputs": [],
   "source": [
    "ko = []\n",
    "for i in range(N, 0, -1):\n",
    "    ko.append((i, 0))"
   ]
  },
  {
   "cell_type": "code",
   "execution_count": 26,
   "id": "a0a11e9d-c53f-4d25-a30c-e6257d244b30",
   "metadata": {
    "tags": []
   },
   "outputs": [
    {
     "name": "stdout",
     "output_type": "stream",
     "text": [
      "2 1\n",
      "1 1\n",
      "1 1\n",
      "1 0\n",
      "1 0\n",
      "2 0\n",
      "2 1\n",
      "1 1\n"
     ]
    }
   ],
   "source": [
    "h = [1, 0]\n",
    "for Q in Qq:\n",
    "    q1, q2 = Q\n",
    "    if q1 == '1':\n",
    "        if q2 == 'L':\n",
    "            h[0] -= 1\n",
    "            ko.append((h[0], h[1]))\n",
    "        elif q2 == 'R':\n",
    "            h[0] += 1\n",
    "            ko.append((h[0], h[1]))\n",
    "        elif q2 == 'U':\n",
    "            h[1] += 1\n",
    "            ko.append((h[0], h[1]))\n",
    "        else:\n",
    "            h[1] -= 1\n",
    "            ko.append((h[0], h[1]))\n",
    "        # print(h)\n",
    "    else:\n",
    "        px, py = ko[-int(q2)]\n",
    "        print(px, py)\n",
    "            "
   ]
  },
  {
   "cell_type": "code",
   "execution_count": 23,
   "id": "eaa6bc1d-83e8-4f28-aa23-a3b7a42b1f1b",
   "metadata": {
    "tags": []
   },
   "outputs": [
    {
     "data": {
      "text/plain": [
       "[(5, 0), (4, 0), (3, 0), (2, 0), (1, 0), [1, 0], [1, 0], [1, 0], [1, 0]]"
      ]
     },
     "execution_count": 23,
     "metadata": {},
     "output_type": "execute_result"
    }
   ],
   "source": [
    "ko"
   ]
  },
  {
   "cell_type": "code",
   "execution_count": null,
   "id": "0a72ba0e-1ded-4941-b3d6-85e7a582a9c5",
   "metadata": {},
   "outputs": [],
   "source": []
  }
 ],
 "metadata": {
  "kernelspec": {
   "display_name": "Python 3 (ipykernel)",
   "language": "python",
   "name": "python3"
  },
  "language_info": {
   "codemirror_mode": {
    "name": "ipython",
    "version": 3
   },
   "file_extension": ".py",
   "mimetype": "text/x-python",
   "name": "python",
   "nbconvert_exporter": "python",
   "pygments_lexer": "ipython3",
   "version": "3.11.3"
  }
 },
 "nbformat": 4,
 "nbformat_minor": 5
}
