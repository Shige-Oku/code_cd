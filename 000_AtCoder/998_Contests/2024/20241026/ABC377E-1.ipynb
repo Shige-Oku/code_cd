{
 "cells": [
  {
   "cell_type": "code",
   "execution_count": 1,
   "id": "1595afd1-2d2d-4e0d-907f-15868c27dd66",
   "metadata": {
    "tags": []
   },
   "outputs": [],
   "source": [
    "import sys\n",
    "import numpy as np\n",
    "import math\n",
    "import collections\n",
    "import copy\n",
    "import decimal\n",
    "import itertools\n",
    "import re\n",
    "import bisect\n",
    "import scipy\n",
    "import heapq\n",
    "from collections import deque \n",
    "from functools import reduce\n",
    "from itertools import product\n",
    "from itertools import combinations\n",
    "from functools import lru_cache\n",
    "from scipy.special import comb\n",
    "from numba import njit\n",
    "from bisect import bisect_right\n",
    "from bisect import bisect_left\n",
    "from atcoder.fenwicktree import FenwickTree\n",
    "from sortedcontainers import SortedSet, SortedList, SortedDict"
   ]
  },
  {
   "cell_type": "code",
   "execution_count": 2,
   "id": "dbd99645-0e16-46b7-99b1-105e8b5bcaef",
   "metadata": {
    "tags": []
   },
   "outputs": [
    {
     "name": "stdin",
     "output_type": "stream",
     "text": [
      " 6 3\n"
     ]
    }
   ],
   "source": [
    "N, K = map(int, input().split())"
   ]
  },
  {
   "cell_type": "code",
   "execution_count": 3,
   "id": "116f1872-7418-4332-b4bd-ee69aa264e9f",
   "metadata": {
    "tags": []
   },
   "outputs": [
    {
     "name": "stdin",
     "output_type": "stream",
     "text": [
      " 5 6 3 1 2 4\n"
     ]
    }
   ],
   "source": [
    "Pn = list(map(int, input().split()))"
   ]
  },
  {
   "cell_type": "code",
   "execution_count": 11,
   "id": "c55796ee-8ede-41a8-8790-cb65d6383a65",
   "metadata": {
    "tags": []
   },
   "outputs": [],
   "source": [
    "dp = [[0] * (N+1) for _ in range(65)]\n",
    "for i, P in enumerate(Pn, 1):\n",
    "    dp[0][i] = P"
   ]
  },
  {
   "cell_type": "code",
   "execution_count": 12,
   "id": "83375d5d-c751-4d97-ba32-1d2f55946b2e",
   "metadata": {
    "tags": []
   },
   "outputs": [],
   "source": [
    "for d in range(1, 65):\n",
    "    for i in range(1, N+1):\n",
    "        dp[d][i] = dp[d-1][dp[d-1][i]]"
   ]
  },
  {
   "cell_type": "code",
   "execution_count": 25,
   "id": "6d78edb9-054e-4bea-a34b-d3de634651a7",
   "metadata": {
    "tags": []
   },
   "outputs": [],
   "source": [
    "def solve(n):\n",
    "    ret = 0\n",
    "    B = '{:64b}'.format(K)\n",
    "    i = 63\n",
    "    for b in B:\n",
    "        if b == '1':\n",
    "            cur = dp[i][n]\n",
    "        i -= 1\n",
    "    return cur"
   ]
  },
  {
   "cell_type": "code",
   "execution_count": 15,
   "id": "579933b1-adba-48cc-b002-5bfe827b253c",
   "metadata": {
    "tags": []
   },
   "outputs": [],
   "source": [
    "ans = []\n",
    "for P in Pn:\n",
    "    ans.append(solve(P))"
   ]
  },
  {
   "cell_type": "code",
   "execution_count": 16,
   "id": "79f1f471-b9da-4d34-b7b9-9fdd56527323",
   "metadata": {
    "tags": []
   },
   "outputs": [
    {
     "data": {
      "text/plain": [
       "[0, 0, 0, 0, 0, 0]"
      ]
     },
     "execution_count": 16,
     "metadata": {},
     "output_type": "execute_result"
    }
   ],
   "source": [
    "ans"
   ]
  },
  {
   "cell_type": "code",
   "execution_count": 26,
   "id": "3169a091-820e-4c85-84c4-7bc31460827f",
   "metadata": {
    "tags": []
   },
   "outputs": [
    {
     "data": {
      "text/plain": [
       "2"
      ]
     },
     "execution_count": 26,
     "metadata": {},
     "output_type": "execute_result"
    }
   ],
   "source": [
    "solve(5)"
   ]
  },
  {
   "cell_type": "code",
   "execution_count": 20,
   "id": "427afdb6-4db1-4d3e-b72e-aaa4064c8215",
   "metadata": {
    "tags": []
   },
   "outputs": [
    {
     "data": {
      "text/plain": [
       "'00000101'"
      ]
     },
     "execution_count": 20,
     "metadata": {},
     "output_type": "execute_result"
    }
   ],
   "source": [
    "'{:08b}'.format(5)"
   ]
  },
  {
   "cell_type": "code",
   "execution_count": 7,
   "id": "c023a7e2-cdae-44c1-bf35-1b883f5c8fc4",
   "metadata": {
    "tags": []
   },
   "outputs": [
    {
     "data": {
      "text/plain": [
       "29.897352853986263"
      ]
     },
     "execution_count": 7,
     "metadata": {},
     "output_type": "execute_result"
    }
   ],
   "source": [
    "import math\n",
    "math.log2(10**18)\n",
    "math.log2(10**9)\n"
   ]
  },
  {
   "cell_type": "code",
   "execution_count": 13,
   "id": "22c728fa-d6da-4e1d-ab65-fa148a984f0e",
   "metadata": {
    "tags": []
   },
   "outputs": [
    {
     "data": {
      "text/plain": [
       "[[0, 5, 6, 3, 1, 2, 4],\n",
       " [0, 2, 4, 3, 5, 6, 1],\n",
       " [0, 4, 5, 3, 6, 1, 2],\n",
       " [0, 6, 1, 3, 2, 4, 5],\n",
       " [0, 5, 6, 3, 1, 2, 4],\n",
       " [0, 2, 4, 3, 5, 6, 1],\n",
       " [0, 4, 5, 3, 6, 1, 2],\n",
       " [0, 6, 1, 3, 2, 4, 5],\n",
       " [0, 5, 6, 3, 1, 2, 4],\n",
       " [0, 2, 4, 3, 5, 6, 1],\n",
       " [0, 4, 5, 3, 6, 1, 2],\n",
       " [0, 6, 1, 3, 2, 4, 5],\n",
       " [0, 5, 6, 3, 1, 2, 4],\n",
       " [0, 2, 4, 3, 5, 6, 1],\n",
       " [0, 4, 5, 3, 6, 1, 2],\n",
       " [0, 6, 1, 3, 2, 4, 5],\n",
       " [0, 5, 6, 3, 1, 2, 4],\n",
       " [0, 2, 4, 3, 5, 6, 1],\n",
       " [0, 4, 5, 3, 6, 1, 2],\n",
       " [0, 6, 1, 3, 2, 4, 5],\n",
       " [0, 5, 6, 3, 1, 2, 4],\n",
       " [0, 2, 4, 3, 5, 6, 1],\n",
       " [0, 4, 5, 3, 6, 1, 2],\n",
       " [0, 6, 1, 3, 2, 4, 5],\n",
       " [0, 5, 6, 3, 1, 2, 4],\n",
       " [0, 2, 4, 3, 5, 6, 1],\n",
       " [0, 4, 5, 3, 6, 1, 2],\n",
       " [0, 6, 1, 3, 2, 4, 5],\n",
       " [0, 5, 6, 3, 1, 2, 4],\n",
       " [0, 2, 4, 3, 5, 6, 1],\n",
       " [0, 4, 5, 3, 6, 1, 2],\n",
       " [0, 6, 1, 3, 2, 4, 5],\n",
       " [0, 5, 6, 3, 1, 2, 4],\n",
       " [0, 2, 4, 3, 5, 6, 1],\n",
       " [0, 4, 5, 3, 6, 1, 2],\n",
       " [0, 6, 1, 3, 2, 4, 5],\n",
       " [0, 5, 6, 3, 1, 2, 4],\n",
       " [0, 2, 4, 3, 5, 6, 1],\n",
       " [0, 4, 5, 3, 6, 1, 2],\n",
       " [0, 6, 1, 3, 2, 4, 5],\n",
       " [0, 5, 6, 3, 1, 2, 4],\n",
       " [0, 2, 4, 3, 5, 6, 1],\n",
       " [0, 4, 5, 3, 6, 1, 2],\n",
       " [0, 6, 1, 3, 2, 4, 5],\n",
       " [0, 5, 6, 3, 1, 2, 4],\n",
       " [0, 2, 4, 3, 5, 6, 1],\n",
       " [0, 4, 5, 3, 6, 1, 2],\n",
       " [0, 6, 1, 3, 2, 4, 5],\n",
       " [0, 5, 6, 3, 1, 2, 4],\n",
       " [0, 2, 4, 3, 5, 6, 1],\n",
       " [0, 4, 5, 3, 6, 1, 2],\n",
       " [0, 6, 1, 3, 2, 4, 5],\n",
       " [0, 5, 6, 3, 1, 2, 4],\n",
       " [0, 2, 4, 3, 5, 6, 1],\n",
       " [0, 4, 5, 3, 6, 1, 2],\n",
       " [0, 6, 1, 3, 2, 4, 5],\n",
       " [0, 5, 6, 3, 1, 2, 4],\n",
       " [0, 2, 4, 3, 5, 6, 1],\n",
       " [0, 4, 5, 3, 6, 1, 2],\n",
       " [0, 6, 1, 3, 2, 4, 5],\n",
       " [0, 5, 6, 3, 1, 2, 4],\n",
       " [0, 2, 4, 3, 5, 6, 1],\n",
       " [0, 4, 5, 3, 6, 1, 2],\n",
       " [0, 6, 1, 3, 2, 4, 5],\n",
       " [0, 5, 6, 3, 1, 2, 4]]"
      ]
     },
     "execution_count": 13,
     "metadata": {},
     "output_type": "execute_result"
    }
   ],
   "source": [
    "dp"
   ]
  },
  {
   "cell_type": "code",
   "execution_count": null,
   "id": "fd83b3eb-6aa7-4d2c-b1eb-17d56a0ad60f",
   "metadata": {},
   "outputs": [],
   "source": []
  }
 ],
 "metadata": {
  "kernelspec": {
   "display_name": "Python 3 (ipykernel)",
   "language": "python",
   "name": "python3"
  },
  "language_info": {
   "codemirror_mode": {
    "name": "ipython",
    "version": 3
   },
   "file_extension": ".py",
   "mimetype": "text/x-python",
   "name": "python",
   "nbconvert_exporter": "python",
   "pygments_lexer": "ipython3",
   "version": "3.11.3"
  }
 },
 "nbformat": 4,
 "nbformat_minor": 5
}
