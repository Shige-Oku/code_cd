{
 "cells": [
  {
   "cell_type": "code",
   "execution_count": 1,
   "id": "020433df-ef65-4709-b7d9-44f9de1abd4e",
   "metadata": {
    "tags": []
   },
   "outputs": [],
   "source": [
    "import sys\n",
    "import numpy as np\n",
    "import math\n",
    "import collections\n",
    "import copy\n",
    "import decimal\n",
    "import itertools\n",
    "import re\n",
    "import bisect\n",
    "import scipy\n",
    "import heapq\n",
    "from collections import deque \n",
    "from functools import reduce\n",
    "from itertools import product\n",
    "from itertools import combinations\n",
    "from functools import lru_cache\n",
    "from scipy.special import comb\n",
    "from numba import njit\n",
    "from bisect import bisect_right\n",
    "from bisect import bisect_left\n",
    "from atcoder.fenwicktree import FenwickTree\n",
    "from sortedcontainers import SortedSet, SortedList, SortedDict"
   ]
  },
  {
   "cell_type": "code",
   "execution_count": 2,
   "id": "a948a33b-bf45-41a3-80ac-ec8447316946",
   "metadata": {
    "tags": []
   },
   "outputs": [
    {
     "name": "stdin",
     "output_type": "stream",
     "text": [
      " 8 6\n"
     ]
    }
   ],
   "source": [
    "N, M = list(map(int, input().split()))"
   ]
  },
  {
   "cell_type": "code",
   "execution_count": 3,
   "id": "dca48bf0-7760-487c-9039-59da2a569faa",
   "metadata": {
    "tags": []
   },
   "outputs": [
    {
     "name": "stdin",
     "output_type": "stream",
     "text": [
      " 1 4\n",
      " 2 1\n",
      " 3 8\n",
      " 4 5\n",
      " 5 2\n",
      " 8 3\n"
     ]
    }
   ],
   "source": [
    "ABm = [list(map(int, input().split())) for _ in range(M)]"
   ]
  },
  {
   "cell_type": "code",
   "execution_count": 12,
   "id": "1b784233-76db-449d-8f87-8a98d469f4ab",
   "metadata": {
    "tags": []
   },
   "outputs": [],
   "source": [
    "ng = set()\n",
    "xi = (2, 1, -1, -2, -2, -1, 1, 2)\n",
    "yi = (1, 2, 2, 1, -1, -2, -2, -1)\n",
    "for A, B in ABm:\n",
    "    ng.add((A, B))\n",
    "    for x, y in zip(xi, yi):\n",
    "        nx = A + x\n",
    "        ny = B + y\n",
    "        if nx < 1 or ny < 1:\n",
    "            continue\n",
    "        if nx > N or ny > N:\n",
    "            continue\n",
    "        ng.add((nx, ny))\n",
    "        "
   ]
  },
  {
   "cell_type": "code",
   "execution_count": 13,
   "id": "0e471b96-f996-46b4-86bd-f99564fc414f",
   "metadata": {
    "tags": []
   },
   "outputs": [
    {
     "name": "stdout",
     "output_type": "stream",
     "text": [
      "38\n"
     ]
    }
   ],
   "source": [
    "print(N*N-len(ng))"
   ]
  },
  {
   "cell_type": "code",
   "execution_count": null,
   "id": "ce8882a2-e087-4444-baac-c1f16db79fcc",
   "metadata": {},
   "outputs": [],
   "source": []
  }
 ],
 "metadata": {
  "kernelspec": {
   "display_name": "Python 3 (ipykernel)",
   "language": "python",
   "name": "python3"
  },
  "language_info": {
   "codemirror_mode": {
    "name": "ipython",
    "version": 3
   },
   "file_extension": ".py",
   "mimetype": "text/x-python",
   "name": "python",
   "nbconvert_exporter": "python",
   "pygments_lexer": "ipython3",
   "version": "3.11.3"
  }
 },
 "nbformat": 4,
 "nbformat_minor": 5
}
