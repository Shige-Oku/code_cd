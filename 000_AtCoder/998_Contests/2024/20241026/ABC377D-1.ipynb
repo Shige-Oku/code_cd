{
 "cells": [
  {
   "cell_type": "code",
   "execution_count": 1,
   "id": "1a50fa59-d049-4701-abe6-7dccb058d81f",
   "metadata": {
    "tags": []
   },
   "outputs": [],
   "source": [
    "import sys\n",
    "import numpy as np\n",
    "import math\n",
    "import collections\n",
    "import copy\n",
    "import decimal\n",
    "import itertools\n",
    "import re\n",
    "import bisect\n",
    "import scipy\n",
    "import heapq\n",
    "from collections import deque \n",
    "from functools import reduce\n",
    "from itertools import product\n",
    "from itertools import combinations\n",
    "from functools import lru_cache\n",
    "from scipy.special import comb\n",
    "from numba import njit\n",
    "from bisect import bisect_right\n",
    "from bisect import bisect_left\n",
    "from atcoder.fenwicktree import FenwickTree\n",
    "from sortedcontainers import SortedSet, SortedList, SortedDict"
   ]
  },
  {
   "cell_type": "code",
   "execution_count": 51,
   "id": "2e6f079f-b40f-4331-9ce8-6da955f98390",
   "metadata": {
    "tags": []
   },
   "outputs": [
    {
     "name": "stdin",
     "output_type": "stream",
     "text": [
      " 1 4\n"
     ]
    }
   ],
   "source": [
    "N, M = map(int, input().split())"
   ]
  },
  {
   "cell_type": "code",
   "execution_count": 52,
   "id": "998b54c3-a198-4c73-97a4-da79343f03ce",
   "metadata": {
    "tags": []
   },
   "outputs": [
    {
     "name": "stdin",
     "output_type": "stream",
     "text": [
      " 2 3\n"
     ]
    }
   ],
   "source": [
    "LRn = [list(map(int, input().split())) for _ in range(N)]"
   ]
  },
  {
   "cell_type": "code",
   "execution_count": 53,
   "id": "55574aa5-47b5-4e32-b711-10fd7cb7d0f6",
   "metadata": {
    "tags": []
   },
   "outputs": [],
   "source": [
    "LRn_s = sorted(LRn)"
   ]
  },
  {
   "cell_type": "code",
   "execution_count": 54,
   "id": "abf7365c-3bd0-4514-ab08-34c45c8c4549",
   "metadata": {
    "tags": []
   },
   "outputs": [
    {
     "data": {
      "text/plain": [
       "[[2, 3]]"
      ]
     },
     "execution_count": 54,
     "metadata": {},
     "output_type": "execute_result"
    }
   ],
   "source": [
    "LRn_s"
   ]
  },
  {
   "cell_type": "code",
   "execution_count": 55,
   "id": "4718441f-d693-4fe6-8ae1-973fa235fb65",
   "metadata": {
    "tags": []
   },
   "outputs": [
    {
     "name": "stdout",
     "output_type": "stream",
     "text": [
      "1 0 2 3 2\n",
      "2 0 2 3 3\n",
      "3 1 2 3 5\n",
      "4 1 2 3 6\n"
     ]
    }
   ],
   "source": [
    "ans = 0\n",
    "j = 0\n",
    "for i in range(1, M+1):\n",
    "    while j < N:\n",
    "        L, R = LRn_s[j]\n",
    "        if i <= L:\n",
    "            break\n",
    "        j += 1\n",
    "    if L < i:\n",
    "        ans += M - i + 1\n",
    "    # elif L == i:\n",
    "    #     ans += max(0, R - i)\n",
    "    else:\n",
    "    # elif L == i:\n",
    "        ans += R - i\n",
    "    # else:\n",
    "    #     ans += max(0, L - i)\n",
    "    #     if i < R:\n",
    "    #         ans += 1\n",
    "    print(i, j, L, R, ans)"
   ]
  },
  {
   "cell_type": "code",
   "execution_count": 56,
   "id": "7075ff50-a341-43b3-866d-a6c9dd6249cf",
   "metadata": {
    "tags": []
   },
   "outputs": [
    {
     "name": "stdout",
     "output_type": "stream",
     "text": [
      "6\n"
     ]
    }
   ],
   "source": [
    "print(ans)"
   ]
  },
  {
   "cell_type": "code",
   "execution_count": 57,
   "id": "177e6da3-93d9-45c4-9be9-5bed8dbb5a8d",
   "metadata": {
    "tags": []
   },
   "outputs": [
    {
     "name": "stdin",
     "output_type": "stream",
     "text": [
      " 2 3\n"
     ]
    }
   ],
   "source": [
    "d = [1 for i in range(M + 1)]\n",
    "for _ in range(N):\n",
    "    L, R = map(int, input().split())\n",
    "    d[R] = max(d[R], L + 1)\n"
   ]
  },
  {
   "cell_type": "code",
   "execution_count": 58,
   "id": "52d22786-c450-4e1d-a6b6-c838e4adba30",
   "metadata": {
    "tags": []
   },
   "outputs": [
    {
     "name": "stdout",
     "output_type": "stream",
     "text": [
      "1 1\n",
      "2 3\n",
      "3 4\n",
      "4 6\n",
      "6\n"
     ]
    }
   ],
   "source": [
    "for r in range(1, M + 1):\n",
    "    d[r] = max(d[r], d[r - 1])\n",
    "ans = 0\n",
    "for r in range(1, M + 1):\n",
    "    ans += r - d[r] + 1\n",
    "    print(r, ans)\n",
    "print(ans)"
   ]
  },
  {
   "cell_type": "code",
   "execution_count": 59,
   "id": "a14f238e-f174-4864-8a74-714a2bc1711d",
   "metadata": {
    "tags": []
   },
   "outputs": [
    {
     "data": {
      "text/plain": [
       "[1, 1, 1, 3, 3]"
      ]
     },
     "execution_count": 59,
     "metadata": {},
     "output_type": "execute_result"
    }
   ],
   "source": [
    "d"
   ]
  },
  {
   "cell_type": "code",
   "execution_count": null,
   "id": "0b7e5847-82e7-4819-bae4-5e2210adfbd3",
   "metadata": {},
   "outputs": [],
   "source": []
  }
 ],
 "metadata": {
  "kernelspec": {
   "display_name": "Python 3 (ipykernel)",
   "language": "python",
   "name": "python3"
  },
  "language_info": {
   "codemirror_mode": {
    "name": "ipython",
    "version": 3
   },
   "file_extension": ".py",
   "mimetype": "text/x-python",
   "name": "python",
   "nbconvert_exporter": "python",
   "pygments_lexer": "ipython3",
   "version": "3.11.3"
  }
 },
 "nbformat": 4,
 "nbformat_minor": 5
}
