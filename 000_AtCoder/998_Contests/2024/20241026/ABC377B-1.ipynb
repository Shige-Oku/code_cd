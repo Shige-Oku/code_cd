{
 "cells": [
  {
   "cell_type": "code",
   "execution_count": 1,
   "id": "a1e53244-9e9e-4414-9208-c914980544b9",
   "metadata": {
    "tags": []
   },
   "outputs": [],
   "source": [
    "import sys\n",
    "import numpy as np\n",
    "import math\n",
    "import collections\n",
    "import copy\n",
    "import decimal\n",
    "import itertools\n",
    "import re\n",
    "import bisect\n",
    "import scipy\n",
    "import heapq\n",
    "from collections import deque \n",
    "from functools import reduce\n",
    "from itertools import product\n",
    "from itertools import combinations\n",
    "from functools import lru_cache\n",
    "from scipy.special import comb\n",
    "from numba import njit\n",
    "from bisect import bisect_right\n",
    "from bisect import bisect_left\n",
    "from atcoder.fenwicktree import FenwickTree\n",
    "from sortedcontainers import SortedSet, SortedList, SortedDict"
   ]
  },
  {
   "cell_type": "code",
   "execution_count": 2,
   "id": "6024e715-d801-45e5-8dd7-6568fc654e87",
   "metadata": {
    "tags": []
   },
   "outputs": [
    {
     "name": "stdin",
     "output_type": "stream",
     "text": [
      " ...#....\n",
      " #.......\n",
      " .......#\n",
      " ....#...\n",
      " .#......\n",
      " ........\n",
      " ........\n",
      " ..#.....\n"
     ]
    }
   ],
   "source": [
    "Sn = [input() for _ in range(8)]"
   ]
  },
  {
   "cell_type": "code",
   "execution_count": 5,
   "id": "824fa0a9-46e4-45e7-bfbd-6159f7a2a277",
   "metadata": {
    "tags": []
   },
   "outputs": [],
   "source": [
    "line, col = set(), set()\n",
    "for i in range(8):\n",
    "    for j in range(8):\n",
    "        if Sn[i][j] == '#':\n",
    "            line.add(i)\n",
    "            col.add(j)"
   ]
  },
  {
   "cell_type": "code",
   "execution_count": 6,
   "id": "0b1ef676-d712-4594-9cc6-4ebb9d350f7d",
   "metadata": {
    "tags": []
   },
   "outputs": [],
   "source": [
    "ans = 0\n",
    "for i in range(8):\n",
    "    for j in range(8):\n",
    "        if i in line:\n",
    "            continue\n",
    "        if j in col:\n",
    "            continue\n",
    "        ans += 1\n"
   ]
  },
  {
   "cell_type": "code",
   "execution_count": 7,
   "id": "097eb493-01f4-4bce-bd34-b8be8c3ad6f8",
   "metadata": {
    "tags": []
   },
   "outputs": [
    {
     "name": "stdout",
     "output_type": "stream",
     "text": [
      "4\n"
     ]
    }
   ],
   "source": [
    "print(ans)"
   ]
  },
  {
   "cell_type": "code",
   "execution_count": 4,
   "id": "c3c8a9a2-468c-4057-a523-0b42496a3cd3",
   "metadata": {
    "tags": []
   },
   "outputs": [
    {
     "data": {
      "text/plain": [
       "({0, 1, 2, 3, 4, 7}, {0, 1, 2, 3, 4, 7})"
      ]
     },
     "execution_count": 4,
     "metadata": {},
     "output_type": "execute_result"
    }
   ],
   "source": [
    "line, col"
   ]
  },
  {
   "cell_type": "code",
   "execution_count": null,
   "id": "6e680ef0-ef62-4231-8b4d-b9a808f47529",
   "metadata": {},
   "outputs": [],
   "source": []
  }
 ],
 "metadata": {
  "kernelspec": {
   "display_name": "Python 3 (ipykernel)",
   "language": "python",
   "name": "python3"
  },
  "language_info": {
   "codemirror_mode": {
    "name": "ipython",
    "version": 3
   },
   "file_extension": ".py",
   "mimetype": "text/x-python",
   "name": "python",
   "nbconvert_exporter": "python",
   "pygments_lexer": "ipython3",
   "version": "3.11.3"
  }
 },
 "nbformat": 4,
 "nbformat_minor": 5
}
