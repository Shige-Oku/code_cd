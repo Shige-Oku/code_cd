{
 "cells": [
  {
   "cell_type": "code",
   "execution_count": 1,
   "id": "73feb72e-787a-44de-9ac3-23c4602a085d",
   "metadata": {
    "tags": []
   },
   "outputs": [],
   "source": [
    "import sys\n",
    "import numpy as np\n",
    "import math\n",
    "import collections\n",
    "import copy\n",
    "import decimal\n",
    "import itertools\n",
    "import re\n",
    "import bisect\n",
    "import scipy\n",
    "import heapq\n",
    "from collections import deque \n",
    "from functools import reduce\n",
    "from itertools import product\n",
    "from itertools import combinations\n",
    "from functools import lru_cache\n",
    "from scipy.special import comb\n",
    "from numba import njit\n",
    "from bisect import bisect_right\n",
    "from bisect import bisect_left"
   ]
  },
  {
   "cell_type": "code",
   "execution_count": 2,
   "id": "5c71dedf-7bc6-48d9-aaa5-26ed8e553892",
   "metadata": {
    "tags": []
   },
   "outputs": [
    {
     "name": "stdin",
     "output_type": "stream",
     "text": [
      " 3 3\n"
     ]
    }
   ],
   "source": [
    "N, M = map(int, input().split())"
   ]
  },
  {
   "cell_type": "code",
   "execution_count": 3,
   "id": "77d7bcbb-f3cc-4b20-b5d0-ee0c369bd798",
   "metadata": {
    "tags": []
   },
   "outputs": [
    {
     "name": "stdin",
     "output_type": "stream",
     "text": [
      " 1 3 2\n"
     ]
    }
   ],
   "source": [
    "Xm = list(map(int, input().split()))"
   ]
  },
  {
   "cell_type": "code",
   "execution_count": 27,
   "id": "c5f85f16-3057-47bc-9308-cb36c85f111a",
   "metadata": {
    "tags": []
   },
   "outputs": [],
   "source": [
    "dp = [[10**20] * (N+1) for _ in range(M+1)]\n",
    "dp[0][0] = 0\n",
    "f = 1\n",
    "for i, X in enumerate(Xm, 1):\n",
    "    for ng in range(1, N+1):\n",
    "        j = abs(f - X)\n",
    "        g = N - j\n",
    "        if j < g:\n",
    "            if j <= f <= g:\n",
    "                dp[ng][i] = \n",
    "        if "
   ]
  },
  {
   "cell_type": "code",
   "execution_count": 28,
   "id": "f5f222f2-0ecd-47ab-aa3c-90bc67d0f50d",
   "metadata": {
    "tags": []
   },
   "outputs": [
    {
     "data": {
      "text/plain": [
       "[[0, 100000000000000000000, 100000000000000000000, 100000000000000000000],\n",
       " [100000000000000000000,\n",
       "  100000000000000000000,\n",
       "  100000000000000000000,\n",
       "  100000000000000000000],\n",
       " [100000000000000000000,\n",
       "  100000000000000000000,\n",
       "  100000000000000000000,\n",
       "  100000000000000000000],\n",
       " [100000000000000000000,\n",
       "  100000000000000000000,\n",
       "  100000000000000000000,\n",
       "  100000000000000000000]]"
      ]
     },
     "execution_count": 28,
     "metadata": {},
     "output_type": "execute_result"
    }
   ],
   "source": [
    "dp"
   ]
  },
  {
   "cell_type": "code",
   "execution_count": 8,
   "id": "3b0268cf-5e1c-49fe-ba2d-8548ae44e8fd",
   "metadata": {
    "tags": []
   },
   "outputs": [],
   "source": [
    "c = 0\n",
    "xf = Xm[0]\n",
    "for X in Xm:\n",
    "    c += min(abs(xf-X), N-abs(xf-X))"
   ]
  },
  {
   "cell_type": "code",
   "execution_count": 9,
   "id": "23919903-34be-43ba-b4f2-2a51ce35eb9f",
   "metadata": {
    "tags": []
   },
   "outputs": [
    {
     "data": {
      "text/plain": [
       "2"
      ]
     },
     "execution_count": 9,
     "metadata": {},
     "output_type": "execute_result"
    }
   ],
   "source": [
    "ans = 10**20\n",
    "for i in range(1, N+1):\n",
    "    "
   ]
  },
  {
   "cell_type": "code",
   "execution_count": 15,
   "id": "84bffbeb-7b14-440d-b8ae-627baa1c79a6",
   "metadata": {
    "tags": []
   },
   "outputs": [],
   "source": [
    "a = [[x+1, x+2, x+3] for x in range(5)]"
   ]
  },
  {
   "cell_type": "code",
   "execution_count": 16,
   "id": "f69d611e-69ca-4a1e-ae8e-3e6c065983d0",
   "metadata": {
    "tags": []
   },
   "outputs": [
    {
     "data": {
      "text/plain": [
       "[[1, 2, 3], [2, 3, 4], [3, 4, 5], [4, 5, 6], [5, 6, 7]]"
      ]
     },
     "execution_count": 16,
     "metadata": {},
     "output_type": "execute_result"
    }
   ],
   "source": [
    "a"
   ]
  },
  {
   "cell_type": "code",
   "execution_count": 17,
   "id": "fcefa61a-c4dd-4c20-bae0-f16df8e50d7d",
   "metadata": {
    "tags": []
   },
   "outputs": [
    {
     "data": {
      "text/plain": [
       "[1, 2, 3]"
      ]
     },
     "execution_count": 17,
     "metadata": {},
     "output_type": "execute_result"
    }
   ],
   "source": [
    "a[0]"
   ]
  },
  {
   "cell_type": "code",
   "execution_count": null,
   "id": "6caa946b-5614-4102-91a2-46b2caefaaa5",
   "metadata": {},
   "outputs": [],
   "source": []
  }
 ],
 "metadata": {
  "kernelspec": {
   "display_name": "Python 3 (ipykernel)",
   "language": "python",
   "name": "python3"
  },
  "language_info": {
   "codemirror_mode": {
    "name": "ipython",
    "version": 3
   },
   "file_extension": ".py",
   "mimetype": "text/x-python",
   "name": "python",
   "nbconvert_exporter": "python",
   "pygments_lexer": "ipython3",
   "version": "3.11.3"
  }
 },
 "nbformat": 4,
 "nbformat_minor": 5
}
