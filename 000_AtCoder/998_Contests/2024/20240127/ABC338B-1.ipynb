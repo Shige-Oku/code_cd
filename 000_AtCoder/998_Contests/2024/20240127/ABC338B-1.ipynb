{
 "cells": [
  {
   "cell_type": "code",
   "execution_count": 1,
   "id": "49eb7d2b-334f-4500-99c9-cd2bfaab7ac3",
   "metadata": {
    "tags": []
   },
   "outputs": [],
   "source": [
    "import sys\n",
    "import numpy as np\n",
    "import math\n",
    "import collections\n",
    "import copy\n",
    "import decimal\n",
    "import itertools\n",
    "import re\n",
    "import bisect\n",
    "import scipy\n",
    "import heapq\n",
    "from collections import deque \n",
    "from functools import reduce\n",
    "from itertools import product\n",
    "from itertools import combinations\n",
    "from functools import lru_cache\n",
    "from scipy.special import comb\n",
    "from numba import njit\n",
    "from bisect import bisect_right\n",
    "from bisect import bisect_left"
   ]
  },
  {
   "cell_type": "code",
   "execution_count": 21,
   "id": "b578412a-d3d5-419e-8bae-01aec4429881",
   "metadata": {
    "tags": []
   },
   "outputs": [
    {
     "name": "stdin",
     "output_type": "stream",
     "text": [
      " pseudopseudohypoparathyroidism\n"
     ]
    }
   ],
   "source": [
    "S = input()"
   ]
  },
  {
   "cell_type": "code",
   "execution_count": 22,
   "id": "4cf8f3a8-1c15-40d5-a3b2-e20d0f73a9e2",
   "metadata": {
    "tags": []
   },
   "outputs": [
    {
     "name": "stdout",
     "output_type": "stream",
     "text": [
      "o\n"
     ]
    }
   ],
   "source": [
    "import collections\n",
    "S_c = collections.Counter(S)\n",
    "S_l = list(S_c.items())\n",
    "S_l2 = sorted(S_l, key=lambda x:(-x[1], x[0]))\n",
    "print(S_l2[0][0])"
   ]
  },
  {
   "cell_type": "code",
   "execution_count": 16,
   "id": "24553823-ffad-455f-9692-0916739c9618",
   "metadata": {
    "tags": []
   },
   "outputs": [
    {
     "data": {
      "text/plain": [
       "[('e', 2),\n",
       " ('c', 1),\n",
       " ('f', 1),\n",
       " ('n', 1),\n",
       " ('q', 1),\n",
       " ('r', 1),\n",
       " ('u', 1),\n",
       " ('y', 1)]"
      ]
     },
     "execution_count": 16,
     "metadata": {},
     "output_type": "execute_result"
    }
   ],
   "source": [
    "S_l2"
   ]
  },
  {
   "cell_type": "code",
   "execution_count": null,
   "id": "c63263af-b9c1-445b-a326-07a3018238f7",
   "metadata": {},
   "outputs": [],
   "source": []
  }
 ],
 "metadata": {
  "kernelspec": {
   "display_name": "Python 3 (ipykernel)",
   "language": "python",
   "name": "python3"
  },
  "language_info": {
   "codemirror_mode": {
    "name": "ipython",
    "version": 3
   },
   "file_extension": ".py",
   "mimetype": "text/x-python",
   "name": "python",
   "nbconvert_exporter": "python",
   "pygments_lexer": "ipython3",
   "version": "3.11.3"
  }
 },
 "nbformat": 4,
 "nbformat_minor": 5
}
