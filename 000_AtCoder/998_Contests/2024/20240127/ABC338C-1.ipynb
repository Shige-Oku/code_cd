{
 "cells": [
  {
   "cell_type": "code",
   "execution_count": 1,
   "id": "53600686-a737-4309-b297-878f6afe3844",
   "metadata": {
    "tags": []
   },
   "outputs": [],
   "source": [
    "import sys\n",
    "import numpy as np\n",
    "import math\n",
    "import collections\n",
    "import copy\n",
    "import decimal\n",
    "import itertools\n",
    "import re\n",
    "import bisect\n",
    "import scipy\n",
    "import heapq\n",
    "from collections import deque \n",
    "from functools import reduce\n",
    "from itertools import product\n",
    "from itertools import combinations\n",
    "from functools import lru_cache\n",
    "from scipy.special import comb\n",
    "from numba import njit\n",
    "from bisect import bisect_right\n",
    "from bisect import bisect_left"
   ]
  },
  {
   "cell_type": "code",
   "execution_count": 42,
   "id": "e96b9996-80ba-4402-b3bb-cafa93df19bf",
   "metadata": {
    "tags": []
   },
   "outputs": [
    {
     "name": "stdin",
     "output_type": "stream",
     "text": [
      " 10\n"
     ]
    }
   ],
   "source": [
    "N = int(input())"
   ]
  },
  {
   "cell_type": "code",
   "execution_count": 43,
   "id": "d7e8afac-89f7-4fd9-a9ce-38565678db17",
   "metadata": {
    "tags": []
   },
   "outputs": [
    {
     "name": "stdin",
     "output_type": "stream",
     "text": [
      " 1000000 1000000 1000000 1000000 1000000 1000000 1000000 1000000 1000000 1000000\n"
     ]
    }
   ],
   "source": [
    "Qn = list(map(int, input().split()))"
   ]
  },
  {
   "cell_type": "code",
   "execution_count": 44,
   "id": "13f29119-66db-4626-aca8-93ed381fce91",
   "metadata": {
    "tags": []
   },
   "outputs": [
    {
     "name": "stdin",
     "output_type": "stream",
     "text": [
      " 0 1 2 3 4 5 6 7 8 9\n"
     ]
    }
   ],
   "source": [
    "An = list(map(int, input().split()))"
   ]
  },
  {
   "cell_type": "code",
   "execution_count": 45,
   "id": "04ebdc5d-6701-4f14-b21d-3c3db4df2b12",
   "metadata": {
    "tags": []
   },
   "outputs": [
    {
     "name": "stdin",
     "output_type": "stream",
     "text": [
      " 9 8 7 6 5 4 3 2 1 0\n"
     ]
    }
   ],
   "source": [
    "Bn = list(map(int, input().split()))"
   ]
  },
  {
   "cell_type": "code",
   "execution_count": 46,
   "id": "f822a8d6-cf76-42c7-8a1d-bc3985dabb28",
   "metadata": {
    "tags": []
   },
   "outputs": [],
   "source": [
    "ma = 10**10\n",
    "mb = 10**10\n",
    "for A, B, Q in zip(An, Bn, Qn):\n",
    "    if A != 0:\n",
    "        ma = min(ma, Q//A)    \n",
    "    if B != 0:\n",
    "        mb = min(mb, Q//B)    \n",
    "    \n",
    "ans = 0\n",
    "for an in range(ma+1):\n",
    "    bn = 10**10\n",
    "    for A, B, Q in zip(An, Bn, Qn):\n",
    "        Q -= A * an\n",
    "        if Q < 0 or B == 0:\n",
    "            continue\n",
    "        bc = Q // B\n",
    "        bn = min(bn, bc, mb)\n",
    "    ans = max(ans, an+bn)\n"
   ]
  },
  {
   "cell_type": "code",
   "execution_count": 47,
   "id": "58706c05-4081-408c-8cf5-a9a47c15cd64",
   "metadata": {
    "tags": []
   },
   "outputs": [
    {
     "name": "stdout",
     "output_type": "stream",
     "text": [
      "222222\n"
     ]
    }
   ],
   "source": [
    "print(ans)"
   ]
  },
  {
   "cell_type": "code",
   "execution_count": 17,
   "id": "1fe97402-dadf-4f9e-b169-910b82e9ac56",
   "metadata": {
    "tags": []
   },
   "outputs": [
    {
     "data": {
      "text/plain": [
       "(3, 4)"
      ]
     },
     "execution_count": 17,
     "metadata": {},
     "output_type": "execute_result"
    }
   ],
   "source": [
    "ma, mb"
   ]
  },
  {
   "cell_type": "code",
   "execution_count": null,
   "id": "8c72315f-0b7a-4dcd-8b6d-568bf035cf4a",
   "metadata": {},
   "outputs": [],
   "source": []
  }
 ],
 "metadata": {
  "kernelspec": {
   "display_name": "Python 3 (ipykernel)",
   "language": "python",
   "name": "python3"
  },
  "language_info": {
   "codemirror_mode": {
    "name": "ipython",
    "version": 3
   },
   "file_extension": ".py",
   "mimetype": "text/x-python",
   "name": "python",
   "nbconvert_exporter": "python",
   "pygments_lexer": "ipython3",
   "version": "3.11.3"
  }
 },
 "nbformat": 4,
 "nbformat_minor": 5
}
