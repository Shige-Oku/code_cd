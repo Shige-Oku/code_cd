{
 "cells": [
  {
   "cell_type": "code",
   "execution_count": 1,
   "id": "f52ddcac-3566-47c5-a5c7-6f30f3b091f7",
   "metadata": {
    "tags": []
   },
   "outputs": [],
   "source": [
    "import sys\n",
    "import numpy as np\n",
    "import math\n",
    "import collections\n",
    "import copy\n",
    "import decimal\n",
    "import itertools\n",
    "import re\n",
    "import bisect\n",
    "import scipy\n",
    "import heapq\n",
    "from collections import deque \n",
    "from functools import reduce\n",
    "from itertools import product\n",
    "from itertools import combinations\n",
    "from functools import lru_cache\n",
    "from scipy.special import comb\n",
    "from numba import njit\n",
    "from bisect import bisect_right\n",
    "from bisect import bisect_left"
   ]
  },
  {
   "cell_type": "code",
   "execution_count": null,
   "id": "61524ff2-dba7-45fb-82d3-7dfdb0f98a1d",
   "metadata": {},
   "outputs": [],
   "source": [
    "# 解説を読んで実装"
   ]
  },
  {
   "cell_type": "code",
   "execution_count": 2,
   "id": "747f91cb-ff4c-4d45-b2c1-1734d573817f",
   "metadata": {},
   "outputs": [
    {
     "name": "stdin",
     "output_type": "stream",
     "text": [
      " 3\n"
     ]
    }
   ],
   "source": [
    "N = int(input())"
   ]
  },
  {
   "cell_type": "code",
   "execution_count": 16,
   "id": "af0fbcbe-7ea9-4d6c-a2ed-8246f3ef47de",
   "metadata": {
    "tags": []
   },
   "outputs": [
    {
     "name": "stdin",
     "output_type": "stream",
     "text": [
      " 1 2\n",
      " 3 4\n",
      " 6 5\n"
     ]
    }
   ],
   "source": [
    "An = {}\n",
    "Bn = {}\n",
    "for i in range(N):\n",
    "    A, B = map(int, input().split())\n",
    "    A, B = min(A, B), max(A, B)\n",
    "    An[A] = [i, B]\n",
    "    Bn[B] = [i, A] "
   ]
  },
  {
   "cell_type": "code",
   "execution_count": 21,
   "id": "4a9f76ac-859c-4f00-bdc2-fbde86a33b2d",
   "metadata": {
    "tags": []
   },
   "outputs": [
    {
     "name": "stdout",
     "output_type": "stream",
     "text": [
      "No\n"
     ]
    }
   ],
   "source": [
    "from collections import deque\n",
    "q = deque()\n",
    "for i in range(1, 2*N+1):\n",
    "    if i in An:\n",
    "        q.append(An[i][0])\n",
    "    else:\n",
    "        p = q.pop()\n",
    "        if Bn[i][0] != p:\n",
    "            print(i, p)\n",
    "            print('Yes')\n",
    "            break\n",
    "else:\n",
    "    print('No')"
   ]
  },
  {
   "cell_type": "code",
   "execution_count": 18,
   "id": "56632068-ff75-41ac-9302-173ce3c99cd9",
   "metadata": {
    "tags": []
   },
   "outputs": [
    {
     "data": {
      "text/plain": [
       "({1: [0, 2], 3: [1, 4], 5: [2, 6]}, {2: [0, 1], 4: [1, 3], 6: [2, 5]})"
      ]
     },
     "execution_count": 18,
     "metadata": {},
     "output_type": "execute_result"
    }
   ],
   "source": [
    "An, Bn"
   ]
  },
  {
   "cell_type": "code",
   "execution_count": 7,
   "id": "6442219e-58f6-4dfd-8cbe-88c9dd808565",
   "metadata": {
    "tags": []
   },
   "outputs": [
    {
     "data": {
      "text/plain": [
       "0"
      ]
     },
     "execution_count": 7,
     "metadata": {},
     "output_type": "execute_result"
    }
   ],
   "source": [
    "An[1][0]"
   ]
  },
  {
   "cell_type": "code",
   "execution_count": null,
   "id": "d59e959d-e3b1-44d6-b92d-7925813b5a21",
   "metadata": {},
   "outputs": [],
   "source": []
  }
 ],
 "metadata": {
  "kernelspec": {
   "display_name": "Python 3 (ipykernel)",
   "language": "python",
   "name": "python3"
  },
  "language_info": {
   "codemirror_mode": {
    "name": "ipython",
    "version": 3
   },
   "file_extension": ".py",
   "mimetype": "text/x-python",
   "name": "python",
   "nbconvert_exporter": "python",
   "pygments_lexer": "ipython3",
   "version": "3.11.3"
  }
 },
 "nbformat": 4,
 "nbformat_minor": 5
}
