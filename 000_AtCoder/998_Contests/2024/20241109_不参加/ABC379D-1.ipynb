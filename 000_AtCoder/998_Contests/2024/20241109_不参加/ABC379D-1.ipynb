{
 "cells": [
  {
   "cell_type": "code",
   "execution_count": 1,
   "id": "a4a074e8-5900-468c-9b57-59b0c4ea2ab9",
   "metadata": {
    "tags": []
   },
   "outputs": [],
   "source": [
    "import sys\n",
    "import numpy as np\n",
    "import math\n",
    "import collections\n",
    "import copy\n",
    "import decimal\n",
    "import itertools\n",
    "import re\n",
    "import bisect\n",
    "import scipy\n",
    "import heapq\n",
    "from collections import deque \n",
    "from functools import reduce\n",
    "from itertools import product\n",
    "from itertools import combinations\n",
    "from functools import lru_cache\n",
    "from scipy.special import comb\n",
    "from numba import njit\n",
    "from bisect import bisect_right\n",
    "from bisect import bisect_left\n",
    "from atcoder.fenwicktree import FenwickTree\n",
    "from sortedcontainers import SortedSet, SortedList, SortedDict"
   ]
  },
  {
   "cell_type": "code",
   "execution_count": 2,
   "id": "9b95a581-47e1-495c-b31f-6fef949e352c",
   "metadata": {
    "tags": []
   },
   "outputs": [
    {
     "name": "stdin",
     "output_type": "stream",
     "text": [
      " 6\n"
     ]
    }
   ],
   "source": [
    "Q = int(input())"
   ]
  },
  {
   "cell_type": "code",
   "execution_count": 4,
   "id": "7da4ba36-c821-42af-bca5-fe767d0de8aa",
   "metadata": {
    "tags": []
   },
   "outputs": [
    {
     "name": "stdin",
     "output_type": "stream",
     "text": [
      " 1 \n",
      " 2 15\n",
      " 1\n",
      " 3 10\n",
      " 2 20\n",
      " 3 20\n"
     ]
    }
   ],
   "source": [
    "Query = [list(map(int, input().split())) for _ in range(Q)]"
   ]
  },
  {
   "cell_type": "code",
   "execution_count": 12,
   "id": "5b861c08-cbce-4eb5-a3dc-d6ad4b2ff40a",
   "metadata": {
    "tags": []
   },
   "outputs": [],
   "source": [
    "def count(H):\n",
    "    global syukaku\n",
    "    cnt = 0\n",
    "    while syukaku < len(ueki):\n",
    "        if day - ueki[syukaku] < H:\n",
    "            break\n",
    "        cnt += 1\n",
    "        syukaku += 1\n",
    "    return cnt"
   ]
  },
  {
   "cell_type": "code",
   "execution_count": 13,
   "id": "ea11b325-36d7-4df8-8aed-22f07cdd431c",
   "metadata": {
    "tags": []
   },
   "outputs": [
    {
     "name": "stdout",
     "output_type": "stream",
     "text": [
      "1\n",
      "1\n"
     ]
    }
   ],
   "source": [
    "day = 0\n",
    "ueki = []\n",
    "syukaku = 0\n",
    "for q in Query:\n",
    "    if q[0] == 1:\n",
    "        ueki.append(day)\n",
    "    elif q[0] == 2:\n",
    "        T = q[1]\n",
    "        day += T\n",
    "    else:\n",
    "        H = q[1]\n",
    "        print(count(H))"
   ]
  },
  {
   "cell_type": "code",
   "execution_count": null,
   "id": "ed2d02a9-3ed9-46c7-ad39-247d1a390247",
   "metadata": {},
   "outputs": [],
   "source": []
  }
 ],
 "metadata": {
  "kernelspec": {
   "display_name": "Python 3 (ipykernel)",
   "language": "python",
   "name": "python3"
  },
  "language_info": {
   "codemirror_mode": {
    "name": "ipython",
    "version": 3
   },
   "file_extension": ".py",
   "mimetype": "text/x-python",
   "name": "python",
   "nbconvert_exporter": "python",
   "pygments_lexer": "ipython3",
   "version": "3.11.3"
  }
 },
 "nbformat": 4,
 "nbformat_minor": 5
}
