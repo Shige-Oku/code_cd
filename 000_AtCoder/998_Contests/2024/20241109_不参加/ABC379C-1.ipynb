{
 "cells": [
  {
   "cell_type": "code",
   "execution_count": 1,
   "id": "ebc3be8e-ff82-4938-8ee7-2d11b7eec8a5",
   "metadata": {
    "tags": []
   },
   "outputs": [],
   "source": [
    "import sys\n",
    "import numpy as np\n",
    "import math\n",
    "import collections\n",
    "import copy\n",
    "import decimal\n",
    "import itertools\n",
    "import re\n",
    "import bisect\n",
    "import scipy\n",
    "import heapq\n",
    "from collections import deque \n",
    "from functools import reduce\n",
    "from itertools import product\n",
    "from itertools import combinations\n",
    "from functools import lru_cache\n",
    "from scipy.special import comb\n",
    "from numba import njit\n",
    "from bisect import bisect_right\n",
    "from bisect import bisect_left\n",
    "from atcoder.fenwicktree import FenwickTree\n",
    "from sortedcontainers import SortedSet, SortedList, SortedDict"
   ]
  },
  {
   "cell_type": "code",
   "execution_count": 81,
   "id": "59a33439-8207-4002-8693-8dde551bf70c",
   "metadata": {
    "tags": []
   },
   "outputs": [
    {
     "name": "stdin",
     "output_type": "stream",
     "text": [
      " 5 2\n"
     ]
    }
   ],
   "source": [
    "N, M = map(int, input().split())"
   ]
  },
  {
   "cell_type": "code",
   "execution_count": 82,
   "id": "4bd04cbe-c505-4391-babe-51f3f9bd3442",
   "metadata": {
    "tags": []
   },
   "outputs": [
    {
     "name": "stdin",
     "output_type": "stream",
     "text": [
      " 1 4\n"
     ]
    }
   ],
   "source": [
    "Xn = list(map(int, input().split()))"
   ]
  },
  {
   "cell_type": "code",
   "execution_count": 83,
   "id": "897fbbf4-1e08-41b3-8312-8348269c56ef",
   "metadata": {
    "tags": []
   },
   "outputs": [
    {
     "name": "stdin",
     "output_type": "stream",
     "text": [
      " 3 2\n"
     ]
    }
   ],
   "source": [
    "An = list(map(int, input().split()))"
   ]
  },
  {
   "cell_type": "code",
   "execution_count": 103,
   "id": "73b22052-01a9-40ab-81b3-b7f6cceffe55",
   "metadata": {
    "tags": []
   },
   "outputs": [],
   "source": [
    "def check():\n",
    "    if sum(An) != N:\n",
    "        return False\n",
    "    \n",
    "    if XAn_s[0][0] != 1:\n",
    "        return False\n",
    "    \n",
    "    cnt = XAn_s[0][1]\n",
    "    for i in range(M-1):\n",
    "        if XAn_s[i+1][0] - 1 > cnt:\n",
    "            return False\n",
    "    return True"
   ]
  },
  {
   "cell_type": "code",
   "execution_count": 128,
   "id": "bd46b4a2-ebcc-4d28-bb1e-20af3dbb0bb6",
   "metadata": {
    "tags": []
   },
   "outputs": [],
   "source": [
    "def solve():\n",
    "    if not check():\n",
    "        return -1\n",
    "    ret = N * (N+1) // 2\n",
    "    for X, A in XAn_s:\n",
    "        ret -= X * A\n",
    "    return ret"
   ]
  },
  {
   "cell_type": "code",
   "execution_count": 129,
   "id": "9bdd07f0-c999-44f9-8cfa-7cdad8c85323",
   "metadata": {
    "tags": []
   },
   "outputs": [],
   "source": [
    "XAn = []\n",
    "for X, A in zip(Xn, An):\n",
    "    XAn.append((X, A))\n",
    "XAn_s = sorted(XAn)"
   ]
  },
  {
   "cell_type": "code",
   "execution_count": 130,
   "id": "f8a0bb66-c799-4d22-9d83-58120224e237",
   "metadata": {
    "tags": []
   },
   "outputs": [
    {
     "name": "stdout",
     "output_type": "stream",
     "text": [
      "4\n"
     ]
    }
   ],
   "source": [
    "print(solve())"
   ]
  },
  {
   "cell_type": "code",
   "execution_count": 125,
   "id": "21c0c07a-317a-46b9-bb2b-aa65ded88264",
   "metadata": {
    "tags": []
   },
   "outputs": [],
   "source": [
    "def solve():\n",
    "    if not check():\n",
    "        return -1\n",
    "    ret = 0\n",
    "    s = 1\n",
    "    for i in range(M):\n",
    "        X, A = XAn_s[i]\n",
    "        cnt = A\n",
    "        if X > s:\n",
    "            cnt = A - 1\n",
    "        ret += cnt * (cnt-1) // 2\n",
    "        ret += (s - X) * cnt\n",
    "        s += A\n",
    "        # print(ret, cnt)\n",
    "    return ret"
   ]
  },
  {
   "cell_type": "code",
   "execution_count": 89,
   "id": "57fd4a2c-080c-4b39-9575-519d15891b88",
   "metadata": {
    "tags": []
   },
   "outputs": [],
   "source": [
    "def move(k, v):\n",
    "    global s\n",
    "    ret = 0\n",
    "    for i in range(k+1, k+v):\n",
    "        while s < N:\n",
    "            if s not in stones:\n",
    "                break\n",
    "            s += 1\n",
    "        ret += i - k\n",
    "        stones[i] = 1\n",
    "    return ret"
   ]
  },
  {
   "cell_type": "code",
   "execution_count": 90,
   "id": "348d3565-521c-40fc-9f40-78fea01f2401",
   "metadata": {
    "tags": []
   },
   "outputs": [],
   "source": [
    "def solve():\n",
    "    ret = 0\n",
    "    for k, v in stones.items():\n",
    "        ret += move(k, v)\n",
    "\n",
    "    for i in range(1, N+1):\n",
    "        if i not in stones:\n",
    "            return -1\n",
    "        \n",
    "    return ret"
   ]
  },
  {
   "cell_type": "code",
   "execution_count": 91,
   "id": "7dc8dfb5-48d6-45de-86f2-f09e0c6c25e5",
   "metadata": {
    "tags": []
   },
   "outputs": [],
   "source": [
    "stones = SortedDict()\n",
    "s = 1\n",
    "for X, A in zip(Xn, An):\n",
    "    if X in stones:\n",
    "        stones[X] += A\n",
    "    else:\n",
    "        stones[X] = A"
   ]
  },
  {
   "cell_type": "code",
   "execution_count": 88,
   "id": "e66a4b4d-14fc-4cb7-a942-661e10c5128b",
   "metadata": {
    "tags": []
   },
   "outputs": [
    {
     "data": {
      "text/plain": [
       "SortedDict({1: 3, 4: 2})"
      ]
     },
     "execution_count": 88,
     "metadata": {},
     "output_type": "execute_result"
    }
   ],
   "source": [
    "stones"
   ]
  },
  {
   "cell_type": "code",
   "execution_count": 98,
   "id": "7b0b2b7d-c8a9-4121-b2a4-97b137d63f5d",
   "metadata": {
    "tags": []
   },
   "outputs": [
    {
     "data": {
      "text/plain": [
       "[(1, 3), (4, 2)]"
      ]
     },
     "execution_count": 98,
     "metadata": {},
     "output_type": "execute_result"
    }
   ],
   "source": [
    "XAn_s"
   ]
  },
  {
   "cell_type": "code",
   "execution_count": null,
   "id": "89b00b91-b35a-47b4-809b-ea6def5d76ba",
   "metadata": {},
   "outputs": [],
   "source": []
  }
 ],
 "metadata": {
  "kernelspec": {
   "display_name": "Python 3 (ipykernel)",
   "language": "python",
   "name": "python3"
  },
  "language_info": {
   "codemirror_mode": {
    "name": "ipython",
    "version": 3
   },
   "file_extension": ".py",
   "mimetype": "text/x-python",
   "name": "python",
   "nbconvert_exporter": "python",
   "pygments_lexer": "ipython3",
   "version": "3.11.3"
  }
 },
 "nbformat": 4,
 "nbformat_minor": 5
}
