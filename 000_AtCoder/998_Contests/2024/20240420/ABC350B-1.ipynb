{
 "cells": [
  {
   "cell_type": "code",
   "execution_count": 1,
   "id": "2f3d39a8-29bd-410b-ada5-38b2bcf8c89b",
   "metadata": {
    "tags": []
   },
   "outputs": [],
   "source": [
    "import sys\n",
    "import numpy as np\n",
    "import math\n",
    "import collections\n",
    "import copy\n",
    "import decimal\n",
    "import itertools\n",
    "import re\n",
    "import bisect\n",
    "import scipy\n",
    "import heapq\n",
    "from collections import deque \n",
    "from functools import reduce\n",
    "from itertools import product\n",
    "from itertools import combinations\n",
    "from functools import lru_cache\n",
    "from scipy.special import comb\n",
    "from numba import njit\n",
    "from bisect import bisect_right\n",
    "from bisect import bisect_left\n",
    "from atcoder.fenwicktree import FenwickTree"
   ]
  },
  {
   "cell_type": "code",
   "execution_count": 13,
   "id": "a610b1d8-6461-4593-845e-68864cd0a278",
   "metadata": {
    "tags": []
   },
   "outputs": [
    {
     "name": "stdin",
     "output_type": "stream",
     "text": [
      " 9 20\n"
     ]
    }
   ],
   "source": [
    "N, Q = map(int, input().split())"
   ]
  },
  {
   "cell_type": "code",
   "execution_count": 14,
   "id": "85d55811-5938-4a42-a9aa-e99992940a28",
   "metadata": {
    "tags": []
   },
   "outputs": [
    {
     "name": "stdin",
     "output_type": "stream",
     "text": [
      " 9 5 1 2 2 2 8 9 2 1 6 2 6 5 8 7 8 5 9 8\n"
     ]
    }
   ],
   "source": [
    "Tq = list(map(int, input().split()))"
   ]
  },
  {
   "cell_type": "code",
   "execution_count": 18,
   "id": "861eb3b0-95a6-4ee9-a9ce-a0e33e9816ce",
   "metadata": {
    "tags": []
   },
   "outputs": [],
   "source": [
    "ta = [0] * 1001\n",
    "for i in range(1, N+1):\n",
    "    ta[i] = 1"
   ]
  },
  {
   "cell_type": "code",
   "execution_count": 16,
   "id": "e9cb28d8-3be9-4440-8335-1345a65877ae",
   "metadata": {
    "tags": []
   },
   "outputs": [],
   "source": [
    "for T in Tq:\n",
    "    ta[T] += 1\n",
    "    ta[T] %= 2\n"
   ]
  },
  {
   "cell_type": "code",
   "execution_count": 17,
   "id": "0d07e1fe-65b4-44a6-acc0-9fcad0bd60d4",
   "metadata": {
    "tags": []
   },
   "outputs": [
    {
     "name": "stdout",
     "output_type": "stream",
     "text": [
      "5\n"
     ]
    }
   ],
   "source": [
    "print(sum(ta))"
   ]
  },
  {
   "cell_type": "code",
   "execution_count": 19,
   "id": "70d8b8e7-db94-41d5-b1ee-9cf359d813d7",
   "metadata": {
    "tags": []
   },
   "outputs": [],
   "source": [
    "for T in Tq:\n",
    "    ta[T] ^= 1"
   ]
  },
  {
   "cell_type": "code",
   "execution_count": 20,
   "id": "452907fd-c859-4375-bc24-bab29d35ce46",
   "metadata": {
    "tags": []
   },
   "outputs": [
    {
     "name": "stdout",
     "output_type": "stream",
     "text": [
      "5\n"
     ]
    }
   ],
   "source": [
    "print(sum(ta))"
   ]
  },
  {
   "cell_type": "code",
   "execution_count": null,
   "id": "3547df6f-f526-4ddd-b7f6-314963385239",
   "metadata": {},
   "outputs": [],
   "source": []
  }
 ],
 "metadata": {
  "kernelspec": {
   "display_name": "Python 3 (ipykernel)",
   "language": "python",
   "name": "python3"
  },
  "language_info": {
   "codemirror_mode": {
    "name": "ipython",
    "version": 3
   },
   "file_extension": ".py",
   "mimetype": "text/x-python",
   "name": "python",
   "nbconvert_exporter": "python",
   "pygments_lexer": "ipython3",
   "version": "3.11.3"
  }
 },
 "nbformat": 4,
 "nbformat_minor": 5
}
