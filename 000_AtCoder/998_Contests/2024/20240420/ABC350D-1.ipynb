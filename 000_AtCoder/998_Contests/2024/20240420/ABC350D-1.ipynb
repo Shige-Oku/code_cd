{
 "cells": [
  {
   "cell_type": "code",
   "execution_count": 1,
   "id": "54a362cb-6791-426a-9e87-babfb01bbe04",
   "metadata": {
    "tags": []
   },
   "outputs": [],
   "source": [
    "import sys\n",
    "import numpy as np\n",
    "import math\n",
    "import collections\n",
    "import copy\n",
    "import decimal\n",
    "import itertools\n",
    "import re\n",
    "import bisect\n",
    "import scipy\n",
    "import heapq\n",
    "from collections import deque \n",
    "from functools import reduce\n",
    "from itertools import product\n",
    "from itertools import combinations\n",
    "from functools import lru_cache\n",
    "from scipy.special import comb\n",
    "from numba import njit\n",
    "from bisect import bisect_right\n",
    "from bisect import bisect_left\n",
    "from atcoder.fenwicktree import FenwickTree"
   ]
  },
  {
   "cell_type": "code",
   "execution_count": 41,
   "id": "31844b9a-1203-4294-a468-9b8856a89275",
   "metadata": {
    "tags": []
   },
   "outputs": [
    {
     "name": "stdin",
     "output_type": "stream",
     "text": [
      " 10 8\n"
     ]
    }
   ],
   "source": [
    "N, M = map(int, input().split())"
   ]
  },
  {
   "cell_type": "code",
   "execution_count": 42,
   "id": "455fd4de-5f76-4550-a620-9cdf3d200c29",
   "metadata": {
    "tags": []
   },
   "outputs": [
    {
     "name": "stdin",
     "output_type": "stream",
     "text": [
      " 1 2\n",
      " 2 3\n",
      " 3 4\n",
      " 4 5\n",
      " 6 7\n",
      " 7 8\n",
      " 8 9\n",
      " 9 10\n"
     ]
    }
   ],
   "source": [
    "ABm = [list(map(int, input().split())) for _ in range(M)]"
   ]
  },
  {
   "cell_type": "code",
   "execution_count": null,
   "id": "6c32c83e-f03a-4b30-ba4d-578bf22f8629",
   "metadata": {},
   "outputs": [],
   "source": [
    "# コンテスト就労後にAC"
   ]
  },
  {
   "cell_type": "code",
   "execution_count": 71,
   "id": "bfe72df1-35ab-4d76-9095-cde8511b09c6",
   "metadata": {
    "tags": []
   },
   "outputs": [],
   "source": [
    "graph = [[] for _ in range(N+1)]\n",
    "for A, B in ABm:\n",
    "    graph[A].append(B)\n",
    "    graph[B].append(A)"
   ]
  },
  {
   "cell_type": "code",
   "execution_count": 75,
   "id": "03287cc4-473b-4073-8118-b32cfdd28bb1",
   "metadata": {
    "tags": []
   },
   "outputs": [],
   "source": [
    "from collections import deque\n",
    "def bfs(s):\n",
    "    v, e = 1, 0\n",
    "    q = deque()\n",
    "    q.append(s)\n",
    "    visit[s] = True\n",
    "    while q:\n",
    "        p = q.popleft()\n",
    "        for ne in graph[p]:\n",
    "            e += 1\n",
    "            if visit[ne]:\n",
    "                continue\n",
    "            q.append(ne)\n",
    "            visit[ne] = True\n",
    "            v += 1\n",
    "    return v, e//2"
   ]
  },
  {
   "cell_type": "code",
   "execution_count": 76,
   "id": "ea15682d-c3fb-41b7-b01f-a7cf139d99ab",
   "metadata": {
    "tags": []
   },
   "outputs": [],
   "source": [
    "ans = 0\n",
    "visit = [False] * (N+1)\n",
    "for i in range(1, N+1):\n",
    "    if not visit[i]:\n",
    "        v, e = bfs(i)\n",
    "        ans += v * (v-1) // 2 - e"
   ]
  },
  {
   "cell_type": "code",
   "execution_count": 77,
   "id": "0bb8b787-0294-4cfe-8e07-e425e7de9474",
   "metadata": {
    "tags": []
   },
   "outputs": [
    {
     "name": "stdout",
     "output_type": "stream",
     "text": [
      "12\n"
     ]
    }
   ],
   "source": [
    "print(ans)"
   ]
  },
  {
   "cell_type": "code",
   "execution_count": 55,
   "id": "95d38c28-a193-4f0d-af1f-f4e3e65b9c8b",
   "metadata": {
    "tags": []
   },
   "outputs": [],
   "source": [
    "ans = set()\n",
    "for i in range(1, N+1):\n",
    "    for f in graph[i]:\n",
    "        for f2 in graph[f]:\n",
    "            a = tuple(sorted((i, f, f2)))\n",
    "            if f2 == i:\n",
    "                continue\n",
    "            if a in ans:\n",
    "                continue\n",
    "            ans.add(a)\n"
   ]
  },
  {
   "cell_type": "code",
   "execution_count": 57,
   "id": "bb88dd8e-3fe2-497e-aaf1-07c6276d93a8",
   "metadata": {
    "tags": []
   },
   "outputs": [
    {
     "name": "stdout",
     "output_type": "stream",
     "text": [
      "6\n"
     ]
    }
   ],
   "source": [
    "print(len(ans))"
   ]
  },
  {
   "cell_type": "code",
   "execution_count": 59,
   "id": "8a1949d2-28e0-4fbf-b737-88e52f8305e5",
   "metadata": {
    "tags": []
   },
   "outputs": [
    {
     "data": {
      "text/plain": [
       "(tuple,\n",
       " (9, 10, 10),\n",
       " {(1, 2, 3), (2, 3, 4), (3, 4, 5), (6, 7, 8), (7, 8, 9), (8, 9, 10)})"
      ]
     },
     "execution_count": 59,
     "metadata": {},
     "output_type": "execute_result"
    }
   ],
   "source": [
    "type(a), a, ans"
   ]
  },
  {
   "cell_type": "code",
   "execution_count": 29,
   "id": "4801d29b-272a-4d86-bcb7-6c1eaea0b48e",
   "metadata": {
    "tags": []
   },
   "outputs": [
    {
     "name": "stdout",
     "output_type": "stream",
     "text": [
      "{2, 4}\n",
      "{2, 4} 3\n"
     ]
    },
    {
     "ename": "RuntimeError",
     "evalue": "Set changed size during iteration",
     "output_type": "error",
     "traceback": [
      "\u001b[1;31m---------------------------------------------------------------------------\u001b[0m",
      "\u001b[1;31mRuntimeError\u001b[0m                              Traceback (most recent call last)",
      "Cell \u001b[1;32mIn[29], line 8\u001b[0m\n\u001b[0;32m      6\u001b[0m fs \u001b[38;5;241m=\u001b[39m graph[i]\n\u001b[0;32m      7\u001b[0m \u001b[38;5;28mprint\u001b[39m(fs)\n\u001b[1;32m----> 8\u001b[0m \u001b[38;5;28;01mfor\u001b[39;00m f \u001b[38;5;129;01min\u001b[39;00m fs:\n\u001b[0;32m      9\u001b[0m     \u001b[38;5;28mprint\u001b[39m(fs, f2)\n\u001b[0;32m     10\u001b[0m     \u001b[38;5;28;01mfor\u001b[39;00m f2 \u001b[38;5;129;01min\u001b[39;00m graph[f]:\n",
      "\u001b[1;31mRuntimeError\u001b[0m: Set changed size during iteration"
     ]
    }
   ],
   "source": [
    "ans = 0\n",
    "for i in range(1, N+1):\n",
    "    s = set()\n",
    "    i = 1\n",
    "    while i < N:\n",
    "        j = 0\n",
    "        while j < len(graph[i]):\n",
    "            n1 = graph[i]\n",
    "            for f2 in graph[f]:\n",
    "                if f2 in graph[i]:\n",
    "                    print('cont')\n",
    "                    continue\n",
    "                ans += 1\n",
    "                s.add(f2)\n",
    "                graph[f2].add(i)\n",
    "        i += 1\n",
    "    for ss in s:\n",
    "        graph[i].add"
   ]
  },
  {
   "cell_type": "code",
   "execution_count": 21,
   "id": "9e431637-c383-41f6-9c1d-de3306e2468e",
   "metadata": {
    "tags": []
   },
   "outputs": [
    {
     "name": "stdout",
     "output_type": "stream",
     "text": [
      "0\n"
     ]
    }
   ],
   "source": [
    "print(ans)"
   ]
  },
  {
   "cell_type": "code",
   "execution_count": 22,
   "id": "41f24bcd-1459-4615-bbfd-172a4df09ac6",
   "metadata": {
    "tags": []
   },
   "outputs": [
    {
     "data": {
      "text/plain": [
       "[set(), {2, 4}, {1, 3}, {2}, {1}]"
      ]
     },
     "execution_count": 22,
     "metadata": {},
     "output_type": "execute_result"
    }
   ],
   "source": [
    "graph"
   ]
  },
  {
   "cell_type": "code",
   "execution_count": 31,
   "id": "6304e4f9-5da5-4a11-a196-14e9d8d4d7a9",
   "metadata": {
    "tags": []
   },
   "outputs": [
    {
     "ename": "TypeError",
     "evalue": "'set' object is not subscriptable",
     "output_type": "error",
     "traceback": [
      "\u001b[1;31m---------------------------------------------------------------------------\u001b[0m",
      "\u001b[1;31mTypeError\u001b[0m                                 Traceback (most recent call last)",
      "Cell \u001b[1;32mIn[31], line 1\u001b[0m\n\u001b[1;32m----> 1\u001b[0m graph[\u001b[38;5;241m1\u001b[39m][\u001b[38;5;241m1\u001b[39m]\n",
      "\u001b[1;31mTypeError\u001b[0m: 'set' object is not subscriptable"
     ]
    }
   ],
   "source": [
    "graph[1][1]"
   ]
  },
  {
   "cell_type": "code",
   "execution_count": null,
   "id": "610a3746-3037-467c-a3b6-52f6ef20f6e8",
   "metadata": {},
   "outputs": [],
   "source": []
  }
 ],
 "metadata": {
  "kernelspec": {
   "display_name": "Python 3 (ipykernel)",
   "language": "python",
   "name": "python3"
  },
  "language_info": {
   "codemirror_mode": {
    "name": "ipython",
    "version": 3
   },
   "file_extension": ".py",
   "mimetype": "text/x-python",
   "name": "python",
   "nbconvert_exporter": "python",
   "pygments_lexer": "ipython3",
   "version": "3.11.3"
  }
 },
 "nbformat": 4,
 "nbformat_minor": 5
}
