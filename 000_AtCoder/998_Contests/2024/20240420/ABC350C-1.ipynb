{
 "cells": [
  {
   "cell_type": "code",
   "execution_count": 1,
   "id": "d62ffcee-23ed-4a6f-80d8-9bece8121463",
   "metadata": {
    "tags": []
   },
   "outputs": [],
   "source": [
    "import sys\n",
    "import numpy as np\n",
    "import math\n",
    "import collections\n",
    "import copy\n",
    "import decimal\n",
    "import itertools\n",
    "import re\n",
    "import bisect\n",
    "import scipy\n",
    "import heapq\n",
    "from collections import deque \n",
    "from functools import reduce\n",
    "from itertools import product\n",
    "from itertools import combinations\n",
    "from functools import lru_cache\n",
    "from scipy.special import comb\n",
    "from numba import njit\n",
    "from bisect import bisect_right\n",
    "from bisect import bisect_left\n",
    "from atcoder.fenwicktree import FenwickTree"
   ]
  },
  {
   "cell_type": "code",
   "execution_count": 122,
   "id": "395c281e-0e4b-40fa-b885-d7bb1d3c2b3e",
   "metadata": {
    "tags": []
   },
   "outputs": [
    {
     "name": "stdin",
     "output_type": "stream",
     "text": [
      " 3\n"
     ]
    }
   ],
   "source": [
    "N = int(input())"
   ]
  },
  {
   "cell_type": "code",
   "execution_count": 123,
   "id": "cd824282-08e8-428a-a301-2b952c31f04e",
   "metadata": {
    "tags": []
   },
   "outputs": [
    {
     "name": "stdin",
     "output_type": "stream",
     "text": [
      " 3 1 2\n"
     ]
    }
   ],
   "source": [
    "An = list(map(int, input().split()))"
   ]
  },
  {
   "cell_type": "code",
   "execution_count": 135,
   "id": "e50bfb5f-2fa7-4be0-8540-e56fb84dd203",
   "metadata": {
    "tags": []
   },
   "outputs": [],
   "source": [
    "An_2 = []\n",
    "for A in An:\n",
    "    An_2.append(A)\n",
    "ai = {}\n",
    "for i, A in enumerate(An_2, 1):\n",
    "    ai[A] = i"
   ]
  },
  {
   "cell_type": "code",
   "execution_count": 137,
   "id": "85423df4-0fc1-469a-a42f-37de6e86ee51",
   "metadata": {
    "tags": []
   },
   "outputs": [
    {
     "name": "stdout",
     "output_type": "stream",
     "text": [
      "{3: 2, 1: 1, 2: 3} [1, 3, 2]\n",
      "{3: 3, 1: 1, 2: 2} [1, 2, 3]\n"
     ]
    }
   ],
   "source": [
    "ans = []\n",
    "for i in range(1, N+1):\n",
    "    # print(An_2)\n",
    "    # print(An_2[i-1], i)\n",
    "    if An_2[i-1] == i:\n",
    "        continue\n",
    "    if ai[i] == i:\n",
    "        continue\n",
    "    n = An_2[i-1]\n",
    "    ni = ai[i]\n",
    "    ans.append((min(i, ni), max(i, ni)))\n",
    "    An_2[i-1], An_2[ni-1] = i, n\n",
    "    ai[i], ai[n] = i, ai[i]\n",
    "    # print(ai, An_2)\n"
   ]
  },
  {
   "cell_type": "code",
   "execution_count": 138,
   "id": "96cd5683-f1af-4da2-a120-f08374a78e72",
   "metadata": {
    "tags": []
   },
   "outputs": [
    {
     "name": "stdout",
     "output_type": "stream",
     "text": [
      "2\n",
      "1 2\n",
      "2 3\n"
     ]
    }
   ],
   "source": [
    "print(len(ans))\n",
    "for i, j in ans:\n",
    "    print(i, j)"
   ]
  },
  {
   "cell_type": "code",
   "execution_count": 127,
   "id": "fae5affd-6d26-4c74-9718-1e8513d38b00",
   "metadata": {
    "tags": []
   },
   "outputs": [
    {
     "data": {
      "text/plain": [
       "{3: 3, 1: 1, 2: 2}"
      ]
     },
     "execution_count": 127,
     "metadata": {},
     "output_type": "execute_result"
    }
   ],
   "source": [
    "ai"
   ]
  },
  {
   "cell_type": "code",
   "execution_count": 128,
   "id": "a66791ff-7dc6-4a8b-8b79-f2eeec6d18be",
   "metadata": {
    "tags": []
   },
   "outputs": [
    {
     "data": {
      "text/plain": [
       "[1, 2, 3]"
      ]
     },
     "execution_count": 128,
     "metadata": {},
     "output_type": "execute_result"
    }
   ],
   "source": [
    "An_2"
   ]
  },
  {
   "cell_type": "code",
   "execution_count": 134,
   "id": "5068005f-cbb2-4540-a8c0-a8d2f6049d9a",
   "metadata": {
    "tags": []
   },
   "outputs": [
    {
     "data": {
      "text/plain": [
       "[(1, 3), (2, 3)]"
      ]
     },
     "execution_count": 134,
     "metadata": {},
     "output_type": "execute_result"
    }
   ],
   "source": [
    "ans"
   ]
  },
  {
   "cell_type": "code",
   "execution_count": null,
   "id": "9f3b67f2-7541-4c3a-9dff-daa521f3e609",
   "metadata": {},
   "outputs": [],
   "source": []
  }
 ],
 "metadata": {
  "kernelspec": {
   "display_name": "Python 3 (ipykernel)",
   "language": "python",
   "name": "python3"
  },
  "language_info": {
   "codemirror_mode": {
    "name": "ipython",
    "version": 3
   },
   "file_extension": ".py",
   "mimetype": "text/x-python",
   "name": "python",
   "nbconvert_exporter": "python",
   "pygments_lexer": "ipython3",
   "version": "3.11.3"
  }
 },
 "nbformat": 4,
 "nbformat_minor": 5
}
