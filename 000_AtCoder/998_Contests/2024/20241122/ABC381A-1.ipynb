{
 "cells": [
  {
   "cell_type": "code",
   "execution_count": 1,
   "id": "3a21810f-1813-4a27-a4ce-b720592ffdf3",
   "metadata": {
    "tags": []
   },
   "outputs": [],
   "source": [
    "import sys\n",
    "import numpy as np\n",
    "import math\n",
    "import collections\n",
    "import copy\n",
    "import decimal\n",
    "import itertools\n",
    "import re\n",
    "import bisect\n",
    "import scipy\n",
    "import heapq\n",
    "from collections import deque \n",
    "from functools import reduce\n",
    "from itertools import product\n",
    "from itertools import combinations\n",
    "from functools import lru_cache\n",
    "from scipy.special import comb\n",
    "from numba import njit\n",
    "from bisect import bisect_right\n",
    "from bisect import bisect_left\n",
    "from atcoder.fenwicktree import FenwickTree\n",
    "from sortedcontainers import SortedSet, SortedList, SortedDict"
   ]
  },
  {
   "cell_type": "code",
   "execution_count": 31,
   "id": "23169d24-938c-434d-b5b9-fe70c57c851c",
   "metadata": {
    "tags": []
   },
   "outputs": [
    {
     "name": "stdin",
     "output_type": "stream",
     "text": [
      " 5\n"
     ]
    }
   ],
   "source": [
    "N = int(input())"
   ]
  },
  {
   "cell_type": "code",
   "execution_count": 32,
   "id": "c1655cdc-8453-4d9c-bf01-ac60cf497856",
   "metadata": {
    "tags": []
   },
   "outputs": [
    {
     "name": "stdin",
     "output_type": "stream",
     "text": [
      " 22/11\n"
     ]
    }
   ],
   "source": [
    "S = input()"
   ]
  },
  {
   "cell_type": "code",
   "execution_count": 33,
   "id": "42a956b1-221a-42e8-8211-d2a00ec1f282",
   "metadata": {
    "tags": []
   },
   "outputs": [
    {
     "name": "stdout",
     "output_type": "stream",
     "text": [
      "No\n"
     ]
    }
   ],
   "source": [
    "for i, s in enumerate(S):\n",
    "    if N % 2 == 0:\n",
    "        print('No')\n",
    "        break\n",
    "    if i < (N+1) // 2 - 1:\n",
    "        if s != '1':\n",
    "            print('No')\n",
    "            break\n",
    "    elif i == (N+1) // 2 - 1:\n",
    "        if s != '/':\n",
    "            print('No')\n",
    "            break\n",
    "    else:\n",
    "        if s != '2':\n",
    "            print('No')\n",
    "            break\n",
    "else:\n",
    "    print('Yes')\n"
   ]
  },
  {
   "cell_type": "code",
   "execution_count": 34,
   "id": "04da6101-19c8-4491-be26-7c4c8741e1ac",
   "metadata": {
    "tags": []
   },
   "outputs": [
    {
     "data": {
      "text/plain": [
       "(0, '2')"
      ]
     },
     "execution_count": 34,
     "metadata": {},
     "output_type": "execute_result"
    }
   ],
   "source": [
    "i, s"
   ]
  },
  {
   "cell_type": "code",
   "execution_count": 35,
   "id": "0f03f833-daa0-4577-a745-c6e469012f07",
   "metadata": {
    "tags": []
   },
   "outputs": [],
   "source": [
    "def check(s, e, c):\n",
    "    for i in range(s, e):\n",
    "        if S[i] != c:\n",
    "            return False\n",
    "    return True"
   ]
  },
  {
   "cell_type": "code",
   "execution_count": 36,
   "id": "f83391ba-b0cd-4711-894d-8b2a4e70f1be",
   "metadata": {},
   "outputs": [],
   "source": [
    "def solve():\n",
    "    if N % 2 == 0:\n",
    "        return False\n",
    "    \n",
    "    if not check(0, N//2, '1'):\n",
    "        return False\n",
    "\n",
    "    if not check(N//2, N//2+1, '/'):\n",
    "        return False\n",
    "\n",
    "    if not check(N//2+1, N, '2'):\n",
    "        return False\n",
    "\n",
    "    return True"
   ]
  },
  {
   "cell_type": "code",
   "execution_count": 37,
   "id": "27597a6f-fca2-4484-be11-f7a7bdc88c6b",
   "metadata": {
    "tags": []
   },
   "outputs": [
    {
     "name": "stdout",
     "output_type": "stream",
     "text": [
      "No\n"
     ]
    }
   ],
   "source": [
    "print('Yes' if solve() else 'No')"
   ]
  },
  {
   "cell_type": "code",
   "execution_count": 38,
   "id": "03d5df7d-1519-431f-b304-f988caaa5896",
   "metadata": {
    "tags": []
   },
   "outputs": [
    {
     "name": "stdout",
     "output_type": "stream",
     "text": [
      "No\n"
     ]
    }
   ],
   "source": [
    "one = N // 2\n",
    "T = '1' * one + '/' + '2' * one\n",
    "print('Yes' if S == T else 'No')"
   ]
  },
  {
   "cell_type": "code",
   "execution_count": null,
   "id": "1fac366c-4e7f-4212-8596-4889f5758052",
   "metadata": {},
   "outputs": [],
   "source": []
  }
 ],
 "metadata": {
  "kernelspec": {
   "display_name": "Python 3 (ipykernel)",
   "language": "python",
   "name": "python3"
  },
  "language_info": {
   "codemirror_mode": {
    "name": "ipython",
    "version": 3
   },
   "file_extension": ".py",
   "mimetype": "text/x-python",
   "name": "python",
   "nbconvert_exporter": "python",
   "pygments_lexer": "ipython3",
   "version": "3.11.3"
  }
 },
 "nbformat": 4,
 "nbformat_minor": 5
}
