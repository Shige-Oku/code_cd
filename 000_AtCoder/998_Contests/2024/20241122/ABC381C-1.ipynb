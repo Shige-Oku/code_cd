{
 "cells": [
  {
   "cell_type": "code",
   "execution_count": 1,
   "id": "f09f84c2-af15-47f3-bf65-1b03d5959003",
   "metadata": {
    "tags": []
   },
   "outputs": [],
   "source": [
    "import sys\n",
    "import numpy as np\n",
    "import math\n",
    "import collections\n",
    "import copy\n",
    "import decimal\n",
    "import itertools\n",
    "import re\n",
    "import bisect\n",
    "import scipy\n",
    "import heapq\n",
    "from collections import deque \n",
    "from functools import reduce\n",
    "from itertools import product\n",
    "from itertools import combinations\n",
    "from functools import lru_cache\n",
    "from scipy.special import comb\n",
    "from numba import njit\n",
    "from bisect import bisect_right\n",
    "from bisect import bisect_left\n",
    "from atcoder.fenwicktree import FenwickTree\n",
    "from sortedcontainers import SortedSet, SortedList, SortedDict"
   ]
  },
  {
   "cell_type": "code",
   "execution_count": 36,
   "id": "f5a7e77c-7229-440e-9915-26ecdeaf51ca",
   "metadata": {
    "tags": []
   },
   "outputs": [
    {
     "name": "stdin",
     "output_type": "stream",
     "text": [
      " 22\n"
     ]
    }
   ],
   "source": [
    "N = int(input())"
   ]
  },
  {
   "cell_type": "code",
   "execution_count": 37,
   "id": "b8344e72-49aa-437a-a26c-4c86a6cd1410",
   "metadata": {
    "tags": []
   },
   "outputs": [
    {
     "name": "stdin",
     "output_type": "stream",
     "text": [
      " /1211/2///2111/2222/11\n"
     ]
    }
   ],
   "source": [
    "S = input()"
   ]
  },
  {
   "cell_type": "code",
   "execution_count": 38,
   "id": "47146ed6-1c25-4aee-ad0a-b8b3e45aec26",
   "metadata": {
    "tags": []
   },
   "outputs": [],
   "source": [
    "f = False\n",
    "ans = 1\n",
    "i = 0\n",
    "oc, tc = 0, 0\n",
    "while i < N:\n",
    "    if S[i] == '1':\n",
    "        if i > 0 and S[i-1] != '1':\n",
    "            oc = 0\n",
    "            tc = 0\n",
    "        f = True\n",
    "        oc += 1\n",
    "    elif S[i] == '/':\n",
    "        if S[i-1] != '1':\n",
    "            f = False\n",
    "    else:\n",
    "        if S[i-1] == '1':\n",
    "            f = False\n",
    "        else:\n",
    "            tc += 1\n",
    "        \n",
    "    i += 1\n",
    "    if not f:\n",
    "        oc, tc = 0, 0\n",
    "        continue\n",
    "\n",
    "    ans = max(ans, min(oc, tc) * 2 + 1)\n",
    "        "
   ]
  },
  {
   "cell_type": "code",
   "execution_count": 39,
   "id": "e86bb066-3a54-4739-ad07-9b04c70b61d1",
   "metadata": {
    "tags": []
   },
   "outputs": [
    {
     "name": "stdout",
     "output_type": "stream",
     "text": [
      "7\n"
     ]
    }
   ],
   "source": [
    "print(ans)"
   ]
  },
  {
   "cell_type": "code",
   "execution_count": 40,
   "id": "b7fd814f-c610-4fa5-be94-37a299442c31",
   "metadata": {
    "tags": []
   },
   "outputs": [],
   "source": [
    "def cnt(n):\n",
    "    cnt1, cnt2 = 0, 0\n",
    "    for i in range(n-1, -1, -1):\n",
    "        if S[i] != '1':\n",
    "            break\n",
    "        cnt1 += 1\n",
    "        \n",
    "    for i in range(n+1, N):\n",
    "        if S[i] != '2':\n",
    "            break\n",
    "        cnt2 += 1\n",
    "\n",
    "    return min(cnt1, cnt2) * 2 + 1"
   ]
  },
  {
   "cell_type": "code",
   "execution_count": 41,
   "id": "5f23faf1-f9cc-4c7c-944a-ff333d8cea76",
   "metadata": {
    "tags": []
   },
   "outputs": [],
   "source": [
    "def solve():\n",
    "    ret = 0\n",
    "    for i, s in enumerate(S):\n",
    "        if s == '/':\n",
    "            ret = max(ret, cnt(i))\n",
    "    return ret"
   ]
  },
  {
   "cell_type": "code",
   "execution_count": 44,
   "id": "f37a4741-7a8f-493c-8b04-a9d4a3ac50fd",
   "metadata": {
    "tags": []
   },
   "outputs": [
    {
     "name": "stdout",
     "output_type": "stream",
     "text": [
      "7\n"
     ]
    }
   ],
   "source": [
    "print(solve())"
   ]
  },
  {
   "cell_type": "code",
   "execution_count": 45,
   "id": "185eb409-8f5c-4495-afe9-dd64653ede08",
   "metadata": {
    "tags": []
   },
   "outputs": [],
   "source": [
    "def cnt(n):\n",
    "    cnt = 0\n",
    "    while S2[n-cnt-1] == '1' and S2[n+cnt+1] == '2':\n",
    "        cnt += 1\n",
    "    \n",
    "    return cnt * 2 + 1"
   ]
  },
  {
   "cell_type": "code",
   "execution_count": 46,
   "id": "638ac34d-1880-47e4-a36a-41eef00f33a5",
   "metadata": {
    "tags": []
   },
   "outputs": [],
   "source": [
    "def solve():\n",
    "    ret = 0\n",
    "    for i, s in enumerate(S2):\n",
    "        if s == '/':\n",
    "            ret = max(ret, cnt(i))\n",
    "    return ret"
   ]
  },
  {
   "cell_type": "code",
   "execution_count": 47,
   "id": "f6388a06-4800-41c2-977a-4a4c5c5fb6ac",
   "metadata": {
    "tags": []
   },
   "outputs": [
    {
     "name": "stdout",
     "output_type": "stream",
     "text": [
      "7\n"
     ]
    }
   ],
   "source": [
    "S2 = '$' + S + '$'\n",
    "print(solve())"
   ]
  },
  {
   "cell_type": "code",
   "execution_count": 48,
   "id": "271ed2a1-0523-400c-8176-6e70fbb5536c",
   "metadata": {
    "tags": []
   },
   "outputs": [],
   "source": [
    "Sn = [[S[0], 0]]\n",
    "for i, s in enumerate(S):\n",
    "    if s == Sn[-1][0]:\n",
    "        Sn[-1][1] += 1\n",
    "    else:\n",
    "        Sn.append([s, 1])\n"
   ]
  },
  {
   "cell_type": "code",
   "execution_count": 51,
   "id": "9f7517f0-68a6-4e21-a7d0-161e65b40f83",
   "metadata": {
    "tags": []
   },
   "outputs": [],
   "source": [
    "def check(n):\n",
    "    if Sn[n][0] != '1':\n",
    "        return False\n",
    "    \n",
    "    if Sn[n+1][0] != '/':\n",
    "        return False\n",
    "    if Sn[n+1][1] != 1:\n",
    "        return False\n",
    "\n",
    "    if Sn[n+2][0] != '2':\n",
    "        return False\n",
    "    \n",
    "    return True"
   ]
  },
  {
   "cell_type": "code",
   "execution_count": 54,
   "id": "7105a903-4d1f-44fb-90d0-3e8aee38c373",
   "metadata": {
    "tags": []
   },
   "outputs": [],
   "source": [
    "ans = 1\n",
    "for i in range(len(Sn)-2):\n",
    "    if check(i):\n",
    "        now = min(Sn[i][1], Sn[i+2][1]) * 2 + 1\n",
    "        ans = max(ans, now)"
   ]
  },
  {
   "cell_type": "code",
   "execution_count": 53,
   "id": "3d6ff6af-337a-4e77-b40a-4ac8b7521cf7",
   "metadata": {
    "tags": []
   },
   "outputs": [
    {
     "name": "stdout",
     "output_type": "stream",
     "text": [
      "7\n"
     ]
    }
   ],
   "source": [
    "print(ans)"
   ]
  },
  {
   "cell_type": "code",
   "execution_count": 50,
   "id": "574eb3a1-b5fe-4c00-a7d2-c994931f3927",
   "metadata": {
    "tags": []
   },
   "outputs": [
    {
     "data": {
      "text/plain": [
       "([['/', 1],\n",
       "  ['1', 1],\n",
       "  ['2', 1],\n",
       "  ['1', 2],\n",
       "  ['/', 1],\n",
       "  ['2', 1],\n",
       "  ['/', 3],\n",
       "  ['2', 1],\n",
       "  ['1', 3],\n",
       "  ['/', 1],\n",
       "  ['2', 4],\n",
       "  ['/', 1],\n",
       "  ['1', 2]],\n",
       " 13)"
      ]
     },
     "execution_count": 50,
     "metadata": {},
     "output_type": "execute_result"
    }
   ],
   "source": [
    "Sn, len(Sn)"
   ]
  },
  {
   "cell_type": "code",
   "execution_count": null,
   "id": "91cf715c-9cd4-4b37-b0da-79eaf6b92f91",
   "metadata": {},
   "outputs": [],
   "source": []
  }
 ],
 "metadata": {
  "kernelspec": {
   "display_name": "Python 3 (ipykernel)",
   "language": "python",
   "name": "python3"
  },
  "language_info": {
   "codemirror_mode": {
    "name": "ipython",
    "version": 3
   },
   "file_extension": ".py",
   "mimetype": "text/x-python",
   "name": "python",
   "nbconvert_exporter": "python",
   "pygments_lexer": "ipython3",
   "version": "3.11.3"
  }
 },
 "nbformat": 4,
 "nbformat_minor": 5
}
