{
 "cells": [
  {
   "cell_type": "code",
   "execution_count": 1,
   "id": "39e26190-40c1-4624-8a69-93ba9e47bd5c",
   "metadata": {
    "tags": []
   },
   "outputs": [],
   "source": [
    "import sys\n",
    "import numpy as np\n",
    "import math\n",
    "import collections\n",
    "import copy\n",
    "import decimal\n",
    "import itertools\n",
    "import re\n",
    "import bisect\n",
    "import scipy\n",
    "import heapq\n",
    "from collections import deque \n",
    "from functools import reduce\n",
    "from itertools import product\n",
    "from itertools import combinations\n",
    "from functools import lru_cache\n",
    "from scipy.special import comb\n",
    "from numba import njit\n",
    "from bisect import bisect_right\n",
    "from bisect import bisect_left\n",
    "from atcoder.fenwicktree import FenwickTree\n",
    "from sortedcontainers import SortedSet, SortedList, SortedDict"
   ]
  },
  {
   "cell_type": "code",
   "execution_count": 21,
   "id": "6cb0784c-52ae-46ac-b473-9819b44bd5cf",
   "metadata": {
    "tags": []
   },
   "outputs": [
    {
     "name": "stdin",
     "output_type": "stream",
     "text": [
      " zzzzzz\n"
     ]
    }
   ],
   "source": [
    "S = input()"
   ]
  },
  {
   "cell_type": "code",
   "execution_count": 22,
   "id": "5bf7cc5f-050c-4fc7-9cd1-4fefb3bc6cea",
   "metadata": {
    "tags": []
   },
   "outputs": [],
   "source": [
    "from collections import Counter\n",
    "def solve():\n",
    "    if len(S) % 2 != 0:\n",
    "        return False\n",
    "    \n",
    "    s_d = Counter(S)\n",
    "    for k, v in s_d.items():\n",
    "        if v != 2:\n",
    "            return False\n",
    "        \n",
    "    for i, s in enumerate(S):\n",
    "        if i % 2 == 1:\n",
    "            if s != S[i-1]:\n",
    "                return False\n",
    "    return True"
   ]
  },
  {
   "cell_type": "code",
   "execution_count": 23,
   "id": "358efaa7-70d5-4338-ae01-d984ec4546d8",
   "metadata": {
    "tags": []
   },
   "outputs": [
    {
     "name": "stdout",
     "output_type": "stream",
     "text": [
      "No\n"
     ]
    }
   ],
   "source": [
    "print('Yes' if solve() else 'No')"
   ]
  },
  {
   "cell_type": "code",
   "execution_count": 7,
   "id": "cb2bd069-2cf3-45a6-a963-e2e8a880cbc9",
   "metadata": {
    "tags": []
   },
   "outputs": [],
   "source": [
    "from collections import Counter"
   ]
  },
  {
   "cell_type": "code",
   "execution_count": 8,
   "id": "c5b8cecc-edea-4d20-aa75-1aa504fde99e",
   "metadata": {
    "tags": []
   },
   "outputs": [],
   "source": [
    "s_d = Counter(S)"
   ]
  },
  {
   "cell_type": "code",
   "execution_count": 9,
   "id": "95392926-4925-4c9a-875c-7e0e269e057b",
   "metadata": {
    "tags": []
   },
   "outputs": [
    {
     "data": {
      "text/plain": [
       "Counter({'a': 2, 'b': 2, 'c': 2})"
      ]
     },
     "execution_count": 9,
     "metadata": {},
     "output_type": "execute_result"
    }
   ],
   "source": [
    "s_d"
   ]
  },
  {
   "cell_type": "code",
   "execution_count": null,
   "id": "cc464771-6593-42d1-9f38-f623c102570a",
   "metadata": {},
   "outputs": [],
   "source": []
  }
 ],
 "metadata": {
  "kernelspec": {
   "display_name": "Python 3 (ipykernel)",
   "language": "python",
   "name": "python3"
  },
  "language_info": {
   "codemirror_mode": {
    "name": "ipython",
    "version": 3
   },
   "file_extension": ".py",
   "mimetype": "text/x-python",
   "name": "python",
   "nbconvert_exporter": "python",
   "pygments_lexer": "ipython3",
   "version": "3.11.3"
  }
 },
 "nbformat": 4,
 "nbformat_minor": 5
}
