{
 "cells": [
  {
   "cell_type": "code",
   "execution_count": 1,
   "id": "80de26d0-1193-4dfd-9953-544920b67e0e",
   "metadata": {
    "tags": []
   },
   "outputs": [],
   "source": [
    "import sys\n",
    "import numpy as np\n",
    "import math\n",
    "import collections\n",
    "import copy\n",
    "import decimal\n",
    "import itertools\n",
    "import re\n",
    "import bisect\n",
    "import scipy\n",
    "import heapq\n",
    "from collections import deque \n",
    "from functools import reduce\n",
    "from itertools import product\n",
    "from itertools import combinations\n",
    "from functools import lru_cache\n",
    "from scipy.special import comb\n",
    "from numba import njit\n",
    "from bisect import bisect_right\n",
    "from bisect import bisect_left\n",
    "from atcoder.fenwicktree import FenwickTree\n",
    "from sortedcontainers import SortedSet, SortedList, SortedDict"
   ]
  },
  {
   "cell_type": "code",
   "execution_count": 1,
   "id": "a888015f-732a-442f-bf65-635efe73a6f6",
   "metadata": {
    "tags": []
   },
   "outputs": [
    {
     "name": "stdin",
     "output_type": "stream",
     "text": [
      " 8\n"
     ]
    }
   ],
   "source": [
    "N = int(input())"
   ]
  },
  {
   "cell_type": "code",
   "execution_count": 2,
   "id": "7a8c008d-b172-424d-9c10-5e3482146bf3",
   "metadata": {
    "tags": []
   },
   "outputs": [
    {
     "name": "stdin",
     "output_type": "stream",
     "text": [
      "  1 2 2 2 3 3 4 4 \n"
     ]
    }
   ],
   "source": [
    "An = list(map(int, input().split()))"
   ]
  },
  {
   "cell_type": "code",
   "execution_count": 3,
   "id": "a95aa472-7319-48cf-9940-8f9ebe187049",
   "metadata": {
    "tags": []
   },
   "outputs": [],
   "source": [
    "An2 = [[An[0], 0]]\n",
    "for i, A in enumerate(An):\n",
    "    if A == An2[-1][0]:\n",
    "        An2[-1][1] += 1\n",
    "    else:\n",
    "        An2.append([A, 1])\n"
   ]
  },
  {
   "cell_type": "code",
   "execution_count": 8,
   "id": "28232e59-5f42-4fd0-90d6-de16424a4be2",
   "metadata": {
    "tags": []
   },
   "outputs": [],
   "source": [
    "import heapq\n",
    "ans = 0\n",
    "q = []\n",
    "s = set()\n",
    "for i, (A, cnt) in enumerate(An2):\n",
    "    if cnt == 1:\n",
    "        ans = max(ans, len(q)*2)\n",
    "        q = []\n",
    "        s = set()\n",
    "        continue\n",
    "    if cnt != 2:\n",
    "        if A in s:\n",
    "            ans = max(ans, (len(q) * 2))\n",
    "        else:\n",
    "            ans = max(ans, (len(q)+1) * 2)\n",
    "        q = []\n",
    "        heapq.heappush(q, (i, A))\n",
    "        s = set()\n",
    "        s.add(A)\n",
    "        ans = max(ans, len(q)*2)\n",
    "        continue\n",
    "    \n",
    "    if A in s:\n",
    "        while q:\n",
    "            p, v = heapq.heappop(q)\n",
    "            s.discard(v)\n",
    "            if v == A:\n",
    "                break\n",
    "    heapq.heappush(q, (i, A))\n",
    "    s.add(A)\n",
    "    ans = max(ans, len(q)*2, len(s)*2)\n"
   ]
  },
  {
   "cell_type": "code",
   "execution_count": 9,
   "id": "9a815dd6-1457-499f-b4d4-dfcc87caa172",
   "metadata": {
    "tags": []
   },
   "outputs": [
    {
     "name": "stdout",
     "output_type": "stream",
     "text": [
      "6\n"
     ]
    }
   ],
   "source": [
    "print(ans)"
   ]
  },
  {
   "cell_type": "code",
   "execution_count": 81,
   "id": "d4a9dd7f-8693-4999-a2c0-fdcf140349df",
   "metadata": {
    "tags": []
   },
   "outputs": [
    {
     "data": {
      "text/plain": [
       "[[1, 1], [2, 2], [3, 2], [4, 2], [1, 1]]"
      ]
     },
     "execution_count": 81,
     "metadata": {},
     "output_type": "execute_result"
    }
   ],
   "source": [
    "An2"
   ]
  },
  {
   "cell_type": "code",
   "execution_count": null,
   "id": "ba381af1-7d10-430e-b747-d8f48bf0bad5",
   "metadata": {},
   "outputs": [],
   "source": []
  },
  {
   "cell_type": "code",
   "execution_count": 91,
   "id": "c8321428-1a7c-4b1c-a56d-50dc4e45118c",
   "metadata": {
    "tags": []
   },
   "outputs": [],
   "source": [
    "import heapq\n",
    "ans = 0\n",
    "q = []\n",
    "s = set()\n",
    "for i, (A, cnt) in enumerate(An2):\n",
    "    ans = max(ans, len(q)*2, len(s)*2)\n",
    "    if cnt == 1:\n",
    "        ans = max(ans, len(q) * 2, len(s)*2)\n",
    "        q = []\n",
    "        s = set()\n",
    "        continue\n",
    "    if cnt != 2:\n",
    "        if A in s:\n",
    "            ans = max(ans, (len(q) * 2))\n",
    "        else:\n",
    "            ans = max(ans, (len(q)+1) * 2, len(s)*2)\n",
    "        q = []\n",
    "        heapq.heappush(q, (i, A))\n",
    "        s = set()\n",
    "        s.add(A)\n",
    "        ans = max(ans, len(q)*2)\n",
    "        continue\n",
    "    \n",
    "    ans = max(ans, len(q)*2, len(s)*2)\n",
    "    if A in s:\n",
    "        while q:\n",
    "            p, v = heapq.heappop(q)\n",
    "            s.discard(v)\n",
    "            if v == A:\n",
    "                break\n",
    "    heapq.heappush(q, (i, A))\n",
    "    s.add(A)\n",
    "    ans = max(ans, len(q)*2, len(s)*2)\n",
    "else:\n",
    "    ans = max(ans, len(q)*2, len(s)*2)\n"
   ]
  },
  {
   "cell_type": "code",
   "execution_count": 10,
   "id": "6017a159-038e-4b05-a1a0-a47665a8bd55",
   "metadata": {
    "tags": []
   },
   "outputs": [
    {
     "data": {
      "text/plain": [
       "[2, 3, 1, 1, 2, 2, 1, 1]"
      ]
     },
     "execution_count": 10,
     "metadata": {},
     "output_type": "execute_result"
    }
   ],
   "source": [
    "An"
   ]
  },
  {
   "cell_type": "code",
   "execution_count": null,
   "id": "7a888e44-d660-43d2-b2a0-44b7d436165b",
   "metadata": {},
   "outputs": [],
   "source": []
  }
 ],
 "metadata": {
  "kernelspec": {
   "display_name": "Python 3 (ipykernel)",
   "language": "python",
   "name": "python3"
  },
  "language_info": {
   "codemirror_mode": {
    "name": "ipython",
    "version": 3
   },
   "file_extension": ".py",
   "mimetype": "text/x-python",
   "name": "python",
   "nbconvert_exporter": "python",
   "pygments_lexer": "ipython3",
   "version": "3.11.3"
  }
 },
 "nbformat": 4,
 "nbformat_minor": 5
}
