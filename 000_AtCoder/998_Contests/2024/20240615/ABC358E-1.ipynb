{
 "cells": [
  {
   "cell_type": "code",
   "execution_count": 1,
   "id": "421e28b0-3f32-45ca-a1b1-1997997d8ac9",
   "metadata": {
    "tags": []
   },
   "outputs": [],
   "source": [
    "import sys\n",
    "import numpy as np\n",
    "import math\n",
    "import collections\n",
    "import copy\n",
    "import decimal\n",
    "import itertools\n",
    "import re\n",
    "import bisect\n",
    "import scipy\n",
    "import heapq\n",
    "from collections import deque \n",
    "from functools import reduce\n",
    "from itertools import product\n",
    "from itertools import combinations\n",
    "from functools import lru_cache\n",
    "from scipy.special import comb\n",
    "from numba import njit\n",
    "from bisect import bisect_right\n",
    "from bisect import bisect_left\n",
    "from atcoder.fenwicktree import FenwickTree\n",
    "from sortedcontainers import SortedList"
   ]
  },
  {
   "cell_type": "code",
   "execution_count": 31,
   "id": "ecaca61c-323b-4fdc-a5fa-87d32323f054",
   "metadata": {
    "tags": []
   },
   "outputs": [
    {
     "name": "stdin",
     "output_type": "stream",
     "text": [
      " 2\n"
     ]
    }
   ],
   "source": [
    "K = int(input())"
   ]
  },
  {
   "cell_type": "code",
   "execution_count": 32,
   "id": "d01fcdee-540c-47cf-b3d9-68c00affdd3c",
   "metadata": {
    "tags": []
   },
   "outputs": [
    {
     "name": "stdin",
     "output_type": "stream",
     "text": [
      " 2 1 1 0 0 0 0 0 0 0 0 0 0 0 0 0 0 0 0 0 0 0 0 0 0 0\n"
     ]
    }
   ],
   "source": [
    "C26 = list(map(int, input().split()))"
   ]
  },
  {
   "cell_type": "code",
   "execution_count": 36,
   "id": "778f5f83-5a05-4784-b2a3-aad595e7dafa",
   "metadata": {
    "tags": []
   },
   "outputs": [],
   "source": [
    "import sys\n",
    "sys.setrecursionlimit(10**4)\n",
    "def dfs(n, cnt):\n",
    "    ret = 0\n",
    "    if n >= K:\n",
    "        return 1\n",
    "    for i in range(26):\n",
    "        if cnt[i] > 0:\n",
    "            cnt[i] -= 1\n",
    "            ret += dfs(n+1, cnt)\n",
    "            ret += 1\n",
    "    return ret"
   ]
  },
  {
   "cell_type": "code",
   "execution_count": 37,
   "id": "7d257f79-ad66-4585-9798-7eba430f4b45",
   "metadata": {
    "tags": []
   },
   "outputs": [],
   "source": [
    "import copy\n",
    "ans = 0\n",
    "for i in range(26):\n",
    "    if C26[i] > 0:\n",
    "        c = copy.deepcopy(C26)\n",
    "        ans += dfs(1, c)"
   ]
  },
  {
   "cell_type": "code",
   "execution_count": 38,
   "id": "33ea9b3c-47d9-447c-a389-e19bbf3cc23c",
   "metadata": {
    "tags": []
   },
   "outputs": [
    {
     "name": "stdout",
     "output_type": "stream",
     "text": [
      "18\n"
     ]
    }
   ],
   "source": [
    "print(ans)"
   ]
  },
  {
   "cell_type": "code",
   "execution_count": 4,
   "id": "46b131e1-13e9-49da-8929-b50e9c4b7c94",
   "metadata": {
    "tags": []
   },
   "outputs": [
    {
     "data": {
      "text/plain": [
       "26"
      ]
     },
     "execution_count": 4,
     "metadata": {},
     "output_type": "execute_result"
    }
   ],
   "source": [
    "len(C26)"
   ]
  },
  {
   "cell_type": "code",
   "execution_count": 10,
   "id": "25aa6a49-a438-46e3-a02f-4ed4565dde88",
   "metadata": {
    "tags": []
   },
   "outputs": [
    {
     "data": {
      "text/plain": [
       "729000"
      ]
     },
     "execution_count": 10,
     "metadata": {},
     "output_type": "execute_result"
    }
   ],
   "source": [
    "27*27*1000"
   ]
  },
  {
   "cell_type": "code",
   "execution_count": 39,
   "id": "b54c2c06-d1ee-4330-969b-d8169835ebf5",
   "metadata": {
    "tags": []
   },
   "outputs": [
    {
     "data": {
      "text/plain": [
       "27000000"
      ]
     },
     "execution_count": 39,
     "metadata": {},
     "output_type": "execute_result"
    }
   ],
   "source": [
    "27*1000*1000"
   ]
  },
  {
   "cell_type": "code",
   "execution_count": null,
   "id": "b75e51f9-5a7a-40a8-971f-a8094d4f515f",
   "metadata": {},
   "outputs": [],
   "source": []
  }
 ],
 "metadata": {
  "kernelspec": {
   "display_name": "Python 3 (ipykernel)",
   "language": "python",
   "name": "python3"
  },
  "language_info": {
   "codemirror_mode": {
    "name": "ipython",
    "version": 3
   },
   "file_extension": ".py",
   "mimetype": "text/x-python",
   "name": "python",
   "nbconvert_exporter": "python",
   "pygments_lexer": "ipython3",
   "version": "3.11.3"
  }
 },
 "nbformat": 4,
 "nbformat_minor": 5
}
