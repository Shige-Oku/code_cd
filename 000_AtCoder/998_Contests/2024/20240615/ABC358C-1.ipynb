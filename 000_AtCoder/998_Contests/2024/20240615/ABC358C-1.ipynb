{
 "cells": [
  {
   "cell_type": "code",
   "execution_count": 1,
   "id": "0417ebc1-f10b-445d-9627-0915b978767e",
   "metadata": {
    "tags": []
   },
   "outputs": [],
   "source": [
    "import sys\n",
    "import numpy as np\n",
    "import math\n",
    "import collections\n",
    "import copy\n",
    "import decimal\n",
    "import itertools\n",
    "import re\n",
    "import bisect\n",
    "import scipy\n",
    "import heapq\n",
    "from collections import deque \n",
    "from functools import reduce\n",
    "from itertools import product\n",
    "from itertools import combinations\n",
    "from functools import lru_cache\n",
    "from scipy.special import comb\n",
    "from numba import njit\n",
    "from bisect import bisect_right\n",
    "from bisect import bisect_left\n",
    "from atcoder.fenwicktree import FenwickTree\n",
    "from sortedcontainers import SortedList"
   ]
  },
  {
   "cell_type": "code",
   "execution_count": 2,
   "id": "9a0f768f-3a3e-4935-bf8d-0bc16b4473db",
   "metadata": {
    "tags": []
   },
   "outputs": [
    {
     "name": "stdin",
     "output_type": "stream",
     "text": [
      " 3 5\n"
     ]
    }
   ],
   "source": [
    "N, M = map(int, input().split())"
   ]
  },
  {
   "cell_type": "code",
   "execution_count": 3,
   "id": "7d490085-92cc-446b-b676-74258b22e37a",
   "metadata": {
    "tags": []
   },
   "outputs": [
    {
     "name": "stdin",
     "output_type": "stream",
     "text": [
      " oooxx\n",
      " xooox\n",
      " xxooo\n"
     ]
    }
   ],
   "source": [
    "Sn = [input() for _ in range(N)]"
   ]
  },
  {
   "cell_type": "code",
   "execution_count": 9,
   "id": "f24c4c4a-0123-4aa6-939f-6d0c37bf10df",
   "metadata": {
    "tags": []
   },
   "outputs": [],
   "source": [
    "ans = M\n",
    "from itertools import product\n",
    "for P in product([0, 1], repeat=N):\n",
    "    pp = set()\n",
    "    for i, p in enumerate(P):\n",
    "        if p == 0:\n",
    "            continue\n",
    "        S = Sn[i]\n",
    "        for j, s in enumerate(S):\n",
    "            if s == 'o':\n",
    "                pp.add(j)\n",
    "        if len(pp) >= M:\n",
    "            ans = min(ans, sum(P))"
   ]
  },
  {
   "cell_type": "code",
   "execution_count": 10,
   "id": "2c768d3a-b99c-4b17-b627-91561bad71ac",
   "metadata": {
    "tags": []
   },
   "outputs": [
    {
     "name": "stdout",
     "output_type": "stream",
     "text": [
      "2\n"
     ]
    }
   ],
   "source": [
    "print(ans)"
   ]
  },
  {
   "cell_type": "code",
   "execution_count": 5,
   "id": "d8ca5283-38cb-49be-8cc8-ca4f0576cb51",
   "metadata": {
    "tags": []
   },
   "outputs": [
    {
     "name": "stdout",
     "output_type": "stream",
     "text": [
      "(0, 0, 0)\n",
      "(0, 0, 1)\n",
      "(0, 1, 0)\n",
      "(0, 1, 1)\n",
      "(1, 0, 0)\n",
      "(1, 0, 1)\n",
      "(1, 1, 0)\n",
      "(1, 1, 1)\n"
     ]
    }
   ],
   "source": [
    "from itertools import product\n",
    "for P in product([0, 1], repeat=N):\n",
    "    print(P)"
   ]
  },
  {
   "cell_type": "code",
   "execution_count": null,
   "id": "589d6869-a0f2-4db4-ab0d-72a6ba561e58",
   "metadata": {},
   "outputs": [],
   "source": []
  }
 ],
 "metadata": {
  "kernelspec": {
   "display_name": "Python 3 (ipykernel)",
   "language": "python",
   "name": "python3"
  },
  "language_info": {
   "codemirror_mode": {
    "name": "ipython",
    "version": 3
   },
   "file_extension": ".py",
   "mimetype": "text/x-python",
   "name": "python",
   "nbconvert_exporter": "python",
   "pygments_lexer": "ipython3",
   "version": "3.11.3"
  }
 },
 "nbformat": 4,
 "nbformat_minor": 5
}
