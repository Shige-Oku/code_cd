{
 "cells": [
  {
   "cell_type": "code",
   "execution_count": 1,
   "id": "5693536d-d4bc-4299-a049-014d8312f4e0",
   "metadata": {
    "tags": []
   },
   "outputs": [],
   "source": [
    "import sys\n",
    "import numpy as np\n",
    "import math\n",
    "import collections\n",
    "import copy\n",
    "import decimal\n",
    "import itertools\n",
    "import re\n",
    "import bisect\n",
    "import scipy\n",
    "import heapq\n",
    "from collections import deque \n",
    "from functools import reduce\n",
    "from itertools import product\n",
    "from itertools import combinations\n",
    "from functools import lru_cache\n",
    "from scipy.special import comb\n",
    "from numba import njit\n",
    "from bisect import bisect_right\n",
    "from bisect import bisect_left\n",
    "from atcoder.fenwicktree import FenwickTree\n",
    "from sortedcontainers import SortedList"
   ]
  },
  {
   "cell_type": "code",
   "execution_count": 21,
   "id": "b52d0364-95d7-4a42-a7b5-349654792c2a",
   "metadata": {
    "tags": []
   },
   "outputs": [
    {
     "name": "stdin",
     "output_type": "stream",
     "text": [
      " 5 8\n"
     ]
    }
   ],
   "source": [
    "N, M = map(int, input().split())"
   ]
  },
  {
   "cell_type": "code",
   "execution_count": 22,
   "id": "2796bef9-e316-483b-b0cb-c7ae906febcf",
   "metadata": {
    "tags": []
   },
   "outputs": [
    {
     "name": "stdin",
     "output_type": "stream",
     "text": [
      " 928448202 994752369 906965437 942744902 907560126\n"
     ]
    }
   ],
   "source": [
    "An = list(map(int, input().split()))"
   ]
  },
  {
   "cell_type": "code",
   "execution_count": 23,
   "id": "b01c3d75-b718-4435-bcc1-a048729ea8ae",
   "metadata": {
    "tags": []
   },
   "outputs": [
    {
     "name": "stdin",
     "output_type": "stream",
     "text": [
      " 2 5 975090662\n",
      " 1 2 908843627\n",
      " 1 5 969061140\n",
      " 3 4 964249326\n",
      " 2 3 957690728\n",
      " 2 4 942986477\n",
      " 4 5 948404113\n",
      " 1 3 988716403\n"
     ]
    }
   ],
   "source": [
    "UVBm = [list(map(int, input().split())) for _ in range(M)]"
   ]
  },
  {
   "cell_type": "code",
   "execution_count": 29,
   "id": "9136b91d-c21f-4046-bb87-c09ffb496e9e",
   "metadata": {
    "tags": []
   },
   "outputs": [],
   "source": [
    "graph = [[] for _ in range(N+1)]\n",
    "for U, V, B in UVBm:\n",
    "    graph[U].append((V, B))\n",
    "    graph[V].append((U, B))"
   ]
  },
  {
   "cell_type": "code",
   "execution_count": 30,
   "id": "08312f94-2c27-427e-bf2f-faa0e6264c7f",
   "metadata": {
    "tags": []
   },
   "outputs": [],
   "source": [
    "import heapq\n",
    "def solve():\n",
    "    heapq.heappush(q, (An[0], 1))\n",
    "    dist[1] = An[0]\n",
    "    while q:\n",
    "        c, v = heapq.heappop(q)\n",
    "        if visit[v]:\n",
    "            continue\n",
    "        \n",
    "        visit[v] = True\n",
    "        for ne, nc in graph[v]:\n",
    "            d = dist[v] + An[ne-1] + nc\n",
    "            if dist[ne] == -1 or  dist[ne] > d:\n",
    "                dist[ne] = d\n",
    "                heapq.heappush(q, (dist[ne], ne))"
   ]
  },
  {
   "cell_type": "code",
   "execution_count": 31,
   "id": "43c52d52-147b-44e0-93e9-f3e88789e138",
   "metadata": {
    "tags": []
   },
   "outputs": [],
   "source": [
    "import heapq\n",
    "dist = [-1] * (N+1)\n",
    "visit = [False] * (N+1)\n",
    "q = []\n",
    "solve()"
   ]
  },
  {
   "cell_type": "code",
   "execution_count": 32,
   "id": "727ee0d4-6216-47dd-9bbd-f44287b61a5d",
   "metadata": {
    "tags": []
   },
   "outputs": [
    {
     "name": "stdout",
     "output_type": "stream",
     "text": [
      "2832044198 2824130042 4696218483 2805069468\n"
     ]
    }
   ],
   "source": [
    "print(*dist[2:])"
   ]
  },
  {
   "cell_type": "code",
   "execution_count": null,
   "id": "f8ff2ed9-9b3a-4e16-8d23-7113847a3e16",
   "metadata": {},
   "outputs": [],
   "source": []
  },
  {
   "cell_type": "code",
   "execution_count": 14,
   "id": "63451f89-69a0-4c48-ac2e-b77c465441cb",
   "metadata": {
    "tags": []
   },
   "outputs": [
    {
     "data": {
      "text/plain": [
       "[[], [(2, 1), (3, 6)], [(1, 2), (3, 2)], [(1, 3), (2, 3)]]"
      ]
     },
     "execution_count": 14,
     "metadata": {},
     "output_type": "execute_result"
    }
   ],
   "source": [
    "graph"
   ]
  },
  {
   "cell_type": "code",
   "execution_count": 19,
   "id": "bf9b4c3e-1967-46a5-85e0-d87008aedd0d",
   "metadata": {
    "tags": []
   },
   "outputs": [
    {
     "data": {
      "text/plain": [
       "[-1, 1, 4, 9]"
      ]
     },
     "execution_count": 19,
     "metadata": {},
     "output_type": "execute_result"
    }
   ],
   "source": [
    "dist"
   ]
  },
  {
   "cell_type": "code",
   "execution_count": 28,
   "id": "41e54e78-7867-4074-9818-987f9737cb85",
   "metadata": {
    "tags": []
   },
   "outputs": [
    {
     "data": {
      "text/plain": [
       "948404108"
      ]
     },
     "execution_count": 28,
     "metadata": {},
     "output_type": "execute_result"
    }
   ],
   "source": [
    "4696218483 - 3747814375 "
   ]
  },
  {
   "cell_type": "code",
   "execution_count": null,
   "id": "c1cdbe22-b27c-4e57-8c50-8fd82901a52a",
   "metadata": {},
   "outputs": [],
   "source": []
  }
 ],
 "metadata": {
  "kernelspec": {
   "display_name": "Python 3 (ipykernel)",
   "language": "python",
   "name": "python3"
  },
  "language_info": {
   "codemirror_mode": {
    "name": "ipython",
    "version": 3
   },
   "file_extension": ".py",
   "mimetype": "text/x-python",
   "name": "python",
   "nbconvert_exporter": "python",
   "pygments_lexer": "ipython3",
   "version": "3.11.3"
  }
 },
 "nbformat": 4,
 "nbformat_minor": 5
}
