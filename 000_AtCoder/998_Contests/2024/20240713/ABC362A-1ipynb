{
 "cells": [
  {
   "cell_type": "code",
   "execution_count": 1,
   "id": "c20da92f-7249-4e11-8e09-5566c835bab2",
   "metadata": {
    "tags": []
   },
   "outputs": [],
   "source": [
    "import sys\n",
    "import numpy as np\n",
    "import math\n",
    "import collections\n",
    "import copy\n",
    "import decimal\n",
    "import itertools\n",
    "import re\n",
    "import bisect\n",
    "import scipy\n",
    "import heapq\n",
    "from collections import deque \n",
    "from functools import reduce\n",
    "from itertools import product\n",
    "from itertools import combinations\n",
    "from functools import lru_cache\n",
    "from scipy.special import comb\n",
    "from numba import njit\n",
    "from bisect import bisect_right\n",
    "from bisect import bisect_left\n",
    "from atcoder.fenwicktree import FenwickTree\n",
    "from sortedcontainers import SortedList"
   ]
  },
  {
   "cell_type": "code",
   "execution_count": 8,
   "id": "e0629fff-47d4-4798-86a5-9bb0f3b5d016",
   "metadata": {
    "tags": []
   },
   "outputs": [
    {
     "name": "stdin",
     "output_type": "stream",
     "text": [
      " 37 39 93\n"
     ]
    }
   ],
   "source": [
    "R, G, B = map(int, input().split())"
   ]
  },
  {
   "cell_type": "code",
   "execution_count": 9,
   "id": "cffe72ef-c4b4-4083-86e9-da0e0e7fbfaf",
   "metadata": {
    "tags": []
   },
   "outputs": [
    {
     "name": "stdin",
     "output_type": "stream",
     "text": [
      " Blue\n"
     ]
    }
   ],
   "source": [
    "C = input()"
   ]
  },
  {
   "cell_type": "code",
   "execution_count": 10,
   "id": "41319be4-40f8-41fd-b791-2d32eb6740a8",
   "metadata": {
    "tags": []
   },
   "outputs": [
    {
     "name": "stdout",
     "output_type": "stream",
     "text": [
      "37\n"
     ]
    }
   ],
   "source": [
    "if C == 'Red':\n",
    "    print(min(G, B))\n",
    "elif C == 'Green':\n",
    "    print(min(R, B))\n",
    "else:\n",
    "    print(min(R, G))"
   ]
  },
  {
   "cell_type": "code",
   "execution_count": null,
   "id": "49d55dd5-fa45-4bcd-8e96-4aa97153009e",
   "metadata": {},
   "outputs": [],
   "source": []
  }
 ],
 "metadata": {
  "kernelspec": {
   "display_name": "Python 3 (ipykernel)",
   "language": "python",
   "name": "python3"
  },
  "language_info": {
   "codemirror_mode": {
    "name": "ipython",
    "version": 3
   },
   "file_extension": ".py",
   "mimetype": "text/x-python",
   "name": "python",
   "nbconvert_exporter": "python",
   "pygments_lexer": "ipython3",
   "version": "3.11.3"
  }
 },
 "nbformat": 4,
 "nbformat_minor": 5
}
