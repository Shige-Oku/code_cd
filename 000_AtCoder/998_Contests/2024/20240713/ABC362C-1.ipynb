{
 "cells": [
  {
   "cell_type": "code",
   "execution_count": 1,
   "id": "9ae3b6a9-da32-4013-81cf-325f28b72c21",
   "metadata": {
    "tags": []
   },
   "outputs": [],
   "source": [
    "import sys\n",
    "import numpy as np\n",
    "import math\n",
    "import collections\n",
    "import copy\n",
    "import decimal\n",
    "import itertools\n",
    "import re\n",
    "import bisect\n",
    "import scipy\n",
    "import heapq\n",
    "from collections import deque \n",
    "from functools import reduce\n",
    "from itertools import product\n",
    "from itertools import combinations\n",
    "from functools import lru_cache\n",
    "from scipy.special import comb\n",
    "from numba import njit\n",
    "from bisect import bisect_right\n",
    "from bisect import bisect_left\n",
    "from atcoder.fenwicktree import FenwickTree\n",
    "from sortedcontainers import SortedList"
   ]
  },
  {
   "cell_type": "code",
   "execution_count": 1,
   "id": "5f020faa-ada5-45c9-82a9-c9c5c7227f7f",
   "metadata": {
    "tags": []
   },
   "outputs": [
    {
     "name": "stdin",
     "output_type": "stream",
     "text": [
      " 3\n"
     ]
    }
   ],
   "source": [
    "N = int(input())"
   ]
  },
  {
   "cell_type": "code",
   "execution_count": 2,
   "id": "f2712b02-fdad-4ff7-9c01-7ba7c4e434ec",
   "metadata": {
    "tags": []
   },
   "outputs": [
    {
     "name": "stdin",
     "output_type": "stream",
     "text": [
      " 3 5\n",
      " -4 1\n",
      " -2 3\n"
     ]
    }
   ],
   "source": [
    "LRn = [list(map(int, input().split())) for _ in range(N)]"
   ]
  },
  {
   "cell_type": "code",
   "execution_count": 19,
   "id": "67ec6943-6d36-4ad1-b0d1-fcc32b69fc74",
   "metadata": {
    "tags": []
   },
   "outputs": [],
   "source": [
    "def solve():\n",
    "    L_s, R_s = 0, 0\n",
    "    for L, R in LRn:\n",
    "        L_s += L\n",
    "        R_s += R\n",
    "        \n",
    "    if L_s > 0:\n",
    "        return False\n",
    "    if R_s < 0:\n",
    "        return False\n",
    "    \n",
    "    t = L_s\n",
    "    for i, (L, R) in enumerate(LRn):\n",
    "        ans[i] = L\n",
    "        # print(ans[i])\n",
    "        d = min(R-L, -t)\n",
    "        ans[i] += d\n",
    "        # print(R-L, -t, d, ans[i])\n",
    "        t += d\n",
    "    return True"
   ]
  },
  {
   "cell_type": "code",
   "execution_count": 20,
   "id": "ffbb1d45-60d2-47c6-84f9-d2a12f9d89fb",
   "metadata": {
    "tags": []
   },
   "outputs": [
    {
     "name": "stdout",
     "output_type": "stream",
     "text": [
      "Yes\n",
      "5 -3 -2\n"
     ]
    }
   ],
   "source": [
    "ans = [0] * N\n",
    "if solve():\n",
    "    print('Yes')\n",
    "    print(*ans)\n",
    "else:\n",
    "    print('No')"
   ]
  },
  {
   "cell_type": "code",
   "execution_count": 42,
   "id": "2f240886-91e3-41e0-80c3-688b698476da",
   "metadata": {
    "tags": []
   },
   "outputs": [],
   "source": [
    "import sys\n",
    "import copy\n",
    "sys.setrecursionlimit(10**4)\n",
    "def dfs(l, r, n, l1):\n",
    "    nl, nr = LRn[n]\n",
    "    print(l, r, n, l1)\n",
    "\n",
    "    if n >= N-1:\n",
    "        if l + nl <= 0 <= l + nr:\n",
    "            l1.append(-l)\n",
    "            return True, l1\n",
    "        elif r + nl <= 0 <= r + nr:\n",
    "            l1.append(-r)\n",
    "            return True, l1\n",
    "        else:\n",
    "            return False, []\n",
    "    \n",
    "    l2 = copy.deepcopy(l1)\n",
    "    l2.append(l)\n",
    "    f, ret = dfs(l+nl, l+nr, n+1, l2)\n",
    "    if f:\n",
    "        return True, ret\n",
    "\n",
    "    l3 = copy.deepcopy(l1)\n",
    "    l3.append(r)\n",
    "    f, ret = dfs(r+nl, r+nr, n+1, l3)\n",
    "    if f:\n",
    "        return True, ret\n",
    "    \n",
    "    return False, []"
   ]
  },
  {
   "cell_type": "code",
   "execution_count": 46,
   "id": "9cd73dd7-5ea2-49ec-bb67-1c298782fafb",
   "metadata": {
    "tags": []
   },
   "outputs": [
    {
     "name": "stdout",
     "output_type": "stream",
     "text": [
      "0 0 0 []\n",
      "3 5 1 [0]\n",
      "-1 4 2 [0, 3]\n"
     ]
    }
   ],
   "source": [
    "f, ans = dfs(0, 0, 0, [])"
   ]
  },
  {
   "cell_type": "code",
   "execution_count": 45,
   "id": "7fe81b8a-8eb8-4ec3-be21-3e845a51d277",
   "metadata": {
    "tags": []
   },
   "outputs": [
    {
     "name": "stdout",
     "output_type": "stream",
     "text": [
      "Yes\n",
      "3 6 -2\n"
     ]
    }
   ],
   "source": [
    "if f:\n",
    "    print('Yes')\n",
    "    print(*ans)\n",
    "else:\n",
    "    print('No')"
   ]
  },
  {
   "cell_type": "code",
   "execution_count": 47,
   "id": "a673a960-f710-4bdf-bb73-d41fc6d88264",
   "metadata": {
    "tags": []
   },
   "outputs": [
    {
     "data": {
      "text/plain": [
       "[0, 3, 1]"
      ]
     },
     "execution_count": 47,
     "metadata": {},
     "output_type": "execute_result"
    }
   ],
   "source": [
    "ans"
   ]
  },
  {
   "cell_type": "code",
   "execution_count": null,
   "id": "01d8b8d0-1f25-4a61-9c63-e3c1dc67f423",
   "metadata": {},
   "outputs": [],
   "source": []
  }
 ],
 "metadata": {
  "kernelspec": {
   "display_name": "Python 3 (ipykernel)",
   "language": "python",
   "name": "python3"
  },
  "language_info": {
   "codemirror_mode": {
    "name": "ipython",
    "version": 3
   },
   "file_extension": ".py",
   "mimetype": "text/x-python",
   "name": "python",
   "nbconvert_exporter": "python",
   "pygments_lexer": "ipython3",
   "version": "3.11.3"
  }
 },
 "nbformat": 4,
 "nbformat_minor": 5
}
