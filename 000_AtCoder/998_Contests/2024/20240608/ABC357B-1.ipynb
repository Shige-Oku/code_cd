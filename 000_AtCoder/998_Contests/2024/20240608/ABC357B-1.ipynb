{
 "cells": [
  {
   "cell_type": "code",
   "execution_count": 1,
   "id": "7fb35646-3141-431c-a8bc-e273682240f9",
   "metadata": {
    "tags": []
   },
   "outputs": [],
   "source": [
    "import sys\n",
    "import numpy as np\n",
    "import math\n",
    "import collections\n",
    "import copy\n",
    "import decimal\n",
    "import itertools\n",
    "import re\n",
    "import bisect\n",
    "import scipy\n",
    "import heapq\n",
    "from collections import deque \n",
    "from functools import reduce\n",
    "from itertools import product\n",
    "from itertools import combinations\n",
    "from functools import lru_cache\n",
    "from scipy.special import comb\n",
    "from numba import njit\n",
    "from bisect import bisect_right\n",
    "from bisect import bisect_left\n",
    "from atcoder.fenwicktree import FenwickTree\n",
    "from sortedcontainers import SortedList"
   ]
  },
  {
   "cell_type": "code",
   "execution_count": 9,
   "id": "eb2418e4-a4d2-41fe-92f8-e7724957fef4",
   "metadata": {
    "tags": []
   },
   "outputs": [
    {
     "name": "stdin",
     "output_type": "stream",
     "text": [
      " a\n"
     ]
    }
   ],
   "source": [
    "S = input()"
   ]
  },
  {
   "cell_type": "code",
   "execution_count": 10,
   "id": "9817e0c3-6914-4800-908a-153e148fd9b8",
   "metadata": {
    "tags": []
   },
   "outputs": [],
   "source": [
    "s, l = 0, 0\n",
    "for ss in S:\n",
    "    if ss.islower():\n",
    "        s += 1\n",
    "    else:\n",
    "        l += 1"
   ]
  },
  {
   "cell_type": "code",
   "execution_count": 11,
   "id": "e41c5f2f-4e37-4387-9e71-d1d0dd110f15",
   "metadata": {
    "tags": []
   },
   "outputs": [
    {
     "name": "stdout",
     "output_type": "stream",
     "text": [
      "a\n"
     ]
    }
   ],
   "source": [
    "if  s > l:\n",
    "    print(S.lower())\n",
    "else:\n",
    "    print(S.upper())"
   ]
  },
  {
   "cell_type": "code",
   "execution_count": null,
   "id": "07586ed3-d699-4c7d-8163-51121dc593f8",
   "metadata": {},
   "outputs": [],
   "source": []
  }
 ],
 "metadata": {
  "kernelspec": {
   "display_name": "Python 3 (ipykernel)",
   "language": "python",
   "name": "python3"
  },
  "language_info": {
   "codemirror_mode": {
    "name": "ipython",
    "version": 3
   },
   "file_extension": ".py",
   "mimetype": "text/x-python",
   "name": "python",
   "nbconvert_exporter": "python",
   "pygments_lexer": "ipython3",
   "version": "3.11.3"
  }
 },
 "nbformat": 4,
 "nbformat_minor": 5
}
