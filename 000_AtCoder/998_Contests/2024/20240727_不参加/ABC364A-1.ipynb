{
 "cells": [
  {
   "cell_type": "code",
   "execution_count": 1,
   "id": "3218f06c-a1c2-4d17-834f-80c9ed8d3c6a",
   "metadata": {
    "tags": []
   },
   "outputs": [],
   "source": [
    "import sys\n",
    "import numpy as np\n",
    "import math\n",
    "import collections\n",
    "import copy\n",
    "import decimal\n",
    "import itertools\n",
    "import re\n",
    "import bisect\n",
    "import scipy\n",
    "import heapq\n",
    "from collections import deque \n",
    "from functools import reduce\n",
    "from itertools import product\n",
    "from itertools import combinations\n",
    "from functools import lru_cache\n",
    "from scipy.special import comb\n",
    "from numba import njit\n",
    "from bisect import bisect_right\n",
    "from bisect import bisect_left\n",
    "from atcoder.fenwicktree import FenwickTree\n",
    "from sortedcontainers import SortedList"
   ]
  },
  {
   "cell_type": "code",
   "execution_count": 2,
   "id": "fc3bc5e1-8b9f-40ce-a05d-6e480e54374e",
   "metadata": {
    "tags": []
   },
   "outputs": [
    {
     "name": "stdin",
     "output_type": "stream",
     "text": [
      " 5\n"
     ]
    }
   ],
   "source": [
    "N = int(input())"
   ]
  },
  {
   "cell_type": "code",
   "execution_count": 3,
   "id": "f466a5e4-8282-4ed0-95ff-12d8305bcb10",
   "metadata": {
    "tags": []
   },
   "outputs": [
    {
     "name": "stdin",
     "output_type": "stream",
     "text": [
      " salty\n",
      " sweet\n",
      " salty\n",
      " salty\n",
      " sweet\n"
     ]
    }
   ],
   "source": [
    "Sn = [input() for _ in range(N)]"
   ]
  },
  {
   "cell_type": "code",
   "execution_count": 7,
   "id": "4e629c95-ba5e-4092-82d0-91b97c1091a8",
   "metadata": {
    "tags": []
   },
   "outputs": [
    {
     "name": "stdout",
     "output_type": "stream",
     "text": [
      "Yes\n"
     ]
    }
   ],
   "source": [
    "f = ''\n",
    "for i, S in enumerate(Sn):\n",
    "    if S == 'sweet' and S == f and i + 1 < N:\n",
    "        print('No')\n",
    "        break\n",
    "    f = S\n",
    "else:\n",
    "    print('Yes')"
   ]
  },
  {
   "cell_type": "code",
   "execution_count": null,
   "id": "ae765331-13f1-4066-aeb3-f11f02611c05",
   "metadata": {},
   "outputs": [],
   "source": []
  }
 ],
 "metadata": {
  "kernelspec": {
   "display_name": "Python 3 (ipykernel)",
   "language": "python",
   "name": "python3"
  },
  "language_info": {
   "codemirror_mode": {
    "name": "ipython",
    "version": 3
   },
   "file_extension": ".py",
   "mimetype": "text/x-python",
   "name": "python",
   "nbconvert_exporter": "python",
   "pygments_lexer": "ipython3",
   "version": "3.11.3"
  }
 },
 "nbformat": 4,
 "nbformat_minor": 5
}
