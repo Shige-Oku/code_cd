{
 "cells": [
  {
   "cell_type": "code",
   "execution_count": 1,
   "id": "428560e6-eb3d-4881-b5c9-c0bc71d2bc35",
   "metadata": {
    "tags": []
   },
   "outputs": [],
   "source": [
    "import sys\n",
    "import numpy as np\n",
    "import math\n",
    "import collections\n",
    "import copy\n",
    "import decimal\n",
    "import itertools\n",
    "import re\n",
    "import bisect\n",
    "import scipy\n",
    "import heapq\n",
    "from collections import deque \n",
    "from functools import reduce\n",
    "from itertools import product\n",
    "from itertools import combinations\n",
    "from functools import lru_cache\n",
    "from scipy.special import comb\n",
    "from numba import njit\n",
    "from bisect import bisect_right\n",
    "from bisect import bisect_left\n",
    "from atcoder.fenwicktree import FenwickTree\n",
    "from sortedcontainers import SortedList"
   ]
  },
  {
   "cell_type": "code",
   "execution_count": 2,
   "id": "f55ae6ee-cfa8-4873-96b7-be7e44d30191",
   "metadata": {
    "tags": []
   },
   "outputs": [
    {
     "name": "stdin",
     "output_type": "stream",
     "text": [
      " 2 3\n"
     ]
    }
   ],
   "source": [
    "H, W = map(int, input().split())"
   ]
  },
  {
   "cell_type": "code",
   "execution_count": 3,
   "id": "25cc117b-94e9-448e-b210-90493196fc4a",
   "metadata": {
    "tags": []
   },
   "outputs": [
    {
     "name": "stdin",
     "output_type": "stream",
     "text": [
      " 2 1\n"
     ]
    }
   ],
   "source": [
    "Si, Sj = map(int, input().split())"
   ]
  },
  {
   "cell_type": "code",
   "execution_count": 4,
   "id": "94b88abd-c1ce-40d5-8672-ede5d3480e61",
   "metadata": {
    "tags": []
   },
   "outputs": [
    {
     "name": "stdin",
     "output_type": "stream",
     "text": [
      " .#.\n",
      " ...\n"
     ]
    }
   ],
   "source": [
    "Chw = [input() for _ in range(H)]"
   ]
  },
  {
   "cell_type": "code",
   "execution_count": 5,
   "id": "7e2d5d70-0892-4c9e-8979-2a38aa9d4621",
   "metadata": {
    "tags": []
   },
   "outputs": [
    {
     "name": "stdin",
     "output_type": "stream",
     "text": [
      " ULDRU\n"
     ]
    }
   ],
   "source": [
    "X = input()"
   ]
  },
  {
   "cell_type": "code",
   "execution_count": 27,
   "id": "1a5d45d6-535a-4d5f-ab03-3a0237988479",
   "metadata": {
    "tags": []
   },
   "outputs": [],
   "source": [
    "gi, gj = Si-1, Sj-1\n",
    "for x in X:\n",
    "    # print(x)\n",
    "    di = 0\n",
    "    dj = 0\n",
    "    if x == 'L':\n",
    "        if gj - 1 < 0:\n",
    "            continue\n",
    "        dj -= 1\n",
    "    elif x == 'R':\n",
    "        if gj + 1 >= W:\n",
    "            continue\n",
    "        dj += 1\n",
    "    elif x == 'U':\n",
    "        if gi - 1 < 0:\n",
    "            continue\n",
    "        di -= 1\n",
    "    else :\n",
    "        if gi + 1 >= H:\n",
    "            continue\n",
    "        di += 1\n",
    "        \n",
    "    # print(x, gi, gj, di, dj)\n",
    "    if Chw[gi+di][gj+dj] == '#':\n",
    "        continue\n",
    "    gi += di\n",
    "    gj += dj\n",
    "    # print(gi, gj)"
   ]
  },
  {
   "cell_type": "code",
   "execution_count": 28,
   "id": "217bb28a-8316-4def-8422-6547e6429ddf",
   "metadata": {
    "tags": []
   },
   "outputs": [
    {
     "name": "stdout",
     "output_type": "stream",
     "text": [
      "2 2\n"
     ]
    }
   ],
   "source": [
    "print(gi+1, gj+1)"
   ]
  },
  {
   "cell_type": "code",
   "execution_count": null,
   "id": "b9ba9c7c-6b56-4782-a2fb-516c674261be",
   "metadata": {},
   "outputs": [],
   "source": []
  }
 ],
 "metadata": {
  "kernelspec": {
   "display_name": "Python 3 (ipykernel)",
   "language": "python",
   "name": "python3"
  },
  "language_info": {
   "codemirror_mode": {
    "name": "ipython",
    "version": 3
   },
   "file_extension": ".py",
   "mimetype": "text/x-python",
   "name": "python",
   "nbconvert_exporter": "python",
   "pygments_lexer": "ipython3",
   "version": "3.11.3"
  }
 },
 "nbformat": 4,
 "nbformat_minor": 5
}
