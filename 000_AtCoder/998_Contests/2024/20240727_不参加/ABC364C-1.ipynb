{
 "cells": [
  {
   "cell_type": "code",
   "execution_count": 1,
   "id": "99dce566-20d5-4180-8d0e-08b48bbf8d2e",
   "metadata": {
    "tags": []
   },
   "outputs": [],
   "source": [
    "import sys\n",
    "import numpy as np\n",
    "import math\n",
    "import collections\n",
    "import copy\n",
    "import decimal\n",
    "import itertools\n",
    "import re\n",
    "import bisect\n",
    "import scipy\n",
    "import heapq\n",
    "from collections import deque \n",
    "from functools import reduce\n",
    "from itertools import product\n",
    "from itertools import combinations\n",
    "from functools import lru_cache\n",
    "from scipy.special import comb\n",
    "from numba import njit\n",
    "from bisect import bisect_right\n",
    "from bisect import bisect_left\n",
    "from atcoder.fenwicktree import FenwickTree\n",
    "from sortedcontainers import SortedList"
   ]
  },
  {
   "cell_type": "code",
   "execution_count": 23,
   "id": "9370b8c1-2bd1-49f0-84d3-e0637d38fc0c",
   "metadata": {
    "tags": []
   },
   "outputs": [
    {
     "name": "stdin",
     "output_type": "stream",
     "text": [
      " 8 30 30\n"
     ]
    }
   ],
   "source": [
    "N, X, Y = map(int, input().split())"
   ]
  },
  {
   "cell_type": "code",
   "execution_count": 24,
   "id": "d966c38a-f89e-4afc-a71f-b9b18d6edcde",
   "metadata": {
    "tags": []
   },
   "outputs": [
    {
     "name": "stdin",
     "output_type": "stream",
     "text": [
      " 1 2 3 4 5 6 7 8\n"
     ]
    }
   ],
   "source": [
    "An = list(map(int, input().split()))"
   ]
  },
  {
   "cell_type": "code",
   "execution_count": 25,
   "id": "e12c6eb4-c620-4dd8-82ea-88769d75576f",
   "metadata": {
    "tags": []
   },
   "outputs": [
    {
     "name": "stdin",
     "output_type": "stream",
     "text": [
      " 8 7 6 5 4 3 2 1\n"
     ]
    }
   ],
   "source": [
    "Bn = list(map(int, input().split()))"
   ]
  },
  {
   "cell_type": "code",
   "execution_count": 26,
   "id": "42178628-b124-4daf-b271-43a318ea914b",
   "metadata": {
    "tags": []
   },
   "outputs": [],
   "source": [
    "An_s = sorted(An, reverse=True)\n",
    "ax = 0\n",
    "for ai, A in enumerate(An_s):\n",
    "    if ax + A > X:\n",
    "        break\n",
    "    ax += A\n",
    "Bn_s = sorted(Bn, reverse=True)\n",
    "bx = 0\n",
    "for bi, B in enumerate(Bn_s):\n",
    "    if bx + B > Y:\n",
    "        break\n",
    "    bx += B\n",
    "    "
   ]
  },
  {
   "cell_type": "code",
   "execution_count": 27,
   "id": "81aa9b94-4223-4d13-943b-c482aed9b2fd",
   "metadata": {
    "tags": []
   },
   "outputs": [
    {
     "name": "stdout",
     "output_type": "stream",
     "text": [
      "6\n"
     ]
    }
   ],
   "source": [
    "print(min(ai+1, bi+1))"
   ]
  },
  {
   "cell_type": "code",
   "execution_count": 15,
   "id": "a068dc84-fd8d-4aaf-b930-001ddf0cc8b4",
   "metadata": {
    "tags": []
   },
   "outputs": [
    {
     "data": {
      "text/plain": [
       "(5, 1, 16, 2)"
      ]
     },
     "execution_count": 15,
     "metadata": {},
     "output_type": "execute_result"
    }
   ],
   "source": [
    "ax, ai, bx, bi"
   ]
  },
  {
   "cell_type": "code",
   "execution_count": 16,
   "id": "3f15592a-d996-446c-9a93-6af3ab4b0f89",
   "metadata": {
    "tags": []
   },
   "outputs": [
    {
     "data": {
      "text/plain": [
       "([5, 3, 2, 1], [8, 8, 4, 1])"
      ]
     },
     "execution_count": 16,
     "metadata": {},
     "output_type": "execute_result"
    }
   ],
   "source": [
    "An_s, Bn_s"
   ]
  },
  {
   "cell_type": "code",
   "execution_count": null,
   "id": "c2fac057-180d-4f2d-b243-790219850a11",
   "metadata": {},
   "outputs": [],
   "source": []
  }
 ],
 "metadata": {
  "kernelspec": {
   "display_name": "Python 3 (ipykernel)",
   "language": "python",
   "name": "python3"
  },
  "language_info": {
   "codemirror_mode": {
    "name": "ipython",
    "version": 3
   },
   "file_extension": ".py",
   "mimetype": "text/x-python",
   "name": "python",
   "nbconvert_exporter": "python",
   "pygments_lexer": "ipython3",
   "version": "3.11.3"
  }
 },
 "nbformat": 4,
 "nbformat_minor": 5
}
