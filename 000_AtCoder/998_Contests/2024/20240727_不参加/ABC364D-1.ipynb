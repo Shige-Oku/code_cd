{
 "cells": [
  {
   "cell_type": "code",
   "execution_count": 1,
   "id": "574db6de-c81e-4a8c-b8af-b82a21f015f7",
   "metadata": {
    "tags": []
   },
   "outputs": [],
   "source": [
    "import sys\n",
    "import numpy as np\n",
    "import math\n",
    "import collections\n",
    "import copy\n",
    "import decimal\n",
    "import itertools\n",
    "import re\n",
    "import bisect\n",
    "import scipy\n",
    "import heapq\n",
    "from collections import deque \n",
    "from functools import reduce\n",
    "from itertools import product\n",
    "from itertools import combinations\n",
    "from functools import lru_cache\n",
    "from scipy.special import comb\n",
    "from numba import njit\n",
    "from bisect import bisect_right\n",
    "from bisect import bisect_left\n",
    "from atcoder.fenwicktree import FenwickTree\n",
    "from sortedcontainers import SortedList"
   ]
  },
  {
   "cell_type": "code",
   "execution_count": 2,
   "id": "5b4b43cd-46ef-4ba0-811b-d4148420f840",
   "metadata": {
    "tags": []
   },
   "outputs": [
    {
     "name": "stdin",
     "output_type": "stream",
     "text": [
      " 4 3\n"
     ]
    }
   ],
   "source": [
    "N, Q  = map(int, input().split())"
   ]
  },
  {
   "cell_type": "code",
   "execution_count": 3,
   "id": "a47a1958-7421-4d79-9a4a-9b7ccd49bbcd",
   "metadata": {
    "tags": []
   },
   "outputs": [
    {
     "name": "stdin",
     "output_type": "stream",
     "text": [
      " -3 -1 5 6\n"
     ]
    }
   ],
   "source": [
    "An = list(map(int, input().split()))"
   ]
  },
  {
   "cell_type": "code",
   "execution_count": 4,
   "id": "c0e414e1-09ba-4500-b584-9933e7856c58",
   "metadata": {
    "tags": []
   },
   "outputs": [
    {
     "name": "stdin",
     "output_type": "stream",
     "text": [
      " -2 3\n",
      " 2 1\n",
      " 10 4\n"
     ]
    }
   ],
   "source": [
    "BKq = [list(map(int, input().split())) for _ in range(Q)]"
   ]
  },
  {
   "cell_type": "code",
   "execution_count": 15,
   "id": "223a41a9-6f96-46cb-82a6-5ab5cc642c1f",
   "metadata": {
    "tags": []
   },
   "outputs": [],
   "source": [
    "from collections import defaultdict\n",
    "nd = defaultdict(int)\n",
    "for A in An:\n",
    "    nd[A] += 1\n",
    "# for B, _ in BKq:\n",
    "#     nd[B] += 1\n"
   ]
  },
  {
   "cell_type": "code",
   "execution_count": 16,
   "id": "7026adfa-2bf4-4d09-abc8-34e3aa0f38b1",
   "metadata": {
    "tags": []
   },
   "outputs": [],
   "source": [
    "An_s = sorted(An)\n",
    "cnt = []\n",
    "for A in An_s:\n",
    "    cnt.append(nd[A])\n",
    "\n",
    "from itertools import  accumulate\n",
    "cnt_c = [0] + list(accumulate(cnt))"
   ]
  },
  {
   "cell_type": "code",
   "execution_count": 17,
   "id": "b45740d9-eeee-4e7d-a37d-129d41d5b723",
   "metadata": {
    "tags": []
   },
   "outputs": [
    {
     "data": {
      "text/plain": [
       "(defaultdict(int, {-3: 1, -1: 1, 5: 1, 6: 1}), [1, 1, 1, 1], [0, 1, 2, 3, 4])"
      ]
     },
     "execution_count": 17,
     "metadata": {},
     "output_type": "execute_result"
    }
   ],
   "source": [
    "nd, cnt, cnt_c"
   ]
  },
  {
   "cell_type": "code",
   "execution_count": 10,
   "id": "1767405e-e057-45da-aabe-e00a4d46776b",
   "metadata": {
    "tags": []
   },
   "outputs": [
    {
     "data": {
      "text/plain": [
       "[(-3, 1), (-1, 1), (5, 1), (6, 1)]"
      ]
     },
     "execution_count": 10,
     "metadata": {},
     "output_type": "execute_result"
    }
   ],
   "source": [
    "cnt"
   ]
  },
  {
   "cell_type": "code",
   "execution_count": null,
   "id": "ec564d15-7331-4446-ab15-74e60031fa7a",
   "metadata": {},
   "outputs": [],
   "source": []
  }
 ],
 "metadata": {
  "kernelspec": {
   "display_name": "Python 3 (ipykernel)",
   "language": "python",
   "name": "python3"
  },
  "language_info": {
   "codemirror_mode": {
    "name": "ipython",
    "version": 3
   },
   "file_extension": ".py",
   "mimetype": "text/x-python",
   "name": "python",
   "nbconvert_exporter": "python",
   "pygments_lexer": "ipython3",
   "version": "3.11.3"
  }
 },
 "nbformat": 4,
 "nbformat_minor": 5
}
