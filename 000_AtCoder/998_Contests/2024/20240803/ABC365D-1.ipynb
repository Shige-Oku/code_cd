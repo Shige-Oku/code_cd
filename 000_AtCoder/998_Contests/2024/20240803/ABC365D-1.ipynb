{
 "cells": [
  {
   "cell_type": "code",
   "execution_count": 1,
   "id": "260eb600-e63a-4c6e-ad50-bdc1ce3e68ce",
   "metadata": {
    "tags": []
   },
   "outputs": [],
   "source": [
    "import sys\n",
    "import numpy as np\n",
    "import math\n",
    "import collections\n",
    "import copy\n",
    "import decimal\n",
    "import itertools\n",
    "import re\n",
    "import bisect\n",
    "import scipy\n",
    "import heapq\n",
    "from collections import deque \n",
    "from functools import reduce\n",
    "from itertools import product\n",
    "from itertools import combinations\n",
    "from functools import lru_cache\n",
    "from scipy.special import comb\n",
    "from numba import njit\n",
    "from bisect import bisect_right\n",
    "from bisect import bisect_left\n",
    "from atcoder.fenwicktree import FenwickTree\n",
    "from sortedcontainers import SortedList"
   ]
  },
  {
   "cell_type": "code",
   "execution_count": 23,
   "id": "e46e6e7d-a44a-402a-a11b-478cc69ee1f9",
   "metadata": {
    "tags": []
   },
   "outputs": [
    {
     "name": "stdin",
     "output_type": "stream",
     "text": [
      " 24\n"
     ]
    }
   ],
   "source": [
    "N = int(input())"
   ]
  },
  {
   "cell_type": "code",
   "execution_count": 24,
   "id": "7b231e60-fa11-4346-aa1a-e772c5c5bcce",
   "metadata": {
    "tags": []
   },
   "outputs": [
    {
     "name": "stdin",
     "output_type": "stream",
     "text": [
      " SPRPSRRRRRPPRPRPSSRSPRSS\n"
     ]
    }
   ],
   "source": [
    "S = input()"
   ]
  },
  {
   "cell_type": "code",
   "execution_count": 25,
   "id": "6bec76ba-38de-4a82-ac11-9f396655cbdf",
   "metadata": {
    "tags": []
   },
   "outputs": [],
   "source": [
    "dp = [[-10**20] * 3 for _ in range(N+1)]"
   ]
  },
  {
   "cell_type": "code",
   "execution_count": 26,
   "id": "12f34b41-5b4c-4666-b8f0-41899d78d3d1",
   "metadata": {
    "tags": []
   },
   "outputs": [],
   "source": [
    "dp[0][:] = 0, 0, 0\n",
    "mae = ''\n",
    "for i, s in enumerate(S, 1):\n",
    "    if s == 'R':\n",
    "        dp[i][0] = max(dp[i-1][1], dp[i-1][2])\n",
    "        dp[i][1] = max(dp[i-1][0]+1, dp[i-1][2]+1)\n",
    "    elif s == 'P':\n",
    "        dp[i][1] = max(dp[i-1][0], dp[i-1][2])\n",
    "        dp[i][2] = max(dp[i-1][0]+1, dp[i-1][1]+1)\n",
    "    else:\n",
    "        dp[i][0] = max(dp[i-1][1]+1, dp[i-1][2]+1)\n",
    "        dp[i][2] = max(dp[i-1][0], dp[i-1][1])\n",
    "        "
   ]
  },
  {
   "cell_type": "code",
   "execution_count": 27,
   "id": "a6764b49-f044-4abe-bd7f-0f96e4069800",
   "metadata": {
    "tags": []
   },
   "outputs": [
    {
     "name": "stdout",
     "output_type": "stream",
     "text": [
      "18\n"
     ]
    }
   ],
   "source": [
    "print(max(0, max(dp[-1])))"
   ]
  },
  {
   "cell_type": "code",
   "execution_count": 12,
   "id": "32ded4d3-34c3-45b1-bf42-89a41a5993ab",
   "metadata": {
    "tags": []
   },
   "outputs": [
    {
     "data": {
      "text/plain": [
       "[[0, 0, 0],\n",
       " [-100000000000000000000, 0, 1],\n",
       " [1, 2, -100000000000000000000],\n",
       " [3, -100000000000000000000, 2],\n",
       " [3, -100000000000000000000, 3],\n",
       " [3, 4, -100000000000000000000],\n",
       " [5, -100000000000000000000, 4]]"
      ]
     },
     "execution_count": 12,
     "metadata": {},
     "output_type": "execute_result"
    }
   ],
   "source": [
    "dp"
   ]
  },
  {
   "cell_type": "code",
   "execution_count": null,
   "id": "2cf9d1c7-7562-4b20-abee-17b2aed73e79",
   "metadata": {},
   "outputs": [],
   "source": []
  }
 ],
 "metadata": {
  "kernelspec": {
   "display_name": "Python 3 (ipykernel)",
   "language": "python",
   "name": "python3"
  },
  "language_info": {
   "codemirror_mode": {
    "name": "ipython",
    "version": 3
   },
   "file_extension": ".py",
   "mimetype": "text/x-python",
   "name": "python",
   "nbconvert_exporter": "python",
   "pygments_lexer": "ipython3",
   "version": "3.11.3"
  }
 },
 "nbformat": 4,
 "nbformat_minor": 5
}
