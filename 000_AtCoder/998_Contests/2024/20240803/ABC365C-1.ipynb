{
 "cells": [
  {
   "cell_type": "code",
   "execution_count": 1,
   "id": "cbc22b33-a1d4-488c-9d7d-793ab817c2f4",
   "metadata": {
    "tags": []
   },
   "outputs": [],
   "source": [
    "import sys\n",
    "import numpy as np\n",
    "import math\n",
    "import collections\n",
    "import copy\n",
    "import decimal\n",
    "import itertools\n",
    "import re\n",
    "import bisect\n",
    "import scipy\n",
    "import heapq\n",
    "from collections import deque \n",
    "from functools import reduce\n",
    "from itertools import product\n",
    "from itertools import combinations\n",
    "from functools import lru_cache\n",
    "from scipy.special import comb\n",
    "from numba import njit\n",
    "from bisect import bisect_right\n",
    "from bisect import bisect_left\n",
    "from atcoder.fenwicktree import FenwickTree\n",
    "from sortedcontainers import SortedList"
   ]
  },
  {
   "cell_type": "code",
   "execution_count": 58,
   "id": "f81732c2-36b5-43df-86be-7fc898a0c38c",
   "metadata": {
    "tags": []
   },
   "outputs": [
    {
     "name": "stdin",
     "output_type": "stream",
     "text": [
      " 10 23\n"
     ]
    }
   ],
   "source": [
    "N, M = map(int, input().split())"
   ]
  },
  {
   "cell_type": "code",
   "execution_count": 59,
   "id": "154456e2-be6c-4918-a962-e15e813bb2fb",
   "metadata": {
    "tags": []
   },
   "outputs": [
    {
     "name": "stdin",
     "output_type": "stream",
     "text": [
      " 2 5 6 5 2 1 7 9 7 2\n"
     ]
    }
   ],
   "source": [
    "An = list(map(int, input().split()))"
   ]
  },
  {
   "cell_type": "code",
   "execution_count": 60,
   "id": "cfb29e5f-1d82-48b9-9506-7b1ff44b3cf2",
   "metadata": {
    "tags": []
   },
   "outputs": [],
   "source": [
    "def my_check(n):\n",
    "    \n",
    "    p = 0\n",
    "    for A in An:\n",
    "        p += min(n, A)\n",
    "    return p <= M"
   ]
  },
  {
   "cell_type": "code",
   "execution_count": 61,
   "id": "b406f3d3-5817-4f84-8e97-11742190b872",
   "metadata": {
    "tags": []
   },
   "outputs": [],
   "source": [
    "def solve():\n",
    "    s = 0\n",
    "    for A in An:\n",
    "        s += min(10**20, A)\n",
    "    if s <= M:\n",
    "        return 'infinite'\n",
    "    \n",
    "    ok = 0\n",
    "    ng = 10 ** 20\n",
    "    while ok + 1 < ng:\n",
    "        m = (ng + ok) // 2\n",
    "        if my_check(m):\n",
    "            ok = m\n",
    "        else:\n",
    "            ng = m\n",
    "    return ok\n"
   ]
  },
  {
   "cell_type": "code",
   "execution_count": 62,
   "id": "eb979cdc-2488-48da-98fd-c5ef984d6c52",
   "metadata": {
    "tags": []
   },
   "outputs": [
    {
     "name": "stdout",
     "output_type": "stream",
     "text": [
      "2\n"
     ]
    }
   ],
   "source": [
    "print(solve())"
   ]
  },
  {
   "cell_type": "code",
   "execution_count": null,
   "id": "0569186b-468e-4bbf-a8ab-57fff40cbe50",
   "metadata": {},
   "outputs": [],
   "source": []
  }
 ],
 "metadata": {
  "kernelspec": {
   "display_name": "Python 3 (ipykernel)",
   "language": "python",
   "name": "python3"
  },
  "language_info": {
   "codemirror_mode": {
    "name": "ipython",
    "version": 3
   },
   "file_extension": ".py",
   "mimetype": "text/x-python",
   "name": "python",
   "nbconvert_exporter": "python",
   "pygments_lexer": "ipython3",
   "version": "3.11.3"
  }
 },
 "nbformat": 4,
 "nbformat_minor": 5
}
