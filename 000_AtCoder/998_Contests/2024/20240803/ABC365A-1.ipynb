{
 "cells": [
  {
   "cell_type": "code",
   "execution_count": 1,
   "id": "bf5c906d-d475-419b-8c50-370f1ccfba70",
   "metadata": {
    "tags": []
   },
   "outputs": [],
   "source": [
    "import sys\n",
    "import numpy as np\n",
    "import math\n",
    "import collections\n",
    "import copy\n",
    "import decimal\n",
    "import itertools\n",
    "import re\n",
    "import bisect\n",
    "import scipy\n",
    "import heapq\n",
    "from collections import deque \n",
    "from functools import reduce\n",
    "from itertools import product\n",
    "from itertools import combinations\n",
    "from functools import lru_cache\n",
    "from scipy.special import comb\n",
    "from numba import njit\n",
    "from bisect import bisect_right\n",
    "from bisect import bisect_left\n",
    "from atcoder.fenwicktree import FenwickTree\n",
    "from sortedcontainers import SortedList"
   ]
  },
  {
   "cell_type": "code",
   "execution_count": 8,
   "id": "489b181e-926e-4c91-90d7-2c6d77df2459",
   "metadata": {
    "tags": []
   },
   "outputs": [
    {
     "name": "stdin",
     "output_type": "stream",
     "text": [
      " 1600\n"
     ]
    }
   ],
   "source": [
    "Y = int(input())"
   ]
  },
  {
   "cell_type": "code",
   "execution_count": 9,
   "id": "39199c68-ded7-4508-87ce-86dd0a199613",
   "metadata": {
    "tags": []
   },
   "outputs": [
    {
     "name": "stdout",
     "output_type": "stream",
     "text": [
      "366\n"
     ]
    }
   ],
   "source": [
    "if Y % 400 == 0:\n",
    "    print('366')\n",
    "elif Y % 100 == 0:\n",
    "    print('365')\n",
    "elif Y % 4 == 0:\n",
    "    print('366')\n",
    "else:\n",
    "    print('365')"
   ]
  },
  {
   "cell_type": "code",
   "execution_count": null,
   "id": "0680bd1a-7b2e-4c74-820a-f6eba7625cbc",
   "metadata": {},
   "outputs": [],
   "source": []
  }
 ],
 "metadata": {
  "kernelspec": {
   "display_name": "Python 3 (ipykernel)",
   "language": "python",
   "name": "python3"
  },
  "language_info": {
   "codemirror_mode": {
    "name": "ipython",
    "version": 3
   },
   "file_extension": ".py",
   "mimetype": "text/x-python",
   "name": "python",
   "nbconvert_exporter": "python",
   "pygments_lexer": "ipython3",
   "version": "3.11.3"
  }
 },
 "nbformat": 4,
 "nbformat_minor": 5
}
