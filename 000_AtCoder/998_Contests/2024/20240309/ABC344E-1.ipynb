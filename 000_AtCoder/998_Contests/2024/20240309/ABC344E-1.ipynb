{
 "cells": [
  {
   "cell_type": "code",
   "execution_count": 1,
   "id": "127ba599-4c79-4329-8bc2-23056f0e7dd4",
   "metadata": {
    "tags": []
   },
   "outputs": [],
   "source": [
    "import sys\n",
    "import numpy as np\n",
    "import math\n",
    "import collections\n",
    "import copy\n",
    "import decimal\n",
    "import itertools\n",
    "import re\n",
    "import bisect\n",
    "import scipy\n",
    "import heapq\n",
    "from collections import deque \n",
    "from functools import reduce\n",
    "from itertools import product\n",
    "from itertools import combinations\n",
    "from functools import lru_cache\n",
    "from scipy.special import comb\n",
    "from numba import njit\n",
    "from bisect import bisect_right\n",
    "from bisect import bisect_left\n",
    "from atcoder.fenwicktree import FenwickTree"
   ]
  },
  {
   "cell_type": "code",
   "execution_count": null,
   "id": "3b89b2a2-4411-4ac2-bd3d-3bd31b15988e",
   "metadata": {},
   "outputs": [],
   "source": [
    "# 解説を読んで実装"
   ]
  },
  {
   "cell_type": "code",
   "execution_count": 1,
   "id": "02909156-ac91-46ff-b46c-c48881b7f7cd",
   "metadata": {},
   "outputs": [
    {
     "name": "stdin",
     "output_type": "stream",
     "text": [
      " 4\n"
     ]
    }
   ],
   "source": [
    "N = int(input())"
   ]
  },
  {
   "cell_type": "code",
   "execution_count": 2,
   "id": "55be9720-b22e-4315-8a76-381795c950b4",
   "metadata": {
    "tags": []
   },
   "outputs": [
    {
     "name": "stdin",
     "output_type": "stream",
     "text": [
      " 2 1 4 3\n"
     ]
    }
   ],
   "source": [
    "An = list(map(int, input().split()))"
   ]
  },
  {
   "cell_type": "code",
   "execution_count": 3,
   "id": "76aa6936-c937-4cc9-8c94-b4c165e1bd67",
   "metadata": {
    "tags": []
   },
   "outputs": [
    {
     "name": "stdin",
     "output_type": "stream",
     "text": [
      " 4\n"
     ]
    }
   ],
   "source": [
    "Q = int(input())"
   ]
  },
  {
   "cell_type": "code",
   "execution_count": 4,
   "id": "75d9da76-6c5c-49d0-bcc1-4d71f87e4a5d",
   "metadata": {
    "tags": []
   },
   "outputs": [
    {
     "name": "stdin",
     "output_type": "stream",
     "text": [
      " 2 1\n",
      " 1 4 5\n",
      " 2 2\n",
      " 1 5 1\n"
     ]
    }
   ],
   "source": [
    "Qq = [list(map(int, input().split())) for _ in range(Q)]"
   ]
  },
  {
   "cell_type": "code",
   "execution_count": 36,
   "id": "cf298a42-c940-4b4d-9bfe-c34a89103de3",
   "metadata": {
    "tags": []
   },
   "outputs": [],
   "source": [
    "pr, ne = {}, {}\n",
    "for i, A in enumerate(An):\n",
    "    if i == 0:\n",
    "        pr[A] = 0\n",
    "    else:\n",
    "        pr[A] = An[i-1]\n",
    "    \n",
    "    if i == N-1:\n",
    "        ne[A] = 10**20\n",
    "    else:\n",
    "        ne[A] = An[i+1]"
   ]
  },
  {
   "cell_type": "code",
   "execution_count": 37,
   "id": "f9379434-a926-4654-8376-967760f1b0c3",
   "metadata": {
    "tags": []
   },
   "outputs": [],
   "source": [
    "for q in Qq:\n",
    "    if q[0] == 1:\n",
    "        _, x, y = q\n",
    "        pos = ne[x]\n",
    "        \n",
    "        pr[pos] = y\n",
    "        pr[y] = x\n",
    "        \n",
    "        ne[x] = y\n",
    "        ne[y] = pos\n",
    "    else:\n",
    "        _, x = q\n",
    "        pos = ne[x]\n",
    "        pr[pos] = pr[x]\n",
    "\n",
    "        pos = pr[x]\n",
    "        ne[pos] = ne[x]\n",
    "\n",
    "        del pr[x]\n",
    "        del ne[x]"
   ]
  },
  {
   "cell_type": "code",
   "execution_count": 38,
   "id": "f1aca5d4-ad80-4a7d-80f4-30e64849c1d2",
   "metadata": {
    "tags": []
   },
   "outputs": [
    {
     "name": "stdout",
     "output_type": "stream",
     "text": [
      "4 5 1 3 "
     ]
    }
   ],
   "source": [
    "for k, v in pr.items():\n",
    "    if v == 0:\n",
    "        pos = k\n",
    "        break\n",
    "while pos != 10**20:\n",
    "    print(pos, end=' ')\n",
    "    pos = ne[pos]"
   ]
  },
  {
   "cell_type": "code",
   "execution_count": 32,
   "id": "d71117f0-751a-4ca0-9e9c-cb41741fa93a",
   "metadata": {
    "tags": []
   },
   "outputs": [
    {
     "data": {
      "text/plain": [
       "({4: 0, 3: 1, 5: 4, 1: 5}, {4: 5, 3: 100000000000000000000, 5: 1, 0: 4, 1: 3})"
      ]
     },
     "execution_count": 32,
     "metadata": {},
     "output_type": "execute_result"
    }
   ],
   "source": [
    "pr, ne"
   ]
  },
  {
   "cell_type": "code",
   "execution_count": 18,
   "id": "cbf26e87-4d77-434f-a690-00d929094325",
   "metadata": {
    "tags": []
   },
   "outputs": [
    {
     "data": {
      "text/plain": [
       "2"
      ]
     },
     "execution_count": 18,
     "metadata": {},
     "output_type": "execute_result"
    }
   ],
   "source": [
    "pr[x]"
   ]
  },
  {
   "cell_type": "code",
   "execution_count": 29,
   "id": "6efce83f-101e-4b54-bfe0-22fcf4298868",
   "metadata": {
    "tags": []
   },
   "outputs": [
    {
     "data": {
      "text/plain": [
       "1"
      ]
     },
     "execution_count": 29,
     "metadata": {},
     "output_type": "execute_result"
    }
   ],
   "source": [
    "ne[pos]"
   ]
  },
  {
   "cell_type": "code",
   "execution_count": 40,
   "id": "3f5d3fec-0265-4fe0-9792-4c896f070326",
   "metadata": {
    "tags": []
   },
   "outputs": [],
   "source": [
    "ne, pr = {}, {}\n",
    "for i, A in enumerate(An):\n",
    "    if i == N-1:\n",
    "        ne[A] = 10**20\n",
    "    else:\n",
    "        ne[A] = An[i+1]\n",
    "        \n",
    "    if i == 0:\n",
    "        pr[A] = 0\n",
    "    else:\n",
    "        pr[A] = An[i-1]"
   ]
  },
  {
   "cell_type": "code",
   "execution_count": 43,
   "id": "bc5b40a0-ef00-459c-8738-4f83321e0d10",
   "metadata": {
    "tags": []
   },
   "outputs": [],
   "source": [
    "for q in Qq:\n",
    "    if q[0] == 1:\n",
    "        _, x, y = q\n",
    "        ne[y] = ne[x]\n",
    "        ne[x] = y\n",
    "        \n",
    "        pr[y] = x\n",
    "        pr[ne[y]] = y\n",
    "    else:\n",
    "        _, x = q\n",
    "        ne[pr[x]] = ne[x]\n",
    "        \n",
    "        pr[ne[x]] = pr[x]\n",
    "        \n",
    "        del ne[x]\n",
    "        del pr[x]"
   ]
  },
  {
   "cell_type": "code",
   "execution_count": 45,
   "id": "c90a2387-d674-4e37-9eb7-0e90b5feae82",
   "metadata": {
    "tags": []
   },
   "outputs": [
    {
     "name": "stdout",
     "output_type": "stream",
     "text": [
      "4 5 1 3 "
     ]
    }
   ],
   "source": [
    "for k, v in pr.items():\n",
    "    if v == 0:\n",
    "        cur = k\n",
    "\n",
    "while cur != 10**20:\n",
    "    print(cur, end=' ')\n",
    "    cur = ne[cur]"
   ]
  },
  {
   "cell_type": "code",
   "execution_count": 44,
   "id": "c0900c58-a476-40fc-ad6c-e3e2db155326",
   "metadata": {
    "tags": []
   },
   "outputs": [
    {
     "data": {
      "text/plain": [
       "({4: 5, 3: 100000000000000000000, 5: 1, 0: 4, 1: 3}, {4: 0, 3: 1, 5: 4, 1: 5})"
      ]
     },
     "execution_count": 44,
     "metadata": {},
     "output_type": "execute_result"
    }
   ],
   "source": [
    "ne, pr"
   ]
  },
  {
   "cell_type": "code",
   "execution_count": null,
   "id": "f4e0705a-8a20-458b-8b28-8ceaa4b7c88d",
   "metadata": {},
   "outputs": [],
   "source": []
  }
 ],
 "metadata": {
  "kernelspec": {
   "display_name": "Python 3 (ipykernel)",
   "language": "python",
   "name": "python3"
  },
  "language_info": {
   "codemirror_mode": {
    "name": "ipython",
    "version": 3
   },
   "file_extension": ".py",
   "mimetype": "text/x-python",
   "name": "python",
   "nbconvert_exporter": "python",
   "pygments_lexer": "ipython3",
   "version": "3.11.3"
  }
 },
 "nbformat": 4,
 "nbformat_minor": 5
}
