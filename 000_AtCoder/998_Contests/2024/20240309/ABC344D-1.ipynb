{
 "cells": [
  {
   "cell_type": "code",
   "execution_count": 1,
   "id": "53207eec-ce0d-4f95-9c31-0503122742aa",
   "metadata": {
    "tags": []
   },
   "outputs": [],
   "source": [
    "import sys\n",
    "import numpy as np\n",
    "import math\n",
    "import collections\n",
    "import copy\n",
    "import decimal\n",
    "import itertools\n",
    "import re\n",
    "import bisect\n",
    "import scipy\n",
    "import heapq\n",
    "from collections import deque \n",
    "from functools import reduce\n",
    "from itertools import product\n",
    "from itertools import combinations\n",
    "from functools import lru_cache\n",
    "from scipy.special import comb\n",
    "from numba import njit\n",
    "from bisect import bisect_right\n",
    "from bisect import bisect_left\n",
    "from atcoder.fenwicktree import FenwickTree"
   ]
  },
  {
   "cell_type": "code",
   "execution_count": null,
   "id": "bdcfac1e-9d29-4eed-9115-f4390e30a358",
   "metadata": {},
   "outputs": [],
   "source": [
    "# 解説を読んで実装"
   ]
  },
  {
   "cell_type": "code",
   "execution_count": 1,
   "id": "f72d5073-d385-4d69-be8c-1ea469f01b10",
   "metadata": {
    "tags": []
   },
   "outputs": [
    {
     "name": "stdin",
     "output_type": "stream",
     "text": [
      " abcde\n"
     ]
    }
   ],
   "source": [
    "T = input()"
   ]
  },
  {
   "cell_type": "code",
   "execution_count": 2,
   "id": "e77c431c-4fd3-46b1-8dd0-fbf4c83892f9",
   "metadata": {
    "tags": []
   },
   "outputs": [
    {
     "name": "stdin",
     "output_type": "stream",
     "text": [
      " 3\n"
     ]
    }
   ],
   "source": [
    "N = int(input())"
   ]
  },
  {
   "cell_type": "code",
   "execution_count": 35,
   "id": "f17743bb-c678-4dea-914d-e86dfa4f3431",
   "metadata": {
    "tags": []
   },
   "outputs": [
    {
     "name": "stdin",
     "output_type": "stream",
     "text": [
      " 3 ab abc abcd\n",
      " 4 f c cd bcde\n",
      " 2 e de\n"
     ]
    }
   ],
   "source": [
    "ASn = [list(input().split()) for _ in range(N)]"
   ]
  },
  {
   "cell_type": "code",
   "execution_count": 65,
   "id": "5b17b4c6-704c-4e77-8d09-a1a8e243c9cb",
   "metadata": {
    "tags": []
   },
   "outputs": [],
   "source": [
    "dp = [[10**20] * (len(T)+1) for _ in range(N+1)]\n",
    "dp[0][0] = 0\n",
    "for i in range(1, N+1):\n",
    "    for j in range(len(T)+1):\n",
    "        dp[i][j] = min(dp[i][j], dp[i-1][j])\n",
    "        if dp[i-1][j] == 10**20:\n",
    "            continue\n",
    "        for k, AS in enumerate(ASn[i-1]):\n",
    "            if k == 0:\n",
    "                continue\n",
    "            # for l, (A, t) in enumerate(zip(AS, T[j+1:]), 1):\n",
    "            for A, t in zip(AS, T[j:]):\n",
    "                if A != t:\n",
    "                    break\n",
    "            else:\n",
    "                if len(AS) + j <= len(T):\n",
    "                    dp[i][j+len(AS)] = min(dp[i][j+len(AS)], dp[i-1][j]+1)\n",
    "                # print(AS, i, j, l)\n"
   ]
  },
  {
   "cell_type": "code",
   "execution_count": 66,
   "id": "2de58fe2-c3fc-4658-b418-0129f01e18ac",
   "metadata": {
    "tags": []
   },
   "outputs": [
    {
     "name": "stdout",
     "output_type": "stream",
     "text": [
      "2\n"
     ]
    }
   ],
   "source": [
    "if dp[N][len(T)] == 10**20:\n",
    "    print(-1)\n",
    "else:\n",
    "    print(dp[N][len(T)])"
   ]
  },
  {
   "cell_type": "code",
   "execution_count": 61,
   "id": "c9a10eae-2d86-4c0d-b8a0-91f3e9c27b1c",
   "metadata": {
    "tags": []
   },
   "outputs": [
    {
     "data": {
      "text/plain": [
       "(3, 5, 1)"
      ]
     },
     "execution_count": 61,
     "metadata": {},
     "output_type": "execute_result"
    }
   ],
   "source": [
    "i, j, l"
   ]
  },
  {
   "cell_type": "code",
   "execution_count": 62,
   "id": "84d67893-639d-423a-a28c-f9d53d22d9bc",
   "metadata": {
    "tags": []
   },
   "outputs": [
    {
     "data": {
      "text/plain": [
       "[0, 100000000000000000000, 1, 1, 1, 100000000000000000000]"
      ]
     },
     "execution_count": 62,
     "metadata": {},
     "output_type": "execute_result"
    }
   ],
   "source": [
    "dp[1]"
   ]
  },
  {
   "cell_type": "code",
   "execution_count": 48,
   "id": "2748831c-f3bf-4d3d-818f-ceaaed412bf7",
   "metadata": {
    "tags": []
   },
   "outputs": [
    {
     "data": {
      "text/plain": [
       "[['3', 'ab', 'abc', 'abcd'], ['4', 'f', 'c', 'cd', 'bcde'], ['2', 'e', 'de']]"
      ]
     },
     "execution_count": 48,
     "metadata": {},
     "output_type": "execute_result"
    }
   ],
   "source": [
    "ASn"
   ]
  },
  {
   "cell_type": "code",
   "execution_count": 78,
   "id": "09dea0b3-bca1-4a6e-96da-a9889f959247",
   "metadata": {
    "tags": []
   },
   "outputs": [],
   "source": [
    "dp = [[10**20] * (len(T)+1) for _ in range(N+1)]\n",
    "dp[0][0] = 0\n",
    "for i, AS in enumerate(ASn, 1):\n",
    "    for j in range(len(T)+1):\n",
    "        if dp[i-1][j] == 10**20:\n",
    "            continue\n",
    "        dp[i][j] = min(dp[i][j], dp[i-1][j])\n",
    "        for A in AS[1:]:\n",
    "            if len(A) + j > len(T):\n",
    "                continue\n",
    "            for a, t in zip(A, T[j:]):\n",
    "                if a != t:\n",
    "                    break\n",
    "            else:\n",
    "                dp[i][j+len(A)] = min(dp[i][j+len(A)], dp[i-1][j]+1)\n"
   ]
  },
  {
   "cell_type": "code",
   "execution_count": 79,
   "id": "9e28a668-e9d0-4146-8568-e36ce061acd2",
   "metadata": {
    "tags": []
   },
   "outputs": [
    {
     "name": "stdout",
     "output_type": "stream",
     "text": [
      "2\n"
     ]
    }
   ],
   "source": [
    "if dp[N][len(T)] == 10**20:\n",
    "    print(-1)\n",
    "else:\n",
    "    print(dp[N][len(T)])"
   ]
  },
  {
   "cell_type": "code",
   "execution_count": 73,
   "id": "cf94a9fa-af64-46b0-871c-0c2b2e77e1d8",
   "metadata": {
    "tags": []
   },
   "outputs": [
    {
     "data": {
      "text/plain": [
       "([100000000000000000000,\n",
       "  100000000000000000000,\n",
       "  1,\n",
       "  1,\n",
       "  1,\n",
       "  100000000000000000000],\n",
       " [100000000000000000000,\n",
       "  100000000000000000000,\n",
       "  100000000000000000000,\n",
       "  2,\n",
       "  2,\n",
       "  100000000000000000000],\n",
       " [100000000000000000000,\n",
       "  100000000000000000000,\n",
       "  100000000000000000000,\n",
       "  100000000000000000000,\n",
       "  100000000000000000000,\n",
       "  3])"
      ]
     },
     "execution_count": 73,
     "metadata": {},
     "output_type": "execute_result"
    }
   ],
   "source": [
    "dp[1], dp[2], dp[3]"
   ]
  },
  {
   "cell_type": "code",
   "execution_count": null,
   "id": "fc7eaae6-f7bc-4d6f-86d8-05c774712e82",
   "metadata": {},
   "outputs": [],
   "source": [
    "# TLE"
   ]
  },
  {
   "cell_type": "code",
   "execution_count": 13,
   "id": "17b713d4-ec3b-4e2f-b930-d6b6c099e037",
   "metadata": {
    "tags": []
   },
   "outputs": [],
   "source": [
    "import sys\n",
    "sys.setrecursionlimit(10**4)\n",
    "def solve(n, c, a, st):\n",
    "    print(n, c, a, st)\n",
    "    global ret\n",
    "    if n == len(T):\n",
    "        # print('good ' + str(c), st)\n",
    "        ret = min(ret, c)\n",
    "        # print(ret)\n",
    "        return\n",
    "    \n",
    "    if st in st_s:\n",
    "        return\n",
    "    st_s.add(st)\n",
    "    if a >= N:\n",
    "        # print('return')\n",
    "        return\n",
    "\n",
    "    ASr = ASn[a]\n",
    "    for AS in ASr[1:]:\n",
    "        if n + len(AS) > len(T):\n",
    "            continue\n",
    "        for s, t in zip(AS, T[n:]):\n",
    "            if s != t:\n",
    "                break\n",
    "        else:\n",
    "            if len(AS) == 0:\n",
    "                cp = 0\n",
    "            else:\n",
    "                cp = 1\n",
    "            if c+cp < ret:\n",
    "                solve(n+len(AS), c+cp, a+1, st+AS)\n",
    "    return"
   ]
  },
  {
   "cell_type": "code",
   "execution_count": 14,
   "id": "0b98ad49-f3c9-4c2a-9c08-072dbec28b07",
   "metadata": {
    "tags": []
   },
   "outputs": [
    {
     "name": "stdout",
     "output_type": "stream",
     "text": [
      "0 0 0 \n",
      "2 1 1 ab\n",
      "3 2 2 abc\n",
      "5 3 3 abcde\n",
      "3 2 3 abc\n",
      "3 2 3 abc\n",
      "3 2 3 abc\n",
      "3 2 3 abc\n",
      "3 2 3 abc\n",
      "4 2 2 abcd\n",
      "4 2 3 abcd\n",
      "4 2 3 abcd\n",
      "4 2 3 abcd\n",
      "4 2 3 abcd\n",
      "4 2 3 abcd\n",
      "2 1 2 ab\n",
      "2 1 2 ab\n",
      "2 1 2 ab\n",
      "2 1 2 ab\n",
      "2 1 2 ab\n",
      "3 1 1 abc\n",
      "4 1 1 abcd\n",
      "0 0 1 \n",
      "0 0 1 \n",
      "0 0 1 \n",
      "0 0 1 \n",
      "0 0 1 \n",
      "3\n"
     ]
    }
   ],
   "source": [
    "ret = 10**20\n",
    "st_s = set()\n",
    "for i in range(N):\n",
    "    ASn[i].append(\"\")\n",
    "solve(0, 0, 0, \"\")\n",
    "if ret == 10**20:\n",
    "    print(-1)\n",
    "else:\n",
    "    print(ret)"
   ]
  },
  {
   "cell_type": "code",
   "execution_count": 15,
   "id": "3509490b-a9f6-4901-914f-6b9e144a6e4e",
   "metadata": {
    "tags": []
   },
   "outputs": [
    {
     "data": {
      "text/plain": [
       "3"
      ]
     },
     "execution_count": 15,
     "metadata": {},
     "output_type": "execute_result"
    }
   ],
   "source": [
    "ret"
   ]
  },
  {
   "cell_type": "code",
   "execution_count": null,
   "id": "0bb1f1f1-d91b-490e-a70a-b1b90895a7d3",
   "metadata": {},
   "outputs": [],
   "source": []
  }
 ],
 "metadata": {
  "kernelspec": {
   "display_name": "Python 3 (ipykernel)",
   "language": "python",
   "name": "python3"
  },
  "language_info": {
   "codemirror_mode": {
    "name": "ipython",
    "version": 3
   },
   "file_extension": ".py",
   "mimetype": "text/x-python",
   "name": "python",
   "nbconvert_exporter": "python",
   "pygments_lexer": "ipython3",
   "version": "3.11.3"
  }
 },
 "nbformat": 4,
 "nbformat_minor": 5
}
