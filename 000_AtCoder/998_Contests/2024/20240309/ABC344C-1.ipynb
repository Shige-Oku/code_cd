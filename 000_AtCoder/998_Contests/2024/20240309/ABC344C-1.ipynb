{
 "cells": [
  {
   "cell_type": "code",
   "execution_count": 1,
   "id": "7e77e490-afe1-40c9-b36b-9d64a13f5ed7",
   "metadata": {
    "tags": []
   },
   "outputs": [],
   "source": [
    "import sys\n",
    "import numpy as np\n",
    "import math\n",
    "import collections\n",
    "import copy\n",
    "import decimal\n",
    "import itertools\n",
    "import re\n",
    "import bisect\n",
    "import scipy\n",
    "import heapq\n",
    "from collections import deque \n",
    "from functools import reduce\n",
    "from itertools import product\n",
    "from itertools import combinations\n",
    "from functools import lru_cache\n",
    "from scipy.special import comb\n",
    "from numba import njit\n",
    "from bisect import bisect_right\n",
    "from bisect import bisect_left\n",
    "from atcoder.fenwicktree import FenwickTree"
   ]
  },
  {
   "cell_type": "code",
   "execution_count": 2,
   "id": "0563600b-b117-4919-a6a1-7928a1b359cf",
   "metadata": {
    "tags": []
   },
   "outputs": [
    {
     "name": "stdin",
     "output_type": "stream",
     "text": [
      " 3\n"
     ]
    }
   ],
   "source": [
    "N = int(input())"
   ]
  },
  {
   "cell_type": "code",
   "execution_count": 3,
   "id": "0c3ba91a-4207-4d9e-9e8c-6a51ac704f74",
   "metadata": {
    "tags": []
   },
   "outputs": [
    {
     "name": "stdin",
     "output_type": "stream",
     "text": [
      " 1 2 3\n"
     ]
    }
   ],
   "source": [
    "An = list(map(int, input().split()))"
   ]
  },
  {
   "cell_type": "code",
   "execution_count": 4,
   "id": "ddbc1a5c-be81-4ab0-824d-9ba98eb27c68",
   "metadata": {
    "tags": []
   },
   "outputs": [
    {
     "name": "stdin",
     "output_type": "stream",
     "text": [
      " 2\n"
     ]
    }
   ],
   "source": [
    "M = int(input())"
   ]
  },
  {
   "cell_type": "code",
   "execution_count": 5,
   "id": "020b8707-52b2-44c9-937d-3990b57c2119",
   "metadata": {
    "tags": []
   },
   "outputs": [
    {
     "name": "stdin",
     "output_type": "stream",
     "text": [
      " 2 4\n"
     ]
    }
   ],
   "source": [
    "Bm = list(map(int, input().split()))"
   ]
  },
  {
   "cell_type": "code",
   "execution_count": 6,
   "id": "344a4429-cd4e-4de9-9ceb-7c7642159c5a",
   "metadata": {
    "tags": []
   },
   "outputs": [
    {
     "name": "stdin",
     "output_type": "stream",
     "text": [
      " 6\n"
     ]
    }
   ],
   "source": [
    "L = int(input())"
   ]
  },
  {
   "cell_type": "code",
   "execution_count": 7,
   "id": "1bba50b5-36b3-4b7a-bf26-659e6174eafd",
   "metadata": {
    "tags": []
   },
   "outputs": [
    {
     "name": "stdin",
     "output_type": "stream",
     "text": [
      " 1 2 4 8 16 32\n"
     ]
    }
   ],
   "source": [
    "Cl = list(map(int, input().split()))"
   ]
  },
  {
   "cell_type": "code",
   "execution_count": 8,
   "id": "50d9e7fd-a669-4649-ae31-97372424533a",
   "metadata": {
    "tags": []
   },
   "outputs": [
    {
     "name": "stdin",
     "output_type": "stream",
     "text": [
      " 4\n"
     ]
    }
   ],
   "source": [
    "Q = int(input())"
   ]
  },
  {
   "cell_type": "code",
   "execution_count": 9,
   "id": "1610fe9b-c4f9-415c-82b4-503ccd7908ce",
   "metadata": {
    "tags": []
   },
   "outputs": [
    {
     "name": "stdin",
     "output_type": "stream",
     "text": [
      " 1 5 10 50\n"
     ]
    }
   ],
   "source": [
    "Xq = list(map(int, input().split()))"
   ]
  },
  {
   "cell_type": "code",
   "execution_count": 42,
   "id": "3a5ea433-2624-4200-87ac-9c410077c833",
   "metadata": {
    "tags": []
   },
   "outputs": [],
   "source": [
    "can = set()\n",
    "for A in An:\n",
    "    for B in Bm:\n",
    "        for C in Cl:\n",
    "            can.add(A+B+C)"
   ]
  },
  {
   "cell_type": "code",
   "execution_count": 43,
   "id": "62e3ca6c-4dc6-4e3d-9016-756582638aa8",
   "metadata": {
    "tags": []
   },
   "outputs": [
    {
     "name": "stdout",
     "output_type": "stream",
     "text": [
      "No\n",
      "Yes\n",
      "Yes\n",
      "No\n"
     ]
    }
   ],
   "source": [
    "for X in Xq:\n",
    "    if X in can:\n",
    "        print('Yes')\n",
    "    else:\n",
    "        print('No')"
   ]
  },
  {
   "cell_type": "code",
   "execution_count": 40,
   "id": "d5c8c0b2-b7ec-4091-9c60-e3c4bfe76d8c",
   "metadata": {
    "tags": []
   },
   "outputs": [],
   "source": [
    "AB_nm = set()\n",
    "for A in An:\n",
    "    for B in Bm:\n",
    "        AB_nm.add(A+B)\n",
    "AB_s = sorted(AB_nm)"
   ]
  },
  {
   "cell_type": "code",
   "execution_count": null,
   "id": "07839107-9f51-49b0-a1af-5ea3b9944731",
   "metadata": {},
   "outputs": [],
   "source": [
    "def solve(x):\n",
    "    "
   ]
  },
  {
   "cell_type": "code",
   "execution_count": 41,
   "id": "116f52fc-8b48-497f-bb41-8b5b46da0b58",
   "metadata": {
    "tags": []
   },
   "outputs": [
    {
     "name": "stdout",
     "output_type": "stream",
     "text": [
      "No\n",
      "Yes\n",
      "Yes\n",
      "No\n"
     ]
    }
   ],
   "source": [
    "Cl_s = set(Cl)\n",
    "for X in Xq:\n",
    "    flg = False\n",
    "    for AB in AB_s:\n",
    "        if AB > X:\n",
    "            break\n",
    "        if X - AB in Cl_s:\n",
    "            flg = True\n",
    "            break\n",
    "    print('Yes' if flg else 'No')\n"
   ]
  },
  {
   "cell_type": "code",
   "execution_count": 23,
   "id": "a9772193-8c5c-4e1f-92f8-b6915c26dcd5",
   "metadata": {
    "tags": []
   },
   "outputs": [
    {
     "data": {
      "text/plain": [
       "[1, 2, 3]"
      ]
     },
     "execution_count": 23,
     "metadata": {},
     "output_type": "execute_result"
    }
   ],
   "source": [
    "mi"
   ]
  },
  {
   "cell_type": "code",
   "execution_count": null,
   "id": "2055e988-56bb-4041-89b9-544b5d29d1b5",
   "metadata": {},
   "outputs": [],
   "source": []
  }
 ],
 "metadata": {
  "kernelspec": {
   "display_name": "Python 3 (ipykernel)",
   "language": "python",
   "name": "python3"
  },
  "language_info": {
   "codemirror_mode": {
    "name": "ipython",
    "version": 3
   },
   "file_extension": ".py",
   "mimetype": "text/x-python",
   "name": "python",
   "nbconvert_exporter": "python",
   "pygments_lexer": "ipython3",
   "version": "3.11.3"
  }
 },
 "nbformat": 4,
 "nbformat_minor": 5
}
