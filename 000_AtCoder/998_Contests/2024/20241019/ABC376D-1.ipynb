{
 "cells": [
  {
   "cell_type": "code",
   "execution_count": 1,
   "id": "5f05612d-d0de-45c6-b4f1-dc7fc59d6ab1",
   "metadata": {
    "tags": []
   },
   "outputs": [],
   "source": [
    "import sys\n",
    "import numpy as np\n",
    "import math\n",
    "import collections\n",
    "import copy\n",
    "import decimal\n",
    "import itertools\n",
    "import re\n",
    "import bisect\n",
    "import scipy\n",
    "import heapq\n",
    "from collections import deque \n",
    "from functools import reduce\n",
    "from itertools import product\n",
    "from itertools import combinations\n",
    "from functools import lru_cache\n",
    "from scipy.special import comb\n",
    "from numba import njit\n",
    "from bisect import bisect_right\n",
    "from bisect import bisect_left\n",
    "from atcoder.fenwicktree import FenwickTree\n",
    "from sortedcontainers import SortedSet, SortedList, SortedDict"
   ]
  },
  {
   "cell_type": "code",
   "execution_count": 15,
   "id": "3f77295c-9b3b-4db8-a930-c4f59996ddfb",
   "metadata": {
    "tags": []
   },
   "outputs": [
    {
     "name": "stdin",
     "output_type": "stream",
     "text": [
      " 6 9\n"
     ]
    }
   ],
   "source": [
    "N, M = map(int, input().split())"
   ]
  },
  {
   "cell_type": "code",
   "execution_count": 16,
   "id": "f174f27f-7eaf-4db8-b092-a80997a93c81",
   "metadata": {
    "tags": []
   },
   "outputs": [
    {
     "name": "stdin",
     "output_type": "stream",
     "text": [
      " 6 1\n",
      " 1 5\n",
      " 2 6\n",
      " 2 1\n",
      " 3 6\n",
      " 4 2\n",
      " 6 4\n",
      " 3 5\n",
      " 5 4\n"
     ]
    }
   ],
   "source": [
    "ABm = [list(map(int, input().split())) for _ in range(M)]"
   ]
  },
  {
   "cell_type": "code",
   "execution_count": 17,
   "id": "52ac3619-51ad-44d1-b0bb-f28873743fc4",
   "metadata": {
    "tags": []
   },
   "outputs": [],
   "source": [
    "graph = [[] for _ in range(N+1)]\n",
    "for A, B in ABm:\n",
    "    graph[A].append(B)"
   ]
  },
  {
   "cell_type": "code",
   "execution_count": 38,
   "id": "60124b7b-c196-45bb-b8d9-6605e0707c03",
   "metadata": {
    "tags": []
   },
   "outputs": [],
   "source": [
    "from collections import deque \n",
    "def bfs():\n",
    "    ret = 10**20\n",
    "    q = deque()\n",
    "    visit[1] = True\n",
    "    dist[1] = 0\n",
    "    q.append(1)\n",
    "    while q :\n",
    "        p = q.popleft()\n",
    "        for ne in graph[p]:\n",
    "            if visit[ne]:\n",
    "                if ne == 1:\n",
    "                    ret = min(ret, abs(dist[1]-dist[p])+1)\n",
    "                    # print(ret, p, ne, dist[p], dist[ne], dist[1]-dist[p]+1)\n",
    "                continue\n",
    "            visit[ne] = True\n",
    "            dist[ne] = dist[p] + 1\n",
    "            q.append(ne)\n",
    "    \n",
    "    if ret == 10**20:\n",
    "        ret = -1\n",
    "    return ret"
   ]
  },
  {
   "cell_type": "code",
   "execution_count": 39,
   "id": "92aaebf3-ab55-4abf-bbd7-669f699af402",
   "metadata": {
    "tags": []
   },
   "outputs": [
    {
     "name": "stdout",
     "output_type": "stream",
     "text": [
      "4\n"
     ]
    }
   ],
   "source": [
    "visit = [False] * (N+1)\n",
    "dist = [0] * (N+1)\n",
    "print(bfs())"
   ]
  },
  {
   "cell_type": "code",
   "execution_count": 28,
   "id": "95cb7623-6375-4bd7-b49c-4fdf4f41c0ea",
   "metadata": {
    "tags": []
   },
   "outputs": [
    {
     "data": {
      "text/plain": [
       "[[], [5], [6, 1], [6, 5], [2], [4], [1, 4]]"
      ]
     },
     "execution_count": 28,
     "metadata": {},
     "output_type": "execute_result"
    }
   ],
   "source": [
    "graph"
   ]
  },
  {
   "cell_type": "code",
   "execution_count": 33,
   "id": "f709df41-28e5-498d-a42a-4368c91ac803",
   "metadata": {
    "tags": []
   },
   "outputs": [
    {
     "data": {
      "text/plain": [
       "[0, 0, 3, 0, 2, 1, 4]"
      ]
     },
     "execution_count": 33,
     "metadata": {},
     "output_type": "execute_result"
    }
   ],
   "source": [
    "dist"
   ]
  },
  {
   "cell_type": "code",
   "execution_count": null,
   "id": "81b3e610-9397-4dd2-8728-0cf1bfee5db2",
   "metadata": {},
   "outputs": [],
   "source": []
  }
 ],
 "metadata": {
  "kernelspec": {
   "display_name": "Python 3 (ipykernel)",
   "language": "python",
   "name": "python3"
  },
  "language_info": {
   "codemirror_mode": {
    "name": "ipython",
    "version": 3
   },
   "file_extension": ".py",
   "mimetype": "text/x-python",
   "name": "python",
   "nbconvert_exporter": "python",
   "pygments_lexer": "ipython3",
   "version": "3.11.3"
  }
 },
 "nbformat": 4,
 "nbformat_minor": 5
}
