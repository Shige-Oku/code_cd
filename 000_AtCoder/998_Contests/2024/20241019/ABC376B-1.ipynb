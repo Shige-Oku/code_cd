{
 "cells": [
  {
   "cell_type": "code",
   "execution_count": 1,
   "id": "94b8bf0e-3bd1-4f8b-8d2c-367119b577ee",
   "metadata": {
    "tags": []
   },
   "outputs": [],
   "source": [
    "import sys\n",
    "import numpy as np\n",
    "import math\n",
    "import collections\n",
    "import copy\n",
    "import decimal\n",
    "import itertools\n",
    "import re\n",
    "import bisect\n",
    "import scipy\n",
    "import heapq\n",
    "from collections import deque \n",
    "from functools import reduce\n",
    "from itertools import product\n",
    "from itertools import combinations\n",
    "from functools import lru_cache\n",
    "from scipy.special import comb\n",
    "from numba import njit\n",
    "from bisect import bisect_right\n",
    "from bisect import bisect_left\n",
    "from atcoder.fenwicktree import FenwickTree\n",
    "from sortedcontainers import SortedSet, SortedList, SortedDict"
   ]
  },
  {
   "cell_type": "code",
   "execution_count": 2,
   "id": "7009b807-cd32-4d85-9115-0edf3074b95e",
   "metadata": {
    "tags": []
   },
   "outputs": [
    {
     "name": "stdin",
     "output_type": "stream",
     "text": [
      " 6 3\n"
     ]
    }
   ],
   "source": [
    "N, Q = map(int, input().split())"
   ]
  },
  {
   "cell_type": "code",
   "execution_count": 4,
   "id": "dbbb5471-238e-4087-8475-ab0571acd4b9",
   "metadata": {
    "tags": []
   },
   "outputs": [
    {
     "name": "stdin",
     "output_type": "stream",
     "text": [
      " R 4\n",
      " L 5\n",
      " R 6\n"
     ]
    }
   ],
   "source": [
    "HTq = [list(input().split()) for _ in range(Q)]"
   ]
  },
  {
   "cell_type": "code",
   "execution_count": 11,
   "id": "691d680c-de86-4960-9468-1cd58bf83abc",
   "metadata": {
    "tags": []
   },
   "outputs": [],
   "source": [
    "def solve(n1, n2, n3):\n",
    "    l = min(n1, n2)\n",
    "    r = max(n1, n2)\n",
    "    if l <= n3 <= r:\n",
    "        return l  + (N - r) \n",
    "    else:\n",
    "        return r - l"
   ]
  },
  {
   "cell_type": "code",
   "execution_count": 12,
   "id": "ebba8177-6ce2-4fa5-a66e-aced2e2fdbc2",
   "metadata": {
    "tags": []
   },
   "outputs": [
    {
     "name": "stdout",
     "output_type": "stream",
     "text": [
      "2 1 4\n",
      "4 5 4\n",
      "8 5 6\n"
     ]
    }
   ],
   "source": [
    "ans = 0\n",
    "l, r = 1, 2\n",
    "for H, T in HTq:\n",
    "    T = int(T)\n",
    "    if H == 'R':\n",
    "        ans += solve(r, T, l)\n",
    "        r = T\n",
    "    else:\n",
    "        ans += solve(l, T, r)\n",
    "        l = T\n",
    "    print(ans, l, r)"
   ]
  },
  {
   "cell_type": "code",
   "execution_count": 13,
   "id": "7f2a0a12-3330-4c6e-9eb1-a61b01830169",
   "metadata": {
    "tags": []
   },
   "outputs": [
    {
     "name": "stdout",
     "output_type": "stream",
     "text": [
      "8\n"
     ]
    }
   ],
   "source": [
    "print(ans)"
   ]
  },
  {
   "cell_type": "code",
   "execution_count": null,
   "id": "e594ca4e-35c2-490e-99ff-102eacb82c32",
   "metadata": {},
   "outputs": [],
   "source": []
  }
 ],
 "metadata": {
  "kernelspec": {
   "display_name": "Python 3 (ipykernel)",
   "language": "python",
   "name": "python3"
  },
  "language_info": {
   "codemirror_mode": {
    "name": "ipython",
    "version": 3
   },
   "file_extension": ".py",
   "mimetype": "text/x-python",
   "name": "python",
   "nbconvert_exporter": "python",
   "pygments_lexer": "ipython3",
   "version": "3.11.3"
  }
 },
 "nbformat": 4,
 "nbformat_minor": 5
}
