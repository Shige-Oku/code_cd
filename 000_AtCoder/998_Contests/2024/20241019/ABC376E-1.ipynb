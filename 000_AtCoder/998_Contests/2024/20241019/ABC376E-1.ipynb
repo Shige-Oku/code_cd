{
 "cells": [
  {
   "cell_type": "code",
   "execution_count": 1,
   "id": "e597fc37-d248-412a-8a1b-d7cf8b3de499",
   "metadata": {
    "tags": []
   },
   "outputs": [],
   "source": [
    "import sys\n",
    "import numpy as np\n",
    "import math\n",
    "import collections\n",
    "import copy\n",
    "import decimal\n",
    "import itertools\n",
    "import re\n",
    "import bisect\n",
    "import scipy\n",
    "import heapq\n",
    "from collections import deque \n",
    "from functools import reduce\n",
    "from itertools import product\n",
    "from itertools import combinations\n",
    "from functools import lru_cache\n",
    "from scipy.special import comb\n",
    "from numba import njit\n",
    "from bisect import bisect_right\n",
    "from bisect import bisect_left\n",
    "from atcoder.fenwicktree import FenwickTree\n",
    "from sortedcontainers import SortedSet, SortedList, SortedDict"
   ]
  },
  {
   "cell_type": "code",
   "execution_count": 3,
   "id": "e830aa3c-c91f-40a5-b6ab-87dfd358919d",
   "metadata": {
    "tags": []
   },
   "outputs": [
    {
     "name": "stdin",
     "output_type": "stream",
     "text": [
      " 3\n"
     ]
    }
   ],
   "source": [
    "T = int(input())"
   ]
  },
  {
   "cell_type": "code",
   "execution_count": 6,
   "id": "3100b052-fc9c-42fb-9ae3-f6deafbd8250",
   "metadata": {
    "tags": []
   },
   "outputs": [
    {
     "name": "stdin",
     "output_type": "stream",
     "text": [
      " 3 2\n",
      " 3 7 6\n",
      " 9 2 3\n",
      " 5 3\n",
      " 6 4 1 5 9\n",
      " 8 6 5 1 7\n",
      " 10 6\n",
      " 61 95 61 57 69 49 46 47 14 43\n",
      " 39 79 48 92 90 76 30 16 30 94\n"
     ]
    }
   ],
   "source": [
    "Nn, Kn, Ant, Bnt = [], [], [], []\n",
    "for _ in range(T):\n",
    "    N, K = map(int, input().split())\n",
    "    Nn.append(N)\n",
    "    Kn.append(K)\n",
    "    An = list(map(int, input().split()))\n",
    "    Ant.append(An)\n",
    "    Bn = list(map(int, input().split()))\n",
    "    Bnt.append(Bn)\n",
    "    "
   ]
  },
  {
   "cell_type": "code",
   "execution_count": 15,
   "id": "38493269-5990-4d05-8974-a72090fc363b",
   "metadata": {
    "tags": []
   },
   "outputs": [],
   "source": [
    "import heapq\n",
    "def solve(N, K, An, Bn):\n",
    "    ABn_s = sorted([(A, B) for A, B in zip(An, Bn)])\n",
    "    \n",
    "    Bsum = 0\n",
    "    q = []\n",
    "    ret = 10**20\n",
    "    for A, B in ABn_s:\n",
    "        Bsum += B\n",
    "        heapq.heappush(q, -B)\n",
    "        if len(q) < K:\n",
    "            continue\n",
    "            \n",
    "        ret = min(ret, Bsum * A)\n",
    "        d = heapq.heappop(q)\n",
    "        Bsum += d\n",
    "    \n",
    "    return ret"
   ]
  },
  {
   "cell_type": "code",
   "execution_count": 16,
   "id": "35484e9d-98f3-4827-adf9-7a925e1c7657",
   "metadata": {
    "tags": []
   },
   "outputs": [
    {
     "name": "stdout",
     "output_type": "stream",
     "text": [
      "35\n",
      "60\n",
      "14579\n"
     ]
    }
   ],
   "source": [
    "for N, K, An, Bn in zip(Nn, Kn, Ant, Bnt):\n",
    "    print(solve(N, K, An, Bn))"
   ]
  },
  {
   "cell_type": "code",
   "execution_count": 7,
   "id": "df54be27-9f94-4bd4-9820-b57fa5b87eaa",
   "metadata": {
    "tags": []
   },
   "outputs": [
    {
     "data": {
      "text/plain": [
       "([3, 5, 10],\n",
       " [2, 3, 6],\n",
       " [[3, 7, 6], [6, 4, 1, 5, 9], [61, 95, 61, 57, 69, 49, 46, 47, 14, 43]],\n",
       " [[9, 2, 3], [8, 6, 5, 1, 7], [39, 79, 48, 92, 90, 76, 30, 16, 30, 94]])"
      ]
     },
     "execution_count": 7,
     "metadata": {},
     "output_type": "execute_result"
    }
   ],
   "source": [
    "Nn, Kn, Ant, Bnt"
   ]
  },
  {
   "cell_type": "code",
   "execution_count": null,
   "id": "dbbc4811-3bf1-455a-b318-c95e48d11616",
   "metadata": {},
   "outputs": [],
   "source": []
  }
 ],
 "metadata": {
  "kernelspec": {
   "display_name": "Python 3 (ipykernel)",
   "language": "python",
   "name": "python3"
  },
  "language_info": {
   "codemirror_mode": {
    "name": "ipython",
    "version": 3
   },
   "file_extension": ".py",
   "mimetype": "text/x-python",
   "name": "python",
   "nbconvert_exporter": "python",
   "pygments_lexer": "ipython3",
   "version": "3.11.3"
  }
 },
 "nbformat": 4,
 "nbformat_minor": 5
}
