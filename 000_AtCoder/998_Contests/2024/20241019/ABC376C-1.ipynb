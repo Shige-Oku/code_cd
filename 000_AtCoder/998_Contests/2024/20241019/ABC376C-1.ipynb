{
 "cells": [
  {
   "cell_type": "code",
   "execution_count": 1,
   "id": "a67e80af-5d0a-4e0a-bc0f-d8f02eb8780d",
   "metadata": {
    "tags": []
   },
   "outputs": [],
   "source": [
    "import sys\n",
    "import numpy as np\n",
    "import math\n",
    "import collections\n",
    "import copy\n",
    "import decimal\n",
    "import itertools\n",
    "import re\n",
    "import bisect\n",
    "import scipy\n",
    "import heapq\n",
    "from collections import deque \n",
    "from functools import reduce\n",
    "from itertools import product\n",
    "from itertools import combinations\n",
    "from functools import lru_cache\n",
    "from scipy.special import comb\n",
    "from numba import njit\n",
    "from bisect import bisect_right\n",
    "from bisect import bisect_left\n",
    "from atcoder.fenwicktree import FenwickTree\n",
    "from sortedcontainers import SortedSet, SortedList, SortedDict"
   ]
  },
  {
   "cell_type": "code",
   "execution_count": 1,
   "id": "8854b36a-9b39-40f1-9477-cb192b0894aa",
   "metadata": {
    "tags": []
   },
   "outputs": [
    {
     "name": "stdin",
     "output_type": "stream",
     "text": [
      " 8\n"
     ]
    }
   ],
   "source": [
    "N = int(input())"
   ]
  },
  {
   "cell_type": "code",
   "execution_count": 2,
   "id": "024eb83e-89a9-4668-ba9a-b09279fd9310",
   "metadata": {
    "tags": []
   },
   "outputs": [
    {
     "name": "stdin",
     "output_type": "stream",
     "text": [
      " 2 28 17 39 57 56 37 32\n"
     ]
    }
   ],
   "source": [
    "An = list(map(int, input().split()))"
   ]
  },
  {
   "cell_type": "code",
   "execution_count": 3,
   "id": "be1db068-cd48-414b-9744-ca7c9e668123",
   "metadata": {
    "tags": []
   },
   "outputs": [
    {
     "name": "stdin",
     "output_type": "stream",
     "text": [
      " 34 27 73 28 76 61 27\n"
     ]
    }
   ],
   "source": [
    "Bn = list(map(int, input().split()))"
   ]
  },
  {
   "cell_type": "code",
   "execution_count": 27,
   "id": "6ac61a28-cc52-43c1-ad7e-dc6a1f5b2659",
   "metadata": {
    "tags": []
   },
   "outputs": [],
   "source": [
    "An_s = sorted(An, reverse=True)\n",
    "Bn_s = sorted(Bn, reverse=True)\n",
    "bi = 0\n",
    "f = False\n",
    "ans = -1\n",
    "for A in An_s:\n",
    "    if bi >= N-1:\n",
    "        ans = A\n",
    "        break\n",
    "    if A > Bn_s[bi]:\n",
    "        if f:\n",
    "            ans = -1\n",
    "            break\n",
    "        f = True\n",
    "        ans = A\n",
    "    else:\n",
    "        bi += 1"
   ]
  },
  {
   "cell_type": "code",
   "execution_count": 28,
   "id": "ddb3ded1-b59a-4c7e-b5a0-f3b6b01ab3c9",
   "metadata": {
    "tags": []
   },
   "outputs": [
    {
     "name": "stdout",
     "output_type": "stream",
     "text": [
      "37\n"
     ]
    }
   ],
   "source": [
    "print(ans)"
   ]
  },
  {
   "cell_type": "code",
   "execution_count": 18,
   "id": "3b644d66-e4ed-4a20-a785-5d59e20db27c",
   "metadata": {
    "tags": []
   },
   "outputs": [],
   "source": [
    "def solve():\n",
    "    An_s = sorted(An, reverse=True)\n",
    "    Bn_s = sorted(Bn, reverse=True)\n",
    "    \n",
    "    ret = -1\n",
    "    bi = 0\n",
    "    for A in An_s:\n",
    "        if bi < N-1 and A <= Bn_s[bi]:\n",
    "            bi += 1\n",
    "            continue\n",
    "        if ret > -1:\n",
    "            return -1\n",
    "        ret = A\n",
    "\n",
    "    return ret"
   ]
  },
  {
   "cell_type": "code",
   "execution_count": 19,
   "id": "17f1134b-d207-4b24-a53a-c8221ca26d3c",
   "metadata": {},
   "outputs": [
    {
     "name": "stdout",
     "output_type": "stream",
     "text": [
      "37\n"
     ]
    }
   ],
   "source": [
    "print(solve())"
   ]
  },
  {
   "cell_type": "code",
   "execution_count": null,
   "id": "6bc76fc2-7f08-422d-8a81-36fa56785851",
   "metadata": {},
   "outputs": [],
   "source": []
  }
 ],
 "metadata": {
  "kernelspec": {
   "display_name": "Python 3 (ipykernel)",
   "language": "python",
   "name": "python3"
  },
  "language_info": {
   "codemirror_mode": {
    "name": "ipython",
    "version": 3
   },
   "file_extension": ".py",
   "mimetype": "text/x-python",
   "name": "python",
   "nbconvert_exporter": "python",
   "pygments_lexer": "ipython3",
   "version": "3.11.3"
  }
 },
 "nbformat": 4,
 "nbformat_minor": 5
}
