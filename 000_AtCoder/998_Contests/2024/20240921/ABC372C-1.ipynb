{
 "cells": [
  {
   "cell_type": "code",
   "execution_count": 1,
   "id": "0e836de7-73bc-4112-9c82-1274fe5efa84",
   "metadata": {
    "tags": []
   },
   "outputs": [],
   "source": [
    "import sys\n",
    "import numpy as np\n",
    "import math\n",
    "import collections\n",
    "import copy\n",
    "import decimal\n",
    "import itertools\n",
    "import re\n",
    "import bisect\n",
    "import scipy\n",
    "import heapq\n",
    "from collections import deque \n",
    "from functools import reduce\n",
    "from itertools import product\n",
    "from itertools import combinations\n",
    "from functools import lru_cache\n",
    "from scipy.special import comb\n",
    "from numba import njit\n",
    "from bisect import bisect_right\n",
    "from bisect import bisect_left\n",
    "from atcoder.fenwicktree import FenwickTree\n",
    "from sortedcontainers import SortedSet, SortedList, SortedDict"
   ]
  },
  {
   "cell_type": "code",
   "execution_count": 100,
   "id": "a2afcab4-516d-4223-b24a-5cf31c6ac8f3",
   "metadata": {
    "tags": []
   },
   "outputs": [
    {
     "name": "stdin",
     "output_type": "stream",
     "text": [
      " 7 4\n"
     ]
    }
   ],
   "source": [
    "N, Q = map(int, input().split())"
   ]
  },
  {
   "cell_type": "code",
   "execution_count": 101,
   "id": "61e20716-10af-43d5-ba97-bab16b701097",
   "metadata": {
    "tags": []
   },
   "outputs": [
    {
     "name": "stdin",
     "output_type": "stream",
     "text": [
      " ABCDABC\n"
     ]
    }
   ],
   "source": [
    "S = input()"
   ]
  },
  {
   "cell_type": "code",
   "execution_count": 102,
   "id": "1e9cbbfd-74f9-413c-9d21-8ba0e76f8785",
   "metadata": {
    "tags": []
   },
   "outputs": [
    {
     "name": "stdin",
     "output_type": "stream",
     "text": [
      " 4 B\n",
      " 3 A\n",
      " 5 C\n",
      " 4 G\n"
     ]
    }
   ],
   "source": [
    "XCq = [list(input().split()) for _ in range(Q)]"
   ]
  },
  {
   "cell_type": "code",
   "execution_count": 103,
   "id": "aee3062a-65ab-4e73-8fb0-bcb8dbe68101",
   "metadata": {
    "tags": []
   },
   "outputs": [],
   "source": [
    "def judge(n):\n",
    "    ret = False\n",
    "    for i in range(n-2, n+1):\n",
    "        if S_l[i] == 'A' and S_l[i+1] == 'B' and S_l[i+2] == 'C':\n",
    "            ret = True\n",
    "    return ret"
   ]
  },
  {
   "cell_type": "code",
   "execution_count": 105,
   "id": "72be1a19-3a4c-4074-9ab1-84563b6080f2",
   "metadata": {
    "tags": []
   },
   "outputs": [
    {
     "name": "stdout",
     "output_type": "stream",
     "text": [
      "2\n",
      "1\n",
      "1\n",
      "0\n"
     ]
    }
   ],
   "source": [
    "ans = S.count('ABC')\n",
    "S_l = ['z'] + ['z'] + list(S) + ['z'] + ['z']\n",
    "for X, C in XCq:\n",
    "    x = int(X) + 1\n",
    "    if judge(x):\n",
    "        ans -= 1\n",
    "    S_l[x] = C\n",
    "    if judge(x):\n",
    "        ans += 1\n",
    "    print(ans)"
   ]
  },
  {
   "cell_type": "code",
   "execution_count": null,
   "id": "eb6330c0-7322-446e-90ce-432da5950c6e",
   "metadata": {},
   "outputs": [],
   "source": []
  },
  {
   "cell_type": "code",
   "execution_count": 99,
   "id": "a0dbbb10-9c97-42c5-8ff1-546400c0d414",
   "metadata": {
    "tags": []
   },
   "outputs": [
    {
     "data": {
      "text/plain": [
       "1"
      ]
     },
     "execution_count": 99,
     "metadata": {},
     "output_type": "execute_result"
    }
   ],
   "source": [
    "ans"
   ]
  },
  {
   "cell_type": "code",
   "execution_count": 95,
   "id": "fcd62fde-833e-4b00-a926-dbd632342ac4",
   "metadata": {
    "tags": []
   },
   "outputs": [],
   "source": [
    "from bisect import bisect_right\n",
    "def solve(x, C):\n",
    "    if len(abc_pos) == 0:\n",
    "        return\n",
    "    p = bisect_right(abc_pos, x)\n",
    "    if p > 0:\n",
    "        p -= 1\n",
    "\n",
    "    s = abc_pos[p]\n",
    "    # print(p, s, x)\n",
    "    if s <= x <= s + 2:\n",
    "        abc_pos.pop(p)\n",
    "    return"
   ]
  },
  {
   "cell_type": "code",
   "execution_count": 96,
   "id": "296798a3-3a4f-460a-88d6-5af23d7f9fe7",
   "metadata": {
    "tags": []
   },
   "outputs": [],
   "source": [
    "def solve2(x):\n",
    "    for i in range(x-2, x+1):\n",
    "        if S_l[i] == 'A' and S_l[i+1] == 'B' and S_l[i+2] == 'C':\n",
    "            abc_pos.add(i)\n",
    "    "
   ]
  },
  {
   "cell_type": "code",
   "execution_count": 97,
   "id": "5fe29d92-8b38-4c42-8eae-f43e88961335",
   "metadata": {
    "tags": []
   },
   "outputs": [
    {
     "name": "stdout",
     "output_type": "stream",
     "text": [
      "1\n",
      "1\n",
      "1\n"
     ]
    }
   ],
   "source": [
    "from sortedcontainers import SortedSet, SortedList, SortedDict\n",
    "abc_pos = SortedList()\n",
    "S_l = list(S) + ['z'] + ['z']\n",
    "for i in range(N-2):\n",
    "    if S_l[i] == 'A' and S_l[i+1] == 'B' and S_l[i+2] == 'C':\n",
    "        abc_pos.add(i)\n",
    "\n",
    "for X, C in XCq:\n",
    "    # print(X, C)\n",
    "    x = int(X)-1\n",
    "    S_l[x] = C\n",
    "    solve(x, C)\n",
    "    solve2(x)\n",
    "    print(len(abc_pos))\n",
    "    # print(abc_pos)\n",
    "    # print(S_l)\n",
    "    # print()"
   ]
  },
  {
   "cell_type": "code",
   "execution_count": 76,
   "id": "f2843bdf-4084-4a2d-bc57-864c6e0c934e",
   "metadata": {
    "tags": []
   },
   "outputs": [
    {
     "data": {
      "text/plain": [
       "(2, SortedList([0]), ['A', 'B', 'C'])"
      ]
     },
     "execution_count": 76,
     "metadata": {},
     "output_type": "execute_result"
    }
   ],
   "source": [
    "ans, abc_pos, S_l"
   ]
  },
  {
   "cell_type": "code",
   "execution_count": 46,
   "id": "7a22e4a5-055d-4201-82e2-945cf3ee696b",
   "metadata": {
    "tags": []
   },
   "outputs": [
    {
     "data": {
      "text/plain": [
       "('9', 'C')"
      ]
     },
     "execution_count": 46,
     "metadata": {},
     "output_type": "execute_result"
    }
   ],
   "source": [
    "X, C"
   ]
  },
  {
   "cell_type": "code",
   "execution_count": null,
   "id": "b3a56a85-0596-49b5-bec3-7bb5eda732b7",
   "metadata": {},
   "outputs": [],
   "source": []
  }
 ],
 "metadata": {
  "kernelspec": {
   "display_name": "Python 3 (ipykernel)",
   "language": "python",
   "name": "python3"
  },
  "language_info": {
   "codemirror_mode": {
    "name": "ipython",
    "version": 3
   },
   "file_extension": ".py",
   "mimetype": "text/x-python",
   "name": "python",
   "nbconvert_exporter": "python",
   "pygments_lexer": "ipython3",
   "version": "3.11.3"
  }
 },
 "nbformat": 4,
 "nbformat_minor": 5
}
