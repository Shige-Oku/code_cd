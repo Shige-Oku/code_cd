{
 "cells": [
  {
   "cell_type": "code",
   "execution_count": 1,
   "id": "a94e42c6-1021-481b-879c-d87c0a07a036",
   "metadata": {
    "tags": []
   },
   "outputs": [],
   "source": [
    "import sys\n",
    "import numpy as np\n",
    "import math\n",
    "import collections\n",
    "import copy\n",
    "import decimal\n",
    "import itertools\n",
    "import re\n",
    "import bisect\n",
    "import scipy\n",
    "import heapq\n",
    "from collections import deque \n",
    "from functools import reduce\n",
    "from itertools import product\n",
    "from itertools import combinations\n",
    "from functools import lru_cache\n",
    "from scipy.special import comb\n",
    "from numba import njit\n",
    "from bisect import bisect_right\n",
    "from bisect import bisect_left\n",
    "from atcoder.fenwicktree import FenwickTree\n",
    "from sortedcontainers import SortedSet, SortedList, SortedDict"
   ]
  },
  {
   "cell_type": "code",
   "execution_count": 2,
   "id": "413f6bf7-dec2-4258-9620-d51e36e4d691",
   "metadata": {
    "tags": []
   },
   "outputs": [
    {
     "name": "stdin",
     "output_type": "stream",
     "text": [
      " 4 10\n"
     ]
    }
   ],
   "source": [
    "N, Q = map(int, input().split())"
   ]
  },
  {
   "cell_type": "code",
   "execution_count": 3,
   "id": "4d19846e-2946-460a-984a-8111ecebe955",
   "metadata": {
    "tags": []
   },
   "outputs": [
    {
     "name": "stdin",
     "output_type": "stream",
     "text": [
      " 1 1 2\n",
      " 2 1 1\n",
      " 2 1 2\n",
      " 2 1 3\n",
      " 1 1 3\n",
      " 1 2 3\n",
      " 1 3 4\n",
      " 2 1 1 \n",
      " 2 1 3\n",
      " 2 1 5\n"
     ]
    }
   ],
   "source": [
    "CUVq = [list(map(int, input().split())) for _ in range(Q)]"
   ]
  },
  {
   "cell_type": "code",
   "execution_count": 17,
   "id": "c4fc1ed1-ca68-4350-9022-33f40a080afa",
   "metadata": {},
   "outputs": [],
   "source": [
    "from collections import defaultdict\n",
    "import sys\n",
    "sys.setrecursionlimit(10**7)\n",
    "class UnionFind():\n",
    "    # イニシャライザ\n",
    "    def __init__(self, n):\n",
    "        self.n = n  # 頂点の数\n",
    "        self.parents = [-1] * n  # 親の頂点。根は -1\n",
    "        self.size = [1] * n  # 各頂点の所属する木の頂点数\n",
    "        self.member = [[i] for i in range(n)]\n",
    "        \n",
    "    # 根を返す\n",
    "    def root(self, x):\n",
    "        if self.parents[x] < 0: # 根なのでそのまま返す\n",
    "            return x\n",
    "        else:\n",
    "            self.parents[x] = self.root(self.parents[x])  # 経路圧縮\n",
    "            return self.parents[x]\n",
    "        \n",
    "    # x, y が同じ木に属するか\n",
    "    def issame(self, x, y):\n",
    "        return self.root(x) == self.root(y)\n",
    "    \n",
    "    # x y を併合する    \n",
    "    def unite(self, x, y):\n",
    "        x = self.root(x)\n",
    "        y = self.root(y)\n",
    "        \n",
    "        # 元々同じ木に所属するので、何もせずリターン\n",
    "        if x == y:\n",
    "            return False\n",
    "        \n",
    "        # 大きいほうにまとめる。 y を x にまとめるようにスワップ\n",
    "        if self.parents[x] < self.parents[y]:\n",
    "            x, y = y, x\n",
    "        # 小さいほうの親を大きいほうを親に\n",
    "        self.parents[y] = x\n",
    "        # 大きいほうの頂点に小さいほうの数を加算\n",
    "        self.size[x] += self.size[y]\n",
    "        \n",
    "        self.member[x] += self.member[y]\n",
    "        self.member[x] = sorted(self.member[x], reverse=True)[:10]\n",
    "        return True\n",
    "    \n",
    "    # x の所属する頂点数を返す\n",
    "    def getsize(self, x):\n",
    "        return self.size[self.root(x)]\n",
    "\n",
    "    # x の所属する頂点の一覧を返す\n",
    "    def getmembers(self, x):\n",
    "        root = self.root(x)\n",
    "        return [i for i in range(self.n) if self.root(i) == root]    "
   ]
  },
  {
   "cell_type": "code",
   "execution_count": 21,
   "id": "908c583b-a4c4-464f-8acd-12a50dbc0df7",
   "metadata": {
    "tags": []
   },
   "outputs": [
    {
     "name": "stdout",
     "output_type": "stream",
     "text": [
      "2\n",
      "1\n",
      "-1\n",
      "4\n",
      "2\n",
      "-1\n"
     ]
    }
   ],
   "source": [
    "uf = UnionFind(N+1)\n",
    "for C, U, V in CUVq:\n",
    "    if C == 1:\n",
    "        uf.unite(U, V)\n",
    "    else:\n",
    "        p = uf.root(U)\n",
    "        if len(uf.member[p]) < V:\n",
    "            print(-1)\n",
    "        else:\n",
    "            print(uf.member[p][V-1])"
   ]
  },
  {
   "cell_type": "code",
   "execution_count": null,
   "id": "21da9bf4-6ae2-45b8-8580-f937767995cc",
   "metadata": {},
   "outputs": [],
   "source": []
  }
 ],
 "metadata": {
  "kernelspec": {
   "display_name": "Python 3 (ipykernel)",
   "language": "python",
   "name": "python3"
  },
  "language_info": {
   "codemirror_mode": {
    "name": "ipython",
    "version": 3
   },
   "file_extension": ".py",
   "mimetype": "text/x-python",
   "name": "python",
   "nbconvert_exporter": "python",
   "pygments_lexer": "ipython3",
   "version": "3.11.3"
  }
 },
 "nbformat": 4,
 "nbformat_minor": 5
}
