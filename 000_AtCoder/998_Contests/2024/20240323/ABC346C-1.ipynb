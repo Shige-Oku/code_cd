{
 "cells": [
  {
   "cell_type": "code",
   "execution_count": 1,
   "id": "a6a9e1fd-dda0-4024-9ce7-4df75090a29e",
   "metadata": {
    "tags": []
   },
   "outputs": [],
   "source": [
    "import sys\n",
    "import numpy as np\n",
    "import math\n",
    "import collections\n",
    "import copy\n",
    "import decimal\n",
    "import itertools\n",
    "import re\n",
    "import bisect\n",
    "import scipy\n",
    "import heapq\n",
    "from collections import deque \n",
    "from functools import reduce\n",
    "from itertools import product\n",
    "from itertools import combinations\n",
    "from functools import lru_cache\n",
    "from scipy.special import comb\n",
    "from numba import njit\n",
    "from bisect import bisect_right\n",
    "from bisect import bisect_left\n",
    "from atcoder.fenwicktree import FenwickTree"
   ]
  },
  {
   "cell_type": "code",
   "execution_count": 29,
   "id": "daecf351-094a-4c10-9e28-619214cc94a9",
   "metadata": {
    "tags": []
   },
   "outputs": [
    {
     "name": "stdin",
     "output_type": "stream",
     "text": [
      " 10 158260522\n"
     ]
    }
   ],
   "source": [
    "N, K = map(int, input().split())"
   ]
  },
  {
   "cell_type": "code",
   "execution_count": 30,
   "id": "9ce04cc5-0f95-47be-9139-437670a69574",
   "metadata": {
    "tags": []
   },
   "outputs": [
    {
     "name": "stdin",
     "output_type": "stream",
     "text": [
      " 877914575 24979445 623690081 262703497 24979445 1822804784 1430302156 1161735902 923078537 1189330739\n"
     ]
    }
   ],
   "source": [
    "An = set(map(int, input().split()))"
   ]
  },
  {
   "cell_type": "code",
   "execution_count": 31,
   "id": "b6ff15ea-4775-42d7-b05d-aa856f4495c5",
   "metadata": {
    "tags": []
   },
   "outputs": [],
   "source": [
    "ans = (K+1) * K // 2\n",
    "for A in An:\n",
    "    if A <= K:\n",
    "        ans -= A"
   ]
  },
  {
   "cell_type": "code",
   "execution_count": 32,
   "id": "832e39b8-a9a2-4cd9-807f-e0f602bcf3e5",
   "metadata": {
    "tags": []
   },
   "outputs": [
    {
     "name": "stdout",
     "output_type": "stream",
     "text": [
      "12523196466007058\n"
     ]
    }
   ],
   "source": [
    "print(ans)"
   ]
  },
  {
   "cell_type": "code",
   "execution_count": 19,
   "id": "b8b586d0-ddce-4d7c-8f22-565f261dd80f",
   "metadata": {
    "tags": []
   },
   "outputs": [
    {
     "data": {
      "text/plain": [
       "55"
      ]
     },
     "execution_count": 19,
     "metadata": {},
     "output_type": "execute_result"
    }
   ],
   "source": [
    "(1+10) * 10 //2"
   ]
  },
  {
   "cell_type": "code",
   "execution_count": 22,
   "id": "87999b29-13bc-41d5-be03-9efc3792fa6a",
   "metadata": {
    "tags": []
   },
   "outputs": [
    {
     "data": {
      "text/plain": [
       "15"
      ]
     },
     "execution_count": 22,
     "metadata": {},
     "output_type": "execute_result"
    }
   ],
   "source": [
    "(K+1)*K//2"
   ]
  },
  {
   "cell_type": "code",
   "execution_count": 4,
   "id": "74852c1b-70b3-4c5f-8fcd-898fcebbf94f",
   "metadata": {},
   "outputs": [],
   "source": [
    "def generate_python_killer():\n",
    "    mask = (1 << 30)-1\n",
    "    A = []\n",
    "    for i in range(10):\n",
    "        A.append(mask+2+i)\n",
    "    x = 6\n",
    "    for i in range(10**4):\n",
    "        for j in range(10):\n",
    "            A.append(x+j)\n",
    "        x = 5*x+1\n",
    "        x &= mask\n",
    "    A += [1]*(N-len(A))\n",
    "    return A"
   ]
  },
  {
   "cell_type": "code",
   "execution_count": 5,
   "id": "8202af67-48d6-414e-b27d-142913790f8b",
   "metadata": {
    "tags": []
   },
   "outputs": [],
   "source": [
    "N, K = 2*10**5, 2*10**9\n",
    "An_k = generate_python_killer()"
   ]
  },
  {
   "cell_type": "code",
   "execution_count": 6,
   "id": "56765926-23e0-4ab3-81d0-7cbd8db31613",
   "metadata": {
    "tags": []
   },
   "outputs": [
    {
     "data": {
      "text/plain": [
       "200000"
      ]
     },
     "execution_count": 6,
     "metadata": {},
     "output_type": "execute_result"
    }
   ],
   "source": [
    "len(An_k)"
   ]
  },
  {
   "cell_type": "code",
   "execution_count": null,
   "id": "ca68f56d-ccfc-476c-82c6-ff416609e6a0",
   "metadata": {},
   "outputs": [],
   "source": []
  }
 ],
 "metadata": {
  "kernelspec": {
   "display_name": "Python 3 (ipykernel)",
   "language": "python",
   "name": "python3"
  },
  "language_info": {
   "codemirror_mode": {
    "name": "ipython",
    "version": 3
   },
   "file_extension": ".py",
   "mimetype": "text/x-python",
   "name": "python",
   "nbconvert_exporter": "python",
   "pygments_lexer": "ipython3",
   "version": "3.11.3"
  }
 },
 "nbformat": 4,
 "nbformat_minor": 5
}
