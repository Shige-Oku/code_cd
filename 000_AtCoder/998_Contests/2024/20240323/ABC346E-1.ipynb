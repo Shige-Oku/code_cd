{
 "cells": [
  {
   "cell_type": "code",
   "execution_count": 1,
   "id": "6a16338c-b656-4fec-a787-f720a27a74b7",
   "metadata": {
    "tags": []
   },
   "outputs": [],
   "source": [
    "import sys\n",
    "import numpy as np\n",
    "import math\n",
    "import collections\n",
    "import copy\n",
    "import decimal\n",
    "import itertools\n",
    "import re\n",
    "import bisect\n",
    "import scipy\n",
    "import heapq\n",
    "from collections import deque \n",
    "from functools import reduce\n",
    "from itertools import product\n",
    "from itertools import combinations\n",
    "from functools import lru_cache\n",
    "from scipy.special import comb\n",
    "from numba import njit\n",
    "from bisect import bisect_right\n",
    "from bisect import bisect_left\n",
    "from atcoder.fenwicktree import FenwickTree"
   ]
  },
  {
   "cell_type": "code",
   "execution_count": 1,
   "id": "48817d64-6240-4a59-b415-241379854429",
   "metadata": {},
   "outputs": [],
   "source": [
    "# コンテスト終了後に実装"
   ]
  },
  {
   "cell_type": "code",
   "execution_count": 2,
   "id": "66db9da0-2ef2-4cee-b978-8ffd9c8dc2ab",
   "metadata": {
    "tags": []
   },
   "outputs": [
    {
     "name": "stdin",
     "output_type": "stream",
     "text": [
      " 3 4 4 \n"
     ]
    }
   ],
   "source": [
    "H, W, M = map(int, input().split())"
   ]
  },
  {
   "cell_type": "code",
   "execution_count": 3,
   "id": "afcc6f2a-22f5-4262-9d7b-14fbb57e3467",
   "metadata": {
    "tags": []
   },
   "outputs": [
    {
     "name": "stdin",
     "output_type": "stream",
     "text": [
      " 1 2 5\n",
      " 2 4 0\n",
      " 1 3 3\n",
      " 1 3 2\n"
     ]
    }
   ],
   "source": [
    "TAXm = [list(map(int, input().split())) for _ in range(M)]"
   ]
  },
  {
   "cell_type": "code",
   "execution_count": 6,
   "id": "6cb33a0c-07d4-49c2-9893-b08c7af06549",
   "metadata": {
    "tags": []
   },
   "outputs": [],
   "source": [
    "di_h, di_w = {}, {}\n",
    "ans = [0] * (2*10**5+1)\n",
    "ans[0] = H * W\n",
    "for T, A, X in TAXm[::-1]:\n",
    "    if T == 1:\n",
    "        if A in di_h:\n",
    "            continue\n",
    "        ans[X] += W - len(di_w)\n",
    "        ans[0] -= W - len(di_w)\n",
    "        di_h[A] = X\n",
    "    else:\n",
    "        if A in di_w:\n",
    "            continue\n",
    "        ans[X] += H - len(di_h)\n",
    "        ans[0] -= H - len(di_h)\n",
    "        di_w[A] = X\n",
    "        "
   ]
  },
  {
   "cell_type": "code",
   "execution_count": 8,
   "id": "7f098bc9-2c26-45f4-8d3d-0e7751b09070",
   "metadata": {
    "tags": []
   },
   "outputs": [
    {
     "name": "stdout",
     "output_type": "stream",
     "text": [
      "3\n",
      "0 5\n",
      "2 4\n",
      "5 3\n"
     ]
    }
   ],
   "source": [
    "cnt = 0\n",
    "for a in ans:\n",
    "    if a > 0:\n",
    "        cnt += 1\n",
    "print(cnt)\n",
    "for i, a in enumerate(ans):\n",
    "    if a > 0:\n",
    "        print(i, a)"
   ]
  },
  {
   "cell_type": "code",
   "execution_count": null,
   "id": "5aee653b-cc07-4dc7-ae25-f49293cb3598",
   "metadata": {},
   "outputs": [],
   "source": []
  }
 ],
 "metadata": {
  "kernelspec": {
   "display_name": "Python 3 (ipykernel)",
   "language": "python",
   "name": "python3"
  },
  "language_info": {
   "codemirror_mode": {
    "name": "ipython",
    "version": 3
   },
   "file_extension": ".py",
   "mimetype": "text/x-python",
   "name": "python",
   "nbconvert_exporter": "python",
   "pygments_lexer": "ipython3",
   "version": "3.11.3"
  }
 },
 "nbformat": 4,
 "nbformat_minor": 5
}
