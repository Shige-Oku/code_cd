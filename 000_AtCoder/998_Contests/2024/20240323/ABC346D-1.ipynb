{
 "cells": [
  {
   "cell_type": "code",
   "execution_count": 1,
   "id": "a7782135-cad7-4d49-9785-a6779b1c667e",
   "metadata": {
    "tags": []
   },
   "outputs": [],
   "source": [
    "import sys\n",
    "import numpy as np\n",
    "import math\n",
    "import collections\n",
    "import copy\n",
    "import decimal\n",
    "import itertools\n",
    "import re\n",
    "import bisect\n",
    "import scipy\n",
    "import heapq\n",
    "from collections import deque \n",
    "from functools import reduce\n",
    "from itertools import product\n",
    "from itertools import combinations\n",
    "from functools import lru_cache\n",
    "from scipy.special import comb\n",
    "from numba import njit\n",
    "from bisect import bisect_right\n",
    "from bisect import bisect_left\n",
    "from atcoder.fenwicktree import FenwickTree"
   ]
  },
  {
   "cell_type": "code",
   "execution_count": 2,
   "id": "c27845df-ee8e-4f53-90dc-a988f31a80c4",
   "metadata": {
    "tags": []
   },
   "outputs": [
    {
     "name": "stdin",
     "output_type": "stream",
     "text": [
      " 5\n"
     ]
    }
   ],
   "source": [
    "N = int(input())"
   ]
  },
  {
   "cell_type": "code",
   "execution_count": 3,
   "id": "144ccaa4-7fc1-468d-b60e-7d8552e347dd",
   "metadata": {
    "tags": []
   },
   "outputs": [
    {
     "name": "stdin",
     "output_type": "stream",
     "text": [
      " 00011\n"
     ]
    }
   ],
   "source": [
    "S = input()"
   ]
  },
  {
   "cell_type": "code",
   "execution_count": 5,
   "id": "2da8c7c2-5e47-4b5d-bffe-b45cf77cf00c",
   "metadata": {
    "tags": []
   },
   "outputs": [
    {
     "name": "stdin",
     "output_type": "stream",
     "text": [
      " 3 9 2 6 4\n"
     ]
    }
   ],
   "source": [
    "Cn = list(map(int, input().split()))"
   ]
  },
  {
   "cell_type": "code",
   "execution_count": 1,
   "id": "ca64e18d-1836-4f7f-910d-184cf50bae91",
   "metadata": {
    "tags": []
   },
   "outputs": [],
   "source": [
    "# コンテスト終了後"
   ]
  },
  {
   "cell_type": "code",
   "execution_count": null,
   "id": "63d22b84-10ef-4de1-a2a5-a0069f12f4de",
   "metadata": {},
   "outputs": [],
   "source": []
  },
  {
   "cell_type": "code",
   "execution_count": null,
   "id": "e7512007-fbd4-4edb-975f-0f642cb5c0a7",
   "metadata": {},
   "outputs": [],
   "source": [
    "# サンプルが合わない"
   ]
  },
  {
   "cell_type": "code",
   "execution_count": 38,
   "id": "027180bd-5ded-4ec3-b6df-fb4a105a0ac6",
   "metadata": {
    "tags": []
   },
   "outputs": [],
   "source": [
    "line_od_0 = 0\n",
    "line_od_1 = 0\n",
    "line_ev_0 = 0\n",
    "line_ev_1 = 0\n",
    "for i, (c, s) in enumerate(zip(Cn, S),  1):\n",
    "    if i % 2 == 1:\n",
    "        if s == '0':\n",
    "            line_od_0 += c\n",
    "        else:\n",
    "            line_od_1 += c\n",
    "    else:\n",
    "        if s == '0':\n",
    "            line_ev_0 += c\n",
    "        else:\n",
    "            line_ev_1 += c\n"
   ]
  },
  {
   "cell_type": "code",
   "execution_count": 52,
   "id": "2c4bdeb5-c913-4cbc-a36f-1ef9b2573a3b",
   "metadata": {
    "tags": []
   },
   "outputs": [
    {
     "name": "stdout",
     "output_type": "stream",
     "text": [
      "11 11\n",
      "11 13\n",
      "2 2\n",
      "2 11\n",
      "2 11\n",
      "2 7\n",
      "2 13\n",
      "2 11\n"
     ]
    }
   ],
   "source": [
    "ans = sum(Cn)\n",
    "for i in range(1, N):\n",
    "    if i % 2 == 1:\n",
    "        co = line_od_0 + line_ev_1\n",
    "    else:\n",
    "        co = line_od_1 + line_ev_0\n",
    "    if S[i-1] == '0' and i % 2 == 0:\n",
    "        co -= Cn[i-1]\n",
    "    if S[i] == '0' and (i+1) % 2 == 1:\n",
    "        co -= Cn[i]\n",
    "    ans = min(ans, co)\n",
    "    print(ans, co)\n",
    "\n",
    "    if i % 2 == 1:\n",
    "        co = line_od_1 + line_ev_0\n",
    "    else:\n",
    "        co = line_od_0 + line_ev_1\n",
    "    if S[i-1] == '1' and i % 2 == 1:\n",
    "        co -= Cn[i-1]\n",
    "    if S[i] == '1' and (i+1) % 2 == 0:\n",
    "        co -= Cn[i]\n",
    "    ans = min(ans, co) \n",
    "    print(ans, co)\n"
   ]
  },
  {
   "cell_type": "code",
   "execution_count": 51,
   "id": "6ef4afc0-0d75-4af7-b132-4089609196e0",
   "metadata": {
    "tags": []
   },
   "outputs": [
    {
     "name": "stdout",
     "output_type": "stream",
     "text": [
      "-1 -1\n",
      "-1 13\n",
      "-1 11\n",
      "-1 13\n",
      "-1 9\n",
      "-1 13\n",
      "-1 11\n",
      "-1 3\n"
     ]
    }
   ],
   "source": [
    "ans = sum(Cn)\n",
    "for i in range(N-1):\n",
    "    co = ev_c1 + od_c0\n",
    "    if S[i] == '0' and i % 2 == 0:\n",
    "        co -= Cn[i]\n",
    "    if S[i+1] == '0' and (i+1) % 2 == 1:\n",
    "        co -= Cn[i+1]\n",
    "    ans = min(ans, co)\n",
    "    print(ans, co)\n",
    "\n",
    "    co = ev_c0 + od_c1\n",
    "    if S[i] == '1' and i % 2 == 1:\n",
    "        co -= Cn[i]\n",
    "    if S[i+1] == '1' and (i+1) % 2 == 0:\n",
    "        co -= Cn[i+1]\n",
    "    ans = min(ans, co) \n",
    "    print(ans, co)\n"
   ]
  },
  {
   "cell_type": "code",
   "execution_count": 48,
   "id": "93291e68-92e4-4da6-8444-2a171fb27b2a",
   "metadata": {
    "tags": []
   },
   "outputs": [
    {
     "name": "stdout",
     "output_type": "stream",
     "text": [
      "7\n"
     ]
    }
   ],
   "source": [
    "print(ans)"
   ]
  },
  {
   "cell_type": "code",
   "execution_count": 45,
   "id": "9e361817-2604-4dce-8d84-10deec91c9ed",
   "metadata": {
    "tags": []
   },
   "outputs": [
    {
     "name": "stdout",
     "output_type": "stream",
     "text": [
      "2 2\n",
      "2 13\n",
      "2 4\n",
      "2 11\n",
      "2 11\n",
      "2 13\n",
      "2 13\n",
      "2 7\n"
     ]
    }
   ],
   "source": [
    "ans = sum(Cn)\n",
    "for i in range(1, N):\n",
    "    if i % 2 == 1:\n",
    "        co = ev_c1 + od_c0\n",
    "    else:\n",
    "        co = ev_c0 + od_c1\n",
    "    if S[i-1] == '0' and i % 2 == 0:\n",
    "        co -= Cn[i-1]\n",
    "    if S[i] == '0' and i % 2 == 1:\n",
    "        co -= Cn[i]\n",
    "    ans = min(ans, co)\n",
    "    print(ans, co)\n",
    "\n",
    "    if i % 2 == 1:\n",
    "        co = ev_c0 + od_c1\n",
    "    else:\n",
    "        co = ev_c1 + od_c0\n",
    "    if S[i-1] == '1' and i % 2 == 1:\n",
    "        co -= Cn[i-1]\n",
    "    if S[i] == '1' and i % 2 == 0:\n",
    "        co -= Cn[i]\n",
    "    ans = min(ans, co) \n",
    "    print(ans, co)\n"
   ]
  },
  {
   "cell_type": "code",
   "execution_count": 19,
   "id": "60e2e0c6-dc7b-4fba-982d-317e4a8c148f",
   "metadata": {
    "tags": []
   },
   "outputs": [
    {
     "data": {
      "text/plain": [
       "[[0, 0], [0, 0], [0, 0], [0, 0], [0, 0], [0, 0]]"
      ]
     },
     "execution_count": 19,
     "metadata": {},
     "output_type": "execute_result"
    }
   ],
   "source": [
    "ev"
   ]
  },
  {
   "cell_type": "code",
   "execution_count": 20,
   "id": "cefaa603-17a6-4875-9d5f-9ab18b18927e",
   "metadata": {
    "tags": []
   },
   "outputs": [
    {
     "name": "stdout",
     "output_type": "stream",
     "text": [
      "3 0\n",
      "9 0\n",
      "2 0\n",
      "6 1\n",
      "4 1\n"
     ]
    }
   ],
   "source": [
    "for c, s in zip(Cn, S):\n",
    "    print(c, s)"
   ]
  },
  {
   "cell_type": "code",
   "execution_count": 39,
   "id": "2a86ba08-ed51-4e6c-92ef-76179a63d472",
   "metadata": {
    "tags": []
   },
   "outputs": [
    {
     "data": {
      "text/plain": [
       "(5, 4, 9, 6)"
      ]
     },
     "execution_count": 39,
     "metadata": {},
     "output_type": "execute_result"
    }
   ],
   "source": [
    "line_od_0, line_od_1, line_ev_0, line_ev_1"
   ]
  },
  {
   "cell_type": "code",
   "execution_count": null,
   "id": "78abf6fc-b445-46ec-a3d8-08291ef0b07b",
   "metadata": {},
   "outputs": [],
   "source": []
  }
 ],
 "metadata": {
  "kernelspec": {
   "display_name": "Python 3 (ipykernel)",
   "language": "python",
   "name": "python3"
  },
  "language_info": {
   "codemirror_mode": {
    "name": "ipython",
    "version": 3
   },
   "file_extension": ".py",
   "mimetype": "text/x-python",
   "name": "python",
   "nbconvert_exporter": "python",
   "pygments_lexer": "ipython3",
   "version": "3.11.3"
  }
 },
 "nbformat": 4,
 "nbformat_minor": 5
}
