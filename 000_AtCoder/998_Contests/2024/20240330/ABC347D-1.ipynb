{
 "cells": [
  {
   "cell_type": "code",
   "execution_count": 1,
   "id": "dd02dc2a-fbec-41f0-9740-babe4bdb008f",
   "metadata": {
    "tags": []
   },
   "outputs": [],
   "source": [
    "import sys\n",
    "import numpy as np\n",
    "import math\n",
    "import collections\n",
    "import copy\n",
    "import decimal\n",
    "import itertools\n",
    "import re\n",
    "import bisect\n",
    "import scipy\n",
    "import heapq\n",
    "from collections import deque \n",
    "from functools import reduce\n",
    "from itertools import product\n",
    "from itertools import combinations\n",
    "from functools import lru_cache\n",
    "from scipy.special import comb\n",
    "from numba import njit\n",
    "from bisect import bisect_right\n",
    "from bisect import bisect_left\n",
    "from atcoder.fenwicktree import FenwickTree"
   ]
  },
  {
   "cell_type": "code",
   "execution_count": 1,
   "id": "8779514f-18de-4149-bfeb-a0c02259b4e8",
   "metadata": {
    "tags": []
   },
   "outputs": [
    {
     "name": "stdin",
     "output_type": "stream",
     "text": [
      "  39 47 530423800524412070\n"
     ]
    }
   ],
   "source": [
    "A, B, C = map(int, input().split())"
   ]
  },
  {
   "cell_type": "code",
   "execution_count": null,
   "id": "99d9aeef-6e86-46ac-8963-776fc2affe52",
   "metadata": {},
   "outputs": [],
   "source": [
    "# 解説を読んで実装"
   ]
  },
  {
   "cell_type": "code",
   "execution_count": 19,
   "id": "8962a66c-c0b1-442a-b86a-688189847bc4",
   "metadata": {
    "tags": []
   },
   "outputs": [],
   "source": [
    "def solve():\n",
    "    cnt = bin(C).count('1')\n",
    "    d = A + B - cnt\n",
    "    if d < 0 or  d % 2 == 1:\n",
    "        return -1, -1\n",
    "    d //= 2\n",
    "    if d > 60 - cnt or d > A or d > B:\n",
    "        return -1, -1\n",
    "\n",
    "    bi = bin(C)[2:]\n",
    "    a, b = 0, 0\n",
    "    ac, bc = 0, 0\n",
    "    for i, bb in enumerate(bi[::-1]):\n",
    "        if bb == '0':\n",
    "            continue\n",
    "        if ac < A - d:\n",
    "            ac += 1\n",
    "            a += 2**i\n",
    "        else:\n",
    "            bc += 1\n",
    "            b += 2**i\n",
    "                \n",
    "    bi = '000000000000000000000000000000000000000000000000000000000000' + bi\n",
    "    bi = bi[::-1]\n",
    "    n = 0\n",
    "    for i, bb in enumerate(bi):\n",
    "        if n >= d:\n",
    "            break\n",
    "        if bb == '1':\n",
    "            continue\n",
    "        n += 1\n",
    "        a += 2**i\n",
    "        b += 2**i\n",
    "    if a >= 2**60 or b >= 2**60:\n",
    "        return -1, -1\n",
    "    \n",
    "    return a, b"
   ]
  },
  {
   "cell_type": "code",
   "execution_count": 20,
   "id": "34847bff-de2d-4a04-9952-de48309a6c18",
   "metadata": {
    "tags": []
   },
   "outputs": [
    {
     "name": "stdout",
     "output_type": "stream",
     "text": [
      "10008154762903551 540431955281603417\n"
     ]
    }
   ],
   "source": [
    "ans1, ans2 = solve()\n",
    "if ans1 == -1:\n",
    "    print(-1)\n",
    "else:\n",
    "    print(ans1, ans2)"
   ]
  },
  {
   "cell_type": "code",
   "execution_count": null,
   "id": "f91645cb-48a2-496f-a9cc-4efbba635652",
   "metadata": {},
   "outputs": [],
   "source": [
    "# WA"
   ]
  },
  {
   "cell_type": "code",
   "execution_count": 26,
   "id": "d65e7621-c6be-4425-9b68-0008ba496bc6",
   "metadata": {
    "tags": []
   },
   "outputs": [],
   "source": [
    "def solve():\n",
    "    cnt = bin(C).count('1')\n",
    "    d = A + B - cnt\n",
    "    if d < 0 or  d % 2 == 1:\n",
    "        return -1, -1\n",
    "\n",
    "    d //= 2\n",
    "    a, b = 0, 0\n",
    "    ac, bc = 0, 0\n",
    "    bi = bin(C)[2:]\n",
    "    for i, bb in enumerate(bi[::-1]):\n",
    "        if bb == '0':\n",
    "            continue\n",
    "        if ac < A - d:\n",
    "            ac += 1\n",
    "            a += 2**i\n",
    "        else:\n",
    "            bc += 1\n",
    "            b += 2**i\n",
    "                \n",
    "    bi = '000000000000000000000000000000000000000000000000000000000000' + bi\n",
    "    bi = bi[::-1]\n",
    "    for i, bb in enumerate(bi):\n",
    "        if bb == '1':\n",
    "            continue\n",
    "        if bc == B or ac == A:\n",
    "            break\n",
    "        ac += 1\n",
    "        bc += 1\n",
    "        a += 2**i\n",
    "        b += 2**i\n",
    "    if a >= 2**60 or b >= 2**60:\n",
    "        return -1, -1\n",
    "    \n",
    "    return a, b"
   ]
  },
  {
   "cell_type": "code",
   "execution_count": 7,
   "id": "a0808cc4-cdb5-4d83-878b-9f1f5f68e34b",
   "metadata": {
    "tags": []
   },
   "outputs": [],
   "source": [
    "def solve():\n",
    "    cnt = bin(C).count('1')\n",
    "    if A + B + cnt > 120:\n",
    "        return -1, -1\n",
    "    if A > B + cnt or B > A + cnt or cnt > A + B:\n",
    "        return -1, -1\n",
    "    if A + B < cnt:\n",
    "        return -1, -1\n",
    "    sa = abs(A- B)\n",
    "    c = (cnt - sa) // 2\n",
    "    if c > min(A, B):\n",
    "        return -1, -1\n",
    "    if (A+B-cnt) % 2 == 1:\n",
    "        return -1, -1\n",
    "    if cnt % 2 != (A + B) % 2:\n",
    "        return -1, -1\n",
    "    \n",
    "    a, b = 0, 0\n",
    "    ac, bc = 0, 0\n",
    "    bi = bin(C)[2:]\n",
    "    for i, bb in enumerate(bi[::-1]):\n",
    "        if bb == '0':\n",
    "            continue\n",
    "        if ac + bc < cnt:\n",
    "            if ac < c:\n",
    "                ac += 1\n",
    "                a += 2**i\n",
    "            else:\n",
    "                bc += 1\n",
    "                b += 2**i\n",
    "                \n",
    "    bi = '000000000000000000000000000000000000000000000000000000000000' + bi\n",
    "    bi = bi[::-1]\n",
    "    for i, bb in enumerate(bi):\n",
    "        if bb == '1':\n",
    "            continue\n",
    "        if bc == B or ac == A:\n",
    "            break\n",
    "        ac += 1\n",
    "        bc += 1\n",
    "        a += 2**i\n",
    "        b += 2**i\n",
    "    if a > 2**60 or b > 2**60:\n",
    "        return -1, -1\n",
    "    \n",
    "    return a, b"
   ]
  },
  {
   "cell_type": "code",
   "execution_count": 123,
   "id": "81b176e0-3923-4693-b9ee-da30a44412de",
   "metadata": {
    "tags": []
   },
   "outputs": [
    {
     "data": {
      "text/plain": [
       "30"
      ]
     },
     "execution_count": 123,
     "metadata": {},
     "output_type": "execute_result"
    }
   ],
   "source": [
    "bin(C).count('1')"
   ]
  },
  {
   "cell_type": "code",
   "execution_count": 44,
   "id": "3fcbeb1d-f91a-40e5-8ea2-25eb9b6f18d4",
   "metadata": {
    "tags": []
   },
   "outputs": [
    {
     "data": {
      "text/plain": [
       "'11111'"
      ]
     },
     "execution_count": 44,
     "metadata": {},
     "output_type": "execute_result"
    }
   ],
   "source": [
    "bin(C)[2:]"
   ]
  },
  {
   "cell_type": "code",
   "execution_count": 66,
   "id": "04775bc3-697c-436f-911a-8592d29ba2ee",
   "metadata": {
    "tags": []
   },
   "outputs": [
    {
     "data": {
      "text/plain": [
       "'0b11101011100011100011010001011100010101010111001010010100110'"
      ]
     },
     "execution_count": 66,
     "metadata": {},
     "output_type": "execute_result"
    }
   ],
   "source": [
    "bin(530423800524412070)"
   ]
  },
  {
   "cell_type": "code",
   "execution_count": 57,
   "id": "f211079d-47c4-431c-b5b9-c3ec060d70eb",
   "metadata": {
    "tags": []
   },
   "outputs": [
    {
     "data": {
      "text/plain": [
       "'0b11110'"
      ]
     },
     "execution_count": 57,
     "metadata": {},
     "output_type": "execute_result"
    }
   ],
   "source": [
    "bin(30)"
   ]
  },
  {
   "cell_type": "code",
   "execution_count": 75,
   "id": "d00594d4-5bee-4fa2-a053-bb3ef8a62fa0",
   "metadata": {
    "tags": []
   },
   "outputs": [
    {
     "data": {
      "text/plain": [
       "530423800524412070"
      ]
     },
     "execution_count": 75,
     "metadata": {},
     "output_type": "execute_result"
    }
   ],
   "source": [
    "154742504334211782061823142 ^ 154742504864635582580523008"
   ]
  },
  {
   "cell_type": "code",
   "execution_count": 76,
   "id": "18b10b53-906e-41e6-97ae-4c3e7191d192",
   "metadata": {
    "tags": []
   },
   "outputs": [
    {
     "data": {
      "text/plain": [
       "530423800524412070"
      ]
     },
     "execution_count": 76,
     "metadata": {},
     "output_type": "execute_result"
    }
   ],
   "source": [
    "530423800524412070"
   ]
  },
  {
   "cell_type": "code",
   "execution_count": 23,
   "id": "deab2c6b-00f0-481a-a10b-a674dfa1090e",
   "metadata": {
    "tags": []
   },
   "outputs": [
    {
     "data": {
      "text/plain": [
       "39"
      ]
     },
     "execution_count": 23,
     "metadata": {},
     "output_type": "execute_result"
    }
   ],
   "source": [
    "bin(10008154762903551       ).count('1')"
   ]
  },
  {
   "cell_type": "code",
   "execution_count": 24,
   "id": "edea4174-a537-4deb-8dc3-c2dc5cb89677",
   "metadata": {
    "tags": []
   },
   "outputs": [
    {
     "data": {
      "text/plain": [
       "47"
      ]
     },
     "execution_count": 24,
     "metadata": {},
     "output_type": "execute_result"
    }
   ],
   "source": [
    "bin(540431955281603417).count('1')"
   ]
  },
  {
   "cell_type": "code",
   "execution_count": 17,
   "id": "7a3af6e0-912e-4d59-8ae0-5baf8f8c2652",
   "metadata": {
    "tags": []
   },
   "outputs": [
    {
     "data": {
      "text/plain": [
       "30"
      ]
     },
     "execution_count": 17,
     "metadata": {},
     "output_type": "execute_result"
    }
   ],
   "source": [
    "bin(530423800524412070).count('1')"
   ]
  },
  {
   "cell_type": "code",
   "execution_count": 25,
   "id": "76d377be-235e-4355-a5e8-226b068a2fd6",
   "metadata": {
    "tags": []
   },
   "outputs": [
    {
     "data": {
      "text/plain": [
       "530423800524412070"
      ]
     },
     "execution_count": 25,
     "metadata": {},
     "output_type": "execute_result"
    }
   ],
   "source": [
    "10008154762903551    ^ 540431955281603417"
   ]
  },
  {
   "cell_type": "code",
   "execution_count": 116,
   "id": "40010e85-7936-4145-90d2-e69ba36656a0",
   "metadata": {
    "tags": []
   },
   "outputs": [
    {
     "data": {
      "text/plain": [
       "True"
      ]
     },
     "execution_count": 116,
     "metadata": {},
     "output_type": "execute_result"
    }
   ],
   "source": [
    "154742504334211782061823142 > 2**60"
   ]
  },
  {
   "cell_type": "code",
   "execution_count": 1,
   "id": "318bee07-4c06-4852-b3d7-c82bd1a10106",
   "metadata": {},
   "outputs": [
    {
     "data": {
      "text/plain": [
       "1152921504606846976"
      ]
     },
     "execution_count": 1,
     "metadata": {},
     "output_type": "execute_result"
    }
   ],
   "source": [
    "2**60"
   ]
  },
  {
   "cell_type": "code",
   "execution_count": null,
   "id": "5724ad03-ce7e-475e-801b-f4dbfb3c7be3",
   "metadata": {},
   "outputs": [],
   "source": []
  }
 ],
 "metadata": {
  "kernelspec": {
   "display_name": "Python 3 (ipykernel)",
   "language": "python",
   "name": "python3"
  },
  "language_info": {
   "codemirror_mode": {
    "name": "ipython",
    "version": 3
   },
   "file_extension": ".py",
   "mimetype": "text/x-python",
   "name": "python",
   "nbconvert_exporter": "python",
   "pygments_lexer": "ipython3",
   "version": "3.11.3"
  }
 },
 "nbformat": 4,
 "nbformat_minor": 5
}
