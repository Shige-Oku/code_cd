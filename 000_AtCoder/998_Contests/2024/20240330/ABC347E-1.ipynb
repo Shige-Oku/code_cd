{
 "cells": [
  {
   "cell_type": "code",
   "execution_count": 1,
   "id": "c6a2df94-5467-437a-bf72-ccefc9db7986",
   "metadata": {
    "tags": []
   },
   "outputs": [],
   "source": [
    "import sys\n",
    "import numpy as np\n",
    "import math\n",
    "import collections\n",
    "import copy\n",
    "import decimal\n",
    "import itertools\n",
    "import re\n",
    "import bisect\n",
    "import scipy\n",
    "import heapq\n",
    "from collections import deque \n",
    "from functools import reduce\n",
    "from itertools import product\n",
    "from itertools import combinations\n",
    "from functools import lru_cache\n",
    "from scipy.special import comb\n",
    "from numba import njit\n",
    "from bisect import bisect_right\n",
    "from bisect import bisect_left\n",
    "from atcoder.fenwicktree import FenwickTree"
   ]
  },
  {
   "cell_type": "code",
   "execution_count": null,
   "id": "0dcef7bf-3026-4449-986b-6374d9ccb636",
   "metadata": {},
   "outputs": [],
   "source": [
    "# 解説を読んで実装"
   ]
  },
  {
   "cell_type": "code",
   "execution_count": 58,
   "id": "68c702cb-21b8-454a-b3ca-6d88bc9626d8",
   "metadata": {},
   "outputs": [
    {
     "name": "stdin",
     "output_type": "stream",
     "text": [
      " 4 6\n"
     ]
    }
   ],
   "source": [
    "N, Q = map(int, input().split())"
   ]
  },
  {
   "cell_type": "code",
   "execution_count": 59,
   "id": "21bc807a-995e-4ab8-ae34-e152e3970f89",
   "metadata": {
    "tags": []
   },
   "outputs": [
    {
     "name": "stdin",
     "output_type": "stream",
     "text": [
      " 1 2 3 2 4 2\n"
     ]
    }
   ],
   "source": [
    "Xn = list(map(int, input().split()))"
   ]
  },
  {
   "cell_type": "code",
   "execution_count": 60,
   "id": "a40bd871-7c89-45d7-87a6-1508c0db372a",
   "metadata": {
    "tags": []
   },
   "outputs": [],
   "source": [
    "ans = [0] * (N+1)\n",
    "s = set()\n",
    "sc = 0\n",
    "for X in Xn:\n",
    "    if X in s:\n",
    "        ans[X] += sc\n",
    "        s.remove(X)\n",
    "    else:\n",
    "        ans[X] -= sc\n",
    "        s.add(X)\n",
    "    sc += len(s)"
   ]
  },
  {
   "cell_type": "code",
   "execution_count": 61,
   "id": "f9d62036-8131-4ace-9eb2-211656bc4133",
   "metadata": {
    "tags": []
   },
   "outputs": [
    {
     "name": "stdout",
     "output_type": "stream",
     "text": [
      "15 9 12 7\n"
     ]
    }
   ],
   "source": [
    "for ss in s:\n",
    "    ans[ss] += sc\n",
    "print(*ans[1:])"
   ]
  },
  {
   "cell_type": "code",
   "execution_count": 65,
   "id": "cac8e3bd-7a1c-47b0-bd67-b098546ca229",
   "metadata": {
    "tags": []
   },
   "outputs": [],
   "source": [
    "p = [0, ]\n",
    "s = set()\n",
    "sc = 0\n",
    "for X in Xn:\n",
    "    if X in s:\n",
    "        s.remove(X)\n",
    "    else:\n",
    "        s.add(X)\n",
    "    sc += len(s)\n",
    "    p.append(p[-1]+len(s))"
   ]
  },
  {
   "cell_type": "code",
   "execution_count": 66,
   "id": "1d464e57-e02c-4977-a8f1-93ccdb646c09",
   "metadata": {
    "tags": []
   },
   "outputs": [],
   "source": [
    "# from itertools import accumulate\n",
    "# pc = list(accumulate(p))\n",
    "ans = [0] * (N+1)\n",
    "s = set()\n",
    "for i, X in enumerate(Xn, 1):\n",
    "    if X in s:\n",
    "        ans[X] += p[i-1]\n",
    "        s.remove(X)\n",
    "    else:\n",
    "        ans[X] -= p[i-1]\n",
    "        s.add(X)\n",
    "    # print(ans)"
   ]
  },
  {
   "cell_type": "code",
   "execution_count": 67,
   "id": "0af1d8ed-5118-4354-9cb3-19c9025e0b34",
   "metadata": {
    "tags": []
   },
   "outputs": [
    {
     "name": "stdout",
     "output_type": "stream",
     "text": [
      "15 9 12 7\n"
     ]
    }
   ],
   "source": [
    "for ss in s:\n",
    "    ans[ss] += p[-1]\n",
    "print(*ans[1:])"
   ]
  },
  {
   "cell_type": "code",
   "execution_count": 48,
   "id": "1c6a3fbb-f6e5-42aa-bfed-bf8fd8ff438d",
   "metadata": {
    "tags": []
   },
   "outputs": [
    {
     "data": {
      "text/plain": [
       "([0, 1, 3, 4, 6], [0, 1, 4, 8, 14])"
      ]
     },
     "execution_count": 48,
     "metadata": {},
     "output_type": "execute_result"
    }
   ],
   "source": [
    "p, pc"
   ]
  },
  {
   "cell_type": "code",
   "execution_count": 29,
   "id": "2bc9eb4e-d2f7-4def-8fdc-0f80be20e0db",
   "metadata": {
    "tags": []
   },
   "outputs": [
    {
     "ename": "IndexError",
     "evalue": "list index out of range",
     "output_type": "error",
     "traceback": [
      "\u001b[1;31m---------------------------------------------------------------------------\u001b[0m",
      "\u001b[1;31mIndexError\u001b[0m                                Traceback (most recent call last)",
      "Cell \u001b[1;32mIn[29], line 1\u001b[0m\n\u001b[1;32m----> 1\u001b[0m X, ans[X]\n",
      "\u001b[1;31mIndexError\u001b[0m: list index out of range"
     ]
    }
   ],
   "source": [
    "X, ans[X]"
   ]
  },
  {
   "cell_type": "code",
   "execution_count": 36,
   "id": "812d8b80-2f28-4a6c-9522-e90ef27a8b4a",
   "metadata": {
    "tags": []
   },
   "outputs": [
    {
     "data": {
      "text/plain": [
       "[0, 19, 32, 0]"
      ]
     },
     "execution_count": 36,
     "metadata": {},
     "output_type": "execute_result"
    }
   ],
   "source": [
    "ans"
   ]
  },
  {
   "cell_type": "code",
   "execution_count": null,
   "id": "514f06ed-f00a-4417-bd21-f2a58322d467",
   "metadata": {},
   "outputs": [],
   "source": []
  }
 ],
 "metadata": {
  "kernelspec": {
   "display_name": "Python 3 (ipykernel)",
   "language": "python",
   "name": "python3"
  },
  "language_info": {
   "codemirror_mode": {
    "name": "ipython",
    "version": 3
   },
   "file_extension": ".py",
   "mimetype": "text/x-python",
   "name": "python",
   "nbconvert_exporter": "python",
   "pygments_lexer": "ipython3",
   "version": "3.11.3"
  }
 },
 "nbformat": 4,
 "nbformat_minor": 5
}
