{
 "cells": [
  {
   "cell_type": "code",
   "execution_count": 1,
   "id": "239e75fe-a1ad-4388-b2a8-e0c6b9708241",
   "metadata": {
    "tags": []
   },
   "outputs": [],
   "source": [
    "import sys\n",
    "import numpy as np\n",
    "import math\n",
    "import collections\n",
    "import copy\n",
    "import decimal\n",
    "import itertools\n",
    "import re\n",
    "import bisect\n",
    "import scipy\n",
    "import heapq\n",
    "from collections import deque \n",
    "from functools import reduce\n",
    "from itertools import product\n",
    "from itertools import combinations\n",
    "from functools import lru_cache\n",
    "from scipy.special import comb\n",
    "from numba import njit\n",
    "from bisect import bisect_right\n",
    "from bisect import bisect_left\n",
    "from atcoder.fenwicktree import FenwickTree"
   ]
  },
  {
   "cell_type": "code",
   "execution_count": 122,
   "id": "21fa7370-10a8-4e66-96ff-3fc0aa29fa5b",
   "metadata": {
    "tags": []
   },
   "outputs": [
    {
     "name": "stdin",
     "output_type": "stream",
     "text": [
      " 4 347 347\n"
     ]
    }
   ],
   "source": [
    "N, A, B = map(int, input().split())"
   ]
  },
  {
   "cell_type": "code",
   "execution_count": 123,
   "id": "16f35a0d-e8d2-4c3d-9074-668fa078132d",
   "metadata": {
    "tags": []
   },
   "outputs": [
    {
     "name": "stdin",
     "output_type": "stream",
     "text": [
      " 347 700 705 710\n"
     ]
    }
   ],
   "source": [
    "Dn = list(map(int, input().split()))"
   ]
  },
  {
   "cell_type": "code",
   "execution_count": null,
   "id": "bed2cdb9-7ab3-4a75-a317-e5e1ff98a3eb",
   "metadata": {},
   "outputs": [],
   "source": [
    "# 解説を読んで実装"
   ]
  },
  {
   "cell_type": "code",
   "execution_count": 104,
   "id": "97c08f74-d3e4-4f12-8838-e1e5d217162d",
   "metadata": {
    "tags": []
   },
   "outputs": [],
   "source": [
    "def solve():\n",
    "    Dn_s  = set()\n",
    "    for D in Dn:\n",
    "        Dn_s.add(D % (A+B))\n",
    "    Dn_sort = sorted(list(Dn_s))\n",
    "    Dn2 = []\n",
    "    for i in range(2):\n",
    "        for D in Dn_sort:\n",
    "            Dn2.append(D+(A+B)*i)\n",
    "    for i in range(len(Dn2)-1):\n",
    "        if Dn2[i+1] - Dn2[i] > B:\n",
    "            return True\n",
    "    return False"
   ]
  },
  {
   "cell_type": "code",
   "execution_count": 124,
   "id": "f5a09b4c-198c-443e-ae00-a447b699cb9d",
   "metadata": {
    "tags": []
   },
   "outputs": [],
   "source": [
    "def solve():\n",
    "    Dn_m = []\n",
    "    for D in Dn:\n",
    "        Dn_m.append(D % (A+B))\n",
    "    Dn_s = sorted(Dn_m)\n",
    "    for i in range(N):\n",
    "        Dn_s.append(Dn_s[i]+(A+B))\n",
    "    for i in range(N):\n",
    "        l = Dn_s[i]\n",
    "        r = Dn_s[i+N-1]\n",
    "        if r - l < A:\n",
    "            return True\n",
    "    return False"
   ]
  },
  {
   "cell_type": "code",
   "execution_count": 125,
   "id": "1cdaf711-88d9-4d2e-977d-00c4b22364ad",
   "metadata": {
    "tags": []
   },
   "outputs": [
    {
     "name": "stdout",
     "output_type": "stream",
     "text": [
      "Yes\n"
     ]
    }
   ],
   "source": [
    "print('Yes' if solve() else 'No')"
   ]
  },
  {
   "cell_type": "code",
   "execution_count": null,
   "id": "3a5a943f-e95a-49c0-a6cd-ef653cd1fa8a",
   "metadata": {},
   "outputs": [],
   "source": [
    "# WA"
   ]
  },
  {
   "cell_type": "code",
   "execution_count": 34,
   "id": "887afc55-1800-4fe8-8183-a17cb5a66d7d",
   "metadata": {
    "tags": []
   },
   "outputs": [],
   "source": [
    "def solve():\n",
    "    Dn_m = set()\n",
    "    for D in Dn:\n",
    "        Dn_m.add(D % (A+B))\n",
    "    if len(Dn_m) > A:\n",
    "        return False\n",
    "    if max(Dn_m)  -  min(Dn_m) - 1 < A:\n",
    "        return True\n",
    "    Dm_sort = sorted(list(Dn_m))\n",
    "    for i in range(len(Dm_sort)-1):\n",
    "        if (Dm_sort[i+1] - Dm_sort[i] > B):\n",
    "            return True\n",
    "    return False"
   ]
  },
  {
   "cell_type": "code",
   "execution_count": 35,
   "id": "250a5a51-d262-4018-a0ed-27dc9aa101f5",
   "metadata": {
    "tags": []
   },
   "outputs": [
    {
     "name": "stdout",
     "output_type": "stream",
     "text": [
      "Yes\n"
     ]
    }
   ],
   "source": [
    "print('Yes' if solve() else 'No')"
   ]
  },
  {
   "cell_type": "code",
   "execution_count": null,
   "id": "edd572c8-2677-4ff8-a507-07911ec08478",
   "metadata": {},
   "outputs": [],
   "source": [
    "# WA"
   ]
  },
  {
   "cell_type": "code",
   "execution_count": 102,
   "id": "c49def25-3fc2-4d10-82c2-00987252ee62",
   "metadata": {
    "tags": []
   },
   "outputs": [
    {
     "name": "stdout",
     "output_type": "stream",
     "text": [
      "No\n"
     ]
    }
   ],
   "source": [
    "for D in Dn:\n",
    "    m = D % (A+B)\n",
    "    if m == 0 or m > A:\n",
    "        print('No')\n",
    "        break\n",
    "else:\n",
    "    print('Yes')"
   ]
  },
  {
   "cell_type": "code",
   "execution_count": null,
   "id": "2170c224-90a0-4943-b1bf-c2bc8f36d860",
   "metadata": {},
   "outputs": [],
   "source": [
    "1 2 8 9"
   ]
  }
 ],
 "metadata": {
  "kernelspec": {
   "display_name": "Python 3 (ipykernel)",
   "language": "python",
   "name": "python3"
  },
  "language_info": {
   "codemirror_mode": {
    "name": "ipython",
    "version": 3
   },
   "file_extension": ".py",
   "mimetype": "text/x-python",
   "name": "python",
   "nbconvert_exporter": "python",
   "pygments_lexer": "ipython3",
   "version": "3.11.3"
  }
 },
 "nbformat": 4,
 "nbformat_minor": 5
}
