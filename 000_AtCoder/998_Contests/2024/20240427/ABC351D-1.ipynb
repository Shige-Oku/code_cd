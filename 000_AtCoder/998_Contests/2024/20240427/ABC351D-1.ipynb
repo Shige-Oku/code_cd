{
 "cells": [
  {
   "cell_type": "code",
   "execution_count": 1,
   "id": "1cd7d5f8-fca9-469c-9417-06cbf21fb247",
   "metadata": {
    "tags": []
   },
   "outputs": [],
   "source": [
    "import sys\n",
    "import numpy as np\n",
    "import math\n",
    "import collections\n",
    "import copy\n",
    "import decimal\n",
    "import itertools\n",
    "import re\n",
    "import bisect\n",
    "import scipy\n",
    "import heapq\n",
    "from collections import deque \n",
    "from functools import reduce\n",
    "from itertools import product\n",
    "from itertools import combinations\n",
    "from functools import lru_cache\n",
    "from scipy.special import comb\n",
    "from numba import njit\n",
    "from bisect import bisect_right\n",
    "from bisect import bisect_left\n",
    "from atcoder.fenwicktree import FenwickTree"
   ]
  },
  {
   "cell_type": "code",
   "execution_count": 1,
   "id": "c3bd26a9-8f52-4392-9309-257c6e41b98c",
   "metadata": {
    "tags": []
   },
   "outputs": [
    {
     "name": "stdin",
     "output_type": "stream",
     "text": [
      " 3 5\n"
     ]
    }
   ],
   "source": [
    "H, W = map(int, input().split())"
   ]
  },
  {
   "cell_type": "code",
   "execution_count": 2,
   "id": "ffc62165-9f09-4fc1-8a4f-4165f5b32343",
   "metadata": {
    "tags": []
   },
   "outputs": [
    {
     "name": "stdin",
     "output_type": "stream",
     "text": [
      " .#...\n",
      " .....\n",
      " .#..#\n"
     ]
    }
   ],
   "source": [
    "Sh = [input() for _ in range(H)]"
   ]
  },
  {
   "cell_type": "code",
   "execution_count": null,
   "id": "0cf11d5d-772a-4cd2-ba5d-129f762ad3ea",
   "metadata": {},
   "outputs": [],
   "source": [
    "# 解説を読んで実装"
   ]
  },
  {
   "cell_type": "code",
   "execution_count": 3,
   "id": "458ab19b-7127-4846-982a-b8debc69f2c0",
   "metadata": {
    "tags": []
   },
   "outputs": [],
   "source": [
    "Sl = []\n",
    "for S in Sh:\n",
    "    Sl.append(list(S))\n",
    "\n",
    "for h in range(H):\n",
    "    for w in range(W):\n",
    "        if Sl[h][w] != '.':\n",
    "            continue\n",
    "        if h > 0 and Sl[h-1][w] == '#':\n",
    "            Sl[h][w] = '$'\n",
    "            continue\n",
    "        if h < H-1 and Sl[h+1][w] == '#':\n",
    "            Sl[h][w] = '$'\n",
    "            continue\n",
    "        if w > 0 and Sl[h][w-1] == '#':\n",
    "            Sl[h][w] = '$'\n",
    "            continue\n",
    "        if w < W-1 and Sl[h][w+1] == '#':\n",
    "            Sl[h][w] = '$'\n",
    "            continue\n"
   ]
  },
  {
   "cell_type": "code",
   "execution_count": 53,
   "id": "fbd351f2-f549-46e8-86d2-2785f3735e49",
   "metadata": {
    "tags": []
   },
   "outputs": [],
   "source": [
    "from collections import deque\n",
    "def bfs(h, w, t):\n",
    "    # print(h, w, t)\n",
    "    q = deque()\n",
    "    visit[h][w] = True\n",
    "    last[h][w] = t\n",
    "    ret = 1\n",
    "    q.append((h, w))\n",
    "    while q:\n",
    "        y, x  = q.popleft()\n",
    "        for yy, xx in ((-1, 0), (1, 0), (0, -1), (0, 1)):\n",
    "            ny = y + yy\n",
    "            nx = x + xx\n",
    "            if ny < 0 or nx < 0:\n",
    "                continue\n",
    "            if ny >= H or nx >= W:\n",
    "                continue\n",
    "            if last[ny][nx] == t or visit[ny][nx]:\n",
    "                continue\n",
    "            if Sl[ny][nx] == '#':\n",
    "                continue\n",
    "            last[ny][nx] = t\n",
    "            ret += 1\n",
    "            if Sl[ny][nx] == '.':\n",
    "                visit[ny][nx] = True\n",
    "                q.append((ny, nx))\n",
    "    \n",
    "    return ret"
   ]
  },
  {
   "cell_type": "code",
   "execution_count": 54,
   "id": "7b80cecd-68ff-4409-a5c7-72f96d6e559a",
   "metadata": {
    "tags": []
   },
   "outputs": [],
   "source": [
    "visit = [[False] * (W) for _ in range(H)]\n",
    "last = [[0] * W for _ in range(H)]\n",
    "\n",
    "ans = 1\n",
    "t = 1\n",
    "for h in range(H):\n",
    "    for w in range(W):\n",
    "        if not visit[h][w] and Sl[h][w] == '.':\n",
    "            c = bfs(h, w, t)\n",
    "            ans = max(ans, c)\n",
    "            # print(h, w)\n",
    "            t += 1"
   ]
  },
  {
   "cell_type": "code",
   "execution_count": 55,
   "id": "a035a162-ac38-4ffe-85ac-e41114930b10",
   "metadata": {
    "tags": []
   },
   "outputs": [
    {
     "data": {
      "text/plain": [
       "([[False, False, False, True, True],\n",
       "  [True, False, True, True, False],\n",
       "  [False, False, False, False, False]],\n",
       " [[2, 0, 1, 1, 1], [2, 2, 1, 1, 1], [2, 0, 1, 1, 0]])"
      ]
     },
     "execution_count": 55,
     "metadata": {},
     "output_type": "execute_result"
    }
   ],
   "source": [
    "visit, last"
   ]
  },
  {
   "cell_type": "code",
   "execution_count": 56,
   "id": "57d903f5-649e-4a0b-920f-3e74031283c5",
   "metadata": {
    "tags": []
   },
   "outputs": [
    {
     "name": "stdout",
     "output_type": "stream",
     "text": [
      "9\n"
     ]
    }
   ],
   "source": [
    "print(ans)"
   ]
  },
  {
   "cell_type": "code",
   "execution_count": null,
   "id": "cd017f7a-b1a3-4063-bbbf-c48a790fe610",
   "metadata": {},
   "outputs": [],
   "source": [
    "# TLE"
   ]
  },
  {
   "cell_type": "code",
   "execution_count": 28,
   "id": "c395eb96-6a5d-4342-afeb-87e73bd9337c",
   "metadata": {
    "tags": []
   },
   "outputs": [],
   "source": [
    "from collections import deque\n",
    "def bfs(h, w):\n",
    "    # print(h, w)\n",
    "    n = H * W\n",
    "    last = [False] * n\n",
    "    q = deque()\n",
    "    visit[h][w] = True\n",
    "    p = h * W + w\n",
    "    last[p] = True\n",
    "    ret = 1\n",
    "    q.append((h, w))\n",
    "    while q:\n",
    "        y, x  = q.popleft()\n",
    "        for yy, xx in ((-1, 0), (1, 0), (0, -1), (0, 1)):\n",
    "            ny = y + yy\n",
    "            nx = x + xx\n",
    "            if ny < 0 or nx < 0:\n",
    "                continue\n",
    "            if ny >= H or nx >= W:\n",
    "                continue\n",
    "            np = ny * W + nx\n",
    "            if last[np]:\n",
    "                continue\n",
    "            if Sl[ny][nx] == '#':\n",
    "                continue\n",
    "            last[np] = True\n",
    "            ret += 1\n",
    "            if Sl[ny][nx] == '.':\n",
    "                visit[ny][nx] = True\n",
    "                q.append((ny, nx))\n",
    "            \n",
    "    return ret"
   ]
  },
  {
   "cell_type": "code",
   "execution_count": 23,
   "id": "cff91f22-f42d-46c3-a240-5a7f4c70a31e",
   "metadata": {
    "tags": []
   },
   "outputs": [],
   "source": [
    "from collections import deque\n",
    "def bfs(h, w):\n",
    "    # print(h, w)\n",
    "    last = [[False] * W for _ in range(H)]\n",
    "    q = deque()\n",
    "    visit[h][w] = True\n",
    "    last[h][w] = True\n",
    "    ret = 1\n",
    "    q.append((h, w))\n",
    "    while q:\n",
    "        y, x  = q.popleft()\n",
    "        for yy, xx in ((-1, 0), (1, 0), (0, -1), (0, 1)):\n",
    "            ny = y + yy\n",
    "            nx = x + xx\n",
    "            if ny < 0 or nx < 0:\n",
    "                continue\n",
    "            if ny >= H or nx >= W:\n",
    "                continue\n",
    "            if last[ny][nx] or visit[ny][nx]:\n",
    "                continue\n",
    "            if Sl[ny][nx] == '#':\n",
    "                continue\n",
    "            last[ny][nx] = True\n",
    "            ret += 1\n",
    "            if Sl[ny][nx] == '.':\n",
    "                visit[ny][nx] = True\n",
    "                q.append((ny, nx))\n",
    "            \n",
    "    return ret"
   ]
  },
  {
   "cell_type": "code",
   "execution_count": 24,
   "id": "9c0fba43-3f12-43bb-942e-ed4afdbf4a82",
   "metadata": {
    "tags": []
   },
   "outputs": [
    {
     "data": {
      "text/plain": [
       "[[False, False, False, True, True],\n",
       " [True, False, True, True, False],\n",
       " [False, False, False, False, False]]"
      ]
     },
     "execution_count": 24,
     "metadata": {},
     "output_type": "execute_result"
    }
   ],
   "source": [
    "visit"
   ]
  },
  {
   "cell_type": "code",
   "execution_count": 4,
   "id": "09af5293-86ae-414b-be85-c10aec3210b7",
   "metadata": {
    "tags": []
   },
   "outputs": [
    {
     "data": {
      "text/plain": [
       "[['$', '#', '$', '.', '.'],\n",
       " ['.', '$', '.', '.', '$'],\n",
       " ['$', '#', '$', '$', '#']]"
      ]
     },
     "execution_count": 4,
     "metadata": {},
     "output_type": "execute_result"
    }
   ],
   "source": [
    "Sl"
   ]
  },
  {
   "cell_type": "code",
   "execution_count": null,
   "id": "401b5da6-91fc-4aaa-9663-a6800d8c4cf0",
   "metadata": {},
   "outputs": [],
   "source": [
    "# TLE"
   ]
  },
  {
   "cell_type": "code",
   "execution_count": 67,
   "id": "08c3c9d5-c5fa-4b55-987b-b6a069b628cc",
   "metadata": {
    "tags": []
   },
   "outputs": [],
   "source": [
    "from collections import deque\n",
    "def bfs(h, w):\n",
    "    # print(h, w)\n",
    "    visit = [[False] * W for _ in range(H)]\n",
    "    q = deque()\n",
    "    visit[h][w] = True\n",
    "    q.append((h, w))\n",
    "    while q:\n",
    "        y, x  = q.popleft()\n",
    "        if y > 0 and Sh[y-1][x] == '#':\n",
    "            continue\n",
    "        if y + 1 < H and Sh[y+1][x] == '#':\n",
    "            continue\n",
    "        if x > 0 and Sh[y][x-1] == '#':\n",
    "            continue\n",
    "        if x + 1 < W and Sh[y][x+1] == '#':\n",
    "            continue\n",
    "        for yy, xx in ((-1, 0), (1, 0), (0, -1), (0, 1)):\n",
    "            ny = y + yy\n",
    "            nx = x + xx\n",
    "            if ny < 0 or nx < 0:\n",
    "                continue\n",
    "            if ny >= H or nx >= W:\n",
    "                continue\n",
    "            if visit[ny][nx]:\n",
    "                continue\n",
    "            if Sh[ny][nx] == '#':\n",
    "                continue\n",
    "            visit[ny][nx] = True\n",
    "            q.append((ny, nx))\n",
    "            \n",
    "    ret = 0\n",
    "    for v in visit:\n",
    "        ret += sum(v)\n",
    "    if ret > ans:\n",
    "        visit2 = visit\n",
    "    return ret"
   ]
  },
  {
   "cell_type": "code",
   "execution_count": 70,
   "id": "3a12fadf-0561-4855-84d9-9ca57078df9c",
   "metadata": {
    "tags": []
   },
   "outputs": [],
   "source": [
    "ans = 0\n",
    "visit2 = [[False] * W for _ in range(H)]\n",
    "for h in range(H):\n",
    "    for w in range(W):\n",
    "        if not visit2[h][w]:\n",
    "            c = bfs(h, w)\n",
    "            ans = max(ans, c)\n"
   ]
  },
  {
   "cell_type": "code",
   "execution_count": 71,
   "id": "55be1aad-53c1-4a8d-8976-067aac79ed26",
   "metadata": {
    "tags": []
   },
   "outputs": [
    {
     "name": "stdout",
     "output_type": "stream",
     "text": [
      "9\n"
     ]
    }
   ],
   "source": [
    "print(ans)"
   ]
  },
  {
   "cell_type": "code",
   "execution_count": 31,
   "id": "95f001ff-aa70-49ef-b5f7-02151ceaee9f",
   "metadata": {
    "tags": []
   },
   "outputs": [],
   "source": [
    "Sl = []\n",
    "for S in Sh:\n",
    "    Sl.append(list(S))\n",
    "\n",
    "for h in range(H):\n",
    "    for w in range(W):\n",
    "        if Sl[h][w] != '.':\n",
    "            continue\n",
    "        if h > 0 and Sl[h-1][w] == '#':\n",
    "            Sl[h][w] = '$'\n",
    "            continue\n",
    "        if h < H-1 and Sl[h+1][w] == '#':\n",
    "            Sl[h][w] = '$'\n",
    "            continue\n",
    "        if w > 0 and Sl[h][w-1] == '#':\n",
    "            Sl[h][w] = '$'\n",
    "            continue\n",
    "        if w < W-1 and Sl[h][w+1] == '#':\n",
    "            Sl[h][w] = '$'\n",
    "            continue\n"
   ]
  },
  {
   "cell_type": "code",
   "execution_count": 32,
   "id": "748692da-6137-4c28-875e-ca95469c7fa7",
   "metadata": {
    "tags": []
   },
   "outputs": [
    {
     "data": {
      "text/plain": [
       "[['$', '#', '$', '.', '.'],\n",
       " ['.', '$', '.', '.', '$'],\n",
       " ['$', '#', '$', '$', '#']]"
      ]
     },
     "execution_count": 32,
     "metadata": {},
     "output_type": "execute_result"
    }
   ],
   "source": [
    "Sl"
   ]
  },
  {
   "cell_type": "code",
   "execution_count": 35,
   "id": "697206de-556d-458f-8319-80bcc0efc7d7",
   "metadata": {
    "tags": []
   },
   "outputs": [
    {
     "data": {
      "text/plain": [
       "([[False, False, False, False, False],\n",
       "  [False, False, False, False, False],\n",
       "  [False, False, False, False, False]],\n",
       " [[0, 0, 0, 0, 0], [0, 0, 0, 0, 0], [0, 0, 0, 0, 0]])"
      ]
     },
     "execution_count": 35,
     "metadata": {},
     "output_type": "execute_result"
    }
   ],
   "source": [
    "visit, cost"
   ]
  },
  {
   "cell_type": "code",
   "execution_count": 12,
   "id": "69082fa7-9993-4ae2-8723-0d5ae16dc4ca",
   "metadata": {
    "tags": []
   },
   "outputs": [],
   "source": [
    "Sl = []\n",
    "Sl.append(list('#' * (W+2)))"
   ]
  },
  {
   "cell_type": "code",
   "execution_count": 13,
   "id": "01103081-2033-42d5-931e-21333fdf711c",
   "metadata": {
    "tags": []
   },
   "outputs": [
    {
     "data": {
      "text/plain": [
       "[['#', '#', '#', '#', '#', '#', '#']]"
      ]
     },
     "execution_count": 13,
     "metadata": {},
     "output_type": "execute_result"
    }
   ],
   "source": [
    "Sl"
   ]
  },
  {
   "cell_type": "code",
   "execution_count": 37,
   "id": "d3943f20-939a-4449-84cc-2c1ae870e6d5",
   "metadata": {
    "tags": []
   },
   "outputs": [
    {
     "data": {
      "text/plain": [
       "True"
      ]
     },
     "execution_count": 37,
     "metadata": {},
     "output_type": "execute_result"
    }
   ],
   "source": [
    "not False"
   ]
  },
  {
   "cell_type": "code",
   "execution_count": 15,
   "id": "f17004b3-52fa-49e0-b16e-4230335e8818",
   "metadata": {
    "tags": []
   },
   "outputs": [],
   "source": [
    "Sl = []\n",
    "Sl.append(list('#' * (W+2)))\n",
    "for S in Sh:\n",
    "    Sl.append(['#'] + list(S) + ['#'])\n",
    "Sl.append(list('#' * (W+2)))\n",
    "\n",
    "for h in range(1, H+1):\n",
    "    for w in range(1, w+1):\n",
    "        if Sl[h][w] == '#':\n",
    "            continue\n",
    "        if Sl[h-1][w] == '#' or Sl[h+1][w] == '#' or Sl[h][w-1] == '#' or Sl[h][w+1] == '#':\n",
    "            sl[h][w] = '#'"
   ]
  },
  {
   "cell_type": "code",
   "execution_count": 31,
   "id": "32115c94-c123-4d92-8fe3-0fc4a44042d6",
   "metadata": {
    "tags": []
   },
   "outputs": [],
   "source": [
    "Sl = []\n",
    "for S in Sh:\n",
    "    Sl.append(list(S))\n",
    "\n",
    "for h in range(H):\n",
    "    for w in range(W):\n",
    "        if Sl[h][w] != '.':\n",
    "            continue\n",
    "        if h > 0 and Sl[h-1][w] == '#':\n",
    "            Sl[h][w] = '$'\n",
    "            continue\n",
    "        if h < H-1 and Sl[h+1][w] == '#':\n",
    "            Sl[h][w] = '$'\n",
    "            continue\n",
    "        if w > 0 and Sl[h][w-1] == '#':\n",
    "            Sl[h][w] = '$'\n",
    "            continue\n",
    "        if w < W-1 and Sl[h][w+1] == '#':\n",
    "            Sl[h][w] = '$'\n",
    "            continue\n"
   ]
  },
  {
   "cell_type": "code",
   "execution_count": 72,
   "id": "0e8f68a8-d7f6-4069-b4a5-0a5d034c435c",
   "metadata": {
    "tags": []
   },
   "outputs": [
    {
     "name": "stdout",
     "output_type": "stream",
     "text": [
      "9\n",
      "8\n",
      "7\n",
      "6\n",
      "5\n",
      "4\n",
      "3\n",
      "2\n",
      "1\n",
      "0\n"
     ]
    }
   ],
   "source": [
    "for i in reversed(range(10)):\n",
    "    print(i)"
   ]
  },
  {
   "cell_type": "code",
   "execution_count": 1,
   "id": "bea753d5-b1dc-4f68-829c-39efec460ea4",
   "metadata": {},
   "outputs": [
    {
     "name": "stdin",
     "output_type": "stream",
     "text": [
      " 3 5\n"
     ]
    }
   ],
   "source": [
    "H, W = map(int, input().split())"
   ]
  },
  {
   "cell_type": "code",
   "execution_count": 2,
   "id": "eeb487c0-a70b-479e-8bcb-1bd6b185b2ce",
   "metadata": {
    "tags": []
   },
   "outputs": [
    {
     "name": "stdin",
     "output_type": "stream",
     "text": [
      " .#...\n",
      " .....\n",
      " .#..#\n"
     ]
    }
   ],
   "source": [
    "Sh = [input() for _ in range(H)]"
   ]
  },
  {
   "cell_type": "code",
   "execution_count": 32,
   "id": "b3350627-28de-4921-9912-9f23fc672a32",
   "metadata": {
    "tags": []
   },
   "outputs": [],
   "source": [
    "Sh2 = [list(S) for S in Sh]\n",
    "for h in range(H):\n",
    "    for w in range(W):\n",
    "        if Sh2[h][w] == \"#\":\n",
    "            continue\n",
    "        if h - 1 >= 0 and Sh2[h-1][w] == \"#\":\n",
    "            Sh2[h][w] = \"$\"\n",
    "        if h < H - 1 and Sh2[h+1][w] == \"#\":\n",
    "            Sh2[h][w] = \"$\"\n",
    "        if w - 1 >= 0 and Sh2[h][w-1] == \"#\":\n",
    "            Sh2[h][w] = \"$\"\n",
    "        if w < W - 1 and Sh2[h][w+1] == \"#\":\n",
    "            Sh2[h][w] = \"$\"\n",
    "    "
   ]
  },
  {
   "cell_type": "code",
   "execution_count": 24,
   "id": "e6e8a45a-8728-4f0d-b29e-fe1bc0725d03",
   "metadata": {
    "tags": []
   },
   "outputs": [],
   "source": [
    "from collections import deque\n",
    "def bfs(h, w, t):\n",
    "    ret = 1\n",
    "    q = deque()\n",
    "    visit[h][w] = True\n",
    "    cost[h][w] = t\n",
    "    q.append((h, w))\n",
    "    while q:\n",
    "        y, x = q.popleft()\n",
    "        for dy, dx in ((-1, 0), (1, 0), (0, -1), (0, 1)):\n",
    "            ny = y + dy\n",
    "            nx = x + dx\n",
    "            if ny < 0 or nx < 0:\n",
    "                continue\n",
    "            if ny >= H or nx >= W:\n",
    "                continue\n",
    "            if visit[ny][nx]:\n",
    "                continue\n",
    "            if Sh2[ny][nx] == \"#\":\n",
    "                continue\n",
    "            if cost[ny][nx] == t:\n",
    "                continue\n",
    "            ret += 1\n",
    "            cost[ny][nx] = t\n",
    "            if Sh2[ny][nx] == \".\":\n",
    "                visit[ny][nx] = True\n",
    "                q.append((ny, nx))\n",
    "    return ret"
   ]
  },
  {
   "cell_type": "code",
   "execution_count": 29,
   "id": "b8c9bbf2-b8cf-4382-983c-1ac88e1594d8",
   "metadata": {
    "tags": []
   },
   "outputs": [],
   "source": [
    "visit = [[False] * W for _ in range(H)]\n",
    "cost = [[0] * W for _ in range(H)]\n",
    "ans = 1\n",
    "t = 1\n",
    "for h in range(H):\n",
    "    for w in range(W):\n",
    "        if visit[h][w]:\n",
    "            continue\n",
    "        if Sh2[h][w] != \".\":\n",
    "            continue\n",
    "        c = bfs(h, w, t)\n",
    "        ans = max(ans, c)\n",
    "        t += 1\n",
    "        # print(h, w, ans, c, t)"
   ]
  },
  {
   "cell_type": "code",
   "execution_count": 30,
   "id": "80450e30-61ff-4ba3-97c7-ef2ac7f71e0f",
   "metadata": {
    "tags": []
   },
   "outputs": [
    {
     "name": "stdout",
     "output_type": "stream",
     "text": [
      "9\n"
     ]
    }
   ],
   "source": [
    "print(ans)"
   ]
  },
  {
   "cell_type": "code",
   "execution_count": 6,
   "id": "e07e4f02-3a5a-4798-a0b7-cd2c0c775fb2",
   "metadata": {
    "tags": []
   },
   "outputs": [
    {
     "data": {
      "text/plain": [
       "[['$', '#', '$', '.', '.'],\n",
       " ['.', '$', '.', '.', '$'],\n",
       " ['$', '#', '$', '$', '#']]"
      ]
     },
     "execution_count": 6,
     "metadata": {},
     "output_type": "execute_result"
    }
   ],
   "source": [
    "Sh2"
   ]
  },
  {
   "cell_type": "code",
   "execution_count": 31,
   "id": "b89971db-0f91-4444-b788-fecee01bcd23",
   "metadata": {
    "tags": []
   },
   "outputs": [
    {
     "data": {
      "text/plain": [
       "([[False, False, False, True, True],\n",
       "  [True, False, True, True, False],\n",
       "  [False, False, False, False, False]],\n",
       " [[2, 0, 1, 1, 1], [2, 2, 1, 1, 1], [2, 0, 1, 1, 0]])"
      ]
     },
     "execution_count": 31,
     "metadata": {},
     "output_type": "execute_result"
    }
   ],
   "source": [
    "visit, cost"
   ]
  },
  {
   "cell_type": "code",
   "execution_count": null,
   "id": "9c6256ba-1c79-4b64-bbda-fe62459f0b43",
   "metadata": {},
   "outputs": [],
   "source": []
  }
 ],
 "metadata": {
  "kernelspec": {
   "display_name": "Python 3 (ipykernel)",
   "language": "python",
   "name": "python3"
  },
  "language_info": {
   "codemirror_mode": {
    "name": "ipython",
    "version": 3
   },
   "file_extension": ".py",
   "mimetype": "text/x-python",
   "name": "python",
   "nbconvert_exporter": "python",
   "pygments_lexer": "ipython3",
   "version": "3.11.3"
  }
 },
 "nbformat": 4,
 "nbformat_minor": 5
}
