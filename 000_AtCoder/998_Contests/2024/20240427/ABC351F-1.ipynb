{
 "cells": [
  {
   "cell_type": "code",
   "execution_count": 1,
   "id": "fccb5409-a87d-4a23-a402-34b46d026a77",
   "metadata": {
    "tags": []
   },
   "outputs": [],
   "source": [
    "import sys\n",
    "import numpy as np\n",
    "import math\n",
    "import collections\n",
    "import copy\n",
    "import decimal\n",
    "import itertools\n",
    "import re\n",
    "import bisect\n",
    "import scipy\n",
    "import heapq\n",
    "from collections import deque \n",
    "from functools import reduce\n",
    "from itertools import product\n",
    "from itertools import combinations\n",
    "from functools import lru_cache\n",
    "from scipy.special import comb\n",
    "from numba import njit\n",
    "from bisect import bisect_right\n",
    "from bisect import bisect_left\n",
    "from atcoder.fenwicktree import FenwickTree"
   ]
  },
  {
   "cell_type": "code",
   "execution_count": 14,
   "id": "3089732d-9f76-4529-8d4e-b5dab9b28d7e",
   "metadata": {},
   "outputs": [
    {
     "name": "stdin",
     "output_type": "stream",
     "text": [
      " 10\n"
     ]
    }
   ],
   "source": [
    "N = int(input())"
   ]
  },
  {
   "cell_type": "code",
   "execution_count": 15,
   "id": "98b990af-6f4e-4661-a176-a98d133110fa",
   "metadata": {
    "tags": []
   },
   "outputs": [
    {
     "name": "stdin",
     "output_type": "stream",
     "text": [
      " 5 9 3 0 4 8 7 5 4 0\n"
     ]
    }
   ],
   "source": [
    "An = list(map(int, input().split()))"
   ]
  },
  {
   "cell_type": "code",
   "execution_count": 16,
   "id": "c9b3456f-f7a2-482c-b8f0-98c33076459a",
   "metadata": {
    "tags": []
   },
   "outputs": [],
   "source": [
    "An_s = set(An)\n",
    "An_s = sorted(An_s)\n",
    "An_d = {}\n",
    "for i, A in enumerate(An_s):\n",
    "    An_d[A] = i"
   ]
  },
  {
   "cell_type": "code",
   "execution_count": 17,
   "id": "1df7cd8e-e62b-4c49-8a0a-2eb9f6e31614",
   "metadata": {
    "tags": []
   },
   "outputs": [],
   "source": [
    "from atcoder.fenwicktree import FenwickTree\n",
    "fw_cnt = FenwickTree(N)\n",
    "fw_sum = FenwickTree(N)\n",
    "ans = 0\n",
    "for A in An:\n",
    "    ai = An_d[A]\n",
    "    ans += A * fw_cnt.sum(0, ai)\n",
    "    ans -= fw_sum.sum(0, ai)\n",
    "    fw_cnt.add(ai, 1)\n",
    "    fw_sum.add(ai, A)"
   ]
  },
  {
   "cell_type": "code",
   "execution_count": 18,
   "id": "7d0bc7d3-9ec2-474b-8601-f28d94a2735a",
   "metadata": {
    "tags": []
   },
   "outputs": [
    {
     "name": "stdout",
     "output_type": "stream",
     "text": [
      "58\n"
     ]
    }
   ],
   "source": [
    "print(ans)"
   ]
  },
  {
   "cell_type": "code",
   "execution_count": 4,
   "id": "d8244ea6-d2b5-4758-aa11-cda18f066737",
   "metadata": {
    "tags": []
   },
   "outputs": [
    {
     "data": {
      "text/plain": [
       "[2, 3, 5]"
      ]
     },
     "execution_count": 4,
     "metadata": {},
     "output_type": "execute_result"
    }
   ],
   "source": [
    "An_s"
   ]
  },
  {
   "cell_type": "code",
   "execution_count": 6,
   "id": "f86a2fb5-2b0d-420b-8040-c7f67ecf407c",
   "metadata": {
    "tags": []
   },
   "outputs": [
    {
     "data": {
      "text/plain": [
       "{2: 1, 3: 2, 5: 3}"
      ]
     },
     "execution_count": 6,
     "metadata": {},
     "output_type": "execute_result"
    }
   ],
   "source": [
    "An_d"
   ]
  },
  {
   "cell_type": "code",
   "execution_count": 9,
   "id": "5b7875d0-4de3-4908-a2de-488fd4334b47",
   "metadata": {},
   "outputs": [
    {
     "name": "stdin",
     "output_type": "stream",
     "text": [
      " 10\n"
     ]
    }
   ],
   "source": [
    "N = int(input())"
   ]
  },
  {
   "cell_type": "code",
   "execution_count": 8,
   "id": "c773e035-bffb-4130-9268-5a062171b097",
   "metadata": {
    "tags": []
   },
   "outputs": [
    {
     "name": "stdin",
     "output_type": "stream",
     "text": [
      " 5 9 3 0 4 8 7 5 4 0\n"
     ]
    }
   ],
   "source": [
    "An = list(map(int, input().split()))"
   ]
  },
  {
   "cell_type": "code",
   "execution_count": 10,
   "id": "1c93976f-a5c6-4a59-a7d4-f7b28b0e2963",
   "metadata": {
    "tags": []
   },
   "outputs": [],
   "source": [
    "from atcoder.fenwicktree import FenwickTree\n",
    "p = {}\n",
    "An_s = set(An)\n",
    "An_s = sorted(list(An_s))\n",
    "for i, A in enumerate(An_s):\n",
    "    p[A] = i\n",
    "fw_cnt = FenwickTree(len(p))\n",
    "fw_sum = FenwickTree(len(p))\n"
   ]
  },
  {
   "cell_type": "code",
   "execution_count": 11,
   "id": "0e955823-a60a-4eeb-9870-431cf8463bf8",
   "metadata": {
    "tags": []
   },
   "outputs": [],
   "source": [
    "ans = 0\n",
    "for A in An:\n",
    "    pi = p[A]\n",
    "    ans += fw_cnt.sum(0, pi) * A\n",
    "    ans -= fw_sum.sum(0, pi)\n",
    "    fw_cnt.add(pi, 1)\n",
    "    fw_sum.add(pi, A)"
   ]
  },
  {
   "cell_type": "code",
   "execution_count": 12,
   "id": "12d31617-4fda-4671-9228-9844aac5c0aa",
   "metadata": {
    "tags": []
   },
   "outputs": [
    {
     "name": "stdout",
     "output_type": "stream",
     "text": [
      "58\n"
     ]
    }
   ],
   "source": [
    "print(ans)"
   ]
  },
  {
   "cell_type": "code",
   "execution_count": null,
   "id": "b90be564-278e-4d0b-8f95-700d59496476",
   "metadata": {},
   "outputs": [],
   "source": []
  }
 ],
 "metadata": {
  "kernelspec": {
   "display_name": "Python 3 (ipykernel)",
   "language": "python",
   "name": "python3"
  },
  "language_info": {
   "codemirror_mode": {
    "name": "ipython",
    "version": 3
   },
   "file_extension": ".py",
   "mimetype": "text/x-python",
   "name": "python",
   "nbconvert_exporter": "python",
   "pygments_lexer": "ipython3",
   "version": "3.11.3"
  }
 },
 "nbformat": 4,
 "nbformat_minor": 5
}
