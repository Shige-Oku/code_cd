{
 "cells": [
  {
   "cell_type": "code",
   "execution_count": 1,
   "id": "cc0af867-a2a1-48e5-bdc3-b4f1cc47822e",
   "metadata": {
    "tags": []
   },
   "outputs": [],
   "source": [
    "import sys\n",
    "import numpy as np\n",
    "import math\n",
    "import collections\n",
    "import copy\n",
    "import decimal\n",
    "import itertools\n",
    "import re\n",
    "import bisect\n",
    "import scipy\n",
    "import heapq\n",
    "from collections import deque \n",
    "from functools import reduce\n",
    "from itertools import product\n",
    "from itertools import combinations\n",
    "from functools import lru_cache\n",
    "from scipy.special import comb\n",
    "from numba import njit\n",
    "from bisect import bisect_right\n",
    "from bisect import bisect_left\n",
    "from atcoder.fenwicktree import FenwickTree"
   ]
  },
  {
   "cell_type": "code",
   "execution_count": 2,
   "id": "0243475b-ed48-40c7-9bf6-ab49c975f84d",
   "metadata": {
    "tags": []
   },
   "outputs": [
    {
     "name": "stdin",
     "output_type": "stream",
     "text": [
      " 6 7\n"
     ]
    }
   ],
   "source": [
    "N, M = map(int, input().split())"
   ]
  },
  {
   "cell_type": "code",
   "execution_count": 3,
   "id": "9e687336-9ec7-44f1-b581-d04f3193e6f6",
   "metadata": {
    "tags": []
   },
   "outputs": [
    {
     "name": "stdin",
     "output_type": "stream",
     "text": [
      " 10 5 10 3 1 3\n",
      " 13 5 10 2 3 4\n",
      " 15 5 10 7 4 6\n",
      " 3 10 2 4 2 5\n",
      " 7 10 2 3 5 6\n",
      " 5 3 18 2 2 3\n",
      " 6 3 20 4 2 1\n"
     ]
    }
   ],
   "source": [
    "LDKCABm = [list(map(int, input().split())) for _ in range(M)]"
   ]
  },
  {
   "cell_type": "code",
   "execution_count": 24,
   "id": "734aad8c-0efa-467f-88d8-6de1cae19810",
   "metadata": {
    "tags": []
   },
   "outputs": [],
   "source": [
    "graph = [[] for _ in range(N+1)]\n",
    "for L, D, K, C, A, B in LDKCABm:\n",
    "    graph[B].append((A, L, D, K, C))"
   ]
  },
  {
   "cell_type": "code",
   "execution_count": 18,
   "id": "274daaa9-89a4-496c-9277-93fc245c096a",
   "metadata": {
    "tags": []
   },
   "outputs": [],
   "source": [
    "from collections import deque\n",
    "def bfs():\n",
    "    q = deque()\n",
    "    d[N] = 0\n",
    "    q.append((N, 0, 0, 0, 0))\n",
    "    while q:\n",
    "        p, l, d, k, c = q.popleft()\n",
    "        for ne, nl, nd, nk, nc in graph[p]:\n",
    "            if d[ne] != -1:\n",
    "                continue\n",
    "            d[ne] = c + nc\n",
    "            q.append((ne, d[ne]))\n",
    "            print(p, c, ne, nc, d[ne])\n",
    "    return"
   ]
  },
  {
   "cell_type": "code",
   "execution_count": 19,
   "id": "42c82765-d7c5-413e-848a-93374b09e013",
   "metadata": {
    "tags": []
   },
   "outputs": [
    {
     "name": "stdout",
     "output_type": "stream",
     "text": [
      "6 0 4 7 7\n",
      "6 0 5 3 3\n",
      "4 7 3 2 9\n",
      "5 3 2 4 7\n",
      "3 9 1 3 12\n"
     ]
    }
   ],
   "source": [
    "d = [-1] * (N+1)\n",
    "bfs()"
   ]
  },
  {
   "cell_type": "code",
   "execution_count": 23,
   "id": "dc54b375-7d98-4839-a7fc-4ab0fe8c8dce",
   "metadata": {
    "tags": []
   },
   "outputs": [
    {
     "data": {
      "text/plain": [
       "[[],\n",
       " [(2, 4, 66)],\n",
       " [],\n",
       " [(1, 3, 60), (2, 2, 59)],\n",
       " [(3, 2, 63)],\n",
       " [(2, 4, 23)],\n",
       " [(4, 7, 65), (5, 3, 27)]]"
      ]
     },
     "execution_count": 23,
     "metadata": {},
     "output_type": "execute_result"
    }
   ],
   "source": [
    "graph"
   ]
  },
  {
   "cell_type": "code",
   "execution_count": 21,
   "id": "0a400f55-f402-4222-bf6f-e79b07783ebd",
   "metadata": {
    "tags": []
   },
   "outputs": [
    {
     "data": {
      "text/plain": [
       "[-1, 12, 7, 9, 7, 3, 0]"
      ]
     },
     "execution_count": 21,
     "metadata": {},
     "output_type": "execute_result"
    }
   ],
   "source": [
    "d"
   ]
  },
  {
   "cell_type": "code",
   "execution_count": null,
   "id": "18633149-d13d-41c5-a151-c36533c8425e",
   "metadata": {},
   "outputs": [],
   "source": []
  }
 ],
 "metadata": {
  "kernelspec": {
   "display_name": "Python 3 (ipykernel)",
   "language": "python",
   "name": "python3"
  },
  "language_info": {
   "codemirror_mode": {
    "name": "ipython",
    "version": 3
   },
   "file_extension": ".py",
   "mimetype": "text/x-python",
   "name": "python",
   "nbconvert_exporter": "python",
   "pygments_lexer": "ipython3",
   "version": "3.11.3"
  }
 },
 "nbformat": 4,
 "nbformat_minor": 5
}
