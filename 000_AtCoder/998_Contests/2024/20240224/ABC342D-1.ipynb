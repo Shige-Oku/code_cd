{
 "cells": [
  {
   "cell_type": "code",
   "execution_count": 1,
   "id": "505f04c6-4366-4767-be67-91d094888b8c",
   "metadata": {
    "tags": []
   },
   "outputs": [],
   "source": [
    "import sys\n",
    "import numpy as np\n",
    "import math\n",
    "import collections\n",
    "import copy\n",
    "import decimal\n",
    "import itertools\n",
    "import re\n",
    "import bisect\n",
    "import scipy\n",
    "import heapq\n",
    "from collections import deque \n",
    "from functools import reduce\n",
    "from itertools import product\n",
    "from itertools import combinations\n",
    "from functools import lru_cache\n",
    "from scipy.special import comb\n",
    "from numba import njit\n",
    "from bisect import bisect_right\n",
    "from bisect import bisect_left\n",
    "from atcoder.fenwicktree import FenwickTree"
   ]
  },
  {
   "cell_type": "code",
   "execution_count": 34,
   "id": "87540635-b78c-48cb-a294-201b3464de2c",
   "metadata": {
    "tags": []
   },
   "outputs": [
    {
     "name": "stdin",
     "output_type": "stream",
     "text": [
      " 5\n"
     ]
    }
   ],
   "source": [
    "N = int(input())"
   ]
  },
  {
   "cell_type": "code",
   "execution_count": 35,
   "id": "6fe9a158-31e5-4ddd-90c2-8ed36499a13c",
   "metadata": {
    "tags": []
   },
   "outputs": [
    {
     "name": "stdin",
     "output_type": "stream",
     "text": [
      " 0 0 1 3 5\n"
     ]
    }
   ],
   "source": [
    "An = list(map(int, input().split()))"
   ]
  },
  {
   "cell_type": "code",
   "execution_count": 36,
   "id": "50c2bd01-fa7c-4a9a-9365-28645098bb24",
   "metadata": {
    "tags": []
   },
   "outputs": [],
   "source": [
    "# 素因数分解\n",
    "from collections import defaultdict\n",
    "def factorization(n):\n",
    "    arr = {}\n",
    "    temp = n\n",
    "    for i in range(2, int(-(-n**0.5//1))+1):\n",
    "        if temp % i == 0:\n",
    "            cnt = 0\n",
    "            while temp % i == 0:\n",
    "                cnt += 1\n",
    "                temp //= i\n",
    "            arr[i] = cnt\n",
    "\n",
    "    if temp != 1:\n",
    "        if temp in arr:\n",
    "            arr[temp] += 1\n",
    "        else:\n",
    "            arr[temp] = 1\n",
    "\n",
    "    if len(arr) == 0:\n",
    "        arr[n] = 1\n",
    "\n",
    "    return arr\n"
   ]
  },
  {
   "cell_type": "code",
   "execution_count": 37,
   "id": "a53f7662-bacc-40df-9db9-a8d425e32357",
   "metadata": {
    "tags": []
   },
   "outputs": [],
   "source": [
    "def solve(n):\n",
    "    arr = factorization(n)\n",
    "    ret = 1\n",
    "    for k, v in arr.items():\n",
    "        if v % 2 == 1:\n",
    "            ret *= k\n",
    "    return ret"
   ]
  },
  {
   "cell_type": "code",
   "execution_count": 38,
   "id": "5f7f3d8a-4cde-4a4c-a047-2c837c9dc3de",
   "metadata": {
    "tags": []
   },
   "outputs": [],
   "source": [
    "An2 = defaultdict(int)\n",
    "for A in An:\n",
    "    Ar = solve(A)\n",
    "    An2[Ar] += 1"
   ]
  },
  {
   "cell_type": "code",
   "execution_count": 43,
   "id": "59a55b20-f7aa-4668-b8b1-2b5a1f40ef65",
   "metadata": {
    "tags": []
   },
   "outputs": [],
   "source": [
    "ans = 0\n",
    "for k, v in An2.items():\n",
    "    if k == 0:\n",
    "        n = 0\n",
    "        for i in range(1, v+1):\n",
    "            n += N - i\n",
    "        ans += n\n",
    "    else:\n",
    "        ans += v*(v-1)//2"
   ]
  },
  {
   "cell_type": "code",
   "execution_count": 44,
   "id": "8f899b84-e614-4a84-9130-920df4874c42",
   "metadata": {
    "tags": []
   },
   "outputs": [
    {
     "name": "stdout",
     "output_type": "stream",
     "text": [
      "7\n"
     ]
    }
   ],
   "source": [
    "print(ans)"
   ]
  },
  {
   "cell_type": "code",
   "execution_count": 24,
   "id": "f49177d1-fc68-4d4b-8089-6ac84c4e68e4",
   "metadata": {
    "tags": []
   },
   "outputs": [
    {
     "data": {
      "text/plain": [
       "defaultdict(int, {0: 1, 3: 2, 2: 2})"
      ]
     },
     "execution_count": 24,
     "metadata": {},
     "output_type": "execute_result"
    }
   ],
   "source": [
    "An2"
   ]
  },
  {
   "cell_type": "code",
   "execution_count": 21,
   "id": "5af6e5f9-8ed5-466f-b6b0-92a73fa59773",
   "metadata": {
    "tags": []
   },
   "outputs": [
    {
     "data": {
      "text/plain": [
       "3"
      ]
     },
     "execution_count": 21,
     "metadata": {},
     "output_type": "execute_result"
    }
   ],
   "source": [
    "solve(12)"
   ]
  },
  {
   "cell_type": "code",
   "execution_count": null,
   "id": "e9701a9f-836b-439e-9925-0cc68c884072",
   "metadata": {},
   "outputs": [],
   "source": []
  }
 ],
 "metadata": {
  "kernelspec": {
   "display_name": "Python 3 (ipykernel)",
   "language": "python",
   "name": "python3"
  },
  "language_info": {
   "codemirror_mode": {
    "name": "ipython",
    "version": 3
   },
   "file_extension": ".py",
   "mimetype": "text/x-python",
   "name": "python",
   "nbconvert_exporter": "python",
   "pygments_lexer": "ipython3",
   "version": "3.11.3"
  }
 },
 "nbformat": 4,
 "nbformat_minor": 5
}
