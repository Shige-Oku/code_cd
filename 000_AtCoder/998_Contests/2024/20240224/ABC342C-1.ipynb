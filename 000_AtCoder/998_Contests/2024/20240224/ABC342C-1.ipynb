{
 "cells": [
  {
   "cell_type": "code",
   "execution_count": 1,
   "id": "7c371b58-2b69-4d12-aaf6-4e89ad0c4ce3",
   "metadata": {
    "tags": []
   },
   "outputs": [],
   "source": [
    "import sys\n",
    "import numpy as np\n",
    "import math\n",
    "import collections\n",
    "import copy\n",
    "import decimal\n",
    "import itertools\n",
    "import re\n",
    "import bisect\n",
    "import scipy\n",
    "import heapq\n",
    "from collections import deque \n",
    "from functools import reduce\n",
    "from itertools import product\n",
    "from itertools import combinations\n",
    "from functools import lru_cache\n",
    "from scipy.special import comb\n",
    "from numba import njit\n",
    "from bisect import bisect_right\n",
    "from bisect import bisect_left\n",
    "from atcoder.fenwicktree import FenwickTree"
   ]
  },
  {
   "cell_type": "code",
   "execution_count": 2,
   "id": "7d5d7ccd-bcf9-4772-b492-05f987192e3d",
   "metadata": {
    "tags": []
   },
   "outputs": [
    {
     "name": "stdin",
     "output_type": "stream",
     "text": [
      " 7\n"
     ]
    }
   ],
   "source": [
    "N = int(input())"
   ]
  },
  {
   "cell_type": "code",
   "execution_count": 3,
   "id": "5a551b30-28ee-4021-9d34-bcee34ef5f6e",
   "metadata": {
    "tags": []
   },
   "outputs": [
    {
     "name": "stdin",
     "output_type": "stream",
     "text": [
      " atcoder\n"
     ]
    }
   ],
   "source": [
    "S = input()"
   ]
  },
  {
   "cell_type": "code",
   "execution_count": 4,
   "id": "49772144-e963-40ea-af08-8fe08b51261a",
   "metadata": {
    "tags": []
   },
   "outputs": [
    {
     "name": "stdin",
     "output_type": "stream",
     "text": [
      " 4\n"
     ]
    }
   ],
   "source": [
    "Q = int(input())"
   ]
  },
  {
   "cell_type": "code",
   "execution_count": 5,
   "id": "eb176b33-9c42-4384-b5fb-3f84cd91f1b3",
   "metadata": {
    "tags": []
   },
   "outputs": [
    {
     "name": "stdin",
     "output_type": "stream",
     "text": [
      " r a\n",
      "  t e\n",
      " d v\n",
      " a r\n"
     ]
    }
   ],
   "source": [
    "CDq = [list(input().split()) for _ in range(Q)]"
   ]
  },
  {
   "cell_type": "code",
   "execution_count": 9,
   "id": "e9bfd21c-c1a0-4496-a1f8-1e17aeb3378f",
   "metadata": {
    "tags": []
   },
   "outputs": [],
   "source": [
    "komoji = [chr(i) for i in range(97,123)]"
   ]
  },
  {
   "cell_type": "code",
   "execution_count": 12,
   "id": "461a37fa-e3a3-40c2-8ad8-9be2e640d70f",
   "metadata": {
    "tags": []
   },
   "outputs": [],
   "source": [
    "for C, D in CDq:\n",
    "    for i in range(len(komoji)):\n",
    "        if komoji[i] == C:\n",
    "            komoji[i] = D"
   ]
  },
  {
   "cell_type": "code",
   "execution_count": 15,
   "id": "3ab52998-f077-4d10-8a13-5e9869365cb3",
   "metadata": {
    "tags": []
   },
   "outputs": [
    {
     "name": "stdout",
     "output_type": "stream",
     "text": [
      "recover"
     ]
    }
   ],
   "source": [
    "for s in S:\n",
    "    print(komoji[ord(s)-ord('a')], end='')"
   ]
  },
  {
   "cell_type": "code",
   "execution_count": 6,
   "id": "eb27e80c-8a34-4dae-a5c4-b452efe98d05",
   "metadata": {
    "tags": []
   },
   "outputs": [
    {
     "data": {
      "text/plain": [
       "97"
      ]
     },
     "execution_count": 6,
     "metadata": {},
     "output_type": "execute_result"
    }
   ],
   "source": [
    "ord('a')"
   ]
  },
  {
   "cell_type": "code",
   "execution_count": 7,
   "id": "8cd02e06-acea-4f03-999d-741371262264",
   "metadata": {
    "tags": []
   },
   "outputs": [],
   "source": [
    "komoji = [chr(i) for i in range(97,123)]"
   ]
  },
  {
   "cell_type": "code",
   "execution_count": 13,
   "id": "aced3531-de64-4c0b-9291-01f65e94667b",
   "metadata": {
    "tags": []
   },
   "outputs": [
    {
     "data": {
      "text/plain": [
       "['r',\n",
       " 'b',\n",
       " 'c',\n",
       " 'v',\n",
       " 'e',\n",
       " 'f',\n",
       " 'g',\n",
       " 'h',\n",
       " 'i',\n",
       " 'j',\n",
       " 'k',\n",
       " 'l',\n",
       " 'm',\n",
       " 'n',\n",
       " 'o',\n",
       " 'p',\n",
       " 'q',\n",
       " 'r',\n",
       " 's',\n",
       " 'e',\n",
       " 'u',\n",
       " 'v',\n",
       " 'w',\n",
       " 'x',\n",
       " 'y',\n",
       " 'z']"
      ]
     },
     "execution_count": 13,
     "metadata": {},
     "output_type": "execute_result"
    }
   ],
   "source": [
    "komoji"
   ]
  },
  {
   "cell_type": "code",
   "execution_count": null,
   "id": "826baa09-4f18-4e7f-8e0c-6e3239d841c7",
   "metadata": {},
   "outputs": [],
   "source": []
  }
 ],
 "metadata": {
  "kernelspec": {
   "display_name": "Python 3 (ipykernel)",
   "language": "python",
   "name": "python3"
  },
  "language_info": {
   "codemirror_mode": {
    "name": "ipython",
    "version": 3
   },
   "file_extension": ".py",
   "mimetype": "text/x-python",
   "name": "python",
   "nbconvert_exporter": "python",
   "pygments_lexer": "ipython3",
   "version": "3.11.3"
  }
 },
 "nbformat": 4,
 "nbformat_minor": 5
}
