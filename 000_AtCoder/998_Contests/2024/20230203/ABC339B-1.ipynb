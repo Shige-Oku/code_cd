{
 "cells": [
  {
   "cell_type": "code",
   "execution_count": 1,
   "id": "635e0d30-f81f-4373-98e9-99f0d08cafae",
   "metadata": {
    "tags": []
   },
   "outputs": [],
   "source": [
    "import sys\n",
    "import numpy as np\n",
    "import math\n",
    "import collections\n",
    "import copy\n",
    "import decimal\n",
    "import itertools\n",
    "import re\n",
    "import bisect\n",
    "import scipy\n",
    "import heapq\n",
    "from collections import deque \n",
    "from functools import reduce\n",
    "from itertools import product\n",
    "from itertools import combinations\n",
    "from functools import lru_cache\n",
    "from scipy.special import comb\n",
    "from numba import njit\n",
    "from bisect import bisect_right\n",
    "from bisect import bisect_left"
   ]
  },
  {
   "cell_type": "code",
   "execution_count": 22,
   "id": "a6fe4365-14c9-4464-97bc-245b4900cc02",
   "metadata": {
    "tags": []
   },
   "outputs": [
    {
     "name": "stdin",
     "output_type": "stream",
     "text": [
      " 10 10 10\n"
     ]
    }
   ],
   "source": [
    "H, W, N = map(int, input().split())"
   ]
  },
  {
   "cell_type": "code",
   "execution_count": 23,
   "id": "586e2aad-0310-4119-a103-84759fc06fa9",
   "metadata": {
    "tags": []
   },
   "outputs": [],
   "source": [
    "grid = [['.'] * W for _  in range(H)]\n",
    "m = 0\n",
    "h, w = 0, 0\n",
    "for i in range(N):\n",
    "    if grid[h][w] == '.':\n",
    "        grid[h][w] = '#'\n",
    "        m += 1\n",
    "    else:\n",
    "        grid[h][w] = '.'\n",
    "        m -= 1\n",
    "    m += 4\n",
    "    m %= 4\n",
    "    if m == 0:\n",
    "        h -= 1\n",
    "    elif m == 1:\n",
    "        w += 1\n",
    "    elif m == 2:\n",
    "        h += 1\n",
    "    else:\n",
    "        w -= 1\n",
    "    h += H\n",
    "    h %= H\n",
    "    w += W\n",
    "    w %= W\n"
   ]
  },
  {
   "cell_type": "code",
   "execution_count": 24,
   "id": "735296e7-75ef-4deb-b2c6-a922208cceb9",
   "metadata": {
    "tags": []
   },
   "outputs": [
    {
     "name": "stdout",
     "output_type": "stream",
     "text": [
      "##........\n",
      "##........\n",
      "..........\n",
      "..........\n",
      "..........\n",
      "..........\n",
      "..........\n",
      "..........\n",
      "..........\n",
      "#........#\n"
     ]
    }
   ],
   "source": [
    "for g in grid:\n",
    "    print(*g, sep= '')"
   ]
  },
  {
   "cell_type": "code",
   "execution_count": 15,
   "id": "a4d2bb72-de9d-481a-a359-cac98cdbe091",
   "metadata": {
    "tags": []
   },
   "outputs": [
    {
     "data": {
      "text/plain": [
       "[['.', '#', '.', '.'], ['#', '#', '.', '.'], ['.', '.', '.', '.']]"
      ]
     },
     "execution_count": 15,
     "metadata": {},
     "output_type": "execute_result"
    }
   ],
   "source": [
    "grid"
   ]
  },
  {
   "cell_type": "code",
   "execution_count": null,
   "id": "f29a2f46-5143-414a-b74b-8a5d12082559",
   "metadata": {},
   "outputs": [],
   "source": []
  }
 ],
 "metadata": {
  "kernelspec": {
   "display_name": "Python 3 (ipykernel)",
   "language": "python",
   "name": "python3"
  },
  "language_info": {
   "codemirror_mode": {
    "name": "ipython",
    "version": 3
   },
   "file_extension": ".py",
   "mimetype": "text/x-python",
   "name": "python",
   "nbconvert_exporter": "python",
   "pygments_lexer": "ipython3",
   "version": "3.11.3"
  }
 },
 "nbformat": 4,
 "nbformat_minor": 5
}
