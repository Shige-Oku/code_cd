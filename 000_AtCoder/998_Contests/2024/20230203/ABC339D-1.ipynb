{
 "cells": [
  {
   "cell_type": "code",
   "execution_count": 1,
   "id": "56930410-33cc-4983-8170-72ca5024f137",
   "metadata": {
    "tags": []
   },
   "outputs": [],
   "source": [
    "import sys\n",
    "import numpy as np\n",
    "import math\n",
    "import collections\n",
    "import copy\n",
    "import decimal\n",
    "import itertools\n",
    "import re\n",
    "import bisect\n",
    "import scipy\n",
    "import heapq\n",
    "from collections import deque \n",
    "from functools import reduce\n",
    "from itertools import product\n",
    "from itertools import combinations\n",
    "from functools import lru_cache\n",
    "from scipy.special import comb\n",
    "from numba import njit\n",
    "from bisect import bisect_right\n",
    "from bisect import bisect_left"
   ]
  },
  {
   "cell_type": "code",
   "execution_count": 52,
   "id": "4559a0fa-95d6-4738-bfb2-f1d8147d47ca",
   "metadata": {
    "tags": []
   },
   "outputs": [
    {
     "name": "stdin",
     "output_type": "stream",
     "text": [
      " 10\n"
     ]
    }
   ],
   "source": [
    "N = int(input())"
   ]
  },
  {
   "cell_type": "code",
   "execution_count": 53,
   "id": "3c5e7cb0-ba82-4526-9d73-4653bc5a346c",
   "metadata": {
    "tags": []
   },
   "outputs": [
    {
     "name": "stdin",
     "output_type": "stream",
     "text": [
      " ..........\n",
      " ..........\n",
      " ..........\n",
      " ..........\n",
      " ....P.....\n",
      " .....P....\n",
      " ..........\n",
      " ..........\n",
      " ..........\n",
      " ..........\n"
     ]
    }
   ],
   "source": [
    "Sn = []\n",
    "Sn.append('#' * (N+2))\n",
    "for _ in range(N):\n",
    "    Sn.append('#' + input() + '#')\n",
    "Sn.append('#' * (N+2))"
   ]
  },
  {
   "cell_type": "code",
   "execution_count": 54,
   "id": "bdc8cdf5-8354-4d2a-b368-a003f93e43bd",
   "metadata": {
    "tags": []
   },
   "outputs": [],
   "source": [
    "p = []\n",
    "for i, S in enumerate(Sn):\n",
    "    for j, s in enumerate(S):\n",
    "        if s == 'P':\n",
    "            p.append(i)\n",
    "            p.append(j)"
   ]
  },
  {
   "cell_type": "code",
   "execution_count": 55,
   "id": "5a90676f-184c-46e0-a5b0-b9a36c663ecc",
   "metadata": {
    "tags": []
   },
   "outputs": [],
   "source": [
    "# 解説を読んで実装"
   ]
  },
  {
   "cell_type": "code",
   "execution_count": 85,
   "id": "0c8c047b-760b-4d79-ba07-21887dabe576",
   "metadata": {
    "tags": []
   },
   "outputs": [],
   "source": [
    "from collections import deque\n",
    "h = [1, -1, 0,  0]\n",
    "w = [0,  0, 1, -1]\n",
    "def bfs():\n",
    "    global dist\n",
    "    h1, w1, h2, w2 = p\n",
    "    q = deque()\n",
    "    q.append([h1, w1, h2, w2])\n",
    "    dist[h1][w1][h2][w2] = 0\n",
    "    while q:\n",
    "        h1, w1, h2, w2 = q.popleft()\n",
    "        for i in range(4):\n",
    "            nh1, nw1, nh2, nw2 = h1, w1, h2, w2      \n",
    "            if Sn[nh1+h[i]][nw1+w[i]] != \"#\":\n",
    "                nh1 += h[i]\n",
    "                nw1 += w[i]\n",
    "            if Sn[nh2+h[i]][nw2+w[i]] != \"#\":\n",
    "                nh2 += h[i]\n",
    "                nw2 += w[i]\n",
    "            if dist[nh1][nw1][nh2][nw2] != INF:\n",
    "                continue\n",
    "            if nh1 == nh2 and nw1 == nw2:\n",
    "                return dist[h1][w1][h2][w2] + 1\n",
    "            dist[nh1][nw1][nh2][nw2] = dist[h1][w1][h2][w2] + 1\n",
    "            q.append([nh1, nw1, nh2, nw2])\n",
    "    \n",
    "    return -1"
   ]
  },
  {
   "cell_type": "code",
   "execution_count": 86,
   "id": "91560be1-7e85-4927-9a63-b9a0f90eec1e",
   "metadata": {
    "tags": []
   },
   "outputs": [
    {
     "name": "stdout",
     "output_type": "stream",
     "text": [
      "10\n"
     ]
    }
   ],
   "source": [
    "INF = 10**10\n",
    "dist = [[[[INF] * (N+2) for _ in range(N+2)] for _ in range(N+2)] for _ in range(N+2)]\n",
    "print(bfs())"
   ]
  },
  {
   "cell_type": "code",
   "execution_count": null,
   "id": "bf2409e2-53d3-49fc-b886-f39774ba3ec8",
   "metadata": {},
   "outputs": [],
   "source": [
    "# TLE"
   ]
  },
  {
   "cell_type": "code",
   "execution_count": 80,
   "id": "999df4e8-d3c5-4d3f-afdf-dafa883117de",
   "metadata": {
    "tags": []
   },
   "outputs": [],
   "source": [
    "from collections import deque\n",
    "h = [1, -1, 0,  0]\n",
    "w = [0,  0, 1, -1]\n",
    "def bfs():\n",
    "    global dist\n",
    "    h1, w1, h2, w2 = p\n",
    "    q = deque()\n",
    "    q.append([h1, w1, h2, w2])\n",
    "    dist[h1][w1][h2][w2] = 0\n",
    "    while q:\n",
    "        h1, w1, h2, w2 = q.popleft()\n",
    "        for i in range(4):\n",
    "            nh1, nw1, nh2, nw2 = h1, w1, h2, w2      \n",
    "            if Sn[nh1+h[i]][nw1+w[i]] != \"#\":\n",
    "                nh1 += h[i]\n",
    "                nw1 += w[i]\n",
    "            if Sn[nh2+h[i]][nw2+w[i]] != \"#\":\n",
    "                nh2 += h[i]\n",
    "                nw2 += w[i]\n",
    "            if dist[nh1][nw1][nh2][nw2] != INF:\n",
    "                continue\n",
    "            dist[nh1][nw1][nh2][nw2] = dist[h1][w1][h2][w2] + 1\n",
    "            q.append([nh1, nw1, nh2, nw2])\n",
    "    \n",
    "    return 0"
   ]
  },
  {
   "cell_type": "code",
   "execution_count": 81,
   "id": "e5ea8381-80b1-4447-bc5c-8c1cf8b056a4",
   "metadata": {
    "tags": []
   },
   "outputs": [
    {
     "data": {
      "text/plain": [
       "0"
      ]
     },
     "execution_count": 81,
     "metadata": {},
     "output_type": "execute_result"
    }
   ],
   "source": [
    "INF = 10**10\n",
    "dist = [[[[INF] * (N+2) for _ in range(N+2)] for _ in range(N+2)] for _ in range(N+2)]\n",
    "bfs()"
   ]
  },
  {
   "cell_type": "code",
   "execution_count": 83,
   "id": "87874f09-3ed0-4835-bd97-2ffa9a4c0c4e",
   "metadata": {
    "tags": []
   },
   "outputs": [],
   "source": [
    "ans = INF\n",
    "for i in range(N+2):\n",
    "    for j in range(N+2):\n",
    "        ans = min(ans, dist[i][j][i][j])"
   ]
  },
  {
   "cell_type": "code",
   "execution_count": 84,
   "id": "798f220c-722a-42a2-a428-8f7bd880557d",
   "metadata": {
    "tags": []
   },
   "outputs": [
    {
     "name": "stdout",
     "output_type": "stream",
     "text": [
      "10\n"
     ]
    }
   ],
   "source": [
    "print(-1 if ans == INF else ans)"
   ]
  },
  {
   "cell_type": "code",
   "execution_count": 65,
   "id": "0b7019da-fcfe-4e56-91b2-a3cc14120dc2",
   "metadata": {
    "tags": []
   },
   "outputs": [
    {
     "data": {
      "text/plain": [
       "10000000000"
      ]
     },
     "execution_count": 65,
     "metadata": {},
     "output_type": "execute_result"
    }
   ],
   "source": [
    "dist[1][1][1][1], dist"
   ]
  },
  {
   "cell_type": "code",
   "execution_count": 27,
   "id": "066ad108-5a06-4038-8cc5-f9c70a22d50f",
   "metadata": {
    "tags": []
   },
   "outputs": [],
   "source": [
    "a, b, c, d = p"
   ]
  },
  {
   "cell_type": "code",
   "execution_count": 28,
   "id": "caedbe2a-e726-4338-9bf7-fc1a443079a8",
   "metadata": {
    "tags": []
   },
   "outputs": [
    {
     "data": {
      "text/plain": [
       "(3, 2, 4, 3)"
      ]
     },
     "execution_count": 28,
     "metadata": {},
     "output_type": "execute_result"
    }
   ],
   "source": [
    "a, b, c, d"
   ]
  },
  {
   "cell_type": "code",
   "execution_count": 34,
   "id": "eb8c3a2f-dced-492c-a3b7-ea84e9078fae",
   "metadata": {
    "tags": []
   },
   "outputs": [
    {
     "data": {
      "text/plain": [
       "0"
      ]
     },
     "execution_count": 34,
     "metadata": {},
     "output_type": "execute_result"
    }
   ],
   "source": [
    "dist[3][2][4][3]"
   ]
  },
  {
   "cell_type": "code",
   "execution_count": null,
   "id": "b4a0550d-024a-4fba-aeff-6fadd491ccad",
   "metadata": {},
   "outputs": [],
   "source": [
    "# WA"
   ]
  },
  {
   "cell_type": "code",
   "execution_count": 79,
   "id": "caa56af3-eb15-4008-9594-640b07adce23",
   "metadata": {
    "tags": []
   },
   "outputs": [],
   "source": [
    "from collections import deque\n",
    "def bfs(sh, sw, dist):\n",
    "    q = deque()\n",
    "    q.append([sh, sw, 0])\n",
    "    dist[sh][sw][0] = 0\n",
    "    visit = []\n",
    "    for _ in range(N+2):\n",
    "        visit.append([[False] * (N+2) for _ in range(N+2)])\n",
    "    visit[sh][sw][0] = True\n",
    "    while q:\n",
    "        h, w, m = q.popleft()\n",
    "        # if visit[h][w][m]:\n",
    "        #     continue\n",
    "        # visit[h][w][m] = True\n",
    "        if Sn[h][w] == '#':\n",
    "            continue\n",
    "        for x, y in ((1, 0), (-1, 0), (0, 1), (0, -1)):\n",
    "            for p in range(4):\n",
    "                if visit[h+x][w+y][p]:\n",
    "                    continue\n",
    "                visit[h+x][w+y][p] = True\n",
    "                dist[h+x][w+y][p] = dist[h][w][m] + 1\n",
    "                q.append([h+x, w+y, p])"
   ]
  },
  {
   "cell_type": "code",
   "execution_count": 80,
   "id": "fab48108-808d-47b0-b6a2-0ca7f14cb0fd",
   "metadata": {
    "tags": []
   },
   "outputs": [],
   "source": [
    "dist1 = []\n",
    "dist2 = []\n",
    "for _ in range(N+2):\n",
    "    dist1.append([[-1] * (N+2) for _ in range(N+2)])\n",
    "    dist2.append([[-1] * (N+2) for _ in range(N+2)])\n",
    "bfs(p[0][0], p[0][1], dist1)\n",
    "bfs(p[1][0], p[1][1], dist2)\n"
   ]
  },
  {
   "cell_type": "code",
   "execution_count": 83,
   "id": "da0e7389-6515-42ff-bd94-6eadb0536aa0",
   "metadata": {
    "tags": []
   },
   "outputs": [],
   "source": [
    "def solve(p):\n",
    "    if dist1[p[1][0]][p[1][1]] == -1:\n",
    "        return -1\n",
    "    ret = 10**10\n",
    "    for h, S in enumerate(Sn):\n",
    "        for w, s in enumerate(S):\n",
    "            for p in range(4):\n",
    "                if s != '#':\n",
    "                    continue\n",
    "                if dist1[h][w][p] == -1 or dist2[h][w][p] == -1:\n",
    "                    continue\n",
    "                if max(dist1[h][w][p], dist2[h][w][p]) < ret:\n",
    "                    ret = min(ret, max(dist1[h][w][p], dist2[h][w][p]))\n",
    "    return ret"
   ]
  },
  {
   "cell_type": "code",
   "execution_count": 84,
   "id": "4bc53b40-ded9-4c7e-938b-1a3c9aa468c7",
   "metadata": {
    "tags": []
   },
   "outputs": [
    {
     "name": "stdout",
     "output_type": "stream",
     "text": [
      "3\n"
     ]
    }
   ],
   "source": [
    "print(solve(p))"
   ]
  },
  {
   "cell_type": "code",
   "execution_count": 30,
   "id": "b243e02c-4a3d-4210-aefc-06477707a9b7",
   "metadata": {
    "tags": []
   },
   "outputs": [
    {
     "data": {
      "text/plain": [
       "[[3, 2], [4, 3]]"
      ]
     },
     "execution_count": 30,
     "metadata": {},
     "output_type": "execute_result"
    }
   ],
   "source": [
    "p"
   ]
  },
  {
   "cell_type": "code",
   "execution_count": 61,
   "id": "d95f0978-0105-42c2-bb47-084f48173855",
   "metadata": {
    "tags": []
   },
   "outputs": [],
   "source": [
    "# dist[1]"
   ]
  },
  {
   "cell_type": "code",
   "execution_count": 40,
   "id": "1dc239a3-de59-4acd-b849-792fc83cd279",
   "metadata": {
    "tags": []
   },
   "outputs": [
    {
     "data": {
      "text/plain": [
       "[[-1, 6, 5, 4, 5, -1, -1],\n",
       " [6, 5, 4, 3, 4, 5, -1],\n",
       " [-1, 4, 3, 2, 3, 4, 5],\n",
       " [4, 3, 2, 1, 2, 3, 4],\n",
       " [3, 2, 1, 0, 1, 2, 3],\n",
       " [4, 3, 2, 1, 2, 3, -1],\n",
       " [-1, 4, 3, 2, 3, -1, -1]]"
      ]
     },
     "execution_count": 40,
     "metadata": {},
     "output_type": "execute_result"
    }
   ],
   "source": [
    "dist2"
   ]
  },
  {
   "cell_type": "code",
   "execution_count": 87,
   "id": "7236fa83-4eaf-4b6c-ac39-7003fd26d661",
   "metadata": {},
   "outputs": [
    {
     "data": {
      "text/plain": [
       "12960000"
      ]
     },
     "execution_count": 87,
     "metadata": {},
     "output_type": "execute_result"
    }
   ],
   "source": [
    "60**4"
   ]
  },
  {
   "cell_type": "code",
   "execution_count": null,
   "id": "dea56640-9721-410f-98d9-e84b1aa63302",
   "metadata": {},
   "outputs": [],
   "source": []
  }
 ],
 "metadata": {
  "kernelspec": {
   "display_name": "Python 3 (ipykernel)",
   "language": "python",
   "name": "python3"
  },
  "language_info": {
   "codemirror_mode": {
    "name": "ipython",
    "version": 3
   },
   "file_extension": ".py",
   "mimetype": "text/x-python",
   "name": "python",
   "nbconvert_exporter": "python",
   "pygments_lexer": "ipython3",
   "version": "3.11.3"
  }
 },
 "nbformat": 4,
 "nbformat_minor": 5
}
