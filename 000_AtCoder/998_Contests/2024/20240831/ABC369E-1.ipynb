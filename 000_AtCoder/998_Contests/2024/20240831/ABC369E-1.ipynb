{
 "cells": [
  {
   "cell_type": "code",
   "execution_count": 1,
   "id": "020c9e3c-d923-4a05-b781-2136a765c868",
   "metadata": {
    "tags": []
   },
   "outputs": [],
   "source": [
    "import sys\n",
    "import numpy as np\n",
    "import math\n",
    "import collections\n",
    "import copy\n",
    "import decimal\n",
    "import itertools\n",
    "import re\n",
    "import bisect\n",
    "import scipy\n",
    "import heapq\n",
    "from collections import deque \n",
    "from functools import reduce\n",
    "from itertools import product\n",
    "from itertools import combinations\n",
    "from functools import lru_cache\n",
    "from scipy.special import comb\n",
    "from numba import njit\n",
    "from bisect import bisect_right\n",
    "from bisect import bisect_left\n",
    "from atcoder.fenwicktree import FenwickTree\n",
    "from sortedcontainers import SortedList"
   ]
  },
  {
   "cell_type": "code",
   "execution_count": 24,
   "id": "07d47435-0eee-4f56-8432-2bb606695b3f",
   "metadata": {},
   "outputs": [
    {
     "name": "stdin",
     "output_type": "stream",
     "text": [
      " 6 6\n"
     ]
    }
   ],
   "source": [
    "N, M = map(int, input().split())"
   ]
  },
  {
   "cell_type": "code",
   "execution_count": 25,
   "id": "6e273bad-569e-4bcb-bcdb-26428855c6f2",
   "metadata": {
    "tags": []
   },
   "outputs": [
    {
     "name": "stdin",
     "output_type": "stream",
     "text": [
      " 1 5 1\n",
      " 2 5 1\n",
      " 2 4 1\n",
      " 3 4 1\n",
      " 3 6 1\n",
      " 1 6 1\n"
     ]
    }
   ],
   "source": [
    "UVTm = [list(map(int, input().split())) for _ in range(M)]"
   ]
  },
  {
   "cell_type": "code",
   "execution_count": 3,
   "id": "73e4338e-1743-4c00-9147-ce243f412152",
   "metadata": {
    "tags": []
   },
   "outputs": [
    {
     "name": "stdin",
     "output_type": "stream",
     "text": [
      " 2\n"
     ]
    }
   ],
   "source": [
    "Q = int(input())"
   ]
  },
  {
   "cell_type": "code",
   "execution_count": 26,
   "id": "675bd9a1-4e49-41df-9947-79c734d4f959",
   "metadata": {
    "tags": []
   },
   "outputs": [
    {
     "name": "stdin",
     "output_type": "stream",
     "text": [
      " 5 \n",
      " 1 2 3 4 5\n",
      " 1\n",
      " 5\n"
     ]
    }
   ],
   "source": [
    "Kn = []\n",
    "Bkn = []\n",
    "for _ in range(Q):\n",
    "    Kn.append(int(input()))\n",
    "    Bkn.append(list(map(int, input().split())))"
   ]
  },
  {
   "cell_type": "code",
   "execution_count": 27,
   "id": "ce738ed2-9223-400e-abb5-e1d6a5fafad0",
   "metadata": {
    "tags": []
   },
   "outputs": [],
   "source": [
    "dist = [[10**20] *(N+1) for _ in range(N+1)]\n",
    "for i in range(N+1):\n",
    "    dist[i][i] = 0\n",
    "for U, V, T in UVTm:\n",
    "    dist[U][V] = min(dist[U][V] , T)\n",
    "    dist[V][U] = min(dist[V][U] , T)\n"
   ]
  },
  {
   "cell_type": "code",
   "execution_count": 28,
   "id": "c5ebfbce-85dc-4c35-b808-4b9e4c5f499b",
   "metadata": {
    "tags": []
   },
   "outputs": [],
   "source": [
    "for k in range(1, N+1):\n",
    "    for i in range(1, N+1):\n",
    "        for j in range(1, N+1):\n",
    "            dist[i][j] = min(dist[i][j], dist[i][k]+dist[k][j])"
   ]
  },
  {
   "cell_type": "code",
   "execution_count": 35,
   "id": "c3531b5e-41b0-4f71-a6cd-d525448adbd3",
   "metadata": {
    "tags": []
   },
   "outputs": [
    {
     "name": "stdout",
     "output_type": "stream",
     "text": [
      "5\n",
      "3\n"
     ]
    }
   ],
   "source": [
    "from itertools import permutations\n",
    "for K, Bk in zip(Kn, Bkn):\n",
    "    ans = 10**20\n",
    "    for B in permutations(Bk):\n",
    "        for D in range(1 << K):\n",
    "            cost, cur = 0, 1\n",
    "            for i in range(K):\n",
    "                U, V, T = UVTm[B[i]-1]\n",
    "                if D >> i & 1:\n",
    "                    cost += dist[cur][U] + T\n",
    "                    cur = V\n",
    "                else:\n",
    "                    cost += dist[cur][V] + T\n",
    "                    cur = U\n",
    "            cost += dist[cur][N]\n",
    "            ans = min(ans, cost)\n",
    "            # print(ans, cost, B)\n",
    "    print(ans)\n",
    "                    "
   ]
  },
  {
   "cell_type": "code",
   "execution_count": 30,
   "id": "88f90b32-c66c-4420-8bfb-8e13934940e1",
   "metadata": {
    "tags": []
   },
   "outputs": [
    {
     "data": {
      "text/plain": [
       "([5, 1], [[1, 2, 3, 4, 5], [5]])"
      ]
     },
     "execution_count": 30,
     "metadata": {},
     "output_type": "execute_result"
    }
   ],
   "source": [
    "Kn, Bkn"
   ]
  },
  {
   "cell_type": "code",
   "execution_count": 31,
   "id": "09f7accd-e3ee-4ce2-b888-cf8da82935ae",
   "metadata": {
    "tags": []
   },
   "outputs": [
    {
     "data": {
      "text/plain": [
       "[[0,\n",
       "  100000000000000000000,\n",
       "  100000000000000000000,\n",
       "  100000000000000000000,\n",
       "  100000000000000000000,\n",
       "  100000000000000000000,\n",
       "  100000000000000000000],\n",
       " [100000000000000000000, 0, 2, 2, 3, 1, 1],\n",
       " [100000000000000000000, 2, 0, 2, 1, 1, 3],\n",
       " [100000000000000000000, 2, 2, 0, 1, 3, 1],\n",
       " [100000000000000000000, 3, 1, 1, 0, 2, 2],\n",
       " [100000000000000000000, 1, 1, 3, 2, 0, 2],\n",
       " [100000000000000000000, 1, 3, 1, 2, 2, 0]]"
      ]
     },
     "execution_count": 31,
     "metadata": {},
     "output_type": "execute_result"
    }
   ],
   "source": [
    "dist"
   ]
  },
  {
   "cell_type": "code",
   "execution_count": null,
   "id": "44d53720-69fd-41db-ad1a-5885366e76d4",
   "metadata": {},
   "outputs": [],
   "source": []
  }
 ],
 "metadata": {
  "kernelspec": {
   "display_name": "Python 3 (ipykernel)",
   "language": "python",
   "name": "python3"
  },
  "language_info": {
   "codemirror_mode": {
    "name": "ipython",
    "version": 3
   },
   "file_extension": ".py",
   "mimetype": "text/x-python",
   "name": "python",
   "nbconvert_exporter": "python",
   "pygments_lexer": "ipython3",
   "version": "3.11.3"
  }
 },
 "nbformat": 4,
 "nbformat_minor": 5
}
