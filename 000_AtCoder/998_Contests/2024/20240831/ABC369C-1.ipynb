{
 "cells": [
  {
   "cell_type": "code",
   "execution_count": 1,
   "id": "65b9dba0-599c-4371-be6b-7e40828732eb",
   "metadata": {
    "tags": []
   },
   "outputs": [],
   "source": [
    "import sys\n",
    "import numpy as np\n",
    "import math\n",
    "import collections\n",
    "import copy\n",
    "import decimal\n",
    "import itertools\n",
    "import re\n",
    "import bisect\n",
    "import scipy\n",
    "import heapq\n",
    "from collections import deque \n",
    "from functools import reduce\n",
    "from itertools import product\n",
    "from itertools import combinations\n",
    "from functools import lru_cache\n",
    "from scipy.special import comb\n",
    "from numba import njit\n",
    "from bisect import bisect_right\n",
    "from bisect import bisect_left\n",
    "from atcoder.fenwicktree import FenwickTree\n",
    "from sortedcontainers import SortedList"
   ]
  },
  {
   "cell_type": "code",
   "execution_count": 34,
   "id": "a5710145-2498-44d4-b53a-978ebf6c0ec3",
   "metadata": {
    "tags": []
   },
   "outputs": [
    {
     "name": "stdin",
     "output_type": "stream",
     "text": [
      " 8\n"
     ]
    }
   ],
   "source": [
    "N = int(input())"
   ]
  },
  {
   "cell_type": "code",
   "execution_count": 35,
   "id": "633e79fc-9434-49f7-8a01-6c25e78ec8d7",
   "metadata": {
    "tags": []
   },
   "outputs": [
    {
     "name": "stdin",
     "output_type": "stream",
     "text": [
      " 87 42 64 86 72 58 44 30\n"
     ]
    }
   ],
   "source": [
    "An = list(map(int, input().split()))"
   ]
  },
  {
   "cell_type": "code",
   "execution_count": 36,
   "id": "52cb0155-dc17-45e7-94ca-aea2a11cd574",
   "metadata": {
    "tags": []
   },
   "outputs": [],
   "source": [
    "sa = []\n",
    "for i in range(N-1):\n",
    "    sa.append(An[i+1] - An[i])\n",
    "sa.append(10**20)"
   ]
  },
  {
   "cell_type": "code",
   "execution_count": 37,
   "id": "0a3c01c8-58e5-4d38-abf6-952e5f3db583",
   "metadata": {
    "tags": []
   },
   "outputs": [],
   "source": [
    "ans = N\n",
    "i =  0\n",
    "while i < N-1:\n",
    "    j = i + 1\n",
    "    while j < N-1:\n",
    "        if sa[i] != sa[j]:\n",
    "            break\n",
    "        j += 1\n",
    "    s = j - i + 1\n",
    "    ans += s * (s-1) // 2\n",
    "    i = j"
   ]
  },
  {
   "cell_type": "code",
   "execution_count": 38,
   "id": "6e2bed3c-91c9-4db8-8964-f0f561e6ec9f",
   "metadata": {
    "tags": []
   },
   "outputs": [
    {
     "name": "stdout",
     "output_type": "stream",
     "text": [
      "22\n"
     ]
    }
   ],
   "source": [
    "print(ans)"
   ]
  },
  {
   "cell_type": "code",
   "execution_count": null,
   "id": "15d208c4-edb9-4717-b3ce-89a86c142b97",
   "metadata": {},
   "outputs": [],
   "source": []
  },
  {
   "cell_type": "code",
   "execution_count": null,
   "id": "4fdf81fc-b637-4e9f-8ea9-a39aa78abc64",
   "metadata": {},
   "outputs": [],
   "source": []
  }
 ],
 "metadata": {
  "kernelspec": {
   "display_name": "Python 3 (ipykernel)",
   "language": "python",
   "name": "python3"
  },
  "language_info": {
   "codemirror_mode": {
    "name": "ipython",
    "version": 3
   },
   "file_extension": ".py",
   "mimetype": "text/x-python",
   "name": "python",
   "nbconvert_exporter": "python",
   "pygments_lexer": "ipython3",
   "version": "3.11.3"
  }
 },
 "nbformat": 4,
 "nbformat_minor": 5
}
