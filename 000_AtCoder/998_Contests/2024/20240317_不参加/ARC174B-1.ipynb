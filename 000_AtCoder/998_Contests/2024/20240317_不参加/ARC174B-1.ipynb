{
 "cells": [
  {
   "cell_type": "code",
   "execution_count": 1,
   "id": "803b9a35-61cb-4847-9b25-63cc47507efa",
   "metadata": {
    "tags": []
   },
   "outputs": [
    {
     "name": "stdin",
     "output_type": "stream",
     "text": [
      " 6\n"
     ]
    }
   ],
   "source": [
    "N = int(input())"
   ]
  },
  {
   "cell_type": "code",
   "execution_count": 2,
   "id": "b71acfbe-1a8c-497c-974b-a3c8947148e7",
   "metadata": {
    "tags": []
   },
   "outputs": [
    {
     "name": "stdin",
     "output_type": "stream",
     "text": [
      " 1 0 1 0 0\n",
      " 1 2 3 4 5\n",
      " 0 2 2 0 0\n",
      " 1 1 1 1 5\n",
      " 0 1 2 0 0\n",
      " 1 1 1 5 3\n",
      " 1 1 1 0 0\n",
      " 1 1 1 1 1\n",
      " 0 0 0 0 1\n",
      " 1 1 1 1 1\n",
      " 100000000 100000000 100000000 0 0\n",
      " 100000000 100000000 100000000 100000000 100000000\n"
     ]
    }
   ],
   "source": [
    "An = []\n",
    "Pn = []\n",
    "for _ in range(N):\n",
    "    An.append(list(map(int, input().split())))\n",
    "    Pn.append(list(map(int, input().split())))    "
   ]
  },
  {
   "cell_type": "code",
   "execution_count": 38,
   "id": "d507bc60-420d-4def-91ab-11de4c4c3d83",
   "metadata": {
    "tags": []
   },
   "outputs": [
    {
     "name": "stdout",
     "output_type": "stream",
     "text": [
      "5\n",
      "2\n",
      "3\n",
      "2\n",
      "0\n",
      "15000000000000000\n"
     ]
    }
   ],
   "source": [
    "for A, P in zip(An, Pn):\n",
    "    po = 0\n",
    "    for i, a in enumerate(A, 1):\n",
    "        po -= (i-3) * a\n",
    "    if po <= 0:\n",
    "        print(0)\n",
    "        continue\n",
    "    q, r = divmod(po, 2)\n",
    "    money = min(P[3]*2, P[4])\n",
    "    print(money * q +  min(P[3], P[4]) * r)"
   ]
  },
  {
   "cell_type": "code",
   "execution_count": 33,
   "id": "1e5d9acd-ea05-419f-a538-5fd106c25349",
   "metadata": {
    "tags": []
   },
   "outputs": [
    {
     "name": "stdout",
     "output_type": "stream",
     "text": [
      "1 0 1\n"
     ]
    },
    {
     "data": {
      "text/plain": [
       "3"
      ]
     },
     "execution_count": 33,
     "metadata": {},
     "output_type": "execute_result"
    }
   ],
   "source": [
    "solve(An[2], Pn[2])"
   ]
  },
  {
   "cell_type": "code",
   "execution_count": 34,
   "id": "4bd6cbe3-54cd-44f8-8c21-6dc40b5ed1df",
   "metadata": {
    "tags": []
   },
   "outputs": [],
   "source": [
    "def solve(A, P):\n",
    "    ret = 0\n",
    "    po = 0\n",
    "    for i, a in enumerate(A, 1):\n",
    "        po -= (i-3) * a\n",
    "    if po <= 0:\n",
    "        return 0\n",
    "    q, r = divmod(po, 2)\n",
    "    return min(P[3]*2, P[4]) * q + min(P[3], P[4]) * r"
   ]
  },
  {
   "cell_type": "code",
   "execution_count": null,
   "id": "2630b774-b016-4193-8df8-e6ad097e5e44",
   "metadata": {},
   "outputs": [],
   "source": []
  }
 ],
 "metadata": {
  "kernelspec": {
   "display_name": "Python 3 (ipykernel)",
   "language": "python",
   "name": "python3"
  },
  "language_info": {
   "codemirror_mode": {
    "name": "ipython",
    "version": 3
   },
   "file_extension": ".py",
   "mimetype": "text/x-python",
   "name": "python",
   "nbconvert_exporter": "python",
   "pygments_lexer": "ipython3",
   "version": "3.11.3"
  }
 },
 "nbformat": 4,
 "nbformat_minor": 5
}
