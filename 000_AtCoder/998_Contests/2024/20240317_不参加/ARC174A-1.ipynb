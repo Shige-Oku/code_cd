{
 "cells": [
  {
   "cell_type": "code",
   "execution_count": 11,
   "id": "1d61f453-91ff-4198-8504-9c5889b0c301",
   "metadata": {
    "tags": []
   },
   "outputs": [
    {
     "name": "stdin",
     "output_type": "stream",
     "text": [
      " 9 -1\n"
     ]
    }
   ],
   "source": [
    "N, C = map(int, input().split())"
   ]
  },
  {
   "cell_type": "code",
   "execution_count": 12,
   "id": "381b0615-89f4-4ab6-be98-764ce632b767",
   "metadata": {
    "tags": []
   },
   "outputs": [
    {
     "name": "stdin",
     "output_type": "stream",
     "text": [
      " -9 9 -8 2 -4 4 -3 5 -3\n"
     ]
    }
   ],
   "source": [
    "An = list(map(int, input().split()))"
   ]
  },
  {
   "cell_type": "code",
   "execution_count": 18,
   "id": "b8303500-4ed8-4103-9de8-d647dace5cdb",
   "metadata": {
    "tags": []
   },
   "outputs": [],
   "source": [
    "from itertools import accumulate\n",
    "An_c = list(accumulate(An))\n",
    "pro = 0\n",
    "mi = 0\n",
    "ma = 0\n",
    "for A in An_c:\n",
    "    if C > 0:\n",
    "        pro = max(pro, A-mi)\n",
    "        mi = min(mi, A) \n",
    "    else:\n",
    "        pro = min(pro, A-ma)\n",
    "        ma = max(ma, A) \n"
   ]
  },
  {
   "cell_type": "code",
   "execution_count": 19,
   "id": "37369735-b0d2-4d27-aa3e-96a42d7b6108",
   "metadata": {
    "tags": []
   },
   "outputs": [
    {
     "name": "stdout",
     "output_type": "stream",
     "text": [
      "13\n"
     ]
    }
   ],
   "source": [
    "print(sum(An) + (C-1) * pro)"
   ]
  },
  {
   "cell_type": "code",
   "execution_count": 15,
   "id": "a79cd9b4-86b6-4138-b1bd-8d9bebf2493c",
   "metadata": {
    "tags": []
   },
   "outputs": [
    {
     "data": {
      "text/plain": [
       "[-9, 0, -8, -6, -10, -6, -9, -4, -7]"
      ]
     },
     "execution_count": 15,
     "metadata": {},
     "output_type": "execute_result"
    }
   ],
   "source": [
    "An_c"
   ]
  },
  {
   "cell_type": "code",
   "execution_count": null,
   "id": "11417b48-898c-4d07-b020-bf97d1d5b262",
   "metadata": {},
   "outputs": [],
   "source": []
  }
 ],
 "metadata": {
  "kernelspec": {
   "display_name": "Python 3 (ipykernel)",
   "language": "python",
   "name": "python3"
  },
  "language_info": {
   "codemirror_mode": {
    "name": "ipython",
    "version": 3
   },
   "file_extension": ".py",
   "mimetype": "text/x-python",
   "name": "python",
   "nbconvert_exporter": "python",
   "pygments_lexer": "ipython3",
   "version": "3.11.3"
  }
 },
 "nbformat": 4,
 "nbformat_minor": 5
}
