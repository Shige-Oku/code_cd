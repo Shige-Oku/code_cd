{
 "cells": [
  {
   "cell_type": "code",
   "execution_count": 35,
   "id": "b4ddbe25-0c90-4f31-878a-46b448ae8762",
   "metadata": {
    "tags": []
   },
   "outputs": [
    {
     "name": "stdin",
     "output_type": "stream",
     "text": [
      " 4 -1\n"
     ]
    }
   ],
   "source": [
    "N, K = map(int, input().split())"
   ]
  },
  {
   "cell_type": "code",
   "execution_count": 36,
   "id": "2a0618a2-d24b-4b08-ab9a-63511e3dd5bc",
   "metadata": {
    "tags": []
   },
   "outputs": [
    {
     "name": "stdin",
     "output_type": "stream",
     "text": [
      " 1 -2 3 -4\n"
     ]
    }
   ],
   "source": [
    "An = list(map(int, input().split()))"
   ]
  },
  {
   "cell_type": "code",
   "execution_count": 47,
   "id": "8bdc8918-c719-462f-8168-a2957bdccea3",
   "metadata": {
    "tags": []
   },
   "outputs": [],
   "source": [
    "from itertools import accumulate\n",
    "An_s = sorted(An)"
   ]
  },
  {
   "cell_type": "code",
   "execution_count": 50,
   "id": "6711c39b-e3c8-4ad0-95f9-ca924e064325",
   "metadata": {
    "tags": []
   },
   "outputs": [],
   "source": [
    "def solve():\n",
    "    p, m = [], []\n",
    "    for A in An:\n",
    "        if A < 0:\n",
    "            m.append(A)\n",
    "        else:\n",
    "            p.append(A)\n",
    "    # if K < 0:\n",
    "    #     if -sum(m) - sum(p) > K:\n",
    "    #         return False, []\n",
    "    l = []\n",
    "    if K <= 0:\n",
    "        l = sorted(p)\n",
    "        l += sorted(m)\n",
    "    else:\n",
    "        l = sorted(m)\n",
    "        l += sorted(p)\n",
    "\n",
    "    f = False\n",
    "    An_c = An_c = [0] + list(accumulate(l))\n",
    "    for A in An_c:\n",
    "        if f and A < K:\n",
    "            return False, []\n",
    "        if A >= K:\n",
    "            f = True\n",
    "    return True, l"
   ]
  },
  {
   "cell_type": "code",
   "execution_count": 51,
   "id": "cbf358c2-6efc-4461-8c59-ec7fffeaacdb",
   "metadata": {
    "tags": []
   },
   "outputs": [
    {
     "name": "stdout",
     "output_type": "stream",
     "text": [
      "No\n"
     ]
    }
   ],
   "source": [
    "r, ans = solve()\n",
    "if r:\n",
    "    print('Yes')\n",
    "    print(*ans, end=' ')\n",
    "else:\n",
    "    print('No')"
   ]
  },
  {
   "cell_type": "code",
   "execution_count": 17,
   "id": "46df1e67-2f70-4b74-b2da-3d5e2ef2d245",
   "metadata": {
    "tags": []
   },
   "outputs": [
    {
     "name": "stdout",
     "output_type": "stream",
     "text": [
      "Yes\n",
      "-1000000000 -1000000000 -1000000000 -1000000000 -1000000000 1000000000 1000000000 1000000000 1000000000 1000000000 "
     ]
    }
   ],
   "source": [
    "f = False\n",
    "for A in An_c:\n",
    "    if f and A < K:\n",
    "        print('No')\n",
    "        break\n",
    "    if A >= K:\n",
    "        f = True\n",
    "else:\n",
    "    print('Yes')\n",
    "    print(*An_s, end=' ')"
   ]
  },
  {
   "cell_type": "code",
   "execution_count": 5,
   "id": "cba77fc3-d9e3-46f6-9722-581368e91200",
   "metadata": {
    "tags": []
   },
   "outputs": [
    {
     "data": {
      "text/plain": [
       "[0, -3, -4, -2, 2]"
      ]
     },
     "execution_count": 5,
     "metadata": {},
     "output_type": "execute_result"
    }
   ],
   "source": [
    "An_c"
   ]
  },
  {
   "cell_type": "code",
   "execution_count": 7,
   "id": "3132e3de-bc75-4302-913a-e8b39443cd8e",
   "metadata": {
    "tags": []
   },
   "outputs": [
    {
     "data": {
      "text/plain": [
       "-3"
      ]
     },
     "execution_count": 7,
     "metadata": {},
     "output_type": "execute_result"
    }
   ],
   "source": [
    "A"
   ]
  },
  {
   "cell_type": "code",
   "execution_count": null,
   "id": "7eaa1106-85d4-4c70-a00a-5f934f47a513",
   "metadata": {},
   "outputs": [],
   "source": []
  }
 ],
 "metadata": {
  "kernelspec": {
   "display_name": "Python 3 (ipykernel)",
   "language": "python",
   "name": "python3"
  },
  "language_info": {
   "codemirror_mode": {
    "name": "ipython",
    "version": 3
   },
   "file_extension": ".py",
   "mimetype": "text/x-python",
   "name": "python",
   "nbconvert_exporter": "python",
   "pygments_lexer": "ipython3",
   "version": "3.11.3"
  }
 },
 "nbformat": 4,
 "nbformat_minor": 5
}
