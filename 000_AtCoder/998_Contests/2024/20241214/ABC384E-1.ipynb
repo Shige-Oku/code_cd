{
 "cells": [
  {
   "cell_type": "code",
   "execution_count": 1,
   "id": "8edd07e3-43f2-4503-ab8a-b1b69bedb4b2",
   "metadata": {
    "tags": []
   },
   "outputs": [],
   "source": [
    "import sys\n",
    "import numpy as np\n",
    "import math\n",
    "import collections\n",
    "import copy\n",
    "import decimal\n",
    "import itertools\n",
    "import re\n",
    "import bisect\n",
    "import scipy\n",
    "import heapq\n",
    "from collections import deque \n",
    "from functools import reduce\n",
    "from itertools import product\n",
    "from itertools import combinations\n",
    "from functools import lru_cache\n",
    "from scipy.special import comb\n",
    "from numba import njit\n",
    "from bisect import bisect_right\n",
    "from bisect import bisect_left\n",
    "from atcoder.fenwicktree import FenwickTree\n",
    "from sortedcontainers import SortedSet, SortedList, SortedDict"
   ]
  },
  {
   "cell_type": "code",
   "execution_count": 2,
   "id": "03e1fa17-2961-49b2-aa2e-41765027514c",
   "metadata": {
    "tags": []
   },
   "outputs": [
    {
     "name": "stdin",
     "output_type": "stream",
     "text": [
      " 3 3 2\n"
     ]
    }
   ],
   "source": [
    "H, W, X = map(int, input().split())"
   ]
  },
  {
   "cell_type": "code",
   "execution_count": 3,
   "id": "48d07810-e282-4002-89a4-82858617a4b9",
   "metadata": {
    "tags": []
   },
   "outputs": [
    {
     "name": "stdin",
     "output_type": "stream",
     "text": [
      " 2 2\n"
     ]
    }
   ],
   "source": [
    "P, Q = map(int, input().split())"
   ]
  },
  {
   "cell_type": "code",
   "execution_count": 4,
   "id": "1e947f0e-e933-44b5-b0a5-ae77fc0b4bd1",
   "metadata": {
    "tags": []
   },
   "outputs": [
    {
     "name": "stdin",
     "output_type": "stream",
     "text": [
      " 14 6 9\n",
      " 4 9 20\n",
      " 17 15 7\n"
     ]
    }
   ],
   "source": [
    "Shw = [list(map(int, input().split())) for _ in range(H)]"
   ]
  },
  {
   "cell_type": "code",
   "execution_count": 25,
   "id": "2b4838ea-6a50-46d1-abac-833e9ad8a669",
   "metadata": {
    "tags": []
   },
   "outputs": [],
   "source": [
    "import heapq\n",
    "q = []\n",
    "visit = [[False] * W for _ in range(H)]\n",
    "sh, sw = P-1, Q-1\n",
    "heapq.heappush(q, [0, sh, sw])\n",
    "ans = Shw[sh][sw]\n",
    "visit[sh][sw] = True\n",
    "while q:\n",
    "    c, h, w = heapq.heappop(q)\n",
    "    # print(c, h, w)\n",
    "    if ans / X > c:\n",
    "        ans += c\n",
    "    else:\n",
    "        break\n",
    "    for dh, dw in ((-1, 0), (1, 0), (0, -1), (0, 1)):\n",
    "        nh = h + dh\n",
    "        nw = w + dw\n",
    "        if nh < 0 or nh >= H:\n",
    "            continue\n",
    "        if nw < 0 or nw >= W:\n",
    "            continue\n",
    "        if visit[nh][nw]:\n",
    "            continue\n",
    "        p = Shw[nh][nw]\n",
    "        visit[nh][nw] = True\n",
    "        heapq.heappush(q, [p, nh, nw])"
   ]
  },
  {
   "cell_type": "code",
   "execution_count": 26,
   "id": "e09102ea-7769-4681-8a7b-45ae76238aa7",
   "metadata": {
    "tags": []
   },
   "outputs": [
    {
     "name": "stdout",
     "output_type": "stream",
     "text": [
      "28\n"
     ]
    }
   ],
   "source": [
    "print(ans)"
   ]
  },
  {
   "cell_type": "code",
   "execution_count": 16,
   "id": "2ba9c9c0-6625-4855-bd28-3f6553638d1c",
   "metadata": {
    "tags": []
   },
   "outputs": [
    {
     "data": {
      "text/plain": [
       "[[6, 0, 1], [15, 2, 1], [20, 1, 2]]"
      ]
     },
     "execution_count": 16,
     "metadata": {},
     "output_type": "execute_result"
    }
   ],
   "source": [
    "q"
   ]
  },
  {
   "cell_type": "code",
   "execution_count": null,
   "id": "47bb3777-7205-419e-a34c-f5ed69865b74",
   "metadata": {},
   "outputs": [],
   "source": []
  }
 ],
 "metadata": {
  "kernelspec": {
   "display_name": "Python 3 (ipykernel)",
   "language": "python",
   "name": "python3"
  },
  "language_info": {
   "codemirror_mode": {
    "name": "ipython",
    "version": 3
   },
   "file_extension": ".py",
   "mimetype": "text/x-python",
   "name": "python",
   "nbconvert_exporter": "python",
   "pygments_lexer": "ipython3",
   "version": "3.11.3"
  }
 },
 "nbformat": 4,
 "nbformat_minor": 5
}
