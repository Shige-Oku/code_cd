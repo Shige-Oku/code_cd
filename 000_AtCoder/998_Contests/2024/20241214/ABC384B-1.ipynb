{
 "cells": [
  {
   "cell_type": "code",
   "execution_count": 1,
   "id": "a4e8d5fc-d853-46d9-bf29-977e4b4411ea",
   "metadata": {
    "tags": []
   },
   "outputs": [],
   "source": [
    "import sys\n",
    "import numpy as np\n",
    "import math\n",
    "import collections\n",
    "import copy\n",
    "import decimal\n",
    "import itertools\n",
    "import re\n",
    "import bisect\n",
    "import scipy\n",
    "import heapq\n",
    "from collections import deque \n",
    "from functools import reduce\n",
    "from itertools import product\n",
    "from itertools import combinations\n",
    "from functools import lru_cache\n",
    "from scipy.special import comb\n",
    "from numba import njit\n",
    "from bisect import bisect_right\n",
    "from bisect import bisect_left\n",
    "from atcoder.fenwicktree import FenwickTree\n",
    "from sortedcontainers import SortedSet, SortedList, SortedDict"
   ]
  },
  {
   "cell_type": "code",
   "execution_count": 16,
   "id": "e47180c5-4ea2-4da5-8546-d6000c7ffcd3",
   "metadata": {
    "tags": []
   },
   "outputs": [
    {
     "name": "stdin",
     "output_type": "stream",
     "text": [
      " 7 d a\n"
     ]
    }
   ],
   "source": [
    "N, C1, C2 = input().split()"
   ]
  },
  {
   "cell_type": "code",
   "execution_count": 17,
   "id": "04d89f5b-cb6d-4f13-8b99-9a5e0615dc69",
   "metadata": {
    "tags": []
   },
   "outputs": [
    {
     "name": "stdin",
     "output_type": "stream",
     "text": [
      " atcoder\n"
     ]
    }
   ],
   "source": [
    "S = input()"
   ]
  },
  {
   "cell_type": "code",
   "execution_count": 20,
   "id": "8af753d8-6389-4bf0-8398-b1cfc7a0e357",
   "metadata": {
    "tags": []
   },
   "outputs": [],
   "source": [
    "ans = \"\"\n",
    "for s in S:\n",
    "    if s == C1:\n",
    "        ans += C1\n",
    "    else:\n",
    "        ans += C2"
   ]
  },
  {
   "cell_type": "code",
   "execution_count": 21,
   "id": "5a06f037-7044-4d0f-a470-2c05184bd8aa",
   "metadata": {
    "tags": []
   },
   "outputs": [
    {
     "name": "stdout",
     "output_type": "stream",
     "text": [
      "aaaadaa\n"
     ]
    }
   ],
   "source": [
    "print(ans)"
   ]
  },
  {
   "cell_type": "code",
   "execution_count": null,
   "id": "ab5bdbe5-eeac-423c-8689-671e24a6dd26",
   "metadata": {},
   "outputs": [],
   "source": []
  }
 ],
 "metadata": {
  "kernelspec": {
   "display_name": "Python 3 (ipykernel)",
   "language": "python",
   "name": "python3"
  },
  "language_info": {
   "codemirror_mode": {
    "name": "ipython",
    "version": 3
   },
   "file_extension": ".py",
   "mimetype": "text/x-python",
   "name": "python",
   "nbconvert_exporter": "python",
   "pygments_lexer": "ipython3",
   "version": "3.11.3"
  }
 },
 "nbformat": 4,
 "nbformat_minor": 5
}
