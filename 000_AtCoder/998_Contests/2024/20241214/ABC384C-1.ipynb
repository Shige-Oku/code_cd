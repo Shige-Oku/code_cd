{
 "cells": [
  {
   "cell_type": "code",
   "execution_count": 1,
   "id": "75c3be69-f13a-4113-8943-87fa8cf5c6b2",
   "metadata": {
    "tags": []
   },
   "outputs": [],
   "source": [
    "import sys\n",
    "import numpy as np\n",
    "import math\n",
    "import collections\n",
    "import copy\n",
    "import decimal\n",
    "import itertools\n",
    "import re\n",
    "import bisect\n",
    "import scipy\n",
    "import heapq\n",
    "from collections import deque \n",
    "from functools import reduce\n",
    "from itertools import product\n",
    "from itertools import combinations\n",
    "from functools import lru_cache\n",
    "from scipy.special import comb\n",
    "from numba import njit\n",
    "from bisect import bisect_right\n",
    "from bisect import bisect_left\n",
    "from atcoder.fenwicktree import FenwickTree\n",
    "from sortedcontainers import SortedSet, SortedList, SortedDict"
   ]
  },
  {
   "cell_type": "code",
   "execution_count": 32,
   "id": "8637b9a2-cce1-44b9-97c5-77b2c91f9355",
   "metadata": {
    "tags": []
   },
   "outputs": [
    {
     "name": "stdin",
     "output_type": "stream",
     "text": [
      " 128 256 512 1024 2048\n"
     ]
    }
   ],
   "source": [
    "a, b, c, d, e = map(int, input().split())"
   ]
  },
  {
   "cell_type": "code",
   "execution_count": 33,
   "id": "4f6f84da-af62-4967-b567-94f0b2400d37",
   "metadata": {
    "tags": []
   },
   "outputs": [],
   "source": [
    "point = [[int(a), \"A\"], [int(b), \"B\"], [int(c), \"C\"], [int(d), \"D\"], [int(e), \"E\"]]\n",
    "from itertools import product\n",
    "ans = []\n",
    "for P in product([0, 1], repeat=5):\n",
    "    s = \"\"\n",
    "    g = 0\n",
    "    for i, p in enumerate(P):\n",
    "        if p == 1:\n",
    "            s += point[i][1]\n",
    "            g += point[i][0]\n",
    "    ans.append([g, \"\".join(s)])"
   ]
  },
  {
   "cell_type": "code",
   "execution_count": 34,
   "id": "bcdc50ee-8107-4488-b290-a04aa666d281",
   "metadata": {
    "tags": []
   },
   "outputs": [
    {
     "name": "stdout",
     "output_type": "stream",
     "text": [
      "ABCDE\n",
      "BCDE\n",
      "ACDE\n",
      "CDE\n",
      "ABDE\n",
      "BDE\n",
      "ADE\n",
      "DE\n",
      "ABCE\n",
      "BCE\n",
      "ACE\n",
      "CE\n",
      "ABE\n",
      "BE\n",
      "AE\n",
      "E\n",
      "ABCD\n",
      "BCD\n",
      "ACD\n",
      "CD\n",
      "ABD\n",
      "BD\n",
      "AD\n",
      "D\n",
      "ABC\n",
      "BC\n",
      "AC\n",
      "C\n",
      "AB\n",
      "B\n",
      "A\n"
     ]
    }
   ],
   "source": [
    "ans = sorted(ans, key=lambda x: (-x[0], x[1]))\n",
    "for a in ans[:-1]:\n",
    "    print(a[1])"
   ]
  },
  {
   "cell_type": "code",
   "execution_count": 28,
   "id": "73fd749d-0dc3-4e95-8ac4-2ffc3974219a",
   "metadata": {
    "tags": []
   },
   "outputs": [
    {
     "data": {
      "text/plain": [
       "[[3000, 'ABCDE'],\n",
       " [2600, 'BCDE'],\n",
       " [2500, 'ACDE'],\n",
       " [2400, 'ABDE'],\n",
       " [2300, 'ABCE'],\n",
       " [2200, 'ABCD'],\n",
       " [2100, 'CDE'],\n",
       " [2000, 'BDE'],\n",
       " [1900, 'ADE'],\n",
       " [1900, 'BCE'],\n",
       " [1800, 'ACE'],\n",
       " [1800, 'BCD'],\n",
       " [1700, 'ABE'],\n",
       " [1700, 'ACD'],\n",
       " [1600, 'ABD'],\n",
       " [1500, 'ABC'],\n",
       " [1500, 'DE'],\n",
       " [1400, 'CE'],\n",
       " [1300, 'BE'],\n",
       " [1300, 'CD'],\n",
       " [1200, 'AE'],\n",
       " [1200, 'BD'],\n",
       " [1100, 'AD'],\n",
       " [1100, 'BC'],\n",
       " [1000, 'AC'],\n",
       " [900, 'AB'],\n",
       " [800, 'E'],\n",
       " [700, 'D'],\n",
       " [600, 'C'],\n",
       " [500, 'B'],\n",
       " [400, 'A'],\n",
       " [0, '']]"
      ]
     },
     "execution_count": 28,
     "metadata": {},
     "output_type": "execute_result"
    }
   ],
   "source": [
    "ans"
   ]
  },
  {
   "cell_type": "code",
   "execution_count": 11,
   "id": "5ce9324f-442b-42a9-8613-8730d09f8980",
   "metadata": {
    "tags": []
   },
   "outputs": [
    {
     "name": "stdout",
     "output_type": "stream",
     "text": [
      "['', 'E', 'D', 'DE', 'C', 'CE', 'CD', 'CDE', 'B', 'BE', 'BD', 'BDE', 'BC', 'BCE', 'BCD', 'BCDE', 'A', 'AE', 'AD', 'ADE', 'AC', 'ACE', 'ACD', 'ACDE', 'AB', 'ABE', 'ABD', 'ABDE', 'ABC', 'ABCE', 'ABCD', 'ABCDE']\n"
     ]
    }
   ],
   "source": [
    "print(ans)"
   ]
  },
  {
   "cell_type": "code",
   "execution_count": 18,
   "id": "72807e0c-439d-4b48-99f4-cd440504955f",
   "metadata": {
    "tags": []
   },
   "outputs": [
    {
     "ename": "TypeError",
     "evalue": "can only concatenate str (not \"int\") to str",
     "output_type": "error",
     "traceback": [
      "\u001b[1;31m---------------------------------------------------------------------------\u001b[0m",
      "\u001b[1;31mTypeError\u001b[0m                                 Traceback (most recent call last)",
      "Cell \u001b[1;32mIn[18], line 1\u001b[0m\n\u001b[1;32m----> 1\u001b[0m a \u001b[38;5;241m+\u001b[39m b\n",
      "\u001b[1;31mTypeError\u001b[0m: can only concatenate str (not \"int\") to str"
     ]
    }
   ],
   "source": [
    "a + b"
   ]
  },
  {
   "cell_type": "code",
   "execution_count": 19,
   "id": "3f339ddc-76ed-4a4f-9c8f-361d055ff23f",
   "metadata": {
    "tags": []
   },
   "outputs": [
    {
     "data": {
      "text/plain": [
       "''"
      ]
     },
     "execution_count": 19,
     "metadata": {},
     "output_type": "execute_result"
    }
   ],
   "source": [
    "a"
   ]
  },
  {
   "cell_type": "code",
   "execution_count": null,
   "id": "2ebda937-7046-4b6e-a0f1-7592e0deb042",
   "metadata": {},
   "outputs": [],
   "source": []
  }
 ],
 "metadata": {
  "kernelspec": {
   "display_name": "Python 3 (ipykernel)",
   "language": "python",
   "name": "python3"
  },
  "language_info": {
   "codemirror_mode": {
    "name": "ipython",
    "version": 3
   },
   "file_extension": ".py",
   "mimetype": "text/x-python",
   "name": "python",
   "nbconvert_exporter": "python",
   "pygments_lexer": "ipython3",
   "version": "3.11.3"
  }
 },
 "nbformat": 4,
 "nbformat_minor": 5
}
