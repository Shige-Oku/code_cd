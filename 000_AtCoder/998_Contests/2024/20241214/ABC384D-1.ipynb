{
 "cells": [
  {
   "cell_type": "code",
   "execution_count": 1,
   "id": "f9b5ab04-6bdd-442c-8719-a1764f6ee3b1",
   "metadata": {
    "tags": []
   },
   "outputs": [],
   "source": [
    "import sys\n",
    "import numpy as np\n",
    "import math\n",
    "import collections\n",
    "import copy\n",
    "import decimal\n",
    "import itertools\n",
    "import re\n",
    "import bisect\n",
    "import scipy\n",
    "import heapq\n",
    "from collections import deque \n",
    "from functools import reduce\n",
    "from itertools import product\n",
    "from itertools import combinations\n",
    "from functools import lru_cache\n",
    "from scipy.special import comb\n",
    "from numba import njit\n",
    "from bisect import bisect_right\n",
    "from bisect import bisect_left\n",
    "from atcoder.fenwicktree import FenwickTree\n",
    "from sortedcontainers import SortedSet, SortedList, SortedDict"
   ]
  },
  {
   "cell_type": "code",
   "execution_count": 39,
   "id": "e570c6ac-2d05-4899-b390-587be4d35a02",
   "metadata": {
    "tags": []
   },
   "outputs": [
    {
     "name": "stdin",
     "output_type": "stream",
     "text": [
      " 20 83298426\n"
     ]
    }
   ],
   "source": [
    "N, S = map(int, input().split())"
   ]
  },
  {
   "cell_type": "code",
   "execution_count": 38,
   "id": "e5b59455-954c-4288-be73-7c6e9366cd50",
   "metadata": {
    "tags": []
   },
   "outputs": [
    {
     "name": "stdin",
     "output_type": "stream",
     "text": [
      " 748 169 586 329 972 529 432 519 408 587 138 249 656 114 632 299 984 755 404 772\n"
     ]
    }
   ],
   "source": [
    "An = list(map(int, input().split()))"
   ]
  },
  {
   "cell_type": "code",
   "execution_count": 61,
   "id": "e6017e5a-4e05-42ef-b9d7-999bb6ae52db",
   "metadata": {
    "tags": []
   },
   "outputs": [],
   "source": [
    "from itertools import accumulate\n",
    "An2 = An + An\n",
    "An_c = [0] + list(accumulate(An2)) + [10**20]\n",
    "An_s = set(An_c)"
   ]
  },
  {
   "cell_type": "code",
   "execution_count": 63,
   "id": "83c40c86-ccfd-460b-b676-62ce9c0bd3e1",
   "metadata": {
    "tags": []
   },
   "outputs": [
    {
     "name": "stdout",
     "output_type": "stream",
     "text": [
      "Yes\n"
     ]
    }
   ],
   "source": [
    "q, r = divmod(S, sum(An))\n",
    "for i, A in enumerate(An, 1):\n",
    "    if A + r in An_s:\n",
    "        print('Yes')\n",
    "        break\n",
    "else:\n",
    "    print('No')"
   ]
  },
  {
   "cell_type": "code",
   "execution_count": 62,
   "id": "10aad772-97c9-4289-a48b-f952b61c22b6",
   "metadata": {
    "tags": []
   },
   "outputs": [
    {
     "name": "stdout",
     "output_type": "stream",
     "text": [
      "Yes\n"
     ]
    }
   ],
   "source": [
    "from bisect import bisect_left\n",
    "q, r = divmod(S, sum(An))\n",
    "for i, A in enumerate(An, 1):\n",
    "    # print(i, A)\n",
    "    p = bisect_left(An_c[i+1:i+N+2], r+An_c[i-1])\n",
    "    n = An_c[p+i+1]\n",
    "    if n - An_c[i-1] == r:\n",
    "        print(\"Yes\")\n",
    "        break\n",
    "    # print(i, p, n, An_c[i])\n",
    "else:\n",
    "    print('No')"
   ]
  },
  {
   "cell_type": "code",
   "execution_count": 59,
   "id": "2f82b59a-6440-4d26-a3b4-a42252683614",
   "metadata": {
    "tags": []
   },
   "outputs": [
    {
     "name": "stdout",
     "output_type": "stream",
     "text": [
      "1 8\n"
     ]
    }
   ],
   "source": [
    "for i in range(N-1):\n",
    "    g = An[i]\n",
    "    for j in range(i+1, N):\n",
    "        g += An[j]\n",
    "        if g == r:\n",
    "            print(i, j)"
   ]
  },
  {
   "cell_type": "code",
   "execution_count": 42,
   "id": "c4766c20-af6f-452c-b9d8-96ba9c4d4b87",
   "metadata": {
    "tags": []
   },
   "outputs": [
    {
     "data": {
      "text/plain": [
       "[0,\n",
       " 748,\n",
       " 917,\n",
       " 1503,\n",
       " 1832,\n",
       " 2804,\n",
       " 3333,\n",
       " 3765,\n",
       " 4284,\n",
       " 4692,\n",
       " 5279,\n",
       " 5417,\n",
       " 5666,\n",
       " 6322,\n",
       " 6436,\n",
       " 7068,\n",
       " 7367,\n",
       " 8351,\n",
       " 9106,\n",
       " 9510,\n",
       " 10282,\n",
       " 11030,\n",
       " 11199,\n",
       " 11785,\n",
       " 12114,\n",
       " 13086,\n",
       " 13615,\n",
       " 14047,\n",
       " 14566,\n",
       " 14974,\n",
       " 15561,\n",
       " 15699,\n",
       " 15948,\n",
       " 16604,\n",
       " 16718,\n",
       " 17350,\n",
       " 17649,\n",
       " 18633,\n",
       " 19388,\n",
       " 19792,\n",
       " 20564,\n",
       " 100000000000000000000]"
      ]
     },
     "execution_count": 42,
     "metadata": {},
     "output_type": "execute_result"
    }
   ],
   "source": [
    "An_c"
   ]
  },
  {
   "cell_type": "code",
   "execution_count": 53,
   "id": "11463b08-609a-42b7-ae6b-73c9784212a7",
   "metadata": {
    "tags": []
   },
   "outputs": [
    {
     "data": {
      "text/plain": [
       "3944"
      ]
     },
     "execution_count": 53,
     "metadata": {},
     "output_type": "execute_result"
    }
   ],
   "source": [
    "r"
   ]
  },
  {
   "cell_type": "code",
   "execution_count": 43,
   "id": "61aef114-d804-42be-a007-eaf6f215317f",
   "metadata": {
    "tags": []
   },
   "outputs": [
    {
     "data": {
      "text/plain": [
       "3944"
      ]
     },
     "execution_count": 43,
     "metadata": {},
     "output_type": "execute_result"
    }
   ],
   "source": [
    "83298426 % sum(An)"
   ]
  },
  {
   "cell_type": "code",
   "execution_count": 44,
   "id": "4817a35a-2568-49e6-97bd-6a999e6810c8",
   "metadata": {
    "tags": []
   },
   "outputs": [
    {
     "data": {
      "text/plain": [
       "42"
      ]
     },
     "execution_count": 44,
     "metadata": {},
     "output_type": "execute_result"
    }
   ],
   "source": [
    "len(An_c)"
   ]
  },
  {
   "cell_type": "code",
   "execution_count": 46,
   "id": "6fa77b75-cd38-477d-9d23-03ed58a698c6",
   "metadata": {
    "tags": []
   },
   "outputs": [
    {
     "data": {
      "text/plain": [
       "3944"
      ]
     },
     "execution_count": 46,
     "metadata": {},
     "output_type": "execute_result"
    }
   ],
   "source": [
    "sum(An[1:9])"
   ]
  },
  {
   "cell_type": "code",
   "execution_count": 50,
   "id": "209edbd8-549b-4e1a-be20-3e6b61ea26e9",
   "metadata": {
    "tags": []
   },
   "outputs": [
    {
     "data": {
      "text/plain": [
       "(748, 3944)"
      ]
     },
     "execution_count": 50,
     "metadata": {},
     "output_type": "execute_result"
    }
   ],
   "source": [
    "An_c[1], An_c[9] - An_c[1]"
   ]
  },
  {
   "cell_type": "code",
   "execution_count": 52,
   "id": "74566d37-dffd-495c-8bce-2f9fd0c4c85c",
   "metadata": {
    "tags": []
   },
   "outputs": [
    {
     "data": {
      "text/plain": [
       "4692"
      ]
     },
     "execution_count": 52,
     "metadata": {},
     "output_type": "execute_result"
    }
   ],
   "source": [
    "An_c[9]"
   ]
  },
  {
   "cell_type": "code",
   "execution_count": null,
   "id": "1d58d4b6-cf5c-422b-a40c-53375532a801",
   "metadata": {},
   "outputs": [],
   "source": []
  }
 ],
 "metadata": {
  "kernelspec": {
   "display_name": "Python 3 (ipykernel)",
   "language": "python",
   "name": "python3"
  },
  "language_info": {
   "codemirror_mode": {
    "name": "ipython",
    "version": 3
   },
   "file_extension": ".py",
   "mimetype": "text/x-python",
   "name": "python",
   "nbconvert_exporter": "python",
   "pygments_lexer": "ipython3",
   "version": "3.11.3"
  }
 },
 "nbformat": 4,
 "nbformat_minor": 5
}
