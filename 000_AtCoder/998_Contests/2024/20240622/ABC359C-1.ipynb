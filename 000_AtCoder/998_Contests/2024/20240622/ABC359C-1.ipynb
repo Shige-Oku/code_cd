{
 "cells": [
  {
   "cell_type": "code",
   "execution_count": 1,
   "id": "9e989402-d8e2-4668-9add-3a4ba320837c",
   "metadata": {
    "tags": []
   },
   "outputs": [],
   "source": [
    "import sys\n",
    "import numpy as np\n",
    "import math\n",
    "import collections\n",
    "import copy\n",
    "import decimal\n",
    "import itertools\n",
    "import re\n",
    "import bisect\n",
    "import scipy\n",
    "import heapq\n",
    "from collections import deque \n",
    "from functools import reduce\n",
    "from itertools import product\n",
    "from itertools import combinations\n",
    "from functools import lru_cache\n",
    "from scipy.special import comb\n",
    "from numba import njit\n",
    "from bisect import bisect_right\n",
    "from bisect import bisect_left\n",
    "from atcoder.fenwicktree import FenwickTree\n",
    "from sortedcontainers import SortedList"
   ]
  },
  {
   "cell_type": "code",
   "execution_count": 20,
   "id": "b8f58019-6992-45cb-845c-18358449f621",
   "metadata": {
    "tags": []
   },
   "outputs": [
    {
     "name": "stdin",
     "output_type": "stream",
     "text": [
      " 2552608206527595 5411232866732612\n"
     ]
    }
   ],
   "source": [
    "Sx, Sy = map(int, (input().split()))"
   ]
  },
  {
   "cell_type": "code",
   "execution_count": 21,
   "id": "9edd6c2c-3107-4410-b38d-d271ebfc218d",
   "metadata": {
    "tags": []
   },
   "outputs": [
    {
     "name": "stdin",
     "output_type": "stream",
     "text": [
      " 771856005518028 7206210729152763\n"
     ]
    }
   ],
   "source": [
    "Tx, Ty = map(int, (input().split()))"
   ]
  },
  {
   "cell_type": "code",
   "execution_count": 26,
   "id": "59afc7d6-0b33-483f-980c-0abc122e0289",
   "metadata": {
    "tags": []
   },
   "outputs": [],
   "source": [
    "def solve(sx, sy, tx, ty):\n",
    "    dy = abs(sy - ty)\n",
    "    \n",
    "    sx -= (sy- sx) % 2\n",
    "    tx -= (ty- tx) % 2\n",
    "    \n",
    "    dx = abs(sx - tx)\n",
    "    return dy + max(0, dx - dy) // 2"
   ]
  },
  {
   "cell_type": "code",
   "execution_count": 27,
   "id": "e0cae9ca-9113-4ce6-ae3a-2e7bbc4b2ef3",
   "metadata": {
    "tags": []
   },
   "outputs": [
    {
     "name": "stdout",
     "output_type": "stream",
     "text": [
      "1794977862420151\n"
     ]
    }
   ],
   "source": [
    "print(solve(Sx, Sy, Tx, Ty))"
   ]
  },
  {
   "cell_type": "code",
   "execution_count": 131,
   "id": "c05e9d1e-f439-49bf-9bb6-21737c63f795",
   "metadata": {
    "tags": []
   },
   "outputs": [
    {
     "data": {
      "text/plain": [
       "0"
      ]
     },
     "execution_count": 131,
     "metadata": {},
     "output_type": "execute_result"
    }
   ],
   "source": [
    "solve(3, 1, 4, 1)"
   ]
  },
  {
   "cell_type": "code",
   "execution_count": null,
   "id": "5fcbe627-55f8-4dd4-93e3-ffc3ab53a236",
   "metadata": {},
   "outputs": [],
   "source": [
    "Sx -= (Sy - Sx) % 2\n",
    "Tx -= (Ty - Tx) % 2\n",
    "Tx -= Sx\n",
    "Ty -= Sy\n",
    "Tx = abs(Tx)\n",
    "Ty = abs(Ty)\n",
    "print(Ty + max(0, Tx - Ty) // 2)"
   ]
  },
  {
   "cell_type": "code",
   "execution_count": 1,
   "id": "a6035863-6750-4a7f-a6a7-7583dafeb1ea",
   "metadata": {
    "tags": []
   },
   "outputs": [],
   "source": [
    "def f(x, y):\n",
    "    return (x - y), (x - y) % 2 "
   ]
  },
  {
   "cell_type": "code",
   "execution_count": 104,
   "id": "8ac8b899-6e5e-4274-a01d-66bc6419ab7c",
   "metadata": {
    "tags": []
   },
   "outputs": [
    {
     "name": "stdout",
     "output_type": "stream",
     "text": [
      "1794977862420151\n"
     ]
    }
   ],
   "source": [
    "\n",
    "# タイルの左側に寄せておく\n",
    "if (Sx + Sy) % 2 == 1:\n",
    "    Sx -= 1\n",
    "if (Tx + Ty) % 2 == 1:\n",
    "    Tx -= 1\n",
    "# 答えは (|Sy - Ty| + max(|Sx - Tx|, |Sy - Ty|)) / 2\n",
    "Dx = abs(Sx - Tx)\n",
    "Dy = abs(Sy - Ty)\n",
    "print((Dy + max(Dx, Dy)) // 2)"
   ]
  },
  {
   "cell_type": "code",
   "execution_count": 4,
   "id": "5542012a-d099-48cd-b2d1-1e87ee6ea2dc",
   "metadata": {
    "tags": []
   },
   "outputs": [
    {
     "data": {
      "text/plain": [
       "((-1, 1), (1, 1))"
      ]
     },
     "execution_count": 4,
     "metadata": {},
     "output_type": "execute_result"
    }
   ],
   "source": [
    "f(1, 2), f(2, 1)"
   ]
  },
  {
   "cell_type": "code",
   "execution_count": 7,
   "id": "e7f1f169-24d8-4758-9829-59562d59c780",
   "metadata": {
    "tags": []
   },
   "outputs": [],
   "source": [
    "def solve(sx, sy, tx, ty):\n",
    "    ret = 0\n",
    "    ret += abs(sy - ty)\n",
    "    \n",
    "    sx -= (sy- sx) % 2\n",
    "    tx -= (ty- tx) % 2\n",
    "    \n",
    "    k = (sx - tx)\n",
    "    ret += max(0, k-ret)//2\n",
    "    return ret"
   ]
  },
  {
   "cell_type": "code",
   "execution_count": 118,
   "id": "01eaacfc-b2f2-4193-967c-6239cdc942af",
   "metadata": {
    "tags": []
   },
   "outputs": [],
   "source": [
    "def solve(sx, sy, tx, ty):\n",
    "    ret = 0\n",
    "    if sx == tx:\n",
    "        return abs(sy - ty)\n",
    "\n",
    "    if sx > tx:\n",
    "        sx, tx = tx, sx\n",
    "        sy, ty = ty, sy\n",
    "\n",
    "    ret += abs(sy - ty)\n",
    "    if sy % 2 == sx % 2:\n",
    "        sx -= 1\n",
    "    if ty % 2 == tx % 2:\n",
    "        tx -= 1\n",
    "    \n",
    "    k = (abs(sx - tx)  // 2)\n",
    "    if ret < k:\n",
    "        ret += (k - ret)\n",
    "    return ret"
   ]
  },
  {
   "cell_type": "code",
   "execution_count": 106,
   "id": "b53f90d9-671a-4190-868c-97f2a6618aa7",
   "metadata": {
    "tags": []
   },
   "outputs": [],
   "source": [
    "def solve(sx, sy, tx, ty):\n",
    "    ret = 0\n",
    "    if sx == tx:\n",
    "        return abs(sy - ty)\n",
    "\n",
    "    if sx > tx:\n",
    "        sx, tx = tx, sx\n",
    "        sy, ty = ty, sy\n",
    "\n",
    "    ret += abs(sy - ty)\n",
    "    if sy % 2 == sx % 2:\n",
    "        sx += 1\n",
    "    if ty % 2 == tx % 2:\n",
    "        tx += -1\n",
    "    \n",
    "    k = (abs(sx - tx)  // 2)\n",
    "    if ret < k:\n",
    "        ret += (k - ret)\n",
    "    return ret"
   ]
  },
  {
   "cell_type": "code",
   "execution_count": 38,
   "id": "10ff7a05-1619-4ff5-bb55-0dd6d01d21f3",
   "metadata": {
    "tags": []
   },
   "outputs": [
    {
     "data": {
      "text/plain": [
       "0"
      ]
     },
     "execution_count": 38,
     "metadata": {},
     "output_type": "execute_result"
    }
   ],
   "source": [
    "7206210729152763 - 5411232866732612 - 1794977862420151"
   ]
  },
  {
   "cell_type": "code",
   "execution_count": 132,
   "id": "275a27b1-a7a8-48af-8ad7-3f61be507f2c",
   "metadata": {
    "tags": []
   },
   "outputs": [
    {
     "data": {
      "text/plain": [
       "5"
      ]
     },
     "execution_count": 132,
     "metadata": {},
     "output_type": "execute_result"
    }
   ],
   "source": [
    "solve(5, 0, 2, 5)"
   ]
  },
  {
   "cell_type": "code",
   "execution_count": 133,
   "id": "84e09cd4-3242-43ea-88b0-777364b4924c",
   "metadata": {
    "tags": []
   },
   "outputs": [
    {
     "data": {
      "text/plain": [
       "1794977862420151"
      ]
     },
     "execution_count": 133,
     "metadata": {},
     "output_type": "execute_result"
    }
   ],
   "source": [
    "solve(2552608206527595, 5411232866732612, 771856005518028, 7206210729152763)"
   ]
  },
  {
   "cell_type": "code",
   "execution_count": 96,
   "id": "cd56b27a-b00f-43f7-9b57-ef3b8f929328",
   "metadata": {
    "tags": []
   },
   "outputs": [
    {
     "data": {
      "text/plain": [
       "(1, 3)"
      ]
     },
     "execution_count": 96,
     "metadata": {},
     "output_type": "execute_result"
    }
   ],
   "source": [
    "Sx, Tx"
   ]
  },
  {
   "cell_type": "code",
   "execution_count": 105,
   "id": "2dde7bbe-8cea-40cc-a03b-9682c7a515a2",
   "metadata": {
    "tags": []
   },
   "outputs": [
    {
     "data": {
      "text/plain": [
       "(1780752201009567, 1794977862420151)"
      ]
     },
     "execution_count": 105,
     "metadata": {},
     "output_type": "execute_result"
    }
   ],
   "source": [
    "Dx, Dy"
   ]
  },
  {
   "cell_type": "code",
   "execution_count": null,
   "id": "58ea0082-a2d2-472a-9a7d-9f38a608b8fc",
   "metadata": {},
   "outputs": [],
   "source": []
  }
 ],
 "metadata": {
  "kernelspec": {
   "display_name": "Python 3 (ipykernel)",
   "language": "python",
   "name": "python3"
  },
  "language_info": {
   "codemirror_mode": {
    "name": "ipython",
    "version": 3
   },
   "file_extension": ".py",
   "mimetype": "text/x-python",
   "name": "python",
   "nbconvert_exporter": "python",
   "pygments_lexer": "ipython3",
   "version": "3.11.3"
  }
 },
 "nbformat": 4,
 "nbformat_minor": 5
}
