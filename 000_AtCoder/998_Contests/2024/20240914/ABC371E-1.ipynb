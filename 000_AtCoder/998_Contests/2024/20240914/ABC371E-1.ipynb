{
 "cells": [
  {
   "cell_type": "code",
   "execution_count": 1,
   "id": "d67b8260-4f21-460e-b8a6-091666b208e5",
   "metadata": {
    "tags": []
   },
   "outputs": [],
   "source": [
    "import sys\n",
    "import numpy as np\n",
    "import math\n",
    "import collections\n",
    "import copy\n",
    "import decimal\n",
    "import itertools\n",
    "import re\n",
    "import bisect\n",
    "import scipy\n",
    "import heapq\n",
    "from collections import deque \n",
    "from functools import reduce\n",
    "from itertools import product\n",
    "from itertools import combinations\n",
    "from functools import lru_cache\n",
    "from scipy.special import comb\n",
    "from numba import njit\n",
    "from bisect import bisect_right\n",
    "from bisect import bisect_left\n",
    "from atcoder.fenwicktree import FenwickTree\n",
    "from sortedcontainers import SortedSet, SortedList, SortedDict"
   ]
  },
  {
   "cell_type": "code",
   "execution_count": 1,
   "id": "3a1d7891-d18f-47e3-a489-443d10e31ad4",
   "metadata": {},
   "outputs": [
    {
     "name": "stdin",
     "output_type": "stream",
     "text": [
      " 3\n"
     ]
    }
   ],
   "source": [
    "N = int(input())"
   ]
  },
  {
   "cell_type": "code",
   "execution_count": 2,
   "id": "7a539578-f247-48e9-b048-12fb68fcabdc",
   "metadata": {
    "tags": []
   },
   "outputs": [
    {
     "name": "stdin",
     "output_type": "stream",
     "text": [
      " 1 2 2\n"
     ]
    }
   ],
   "source": [
    "An = list(map(int, input().split()))"
   ]
  },
  {
   "cell_type": "code",
   "execution_count": 23,
   "id": "65fe27b5-f88d-40f3-9ad7-67d9a92b7c56",
   "metadata": {
    "tags": []
   },
   "outputs": [],
   "source": [
    "index_list = [[] for _ in range(N+1)]\n",
    "num_s = set()\n",
    "for i, A in enumerate(An):\n",
    "    index_list[A].append(i)\n",
    "    num_s.add(A)\n",
    "for i in range(N+1):\n",
    "    index_list[i].append(N)"
   ]
  },
  {
   "cell_type": "code",
   "execution_count": 33,
   "id": "a505e340-b436-46c8-8e34-7b10d105feee",
   "metadata": {
    "tags": []
   },
   "outputs": [],
   "source": [
    "ans = 0\n",
    "for n in num_s:\n",
    "    l = -1\n",
    "    s = 0\n",
    "    for r in index_list[n]:\n",
    "        s += (r-l-1) * (r-l) // 2\n",
    "        l = r\n",
    "        # print(s)\n",
    "    ans += N * (N+1) // 2 - s\n",
    "    # print(s, ans)"
   ]
  },
  {
   "cell_type": "code",
   "execution_count": 34,
   "id": "c03ca0c4-ffd3-4b32-841d-b0b9c4e1123d",
   "metadata": {
    "tags": []
   },
   "outputs": [
    {
     "name": "stdout",
     "output_type": "stream",
     "text": [
      "8\n"
     ]
    }
   ],
   "source": [
    "print(ans)"
   ]
  },
  {
   "cell_type": "code",
   "execution_count": 6,
   "id": "63d792e5-aad6-414a-85ab-59eff77f4c9d",
   "metadata": {
    "tags": []
   },
   "outputs": [
    {
     "data": {
      "text/plain": [
       "[[3], [0, 3], [1, 2, 3], [3]]"
      ]
     },
     "execution_count": 6,
     "metadata": {},
     "output_type": "execute_result"
    }
   ],
   "source": [
    "index_list"
   ]
  },
  {
   "cell_type": "code",
   "execution_count": null,
   "id": "eb1b2023-3e05-4236-9a1c-867cff68bb54",
   "metadata": {},
   "outputs": [],
   "source": []
  }
 ],
 "metadata": {
  "kernelspec": {
   "display_name": "Python 3 (ipykernel)",
   "language": "python",
   "name": "python3"
  },
  "language_info": {
   "codemirror_mode": {
    "name": "ipython",
    "version": 3
   },
   "file_extension": ".py",
   "mimetype": "text/x-python",
   "name": "python",
   "nbconvert_exporter": "python",
   "pygments_lexer": "ipython3",
   "version": "3.11.3"
  }
 },
 "nbformat": 4,
 "nbformat_minor": 5
}
