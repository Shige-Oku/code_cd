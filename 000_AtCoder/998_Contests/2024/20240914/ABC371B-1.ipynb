{
 "cells": [
  {
   "cell_type": "code",
   "execution_count": 1,
   "id": "7830fd46-376e-4664-ba64-1a9f1f4e692c",
   "metadata": {
    "tags": []
   },
   "outputs": [],
   "source": [
    "import sys\n",
    "import numpy as np\n",
    "import math\n",
    "import collections\n",
    "import copy\n",
    "import decimal\n",
    "import itertools\n",
    "import re\n",
    "import bisect\n",
    "import scipy\n",
    "import heapq\n",
    "from collections import deque \n",
    "from functools import reduce\n",
    "from itertools import product\n",
    "from itertools import combinations\n",
    "from functools import lru_cache\n",
    "from scipy.special import comb\n",
    "from numba import njit\n",
    "from bisect import bisect_right\n",
    "from bisect import bisect_left\n",
    "from atcoder.fenwicktree import FenwickTree\n",
    "from sortedcontainers import SortedSet, SortedList, SortedDict"
   ]
  },
  {
   "cell_type": "code",
   "execution_count": 2,
   "id": "3b4095df-5251-4267-b74f-c3393dac8c12",
   "metadata": {
    "tags": []
   },
   "outputs": [
    {
     "name": "stdin",
     "output_type": "stream",
     "text": [
      " 2 4\n"
     ]
    }
   ],
   "source": [
    "N, M = map(int, input().split())"
   ]
  },
  {
   "cell_type": "code",
   "execution_count": 3,
   "id": "8e477550-f318-43d7-b6e6-907a65f20486",
   "metadata": {
    "tags": []
   },
   "outputs": [
    {
     "name": "stdin",
     "output_type": "stream",
     "text": [
      " 1 M\n",
      " 1 M\n",
      " 2 F\n",
      " 2 M\n"
     ]
    }
   ],
   "source": [
    "ABm = [input().split() for _ in range(M)]"
   ]
  },
  {
   "cell_type": "code",
   "execution_count": 4,
   "id": "1fcda9c2-9345-499a-8011-c0205e3d200a",
   "metadata": {
    "tags": []
   },
   "outputs": [],
   "source": [
    "def solve(n, m):\n",
    "    if m == 'F':\n",
    "        return False\n",
    "    \n",
    "    return chonam[n]"
   ]
  },
  {
   "cell_type": "code",
   "execution_count": 5,
   "id": "fb913a42-c321-45a3-bb44-0ec48f8f2fe3",
   "metadata": {
    "tags": []
   },
   "outputs": [
    {
     "name": "stdout",
     "output_type": "stream",
     "text": [
      "Yes\n",
      "No\n",
      "No\n",
      "Yes\n"
     ]
    }
   ],
   "source": [
    "chonam = [True] * (N+1)\n",
    "for A, B in ABm:\n",
    "    A = int(A)\n",
    "    if solve(A, B):\n",
    "        print('Yes')\n",
    "    else:\n",
    "        print('No')\n",
    "    \n",
    "    if B == 'M':\n",
    "        chonam[A] = False"
   ]
  },
  {
   "cell_type": "code",
   "execution_count": 5,
   "id": "e126c853-803d-4f24-8f80-af959f2b086d",
   "metadata": {
    "tags": []
   },
   "outputs": [
    {
     "name": "stdout",
     "output_type": "stream",
     "text": [
      "Yes\n",
      "No\n",
      "No\n",
      "Yes\n"
     ]
    }
   ],
   "source": [
    "chonam = [True] * (N+1)\n",
    "for A, B in ABm:\n",
    "    A = int(A)\n",
    "    if solve(A, B):\n",
    "        chonam[A] = False\n",
    "        print('Yes')\n",
    "    else:\n",
    "        print('No')\n"
   ]
  },
  {
   "cell_type": "code",
   "execution_count": null,
   "id": "9ae19001-66ab-4c99-ac47-604d823bba41",
   "metadata": {},
   "outputs": [],
   "source": []
  }
 ],
 "metadata": {
  "kernelspec": {
   "display_name": "Python 3 (ipykernel)",
   "language": "python",
   "name": "python3"
  },
  "language_info": {
   "codemirror_mode": {
    "name": "ipython",
    "version": 3
   },
   "file_extension": ".py",
   "mimetype": "text/x-python",
   "name": "python",
   "nbconvert_exporter": "python",
   "pygments_lexer": "ipython3",
   "version": "3.11.3"
  }
 },
 "nbformat": 4,
 "nbformat_minor": 5
}
