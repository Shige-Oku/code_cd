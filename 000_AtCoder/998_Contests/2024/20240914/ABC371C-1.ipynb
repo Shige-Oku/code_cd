{
 "cells": [
  {
   "cell_type": "code",
   "execution_count": 1,
   "id": "4980e4c6-e04f-40c2-8282-c66337a1b358",
   "metadata": {
    "tags": []
   },
   "outputs": [],
   "source": [
    "import sys\n",
    "import numpy as np\n",
    "import math\n",
    "import collections\n",
    "import copy\n",
    "import decimal\n",
    "import itertools\n",
    "import re\n",
    "import bisect\n",
    "import scipy\n",
    "import heapq\n",
    "from collections import deque \n",
    "from functools import reduce\n",
    "from itertools import product\n",
    "from itertools import combinations\n",
    "from functools import lru_cache\n",
    "from scipy.special import comb\n",
    "from numba import njit\n",
    "from bisect import bisect_right\n",
    "from bisect import bisect_left\n",
    "from atcoder.fenwicktree import FenwickTree\n",
    "from sortedcontainers import SortedSet, SortedList, SortedDict"
   ]
  },
  {
   "cell_type": "code",
   "execution_count": 2,
   "id": "d75cb69d-f419-4bdf-b178-93d0c30ebd02",
   "metadata": {
    "tags": []
   },
   "outputs": [
    {
     "name": "stdin",
     "output_type": "stream",
     "text": [
      " 5\n"
     ]
    }
   ],
   "source": [
    "N = int(input())"
   ]
  },
  {
   "cell_type": "code",
   "execution_count": 3,
   "id": "c284c493-cc59-4b45-b2f6-8f7f5a95bc9c",
   "metadata": {
    "tags": []
   },
   "outputs": [
    {
     "name": "stdin",
     "output_type": "stream",
     "text": [
      " 4\n"
     ]
    }
   ],
   "source": [
    "Mg = int(input())"
   ]
  },
  {
   "cell_type": "code",
   "execution_count": 4,
   "id": "c2a5bb92-ab42-4c69-bbe8-b7326995a1d3",
   "metadata": {
    "tags": []
   },
   "outputs": [
    {
     "name": "stdin",
     "output_type": "stream",
     "text": [
      " 1 2\n",
      " 2 3\n",
      " 3 4\n",
      " 4 5\n"
     ]
    }
   ],
   "source": [
    "UVg = [list(map(int, input().split())) for _ in range(Mg)]"
   ]
  },
  {
   "cell_type": "code",
   "execution_count": 5,
   "id": "42c44c72-2eb7-426e-8c70-8611c6f15241",
   "metadata": {
    "tags": []
   },
   "outputs": [
    {
     "name": "stdin",
     "output_type": "stream",
     "text": [
      " 4\n"
     ]
    }
   ],
   "source": [
    "Mh = int(input())"
   ]
  },
  {
   "cell_type": "code",
   "execution_count": 6,
   "id": "98d7c88d-cce0-40de-a53f-2d57a279c278",
   "metadata": {
    "tags": []
   },
   "outputs": [
    {
     "name": "stdin",
     "output_type": "stream",
     "text": [
      " 1 2\n",
      " 1 3\n",
      " 1 4 \n",
      " 1 5\n"
     ]
    }
   ],
   "source": [
    "ABh = [list(map(int, input().split())) for _ in range(Mh)]"
   ]
  },
  {
   "cell_type": "code",
   "execution_count": 7,
   "id": "15f20362-4558-4e6b-9a48-058c4a0a84de",
   "metadata": {
    "tags": []
   },
   "outputs": [
    {
     "name": "stdin",
     "output_type": "stream",
     "text": [
      " 3 1 4 1\n",
      " 5 9 2\n",
      " 6 5\n",
      " 3\n"
     ]
    }
   ],
   "source": [
    "An = [list(map(int, input().split())) for _ in range(N-1)]"
   ]
  },
  {
   "cell_type": "code",
   "execution_count": 91,
   "id": "5d3687e1-57f5-45af-ac14-810fbb931ced",
   "metadata": {
    "tags": []
   },
   "outputs": [],
   "source": [
    "graph_g = [[] * (9) for _ in range(9)]\n",
    "for U, V in UVg:\n",
    "    graph_g[U].append(V)\n",
    "    graph_g[V].append(U)\n",
    "\n",
    "graph_h = [[] * (9) for _ in range(9)]\n",
    "for A, B in ABh:\n",
    "    graph_h[A].append(B)\n",
    "    graph_h[B].append(A)\n",
    "        "
   ]
  },
  {
   "cell_type": "code",
   "execution_count": 106,
   "id": "a4fb2f34-fb80-4a00-aeec-8f9c9d0cba67",
   "metadata": {
    "tags": []
   },
   "outputs": [],
   "source": [
    "from itertools import permutations\n",
    "ans = 10**20\n",
    "for P in permutations(range(1, N+1), N):\n",
    "    c = 0\n",
    "    # P = [4, 1, 2, 5, 3]\n",
    "    for i in range(1, N):\n",
    "        for j in range(i+1, N+1):\n",
    "            hi, hj = P[i-1], P[j-1]\n",
    "            # if j in graph_g[i] != hj in graph_h[hi]:\n",
    "            #     c += An[i-1][j-i-1]\n",
    "            #     print(i, j, hi, hj)\n",
    "            if j in graph_g[i]:\n",
    "                if hj not in graph_h[hi]:\n",
    "                    if hi > hj:\n",
    "                        hi, hj = hj, hi\n",
    "                    c += An[hi-1][hj-hi-1]\n",
    "            else:\n",
    "                if hj in graph_h[hi]:\n",
    "                    if hi > hj:\n",
    "                        hi, hj = hj, hi\n",
    "                    c += An[hi-1][hj-hi-1]\n",
    "            # print(i, j, c, hi, hj, An[i-1][j-i-1])\n",
    "    ans = min(ans, c)\n",
    "    # print(P, ans)\n",
    "    # break"
   ]
  },
  {
   "cell_type": "code",
   "execution_count": 107,
   "id": "e85adfc0-b9c6-4ee0-9ec2-4a200de50fea",
   "metadata": {
    "tags": []
   },
   "outputs": [
    {
     "name": "stdout",
     "output_type": "stream",
     "text": [
      "9\n"
     ]
    }
   ],
   "source": [
    "print(ans)"
   ]
  },
  {
   "cell_type": "code",
   "execution_count": 95,
   "id": "76d743a1-7919-47e0-b42c-cb37d43b9799",
   "metadata": {
    "tags": []
   },
   "outputs": [
    {
     "name": "stdout",
     "output_type": "stream",
     "text": [
      "in\n",
      "1 2 0 5 3 3\n",
      "not in 3 5 [1]\n",
      "1 3 1 5 3 1\n",
      "not in 3 5 [1]\n",
      "1 4 5 5 3 4\n",
      "not in 3 5 [1]\n",
      "1 5 6 5 3 1\n",
      "in\n",
      "2 3 11 5 3 5\n",
      "not in 3 5 [1]\n",
      "2 4 11 5 3 9\n",
      "not in 3 5 [1]\n",
      "2 5 11 5 3 2\n",
      "in\n",
      "3 4 17 5 3 6\n",
      "not in 3 5 [1]\n",
      "3 5 17 5 3 5\n",
      "in\n",
      "4 5 20 5 3 3\n"
     ]
    }
   ],
   "source": [
    "from itertools import permutations\n",
    "ans = 10**20\n",
    "for P in permutations(range(1, N+1), N):\n",
    "    c = 0\n",
    "    P = [4, 1, 2, 5, 3]\n",
    "    for i in range(1, N):\n",
    "        for j in range(i+1, N+1):\n",
    "            # hi, hj = P[i-1], P[j-1]\n",
    "            # if j in graph_g[i] != hj in graph_h[hi]:\n",
    "            #     c += An[i-1][j-i-1]\n",
    "            #     print(i, j, hi, hj)\n",
    "            if j in graph_g[i]:\n",
    "                print('in')\n",
    "                if j not in graph_h[i]:\n",
    "                    c += An[i-1][j-i-1]\n",
    "            else:\n",
    "                print('not in', hj, hi, graph_h[hi])\n",
    "                if j in graph_h[i]:\n",
    "                    c += An[i-1][j-i-1]\n",
    "            print(i, j, c, hi, hj, An[i-1][j-i-1])\n",
    "    ans = min(ans, c)\n",
    "    # print(P, ans)\n",
    "    break"
   ]
  },
  {
   "cell_type": "code",
   "execution_count": 27,
   "id": "1beaa4db-74fb-4d90-b6dc-1bd6dc671da1",
   "metadata": {
    "tags": []
   },
   "outputs": [
    {
     "name": "stdout",
     "output_type": "stream",
     "text": [
      "1 2 0\n",
      "1 3 1\n",
      "1 4 5\n",
      "1 5 6\n",
      "2 3 11\n",
      "2 4 11\n",
      "2 5 11\n",
      "3 4 17\n",
      "3 5 17\n",
      "4 5 20\n"
     ]
    }
   ],
   "source": [
    "from itertools import product\n",
    "ans = 0\n",
    "for i in range(1, N):\n",
    "    for j in range(i+1, N+1):\n",
    "        if j in graph_g[i]:\n",
    "            if j not in graph_h[i]:\n",
    "                ans += An[i-1][j-i-1]\n",
    "        else:\n",
    "            if j in graph_h[i]:\n",
    "                ans += An[i-1][j-i-1]\n",
    "        print(i, j, ans)"
   ]
  },
  {
   "cell_type": "code",
   "execution_count": 63,
   "id": "e12be05e-eb9b-42cf-adde-fbdecb93a8fe",
   "metadata": {
    "tags": []
   },
   "outputs": [
    {
     "data": {
      "text/plain": [
       "True"
      ]
     },
     "execution_count": 63,
     "metadata": {},
     "output_type": "execute_result"
    }
   ],
   "source": [
    "2 in graph_g[1]"
   ]
  },
  {
   "cell_type": "code",
   "execution_count": 83,
   "id": "dd947eb9-9d35-4352-8267-909cf5834c7d",
   "metadata": {
    "tags": []
   },
   "outputs": [
    {
     "data": {
      "text/plain": [
       "False"
      ]
     },
     "execution_count": 83,
     "metadata": {},
     "output_type": "execute_result"
    }
   ],
   "source": [
    "3 in graph_h[2]"
   ]
  },
  {
   "cell_type": "code",
   "execution_count": 90,
   "id": "eaa19fbe-b7cd-408b-a096-7df0889b14a7",
   "metadata": {
    "tags": []
   },
   "outputs": [
    {
     "data": {
      "text/plain": [
       "[[1, 2], [2, 3], [3, 4], [4, 5]]"
      ]
     },
     "execution_count": 90,
     "metadata": {},
     "output_type": "execute_result"
    }
   ],
   "source": [
    "UVg"
   ]
  },
  {
   "cell_type": "code",
   "execution_count": 94,
   "id": "21676297-c96a-49d8-ba8e-67f7b849ab41",
   "metadata": {
    "tags": []
   },
   "outputs": [
    {
     "data": {
      "text/plain": [
       "[[], [2], [1, 3], [2, 4], [3, 5], [4], [], [], []]"
      ]
     },
     "execution_count": 94,
     "metadata": {},
     "output_type": "execute_result"
    }
   ],
   "source": [
    "graph_g"
   ]
  },
  {
   "cell_type": "code",
   "execution_count": 89,
   "id": "98b6e2cf-3e67-45a3-8983-709cb94fc6d2",
   "metadata": {
    "tags": []
   },
   "outputs": [
    {
     "data": {
      "text/plain": [
       "[[], [2, 3, 4, 5], [1], [1], [1], [1], [], [], []]"
      ]
     },
     "execution_count": 89,
     "metadata": {},
     "output_type": "execute_result"
    }
   ],
   "source": [
    "graph_h"
   ]
  },
  {
   "cell_type": "code",
   "execution_count": 15,
   "id": "c77197d6-981e-47c3-9e5f-29976f77d83c",
   "metadata": {
    "tags": []
   },
   "outputs": [
    {
     "ename": "IndexError",
     "evalue": "list index out of range",
     "output_type": "error",
     "traceback": [
      "\u001b[1;31m---------------------------------------------------------------------------\u001b[0m",
      "\u001b[1;31mIndexError\u001b[0m                                Traceback (most recent call last)",
      "Cell \u001b[1;32mIn[15], line 1\u001b[0m\n\u001b[1;32m----> 1\u001b[0m An[\u001b[38;5;241m2\u001b[39m][\u001b[38;5;241m2\u001b[39m]\n",
      "\u001b[1;31mIndexError\u001b[0m: list index out of range"
     ]
    }
   ],
   "source": [
    "An[2][2]"
   ]
  },
  {
   "cell_type": "code",
   "execution_count": 16,
   "id": "0fca5c41-c5a1-49dd-a6c0-90383feae7b2",
   "metadata": {
    "tags": []
   },
   "outputs": [
    {
     "data": {
      "text/plain": [
       "[[3, 1, 4, 1], [5, 9, 2], [6, 5], [3]]"
      ]
     },
     "execution_count": 16,
     "metadata": {},
     "output_type": "execute_result"
    }
   ],
   "source": [
    "An"
   ]
  },
  {
   "cell_type": "code",
   "execution_count": 21,
   "id": "8ca58176-00f3-4db1-8318-142ede686f6b",
   "metadata": {
    "tags": []
   },
   "outputs": [
    {
     "data": {
      "text/plain": [
       "[2, 2, 3, 4, 5]"
      ]
     },
     "execution_count": 21,
     "metadata": {},
     "output_type": "execute_result"
    }
   ],
   "source": [
    "graph_g[1]"
   ]
  },
  {
   "cell_type": "code",
   "execution_count": null,
   "id": "e53e506e-5f95-4d42-a54e-a3253cd330b6",
   "metadata": {},
   "outputs": [],
   "source": []
  }
 ],
 "metadata": {
  "kernelspec": {
   "display_name": "Python 3 (ipykernel)",
   "language": "python",
   "name": "python3"
  },
  "language_info": {
   "codemirror_mode": {
    "name": "ipython",
    "version": 3
   },
   "file_extension": ".py",
   "mimetype": "text/x-python",
   "name": "python",
   "nbconvert_exporter": "python",
   "pygments_lexer": "ipython3",
   "version": "3.11.3"
  }
 },
 "nbformat": 4,
 "nbformat_minor": 5
}
