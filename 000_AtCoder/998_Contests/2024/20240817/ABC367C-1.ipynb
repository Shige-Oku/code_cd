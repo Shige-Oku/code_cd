{
 "cells": [
  {
   "cell_type": "code",
   "execution_count": 1,
   "id": "ea99c3e3-ca9e-47e0-86a9-02c9b2129c5d",
   "metadata": {
    "tags": []
   },
   "outputs": [],
   "source": [
    "import sys\n",
    "import numpy as np\n",
    "import math\n",
    "import collections\n",
    "import copy\n",
    "import decimal\n",
    "import itertools\n",
    "import re\n",
    "import bisect\n",
    "import scipy\n",
    "import heapq\n",
    "from collections import deque \n",
    "from functools import reduce\n",
    "from itertools import product\n",
    "from itertools import combinations\n",
    "from functools import lru_cache\n",
    "from scipy.special import comb\n",
    "from numba import njit\n",
    "from bisect import bisect_right\n",
    "from bisect import bisect_left\n",
    "from atcoder.fenwicktree import FenwickTree\n",
    "from sortedcontainers import SortedList"
   ]
  },
  {
   "cell_type": "code",
   "execution_count": 2,
   "id": "8bd398ca-6847-4088-b2b7-695ac48282dd",
   "metadata": {
    "tags": []
   },
   "outputs": [
    {
     "name": "stdin",
     "output_type": "stream",
     "text": [
      " 3 2\n"
     ]
    }
   ],
   "source": [
    "N, K = map(int, input().split())"
   ]
  },
  {
   "cell_type": "code",
   "execution_count": 3,
   "id": "9e33a59a-c279-44d5-affd-9cfb67b9a9f8",
   "metadata": {
    "tags": []
   },
   "outputs": [
    {
     "name": "stdin",
     "output_type": "stream",
     "text": [
      " 2 1 3\n"
     ]
    }
   ],
   "source": [
    "Rn = list(map(int, input().split()))"
   ]
  },
  {
   "cell_type": "code",
   "execution_count": 22,
   "id": "d8f89c50-e88f-4c86-bbd4-48787d9fc713",
   "metadata": {
    "tags": []
   },
   "outputs": [],
   "source": [
    "import sys\n",
    "from copy import deepcopy\n",
    "sys.setrecursionlimit(10**7)\n",
    "def dfs(d, l):\n",
    "    if d >= N: \n",
    "        if sum(l) % K == 0:\n",
    "            print(*l)\n",
    "        return\n",
    "    for i in range(1, Rn[d]+1):\n",
    "        nl = deepcopy(l)\n",
    "        nl.append(i)\n",
    "        dfs(d+1, nl)\n",
    "    return"
   ]
  },
  {
   "cell_type": "code",
   "execution_count": 23,
   "id": "2401f66c-0e22-4ae3-af3a-3ef55dae66f8",
   "metadata": {
    "tags": []
   },
   "outputs": [
    {
     "name": "stdout",
     "output_type": "stream",
     "text": [
      "1 1 2\n",
      "2 1 1\n",
      "2 1 3\n"
     ]
    }
   ],
   "source": [
    "dfs(0, [])"
   ]
  },
  {
   "cell_type": "code",
   "execution_count": 4,
   "id": "1fc314c4-3614-4870-868d-c68af56e25cd",
   "metadata": {
    "tags": []
   },
   "outputs": [
    {
     "data": {
      "text/plain": [
       "390625"
      ]
     },
     "execution_count": 4,
     "metadata": {},
     "output_type": "execute_result"
    }
   ],
   "source": [
    "5**8"
   ]
  },
  {
   "cell_type": "code",
   "execution_count": null,
   "id": "7e997d42-8040-4425-ad11-ecd5a83d7940",
   "metadata": {},
   "outputs": [],
   "source": []
  }
 ],
 "metadata": {
  "kernelspec": {
   "display_name": "Python 3 (ipykernel)",
   "language": "python",
   "name": "python3"
  },
  "language_info": {
   "codemirror_mode": {
    "name": "ipython",
    "version": 3
   },
   "file_extension": ".py",
   "mimetype": "text/x-python",
   "name": "python",
   "nbconvert_exporter": "python",
   "pygments_lexer": "ipython3",
   "version": "3.11.3"
  }
 },
 "nbformat": 4,
 "nbformat_minor": 5
}
