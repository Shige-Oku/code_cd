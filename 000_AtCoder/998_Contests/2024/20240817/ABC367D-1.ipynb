{
 "cells": [
  {
   "cell_type": "code",
   "execution_count": 1,
   "id": "99bc94e0-76f1-4513-b739-06fa054f21a0",
   "metadata": {
    "tags": []
   },
   "outputs": [],
   "source": [
    "import sys\n",
    "import numpy as np\n",
    "import math\n",
    "import collections\n",
    "import copy\n",
    "import decimal\n",
    "import itertools\n",
    "import re\n",
    "import bisect\n",
    "import scipy\n",
    "import heapq\n",
    "from collections import deque \n",
    "from functools import reduce\n",
    "from itertools import product\n",
    "from itertools import combinations\n",
    "from functools import lru_cache\n",
    "from scipy.special import comb\n",
    "from numba import njit\n",
    "from bisect import bisect_right\n",
    "from bisect import bisect_left\n",
    "from atcoder.fenwicktree import FenwickTree\n",
    "from sortedcontainers import SortedList"
   ]
  },
  {
   "cell_type": "code",
   "execution_count": 19,
   "id": "cdc02d7c-0cd1-45a7-a66a-b39269bdad35",
   "metadata": {
    "tags": []
   },
   "outputs": [
    {
     "name": "stdin",
     "output_type": "stream",
     "text": [
      " 9 5\n"
     ]
    }
   ],
   "source": [
    "N, M = map(int, input().split())"
   ]
  },
  {
   "cell_type": "code",
   "execution_count": 20,
   "id": "fa27222d-0fd2-45b0-91df-a943483f0004",
   "metadata": {
    "tags": []
   },
   "outputs": [
    {
     "name": "stdin",
     "output_type": "stream",
     "text": [
      " 9 9 8 2 4 4 3 5 3\n"
     ]
    }
   ],
   "source": [
    "An = list(map(int, input().split()))"
   ]
  },
  {
   "cell_type": "code",
   "execution_count": 40,
   "id": "d779806b-61f6-45f8-aa50-93cc59ca62dc",
   "metadata": {
    "tags": []
   },
   "outputs": [],
   "source": [
    "from itertools import accumulate\n",
    "from collections import defaultdict\n",
    "from bisect import bisect_left, bisect_right\n",
    "\n",
    "An2 = [0] + An + An\n",
    "An_s = list(accumulate(An2))\n",
    "An_md = defaultdict(list)\n",
    "for i, A in enumerate(An_s):\n",
    "    An_md[A%M].append(i)\n"
   ]
  },
  {
   "cell_type": "code",
   "execution_count": 59,
   "id": "6c51e149-8c66-4308-97b8-2a0d1a948ffa",
   "metadata": {
    "tags": []
   },
   "outputs": [],
   "source": [
    "ans = 0\n",
    "for i in range(N):\n",
    "    m = An_s[i] % M\n",
    "    li = bisect_left(An_md[m], i)\n",
    "    ri = bisect_left(An_md[m], i+N)\n",
    "    ans += ri - li - 1\n",
    "    # print(i, m, ans, li, ri)"
   ]
  },
  {
   "cell_type": "code",
   "execution_count": 60,
   "id": "6bbb95eb-2815-4567-bb0a-234f8ce7aebb",
   "metadata": {
    "tags": []
   },
   "outputs": [
    {
     "name": "stdout",
     "output_type": "stream",
     "text": [
      "11\n"
     ]
    }
   ],
   "source": [
    "print(ans)"
   ]
  },
  {
   "cell_type": "code",
   "execution_count": 48,
   "id": "9341303a-cdaf-447d-a0af-db9f28b32d89",
   "metadata": {
    "tags": []
   },
   "outputs": [
    {
     "data": {
      "text/plain": [
       "[0, 9, 18, 26, 28, 32, 36, 39, 44, 47, 56, 65, 73, 75, 79, 83, 86, 91, 94]"
      ]
     },
     "execution_count": 48,
     "metadata": {},
     "output_type": "execute_result"
    }
   ],
   "source": [
    "An_s"
   ]
  },
  {
   "cell_type": "code",
   "execution_count": 32,
   "id": "62c2cc11-6725-4907-b97f-8c955bec3d07",
   "metadata": {
    "tags": []
   },
   "outputs": [
    {
     "data": {
      "text/plain": [
       "([9, 18, 26, 28, 32, 36, 39, 44, 47],\n",
       " [4, 3, 1, 3, 2, 1, 4, 4, 2],\n",
       " Counter({4: 3, 3: 2, 1: 2, 2: 2}))"
      ]
     },
     "execution_count": 32,
     "metadata": {},
     "output_type": "execute_result"
    }
   ],
   "source": [
    "An_s, An_ms, An_c"
   ]
  },
  {
   "cell_type": "code",
   "execution_count": 11,
   "id": "dc3826af-a3a5-49a5-a106-f027d176050d",
   "metadata": {
    "tags": []
   },
   "outputs": [
    {
     "data": {
      "text/plain": [
       "0"
      ]
     },
     "execution_count": 11,
     "metadata": {},
     "output_type": "execute_result"
    }
   ],
   "source": [
    "An_c[10]"
   ]
  },
  {
   "cell_type": "code",
   "execution_count": 31,
   "id": "21bbdb66-ae39-4b4b-a13d-a2621c87979f",
   "metadata": {
    "tags": []
   },
   "outputs": [
    {
     "data": {
      "text/plain": [
       "Counter({4: 3, 3: 2, 1: 2, 2: 2})"
      ]
     },
     "execution_count": 31,
     "metadata": {},
     "output_type": "execute_result"
    }
   ],
   "source": [
    "An_c"
   ]
  },
  {
   "cell_type": "code",
   "execution_count": 34,
   "id": "ffb20cfe-383d-4596-94f8-45f43c9e44fe",
   "metadata": {
    "tags": []
   },
   "outputs": [
    {
     "data": {
      "text/plain": [
       "[9, 18, 26, 28, 32, 36, 39, 44, 47, 56, 65, 73, 75, 79, 83, 86, 91, 94]"
      ]
     },
     "execution_count": 34,
     "metadata": {},
     "output_type": "execute_result"
    }
   ],
   "source": [
    "An_s"
   ]
  },
  {
   "cell_type": "code",
   "execution_count": 38,
   "id": "29fd8a45-e0b6-4894-a88a-63643b731d73",
   "metadata": {
    "tags": []
   },
   "outputs": [
    {
     "data": {
      "text/plain": [
       "defaultdict(list,\n",
       "            {0: [0, 11, 13],\n",
       "             4: [1, 7, 8, 14, 18],\n",
       "             3: [2, 4, 12, 15],\n",
       "             1: [3, 6, 10, 16, 17],\n",
       "             2: [5, 9]})"
      ]
     },
     "execution_count": 38,
     "metadata": {},
     "output_type": "execute_result"
    }
   ],
   "source": [
    "An_md"
   ]
  },
  {
   "cell_type": "code",
   "execution_count": 55,
   "id": "2bcc861b-00ac-4053-8921-e343c5965d13",
   "metadata": {
    "tags": []
   },
   "outputs": [
    {
     "data": {
      "text/plain": [
       "[1, 7, 8, 14, 18]"
      ]
     },
     "execution_count": 55,
     "metadata": {},
     "output_type": "execute_result"
    }
   ],
   "source": [
    "An_md[4]"
   ]
  },
  {
   "cell_type": "code",
   "execution_count": null,
   "id": "c6a7c568-0b3e-4494-84f6-74638e122556",
   "metadata": {},
   "outputs": [],
   "source": []
  }
 ],
 "metadata": {
  "kernelspec": {
   "display_name": "Python 3 (ipykernel)",
   "language": "python",
   "name": "python3"
  },
  "language_info": {
   "codemirror_mode": {
    "name": "ipython",
    "version": 3
   },
   "file_extension": ".py",
   "mimetype": "text/x-python",
   "name": "python",
   "nbconvert_exporter": "python",
   "pygments_lexer": "ipython3",
   "version": "3.11.3"
  }
 },
 "nbformat": 4,
 "nbformat_minor": 5
}
