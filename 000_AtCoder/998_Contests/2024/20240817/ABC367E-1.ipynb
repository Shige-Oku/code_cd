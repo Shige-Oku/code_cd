{
 "cells": [
  {
   "cell_type": "code",
   "execution_count": 1,
   "id": "5424cdcf-d69c-4da5-997c-49ee46df0834",
   "metadata": {
    "tags": []
   },
   "outputs": [],
   "source": [
    "import sys\n",
    "import numpy as np\n",
    "import math\n",
    "import collections\n",
    "import copy\n",
    "import decimal\n",
    "import itertools\n",
    "import re\n",
    "import bisect\n",
    "import scipy\n",
    "import heapq\n",
    "from collections import deque \n",
    "from functools import reduce\n",
    "from itertools import product\n",
    "from itertools import combinations\n",
    "from functools import lru_cache\n",
    "from scipy.special import comb\n",
    "from numba import njit\n",
    "from bisect import bisect_right\n",
    "from bisect import bisect_left\n",
    "from atcoder.fenwicktree import FenwickTree\n",
    "from sortedcontainers import SortedList"
   ]
  },
  {
   "cell_type": "code",
   "execution_count": 104,
   "id": "b1490db2-1c49-4764-ab37-88d1eed1b9ed",
   "metadata": {},
   "outputs": [
    {
     "name": "stdin",
     "output_type": "stream",
     "text": [
      " 7 3\n"
     ]
    }
   ],
   "source": [
    "N, K = map(int, input().split())"
   ]
  },
  {
   "cell_type": "code",
   "execution_count": 105,
   "id": "a4baa5ea-ef42-4568-8a0e-29ce637422c1",
   "metadata": {
    "tags": []
   },
   "outputs": [
    {
     "name": "stdin",
     "output_type": "stream",
     "text": [
      " 5 2 6 3 1 4 6\n"
     ]
    }
   ],
   "source": [
    "Xn = list(map(int, input().split()))"
   ]
  },
  {
   "cell_type": "code",
   "execution_count": 106,
   "id": "1de15ba2-ca11-4ec0-bff5-b202a40c15fe",
   "metadata": {
    "tags": []
   },
   "outputs": [
    {
     "name": "stdin",
     "output_type": "stream",
     "text": [
      " 1 2 3 5 7 9 11\n"
     ]
    }
   ],
   "source": [
    "An = list(map(int, input().split()))"
   ]
  },
  {
   "cell_type": "code",
   "execution_count": 107,
   "id": "f6fdb43e-a304-4786-8ae4-7cda25507c61",
   "metadata": {
    "tags": []
   },
   "outputs": [],
   "source": [
    "dp = [[0] * N for _ in range(61)]\n",
    "for i, A in enumerate(An):\n",
    "    dp[0][i] = A"
   ]
  },
  {
   "cell_type": "code",
   "execution_count": 108,
   "id": "ad53edfa-16ae-4f9d-9e71-ec7e29385021",
   "metadata": {
    "tags": []
   },
   "outputs": [],
   "source": [
    "for i in range(1, 61):\n",
    "    for j in range(N):\n",
    "        ne = dp[i-1][dp[i-1]]\n",
    "        dp[i][j] = An[ne]"
   ]
  },
  {
   "cell_type": "code",
   "execution_count": 109,
   "id": "b958d3af-fdf8-43a1-8369-d3ed39fec200",
   "metadata": {
    "tags": []
   },
   "outputs": [],
   "source": [
    "def solve(n):\n",
    "    # cur = dp[0][n]\n",
    "    cur = dp[0][n]\n",
    "    # print(cur)\n",
    "    for i in range(60, -1, -1):\n",
    "        if K >> i & 1 == 0:\n",
    "            continue\n",
    "        cur = dp[i][cur]\n",
    "    return cur"
   ]
  },
  {
   "cell_type": "code",
   "execution_count": 110,
   "id": "1d213a38-c9db-48de-982f-7070d58feecf",
   "metadata": {
    "tags": []
   },
   "outputs": [],
   "source": [
    "ans = [0] * N\n",
    "for i in range(N):\n",
    "    ans[i] = solve(i)"
   ]
  },
  {
   "cell_type": "code",
   "execution_count": 111,
   "id": "6ffca4f6-cb4e-409a-ae46-3c70e6011bc6",
   "metadata": {
    "tags": []
   },
   "outputs": [
    {
     "name": "stdout",
     "output_type": "stream",
     "text": [
      "1 2 9 3 7 5 9 "
     ]
    }
   ],
   "source": [
    "for a in ans:\n",
    "    print(An[a], end=' ')"
   ]
  },
  {
   "cell_type": "code",
   "execution_count": 112,
   "id": "2575e6f1-5074-4279-b544-38ce2828f0c4",
   "metadata": {
    "tags": []
   },
   "outputs": [
    {
     "data": {
      "text/plain": [
       "0"
      ]
     },
     "execution_count": 112,
     "metadata": {},
     "output_type": "execute_result"
    }
   ],
   "source": [
    "solve(0)"
   ]
  },
  {
   "cell_type": "code",
   "execution_count": 68,
   "id": "181f5f98-6f60-48a4-be88-fc3d1f4da131",
   "metadata": {
    "tags": []
   },
   "outputs": [
    {
     "data": {
      "text/plain": [
       "True"
      ]
     },
     "execution_count": 68,
     "metadata": {},
     "output_type": "execute_result"
    }
   ],
   "source": [
    "2**60 > 10**18"
   ]
  },
  {
   "cell_type": "code",
   "execution_count": 75,
   "id": "2b4f30ea-edb2-4566-a506-b73d0c606d46",
   "metadata": {
    "tags": []
   },
   "outputs": [
    {
     "data": {
      "text/plain": [
       "(1, 1)"
      ]
     },
     "execution_count": 75,
     "metadata": {},
     "output_type": "execute_result"
    }
   ],
   "source": [
    "10**18 >> 59 & 1, 2>>1&1"
   ]
  },
  {
   "cell_type": "code",
   "execution_count": 92,
   "id": "14b71e35-d846-4ab5-8004-48694beea8b4",
   "metadata": {
    "tags": []
   },
   "outputs": [
    {
     "data": {
      "text/plain": [
       "[2, 3, 0, 1]"
      ]
     },
     "execution_count": 92,
     "metadata": {},
     "output_type": "execute_result"
    }
   ],
   "source": [
    "ans"
   ]
  },
  {
   "cell_type": "code",
   "execution_count": 38,
   "id": "29ec6a78-2b7d-48f7-bf0d-765a0a895180",
   "metadata": {
    "tags": []
   },
   "outputs": [
    {
     "data": {
      "text/plain": [
       "3"
      ]
     },
     "execution_count": 38,
     "metadata": {},
     "output_type": "execute_result"
    }
   ],
   "source": [
    "An[Xn[dp[1][0]]]"
   ]
  },
  {
   "cell_type": "code",
   "execution_count": 113,
   "id": "2a3a3390-ddd5-472e-ae29-4cade0e4c0a1",
   "metadata": {
    "tags": []
   },
   "outputs": [
    {
     "data": {
      "text/plain": [
       "[[4, 1, 5, 2, 0, 3, 5],\n",
       " [0, 1, 3, 5, 4, 2, 3],\n",
       " [0, 1, 5, 2, 4, 3, 5],\n",
       " [0, 1, 3, 5, 4, 2, 3],\n",
       " [0, 1, 5, 2, 4, 3, 5],\n",
       " [0, 1, 3, 5, 4, 2, 3],\n",
       " [0, 1, 5, 2, 4, 3, 5],\n",
       " [0, 1, 3, 5, 4, 2, 3],\n",
       " [0, 1, 5, 2, 4, 3, 5],\n",
       " [0, 1, 3, 5, 4, 2, 3],\n",
       " [0, 1, 5, 2, 4, 3, 5],\n",
       " [0, 1, 3, 5, 4, 2, 3],\n",
       " [0, 1, 5, 2, 4, 3, 5],\n",
       " [0, 1, 3, 5, 4, 2, 3],\n",
       " [0, 1, 5, 2, 4, 3, 5],\n",
       " [0, 1, 3, 5, 4, 2, 3],\n",
       " [0, 1, 5, 2, 4, 3, 5],\n",
       " [0, 1, 3, 5, 4, 2, 3],\n",
       " [0, 1, 5, 2, 4, 3, 5],\n",
       " [0, 1, 3, 5, 4, 2, 3],\n",
       " [0, 1, 5, 2, 4, 3, 5],\n",
       " [0, 1, 3, 5, 4, 2, 3],\n",
       " [0, 1, 5, 2, 4, 3, 5],\n",
       " [0, 1, 3, 5, 4, 2, 3],\n",
       " [0, 1, 5, 2, 4, 3, 5],\n",
       " [0, 1, 3, 5, 4, 2, 3],\n",
       " [0, 1, 5, 2, 4, 3, 5],\n",
       " [0, 1, 3, 5, 4, 2, 3],\n",
       " [0, 1, 5, 2, 4, 3, 5],\n",
       " [0, 1, 3, 5, 4, 2, 3],\n",
       " [0, 1, 5, 2, 4, 3, 5],\n",
       " [0, 1, 3, 5, 4, 2, 3],\n",
       " [0, 1, 5, 2, 4, 3, 5],\n",
       " [0, 1, 3, 5, 4, 2, 3],\n",
       " [0, 1, 5, 2, 4, 3, 5],\n",
       " [0, 1, 3, 5, 4, 2, 3],\n",
       " [0, 1, 5, 2, 4, 3, 5],\n",
       " [0, 1, 3, 5, 4, 2, 3],\n",
       " [0, 1, 5, 2, 4, 3, 5],\n",
       " [0, 1, 3, 5, 4, 2, 3],\n",
       " [0, 1, 5, 2, 4, 3, 5],\n",
       " [0, 1, 3, 5, 4, 2, 3],\n",
       " [0, 1, 5, 2, 4, 3, 5],\n",
       " [0, 1, 3, 5, 4, 2, 3],\n",
       " [0, 1, 5, 2, 4, 3, 5],\n",
       " [0, 1, 3, 5, 4, 2, 3],\n",
       " [0, 1, 5, 2, 4, 3, 5],\n",
       " [0, 1, 3, 5, 4, 2, 3],\n",
       " [0, 1, 5, 2, 4, 3, 5],\n",
       " [0, 1, 3, 5, 4, 2, 3],\n",
       " [0, 1, 5, 2, 4, 3, 5],\n",
       " [0, 1, 3, 5, 4, 2, 3],\n",
       " [0, 1, 5, 2, 4, 3, 5],\n",
       " [0, 1, 3, 5, 4, 2, 3],\n",
       " [0, 1, 5, 2, 4, 3, 5],\n",
       " [0, 1, 3, 5, 4, 2, 3],\n",
       " [0, 1, 5, 2, 4, 3, 5],\n",
       " [0, 1, 3, 5, 4, 2, 3],\n",
       " [0, 1, 5, 2, 4, 3, 5],\n",
       " [0, 1, 3, 5, 4, 2, 3],\n",
       " [0, 1, 5, 2, 4, 3, 5]]"
      ]
     },
     "execution_count": 113,
     "metadata": {},
     "output_type": "execute_result"
    }
   ],
   "source": [
    "dp"
   ]
  },
  {
   "cell_type": "code",
   "execution_count": 43,
   "id": "fc9b17f6-39ab-439c-b162-a931dac3eaa7",
   "metadata": {
    "tags": []
   },
   "outputs": [
    {
     "data": {
      "text/plain": [
       "0"
      ]
     },
     "execution_count": 43,
     "metadata": {},
     "output_type": "execute_result"
    }
   ],
   "source": [
    "512>>8&1"
   ]
  },
  {
   "cell_type": "code",
   "execution_count": 45,
   "id": "f73fcd64-166a-40c2-be6e-e46edece13f8",
   "metadata": {
    "tags": []
   },
   "outputs": [
    {
     "data": {
      "text/plain": [
       "1"
      ]
     },
     "execution_count": 45,
     "metadata": {},
     "output_type": "execute_result"
    }
   ],
   "source": [
    "1>>0&1"
   ]
  },
  {
   "cell_type": "code",
   "execution_count": null,
   "id": "cbcffc6b-177d-4915-ab03-f47b8990387a",
   "metadata": {},
   "outputs": [],
   "source": []
  }
 ],
 "metadata": {
  "kernelspec": {
   "display_name": "Python 3 (ipykernel)",
   "language": "python",
   "name": "python3"
  },
  "language_info": {
   "codemirror_mode": {
    "name": "ipython",
    "version": 3
   },
   "file_extension": ".py",
   "mimetype": "text/x-python",
   "name": "python",
   "nbconvert_exporter": "python",
   "pygments_lexer": "ipython3",
   "version": "3.11.3"
  }
 },
 "nbformat": 4,
 "nbformat_minor": 5
}
