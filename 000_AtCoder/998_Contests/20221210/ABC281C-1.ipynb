{
 "cells": [
  {
   "cell_type": "code",
   "execution_count": 1,
   "id": "fbceb6b5-ad4a-43cf-80c8-e50ed3de089d",
   "metadata": {},
   "outputs": [],
   "source": [
    "import sys\n",
    "import numpy as np\n",
    "import math\n",
    "import collections\n",
    "import copy\n",
    "import decimal\n",
    "import itertools\n",
    "import re\n",
    "import bisect\n",
    "import scipy\n",
    "import heapq\n",
    "from collections import deque \n",
    "from functools import reduce\n",
    "from itertools import product\n",
    "from itertools import combinations\n",
    "from functools import lru_cache\n",
    "from scipy.special import comb\n",
    "from numba import njit\n",
    "from bisect import bisect_right\n",
    "from bisect import bisect_left"
   ]
  },
  {
   "cell_type": "code",
   "execution_count": 16,
   "id": "49fb6211-c8d4-4505-8307-805b37733f04",
   "metadata": {},
   "outputs": [
    {
     "name": "stdin",
     "output_type": "stream",
     "text": [
      " 10 5678912340\n"
     ]
    }
   ],
   "source": [
    "N, T = map(int, input().split())"
   ]
  },
  {
   "cell_type": "code",
   "execution_count": 17,
   "id": "9c19482e-eb13-43cd-bef2-96578b1dd2b3",
   "metadata": {},
   "outputs": [
    {
     "name": "stdin",
     "output_type": "stream",
     "text": [
      " 1000000000 1000000000 1000000000 1000000000 1000000000 1000000000 1000000000 1000000000 1000000000 1000000000\n"
     ]
    }
   ],
   "source": [
    "An = list(map(int, input().split()))"
   ]
  },
  {
   "cell_type": "code",
   "execution_count": 18,
   "id": "7ed109de-0e19-48f7-adf5-5b7310b707e9",
   "metadata": {},
   "outputs": [],
   "source": [
    "m = T % sum(An)\n",
    "for i, A in enumerate(An):\n",
    "    if A >= m:\n",
    "        break\n",
    "    m -= A"
   ]
  },
  {
   "cell_type": "code",
   "execution_count": 19,
   "id": "14eec019-3ae1-40d8-ae77-12a85bf39653",
   "metadata": {},
   "outputs": [
    {
     "name": "stdout",
     "output_type": "stream",
     "text": [
      "6 678912340\n"
     ]
    }
   ],
   "source": [
    "print(i+1, m)"
   ]
  },
  {
   "cell_type": "code",
   "execution_count": 8,
   "id": "f8dcbe55-f51f-44d7-aedf-a09c474713cd",
   "metadata": {},
   "outputs": [],
   "source": [
    "m = T % sum(An)"
   ]
  },
  {
   "cell_type": "code",
   "execution_count": 9,
   "id": "1f9fc202-722b-45a4-8789-c4680e67a370",
   "metadata": {},
   "outputs": [
    {
     "data": {
      "text/plain": [
       "60"
      ]
     },
     "execution_count": 9,
     "metadata": {},
     "output_type": "execute_result"
    }
   ],
   "source": [
    "m"
   ]
  },
  {
   "cell_type": "code",
   "execution_count": null,
   "id": "8c2c4589-83ad-4646-b741-bbe768ee1eab",
   "metadata": {},
   "outputs": [],
   "source": []
  }
 ],
 "metadata": {
  "kernelspec": {
   "display_name": "Python 3",
   "language": "python",
   "name": "python3"
  },
  "language_info": {
   "codemirror_mode": {
    "name": "ipython",
    "version": 3
   },
   "file_extension": ".py",
   "mimetype": "text/x-python",
   "name": "python",
   "nbconvert_exporter": "python",
   "pygments_lexer": "ipython3",
   "version": "3.6.13"
  }
 },
 "nbformat": 4,
 "nbformat_minor": 5
}
