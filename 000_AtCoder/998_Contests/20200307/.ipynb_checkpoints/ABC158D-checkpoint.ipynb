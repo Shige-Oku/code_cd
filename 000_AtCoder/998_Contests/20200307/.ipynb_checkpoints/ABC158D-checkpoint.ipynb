{
 "cells": [
  {
   "cell_type": "code",
   "execution_count": 1,
   "metadata": {},
   "outputs": [],
   "source": [
    "# TLE\n",
    "import sys\n",
    "import numpy as np\n",
    "\n",
    "# input = sys.stdin.readline"
   ]
  },
  {
   "cell_type": "code",
   "execution_count": 16,
   "metadata": {},
   "outputs": [
    {
     "name": "stdin",
     "output_type": "stream",
     "text": [
      " a\n"
     ]
    }
   ],
   "source": [
    "s = list(input())"
   ]
  },
  {
   "cell_type": "code",
   "execution_count": 17,
   "metadata": {},
   "outputs": [
    {
     "name": "stdin",
     "output_type": "stream",
     "text": [
      " 4\n"
     ]
    }
   ],
   "source": [
    "n = int(input())"
   ]
  },
  {
   "cell_type": "code",
   "execution_count": 19,
   "metadata": {},
   "outputs": [
    {
     "name": "stdin",
     "output_type": "stream",
     "text": [
      " 1\n",
      " 1\n",
      " 1\n",
      " 1\n"
     ]
    }
   ],
   "source": [
    "reverse = False\n",
    "for ii in range(n):\n",
    "    q = input()\n",
    "#     print(\"\".join(s))\n",
    "    if q[0] == \"1\":\n",
    "        reverse += 1\n",
    "        reverse %= 2\n",
    "#         s = s[::-1]\n",
    "    else:\n",
    "        t, f, c = q.split()\n",
    "        if f == \"1\":\n",
    "            if reverse:\n",
    "                s.append(c)\n",
    "            else:\n",
    "                s.insert(0, c)\n",
    "        else:\n",
    "            if reverse:\n",
    "                s.insert(0, c)\n",
    "            else:\n",
    "                s.append(c)"
   ]
  },
  {
   "cell_type": "code",
   "execution_count": 20,
   "metadata": {},
   "outputs": [
    {
     "name": "stdout",
     "output_type": "stream",
     "text": [
      "cpa\n"
     ]
    }
   ],
   "source": [
    "if reverse:\n",
    "    s = s[::-1]\n",
    "print(\"\".join(s))"
   ]
  },
  {
   "cell_type": "code",
   "execution_count": null,
   "metadata": {},
   "outputs": [],
   "source": []
  },
  {
   "cell_type": "code",
   "execution_count": null,
   "metadata": {},
   "outputs": [],
   "source": []
  }
 ],
 "metadata": {
  "kernelspec": {
   "display_name": "Python 3",
   "language": "python",
   "name": "python3"
  },
  "language_info": {
   "codemirror_mode": {
    "name": "ipython",
    "version": 3
   },
   "file_extension": ".py",
   "mimetype": "text/x-python",
   "name": "python",
   "nbconvert_exporter": "python",
   "pygments_lexer": "ipython3",
   "version": "3.6.7"
  }
 },
 "nbformat": 4,
 "nbformat_minor": 2
}
