{
 "cells": [
  {
   "cell_type": "code",
   "execution_count": 1,
   "metadata": {},
   "outputs": [],
   "source": [
    "# TLE => list の append(), insert(0, ) が遅い。\n",
    "# 2020/03/09 deque に変更\n",
    "import sys\n",
    "import numpy as np\n",
    "from collections import deque\n",
    "\n",
    "# input = sys.stdin.readline"
   ]
  },
  {
   "cell_type": "code",
   "execution_count": 5,
   "metadata": {},
   "outputs": [
    {
     "name": "stdin",
     "output_type": "stream",
     "text": [
      " ab\n"
     ]
    }
   ],
   "source": [
    "s = list(input())"
   ]
  },
  {
   "cell_type": "code",
   "execution_count": 6,
   "metadata": {},
   "outputs": [
    {
     "name": "stdin",
     "output_type": "stream",
     "text": [
      " 4\n"
     ]
    }
   ],
   "source": [
    "n = int(input())"
   ]
  },
  {
   "cell_type": "code",
   "execution_count": 7,
   "metadata": {},
   "outputs": [],
   "source": [
    "d = deque(s)"
   ]
  },
  {
   "cell_type": "code",
   "execution_count": 8,
   "metadata": {},
   "outputs": [
    {
     "name": "stdin",
     "output_type": "stream",
     "text": [
      " 2 1 p\n",
      " 1\n",
      " 2 2 c\n",
      " 1\n"
     ]
    }
   ],
   "source": [
    "reverse = False\n",
    "for ii in range(n):\n",
    "    q = input()\n",
    "#     print(\"\".join(s))\n",
    "    if q[0] == \"1\":\n",
    "        reverse += 1\n",
    "        reverse %= 2\n",
    "#         s = s[::-1]\n",
    "    else:\n",
    "        t, f, c = q.split()\n",
    "        if f == \"1\":\n",
    "            if reverse:\n",
    "                d.append(c)\n",
    "            else:\n",
    "                d.appendleft(c)\n",
    "        else:\n",
    "            if reverse:\n",
    "                d.appendleft(c)\n",
    "            else:\n",
    "                d.append(c)\n",
    "                "
   ]
  },
  {
   "cell_type": "code",
   "execution_count": 10,
   "metadata": {},
   "outputs": [
    {
     "name": "stdout",
     "output_type": "stream",
     "text": [
      "cpab\n"
     ]
    }
   ],
   "source": [
    "if reverse:\n",
    "    d.reverse()\n",
    "print(\"\".join(d))"
   ]
  },
  {
   "cell_type": "code",
   "execution_count": null,
   "metadata": {},
   "outputs": [],
   "source": []
  },
  {
   "cell_type": "code",
   "execution_count": null,
   "metadata": {},
   "outputs": [],
   "source": []
  }
 ],
 "metadata": {
  "kernelspec": {
   "display_name": "Python 3",
   "language": "python",
   "name": "python3"
  },
  "language_info": {
   "codemirror_mode": {
    "name": "ipython",
    "version": 3
   },
   "file_extension": ".py",
   "mimetype": "text/x-python",
   "name": "python",
   "nbconvert_exporter": "python",
   "pygments_lexer": "ipython3",
   "version": "3.6.7"
  }
 },
 "nbformat": 4,
 "nbformat_minor": 2
}
