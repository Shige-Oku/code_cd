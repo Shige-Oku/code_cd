{
 "cells": [
  {
   "cell_type": "code",
   "execution_count": 1,
   "id": "5f7eed5c-f7a0-419a-90b5-ef4d292d4388",
   "metadata": {},
   "outputs": [],
   "source": [
    "import sys\n",
    "import numpy as np\n",
    "import math\n",
    "import collections\n",
    "import copy\n",
    "import decimal\n",
    "import itertools\n",
    "import re\n",
    "import bisect\n",
    "import scipy\n",
    "import heapq\n",
    "from collections import deque \n",
    "from functools import reduce\n",
    "from itertools import product\n",
    "from itertools import combinations\n",
    "from functools import lru_cache\n",
    "from scipy.special import comb\n",
    "from numba import njit\n",
    "from bisect import bisect_right\n",
    "from bisect import bisect_left"
   ]
  },
  {
   "cell_type": "code",
   "execution_count": 2,
   "id": "5a8b93a7-952c-4e40-ab1e-e31e627c4c8e",
   "metadata": {},
   "outputs": [
    {
     "name": "stdin",
     "output_type": "stream",
     "text": [
      " 3 11\n"
     ]
    }
   ],
   "source": [
    "N, S = map(int, input().split())"
   ]
  },
  {
   "cell_type": "code",
   "execution_count": 5,
   "id": "251c704a-505d-4fac-8cc4-01e5a0289f4b",
   "metadata": {},
   "outputs": [
    {
     "name": "stdin",
     "output_type": "stream",
     "text": [
      " 1 4\n",
      " 2 3\n",
      " 5 7\n"
     ]
    }
   ],
   "source": [
    "ABn = [list(map(int, input().split())) for _ in range(N)]"
   ]
  },
  {
   "cell_type": "code",
   "execution_count": 10,
   "id": "0b9ce42f-5756-42f2-a75f-e26641f4e8c4",
   "metadata": {},
   "outputs": [],
   "source": [
    "dp = [[False] * (S+1) for _ in range(N+1)]\n",
    "dp[0][0] = True\n",
    "for i, (A, B) in enumerate(ABn, 1):\n",
    "    for j in range(S+1):\n",
    "        if not dp[i-1][j]:\n",
    "            continue\n",
    "        if j + A <= S:\n",
    "            dp[i][j+A] = True\n",
    "        if j + B <= S:\n",
    "            dp[i][j+B] = True\n"
   ]
  },
  {
   "cell_type": "code",
   "execution_count": 22,
   "id": "38a52d35-4978-4132-a1d5-e5f590f96271",
   "metadata": {},
   "outputs": [
    {
     "name": "stdout",
     "output_type": "stream",
     "text": [
      "Yes\n",
      "THH\n"
     ]
    }
   ],
   "source": [
    "if dp[-1][S]:\n",
    "    print('Yes')\n",
    "    m = ''\n",
    "    p = S\n",
    "    for i in range(N, 0, -1):\n",
    "        A, B = ABn[i-1]\n",
    "        if dp[i-1][p-A]:\n",
    "            m += 'H'\n",
    "            p -= A\n",
    "        else:\n",
    "            m += 'T'\n",
    "            p -= B\n",
    "    print(m[::-1])\n",
    "else:\n",
    "    print('No')"
   ]
  },
  {
   "cell_type": "code",
   "execution_count": 11,
   "id": "2cf580ab-637c-4fb5-afc4-1de8e61cdd85",
   "metadata": {},
   "outputs": [
    {
     "data": {
      "text/plain": [
       "(3, 11, 5)"
      ]
     },
     "execution_count": 11,
     "metadata": {},
     "output_type": "execute_result"
    }
   ],
   "source": [
    "i, j, A"
   ]
  },
  {
   "cell_type": "code",
   "execution_count": 21,
   "id": "80ea5383-356d-48a1-aa5c-a76e2b1f4a54",
   "metadata": {},
   "outputs": [
    {
     "data": {
      "text/plain": [
       "(True, True, True)"
      ]
     },
     "execution_count": 21,
     "metadata": {},
     "output_type": "execute_result"
    }
   ],
   "source": [
    "dp[-1][S], dp[-2][S-5], dp[-2][S-7]"
   ]
  },
  {
   "cell_type": "code",
   "execution_count": 19,
   "id": "83f54937-832e-4a5d-b69d-a2aae10d4254",
   "metadata": {},
   "outputs": [
    {
     "data": {
      "text/plain": [
       "[[True,\n",
       "  False,\n",
       "  False,\n",
       "  False,\n",
       "  False,\n",
       "  False,\n",
       "  False,\n",
       "  False,\n",
       "  False,\n",
       "  False,\n",
       "  False,\n",
       "  False],\n",
       " [False,\n",
       "  True,\n",
       "  False,\n",
       "  False,\n",
       "  True,\n",
       "  False,\n",
       "  False,\n",
       "  False,\n",
       "  False,\n",
       "  False,\n",
       "  False,\n",
       "  False],\n",
       " [False,\n",
       "  False,\n",
       "  False,\n",
       "  True,\n",
       "  True,\n",
       "  False,\n",
       "  True,\n",
       "  True,\n",
       "  False,\n",
       "  False,\n",
       "  False,\n",
       "  False],\n",
       " [False,\n",
       "  False,\n",
       "  False,\n",
       "  False,\n",
       "  False,\n",
       "  False,\n",
       "  False,\n",
       "  False,\n",
       "  True,\n",
       "  True,\n",
       "  True,\n",
       "  True]]"
      ]
     },
     "execution_count": 19,
     "metadata": {},
     "output_type": "execute_result"
    }
   ],
   "source": [
    "dp"
   ]
  },
  {
   "cell_type": "code",
   "execution_count": null,
   "id": "10aa86e7-a9cf-4470-b505-9188b2207eee",
   "metadata": {},
   "outputs": [],
   "source": []
  }
 ],
 "metadata": {
  "kernelspec": {
   "display_name": "Python 3",
   "language": "python",
   "name": "python3"
  },
  "language_info": {
   "codemirror_mode": {
    "name": "ipython",
    "version": 3
   },
   "file_extension": ".py",
   "mimetype": "text/x-python",
   "name": "python",
   "nbconvert_exporter": "python",
   "pygments_lexer": "ipython3",
   "version": "3.6.13"
  }
 },
 "nbformat": 4,
 "nbformat_minor": 5
}
