{
 "cells": [
  {
   "cell_type": "code",
   "execution_count": 1,
   "id": "87df699a-86cf-4612-98cd-ea359deb3bd1",
   "metadata": {},
   "outputs": [],
   "source": [
    "import sys\n",
    "import numpy as np\n",
    "import math\n",
    "import collections\n",
    "import copy\n",
    "import decimal\n",
    "import itertools\n",
    "import re\n",
    "import bisect\n",
    "import scipy\n",
    "import heapq\n",
    "from collections import deque \n",
    "from functools import reduce\n",
    "from itertools import product\n",
    "from itertools import combinations\n",
    "from functools import lru_cache\n",
    "from scipy.special import comb\n",
    "from numba import njit\n",
    "from bisect import bisect_right\n",
    "from bisect import bisect_left"
   ]
  },
  {
   "cell_type": "code",
   "execution_count": 47,
   "id": "15e51611-3841-47b8-bd1c-f56edfc6b922",
   "metadata": {},
   "outputs": [
    {
     "name": "stdin",
     "output_type": "stream",
     "text": [
      " 2 1000000000000\n"
     ]
    }
   ],
   "source": [
    "N, K = map(int, input().split())"
   ]
  },
  {
   "cell_type": "code",
   "execution_count": 48,
   "id": "84a6f10a-4063-4be1-bda7-941c598b5e21",
   "metadata": {},
   "outputs": [
    {
     "name": "stdin",
     "output_type": "stream",
     "text": [
      " 1000000000000 1000000000000\n"
     ]
    }
   ],
   "source": [
    "An = list(map(int, input().split()))"
   ]
  },
  {
   "cell_type": "code",
   "execution_count": 49,
   "id": "fb5bde61-3041-4acb-bdcd-31c12f8dddd3",
   "metadata": {},
   "outputs": [],
   "source": [
    "from collections import Counter\n",
    "from itertools import accumulate\n",
    "An_c = Counter(An)\n",
    "del An_c[0]\n",
    "An_s = sorted(An_c.keys())\n",
    "An_ss = sorted(list(An_c.items()), reverse=True)\n",
    "An_cum = [0, ]\n",
    "for k, v in An_ss:\n",
    "    An_cum.append(An_cum[-1]+v)\n",
    "An_cum = An_cum[::-1]"
   ]
  },
  {
   "cell_type": "code",
   "execution_count": null,
   "id": "883729b8-9ed2-42a6-8a4f-9d3ec969bf7f",
   "metadata": {},
   "outputs": [],
   "source": [
    "from bisect import bisect_left\n",
    "eat = 0\n",
    "cnt = 0\n",
    "for i in range(1, K+1):\n",
    "    idx = bisect_left(An_s, i)\n",
    "    if i == An_s[idx]:\n",
    "        s = An_cum[idx]\n",
    "    else:\n",
    "        s = An_cum[idx-1]\n",
    "    if eat + s >= K:\n",
    "        break\n",
    "    eat += s\n",
    "    cnt += 1\n"
   ]
  },
  {
   "cell_type": "code",
   "execution_count": null,
   "id": "b7680aec-2ba5-4cf7-857d-77ced390d294",
   "metadata": {},
   "outputs": [],
   "source": [
    "f = K - eat\n",
    "for A in An:\n",
    "    if A == i+1 and f > 0:\n",
    "        print(max(0, A-cnt-1))\n",
    "    else:\n",
    "        print(max(0, A-cnt))\n",
    "        "
   ]
  },
  {
   "cell_type": "code",
   "execution_count": 45,
   "id": "f0af251a-6958-4bd6-8da8-90b22a261a16",
   "metadata": {},
   "outputs": [
    {
     "data": {
      "text/plain": [
       "(Counter({1: 1, 3: 1}), [1, 3], 2)"
      ]
     },
     "execution_count": 45,
     "metadata": {},
     "output_type": "execute_result"
    }
   ],
   "source": [
    "An_c, An_s, i"
   ]
  },
  {
   "cell_type": "code",
   "execution_count": 44,
   "id": "f8b3989c-2e4a-4d10-95eb-859d8fcd793b",
   "metadata": {},
   "outputs": [
    {
     "data": {
      "text/plain": [
       "(2, 1, 1, 1)"
      ]
     },
     "execution_count": 44,
     "metadata": {},
     "output_type": "execute_result"
    }
   ],
   "source": [
    "eat, cnt, idx, f"
   ]
  },
  {
   "cell_type": "code",
   "execution_count": 33,
   "id": "4941ac2c-3316-43fe-8f6d-f59d2906c151",
   "metadata": {},
   "outputs": [
    {
     "data": {
      "text/plain": [
       "1"
      ]
     },
     "execution_count": 33,
     "metadata": {},
     "output_type": "execute_result"
    }
   ],
   "source": [
    "An_c[3]"
   ]
  },
  {
   "cell_type": "code",
   "execution_count": 39,
   "id": "8504e13d-5981-4524-a13f-ca7e53d5a485",
   "metadata": {},
   "outputs": [
    {
     "data": {
      "text/plain": [
       "[2, 1, 0]"
      ]
     },
     "execution_count": 39,
     "metadata": {},
     "output_type": "execute_result"
    }
   ],
   "source": [
    "An_cum"
   ]
  },
  {
   "cell_type": "code",
   "execution_count": null,
   "id": "fac80610-7e73-4453-b322-8455679ac68d",
   "metadata": {},
   "outputs": [],
   "source": []
  }
 ],
 "metadata": {
  "kernelspec": {
   "display_name": "Python 3",
   "language": "python",
   "name": "python3"
  },
  "language_info": {
   "codemirror_mode": {
    "name": "ipython",
    "version": 3
   },
   "file_extension": ".py",
   "mimetype": "text/x-python",
   "name": "python",
   "nbconvert_exporter": "python",
   "pygments_lexer": "ipython3",
   "version": "3.6.13"
  }
 },
 "nbformat": 4,
 "nbformat_minor": 5
}
