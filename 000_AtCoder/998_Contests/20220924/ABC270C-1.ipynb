{
 "cells": [
  {
   "cell_type": "code",
   "execution_count": 1,
   "id": "dba820fe-5d0d-4857-b021-76153f30152a",
   "metadata": {},
   "outputs": [],
   "source": [
    "import sys\n",
    "import numpy as np\n",
    "import math\n",
    "import collections\n",
    "import copy\n",
    "import decimal\n",
    "import itertools\n",
    "import re\n",
    "import bisect\n",
    "import scipy\n",
    "import heapq\n",
    "from collections import deque \n",
    "from functools import reduce\n",
    "from itertools import product\n",
    "from itertools import combinations\n",
    "from functools import lru_cache\n",
    "from scipy.special import comb\n",
    "from numba import njit\n",
    "from bisect import bisect_right\n",
    "from bisect import bisect_left"
   ]
  },
  {
   "cell_type": "code",
   "execution_count": 2,
   "id": "adc65feb-c4cf-4c3f-b860-3c4d02d235d3",
   "metadata": {},
   "outputs": [
    {
     "name": "stdin",
     "output_type": "stream",
     "text": [
      " 5 2 5\n"
     ]
    }
   ],
   "source": [
    "N, X, Y = map(int, input().split())"
   ]
  },
  {
   "cell_type": "code",
   "execution_count": 3,
   "id": "11f8956a-fa27-4bae-9b8a-9e3f6d45e905",
   "metadata": {},
   "outputs": [
    {
     "name": "stdin",
     "output_type": "stream",
     "text": [
      " 1 2\n",
      " 1 3\n",
      " 3 4\n",
      " 3 5\n"
     ]
    }
   ],
   "source": [
    "UVn = [list(map(int, input().split())) for _ in range(N-1)]"
   ]
  },
  {
   "cell_type": "code",
   "execution_count": 6,
   "id": "819e6d1b-af7c-408a-b5e0-6acd6c9625fb",
   "metadata": {},
   "outputs": [],
   "source": [
    "graph = [[] for _ in range(N+1)]\n",
    "for U, V in UVn:\n",
    "    graph[U].append(V)\n",
    "    graph[V].append(U)"
   ]
  },
  {
   "cell_type": "code",
   "execution_count": 19,
   "id": "29427d23-e41d-41d4-9bb9-5b2d546015e2",
   "metadata": {},
   "outputs": [],
   "source": [
    "import sys\n",
    "sys.setrecursionlimit(10**6)\n",
    "def DFS(n):\n",
    "    visit[n] = True\n",
    "    if n == Y:\n",
    "        ans.append(n)\n",
    "        return n\n",
    "    for t in graph[n]:\n",
    "        if visit[t]:\n",
    "            continue\n",
    "        ret = DFS(t)\n",
    "        if ret > 0:\n",
    "            ans.append(n)\n",
    "            return n\n",
    "    return -1"
   ]
  },
  {
   "cell_type": "code",
   "execution_count": 22,
   "id": "524e2700-d764-4d46-8b14-007fabe6665d",
   "metadata": {},
   "outputs": [],
   "source": [
    "visit = [False] * (N+1)\n",
    "ans = []\n",
    "ret = DFS(X)"
   ]
  },
  {
   "cell_type": "code",
   "execution_count": 23,
   "id": "785aed4b-39ee-425a-8c65-1399622ea180",
   "metadata": {},
   "outputs": [
    {
     "name": "stdout",
     "output_type": "stream",
     "text": [
      "2 1 3 5\n"
     ]
    }
   ],
   "source": [
    "print(*ans[::-1])"
   ]
  },
  {
   "cell_type": "code",
   "execution_count": null,
   "id": "09cca908-11ae-4a5f-a152-0f971eb6ce10",
   "metadata": {},
   "outputs": [],
   "source": []
  },
  {
   "cell_type": "code",
   "execution_count": 11,
   "id": "acfb0d8f-013d-4e41-a6be-a1ff44ca9e52",
   "metadata": {},
   "outputs": [],
   "source": [
    "from collections import deque\n",
    "root = []\n",
    "visit = [False] * (N+1)\n",
    "q = deque()\n",
    "q.append(X)\n",
    "visit[X] = True\n",
    "root.append(X)\n",
    "while q:\n",
    "    p = q.popleft()\n",
    "    if p == Y:\n",
    "        break\n",
    "    for n in graph[p]:\n",
    "        if visit[n]:\n",
    "            continue\n",
    "        visit[n] = True\n",
    "        q.append(n)\n",
    "        root.append(n)"
   ]
  },
  {
   "cell_type": "code",
   "execution_count": 12,
   "id": "18572081-5020-4192-b967-0ad1fa9d2d21",
   "metadata": {},
   "outputs": [
    {
     "data": {
      "text/plain": [
       "[2, 1, 3, 4, 5]"
      ]
     },
     "execution_count": 12,
     "metadata": {},
     "output_type": "execute_result"
    }
   ],
   "source": [
    "root"
   ]
  },
  {
   "cell_type": "code",
   "execution_count": 10,
   "id": "92490dff-c31b-4c3e-80ad-4220698f6305",
   "metadata": {},
   "outputs": [
    {
     "data": {
      "text/plain": [
       "[[], [2, 3], [1], [1, 4, 5], [3], [3]]"
      ]
     },
     "execution_count": 10,
     "metadata": {},
     "output_type": "execute_result"
    }
   ],
   "source": [
    "graph"
   ]
  },
  {
   "cell_type": "code",
   "execution_count": null,
   "id": "a59b8662-5658-40c8-ae2b-ae41f2c753f1",
   "metadata": {},
   "outputs": [],
   "source": []
  }
 ],
 "metadata": {
  "kernelspec": {
   "display_name": "Python 3",
   "language": "python",
   "name": "python3"
  },
  "language_info": {
   "codemirror_mode": {
    "name": "ipython",
    "version": 3
   },
   "file_extension": ".py",
   "mimetype": "text/x-python",
   "name": "python",
   "nbconvert_exporter": "python",
   "pygments_lexer": "ipython3",
   "version": "3.6.13"
  }
 },
 "nbformat": 4,
 "nbformat_minor": 5
}
