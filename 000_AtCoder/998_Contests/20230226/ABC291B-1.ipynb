{
 "cells": [
  {
   "cell_type": "code",
   "execution_count": 1,
   "id": "ed32a862-87fa-425b-9c43-2b9a8f423e10",
   "metadata": {},
   "outputs": [],
   "source": [
    "import sys\n",
    "import numpy as np\n",
    "import math\n",
    "import collections\n",
    "import copy\n",
    "import decimal\n",
    "import itertools\n",
    "import re\n",
    "import bisect\n",
    "import scipy\n",
    "import heapq\n",
    "from collections import deque \n",
    "from functools import reduce\n",
    "from itertools import product\n",
    "from itertools import combinations\n",
    "from functools import lru_cache\n",
    "from scipy.special import comb\n",
    "from numba import njit\n",
    "from bisect import bisect_right\n",
    "from bisect import bisect_left"
   ]
  },
  {
   "cell_type": "code",
   "execution_count": 15,
   "id": "e6dd9fc8-e441-420e-8385-d784bf18043b",
   "metadata": {},
   "outputs": [
    {
     "name": "stdin",
     "output_type": "stream",
     "text": [
      " 2\n"
     ]
    }
   ],
   "source": [
    "N = int(input())"
   ]
  },
  {
   "cell_type": "code",
   "execution_count": 16,
   "id": "93f3bef5-5aa9-4807-8253-0b83f528b4b1",
   "metadata": {},
   "outputs": [
    {
     "name": "stdin",
     "output_type": "stream",
     "text": [
      " 3 3 3 4 5 6 7 8 99 100\n"
     ]
    }
   ],
   "source": [
    "Xn = list(map(int, input().split()))"
   ]
  },
  {
   "cell_type": "code",
   "execution_count": 17,
   "id": "f00e9f86-9264-4a13-a564-f4df1b047734",
   "metadata": {},
   "outputs": [],
   "source": [
    "Xn_s = sorted(Xn)\n",
    "Xn2 = Xn_s[N:N*4]"
   ]
  },
  {
   "cell_type": "code",
   "execution_count": 18,
   "id": "dda7d862-e216-4d4a-a436-df8a063ccd5c",
   "metadata": {},
   "outputs": [
    {
     "name": "stdout",
     "output_type": "stream",
     "text": [
      "5.5\n"
     ]
    }
   ],
   "source": [
    "print(sum(Xn2) / len(Xn2))"
   ]
  },
  {
   "cell_type": "code",
   "execution_count": 12,
   "id": "29baac0b-e8a6-4e84-bbfa-0687597fd559",
   "metadata": {},
   "outputs": [
    {
     "data": {
      "text/plain": [
       "[100, 20, 50]"
      ]
     },
     "execution_count": 12,
     "metadata": {},
     "output_type": "execute_result"
    }
   ],
   "source": [
    "Xn2"
   ]
  },
  {
   "cell_type": "code",
   "execution_count": null,
   "id": "f53bf4a2-110d-43fa-8632-3bdf7e117833",
   "metadata": {},
   "outputs": [],
   "source": []
  }
 ],
 "metadata": {
  "kernelspec": {
   "display_name": "Python 3",
   "language": "python",
   "name": "python3"
  },
  "language_info": {
   "codemirror_mode": {
    "name": "ipython",
    "version": 3
   },
   "file_extension": ".py",
   "mimetype": "text/x-python",
   "name": "python",
   "nbconvert_exporter": "python",
   "pygments_lexer": "ipython3",
   "version": "3.6.13"
  }
 },
 "nbformat": 4,
 "nbformat_minor": 5
}
