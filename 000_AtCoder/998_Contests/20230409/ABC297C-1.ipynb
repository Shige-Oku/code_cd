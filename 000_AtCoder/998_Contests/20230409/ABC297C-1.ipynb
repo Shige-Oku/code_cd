{
 "cells": [
  {
   "cell_type": "code",
   "execution_count": 1,
   "id": "1efa21ba-0365-498e-8939-46494ccfce30",
   "metadata": {},
   "outputs": [],
   "source": [
    "import sys\n",
    "import numpy as np\n",
    "import math\n",
    "import collections\n",
    "import copy\n",
    "import decimal\n",
    "import itertools\n",
    "import re\n",
    "import bisect\n",
    "import scipy\n",
    "import heapq\n",
    "from collections import deque \n",
    "from functools import reduce\n",
    "from itertools import product\n",
    "from itertools import combinations\n",
    "from functools import lru_cache\n",
    "from scipy.special import comb\n",
    "from numba import njit\n",
    "from bisect import bisect_right\n",
    "from bisect import bisect_left"
   ]
  },
  {
   "cell_type": "code",
   "execution_count": 19,
   "id": "513d5deb-219b-4c9e-9103-1780b5b6d32b",
   "metadata": {},
   "outputs": [
    {
     "name": "stdin",
     "output_type": "stream",
     "text": [
      " 3 5\n"
     ]
    }
   ],
   "source": [
    "H, W = map(int, input().split())"
   ]
  },
  {
   "cell_type": "code",
   "execution_count": 20,
   "id": "833d9063-33b6-4f67-82f4-0a705f446e8a",
   "metadata": {},
   "outputs": [
    {
     "name": "stdin",
     "output_type": "stream",
     "text": [
      " TTT..\n",
      " .TTT.\n",
      " TTTTT\n"
     ]
    }
   ],
   "source": [
    "Sh = [input() for _ in range(H)]"
   ]
  },
  {
   "cell_type": "code",
   "execution_count": 21,
   "id": "881377f9-3bbd-4c4f-87fd-6b09cff2c055",
   "metadata": {},
   "outputs": [],
   "source": [
    "ans = []\n",
    "i, j = 0, 0\n",
    "while i < H:\n",
    "    s = ''\n",
    "    j = 0\n",
    "    while j < W-1:\n",
    "        if Sh[i][j] == Sh[i][j+1] == 'T':\n",
    "            s += 'PC'\n",
    "            j += 1\n",
    "        else:\n",
    "            s += Sh[i][j]\n",
    "        j += 1\n",
    "    else:\n",
    "        if len(s) != W:\n",
    "            s += Sh[i][j] \n",
    "    ans.append(s)\n",
    "    i += 1"
   ]
  },
  {
   "cell_type": "code",
   "execution_count": 22,
   "id": "bdbf797a-9e8c-4eb2-9503-b1702668111b",
   "metadata": {},
   "outputs": [
    {
     "name": "stdout",
     "output_type": "stream",
     "text": [
      "PCT..\n",
      ".PCT.\n",
      "PCPCT\n"
     ]
    }
   ],
   "source": [
    "for a in ans:\n",
    "    print(a)"
   ]
  },
  {
   "cell_type": "code",
   "execution_count": 23,
   "id": "42a496fe-38b2-458f-b567-fbf1ad40485e",
   "metadata": {},
   "outputs": [
    {
     "name": "stdout",
     "output_type": "stream",
     "text": [
      "PCT..\n",
      ".PCT.\n",
      "PCPCT\n"
     ]
    }
   ],
   "source": [
    "for S in Sh:\n",
    "    print(S.replace('TT', 'PC'))"
   ]
  },
  {
   "cell_type": "code",
   "execution_count": 16,
   "id": "90002ae4-d942-44ba-a494-eb927f68ef74",
   "metadata": {},
   "outputs": [
    {
     "data": {
      "text/plain": [
       "['PCT', 'T.T']"
      ]
     },
     "execution_count": 16,
     "metadata": {},
     "output_type": "execute_result"
    }
   ],
   "source": [
    "ans"
   ]
  },
  {
   "cell_type": "code",
   "execution_count": 17,
   "id": "688da292-2707-4fca-9453-9417197dd1ac",
   "metadata": {},
   "outputs": [
    {
     "data": {
      "text/plain": [
       "(2, 2)"
      ]
     },
     "execution_count": 17,
     "metadata": {},
     "output_type": "execute_result"
    }
   ],
   "source": [
    "i, j"
   ]
  },
  {
   "cell_type": "code",
   "execution_count": 14,
   "id": "decc53ba-685f-4439-8eca-fc4bd5cf6a7b",
   "metadata": {},
   "outputs": [
    {
     "data": {
      "text/plain": [
       "'PC'"
      ]
     },
     "execution_count": 14,
     "metadata": {},
     "output_type": "execute_result"
    }
   ],
   "source": [
    "s"
   ]
  },
  {
   "cell_type": "code",
   "execution_count": null,
   "id": "642102f7-30c5-4e15-9933-80597265f6e0",
   "metadata": {},
   "outputs": [],
   "source": []
  }
 ],
 "metadata": {
  "kernelspec": {
   "display_name": "Python 3",
   "language": "python",
   "name": "python3"
  },
  "language_info": {
   "codemirror_mode": {
    "name": "ipython",
    "version": 3
   },
   "file_extension": ".py",
   "mimetype": "text/x-python",
   "name": "python",
   "nbconvert_exporter": "python",
   "pygments_lexer": "ipython3",
   "version": "3.6.13"
  }
 },
 "nbformat": 4,
 "nbformat_minor": 5
}
