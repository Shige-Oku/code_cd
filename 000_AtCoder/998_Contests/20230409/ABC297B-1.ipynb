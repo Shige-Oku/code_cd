{
 "cells": [
  {
   "cell_type": "code",
   "execution_count": 1,
   "id": "1627d969-a996-4aa4-bc62-425b97a04656",
   "metadata": {},
   "outputs": [],
   "source": [
    "import sys\n",
    "import numpy as np\n",
    "import math\n",
    "import collections\n",
    "import copy\n",
    "import decimal\n",
    "import itertools\n",
    "import re\n",
    "import bisect\n",
    "import scipy\n",
    "import heapq\n",
    "from collections import deque \n",
    "from functools import reduce\n",
    "from itertools import product\n",
    "from itertools import combinations\n",
    "from functools import lru_cache\n",
    "from scipy.special import comb\n",
    "from numba import njit\n",
    "from bisect import bisect_right\n",
    "from bisect import bisect_left"
   ]
  },
  {
   "cell_type": "code",
   "execution_count": 14,
   "id": "6b7b0e55-3516-442c-ba28-1cf47a614509",
   "metadata": {},
   "outputs": [
    {
     "name": "stdin",
     "output_type": "stream",
     "text": [
      " BRKRBQNN\n"
     ]
    }
   ],
   "source": [
    "S = input()"
   ]
  },
  {
   "cell_type": "code",
   "execution_count": 15,
   "id": "88d76be0-076e-4ff3-9672-a489918a32f4",
   "metadata": {},
   "outputs": [],
   "source": [
    "def check():\n",
    "    b1, b2 = -1, -1\n",
    "    for i, s in enumerate(S):\n",
    "        if s == 'B':\n",
    "            if b1 == -1:\n",
    "                b1 = i\n",
    "            else:\n",
    "                b2 = i\n",
    "    if b1 % 2 == b2 % 2:\n",
    "        return False\n",
    "    \n",
    "    r1, r2 = -1, -1\n",
    "    k = -1\n",
    "    for i, s in enumerate(S):\n",
    "        if s == 'R':\n",
    "            if r1 == -1:\n",
    "                r1 = i\n",
    "            else:\n",
    "                r2 = i\n",
    "        if s == 'K':\n",
    "            k = i\n",
    "    \n",
    "    return r1 <= k <= r2"
   ]
  },
  {
   "cell_type": "code",
   "execution_count": 18,
   "id": "aade412e-6b37-4b73-a01a-71a8f07cd665",
   "metadata": {},
   "outputs": [
    {
     "name": "stdout",
     "output_type": "stream",
     "text": [
      "No\n"
     ]
    }
   ],
   "source": [
    "print('Yes' if check() else 'No')"
   ]
  },
  {
   "cell_type": "code",
   "execution_count": 17,
   "id": "2d2709fb-835a-450d-acd0-4df27ed6e7fc",
   "metadata": {},
   "outputs": [],
   "source": [
    "def check():\n",
    "    bl = S.find('B')\n",
    "    br = S.rfind('B')\n",
    "    rl = S.find('R')\n",
    "    rr = S.rfind('R')\n",
    "    k = S.find('K')\n",
    "    if bl % 2 == br % 2:\n",
    "        return False\n",
    "    return rl < k < rr"
   ]
  },
  {
   "cell_type": "code",
   "execution_count": null,
   "id": "12a86cca-0a40-4b4e-b801-b2119ecf6b2d",
   "metadata": {},
   "outputs": [],
   "source": []
  }
 ],
 "metadata": {
  "kernelspec": {
   "display_name": "Python 3",
   "language": "python",
   "name": "python3"
  },
  "language_info": {
   "codemirror_mode": {
    "name": "ipython",
    "version": 3
   },
   "file_extension": ".py",
   "mimetype": "text/x-python",
   "name": "python",
   "nbconvert_exporter": "python",
   "pygments_lexer": "ipython3",
   "version": "3.6.13"
  }
 },
 "nbformat": 4,
 "nbformat_minor": 5
}
