{
 "cells": [
  {
   "cell_type": "code",
   "execution_count": 1,
   "id": "30707d3a-dd14-48d7-bfd1-689a048155ec",
   "metadata": {},
   "outputs": [],
   "source": [
    "import sys\n",
    "import numpy as np\n",
    "import math\n",
    "import collections\n",
    "import copy\n",
    "import decimal\n",
    "import itertools\n",
    "import re\n",
    "import bisect\n",
    "import scipy\n",
    "import heapq\n",
    "from collections import deque \n",
    "from functools import reduce\n",
    "from itertools import product\n",
    "from itertools import combinations\n",
    "from functools import lru_cache\n",
    "from scipy.special import comb\n",
    "from numba import njit\n",
    "from bisect import bisect_right\n",
    "from bisect import bisect_left"
   ]
  },
  {
   "cell_type": "code",
   "execution_count": 24,
   "id": "85e2f34b-719c-4dc5-a82b-a302b1f0d664",
   "metadata": {},
   "outputs": [
    {
     "name": "stdin",
     "output_type": "stream",
     "text": [
      " 1597 987\n"
     ]
    }
   ],
   "source": [
    "A, B = map(int, input().split())"
   ]
  },
  {
   "cell_type": "code",
   "execution_count": 25,
   "id": "2816d71c-2b03-4147-ad72-3dbb2d67dbc3",
   "metadata": {},
   "outputs": [],
   "source": [
    "def solve(a, b):\n",
    "    ret = 0\n",
    "    while a != b:\n",
    "        if a > b:\n",
    "            a, b = b, a\n",
    "        r, m = divmod(b, a)\n",
    "        ret += r\n",
    "        b = m\n",
    "        if m == 0:\n",
    "            ret -= 1\n",
    "            break\n",
    "    return ret"
   ]
  },
  {
   "cell_type": "code",
   "execution_count": 26,
   "id": "565cab8a-336b-40b3-ae3d-cb145eaa3148",
   "metadata": {},
   "outputs": [
    {
     "name": "stdout",
     "output_type": "stream",
     "text": [
      "15\n"
     ]
    }
   ],
   "source": [
    "print(solve(A, B))"
   ]
  },
  {
   "cell_type": "code",
   "execution_count": null,
   "id": "ba67e653-4207-4278-90c9-d61e7af4ec3f",
   "metadata": {},
   "outputs": [],
   "source": []
  }
 ],
 "metadata": {
  "kernelspec": {
   "display_name": "Python 3",
   "language": "python",
   "name": "python3"
  },
  "language_info": {
   "codemirror_mode": {
    "name": "ipython",
    "version": 3
   },
   "file_extension": ".py",
   "mimetype": "text/x-python",
   "name": "python",
   "nbconvert_exporter": "python",
   "pygments_lexer": "ipython3",
   "version": "3.6.13"
  }
 },
 "nbformat": 4,
 "nbformat_minor": 5
}
