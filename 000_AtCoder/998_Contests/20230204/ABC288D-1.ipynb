{
 "cells": [
  {
   "cell_type": "code",
   "execution_count": 1,
   "id": "0de37b74-4d52-45cf-a843-a9381261eb4f",
   "metadata": {},
   "outputs": [],
   "source": [
    "import sys\n",
    "import numpy as np\n",
    "import math\n",
    "import collections\n",
    "import copy\n",
    "import decimal\n",
    "import itertools\n",
    "import re\n",
    "import bisect\n",
    "import scipy\n",
    "import heapq\n",
    "from collections import deque \n",
    "from functools import reduce\n",
    "from itertools import product\n",
    "from itertools import combinations\n",
    "from functools import lru_cache\n",
    "from scipy.special import comb\n",
    "from numba import njit\n",
    "from bisect import bisect_right\n",
    "from bisect import bisect_left"
   ]
  },
  {
   "cell_type": "code",
   "execution_count": 1,
   "id": "9d8ff1f2-a927-45d3-8619-be660f4c3201",
   "metadata": {},
   "outputs": [
    {
     "name": "stdin",
     "output_type": "stream",
     "text": [
      " 7 3\n"
     ]
    }
   ],
   "source": [
    "N, K = map(int, input().split())"
   ]
  },
  {
   "cell_type": "code",
   "execution_count": 2,
   "id": "93cc2c01-2da9-477f-af84-9ba178fc41a7",
   "metadata": {},
   "outputs": [
    {
     "name": "stdin",
     "output_type": "stream",
     "text": [
      " 3 -1 1 -2 2 0 5\n"
     ]
    }
   ],
   "source": [
    "An = list(map(int, input().split()))"
   ]
  },
  {
   "cell_type": "code",
   "execution_count": 3,
   "id": "4016b8ba-06b2-4db6-b71b-88b55df2ea1d",
   "metadata": {},
   "outputs": [
    {
     "name": "stdin",
     "output_type": "stream",
     "text": [
      " 2\n"
     ]
    }
   ],
   "source": [
    "Q = int(input())"
   ]
  },
  {
   "cell_type": "code",
   "execution_count": 4,
   "id": "dc18e969-5ad7-4abc-b970-9f1ba168a8c5",
   "metadata": {},
   "outputs": [
    {
     "name": "stdin",
     "output_type": "stream",
     "text": [
      " 1 6\n",
      " 2 7\n"
     ]
    }
   ],
   "source": [
    "LRq = [list(map(int, input().split())) for _ in range(Q)]"
   ]
  },
  {
   "cell_type": "code",
   "execution_count": 22,
   "id": "65a15816-b20e-48a0-8cac-d3999148db3c",
   "metadata": {},
   "outputs": [
    {
     "name": "stdout",
     "output_type": "stream",
     "text": [
      "Yes\n",
      "Yes\n"
     ]
    }
   ],
   "source": [
    "from itertools import accumulate\n",
    "An_sub1 = []\n",
    "for i in range(N-1):\n",
    "    An_sub1.append(An[i+1]-An[i])\n",
    "An_sub2 = [0, sum(An_sub1[:K-1]), ]\n",
    "for i in range(N-K):\n",
    "    An_sub2.append(An_sub2[-1]-An[i]+An[i+K-1])\n",
    "for L, R in LRq:\n",
    "    if (An_subs[R-1]-An_subs[L-1]) % K == 0:\n",
    "        print('Yes')\n",
    "    else:\n",
    "        print('No')"
   ]
  },
  {
   "cell_type": "code",
   "execution_count": null,
   "id": "e340ee2f-7b92-4df9-a259-b109b89125f2",
   "metadata": {},
   "outputs": [],
   "source": []
  },
  {
   "cell_type": "code",
   "execution_count": 23,
   "id": "0cd13ed0-7804-4d8a-b8e9-153cb20333b1",
   "metadata": {},
   "outputs": [
    {
     "data": {
      "text/plain": [
       "([-4, 2, -3, 4, -2, 5], [0, -2, -4, -5, -4, -2])"
      ]
     },
     "execution_count": 23,
     "metadata": {},
     "output_type": "execute_result"
    }
   ],
   "source": [
    "An_sub1, An_sub2"
   ]
  },
  {
   "cell_type": "code",
   "execution_count": null,
   "id": "131fdb33-8e1d-4f9b-ab9b-f832b5061597",
   "metadata": {},
   "outputs": [],
   "source": [
    "# WA"
   ]
  },
  {
   "cell_type": "code",
   "execution_count": 32,
   "id": "5ae6f2f6-d7b8-4637-8e50-d99cff95f26f",
   "metadata": {},
   "outputs": [
    {
     "name": "stdout",
     "output_type": "stream",
     "text": [
      "No\n",
      "-31 80 -111\n",
      "No\n",
      "No\n",
      "-36 -19 -17\n",
      "No\n",
      "-30 80 -110\n",
      "No\n"
     ]
    }
   ],
   "source": [
    "from itertools import accumulate\n",
    "An_s = [0] + list(accumulate(An))\n",
    "An_s2 = [0, ]\n",
    "for i in range(N-1):\n",
    "    An_s2.append(An[i]-An[i+1])\n",
    "An_s3 = [0] + list(accumulate(An_s2))\n",
    "for L, R in LRq:\n",
    "    if (An_s[R] - An_s[L-1]) % K != 0:\n",
    "        print('No')\n",
    "        continue\n",
    "    print(An_s3[R], An_s3[L-1], An_s3[R] - An_s3[L-1])\n",
    "    if (An_s3[R] - An_s3[L-1]) % K == 0:\n",
    "        print('Yes')\n",
    "    else:\n",
    "        print('No')\n"
   ]
  },
  {
   "cell_type": "code",
   "execution_count": 19,
   "id": "6772d1f2-3819-478e-8b19-0b761cf0389e",
   "metadata": {},
   "outputs": [
    {
     "data": {
      "text/plain": [
       "[0,\n",
       " -19,\n",
       " -85,\n",
       " -184,\n",
       " -168,\n",
       " -150,\n",
       " -117,\n",
       " -85,\n",
       " -57,\n",
       " -31,\n",
       " -20,\n",
       " -8,\n",
       " -8,\n",
       " -24,\n",
       " -20,\n",
       " 1,\n",
       " 22,\n",
       " 59,\n",
       " 76,\n",
       " 131,\n",
       " 112]"
      ]
     },
     "execution_count": 19,
     "metadata": {},
     "output_type": "execute_result"
    }
   ],
   "source": [
    "An_s"
   ]
  },
  {
   "cell_type": "code",
   "execution_count": 27,
   "id": "dbb011f3-1c23-4353-a293-a5e7b047f8a9",
   "metadata": {},
   "outputs": [
    {
     "data": {
      "text/plain": [
       "176"
      ]
     },
     "execution_count": 27,
     "metadata": {},
     "output_type": "execute_result"
    }
   ],
   "source": [
    "An_s[11] - An_s[4-1]"
   ]
  },
  {
   "cell_type": "code",
   "execution_count": 23,
   "id": "7c384681-3e6d-4ab4-b065-2e5a27d5e80b",
   "metadata": {},
   "outputs": [
    {
     "data": {
      "text/plain": [
       "(-20, -184)"
      ]
     },
     "execution_count": 23,
     "metadata": {},
     "output_type": "execute_result"
    }
   ],
   "source": [
    "An_s[10], An_s[4-1]"
   ]
  },
  {
   "cell_type": "code",
   "execution_count": 31,
   "id": "43bed487-e236-49cd-9b27-841f42de8dea",
   "metadata": {},
   "outputs": [
    {
     "data": {
      "text/plain": [
       "[0,\n",
       " 0,\n",
       " 47,\n",
       " 80,\n",
       " -35,\n",
       " -37,\n",
       " -52,\n",
       " -51,\n",
       " -47,\n",
       " -45,\n",
       " -30,\n",
       " -31,\n",
       " -19,\n",
       " -3,\n",
       " -23,\n",
       " -40,\n",
       " -40,\n",
       " -56,\n",
       " -36,\n",
       " -74,\n",
       " 0]"
      ]
     },
     "execution_count": 31,
     "metadata": {},
     "output_type": "execute_result"
    }
   ],
   "source": [
    "An_s3"
   ]
  },
  {
   "cell_type": "code",
   "execution_count": null,
   "id": "9c8c972a-1db6-4751-95eb-1fda4b53b72c",
   "metadata": {},
   "outputs": [],
   "source": []
  }
 ],
 "metadata": {
  "kernelspec": {
   "display_name": "Python 3",
   "language": "python",
   "name": "python3"
  },
  "language_info": {
   "codemirror_mode": {
    "name": "ipython",
    "version": 3
   },
   "file_extension": ".py",
   "mimetype": "text/x-python",
   "name": "python",
   "nbconvert_exporter": "python",
   "pygments_lexer": "ipython3",
   "version": "3.6.13"
  }
 },
 "nbformat": 4,
 "nbformat_minor": 5
}
