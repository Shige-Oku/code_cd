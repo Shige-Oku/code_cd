{
 "cells": [
  {
   "cell_type": "code",
   "execution_count": 1,
   "id": "25be4c0d-0a7d-414d-a2e4-a651122f5577",
   "metadata": {},
   "outputs": [],
   "source": [
    "import sys\n",
    "import numpy as np\n",
    "import math\n",
    "import collections\n",
    "import copy\n",
    "import decimal\n",
    "import itertools\n",
    "import re\n",
    "import bisect\n",
    "import scipy\n",
    "import heapq\n",
    "from collections import deque \n",
    "from functools import reduce\n",
    "from itertools import product\n",
    "from itertools import combinations\n",
    "from functools import lru_cache\n",
    "from scipy.special import comb\n",
    "from numba import njit\n",
    "from bisect import bisect_right\n",
    "from bisect import bisect_left"
   ]
  },
  {
   "cell_type": "code",
   "execution_count": 1,
   "id": "9e5f12f1-c1bb-4dd3-92d3-91a5ab651fca",
   "metadata": {},
   "outputs": [
    {
     "name": "stdin",
     "output_type": "stream",
     "text": [
      " 4 2\n"
     ]
    }
   ],
   "source": [
    "N, M = map(int, input().split())"
   ]
  },
  {
   "cell_type": "code",
   "execution_count": 2,
   "id": "686df457-f863-4029-b3fc-b41c29ea137d",
   "metadata": {},
   "outputs": [
    {
     "name": "stdin",
     "output_type": "stream",
     "text": [
      " 1 2\n",
      " 2 3\n"
     ]
    }
   ],
   "source": [
    "UVm = [list(map(int, input().split())) for _ in range(M)]"
   ]
  },
  {
   "cell_type": "code",
   "execution_count": 3,
   "id": "8af1bdfc-07fb-4bd0-a00a-bbd1a01999d6",
   "metadata": {},
   "outputs": [],
   "source": [
    "graph = [[] for _ in range(N)]\n",
    "for U, V in UVm:\n",
    "    graph[U-1].append(V-1)\n",
    "    graph[V-1].append(U-1)"
   ]
  },
  {
   "cell_type": "code",
   "execution_count": 12,
   "id": "82e2da8c-e7e4-41bf-9a61-5ace7f68237e",
   "metadata": {},
   "outputs": [],
   "source": [
    "import sys\n",
    "sys.setrecursionlimit(10**7)\n",
    "def DFS(n, pcnt):\n",
    "    visit[n] = True\n",
    "    pcnt += 1\n",
    "    if pcnt >= 10**6:\n",
    "        return pcnt\n",
    "    for ne in graph[n]:\n",
    "        if visit[ne]:\n",
    "            continue\n",
    "        pcnt = DFS(ne, pcnt)\n",
    "        if pcnt >= 10**6:\n",
    "            return pcnt\n",
    "    visit[n] = False\n",
    "    return pcnt"
   ]
  },
  {
   "cell_type": "code",
   "execution_count": 13,
   "id": "d6d3bd5b-b096-4e55-a6cb-e3539e0e2cf2",
   "metadata": {},
   "outputs": [
    {
     "name": "stdout",
     "output_type": "stream",
     "text": [
      "3\n"
     ]
    }
   ],
   "source": [
    "visit = [False] * N\n",
    "print(DFS(0, 0))"
   ]
  },
  {
   "cell_type": "code",
   "execution_count": null,
   "id": "a554d938-fd2e-4c45-aa2d-a55c9943460b",
   "metadata": {},
   "outputs": [],
   "source": []
  }
 ],
 "metadata": {
  "kernelspec": {
   "display_name": "Python 3",
   "language": "python",
   "name": "python3"
  },
  "language_info": {
   "codemirror_mode": {
    "name": "ipython",
    "version": 3
   },
   "file_extension": ".py",
   "mimetype": "text/x-python",
   "name": "python",
   "nbconvert_exporter": "python",
   "pygments_lexer": "ipython3",
   "version": "3.6.13"
  }
 },
 "nbformat": 4,
 "nbformat_minor": 5
}
