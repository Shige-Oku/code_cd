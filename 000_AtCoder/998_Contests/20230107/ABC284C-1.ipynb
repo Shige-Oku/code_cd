{
 "cells": [
  {
   "cell_type": "code",
   "execution_count": 1,
   "id": "b1c4a57e-ba17-43d5-91c5-1eb6360a7c72",
   "metadata": {},
   "outputs": [],
   "source": [
    "import sys\n",
    "import numpy as np\n",
    "import math\n",
    "import collections\n",
    "import copy\n",
    "import decimal\n",
    "import itertools\n",
    "import re\n",
    "import bisect\n",
    "import scipy\n",
    "import heapq\n",
    "from collections import deque \n",
    "from functools import reduce\n",
    "from itertools import product\n",
    "from itertools import combinations\n",
    "from functools import lru_cache\n",
    "from scipy.special import comb\n",
    "from numba import njit\n",
    "from bisect import bisect_right\n",
    "from bisect import bisect_left"
   ]
  },
  {
   "cell_type": "code",
   "execution_count": 2,
   "id": "d3a5e231-d06d-4785-b9c3-021a5d06b1d1",
   "metadata": {},
   "outputs": [
    {
     "name": "stdin",
     "output_type": "stream",
     "text": [
      " 5 3\n"
     ]
    }
   ],
   "source": [
    "N, M = map(int, input().split())"
   ]
  },
  {
   "cell_type": "code",
   "execution_count": 3,
   "id": "8187829f-3271-45a1-8f9b-314647034a1d",
   "metadata": {},
   "outputs": [
    {
     "name": "stdin",
     "output_type": "stream",
     "text": [
      " 1 2\n",
      " 1 3\n",
      " 4 5\n"
     ]
    }
   ],
   "source": [
    "UVn = [list(map(int, input().split())) for _ in range(M)]"
   ]
  },
  {
   "cell_type": "code",
   "execution_count": 4,
   "id": "0803a9c6-809b-4724-b8e0-dba7a92253fb",
   "metadata": {},
   "outputs": [],
   "source": [
    "graph = [[] for _ in range(N)]\n",
    "for U, V in UVn:\n",
    "    graph[U-1].append(V-1)\n",
    "    graph[V-1].append(U-1)"
   ]
  },
  {
   "cell_type": "code",
   "execution_count": 9,
   "id": "4d37610b-1547-4c4a-90e4-aa401ff2bce5",
   "metadata": {},
   "outputs": [],
   "source": [
    "from collections import deque\n",
    "def BFS(n):\n",
    "    q = deque()\n",
    "    q.append(n)\n",
    "    while q:\n",
    "        p = q.popleft()\n",
    "        visit[p] = True\n",
    "        for gr in graph[p]:\n",
    "            if visit[gr]:\n",
    "                continue\n",
    "            visit[gr] = True\n",
    "            q.append(gr)\n",
    "    return"
   ]
  },
  {
   "cell_type": "code",
   "execution_count": 10,
   "id": "e35a6763-9ba4-4566-b8bc-02728a613b8a",
   "metadata": {},
   "outputs": [],
   "source": [
    "from collections import deque\n",
    "visit = [False] * N\n",
    "ans = 0\n",
    "for i in range(N):\n",
    "    if visit[i]:\n",
    "        continue\n",
    "    BFS(i)\n",
    "    ans += 1"
   ]
  },
  {
   "cell_type": "code",
   "execution_count": 11,
   "id": "fbe58a39-d138-4f9a-8e15-51b114365ece",
   "metadata": {},
   "outputs": [
    {
     "name": "stdout",
     "output_type": "stream",
     "text": [
      "2\n"
     ]
    }
   ],
   "source": [
    "print(ans)"
   ]
  },
  {
   "cell_type": "code",
   "execution_count": 5,
   "id": "e6d16506-af3c-4f69-ac1b-cb50b03d2b50",
   "metadata": {},
   "outputs": [
    {
     "data": {
      "text/plain": [
       "[[1, 2], [0], [0], [4], [3]]"
      ]
     },
     "execution_count": 5,
     "metadata": {},
     "output_type": "execute_result"
    }
   ],
   "source": [
    "graph"
   ]
  },
  {
   "cell_type": "code",
   "execution_count": null,
   "id": "751f4df1-07fc-4b5e-9a74-5d3878613b7a",
   "metadata": {},
   "outputs": [],
   "source": []
  }
 ],
 "metadata": {
  "kernelspec": {
   "display_name": "Python 3",
   "language": "python",
   "name": "python3"
  },
  "language_info": {
   "codemirror_mode": {
    "name": "ipython",
    "version": 3
   },
   "file_extension": ".py",
   "mimetype": "text/x-python",
   "name": "python",
   "nbconvert_exporter": "python",
   "pygments_lexer": "ipython3",
   "version": "3.6.13"
  }
 },
 "nbformat": 4,
 "nbformat_minor": 5
}
