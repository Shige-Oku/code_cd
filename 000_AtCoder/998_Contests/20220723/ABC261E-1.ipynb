{
 "cells": [
  {
   "cell_type": "code",
   "execution_count": null,
   "id": "e7debca5-0bed-4a01-92fe-cf8128461ad3",
   "metadata": {},
   "outputs": [],
   "source": [
    "# 解説を読んで実装。サンプルが合わない。"
   ]
  },
  {
   "cell_type": "code",
   "execution_count": 1,
   "id": "c36db066-6117-4293-a2a5-722a8f98c9d4",
   "metadata": {},
   "outputs": [],
   "source": [
    "import sys\n",
    "import numpy as np\n",
    "import math\n",
    "import collections\n",
    "import copy\n",
    "import decimal\n",
    "import itertools\n",
    "import re\n",
    "import bisect\n",
    "import scipy\n",
    "import heapq\n",
    "from collections import deque \n",
    "from functools import reduce\n",
    "from itertools import product\n",
    "from itertools import combinations\n",
    "from functools import lru_cache\n",
    "from scipy.special import comb\n",
    "from numba import njit\n",
    "from bisect import bisect_right\n",
    "from bisect import bisect_left"
   ]
  },
  {
   "cell_type": "code",
   "execution_count": 1,
   "id": "a8c2122b-d23f-431a-98c4-fe5b8bc3092b",
   "metadata": {},
   "outputs": [
    {
     "name": "stdin",
     "output_type": "stream",
     "text": [
      " 3 10\n"
     ]
    }
   ],
   "source": [
    "N, C = map(int, input().split())"
   ]
  },
  {
   "cell_type": "code",
   "execution_count": 2,
   "id": "2c147d31-c9d4-4491-a9aa-4841dd64074a",
   "metadata": {},
   "outputs": [
    {
     "name": "stdin",
     "output_type": "stream",
     "text": [
      " 3 3\n",
      " 2 5\n",
      " 1 12\n"
     ]
    }
   ],
   "source": [
    "TAn = [list(map(int, input().split())) for _ in range(N)]"
   ]
  },
  {
   "cell_type": "code",
   "execution_count": 41,
   "id": "0ca2b233-041e-4cc3-9bc6-f0ceedf82852",
   "metadata": {},
   "outputs": [
    {
     "name": "stdout",
     "output_type": "stream",
     "text": [
      "0 1\n",
      "3 0 1 1 1\n",
      "1 1\n",
      "5 0 2 1 1\n",
      "1 1\n",
      "3 1 1 0 1\n",
      "0 0\n",
      "5 1 2 0 0\n",
      "0 0\n",
      "3 2 1 0 0\n",
      "0 1\n",
      "5 2 2 1 1\n",
      "1 0\n",
      "3 3 1 1 0\n",
      "1 0\n",
      "5 3 2 1 0\n",
      "0 0\n",
      "3 4 1 0 0\n",
      "0 0\n",
      "5 4 2 0 0\n"
     ]
    }
   ],
   "source": [
    "ans = [0] * (N+1)\n",
    "ans[0] = C\n",
    "# for k in range(30):\n",
    "for k in range(5):\n",
    "#     cb = C >> k & 1\n",
    "    for i, (T, A) in enumerate(TAn[:2], 1):\n",
    "        cb = ans[i-1] >> k & 1\n",
    "        ab = A >> k & 1\n",
    "        print(cb, ab)\n",
    "        if T == 1:\n",
    "            cb &= ab\n",
    "        elif T == 2:\n",
    "            cb |= ab\n",
    "        else:\n",
    "            cb ^= ab\n",
    "        ans[i] |= cb << k\n",
    "        print(A, k, i, cb, ab)"
   ]
  },
  {
   "cell_type": "code",
   "execution_count": 42,
   "id": "8359d145-a326-49b8-9eb6-7bf4aa5fe778",
   "metadata": {},
   "outputs": [
    {
     "data": {
      "text/plain": [
       "[10, 9, 13, 0]"
      ]
     },
     "execution_count": 42,
     "metadata": {},
     "output_type": "execute_result"
    }
   ],
   "source": [
    "ans"
   ]
  },
  {
   "cell_type": "code",
   "execution_count": 8,
   "id": "70e18059-7fa6-4f0a-a0b5-d37b9806a27b",
   "metadata": {},
   "outputs": [
    {
     "data": {
      "text/plain": [
       "(0, 1, 0, 1)"
      ]
     },
     "execution_count": 8,
     "metadata": {},
     "output_type": "execute_result"
    }
   ],
   "source": [
    "1>>2, 4>>2&1, 1<<2&1, 1>>0&1"
   ]
  },
  {
   "cell_type": "code",
   "execution_count": 11,
   "id": "a06d572e-c436-4740-9231-e480d74a1b34",
   "metadata": {},
   "outputs": [
    {
     "data": {
      "text/plain": [
       "(1, 0, 1, 0, 0, 0, 1)"
      ]
     },
     "execution_count": 11,
     "metadata": {},
     "output_type": "execute_result"
    }
   ],
   "source": [
    "1&1, 1&0, 0|1, 0|0, 1^1, 0^0, 1^0"
   ]
  },
  {
   "cell_type": "code",
   "execution_count": 15,
   "id": "beff90d9-4565-4b71-9ced-55d7abd2ae5e",
   "metadata": {},
   "outputs": [
    {
     "data": {
      "text/plain": [
       "4"
      ]
     },
     "execution_count": 15,
     "metadata": {},
     "output_type": "execute_result"
    }
   ],
   "source": [
    "1<<2"
   ]
  },
  {
   "cell_type": "code",
   "execution_count": null,
   "id": "60e34290-94de-4f10-aad4-8947c57d600b",
   "metadata": {},
   "outputs": [],
   "source": []
  }
 ],
 "metadata": {
  "kernelspec": {
   "display_name": "Python 3",
   "language": "python",
   "name": "python3"
  },
  "language_info": {
   "codemirror_mode": {
    "name": "ipython",
    "version": 3
   },
   "file_extension": ".py",
   "mimetype": "text/x-python",
   "name": "python",
   "nbconvert_exporter": "python",
   "pygments_lexer": "ipython3",
   "version": "3.6.13"
  }
 },
 "nbformat": 4,
 "nbformat_minor": 5
}
