{
 "cells": [
  {
   "cell_type": "code",
   "execution_count": 1,
   "id": "e9e69019-8e7f-4719-a416-d900117a6f66",
   "metadata": {},
   "outputs": [],
   "source": [
    "import numpy as np\n",
    "import math\n",
    "import collections\n",
    "import copy\n",
    "import decimal\n",
    "import itertools\n",
    "import re\n",
    "import bisect\n",
    "import scipy\n",
    "import heapq\n",
    "import array\n",
    "from collections import deque \n",
    "from functools import reduce\n",
    "from itertools import product\n",
    "from itertools import combinations\n",
    "from itertools import chain\n",
    "from functools import lru_cache\n",
    "from scipy.special import comb\n",
    "from numba import njit\n",
    "from bisect import bisect_right\n",
    "from bisect import bisect_left"
   ]
  },
  {
   "cell_type": "code",
   "execution_count": 80,
   "id": "87e330e3-4269-40c0-b7d7-f3895c6413da",
   "metadata": {},
   "outputs": [
    {
     "name": "stdin",
     "output_type": "stream",
     "text": [
      " 4\n"
     ]
    }
   ],
   "source": [
    "N = int(input())"
   ]
  },
  {
   "cell_type": "code",
   "execution_count": 88,
   "id": "7ae7bb5d-ddc3-4df8-b698-5f465c4cb62e",
   "metadata": {},
   "outputs": [
    {
     "name": "stdin",
     "output_type": "stream",
     "text": [
      " 6 10\n"
     ]
    }
   ],
   "source": [
    "X, Y = map(int, input().split())"
   ]
  },
  {
   "cell_type": "code",
   "execution_count": 82,
   "id": "46fd37df-1f91-4f0f-9b60-4b3386ce8753",
   "metadata": {},
   "outputs": [
    {
     "name": "stdin",
     "output_type": "stream",
     "text": [
      " 4 1\n",
      " 5 1\n",
      " 1 10\n",
      " 3 10\n"
     ]
    }
   ],
   "source": [
    "An = [list(map(int, input().split())) for _ in range(N)]"
   ]
  },
  {
   "cell_type": "code",
   "execution_count": 89,
   "id": "8a5582ef-da5b-46d5-a0da-9076cada2fcf",
   "metadata": {},
   "outputs": [],
   "source": [
    "An_s1 = sorted(An, reverse=True)\n",
    "An_s2 = sorted(An, key=lambda x:(x[1], x[0]),  reverse=True)"
   ]
  },
  {
   "cell_type": "code",
   "execution_count": 90,
   "id": "6af62918-3d87-4ec2-90de-80ded98034f8",
   "metadata": {},
   "outputs": [],
   "source": [
    "t1, t2  = 0, 0\n",
    "s = set()\n",
    "cnt = 0\n",
    "ans = 10**10\n",
    "for c1, c2 in An_s1:\n",
    "    t1 += c1\n",
    "    t2 += c2\n",
    "    cnt += 1\n",
    "    s.add((c1, c2))\n",
    "    if t1 >= X:\n",
    "        break"
   ]
  },
  {
   "cell_type": "code",
   "execution_count": 91,
   "id": "8d40f572-bac4-4805-912a-e50fcf9fd89b",
   "metadata": {},
   "outputs": [],
   "source": [
    "for c1, c2 in An_s2:\n",
    "    if t2 >= Y:\n",
    "        break    \n",
    "    if (c1, c2) in s:\n",
    "        continue\n",
    "    t1 += c1\n",
    "    t2 += c2\n",
    "    cnt += 1\n"
   ]
  },
  {
   "cell_type": "code",
   "execution_count": 94,
   "id": "afd2bb84-f3ba-4363-9b7f-3b2aa71975fe",
   "metadata": {},
   "outputs": [],
   "source": [
    "if t1 >= X and t2 >= Y:\n",
    "    ans = cnt"
   ]
  },
  {
   "cell_type": "code",
   "execution_count": 95,
   "id": "a0581b9e-9b83-4389-8d98-542ee2989a9d",
   "metadata": {},
   "outputs": [],
   "source": [
    "t1, t2  = 0, 0\n",
    "s = set()\n",
    "cnt = 0\n",
    "for c1, c2 in An_s2:\n",
    "    t1 += c1\n",
    "    t2 += c2\n",
    "    cnt += 1\n",
    "    s.add((c1, c2))\n",
    "    if t2 >= Y:\n",
    "        break"
   ]
  },
  {
   "cell_type": "code",
   "execution_count": 96,
   "id": "a79f32b8-b16c-4de1-a1ea-b19a608c3ae8",
   "metadata": {},
   "outputs": [],
   "source": [
    "for c1, c2 in An_s1:\n",
    "    if t1 >= X:\n",
    "        break    \n",
    "    if (c1, c2) in s:\n",
    "        continue\n",
    "    t1 += c1\n",
    "    t2 += c2\n",
    "    cnt += 1\n"
   ]
  },
  {
   "cell_type": "code",
   "execution_count": 97,
   "id": "32a338ad-89ac-4577-8de3-d4c469baab18",
   "metadata": {},
   "outputs": [],
   "source": [
    "if t1 >= X and t2 >= Y:\n",
    "    ans = min(ans, cnt)"
   ]
  },
  {
   "cell_type": "code",
   "execution_count": 98,
   "id": "8cf0fbe6-d090-4bdc-98c7-bcfa7eb179c7",
   "metadata": {},
   "outputs": [
    {
     "name": "stdout",
     "output_type": "stream",
     "text": [
      "2\n"
     ]
    }
   ],
   "source": [
    "if ans < 10**10:\n",
    "    print(ans)\n",
    "else:\n",
    "    print('-1')"
   ]
  },
  {
   "cell_type": "code",
   "execution_count": 48,
   "id": "8a8c7a00-31be-4ae1-9097-bdcfda501232",
   "metadata": {},
   "outputs": [
    {
     "data": {
      "text/plain": [
       "(7, 8)"
      ]
     },
     "execution_count": 48,
     "metadata": {},
     "output_type": "execute_result"
    }
   ],
   "source": [
    "t1, t2"
   ]
  },
  {
   "cell_type": "code",
   "execution_count": 93,
   "id": "330525d6-dfa3-40ec-b7df-37fc46800627",
   "metadata": {},
   "outputs": [
    {
     "data": {
      "text/plain": [
       "3"
      ]
     },
     "execution_count": 93,
     "metadata": {},
     "output_type": "execute_result"
    }
   ],
   "source": [
    "ans"
   ]
  },
  {
   "cell_type": "code",
   "execution_count": 50,
   "id": "2bae93b1-458d-4f90-a3a6-3c13bc8cef58",
   "metadata": {},
   "outputs": [
    {
     "data": {
      "text/plain": [
       "([[3, 4], [2, 3], [2, 1], [1, 1]], [[3, 4], [2, 3], [2, 1], [1, 1]])"
      ]
     },
     "execution_count": 50,
     "metadata": {},
     "output_type": "execute_result"
    }
   ],
   "source": [
    "An_s1, An_s2"
   ]
  },
  {
   "cell_type": "code",
   "execution_count": null,
   "id": "dd737a0f-1227-4b64-92e2-af9360fb0f87",
   "metadata": {},
   "outputs": [],
   "source": []
  }
 ],
 "metadata": {
  "kernelspec": {
   "display_name": "Python 3",
   "language": "python",
   "name": "python3"
  },
  "language_info": {
   "codemirror_mode": {
    "name": "ipython",
    "version": 3
   },
   "file_extension": ".py",
   "mimetype": "text/x-python",
   "name": "python",
   "nbconvert_exporter": "python",
   "pygments_lexer": "ipython3",
   "version": "3.6.13"
  }
 },
 "nbformat": 4,
 "nbformat_minor": 5
}
