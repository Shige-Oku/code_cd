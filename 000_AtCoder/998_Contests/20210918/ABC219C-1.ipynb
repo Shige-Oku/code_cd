{
 "cells": [
  {
   "cell_type": "code",
   "execution_count": 1,
   "id": "63898afc-06e8-4a5c-a0d9-de29df0be1ce",
   "metadata": {},
   "outputs": [],
   "source": [
    "import numpy as np\n",
    "import math\n",
    "import collections\n",
    "import copy\n",
    "import decimal\n",
    "import itertools\n",
    "import re\n",
    "import bisect\n",
    "import scipy\n",
    "import heapq\n",
    "import array\n",
    "from collections import deque \n",
    "from functools import reduce\n",
    "from itertools import product\n",
    "from itertools import combinations\n",
    "from itertools import chain\n",
    "from functools import lru_cache\n",
    "from scipy.special import comb\n",
    "from numba import njit\n",
    "from bisect import bisect_right\n",
    "from bisect import bisect_left"
   ]
  },
  {
   "cell_type": "code",
   "execution_count": 2,
   "id": "865c7977-96bf-4dc7-88b8-9ecb626498fe",
   "metadata": {},
   "outputs": [
    {
     "name": "stdin",
     "output_type": "stream",
     "text": [
      " bacdefghijklmnopqrstuvwxzy\n"
     ]
    }
   ],
   "source": [
    "X = input()"
   ]
  },
  {
   "cell_type": "code",
   "execution_count": 15,
   "id": "2ceef6c6-d93f-434b-babb-4fbe53a9275b",
   "metadata": {},
   "outputs": [
    {
     "name": "stdin",
     "output_type": "stream",
     "text": [
      " 4\n"
     ]
    }
   ],
   "source": [
    "N = int(input())"
   ]
  },
  {
   "cell_type": "code",
   "execution_count": 4,
   "id": "6492b657-0c91-46c1-b85c-5919a84733da",
   "metadata": {},
   "outputs": [
    {
     "name": "stdin",
     "output_type": "stream",
     "text": [
      " abx\n",
      " bzz\n",
      " bzy\n",
      " caa\n"
     ]
    }
   ],
   "source": [
    "Sn = [input() for _ in range(N)]"
   ]
  },
  {
   "cell_type": "code",
   "execution_count": 8,
   "id": "678bd3d2-df75-4211-bba2-1f41cd24b696",
   "metadata": {},
   "outputs": [],
   "source": [
    "Sn_c = []\n",
    "for i, S in enumerate(Sn):\n",
    "    st = ''\n",
    "    for s in S:\n",
    "        st += X[ord(s)-ord('a')]\n",
    "    Sn_c.append((st, i))"
   ]
  },
  {
   "cell_type": "code",
   "execution_count": 10,
   "id": "47effffb-e558-4c29-b509-324e16ceef3f",
   "metadata": {},
   "outputs": [],
   "source": [
    "Sn_s = sorted(Sn_c)"
   ]
  },
  {
   "cell_type": "code",
   "execution_count": 13,
   "id": "a160d1c8-ccaa-4b22-ba1a-b4e306763996",
   "metadata": {},
   "outputs": [
    {
     "name": "stdout",
     "output_type": "stream",
     "text": [
      "bzz\n",
      "bzy\n",
      "abx\n",
      "caa\n"
     ]
    }
   ],
   "source": [
    "for _, i in Sn_s:\n",
    "    print(Sn[i])"
   ]
  },
  {
   "cell_type": "code",
   "execution_count": 16,
   "id": "edd71768-c9bc-42b9-8ebd-ec29f70f1682",
   "metadata": {},
   "outputs": [
    {
     "data": {
      "text/plain": [
       "[('ayy', 1), ('ayz', 2), ('bax', 0), ('cbb', 3)]"
      ]
     },
     "execution_count": 16,
     "metadata": {},
     "output_type": "execute_result"
    }
   ],
   "source": [
    "Sn_s"
   ]
  },
  {
   "cell_type": "code",
   "execution_count": null,
   "id": "9f217828-2f9b-41b0-a99e-5db0655a04ea",
   "metadata": {},
   "outputs": [],
   "source": []
  }
 ],
 "metadata": {
  "kernelspec": {
   "display_name": "Python 3",
   "language": "python",
   "name": "python3"
  },
  "language_info": {
   "codemirror_mode": {
    "name": "ipython",
    "version": 3
   },
   "file_extension": ".py",
   "mimetype": "text/x-python",
   "name": "python",
   "nbconvert_exporter": "python",
   "pygments_lexer": "ipython3",
   "version": "3.6.13"
  }
 },
 "nbformat": 4,
 "nbformat_minor": 5
}
