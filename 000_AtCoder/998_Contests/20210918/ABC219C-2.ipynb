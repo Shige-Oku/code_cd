{
 "cells": [
  {
   "cell_type": "code",
   "execution_count": null,
   "id": "9fb17c9b-5316-48fb-b7d6-6ded13a46460",
   "metadata": {},
   "outputs": [],
   "source": [
    "# 解説を読んで実装"
   ]
  },
  {
   "cell_type": "code",
   "execution_count": 1,
   "id": "d4a39c26-f068-4b89-88e4-5526d226a52c",
   "metadata": {},
   "outputs": [
    {
     "name": "stdin",
     "output_type": "stream",
     "text": [
      " bacdefghijklmnopqrstuvwxzy\n"
     ]
    }
   ],
   "source": [
    "X = input()"
   ]
  },
  {
   "cell_type": "code",
   "execution_count": 2,
   "id": "af9d38d2-8f9d-4e29-92f5-886b7eea28c9",
   "metadata": {},
   "outputs": [
    {
     "name": "stdin",
     "output_type": "stream",
     "text": [
      " 4\n"
     ]
    }
   ],
   "source": [
    "N = int(input())"
   ]
  },
  {
   "cell_type": "code",
   "execution_count": 3,
   "id": "b3c243ee-add3-47fe-b7c7-d8ec38262f21",
   "metadata": {},
   "outputs": [
    {
     "name": "stdin",
     "output_type": "stream",
     "text": [
      " abx\n",
      " bzz\n",
      " bzy\n",
      " caa\n"
     ]
    }
   ],
   "source": [
    "Sn = [input() for _ in range(N)]"
   ]
  },
  {
   "cell_type": "code",
   "execution_count": 5,
   "id": "a8bd734c-95b8-4bc9-b271-9910e95da21d",
   "metadata": {},
   "outputs": [],
   "source": [
    "idx = [0] * 26\n",
    "for i, x in enumerate(X):\n",
    "    idx[ord(x)-ord('a')] = i"
   ]
  },
  {
   "cell_type": "code",
   "execution_count": 8,
   "id": "be005157-97b4-4eaf-ab12-0e027a591965",
   "metadata": {},
   "outputs": [],
   "source": [
    "ss = []\n",
    "for i, S in enumerate(Sn):\n",
    "    ns = []\n",
    "    for s in S:\n",
    "        ns.append(idx[ord(s)-ord('a')])\n",
    "    ss.append((ns, i))"
   ]
  },
  {
   "cell_type": "code",
   "execution_count": 12,
   "id": "f3f29f18-72ec-434c-91cf-daa5e1347d8b",
   "metadata": {},
   "outputs": [
    {
     "name": "stdout",
     "output_type": "stream",
     "text": [
      "bzz\n",
      "bzy\n",
      "abx\n",
      "caa\n"
     ]
    }
   ],
   "source": [
    "ss_s = sorted(ss)\n",
    "for _, i in ss_s:\n",
    "    print(Sn[i])"
   ]
  },
  {
   "cell_type": "code",
   "execution_count": 11,
   "id": "e5acfd23-d958-4911-b80e-2ef0a5b8a47f",
   "metadata": {},
   "outputs": [
    {
     "data": {
      "text/plain": [
       "1"
      ]
     },
     "execution_count": 11,
     "metadata": {},
     "output_type": "execute_result"
    }
   ],
   "source": [
    "ss_s[0][1]"
   ]
  },
  {
   "cell_type": "code",
   "execution_count": null,
   "id": "bbcaa8e0-a739-460b-bdde-3b5d17a5bb99",
   "metadata": {},
   "outputs": [],
   "source": []
  }
 ],
 "metadata": {
  "kernelspec": {
   "display_name": "Python 3",
   "language": "python",
   "name": "python3"
  },
  "language_info": {
   "codemirror_mode": {
    "name": "ipython",
    "version": 3
   },
   "file_extension": ".py",
   "mimetype": "text/x-python",
   "name": "python",
   "nbconvert_exporter": "python",
   "pygments_lexer": "ipython3",
   "version": "3.6.13"
  }
 },
 "nbformat": 4,
 "nbformat_minor": 5
}
