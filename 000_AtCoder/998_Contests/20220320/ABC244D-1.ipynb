{
 "cells": [
  {
   "cell_type": "code",
   "execution_count": 1,
   "id": "a62f83da-c13b-4f44-bc6b-5313611a78ea",
   "metadata": {},
   "outputs": [],
   "source": [
    "import sys\n",
    "import numpy as np\n",
    "import math\n",
    "import collections\n",
    "import copy\n",
    "import decimal\n",
    "import itertools\n",
    "import re\n",
    "import bisect\n",
    "import scipy\n",
    "import heapq\n",
    "from collections import deque \n",
    "from functools import reduce\n",
    "from itertools import product\n",
    "from itertools import combinations\n",
    "from functools import lru_cache\n",
    "from scipy.special import comb\n",
    "from numba import njit\n",
    "from bisect import bisect_right\n",
    "from bisect import bisect_left"
   ]
  },
  {
   "cell_type": "code",
   "execution_count": 6,
   "id": "3d42bd7e-ef4e-4615-88f8-748965c0f140",
   "metadata": {},
   "outputs": [
    {
     "name": "stdin",
     "output_type": "stream",
     "text": [
      " R G B\n"
     ]
    }
   ],
   "source": [
    "S1, S2, S3 = input().split()"
   ]
  },
  {
   "cell_type": "code",
   "execution_count": 4,
   "id": "49842e64-8e12-4433-81e0-423c43d1d444",
   "metadata": {},
   "outputs": [
    {
     "name": "stdin",
     "output_type": "stream",
     "text": [
      " R G B\n"
     ]
    }
   ],
   "source": [
    "T1, T2, T3 = input().split()"
   ]
  },
  {
   "cell_type": "code",
   "execution_count": 9,
   "id": "06d738d2-00c1-40a0-9b35-4f6fbd1852e1",
   "metadata": {},
   "outputs": [],
   "source": [
    "diff = 0\n",
    "for s, t in zip([S1, S2, S3], [T1, T2, T3]):\n",
    "    if s != t:\n",
    "        diff += 1"
   ]
  },
  {
   "cell_type": "code",
   "execution_count": 11,
   "id": "5d49f428-fc8a-4233-90d7-b260df9703b4",
   "metadata": {},
   "outputs": [
    {
     "name": "stdout",
     "output_type": "stream",
     "text": [
      "Yes\n"
     ]
    }
   ],
   "source": [
    "if diff == 2:\n",
    "    print('No')\n",
    "else:\n",
    "    print('Yes')"
   ]
  },
  {
   "cell_type": "code",
   "execution_count": null,
   "id": "869e4c5f-5378-46f8-b421-850e75a1f916",
   "metadata": {},
   "outputs": [],
   "source": []
  }
 ],
 "metadata": {
  "kernelspec": {
   "display_name": "Python 3",
   "language": "python",
   "name": "python3"
  },
  "language_info": {
   "codemirror_mode": {
    "name": "ipython",
    "version": 3
   },
   "file_extension": ".py",
   "mimetype": "text/x-python",
   "name": "python",
   "nbconvert_exporter": "python",
   "pygments_lexer": "ipython3",
   "version": "3.6.13"
  }
 },
 "nbformat": 4,
 "nbformat_minor": 5
}
