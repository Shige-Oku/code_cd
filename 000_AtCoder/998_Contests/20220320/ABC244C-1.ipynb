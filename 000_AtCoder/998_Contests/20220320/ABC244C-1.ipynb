{
 "cells": [
  {
   "cell_type": "code",
   "execution_count": null,
   "id": "bec4a0fa-a118-4592-8b9c-b65b39fa08f0",
   "metadata": {},
   "outputs": [],
   "source": [
    "# WA"
   ]
  },
  {
   "cell_type": "code",
   "execution_count": 1,
   "id": "56032792-7861-4c50-b972-b5584f748f05",
   "metadata": {},
   "outputs": [],
   "source": [
    "import sys\n",
    "import numpy as np\n",
    "import math\n",
    "import collections\n",
    "import copy\n",
    "import decimal\n",
    "import itertools\n",
    "import re\n",
    "import bisect\n",
    "import scipy\n",
    "import heapq\n",
    "from collections import deque \n",
    "from functools import reduce\n",
    "from itertools import product\n",
    "from itertools import combinations\n",
    "from functools import lru_cache\n",
    "from scipy.special import comb\n",
    "from numba import njit\n",
    "from bisect import bisect_right\n",
    "from bisect import bisect_left"
   ]
  },
  {
   "cell_type": "code",
   "execution_count": 3,
   "id": "2ba1d03d-6db4-4d08-9ee2-5c293d2316c2",
   "metadata": {},
   "outputs": [
    {
     "name": "stdin",
     "output_type": "stream",
     "text": [
      " 2\n"
     ]
    }
   ],
   "source": [
    "N = int(input())"
   ]
  },
  {
   "cell_type": "code",
   "execution_count": null,
   "id": "399ffd5d-ffc2-48e2-a1d5-14f84ce75f98",
   "metadata": {},
   "outputs": [],
   "source": [
    "def getNum():\n",
    "    for i in range(n, 2*N+2):\n",
    "        if num[i] == 0:\n",
    "            return i\n",
    "    return 0"
   ]
  },
  {
   "cell_type": "code",
   "execution_count": null,
   "id": "3a5cdb76-7e04-47fe-bcf0-e024bcf9f2c0",
   "metadata": {},
   "outputs": [],
   "source": [
    "num = [0] * (2 * N + 2)\n",
    "n = 1\n",
    "while True:\n",
    "    t = getNum()\n",
    "    num[t] = 1\n",
    "    print(t)\n",
    "    a = int(input())\n",
    "    if a == 0:\n",
    "        break\n",
    "    num[a] = 1\n",
    "exit(0)"
   ]
  },
  {
   "cell_type": "code",
   "execution_count": null,
   "id": "2b9cd953-a0e7-482e-aed3-e3539e5e09e3",
   "metadata": {},
   "outputs": [],
   "source": []
  }
 ],
 "metadata": {
  "kernelspec": {
   "display_name": "Python 3",
   "language": "python",
   "name": "python3"
  },
  "language_info": {
   "codemirror_mode": {
    "name": "ipython",
    "version": 3
   },
   "file_extension": ".py",
   "mimetype": "text/x-python",
   "name": "python",
   "nbconvert_exporter": "python",
   "pygments_lexer": "ipython3",
   "version": "3.6.13"
  }
 },
 "nbformat": 4,
 "nbformat_minor": 5
}
