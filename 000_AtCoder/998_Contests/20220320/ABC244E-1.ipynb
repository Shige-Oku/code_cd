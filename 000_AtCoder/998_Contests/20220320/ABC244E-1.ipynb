{
 "cells": [
  {
   "cell_type": "code",
   "execution_count": null,
   "id": "123de803-b439-4680-98b1-a7b13eb9c9ef",
   "metadata": {},
   "outputs": [],
   "source": [
    "# コンテスト終了後に通した。初期化ミス。。。"
   ]
  },
  {
   "cell_type": "code",
   "execution_count": 1,
   "id": "c34fd404-489e-4991-96f3-750ccf638eac",
   "metadata": {},
   "outputs": [],
   "source": [
    "import sys\n",
    "import numpy as np\n",
    "import math\n",
    "import collections\n",
    "import copy\n",
    "import decimal\n",
    "import itertools\n",
    "import re\n",
    "import bisect\n",
    "import scipy\n",
    "import heapq\n",
    "from collections import deque \n",
    "from functools import reduce\n",
    "from itertools import product\n",
    "from itertools import combinations\n",
    "from functools import lru_cache\n",
    "from scipy.special import comb\n",
    "from numba import njit\n",
    "from bisect import bisect_right\n",
    "from bisect import bisect_left"
   ]
  },
  {
   "cell_type": "code",
   "execution_count": 3,
   "id": "2b2c82e1-04e4-48b4-a99c-588a978c47be",
   "metadata": {},
   "outputs": [
    {
     "name": "stdin",
     "output_type": "stream",
     "text": [
      " 4 4 4 1 3 2\n"
     ]
    }
   ],
   "source": [
    "N, M, K, S, T, X = map(int, input().split())"
   ]
  },
  {
   "cell_type": "code",
   "execution_count": 4,
   "id": "1871860d-5ee2-4cfd-97a6-6181aadbca19",
   "metadata": {},
   "outputs": [
    {
     "name": "stdin",
     "output_type": "stream",
     "text": [
      " 1 2\n",
      " 2 3\n",
      " 3 4\n",
      " 1 4\n"
     ]
    }
   ],
   "source": [
    "UVn = [list(map(int, input().split())) for _ in range(M)]"
   ]
  },
  {
   "cell_type": "code",
   "execution_count": 5,
   "id": "05206110-e580-43b6-b706-5cb06c628977",
   "metadata": {},
   "outputs": [],
   "source": [
    "graph = [[] for _ in range(N+1)]\n",
    "for U, V in UVn:\n",
    "    graph[U].append(V)\n",
    "    graph[V].append(U)"
   ]
  },
  {
   "cell_type": "code",
   "execution_count": 62,
   "id": "ca52d2a5-5421-4d8a-912e-c0c191a200bd",
   "metadata": {},
   "outputs": [],
   "source": [
    "dp = [] * (K+1)\n",
    "for i in range(K+1):\n",
    "    dpa = [[0] * 2 for _ in range(N+1)]\n",
    "    dp.append(dpa)\n",
    "dp[0][S][0] = 1\n",
    "#dp[0][S][1] = 1"
   ]
  },
  {
   "cell_type": "code",
   "execution_count": 57,
   "id": "87dd95b6-c5a4-4c2f-a3fa-81bafc436eba",
   "metadata": {},
   "outputs": [],
   "source": [
    "for i in range(1, K+1):\n",
    "    for j in range(1, N+1):\n",
    "        for gr in graph[j]:\n",
    "            if gr != X:\n",
    "                dp[i][gr][0] += dp[i-1][j][0]\n",
    "                dp[i][gr][0] %= 998244353\n",
    "                dp[i][gr][1] += dp[i-1][j][1]\n",
    "                dp[i][gr][1] %= 998244353\n",
    "            else:\n",
    "                dp[i][gr][0] += dp[i-1][j][1]\n",
    "                dp[i][gr][0] %= 998244353\n",
    "                dp[i][gr][1] += dp[i-1][j][0]\n",
    "                dp[i][gr][1] %= 998244353\n",
    "                "
   ]
  },
  {
   "cell_type": "code",
   "execution_count": 67,
   "id": "322ed33d-b3f7-4a60-85e6-aca5e4e7a7fc",
   "metadata": {},
   "outputs": [
    {
     "name": "stdout",
     "output_type": "stream",
     "text": [
      "4\n"
     ]
    }
   ],
   "source": [
    "print(dp[K][T][0])"
   ]
  },
  {
   "cell_type": "code",
   "execution_count": 54,
   "id": "0e22c26c-b91c-44ca-81f6-64aae524eeee",
   "metadata": {},
   "outputs": [
    {
     "data": {
      "text/plain": [
       "([[], [2, 4], [1, 3], [2, 4], [3, 1]], 4, [2, 4])"
      ]
     },
     "execution_count": 54,
     "metadata": {},
     "output_type": "execute_result"
    }
   ],
   "source": [
    "graph, i, graph[S]"
   ]
  },
  {
   "cell_type": "code",
   "execution_count": 65,
   "id": "c4cff958-4ddc-4f82-a3b3-a4a0f1601ed1",
   "metadata": {},
   "outputs": [
    {
     "data": {
      "text/plain": [
       "[[[0, 0], [1, 1], [0, 0], [0, 0], [0, 0]],\n",
       " [[0, 0], [0, 0], [1, 1], [0, 0], [1, 1]],\n",
       " [[0, 0], [2, 2], [0, 0], [2, 2], [0, 0]],\n",
       " [[0, 0], [0, 0], [4, 4], [0, 0], [4, 4]],\n",
       " [[0, 0], [8, 8], [0, 0], [8, 8], [0, 0]]]"
      ]
     },
     "execution_count": 65,
     "metadata": {},
     "output_type": "execute_result"
    }
   ],
   "source": [
    "dp"
   ]
  },
  {
   "cell_type": "code",
   "execution_count": 33,
   "id": "90dc4b15-bb32-4fa9-b2d3-be026de87a91",
   "metadata": {},
   "outputs": [],
   "source": [
    "dp[S][1][0] = 1"
   ]
  },
  {
   "cell_type": "code",
   "execution_count": 43,
   "id": "a9102523-f68c-46b7-b148-0dd8ef387bf1",
   "metadata": {},
   "outputs": [
    {
     "data": {
      "text/plain": [
       "(1, 2, 1)"
      ]
     },
     "execution_count": 43,
     "metadata": {},
     "output_type": "execute_result"
    }
   ],
   "source": [
    "i, gr, j"
   ]
  },
  {
   "cell_type": "code",
   "execution_count": 66,
   "id": "21962129-f8d6-4999-adcd-1f90141f9f65",
   "metadata": {},
   "outputs": [],
   "source": [
    "for i in range(1, K+1):\n",
    "    for j in range(1, N+1):\n",
    "        for gr in graph[j]:\n",
    "            if gr != X:\n",
    "                dp[i][gr][0] = dp[i-1][j][0] + 1\n",
    "                dp[i][gr][0] %= 998244353\n",
    "                dp[i][gr][1] = dp[i-1][j][1] + 1\n",
    "                dp[i][gr][1] %= 998244353\n",
    "            else:\n",
    "                dp[i][gr][0] = dp[i-1][j][1] + 1\n",
    "                dp[i][gr][0] %= 998244353\n",
    "                dp[i][gr][1] += dp[i-1][j][0] + 1\n",
    "                dp[i][gr][1] %= 998244353\n",
    "                "
   ]
  },
  {
   "cell_type": "code",
   "execution_count": 45,
   "id": "510767e4-cf29-4351-9b89-14fd71a15aa6",
   "metadata": {},
   "outputs": [
    {
     "data": {
      "text/plain": [
       "(0, 0)"
      ]
     },
     "execution_count": 45,
     "metadata": {},
     "output_type": "execute_result"
    }
   ],
   "source": [
    "dp[i][gr][0], dp[i][j][0]"
   ]
  },
  {
   "cell_type": "code",
   "execution_count": 57,
   "id": "afd66333-b62c-49c5-9fcd-9008c7637af5",
   "metadata": {},
   "outputs": [],
   "source": [
    "for i in range(1, K+1):\n",
    "    for j in range(1, N+1):\n",
    "        for gr in graph[j]:\n",
    "            if gr != X:\n",
    "                dp[i][gr][0] += dp[i-1][j][0]\n",
    "                dp[i][gr][0] %= 998244353\n",
    "                dp[i][gr][1] += dp[i-1][j][1]\n",
    "                dp[i][gr][1] %= 998244353\n",
    "            else:\n",
    "                dp[i][gr][0] += dp[i-1][j][1]\n",
    "                dp[i][gr][0] %= 998244353\n",
    "                dp[i][gr][1] += dp[i-1][j][0]\n",
    "                dp[i][gr][1] %= 998244353\n",
    "                "
   ]
  },
  {
   "cell_type": "code",
   "execution_count": null,
   "id": "1592caa6-e637-475e-9878-d5b514370392",
   "metadata": {},
   "outputs": [],
   "source": []
  }
 ],
 "metadata": {
  "kernelspec": {
   "display_name": "Python 3",
   "language": "python",
   "name": "python3"
  },
  "language_info": {
   "codemirror_mode": {
    "name": "ipython",
    "version": 3
   },
   "file_extension": ".py",
   "mimetype": "text/x-python",
   "name": "python",
   "nbconvert_exporter": "python",
   "pygments_lexer": "ipython3",
   "version": "3.6.13"
  }
 },
 "nbformat": 4,
 "nbformat_minor": 5
}
