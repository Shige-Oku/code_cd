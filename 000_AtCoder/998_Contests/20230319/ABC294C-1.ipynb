{
 "cells": [
  {
   "cell_type": "code",
   "execution_count": 1,
   "id": "41310509-8518-41f9-82ea-970f4ce9e7e1",
   "metadata": {},
   "outputs": [],
   "source": [
    "import sys\n",
    "import numpy as np\n",
    "import math\n",
    "import collections\n",
    "import copy\n",
    "import decimal\n",
    "import itertools\n",
    "import re\n",
    "import bisect\n",
    "import scipy\n",
    "import heapq\n",
    "from collections import deque \n",
    "from functools import reduce\n",
    "from itertools import product\n",
    "from itertools import combinations\n",
    "from functools import lru_cache\n",
    "from scipy.special import comb\n",
    "from numba import njit\n",
    "from bisect import bisect_right\n",
    "from bisect import bisect_left"
   ]
  },
  {
   "cell_type": "code",
   "execution_count": 2,
   "id": "4661ff49-5f76-46cd-a4b4-9b7f588c0122",
   "metadata": {},
   "outputs": [
    {
     "name": "stdin",
     "output_type": "stream",
     "text": [
      " 4 3\n"
     ]
    }
   ],
   "source": [
    "N, M = map(int, input().split())"
   ]
  },
  {
   "cell_type": "code",
   "execution_count": 3,
   "id": "43c15de2-2383-43fa-baa3-a79418342238",
   "metadata": {},
   "outputs": [
    {
     "name": "stdin",
     "output_type": "stream",
     "text": [
      " 3 14 15 92\n"
     ]
    }
   ],
   "source": [
    "An = list(map(int, input().split()))"
   ]
  },
  {
   "cell_type": "code",
   "execution_count": 4,
   "id": "67bc0882-d2f6-4559-818d-768f52904d69",
   "metadata": {},
   "outputs": [
    {
     "name": "stdin",
     "output_type": "stream",
     "text": [
      " 6 53 58\n"
     ]
    }
   ],
   "source": [
    "Bn = list(map(int, input().split()))"
   ]
  },
  {
   "cell_type": "code",
   "execution_count": 7,
   "id": "04c6f127-f4d3-4c26-a18f-d02edd82dd35",
   "metadata": {},
   "outputs": [],
   "source": [
    "ABn = An + Bn\n",
    "ABn_s = sorted(ABn)"
   ]
  },
  {
   "cell_type": "code",
   "execution_count": 11,
   "id": "215d5908-be48-45da-a009-38acad79f82e",
   "metadata": {},
   "outputs": [
    {
     "name": "stdout",
     "output_type": "stream",
     "text": [
      "1 3 4 7 \n",
      "2 5 6 "
     ]
    }
   ],
   "source": [
    "import bisect\n",
    "for A in An:\n",
    "    print(bisect_left(ABn_s, A) + 1, end=' ')\n",
    "print('')\n",
    "for B in Bn:\n",
    "    print(bisect_left(ABn_s, B) + 1, end=' ')    "
   ]
  },
  {
   "cell_type": "code",
   "execution_count": 8,
   "id": "7cdad76b-209d-4048-9c92-b8a45e388421",
   "metadata": {},
   "outputs": [
    {
     "data": {
      "text/plain": [
       "[3, 6, 14, 15, 53, 58, 92]"
      ]
     },
     "execution_count": 8,
     "metadata": {},
     "output_type": "execute_result"
    }
   ],
   "source": [
    "ABn_s"
   ]
  },
  {
   "cell_type": "code",
   "execution_count": null,
   "id": "160b79d1-bd47-4cf3-8b89-3bbf32655e65",
   "metadata": {},
   "outputs": [],
   "source": []
  }
 ],
 "metadata": {
  "kernelspec": {
   "display_name": "Python 3",
   "language": "python",
   "name": "python3"
  },
  "language_info": {
   "codemirror_mode": {
    "name": "ipython",
    "version": 3
   },
   "file_extension": ".py",
   "mimetype": "text/x-python",
   "name": "python",
   "nbconvert_exporter": "python",
   "pygments_lexer": "ipython3",
   "version": "3.6.13"
  }
 },
 "nbformat": 4,
 "nbformat_minor": 5
}
