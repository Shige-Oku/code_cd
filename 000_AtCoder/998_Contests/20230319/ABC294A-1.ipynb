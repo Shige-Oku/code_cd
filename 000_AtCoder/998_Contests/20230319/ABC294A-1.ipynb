{
 "cells": [
  {
   "cell_type": "code",
   "execution_count": 1,
   "id": "a6dc094e-d09b-4df6-a9cd-398647df260e",
   "metadata": {},
   "outputs": [],
   "source": [
    "import sys\n",
    "import numpy as np\n",
    "import math\n",
    "import collections\n",
    "import copy\n",
    "import decimal\n",
    "import itertools\n",
    "import re\n",
    "import bisect\n",
    "import scipy\n",
    "import heapq\n",
    "from collections import deque \n",
    "from functools import reduce\n",
    "from itertools import product\n",
    "from itertools import combinations\n",
    "from functools import lru_cache\n",
    "from scipy.special import comb\n",
    "from numba import njit\n",
    "from bisect import bisect_right\n",
    "from bisect import bisect_left"
   ]
  },
  {
   "cell_type": "code",
   "execution_count": 7,
   "id": "90146b17-cf08-458b-bdf0-a5fb5dfedb5f",
   "metadata": {},
   "outputs": [
    {
     "name": "stdin",
     "output_type": "stream",
     "text": [
      " 10\n"
     ]
    }
   ],
   "source": [
    "N = int(input())"
   ]
  },
  {
   "cell_type": "code",
   "execution_count": 8,
   "id": "bc055b4a-cebd-456d-bca9-3eeee7cd7673",
   "metadata": {},
   "outputs": [
    {
     "name": "stdin",
     "output_type": "stream",
     "text": [
      " 22 3 17 8 30 15 12 14 11 17\n"
     ]
    }
   ],
   "source": [
    "An = list(map(int, input().split()))"
   ]
  },
  {
   "cell_type": "code",
   "execution_count": 9,
   "id": "40510520-9fe4-486c-ab12-19a84f452b8f",
   "metadata": {},
   "outputs": [
    {
     "name": "stdout",
     "output_type": "stream",
     "text": [
      "22 8 30 12 14 "
     ]
    }
   ],
   "source": [
    "for A in An:\n",
    "    if A % 2 == 0:\n",
    "        print(A, end=' ')"
   ]
  },
  {
   "cell_type": "code",
   "execution_count": 15,
   "id": "a6dbd112-5786-4542-87f2-165cbc638778",
   "metadata": {},
   "outputs": [
    {
     "name": "stdout",
     "output_type": "stream",
     "text": [
      "22 8 30 12 14\n"
     ]
    }
   ],
   "source": [
    "An2 = [x for x in An if x % 2 == 0]\n",
    "print(*An2)"
   ]
  },
  {
   "cell_type": "code",
   "execution_count": 14,
   "id": "89cc43e4-b6ee-4b92-8b6b-309ac2e9699a",
   "metadata": {},
   "outputs": [
    {
     "data": {
      "text/plain": [
       "[22, 8, 30, 12, 14]"
      ]
     },
     "execution_count": 14,
     "metadata": {},
     "output_type": "execute_result"
    }
   ],
   "source": [
    "An2"
   ]
  },
  {
   "cell_type": "code",
   "execution_count": 17,
   "id": "28554f12-d216-4d02-ac02-467bac633747",
   "metadata": {},
   "outputs": [
    {
     "name": "stdout",
     "output_type": "stream",
     "text": [
      "22 8 30 12 14\n"
     ]
    }
   ],
   "source": [
    "print(*[x for x in An if x % 2 == 0])"
   ]
  },
  {
   "cell_type": "code",
   "execution_count": null,
   "id": "b105acfc-c3f4-4368-8dab-135ff0690969",
   "metadata": {},
   "outputs": [],
   "source": []
  }
 ],
 "metadata": {
  "kernelspec": {
   "display_name": "Python 3",
   "language": "python",
   "name": "python3"
  },
  "language_info": {
   "codemirror_mode": {
    "name": "ipython",
    "version": 3
   },
   "file_extension": ".py",
   "mimetype": "text/x-python",
   "name": "python",
   "nbconvert_exporter": "python",
   "pygments_lexer": "ipython3",
   "version": "3.6.13"
  }
 },
 "nbformat": 4,
 "nbformat_minor": 5
}
