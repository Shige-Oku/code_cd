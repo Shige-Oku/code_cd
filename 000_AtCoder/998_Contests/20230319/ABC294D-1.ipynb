{
 "cells": [
  {
   "cell_type": "code",
   "execution_count": 1,
   "id": "50398d73-7f06-4685-91fb-b1605dc2e2f8",
   "metadata": {},
   "outputs": [],
   "source": [
    "import sys\n",
    "import numpy as np\n",
    "import math\n",
    "import collections\n",
    "import copy\n",
    "import decimal\n",
    "import itertools\n",
    "import re\n",
    "import bisect\n",
    "import scipy\n",
    "import heapq\n",
    "from collections import deque \n",
    "from functools import reduce\n",
    "from itertools import product\n",
    "from itertools import combinations\n",
    "from functools import lru_cache\n",
    "from scipy.special import comb\n",
    "from numba import njit\n",
    "from bisect import bisect_right\n",
    "from bisect import bisect_left"
   ]
  },
  {
   "cell_type": "code",
   "execution_count": 2,
   "id": "d63f0d61-5de2-4653-bc31-fafccdcc0205",
   "metadata": {},
   "outputs": [
    {
     "name": "stdin",
     "output_type": "stream",
     "text": [
      " 4 10\n"
     ]
    }
   ],
   "source": [
    "N, Q = map(int, input().split())"
   ]
  },
  {
   "cell_type": "code",
   "execution_count": 3,
   "id": "c8d63f7a-9e15-4e48-b05b-187cd4d3bc0b",
   "metadata": {},
   "outputs": [
    {
     "name": "stdin",
     "output_type": "stream",
     "text": [
      " 1\n",
      " 1\n",
      " 3\n",
      " 2 1\n",
      " 1\n",
      " 2 3\n",
      " 3 \n",
      " 1\n",
      " 2 2\n",
      " 3\n"
     ]
    }
   ],
   "source": [
    "Eq = [list(input().split()) for _ in range(Q)]"
   ]
  },
  {
   "cell_type": "code",
   "execution_count": 23,
   "id": "f9d639fd-ef82-4973-8274-e759c328f026",
   "metadata": {},
   "outputs": [
    {
     "name": "stdout",
     "output_type": "stream",
     "text": [
      "1\n",
      "2\n",
      "4\n"
     ]
    }
   ],
   "source": [
    "import heapq\n",
    "cnt = 0\n",
    "q = []\n",
    "s = set()\n",
    "for i, E in enumerate(Eq):\n",
    "    if E[0] == '1':\n",
    "        cnt += 1\n",
    "        heapq.heappush(q, cnt)\n",
    "    elif E[0] == '2':\n",
    "        s.add(E[1])\n",
    "    else:\n",
    "        while True:\n",
    "            if str(q[0]) in s:\n",
    "                _ = heapq.heappop(q)\n",
    "                continue\n",
    "            print(q[0])\n",
    "            break"
   ]
  },
  {
   "cell_type": "code",
   "execution_count": 6,
   "id": "597c93c9-82ea-4199-8c26-e1462e1c15d9",
   "metadata": {},
   "outputs": [
    {
     "data": {
      "text/plain": [
       "[1, 2, 3, 4]"
      ]
     },
     "execution_count": 6,
     "metadata": {},
     "output_type": "execute_result"
    }
   ],
   "source": [
    "q1"
   ]
  },
  {
   "cell_type": "code",
   "execution_count": 16,
   "id": "ae1f735c-51bf-46ab-8ba2-c80d677ba85b",
   "metadata": {},
   "outputs": [
    {
     "data": {
      "text/plain": [
       "{'1', '2', '3'}"
      ]
     },
     "execution_count": 16,
     "metadata": {},
     "output_type": "execute_result"
    }
   ],
   "source": [
    "s"
   ]
  },
  {
   "cell_type": "code",
   "execution_count": 17,
   "id": "72c358a6-d430-4eef-8696-125d1fa9161c",
   "metadata": {},
   "outputs": [
    {
     "data": {
      "text/plain": [
       "[1, 2, 3, 4]"
      ]
     },
     "execution_count": 17,
     "metadata": {},
     "output_type": "execute_result"
    }
   ],
   "source": [
    "q"
   ]
  },
  {
   "cell_type": "code",
   "execution_count": null,
   "id": "9d1f4389-e071-467f-9057-8f87c6ae905d",
   "metadata": {},
   "outputs": [],
   "source": []
  }
 ],
 "metadata": {
  "kernelspec": {
   "display_name": "Python 3",
   "language": "python",
   "name": "python3"
  },
  "language_info": {
   "codemirror_mode": {
    "name": "ipython",
    "version": 3
   },
   "file_extension": ".py",
   "mimetype": "text/x-python",
   "name": "python",
   "nbconvert_exporter": "python",
   "pygments_lexer": "ipython3",
   "version": "3.6.13"
  }
 },
 "nbformat": 4,
 "nbformat_minor": 5
}
