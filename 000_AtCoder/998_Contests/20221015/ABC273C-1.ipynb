{
 "cells": [
  {
   "cell_type": "code",
   "execution_count": 1,
   "id": "e573432d-cc87-4275-ae8d-bb142ed0a8ea",
   "metadata": {},
   "outputs": [],
   "source": [
    "import sys\n",
    "import numpy as np\n",
    "import math\n",
    "import collections\n",
    "import copy\n",
    "import decimal\n",
    "import itertools\n",
    "import re\n",
    "import bisect\n",
    "import scipy\n",
    "import heapq\n",
    "from collections import deque \n",
    "from functools import reduce\n",
    "from itertools import product\n",
    "from itertools import combinations\n",
    "from functools import lru_cache\n",
    "from scipy.special import comb\n",
    "from numba import njit\n",
    "from bisect import bisect_right\n",
    "from bisect import bisect_left"
   ]
  },
  {
   "cell_type": "code",
   "execution_count": 43,
   "id": "bef002d8-84d2-4f41-9ed2-e955734c8951",
   "metadata": {},
   "outputs": [
    {
     "name": "stdin",
     "output_type": "stream",
     "text": [
      " 10\n"
     ]
    }
   ],
   "source": [
    "N = int(input())"
   ]
  },
  {
   "cell_type": "code",
   "execution_count": 44,
   "id": "dd444f99-cd2d-49a1-acca-54299be8cadb",
   "metadata": {},
   "outputs": [
    {
     "name": "stdin",
     "output_type": "stream",
     "text": [
      " 979861204 57882493 979861204 447672230 644706927 710511029 763027379 710511029 447672230 136397527\n"
     ]
    }
   ],
   "source": [
    "An = list(map(int, input().split()))"
   ]
  },
  {
   "cell_type": "code",
   "execution_count": 45,
   "id": "e14c3b2d-3b50-4439-84f4-739170e339cd",
   "metadata": {},
   "outputs": [],
   "source": [
    "from bisect import bisect_left\n",
    "An_s = set(An)\n",
    "An_s = sorted(An_s)\n",
    "An_n = []\n",
    "for A in An:\n",
    "    p = bisect_left(An_s, A)\n",
    "    An_n.append(len(An_s)-p-1)\n"
   ]
  },
  {
   "cell_type": "code",
   "execution_count": 46,
   "id": "33afb763-df23-489a-8ffc-7f057b608343",
   "metadata": {},
   "outputs": [
    {
     "name": "stdout",
     "output_type": "stream",
     "text": [
      "2\n",
      "1\n",
      "2\n",
      "1\n",
      "2\n",
      "1\n",
      "1\n",
      "0\n",
      "0\n",
      "0\n"
     ]
    }
   ],
   "source": [
    "from collections import Counter\n",
    "An_c = Counter(An_n)\n",
    "for i in range(N):\n",
    "    print(An_c[i])"
   ]
  },
  {
   "cell_type": "code",
   "execution_count": 47,
   "id": "6f123ba9-1525-4e5b-a7f3-df3ba17ea34b",
   "metadata": {},
   "outputs": [
    {
     "data": {
      "text/plain": [
       "(list, 136397527)"
      ]
     },
     "execution_count": 47,
     "metadata": {},
     "output_type": "execute_result"
    }
   ],
   "source": [
    "type(An_s), A"
   ]
  },
  {
   "cell_type": "code",
   "execution_count": 48,
   "id": "a14b5a2b-5e35-4881-9d11-3c98d75a6441",
   "metadata": {},
   "outputs": [
    {
     "data": {
      "text/plain": [
       "1"
      ]
     },
     "execution_count": 48,
     "metadata": {},
     "output_type": "execute_result"
    }
   ],
   "source": [
    "bisect_left(An_s, A)"
   ]
  },
  {
   "cell_type": "code",
   "execution_count": 34,
   "id": "727e1e90-ed27-4b91-a2d5-f212372f3652",
   "metadata": {},
   "outputs": [
    {
     "data": {
      "text/plain": [
       "([2, 1, 3, 0, 2, 0], [(0, 2), (1, 1), (2, 2), (3, 1)])"
      ]
     },
     "execution_count": 34,
     "metadata": {},
     "output_type": "execute_result"
    }
   ],
   "source": [
    "An_n, An_cs"
   ]
  },
  {
   "cell_type": "code",
   "execution_count": null,
   "id": "654efd63-40c1-4f4f-822b-889c33090d2c",
   "metadata": {},
   "outputs": [],
   "source": []
  }
 ],
 "metadata": {
  "kernelspec": {
   "display_name": "Python 3",
   "language": "python",
   "name": "python3"
  },
  "language_info": {
   "codemirror_mode": {
    "name": "ipython",
    "version": 3
   },
   "file_extension": ".py",
   "mimetype": "text/x-python",
   "name": "python",
   "nbconvert_exporter": "python",
   "pygments_lexer": "ipython3",
   "version": "3.6.13"
  }
 },
 "nbformat": 4,
 "nbformat_minor": 5
}
