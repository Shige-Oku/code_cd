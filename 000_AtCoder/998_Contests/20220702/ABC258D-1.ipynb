{
 "cells": [
  {
   "cell_type": "code",
   "execution_count": 1,
   "id": "f5a78e65-5636-4a47-8335-b457004220c9",
   "metadata": {},
   "outputs": [],
   "source": [
    "import sys\n",
    "import numpy as np\n",
    "import math\n",
    "import collections\n",
    "import copy\n",
    "import decimal\n",
    "import itertools\n",
    "import re\n",
    "import bisect\n",
    "import scipy\n",
    "import heapq\n",
    "from collections import deque \n",
    "from functools import reduce\n",
    "from itertools import product\n",
    "from itertools import combinations\n",
    "from functools import lru_cache\n",
    "from scipy.special import comb\n",
    "from numba import njit\n",
    "from bisect import bisect_right\n",
    "from bisect import bisect_left"
   ]
  },
  {
   "cell_type": "code",
   "execution_count": 1,
   "id": "5c7bd5d3-4d15-4827-b6b4-b6a40f2c81ae",
   "metadata": {},
   "outputs": [
    {
     "name": "stdin",
     "output_type": "stream",
     "text": [
      " 3 4\n"
     ]
    }
   ],
   "source": [
    "N, X = map(int, input().split())"
   ]
  },
  {
   "cell_type": "code",
   "execution_count": 6,
   "id": "47aff711-ed80-4632-b14b-3263792839f0",
   "metadata": {},
   "outputs": [
    {
     "name": "stdin",
     "output_type": "stream",
     "text": [
      " 3 4\n",
      " 2 3\n",
      "  4 2\n"
     ]
    }
   ],
   "source": [
    "ABn = [list(map(int, input().split())) for _ in range(N)]"
   ]
  },
  {
   "cell_type": "code",
   "execution_count": 7,
   "id": "a414e434-5fcf-497f-a26a-cb20207baadd",
   "metadata": {},
   "outputs": [],
   "source": [
    "cu1 = [0, ]\n",
    "cu2 = [0, ]\n",
    "mi = [10**20, ]\n",
    "for A, B in ABn:\n",
    "    cu1.append(cu1[-1]+A)\n",
    "    cu2.append(cu2[-1]+B)\n",
    "    mi.append(min(mi[-1], B))\n"
   ]
  },
  {
   "cell_type": "code",
   "execution_count": 8,
   "id": "1579183a-1654-402d-bc57-26924b2e3260",
   "metadata": {},
   "outputs": [],
   "source": [
    "ans = 10**20\n",
    "for i in range(N):\n",
    "    ca = cu1[i+1] + cu2[i+1]\n",
    "    ca += (X-i-1) * mi[i+1]\n",
    "    ans = min(ans, ca)\n",
    "#     print(ans, cu1[i+1], cu2[i+1], ABn[i][1], ca)"
   ]
  },
  {
   "cell_type": "code",
   "execution_count": 9,
   "id": "bbd0732e-3e65-4da7-ba7e-98af401373cd",
   "metadata": {},
   "outputs": [
    {
     "name": "stdout",
     "output_type": "stream",
     "text": [
      "18\n"
     ]
    }
   ],
   "source": [
    "print(ans)"
   ]
  },
  {
   "cell_type": "code",
   "execution_count": 8,
   "id": "880e2a83-74d1-4f07-8229-34da0c72b80b",
   "metadata": {},
   "outputs": [
    {
     "data": {
      "text/plain": [
       "([0, 3, 5, 9], [0, 4, 7, 9], [100000000000000000000, 4, 3, 2])"
      ]
     },
     "execution_count": 8,
     "metadata": {},
     "output_type": "execute_result"
    }
   ],
   "source": [
    "cu1, cu2, mi"
   ]
  },
  {
   "cell_type": "code",
   "execution_count": null,
   "id": "22bc6b65-4f9b-466d-a7b3-656345a70f74",
   "metadata": {},
   "outputs": [],
   "source": [
    "# 解説を読んで修正"
   ]
  },
  {
   "cell_type": "code",
   "execution_count": 12,
   "id": "94e29fc3-62c5-4453-8bb2-1e08e9d998c7",
   "metadata": {},
   "outputs": [],
   "source": [
    "cu1 = [0, ]\n",
    "cu2 = [0, ]\n",
    "for A, B in ABn:\n",
    "    cu1.append(cu1[-1]+A)\n",
    "    cu2.append(cu2[-1]+B)\n"
   ]
  },
  {
   "cell_type": "code",
   "execution_count": 10,
   "id": "8189bf3e-a0d8-42fd-b60f-0a15907b6f41",
   "metadata": {},
   "outputs": [],
   "source": [
    "ans = 10**20\n",
    "for i in range(min(N, X)):\n",
    "    ca = cu1[i+1] + cu2[i+1] \n",
    "    ca += (X-1-i) * ABn[i][1]\n",
    "    ans = min(ans, ca)\n",
    "#     print(ans, cu1[i+1], cu2[i+1], ABn[i][1], ca)"
   ]
  },
  {
   "cell_type": "code",
   "execution_count": 11,
   "id": "8d63bcd9-7e10-4494-964d-d100b200cd1a",
   "metadata": {},
   "outputs": [
    {
     "name": "stdout",
     "output_type": "stream",
     "text": [
      "18\n"
     ]
    }
   ],
   "source": [
    "print(ans)"
   ]
  },
  {
   "cell_type": "code",
   "execution_count": 13,
   "id": "51c3a497-e154-4c69-ad9c-e53a30e40817",
   "metadata": {},
   "outputs": [],
   "source": [
    "cu1 = [0, ]\n",
    "for A, B in ABn:\n",
    "    cu1.append(cu1[-1]+A+B)\n"
   ]
  },
  {
   "cell_type": "code",
   "execution_count": 14,
   "id": "d05dd2bc-4733-4b5a-b373-158202fe3c92",
   "metadata": {},
   "outputs": [],
   "source": [
    "ans = 10**20\n",
    "for i in range(min(N, X)):\n",
    "    ca = cu1[i+1]\n",
    "    ca += (X-1-i) * ABn[i][1]\n",
    "    ans = min(ans, ca)\n",
    "#     print(ans, cu1[i+1], cu2[i+1], ABn[i][1], ca)"
   ]
  },
  {
   "cell_type": "code",
   "execution_count": 15,
   "id": "f85c9d0c-62f5-44fa-b396-103ae3fca4ca",
   "metadata": {},
   "outputs": [
    {
     "name": "stdout",
     "output_type": "stream",
     "text": [
      "18\n"
     ]
    }
   ],
   "source": [
    "print(ans)"
   ]
  },
  {
   "cell_type": "code",
   "execution_count": 25,
   "id": "7822454a-4033-4774-af33-9dfa66c8d4f4",
   "metadata": {},
   "outputs": [
    {
     "name": "stdout",
     "output_type": "stream",
     "text": [
      "19 3 4 4 19\n",
      "18 5 7 3 18\n",
      "18 9 9 2 20\n"
     ]
    }
   ],
   "source": [
    "ans = 10**40\n",
    "for i in range(N):\n",
    "    ca = cu1[i] + cu2[i]\n",
    "    ca += ABn[i][0]\n",
    "    ca += (X-i) * ABn[i][1]\n",
    "    ans = min(ans, ca)\n",
    "#     print(ans, cu1[i+1], cu2[i+1], ABn[i][1], ca)"
   ]
  },
  {
   "cell_type": "code",
   "execution_count": null,
   "id": "44f1c14a-68b8-4074-a0e9-87ea108b1605",
   "metadata": {},
   "outputs": [],
   "source": []
  }
 ],
 "metadata": {
  "kernelspec": {
   "display_name": "Python 3",
   "language": "python",
   "name": "python3"
  },
  "language_info": {
   "codemirror_mode": {
    "name": "ipython",
    "version": 3
   },
   "file_extension": ".py",
   "mimetype": "text/x-python",
   "name": "python",
   "nbconvert_exporter": "python",
   "pygments_lexer": "ipython3",
   "version": "3.6.13"
  }
 },
 "nbformat": 4,
 "nbformat_minor": 5
}
