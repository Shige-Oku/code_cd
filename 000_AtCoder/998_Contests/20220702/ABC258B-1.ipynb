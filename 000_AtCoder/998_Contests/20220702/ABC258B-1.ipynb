{
 "cells": [
  {
   "cell_type": "code",
   "execution_count": 1,
   "id": "f7319777-c04c-4b7d-bdb1-495af049853c",
   "metadata": {},
   "outputs": [],
   "source": [
    "import sys\n",
    "import numpy as np\n",
    "import math\n",
    "import collections\n",
    "import copy\n",
    "import decimal\n",
    "import itertools\n",
    "import re\n",
    "import bisect\n",
    "import scipy\n",
    "import heapq\n",
    "from collections import deque \n",
    "from functools import reduce\n",
    "from itertools import product\n",
    "from itertools import combinations\n",
    "from functools import lru_cache\n",
    "from scipy.special import comb\n",
    "from numba import njit\n",
    "from bisect import bisect_right\n",
    "from bisect import bisect_left"
   ]
  },
  {
   "cell_type": "code",
   "execution_count": 9,
   "id": "d4caf1c1-3fab-4459-82cf-478305788d5e",
   "metadata": {},
   "outputs": [],
   "source": [
    "import itertools"
   ]
  },
  {
   "cell_type": "code",
   "execution_count": 1,
   "id": "2616504a-6ba0-441a-86c9-6908678e2c49",
   "metadata": {},
   "outputs": [
    {
     "name": "stdin",
     "output_type": "stream",
     "text": [
      " 4\n"
     ]
    }
   ],
   "source": [
    "N = int(input())"
   ]
  },
  {
   "cell_type": "code",
   "execution_count": 2,
   "id": "a88c0237-a367-445d-81ab-c6c1c55299c9",
   "metadata": {},
   "outputs": [
    {
     "name": "stdin",
     "output_type": "stream",
     "text": [
      " 1161\n",
      " 1119\n",
      " 7111\n",
      " 1811\n"
     ]
    }
   ],
   "source": [
    "An = [input() for _ in range(N)]"
   ]
  },
  {
   "cell_type": "code",
   "execution_count": 3,
   "id": "5c281396-1ba1-4d1b-852b-86a448154fb8",
   "metadata": {},
   "outputs": [],
   "source": [
    "# 解説を読んで実装"
   ]
  },
  {
   "cell_type": "code",
   "execution_count": 28,
   "id": "afee188f-d8d0-4efe-b683-134d86daaadd",
   "metadata": {},
   "outputs": [],
   "source": [
    "def solve(h, w):\n",
    "    ret = 0\n",
    "    for x, y in itertools.product([-1, 0, 1], repeat=2):\n",
    "        if x == y == 0:\n",
    "            continue\n",
    "        s = An[h][w]\n",
    "        a, b = h, w\n",
    "        for i in range(N-1):\n",
    "            a += N - x\n",
    "            a %= N\n",
    "            b += N - y\n",
    "            b %= N\n",
    "            s += An[a][b]\n",
    "        ret = max(ret, int(s))\n",
    "    return ret"
   ]
  },
  {
   "cell_type": "code",
   "execution_count": 29,
   "id": "4b90a102-8e5d-472e-b3a0-a4f257de52e8",
   "metadata": {},
   "outputs": [],
   "source": [
    "ans = 0\n",
    "for i in range(N):\n",
    "    for j in range(N):\n",
    "        c = solve(i, j)\n",
    "        ans = max(ans, c)"
   ]
  },
  {
   "cell_type": "code",
   "execution_count": 30,
   "id": "c87d840a-241c-4567-ae7d-c255efcb0ee9",
   "metadata": {},
   "outputs": [
    {
     "name": "stdout",
     "output_type": "stream",
     "text": [
      "9786\n"
     ]
    }
   ],
   "source": [
    "print(ans)"
   ]
  },
  {
   "cell_type": "code",
   "execution_count": 25,
   "id": "446cb459-6400-41b9-b45d-fa03b5390d85",
   "metadata": {},
   "outputs": [
    {
     "name": "stdout",
     "output_type": "stream",
     "text": [
      "-1 -1 1111\n",
      "-1 0 1171\n",
      "-1 1 1918\n",
      "0 -1 1161\n",
      "0 1 1161\n",
      "1 -1 1819\n",
      "1 0 1171\n",
      "1 1 1111\n"
     ]
    },
    {
     "data": {
      "text/plain": [
       "1918"
      ]
     },
     "execution_count": 25,
     "metadata": {},
     "output_type": "execute_result"
    }
   ],
   "source": [
    "solve(0, 0)"
   ]
  },
  {
   "cell_type": "code",
   "execution_count": null,
   "id": "86f0f10d-7d7b-41c6-a593-17204e7de8cc",
   "metadata": {},
   "outputs": [],
   "source": [
    "# WA"
   ]
  },
  {
   "cell_type": "code",
   "execution_count": 17,
   "id": "54bd03f4-cab6-4eb4-acb4-cc955d4355bd",
   "metadata": {},
   "outputs": [],
   "source": [
    "def h():\n",
    "    ret = 0\n",
    "    for h in range(N):\n",
    "        s = An[h]\n",
    "        s = sorted(s, reverse=True)\n",
    "        ret = max(ret, int(''.join(s)))\n",
    "    return ret"
   ]
  },
  {
   "cell_type": "code",
   "execution_count": 21,
   "id": "0895d7e1-da3e-47b9-aa8d-8c7e95c79101",
   "metadata": {},
   "outputs": [],
   "source": [
    "def w():\n",
    "    ret = 0\n",
    "    for w in range(N):\n",
    "        s = \"\"\n",
    "        for h in range(N):\n",
    "            s += An[h][w]\n",
    "        s = sorted(s, reverse=True)\n",
    "        ret = max(ret, int(''.join(s)))\n",
    "    return ret"
   ]
  },
  {
   "cell_type": "code",
   "execution_count": 35,
   "id": "c6161bbf-db8e-4c66-9b4e-c78292f6ae94",
   "metadata": {},
   "outputs": [],
   "source": [
    "def s():\n",
    "    ret = 0\n",
    "    for i in range(N):\n",
    "        s = \"\"\n",
    "        h, w = 0, i\n",
    "        for j in range(N):\n",
    "            h += j\n",
    "            w += j\n",
    "            h %= N\n",
    "            w %= N\n",
    "            s += An[h][w]\n",
    "        s = sorted(s, reverse=True)\n",
    "        ret = max(ret, int(''.join(s)))\n",
    "    return ret        "
   ]
  },
  {
   "cell_type": "code",
   "execution_count": 36,
   "id": "ab3c7c54-3ea0-4582-aaee-a59d751b608b",
   "metadata": {},
   "outputs": [
    {
     "name": "stdout",
     "output_type": "stream",
     "text": [
      "9876\n"
     ]
    }
   ],
   "source": [
    "print(max(h(), w(), s()))"
   ]
  },
  {
   "cell_type": "code",
   "execution_count": 5,
   "id": "117fab47-cc49-475f-b4ae-96ddcb4dae4d",
   "metadata": {},
   "outputs": [
    {
     "data": {
      "text/plain": [
       "['4', '3', '2', '1']"
      ]
     },
     "execution_count": 5,
     "metadata": {},
     "output_type": "execute_result"
    }
   ],
   "source": [
    "sorted('1234', reverse=True)"
   ]
  },
  {
   "cell_type": "code",
   "execution_count": 28,
   "id": "87cb43da-bfcd-4a47-acdc-d866f86f8dc5",
   "metadata": {},
   "outputs": [
    {
     "data": {
      "text/plain": [
       "(9111, 9111, 1111)"
      ]
     },
     "execution_count": 28,
     "metadata": {},
     "output_type": "execute_result"
    }
   ],
   "source": [
    "h(), w(), s()"
   ]
  },
  {
   "cell_type": "code",
   "execution_count": 32,
   "id": "b5541dea-61d9-4d22-a6c1-761904a7cddd",
   "metadata": {},
   "outputs": [
    {
     "name": "stdout",
     "output_type": "stream",
     "text": [
      "['1', '1', '1', '1']\n",
      "['1', '1', '1', '1']\n",
      "['9', '8', '7', '6']\n",
      "['1', '1', '1', '1']\n"
     ]
    },
    {
     "data": {
      "text/plain": [
       "9876"
      ]
     },
     "execution_count": 32,
     "metadata": {},
     "output_type": "execute_result"
    }
   ],
   "source": [
    "s()"
   ]
  },
  {
   "cell_type": "code",
   "execution_count": 38,
   "id": "2b8b1d18-b393-4927-8c19-37c5ada2b63e",
   "metadata": {},
   "outputs": [
    {
     "data": {
      "text/plain": [
       "True"
      ]
     },
     "execution_count": 38,
     "metadata": {},
     "output_type": "execute_result"
    }
   ],
   "source": [
    "1111111111 == 1111111111"
   ]
  },
  {
   "cell_type": "code",
   "execution_count": 39,
   "id": "d0e59c59-6e43-46ce-b191-54974a75d8cc",
   "metadata": {},
   "outputs": [
    {
     "data": {
      "text/plain": [
       "3"
      ]
     },
     "execution_count": 39,
     "metadata": {},
     "output_type": "execute_result"
    }
   ],
   "source": [
    "max(1, 2, 3)"
   ]
  },
  {
   "cell_type": "code",
   "execution_count": null,
   "id": "11005730-20cf-424d-a908-64fb41efebac",
   "metadata": {},
   "outputs": [],
   "source": []
  }
 ],
 "metadata": {
  "kernelspec": {
   "display_name": "Python 3",
   "language": "python",
   "name": "python3"
  },
  "language_info": {
   "codemirror_mode": {
    "name": "ipython",
    "version": 3
   },
   "file_extension": ".py",
   "mimetype": "text/x-python",
   "name": "python",
   "nbconvert_exporter": "python",
   "pygments_lexer": "ipython3",
   "version": "3.6.13"
  }
 },
 "nbformat": 4,
 "nbformat_minor": 5
}
