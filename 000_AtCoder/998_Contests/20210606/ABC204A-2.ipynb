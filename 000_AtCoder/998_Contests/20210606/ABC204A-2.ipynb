{
 "cells": [
  {
   "cell_type": "code",
   "execution_count": null,
   "id": "01e5167e-ae3f-40dd-bf9f-b86debcbcf40",
   "metadata": {},
   "outputs": [],
   "source": [
    "# 後でもう一度実相"
   ]
  },
  {
   "cell_type": "code",
   "execution_count": 1,
   "id": "c8732334-6622-4741-9c57-f7807f631fd3",
   "metadata": {},
   "outputs": [
    {
     "name": "stdin",
     "output_type": "stream",
     "text": [
      " 0 1\n"
     ]
    }
   ],
   "source": [
    "X, Y = map(int, input().split())"
   ]
  },
  {
   "cell_type": "code",
   "execution_count": null,
   "id": "f1a28d59-3ba9-429e-b353-cce18fff8f03",
   "metadata": {},
   "outputs": [],
   "source": [
    "if X == Y:\n",
    "    print(X)\n",
    "elif X + Y == 1:\n",
    "    print('2')\n",
    "elif X + Y == 2:\n",
    "    print('1')\n",
    "else:\n",
    "    print('0')"
   ]
  }
 ],
 "metadata": {
  "kernelspec": {
   "display_name": "Python 3",
   "language": "python",
   "name": "python3"
  },
  "language_info": {
   "codemirror_mode": {
    "name": "ipython",
    "version": 3
   },
   "file_extension": ".py",
   "mimetype": "text/x-python",
   "name": "python",
   "nbconvert_exporter": "python",
   "pygments_lexer": "ipython3",
   "version": "3.6.13"
  }
 },
 "nbformat": 4,
 "nbformat_minor": 5
}
