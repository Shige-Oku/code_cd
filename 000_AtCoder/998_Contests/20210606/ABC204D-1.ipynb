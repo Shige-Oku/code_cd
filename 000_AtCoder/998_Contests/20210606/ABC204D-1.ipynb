{
 "cells": [
  {
   "cell_type": "code",
   "execution_count": null,
   "id": "7ef1f589-d364-4333-8a20-708af4f7aa89",
   "metadata": {},
   "outputs": [],
   "source": [
    "# サンプルが合わない"
   ]
  },
  {
   "cell_type": "code",
   "execution_count": 1,
   "id": "a121645f-3783-4eab-995a-cd436c8e4826",
   "metadata": {},
   "outputs": [],
   "source": [
    "import sys\n",
    "import numpy as np\n",
    "import math\n",
    "import collections\n",
    "import copy\n",
    "import decimal\n",
    "import itertools\n",
    "import re\n",
    "import bisect\n",
    "import scipy\n",
    "import heapq\n",
    "from collections import deque \n",
    "from functools import reduce\n",
    "from itertools import product\n",
    "from itertools import combinations\n",
    "from itertools import chain\n",
    "from functools import lru_cache\n",
    "from scipy.special import comb\n",
    "from numba import njit\n",
    "from bisect import bisect_right\n",
    "from bisect import bisect_left"
   ]
  },
  {
   "cell_type": "code",
   "execution_count": 11,
   "id": "74f50a11-2be7-435c-9bde-c1aee4e4f077",
   "metadata": {},
   "outputs": [
    {
     "name": "stdin",
     "output_type": "stream",
     "text": [
      " 9\n"
     ]
    }
   ],
   "source": [
    "N = int(input())"
   ]
  },
  {
   "cell_type": "code",
   "execution_count": 12,
   "id": "793cd917-c287-43d9-a0a6-06b4e7243fc9",
   "metadata": {},
   "outputs": [
    {
     "name": "stdin",
     "output_type": "stream",
     "text": [
      " 3 14 15 9 26 5 35 89 79\n"
     ]
    }
   ],
   "source": [
    "Tn = list(map(int, input().split()))"
   ]
  },
  {
   "cell_type": "code",
   "execution_count": 24,
   "id": "7e942ab7-7ca2-48e4-a2b3-0c492508e930",
   "metadata": {},
   "outputs": [],
   "source": [
    "Tn_s = sorted(Tn, reverse=True)\n",
    "O1 = []\n",
    "O2 = []\n",
    "O1.append(Tn_s[0])\n",
    "O1_t = Tn_s[0]\n",
    "O2_t = 0\n",
    "total = sum(Tn_s) - O1_t\n",
    "for T in Tn_s[1:]:\n",
    "    sa = abs(O1_t-O2_t)\n",
    "    if abs(T - sa) > total - T:\n",
    "        if O1_t > O2_t:\n",
    "            O2.append(T)\n",
    "            O2_t += T\n",
    "        else:\n",
    "            O1.append(T)\n",
    "            O1_t += T\n",
    "        continue\n",
    "    if O1_t > O2_t:\n",
    "        O1.append(T)\n",
    "        O1_t += T\n",
    "    else:\n",
    "        O2.append(T)\n",
    "        O2_t += T\n",
    "        "
   ]
  },
  {
   "cell_type": "code",
   "execution_count": 25,
   "id": "4ac23df7-538f-4a3f-bccb-7307575f966f",
   "metadata": {},
   "outputs": [
    {
     "name": "stdout",
     "output_type": "stream",
     "text": [
      "230\n"
     ]
    }
   ],
   "source": [
    "print(max(O1_t, O2_t))"
   ]
  },
  {
   "cell_type": "code",
   "execution_count": 19,
   "id": "f820663c-20cf-4125-a662-053eeabfd248",
   "metadata": {},
   "outputs": [
    {
     "data": {
      "text/plain": [
       "(275, 0)"
      ]
     },
     "execution_count": 19,
     "metadata": {},
     "output_type": "execute_result"
    }
   ],
   "source": [
    "O1_t, O2_t"
   ]
  },
  {
   "cell_type": "code",
   "execution_count": 20,
   "id": "a84bbb98-332b-408d-8d08-d331cbf5941e",
   "metadata": {},
   "outputs": [
    {
     "data": {
      "text/plain": [
       "[89, 79, 35, 26, 15, 14, 9, 5, 3]"
      ]
     },
     "execution_count": 20,
     "metadata": {},
     "output_type": "execute_result"
    }
   ],
   "source": [
    "Tn_s"
   ]
  },
  {
   "cell_type": "code",
   "execution_count": 27,
   "id": "77f0fc20-9fbb-4bf5-b6c2-f815b5e2a601",
   "metadata": {},
   "outputs": [
    {
     "data": {
      "text/plain": [
       "(275, 168)"
      ]
     },
     "execution_count": 27,
     "metadata": {},
     "output_type": "execute_result"
    }
   ],
   "source": [
    "sum(Tn) - 89+79"
   ]
  },
  {
   "cell_type": "code",
   "execution_count": 26,
   "id": "88935e4f-4c35-4f1b-8ace-922b62416d19",
   "metadata": {},
   "outputs": [
    {
     "data": {
      "text/plain": [
       "([89, 79, 35, 15, 9, 3], [26, 14, 5])"
      ]
     },
     "execution_count": 26,
     "metadata": {},
     "output_type": "execute_result"
    }
   ],
   "source": [
    "O1, O2"
   ]
  },
  {
   "cell_type": "code",
   "execution_count": null,
   "id": "7527db88-ce72-4f0c-a378-3e9c8b7a29bc",
   "metadata": {},
   "outputs": [],
   "source": []
  }
 ],
 "metadata": {
  "kernelspec": {
   "display_name": "Python 3",
   "language": "python",
   "name": "python3"
  },
  "language_info": {
   "codemirror_mode": {
    "name": "ipython",
    "version": 3
   },
   "file_extension": ".py",
   "mimetype": "text/x-python",
   "name": "python",
   "nbconvert_exporter": "python",
   "pygments_lexer": "ipython3",
   "version": "3.6.13"
  }
 },
 "nbformat": 4,
 "nbformat_minor": 5
}
