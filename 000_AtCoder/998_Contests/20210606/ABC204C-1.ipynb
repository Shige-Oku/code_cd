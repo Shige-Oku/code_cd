{
 "cells": [
  {
   "cell_type": "code",
   "execution_count": 1,
   "id": "84be9743-fec0-4ce2-a56a-ec5eff75fd7c",
   "metadata": {},
   "outputs": [],
   "source": [
    "import sys\n",
    "import numpy as np\n",
    "import math\n",
    "import collections\n",
    "import copy\n",
    "import decimal\n",
    "import itertools\n",
    "import re\n",
    "import bisect\n",
    "import scipy\n",
    "import heapq\n",
    "from collections import deque \n",
    "from functools import reduce\n",
    "from itertools import product\n",
    "from itertools import combinations\n",
    "from itertools import chain\n",
    "from functools import lru_cache\n",
    "from scipy.special import comb\n",
    "from numba import njit\n",
    "from bisect import bisect_right\n",
    "from bisect import bisect_left"
   ]
  },
  {
   "cell_type": "code",
   "execution_count": 2,
   "id": "a8573c0a-8215-46e9-8aee-e917e47317a0",
   "metadata": {},
   "outputs": [
    {
     "name": "stdin",
     "output_type": "stream",
     "text": [
      " 3 3\n"
     ]
    }
   ],
   "source": [
    "N, M = map(int, input().split())"
   ]
  },
  {
   "cell_type": "code",
   "execution_count": 4,
   "id": "72a23e64-d339-4d1a-8a25-cbbfeec56927",
   "metadata": {},
   "outputs": [
    {
     "name": "stdin",
     "output_type": "stream",
     "text": [
      " 1 2\n",
      " 2 3\n",
      " 3 2\n"
     ]
    }
   ],
   "source": [
    "AB = [list(map(int, input().split())) for _ in range(M)]"
   ]
  },
  {
   "cell_type": "code",
   "execution_count": 10,
   "id": "a3cd7a1d-73ab-4712-b0b4-362547c31880",
   "metadata": {},
   "outputs": [],
   "source": [
    "graph = [[] for _ in range(N+1)]\n",
    "for A, B in AB:\n",
    "    graph[A].append(B)"
   ]
  },
  {
   "cell_type": "code",
   "execution_count": 24,
   "id": "b3623d57-b908-4afb-97af-2902cac2bedd",
   "metadata": {},
   "outputs": [],
   "source": [
    "def solve(n):\n",
    "    q = deque()\n",
    "    q.append(n)\n",
    "    visit = [False] * (N+1)\n",
    "    ret = set()\n",
    "    ret.add(n)\n",
    "    while q:\n",
    "        p = q.popleft()\n",
    "        for gr in graph[p]:\n",
    "            if visit[gr]:\n",
    "                continue\n",
    "            visit[gr] = True\n",
    "            q.append(gr)\n",
    "            ret.add(gr)\n",
    "    return len(ret)"
   ]
  },
  {
   "cell_type": "code",
   "execution_count": 25,
   "id": "28d2c40a-caba-4215-9cad-538a35b594fb",
   "metadata": {},
   "outputs": [],
   "source": [
    "cnt = [0] * N\n",
    "for i in range(N):\n",
    "    cnt[i] = solve(i+1)"
   ]
  },
  {
   "cell_type": "code",
   "execution_count": 23,
   "id": "e0e4347c-b28a-4827-84ed-a6d46d937c60",
   "metadata": {},
   "outputs": [
    {
     "name": "stdout",
     "output_type": "stream",
     "text": [
      "7\n"
     ]
    }
   ],
   "source": [
    "print(sum(cnt))"
   ]
  },
  {
   "cell_type": "code",
   "execution_count": 11,
   "id": "1d7e2190-8d31-40f2-9264-77cdcd311f35",
   "metadata": {},
   "outputs": [
    {
     "data": {
      "text/plain": [
       "[[], [2], [3], [2]]"
      ]
     },
     "execution_count": 11,
     "metadata": {},
     "output_type": "execute_result"
    }
   ],
   "source": [
    "graph"
   ]
  },
  {
   "cell_type": "code",
   "execution_count": null,
   "id": "e047b0c9-363c-44d6-a425-5939aea0858e",
   "metadata": {},
   "outputs": [],
   "source": []
  }
 ],
 "metadata": {
  "kernelspec": {
   "display_name": "Python 3",
   "language": "python",
   "name": "python3"
  },
  "language_info": {
   "codemirror_mode": {
    "name": "ipython",
    "version": 3
   },
   "file_extension": ".py",
   "mimetype": "text/x-python",
   "name": "python",
   "nbconvert_exporter": "python",
   "pygments_lexer": "ipython3",
   "version": "3.6.13"
  }
 },
 "nbformat": 4,
 "nbformat_minor": 5
}
