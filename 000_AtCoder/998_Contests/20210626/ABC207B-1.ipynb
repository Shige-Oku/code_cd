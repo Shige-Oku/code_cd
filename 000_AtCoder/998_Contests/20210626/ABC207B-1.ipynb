{
 "cells": [
  {
   "cell_type": "code",
   "execution_count": null,
   "id": "a404e9bb-08ac-43c8-a104-35c8e1f15410",
   "metadata": {},
   "outputs": [],
   "source": [
    "# WA"
   ]
  },
  {
   "cell_type": "code",
   "execution_count": 1,
   "id": "0c6a23ba-22f6-4368-a126-0093b88e43c4",
   "metadata": {},
   "outputs": [],
   "source": [
    "import sys\n",
    "import numpy as np\n",
    "import math\n",
    "import collections\n",
    "import copy\n",
    "import decimal\n",
    "import itertools\n",
    "import re\n",
    "import bisect\n",
    "import scipy\n",
    "import heapq\n",
    "from collections import deque \n",
    "from functools import reduce\n",
    "from itertools import product\n",
    "from itertools import combinations\n",
    "from itertools import chain\n",
    "from functools import lru_cache\n",
    "from scipy.special import comb\n",
    "from numba import njit\n",
    "from bisect import bisect_right\n",
    "from bisect import bisect_left"
   ]
  },
  {
   "cell_type": "code",
   "execution_count": 32,
   "id": "52104a19-9c8a-4ac1-9b66-cbfb6fd27871",
   "metadata": {},
   "outputs": [
    {
     "name": "stdin",
     "output_type": "stream",
     "text": [
      " 1 1 1 2\n"
     ]
    }
   ],
   "source": [
    "A, B, C, D = map(int, input().split())"
   ]
  },
  {
   "cell_type": "code",
   "execution_count": null,
   "id": "1ae0682c-f8e5-4c73-a044-2ba5b0910a79",
   "metadata": {},
   "outputs": [],
   "source": [
    "ans = -1\n",
    "total = A\n",
    "r = 0\n",
    "for _ in range()"
   ]
  },
  {
   "cell_type": "code",
   "execution_count": 33,
   "id": "9e6134d9-b50c-4e94-a540-443c71f8cb2b",
   "metadata": {},
   "outputs": [
    {
     "name": "stdout",
     "output_type": "stream",
     "text": [
      "1\n"
     ]
    }
   ],
   "source": [
    "if B > C:\n",
    "    print('-1')\n",
    "else:\n",
    "    ans = 0\n",
    "    total = A\n",
    "    r = 0\n",
    "    while total > r * D:\n",
    "        ans += 1\n",
    "        r += C\n",
    "        total += B\n",
    "    print(ans)    "
   ]
  },
  {
   "cell_type": "code",
   "execution_count": 27,
   "id": "0393ddd3-caaf-4ff2-9792-cdda1747a466",
   "metadata": {},
   "outputs": [
    {
     "name": "stdout",
     "output_type": "stream",
     "text": [
      "-1\n"
     ]
    }
   ],
   "source": [
    "if B > C:\n",
    "    print('-1')\n",
    "elif (A + B) * D <= C:\n",
    "    print('1')\n",
    "else:\n",
    "    ans = 0\n",
    "    total = A\n",
    "    r = 0\n",
    "    while total > r * D:\n",
    "        ans += 1\n",
    "        r += C\n",
    "        total += B\n",
    "        if total <= r * D:\n",
    "            break\n",
    "    print(ans)"
   ]
  },
  {
   "cell_type": "code",
   "execution_count": 28,
   "id": "df03226e-ab4e-4ae6-9d73-7ae5b35b5077",
   "metadata": {},
   "outputs": [
    {
     "name": "stdout",
     "output_type": "stream",
     "text": [
      "-1\n"
     ]
    }
   ],
   "source": [
    "if B >= C:\n",
    "    print('-1')\n",
    "else:\n",
    "    print(math.ceil(A / (C-B)))"
   ]
  },
  {
   "cell_type": "code",
   "execution_count": 21,
   "id": "4ff9f61b-3696-4f0f-9ed0-b5c222aec757",
   "metadata": {},
   "outputs": [
    {
     "data": {
      "text/plain": [
       "-10.0"
      ]
     },
     "execution_count": 21,
     "metadata": {},
     "output_type": "execute_result"
    }
   ],
   "source": [
    "A*D/(C-B*D)"
   ]
  },
  {
   "cell_type": "code",
   "execution_count": null,
   "id": "4fbc1faf-1867-40d4-a723-000afcc2615a",
   "metadata": {},
   "outputs": [],
   "source": []
  }
 ],
 "metadata": {
  "kernelspec": {
   "display_name": "Python 3",
   "language": "python",
   "name": "python3"
  },
  "language_info": {
   "codemirror_mode": {
    "name": "ipython",
    "version": 3
   },
   "file_extension": ".py",
   "mimetype": "text/x-python",
   "name": "python",
   "nbconvert_exporter": "python",
   "pygments_lexer": "ipython3",
   "version": "3.6.13"
  }
 },
 "nbformat": 4,
 "nbformat_minor": 5
}
