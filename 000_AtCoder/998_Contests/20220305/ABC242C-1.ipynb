{
 "cells": [
  {
   "cell_type": "code",
   "execution_count": 1,
   "id": "c6d0e596-a6f2-4236-aeca-6e9927c887cb",
   "metadata": {},
   "outputs": [],
   "source": [
    "import sys\n",
    "import numpy as np\n",
    "import math\n",
    "import collections\n",
    "import copy\n",
    "import decimal\n",
    "import itertools\n",
    "import re\n",
    "import bisect\n",
    "import scipy\n",
    "import heapq\n",
    "from collections import deque \n",
    "from functools import reduce\n",
    "from itertools import product\n",
    "from itertools import combinations\n",
    "from functools import lru_cache\n",
    "from scipy.special import comb\n",
    "from numba import njit\n",
    "from bisect import bisect_right\n",
    "from bisect import bisect_left"
   ]
  },
  {
   "cell_type": "code",
   "execution_count": 63,
   "id": "cbca2e55-9058-4c5b-994c-4bb42dcf29f9",
   "metadata": {},
   "outputs": [
    {
     "name": "stdin",
     "output_type": "stream",
     "text": [
      " 5\n"
     ]
    }
   ],
   "source": [
    "N = int(input())"
   ]
  },
  {
   "cell_type": "code",
   "execution_count": 46,
   "id": "8b2dfa07-8c0f-431a-a0c1-d05f801c1b67",
   "metadata": {},
   "outputs": [],
   "source": [
    "sys.setrecursionlimit(10**7)"
   ]
  },
  {
   "cell_type": "code",
   "execution_count": 60,
   "id": "a18ecd1e-3a5e-4c4e-80da-b7cade4fb1a3",
   "metadata": {},
   "outputs": [],
   "source": [
    "def DFS2(n, s):\n",
    "    ret = 0\n",
    "    if n + 1 >= N:\n",
    "        if s == 1 or s == 9:\n",
    "            return 5\n",
    "        elif s == 2 or s == 8:\n",
    "            return 8\n",
    "        else:\n",
    "            return 9\n",
    "    for i in range(s-1, s+2):\n",
    "        if i == 1 or i == 10:\n",
    "            continue\n",
    "        r = DFS(n+1, i)\n",
    "        ret += r\n",
    "        ret %= 998244353\n",
    "    print(n, s, ret)\n",
    "    return ret"
   ]
  },
  {
   "cell_type": "code",
   "execution_count": 64,
   "id": "82a23dd8-8d5b-4fdc-a91d-56ff0abc6e4f",
   "metadata": {},
   "outputs": [
    {
     "name": "stdout",
     "output_type": "stream",
     "text": [
      "3 1 13\n",
      "3 2 22\n",
      "2 1 35\n",
      "3 1 13\n",
      "3 2 22\n",
      "3 3 26\n",
      "2 2 61\n",
      "3 2 22\n",
      "3 3 26\n",
      "3 4 27\n",
      "2 3 75\n",
      "3 3 26\n",
      "3 4 27\n",
      "3 5 27\n",
      "2 4 80\n",
      "3 4 27\n",
      "3 5 27\n",
      "3 6 27\n",
      "2 5 81\n",
      "3 5 27\n",
      "3 6 27\n",
      "3 7 26\n",
      "2 6 80\n",
      "3 6 27\n",
      "3 7 26\n",
      "3 8 22\n",
      "2 7 75\n",
      "3 7 26\n",
      "3 8 22\n",
      "3 9 13\n",
      "2 8 61\n",
      "3 8 22\n",
      "3 9 13\n",
      "2 9 35\n",
      "1  583\n",
      "583\n"
     ]
    }
   ],
   "source": [
    "print(DFS(1, \"\"))"
   ]
  },
  {
   "cell_type": "code",
   "execution_count": null,
   "id": "11931ce0-33f7-44db-baaf-671e009b7f07",
   "metadata": {},
   "outputs": [],
   "source": []
  },
  {
   "cell_type": "code",
   "execution_count": 61,
   "id": "48e3d081-ec43-470f-8ee0-4c560fb4c9b2",
   "metadata": {},
   "outputs": [],
   "source": [
    "def DFS(n, s):\n",
    "    ret = 0\n",
    "    if n + 1 >= N:\n",
    "        if s == 1 or s == 9:\n",
    "            return 5\n",
    "        elif s == 2 or s == 8:\n",
    "            return 8\n",
    "        else:\n",
    "            return 9\n",
    "    for i in range(1, 10):\n",
    "        if n > 1 and abs(s-i) > 1:\n",
    "            continue\n",
    "        r = DFS(n+1, i)\n",
    "        ret += r\n",
    "        ret %= 998244353\n",
    "    print(n, s, ret)\n",
    "    return ret"
   ]
  },
  {
   "cell_type": "code",
   "execution_count": null,
   "id": "3115a7dc-bed6-436b-bb90-b79048ae1f2e",
   "metadata": {},
   "outputs": [],
   "source": []
  }
 ],
 "metadata": {
  "kernelspec": {
   "display_name": "Python 3",
   "language": "python",
   "name": "python3"
  },
  "language_info": {
   "codemirror_mode": {
    "name": "ipython",
    "version": 3
   },
   "file_extension": ".py",
   "mimetype": "text/x-python",
   "name": "python",
   "nbconvert_exporter": "python",
   "pygments_lexer": "ipython3",
   "version": "3.6.13"
  }
 },
 "nbformat": 4,
 "nbformat_minor": 5
}
