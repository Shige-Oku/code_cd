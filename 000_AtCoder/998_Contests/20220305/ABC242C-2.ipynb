{
 "cells": [
  {
   "cell_type": "code",
   "execution_count": null,
   "id": "c29be9ba-f0fc-4338-8efa-883de12a8860",
   "metadata": {},
   "outputs": [],
   "source": [
    "# 解説を読んで実装"
   ]
  },
  {
   "cell_type": "code",
   "execution_count": 1,
   "id": "40a4df42-3565-4631-a6e0-17da2f68fa8a",
   "metadata": {},
   "outputs": [],
   "source": [
    "import sys\n",
    "import numpy as np\n",
    "import math\n",
    "import collections\n",
    "import copy\n",
    "import decimal\n",
    "import itertools\n",
    "import re\n",
    "import bisect\n",
    "import scipy\n",
    "import heapq\n",
    "from collections import deque \n",
    "from functools import reduce\n",
    "from itertools import product\n",
    "from itertools import combinations\n",
    "from functools import lru_cache\n",
    "from scipy.special import comb\n",
    "from numba import njit\n",
    "from bisect import bisect_right\n",
    "from bisect import bisect_left"
   ]
  },
  {
   "cell_type": "code",
   "execution_count": 16,
   "id": "c827d21a-3e77-405f-a3dc-451f1f0a9877",
   "metadata": {},
   "outputs": [
    {
     "name": "stdin",
     "output_type": "stream",
     "text": [
      " 1000000\n"
     ]
    }
   ],
   "source": [
    "N = int(input())"
   ]
  },
  {
   "cell_type": "code",
   "execution_count": 17,
   "id": "93dfc523-5f64-4534-be47-7ee0a9a2f598",
   "metadata": {},
   "outputs": [],
   "source": [
    "dp = [[0] * 11 for _ in range(N+1)]\n",
    "for i in range(1, 10):\n",
    "    dp[1][i] = 1"
   ]
  },
  {
   "cell_type": "code",
   "execution_count": 18,
   "id": "916d9875-d595-4b96-9e2b-34916f14e0ce",
   "metadata": {},
   "outputs": [],
   "source": [
    "for i in range(2, N+1):\n",
    "    for j in range(1, 10):\n",
    "        dp[i][j] = dp[i-1][j-1] + dp[i-1][j] + dp[i-1][j+1]\n",
    "        dp[i][j] %= 998244353"
   ]
  },
  {
   "cell_type": "code",
   "execution_count": 19,
   "id": "6fe6ba8a-8f21-439e-b6c3-433cbcc90ebe",
   "metadata": {},
   "outputs": [
    {
     "name": "stdout",
     "output_type": "stream",
     "text": [
      "3243593152\n"
     ]
    }
   ],
   "source": [
    "print(sum(dp[i])%998244353)"
   ]
  },
  {
   "cell_type": "code",
   "execution_count": 10,
   "id": "6cecc71d-6f11-4454-a34c-da8b26d1684d",
   "metadata": {},
   "outputs": [
    {
     "data": {
      "text/plain": [
       "[[0, 0, 0, 0, 0, 0, 0, 0, 0, 0, 0],\n",
       " [0, 1, 1, 1, 1, 1, 1, 1, 1, 1, 0],\n",
       " [0, 2, 3, 3, 3, 3, 3, 3, 3, 2, 0],\n",
       " [0, 5, 8, 9, 9, 9, 9, 9, 8, 5, 0],\n",
       " [0, 13, 22, 26, 27, 27, 27, 26, 22, 13, 0]]"
      ]
     },
     "execution_count": 10,
     "metadata": {},
     "output_type": "execute_result"
    }
   ],
   "source": [
    "dp"
   ]
  },
  {
   "cell_type": "code",
   "execution_count": null,
   "id": "b8afbf6f-4ddc-428d-b93b-b16a5eed4f20",
   "metadata": {},
   "outputs": [],
   "source": []
  }
 ],
 "metadata": {
  "kernelspec": {
   "display_name": "Python 3",
   "language": "python",
   "name": "python3"
  },
  "language_info": {
   "codemirror_mode": {
    "name": "ipython",
    "version": 3
   },
   "file_extension": ".py",
   "mimetype": "text/x-python",
   "name": "python",
   "nbconvert_exporter": "python",
   "pygments_lexer": "ipython3",
   "version": "3.6.13"
  }
 },
 "nbformat": 4,
 "nbformat_minor": 5
}
