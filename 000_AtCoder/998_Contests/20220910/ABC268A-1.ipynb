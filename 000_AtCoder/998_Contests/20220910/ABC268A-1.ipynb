{
 "cells": [
  {
   "cell_type": "code",
   "execution_count": 1,
   "id": "cab11a41-7bcf-489d-bc32-9165cfb66a84",
   "metadata": {},
   "outputs": [],
   "source": [
    "import sys\n",
    "import numpy as np\n",
    "import math\n",
    "import collections\n",
    "import copy\n",
    "import decimal\n",
    "import itertools\n",
    "import re\n",
    "import bisect\n",
    "import scipy\n",
    "import heapq\n",
    "from collections import deque \n",
    "from functools import reduce\n",
    "from itertools import product\n",
    "from itertools import combinations\n",
    "from functools import lru_cache\n",
    "from scipy.special import comb\n",
    "from numba import njit\n",
    "from bisect import bisect_right\n",
    "from bisect import bisect_left"
   ]
  },
  {
   "cell_type": "code",
   "execution_count": 6,
   "id": "9b4b531d-76d2-4202-8bbd-79bb1e8d165f",
   "metadata": {},
   "outputs": [
    {
     "name": "stdin",
     "output_type": "stream",
     "text": [
      " 0 0 0 0 0\n"
     ]
    }
   ],
   "source": [
    "A, B, C, D, E = map(int, input().split())"
   ]
  },
  {
   "cell_type": "code",
   "execution_count": 7,
   "id": "fb0fabf7-e3dc-4147-aef4-0219affc3d5d",
   "metadata": {},
   "outputs": [],
   "source": [
    "from collections import Counter\n",
    "n = Counter([A, B, C, D, E])"
   ]
  },
  {
   "cell_type": "code",
   "execution_count": 8,
   "id": "0f5b3648-1e2a-4c86-9899-7e638d5ca3b5",
   "metadata": {},
   "outputs": [
    {
     "name": "stdout",
     "output_type": "stream",
     "text": [
      "1\n"
     ]
    }
   ],
   "source": [
    "print(len(n))"
   ]
  },
  {
   "cell_type": "code",
   "execution_count": null,
   "id": "e42a38ab-a1df-4d8d-9f98-77a347478e6b",
   "metadata": {},
   "outputs": [],
   "source": []
  }
 ],
 "metadata": {
  "kernelspec": {
   "display_name": "Python 3",
   "language": "python",
   "name": "python3"
  },
  "language_info": {
   "codemirror_mode": {
    "name": "ipython",
    "version": 3
   },
   "file_extension": ".py",
   "mimetype": "text/x-python",
   "name": "python",
   "nbconvert_exporter": "python",
   "pygments_lexer": "ipython3",
   "version": "3.6.13"
  }
 },
 "nbformat": 4,
 "nbformat_minor": 5
}
