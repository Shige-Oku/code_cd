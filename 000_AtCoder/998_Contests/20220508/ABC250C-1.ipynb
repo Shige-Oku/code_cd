{
 "cells": [
  {
   "cell_type": "code",
   "execution_count": 2,
   "id": "ee849272-44d6-43ca-91e0-48408d576921",
   "metadata": {},
   "outputs": [],
   "source": [
    "import sys\n",
    "import numpy as np\n",
    "import math\n",
    "import collections\n",
    "import copy\n",
    "import decimal\n",
    "import itertools\n",
    "import re\n",
    "import bisect\n",
    "import scipy\n",
    "import heapq\n",
    "from collections import deque \n",
    "from functools import reduce\n",
    "from itertools import product\n",
    "from itertools import combinations\n",
    "from functools import lru_cache\n",
    "from scipy.special import comb\n",
    "from numba import njit\n",
    "from bisect import bisect_right\n",
    "from bisect import bisect_left"
   ]
  },
  {
   "cell_type": "code",
   "execution_count": 3,
   "id": "bbb7ade7-e2b8-4643-98c7-fb37e5adacfd",
   "metadata": {},
   "outputs": [
    {
     "name": "stdin",
     "output_type": "stream",
     "text": [
      " 5 5\n"
     ]
    }
   ],
   "source": [
    "N, Q = map(int, input().split())"
   ]
  },
  {
   "cell_type": "code",
   "execution_count": 4,
   "id": "913b7bba-6d37-4dec-81ba-85b83f3eb37d",
   "metadata": {},
   "outputs": [
    {
     "name": "stdin",
     "output_type": "stream",
     "text": [
      " 1\n",
      " 2\n",
      " 3\n",
      " 4\n",
      " 5\n"
     ]
    }
   ],
   "source": [
    "Xn = [int(input()) for _ in range(Q)]"
   ]
  },
  {
   "cell_type": "code",
   "execution_count": 16,
   "id": "0c62f823-8f18-4b8a-9631-b8aa26302b4e",
   "metadata": {},
   "outputs": [],
   "source": [
    "di_i = {x:x for x in range(1, N+1)}\n",
    "di_n = {x:x for x in range(1, N+1)}\n",
    "for X in Xn:\n",
    "    if di_n[X] == N:\n",
    "        i1 = N - 1\n",
    "        i2 = N\n",
    "    else:\n",
    "        i1 = di_n[X] + 1\n",
    "        i2 = di_n[X]\n",
    "    n = di_i[i1]\n",
    "#     print(X, i1, i2, n)\n",
    "    di_i[i1] = X\n",
    "    di_n[X] = i1\n",
    "    di_i[i2] = n\n",
    "    di_n[n] = i2\n",
    "#     print(di_n)"
   ]
  },
  {
   "cell_type": "code",
   "execution_count": 27,
   "id": "eb0fc41b-44dc-48ed-ac62-6fb0c72c748c",
   "metadata": {},
   "outputs": [
    {
     "name": "stdout",
     "output_type": "stream",
     "text": [
      "1 2 3 5 4 "
     ]
    }
   ],
   "source": [
    "ans = sorted(list(di_i.items()))\n",
    "for k, v in ans:\n",
    "    print(v, end=\" \")"
   ]
  },
  {
   "cell_type": "code",
   "execution_count": 23,
   "id": "dc1c0847-01f7-44b0-a2e4-823d12b6373b",
   "metadata": {},
   "outputs": [
    {
     "data": {
      "text/plain": [
       "{1: 1, 2: 2, 3: 3, 4: 5, 5: 4}"
      ]
     },
     "execution_count": 23,
     "metadata": {},
     "output_type": "execute_result"
    }
   ],
   "source": [
    "di_i"
   ]
  },
  {
   "cell_type": "code",
   "execution_count": 24,
   "id": "47d9bd5e-7424-4329-b591-1ef1832b072f",
   "metadata": {},
   "outputs": [
    {
     "data": {
      "text/plain": [
       "[1, 2, 3, 4, 5]"
      ]
     },
     "execution_count": 24,
     "metadata": {},
     "output_type": "execute_result"
    }
   ],
   "source": [
    "ans"
   ]
  },
  {
   "cell_type": "code",
   "execution_count": null,
   "id": "0b2e85cf-5dca-4acb-bf63-60a1713438e7",
   "metadata": {},
   "outputs": [],
   "source": []
  }
 ],
 "metadata": {
  "kernelspec": {
   "display_name": "Python 3",
   "language": "python",
   "name": "python3"
  },
  "language_info": {
   "codemirror_mode": {
    "name": "ipython",
    "version": 3
   },
   "file_extension": ".py",
   "mimetype": "text/x-python",
   "name": "python",
   "nbconvert_exporter": "python",
   "pygments_lexer": "ipython3",
   "version": "3.6.13"
  }
 },
 "nbformat": 4,
 "nbformat_minor": 5
}
