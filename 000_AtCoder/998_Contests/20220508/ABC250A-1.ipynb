{
 "cells": [
  {
   "cell_type": "code",
   "execution_count": 1,
   "id": "bc35aff7-fb60-412f-b2ee-36624c61a23a",
   "metadata": {},
   "outputs": [],
   "source": [
    "import sys\n",
    "import numpy as np\n",
    "import math\n",
    "import collections\n",
    "import copy\n",
    "import decimal\n",
    "import itertools\n",
    "import re\n",
    "import bisect\n",
    "import scipy\n",
    "import heapq\n",
    "from collections import deque \n",
    "from functools import reduce\n",
    "from itertools import product\n",
    "from itertools import combinations\n",
    "from functools import lru_cache\n",
    "from scipy.special import comb\n",
    "from numba import njit\n",
    "from bisect import bisect_right\n",
    "from bisect import bisect_left"
   ]
  },
  {
   "cell_type": "code",
   "execution_count": 61,
   "id": "91e6235f-36e5-4233-8c27-9fc580d87920",
   "metadata": {},
   "outputs": [
    {
     "name": "stdin",
     "output_type": "stream",
     "text": [
      " 3 1\n"
     ]
    }
   ],
   "source": [
    "H, W = map(int, input().split())"
   ]
  },
  {
   "cell_type": "code",
   "execution_count": 70,
   "id": "b36dd61b-d051-4b19-a6b9-3624190a5f54",
   "metadata": {},
   "outputs": [
    {
     "name": "stdin",
     "output_type": "stream",
     "text": [
      " 3 1\n"
     ]
    }
   ],
   "source": [
    "R, C = map(int, input().split())"
   ]
  },
  {
   "cell_type": "code",
   "execution_count": 71,
   "id": "f1d70204-baa9-43f0-8048-0d85100cd133",
   "metadata": {},
   "outputs": [
    {
     "name": "stdout",
     "output_type": "stream",
     "text": [
      "1\n"
     ]
    }
   ],
   "source": [
    "if H == W == 1:\n",
    "    print(0)\n",
    "elif H == 1:\n",
    "    if C == 1 or C == W:\n",
    "        print(1)\n",
    "    else:\n",
    "        print(2)\n",
    "elif W == 1:\n",
    "    if R == 1 or R == H:\n",
    "        print(1)\n",
    "    else:\n",
    "        print(2)\n",
    "elif (R == 1 and (C == 1 or W == C)) or (H == R and (C == 1 or C == W)):\n",
    "    print(2)\n",
    "elif R == 1 or R == H or C == 1 or C == W:\n",
    "    print(3)\n",
    "else:\n",
    "    print(4)"
   ]
  },
  {
   "cell_type": "code",
   "execution_count": null,
   "id": "fc27975a-1276-4506-8953-4d91d735ae73",
   "metadata": {},
   "outputs": [],
   "source": []
  }
 ],
 "metadata": {
  "kernelspec": {
   "display_name": "Python 3",
   "language": "python",
   "name": "python3"
  },
  "language_info": {
   "codemirror_mode": {
    "name": "ipython",
    "version": 3
   },
   "file_extension": ".py",
   "mimetype": "text/x-python",
   "name": "python",
   "nbconvert_exporter": "python",
   "pygments_lexer": "ipython3",
   "version": "3.6.13"
  }
 },
 "nbformat": 4,
 "nbformat_minor": 5
}
