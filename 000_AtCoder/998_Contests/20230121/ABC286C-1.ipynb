{
 "cells": [
  {
   "cell_type": "code",
   "execution_count": 1,
   "id": "c18d0bdb-4c30-42ac-9f7b-c71644272e46",
   "metadata": {},
   "outputs": [],
   "source": [
    "import sys\n",
    "import numpy as np\n",
    "import math\n",
    "import collections\n",
    "import copy\n",
    "import decimal\n",
    "import itertools\n",
    "import re\n",
    "import bisect\n",
    "import scipy\n",
    "import heapq\n",
    "from collections import deque \n",
    "from functools import reduce\n",
    "from itertools import product\n",
    "from itertools import combinations\n",
    "from functools import lru_cache\n",
    "from scipy.special import comb\n",
    "from numba import njit\n",
    "from bisect import bisect_right\n",
    "from bisect import bisect_left"
   ]
  },
  {
   "cell_type": "code",
   "execution_count": 175,
   "id": "962a2d84-663c-44c4-a3c8-0bb32f4f7ad6",
   "metadata": {},
   "outputs": [
    {
     "name": "stdin",
     "output_type": "stream",
     "text": [
      " 8 1000000000 1000000000\n"
     ]
    }
   ],
   "source": [
    "N, A, B = map(int, input().split())"
   ]
  },
  {
   "cell_type": "code",
   "execution_count": 176,
   "id": "8c5db030-8d0f-4ada-b13d-f342a135cee7",
   "metadata": {},
   "outputs": [
    {
     "name": "stdin",
     "output_type": "stream",
     "text": [
      " bcdfcgaa\n"
     ]
    }
   ],
   "source": [
    "S = input()"
   ]
  },
  {
   "cell_type": "code",
   "execution_count": 164,
   "id": "27abb86b-252b-4ac8-bed2-4db11565c60d",
   "metadata": {},
   "outputs": [],
   "source": [
    "def setS():\n",
    "    if A >= B:\n",
    "        return S, 0\n",
    "    s1 = 1\n",
    "    s2 = 0\n",
    "    for i in range(1, N):\n",
    "        if S[0] != S[i]:\n",
    "            break\n",
    "        s1 += 1\n",
    "    for i in range(N-1, 0, -1):\n",
    "        if S[0] != S[i]:\n",
    "            break\n",
    "        s2 += 1\n",
    "    if s2 >= s1:\n",
    "        return S, 0\n",
    "    l = (s1 - s2) // 2\n",
    "    if l < 1:\n",
    "        return S, 0\n",
    "    s = S[l:N-s2+1] + S[:l]\n",
    "    return s, l*A"
   ]
  },
  {
   "cell_type": "code",
   "execution_count": 165,
   "id": "41abf268-880b-4ffb-961f-0a8dab7b7afe",
   "metadata": {},
   "outputs": [],
   "source": [
    "s, ans = setS()\n",
    "for i, (s1, s2) in enumerate(zip(s, s[::-1])):\n",
    "    if i >= N/2:\n",
    "        break\n",
    "    if s1 != s2:\n",
    "        ans += B\n"
   ]
  },
  {
   "cell_type": "code",
   "execution_count": 166,
   "id": "8c5c4471-b9a9-4735-866b-1fe48aa1b95d",
   "metadata": {},
   "outputs": [
    {
     "name": "stdout",
     "output_type": "stream",
     "text": [
      "2000000000\n"
     ]
    }
   ],
   "source": [
    "print(ans)"
   ]
  },
  {
   "cell_type": "code",
   "execution_count": 126,
   "id": "54d06d4f-1a26-4bf7-a3ca-8aa465758ed7",
   "metadata": {},
   "outputs": [
    {
     "data": {
      "text/plain": [
       "('rrrabrr', 22, 'rrrraba')"
      ]
     },
     "execution_count": 126,
     "metadata": {},
     "output_type": "execute_result"
    }
   ],
   "source": [
    "s, ans, S"
   ]
  },
  {
   "cell_type": "code",
   "execution_count": 127,
   "id": "e2476320-48df-41d2-80df-fa6892f1329b",
   "metadata": {},
   "outputs": [
    {
     "data": {
      "text/plain": [
       "'rrrr'"
      ]
     },
     "execution_count": 127,
     "metadata": {},
     "output_type": "execute_result"
    }
   ],
   "source": [
    "S1"
   ]
  },
  {
   "cell_type": "code",
   "execution_count": 136,
   "id": "1ec68b64-8f9b-44b0-ae23-9683a166f424",
   "metadata": {},
   "outputs": [
    {
     "name": "stdout",
     "output_type": "stream",
     "text": [
      "4 0 2\n"
     ]
    },
    {
     "data": {
      "text/plain": [
       "('rrabarr', 12)"
      ]
     },
     "execution_count": 136,
     "metadata": {},
     "output_type": "execute_result"
    }
   ],
   "source": [
    "setS()"
   ]
  },
  {
   "cell_type": "code",
   "execution_count": 177,
   "id": "f1d2ca59-5e1b-40f3-bd41-f7f6669799eb",
   "metadata": {},
   "outputs": [],
   "source": [
    "ans = 10**20\n",
    "for i in range(N-1):\n",
    "    m = i * A\n",
    "    s = S[i:] + S[:i]\n",
    "    for j, (s1, s2) in enumerate(zip(s, s[::-1])):\n",
    "        if j >= N//2:\n",
    "            break\n",
    "        if s1 != s2:\n",
    "            m += B\n",
    "    ans = min(ans, m)"
   ]
  },
  {
   "cell_type": "code",
   "execution_count": 178,
   "id": "ff2bd5ae-c4a0-4033-9a2b-958d4f9f5781",
   "metadata": {},
   "outputs": [
    {
     "name": "stdout",
     "output_type": "stream",
     "text": [
      "4000000000\n"
     ]
    }
   ],
   "source": [
    "print(ans)"
   ]
  },
  {
   "cell_type": "code",
   "execution_count": null,
   "id": "72dd9062-832b-460a-9951-9d65c9133b82",
   "metadata": {},
   "outputs": [],
   "source": []
  }
 ],
 "metadata": {
  "kernelspec": {
   "display_name": "Python 3",
   "language": "python",
   "name": "python3"
  },
  "language_info": {
   "codemirror_mode": {
    "name": "ipython",
    "version": 3
   },
   "file_extension": ".py",
   "mimetype": "text/x-python",
   "name": "python",
   "nbconvert_exporter": "python",
   "pygments_lexer": "ipython3",
   "version": "3.6.13"
  }
 },
 "nbformat": 4,
 "nbformat_minor": 5
}
