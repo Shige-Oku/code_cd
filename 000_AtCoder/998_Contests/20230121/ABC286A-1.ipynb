{
 "cells": [
  {
   "cell_type": "code",
   "execution_count": 1,
   "id": "6d438695-ad15-419b-9ef4-c93e91fb5cca",
   "metadata": {},
   "outputs": [],
   "source": [
    "import sys\n",
    "import numpy as np\n",
    "import math\n",
    "import collections\n",
    "import copy\n",
    "import decimal\n",
    "import itertools\n",
    "import re\n",
    "import bisect\n",
    "import scipy\n",
    "import heapq\n",
    "from collections import deque \n",
    "from functools import reduce\n",
    "from itertools import product\n",
    "from itertools import combinations\n",
    "from functools import lru_cache\n",
    "from scipy.special import comb\n",
    "from numba import njit\n",
    "from bisect import bisect_right\n",
    "from bisect import bisect_left"
   ]
  },
  {
   "cell_type": "code",
   "execution_count": 18,
   "id": "ed2ce31c-32e4-485e-8a54-ccb9cf9a4417",
   "metadata": {},
   "outputs": [
    {
     "name": "stdin",
     "output_type": "stream",
     "text": [
      " 10 2 4 7 9\n"
     ]
    }
   ],
   "source": [
    "N, P, Q, R, S = map(int, input().split())"
   ]
  },
  {
   "cell_type": "code",
   "execution_count": 19,
   "id": "c7c8021d-c37c-4a2c-9dce-91e701aa1f81",
   "metadata": {},
   "outputs": [
    {
     "name": "stdin",
     "output_type": "stream",
     "text": [
      " 22 75 26 45 72 81 47 29 97 2\n"
     ]
    }
   ],
   "source": [
    "An = list(map(int, input().split()))"
   ]
  },
  {
   "cell_type": "code",
   "execution_count": 20,
   "id": "47199a67-6d33-4cbc-90cb-08181ba594c5",
   "metadata": {},
   "outputs": [
    {
     "name": "stdout",
     "output_type": "stream",
     "text": [
      "22 47 29 97 72 81 75 26 45 2\n"
     ]
    }
   ],
   "source": [
    "import copy\n",
    "An_c = copy.deepcopy(An)\n",
    "An_c[P-1:Q], An_c[R-1:S]  = An_c[R-1:S], An_c[P-1:Q]\n",
    "print(*An_c)"
   ]
  },
  {
   "cell_type": "code",
   "execution_count": null,
   "id": "e83ca71b-e4dc-41d9-bc5a-db8c035fce34",
   "metadata": {},
   "outputs": [],
   "source": []
  }
 ],
 "metadata": {
  "kernelspec": {
   "display_name": "Python 3",
   "language": "python",
   "name": "python3"
  },
  "language_info": {
   "codemirror_mode": {
    "name": "ipython",
    "version": 3
   },
   "file_extension": ".py",
   "mimetype": "text/x-python",
   "name": "python",
   "nbconvert_exporter": "python",
   "pygments_lexer": "ipython3",
   "version": "3.6.13"
  }
 },
 "nbformat": 4,
 "nbformat_minor": 5
}
