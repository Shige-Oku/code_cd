{
 "cells": [
  {
   "cell_type": "code",
   "execution_count": 1,
   "id": "dc93b1d8-6149-4539-8963-8b1c010df68b",
   "metadata": {},
   "outputs": [],
   "source": [
    "import sys\n",
    "import numpy as np\n",
    "import math\n",
    "import collections\n",
    "import copy\n",
    "import decimal\n",
    "import itertools\n",
    "import re\n",
    "import bisect\n",
    "import scipy\n",
    "import heapq\n",
    "from collections import deque \n",
    "from functools import reduce\n",
    "from itertools import product\n",
    "from itertools import combinations\n",
    "from functools import lru_cache\n",
    "from scipy.special import comb\n",
    "from numba import njit\n",
    "from bisect import bisect_right\n",
    "from bisect import bisect_left"
   ]
  },
  {
   "cell_type": "code",
   "execution_count": 2,
   "id": "c469ef7e-9e93-4fd4-b84c-32e0b6416208",
   "metadata": {},
   "outputs": [
    {
     "name": "stdin",
     "output_type": "stream",
     "text": [
      " 2 19\n"
     ]
    }
   ],
   "source": [
    "N, X = map(int, input().split())"
   ]
  },
  {
   "cell_type": "code",
   "execution_count": 3,
   "id": "b3ae1f3c-a69b-4022-a89a-aa55e04e3059",
   "metadata": {},
   "outputs": [
    {
     "name": "stdin",
     "output_type": "stream",
     "text": [
      " 2 3\n",
      " 5 6\n"
     ]
    }
   ],
   "source": [
    "ABn = [list(map(int, input().split())) for _ in range(N)]"
   ]
  },
  {
   "cell_type": "code",
   "execution_count": 12,
   "id": "b1e5165e-91fe-45d6-8953-ab70737a737d",
   "metadata": {},
   "outputs": [],
   "source": [
    "dp = [[False] * (X+1) for _ in range(N+1)]\n",
    "dp[0][0] = True\n",
    "for i, (A, B) in enumerate(ABn, 1):\n",
    "    for j in range(X+1):\n",
    "        if not dp[i-1][j]:\n",
    "            continue\n",
    "        for k in range(B+1):\n",
    "            if j + k*A > X:\n",
    "                break\n",
    "            dp[i][j+k*A] = True\n"
   ]
  },
  {
   "cell_type": "code",
   "execution_count": 13,
   "id": "eb2ff501-5c09-4584-9a36-6456873ef47d",
   "metadata": {},
   "outputs": [
    {
     "name": "stdout",
     "output_type": "stream",
     "text": [
      "Yes\n"
     ]
    }
   ],
   "source": [
    "print('Yes' if dp[N][X] else 'No')"
   ]
  },
  {
   "cell_type": "code",
   "execution_count": 15,
   "id": "9fd608c1-6808-4fa6-acc3-82ea62f2495c",
   "metadata": {},
   "outputs": [
    {
     "data": {
      "text/plain": [
       "[True,\n",
       " False,\n",
       " True,\n",
       " False,\n",
       " True,\n",
       " True,\n",
       " True,\n",
       " True,\n",
       " False,\n",
       " True,\n",
       " True,\n",
       " True,\n",
       " True,\n",
       " False,\n",
       " True,\n",
       " True,\n",
       " True,\n",
       " True,\n",
       " False,\n",
       " True]"
      ]
     },
     "execution_count": 15,
     "metadata": {},
     "output_type": "execute_result"
    }
   ],
   "source": [
    "dp[2]"
   ]
  },
  {
   "cell_type": "code",
   "execution_count": null,
   "id": "69b1dbdc-af3f-4ad1-baf3-b945cb260dcc",
   "metadata": {},
   "outputs": [],
   "source": []
  }
 ],
 "metadata": {
  "kernelspec": {
   "display_name": "Python 3",
   "language": "python",
   "name": "python3"
  },
  "language_info": {
   "codemirror_mode": {
    "name": "ipython",
    "version": 3
   },
   "file_extension": ".py",
   "mimetype": "text/x-python",
   "name": "python",
   "nbconvert_exporter": "python",
   "pygments_lexer": "ipython3",
   "version": "3.6.13"
  }
 },
 "nbformat": 4,
 "nbformat_minor": 5
}
