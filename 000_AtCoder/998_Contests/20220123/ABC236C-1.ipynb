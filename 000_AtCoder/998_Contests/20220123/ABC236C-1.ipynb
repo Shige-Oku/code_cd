{
 "cells": [
  {
   "cell_type": "code",
   "execution_count": 2,
   "id": "d5153b36-20ae-4da2-a1e2-d436dea6bb2f",
   "metadata": {},
   "outputs": [],
   "source": [
    "import sys\n",
    "import numpy as np\n",
    "import math\n",
    "import collections\n",
    "import copy\n",
    "import decimal\n",
    "import itertools\n",
    "import re\n",
    "import bisect\n",
    "import scipy\n",
    "import heapq\n",
    "import array\n",
    "from collections import deque\n",
    "from functools import reduce\n",
    "from itertools import product\n",
    "from itertools import combinations\n",
    "from itertools import chain\n",
    "from functools import lru_cache\n",
    "from scipy.special import comb\n",
    "from numba import njit\n",
    "from bisect import bisect_right\n",
    "from bisect import bisect_left"
   ]
  },
  {
   "cell_type": "code",
   "execution_count": 4,
   "id": "a9cd25ed-c477-4f8c-bff8-4bf9f0863c9a",
   "metadata": {},
   "outputs": [
    {
     "name": "stdin",
     "output_type": "stream",
     "text": [
      " 5 3\n"
     ]
    }
   ],
   "source": [
    "N, M = map(int, input().split())"
   ]
  },
  {
   "cell_type": "code",
   "execution_count": 8,
   "id": "d7a4aa0a-d36a-4a33-8a13-8200a35263be",
   "metadata": {},
   "outputs": [
    {
     "name": "stdin",
     "output_type": "stream",
     "text": [
      " tokyo kanda akiba okachi ueno\n"
     ]
    }
   ],
   "source": [
    "Sn = list(input().split())"
   ]
  },
  {
   "cell_type": "code",
   "execution_count": 10,
   "id": "ec9ac77f-93e8-465a-93fc-8868578df631",
   "metadata": {},
   "outputs": [
    {
     "name": "stdin",
     "output_type": "stream",
     "text": [
      " tokyo akiba ueno\n"
     ]
    }
   ],
   "source": [
    "Tn = set(input().split())"
   ]
  },
  {
   "cell_type": "code",
   "execution_count": 12,
   "id": "b15984cf-cc75-47e9-b29a-07ea60dc03b5",
   "metadata": {},
   "outputs": [
    {
     "name": "stdout",
     "output_type": "stream",
     "text": [
      "Yes\n",
      "No\n",
      "Yes\n",
      "No\n",
      "Yes\n"
     ]
    }
   ],
   "source": [
    "for s in Sn:\n",
    "    if s in Tn:\n",
    "        print('Yes')\n",
    "    else:\n",
    "        print('No')"
   ]
  },
  {
   "cell_type": "code",
   "execution_count": 11,
   "id": "fc9d6461-b2a5-4032-a467-6afe5f568f4a",
   "metadata": {},
   "outputs": [
    {
     "data": {
      "text/plain": [
       "{'akiba', 'tokyo', 'ueno'}"
      ]
     },
     "execution_count": 11,
     "metadata": {},
     "output_type": "execute_result"
    }
   ],
   "source": [
    "Tn"
   ]
  },
  {
   "cell_type": "code",
   "execution_count": null,
   "id": "f13c24a6-b9ef-4e8f-b5cb-eccee7bcf88e",
   "metadata": {},
   "outputs": [],
   "source": []
  }
 ],
 "metadata": {
  "kernelspec": {
   "display_name": "Python 3",
   "language": "python",
   "name": "python3"
  },
  "language_info": {
   "codemirror_mode": {
    "name": "ipython",
    "version": 3
   },
   "file_extension": ".py",
   "mimetype": "text/x-python",
   "name": "python",
   "nbconvert_exporter": "python",
   "pygments_lexer": "ipython3",
   "version": "3.6.13"
  }
 },
 "nbformat": 4,
 "nbformat_minor": 5
}
