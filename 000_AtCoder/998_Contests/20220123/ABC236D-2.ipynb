{
 "cells": [
  {
   "cell_type": "code",
   "execution_count": 1,
   "id": "d08a57e0-d89a-4b74-a56d-388b8907bdea",
   "metadata": {},
   "outputs": [
    {
     "name": "stdin",
     "output_type": "stream",
     "text": [
      " 2\n"
     ]
    }
   ],
   "source": [
    "N = int(input())"
   ]
  },
  {
   "cell_type": "code",
   "execution_count": 2,
   "id": "41803b24-9eb1-4f1b-8df3-7aeb35537080",
   "metadata": {},
   "outputs": [
    {
     "name": "stdin",
     "output_type": "stream",
     "text": [
      " 4 0 1\n",
      " 5 3\n",
      " 2\n"
     ]
    }
   ],
   "source": [
    "An = [list(map(int, input().split())) for _ in range(N*2-1)]"
   ]
  },
  {
   "cell_type": "code",
   "execution_count": 6,
   "id": "1c194b1a-9888-4e39-8da9-d34517ec6fa7",
   "metadata": {},
   "outputs": [],
   "source": [
    "def DFS(c):\n",
    "    ret = 0\n",
    "    s = set()\n",
    "    for i in range(2*N):\n",
    "        if i in \n",
    "    return ret"
   ]
  },
  {
   "cell_type": "code",
   "execution_count": 7,
   "id": "818ad737-7fc5-44a1-b2d7-14d8c14aa2d3",
   "metadata": {},
   "outputs": [
    {
     "name": "stdout",
     "output_type": "stream",
     "text": [
      "0\n"
     ]
    }
   ],
   "source": [
    "print(DFS(list()))"
   ]
  },
  {
   "cell_type": "code",
   "execution_count": null,
   "id": "55d4e7a6-20e0-4f4f-9218-0b27c55943a0",
   "metadata": {},
   "outputs": [],
   "source": []
  }
 ],
 "metadata": {
  "kernelspec": {
   "display_name": "Python 3",
   "language": "python",
   "name": "python3"
  },
  "language_info": {
   "codemirror_mode": {
    "name": "ipython",
    "version": 3
   },
   "file_extension": ".py",
   "mimetype": "text/x-python",
   "name": "python",
   "nbconvert_exporter": "python",
   "pygments_lexer": "ipython3",
   "version": "3.6.13"
  }
 },
 "nbformat": 4,
 "nbformat_minor": 5
}
