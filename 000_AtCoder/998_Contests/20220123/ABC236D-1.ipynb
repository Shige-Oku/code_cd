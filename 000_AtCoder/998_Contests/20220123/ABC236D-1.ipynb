{
 "cells": [
  {
   "cell_type": "code",
   "execution_count": 2,
   "id": "53c2d5d5-88cd-46aa-8ae0-2c96639496f4",
   "metadata": {},
   "outputs": [],
   "source": [
    "import sys\n",
    "import numpy as np\n",
    "import math\n",
    "import collections\n",
    "import copy\n",
    "import decimal\n",
    "import itertools\n",
    "import re\n",
    "import bisect\n",
    "import scipy\n",
    "import heapq\n",
    "import array\n",
    "from collections import deque\n",
    "from functools import reduce\n",
    "from itertools import product\n",
    "from itertools import combinations\n",
    "from itertools import chain\n",
    "from functools import lru_cache\n",
    "from scipy.special import comb\n",
    "from numba import njit\n",
    "from bisect import bisect_right\n",
    "from bisect import bisect_left"
   ]
  },
  {
   "cell_type": "code",
   "execution_count": 3,
   "id": "4901ad7c-214d-4515-8c50-1dc604484458",
   "metadata": {},
   "outputs": [
    {
     "name": "stdin",
     "output_type": "stream",
     "text": [
      " 2\n"
     ]
    }
   ],
   "source": [
    "N = int(input())"
   ]
  },
  {
   "cell_type": "code",
   "execution_count": 4,
   "id": "6cce8777-eee9-4f24-9923-f981ca58c3c3",
   "metadata": {},
   "outputs": [
    {
     "name": "stdin",
     "output_type": "stream",
     "text": [
      " 4 0 1\n",
      " 5 3\n",
      " 2\n"
     ]
    }
   ],
   "source": [
    "An = [list(map(int, input().split())) for _ in range(N*2-1)]"
   ]
  },
  {
   "cell_type": "code",
   "execution_count": 45,
   "id": "2c73c61b-6ce9-4aea-adb5-c19a0b9ec96b",
   "metadata": {},
   "outputs": [],
   "source": [
    "ans = 0\n",
    "s = set()\n",
    "for l in itertools.permutations(range(2*N), 2*N):\n",
    "    ll = []\n",
    "    for i in range(N):\n",
    "        i1, i2 = l[2*i], l[2*i+1]\n",
    "        i3, i4 = min(i1, i2), max(i1, i2)\n",
    "        ll.append((i3, i4))\n",
    "    l2 = sorted(ll)\n",
    "    l3 = tuple(l2)\n",
    "    if l3 in s:\n",
    "        continue\n",
    "    s.add(l3)\n",
    "    ca = 0\n",
    "    for i in range(N):\n",
    "        i1, i2 = l[2*i], l[2*i+1]\n",
    "        i3, i4 = min(i1, i2), max(i1, i2)\n",
    "        ca ^= An[i3][i4-i3-1]\n",
    "    ans = max(ans, ca)\n"
   ]
  },
  {
   "cell_type": "code",
   "execution_count": 46,
   "id": "eff3645b-039b-4de1-8533-a04fc83aacea",
   "metadata": {},
   "outputs": [
    {
     "name": "stdout",
     "output_type": "stream",
     "text": [
      "6\n"
     ]
    }
   ],
   "source": [
    "print(ans)"
   ]
  },
  {
   "cell_type": "code",
   "execution_count": 21,
   "id": "be4dc18c-f26a-4e63-8503-c6f5ac539acd",
   "metadata": {},
   "outputs": [
    {
     "data": {
      "text/plain": [
       "0"
      ]
     },
     "execution_count": 21,
     "metadata": {},
     "output_type": "execute_result"
    }
   ],
   "source": [
    "An[0][1]"
   ]
  },
  {
   "cell_type": "code",
   "execution_count": 36,
   "id": "e5920153-ea6e-4b88-9d5a-fa3dab55517a",
   "metadata": {},
   "outputs": [
    {
     "name": "stdout",
     "output_type": "stream",
     "text": [
      "(0, 1, 2, 3)\n",
      "(0, 1, 2, 4)\n",
      "(0, 1, 3, 4)\n",
      "(0, 2, 3, 4)\n",
      "(1, 2, 3, 4)\n"
     ]
    }
   ],
   "source": [
    "for l in itertools.combinations(range(5), 4):\n",
    "    print(l)"
   ]
  },
  {
   "cell_type": "code",
   "execution_count": 16,
   "id": "81c797e2-d0de-4950-9732-705694cd334a",
   "metadata": {},
   "outputs": [
    {
     "data": {
      "text/plain": [
       "7"
      ]
     },
     "execution_count": 16,
     "metadata": {},
     "output_type": "execute_result"
    }
   ],
   "source": [
    "6 ^ 1"
   ]
  },
  {
   "cell_type": "code",
   "execution_count": null,
   "id": "df3cd5e9-d7bc-4679-8ab2-135eb379655e",
   "metadata": {},
   "outputs": [],
   "source": []
  }
 ],
 "metadata": {
  "kernelspec": {
   "display_name": "Python 3",
   "language": "python",
   "name": "python3"
  },
  "language_info": {
   "codemirror_mode": {
    "name": "ipython",
    "version": 3
   },
   "file_extension": ".py",
   "mimetype": "text/x-python",
   "name": "python",
   "nbconvert_exporter": "python",
   "pygments_lexer": "ipython3",
   "version": "3.6.13"
  }
 },
 "nbformat": 4,
 "nbformat_minor": 5
}
