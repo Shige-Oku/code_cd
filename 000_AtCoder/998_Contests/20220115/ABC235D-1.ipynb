{
 "cells": [
  {
   "cell_type": "code",
   "execution_count": null,
   "id": "b268dad4-3c45-4499-949e-9f33ae75e996",
   "metadata": {},
   "outputs": [],
   "source": [
    "# サンプルが合わない（無限ループ）"
   ]
  },
  {
   "cell_type": "code",
   "execution_count": 3,
   "id": "df189fc5-0f22-4bff-8096-f6c629c33984",
   "metadata": {},
   "outputs": [],
   "source": [
    "import sys\n",
    "import numpy as np\n",
    "import math\n",
    "import collections\n",
    "import copy\n",
    "import decimal\n",
    "import itertools\n",
    "import re\n",
    "import bisect\n",
    "import scipy\n",
    "import heapq\n",
    "import array\n",
    "from collections import deque\n",
    "from functools import reduce\n",
    "from itertools import product\n",
    "from itertools import combinations\n",
    "from itertools import chain\n",
    "from functools import lru_cache\n",
    "from scipy.special import comb\n",
    "from numba import njit\n",
    "from bisect import bisect_right\n",
    "from bisect import bisect_left"
   ]
  },
  {
   "cell_type": "code",
   "execution_count": 4,
   "id": "c6c162a3-722a-474a-972c-9ef5e982c48b",
   "metadata": {},
   "outputs": [],
   "source": [
    "sys.setrecursionlimit(10**7)"
   ]
  },
  {
   "cell_type": "code",
   "execution_count": 5,
   "id": "a7d6703b-0f99-4b41-b539-5b15610d0ba0",
   "metadata": {},
   "outputs": [
    {
     "name": "stdin",
     "output_type": "stream",
     "text": [
      " 2 611\n"
     ]
    }
   ],
   "source": [
    "A, N = map(int, input().split())"
   ]
  },
  {
   "cell_type": "code",
   "execution_count": 6,
   "id": "a7419764-ab07-40c5-a6c2-f2f3b5e70764",
   "metadata": {},
   "outputs": [],
   "source": [
    "def solve(n, c):\n",
    "    ret = 0\n",
    "    if n == N:\n",
    "        return ret\n",
    "    s = str(n)\n",
    "    l = len(s)\n",
    "    for i in range(1, l+1):\n",
    "        s = s[-1] + s[:-1]\n",
    "        if int(s) == N:\n",
    "#             print(s, i)\n",
    "            return i\n",
    "        ret = DFS(int(s), c+i)\n",
    "        if ret < 10**10:\n",
    "            return ret\n",
    "        else:\n",
    "            return 10**10\n",
    "    return 10**10"
   ]
  },
  {
   "cell_type": "code",
   "execution_count": 7,
   "id": "1eed07db-35af-4524-80d5-b605b2ce9fdd",
   "metadata": {},
   "outputs": [],
   "source": [
    "def DFS(n, c):\n",
    "#     print(n, c)\n",
    "    ret = 10 ** 10\n",
    "    if n == N:\n",
    "        return c\n",
    "    if len(str(n * A)) > len(str(N)):\n",
    "#         print(n, c)\n",
    "        return 10 ** 10\n",
    "    n *= A\n",
    "    c += 1\n",
    "    cnt = solve(n, c)\n",
    "    if cnt != -1:\n",
    "        ret = min(ret, c+cnt)\n",
    "    ret = min(ret, DFS(n, c+1))\n",
    "    return ret"
   ]
  },
  {
   "cell_type": "code",
   "execution_count": null,
   "id": "17638065-5611-4690-8a99-d8865844238d",
   "metadata": {},
   "outputs": [],
   "source": [
    "ans = DFS(1, 0)\n",
    "if ans == 10**10:\n",
    "    print('-1')\n",
    "else:\n",
    "    print(ans)"
   ]
  },
  {
   "cell_type": "code",
   "execution_count": null,
   "id": "dbe94625-268c-4771-9c2c-4632ed16e83a",
   "metadata": {},
   "outputs": [],
   "source": []
  }
 ],
 "metadata": {
  "kernelspec": {
   "display_name": "Python 3",
   "language": "python",
   "name": "python3"
  },
  "language_info": {
   "codemirror_mode": {
    "name": "ipython",
    "version": 3
   },
   "file_extension": ".py",
   "mimetype": "text/x-python",
   "name": "python",
   "nbconvert_exporter": "python",
   "pygments_lexer": "ipython3",
   "version": "3.6.13"
  }
 },
 "nbformat": 4,
 "nbformat_minor": 5
}
