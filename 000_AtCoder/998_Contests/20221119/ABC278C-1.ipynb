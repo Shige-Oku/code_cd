{
 "cells": [
  {
   "cell_type": "code",
   "execution_count": 1,
   "id": "61b3cb79-c235-47f8-bb27-19fdb1a4142d",
   "metadata": {},
   "outputs": [],
   "source": [
    "import sys\n",
    "import numpy as np\n",
    "import math\n",
    "import collections\n",
    "import copy\n",
    "import decimal\n",
    "import itertools\n",
    "import re\n",
    "import bisect\n",
    "import scipy\n",
    "import heapq\n",
    "from collections import deque \n",
    "from functools import reduce\n",
    "from itertools import product\n",
    "from itertools import combinations\n",
    "from functools import lru_cache\n",
    "from scipy.special import comb\n",
    "from numba import njit\n",
    "from bisect import bisect_right\n",
    "from bisect import bisect_left"
   ]
  },
  {
   "cell_type": "code",
   "execution_count": 2,
   "id": "fee0ca17-4683-4e35-b3c3-5ed83df784a0",
   "metadata": {},
   "outputs": [
    {
     "name": "stdin",
     "output_type": "stream",
     "text": [
      " 3 9\n"
     ]
    }
   ],
   "source": [
    "N, Q = map(int, input().split())"
   ]
  },
  {
   "cell_type": "code",
   "execution_count": 3,
   "id": "0b9d4b63-df7d-4ad9-bde8-591c4b41a79f",
   "metadata": {},
   "outputs": [
    {
     "name": "stdin",
     "output_type": "stream",
     "text": [
      " 1 1 2\n",
      " 3 1 2\n",
      " 1 2 1\n",
      " 3 1 2\n",
      " 1 2 3\n",
      " 1 3 2\n",
      " 3 1 3\n",
      " 2 1 2\n",
      " 3 1 2\n"
     ]
    }
   ],
   "source": [
    "TABn = [list(map(int, input().split())) for _ in range(Q)]"
   ]
  },
  {
   "cell_type": "code",
   "execution_count": 11,
   "id": "fb0d2900-85c5-4265-9f37-8e317f9ed873",
   "metadata": {},
   "outputs": [],
   "source": [
    "def check(a, b):\n",
    "    if a not in f:\n",
    "        return False\n",
    "    if b not in f:\n",
    "        return False\n",
    "    if b not in f[a]:\n",
    "        return False\n",
    "    if a not in f[b]:\n",
    "        return False\n",
    "    return True"
   ]
  },
  {
   "cell_type": "code",
   "execution_count": 14,
   "id": "e096d8fe-f183-46d8-b8bd-1c18d17920f2",
   "metadata": {},
   "outputs": [
    {
     "name": "stdout",
     "output_type": "stream",
     "text": [
      "No\n",
      "Yes\n",
      "No\n",
      "No\n"
     ]
    }
   ],
   "source": [
    "f = {}\n",
    "for T, A, B in TABn:\n",
    "    if T == 1:\n",
    "        if A not in f:\n",
    "            f[A] = set()\n",
    "        f[A].add(B)\n",
    "    elif T == 2:\n",
    "        if A not in f:\n",
    "            continue\n",
    "        if B in f[A]:\n",
    "            f[A].remove(B)\n",
    "    else:\n",
    "        if check(A, B):\n",
    "            print('Yes')\n",
    "        else:\n",
    "            print('No')\n",
    "        "
   ]
  },
  {
   "cell_type": "code",
   "execution_count": 13,
   "id": "5cc7f9ea-b178-40a0-9046-678100790b6e",
   "metadata": {},
   "outputs": [
    {
     "data": {
      "text/plain": [
       "{1: {1, 3}, 2: set(), 3: set()}"
      ]
     },
     "execution_count": 13,
     "metadata": {},
     "output_type": "execute_result"
    }
   ],
   "source": [
    "f"
   ]
  },
  {
   "cell_type": "code",
   "execution_count": 7,
   "id": "02227250-88ee-45d1-89db-12f302bbaefd",
   "metadata": {},
   "outputs": [
    {
     "data": {
      "text/plain": [
       "set()"
      ]
     },
     "execution_count": 7,
     "metadata": {},
     "output_type": "execute_result"
    }
   ],
   "source": [
    "f[1]"
   ]
  },
  {
   "cell_type": "code",
   "execution_count": null,
   "id": "6cb6170c-c081-47f6-8993-8109219003a8",
   "metadata": {},
   "outputs": [],
   "source": []
  }
 ],
 "metadata": {
  "kernelspec": {
   "display_name": "Python 3",
   "language": "python",
   "name": "python3"
  },
  "language_info": {
   "codemirror_mode": {
    "name": "ipython",
    "version": 3
   },
   "file_extension": ".py",
   "mimetype": "text/x-python",
   "name": "python",
   "nbconvert_exporter": "python",
   "pygments_lexer": "ipython3",
   "version": "3.6.13"
  }
 },
 "nbformat": 4,
 "nbformat_minor": 5
}
