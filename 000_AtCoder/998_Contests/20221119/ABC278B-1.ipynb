{
 "cells": [
  {
   "cell_type": "code",
   "execution_count": 1,
   "id": "55407147-0b16-406f-85be-7f8a60a4bf4f",
   "metadata": {},
   "outputs": [],
   "source": [
    "import sys\n",
    "import numpy as np\n",
    "import math\n",
    "import collections\n",
    "import copy\n",
    "import decimal\n",
    "import itertools\n",
    "import re\n",
    "import bisect\n",
    "import scipy\n",
    "import heapq\n",
    "from collections import deque \n",
    "from functools import reduce\n",
    "from itertools import product\n",
    "from itertools import combinations\n",
    "from functools import lru_cache\n",
    "from scipy.special import comb\n",
    "from numba import njit\n",
    "from bisect import bisect_right\n",
    "from bisect import bisect_left"
   ]
  },
  {
   "cell_type": "code",
   "execution_count": 50,
   "id": "956a1428-0a33-4429-a436-a3f5203fb822",
   "metadata": {},
   "outputs": [
    {
     "name": "stdin",
     "output_type": "stream",
     "text": [
      " 20 40\n"
     ]
    }
   ],
   "source": [
    "H, M = map(int, input().split())"
   ]
  },
  {
   "cell_type": "code",
   "execution_count": 51,
   "id": "27a0b416-cab2-4ba9-8e44-39840eb50274",
   "metadata": {},
   "outputs": [],
   "source": [
    "def check(h, m):\n",
    "    hs = list(str(h).zfill(2))\n",
    "    ms = list(str(m).zfill(2))\n",
    "    hs[1], ms[0] = ms[0], hs[1]\n",
    "    if int(\"\".join(hs)) > 23:\n",
    "        return False\n",
    "    if int(\"\".join(ms)) > 59:\n",
    "        return False\n",
    "    return True"
   ]
  },
  {
   "cell_type": "code",
   "execution_count": 52,
   "id": "0d484ccc-3f5c-43c2-a952-c3dbffdb38e0",
   "metadata": {},
   "outputs": [
    {
     "name": "stdout",
     "output_type": "stream",
     "text": [
      "21 0\n"
     ]
    }
   ],
   "source": [
    "s = H*60 + M\n",
    "for i in range(86400):\n",
    "    h = s // 60\n",
    "    h %= 24 \n",
    "    m = s % 60\n",
    "    if check(h, m):\n",
    "        print(h, m)\n",
    "        break\n",
    "    s += 1"
   ]
  },
  {
   "cell_type": "code",
   "execution_count": 53,
   "id": "7cf261df-2806-4333-9321-7150c88e79e4",
   "metadata": {},
   "outputs": [
    {
     "data": {
      "text/plain": [
       "'21'"
      ]
     },
     "execution_count": 53,
     "metadata": {},
     "output_type": "execute_result"
    }
   ],
   "source": [
    "str(h).zfill(2)"
   ]
  },
  {
   "cell_type": "code",
   "execution_count": 39,
   "id": "7fde228a-56d1-4bf2-8d97-41dc85653c82",
   "metadata": {},
   "outputs": [
    {
     "data": {
      "text/plain": [
       "False"
      ]
     },
     "execution_count": 39,
     "metadata": {},
     "output_type": "execute_result"
    }
   ],
   "source": [
    "check(24, 0)"
   ]
  },
  {
   "cell_type": "code",
   "execution_count": null,
   "id": "00e24f91-1b77-4c3b-bd4f-33b8216e5770",
   "metadata": {},
   "outputs": [],
   "source": []
  }
 ],
 "metadata": {
  "kernelspec": {
   "display_name": "Python 3",
   "language": "python",
   "name": "python3"
  },
  "language_info": {
   "codemirror_mode": {
    "name": "ipython",
    "version": 3
   },
   "file_extension": ".py",
   "mimetype": "text/x-python",
   "name": "python",
   "nbconvert_exporter": "python",
   "pygments_lexer": "ipython3",
   "version": "3.6.13"
  }
 },
 "nbformat": 4,
 "nbformat_minor": 5
}
