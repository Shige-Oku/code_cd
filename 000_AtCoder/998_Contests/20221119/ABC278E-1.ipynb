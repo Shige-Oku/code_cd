{
 "cells": [
  {
   "cell_type": "code",
   "execution_count": 1,
   "id": "89ec13a1-ad48-4fc4-9be6-b09b1638be1e",
   "metadata": {},
   "outputs": [],
   "source": [
    "import sys\n",
    "import numpy as np\n",
    "import math\n",
    "import collections\n",
    "import copy\n",
    "import decimal\n",
    "import itertools\n",
    "import re\n",
    "import bisect\n",
    "import scipy\n",
    "import heapq\n",
    "from collections import deque \n",
    "from functools import reduce\n",
    "from itertools import product\n",
    "from itertools import combinations\n",
    "from functools import lru_cache\n",
    "from scipy.special import comb\n",
    "from numba import njit\n",
    "from bisect import bisect_right\n",
    "from bisect import bisect_left"
   ]
  },
  {
   "cell_type": "code",
   "execution_count": 2,
   "id": "af0ed3db-c720-4a08-81e3-0a486b5c2609",
   "metadata": {},
   "outputs": [
    {
     "name": "stdin",
     "output_type": "stream",
     "text": [
      " 3 4 5 2 2\n"
     ]
    }
   ],
   "source": [
    "H, W, N, h, w = map(int, input().split())"
   ]
  },
  {
   "cell_type": "code",
   "execution_count": 3,
   "id": "c8350511-04c2-4dfb-876c-0694b7307f52",
   "metadata": {},
   "outputs": [
    {
     "name": "stdin",
     "output_type": "stream",
     "text": [
      " 2 2 1 1\n",
      " 3 2 5 3\n",
      " 3 4 4 3\n"
     ]
    }
   ],
   "source": [
    "An = [list(map(int, input().split())) for _ in range(H)]"
   ]
  },
  {
   "cell_type": "code",
   "execution_count": 49,
   "id": "4e8cfe99-bc93-45a7-8748-7750e9c8f439",
   "metadata": {},
   "outputs": [],
   "source": [
    "from collections import defaultdict\n",
    "cnt = []\n",
    "for i in range(H+1):\n",
    "    l = []\n",
    "    for j in range(W+1):\n",
    "        l.append(defaultdict(int))\n",
    "    cnt.append(l)\n",
    "for i in range(1, H+1):\n",
    "    for j in range(1, W+1):\n",
    "        n = An[i-1][j-1]\n",
    "        for k in range(1, N+1):\n",
    "            cnt[i][j][k] += cnt[i][j-1][k]\n",
    "            if k == n:\n",
    "                cnt[i][j][k] += 1\n",
    "for j in range(1, W+1):\n",
    "    for i in range(1, H+1):\n",
    "        for k in range(1, N+1):\n",
    "            cnt[i][j][k] += cnt[i-1][j][k]\n",
    "        "
   ]
  },
  {
   "cell_type": "code",
   "execution_count": null,
   "id": "c0c2393c-de2a-48cb-83d7-8c24b023d5cf",
   "metadata": {},
   "outputs": [],
   "source": []
  },
  {
   "cell_type": "code",
   "execution_count": 50,
   "id": "ec750740-caa7-4be0-8180-60e87e81e50e",
   "metadata": {},
   "outputs": [
    {
     "data": {
      "text/plain": [
       "[[defaultdict(int, {}),\n",
       "  defaultdict(int, {1: 0, 2: 0, 3: 0, 4: 0, 5: 0}),\n",
       "  defaultdict(int, {1: 0, 2: 0, 3: 0, 4: 0, 5: 0}),\n",
       "  defaultdict(int, {1: 0, 2: 0, 3: 0, 4: 0, 5: 0}),\n",
       "  defaultdict(int, {1: 0, 2: 0, 3: 0, 4: 0, 5: 0})],\n",
       " [defaultdict(int, {1: 0, 2: 0, 3: 0, 4: 0, 5: 0}),\n",
       "  defaultdict(int, {1: 0, 2: 1, 3: 0, 4: 0, 5: 0}),\n",
       "  defaultdict(int, {1: 0, 2: 2, 3: 0, 4: 0, 5: 0}),\n",
       "  defaultdict(int, {1: 1, 2: 2, 3: 0, 4: 0, 5: 0}),\n",
       "  defaultdict(int, {1: 2, 2: 2, 3: 0, 4: 0, 5: 0})],\n",
       " [defaultdict(int, {1: 0, 2: 0, 3: 0, 4: 0, 5: 0}),\n",
       "  defaultdict(int, {1: 0, 2: 1, 3: 1, 4: 0, 5: 0}),\n",
       "  defaultdict(int, {1: 0, 2: 3, 3: 1, 4: 0, 5: 0}),\n",
       "  defaultdict(int, {1: 1, 2: 3, 3: 1, 4: 0, 5: 1}),\n",
       "  defaultdict(int, {1: 2, 2: 3, 3: 2, 4: 0, 5: 1})],\n",
       " [defaultdict(int, {1: 0, 2: 0, 3: 0, 4: 0, 5: 0}),\n",
       "  defaultdict(int, {1: 0, 2: 1, 3: 2, 4: 0, 5: 0}),\n",
       "  defaultdict(int, {1: 0, 2: 3, 3: 2, 4: 1, 5: 0}),\n",
       "  defaultdict(int, {1: 1, 2: 3, 3: 2, 4: 2, 5: 1}),\n",
       "  defaultdict(int, {1: 2, 2: 3, 3: 4, 4: 2, 5: 1})]]"
      ]
     },
     "execution_count": 50,
     "metadata": {},
     "output_type": "execute_result"
    }
   ],
   "source": [
    "cnt"
   ]
  },
  {
   "cell_type": "code",
   "execution_count": 52,
   "id": "c6c172fa-89df-4620-9faa-e92d8af0b067",
   "metadata": {},
   "outputs": [
    {
     "data": {
      "text/plain": [
       "defaultdict(int, {1: 0, 2: 1, 3: 1, 4: 0, 5: 0})"
      ]
     },
     "execution_count": 52,
     "metadata": {},
     "output_type": "execute_result"
    }
   ],
   "source": [
    "cnt[2][1]"
   ]
  },
  {
   "cell_type": "code",
   "execution_count": 21,
   "id": "5767d103-0e36-4449-ab67-473ecc8adbf9",
   "metadata": {},
   "outputs": [
    {
     "ename": "TypeError",
     "evalue": "unsupported operand type(s) for *: 'collections.defaultdict' and 'int'",
     "output_type": "error",
     "traceback": [
      "\u001b[1;31m---------------------------------------------------------------------------\u001b[0m",
      "\u001b[1;31mTypeError\u001b[0m                                 Traceback (most recent call last)",
      "\u001b[1;32m<ipython-input-21-d2aa7580c297>\u001b[0m in \u001b[0;36m<module>\u001b[1;34m\u001b[0m\n\u001b[0;32m      1\u001b[0m \u001b[1;32mfrom\u001b[0m \u001b[0mcollections\u001b[0m \u001b[1;32mimport\u001b[0m \u001b[0mdefaultdict\u001b[0m\u001b[1;33m\u001b[0m\u001b[1;33m\u001b[0m\u001b[0m\n\u001b[1;32m----> 2\u001b[1;33m \u001b[0mcnt\u001b[0m \u001b[1;33m=\u001b[0m \u001b[1;33m[\u001b[0m\u001b[0mdefaultdict\u001b[0m\u001b[1;33m(\u001b[0m\u001b[0mint\u001b[0m\u001b[1;33m)\u001b[0m \u001b[1;33m*\u001b[0m \u001b[1;33m(\u001b[0m\u001b[0mW\u001b[0m\u001b[1;33m+\u001b[0m\u001b[1;36m1\u001b[0m\u001b[1;33m)\u001b[0m \u001b[1;32mfor\u001b[0m \u001b[0m_\u001b[0m \u001b[1;32min\u001b[0m \u001b[0mrange\u001b[0m\u001b[1;33m(\u001b[0m\u001b[0mH\u001b[0m\u001b[1;33m+\u001b[0m\u001b[1;36m1\u001b[0m\u001b[1;33m)\u001b[0m\u001b[1;33m]\u001b[0m\u001b[1;33m\u001b[0m\u001b[1;33m\u001b[0m\u001b[0m\n\u001b[0m",
      "\u001b[1;32m<ipython-input-21-d2aa7580c297>\u001b[0m in \u001b[0;36m<listcomp>\u001b[1;34m(.0)\u001b[0m\n\u001b[0;32m      1\u001b[0m \u001b[1;32mfrom\u001b[0m \u001b[0mcollections\u001b[0m \u001b[1;32mimport\u001b[0m \u001b[0mdefaultdict\u001b[0m\u001b[1;33m\u001b[0m\u001b[1;33m\u001b[0m\u001b[0m\n\u001b[1;32m----> 2\u001b[1;33m \u001b[0mcnt\u001b[0m \u001b[1;33m=\u001b[0m \u001b[1;33m[\u001b[0m\u001b[0mdefaultdict\u001b[0m\u001b[1;33m(\u001b[0m\u001b[0mint\u001b[0m\u001b[1;33m)\u001b[0m \u001b[1;33m*\u001b[0m \u001b[1;33m(\u001b[0m\u001b[0mW\u001b[0m\u001b[1;33m+\u001b[0m\u001b[1;36m1\u001b[0m\u001b[1;33m)\u001b[0m \u001b[1;32mfor\u001b[0m \u001b[0m_\u001b[0m \u001b[1;32min\u001b[0m \u001b[0mrange\u001b[0m\u001b[1;33m(\u001b[0m\u001b[0mH\u001b[0m\u001b[1;33m+\u001b[0m\u001b[1;36m1\u001b[0m\u001b[1;33m)\u001b[0m\u001b[1;33m]\u001b[0m\u001b[1;33m\u001b[0m\u001b[1;33m\u001b[0m\u001b[0m\n\u001b[0m",
      "\u001b[1;31mTypeError\u001b[0m: unsupported operand type(s) for *: 'collections.defaultdict' and 'int'"
     ]
    }
   ],
   "source": [
    "from collections import defaultdict\n",
    "cnt = [defaultdict(int) * (W+1) for _ in range(H+1)]"
   ]
  },
  {
   "cell_type": "code",
   "execution_count": null,
   "id": "aa0cdb50-7bf5-4f3f-8263-2ddb46f29916",
   "metadata": {},
   "outputs": [],
   "source": [
    "cn"
   ]
  }
 ],
 "metadata": {
  "kernelspec": {
   "display_name": "Python 3",
   "language": "python",
   "name": "python3"
  },
  "language_info": {
   "codemirror_mode": {
    "name": "ipython",
    "version": 3
   },
   "file_extension": ".py",
   "mimetype": "text/x-python",
   "name": "python",
   "nbconvert_exporter": "python",
   "pygments_lexer": "ipython3",
   "version": "3.6.13"
  }
 },
 "nbformat": 4,
 "nbformat_minor": 5
}
