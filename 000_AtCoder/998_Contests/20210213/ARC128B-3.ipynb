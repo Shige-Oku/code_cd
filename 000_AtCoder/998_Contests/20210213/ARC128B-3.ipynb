{
 "cells": [
  {
   "cell_type": "code",
   "execution_count": null,
   "metadata": {},
   "outputs": [],
   "source": [
    "# WA"
   ]
  },
  {
   "cell_type": "code",
   "execution_count": 12,
   "metadata": {},
   "outputs": [
    {
     "name": "stdin",
     "output_type": "stream",
     "text": [
      " -211 1000000000000000000\n"
     ]
    }
   ],
   "source": [
    "B, C = map(int, input().split())"
   ]
  },
  {
   "cell_type": "code",
   "execution_count": 13,
   "metadata": {},
   "outputs": [
    {
     "name": "stdout",
     "output_type": "stream",
     "text": [
      "1000000000000000422\n"
     ]
    }
   ],
   "source": [
    "if B <= 0:\n",
    "    if C % 2 == 0:\n",
    "        print((C // 2 - B) * 2)\n",
    "    else:\n",
    "        print((C // 2 - B) * 2 + 1)\n",
    "else:\n",
    "    if C // 2 <= B:\n",
    "        if B == 0:\n",
    "            ans = 1\n",
    "        else:\n",
    "            ans = 2\n",
    "        ans += C // 2\n",
    "        if C % 2 == 1:\n",
    "            ans += 1\n",
    "        ans += C // 2 - 1\n",
    "        mi = B - C // 2\n",
    "        if B * mi >= 0:\n",
    "            print(ans)\n",
    "        else:\n",
    "            print(ans-1)\n",
    "    else:\n",
    "        if C % 2 == 0:\n",
    "            print((C // 2 + B) * 2 + 1)\n",
    "        else:\n",
    "            print((C // 2 + B) * 2)            "
   ]
  },
  {
   "cell_type": "code",
   "execution_count": null,
   "metadata": {},
   "outputs": [],
   "source": []
  }
 ],
 "metadata": {
  "kernelspec": {
   "display_name": "Python 3",
   "language": "python",
   "name": "python3"
  },
  "language_info": {
   "codemirror_mode": {
    "name": "ipython",
    "version": 3
   },
   "file_extension": ".py",
   "mimetype": "text/x-python",
   "name": "python",
   "nbconvert_exporter": "python",
   "pygments_lexer": "ipython3",
   "version": "3.6.10"
  }
 },
 "nbformat": 4,
 "nbformat_minor": 4
}
