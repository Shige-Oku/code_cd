{
 "cells": [
  {
   "cell_type": "code",
   "execution_count": 1,
   "id": "090dfb1e-fa01-45ac-8bc5-ef40dce5945b",
   "metadata": {},
   "outputs": [],
   "source": [
    "import sys\n",
    "import numpy as np\n",
    "import math\n",
    "import collections\n",
    "import copy\n",
    "import decimal\n",
    "import itertools\n",
    "import re\n",
    "import bisect\n",
    "import scipy\n",
    "import heapq\n",
    "from collections import deque \n",
    "from functools import reduce\n",
    "from itertools import product\n",
    "from itertools import combinations\n",
    "from functools import lru_cache\n",
    "from scipy.special import comb\n",
    "from numba import njit\n",
    "from bisect import bisect_right\n",
    "from bisect import bisect_left"
   ]
  },
  {
   "cell_type": "code",
   "execution_count": 36,
   "id": "3a80b86b-aea5-431e-8098-e5bb53f00901",
   "metadata": {},
   "outputs": [
    {
     "name": "stdin",
     "output_type": "stream",
     "text": [
      " 6\n"
     ]
    }
   ],
   "source": [
    "N = int(input())"
   ]
  },
  {
   "cell_type": "code",
   "execution_count": 37,
   "id": "3e381793-5b18-41f7-8b6a-61675a5ee040",
   "metadata": {},
   "outputs": [
    {
     "name": "stdin",
     "output_type": "stream",
     "text": [
      " 1 1 1 1 1 1\n"
     ]
    }
   ],
   "source": [
    "An = list(map(int, input().split()))"
   ]
  },
  {
   "cell_type": "code",
   "execution_count": 38,
   "id": "7431df66-4db9-400e-8044-c1932c4745b4",
   "metadata": {},
   "outputs": [],
   "source": [
    "def div2_3(n):\n",
    "    num = n\n",
    "    while num != 1:\n",
    "        if num % 2 != 0:\n",
    "            break\n",
    "        num //= 2\n",
    "    while num != 1:\n",
    "        if num % 3 != 0:\n",
    "            break\n",
    "        num //= 3\n",
    "    return num"
   ]
  },
  {
   "cell_type": "code",
   "execution_count": 39,
   "id": "98a0ad91-29fd-4a6b-ba53-126ad8469595",
   "metadata": {},
   "outputs": [],
   "source": [
    "def div(n, d):\n",
    "    num = n\n",
    "    ret = 0\n",
    "    while num != 1:\n",
    "        if num % d != 0:\n",
    "            return ret\n",
    "            break\n",
    "        num //= d\n",
    "        ret += 1\n",
    "    return ret"
   ]
  },
  {
   "cell_type": "code",
   "execution_count": 40,
   "id": "a169bc9a-f322-452b-b26f-4b45fc500636",
   "metadata": {},
   "outputs": [],
   "source": [
    "from math import gcd\n",
    "def solve():\n",
    "    num = div2_3(An[0])\n",
    "    for A in An[1:]:\n",
    "        if div2_3(A) != num:\n",
    "            return -1\n",
    "    ret = 0\n",
    "    g = An[0]\n",
    "    for A in An:\n",
    "        g = gcd(g, A)\n",
    "    for A in An:\n",
    "        num = A // g\n",
    "        ret += div(num, 2)\n",
    "        ret += div(num, 3)\n",
    "    return ret"
   ]
  },
  {
   "cell_type": "code",
   "execution_count": 41,
   "id": "7e3a033d-606b-443b-bfc1-8ae7655f4849",
   "metadata": {},
   "outputs": [
    {
     "name": "stdout",
     "output_type": "stream",
     "text": [
      "0\n"
     ]
    }
   ],
   "source": [
    "print(solve())"
   ]
  },
  {
   "cell_type": "code",
   "execution_count": 14,
   "id": "b7eea35e-2d64-4b9f-a426-ebf922656fd0",
   "metadata": {},
   "outputs": [
    {
     "data": {
      "text/plain": [
       "5"
      ]
     },
     "execution_count": 14,
     "metadata": {},
     "output_type": "execute_result"
    }
   ],
   "source": [
    "div2_3(10)"
   ]
  },
  {
   "cell_type": "code",
   "execution_count": 19,
   "id": "60774d5e-2834-463d-8688-3257dce1afe0",
   "metadata": {},
   "outputs": [
    {
     "data": {
      "text/plain": [
       "1"
      ]
     },
     "execution_count": 19,
     "metadata": {},
     "output_type": "execute_result"
    }
   ],
   "source": [
    "import math\n",
    "math.gcd(1, 10)"
   ]
  },
  {
   "cell_type": "code",
   "execution_count": 25,
   "id": "cad0a676-fdc4-430f-a2e5-398de4ec6e79",
   "metadata": {},
   "outputs": [
    {
     "data": {
      "text/plain": [
       "2"
      ]
     },
     "execution_count": 25,
     "metadata": {},
     "output_type": "execute_result"
    }
   ],
   "source": [
    "div(36, 2)"
   ]
  },
  {
   "cell_type": "code",
   "execution_count": null,
   "id": "b83c4f34-eaf0-4d09-83e1-3b44719bd10e",
   "metadata": {},
   "outputs": [],
   "source": []
  }
 ],
 "metadata": {
  "kernelspec": {
   "display_name": "Python 3",
   "language": "python",
   "name": "python3"
  },
  "language_info": {
   "codemirror_mode": {
    "name": "ipython",
    "version": 3
   },
   "file_extension": ".py",
   "mimetype": "text/x-python",
   "name": "python",
   "nbconvert_exporter": "python",
   "pygments_lexer": "ipython3",
   "version": "3.6.13"
  }
 },
 "nbformat": 4,
 "nbformat_minor": 5
}
