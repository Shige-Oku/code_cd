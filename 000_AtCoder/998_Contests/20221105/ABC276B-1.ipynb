{
 "cells": [
  {
   "cell_type": "code",
   "execution_count": 1,
   "id": "e74bf0b9-4743-4ba5-8d2b-8dace3c35642",
   "metadata": {},
   "outputs": [],
   "source": [
    "import sys\n",
    "import numpy as np\n",
    "import math\n",
    "import collections\n",
    "import copy\n",
    "import decimal\n",
    "import itertools\n",
    "import re\n",
    "import bisect\n",
    "import scipy\n",
    "import heapq\n",
    "from collections import deque \n",
    "from functools import reduce\n",
    "from itertools import product\n",
    "from itertools import combinations\n",
    "from functools import lru_cache\n",
    "from scipy.special import comb\n",
    "from numba import njit\n",
    "from bisect import bisect_right\n",
    "from bisect import bisect_left"
   ]
  },
  {
   "cell_type": "code",
   "execution_count": 7,
   "id": "cde6f2c7-31a3-4b5f-b4a4-1e35a0bbb048",
   "metadata": {},
   "outputs": [
    {
     "name": "stdin",
     "output_type": "stream",
     "text": [
      " 5 10\n"
     ]
    }
   ],
   "source": [
    "N, M = map(int, input().split())"
   ]
  },
  {
   "cell_type": "code",
   "execution_count": 10,
   "id": "647fc960-4915-4cf9-8c92-59eee0a4c654",
   "metadata": {},
   "outputs": [
    {
     "name": "stdin",
     "output_type": "stream",
     "text": [
      " 1 2\n",
      " 1 3\n",
      " 1 4\n",
      " 1 5\n",
      " 2 3\n",
      " 2 4\n",
      " 2 5\n",
      " 3 4\n",
      " 3 5\n",
      " 4 5\n"
     ]
    }
   ],
   "source": [
    "ABn = [list(map(int, input().split())) for _ in range(M)]"
   ]
  },
  {
   "cell_type": "code",
   "execution_count": 11,
   "id": "5d2cc296-c654-40ee-9e19-a9e2d0d96f8f",
   "metadata": {},
   "outputs": [],
   "source": [
    "graph = [[] for _ in range(N+1)]\n",
    "for A, B in ABn:\n",
    "    graph[A].append(B)\n",
    "    graph[B].append(A)"
   ]
  },
  {
   "cell_type": "code",
   "execution_count": 12,
   "id": "804cbd6d-58cc-4bcc-9f7a-df973ecb48d8",
   "metadata": {},
   "outputs": [
    {
     "name": "stdout",
     "output_type": "stream",
     "text": [
      "4 2 3 4 5\n",
      "4 1 3 4 5\n",
      "4 1 2 4 5\n",
      "4 1 2 3 5\n",
      "4 1 2 3 4\n"
     ]
    }
   ],
   "source": [
    "for g in graph[1:]:\n",
    "    print(len(g), *sorted(g))"
   ]
  },
  {
   "cell_type": "code",
   "execution_count": null,
   "id": "4ee1a71f-5b07-450a-ab34-ff8462e5a148",
   "metadata": {},
   "outputs": [],
   "source": []
  }
 ],
 "metadata": {
  "kernelspec": {
   "display_name": "Python 3",
   "language": "python",
   "name": "python3"
  },
  "language_info": {
   "codemirror_mode": {
    "name": "ipython",
    "version": 3
   },
   "file_extension": ".py",
   "mimetype": "text/x-python",
   "name": "python",
   "nbconvert_exporter": "python",
   "pygments_lexer": "ipython3",
   "version": "3.6.13"
  }
 },
 "nbformat": 4,
 "nbformat_minor": 5
}
