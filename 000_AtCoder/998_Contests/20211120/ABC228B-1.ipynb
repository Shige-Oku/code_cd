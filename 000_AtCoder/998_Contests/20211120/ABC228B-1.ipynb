{
 "cells": [
  {
   "cell_type": "code",
   "execution_count": 1,
   "id": "46e365c7-260a-42ce-ab54-987bca902fa3",
   "metadata": {},
   "outputs": [],
   "source": [
    "import sys\n",
    "import numpy as np\n",
    "import math\n",
    "import collections\n",
    "import copy\n",
    "import decimal\n",
    "import itertools\n",
    "import re\n",
    "import bisect\n",
    "import scipy\n",
    "import heapq\n",
    "import array\n",
    "from collections import deque\n",
    "from functools import reduce\n",
    "from itertools import product\n",
    "from itertools import combinations\n",
    "from itertools import chain\n",
    "from functools import lru_cache\n",
    "from scipy.special import comb\n",
    "from numba import njit\n",
    "from bisect import bisect_right\n",
    "from bisect import bisect_left"
   ]
  },
  {
   "cell_type": "code",
   "execution_count": 53,
   "id": "ae109336-f8c3-4905-a45b-89248a92ffb2",
   "metadata": {},
   "outputs": [
    {
     "name": "stdin",
     "output_type": "stream",
     "text": [
      " 4 2\n"
     ]
    }
   ],
   "source": [
    "N, X = map(int, input().split())"
   ]
  },
  {
   "cell_type": "code",
   "execution_count": 54,
   "id": "b820634e-023d-4f58-b389-170ab51cee42",
   "metadata": {},
   "outputs": [
    {
     "name": "stdin",
     "output_type": "stream",
     "text": [
      " 3 1 1 2\n"
     ]
    }
   ],
   "source": [
    "An = list(map(int, input().split()))"
   ]
  },
  {
   "cell_type": "code",
   "execution_count": 57,
   "id": "a8f19001-f806-4815-a380-d52b817fffb1",
   "metadata": {},
   "outputs": [],
   "source": [
    "ans = 0\n",
    "know = [False] * (N + 1)\n",
    "i = X\n",
    "while True:\n",
    "    if know[i]:\n",
    "        break\n",
    "    ans += 1\n",
    "    know[i] = True\n",
    "    i = An[i-1]\n",
    "    "
   ]
  },
  {
   "cell_type": "code",
   "execution_count": 56,
   "id": "c0bb3508-01e9-4050-8e30-12dd08440ee6",
   "metadata": {},
   "outputs": [
    {
     "name": "stdout",
     "output_type": "stream",
     "text": [
      "3\n"
     ]
    }
   ],
   "source": [
    "print(ans)"
   ]
  },
  {
   "cell_type": "code",
   "execution_count": 32,
   "id": "5a093992-24ad-4b68-a9fb-e9ad072df0f9",
   "metadata": {},
   "outputs": [
    {
     "data": {
      "text/plain": [
       "([False, True, True, True, False], 1)"
      ]
     },
     "execution_count": 32,
     "metadata": {},
     "output_type": "execute_result"
    }
   ],
   "source": [
    "know, i"
   ]
  },
  {
   "cell_type": "code",
   "execution_count": 48,
   "id": "c42f08e4-c68d-4cc1-868e-191df4954727",
   "metadata": {},
   "outputs": [],
   "source": [
    "ans = 0\n",
    "know = [False] * (N + 1)\n",
    "for i, A in enumerate(An):\n",
    "    if A == X:\n",
    "        ans += 1\n",
    "        know[i] = True\n",
    "        i = X\n",
    "        break\n"
   ]
  },
  {
   "cell_type": "code",
   "execution_count": null,
   "id": "cdf89460-859a-4834-8bb1-94f01992b585",
   "metadata": {},
   "outputs": [],
   "source": []
  }
 ],
 "metadata": {
  "kernelspec": {
   "display_name": "Python 3",
   "language": "python",
   "name": "python3"
  },
  "language_info": {
   "codemirror_mode": {
    "name": "ipython",
    "version": 3
   },
   "file_extension": ".py",
   "mimetype": "text/x-python",
   "name": "python",
   "nbconvert_exporter": "python",
   "pygments_lexer": "ipython3",
   "version": "3.6.13"
  }
 },
 "nbformat": 4,
 "nbformat_minor": 5
}
