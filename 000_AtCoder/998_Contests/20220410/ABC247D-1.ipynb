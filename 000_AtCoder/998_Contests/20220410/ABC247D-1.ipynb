{
 "cells": [
  {
   "cell_type": "code",
   "execution_count": 1,
   "id": "89bf04f5-413b-4ce4-91c2-20cf81c5e04f",
   "metadata": {},
   "outputs": [],
   "source": [
    "import sys\n",
    "import numpy as np\n",
    "import math\n",
    "import collections\n",
    "import copy\n",
    "import decimal\n",
    "import itertools\n",
    "import re\n",
    "import bisect\n",
    "import scipy\n",
    "import heapq\n",
    "from collections import deque \n",
    "from functools import reduce\n",
    "from itertools import product\n",
    "from itertools import combinations\n",
    "from functools import lru_cache\n",
    "from scipy.special import comb\n",
    "from numba import njit\n",
    "from bisect import bisect_right\n",
    "from bisect import bisect_left"
   ]
  },
  {
   "cell_type": "code",
   "execution_count": 2,
   "id": "54393664-0d9f-49b8-aff4-076f5eafe0ae",
   "metadata": {},
   "outputs": [
    {
     "name": "stdin",
     "output_type": "stream",
     "text": [
      " 4\n"
     ]
    }
   ],
   "source": [
    "Q = int(input())"
   ]
  },
  {
   "cell_type": "code",
   "execution_count": 8,
   "id": "83026e95-c15d-4ff0-ba5e-c91ff4a032a3",
   "metadata": {},
   "outputs": [
    {
     "name": "stdin",
     "output_type": "stream",
     "text": [
      " 1 2 3\n",
      " 2 2\n",
      " 1 3 4\n",
      " 2 3\n"
     ]
    }
   ],
   "source": [
    "Qn = [list(map(int, input().split())) for _ in range(Q)]"
   ]
  },
  {
   "cell_type": "code",
   "execution_count": 14,
   "id": "baa9b7f4-9adc-49b6-9c4c-7cd7e52e7380",
   "metadata": {},
   "outputs": [
    {
     "name": "stdout",
     "output_type": "stream",
     "text": [
      "4\n",
      "8\n"
     ]
    }
   ],
   "source": [
    "q = deque()\n",
    "zan = 0\n",
    "v = 0\n",
    "for i in range(Q):\n",
    "    if Qn[i][0] == 1:\n",
    "        _, x, c = Qn[i]\n",
    "        q.append((x, c))\n",
    "    else:\n",
    "        total = 0\n",
    "        _, c = Qn[i]\n",
    "        if zan >= c:\n",
    "            total = c * v\n",
    "            zan -= c\n",
    "        else:\n",
    "            total = zan * v\n",
    "            c -= zan\n",
    "            zan = 0\n",
    "            while True:\n",
    "                num, cnt = q.popleft()\n",
    "                if cnt >= c:\n",
    "                    total += c * num\n",
    "                    zan = cnt - c\n",
    "                    v = num\n",
    "                    break\n",
    "                total += num * cnt\n",
    "                c -= cnt\n",
    "        print(total)\n",
    "        "
   ]
  },
  {
   "cell_type": "code",
   "execution_count": 5,
   "id": "ada4b8f1-82c1-416b-b978-1bf5c7d4acc6",
   "metadata": {},
   "outputs": [
    {
     "data": {
      "text/plain": [
       "0"
      ]
     },
     "execution_count": 5,
     "metadata": {},
     "output_type": "execute_result"
    }
   ],
   "source": [
    "i"
   ]
  },
  {
   "cell_type": "code",
   "execution_count": 7,
   "id": "c0785797-e89c-4347-b8b3-dd5d0907db99",
   "metadata": {},
   "outputs": [
    {
     "data": {
      "text/plain": [
       "[['1', '2', '3'], ['2', '2'], ['1', '3', '4'], ['2', '3']]"
      ]
     },
     "execution_count": 7,
     "metadata": {},
     "output_type": "execute_result"
    }
   ],
   "source": [
    "Qn"
   ]
  },
  {
   "cell_type": "code",
   "execution_count": 12,
   "id": "088bc17c-9389-4916-ae23-bf54fa7de893",
   "metadata": {},
   "outputs": [
    {
     "data": {
      "text/plain": [
       "deque([])"
      ]
     },
     "execution_count": 12,
     "metadata": {},
     "output_type": "execute_result"
    }
   ],
   "source": [
    "q"
   ]
  },
  {
   "cell_type": "code",
   "execution_count": null,
   "id": "14054b7d-df6a-4542-912b-36bdb9fad1b2",
   "metadata": {},
   "outputs": [],
   "source": []
  }
 ],
 "metadata": {
  "kernelspec": {
   "display_name": "Python 3",
   "language": "python",
   "name": "python3"
  },
  "language_info": {
   "codemirror_mode": {
    "name": "ipython",
    "version": 3
   },
   "file_extension": ".py",
   "mimetype": "text/x-python",
   "name": "python",
   "nbconvert_exporter": "python",
   "pygments_lexer": "ipython3",
   "version": "3.6.13"
  }
 },
 "nbformat": 4,
 "nbformat_minor": 5
}
