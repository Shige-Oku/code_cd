{
 "cells": [
  {
   "cell_type": "code",
   "execution_count": 1,
   "id": "053d2d9a-1475-4129-9b76-0bbb13be591a",
   "metadata": {},
   "outputs": [],
   "source": [
    "import sys\n",
    "import numpy as np\n",
    "import math\n",
    "import collections\n",
    "import copy\n",
    "import decimal\n",
    "import itertools\n",
    "import re\n",
    "import bisect\n",
    "import scipy\n",
    "import heapq\n",
    "from collections import deque \n",
    "from functools import reduce\n",
    "from itertools import product\n",
    "from itertools import combinations\n",
    "from functools import lru_cache\n",
    "from scipy.special import comb\n",
    "from numba import njit\n",
    "from bisect import bisect_right\n",
    "from bisect import bisect_left"
   ]
  },
  {
   "cell_type": "code",
   "execution_count": 51,
   "id": "661422b0-c206-4058-8301-8a592b551c65",
   "metadata": {},
   "outputs": [
    {
     "name": "stdin",
     "output_type": "stream",
     "text": [
      " 5\n"
     ]
    }
   ],
   "source": [
    "N = int(input())"
   ]
  },
  {
   "cell_type": "code",
   "execution_count": 52,
   "id": "67fe6d8b-fdd2-438a-8568-540c9cc6c89f",
   "metadata": {},
   "outputs": [
    {
     "name": "stdin",
     "output_type": "stream",
     "text": [
      " 5 5 5 5 5\n"
     ]
    }
   ],
   "source": [
    "An = list(map(int, input().split()))"
   ]
  },
  {
   "cell_type": "code",
   "execution_count": 53,
   "id": "57f35c6d-f684-4d11-9964-f6e9ad27377d",
   "metadata": {},
   "outputs": [],
   "source": [
    "def aCb(n, a):\n",
    "    return factorial_table[n] // (factorial_table[n-a]*factorial_table[a])"
   ]
  },
  {
   "cell_type": "code",
   "execution_count": 54,
   "id": "3b8abff4-3916-454f-b0c2-86ea9a8149e1",
   "metadata": {},
   "outputs": [],
   "source": [
    "n = 100\n",
    "factorial_table = [1] * (n+1)\n",
    "for i in range(1, 101):\n",
    "    factorial_table[i] = factorial_table[i-1] * i"
   ]
  },
  {
   "cell_type": "code",
   "execution_count": 61,
   "id": "9fbfcd5a-b589-4ad1-bb95-e19429f79dfd",
   "metadata": {},
   "outputs": [],
   "source": [
    "MOD = 998244353\n",
    "ans = N\n",
    "for i in range(2, N+1):\n",
    "    al = []\n",
    "    for A in An:\n",
    "        al.append(A%i)\n",
    "    al_c = collections.Counter(al)\n",
    "    for k, v in al_c.items():\n",
    "        if v == 1:\n",
    "            continue\n",
    "        if k == 0:\n",
    "            ans += aCb(v, i)\n",
    "            ans %= MOD\n",
    "        else:\n",
    "            c = v * al_c[i-v]\n",
    "            ans += c\n",
    "            if v >= i:\n",
    "                ans += aCb(v, i)\n",
    "            if al_c[i-k] >= i:\n",
    "                ans += aCb(al_c[i-k], i)\n",
    "            ans %= MOD\n"
   ]
  },
  {
   "cell_type": "code",
   "execution_count": 62,
   "id": "b69f2c1b-e189-40b0-88cc-28392f2cfe01",
   "metadata": {},
   "outputs": [
    {
     "name": "stdout",
     "output_type": "stream",
     "text": [
      "41\n"
     ]
    }
   ],
   "source": [
    "print(ans)"
   ]
  },
  {
   "cell_type": "code",
   "execution_count": null,
   "id": "cb8fd304-fde9-4723-aa73-70b48f4f4637",
   "metadata": {},
   "outputs": [],
   "source": []
  },
  {
   "cell_type": "code",
   "execution_count": null,
   "id": "a46b3a1a-87a5-4e1c-87b1-c4f646aacca6",
   "metadata": {},
   "outputs": [],
   "source": []
  },
  {
   "cell_type": "code",
   "execution_count": null,
   "id": "3dee3dd6-f287-41f2-a4ee-c23f835921d4",
   "metadata": {},
   "outputs": [],
   "source": []
  },
  {
   "cell_type": "code",
   "execution_count": null,
   "id": "fc0b37e3-4005-4613-8d16-766e7d400ef9",
   "metadata": {},
   "outputs": [],
   "source": []
  },
  {
   "cell_type": "code",
   "execution_count": null,
   "id": "fd2ce73d-ec45-4ecd-bf4e-7dad455b9332",
   "metadata": {},
   "outputs": [],
   "source": []
  },
  {
   "cell_type": "code",
   "execution_count": null,
   "id": "44e60c0b-52c3-428c-91d6-f36820cccdfa",
   "metadata": {},
   "outputs": [],
   "source": []
  },
  {
   "cell_type": "code",
   "execution_count": null,
   "id": "400c8af1-8187-42b3-8ffd-f49f26538efe",
   "metadata": {},
   "outputs": [],
   "source": []
  },
  {
   "cell_type": "code",
   "execution_count": null,
   "id": "92e0e64d-cbb1-4266-825e-07d1e751d55e",
   "metadata": {},
   "outputs": [],
   "source": []
  },
  {
   "cell_type": "code",
   "execution_count": 18,
   "id": "2704ce7b-c0fd-4178-8d64-51d890747ee4",
   "metadata": {},
   "outputs": [],
   "source": [
    "# 約数のリスト作成\n",
    "import math\n",
    "def get_divisor_list_without_sqrt(number):\n",
    "    number_sqrt = int(math.sqrt(number)) + 1\n",
    "    divisors = []\n",
    "    for i in range(1, int(number_sqrt)):\n",
    "        if number % i == 0:\n",
    "            # 割り切れたので約数\n",
    "            divisors.append(i)\n",
    "            if i ** 2 != number:\n",
    "                divisors.append(number // i)\n",
    "    return divisors\n"
   ]
  },
  {
   "cell_type": "code",
   "execution_count": 19,
   "id": "4485ef6a-dff6-495d-aa49-21927494a727",
   "metadata": {},
   "outputs": [],
   "source": [
    "def aCb(n, a):\n",
    "    return factorial_table[n] // (factorial_table[n-a]*factorial_table[a])"
   ]
  },
  {
   "cell_type": "code",
   "execution_count": 20,
   "id": "f473f445-a0fb-41f8-a55f-a2e33830591e",
   "metadata": {},
   "outputs": [],
   "source": [
    "n = max(10, (int(N**.5)+1))\n",
    "factorial_table = [1] * (n+1)\n",
    "for i in range(1, len(factorial_table)):\n",
    "    factorial_table[i] = factorial_table[i-1] * i"
   ]
  },
  {
   "cell_type": "code",
   "execution_count": 21,
   "id": "aa5f6169-8f0f-4136-8a97-956a1f92051a",
   "metadata": {},
   "outputs": [],
   "source": [
    "cnt = [0] * (n+1)\n",
    "for A in An:\n",
    "    divisors = get_divisor_list_without_sqrt(A)\n",
    "    for divisor in divisors:\n",
    "        cnt[divisor] += 1"
   ]
  },
  {
   "cell_type": "code",
   "execution_count": 22,
   "id": "a912dcdb-e189-46db-a26a-92ca143884af",
   "metadata": {},
   "outputs": [],
   "source": [
    "ans = 0\n",
    "for i, c in enumerate(cnt[1:], 1):\n",
    "    if c < i:\n",
    "        continue\n",
    "    ans += aCb(c, i)\n",
    "    ans %= 998244353"
   ]
  },
  {
   "cell_type": "code",
   "execution_count": 23,
   "id": "b96bef5f-e227-4fcd-835a-598e16c41a7c",
   "metadata": {},
   "outputs": [
    {
     "name": "stdout",
     "output_type": "stream",
     "text": [
      "6\n"
     ]
    }
   ],
   "source": [
    "print(ans)"
   ]
  },
  {
   "cell_type": "code",
   "execution_count": 10,
   "id": "f78637ad-214d-4c9d-904d-9c93e084514b",
   "metadata": {},
   "outputs": [
    {
     "data": {
      "text/plain": [
       "(10, [1, 1, 2, 6, 24, 120, 720, 5040, 40320, 362880, 3628800])"
      ]
     },
     "execution_count": 10,
     "metadata": {},
     "output_type": "execute_result"
    }
   ],
   "source": [
    "n, factorial_table"
   ]
  },
  {
   "cell_type": "code",
   "execution_count": 13,
   "id": "e961bb63-a728-4f09-a496-735b7907d05a",
   "metadata": {},
   "outputs": [
    {
     "data": {
      "text/plain": [
       "1"
      ]
     },
     "execution_count": 13,
     "metadata": {},
     "output_type": "execute_result"
    }
   ],
   "source": [
    "aCb(3, 0)"
   ]
  },
  {
   "cell_type": "code",
   "execution_count": null,
   "id": "4c7c7d7d-3d5c-437f-83ea-feab6cd7d707",
   "metadata": {},
   "outputs": [],
   "source": []
  }
 ],
 "metadata": {
  "kernelspec": {
   "display_name": "Python 3",
   "language": "python",
   "name": "python3"
  },
  "language_info": {
   "codemirror_mode": {
    "name": "ipython",
    "version": 3
   },
   "file_extension": ".py",
   "mimetype": "text/x-python",
   "name": "python",
   "nbconvert_exporter": "python",
   "pygments_lexer": "ipython3",
   "version": "3.6.13"
  }
 },
 "nbformat": 4,
 "nbformat_minor": 5
}
