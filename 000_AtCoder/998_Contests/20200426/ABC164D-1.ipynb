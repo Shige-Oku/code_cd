{
 "cells": [
  {
   "cell_type": "code",
   "execution_count": 1,
   "metadata": {},
   "outputs": [],
   "source": [
    "# TODO NG\n",
    "import sys\n",
    "import numpy as np\n",
    "import math\n",
    "from collections import deque \n",
    "from functools import reduce\n",
    "\n",
    "# input = sys.stdin.readline\n"
   ]
  },
  {
   "cell_type": "code",
   "execution_count": 2,
   "metadata": {},
   "outputs": [
    {
     "name": "stdin",
     "output_type": "stream",
     "text": [
      " 1817181712114\n"
     ]
    }
   ],
   "source": [
    "s = input()"
   ]
  },
  {
   "cell_type": "code",
   "execution_count": 39,
   "metadata": {},
   "outputs": [],
   "source": [
    "s_l = list(s)"
   ]
  },
  {
   "cell_type": "code",
   "execution_count": 21,
   "metadata": {},
   "outputs": [],
   "source": [
    "cnt = 0"
   ]
  },
  {
   "cell_type": "code",
   "execution_count": 43,
   "metadata": {},
   "outputs": [
    {
     "name": "stdout",
     "output_type": "stream",
     "text": [
      "1817\n",
      "18171\n",
      "181718\n",
      "1817181\n",
      "18171817\n",
      "181718171\n",
      "1817181712\n",
      "18171817121\n",
      "181718171211\n",
      "1817181712114\n",
      "8171\n",
      "81718\n",
      "817181\n",
      "8171817\n",
      "81718171\n",
      "817181712\n",
      "8171817121\n",
      "81718171211\n",
      "817181712114\n",
      "1718\n",
      "17181\n",
      "171817\n",
      "1718171\n",
      "17181712\n",
      "171817121\n",
      "1718171211\n",
      "17181712114\n",
      "7181\n",
      "71817\n",
      "718171\n",
      "7181712\n",
      "71817121\n",
      "718171211\n",
      "7181712114\n",
      "1817\n",
      "18171\n",
      "181712\n",
      "1817121\n",
      "18171211\n",
      "181712114\n",
      "8171\n",
      "81712\n",
      "817121\n",
      "8171211\n",
      "81712114\n",
      "1712\n",
      "17121\n",
      "171211\n",
      "1712114\n",
      "7121\n",
      "71211\n",
      "712114\n",
      "1211\n",
      "12114\n",
      "2114\n"
     ]
    }
   ],
   "source": [
    "for i in range(len(s)-3):\n",
    "    for j in range(i+3, len(s)):\n",
    "        num = int(s[i:j+1])\n",
    "        print(num)\n",
    "        if num % 2019 == 0:\n",
    "            cnt += 1\n",
    "                "
   ]
  },
  {
   "cell_type": "code",
   "execution_count": 17,
   "metadata": {},
   "outputs": [
    {
     "name": "stdout",
     "output_type": "stream",
     "text": [
      "3\n"
     ]
    }
   ],
   "source": [
    "print(cnt)"
   ]
  },
  {
   "cell_type": "code",
   "execution_count": 3,
   "metadata": {},
   "outputs": [
    {
     "data": {
      "text/plain": [
       "40000000"
      ]
     },
     "execution_count": 3,
     "metadata": {},
     "output_type": "execute_result"
    }
   ],
   "source": [
    "200000 * 200"
   ]
  },
  {
   "cell_type": "code",
   "execution_count": 11,
   "metadata": {},
   "outputs": [
    {
     "data": {
      "text/plain": [
       "13"
      ]
     },
     "execution_count": 11,
     "metadata": {},
     "output_type": "execute_result"
    }
   ],
   "source": [
    "len(s)"
   ]
  },
  {
   "cell_type": "code",
   "execution_count": 42,
   "metadata": {},
   "outputs": [
    {
     "data": {
      "text/plain": [
       "\"['1', '8', '1', '7']\""
      ]
     },
     "execution_count": 42,
     "metadata": {},
     "output_type": "execute_result"
    }
   ],
   "source": [
    "str(s_l[:4])"
   ]
  },
  {
   "cell_type": "code",
   "execution_count": null,
   "metadata": {},
   "outputs": [],
   "source": []
  }
 ],
 "metadata": {
  "kernelspec": {
   "display_name": "Python 3",
   "language": "python",
   "name": "python3"
  },
  "language_info": {
   "codemirror_mode": {
    "name": "ipython",
    "version": 3
   },
   "file_extension": ".py",
   "mimetype": "text/x-python",
   "name": "python",
   "nbconvert_exporter": "python",
   "pygments_lexer": "ipython3",
   "version": "3.6.10"
  }
 },
 "nbformat": 4,
 "nbformat_minor": 4
}
