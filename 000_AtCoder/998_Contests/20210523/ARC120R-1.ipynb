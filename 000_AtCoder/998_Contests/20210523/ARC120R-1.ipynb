{
 "cells": [
  {
   "cell_type": "code",
   "execution_count": 1,
   "id": "c8426268-b53f-4541-9ecd-c938bd12c567",
   "metadata": {},
   "outputs": [],
   "source": [
    "import sys\n",
    "import numpy as np\n",
    "import math\n",
    "import collections\n",
    "import copy\n",
    "import decimal\n",
    "import itertools\n",
    "import re\n",
    "import bisect\n",
    "import scipy\n",
    "import heapq\n",
    "from collections import deque \n",
    "from functools import reduce\n",
    "from itertools import product\n",
    "from itertools import combinations\n",
    "from itertools import chain\n",
    "from functools import lru_cache\n",
    "from scipy.special import comb\n",
    "from numba import njit\n",
    "from bisect import bisect_right\n",
    "from bisect import bisect_left"
   ]
  },
  {
   "cell_type": "code",
   "execution_count": 2,
   "id": "74615ea4-7f7c-48ae-9ea4-c00982b79453",
   "metadata": {},
   "outputs": [
    {
     "name": "stdin",
     "output_type": "stream",
     "text": [
      " 3\n"
     ]
    }
   ],
   "source": [
    "N = int(input())"
   ]
  },
  {
   "cell_type": "code",
   "execution_count": 3,
   "id": "94428764-e6f2-42d1-959a-ee6063c38b66",
   "metadata": {},
   "outputs": [
    {
     "name": "stdin",
     "output_type": "stream",
     "text": [
      " 1 2 3\n"
     ]
    }
   ],
   "source": [
    "An = list(map(int, input().split()))"
   ]
  },
  {
   "cell_type": "code",
   "execution_count": 30,
   "id": "d2e3305d-ee67-4061-9f3e-f5492d654c7a",
   "metadata": {},
   "outputs": [],
   "source": [
    "M = []\n",
    "T = []\n",
    "T2 = []\n",
    "T.append(0)\n",
    "T2.append(0)\n",
    "ma = 0\n",
    "total = 0\n",
    "total2 = 0\n",
    "for A in An:\n",
    "    ma = max(ma, A)\n",
    "    total += A\n",
    "    M.append(ma)\n",
    "    T.append(total)\n",
    "    T2.append(total2)\n",
    "    total2 += total\n",
    "    "
   ]
  },
  {
   "cell_type": "code",
   "execution_count": 31,
   "id": "972471d9-221f-4d20-99cf-8b06ce4dd5f7",
   "metadata": {},
   "outputs": [
    {
     "name": "stdout",
     "output_type": "stream",
     "text": [
      "2\n",
      "8\n",
      "19\n"
     ]
    }
   ],
   "source": [
    "for i, m in enumerate(M, 1):\n",
    "    print(i*m+T[i]+T2[i])\n",
    "    i += 1"
   ]
  },
  {
   "cell_type": "code",
   "execution_count": 33,
   "id": "7bf377e6-ea66-48fc-a431-b8d1df59290f",
   "metadata": {},
   "outputs": [
    {
     "name": "stdout",
     "output_type": "stream",
     "text": [
      "2\n",
      "8\n",
      "19\n"
     ]
    }
   ],
   "source": [
    "for i, m in enumerate(M, 1):\n",
    "    print(i*m+T[i]+sum(T[:i]))\n",
    "    i += 1"
   ]
  },
  {
   "cell_type": "code",
   "execution_count": 26,
   "id": "93398e13-34a8-487c-8995-728d39828bb8",
   "metadata": {},
   "outputs": [
    {
     "data": {
      "text/plain": [
       "([0, 1, 3, 6], [0, 1, 4, 10], [1, 2, 3])"
      ]
     },
     "execution_count": 26,
     "metadata": {},
     "output_type": "execute_result"
    }
   ],
   "source": [
    "T, T2, M"
   ]
  },
  {
   "cell_type": "code",
   "execution_count": null,
   "id": "7a6aecad-beb2-4b5b-b14f-3c57ed77feca",
   "metadata": {},
   "outputs": [],
   "source": []
  }
 ],
 "metadata": {
  "kernelspec": {
   "display_name": "Python 3",
   "language": "python",
   "name": "python3"
  },
  "language_info": {
   "codemirror_mode": {
    "name": "ipython",
    "version": 3
   },
   "file_extension": ".py",
   "mimetype": "text/x-python",
   "name": "python",
   "nbconvert_exporter": "python",
   "pygments_lexer": "ipython3",
   "version": "3.6.13"
  }
 },
 "nbformat": 4,
 "nbformat_minor": 5
}
