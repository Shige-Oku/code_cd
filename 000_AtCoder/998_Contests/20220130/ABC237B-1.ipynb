{
 "cells": [
  {
   "cell_type": "code",
   "execution_count": 1,
   "id": "dcc4392e-2734-46fc-a02a-1c9a7d206641",
   "metadata": {},
   "outputs": [],
   "source": [
    "import sys\n",
    "import numpy as np\n",
    "import math\n",
    "import collections\n",
    "import copy\n",
    "import decimal\n",
    "import itertools\n",
    "import re\n",
    "import bisect\n",
    "import scipy\n",
    "import heapq\n",
    "import array\n",
    "from collections import deque\n",
    "from functools import reduce\n",
    "from itertools import product\n",
    "from itertools import combinations\n",
    "from itertools import chain\n",
    "from functools import lru_cache\n",
    "from scipy.special import comb\n",
    "from numba import njit\n",
    "from bisect import bisect_right\n",
    "from bisect import bisect_left"
   ]
  },
  {
   "cell_type": "code",
   "execution_count": 14,
   "id": "3a16fac7-e149-4759-8122-ee5c50dcccda",
   "metadata": {},
   "outputs": [
    {
     "name": "stdin",
     "output_type": "stream",
     "text": [
      " 2 2\n"
     ]
    }
   ],
   "source": [
    "H, W = map(int, input().split())"
   ]
  },
  {
   "cell_type": "code",
   "execution_count": 15,
   "id": "aba5f0db-2936-4abf-ac21-dcbf78d28567",
   "metadata": {},
   "outputs": [
    {
     "name": "stdin",
     "output_type": "stream",
     "text": [
      " 1000000000 1000000000\n",
      " 1000000000 1000000000\n"
     ]
    }
   ],
   "source": [
    "An = [list(map(int, input().split())) for _ in range(H)]"
   ]
  },
  {
   "cell_type": "code",
   "execution_count": 16,
   "id": "12bb6cfb-9160-48bc-864d-d9b5e0e318c2",
   "metadata": {},
   "outputs": [],
   "source": [
    "ans = [[] for _ in range(W)]\n",
    "for j in range(W):\n",
    "    for i in range(H):\n",
    "        ans[j].append(An[i][j])"
   ]
  },
  {
   "cell_type": "code",
   "execution_count": 17,
   "id": "54bc70d8-c006-4fb9-83a6-1f0243bf1598",
   "metadata": {},
   "outputs": [
    {
     "name": "stdout",
     "output_type": "stream",
     "text": [
      "1000000000 1000000000\n",
      "1000000000 1000000000\n"
     ]
    }
   ],
   "source": [
    "for an in ans:\n",
    "    print(*an)"
   ]
  },
  {
   "cell_type": "code",
   "execution_count": 12,
   "id": "801bb4a7-0d29-4201-8fb0-1ec6418b6288",
   "metadata": {},
   "outputs": [
    {
     "data": {
      "text/plain": [
       "[[1, 4, 7, 10], [2, 5, 8, 11], [3, 6, 9, 12]]"
      ]
     },
     "execution_count": 12,
     "metadata": {},
     "output_type": "execute_result"
    }
   ],
   "source": [
    "ans"
   ]
  },
  {
   "cell_type": "code",
   "execution_count": null,
   "id": "d9c2cf8f-8dad-476f-b3fd-27957e16401c",
   "metadata": {},
   "outputs": [],
   "source": []
  }
 ],
 "metadata": {
  "kernelspec": {
   "display_name": "Python 3",
   "language": "python",
   "name": "python3"
  },
  "language_info": {
   "codemirror_mode": {
    "name": "ipython",
    "version": 3
   },
   "file_extension": ".py",
   "mimetype": "text/x-python",
   "name": "python",
   "nbconvert_exporter": "python",
   "pygments_lexer": "ipython3",
   "version": "3.6.13"
  }
 },
 "nbformat": 4,
 "nbformat_minor": 5
}
