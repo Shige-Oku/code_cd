{
 "cells": [
  {
   "cell_type": "code",
   "execution_count": 1,
   "id": "e704ce87-7035-4719-b751-a9aa7d9c69cb",
   "metadata": {},
   "outputs": [],
   "source": [
    "import sys\n",
    "import numpy as np\n",
    "import math\n",
    "import collections\n",
    "import copy\n",
    "import decimal\n",
    "import itertools\n",
    "import re\n",
    "import bisect\n",
    "import scipy\n",
    "import heapq\n",
    "import array\n",
    "from collections import deque\n",
    "from functools import reduce\n",
    "from itertools import product\n",
    "from itertools import combinations\n",
    "from itertools import chain\n",
    "from functools import lru_cache\n",
    "from scipy.special import comb\n",
    "from numba import njit\n",
    "from bisect import bisect_right\n",
    "from bisect import bisect_left"
   ]
  },
  {
   "cell_type": "code",
   "execution_count": 2,
   "id": "3ae32dd7-f75a-4b0b-8048-9c4b8a147fa1",
   "metadata": {},
   "outputs": [
    {
     "name": "stdin",
     "output_type": "stream",
     "text": [
      " 5\n"
     ]
    }
   ],
   "source": [
    "N = int(input())"
   ]
  },
  {
   "cell_type": "code",
   "execution_count": 4,
   "id": "9da33a62-0367-4830-9ff3-c5867055b506",
   "metadata": {},
   "outputs": [
    {
     "name": "stdin",
     "output_type": "stream",
     "text": [
      " LRRLR\n"
     ]
    }
   ],
   "source": [
    "S = input()"
   ]
  },
  {
   "cell_type": "code",
   "execution_count": 20,
   "id": "0201b60f-51b2-4834-8baf-5f7e1ca71587",
   "metadata": {},
   "outputs": [
    {
     "name": "stdout",
     "output_type": "stream",
     "text": [
      "aaaa\n",
      "\n",
      "1\n",
      "0\n",
      "aaaa\n",
      "\n",
      "1 2\n",
      "0\n",
      "aaaa\n",
      "\n",
      "1 2 3\n",
      "0\n",
      "aaaa\n",
      "\n",
      "4\n",
      "1 2 3 0\n",
      "aaaa\n",
      "\n",
      "4 5\n",
      "1 2 3 0\n"
     ]
    }
   ],
   "source": [
    "left = deque()\n",
    "mid = deque()\n",
    "right = deque()\n",
    "mid.append(0)\n",
    "if S[0] == 'L':\n",
    "    flg = 'R'\n",
    "else:\n",
    "    flg = 'L'\n",
    "for i, s in enumerate(S, 1):\n",
    "    if flg == s:\n",
    "        if s == 'L':\n",
    "            mid.insert(0, i)\n",
    "        else:\n",
    "            mid.append(i)\n",
    "    else:\n",
    "        if s == 'R':\n",
    "            while mid:\n",
    "                n = mid.popleft()\n",
    "                left.append(n)\n",
    "        else:\n",
    "            while mid:\n",
    "                n = mid.pop()\n",
    "                right.insert(0, n)\n",
    "        mid.append(i)\n",
    "    print('aaaa')\n",
    "    print(*left)\n",
    "    print(*mid)\n",
    "    print(*right)\n",
    "else:\n",
    "        if s == 'R':\n",
    "            while mid:\n",
    "                n = mid.popleft()\n",
    "                left.append(n)\n",
    "        else:\n",
    "            while mid:\n",
    "                n = mid.pop()\n",
    "                right.insert(0, n)\n",
    "    "
   ]
  },
  {
   "cell_type": "code",
   "execution_count": 19,
   "id": "a0ef8bba-daaf-48eb-bd46-716f9b5bcfd3",
   "metadata": {},
   "outputs": [
    {
     "data": {
      "text/plain": [
       "(deque([1, 2, 3, 0]), deque([4, 5]))"
      ]
     },
     "execution_count": 19,
     "metadata": {},
     "output_type": "execute_result"
    }
   ],
   "source": [
    "right, left"
   ]
  },
  {
   "cell_type": "code",
   "execution_count": null,
   "id": "01f5fcef-849c-4145-9569-dd597d289ba6",
   "metadata": {},
   "outputs": [],
   "source": []
  },
  {
   "cell_type": "code",
   "execution_count": 13,
   "id": "71629740-4240-4a18-a85f-116ab9ff46da",
   "metadata": {},
   "outputs": [],
   "source": [
    "left = deque()\n",
    "right = deque()\n",
    "for i, s in enumerate(S, 1):\n",
    "    if s == 'R':\n",
    "        left.append(i)\n",
    "    else:\n",
    "        while left:\n",
    "            n = left.popleft()\n",
    "            right.append(n)\n",
    "        right.append(i)\n",
    "else:\n",
    "    while left:\n",
    "        n = left.popleft()\n",
    "        right.append(n)\n",
    "    "
   ]
  }
 ],
 "metadata": {
  "kernelspec": {
   "display_name": "Python 3",
   "language": "python",
   "name": "python3"
  },
  "language_info": {
   "codemirror_mode": {
    "name": "ipython",
    "version": 3
   },
   "file_extension": ".py",
   "mimetype": "text/x-python",
   "name": "python",
   "nbconvert_exporter": "python",
   "pygments_lexer": "ipython3",
   "version": "3.6.13"
  }
 },
 "nbformat": 4,
 "nbformat_minor": 5
}
