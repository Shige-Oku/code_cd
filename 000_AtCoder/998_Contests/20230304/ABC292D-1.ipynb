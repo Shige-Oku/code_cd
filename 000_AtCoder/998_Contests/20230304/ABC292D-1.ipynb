{
 "cells": [
  {
   "cell_type": "code",
   "execution_count": 1,
   "id": "3143cbc7-6d50-433d-8412-db496b42be81",
   "metadata": {},
   "outputs": [],
   "source": [
    "import sys\n",
    "import numpy as np\n",
    "import math\n",
    "import collections\n",
    "import copy\n",
    "import decimal\n",
    "import itertools\n",
    "import re\n",
    "import bisect\n",
    "import scipy\n",
    "import heapq\n",
    "from collections import deque \n",
    "from functools import reduce\n",
    "from itertools import product\n",
    "from itertools import combinations\n",
    "from functools import lru_cache\n",
    "from scipy.special import comb\n",
    "from numba import njit\n",
    "from bisect import bisect_right\n",
    "from bisect import bisect_left"
   ]
  },
  {
   "cell_type": "code",
   "execution_count": 2,
   "id": "6eb03fa2-cc14-4c35-8592-a4d17203a6ab",
   "metadata": {},
   "outputs": [
    {
     "name": "stdin",
     "output_type": "stream",
     "text": [
      " 3 3\n"
     ]
    }
   ],
   "source": [
    "N, M = map(int, input().split())"
   ]
  },
  {
   "cell_type": "code",
   "execution_count": 3,
   "id": "2bbd4494-4278-43e4-9c3f-139fd4513ed2",
   "metadata": {},
   "outputs": [
    {
     "name": "stdin",
     "output_type": "stream",
     "text": [
      " 2 3\n",
      " 1 1\n",
      " 2 3\n"
     ]
    }
   ],
   "source": [
    "UVm = [list(map(int, input().split())) for _ in range(M)]"
   ]
  },
  {
   "cell_type": "code",
   "execution_count": 15,
   "id": "abc1e71b-6053-4d45-8a81-2490ce8d7151",
   "metadata": {},
   "outputs": [],
   "source": [
    "graph = [[] for _ in range(N+1)]\n",
    "for U, V in UVm:\n",
    "    graph[U].append(V)\n",
    "#     if U != V:\n",
    "    graph[V].append(U)"
   ]
  },
  {
   "cell_type": "code",
   "execution_count": 20,
   "id": "ecaf08de-3a55-4475-9695-478cdbe6391a",
   "metadata": {},
   "outputs": [],
   "source": [
    "from collections import deque\n",
    "def BFS(n):\n",
    "    q = deque()\n",
    "    q.append(n)\n",
    "    visit[n] = n\n",
    "    edge = 0\n",
    "    cnt = 1\n",
    "    while q:\n",
    "        p = q.popleft()\n",
    "        for n in graph[p]:\n",
    "            edge += 1\n",
    "            if visit[n] != -1:\n",
    "                continue\n",
    "            visit[n] = visit[p]\n",
    "            q.append(n)\n",
    "            cnt += 1\n",
    "    return cnt == edge//2"
   ]
  },
  {
   "cell_type": "code",
   "execution_count": 21,
   "id": "513bd673-5f98-4fc3-8764-b638e301f2ff",
   "metadata": {},
   "outputs": [
    {
     "name": "stdout",
     "output_type": "stream",
     "text": [
      "Yes\n"
     ]
    }
   ],
   "source": [
    "visit = [-1] * (N+1)\n",
    "for i in range(1, N+1):\n",
    "    if visit[i] == -1:\n",
    "        if not BFS(i):\n",
    "            print('No')\n",
    "            break\n",
    "else:\n",
    "    print('Yes')"
   ]
  },
  {
   "cell_type": "code",
   "execution_count": 16,
   "id": "e7f6a9c0-652f-40f8-a407-4ce7984ad63a",
   "metadata": {},
   "outputs": [
    {
     "data": {
      "text/plain": [
       "[[], [1, 1], [3, 3], [2, 2]]"
      ]
     },
     "execution_count": 16,
     "metadata": {},
     "output_type": "execute_result"
    }
   ],
   "source": [
    "graph"
   ]
  },
  {
   "cell_type": "code",
   "execution_count": null,
   "id": "455407a3-8748-49a5-aa57-00b36856ddeb",
   "metadata": {},
   "outputs": [],
   "source": []
  },
  {
   "cell_type": "code",
   "execution_count": null,
   "id": "f3982ed1-842f-4c69-a6d9-afcd606a4771",
   "metadata": {},
   "outputs": [],
   "source": []
  }
 ],
 "metadata": {
  "kernelspec": {
   "display_name": "Python 3",
   "language": "python",
   "name": "python3"
  },
  "language_info": {
   "codemirror_mode": {
    "name": "ipython",
    "version": 3
   },
   "file_extension": ".py",
   "mimetype": "text/x-python",
   "name": "python",
   "nbconvert_exporter": "python",
   "pygments_lexer": "ipython3",
   "version": "3.6.13"
  }
 },
 "nbformat": 4,
 "nbformat_minor": 5
}
