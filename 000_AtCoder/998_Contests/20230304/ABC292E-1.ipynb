{
 "cells": [
  {
   "cell_type": "code",
   "execution_count": 1,
   "id": "367e8347-917a-4053-88ac-655d91ab3183",
   "metadata": {},
   "outputs": [],
   "source": [
    "import sys\n",
    "import numpy as np\n",
    "import math\n",
    "import collections\n",
    "import copy\n",
    "import decimal\n",
    "import itertools\n",
    "import re\n",
    "import bisect\n",
    "import scipy\n",
    "import heapq\n",
    "from collections import deque \n",
    "from functools import reduce\n",
    "from itertools import product\n",
    "from itertools import combinations\n",
    "from functools import lru_cache\n",
    "from scipy.special import comb\n",
    "from numba import njit\n",
    "from bisect import bisect_right\n",
    "from bisect import bisect_left"
   ]
  },
  {
   "cell_type": "code",
   "execution_count": 1,
   "id": "366f50de-28f0-4601-b8dc-68322fdc9bf3",
   "metadata": {},
   "outputs": [
    {
     "name": "stdin",
     "output_type": "stream",
     "text": [
      " 4 3\n"
     ]
    }
   ],
   "source": [
    "N, M = map(int, input().split())"
   ]
  },
  {
   "cell_type": "code",
   "execution_count": 2,
   "id": "24d28195-1981-435b-8a5a-a6e3b6f7134d",
   "metadata": {},
   "outputs": [
    {
     "name": "stdin",
     "output_type": "stream",
     "text": [
      " 2 4\n",
      " 3 1\n",
      " 4 3\n"
     ]
    }
   ],
   "source": [
    "UVm = [list(map(int, input().split())) for _ in range(M)]"
   ]
  },
  {
   "cell_type": "code",
   "execution_count": 4,
   "id": "8e00526c-e3d4-4503-ad41-87732f55fb18",
   "metadata": {},
   "outputs": [],
   "source": [
    "graph = [[] for _ in range(N+1)]\n",
    "for U, V in UVm:\n",
    "    graph[U].append(V)"
   ]
  },
  {
   "cell_type": "code",
   "execution_count": 27,
   "id": "c6a3a569-d447-494e-b982-9b4358a31647",
   "metadata": {},
   "outputs": [],
   "source": [
    "from collections import deque\n",
    "def BFS(n):\n",
    "    ret = 0\n",
    "    visit = [False] * (N+1)\n",
    "    q = deque()\n",
    "    q.append(n)\n",
    "    visit[n] = True\n",
    "    while q:\n",
    "        p = q.popleft()\n",
    "        for n in graph[p]:\n",
    "            if visit[n]:\n",
    "                continue\n",
    "            visit[n] = True\n",
    "            q.append(n)\n",
    "            ret += 1\n",
    "    return ret"
   ]
  },
  {
   "cell_type": "code",
   "execution_count": 28,
   "id": "c2aa5dd8-0523-4e14-9334-91db332cf05e",
   "metadata": {},
   "outputs": [],
   "source": [
    "po = 0\n",
    "for i in range(1, N+1):\n",
    "    po += BFS(i)"
   ]
  },
  {
   "cell_type": "code",
   "execution_count": 29,
   "id": "4cfe9532-9341-4287-ac79-8dbcd89f33b9",
   "metadata": {},
   "outputs": [
    {
     "name": "stdout",
     "output_type": "stream",
     "text": [
      "3\n"
     ]
    }
   ],
   "source": [
    "print(po-M)"
   ]
  },
  {
   "cell_type": "code",
   "execution_count": 26,
   "id": "1146753b-a44b-4e73-8050-3ee0fc5ad0e4",
   "metadata": {},
   "outputs": [
    {
     "data": {
      "text/plain": [
       "3"
      ]
     },
     "execution_count": 26,
     "metadata": {},
     "output_type": "execute_result"
    }
   ],
   "source": [
    "BFS(2)"
   ]
  },
  {
   "cell_type": "code",
   "execution_count": 12,
   "id": "df9ea9e6-1d16-414a-beae-a3825ac46f6a",
   "metadata": {},
   "outputs": [
    {
     "data": {
      "text/plain": [
       "[[], [], [4], [1], [3]]"
      ]
     },
     "execution_count": 12,
     "metadata": {},
     "output_type": "execute_result"
    }
   ],
   "source": [
    "graph"
   ]
  },
  {
   "cell_type": "code",
   "execution_count": null,
   "id": "f9f5defc-f5e8-4433-84ef-93b0a254bb9b",
   "metadata": {},
   "outputs": [],
   "source": []
  }
 ],
 "metadata": {
  "kernelspec": {
   "display_name": "Python 3",
   "language": "python",
   "name": "python3"
  },
  "language_info": {
   "codemirror_mode": {
    "name": "ipython",
    "version": 3
   },
   "file_extension": ".py",
   "mimetype": "text/x-python",
   "name": "python",
   "nbconvert_exporter": "python",
   "pygments_lexer": "ipython3",
   "version": "3.6.13"
  }
 },
 "nbformat": 4,
 "nbformat_minor": 5
}
