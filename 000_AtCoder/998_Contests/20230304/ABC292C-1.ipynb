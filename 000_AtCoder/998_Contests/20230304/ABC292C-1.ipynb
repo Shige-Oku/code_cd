{
 "cells": [
  {
   "cell_type": "code",
   "execution_count": 1,
   "id": "ab57a6c6-ecb4-403a-ab10-4d485984ea24",
   "metadata": {},
   "outputs": [],
   "source": [
    "import sys\n",
    "import numpy as np\n",
    "import math\n",
    "import collections\n",
    "import copy\n",
    "import decimal\n",
    "import itertools\n",
    "import re\n",
    "import bisect\n",
    "import scipy\n",
    "import heapq\n",
    "from collections import deque \n",
    "from functools import reduce\n",
    "from itertools import product\n",
    "from itertools import combinations\n",
    "from functools import lru_cache\n",
    "from scipy.special import comb\n",
    "from numba import njit\n",
    "from bisect import bisect_right\n",
    "from bisect import bisect_left"
   ]
  },
  {
   "cell_type": "code",
   "execution_count": 141,
   "id": "a7b31c44-28f3-496d-be12-599205e81c5e",
   "metadata": {},
   "outputs": [
    {
     "name": "stdin",
     "output_type": "stream",
     "text": [
      " 19876\n"
     ]
    }
   ],
   "source": [
    "N = int(input())"
   ]
  },
  {
   "cell_type": "code",
   "execution_count": 129,
   "id": "f3e9a1c6-48ff-446a-bc1c-b5f9ba45cef1",
   "metadata": {},
   "outputs": [],
   "source": [
    "# 約数のリスト作成\n",
    "import math\n",
    "def get_divisor_list(number):\n",
    "    number_sqrt = int(math.sqrt(number)) + 1\n",
    "    divisors = []\n",
    "    for i in range(1, int(number_sqrt)):\n",
    "        if number % i == 0:\n",
    "            # 割り切れたので約数\n",
    "            divisors.append(i)\n",
    "            divisors.append(number // i)\n",
    "    return divisors\n"
   ]
  },
  {
   "cell_type": "code",
   "execution_count": 107,
   "id": "598a3a75-1bef-416e-b065-3fd56966566c",
   "metadata": {},
   "outputs": [],
   "source": [
    "# 約数のリスト作成\n",
    "def get_divisor_list_without_sqrt(number):\n",
    "    number_sqrt = int(number**.5) + 1\n",
    "    divisors = []\n",
    "    for i in range(1, int(number_sqrt)):\n",
    "        if number % i == 0:\n",
    "            # 割り切れたので約数\n",
    "            divisors.append(i)\n",
    "            if i ** 2 != number:\n",
    "                divisors.append(number // i)\n",
    "    return divisors\n"
   ]
  },
  {
   "cell_type": "code",
   "execution_count": 168,
   "id": "af6ac372-bc0d-4b6b-84a6-7d8088506c4f",
   "metadata": {},
   "outputs": [],
   "source": [
    "def getCnt(n):\n",
    "    ret = get_divisor_list_without_sqrt(n)\n",
    "    return len(ret)\n",
    "#     if len(ret) % 1 == 1:\n",
    "#         print('amari 1')\n",
    "#         return len(ret) - 1\n",
    "#     else:\n",
    "#         return len(ret)"
   ]
  },
  {
   "cell_type": "code",
   "execution_count": 162,
   "id": "2ac7ec73-3d3a-47ec-92f7-477b18312dbd",
   "metadata": {},
   "outputs": [],
   "source": [
    "ans = 0\n",
    "for i in range(1, N):\n",
    "    ab = getCnt(i)\n",
    "    cd = getCnt(N-i)\n",
    "    if ab > 0 and cd > 0:\n",
    "        ans += ab * cd\n"
   ]
  },
  {
   "cell_type": "code",
   "execution_count": 163,
   "id": "11457726-cd3e-4111-83a7-5e5d61954bf0",
   "metadata": {},
   "outputs": [
    {
     "name": "stdout",
     "output_type": "stream",
     "text": [
      "2219958\n"
     ]
    }
   ],
   "source": [
    "print(ans)"
   ]
  },
  {
   "cell_type": "code",
   "execution_count": 169,
   "id": "f9bb12cd-0be2-400b-91eb-46891374f499",
   "metadata": {},
   "outputs": [
    {
     "name": "stdout",
     "output_type": "stream",
     "text": [
      "[1] 1 0\n"
     ]
    },
    {
     "data": {
      "text/plain": [
       "1"
      ]
     },
     "execution_count": 169,
     "metadata": {},
     "output_type": "execute_result"
    }
   ],
   "source": [
    "getCnt(1)"
   ]
  },
  {
   "cell_type": "code",
   "execution_count": 154,
   "id": "f4077d4c-2ddf-43d1-848c-e6ba5fb45141",
   "metadata": {},
   "outputs": [
    {
     "data": {
      "text/plain": [
       "[1]"
      ]
     },
     "execution_count": 154,
     "metadata": {},
     "output_type": "execute_result"
    }
   ],
   "source": [
    "get_divisor_list_without_sqrt(1)"
   ]
  },
  {
   "cell_type": "code",
   "execution_count": 114,
   "id": "0c58f841-d4e6-4601-82e0-77261cf805c3",
   "metadata": {},
   "outputs": [
    {
     "data": {
      "text/plain": [
       "4"
      ]
     },
     "execution_count": 114,
     "metadata": {},
     "output_type": "execute_result"
    }
   ],
   "source": [
    "(3+1)//2*2"
   ]
  },
  {
   "cell_type": "code",
   "execution_count": null,
   "id": "1c8405d0-62e5-44a7-a232-043d4bbb0c2f",
   "metadata": {},
   "outputs": [],
   "source": []
  }
 ],
 "metadata": {
  "kernelspec": {
   "display_name": "Python 3",
   "language": "python",
   "name": "python3"
  },
  "language_info": {
   "codemirror_mode": {
    "name": "ipython",
    "version": 3
   },
   "file_extension": ".py",
   "mimetype": "text/x-python",
   "name": "python",
   "nbconvert_exporter": "python",
   "pygments_lexer": "ipython3",
   "version": "3.6.13"
  }
 },
 "nbformat": 4,
 "nbformat_minor": 5
}
