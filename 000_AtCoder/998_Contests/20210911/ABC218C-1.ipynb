{
 "cells": [
  {
   "cell_type": "code",
   "execution_count": null,
   "id": "016a3131-99d4-4bd5-a0df-4e32a723284a",
   "metadata": {},
   "outputs": [],
   "source": [
    "# 解説を読んで実装"
   ]
  },
  {
   "cell_type": "code",
   "execution_count": 9,
   "id": "1090b202-ccec-4bb6-8cf2-2ac74cb6bd28",
   "metadata": {},
   "outputs": [],
   "source": [
    "import numpy as np\n",
    "import math\n",
    "import collections\n",
    "import copy\n",
    "import decimal\n",
    "import itertools\n",
    "import re\n",
    "import bisect\n",
    "import scipy\n",
    "import heapq\n",
    "from collections import deque \n",
    "from functools import reduce\n",
    "from itertools import product\n",
    "from itertools import combinations\n",
    "from itertools import chain\n",
    "from functools import lru_cache\n",
    "from scipy.special import comb\n",
    "from numba import njit\n",
    "from bisect import bisect_right\n",
    "from bisect import bisect_left"
   ]
  },
  {
   "cell_type": "code",
   "execution_count": 30,
   "id": "e0ab8764-6427-4728-b6d5-7c79e6283a7e",
   "metadata": {},
   "outputs": [
    {
     "name": "stdin",
     "output_type": "stream",
     "text": [
      " 4\n"
     ]
    }
   ],
   "source": [
    "N = int(input())"
   ]
  },
  {
   "cell_type": "code",
   "execution_count": 31,
   "id": "5ea1859a-461d-4756-8f75-710adfb54593",
   "metadata": {},
   "outputs": [
    {
     "name": "stdin",
     "output_type": "stream",
     "text": [
      " #...\n",
      " ..#.\n",
      " ..#.\n",
      " ....\n"
     ]
    }
   ],
   "source": [
    "Sn = [input() for _ in range(N)]"
   ]
  },
  {
   "cell_type": "code",
   "execution_count": 32,
   "id": "debb5ad4-eb15-49c1-8430-e9e9955cf73f",
   "metadata": {},
   "outputs": [
    {
     "name": "stdin",
     "output_type": "stream",
     "text": [
      " #...\n",
      " #...\n",
      " ..#.\n",
      " ....\n"
     ]
    }
   ],
   "source": [
    "Tn = [input() for _ in range(N)]"
   ]
  },
  {
   "cell_type": "code",
   "execution_count": 33,
   "id": "ed9ec510-01b6-49a6-a8bd-c657ab12e3ce",
   "metadata": {},
   "outputs": [],
   "source": [
    "def find_left_top(S):\n",
    "    for i in range(N):\n",
    "        for j in range(N):\n",
    "            if S[i][j] == '#':\n",
    "                return i, j"
   ]
  },
  {
   "cell_type": "code",
   "execution_count": 43,
   "id": "9fb0a903-0b4c-4106-b1e3-c400e5961ba1",
   "metadata": {},
   "outputs": [],
   "source": [
    "def isSame(S):\n",
    "    si, sj = find_left_top(S)\n",
    "    ti, tj = find_left_top(Tn)\n",
    "    offset_i = ti - si\n",
    "    offset_j = tj - sj\n",
    "    for i in range(N):\n",
    "        for j in range(N):\n",
    "            ii = i + offset_i\n",
    "            jj = j + offset_j\n",
    "            if 0 <= ii < N and 0 <= jj < N:\n",
    "                if S[i][j] != Tn[ii][jj]:\n",
    "                    return False\n",
    "            else:\n",
    "                if S[i][j] == '#':\n",
    "                    return False\n",
    "    return True"
   ]
  },
  {
   "cell_type": "code",
   "execution_count": 44,
   "id": "e3b84222-2f98-47bb-afdf-a05b292a0db4",
   "metadata": {},
   "outputs": [],
   "source": [
    "def solve():\n",
    "    S = list(zip(*Sn[::-1]))\n",
    "    for _ in range(4):\n",
    "        if isSame(S):\n",
    "            return True\n",
    "        S = list(zip(*S[::-1]))\n",
    "    return False"
   ]
  },
  {
   "cell_type": "code",
   "execution_count": 45,
   "id": "289b45d2-ba9d-4c60-b881-feb90059db56",
   "metadata": {},
   "outputs": [
    {
     "name": "stdout",
     "output_type": "stream",
     "text": [
      "[('.', '.', '.', '#'), ('.', '.', '.', '.'), ('.', '#', '#', '.'), ('.', '.', '.', '.')]\n",
      "1 3 . 1 0 #\n",
      "[('.', '.', '.', '.'), ('.', '#', '.', '.'), ('.', '#', '.', '.'), ('.', '.', '.', '#')]\n",
      "Yes\n"
     ]
    }
   ],
   "source": [
    "cnt_s = list(itertools.chain.from_iterable(Sn)).count('#')\n",
    "cnt_t = list(itertools.chain.from_iterable(Tn)).count('#') \n",
    "if cnt_s != cnt_t:\n",
    "    print('No')\n",
    "else:\n",
    "    if solve():\n",
    "        print('Yes')\n",
    "    else:\n",
    "        print('No')"
   ]
  },
  {
   "cell_type": "code",
   "execution_count": 11,
   "id": "e8232984-d848-4bad-ad92-e82dd5dcfe12",
   "metadata": {},
   "outputs": [
    {
     "data": {
      "text/plain": [
       "(4, 4)"
      ]
     },
     "execution_count": 11,
     "metadata": {},
     "output_type": "execute_result"
    }
   ],
   "source": [
    "cnt_s, cnt_t"
   ]
  },
  {
   "cell_type": "code",
   "execution_count": 12,
   "id": "050b31f3-c747-410f-bf64-f2cf7ffd433c",
   "metadata": {},
   "outputs": [
    {
     "name": "stdout",
     "output_type": "stream",
     "text": [
      "('.', '.', '.', '.', '.')\n",
      "('.', '.', '#', '.', '.')\n",
      "('.', '#', '#', '.', '.')\n",
      "('.', '.', '#', '.', '.')\n",
      "('.', '.', '.', '.', '.')\n"
     ]
    }
   ],
   "source": [
    "zip(*Sn)\n",
    "for s in list(zip(*Sn)):\n",
    "    print(s)"
   ]
  },
  {
   "cell_type": "code",
   "execution_count": 13,
   "id": "7df6c054-4267-4508-a800-ad9cb533b168",
   "metadata": {},
   "outputs": [
    {
     "name": "stdout",
     "output_type": "stream",
     "text": [
      "('.', '.', '.', '.', '.')\n",
      "('.', '.', '#', '.', '.')\n",
      "('.', '.', '#', '#', '.')\n",
      "('.', '.', '#', '.', '.')\n",
      "('.', '.', '.', '.', '.')\n"
     ]
    }
   ],
   "source": [
    "zip(*Sn)\n",
    "for s in list(zip(*Sn[::-1])):\n",
    "    print(s)"
   ]
  },
  {
   "cell_type": "code",
   "execution_count": 14,
   "id": "54c96629-0447-4790-8c84-34cfcc05ed38",
   "metadata": {},
   "outputs": [
    {
     "data": {
      "text/plain": [
       "['.....', '.....', '.###.', '..#..', '.....']"
      ]
     },
     "execution_count": 14,
     "metadata": {},
     "output_type": "execute_result"
    }
   ],
   "source": [
    "Sn[::-1]"
   ]
  },
  {
   "cell_type": "code",
   "execution_count": 15,
   "id": "d4df7630-d8f0-4b16-9837-519be59f43ee",
   "metadata": {},
   "outputs": [
    {
     "data": {
      "text/plain": [
       "['.....', '..#..', '.###.', '.....', '.....']"
      ]
     },
     "execution_count": 15,
     "metadata": {},
     "output_type": "execute_result"
    }
   ],
   "source": [
    "Sn"
   ]
  },
  {
   "cell_type": "code",
   "execution_count": 20,
   "id": "28c87b66-0059-441b-9dcf-4e9c546691a4",
   "metadata": {},
   "outputs": [
    {
     "data": {
      "text/plain": [
       "4"
      ]
     },
     "execution_count": 20,
     "metadata": {},
     "output_type": "execute_result"
    }
   ],
   "source": [
    "list(itertools.chain.from_iterable(Sn)).count('#')"
   ]
  },
  {
   "cell_type": "code",
   "execution_count": null,
   "id": "fb0c4268-eeb1-46d8-a300-7bb29dc0b157",
   "metadata": {},
   "outputs": [],
   "source": []
  }
 ],
 "metadata": {
  "kernelspec": {
   "display_name": "Python 3",
   "language": "python",
   "name": "python3"
  },
  "language_info": {
   "codemirror_mode": {
    "name": "ipython",
    "version": 3
   },
   "file_extension": ".py",
   "mimetype": "text/x-python",
   "name": "python",
   "nbconvert_exporter": "python",
   "pygments_lexer": "ipython3",
   "version": "3.6.13"
  }
 },
 "nbformat": 4,
 "nbformat_minor": 5
}
