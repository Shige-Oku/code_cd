{
 "cells": [
  {
   "cell_type": "code",
   "execution_count": 1,
   "id": "3eec6469-2023-4d93-938b-2d3b8f3adf5a",
   "metadata": {},
   "outputs": [],
   "source": [
    "import sys\n",
    "import numpy as np\n",
    "import math\n",
    "import collections\n",
    "import copy\n",
    "import decimal\n",
    "import itertools\n",
    "import re\n",
    "import bisect\n",
    "import scipy\n",
    "import heapq\n",
    "from collections import deque \n",
    "from functools import reduce\n",
    "from itertools import product\n",
    "from itertools import combinations\n",
    "from itertools import chain\n",
    "from functools import lru_cache\n",
    "from scipy.special import comb\n",
    "from numba import njit\n",
    "from bisect import bisect_right\n",
    "from bisect import bisect_left"
   ]
  },
  {
   "cell_type": "code",
   "execution_count": 26,
   "id": "3f40217e-47b7-4d5c-9254-eacfb20b82d1",
   "metadata": {},
   "outputs": [
    {
     "name": "stdin",
     "output_type": "stream",
     "text": [
      " -8 6 3\n"
     ]
    }
   ],
   "source": [
    "A, B, C = map(int, input().split())"
   ]
  },
  {
   "cell_type": "code",
   "execution_count": 27,
   "id": "4346d764-56d4-4332-9236-d0102042cc36",
   "metadata": {},
   "outputs": [
    {
     "name": "stdout",
     "output_type": "stream",
     "text": [
      "<\n"
     ]
    }
   ],
   "source": [
    "if A == B:\n",
    "    print('=')\n",
    "elif C % 2 == 0:\n",
    "    if abs(A) > abs(B):\n",
    "        print('>')\n",
    "    elif abs(A) == abs(B):\n",
    "        print('=')\n",
    "    else:\n",
    "        print('<')\n",
    "else:\n",
    "    if A > B:\n",
    "        print('>')\n",
    "    else:\n",
    "        print('<')\n",
    "#     else:\n",
    "#         if A > B:\n",
    "#             print('>')\n",
    "#         else:\n",
    "#             print('<')\n"
   ]
  },
  {
   "cell_type": "code",
   "execution_count": 12,
   "id": "66403ee3-65a0-4e39-a393-08fa3551ba2c",
   "metadata": {},
   "outputs": [
    {
     "name": "stdout",
     "output_type": "stream",
     "text": [
      "<\n"
     ]
    }
   ],
   "source": [
    "if pow(A, C) == pow(B, C):\n",
    "    print('=')\n",
    "elif pow(A, C) > pow(B, C):\n",
    "    print('>')\n",
    "else:\n",
    "    print('<')"
   ]
  },
  {
   "cell_type": "code",
   "execution_count": null,
   "id": "3b3e68d9-01a4-454c-8824-7b1c9e89691c",
   "metadata": {},
   "outputs": [],
   "source": []
  }
 ],
 "metadata": {
  "kernelspec": {
   "display_name": "Python 3",
   "language": "python",
   "name": "python3"
  },
  "language_info": {
   "codemirror_mode": {
    "name": "ipython",
    "version": 3
   },
   "file_extension": ".py",
   "mimetype": "text/x-python",
   "name": "python",
   "nbconvert_exporter": "python",
   "pygments_lexer": "ipython3",
   "version": "3.6.13"
  }
 },
 "nbformat": 4,
 "nbformat_minor": 5
}
