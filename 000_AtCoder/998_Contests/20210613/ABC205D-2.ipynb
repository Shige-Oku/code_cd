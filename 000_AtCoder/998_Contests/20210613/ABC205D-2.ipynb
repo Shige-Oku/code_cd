{
 "cells": [
  {
   "cell_type": "code",
   "execution_count": 1,
   "id": "273727b8-0654-4685-9240-0322b923251f",
   "metadata": {},
   "outputs": [],
   "source": [
    "import sys\n",
    "import numpy as np\n",
    "import math\n",
    "import collections\n",
    "import copy\n",
    "import decimal\n",
    "import itertools\n",
    "import re\n",
    "import bisect\n",
    "import scipy\n",
    "import heapq\n",
    "from collections import deque \n",
    "from functools import reduce\n",
    "from itertools import product\n",
    "from itertools import combinations\n",
    "from itertools import chain\n",
    "from functools import lru_cache\n",
    "from scipy.special import comb\n",
    "from numba import njit\n",
    "from bisect import bisect_right\n",
    "from bisect import bisect_left"
   ]
  },
  {
   "cell_type": "code",
   "execution_count": 2,
   "id": "36bed491-c202-46bb-895c-2d6c58a5fdcb",
   "metadata": {},
   "outputs": [
    {
     "name": "stdin",
     "output_type": "stream",
     "text": [
      " 4 3\n"
     ]
    }
   ],
   "source": [
    "N, Q = map(int, input().split())"
   ]
  },
  {
   "cell_type": "code",
   "execution_count": 3,
   "id": "5a004d29-99e6-4ea4-9ae1-d320158d1894",
   "metadata": {},
   "outputs": [
    {
     "name": "stdin",
     "output_type": "stream",
     "text": [
      " 3 5 6 7\n"
     ]
    }
   ],
   "source": [
    "An = list(map(int, input().split()))"
   ]
  },
  {
   "cell_type": "code",
   "execution_count": 4,
   "id": "a21a38cd-32ca-43c5-a603-092615795bfc",
   "metadata": {},
   "outputs": [
    {
     "name": "stdin",
     "output_type": "stream",
     "text": [
      " 2 \n",
      " 5\n",
      " 3\n"
     ]
    }
   ],
   "source": [
    "Qn = [int(input()) for _ in range(Q)]"
   ]
  },
  {
   "cell_type": "code",
   "execution_count": 22,
   "id": "2a0e8b39-d9c7-47b4-86d4-daed63d46f87",
   "metadata": {},
   "outputs": [],
   "source": [
    "An_s = sorted(An)\n",
    "Cn = [An_s[0]-1, ]\n",
    "for i in range(1, N):\n",
    "    Cn.append(An_s[i]-An_s[i-1]-1+Cn[-1])\n",
    "# An_s.insert(0, 0)\n"
   ]
  },
  {
   "cell_type": "code",
   "execution_count": 28,
   "id": "6257d91d-fa58-4504-befc-078f89ee539c",
   "metadata": {},
   "outputs": [
    {
     "name": "stdout",
     "output_type": "stream",
     "text": [
      "2\n",
      "9\n",
      "4\n"
     ]
    }
   ],
   "source": [
    "for Q in Qn:\n",
    "    pos = bisect_left(Cn, Q)\n",
    "#     print(pos)\n",
    "    if pos == 0:\n",
    "        print(Q)\n",
    "    elif pos < N:\n",
    "        print(An_s[pos-1]+(Q-Cn[pos-1]))\n",
    "#         print(An_s[pos-1], Q, Cn[pos-1])\n",
    "    else:\n",
    "        print(An_s[-1]+(Q-Cn[-1]))"
   ]
  },
  {
   "cell_type": "code",
   "execution_count": 23,
   "id": "3a3bf532-229b-4870-a94c-2d882d16a3bb",
   "metadata": {},
   "outputs": [
    {
     "data": {
      "text/plain": [
       "([2, 3, 3, 3], [3, 5, 6, 7])"
      ]
     },
     "execution_count": 23,
     "metadata": {},
     "output_type": "execute_result"
    }
   ],
   "source": [
    "Cn, An_s"
   ]
  },
  {
   "cell_type": "code",
   "execution_count": null,
   "id": "d08ee560-23f8-44e2-b1d6-abca6b4bc12b",
   "metadata": {},
   "outputs": [],
   "source": []
  }
 ],
 "metadata": {
  "kernelspec": {
   "display_name": "Python 3",
   "language": "python",
   "name": "python3"
  },
  "language_info": {
   "codemirror_mode": {
    "name": "ipython",
    "version": 3
   },
   "file_extension": ".py",
   "mimetype": "text/x-python",
   "name": "python",
   "nbconvert_exporter": "python",
   "pygments_lexer": "ipython3",
   "version": "3.6.13"
  }
 },
 "nbformat": 4,
 "nbformat_minor": 5
}
