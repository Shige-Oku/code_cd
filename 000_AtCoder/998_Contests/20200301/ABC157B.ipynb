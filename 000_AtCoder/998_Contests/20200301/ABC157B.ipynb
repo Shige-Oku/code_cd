{
 "cells": [
  {
   "cell_type": "code",
   "execution_count": 1,
   "metadata": {},
   "outputs": [],
   "source": [
    "import sys\n",
    "import numpy as np\n",
    "\n",
    "# input = sys.stdin.readline"
   ]
  },
  {
   "cell_type": "code",
   "execution_count": 2,
   "metadata": {},
   "outputs": [
    {
     "name": "stdin",
     "output_type": "stream",
     "text": [
      " 84 97 66\n",
      " 79 89 11\n",
      " 61 59 7\n"
     ]
    }
   ],
   "source": [
    "bingo = [list(map(int, input().split())) for ii in range(3)]"
   ]
  },
  {
   "cell_type": "code",
   "execution_count": 4,
   "metadata": {},
   "outputs": [
    {
     "name": "stdin",
     "output_type": "stream",
     "text": [
      " 7\n"
     ]
    }
   ],
   "source": [
    "n = int(input())"
   ]
  },
  {
   "cell_type": "code",
   "execution_count": 7,
   "metadata": {},
   "outputs": [
    {
     "name": "stdin",
     "output_type": "stream",
     "text": [
      " 89\n",
      " 7\n",
      " 87\n",
      " 79\n",
      " 24\n",
      " 84\n",
      " 30\n"
     ]
    }
   ],
   "source": [
    "num = []\n",
    "for ii in range(n):\n",
    "    num.append(int(input()))"
   ]
  },
  {
   "cell_type": "code",
   "execution_count": 18,
   "metadata": {},
   "outputs": [],
   "source": [
    "bi = np.full(9, False)"
   ]
  },
  {
   "cell_type": "code",
   "execution_count": 19,
   "metadata": {},
   "outputs": [],
   "source": [
    "bingo_np = np.array(bingo).reshape(-1)"
   ]
  },
  {
   "cell_type": "code",
   "execution_count": 20,
   "metadata": {},
   "outputs": [],
   "source": [
    "for number in num:\n",
    "    for i in range(9):\n",
    "        if bingo_np[i] == number:\n",
    "            bi[i] = True"
   ]
  },
  {
   "cell_type": "code",
   "execution_count": 26,
   "metadata": {},
   "outputs": [
    {
     "name": "stdout",
     "output_type": "stream",
     "text": [
      "Yes\n"
     ]
    }
   ],
   "source": [
    "if (np.all(bi[:3])):\n",
    "    print(\"Yes\")\n",
    "elif (np.all(bi[3:6])):\n",
    "    print(\"Yes\")\n",
    "elif (np.all(bi[6:9])):\n",
    "    print(\"Yes\")\n",
    "elif (np.all([bi[0], bi[3], bi[6]])):\n",
    "    print(\"Yes\")\n",
    "elif (np.all([bi[1], bi[4], bi[7]])):\n",
    "    print(\"Yes\")\n",
    "elif (np.all([bi[2], bi[5], bi[8]])):\n",
    "    print(\"Yes\")\n",
    "elif (np.all([bi[0], bi[4], bi[8]])):\n",
    "    print(\"Yes\")\n",
    "elif (np.all([bi[2], bi[4], bi[6]])):\n",
    "    print(\"Yes\")\n",
    "else:\n",
    "    print(\"No\")\n"
   ]
  },
  {
   "cell_type": "code",
   "execution_count": null,
   "metadata": {},
   "outputs": [],
   "source": []
  }
 ],
 "metadata": {
  "kernelspec": {
   "display_name": "Python 3",
   "language": "python",
   "name": "python3"
  },
  "language_info": {
   "codemirror_mode": {
    "name": "ipython",
    "version": 3
   },
   "file_extension": ".py",
   "mimetype": "text/x-python",
   "name": "python",
   "nbconvert_exporter": "python",
   "pygments_lexer": "ipython3",
   "version": "3.6.7"
  }
 },
 "nbformat": 4,
 "nbformat_minor": 2
}
