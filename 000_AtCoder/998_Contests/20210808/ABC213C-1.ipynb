{
 "cells": [
  {
   "cell_type": "code",
   "execution_count": 1,
   "id": "226b4518-e357-4ed0-9573-7eb36983462b",
   "metadata": {},
   "outputs": [],
   "source": [
    "import sys\n",
    "import numpy as np\n",
    "import math\n",
    "import collections\n",
    "import copy\n",
    "import decimal\n",
    "import itertools\n",
    "import re\n",
    "import bisect\n",
    "import scipy\n",
    "import heapq\n",
    "from collections import deque \n",
    "from functools import reduce\n",
    "from itertools import product\n",
    "from itertools import combinations\n",
    "from itertools import chain\n",
    "from functools import lru_cache\n",
    "from scipy.special import comb\n",
    "from numba import njit\n",
    "from bisect import bisect_right\n",
    "from bisect import bisect_left"
   ]
  },
  {
   "cell_type": "code",
   "execution_count": 2,
   "id": "fd0e21de-9ef5-42a3-9552-8f982b12d9d3",
   "metadata": {},
   "outputs": [
    {
     "name": "stdin",
     "output_type": "stream",
     "text": [
      " 4 5 2\n"
     ]
    }
   ],
   "source": [
    "H, W, N = map(int, input().split())"
   ]
  },
  {
   "cell_type": "code",
   "execution_count": 5,
   "id": "c14036c6-210a-4564-9309-549a3922881a",
   "metadata": {},
   "outputs": [
    {
     "name": "stdin",
     "output_type": "stream",
     "text": [
      " 3 2\n",
      " 2 5\n"
     ]
    }
   ],
   "source": [
    "AB = [list(map(int, input().split())) for _ in range(N)]"
   ]
  },
  {
   "cell_type": "code",
   "execution_count": 30,
   "id": "a1f73d85-a699-4e42-8ed9-8581047cfa2b",
   "metadata": {},
   "outputs": [],
   "source": [
    "li = set()\n",
    "col = set()\n",
    "for A, B in AB:\n",
    "    li.add(A)\n",
    "    col.add(B)"
   ]
  },
  {
   "cell_type": "code",
   "execution_count": 32,
   "id": "6c083616-afb9-44d1-b034-0052a1936c87",
   "metadata": {},
   "outputs": [
    {
     "name": "stdout",
     "output_type": "stream",
     "text": [
      "2 1\n",
      "1 2\n"
     ]
    }
   ],
   "source": [
    "li_s = sorted(li)\n",
    "col_s = sorted(col)\n",
    "for A, B in AB:\n",
    "    print(bisect_left(li_s, A)+1, bisect_left(col_s, B)+1)"
   ]
  },
  {
   "cell_type": "code",
   "execution_count": 31,
   "id": "5aae2da5-ca97-4b3e-9941-59472cc42ab0",
   "metadata": {},
   "outputs": [
    {
     "data": {
      "text/plain": [
       "({2, 3}, {2, 5})"
      ]
     },
     "execution_count": 31,
     "metadata": {},
     "output_type": "execute_result"
    }
   ],
   "source": [
    "li, col"
   ]
  },
  {
   "cell_type": "code",
   "execution_count": 27,
   "id": "5cb4a36e-64a5-4dd2-a020-1b57f8cdf76c",
   "metadata": {},
   "outputs": [],
   "source": [
    "graph = [[] * (max(H, W)+1) for _ in range(max(H, W)+1)]\n",
    "for A, B in AB:\n",
    "    graph[A].append(B)\n",
    "    graph[B].append(A)"
   ]
  },
  {
   "cell_type": "code",
   "execution_count": 28,
   "id": "31372694-79e1-427e-831d-dc7604f7811d",
   "metadata": {},
   "outputs": [
    {
     "data": {
      "text/plain": [
       "[[], [], [3, 5], [2], [], [2]]"
      ]
     },
     "execution_count": 28,
     "metadata": {},
     "output_type": "execute_result"
    }
   ],
   "source": [
    "graph"
   ]
  },
  {
   "cell_type": "code",
   "execution_count": null,
   "id": "d0947ae1-55da-4fcf-aba8-edfffdf99971",
   "metadata": {},
   "outputs": [],
   "source": []
  },
  {
   "cell_type": "code",
   "execution_count": 8,
   "id": "169ca65d-d904-422e-b4de-ec3ad8dac6ab",
   "metadata": {},
   "outputs": [],
   "source": [
    "mat = [[0] * (W) for _ in range(H)]\n",
    "for i, (A, B) in enumerate(AB, 1):\n",
    "    mat[A-1][B-1] = i"
   ]
  },
  {
   "cell_type": "code",
   "execution_count": 17,
   "id": "ffab7b42-33fc-487b-8be4-b54f69724b18",
   "metadata": {},
   "outputs": [],
   "source": [
    "li = [0] * (H+1)\n",
    "for i in range(H):\n",
    "    li[i] = li[i-1]\n",
    "    flg = True\n",
    "    for j in range(W):\n",
    "        if mat[i][j] != 0:\n",
    "            flg = False\n",
    "            break\n",
    "    if flg:\n",
    "        li[i] += 1\n",
    "col = [0] * (W+1)\n",
    "for j in range(W):\n",
    "    col[j] = col[j-1]\n",
    "    flg = True\n",
    "    for i in range(H):\n",
    "        if mat[i][j] != 0:\n",
    "            flg = False\n",
    "            break\n",
    "    if flg:\n",
    "        col[j] += 1\n"
   ]
  },
  {
   "cell_type": "code",
   "execution_count": 21,
   "id": "cc391277-5f7c-47a6-9a47-464309435683",
   "metadata": {},
   "outputs": [
    {
     "name": "stdout",
     "output_type": "stream",
     "text": [
      "2 1\n",
      "1 2\n"
     ]
    }
   ],
   "source": [
    "for i, (A, B) in enumerate(AB):\n",
    "    print(A-li[A-1], B-col[B-1])"
   ]
  },
  {
   "cell_type": "code",
   "execution_count": 18,
   "id": "2d56f4f7-287d-4df6-9b2f-070b5bd4da1d",
   "metadata": {},
   "outputs": [
    {
     "data": {
      "text/plain": [
       "([1, 1, 1, 2, 0], [1, 1, 2, 3, 3, 0])"
      ]
     },
     "execution_count": 18,
     "metadata": {},
     "output_type": "execute_result"
    }
   ],
   "source": [
    "li, col"
   ]
  },
  {
   "cell_type": "code",
   "execution_count": 16,
   "id": "ddb5eb4d-16d7-4eef-a4b4-fd79c2353f51",
   "metadata": {},
   "outputs": [
    {
     "data": {
      "text/plain": [
       "[[0, 0, 0, 0, 0], [0, 0, 0, 0, 2], [0, 1, 0, 0, 0], [0, 0, 0, 0, 0]]"
      ]
     },
     "execution_count": 16,
     "metadata": {},
     "output_type": "execute_result"
    }
   ],
   "source": [
    "mat"
   ]
  },
  {
   "cell_type": "code",
   "execution_count": null,
   "id": "5a6b4c67-7857-4ebf-81f6-e3ecd48c0ae0",
   "metadata": {},
   "outputs": [],
   "source": []
  }
 ],
 "metadata": {
  "kernelspec": {
   "display_name": "Python 3",
   "language": "python",
   "name": "python3"
  },
  "language_info": {
   "codemirror_mode": {
    "name": "ipython",
    "version": 3
   },
   "file_extension": ".py",
   "mimetype": "text/x-python",
   "name": "python",
   "nbconvert_exporter": "python",
   "pygments_lexer": "ipython3",
   "version": "3.6.13"
  }
 },
 "nbformat": 4,
 "nbformat_minor": 5
}
