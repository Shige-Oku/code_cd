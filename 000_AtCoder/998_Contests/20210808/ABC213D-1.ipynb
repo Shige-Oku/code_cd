{
 "cells": [
  {
   "cell_type": "code",
   "execution_count": 1,
   "id": "965d2c95-8182-48a0-a3d6-607aff6f20f2",
   "metadata": {},
   "outputs": [],
   "source": [
    "import sys\n",
    "import numpy as np\n",
    "import math\n",
    "import collections\n",
    "import copy\n",
    "import decimal\n",
    "import itertools\n",
    "import re\n",
    "import bisect\n",
    "import scipy\n",
    "import heapq\n",
    "from collections import deque \n",
    "from functools import reduce\n",
    "from itertools import product\n",
    "from itertools import combinations\n",
    "from itertools import chain\n",
    "from functools import lru_cache\n",
    "from scipy.special import comb\n",
    "from numba import njit\n",
    "from bisect import bisect_right\n",
    "from bisect import bisect_left"
   ]
  },
  {
   "cell_type": "code",
   "execution_count": 18,
   "id": "470a60b7-8bee-47f7-ae1c-610ac25c5c92",
   "metadata": {},
   "outputs": [
    {
     "data": {
      "text/plain": [
       "[[], [2, 3], [1, 4], [1], [2]]"
      ]
     },
     "execution_count": 18,
     "metadata": {},
     "output_type": "execute_result"
    }
   ],
   "source": [
    "graph"
   ]
  },
  {
   "cell_type": "code",
   "execution_count": 14,
   "id": "4fbdb517-2ca7-400e-9bec-db350a3eedff",
   "metadata": {},
   "outputs": [],
   "source": [
    "sys.setrecursionlimit(10**7)"
   ]
  },
  {
   "cell_type": "code",
   "execution_count": 2,
   "id": "7ed2149d-999e-4f23-ae1e-f51731ddb88d",
   "metadata": {},
   "outputs": [
    {
     "name": "stdin",
     "output_type": "stream",
     "text": [
      " 4\n"
     ]
    }
   ],
   "source": [
    "N = int(input())"
   ]
  },
  {
   "cell_type": "code",
   "execution_count": 4,
   "id": "d7aae7e1-7a99-4f35-a2bf-23191c4c338b",
   "metadata": {},
   "outputs": [
    {
     "name": "stdin",
     "output_type": "stream",
     "text": [
      " 1 2\n",
      " 4 2\n",
      " 3 1\n"
     ]
    }
   ],
   "source": [
    "AB = [list(map(int, input().split())) for _ in range(N-1)]"
   ]
  },
  {
   "cell_type": "code",
   "execution_count": 5,
   "id": "6bee2e7a-3662-401f-8e90-f17461af577b",
   "metadata": {},
   "outputs": [],
   "source": [
    "graph = [[] * (N+1) for _ in range(N+1)]\n",
    "for A, B in AB:\n",
    "    graph[A].append(B)\n",
    "    graph[B].append(A)"
   ]
  },
  {
   "cell_type": "code",
   "execution_count": 9,
   "id": "67b66d40-3c8b-4ded-8b43-67f5f8b54632",
   "metadata": {},
   "outputs": [],
   "source": [
    "for i in range(N+1):\n",
    "    graph[i].sort()"
   ]
  },
  {
   "cell_type": "code",
   "execution_count": 22,
   "id": "f286ff8b-e0ce-4dda-bb45-921a4475505d",
   "metadata": {},
   "outputs": [],
   "source": [
    "def DFS(n):\n",
    "    visit[n] = True\n",
    "#     print(n, ans)\n",
    "    ans.append(n)\n",
    "    if len(graph[n]) == 0:\n",
    "        return\n",
    "    for gr in graph[n]:\n",
    "        if visit[gr]:\n",
    "            continue\n",
    "        DFS(gr)\n",
    "        ans.append(n)\n",
    "#     ans.append(n)\n",
    "    return"
   ]
  },
  {
   "cell_type": "code",
   "execution_count": 23,
   "id": "008314f4-78c1-4391-a4bd-e49c15153853",
   "metadata": {},
   "outputs": [],
   "source": [
    "visit = [False] * (N+1)\n",
    "ans  = []\n",
    "DFS(1)"
   ]
  },
  {
   "cell_type": "code",
   "execution_count": 24,
   "id": "b794926b-5cda-4276-8136-0a5164192d2d",
   "metadata": {},
   "outputs": [
    {
     "name": "stdout",
     "output_type": "stream",
     "text": [
      "1 2 4 2 1 3 1\n"
     ]
    }
   ],
   "source": [
    "print(*ans)"
   ]
  },
  {
   "cell_type": "code",
   "execution_count": 10,
   "id": "19feb98a-1054-4c46-a730-0f40498c876b",
   "metadata": {},
   "outputs": [
    {
     "data": {
      "text/plain": [
       "[[], [2, 3], [1, 4], [1], [2]]"
      ]
     },
     "execution_count": 10,
     "metadata": {},
     "output_type": "execute_result"
    }
   ],
   "source": [
    "graph"
   ]
  },
  {
   "cell_type": "code",
   "execution_count": null,
   "id": "b88b47f0-9fc2-4027-aeca-b82a8a91f8a4",
   "metadata": {},
   "outputs": [],
   "source": []
  },
  {
   "cell_type": "code",
   "execution_count": null,
   "id": "fe93691b-9d30-4310-b131-934ae49d80d4",
   "metadata": {},
   "outputs": [],
   "source": []
  }
 ],
 "metadata": {
  "kernelspec": {
   "display_name": "Python 3",
   "language": "python",
   "name": "python3"
  },
  "language_info": {
   "codemirror_mode": {
    "name": "ipython",
    "version": 3
   },
   "file_extension": ".py",
   "mimetype": "text/x-python",
   "name": "python",
   "nbconvert_exporter": "python",
   "pygments_lexer": "ipython3",
   "version": "3.6.13"
  }
 },
 "nbformat": 4,
 "nbformat_minor": 5
}
