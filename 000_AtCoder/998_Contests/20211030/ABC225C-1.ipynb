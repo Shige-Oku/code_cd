{
 "cells": [
  {
   "cell_type": "code",
   "execution_count": 1,
   "id": "63add736-4efc-40c4-b3d0-15a6637c8819",
   "metadata": {},
   "outputs": [],
   "source": [
    "import numpy as np\n",
    "import math\n",
    "import collections\n",
    "import copy\n",
    "import decimal\n",
    "import itertools\n",
    "import re\n",
    "import bisect\n",
    "import scipy\n",
    "import heapq\n",
    "import array\n",
    "from collections import deque\n",
    "from functools import reduce\n",
    "from itertools import product\n",
    "from itertools import combinations\n",
    "from itertools import chain\n",
    "from functools import lru_cache\n",
    "from scipy.special import comb\n",
    "from numba import njit\n",
    "from bisect import bisect_right\n",
    "from bisect import bisect_left"
   ]
  },
  {
   "cell_type": "code",
   "execution_count": 19,
   "id": "6f2051dc-773b-4cde-a658-61cee7c4d0be",
   "metadata": {},
   "outputs": [
    {
     "name": "stdin",
     "output_type": "stream",
     "text": [
      " 10 4\n"
     ]
    }
   ],
   "source": [
    "N, M = map(int, input().split())"
   ]
  },
  {
   "cell_type": "code",
   "execution_count": 20,
   "id": "623f6f5f-9058-4ff8-b081-bd0bfa5802f7",
   "metadata": {},
   "outputs": [
    {
     "name": "stdin",
     "output_type": "stream",
     "text": [
      " 1346 1347 1348 1349\n",
      " 1353 1354 1355 1356\n",
      " 1360 1361 1362 1363\n",
      " 1367 1368 1369 1370\n",
      " 1374 1375 1376 1377\n",
      " 1381 1382 1383 1384\n",
      " 1388 1389 1390 1391\n",
      " 1395 1396 1397 1398\n",
      " 1402 1403 1404 1405\n",
      " 1409 1410 1411 1412\n"
     ]
    }
   ],
   "source": [
    "Bn = [list(map(int, input().split())) for _ in range(N)]"
   ]
  },
  {
   "cell_type": "code",
   "execution_count": 39,
   "id": "c244bc44-d1b2-4aa4-8321-9f3adb674445",
   "metadata": {},
   "outputs": [],
   "source": [
    "flg = True\n",
    "bs = Bn[0][0]\n",
    "for i, B in enumerate(Bn):\n",
    "    if bs + i * 7 != B[0]:\n",
    "        flg = False\n",
    "        break\n",
    "    for j, b in enumerate(B[1:], 1):\n",
    "        if b != B[0] + j:\n",
    "            flg = False\n",
    "            break\n",
    "        if b % 7 == 1:\n",
    "            flg = False\n",
    "            break\n",
    "    if not flg:\n",
    "        break"
   ]
  },
  {
   "cell_type": "code",
   "execution_count": 40,
   "id": "656efa13-b682-493f-bf9a-43dcd556747a",
   "metadata": {},
   "outputs": [
    {
     "name": "stdout",
     "output_type": "stream",
     "text": [
      "Yes\n"
     ]
    }
   ],
   "source": [
    "if flg:\n",
    "    print('Yes')\n",
    "else:\n",
    "    print('No')"
   ]
  },
  {
   "cell_type": "code",
   "execution_count": 37,
   "id": "ebd4f612-56d7-4311-bd3b-eb37868bf4f2",
   "metadata": {},
   "outputs": [
    {
     "data": {
      "text/plain": [
       "(1, 1)"
      ]
     },
     "execution_count": 37,
     "metadata": {},
     "output_type": "execute_result"
    }
   ],
   "source": [
    "i, j"
   ]
  },
  {
   "cell_type": "code",
   "execution_count": 38,
   "id": "8863a6d9-7e88-4caf-86a9-fa3582f3b597",
   "metadata": {},
   "outputs": [
    {
     "data": {
      "text/plain": [
       "(1346, [1353, 1354, 1355, 1356], 1354)"
      ]
     },
     "execution_count": 38,
     "metadata": {},
     "output_type": "execute_result"
    }
   ],
   "source": [
    "bs, B, b"
   ]
  },
  {
   "cell_type": "code",
   "execution_count": 25,
   "id": "cc5ba9f6-b013-4209-bdfb-4c77ea1bbd47",
   "metadata": {},
   "outputs": [
    {
     "data": {
      "text/plain": [
       "5"
      ]
     },
     "execution_count": 25,
     "metadata": {},
     "output_type": "execute_result"
    }
   ],
   "source": [
    "1363%7"
   ]
  },
  {
   "cell_type": "code",
   "execution_count": null,
   "id": "c339a8bf-4466-4f84-8050-6c2788a7b7c7",
   "metadata": {},
   "outputs": [],
   "source": []
  }
 ],
 "metadata": {
  "kernelspec": {
   "display_name": "Python 3",
   "language": "python",
   "name": "python3"
  },
  "language_info": {
   "codemirror_mode": {
    "name": "ipython",
    "version": 3
   },
   "file_extension": ".py",
   "mimetype": "text/x-python",
   "name": "python",
   "nbconvert_exporter": "python",
   "pygments_lexer": "ipython3",
   "version": "3.6.13"
  }
 },
 "nbformat": 4,
 "nbformat_minor": 5
}
