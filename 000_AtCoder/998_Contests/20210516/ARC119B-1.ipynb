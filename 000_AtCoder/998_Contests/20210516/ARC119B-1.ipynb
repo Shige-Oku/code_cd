{
 "cells": [
  {
   "cell_type": "code",
   "execution_count": null,
   "id": "ed53b2df-cbaa-4a30-a4db-d434c3600ae2",
   "metadata": {},
   "outputs": [],
   "source": [
    "# WA"
   ]
  },
  {
   "cell_type": "code",
   "execution_count": 1,
   "id": "093b2c68-03e3-465d-b30f-b4e703e1d468",
   "metadata": {},
   "outputs": [],
   "source": [
    "import sys\n",
    "import numpy as np\n",
    "import math\n",
    "import collections\n",
    "import copy\n",
    "import decimal\n",
    "import itertools\n",
    "import re\n",
    "import bisect\n",
    "import scipy\n",
    "import heapq\n",
    "from collections import deque \n",
    "from functools import reduce\n",
    "from itertools import product\n",
    "from itertools import combinations\n",
    "from itertools import chain\n",
    "from functools import lru_cache\n",
    "from scipy.special import comb\n",
    "from numba import njit\n",
    "from bisect import bisect_right\n",
    "from bisect import bisect_left"
   ]
  },
  {
   "cell_type": "code",
   "execution_count": 71,
   "id": "9e0034dd-5ea1-48d7-a978-ad93e907b95b",
   "metadata": {},
   "outputs": [
    {
     "name": "stdin",
     "output_type": "stream",
     "text": [
      " 7\n"
     ]
    }
   ],
   "source": [
    "N = int(input())"
   ]
  },
  {
   "cell_type": "code",
   "execution_count": 72,
   "id": "bc99cd3c-3acb-47a5-a5c1-8a4fb9d36c4f",
   "metadata": {},
   "outputs": [
    {
     "name": "stdin",
     "output_type": "stream",
     "text": [
      " 1110110\n"
     ]
    }
   ],
   "source": [
    "S = input()"
   ]
  },
  {
   "cell_type": "code",
   "execution_count": 73,
   "id": "2585a3db-e7e6-4791-b9a9-c1fb4a84722f",
   "metadata": {},
   "outputs": [
    {
     "name": "stdin",
     "output_type": "stream",
     "text": [
      " 1010111\n"
     ]
    }
   ],
   "source": [
    "T = input()"
   ]
  },
  {
   "cell_type": "code",
   "execution_count": 83,
   "id": "879c1f44-e777-456c-9efc-a864913e3ee5",
   "metadata": {},
   "outputs": [],
   "source": [
    "def solve():\n",
    "    if S.count('1') != T.count('1') :\n",
    "        return -1\n",
    "    ret = 0\n",
    "    for i in range(N):\n",
    "        if S_l[i] == T_l[i]:\n",
    "            continue\n",
    "        for j in range(i+1, N):\n",
    "            if S_l[j] != T_l[i]:\n",
    "                continue\n",
    "            for k in range(j+1, N):\n",
    "                if S_l[j] == S_l[k]:\n",
    "                    continue\n",
    "                S_l[i], S_l[k-1] = S_l[k-1], S_l[i]\n",
    "                ret += 1\n",
    "                break\n",
    "#                 print(i, j)\n",
    "            break\n",
    "    ret2 = 0\n",
    "    for i in range(N):\n",
    "        if S_r[i] == T_r[i]:\n",
    "            continue\n",
    "        for j in range(i+1, N):\n",
    "            if S_r[j] != T_r[i]:\n",
    "                continue\n",
    "            for k in range(j+1, N):\n",
    "                if S_r[j] == S_r[k]:\n",
    "                    continue\n",
    "                S_r[i], S_r[k-1] = S_r[k-1], S_r[i]\n",
    "                ret2 += 1\n",
    "                break\n",
    "#                 print(i, j)\n",
    "            break\n",
    "    print(ret, ret2)\n",
    "    return min(ret, ret2)"
   ]
  },
  {
   "cell_type": "code",
   "execution_count": null,
   "id": "083018fb-76e4-4131-8875-e415046e38e4",
   "metadata": {},
   "outputs": [],
   "source": []
  },
  {
   "cell_type": "code",
   "execution_count": 84,
   "id": "1ddc4c32-677f-4226-8ac6-6c077d0657f4",
   "metadata": {},
   "outputs": [],
   "source": [
    "S_l = []\n",
    "for s in S:\n",
    "    S_l.append(s)\n",
    "S_r = S_l[::-1]\n",
    "T_l = []\n",
    "for t in T:\n",
    "    T_l.append(t)\n",
    "T_r = T_l[::-1]"
   ]
  },
  {
   "cell_type": "code",
   "execution_count": 85,
   "id": "f809d94e-af58-46b8-8312-b93cbb6213af",
   "metadata": {},
   "outputs": [
    {
     "name": "stdout",
     "output_type": "stream",
     "text": [
      "1 1\n",
      "1\n"
     ]
    }
   ],
   "source": [
    "print(solve())"
   ]
  },
  {
   "cell_type": "code",
   "execution_count": 82,
   "id": "0514860a-7535-4787-a320-fb16846ab24a",
   "metadata": {},
   "outputs": [
    {
     "data": {
      "text/plain": [
       "(False, False)"
      ]
     },
     "execution_count": 82,
     "metadata": {},
     "output_type": "execute_result"
    }
   ],
   "source": [
    "S_l == S_r, S_l == S_r[::-1]"
   ]
  },
  {
   "cell_type": "code",
   "execution_count": 39,
   "id": "affaafce-699a-4c6b-94ce-5f9af0e3f06b",
   "metadata": {},
   "outputs": [],
   "source": [
    "S_l[1] = '2'"
   ]
  },
  {
   "cell_type": "code",
   "execution_count": 42,
   "id": "5c9c41af-d4d4-4b48-bcf2-fe38c8a8207d",
   "metadata": {},
   "outputs": [
    {
     "data": {
      "text/plain": [
       "(['1', '2', '1'], ['1', '0', '1'], ['1', '2', '1'])"
      ]
     },
     "execution_count": 42,
     "metadata": {},
     "output_type": "execute_result"
    }
   ],
   "source": [
    "S_l[:3], S_r[-3:], S_l[:3]"
   ]
  },
  {
   "cell_type": "code",
   "execution_count": 5,
   "id": "e9e80a8b-7f48-4e7b-837b-f93a79f50066",
   "metadata": {},
   "outputs": [
    {
     "data": {
      "text/plain": [
       "5"
      ]
     },
     "execution_count": 5,
     "metadata": {},
     "output_type": "execute_result"
    }
   ],
   "source": [
    "S.count('1')"
   ]
  },
  {
   "cell_type": "code",
   "execution_count": 7,
   "id": "cd9ed000-2dfa-45ad-8fe4-ed91c27f3914",
   "metadata": {},
   "outputs": [
    {
     "data": {
      "text/plain": [
       "(['1', '1', '1', '0', '1', '1', '0'], ['1', '0', '1', '0', '1', '1', '1'])"
      ]
     },
     "execution_count": 7,
     "metadata": {},
     "output_type": "execute_result"
    }
   ],
   "source": [
    "S_l, T_l"
   ]
  },
  {
   "cell_type": "code",
   "execution_count": 8,
   "id": "69efa2a1-ca38-4ba7-8465-638253b46977",
   "metadata": {},
   "outputs": [],
   "source": [
    "s1 = '10101111011101001011111000111111101011110011010111111111111111010111111111111110111111110111110111101111111111110111011'\n",
    "s2 = '11111111111111111111111111011111101011111011110111110010100101001110111011110111111111110010011111101111111101110111011'\n",
    "cnt = 0\n",
    "for ss1, ss2 in zip(s1, s2):\n",
    "    if ss1 != ss2:\n",
    "        cnt += 1"
   ]
  },
  {
   "cell_type": "code",
   "execution_count": 9,
   "id": "68f72bc8-f92a-4dca-a4c7-58b14294cf30",
   "metadata": {},
   "outputs": [
    {
     "data": {
      "text/plain": [
       "30"
      ]
     },
     "execution_count": 9,
     "metadata": {},
     "output_type": "execute_result"
    }
   ],
   "source": [
    "cnt"
   ]
  },
  {
   "cell_type": "code",
   "execution_count": 10,
   "id": "8ce391b2-e1a5-4767-b580-651f73635ba8",
   "metadata": {},
   "outputs": [
    {
     "data": {
      "text/plain": [
       "(95, 95)"
      ]
     },
     "execution_count": 10,
     "metadata": {},
     "output_type": "execute_result"
    }
   ],
   "source": [
    "s1.count('1'), s2.count('1')"
   ]
  },
  {
   "cell_type": "code",
   "execution_count": null,
   "id": "e4b99fe4-00f9-46eb-92d1-6e700c68e89d",
   "metadata": {},
   "outputs": [],
   "source": []
  }
 ],
 "metadata": {
  "kernelspec": {
   "display_name": "Python 3",
   "language": "python",
   "name": "python3"
  },
  "language_info": {
   "codemirror_mode": {
    "name": "ipython",
    "version": 3
   },
   "file_extension": ".py",
   "mimetype": "text/x-python",
   "name": "python",
   "nbconvert_exporter": "python",
   "pygments_lexer": "ipython3",
   "version": "3.6.13"
  }
 },
 "nbformat": 4,
 "nbformat_minor": 5
}
