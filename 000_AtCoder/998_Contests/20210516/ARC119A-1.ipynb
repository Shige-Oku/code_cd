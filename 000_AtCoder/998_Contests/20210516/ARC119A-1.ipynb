{
 "cells": [
  {
   "cell_type": "code",
   "execution_count": 1,
   "id": "066e3daf-46e9-4207-89fc-d2ac7749b9a8",
   "metadata": {},
   "outputs": [],
   "source": [
    "import sys\n",
    "import numpy as np\n",
    "import math\n",
    "import collections\n",
    "import copy\n",
    "import decimal\n",
    "import itertools\n",
    "import re\n",
    "import bisect\n",
    "import scipy\n",
    "import heapq\n",
    "from collections import deque \n",
    "from functools import reduce\n",
    "from itertools import product\n",
    "from itertools import combinations\n",
    "from itertools import chain\n",
    "from functools import lru_cache\n",
    "from scipy.special import comb\n",
    "from numba import njit\n",
    "from bisect import bisect_right\n",
    "from bisect import bisect_left"
   ]
  },
  {
   "cell_type": "code",
   "execution_count": 21,
   "id": "c47dab8d-2f97-475d-98f7-004fa7d233a8",
   "metadata": {},
   "outputs": [
    {
     "name": "stdin",
     "output_type": "stream",
     "text": [
      " 1\n"
     ]
    }
   ],
   "source": [
    "N = int(input())"
   ]
  },
  {
   "cell_type": "code",
   "execution_count": 22,
   "id": "22bdb26b-fd03-4c16-b4aa-a16d3c1f0464",
   "metadata": {},
   "outputs": [],
   "source": [
    "ans = 10 **18\n",
    "for b in range(61):\n",
    "    a = N // (2**b)\n",
    "    c = N - a * (2**b)\n",
    "    ans = min(ans, a+b+c)"
   ]
  },
  {
   "cell_type": "code",
   "execution_count": 23,
   "id": "48ea0c52-534d-424b-bc6c-f2a54a0d0a13",
   "metadata": {},
   "outputs": [
    {
     "name": "stdout",
     "output_type": "stream",
     "text": [
      "1\n"
     ]
    }
   ],
   "source": [
    "print(ans)"
   ]
  },
  {
   "cell_type": "code",
   "execution_count": 4,
   "id": "4b20ce0c-5f00-499d-81c4-854b3a067563",
   "metadata": {},
   "outputs": [
    {
     "data": {
      "text/plain": [
       "True"
      ]
     },
     "execution_count": 4,
     "metadata": {},
     "output_type": "execute_result"
    }
   ],
   "source": [
    "2**60 > 10**18"
   ]
  },
  {
   "cell_type": "code",
   "execution_count": 6,
   "id": "9b4e5128-24d6-4e3c-9a60-9b1d6640275c",
   "metadata": {},
   "outputs": [
    {
     "data": {
      "text/plain": [
       "41.44653167389282"
      ]
     },
     "execution_count": 6,
     "metadata": {},
     "output_type": "execute_result"
    }
   ],
   "source": [
    "math.log(10**18)"
   ]
  },
  {
   "cell_type": "code",
   "execution_count": 12,
   "id": "5b11fe87-1fa8-4e96-b3b5-3943ac87bc75",
   "metadata": {},
   "outputs": [
    {
     "data": {
      "text/plain": [
       "True"
      ]
     },
     "execution_count": 12,
     "metadata": {},
     "output_type": "execute_result"
    }
   ],
   "source": [
    "2**60 > 10**18"
   ]
  },
  {
   "cell_type": "code",
   "execution_count": null,
   "id": "4a1eecd4-10dc-4a68-ad05-3d252485ada0",
   "metadata": {},
   "outputs": [],
   "source": []
  }
 ],
 "metadata": {
  "kernelspec": {
   "display_name": "Python 3",
   "language": "python",
   "name": "python3"
  },
  "language_info": {
   "codemirror_mode": {
    "name": "ipython",
    "version": 3
   },
   "file_extension": ".py",
   "mimetype": "text/x-python",
   "name": "python",
   "nbconvert_exporter": "python",
   "pygments_lexer": "ipython3",
   "version": "3.6.13"
  }
 },
 "nbformat": 4,
 "nbformat_minor": 5
}
