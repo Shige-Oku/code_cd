{
 "cells": [
  {
   "cell_type": "code",
   "execution_count": 1,
   "id": "c1500aae-b02b-44c6-ae29-4adeb7eb0d27",
   "metadata": {},
   "outputs": [],
   "source": [
    "import sys\n",
    "import numpy as np\n",
    "import math\n",
    "import collections\n",
    "import copy\n",
    "import decimal\n",
    "import itertools\n",
    "import re\n",
    "import bisect\n",
    "import scipy\n",
    "import heapq\n",
    "from collections import deque \n",
    "from functools import reduce\n",
    "from itertools import product\n",
    "from itertools import combinations\n",
    "from functools import lru_cache\n",
    "from scipy.special import comb\n",
    "from numba import njit\n",
    "from bisect import bisect_right\n",
    "from bisect import bisect_left"
   ]
  },
  {
   "cell_type": "code",
   "execution_count": 14,
   "id": "672f2277-aca5-455a-ad95-42cdbffb6f1e",
   "metadata": {},
   "outputs": [
    {
     "name": "stdin",
     "output_type": "stream",
     "text": [
      " 4\n"
     ]
    }
   ],
   "source": [
    "Q = int(input())"
   ]
  },
  {
   "cell_type": "code",
   "execution_count": 15,
   "id": "1c5ec355-0b87-4116-bde1-48db323cb483",
   "metadata": {},
   "outputs": [
    {
     "name": "stdin",
     "output_type": "stream",
     "text": [
      " 1 10000\n",
      " 1 1000\n",
      " 2 100 3\n",
      " 1 10\n"
     ]
    }
   ],
   "source": [
    "Qn = [list(map(int, input().split())) for _ in range(Q)]"
   ]
  },
  {
   "cell_type": "code",
   "execution_count": 21,
   "id": "27d7b5d5-35bf-48a0-b8d4-9ac7f779ff37",
   "metadata": {},
   "outputs": [],
   "source": [
    "d = {}\n",
    "ma = 0\n",
    "mi = 10 ** 10\n",
    "for q in(Qn):\n",
    "    if q[0] == 1:\n",
    "        if q[1] in d:\n",
    "            d[q[1]] += 1\n",
    "        else:\n",
    "            d[q[1]] = 1\n",
    "        ma = max(ma, q[1])\n",
    "        mi = min(mi, q[1])\n",
    "    elif q[0] == 2:\n",
    "        _, x, c = q\n",
    "        if x not in d:\n",
    "            continue\n",
    "        if d[x] > c:\n",
    "            d[x] -= c\n",
    "        else:\n",
    "            del d[x]\n",
    "            if mi < x < ma:\n",
    "                continue\n",
    "            key = [x for x in d.keys()]\n",
    "            li = sorted(key)\n",
    "            if len(li) > 0:\n",
    "                mi = li[0]\n",
    "                ma = li[-1]\n",
    "            else:\n",
    "                ma = 0\n",
    "                mi = 10 ** 10\n",
    "    else:\n",
    "        print(ma-mi)\n",
    "        "
   ]
  },
  {
   "cell_type": "code",
   "execution_count": 8,
   "id": "14c61c86-db38-4afe-842e-b954a7207a17",
   "metadata": {},
   "outputs": [
    {
     "data": {
      "text/plain": [
       "{}"
      ]
     },
     "execution_count": 8,
     "metadata": {},
     "output_type": "execute_result"
    }
   ],
   "source": [
    "d"
   ]
  },
  {
   "cell_type": "code",
   "execution_count": null,
   "id": "12167be7-5f65-4d23-a5e3-a7a66815d9db",
   "metadata": {},
   "outputs": [],
   "source": []
  }
 ],
 "metadata": {
  "kernelspec": {
   "display_name": "Python 3",
   "language": "python",
   "name": "python3"
  },
  "language_info": {
   "codemirror_mode": {
    "name": "ipython",
    "version": 3
   },
   "file_extension": ".py",
   "mimetype": "text/x-python",
   "name": "python",
   "nbconvert_exporter": "python",
   "pygments_lexer": "ipython3",
   "version": "3.6.13"
  }
 },
 "nbformat": 4,
 "nbformat_minor": 5
}
