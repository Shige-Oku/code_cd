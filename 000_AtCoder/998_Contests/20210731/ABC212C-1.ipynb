{
 "cells": [
  {
   "cell_type": "code",
   "execution_count": 1,
   "id": "8a5085b0-3787-42c2-add2-90b493f5845a",
   "metadata": {},
   "outputs": [],
   "source": [
    "import sys\n",
    "import numpy as np\n",
    "import math\n",
    "import collections\n",
    "import copy\n",
    "import decimal\n",
    "import itertools\n",
    "import re\n",
    "import bisect\n",
    "import scipy\n",
    "import heapq\n",
    "from collections import deque \n",
    "from functools import reduce\n",
    "from itertools import product\n",
    "from itertools import combinations\n",
    "from itertools import chain\n",
    "from functools import lru_cache\n",
    "from scipy.special import comb\n",
    "from numba import njit\n",
    "from bisect import bisect_right\n",
    "from bisect import bisect_left"
   ]
  },
  {
   "cell_type": "code",
   "execution_count": 18,
   "id": "c851fed9-cb6d-469d-8ace-1396f2e67bea",
   "metadata": {},
   "outputs": [
    {
     "name": "stdin",
     "output_type": "stream",
     "text": [
      " 6 8\n"
     ]
    }
   ],
   "source": [
    "N, M = map(int, input().split())"
   ]
  },
  {
   "cell_type": "code",
   "execution_count": 19,
   "id": "9ab54866-171c-4f83-8fba-ed6f5d1f134a",
   "metadata": {},
   "outputs": [
    {
     "name": "stdin",
     "output_type": "stream",
     "text": [
      " 82 76 82 82 71 70\n"
     ]
    }
   ],
   "source": [
    "An = list(map(int, input().split()))"
   ]
  },
  {
   "cell_type": "code",
   "execution_count": 20,
   "id": "7c8c4310-e063-4cfd-89ae-9413150e4530",
   "metadata": {},
   "outputs": [
    {
     "name": "stdin",
     "output_type": "stream",
     "text": [
      " 17 39 67 2 45 35 22 24\n"
     ]
    }
   ],
   "source": [
    "Bn = list(map(int, input().split()))"
   ]
  },
  {
   "cell_type": "code",
   "execution_count": 21,
   "id": "6ab2b745-096c-4524-9f6c-506b2831e698",
   "metadata": {},
   "outputs": [],
   "source": [
    "An_s = sorted(An)\n",
    "Bn_s = sorted(Bn)\n",
    "An_s.append(10**10)\n",
    "Bn_s.append(10**10)"
   ]
  },
  {
   "cell_type": "code",
   "execution_count": 26,
   "id": "929fb08b-03db-440d-a0bf-7fa532b321fb",
   "metadata": {},
   "outputs": [],
   "source": [
    "ans = 10**10\n",
    "i, j = 0, 0\n",
    "while i < N and j < M :\n",
    "    ans = min(ans, abs(An_s[i] - Bn_s[j]))\n",
    "    if An_s[i] > Bn_s[j]:\n",
    "        j += 1\n",
    "    else:\n",
    "        i += 1"
   ]
  },
  {
   "cell_type": "code",
   "execution_count": 27,
   "id": "1de30637-2c7b-4d4a-9ba9-bdcd41a61049",
   "metadata": {},
   "outputs": [
    {
     "name": "stdout",
     "output_type": "stream",
     "text": [
      "3\n"
     ]
    }
   ],
   "source": [
    "print(ans)"
   ]
  },
  {
   "cell_type": "code",
   "execution_count": 24,
   "id": "c92c7ba0-b1e5-49d5-9081-af2292da7419",
   "metadata": {},
   "outputs": [
    {
     "data": {
      "text/plain": [
       "[70, 71, 76, 82, 82, 82, 10000000000]"
      ]
     },
     "execution_count": 24,
     "metadata": {},
     "output_type": "execute_result"
    }
   ],
   "source": [
    "An_s"
   ]
  },
  {
   "cell_type": "code",
   "execution_count": 25,
   "id": "79aae255-af59-491e-afdb-581003914a6d",
   "metadata": {},
   "outputs": [
    {
     "data": {
      "text/plain": [
       "[2, 17, 22, 24, 35, 39, 45, 67, 10000000000]"
      ]
     },
     "execution_count": 25,
     "metadata": {},
     "output_type": "execute_result"
    }
   ],
   "source": [
    "Bn_s"
   ]
  },
  {
   "cell_type": "code",
   "execution_count": null,
   "id": "c6d1a9b4-f22f-4491-a265-c9176041f52f",
   "metadata": {},
   "outputs": [],
   "source": []
  }
 ],
 "metadata": {
  "kernelspec": {
   "display_name": "Python 3",
   "language": "python",
   "name": "python3"
  },
  "language_info": {
   "codemirror_mode": {
    "name": "ipython",
    "version": 3
   },
   "file_extension": ".py",
   "mimetype": "text/x-python",
   "name": "python",
   "nbconvert_exporter": "python",
   "pygments_lexer": "ipython3",
   "version": "3.6.13"
  }
 },
 "nbformat": 4,
 "nbformat_minor": 5
}
