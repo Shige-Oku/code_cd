{
 "cells": [
  {
   "cell_type": "code",
   "execution_count": 1,
   "id": "467c7352-bcde-429c-a2f7-d774f12ed418",
   "metadata": {},
   "outputs": [],
   "source": [
    "import sys\n",
    "import numpy as np\n",
    "import math\n",
    "import collections\n",
    "import copy\n",
    "import decimal\n",
    "import itertools\n",
    "import re\n",
    "import bisect\n",
    "import scipy\n",
    "import heapq\n",
    "from collections import deque \n",
    "from functools import reduce\n",
    "from itertools import product\n",
    "from itertools import combinations\n",
    "from itertools import chain\n",
    "from functools import lru_cache\n",
    "from scipy.special import comb\n",
    "from numba import njit\n",
    "from bisect import bisect_right\n",
    "from bisect import bisect_left"
   ]
  },
  {
   "cell_type": "code",
   "execution_count": 10,
   "id": "fea2e33c-6cfa-4ee1-81bc-45c5c6034612",
   "metadata": {},
   "outputs": [
    {
     "name": "stdin",
     "output_type": "stream",
     "text": [
      " 2B\n"
     ]
    }
   ],
   "source": [
    "S1 = input()"
   ]
  },
  {
   "cell_type": "code",
   "execution_count": 11,
   "id": "a4f38ee7-64f5-4216-85fd-6cbf74290817",
   "metadata": {},
   "outputs": [
    {
     "name": "stdin",
     "output_type": "stream",
     "text": [
      " 3B\n"
     ]
    }
   ],
   "source": [
    "S2 = input()"
   ]
  },
  {
   "cell_type": "code",
   "execution_count": 12,
   "id": "5e220394-3d1c-409e-88f8-cec2df4fd921",
   "metadata": {},
   "outputs": [
    {
     "name": "stdin",
     "output_type": "stream",
     "text": [
      " HR\n"
     ]
    }
   ],
   "source": [
    "S3 = input()"
   ]
  },
  {
   "cell_type": "code",
   "execution_count": 13,
   "id": "fa1c8f85-cc76-4e7f-b7bc-e0d8f9b1e575",
   "metadata": {},
   "outputs": [
    {
     "name": "stdin",
     "output_type": "stream",
     "text": [
      " 3B\n"
     ]
    }
   ],
   "source": [
    "S4 = input()"
   ]
  },
  {
   "cell_type": "code",
   "execution_count": 14,
   "id": "28cec79a-b8e7-4f13-a056-5c94a492653e",
   "metadata": {},
   "outputs": [],
   "source": [
    "l = [S1, S2, S3, S4]\n",
    "if 'H' in l:\n",
    "    flg1 = True\n",
    "else:\n",
    "    flg1 = False\n",
    "if '2B' in l:\n",
    "    flg2 = True\n",
    "else:\n",
    "    flg2 = False\n",
    "if '3B' in l:\n",
    "    flg3 = True\n",
    "else:\n",
    "    flg3 = False\n",
    "if 'HR' in l:\n",
    "    flg4 = True\n",
    "else:\n",
    "    flg4 = False"
   ]
  },
  {
   "cell_type": "code",
   "execution_count": 15,
   "id": "77c56403-5350-4e0c-94e6-0ac658cb0452",
   "metadata": {},
   "outputs": [
    {
     "name": "stdout",
     "output_type": "stream",
     "text": [
      "No\n"
     ]
    }
   ],
   "source": [
    "if flg1 & flg2 & flg3 & flg4:\n",
    "    print('Yes')\n",
    "else:\n",
    "    print('No')"
   ]
  },
  {
   "cell_type": "code",
   "execution_count": 7,
   "id": "bb7b6484-7ee6-467e-aadd-f28cc9be260a",
   "metadata": {},
   "outputs": [
    {
     "data": {
      "text/plain": [
       "['3B', 'HR', '2B', 'H']"
      ]
     },
     "execution_count": 7,
     "metadata": {},
     "output_type": "execute_result"
    }
   ],
   "source": [
    "l"
   ]
  },
  {
   "cell_type": "code",
   "execution_count": null,
   "id": "51585670-8dac-4adf-a2f8-c9f32c0d3e1d",
   "metadata": {},
   "outputs": [],
   "source": []
  }
 ],
 "metadata": {
  "kernelspec": {
   "display_name": "Python 3",
   "language": "python",
   "name": "python3"
  },
  "language_info": {
   "codemirror_mode": {
    "name": "ipython",
    "version": 3
   },
   "file_extension": ".py",
   "mimetype": "text/x-python",
   "name": "python",
   "nbconvert_exporter": "python",
   "pygments_lexer": "ipython3",
   "version": "3.6.13"
  }
 },
 "nbformat": 4,
 "nbformat_minor": 5
}
