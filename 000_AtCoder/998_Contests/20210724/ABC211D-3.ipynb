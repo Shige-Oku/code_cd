{
 "cells": [
  {
   "cell_type": "code",
   "execution_count": null,
   "id": "2ac620a2-a62d-49cf-bfd6-9050d247add2",
   "metadata": {},
   "outputs": [],
   "source": [
    "# 解説を読んで実装"
   ]
  },
  {
   "cell_type": "code",
   "execution_count": 1,
   "id": "bee7b94e-5cb4-4b5f-b3f3-a2545c53b6e4",
   "metadata": {},
   "outputs": [],
   "source": [
    "import sys\n",
    "import numpy as np\n",
    "import math\n",
    "import collections\n",
    "import copy\n",
    "import decimal\n",
    "import itertools\n",
    "import re\n",
    "import bisect\n",
    "import scipy\n",
    "import heapq\n",
    "from collections import deque \n",
    "from functools import reduce\n",
    "from itertools import product\n",
    "from itertools import combinations\n",
    "from itertools import chain\n",
    "from functools import lru_cache\n",
    "from scipy.special import comb\n",
    "from numba import njit\n",
    "from bisect import bisect_right\n",
    "from bisect import bisect_left"
   ]
  },
  {
   "cell_type": "code",
   "execution_count": 2,
   "id": "cf1acd8a-68e6-46e8-9210-37a956d9b09c",
   "metadata": {},
   "outputs": [
    {
     "name": "stdin",
     "output_type": "stream",
     "text": [
      " 7 8\n"
     ]
    }
   ],
   "source": [
    "N, M = map(int, input().split())"
   ]
  },
  {
   "cell_type": "code",
   "execution_count": 3,
   "id": "6cae16fa-f1b3-4f7f-b917-8ee21b64c2ec",
   "metadata": {},
   "outputs": [
    {
     "name": "stdin",
     "output_type": "stream",
     "text": [
      " 1 3\n",
      " 1 4\n",
      " 2 3\n",
      " 2 4\n",
      " 2 5\n",
      " 2 6\n",
      " 5 7\n",
      " 6 7\n"
     ]
    }
   ],
   "source": [
    "AB = [list(map(int, input().split())) for _ in range(M)]"
   ]
  },
  {
   "cell_type": "code",
   "execution_count": 4,
   "id": "b2d9d564-798f-4bb3-b4df-415b5eeb82d3",
   "metadata": {},
   "outputs": [],
   "source": [
    "graph = [[] for _ in range(N+1)]\n",
    "for A, B in AB:\n",
    "    graph[A].append(B)\n",
    "    graph[B].append(A)"
   ]
  },
  {
   "cell_type": "code",
   "execution_count": 24,
   "id": "1509150d-deda-4c29-b024-815e3f5dfc28",
   "metadata": {},
   "outputs": [],
   "source": [
    "def BFS():\n",
    "    dis[1] = 0\n",
    "    visit[1] = True\n",
    "    ans[1] = 1\n",
    "    q = deque()\n",
    "    q.append(1)\n",
    "    while q:\n",
    "        p = q.popleft()\n",
    "        for g in graph[p]:\n",
    "            if dis[g] == -1:\n",
    "                dis[g] = dis[p] + 1\n",
    "                visit[g] = True\n",
    "                ans[g] = ans[p]\n",
    "                q.append(g)\n",
    "            elif dis[g] == dis[p] + 1:\n",
    "                ans[g] += ans[p]\n",
    "                ans[g] %= 10**9 + 7\n",
    "    return"
   ]
  },
  {
   "cell_type": "code",
   "execution_count": 25,
   "id": "801f7556-5c5f-4568-84cc-9fc3bfa41f09",
   "metadata": {},
   "outputs": [],
   "source": [
    "dis = [-1] * (N+1)\n",
    "visit = [False] * (N+1)\n",
    "ans = [0] * (N+1)\n",
    "BFS()"
   ]
  },
  {
   "cell_type": "code",
   "execution_count": 26,
   "id": "3bdcdf57-42e2-439e-916d-b4e76cbf9836",
   "metadata": {},
   "outputs": [
    {
     "name": "stdout",
     "output_type": "stream",
     "text": [
      "4\n"
     ]
    }
   ],
   "source": [
    "print(ans[N])"
   ]
  },
  {
   "cell_type": "code",
   "execution_count": 22,
   "id": "a29f4b38-57f2-4aa6-a4d5-7d15d7efac39",
   "metadata": {},
   "outputs": [
    {
     "data": {
      "text/plain": [
       "[-1, 0, 2, 1, 1, 3, 3, 4]"
      ]
     },
     "execution_count": 22,
     "metadata": {},
     "output_type": "execute_result"
    }
   ],
   "source": [
    "dis"
   ]
  },
  {
   "cell_type": "code",
   "execution_count": 23,
   "id": "940ddf4d-3b8f-4789-a6e7-670b4764b9bc",
   "metadata": {},
   "outputs": [
    {
     "data": {
      "text/plain": [
       "[0, 1, 2, 1, 1, 2, 2, 3]"
      ]
     },
     "execution_count": 23,
     "metadata": {},
     "output_type": "execute_result"
    }
   ],
   "source": [
    "ans"
   ]
  },
  {
   "cell_type": "code",
   "execution_count": null,
   "id": "63b6d6c3-7eca-4668-9978-30f840503826",
   "metadata": {},
   "outputs": [],
   "source": []
  }
 ],
 "metadata": {
  "kernelspec": {
   "display_name": "Python 3",
   "language": "python",
   "name": "python3"
  },
  "language_info": {
   "codemirror_mode": {
    "name": "ipython",
    "version": 3
   },
   "file_extension": ".py",
   "mimetype": "text/x-python",
   "name": "python",
   "nbconvert_exporter": "python",
   "pygments_lexer": "ipython3",
   "version": "3.6.13"
  }
 },
 "nbformat": 4,
 "nbformat_minor": 5
}
