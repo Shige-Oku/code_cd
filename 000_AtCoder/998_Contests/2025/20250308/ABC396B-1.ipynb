{
 "cells": [
  {
   "cell_type": "code",
   "execution_count": 1,
   "id": "e13c42f2-a303-4c7b-b42a-0d65adbe2433",
   "metadata": {
    "tags": []
   },
   "outputs": [],
   "source": [
    "import sys\n",
    "import numpy as np\n",
    "import math\n",
    "import collections\n",
    "import copy\n",
    "import decimal\n",
    "import itertools\n",
    "import re\n",
    "import bisect\n",
    "import scipy\n",
    "import heapq\n",
    "from collections import deque \n",
    "from functools import reduce\n",
    "from itertools import product\n",
    "from itertools import combinations\n",
    "from functools import lru_cache\n",
    "from scipy.special import comb\n",
    "from numba import njit\n",
    "from bisect import bisect_right\n",
    "from bisect import bisect_left\n",
    "from atcoder.fenwicktree import FenwickTree\n",
    "from sortedcontainers import SortedSet, SortedList, SortedDict"
   ]
  },
  {
   "cell_type": "code",
   "execution_count": 2,
   "id": "9cab46fd-43c4-4512-b254-2bb47ac625fa",
   "metadata": {
    "tags": []
   },
   "outputs": [
    {
     "name": "stdin",
     "output_type": "stream",
     "text": [
      " 6\n"
     ]
    }
   ],
   "source": [
    "Q = int(input())"
   ]
  },
  {
   "cell_type": "code",
   "execution_count": 3,
   "id": "0bbbb803-e9d9-4dc4-b868-261bf83aaec6",
   "metadata": {
    "tags": []
   },
   "outputs": [
    {
     "name": "stdin",
     "output_type": "stream",
     "text": [
      " 2\n",
      " 1 4\n",
      " 1 3\n",
      " 2\n",
      " 2\n",
      " 2\n"
     ]
    }
   ],
   "source": [
    "Queryq = [list(map(int, input().split())) for _ in range(Q)]"
   ]
  },
  {
   "cell_type": "code",
   "execution_count": 4,
   "id": "5c633bc6-b5d2-4c19-bf40-2f2ef9f0646b",
   "metadata": {
    "tags": []
   },
   "outputs": [
    {
     "name": "stdout",
     "output_type": "stream",
     "text": [
      "0\n",
      "3\n",
      "4\n",
      "0\n"
     ]
    }
   ],
   "source": [
    "cards = []\n",
    "for Query in Queryq:\n",
    "    if Query[0] == 1:\n",
    "        _, num = Query\n",
    "        cards.append(num)\n",
    "    else:\n",
    "        if len(cards) == 0:\n",
    "            print(0)\n",
    "        else:\n",
    "            print(cards[-1])\n",
    "            cards.pop()"
   ]
  },
  {
   "cell_type": "code",
   "execution_count": null,
   "id": "48601c95-162f-48fb-9654-3493342acee6",
   "metadata": {},
   "outputs": [],
   "source": []
  }
 ],
 "metadata": {
  "kernelspec": {
   "display_name": "Python 3 (ipykernel)",
   "language": "python",
   "name": "python3"
  },
  "language_info": {
   "codemirror_mode": {
    "name": "ipython",
    "version": 3
   },
   "file_extension": ".py",
   "mimetype": "text/x-python",
   "name": "python",
   "nbconvert_exporter": "python",
   "pygments_lexer": "ipython3",
   "version": "3.11.3"
  }
 },
 "nbformat": 4,
 "nbformat_minor": 5
}
