{
 "cells": [
  {
   "cell_type": "code",
   "execution_count": 1,
   "id": "720c0e06-d00b-4a0c-98f8-4c78b4d9c316",
   "metadata": {
    "tags": []
   },
   "outputs": [],
   "source": [
    "import sys\n",
    "import numpy as np\n",
    "import math\n",
    "import collections\n",
    "import copy\n",
    "import decimal\n",
    "import itertools\n",
    "import re\n",
    "import bisect\n",
    "import scipy\n",
    "import heapq\n",
    "from collections import deque \n",
    "from functools import reduce\n",
    "from itertools import product\n",
    "from itertools import combinations\n",
    "from functools import lru_cache\n",
    "from scipy.special import comb\n",
    "from numba import njit\n",
    "from bisect import bisect_right\n",
    "from bisect import bisect_left\n",
    "from atcoder.fenwicktree import FenwickTree\n",
    "from sortedcontainers import SortedSet, SortedList, SortedDict"
   ]
  },
  {
   "cell_type": "code",
   "execution_count": 48,
   "id": "25efd5b0-43a6-47f1-a13f-9cc7bb874e3a",
   "metadata": {
    "tags": []
   },
   "outputs": [
    {
     "name": "stdin",
     "output_type": "stream",
     "text": [
      " 3 5\n"
     ]
    }
   ],
   "source": [
    "N, M = map(int, input().split())"
   ]
  },
  {
   "cell_type": "code",
   "execution_count": 49,
   "id": "3f93885d-3e9c-4b91-a297-af38a4960ea0",
   "metadata": {
    "tags": []
   },
   "outputs": [
    {
     "name": "stdin",
     "output_type": "stream",
     "text": [
      " -36 -33 -31\n"
     ]
    }
   ],
   "source": [
    "Bn = list(map(int, input().split()))"
   ]
  },
  {
   "cell_type": "code",
   "execution_count": 50,
   "id": "e3991f53-1afc-44c2-b4a3-bab8b2a45a42",
   "metadata": {
    "tags": []
   },
   "outputs": [
    {
     "name": "stdin",
     "output_type": "stream",
     "text": [
      " 12 12 28 24 27\n"
     ]
    }
   ],
   "source": [
    "Wm = list(map(int, input().split()))"
   ]
  },
  {
   "cell_type": "code",
   "execution_count": 91,
   "id": "e10ad7bc-03a3-40fe-b472-0e82ed7eb67f",
   "metadata": {
    "tags": []
   },
   "outputs": [],
   "source": [
    "from itertools import accumulate\n",
    "Bn_s = sorted(Bn, reverse=True)\n",
    "Wm_s = sorted(Wm, reverse=True)\n",
    "Wm_s = Wm_s[:N]\n",
    "Bn_c = [0] + list(accumulate(Bn_s))\n",
    "Bn_c2 = [-10**20] + list(accumulate(Bn_s))\n",
    "Wm_c = [0] + list(accumulate(Wm_s))\n",
    "maxc = max(Bn_c)\n",
    "for i in range(1, N+1):\n",
    "    Bn_c2[i] = max(Bn_c2[i-1], Bn_c2[i])\n",
    "\n",
    "for _ in range(max(0, M-N+1)):\n",
    "    Bn_c.append(Bn_c[-1]-1)\n",
    "    Bn_c2.append(Bn_c2[-1])"
   ]
  },
  {
   "cell_type": "code",
   "execution_count": 92,
   "id": "551d1a34-00a5-4520-9af9-303c5ea811d9",
   "metadata": {
    "tags": []
   },
   "outputs": [],
   "source": [
    "ans = 0\n",
    "for i in range(1, min(N+1, M+1)):\n",
    "    # print(i)\n",
    "    c = Bn_c[i] + Wm_c[i]\n",
    "    if Bn_c[i] < Bn_c[i+1]:\n",
    "        c = maxc + Wm_c[i]\n",
    "    ans = max(ans, c)\n",
    "    # print(ans)"
   ]
  },
  {
   "cell_type": "code",
   "execution_count": 89,
   "id": "491dd776-462f-4559-a806-a0be38f8fa0f",
   "metadata": {
    "tags": []
   },
   "outputs": [
    {
     "name": "stdout",
     "output_type": "stream",
     "text": [
      "0\n"
     ]
    }
   ],
   "source": [
    "print(ans)"
   ]
  },
  {
   "cell_type": "code",
   "execution_count": 86,
   "id": "5288fe58-8586-466b-b814-39987ac46775",
   "metadata": {
    "tags": []
   },
   "outputs": [
    {
     "data": {
      "text/plain": [
       "([-31, -33, -36],\n",
       " [0, -31, -64, -100, -101, -102, -103],\n",
       " [28, 27, 24],\n",
       " [0, 28, 55, 79])"
      ]
     },
     "execution_count": 86,
     "metadata": {},
     "output_type": "execute_result"
    }
   ],
   "source": [
    "Bn_s, Bn_c, Wm_s, Wm_c"
   ]
  },
  {
   "cell_type": "code",
   "execution_count": 87,
   "id": "3222231b-eb72-4010-9c78-c6a82f83a924",
   "metadata": {
    "tags": []
   },
   "outputs": [
    {
     "data": {
      "text/plain": [
       "[-100000000000000000000, -31, -31, -31, -31, -31, -31]"
      ]
     },
     "execution_count": 87,
     "metadata": {},
     "output_type": "execute_result"
    }
   ],
   "source": [
    "Bn_c2"
   ]
  },
  {
   "cell_type": "code",
   "execution_count": 61,
   "id": "6ba77371-2a12-43c5-9537-8d34ac19f595",
   "metadata": {
    "tags": []
   },
   "outputs": [
    {
     "data": {
      "text/plain": [
       "5"
      ]
     },
     "execution_count": 61,
     "metadata": {},
     "output_type": "execute_result"
    }
   ],
   "source": [
    "i"
   ]
  },
  {
   "cell_type": "code",
   "execution_count": null,
   "id": "156ce104-a32f-4769-82f9-6e122fb153c4",
   "metadata": {},
   "outputs": [],
   "source": []
  }
 ],
 "metadata": {
  "kernelspec": {
   "display_name": "Python 3 (ipykernel)",
   "language": "python",
   "name": "python3"
  },
  "language_info": {
   "codemirror_mode": {
    "name": "ipython",
    "version": 3
   },
   "file_extension": ".py",
   "mimetype": "text/x-python",
   "name": "python",
   "nbconvert_exporter": "python",
   "pygments_lexer": "ipython3",
   "version": "3.11.3"
  }
 },
 "nbformat": 4,
 "nbformat_minor": 5
}
