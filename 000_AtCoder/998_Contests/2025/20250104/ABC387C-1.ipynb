{
 "cells": [
  {
   "cell_type": "code",
   "execution_count": 1,
   "id": "430c6bc9-3032-41bd-8380-32730992f6e3",
   "metadata": {
    "tags": []
   },
   "outputs": [],
   "source": [
    "import sys\n",
    "import numpy as np\n",
    "import math\n",
    "import collections\n",
    "import copy\n",
    "import decimal\n",
    "import itertools\n",
    "import re\n",
    "import bisect\n",
    "import scipy\n",
    "import heapq\n",
    "from collections import deque \n",
    "from functools import reduce\n",
    "from itertools import product\n",
    "from itertools import combinations\n",
    "from functools import lru_cache\n",
    "from scipy.special import comb\n",
    "from numba import njit\n",
    "from bisect import bisect_right\n",
    "from bisect import bisect_left\n",
    "from atcoder.fenwicktree import FenwickTree\n",
    "from sortedcontainers import SortedSet, SortedList, SortedDict"
   ]
  },
  {
   "cell_type": "code",
   "execution_count": 61,
   "id": "3ca841d7-460a-48f0-9b32-07988c5a7f84",
   "metadata": {
    "tags": []
   },
   "outputs": [
    {
     "name": "stdin",
     "output_type": "stream",
     "text": [
      " 97 210\n"
     ]
    }
   ],
   "source": [
    "L, R = map(int, input().split())"
   ]
  },
  {
   "cell_type": "code",
   "execution_count": 64,
   "id": "24302342-ac4f-4238-86db-b074e48acc91",
   "metadata": {
    "tags": []
   },
   "outputs": [],
   "source": [
    "def dfs(n):\n",
    "    ret = 0\n",
    "    s = str(n)\n",
    "    for i in range(2, len(s)):\n",
    "        for j in range(1, 10):\n",
    "            ret += pow(j, i-1)\n",
    "    print(ret)\n",
    "    return ret"
   ]
  },
  {
   "cell_type": "code",
   "execution_count": null,
   "id": "6143c480-fbbc-42cc-ba1c-9b707eb54423",
   "metadata": {},
   "outputs": [],
   "source": []
  },
  {
   "cell_type": "code",
   "execution_count": 62,
   "id": "837a82ff-d267-451f-9ca8-3d06658c46a4",
   "metadata": {
    "tags": []
   },
   "outputs": [],
   "source": [
    "def solve(n):\n",
    "    ret = 0\n",
    "    s = str(n)\n",
    "    for i in range(2, len(s)):\n",
    "        for j in range(1, 10):\n",
    "            ret += pow(j, i-1)\n",
    "    print(ret)\n",
    "    for i in range(1, int(s[0])):\n",
    "        ret += pow(i, len(s)-1)\n",
    "    cnt = 1\n",
    "    sentou = int(s[0])\n",
    "    print(ret)\n",
    "    for ss in s[1:]:\n",
    "        if sentou <= int(ss):\n",
    "            cnt *= sentou\n",
    "        else:\n",
    "            cnt *= int(ss) + 1\n",
    "    else:\n",
    "        cnt += 1\n",
    "        # cnt *= max(sentou, int(ss))\n",
    "    ret += cnt\n",
    "    print(ret)\n",
    "    return ret"
   ]
  },
  {
   "cell_type": "code",
   "execution_count": 63,
   "id": "bd05507d-48f5-4af0-95ce-182ac7ebd941",
   "metadata": {
    "tags": []
   },
   "outputs": [
    {
     "name": "stdout",
     "output_type": "stream",
     "text": [
      "45\n",
      "46\n",
      "49\n",
      "0\n",
      "36\n",
      "44\n",
      "5\n"
     ]
    }
   ],
   "source": [
    "print(solve(R) - solve(L-1))"
   ]
  },
  {
   "cell_type": "code",
   "execution_count": 7,
   "id": "aa8cdbfe-01f0-4e6d-b0c8-c3f5255106ed",
   "metadata": {
    "tags": []
   },
   "outputs": [
    {
     "data": {
      "text/plain": [
       "'210'"
      ]
     },
     "execution_count": 7,
     "metadata": {},
     "output_type": "execute_result"
    }
   ],
   "source": [
    "str(R)"
   ]
  },
  {
   "cell_type": "code",
   "execution_count": 31,
   "id": "d8485884-8038-436a-90fd-1961459b1c37",
   "metadata": {
    "tags": []
   },
   "outputs": [
    {
     "name": "stdout",
     "output_type": "stream",
     "text": [
      "46\n",
      "45\n",
      "45\n"
     ]
    },
    {
     "data": {
      "text/plain": [
       "(46, 45, 45)"
      ]
     },
     "execution_count": 31,
     "metadata": {},
     "output_type": "execute_result"
    }
   ],
   "source": [
    "solve(100), solve(97), solve(96)"
   ]
  },
  {
   "cell_type": "code",
   "execution_count": 54,
   "id": "fe819431-d468-4497-aea2-2fcf1e4cd413",
   "metadata": {
    "tags": []
   },
   "outputs": [
    {
     "name": "stdout",
     "output_type": "stream",
     "text": [
      "45\n",
      "46\n",
      "49\n"
     ]
    },
    {
     "data": {
      "text/plain": [
       "49"
      ]
     },
     "execution_count": 54,
     "metadata": {},
     "output_type": "execute_result"
    }
   ],
   "source": [
    "solve(210)"
   ]
  },
  {
   "cell_type": "code",
   "execution_count": 37,
   "id": "cfc06431-d4b5-4e3f-88d4-b6c63c79a96b",
   "metadata": {
    "tags": []
   },
   "outputs": [
    {
     "name": "stdout",
     "output_type": "stream",
     "text": [
      "36\n",
      "43\n"
     ]
    },
    {
     "data": {
      "text/plain": [
       "43"
      ]
     },
     "execution_count": 37,
     "metadata": {},
     "output_type": "execute_result"
    }
   ],
   "source": [
    "solve(97)"
   ]
  },
  {
   "cell_type": "code",
   "execution_count": 51,
   "id": "f1a688bc-2d70-4851-9f32-16362278c32d",
   "metadata": {
    "tags": []
   },
   "outputs": [
    {
     "name": "stdout",
     "output_type": "stream",
     "text": [
      "45\n",
      "47\n"
     ]
    },
    {
     "data": {
      "text/plain": [
       "47"
      ]
     },
     "execution_count": 51,
     "metadata": {},
     "output_type": "execute_result"
    }
   ],
   "source": [
    "solve(100)"
   ]
  },
  {
   "cell_type": "code",
   "execution_count": 49,
   "id": "4525f28e-4bbd-4cb5-b662-ca31956263bf",
   "metadata": {
    "tags": []
   },
   "outputs": [
    {
     "name": "stdout",
     "output_type": "stream",
     "text": [
      "45\n",
      "47\n",
      "36\n",
      "45\n",
      "36\n",
      "44\n"
     ]
    },
    {
     "data": {
      "text/plain": [
       "(47, 45, 44)"
      ]
     },
     "execution_count": 49,
     "metadata": {},
     "output_type": "execute_result"
    }
   ],
   "source": [
    "solve(100), solve(97),solve(96)"
   ]
  },
  {
   "cell_type": "code",
   "execution_count": null,
   "id": "efffe250-f65e-4387-8db4-1ba65ef3eac0",
   "metadata": {},
   "outputs": [],
   "source": []
  }
 ],
 "metadata": {
  "kernelspec": {
   "display_name": "Python 3 (ipykernel)",
   "language": "python",
   "name": "python3"
  },
  "language_info": {
   "codemirror_mode": {
    "name": "ipython",
    "version": 3
   },
   "file_extension": ".py",
   "mimetype": "text/x-python",
   "name": "python",
   "nbconvert_exporter": "python",
   "pygments_lexer": "ipython3",
   "version": "3.11.3"
  }
 },
 "nbformat": 4,
 "nbformat_minor": 5
}
