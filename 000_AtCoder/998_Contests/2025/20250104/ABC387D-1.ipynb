{
 "cells": [
  {
   "cell_type": "code",
   "execution_count": 1,
   "id": "9f2a5050-ab16-4654-8121-931cd6fba6a4",
   "metadata": {
    "tags": []
   },
   "outputs": [],
   "source": [
    "import sys\n",
    "import numpy as np\n",
    "import math\n",
    "import collections\n",
    "import copy\n",
    "import decimal\n",
    "import itertools\n",
    "import re\n",
    "import bisect\n",
    "import scipy\n",
    "import heapq\n",
    "from collections import deque \n",
    "from functools import reduce\n",
    "from itertools import product\n",
    "from itertools import combinations\n",
    "from functools import lru_cache\n",
    "from scipy.special import comb\n",
    "from numba import njit\n",
    "from bisect import bisect_right\n",
    "from bisect import bisect_left\n",
    "from atcoder.fenwicktree import FenwickTree\n",
    "from sortedcontainers import SortedSet, SortedList, SortedDict"
   ]
  },
  {
   "cell_type": "code",
   "execution_count": 2,
   "id": "27b76ed3-e342-4afa-88f5-566171116137",
   "metadata": {
    "tags": []
   },
   "outputs": [
    {
     "name": "stdin",
     "output_type": "stream",
     "text": [
      " 3 5\n"
     ]
    }
   ],
   "source": [
    "H, W = map(int, input().split())"
   ]
  },
  {
   "cell_type": "code",
   "execution_count": 3,
   "id": "209b19e9-a9ec-43ae-8e06-9a673ef948c9",
   "metadata": {
    "tags": []
   },
   "outputs": [
    {
     "name": "stdin",
     "output_type": "stream",
     "text": [
      " .S#.G\n",
      " .....\n",
      " .#...\n"
     ]
    }
   ],
   "source": [
    "Sh = [input() for _ in range(H)]"
   ]
  },
  {
   "cell_type": "code",
   "execution_count": 33,
   "id": "31297a49-4cc2-49b5-a135-460dc7e659bf",
   "metadata": {
    "tags": []
   },
   "outputs": [],
   "source": [
    "from collections import deque\n",
    "def bfs(f):\n",
    "    for h in range(H):\n",
    "        for w in range(W):\n",
    "            if Sh[h][w] == 'S':\n",
    "                sh, sw = h, w\n",
    "    q = deque()\n",
    "    q.append((sh, sw, f))\n",
    "    cost = [[10**20] * W for _ in range(H)]\n",
    "    cost[sh][sw] = 0\n",
    "    # print(sh, sw)\n",
    "    while q:\n",
    "        h, w, fl = q.popleft()\n",
    "        # print(h, w, fl)\n",
    "        for d in (-1, 1):\n",
    "            nh, nw = h, w\n",
    "            if fl:\n",
    "                nh = h + d\n",
    "            else:\n",
    "                nw = w + d\n",
    "            if nh < 0 or nw < 0:\n",
    "                continue\n",
    "            if nh >= H or nw >= W:\n",
    "                continue\n",
    "            if cost[nh][nw] != 10**20:\n",
    "                continue\n",
    "            if Sh[nh][nw] == '#':\n",
    "                continue\n",
    "            if Sh[nh][nw] == 'G':\n",
    "                return cost[h][w] + 1\n",
    "            q.append((nh, nw, not fl))\n",
    "            cost[nh][nw] = cost[h][w] + 1\n",
    "    return 10**20"
   ]
  },
  {
   "cell_type": "code",
   "execution_count": 34,
   "id": "d2bee178-47cf-4da9-9f24-d4dd6c54df5a",
   "metadata": {
    "tags": []
   },
   "outputs": [
    {
     "name": "stdout",
     "output_type": "stream",
     "text": [
      "7\n"
     ]
    }
   ],
   "source": [
    "r1 = bfs(True)\n",
    "r2 = bfs(False)\n",
    "if min(r1, r2) == 10**20:\n",
    "    print(-1)\n",
    "else:\n",
    "    print(min(r1, r2))"
   ]
  },
  {
   "cell_type": "code",
   "execution_count": 32,
   "id": "ae440d99-7206-401d-a9c3-c5032224fe72",
   "metadata": {
    "tags": []
   },
   "outputs": [
    {
     "name": "stdout",
     "output_type": "stream",
     "text": [
      "0 1 False\n",
      "0 0 True\n",
      "1 0 False\n",
      "1 1 True\n"
     ]
    },
    {
     "data": {
      "text/plain": [
       "100000000000000000000"
      ]
     },
     "execution_count": 32,
     "metadata": {},
     "output_type": "execute_result"
    }
   ],
   "source": [
    "bfs(False)"
   ]
  },
  {
   "cell_type": "code",
   "execution_count": null,
   "id": "ae1e96e9-cb06-4889-bf7f-ca18c1b9602c",
   "metadata": {},
   "outputs": [],
   "source": []
  }
 ],
 "metadata": {
  "kernelspec": {
   "display_name": "Python 3 (ipykernel)",
   "language": "python",
   "name": "python3"
  },
  "language_info": {
   "codemirror_mode": {
    "name": "ipython",
    "version": 3
   },
   "file_extension": ".py",
   "mimetype": "text/x-python",
   "name": "python",
   "nbconvert_exporter": "python",
   "pygments_lexer": "ipython3",
   "version": "3.11.3"
  }
 },
 "nbformat": 4,
 "nbformat_minor": 5
}
