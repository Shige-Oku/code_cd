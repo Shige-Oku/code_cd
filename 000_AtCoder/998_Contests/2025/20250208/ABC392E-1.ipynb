{
 "cells": [
  {
   "cell_type": "code",
   "execution_count": 1,
   "id": "31b2af3a-d0ad-455e-840a-1ad8a88b7e7f",
   "metadata": {
    "tags": []
   },
   "outputs": [],
   "source": [
    "import sys\n",
    "import numpy as np\n",
    "import math\n",
    "import collections\n",
    "import copy\n",
    "import decimal\n",
    "import itertools\n",
    "import re\n",
    "import bisect\n",
    "import scipy\n",
    "import heapq\n",
    "from collections import deque \n",
    "from functools import reduce\n",
    "from itertools import product\n",
    "from itertools import combinations\n",
    "from functools import lru_cache\n",
    "from scipy.special import comb\n",
    "from numba import njit\n",
    "from bisect import bisect_right\n",
    "from bisect import bisect_left\n",
    "from atcoder.fenwicktree import FenwickTree\n",
    "from sortedcontainers import SortedSet, SortedList, SortedDict"
   ]
  },
  {
   "cell_type": "code",
   "execution_count": 2,
   "id": "998775fd-e172-403f-b549-b52520d42c93",
   "metadata": {
    "tags": []
   },
   "outputs": [
    {
     "name": "stdin",
     "output_type": "stream",
     "text": [
      " 5 4\n"
     ]
    }
   ],
   "source": [
    "N, M = map(int, input().split())"
   ]
  },
  {
   "cell_type": "code",
   "execution_count": 3,
   "id": "f75bd3d2-4c91-4deb-8617-5b2f4a313e09",
   "metadata": {
    "tags": []
   },
   "outputs": [
    {
     "name": "stdin",
     "output_type": "stream",
     "text": [
      " 3 3\n",
      " 3 3\n",
      " 3 3\n",
      " 3 3\n"
     ]
    }
   ],
   "source": [
    "ABm = [list(map(int, input().split())) for _ in range(M)]"
   ]
  },
  {
   "cell_type": "code",
   "execution_count": 5,
   "id": "529d65de-60cf-419c-b632-a6352c3659b7",
   "metadata": {
    "tags": []
   },
   "outputs": [],
   "source": [
    "from collections import defaultdict\n",
    "import sys\n",
    "sys.setrecursionlimit(10**7)\n",
    "class UnionFind():\n",
    "    # イニシャライザ\n",
    "    def __init__(self, n):\n",
    "        self.n = n  # 頂点の数\n",
    "        self.parents = [-1] * n  # 親の頂点。根は -1\n",
    "        self.size = [1] * n  # 各頂点の所属する木の頂点数\n",
    "        sys.setrecursionlimit(10**7)\n",
    "        \n",
    "    # 根を返す\n",
    "    def root(self, x):\n",
    "        if self.parents[x] < 0: # 根なのでそのまま返す\n",
    "            return x\n",
    "        else:\n",
    "            self.parents[x] = self.root(self.parents[x])  # 経路圧縮\n",
    "            return self.parents[x]\n",
    "        \n",
    "    # x, y が同じ木に属するか\n",
    "    def issame(self, x, y):\n",
    "        return self.root(x) == self.root(y)\n",
    "    \n",
    "    # x y を併合する    \n",
    "    def unite(self, x, y):\n",
    "        x = self.root(x)\n",
    "        y = self.root(y)\n",
    "        \n",
    "        # 元々同じ木に所属するので、何もせずリターン\n",
    "        if x == y:\n",
    "            return False\n",
    "        \n",
    "        # 大きいほうにまとめる。 y を x にまとめるようにスワップ\n",
    "        if self.parents[x] < self.parents[y]:\n",
    "            x, y = y, x\n",
    "        # 小さいほうの親を大きいほうを親に\n",
    "        self.parents[y] = x\n",
    "        # 大きいほうの頂点に小さいほうの数を加算\n",
    "        self.size[x] += self.size[y]\n",
    "        return True\n",
    "    \n",
    "    # x の所属する頂点数を返す\n",
    "    def getsize(self, x):\n",
    "        return self.size[self.root(x)]\n",
    "\n",
    "    # x の所属する頂点の一覧を返す\n",
    "    def getmembers(self, x):\n",
    "        root = self.root(x)\n",
    "        return [i for i in range(self.n) if self.root(i) == root]   "
   ]
  },
  {
   "cell_type": "code",
   "execution_count": 25,
   "id": "6fe29d46-4b63-4e7d-83b8-a8ce9e499fa1",
   "metadata": {
    "tags": []
   },
   "outputs": [],
   "source": [
    "uf = UnionFind(N+1)\n",
    "amari = []\n",
    "for i, (A, B) in enumerate(ABm, 1):\n",
    "    if A == B:\n",
    "        amari.append([A, B, i])\n",
    "        continue\n",
    "    if uf.issame(A, B):\n",
    "        amari.append([A, B, i])\n",
    "        continue\n",
    "    uf.unite(A, B)\n"
   ]
  },
  {
   "cell_type": "code",
   "execution_count": 26,
   "id": "56d36b9f-7ac5-4bea-a181-02ad81472ae5",
   "metadata": {
    "tags": []
   },
   "outputs": [],
   "source": [
    "parents = set()\n",
    "for i in range(1, N+1):\n",
    "    parents.add(uf.root(i))"
   ]
  },
  {
   "cell_type": "code",
   "execution_count": 27,
   "id": "5b0d3d0b-5d74-4b79-b45b-b9ce9dc7853b",
   "metadata": {
    "tags": []
   },
   "outputs": [],
   "source": [
    "cnt = 0\n",
    "j = 0\n",
    "ch = []\n",
    "while len(parents) > 1:\n",
    "    a, b, p = amari[j]\n",
    "    v = uf.root(a)\n",
    "    parents.discard(v)\n",
    "    u = parents.pop()\n",
    "    ch.append((p, a, u))\n",
    "    cnt += 1\n",
    "    uf.unite(v, u)\n",
    "    parents.add(v)\n",
    "    j += 1\n",
    "            "
   ]
  },
  {
   "cell_type": "code",
   "execution_count": 28,
   "id": "9f0acd18-9516-4b62-9e83-f81ff9bcc34b",
   "metadata": {
    "tags": []
   },
   "outputs": [
    {
     "name": "stdout",
     "output_type": "stream",
     "text": [
      "4\n",
      "1 3 1\n",
      "2 3 2\n",
      "3 3 4\n",
      "4 3 5\n"
     ]
    }
   ],
   "source": [
    "print(cnt)\n",
    "for a, b, c in ch:\n",
    "    print(a, b, c)"
   ]
  },
  {
   "cell_type": "code",
   "execution_count": 15,
   "id": "f888e4bc-4f5e-42b9-be6b-d8bfd7ebe5bb",
   "metadata": {
    "tags": []
   },
   "outputs": [
    {
     "data": {
      "text/plain": [
       "{5}"
      ]
     },
     "execution_count": 15,
     "metadata": {},
     "output_type": "execute_result"
    }
   ],
   "source": [
    "parents"
   ]
  },
  {
   "cell_type": "code",
   "execution_count": 109,
   "id": "0c9febca-dbd6-41ec-ba3c-007ab86b92d3",
   "metadata": {
    "tags": []
   },
   "outputs": [
    {
     "data": {
      "text/plain": [
       "([[3, 3, 1], [3, 3, 2], [3, 3, 3], [3, 3, 4]], 4)"
      ]
     },
     "execution_count": 109,
     "metadata": {},
     "output_type": "execute_result"
    }
   ],
   "source": [
    "amari, j"
   ]
  },
  {
   "cell_type": "code",
   "execution_count": 39,
   "id": "d7f16765-12a9-4a38-bd91-0d9aae07598e",
   "metadata": {
    "tags": []
   },
   "outputs": [],
   "source": [
    "from atcoder.dsu import DSU\n",
    "uf = DSU(N+1)\n",
    "amari = []\n",
    "for i, (U, V) in enumerate(ABm, 1):\n",
    "    if uf.same(U, V):\n",
    "        amari.append([i, U, V])\n",
    "    else:\n",
    "        uf.merge(U, V)"
   ]
  },
  {
   "cell_type": "code",
   "execution_count": 40,
   "id": "2f611735-4069-40ef-b3fc-aa38dae3d0ba",
   "metadata": {
    "tags": []
   },
   "outputs": [],
   "source": [
    "parents = set()\n",
    "for i in range(1, N+1):\n",
    "    parents.add(uf.leader(i))"
   ]
  },
  {
   "cell_type": "code",
   "execution_count": 41,
   "id": "39b28678-5163-425b-8d38-045606e4492f",
   "metadata": {
    "tags": []
   },
   "outputs": [],
   "source": [
    "ans = []\n",
    "j = 0\n",
    "while len(parents) > 1:\n",
    "    p, a, b = amari[j]\n",
    "    v = uf.leader(a)\n",
    "    parents.discard(v)\n",
    "    u = parents.pop()\n",
    "    parents.discard(u)\n",
    "    ans.append((p, a, u))\n",
    "    uf.merge(v, u)\n",
    "    parents.add(uf.leader(u))\n",
    "    j += 1"
   ]
  },
  {
   "cell_type": "code",
   "execution_count": 44,
   "id": "dd86597b-6402-4daf-a2dc-61303c91d645",
   "metadata": {
    "tags": []
   },
   "outputs": [
    {
     "name": "stdout",
     "output_type": "stream",
     "text": [
      "4\n",
      "1 3 1\n",
      "2 3 2\n",
      "3 3 4\n",
      "4 3 5\n"
     ]
    }
   ],
   "source": [
    "print(len(ans))\n",
    "for p, a, b in ans:\n",
    "    print(p, a, b)"
   ]
  },
  {
   "cell_type": "code",
   "execution_count": 42,
   "id": "141ce469-6560-4bc8-9dba-b58dbb673213",
   "metadata": {
    "tags": []
   },
   "outputs": [
    {
     "data": {
      "text/plain": [
       "[(1, 3, 1), (2, 3, 2), (3, 3, 4), (4, 3, 5)]"
      ]
     },
     "execution_count": 42,
     "metadata": {},
     "output_type": "execute_result"
    }
   ],
   "source": [
    "ans"
   ]
  },
  {
   "cell_type": "code",
   "execution_count": 78,
   "id": "80dcb984-1886-420d-adee-29ee4b91a91b",
   "metadata": {
    "tags": []
   },
   "outputs": [],
   "source": [
    "from collections import deque\n",
    "cnt = 0\n",
    "ch = []\n",
    "j = 0\n",
    "for i in range(1, N+1):\n",
    "    if uf.issame(start, i):\n",
    "        continue\n",
    "    j = 0\n",
    "    while j < len(amari):\n",
    "        a, b, p = amari[j]\n",
    "        if uf.issame(a, start):\n",
    "            ch.append((p, b, i))\n",
    "            del amari[j]\n",
    "            break\n",
    "        if uf.issame(b, start):\n",
    "            ch.append((p, a, i))\n",
    "            del amari[j]\n",
    "            break\n",
    "        if uf.issame(a, i):\n",
    "            ch.append((p, b, start))\n",
    "            del amari[j]\n",
    "            break\n",
    "        if uf.issame(b, i):\n",
    "            ch.append((p, a, start))\n",
    "            del amari[j]\n",
    "            break\n",
    "        j += 1\n",
    "    cnt += 1\n",
    "    uf.unite(start, i)\n",
    "            "
   ]
  },
  {
   "cell_type": "code",
   "execution_count": 81,
   "id": "e3345842-94cc-4bfb-93ed-bfb4d50157f5",
   "metadata": {
    "tags": []
   },
   "outputs": [
    {
     "data": {
      "text/plain": [
       "([], [])"
      ]
     },
     "execution_count": 81,
     "metadata": {},
     "output_type": "execute_result"
    }
   ],
   "source": [
    "amari, ch"
   ]
  },
  {
   "cell_type": "code",
   "execution_count": 68,
   "id": "f54a32fe-36b0-49a3-84ed-18ce2908db08",
   "metadata": {
    "tags": []
   },
   "outputs": [],
   "source": [
    "uf = UnionFind(N+1)\n",
    "\n",
    "from collections import deque\n",
    "amari = deque()\n",
    "s = set()\n",
    "for i, (A, B) in enumerate(ABm, 1):\n",
    "    s.add(A)\n",
    "    s.add(B)\n",
    "    if A == B:\n",
    "        amari.append([A, B, i, False])\n",
    "        continue\n",
    "    if uf.issame(A, B):\n",
    "        amari.append([A, B, i, False])\n",
    "        continue\n",
    "    uf.unite(A, B)\n",
    "s = list(s)\n",
    "start = s[0]"
   ]
  },
  {
   "cell_type": "code",
   "execution_count": 61,
   "id": "33dea93e-33d7-428a-9b4c-dca3b799288f",
   "metadata": {
    "tags": []
   },
   "outputs": [],
   "source": [
    "from collections import deque\n",
    "cnt = 0\n",
    "ch = []\n",
    "for i in range(1, N+1):\n",
    "    if uf.issame(start, i):\n",
    "        continue\n",
    "    j = 0\n",
    "    while j < len(amari):\n",
    "        a, b, p, f = amari[j]\n",
    "        if f:\n",
    "            j += 1\n",
    "            continue\n",
    "        if uf.issame(a, start):\n",
    "            ch.append((p, b, i))\n",
    "            amari[j][3] = True\n",
    "            break\n",
    "        if uf.issame(b, start):\n",
    "            ch.append((p, a, i))\n",
    "            amari[j][3] = True\n",
    "            break\n",
    "        if uf.issame(a, i):\n",
    "            ch.append((p, b, start))\n",
    "            amari[j][3] = True\n",
    "            break\n",
    "        if uf.issame(b, i):\n",
    "            ch.append((p, a, start))\n",
    "            amari[j][3] = True\n",
    "            break\n",
    "        j += 1\n",
    "    cnt += 1\n",
    "    uf.unite(start, i)\n",
    "            "
   ]
  },
  {
   "cell_type": "code",
   "execution_count": 51,
   "id": "9c4d8fe5-5464-4d4e-89d4-91d23f6c5756",
   "metadata": {
    "tags": []
   },
   "outputs": [],
   "source": [
    "cnt = 0\n",
    "ch = []\n",
    "for i in range(1, N+1):\n",
    "    if uf.issame(start, i):\n",
    "        continue\n",
    "    j = 0\n",
    "    while j < len(amari):\n",
    "        a, b, p = amari[j]\n",
    "        if uf.issame(a, start):\n",
    "            ch.append((p, b, i))\n",
    "            amari.popleft()\n",
    "            break\n",
    "        if uf.issame(b, start):\n",
    "            ch.append((p, a, i))\n",
    "            amari.popleft()\n",
    "            break\n",
    "        if uf.issame(a, i):\n",
    "            ch.append((p, b, start))\n",
    "            amari.popleft()\n",
    "            break\n",
    "        if uf.issame(b, i):\n",
    "            ch.append((p, a, start))\n",
    "            amari.popleft()\n",
    "            break\n",
    "        j += 1\n",
    "    cnt += 1\n",
    "    uf.unite(start, i)\n",
    "            "
   ]
  },
  {
   "cell_type": "code",
   "execution_count": 49,
   "id": "02b48b4d-62e4-4e2e-a91e-971b918b5b9d",
   "metadata": {
    "tags": []
   },
   "outputs": [],
   "source": [
    "from collections import deque\n",
    "cnt = 0\n",
    "ch = []\n",
    "for i in range(1, N+1):\n",
    "    if uf.issame(start, i):\n",
    "        continue\n",
    "    j = 0\n",
    "    while j < len(amari):\n",
    "        a, b, p = amari[j]\n",
    "        if uf.issame(a, start):\n",
    "            ch.append((p, b, i))\n",
    "            del amari[j]\n",
    "            break\n",
    "        if uf.issame(b, start):\n",
    "            ch.append((p, a, i))\n",
    "            del amari[j]\n",
    "            break\n",
    "        if uf.issame(a, i):\n",
    "            ch.append((p, b, start))\n",
    "            del amari[j]\n",
    "            break\n",
    "        if uf.issame(b, i):\n",
    "            ch.append((p, a, start))\n",
    "            del amari[j]\n",
    "            break\n",
    "        j += 1\n",
    "    cnt += 1\n",
    "    uf.unite(start, i)\n",
    "            "
   ]
  },
  {
   "cell_type": "code",
   "execution_count": 116,
   "id": "680468f9-1de5-4dc6-abc0-ba7e2e3c40ae",
   "metadata": {
    "tags": []
   },
   "outputs": [],
   "source": [
    "cnt = 0\n",
    "j = 0\n",
    "ch = []\n",
    "for i in range(1, N+1):\n",
    "    if uf.issame(start, i):\n",
    "        continue\n",
    "    a, b, p = amari[j]\n",
    "    ch.append((p, a, i))\n",
    "    cnt += 1\n",
    "    uf.unite(start, i)\n",
    "    j += 1\n",
    "            "
   ]
  },
  {
   "cell_type": "code",
   "execution_count": null,
   "id": "74e6f3dc-2453-4b44-8a1a-bebd2e5b0960",
   "metadata": {},
   "outputs": [],
   "source": []
  },
  {
   "cell_type": "code",
   "execution_count": 32,
   "id": "5bf09fb1-bdb9-4935-afdb-71845af96918",
   "metadata": {
    "tags": []
   },
   "outputs": [
    {
     "data": {
      "text/plain": [
       "[(3, 3, 1), (3, 3, 2), (3, 3, 3), (3, 3, 4)]"
      ]
     },
     "execution_count": 32,
     "metadata": {},
     "output_type": "execute_result"
    }
   ],
   "source": [
    "amari"
   ]
  },
  {
   "cell_type": "code",
   "execution_count": 25,
   "id": "8ad8adba-eeb4-4ef6-9478-faca5658e8a8",
   "metadata": {
    "tags": []
   },
   "outputs": [
    {
     "data": {
      "text/plain": [
       "True"
      ]
     },
     "execution_count": 25,
     "metadata": {},
     "output_type": "execute_result"
    }
   ],
   "source": [
    "uf.issame(3, 4)"
   ]
  },
  {
   "cell_type": "code",
   "execution_count": null,
   "id": "9d07604c-b80d-41a0-9269-eb6aea10e074",
   "metadata": {},
   "outputs": [],
   "source": []
  }
 ],
 "metadata": {
  "kernelspec": {
   "display_name": "Python 3 (ipykernel)",
   "language": "python",
   "name": "python3"
  },
  "language_info": {
   "codemirror_mode": {
    "name": "ipython",
    "version": 3
   },
   "file_extension": ".py",
   "mimetype": "text/x-python",
   "name": "python",
   "nbconvert_exporter": "python",
   "pygments_lexer": "ipython3",
   "version": "3.11.3"
  }
 },
 "nbformat": 4,
 "nbformat_minor": 5
}
