{
 "cells": [
  {
   "cell_type": "code",
   "execution_count": 1,
   "id": "0df4b61d-7d64-49a9-87a3-0a34067c9d35",
   "metadata": {
    "tags": []
   },
   "outputs": [],
   "source": [
    "import sys\n",
    "import numpy as np\n",
    "import math\n",
    "import collections\n",
    "import copy\n",
    "import decimal\n",
    "import itertools\n",
    "import re\n",
    "import bisect\n",
    "import scipy\n",
    "import heapq\n",
    "from collections import deque \n",
    "from functools import reduce\n",
    "from itertools import product\n",
    "from itertools import combinations\n",
    "from functools import lru_cache\n",
    "from scipy.special import comb\n",
    "from numba import njit\n",
    "from bisect import bisect_right\n",
    "from bisect import bisect_left\n",
    "from atcoder.fenwicktree import FenwickTree\n",
    "from sortedcontainers import SortedSet, SortedList, SortedDict"
   ]
  },
  {
   "cell_type": "code",
   "execution_count": 1,
   "id": "5ade4e9c-0468-4590-bc27-32a775343fb8",
   "metadata": {
    "tags": []
   },
   "outputs": [
    {
     "name": "stdin",
     "output_type": "stream",
     "text": [
      " 3\n"
     ]
    }
   ],
   "source": [
    "N = int(input())"
   ]
  },
  {
   "cell_type": "code",
   "execution_count": 2,
   "id": "9a1f77fa-5b0b-4bbf-ab49-865c2e8dadf9",
   "metadata": {
    "tags": []
   },
   "outputs": [
    {
     "name": "stdin",
     "output_type": "stream",
     "text": [
      " 3 1 2 3\n",
      " 4 1 2 2 1\n",
      " 6 1 2 3 4 5 6\n"
     ]
    }
   ],
   "source": [
    "Kn = [list(map(int, input().split())) for _ in range(N)]"
   ]
  },
  {
   "cell_type": "code",
   "execution_count": 4,
   "id": "0cc55063-34e5-45ac-b073-6eca2ef89d39",
   "metadata": {},
   "outputs": [],
   "source": [
    "from collections import Counter\n",
    "probability = []\n",
    "for K in Kn:\n",
    "    d = Counter(K[1:])\n",
    "    probability.append((K[0], d))"
   ]
  },
  {
   "cell_type": "code",
   "execution_count": 6,
   "id": "e071e554-a782-4f46-a665-dce1d62056da",
   "metadata": {
    "tags": []
   },
   "outputs": [],
   "source": [
    "ans = 0\n",
    "for i in range(N-1):\n",
    "    for j in range(i+1, N):\n",
    "        bo = probability[i][0] * probability[j][0]\n",
    "        shi = 0\n",
    "        di = probability[i][1]\n",
    "        dj = probability[j][1]\n",
    "        for k, v in di.items():\n",
    "            shi += v * dj[k]\n",
    "        ans = max(ans, shi / bo)"
   ]
  },
  {
   "cell_type": "code",
   "execution_count": 7,
   "id": "4887c869-44b2-490c-ab3a-300ed8a55c9d",
   "metadata": {
    "tags": []
   },
   "outputs": [
    {
     "name": "stdout",
     "output_type": "stream",
     "text": [
      "0.3333333333333333\n"
     ]
    }
   ],
   "source": [
    "print(ans)"
   ]
  },
  {
   "cell_type": "code",
   "execution_count": null,
   "id": "6c98ceec-9d76-4441-9821-f52e2c2652f0",
   "metadata": {},
   "outputs": [],
   "source": []
  }
 ],
 "metadata": {
  "kernelspec": {
   "display_name": "Python 3 (ipykernel)",
   "language": "python",
   "name": "python3"
  },
  "language_info": {
   "codemirror_mode": {
    "name": "ipython",
    "version": 3
   },
   "file_extension": ".py",
   "mimetype": "text/x-python",
   "name": "python",
   "nbconvert_exporter": "python",
   "pygments_lexer": "ipython3",
   "version": "3.11.3"
  }
 },
 "nbformat": 4,
 "nbformat_minor": 5
}
