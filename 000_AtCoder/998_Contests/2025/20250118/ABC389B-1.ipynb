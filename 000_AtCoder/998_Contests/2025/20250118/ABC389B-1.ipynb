{
 "cells": [
  {
   "cell_type": "code",
   "execution_count": 1,
   "id": "8ba84029-83cd-4b7a-bb9a-9e9f5476dc9f",
   "metadata": {
    "tags": []
   },
   "outputs": [],
   "source": [
    "import sys\n",
    "import numpy as np\n",
    "import math\n",
    "import collections\n",
    "import copy\n",
    "import decimal\n",
    "import itertools\n",
    "import re\n",
    "import bisect\n",
    "import scipy\n",
    "import heapq\n",
    "from collections import deque \n",
    "from functools import reduce\n",
    "from itertools import product\n",
    "from itertools import combinations\n",
    "from functools import lru_cache\n",
    "from scipy.special import comb\n",
    "from numba import njit\n",
    "from bisect import bisect_right\n",
    "from bisect import bisect_left\n",
    "from atcoder.fenwicktree import FenwickTree\n",
    "from sortedcontainers import SortedSet, SortedList, SortedDict"
   ]
  },
  {
   "cell_type": "code",
   "execution_count": 4,
   "id": "27ed2d09-2c1b-46aa-a808-e610ea772035",
   "metadata": {
    "tags": []
   },
   "outputs": [
    {
     "name": "stdin",
     "output_type": "stream",
     "text": [
      " 2432902008176640000\n"
     ]
    }
   ],
   "source": [
    "X = int(input())"
   ]
  },
  {
   "cell_type": "code",
   "execution_count": 5,
   "id": "84fbb243-323b-48f2-8cdb-1150956f7e12",
   "metadata": {
    "tags": []
   },
   "outputs": [
    {
     "name": "stdout",
     "output_type": "stream",
     "text": [
      "20\n"
     ]
    }
   ],
   "source": [
    "num = 1\n",
    "for ans in range(1, 10*10):\n",
    "    num *= ans\n",
    "    if num == X:\n",
    "        print(ans)\n",
    "        break"
   ]
  },
  {
   "cell_type": "code",
   "execution_count": null,
   "id": "d834a024-df3b-49f7-92a7-aff346adc8cb",
   "metadata": {},
   "outputs": [],
   "source": []
  }
 ],
 "metadata": {
  "kernelspec": {
   "display_name": "Python 3 (ipykernel)",
   "language": "python",
   "name": "python3"
  },
  "language_info": {
   "codemirror_mode": {
    "name": "ipython",
    "version": 3
   },
   "file_extension": ".py",
   "mimetype": "text/x-python",
   "name": "python",
   "nbconvert_exporter": "python",
   "pygments_lexer": "ipython3",
   "version": "3.11.3"
  }
 },
 "nbformat": 4,
 "nbformat_minor": 5
}
