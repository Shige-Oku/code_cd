{
 "cells": [
  {
   "cell_type": "code",
   "execution_count": 1,
   "id": "89a32f70-2554-40f7-8c89-6e775b9b8716",
   "metadata": {
    "tags": []
   },
   "outputs": [],
   "source": [
    "import sys\n",
    "import numpy as np\n",
    "import math\n",
    "import collections\n",
    "import copy\n",
    "import decimal\n",
    "import itertools\n",
    "import re\n",
    "import bisect\n",
    "import scipy\n",
    "import heapq\n",
    "from collections import deque \n",
    "from functools import reduce\n",
    "from itertools import product\n",
    "from itertools import combinations\n",
    "from functools import lru_cache\n",
    "from scipy.special import comb\n",
    "from numba import njit\n",
    "from bisect import bisect_right\n",
    "from bisect import bisect_left\n",
    "from atcoder.fenwicktree import FenwickTree\n",
    "from sortedcontainers import SortedSet, SortedList, SortedDict"
   ]
  },
  {
   "cell_type": "code",
   "execution_count": 75,
   "id": "aa5788bf-3d8f-43c2-bf76-ebe3fc55e950",
   "metadata": {
    "tags": []
   },
   "outputs": [
    {
     "name": "stdin",
     "output_type": "stream",
     "text": [
      " 10 1000\n"
     ]
    }
   ],
   "source": [
    "N, M = map(int, input().split())"
   ]
  },
  {
   "cell_type": "code",
   "execution_count": 76,
   "id": "168e70c5-4a1e-4315-b054-cee9614cf67b",
   "metadata": {
    "tags": []
   },
   "outputs": [
    {
     "name": "stdin",
     "output_type": "stream",
     "text": [
      " 2 15 6 5 12 1 7 9 17 2\n"
     ]
    }
   ],
   "source": [
    "Pn = list(map(int, input().split()))"
   ]
  },
  {
   "cell_type": "code",
   "execution_count": 81,
   "id": "88802d75-2194-4192-9fbd-c086b0e13f67",
   "metadata": {
    "tags": []
   },
   "outputs": [
    {
     "name": "stdout",
     "output_type": "stream",
     "text": [
      "53\n"
     ]
    }
   ],
   "source": [
    "import heapq \n",
    "q = []\n",
    "for P in Pn:\n",
    "    heapq.heappush(q, (P, P, 1, 0))\n",
    "\n",
    "ans = 0\n",
    "money = 0\n",
    "while True:\n",
    "    m, p, cnt, pm = heapq.heappop(q)\n",
    "    # print(m, p, cnt, money, pm)\n",
    "    # m -= pm\n",
    "    if money + m > M:\n",
    "        print(ans)\n",
    "        break\n",
    "    ans += 1\n",
    "    money += m\n",
    "    heapq.heappush(q, (p*(cnt+1)*(cnt+1)-p*cnt*cnt, p, cnt+1, p*cnt*cnt))\n",
    "    # print(ans, nm)\n",
    "    # print(q)\n",
    "    # if ans > 10:\n",
    "    #     break"
   ]
  },
  {
   "cell_type": "code",
   "execution_count": 79,
   "id": "03c0ce7d-34fa-4b2d-8a96-2dc652028bbd",
   "metadata": {
    "tags": []
   },
   "outputs": [
    {
     "data": {
      "text/plain": [
       "[(45, 9, 3, 36),\n",
       " (46, 2, 9, 128),\n",
       " (55, 5, 5, 80),\n",
       " (48, 6, 4, 54),\n",
       " (46, 2, 9, 128),\n",
       " (85, 17, 3, 68),\n",
       " (60, 12, 3, 48),\n",
       " (75, 15, 3, 60),\n",
       " (56, 7, 4, 63)]"
      ]
     },
     "execution_count": 79,
     "metadata": {},
     "output_type": "execute_result"
    }
   ],
   "source": [
    "q"
   ]
  },
  {
   "cell_type": "code",
   "execution_count": 56,
   "id": "648fd039-cae0-4baa-a4fd-c82a157f19ee",
   "metadata": {
    "tags": []
   },
   "outputs": [
    {
     "data": {
      "text/plain": [
       "30"
      ]
     },
     "execution_count": 56,
     "metadata": {},
     "output_type": "execute_result"
    }
   ],
   "source": [
    "m"
   ]
  },
  {
   "cell_type": "code",
   "execution_count": 57,
   "id": "2cd5c765-7dc4-412c-b5b7-ba16dcf80580",
   "metadata": {
    "tags": []
   },
   "outputs": [],
   "source": [
    "import heapq \n",
    "q = []\n",
    "for P in Pn:\n",
    "    heapq.heappush(q, (P, P, 1))"
   ]
  },
  {
   "cell_type": "code",
   "execution_count": 58,
   "id": "f9a34ca2-6a40-45f2-a57a-422399032472",
   "metadata": {
    "tags": []
   },
   "outputs": [
    {
     "data": {
      "text/plain": [
       "[(1, 1, 1),\n",
       " (2, 2, 1),\n",
       " (2, 2, 1),\n",
       " (9, 9, 1),\n",
       " (5, 5, 1),\n",
       " (6, 6, 1),\n",
       " (7, 7, 1),\n",
       " (15, 15, 1),\n",
       " (17, 17, 1),\n",
       " (12, 12, 1)]"
      ]
     },
     "execution_count": 58,
     "metadata": {},
     "output_type": "execute_result"
    }
   ],
   "source": [
    "q"
   ]
  },
  {
   "cell_type": "code",
   "execution_count": 59,
   "id": "68ac967e-5b85-464b-82b2-1a6a53c27b43",
   "metadata": {
    "tags": []
   },
   "outputs": [
    {
     "data": {
      "text/plain": [
       "49"
      ]
     },
     "execution_count": 59,
     "metadata": {},
     "output_type": "execute_result"
    }
   ],
   "source": [
    "ans"
   ]
  },
  {
   "cell_type": "code",
   "execution_count": 78,
   "id": "5e9bebce-007d-43e2-ac8d-9cffd79fbe54",
   "metadata": {
    "tags": []
   },
   "outputs": [
    {
     "data": {
      "text/plain": [
       "957"
      ]
     },
     "execution_count": 78,
     "metadata": {},
     "output_type": "execute_result"
    }
   ],
   "source": [
    "money"
   ]
  },
  {
   "cell_type": "code",
   "execution_count": null,
   "id": "e17335a9-7ebf-47a6-a05b-83641af0e2b9",
   "metadata": {},
   "outputs": [],
   "source": []
  }
 ],
 "metadata": {
  "kernelspec": {
   "display_name": "Python 3 (ipykernel)",
   "language": "python",
   "name": "python3"
  },
  "language_info": {
   "codemirror_mode": {
    "name": "ipython",
    "version": 3
   },
   "file_extension": ".py",
   "mimetype": "text/x-python",
   "name": "python",
   "nbconvert_exporter": "python",
   "pygments_lexer": "ipython3",
   "version": "3.11.3"
  }
 },
 "nbformat": 4,
 "nbformat_minor": 5
}
