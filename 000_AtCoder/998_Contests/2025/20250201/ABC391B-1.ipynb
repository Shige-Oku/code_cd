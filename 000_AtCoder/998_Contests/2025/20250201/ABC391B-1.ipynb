{
 "cells": [
  {
   "cell_type": "code",
   "execution_count": 1,
   "id": "c05a4585-4ae1-43c9-b546-41847235fa87",
   "metadata": {
    "tags": []
   },
   "outputs": [],
   "source": [
    "import sys\n",
    "import numpy as np\n",
    "import math\n",
    "import collections\n",
    "import copy\n",
    "import decimal\n",
    "import itertools\n",
    "import re\n",
    "import bisect\n",
    "import scipy\n",
    "import heapq\n",
    "from collections import deque \n",
    "from functools import reduce\n",
    "from itertools import product\n",
    "from itertools import combinations\n",
    "from functools import lru_cache\n",
    "from scipy.special import comb\n",
    "from numba import njit\n",
    "from bisect import bisect_right\n",
    "from bisect import bisect_left\n",
    "from atcoder.fenwicktree import FenwickTree\n",
    "from sortedcontainers import SortedSet, SortedList, SortedDict"
   ]
  },
  {
   "cell_type": "code",
   "execution_count": 2,
   "id": "10d2a35d-6e5c-4688-87d2-2ae42f92c9c7",
   "metadata": {
    "tags": []
   },
   "outputs": [
    {
     "name": "stdin",
     "output_type": "stream",
     "text": [
      " 3 2\n"
     ]
    }
   ],
   "source": [
    "N, M = map(int, input().split())"
   ]
  },
  {
   "cell_type": "code",
   "execution_count": 3,
   "id": "4a4705ec-efe6-4ac8-94cc-f4b09ab8f256",
   "metadata": {
    "tags": []
   },
   "outputs": [
    {
     "name": "stdin",
     "output_type": "stream",
     "text": [
      " #.#\n",
      " ..#\n",
      " ##.\n"
     ]
    }
   ],
   "source": [
    "Sn = [input() for _ in range(N)]"
   ]
  },
  {
   "cell_type": "code",
   "execution_count": 5,
   "id": "a8219a2c-1095-4164-b56f-e70beac2d5d7",
   "metadata": {
    "tags": []
   },
   "outputs": [
    {
     "name": "stdin",
     "output_type": "stream",
     "text": [
      " .#\n",
      " #.\n"
     ]
    }
   ],
   "source": [
    "Tm =  [input() for _ in range(M)]"
   ]
  },
  {
   "cell_type": "code",
   "execution_count": 25,
   "id": "358aa63d-2dd1-4a25-aae4-91a42de1b52c",
   "metadata": {
    "tags": []
   },
   "outputs": [],
   "source": [
    "def solve(sh, sw):\n",
    "    for th in range(M):\n",
    "        for tw in range(M):\n",
    "            if Sn[sh+th][sw+tw] != Tm[th][tw]:\n",
    "                # print(sh, sw, th, tw)\n",
    "                # print(Sn[sh][sw], Tm[th][tw])\n",
    "                return False\n",
    "                   \n",
    "    return True"
   ]
  },
  {
   "cell_type": "code",
   "execution_count": 26,
   "id": "fff09893-8e0c-45e4-b5b0-f7b6641b72c8",
   "metadata": {
    "tags": []
   },
   "outputs": [],
   "source": [
    "f = False\n",
    "for sh in range(N-M+1):\n",
    "    for sw in range(N-M+1):\n",
    "        if solve(sh, sw):\n",
    "            f = True\n",
    "            break\n",
    "    if f :\n",
    "        break"
   ]
  },
  {
   "cell_type": "code",
   "execution_count": 27,
   "id": "e273cdac-0b16-4dc4-8b26-eda65f31e919",
   "metadata": {
    "tags": []
   },
   "outputs": [
    {
     "name": "stdout",
     "output_type": "stream",
     "text": [
      "2 2\n"
     ]
    }
   ],
   "source": [
    "print(sh+1, sw+1)"
   ]
  },
  {
   "cell_type": "code",
   "execution_count": 24,
   "id": "d3df81d6-ce52-40a7-8c64-b602af48600b",
   "metadata": {
    "tags": []
   },
   "outputs": [
    {
     "data": {
      "text/plain": [
       "True"
      ]
     },
     "execution_count": 24,
     "metadata": {},
     "output_type": "execute_result"
    }
   ],
   "source": [
    "solve(1, 1)"
   ]
  },
  {
   "cell_type": "code",
   "execution_count": null,
   "id": "b290862e-1bcf-4275-822b-87ac7e58aa86",
   "metadata": {},
   "outputs": [],
   "source": []
  }
 ],
 "metadata": {
  "kernelspec": {
   "display_name": "Python 3 (ipykernel)",
   "language": "python",
   "name": "python3"
  },
  "language_info": {
   "codemirror_mode": {
    "name": "ipython",
    "version": 3
   },
   "file_extension": ".py",
   "mimetype": "text/x-python",
   "name": "python",
   "nbconvert_exporter": "python",
   "pygments_lexer": "ipython3",
   "version": "3.11.3"
  }
 },
 "nbformat": 4,
 "nbformat_minor": 5
}
