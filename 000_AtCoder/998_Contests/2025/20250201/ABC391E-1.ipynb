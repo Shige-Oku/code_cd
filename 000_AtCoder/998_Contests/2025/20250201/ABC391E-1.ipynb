{
 "cells": [
  {
   "cell_type": "code",
   "execution_count": 1,
   "id": "29de8a84-1628-4291-ad69-7d6fb7b5ff92",
   "metadata": {
    "tags": []
   },
   "outputs": [],
   "source": [
    "import sys\n",
    "import numpy as np\n",
    "import math\n",
    "import collections\n",
    "import copy\n",
    "import decimal\n",
    "import itertools\n",
    "import re\n",
    "import bisect\n",
    "import scipy\n",
    "import heapq\n",
    "from collections import deque \n",
    "from functools import reduce\n",
    "from itertools import product\n",
    "from itertools import combinations\n",
    "from functools import lru_cache\n",
    "from scipy.special import comb\n",
    "from numba import njit\n",
    "from bisect import bisect_right\n",
    "from bisect import bisect_left\n",
    "from atcoder.fenwicktree import FenwickTree\n",
    "from sortedcontainers import SortedSet, SortedList, SortedDict"
   ]
  },
  {
   "cell_type": "code",
   "execution_count": 23,
   "id": "c39eb554-7148-465b-be7e-00598012dfa5",
   "metadata": {
    "tags": []
   },
   "outputs": [
    {
     "name": "stdin",
     "output_type": "stream",
     "text": [
      " 2\n"
     ]
    }
   ],
   "source": [
    "N = int(input())"
   ]
  },
  {
   "cell_type": "code",
   "execution_count": 24,
   "id": "10636ac7-0bbb-491a-99f0-166f39d5dcd5",
   "metadata": {
    "tags": []
   },
   "outputs": [
    {
     "name": "stdin",
     "output_type": "stream",
     "text": [
      " 010011101\n"
     ]
    }
   ],
   "source": [
    "An = input()"
   ]
  },
  {
   "cell_type": "code",
   "execution_count": 43,
   "id": "4dd5aa8b-e85b-4c5d-8f81-c05c14340448",
   "metadata": {
    "tags": []
   },
   "outputs": [],
   "source": [
    "results = [list(map(int, list(An)))]\n",
    "for _ in range(N-1):\n",
    "    result = results[-1]\n",
    "    ca = []\n",
    "    i = 0\n",
    "    while i < len(result)//3:\n",
    "        cnt = result[i*3] + result[i*3+1] + result[i*3+2]\n",
    "        if cnt >= 2:\n",
    "            ca.append(1)\n",
    "        else:\n",
    "            ca.append(0)\n",
    "        i+= 1\n",
    "    results.append(ca)\n",
    "if sum(results[-1]) >= 2:\n",
    "    res = '0'\n",
    "else:\n",
    "    res = '1'\n",
    "results.append([res])\n",
    "results = results[::-1]"
   ]
  },
  {
   "cell_type": "code",
   "execution_count": 48,
   "id": "aea8262d-e234-478c-81fa-e954fe49ddbb",
   "metadata": {
    "tags": []
   },
   "outputs": [],
   "source": [
    "import sys\n",
    "sys.setrecursionlimit(10**6)\n",
    "def dfs(l, r):\n",
    "    # print(l, r)\n",
    "    if l + 1 == r:\n",
    "        if An[l] == res:\n",
    "            return 0\n",
    "        else:\n",
    "            return 1\n",
    "        \n",
    "    m1 = (r - l) // 3\n",
    "    \n",
    "    # print(l, m1, m2, r)\n",
    "    r1 = dfs(l, l+m1)\n",
    "    r2 = dfs(l+m1, l+m1*2)\n",
    "    r3 = dfs(l+m1*2, r)\n",
    "    \n",
    "    r = [r1, r2, r3]\n",
    "    r.sort()\n",
    "    return r[0] + r[1]"
   ]
  },
  {
   "cell_type": "code",
   "execution_count": 47,
   "id": "c3f175c2-72cc-4c74-ad73-dab038801d56",
   "metadata": {
    "tags": []
   },
   "outputs": [
    {
     "name": "stdout",
     "output_type": "stream",
     "text": [
      "1\n"
     ]
    }
   ],
   "source": [
    "print(dfs(0, 3**N))"
   ]
  },
  {
   "cell_type": "code",
   "execution_count": 49,
   "id": "9a40a7e6-48ab-41c7-8829-401071d265ba",
   "metadata": {
    "tags": []
   },
   "outputs": [
    {
     "data": {
      "text/plain": [
       "('0', [['0'], [0, 1, 1], [0, 1, 0, 0, 1, 1, 1, 0, 1]])"
      ]
     },
     "execution_count": 49,
     "metadata": {},
     "output_type": "execute_result"
    }
   ],
   "source": [
    "res, results"
   ]
  },
  {
   "cell_type": "code",
   "execution_count": 3,
   "id": "59c7d227-24aa-4ff3-976b-5c6bc899da09",
   "metadata": {
    "tags": []
   },
   "outputs": [],
   "source": [
    "import sys\n",
    "sys.setrecursionlimit(10**3)\n",
    "def dfs(d, p):\n",
    "\n",
    "    if d == N:\n",
    "        if results[d][p] == res:\n",
    "            return 1\n",
    "        else:\n",
    "            return 0\n",
    "    \n",
    "    n1, n2, n3 = results[d+1][p*3:p*3+3]\n",
    "    t = n1 + n2 + n3\n",
    "    if res == 0 and t >= 2:\n",
    "        return 0\n",
    "    if res == 1 and t <= 1:\n",
    "        return 0\n",
    "\n",
    "    c1 = dfs(d+1, p)\n",
    "    c2 = dfs(d+1, p+1)\n",
    "    c3 = dfs(d+1, p+2)\n",
    "    \n",
    "    # cnt = []\n",
    "    # for c in (c1, c2, c3):\n",
    "    #     if c > 0:\n",
    "    #         cnt.append(c)\n",
    "    cnt.sort()\n",
    "    \n",
    "    if res == 0:\n",
    "        if t == 1:\n",
    "            ret = cnt[0]\n",
    "        else:\n",
    "            ret = cnt[0] + cnt[1]\n",
    "    else:\n",
    "        if t == 2:\n",
    "            ret = cnt[0]\n",
    "        else:\n",
    "            ret = cnt[0] + cnt[1]\n",
    "        \n",
    "    return ret"
   ]
  },
  {
   "cell_type": "code",
   "execution_count": 109,
   "id": "6635139d-a476-4894-a7b0-29f30119f515",
   "metadata": {
    "tags": []
   },
   "outputs": [
    {
     "name": "stdout",
     "output_type": "stream",
     "text": [
      "2048\n"
     ]
    }
   ],
   "source": [
    "print(dfs(0, 0))"
   ]
  },
  {
   "cell_type": "code",
   "execution_count": 81,
   "id": "868487da-48ad-4a4a-95d6-c177b25463ec",
   "metadata": {
    "tags": []
   },
   "outputs": [
    {
     "data": {
      "text/plain": [
       "[0, 1, 0]"
      ]
     },
     "execution_count": 81,
     "metadata": {},
     "output_type": "execute_result"
    }
   ],
   "source": [
    "list(map(int, list(An)))"
   ]
  },
  {
   "cell_type": "code",
   "execution_count": 70,
   "id": "70ae81ce-1e0c-483b-93db-60310d9c234c",
   "metadata": {
    "tags": []
   },
   "outputs": [
    {
     "data": {
      "text/plain": [
       "[[0], [0, 1, 0]]"
      ]
     },
     "execution_count": 70,
     "metadata": {},
     "output_type": "execute_result"
    }
   ],
   "source": [
    "results"
   ]
  },
  {
   "cell_type": "code",
   "execution_count": 14,
   "id": "94b2a028-a7e5-4bf3-976c-1158dd99283d",
   "metadata": {
    "tags": []
   },
   "outputs": [
    {
     "data": {
      "text/plain": [
       "([0, 1, 0, 0, 1, 1, 1, 0, 1], 3)"
      ]
     },
     "execution_count": 14,
     "metadata": {},
     "output_type": "execute_result"
    }
   ],
   "source": [
    "result, i"
   ]
  },
  {
   "cell_type": "code",
   "execution_count": 18,
   "id": "6adea7ae-7d81-4f37-bcab-0c8603b93306",
   "metadata": {
    "tags": []
   },
   "outputs": [
    {
     "data": {
      "text/plain": [
       "2"
      ]
     },
     "execution_count": 18,
     "metadata": {},
     "output_type": "execute_result"
    }
   ],
   "source": [
    "sum(results[-1])"
   ]
  },
  {
   "cell_type": "code",
   "execution_count": 27,
   "id": "20369a21-9205-4c65-a79c-7a9223d6c087",
   "metadata": {
    "tags": []
   },
   "outputs": [
    {
     "data": {
      "text/plain": [
       "[[0, 1, 1], [0, 1, 0, 0, 1, 1, 1, 0, 1]]"
      ]
     },
     "execution_count": 27,
     "metadata": {},
     "output_type": "execute_result"
    }
   ],
   "source": [
    "results"
   ]
  },
  {
   "cell_type": "code",
   "execution_count": 28,
   "id": "8af6fc08-0b59-4c11-a4bc-95b89a742d3e",
   "metadata": {
    "tags": []
   },
   "outputs": [
    {
     "data": {
      "text/plain": [
       "1594323"
      ]
     },
     "execution_count": 28,
     "metadata": {},
     "output_type": "execute_result"
    }
   ],
   "source": [
    "3**13"
   ]
  },
  {
   "cell_type": "code",
   "execution_count": 39,
   "id": "10cda2d7-11a4-454d-8cd5-90c454f6b5d4",
   "metadata": {
    "tags": []
   },
   "outputs": [
    {
     "name": "stdout",
     "output_type": "stream",
     "text": [
      "0 1 1\n",
      "0 1 1\n",
      "0 1 0\n"
     ]
    },
    {
     "data": {
      "text/plain": [
       "(0, 0, 0)"
      ]
     },
     "execution_count": 39,
     "metadata": {},
     "output_type": "execute_result"
    }
   ],
   "source": [
    "dfs(1, 1), dfs(0, 0), dfs(1, 0)"
   ]
  },
  {
   "cell_type": "code",
   "execution_count": null,
   "id": "dc26be71-f5b7-4eaf-a9ff-c9a992fbae5d",
   "metadata": {},
   "outputs": [],
   "source": [
    "import sys\n",
    "\n",
    "input = sys.stdin.readline\n",
    "\n",
    "N = int(input())\n",
    "A = input().rstrip()\n",
    "\n",
    "\n",
    "def f(l, r):\n",
    "    if l + 1 == r:\n",
    "        return A[l], 1\n",
    "    m1 = (2 * l + r) // 3\n",
    "    m2 = (l + 2 * r) // 3\n",
    "    val1, cnt1 = f(l, m1)\n",
    "    val2, cnt2 = f(m1, m2)\n",
    "    val3, cnt3 = f(m2, r)\n",
    "\n",
    "    if val1 == val2 == val3:\n",
    "        return val1, cnt1 + cnt2 + cnt3 - max(cnt1, cnt2, cnt3)\n",
    "    elif val1 == val2:\n",
    "        return val1, min(cnt1, cnt2)\n",
    "    elif val1 == val3:\n",
    "        return val1, min(cnt1, cnt3)\n",
    "    elif val2 == val3:\n",
    "        return val2, min(cnt2, cnt3)\n",
    "\n",
    "\n",
    "print(f(0, 3**N)[1])\n"
   ]
  }
 ],
 "metadata": {
  "kernelspec": {
   "display_name": "Python 3 (ipykernel)",
   "language": "python",
   "name": "python3"
  },
  "language_info": {
   "codemirror_mode": {
    "name": "ipython",
    "version": 3
   },
   "file_extension": ".py",
   "mimetype": "text/x-python",
   "name": "python",
   "nbconvert_exporter": "python",
   "pygments_lexer": "ipython3",
   "version": "3.11.3"
  }
 },
 "nbformat": 4,
 "nbformat_minor": 5
}
