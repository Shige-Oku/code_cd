{
 "cells": [
  {
   "cell_type": "code",
   "execution_count": 1,
   "id": "f03493d6-7c9a-4b3e-a7fe-d3d960362f8c",
   "metadata": {
    "tags": []
   },
   "outputs": [],
   "source": [
    "import sys\n",
    "import numpy as np\n",
    "import math\n",
    "import collections\n",
    "import copy\n",
    "import decimal\n",
    "import itertools\n",
    "import re\n",
    "import bisect\n",
    "import scipy\n",
    "import heapq\n",
    "from collections import deque \n",
    "from functools import reduce\n",
    "from itertools import product\n",
    "from itertools import combinations\n",
    "from functools import lru_cache\n",
    "from scipy.special import comb\n",
    "from numba import njit\n",
    "from bisect import bisect_right\n",
    "from bisect import bisect_left\n",
    "from atcoder.fenwicktree import FenwickTree\n",
    "from sortedcontainers import SortedSet, SortedList, SortedDict"
   ]
  },
  {
   "cell_type": "code",
   "execution_count": 2,
   "id": "0bdbd46f-825d-4e80-8772-0adfaf10c82f",
   "metadata": {
    "tags": []
   },
   "outputs": [
    {
     "name": "stdin",
     "output_type": "stream",
     "text": [
      " 4 7\n"
     ]
    }
   ],
   "source": [
    "N, Q = map(int, input().split())"
   ]
  },
  {
   "cell_type": "code",
   "execution_count": 3,
   "id": "222bcfb2-8fe2-4f30-b88e-952a3595c26e",
   "metadata": {
    "tags": []
   },
   "outputs": [
    {
     "name": "stdin",
     "output_type": "stream",
     "text": [
      " 2\n",
      " 1 1 2\n",
      " 2\n",
      " 1 3 2\n",
      " 2\n",
      " 1 3 4\n",
      " 2\n"
     ]
    }
   ],
   "source": [
    "QuerysQ = [list(map(int, input().split())) for _ in range(Q)]"
   ]
  },
  {
   "cell_type": "code",
   "execution_count": 13,
   "id": "670f4679-e608-403a-9c44-aab8a75649f7",
   "metadata": {
    "tags": []
   },
   "outputs": [],
   "source": [
    "hato = {n:n for n in range(1, N+1)}\n",
    "su = {n:1 for n in range(1, N+1)}\n",
    "cnt = 0"
   ]
  },
  {
   "cell_type": "code",
   "execution_count": 22,
   "id": "f6f14881-2fb2-4690-8f93-8c9f37c05d51",
   "metadata": {
    "tags": []
   },
   "outputs": [
    {
     "name": "stdout",
     "output_type": "stream",
     "text": [
      "0\n",
      "1\n",
      "1\n",
      "2\n"
     ]
    }
   ],
   "source": [
    "hato = {n:n for n in range(1, N+1)}\n",
    "su = {n:1 for n in range(1, N+1)}\n",
    "cnt = 0\n",
    "for Query in QuerysQ:\n",
    "    if Query[0] == 1:\n",
    "        _, P, H = Query\n",
    "        n = hato[P]\n",
    "        if su[n] == 2:\n",
    "            cnt -= 1\n",
    "        su[n] -= 1\n",
    "        \n",
    "        if su[H] == 1:\n",
    "            cnt += 1\n",
    "        su[H] += 1\n",
    "        hato[P] = H\n",
    "        # print(hato)\n",
    "        # print(su)\n",
    "        # print(cnt)        \n",
    "    else:\n",
    "        print(cnt)\n"
   ]
  },
  {
   "cell_type": "code",
   "execution_count": 7,
   "id": "7b9c2551-15b3-4c1c-bcf3-6960460ce467",
   "metadata": {
    "tags": []
   },
   "outputs": [
    {
     "data": {
      "text/plain": [
       "[1, 0, 3, 0, 1]"
      ]
     },
     "execution_count": 7,
     "metadata": {},
     "output_type": "execute_result"
    }
   ],
   "source": [
    "hato"
   ]
  },
  {
   "cell_type": "code",
   "execution_count": 12,
   "id": "be313b3a-adfe-4cda-86af-22c92893bd57",
   "metadata": {
    "tags": []
   },
   "outputs": [
    {
     "data": {
      "text/plain": [
       "{1: 1, 2: 2, 3: 3, 4: 4}"
      ]
     },
     "execution_count": 12,
     "metadata": {},
     "output_type": "execute_result"
    }
   ],
   "source": [
    "hato"
   ]
  },
  {
   "cell_type": "code",
   "execution_count": null,
   "id": "50711c75-0fc9-4bdc-acf1-36925ee996c4",
   "metadata": {},
   "outputs": [],
   "source": []
  }
 ],
 "metadata": {
  "kernelspec": {
   "display_name": "Python 3 (ipykernel)",
   "language": "python",
   "name": "python3"
  },
  "language_info": {
   "codemirror_mode": {
    "name": "ipython",
    "version": 3
   },
   "file_extension": ".py",
   "mimetype": "text/x-python",
   "name": "python",
   "nbconvert_exporter": "python",
   "pygments_lexer": "ipython3",
   "version": "3.11.3"
  }
 },
 "nbformat": 4,
 "nbformat_minor": 5
}
