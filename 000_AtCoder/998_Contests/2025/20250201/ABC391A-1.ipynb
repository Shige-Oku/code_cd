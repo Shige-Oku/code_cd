{
 "cells": [
  {
   "cell_type": "code",
   "execution_count": 1,
   "id": "e0c85527-8dc5-4842-9308-2fabce307faa",
   "metadata": {
    "tags": []
   },
   "outputs": [],
   "source": [
    "import sys\n",
    "import numpy as np\n",
    "import math\n",
    "import collections\n",
    "import copy\n",
    "import decimal\n",
    "import itertools\n",
    "import re\n",
    "import bisect\n",
    "import scipy\n",
    "import heapq\n",
    "from collections import deque \n",
    "from functools import reduce\n",
    "from itertools import product\n",
    "from itertools import combinations\n",
    "from functools import lru_cache\n",
    "from scipy.special import comb\n",
    "from numba import njit\n",
    "from bisect import bisect_right\n",
    "from bisect import bisect_left\n",
    "from atcoder.fenwicktree import FenwickTree\n",
    "from sortedcontainers import SortedSet, SortedList, SortedDict"
   ]
  },
  {
   "cell_type": "code",
   "execution_count": 2,
   "id": "47f171a2-f7ef-4479-b680-01f2ea872f40",
   "metadata": {
    "tags": []
   },
   "outputs": [
    {
     "name": "stdin",
     "output_type": "stream",
     "text": [
      " E\n"
     ]
    }
   ],
   "source": [
    "D = input()"
   ]
  },
  {
   "cell_type": "code",
   "execution_count": 3,
   "id": "07c17efe-a1db-4795-84ef-f2ab474d76d4",
   "metadata": {
    "tags": []
   },
   "outputs": [
    {
     "name": "stdout",
     "output_type": "stream",
     "text": [
      "W\n"
     ]
    }
   ],
   "source": [
    "if D == 'N':\n",
    "    print('S')\n",
    "elif D == 'E':\n",
    "    print('W')\n",
    "elif D == 'W':\n",
    "    print('E')\n",
    "elif D == 'S':\n",
    "    print('N')\n",
    "elif D == 'NE':\n",
    "    print('SW')\n",
    "elif D == 'NW':\n",
    "    print('SE')\n",
    "elif D == 'SE':\n",
    "    print('NW')\n",
    "elif D == 'SW':\n",
    "    print('NE')\n",
    "    "
   ]
  },
  {
   "cell_type": "code",
   "execution_count": 23,
   "id": "4653551a-e158-48bf-ac5c-92fcc2b8e5bf",
   "metadata": {
    "tags": []
   },
   "outputs": [],
   "source": [
    "ans = ''\n",
    "for d in D:\n",
    "    if d == 'N':\n",
    "        ans += 'S'\n",
    "    elif d == 'E':\n",
    "        ans += 'W'\n",
    "    elif d == 'W':\n",
    "        ans += 'E'\n",
    "    else:\n",
    "        ans += 'N'"
   ]
  },
  {
   "cell_type": "code",
   "execution_count": 24,
   "id": "69405506-4117-4cd5-a2ac-3baa6bd472f2",
   "metadata": {
    "tags": []
   },
   "outputs": [
    {
     "name": "stdout",
     "output_type": "stream",
     "text": [
      "W\n"
     ]
    }
   ],
   "source": [
    "print(ans)"
   ]
  },
  {
   "cell_type": "code",
   "execution_count": null,
   "id": "f6649290-4079-452e-9342-4bbc5ee176f9",
   "metadata": {},
   "outputs": [],
   "source": []
  }
 ],
 "metadata": {
  "kernelspec": {
   "display_name": "Python 3 (ipykernel)",
   "language": "python",
   "name": "python3"
  },
  "language_info": {
   "codemirror_mode": {
    "name": "ipython",
    "version": 3
   },
   "file_extension": ".py",
   "mimetype": "text/x-python",
   "name": "python",
   "nbconvert_exporter": "python",
   "pygments_lexer": "ipython3",
   "version": "3.11.3"
  }
 },
 "nbformat": 4,
 "nbformat_minor": 5
}
