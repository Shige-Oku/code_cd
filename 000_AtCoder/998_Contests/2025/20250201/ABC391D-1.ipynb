{
 "cells": [
  {
   "cell_type": "code",
   "execution_count": 1,
   "id": "0aecef4d-56cb-4981-a322-d98eea455fd7",
   "metadata": {
    "tags": []
   },
   "outputs": [],
   "source": [
    "import sys\n",
    "import numpy as np\n",
    "import math\n",
    "import collections\n",
    "import copy\n",
    "import decimal\n",
    "import itertools\n",
    "import re\n",
    "import bisect\n",
    "import scipy\n",
    "import heapq\n",
    "from collections import deque \n",
    "from functools import reduce\n",
    "from itertools import product\n",
    "from itertools import combinations\n",
    "from functools import lru_cache\n",
    "from scipy.special import comb\n",
    "from numba import njit\n",
    "from bisect import bisect_right\n",
    "from bisect import bisect_left\n",
    "from atcoder.fenwicktree import FenwickTree\n",
    "from sortedcontainers import SortedSet, SortedList, SortedDict"
   ]
  },
  {
   "cell_type": "code",
   "execution_count": 1,
   "id": "3e1ca155-087d-4d17-b5ec-37eca12aad9a",
   "metadata": {
    "tags": []
   },
   "outputs": [
    {
     "name": "stdin",
     "output_type": "stream",
     "text": [
      " 5 3\n"
     ]
    }
   ],
   "source": [
    "N, W = map(int, input().split())"
   ]
  },
  {
   "cell_type": "code",
   "execution_count": 2,
   "id": "37e88ff5-b198-41fc-a1a1-e49e19879e14",
   "metadata": {
    "tags": []
   },
   "outputs": [
    {
     "name": "stdin",
     "output_type": "stream",
     "text": [
      " 1 1\n",
      " 1 2\n",
      " 2 2\n",
      " 3 2\n",
      " 2 3\n"
     ]
    }
   ],
   "source": [
    "XYn = [list(map(int, input().split())) for _ in range(N)]"
   ]
  },
  {
   "cell_type": "code",
   "execution_count": 3,
   "id": "b7b3ec85-8a24-4ccd-a43c-c1b80c4efb39",
   "metadata": {
    "tags": []
   },
   "outputs": [
    {
     "name": "stdin",
     "output_type": "stream",
     "text": [
      " 6\n"
     ]
    }
   ],
   "source": [
    "Q = int(input())"
   ]
  },
  {
   "cell_type": "code",
   "execution_count": 4,
   "id": "4dec9a2b-fbd9-438a-af17-56f2fc7e1ccd",
   "metadata": {
    "tags": []
   },
   "outputs": [
    {
     "name": "stdin",
     "output_type": "stream",
     "text": [
      " 1 1\n",
      " 1 2\n",
      " 2 3\n",
      " 2 5\n",
      " 3 4\n",
      " 3 5\n"
     ]
    }
   ],
   "source": [
    "TAq = [list(map(int, input().split())) for _ in range(Q)]"
   ]
  },
  {
   "cell_type": "code",
   "execution_count": 31,
   "id": "a2554f20-6039-4802-a30a-49354f9190f7",
   "metadata": {
    "tags": []
   },
   "outputs": [],
   "source": [
    "xitem = [[] for _ in range(N+1)]\n",
    "for X, Y in XYn:\n",
    "    xitem[X].append(Y)\n",
    "    \n",
    "for i in range(len(xitem)):\n",
    "    xitem[i] = sorted(xitem[i])\n",
    "\n",
    "xpos = [0] * (N+1)\n",
    "from bisect import bisect_left\n",
    "for i, (X, Y) in enumerate(XYn, 1):\n",
    "    xpos[i] = bisect_left(xitem[X], Y) + 1\n",
    "\n",
    "xcnt = [[] for _ in range(N+1)]\n",
    "for i, (X, Y) in enumerate(XYn, 1):\n",
    "    xcnt[xpos[i]].append(Y)\n",
    "    \n",
    "xdel = [0] * (N+1)\n",
    "for i in range(1, N+1):\n",
    "    if len(xcnt[i]) >= W:\n",
    "        xdel[i] = max(xcnt[i])\n",
    "    else:\n",
    "        xdel[i] = 10**20"
   ]
  },
  {
   "cell_type": "code",
   "execution_count": 35,
   "id": "d9f6e116-161a-4a2e-b867-beffd5eacb53",
   "metadata": {
    "tags": []
   },
   "outputs": [
    {
     "name": "stdout",
     "output_type": "stream",
     "text": [
      "Yes\n",
      "Yes\n",
      "No\n",
      "Yes\n",
      "No\n",
      "Yes\n"
     ]
    }
   ],
   "source": [
    "for T, A in TAq:\n",
    "    p = xpos[A]\n",
    "    if T >= xdel[p]:\n",
    "        print('No')\n",
    "    else:\n",
    "        print('Yes')"
   ]
  },
  {
   "cell_type": "code",
   "execution_count": null,
   "id": "596386a4-2a36-4e2a-94ce-af145964ff26",
   "metadata": {},
   "outputs": [],
   "source": []
  },
  {
   "cell_type": "code",
   "execution_count": 32,
   "id": "f6ccd44b-9c41-4ccd-b2ce-51537eb899e7",
   "metadata": {
    "tags": []
   },
   "outputs": [
    {
     "data": {
      "text/plain": [
       "([[], [1, 2], [2, 3], [2], [], []],\n",
       " [0, 1, 2, 1, 1, 2],\n",
       " [[], [1, 2, 2], [2, 3], [], [], []],\n",
       " [0,\n",
       "  2,\n",
       "  100000000000000000000,\n",
       "  100000000000000000000,\n",
       "  100000000000000000000,\n",
       "  100000000000000000000])"
      ]
     },
     "execution_count": 32,
     "metadata": {},
     "output_type": "execute_result"
    }
   ],
   "source": [
    "xitem, xpos, xcnt, xdel"
   ]
  },
  {
   "cell_type": "code",
   "execution_count": 24,
   "id": "2fa37f2c-b42c-4f04-86c3-dade92f1afda",
   "metadata": {
    "tags": []
   },
   "outputs": [
    {
     "data": {
      "text/plain": [
       "([1, 2, 2], 2, 3)"
      ]
     },
     "execution_count": 24,
     "metadata": {},
     "output_type": "execute_result"
    }
   ],
   "source": [
    "xcnt[1], max(xcnt[1]), len(xcnt[1])"
   ]
  },
  {
   "cell_type": "code",
   "execution_count": 12,
   "id": "90d5ffe1-9da9-4f3a-b3ac-5d5f739b8b34",
   "metadata": {},
   "outputs": [],
   "source": [
    "# 提出できず。"
   ]
  },
  {
   "cell_type": "code",
   "execution_count": 19,
   "id": "40e6b865-f9c6-4f88-8934-50a15daca0e9",
   "metadata": {
    "tags": []
   },
   "outputs": [],
   "source": [
    "wb = [[] for _ in range(W+1)]\n",
    "ma = 0\n",
    "for X, Y in XYn:\n",
    "    if len(wb[X]) == 0:\n",
    "        ma = max(ma, Y-1)\n",
    "    wb[X].append(Y)\n",
    "for i in range(W+1):\n",
    "    wb[i] = sorted(wb[i])\n",
    "    # print(i)"
   ]
  },
  {
   "cell_type": "code",
   "execution_count": 31,
   "id": "1bf61ccb-5a6e-42e0-bdb4-741d12cc3673",
   "metadata": {
    "tags": []
   },
   "outputs": [
    {
     "name": "stdout",
     "output_type": "stream",
     "text": [
      "Yes\n",
      "Yes\n",
      "2 2 0 2 3\n",
      "3\n",
      "No\n",
      "2 3 1 2 5\n"
     ]
    },
    {
     "ename": "IndexError",
     "evalue": "list index out of range",
     "output_type": "error",
     "traceback": [
      "\u001b[1;31m---------------------------------------------------------------------------\u001b[0m",
      "\u001b[1;31mIndexError\u001b[0m                                Traceback (most recent call last)",
      "Cell \u001b[1;32mIn[31], line 12\u001b[0m\n\u001b[0;32m     10\u001b[0m     \u001b[38;5;28mprint\u001b[39m(\u001b[38;5;124m'\u001b[39m\u001b[38;5;124mYes2\u001b[39m\u001b[38;5;124m'\u001b[39m)\n\u001b[0;32m     11\u001b[0m     \u001b[38;5;28;01mcontinue\u001b[39;00m\n\u001b[1;32m---> 12\u001b[0m \u001b[38;5;28mprint\u001b[39m(wb[X][P\u001b[38;5;241m+\u001b[39m\u001b[38;5;241m1\u001b[39m])\n\u001b[0;32m     13\u001b[0m \u001b[38;5;28;01mif\u001b[39;00m wb[X][P\u001b[38;5;241m+\u001b[39m\u001b[38;5;241m1\u001b[39m] \u001b[38;5;241m>\u001b[39m\u001b[38;5;241m=\u001b[39m T\u001b[38;5;241m-\u001b[39m\u001b[38;5;241m1\u001b[39m:\n\u001b[0;32m     14\u001b[0m     \u001b[38;5;28mprint\u001b[39m(\u001b[38;5;124m'\u001b[39m\u001b[38;5;124mNo\u001b[39m\u001b[38;5;124m'\u001b[39m)\n",
      "\u001b[1;31mIndexError\u001b[0m: list index out of range"
     ]
    }
   ],
   "source": [
    "from bisect import bisect_left\n",
    "for T, A in TAq:\n",
    "    X, Y = XYn[A-1]\n",
    "    P = bisect_left(wb[X], Y)\n",
    "    if ma >= T:\n",
    "        print('Yes')\n",
    "        continue\n",
    "    print(X, Y, P, T, A)\n",
    "    if p >= len(wb[X]):\n",
    "        print('Yes2')\n",
    "        continue\n",
    "    print(wb[X][P+1])\n",
    "    if wb[X][P+1] >= T-1:\n",
    "        print('No')\n",
    "    else:\n",
    "        print('Yes3')"
   ]
  },
  {
   "cell_type": "code",
   "execution_count": 32,
   "id": "f0adb0c2-ebfa-482c-afa3-2efc241c7024",
   "metadata": {
    "tags": []
   },
   "outputs": [
    {
     "data": {
      "text/plain": [
       "[[], [1, 2], [2, 3], [2]]"
      ]
     },
     "execution_count": 32,
     "metadata": {},
     "output_type": "execute_result"
    }
   ],
   "source": [
    "wb"
   ]
  },
  {
   "cell_type": "code",
   "execution_count": 21,
   "id": "a8239c02-93ad-4068-a13f-6b2bc1485347",
   "metadata": {
    "tags": []
   },
   "outputs": [
    {
     "data": {
      "text/plain": [
       "1"
      ]
     },
     "execution_count": 21,
     "metadata": {},
     "output_type": "execute_result"
    }
   ],
   "source": [
    "ma"
   ]
  },
  {
   "cell_type": "code",
   "execution_count": null,
   "id": "2629ba7b-e8f6-4e94-a293-8d53955a8132",
   "metadata": {},
   "outputs": [],
   "source": []
  }
 ],
 "metadata": {
  "kernelspec": {
   "display_name": "Python 3 (ipykernel)",
   "language": "python",
   "name": "python3"
  },
  "language_info": {
   "codemirror_mode": {
    "name": "ipython",
    "version": 3
   },
   "file_extension": ".py",
   "mimetype": "text/x-python",
   "name": "python",
   "nbconvert_exporter": "python",
   "pygments_lexer": "ipython3",
   "version": "3.11.3"
  }
 },
 "nbformat": 4,
 "nbformat_minor": 5
}
