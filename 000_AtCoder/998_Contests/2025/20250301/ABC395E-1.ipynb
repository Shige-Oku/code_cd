{
 "cells": [
  {
   "cell_type": "code",
   "execution_count": 1,
   "id": "15a68bd5-91bb-4be1-b22c-61d793028dfe",
   "metadata": {
    "tags": []
   },
   "outputs": [],
   "source": [
    "import sys\n",
    "import numpy as np\n",
    "import math\n",
    "import collections\n",
    "import copy\n",
    "import decimal\n",
    "import itertools\n",
    "import re\n",
    "import bisect\n",
    "import scipy\n",
    "import heapq\n",
    "from collections import deque \n",
    "from functools import reduce\n",
    "from itertools import product\n",
    "from itertools import combinations\n",
    "from functools import lru_cache\n",
    "from scipy.special import comb\n",
    "from numba import njit\n",
    "from bisect import bisect_right\n",
    "from bisect import bisect_left\n",
    "from atcoder.fenwicktree import FenwickTree\n",
    "from sortedcontainers import SortedSet, SortedList, SortedDict"
   ]
  },
  {
   "cell_type": "code",
   "execution_count": 17,
   "id": "ae5c659e-ece9-4583-b317-f54f54495da9",
   "metadata": {
    "tags": []
   },
   "outputs": [
    {
     "name": "stdin",
     "output_type": "stream",
     "text": [
      " 5 6 1\n"
     ]
    }
   ],
   "source": [
    "N, M, X = map(int, input().split())"
   ]
  },
  {
   "cell_type": "code",
   "execution_count": 18,
   "id": "e6051d41-0603-45ca-8eca-6c739f695e26",
   "metadata": {
    "tags": []
   },
   "outputs": [
    {
     "name": "stdin",
     "output_type": "stream",
     "text": [
      " 1 2\n",
      " 2 4\n",
      " 3 1\n",
      " 3 5\n",
      " 4 3\n",
      " 5 2\n"
     ]
    }
   ],
   "source": [
    "UVm = [list(map(int, input().split())) for _ in range(M)]"
   ]
  },
  {
   "cell_type": "code",
   "execution_count": 19,
   "id": "615be50b-23a8-4d8d-9042-a219a0877d14",
   "metadata": {
    "tags": []
   },
   "outputs": [],
   "source": [
    "graph = [[] for _ in range(N+1)]\n",
    "for U, V in UVm:\n",
    "    graph[U].append((V, 1))\n",
    "    graph[V].append((U, X))"
   ]
  },
  {
   "cell_type": "code",
   "execution_count": 20,
   "id": "37b581ac-3b06-4bc9-8c2d-6e63bcafd38e",
   "metadata": {
    "tags": []
   },
   "outputs": [],
   "source": [
    "import  heapq \n",
    "def solve():\n",
    "    dist = [-1] * (N+1)\n",
    "    visit = [False] * (N+1)\n",
    "    ret = 0\n",
    "    q = []\n",
    "    heapq.heappush(q, (0, 1))\n",
    "    dist[1] = 0\n",
    "    while q:\n",
    "        c, p = heapq.heappop(q)\n",
    "        if visit[p]:\n",
    "            continue\n",
    "        for ne, c in graph[p]:\n",
    "            if dist[ne] == -1 or dist[ne] > dist[p] + c:\n",
    "                dist[ne] = dist[p] + c\n",
    "                heapq.heappush(q, (dist[ne], ne))\n",
    "    return dist[N]"
   ]
  },
  {
   "cell_type": "code",
   "execution_count": 21,
   "id": "95b4f844-71f0-420a-b5a0-b82423a24c33",
   "metadata": {
    "tags": []
   },
   "outputs": [
    {
     "name": "stdout",
     "output_type": "stream",
     "text": [
      "2\n"
     ]
    }
   ],
   "source": [
    "print(solve())"
   ]
  },
  {
   "cell_type": "code",
   "execution_count": null,
   "id": "70ae7c7e-c7bb-430e-97f4-d89e2ff6455f",
   "metadata": {},
   "outputs": [],
   "source": []
  }
 ],
 "metadata": {
  "kernelspec": {
   "display_name": "Python 3 (ipykernel)",
   "language": "python",
   "name": "python3"
  },
  "language_info": {
   "codemirror_mode": {
    "name": "ipython",
    "version": 3
   },
   "file_extension": ".py",
   "mimetype": "text/x-python",
   "name": "python",
   "nbconvert_exporter": "python",
   "pygments_lexer": "ipython3",
   "version": "3.11.3"
  }
 },
 "nbformat": 4,
 "nbformat_minor": 5
}
