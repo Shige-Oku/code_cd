{
 "cells": [
  {
   "cell_type": "code",
   "execution_count": 1,
   "id": "14fce010-638a-4c4d-9525-2144b76dc062",
   "metadata": {
    "tags": []
   },
   "outputs": [],
   "source": [
    "import sys\n",
    "import numpy as np\n",
    "import math\n",
    "import collections\n",
    "import copy\n",
    "import decimal\n",
    "import itertools\n",
    "import re\n",
    "import bisect\n",
    "import scipy\n",
    "import heapq\n",
    "from collections import deque \n",
    "from functools import reduce\n",
    "from itertools import product\n",
    "from itertools import combinations\n",
    "from functools import lru_cache\n",
    "from scipy.special import comb\n",
    "from numba import njit\n",
    "from bisect import bisect_right\n",
    "from bisect import bisect_left\n",
    "from atcoder.fenwicktree import FenwickTree\n",
    "from sortedcontainers import SortedSet, SortedList, SortedDict"
   ]
  },
  {
   "cell_type": "code",
   "execution_count": 11,
   "id": "ed9237ba-9de5-4df8-8198-2449bea70a9b",
   "metadata": {
    "tags": []
   },
   "outputs": [
    {
     "name": "stdin",
     "output_type": "stream",
     "text": [
      " 5\n"
     ]
    }
   ],
   "source": [
    "N = int(input())"
   ]
  },
  {
   "cell_type": "code",
   "execution_count": 52,
   "id": "a463ef9f-592d-4257-a990-24e94e2904c2",
   "metadata": {
    "tags": []
   },
   "outputs": [
    {
     "name": "stdout",
     "output_type": "stream",
     "text": [
      "[['#', '#', '#', '#', '#'], ['#', '#', '#', '#', '#'], ['#', '#', '#', '#', '#'], ['#', '#', '#', '#', '#'], ['#', '#', '#', '#', '#']]\n",
      "[['#', '#', '#', '#', '#'], ['#', '.', '.', '.', '#'], ['#', '.', '.', '.', '#'], ['#', '.', '.', '.', '#'], ['#', '#', '#', '#', '#']]\n",
      "[['#', '#', '#', '#', '#'], ['#', '.', '.', '.', '#'], ['#', '.', '#', '.', '#'], ['#', '.', '.', '.', '#'], ['#', '#', '#', '#', '#']]\n",
      "[['#', '#', '#', '#', '#'], ['#', '.', '.', '.', '#'], ['#', '.', '#', '.', '#'], ['#', '.', '.', '.', '#'], ['#', '#', '#', '#', '#']]\n",
      "[['#', '#', '#', '#', '#'], ['#', '.', '.', '.', '#'], ['#', '.', '#', '.', '#'], ['#', '.', '.', '.', '#'], ['#', '#', '#', '#', '#']]\n"
     ]
    }
   ],
   "source": [
    "ans = [['.'] * N for _ in range(N)]\n",
    "for i in range(N):\n",
    "    if i % 2 == 0:\n",
    "        c = '#'\n",
    "    else:\n",
    "        c = '.'\n",
    "        \n",
    "    for h in range(i, N-i):\n",
    "        for w in range(i, N-i):\n",
    "            # print(h, w)\n",
    "            ans[h][w] = c\n",
    "    # print(ans)"
   ]
  },
  {
   "cell_type": "code",
   "execution_count": 57,
   "id": "ac366962-1dd9-40b7-919b-e42ea5247abe",
   "metadata": {
    "tags": []
   },
   "outputs": [
    {
     "name": "stdout",
     "output_type": "stream",
     "text": [
      "#####\n",
      "#...#\n",
      "#.#.#\n",
      "#...#\n",
      "#####\n"
     ]
    }
   ],
   "source": [
    "for a in ans:\n",
    "    print(*a, sep='')"
   ]
  },
  {
   "cell_type": "code",
   "execution_count": 53,
   "id": "99930aef-0fa8-4eae-ac1b-5883f6b0da4f",
   "metadata": {
    "tags": []
   },
   "outputs": [
    {
     "data": {
      "text/plain": [
       "(2, 2)"
      ]
     },
     "execution_count": 53,
     "metadata": {},
     "output_type": "execute_result"
    }
   ],
   "source": [
    "h, w"
   ]
  },
  {
   "cell_type": "code",
   "execution_count": 54,
   "id": "8733c531-70be-4826-ba97-098adf48324e",
   "metadata": {
    "tags": []
   },
   "outputs": [
    {
     "data": {
      "text/plain": [
       "[['#', '#', '#', '#', '#'],\n",
       " ['#', '.', '.', '.', '#'],\n",
       " ['#', '.', '#', '.', '#'],\n",
       " ['#', '.', '.', '.', '#'],\n",
       " ['#', '#', '#', '#', '#']]"
      ]
     },
     "execution_count": 54,
     "metadata": {},
     "output_type": "execute_result"
    }
   ],
   "source": [
    "ans"
   ]
  },
  {
   "cell_type": "code",
   "execution_count": 27,
   "id": "ec78f0cd-faf9-4bf4-9dcb-f7af1748e488",
   "metadata": {
    "tags": []
   },
   "outputs": [
    {
     "data": {
      "text/plain": [
       "(1, 5)"
      ]
     },
     "execution_count": 27,
     "metadata": {},
     "output_type": "execute_result"
    }
   ],
   "source": [
    "i, j"
   ]
  },
  {
   "cell_type": "code",
   "execution_count": 43,
   "id": "12432cc3-2386-4b06-bd1b-3c7209cc61a2",
   "metadata": {
    "tags": []
   },
   "outputs": [
    {
     "name": "stdout",
     "output_type": "stream",
     "text": [
      "[['.', '.', '.', '.', '.'], ['.', '.', '.', '.', '.'], ['.', '.', '.', '.', '.'], ['.', '.', '.', '.', '.'], ['.', '.', '.', '.', '.']]\n",
      "[['.', '.', '.', '.', '.'], ['.', '#', '#', '.', '.'], ['.', '#', '#', '.', '.'], ['.', '.', '.', '.', '.'], ['.', '.', '.', '.', '.']]\n",
      "[['.', '.', '.', '.', '.'], ['.', '#', '#', '.', '.'], ['.', '#', '#', '.', '.'], ['.', '.', '.', '.', '.'], ['.', '.', '.', '.', '.']]\n"
     ]
    }
   ],
   "source": [
    "ans = [['.'] * N for _ in range(N)]\n",
    "for i in range(1, N+1):\n",
    "    j = N + 1 - i\n",
    "    if i > j:\n",
    "        continue\n",
    "        \n",
    "    if i % 2 == 0:\n",
    "        c = '#'\n",
    "    else:\n",
    "        c = '.'\n",
    "        \n",
    "    for h in range(i, j):\n",
    "        for w in range(i, j):\n",
    "            # print(h, w)\n",
    "            ans[h-1][w-1] = c\n",
    "    print(ans)"
   ]
  },
  {
   "cell_type": "code",
   "execution_count": 33,
   "id": "fe4f6028-5036-4336-9316-dad4c31bebf0",
   "metadata": {
    "tags": []
   },
   "outputs": [
    {
     "ename": "IndexError",
     "evalue": "list index out of range",
     "output_type": "error",
     "traceback": [
      "\u001b[1;31m---------------------------------------------------------------------------\u001b[0m",
      "\u001b[1;31mIndexError\u001b[0m                                Traceback (most recent call last)",
      "Cell \u001b[1;32mIn[33], line 1\u001b[0m\n\u001b[1;32m----> 1\u001b[0m ans[\u001b[38;5;241m0\u001b[39m][\u001b[38;5;241m0\u001b[39m]\n",
      "\u001b[1;31mIndexError\u001b[0m: list index out of range"
     ]
    }
   ],
   "source": [
    "ans[0][0]"
   ]
  },
  {
   "cell_type": "code",
   "execution_count": null,
   "id": "e8220be8-abd9-4a03-93f8-f092b1d86d7c",
   "metadata": {},
   "outputs": [],
   "source": []
  }
 ],
 "metadata": {
  "kernelspec": {
   "display_name": "Python 3 (ipykernel)",
   "language": "python",
   "name": "python3"
  },
  "language_info": {
   "codemirror_mode": {
    "name": "ipython",
    "version": 3
   },
   "file_extension": ".py",
   "mimetype": "text/x-python",
   "name": "python",
   "nbconvert_exporter": "python",
   "pygments_lexer": "ipython3",
   "version": "3.11.3"
  }
 },
 "nbformat": 4,
 "nbformat_minor": 5
}
