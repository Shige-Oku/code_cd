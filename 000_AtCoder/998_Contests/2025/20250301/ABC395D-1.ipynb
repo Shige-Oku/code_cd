{
 "cells": [
  {
   "cell_type": "code",
   "execution_count": 1,
   "id": "e6c25f55-5b61-4a6e-9393-a55d4d94b91f",
   "metadata": {
    "tags": []
   },
   "outputs": [],
   "source": [
    "import sys\n",
    "import numpy as np\n",
    "import math\n",
    "import collections\n",
    "import copy\n",
    "import decimal\n",
    "import itertools\n",
    "import re\n",
    "import bisect\n",
    "import scipy\n",
    "import heapq\n",
    "from collections import deque \n",
    "from functools import reduce\n",
    "from itertools import product\n",
    "from itertools import combinations\n",
    "from functools import lru_cache\n",
    "from scipy.special import comb\n",
    "from numba import njit\n",
    "from bisect import bisect_right\n",
    "from bisect import bisect_left\n",
    "from atcoder.fenwicktree import FenwickTree\n",
    "from sortedcontainers import SortedSet, SortedList, SortedDict"
   ]
  },
  {
   "cell_type": "code",
   "execution_count": 25,
   "id": "bb96cea9-70d3-41b8-9e85-0d614b3c9da0",
   "metadata": {
    "tags": []
   },
   "outputs": [
    {
     "name": "stdin",
     "output_type": "stream",
     "text": [
      " 30 8\n"
     ]
    }
   ],
   "source": [
    "N, Q = map(int, input().split())"
   ]
  },
  {
   "cell_type": "code",
   "execution_count": 26,
   "id": "696fbfcb-3091-4085-980a-81e4fae06b4f",
   "metadata": {
    "tags": []
   },
   "outputs": [
    {
     "name": "stdin",
     "output_type": "stream",
     "text": [
      " 2 8 30\n",
      " 2 12 15\n",
      " 2 2 17\n",
      " 1 19 1\n",
      " 2 7 30\n",
      " 3 12\n",
      " 3 8\n",
      " 2 25 26\n"
     ]
    }
   ],
   "source": [
    "Opq = [list(map(int, input().split())) for _ in range(Q)]"
   ]
  },
  {
   "cell_type": "code",
   "execution_count": 32,
   "id": "96c0337f-e974-4a2b-af77-6884bd9c35cf",
   "metadata": {
    "tags": []
   },
   "outputs": [
    {
     "name": "stdout",
     "output_type": "stream",
     "text": [
      "15\n",
      "7\n"
     ]
    }
   ],
   "source": [
    "pi = [x for x in range(N+1)]\n",
    "su = [x for x in range(N+1)]\n",
    "\n",
    "for ope in Opq:\n",
    "    # print(ope)\n",
    "    if ope[0] == 1:\n",
    "        _, p, ns = ope\n",
    "        pi[p] = ns\n",
    "    elif ope[0] == 2:\n",
    "        _, s1, s2 = ope\n",
    "        s11 = su[s1]\n",
    "        s21 = su[s2]\n",
    "        su[s11], su[s21] = su[s21], su[s11]\n",
    "    else:\n",
    "        _, p = ope\n",
    "        p2 = pi[p]\n",
    "        print(su[p2])"
   ]
  },
  {
   "cell_type": "code",
   "execution_count": 31,
   "id": "b3ccd974-35bd-403c-89d0-e4b2dc54ab22",
   "metadata": {
    "tags": []
   },
   "outputs": [
    {
     "data": {
      "text/plain": [
       "(8, 30, 7, 8)"
      ]
     },
     "execution_count": 31,
     "metadata": {},
     "output_type": "execute_result"
    }
   ],
   "source": [
    "pi[8], su[8], su[30], su[7]"
   ]
  },
  {
   "cell_type": "code",
   "execution_count": 15,
   "id": "6cf2e7e0-2c5d-4dd9-b8e9-295c90051024",
   "metadata": {
    "tags": []
   },
   "outputs": [
    {
     "data": {
      "text/plain": [
       "([0, 1, 5, 6, 2, 4, 6],\n",
       " [set(), {1}, {4}, set(), {5}, {2}, {3, 6}],\n",
       " [0, 1, 2, 3, 4, 5, 6])"
      ]
     },
     "execution_count": 15,
     "metadata": {},
     "output_type": "execute_result"
    }
   ],
   "source": [
    "pi, su, sup"
   ]
  },
  {
   "cell_type": "code",
   "execution_count": 13,
   "id": "fdfdcc6f-b94e-431b-ad36-92a99ebff0dd",
   "metadata": {
    "tags": []
   },
   "outputs": [
    {
     "name": "stdout",
     "output_type": "stream",
     "text": [
      "4\n",
      "5\n",
      "2\n",
      "5\n"
     ]
    }
   ],
   "source": [
    "pi = [x for x in range(N+1)]\n",
    "su = [set() for _ in range(N+1)]\n",
    "for i in range(1, N+1):\n",
    "    su[i].add(i)\n",
    "\n",
    "for ope in Opq:\n",
    "    # print(ope)\n",
    "    if ope[0] == 1:\n",
    "        _, p, ns = ope\n",
    "        s = pi[p]\n",
    "        su[s].remove(p)\n",
    "        pi[p] = ns\n",
    "        su[ns].add(p)\n",
    "    elif ope[0] == 2:\n",
    "        _, s1, s2 = ope\n",
    "        su[s1], su[s2] = su[s2], su[s1]\n",
    "        for s in su[s1]:\n",
    "            pi[s] = s1\n",
    "        for s in su[s2]:\n",
    "            pi[s] = s2\n",
    "    else:\n",
    "        _, p = ope\n",
    "        print(pi[p])"
   ]
  },
  {
   "cell_type": "code",
   "execution_count": null,
   "id": "5efdc649-3396-4a43-a4dc-e7dec967fed9",
   "metadata": {},
   "outputs": [],
   "source": []
  }
 ],
 "metadata": {
  "kernelspec": {
   "display_name": "Python 3 (ipykernel)",
   "language": "python",
   "name": "python3"
  },
  "language_info": {
   "codemirror_mode": {
    "name": "ipython",
    "version": 3
   },
   "file_extension": ".py",
   "mimetype": "text/x-python",
   "name": "python",
   "nbconvert_exporter": "python",
   "pygments_lexer": "ipython3",
   "version": "3.11.3"
  }
 },
 "nbformat": 4,
 "nbformat_minor": 5
}
