{
 "cells": [
  {
   "cell_type": "code",
   "execution_count": 1,
   "id": "1257816f-c4e7-4019-a41a-e35ec8f2f532",
   "metadata": {
    "tags": []
   },
   "outputs": [],
   "source": [
    "import sys\n",
    "import numpy as np\n",
    "import math\n",
    "import collections\n",
    "import copy\n",
    "import decimal\n",
    "import itertools\n",
    "import re\n",
    "import bisect\n",
    "import scipy\n",
    "import heapq\n",
    "from collections import deque \n",
    "from functools import reduce\n",
    "from itertools import product\n",
    "from itertools import combinations\n",
    "from functools import lru_cache\n",
    "from scipy.special import comb\n",
    "from numba import njit\n",
    "from bisect import bisect_right\n",
    "from bisect import bisect_left\n",
    "from atcoder.fenwicktree import FenwickTree\n",
    "from sortedcontainers import SortedSet, SortedList, SortedDict"
   ]
  },
  {
   "cell_type": "code",
   "execution_count": 29,
   "id": "deb27a94-e914-4f54-a346-7eb052a4008f",
   "metadata": {
    "tags": []
   },
   "outputs": [
    {
     "name": "stdin",
     "output_type": "stream",
     "text": [
      " 13 13 1 1 7 4 13\n"
     ]
    }
   ],
   "source": [
    "A1, A2, A3, A4, A5, A6, A7 = map(int, input().split())"
   ]
  },
  {
   "cell_type": "code",
   "execution_count": 30,
   "id": "39cc2181-8557-467a-a417-acd9b171c97e",
   "metadata": {
    "tags": []
   },
   "outputs": [],
   "source": [
    "from collections import Counter \n",
    "An_c = Counter([A1, A2, A3, A4, A5, A6, A7])"
   ]
  },
  {
   "cell_type": "code",
   "execution_count": 31,
   "id": "0a9f593c-ca49-4bb4-885a-5cd6f636d98e",
   "metadata": {
    "tags": []
   },
   "outputs": [],
   "source": [
    "f2, f3 = 0, 0\n",
    "for k, v in An_c.items():\n",
    "    if v >= 2:\n",
    "        f2 += 1\n",
    "    if v >= 3:\n",
    "        f3 += 1"
   ]
  },
  {
   "cell_type": "code",
   "execution_count": 32,
   "id": "39e5886f-deb4-4a7a-9710-077a755769a7",
   "metadata": {
    "tags": []
   },
   "outputs": [
    {
     "name": "stdout",
     "output_type": "stream",
     "text": [
      "Yes\n"
     ]
    }
   ],
   "source": [
    "print('Yes' if f2 >=2 and f3 >= 1 else 'No')"
   ]
  },
  {
   "cell_type": "code",
   "execution_count": 19,
   "id": "2cb7e7f0-fd56-44f8-ac3f-b35d5d5b619c",
   "metadata": {
    "tags": []
   },
   "outputs": [
    {
     "data": {
      "text/plain": [
       "(1, 1)"
      ]
     },
     "execution_count": 19,
     "metadata": {},
     "output_type": "execute_result"
    }
   ],
   "source": [
    "f2, f3"
   ]
  },
  {
   "cell_type": "code",
   "execution_count": null,
   "id": "ea9e32eb-2e23-418d-b1da-b3d870a26d2e",
   "metadata": {},
   "outputs": [],
   "source": []
  }
 ],
 "metadata": {
  "kernelspec": {
   "display_name": "Python 3 (ipykernel)",
   "language": "python",
   "name": "python3"
  },
  "language_info": {
   "codemirror_mode": {
    "name": "ipython",
    "version": 3
   },
   "file_extension": ".py",
   "mimetype": "text/x-python",
   "name": "python",
   "nbconvert_exporter": "python",
   "pygments_lexer": "ipython3",
   "version": "3.11.3"
  }
 },
 "nbformat": 4,
 "nbformat_minor": 5
}
