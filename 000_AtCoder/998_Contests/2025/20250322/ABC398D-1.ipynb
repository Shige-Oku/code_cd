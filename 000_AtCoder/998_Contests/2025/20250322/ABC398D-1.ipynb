{
 "cells": [
  {
   "cell_type": "code",
   "execution_count": 1,
   "id": "335917e2-9ae4-4da3-98fb-66cbae6df0ad",
   "metadata": {
    "tags": []
   },
   "outputs": [],
   "source": [
    "import sys\n",
    "import numpy as np\n",
    "import math\n",
    "import collections\n",
    "import copy\n",
    "import decimal\n",
    "import itertools\n",
    "import re\n",
    "import bisect\n",
    "import scipy\n",
    "import heapq\n",
    "from collections import deque \n",
    "from functools import reduce\n",
    "from itertools import product\n",
    "from itertools import combinations\n",
    "from functools import lru_cache\n",
    "from scipy.special import comb\n",
    "from numba import njit\n",
    "from bisect import bisect_right\n",
    "from bisect import bisect_left\n",
    "from atcoder.fenwicktree import FenwickTree\n",
    "from sortedcontainers import SortedSet, SortedList, SortedDict"
   ]
  },
  {
   "cell_type": "code",
   "execution_count": 38,
   "id": "a3fb68e9-584a-4fd5-8240-b753be9da82e",
   "metadata": {
    "tags": []
   },
   "outputs": [
    {
     "name": "stdin",
     "output_type": "stream",
     "text": [
      " 20 -1 -2\n"
     ]
    }
   ],
   "source": [
    "N, R, C = map(int, input().split())"
   ]
  },
  {
   "cell_type": "code",
   "execution_count": 37,
   "id": "a14cae28-d5a5-4e90-ba41-8df936485b2a",
   "metadata": {
    "tags": []
   },
   "outputs": [
    {
     "name": "stdin",
     "output_type": "stream",
     "text": [
      " WWNNWSWEWNSWWENSNWWN\n"
     ]
    }
   ],
   "source": [
    "S = input()"
   ]
  },
  {
   "cell_type": "code",
   "execution_count": 45,
   "id": "393335d6-3169-4168-b61f-bb3060a5c46d",
   "metadata": {
    "tags": []
   },
   "outputs": [
    {
     "name": "stdout",
     "output_type": "stream",
     "text": [
      "00100111111000101111"
     ]
    }
   ],
   "source": [
    "takahashi = [R+N, C+N]\n",
    "takibi = [N, N]\n",
    "smoke = set()\n",
    "smoke.add((N, N))\n",
    "# smoke = [[False] * (2*N+1) for _ in range(2*N+1)]\n",
    "# smoke[N][N] = True\n",
    "# ans = []\n",
    "# print(takahashi, takibi)\n",
    "for s in S:\n",
    "    if s == 'N':\n",
    "        takahashi[0] += 1\n",
    "        takibi[0] += 1\n",
    "    elif s == 'W':\n",
    "        takahashi[1] += 1\n",
    "        takibi[1] += 1\n",
    "    elif s == 'S':\n",
    "        takahashi[0] -= 1\n",
    "        takibi[0] -= 1\n",
    "    else:\n",
    "        takahashi[1] -= 1\n",
    "        takibi[1] -= 1\n",
    "    \n",
    "    # print(takahashi, takibi)\n",
    "    h, w = takibi\n",
    "    smoke.add((h, w))\n",
    "    h, w = takahashi\n",
    "    if (h, w) in smoke:\n",
    "        print('1', end='')\n",
    "    else:\n",
    "        print('0', end='')\n",
    "    # print(h, w)\n",
    "    # print(smoke[h])\n",
    "    "
   ]
  },
  {
   "cell_type": "code",
   "execution_count": 46,
   "id": "979d5c89-655f-4c61-aa27-834327bf1f7b",
   "metadata": {
    "tags": []
   },
   "outputs": [
    {
     "name": "stdout",
     "output_type": "stream",
     "text": [
      "['0', '0', '1', '0', '0', '1', '1', '1', '1', '1', '1', '0', '0', '0', '1', '0', '1', '1', '1', '1']\n"
     ]
    }
   ],
   "source": [
    "print(ans)"
   ]
  },
  {
   "cell_type": "code",
   "execution_count": 20,
   "id": "1cd482e1-074c-4fac-8111-b74367136e09",
   "metadata": {
    "tags": []
   },
   "outputs": [
    {
     "data": {
      "text/plain": [
       "[[False,\n",
       "  False,\n",
       "  False,\n",
       "  False,\n",
       "  False,\n",
       "  False,\n",
       "  False,\n",
       "  False,\n",
       "  False,\n",
       "  False,\n",
       "  False,\n",
       "  False,\n",
       "  False],\n",
       " [False,\n",
       "  False,\n",
       "  False,\n",
       "  False,\n",
       "  False,\n",
       "  False,\n",
       "  False,\n",
       "  False,\n",
       "  False,\n",
       "  False,\n",
       "  False,\n",
       "  False,\n",
       "  False],\n",
       " [False,\n",
       "  False,\n",
       "  False,\n",
       "  False,\n",
       "  False,\n",
       "  False,\n",
       "  False,\n",
       "  False,\n",
       "  False,\n",
       "  False,\n",
       "  False,\n",
       "  False,\n",
       "  False],\n",
       " [False,\n",
       "  False,\n",
       "  False,\n",
       "  False,\n",
       "  False,\n",
       "  False,\n",
       "  False,\n",
       "  False,\n",
       "  False,\n",
       "  False,\n",
       "  False,\n",
       "  False,\n",
       "  False],\n",
       " [False,\n",
       "  False,\n",
       "  False,\n",
       "  False,\n",
       "  False,\n",
       "  False,\n",
       "  False,\n",
       "  False,\n",
       "  False,\n",
       "  False,\n",
       "  False,\n",
       "  False,\n",
       "  False],\n",
       " [False,\n",
       "  False,\n",
       "  False,\n",
       "  False,\n",
       "  False,\n",
       "  False,\n",
       "  False,\n",
       "  False,\n",
       "  False,\n",
       "  False,\n",
       "  False,\n",
       "  False,\n",
       "  False],\n",
       " [False,\n",
       "  False,\n",
       "  False,\n",
       "  False,\n",
       "  False,\n",
       "  False,\n",
       "  True,\n",
       "  False,\n",
       "  False,\n",
       "  False,\n",
       "  False,\n",
       "  False,\n",
       "  False],\n",
       " [False,\n",
       "  False,\n",
       "  False,\n",
       "  False,\n",
       "  False,\n",
       "  False,\n",
       "  True,\n",
       "  True,\n",
       "  False,\n",
       "  False,\n",
       "  False,\n",
       "  False,\n",
       "  False],\n",
       " [False,\n",
       "  False,\n",
       "  False,\n",
       "  False,\n",
       "  False,\n",
       "  False,\n",
       "  True,\n",
       "  True,\n",
       "  True,\n",
       "  False,\n",
       "  False,\n",
       "  False,\n",
       "  False],\n",
       " [False,\n",
       "  False,\n",
       "  False,\n",
       "  False,\n",
       "  False,\n",
       "  False,\n",
       "  False,\n",
       "  False,\n",
       "  False,\n",
       "  False,\n",
       "  False,\n",
       "  False,\n",
       "  False],\n",
       " [False,\n",
       "  False,\n",
       "  False,\n",
       "  False,\n",
       "  False,\n",
       "  False,\n",
       "  False,\n",
       "  False,\n",
       "  False,\n",
       "  False,\n",
       "  False,\n",
       "  False,\n",
       "  False],\n",
       " [False,\n",
       "  False,\n",
       "  False,\n",
       "  False,\n",
       "  False,\n",
       "  False,\n",
       "  False,\n",
       "  False,\n",
       "  False,\n",
       "  False,\n",
       "  False,\n",
       "  False,\n",
       "  False],\n",
       " [False,\n",
       "  False,\n",
       "  False,\n",
       "  False,\n",
       "  False,\n",
       "  False,\n",
       "  False,\n",
       "  False,\n",
       "  False,\n",
       "  False,\n",
       "  False,\n",
       "  False,\n",
       "  False]]"
      ]
     },
     "execution_count": 20,
     "metadata": {},
     "output_type": "execute_result"
    }
   ],
   "source": [
    "smokeoke"
   ]
  },
  {
   "cell_type": "code",
   "execution_count": 10,
   "id": "83c61ac2-b89c-4b1a-b651-949f8de9bc75",
   "metadata": {
    "tags": []
   },
   "outputs": [],
   "source": [
    "direction = [[0] * 4 for _ in range(N+1)]\n",
    "for i, s in enumerate(S, 1):\n",
    "    for j in range(4):\n",
    "        direction[i][j] = direction[i-1][j]\n",
    "    if s == 'N':\n",
    "        direction[i][0] += 1\n",
    "    elif s =='W':\n",
    "        direction[i][1] += 1\n",
    "    elif s =='S':\n",
    "        direction[i][2] += 1\n",
    "    else:\n",
    "        direction[i][3] += 1\n"
   ]
  },
  {
   "cell_type": "code",
   "execution_count": null,
   "id": "dc5e3b0d-e8c7-4cc2-8569-64ddaf4e341e",
   "metadata": {
    "tags": []
   },
   "outputs": [],
   "source": []
  },
  {
   "cell_type": "code",
   "execution_count": 11,
   "id": "06837f0e-ed52-4447-9c6d-642a95b90a67",
   "metadata": {
    "tags": []
   },
   "outputs": [
    {
     "data": {
      "text/plain": [
       "[[0, 0, 0, 0],\n",
       " [1, 0, 0, 0],\n",
       " [2, 0, 0, 0],\n",
       " [2, 0, 0, 1],\n",
       " [2, 0, 0, 2],\n",
       " [2, 1, 0, 2],\n",
       " [2, 1, 1, 2]]"
      ]
     },
     "execution_count": 11,
     "metadata": {},
     "output_type": "execute_result"
    }
   ],
   "source": [
    "direction"
   ]
  },
  {
   "cell_type": "code",
   "execution_count": null,
   "id": "9959e709-9f9c-4b1d-9e00-16ac88a6f080",
   "metadata": {},
   "outputs": [],
   "source": []
  },
  {
   "cell_type": "code",
   "execution_count": null,
   "id": "7b1631dd-3f72-4322-9b14-d5dac1f7cdf8",
   "metadata": {},
   "outputs": [],
   "source": []
  },
  {
   "cell_type": "code",
   "execution_count": null,
   "id": "1b1429cf-8568-4d8c-94a8-ff914a16c9ed",
   "metadata": {},
   "outputs": [],
   "source": []
  },
  {
   "cell_type": "code",
   "execution_count": null,
   "id": "70a38f3d-f109-43e1-95d1-783f7bde5240",
   "metadata": {},
   "outputs": [],
   "source": []
  },
  {
   "cell_type": "code",
   "execution_count": 6,
   "id": "2a207bd1-7cf8-4ae7-b334-7ef952be0eb7",
   "metadata": {
    "tags": []
   },
   "outputs": [],
   "source": [
    "direction[1][1] = 5"
   ]
  },
  {
   "cell_type": "code",
   "execution_count": null,
   "id": "d9b75395-01d3-4e79-845f-5e5009bde4a4",
   "metadata": {},
   "outputs": [],
   "source": []
  }
 ],
 "metadata": {
  "kernelspec": {
   "display_name": "Python 3 (ipykernel)",
   "language": "python",
   "name": "python3"
  },
  "language_info": {
   "codemirror_mode": {
    "name": "ipython",
    "version": 3
   },
   "file_extension": ".py",
   "mimetype": "text/x-python",
   "name": "python",
   "nbconvert_exporter": "python",
   "pygments_lexer": "ipython3",
   "version": "3.11.3"
  }
 },
 "nbformat": 4,
 "nbformat_minor": 5
}
