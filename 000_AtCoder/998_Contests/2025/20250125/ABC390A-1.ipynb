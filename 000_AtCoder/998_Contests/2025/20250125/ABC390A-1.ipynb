{
 "cells": [
  {
   "cell_type": "code",
   "execution_count": 1,
   "id": "bf15bb9e-d045-48e2-9d19-a0cf49ba2da0",
   "metadata": {
    "tags": []
   },
   "outputs": [],
   "source": [
    "import sys\n",
    "import numpy as np\n",
    "import math\n",
    "import collections\n",
    "import copy\n",
    "import decimal\n",
    "import itertools\n",
    "import re\n",
    "import bisect\n",
    "import scipy\n",
    "import heapq\n",
    "from collections import deque \n",
    "from functools import reduce\n",
    "from itertools import product\n",
    "from itertools import combinations\n",
    "from functools import lru_cache\n",
    "from scipy.special import comb\n",
    "from numba import njit\n",
    "from bisect import bisect_right\n",
    "from bisect import bisect_left\n",
    "from atcoder.fenwicktree import FenwickTree\n",
    "from sortedcontainers import SortedSet, SortedList, SortedDict"
   ]
  },
  {
   "cell_type": "code",
   "execution_count": 11,
   "id": "d484b45c-f68a-42d9-bd9e-0945296d837b",
   "metadata": {
    "tags": []
   },
   "outputs": [
    {
     "name": "stdin",
     "output_type": "stream",
     "text": [
      " 1 2 4 3 5\n"
     ]
    }
   ],
   "source": [
    "A5 = list(map(int, input().split()))"
   ]
  },
  {
   "cell_type": "code",
   "execution_count": 6,
   "id": "ab1ee30d-e25e-4de8-ac3c-acb90edebc96",
   "metadata": {
    "tags": []
   },
   "outputs": [
    {
     "name": "stdout",
     "output_type": "stream",
     "text": [
      "Yes\n"
     ]
    }
   ],
   "source": [
    "f = False\n",
    "i = 0\n",
    "while i <= 4:\n",
    "    # print(i)\n",
    "    if i + 1 == A5[i]:\n",
    "        i += 1\n",
    "        continue\n",
    "    if f:\n",
    "        print('No')\n",
    "        break\n",
    "    f = True\n",
    "    A5[i], A5[i+1] = A5[i+1], A5[i]\n",
    "    i += 1\n",
    "else:\n",
    "    if f:\n",
    "        print('Yes')\n",
    "    else:\n",
    "        print('No')"
   ]
  },
  {
   "cell_type": "code",
   "execution_count": 7,
   "id": "e2e6c20e-5d19-4a8c-9a87-adc2e2eb1933",
   "metadata": {
    "tags": []
   },
   "outputs": [],
   "source": [
    "# コンテスト終了後"
   ]
  },
  {
   "cell_type": "code",
   "execution_count": 12,
   "id": "beca3329-2fae-47bc-9196-407c3b4e8f58",
   "metadata": {
    "tags": []
   },
   "outputs": [],
   "source": [
    "num = []\n",
    "for i, A in enumerate(A5, 1):\n",
    "    num.append(abs(A-i))"
   ]
  },
  {
   "cell_type": "code",
   "execution_count": 13,
   "id": "dc5292aa-cc6f-48ab-893c-44dca50851dd",
   "metadata": {
    "tags": []
   },
   "outputs": [
    {
     "name": "stdout",
     "output_type": "stream",
     "text": [
      "Yes\n"
     ]
    }
   ],
   "source": [
    "print('Yes' if sum(num) == 2 else 'No')"
   ]
  },
  {
   "cell_type": "code",
   "execution_count": 10,
   "id": "e1735534-3abe-4719-90c0-400fc0c8513a",
   "metadata": {
    "tags": []
   },
   "outputs": [
    {
     "data": {
      "text/plain": [
       "[0, 0, 0, 0, 0]"
      ]
     },
     "execution_count": 10,
     "metadata": {},
     "output_type": "execute_result"
    }
   ],
   "source": [
    "num"
   ]
  },
  {
   "cell_type": "code",
   "execution_count": 26,
   "id": "679965b3-18b7-4b86-a866-51eec47b5f0e",
   "metadata": {
    "tags": []
   },
   "outputs": [
    {
     "data": {
      "text/plain": [
       "False"
      ]
     },
     "execution_count": 26,
     "metadata": {},
     "output_type": "execute_result"
    }
   ],
   "source": [
    "f"
   ]
  },
  {
   "cell_type": "code",
   "execution_count": null,
   "id": "52597385-b7f4-44be-b02b-aa241e929c20",
   "metadata": {},
   "outputs": [],
   "source": [
    "# WA"
   ]
  },
  {
   "cell_type": "code",
   "execution_count": 18,
   "id": "f4de1606-2623-4ea9-afe5-2b90fb4fe01d",
   "metadata": {
    "tags": []
   },
   "outputs": [],
   "source": [
    "c = 0\n",
    "for i, A in enumerate(A5, 1):\n",
    "    if i == A:\n",
    "        continue\n",
    "    c += 1"
   ]
  },
  {
   "cell_type": "code",
   "execution_count": 19,
   "id": "f11a04a6-ea5d-409e-af09-e4ef50309647",
   "metadata": {
    "tags": []
   },
   "outputs": [
    {
     "name": "stdout",
     "output_type": "stream",
     "text": [
      "Yes\n"
     ]
    }
   ],
   "source": [
    "print('Yes' if c == 2 else 'No')"
   ]
  },
  {
   "cell_type": "code",
   "execution_count": 5,
   "id": "3807e4fa-5910-4f0e-8b1f-2c3579417d78",
   "metadata": {
    "tags": []
   },
   "outputs": [
    {
     "data": {
      "text/plain": [
       "2"
      ]
     },
     "execution_count": 5,
     "metadata": {},
     "output_type": "execute_result"
    }
   ],
   "source": [
    "c"
   ]
  },
  {
   "cell_type": "code",
   "execution_count": null,
   "id": "03c8f3a9-c310-42c9-9bad-534c52e45ebb",
   "metadata": {},
   "outputs": [],
   "source": []
  }
 ],
 "metadata": {
  "kernelspec": {
   "display_name": "Python 3 (ipykernel)",
   "language": "python",
   "name": "python3"
  },
  "language_info": {
   "codemirror_mode": {
    "name": "ipython",
    "version": 3
   },
   "file_extension": ".py",
   "mimetype": "text/x-python",
   "name": "python",
   "nbconvert_exporter": "python",
   "pygments_lexer": "ipython3",
   "version": "3.11.3"
  }
 },
 "nbformat": 4,
 "nbformat_minor": 5
}
