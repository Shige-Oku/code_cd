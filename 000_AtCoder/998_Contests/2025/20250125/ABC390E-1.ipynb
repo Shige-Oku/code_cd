{
 "cells": [
  {
   "cell_type": "code",
   "execution_count": 1,
   "id": "e6dcb697-0222-4d42-a6a4-9f9442871e0b",
   "metadata": {
    "tags": []
   },
   "outputs": [],
   "source": [
    "import sys\n",
    "import numpy as np\n",
    "import math\n",
    "import collections\n",
    "import copy\n",
    "import decimal\n",
    "import itertools\n",
    "import re\n",
    "import bisect\n",
    "import scipy\n",
    "import heapq\n",
    "from collections import deque \n",
    "from functools import reduce\n",
    "from itertools import product\n",
    "from itertools import combinations\n",
    "from functools import lru_cache\n",
    "from scipy.special import comb\n",
    "from numba import njit\n",
    "from bisect import bisect_right\n",
    "from bisect import bisect_left\n",
    "from atcoder.fenwicktree import FenwickTree\n",
    "from sortedcontainers import SortedSet, SortedList, SortedDict"
   ]
  },
  {
   "cell_type": "code",
   "execution_count": 3,
   "id": "a557fc67-bc82-4240-8a9c-e38ab8f779c6",
   "metadata": {
    "tags": []
   },
   "outputs": [
    {
     "name": "stdin",
     "output_type": "stream",
     "text": [
      " 5 25\n"
     ]
    }
   ],
   "source": [
    "N, X = map(int, input().split())"
   ]
  },
  {
   "cell_type": "code",
   "execution_count": 4,
   "id": "b3edf71b-341c-449f-835c-0f646fdb73d4",
   "metadata": {
    "tags": []
   },
   "outputs": [
    {
     "name": "stdin",
     "output_type": "stream",
     "text": [
      " 1 8 5\n",
      " 2 3 5\n",
      " 2 7 10\n",
      " 3 2 5\n",
      " 3 3 10\n"
     ]
    }
   ],
   "source": [
    "VACn = [list(map(int, input().split())) for _ in range(N)]"
   ]
  },
  {
   "cell_type": "code",
   "execution_count": 155,
   "id": "95a57933-3aab-4086-a042-a4bfed2115ca",
   "metadata": {
    "tags": []
   },
   "outputs": [],
   "source": [
    "from copy import deepcopy\n",
    "dp = [[10**20 for _ in range(X+10)] for _ in range(N+1)] \n",
    "dp[0][:] = 0, 0, 0\n",
    "vit = [[0 for _ in range(3)] for _ in range(X+10)] "
   ]
  },
  {
   "cell_type": "code",
   "execution_count": 147,
   "id": "5390f5fb-712d-4536-a8c1-ce22dba3c6a3",
   "metadata": {
    "tags": []
   },
   "outputs": [
    {
     "name": "stdout",
     "output_type": "stream",
     "text": [
      "1 1 8 5\n",
      "2 2 3 5\n",
      "3 2 7 10\n",
      "4 3 2 5\n",
      "5 3 3 10\n"
     ]
    }
   ],
   "source": [
    "for i, (V, A, C) in enumerate(VACn, 1):\n",
    "    print(i, V, A, C)\n",
    "    V -= 1\n",
    "    for j in range(X+1):\n",
    "        if dp[i][j] == 10**20:\n",
    "            continue\n",
    "        if j + C > X:\n",
    "            continue\n",
    "        vit[i][j+C][k] = max(dp[i][j+C][k], dp[i-1][j][k]+A)\n"
   ]
  },
  {
   "cell_type": "code",
   "execution_count": 148,
   "id": "63f06f00-26f2-4735-9315-6e69e713db74",
   "metadata": {
    "tags": []
   },
   "outputs": [
    {
     "data": {
      "text/plain": [
       "([[0, 0, 0],\n",
       "  [-1, -1, -1],\n",
       "  [-1, -1, -1],\n",
       "  [-1, -1, -1],\n",
       "  [-1, -1, -1],\n",
       "  [8, -1, -1],\n",
       "  [-1, -1, -1],\n",
       "  [-1, -1, -1],\n",
       "  [-1, -1, -1],\n",
       "  [-1, -1, -1],\n",
       "  [-1, -1, -1],\n",
       "  [-1, -1, -1],\n",
       "  [-1, -1, -1],\n",
       "  [-1, -1, -1],\n",
       "  [-1, -1, -1],\n",
       "  [-1, -1, -1],\n",
       "  [-1, -1, -1],\n",
       "  [-1, -1, -1],\n",
       "  [-1, -1, -1],\n",
       "  [-1, -1, -1],\n",
       "  [-1, -1, -1],\n",
       "  [-1, -1, -1],\n",
       "  [-1, -1, -1],\n",
       "  [-1, -1, -1],\n",
       "  [-1, -1, -1],\n",
       "  [-1, -1, -1],\n",
       "  [-1, -1, -1],\n",
       "  [-1, -1, -1],\n",
       "  [-1, -1, -1],\n",
       "  [-1, -1, -1],\n",
       "  [-1, -1, -1],\n",
       "  [-1, -1, -1],\n",
       "  [-1, -1, -1],\n",
       "  [-1, -1, -1],\n",
       "  [-1, -1, -1]],)"
      ]
     },
     "execution_count": 148,
     "metadata": {},
     "output_type": "execute_result"
    }
   ],
   "source": [
    "dp[1], "
   ]
  },
  {
   "cell_type": "code",
   "execution_count": 150,
   "id": "756d52be-c65f-4cae-97be-b9ad2928e083",
   "metadata": {
    "tags": []
   },
   "outputs": [
    {
     "data": {
      "text/plain": [
       "[[0, 0, 0],\n",
       " [-1, -1, -1],\n",
       " [-1, -1, -1],\n",
       " [-1, -1, -1],\n",
       " [-1, -1, -1],\n",
       " [8, 3, -1],\n",
       " [-1, -1, -1],\n",
       " [-1, -1, -1],\n",
       " [-1, -1, -1],\n",
       " [-1, -1, -1],\n",
       " [-1, 7, -1],\n",
       " [-1, -1, -1],\n",
       " [-1, -1, -1],\n",
       " [-1, -1, -1],\n",
       " [-1, -1, -1],\n",
       " [-1, 10, -1],\n",
       " [-1, -1, -1],\n",
       " [-1, -1, -1],\n",
       " [-1, -1, -1],\n",
       " [-1, -1, -1],\n",
       " [-1, -1, -1],\n",
       " [-1, -1, -1],\n",
       " [-1, -1, -1],\n",
       " [-1, -1, -1],\n",
       " [-1, -1, -1],\n",
       " [-1, -1, -1],\n",
       " [-1, -1, -1],\n",
       " [-1, -1, -1],\n",
       " [-1, -1, -1],\n",
       " [-1, -1, -1],\n",
       " [-1, -1, -1],\n",
       " [-1, -1, -1],\n",
       " [-1, -1, -1],\n",
       " [-1, -1, -1],\n",
       " [-1, -1, -1]]"
      ]
     },
     "execution_count": 150,
     "metadata": {},
     "output_type": "execute_result"
    }
   ],
   "source": [
    "dp[3]"
   ]
  },
  {
   "cell_type": "code",
   "execution_count": 153,
   "id": "cbaa3236-0ed0-4f48-aca8-f4dbc04d277c",
   "metadata": {
    "tags": []
   },
   "outputs": [
    {
     "data": {
      "text/plain": [
       "[[0, 0, 0],\n",
       " [-1, -1, -1],\n",
       " [-1, -1, -1],\n",
       " [-1, -1, -1],\n",
       " [-1, -1, -1],\n",
       " [8, 3, 2],\n",
       " [-1, -1, -1],\n",
       " [-1, -1, -1],\n",
       " [-1, -1, -1],\n",
       " [-1, -1, -1],\n",
       " [-1, 7, 3],\n",
       " [-1, -1, -1],\n",
       " [-1, -1, -1],\n",
       " [-1, -1, -1],\n",
       " [-1, -1, -1],\n",
       " [-1, 10, 5],\n",
       " [-1, -1, -1],\n",
       " [-1, -1, -1],\n",
       " [-1, -1, -1],\n",
       " [-1, -1, -1],\n",
       " [-1, -1, -1],\n",
       " [-1, -1, -1],\n",
       " [-1, -1, -1],\n",
       " [-1, -1, -1],\n",
       " [-1, -1, -1],\n",
       " [-1, -1, -1],\n",
       " [-1, -1, -1],\n",
       " [-1, -1, -1],\n",
       " [-1, -1, -1],\n",
       " [-1, -1, -1],\n",
       " [-1, -1, -1],\n",
       " [-1, -1, -1],\n",
       " [-1, -1, -1],\n",
       " [-1, -1, -1],\n",
       " [-1, -1, -1]]"
      ]
     },
     "execution_count": 153,
     "metadata": {},
     "output_type": "execute_result"
    }
   ],
   "source": [
    "dp[-1]"
   ]
  },
  {
   "cell_type": "code",
   "execution_count": null,
   "id": "cd66ee4a-5df1-4103-95a9-69a05e4e5c99",
   "metadata": {},
   "outputs": [],
   "source": [
    "graph = [[] * (N+1) for _ in range(W)]"
   ]
  }
 ],
 "metadata": {
  "kernelspec": {
   "display_name": "Python 3 (ipykernel)",
   "language": "python",
   "name": "python3"
  },
  "language_info": {
   "codemirror_mode": {
    "name": "ipython",
    "version": 3
   },
   "file_extension": ".py",
   "mimetype": "text/x-python",
   "name": "python",
   "nbconvert_exporter": "python",
   "pygments_lexer": "ipython3",
   "version": "3.11.3"
  }
 },
 "nbformat": 4,
 "nbformat_minor": 5
}
