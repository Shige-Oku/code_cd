{
 "cells": [
  {
   "cell_type": "code",
   "execution_count": 1,
   "id": "e88fb921-6a29-436c-88c3-1fa90bd47a29",
   "metadata": {
    "tags": []
   },
   "outputs": [],
   "source": [
    "import sys\n",
    "import numpy as np\n",
    "import math\n",
    "import collections\n",
    "import copy\n",
    "import decimal\n",
    "import itertools\n",
    "import re\n",
    "import bisect\n",
    "import scipy\n",
    "import heapq\n",
    "from collections import deque \n",
    "from functools import reduce\n",
    "from itertools import product\n",
    "from itertools import combinations\n",
    "from functools import lru_cache\n",
    "from scipy.special import comb\n",
    "from numba import njit\n",
    "from bisect import bisect_right\n",
    "from bisect import bisect_left\n",
    "from atcoder.fenwicktree import FenwickTree\n",
    "from sortedcontainers import SortedSet, SortedList, SortedDict"
   ]
  },
  {
   "cell_type": "code",
   "execution_count": 2,
   "id": "56bfd3f9-c085-4ffc-8dd3-f61333983cb1",
   "metadata": {
    "tags": []
   },
   "outputs": [
    {
     "name": "stdin",
     "output_type": "stream",
     "text": [
      " 3 5\n"
     ]
    }
   ],
   "source": [
    "H, W = map(int, input().split())"
   ]
  },
  {
   "cell_type": "code",
   "execution_count": 3,
   "id": "c574f979-fc25-4f62-97b6-84ff8e9e2bc4",
   "metadata": {
    "tags": []
   },
   "outputs": [
    {
     "name": "stdin",
     "output_type": "stream",
     "text": [
      " .#?#.\n",
      " .?#?.\n",
      " ?...?\n"
     ]
    }
   ],
   "source": [
    "Sh = [input() for _ in range(H)]"
   ]
  },
  {
   "cell_type": "code",
   "execution_count": 10,
   "id": "0928088e-a0b6-4bce-b80a-265efb0d79fa",
   "metadata": {
    "tags": []
   },
   "outputs": [],
   "source": [
    "lh, hh, lw, rw = H-1, 0, W-1, 0\n",
    "for h in range(H):\n",
    "    for w in range(W):\n",
    "        if Sh[h][w] == '#':\n",
    "            lh = min(lh, h)\n",
    "            hh = max(hh, h)\n",
    "            lw = min(lw, w)\n",
    "            rw = max(rw, w)"
   ]
  },
  {
   "cell_type": "code",
   "execution_count": 7,
   "id": "02288690-b4db-4749-8e01-77123e724bc8",
   "metadata": {
    "tags": []
   },
   "outputs": [],
   "source": [
    "f = True\n",
    "for h in range(lh, hh+1):\n",
    "    for w in range(lw, rw+1):\n",
    "        if Sh[h][w] == '.':\n",
    "            f = False"
   ]
  },
  {
   "cell_type": "code",
   "execution_count": 9,
   "id": "773e194e-8f72-4e58-b509-484b4ae62eca",
   "metadata": {
    "tags": []
   },
   "outputs": [
    {
     "name": "stdout",
     "output_type": "stream",
     "text": [
      "Yes\n"
     ]
    }
   ],
   "source": [
    "print('Yes' if f else 'No')"
   ]
  },
  {
   "cell_type": "code",
   "execution_count": 6,
   "id": "57fbb3d3-24ca-43ee-b556-c9523b85670d",
   "metadata": {
    "tags": []
   },
   "outputs": [
    {
     "data": {
      "text/plain": [
       "(0, 1, 1, 3)"
      ]
     },
     "execution_count": 6,
     "metadata": {},
     "output_type": "execute_result"
    }
   ],
   "source": [
    "lh, hh, lw, rw"
   ]
  },
  {
   "cell_type": "code",
   "execution_count": 8,
   "id": "083bf59a-3504-4d34-a795-2496d96c0c32",
   "metadata": {
    "tags": []
   },
   "outputs": [
    {
     "data": {
      "text/plain": [
       "True"
      ]
     },
     "execution_count": 8,
     "metadata": {},
     "output_type": "execute_result"
    }
   ],
   "source": [
    "f"
   ]
  },
  {
   "cell_type": "code",
   "execution_count": null,
   "id": "1249587b-2345-4cc5-a4b4-a921af5cdd52",
   "metadata": {},
   "outputs": [],
   "source": []
  }
 ],
 "metadata": {
  "kernelspec": {
   "display_name": "Python 3 (ipykernel)",
   "language": "python",
   "name": "python3"
  },
  "language_info": {
   "codemirror_mode": {
    "name": "ipython",
    "version": 3
   },
   "file_extension": ".py",
   "mimetype": "text/x-python",
   "name": "python",
   "nbconvert_exporter": "python",
   "pygments_lexer": "ipython3",
   "version": "3.11.3"
  }
 },
 "nbformat": 4,
 "nbformat_minor": 5
}
