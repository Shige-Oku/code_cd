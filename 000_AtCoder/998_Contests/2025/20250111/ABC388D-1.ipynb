{
 "cells": [
  {
   "cell_type": "code",
   "execution_count": 1,
   "id": "a5acb3d2-e665-4385-a710-af2fad5ac02c",
   "metadata": {
    "tags": []
   },
   "outputs": [],
   "source": [
    "import sys\n",
    "import numpy as np\n",
    "import math\n",
    "import collections\n",
    "import copy\n",
    "import decimal\n",
    "import itertools\n",
    "import re\n",
    "import bisect\n",
    "import scipy\n",
    "import heapq\n",
    "from collections import deque \n",
    "from functools import reduce\n",
    "from itertools import product\n",
    "from itertools import combinations\n",
    "from functools import lru_cache\n",
    "from scipy.special import comb\n",
    "from numba import njit\n",
    "from bisect import bisect_right\n",
    "from bisect import bisect_left\n",
    "from atcoder.fenwicktree import FenwickTree\n",
    "from sortedcontainers import SortedSet, SortedList, SortedDict"
   ]
  },
  {
   "cell_type": "code",
   "execution_count": 41,
   "id": "3b96af11-db68-4ecc-8f3e-b3445b4f9826",
   "metadata": {
    "tags": []
   },
   "outputs": [
    {
     "name": "stdin",
     "output_type": "stream",
     "text": [
      " 10\n"
     ]
    }
   ],
   "source": [
    "N  = int(input())"
   ]
  },
  {
   "cell_type": "code",
   "execution_count": 42,
   "id": "e9c0abf2-0db3-4862-a42e-388ebc1448fe",
   "metadata": {
    "tags": []
   },
   "outputs": [
    {
     "name": "stdin",
     "output_type": "stream",
     "text": [
      " 2 9 1 2 0 4 6 7 1 5\n"
     ]
    }
   ],
   "source": [
    "An = list(map(int, input().split()))"
   ]
  },
  {
   "cell_type": "code",
   "execution_count": 47,
   "id": "14c3e1f6-9bc3-4e38-ba8a-2c2e803e25f9",
   "metadata": {
    "tags": []
   },
   "outputs": [],
   "source": [
    "import heapq\n",
    "seijin = []\n",
    "ans = [0] * N\n",
    "for i, A in enumerate(An, 1):\n",
    "    while  seijin:\n",
    "        s = seijin[0]\n",
    "        # print(s, p)\n",
    "        if s >= i:\n",
    "            break\n",
    "        heapq.heappop(seijin)\n",
    "    st = A + len(seijin)\n",
    "    ans[i-1] = max(0, st - (N-i))\n",
    "    # print(i, A, len(seijin), st)\n",
    "    heapq.heappush(seijin, (st+i))"
   ]
  },
  {
   "cell_type": "code",
   "execution_count": 48,
   "id": "53bcca87-7936-4aa1-b81c-04aa961a2d0c",
   "metadata": {
    "tags": []
   },
   "outputs": [
    {
     "name": "stdout",
     "output_type": "stream",
     "text": [
      "0 2 0 0 0 4 7 10 4 10\n"
     ]
    }
   ],
   "source": [
    "print(*ans)"
   ]
  },
  {
   "cell_type": "code",
   "execution_count": 11,
   "id": "c861999a-9b35-47ee-a735-cc20648c3137",
   "metadata": {
    "tags": []
   },
   "outputs": [
    {
     "data": {
      "text/plain": [
       "[2, 0, 10, 5]"
      ]
     },
     "execution_count": 11,
     "metadata": {},
     "output_type": "execute_result"
    }
   ],
   "source": [
    "ans"
   ]
  },
  {
   "cell_type": "code",
   "execution_count": 25,
   "id": "5b65a2d6-df35-486e-a06a-acc219806ed2",
   "metadata": {
    "tags": []
   },
   "outputs": [
    {
     "data": {
      "text/plain": [
       "[(5, 9), (6, 6), (8, 7), (10, 8), (10, 2), (10, 10)]"
      ]
     },
     "execution_count": 25,
     "metadata": {},
     "output_type": "execute_result"
    }
   ],
   "source": [
    "seijin"
   ]
  },
  {
   "cell_type": "code",
   "execution_count": null,
   "id": "6fff3eb4-c566-4757-8eaf-418836f4fe8d",
   "metadata": {},
   "outputs": [],
   "source": []
  }
 ],
 "metadata": {
  "kernelspec": {
   "display_name": "Python 3 (ipykernel)",
   "language": "python",
   "name": "python3"
  },
  "language_info": {
   "codemirror_mode": {
    "name": "ipython",
    "version": 3
   },
   "file_extension": ".py",
   "mimetype": "text/x-python",
   "name": "python",
   "nbconvert_exporter": "python",
   "pygments_lexer": "ipython3",
   "version": "3.11.3"
  }
 },
 "nbformat": 4,
 "nbformat_minor": 5
}
