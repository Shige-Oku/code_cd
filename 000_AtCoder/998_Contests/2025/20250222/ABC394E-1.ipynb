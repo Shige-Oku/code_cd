{
 "cells": [
  {
   "cell_type": "code",
   "execution_count": 1,
   "id": "5ffd4910-1af1-47cb-96ab-18092ef7c43c",
   "metadata": {
    "tags": []
   },
   "outputs": [],
   "source": [
    "import sys\n",
    "import numpy as np\n",
    "import math\n",
    "import collections\n",
    "import copy\n",
    "import decimal\n",
    "import itertools\n",
    "import re\n",
    "import bisect\n",
    "import scipy\n",
    "import heapq\n",
    "from collections import deque \n",
    "from functools import reduce\n",
    "from itertools import product\n",
    "from itertools import combinations\n",
    "from functools import lru_cache\n",
    "from scipy.special import comb\n",
    "from numba import njit\n",
    "from bisect import bisect_right\n",
    "from bisect import bisect_left\n",
    "from atcoder.fenwicktree import FenwickTree\n",
    "from sortedcontainers import SortedSet, SortedList, SortedDict"
   ]
  },
  {
   "cell_type": "code",
   "execution_count": 1,
   "id": "3ae43a6f-feec-47c5-ba94-3b7af4e02879",
   "metadata": {
    "tags": []
   },
   "outputs": [
    {
     "name": "stdin",
     "output_type": "stream",
     "text": [
      " 4\n"
     ]
    }
   ],
   "source": [
    "N = int(input())"
   ]
  },
  {
   "cell_type": "code",
   "execution_count": 2,
   "id": "cd8b79ae-38bd-410a-bcce-b46770827791",
   "metadata": {
    "tags": []
   },
   "outputs": [
    {
     "name": "stdin",
     "output_type": "stream",
     "text": [
      " ab--\n",
      " --b-\n",
      " ---a\n",
      " c---\n"
     ]
    }
   ],
   "source": [
    "Cnn = [input() for _ in range(N)]"
   ]
  },
  {
   "cell_type": "code",
   "execution_count": 11,
   "id": "36241b71-e2e6-4340-9b50-7bbffb5fa565",
   "metadata": {
    "tags": []
   },
   "outputs": [],
   "source": [
    "def check(roots):\n",
    "    for s1, s2 in zip(roots, roots[::-1]):\n",
    "        if s1 != s2:\n",
    "            return False\n",
    "    \n",
    "    return True"
   ]
  },
  {
   "cell_type": "code",
   "execution_count": 70,
   "id": "7fe1d753-4c5b-45e1-a0fd-a7ad1d55066c",
   "metadata": {},
   "outputs": [],
   "source": [
    "from collections import deque\n",
    "def bfs(h, w):\n",
    "    # visit = [[False] * N for _ in range(N)\n",
    "    visit = set()\n",
    "    q = deque()\n",
    "    q.append((h, '', '', ''))\n",
    "    visit.add(('', '', h))\n",
    "    while q:\n",
    "        p, root, p3, p2 = q.popleft()\n",
    "        print(p, root, p3, p2)\n",
    "        # print(p, root)\n",
    "        if p == w and check(root):\n",
    "            ans[h][w] = len(root)\n",
    "            return True\n",
    "        for ne in range(N):\n",
    "            if (p2, p, ne) in visit:\n",
    "                continue\n",
    "            # if visit[p][ne]:\n",
    "            #     continue\n",
    "            if Cnn[p][ne] == '-':\n",
    "                continue\n",
    "            roots = root + Cnn[p][ne]\n",
    "            q.append((ne, roots, p2, p))\n",
    "            visit.add((p2, p, ne))\n",
    "            # if ne == w and check(roots):\n",
    "            #     ans[h][w] = len(roots)\n",
    "            #     return True\n",
    "            \n",
    "    return False"
   ]
  },
  {
   "cell_type": "code",
   "execution_count": 67,
   "id": "f656430a-d1b9-4c26-bd9a-150c7a8c9a0a",
   "metadata": {
    "tags": []
   },
   "outputs": [],
   "source": [
    "ans = [[-1] * N for _ in range(N)]\n",
    "for h in range(N):\n",
    "    for w in range(N):\n",
    "        if h == w:\n",
    "            ans[h][w] = 0\n",
    "            continue\n",
    "        bfs(h, w)"
   ]
  },
  {
   "cell_type": "code",
   "execution_count": 68,
   "id": "7b2206ec-6c65-4a0f-9452-f4d07b7b1b85",
   "metadata": {
    "tags": []
   },
   "outputs": [
    {
     "data": {
      "text/plain": [
       "[[0, 1, 2, -1], [-1, 0, 1, -1], [3, -1, 0, 1], [1, -1, -1, 0]]"
      ]
     },
     "execution_count": 68,
     "metadata": {},
     "output_type": "execute_result"
    }
   ],
   "source": [
    "ans"
   ]
  },
  {
   "cell_type": "code",
   "execution_count": 71,
   "id": "95166f60-1a6a-46a8-a629-7c09aeed9055",
   "metadata": {
    "tags": []
   },
   "outputs": [
    {
     "name": "stdout",
     "output_type": "stream",
     "text": [
      "0   \n",
      "0 a  0\n",
      "1 b  0\n",
      "0 aa 0 0\n",
      "1 ab 0 0\n",
      "2 bb 0 1\n",
      "3 bba 1 2\n",
      "0 bbac 2 3\n",
      "0 bbaca 3 0\n",
      "1 bbacb 3 0\n"
     ]
    },
    {
     "data": {
      "text/plain": [
       "False"
      ]
     },
     "execution_count": 71,
     "metadata": {},
     "output_type": "execute_result"
    }
   ],
   "source": [
    "bfs(0, 3)"
   ]
  },
  {
   "cell_type": "code",
   "execution_count": null,
   "id": "3bf1cc9b-be23-4c0c-8888-d332d56ddcbc",
   "metadata": {},
   "outputs": [],
   "source": []
  }
 ],
 "metadata": {
  "kernelspec": {
   "display_name": "Python 3 (ipykernel)",
   "language": "python",
   "name": "python3"
  },
  "language_info": {
   "codemirror_mode": {
    "name": "ipython",
    "version": 3
   },
   "file_extension": ".py",
   "mimetype": "text/x-python",
   "name": "python",
   "nbconvert_exporter": "python",
   "pygments_lexer": "ipython3",
   "version": "3.11.3"
  }
 },
 "nbformat": 4,
 "nbformat_minor": 5
}
