{
 "cells": [
  {
   "cell_type": "code",
   "execution_count": 1,
   "id": "59a6777e-2ded-47cc-881d-cecfed89f719",
   "metadata": {
    "tags": []
   },
   "outputs": [],
   "source": [
    "import sys\n",
    "import numpy as np\n",
    "import math\n",
    "import collections\n",
    "import copy\n",
    "import decimal\n",
    "import itertools\n",
    "import re\n",
    "import bisect\n",
    "import scipy\n",
    "import heapq\n",
    "from collections import deque \n",
    "from functools import reduce\n",
    "from itertools import product\n",
    "from itertools import combinations\n",
    "from functools import lru_cache\n",
    "from scipy.special import comb\n",
    "from numba import njit\n",
    "from bisect import bisect_right\n",
    "from bisect import bisect_left\n",
    "from atcoder.fenwicktree import FenwickTree\n",
    "from sortedcontainers import SortedSet, SortedList, SortedDict"
   ]
  },
  {
   "cell_type": "code",
   "execution_count": 38,
   "id": "f4f06fb4-2dbd-461e-86c9-925cdb649741",
   "metadata": {
    "tags": []
   },
   "outputs": [
    {
     "name": "stdin",
     "output_type": "stream",
     "text": [
      " ())\n"
     ]
    }
   ],
   "source": [
    "S = input()"
   ]
  },
  {
   "cell_type": "code",
   "execution_count": 39,
   "id": "296682c7-108d-470a-92bd-486fd23c4be8",
   "metadata": {
    "tags": []
   },
   "outputs": [],
   "source": [
    "from collections import deque\n",
    "def solve():\n",
    "    q = deque()\n",
    "    for s in S:\n",
    "        # print(s)\n",
    "        if s in ('(', '[', '<'):\n",
    "            q.append(s)\n",
    "        else:\n",
    "            if len(q) == 0:\n",
    "                return False\n",
    "            s2 = q.pop()\n",
    "            if s2 == '(' and s == ')':\n",
    "                continue\n",
    "            \n",
    "            if s2 == '[' and s == ']':\n",
    "                continue\n",
    "            \n",
    "            if s2 == '<' and s == '>':\n",
    "                continue\n",
    "                \n",
    "            return False\n",
    "    \n",
    "    if len(q) > 0:\n",
    "        return False\n",
    "    return True"
   ]
  },
  {
   "cell_type": "code",
   "execution_count": 40,
   "id": "a1bbe4e1-8ffe-4571-994e-274066202c89",
   "metadata": {
    "tags": []
   },
   "outputs": [
    {
     "name": "stdout",
     "output_type": "stream",
     "text": [
      "No\n"
     ]
    }
   ],
   "source": [
    "print('Yes' if solve() else 'No')"
   ]
  },
  {
   "cell_type": "code",
   "execution_count": 9,
   "id": "fa6e56f9-ccb2-4f87-b38c-5e9382601e82",
   "metadata": {
    "tags": []
   },
   "outputs": [
    {
     "data": {
      "text/plain": [
       "'([])<>()'"
      ]
     },
     "execution_count": 9,
     "metadata": {},
     "output_type": "execute_result"
    }
   ],
   "source": [
    "S"
   ]
  },
  {
   "cell_type": "code",
   "execution_count": null,
   "id": "9ee22c0c-4259-4513-b9ec-171a70948317",
   "metadata": {},
   "outputs": [],
   "source": []
  }
 ],
 "metadata": {
  "kernelspec": {
   "display_name": "Python 3 (ipykernel)",
   "language": "python",
   "name": "python3"
  },
  "language_info": {
   "codemirror_mode": {
    "name": "ipython",
    "version": 3
   },
   "file_extension": ".py",
   "mimetype": "text/x-python",
   "name": "python",
   "nbconvert_exporter": "python",
   "pygments_lexer": "ipython3",
   "version": "3.11.3"
  }
 },
 "nbformat": 4,
 "nbformat_minor": 5
}
