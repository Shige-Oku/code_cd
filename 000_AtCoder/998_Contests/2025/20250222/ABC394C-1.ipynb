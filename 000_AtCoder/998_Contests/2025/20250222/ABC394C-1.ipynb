{
 "cells": [
  {
   "cell_type": "code",
   "execution_count": 1,
   "id": "0303121b-12eb-4cfe-97cd-e93cfef80742",
   "metadata": {
    "tags": []
   },
   "outputs": [],
   "source": [
    "import sys\n",
    "import numpy as np\n",
    "import math\n",
    "import collections\n",
    "import copy\n",
    "import decimal\n",
    "import itertools\n",
    "import re\n",
    "import bisect\n",
    "import scipy\n",
    "import heapq\n",
    "from collections import deque \n",
    "from functools import reduce\n",
    "from itertools import product\n",
    "from itertools import combinations\n",
    "from functools import lru_cache\n",
    "from scipy.special import comb\n",
    "from numba import njit\n",
    "from bisect import bisect_right\n",
    "from bisect import bisect_left\n",
    "from atcoder.fenwicktree import FenwickTree\n",
    "from sortedcontainers import SortedSet, SortedList, SortedDict"
   ]
  },
  {
   "cell_type": "code",
   "execution_count": 16,
   "id": "220933c5-0f61-4b45-b9d9-9f54b3573266",
   "metadata": {
    "tags": []
   },
   "outputs": [
    {
     "name": "stdin",
     "output_type": "stream",
     "text": [
      " WWWWA\n"
     ]
    }
   ],
   "source": [
    "S = input()"
   ]
  },
  {
   "cell_type": "code",
   "execution_count": 17,
   "id": "f48afe9c-7ffb-4a6b-bbea-194021d9b3c0",
   "metadata": {
    "tags": []
   },
   "outputs": [
    {
     "name": "stdout",
     "output_type": "stream",
     "text": [
      "ACCCC"
     ]
    }
   ],
   "source": [
    "wcnt = 0\n",
    "for s in S:\n",
    "    if s == 'W':\n",
    "        wcnt += 1\n",
    "    else:\n",
    "        if s == 'A':\n",
    "            print('A' + 'C' * wcnt, end='')\n",
    "        else:\n",
    "            print('W' * wcnt + s, end= '')\n",
    "        wcnt = 0\n",
    "else:\n",
    "    print('W' * wcnt, end='')"
   ]
  },
  {
   "cell_type": "code",
   "execution_count": null,
   "id": "7ee798c3-4b73-414c-b2ca-b094aaac6c12",
   "metadata": {},
   "outputs": [],
   "source": []
  }
 ],
 "metadata": {
  "kernelspec": {
   "display_name": "Python 3 (ipykernel)",
   "language": "python",
   "name": "python3"
  },
  "language_info": {
   "codemirror_mode": {
    "name": "ipython",
    "version": 3
   },
   "file_extension": ".py",
   "mimetype": "text/x-python",
   "name": "python",
   "nbconvert_exporter": "python",
   "pygments_lexer": "ipython3",
   "version": "3.11.3"
  }
 },
 "nbformat": 4,
 "nbformat_minor": 5
}
