{
 "cells": [
  {
   "cell_type": "code",
   "execution_count": 1,
   "id": "b55c55aa-ffcc-4655-a3f5-9ded0de08ed4",
   "metadata": {
    "tags": []
   },
   "outputs": [],
   "source": [
    "import sys\n",
    "import numpy as np\n",
    "import math\n",
    "import collections\n",
    "import copy\n",
    "import decimal\n",
    "import itertools\n",
    "import re\n",
    "import bisect\n",
    "import scipy\n",
    "import heapq\n",
    "from collections import deque \n",
    "from functools import reduce\n",
    "from itertools import product\n",
    "from itertools import combinations\n",
    "from functools import lru_cache\n",
    "from scipy.special import comb\n",
    "from numba import njit\n",
    "from bisect import bisect_right\n",
    "from bisect import bisect_left\n",
    "from atcoder.fenwicktree import FenwickTree\n",
    "from sortedcontainers import SortedSet, SortedList, SortedDict"
   ]
  },
  {
   "cell_type": "code",
   "execution_count": 2,
   "id": "30f8e0b6-6cee-4367-b610-da9cd11a3cd6",
   "metadata": {
    "tags": []
   },
   "outputs": [
    {
     "name": "stdin",
     "output_type": "stream",
     "text": [
      " 9\n"
     ]
    }
   ],
   "source": [
    "N = int(input())"
   ]
  },
  {
   "cell_type": "code",
   "execution_count": 3,
   "id": "f9fb51fd-620a-4cfe-8fb0-4baa0aeb3fdb",
   "metadata": {
    "tags": []
   },
   "outputs": [
    {
     "name": "stdin",
     "output_type": "stream",
     "text": [
      " 1 2\n",
      " 2 3\n",
      " 3 4\n",
      " 4 5\n",
      " 2 6\n",
      " 2 7\n",
      " 3 8\n",
      " 3 9\n"
     ]
    }
   ],
   "source": [
    "ABn = [list(map(int, input().split())) for _ in range(N-1)]"
   ]
  },
  {
   "cell_type": "code",
   "execution_count": 25,
   "id": "1346f306-5128-4265-b92b-63f11bc761ad",
   "metadata": {
    "tags": []
   },
   "outputs": [],
   "source": [
    "graph = [[] for _ in range(N+1)]\n",
    "for A, B in ABn:\n",
    "    graph[A].append(B)\n",
    "    graph[B].append(A)\n"
   ]
  },
  {
   "cell_type": "code",
   "execution_count": 41,
   "id": "219063cc-d505-4cb8-a3fa-5cf042635fd0",
   "metadata": {
    "tags": []
   },
   "outputs": [],
   "source": [
    "import sys\n",
    "sys.setrecursionlimit(10**4)\n",
    "def dfs(n):\n",
    "    global f\n",
    "    visit[n] = True\n",
    "    ret = 0\n",
    "    counts = []\n",
    "    for ne in graph[n]:\n",
    "        if visit[ne]:\n",
    "            continue\n",
    "        counts.append(dfs(ne))\n",
    "    counts_s = sorted(counts, reverse=True)\n",
    "    if len(counts_s) >= 4:\n",
    "        f = True\n",
    "        return sum(counts_s[:4]) + 1\n",
    "    \n",
    "    if len(counts_s) == 0:\n",
    "        return 1\n",
    "    return counts_s[0] + 1"
   ]
  },
  {
   "cell_type": "code",
   "execution_count": 42,
   "id": "142d70ce-2ff9-47e9-9343-e623423fbdf3",
   "metadata": {
    "tags": []
   },
   "outputs": [
    {
     "name": "stdout",
     "output_type": "stream",
     "text": [
      "5\n"
     ]
    }
   ],
   "source": [
    "f = False\n",
    "visit = [False] * (N+1)\n",
    "ans = dfs(1)\n",
    "print(ans)"
   ]
  },
  {
   "cell_type": "code",
   "execution_count": 40,
   "id": "a0a18da0-22ca-4821-8b4d-8b39b7ab3f68",
   "metadata": {
    "tags": []
   },
   "outputs": [
    {
     "data": {
      "text/plain": [
       "[False, True, True, True, True, True, True, True, True, True]"
      ]
     },
     "execution_count": 40,
     "metadata": {},
     "output_type": "execute_result"
    }
   ],
   "source": [
    "visit"
   ]
  },
  {
   "cell_type": "code",
   "execution_count": 43,
   "id": "931d26c5-1e03-49c5-89c7-06d21d69a914",
   "metadata": {
    "tags": []
   },
   "outputs": [
    {
     "data": {
      "text/plain": [
       "[[], [2], [1, 3, 6, 7], [2, 4, 8, 9], [3, 5], [4], [2], [2], [3], [3]]"
      ]
     },
     "execution_count": 43,
     "metadata": {},
     "output_type": "execute_result"
    }
   ],
   "source": [
    "graph"
   ]
  },
  {
   "cell_type": "code",
   "execution_count": null,
   "id": "4b66cfbe-c8eb-46df-b931-26813716398c",
   "metadata": {},
   "outputs": [],
   "source": [
    "f = False\n",
    "ans = 0\n",
    "for i in range(1, N+1):\n",
    "    if len(graph[i]) >= 4:\n",
    "        f = True\n",
    "        ans += 4\n",
    "        continue\n",
    "    \n",
    "    ans += 1"
   ]
  },
  {
   "cell_type": "code",
   "execution_count": 14,
   "id": "6c329e99-7212-49ae-93d6-0a96ebdf8bda",
   "metadata": {},
   "outputs": [],
   "source": [
    "from collections import defaultdict\n",
    "import sys\n",
    "sys.setrecursionlimit(10**7)\n",
    "class UnionFind():\n",
    "    # イニシャライザ\n",
    "    def __init__(self, n):\n",
    "        self.n = n  # 頂点の数\n",
    "        self.parents = [-1] * n  # 親の頂点。根は -1\n",
    "        self.size = [1] * n  # 各頂点の所属する木の頂点数\n",
    "        sys.setrecursionlimit(10**7)\n",
    "        \n",
    "    # 根を返す\n",
    "    def root(self, x):\n",
    "        if self.parents[x] < 0: # 根なのでそのまま返す\n",
    "            return x\n",
    "        else:\n",
    "            self.parents[x] = self.root(self.parents[x])  # 経路圧縮\n",
    "            return self.parents[x]\n",
    "        \n",
    "    # x, y が同じ木に属するか\n",
    "    def issame(self, x, y):\n",
    "        return self.root(x) == self.root(y)\n",
    "    \n",
    "    # x y を併合する    \n",
    "    def unite(self, x, y):\n",
    "        x = self.root(x)\n",
    "        y = self.root(y)\n",
    "        \n",
    "        # 元々同じ木に所属するので、何もせずリターン\n",
    "        if x == y:\n",
    "            return False\n",
    "        \n",
    "        # 大きいほうにまとめる。 y を x にまとめるようにスワップ\n",
    "        if self.parents[x] < self.parents[y]:\n",
    "            x, y = y, x\n",
    "        # 小さいほうの親を大きいほうを親に\n",
    "        self.parents[y] = x\n",
    "        # 大きいほうの頂点に小さいほうの数を加算\n",
    "        self.size[x] += self.size[y]\n",
    "        return True\n",
    "    \n",
    "    # x の所属する頂点数を返す\n",
    "    def getsize(self, x):\n",
    "        return self.size[self.root(x)]\n",
    "\n",
    "    # x の所属する頂点の一覧を返す\n",
    "    def getmembers(self, x):\n",
    "        root = self.root(x)\n",
    "        return [i for i in range(self.n) if self.root(i) == root]    "
   ]
  },
  {
   "cell_type": "code",
   "execution_count": 15,
   "id": "49d452d7-4dd5-414e-825a-4ef551271180",
   "metadata": {
    "tags": []
   },
   "outputs": [],
   "source": [
    "from atcoder.dsu import DSU\n",
    "uf = DSU(N+1)\n",
    "uf = UnionFind(N+1)\n",
    "graph = [[] for _ in range(N+1)]\n",
    "for A, B in ABn:\n",
    "    graph[A].append(B)\n",
    "    graph[B].append(A)\n",
    "    uf.unite(A, B)"
   ]
  },
  {
   "cell_type": "code",
   "execution_count": 16,
   "id": "ecf1be5e-b0ee-4b30-861a-fa8bae8a5ee2",
   "metadata": {
    "tags": []
   },
   "outputs": [],
   "source": [
    "parents = set()\n",
    "for i in range(1, N+1):\n",
    "    parents.add(uf.root(i))"
   ]
  },
  {
   "cell_type": "code",
   "execution_count": 22,
   "id": "77f9ead2-c638-4108-98ef-c8eac882f044",
   "metadata": {
    "tags": []
   },
   "outputs": [],
   "source": [
    "def check(parent):\n",
    "    groups = uf.getmembers(parent)\n",
    "    f4 = False\n",
    "    for group in groups:\n",
    "        if len(graph[group]) == 1:\n",
    "            continue\n",
    "        if len(graph[group]) == 4:\n",
    "            f4 = True\n",
    "            continue\n",
    "        print(group, len(graph[group]))    \n",
    "        return False\n",
    "    return f4"
   ]
  },
  {
   "cell_type": "code",
   "execution_count": 18,
   "id": "4c7b783d-2c82-4e2a-91c9-8f8fc015e89d",
   "metadata": {
    "tags": []
   },
   "outputs": [],
   "source": [
    "ans = 0\n",
    "for parent in parents:\n",
    "    if check(parent):\n",
    "        ans = max(ans, uf.size(parent))"
   ]
  },
  {
   "cell_type": "code",
   "execution_count": 19,
   "id": "2b31efbd-e3f8-4ed7-af73-6b905ec1f4b6",
   "metadata": {
    "tags": []
   },
   "outputs": [
    {
     "name": "stdout",
     "output_type": "stream",
     "text": [
      "0\n"
     ]
    }
   ],
   "source": [
    "print(ans)"
   ]
  },
  {
   "cell_type": "code",
   "execution_count": 20,
   "id": "508e2324-06a2-4823-b2ed-600e3a6d775b",
   "metadata": {
    "tags": []
   },
   "outputs": [
    {
     "data": {
      "text/plain": [
       "{1}"
      ]
     },
     "execution_count": 20,
     "metadata": {},
     "output_type": "execute_result"
    }
   ],
   "source": [
    "parents"
   ]
  },
  {
   "cell_type": "code",
   "execution_count": 23,
   "id": "1c221b6a-c350-42c8-82e8-37a5c99a5a1f",
   "metadata": {
    "tags": []
   },
   "outputs": [
    {
     "name": "stdout",
     "output_type": "stream",
     "text": [
      "4 2\n"
     ]
    },
    {
     "data": {
      "text/plain": [
       "False"
      ]
     },
     "execution_count": 23,
     "metadata": {},
     "output_type": "execute_result"
    }
   ],
   "source": [
    "check(1)"
   ]
  },
  {
   "cell_type": "code",
   "execution_count": 24,
   "id": "7366d70e-26be-4deb-b90d-1e1e26b5cd29",
   "metadata": {
    "tags": []
   },
   "outputs": [
    {
     "data": {
      "text/plain": [
       "[[], [2], [1, 3, 6, 7], [2, 4, 8, 9], [3, 5], [4], [2], [2], [3], [3]]"
      ]
     },
     "execution_count": 24,
     "metadata": {},
     "output_type": "execute_result"
    }
   ],
   "source": [
    "graph"
   ]
  },
  {
   "cell_type": "code",
   "execution_count": null,
   "id": "94ba8c7e-c3c6-4f91-ab10-79ce3e614734",
   "metadata": {},
   "outputs": [],
   "source": []
  }
 ],
 "metadata": {
  "kernelspec": {
   "display_name": "Python 3 (ipykernel)",
   "language": "python",
   "name": "python3"
  },
  "language_info": {
   "codemirror_mode": {
    "name": "ipython",
    "version": 3
   },
   "file_extension": ".py",
   "mimetype": "text/x-python",
   "name": "python",
   "nbconvert_exporter": "python",
   "pygments_lexer": "ipython3",
   "version": "3.11.3"
  }
 },
 "nbformat": 4,
 "nbformat_minor": 5
}
