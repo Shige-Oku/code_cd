{
 "cells": [
  {
   "cell_type": "code",
   "execution_count": 1,
   "id": "9d904916-cede-411f-8160-cabb7feace89",
   "metadata": {
    "tags": []
   },
   "outputs": [],
   "source": [
    "import sys\n",
    "import numpy as np\n",
    "import math\n",
    "import collections\n",
    "import copy\n",
    "import decimal\n",
    "import itertools\n",
    "import re\n",
    "import bisect\n",
    "import scipy\n",
    "import heapq\n",
    "from collections import deque \n",
    "from functools import reduce\n",
    "from itertools import product\n",
    "from itertools import combinations\n",
    "from functools import lru_cache\n",
    "from scipy.special import comb\n",
    "from numba import njit\n",
    "from bisect import bisect_right\n",
    "from bisect import bisect_left\n",
    "from atcoder.fenwicktree import FenwickTree\n",
    "from sortedcontainers import SortedSet, SortedList, SortedDict"
   ]
  },
  {
   "cell_type": "code",
   "execution_count": 2,
   "id": "7f7003a1-e892-4c7f-a5b9-79ddef94207c",
   "metadata": {
    "tags": []
   },
   "outputs": [
    {
     "name": "stdin",
     "output_type": "stream",
     "text": [
      " 3 5\n"
     ]
    }
   ],
   "source": [
    "N, M = map(int, input().split())"
   ]
  },
  {
   "cell_type": "code",
   "execution_count": 3,
   "id": "a6799806-4e29-45a6-8e87-6a9df6192bd1",
   "metadata": {
    "tags": []
   },
   "outputs": [
    {
     "name": "stdin",
     "output_type": "stream",
     "text": [
      " 1 2\n",
      " 2 3\n",
      " 3 2\n",
      " 3 1\n",
      " 1 1\n"
     ]
    }
   ],
   "source": [
    "UVm = [list(map(int, input().split())) for _ in range(M)]"
   ]
  },
  {
   "cell_type": "code",
   "execution_count": 7,
   "id": "dc6256ac-5605-441e-bce0-4aa710967eb2",
   "metadata": {
    "tags": []
   },
   "outputs": [],
   "source": [
    "graph = [[] for _ in range(N+1)]\n",
    "ans = 0\n",
    "for U, V in UVm:\n",
    "    if U == V:\n",
    "        ans += 1\n",
    "        continue\n",
    "    if V in graph[U]:\n",
    "        ans += 1\n",
    "        continue\n",
    "        \n",
    "    graph[U].append(V)\n",
    "    graph[V].append(U)"
   ]
  },
  {
   "cell_type": "code",
   "execution_count": 8,
   "id": "456978f5-845d-49df-ae27-0d1b99e96d2a",
   "metadata": {
    "tags": []
   },
   "outputs": [
    {
     "name": "stdout",
     "output_type": "stream",
     "text": [
      "2\n"
     ]
    }
   ],
   "source": [
    "print(ans)"
   ]
  },
  {
   "cell_type": "code",
   "execution_count": 5,
   "id": "eb21ed23-6174-4e54-86d3-944a4218f5b1",
   "metadata": {
    "tags": []
   },
   "outputs": [],
   "source": [
    "from atcoder.dsu import DSU\n",
    "uf = DSU(N+1)\n",
    "ans = 0\n",
    "for U, V in UVm:\n",
    "    if uf.same(U, V):\n",
    "        ans += 1\n",
    "    uf.merge(U, V)"
   ]
  },
  {
   "cell_type": "code",
   "execution_count": 6,
   "id": "2c793dc4-7b97-4e2d-be38-0cc523e2faa0",
   "metadata": {
    "tags": []
   },
   "outputs": [
    {
     "name": "stdout",
     "output_type": "stream",
     "text": [
      "3\n"
     ]
    }
   ],
   "source": [
    "print(ans)"
   ]
  },
  {
   "cell_type": "code",
   "execution_count": null,
   "id": "95ab615d-4a88-4113-b614-759cf8f3a8a5",
   "metadata": {},
   "outputs": [],
   "source": []
  }
 ],
 "metadata": {
  "kernelspec": {
   "display_name": "Python 3 (ipykernel)",
   "language": "python",
   "name": "python3"
  },
  "language_info": {
   "codemirror_mode": {
    "name": "ipython",
    "version": 3
   },
   "file_extension": ".py",
   "mimetype": "text/x-python",
   "name": "python",
   "nbconvert_exporter": "python",
   "pygments_lexer": "ipython3",
   "version": "3.11.3"
  }
 },
 "nbformat": 4,
 "nbformat_minor": 5
}
