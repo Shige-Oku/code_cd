{
 "cells": [
  {
   "cell_type": "code",
   "execution_count": 1,
   "id": "90e84d9e-85dc-4354-9a01-9229aa9bab86",
   "metadata": {
    "tags": []
   },
   "outputs": [],
   "source": [
    "import sys\n",
    "import numpy as np\n",
    "import math\n",
    "import collections\n",
    "import copy\n",
    "import decimal\n",
    "import itertools\n",
    "import re\n",
    "import bisect\n",
    "import scipy\n",
    "import heapq\n",
    "from collections import deque \n",
    "from functools import reduce\n",
    "from itertools import product\n",
    "from itertools import combinations\n",
    "from functools import lru_cache\n",
    "from scipy.special import comb\n",
    "from numba import njit\n",
    "from bisect import bisect_right\n",
    "from bisect import bisect_left\n",
    "from atcoder.fenwicktree import FenwickTree\n",
    "from sortedcontainers import SortedSet, SortedList, SortedDict"
   ]
  },
  {
   "cell_type": "code",
   "execution_count": 1,
   "id": "6262da23-b551-4cce-ac37-38fddb5a042a",
   "metadata": {
    "tags": []
   },
   "outputs": [
    {
     "name": "stdin",
     "output_type": "stream",
     "text": [
      " 10\n"
     ]
    }
   ],
   "source": [
    "N = int(input())"
   ]
  },
  {
   "cell_type": "code",
   "execution_count": 2,
   "id": "e975b9e3-653d-4470-88ea-86ef5d6d2b0a",
   "metadata": {
    "tags": []
   },
   "outputs": [
    {
     "name": "stdin",
     "output_type": "stream",
     "text": [
      " 0101001001\n"
     ]
    }
   ],
   "source": [
    "S = input()"
   ]
  },
  {
   "cell_type": "code",
   "execution_count": 3,
   "id": "c1999548-c2ed-4dc1-9f95-69893ad9d1f7",
   "metadata": {
    "tags": []
   },
   "outputs": [],
   "source": [
    "def shift(n):\n",
    "    ret = 0\n",
    "    for k, v in pos.items():\n",
    "        if k == n:\n",
    "            continue\n",
    "        ret += abs(pos[n] - pos[k]) - abs(n - k)\n",
    "        # print(ret, pos[n], pos[k], n, k)\n",
    "    return ret"
   ]
  },
  {
   "cell_type": "code",
   "execution_count": 4,
   "id": "8038282e-5e5a-46b6-87f6-a530a5fafe77",
   "metadata": {
    "tags": []
   },
   "outputs": [],
   "source": [
    "from itertools import accumulate\n",
    "def solve():\n",
    "    ret = 10**20\n",
    "    if S.count('1') == 1:\n",
    "        return 0\n",
    "    start = max(1, len(pos)//2-50)\n",
    "    end = min(len(pos), start+100)\n",
    "    for i in range(start, end+1):\n",
    "        ca = 0\n",
    "        ca = shift(i)\n",
    "        ret = min(ret, ca)\n",
    "        # print(i, ca, ret)\n",
    "    \n",
    "    # print(cum, cnt, pos)\n",
    "    return ret\n",
    "    "
   ]
  },
  {
   "cell_type": "code",
   "execution_count": 5,
   "id": "99954451-7b7d-42e7-aace-e5f32288e802",
   "metadata": {
    "tags": []
   },
   "outputs": [
    {
     "name": "stdout",
     "output_type": "stream",
     "text": [
      "7\n"
     ]
    }
   ],
   "source": [
    "cum = [0, ]\n",
    "pos = {}\n",
    "cnt = 1\n",
    "for i, s in enumerate(S, 1):\n",
    "    if s == '0':\n",
    "        cum.append(cum[-1])\n",
    "    else:\n",
    "        cum.append(cum[-1] + 1)\n",
    "        pos[cnt] = i\n",
    "        cnt += 1\n",
    "\n",
    "print(solve())"
   ]
  },
  {
   "cell_type": "code",
   "execution_count": 7,
   "id": "e944b2d5-8166-4084-91f3-fd26ff2d8345",
   "metadata": {
    "tags": []
   },
   "outputs": [],
   "source": [
    "# コンテスト後"
   ]
  },
  {
   "cell_type": "code",
   "execution_count": 20,
   "id": "23ea0385-7264-4061-9070-44c3301e1da1",
   "metadata": {
    "tags": []
   },
   "outputs": [
    {
     "name": "stdout",
     "output_type": "stream",
     "text": [
      "1 0 0\n",
      "3 1 1\n",
      "5 2 3\n",
      "6 2 5\n",
      "8 1 6\n",
      "9 1 7\n"
     ]
    }
   ],
   "source": [
    "from itertools import accumulate\n",
    "An = [int(x) for x in S]\n",
    "An_c = [0] + list(accumulate(An))\n",
    "ans = 0\n",
    "for i, A in enumerate(An, 1):\n",
    "    if A == 1:\n",
    "        continue\n",
    "    dist = min(An_c[i-1], An_c[-1]-An_c[i])\n",
    "    ans += dist\n",
    "    # print(i, dist, ans)"
   ]
  },
  {
   "cell_type": "code",
   "execution_count": 21,
   "id": "275fcca1-901a-4f5f-a75a-b3fa2235b16e",
   "metadata": {
    "tags": []
   },
   "outputs": [
    {
     "name": "stdout",
     "output_type": "stream",
     "text": [
      "7\n"
     ]
    }
   ],
   "source": [
    "print(ans)"
   ]
  },
  {
   "cell_type": "code",
   "execution_count": 12,
   "id": "026a096d-a969-4333-b537-d958cd97baf0",
   "metadata": {
    "tags": []
   },
   "outputs": [
    {
     "data": {
      "text/plain": [
       "([0, 1, 0, 1, 0, 0, 1, 0, 0, 1], [0, 0, 1, 1, 2, 2, 2, 3, 3, 3, 4])"
      ]
     },
     "execution_count": 12,
     "metadata": {},
     "output_type": "execute_result"
    }
   ],
   "source": [
    "An, An_c"
   ]
  },
  {
   "cell_type": "code",
   "execution_count": 69,
   "id": "ac1e1500-d8f9-4477-85ad-d418e1464c51",
   "metadata": {
    "tags": []
   },
   "outputs": [
    {
     "data": {
      "text/plain": [
       "{1: 2, 2: 4, 3: 7, 4: 10}"
      ]
     },
     "execution_count": 69,
     "metadata": {},
     "output_type": "execute_result"
    }
   ],
   "source": [
    "pos"
   ]
  },
  {
   "cell_type": "code",
   "execution_count": 50,
   "id": "366a5a61-d99f-4818-bfda-1642d5cf84a8",
   "metadata": {
    "tags": []
   },
   "outputs": [
    {
     "name": "stdout",
     "output_type": "stream",
     "text": [
      "3 7 2 3 1\n",
      "5 7 4 3 2\n"
     ]
    },
    {
     "data": {
      "text/plain": [
       "5"
      ]
     },
     "execution_count": 50,
     "metadata": {},
     "output_type": "execute_result"
    }
   ],
   "source": [
    "shift(3)"
   ]
  },
  {
   "cell_type": "code",
   "execution_count": 67,
   "id": "ea5b6269-022c-4eec-92a6-20e97765f5cd",
   "metadata": {
    "tags": []
   },
   "outputs": [],
   "source": [
    "from itertools import accumulate\n",
    "def solve():\n",
    "    ret = 10**20\n",
    "    if S.count('1') == 1:\n",
    "        return 0\n",
    "    cnt = 1\n",
    "    for i, s in enumerate(S, 1):\n",
    "        ca = 0\n",
    "        if s == '0':\n",
    "            continue\n",
    "        \n",
    "        ca = shift(cnt)\n",
    "        ret = min(ret, ca)\n",
    "        # print(i, ca, ret)\n",
    "        cnt += 1\n",
    "    \n",
    "    # print(cum, cnt, pos)\n",
    "    return ret\n",
    "    "
   ]
  },
  {
   "cell_type": "code",
   "execution_count": 43,
   "id": "2bca2538-48bb-4e7e-a435-2b0e22baabd1",
   "metadata": {
    "tags": []
   },
   "outputs": [
    {
     "data": {
      "text/plain": [
       "(2, 4, 7)"
      ]
     },
     "execution_count": 43,
     "metadata": {},
     "output_type": "execute_result"
    }
   ],
   "source": [
    "pos[1], pos[2], pos[3]"
   ]
  },
  {
   "cell_type": "code",
   "execution_count": null,
   "id": "993bd4a3-5a64-4db5-8115-aa485868b9b1",
   "metadata": {},
   "outputs": [],
   "source": []
  }
 ],
 "metadata": {
  "kernelspec": {
   "display_name": "Python 3 (ipykernel)",
   "language": "python",
   "name": "python3"
  },
  "language_info": {
   "codemirror_mode": {
    "name": "ipython",
    "version": 3
   },
   "file_extension": ".py",
   "mimetype": "text/x-python",
   "name": "python",
   "nbconvert_exporter": "python",
   "pygments_lexer": "ipython3",
   "version": "3.11.3"
  }
 },
 "nbformat": 4,
 "nbformat_minor": 5
}
