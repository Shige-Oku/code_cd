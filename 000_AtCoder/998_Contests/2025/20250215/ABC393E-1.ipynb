{
 "cells": [
  {
   "cell_type": "code",
   "execution_count": 1,
   "id": "77601446-2e8a-4534-9d43-bc48b6513a7e",
   "metadata": {
    "tags": []
   },
   "outputs": [],
   "source": [
    "import sys\n",
    "import numpy as np\n",
    "import math\n",
    "import collections\n",
    "import copy\n",
    "import decimal\n",
    "import itertools\n",
    "import re\n",
    "import bisect\n",
    "import scipy\n",
    "import heapq\n",
    "from collections import deque \n",
    "from functools import reduce\n",
    "from itertools import product\n",
    "from itertools import combinations\n",
    "from functools import lru_cache\n",
    "from scipy.special import comb\n",
    "from numba import njit\n",
    "from bisect import bisect_right\n",
    "from bisect import bisect_left\n",
    "from atcoder.fenwicktree import FenwickTree\n",
    "from sortedcontainers import SortedSet, SortedList, SortedDict"
   ]
  },
  {
   "cell_type": "code",
   "execution_count": 1,
   "id": "acf189c2-ca01-4695-b850-192d166cd0f5",
   "metadata": {
    "tags": []
   },
   "outputs": [
    {
     "name": "stdin",
     "output_type": "stream",
     "text": [
      " 5 2\n"
     ]
    }
   ],
   "source": [
    "N, K = map(int, input().split())"
   ]
  },
  {
   "cell_type": "code",
   "execution_count": 2,
   "id": "76f322bd-724b-41da-8771-8f32bc5125d7",
   "metadata": {
    "tags": []
   },
   "outputs": [
    {
     "name": "stdin",
     "output_type": "stream",
     "text": [
      "  3 4 6 7 12\n"
     ]
    }
   ],
   "source": [
    "An = list(map(int, input().split()))"
   ]
  },
  {
   "cell_type": "code",
   "execution_count": 4,
   "id": "a3b6f3d5-3b7c-4142-8b39-672276da9b8f",
   "metadata": {},
   "outputs": [],
   "source": [
    "# 約数のリスト作成\n",
    "def get_divisor_list_without_sqrt(number):\n",
    "    number_sqrt = int(number**.5) + 1\n",
    "    divisors = []\n",
    "    for i in range(1, int(number_sqrt)):\n",
    "        if number % i == 0:\n",
    "            # 割り切れたので約数\n",
    "            divisors.append(i)\n",
    "            if i ** 2 != number:\n",
    "                divisors.append(number // i)\n",
    "    return sorted(divisors, reverse=True)\n"
   ]
  },
  {
   "cell_type": "code",
   "execution_count": 5,
   "id": "64e58273-4880-47f9-bc9e-8279043290a2",
   "metadata": {
    "tags": []
   },
   "outputs": [],
   "source": [
    "from collections import defaultdict\n",
    "divisors_cnt = defaultdict(int)\n",
    "divisors_value = {}\n",
    "for A in An:\n",
    "    if A in divisors_value:\n",
    "        divisors = divisors_value[A]\n",
    "    else:\n",
    "        divisors = get_divisor_list_without_sqrt(A)\n",
    "        divisors_value[A] = divisors\n",
    "    for divisor in divisors:\n",
    "        divisors_cnt[divisor] += 1"
   ]
  },
  {
   "cell_type": "code",
   "execution_count": 6,
   "id": "88696b40-9d24-4b99-86b0-2366ba936153",
   "metadata": {
    "tags": []
   },
   "outputs": [
    {
     "name": "stdout",
     "output_type": "stream",
     "text": [
      "3\n",
      "4\n",
      "6\n",
      "1\n",
      "6\n"
     ]
    }
   ],
   "source": [
    "for A in An:\n",
    "    ans = 1\n",
    "    for divisor in divisors_value[A]:\n",
    "        if divisors_cnt[divisor] >= K:\n",
    "            ans = max(ans, divisor)\n",
    "            break\n",
    "    print(ans)"
   ]
  },
  {
   "cell_type": "code",
   "execution_count": null,
   "id": "f53ed563-ddd1-4572-8d5b-208216b72944",
   "metadata": {},
   "outputs": [],
   "source": []
  },
  {
   "cell_type": "code",
   "execution_count": null,
   "id": "aa1e31e9-c3d5-4268-a598-9a252ab5664b",
   "metadata": {},
   "outputs": [],
   "source": [
    "# TLE"
   ]
  },
  {
   "cell_type": "code",
   "execution_count": 43,
   "id": "ba46a3b3-0676-4042-947f-e7a9d260ef61",
   "metadata": {
    "tags": []
   },
   "outputs": [],
   "source": [
    "from collections import defaultdict\n",
    "divisors_cnt = defaultdict(int)\n",
    "divisors_value = {}\n",
    "for A in An:\n",
    "    divisors = get_divisor_list_without_sqrt(A)\n",
    "    divisors_value[A] = divisors\n",
    "    for divisor in divisors:\n",
    "        divisors_cnt[divisor] += 1"
   ]
  },
  {
   "cell_type": "code",
   "execution_count": 44,
   "id": "8cdab769-a9d7-4abc-99a6-856147131f8e",
   "metadata": {
    "tags": []
   },
   "outputs": [
    {
     "name": "stdout",
     "output_type": "stream",
     "text": [
      "3\n",
      "4\n",
      "6\n",
      "1\n",
      "6\n"
     ]
    }
   ],
   "source": [
    "for A in An:\n",
    "    ans = 1\n",
    "    for divisor in divisors_value[A]:\n",
    "        if divisors_cnt[divisor] >= K:\n",
    "            ans = max(ans, divisor)\n",
    "            break\n",
    "    print(ans)"
   ]
  },
  {
   "cell_type": "code",
   "execution_count": 45,
   "id": "45be0c8f-89dc-44b0-80c7-cf6f129def73",
   "metadata": {
    "tags": []
   },
   "outputs": [
    {
     "data": {
      "text/plain": [
       "defaultdict(int, {3: 3, 1: 5, 4: 2, 2: 3, 6: 2, 7: 1, 12: 1})"
      ]
     },
     "execution_count": 45,
     "metadata": {},
     "output_type": "execute_result"
    }
   ],
   "source": [
    "divisors_cnt"
   ]
  },
  {
   "cell_type": "code",
   "execution_count": 7,
   "id": "fcc1d436-6c96-49c1-845c-d64334afe8f8",
   "metadata": {},
   "outputs": [],
   "source": [
    "def getPrimes(n):\n",
    "    ret = []\n",
    "    isPrime = [True] * (n+1)\n",
    "    isPrime[:2] = False, False\n",
    "    isCheck = [False] * (n+1)\n",
    "    for i in range(2, int(n**.5)+1):\n",
    "        if isCheck[i]:\n",
    "            continue\n",
    "        for j in range(i*i, n+1, i):\n",
    "            isCheck[j] = True\n",
    "            isPrime[j] = False\n",
    "    for i in range(2, n+1):\n",
    "        if isPrime[i]:\n",
    "            ret.append(i)\n",
    "    return ret"
   ]
  },
  {
   "cell_type": "code",
   "execution_count": 4,
   "id": "e1a0535c-d39d-4ca7-b7c0-d8990edf11a3",
   "metadata": {
    "tags": []
   },
   "outputs": [],
   "source": [
    "# 素因数分解\n",
    "from collections import defaultdict\n",
    "def factorization(n):\n",
    "    arr = {}\n",
    "    temp = n\n",
    "    for i in range(2, int(-(-n**0.5//1))+1):\n",
    "        if temp % i == 0:\n",
    "            cnt = 0\n",
    "            while temp % i == 0:\n",
    "                cnt += 1\n",
    "                temp //= i\n",
    "            arr[i] = cnt\n",
    "\n",
    "    if temp != 1:\n",
    "        if temp in arr:\n",
    "            arr[temp] += 1\n",
    "        else:\n",
    "            arr[temp] = 1\n",
    "\n",
    "    if len(arr) == 0:\n",
    "        arr[n] = 1\n",
    "\n",
    "    return arr"
   ]
  },
  {
   "cell_type": "code",
   "execution_count": 13,
   "id": "9a871fc7-8f1b-4a07-bbea-31dfb9573569",
   "metadata": {
    "tags": []
   },
   "outputs": [],
   "source": [
    "primes = getPrimes(max(An))"
   ]
  },
  {
   "cell_type": "code",
   "execution_count": 16,
   "id": "31d12265-2377-4ff3-87b4-c5a1ffde591b",
   "metadata": {
    "tags": []
   },
   "outputs": [],
   "source": [
    "from collections import defaultdict\n",
    "primes2 = defaultdict(int)\n",
    "for A in An:\n",
    "    divisors = factorization(A)\n",
    "    for k, v in divisors.items():\n",
    "        for i in range(1, v+1):\n",
    "            primes2[(k, i)] += 1"
   ]
  },
  {
   "cell_type": "code",
   "execution_count": 29,
   "id": "ce2782d7-de52-4b3c-a60f-11a206d77d00",
   "metadata": {
    "tags": []
   },
   "outputs": [
    {
     "name": "stdout",
     "output_type": "stream",
     "text": [
      "3\n",
      "4\n",
      "6\n",
      "1\n",
      "12\n"
     ]
    }
   ],
   "source": [
    "for A in An:\n",
    "    ans = 1\n",
    "    divisors = factorization(A)\n",
    "    for k, v in divisors.items():\n",
    "        for i in range(v, 0, -1):\n",
    "            if (k, v) in primes2:\n",
    "                if primes2[(k, v)] > 1:\n",
    "                    ans *= k **v\n",
    "                    break\n",
    "    print(ans)"
   ]
  },
  {
   "cell_type": "code",
   "execution_count": 5,
   "id": "df3b229e-0c3e-4a93-9f7e-d69927c04d85",
   "metadata": {
    "tags": []
   },
   "outputs": [
    {
     "data": {
      "text/plain": [
       "{3: 1}"
      ]
     },
     "execution_count": 5,
     "metadata": {},
     "output_type": "execute_result"
    }
   ],
   "source": [
    "factorization(3)"
   ]
  },
  {
   "cell_type": "code",
   "execution_count": 9,
   "id": "2678a2de-3b38-4813-9fd0-a4a784aa4aae",
   "metadata": {
    "tags": []
   },
   "outputs": [
    {
     "data": {
      "text/plain": [
       "True"
      ]
     },
     "execution_count": 9,
     "metadata": {},
     "output_type": "execute_result"
    }
   ],
   "source": [
    "2**20 > 10**6"
   ]
  },
  {
   "cell_type": "code",
   "execution_count": 17,
   "id": "9bf6fbe7-9fed-4022-84d6-4f63eaf712d9",
   "metadata": {
    "tags": []
   },
   "outputs": [
    {
     "data": {
      "text/plain": [
       "defaultdict(int, {(3, 1): 3, (2, 1): 3, (2, 2): 2, (7, 1): 1})"
      ]
     },
     "execution_count": 17,
     "metadata": {},
     "output_type": "execute_result"
    }
   ],
   "source": [
    "primes2"
   ]
  },
  {
   "cell_type": "code",
   "execution_count": 15,
   "id": "88e050e7-dd1f-4524-930b-6312677f807d",
   "metadata": {
    "tags": []
   },
   "outputs": [
    {
     "data": {
      "text/plain": [
       "{2: 2, 3: 1}"
      ]
     },
     "execution_count": 15,
     "metadata": {},
     "output_type": "execute_result"
    }
   ],
   "source": [
    "divisors"
   ]
  },
  {
   "cell_type": "code",
   "execution_count": null,
   "id": "f1ae132e-632a-47e4-88ab-6c448ea09a37",
   "metadata": {},
   "outputs": [],
   "source": []
  }
 ],
 "metadata": {
  "kernelspec": {
   "display_name": "Python 3 (ipykernel)",
   "language": "python",
   "name": "python3"
  },
  "language_info": {
   "codemirror_mode": {
    "name": "ipython",
    "version": 3
   },
   "file_extension": ".py",
   "mimetype": "text/x-python",
   "name": "python",
   "nbconvert_exporter": "python",
   "pygments_lexer": "ipython3",
   "version": "3.11.3"
  }
 },
 "nbformat": 4,
 "nbformat_minor": 5
}
