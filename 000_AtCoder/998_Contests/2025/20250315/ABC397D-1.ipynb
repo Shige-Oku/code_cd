{
 "cells": [
  {
   "cell_type": "code",
   "execution_count": 1,
   "id": "a1ea5024-3f71-4803-a19e-e0949f5d7539",
   "metadata": {
    "tags": []
   },
   "outputs": [],
   "source": [
    "import sys\n",
    "import numpy as np\n",
    "import math\n",
    "import collections\n",
    "import copy\n",
    "import decimal\n",
    "import itertools\n",
    "import re\n",
    "import bisect\n",
    "import scipy\n",
    "import heapq\n",
    "from collections import deque \n",
    "from functools import reduce\n",
    "from itertools import product\n",
    "from itertools import combinations\n",
    "from functools import lru_cache\n",
    "from scipy.special import comb\n",
    "from numba import njit\n",
    "from bisect import bisect_right\n",
    "from bisect import bisect_left\n",
    "from atcoder.fenwicktree import FenwickTree\n",
    "from sortedcontainers import SortedSet, SortedList, SortedDict"
   ]
  },
  {
   "cell_type": "code",
   "execution_count": 31,
   "id": "4a490716-2664-4615-9d27-88ea78f441d6",
   "metadata": {
    "tags": []
   },
   "outputs": [
    {
     "name": "stdin",
     "output_type": "stream",
     "text": [
      " 39977273855577088\n"
     ]
    }
   ],
   "source": [
    "N = int(input())"
   ]
  },
  {
   "cell_type": "code",
   "execution_count": 32,
   "id": "fbc3aa8e-8a80-423c-afbe-bdeea5fee4c9",
   "metadata": {
    "tags": []
   },
   "outputs": [],
   "source": [
    "def my_check(m, d):\n",
    "    return (m+d)**3 - m**3 <= N"
   ]
  },
  {
   "cell_type": "code",
   "execution_count": 33,
   "id": "19b37676-2aef-4c74-b60b-e3eb7cf8b9db",
   "metadata": {
    "tags": []
   },
   "outputs": [],
   "source": [
    "def my_bisect(d):\n",
    "    ok = 0\n",
    "    ng = 10**20\n",
    "    while ok + 1 < ng:\n",
    "        m = (ok + ng) // 2\n",
    "        if my_check(m, d):\n",
    "            ok = m\n",
    "        else:\n",
    "            ng = m\n",
    "    \n",
    "    if ok == 0:\n",
    "        return -1\n",
    "    return ok"
   ]
  },
  {
   "cell_type": "code",
   "execution_count": 36,
   "id": "73cadc81-1edc-4737-92bf-8a0915fdf407",
   "metadata": {
    "tags": []
   },
   "outputs": [
    {
     "name": "stdout",
     "output_type": "stream",
     "text": [
      "342756 66212\n"
     ]
    }
   ],
   "source": [
    "for d in range(1, int(N**(1/3))+2):\n",
    "    if N % d != 0:\n",
    "        continue\n",
    "    \n",
    "    x = my_bisect(d)\n",
    "    if x < 1:\n",
    "        continue\n",
    "    if (x+d)**3 - x**3 == N:\n",
    "        print(x+d, x)\n",
    "        break\n",
    "else:\n",
    "    print(-1)"
   ]
  },
  {
   "cell_type": "code",
   "execution_count": 30,
   "id": "12a00dcf-556f-40b9-abf1-d97125c16adb",
   "metadata": {
    "tags": []
   },
   "outputs": [],
   "source": [
    "def solve(d):\n",
    "    if N % d != 0:\n",
    "        return False, None\n",
    "\n",
    "    a = 3 * d\n",
    "    b = 3 * d * d\n",
    "    c = d * d * d - N\n",
    "    x = int((-b + (b*b - 4*a*c)**.5) / (2 * a))\n",
    "    if x > 0:\n",
    "        if (x + d) ** 3 - x * x * x == N:\n",
    "            return True, x\n",
    "\n",
    "    x = int((-b - (b*b - 4*a*c)**.5) / (2 * a))\n",
    "    if x > 0:\n",
    "        if (x + d) ** 3 - x * x * x == N:\n",
    "            return True, x\n",
    "            \n",
    "    return False, None"
   ]
  },
  {
   "cell_type": "code",
   "execution_count": 15,
   "id": "af377e8b-1bc8-4fb8-ac38-2ba7abdb6869",
   "metadata": {
    "tags": []
   },
   "outputs": [
    {
     "name": "stdout",
     "output_type": "stream",
     "text": [
      "342756 66212\n"
     ]
    }
   ],
   "source": [
    "for d in range(1, int(N**(1/3))+2):\n",
    "    f, x = solve(d)\n",
    "    if f:\n",
    "        print(x+d, x)\n",
    "        break\n",
    "else:\n",
    "    print(-1)"
   ]
  },
  {
   "cell_type": "code",
   "execution_count": null,
   "id": "c2256335-d6a7-4b98-bd22-49a7790eeedc",
   "metadata": {},
   "outputs": [],
   "source": []
  },
  {
   "cell_type": "code",
   "execution_count": 27,
   "id": "df191a20-a564-429a-b7d8-37e9dc025a84",
   "metadata": {
    "tags": []
   },
   "outputs": [
    {
     "name": "stdout",
     "output_type": "stream",
     "text": [
      "11 12\n"
     ]
    }
   ],
   "source": [
    "for x in range(N**20):\n",
    "    y = int((N+x*x*x)**(1/3))\n",
    "    if abs(x*x*x - y*y*y) == N:\n",
    "        print(x, y)\n",
    "        break\n",
    "    y += 1\n",
    "    if abs(x*x*x - y*y*y) == N:\n",
    "        print(x, y)\n",
    "        break\n",
    "    if abs(x*x*x - (x+1)*(x+1)*(x+1)) > N:\n",
    "        print(-1)\n",
    "        break\n",
    "else:\n",
    "    print(-1)"
   ]
  },
  {
   "cell_type": "code",
   "execution_count": 8,
   "id": "8126dbac-cc5e-4cee-b17f-24aba3a58860",
   "metadata": {
    "tags": []
   },
   "outputs": [],
   "source": [
    "nf3 = int(N**(1/3))\n",
    "ns3 = nf3 + 1"
   ]
  },
  {
   "cell_type": "code",
   "execution_count": 23,
   "id": "3524f16f-0caa-47c2-bb70-f4bfc84296be",
   "metadata": {
    "tags": []
   },
   "outputs": [
    {
     "data": {
      "text/plain": [
       "11.999999999999998"
      ]
     },
     "execution_count": 23,
     "metadata": {},
     "output_type": "execute_result"
    }
   ],
   "source": [
    "(11*11*11+397)**(1/3)"
   ]
  },
  {
   "cell_type": "code",
   "execution_count": 3,
   "id": "351ce6f7-cb0c-4db3-aa46-f20e220f810f",
   "metadata": {
    "tags": []
   },
   "outputs": [
    {
     "data": {
      "text/plain": [
       "341930.40846475476"
      ]
     },
     "execution_count": 3,
     "metadata": {},
     "output_type": "execute_result"
    }
   ],
   "source": [
    "39977273855577088**(1/3)"
   ]
  },
  {
   "cell_type": "code",
   "execution_count": 4,
   "id": "771b7df1-b1ea-4a54-9241-c905db5a7a5a",
   "metadata": {
    "tags": []
   },
   "outputs": [
    {
     "data": {
      "text/plain": [
       "True"
      ]
     },
     "execution_count": 4,
     "metadata": {},
     "output_type": "execute_result"
    }
   ],
   "source": [
    "341930**3 < 39977273855577088"
   ]
  },
  {
   "cell_type": "code",
   "execution_count": 6,
   "id": "d7ee643d-3840-4e2b-9b66-077b2b189ce6",
   "metadata": {
    "tags": []
   },
   "outputs": [
    {
     "data": {
      "text/plain": [
       "True"
      ]
     },
     "execution_count": 6,
     "metadata": {},
     "output_type": "execute_result"
    }
   ],
   "source": [
    "341931**3 > 39977273855577088"
   ]
  },
  {
   "cell_type": "code",
   "execution_count": 7,
   "id": "57396f76-045d-4508-b16c-acd9134e4e13",
   "metadata": {
    "tags": []
   },
   "outputs": [
    {
     "data": {
      "text/plain": [
       "4641588.8336127745"
      ]
     },
     "execution_count": 7,
     "metadata": {},
     "output_type": "execute_result"
    }
   ],
   "source": [
    "(10**20) ** (1/3)"
   ]
  },
  {
   "cell_type": "code",
   "execution_count": 9,
   "id": "7b78531f-cb68-415e-aec0-3d6b48e1c620",
   "metadata": {
    "tags": []
   },
   "outputs": [
    {
     "data": {
      "text/plain": [
       "(7, 8)"
      ]
     },
     "execution_count": 9,
     "metadata": {},
     "output_type": "execute_result"
    }
   ],
   "source": [
    "nf3, ns3"
   ]
  },
  {
   "cell_type": "code",
   "execution_count": null,
   "id": "d763b9ef-6c82-46b5-a766-091d43eb3d02",
   "metadata": {},
   "outputs": [],
   "source": []
  }
 ],
 "metadata": {
  "kernelspec": {
   "display_name": "Python 3 (ipykernel)",
   "language": "python",
   "name": "python3"
  },
  "language_info": {
   "codemirror_mode": {
    "name": "ipython",
    "version": 3
   },
   "file_extension": ".py",
   "mimetype": "text/x-python",
   "name": "python",
   "nbconvert_exporter": "python",
   "pygments_lexer": "ipython3",
   "version": "3.11.3"
  }
 },
 "nbformat": 4,
 "nbformat_minor": 5
}
