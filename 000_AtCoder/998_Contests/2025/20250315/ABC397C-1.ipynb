{
 "cells": [
  {
   "cell_type": "code",
   "execution_count": 1,
   "id": "d1f82919-cc54-4af4-90c8-d2d2ed6f97b1",
   "metadata": {
    "tags": []
   },
   "outputs": [],
   "source": [
    "import sys\n",
    "import numpy as np\n",
    "import math\n",
    "import collections\n",
    "import copy\n",
    "import decimal\n",
    "import itertools\n",
    "import re\n",
    "import bisect\n",
    "import scipy\n",
    "import heapq\n",
    "from collections import deque \n",
    "from functools import reduce\n",
    "from itertools import product\n",
    "from itertools import combinations\n",
    "from functools import lru_cache\n",
    "from scipy.special import comb\n",
    "from numba import njit\n",
    "from bisect import bisect_right\n",
    "from bisect import bisect_left\n",
    "from atcoder.fenwicktree import FenwickTree\n",
    "from sortedcontainers import SortedSet, SortedList, SortedDict"
   ]
  },
  {
   "cell_type": "code",
   "execution_count": 29,
   "id": "862acd66-f88f-4584-bdb1-4fac60910241",
   "metadata": {
    "tags": []
   },
   "outputs": [
    {
     "name": "stdin",
     "output_type": "stream",
     "text": [
      " 10\n"
     ]
    }
   ],
   "source": [
    "N = int(input())"
   ]
  },
  {
   "cell_type": "code",
   "execution_count": 30,
   "id": "6949bd81-5fd6-4d38-b53c-87c50b2be865",
   "metadata": {
    "tags": []
   },
   "outputs": [
    {
     "name": "stdin",
     "output_type": "stream",
     "text": [
      " 2 5 6 5 2 1 7 9 7 2\n"
     ]
    }
   ],
   "source": [
    "An = list(map(int, input().split()))"
   ]
  },
  {
   "cell_type": "code",
   "execution_count": 31,
   "id": "3c485ef0-55dc-4efa-88da-be534c5b03e4",
   "metadata": {
    "tags": []
   },
   "outputs": [],
   "source": [
    "An_p = [0, ]\n",
    "s = set()\n",
    "for A in An:\n",
    "    s.add(A)\n",
    "    An_p.append(len(s))\n",
    "\n",
    "An_r = []\n",
    "s = set()\n",
    "for A in An[::-1]:\n",
    "    s.add(A)\n",
    "    An_r.append(len(s))\n",
    "An_r = An_r[::-1] + [0]"
   ]
  },
  {
   "cell_type": "code",
   "execution_count": 32,
   "id": "9539bedf-ca2b-40b2-96cf-9b963c0a2cdb",
   "metadata": {
    "tags": []
   },
   "outputs": [
    {
     "name": "stdout",
     "output_type": "stream",
     "text": [
      "8\n"
     ]
    }
   ],
   "source": [
    "ans = 0\n",
    "for i in range(1, N):\n",
    "    ans = max(ans, An_p[i] + An_r[i])\n",
    "print(ans)"
   ]
  },
  {
   "cell_type": "code",
   "execution_count": 24,
   "id": "873a66fa-454e-45a4-9f95-cbee5bb3ebfe",
   "metadata": {
    "tags": []
   },
   "outputs": [
    {
     "data": {
      "text/plain": [
       "([0, 1, 2, 3, 3, 4], [4, 3, 3, 2, 1, 0])"
      ]
     },
     "execution_count": 24,
     "metadata": {},
     "output_type": "execute_result"
    }
   ],
   "source": [
    "An_p, An_r"
   ]
  },
  {
   "cell_type": "code",
   "execution_count": 9,
   "id": "ce89beec-d5ca-4dea-8921-eea0d8de7fb9",
   "metadata": {
    "tags": []
   },
   "outputs": [],
   "source": [
    "from collections import Counter\n",
    "An_c = Counter(An)\n",
    "ans = len(An_c)\n",
    "for k, v in An_c.items():\n",
    "    if v > 1:\n",
    "        ans += 1"
   ]
  },
  {
   "cell_type": "code",
   "execution_count": 10,
   "id": "6f42e036-e2a6-4e45-9256-5e3f5a316438",
   "metadata": {
    "tags": []
   },
   "outputs": [
    {
     "name": "stdout",
     "output_type": "stream",
     "text": [
      "9\n"
     ]
    }
   ],
   "source": [
    "print(ans)"
   ]
  },
  {
   "cell_type": "code",
   "execution_count": 11,
   "id": "91414d1d-848c-4e82-830d-dcbc6481d66c",
   "metadata": {
    "tags": []
   },
   "outputs": [
    {
     "data": {
      "text/plain": [
       "Counter({2: 3, 5: 2, 6: 1, 1: 1, 7: 2, 9: 1})"
      ]
     },
     "execution_count": 11,
     "metadata": {},
     "output_type": "execute_result"
    }
   ],
   "source": [
    "An_c"
   ]
  },
  {
   "cell_type": "code",
   "execution_count": null,
   "id": "a695cc08-9112-4d9a-b4f9-4b58dae9a503",
   "metadata": {},
   "outputs": [],
   "source": []
  }
 ],
 "metadata": {
  "kernelspec": {
   "display_name": "Python 3 (ipykernel)",
   "language": "python",
   "name": "python3"
  },
  "language_info": {
   "codemirror_mode": {
    "name": "ipython",
    "version": 3
   },
   "file_extension": ".py",
   "mimetype": "text/x-python",
   "name": "python",
   "nbconvert_exporter": "python",
   "pygments_lexer": "ipython3",
   "version": "3.11.3"
  }
 },
 "nbformat": 4,
 "nbformat_minor": 5
}
