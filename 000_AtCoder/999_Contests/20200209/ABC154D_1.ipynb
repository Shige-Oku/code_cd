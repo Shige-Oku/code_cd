{
 "cells": [
  {
   "cell_type": "markdown",
   "metadata": {},
   "source": [
    "w4ds1f#b \n",
    ",4\n",
    "### import sys\n",
    "import numpy as np"
   ]
  },
  {
   "cell_type": "code",
   "execution_count": 2,
   "metadata": {},
   "outputs": [],
   "source": [
    "# NG 時間内に解けなかった。。。"
   ]
  },
  {
   "cell_type": "code",
   "execution_count": 3,
   "metadata": {},
   "outputs": [
    {
     "name": "stdin",
     "output_type": "stream",
     "text": [
      " 10 4\n"
     ]
    }
   ],
   "source": [
    "n, k = map(int, input().split())"
   ]
  },
  {
   "cell_type": "code",
   "execution_count": 4,
   "metadata": {},
   "outputs": [
    {
     "name": "stdin",
     "output_type": "stream",
     "text": [
      "  17 13 13 12 15 20 10 13 17 11\n"
     ]
    }
   ],
   "source": [
    "p = list(map(int, input().split()))"
   ]
  },
  {
   "cell_type": "code",
   "execution_count": 5,
   "metadata": {},
   "outputs": [],
   "source": [
    "p_a = 0\n",
    "p_r = p[:k]\n",
    "for j in p_r:\n",
    "    if j == 1:\n",
    "        p_a += 1\n",
    "    else:\n",
    "        p_a += (j + 1) / 2\n"
   ]
  },
  {
   "cell_type": "code",
   "execution_count": 6,
   "metadata": {},
   "outputs": [],
   "source": [
    "p_b = p_a\n",
    "for i in range(1, n-k+1):\n",
    "#     p_b = p_a\n",
    "#     print(str(p[i-1]))\n",
    "#     print(str(p[i+k-1]))\n",
    "    if (p[i-1] == 1):\n",
    "        p_b -= 1\n",
    "    else:\n",
    "        p_b -= (p[i-1] + 1) / 2\n",
    "#         print(str((p[i-1] + 1) / 2))\n",
    "#         print(str(p_b))\n",
    "\n",
    "    if (p[i+k-1] == 1):\n",
    "        p_b += 1\n",
    "    else:\n",
    "        p_b += (p[i+k-1]  + 1) / 2\n",
    "#         print(str((p[i+k-1] + 1) / 2))\n",
    "#         print(str(p_b))\n",
    "    if p_b > p_a:\n",
    "#         print(str(i))\n",
    "        p_a = p_b"
   ]
  },
  {
   "cell_type": "code",
   "execution_count": 7,
   "metadata": {},
   "outputs": [
    {
     "name": "stdout",
     "output_type": "stream",
     "text": [
      "32.0\n"
     ]
    }
   ],
   "source": [
    "print(p_a)"
   ]
  },
  {
   "cell_type": "code",
   "execution_count": null,
   "metadata": {},
   "outputs": [],
   "source": []
  }
 ],
 "metadata": {
  "kernelspec": {
   "display_name": "Python 3",
   "language": "python",
   "name": "python3"
  },
  "language_info": {
   "codemirror_mode": {
    "name": "ipython",
    "version": 3
   },
   "file_extension": ".py",
   "mimetype": "text/x-python",
   "name": "python",
   "nbconvert_exporter": "python",
   "pygments_lexer": "ipython3",
   "version": "3.6.7"
  }
 },
 "nbformat": 4,
 "nbformat_minor": 2
}
