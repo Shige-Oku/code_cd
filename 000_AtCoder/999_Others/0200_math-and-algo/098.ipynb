{
 "cells": [
  {
   "cell_type": "code",
   "execution_count": 1,
   "id": "169a9ab2-c08d-43c8-b45c-bfb18d6fcff4",
   "metadata": {},
   "outputs": [
    {
     "name": "stdin",
     "output_type": "stream",
     "text": [
      " 4\n"
     ]
    }
   ],
   "source": [
    "N = int(input())"
   ]
  },
  {
   "cell_type": "code",
   "execution_count": 2,
   "id": "37d2ff5f-6a3a-41eb-9d11-95f1003bc42d",
   "metadata": {},
   "outputs": [
    {
     "name": "stdin",
     "output_type": "stream",
     "text": [
      " 0 0\n",
      " 3 1\n",
      " 2 3\n",
      " 0 3\n"
     ]
    }
   ],
   "source": [
    "XYn = [list(map(int, input().split())) for _ in range(N)]"
   ]
  },
  {
   "cell_type": "code",
   "execution_count": 3,
   "id": "afa5176b-0247-417d-8624-df41fe66f121",
   "metadata": {},
   "outputs": [
    {
     "name": "stdin",
     "output_type": "stream",
     "text": [
      " 2 1\n"
     ]
    }
   ],
   "source": [
    "A, B = map(int, input().split())"
   ]
  },
  {
   "cell_type": "code",
   "execution_count": 9,
   "id": "0071b131-a152-4f6a-8ebd-413b19c8d11d",
   "metadata": {},
   "outputs": [],
   "source": [
    "ans = 0\n",
    "for i in range(N):\n",
    "    xa, ya = XYn[i][0] - A, XYn[i][1] - B\n",
    "    xb, yb = XYn[(i+1)%N][0] - A, XYn[(i+1)%N][1] - B\n",
    "    if ya > yb:\n",
    "        xa, xb = xb, xa\n",
    "        ya, yb = yb, ya\n",
    "    if ya <= 0 < yb and (xa*yb - xb*ya < 0):\n",
    "        ans += 1"
   ]
  },
  {
   "cell_type": "code",
   "execution_count": 10,
   "id": "b950d0ab-61fb-411e-9762-db66055b79c9",
   "metadata": {},
   "outputs": [
    {
     "name": "stdout",
     "output_type": "stream",
     "text": [
      "INSIDE\n"
     ]
    }
   ],
   "source": [
    "if ans % 2 == 1:\n",
    "    print('INSIDE')\n",
    "else:\n",
    "    print('OUTSIDE')"
   ]
  },
  {
   "cell_type": "code",
   "execution_count": null,
   "id": "7805290a-0e0a-4d96-b937-b5fa97780799",
   "metadata": {},
   "outputs": [],
   "source": []
  }
 ],
 "metadata": {
  "kernelspec": {
   "display_name": "Python 3",
   "language": "python",
   "name": "python3"
  },
  "language_info": {
   "codemirror_mode": {
    "name": "ipython",
    "version": 3
   },
   "file_extension": ".py",
   "mimetype": "text/x-python",
   "name": "python",
   "nbconvert_exporter": "python",
   "pygments_lexer": "ipython3",
   "version": "3.6.13"
  }
 },
 "nbformat": 4,
 "nbformat_minor": 5
}
