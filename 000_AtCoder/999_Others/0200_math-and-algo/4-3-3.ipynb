{
 "cells": [
  {
   "cell_type": "code",
   "execution_count": 1,
   "id": "0729c1dc-9e03-4b22-91b6-c5a56d025ffa",
   "metadata": {},
   "outputs": [],
   "source": [
    "import math"
   ]
  },
  {
   "cell_type": "code",
   "execution_count": 6,
   "id": "dc3c5859-258b-466f-8c0b-eb479bc20e2c",
   "metadata": {},
   "outputs": [],
   "source": [
    "root2 = math.sqrt(2)\n",
    "root2_c = int(root2* 10**6)"
   ]
  },
  {
   "cell_type": "code",
   "execution_count": 12,
   "id": "6699e4cf-cd97-404a-a72b-66518f124e1f",
   "metadata": {},
   "outputs": [
    {
     "name": "stdout",
     "output_type": "stream",
     "text": [
      "cnt:1, m:1.5, v:1500000.0\n",
      "cnt:2, m:1.25, v:1250000.0\n",
      "cnt:3, m:1.375, v:1375000.0\n",
      "cnt:4, m:1.4375, v:1437500.0\n",
      "cnt:5, m:1.40625, v:1406250.0\n",
      "cnt:6, m:1.421875, v:1421875.0\n",
      "cnt:7, m:1.4140625, v:1414062.5\n",
      "cnt:8, m:1.41796875, v:1417968.75\n",
      "cnt:9, m:1.416015625, v:1416015.625\n",
      "cnt:10, m:1.4150390625, v:1415039.0625\n",
      "cnt:11, m:1.41455078125, v:1414550.78125\n",
      "cnt:12, m:1.414306640625, v:1414306.640625\n",
      "cnt:13, m:1.4141845703125, v:1414184.5703125\n",
      "cnt:14, m:1.41424560546875, v:1414245.60546875\n",
      "cnt:15, m:1.414215087890625, v:1414215.087890625\n",
      "cnt:16, m:1.4141998291015625, v:1414199.8291015625\n",
      "cnt:17, m:1.4142074584960938, v:1414207.4584960938\n",
      "cnt:18, m:1.4142112731933594, v:1414211.2731933594\n",
      "cnt:19, m:1.4142131805419922, v:1414213.1805419922\n"
     ]
    }
   ],
   "source": [
    "l, r = 1, 2\n",
    "cnt = 0\n",
    "v = 0\n",
    "while True:\n",
    "    if int(v) == root2_c:\n",
    "        break\n",
    "    cnt += 1\n",
    "    m = (l + r) / 2\n",
    "    if m**2 > 2:\n",
    "        r = m\n",
    "    else:\n",
    "        l = m\n",
    "    v = m * 10**6\n",
    "    print('cnt:{0}, m:{1}, v:{2}'.format(cnt, m, v))"
   ]
  },
  {
   "cell_type": "code",
   "execution_count": 8,
   "id": "672527c6-a591-4cb5-add3-dad773374a3c",
   "metadata": {},
   "outputs": [
    {
     "data": {
      "text/plain": [
       "(1.4142135623730951, 1414213)"
      ]
     },
     "execution_count": 8,
     "metadata": {},
     "output_type": "execute_result"
    }
   ],
   "source": [
    "root2, root2_c"
   ]
  },
  {
   "cell_type": "code",
   "execution_count": null,
   "id": "be6c0497-2db5-4d93-9350-c9fbee4d4f3a",
   "metadata": {},
   "outputs": [],
   "source": []
  }
 ],
 "metadata": {
  "kernelspec": {
   "display_name": "Python 3",
   "language": "python",
   "name": "python3"
  },
  "language_info": {
   "codemirror_mode": {
    "name": "ipython",
    "version": 3
   },
   "file_extension": ".py",
   "mimetype": "text/x-python",
   "name": "python",
   "nbconvert_exporter": "python",
   "pygments_lexer": "ipython3",
   "version": "3.6.13"
  }
 },
 "nbformat": 4,
 "nbformat_minor": 5
}
