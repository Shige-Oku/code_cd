{
 "cells": [
  {
   "cell_type": "code",
   "execution_count": 7,
   "id": "533a97a2-d907-4dd2-9765-48301643f42e",
   "metadata": {},
   "outputs": [
    {
     "name": "stdin",
     "output_type": "stream",
     "text": [
      " 869120\n"
     ]
    }
   ],
   "source": [
    "N = int(input())"
   ]
  },
  {
   "cell_type": "code",
   "execution_count": null,
   "id": "3d24bbc5-8cd4-41ae-810b-d7833972ed74",
   "metadata": {},
   "outputs": [],
   "source": [
    "print(((N*(N+1)) // 2) ** 2 % 1000000007)"
   ]
  },
  {
   "cell_type": "code",
   "execution_count": null,
   "id": "63921ee1-c971-4aae-8663-63d33f0f3fc5",
   "metadata": {},
   "outputs": [],
   "source": []
  }
 ],
 "metadata": {
  "kernelspec": {
   "display_name": "Python 3",
   "language": "python",
   "name": "python3"
  },
  "language_info": {
   "codemirror_mode": {
    "name": "ipython",
    "version": 3
   },
   "file_extension": ".py",
   "mimetype": "text/x-python",
   "name": "python",
   "nbconvert_exporter": "python",
   "pygments_lexer": "ipython3",
   "version": "3.6.13"
  }
 },
 "nbformat": 4,
 "nbformat_minor": 5
}
