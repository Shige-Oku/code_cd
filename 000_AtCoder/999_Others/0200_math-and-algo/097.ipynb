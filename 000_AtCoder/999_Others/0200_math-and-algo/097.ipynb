{
 "cells": [
  {
   "cell_type": "code",
   "execution_count": 1,
   "id": "f2c11dcc-b39b-403a-96cf-3df46d93663a",
   "metadata": {},
   "outputs": [],
   "source": [
    "import math"
   ]
  },
  {
   "cell_type": "code",
   "execution_count": 10,
   "id": "47f032f1-b989-4fb1-bbf1-71dba9613a3d",
   "metadata": {},
   "outputs": [
    {
     "name": "stdin",
     "output_type": "stream",
     "text": [
      " 1 100\n"
     ]
    }
   ],
   "source": [
    "L, R = map(int, input().split())"
   ]
  },
  {
   "cell_type": "code",
   "execution_count": 14,
   "id": "2f0ecbbe-dbed-4bd4-ad3d-0e95cbe16291",
   "metadata": {},
   "outputs": [],
   "source": [
    "isprime = [True] * (R-L+1)\n",
    "if L == 1:\n",
    "    isprime[0] = False\n",
    "for i in range(2, math.ceil(math.sqrt(R))+1):\n",
    "    s = math.ceil(L / i) * i\n",
    "    for j in range(s, R+1, i):\n",
    "        if i == j:\n",
    "            continue\n",
    "        isprime[j-L] = False\n"
   ]
  },
  {
   "cell_type": "code",
   "execution_count": 15,
   "id": "ce4553c1-3420-43b4-a279-cf5f18406dad",
   "metadata": {},
   "outputs": [
    {
     "name": "stdout",
     "output_type": "stream",
     "text": [
      "21\n"
     ]
    }
   ],
   "source": [
    "print(sum(isprime))"
   ]
  },
  {
   "cell_type": "code",
   "execution_count": 18,
   "id": "b78c937c-1648-45e6-b9a2-e69e2295b555",
   "metadata": {},
   "outputs": [],
   "source": [
    "# isprime"
   ]
  },
  {
   "cell_type": "code",
   "execution_count": 17,
   "id": "047b8675-6a9a-4c32-b2c6-1ddf74841846",
   "metadata": {},
   "outputs": [],
   "source": [
    "# isprime"
   ]
  },
  {
   "cell_type": "code",
   "execution_count": null,
   "id": "e1309b5c-4f72-4f5f-8388-58e4a1e6dd01",
   "metadata": {},
   "outputs": [],
   "source": []
  }
 ],
 "metadata": {
  "kernelspec": {
   "display_name": "Python 3",
   "language": "python",
   "name": "python3"
  },
  "language_info": {
   "codemirror_mode": {
    "name": "ipython",
    "version": 3
   },
   "file_extension": ".py",
   "mimetype": "text/x-python",
   "name": "python",
   "nbconvert_exporter": "python",
   "pygments_lexer": "ipython3",
   "version": "3.6.13"
  }
 },
 "nbformat": 4,
 "nbformat_minor": 5
}
