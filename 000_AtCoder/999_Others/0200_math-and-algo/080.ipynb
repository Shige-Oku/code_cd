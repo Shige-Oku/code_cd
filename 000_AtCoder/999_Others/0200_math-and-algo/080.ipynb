{
 "cells": [
  {
   "cell_type": "code",
   "execution_count": 1,
   "id": "40ff6b5a-7e91-42af-a002-3a4c8a35c822",
   "metadata": {},
   "outputs": [],
   "source": [
    "import heapq"
   ]
  },
  {
   "cell_type": "code",
   "execution_count": 2,
   "id": "6cfcdd1f-6c0d-4340-a0e4-2db481a592dc",
   "metadata": {},
   "outputs": [
    {
     "name": "stdin",
     "output_type": "stream",
     "text": [
      " 4 4\n"
     ]
    }
   ],
   "source": [
    "N, M = map(int, input().split())"
   ]
  },
  {
   "cell_type": "code",
   "execution_count": 3,
   "id": "1d84b343-bff2-48d7-b303-374fdec55950",
   "metadata": {},
   "outputs": [
    {
     "name": "stdin",
     "output_type": "stream",
     "text": [
      " 1 2 3\n",
      " 1 3 4\n",
      " 3 4 1\n",
      " 2 4 10\n"
     ]
    }
   ],
   "source": [
    "ABCn = [list(map(int, input().split())) for _ in range(M)]"
   ]
  },
  {
   "cell_type": "code",
   "execution_count": 6,
   "id": "4dd73ece-557d-4526-92ae-550aa2efc12c",
   "metadata": {},
   "outputs": [],
   "source": [
    "graph = [[] for _ in range(N)]\n",
    "for A, B, C in ABCn:\n",
    "    graph[A-1].append((B-1, C))\n",
    "    graph[B-1].append((A-1, C))"
   ]
  },
  {
   "cell_type": "code",
   "execution_count": 42,
   "id": "3c7bfe8a-5035-4d44-b02e-7a70c50f3fe2",
   "metadata": {},
   "outputs": [],
   "source": [
    "dist = [10**19] * N\n",
    "visit = [False] * N\n",
    "q = []\n",
    "heapq.heappush(q, (0, 0))\n",
    "dist[0] = 0\n",
    "while q:\n",
    "    c, p = heapq.heappop(q)\n",
    "    if visit[p]:\n",
    "        continue\n",
    "    visit[p] = True\n",
    "    for np, nc in graph[p]:\n",
    "        if dist[np] > dist[p] + nc:\n",
    "            dist[np] = dist[p] + nc\n",
    "            heapq.heappush(q, (dist[np], np))"
   ]
  },
  {
   "cell_type": "code",
   "execution_count": 43,
   "id": "04e2c163-0ec2-435c-87a0-84284fcd7c87",
   "metadata": {},
   "outputs": [
    {
     "name": "stdout",
     "output_type": "stream",
     "text": [
      "5\n"
     ]
    }
   ],
   "source": [
    "if dist[N-1] < 10**19:\n",
    "    print(dist[N-1])\n",
    "else:\n",
    "    print(\"-1\")"
   ]
  },
  {
   "cell_type": "code",
   "execution_count": 44,
   "id": "f5dd2002-666b-4019-85a9-0ad60427a4dd",
   "metadata": {},
   "outputs": [
    {
     "data": {
      "text/plain": [
       "1"
      ]
     },
     "execution_count": 44,
     "metadata": {},
     "output_type": "execute_result"
    }
   ],
   "source": [
    "np"
   ]
  },
  {
   "cell_type": "code",
   "execution_count": 45,
   "id": "7aec7533-64ed-4135-9dd1-2fb406e9d4f8",
   "metadata": {},
   "outputs": [
    {
     "data": {
      "text/plain": [
       "[0, 3, 4, 5]"
      ]
     },
     "execution_count": 45,
     "metadata": {},
     "output_type": "execute_result"
    }
   ],
   "source": [
    "dist"
   ]
  },
  {
   "cell_type": "code",
   "execution_count": null,
   "id": "c72d4d07-6687-4720-9794-a39ca1500818",
   "metadata": {},
   "outputs": [],
   "source": []
  }
 ],
 "metadata": {
  "kernelspec": {
   "display_name": "Python 3",
   "language": "python",
   "name": "python3"
  },
  "language_info": {
   "codemirror_mode": {
    "name": "ipython",
    "version": 3
   },
   "file_extension": ".py",
   "mimetype": "text/x-python",
   "name": "python",
   "nbconvert_exporter": "python",
   "pygments_lexer": "ipython3",
   "version": "3.6.13"
  }
 },
 "nbformat": 4,
 "nbformat_minor": 5
}
