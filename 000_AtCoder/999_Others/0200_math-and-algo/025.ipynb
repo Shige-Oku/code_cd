{
 "cells": [
  {
   "cell_type": "code",
   "execution_count": 1,
   "id": "26320cdf-8336-44da-b729-436d696fe7b5",
   "metadata": {},
   "outputs": [
    {
     "name": "stdin",
     "output_type": "stream",
     "text": [
      " 5\n"
     ]
    }
   ],
   "source": [
    "N = int(input())"
   ]
  },
  {
   "cell_type": "code",
   "execution_count": 2,
   "id": "ee8da45e-9ea3-4cf4-8539-5f2b39beda3b",
   "metadata": {},
   "outputs": [
    {
     "name": "stdin",
     "output_type": "stream",
     "text": [
      " 3 1 4 1 5\n"
     ]
    }
   ],
   "source": [
    "An = list(map(int, input().split()))"
   ]
  },
  {
   "cell_type": "code",
   "execution_count": 3,
   "id": "cc7f3f82-cc18-4935-8c5a-f9575c6a368c",
   "metadata": {},
   "outputs": [
    {
     "name": "stdin",
     "output_type": "stream",
     "text": [
      " 9 2 6 5 3\n"
     ]
    }
   ],
   "source": [
    "Bn = list(map(int, input().split()))"
   ]
  },
  {
   "cell_type": "code",
   "execution_count": 12,
   "id": "4452b4db-fa9b-439f-a9a5-26fe1fe6fcb0",
   "metadata": {},
   "outputs": [],
   "source": [
    "ans = 0\n",
    "for A, B in zip(An, Bn):\n",
    "    ans += A / 3 + 2 * B / 3"
   ]
  },
  {
   "cell_type": "code",
   "execution_count": 13,
   "id": "dffb65aa-e9a0-4e57-9d57-8830bf2a0008",
   "metadata": {},
   "outputs": [
    {
     "name": "stdout",
     "output_type": "stream",
     "text": [
      "21.333333333333336\n"
     ]
    }
   ],
   "source": [
    "print(ans)"
   ]
  },
  {
   "cell_type": "code",
   "execution_count": 14,
   "id": "f001bd51-adab-4566-8298-c141b89095c4",
   "metadata": {},
   "outputs": [
    {
     "name": "stdout",
     "output_type": "stream",
     "text": [
      "21.333333333333336\n"
     ]
    }
   ],
   "source": [
    "print(sum(An)/3 + sum(Bn)*2/3)"
   ]
  },
  {
   "cell_type": "code",
   "execution_count": null,
   "id": "2da8a14c-8999-4bcf-9293-ba778b3365f5",
   "metadata": {},
   "outputs": [],
   "source": []
  },
  {
   "cell_type": "code",
   "execution_count": 5,
   "id": "00d93d9b-fdde-4421-bb22-dc9719734bb8",
   "metadata": {},
   "outputs": [
    {
     "name": "stdout",
     "output_type": "stream",
     "text": [
      "16.5\n"
     ]
    }
   ],
   "source": [
    "print((sum(An)+sum(Bn) / (2*N)))"
   ]
  },
  {
   "cell_type": "code",
   "execution_count": 9,
   "id": "e07be0dc-a6ca-4aaf-9bcb-5683de19e2c2",
   "metadata": {},
   "outputs": [
    {
     "data": {
      "text/plain": [
       "14"
      ]
     },
     "execution_count": 9,
     "metadata": {},
     "output_type": "execute_result"
    }
   ],
   "source": [
    "sum(An)"
   ]
  },
  {
   "cell_type": "code",
   "execution_count": null,
   "id": "67616b63-ad75-42b5-9f3a-818fcf891ed6",
   "metadata": {},
   "outputs": [],
   "source": []
  }
 ],
 "metadata": {
  "kernelspec": {
   "display_name": "Python 3",
   "language": "python",
   "name": "python3"
  },
  "language_info": {
   "codemirror_mode": {
    "name": "ipython",
    "version": 3
   },
   "file_extension": ".py",
   "mimetype": "text/x-python",
   "name": "python",
   "nbconvert_exporter": "python",
   "pygments_lexer": "ipython3",
   "version": "3.6.13"
  }
 },
 "nbformat": 4,
 "nbformat_minor": 5
}
