{
 "cells": [
  {
   "cell_type": "code",
   "execution_count": 1,
   "id": "a4859484-2daf-44e9-bd07-8ed379f25cb9",
   "metadata": {},
   "outputs": [
    {
     "name": "stdin",
     "output_type": "stream",
     "text": [
      " 4 4\n"
     ]
    }
   ],
   "source": [
    "N, K = map(int, input().split())"
   ]
  },
  {
   "cell_type": "code",
   "execution_count": 2,
   "id": "a3d4c111-de77-49e6-941e-94c7dd7196fc",
   "metadata": {},
   "outputs": [
    {
     "name": "stdin",
     "output_type": "stream",
     "text": [
      " 1 4\n",
      " 3 3\n",
      " 6 2\n",
      " 8 1\n"
     ]
    }
   ],
   "source": [
    "XYn = [list(map(int, input().split())) for _ in range(N)]"
   ]
  },
  {
   "cell_type": "code",
   "execution_count": 3,
   "id": "6dab9505-9e75-4167-895b-ec6403c59a39",
   "metadata": {},
   "outputs": [],
   "source": [
    "Xn, Yn = [], []\n",
    "for X, Y in XYn:\n",
    "    Xn.append(X)\n",
    "    Yn.append(Y)"
   ]
  },
  {
   "cell_type": "code",
   "execution_count": 8,
   "id": "7a95b24f-ffcc-4e44-8f7a-e4bf214ed65f",
   "metadata": {},
   "outputs": [],
   "source": [
    "def pointCnt(x1, x2, y1, y2):\n",
    "    ret = 0\n",
    "    if x1 == x2 or y1 == y2:\n",
    "        return ret\n",
    "    for X, Y in XYn:\n",
    "        if min(x1, x2) <= X <= max(x1, x2) and min(y1, y2) <= Y <= max(y1, y2):\n",
    "            ret += 1\n",
    "    return ret\n",
    "    "
   ]
  },
  {
   "cell_type": "code",
   "execution_count": null,
   "id": "a2f62eb8-21ba-4131-945f-9226b425cf77",
   "metadata": {},
   "outputs": [],
   "source": [
    "ans = 10**10**10\n",
    "for x1 in range(N-1):\n",
    "    for x2 in range(x1, N):\n",
    "        for y1 in range(N-1):\n",
    "            for y2 in range(y1, N):\n",
    "                if pointCnt(Xn[x1], Xn[x2], Yn[y1], Yn[y2])  >= K:\n",
    "                    ans = min(ans, abs((Xn[x1]-Xn[x2])*(Yn[y1]-Yn[y2])))"
   ]
  },
  {
   "cell_type": "code",
   "execution_count": 15,
   "id": "665afe1e-c8f1-457d-ab23-16738e1371d7",
   "metadata": {},
   "outputs": [
    {
     "name": "stdout",
     "output_type": "stream",
     "text": [
      "21\n"
     ]
    }
   ],
   "source": [
    "print(ans)"
   ]
  },
  {
   "cell_type": "code",
   "execution_count": null,
   "id": "389029a4-b317-4fb2-b2b8-88dfacf32690",
   "metadata": {},
   "outputs": [],
   "source": [
    "50**5"
   ]
  },
  {
   "cell_type": "code",
   "execution_count": null,
   "id": "323b6495-78c1-4a2f-9f1f-f3e7a067bf35",
   "metadata": {},
   "outputs": [],
   "source": []
  }
 ],
 "metadata": {
  "kernelspec": {
   "display_name": "Python 3",
   "language": "python",
   "name": "python3"
  },
  "language_info": {
   "codemirror_mode": {
    "name": "ipython",
    "version": 3
   },
   "file_extension": ".py",
   "mimetype": "text/x-python",
   "name": "python",
   "nbconvert_exporter": "python",
   "pygments_lexer": "ipython3",
   "version": "3.6.13"
  }
 },
 "nbformat": 4,
 "nbformat_minor": 5
}
