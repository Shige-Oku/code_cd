{
 "cells": [
  {
   "cell_type": "code",
   "execution_count": 2,
   "id": "03817c1b-cb1f-4e88-bca3-6c7f0b35973d",
   "metadata": {},
   "outputs": [
    {
     "name": "stdin",
     "output_type": "stream",
     "text": [
      " 3\n"
     ]
    }
   ],
   "source": [
    "N = int(input())"
   ]
  },
  {
   "cell_type": "code",
   "execution_count": 3,
   "id": "0773e719-76c0-45d1-8468-9a10e3e9c864",
   "metadata": {},
   "outputs": [
    {
     "name": "stdin",
     "output_type": "stream",
     "text": [
      " 123 86399\n",
      " 1 86400\n",
      " 86399 86400\n"
     ]
    }
   ],
   "source": [
    "LRn = [list(map(int, input().split())) for _  in range(N)]"
   ]
  },
  {
   "cell_type": "code",
   "execution_count": 38,
   "id": "2634ce80-22d5-4613-acde-d1225dc5c7f9",
   "metadata": {},
   "outputs": [],
   "source": [
    "LRn_s = sorted(LRn, key=lambda x : x[1])\n",
    "ans = 0\n",
    "s = -1\n",
    "for L, R in LRn_s:\n",
    "    if L < s:\n",
    "        continue\n",
    "    ans += 1\n",
    "    s = R"
   ]
  },
  {
   "cell_type": "code",
   "execution_count": 39,
   "id": "9f013800-34d0-44b5-b297-9aaaee0d1478",
   "metadata": {},
   "outputs": [
    {
     "name": "stdout",
     "output_type": "stream",
     "text": [
      "2\n"
     ]
    }
   ],
   "source": [
    "print(ans)"
   ]
  },
  {
   "cell_type": "code",
   "execution_count": 15,
   "id": "d0568f69-4ee2-4d32-bab9-175530e5cc6a",
   "metadata": {},
   "outputs": [
    {
     "data": {
      "text/plain": [
       "[[123, 86399], [1, 86400], [86399, 86400]]"
      ]
     },
     "execution_count": 15,
     "metadata": {},
     "output_type": "execute_result"
    }
   ],
   "source": [
    "LRn_s"
   ]
  },
  {
   "cell_type": "code",
   "execution_count": null,
   "id": "aed6dca4-110a-4bad-93e0-246e4c482525",
   "metadata": {},
   "outputs": [],
   "source": []
  }
 ],
 "metadata": {
  "kernelspec": {
   "display_name": "Python 3",
   "language": "python",
   "name": "python3"
  },
  "language_info": {
   "codemirror_mode": {
    "name": "ipython",
    "version": 3
   },
   "file_extension": ".py",
   "mimetype": "text/x-python",
   "name": "python",
   "nbconvert_exporter": "python",
   "pygments_lexer": "ipython3",
   "version": "3.6.13"
  }
 },
 "nbformat": 4,
 "nbformat_minor": 5
}
