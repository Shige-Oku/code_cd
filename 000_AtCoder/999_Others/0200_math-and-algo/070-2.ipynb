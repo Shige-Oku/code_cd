{
 "cells": [
  {
   "cell_type": "code",
   "execution_count": 1,
   "id": "74b8cdab-be4d-4770-a0e0-e4a8254d5364",
   "metadata": {},
   "outputs": [
    {
     "name": "stdin",
     "output_type": "stream",
     "text": [
      " 4 4\n"
     ]
    }
   ],
   "source": [
    "N, K = map(int, input().split())"
   ]
  },
  {
   "cell_type": "code",
   "execution_count": 2,
   "id": "df38fa90-bccc-4ca6-bd17-58e5e8287c5f",
   "metadata": {},
   "outputs": [
    {
     "name": "stdin",
     "output_type": "stream",
     "text": [
      " 1 4\n",
      " 3 3\n",
      " 6 2\n",
      " 8 1\n"
     ]
    }
   ],
   "source": [
    "XYn = [list(map(int, input().split())) for _ in range(N)]"
   ]
  },
  {
   "cell_type": "code",
   "execution_count": 18,
   "id": "e91458ad-0cf0-46a7-a865-e5ea555b8e14",
   "metadata": {},
   "outputs": [],
   "source": [
    "def pointCnt(x1, x2, y1, y2):\n",
    "    ret = 0\n",
    "    x1, x2 = min(x1, x2), max(x1, x2)\n",
    "    y1, y2 = min(y1, y2), max(y1, y2)\n",
    "    for X, Y in XYn:\n",
    "        if x1 <= X <= x2 and y1 <= Y <= y2:\n",
    "            ret += 1\n",
    "    return ret\n",
    "    "
   ]
  },
  {
   "cell_type": "code",
   "execution_count": 19,
   "id": "38ad9d96-6bd6-418f-8356-63a3f7a89895",
   "metadata": {},
   "outputs": [],
   "source": [
    "ans = 10**20\n",
    "for i in range(N-1):\n",
    "    for j in range(i+1, N):\n",
    "        x1, x2 = XYn[i][0], XYn[j][0]\n",
    "        if x1 == x2:\n",
    "            continue\n",
    "        for k in range(N-1):\n",
    "            for l in range(k+1, N):\n",
    "                y1, y2 = XYn[k][1], XYn[l][1]\n",
    "                if y1 == y2:\n",
    "                    continue\n",
    "                if abs((x1-x2)*(y1-y2)) >= ans:\n",
    "                    continue\n",
    "                if pointCnt(x1, x2, y1, y2)  >= K:\n",
    "                    ans = min(ans, abs((x1-x2)*(y1-y2)))"
   ]
  },
  {
   "cell_type": "code",
   "execution_count": 20,
   "id": "1053948b-7488-4be4-b6cd-67613b8fcd99",
   "metadata": {},
   "outputs": [
    {
     "name": "stdout",
     "output_type": "stream",
     "text": [
      "21\n"
     ]
    }
   ],
   "source": [
    "print(ans)"
   ]
  },
  {
   "cell_type": "code",
   "execution_count": 7,
   "id": "cb26c590-f5e7-4425-9b3a-caa8b922547e",
   "metadata": {},
   "outputs": [],
   "source": [
    "Xn, Yn = [], []\n",
    "for X, Y in XYn:\n",
    "    Xn.append(X)\n",
    "    Yn.append(Y)"
   ]
  },
  {
   "cell_type": "code",
   "execution_count": 13,
   "id": "aad3f605-6319-4c79-a245-4219320c46b0",
   "metadata": {},
   "outputs": [],
   "source": [
    "ans = 10**20\n",
    "for i in range(N-1):\n",
    "    for j in range(i+1, N):\n",
    "        for k in range(N-1):\n",
    "            for l in range(k+1, N):\n",
    "                x1, x2, y1, y2 = Xn[i], Xn[j], Yn[k], Yn[l]\n",
    "                if abs((x1-x2)*(y1-y2)) >= ans:\n",
    "                    continue\n",
    "                if pointCnt(x1, x2, y1, y2)  >= K:\n",
    "                    ans = min(ans, abs((x1-x2)*(y1-y2)))"
   ]
  },
  {
   "cell_type": "code",
   "execution_count": 3,
   "id": "a59f5cb8-af1a-434b-9f2f-21a3f54475ad",
   "metadata": {},
   "outputs": [
    {
     "data": {
      "text/plain": [
       "312500000"
      ]
     },
     "execution_count": 3,
     "metadata": {},
     "output_type": "execute_result"
    }
   ],
   "source": [
    "50**5"
   ]
  },
  {
   "cell_type": "code",
   "execution_count": 6,
   "id": "b08ca523-4c62-43e5-9dce-72750c65628a",
   "metadata": {},
   "outputs": [
    {
     "ename": "TypeError",
     "evalue": "'set' object does not support indexing",
     "output_type": "error",
     "traceback": [
      "\u001b[1;31m---------------------------------------------------------------------------\u001b[0m",
      "\u001b[1;31mTypeError\u001b[0m                                 Traceback (most recent call last)",
      "\u001b[1;32m<ipython-input-6-6c288c704603>\u001b[0m in \u001b[0;36m<module>\u001b[1;34m\u001b[0m\n\u001b[1;32m----> 1\u001b[1;33m \u001b[0mXn\u001b[0m\u001b[1;33m[\u001b[0m\u001b[1;36m1\u001b[0m\u001b[1;33m]\u001b[0m\u001b[1;33m\u001b[0m\u001b[1;33m\u001b[0m\u001b[0m\n\u001b[0m",
      "\u001b[1;31mTypeError\u001b[0m: 'set' object does not support indexing"
     ]
    }
   ],
   "source": [
    "Xn[1]"
   ]
  },
  {
   "cell_type": "code",
   "execution_count": null,
   "id": "817961ed-6a05-44ce-8bb4-08bb7093a682",
   "metadata": {},
   "outputs": [],
   "source": []
  }
 ],
 "metadata": {
  "kernelspec": {
   "display_name": "Python 3",
   "language": "python",
   "name": "python3"
  },
  "language_info": {
   "codemirror_mode": {
    "name": "ipython",
    "version": 3
   },
   "file_extension": ".py",
   "mimetype": "text/x-python",
   "name": "python",
   "nbconvert_exporter": "python",
   "pygments_lexer": "ipython3",
   "version": "3.6.13"
  }
 },
 "nbformat": 4,
 "nbformat_minor": 5
}
