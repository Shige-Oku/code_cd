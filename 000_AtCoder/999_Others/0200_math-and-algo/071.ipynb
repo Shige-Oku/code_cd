{
 "cells": [
  {
   "cell_type": "code",
   "execution_count": 1,
   "id": "275b32a9-507c-4d74-af31-7585a7e97074",
   "metadata": {},
   "outputs": [
    {
     "name": "stdin",
     "output_type": "stream",
     "text": [
      " 2\n"
     ]
    }
   ],
   "source": [
    "N = int(input())"
   ]
  },
  {
   "cell_type": "code",
   "execution_count": 2,
   "id": "09b28877-6c38-4f31-b472-3493ba6b6bb4",
   "metadata": {},
   "outputs": [
    {
     "name": "stdin",
     "output_type": "stream",
     "text": [
      " 1 3 3\n",
      " 3 1 3\n"
     ]
    }
   ],
   "source": [
    "ABCn = [list(map(int, input().split())) for _ in range(N)]"
   ]
  },
  {
   "cell_type": "code",
   "execution_count": 8,
   "id": "edc76b56-6f8a-460c-8fa6-c4a3d6c92727",
   "metadata": {},
   "outputs": [],
   "source": [
    "def isJudge(x, y):\n",
    "    for A, B, C in ABCn:\n",
    "        if A*x + B*y > C:\n",
    "            return False\n",
    "    return True"
   ]
  },
  {
   "cell_type": "code",
   "execution_count": 20,
   "id": "aa7486cf-2c6b-45f0-89d5-4856ced6da76",
   "metadata": {},
   "outputs": [],
   "source": [
    "ans = 0\n",
    "for i in range(N-1):\n",
    "    ai, bi, ci = ABCn[i][0], ABCn[i][1], ABCn[i][2]\n",
    "    for j in range(i+1, N):\n",
    "        aj, bj, cj = ABCn[j][0], ABCn[j][1], ABCn[j][2]\n",
    "        if ai / bi == aj / bj:\n",
    "            continue\n",
    "        if ai*bj - aj*bi == 0 or bi*aj - bj*ai == 0:\n",
    "            continue\n",
    "        x = (ci*bj - cj*bi) / (ai*bj - aj*bi)\n",
    "        y = (ci*aj - cj*ai) / (bi*aj - bj*ai)\n",
    "        if ans > x + y:\n",
    "            continue\n",
    "        if isJudge(x, y):\n",
    "            ans = x + y"
   ]
  },
  {
   "cell_type": "code",
   "execution_count": 19,
   "id": "180d5901-082c-4ab4-adf0-76f23e081e7f",
   "metadata": {},
   "outputs": [
    {
     "name": "stdout",
     "output_type": "stream",
     "text": [
      "1.5\n"
     ]
    }
   ],
   "source": [
    "print(ans)"
   ]
  },
  {
   "cell_type": "code",
   "execution_count": null,
   "id": "2c20c5dd-c858-42d5-b43a-c6e05d8782d3",
   "metadata": {},
   "outputs": [],
   "source": []
  }
 ],
 "metadata": {
  "kernelspec": {
   "display_name": "Python 3",
   "language": "python",
   "name": "python3"
  },
  "language_info": {
   "codemirror_mode": {
    "name": "ipython",
    "version": 3
   },
   "file_extension": ".py",
   "mimetype": "text/x-python",
   "name": "python",
   "nbconvert_exporter": "python",
   "pygments_lexer": "ipython3",
   "version": "3.6.13"
  }
 },
 "nbformat": 4,
 "nbformat_minor": 5
}
