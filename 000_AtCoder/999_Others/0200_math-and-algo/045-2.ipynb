{
 "cells": [
  {
   "cell_type": "code",
   "execution_count": 1,
   "id": "ccedd45a-2ab8-4138-88e5-c884a371dde4",
   "metadata": {},
   "outputs": [
    {
     "name": "stdin",
     "output_type": "stream",
     "text": [
      " 5 5\n"
     ]
    }
   ],
   "source": [
    "N, M = map(int, input().split())"
   ]
  },
  {
   "cell_type": "code",
   "execution_count": 2,
   "id": "40edce1a-95bc-4800-9e34-ba2b193475e3",
   "metadata": {},
   "outputs": [
    {
     "name": "stdin",
     "output_type": "stream",
     "text": [
      " 1 2\n",
      " 1 3\n",
      " 3 2\n",
      " 5 2\n",
      " 4 2\n"
     ]
    }
   ],
   "source": [
    "ABn = [list(map(int, input().split())) for _ in range(M)]"
   ]
  },
  {
   "cell_type": "code",
   "execution_count": 3,
   "id": "6e53d492-c711-452b-b1e7-1a64d723adfd",
   "metadata": {},
   "outputs": [],
   "source": [
    "cnt = [0] * (N+1)\n",
    "for A, B in ABn:\n",
    "    if A > B:\n",
    "        cnt[A] += 1\n",
    "    if B > A:\n",
    "        cnt[B] += 1"
   ]
  },
  {
   "cell_type": "code",
   "execution_count": 7,
   "id": "54f0f605-2bd6-4b82-b770-fba61ac78c13",
   "metadata": {},
   "outputs": [
    {
     "name": "stdout",
     "output_type": "stream",
     "text": [
      "3\n"
     ]
    }
   ],
   "source": [
    "c = collections.Counter(cnt)\n",
    "print(c[1])"
   ]
  },
  {
   "cell_type": "code",
   "execution_count": 5,
   "id": "7b6416ab-b51c-4a34-bbf5-46ec6f6defd9",
   "metadata": {},
   "outputs": [],
   "source": [
    "import collections"
   ]
  },
  {
   "cell_type": "code",
   "execution_count": null,
   "id": "878ac8e0-2a38-4da0-8f4c-74784f378f23",
   "metadata": {},
   "outputs": [],
   "source": []
  }
 ],
 "metadata": {
  "kernelspec": {
   "display_name": "Python 3",
   "language": "python",
   "name": "python3"
  },
  "language_info": {
   "codemirror_mode": {
    "name": "ipython",
    "version": 3
   },
   "file_extension": ".py",
   "mimetype": "text/x-python",
   "name": "python",
   "nbconvert_exporter": "python",
   "pygments_lexer": "ipython3",
   "version": "3.6.13"
  }
 },
 "nbformat": 4,
 "nbformat_minor": 5
}
