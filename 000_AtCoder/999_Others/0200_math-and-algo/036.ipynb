{
 "cells": [
  {
   "cell_type": "code",
   "execution_count": 5,
   "id": "69f9a9d3-35b5-4027-a39a-fd153e2508e4",
   "metadata": {},
   "outputs": [],
   "source": [
    "import math"
   ]
  },
  {
   "cell_type": "code",
   "execution_count": 11,
   "id": "bf4e728a-4c2d-4b4e-9276-967bdfc4dcbb",
   "metadata": {},
   "outputs": [
    {
     "name": "stdin",
     "output_type": "stream",
     "text": [
      " 3 4 10 40\n"
     ]
    }
   ],
   "source": [
    "A, B, H, M = map(int, input().split())"
   ]
  },
  {
   "cell_type": "code",
   "execution_count": 18,
   "id": "7d0fd162-bc04-4169-8fe7-745902b8f697",
   "metadata": {},
   "outputs": [],
   "source": [
    "h = (360 / 12) * H + (30 / 60) * M\n",
    "m = (360 / 60) * M"
   ]
  },
  {
   "cell_type": "code",
   "execution_count": 19,
   "id": "da13fd40-7fff-4772-8814-64a49cdce3dc",
   "metadata": {},
   "outputs": [],
   "source": [
    "hx, hy = A*math.cos(math.radians(h)), A*math.sin(math.radians(h))\n",
    "mx, my = B*math.cos(math.radians(m)), B*math.sin(math.radians(m))"
   ]
  },
  {
   "cell_type": "code",
   "execution_count": 20,
   "id": "6ecc0a26-35f5-41d3-816e-09696597cd6f",
   "metadata": {},
   "outputs": [
    {
     "name": "stdout",
     "output_type": "stream",
     "text": [
      "4.564257194330056\n"
     ]
    }
   ],
   "source": [
    "print(math.sqrt((hx-mx)**2 + (hy-my)**2))"
   ]
  },
  {
   "cell_type": "code",
   "execution_count": 10,
   "id": "e0f02ec1-ae71-4c69-ac65-47281425c3fc",
   "metadata": {},
   "outputs": [
    {
     "data": {
      "text/plain": [
       "(270, 0)"
      ]
     },
     "execution_count": 10,
     "metadata": {},
     "output_type": "execute_result"
    }
   ],
   "source": [
    "h, m"
   ]
  },
  {
   "cell_type": "code",
   "execution_count": null,
   "id": "574b0218-eedd-45dc-bd59-38770c72b971",
   "metadata": {},
   "outputs": [],
   "source": []
  }
 ],
 "metadata": {
  "kernelspec": {
   "display_name": "Python 3",
   "language": "python",
   "name": "python3"
  },
  "language_info": {
   "codemirror_mode": {
    "name": "ipython",
    "version": 3
   },
   "file_extension": ".py",
   "mimetype": "text/x-python",
   "name": "python",
   "nbconvert_exporter": "python",
   "pygments_lexer": "ipython3",
   "version": "3.6.13"
  }
 },
 "nbformat": 4,
 "nbformat_minor": 5
}
