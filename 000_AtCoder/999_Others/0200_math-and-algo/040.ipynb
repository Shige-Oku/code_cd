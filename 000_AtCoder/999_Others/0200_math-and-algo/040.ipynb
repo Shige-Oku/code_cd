{
 "cells": [
  {
   "cell_type": "code",
   "execution_count": 1,
   "id": "6bd72fa8-be35-45a3-b2a1-8cd65d9603b0",
   "metadata": {},
   "outputs": [
    {
     "name": "stdin",
     "output_type": "stream",
     "text": [
      " 4\n"
     ]
    }
   ],
   "source": [
    "N = int(input())"
   ]
  },
  {
   "cell_type": "code",
   "execution_count": 2,
   "id": "38934adf-17e3-443e-96f3-bc988e505c4e",
   "metadata": {},
   "outputs": [
    {
     "name": "stdin",
     "output_type": "stream",
     "text": [
      " 8 6 9\n"
     ]
    }
   ],
   "source": [
    "An = list(map(int, input().split()))"
   ]
  },
  {
   "cell_type": "code",
   "execution_count": 3,
   "id": "e9470cff-14f7-4b1f-a2c9-8a5693b32ea2",
   "metadata": {},
   "outputs": [
    {
     "name": "stdin",
     "output_type": "stream",
     "text": [
      " 6\n"
     ]
    }
   ],
   "source": [
    "M = int(input())"
   ]
  },
  {
   "cell_type": "code",
   "execution_count": 4,
   "id": "6f0bea0a-4ca6-4f0c-b185-e422a7902e6f",
   "metadata": {},
   "outputs": [
    {
     "name": "stdin",
     "output_type": "stream",
     "text": [
      " 2\n",
      " 1\n",
      " 3\n",
      " 2\n",
      " 3\n",
      " 4\n"
     ]
    }
   ],
   "source": [
    "Bn = [int(input()) for _ in range(M)]"
   ]
  },
  {
   "cell_type": "code",
   "execution_count": 6,
   "id": "4e8ba862-72e7-4daa-a78d-68e30fb7f1c2",
   "metadata": {},
   "outputs": [],
   "source": [
    "An_s = [0, ]\n",
    "for A in An:\n",
    "    An_s.append(An_s[-1]+A)"
   ]
  },
  {
   "cell_type": "code",
   "execution_count": 25,
   "id": "2435f1b5-f9c8-446f-9b60-53280152f11f",
   "metadata": {},
   "outputs": [],
   "source": [
    "ans = 0\n",
    "for i in range(M-1):\n",
    "    s1, s2 = Bn[i]-1, Bn[i+1]-1\n",
    "    ans += abs(An_s[s2] - An_s[s1])\n"
   ]
  },
  {
   "cell_type": "code",
   "execution_count": 26,
   "id": "63cb7e38-fe97-4f27-bf12-7b601abd6ae6",
   "metadata": {},
   "outputs": [
    {
     "name": "stdout",
     "output_type": "stream",
     "text": [
      "43\n"
     ]
    }
   ],
   "source": [
    "print(ans)"
   ]
  },
  {
   "cell_type": "code",
   "execution_count": 14,
   "id": "00b70c7f-747c-4bb5-b020-d0c692a8a914",
   "metadata": {},
   "outputs": [
    {
     "data": {
      "text/plain": [
       "(4, 3, 4)"
      ]
     },
     "execution_count": 14,
     "metadata": {},
     "output_type": "execute_result"
    }
   ],
   "source": [
    "i, L, R"
   ]
  },
  {
   "cell_type": "code",
   "execution_count": 15,
   "id": "9ecdefa6-8d42-431e-b740-d0ccd73d46fd",
   "metadata": {},
   "outputs": [
    {
     "data": {
      "text/plain": [
       "[0, 8, 14, 23]"
      ]
     },
     "execution_count": 15,
     "metadata": {},
     "output_type": "execute_result"
    }
   ],
   "source": [
    "An_s"
   ]
  },
  {
   "cell_type": "code",
   "execution_count": null,
   "id": "3de7987a-391a-44c5-b51a-e09693657fbd",
   "metadata": {},
   "outputs": [],
   "source": [
    "An_s"
   ]
  }
 ],
 "metadata": {
  "kernelspec": {
   "display_name": "Python 3",
   "language": "python",
   "name": "python3"
  },
  "language_info": {
   "codemirror_mode": {
    "name": "ipython",
    "version": 3
   },
   "file_extension": ".py",
   "mimetype": "text/x-python",
   "name": "python",
   "nbconvert_exporter": "python",
   "pygments_lexer": "ipython3",
   "version": "3.6.13"
  }
 },
 "nbformat": 4,
 "nbformat_minor": 5
}
