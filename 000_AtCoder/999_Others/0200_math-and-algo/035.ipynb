{
 "cells": [
  {
   "cell_type": "code",
   "execution_count": 26,
   "id": "15599bca-83aa-4a35-bfca-7c30ba49e008",
   "metadata": {},
   "outputs": [
    {
     "name": "stdin",
     "output_type": "stream",
     "text": [
      " 6 6 6\n"
     ]
    }
   ],
   "source": [
    "x1, y1, r1 = map(int, input().split())"
   ]
  },
  {
   "cell_type": "code",
   "execution_count": 27,
   "id": "381a8d46-89a1-4448-a4d9-c66e76afd8f6",
   "metadata": {},
   "outputs": [
    {
     "name": "stdin",
     "output_type": "stream",
     "text": [
      " 6 6 6\n"
     ]
    }
   ],
   "source": [
    "x2, y2, r2 = map(int, input().split())"
   ]
  },
  {
   "cell_type": "code",
   "execution_count": 31,
   "id": "1afb3ebe-f32f-43b1-bc4e-1c97a314a66d",
   "metadata": {},
   "outputs": [
    {
     "name": "stdout",
     "output_type": "stream",
     "text": [
      "2\n"
     ]
    }
   ],
   "source": [
    "d = (x1 - x2) ** 2 + (y1 - y2) ** 2\n",
    "r1r2 = (r1 + r2) ** 2\n",
    "r1r2_2 = (r1 - r2) ** 2\n",
    "if r1r2 < d:\n",
    "    print('5')\n",
    "elif r1r2 == d:\n",
    "    print('4')\n",
    "elif r1r2_2 < d:\n",
    "    print('3')\n",
    "elif r1r2_2 == d:\n",
    "    print('2')\n",
    "elif d == 0 & (r1 == r2):\n",
    "    print('2')\n",
    "else:\n",
    "    print('1')"
   ]
  },
  {
   "cell_type": "code",
   "execution_count": 29,
   "id": "76130d2e-a5ce-4c03-9e98-01b9c06edfc6",
   "metadata": {},
   "outputs": [
    {
     "data": {
      "text/plain": [
       "(0, 144)"
      ]
     },
     "execution_count": 29,
     "metadata": {},
     "output_type": "execute_result"
    }
   ],
   "source": [
    "d, r1r2"
   ]
  },
  {
   "cell_type": "code",
   "execution_count": null,
   "id": "3e71c35f-fbc4-4069-be98-387c0fc76fbc",
   "metadata": {},
   "outputs": [],
   "source": []
  }
 ],
 "metadata": {
  "kernelspec": {
   "display_name": "Python 3",
   "language": "python",
   "name": "python3"
  },
  "language_info": {
   "codemirror_mode": {
    "name": "ipython",
    "version": 3
   },
   "file_extension": ".py",
   "mimetype": "text/x-python",
   "name": "python",
   "nbconvert_exporter": "python",
   "pygments_lexer": "ipython3",
   "version": "3.6.13"
  }
 },
 "nbformat": 4,
 "nbformat_minor": 5
}
