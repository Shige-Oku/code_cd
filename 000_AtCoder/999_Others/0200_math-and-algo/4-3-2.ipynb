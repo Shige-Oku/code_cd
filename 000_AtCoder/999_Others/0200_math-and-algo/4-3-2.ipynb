{
 "cells": [
  {
   "cell_type": "code",
   "execution_count": 1,
   "id": "f5d0f85c-82ce-4ae8-a5ef-a8b94c78e927",
   "metadata": {},
   "outputs": [],
   "source": [
    "r = 2.0\n",
    "a = 2.0"
   ]
  },
  {
   "cell_type": "code",
   "execution_count": 4,
   "id": "941b27ec-9c08-4cfc-9695-71f027aa895d",
   "metadata": {},
   "outputs": [
    {
     "name": "stdout",
     "output_type": "stream",
     "text": [
      "Step:0, a:1.1707141517207236 ->  1.2668911519823158\n",
      "Step:1, a:1.2668911519823158 ->  1.259959327238045\n",
      "Step:2, a:1.259959327238045 ->  1.2599210510577201\n",
      "Step:3, a:1.2599210510577201 ->  1.2599210498948732\n",
      "Step:4, a:1.2599210498948732 ->  1.2599210498948732\n"
     ]
    }
   ],
   "source": [
    "for i in range(5):\n",
    "    zahyou_x = a\n",
    "    zahyou_y = a * a * a\n",
    "    \n",
    "    sessen_a = 3.0 * zahyou_x * zahyou_x\n",
    "    sessen_b = zahyou_y - sessen_a * zahyou_x\n",
    "    \n",
    "    next_a = (r - sessen_b) / sessen_a\n",
    "    print('Step:{0}, a:{1} ->  {2}'.format(i, a, next_a))\n",
    "    a = next_a"
   ]
  },
  {
   "cell_type": "code",
   "execution_count": null,
   "id": "daede4a4-4a3d-4218-856d-2f0f8f8004f0",
   "metadata": {},
   "outputs": [],
   "source": []
  },
  {
   "cell_type": "code",
   "execution_count": null,
   "id": "240a2ba5-f421-40cc-92bd-170079c93cef",
   "metadata": {},
   "outputs": [],
   "source": []
  }
 ],
 "metadata": {
  "kernelspec": {
   "display_name": "Python 3",
   "language": "python",
   "name": "python3"
  },
  "language_info": {
   "codemirror_mode": {
    "name": "ipython",
    "version": 3
   },
   "file_extension": ".py",
   "mimetype": "text/x-python",
   "name": "python",
   "nbconvert_exporter": "python",
   "pygments_lexer": "ipython3",
   "version": "3.6.13"
  }
 },
 "nbformat": 4,
 "nbformat_minor": 5
}
