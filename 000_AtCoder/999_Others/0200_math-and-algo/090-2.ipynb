{
 "cells": [
  {
   "cell_type": "code",
   "execution_count": 1,
   "id": "7d0ec2a4-f033-415a-b813-2cc431e24aa4",
   "metadata": {},
   "outputs": [],
   "source": [
    "import sys"
   ]
  },
  {
   "cell_type": "code",
   "execution_count": 2,
   "id": "a4fc2982-7853-4f3e-9ea5-14e9b8cc55e8",
   "metadata": {},
   "outputs": [],
   "source": [
    "sys.setrecursionlimit(10**7)"
   ]
  },
  {
   "cell_type": "code",
   "execution_count": 3,
   "id": "20474fd6-8ad6-4890-94eb-34fda0ddc6f8",
   "metadata": {},
   "outputs": [
    {
     "name": "stdin",
     "output_type": "stream",
     "text": [
      " 999 434\n"
     ]
    }
   ],
   "source": [
    "N, B = map(int, input().split())"
   ]
  },
  {
   "cell_type": "code",
   "execution_count": 11,
   "id": "7952396b-26e9-448a-8bff-486be89be2ed",
   "metadata": {},
   "outputs": [],
   "source": [
    "def setCand(n):\n",
    "    if n > 10**13:\n",
    "        return\n",
    "    if n == 0:\n",
    "        s = 1\n",
    "    else:\n",
    "        s = n % 10\n",
    "        Fn.add(getFn(n))\n",
    "    for i in range(s, 10):\n",
    "        v = n*10 + i\n",
    "        setCand(v)\n",
    "    return"
   ]
  },
  {
   "cell_type": "code",
   "execution_count": 32,
   "id": "c1872f77-3926-4b51-b31b-1913b26a8339",
   "metadata": {},
   "outputs": [],
   "source": [
    "def getFn(n):\n",
    "    if n == 0:\n",
    "        return 0\n",
    "    ret = 1\n",
    "    while True:\n",
    "        q, m = divmod(n, 10)\n",
    "        if m == 0:\n",
    "            break\n",
    "        ret *= m\n",
    "        n = q\n",
    "    return ret"
   ]
  },
  {
   "cell_type": "code",
   "execution_count": 43,
   "id": "7756ac95-4c20-4cd6-8c90-a44fe48906ca",
   "metadata": {},
   "outputs": [],
   "source": [
    "def getFn2(n):\n",
    "\tif n == 0:\n",
    "\t\treturn 0\n",
    "\tret = 1\n",
    "\twhile n >= 1:\n",
    "\t\tret *= (n % 10)\n",
    "\t\tn //= 10\n",
    "\treturn ret"
   ]
  },
  {
   "cell_type": "code",
   "execution_count": 44,
   "id": "a4995699-7c49-4e12-8026-2cdb830c7fa7",
   "metadata": {},
   "outputs": [],
   "source": [
    "Fn = set()\n",
    "setCand(0)"
   ]
  },
  {
   "cell_type": "code",
   "execution_count": 45,
   "id": "16716e6f-ed28-48b2-91b4-be8c26d84346",
   "metadata": {},
   "outputs": [],
   "source": [
    "ans = 0\n",
    "for f in Fn:\n",
    "    m = f + B\n",
    "    if m - getFn2(m) == B and m <= N:\n",
    "        ans += 1"
   ]
  },
  {
   "cell_type": "code",
   "execution_count": 46,
   "id": "cc7dce11-9eb1-4dbd-a519-5c34cbdcc14d",
   "metadata": {},
   "outputs": [
    {
     "name": "stdout",
     "output_type": "stream",
     "text": [
      "2\n"
     ]
    }
   ],
   "source": [
    "print(ans)"
   ]
  },
  {
   "cell_type": "code",
   "execution_count": 47,
   "id": "a94e4518-db42-455c-8a4c-0a59e576485d",
   "metadata": {},
   "outputs": [
    {
     "data": {
      "text/plain": [
       "11025"
      ]
     },
     "execution_count": 47,
     "metadata": {},
     "output_type": "execute_result"
    }
   ],
   "source": [
    "len(Fn)"
   ]
  },
  {
   "cell_type": "code",
   "execution_count": 18,
   "id": "77a389c6-e5e8-46e8-96c5-224853088868",
   "metadata": {},
   "outputs": [],
   "source": [
    "# 整数 m の各桁の積を返す関数\n",
    "def product(m):\n",
    "\tif m == 0:\n",
    "\t\treturn 0\n",
    "\tans = 1\n",
    "\twhile m >= 1:\n",
    "\t\tans *= (m % 10)\n",
    "\t\tm //= 10\n",
    "\treturn ans"
   ]
  },
  {
   "cell_type": "code",
   "execution_count": 23,
   "id": "0390df63-8cf1-4953-bcea-7fe764f6ad9e",
   "metadata": {},
   "outputs": [],
   "source": [
    "# 各桁の積の候補の集合を返す関数\n",
    "def func(digit, m):\n",
    "\tif digit == 11:\n",
    "\t\treturn {product(m)}\n",
    "\t\n",
    "\t# 次の桁を探索\n",
    "\t# min_value は cur の最後の桁（単調増加にするためには次の桁がそれ以上でなければならない）\n",
    "\tmin_value = m % 10\n",
    "\tret = set()\n",
    "\tfor i in range(min_value, 10):\n",
    "\t\tr = func(digit + 1, m * 10 + i)\n",
    "\t\tfor j in r:\n",
    "\t\t\tret.add(j)\n",
    "\treturn ret"
   ]
  },
  {
   "cell_type": "code",
   "execution_count": 27,
   "id": "94fe7e6a-b1f2-4f30-9333-bd6d370d869e",
   "metadata": {},
   "outputs": [
    {
     "name": "stdout",
     "output_type": "stream",
     "text": [
      "574\n",
      "777\n",
      "2\n"
     ]
    }
   ],
   "source": [
    "# 各桁の積の候補を列挙\n",
    "fm_cand = func(0, 0)\n",
    "\n",
    "# m - f(m) = B になるかどうかチェック\n",
    "Answer = 0\n",
    "for fm in fm_cand:\n",
    "\tm = fm + B # 各桁の積から導かれる m の値\n",
    "\tprod_m = product(m) # 本来の f(m) の値\n",
    "\tif m - prod_m == B and m <= N:\n",
    "\t\tprint(m)\n",
    "\t\tAnswer += 1\n",
    "\n",
    "# 出力\n",
    "print(Answer)"
   ]
  },
  {
   "cell_type": "code",
   "execution_count": 21,
   "id": "3c21805b-a24d-450b-aef9-ce42147594b1",
   "metadata": {},
   "outputs": [
    {
     "data": {
      "text/plain": [
       "6085"
      ]
     },
     "execution_count": 21,
     "metadata": {},
     "output_type": "execute_result"
    }
   ],
   "source": [
    "len(fm_cand)"
   ]
  },
  {
   "cell_type": "code",
   "execution_count": 4,
   "id": "8c38a683-4071-4d5d-9b25-87cf9b059aed",
   "metadata": {},
   "outputs": [
    {
     "data": {
      "text/plain": [
       "1"
      ]
     },
     "execution_count": 4,
     "metadata": {},
     "output_type": "execute_result"
    }
   ],
   "source": [
    "10**9+8 ^ 10**9+9"
   ]
  },
  {
   "cell_type": "code",
   "execution_count": null,
   "id": "f614e96f-598e-4c73-9309-dcf12c488266",
   "metadata": {},
   "outputs": [],
   "source": []
  }
 ],
 "metadata": {
  "kernelspec": {
   "display_name": "Python 3",
   "language": "python",
   "name": "python3"
  },
  "language_info": {
   "codemirror_mode": {
    "name": "ipython",
    "version": 3
   },
   "file_extension": ".py",
   "mimetype": "text/x-python",
   "name": "python",
   "nbconvert_exporter": "python",
   "pygments_lexer": "ipython3",
   "version": "3.6.13"
  }
 },
 "nbformat": 4,
 "nbformat_minor": 5
}
