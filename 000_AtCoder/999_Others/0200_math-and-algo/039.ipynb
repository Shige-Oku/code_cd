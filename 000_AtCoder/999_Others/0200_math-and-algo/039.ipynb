{
 "cells": [
  {
   "cell_type": "code",
   "execution_count": 1,
   "id": "bc1641fc-9aaa-42fb-8baf-9346e5669ebf",
   "metadata": {},
   "outputs": [
    {
     "name": "stdin",
     "output_type": "stream",
     "text": [
      " 5 3\n"
     ]
    }
   ],
   "source": [
    "N, Q = map(int, input().split())"
   ]
  },
  {
   "cell_type": "code",
   "execution_count": 3,
   "id": "1e874be9-291b-4cdc-977f-19a66af05685",
   "metadata": {},
   "outputs": [
    {
     "name": "stdin",
     "output_type": "stream",
     "text": [
      " 1 2 3\n",
      " 2 5 4\n",
      " 2 4 1\n"
     ]
    }
   ],
   "source": [
    "LRXn = [list(map(int, input().split())) for _ in range(Q)]"
   ]
  },
  {
   "cell_type": "code",
   "execution_count": 4,
   "id": "53f2a6c8-ade1-48fb-9ab4-5b3122ca05ee",
   "metadata": {},
   "outputs": [],
   "source": [
    "ans = [0] * (N+1)\n",
    "for L, R, X in LRXn:\n",
    "    ans[L-1] += X\n",
    "    ans[R] -= X"
   ]
  },
  {
   "cell_type": "code",
   "execution_count": 8,
   "id": "5eaaecca-3653-47fe-b990-c45abc5e4d90",
   "metadata": {},
   "outputs": [
    {
     "name": "stdout",
     "output_type": "stream",
     "text": [
      "<>=>"
     ]
    }
   ],
   "source": [
    "for i in range(1, N):\n",
    "    if ans[i] > 0:\n",
    "        print('<', end='')\n",
    "    elif ans[i] == 0:\n",
    "        print('=', end='')\n",
    "    else:\n",
    "        print('>', end='')\n",
    "        "
   ]
  },
  {
   "cell_type": "code",
   "execution_count": 7,
   "id": "25b2cac2-f04e-4692-a12c-e03b6c11f269",
   "metadata": {},
   "outputs": [
    {
     "data": {
      "text/plain": [
       "[3, 5, -3, 0, -1, -4]"
      ]
     },
     "execution_count": 7,
     "metadata": {},
     "output_type": "execute_result"
    }
   ],
   "source": [
    "ans"
   ]
  },
  {
   "cell_type": "code",
   "execution_count": null,
   "id": "cd4eb34c-d91f-4d0e-a8f3-06afde4f340a",
   "metadata": {},
   "outputs": [],
   "source": []
  }
 ],
 "metadata": {
  "kernelspec": {
   "display_name": "Python 3",
   "language": "python",
   "name": "python3"
  },
  "language_info": {
   "codemirror_mode": {
    "name": "ipython",
    "version": 3
   },
   "file_extension": ".py",
   "mimetype": "text/x-python",
   "name": "python",
   "nbconvert_exporter": "python",
   "pygments_lexer": "ipython3",
   "version": "3.6.13"
  }
 },
 "nbformat": 4,
 "nbformat_minor": 5
}
