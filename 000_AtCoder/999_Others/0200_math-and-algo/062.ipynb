{
 "cells": [
  {
   "cell_type": "code",
   "execution_count": 22,
   "id": "5225dc75-36e3-407c-90c4-08799f431155",
   "metadata": {},
   "outputs": [
    {
     "name": "stdin",
     "output_type": "stream",
     "text": [
      " 6 727202214173249351\n"
     ]
    }
   ],
   "source": [
    "N, K = map(int, input().split())"
   ]
  },
  {
   "cell_type": "code",
   "execution_count": 23,
   "id": "eac899a0-49ed-42e1-9c14-5680f0801a23",
   "metadata": {},
   "outputs": [
    {
     "name": "stdin",
     "output_type": "stream",
     "text": [
      " 6 5 2 5 3 2\n"
     ]
    }
   ],
   "source": [
    "An = list(map(int, input().split()))"
   ]
  },
  {
   "cell_type": "code",
   "execution_count": 40,
   "id": "85d9aece-a2e0-43e4-9519-0069e3f8f9ec",
   "metadata": {},
   "outputs": [],
   "source": [
    "root = {}\n",
    "i = 0\n",
    "ne = 1\n",
    "st = N+1\n",
    "while i < N:\n",
    "    if ne in root:\n",
    "        st = root[ne]\n",
    "        break\n",
    "    root[ne] = i\n",
    "    i += 1\n",
    "    ne = An[ne-1]\n",
    "    "
   ]
  },
  {
   "cell_type": "code",
   "execution_count": 41,
   "id": "13dae25f-5591-4899-b7ca-cd2dfa78c41c",
   "metadata": {},
   "outputs": [
    {
     "name": "stdout",
     "output_type": "stream",
     "text": [
      "2\n"
     ]
    }
   ],
   "source": [
    "if st >= K:\n",
    "    for k, v in root.items():\n",
    "        if v == K:\n",
    "            print(k)\n",
    "            break\n",
    "else:\n",
    "    pos = K - st\n",
    "    en = pos % (len(root)-st)\n",
    "    for k, v in root.items():\n",
    "        if v == en + st:\n",
    "            print(k)\n",
    "            break"
   ]
  },
  {
   "cell_type": "code",
   "execution_count": 37,
   "id": "0c730667-3d0d-4284-a9cd-414d08e70dd5",
   "metadata": {},
   "outputs": [
    {
     "data": {
      "text/plain": [
       "({1: 0, 6: 1, 2: 2, 5: 3, 3: 4}, 5, 2, 0, 727202214173249349)"
      ]
     },
     "execution_count": 37,
     "metadata": {},
     "output_type": "execute_result"
    }
   ],
   "source": [
    "root, i, st, en, pos"
   ]
  },
  {
   "cell_type": "code",
   "execution_count": 29,
   "id": "2bf71a6a-1ce2-4c91-be0f-d1da543b1051",
   "metadata": {},
   "outputs": [
    {
     "data": {
      "text/plain": [
       "3"
      ]
     },
     "execution_count": 29,
     "metadata": {},
     "output_type": "execute_result"
    }
   ],
   "source": [
    "len(root)-st"
   ]
  },
  {
   "cell_type": "code",
   "execution_count": null,
   "id": "231beeae-7ef7-4fd4-8d34-908a200b78f2",
   "metadata": {},
   "outputs": [],
   "source": []
  }
 ],
 "metadata": {
  "kernelspec": {
   "display_name": "Python 3",
   "language": "python",
   "name": "python3"
  },
  "language_info": {
   "codemirror_mode": {
    "name": "ipython",
    "version": 3
   },
   "file_extension": ".py",
   "mimetype": "text/x-python",
   "name": "python",
   "nbconvert_exporter": "python",
   "pygments_lexer": "ipython3",
   "version": "3.6.13"
  }
 },
 "nbformat": 4,
 "nbformat_minor": 5
}
