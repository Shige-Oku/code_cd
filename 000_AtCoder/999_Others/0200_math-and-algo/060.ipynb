{
 "cells": [
  {
   "cell_type": "code",
   "execution_count": 1,
   "id": "d6f2f477-7222-4fbf-9e90-95b2b24dafd3",
   "metadata": {},
   "outputs": [
    {
     "name": "stdin",
     "output_type": "stream",
     "text": [
      " 4\n"
     ]
    }
   ],
   "source": [
    "N = int(input())"
   ]
  },
  {
   "cell_type": "code",
   "execution_count": 3,
   "id": "49c9a427-8e6a-4caf-87c0-54359c365060",
   "metadata": {},
   "outputs": [
    {
     "name": "stdout",
     "output_type": "stream",
     "text": [
      "Second\n"
     ]
    }
   ],
   "source": [
    "if N % 4 == 0:\n",
    "    print(\"Second\")\n",
    "else:\n",
    "    print(\"First\")"
   ]
  },
  {
   "cell_type": "code",
   "execution_count": null,
   "id": "88c08e79-6940-4ec5-84fd-9fa947c6a248",
   "metadata": {},
   "outputs": [],
   "source": []
  }
 ],
 "metadata": {
  "kernelspec": {
   "display_name": "Python 3",
   "language": "python",
   "name": "python3"
  },
  "language_info": {
   "codemirror_mode": {
    "name": "ipython",
    "version": 3
   },
   "file_extension": ".py",
   "mimetype": "text/x-python",
   "name": "python",
   "nbconvert_exporter": "python",
   "pygments_lexer": "ipython3",
   "version": "3.6.13"
  }
 },
 "nbformat": 4,
 "nbformat_minor": 5
}
