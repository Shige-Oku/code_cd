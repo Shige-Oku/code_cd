{
 "cells": [
  {
   "cell_type": "code",
   "execution_count": 10,
   "id": "8d875bc5-5ece-4cc9-bae5-22203cfa954b",
   "metadata": {},
   "outputs": [
    {
     "name": "stdin",
     "output_type": "stream",
     "text": [
      " 827847039317\n"
     ]
    }
   ],
   "source": [
    "N = int(input())"
   ]
  },
  {
   "cell_type": "code",
   "execution_count": 11,
   "id": "02afbc2a-c141-4fb7-b950-9bf22ea53f71",
   "metadata": {},
   "outputs": [],
   "source": [
    "import math"
   ]
  },
  {
   "cell_type": "code",
   "execution_count": 12,
   "id": "4669f779-aa42-4b45-86e0-2315704ad02d",
   "metadata": {},
   "outputs": [],
   "source": [
    "cnt = int(math.sqrt(N))\n",
    "divisors = []\n",
    "for i in range(1, cnt+1):\n",
    "    if N % i == 0:\n",
    "        divisors.append(i)\n",
    "        if i * 2 != N:\n",
    "            divisors.append(N//i)"
   ]
  },
  {
   "cell_type": "code",
   "execution_count": 13,
   "id": "bcb415ec-6e72-4440-ad56-b6e44a35e8d9",
   "metadata": {},
   "outputs": [
    {
     "name": "stdout",
     "output_type": "stream",
     "text": [
      "1\n",
      "909859\n",
      "909863\n",
      "827847039317\n"
     ]
    }
   ],
   "source": [
    "for divisor in sorted(divisors):\n",
    "    print(divisor)"
   ]
  },
  {
   "cell_type": "code",
   "execution_count": 14,
   "id": "a62be2ef-156a-4d4f-8333-a30f48a353d7",
   "metadata": {},
   "outputs": [
    {
     "name": "stdout",
     "output_type": "stream",
     "text": [
      "1\n",
      "827847039317\n",
      "909859\n",
      "909863\n"
     ]
    }
   ],
   "source": [
    "print(*divisors, sep='\\n')"
   ]
  },
  {
   "cell_type": "code",
   "execution_count": null,
   "id": "b499c2d7-aed6-4ef7-826f-01b8ff3a3a9a",
   "metadata": {},
   "outputs": [],
   "source": []
  }
 ],
 "metadata": {
  "kernelspec": {
   "display_name": "Python 3",
   "language": "python",
   "name": "python3"
  },
  "language_info": {
   "codemirror_mode": {
    "name": "ipython",
    "version": 3
   },
   "file_extension": ".py",
   "mimetype": "text/x-python",
   "name": "python",
   "nbconvert_exporter": "python",
   "pygments_lexer": "ipython3",
   "version": "3.6.13"
  }
 },
 "nbformat": 4,
 "nbformat_minor": 5
}
