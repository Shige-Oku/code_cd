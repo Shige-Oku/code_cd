{
 "cells": [
  {
   "cell_type": "code",
   "execution_count": 1,
   "id": "20cf8ea9-4f2d-4de2-92ee-12082d4ecceb",
   "metadata": {},
   "outputs": [],
   "source": [
    "import math"
   ]
  },
  {
   "cell_type": "code",
   "execution_count": 15,
   "id": "92d90147-4a07-46cb-aee9-80f65a70991a",
   "metadata": {},
   "outputs": [
    {
     "name": "stdin",
     "output_type": "stream",
     "text": [
      " 101 139\n"
     ]
    }
   ],
   "source": [
    "A, B = map(int, input().split())"
   ]
  },
  {
   "cell_type": "code",
   "execution_count": 16,
   "id": "2ba1656d-86e2-4eaf-bf7f-d7bbab765d9d",
   "metadata": {},
   "outputs": [],
   "source": [
    "ans = 1\n",
    "for g in range(2, B+1):\n",
    "    if math.ceil(A / g) < math.floor(B / g):\n",
    "        ans = max(ans, g)"
   ]
  },
  {
   "cell_type": "code",
   "execution_count": 17,
   "id": "20a4161d-3e82-4f7a-9d9a-88ead3df99f7",
   "metadata": {},
   "outputs": [
    {
     "name": "stdout",
     "output_type": "stream",
     "text": [
      "34\n"
     ]
    }
   ],
   "source": [
    "print(ans)"
   ]
  },
  {
   "cell_type": "code",
   "execution_count": null,
   "id": "92c88075-1ff6-459d-bef5-c19b26c880f1",
   "metadata": {},
   "outputs": [],
   "source": []
  }
 ],
 "metadata": {
  "kernelspec": {
   "display_name": "Python 3",
   "language": "python",
   "name": "python3"
  },
  "language_info": {
   "codemirror_mode": {
    "name": "ipython",
    "version": 3
   },
   "file_extension": ".py",
   "mimetype": "text/x-python",
   "name": "python",
   "nbconvert_exporter": "python",
   "pygments_lexer": "ipython3",
   "version": "3.6.13"
  }
 },
 "nbformat": 4,
 "nbformat_minor": 5
}
