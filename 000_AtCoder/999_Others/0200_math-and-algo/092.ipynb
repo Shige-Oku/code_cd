{
 "cells": [
  {
   "cell_type": "code",
   "execution_count": 1,
   "id": "27358529-77bc-493d-b8bb-c7851600b4bf",
   "metadata": {},
   "outputs": [],
   "source": [
    "import math"
   ]
  },
  {
   "cell_type": "code",
   "execution_count": 22,
   "id": "a7019876-dae7-443a-bc2f-e62efd185b17",
   "metadata": {},
   "outputs": [
    {
     "name": "stdin",
     "output_type": "stream",
     "text": [
      " 2147483647\n"
     ]
    }
   ],
   "source": [
    "N = int(input())"
   ]
  },
  {
   "cell_type": "code",
   "execution_count": 23,
   "id": "b8c40959-2cb8-46ea-9eac-68865a0b810e",
   "metadata": {},
   "outputs": [],
   "source": [
    "ans = 10**20\n",
    "for h in range(1, math.ceil(math.sqrt(N))+2):\n",
    "    if N % h == 0:\n",
    "        ans = min(ans, h * 2 + (N // h) * 2)"
   ]
  },
  {
   "cell_type": "code",
   "execution_count": 24,
   "id": "36acb170-71d4-4e1d-8074-af742a853c5b",
   "metadata": {},
   "outputs": [
    {
     "name": "stdout",
     "output_type": "stream",
     "text": [
      "4294967296\n"
     ]
    }
   ],
   "source": [
    "print(ans)"
   ]
  },
  {
   "cell_type": "code",
   "execution_count": null,
   "id": "161f154e-7ef2-4183-b8a0-f7cfca67459f",
   "metadata": {},
   "outputs": [],
   "source": []
  }
 ],
 "metadata": {
  "kernelspec": {
   "display_name": "Python 3",
   "language": "python",
   "name": "python3"
  },
  "language_info": {
   "codemirror_mode": {
    "name": "ipython",
    "version": 3
   },
   "file_extension": ".py",
   "mimetype": "text/x-python",
   "name": "python",
   "nbconvert_exporter": "python",
   "pygments_lexer": "ipython3",
   "version": "3.6.13"
  }
 },
 "nbformat": 4,
 "nbformat_minor": 5
}
