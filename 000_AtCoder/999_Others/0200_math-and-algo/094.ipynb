{
 "cells": [
  {
   "cell_type": "code",
   "execution_count": 32,
   "id": "2f317a87-4a44-407b-b725-bf949d150519",
   "metadata": {},
   "outputs": [
    {
     "name": "stdin",
     "output_type": "stream",
     "text": [
      " 6\n"
     ]
    }
   ],
   "source": [
    "N = int(input())"
   ]
  },
  {
   "cell_type": "code",
   "execution_count": 33,
   "id": "d80788ae-b0a4-4fa6-8757-3fc95e4376d8",
   "metadata": {},
   "outputs": [
    {
     "name": "stdin",
     "output_type": "stream",
     "text": [
      " 0 153 10 10 23\n"
     ]
    }
   ],
   "source": [
    "Bn = list(map(int, input().split()))"
   ]
  },
  {
   "cell_type": "code",
   "execution_count": 34,
   "id": "a0107030-3ec1-42a0-8d75-4cf082249b0f",
   "metadata": {},
   "outputs": [],
   "source": [
    "ans = 0\n",
    "Bn2 = [Bn[0]] + Bn + [Bn[-1]]\n",
    "for i, B in enumerate(Bn2[:-1], 1):\n",
    "    ans += min(Bn2[i-1], Bn2[i])"
   ]
  },
  {
   "cell_type": "code",
   "execution_count": 35,
   "id": "7de0abe0-31f4-47ca-854c-35e2fc7a13da",
   "metadata": {},
   "outputs": [
    {
     "name": "stdout",
     "output_type": "stream",
     "text": [
      "53\n"
     ]
    }
   ],
   "source": [
    "print(ans)"
   ]
  },
  {
   "cell_type": "code",
   "execution_count": null,
   "id": "6c1d6401-85e4-4667-87a8-8a2a8fd7db8b",
   "metadata": {},
   "outputs": [],
   "source": []
  }
 ],
 "metadata": {
  "kernelspec": {
   "display_name": "Python 3",
   "language": "python",
   "name": "python3"
  },
  "language_info": {
   "codemirror_mode": {
    "name": "ipython",
    "version": 3
   },
   "file_extension": ".py",
   "mimetype": "text/x-python",
   "name": "python",
   "nbconvert_exporter": "python",
   "pygments_lexer": "ipython3",
   "version": "3.6.13"
  }
 },
 "nbformat": 4,
 "nbformat_minor": 5
}
