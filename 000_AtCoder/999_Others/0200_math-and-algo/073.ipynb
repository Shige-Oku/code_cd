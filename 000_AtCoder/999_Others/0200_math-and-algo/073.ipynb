{
 "cells": [
  {
   "cell_type": "code",
   "execution_count": 1,
   "id": "b18b6024-935b-402b-90f3-820ff23a47ed",
   "metadata": {},
   "outputs": [
    {
     "name": "stdin",
     "output_type": "stream",
     "text": [
      " 2\n"
     ]
    }
   ],
   "source": [
    "N = int(input())"
   ]
  },
  {
   "cell_type": "code",
   "execution_count": 2,
   "id": "3daa4827-f023-42a5-909c-f2a0a27cc3b4",
   "metadata": {},
   "outputs": [
    {
     "name": "stdin",
     "output_type": "stream",
     "text": [
      " 3 5\n"
     ]
    }
   ],
   "source": [
    "An = list(map(int, input().split()))"
   ]
  },
  {
   "cell_type": "code",
   "execution_count": 15,
   "id": "03d727e1-b185-49b8-9528-7ca0911e9e1b",
   "metadata": {},
   "outputs": [],
   "source": [
    "n2 =[0 for _ in range(N)]\n",
    "n2[0] = 1\n",
    "for i in range(1, N):\n",
    "    n2[i] = n2[i-1] * 2\n",
    "    n2[i] % 1000000007\n",
    "ans = 0\n",
    "for i, A in enumerate(An):\n",
    "    ans += A * n2[i]\n",
    "    ans %= 1000000007"
   ]
  },
  {
   "cell_type": "code",
   "execution_count": 12,
   "id": "7a5ff894-ff20-4830-9860-5876ca6993c0",
   "metadata": {},
   "outputs": [
    {
     "name": "stdout",
     "output_type": "stream",
     "text": [
      "13\n"
     ]
    }
   ],
   "source": [
    "print(ans)"
   ]
  },
  {
   "cell_type": "code",
   "execution_count": null,
   "id": "90307608-1a70-4c03-b739-443bc7598dd8",
   "metadata": {},
   "outputs": [],
   "source": []
  }
 ],
 "metadata": {
  "kernelspec": {
   "display_name": "Python 3",
   "language": "python",
   "name": "python3"
  },
  "language_info": {
   "codemirror_mode": {
    "name": "ipython",
    "version": 3
   },
   "file_extension": ".py",
   "mimetype": "text/x-python",
   "name": "python",
   "nbconvert_exporter": "python",
   "pygments_lexer": "ipython3",
   "version": "3.6.13"
  }
 },
 "nbformat": 4,
 "nbformat_minor": 5
}
