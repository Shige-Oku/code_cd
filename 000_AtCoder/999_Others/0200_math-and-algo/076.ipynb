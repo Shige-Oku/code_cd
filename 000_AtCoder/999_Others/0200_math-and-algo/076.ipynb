{
 "cells": [
  {
   "cell_type": "code",
   "execution_count": 16,
   "id": "75e2f240-9195-42e9-af51-c7df69f8d4f7",
   "metadata": {},
   "outputs": [
    {
     "name": "stdin",
     "output_type": "stream",
     "text": [
      " 5\n"
     ]
    }
   ],
   "source": [
    "N = int(input())"
   ]
  },
  {
   "cell_type": "code",
   "execution_count": 17,
   "id": "5d23630d-809c-401a-9088-dd02a51092e4",
   "metadata": {},
   "outputs": [
    {
     "name": "stdin",
     "output_type": "stream",
     "text": [
      " 31 41 59 26 53\n"
     ]
    }
   ],
   "source": [
    "An = list(map(int, input().split()))"
   ]
  },
  {
   "cell_type": "code",
   "execution_count": 23,
   "id": "270e3ac3-faea-49ee-900f-37847b545fee",
   "metadata": {},
   "outputs": [],
   "source": [
    "An_s = sorted(An)\n",
    "ans = 0\n",
    "A1 = -N + 1\n",
    "for i, A in enumerate(An_s, 1):\n",
    "    ans += A * (A1 + 2 * (i-1))"
   ]
  },
  {
   "cell_type": "code",
   "execution_count": 24,
   "id": "1b0b9a64-e2ec-4dd2-8515-a559354ffdb7",
   "metadata": {},
   "outputs": [
    {
     "name": "stdout",
     "output_type": "stream",
     "text": [
      "176\n"
     ]
    }
   ],
   "source": [
    "print(ans)"
   ]
  },
  {
   "cell_type": "code",
   "execution_count": 11,
   "id": "1a97373c-4012-461f-9b91-86ea1804eea2",
   "metadata": {},
   "outputs": [
    {
     "data": {
      "text/plain": [
       "[1, 2, 5]"
      ]
     },
     "execution_count": 11,
     "metadata": {},
     "output_type": "execute_result"
    }
   ],
   "source": [
    "An_s"
   ]
  },
  {
   "cell_type": "code",
   "execution_count": null,
   "id": "86dd701c-8255-410a-b95b-639284071991",
   "metadata": {},
   "outputs": [],
   "source": []
  }
 ],
 "metadata": {
  "kernelspec": {
   "display_name": "Python 3",
   "language": "python",
   "name": "python3"
  },
  "language_info": {
   "codemirror_mode": {
    "name": "ipython",
    "version": 3
   },
   "file_extension": ".py",
   "mimetype": "text/x-python",
   "name": "python",
   "nbconvert_exporter": "python",
   "pygments_lexer": "ipython3",
   "version": "3.6.13"
  }
 },
 "nbformat": 4,
 "nbformat_minor": 5
}
