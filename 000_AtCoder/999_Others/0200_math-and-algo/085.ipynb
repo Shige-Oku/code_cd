{
 "cells": [
  {
   "cell_type": "code",
   "execution_count": 1,
   "id": "3c84d792-3eb5-4692-8245-7e5f1aa389d7",
   "metadata": {},
   "outputs": [
    {
     "name": "stdin",
     "output_type": "stream",
     "text": [
      " 6 11 30\n"
     ]
    }
   ],
   "source": [
    "N, X, Y = map(int, input().split())"
   ]
  },
  {
   "cell_type": "code",
   "execution_count": 4,
   "id": "bbf308ea-6896-4c57-8108-0c73c578097d",
   "metadata": {},
   "outputs": [],
   "source": [
    "flg = False\n",
    "for i in range(1, N+1):\n",
    "    for j in range(i, N+1):\n",
    "        for k in range(j, N+1):\n",
    "            for l in range(k, N+1):\n",
    "                if i + j + k + l != X:\n",
    "                    continue\n",
    "                if i * j * k * l != Y:\n",
    "                    continue\n",
    "                flg = True"
   ]
  },
  {
   "cell_type": "code",
   "execution_count": 5,
   "id": "55a9bc8f-a681-4639-b6cc-495d1314db7a",
   "metadata": {},
   "outputs": [
    {
     "name": "stdout",
     "output_type": "stream",
     "text": [
      "Yes\n"
     ]
    }
   ],
   "source": [
    "if flg:\n",
    "    print(\"Yes\")\n",
    "else:\n",
    "    print(\"No\")"
   ]
  },
  {
   "cell_type": "code",
   "execution_count": null,
   "id": "72ed3a48-d643-4834-b153-ee49675ece74",
   "metadata": {},
   "outputs": [],
   "source": []
  }
 ],
 "metadata": {
  "kernelspec": {
   "display_name": "Python 3",
   "language": "python",
   "name": "python3"
  },
  "language_info": {
   "codemirror_mode": {
    "name": "ipython",
    "version": 3
   },
   "file_extension": ".py",
   "mimetype": "text/x-python",
   "name": "python",
   "nbconvert_exporter": "python",
   "pygments_lexer": "ipython3",
   "version": "3.6.13"
  }
 },
 "nbformat": 4,
 "nbformat_minor": 5
}
