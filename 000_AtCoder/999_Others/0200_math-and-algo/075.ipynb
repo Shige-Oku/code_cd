{
 "cells": [
  {
   "cell_type": "code",
   "execution_count": 3,
   "id": "2aeec32a-9281-41fc-bc67-8ad71debcf4b",
   "metadata": {},
   "outputs": [],
   "source": [
    "import math"
   ]
  },
  {
   "cell_type": "code",
   "execution_count": 1,
   "id": "3a55760a-ad93-46e2-962d-7bda2118fcca",
   "metadata": {},
   "outputs": [
    {
     "name": "stdin",
     "output_type": "stream",
     "text": [
      " 5\n"
     ]
    }
   ],
   "source": [
    "N = int(input())"
   ]
  },
  {
   "cell_type": "code",
   "execution_count": 2,
   "id": "cfaf0c78-aa8d-4e9f-8c19-1df5f505ba6b",
   "metadata": {},
   "outputs": [
    {
     "name": "stdin",
     "output_type": "stream",
     "text": [
      " 20 22 25 43 50\n"
     ]
    }
   ],
   "source": [
    "An = list(map(int, input().split()))"
   ]
  },
  {
   "cell_type": "code",
   "execution_count": 20,
   "id": "17258d52-b193-4d4a-b9a1-df1be17e2cc7",
   "metadata": {},
   "outputs": [],
   "source": [
    "mod = 10**9 + 7\n",
    "fac = [1] * (N + 1)\n",
    "inv = [1] * (N + 1)\n",
    "for i in range(1, N + 1):\n",
    "    fac[i] = fac[i-1] * i % mod"
   ]
  },
  {
   "cell_type": "code",
   "execution_count": 21,
   "id": "c8b9f0bd-a631-4244-a3ca-50763930f9d4",
   "metadata": {},
   "outputs": [],
   "source": [
    "inv[N] = pow(fac[N], mod-2, mod)\n",
    "for i in range(N-1, -1, -1):\n",
    "    inv[i] = inv[i+1] * (i+1) % mod"
   ]
  },
  {
   "cell_type": "code",
   "execution_count": 22,
   "id": "22d3686a-b4c0-47a6-8f31-8a7df502e91c",
   "metadata": {},
   "outputs": [],
   "source": [
    "def aCb(n, k):\n",
    "    if  n < k:\n",
    "        return 0\n",
    "    if n < 0 or k < 0:\n",
    "        return 0\n",
    "    return fac[n] * (inv[k] * inv[n-k] % mod) % mod"
   ]
  },
  {
   "cell_type": "code",
   "execution_count": 25,
   "id": "0687e1bf-e5ac-45be-8072-d22e07ee358d",
   "metadata": {},
   "outputs": [],
   "source": [
    "ans = 0\n",
    "for i, A in enumerate(An):\n",
    "    ans += A * aCb(N-1, i)\n",
    "    ans %= mod"
   ]
  },
  {
   "cell_type": "code",
   "execution_count": 26,
   "id": "d7e949f3-95e8-4036-bf68-a69e68ce987f",
   "metadata": {},
   "outputs": [
    {
     "name": "stdout",
     "output_type": "stream",
     "text": [
      "480\n"
     ]
    }
   ],
   "source": [
    "print(ans)"
   ]
  },
  {
   "cell_type": "code",
   "execution_count": null,
   "id": "fcba2939-f9bc-4640-9eed-0a3297c2c9a1",
   "metadata": {},
   "outputs": [],
   "source": [
    "# TLE"
   ]
  },
  {
   "cell_type": "code",
   "execution_count": 4,
   "id": "2232780f-6905-4c61-85f7-4d40bf036808",
   "metadata": {},
   "outputs": [],
   "source": [
    "# 組合せの数を算出\n",
    "def aCb(n, r):\n",
    "    return math.factorial(n) // (math.factorial(n-r) * math.factorial(r))"
   ]
  },
  {
   "cell_type": "code",
   "execution_count": null,
   "id": "30ec9a73-a280-4acd-9761-d8f61fe159e7",
   "metadata": {},
   "outputs": [],
   "source": []
  },
  {
   "cell_type": "code",
   "execution_count": 11,
   "id": "fca57b59-dfac-487c-ad67-e37e582aa293",
   "metadata": {},
   "outputs": [],
   "source": [
    "# コンビネーション、二項係数"
   ]
  },
  {
   "cell_type": "code",
   "execution_count": 12,
   "id": "2be51a43-f385-49e5-98bf-7d81de85c0ba",
   "metadata": {},
   "outputs": [],
   "source": [
    "def modinv(x, mod):\n",
    "    return pow(x, mod-2, mod)"
   ]
  },
  {
   "cell_type": "code",
   "execution_count": 13,
   "id": "0af58e4f-64c0-4388-896f-22de0182fc57",
   "metadata": {},
   "outputs": [],
   "source": [
    "def binomial_coefficients(n, k, mod):\n",
    "    ret = 1\n",
    "    for i in range(k):\n",
    "        ret *= n-i\n",
    "        ret *= modinv_table[i + 1]\n",
    "        ret %= mod\n",
    "    return ret"
   ]
  },
  {
   "cell_type": "code",
   "execution_count": 14,
   "id": "8a82fba8-99e6-415f-a1f6-7f94227f6411",
   "metadata": {},
   "outputs": [],
   "source": [
    "mod = 10**9+7\n",
    "X = N\n",
    "modinv_table = [-1] * (X+1)\n",
    "for i in range(1, X+1):\n",
    "    modinv_table[i] = modinv(i, mod)"
   ]
  },
  {
   "cell_type": "code",
   "execution_count": 15,
   "id": "ae9965ca-1a28-4c11-a961-b4abc01ea74e",
   "metadata": {},
   "outputs": [],
   "source": [
    "def aCb(n, a):\n",
    "    return factorial_table[n] // (factorial_table[n-a]*factorial_table[a])"
   ]
  },
  {
   "cell_type": "code",
   "execution_count": 17,
   "id": "5ee120cf-6101-4553-b644-450f62ff6b7a",
   "metadata": {},
   "outputs": [],
   "source": [
    "factorial_table = [1] * (N+1)\n",
    "for i in range(1, len(factorial_table)):\n",
    "    factorial_table[i] = factorial_table[i-1] * i"
   ]
  }
 ],
 "metadata": {
  "kernelspec": {
   "display_name": "Python 3",
   "language": "python",
   "name": "python3"
  },
  "language_info": {
   "codemirror_mode": {
    "name": "ipython",
    "version": 3
   },
   "file_extension": ".py",
   "mimetype": "text/x-python",
   "name": "python",
   "nbconvert_exporter": "python",
   "pygments_lexer": "ipython3",
   "version": "3.6.13"
  }
 },
 "nbformat": 4,
 "nbformat_minor": 5
}
