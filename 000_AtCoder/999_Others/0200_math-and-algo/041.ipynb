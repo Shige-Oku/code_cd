{
 "cells": [
  {
   "cell_type": "code",
   "execution_count": 1,
   "id": "067cdd26-0161-47e3-8deb-12df8de19d4e",
   "metadata": {},
   "outputs": [
    {
     "name": "stdin",
     "output_type": "stream",
     "text": [
      " 10\n"
     ]
    }
   ],
   "source": [
    "T = int(input())"
   ]
  },
  {
   "cell_type": "code",
   "execution_count": 2,
   "id": "8016fdad-8407-41f8-b87d-78a7b0042938",
   "metadata": {},
   "outputs": [
    {
     "name": "stdin",
     "output_type": "stream",
     "text": [
      " 7\n"
     ]
    }
   ],
   "source": [
    "N = int(input())"
   ]
  },
  {
   "cell_type": "code",
   "execution_count": 4,
   "id": "96cc04bd-ee87-4fe3-898e-099df81aa8f2",
   "metadata": {},
   "outputs": [
    {
     "name": "stdin",
     "output_type": "stream",
     "text": [
      " 0 3\n",
      " 2 4\n",
      " 1 3\n",
      " 0 3\n",
      " 5 6\n",
      " 5 6\n",
      " 5 6\n"
     ]
    }
   ],
   "source": [
    "LRn = [list(map(int, input().split())) for _ in range(N)]"
   ]
  },
  {
   "cell_type": "code",
   "execution_count": 17,
   "id": "b2e70df7-9172-4130-bcd7-7f3edee38c13",
   "metadata": {},
   "outputs": [],
   "source": [
    "tn = [0] * (T+1)\n",
    "for L, R in LRn:\n",
    "    tn[L] += 1\n",
    "    tn[R] -= 1"
   ]
  },
  {
   "cell_type": "code",
   "execution_count": 24,
   "id": "7e7a52dd-4a94-4cd7-8101-fac232bca928",
   "metadata": {},
   "outputs": [],
   "source": [
    "ans = [0] * (T+1)\n",
    "ans[0] = tn[0]\n",
    "for i, t in enumerate(tn[1:], 1):\n",
    "    ans[i] = ans[i-1] + t"
   ]
  },
  {
   "cell_type": "code",
   "execution_count": 25,
   "id": "9e319ab8-063c-4e1e-943f-a4bb8e0b4ec4",
   "metadata": {},
   "outputs": [
    {
     "name": "stdout",
     "output_type": "stream",
     "text": [
      "2\n",
      "3\n",
      "4\n",
      "1\n",
      "0\n",
      "3\n",
      "0\n",
      "0\n",
      "0\n",
      "0\n"
     ]
    }
   ],
   "source": [
    "print(*ans[:-1], sep='\\n')"
   ]
  },
  {
   "cell_type": "code",
   "execution_count": 8,
   "id": "6f33cec5-2f63-4ffa-9774-f24764801540",
   "metadata": {},
   "outputs": [
    {
     "data": {
      "text/plain": [
       "11"
      ]
     },
     "execution_count": 8,
     "metadata": {},
     "output_type": "execute_result"
    }
   ],
   "source": [
    "i"
   ]
  },
  {
   "cell_type": "code",
   "execution_count": 20,
   "id": "adb9f9dc-9159-4062-8c9d-c23defa850a4",
   "metadata": {},
   "outputs": [
    {
     "data": {
      "text/plain": [
       "[2, 1, 1, -3, -1, 3, -3, 0, 0, 0, 0]"
      ]
     },
     "execution_count": 20,
     "metadata": {},
     "output_type": "execute_result"
    }
   ],
   "source": [
    "tn"
   ]
  },
  {
   "cell_type": "code",
   "execution_count": 21,
   "id": "d811da23-f01a-49e5-a00b-a58a7bf9abb7",
   "metadata": {},
   "outputs": [
    {
     "data": {
      "text/plain": [
       "[2, 3, 4, 1, 0, 3, 0, 0, 0, 0, 0]"
      ]
     },
     "execution_count": 21,
     "metadata": {},
     "output_type": "execute_result"
    }
   ],
   "source": [
    "ans"
   ]
  },
  {
   "cell_type": "code",
   "execution_count": null,
   "id": "bb371a74-6ca3-442b-96cd-9b57fba151be",
   "metadata": {},
   "outputs": [],
   "source": []
  }
 ],
 "metadata": {
  "kernelspec": {
   "display_name": "Python 3",
   "language": "python",
   "name": "python3"
  },
  "language_info": {
   "codemirror_mode": {
    "name": "ipython",
    "version": 3
   },
   "file_extension": ".py",
   "mimetype": "text/x-python",
   "name": "python",
   "nbconvert_exporter": "python",
   "pygments_lexer": "ipython3",
   "version": "3.6.13"
  }
 },
 "nbformat": 4,
 "nbformat_minor": 5
}
