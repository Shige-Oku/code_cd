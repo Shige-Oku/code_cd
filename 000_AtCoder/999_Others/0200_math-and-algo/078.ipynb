{
 "cells": [
  {
   "cell_type": "code",
   "execution_count": 6,
   "id": "62ad154f-587b-4873-807a-d971bf73fe2f",
   "metadata": {},
   "outputs": [],
   "source": [
    "from collections import deque "
   ]
  },
  {
   "cell_type": "code",
   "execution_count": 1,
   "id": "832c48dc-51aa-4a30-850d-05581ee4e17b",
   "metadata": {},
   "outputs": [
    {
     "name": "stdin",
     "output_type": "stream",
     "text": [
      " 6 7\n"
     ]
    }
   ],
   "source": [
    "N, M = map(int, input().split())"
   ]
  },
  {
   "cell_type": "code",
   "execution_count": 2,
   "id": "3001d28a-21a4-45ff-a875-087b74740e66",
   "metadata": {},
   "outputs": [
    {
     "name": "stdin",
     "output_type": "stream",
     "text": [
      " 1 2\n",
      " 1 3\n",
      " 2 4\n",
      " 2 5\n",
      " 3 4\n",
      " 4 6\n",
      " 5 6\n"
     ]
    }
   ],
   "source": [
    "ABn = [list(map(int, input().split())) for _ in range(M)]"
   ]
  },
  {
   "cell_type": "code",
   "execution_count": 3,
   "id": "ff9fb894-44fb-41fa-be80-ccf38bfd301f",
   "metadata": {},
   "outputs": [],
   "source": [
    "graph = [[] for _ in range(N+1)]\n",
    "for A, B in ABn:\n",
    "    graph[A-1].append(B-1)\n",
    "    graph[B-1].append(A-1)"
   ]
  },
  {
   "cell_type": "code",
   "execution_count": 11,
   "id": "b2c77d6c-9794-44ce-998c-d7392f583154",
   "metadata": {},
   "outputs": [],
   "source": [
    "dist = [-1] * (N)\n",
    "q = deque()\n",
    "q.append(0)\n",
    "dist[0] = 0\n",
    "while q:\n",
    "    p = q.popleft()\n",
    "    for g in graph[p]:\n",
    "        if dist[g] != -1:\n",
    "            continue\n",
    "        dist[g] = dist[p] + 1\n",
    "        q.append(g)"
   ]
  },
  {
   "cell_type": "code",
   "execution_count": 15,
   "id": "7788165d-adaf-4a3c-b6b4-3b1b4b915b11",
   "metadata": {},
   "outputs": [
    {
     "name": "stdout",
     "output_type": "stream",
     "text": [
      "0\n",
      "1\n",
      "1\n",
      "2\n",
      "2\n",
      "3\n"
     ]
    }
   ],
   "source": [
    "for d in dist:\n",
    "    if d > 120 or d == -1:\n",
    "        print(120)\n",
    "    else:\n",
    "        print(d)\n"
   ]
  },
  {
   "cell_type": "code",
   "execution_count": 12,
   "id": "fe829bb6-b62a-44c1-8332-33c2aac2e553",
   "metadata": {},
   "outputs": [
    {
     "data": {
      "text/plain": [
       "[0, 1, 1, 2, 2, 3]"
      ]
     },
     "execution_count": 12,
     "metadata": {},
     "output_type": "execute_result"
    }
   ],
   "source": [
    "dist"
   ]
  },
  {
   "cell_type": "code",
   "execution_count": null,
   "id": "c6ac53cc-e6c4-402a-98ba-37e22f162936",
   "metadata": {},
   "outputs": [],
   "source": []
  }
 ],
 "metadata": {
  "kernelspec": {
   "display_name": "Python 3",
   "language": "python",
   "name": "python3"
  },
  "language_info": {
   "codemirror_mode": {
    "name": "ipython",
    "version": 3
   },
   "file_extension": ".py",
   "mimetype": "text/x-python",
   "name": "python",
   "nbconvert_exporter": "python",
   "pygments_lexer": "ipython3",
   "version": "3.6.13"
  }
 },
 "nbformat": 4,
 "nbformat_minor": 5
}
