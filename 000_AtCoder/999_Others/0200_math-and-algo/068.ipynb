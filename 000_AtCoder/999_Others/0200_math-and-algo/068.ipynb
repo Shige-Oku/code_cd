{
 "cells": [
  {
   "cell_type": "code",
   "execution_count": 22,
   "id": "11e5ada7-c900-4fc5-b27c-538c558c5ef1",
   "metadata": {},
   "outputs": [],
   "source": [
    "from itertools import product\n",
    "import math"
   ]
  },
  {
   "cell_type": "code",
   "execution_count": 1,
   "id": "610ae3ef-2696-45af-8219-470639962dc2",
   "metadata": {},
   "outputs": [
    {
     "name": "stdin",
     "output_type": "stream",
     "text": [
      " 100 3\n"
     ]
    }
   ],
   "source": [
    "N, K = map(int, input().split())"
   ]
  },
  {
   "cell_type": "code",
   "execution_count": 19,
   "id": "f0315b12-0ddd-4196-a378-94ecdebbfec0",
   "metadata": {},
   "outputs": [
    {
     "name": "stdin",
     "output_type": "stream",
     "text": [
      " 2 4 6\n"
     ]
    }
   ],
   "source": [
    "Vn = list(map(int, input().split()))"
   ]
  },
  {
   "cell_type": "code",
   "execution_count": 25,
   "id": "4cba05a0-7614-43b1-bef7-3b6a198cbf8a",
   "metadata": {},
   "outputs": [],
   "source": [
    "def lcm(a, b):\n",
    "    return a * b // math.gcd(a, b)"
   ]
  },
  {
   "cell_type": "code",
   "execution_count": 26,
   "id": "1755477b-f7ca-4a6c-bfef-137edac98647",
   "metadata": {},
   "outputs": [],
   "source": [
    "ans = 0\n",
    "for P in product([0, 1], repeat=K):\n",
    "    if sum(P) == 0:\n",
    "        continue\n",
    "    c = 1\n",
    "    for i, p in enumerate(P):\n",
    "        if p == 0:\n",
    "            continue\n",
    "        c = lcm(c, Vn[i])\n",
    "    if sum(P) % 2 == 0:\n",
    "        ans -= N // c\n",
    "    else:\n",
    "        ans += N // c\n"
   ]
  },
  {
   "cell_type": "code",
   "execution_count": 27,
   "id": "47a73ab0-58d0-4558-a037-3cbbb5de5dc5",
   "metadata": {},
   "outputs": [
    {
     "name": "stdout",
     "output_type": "stream",
     "text": [
      "50\n"
     ]
    }
   ],
   "source": [
    "print(ans)"
   ]
  },
  {
   "cell_type": "code",
   "execution_count": null,
   "id": "725831f2-6ad3-4e19-a086-dd77b9f7f587",
   "metadata": {},
   "outputs": [],
   "source": []
  }
 ],
 "metadata": {
  "kernelspec": {
   "display_name": "Python 3",
   "language": "python",
   "name": "python3"
  },
  "language_info": {
   "codemirror_mode": {
    "name": "ipython",
    "version": 3
   },
   "file_extension": ".py",
   "mimetype": "text/x-python",
   "name": "python",
   "nbconvert_exporter": "python",
   "pygments_lexer": "ipython3",
   "version": "3.6.13"
  }
 },
 "nbformat": 4,
 "nbformat_minor": 5
}
