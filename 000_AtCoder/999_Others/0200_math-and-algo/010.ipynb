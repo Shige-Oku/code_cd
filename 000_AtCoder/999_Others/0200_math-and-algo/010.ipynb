{
 "cells": [
  {
   "cell_type": "code",
   "execution_count": 1,
   "id": "c7de9acd-fa1c-409e-b711-7a8bb71f2ce9",
   "metadata": {},
   "outputs": [
    {
     "name": "stdin",
     "output_type": "stream",
     "text": [
      " 5\n"
     ]
    }
   ],
   "source": [
    "N = int(input())"
   ]
  },
  {
   "cell_type": "code",
   "execution_count": 2,
   "id": "e8dc98f9-f21d-4542-9ecc-b21c9be26abb",
   "metadata": {},
   "outputs": [],
   "source": [
    "ans = 1\n",
    "for i in range(1, N+1):\n",
    "    ans *= i"
   ]
  },
  {
   "cell_type": "code",
   "execution_count": 3,
   "id": "84d99674-ef62-47af-9265-242b1eb064cc",
   "metadata": {},
   "outputs": [
    {
     "name": "stdout",
     "output_type": "stream",
     "text": [
      "120\n"
     ]
    }
   ],
   "source": [
    "print(ans)"
   ]
  },
  {
   "cell_type": "code",
   "execution_count": 4,
   "id": "27da4879-c974-4c21-8c31-bcb4a7f7038d",
   "metadata": {},
   "outputs": [],
   "source": [
    "import math"
   ]
  },
  {
   "cell_type": "code",
   "execution_count": 5,
   "id": "7c7cc522-e88d-4839-ad6a-0bc4ca4af384",
   "metadata": {},
   "outputs": [
    {
     "name": "stdout",
     "output_type": "stream",
     "text": [
      "120\n"
     ]
    }
   ],
   "source": [
    "print(math.factorial(N))"
   ]
  },
  {
   "cell_type": "code",
   "execution_count": null,
   "id": "ce58c5fa-7eaa-4345-b845-a2682b4f7455",
   "metadata": {},
   "outputs": [],
   "source": []
  }
 ],
 "metadata": {
  "kernelspec": {
   "display_name": "Python 3",
   "language": "python",
   "name": "python3"
  },
  "language_info": {
   "codemirror_mode": {
    "name": "ipython",
    "version": 3
   },
   "file_extension": ".py",
   "mimetype": "text/x-python",
   "name": "python",
   "nbconvert_exporter": "python",
   "pygments_lexer": "ipython3",
   "version": "3.6.13"
  }
 },
 "nbformat": 4,
 "nbformat_minor": 5
}
