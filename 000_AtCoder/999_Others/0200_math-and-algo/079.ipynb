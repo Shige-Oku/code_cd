{
 "cells": [
  {
   "cell_type": "code",
   "execution_count": 7,
   "id": "7dd2629c-308f-4ebd-8dc9-035335852738",
   "metadata": {},
   "outputs": [
    {
     "name": "stdin",
     "output_type": "stream",
     "text": [
      " 1\n"
     ]
    }
   ],
   "source": [
    "N = int(input())"
   ]
  },
  {
   "cell_type": "code",
   "execution_count": 8,
   "id": "160a4c63-ff88-485f-8d4c-b7369b7b6159",
   "metadata": {},
   "outputs": [
    {
     "name": "stdout",
     "output_type": "stream",
     "text": [
      "0\n"
     ]
    }
   ],
   "source": [
    "if N == 1:\n",
    "    print(0)\n",
    "elif N == 2:\n",
    "    print(1)\n",
    "else:\n",
    "    print((1+N-1) * (N-1) // 2)"
   ]
  },
  {
   "cell_type": "code",
   "execution_count": 9,
   "id": "0259bfc5-8ce7-4663-abb3-268b3dc33b8b",
   "metadata": {},
   "outputs": [],
   "source": [
    "# 解説を読んで実装"
   ]
  },
  {
   "cell_type": "code",
   "execution_count": 10,
   "id": "fd7032ae-7f88-4dc7-ad4f-a11be874c210",
   "metadata": {},
   "outputs": [
    {
     "name": "stdout",
     "output_type": "stream",
     "text": [
      "0\n"
     ]
    }
   ],
   "source": [
    "print(N*(N-1)//2)"
   ]
  },
  {
   "cell_type": "code",
   "execution_count": null,
   "id": "031a1de8-88d2-4242-8e7d-8f051917ae86",
   "metadata": {},
   "outputs": [],
   "source": []
  }
 ],
 "metadata": {
  "kernelspec": {
   "display_name": "Python 3",
   "language": "python",
   "name": "python3"
  },
  "language_info": {
   "codemirror_mode": {
    "name": "ipython",
    "version": 3
   },
   "file_extension": ".py",
   "mimetype": "text/x-python",
   "name": "python",
   "nbconvert_exporter": "python",
   "pygments_lexer": "ipython3",
   "version": "3.6.13"
  }
 },
 "nbformat": 4,
 "nbformat_minor": 5
}
