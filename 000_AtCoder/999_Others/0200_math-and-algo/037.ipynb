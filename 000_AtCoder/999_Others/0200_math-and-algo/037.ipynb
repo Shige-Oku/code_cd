{
 "cells": [
  {
   "cell_type": "code",
   "execution_count": 1,
   "id": "0c473025-166a-45dd-866a-1171ec14d2be",
   "metadata": {},
   "outputs": [
    {
     "name": "stdin",
     "output_type": "stream",
     "text": [
      " 1 1\n"
     ]
    }
   ],
   "source": [
    "x1, y1 = map(int, input().split())"
   ]
  },
  {
   "cell_type": "code",
   "execution_count": 13,
   "id": "86736ade-b7cc-4eb8-b775-6a298e284116",
   "metadata": {},
   "outputs": [
    {
     "name": "stdin",
     "output_type": "stream",
     "text": [
      " 3 3\n"
     ]
    }
   ],
   "source": [
    "x2, y2 = map(int, input().split())"
   ]
  },
  {
   "cell_type": "code",
   "execution_count": 14,
   "id": "9641c6f8-3267-46b3-b759-96e639de0d8c",
   "metadata": {},
   "outputs": [
    {
     "name": "stdin",
     "output_type": "stream",
     "text": [
      " 2 2\n"
     ]
    }
   ],
   "source": [
    "x3, y3 = map(int, input().split())"
   ]
  },
  {
   "cell_type": "code",
   "execution_count": 15,
   "id": "52bd5714-3f15-48e4-abeb-acc94334b4e1",
   "metadata": {},
   "outputs": [
    {
     "name": "stdin",
     "output_type": "stream",
     "text": [
      " 4 4\n"
     ]
    }
   ],
   "source": [
    "x4, y4 = map(int, input().split())"
   ]
  },
  {
   "cell_type": "code",
   "execution_count": 16,
   "id": "03609562-c3ec-4128-a860-5ad75bf0a10f",
   "metadata": {},
   "outputs": [],
   "source": [
    "def cross(ax, ay, bx, by):\n",
    "    return ax*by - ay*bx"
   ]
  },
  {
   "cell_type": "code",
   "execution_count": 23,
   "id": "e0dddd9c-dd5d-45a8-a007-31e4cbdaf08b",
   "metadata": {},
   "outputs": [],
   "source": [
    "abc = cross(x2-x1, y2-y1, x3-x1, y3-y1)\n",
    "abd = cross(x2-x1, y2-y1, x4-x1, y4-y1)\n",
    "cda = cross(x4-x3, y4-y3, x1-x3, y1-y3)\n",
    "cdb = cross(x4-x3, y4-y3, x2-x3, y2-y3)\n"
   ]
  },
  {
   "cell_type": "code",
   "execution_count": 25,
   "id": "fb164ab5-46d7-4b4d-8f88-377d57dc29d5",
   "metadata": {},
   "outputs": [
    {
     "name": "stdout",
     "output_type": "stream",
     "text": [
      "Yes\n"
     ]
    }
   ],
   "source": [
    "if abc == 0 & abd == 0 & cda == 0 & cdb == 0:\n",
    "    A = (x1, y1)\n",
    "    B = (x2, y2)\n",
    "    C = (x3, y3)\n",
    "    D = (x4, y4)\n",
    "    A, B = min(A, B), max(A, B)\n",
    "    C, D = min(C, D), max(C, D)\n",
    "    if max(A, C) <= min(B, D):\n",
    "        print('Yes')\n",
    "    else:\n",
    "        print('No')\n",
    "else:\n",
    "    flg1, flg2 = False, False\n",
    "    if abc >= 0 and abd <= 0:\n",
    "        flg1 = True\n",
    "    if abc <= 0 and abd >= 0:\n",
    "        flg1 = True\n",
    "    if cda >= 0 and cdb <= 0:\n",
    "        flg2 = True\n",
    "    if cda <= 0 and cdb >= 0:\n",
    "        flg2 = True\n",
    "    if flg1 and flg2:\n",
    "        print('Yes')\n",
    "    else:\n",
    "        print('No')"
   ]
  },
  {
   "cell_type": "code",
   "execution_count": 19,
   "id": "ad76f795-f4da-4861-bcdf-fa3d6882d835",
   "metadata": {},
   "outputs": [
    {
     "data": {
      "text/plain": [
       "True"
      ]
     },
     "execution_count": 19,
     "metadata": {},
     "output_type": "execute_result"
    }
   ],
   "source": [
    "abc == 0 & abd == 0 & cda == 0 & cdb == 0"
   ]
  },
  {
   "cell_type": "code",
   "execution_count": 20,
   "id": "911d994b-9d76-4b8c-9d01-edf435e50af3",
   "metadata": {},
   "outputs": [
    {
     "data": {
      "text/plain": [
       "((1, 1), (3, 3), (2, 2), (4, 4))"
      ]
     },
     "execution_count": 20,
     "metadata": {},
     "output_type": "execute_result"
    }
   ],
   "source": [
    "A, B, C, D"
   ]
  },
  {
   "cell_type": "code",
   "execution_count": null,
   "id": "b4bec389-5541-407d-9416-f324672c9df8",
   "metadata": {},
   "outputs": [],
   "source": []
  }
 ],
 "metadata": {
  "kernelspec": {
   "display_name": "Python 3",
   "language": "python",
   "name": "python3"
  },
  "language_info": {
   "codemirror_mode": {
    "name": "ipython",
    "version": 3
   },
   "file_extension": ".py",
   "mimetype": "text/x-python",
   "name": "python",
   "nbconvert_exporter": "python",
   "pygments_lexer": "ipython3",
   "version": "3.6.13"
  }
 },
 "nbformat": 4,
 "nbformat_minor": 5
}
