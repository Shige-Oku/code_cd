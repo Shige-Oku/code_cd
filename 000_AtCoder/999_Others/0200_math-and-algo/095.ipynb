{
 "cells": [
  {
   "cell_type": "code",
   "execution_count": 1,
   "id": "777f7192-fce8-4db1-9a20-7b1070e10351",
   "metadata": {},
   "outputs": [
    {
     "name": "stdin",
     "output_type": "stream",
     "text": [
      " 7\n"
     ]
    }
   ],
   "source": [
    "N = int(input())"
   ]
  },
  {
   "cell_type": "code",
   "execution_count": 2,
   "id": "94764d79-5a3e-4de7-8a16-f7472b42b1a8",
   "metadata": {},
   "outputs": [
    {
     "name": "stdin",
     "output_type": "stream",
     "text": [
      " 1 72\n",
      " 2 78\n",
      " 2 94\n",
      " 1 23\n",
      " 2 89\n",
      " 1 40\n",
      " 1 75\n"
     ]
    }
   ],
   "source": [
    "CPn = [list(map(int, input().split())) for _ in range(N)]"
   ]
  },
  {
   "cell_type": "code",
   "execution_count": 3,
   "id": "569e51f4-0659-49e9-aec3-8e104e35889c",
   "metadata": {},
   "outputs": [
    {
     "name": "stdin",
     "output_type": "stream",
     "text": [
      " 1\n"
     ]
    }
   ],
   "source": [
    "Q = int(input())"
   ]
  },
  {
   "cell_type": "code",
   "execution_count": 4,
   "id": "aa0e7133-92e9-4405-b797-179385248c16",
   "metadata": {},
   "outputs": [
    {
     "name": "stdin",
     "output_type": "stream",
     "text": [
      " 2 6\n"
     ]
    }
   ],
   "source": [
    "LRn = [list(map(int, input().split())) for _ in range(Q)]"
   ]
  },
  {
   "cell_type": "code",
   "execution_count": 5,
   "id": "a02c36d3-243e-4687-85c0-c575f38f6496",
   "metadata": {},
   "outputs": [],
   "source": [
    "cl1 = [0, ]\n",
    "cl2 = [0, ]\n",
    "for C, P in CPn:\n",
    "    if C == 1:\n",
    "        cl1.append(cl1[-1]+P)\n",
    "        cl2.append(cl2[-1])\n",
    "    else:\n",
    "        cl1.append(cl1[-1])\n",
    "        cl2.append(cl2[-1]+P)"
   ]
  },
  {
   "cell_type": "code",
   "execution_count": 7,
   "id": "0dbaaeeb-b546-4f6a-a44b-d04f27febab0",
   "metadata": {},
   "outputs": [
    {
     "name": "stdout",
     "output_type": "stream",
     "text": [
      "63 261\n"
     ]
    }
   ],
   "source": [
    "for L, R in LRn:\n",
    "    print(cl1[R]-cl1[L-1], cl2[R]-cl2[L-1])"
   ]
  },
  {
   "cell_type": "code",
   "execution_count": 6,
   "id": "7f90066e-3805-461a-8a6f-ecbd66fb9002",
   "metadata": {},
   "outputs": [
    {
     "data": {
      "text/plain": [
       "([0, 72, 72, 72, 95, 95, 135, 210], [0, 0, 78, 172, 172, 261, 261, 261])"
      ]
     },
     "execution_count": 6,
     "metadata": {},
     "output_type": "execute_result"
    }
   ],
   "source": [
    "cl1, cl2"
   ]
  },
  {
   "cell_type": "code",
   "execution_count": null,
   "id": "1e061ea8-1e16-4630-a9c7-4691996bc86f",
   "metadata": {},
   "outputs": [],
   "source": []
  }
 ],
 "metadata": {
  "kernelspec": {
   "display_name": "Python 3",
   "language": "python",
   "name": "python3"
  },
  "language_info": {
   "codemirror_mode": {
    "name": "ipython",
    "version": 3
   },
   "file_extension": ".py",
   "mimetype": "text/x-python",
   "name": "python",
   "nbconvert_exporter": "python",
   "pygments_lexer": "ipython3",
   "version": "3.6.13"
  }
 },
 "nbformat": 4,
 "nbformat_minor": 5
}
