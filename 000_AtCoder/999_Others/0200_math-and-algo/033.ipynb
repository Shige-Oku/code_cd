{
 "cells": [
  {
   "cell_type": "code",
   "execution_count": 5,
   "id": "ede09925-604b-4e2f-be97-3f0e10ec4656",
   "metadata": {},
   "outputs": [],
   "source": [
    "import math"
   ]
  },
  {
   "cell_type": "code",
   "execution_count": 45,
   "id": "5b632e97-d569-441e-846e-f5a71275431b",
   "metadata": {},
   "outputs": [
    {
     "name": "stdin",
     "output_type": "stream",
     "text": [
      " 0 5\n"
     ]
    }
   ],
   "source": [
    "ax, ay = map(int, input().split())"
   ]
  },
  {
   "cell_type": "code",
   "execution_count": 46,
   "id": "96b1d58c-d0bf-47f7-b05e-e21979f4d16c",
   "metadata": {},
   "outputs": [
    {
     "name": "stdin",
     "output_type": "stream",
     "text": [
      " 1 1\n"
     ]
    }
   ],
   "source": [
    "bx, by = map(int, input().split())"
   ]
  },
  {
   "cell_type": "code",
   "execution_count": 47,
   "id": "b5aa97cd-3c75-4380-a02a-3fc07f6e4075",
   "metadata": {},
   "outputs": [
    {
     "name": "stdin",
     "output_type": "stream",
     "text": [
      " 3 0\n"
     ]
    }
   ],
   "source": [
    "cx, cy = map(int, input().split())"
   ]
  },
  {
   "cell_type": "code",
   "execution_count": 57,
   "id": "e09de47a-4051-4b9e-91a6-7257af8f6f9c",
   "metadata": {},
   "outputs": [],
   "source": [
    "BAx, BAy = ax - bx, ay - by\n",
    "CAx, CAy = ax - cx, ay - cy\n",
    "BCx, BCy = cx - bx, cy - by\n",
    "CBx, CBy = bx - cx, by - cy"
   ]
  },
  {
   "cell_type": "code",
   "execution_count": 64,
   "id": "b2f733f4-6a59-4a95-ac0f-2e8916beedfb",
   "metadata": {},
   "outputs": [
    {
     "name": "stdout",
     "output_type": "stream",
     "text": [
      "1\n"
     ]
    }
   ],
   "source": [
    "ans = 0\n",
    "if BAx * BCx + BAy * BCy < 0:\n",
    "    ans = math.sqrt(BAx**2 + BAy**2)\n",
    "elif CAx * CBx + CAy * CBy < 0:\n",
    "    ans = math.sqrt(CAx**2 + CAy**2)\n",
    "else:\n",
    "    s = abs(BAx * BCy - BAy * BCx)\n",
    "    ans = s / math.sqrt(BCx**2 + BCy**2)"
   ]
  },
  {
   "cell_type": "code",
   "execution_count": 65,
   "id": "1b78b4de-020f-4997-9285-bf446d01db95",
   "metadata": {},
   "outputs": [
    {
     "name": "stdout",
     "output_type": "stream",
     "text": [
      "4.123105625617661\n"
     ]
    }
   ],
   "source": [
    "print(ans)"
   ]
  },
  {
   "cell_type": "code",
   "execution_count": 8,
   "id": "696c685a-6e6b-49f9-b0e6-c24b6b09feb3",
   "metadata": {},
   "outputs": [
    {
     "data": {
      "text/plain": [
       "(-1, 4, 2, -1)"
      ]
     },
     "execution_count": 8,
     "metadata": {},
     "output_type": "execute_result"
    }
   ],
   "source": [
    "BAx, BAy, BCx, BCy"
   ]
  },
  {
   "cell_type": "code",
   "execution_count": 63,
   "id": "819148bf-e89b-4cfe-9930-93b2f7edab72",
   "metadata": {},
   "outputs": [
    {
     "data": {
      "text/plain": [
       "9"
      ]
     },
     "execution_count": 63,
     "metadata": {},
     "output_type": "execute_result"
    }
   ],
   "source": [
    "BAx * BCy + BAy * BCx"
   ]
  },
  {
   "cell_type": "code",
   "execution_count": 56,
   "id": "836754ee-4b9d-4855-8227-4bbfdf1377ba",
   "metadata": {},
   "outputs": [
    {
     "data": {
      "text/plain": [
       "4.123105625617661"
      ]
     },
     "execution_count": 56,
     "metadata": {},
     "output_type": "execute_result"
    }
   ],
   "source": [
    "math.sqrt(BAx**2 + BAy**2)"
   ]
  },
  {
   "cell_type": "code",
   "execution_count": null,
   "id": "258a8915-f840-4777-aec0-69baf3ef2e9a",
   "metadata": {},
   "outputs": [],
   "source": []
  }
 ],
 "metadata": {
  "kernelspec": {
   "display_name": "Python 3",
   "language": "python",
   "name": "python3"
  },
  "language_info": {
   "codemirror_mode": {
    "name": "ipython",
    "version": 3
   },
   "file_extension": ".py",
   "mimetype": "text/x-python",
   "name": "python",
   "nbconvert_exporter": "python",
   "pygments_lexer": "ipython3",
   "version": "3.6.13"
  }
 },
 "nbformat": 4,
 "nbformat_minor": 5
}
