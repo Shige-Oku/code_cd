{
 "cells": [
  {
   "cell_type": "code",
   "execution_count": 1,
   "id": "2036c2c5-d294-42d3-b968-693f9a7e7a9d",
   "metadata": {},
   "outputs": [
    {
     "name": "stdin",
     "output_type": "stream",
     "text": [
      " 3\n"
     ]
    }
   ],
   "source": [
    "N = int(input())"
   ]
  },
  {
   "cell_type": "code",
   "execution_count": 3,
   "id": "ed118971-c491-426c-b0c4-4c77399e7e0a",
   "metadata": {},
   "outputs": [
    {
     "name": "stdin",
     "output_type": "stream",
     "text": [
      " 12 18 24\n"
     ]
    }
   ],
   "source": [
    "An = list(map(int, input().split()))"
   ]
  },
  {
   "cell_type": "code",
   "execution_count": 7,
   "id": "04d85cac-f4f6-4013-af7d-6d71d7b156d8",
   "metadata": {},
   "outputs": [],
   "source": [
    "def GCD(a, b):\n",
    "    if a == 0 or b == 0:\n",
    "        return max(a, b)\n",
    "    return GCD(max(a, b)%min(a, b), min(a, b))"
   ]
  },
  {
   "cell_type": "code",
   "execution_count": 8,
   "id": "dc2c275d-eb84-4e4e-b5bd-693983e8a180",
   "metadata": {},
   "outputs": [],
   "source": [
    "ans = An[0]\n",
    "for A in An:\n",
    "    ans = GCD(ans, A)"
   ]
  },
  {
   "cell_type": "code",
   "execution_count": 9,
   "id": "023a507c-8d0f-4b3d-8819-8dc994fb0fee",
   "metadata": {},
   "outputs": [
    {
     "name": "stdout",
     "output_type": "stream",
     "text": [
      "6\n"
     ]
    }
   ],
   "source": [
    "print(ans)"
   ]
  },
  {
   "cell_type": "code",
   "execution_count": null,
   "id": "8cb43b48-f3c5-466e-b798-6ba895317652",
   "metadata": {},
   "outputs": [],
   "source": []
  }
 ],
 "metadata": {
  "kernelspec": {
   "display_name": "Python 3",
   "language": "python",
   "name": "python3"
  },
  "language_info": {
   "codemirror_mode": {
    "name": "ipython",
    "version": 3
   },
   "file_extension": ".py",
   "mimetype": "text/x-python",
   "name": "python",
   "nbconvert_exporter": "python",
   "pygments_lexer": "ipython3",
   "version": "3.6.13"
  }
 },
 "nbformat": 4,
 "nbformat_minor": 5
}
