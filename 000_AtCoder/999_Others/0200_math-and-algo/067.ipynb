{
 "cells": [
  {
   "cell_type": "code",
   "execution_count": 9,
   "id": "9a0c7217-5409-484d-b2e5-c19f3f2f2d45",
   "metadata": {},
   "outputs": [
    {
     "name": "stdin",
     "output_type": "stream",
     "text": [
      " 2 10\n"
     ]
    }
   ],
   "source": [
    "H, W = map(int, input().split())"
   ]
  },
  {
   "cell_type": "code",
   "execution_count": 10,
   "id": "be734d26-4927-40e8-8868-9c5ee7d563d9",
   "metadata": {},
   "outputs": [
    {
     "name": "stdin",
     "output_type": "stream",
     "text": [
      " 31 41 59 26 53 58 97 93 23 84\n",
      " 62 64 33 83 27 95 2 88 41 97\n"
     ]
    }
   ],
   "source": [
    "An = [list(map(int, input().split())) for _ in range(H)]"
   ]
  },
  {
   "cell_type": "code",
   "execution_count": 17,
   "id": "fefce58a-b370-4b47-b412-ebd068a2caec",
   "metadata": {},
   "outputs": [],
   "source": [
    "r = []\n",
    "for j in range(W):\n",
    "    c = 0\n",
    "    for i in range(H):\n",
    "        c += An[i][j]\n",
    "    r.append(c)"
   ]
  },
  {
   "cell_type": "code",
   "execution_count": 18,
   "id": "29c90406-8067-4836-a276-906631ea7a38",
   "metadata": {},
   "outputs": [],
   "source": [
    "g = []\n",
    "for i in range(H):\n",
    "    c = 0\n",
    "    for j in range(W):\n",
    "        c += An[i][j]\n",
    "    g.append(c)"
   ]
  },
  {
   "cell_type": "code",
   "execution_count": 19,
   "id": "b30ab646-b972-4851-8882-b5e81e525036",
   "metadata": {},
   "outputs": [],
   "source": [
    "ans = [[] for _ in range(H)]\n",
    "for i in range(H):\n",
    "    for j in range(W):\n",
    "        ans[i].append(g[i]+r[j]-An[i][j])"
   ]
  },
  {
   "cell_type": "code",
   "execution_count": 20,
   "id": "0d617892-37db-4f73-a358-699633961b9a",
   "metadata": {},
   "outputs": [
    {
     "name": "stdout",
     "output_type": "stream",
     "text": [
      "627 629 598 648 592 660 567 653 606 662\n",
      "623 633 651 618 645 650 689 685 615 676\n"
     ]
    }
   ],
   "source": [
    "for a in ans:\n",
    "    print(*a)"
   ]
  },
  {
   "cell_type": "code",
   "execution_count": 16,
   "id": "148760fd-c19b-4659-ac79-ce9e317a9039",
   "metadata": {},
   "outputs": [
    {
     "data": {
      "text/plain": [
       "([93, 105, 92, 109, 80, 153, 99, 181, 64, 181], [565, 592])"
      ]
     },
     "execution_count": 16,
     "metadata": {},
     "output_type": "execute_result"
    }
   ],
   "source": [
    "g, r"
   ]
  },
  {
   "cell_type": "code",
   "execution_count": 14,
   "id": "7dd03ade-2a7e-4534-b07f-9ad8e4a1e44b",
   "metadata": {},
   "outputs": [
    {
     "data": {
      "text/plain": [
       "(0, 2)"
      ]
     },
     "execution_count": 14,
     "metadata": {},
     "output_type": "execute_result"
    }
   ],
   "source": [
    "i, j"
   ]
  },
  {
   "cell_type": "code",
   "execution_count": null,
   "id": "19e835e1-46c3-4bc2-a8c1-95d82eb580ff",
   "metadata": {},
   "outputs": [],
   "source": []
  }
 ],
 "metadata": {
  "kernelspec": {
   "display_name": "Python 3",
   "language": "python",
   "name": "python3"
  },
  "language_info": {
   "codemirror_mode": {
    "name": "ipython",
    "version": 3
   },
   "file_extension": ".py",
   "mimetype": "text/x-python",
   "name": "python",
   "nbconvert_exporter": "python",
   "pygments_lexer": "ipython3",
   "version": "3.6.13"
  }
 },
 "nbformat": 4,
 "nbformat_minor": 5
}
