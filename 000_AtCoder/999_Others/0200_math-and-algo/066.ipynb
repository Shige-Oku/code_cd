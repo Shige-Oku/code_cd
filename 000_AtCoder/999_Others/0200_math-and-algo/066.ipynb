{
 "cells": [
  {
   "cell_type": "code",
   "execution_count": 1,
   "id": "26b14ee4-efb5-4e77-9941-2c19b75f9678",
   "metadata": {},
   "outputs": [
    {
     "name": "stdin",
     "output_type": "stream",
     "text": [
      " 3 1\n"
     ]
    }
   ],
   "source": [
    "N, K = map(int, input().split())"
   ]
  },
  {
   "cell_type": "code",
   "execution_count": 19,
   "id": "cae5a578-434a-4a38-ab3f-5cd30ecae4fb",
   "metadata": {},
   "outputs": [],
   "source": [
    "c = 0\n",
    "for i in range(1, N+1):\n",
    "    for j in range(i-K+1, i+K):\n",
    "        if j < 1 or j > N:\n",
    "            continue\n",
    "        for k in range(i-K+1, i+K):\n",
    "            if k < 1 or k > N:\n",
    "                continue\n",
    "            if abs(j-k) >= K:\n",
    "                continue\n",
    "            c += 1\n",
    "            "
   ]
  },
  {
   "cell_type": "code",
   "execution_count": 31,
   "id": "5f69c710-ad08-409a-a0d7-79c99ae746b6",
   "metadata": {},
   "outputs": [],
   "source": [
    "c = 0\n",
    "for i in range(1, N+1):\n",
    "    for j in range(max(1, i-K+1), min(N+1, i+K)):\n",
    "        for k in range(max(1, i-K+1),min(N+1, i+K)):\n",
    "            if abs(j-k) >= K or abs(i-j) >= K or abs(i-k) >= K:\n",
    "                continue\n",
    "            c += 1\n",
    "            "
   ]
  },
  {
   "cell_type": "code",
   "execution_count": 32,
   "id": "e46c67f2-4d57-47ce-b51a-97c1a7220f5a",
   "metadata": {},
   "outputs": [
    {
     "name": "stdout",
     "output_type": "stream",
     "text": [
      "24\n"
     ]
    }
   ],
   "source": [
    "print(N**3-c)"
   ]
  },
  {
   "cell_type": "code",
   "execution_count": 30,
   "id": "a33e8060-bdc7-4f5b-81d1-33d981e54778",
   "metadata": {},
   "outputs": [
    {
     "data": {
      "text/plain": [
       "2"
      ]
     },
     "execution_count": 30,
     "metadata": {},
     "output_type": "execute_result"
    }
   ],
   "source": [
    "c"
   ]
  },
  {
   "cell_type": "code",
   "execution_count": null,
   "id": "a6f396c0-e7aa-425c-bdf3-1b82f07d9ada",
   "metadata": {},
   "outputs": [],
   "source": []
  }
 ],
 "metadata": {
  "kernelspec": {
   "display_name": "Python 3",
   "language": "python",
   "name": "python3"
  },
  "language_info": {
   "codemirror_mode": {
    "name": "ipython",
    "version": 3
   },
   "file_extension": ".py",
   "mimetype": "text/x-python",
   "name": "python",
   "nbconvert_exporter": "python",
   "pygments_lexer": "ipython3",
   "version": "3.6.13"
  }
 },
 "nbformat": 4,
 "nbformat_minor": 5
}
