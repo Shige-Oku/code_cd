{
 "cells": [
  {
   "cell_type": "code",
   "execution_count": 77,
   "id": "bed86984-af78-4f90-b73f-1c8421ea8cb5",
   "metadata": {},
   "outputs": [],
   "source": [
    "import sys\n",
    "import math"
   ]
  },
  {
   "cell_type": "code",
   "execution_count": 3,
   "id": "087ab4bc-83a5-4a19-848a-0ebc545aee7e",
   "metadata": {},
   "outputs": [],
   "source": [
    "sys.setrecursionlimit(10**7)"
   ]
  },
  {
   "cell_type": "code",
   "execution_count": 122,
   "id": "ccc70549-143b-425b-ac59-91835f7a5ef8",
   "metadata": {},
   "outputs": [
    {
     "name": "stdin",
     "output_type": "stream",
     "text": [
      " 999 434\n"
     ]
    }
   ],
   "source": [
    "N, B = map(int, input().split())"
   ]
  },
  {
   "cell_type": "code",
   "execution_count": 123,
   "id": "c3f30401-58d8-4302-ad6e-abf6f9faa2dd",
   "metadata": {},
   "outputs": [],
   "source": [
    "def setCand(n):\n",
    "    if n > N:\n",
    "        return\n",
    "    if n == 0:\n",
    "        s = 1\n",
    "    else:\n",
    "        s = n % 10\n",
    "        Fn.add(n)\n",
    "    for i in range(s, 10):\n",
    "        v = n*10 + i\n",
    "        setCand(v)\n",
    "    return"
   ]
  },
  {
   "cell_type": "code",
   "execution_count": 124,
   "id": "ec697ffc-c8fa-4d47-ad98-83e6ec045414",
   "metadata": {},
   "outputs": [],
   "source": [
    "def getFn(n):\n",
    "    ret = 1\n",
    "    while True:\n",
    "        q, m = divmod(n, 10)\n",
    "        if m == 0:\n",
    "            break\n",
    "        ret *= m\n",
    "        n = q\n",
    "    return ret"
   ]
  },
  {
   "cell_type": "code",
   "execution_count": 140,
   "id": "e749008c-cd25-4e3e-95f9-3532e10f16c7",
   "metadata": {},
   "outputs": [],
   "source": [
    "def myCheck(n):\n",
    "    m = n + B\n",
    "    if m > N:\n",
    "        return False\n",
    "    if m -  getFn(m) != B:\n",
    "        return False\n",
    "#     if math.ceil(math.log10(n)) != math.ceil(math.log10(m)):\n",
    "#         return False\n",
    "    print(m)\n",
    "    return True"
   ]
  },
  {
   "cell_type": "code",
   "execution_count": 141,
   "id": "3bcab5ac-f9f7-4a91-97aa-98d671791700",
   "metadata": {},
   "outputs": [],
   "source": [
    "Fn = set()\n",
    "setCand(0)"
   ]
  },
  {
   "cell_type": "code",
   "execution_count": 142,
   "id": "1f35fcc2-3e41-4dd3-8a48-e26bd3ce43bb",
   "metadata": {},
   "outputs": [],
   "source": [
    "ans = 0\n",
    "for f in Fn:\n",
    "    if myCheck(f):\n",
    "        ans += 1"
   ]
  },
  {
   "cell_type": "code",
   "execution_count": 143,
   "id": "24a3c798-989d-471a-8c5b-545dce3fa938",
   "metadata": {},
   "outputs": [
    {
     "name": "stdout",
     "output_type": "stream",
     "text": [
      "0\n"
     ]
    }
   ],
   "source": [
    "print(ans)"
   ]
  },
  {
   "cell_type": "code",
   "execution_count": 107,
   "id": "b83e7a94-58b5-480f-97f1-84074fd91b92",
   "metadata": {},
   "outputs": [
    {
     "data": {
      "text/plain": [
       "121"
      ]
     },
     "execution_count": 107,
     "metadata": {},
     "output_type": "execute_result"
    }
   ],
   "source": [
    "len(Fn)"
   ]
  },
  {
   "cell_type": "code",
   "execution_count": 40,
   "id": "76eeb29c-bd20-48dc-a32e-9fdcdae58cd5",
   "metadata": {},
   "outputs": [],
   "source": [
    "N = 30\n",
    "Fn = set()\n",
    "setCand(0)"
   ]
  },
  {
   "cell_type": "code",
   "execution_count": 51,
   "id": "34b75e11-440b-4a9b-aba0-ce22a5216ed4",
   "metadata": {},
   "outputs": [],
   "source": [
    "#Fn"
   ]
  },
  {
   "cell_type": "code",
   "execution_count": 58,
   "id": "5943d69d-45d6-4d0d-9487-7a8ea53745c8",
   "metadata": {},
   "outputs": [
    {
     "data": {
      "text/plain": [
       "1"
      ]
     },
     "execution_count": 58,
     "metadata": {},
     "output_type": "execute_result"
    }
   ],
   "source": [
    "getFn(1111)"
   ]
  },
  {
   "cell_type": "code",
   "execution_count": 89,
   "id": "32818463-df66-41f4-a8f7-9c5d543aaa09",
   "metadata": {},
   "outputs": [
    {
     "data": {
      "text/plain": [
       "True"
      ]
     },
     "execution_count": 89,
     "metadata": {},
     "output_type": "execute_result"
    }
   ],
   "source": [
    "math.ceil(math.log10(169)) != math.ceil(math.log10(69))"
   ]
  },
  {
   "cell_type": "code",
   "execution_count": null,
   "id": "d287f35a-7557-42ee-9695-4079f289c827",
   "metadata": {},
   "outputs": [],
   "source": []
  }
 ],
 "metadata": {
  "kernelspec": {
   "display_name": "Python 3",
   "language": "python",
   "name": "python3"
  },
  "language_info": {
   "codemirror_mode": {
    "name": "ipython",
    "version": 3
   },
   "file_extension": ".py",
   "mimetype": "text/x-python",
   "name": "python",
   "nbconvert_exporter": "python",
   "pygments_lexer": "ipython3",
   "version": "3.6.13"
  }
 },
 "nbformat": 4,
 "nbformat_minor": 5
}
