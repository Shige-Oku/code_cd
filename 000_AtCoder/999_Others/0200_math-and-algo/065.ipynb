{
 "cells": [
  {
   "cell_type": "code",
   "execution_count": 18,
   "id": "7b448f1b-011e-48c3-bfda-5d445a65aed4",
   "metadata": {},
   "outputs": [
    {
     "name": "stdin",
     "output_type": "stream",
     "text": [
      " 5 5\n"
     ]
    }
   ],
   "source": [
    "H, W = map(int, input().split())"
   ]
  },
  {
   "cell_type": "code",
   "execution_count": 21,
   "id": "2829643b-59ff-4166-972b-98f577b314a3",
   "metadata": {},
   "outputs": [
    {
     "name": "stdout",
     "output_type": "stream",
     "text": [
      "13\n"
     ]
    }
   ],
   "source": [
    "if H == 1 or W == 1:\n",
    "    print(\"1\")\n",
    "elif H * W % 2 == 0:\n",
    "    print(H*W//2)\n",
    "else:\n",
    "    print(H*W//2+1)"
   ]
  },
  {
   "cell_type": "code",
   "execution_count": 20,
   "id": "d436b0e0-e657-4311-932f-11e6a4b3234d",
   "metadata": {},
   "outputs": [
    {
     "name": "stdout",
     "output_type": "stream",
     "text": [
      "13\n"
     ]
    }
   ],
   "source": [
    "if H == 1 or W == 1:\n",
    "    print(\"1\")\n",
    "else:\n",
    "    print((H*W+1)//2)"
   ]
  },
  {
   "cell_type": "code",
   "execution_count": null,
   "id": "e355ac8f-c971-4b90-94e7-47704b6c8f05",
   "metadata": {},
   "outputs": [],
   "source": []
  }
 ],
 "metadata": {
  "kernelspec": {
   "display_name": "Python 3",
   "language": "python",
   "name": "python3"
  },
  "language_info": {
   "codemirror_mode": {
    "name": "ipython",
    "version": 3
   },
   "file_extension": ".py",
   "mimetype": "text/x-python",
   "name": "python",
   "nbconvert_exporter": "python",
   "pygments_lexer": "ipython3",
   "version": "3.6.13"
  }
 },
 "nbformat": 4,
 "nbformat_minor": 5
}
