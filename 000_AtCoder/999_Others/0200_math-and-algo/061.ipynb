{
 "cells": [
  {
   "cell_type": "code",
   "execution_count": 6,
   "id": "799462c1-171c-4412-8931-f705da657a9a",
   "metadata": {},
   "outputs": [
    {
     "name": "stdin",
     "output_type": "stream",
     "text": [
      " 1000000000000000000\n"
     ]
    }
   ],
   "source": [
    "N = int(input())"
   ]
  },
  {
   "cell_type": "code",
   "execution_count": 7,
   "id": "4ff2418f-b0f5-4b77-8cad-20fc28fc5a89",
   "metadata": {},
   "outputs": [
    {
     "name": "stdout",
     "output_type": "stream",
     "text": [
      "First\n"
     ]
    }
   ],
   "source": [
    "k = 1\n",
    "for _ in range(62):\n",
    "    k *= 2\n",
    "    if N == k - 1:\n",
    "        print(\"Second\")\n",
    "        break\n",
    "else:\n",
    "    print(\"First\")"
   ]
  },
  {
   "cell_type": "code",
   "execution_count": null,
   "id": "d6fbad8e-315a-40ce-bef5-9e87868ca82b",
   "metadata": {},
   "outputs": [],
   "source": []
  }
 ],
 "metadata": {
  "kernelspec": {
   "display_name": "Python 3",
   "language": "python",
   "name": "python3"
  },
  "language_info": {
   "codemirror_mode": {
    "name": "ipython",
    "version": 3
   },
   "file_extension": ".py",
   "mimetype": "text/x-python",
   "name": "python",
   "nbconvert_exporter": "python",
   "pygments_lexer": "ipython3",
   "version": "3.6.13"
  }
 },
 "nbformat": 4,
 "nbformat_minor": 5
}
