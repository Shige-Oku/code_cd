{
 "cells": [
  {
   "cell_type": "code",
   "execution_count": 43,
   "id": "19c15929-b327-4593-9918-1cc81942d76a",
   "metadata": {},
   "outputs": [
    {
     "name": "stdin",
     "output_type": "stream",
     "text": [
      " 9\n"
     ]
    }
   ],
   "source": [
    "N = int(input())"
   ]
  },
  {
   "cell_type": "code",
   "execution_count": 44,
   "id": "ad3f862f-b05e-4631-9d7b-a9ffbef41702",
   "metadata": {},
   "outputs": [
    {
     "name": "stdin",
     "output_type": "stream",
     "text": [
      " 3 14 15 9 26 5 35 89 79\n"
     ]
    }
   ],
   "source": [
    "Tn = list(map(int, input().split()))"
   ]
  },
  {
   "cell_type": "code",
   "execution_count": 47,
   "id": "d958fea0-591c-46b7-b9eb-97739088c736",
   "metadata": {},
   "outputs": [],
   "source": [
    "dp = [[False] * (1000*100+10) for _ in range(N+1)]\n",
    "dp[0][0] = True\n",
    "for i, T in enumerate(Tn, 1):\n",
    "    for j in range(1000*100*1):\n",
    "        if dp[i-1][j]:\n",
    "            dp[i][j] = dp[i-1][j]\n",
    "            dp[i][j+T] = True\n",
    "        "
   ]
  },
  {
   "cell_type": "code",
   "execution_count": 46,
   "id": "44ae1769-cef9-49fc-962f-1883a9d3856f",
   "metadata": {},
   "outputs": [
    {
     "name": "stdout",
     "output_type": "stream",
     "text": [
      "138\n"
     ]
    }
   ],
   "source": [
    "s = (sum(Tn) + 1) // 2\n",
    "for i in range(s, 1000*100*1):\n",
    "    if dp[N][i]:\n",
    "        print(i)\n",
    "        break"
   ]
  },
  {
   "cell_type": "code",
   "execution_count": 35,
   "id": "1fc7d6b6-a696-4289-8380-5f8201b783cb",
   "metadata": {},
   "outputs": [
    {
     "data": {
      "text/plain": [
       "[False, True, True, False]"
      ]
     },
     "execution_count": 35,
     "metadata": {},
     "output_type": "execute_result"
    }
   ],
   "source": [
    "dp[2][999:1003]"
   ]
  },
  {
   "cell_type": "code",
   "execution_count": 36,
   "id": "e19abf7b-a797-46bc-a481-b76da6da91c3",
   "metadata": {},
   "outputs": [
    {
     "data": {
      "text/plain": [
       "501"
      ]
     },
     "execution_count": 36,
     "metadata": {},
     "output_type": "execute_result"
    }
   ],
   "source": [
    "s"
   ]
  },
  {
   "cell_type": "code",
   "execution_count": null,
   "id": "cc09ead6-02dc-462b-8cb7-e232c8a21eda",
   "metadata": {},
   "outputs": [],
   "source": []
  }
 ],
 "metadata": {
  "kernelspec": {
   "display_name": "Python 3",
   "language": "python",
   "name": "python3"
  },
  "language_info": {
   "codemirror_mode": {
    "name": "ipython",
    "version": 3
   },
   "file_extension": ".py",
   "mimetype": "text/x-python",
   "name": "python",
   "nbconvert_exporter": "python",
   "pygments_lexer": "ipython3",
   "version": "3.6.13"
  }
 },
 "nbformat": 4,
 "nbformat_minor": 5
}
