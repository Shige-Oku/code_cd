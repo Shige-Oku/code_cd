{
 "cells": [
  {
   "cell_type": "code",
   "execution_count": 3,
   "id": "afa744d6-e454-4068-a400-ac8a66b2b70a",
   "metadata": {},
   "outputs": [],
   "source": [
    "import math"
   ]
  },
  {
   "cell_type": "code",
   "execution_count": 1,
   "id": "55175094-0e80-429c-ba32-fb2a83359d26",
   "metadata": {},
   "outputs": [
    {
     "name": "stdin",
     "output_type": "stream",
     "text": [
      " 4\n"
     ]
    }
   ],
   "source": [
    "N = int(input())"
   ]
  },
  {
   "cell_type": "code",
   "execution_count": 2,
   "id": "82911023-552b-415e-a77e-0cf1188c081c",
   "metadata": {},
   "outputs": [
    {
     "name": "stdin",
     "output_type": "stream",
     "text": [
      " 0 1\n",
      " 2 0\n",
      " 2 3\n",
      " 3 1\n"
     ]
    }
   ],
   "source": [
    "XYn = [list(map(int, input().split())) for _ in range(N)]"
   ]
  },
  {
   "cell_type": "code",
   "execution_count": 5,
   "id": "28f0182f-ff73-49e3-bcd7-585c2392f16c",
   "metadata": {},
   "outputs": [],
   "source": [
    "ans = 10**16\n",
    "for i in range(N-1):\n",
    "    for j in range(i+1, N):\n",
    "        ans = min(ans, (XYn[i][0]-XYn[j][0])**2 + (XYn[i][1]-XYn[j][1])**2)"
   ]
  },
  {
   "cell_type": "code",
   "execution_count": 6,
   "id": "ff063201-7529-4968-8a1a-d8fbee0dd432",
   "metadata": {},
   "outputs": [
    {
     "name": "stdout",
     "output_type": "stream",
     "text": [
      "1.4142135623730951\n"
     ]
    }
   ],
   "source": [
    "print(math.sqrt(ans))"
   ]
  },
  {
   "cell_type": "code",
   "execution_count": null,
   "id": "303c4d68-5f3a-4db2-a708-81ec309d8399",
   "metadata": {},
   "outputs": [],
   "source": []
  }
 ],
 "metadata": {
  "kernelspec": {
   "display_name": "Python 3",
   "language": "python",
   "name": "python3"
  },
  "language_info": {
   "codemirror_mode": {
    "name": "ipython",
    "version": 3
   },
   "file_extension": ".py",
   "mimetype": "text/x-python",
   "name": "python",
   "nbconvert_exporter": "python",
   "pygments_lexer": "ipython3",
   "version": "3.6.13"
  }
 },
 "nbformat": 4,
 "nbformat_minor": 5
}
