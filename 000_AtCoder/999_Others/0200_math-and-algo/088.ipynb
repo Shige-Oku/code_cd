{
 "cells": [
  {
   "cell_type": "code",
   "execution_count": 6,
   "id": "3d119bc4-8880-4c58-b8a9-c10c62149ed6",
   "metadata": {},
   "outputs": [
    {
     "name": "stdin",
     "output_type": "stream",
     "text": [
      " 1000000000 987654321 123456789\n"
     ]
    }
   ],
   "source": [
    "A, B, C = map(int,input().split())"
   ]
  },
  {
   "cell_type": "code",
   "execution_count": 3,
   "id": "2f585cf7-1bcb-4bd4-a58c-80846ce719c1",
   "metadata": {},
   "outputs": [],
   "source": [
    "def sig(n):\n",
    "    return n * (n+1) // 2"
   ]
  },
  {
   "cell_type": "code",
   "execution_count": 7,
   "id": "278d2616-a6a6-4efc-9aef-ce5e72cef366",
   "metadata": {},
   "outputs": [
    {
     "name": "stdout",
     "output_type": "stream",
     "text": [
      "951633476\n"
     ]
    }
   ],
   "source": [
    "print(sig(A) * sig(B) * sig(C) % 998244353)"
   ]
  },
  {
   "cell_type": "code",
   "execution_count": 4,
   "id": "1bed5c97-64af-41d7-b3a0-83584f82c8cc",
   "metadata": {},
   "outputs": [
    {
     "data": {
      "text/plain": [
       "6"
      ]
     },
     "execution_count": 4,
     "metadata": {},
     "output_type": "execute_result"
    }
   ],
   "source": [
    "sig(3)"
   ]
  },
  {
   "cell_type": "code",
   "execution_count": null,
   "id": "82b04575-b1a6-4984-9f40-d4f56052357e",
   "metadata": {},
   "outputs": [],
   "source": []
  }
 ],
 "metadata": {
  "kernelspec": {
   "display_name": "Python 3",
   "language": "python",
   "name": "python3"
  },
  "language_info": {
   "codemirror_mode": {
    "name": "ipython",
    "version": 3
   },
   "file_extension": ".py",
   "mimetype": "text/x-python",
   "name": "python",
   "nbconvert_exporter": "python",
   "pygments_lexer": "ipython3",
   "version": "3.6.13"
  }
 },
 "nbformat": 4,
 "nbformat_minor": 5
}
