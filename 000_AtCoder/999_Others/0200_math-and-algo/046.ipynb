{
 "cells": [
  {
   "cell_type": "code",
   "execution_count": 1,
   "id": "77937af0-f5c7-4d5c-bdc6-460356d0945e",
   "metadata": {},
   "outputs": [],
   "source": [
    "from collections import deque"
   ]
  },
  {
   "cell_type": "code",
   "execution_count": 2,
   "id": "0468c244-de0e-43db-8573-3bfcf5c01955",
   "metadata": {},
   "outputs": [
    {
     "name": "stdin",
     "output_type": "stream",
     "text": [
      " 7 8\n"
     ]
    }
   ],
   "source": [
    "R, C = map(int, input().split())"
   ]
  },
  {
   "cell_type": "code",
   "execution_count": 3,
   "id": "a036bef7-0ba1-41f9-8855-97388b3e1e11",
   "metadata": {},
   "outputs": [
    {
     "name": "stdin",
     "output_type": "stream",
     "text": [
      " 2 2\n"
     ]
    }
   ],
   "source": [
    "sy ,sx = map(int, input().split())"
   ]
  },
  {
   "cell_type": "code",
   "execution_count": 4,
   "id": "30e8f313-b541-4f0c-a9ca-6f41cf376541",
   "metadata": {},
   "outputs": [
    {
     "name": "stdin",
     "output_type": "stream",
     "text": [
      " 4 5\n"
     ]
    }
   ],
   "source": [
    "gy ,gx = map(int, input().split())"
   ]
  },
  {
   "cell_type": "code",
   "execution_count": 5,
   "id": "34b9a87f-b8a0-425b-9337-d9dd9a3545a2",
   "metadata": {},
   "outputs": [
    {
     "name": "stdin",
     "output_type": "stream",
     "text": [
      " ########\n",
      " #......#\n",
      " #.######\n",
      " #..#...#\n",
      " #..##..#\n",
      " ##.....#\n",
      " ########\n"
     ]
    }
   ],
   "source": [
    "Cn = [input() for _ in range(R)]"
   ]
  },
  {
   "cell_type": "code",
   "execution_count": 14,
   "id": "eb268aa9-c9e8-461b-bafb-37d99decc131",
   "metadata": {},
   "outputs": [],
   "source": [
    "cnt = [[-1] * (C+1) for _ in range(R+1)]\n",
    "q = deque()\n",
    "q.append((sy, sx))\n",
    "cnt[sy][sx] = 0 \n",
    "while q:\n",
    "    y, x = q.popleft()\n",
    "    for yy, xx in ((1, 0), (-1, 0), (0, 1), (0, -1)):\n",
    "        if Cn[y+yy-1][x+xx-1] == '#':\n",
    "            continue\n",
    "        if cnt[y+yy][x+xx] > -1:\n",
    "            continue\n",
    "        cnt[y+yy][x+xx] = cnt[y][x]+ 1\n",
    "        q.append((y+yy, x+xx))"
   ]
  },
  {
   "cell_type": "code",
   "execution_count": 15,
   "id": "39b29175-9fd2-4145-bb4c-ca2546d2f4e1",
   "metadata": {},
   "outputs": [
    {
     "name": "stdout",
     "output_type": "stream",
     "text": [
      "11\n"
     ]
    }
   ],
   "source": [
    "print(cnt[gy][gx])"
   ]
  },
  {
   "cell_type": "code",
   "execution_count": 16,
   "id": "2ae0e9bd-208c-483b-a0f2-f6fff7169519",
   "metadata": {},
   "outputs": [
    {
     "data": {
      "text/plain": [
       "[[-1, -1, -1, -1, -1, -1, -1, -1, -1],\n",
       " [-1, -1, -1, -1, -1, -1, -1, -1, -1],\n",
       " [-1, -1, 0, 1, 2, 3, 4, 5, -1],\n",
       " [-1, -1, 1, -1, -1, -1, -1, -1, -1],\n",
       " [-1, -1, 2, 3, -1, 11, 10, 11, -1],\n",
       " [-1, -1, 3, 4, -1, -1, 9, 10, -1],\n",
       " [-1, -1, -1, 5, 6, 7, 8, 9, -1],\n",
       " [-1, -1, -1, -1, -1, -1, -1, -1, -1]]"
      ]
     },
     "execution_count": 16,
     "metadata": {},
     "output_type": "execute_result"
    }
   ],
   "source": [
    "cnt"
   ]
  },
  {
   "cell_type": "code",
   "execution_count": null,
   "id": "f3272a4e-e669-4529-b8b3-5f0ce30bdfa6",
   "metadata": {},
   "outputs": [],
   "source": []
  }
 ],
 "metadata": {
  "kernelspec": {
   "display_name": "Python 3",
   "language": "python",
   "name": "python3"
  },
  "language_info": {
   "codemirror_mode": {
    "name": "ipython",
    "version": 3
   },
   "file_extension": ".py",
   "mimetype": "text/x-python",
   "name": "python",
   "nbconvert_exporter": "python",
   "pygments_lexer": "ipython3",
   "version": "3.6.13"
  }
 },
 "nbformat": 4,
 "nbformat_minor": 5
}
