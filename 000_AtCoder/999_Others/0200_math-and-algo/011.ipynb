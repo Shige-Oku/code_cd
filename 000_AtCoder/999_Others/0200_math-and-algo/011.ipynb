{
 "cells": [
  {
   "cell_type": "code",
   "execution_count": 1,
   "id": "75a7d983-ab28-49de-9b3f-bdb361d3a38d",
   "metadata": {},
   "outputs": [
    {
     "name": "stdin",
     "output_type": "stream",
     "text": [
      " 10\n"
     ]
    }
   ],
   "source": [
    "N = int(input())"
   ]
  },
  {
   "cell_type": "code",
   "execution_count": 2,
   "id": "05e7f167-5214-48fd-8de4-0d2167ceca2c",
   "metadata": {},
   "outputs": [],
   "source": [
    "primes = []\n",
    "for i in range(2, N+1):\n",
    "    for prime in primes:\n",
    "        if i % prime == 0:\n",
    "            break\n",
    "    else:\n",
    "        primes.append(i)\n",
    "        "
   ]
  },
  {
   "cell_type": "code",
   "execution_count": 5,
   "id": "2cb2c69e-cb23-4026-a2cd-7941f9208cb8",
   "metadata": {},
   "outputs": [
    {
     "name": "stdout",
     "output_type": "stream",
     "text": [
      "2 3 5 7\n"
     ]
    }
   ],
   "source": [
    "print(*primes)"
   ]
  },
  {
   "cell_type": "code",
   "execution_count": null,
   "id": "2b9d77f1-3031-4355-8bc0-d0377e29f083",
   "metadata": {},
   "outputs": [],
   "source": []
  }
 ],
 "metadata": {
  "kernelspec": {
   "display_name": "Python 3",
   "language": "python",
   "name": "python3"
  },
  "language_info": {
   "codemirror_mode": {
    "name": "ipython",
    "version": 3
   },
   "file_extension": ".py",
   "mimetype": "text/x-python",
   "name": "python",
   "nbconvert_exporter": "python",
   "pygments_lexer": "ipython3",
   "version": "3.6.13"
  }
 },
 "nbformat": 4,
 "nbformat_minor": 5
}
