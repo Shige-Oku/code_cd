{
 "cells": [
  {
   "cell_type": "code",
   "execution_count": null,
   "id": "01b62736-4ac2-4bba-b995-b9f1d8d2b5af",
   "metadata": {},
   "outputs": [],
   "source": [
    "# TLE 部分点"
   ]
  },
  {
   "cell_type": "code",
   "execution_count": 31,
   "id": "69e6fef8-4cca-433d-aef3-acd4f3de7305",
   "metadata": {},
   "outputs": [
    {
     "name": "stdin",
     "output_type": "stream",
     "text": [
      " 4 11\n"
     ]
    }
   ],
   "source": [
    "N, S = map(int, input().split())"
   ]
  },
  {
   "cell_type": "code",
   "execution_count": 32,
   "id": "18ec2965-2442-47ba-b79d-12622143e827",
   "metadata": {},
   "outputs": [
    {
     "name": "stdin",
     "output_type": "stream",
     "text": [
      " 3 1 4 5\n"
     ]
    }
   ],
   "source": [
    "An = list(map(int, input().split()))"
   ]
  },
  {
   "cell_type": "code",
   "execution_count": 35,
   "id": "623378fa-8500-4892-8318-4eba0a65db79",
   "metadata": {},
   "outputs": [],
   "source": [
    "ans = False\n",
    "for i in range(2**N):\n",
    "    num = 0\n",
    "    for j in range(N):\n",
    "        if i & (1<<j):\n",
    "            num += An[j-1]\n",
    "    if num == S:\n",
    "        ans = True\n",
    "            "
   ]
  },
  {
   "cell_type": "code",
   "execution_count": 36,
   "id": "9dae6e89-0cf8-4981-b20b-8e9c77a5c62a",
   "metadata": {},
   "outputs": [
    {
     "name": "stdout",
     "output_type": "stream",
     "text": [
      "No\n"
     ]
    }
   ],
   "source": [
    "if ans:\n",
    "    print('Yes')\n",
    "else:\n",
    "    print('No')"
   ]
  },
  {
   "cell_type": "code",
   "execution_count": 17,
   "id": "5218fc30-fb16-4653-99b1-1bd728b36118",
   "metadata": {},
   "outputs": [
    {
     "data": {
      "text/plain": [
       "4"
      ]
     },
     "execution_count": 17,
     "metadata": {},
     "output_type": "execute_result"
    }
   ],
   "source": [
    "5 & 1<<2"
   ]
  },
  {
   "cell_type": "code",
   "execution_count": 25,
   "id": "494eab93-b926-459c-9f85-bc0f19c14cef",
   "metadata": {},
   "outputs": [
    {
     "data": {
      "text/plain": [
       "4"
      ]
     },
     "execution_count": 25,
     "metadata": {},
     "output_type": "execute_result"
    }
   ],
   "source": [
    "5 & 1<<2"
   ]
  },
  {
   "cell_type": "code",
   "execution_count": null,
   "id": "d2295a15-d4b4-4a8e-bb35-26c0d460b73f",
   "metadata": {},
   "outputs": [],
   "source": []
  }
 ],
 "metadata": {
  "kernelspec": {
   "display_name": "Python 3",
   "language": "python",
   "name": "python3"
  },
  "language_info": {
   "codemirror_mode": {
    "name": "ipython",
    "version": 3
   },
   "file_extension": ".py",
   "mimetype": "text/x-python",
   "name": "python",
   "nbconvert_exporter": "python",
   "pygments_lexer": "ipython3",
   "version": "3.6.13"
  }
 },
 "nbformat": 4,
 "nbformat_minor": 5
}
