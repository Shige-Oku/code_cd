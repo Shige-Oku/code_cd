{
 "cells": [
  {
   "cell_type": "code",
   "execution_count": 1,
   "id": "ce29b721-2ff6-4bd0-a543-e0d75614018b",
   "metadata": {},
   "outputs": [
    {
     "name": "stdin",
     "output_type": "stream",
     "text": [
      " 2\n"
     ]
    }
   ],
   "source": [
    "N = int(input())"
   ]
  },
  {
   "cell_type": "code",
   "execution_count": 14,
   "id": "2356f996-7d99-4dcb-9a07-7014f3630624",
   "metadata": {},
   "outputs": [
    {
     "name": "stdin",
     "output_type": "stream",
     "text": [
      " 1 2\n",
      " 10 20\n"
     ]
    }
   ],
   "source": [
    "X = [0 for _ in range(N)]\n",
    "Y = [0 for _ in range(N)]\n",
    "for i in range(N):\n",
    "    X[i], Y[i] = map(int, input().split())"
   ]
  },
  {
   "cell_type": "code",
   "execution_count": 16,
   "id": "bbfa6949-79d6-4c12-b4b9-3db04b76941b",
   "metadata": {},
   "outputs": [],
   "source": [
    "Xs = sorted(X)\n",
    "Ys = sorted(Y)"
   ]
  },
  {
   "cell_type": "code",
   "execution_count": 17,
   "id": "b3f568bb-825c-4c38-9604-f80aa765d474",
   "metadata": {},
   "outputs": [],
   "source": [
    "ans = 0\n",
    "xy1 = -N + 1\n",
    "for i, X in enumerate(Xs, 1):\n",
    "    ans += X * (xy1 + 2*(i-1))\n",
    "for i, Y in enumerate(Ys, 1):\n",
    "    ans += Y * (xy1 + 2*(i-1))\n"
   ]
  },
  {
   "cell_type": "code",
   "execution_count": 18,
   "id": "d53cdbbf-2559-4a70-80ce-60fc3aa6573c",
   "metadata": {},
   "outputs": [
    {
     "name": "stdout",
     "output_type": "stream",
     "text": [
      "27\n"
     ]
    }
   ],
   "source": [
    "print(ans)"
   ]
  },
  {
   "cell_type": "code",
   "execution_count": 6,
   "id": "14827ace-cfe9-4991-8394-48dd6206960b",
   "metadata": {},
   "outputs": [
    {
     "data": {
      "text/plain": [
       "([[1, 2], [10, 20]], [[1, 2], [10, 20]])"
      ]
     },
     "execution_count": 6,
     "metadata": {},
     "output_type": "execute_result"
    }
   ],
   "source": [
    "XYn_sx, XYn_sy"
   ]
  },
  {
   "cell_type": "code",
   "execution_count": null,
   "id": "a6c3e1e9-038c-4dcf-b1b1-0d9ac983f175",
   "metadata": {},
   "outputs": [],
   "source": [
    "# TLE"
   ]
  },
  {
   "cell_type": "code",
   "execution_count": 2,
   "id": "189f86b3-e0e4-45e0-ac04-2043b0892ded",
   "metadata": {},
   "outputs": [
    {
     "name": "stdin",
     "output_type": "stream",
     "text": [
      " 1 2\n",
      " 10 20\n"
     ]
    }
   ],
   "source": [
    "XYn = [list(map(int, input().split())) for _ in range(N)]"
   ]
  },
  {
   "cell_type": "code",
   "execution_count": 5,
   "id": "7ff5ae61-01f2-42e2-92d7-642c27fa3bb6",
   "metadata": {},
   "outputs": [],
   "source": [
    "XYn_sx = sorted(XYn)\n",
    "XYn_sy = sorted(XYn, key=lambda x: x[1])"
   ]
  },
  {
   "cell_type": "code",
   "execution_count": 8,
   "id": "dbc5d8c5-3dc0-4f65-ad6e-ea8b36cb7b7a",
   "metadata": {},
   "outputs": [],
   "source": [
    "ans = 0\n",
    "xy1 = -N + 1\n",
    "for i, (X, Y) in enumerate(XYn_sx, 1):\n",
    "    ans += X * (xy1 + 2*(i-1))\n",
    "for i, (X, Y) in enumerate(XYn_sy, 1):\n",
    "    ans += Y * (xy1 + 2*(i-1))\n"
   ]
  },
  {
   "cell_type": "code",
   "execution_count": null,
   "id": "2f58891a-a8a5-497b-843b-52bddee4f5e3",
   "metadata": {},
   "outputs": [],
   "source": []
  }
 ],
 "metadata": {
  "kernelspec": {
   "display_name": "Python 3",
   "language": "python",
   "name": "python3"
  },
  "language_info": {
   "codemirror_mode": {
    "name": "ipython",
    "version": 3
   },
   "file_extension": ".py",
   "mimetype": "text/x-python",
   "name": "python",
   "nbconvert_exporter": "python",
   "pygments_lexer": "ipython3",
   "version": "3.6.13"
  }
 },
 "nbformat": 4,
 "nbformat_minor": 5
}
