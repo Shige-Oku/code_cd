{
 "cells": [
  {
   "cell_type": "code",
   "execution_count": 13,
   "id": "ca356f6e-1043-439c-a07f-d0964c05d1a6",
   "metadata": {},
   "outputs": [
    {
     "name": "stdin",
     "output_type": "stream",
     "text": [
      " 100 160\n"
     ]
    }
   ],
   "source": [
    "N, X = map(int, input().split())"
   ]
  },
  {
   "cell_type": "code",
   "execution_count": 14,
   "id": "05e07600-e2e2-4b10-8d1b-ce7629b1c811",
   "metadata": {},
   "outputs": [],
   "source": [
    "ans = 0\n",
    "for a in range(1, N-1):\n",
    "    for b in range(a+1, N):\n",
    "        for c in range(b+1, N+1):\n",
    "            if a + b + c == X:\n",
    "                ans += 1"
   ]
  },
  {
   "cell_type": "code",
   "execution_count": 15,
   "id": "8242f79b-ac14-4596-a3cd-47f29f147927",
   "metadata": {},
   "outputs": [
    {
     "name": "stdout",
     "output_type": "stream",
     "text": [
      "1213\n"
     ]
    }
   ],
   "source": [
    "print(ans)"
   ]
  },
  {
   "cell_type": "code",
   "execution_count": null,
   "id": "bd6bcf08-6782-4d58-834c-0e622c6814d6",
   "metadata": {},
   "outputs": [],
   "source": []
  }
 ],
 "metadata": {
  "kernelspec": {
   "display_name": "Python 3",
   "language": "python",
   "name": "python3"
  },
  "language_info": {
   "codemirror_mode": {
    "name": "ipython",
    "version": 3
   },
   "file_extension": ".py",
   "mimetype": "text/x-python",
   "name": "python",
   "nbconvert_exporter": "python",
   "pygments_lexer": "ipython3",
   "version": "3.6.13"
  }
 },
 "nbformat": 4,
 "nbformat_minor": 5
}
