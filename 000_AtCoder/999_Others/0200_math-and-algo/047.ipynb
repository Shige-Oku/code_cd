{
 "cells": [
  {
   "cell_type": "code",
   "execution_count": 3,
   "id": "af0e98e9-4119-46e4-af1f-d5be43b220c3",
   "metadata": {},
   "outputs": [],
   "source": [
    "from collections import deque"
   ]
  },
  {
   "cell_type": "code",
   "execution_count": 1,
   "id": "aca87a7c-f5f8-4994-9218-54178bf3060d",
   "metadata": {},
   "outputs": [
    {
     "name": "stdin",
     "output_type": "stream",
     "text": [
      " 8 7\n"
     ]
    }
   ],
   "source": [
    "N, M = map(int, input().split())"
   ]
  },
  {
   "cell_type": "code",
   "execution_count": 2,
   "id": "1c758567-ded1-4e83-b16c-ddd6d434b14d",
   "metadata": {},
   "outputs": [
    {
     "name": "stdin",
     "output_type": "stream",
     "text": [
      " 1  5\n",
      " 1 6\n",
      " 2 7\n",
      " 3 7\n",
      " 4 6\n",
      " 5 8\n",
      " 6 8\n"
     ]
    }
   ],
   "source": [
    "ABn = [list(map(int, input().split())) for _ in range(M)]"
   ]
  },
  {
   "cell_type": "code",
   "execution_count": 5,
   "id": "ca5bb3af-bee9-4a5d-89e7-3195eea4d1c8",
   "metadata": {},
   "outputs": [],
   "source": [
    "graph = [[] for _ in range(N+1)]\n",
    "for A, B in ABn:\n",
    "    graph[A].append(B)\n",
    "    graph[B].append(A)"
   ]
  },
  {
   "cell_type": "code",
   "execution_count": 21,
   "id": "154ad064-5fc7-4529-8ed8-c14c1bf01ca8",
   "metadata": {},
   "outputs": [],
   "source": [
    "def bfs(n):\n",
    "    q = deque()\n",
    "    color[n] = 0\n",
    "    q.append(n)\n",
    "    while q:\n",
    "        p = q.popleft()\n",
    "        for g in graph[p]:\n",
    "            if color[g] != -1:\n",
    "                if (color[p] + 1) % 2 != color[g]:\n",
    "                    return False\n",
    "                continue\n",
    "            color[g] = (color[p] + 1) % 2\n",
    "            q.append(g)\n",
    "    return True"
   ]
  },
  {
   "cell_type": "code",
   "execution_count": 18,
   "id": "8fd4666a-8ca2-4cf3-a06a-a4a80c14a8b4",
   "metadata": {},
   "outputs": [
    {
     "name": "stdout",
     "output_type": "stream",
     "text": [
      "Yes\n"
     ]
    }
   ],
   "source": [
    "color = [-1] * (N+1)\n",
    "for i in range(1, N+1):\n",
    "    if color[i] == -1:\n",
    "        if not bfs(i):\n",
    "            print('No')\n",
    "            break\n",
    "else:\n",
    "    print('Yes')"
   ]
  },
  {
   "cell_type": "code",
   "execution_count": 19,
   "id": "184e14ff-8437-4951-a356-c6a1799a5fed",
   "metadata": {},
   "outputs": [
    {
     "name": "stdout",
     "output_type": "stream",
     "text": [
      "Yes\n"
     ]
    }
   ],
   "source": [
    "if flg:\n",
    "    print('Yes')\n",
    "else:\n",
    "    print('No')"
   ]
  },
  {
   "cell_type": "code",
   "execution_count": 20,
   "id": "286f1d0b-ff87-44e8-a9d2-5e551caf40aa",
   "metadata": {},
   "outputs": [
    {
     "data": {
      "text/plain": [
       "[-1, 0, 0, 0, 0, 1, 1, 0, 0]"
      ]
     },
     "execution_count": 20,
     "metadata": {},
     "output_type": "execute_result"
    }
   ],
   "source": [
    "color"
   ]
  },
  {
   "cell_type": "code",
   "execution_count": null,
   "id": "717fe1e4-6239-4854-80c5-7fede25a54f0",
   "metadata": {},
   "outputs": [],
   "source": []
  }
 ],
 "metadata": {
  "kernelspec": {
   "display_name": "Python 3",
   "language": "python",
   "name": "python3"
  },
  "language_info": {
   "codemirror_mode": {
    "name": "ipython",
    "version": 3
   },
   "file_extension": ".py",
   "mimetype": "text/x-python",
   "name": "python",
   "nbconvert_exporter": "python",
   "pygments_lexer": "ipython3",
   "version": "3.6.13"
  }
 },
 "nbformat": 4,
 "nbformat_minor": 5
}
