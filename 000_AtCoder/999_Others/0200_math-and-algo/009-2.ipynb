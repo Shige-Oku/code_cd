{
 "cells": [
  {
   "cell_type": "code",
   "execution_count": 10,
   "id": "f883195b-6866-42c5-8826-aa7bbf199598",
   "metadata": {},
   "outputs": [
    {
     "name": "stdin",
     "output_type": "stream",
     "text": [
      " 4 11\n"
     ]
    }
   ],
   "source": [
    "N, S = map(int, input().split())"
   ]
  },
  {
   "cell_type": "code",
   "execution_count": 11,
   "id": "27f56be9-6142-4788-b91d-755a2c4d4489",
   "metadata": {},
   "outputs": [
    {
     "name": "stdin",
     "output_type": "stream",
     "text": [
      " 3 1 4 5\n"
     ]
    }
   ],
   "source": [
    "An = list(map(int, input().split()))"
   ]
  },
  {
   "cell_type": "code",
   "execution_count": 12,
   "id": "f29824a9-68b5-457d-a06d-95831d64f0d6",
   "metadata": {},
   "outputs": [],
   "source": [
    "dp = [[False] * (S+1) for _ in range(N+1)]"
   ]
  },
  {
   "cell_type": "code",
   "execution_count": 15,
   "id": "b595a78b-bd79-4fa3-87e1-5b3950711cb6",
   "metadata": {},
   "outputs": [],
   "source": [
    "dp[0][0] = True\n",
    "for i in range(1, N+1):\n",
    "    for j in range(S+1):\n",
    "        dp[i][j] = dp[i-1][j]\n",
    "        if j >= An[i-1]:\n",
    "            dp[i][j] |= dp[i-1][j-An[i-1]]"
   ]
  },
  {
   "cell_type": "code",
   "execution_count": 16,
   "id": "8594a6c4-11ff-4884-8bfa-597dcecde8e8",
   "metadata": {},
   "outputs": [
    {
     "name": "stdout",
     "output_type": "stream",
     "text": [
      "No\n"
     ]
    }
   ],
   "source": [
    "if dp[N][S]:\n",
    "    print('Yes')\n",
    "else:\n",
    "    print('No')"
   ]
  },
  {
   "cell_type": "code",
   "execution_count": null,
   "id": "a8fa7d5d-a36e-41ff-a8bb-6baad03ec139",
   "metadata": {},
   "outputs": [],
   "source": []
  }
 ],
 "metadata": {
  "kernelspec": {
   "display_name": "Python 3",
   "language": "python",
   "name": "python3"
  },
  "language_info": {
   "codemirror_mode": {
    "name": "ipython",
    "version": 3
   },
   "file_extension": ".py",
   "mimetype": "text/x-python",
   "name": "python",
   "nbconvert_exporter": "python",
   "pygments_lexer": "ipython3",
   "version": "3.6.13"
  }
 },
 "nbformat": 4,
 "nbformat_minor": 5
}
