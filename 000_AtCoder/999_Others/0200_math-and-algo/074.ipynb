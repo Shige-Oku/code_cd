{
 "cells": [
  {
   "cell_type": "code",
   "execution_count": 1,
   "id": "2042e3f1-9296-4747-ad76-197941fa6a12",
   "metadata": {},
   "outputs": [
    {
     "name": "stdin",
     "output_type": "stream",
     "text": [
      " 3\n"
     ]
    }
   ],
   "source": [
    "N = int(input())"
   ]
  },
  {
   "cell_type": "code",
   "execution_count": 3,
   "id": "dd29dd43-f2c3-4c5e-bd5b-f5ca54c69ca6",
   "metadata": {},
   "outputs": [
    {
     "name": "stdin",
     "output_type": "stream",
     "text": [
      " 1 3 5\n"
     ]
    }
   ],
   "source": [
    "An = list(map(int, input().split()))"
   ]
  },
  {
   "cell_type": "code",
   "execution_count": 20,
   "id": "9a07e1e8-cdf5-45e4-a6f5-2ff927549814",
   "metadata": {},
   "outputs": [],
   "source": [
    "ans = 0\n",
    "for i, A in enumerate(An, 1):\n",
    "    ans += A * (-N + (2 * i) - 1)\n"
   ]
  },
  {
   "cell_type": "code",
   "execution_count": 21,
   "id": "ac5bb02b-a4f2-4085-83a6-6424f5819fbb",
   "metadata": {},
   "outputs": [
    {
     "name": "stdout",
     "output_type": "stream",
     "text": [
      "8\n"
     ]
    }
   ],
   "source": [
    "print(ans)"
   ]
  },
  {
   "cell_type": "code",
   "execution_count": 22,
   "id": "bc9bbbea-4716-46a6-8a20-3cf3cbfc4ca0",
   "metadata": {},
   "outputs": [],
   "source": [
    "ans = 0\n",
    "A1 = -N + 1\n",
    "for i, A in enumerate(An, 1):\n",
    "    ans += A * (A1 + 2 * (i - 1))"
   ]
  },
  {
   "cell_type": "code",
   "execution_count": 23,
   "id": "da3ceae7-3391-4094-a7f2-0a72e8ff6f09",
   "metadata": {},
   "outputs": [
    {
     "name": "stdout",
     "output_type": "stream",
     "text": [
      "8\n"
     ]
    }
   ],
   "source": [
    "print(ans)"
   ]
  },
  {
   "cell_type": "code",
   "execution_count": null,
   "id": "6187693d-634d-4f3a-8e09-35d73896fd66",
   "metadata": {},
   "outputs": [],
   "source": []
  }
 ],
 "metadata": {
  "kernelspec": {
   "display_name": "Python 3",
   "language": "python",
   "name": "python3"
  },
  "language_info": {
   "codemirror_mode": {
    "name": "ipython",
    "version": 3
   },
   "file_extension": ".py",
   "mimetype": "text/x-python",
   "name": "python",
   "nbconvert_exporter": "python",
   "pygments_lexer": "ipython3",
   "version": "3.6.13"
  }
 },
 "nbformat": 4,
 "nbformat_minor": 5
}
