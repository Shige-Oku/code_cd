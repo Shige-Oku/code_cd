{
 "cells": [
  {
   "cell_type": "code",
   "execution_count": 1,
   "id": "c798d786-064c-4a37-a605-979fa58734cc",
   "metadata": {},
   "outputs": [
    {
     "name": "stdin",
     "output_type": "stream",
     "text": [
      " 10 5\n"
     ]
    }
   ],
   "source": [
    "N, Q = map(int, input().split())"
   ]
  },
  {
   "cell_type": "code",
   "execution_count": 3,
   "id": "b9b6a096-76bd-4a80-ac6e-a0cf758aecbe",
   "metadata": {},
   "outputs": [
    {
     "name": "stdin",
     "output_type": "stream",
     "text": [
      " 8 6 9 1 2 1 10 100 1000 10000\n"
     ]
    }
   ],
   "source": [
    "An = list(map(int, input().split()))"
   ]
  },
  {
   "cell_type": "code",
   "execution_count": 4,
   "id": "13f008e0-d598-4b63-af54-e6f9957e3357",
   "metadata": {},
   "outputs": [
    {
     "name": "stdin",
     "output_type": "stream",
     "text": [
      " 2 3\n",
      " 1 4\n",
      " 3 9\n",
      " 6 8\n",
      " 1 10\n"
     ]
    }
   ],
   "source": [
    "LRn = [list(map(int, input().split())) for _ in range(Q)]"
   ]
  },
  {
   "cell_type": "code",
   "execution_count": 5,
   "id": "1c2fbbfa-ddba-4797-86f9-3a3810b8bf86",
   "metadata": {},
   "outputs": [],
   "source": [
    "cum = [0, ]\n",
    "for A in An:\n",
    "    cum.append(cum[-1]+A)"
   ]
  },
  {
   "cell_type": "code",
   "execution_count": 10,
   "id": "86b94093-c0d4-4521-8588-186fed980f65",
   "metadata": {},
   "outputs": [
    {
     "name": "stdout",
     "output_type": "stream",
     "text": [
      "15\n",
      "24\n",
      "1123\n",
      "111\n",
      "11137\n"
     ]
    }
   ],
   "source": [
    "for L, R in LRn:\n",
    "    print(cum[R]-cum[L-1])"
   ]
  },
  {
   "cell_type": "code",
   "execution_count": null,
   "id": "e0a7656d-71e9-4e57-aeb9-f5ce18a0789b",
   "metadata": {},
   "outputs": [],
   "source": []
  }
 ],
 "metadata": {
  "kernelspec": {
   "display_name": "Python 3",
   "language": "python",
   "name": "python3"
  },
  "language_info": {
   "codemirror_mode": {
    "name": "ipython",
    "version": 3
   },
   "file_extension": ".py",
   "mimetype": "text/x-python",
   "name": "python",
   "nbconvert_exporter": "python",
   "pygments_lexer": "ipython3",
   "version": "3.6.13"
  }
 },
 "nbformat": 4,
 "nbformat_minor": 5
}
