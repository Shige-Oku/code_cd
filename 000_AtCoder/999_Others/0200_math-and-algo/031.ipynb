{
 "cells": [
  {
   "cell_type": "code",
   "execution_count": 1,
   "id": "102b497f-5fde-4f9e-8baa-1d26cc3b46d2",
   "metadata": {},
   "outputs": [
    {
     "name": "stdin",
     "output_type": "stream",
     "text": [
      " 5\n"
     ]
    }
   ],
   "source": [
    "N = int(input())"
   ]
  },
  {
   "cell_type": "code",
   "execution_count": 2,
   "id": "03edb934-7a0e-4655-9d02-f723ba1711fa",
   "metadata": {},
   "outputs": [
    {
     "name": "stdin",
     "output_type": "stream",
     "text": [
      " 2 5 3 3 1\n"
     ]
    }
   ],
   "source": [
    "An = list(map(int, input().split()))"
   ]
  },
  {
   "cell_type": "code",
   "execution_count": 10,
   "id": "d291791c-d906-4f5d-aef7-d1060a7f006c",
   "metadata": {},
   "outputs": [],
   "source": [
    "dp = [[-1] * (N+1) for _ in range(2)]\n",
    "dp[0][0], dp[1][0] = 0, 0\n",
    "for i in range(1, N+1):\n",
    "    dp[0][i] = max(dp[0][i-1], dp[1][i-1])\n",
    "    dp[1][i] = dp[0][i-1] + An[i-1]"
   ]
  },
  {
   "cell_type": "code",
   "execution_count": 11,
   "id": "fab60cf1-ad91-4093-8dfc-25ad995eaa30",
   "metadata": {},
   "outputs": [
    {
     "name": "stdout",
     "output_type": "stream",
     "text": [
      "8\n"
     ]
    }
   ],
   "source": [
    "print(max(dp[0][N], dp[1][N]))"
   ]
  },
  {
   "cell_type": "code",
   "execution_count": 12,
   "id": "4eafa2d9-31c6-4ee6-824f-eec72cc10584",
   "metadata": {},
   "outputs": [
    {
     "data": {
      "text/plain": [
       "([[0, 0, 2, 5, 5, 8], [0, 2, 5, 5, 8, 6]], 5)"
      ]
     },
     "execution_count": 12,
     "metadata": {},
     "output_type": "execute_result"
    }
   ],
   "source": [
    "dp, i"
   ]
  },
  {
   "cell_type": "code",
   "execution_count": null,
   "id": "f2043cdf-08e0-4883-b888-4183d225e52d",
   "metadata": {},
   "outputs": [],
   "source": []
  }
 ],
 "metadata": {
  "kernelspec": {
   "display_name": "Python 3",
   "language": "python",
   "name": "python3"
  },
  "language_info": {
   "codemirror_mode": {
    "name": "ipython",
    "version": 3
   },
   "file_extension": ".py",
   "mimetype": "text/x-python",
   "name": "python",
   "nbconvert_exporter": "python",
   "pygments_lexer": "ipython3",
   "version": "3.6.13"
  }
 },
 "nbformat": 4,
 "nbformat_minor": 5
}
