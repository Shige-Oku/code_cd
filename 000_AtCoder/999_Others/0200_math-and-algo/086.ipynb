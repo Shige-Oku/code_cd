{
 "cells": [
  {
   "cell_type": "code",
   "execution_count": 2,
   "id": "e2e5e4cc-2490-4092-8ae1-bcd578803542",
   "metadata": {},
   "outputs": [
    {
     "name": "stdin",
     "output_type": "stream",
     "text": [
      " 6\n"
     ]
    }
   ],
   "source": [
    "N = int(input())"
   ]
  },
  {
   "cell_type": "code",
   "execution_count": 1,
   "id": "84e4d0f6-4bd5-4c5a-9941-62eb9b488d7b",
   "metadata": {},
   "outputs": [
    {
     "name": "stdin",
     "output_type": "stream",
     "text": [
      " (())((\n"
     ]
    }
   ],
   "source": [
    "S = input()"
   ]
  },
  {
   "cell_type": "code",
   "execution_count": 9,
   "id": "e6073424-b899-4aa9-b5c8-823f36560015",
   "metadata": {},
   "outputs": [],
   "source": [
    "cnt = 0\n",
    "for s in S:\n",
    "    if s == '(':\n",
    "        cnt += 1\n",
    "    else:\n",
    "        cnt -= 1\n",
    "        if cnt < 0:\n",
    "            break"
   ]
  },
  {
   "cell_type": "code",
   "execution_count": 10,
   "id": "f92886b8-7152-43bf-906d-e0682e3a9691",
   "metadata": {},
   "outputs": [
    {
     "name": "stdout",
     "output_type": "stream",
     "text": [
      "No\n"
     ]
    }
   ],
   "source": [
    "if cnt == 0:\n",
    "    print(\"Yes\")\n",
    "else:\n",
    "    print(\"No\")"
   ]
  },
  {
   "cell_type": "code",
   "execution_count": 17,
   "id": "a66cfb8c-a31f-47ac-be22-c6fd43a7c87b",
   "metadata": {},
   "outputs": [
    {
     "data": {
      "text/plain": [
       "2"
      ]
     },
     "execution_count": 17,
     "metadata": {},
     "output_type": "execute_result"
    }
   ],
   "source": [
    "cnt"
   ]
  },
  {
   "cell_type": "code",
   "execution_count": 3,
   "id": "0dd0f555-3efe-455a-9d4d-2408d3264d61",
   "metadata": {},
   "outputs": [],
   "source": [
    "from collections import deque"
   ]
  },
  {
   "cell_type": "code",
   "execution_count": 15,
   "id": "e1b22ce1-e015-46a2-82ee-c9d88515d5eb",
   "metadata": {},
   "outputs": [],
   "source": [
    "ans = True\n",
    "q = deque()\n",
    "for s in S:\n",
    "    if s == '(':\n",
    "        q.append('(')\n",
    "    else:\n",
    "        if len(q) < 1:\n",
    "            ans = False\n",
    "            break\n",
    "        q.popleft()\n",
    "else:\n",
    "    if len(q) != 0:\n",
    "        ans = False"
   ]
  },
  {
   "cell_type": "code",
   "execution_count": 16,
   "id": "c352f321-ff94-4741-b61d-c5b01dd04de8",
   "metadata": {},
   "outputs": [
    {
     "name": "stdout",
     "output_type": "stream",
     "text": [
      "No\n"
     ]
    }
   ],
   "source": [
    "if ans:\n",
    "    print(\"Yes\")\n",
    "else:\n",
    "    print(\"No\")"
   ]
  },
  {
   "cell_type": "code",
   "execution_count": 14,
   "id": "b5ca6243-0025-4039-b133-7422b01ba0c3",
   "metadata": {},
   "outputs": [
    {
     "data": {
      "text/plain": [
       "deque(['(', '('])"
      ]
     },
     "execution_count": 14,
     "metadata": {},
     "output_type": "execute_result"
    }
   ],
   "source": [
    "q"
   ]
  },
  {
   "cell_type": "code",
   "execution_count": null,
   "id": "741e0cd1-2dce-4036-95c7-a7c01edbb8d3",
   "metadata": {},
   "outputs": [],
   "source": []
  }
 ],
 "metadata": {
  "kernelspec": {
   "display_name": "Python 3",
   "language": "python",
   "name": "python3"
  },
  "language_info": {
   "codemirror_mode": {
    "name": "ipython",
    "version": 3
   },
   "file_extension": ".py",
   "mimetype": "text/x-python",
   "name": "python",
   "nbconvert_exporter": "python",
   "pygments_lexer": "ipython3",
   "version": "3.6.13"
  }
 },
 "nbformat": 4,
 "nbformat_minor": 5
}
