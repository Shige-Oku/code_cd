{
 "cells": [
  {
   "cell_type": "code",
   "execution_count": null,
   "id": "2294d4eb-0d60-49ad-96ab-f8f480dda7ad",
   "metadata": {},
   "outputs": [],
   "source": [
    "# TLE"
   ]
  },
  {
   "cell_type": "code",
   "execution_count": 7,
   "id": "8cdcc3d3-3071-4413-9463-ae3f3cd8475f",
   "metadata": {},
   "outputs": [],
   "source": [
    "import sys"
   ]
  },
  {
   "cell_type": "code",
   "execution_count": 1,
   "id": "f23a4702-04d3-4486-9417-d097068c810d",
   "metadata": {},
   "outputs": [
    {
     "name": "stdin",
     "output_type": "stream",
     "text": [
      " 3\n"
     ]
    }
   ],
   "source": [
    "N = int(input())"
   ]
  },
  {
   "cell_type": "code",
   "execution_count": 2,
   "id": "fdf19a46-6e8a-4403-99b7-5cb4a7b9e6f5",
   "metadata": {},
   "outputs": [
    {
     "name": "stdin",
     "output_type": "stream",
     "text": [
      " 12 18 14\n"
     ]
    }
   ],
   "source": [
    "An = list(map(int, input().split()))"
   ]
  },
  {
   "cell_type": "code",
   "execution_count": 18,
   "id": "25c3f318-4f89-4ec6-9861-bf4cab0553de",
   "metadata": {},
   "outputs": [],
   "source": [
    "def GCD(a, b):\n",
    "    if a == 0 or b == 0:\n",
    "        return max(a, b)\n",
    "    if a == 1 or b == 1:\n",
    "        return 1\n",
    "    return GCD(max(a, b)%min(a, b), min(a, b))"
   ]
  },
  {
   "cell_type": "code",
   "execution_count": 19,
   "id": "3b1537b7-4edd-4e59-aae2-5e36e2c36a5c",
   "metadata": {},
   "outputs": [],
   "source": [
    "sys.setrecursionlimit(10**7)\n",
    "g = An[0]\n",
    "for A in An:\n",
    "    g = GCD(g, A)"
   ]
  },
  {
   "cell_type": "code",
   "execution_count": 20,
   "id": "1f4fd6ef-f581-4a3c-bb6f-f7b59612a38e",
   "metadata": {},
   "outputs": [],
   "source": [
    "ans = An[0]\n",
    "for A in An[1:]:\n",
    "    ans = ans * A / g"
   ]
  },
  {
   "cell_type": "code",
   "execution_count": 21,
   "id": "6fe338ab-8ece-41f9-ad5c-236e107389b5",
   "metadata": {},
   "outputs": [
    {
     "name": "stdout",
     "output_type": "stream",
     "text": [
      "756\n"
     ]
    }
   ],
   "source": [
    "print(int(ans))"
   ]
  },
  {
   "cell_type": "code",
   "execution_count": 22,
   "id": "3103d458-acce-4f41-a049-afca5e0ae41c",
   "metadata": {},
   "outputs": [
    {
     "data": {
      "text/plain": [
       "2"
      ]
     },
     "execution_count": 22,
     "metadata": {},
     "output_type": "execute_result"
    }
   ],
   "source": [
    "g"
   ]
  },
  {
   "cell_type": "code",
   "execution_count": 23,
   "id": "76d5c6c6-1469-4327-ab8c-1310bfbca349",
   "metadata": {},
   "outputs": [],
   "source": [
    "sys.setrecursionlimit(10**7)\n",
    "ans = An[0]\n",
    "for A in An:\n",
    "    ans = ans * A / GCD(ans, A)"
   ]
  },
  {
   "cell_type": "code",
   "execution_count": null,
   "id": "38c8a586-3d1f-43ef-9eea-8e93d8f22fbe",
   "metadata": {},
   "outputs": [],
   "source": []
  }
 ],
 "metadata": {
  "kernelspec": {
   "display_name": "Python 3",
   "language": "python",
   "name": "python3"
  },
  "language_info": {
   "codemirror_mode": {
    "name": "ipython",
    "version": 3
   },
   "file_extension": ".py",
   "mimetype": "text/x-python",
   "name": "python",
   "nbconvert_exporter": "python",
   "pygments_lexer": "ipython3",
   "version": "3.6.13"
  }
 },
 "nbformat": 4,
 "nbformat_minor": 5
}
