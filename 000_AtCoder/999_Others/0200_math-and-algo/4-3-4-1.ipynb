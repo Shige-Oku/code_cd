{
 "cells": [
  {
   "cell_type": "code",
   "execution_count": 1,
   "id": "08777ef7-9e9a-426e-8c5c-7d80eea15c11",
   "metadata": {},
   "outputs": [],
   "source": [
    "r = 1000\n",
    "a = 2.0"
   ]
  },
  {
   "cell_type": "code",
   "execution_count": 2,
   "id": "18e779ec-a56f-4c07-a91e-4d3fb5a49980",
   "metadata": {},
   "outputs": [
    {
     "name": "stdout",
     "output_type": "stream",
     "text": [
      "Step:0, a:2.0 ->  1.9953125\n",
      "Step:1, a:1.9953125 ->  1.9952623206485205\n",
      "Step:2, a:1.9952623206485205 ->  1.9952623149688797\n",
      "Step:3, a:1.9952623149688797 ->  1.9952623149688797\n",
      "Step:4, a:1.9952623149688797 ->  1.9952623149688797\n"
     ]
    }
   ],
   "source": [
    "for i in range(5):\n",
    "    zahyou_x = a\n",
    "    zahyou_y = a ** 10\n",
    "    \n",
    "    sessen_a = 10 * (zahyou_x ** 9)\n",
    "    sessen_b = zahyou_y - sessen_a * zahyou_x\n",
    "    \n",
    "    next_a = (r - sessen_b) / sessen_a\n",
    "    print('Step:{0}, a:{1} ->  {2}'.format(i, a, next_a))\n",
    "    a = next_a"
   ]
  },
  {
   "cell_type": "code",
   "execution_count": 3,
   "id": "6d34b050-c418-4f06-b027-fb657bec0146",
   "metadata": {},
   "outputs": [
    {
     "data": {
      "text/plain": [
       "1000.0000000000007"
      ]
     },
     "execution_count": 3,
     "metadata": {},
     "output_type": "execute_result"
    }
   ],
   "source": [
    "1.9952623149688797**10"
   ]
  },
  {
   "cell_type": "code",
   "execution_count": null,
   "id": "85becd91-d908-4e95-8cba-2af736afc637",
   "metadata": {},
   "outputs": [],
   "source": []
  }
 ],
 "metadata": {
  "kernelspec": {
   "display_name": "Python 3",
   "language": "python",
   "name": "python3"
  },
  "language_info": {
   "codemirror_mode": {
    "name": "ipython",
    "version": 3
   },
   "file_extension": ".py",
   "mimetype": "text/x-python",
   "name": "python",
   "nbconvert_exporter": "python",
   "pygments_lexer": "ipython3",
   "version": "3.6.13"
  }
 },
 "nbformat": 4,
 "nbformat_minor": 5
}
