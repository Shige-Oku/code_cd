{
 "cells": [
  {
   "cell_type": "code",
   "execution_count": 1,
   "id": "9cd26524-d4c3-46f4-aa1e-ec0efcf22029",
   "metadata": {},
   "outputs": [
    {
     "name": "stdin",
     "output_type": "stream",
     "text": [
      " 29000\n"
     ]
    }
   ],
   "source": [
    "N = int(input())"
   ]
  },
  {
   "cell_type": "code",
   "execution_count": 3,
   "id": "c550ba98-406a-4ff4-8408-7629ca42da0e",
   "metadata": {},
   "outputs": [],
   "source": [
    "ans = 0\n",
    "q, m = divmod(N, 10000)\n",
    "ans += q\n",
    "q, m = divmod(m, 5000)\n",
    "ans += q\n",
    "q, m = divmod(m, 1000)\n",
    "ans += q"
   ]
  },
  {
   "cell_type": "code",
   "execution_count": 4,
   "id": "53dcedae-9c64-4054-8b3a-056ab4daecfb",
   "metadata": {},
   "outputs": [
    {
     "name": "stdout",
     "output_type": "stream",
     "text": [
      "7\n"
     ]
    }
   ],
   "source": [
    "print(ans)"
   ]
  },
  {
   "cell_type": "code",
   "execution_count": null,
   "id": "b84d90c1-debb-4769-ae67-aa48c9d9c2b2",
   "metadata": {},
   "outputs": [],
   "source": []
  }
 ],
 "metadata": {
  "kernelspec": {
   "display_name": "Python 3",
   "language": "python",
   "name": "python3"
  },
  "language_info": {
   "codemirror_mode": {
    "name": "ipython",
    "version": 3
   },
   "file_extension": ".py",
   "mimetype": "text/x-python",
   "name": "python",
   "nbconvert_exporter": "python",
   "pygments_lexer": "ipython3",
   "version": "3.6.13"
  }
 },
 "nbformat": 4,
 "nbformat_minor": 5
}
