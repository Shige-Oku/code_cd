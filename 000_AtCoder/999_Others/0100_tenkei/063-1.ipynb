{
 "cells": [
  {
   "cell_type": "code",
   "execution_count": null,
   "id": "257843ca-8326-41d3-be99-c7b8febd6010",
   "metadata": {},
   "outputs": [],
   "source": [
    "# 解説を読んで実装"
   ]
  },
  {
   "cell_type": "code",
   "execution_count": 1,
   "id": "8e576b21-b09e-4f8a-9b69-44f56a28fde8",
   "metadata": {},
   "outputs": [],
   "source": [
    "import sys\n",
    "import numpy as np\n",
    "import math\n",
    "import collections\n",
    "import copy\n",
    "import decimal\n",
    "import itertools\n",
    "import re\n",
    "import bisect\n",
    "import scipy\n",
    "import heapq\n",
    "from collections import deque \n",
    "from functools import reduce\n",
    "from itertools import product\n",
    "from itertools import combinations\n",
    "from itertools import chain\n",
    "from functools import lru_cache\n",
    "from scipy.special import comb\n",
    "from numba import njit\n",
    "from bisect import bisect_right\n",
    "from bisect import bisect_left"
   ]
  },
  {
   "cell_type": "code",
   "execution_count": 2,
   "id": "152249be-3da6-41c6-b1af-45bfda19d703",
   "metadata": {},
   "outputs": [
    {
     "name": "stdin",
     "output_type": "stream",
     "text": [
      " 4 6\n"
     ]
    }
   ],
   "source": [
    "H, W = map(int, input().split())"
   ]
  },
  {
   "cell_type": "code",
   "execution_count": 3,
   "id": "519c0cf7-61f3-40c8-b9bc-364a5e2f61d5",
   "metadata": {},
   "outputs": [
    {
     "name": "stdin",
     "output_type": "stream",
     "text": [
      " 1 1 1 1 1 2\n",
      " 1 2 2 2 2 2\n",
      " 1 2 2 3 2 3\n",
      " 1 2 3 2 2 3\n"
     ]
    }
   ],
   "source": [
    "Pn = [list(map(int, input().split())) for _ in range(H)]"
   ]
  },
  {
   "cell_type": "code",
   "execution_count": 47,
   "id": "1d59b520-0319-493e-a8e3-ab4b366dfc4d",
   "metadata": {},
   "outputs": [],
   "source": [
    "ans = 0\n",
    "for i in range(2**H):\n",
    "    c = []\n",
    "    for j in range(H):\n",
    "        if i & (1 << j) > 0:\n",
    "            c.append(Pn[j])\n",
    "    cn = []\n",
    "    for k in range(W):\n",
    "        num = 0\n",
    "        for l in range(len(c)-1):\n",
    "            if c[l][k] != c[l+1][k]:\n",
    "                break\n",
    "            num = c[l][k]\n",
    "        else:\n",
    "            if num > 0:\n",
    "                cn.append(num)\n",
    "    if len(c) == 1:\n",
    "        for n in c[0]:\n",
    "            cn.append(n)\n",
    "    cn_c = collections.Counter(cn)\n",
    "    cn_m = 0\n",
    "    for v in cn_c.values():\n",
    "        cn_m = max(cn_m ,v)\n",
    "    ans = max(ans, len(c)*cn_m)\n"
   ]
  },
  {
   "cell_type": "code",
   "execution_count": 48,
   "id": "0cfbbf40-3111-4a39-b15b-ab924762f0fb",
   "metadata": {},
   "outputs": [
    {
     "name": "stdout",
     "output_type": "stream",
     "text": [
      "6\n"
     ]
    }
   ],
   "source": [
    "print(ans)"
   ]
  },
  {
   "cell_type": "code",
   "execution_count": 4,
   "id": "d8cbf274-93ef-474a-8131-afc2cdfa22a6",
   "metadata": {},
   "outputs": [
    {
     "data": {
      "text/plain": [
       "4"
      ]
     },
     "execution_count": 4,
     "metadata": {},
     "output_type": "execute_result"
    }
   ],
   "source": [
    "1<<2"
   ]
  },
  {
   "cell_type": "code",
   "execution_count": 10,
   "id": "1079f460-be69-4611-a1db-43395ca5dbbd",
   "metadata": {},
   "outputs": [
    {
     "data": {
      "text/plain": [
       "0"
      ]
     },
     "execution_count": 10,
     "metadata": {},
     "output_type": "execute_result"
    }
   ],
   "source": [
    "2 & 1<<0"
   ]
  },
  {
   "cell_type": "code",
   "execution_count": 11,
   "id": "63b9caf9-74fc-4436-a3bd-454cd405a6d5",
   "metadata": {},
   "outputs": [
    {
     "data": {
      "text/plain": [
       "4"
      ]
     },
     "execution_count": 11,
     "metadata": {},
     "output_type": "execute_result"
    }
   ],
   "source": [
    "len(Pn)"
   ]
  },
  {
   "cell_type": "code",
   "execution_count": 18,
   "id": "bd5be2a4-8700-4b2b-9208-3d18b098084f",
   "metadata": {},
   "outputs": [
    {
     "data": {
      "text/plain": [
       "(32, 5, 5)"
      ]
     },
     "execution_count": 18,
     "metadata": {},
     "output_type": "execute_result"
    }
   ],
   "source": [
    "i, k, j"
   ]
  },
  {
   "cell_type": "code",
   "execution_count": 36,
   "id": "655da798-2539-4308-a6c1-7e5387fe9628",
   "metadata": {},
   "outputs": [
    {
     "data": {
      "text/plain": [
       "[[1, 1, 1, 1, 1, 2]]"
      ]
     },
     "execution_count": 36,
     "metadata": {},
     "output_type": "execute_result"
    }
   ],
   "source": [
    "c"
   ]
  },
  {
   "cell_type": "code",
   "execution_count": null,
   "id": "0a50caf4-9abc-4a2c-a9da-b38c8a90e0d2",
   "metadata": {},
   "outputs": [],
   "source": []
  },
  {
   "cell_type": "code",
   "execution_count": null,
   "id": "6d28141a-642b-4c9c-999f-f4dd5d71b2c8",
   "metadata": {},
   "outputs": [],
   "source": []
  }
 ],
 "metadata": {
  "kernelspec": {
   "display_name": "Python 3",
   "language": "python",
   "name": "python3"
  },
  "language_info": {
   "codemirror_mode": {
    "name": "ipython",
    "version": 3
   },
   "file_extension": ".py",
   "mimetype": "text/x-python",
   "name": "python",
   "nbconvert_exporter": "python",
   "pygments_lexer": "ipython3",
   "version": "3.6.13"
  }
 },
 "nbformat": 4,
 "nbformat_minor": 5
}
