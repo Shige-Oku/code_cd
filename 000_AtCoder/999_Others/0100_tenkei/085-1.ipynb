{
 "cells": [
  {
   "cell_type": "code",
   "execution_count": null,
   "id": "764e9c08-bf26-4353-9ec9-b330d7816486",
   "metadata": {},
   "outputs": [],
   "source": [
    "# 解説を読んで実装"
   ]
  },
  {
   "cell_type": "code",
   "execution_count": 9,
   "id": "ed154cd3-f49c-45d0-8229-e1c52d5e4c27",
   "metadata": {},
   "outputs": [],
   "source": [
    "import sys\n",
    "import numpy as np\n",
    "import math\n",
    "import collections\n",
    "import copy\n",
    "import decimal\n",
    "import itertools\n",
    "import re\n",
    "import bisect\n",
    "import scipy\n",
    "import heapq\n",
    "from collections import deque \n",
    "from functools import reduce\n",
    "from itertools import product\n",
    "from itertools import combinations\n",
    "from itertools import chain\n",
    "from functools import lru_cache\n",
    "from scipy.special import comb\n",
    "from numba import njit\n",
    "from bisect import bisect_right\n",
    "from bisect import bisect_left"
   ]
  },
  {
   "cell_type": "code",
   "execution_count": 15,
   "id": "6a69c593-695c-414a-abb9-fe33806bc4cf",
   "metadata": {},
   "outputs": [
    {
     "name": "stdin",
     "output_type": "stream",
     "text": [
      " 64\n"
     ]
    }
   ],
   "source": [
    "K = int(input())"
   ]
  },
  {
   "cell_type": "code",
   "execution_count": 22,
   "id": "6ba7e2ff-96cd-4270-8c1a-43aa3669aba0",
   "metadata": {},
   "outputs": [],
   "source": [
    "# 約数のリスト作成\n",
    "def get_divisor_list_without_sqrt(number):\n",
    "    number_sqrt = int(math.sqrt(number)) + 1\n",
    "    divisors = []\n",
    "    for i in range(1, int(number_sqrt)):\n",
    "        if number % i == 0:\n",
    "            # 割り切れたので約数\n",
    "            divisors.append(i)\n",
    "            if i ** 2 != number:\n",
    "                divisors.append(number // i)\n",
    "    return divisors"
   ]
  },
  {
   "cell_type": "code",
   "execution_count": 28,
   "id": "e78caa60-ec20-49d6-b777-f4a4616d17a8",
   "metadata": {},
   "outputs": [],
   "source": [
    "divisors = get_divisor_list_without_sqrt(K)\n",
    "divisors_s = sorted(divisors)"
   ]
  },
  {
   "cell_type": "code",
   "execution_count": 29,
   "id": "82a2013f-b455-464d-885b-d50d147b15c0",
   "metadata": {},
   "outputs": [],
   "source": [
    "# ans = len(divisors) // 2\n",
    "ans = 0\n",
    "for i in range(len(divisors_s)-2):\n",
    "    for j in range(i, len(divisors_s)-1):\n",
    "        q, m = divmod(K, divisors_s[i] * divisors_s[j])\n",
    "        if m == 0:\n",
    "            if q >= divisors_s[j]:\n",
    "                ans += 1\n"
   ]
  },
  {
   "cell_type": "code",
   "execution_count": 30,
   "id": "5d9205e0-fd65-432d-bcbe-29fa672af21d",
   "metadata": {},
   "outputs": [
    {
     "name": "stdout",
     "output_type": "stream",
     "text": [
      "7\n"
     ]
    }
   ],
   "source": [
    "if ans == 0:\n",
    "    print('1')\n",
    "else:\n",
    "    print(ans)"
   ]
  },
  {
   "cell_type": "code",
   "execution_count": 31,
   "id": "a5cb0230-6b3c-42b9-98fe-f766ad82c3a4",
   "metadata": {},
   "outputs": [
    {
     "name": "stdout",
     "output_type": "stream",
     "text": [
      "7\n"
     ]
    }
   ],
   "source": [
    "print(ans)"
   ]
  },
  {
   "cell_type": "code",
   "execution_count": 32,
   "id": "ebaa9a3f-318b-443e-959b-3027bdbbebca",
   "metadata": {},
   "outputs": [
    {
     "data": {
      "text/plain": [
       "[1, 2, 4, 8, 16, 32, 64]"
      ]
     },
     "execution_count": 32,
     "metadata": {},
     "output_type": "execute_result"
    }
   ],
   "source": [
    "divisors_s"
   ]
  },
  {
   "cell_type": "code",
   "execution_count": 3,
   "id": "425e4794-af3e-4887-b42e-ba45b63733af",
   "metadata": {},
   "outputs": [],
   "source": [
    "# 約数のリスト作成\n",
    "def get_divisor_list(number):\n",
    "    number_sqrt = int(np.sqrt(number)) + 1\n",
    "    divisors = []\n",
    "    for i in range(1, int(number_sqrt)):\n",
    "        if number % i == 0:\n",
    "            # 割り切れたので約数\n",
    "            divisors.append(i)\n",
    "            divisors.append(number // i)\n",
    "    return divisors"
   ]
  },
  {
   "cell_type": "code",
   "execution_count": 42,
   "id": "82ae2e29-6d08-4019-bfab-b4939f2b7c35",
   "metadata": {},
   "outputs": [
    {
     "data": {
      "text/plain": [
       "[1, 7]"
      ]
     },
     "execution_count": 42,
     "metadata": {},
     "output_type": "execute_result"
    }
   ],
   "source": [
    "divisors_s"
   ]
  },
  {
   "cell_type": "code",
   "execution_count": 27,
   "id": "1890d3e2-69d7-4338-8fdd-1f7942b372cf",
   "metadata": {},
   "outputs": [
    {
     "data": {
      "text/plain": [
       "7"
      ]
     },
     "execution_count": 27,
     "metadata": {},
     "output_type": "execute_result"
    }
   ],
   "source": [
    "len(divisors) // 2"
   ]
  },
  {
   "cell_type": "code",
   "execution_count": 33,
   "id": "4f3ddd90-976a-47b4-86f6-9bf180d453f7",
   "metadata": {},
   "outputs": [
    {
     "data": {
      "text/plain": [
       "1152921504606846976"
      ]
     },
     "execution_count": 33,
     "metadata": {},
     "output_type": "execute_result"
    }
   ],
   "source": [
    "2**60"
   ]
  },
  {
   "cell_type": "code",
   "execution_count": 1,
   "id": "0dcda11d-b570-41c5-818f-02ed969fb9c4",
   "metadata": {},
   "outputs": [
    {
     "data": {
      "text/plain": [
       "16"
      ]
     },
     "execution_count": 1,
     "metadata": {},
     "output_type": "execute_result"
    }
   ],
   "source": [
    "1 << 4"
   ]
  },
  {
   "cell_type": "code",
   "execution_count": 7,
   "id": "b8a08f2a-89f8-4e32-bc05-eaa405f98711",
   "metadata": {},
   "outputs": [
    {
     "data": {
      "text/plain": [
       "0"
      ]
     },
     "execution_count": 7,
     "metadata": {},
     "output_type": "execute_result"
    }
   ],
   "source": [
    "10 >> 0 & 1"
   ]
  },
  {
   "cell_type": "code",
   "execution_count": null,
   "id": "bfd2450a-54d3-478d-9b01-9469b4920805",
   "metadata": {},
   "outputs": [],
   "source": []
  }
 ],
 "metadata": {
  "kernelspec": {
   "display_name": "Python 3",
   "language": "python",
   "name": "python3"
  },
  "language_info": {
   "codemirror_mode": {
    "name": "ipython",
    "version": 3
   },
   "file_extension": ".py",
   "mimetype": "text/x-python",
   "name": "python",
   "nbconvert_exporter": "python",
   "pygments_lexer": "ipython3",
   "version": "3.6.13"
  }
 },
 "nbformat": 4,
 "nbformat_minor": 5
}
