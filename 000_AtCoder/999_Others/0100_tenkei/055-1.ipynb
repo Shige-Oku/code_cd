{
 "cells": [
  {
   "cell_type": "code",
   "execution_count": 1,
   "id": "d6c0b920-85d4-45fc-b9a3-6ac6bb29474c",
   "metadata": {},
   "outputs": [],
   "source": [
    "import sys\n",
    "import numpy as np\n",
    "import math\n",
    "import collections\n",
    "import copy\n",
    "import decimal\n",
    "import itertools\n",
    "import re\n",
    "import bisect\n",
    "import scipy\n",
    "import heapq\n",
    "from collections import deque \n",
    "from functools import reduce\n",
    "from itertools import product\n",
    "from itertools import combinations\n",
    "from itertools import chain\n",
    "from functools import lru_cache\n",
    "from scipy.special import comb\n",
    "from numba import njit\n",
    "from bisect import bisect_right\n",
    "from bisect import bisect_left"
   ]
  },
  {
   "cell_type": "code",
   "execution_count": 16,
   "id": "1b036a69-fddb-42fd-8f43-1fb197cb80cc",
   "metadata": {},
   "outputs": [
    {
     "name": "stdin",
     "output_type": "stream",
     "text": [
      " 6 7 1\n"
     ]
    }
   ],
   "source": [
    "N ,P, Q = map(int, input().split())"
   ]
  },
  {
   "cell_type": "code",
   "execution_count": 17,
   "id": "a15cf54d-5351-44c4-8906-a97de75f72ae",
   "metadata": {},
   "outputs": [
    {
     "name": "stdin",
     "output_type": "stream",
     "text": [
      " 1 2 3 4 5 6\n"
     ]
    }
   ],
   "source": [
    "An = list(map(int, input().split()))"
   ]
  },
  {
   "cell_type": "code",
   "execution_count": 18,
   "id": "a6157ef7-efdf-4801-8bbf-c4586ecfe835",
   "metadata": {},
   "outputs": [],
   "source": [
    "An_m = []\n",
    "for A in An:\n",
    "    An_m.append(A%P)"
   ]
  },
  {
   "cell_type": "code",
   "execution_count": 24,
   "id": "60b2aac2-ca16-4a3e-9c25-00cdb96837bf",
   "metadata": {},
   "outputs": [],
   "source": [
    "ans = 0\n",
    "for i in range(N-4):\n",
    "    for j in range(i+1, N-3):\n",
    "        for k in range(j+1, N-2):\n",
    "            for l in range(k+1, N-1):\n",
    "                for m in range(l+1, N):                                                       \n",
    "                    if An_m[i] * An_m[j] % P * An_m[k] % P * An_m[l] % P * An_m[m] % P == Q:\n",
    "                        ans += 1"
   ]
  },
  {
   "cell_type": "code",
   "execution_count": 25,
   "id": "865b31c7-731a-46dc-8bdb-b8d42571b69f",
   "metadata": {},
   "outputs": [
    {
     "name": "stdout",
     "output_type": "stream",
     "text": [
      "1\n"
     ]
    }
   ],
   "source": [
    "print(ans)"
   ]
  },
  {
   "cell_type": "code",
   "execution_count": 26,
   "id": "af1f22c4-ad24-4d08-a7e9-2620601f5adb",
   "metadata": {},
   "outputs": [],
   "source": [
    "ans = 0\n",
    "for i in range(N-4):\n",
    "    for j in range(i+1, N-3):\n",
    "        for k in range(j+1, N-2):\n",
    "            for l in range(k+1, N-1):\n",
    "                for m in range(l+1, N):                                                       \n",
    "                    if An[i] % P * An[j] % P * An[k] % P * An[l] % P * An[m] % P == Q:\n",
    "                        ans += 1"
   ]
  },
  {
   "cell_type": "code",
   "execution_count": 27,
   "id": "9cc9edfa-83f9-4a01-b06f-7c8ec966798c",
   "metadata": {},
   "outputs": [
    {
     "name": "stdout",
     "output_type": "stream",
     "text": [
      "1\n"
     ]
    }
   ],
   "source": [
    "print(ans)"
   ]
  },
  {
   "cell_type": "code",
   "execution_count": 19,
   "id": "4fc75059-2ef6-4c8e-88fe-30cae471476b",
   "metadata": {},
   "outputs": [
    {
     "data": {
      "text/plain": [
       "[1, 2, 3, 4, 5, 6]"
      ]
     },
     "execution_count": 19,
     "metadata": {},
     "output_type": "execute_result"
    }
   ],
   "source": [
    "An_m"
   ]
  },
  {
   "cell_type": "code",
   "execution_count": 22,
   "id": "046b6b3b-37b0-4e8a-bd1d-6bcb2207fc83",
   "metadata": {},
   "outputs": [
    {
     "data": {
      "text/plain": [
       "10000000000"
      ]
     },
     "execution_count": 22,
     "metadata": {},
     "output_type": "execute_result"
    }
   ],
   "source": [
    "100**5"
   ]
  },
  {
   "cell_type": "code",
   "execution_count": null,
   "id": "e2c0e51a-6c96-4aae-9091-3635fe6e6e2d",
   "metadata": {},
   "outputs": [],
   "source": []
  }
 ],
 "metadata": {
  "kernelspec": {
   "display_name": "Python 3",
   "language": "python",
   "name": "python3"
  },
  "language_info": {
   "codemirror_mode": {
    "name": "ipython",
    "version": 3
   },
   "file_extension": ".py",
   "mimetype": "text/x-python",
   "name": "python",
   "nbconvert_exporter": "python",
   "pygments_lexer": "ipython3",
   "version": "3.6.13"
  }
 },
 "nbformat": 4,
 "nbformat_minor": 5
}
