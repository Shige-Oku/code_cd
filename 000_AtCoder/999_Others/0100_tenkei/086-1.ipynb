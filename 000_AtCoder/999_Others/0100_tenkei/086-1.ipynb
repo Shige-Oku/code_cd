{
 "cells": [
  {
   "cell_type": "code",
   "execution_count": null,
   "id": "56ed8ce1-b7bf-4593-8ab8-2a9d38b8531c",
   "metadata": {},
   "outputs": [],
   "source": [
    "# 解説を読んで実装"
   ]
  },
  {
   "cell_type": "code",
   "execution_count": 1,
   "id": "efefc116-4478-40c8-a387-6c6c116c9a2d",
   "metadata": {},
   "outputs": [],
   "source": [
    "import sys\n",
    "import numpy as np\n",
    "import math\n",
    "import collections\n",
    "import copy\n",
    "import decimal\n",
    "import itertools\n",
    "import re\n",
    "import bisect\n",
    "import scipy\n",
    "import heapq\n",
    "from collections import deque \n",
    "from functools import reduce\n",
    "from itertools import product\n",
    "from itertools import combinations\n",
    "from itertools import chain\n",
    "from functools import lru_cache\n",
    "from scipy.special import comb\n",
    "from numba import njit\n",
    "from bisect import bisect_right\n",
    "from bisect import bisect_left"
   ]
  },
  {
   "cell_type": "code",
   "execution_count": 35,
   "id": "6bcfc2c3-13ae-4d8e-b3a6-302e93cf4f6c",
   "metadata": {},
   "outputs": [
    {
     "name": "stdin",
     "output_type": "stream",
     "text": [
      " 8 2\n"
     ]
    }
   ],
   "source": [
    "N, Q = map(int, input().split())"
   ]
  },
  {
   "cell_type": "code",
   "execution_count": 42,
   "id": "b3740c72-efb1-450b-8087-388d9d53b61b",
   "metadata": {},
   "outputs": [
    {
     "name": "stdin",
     "output_type": "stream",
     "text": [
      " 2 3 6 1152886174205865983\n",
      " 1 2 8 1116611213275394047\n"
     ]
    }
   ],
   "source": [
    "XYZW = [list(map(int, input().split())) for _ in range(Q)]"
   ]
  },
  {
   "cell_type": "code",
   "execution_count": 43,
   "id": "3d96c90e-eaa9-4e6f-a10c-1d22ed747627",
   "metadata": {},
   "outputs": [],
   "source": [
    "ans = 1\n",
    "for b in range(60):\n",
    "    cnt = 0\n",
    "    for p in range(2**N):\n",
    "        flg = [False] * (N)\n",
    "        for i in range(N):\n",
    "            if p >> i & 1:\n",
    "                flg[i] = True\n",
    "        for x, y, z, w in XYZW:\n",
    "            if (flg[x-1] | flg[y-1] | flg[z-1]) != ((w >> b) & 1):\n",
    "                break\n",
    "        else:\n",
    "            cnt += 1\n",
    "    ans *= cnt\n",
    "    ans %= 10**9 + 7"
   ]
  },
  {
   "cell_type": "code",
   "execution_count": 44,
   "id": "4682024f-6128-42c4-a966-b7c77075f0d3",
   "metadata": {},
   "outputs": [
    {
     "name": "stdout",
     "output_type": "stream",
     "text": [
      "395781543\n"
     ]
    }
   ],
   "source": [
    "print(ans)"
   ]
  },
  {
   "cell_type": "code",
   "execution_count": 28,
   "id": "6f857c5f-0bd5-4065-88f4-89a6360ff125",
   "metadata": {},
   "outputs": [
    {
     "name": "stdout",
     "output_type": "stream",
     "text": [
      "13\n"
     ]
    }
   ],
   "source": [
    "ans = 1\n",
    "mod = 10**9 + 7\n",
    "for bits in range(60):\n",
    "    cnt = 0\n",
    "    for i in range(2**N):\n",
    "        ls = [0]*(N)\n",
    "        for j in range(N):\n",
    "            if (i>>j) & 1:\n",
    "                ls[j] = 1\n",
    "        f = True\n",
    "        for q in range(Q):\n",
    "            x,y,z,w = XYZQ[q]\n",
    "            if (ls[x-1] | ls[y-1] | ls[z-1]) != ((w >> bits)&1):\n",
    "                f = False\n",
    "                break\n",
    "        if f:\n",
    "            cnt += 1\n",
    "    ans *= cnt\n",
    "    ans %= mod\n",
    "print(ans)"
   ]
  },
  {
   "cell_type": "code",
   "execution_count": null,
   "id": "775d4620-7ed9-40b1-bd90-ab6e2a84011e",
   "metadata": {},
   "outputs": [],
   "source": []
  }
 ],
 "metadata": {
  "kernelspec": {
   "display_name": "Python 3",
   "language": "python",
   "name": "python3"
  },
  "language_info": {
   "codemirror_mode": {
    "name": "ipython",
    "version": 3
   },
   "file_extension": ".py",
   "mimetype": "text/x-python",
   "name": "python",
   "nbconvert_exporter": "python",
   "pygments_lexer": "ipython3",
   "version": "3.6.13"
  }
 },
 "nbformat": 4,
 "nbformat_minor": 5
}
