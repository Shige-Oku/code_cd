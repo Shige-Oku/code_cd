{
 "cells": [
  {
   "cell_type": "code",
   "execution_count": null,
   "id": "ca5fed2f-b962-4a9d-bee7-7eb4aae04f96",
   "metadata": {},
   "outputs": [],
   "source": [
    "# 解説を読んで実装"
   ]
  },
  {
   "cell_type": "code",
   "execution_count": 1,
   "id": "2b940c98-a045-4c86-a0c7-77b811b7fdc7",
   "metadata": {},
   "outputs": [],
   "source": [
    "import sys\n",
    "import numpy as np\n",
    "import math\n",
    "import collections\n",
    "import copy\n",
    "import decimal\n",
    "import itertools\n",
    "import re\n",
    "import bisect\n",
    "import scipy\n",
    "import heapq\n",
    "from collections import deque \n",
    "from functools import reduce\n",
    "from itertools import product\n",
    "from itertools import combinations\n",
    "from itertools import chain\n",
    "from functools import lru_cache\n",
    "from scipy.special import comb\n",
    "from numba import njit\n",
    "from bisect import bisect_right\n",
    "from bisect import bisect_left"
   ]
  },
  {
   "cell_type": "code",
   "execution_count": 28,
   "id": "f9d3d33d-97d6-4855-b6a1-48aaf485a721",
   "metadata": {},
   "outputs": [],
   "source": [
    "sys.setrecursionlimit(10**7)"
   ]
  },
  {
   "cell_type": "code",
   "execution_count": 39,
   "id": "03500fd3-f4e0-445c-845a-babffffd109e",
   "metadata": {},
   "outputs": [
    {
     "name": "stdin",
     "output_type": "stream",
     "text": [
      " 100 1\n"
     ]
    }
   ],
   "source": [
    "N, M = map(int, input().split())"
   ]
  },
  {
   "cell_type": "code",
   "execution_count": 40,
   "id": "8711442d-0b05-44ba-9b33-a1d59181000d",
   "metadata": {},
   "outputs": [
    {
     "name": "stdin",
     "output_type": "stream",
     "text": [
      " 1 2\n"
     ]
    }
   ],
   "source": [
    "AB = [list(map(int, input().split())) for _ in range(M)]"
   ]
  },
  {
   "cell_type": "code",
   "execution_count": 70,
   "id": "f532bf18-af08-40fa-a5ec-35ede18cc17f",
   "metadata": {},
   "outputs": [],
   "source": [
    "graph1 = [[] for _ in range(N+1)]\n",
    "graph2 = [[] for _ in range(N+1)]\n",
    "for A, B in AB:\n",
    "    graph1[A].append(B)\n",
    "    graph2[B].append(A)"
   ]
  },
  {
   "cell_type": "code",
   "execution_count": 84,
   "id": "d3bd75c0-fb21-4463-beaa-34191847e1aa",
   "metadata": {},
   "outputs": [],
   "source": [
    "def DFS(graph, n, visit, dist):\n",
    "    global val\n",
    "    visit[n] = True\n",
    "    if len(graph[n]) == 0:\n",
    "        val += 1\n",
    "        dist[n] = val\n",
    "        return\n",
    "    for p in graph[n]:\n",
    "        if visit[p]:\n",
    "            continue\n",
    "        DFS(graph, p, visit, dist)\n",
    "    val += 1\n",
    "    dist[n] = val"
   ]
  },
  {
   "cell_type": "code",
   "execution_count": 81,
   "id": "2237865e-aad3-468a-8902-c638bdcb483b",
   "metadata": {},
   "outputs": [
    {
     "name": "stdout",
     "output_type": "stream",
     "text": [
      "1\n",
      "2\n"
     ]
    }
   ],
   "source": [
    "dist1 = [-1] * (N+1)\n",
    "visit1 = [False] * (N+1)\n",
    "val = 0\n",
    "DFS(graph1, 1, visit1, dist1)"
   ]
  },
  {
   "cell_type": "code",
   "execution_count": 82,
   "id": "7e28e84f-9a9d-40fd-ae2c-7afe0ff628fe",
   "metadata": {},
   "outputs": [
    {
     "name": "stdout",
     "output_type": "stream",
     "text": [
      "1\n",
      "1 1\n",
      "2\n",
      "2 1\n"
     ]
    }
   ],
   "source": [
    "dist2 = [-1] * (N+1)\n",
    "visit2 = [False] * (N+1)\n",
    "ans = 0\n",
    "for i in range(1, N+1):\n",
    "    if visit2[i]:\n",
    "        continue\n",
    "    s = 0\n",
    "    m = 0\n",
    "    for j in range(i, i+1):\n",
    "        if dist1[i] > m:\n",
    "            s = i\n",
    "            m = dist1[i]\n",
    "    if s == 0:\n",
    "        continue\n",
    "    val = 0\n",
    "    DFS(graph2, s, visit2, dist2)\n",
    "#     print(s, val)\n",
    "    ans += val * (val-1) // 2\n"
   ]
  },
  {
   "cell_type": "code",
   "execution_count": 83,
   "id": "c1a97a8c-9704-44b9-a8d5-200eac661bc7",
   "metadata": {},
   "outputs": [
    {
     "name": "stdout",
     "output_type": "stream",
     "text": [
      "0\n"
     ]
    }
   ],
   "source": [
    "print(ans)"
   ]
  },
  {
   "cell_type": "code",
   "execution_count": 75,
   "id": "7644fe03-493d-43f7-ad70-d732476b4ac1",
   "metadata": {},
   "outputs": [
    {
     "data": {
      "text/plain": [
       "([-1, 2, 1, -1, -1, -1, -1, -1, -1, -1],\n",
       " [False, True, False, False, False, False, False, False, False, False])"
      ]
     },
     "execution_count": 75,
     "metadata": {},
     "output_type": "execute_result"
    }
   ],
   "source": [
    "dist1[:10], visit1[:10]"
   ]
  },
  {
   "cell_type": "code",
   "execution_count": 76,
   "id": "31f0aff5-5008-4aba-9717-f28a29af5b06",
   "metadata": {},
   "outputs": [
    {
     "data": {
      "text/plain": [
       "([-1, 1, 2, -1, -1, -1, -1, -1, -1, -1],\n",
       " [False, False, True, False, False, False, False, False, False, False])"
      ]
     },
     "execution_count": 76,
     "metadata": {},
     "output_type": "execute_result"
    }
   ],
   "source": [
    "dist2[:10], visit2[:10]"
   ]
  },
  {
   "cell_type": "code",
   "execution_count": 77,
   "id": "73b8ef1d-11fa-4937-a100-1c57a8cc6fd1",
   "metadata": {},
   "outputs": [
    {
     "data": {
      "text/plain": [
       "([[], [2], []], [[], [], [1]])"
      ]
     },
     "execution_count": 77,
     "metadata": {},
     "output_type": "execute_result"
    }
   ],
   "source": [
    "graph1[:3], graph2[:3]"
   ]
  },
  {
   "cell_type": "code",
   "execution_count": null,
   "id": "29bba6b6-d763-4837-8ec1-683348363e58",
   "metadata": {},
   "outputs": [],
   "source": []
  }
 ],
 "metadata": {
  "kernelspec": {
   "display_name": "Python 3",
   "language": "python",
   "name": "python3"
  },
  "language_info": {
   "codemirror_mode": {
    "name": "ipython",
    "version": 3
   },
   "file_extension": ".py",
   "mimetype": "text/x-python",
   "name": "python",
   "nbconvert_exporter": "python",
   "pygments_lexer": "ipython3",
   "version": "3.6.13"
  }
 },
 "nbformat": 4,
 "nbformat_minor": 5
}
