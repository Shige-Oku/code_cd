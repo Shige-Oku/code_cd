{
 "cells": [
  {
   "cell_type": "code",
   "execution_count": null,
   "id": "461292dc-fed8-4bf0-89fa-09ede6e5f57e",
   "metadata": {},
   "outputs": [],
   "source": [
    "# サンプルが合わない"
   ]
  },
  {
   "cell_type": "code",
   "execution_count": 1,
   "id": "06a864b6-3b86-4c9a-9afd-de674a97fe7d",
   "metadata": {},
   "outputs": [],
   "source": [
    "import sys\n",
    "import numpy as np\n",
    "import math\n",
    "import collections\n",
    "import copy\n",
    "import decimal\n",
    "import itertools\n",
    "import re\n",
    "import bisect\n",
    "import scipy\n",
    "import heapq\n",
    "from collections import deque \n",
    "from functools import reduce\n",
    "from itertools import product\n",
    "from itertools import combinations\n",
    "from itertools import chain\n",
    "from functools import lru_cache\n",
    "from scipy.special import comb\n",
    "from numba import njit\n",
    "from bisect import bisect_right\n",
    "from bisect import bisect_left"
   ]
  },
  {
   "cell_type": "code",
   "execution_count": 3,
   "id": "bedde242-1038-4c4d-9bfe-ec73ad2306c1",
   "metadata": {},
   "outputs": [
    {
     "name": "stdin",
     "output_type": "stream",
     "text": [
      " 4 7\n"
     ]
    }
   ],
   "source": [
    "N, M = map(int, input().split())"
   ]
  },
  {
   "cell_type": "code",
   "execution_count": 4,
   "id": "e1e47bbd-e20b-4804-b55c-c9fb35f51fbb",
   "metadata": {},
   "outputs": [
    {
     "name": "stdin",
     "output_type": "stream",
     "text": [
      " 1 2\n",
      " 2 1\n",
      " 2 3\n",
      " 4 3\n",
      " 4 1\n",
      " 1 4\n",
      " 2 3\n"
     ]
    }
   ],
   "source": [
    "AB = [list(map(int, input().split())) for _ in range(M)]"
   ]
  },
  {
   "cell_type": "code",
   "execution_count": 5,
   "id": "a086c74c-c045-419e-9431-01d70f2412fa",
   "metadata": {},
   "outputs": [],
   "source": [
    "graph = [[] for _ in range(N+1)]\n",
    "for A, B in AB:\n",
    "    graph[A].append(B)"
   ]
  },
  {
   "cell_type": "code",
   "execution_count": 15,
   "id": "1d793d57-745a-423a-9001-436295ec8f98",
   "metadata": {},
   "outputs": [],
   "source": [
    "def solve(n, dist):\n",
    "    visit = [False] * (N+1)\n",
    "    q = deque()\n",
    "    q.append(n)\n",
    "    dist[n] = 0\n",
    "    while q:\n",
    "        p = q.popleft()\n",
    "        visit[p] = True\n",
    "        for p2 in graph[p]:\n",
    "            if visit[p2]:\n",
    "                continue\n",
    "            if dist[p2] != -1:\n",
    "                continue\n",
    "            q.append(p2)\n",
    "            dist[p2] = dist[p] + 1\n",
    "    \n",
    "    return"
   ]
  },
  {
   "cell_type": "code",
   "execution_count": 16,
   "id": "5f938c33-adc5-4d69-92d8-bebc9cd11fa9",
   "metadata": {},
   "outputs": [],
   "source": [
    "dist1 = [-1] * (N+1)\n",
    "solve(1, dist1)\n",
    "dist2 = [-1] * (N+1)\n",
    "solve(N, dist2)\n"
   ]
  },
  {
   "cell_type": "code",
   "execution_count": 17,
   "id": "109a9878-a69d-4f9f-804c-5d7ccfc61f3b",
   "metadata": {},
   "outputs": [
    {
     "data": {
      "text/plain": [
       "([-1, 0, 1, 2, 1], [-1, 1, 2, 1, 0])"
      ]
     },
     "execution_count": 17,
     "metadata": {},
     "output_type": "execute_result"
    }
   ],
   "source": [
    "dist1, dist2"
   ]
  },
  {
   "cell_type": "code",
   "execution_count": 18,
   "id": "899a7af6-d0ac-4268-870c-50adfac68eb8",
   "metadata": {},
   "outputs": [
    {
     "data": {
      "text/plain": [
       "[[], [2, 4], [1, 3, 3], [], [3, 1]]"
      ]
     },
     "execution_count": 18,
     "metadata": {},
     "output_type": "execute_result"
    }
   ],
   "source": [
    "graph"
   ]
  },
  {
   "cell_type": "code",
   "execution_count": 9,
   "id": "74978a65-5cba-4f21-bbed-036be17d7435",
   "metadata": {},
   "outputs": [
    {
     "data": {
      "text/plain": [
       "[-1, 5, -1, -1, -1]"
      ]
     },
     "execution_count": 9,
     "metadata": {},
     "output_type": "execute_result"
    }
   ],
   "source": []
  },
  {
   "cell_type": "code",
   "execution_count": null,
   "id": "07103b37-80cf-460e-b3ed-bfc23d634d8c",
   "metadata": {},
   "outputs": [],
   "source": []
  }
 ],
 "metadata": {
  "kernelspec": {
   "display_name": "Python 3",
   "language": "python",
   "name": "python3"
  },
  "language_info": {
   "codemirror_mode": {
    "name": "ipython",
    "version": 3
   },
   "file_extension": ".py",
   "mimetype": "text/x-python",
   "name": "python",
   "nbconvert_exporter": "python",
   "pygments_lexer": "ipython3",
   "version": "3.6.13"
  }
 },
 "nbformat": 4,
 "nbformat_minor": 5
}
