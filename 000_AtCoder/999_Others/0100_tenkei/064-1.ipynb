{
 "cells": [
  {
   "cell_type": "code",
   "execution_count": 1,
   "id": "b5f5f6fa-e138-4383-9927-7ed56aa6276a",
   "metadata": {},
   "outputs": [],
   "source": [
    "import sys\n",
    "import numpy as np\n",
    "import math\n",
    "import collections\n",
    "import copy\n",
    "import decimal\n",
    "import itertools\n",
    "import re\n",
    "import bisect\n",
    "import scipy\n",
    "import heapq\n",
    "from collections import deque \n",
    "from functools import reduce\n",
    "from itertools import product\n",
    "from itertools import combinations\n",
    "from itertools import chain\n",
    "from functools import lru_cache\n",
    "from scipy.special import comb\n",
    "from numba import njit\n",
    "from bisect import bisect_right\n",
    "from bisect import bisect_left"
   ]
  },
  {
   "cell_type": "code",
   "execution_count": 15,
   "id": "ccb76432-5a9a-4642-aebb-05d7f1ace65c",
   "metadata": {},
   "outputs": [
    {
     "name": "stdin",
     "output_type": "stream",
     "text": [
      " 20 10\n"
     ]
    }
   ],
   "source": [
    "N, Q = map(int, input().split())"
   ]
  },
  {
   "cell_type": "code",
   "execution_count": 16,
   "id": "e58f5ee6-c689-4d93-89af-847e0dd94a7a",
   "metadata": {},
   "outputs": [
    {
     "name": "stdin",
     "output_type": "stream",
     "text": [
      " 61 51 92 -100 -89 -65 -89 -64 -74 7 87 -2 51 -39 -50 63 -23 36 74 37\n"
     ]
    }
   ],
   "source": [
    "An = list(map(int, input().split()))"
   ]
  },
  {
   "cell_type": "code",
   "execution_count": 17,
   "id": "ea800faa-dc31-43ab-a39a-3419f4a95d91",
   "metadata": {},
   "outputs": [
    {
     "name": "stdin",
     "output_type": "stream",
     "text": [
      " 2 2 -45\n",
      " 6 19 82\n",
      " 2 9 36\n",
      " 7 13 71\n",
      " 16 20 90\n",
      " 18 20 -24\n",
      " 14 17 -78\n",
      " 10 11 -55\n",
      " 7 19 -26\n",
      " 20 20 -7\n"
     ]
    }
   ],
   "source": [
    "LRV = [list(map(int, input().split())) for _ in range(Q)]"
   ]
  },
  {
   "cell_type": "code",
   "execution_count": 30,
   "id": "9843a8d2-9631-4189-b643-774a9c5919cb",
   "metadata": {},
   "outputs": [],
   "source": [
    "cost = 0\n",
    "for i in range(1, N):\n",
    "    cost += abs(An[i-1]-An[i])"
   ]
  },
  {
   "cell_type": "code",
   "execution_count": 32,
   "id": "b414e4fe-f62c-43ff-8477-49f27f6f140a",
   "metadata": {},
   "outputs": [],
   "source": [
    "def solve(n1, n2, v):\n",
    "    d = 0\n",
    "    if n1 >= n2:\n",
    "        if n1 >= 0:\n",
    "            if v > 0:\n",
    "                d = n2+v - n1\n",
    "            else:\n",
    "                d = abs(v)\n",
    "        else:\n",
    "            if v > 0:\n",
    "                d = abs(v)\n",
    "            else:\n",
    "                d = n2+v - n1\n",
    "    else:\n",
    "        if n1 >= 0:\n",
    "            if v > 0:\n",
    "                d = v\n",
    "            else:\n",
    "                d = n2+v - n1\n",
    "        else:\n",
    "            if v > 0:\n",
    "                d = n2+v - n1\n",
    "            else:\n",
    "                d = v\n",
    "    return d"
   ]
  },
  {
   "cell_type": "code",
   "execution_count": 33,
   "id": "99961c5f-65e4-49ed-a21b-433e969c6586",
   "metadata": {},
   "outputs": [
    {
     "name": "stdout",
     "output_type": "stream",
     "text": [
      "1145\n",
      "1295\n",
      "1367\n",
      "1456\n",
      "1659\n",
      "1635\n",
      "1635\n",
      "1635\n",
      "1611\n",
      "1618\n"
     ]
    }
   ],
   "source": [
    "for L, R, V in LRV:\n",
    "    d = 0\n",
    "    if L-1 != 0:\n",
    "        d += solve(An[L-2], An[L-1], V)\n",
    "    if R != N:\n",
    "        d += solve(An[R-1], An[R-2], V)\n",
    "    cost += d\n",
    "    print(cost)\n"
   ]
  },
  {
   "cell_type": "code",
   "execution_count": 20,
   "id": "a0594fe2-32d9-42e3-9eff-4042fedb2062",
   "metadata": {},
   "outputs": [
    {
     "name": "stdout",
     "output_type": "stream",
     "text": [
      "1074\n",
      "1074\n",
      "1074\n",
      "1003\n",
      "1003\n",
      "1003\n",
      "1003\n",
      "1058\n",
      "1110\n",
      "1117\n"
     ]
    }
   ],
   "source": [
    "for L, R, V in LRV:\n",
    "    d = 0\n",
    "    if L-1 != 0:\n",
    "        if An[L-1] >= An[L-2]:\n",
    "            d += V\n",
    "        else:\n",
    "            d -= V\n",
    "    if R != N:\n",
    "        if An[R-2] * An[R-1] > 0:\n",
    "            if An[R-2] >= An[R-1]:\n",
    "                d += V\n",
    "            else:\n",
    "                d -= V\n",
    "    cost += d\n",
    "    print(cost)\n"
   ]
  },
  {
   "cell_type": "code",
   "execution_count": null,
   "id": "1c43e889-60a0-4304-b6ce-dec71ebb8d34",
   "metadata": {},
   "outputs": [],
   "source": []
  },
  {
   "cell_type": "code",
   "execution_count": 25,
   "id": "2868a10d-8725-4233-b961-7e9ca7ef3386",
   "metadata": {},
   "outputs": [
    {
     "data": {
      "text/plain": [
       "1074"
      ]
     },
     "execution_count": 25,
     "metadata": {},
     "output_type": "execute_result"
    }
   ],
   "source": [
    "cost"
   ]
  },
  {
   "cell_type": "code",
   "execution_count": null,
   "id": "6027914f-8cdf-4742-b5ed-d90e62c876af",
   "metadata": {},
   "outputs": [],
   "source": []
  }
 ],
 "metadata": {
  "kernelspec": {
   "display_name": "Python 3",
   "language": "python",
   "name": "python3"
  },
  "language_info": {
   "codemirror_mode": {
    "name": "ipython",
    "version": 3
   },
   "file_extension": ".py",
   "mimetype": "text/x-python",
   "name": "python",
   "nbconvert_exporter": "python",
   "pygments_lexer": "ipython3",
   "version": "3.6.13"
  }
 },
 "nbformat": 4,
 "nbformat_minor": 5
}
