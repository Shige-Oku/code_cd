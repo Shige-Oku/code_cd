{
 "cells": [
  {
   "cell_type": "code",
   "execution_count": null,
   "id": "8301087c-2618-4725-ab3e-aee42ae6852e",
   "metadata": {},
   "outputs": [],
   "source": [
    "# 解けない"
   ]
  },
  {
   "cell_type": "code",
   "execution_count": 1,
   "id": "8054e49a-aefe-4b84-9ab3-416896252a15",
   "metadata": {},
   "outputs": [],
   "source": [
    "import sys\n",
    "import numpy as np\n",
    "import math\n",
    "import collections\n",
    "import copy\n",
    "import decimal\n",
    "import itertools\n",
    "import re\n",
    "import bisect\n",
    "import scipy\n",
    "import heapq\n",
    "from collections import deque \n",
    "from functools import reduce\n",
    "from itertools import product\n",
    "from itertools import combinations\n",
    "from itertools import chain\n",
    "from functools import lru_cache\n",
    "from scipy.special import comb\n",
    "from numba import njit\n",
    "from bisect import bisect_right\n",
    "from bisect import bisect_left"
   ]
  },
  {
   "cell_type": "code",
   "execution_count": 2,
   "id": "42dfb396-f6ac-4e19-a354-8ca5e38d21d5",
   "metadata": {},
   "outputs": [
    {
     "name": "stdin",
     "output_type": "stream",
     "text": [
      " 3 34\n"
     ]
    }
   ],
   "source": [
    "N, L = map(int, input().split())"
   ]
  },
  {
   "cell_type": "code",
   "execution_count": 3,
   "id": "802bd8fd-d805-418e-aeac-18a8eaeb62fc",
   "metadata": {},
   "outputs": [
    {
     "name": "stdin",
     "output_type": "stream",
     "text": [
      " 1\n"
     ]
    }
   ],
   "source": [
    "K = int(input())"
   ]
  },
  {
   "cell_type": "code",
   "execution_count": 4,
   "id": "3b8164f2-ba4f-4877-865b-7d2aab0970dd",
   "metadata": {},
   "outputs": [
    {
     "name": "stdin",
     "output_type": "stream",
     "text": [
      " 8 13 26\n"
     ]
    }
   ],
   "source": [
    "An = list(map(int, input().split()))"
   ]
  },
  {
   "cell_type": "code",
   "execution_count": 8,
   "id": "2b580aca-da85-4840-a013-6ddbfe060637",
   "metadata": {},
   "outputs": [],
   "source": [
    "An2 = copy.deepcopy(An)\n",
    "An2.append(L)\n",
    "cum = [An[0], ]\n",
    "for i, A in enumerate(An2[1:], 1):\n",
    "    cum.append(A-An2[i-1])"
   ]
  },
  {
   "cell_type": "code",
   "execution_count": 14,
   "id": "3e4418e1-477f-4523-938d-29885b2bfeaf",
   "metadata": {},
   "outputs": [],
   "source": [
    "ans = An2[N-K-1]\n",
    "c = An2[N-K-1]\n",
    "for i in range(N-K, N):\n",
    "    c -= cum[i-(N-K)]\n",
    "    c += cum[i]\n",
    "    ans = max(ans, c)"
   ]
  },
  {
   "cell_type": "code",
   "execution_count": 15,
   "id": "5a533945-faea-4d34-b350-022c1409815a",
   "metadata": {},
   "outputs": [
    {
     "name": "stdout",
     "output_type": "stream",
     "text": [
      "18\n"
     ]
    }
   ],
   "source": [
    "print(ans)"
   ]
  },
  {
   "cell_type": "code",
   "execution_count": 12,
   "id": "9e67e28d-6b5c-44b6-b90a-617a542a2853",
   "metadata": {},
   "outputs": [
    {
     "data": {
      "text/plain": [
       "[8, 5, 13, 8]"
      ]
     },
     "execution_count": 12,
     "metadata": {},
     "output_type": "execute_result"
    }
   ],
   "source": [
    "cum"
   ]
  },
  {
   "cell_type": "code",
   "execution_count": null,
   "id": "6e589544-05c7-48a5-b583-de9070d4a6f4",
   "metadata": {},
   "outputs": [],
   "source": []
  }
 ],
 "metadata": {
  "kernelspec": {
   "display_name": "Python 3",
   "language": "python",
   "name": "python3"
  },
  "language_info": {
   "codemirror_mode": {
    "name": "ipython",
    "version": 3
   },
   "file_extension": ".py",
   "mimetype": "text/x-python",
   "name": "python",
   "nbconvert_exporter": "python",
   "pygments_lexer": "ipython3",
   "version": "3.6.13"
  }
 },
 "nbformat": 4,
 "nbformat_minor": 5
}
