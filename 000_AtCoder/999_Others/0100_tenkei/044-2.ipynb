{
 "cells": [
  {
   "cell_type": "code",
   "execution_count": null,
   "id": "1d033b03-38d2-43ae-ba4e-908d2402f309",
   "metadata": {},
   "outputs": [],
   "source": [
    "# WA"
   ]
  },
  {
   "cell_type": "code",
   "execution_count": 1,
   "id": "5e6d6f8e-94a4-41e7-a4a1-81844d62b4a8",
   "metadata": {},
   "outputs": [],
   "source": [
    "import sys\n",
    "import numpy as np\n",
    "import math\n",
    "import collections\n",
    "import copy\n",
    "import decimal\n",
    "import itertools\n",
    "import re\n",
    "import bisect\n",
    "import scipy\n",
    "import heapq\n",
    "from collections import deque \n",
    "from functools import reduce\n",
    "from itertools import product\n",
    "from itertools import combinations\n",
    "from itertools import chain\n",
    "from functools import lru_cache\n",
    "from scipy.special import comb\n",
    "from numba import njit\n",
    "from bisect import bisect_right\n",
    "from bisect import bisect_left"
   ]
  },
  {
   "cell_type": "code",
   "execution_count": 18,
   "id": "ea72cf8f-62f6-4e40-8858-4f0266fdf418",
   "metadata": {},
   "outputs": [
    {
     "name": "stdin",
     "output_type": "stream",
     "text": [
      " 11 18\n"
     ]
    }
   ],
   "source": [
    "N, Q = map(int, input().split())"
   ]
  },
  {
   "cell_type": "code",
   "execution_count": 19,
   "id": "97a0b4de-9f69-4c33-8c15-f76424c4ac3c",
   "metadata": {},
   "outputs": [
    {
     "name": "stdin",
     "output_type": "stream",
     "text": [
      " 23 92 85 34 21 63 12 9 81 44 96\n"
     ]
    }
   ],
   "source": [
    "An = list(map(int, input().split()))"
   ]
  },
  {
   "cell_type": "code",
   "execution_count": 20,
   "id": "a0b72867-de74-41f0-9431-683b4a99ea76",
   "metadata": {},
   "outputs": [
    {
     "name": "stdin",
     "output_type": "stream",
     "text": [
      " 3 10 0\n",
      " 3 5 0\n",
      " 1 3 4\n",
      " 2 0 0\n",
      " 1 4 11\n",
      " 3 11 0\n",
      " 1 3 5\n",
      " 2 0 0\n",
      " 2 0 0\n",
      " 3 9 0\n",
      " 2 0 0 \n",
      " 3 10 0\n",
      " 3 4 0\n",
      " 3 5 0\n",
      " 3 5 0\n",
      " 350\n",
      " 3 5 0\n",
      " 3 5 0\n"
     ]
    }
   ],
   "source": [
    "Qn = [list(map(int, input().split())) for _ in range(Q)]"
   ]
  },
  {
   "cell_type": "code",
   "execution_count": 32,
   "id": "4fa45613-48ca-4220-9959-d42f32cdc1cf",
   "metadata": {},
   "outputs": [],
   "source": [
    "An = [23,  92, 85, 34, 21, 63, 12, 9, 81, 44, 96]"
   ]
  },
  {
   "cell_type": "code",
   "execution_count": 34,
   "id": "57914ded-66d0-4455-b6a6-5c36e8fc8ae3",
   "metadata": {},
   "outputs": [
    {
     "name": "stdout",
     "output_type": "stream",
     "text": [
      "3 10 0\n",
      "44\n",
      "[23, 21, 34, 63, 92, 85, 12, 9, 81, 44, 96]\n",
      "3 5 0\n",
      "92\n",
      "[23, 21, 34, 63, 92, 85, 12, 9, 81, 44, 96]\n",
      "1 3 4\n",
      "2 3 34 63\n",
      "2 3 63 34\n",
      "[23, 21, 63, 34, 92, 85, 12, 9, 81, 44, 96]\n",
      "2 0 0\n",
      "[23, 21, 63, 34, 92, 85, 12, 9, 81, 44, 96]\n",
      "1 4 11\n",
      "4 1 92 21\n",
      "4 1 21 92\n",
      "[23, 92, 63, 34, 21, 85, 12, 9, 81, 44, 96]\n",
      "3 11 0\n",
      "92\n",
      "[23, 92, 63, 34, 21, 85, 12, 9, 81, 44, 96]\n",
      "1 3 5\n",
      "3 5 34 85\n",
      "3 5 85 34\n",
      "[23, 92, 63, 85, 21, 34, 12, 9, 81, 44, 96]\n",
      "2 0 0\n",
      "[23, 92, 63, 85, 21, 34, 12, 9, 81, 44, 96]\n",
      "2 0 0\n",
      "[23, 92, 63, 85, 21, 34, 12, 9, 81, 44, 96]\n",
      "3 9 0\n",
      "92\n",
      "[23, 92, 63, 85, 21, 34, 12, 9, 81, 44, 96]\n",
      "2 0 0\n",
      "[23, 92, 63, 85, 21, 34, 12, 9, 81, 44, 96]\n",
      "3 10 0\n",
      "85\n",
      "[23, 92, 63, 85, 21, 34, 12, 9, 81, 44, 96]\n",
      "3 4 0\n",
      "9\n",
      "[23, 92, 63, 85, 21, 34, 12, 9, 81, 44, 96]\n",
      "3 5 0\n",
      "81\n",
      "[23, 92, 63, 85, 21, 34, 12, 9, 81, 44, 96]\n",
      "3 5 0\n",
      "81\n",
      "[23, 92, 63, 85, 21, 34, 12, 9, 81, 44, 96]\n"
     ]
    },
    {
     "ename": "ValueError",
     "evalue": "not enough values to unpack (expected 3, got 1)",
     "output_type": "error",
     "traceback": [
      "\u001b[1;31m---------------------------------------------------------------------------\u001b[0m",
      "\u001b[1;31mValueError\u001b[0m                                Traceback (most recent call last)",
      "\u001b[1;32m<ipython-input-34-d946dec877c5>\u001b[0m in \u001b[0;36m<module>\u001b[1;34m\u001b[0m\n\u001b[0;32m      1\u001b[0m \u001b[0mshift\u001b[0m \u001b[1;33m=\u001b[0m \u001b[1;36m0\u001b[0m\u001b[1;33m\u001b[0m\u001b[1;33m\u001b[0m\u001b[0m\n\u001b[1;32m----> 2\u001b[1;33m \u001b[1;32mfor\u001b[0m \u001b[0mq\u001b[0m\u001b[1;33m,\u001b[0m \u001b[0mx\u001b[0m\u001b[1;33m,\u001b[0m \u001b[0my\u001b[0m \u001b[1;32min\u001b[0m \u001b[0mQn\u001b[0m\u001b[1;33m:\u001b[0m\u001b[1;33m\u001b[0m\u001b[1;33m\u001b[0m\u001b[0m\n\u001b[0m\u001b[0;32m      3\u001b[0m     \u001b[0mprint\u001b[0m\u001b[1;33m(\u001b[0m\u001b[0mq\u001b[0m\u001b[1;33m,\u001b[0m \u001b[0mx\u001b[0m\u001b[1;33m,\u001b[0m \u001b[0my\u001b[0m\u001b[1;33m)\u001b[0m\u001b[1;33m\u001b[0m\u001b[1;33m\u001b[0m\u001b[0m\n\u001b[0;32m      4\u001b[0m     \u001b[1;32mif\u001b[0m \u001b[0mq\u001b[0m \u001b[1;33m==\u001b[0m \u001b[1;36m1\u001b[0m\u001b[1;33m:\u001b[0m\u001b[1;33m\u001b[0m\u001b[1;33m\u001b[0m\u001b[0m\n\u001b[0;32m      5\u001b[0m         \u001b[1;32mif\u001b[0m \u001b[0mx\u001b[0m \u001b[1;33m+\u001b[0m \u001b[0mshift\u001b[0m \u001b[1;33m>=\u001b[0m \u001b[0mN\u001b[0m\u001b[1;33m:\u001b[0m\u001b[1;33m\u001b[0m\u001b[1;33m\u001b[0m\u001b[0m\n",
      "\u001b[1;31mValueError\u001b[0m: not enough values to unpack (expected 3, got 1)"
     ]
    }
   ],
   "source": [
    "shift = 0\n",
    "for q, x, y in Qn:\n",
    "    print(q, x, y)\n",
    "    if q == 1:\n",
    "        if x + shift >= N:\n",
    "            x1 = x + shift - N\n",
    "        else:\n",
    "            x1 = x + shift - 1\n",
    "        if y + shift >= N:\n",
    "            y1 = y + shift - N\n",
    "        else:\n",
    "            y1 = y + shift - 1\n",
    "        print(x1, y1, An[x1], An[y1])\n",
    "        An[x1], An[y1] = An[y1], An[x1]\n",
    "        print(x1, y1, An[x1], An[y1])\n",
    "    elif q == 2:\n",
    "        shift += 1\n",
    "        shift = min(shift, N)\n",
    "    else:\n",
    "        if x + shift >= N:\n",
    "            p = x + shift - N\n",
    "        else:\n",
    "            p = x + shift - 1\n",
    "        print(An[p])\n",
    "    print(An)"
   ]
  },
  {
   "cell_type": "code",
   "execution_count": 26,
   "id": "7e483a49-b49d-4db6-88bf-ace4138c2266",
   "metadata": {
    "scrolled": true,
    "tags": []
   },
   "outputs": [
    {
     "data": {
      "text/plain": [
       "[23, 21, 34, 63, 92, 85, 12, 9, 81, 44, 96]"
      ]
     },
     "execution_count": 26,
     "metadata": {},
     "output_type": "execute_result"
    }
   ],
   "source": [
    "An"
   ]
  },
  {
   "cell_type": "code",
   "execution_count": null,
   "id": "fc2b7b18-f91a-4bf7-b85b-5de9a8ad0165",
   "metadata": {},
   "outputs": [],
   "source": []
  }
 ],
 "metadata": {
  "kernelspec": {
   "display_name": "Python 3",
   "language": "python",
   "name": "python3"
  },
  "language_info": {
   "codemirror_mode": {
    "name": "ipython",
    "version": 3
   },
   "file_extension": ".py",
   "mimetype": "text/x-python",
   "name": "python",
   "nbconvert_exporter": "python",
   "pygments_lexer": "ipython3",
   "version": "3.6.13"
  }
 },
 "nbformat": 4,
 "nbformat_minor": 5
}
