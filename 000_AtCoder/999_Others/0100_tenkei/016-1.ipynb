{
 "cells": [
  {
   "cell_type": "code",
   "execution_count": 1,
   "id": "d3bc3a5c-61b2-4c3d-aaee-c4f77a0ea676",
   "metadata": {},
   "outputs": [],
   "source": [
    "import sys\n",
    "import numpy as np\n",
    "import math\n",
    "import collections\n",
    "import copy\n",
    "import decimal\n",
    "import itertools\n",
    "import re\n",
    "import bisect\n",
    "import scipy\n",
    "import heapq\n",
    "from collections import deque \n",
    "from functools import reduce\n",
    "from itertools import product\n",
    "from itertools import combinations\n",
    "from itertools import chain\n",
    "from functools import lru_cache\n",
    "from scipy.special import comb\n",
    "from numba import njit\n",
    "from bisect import bisect_right\n",
    "from bisect import bisect_left"
   ]
  },
  {
   "cell_type": "code",
   "execution_count": 35,
   "id": "89dcbf02-cca4-4923-a217-9bd92f93a1bb",
   "metadata": {},
   "outputs": [
    {
     "name": "stdin",
     "output_type": "stream",
     "text": [
      " 9999\n"
     ]
    }
   ],
   "source": [
    "N = int(input())"
   ]
  },
  {
   "cell_type": "code",
   "execution_count": 41,
   "id": "1f4c772d-0689-4ca0-9ae0-671d6826fde7",
   "metadata": {},
   "outputs": [
    {
     "name": "stdin",
     "output_type": "stream",
     "text": [
      " 1 5 10\n"
     ]
    }
   ],
   "source": [
    "A, B, C = sorted(list(map(int, input().split())), reverse=True)"
   ]
  },
  {
   "cell_type": "code",
   "execution_count": null,
   "id": "2b32c070-2cac-4c41-8141-47e5a76e3626",
   "metadata": {},
   "outputs": [],
   "source": [
    "A, B, C = map(int, input().split())"
   ]
  },
  {
   "cell_type": "code",
   "execution_count": 49,
   "id": "ef09d297-fa81-4f05-926f-72544adf5e16",
   "metadata": {},
   "outputs": [],
   "source": [
    "ans = 10000\n",
    "for i in range(10000):\n",
    "    if i > ans or A*i > N:\n",
    "        break\n",
    "    for j in range(10000):\n",
    "        if i + j >= ans:\n",
    "            break\n",
    "        if A*i + B*j > N:\n",
    "            break\n",
    "        if (N - A*i - B*j) % C != 0:\n",
    "            continue\n",
    "        k = (N - A*i- B*j) // C\n",
    "        ans = min(ans, i+j+k)\n"
   ]
  },
  {
   "cell_type": "code",
   "execution_count": 50,
   "id": "25671f10-ae47-4c97-9937-cd5c87617fb0",
   "metadata": {},
   "outputs": [
    {
     "name": "stdout",
     "output_type": "stream",
     "text": [
      "1004\n"
     ]
    }
   ],
   "source": [
    "print(ans)"
   ]
  },
  {
   "cell_type": "code",
   "execution_count": 32,
   "id": "6b8738f4-5652-4f7d-a628-c3504ee84140",
   "metadata": {},
   "outputs": [
    {
     "data": {
      "text/plain": [
       "(11, 5, 5)"
      ]
     },
     "execution_count": 32,
     "metadata": {},
     "output_type": "execute_result"
    }
   ],
   "source": [
    "Acnt, Bcnt, Ccnt"
   ]
  },
  {
   "cell_type": "code",
   "execution_count": 26,
   "id": "4043fed0-4e92-4a95-98e8-58cc763ef8a6",
   "metadata": {},
   "outputs": [
    {
     "data": {
      "text/plain": [
       "(959, 1294)"
      ]
     },
     "execution_count": 26,
     "metadata": {},
     "output_type": "execute_result"
    }
   ],
   "source": [
    "i, j"
   ]
  },
  {
   "cell_type": "code",
   "execution_count": 44,
   "id": "a41dd46a-ab8e-4f1f-a511-c7dc48eccf9c",
   "metadata": {},
   "outputs": [
    {
     "data": {
      "text/plain": [
       "(10, 5, 1)"
      ]
     },
     "execution_count": 44,
     "metadata": {},
     "output_type": "execute_result"
    }
   ],
   "source": [
    "A, B, C"
   ]
  },
  {
   "cell_type": "code",
   "execution_count": null,
   "id": "29b8219c-1754-4835-b15c-a6f3c1e1ff93",
   "metadata": {},
   "outputs": [],
   "source": []
  }
 ],
 "metadata": {
  "kernelspec": {
   "display_name": "Python 3",
   "language": "python",
   "name": "python3"
  },
  "language_info": {
   "codemirror_mode": {
    "name": "ipython",
    "version": 3
   },
   "file_extension": ".py",
   "mimetype": "text/x-python",
   "name": "python",
   "nbconvert_exporter": "python",
   "pygments_lexer": "ipython3",
   "version": "3.6.13"
  }
 },
 "nbformat": 4,
 "nbformat_minor": 5
}
