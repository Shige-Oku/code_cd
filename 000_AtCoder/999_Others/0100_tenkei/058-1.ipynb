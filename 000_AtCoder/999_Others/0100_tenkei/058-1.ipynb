{
 "cells": [
  {
   "cell_type": "code",
   "execution_count": 1,
   "id": "d2b4dc04-e87d-47f1-bebe-e20cd6258add",
   "metadata": {},
   "outputs": [],
   "source": [
    "import sys\n",
    "import numpy as np\n",
    "import math\n",
    "import collections\n",
    "import copy\n",
    "import decimal\n",
    "import itertools\n",
    "import re\n",
    "import bisect\n",
    "import scipy\n",
    "import heapq\n",
    "from collections import deque \n",
    "from functools import reduce\n",
    "from itertools import product\n",
    "from itertools import combinations\n",
    "from itertools import chain\n",
    "from functools import lru_cache\n",
    "from scipy.special import comb\n",
    "from numba import njit\n",
    "from bisect import bisect_right\n",
    "from bisect import bisect_left"
   ]
  },
  {
   "cell_type": "code",
   "execution_count": 57,
   "id": "7e04bd02-08d2-441c-8b88-c510e6919a46",
   "metadata": {},
   "outputs": [
    {
     "name": "stdin",
     "output_type": "stream",
     "text": [
      " 99999 1000000000000000000\n"
     ]
    }
   ],
   "source": [
    "N, K = map(int, input().split())"
   ]
  },
  {
   "cell_type": "code",
   "execution_count": 58,
   "id": "c788afa7-898b-4c67-8f52-c9a7cc85d0d5",
   "metadata": {},
   "outputs": [],
   "source": [
    "def solve(n):\n",
    "    ret = 0\n",
    "    n1 = n\n",
    "    while n1 > 0:\n",
    "        ret += n1 % 10\n",
    "        n1 //= 10\n",
    "#     print(n, ret)\n",
    "    return ret"
   ]
  },
  {
   "cell_type": "code",
   "execution_count": 84,
   "id": "f815e953-6bc5-4b7e-8c9f-bd7d1cf89429",
   "metadata": {},
   "outputs": [],
   "source": [
    "cnt = [0] * 10**5\n",
    "n = N\n",
    "cnt[n] = 1\n",
    "c = 1\n",
    "while c <= K:\n",
    "    num = solve(n)\n",
    "    if num == 0:\n",
    "        break\n",
    "    if cnt[(n+num)%10**5] > 0:\n",
    "        break\n",
    "    n += num\n",
    "    n %= 10**5\n",
    "    c += 1\n",
    "    cnt[n] = c\n"
   ]
  },
  {
   "cell_type": "code",
   "execution_count": 85,
   "id": "12f49304-d22d-4157-8a25-e5852e34a5d1",
   "metadata": {},
   "outputs": [
    {
     "name": "stdout",
     "output_type": "stream",
     "text": [
      "84563\n"
     ]
    }
   ],
   "source": [
    "if N == 0:\n",
    "    print(0)\n",
    "elif c - 1 >= K:\n",
    "    print(n)\n",
    "else:\n",
    "    last = n + solve(n)\n",
    "    s = cnt[last]\n",
    "    lp_cnt = c - s + 1\n",
    "    f = (K- s + 1) % lp_cnt\n",
    "#     print(last, s, lp_cnt, f)\n",
    "    for i, cnt1 in enumerate(cnt):\n",
    "        if cnt1 == s + f:\n",
    "            print(i)\n",
    "            break"
   ]
  },
  {
   "cell_type": "code",
   "execution_count": 72,
   "id": "373cdafc-bc74-4269-b082-c8530a71e415",
   "metadata": {},
   "outputs": [
    {
     "data": {
      "text/plain": [
       "(598, 22, 4784)"
      ]
     },
     "execution_count": 72,
     "metadata": {},
     "output_type": "execute_result"
    }
   ],
   "source": [
    "n, num, c"
   ]
  },
  {
   "cell_type": "code",
   "execution_count": 73,
   "id": "b810ffc1-8ba8-4fea-8395-93c22db8856f",
   "metadata": {},
   "outputs": [
    {
     "data": {
      "text/plain": [
       "[0, 4166, 0]"
      ]
     },
     "execution_count": 73,
     "metadata": {},
     "output_type": "execute_result"
    }
   ],
   "source": [
    "cnt[84562:84565]"
   ]
  },
  {
   "cell_type": "code",
   "execution_count": 74,
   "id": "2c31492c-ba4f-4440-9a04-7514f8f0dc04",
   "metadata": {},
   "outputs": [
    {
     "data": {
      "text/plain": [
       "620"
      ]
     },
     "execution_count": 74,
     "metadata": {},
     "output_type": "execute_result"
    }
   ],
   "source": [
    "n+solve(n)"
   ]
  },
  {
   "cell_type": "code",
   "execution_count": 75,
   "id": "0f3867f7-3f90-4eaa-9bdd-7a76b185371c",
   "metadata": {},
   "outputs": [
    {
     "data": {
      "text/plain": [
       "50"
      ]
     },
     "execution_count": 75,
     "metadata": {},
     "output_type": "execute_result"
    }
   ],
   "source": [
    "cnt[last]"
   ]
  },
  {
   "cell_type": "code",
   "execution_count": 79,
   "id": "6255580f-e586-4b5e-9311-4fb3ff7c1f5e",
   "metadata": {},
   "outputs": [
    {
     "data": {
      "text/plain": [
       "(620, 50, 100)"
      ]
     },
     "execution_count": 79,
     "metadata": {},
     "output_type": "execute_result"
    }
   ],
   "source": [
    "last, f, s+f"
   ]
  },
  {
   "cell_type": "code",
   "execution_count": 77,
   "id": "bd91a3c4-2157-43d5-b184-8fada7facd44",
   "metadata": {},
   "outputs": [
    {
     "data": {
      "text/plain": [
       "(100, 1292)"
      ]
     },
     "execution_count": 77,
     "metadata": {},
     "output_type": "execute_result"
    }
   ],
   "source": [
    "cnt1, i"
   ]
  },
  {
   "cell_type": "code",
   "execution_count": null,
   "id": "6575da2f-6208-44b2-84f3-a866ca207ef9",
   "metadata": {},
   "outputs": [],
   "source": []
  }
 ],
 "metadata": {
  "kernelspec": {
   "display_name": "Python 3",
   "language": "python",
   "name": "python3"
  },
  "language_info": {
   "codemirror_mode": {
    "name": "ipython",
    "version": 3
   },
   "file_extension": ".py",
   "mimetype": "text/x-python",
   "name": "python",
   "nbconvert_exporter": "python",
   "pygments_lexer": "ipython3",
   "version": "3.6.13"
  }
 },
 "nbformat": 4,
 "nbformat_minor": 5
}
