{
 "cells": [
  {
   "cell_type": "code",
   "execution_count": null,
   "id": "085b08a4-d1e5-4bfe-b5e5-bb20041bea0d",
   "metadata": {},
   "outputs": [],
   "source": [
    "# 解説を読んで実装"
   ]
  },
  {
   "cell_type": "code",
   "execution_count": 1,
   "id": "2a397ed1-0446-4ad2-a12f-6751209de624",
   "metadata": {},
   "outputs": [],
   "source": [
    "import sys\n",
    "import numpy as np\n",
    "import math\n",
    "import collections\n",
    "import copy\n",
    "import decimal\n",
    "import itertools\n",
    "import re\n",
    "import bisect\n",
    "import scipy\n",
    "import heapq\n",
    "from collections import deque \n",
    "from functools import reduce\n",
    "from itertools import product\n",
    "from itertools import combinations\n",
    "from itertools import chain\n",
    "from functools import lru_cache\n",
    "from scipy.special import comb\n",
    "from numba import njit\n",
    "from bisect import bisect_right\n",
    "from bisect import bisect_left"
   ]
  },
  {
   "cell_type": "code",
   "execution_count": 2,
   "id": "1eaa20a7-646d-4705-8594-6096797450bc",
   "metadata": {},
   "outputs": [
    {
     "name": "stdin",
     "output_type": "stream",
     "text": [
      " 3 34\n"
     ]
    }
   ],
   "source": [
    "N, S = map(int, input().split())"
   ]
  },
  {
   "cell_type": "code",
   "execution_count": 3,
   "id": "a4eace71-7947-49f1-a583-eb39a2b001d1",
   "metadata": {},
   "outputs": [
    {
     "name": "stdin",
     "output_type": "stream",
     "text": [
      " 3 14\n",
      " 15 9\n",
      " 26 5\n"
     ]
    }
   ],
   "source": [
    "AB = [list(map(int, input().split())) for _ in range(N)]"
   ]
  },
  {
   "cell_type": "code",
   "execution_count": 5,
   "id": "83f93cd0-e681-4511-89a5-5d92a2813faf",
   "metadata": {},
   "outputs": [],
   "source": [
    "dp = [[False] * (10**5+100) for _ in range(N+1)]\n",
    "dp[0][0] = True\n",
    "for i, (A, B) in enumerate(AB, 1):\n",
    "    for j in range(S+1):\n",
    "        if not dp[i-1][j]:\n",
    "            continue\n",
    "        if j + A <= S:\n",
    "            dp[i][j+A] = True\n",
    "        if j + B <= S:\n",
    "            dp[i][j+B] = True"
   ]
  },
  {
   "cell_type": "code",
   "execution_count": 35,
   "id": "78c4820b-0f4a-4890-897d-511f10f8c66e",
   "metadata": {},
   "outputs": [],
   "source": [
    "def solve():\n",
    "    ret = ''\n",
    "    p = S\n",
    "    for i in range(N-1, -1, -1):\n",
    "        if p - AB[i][0] >= 0 and dp[i][p-AB[i][0]]:\n",
    "            ret += 'A'\n",
    "            p -= AB[i][0]\n",
    "            continue\n",
    "        if p - AB[i][1] >= 0 and dp[i][p-AB[i][1]]:\n",
    "            ret += 'B'\n",
    "            p -= AB[i][1]\n",
    "    return ret[::-1]"
   ]
  },
  {
   "cell_type": "code",
   "execution_count": 36,
   "id": "405fac69-f48f-46ba-a2f1-227e22577f0d",
   "metadata": {},
   "outputs": [
    {
     "name": "stdout",
     "output_type": "stream",
     "text": [
      "BAB\n"
     ]
    }
   ],
   "source": [
    "if dp[N][S]:\n",
    "    print(solve())\n",
    "else:\n",
    "    print('Impossible')"
   ]
  },
  {
   "cell_type": "code",
   "execution_count": 10,
   "id": "73246e82-95a3-40b6-8b00-d9ebab78dda9",
   "metadata": {},
   "outputs": [
    {
     "data": {
      "text/plain": [
       "True"
      ]
     },
     "execution_count": 10,
     "metadata": {},
     "output_type": "execute_result"
    }
   ],
   "source": [
    "dp[N][S]"
   ]
  },
  {
   "cell_type": "code",
   "execution_count": null,
   "id": "ca70e14b-f21d-4227-a530-225a56e6bc5a",
   "metadata": {},
   "outputs": [],
   "source": []
  }
 ],
 "metadata": {
  "kernelspec": {
   "display_name": "Python 3",
   "language": "python",
   "name": "python3"
  },
  "language_info": {
   "codemirror_mode": {
    "name": "ipython",
    "version": 3
   },
   "file_extension": ".py",
   "mimetype": "text/x-python",
   "name": "python",
   "nbconvert_exporter": "python",
   "pygments_lexer": "ipython3",
   "version": "3.6.13"
  }
 },
 "nbformat": 4,
 "nbformat_minor": 5
}
