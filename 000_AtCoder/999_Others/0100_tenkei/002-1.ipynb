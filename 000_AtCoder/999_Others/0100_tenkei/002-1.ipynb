{
 "cells": [
  {
   "cell_type": "code",
   "execution_count": 1,
   "id": "87a7dd26-d7ad-488d-ada4-624833a34264",
   "metadata": {},
   "outputs": [],
   "source": [
    "import sys\n",
    "import numpy as np\n",
    "import math\n",
    "import collections\n",
    "import copy\n",
    "import decimal\n",
    "import itertools\n",
    "import re\n",
    "import bisect\n",
    "import scipy\n",
    "import heapq\n",
    "from collections import deque \n",
    "from functools import reduce\n",
    "from itertools import product\n",
    "from itertools import combinations\n",
    "from itertools import chain\n",
    "from functools import lru_cache\n",
    "from scipy.special import comb\n",
    "from numba import njit\n",
    "from bisect import bisect_right\n",
    "from bisect import bisect_left"
   ]
  },
  {
   "cell_type": "code",
   "execution_count": 56,
   "id": "50eee13a-eb6f-4df1-8239-53913427080f",
   "metadata": {},
   "outputs": [
    {
     "name": "stdin",
     "output_type": "stream",
     "text": [
      " 4\n"
     ]
    }
   ],
   "source": [
    "N = int(input())"
   ]
  },
  {
   "cell_type": "code",
   "execution_count": 57,
   "id": "0bfc5265-dfa6-4d96-af75-4f25c72648a0",
   "metadata": {},
   "outputs": [],
   "source": [
    "def check(s):\n",
    "    cnt = 0\n",
    "    for ss in s:\n",
    "        if ss == '(':\n",
    "            cnt += 1\n",
    "        else:\n",
    "            if cnt > 0:\n",
    "                cnt -= 1\n",
    "            else:\n",
    "                return False\n",
    "    if cnt == 0:\n",
    "        return True\n",
    "    else:\n",
    "        return False"
   ]
  },
  {
   "cell_type": "code",
   "execution_count": 58,
   "id": "c59d421d-8dae-4974-9e70-36434b20fbc7",
   "metadata": {},
   "outputs": [],
   "source": [
    "ca = []\n",
    "for s in product(('(', ')'), repeat=N):\n",
    "    if check(s):\n",
    "        ca.append(s)"
   ]
  },
  {
   "cell_type": "code",
   "execution_count": 59,
   "id": "0e6605a2-91a2-43f4-9a62-cc489a83a13c",
   "metadata": {},
   "outputs": [
    {
     "name": "stdout",
     "output_type": "stream",
     "text": [
      "(())\n",
      "()()\n"
     ]
    }
   ],
   "source": [
    "if N % 2 == 0:\n",
    "    ca_s = sorted(ca)\n",
    "    for s in ca_s:\n",
    "        print(*s, sep='')"
   ]
  },
  {
   "cell_type": "code",
   "execution_count": 51,
   "id": "d7170ddd-0c61-41a5-a7a6-6b37f53ed377",
   "metadata": {},
   "outputs": [
    {
     "data": {
      "text/plain": [
       "['a', 'b']"
      ]
     },
     "execution_count": 51,
     "metadata": {},
     "output_type": "execute_result"
    }
   ],
   "source": [
    "l = ['a', 'b']\n",
    "l"
   ]
  },
  {
   "cell_type": "code",
   "execution_count": 22,
   "id": "90b3df67-b6b9-492e-9612-ee924b49b600",
   "metadata": {},
   "outputs": [
    {
     "name": "stdout",
     "output_type": "stream",
     "text": [
      "('a', 'a')\n",
      "('a', 'b')\n",
      "('b', 'a')\n",
      "('b', 'b')\n"
     ]
    }
   ],
   "source": [
    "for _, s in enumerate(product(('a', 'b'), repeat=N)):\n",
    "    print(s)"
   ]
  },
  {
   "cell_type": "code",
   "execution_count": null,
   "id": "5ec85204-5e01-4301-bfdc-d9686fc01e7b",
   "metadata": {},
   "outputs": [],
   "source": []
  }
 ],
 "metadata": {
  "kernelspec": {
   "display_name": "Python 3",
   "language": "python",
   "name": "python3"
  },
  "language_info": {
   "codemirror_mode": {
    "name": "ipython",
    "version": 3
   },
   "file_extension": ".py",
   "mimetype": "text/x-python",
   "name": "python",
   "nbconvert_exporter": "python",
   "pygments_lexer": "ipython3",
   "version": "3.6.13"
  }
 },
 "nbformat": 4,
 "nbformat_minor": 5
}
