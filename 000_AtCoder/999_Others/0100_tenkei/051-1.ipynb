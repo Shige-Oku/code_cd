{
 "cells": [
  {
   "cell_type": "code",
   "execution_count": null,
   "id": "7116ef8b-f659-4183-b779-2b5f8d80942e",
   "metadata": {},
   "outputs": [],
   "source": [
    "# 解説を読んで実装 WA"
   ]
  },
  {
   "cell_type": "code",
   "execution_count": 1,
   "id": "99423098-18df-40a1-b4f8-6a4a30e172c2",
   "metadata": {},
   "outputs": [],
   "source": [
    "import sys\n",
    "import numpy as np\n",
    "import math\n",
    "import collections\n",
    "import copy\n",
    "import decimal\n",
    "import itertools\n",
    "import re\n",
    "import bisect\n",
    "import scipy\n",
    "import heapq\n",
    "from collections import deque \n",
    "from functools import reduce\n",
    "from itertools import product\n",
    "from itertools import combinations\n",
    "from itertools import chain\n",
    "from functools import lru_cache\n",
    "from scipy.special import comb\n",
    "from numba import njit\n",
    "from bisect import bisect_right\n",
    "from bisect import bisect_left"
   ]
  },
  {
   "cell_type": "code",
   "execution_count": 110,
   "id": "923371c8-ab5f-43f4-b30f-27178ddf3de1",
   "metadata": {},
   "outputs": [
    {
     "name": "stdin",
     "output_type": "stream",
     "text": [
      " 40 20 100\n"
     ]
    }
   ],
   "source": [
    "N, K, P = map(int, input().split())"
   ]
  },
  {
   "cell_type": "code",
   "execution_count": 111,
   "id": "83bcf2ca-6c17-452a-81e2-c1b476e975f6",
   "metadata": {},
   "outputs": [
    {
     "name": "stdin",
     "output_type": "stream",
     "text": [
      " 1 3 1 3 4 1 3 5 5 3 3 4 1 5 4 4 3 1 3 4 1 3 2 4 4 1 5 2 5 3 1 3 3 3 5 5 5 2 3 5\n"
     ]
    }
   ],
   "source": [
    "An = list(map(int, input().split()))"
   ]
  },
  {
   "cell_type": "code",
   "execution_count": 112,
   "id": "8dafcb1b-920a-4d06-98cc-413e17975981",
   "metadata": {},
   "outputs": [],
   "source": [
    "Ln = []\n",
    "Rn = []\n",
    "for i, A in enumerate(sorted(An)):\n",
    "    if i % 2 == 0:\n",
    "        Ln.append(A)\n",
    "    else:\n",
    "        Rn.append(A)"
   ]
  },
  {
   "cell_type": "code",
   "execution_count": 113,
   "id": "9ad1d07e-7cd5-4456-9d3a-e48841c613d6",
   "metadata": {},
   "outputs": [
    {
     "ename": "KeyboardInterrupt",
     "evalue": "",
     "output_type": "error",
     "traceback": [
      "\u001b[1;31m---------------------------------------------------------------------------\u001b[0m",
      "\u001b[1;31mKeyboardInterrupt\u001b[0m                         Traceback (most recent call last)",
      "\u001b[1;32m<ipython-input-113-53afde9e5cce>\u001b[0m in \u001b[0;36m<module>\u001b[1;34m\u001b[0m\n\u001b[0;32m     13\u001b[0m     \u001b[0mcnt\u001b[0m \u001b[1;33m=\u001b[0m \u001b[1;36m0\u001b[0m\u001b[1;33m\u001b[0m\u001b[1;33m\u001b[0m\u001b[0m\n\u001b[0;32m     14\u001b[0m     \u001b[1;32mfor\u001b[0m \u001b[0mj\u001b[0m \u001b[1;32min\u001b[0m \u001b[0mrange\u001b[0m\u001b[1;33m(\u001b[0m\u001b[0mlen\u001b[0m\u001b[1;33m(\u001b[0m\u001b[0mRn\u001b[0m\u001b[1;33m)\u001b[0m\u001b[1;33m)\u001b[0m\u001b[1;33m:\u001b[0m\u001b[1;33m\u001b[0m\u001b[1;33m\u001b[0m\u001b[0m\n\u001b[1;32m---> 15\u001b[1;33m         \u001b[1;32mif\u001b[0m \u001b[0mi\u001b[0m \u001b[1;33m&\u001b[0m \u001b[1;33m(\u001b[0m\u001b[1;36m1\u001b[0m \u001b[1;33m<<\u001b[0m \u001b[0mj\u001b[0m\u001b[1;33m)\u001b[0m \u001b[1;33m>\u001b[0m \u001b[1;36m0\u001b[0m\u001b[1;33m:\u001b[0m\u001b[1;33m\u001b[0m\u001b[1;33m\u001b[0m\u001b[0m\n\u001b[0m\u001b[0;32m     16\u001b[0m             \u001b[0mw\u001b[0m \u001b[1;33m+=\u001b[0m \u001b[0mRn\u001b[0m\u001b[1;33m[\u001b[0m\u001b[0mj\u001b[0m\u001b[1;33m]\u001b[0m\u001b[1;33m\u001b[0m\u001b[1;33m\u001b[0m\u001b[0m\n\u001b[0;32m     17\u001b[0m             \u001b[0mcnt\u001b[0m \u001b[1;33m+=\u001b[0m \u001b[1;36m1\u001b[0m\u001b[1;33m\u001b[0m\u001b[1;33m\u001b[0m\u001b[0m\n",
      "\u001b[1;31mKeyboardInterrupt\u001b[0m: "
     ]
    }
   ],
   "source": [
    "Ln_cnt = [[] for _ in range(N+1)]\n",
    "for i in range(1, 2**(len(Ln))):\n",
    "    w = 0\n",
    "    cnt = 0\n",
    "    for j in range(len(Ln)):\n",
    "        if i & (1 << j) > 0:\n",
    "            w += Ln[j]\n",
    "            cnt += 1\n",
    "    Ln_cnt[cnt].append(w)\n",
    "Rn_cnt = [[] for _ in range(N+1)]\n",
    "for i in range(1, 2**(len(Rn))):\n",
    "    w = 0\n",
    "    cnt = 0\n",
    "    for j in range(len(Rn)):\n",
    "        if i & (1 << j) > 0:\n",
    "            w += Rn[j]\n",
    "            cnt += 1\n",
    "    Rn_cnt[cnt].append(w) "
   ]
  },
  {
   "cell_type": "code",
   "execution_count": null,
   "id": "71d86143-84ea-42b5-8632-d3221ca94377",
   "metadata": {},
   "outputs": [],
   "source": [
    "for i in range(len(Ln_cnt)):\n",
    "    if len(Ln_cnt[i]) == 0:\n",
    "        Ln_cnt[i].append(0)\n",
    "for i in range(len(Rn_cnt)):\n",
    "    if len(Rn_cnt[i]) > 0:\n",
    "        Rn_cnt[i].sort()\n",
    "#     else:\n",
    "#         Rn_cnt[i].append(0)"
   ]
  },
  {
   "cell_type": "code",
   "execution_count": null,
   "id": "a5b221c3-9285-4646-9212-70e824c9d1e5",
   "metadata": {},
   "outputs": [],
   "source": [
    "ans = 0\n",
    "for i in range(N+1):\n",
    "    for L in Ln_cnt[i]:\n",
    "        if L > P:\n",
    "            continue\n",
    "        if i == K:\n",
    "            ans += 1\n",
    "            continue\n",
    "        ans += bisect_right(Rn_cnt[K-i], P-L)\n"
   ]
  },
  {
   "cell_type": "code",
   "execution_count": null,
   "id": "eb06e24a-437b-40dc-af31-64182fb75f32",
   "metadata": {},
   "outputs": [],
   "source": [
    "print(ans)"
   ]
  },
  {
   "cell_type": "code",
   "execution_count": 114,
   "id": "c42ab0ab-381d-4c45-a9a5-84f3adbd8697",
   "metadata": {},
   "outputs": [
    {
     "data": {
      "text/plain": [
       "([1, 1, 1, 1, 2, 2, 3, 3, 3, 3, 3, 3, 4, 4, 4, 4, 5, 5, 5, 5],\n",
       " [1, 1, 1, 1, 2, 3, 3, 3, 3, 3, 3, 3, 4, 4, 4, 5, 5, 5, 5, 5])"
      ]
     },
     "execution_count": 114,
     "metadata": {},
     "output_type": "execute_result"
    }
   ],
   "source": [
    "Ln, Rn"
   ]
  },
  {
   "cell_type": "code",
   "execution_count": 98,
   "id": "d47b2bbe-7fd7-4b81-83a6-a523530673e0",
   "metadata": {},
   "outputs": [
    {
     "data": {
      "text/plain": [
       "([[0], [3, 7, 11], [10, 14, 18], [21], [0], [0]],\n",
       " [[], [5, 8], [13], [], [], []])"
      ]
     },
     "execution_count": 98,
     "metadata": {},
     "output_type": "execute_result"
    }
   ],
   "source": [
    "Ln_cnt, Rn_cnt"
   ]
  },
  {
   "cell_type": "code",
   "execution_count": 20,
   "id": "9ab968ce-be66-46e6-ac79-127f82c51a20",
   "metadata": {},
   "outputs": [
    {
     "data": {
      "text/plain": [
       "2"
      ]
     },
     "execution_count": 20,
     "metadata": {},
     "output_type": "execute_result"
    }
   ],
   "source": [
    "2>>0"
   ]
  },
  {
   "cell_type": "code",
   "execution_count": 31,
   "id": "25f6678b-e7c5-4fa6-a4f4-5936bc40fc4b",
   "metadata": {},
   "outputs": [
    {
     "data": {
      "text/plain": [
       "0"
      ]
     },
     "execution_count": 31,
     "metadata": {},
     "output_type": "execute_result"
    }
   ],
   "source": [
    "2 & 1<<(0)"
   ]
  },
  {
   "cell_type": "code",
   "execution_count": 42,
   "id": "955dbef4-9d6c-4ab7-928d-7297137c1d4a",
   "metadata": {},
   "outputs": [
    {
     "data": {
      "text/plain": [
       "8"
      ]
     },
     "execution_count": 42,
     "metadata": {},
     "output_type": "execute_result"
    }
   ],
   "source": [
    "2**(len(Ln))"
   ]
  },
  {
   "cell_type": "code",
   "execution_count": 83,
   "id": "ce646612-7b0e-4c20-acd1-a419618de0eb",
   "metadata": {},
   "outputs": [],
   "source": [
    "X = [5, ]"
   ]
  },
  {
   "cell_type": "code",
   "execution_count": 85,
   "id": "7d823b59-650d-4a68-bcc1-67a52d650859",
   "metadata": {},
   "outputs": [
    {
     "data": {
      "text/plain": [
       "1"
      ]
     },
     "execution_count": 85,
     "metadata": {},
     "output_type": "execute_result"
    }
   ],
   "source": [
    "bisect_left(X, 6)"
   ]
  },
  {
   "cell_type": "code",
   "execution_count": 93,
   "id": "63b3b0f5-9499-4189-ab87-f69ccda12d44",
   "metadata": {},
   "outputs": [
    {
     "data": {
      "text/plain": [
       "1"
      ]
     },
     "execution_count": 93,
     "metadata": {},
     "output_type": "execute_result"
    }
   ],
   "source": [
    "bisect_right(Rn_cnt[1], P-3)"
   ]
  },
  {
   "cell_type": "code",
   "execution_count": 92,
   "id": "0324f869-dea2-4294-87c6-a2e45f77238b",
   "metadata": {},
   "outputs": [
    {
     "data": {
      "text/plain": [
       "[5, 8]"
      ]
     },
     "execution_count": 92,
     "metadata": {},
     "output_type": "execute_result"
    }
   ],
   "source": [
    "Rn_cnt[1]"
   ]
  },
  {
   "cell_type": "code",
   "execution_count": null,
   "id": "5c694608-0072-450f-81ea-1a35a6eade49",
   "metadata": {},
   "outputs": [],
   "source": []
  }
 ],
 "metadata": {
  "kernelspec": {
   "display_name": "Python 3",
   "language": "python",
   "name": "python3"
  },
  "language_info": {
   "codemirror_mode": {
    "name": "ipython",
    "version": 3
   },
   "file_extension": ".py",
   "mimetype": "text/x-python",
   "name": "python",
   "nbconvert_exporter": "python",
   "pygments_lexer": "ipython3",
   "version": "3.6.13"
  }
 },
 "nbformat": 4,
 "nbformat_minor": 5
}
