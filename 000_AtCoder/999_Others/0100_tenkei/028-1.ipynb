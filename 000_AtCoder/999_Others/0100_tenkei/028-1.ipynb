{
 "cells": [
  {
   "cell_type": "code",
   "execution_count": null,
   "id": "e12feaa5-8ced-4688-999c-852fb7ae2dfb",
   "metadata": {},
   "outputs": [],
   "source": [
    "# WA"
   ]
  },
  {
   "cell_type": "code",
   "execution_count": 1,
   "id": "5f88c2ce-3b24-4a9e-8a10-06c3a4312ac9",
   "metadata": {},
   "outputs": [],
   "source": [
    "import sys\n",
    "import numpy as np\n",
    "import math\n",
    "import collections\n",
    "import copy\n",
    "import decimal\n",
    "import itertools\n",
    "import re\n",
    "import bisect\n",
    "import scipy\n",
    "import heapq\n",
    "from collections import deque \n",
    "from functools import reduce\n",
    "from itertools import product\n",
    "from itertools import combinations\n",
    "from itertools import chain\n",
    "from functools import lru_cache\n",
    "from scipy.special import comb\n",
    "from numba import njit\n",
    "from bisect import bisect_right\n",
    "from bisect import bisect_left"
   ]
  },
  {
   "cell_type": "code",
   "execution_count": 1,
   "id": "16b5a2ba-7e32-4c18-b1f1-198ddb0a0ad6",
   "metadata": {},
   "outputs": [
    {
     "name": "stdin",
     "output_type": "stream",
     "text": [
      " 2\n"
     ]
    }
   ],
   "source": [
    "N = int(input())"
   ]
  },
  {
   "cell_type": "code",
   "execution_count": 23,
   "id": "c9719072-fd05-49a1-a1ee-6302231bae47",
   "metadata": {},
   "outputs": [
    {
     "name": "stdin",
     "output_type": "stream",
     "text": [
      " 1 1 3 4\n",
      " 3 4 6 5\n"
     ]
    }
   ],
   "source": [
    "LR = [list(map(int, input().split())) for _ in range(N)]"
   ]
  },
  {
   "cell_type": "code",
   "execution_count": 41,
   "id": "26f3c943-db5f-4192-bf19-50e63a39127c",
   "metadata": {},
   "outputs": [],
   "source": [
    "cnt = [[0] * (1010) for _ in range(1010)]\n",
    "for lx, ly, rx, ry in LR:\n",
    "    for j in range(ly, ry):\n",
    "        cnt[j][lx] += 1\n",
    "        cnt[j][rx] -= 1\n",
    "cnt2 = [[0] * (1010) for _ in range(1010)]\n",
    "for i in range(1, 1010):\n",
    "    for j in range(1010):\n",
    "        cnt2[j][i] = cnt2[j][i-1] + cnt[j][i]"
   ]
  },
  {
   "cell_type": "code",
   "execution_count": 42,
   "id": "ede62239-3a0f-4d61-be06-4c950ab56b24",
   "metadata": {},
   "outputs": [
    {
     "name": "stdout",
     "output_type": "stream",
     "text": [
      "9\n",
      "0\n"
     ]
    }
   ],
   "source": [
    "if max(cnt) == 1:\n",
    "    print('0')\n",
    "else:\n",
    "    ans = [0] * (N+1)\n",
    "    for j in range(1010):\n",
    "        for i in range(1010):\n",
    "            if cnt2[j][i] > 0:\n",
    "                ans[cnt2[j][i]] += 1\n",
    "    print(*ans[1:], sep='\\n')"
   ]
  },
  {
   "cell_type": "code",
   "execution_count": 38,
   "id": "3b67b598-9628-49b9-8516-13fb432335b2",
   "metadata": {},
   "outputs": [
    {
     "data": {
      "text/plain": [
       "([0, 0, 0, 0, 0, 0, 0, 0, 0, 0],\n",
       " [0, 1, 0, -1, 0, 0, 0, 0, 0, 0],\n",
       " [0, 1, 0, -1, 0, 0, 0, 0, 0, 0])"
      ]
     },
     "execution_count": 38,
     "metadata": {},
     "output_type": "execute_result"
    }
   ],
   "source": [
    "cnt[0][:10], cnt[1][:10], cnt[2][:10]"
   ]
  },
  {
   "cell_type": "code",
   "execution_count": 40,
   "id": "f1d9e817-3cb0-41ba-bf09-e6e0bc9f635b",
   "metadata": {},
   "outputs": [
    {
     "data": {
      "text/plain": [
       "([0, 0, 0, 0, 0, 0, 0, 0, 0, 0],\n",
       " [0, 1, 1, 0, 0, 0, 0, 0, 0, 0],\n",
       " [0, 1, 1, 0, 0, 0, 0, 0, 0, 0],\n",
       " [0, 1, 1, 0, 0, 0, 0, 0, 0, 0],\n",
       " [0, 1, 1, 1, 1, 1, 0, 0, 0, 0],\n",
       " [0, 0, 0, 1, 1, 1, 0, 0, 0, 0],\n",
       " [0, 0, 0, 0, 0, 0, 0, 0, 0, 0])"
      ]
     },
     "execution_count": 40,
     "metadata": {},
     "output_type": "execute_result"
    }
   ],
   "source": [
    "cnt2[0][:10], cnt2[1][:10], cnt2[2][:10], cnt2[3][:10], cnt2[4][:10], cnt2[5][:10], cnt2[6][:10]"
   ]
  },
  {
   "cell_type": "code",
   "execution_count": 5,
   "id": "52e785cf-6768-45c2-bfa3-107ed911cf81",
   "metadata": {},
   "outputs": [
    {
     "data": {
      "text/plain": [
       "(1, 3)"
      ]
     },
     "execution_count": 5,
     "metadata": {},
     "output_type": "execute_result"
    }
   ],
   "source": [
    "j, rx"
   ]
  },
  {
   "cell_type": "code",
   "execution_count": 34,
   "id": "307dd0a4-7015-49e7-9e35-4d67857c2b90",
   "metadata": {},
   "outputs": [],
   "source": [
    "# cnt"
   ]
  },
  {
   "cell_type": "code",
   "execution_count": 35,
   "id": "811a9cfb-dbe5-415e-a01f-5d0494cd4946",
   "metadata": {},
   "outputs": [
    {
     "data": {
      "text/plain": [
       "[0, 14, 0]"
      ]
     },
     "execution_count": 35,
     "metadata": {},
     "output_type": "execute_result"
    }
   ],
   "source": [
    "ans"
   ]
  },
  {
   "cell_type": "code",
   "execution_count": null,
   "id": "ca438ed3-4b21-4da5-876e-87db53540f8e",
   "metadata": {},
   "outputs": [],
   "source": []
  }
 ],
 "metadata": {
  "kernelspec": {
   "display_name": "Python 3",
   "language": "python",
   "name": "python3"
  },
  "language_info": {
   "codemirror_mode": {
    "name": "ipython",
    "version": 3
   },
   "file_extension": ".py",
   "mimetype": "text/x-python",
   "name": "python",
   "nbconvert_exporter": "python",
   "pygments_lexer": "ipython3",
   "version": "3.6.13"
  }
 },
 "nbformat": 4,
 "nbformat_minor": 5
}
