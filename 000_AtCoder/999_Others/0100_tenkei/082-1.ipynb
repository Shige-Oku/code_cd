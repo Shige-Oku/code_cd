{
 "cells": [
  {
   "cell_type": "code",
   "execution_count": 1,
   "id": "081ed9f7-39e1-4120-bd82-44c2686da600",
   "metadata": {},
   "outputs": [],
   "source": [
    "import sys\n",
    "import numpy as np\n",
    "import math\n",
    "import collections\n",
    "import copy\n",
    "import decimal\n",
    "import itertools\n",
    "import re\n",
    "import bisect\n",
    "import scipy\n",
    "import heapq\n",
    "from collections import deque \n",
    "from functools import reduce\n",
    "from itertools import product\n",
    "from itertools import combinations\n",
    "from itertools import chain\n",
    "from functools import lru_cache\n",
    "from scipy.special import comb\n",
    "from numba import njit\n",
    "from bisect import bisect_right\n",
    "from bisect import bisect_left"
   ]
  },
  {
   "cell_type": "code",
   "execution_count": 48,
   "id": "f858e712-d0b0-4380-bf7d-4988aaeecc5b",
   "metadata": {},
   "outputs": [
    {
     "name": "stdin",
     "output_type": "stream",
     "text": [
      " 10 11\n"
     ]
    }
   ],
   "source": [
    "L, R = map(int, input().split())"
   ]
  },
  {
   "cell_type": "code",
   "execution_count": 52,
   "id": "277e1e6a-4c2a-4444-8b7f-ccb4e319b780",
   "metadata": {},
   "outputs": [],
   "source": [
    "def solve(n):\n",
    "    ret = 0\n",
    "    for i in range(1, 20):\n",
    "        if n >= 10 ** i:\n",
    "            s = 10 ** (i-1)\n",
    "            e = 10 ** i - 1\n",
    "        else:\n",
    "            s = 10 ** (i-1)\n",
    "            e = n\n",
    "        ret += (s + e) * (e - s + 1) * (i * 1) // 2\n",
    "#         ret %= 10**9 + 7\n",
    "        if n < 10 ** i:\n",
    "            break\n",
    "    return ret"
   ]
  },
  {
   "cell_type": "code",
   "execution_count": 53,
   "id": "f5fa4420-9f49-4ccd-b89f-526e967a8cbf",
   "metadata": {},
   "outputs": [],
   "source": [
    "Lcnt = solve(L-1)\n",
    "Rcnt = solve(R)"
   ]
  },
  {
   "cell_type": "code",
   "execution_count": 54,
   "id": "86e0c120-be10-4f53-b58b-f9560f6b74b4",
   "metadata": {},
   "outputs": [
    {
     "name": "stdout",
     "output_type": "stream",
     "text": [
      "42\n"
     ]
    }
   ],
   "source": [
    "print((Rcnt-Lcnt) % (10**9+7))"
   ]
  },
  {
   "cell_type": "code",
   "execution_count": 35,
   "id": "3db4e433-887e-441c-beaa-5b494508d50b",
   "metadata": {},
   "outputs": [
    {
     "data": {
      "text/plain": [
       "(0, 65)"
      ]
     },
     "execution_count": 35,
     "metadata": {},
     "output_type": "execute_result"
    }
   ],
   "source": [
    "Lcnt, Rcnt"
   ]
  },
  {
   "cell_type": "code",
   "execution_count": 26,
   "id": "e5284a63-6ec4-494f-a6e7-3dbefba83cfb",
   "metadata": {},
   "outputs": [
    {
     "data": {
      "text/plain": [
       "364801441375595637"
      ]
     },
     "execution_count": 26,
     "metadata": {},
     "output_type": "execute_result"
    }
   ],
   "source": [
    "R - L"
   ]
  },
  {
   "cell_type": "code",
   "execution_count": null,
   "id": "d8228db8-380a-4c3c-8499-05247f8964cf",
   "metadata": {},
   "outputs": [],
   "source": []
  }
 ],
 "metadata": {
  "kernelspec": {
   "display_name": "Python 3",
   "language": "python",
   "name": "python3"
  },
  "language_info": {
   "codemirror_mode": {
    "name": "ipython",
    "version": 3
   },
   "file_extension": ".py",
   "mimetype": "text/x-python",
   "name": "python",
   "nbconvert_exporter": "python",
   "pygments_lexer": "ipython3",
   "version": "3.6.13"
  }
 },
 "nbformat": 4,
 "nbformat_minor": 5
}
