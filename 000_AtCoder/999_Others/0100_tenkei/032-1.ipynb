{
 "cells": [
  {
   "cell_type": "code",
   "execution_count": 1,
   "id": "6cba7c44-fbf2-4e0d-a466-da2ea21ea56d",
   "metadata": {},
   "outputs": [],
   "source": [
    "import sys\n",
    "import numpy as np\n",
    "import math\n",
    "import collections\n",
    "import copy\n",
    "import decimal\n",
    "import itertools\n",
    "import re\n",
    "import bisect\n",
    "import scipy\n",
    "import heapq\n",
    "from collections import deque \n",
    "from functools import reduce\n",
    "from itertools import product\n",
    "from itertools import combinations\n",
    "from itertools import chain\n",
    "from functools import lru_cache\n",
    "from scipy.special import comb\n",
    "from numba import njit\n",
    "from bisect import bisect_right\n",
    "from bisect import bisect_left"
   ]
  },
  {
   "cell_type": "code",
   "execution_count": 2,
   "id": "c30cbc6c-ed96-4684-b912-6d3bd185f1d3",
   "metadata": {},
   "outputs": [
    {
     "name": "stdin",
     "output_type": "stream",
     "text": [
      " 3\n"
     ]
    }
   ],
   "source": [
    "N = int(input())"
   ]
  },
  {
   "cell_type": "code",
   "execution_count": 3,
   "id": "39644f07-ea55-412f-bf35-ac46484f053b",
   "metadata": {},
   "outputs": [
    {
     "name": "stdin",
     "output_type": "stream",
     "text": [
      " 1 10 100\n",
      " 10 1 100\n",
      " 100 10 1\n"
     ]
    }
   ],
   "source": [
    "An = [list(map(int, input().split())) for _ in range(N)]"
   ]
  },
  {
   "cell_type": "code",
   "execution_count": 8,
   "id": "0beb48d8-f6e0-4b67-92bf-981f2c253706",
   "metadata": {},
   "outputs": [
    {
     "name": "stdin",
     "output_type": "stream",
     "text": [
      " 1\n"
     ]
    }
   ],
   "source": [
    "M = int(input())"
   ]
  },
  {
   "cell_type": "code",
   "execution_count": 9,
   "id": "d3391563-44ae-4c07-9586-c777858378f1",
   "metadata": {},
   "outputs": [
    {
     "name": "stdin",
     "output_type": "stream",
     "text": [
      " 1 2\n"
     ]
    }
   ],
   "source": [
    "XY = [list(map(int, input().split())) for _ in range(M)]"
   ]
  },
  {
   "cell_type": "code",
   "execution_count": 14,
   "id": "b1d88819-973e-4978-82f5-771db1ceb54f",
   "metadata": {},
   "outputs": [],
   "source": [
    "graph = [[] for _ in range(N+1)]\n",
    "for X, Y in XY:\n",
    "    graph[X].append(Y)\n",
    "    graph[Y].append(X)"
   ]
  },
  {
   "cell_type": "code",
   "execution_count": 27,
   "id": "cf32c0c7-9491-43c7-a0ba-9ca55ea50fa8",
   "metadata": {},
   "outputs": [
    {
     "name": "stdout",
     "output_type": "stream",
     "text": [
      "(1, 2, 3)\n",
      "0\n",
      "(1, 3, 2)\n",
      "0\n",
      "1\n",
      "2\n",
      "(2, 1, 3)\n",
      "0\n",
      "(2, 3, 1)\n",
      "0\n",
      "1\n",
      "2\n",
      "(3, 1, 2)\n",
      "0\n",
      "1\n",
      "(3, 2, 1)\n",
      "0\n",
      "1\n"
     ]
    }
   ],
   "source": [
    "ans = 10**10\n",
    "for c in itertools.permutations(range(1, N+1)):\n",
    "    cost = 0\n",
    "    for i in range(N):\n",
    "        if i < N-1 and c[i+1] in graph[c[i]]:\n",
    "            flg = False\n",
    "            break\n",
    "        cost += An[c[i]-1][i]\n",
    "    else:\n",
    "        flg = True\n",
    "    if flg:\n",
    "        ans = min(ans, cost)"
   ]
  },
  {
   "cell_type": "code",
   "execution_count": 28,
   "id": "b0304697-03dc-4e44-a761-21bfd4f9f2fa",
   "metadata": {},
   "outputs": [
    {
     "name": "stdout",
     "output_type": "stream",
     "text": [
      "111\n"
     ]
    }
   ],
   "source": [
    "if ans == 10**10:\n",
    "    print('-1')\n",
    "else:\n",
    "    print(ans)"
   ]
  },
  {
   "cell_type": "code",
   "execution_count": 15,
   "id": "717625a1-c2e0-468c-bde8-998f2d130779",
   "metadata": {},
   "outputs": [
    {
     "data": {
      "text/plain": [
       "[[], [2], [1], []]"
      ]
     },
     "execution_count": 15,
     "metadata": {},
     "output_type": "execute_result"
    }
   ],
   "source": [
    "graph"
   ]
  },
  {
   "cell_type": "code",
   "execution_count": 24,
   "id": "9ed847f8-8060-46d3-b87e-0247f659b540",
   "metadata": {},
   "outputs": [
    {
     "data": {
      "text/plain": [
       "[[1, 10, 100], [10, 1, 100], [100, 10, 1]]"
      ]
     },
     "execution_count": 24,
     "metadata": {},
     "output_type": "execute_result"
    }
   ],
   "source": [
    "An"
   ]
  },
  {
   "cell_type": "code",
   "execution_count": null,
   "id": "d2641643-a7d1-4e4f-b824-50d0c49f5359",
   "metadata": {},
   "outputs": [],
   "source": []
  }
 ],
 "metadata": {
  "kernelspec": {
   "display_name": "Python 3",
   "language": "python",
   "name": "python3"
  },
  "language_info": {
   "codemirror_mode": {
    "name": "ipython",
    "version": 3
   },
   "file_extension": ".py",
   "mimetype": "text/x-python",
   "name": "python",
   "nbconvert_exporter": "python",
   "pygments_lexer": "ipython3",
   "version": "3.6.13"
  }
 },
 "nbformat": 4,
 "nbformat_minor": 5
}
