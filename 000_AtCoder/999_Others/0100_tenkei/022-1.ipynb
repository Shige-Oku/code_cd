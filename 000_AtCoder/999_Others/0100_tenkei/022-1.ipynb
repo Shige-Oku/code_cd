{
 "cells": [
  {
   "cell_type": "code",
   "execution_count": 3,
   "id": "c553caf6-d33e-4eba-a3ce-4c2b6c68c2c3",
   "metadata": {},
   "outputs": [],
   "source": [
    "import sys\n",
    "import numpy as np\n",
    "import math\n",
    "import collections\n",
    "import copy\n",
    "import decimal\n",
    "import itertools\n",
    "import re\n",
    "import bisect\n",
    "import scipy\n",
    "import heapq\n",
    "from collections import deque \n",
    "from functools import reduce\n",
    "from itertools import product\n",
    "from itertools import combinations\n",
    "from itertools import chain\n",
    "from functools import lru_cache\n",
    "from scipy.special import comb\n",
    "from numba import njit\n",
    "from bisect import bisect_right\n",
    "from bisect import bisect_left"
   ]
  },
  {
   "cell_type": "code",
   "execution_count": 15,
   "id": "cee50ec6-a8a9-434b-a2e2-8a3e34d7cc94",
   "metadata": {},
   "outputs": [
    {
     "name": "stdin",
     "output_type": "stream",
     "text": [
      " 1000000000000000000 999999999999999999 999999999999999998\n"
     ]
    }
   ],
   "source": [
    "A, B, C = map(int, input().split())"
   ]
  },
  {
   "cell_type": "code",
   "execution_count": 16,
   "id": "8055b764-da46-48d1-a4e2-517265018487",
   "metadata": {},
   "outputs": [],
   "source": [
    "x = math.gcd(A, B)\n",
    "x = math.gcd(x, C)"
   ]
  },
  {
   "cell_type": "code",
   "execution_count": 17,
   "id": "5a861fb8-dd98-4167-a4f2-bbc5d7ec0d2a",
   "metadata": {},
   "outputs": [
    {
     "name": "stdout",
     "output_type": "stream",
     "text": [
      "2999999999999999994\n"
     ]
    }
   ],
   "source": [
    "print(A//x-1 + B//x-1 + C//x-1)"
   ]
  },
  {
   "cell_type": "code",
   "execution_count": null,
   "id": "c43eab38-2fbf-42b5-9df3-09e90aae9211",
   "metadata": {},
   "outputs": [],
   "source": []
  }
 ],
 "metadata": {
  "kernelspec": {
   "display_name": "Python 3",
   "language": "python",
   "name": "python3"
  },
  "language_info": {
   "codemirror_mode": {
    "name": "ipython",
    "version": 3
   },
   "file_extension": ".py",
   "mimetype": "text/x-python",
   "name": "python",
   "nbconvert_exporter": "python",
   "pygments_lexer": "ipython3",
   "version": "3.6.13"
  }
 },
 "nbformat": 4,
 "nbformat_minor": 5
}
