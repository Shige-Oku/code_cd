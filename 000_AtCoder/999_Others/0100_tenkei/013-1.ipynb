{
 "cells": [
  {
   "cell_type": "code",
   "execution_count": null,
   "id": "9eec4736-d476-483c-a033-984e121d387e",
   "metadata": {},
   "outputs": [],
   "source": [
    "# 解説を読んで実装"
   ]
  },
  {
   "cell_type": "code",
   "execution_count": 1,
   "id": "40388f3b-9fb4-40d5-bfc8-b5d2c4800861",
   "metadata": {},
   "outputs": [],
   "source": [
    "import sys\n",
    "import numpy as np\n",
    "import math\n",
    "import collections\n",
    "import copy\n",
    "import decimal\n",
    "import itertools\n",
    "import re\n",
    "import bisect\n",
    "import scipy\n",
    "import heapq\n",
    "from collections import deque \n",
    "from functools import reduce\n",
    "from itertools import product\n",
    "from itertools import combinations\n",
    "from itertools import chain\n",
    "from functools import lru_cache\n",
    "from scipy.special import comb\n",
    "from numba import njit\n",
    "from bisect import bisect_right\n",
    "from bisect import bisect_left"
   ]
  },
  {
   "cell_type": "code",
   "execution_count": 2,
   "id": "a550eef4-b63a-4b8e-a6c5-388615d7eb50",
   "metadata": {},
   "outputs": [
    {
     "name": "stdin",
     "output_type": "stream",
     "text": [
      " 7 9\n"
     ]
    }
   ],
   "source": [
    "N, M = map(int, input().split())"
   ]
  },
  {
   "cell_type": "code",
   "execution_count": 27,
   "id": "3044f9c7-2e55-415b-b4a7-caedcd290a83",
   "metadata": {},
   "outputs": [
    {
     "name": "stdin",
     "output_type": "stream",
     "text": [
      " 1 2 2\n",
      " 1 3 3\n",
      " 2 5 2\n",
      " 3 4 1\n",
      " 3 5 4\n",
      " 4 7 5\n",
      " 5 6 1\n",
      " 5 7 6\n",
      " 6 7 3\n"
     ]
    }
   ],
   "source": [
    "ABC = [list(map(int, input().split())) for _ in range(M)]"
   ]
  },
  {
   "cell_type": "code",
   "execution_count": 28,
   "id": "de900f01-dbd8-4ce7-822c-62cae91fe3cd",
   "metadata": {},
   "outputs": [],
   "source": [
    "graph = [[] for _ in range(N+1)]\n",
    "for A, B, C in ABC:\n",
    "    graph[A].append((B, C))\n",
    "    graph[B].append((A, C))"
   ]
  },
  {
   "cell_type": "code",
   "execution_count": 29,
   "id": "fc494d82-155c-4605-862e-f1d32d6d10ab",
   "metadata": {},
   "outputs": [],
   "source": [
    "def solve(s, cost):\n",
    "    visit = [False] * (N+1)\n",
    "    q = []\n",
    "    heapq.heappush(q, (0, s))\n",
    "    cost[s] = 0\n",
    "    while q:\n",
    "        c, p = heapq.heappop(q)\n",
    "        if visit[p]:\n",
    "            continue\n",
    "        visit[p] = True\n",
    "        for p2, c2 in graph[p]:\n",
    "            if cost[p2] == -1 or cost[p2] > cost[p] + c2:\n",
    "                cost[p2] = cost[p] + c2\n",
    "                heapq.heappush(q, (cost[p2], p2))\n",
    "    return"
   ]
  },
  {
   "cell_type": "code",
   "execution_count": 30,
   "id": "c6650a51-536b-4834-9813-28a801151449",
   "metadata": {},
   "outputs": [],
   "source": [
    "cost1 = [-1 for _ in range(N+1)]\n",
    "costN = [-1 for _ in range(N+1)]\n",
    "solve(1, cost1)\n",
    "solve(N, costN)"
   ]
  },
  {
   "cell_type": "code",
   "execution_count": 31,
   "id": "2c496d7c-6344-4d67-9b07-5d7e0a57975f",
   "metadata": {},
   "outputs": [
    {
     "name": "stdout",
     "output_type": "stream",
     "text": [
      "8\n",
      "8\n",
      "9\n",
      "9\n",
      "8\n",
      "8\n",
      "8\n"
     ]
    }
   ],
   "source": [
    "for i in range(1, N+1):\n",
    "    print(cost1[i]+costN[i])"
   ]
  },
  {
   "cell_type": "code",
   "execution_count": 24,
   "id": "999f780c-950a-45a6-87d7-41a78bdc2e7d",
   "metadata": {},
   "outputs": [
    {
     "data": {
      "text/plain": [
       "([[],\n",
       "  [(2, 2), (3, 3)],\n",
       "  [(1, 2), (5, 2)],\n",
       "  [(1, 3), (4, 1), (5, 4)],\n",
       "  [(3, 1), (5, 7)],\n",
       "  [(2, 2), (3, 4), (4, 7), (6, 1), (7, 6)],\n",
       "  [(5, 1), (7, 3)],\n",
       "  [(5, 6), (6, 3)]],\n",
       " [-1, 0, 2, 3, 4, 4, 5, 8],\n",
       " [-1, 8, 6, 8, 9, 4, 3, 0])"
      ]
     },
     "execution_count": 24,
     "metadata": {},
     "output_type": "execute_result"
    }
   ],
   "source": [
    "graph, cost1, costN"
   ]
  },
  {
   "cell_type": "code",
   "execution_count": null,
   "id": "421701e1-b490-4e6f-a94c-e1066bc80f8b",
   "metadata": {},
   "outputs": [],
   "source": []
  }
 ],
 "metadata": {
  "kernelspec": {
   "display_name": "Python 3",
   "language": "python",
   "name": "python3"
  },
  "language_info": {
   "codemirror_mode": {
    "name": "ipython",
    "version": 3
   },
   "file_extension": ".py",
   "mimetype": "text/x-python",
   "name": "python",
   "nbconvert_exporter": "python",
   "pygments_lexer": "ipython3",
   "version": "3.6.13"
  }
 },
 "nbformat": 4,
 "nbformat_minor": 5
}
