{
 "cells": [
  {
   "cell_type": "code",
   "execution_count": 1,
   "id": "5ec47233-1e6d-4c36-b820-57c9bdc6093e",
   "metadata": {},
   "outputs": [],
   "source": [
    "import sys\n",
    "import numpy as np\n",
    "import math\n",
    "import collections\n",
    "import copy\n",
    "import decimal\n",
    "import itertools\n",
    "import re\n",
    "import bisect\n",
    "import scipy\n",
    "import heapq\n",
    "from collections import deque \n",
    "from functools import reduce\n",
    "from itertools import product\n",
    "from itertools import combinations\n",
    "from itertools import chain\n",
    "from functools import lru_cache\n",
    "from scipy.special import comb\n",
    "from numba import njit\n",
    "from bisect import bisect_right\n",
    "from bisect import bisect_left"
   ]
  },
  {
   "cell_type": "code",
   "execution_count": 2,
   "id": "c0a59e3f-ad02-4ca7-8bf6-70ed88899abf",
   "metadata": {},
   "outputs": [
    {
     "name": "stdin",
     "output_type": "stream",
     "text": [
      " 4 3\n"
     ]
    }
   ],
   "source": [
    "N, K = map(int, input().split())"
   ]
  },
  {
   "cell_type": "code",
   "execution_count": 3,
   "id": "63a9d2ed-7d0c-4bc0-8a72-bf1f23881ca7",
   "metadata": {},
   "outputs": [
    {
     "name": "stdin",
     "output_type": "stream",
     "text": [
      " 4 3\n",
      " 9 5\n",
      " 15 8\n",
      " 8 6\n"
     ]
    }
   ],
   "source": [
    "AB = [list(map(int, input().split())) for _ in range(N)]"
   ]
  },
  {
   "cell_type": "code",
   "execution_count": 35,
   "id": "d7c82a2b-a732-406e-90f1-09205ef5ec69",
   "metadata": {},
   "outputs": [],
   "source": [
    "AB2 = []\n",
    "for A, B in AB:\n",
    "    AB2.append((B, A-B))\n",
    "# AB2_s1 = sorted(AB2, reverse=True)\n",
    "q = []\n",
    "for B, BA in AB2:\n",
    "    heapq.heappush(q, (-B, BA))"
   ]
  },
  {
   "cell_type": "code",
   "execution_count": 38,
   "id": "ed9b0f1c-c450-4081-87fa-d627a8730296",
   "metadata": {},
   "outputs": [],
   "source": [
    "ans = 0\n",
    "cnt = 0\n",
    "while cnt < K:\n",
    "    B, BA = heapq.heappop(q)\n",
    "    ans += -B\n",
    "    cnt += 1\n",
    "    heapq.heappush(q, (-BA, 0))\n",
    "    "
   ]
  },
  {
   "cell_type": "code",
   "execution_count": 37,
   "id": "6b87a9b0-8761-41a3-8376-19a695707299",
   "metadata": {},
   "outputs": [
    {
     "name": "stdout",
     "output_type": "stream",
     "text": [
      "21\n"
     ]
    }
   ],
   "source": [
    "print(ans)"
   ]
  },
  {
   "cell_type": "code",
   "execution_count": 31,
   "id": "6e5e6ee1-92ce-4aa9-8331-16e439389c45",
   "metadata": {},
   "outputs": [
    {
     "data": {
      "text/plain": [
       "([(-3, 1), (-5, 4), (-8, 7), (-6, 2)],\n",
       " [(8, 7), (6, 2), (5, 4), (3, 1)],\n",
       " [(8, 7), (5, 4), (6, 2), (3, 1)])"
      ]
     },
     "execution_count": 31,
     "metadata": {},
     "output_type": "execute_result"
    }
   ],
   "source": [
    "AB2, AB2_s1, AB2_s2"
   ]
  },
  {
   "cell_type": "code",
   "execution_count": 34,
   "id": "0fb67ac5-634f-4dc5-b570-0da62ad9e4c6",
   "metadata": {},
   "outputs": [
    {
     "data": {
      "text/plain": [
       "[(3, 1), (5, 4), (8, 7), (6, 2)]"
      ]
     },
     "execution_count": 34,
     "metadata": {},
     "output_type": "execute_result"
    }
   ],
   "source": [
    "q"
   ]
  },
  {
   "cell_type": "code",
   "execution_count": 19,
   "id": "ffd99c5c-70b4-408a-8625-483828a05f01",
   "metadata": {},
   "outputs": [
    {
     "data": {
      "text/plain": [
       "3"
      ]
     },
     "execution_count": 19,
     "metadata": {},
     "output_type": "execute_result"
    }
   ],
   "source": [
    "cnt"
   ]
  },
  {
   "cell_type": "code",
   "execution_count": null,
   "id": "14391542-7fd2-4786-8762-5e577046d0e0",
   "metadata": {},
   "outputs": [],
   "source": []
  }
 ],
 "metadata": {
  "kernelspec": {
   "display_name": "Python 3",
   "language": "python",
   "name": "python3"
  },
  "language_info": {
   "codemirror_mode": {
    "name": "ipython",
    "version": 3
   },
   "file_extension": ".py",
   "mimetype": "text/x-python",
   "name": "python",
   "nbconvert_exporter": "python",
   "pygments_lexer": "ipython3",
   "version": "3.6.13"
  }
 },
 "nbformat": 4,
 "nbformat_minor": 5
}
