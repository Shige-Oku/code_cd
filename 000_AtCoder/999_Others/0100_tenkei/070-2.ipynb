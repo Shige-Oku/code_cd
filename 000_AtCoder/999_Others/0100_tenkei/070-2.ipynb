{
 "cells": [
  {
   "cell_type": "code",
   "execution_count": null,
   "id": "3c0dfecd-4907-4fe6-9875-35b7a90b702e",
   "metadata": {},
   "outputs": [],
   "source": [
    "# 解説を読んで実装"
   ]
  },
  {
   "cell_type": "code",
   "execution_count": 1,
   "id": "9598740c-4b38-4afa-b96e-0c40108097da",
   "metadata": {},
   "outputs": [],
   "source": [
    "import sys\n",
    "import numpy as np\n",
    "import math\n",
    "import collections\n",
    "import copy\n",
    "import decimal\n",
    "import itertools\n",
    "import re\n",
    "import bisect\n",
    "import scipy\n",
    "import heapq\n",
    "from collections import deque \n",
    "from functools import reduce\n",
    "from itertools import product\n",
    "from itertools import combinations\n",
    "from itertools import chain\n",
    "from functools import lru_cache\n",
    "from scipy.special import comb\n",
    "from numba import njit\n",
    "from bisect import bisect_right\n",
    "from bisect import bisect_left"
   ]
  },
  {
   "cell_type": "code",
   "execution_count": 2,
   "id": "33543d99-2759-46a9-8297-94132dc241d5",
   "metadata": {},
   "outputs": [
    {
     "name": "stdin",
     "output_type": "stream",
     "text": [
      " 5\n"
     ]
    }
   ],
   "source": [
    "N = int(input())"
   ]
  },
  {
   "cell_type": "code",
   "execution_count": 16,
   "id": "4789481b-17f5-4463-941f-fe1fe5839dfa",
   "metadata": {},
   "outputs": [
    {
     "name": "stdin",
     "output_type": "stream",
     "text": [
      " 2 5\n",
      " 2 5\n",
      " -3 4\n",
      " -4 -8\n",
      " 6 -2\n"
     ]
    }
   ],
   "source": [
    "XY = [list(map(int, input().split())) for _ in range(N)]"
   ]
  },
  {
   "cell_type": "code",
   "execution_count": 17,
   "id": "0099ad8c-aabb-43ed-ba6b-5f4ab66aa27f",
   "metadata": {},
   "outputs": [],
   "source": [
    "XY_sx = sorted(XY)\n",
    "XY_sy = sorted(XY, key=lambda x:x[1])\n",
    "xc = XY_sx[N//2][0]\n",
    "yc = XY_sy[N//2][1]"
   ]
  },
  {
   "cell_type": "code",
   "execution_count": 18,
   "id": "b0d6a133-d175-422b-8e4d-d21d7b897dd6",
   "metadata": {},
   "outputs": [],
   "source": [
    "ans = 0\n",
    "for x, y in XY:\n",
    "    ans += abs(xc-x) + abs(yc-y)"
   ]
  },
  {
   "cell_type": "code",
   "execution_count": 19,
   "id": "71f4b69d-e46a-4a61-b13d-5dd9581023c0",
   "metadata": {},
   "outputs": [
    {
     "name": "stdout",
     "output_type": "stream",
     "text": [
      "35\n"
     ]
    }
   ],
   "source": [
    "print(ans)"
   ]
  },
  {
   "cell_type": "code",
   "execution_count": 20,
   "id": "10bc5cf5-b7a4-4608-8693-16cdc12ea3c7",
   "metadata": {},
   "outputs": [
    {
     "data": {
      "text/plain": [
       "(2, 4)"
      ]
     },
     "execution_count": 20,
     "metadata": {},
     "output_type": "execute_result"
    }
   ],
   "source": [
    "xc, yc"
   ]
  },
  {
   "cell_type": "code",
   "execution_count": 10,
   "id": "2236c3fb-c828-4353-b040-5c241dcd7eb3",
   "metadata": {},
   "outputs": [
    {
     "data": {
      "text/plain": [
       "([[-4, -8], [-3, 4], [2, 5], [2, 5], [6, 2]],\n",
       " [[-4, -8], [6, 2], [-3, 4], [2, 5], [2, 5]])"
      ]
     },
     "execution_count": 10,
     "metadata": {},
     "output_type": "execute_result"
    }
   ],
   "source": [
    "XY_sx, XY_sy"
   ]
  },
  {
   "cell_type": "code",
   "execution_count": null,
   "id": "1728799f-8100-42a9-a0ff-9fb7634b971c",
   "metadata": {},
   "outputs": [],
   "source": []
  }
 ],
 "metadata": {
  "kernelspec": {
   "display_name": "Python 3",
   "language": "python",
   "name": "python3"
  },
  "language_info": {
   "codemirror_mode": {
    "name": "ipython",
    "version": 3
   },
   "file_extension": ".py",
   "mimetype": "text/x-python",
   "name": "python",
   "nbconvert_exporter": "python",
   "pygments_lexer": "ipython3",
   "version": "3.6.13"
  }
 },
 "nbformat": 4,
 "nbformat_minor": 5
}
