{
 "cells": [
  {
   "cell_type": "code",
   "execution_count": 1,
   "id": "8f11b912-6c03-4e44-b9f2-94a2239f6b59",
   "metadata": {},
   "outputs": [],
   "source": [
    "import sys\n",
    "import numpy as np\n",
    "import math\n",
    "import collections\n",
    "import copy\n",
    "import decimal\n",
    "import itertools\n",
    "import re\n",
    "import bisect\n",
    "import scipy\n",
    "import heapq\n",
    "from collections import deque \n",
    "from functools import reduce\n",
    "from itertools import product\n",
    "from itertools import combinations\n",
    "from itertools import chain\n",
    "from functools import lru_cache\n",
    "from scipy.special import comb\n",
    "from numba import njit\n",
    "from bisect import bisect_right\n",
    "from bisect import bisect_left"
   ]
  },
  {
   "cell_type": "code",
   "execution_count": 32,
   "id": "198887c8-1141-49af-9938-d7c887d51c66",
   "metadata": {},
   "outputs": [
    {
     "name": "stdin",
     "output_type": "stream",
     "text": [
      " 5\n"
     ]
    }
   ],
   "source": [
    "N = int(input())"
   ]
  },
  {
   "cell_type": "code",
   "execution_count": 33,
   "id": "f11d6008-f4c2-401b-8f41-d48adc8bbe50",
   "metadata": {},
   "outputs": [
    {
     "name": "stdin",
     "output_type": "stream",
     "text": [
      " 1 2\n",
      " 2 3\n",
      " 3 4\n",
      " 3 5\n"
     ]
    }
   ],
   "source": [
    "AB = [list(map(int, input().split())) for _ in range(N-1)]"
   ]
  },
  {
   "cell_type": "code",
   "execution_count": 52,
   "id": "f8ef4183-7cab-4f29-9384-0dbd5999703b",
   "metadata": {},
   "outputs": [],
   "source": [
    "graph = [[] for _ in range(N+1)]\n",
    "for A, B in AB:\n",
    "    graph[A].append(B)\n",
    "    graph[B].append(A)"
   ]
  },
  {
   "cell_type": "code",
   "execution_count": null,
   "id": "daec5c9b-f393-49de-8a27-4e27a90c01eb",
   "metadata": {},
   "outputs": [],
   "source": [
    "# WA"
   ]
  },
  {
   "cell_type": "code",
   "execution_count": 50,
   "id": "a77ff5ad-cef9-463c-8b8c-7d4e2124d44a",
   "metadata": {},
   "outputs": [],
   "source": [
    "def DFS(n):\n",
    "#     print(n)\n",
    "    if len(graph[n]) == 0:\n",
    "        return 1\n",
    "    ret = []\n",
    "    visit[n] = True\n",
    "    for ne in graph[n]:\n",
    "        if visit[ne]:\n",
    "            continue\n",
    "        ret.append(DFS(ne))\n",
    "    if len(ret) == 0:\n",
    "        return 1\n",
    "    elif len(ret) == 1:\n",
    "        return ret[0]+1\n",
    "    elif n == 1:\n",
    "        return max(ret) + min(ret)\n",
    "    else:\n",
    "        return max(ret)+1\n",
    "        "
   ]
  },
  {
   "cell_type": "code",
   "execution_count": 51,
   "id": "d082af8a-a64a-4acf-a0f3-5a4324dcaa4b",
   "metadata": {},
   "outputs": [
    {
     "name": "stdout",
     "output_type": "stream",
     "text": [
      "4\n"
     ]
    }
   ],
   "source": [
    "visit = [False] * (N+1)\n",
    "print(DFS(1))"
   ]
  },
  {
   "cell_type": "code",
   "execution_count": 47,
   "id": "d28b3f32-9026-4474-ae66-988756cd9de4",
   "metadata": {},
   "outputs": [
    {
     "data": {
      "text/plain": [
       "([[], [2], [1, 3], [2, 4, 5], [3], [3]], [False, True, True, True, True, True])"
      ]
     },
     "execution_count": 47,
     "metadata": {},
     "output_type": "execute_result"
    }
   ],
   "source": [
    "graph, visit"
   ]
  },
  {
   "cell_type": "code",
   "execution_count": null,
   "id": "ea7d0bfe-9cb2-4350-ad3b-824298390c42",
   "metadata": {},
   "outputs": [],
   "source": [
    "# TLE"
   ]
  },
  {
   "cell_type": "code",
   "execution_count": 53,
   "id": "5fc39790-7401-433c-8c2c-c3e91fbea532",
   "metadata": {},
   "outputs": [],
   "source": [
    "def solve(n):\n",
    "    q = deque()\n",
    "    q.append((n, 0))\n",
    "    dis[n] = 0\n",
    "    while q:\n",
    "        p, d = q.popleft()\n",
    "        visit[p] = True\n",
    "        dis[p] = d\n",
    "        for p2 in graph[p]:\n",
    "            if visit[p2]:\n",
    "                continue\n",
    "            if dis[p2] != -1:\n",
    "                continue\n",
    "            q.append((p2, dis[p]+1))\n"
   ]
  },
  {
   "cell_type": "code",
   "execution_count": 55,
   "id": "94686bd7-73e0-4133-b9c4-55c927d1c156",
   "metadata": {},
   "outputs": [
    {
     "name": "stdout",
     "output_type": "stream",
     "text": [
      "0\n"
     ]
    }
   ],
   "source": [
    "ans = 0\n",
    "for i in range(N):\n",
    "    if len(graph[i]) > 1:\n",
    "        continue\n",
    "    visit = [False] * (N+1)\n",
    "    dis = [-1] * (N+1)\n",
    "    solve(i)\n",
    "    print(max(dis[1:])+1)\n",
    "    break\n",
    "#     ans = max(ans, max(dis[1:]))\n",
    "# print(ans+1)"
   ]
  },
  {
   "cell_type": "code",
   "execution_count": 56,
   "id": "01aaa451-d196-4c9e-b067-e9c3bf895582",
   "metadata": {},
   "outputs": [
    {
     "data": {
      "text/plain": [
       "[[], [2], [1, 3], [2, 4, 5], [3], [3]]"
      ]
     },
     "execution_count": 56,
     "metadata": {},
     "output_type": "execute_result"
    }
   ],
   "source": [
    "graph"
   ]
  },
  {
   "cell_type": "code",
   "execution_count": 10,
   "id": "f4aec0ca-70e7-4fc8-92b9-3c07fcfa3486",
   "metadata": {},
   "outputs": [
    {
     "data": {
      "text/plain": [
       "([False, True, True, True], [-1, 0, 1, 2])"
      ]
     },
     "execution_count": 10,
     "metadata": {},
     "output_type": "execute_result"
    }
   ],
   "source": [
    "visit, dis"
   ]
  },
  {
   "cell_type": "code",
   "execution_count": null,
   "id": "74bd955e-3a1e-4519-8324-e7c046637d22",
   "metadata": {},
   "outputs": [],
   "source": []
  }
 ],
 "metadata": {
  "kernelspec": {
   "display_name": "Python 3",
   "language": "python",
   "name": "python3"
  },
  "language_info": {
   "codemirror_mode": {
    "name": "ipython",
    "version": 3
   },
   "file_extension": ".py",
   "mimetype": "text/x-python",
   "name": "python",
   "nbconvert_exporter": "python",
   "pygments_lexer": "ipython3",
   "version": "3.6.13"
  }
 },
 "nbformat": 4,
 "nbformat_minor": 5
}
