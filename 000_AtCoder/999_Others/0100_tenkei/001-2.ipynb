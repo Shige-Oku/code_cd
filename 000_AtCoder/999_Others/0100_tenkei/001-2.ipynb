{
 "cells": [
  {
   "cell_type": "code",
   "execution_count": null,
   "id": "a8f1f159-6109-4c77-935d-76d483429018",
   "metadata": {},
   "outputs": [],
   "source": [
    "# 解説を読んで実装"
   ]
  },
  {
   "cell_type": "code",
   "execution_count": 1,
   "id": "70cc45e8-86c0-4819-a764-9bacade74a60",
   "metadata": {},
   "outputs": [],
   "source": [
    "import sys\n",
    "import numpy as np\n",
    "import math\n",
    "import collections\n",
    "import copy\n",
    "import decimal\n",
    "import itertools\n",
    "import re\n",
    "import bisect\n",
    "import scipy\n",
    "import heapq\n",
    "from collections import deque \n",
    "from functools import reduce\n",
    "from itertools import product\n",
    "from itertools import combinations\n",
    "from itertools import chain\n",
    "from functools import lru_cache\n",
    "from scipy.special import comb\n",
    "from numba import njit\n",
    "from bisect import bisect_right\n",
    "from bisect import bisect_left"
   ]
  },
  {
   "cell_type": "code",
   "execution_count": 135,
   "id": "8337c4a9-a33b-4ac4-b8fe-9fb17811cb08",
   "metadata": {},
   "outputs": [
    {
     "name": "stdin",
     "output_type": "stream",
     "text": [
      " 7 45\n"
     ]
    }
   ],
   "source": [
    "N, L = map(int, input().split())"
   ]
  },
  {
   "cell_type": "code",
   "execution_count": 136,
   "id": "086f2913-a40c-4c0f-b605-4d89f4a9d344",
   "metadata": {},
   "outputs": [
    {
     "name": "stdin",
     "output_type": "stream",
     "text": [
      " 2\n"
     ]
    }
   ],
   "source": [
    "K = int(input())"
   ]
  },
  {
   "cell_type": "code",
   "execution_count": 137,
   "id": "5a29d41e-848d-4e58-933b-e3123e31270b",
   "metadata": {},
   "outputs": [
    {
     "name": "stdin",
     "output_type": "stream",
     "text": [
      " 7 11 16 20 28 34 38\n"
     ]
    }
   ],
   "source": [
    "An = list(map(int, input().split()))"
   ]
  },
  {
   "cell_type": "code",
   "execution_count": 161,
   "id": "156334ce-41a0-4b77-8fac-23df335ec1d4",
   "metadata": {},
   "outputs": [],
   "source": [
    "An2 = [An[0], ]\n",
    "for i in range(1, N):\n",
    "    An2.append(An[i]-An[i-1])\n",
    "An2.append(L-An[-1])"
   ]
  },
  {
   "cell_type": "code",
   "execution_count": 183,
   "id": "2b4d5298-443a-4139-942e-62af5c3e7a73",
   "metadata": {},
   "outputs": [],
   "source": [
    "def check(n):\n",
    "    cnt = 0\n",
    "    t = 0\n",
    "    for i in range(N+1):\n",
    "        t += An2[i]\n",
    "        if t >= n:\n",
    "            cnt += 1\n",
    "            t = 0\n",
    "    if cnt >= K+1:\n",
    "        return True\n",
    "    else:\n",
    "        return False\n"
   ]
  },
  {
   "cell_type": "code",
   "execution_count": 184,
   "id": "819b1ee7-5ef7-4951-9bad-de5a82d2a373",
   "metadata": {},
   "outputs": [],
   "source": [
    "def my_bisect():\n",
    "    l = 1\n",
    "    r = L\n",
    "    while r - l  > 1:\n",
    "        m = (r + l) // 2\n",
    "        if check(m):\n",
    "            l = m\n",
    "        else:\n",
    "            r = m\n",
    "    return l"
   ]
  },
  {
   "cell_type": "code",
   "execution_count": 185,
   "id": "eac5ad8c-bf04-468e-967b-8ec019bec5c3",
   "metadata": {},
   "outputs": [
    {
     "name": "stdout",
     "output_type": "stream",
     "text": [
      "12\n"
     ]
    }
   ],
   "source": [
    "print(my_bisect())"
   ]
  },
  {
   "cell_type": "code",
   "execution_count": 154,
   "id": "6d35b2c2-b749-40b1-96e1-5d76125ef6e6",
   "metadata": {},
   "outputs": [
    {
     "data": {
      "text/plain": [
       "[7, 4, 5, 4, 8, 6, 4, 7]"
      ]
     },
     "execution_count": 154,
     "metadata": {},
     "output_type": "execute_result"
    }
   ],
   "source": [
    "An2"
   ]
  },
  {
   "cell_type": "code",
   "execution_count": 104,
   "id": "d6f13ac3-c3ba-47ec-a6e8-ac6163727fed",
   "metadata": {},
   "outputs": [],
   "source": [
    "def check(n):\n",
    "    s, g = 0, 0\n",
    "    t = An2[0]\n",
    "    for i in range(K+1):\n",
    "        while t < n and g < N:\n",
    "            g += 1\n",
    "            t += An2[g]\n",
    "            if g >= N+1:\n",
    "                return False\n",
    "        if t < n:\n",
    "            return False\n",
    "        if i < K:\n",
    "            if g + 1 >= N:\n",
    "                return False\n",
    "            g += 1\n",
    "            s = g\n",
    "            t = An2[s]\n",
    "    if t < n:\n",
    "        return False\n",
    "    return True"
   ]
  },
  {
   "cell_type": "code",
   "execution_count": 68,
   "id": "23e15016-94fe-4d58-b8b7-9938ab63eabb",
   "metadata": {},
   "outputs": [
    {
     "name": "stdout",
     "output_type": "stream",
     "text": [
      "9\n",
      "0:0:0\n",
      "1:2:2\n"
     ]
    },
    {
     "data": {
      "text/plain": [
       "True"
      ]
     },
     "execution_count": 68,
     "metadata": {},
     "output_type": "execute_result"
    }
   ],
   "source": [
    "check(9)"
   ]
  },
  {
   "cell_type": "code",
   "execution_count": null,
   "id": "745a86fa-6765-4c3c-bcea-a9f5754b9b9d",
   "metadata": {},
   "outputs": [],
   "source": []
  }
 ],
 "metadata": {
  "kernelspec": {
   "display_name": "Python 3",
   "language": "python",
   "name": "python3"
  },
  "language_info": {
   "codemirror_mode": {
    "name": "ipython",
    "version": 3
   },
   "file_extension": ".py",
   "mimetype": "text/x-python",
   "name": "python",
   "nbconvert_exporter": "python",
   "pygments_lexer": "ipython3",
   "version": "3.6.13"
  }
 },
 "nbformat": 4,
 "nbformat_minor": 5
}
