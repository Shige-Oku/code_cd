{
 "cells": [
  {
   "cell_type": "code",
   "execution_count": 1,
   "id": "3eee8426-8779-45c8-a305-54a70cabeac9",
   "metadata": {},
   "outputs": [],
   "source": [
    "# 解説を読んで実装"
   ]
  },
  {
   "cell_type": "code",
   "execution_count": 2,
   "id": "fdb6d46f-3636-48b6-baa4-8dedd1bd3920",
   "metadata": {},
   "outputs": [],
   "source": [
    "import sys\n",
    "import numpy as np\n",
    "import math\n",
    "import collections\n",
    "import copy\n",
    "import decimal\n",
    "import itertools\n",
    "import re\n",
    "import bisect\n",
    "import scipy\n",
    "import heapq\n",
    "from collections import deque \n",
    "from functools import reduce\n",
    "from itertools import product\n",
    "from itertools import combinations\n",
    "from itertools import chain\n",
    "from functools import lru_cache\n",
    "from scipy.special import comb\n",
    "from numba import njit\n",
    "from bisect import bisect_right\n",
    "from bisect import bisect_left"
   ]
  },
  {
   "cell_type": "code",
   "execution_count": 23,
   "id": "5e74319f-b181-4bdd-ab53-ef5f2df27c4a",
   "metadata": {},
   "outputs": [
    {
     "name": "stdin",
     "output_type": "stream",
     "text": [
      " 53\n"
     ]
    }
   ],
   "source": [
    "N = int(input())"
   ]
  },
  {
   "cell_type": "code",
   "execution_count": 24,
   "id": "0027f609-aaba-4d43-b5df-21ccca8b40ae",
   "metadata": {},
   "outputs": [],
   "source": [
    "ans = 0\n",
    "num = N\n",
    "for i in range(2, int(math.sqrt(N)+2)):\n",
    "    while num > 1:\n",
    "        if num % i != 0:\n",
    "            break\n",
    "        ans += 1\n",
    "        num //= i"
   ]
  },
  {
   "cell_type": "code",
   "execution_count": 25,
   "id": "83cd89c2-e8f3-427b-9b96-a3d0bb206ca0",
   "metadata": {},
   "outputs": [
    {
     "name": "stdout",
     "output_type": "stream",
     "text": [
      "0\n"
     ]
    }
   ],
   "source": [
    "if ans == 0:\n",
    "    print(ans)\n",
    "else:\n",
    "    if num > 1:\n",
    "        ans += 1\n",
    "    print(math.ceil(math.log2(ans)))"
   ]
  },
  {
   "cell_type": "code",
   "execution_count": 15,
   "id": "901ffac8-4768-4c76-8d05-38d46f4e2249",
   "metadata": {},
   "outputs": [
    {
     "data": {
      "text/plain": [
       "(3, 1)"
      ]
     },
     "execution_count": 15,
     "metadata": {},
     "output_type": "execute_result"
    }
   ],
   "source": [
    "ans, num"
   ]
  },
  {
   "cell_type": "code",
   "execution_count": null,
   "id": "2b0b6c50-ce3c-47b2-8f0b-5b9ecea272b6",
   "metadata": {},
   "outputs": [],
   "source": []
  }
 ],
 "metadata": {
  "kernelspec": {
   "display_name": "Python 3",
   "language": "python",
   "name": "python3"
  },
  "language_info": {
   "codemirror_mode": {
    "name": "ipython",
    "version": 3
   },
   "file_extension": ".py",
   "mimetype": "text/x-python",
   "name": "python",
   "nbconvert_exporter": "python",
   "pygments_lexer": "ipython3",
   "version": "3.6.13"
  }
 },
 "nbformat": 4,
 "nbformat_minor": 5
}
