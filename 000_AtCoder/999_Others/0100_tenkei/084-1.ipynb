{
 "cells": [
  {
   "cell_type": "code",
   "execution_count": 1,
   "id": "8d17f910-b8c3-4916-98ac-f8bbc4085a06",
   "metadata": {},
   "outputs": [],
   "source": [
    "import sys\n",
    "import numpy as np\n",
    "import math\n",
    "import collections\n",
    "import copy\n",
    "import decimal\n",
    "import itertools\n",
    "import re\n",
    "import bisect\n",
    "import scipy\n",
    "import heapq\n",
    "from collections import deque \n",
    "from functools import reduce\n",
    "from itertools import product\n",
    "from itertools import combinations\n",
    "from itertools import chain\n",
    "from functools import lru_cache\n",
    "from scipy.special import comb\n",
    "from numba import njit\n",
    "from bisect import bisect_right\n",
    "from bisect import bisect_left"
   ]
  },
  {
   "cell_type": "code",
   "execution_count": 45,
   "id": "03f9dc2c-6329-4e4e-8e72-e765261279e5",
   "metadata": {},
   "outputs": [
    {
     "name": "stdin",
     "output_type": "stream",
     "text": [
      " 7\n"
     ]
    }
   ],
   "source": [
    "N = int(input())"
   ]
  },
  {
   "cell_type": "code",
   "execution_count": 46,
   "id": "e6ff27db-2ac2-4ad9-9f5e-661d3f1f9d47",
   "metadata": {},
   "outputs": [
    {
     "name": "stdin",
     "output_type": "stream",
     "text": [
      " xxoooxx\n"
     ]
    }
   ],
   "source": [
    "S = input()"
   ]
  },
  {
   "cell_type": "code",
   "execution_count": 47,
   "id": "c1eaf04e-6da2-4ea6-91d8-8ff202e83c3d",
   "metadata": {},
   "outputs": [],
   "source": [
    "cnt_m = [0] * (N+1)\n",
    "cnt_b = [0] * (N+1)\n",
    "for i, s in enumerate(S, 1):\n",
    "    if s == 'o':\n",
    "        cnt_m[i] = cnt_m[i-1] + 1\n",
    "        cnt_b[i] = cnt_b[i-1]\n",
    "    else:\n",
    "        cnt_m[i] = cnt_m[i-1]\n",
    "        cnt_b[i] = cnt_b[i-1] + 1"
   ]
  },
  {
   "cell_type": "code",
   "execution_count": 48,
   "id": "deedd8fa-8da2-41a1-9442-99e64ebf44b9",
   "metadata": {},
   "outputs": [],
   "source": [
    "ans = 0\n",
    "for i, s in enumerate(S, 1):\n",
    "    if s == 'o':\n",
    "        p = bisect_right(cnt_b, cnt_b[i])\n",
    "    else:\n",
    "        p = bisect_right(cnt_m, cnt_m[i])\n",
    "    if p <= N:\n",
    "        ans += N - p + 1"
   ]
  },
  {
   "cell_type": "code",
   "execution_count": 49,
   "id": "cf802d01-2f32-40a2-ac3c-133329768331",
   "metadata": {},
   "outputs": [
    {
     "name": "stdout",
     "output_type": "stream",
     "text": [
      "16\n"
     ]
    }
   ],
   "source": [
    "print(ans)"
   ]
  },
  {
   "cell_type": "code",
   "execution_count": 44,
   "id": "e200bbe0-2302-41fc-aca7-f9e0e265d5e1",
   "metadata": {},
   "outputs": [
    {
     "data": {
      "text/plain": [
       "([0, 1, 2, 2, 3], [0, 0, 0, 1, 1])"
      ]
     },
     "execution_count": 44,
     "metadata": {},
     "output_type": "execute_result"
    }
   ],
   "source": [
    "cnt_m, cnt_b"
   ]
  },
  {
   "cell_type": "code",
   "execution_count": null,
   "id": "f679a034-1a8e-4ede-b5d8-7921d91a3ad3",
   "metadata": {},
   "outputs": [],
   "source": []
  }
 ],
 "metadata": {
  "kernelspec": {
   "display_name": "Python 3",
   "language": "python",
   "name": "python3"
  },
  "language_info": {
   "codemirror_mode": {
    "name": "ipython",
    "version": 3
   },
   "file_extension": ".py",
   "mimetype": "text/x-python",
   "name": "python",
   "nbconvert_exporter": "python",
   "pygments_lexer": "ipython3",
   "version": "3.6.13"
  }
 },
 "nbformat": 4,
 "nbformat_minor": 5
}
