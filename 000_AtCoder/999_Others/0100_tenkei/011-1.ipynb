{
 "cells": [
  {
   "cell_type": "code",
   "execution_count": null,
   "id": "3a60b6ed-031a-4f53-bc0d-d2497ab14c46",
   "metadata": {},
   "outputs": [],
   "source": [
    "# TLE"
   ]
  },
  {
   "cell_type": "code",
   "execution_count": 1,
   "id": "f11e9fed-22f2-4e58-91c5-adbaa1f734f4",
   "metadata": {},
   "outputs": [],
   "source": [
    "import sys\n",
    "import numpy as np\n",
    "import math\n",
    "import collections\n",
    "import copy\n",
    "import decimal\n",
    "import itertools\n",
    "import re\n",
    "import bisect\n",
    "import scipy\n",
    "import heapq\n",
    "from collections import deque \n",
    "from functools import reduce\n",
    "from itertools import product\n",
    "from itertools import combinations\n",
    "from itertools import chain\n",
    "from functools import lru_cache\n",
    "from scipy.special import comb\n",
    "from numba import njit\n",
    "from bisect import bisect_right\n",
    "from bisect import bisect_left"
   ]
  },
  {
   "cell_type": "code",
   "execution_count": 2,
   "id": "f14767ee-0dab-43ad-a2ab-383ffcf3a607",
   "metadata": {},
   "outputs": [
    {
     "name": "stdin",
     "output_type": "stream",
     "text": [
      " 3 3\n"
     ]
    }
   ],
   "source": [
    "H, W = map(int, input().split())"
   ]
  },
  {
   "cell_type": "code",
   "execution_count": 3,
   "id": "3b951670-8428-4189-8cc9-35f7718a7fab",
   "metadata": {},
   "outputs": [
    {
     "name": "stdin",
     "output_type": "stream",
     "text": [
      " 10\n"
     ]
    }
   ],
   "source": [
    "Q = int(input())"
   ]
  },
  {
   "cell_type": "code",
   "execution_count": 4,
   "id": "3d7631ed-236d-4b56-8b12-d2758f23f4cc",
   "metadata": {},
   "outputs": [
    {
     "name": "stdin",
     "output_type": "stream",
     "text": [
      " 1 2 2\n",
      " 1 1 1\n",
      " 2 1 1 2 2\n",
      " 1 3 2\n",
      " 2 1 1 2 2\n",
      " 2 2 2 3 2\n",
      " 1 2 3\n",
      " 1 2 1\n",
      " 2 1 1 2 2\n",
      " 2 1 1 3 3\n"
     ]
    }
   ],
   "source": [
    "Qn = [list(map(int, input().split())) for _ in range(Q)]"
   ]
  },
  {
   "cell_type": "code",
   "execution_count": 16,
   "id": "3231e4e4-6915-488d-8892-712d40c89f2d",
   "metadata": {},
   "outputs": [],
   "source": [
    "def solve(r1, c1, r2, c2):\n",
    "    if matrix[r1][c1] & matrix[r2][c2]:\n",
    "        pass\n",
    "    else:\n",
    "        return False\n",
    "    visit = [[False] * (W+2) for _ in range(H+2)]\n",
    "    q = deque()\n",
    "    q.append((r1, c1))\n",
    "    while q:\n",
    "        r, c = q.popleft()\n",
    "        visit[r][c] = True\n",
    "        for h, w in ((0, -1), (0, 1), (-1, 0), (1, 0)):\n",
    "            if matrix[r+h][c+w] == 0:\n",
    "                continue\n",
    "            if visit[r+h][c+w]:\n",
    "                continue\n",
    "            q.append((r+h, c+w))\n",
    "    if visit[r2][c2]:\n",
    "        return True\n",
    "    else:\n",
    "        return False"
   ]
  },
  {
   "cell_type": "code",
   "execution_count": 17,
   "id": "53b86684-dc15-4db3-b925-3c8d60de02c1",
   "metadata": {},
   "outputs": [
    {
     "name": "stdout",
     "output_type": "stream",
     "text": [
      "No\n",
      "No\n",
      "Yes\n",
      "Yes\n",
      "No\n"
     ]
    }
   ],
   "source": [
    "matrix = [[0] * (W+2) for _ in range(H+2)]\n",
    "visit = [[False] * (W+2) for _ in range(H+2)] \n",
    "for q in Qn:\n",
    "    if q[0] == 1:\n",
    "        _, r, c = q\n",
    "        matrix[r][c] = 1\n",
    "    else:\n",
    "        _, r1, c1, r2, c2 = q\n",
    "        if solve(r1, c1, r2, c2):\n",
    "            print('Yes')\n",
    "        else:\n",
    "            print('No')\n"
   ]
  },
  {
   "cell_type": "code",
   "execution_count": 7,
   "id": "75cad38e-e335-4411-87a3-e40a82fbf4eb",
   "metadata": {},
   "outputs": [
    {
     "data": {
      "text/plain": [
       "[[0, 0, 0, 0, 0],\n",
       " [0, 0, 0, 0, 0],\n",
       " [0, 0, 0, 0, 0],\n",
       " [0, 0, 0, 0, 0],\n",
       " [0, 0, 0, 0, 0]]"
      ]
     },
     "execution_count": 7,
     "metadata": {},
     "output_type": "execute_result"
    }
   ],
   "source": [
    "matrix"
   ]
  },
  {
   "cell_type": "code",
   "execution_count": 9,
   "id": "28ba22c8-31d4-4a69-81f1-bff8c48bf0cd",
   "metadata": {},
   "outputs": [
    {
     "data": {
      "text/plain": [
       "0"
      ]
     },
     "execution_count": 9,
     "metadata": {},
     "output_type": "execute_result"
    }
   ],
   "source": [
    "0 & 0"
   ]
  },
  {
   "cell_type": "code",
   "execution_count": 10,
   "id": "4d6d8971-7eef-45b3-bd7b-e1798bee50a9",
   "metadata": {},
   "outputs": [
    {
     "name": "stdout",
     "output_type": "stream",
     "text": [
      "False\n"
     ]
    }
   ],
   "source": [
    "if 0 & 0:\n",
    "    print('True')\n",
    "else:\n",
    "    print('False')"
   ]
  },
  {
   "cell_type": "code",
   "execution_count": null,
   "id": "2979452b-0d72-474a-9f66-59679a4913a1",
   "metadata": {},
   "outputs": [],
   "source": []
  }
 ],
 "metadata": {
  "kernelspec": {
   "display_name": "Python 3",
   "language": "python",
   "name": "python3"
  },
  "language_info": {
   "codemirror_mode": {
    "name": "ipython",
    "version": 3
   },
   "file_extension": ".py",
   "mimetype": "text/x-python",
   "name": "python",
   "nbconvert_exporter": "python",
   "pygments_lexer": "ipython3",
   "version": "3.6.13"
  }
 },
 "nbformat": 4,
 "nbformat_minor": 5
}
