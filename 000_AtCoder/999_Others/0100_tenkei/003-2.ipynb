{
 "cells": [
  {
   "cell_type": "code",
   "execution_count": null,
   "id": "977dacf6-46c1-48fe-85b6-762b52c6e5e8",
   "metadata": {},
   "outputs": [],
   "source": [
    "# 解説を読んで実装"
   ]
  },
  {
   "cell_type": "code",
   "execution_count": 1,
   "id": "1cafb46d-1991-455f-ae19-76cff9392a33",
   "metadata": {},
   "outputs": [],
   "source": [
    "import sys\n",
    "import numpy as np\n",
    "import math\n",
    "import collections\n",
    "import copy\n",
    "import decimal\n",
    "import itertools\n",
    "import re\n",
    "import bisect\n",
    "import scipy\n",
    "import heapq\n",
    "from collections import deque \n",
    "from functools import reduce\n",
    "from itertools import product\n",
    "from itertools import combinations\n",
    "from itertools import chain\n",
    "from functools import lru_cache\n",
    "from scipy.special import comb\n",
    "from numba import njit\n",
    "from bisect import bisect_right\n",
    "from bisect import bisect_left"
   ]
  },
  {
   "cell_type": "code",
   "execution_count": 20,
   "id": "f2bd2593-0c8a-47b9-a953-0dfd088f0a32",
   "metadata": {},
   "outputs": [
    {
     "name": "stdin",
     "output_type": "stream",
     "text": [
      " 10\n"
     ]
    }
   ],
   "source": [
    "N = int(input())"
   ]
  },
  {
   "cell_type": "code",
   "execution_count": 21,
   "id": "2bbf4e01-c512-4fda-9813-c9e5ecb78abf",
   "metadata": {},
   "outputs": [
    {
     "name": "stdin",
     "output_type": "stream",
     "text": [
      " 1 2\n",
      " 1 3\n",
      " 2 4\n",
      " 4 5\n",
      " 4 6\n",
      " 3 7\n",
      " 7 8\n",
      " 8 9\n",
      " 8 10\n"
     ]
    }
   ],
   "source": [
    "AB = [list(map(int, input().split())) for _ in range(N-1)]"
   ]
  },
  {
   "cell_type": "code",
   "execution_count": 29,
   "id": "004b1ce8-fb38-4771-924b-23629eaeb3fa",
   "metadata": {},
   "outputs": [],
   "source": [
    "graph = [[] for _ in range(N+1)]\n",
    "for A, B in AB:\n",
    "    graph[A].append(B)\n",
    "    graph[B].append(A)"
   ]
  },
  {
   "cell_type": "code",
   "execution_count": 30,
   "id": "3cd39bc2-8651-48ba-9960-d3e9793e5690",
   "metadata": {},
   "outputs": [],
   "source": [
    "def BFS(n, visit, dis):\n",
    "    q = deque()\n",
    "    q.append((n, 0))\n",
    "    dis[n] = 0\n",
    "    while q:\n",
    "        p, d = q.popleft()\n",
    "        visit[p] = True\n",
    "        dis[p] = d\n",
    "        for p2 in graph[p]:\n",
    "            if visit[p2]:\n",
    "                continue\n",
    "            if dis[p2] != -1:\n",
    "                continue\n",
    "            q.append((p2, dis[p]+1))\n"
   ]
  },
  {
   "cell_type": "code",
   "execution_count": 35,
   "id": "f359b070-c753-463c-aee5-9ebf001778cf",
   "metadata": {},
   "outputs": [
    {
     "name": "stdout",
     "output_type": "stream",
     "text": [
      "8\n"
     ]
    }
   ],
   "source": [
    "visit1 = [False] * (N+1)\n",
    "dis1 = [-1] * (N+1)\n",
    "BFS(1, visit1, dis1)\n",
    "top = 1\n",
    "ma = 0\n",
    "for i in range(1, N+1):\n",
    "    if dis1[i] > ma:\n",
    "        ma = dis1[i]\n",
    "        top = i\n",
    "visit2 = [False] * (N+1)\n",
    "dis2 = [-1] * (N+1)\n",
    "BFS(top, visit2, dis2)\n",
    "print(max(dis2[1:])+1)"
   ]
  },
  {
   "cell_type": "code",
   "execution_count": 34,
   "id": "f6ea6953-6fd2-434f-a554-ce54f3556ee7",
   "metadata": {},
   "outputs": [
    {
     "data": {
      "text/plain": [
       "(4, 9)"
      ]
     },
     "execution_count": 34,
     "metadata": {},
     "output_type": "execute_result"
    }
   ],
   "source": [
    "ma, top"
   ]
  },
  {
   "cell_type": "code",
   "execution_count": 32,
   "id": "0789a9dc-1ac3-4fe4-8292-e5666dd18f10",
   "metadata": {},
   "outputs": [
    {
     "data": {
      "text/plain": [
       "([False, True, True, True, True, True, True, True, True, True, True],\n",
       " [-1, 0, 1, 1, 2, 3, 3, 2, 3, 4, 4])"
      ]
     },
     "execution_count": 32,
     "metadata": {},
     "output_type": "execute_result"
    }
   ],
   "source": [
    "visit1, dis1"
   ]
  },
  {
   "cell_type": "code",
   "execution_count": null,
   "id": "cf603a62-5eb9-4e1c-b36f-f3981c0b07ab",
   "metadata": {},
   "outputs": [],
   "source": []
  }
 ],
 "metadata": {
  "kernelspec": {
   "display_name": "Python 3",
   "language": "python",
   "name": "python3"
  },
  "language_info": {
   "codemirror_mode": {
    "name": "ipython",
    "version": 3
   },
   "file_extension": ".py",
   "mimetype": "text/x-python",
   "name": "python",
   "nbconvert_exporter": "python",
   "pygments_lexer": "ipython3",
   "version": "3.6.13"
  }
 },
 "nbformat": 4,
 "nbformat_minor": 5
}
