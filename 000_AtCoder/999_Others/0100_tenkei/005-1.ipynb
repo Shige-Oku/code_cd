{
 "cells": [
  {
   "cell_type": "code",
   "execution_count": null,
   "id": "d5e7459a-c17a-496c-bdc3-c66bb0ce87ce",
   "metadata": {},
   "outputs": [],
   "source": [
    "# TLE, MLE"
   ]
  },
  {
   "cell_type": "code",
   "execution_count": 1,
   "id": "c943b3ab-1d30-492a-be20-61482f3dba80",
   "metadata": {},
   "outputs": [],
   "source": [
    "import sys\n",
    "import numpy as np\n",
    "import math\n",
    "import collections\n",
    "import copy\n",
    "import decimal\n",
    "import itertools\n",
    "import re\n",
    "import bisect\n",
    "import scipy\n",
    "import heapq\n",
    "from collections import deque \n",
    "from functools import reduce\n",
    "from itertools import product\n",
    "from itertools import combinations\n",
    "from itertools import chain\n",
    "from functools import lru_cache\n",
    "from scipy.special import comb\n",
    "from numba import njit\n",
    "from bisect import bisect_right\n",
    "from bisect import bisect_left"
   ]
  },
  {
   "cell_type": "code",
   "execution_count": 10,
   "id": "98c7a341-8ac6-4293-82d0-c976b822027d",
   "metadata": {},
   "outputs": [],
   "source": [
    "sys.setrecursionlimit(10**7)"
   ]
  },
  {
   "cell_type": "code",
   "execution_count": 15,
   "id": "5399db3e-19e9-45de-a924-00487a30dd86",
   "metadata": {},
   "outputs": [
    {
     "name": "stdin",
     "output_type": "stream",
     "text": [
      " 14 5\n"
     ]
    }
   ],
   "source": [
    "N, K = map(int, input().split())"
   ]
  },
  {
   "cell_type": "code",
   "execution_count": 16,
   "id": "fe687420-abfb-4808-a9fb-5d2fb610a5de",
   "metadata": {},
   "outputs": [
    {
     "name": "stdin",
     "output_type": "stream",
     "text": [
      " kittyonyourlap\n"
     ]
    }
   ],
   "source": [
    "S = input()"
   ]
  },
  {
   "cell_type": "code",
   "execution_count": 43,
   "id": "6cac31d9-024f-4148-9a97-b462963a7ec8",
   "metadata": {},
   "outputs": [],
   "source": [
    "def DFS(s, l):\n",
    "    if l >= K:\n",
    "        return ''\n",
    "    c = 0\n",
    "    for i in range(len(s)-(K-l)+1):\n",
    "        if s[c] > s[i]:\n",
    "            c = i\n",
    "    return s[c] + (DFS(s[c+1:], l+1))"
   ]
  },
  {
   "cell_type": "code",
   "execution_count": 44,
   "id": "ee71de2a-9b52-4f19-972f-f46c3e712cbd",
   "metadata": {},
   "outputs": [
    {
     "name": "stdout",
     "output_type": "stream",
     "text": [
      "kittyonyourlap 0\n",
      "ttyonyourlap 1\n",
      "yourlap 2\n",
      "ap 3\n",
      "p 4\n",
      " 5\n",
      "inlap\n"
     ]
    }
   ],
   "source": [
    "print(DFS(S, 0))"
   ]
  },
  {
   "cell_type": "code",
   "execution_count": null,
   "id": "6a9be92a-77fa-492c-beca-e18269edef93",
   "metadata": {},
   "outputs": [],
   "source": [
    "inlap"
   ]
  }
 ],
 "metadata": {
  "kernelspec": {
   "display_name": "Python 3",
   "language": "python",
   "name": "python3"
  },
  "language_info": {
   "codemirror_mode": {
    "name": "ipython",
    "version": 3
   },
   "file_extension": ".py",
   "mimetype": "text/x-python",
   "name": "python",
   "nbconvert_exporter": "python",
   "pygments_lexer": "ipython3",
   "version": "3.6.13"
  }
 },
 "nbformat": 4,
 "nbformat_minor": 5
}
