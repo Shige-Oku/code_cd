{
 "cells": [
  {
   "cell_type": "code",
   "execution_count": null,
   "id": "849e4ded-6874-4668-a180-b079cdd761b5",
   "metadata": {},
   "outputs": [],
   "source": [
    "# 解説を読んで実装 WA"
   ]
  },
  {
   "cell_type": "code",
   "execution_count": 1,
   "id": "f35584a5-9c30-4d45-9900-8828622608db",
   "metadata": {},
   "outputs": [],
   "source": [
    "import sys\n",
    "import numpy as np\n",
    "import math\n",
    "import collections\n",
    "import copy\n",
    "import decimal\n",
    "import itertools\n",
    "import re\n",
    "import bisect\n",
    "import scipy\n",
    "import heapq\n",
    "from collections import deque \n",
    "from functools import reduce\n",
    "from itertools import product\n",
    "from itertools import combinations\n",
    "from itertools import chain\n",
    "from functools import lru_cache\n",
    "from scipy.special import comb\n",
    "from numba import njit\n",
    "from bisect import bisect_right\n",
    "from bisect import bisect_left"
   ]
  },
  {
   "cell_type": "code",
   "execution_count": 2,
   "id": "813c5a6d-bd9c-4c5a-95aa-4b12bd50c3dc",
   "metadata": {},
   "outputs": [
    {
     "name": "stdin",
     "output_type": "stream",
     "text": [
      " 2\n"
     ]
    }
   ],
   "source": [
    "N = int(input())"
   ]
  },
  {
   "cell_type": "code",
   "execution_count": 3,
   "id": "34b5bacd-4658-4d90-9659-ea457f39c756",
   "metadata": {},
   "outputs": [
    {
     "name": "stdin",
     "output_type": "stream",
     "text": [
      " 1 1 3 2\n",
      " 2 1 4 2\n"
     ]
    }
   ],
   "source": [
    "LR = [list(map(int, input().split())) for _ in range(N)]"
   ]
  },
  {
   "cell_type": "code",
   "execution_count": 16,
   "id": "1e42f3b4-11e2-4bdb-acb8-1d15b9aa1e5b",
   "metadata": {},
   "outputs": [],
   "source": [
    "cnt = [[0] * (1010) for _ in range(1010)]\n",
    "for lx, ly, rx, ry in LR:\n",
    "    cnt[ly][lx] += 1\n",
    "    cnt[ly][rx] -= 1\n",
    "    cnt[ry][lx] -= 1\n",
    "    cnt[ry][rx] += 1\n",
    "for j in range(1, 1010):\n",
    "    for i in range(1, 1010):\n",
    "        cnt[j][i] += cnt[j][i-1]\n",
    "for i in range(1, 1010):\n",
    "    for j in range(1, 1010):\n",
    "        cnt[j][i] += cnt[j-1][i]\n",
    "        "
   ]
  },
  {
   "cell_type": "code",
   "execution_count": 18,
   "id": "e19613bc-5f56-42c3-91f7-4ff0eec20f64",
   "metadata": {},
   "outputs": [
    {
     "name": "stdout",
     "output_type": "stream",
     "text": [
      "2\n",
      "1\n"
     ]
    }
   ],
   "source": [
    "ans = [0] * (N+1)\n",
    "for j in range(1010):\n",
    "    for i in range(1010):\n",
    "        ans[cnt[j][i]] += 1\n",
    "print(*ans[1:], sep='\\n')"
   ]
  },
  {
   "cell_type": "code",
   "execution_count": 17,
   "id": "8835343f-0c22-4d1b-97d9-bcc8e0bc7391",
   "metadata": {},
   "outputs": [
    {
     "data": {
      "text/plain": [
       "([0, 0, 0, 0, 0, 0, 0, 0, 0, 0],\n",
       " [0, 1, 2, 1, 0, 0, 0, 0, 0, 0],\n",
       " [0, 0, 0, 0, 0, 0, 0, 0, 0, 0],\n",
       " [0, 0, 0, 0, 0, 0, 0, 0, 0, 0],\n",
       " [0, 0, 0, 0, 0, 0, 0, 0, 0, 0])"
      ]
     },
     "execution_count": 17,
     "metadata": {},
     "output_type": "execute_result"
    }
   ],
   "source": [
    "cnt[0][:10], cnt[1][:10], cnt[2][:10], cnt[3][:10], cnt[4][:10]"
   ]
  },
  {
   "cell_type": "code",
   "execution_count": 21,
   "id": "5f7354c3-723b-46dc-844a-3ddfe14c2002",
   "metadata": {},
   "outputs": [],
   "source": [
    "c = collections.Counter(itertools.chain.from_iterable(cnt))"
   ]
  },
  {
   "cell_type": "code",
   "execution_count": 22,
   "id": "e15e202b-ef04-46fd-8963-9d2ad70a8ee2",
   "metadata": {},
   "outputs": [
    {
     "data": {
      "text/plain": [
       "Counter({0: 1020097, 1: 2, 2: 1})"
      ]
     },
     "execution_count": 22,
     "metadata": {},
     "output_type": "execute_result"
    }
   ],
   "source": [
    "c"
   ]
  },
  {
   "cell_type": "code",
   "execution_count": null,
   "id": "ae17af6a-d65c-40f5-be0c-acbcf194db35",
   "metadata": {},
   "outputs": [],
   "source": []
  }
 ],
 "metadata": {
  "kernelspec": {
   "display_name": "Python 3",
   "language": "python",
   "name": "python3"
  },
  "language_info": {
   "codemirror_mode": {
    "name": "ipython",
    "version": 3
   },
   "file_extension": ".py",
   "mimetype": "text/x-python",
   "name": "python",
   "nbconvert_exporter": "python",
   "pygments_lexer": "ipython3",
   "version": "3.6.13"
  }
 },
 "nbformat": 4,
 "nbformat_minor": 5
}
