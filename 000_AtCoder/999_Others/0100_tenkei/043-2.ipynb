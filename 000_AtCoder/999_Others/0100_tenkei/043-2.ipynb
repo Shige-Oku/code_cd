{
 "cells": [
  {
   "cell_type": "code",
   "execution_count": null,
   "id": "57645c64-3c30-49b7-8a98-6bf62c848a27",
   "metadata": {},
   "outputs": [],
   "source": [
    "# 解説を読んで実装 WA"
   ]
  },
  {
   "cell_type": "code",
   "execution_count": 1,
   "id": "7eaada67-e84d-41f2-bfbb-2d708e1e74c7",
   "metadata": {},
   "outputs": [],
   "source": [
    "import sys\n",
    "import numpy as np\n",
    "import math\n",
    "import collections\n",
    "import copy\n",
    "import decimal\n",
    "import itertools\n",
    "import re\n",
    "import bisect\n",
    "import scipy\n",
    "import heapq\n",
    "from collections import deque \n",
    "from functools import reduce\n",
    "from itertools import product\n",
    "from itertools import combinations\n",
    "from itertools import chain\n",
    "from functools import lru_cache\n",
    "from scipy.special import comb\n",
    "from numba import njit\n",
    "from bisect import bisect_right\n",
    "from bisect import bisect_left"
   ]
  },
  {
   "cell_type": "code",
   "execution_count": 2,
   "id": "d37685e9-4788-4736-b92f-01f7052f4554",
   "metadata": {},
   "outputs": [
    {
     "name": "stdin",
     "output_type": "stream",
     "text": [
      " 3 3\n"
     ]
    }
   ],
   "source": [
    "H, W = map(int, input().split())"
   ]
  },
  {
   "cell_type": "code",
   "execution_count": 3,
   "id": "b91ccb2e-3360-4583-9683-70c04ffde945",
   "metadata": {},
   "outputs": [
    {
     "name": "stdin",
     "output_type": "stream",
     "text": [
      " 1 1\n"
     ]
    }
   ],
   "source": [
    "Rs, Cs = map(int, input().split())"
   ]
  },
  {
   "cell_type": "code",
   "execution_count": 4,
   "id": "1a54b4e0-9afb-4545-ac0f-75530bba63cc",
   "metadata": {},
   "outputs": [
    {
     "name": "stdin",
     "output_type": "stream",
     "text": [
      " 3 3\n"
     ]
    }
   ],
   "source": [
    "Rt, Ct = map(int, input().split())"
   ]
  },
  {
   "cell_type": "code",
   "execution_count": 5,
   "id": "01b35689-9882-467c-b460-28f6bf1c9249",
   "metadata": {},
   "outputs": [
    {
     "name": "stdin",
     "output_type": "stream",
     "text": [
      " ..#\n",
      " #.#\n",
      " #..\n"
     ]
    }
   ],
   "source": [
    "Sn = ['#' + input() + '#' for _ in range(H)]"
   ]
  },
  {
   "cell_type": "code",
   "execution_count": 6,
   "id": "4cb1e747-e553-4508-8317-834c694edd39",
   "metadata": {},
   "outputs": [],
   "source": [
    "Sn.insert(0, '#' * (W+2))\n",
    "Sn.append('#' * (W+2))"
   ]
  },
  {
   "cell_type": "code",
   "execution_count": 32,
   "id": "862fb711-a19c-4efb-b032-a91ddcc7f19f",
   "metadata": {},
   "outputs": [],
   "source": [
    "def solve(rs, cs):\n",
    "    q = deque()\n",
    "    q.append((rs, cs, 0, -1))\n",
    "    cost[rs][cs] = 0\n",
    "    while q:\n",
    "        h1, w1, c1, d1 = q.popleft()\n",
    "        if visit[h1][w1]:\n",
    "            continue\n",
    "        visit[h1][w1] = True\n",
    "        cost[h1][w1] = c1\n",
    "        for h2, w2, d2 in ((0, -1, 0), (0, 1, 1), (-1, 0, 2), (1, 0, 3)):\n",
    "            if Sn[h1+h2][w1+w2] == '#':\n",
    "                continue\n",
    "            if d1 == -1 or d1 == d2:\n",
    "                q.insert(0, (h1+h2, w1+w2, cost[h1][w1], d2))\n",
    "            else:\n",
    "                q.append((h1+h2, w1+w2, cost[h1][w1]+1, d2))\n",
    "        \n",
    "    return"
   ]
  },
  {
   "cell_type": "code",
   "execution_count": 33,
   "id": "85b2115a-6d98-4f84-a0c6-6ed9a05960e7",
   "metadata": {},
   "outputs": [],
   "source": [
    "visit = [[False] * (W+2) for _ in range(H+2)]\n",
    "cost = [[-1] * (W+2) for _ in range(H+2)]\n",
    "solve(Rs, Cs)"
   ]
  },
  {
   "cell_type": "code",
   "execution_count": 31,
   "id": "2194b238-71a5-4e85-982a-7081f499bdf9",
   "metadata": {},
   "outputs": [
    {
     "name": "stdout",
     "output_type": "stream",
     "text": [
      "2\n"
     ]
    }
   ],
   "source": [
    "print(cost[Rt][Ct])"
   ]
  },
  {
   "cell_type": "code",
   "execution_count": 28,
   "id": "8b3354de-1087-4587-bf94-fc79a260c47a",
   "metadata": {},
   "outputs": [
    {
     "data": {
      "text/plain": [
       "[[-1, -1, -1, -1, -1],\n",
       " [-1, 0, -1, -1, -1],\n",
       " [-1, -1, 0, -1, -1],\n",
       " [-1, -1, 0, 1, -1],\n",
       " [-1, -1, -1, -1, -1]]"
      ]
     },
     "execution_count": 28,
     "metadata": {},
     "output_type": "execute_result"
    }
   ],
   "source": [
    "cost"
   ]
  },
  {
   "cell_type": "code",
   "execution_count": null,
   "id": "ce901fed-a74b-493d-ad10-742f6ab70b3c",
   "metadata": {},
   "outputs": [],
   "source": []
  }
 ],
 "metadata": {
  "kernelspec": {
   "display_name": "Python 3",
   "language": "python",
   "name": "python3"
  },
  "language_info": {
   "codemirror_mode": {
    "name": "ipython",
    "version": 3
   },
   "file_extension": ".py",
   "mimetype": "text/x-python",
   "name": "python",
   "nbconvert_exporter": "python",
   "pygments_lexer": "ipython3",
   "version": "3.6.13"
  }
 },
 "nbformat": 4,
 "nbformat_minor": 5
}
