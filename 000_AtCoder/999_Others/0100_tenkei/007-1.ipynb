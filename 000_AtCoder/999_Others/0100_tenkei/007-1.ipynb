{
 "cells": [
  {
   "cell_type": "code",
   "execution_count": 1,
   "id": "3a9b5d37-bcc3-4d2c-81b3-b238670f1a5c",
   "metadata": {},
   "outputs": [],
   "source": [
    "import sys\n",
    "import numpy as np\n",
    "import math\n",
    "import collections\n",
    "import copy\n",
    "import decimal\n",
    "import itertools\n",
    "import re\n",
    "import bisect\n",
    "import scipy\n",
    "import heapq\n",
    "from collections import deque \n",
    "from functools import reduce\n",
    "from itertools import product\n",
    "from itertools import combinations\n",
    "from itertools import chain\n",
    "from functools import lru_cache\n",
    "from scipy.special import comb\n",
    "from numba import njit\n",
    "from bisect import bisect_right\n",
    "from bisect import bisect_left"
   ]
  },
  {
   "cell_type": "code",
   "execution_count": 2,
   "id": "76884076-6893-4a21-8861-cac5c9ecdd15",
   "metadata": {},
   "outputs": [
    {
     "name": "stdin",
     "output_type": "stream",
     "text": [
      " 4\n"
     ]
    }
   ],
   "source": [
    "N = int(input())"
   ]
  },
  {
   "cell_type": "code",
   "execution_count": 3,
   "id": "cbcf6de7-91bd-46d2-b040-805d7f01f7c2",
   "metadata": {},
   "outputs": [
    {
     "name": "stdin",
     "output_type": "stream",
     "text": [
      " 4000 4400 5000 3200\n"
     ]
    }
   ],
   "source": [
    "An = sorted(list(map(int, input().split())))"
   ]
  },
  {
   "cell_type": "code",
   "execution_count": 5,
   "id": "0b12af02-514e-4e9b-80d4-bb9bbf01ac65",
   "metadata": {},
   "outputs": [
    {
     "name": "stdin",
     "output_type": "stream",
     "text": [
      " 3\n"
     ]
    }
   ],
   "source": [
    "Q = int(input())"
   ]
  },
  {
   "cell_type": "code",
   "execution_count": 7,
   "id": "f41448de-c500-4404-9a8c-2e50cb5f8dea",
   "metadata": {},
   "outputs": [
    {
     "name": "stdin",
     "output_type": "stream",
     "text": [
      " 3312\n",
      " 2992\n",
      " 4229\n"
     ]
    }
   ],
   "source": [
    "Bn = [int(input()) for _ in range(Q)]"
   ]
  },
  {
   "cell_type": "code",
   "execution_count": 14,
   "id": "a2d56cae-f9f5-43e9-830b-d5855fe590fe",
   "metadata": {},
   "outputs": [
    {
     "name": "stdout",
     "output_type": "stream",
     "text": [
      "112\n",
      "208\n",
      "171\n"
     ]
    }
   ],
   "source": [
    "for q in Bn:\n",
    "    p = bisect_right(An, q)\n",
    "    print(min(abs(q - An[max(0, p-1)]), abs(q - An[min(N-1, p)])))"
   ]
  },
  {
   "cell_type": "code",
   "execution_count": 10,
   "id": "faefb6bf-b524-4673-a903-848164bf822c",
   "metadata": {},
   "outputs": [
    {
     "name": "stdout",
     "output_type": "stream",
     "text": [
      "3\n"
     ]
    }
   ],
   "source": [
    "print(ans)"
   ]
  },
  {
   "cell_type": "code",
   "execution_count": 4,
   "id": "f2164760-5b40-447a-8e68-a3233907ecad",
   "metadata": {},
   "outputs": [
    {
     "data": {
      "text/plain": [
       "[3200, 4000, 4400, 5000]"
      ]
     },
     "execution_count": 4,
     "metadata": {},
     "output_type": "execute_result"
    }
   ],
   "source": [
    "An"
   ]
  },
  {
   "cell_type": "code",
   "execution_count": null,
   "id": "b7557079-3ece-4cc1-abd2-b502f80d1233",
   "metadata": {},
   "outputs": [],
   "source": [
    "min(abs(q-max(0, p-1)), abs(min(N-1, p)))"
   ]
  }
 ],
 "metadata": {
  "kernelspec": {
   "display_name": "Python 3",
   "language": "python",
   "name": "python3"
  },
  "language_info": {
   "codemirror_mode": {
    "name": "ipython",
    "version": 3
   },
   "file_extension": ".py",
   "mimetype": "text/x-python",
   "name": "python",
   "nbconvert_exporter": "python",
   "pygments_lexer": "ipython3",
   "version": "3.6.13"
  }
 },
 "nbformat": 4,
 "nbformat_minor": 5
}
