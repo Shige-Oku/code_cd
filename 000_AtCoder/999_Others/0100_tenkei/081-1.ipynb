{
 "cells": [
  {
   "cell_type": "code",
   "execution_count": 1,
   "id": "b902aad8-2573-4b9c-ba98-c7e31fceaaa8",
   "metadata": {},
   "outputs": [],
   "source": [
    "import sys\n",
    "import numpy as np\n",
    "import math\n",
    "import collections\n",
    "import copy\n",
    "import decimal\n",
    "import itertools\n",
    "import re\n",
    "import bisect\n",
    "import scipy\n",
    "import heapq\n",
    "from collections import deque \n",
    "from functools import reduce\n",
    "from itertools import product\n",
    "from itertools import combinations\n",
    "from itertools import chain\n",
    "from functools import lru_cache\n",
    "from scipy.special import comb\n",
    "from numba import njit\n",
    "from bisect import bisect_right\n",
    "from bisect import bisect_left"
   ]
  },
  {
   "cell_type": "code",
   "execution_count": 2,
   "id": "917cebc9-5d9a-42ef-ae4b-13973d75f596",
   "metadata": {},
   "outputs": [
    {
     "name": "stdin",
     "output_type": "stream",
     "text": [
      " 3 4\n"
     ]
    }
   ],
   "source": [
    "N, K = map(int, input().split())"
   ]
  },
  {
   "cell_type": "code",
   "execution_count": 3,
   "id": "320ae945-11ef-429b-9120-ff8a0cae5410",
   "metadata": {},
   "outputs": [
    {
     "name": "stdin",
     "output_type": "stream",
     "text": [
      " 1 1\n",
      " 2 5\n",
      " 7 4\n"
     ]
    }
   ],
   "source": [
    "AB = [list(map(int, input().split())) for _ in range(N)]"
   ]
  },
  {
   "cell_type": "code",
   "execution_count": 26,
   "id": "a41bf231-aaaf-4a5d-8cc1-445960ff2a57",
   "metadata": {},
   "outputs": [],
   "source": [
    "AB_cnt = [[0] * 5001 for _ in range(5001)]\n",
    "for A, B in AB:\n",
    "    AB_cnt[A][B] += 1\n",
    "AB_cum = [[0] * 5001 for _ in range(5001)]\n",
    "for i in range(5000):\n",
    "    for j in range(5000):\n",
    "        AB_cum[i+1][j+1] += AB_cum[i+1][j] + AB_cum[i][j+1] - AB_cum[i][j] + AB_cnt[i+1][j+1]\n"
   ]
  },
  {
   "cell_type": "code",
   "execution_count": 32,
   "id": "f3ae2271-96e9-4f6a-966e-c7dcff6e86d6",
   "metadata": {},
   "outputs": [],
   "source": [
    "ans = 0\n",
    "for i in range(1, 5000-K+1):\n",
    "    for j in range(1, 5000-K+1):\n",
    "        ans = max(ans, AB_cum[i+K][j+K] - AB_cum[i+K][j-1] - AB_cum[i-1][j+K] + AB_cum[i-1][j-1])"
   ]
  },
  {
   "cell_type": "code",
   "execution_count": 33,
   "id": "f2db0ebc-adc9-4f88-962f-a0fc331db179",
   "metadata": {},
   "outputs": [
    {
     "name": "stdout",
     "output_type": "stream",
     "text": [
      "4\n"
     ]
    }
   ],
   "source": [
    "print(ans)"
   ]
  },
  {
   "cell_type": "code",
   "execution_count": 27,
   "id": "389f27e6-af8f-4685-b3b7-9c30744023eb",
   "metadata": {},
   "outputs": [
    {
     "data": {
      "text/plain": [
       "([0, 1, 0, 0, 0, 0, 0, 0, 0, 0],\n",
       " [0, 0, 0, 0, 0, 1, 0, 0, 0, 0],\n",
       " [0, 0, 0, 0, 0, 0, 0, 0, 0, 0],\n",
       " [0, 0, 0, 0, 0, 0, 0, 0, 0, 0],\n",
       " [0, 0, 0, 0, 0, 0, 0, 0, 0, 0],\n",
       " [0, 0, 0, 0, 0, 0, 0, 0, 0, 0],\n",
       " [0, 0, 0, 0, 1, 0, 0, 0, 0, 0],\n",
       " [0, 0, 0, 0, 0, 0, 0, 0, 0, 0])"
      ]
     },
     "execution_count": 27,
     "metadata": {},
     "output_type": "execute_result"
    }
   ],
   "source": [
    "AB_cnt[1][:10], AB_cnt[2][:10], AB_cnt[3][:10], AB_cnt[4][:10], AB_cnt[5][:10], AB_cnt[6][:10], AB_cnt[7][:10], AB_cnt[8][:10]"
   ]
  },
  {
   "cell_type": "code",
   "execution_count": 28,
   "id": "44ae616e-66b8-4cf1-9494-365dbcf8bf7e",
   "metadata": {},
   "outputs": [
    {
     "data": {
      "text/plain": [
       "([0, 1, 1, 1, 1, 1, 1, 1, 1, 1],\n",
       " [0, 1, 1, 1, 1, 2, 2, 2, 2, 2],\n",
       " [0, 1, 1, 1, 1, 2, 2, 2, 2, 2],\n",
       " [0, 1, 1, 1, 1, 2, 2, 2, 2, 2],\n",
       " [0, 1, 1, 1, 1, 2, 2, 2, 2, 2],\n",
       " [0, 1, 1, 1, 1, 2, 2, 2, 2, 2],\n",
       " [0, 1, 1, 1, 2, 3, 3, 3, 3, 3],\n",
       " [0, 1, 1, 1, 2, 3, 3, 3, 3, 3])"
      ]
     },
     "execution_count": 28,
     "metadata": {},
     "output_type": "execute_result"
    }
   ],
   "source": [
    "AB_cum[1][:10], AB_cum[2][:10], AB_cum[3][:10], AB_cum[4][:10], AB_cum[5][:10], AB_cum[6][:10], AB_cum[7][:10], AB_cum[8][:10]"
   ]
  },
  {
   "cell_type": "code",
   "execution_count": 14,
   "id": "726cd6ab-089b-4e92-93af-f9a6be58b582",
   "metadata": {},
   "outputs": [
    {
     "data": {
      "text/plain": [
       "25000000"
      ]
     },
     "execution_count": 14,
     "metadata": {},
     "output_type": "execute_result"
    }
   ],
   "source": [
    "5000*5000"
   ]
  },
  {
   "cell_type": "code",
   "execution_count": null,
   "id": "9cdd468c-7b46-40ea-97ce-8f8f5c1954ef",
   "metadata": {},
   "outputs": [],
   "source": []
  }
 ],
 "metadata": {
  "kernelspec": {
   "display_name": "Python 3",
   "language": "python",
   "name": "python3"
  },
  "language_info": {
   "codemirror_mode": {
    "name": "ipython",
    "version": 3
   },
   "file_extension": ".py",
   "mimetype": "text/x-python",
   "name": "python",
   "nbconvert_exporter": "python",
   "pygments_lexer": "ipython3",
   "version": "3.6.13"
  }
 },
 "nbformat": 4,
 "nbformat_minor": 5
}
