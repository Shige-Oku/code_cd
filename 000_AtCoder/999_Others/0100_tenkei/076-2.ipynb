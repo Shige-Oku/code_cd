{
 "cells": [
  {
   "cell_type": "code",
   "execution_count": null,
   "id": "189edbb6-43ca-449e-8115-b334b8ab1ed3",
   "metadata": {},
   "outputs": [],
   "source": [
    "# 解説を読んで実装"
   ]
  },
  {
   "cell_type": "code",
   "execution_count": 5,
   "id": "3c5a15d6-72a5-4d0f-bc2c-0d3c45ae9494",
   "metadata": {},
   "outputs": [],
   "source": [
    "import sys\n",
    "import numpy as np\n",
    "import math\n",
    "import collections\n",
    "import copy\n",
    "import decimal\n",
    "import itertools\n",
    "import re\n",
    "import bisect\n",
    "import scipy\n",
    "import heapq\n",
    "from collections import deque \n",
    "from functools import reduce\n",
    "from itertools import product\n",
    "from itertools import combinations\n",
    "from itertools import chain\n",
    "from functools import lru_cache\n",
    "from scipy.special import comb\n",
    "from numba import njit\n",
    "from bisect import bisect_right\n",
    "from bisect import bisect_left"
   ]
  },
  {
   "cell_type": "code",
   "execution_count": 43,
   "id": "2d37c20d-f52f-4f14-9c36-15dddf4d34bd",
   "metadata": {},
   "outputs": [
    {
     "name": "stdin",
     "output_type": "stream",
     "text": [
      " 4\n"
     ]
    }
   ],
   "source": [
    "N = int(input())"
   ]
  },
  {
   "cell_type": "code",
   "execution_count": 44,
   "id": "504bcc41-039b-4df2-a8e2-9ac1ca48053a",
   "metadata": {},
   "outputs": [
    {
     "name": "stdin",
     "output_type": "stream",
     "text": [
      " 1 9 1 9\n"
     ]
    }
   ],
   "source": [
    "An = list(map(int, input().split()))"
   ]
  },
  {
   "cell_type": "code",
   "execution_count": 45,
   "id": "d358b1d9-cd24-41e9-ba0d-83a28034df27",
   "metadata": {},
   "outputs": [],
   "source": [
    "An_cum = [0, ]\n",
    "for A in An:\n",
    "    An_cum.append(An_cum[-1] + A)\n",
    "for A in An:\n",
    "    An_cum.append(An_cum[-1] + A)\n",
    "total = sum(An)"
   ]
  },
  {
   "cell_type": "code",
   "execution_count": 46,
   "id": "22549b51-b2c0-4133-927b-378c5104234c",
   "metadata": {},
   "outputs": [],
   "source": [
    "flg = False\n",
    "for i in range(1, N+1):\n",
    "    p = bisect_left(An_cum, (An_cum[i]+total/10))\n",
    "    if p >= 2 * N:\n",
    "        continue\n",
    "    if p - i > N:\n",
    "        continue\n",
    "    if An_cum[p] - An_cum[i] == total / 10:\n",
    "        flg = True\n",
    "        break"
   ]
  },
  {
   "cell_type": "code",
   "execution_count": 47,
   "id": "b6df0c82-8937-4168-8766-1240c6292798",
   "metadata": {},
   "outputs": [
    {
     "name": "stdout",
     "output_type": "stream",
     "text": [
      "No\n"
     ]
    }
   ],
   "source": [
    "if flg:\n",
    "    print('Yes')\n",
    "else:\n",
    "    print('No')"
   ]
  },
  {
   "cell_type": "code",
   "execution_count": 66,
   "id": "33caa164-8a5c-436b-9b77-78feefa580f8",
   "metadata": {},
   "outputs": [
    {
     "data": {
      "text/plain": [
       "(20, 21)"
      ]
     },
     "execution_count": 66,
     "metadata": {},
     "output_type": "execute_result"
    }
   ],
   "source": [
    "len(An_10), len(An_cum)"
   ]
  },
  {
   "cell_type": "code",
   "execution_count": 27,
   "id": "ceaaa6a7-1cb8-4dc7-929c-b353497d2f21",
   "metadata": {},
   "outputs": [
    {
     "data": {
      "text/plain": [
       "([0, 1, 2, 3, 4, 5, 6, 7, 8, 9, 10, 11, 12, 13, 14, 15, 16, 17, 18, 19, 20],\n",
       " 10)"
      ]
     },
     "execution_count": 27,
     "metadata": {},
     "output_type": "execute_result"
    }
   ],
   "source": [
    "An_cum, total"
   ]
  },
  {
   "cell_type": "code",
   "execution_count": 14,
   "id": "e90faacc-17b9-421a-b178-b1f544d58c3e",
   "metadata": {},
   "outputs": [],
   "source": [
    "An_10 = [x * 10 for x in An]\n",
    "for i in range(N):\n",
    "    An_10.append(An[i]* 10)\n",
    "An_cum = [0, ]\n",
    "for A in An:\n",
    "    An_cum.append(An_cum[-1] + A)\n",
    "total = sum(An) * 10"
   ]
  },
  {
   "cell_type": "code",
   "execution_count": null,
   "id": "0997a64e-5083-4fcb-a15b-3f1e22f618ef",
   "metadata": {},
   "outputs": [],
   "source": []
  }
 ],
 "metadata": {
  "kernelspec": {
   "display_name": "Python 3",
   "language": "python",
   "name": "python3"
  },
  "language_info": {
   "codemirror_mode": {
    "name": "ipython",
    "version": 3
   },
   "file_extension": ".py",
   "mimetype": "text/x-python",
   "name": "python",
   "nbconvert_exporter": "python",
   "pygments_lexer": "ipython3",
   "version": "3.6.13"
  }
 },
 "nbformat": 4,
 "nbformat_minor": 5
}
