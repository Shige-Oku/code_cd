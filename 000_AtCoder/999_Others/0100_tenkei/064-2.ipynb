{
 "cells": [
  {
   "cell_type": "code",
   "execution_count": null,
   "id": "fd069699-49f3-425a-8006-e231aa8512d9",
   "metadata": {},
   "outputs": [],
   "source": [
    "# 解説を読んで実装"
   ]
  },
  {
   "cell_type": "code",
   "execution_count": 1,
   "id": "5a4fbe61-7479-4e57-84af-6597af60afe3",
   "metadata": {},
   "outputs": [],
   "source": [
    "import sys\n",
    "import numpy as np\n",
    "import math\n",
    "import collections\n",
    "import copy\n",
    "import decimal\n",
    "import itertools\n",
    "import re\n",
    "import bisect\n",
    "import scipy\n",
    "import heapq\n",
    "from collections import deque \n",
    "from functools import reduce\n",
    "from itertools import product\n",
    "from itertools import combinations\n",
    "from itertools import chain\n",
    "from functools import lru_cache\n",
    "from scipy.special import comb\n",
    "from numba import njit\n",
    "from bisect import bisect_right\n",
    "from bisect import bisect_left"
   ]
  },
  {
   "cell_type": "code",
   "execution_count": 13,
   "id": "80017a9d-5277-4e03-97bf-fd1094c3f3df",
   "metadata": {},
   "outputs": [
    {
     "name": "stdin",
     "output_type": "stream",
     "text": [
      " 20 10\n"
     ]
    }
   ],
   "source": [
    "N, Q = map(int, input().split())"
   ]
  },
  {
   "cell_type": "code",
   "execution_count": 14,
   "id": "cee562ec-d961-4c55-8cd5-eb450376bc71",
   "metadata": {},
   "outputs": [
    {
     "name": "stdin",
     "output_type": "stream",
     "text": [
      " 61 51 92 -100 -89 -65 -89 -64 -74 7 87 -2 51 -39 -50 63 -23 36 74 37\n"
     ]
    }
   ],
   "source": [
    "An = list(map(int, input().split()))"
   ]
  },
  {
   "cell_type": "code",
   "execution_count": 15,
   "id": "1882b7ae-5c96-4744-bcae-620ad663ed5c",
   "metadata": {},
   "outputs": [
    {
     "name": "stdin",
     "output_type": "stream",
     "text": [
      " 2 2 -45\n",
      " 6 19 82\n",
      " 2 9 36\n",
      " 7 13 71\n",
      " 16 20 90\n",
      " 18 20 -24\n",
      " 14 17 -78\n",
      " 10 11 -55\n",
      " 7 19 -26\n",
      " 20 20 -7\n"
     ]
    }
   ],
   "source": [
    "LRV = [list(map(int, input().split())) for _ in range(Q)]"
   ]
  },
  {
   "cell_type": "code",
   "execution_count": 90,
   "id": "cacde7b7-95a9-4f4a-a973-b78cd17e4343",
   "metadata": {},
   "outputs": [],
   "source": [
    "cost = 0\n",
    "diff = []\n",
    "for i in range(1, N):\n",
    "    cost += abs(An[i]-An[i-1])\n",
    "    diff.append(An[i]-An[i-1])    "
   ]
  },
  {
   "cell_type": "code",
   "execution_count": 91,
   "id": "b8f56009-d89d-4c01-baf2-b35ca1081787",
   "metadata": {},
   "outputs": [
    {
     "name": "stdout",
     "output_type": "stream",
     "text": [
      "1164\n",
      "1328\n",
      "1256\n",
      "1350\n",
      "1440\n",
      "1416\n",
      "1572\n",
      "1482\n",
      "1430\n",
      "1437\n"
     ]
    }
   ],
   "source": [
    "for L, R, V in LRV[:]:\n",
    "    a, b = 0, 0\n",
    "    if L != 1:\n",
    "        b += abs(diff[L-2])\n",
    "        diff[L-2] += V\n",
    "        a += abs(diff[L-2])\n",
    "    if R != N:\n",
    "        b += abs(diff[R-1])\n",
    "        diff[R-1] -= V\n",
    "        a += abs(diff[R-1])\n",
    "    cost += a - b\n",
    "    print(cost)\n",
    "#     print(cost, a, b)"
   ]
  },
  {
   "cell_type": "code",
   "execution_count": 82,
   "id": "178025c7-0f9c-4e92-b0c1-ccaebfd6fbc2",
   "metadata": {},
   "outputs": [
    {
     "data": {
      "text/plain": [
       "992"
      ]
     },
     "execution_count": 82,
     "metadata": {},
     "output_type": "execute_result"
    }
   ],
   "source": [
    "cost"
   ]
  },
  {
   "cell_type": "code",
   "execution_count": 83,
   "id": "10cc1a5a-adad-4da2-9623-fd9582517a7a",
   "metadata": {},
   "outputs": [
    {
     "data": {
      "text/plain": [
       "(2, 2)"
      ]
     },
     "execution_count": 83,
     "metadata": {},
     "output_type": "execute_result"
    }
   ],
   "source": [
    "L, R"
   ]
  },
  {
   "cell_type": "code",
   "execution_count": 84,
   "id": "f4886624-274e-42f5-aa95-db0ee2c27612",
   "metadata": {},
   "outputs": [
    {
     "data": {
      "text/plain": [
       "([-55,\n",
       "  86,\n",
       "  -192,\n",
       "  11,\n",
       "  24,\n",
       "  -24,\n",
       "  25,\n",
       "  -10,\n",
       "  81,\n",
       "  80,\n",
       "  -89,\n",
       "  53,\n",
       "  -90,\n",
       "  -11,\n",
       "  113,\n",
       "  -86,\n",
       "  59,\n",
       "  38,\n",
       "  -37],\n",
       " 19)"
      ]
     },
     "execution_count": 84,
     "metadata": {},
     "output_type": "execute_result"
    }
   ],
   "source": [
    "diff, len(diff)"
   ]
  },
  {
   "cell_type": "code",
   "execution_count": null,
   "id": "75baa4f7-503e-48c3-b9f2-a9eb521d2efa",
   "metadata": {},
   "outputs": [],
   "source": []
  }
 ],
 "metadata": {
  "kernelspec": {
   "display_name": "Python 3",
   "language": "python",
   "name": "python3"
  },
  "language_info": {
   "codemirror_mode": {
    "name": "ipython",
    "version": 3
   },
   "file_extension": ".py",
   "mimetype": "text/x-python",
   "name": "python",
   "nbconvert_exporter": "python",
   "pygments_lexer": "ipython3",
   "version": "3.6.13"
  }
 },
 "nbformat": 4,
 "nbformat_minor": 5
}
