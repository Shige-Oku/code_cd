{
 "cells": [
  {
   "cell_type": "code",
   "execution_count": null,
   "id": "615157d8-623a-4d73-9fdf-55a7eda1e4a5",
   "metadata": {},
   "outputs": [],
   "source": [
    "# サンプルが合わない"
   ]
  },
  {
   "cell_type": "code",
   "execution_count": 1,
   "id": "60c97cfe-21a1-4b00-803a-6af45f5069a5",
   "metadata": {},
   "outputs": [],
   "source": [
    "import sys\n",
    "import numpy as np\n",
    "import math\n",
    "import collections\n",
    "import copy\n",
    "import decimal\n",
    "import itertools\n",
    "import re\n",
    "import bisect\n",
    "import scipy\n",
    "import heapq\n",
    "from collections import deque \n",
    "from functools import reduce\n",
    "from itertools import product\n",
    "from itertools import combinations\n",
    "from itertools import chain\n",
    "from functools import lru_cache\n",
    "from scipy.special import comb\n",
    "from numba import njit\n",
    "from bisect import bisect_right\n",
    "from bisect import bisect_left"
   ]
  },
  {
   "cell_type": "code",
   "execution_count": 78,
   "id": "a31242d7-0047-440f-a7e0-fc4408ff86f8",
   "metadata": {},
   "outputs": [
    {
     "name": "stdin",
     "output_type": "stream",
     "text": [
      " 3\n"
     ]
    }
   ],
   "source": [
    "N = int(input())"
   ]
  },
  {
   "cell_type": "code",
   "execution_count": 79,
   "id": "982d178f-2ca1-4738-a18d-dddfd577bc95",
   "metadata": {},
   "outputs": [
    {
     "name": "stdin",
     "output_type": "stream",
     "text": [
      " 3 3\n",
      " 1 1\n",
      " 4 4\n"
     ]
    }
   ],
   "source": [
    "LN = [list(map(int, input().split())) for _ in range(N)]"
   ]
  },
  {
   "cell_type": "code",
   "execution_count": 84,
   "id": "c3feef0a-17f9-4da5-909d-ec76e43545ff",
   "metadata": {},
   "outputs": [],
   "source": [
    "def my_cum(n1, n2):\n",
    "    s = n1 + 1\n",
    "    e = n2\n",
    "    num = e - s + 1\n",
    "    if n1 == n2:\n",
    "        ret = 1\n",
    "    else:\n",
    "        ret = (e+s) * num // 2\n",
    "    print(n1, n2, ret)\n",
    "    return ret"
   ]
  },
  {
   "cell_type": "code",
   "execution_count": 86,
   "id": "28290dfd-c172-4097-8ad4-7c3b587ad4e4",
   "metadata": {},
   "outputs": [
    {
     "name": "stdout",
     "output_type": "stream",
     "text": [
      "2 3 3\n",
      "2 3 3\n",
      "3 3 1 1\n",
      "0 3\n"
     ]
    }
   ],
   "source": [
    "total = LN[0][1] - LN[0][0] + 1\n",
    "fall = 0\n",
    "for i, (L2, R2) in enumerate(LN[1:], 1):\n",
    "    L1, R1 = LN[i-1]\n",
    "    total *= LN[i][1] - LN[i][0] + 1\n",
    "    if R1 < L2:\n",
    "        continue\n",
    "    cnt = my_cum(L2+1, R1)\n",
    "    fall += cnt\n",
    "    if R1 <= R2 + 1:\n",
    "        continue\n",
    "    cnt -= my_cum(R2+1, R1)\n",
    "    fall += cnt\n",
    "    \n",
    "    print(L1, R1, L2, R2)\n",
    "    print(cnt, fall)\n"
   ]
  },
  {
   "cell_type": "code",
   "execution_count": 87,
   "id": "815ea20e-38d7-4255-b1b0-7c9d8d67b09c",
   "metadata": {},
   "outputs": [
    {
     "name": "stdout",
     "output_type": "stream",
     "text": [
      "3.0\n"
     ]
    }
   ],
   "source": [
    "print(fall/total)"
   ]
  },
  {
   "cell_type": "code",
   "execution_count": 88,
   "id": "66f9251f-a396-409d-814c-447bfddb11d1",
   "metadata": {},
   "outputs": [
    {
     "data": {
      "text/plain": [
       "(3, 1)"
      ]
     },
     "execution_count": 88,
     "metadata": {},
     "output_type": "execute_result"
    }
   ],
   "source": [
    "fall, total"
   ]
  },
  {
   "cell_type": "code",
   "execution_count": null,
   "id": "5ada3650-ed22-491c-a579-0803c320094d",
   "metadata": {},
   "outputs": [],
   "source": []
  },
  {
   "cell_type": "code",
   "execution_count": null,
   "id": "b08ce98d-40aa-4899-bc15-c9e1ae378f4f",
   "metadata": {},
   "outputs": [],
   "source": []
  },
  {
   "cell_type": "code",
   "execution_count": null,
   "id": "b264a6ff-fa84-42b0-aec2-592748bb4eff",
   "metadata": {},
   "outputs": [],
   "source": []
  }
 ],
 "metadata": {
  "kernelspec": {
   "display_name": "Python 3",
   "language": "python",
   "name": "python3"
  },
  "language_info": {
   "codemirror_mode": {
    "name": "ipython",
    "version": 3
   },
   "file_extension": ".py",
   "mimetype": "text/x-python",
   "name": "python",
   "nbconvert_exporter": "python",
   "pygments_lexer": "ipython3",
   "version": "3.6.13"
  }
 },
 "nbformat": 4,
 "nbformat_minor": 5
}
