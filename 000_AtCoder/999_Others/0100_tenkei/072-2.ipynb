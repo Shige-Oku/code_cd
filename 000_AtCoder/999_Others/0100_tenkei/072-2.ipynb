{
 "cells": [
  {
   "cell_type": "code",
   "execution_count": null,
   "id": "3e90644e-2e69-454e-ad0f-7709f8c0e63f",
   "metadata": {},
   "outputs": [],
   "source": [
    "# 解説を読んで実装"
   ]
  },
  {
   "cell_type": "code",
   "execution_count": 1,
   "id": "9d9ceb5c-8a6c-436f-b9e7-ab56f514e355",
   "metadata": {},
   "outputs": [],
   "source": [
    "import sys\n",
    "import numpy as np\n",
    "import math\n",
    "import collections\n",
    "import copy\n",
    "import decimal\n",
    "import itertools\n",
    "import re\n",
    "import bisect\n",
    "import scipy\n",
    "import heapq\n",
    "from collections import deque \n",
    "from functools import reduce\n",
    "from itertools import product\n",
    "from itertools import combinations\n",
    "from itertools import chain\n",
    "from functools import lru_cache\n",
    "from scipy.special import comb\n",
    "from numba import njit\n",
    "from bisect import bisect_right\n",
    "from bisect import bisect_left"
   ]
  },
  {
   "cell_type": "code",
   "execution_count": 2,
   "id": "279d02f4-b46c-4a50-81c1-f18e7e7c5306",
   "metadata": {},
   "outputs": [],
   "source": [
    "sys.setrecursionlimit(10**7)"
   ]
  },
  {
   "cell_type": "code",
   "execution_count": 56,
   "id": "7d0cd67c-91e8-4f46-a6d2-09169c983735",
   "metadata": {},
   "outputs": [
    {
     "name": "stdin",
     "output_type": "stream",
     "text": [
      " 1 6\n"
     ]
    }
   ],
   "source": [
    "H, W = map(int, input().split())"
   ]
  },
  {
   "cell_type": "code",
   "execution_count": 57,
   "id": "f8edf2f4-124f-42b2-a715-f1ef42fce1bb",
   "metadata": {},
   "outputs": [
    {
     "name": "stdin",
     "output_type": "stream",
     "text": [
      " ......\n"
     ]
    }
   ],
   "source": [
    "Cn = ['#' + input() + '#' for _ in range(H)]"
   ]
  },
  {
   "cell_type": "code",
   "execution_count": 58,
   "id": "fc9ce57c-3585-416f-a829-9f1121defe31",
   "metadata": {},
   "outputs": [],
   "source": [
    "Cn.insert(0, '#' * (W+2))\n",
    "Cn.append('#' * (W+2))"
   ]
  },
  {
   "cell_type": "code",
   "execution_count": 83,
   "id": "f5de3a0b-23fe-4714-b4ff-06d23393cd69",
   "metadata": {},
   "outputs": [],
   "source": [
    "def DFS(sy, sx, py, px):\n",
    "    ret = -10**10\n",
    "#     print(sy, sx, py, px)\n",
    "    if sy == py and sx == px and visit[py][px]:\n",
    "#         print('return y:{0}, x:{1}'.format(py, px))\n",
    "        return 0\n",
    "    visit[py][px] = True\n",
    "    for dy, dx in ((1, 0), (-1, 0), (0, 1), (0, -1)):\n",
    "        ny = py + dy\n",
    "        nx = px + dx\n",
    "        if Cn[ny][nx] == '#':\n",
    "            continue\n",
    "        if ((sy != ny) or (sx != nx)) and visit[ny][nx]:\n",
    "#         if visit[ny][nx]:\n",
    "#             print(visit[1])\n",
    "            continue\n",
    "#         print('DFS call {0}:{1}:{2}:{3}:{4}:{5}'.format(sy, sx, py, px, ny, nx))\n",
    "#         print('2 {0}'.format(visit[1]))\n",
    "        ret2 = DFS(sy, sx, ny, nx)\n",
    "        ret = max(ret, ret2+1)\n",
    "    visit[py][px] = False\n",
    "    return ret"
   ]
  },
  {
   "cell_type": "code",
   "execution_count": 86,
   "id": "ce778980-2999-4e71-8971-e95a80b8a312",
   "metadata": {},
   "outputs": [],
   "source": [
    "ans = -1\n",
    "visit = [[False] * (W+2) for _ in range(H+2)]\n",
    "for y in range(1, H+1):\n",
    "    for x in range(1, W+1):\n",
    "        r = DFS(y, x, y, x)\n",
    "        ans = max(ans, r)\n",
    "#         print(y, x, r)"
   ]
  },
  {
   "cell_type": "code",
   "execution_count": 87,
   "id": "355433c1-d821-425d-a03d-0028df7c858f",
   "metadata": {},
   "outputs": [
    {
     "name": "stdout",
     "output_type": "stream",
     "text": [
      "-1\n"
     ]
    }
   ],
   "source": [
    "if ans < 3:\n",
    "    print('-1')\n",
    "else:\n",
    "    print(ans)"
   ]
  },
  {
   "cell_type": "code",
   "execution_count": 17,
   "id": "aeb65699-bd58-4ecb-98d0-c338cc222ca8",
   "metadata": {},
   "outputs": [
    {
     "name": "stdout",
     "output_type": "stream",
     "text": [
      "Yes\n"
     ]
    }
   ],
   "source": [
    "a = 1\n",
    "if a == 1 or a == 2:\n",
    "    print('Yes')"
   ]
  },
  {
   "cell_type": "code",
   "execution_count": 62,
   "id": "27960c19-8faa-45f2-8d32-b4376d7c67b5",
   "metadata": {},
   "outputs": [
    {
     "name": "stdout",
     "output_type": "stream",
     "text": [
      "1 1 1 1\n",
      "DFS call 1:1:1:1:1:2\n",
      "1 1 1 2\n",
      "DFS call 1:1:1:2:1:3\n",
      "1 1 1 3\n",
      "DFS call 1:1:1:3:1:4\n",
      "1 1 1 4\n",
      "DFS call 1:1:1:4:1:5\n",
      "1 1 1 5\n",
      "DFS call 1:1:1:5:1:6\n",
      "1 1 1 6\n",
      "DFS call 1:1:1:2:1:1\n",
      "1 1 1 1\n",
      "return y:1, x:1\n"
     ]
    },
    {
     "data": {
      "text/plain": [
       "4"
      ]
     },
     "execution_count": 62,
     "metadata": {},
     "output_type": "execute_result"
    }
   ],
   "source": [
    "visit = [[False] * (W+2) for _ in range(H+2)]\n",
    "DFS(1, 1, 1, 1)"
   ]
  },
  {
   "cell_type": "code",
   "execution_count": null,
   "id": "64def928-8c95-445a-9b47-f73c0ec7a5c4",
   "metadata": {},
   "outputs": [],
   "source": []
  }
 ],
 "metadata": {
  "kernelspec": {
   "display_name": "Python 3",
   "language": "python",
   "name": "python3"
  },
  "language_info": {
   "codemirror_mode": {
    "name": "ipython",
    "version": 3
   },
   "file_extension": ".py",
   "mimetype": "text/x-python",
   "name": "python",
   "nbconvert_exporter": "python",
   "pygments_lexer": "ipython3",
   "version": "3.6.13"
  }
 },
 "nbformat": 4,
 "nbformat_minor": 5
}
