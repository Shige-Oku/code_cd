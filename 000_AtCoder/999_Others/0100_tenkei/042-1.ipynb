{
 "cells": [
  {
   "cell_type": "code",
   "execution_count": null,
   "id": "c76efa47-a445-4b7a-ad59-c4f90d98fdd1",
   "metadata": {},
   "outputs": [],
   "source": [
    "# 解説を読んで実装"
   ]
  },
  {
   "cell_type": "code",
   "execution_count": 1,
   "id": "6e566f4f-f89d-4307-a971-a03f802da0d8",
   "metadata": {},
   "outputs": [],
   "source": [
    "import sys\n",
    "import numpy as np\n",
    "import math\n",
    "import collections\n",
    "import copy\n",
    "import decimal\n",
    "import itertools\n",
    "import re\n",
    "import bisect\n",
    "import scipy\n",
    "import heapq\n",
    "from collections import deque \n",
    "from functools import reduce\n",
    "from itertools import product\n",
    "from itertools import combinations\n",
    "from itertools import chain\n",
    "from functools import lru_cache\n",
    "from scipy.special import comb\n",
    "from numba import njit\n",
    "from bisect import bisect_right\n",
    "from bisect import bisect_left"
   ]
  },
  {
   "cell_type": "code",
   "execution_count": 1,
   "id": "3275de5e-6a87-4429-892a-f0f560934054",
   "metadata": {},
   "outputs": [
    {
     "name": "stdin",
     "output_type": "stream",
     "text": [
      " 18\n"
     ]
    }
   ],
   "source": [
    "K = int(input())"
   ]
  },
  {
   "cell_type": "code",
   "execution_count": 5,
   "id": "e8092671-cbbc-44eb-a43e-eba2d751a4de",
   "metadata": {},
   "outputs": [
    {
     "name": "stdout",
     "output_type": "stream",
     "text": [
      "1\n",
      "[1, 1, 0, 0, 0, 0, 0, 0, 0, 0, 0, 0, 0, 0, 0, 0, 0, 0, 0]\n",
      "2\n",
      "[1, 1, 2, 0, 0, 0, 0, 0, 0, 0, 0, 0, 0, 0, 0, 0, 0, 0, 0]\n",
      "3\n",
      "[1, 1, 2, 4, 0, 0, 0, 0, 0, 0, 0, 0, 0, 0, 0, 0, 0, 0, 0]\n",
      "4\n",
      "[1, 1, 2, 4, 8, 0, 0, 0, 0, 0, 0, 0, 0, 0, 0, 0, 0, 0, 0]\n",
      "5\n",
      "[1, 1, 2, 4, 8, 16, 0, 0, 0, 0, 0, 0, 0, 0, 0, 0, 0, 0, 0]\n",
      "6\n",
      "[1, 1, 2, 4, 8, 16, 32, 0, 0, 0, 0, 0, 0, 0, 0, 0, 0, 0, 0]\n",
      "7\n",
      "[1, 1, 2, 4, 8, 16, 32, 64, 0, 0, 0, 0, 0, 0, 0, 0, 0, 0, 0]\n",
      "8\n",
      "[1, 1, 2, 4, 8, 16, 32, 64, 128, 0, 0, 0, 0, 0, 0, 0, 0, 0, 0]\n",
      "9\n",
      "[1, 1, 2, 4, 8, 16, 32, 64, 128, 256, 0, 0, 0, 0, 0, 0, 0, 0, 0]\n",
      "10\n",
      "[1, 1, 2, 4, 8, 16, 32, 64, 128, 256, 511, 0, 0, 0, 0, 0, 0, 0, 0]\n",
      "11\n",
      "[1, 1, 2, 4, 8, 16, 32, 64, 128, 256, 511, 1021, 0, 0, 0, 0, 0, 0, 0]\n",
      "12\n",
      "[1, 1, 2, 4, 8, 16, 32, 64, 128, 256, 511, 1021, 2040, 0, 0, 0, 0, 0, 0]\n",
      "13\n",
      "[1, 1, 2, 4, 8, 16, 32, 64, 128, 256, 511, 1021, 2040, 4076, 0, 0, 0, 0, 0]\n",
      "14\n",
      "[1, 1, 2, 4, 8, 16, 32, 64, 128, 256, 511, 1021, 2040, 4076, 8144, 0, 0, 0, 0]\n",
      "15\n",
      "[1, 1, 2, 4, 8, 16, 32, 64, 128, 256, 511, 1021, 2040, 4076, 8144, 16272, 0, 0, 0]\n",
      "16\n",
      "[1, 1, 2, 4, 8, 16, 32, 64, 128, 256, 511, 1021, 2040, 4076, 8144, 16272, 32512, 0, 0]\n",
      "17\n",
      "[1, 1, 2, 4, 8, 16, 32, 64, 128, 256, 511, 1021, 2040, 4076, 8144, 16272, 32512, 64960, 0]\n",
      "18\n",
      "[1, 1, 2, 4, 8, 16, 32, 64, 128, 256, 511, 1021, 2040, 4076, 8144, 16272, 32512, 64960, 129792]\n"
     ]
    }
   ],
   "source": [
    "dp = [0] * (K+1)\n",
    "dp[0] = 1\n",
    "for i in range(1, K+1):\n",
    "    n = min(i, 9)\n",
    "    for j in range(1, n+1):\n",
    "        dp[i] += dp[i-j]\n",
    "        dp[i] %= 10**9+7\n",
    "    print(i)\n",
    "    print(dp)"
   ]
  },
  {
   "cell_type": "code",
   "execution_count": 3,
   "id": "5072e26e-3195-47a5-9a69-1d03cb99f155",
   "metadata": {},
   "outputs": [
    {
     "name": "stdout",
     "output_type": "stream",
     "text": [
      "129792\n"
     ]
    }
   ],
   "source": [
    "if K % 9 == 0:\n",
    "    print(dp[K])\n",
    "else:\n",
    "    print('0')"
   ]
  },
  {
   "cell_type": "code",
   "execution_count": 4,
   "id": "b907a159-9321-45af-96dc-7eb451f2a7ca",
   "metadata": {},
   "outputs": [
    {
     "data": {
      "text/plain": [
       "[1,\n",
       " 1,\n",
       " 2,\n",
       " 4,\n",
       " 8,\n",
       " 16,\n",
       " 32,\n",
       " 64,\n",
       " 128,\n",
       " 256,\n",
       " 511,\n",
       " 1021,\n",
       " 2040,\n",
       " 4076,\n",
       " 8144,\n",
       " 16272,\n",
       " 32512,\n",
       " 64960,\n",
       " 129792]"
      ]
     },
     "execution_count": 4,
     "metadata": {},
     "output_type": "execute_result"
    }
   ],
   "source": [
    "dp"
   ]
  },
  {
   "cell_type": "code",
   "execution_count": null,
   "id": "b6b7bca7-d3a5-4def-9606-64505b986371",
   "metadata": {},
   "outputs": [],
   "source": []
  }
 ],
 "metadata": {
  "kernelspec": {
   "display_name": "Python 3",
   "language": "python",
   "name": "python3"
  },
  "language_info": {
   "codemirror_mode": {
    "name": "ipython",
    "version": 3
   },
   "file_extension": ".py",
   "mimetype": "text/x-python",
   "name": "python",
   "nbconvert_exporter": "python",
   "pygments_lexer": "ipython3",
   "version": "3.6.13"
  }
 },
 "nbformat": 4,
 "nbformat_minor": 5
}
