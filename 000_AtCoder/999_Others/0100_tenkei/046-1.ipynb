{
 "cells": [
  {
   "cell_type": "code",
   "execution_count": 1,
   "id": "81a4f4bc-da75-4f01-a084-050d6dd1360a",
   "metadata": {},
   "outputs": [],
   "source": [
    "import sys\n",
    "import numpy as np\n",
    "import math\n",
    "import collections\n",
    "import copy\n",
    "import decimal\n",
    "import itertools\n",
    "import re\n",
    "import bisect\n",
    "import scipy\n",
    "import heapq\n",
    "from collections import deque \n",
    "from functools import reduce\n",
    "from itertools import product\n",
    "from itertools import combinations\n",
    "from itertools import chain\n",
    "from functools import lru_cache\n",
    "from scipy.special import comb\n",
    "from numba import njit\n",
    "from bisect import bisect_right\n",
    "from bisect import bisect_left"
   ]
  },
  {
   "cell_type": "code",
   "execution_count": 2,
   "id": "1fa1ed65-d1e0-40e0-82c4-f516d8a4a343",
   "metadata": {},
   "outputs": [
    {
     "name": "stdin",
     "output_type": "stream",
     "text": [
      " 3\n"
     ]
    }
   ],
   "source": [
    "N = int(input())"
   ]
  },
  {
   "cell_type": "code",
   "execution_count": 16,
   "id": "ee6c6da6-4d2d-4a4b-b03d-c8f1dec51eb8",
   "metadata": {},
   "outputs": [
    {
     "name": "stdin",
     "output_type": "stream",
     "text": [
      " 10 56 102\n"
     ]
    }
   ],
   "source": [
    "An = list(map(int, input().split()))"
   ]
  },
  {
   "cell_type": "code",
   "execution_count": 17,
   "id": "abe35d8d-1735-427a-b171-d3466c7bb696",
   "metadata": {},
   "outputs": [
    {
     "name": "stdin",
     "output_type": "stream",
     "text": [
      " 16 62 108\n"
     ]
    }
   ],
   "source": [
    "Bn = list(map(int, input().split()))"
   ]
  },
  {
   "cell_type": "code",
   "execution_count": 18,
   "id": "23bea216-67b9-4096-90a3-bb584b2c5186",
   "metadata": {},
   "outputs": [
    {
     "name": "stdin",
     "output_type": "stream",
     "text": [
      " 20 66 112\n"
     ]
    }
   ],
   "source": [
    "Cn = list(map(int, input().split()))"
   ]
  },
  {
   "cell_type": "code",
   "execution_count": 19,
   "id": "ec752a9d-3fc0-46b5-b65a-8708993f9a67",
   "metadata": {},
   "outputs": [],
   "source": [
    "An_m = []\n",
    "Bn_m = []\n",
    "Cn_m = []\n",
    "for A, B, C in zip(An, Bn, Cn):\n",
    "    An_m.append(A%46)\n",
    "    Bn_m.append(B%46)\n",
    "    Cn_m.append(C%46)\n",
    "An_c = collections.Counter(An_m)\n",
    "Bn_c = collections.Counter(Bn_m)\n",
    "Cn_c = collections.Counter(Cn_m)\n"
   ]
  },
  {
   "cell_type": "code",
   "execution_count": 20,
   "id": "113f2a13-ebee-4085-b39e-00338f4936f9",
   "metadata": {},
   "outputs": [],
   "source": [
    "ans = 0\n",
    "for ka, va in An_c.items():\n",
    "    for kb, vb in Bn_c.items():\n",
    "        for kc, vc in Cn_c.items():\n",
    "            if (ka + kb + kc) % 46 == 0:\n",
    "                ans += va * vb * vc"
   ]
  },
  {
   "cell_type": "code",
   "execution_count": 21,
   "id": "2f083a61-2788-4454-9f00-bbfbf285ca7c",
   "metadata": {},
   "outputs": [
    {
     "name": "stdout",
     "output_type": "stream",
     "text": [
      "27\n"
     ]
    }
   ],
   "source": [
    "print(ans)"
   ]
  },
  {
   "cell_type": "code",
   "execution_count": 7,
   "id": "2cb3805d-b2c5-4995-95bb-d8156a2551f3",
   "metadata": {},
   "outputs": [
    {
     "data": {
      "text/plain": [
       "([10, 13, 1], [5, 27, 35], [9, 28, 6])"
      ]
     },
     "execution_count": 7,
     "metadata": {},
     "output_type": "execute_result"
    }
   ],
   "source": [
    "An_m, Bn_m, Cn_m"
   ]
  },
  {
   "cell_type": "code",
   "execution_count": null,
   "id": "9ff5cd8b-9d9c-4c34-b9c1-764e46831e9f",
   "metadata": {},
   "outputs": [],
   "source": []
  }
 ],
 "metadata": {
  "kernelspec": {
   "display_name": "Python 3",
   "language": "python",
   "name": "python3"
  },
  "language_info": {
   "codemirror_mode": {
    "name": "ipython",
    "version": 3
   },
   "file_extension": ".py",
   "mimetype": "text/x-python",
   "name": "python",
   "nbconvert_exporter": "python",
   "pygments_lexer": "ipython3",
   "version": "3.6.13"
  }
 },
 "nbformat": 4,
 "nbformat_minor": 5
}
