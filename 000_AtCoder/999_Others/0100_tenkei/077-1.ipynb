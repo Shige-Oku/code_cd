{
 "cells": [
  {
   "cell_type": "code",
   "execution_count": 1,
   "id": "09d9978b-99e4-4a4a-a253-c9d72af7bfd9",
   "metadata": {},
   "outputs": [],
   "source": [
    "import sys\n",
    "import numpy as np\n",
    "import math\n",
    "import collections\n",
    "import copy\n",
    "import decimal\n",
    "import itertools\n",
    "import re\n",
    "import bisect\n",
    "import scipy\n",
    "import heapq\n",
    "from collections import deque \n",
    "from functools import reduce\n",
    "from itertools import product\n",
    "from itertools import combinations\n",
    "from itertools import chain\n",
    "from functools import lru_cache\n",
    "from scipy.special import comb\n",
    "from numba import njit\n",
    "from bisect import bisect_right\n",
    "from bisect import bisect_left"
   ]
  },
  {
   "cell_type": "code",
   "execution_count": 2,
   "id": "fc57276b-236d-4459-beae-84fb0212b379",
   "metadata": {},
   "outputs": [
    {
     "name": "stdin",
     "output_type": "stream",
     "text": [
      " 5 5\n"
     ]
    }
   ],
   "source": [
    "N, M = map(int, input().split())"
   ]
  },
  {
   "cell_type": "code",
   "execution_count": 3,
   "id": "e53c23b1-7aae-4d98-ab3d-02b46afe335f",
   "metadata": {},
   "outputs": [
    {
     "name": "stdin",
     "output_type": "stream",
     "text": [
      " 1 2\n",
      " 1 3\n",
      " 3 2\n",
      " 5 2\n",
      " 4 2\n"
     ]
    }
   ],
   "source": [
    "AB = [list(map(int ,input().split())) for _ in range(M)]"
   ]
  },
  {
   "cell_type": "code",
   "execution_count": 4,
   "id": "7360f022-ac9a-49ff-8ffa-ac0c1d54f384",
   "metadata": {},
   "outputs": [],
   "source": [
    "s = [0] * (N+1)\n",
    "b = [0] * (N+1)\n",
    "for A, B in AB:\n",
    "    if A > B:\n",
    "        s[A] += 1\n",
    "        b[B] += 1\n",
    "    else:\n",
    "        s[B] += 1\n",
    "        b[A] += 1"
   ]
  },
  {
   "cell_type": "code",
   "execution_count": 6,
   "id": "a31df399-1676-412c-8eee-a8d3241cf276",
   "metadata": {},
   "outputs": [
    {
     "name": "stdout",
     "output_type": "stream",
     "text": [
      "3\n"
     ]
    }
   ],
   "source": [
    "print(collections.Counter(s)[1])"
   ]
  },
  {
   "cell_type": "code",
   "execution_count": 5,
   "id": "d63fc5fc-bb30-4f2c-a247-66165174859a",
   "metadata": {},
   "outputs": [
    {
     "data": {
      "text/plain": [
       "([0, 0, 1, 2, 1, 1], [0, 2, 3, 0, 0, 0])"
      ]
     },
     "execution_count": 5,
     "metadata": {},
     "output_type": "execute_result"
    }
   ],
   "source": [
    "s, b"
   ]
  },
  {
   "cell_type": "code",
   "execution_count": null,
   "id": "0974665b-f9fb-4016-970a-046a01c64333",
   "metadata": {},
   "outputs": [],
   "source": []
  }
 ],
 "metadata": {
  "kernelspec": {
   "display_name": "Python 3",
   "language": "python",
   "name": "python3"
  },
  "language_info": {
   "codemirror_mode": {
    "name": "ipython",
    "version": 3
   },
   "file_extension": ".py",
   "mimetype": "text/x-python",
   "name": "python",
   "nbconvert_exporter": "python",
   "pygments_lexer": "ipython3",
   "version": "3.6.13"
  }
 },
 "nbformat": 4,
 "nbformat_minor": 5
}
