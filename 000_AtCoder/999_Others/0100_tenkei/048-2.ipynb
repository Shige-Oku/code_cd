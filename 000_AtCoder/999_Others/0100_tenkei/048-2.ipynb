{
 "cells": [
  {
   "cell_type": "code",
   "execution_count": null,
   "id": "9f50b6c9-3823-4d98-9a2a-68f1df283885",
   "metadata": {},
   "outputs": [],
   "source": [
    "# 解説を読んで実装"
   ]
  },
  {
   "cell_type": "code",
   "execution_count": 1,
   "id": "de7e04dd-6018-4993-9fe9-903687a1b4c9",
   "metadata": {},
   "outputs": [],
   "source": [
    "import sys\n",
    "import numpy as np\n",
    "import math\n",
    "import collections\n",
    "import copy\n",
    "import decimal\n",
    "import itertools\n",
    "import re\n",
    "import bisect\n",
    "import scipy\n",
    "import heapq\n",
    "from collections import deque \n",
    "from functools import reduce\n",
    "from itertools import product\n",
    "from itertools import combinations\n",
    "from itertools import chain\n",
    "from functools import lru_cache\n",
    "from scipy.special import comb\n",
    "from numba import njit\n",
    "from bisect import bisect_right\n",
    "from bisect import bisect_left"
   ]
  },
  {
   "cell_type": "code",
   "execution_count": 2,
   "id": "3c4c8087-055e-4ea4-94b5-6311a6edd3bf",
   "metadata": {},
   "outputs": [
    {
     "name": "stdin",
     "output_type": "stream",
     "text": [
      " 4 3\n"
     ]
    }
   ],
   "source": [
    "N, K = map(int, input().split())"
   ]
  },
  {
   "cell_type": "code",
   "execution_count": 3,
   "id": "9c8ec6e5-7786-4130-9281-5cfa8fe96bae",
   "metadata": {},
   "outputs": [
    {
     "name": "stdin",
     "output_type": "stream",
     "text": [
      " 4 3\n",
      " 9 5\n",
      " 15 8\n",
      " 8 6\n"
     ]
    }
   ],
   "source": [
    "AB = [list(map(int, input().split())) for _ in range(N)]"
   ]
  },
  {
   "cell_type": "code",
   "execution_count": 4,
   "id": "f8362e52-ed65-4905-bc7f-e09e62bfc3b6",
   "metadata": {},
   "outputs": [],
   "source": [
    "AB2 = []\n",
    "for A, B in AB:\n",
    "    AB2.append(B)\n",
    "    AB2.append(A-B)\n",
    "AB2_s = sorted(AB2, reverse=True)"
   ]
  },
  {
   "cell_type": "code",
   "execution_count": 5,
   "id": "7830c6a5-2e29-47ba-af00-486803d44904",
   "metadata": {},
   "outputs": [
    {
     "name": "stdout",
     "output_type": "stream",
     "text": [
      "21\n"
     ]
    }
   ],
   "source": [
    "ans = 0\n",
    "for p in AB2_s[:K]:\n",
    "    ans += p\n",
    "print(ans)"
   ]
  },
  {
   "cell_type": "code",
   "execution_count": null,
   "id": "56b4afbd-8c23-41a1-acf8-714747de28db",
   "metadata": {},
   "outputs": [],
   "source": []
  }
 ],
 "metadata": {
  "kernelspec": {
   "display_name": "Python 3",
   "language": "python",
   "name": "python3"
  },
  "language_info": {
   "codemirror_mode": {
    "name": "ipython",
    "version": 3
   },
   "file_extension": ".py",
   "mimetype": "text/x-python",
   "name": "python",
   "nbconvert_exporter": "python",
   "pygments_lexer": "ipython3",
   "version": "3.6.13"
  }
 },
 "nbformat": 4,
 "nbformat_minor": 5
}
