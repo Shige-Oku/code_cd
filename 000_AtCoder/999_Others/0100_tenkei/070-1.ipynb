{
 "cells": [
  {
   "cell_type": "code",
   "execution_count": 1,
   "id": "40303b16-a0ce-483a-9fea-17977b63bc2f",
   "metadata": {},
   "outputs": [],
   "source": [
    "import sys\n",
    "import numpy as np\n",
    "import math\n",
    "import collections\n",
    "import copy\n",
    "import decimal\n",
    "import itertools\n",
    "import re\n",
    "import bisect\n",
    "import scipy\n",
    "import heapq\n",
    "from collections import deque \n",
    "from functools import reduce\n",
    "from itertools import product\n",
    "from itertools import combinations\n",
    "from itertools import chain\n",
    "from functools import lru_cache\n",
    "from scipy.special import comb\n",
    "from numba import njit\n",
    "from bisect import bisect_right\n",
    "from bisect import bisect_left"
   ]
  },
  {
   "cell_type": "code",
   "execution_count": 28,
   "id": "d1ad9a25-fd59-409d-b7cd-10284fc87d3f",
   "metadata": {},
   "outputs": [
    {
     "name": "stdin",
     "output_type": "stream",
     "text": [
      " 5\n"
     ]
    }
   ],
   "source": [
    "N = int(input())"
   ]
  },
  {
   "cell_type": "code",
   "execution_count": 29,
   "id": "b5eba0c7-aa89-486f-886b-e3295b0a639f",
   "metadata": {},
   "outputs": [
    {
     "name": "stdin",
     "output_type": "stream",
     "text": [
      " 2 5\n",
      " 2 5\n",
      " -3 4\n",
      " -4 -8\n",
      " 6 -2\n"
     ]
    }
   ],
   "source": [
    "XY = [list(map(int, input().split())) for _ in range(N)]"
   ]
  },
  {
   "cell_type": "code",
   "execution_count": 40,
   "id": "9bd8062f-ec19-4cca-bf7a-99d6a29ed7fd",
   "metadata": {},
   "outputs": [],
   "source": [
    "total_x, total_y = 0, 0\n",
    "for X, Y in XY:\n",
    "    total_x += X\n",
    "    total_y += Y\n",
    "x_c = [math.floor(total_x / N), math.ceil(total_x / N)]\n",
    "y_c = [math.floor(total_y / N), math.ceil(total_y / N)]\n"
   ]
  },
  {
   "cell_type": "code",
   "execution_count": 41,
   "id": "2d2f82fa-a849-4828-a865-1dc5de70f021",
   "metadata": {},
   "outputs": [],
   "source": [
    "def solve(xc, yc):\n",
    "    ret = 0\n",
    "    for x, y in XY:\n",
    "        ret += abs(xc-x) + abs(yc-y)\n",
    "    return ret"
   ]
  },
  {
   "cell_type": "code",
   "execution_count": 42,
   "id": "459a2f5b-3987-4136-8a8d-80d5b900a433",
   "metadata": {},
   "outputs": [
    {
     "name": "stdout",
     "output_type": "stream",
     "text": [
      "0 0 41\n",
      "0 1 40\n",
      "1 0 40\n",
      "1 1 39\n"
     ]
    }
   ],
   "source": [
    "ans =10 ** 20\n",
    "for xc, yc in product(x_c, y_c):\n",
    "    ans = min(ans, solve(xc, yc))\n",
    "    print(xc, yc, ans)"
   ]
  },
  {
   "cell_type": "code",
   "execution_count": 43,
   "id": "09b87ede-9e8c-4b80-80c8-7fa501f0be34",
   "metadata": {},
   "outputs": [
    {
     "name": "stdout",
     "output_type": "stream",
     "text": [
      "39\n"
     ]
    }
   ],
   "source": [
    "print(ans)"
   ]
  },
  {
   "cell_type": "code",
   "execution_count": 45,
   "id": "da55b5f5-77a3-4aaf-bb6b-9ad4f9375840",
   "metadata": {},
   "outputs": [
    {
     "data": {
      "text/plain": [
       "(3, 4, [0, 1], [0, 1])"
      ]
     },
     "execution_count": 45,
     "metadata": {},
     "output_type": "execute_result"
    }
   ],
   "source": [
    "total_x, total_y, x_c, y_c"
   ]
  },
  {
   "cell_type": "code",
   "execution_count": 35,
   "id": "4b3b866e-f824-4b45-9c72-005e4ea35218",
   "metadata": {},
   "outputs": [],
   "source": [
    "XY_m = []\n",
    "for X, Y in XY:\n",
    "    XY_m.append((X+Y, X-Y))\n",
    "total_x, total_y = 0, 0\n",
    "for X, Y in XY_m:\n",
    "    total_x += X\n",
    "    total_y += Y\n",
    "x_c = [math.floor(total_x / N), math.ceil(total_x / N)]\n",
    "y_c = [math.floor(total_y / N), math.ceil(total_y / N)]\n"
   ]
  },
  {
   "cell_type": "code",
   "execution_count": 36,
   "id": "85d924ad-f4ae-441c-85e2-f9cd4f64ab80",
   "metadata": {},
   "outputs": [],
   "source": [
    "def solve(xc, yc):\n",
    "    ret = 0\n",
    "    for x, y in XY_m:\n",
    "        ret += abs(xc-x) + abs(yc-y)\n",
    "    return ret"
   ]
  },
  {
   "cell_type": "code",
   "execution_count": 37,
   "id": "75e49d68-e185-43ee-9492-1a14367dec16",
   "metadata": {},
   "outputs": [
    {
     "name": "stdout",
     "output_type": "stream",
     "text": [
      "1 -1 52\n",
      "1 0 52\n",
      "2 -1 51\n",
      "2 0 51\n"
     ]
    }
   ],
   "source": [
    "ans =10 ** 20\n",
    "for xc, yc in product(x_c, y_c):\n",
    "    ans = min(ans, solve(xc, yc))\n",
    "    print(xc, yc, ans)"
   ]
  },
  {
   "cell_type": "code",
   "execution_count": 38,
   "id": "5e4f1d07-68bb-4d69-a3c8-96d2e6f4ab03",
   "metadata": {},
   "outputs": [
    {
     "name": "stdout",
     "output_type": "stream",
     "text": [
      "51\n"
     ]
    }
   ],
   "source": [
    "print(ans)"
   ]
  },
  {
   "cell_type": "code",
   "execution_count": null,
   "id": "f3386860-128d-4727-a5ae-8b36eee2724a",
   "metadata": {},
   "outputs": [],
   "source": []
  }
 ],
 "metadata": {
  "kernelspec": {
   "display_name": "Python 3",
   "language": "python",
   "name": "python3"
  },
  "language_info": {
   "codemirror_mode": {
    "name": "ipython",
    "version": 3
   },
   "file_extension": ".py",
   "mimetype": "text/x-python",
   "name": "python",
   "nbconvert_exporter": "python",
   "pygments_lexer": "ipython3",
   "version": "3.6.13"
  }
 },
 "nbformat": 4,
 "nbformat_minor": 5
}
