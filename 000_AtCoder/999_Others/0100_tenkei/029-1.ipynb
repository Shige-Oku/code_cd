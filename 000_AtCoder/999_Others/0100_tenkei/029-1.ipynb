{
 "cells": [
  {
   "cell_type": "code",
   "execution_count": null,
   "id": "f01ea229-ef0c-48bd-a1d4-1195239a15ca",
   "metadata": {},
   "outputs": [],
   "source": [
    "# サンプルが合わない"
   ]
  },
  {
   "cell_type": "code",
   "execution_count": 1,
   "id": "bc25fd3e-1052-4e6c-8374-044244a3b9e6",
   "metadata": {},
   "outputs": [],
   "source": [
    "import sys\n",
    "import numpy as np\n",
    "import math\n",
    "import collections\n",
    "import copy\n",
    "import decimal\n",
    "import itertools\n",
    "import re\n",
    "import bisect\n",
    "import scipy\n",
    "import heapq\n",
    "from collections import deque \n",
    "from functools import reduce\n",
    "from itertools import product\n",
    "from itertools import combinations\n",
    "from itertools import chain\n",
    "from functools import lru_cache\n",
    "from scipy.special import comb\n",
    "from numba import njit\n",
    "from bisect import bisect_right\n",
    "from bisect import bisect_left"
   ]
  },
  {
   "cell_type": "code",
   "execution_count": 22,
   "id": "643a671f-5eaa-43f1-bd80-293036ad1047",
   "metadata": {},
   "outputs": [
    {
     "name": "stdin",
     "output_type": "stream",
     "text": [
      " 3 5\n"
     ]
    }
   ],
   "source": [
    "W, N = map(int, input().split())"
   ]
  },
  {
   "cell_type": "code",
   "execution_count": 23,
   "id": "4101e59d-52b5-4bde-a5ca-2598125fd90c",
   "metadata": {},
   "outputs": [
    {
     "name": "stdin",
     "output_type": "stream",
     "text": [
      " 1 2\n",
      " 2 2\n",
      " 2 3\n",
      " 3 3\n",
      " 1 2\n"
     ]
    }
   ],
   "source": [
    "LR = [list(map(int, input().split())) for _ in range(N)]"
   ]
  },
  {
   "cell_type": "code",
   "execution_count": 35,
   "id": "335ceeec-a19b-44d5-898c-fcefafd61ce4",
   "metadata": {},
   "outputs": [],
   "source": [
    "cnt = [[0] * (W+2) for _ in range(N+1)]\n",
    "for i, (L, R) in enumerate(LR, 1):\n",
    "    cnt[i][L] += 1\n",
    "    cnt[i][R+1] -= 1\n",
    "for i in range(1, N+1):\n",
    "    for j in range(1, W+1):\n",
    "        cnt[i][j] += cnt[i][j-1]\n",
    "for j in range(1, W+1):\n",
    "    for i in range(1, N+1):\n",
    "        cnt[i][j] += cnt[i-1][j]\n"
   ]
  },
  {
   "cell_type": "code",
   "execution_count": 36,
   "id": "95555fa2-f601-44fc-93d5-b09eccad553c",
   "metadata": {},
   "outputs": [
    {
     "name": "stdout",
     "output_type": "stream",
     "text": [
      "1\n",
      "2\n",
      "3\n",
      "2\n",
      "4\n"
     ]
    }
   ],
   "source": [
    "for i, (L, R) in enumerate(LR, 1):\n",
    "    print(max(cnt[i][L:R+1]))"
   ]
  },
  {
   "cell_type": "code",
   "execution_count": null,
   "id": "82582d01-002a-4eb6-8330-919441111123",
   "metadata": {},
   "outputs": [],
   "source": []
  },
  {
   "cell_type": "code",
   "execution_count": 37,
   "id": "f4424f6c-fc94-4f98-95eb-6faf0cba5dca",
   "metadata": {},
   "outputs": [
    {
     "data": {
      "text/plain": [
       "([1, 1, 0, 0], [1, 2, 0, 0], [1, 3, 1, -1], [1, 3, 2, -1], [2, 4, 2, 0])"
      ]
     },
     "execution_count": 37,
     "metadata": {},
     "output_type": "execute_result"
    }
   ],
   "source": [
    "cnt[1][1:], cnt[2][1:], cnt[3][1:], cnt[4][1:], cnt[5][1:]"
   ]
  },
  {
   "cell_type": "code",
   "execution_count": 38,
   "id": "94e7bbc4-6b3a-48d2-9412-c46ad601ffa3",
   "metadata": {},
   "outputs": [
    {
     "data": {
      "text/plain": [
       "([0, 1, 1, 0, 0],\n",
       " [0, 1, 2, 0, 0],\n",
       " [0, 1, 3, 1, -1],\n",
       " [0, 1, 3, 2, -1],\n",
       " [0, 2, 4, 2, 0])"
      ]
     },
     "execution_count": 38,
     "metadata": {},
     "output_type": "execute_result"
    }
   ],
   "source": [
    "cnt[1], cnt[2], cnt[3], cnt[4], cnt[5]"
   ]
  },
  {
   "cell_type": "code",
   "execution_count": null,
   "id": "82b51773-f077-4237-adc3-033e616712e2",
   "metadata": {},
   "outputs": [],
   "source": []
  }
 ],
 "metadata": {
  "kernelspec": {
   "display_name": "Python 3",
   "language": "python",
   "name": "python3"
  },
  "language_info": {
   "codemirror_mode": {
    "name": "ipython",
    "version": 3
   },
   "file_extension": ".py",
   "mimetype": "text/x-python",
   "name": "python",
   "nbconvert_exporter": "python",
   "pygments_lexer": "ipython3",
   "version": "3.6.13"
  }
 },
 "nbformat": 4,
 "nbformat_minor": 5
}
