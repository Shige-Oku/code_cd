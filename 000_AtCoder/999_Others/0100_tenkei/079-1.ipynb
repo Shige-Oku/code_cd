{
 "cells": [
  {
   "cell_type": "code",
   "execution_count": null,
   "id": "bd1d1132-b4e4-47be-8efa-618b6e7cc3c1",
   "metadata": {},
   "outputs": [],
   "source": [
    "# 解説を読んで実装"
   ]
  },
  {
   "cell_type": "code",
   "execution_count": 1,
   "id": "69131ead-6aa3-45d7-a828-7d512cdf366f",
   "metadata": {},
   "outputs": [],
   "source": [
    "import sys\n",
    "import numpy as np\n",
    "import math\n",
    "import collections\n",
    "import copy\n",
    "import decimal\n",
    "import itertools\n",
    "import re\n",
    "import bisect\n",
    "import scipy\n",
    "import heapq\n",
    "from collections import deque \n",
    "from functools import reduce\n",
    "from itertools import product\n",
    "from itertools import combinations\n",
    "from itertools import chain\n",
    "from functools import lru_cache\n",
    "from scipy.special import comb\n",
    "from numba import njit\n",
    "from bisect import bisect_right\n",
    "from bisect import bisect_left"
   ]
  },
  {
   "cell_type": "code",
   "execution_count": 19,
   "id": "6b847fad-2d6f-4f1d-8203-9a6f4c7ae650",
   "metadata": {},
   "outputs": [
    {
     "name": "stdin",
     "output_type": "stream",
     "text": [
      " 3 3\n"
     ]
    }
   ],
   "source": [
    "H, W = map(int, input().split())"
   ]
  },
  {
   "cell_type": "code",
   "execution_count": 20,
   "id": "3aa470e7-a40e-4fc3-9bef-cacd1d40e744",
   "metadata": {},
   "outputs": [
    {
     "name": "stdin",
     "output_type": "stream",
     "text": [
      " 0 0 0\n",
      " 0 0 0\n",
      " 0 0 0\n"
     ]
    }
   ],
   "source": [
    "An = [list(map(int, input().split())) for _ in range(H)]"
   ]
  },
  {
   "cell_type": "code",
   "execution_count": 21,
   "id": "de14eaa8-8e3f-4ad6-ad9f-b6e8ef4b0285",
   "metadata": {},
   "outputs": [
    {
     "name": "stdin",
     "output_type": "stream",
     "text": [
      " 0 0 0\n",
      " 0 1 0\n",
      " 0 0 0\n"
     ]
    }
   ],
   "source": [
    "Bn = [list(map(int, input().split())) for _ in range(H)]"
   ]
  },
  {
   "cell_type": "code",
   "execution_count": 26,
   "id": "b4343697-a0c7-4425-8b5d-1546a3efc3cd",
   "metadata": {},
   "outputs": [],
   "source": [
    "An_c = copy.deepcopy(An)\n",
    "ope = 0\n",
    "for i in range(H-1):\n",
    "    for j in range(W-1):\n",
    "        cnt = Bn[i][j] - An_c[i][j]\n",
    "        ope += abs(cnt)\n",
    "        for h, w in ((0, 0), (0, 1), (1, 0), (1, 1)):\n",
    "            if i + h < H and j + w < W:\n",
    "                An_c[i+h][j+w] += cnt\n"
   ]
  },
  {
   "cell_type": "code",
   "execution_count": 27,
   "id": "667484c5-4ab9-4e96-bc8e-76135a0f35b7",
   "metadata": {},
   "outputs": [
    {
     "name": "stdout",
     "output_type": "stream",
     "text": [
      "No\n"
     ]
    }
   ],
   "source": [
    "if An_c == Bn:\n",
    "    print('Yes')\n",
    "    print(ope)\n",
    "else:\n",
    "    print('No')"
   ]
  },
  {
   "cell_type": "code",
   "execution_count": 24,
   "id": "8a85a19b-f1b2-48fc-ba7b-51c2ceee7fa3",
   "metadata": {},
   "outputs": [
    {
     "data": {
      "text/plain": [
       "4"
      ]
     },
     "execution_count": 24,
     "metadata": {},
     "output_type": "execute_result"
    }
   ],
   "source": [
    "ope"
   ]
  },
  {
   "cell_type": "code",
   "execution_count": 25,
   "id": "4d0c5489-1b49-49a8-af0b-eaf1b8c5d8d4",
   "metadata": {},
   "outputs": [
    {
     "data": {
      "text/plain": [
       "[[0, 0, 0], [0, 1, 0], [0, 0, 0]]"
      ]
     },
     "execution_count": 25,
     "metadata": {},
     "output_type": "execute_result"
    }
   ],
   "source": [
    "An_c"
   ]
  },
  {
   "cell_type": "code",
   "execution_count": 18,
   "id": "7c28d176-0130-497d-8f5c-ad541d062535",
   "metadata": {},
   "outputs": [
    {
     "data": {
      "text/plain": [
       "(3, 3)"
      ]
     },
     "execution_count": 18,
     "metadata": {},
     "output_type": "execute_result"
    }
   ],
   "source": [
    "H, W"
   ]
  },
  {
   "cell_type": "code",
   "execution_count": 29,
   "id": "ceef8a69-bc2b-44e3-ae0f-fca7112c0515",
   "metadata": {},
   "outputs": [
    {
     "data": {
      "text/plain": [
       "False"
      ]
     },
     "execution_count": 29,
     "metadata": {},
     "output_type": "execute_result"
    }
   ],
   "source": [
    "An_c == An"
   ]
  },
  {
   "cell_type": "code",
   "execution_count": 30,
   "id": "017d7702-d5d8-4885-b012-e4c65d5f906c",
   "metadata": {},
   "outputs": [],
   "source": [
    "t = [[1, 1, 0], [1, 1, 1,], [0, 0, 0]]"
   ]
  },
  {
   "cell_type": "code",
   "execution_count": 31,
   "id": "757b4b3c-18c6-41f9-ba42-41eeb63f56b8",
   "metadata": {},
   "outputs": [
    {
     "data": {
      "text/plain": [
       "False"
      ]
     },
     "execution_count": 31,
     "metadata": {},
     "output_type": "execute_result"
    }
   ],
   "source": [
    "An_c == t"
   ]
  },
  {
   "cell_type": "code",
   "execution_count": null,
   "id": "5797049e-b99b-415c-9ef7-13a7fc86be48",
   "metadata": {},
   "outputs": [],
   "source": []
  }
 ],
 "metadata": {
  "kernelspec": {
   "display_name": "Python 3",
   "language": "python",
   "name": "python3"
  },
  "language_info": {
   "codemirror_mode": {
    "name": "ipython",
    "version": 3
   },
   "file_extension": ".py",
   "mimetype": "text/x-python",
   "name": "python",
   "nbconvert_exporter": "python",
   "pygments_lexer": "ipython3",
   "version": "3.6.13"
  }
 },
 "nbformat": 4,
 "nbformat_minor": 5
}
