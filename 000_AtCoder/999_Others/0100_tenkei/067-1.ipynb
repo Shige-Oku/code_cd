{
 "cells": [
  {
   "cell_type": "code",
   "execution_count": 1,
   "id": "f9a041cc-5295-4227-a542-37626bfb00b9",
   "metadata": {},
   "outputs": [],
   "source": [
    "import sys\n",
    "import numpy as np\n",
    "import math\n",
    "import collections\n",
    "import copy\n",
    "import decimal\n",
    "import itertools\n",
    "import re\n",
    "import bisect\n",
    "import scipy\n",
    "import heapq\n",
    "from collections import deque \n",
    "from functools import reduce\n",
    "from itertools import product\n",
    "from itertools import combinations\n",
    "from itertools import chain\n",
    "from functools import lru_cache\n",
    "from scipy.special import comb\n",
    "from numba import njit\n",
    "from bisect import bisect_right\n",
    "from bisect import bisect_left"
   ]
  },
  {
   "cell_type": "code",
   "execution_count": 115,
   "id": "d453c729-31fa-48fa-9e24-a7ca77296c63",
   "metadata": {},
   "outputs": [
    {
     "name": "stdin",
     "output_type": "stream",
     "text": [
      " 2311640221315 15\n"
     ]
    }
   ],
   "source": [
    "N, K = map(int, input().split())"
   ]
  },
  {
   "cell_type": "code",
   "execution_count": 116,
   "id": "41c3d9ed-b85e-4efc-99b0-22ae0f10f7eb",
   "metadata": {},
   "outputs": [],
   "source": [
    "def solve(n8):\n",
    "    num8 = str(n8)\n",
    "    num10 = 0\n",
    "    for i, s in enumerate(num8[::-1]):\n",
    "        num10 += int(s) * 8**i\n",
    "#     print(n8, num10)\n",
    "\n",
    "    num9 = 0\n",
    "    for i in range(21, -1, -1):\n",
    "        q, m = divmod(num10, 9**i)\n",
    "        num9 += q * 10**i\n",
    "        num10 %= 9**i\n",
    "#         print(i, q, m, num9, num10)\n",
    "        if num10 <= 0:\n",
    "            break\n",
    "#     print(num9)\n",
    "    return num9"
   ]
  },
  {
   "cell_type": "code",
   "execution_count": 117,
   "id": "2151b537-3731-4c11-bd62-089538b93ec6",
   "metadata": {},
   "outputs": [],
   "source": [
    "ans = N\n",
    "for i in range(K):\n",
    "    ans = solve(ans)\n",
    "    ans_s = str(ans)\n",
    "    ans = int(ans_s.replace('8', '5'))"
   ]
  },
  {
   "cell_type": "code",
   "execution_count": 118,
   "id": "2931718c-c319-4016-bc6a-7b2455461527",
   "metadata": {},
   "outputs": [
    {
     "name": "stdout",
     "output_type": "stream",
     "text": [
      "474547\n"
     ]
    }
   ],
   "source": [
    "print(ans)"
   ]
  },
  {
   "cell_type": "code",
   "execution_count": 82,
   "id": "173d2612-0774-45ea-993e-527e9ccdca41",
   "metadata": {},
   "outputs": [
    {
     "name": "stdout",
     "output_type": "stream",
     "text": [
      "0 0 0\n",
      "1 3 24\n",
      "2 3 216\n",
      "3 1 728\n"
     ]
    }
   ],
   "source": [
    "num8 = str(N)\n",
    "num10 = 0\n",
    "for i, s in enumerate(num8[::-1]):\n",
    "    num10 += int(s) * 8**i\n",
    "#     print(i, s, num10)\n",
    "    "
   ]
  },
  {
   "cell_type": "code",
   "execution_count": 86,
   "id": "b88c041f-1e72-4fc5-987c-411e55bca991",
   "metadata": {},
   "outputs": [],
   "source": [
    "num8 = N\n",
    "num9 = 0\n",
    "for i in range(21, -1, 1):\n",
    "    q, m = divmod(num8, 9**i)\n",
    "    num9 += 9 * 10**i\n",
    "    num8 //= 10\n",
    "    if num8 <= 0:\n",
    "        break    "
   ]
  },
  {
   "cell_type": "code",
   "execution_count": null,
   "id": "4a8f9774-e641-40db-88ba-77b342329844",
   "metadata": {},
   "outputs": [],
   "source": []
  },
  {
   "cell_type": "code",
   "execution_count": 87,
   "id": "f7814764-3223-441c-9469-0db6b6b3b222",
   "metadata": {},
   "outputs": [
    {
     "name": "stdout",
     "output_type": "stream",
     "text": [
      "2247\n"
     ]
    }
   ],
   "source": [
    "print(str(num9).replace('8', '5'))"
   ]
  },
  {
   "cell_type": "code",
   "execution_count": 88,
   "id": "05ccb5e6-8a7d-4738-8c42-3537dccb9928",
   "metadata": {},
   "outputs": [
    {
     "data": {
      "text/plain": [
       "(0, 2247)"
      ]
     },
     "execution_count": 88,
     "metadata": {},
     "output_type": "execute_result"
    }
   ],
   "source": [
    "num10, num9"
   ]
  },
  {
   "cell_type": "code",
   "execution_count": null,
   "id": "82e623de-a2e1-4d02-ba79-b1f22772fd7e",
   "metadata": {},
   "outputs": [],
   "source": []
  }
 ],
 "metadata": {
  "kernelspec": {
   "display_name": "Python 3",
   "language": "python",
   "name": "python3"
  },
  "language_info": {
   "codemirror_mode": {
    "name": "ipython",
    "version": 3
   },
   "file_extension": ".py",
   "mimetype": "text/x-python",
   "name": "python",
   "nbconvert_exporter": "python",
   "pygments_lexer": "ipython3",
   "version": "3.6.13"
  }
 },
 "nbformat": 4,
 "nbformat_minor": 5
}
