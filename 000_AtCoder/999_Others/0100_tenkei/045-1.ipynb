{
 "cells": [
  {
   "cell_type": "code",
   "execution_count": null,
   "id": "83f27f35-4354-4987-92a6-2a1bb0eeafaf",
   "metadata": {},
   "outputs": [],
   "source": [
    "# サンプルが合わない"
   ]
  },
  {
   "cell_type": "code",
   "execution_count": 1,
   "id": "b6a44ec5-3a6e-4db0-9c83-1da65bd4e580",
   "metadata": {},
   "outputs": [],
   "source": [
    "import sys\n",
    "import numpy as np\n",
    "import math\n",
    "import collections\n",
    "import copy\n",
    "import decimal\n",
    "import itertools\n",
    "import re\n",
    "import bisect\n",
    "import scipy\n",
    "import heapq\n",
    "from collections import deque \n",
    "from functools import reduce\n",
    "from itertools import product\n",
    "from itertools import combinations\n",
    "from itertools import chain\n",
    "from functools import lru_cache\n",
    "from scipy.special import comb\n",
    "from numba import njit\n",
    "from bisect import bisect_right\n",
    "from bisect import bisect_left"
   ]
  },
  {
   "cell_type": "code",
   "execution_count": 2,
   "id": "54838729-00ae-47d9-abc0-3ab2d743ce13",
   "metadata": {},
   "outputs": [
    {
     "name": "stdin",
     "output_type": "stream",
     "text": [
      " 3 2\n"
     ]
    }
   ],
   "source": [
    "N, K = map(int, input().split())"
   ]
  },
  {
   "cell_type": "code",
   "execution_count": 3,
   "id": "b7a4cf57-393c-4191-940e-258e2a433828",
   "metadata": {},
   "outputs": [
    {
     "name": "stdin",
     "output_type": "stream",
     "text": [
      " 0 1\n",
      " 1 2\n",
      " 2 0\n"
     ]
    }
   ],
   "source": [
    "XY = [list(map(int, input().split())) for _ in range(N)]"
   ]
  },
  {
   "cell_type": "code",
   "execution_count": 30,
   "id": "8cccd60e-02b8-4242-95ee-271dca56f8ca",
   "metadata": {},
   "outputs": [
    {
     "name": "stdout",
     "output_type": "stream",
     "text": [
      "(0, 0)\n",
      "(0, 1)\n",
      "(1, 0)\n",
      "(1, 1)\n"
     ]
    }
   ],
   "source": [
    "XY_sx = sorted(XY)\n",
    "XY_sy = sorted(XY, key=lambda x:x[1])\n",
    "ans = 10**20\n",
    "for p in product((0, 1), repeat=N-1):\n",
    "    if sum(p) != K-1:\n",
    "        continue\n",
    "    c = 0\n",
    "    total = 0\n",
    "    i = 0\n",
    "    for j, pp in enumerate(p, 1):\n",
    "        if pp == 0:\n",
    "            total = abs(XY_sx[i][0] - XY_sx[j][0]) ** 2 + abs(XY_sx[i][1] - XY_sx[j][1]) ** 2\n",
    "        else:\n",
    "            c = max(c, total)\n",
    "            i = j\n",
    "            total = 0\n",
    "    else:\n",
    "        if pp == 0:\n",
    "            c = max(c, total)\n",
    "    ans = min(ans, c)\n",
    "\n",
    "for p in product((0, 1), repeat=N-1):\n",
    "    if sum(p) != K-1:\n",
    "        continue\n",
    "    c = 0\n",
    "    total = 0\n",
    "    i = 0\n",
    "    for j, pp in enumerate(p, 1):\n",
    "        if pp == 0:\n",
    "            total = abs(XY_sy[i][0] - XY_sy[j][0]) ** 2 + abs(XY_sy[i][1] - XY_sy[j][1]) ** 2\n",
    "        else:\n",
    "            c = max(c, total)\n",
    "            i = j\n",
    "            total = 0\n",
    "    else:\n",
    "        if pp == 0:\n",
    "            c = max(c, total)\n",
    "    ans = min(ans, c)\n",
    "    "
   ]
  },
  {
   "cell_type": "code",
   "execution_count": 31,
   "id": "73cb772b-9b33-4192-add9-8cfb70ab8c2d",
   "metadata": {},
   "outputs": [
    {
     "name": "stdout",
     "output_type": "stream",
     "text": [
      "2\n"
     ]
    }
   ],
   "source": [
    "print(ans)"
   ]
  },
  {
   "cell_type": "code",
   "execution_count": 9,
   "id": "ad0117bf-1d6e-4ae4-badd-cfcdc23eda34",
   "metadata": {},
   "outputs": [
    {
     "data": {
      "text/plain": [
       "100000000000000000000"
      ]
     },
     "execution_count": 9,
     "metadata": {},
     "output_type": "execute_result"
    }
   ],
   "source": [
    "c"
   ]
  },
  {
   "cell_type": "code",
   "execution_count": null,
   "id": "0f5b1e4e-ed55-405c-b6d3-44731e1bc21f",
   "metadata": {},
   "outputs": [],
   "source": []
  }
 ],
 "metadata": {
  "kernelspec": {
   "display_name": "Python 3",
   "language": "python",
   "name": "python3"
  },
  "language_info": {
   "codemirror_mode": {
    "name": "ipython",
    "version": 3
   },
   "file_extension": ".py",
   "mimetype": "text/x-python",
   "name": "python",
   "nbconvert_exporter": "python",
   "pygments_lexer": "ipython3",
   "version": "3.6.13"
  }
 },
 "nbformat": 4,
 "nbformat_minor": 5
}
