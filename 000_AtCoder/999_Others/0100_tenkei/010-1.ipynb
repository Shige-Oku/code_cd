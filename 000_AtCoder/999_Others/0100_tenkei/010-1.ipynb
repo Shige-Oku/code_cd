{
 "cells": [
  {
   "cell_type": "code",
   "execution_count": 1,
   "id": "53b953fc-70e9-44d5-95e2-f2818acfb86a",
   "metadata": {},
   "outputs": [],
   "source": [
    "import sys\n",
    "import numpy as np\n",
    "import math\n",
    "import collections\n",
    "import copy\n",
    "import decimal\n",
    "import itertools\n",
    "import re\n",
    "import bisect\n",
    "import scipy\n",
    "import heapq\n",
    "from collections import deque \n",
    "from functools import reduce\n",
    "from itertools import product\n",
    "from itertools import combinations\n",
    "from itertools import chain\n",
    "from functools import lru_cache\n",
    "from scipy.special import comb\n",
    "from numba import njit\n",
    "from bisect import bisect_right\n",
    "from bisect import bisect_left"
   ]
  },
  {
   "cell_type": "code",
   "execution_count": 2,
   "id": "9919ee08-6c75-40c1-b00c-8a6934b3b264",
   "metadata": {},
   "outputs": [
    {
     "name": "stdin",
     "output_type": "stream",
     "text": [
      " 7\n"
     ]
    }
   ],
   "source": [
    "N = int(input())"
   ]
  },
  {
   "cell_type": "code",
   "execution_count": 3,
   "id": "4ce3be06-d48e-4475-bbe1-82275ad8a2a8",
   "metadata": {},
   "outputs": [
    {
     "name": "stdin",
     "output_type": "stream",
     "text": [
      " 1 72\n",
      " 2 78\n",
      " 2 94\n",
      " 1 23\n",
      " 2 89\n",
      " 1 40\n",
      " 1 75\n"
     ]
    }
   ],
   "source": [
    "CP = [list(map(int, input().split())) for _ in range(N)]"
   ]
  },
  {
   "cell_type": "code",
   "execution_count": 4,
   "id": "7675ee0a-42c4-452e-9efb-15f74feb16bc",
   "metadata": {},
   "outputs": [
    {
     "name": "stdin",
     "output_type": "stream",
     "text": [
      " 1\n"
     ]
    }
   ],
   "source": [
    "Q = int(input())"
   ]
  },
  {
   "cell_type": "code",
   "execution_count": 5,
   "id": "6a7abdd4-e2ca-40cf-824f-a571f0abe202",
   "metadata": {},
   "outputs": [
    {
     "name": "stdin",
     "output_type": "stream",
     "text": [
      " 2 6\n"
     ]
    }
   ],
   "source": [
    "LQ = [list(map(int, input().split())) for _ in range(Q)]"
   ]
  },
  {
   "cell_type": "code",
   "execution_count": 6,
   "id": "3fba85b7-77d6-4b9c-be73-877c6dc157a6",
   "metadata": {},
   "outputs": [],
   "source": [
    "class1_cum = [0, ]\n",
    "class2_cum = [0, ]\n",
    "for i, cp in enumerate(CP, 1):\n",
    "    c, p = cp\n",
    "    if c == 1:\n",
    "        class1_cum.append(class1_cum[-1]+p)\n",
    "        class2_cum.append(class2_cum[-1])\n",
    "    else:\n",
    "        class1_cum.append(class1_cum[-1])\n",
    "        class2_cum.append(class2_cum[-1]+p)\n",
    "        "
   ]
  },
  {
   "cell_type": "code",
   "execution_count": 9,
   "id": "1e697c88-0d9f-4693-9e87-3b2b00cd3ed4",
   "metadata": {},
   "outputs": [
    {
     "name": "stdout",
     "output_type": "stream",
     "text": [
      "63 261\n"
     ]
    }
   ],
   "source": [
    "for L, R in LQ:\n",
    "    print(class1_cum[R]-class1_cum[L-1], class2_cum[R]-class2_cum[L-1])"
   ]
  },
  {
   "cell_type": "code",
   "execution_count": 7,
   "id": "0e532cab-82e4-430c-b952-83682fb36f63",
   "metadata": {},
   "outputs": [
    {
     "data": {
      "text/plain": [
       "([0, 72, 72, 72, 95, 95, 135, 210], [0, 0, 78, 172, 172, 261, 261, 261])"
      ]
     },
     "execution_count": 7,
     "metadata": {},
     "output_type": "execute_result"
    }
   ],
   "source": [
    "class1_cum, class2_cum"
   ]
  },
  {
   "cell_type": "code",
   "execution_count": null,
   "id": "d350c65c-4ada-4fb9-89cd-b178b535a954",
   "metadata": {},
   "outputs": [],
   "source": []
  }
 ],
 "metadata": {
  "kernelspec": {
   "display_name": "Python 3",
   "language": "python",
   "name": "python3"
  },
  "language_info": {
   "codemirror_mode": {
    "name": "ipython",
    "version": 3
   },
   "file_extension": ".py",
   "mimetype": "text/x-python",
   "name": "python",
   "nbconvert_exporter": "python",
   "pygments_lexer": "ipython3",
   "version": "3.6.13"
  }
 },
 "nbformat": 4,
 "nbformat_minor": 5
}
