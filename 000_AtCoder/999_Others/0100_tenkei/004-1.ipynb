{
 "cells": [
  {
   "cell_type": "code",
   "execution_count": 1,
   "id": "afb2448d-ac1a-4687-85d2-ee5658cf4922",
   "metadata": {},
   "outputs": [],
   "source": [
    "import sys\n",
    "import numpy as np\n",
    "import math\n",
    "import collections\n",
    "import copy\n",
    "import decimal\n",
    "import itertools\n",
    "import re\n",
    "import bisect\n",
    "import scipy\n",
    "import heapq\n",
    "from collections import deque \n",
    "from functools import reduce\n",
    "from itertools import product\n",
    "from itertools import combinations\n",
    "from itertools import chain\n",
    "from functools import lru_cache\n",
    "from scipy.special import comb\n",
    "from numba import njit\n",
    "from bisect import bisect_right\n",
    "from bisect import bisect_left"
   ]
  },
  {
   "cell_type": "code",
   "execution_count": 2,
   "id": "d3fe5806-dd15-4abe-ae62-3447d688bf3b",
   "metadata": {},
   "outputs": [
    {
     "name": "stdin",
     "output_type": "stream",
     "text": [
      " 3 3\n"
     ]
    }
   ],
   "source": [
    "H, W = map(int, input().split())"
   ]
  },
  {
   "cell_type": "code",
   "execution_count": 3,
   "id": "d22261bb-4187-4ddd-9421-d646fc3bf56e",
   "metadata": {},
   "outputs": [
    {
     "name": "stdin",
     "output_type": "stream",
     "text": [
      " 1 1 1\n",
      " 1 1 1\n",
      " 1 1 1\n"
     ]
    }
   ],
   "source": [
    "An = [list(map(int, input().split())) for _ in range(H)]"
   ]
  },
  {
   "cell_type": "code",
   "execution_count": 6,
   "id": "6b53a8fa-159a-4472-a812-2526a28e6580",
   "metadata": {},
   "outputs": [],
   "source": [
    "cum_line = []\n",
    "cum_col = []\n",
    "for i in range(H):\n",
    "    t = 0\n",
    "    for j in range(W):\n",
    "        t += An[i][j]\n",
    "    cum_line.append(t)\n",
    "for j in range(W):\n",
    "    t = 0\n",
    "    for i in range(H):\n",
    "        t += An[i][j]\n",
    "    cum_col.append(t)"
   ]
  },
  {
   "cell_type": "code",
   "execution_count": 16,
   "id": "13f4b63d-40c5-4b71-9433-32acc09c2ee7",
   "metadata": {},
   "outputs": [
    {
     "name": "stdout",
     "output_type": "stream",
     "text": [
      "5 5 5\n",
      "5 5 5\n",
      "5 5 5\n",
      "\n"
     ]
    }
   ],
   "source": [
    "ans = [[] for _ in range(H+1)]\n",
    "for i in range(H):\n",
    "    for j in range(W):\n",
    "        ans[i].append(cum_line[i]+cum_col[j]-An[i][j])\n",
    "for an in ans:\n",
    "    print(*an)"
   ]
  },
  {
   "cell_type": "code",
   "execution_count": 7,
   "id": "8b51c83e-81d9-419f-8fef-e502311f0f74",
   "metadata": {},
   "outputs": [
    {
     "data": {
      "text/plain": [
       "([3, 3, 3], [3, 3, 3])"
      ]
     },
     "execution_count": 7,
     "metadata": {},
     "output_type": "execute_result"
    }
   ],
   "source": [
    "cum_line, cum_col"
   ]
  },
  {
   "cell_type": "code",
   "execution_count": 14,
   "id": "ff53bf37-2228-4f31-9657-6685644be7ad",
   "metadata": {},
   "outputs": [
    {
     "data": {
      "text/plain": [
       "[[5, 5, 5], [5, 5, 5], [5, 5, 5], []]"
      ]
     },
     "execution_count": 14,
     "metadata": {},
     "output_type": "execute_result"
    }
   ],
   "source": [
    "ans"
   ]
  },
  {
   "cell_type": "code",
   "execution_count": null,
   "id": "b1e2db46-21e2-4e7e-816f-c905c0a70dd6",
   "metadata": {},
   "outputs": [],
   "source": []
  }
 ],
 "metadata": {
  "kernelspec": {
   "display_name": "Python 3",
   "language": "python",
   "name": "python3"
  },
  "language_info": {
   "codemirror_mode": {
    "name": "ipython",
    "version": 3
   },
   "file_extension": ".py",
   "mimetype": "text/x-python",
   "name": "python",
   "nbconvert_exporter": "python",
   "pygments_lexer": "ipython3",
   "version": "3.6.13"
  }
 },
 "nbformat": 4,
 "nbformat_minor": 5
}
