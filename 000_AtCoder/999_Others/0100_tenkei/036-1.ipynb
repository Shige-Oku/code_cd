{
 "cells": [
  {
   "cell_type": "code",
   "execution_count": null,
   "id": "c13674e1-43c6-42ba-96a7-0ca7e992c597",
   "metadata": {},
   "outputs": [],
   "source": [
    "# 解説を読んで実装"
   ]
  },
  {
   "cell_type": "code",
   "execution_count": 1,
   "id": "0bfd08c8-1f63-4192-ba11-68ff13c31ed5",
   "metadata": {},
   "outputs": [],
   "source": [
    "import sys\n",
    "import numpy as np\n",
    "import math\n",
    "import collections\n",
    "import copy\n",
    "import decimal\n",
    "import itertools\n",
    "import re\n",
    "import bisect\n",
    "import scipy\n",
    "import heapq\n",
    "from collections import deque \n",
    "from functools import reduce\n",
    "from itertools import product\n",
    "from itertools import combinations\n",
    "from itertools import chain\n",
    "from functools import lru_cache\n",
    "from scipy.special import comb\n",
    "from numba import njit\n",
    "from bisect import bisect_right\n",
    "from bisect import bisect_left"
   ]
  },
  {
   "cell_type": "code",
   "execution_count": 2,
   "id": "82a93d2c-dcfb-46ea-a949-87326298cc89",
   "metadata": {},
   "outputs": [
    {
     "name": "stdin",
     "output_type": "stream",
     "text": [
      " 3 3\n"
     ]
    }
   ],
   "source": [
    "N, Q = map(int, input().split())"
   ]
  },
  {
   "cell_type": "code",
   "execution_count": 10,
   "id": "38e9f09d-8d09-438f-ad16-5dba12f21f00",
   "metadata": {},
   "outputs": [
    {
     "name": "stdin",
     "output_type": "stream",
     "text": [
      " -1 2\n",
      " 1 1\n",
      " -2 -3\n"
     ]
    }
   ],
   "source": [
    "XY = [list(map(int, input().split())) for _ in range(N)]"
   ]
  },
  {
   "cell_type": "code",
   "execution_count": 4,
   "id": "0ac909a5-9dea-47dc-92af-9f0b3337af32",
   "metadata": {},
   "outputs": [
    {
     "name": "stdin",
     "output_type": "stream",
     "text": [
      " 1 \n",
      " 2\n",
      " 3\n"
     ]
    }
   ],
   "source": [
    "Qn = [int(input()) for _ in range(Q)]"
   ]
  },
  {
   "cell_type": "code",
   "execution_count": 14,
   "id": "1319b3a7-1b05-412b-846b-6ac9fef3dfcf",
   "metadata": {},
   "outputs": [],
   "source": [
    "XY2 = []\n",
    "for i, (X, Y) in enumerate(XY):\n",
    "    XY2.append((X+Y, X-Y))\n",
    "    \n",
    "XY_sx = sorted(XY2)\n",
    "XY_sy = sorted(XY2, key=lambda x:x[1])"
   ]
  },
  {
   "cell_type": "code",
   "execution_count": 18,
   "id": "42ebbda6-a47c-42c2-a3b1-4d3b8955f22c",
   "metadata": {},
   "outputs": [
    {
     "name": "stdout",
     "output_type": "stream",
     "text": [
      "6\n",
      "7\n",
      "7\n"
     ]
    }
   ],
   "source": [
    "for q in Qn:\n",
    "    ans = 0\n",
    "    xq, yq = XY2[q-1]\n",
    "    x1, y1 = XY_sx[0]\n",
    "    ans = max(ans, abs(xq-x1), abs(yq-y1))\n",
    "    x1, y1 = XY_sx[1]\n",
    "    ans = max(ans, abs(xq-x1), abs(yq-y1))\n",
    "    x1, y1 = XY_sx[-1]\n",
    "    ans = max(ans, abs(xq-x1), abs(yq-y1))\n",
    "    x1, y1 = XY_sx[-2]\n",
    "    ans = max(ans, abs(xq-x1), abs(yq-y1))\n",
    "\n",
    "    x1, y1 = XY_sy[0]\n",
    "    ans = max(ans, abs(xq-x1), abs(yq-y1))\n",
    "    x1, y1 = XY_sy[1]\n",
    "    ans = max(ans, abs(xq-x1), abs(yq-y1))\n",
    "    x1, y1 = XY_sy[-1]\n",
    "    ans = max(ans, abs(xq-x1), abs(yq-y1))\n",
    "    x1, y1 = XY_sy[-2]\n",
    "    ans = max(ans, abs(xq-x1), abs(yq-y1))\n",
    "    \n",
    "    print(ans)"
   ]
  },
  {
   "cell_type": "code",
   "execution_count": 15,
   "id": "a9d872e6-39b2-4ffc-8511-59bc700db122",
   "metadata": {},
   "outputs": [
    {
     "data": {
      "text/plain": [
       "[(1, -3), (2, 0), (-5, 1)]"
      ]
     },
     "execution_count": 15,
     "metadata": {},
     "output_type": "execute_result"
    }
   ],
   "source": [
    "XY2"
   ]
  },
  {
   "cell_type": "code",
   "execution_count": 17,
   "id": "9b122a0a-35d1-43e6-acef-4f91f18cfbca",
   "metadata": {},
   "outputs": [
    {
     "data": {
      "text/plain": [
       "[[-1, 2], [1, 1], [-2, -3]]"
      ]
     },
     "execution_count": 17,
     "metadata": {},
     "output_type": "execute_result"
    }
   ],
   "source": [
    "XY"
   ]
  },
  {
   "cell_type": "code",
   "execution_count": 20,
   "id": "253d2d88-b957-4469-98fa-c2c8d09fd577",
   "metadata": {},
   "outputs": [
    {
     "data": {
      "text/plain": [
       "125000000"
      ]
     },
     "execution_count": 20,
     "metadata": {},
     "output_type": "execute_result"
    }
   ],
   "source": [
    "500**3"
   ]
  },
  {
   "cell_type": "code",
   "execution_count": null,
   "id": "302bf85d-610e-41ba-8011-6d71db977054",
   "metadata": {},
   "outputs": [],
   "source": []
  }
 ],
 "metadata": {
  "kernelspec": {
   "display_name": "Python 3",
   "language": "python",
   "name": "python3"
  },
  "language_info": {
   "codemirror_mode": {
    "name": "ipython",
    "version": 3
   },
   "file_extension": ".py",
   "mimetype": "text/x-python",
   "name": "python",
   "nbconvert_exporter": "python",
   "pygments_lexer": "ipython3",
   "version": "3.6.13"
  }
 },
 "nbformat": 4,
 "nbformat_minor": 5
}
