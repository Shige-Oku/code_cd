{
 "cells": [
  {
   "cell_type": "code",
   "execution_count": 1,
   "id": "5776a788-4ebe-4511-bb01-bd85ff80b625",
   "metadata": {},
   "outputs": [],
   "source": [
    "import sys\n",
    "import numpy as np\n",
    "import math\n",
    "import collections\n",
    "import copy\n",
    "import decimal\n",
    "import itertools\n",
    "import re\n",
    "import bisect\n",
    "import scipy\n",
    "import heapq\n",
    "from collections import deque \n",
    "from functools import reduce\n",
    "from itertools import product\n",
    "from itertools import combinations\n",
    "from itertools import chain\n",
    "from functools import lru_cache\n",
    "from scipy.special import comb\n",
    "from numba import njit\n",
    "from bisect import bisect_right\n",
    "from bisect import bisect_left"
   ]
  },
  {
   "cell_type": "code",
   "execution_count": 46,
   "id": "fbdc6a73-a5d4-40c1-8605-1faecc3c2115",
   "metadata": {},
   "outputs": [
    {
     "name": "stdin",
     "output_type": "stream",
     "text": [
      " 4\n"
     ]
    }
   ],
   "source": [
    "N = int(input())"
   ]
  },
  {
   "cell_type": "code",
   "execution_count": 47,
   "id": "53aee931-7250-4e8a-bbc7-14f93a5941ce",
   "metadata": {},
   "outputs": [
    {
     "name": "stdin",
     "output_type": "stream",
     "text": [
      " 1 9 1 9\n"
     ]
    }
   ],
   "source": [
    "An = list(map(int, input().split()))"
   ]
  },
  {
   "cell_type": "code",
   "execution_count": 48,
   "id": "2aa6348c-e649-45b0-93d2-43012fc48a56",
   "metadata": {},
   "outputs": [],
   "source": [
    "An_10 = [x * 10 for x in An]\n",
    "for i in range(N):\n",
    "    An_10.append(An_10[i])\n",
    "total = sum(An)"
   ]
  },
  {
   "cell_type": "code",
   "execution_count": 49,
   "id": "8ec24c3e-752c-49a8-9fb9-a46f05f0011a",
   "metadata": {},
   "outputs": [],
   "source": [
    "ans = False\n",
    "i, j = 0, 0\n",
    "s = 0\n",
    "while i < 2 * N:\n",
    "    while j < 2 * N:\n",
    "        if j - i > N - 1:\n",
    "            break\n",
    "        if s > total:\n",
    "            break\n",
    "        s += An_10[j]\n",
    "        if s == total:\n",
    "            ans = True\n",
    "        j += 1\n",
    "    s -= An_10[i]\n",
    "    i += 1\n",
    "    if i >= j:\n",
    "        j = i\n",
    "        s = 0\n",
    "        "
   ]
  },
  {
   "cell_type": "code",
   "execution_count": 50,
   "id": "9a9cc975-2c74-46d4-a59c-631e7e9c34db",
   "metadata": {},
   "outputs": [
    {
     "name": "stdout",
     "output_type": "stream",
     "text": [
      "No\n"
     ]
    }
   ],
   "source": [
    "if ans:\n",
    "    print('Yes')\n",
    "else:\n",
    "    print('No')"
   ]
  },
  {
   "cell_type": "code",
   "execution_count": 29,
   "id": "6be2142e-7e91-4875-b972-11f8e21e9658",
   "metadata": {},
   "outputs": [
    {
     "data": {
      "text/plain": [
       "(6, [10, 180, 10, 10, 180, 10])"
      ]
     },
     "execution_count": 29,
     "metadata": {},
     "output_type": "execute_result"
    }
   ],
   "source": [
    "len(An_10), An_10"
   ]
  },
  {
   "cell_type": "code",
   "execution_count": 28,
   "id": "63f4b44e-d78c-4f5b-8393-1492513cbc86",
   "metadata": {},
   "outputs": [
    {
     "data": {
      "text/plain": [
       "20"
      ]
     },
     "execution_count": 28,
     "metadata": {},
     "output_type": "execute_result"
    }
   ],
   "source": [
    "total"
   ]
  },
  {
   "cell_type": "code",
   "execution_count": null,
   "id": "2e548350-c807-48a2-92b3-11f84bf05918",
   "metadata": {},
   "outputs": [],
   "source": []
  }
 ],
 "metadata": {
  "kernelspec": {
   "display_name": "Python 3",
   "language": "python",
   "name": "python3"
  },
  "language_info": {
   "codemirror_mode": {
    "name": "ipython",
    "version": 3
   },
   "file_extension": ".py",
   "mimetype": "text/x-python",
   "name": "python",
   "nbconvert_exporter": "python",
   "pygments_lexer": "ipython3",
   "version": "3.6.13"
  }
 },
 "nbformat": 4,
 "nbformat_minor": 5
}
