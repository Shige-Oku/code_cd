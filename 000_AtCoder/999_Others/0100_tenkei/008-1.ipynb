{
 "cells": [
  {
   "cell_type": "code",
   "execution_count": 1,
   "id": "8124a6aa-5a74-4bfc-b5ec-c2b240d8723b",
   "metadata": {},
   "outputs": [],
   "source": [
    "import sys\n",
    "import numpy as np\n",
    "import math\n",
    "import collections\n",
    "import copy\n",
    "import decimal\n",
    "import itertools\n",
    "import re\n",
    "import bisect\n",
    "import scipy\n",
    "import heapq\n",
    "from collections import deque \n",
    "from functools import reduce\n",
    "from itertools import product\n",
    "from itertools import combinations\n",
    "from itertools import chain\n",
    "from functools import lru_cache\n",
    "from scipy.special import comb\n",
    "from numba import njit\n",
    "from bisect import bisect_right\n",
    "from bisect import bisect_left"
   ]
  },
  {
   "cell_type": "code",
   "execution_count": 15,
   "id": "b47becc3-c852-40ad-b1eb-4c542d27275a",
   "metadata": {},
   "outputs": [
    {
     "name": "stdin",
     "output_type": "stream",
     "text": [
      " 140\n"
     ]
    }
   ],
   "source": [
    "N = int(input())"
   ]
  },
  {
   "cell_type": "code",
   "execution_count": 16,
   "id": "bcec47f9-366b-4408-a9b1-fc8c2af06e18",
   "metadata": {},
   "outputs": [
    {
     "name": "stdin",
     "output_type": "stream",
     "text": [
      " aaaaaaaaaaaaaaaaaaaattttttttttttttttttttccccccccccccccccccccooooooooooooooooooooddddddddddddddddddddeeeeeeeeeeeeeeeeeeeerrrrrrrrrrrrrrrrrrrr\n"
     ]
    }
   ],
   "source": [
    "S = input()"
   ]
  },
  {
   "cell_type": "code",
   "execution_count": 17,
   "id": "e9716cf3-1f44-4289-bab7-5c1f7a3a0ed6",
   "metadata": {},
   "outputs": [],
   "source": [
    "dp = [[0] * 7 for _ in range(N+1)]\n",
    "for i, s in enumerate(S):\n",
    "    for j in range(7):\n",
    "        dp[i][j] = dp[i-1][j]\n",
    "    if s == 'a':\n",
    "        dp[i][0] += 1\n",
    "        dp[i][0] %= 10**9 + 7\n",
    "    elif s == 't':\n",
    "        dp[i][1] += dp[i-1][0]\n",
    "        dp[i][1] %= 10**9 + 7\n",
    "    elif s == 'c':\n",
    "        dp[i][2] += dp[i-1][1]\n",
    "        dp[i][2] %= 10**9 + 7\n",
    "    elif s == 'o':\n",
    "        dp[i][3] += dp[i-1][2]\n",
    "        dp[i][3] %= 10**9 + 7\n",
    "    elif s == 'd':\n",
    "        dp[i][4] += dp[i-1][3]\n",
    "        dp[i][4] %= 10**9 + 7\n",
    "    elif s == 'e':\n",
    "        dp[i][5] += dp[i-1][4]\n",
    "        dp[i][5] %= 10**9 + 7\n",
    "    elif s == 'r':\n",
    "        dp[i][6] += dp[i-1][5]\n",
    "        dp[i][6] %= 10**9 + 7\n",
    "        "
   ]
  },
  {
   "cell_type": "code",
   "execution_count": 18,
   "id": "24f4bd2e-feb6-4907-81f0-b2312d2e325f",
   "metadata": {},
   "outputs": [
    {
     "name": "stdout",
     "output_type": "stream",
     "text": [
      "279999993\n"
     ]
    }
   ],
   "source": [
    "print(dp[N-1][-1])"
   ]
  },
  {
   "cell_type": "code",
   "execution_count": 5,
   "id": "7a5c848c-8ca0-425d-a659-0afc6abe5c93",
   "metadata": {},
   "outputs": [
    {
     "data": {
      "text/plain": [
       "[[1, 0, 0, 0, 0, 0, 0],\n",
       " [1, 1, 0, 0, 0, 0, 0],\n",
       " [1, 2, 0, 0, 0, 0, 0],\n",
       " [1, 2, 2, 0, 0, 0, 0],\n",
       " [1, 2, 2, 2, 0, 0, 0],\n",
       " [1, 2, 2, 2, 0, 0, 0],\n",
       " [1, 2, 2, 2, 2, 0, 0],\n",
       " [1, 2, 2, 2, 2, 2, 0],\n",
       " [1, 2, 2, 2, 2, 4, 0],\n",
       " [1, 2, 2, 2, 2, 4, 4],\n",
       " [0, 0, 0, 0, 0, 0, 0]]"
      ]
     },
     "execution_count": 5,
     "metadata": {},
     "output_type": "execute_result"
    }
   ],
   "source": [
    "dp"
   ]
  },
  {
   "cell_type": "code",
   "execution_count": null,
   "id": "c78f894e-879c-4b21-902c-9669caa016be",
   "metadata": {},
   "outputs": [],
   "source": []
  }
 ],
 "metadata": {
  "kernelspec": {
   "display_name": "Python 3",
   "language": "python",
   "name": "python3"
  },
  "language_info": {
   "codemirror_mode": {
    "name": "ipython",
    "version": 3
   },
   "file_extension": ".py",
   "mimetype": "text/x-python",
   "name": "python",
   "nbconvert_exporter": "python",
   "pygments_lexer": "ipython3",
   "version": "3.6.13"
  }
 },
 "nbformat": 4,
 "nbformat_minor": 5
}
