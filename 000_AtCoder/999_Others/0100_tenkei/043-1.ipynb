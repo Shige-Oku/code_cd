{
 "cells": [
  {
   "cell_type": "code",
   "execution_count": null,
   "id": "60148c62-ed6d-4f65-8a44-96d2af7425af",
   "metadata": {},
   "outputs": [],
   "source": [
    "# WA, TLE"
   ]
  },
  {
   "cell_type": "code",
   "execution_count": 1,
   "id": "e052d84b-889f-4953-bef9-27c4889e22b4",
   "metadata": {},
   "outputs": [],
   "source": [
    "import sys\n",
    "import numpy as np\n",
    "import math\n",
    "import collections\n",
    "import copy\n",
    "import decimal\n",
    "import itertools\n",
    "import re\n",
    "import bisect\n",
    "import scipy\n",
    "import heapq\n",
    "from collections import deque \n",
    "from functools import reduce\n",
    "from itertools import product\n",
    "from itertools import combinations\n",
    "from itertools import chain\n",
    "from functools import lru_cache\n",
    "from scipy.special import comb\n",
    "from numba import njit\n",
    "from bisect import bisect_right\n",
    "from bisect import bisect_left"
   ]
  },
  {
   "cell_type": "code",
   "execution_count": 2,
   "id": "f3533b98-fb8d-461f-babd-696924db3981",
   "metadata": {},
   "outputs": [
    {
     "name": "stdin",
     "output_type": "stream",
     "text": [
      " 3 3\n"
     ]
    }
   ],
   "source": [
    "H, W = map(int, input().split())"
   ]
  },
  {
   "cell_type": "code",
   "execution_count": 3,
   "id": "df888ccb-9bca-4f46-ad5a-7ae23c78eb91",
   "metadata": {},
   "outputs": [
    {
     "name": "stdin",
     "output_type": "stream",
     "text": [
      " 1 1\n"
     ]
    }
   ],
   "source": [
    "Rs, Cs = map(int, input().split())"
   ]
  },
  {
   "cell_type": "code",
   "execution_count": 4,
   "id": "ff5e0882-a42e-490c-8764-887fe618d0ba",
   "metadata": {},
   "outputs": [
    {
     "name": "stdin",
     "output_type": "stream",
     "text": [
      " 3 3\n"
     ]
    }
   ],
   "source": [
    "Rt, Ct = map(int, input().split())"
   ]
  },
  {
   "cell_type": "code",
   "execution_count": 5,
   "id": "a596a30e-d39a-466a-88d4-ccdd01702558",
   "metadata": {},
   "outputs": [
    {
     "name": "stdin",
     "output_type": "stream",
     "text": [
      " ..#\n",
      " #.#\n",
      " #..\n"
     ]
    }
   ],
   "source": [
    "Sn = ['#' + input() + '#' for _ in range(H)]"
   ]
  },
  {
   "cell_type": "code",
   "execution_count": 6,
   "id": "a92e0cf2-df88-4b18-9821-61d27784b43d",
   "metadata": {},
   "outputs": [],
   "source": [
    "Sn.insert(0, '#' * (W+2))\n",
    "Sn.append('#' * (W+2))"
   ]
  },
  {
   "cell_type": "code",
   "execution_count": 75,
   "id": "2d49f189-9382-46cb-989a-6accff98ac29",
   "metadata": {},
   "outputs": [],
   "source": [
    "def solve(s, g):\n",
    "    q = []\n",
    "    heapq.heappush(q, (0, s, g, -1))\n",
    "    cost[s][g] = 0\n",
    "    while q:\n",
    "        c1, r1, t1, d1 = heapq.heappop(q)\n",
    "#         print('1 = {0}:{1}:{2}:{3}'.format(c1, r1, t1, d1))\n",
    "        if visit[r1][t1]:\n",
    "            continue\n",
    "        visit[r1][t1] = True\n",
    "        for r2, t2, d2 in ((0, -1, 0), (0, 1, 1), (-1, 0, 2), (1, 0, 3)):\n",
    "#             print('2 = {0}:{1}:{2}'.format(r1+r2, t1+t2, d2))\n",
    "            if Sn[r1+r2][t1+t2] == '#':\n",
    "                continue\n",
    "            if d1 == -1 or d1 == d2:\n",
    "                p = 0\n",
    "            else:\n",
    "                p = 1\n",
    "#             print('3 = {0}:{1}:{2}:{3}'.format(cost[r1+r2][t1+t2], cost[r1][t1], c1, p))\n",
    "#             print(cost[r1+r2][t1+t2], cost[r1][t1], c1, p)\n",
    "            if cost[r1+r2][t1+t2] == -1 or cost[r1][t1] + p < cost[r1+r2][t1+t2] :\n",
    "                heapq.heappush(q, (cost[r1][t1] + p, r1+r2, t1+t2, d2))\n",
    "                cost[r1+r2][t1+t2] = cost[r1][t1] + p\n",
    "#             print('4 {0}:{1}:{2}'.format(r1+r2, t1+t2, cost[r1+r2][t1+t2]))\n",
    "        "
   ]
  },
  {
   "cell_type": "code",
   "execution_count": 76,
   "id": "ee4c205b-19cc-44c3-9faf-c8f1a73896b7",
   "metadata": {},
   "outputs": [],
   "source": [
    "cost = [[-1] * (W+2) for _ in range(H+2)]\n",
    "visit = [[False] * (W+2) for _ in range(H+2)]\n",
    "solve(Rs, Cs)"
   ]
  },
  {
   "cell_type": "code",
   "execution_count": 74,
   "id": "9694e69a-dcf4-4001-87e2-6a8574e890ea",
   "metadata": {},
   "outputs": [
    {
     "name": "stdout",
     "output_type": "stream",
     "text": [
      "2\n"
     ]
    }
   ],
   "source": [
    "print(cost[Rt][Ct])"
   ]
  },
  {
   "cell_type": "code",
   "execution_count": 62,
   "id": "8b80d73b-5aee-4bbe-bf44-62ecbe1bfe3d",
   "metadata": {},
   "outputs": [
    {
     "data": {
      "text/plain": [
       "['#####', '#..##', '##.##', '##..#', '#####']"
      ]
     },
     "execution_count": 62,
     "metadata": {},
     "output_type": "execute_result"
    }
   ],
   "source": [
    "Sn"
   ]
  },
  {
   "cell_type": "code",
   "execution_count": 63,
   "id": "dfc29834-18fd-4be8-a6a0-7319551ecc37",
   "metadata": {},
   "outputs": [
    {
     "data": {
      "text/plain": [
       "[[-1, -1, -1, -1, -1],\n",
       " [-1, 0, 0, -1, -1],\n",
       " [-1, -1, 1, -1, -1],\n",
       " [-1, -1, 1, 2, -1],\n",
       " [-1, -1, -1, -1, -1]]"
      ]
     },
     "execution_count": 63,
     "metadata": {},
     "output_type": "execute_result"
    }
   ],
   "source": [
    "cost"
   ]
  },
  {
   "cell_type": "code",
   "execution_count": 34,
   "id": "9b17273b-8fd2-4b63-8c71-8d2930581291",
   "metadata": {},
   "outputs": [
    {
     "data": {
      "text/plain": [
       "[-1, 0, 1, -1, -1]"
      ]
     },
     "execution_count": 34,
     "metadata": {},
     "output_type": "execute_result"
    }
   ],
   "source": [
    "max(cost)"
   ]
  },
  {
   "cell_type": "code",
   "execution_count": 14,
   "id": "e99601f0-f427-42b4-8865-e7f865c09b98",
   "metadata": {},
   "outputs": [
    {
     "data": {
      "text/plain": [
       "5"
      ]
     },
     "execution_count": 14,
     "metadata": {},
     "output_type": "execute_result"
    }
   ],
   "source": [
    "max(itertools.chain.from_iterable(cost))"
   ]
  },
  {
   "cell_type": "code",
   "execution_count": 51,
   "id": "0304c7f5-fe57-4ddf-9223-b5b96aa38085",
   "metadata": {},
   "outputs": [
    {
     "data": {
      "text/plain": [
       "1"
      ]
     },
     "execution_count": 51,
     "metadata": {},
     "output_type": "execute_result"
    }
   ],
   "source": [
    "cost[2][2]"
   ]
  },
  {
   "cell_type": "code",
   "execution_count": null,
   "id": "eb75e902-97cf-46b1-8530-0e0c0e71f56a",
   "metadata": {},
   "outputs": [],
   "source": []
  }
 ],
 "metadata": {
  "kernelspec": {
   "display_name": "Python 3",
   "language": "python",
   "name": "python3"
  },
  "language_info": {
   "codemirror_mode": {
    "name": "ipython",
    "version": 3
   },
   "file_extension": ".py",
   "mimetype": "text/x-python",
   "name": "python",
   "nbconvert_exporter": "python",
   "pygments_lexer": "ipython3",
   "version": "3.6.13"
  }
 },
 "nbformat": 4,
 "nbformat_minor": 5
}
