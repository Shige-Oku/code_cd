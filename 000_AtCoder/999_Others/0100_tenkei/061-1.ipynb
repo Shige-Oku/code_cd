{
 "cells": [
  {
   "cell_type": "code",
   "execution_count": 4,
   "id": "7754b149-6cc0-4255-abd4-d463505bc962",
   "metadata": {},
   "outputs": [],
   "source": [
    "import sys\n",
    "import numpy as np\n",
    "import math\n",
    "import collections\n",
    "import copy\n",
    "import decimal\n",
    "import itertools\n",
    "import re\n",
    "import bisect\n",
    "import scipy\n",
    "import heapq\n",
    "from collections import deque \n",
    "from functools import reduce\n",
    "from itertools import product\n",
    "from itertools import combinations\n",
    "from itertools import chain\n",
    "from functools import lru_cache\n",
    "from scipy.special import comb\n",
    "from numba import njit\n",
    "from bisect import bisect_right\n",
    "from bisect import bisect_left"
   ]
  },
  {
   "cell_type": "code",
   "execution_count": 1,
   "id": "139da23e-4e0a-49f6-9bb7-d0fa4612f7ed",
   "metadata": {},
   "outputs": [
    {
     "name": "stdin",
     "output_type": "stream",
     "text": [
      " 6\n"
     ]
    }
   ],
   "source": [
    "Q = int(input())"
   ]
  },
  {
   "cell_type": "code",
   "execution_count": 8,
   "id": "1c40558e-5e1f-42b3-9991-2e72054c2d8a",
   "metadata": {},
   "outputs": [
    {
     "name": "stdin",
     "output_type": "stream",
     "text": [
      " 1 1000000000\n",
      " 2 200000000\n",
      " 1 30000000\n",
      " 2 4000000\n",
      " 1 500000\n",
      " 3 3 \n"
     ]
    }
   ],
   "source": [
    "TX = [list(map(int, input().split())) for _ in range(Q)]"
   ]
  },
  {
   "cell_type": "code",
   "execution_count": 9,
   "id": "7f3caacc-3459-4927-b5be-ce828cd1cf2d",
   "metadata": {},
   "outputs": [
    {
     "name": "stdout",
     "output_type": "stream",
     "text": [
      "1000000000\n"
     ]
    }
   ],
   "source": [
    "q = deque()\n",
    "for t, x in TX:\n",
    "    if t == 1:\n",
    "        q.insert(0, x)\n",
    "    elif t == 2:\n",
    "        q.append(x)\n",
    "    else:\n",
    "        print(q[x-1])"
   ]
  },
  {
   "cell_type": "code",
   "execution_count": 10,
   "id": "6d384151-25ae-4e88-8c7f-207311a01396",
   "metadata": {},
   "outputs": [
    {
     "data": {
      "text/plain": [
       "deque([500000, 30000000, 1000000000, 200000000, 4000000])"
      ]
     },
     "execution_count": 10,
     "metadata": {},
     "output_type": "execute_result"
    }
   ],
   "source": [
    "q"
   ]
  },
  {
   "cell_type": "code",
   "execution_count": null,
   "id": "21f8c7bb-f45e-456e-84a3-74ef3fa6244d",
   "metadata": {},
   "outputs": [],
   "source": []
  }
 ],
 "metadata": {
  "kernelspec": {
   "display_name": "Python 3",
   "language": "python",
   "name": "python3"
  },
  "language_info": {
   "codemirror_mode": {
    "name": "ipython",
    "version": 3
   },
   "file_extension": ".py",
   "mimetype": "text/x-python",
   "name": "python",
   "nbconvert_exporter": "python",
   "pygments_lexer": "ipython3",
   "version": "3.6.13"
  }
 },
 "nbformat": 4,
 "nbformat_minor": 5
}
