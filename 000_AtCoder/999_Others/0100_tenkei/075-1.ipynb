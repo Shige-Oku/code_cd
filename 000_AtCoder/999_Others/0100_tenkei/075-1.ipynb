{
 "cells": [
  {
   "cell_type": "code",
   "execution_count": 1,
   "id": "9b7932d9-0b9c-416e-bf20-cf5f149480c8",
   "metadata": {},
   "outputs": [],
   "source": [
    "import sys\n",
    "import numpy as np\n",
    "import math\n",
    "import collections\n",
    "import copy\n",
    "import decimal\n",
    "import itertools\n",
    "import re\n",
    "import bisect\n",
    "import scipy\n",
    "import heapq\n",
    "from collections import deque \n",
    "from functools import reduce\n",
    "from itertools import product\n",
    "from itertools import combinations\n",
    "from itertools import chain\n",
    "from functools import lru_cache\n",
    "from scipy.special import comb\n",
    "from numba import njit\n",
    "from bisect import bisect_right\n",
    "from bisect import bisect_left"
   ]
  },
  {
   "cell_type": "code",
   "execution_count": 2,
   "id": "24f1d250-1de0-44ca-b758-6eff7e9a6a8f",
   "metadata": {},
   "outputs": [
    {
     "name": "stdin",
     "output_type": "stream",
     "text": [
      " 54\n"
     ]
    }
   ],
   "source": [
    "N = int(input())"
   ]
  },
  {
   "cell_type": "code",
   "execution_count": 3,
   "id": "e4adb0b2-e9ee-41ee-a74b-44273d7ff22f",
   "metadata": {},
   "outputs": [],
   "source": [
    "# 素数のリスト作成\n",
    "def get_primes(number):\n",
    "    is_prime = [True] * (number+1)\n",
    "    is_prime[:1]  = False, False\n",
    "    sqrt_num = math.ceil(math.sqrt(number))\n",
    "    for i in range(2, sqrt_num):\n",
    "        if (is_prime[i]):\n",
    "            for j in range(i*2, number+1, i):\n",
    "                is_prime[j] = False\n",
    "    primes = []\n",
    "    for i in range(number+1):\n",
    "        if is_prime[i]:\n",
    "            primes.append(i)\n",
    "    return primes"
   ]
  },
  {
   "cell_type": "code",
   "execution_count": 4,
   "id": "d8085b33-80a9-4c43-bab3-6ddb98e2d589",
   "metadata": {},
   "outputs": [],
   "source": [
    "primes = get_primes(math.ceil(np.sqrt(N)))"
   ]
  },
  {
   "cell_type": "code",
   "execution_count": 13,
   "id": "00cf6a48-4265-4da6-9984-590c58cb16df",
   "metadata": {},
   "outputs": [
    {
     "name": "stdout",
     "output_type": "stream",
     "text": [
      "2 27 1\n",
      "3 1 4\n",
      "5 1 4\n",
      "7 1 4\n"
     ]
    }
   ],
   "source": [
    "ans = 0\n",
    "num = N\n",
    "for prime in primes:\n",
    "    while num % prime == 0:\n",
    "        ans += 1\n",
    "        num //= prime\n",
    "    print(prime, num, ans)\n"
   ]
  },
  {
   "cell_type": "code",
   "execution_count": 14,
   "id": "432a8323-2d43-4057-b40c-b06ae93369c9",
   "metadata": {},
   "outputs": [
    {
     "name": "stdout",
     "output_type": "stream",
     "text": [
      "2\n"
     ]
    }
   ],
   "source": [
    "if ans == 0:\n",
    "    print('0')\n",
    "else:\n",
    "    if num > 1:\n",
    "        ans += 1\n",
    "    print(math.ceil(np.log2(ans)))"
   ]
  },
  {
   "cell_type": "code",
   "execution_count": 15,
   "id": "f487ff12-41d2-4c31-8e96-b0260683981c",
   "metadata": {},
   "outputs": [
    {
     "name": "stdout",
     "output_type": "stream",
     "text": [
      "4\n"
     ]
    }
   ],
   "source": [
    "print(ans)"
   ]
  },
  {
   "cell_type": "code",
   "execution_count": 31,
   "id": "d0847c96-a04c-4e66-b50a-d7a9e453e052",
   "metadata": {},
   "outputs": [
    {
     "data": {
      "text/plain": [
       "[2, 3, 5, 7]"
      ]
     },
     "execution_count": 31,
     "metadata": {},
     "output_type": "execute_result"
    }
   ],
   "source": [
    "primes"
   ]
  },
  {
   "cell_type": "code",
   "execution_count": 11,
   "id": "2c5f8883-7505-43df-a4d0-f8be7a50b463",
   "metadata": {},
   "outputs": [
    {
     "data": {
      "text/plain": [
       "3"
      ]
     },
     "execution_count": 11,
     "metadata": {},
     "output_type": "execute_result"
    }
   ],
   "source": [
    "ans"
   ]
  },
  {
   "cell_type": "code",
   "execution_count": 35,
   "id": "4a24273b-6388-4246-9cce-594db4589b3f",
   "metadata": {},
   "outputs": [
    {
     "data": {
      "text/plain": [
       "53"
      ]
     },
     "execution_count": 35,
     "metadata": {},
     "output_type": "execute_result"
    }
   ],
   "source": [
    "N"
   ]
  },
  {
   "cell_type": "code",
   "execution_count": 62,
   "id": "fe9c8b8c-f789-47dd-96f2-acf348f9ac48",
   "metadata": {},
   "outputs": [
    {
     "data": {
      "text/plain": [
       "2.321928094887362"
      ]
     },
     "execution_count": 62,
     "metadata": {},
     "output_type": "execute_result"
    }
   ],
   "source": [
    "np.log2(5)"
   ]
  },
  {
   "cell_type": "code",
   "execution_count": 16,
   "id": "1d596c6a-025f-4a50-b33b-8bcd2cc8f1ad",
   "metadata": {},
   "outputs": [
    {
     "name": "stderr",
     "output_type": "stream",
     "text": [
      "C:\\Users\\owner\\Anaconda3\\lib\\site-packages\\ipykernel_launcher.py:1: RuntimeWarning: divide by zero encountered in log2\n",
      "  \"\"\"Entry point for launching an IPython kernel.\n"
     ]
    },
    {
     "data": {
      "text/plain": [
       "-inf"
      ]
     },
     "execution_count": 16,
     "metadata": {},
     "output_type": "execute_result"
    }
   ],
   "source": [
    "np.log2(0)"
   ]
  },
  {
   "cell_type": "code",
   "execution_count": null,
   "id": "5e86b14b-1b8a-4af4-8f50-ea835e170b5f",
   "metadata": {},
   "outputs": [],
   "source": []
  }
 ],
 "metadata": {
  "kernelspec": {
   "display_name": "Python 3",
   "language": "python",
   "name": "python3"
  },
  "language_info": {
   "codemirror_mode": {
    "name": "ipython",
    "version": 3
   },
   "file_extension": ".py",
   "mimetype": "text/x-python",
   "name": "python",
   "nbconvert_exporter": "python",
   "pygments_lexer": "ipython3",
   "version": "3.6.13"
  }
 },
 "nbformat": 4,
 "nbformat_minor": 5
}
