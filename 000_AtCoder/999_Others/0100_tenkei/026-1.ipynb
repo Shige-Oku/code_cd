{
 "cells": [
  {
   "cell_type": "code",
   "execution_count": null,
   "id": "f64cda9e-5306-4df8-9d6e-14fa1fddf5ad",
   "metadata": {},
   "outputs": [],
   "source": [
    "# 解説を読んで実装 RE"
   ]
  },
  {
   "cell_type": "code",
   "execution_count": 1,
   "id": "5b0eb01d-1152-432f-8b83-f34c55cb55c5",
   "metadata": {},
   "outputs": [],
   "source": [
    "import sys\n",
    "import numpy as np\n",
    "import math\n",
    "import collections\n",
    "import copy\n",
    "import decimal\n",
    "import itertools\n",
    "import re\n",
    "import bisect\n",
    "import scipy\n",
    "import heapq\n",
    "from collections import deque \n",
    "from functools import reduce\n",
    "from itertools import product\n",
    "from itertools import combinations\n",
    "from itertools import chain\n",
    "from functools import lru_cache\n",
    "from scipy.special import comb\n",
    "from numba import njit\n",
    "from bisect import bisect_right\n",
    "from bisect import bisect_left"
   ]
  },
  {
   "cell_type": "code",
   "execution_count": 12,
   "id": "c0e9436b-4736-4126-953a-d1dec8f31364",
   "metadata": {},
   "outputs": [
    {
     "name": "stdin",
     "output_type": "stream",
     "text": [
      " 6\n"
     ]
    }
   ],
   "source": [
    "N = int(input())"
   ]
  },
  {
   "cell_type": "code",
   "execution_count": 13,
   "id": "6a04c8f2-6802-480e-bc54-230da1b0317e",
   "metadata": {},
   "outputs": [
    {
     "name": "stdin",
     "output_type": "stream",
     "text": [
      " 1 3\n",
      " 2 4\n",
      " 3 5\n",
      " 2 5\n",
      " 3 6\n"
     ]
    }
   ],
   "source": [
    "AB = [list(map(int, input().split())) for _ in range(N-1)]"
   ]
  },
  {
   "cell_type": "code",
   "execution_count": 26,
   "id": "6ae82e09-ddf1-4a22-8b60-9c0db2b681ed",
   "metadata": {},
   "outputs": [],
   "source": [
    "graph = [[] for _ in range(N+1)]\n",
    "for A, B in AB:\n",
    "    graph[A].append(B)\n",
    "    graph[B].append(A)"
   ]
  },
  {
   "cell_type": "code",
   "execution_count": 30,
   "id": "26d36c0a-65eb-4b5f-857a-2581fef427ff",
   "metadata": {},
   "outputs": [],
   "source": [
    "def DFS(s, f=True):\n",
    "    visit[s] = True\n",
    "    colors[s] = f\n",
    "    for p in graph[s]:\n",
    "        if visit[p]:\n",
    "            continue\n",
    "        DFS(p, not f)"
   ]
  },
  {
   "cell_type": "code",
   "execution_count": 31,
   "id": "b09c5a7a-3911-404e-97a4-477631b04364",
   "metadata": {},
   "outputs": [
    {
     "name": "stdout",
     "output_type": "stream",
     "text": [
      "1 4 5\n"
     ]
    }
   ],
   "source": [
    "visit = [False] * (N+1)\n",
    "colors = [-1] * (N+1)\n",
    "DFS(1)\n",
    "if sum(colors[1:]) >= N // 2:\n",
    "    flg = True\n",
    "else:\n",
    "    flg = False\n",
    "ans = []\n",
    "for i in range(1, N+1):\n",
    "    if colors[i] == flg:\n",
    "        ans.append(i)\n",
    "print(*ans[:N//2])"
   ]
  },
  {
   "cell_type": "code",
   "execution_count": 29,
   "id": "658089ef-b34f-4976-bcf1-2b99d15aa60d",
   "metadata": {},
   "outputs": [
    {
     "data": {
      "text/plain": [
       "[[], [3], [4, 5], [1, 5, 6], [2], [3, 2], [3]]"
      ]
     },
     "execution_count": 29,
     "metadata": {},
     "output_type": "execute_result"
    }
   ],
   "source": [
    "graph"
   ]
  },
  {
   "cell_type": "code",
   "execution_count": 25,
   "id": "26fb1405-6fe2-4dc0-a268-0299e8fb6dd9",
   "metadata": {},
   "outputs": [
    {
     "data": {
      "text/plain": [
       "([False, True, False, True, False, True, True],\n",
       " [-1, True, -1, False, -1, True, True])"
      ]
     },
     "execution_count": 25,
     "metadata": {},
     "output_type": "execute_result"
    }
   ],
   "source": [
    "visit, colors"
   ]
  },
  {
   "cell_type": "code",
   "execution_count": 9,
   "id": "ac740f80-9620-4e6f-94c9-5043219822cb",
   "metadata": {},
   "outputs": [
    {
     "data": {
      "text/plain": [
       "3"
      ]
     },
     "execution_count": 9,
     "metadata": {},
     "output_type": "execute_result"
    }
   ],
   "source": [
    "sum(colors[1:])"
   ]
  },
  {
   "cell_type": "code",
   "execution_count": null,
   "id": "616b37c0-fdb3-495c-9278-196f1b6083b3",
   "metadata": {},
   "outputs": [],
   "source": []
  }
 ],
 "metadata": {
  "kernelspec": {
   "display_name": "Python 3",
   "language": "python",
   "name": "python3"
  },
  "language_info": {
   "codemirror_mode": {
    "name": "ipython",
    "version": 3
   },
   "file_extension": ".py",
   "mimetype": "text/x-python",
   "name": "python",
   "nbconvert_exporter": "python",
   "pygments_lexer": "ipython3",
   "version": "3.6.13"
  }
 },
 "nbformat": 4,
 "nbformat_minor": 5
}
