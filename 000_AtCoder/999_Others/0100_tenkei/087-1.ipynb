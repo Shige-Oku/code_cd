{
 "cells": [
  {
   "cell_type": "code",
   "execution_count": 1,
   "id": "d52a445c-4b49-4db0-a9e9-c6f114d7e6ba",
   "metadata": {},
   "outputs": [],
   "source": [
    "import sys\n",
    "import numpy as np\n",
    "import math\n",
    "import collections\n",
    "import copy\n",
    "import decimal\n",
    "import itertools\n",
    "import re\n",
    "import bisect\n",
    "import scipy\n",
    "import heapq\n",
    "from collections import deque \n",
    "from functools import reduce\n",
    "from itertools import product\n",
    "from itertools import combinations\n",
    "from itertools import chain\n",
    "from functools import lru_cache\n",
    "from scipy.special import comb\n",
    "from numba import njit\n",
    "from bisect import bisect_right\n",
    "from bisect import bisect_left"
   ]
  },
  {
   "cell_type": "code",
   "execution_count": 2,
   "id": "f29b9cd6-682c-4dd4-ab9d-c14719ad1e83",
   "metadata": {},
   "outputs": [
    {
     "name": "stdin",
     "output_type": "stream",
     "text": [
      " 3 4 2\n"
     ]
    }
   ],
   "source": [
    "N, P, K = map(int, input().split())"
   ]
  },
  {
   "cell_type": "code",
   "execution_count": 3,
   "id": "21951357-7956-4eee-a26b-2e6e41cf8977",
   "metadata": {},
   "outputs": [
    {
     "name": "stdin",
     "output_type": "stream",
     "text": [
      " 0 3 -1\n",
      " 3 0 5\n",
      " -1 5 0\n"
     ]
    }
   ],
   "source": [
    "An = [list(map(int, input().split())) for _ in range(N)]"
   ]
  },
  {
   "cell_type": "code",
   "execution_count": 6,
   "id": "9989539e-e88e-4690-bc54-69a37c774269",
   "metadata": {},
   "outputs": [],
   "source": [
    "cnt1 = 0\n",
    "cnt2 = 0\n",
    "for an in An:\n",
    "    for A in an:\n",
    "        if A == 0 or A > P:\n",
    "            continue\n",
    "        if A == -1:\n",
    "            cnt2 += 1\n",
    "        else:\n",
    "            cnt1 += 1"
   ]
  },
  {
   "cell_type": "code",
   "execution_count": 9,
   "id": "be0060fd-bc22-47fd-a361-666cf232df0b",
   "metadata": {},
   "outputs": [
    {
     "name": "stdout",
     "output_type": "stream",
     "text": [
      "3\n"
     ]
    }
   ],
   "source": [
    "if cnt1 // 2 == K:\n",
    "    print('Infinity')\n",
    "elif (cnt1 + cnt2) // 2 == K:\n",
    "    print(P-1)\n",
    "else:\n",
    "    print('0')"
   ]
  },
  {
   "cell_type": "code",
   "execution_count": 7,
   "id": "35e154e2-cfac-4df6-bdfd-1fe1d3e333ca",
   "metadata": {},
   "outputs": [
    {
     "data": {
      "text/plain": [
       "(2, 2)"
      ]
     },
     "execution_count": 7,
     "metadata": {},
     "output_type": "execute_result"
    }
   ],
   "source": [
    "cnt1, cnt2"
   ]
  },
  {
   "cell_type": "code",
   "execution_count": 10,
   "id": "b7df38fd-2a1a-4083-afc3-50e60fbf49c7",
   "metadata": {},
   "outputs": [
    {
     "data": {
      "text/plain": [
       "64000"
      ]
     },
     "execution_count": 10,
     "metadata": {},
     "output_type": "execute_result"
    }
   ],
   "source": [
    "40**3"
   ]
  },
  {
   "cell_type": "code",
   "execution_count": null,
   "id": "33fc60ce-033b-4812-b0cc-2817a5debf8e",
   "metadata": {},
   "outputs": [],
   "source": []
  }
 ],
 "metadata": {
  "kernelspec": {
   "display_name": "Python 3",
   "language": "python",
   "name": "python3"
  },
  "language_info": {
   "codemirror_mode": {
    "name": "ipython",
    "version": 3
   },
   "file_extension": ".py",
   "mimetype": "text/x-python",
   "name": "python",
   "nbconvert_exporter": "python",
   "pygments_lexer": "ipython3",
   "version": "3.6.13"
  }
 },
 "nbformat": 4,
 "nbformat_minor": 5
}
