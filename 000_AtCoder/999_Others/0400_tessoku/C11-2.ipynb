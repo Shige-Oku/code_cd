{
 "cells": [
  {
   "cell_type": "code",
   "execution_count": 45,
   "id": "11bb2348-607b-46f9-a821-7bdc04c2e29c",
   "metadata": {},
   "outputs": [
    {
     "name": "stdin",
     "output_type": "stream",
     "text": [
      " 2 1\n"
     ]
    }
   ],
   "source": [
    "N, K = map(int, input().split())"
   ]
  },
  {
   "cell_type": "code",
   "execution_count": 46,
   "id": "78c4573c-05d5-4f8e-ac6a-5bd3ebdf30f2",
   "metadata": {},
   "outputs": [
    {
     "name": "stdin",
     "output_type": "stream",
     "text": [
      " 900000000 100000000\n"
     ]
    }
   ],
   "source": [
    "An = list(map(int, input().split()))"
   ]
  },
  {
   "cell_type": "code",
   "execution_count": 47,
   "id": "3dc1f9fe-fac4-43da-96fb-a22a6e837d2f",
   "metadata": {},
   "outputs": [],
   "source": [
    "def myCheck(n):\n",
    "    cnt = 0\n",
    "    for A in An:\n",
    "        cnt += A // n\n",
    "    return cnt >= K"
   ]
  },
  {
   "cell_type": "code",
   "execution_count": 48,
   "id": "7a45b7e4-bd29-47cc-86a7-7cb937678556",
   "metadata": {},
   "outputs": [],
   "source": [
    "def myBisect():\n",
    "    l = 1\n",
    "    r = max(An) + 1\n",
    "    while r - l >= 10**(-6):\n",
    "        m = (l + r) / 2.0\n",
    "        if myCheck(m):\n",
    "            l = m\n",
    "        else:\n",
    "            r = m\n",
    "    return l"
   ]
  },
  {
   "cell_type": "code",
   "execution_count": 49,
   "id": "41cdae6c-168e-414a-9aaf-6f7c115b16f7",
   "metadata": {},
   "outputs": [
    {
     "name": "stdout",
     "output_type": "stream",
     "text": [
      "1 0 "
     ]
    }
   ],
   "source": [
    "boader = myBisect()\n",
    "for A in An:\n",
    "    print(int(A//boader), end=' ')"
   ]
  },
  {
   "cell_type": "code",
   "execution_count": 31,
   "id": "144080df-9f57-491e-a105-384d9200c846",
   "metadata": {},
   "outputs": [
    {
     "data": {
      "text/plain": [
       "179999.9999999525"
      ]
     },
     "execution_count": 31,
     "metadata": {},
     "output_type": "execute_result"
    }
   ],
   "source": [
    "boader"
   ]
  },
  {
   "cell_type": "code",
   "execution_count": null,
   "id": "13c22ab1-8dbe-466e-bc12-1221e0222b88",
   "metadata": {},
   "outputs": [],
   "source": []
  },
  {
   "cell_type": "code",
   "execution_count": null,
   "id": "e8614866-d7ea-42bf-8df0-689e5a9e5fbd",
   "metadata": {},
   "outputs": [],
   "source": []
  }
 ],
 "metadata": {
  "kernelspec": {
   "display_name": "Python 3",
   "language": "python",
   "name": "python3"
  },
  "language_info": {
   "codemirror_mode": {
    "name": "ipython",
    "version": 3
   },
   "file_extension": ".py",
   "mimetype": "text/x-python",
   "name": "python",
   "nbconvert_exporter": "python",
   "pygments_lexer": "ipython3",
   "version": "3.6.13"
  }
 },
 "nbformat": 4,
 "nbformat_minor": 5
}
