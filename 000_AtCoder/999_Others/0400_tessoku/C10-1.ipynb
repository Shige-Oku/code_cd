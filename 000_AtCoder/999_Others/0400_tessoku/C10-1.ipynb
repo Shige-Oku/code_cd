{
 "cells": [
  {
   "cell_type": "code",
   "execution_count": 5,
   "id": "06b955f7-91f5-4d69-899e-b7bc955a18fe",
   "metadata": {},
   "outputs": [
    {
     "name": "stdin",
     "output_type": "stream",
     "text": [
      " 100\n"
     ]
    }
   ],
   "source": [
    "W = int(input())"
   ]
  },
  {
   "cell_type": "code",
   "execution_count": 8,
   "id": "160f1e1b-6c1a-4fdc-a414-1860e1142149",
   "metadata": {},
   "outputs": [
    {
     "name": "stdout",
     "output_type": "stream",
     "text": [
      "908287499\n"
     ]
    }
   ],
   "source": [
    "MOD = 10**9+7\n",
    "print(12*pow(7, W-1, MOD)%MOD)"
   ]
  },
  {
   "cell_type": "code",
   "execution_count": null,
   "id": "8daf617b-ab92-4f0e-8d8f-fc56f58fa79a",
   "metadata": {},
   "outputs": [],
   "source": []
  }
 ],
 "metadata": {
  "kernelspec": {
   "display_name": "Python 3",
   "language": "python",
   "name": "python3"
  },
  "language_info": {
   "codemirror_mode": {
    "name": "ipython",
    "version": 3
   },
   "file_extension": ".py",
   "mimetype": "text/x-python",
   "name": "python",
   "nbconvert_exporter": "python",
   "pygments_lexer": "ipython3",
   "version": "3.6.13"
  }
 },
 "nbformat": 4,
 "nbformat_minor": 5
}
