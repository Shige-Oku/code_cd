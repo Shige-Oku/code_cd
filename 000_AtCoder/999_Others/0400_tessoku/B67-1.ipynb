{
 "cells": [
  {
   "cell_type": "code",
   "execution_count": 1,
   "id": "1e804061-bd39-4957-85f0-c182aa085b94",
   "metadata": {},
   "outputs": [
    {
     "name": "stdin",
     "output_type": "stream",
     "text": [
      " 7 9\n"
     ]
    }
   ],
   "source": [
    "N, M = map(int, input().split())"
   ]
  },
  {
   "cell_type": "code",
   "execution_count": 2,
   "id": "a38ec108-db7d-44fe-adcc-a465ee4f2500",
   "metadata": {},
   "outputs": [
    {
     "name": "stdin",
     "output_type": "stream",
     "text": [
      " 1 2 12\n",
      " 1 3 10\n",
      " 2 6 160\n",
      " 2 7 15\n",
      " 3 4 1\n",
      " 3 5 4\n",
      " 4 5 3\n",
      " 4 6 120\n",
      " 6 7 14\n"
     ]
    }
   ],
   "source": [
    "ABCm = [list(map(int, input().split())) for _ in range(M)]"
   ]
  },
  {
   "cell_type": "code",
   "execution_count": 7,
   "id": "e1d5083e-0d4c-44b3-9462-b055c1702a56",
   "metadata": {},
   "outputs": [],
   "source": [
    "graph = [[] for _ in range(N+1)]\n",
    "for u, v, c in ABCm:\n",
    "    graph[u].append((v, c))\n",
    "    graph[v].append((u, c))"
   ]
  },
  {
   "cell_type": "code",
   "execution_count": 8,
   "id": "c1a3fc96-868b-4c41-b8c4-0577edb3374a",
   "metadata": {},
   "outputs": [],
   "source": [
    "import heapq\n",
    "marked = [False] * (N+1)\n",
    "cnt = 0\n",
    "ans = 0\n",
    "q = []\n",
    "for v, c in graph[1]:\n",
    "    heapq.heappush(q, (-c, v))\n",
    "cnt = 1\n",
    "marked[1] = True\n",
    "while cnt < N:\n",
    "    c, u = heapq.heappop(q)\n",
    "    if marked[u]:\n",
    "        continue\n",
    "    marked[u] = True\n",
    "    cnt += 1\n",
    "    ans += -c\n",
    "    for v, nc in graph[u]:\n",
    "        if marked[v]:\n",
    "            continue\n",
    "        heapq.heappush(q, (-nc, v))"
   ]
  },
  {
   "cell_type": "code",
   "execution_count": 9,
   "id": "08896c6e-2c5c-452b-bbee-207df1830405",
   "metadata": {},
   "outputs": [
    {
     "name": "stdout",
     "output_type": "stream",
     "text": [
      "321\n"
     ]
    }
   ],
   "source": [
    "print(ans)"
   ]
  },
  {
   "cell_type": "code",
   "execution_count": null,
   "id": "f2ad440f-cf6f-4f94-8fa6-4877bececd30",
   "metadata": {},
   "outputs": [],
   "source": []
  },
  {
   "cell_type": "code",
   "execution_count": 11,
   "id": "8919e48c-8bbe-48dd-9c44-caf33fb639df",
   "metadata": {},
   "outputs": [],
   "source": [
    "from collections import defaultdict\n",
    "import sys\n",
    "sys.setrecursionlimit(10**7)\n",
    "class UnionFind():\n",
    "    # イニシャライザ\n",
    "    def __init__(self, n):\n",
    "        self.n = n  # 頂点の数\n",
    "        self.parents = [-1] * n  # 親の頂点。根は -1\n",
    "        self.size = [1] * n  # 各頂点の所属する木の頂点数\n",
    "        sys.setrecursionlimit(10**7)\n",
    "        \n",
    "    # 根を返す\n",
    "    def root(self, x):\n",
    "        if self.parents[x] < 0: # 根なのでそのまま返す\n",
    "            return x\n",
    "        else:\n",
    "            self.parents[x] = self.root(self.parents[x])  # 経路圧縮\n",
    "            return self.parents[x]\n",
    "        \n",
    "    # x, y が同じ木に属するか\n",
    "    def issame(self, x, y):\n",
    "        return self.root(x) == self.root(y)\n",
    "    \n",
    "    # x y を併合する    \n",
    "    def unite(self, x, y):\n",
    "        x = self.root(x)\n",
    "        y = self.root(y)\n",
    "        \n",
    "        # 元々同じ木に所属するので、何もせずリターン\n",
    "        if x == y:\n",
    "            return False\n",
    "        \n",
    "        # 大きいほうにまとめる。 y を x にまとめるようにスワップ\n",
    "        if self.parents[x] < self.parents[y]:\n",
    "            x, y = y, x\n",
    "        # 小さいほうの親を大きいほうを親に\n",
    "        self.parents[y] = x\n",
    "        # 大きいほうの頂点に小さいほうの数を加算\n",
    "        self.size[x] += self.size[y]\n",
    "        return True\n",
    "    \n",
    "    # x の所属する頂点数を返す\n",
    "    def getsize(self, x):\n",
    "        return self.size[self.root(x)]\n",
    "\n",
    "    # x の所属する頂点の一覧を返す\n",
    "    def getmembers(self, x):\n",
    "        root = self.root(x)\n",
    "        return [i for i in range(self.n) if self.root(i) == root]    "
   ]
  },
  {
   "cell_type": "code",
   "execution_count": 12,
   "id": "f27c3f4b-9044-4fcd-902a-4e39545d4f5e",
   "metadata": {},
   "outputs": [],
   "source": [
    "ABCm_s = sorted(ABCm, key=lambda x:-x[2])\n",
    "uf = UnionFind(N+1)\n",
    "ans = 0\n",
    "for u, v, c in ABCm_s:\n",
    "    if uf.issame(u, v):\n",
    "        continue\n",
    "    ans += c\n",
    "    uf.unite(u, v)"
   ]
  },
  {
   "cell_type": "code",
   "execution_count": 13,
   "id": "d1f6afb9-acf7-402d-b829-49b2aef52a03",
   "metadata": {},
   "outputs": [
    {
     "name": "stdout",
     "output_type": "stream",
     "text": [
      "321\n"
     ]
    }
   ],
   "source": [
    "print(ans)"
   ]
  },
  {
   "cell_type": "code",
   "execution_count": null,
   "id": "904b4ec4-6cf1-4d1a-8361-169b0955da0a",
   "metadata": {},
   "outputs": [],
   "source": []
  }
 ],
 "metadata": {
  "kernelspec": {
   "display_name": "Python 3",
   "language": "python",
   "name": "python3"
  },
  "language_info": {
   "codemirror_mode": {
    "name": "ipython",
    "version": 3
   },
   "file_extension": ".py",
   "mimetype": "text/x-python",
   "name": "python",
   "nbconvert_exporter": "python",
   "pygments_lexer": "ipython3",
   "version": "3.6.13"
  }
 },
 "nbformat": 4,
 "nbformat_minor": 5
}
