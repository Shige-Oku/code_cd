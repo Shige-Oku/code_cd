{
 "cells": [
  {
   "cell_type": "code",
   "execution_count": 1,
   "id": "de14b4e7-28d8-47f6-82b3-d7037cfbd23b",
   "metadata": {},
   "outputs": [
    {
     "name": "stdin",
     "output_type": "stream",
     "text": [
      " 2\n"
     ]
    }
   ],
   "source": [
    "N = int(input())"
   ]
  },
  {
   "cell_type": "code",
   "execution_count": 5,
   "id": "1847321e-2c4c-42c4-890d-94d5a9722106",
   "metadata": {},
   "outputs": [
    {
     "name": "stdin",
     "output_type": "stream",
     "text": [
      " 5 8\n"
     ]
    }
   ],
   "source": [
    "An = list(map(int, input().split()))"
   ]
  },
  {
   "cell_type": "code",
   "execution_count": 6,
   "id": "67e39d79-bbbd-43ff-b936-dff544928fba",
   "metadata": {},
   "outputs": [],
   "source": [
    "Ax = 0\n",
    "for A in An:\n",
    "    Ax ^= A"
   ]
  },
  {
   "cell_type": "code",
   "execution_count": 7,
   "id": "2728a8dd-b51f-4d42-a13a-60eb150a246b",
   "metadata": {},
   "outputs": [
    {
     "name": "stdout",
     "output_type": "stream",
     "text": [
      "First\n"
     ]
    }
   ],
   "source": [
    "print('First' if Ax != 0 else 'Second')"
   ]
  },
  {
   "cell_type": "code",
   "execution_count": null,
   "id": "b5c6b9e7-e5b3-4522-920c-2b0ccb1dc47d",
   "metadata": {},
   "outputs": [],
   "source": []
  }
 ],
 "metadata": {
  "kernelspec": {
   "display_name": "Python 3",
   "language": "python",
   "name": "python3"
  },
  "language_info": {
   "codemirror_mode": {
    "name": "ipython",
    "version": 3
   },
   "file_extension": ".py",
   "mimetype": "text/x-python",
   "name": "python",
   "nbconvert_exporter": "python",
   "pygments_lexer": "ipython3",
   "version": "3.6.13"
  }
 },
 "nbformat": 4,
 "nbformat_minor": 5
}
