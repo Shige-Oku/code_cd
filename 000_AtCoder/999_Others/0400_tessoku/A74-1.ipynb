{
 "cells": [
  {
   "cell_type": "code",
   "execution_count": 1,
   "id": "abea6722-73fc-44ca-94ac-5f3281ff1d32",
   "metadata": {},
   "outputs": [
    {
     "name": "stdin",
     "output_type": "stream",
     "text": [
      " 4\n"
     ]
    }
   ],
   "source": [
    "N = int(input())"
   ]
  },
  {
   "cell_type": "code",
   "execution_count": 3,
   "id": "c1f6c620-c091-4140-87e1-779cede569d9",
   "metadata": {},
   "outputs": [
    {
     "name": "stdin",
     "output_type": "stream",
     "text": [
      " 0 0 2 0\n",
      " 3 0 0 0\n",
      " 0 0 0 4\n",
      " 0 1 0 0\n"
     ]
    }
   ],
   "source": [
    "Pn = [list(map(int, input().split())) for _ in range(N)]"
   ]
  },
  {
   "cell_type": "code",
   "execution_count": 25,
   "id": "59f3e04d-62d6-4df8-8d3e-3b0bc2856db0",
   "metadata": {},
   "outputs": [],
   "source": [
    "hi = [0] * (N+1)\n",
    "wi = [0] * (N+1)\n",
    "for i in range(1, N+1):\n",
    "    for h in range(N):\n",
    "        for w in range(N):\n",
    "            if Pn[h][w] == i:\n",
    "                hi[i] = h\n",
    "                wi[i] = w\n"
   ]
  },
  {
   "cell_type": "code",
   "execution_count": 26,
   "id": "45936b8b-093a-464d-8a1b-31efd8e3f3ee",
   "metadata": {},
   "outputs": [],
   "source": [
    "th = []\n",
    "for i in range(1, N):\n",
    "    tentou = 0\n",
    "    for j in range(i+1, N+1):\n",
    "        if hi[i] > hi[j]:\n",
    "            tentou += 1\n",
    "    th.append(tentou)\n",
    "tw = []\n",
    "for i in range(1, N):\n",
    "    tentou = 0\n",
    "    for j in range(i+1, N+1):\n",
    "        if wi[i] > wi[j]:\n",
    "            tentou += 1\n",
    "    tw.append(tentou)\n"
   ]
  },
  {
   "cell_type": "code",
   "execution_count": 27,
   "id": "2f8de739-f20a-4563-8d2b-e8a4adceafa0",
   "metadata": {},
   "outputs": [
    {
     "name": "stdout",
     "output_type": "stream",
     "text": [
      "5\n"
     ]
    }
   ],
   "source": [
    "print(sum(th) + sum(tw))"
   ]
  },
  {
   "cell_type": "code",
   "execution_count": 22,
   "id": "b9ebf9b8-7180-4ddc-9dc4-44e4c4051ae0",
   "metadata": {},
   "outputs": [
    {
     "data": {
      "text/plain": [
       "([0, 3, 0, 1, 2], [0, 1, 2, 0, 3], [3, 0, 0], [1, 1, 0])"
      ]
     },
     "execution_count": 22,
     "metadata": {},
     "output_type": "execute_result"
    }
   ],
   "source": [
    "hi, wi, th, tw"
   ]
  },
  {
   "cell_type": "code",
   "execution_count": null,
   "id": "a179deba-1014-4525-a8de-6569c7ce88f5",
   "metadata": {},
   "outputs": [],
   "source": []
  }
 ],
 "metadata": {
  "kernelspec": {
   "display_name": "Python 3",
   "language": "python",
   "name": "python3"
  },
  "language_info": {
   "codemirror_mode": {
    "name": "ipython",
    "version": 3
   },
   "file_extension": ".py",
   "mimetype": "text/x-python",
   "name": "python",
   "nbconvert_exporter": "python",
   "pygments_lexer": "ipython3",
   "version": "3.6.13"
  }
 },
 "nbformat": 4,
 "nbformat_minor": 5
}
