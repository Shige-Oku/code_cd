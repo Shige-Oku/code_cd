{
 "cells": [
  {
   "cell_type": "code",
   "execution_count": 1,
   "id": "04b5a4cc-26ed-4b63-a2cb-2718dc7e39b5",
   "metadata": {},
   "outputs": [
    {
     "name": "stdin",
     "output_type": "stream",
     "text": [
      " 5 65 7 37\n"
     ]
    }
   ],
   "source": [
    "N, W, L, R = map(int, input().split())"
   ]
  },
  {
   "cell_type": "code",
   "execution_count": 2,
   "id": "6f756ce1-873c-4443-ba60-716a305f1b15",
   "metadata": {},
   "outputs": [
    {
     "name": "stdin",
     "output_type": "stream",
     "text": [
      " 5 15 30 50 55\n"
     ]
    }
   ],
   "source": [
    "Xn = list(map(int, input().split()))"
   ]
  },
  {
   "cell_type": "code",
   "execution_count": 21,
   "id": "017b4717-8203-4681-ba65-6b48c0e8915c",
   "metadata": {},
   "outputs": [
    {
     "name": "stdout",
     "output_type": "stream",
     "text": [
      "1 5 0 -1\n",
      "2 15 0 1\n",
      "3 30 0 2\n",
      "4 50 2 3\n",
      "5 55 3 3\n",
      "6 65 3 5\n"
     ]
    }
   ],
   "source": [
    "from bisect import bisect_left\n",
    "MOD = 10**9+7\n",
    "Xn2 = [0] + Xn + [W]\n",
    "dp = [0] * (N+2)\n",
    "dp[0] = 1\n",
    "dp_s = [1, ]\n",
    "for i, X in enumerate(Xn2[1:], 1):\n",
    "    li = bisect_left(Xn2, X-R)\n",
    "    ri = bisect_left(Xn2, X-L+1) - 1\n",
    "    if ri >= 0:\n",
    "        dp[i] += dp_s[ri]\n",
    "    if li >= 1:\n",
    "        dp[i] -= dp_s[li-1]\n",
    "    dp[i] %= MOD\n",
    "    dp_s.append((dp_s[-1] + dp[i]) % MOD)"
   ]
  },
  {
   "cell_type": "code",
   "execution_count": 22,
   "id": "998477b5-3d24-492c-9ee0-d65e9048d67e",
   "metadata": {},
   "outputs": [
    {
     "name": "stdout",
     "output_type": "stream",
     "text": [
      "7\n"
     ]
    }
   ],
   "source": [
    "print(dp[N+1])"
   ]
  },
  {
   "cell_type": "code",
   "execution_count": 20,
   "id": "086f3a68-35a1-4320-8901-0bdd52455ae8",
   "metadata": {},
   "outputs": [
    {
     "data": {
      "text/plain": [
       "([1, 0, 1000000006, 0, 1, 0, 1000000006], [1, 1, 0, 0, 1, 1, 0])"
      ]
     },
     "execution_count": 20,
     "metadata": {},
     "output_type": "execute_result"
    }
   ],
   "source": [
    "dp, dp_s"
   ]
  },
  {
   "cell_type": "code",
   "execution_count": null,
   "id": "323b168b-fbb1-4608-8d19-0aa13324ba53",
   "metadata": {},
   "outputs": [],
   "source": []
  }
 ],
 "metadata": {
  "kernelspec": {
   "display_name": "Python 3",
   "language": "python",
   "name": "python3"
  },
  "language_info": {
   "codemirror_mode": {
    "name": "ipython",
    "version": 3
   },
   "file_extension": ".py",
   "mimetype": "text/x-python",
   "name": "python",
   "nbconvert_exporter": "python",
   "pygments_lexer": "ipython3",
   "version": "3.6.13"
  }
 },
 "nbformat": 4,
 "nbformat_minor": 5
}
