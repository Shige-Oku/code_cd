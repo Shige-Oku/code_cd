{
 "cells": [
  {
   "cell_type": "code",
   "execution_count": 1,
   "id": "e3960059-c3e3-483d-a854-d52f861f7f79",
   "metadata": {},
   "outputs": [
    {
     "name": "stdin",
     "output_type": "stream",
     "text": [
      " 6 4 3\n"
     ]
    }
   ],
   "source": [
    "N, M, K = map(int, input().split())"
   ]
  },
  {
   "cell_type": "code",
   "execution_count": 2,
   "id": "8596fb0f-9915-45e6-bd42-82f07a362299",
   "metadata": {},
   "outputs": [
    {
     "name": "stdin",
     "output_type": "stream",
     "text": [
      " 3 4\n",
      " 3 5\n",
      " 2 5\n",
      " 1 6\n"
     ]
    }
   ],
   "source": [
    "ABm = [list(map(int, input().split())) for _ in range(M)]"
   ]
  },
  {
   "cell_type": "code",
   "execution_count": 7,
   "id": "5f10907d-073d-416c-8631-99329d2c3ff2",
   "metadata": {},
   "outputs": [],
   "source": [
    "def getScore(l, r):\n",
    "    ret = 0\n",
    "    for A, B in ABm:\n",
    "        if l <= A and B <= r:\n",
    "            ret += 1\n",
    "    return ret"
   ]
  },
  {
   "cell_type": "code",
   "execution_count": 12,
   "id": "89d887a8-1254-44a6-85b7-5fa7f283930c",
   "metadata": {},
   "outputs": [],
   "source": [
    "dp = [[-10**10] * (N+1) for _ in range(K+1)]\n",
    "dp[0][0] = 0\n",
    "for i in range(1, K+1):\n",
    "    for j in range(1, N+1):\n",
    "        for k in range(j):\n",
    "            dp[i][j] = max(dp[i][j], dp[i-1][k] + getScore(k+1, j))"
   ]
  },
  {
   "cell_type": "code",
   "execution_count": 16,
   "id": "0b713580-8c2f-4b3e-b9bd-073b1599e532",
   "metadata": {},
   "outputs": [
    {
     "name": "stdout",
     "output_type": "stream",
     "text": [
      "3\n"
     ]
    }
   ],
   "source": [
    "print(dp[K][N])"
   ]
  },
  {
   "cell_type": "code",
   "execution_count": 18,
   "id": "e5ab2b80-34b5-458e-951a-1279d3c8ff15",
   "metadata": {},
   "outputs": [
    {
     "data": {
      "text/plain": [
       "[[-10000000000, 0, 0, 0, 1, 3, 4],\n",
       " [-10000000000, -10000000000, 0, 0, 1, 3, 3],\n",
       " [-10000000000, -10000000000, -10000000000, 0, 1, 2, 3]]"
      ]
     },
     "execution_count": 18,
     "metadata": {},
     "output_type": "execute_result"
    }
   ],
   "source": [
    "dp[1:]"
   ]
  },
  {
   "cell_type": "code",
   "execution_count": null,
   "id": "0372a8fa-bd97-4dad-9224-1e113051f24f",
   "metadata": {},
   "outputs": [],
   "source": []
  }
 ],
 "metadata": {
  "kernelspec": {
   "display_name": "Python 3",
   "language": "python",
   "name": "python3"
  },
  "language_info": {
   "codemirror_mode": {
    "name": "ipython",
    "version": 3
   },
   "file_extension": ".py",
   "mimetype": "text/x-python",
   "name": "python",
   "nbconvert_exporter": "python",
   "pygments_lexer": "ipython3",
   "version": "3.6.13"
  }
 },
 "nbformat": 4,
 "nbformat_minor": 5
}
