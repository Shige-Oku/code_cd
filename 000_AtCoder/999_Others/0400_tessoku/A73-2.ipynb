{
 "cells": [
  {
   "cell_type": "code",
   "execution_count": 1,
   "id": "8f07fa7b-55bc-46ff-89e0-f1f0509e7340",
   "metadata": {},
   "outputs": [
    {
     "name": "stdin",
     "output_type": "stream",
     "text": [
      " 3 3\n"
     ]
    }
   ],
   "source": [
    "N, M = map(int, input().split())"
   ]
  },
  {
   "cell_type": "code",
   "execution_count": 10,
   "id": "3ac81607-0eb5-452a-961d-9a691ff1e353",
   "metadata": {},
   "outputs": [
    {
     "name": "stdin",
     "output_type": "stream",
     "text": [
      " 1 2 70 1\n",
      " 2 3 20 1\n",
      " 1 3 90 0\n"
     ]
    }
   ],
   "source": [
    "ABCDm = [list(map(int, input().split())) for _ in range(M)]"
   ]
  },
  {
   "cell_type": "code",
   "execution_count": 11,
   "id": "b5010ae8-8e67-49cf-afc0-dfc885f2a13b",
   "metadata": {},
   "outputs": [],
   "source": [
    "graph = [[] for _ in range(N+1)]\n",
    "for A, B, C, D in ABCDm:\n",
    "    graph[A].append((B, C, D))\n",
    "    graph[B].append((A, C, D))"
   ]
  },
  {
   "cell_type": "code",
   "execution_count": 24,
   "id": "ee7efbae-f1b7-4828-8a83-cd6d41f1a194",
   "metadata": {},
   "outputs": [
    {
     "name": "stdout",
     "output_type": "stream",
     "text": [
      "0 1 0\n",
      "699999 2 1\n",
      "899998 3 1\n",
      "900000 3 0\n"
     ]
    }
   ],
   "source": [
    "import heapq\n",
    "visit = [False] * (N+1)\n",
    "dist  = [-1] * (N+1)\n",
    "q = []\n",
    "heapq.heappush(q, (0, 1, 0))\n",
    "dist[1] = 0\n",
    "while q:\n",
    "    c, p, t = heapq.heappop(q)\n",
    "    if visit[p]:\n",
    "        continue\n",
    "    visit[p] = True\n",
    "    for np, nc, nt in graph[p]:\n",
    "        d = nc * 10000\n",
    "        if dist[np] == -1 or dist[np] > dist[p] + d - nt:\n",
    "            dist[np] = dist[p] + d - nt\n",
    "            heapq.heappush(q, (dist[np], np, nt))\n",
    "            "
   ]
  },
  {
   "cell_type": "code",
   "execution_count": 25,
   "id": "075f0d3b-e88c-497e-88f5-14955966db79",
   "metadata": {},
   "outputs": [
    {
     "name": "stdout",
     "output_type": "stream",
     "text": [
      "90 2\n"
     ]
    }
   ],
   "source": [
    "q, m = divmod(dist[N], 10000)\n",
    "if m == 0:\n",
    "    print(q, m)\n",
    "else:\n",
    "    print(q+1, 10000-m)"
   ]
  },
  {
   "cell_type": "code",
   "execution_count": 22,
   "id": "2b9fdb20-62d8-40db-b896-506cc927c7d4",
   "metadata": {},
   "outputs": [
    {
     "data": {
      "text/plain": [
       "(90, 0)"
      ]
     },
     "execution_count": 22,
     "metadata": {},
     "output_type": "execute_result"
    }
   ],
   "source": [
    "q, m"
   ]
  },
  {
   "cell_type": "code",
   "execution_count": 23,
   "id": "ca4333c5-61b8-4649-9982-e11e143de0a4",
   "metadata": {},
   "outputs": [
    {
     "data": {
      "text/plain": [
       "[-1, 0, 699999, 900000]"
      ]
     },
     "execution_count": 23,
     "metadata": {},
     "output_type": "execute_result"
    }
   ],
   "source": [
    "dist"
   ]
  },
  {
   "cell_type": "code",
   "execution_count": null,
   "id": "426e98dd-cdf5-4f33-8aad-5fb5cd711f99",
   "metadata": {},
   "outputs": [],
   "source": []
  }
 ],
 "metadata": {
  "kernelspec": {
   "display_name": "Python 3",
   "language": "python",
   "name": "python3"
  },
  "language_info": {
   "codemirror_mode": {
    "name": "ipython",
    "version": 3
   },
   "file_extension": ".py",
   "mimetype": "text/x-python",
   "name": "python",
   "nbconvert_exporter": "python",
   "pygments_lexer": "ipython3",
   "version": "3.6.13"
  }
 },
 "nbformat": 4,
 "nbformat_minor": 5
}
