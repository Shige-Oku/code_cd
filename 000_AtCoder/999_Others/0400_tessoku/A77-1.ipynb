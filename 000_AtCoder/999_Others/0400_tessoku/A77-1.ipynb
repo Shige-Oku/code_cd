{
 "cells": [
  {
   "cell_type": "code",
   "execution_count": 27,
   "id": "05736cff-162a-45d3-abe1-f89097fd440f",
   "metadata": {},
   "outputs": [
    {
     "name": "stdin",
     "output_type": "stream",
     "text": [
      " 3 100\n"
     ]
    }
   ],
   "source": [
    "N, L = map(int, input().split())"
   ]
  },
  {
   "cell_type": "code",
   "execution_count": 34,
   "id": "30c61623-0a73-404f-8680-567e1e81bb8c",
   "metadata": {},
   "outputs": [
    {
     "name": "stdin",
     "output_type": "stream",
     "text": [
      " 2\n"
     ]
    }
   ],
   "source": [
    "K = int(input())"
   ]
  },
  {
   "cell_type": "code",
   "execution_count": 29,
   "id": "371b789e-87ea-43af-a422-2da53af1d107",
   "metadata": {},
   "outputs": [
    {
     "name": "stdin",
     "output_type": "stream",
     "text": [
      " 28 54 81\n"
     ]
    }
   ],
   "source": [
    "An = list(map(int, input().split()))"
   ]
  },
  {
   "cell_type": "code",
   "execution_count": 38,
   "id": "d8114966-6f3a-477a-aa8f-34125a0efc43",
   "metadata": {},
   "outputs": [],
   "source": [
    "def my_check(n):\n",
    "    cut = 0\n",
    "    c = 0\n",
    "    for i, A in enumerate(An2):\n",
    "        if  A - c >= n:\n",
    "            cut += 1\n",
    "            c = A\n",
    "        if cut >= K:\n",
    "            break\n",
    "    if cut < K:\n",
    "        return Falseらせん本\n",
    "    return L - An2[i] >= n"
   ]
  },
  {
   "cell_type": "code",
   "execution_count": 39,
   "id": "5904877d-0eeb-4aa6-8647-6b2a49a37e54",
   "metadata": {},
   "outputs": [],
   "source": [
    "def my_bisect(n):\n",
    "    l = 1\n",
    "    r = n\n",
    "    while l + 1 < r:\n",
    "        m = (r + l) // 2\n",
    "        if my_check(m):\n",
    "            l = m\n",
    "        else:\n",
    "            r = m\n",
    "    return l"
   ]
  },
  {
   "cell_type": "code",
   "execution_count": 40,
   "id": "d3da208a-4824-4998-aad8-a3ef67a52226",
   "metadata": {},
   "outputs": [
    {
     "name": "stdout",
     "output_type": "stream",
     "text": [
      "26\n"
     ]
    }
   ],
   "source": [
    "An2 = An + [L]\n",
    "print(my_bisect(L+1))"
   ]
  },
  {
   "cell_type": "code",
   "execution_count": 33,
   "id": "b5e7911d-44b9-471e-9bd4-fe3a65401e8a",
   "metadata": {},
   "outputs": [],
   "source": [
    "import sys\n",
    "sys.setrecursionlimit(10**3)\n",
    "from functools import lru_cache\n",
    "@lru_cache(maxsize=None)\n",
    "def DFS(n, k):\n",
    "    ret = 0\n",
    "    if k == 0:\n",
    "        return L - An[n-1]\n",
    "    for i in range(n, N):\n",
    "        ret = max(ret, DFS(n, k-1))\n",
    "    return "
   ]
  },
  {
   "cell_type": "code",
   "execution_count": 6,
   "id": "ffac861b-25eb-4300-ba3b-0b67bb7fe461",
   "metadata": {},
   "outputs": [
    {
     "ename": "TypeError",
     "evalue": "DFS() takes 0 positional arguments but 2 were given",
     "output_type": "error",
     "traceback": [
      "\u001b[1;31m---------------------------------------------------------------------------\u001b[0m",
      "\u001b[1;31mTypeError\u001b[0m                                 Traceback (most recent call last)",
      "\u001b[1;32m<ipython-input-6-e64fea62d29c>\u001b[0m in \u001b[0;36m<module>\u001b[1;34m\u001b[0m\n\u001b[1;32m----> 1\u001b[1;33m \u001b[0mprint\u001b[0m\u001b[1;33m(\u001b[0m\u001b[0mDFS\u001b[0m\u001b[1;33m(\u001b[0m\u001b[1;36m0\u001b[0m\u001b[1;33m,\u001b[0m \u001b[0mK\u001b[0m\u001b[1;33m)\u001b[0m\u001b[1;33m)\u001b[0m\u001b[1;33m\u001b[0m\u001b[1;33m\u001b[0m\u001b[0m\n\u001b[0m",
      "\u001b[1;31mTypeError\u001b[0m: DFS() takes 0 positional arguments but 2 were given"
     ]
    }
   ],
   "source": [
    "print(DFS(0, K))"
   ]
  },
  {
   "cell_type": "code",
   "execution_count": null,
   "id": "9c6d0834-6125-4817-b311-0ba5302841dd",
   "metadata": {},
   "outputs": [],
   "source": []
  }
 ],
 "metadata": {
  "kernelspec": {
   "display_name": "Python 3",
   "language": "python",
   "name": "python3"
  },
  "language_info": {
   "codemirror_mode": {
    "name": "ipython",
    "version": 3
   },
   "file_extension": ".py",
   "mimetype": "text/x-python",
   "name": "python",
   "nbconvert_exporter": "python",
   "pygments_lexer": "ipython3",
   "version": "3.6.13"
  }
 },
 "nbformat": 4,
 "nbformat_minor": 5
}
