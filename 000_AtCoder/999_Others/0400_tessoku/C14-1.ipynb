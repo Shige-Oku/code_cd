{
 "cells": [
  {
   "cell_type": "code",
   "execution_count": 6,
   "id": "217cb5c7-ee1d-468d-92c2-627d8798dbc4",
   "metadata": {},
   "outputs": [
    {
     "name": "stdin",
     "output_type": "stream",
     "text": [
      " 6 7\n"
     ]
    }
   ],
   "source": [
    "N, M = map(int, input().split())"
   ]
  },
  {
   "cell_type": "code",
   "execution_count": 7,
   "id": "a70ced5a-2e76-40ea-bd23-fc9058bb06f0",
   "metadata": {},
   "outputs": [
    {
     "name": "stdin",
     "output_type": "stream",
     "text": [
      " 1 2 15\n",
      " 1 4 20\n",
      " 2 3 65\n",
      " 2 5 4\n",
      " 3 6 50\n",
      " 4 5 30\n",
      " 5 6 8\n"
     ]
    }
   ],
   "source": [
    "ABCm = [list(map(int, input().split())) for _ in range(M)]"
   ]
  },
  {
   "cell_type": "code",
   "execution_count": 40,
   "id": "4b1d048d-fdea-48ce-b12f-a5f52fee6862",
   "metadata": {},
   "outputs": [],
   "source": [
    "graph = [[] for _ in range(N+1)]\n",
    "for A, B, C in ABCm:\n",
    "    graph[A].append((B, C))\n",
    "    graph[B].append((A, C))"
   ]
  },
  {
   "cell_type": "code",
   "execution_count": 45,
   "id": "6ad69628-696b-4178-bd1e-0badc75287ef",
   "metadata": {},
   "outputs": [],
   "source": [
    "import heapq\n",
    "def dijkstra(n):\n",
    "    visit = [False] * (N+1)\n",
    "    dist = [-1] * (N+1)\n",
    "    q = []\n",
    "    heapq.heappush(q, (0, n))\n",
    "    dist[n] = 0\n",
    "    while q:\n",
    "        c, p = heapq.heappop(q)\n",
    "        if visit[p]:\n",
    "            continue\n",
    "        visit[p] = True\n",
    "        for n, nc in graph[p]:\n",
    "            if dist[n] == -1 or dist[n] > dist[p] + nc:\n",
    "                dist[n] = dist[p] + nc\n",
    "                heapq.heappush(q, (dist[n], n))\n",
    "    return dist"
   ]
  },
  {
   "cell_type": "code",
   "execution_count": 46,
   "id": "983271e1-e490-40c3-be04-8f37864ee4f7",
   "metadata": {},
   "outputs": [],
   "source": [
    "dist1 = dijkstra(1)\n",
    "mindist = dist1[N]\n",
    "\n",
    "distN = dijkstra(N)"
   ]
  },
  {
   "cell_type": "code",
   "execution_count": 47,
   "id": "b8730868-1386-4c81-b778-42a5962b0eb0",
   "metadata": {},
   "outputs": [
    {
     "name": "stdout",
     "output_type": "stream",
     "text": [
      "4\n"
     ]
    }
   ],
   "source": [
    "ans = 0\n",
    "for i in range(1, N+1):\n",
    "    if dist1[i]+distN[i] == mindist:\n",
    "        ans += 1\n",
    "print(ans)"
   ]
  },
  {
   "cell_type": "code",
   "execution_count": 48,
   "id": "3acf8475-521b-4e18-b610-9051c9800005",
   "metadata": {},
   "outputs": [
    {
     "data": {
      "text/plain": [
       "([-1, 0, 15, 77, 20, 19, 27], [-1, 27, 12, 50, 38, 8, 0])"
      ]
     },
     "execution_count": 48,
     "metadata": {},
     "output_type": "execute_result"
    }
   ],
   "source": [
    "dist1, distN"
   ]
  },
  {
   "cell_type": "code",
   "execution_count": 36,
   "id": "aa26eb88-8c44-47ff-810e-d22e2c04561f",
   "metadata": {},
   "outputs": [],
   "source": [
    "import heapq\n",
    "q = []\n",
    "visit = [False] * (N+1)\n",
    "dist = [-1] * (N+1)\n",
    "heapq.heappush(q, (0, 1))\n",
    "dist[1] = 0\n",
    "while q:\n",
    "    c, p = heapq.heappop(q)\n",
    "    if visit[p]:\n",
    "        continue\n",
    "    visit[p] = True\n",
    "    for n, nc in graph[p]:\n",
    "        if dist[n] == -1 or dist[n] > dist[p]+nc:\n",
    "            dist[n] = dist[p] + nc\n",
    "            heapq.heappush(q, (nc, n))"
   ]
  },
  {
   "cell_type": "code",
   "execution_count": 37,
   "id": "84785169-2bac-4cdc-88c5-76abbfc615c1",
   "metadata": {},
   "outputs": [],
   "source": [
    "q = []\n",
    "visit2 = [False] * (N+1)\n",
    "dist2 = [-1] * (N+1)\n",
    "heapq.heappush(q, (0, N))\n",
    "dist2[N] = 0\n",
    "while q:\n",
    "    c, p = heapq.heappop(q)\n",
    "    if visit2[p]:\n",
    "        continue\n",
    "    visit2[p] = True\n",
    "    for n, nc in graph[p]:\n",
    "        if dist2[n] == -1 or dist2[n] > dist2[p]+nc:\n",
    "            dist2[n] = dist2[p] + nc\n",
    "            heapq.heappush(q, (nc, n))"
   ]
  },
  {
   "cell_type": "code",
   "execution_count": 47,
   "id": "77cb695f-4e66-414f-a1da-b885459d21ff",
   "metadata": {},
   "outputs": [],
   "source": [
    "ans = 0\n",
    "for i in range(1, N+1):\n",
    "    if dist[i] + dist2[i] <= dist[N]:\n",
    "        ans += 1"
   ]
  },
  {
   "cell_type": "code",
   "execution_count": 48,
   "id": "99b8461c-9209-4551-8be8-96f4ca5dcc19",
   "metadata": {},
   "outputs": [
    {
     "name": "stdout",
     "output_type": "stream",
     "text": [
      "4\n"
     ]
    }
   ],
   "source": [
    "print(ans)"
   ]
  },
  {
   "cell_type": "code",
   "execution_count": 45,
   "id": "4c981dc3-0385-43c7-8cf4-cfaa8270bbc1",
   "metadata": {},
   "outputs": [
    {
     "data": {
      "text/plain": [
       "[-1, 0, 15, 77, 20, 19, 27]"
      ]
     },
     "execution_count": 45,
     "metadata": {},
     "output_type": "execute_result"
    }
   ],
   "source": [
    "dist"
   ]
  },
  {
   "cell_type": "code",
   "execution_count": 58,
   "id": "e3120e7b-dc24-4d4e-8139-1a4ba83df1bc",
   "metadata": {},
   "outputs": [
    {
     "data": {
      "text/plain": [
       "[-1, 27, 12, 50, 38, 8, 0]"
      ]
     },
     "execution_count": 58,
     "metadata": {},
     "output_type": "execute_result"
    }
   ],
   "source": [
    "dist2"
   ]
  },
  {
   "cell_type": "code",
   "execution_count": null,
   "id": "bc9c0f74-370e-41f4-862e-3f0cc0293fdf",
   "metadata": {},
   "outputs": [],
   "source": []
  }
 ],
 "metadata": {
  "kernelspec": {
   "display_name": "Python 3",
   "language": "python",
   "name": "python3"
  },
  "language_info": {
   "codemirror_mode": {
    "name": "ipython",
    "version": 3
   },
   "file_extension": ".py",
   "mimetype": "text/x-python",
   "name": "python",
   "nbconvert_exporter": "python",
   "pygments_lexer": "ipython3",
   "version": "3.6.13"
  }
 },
 "nbformat": 4,
 "nbformat_minor": 5
}
