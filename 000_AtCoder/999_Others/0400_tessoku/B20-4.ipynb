{
 "cells": [
  {
   "cell_type": "code",
   "execution_count": 45,
   "id": "2f9b33c1-593a-456b-8d0b-a86ea2c91cac",
   "metadata": {},
   "outputs": [
    {
     "name": "stdin",
     "output_type": "stream",
     "text": [
      " competitive\n"
     ]
    }
   ],
   "source": [
    "S = input()"
   ]
  },
  {
   "cell_type": "code",
   "execution_count": 46,
   "id": "9c7c1d08-f1eb-4884-953b-719e6737132f",
   "metadata": {},
   "outputs": [
    {
     "name": "stdin",
     "output_type": "stream",
     "text": [
      " programming\n"
     ]
    }
   ],
   "source": [
    "T = input()"
   ]
  },
  {
   "cell_type": "code",
   "execution_count": 47,
   "id": "b8fcfcec-92fb-4399-8640-31080e644013",
   "metadata": {},
   "outputs": [],
   "source": [
    "dp = [[10**10] * (len(T)+1) for _ in range(len(S)+1)]\n",
    "dp[0][0] = 0\n",
    "for i in range(len(S)+1):\n",
    "    for j in range(len(T)+1):\n",
    "        if i > 0 and j > 0:\n",
    "            dp[i][j] = min(dp[i-1][j]+1, dp[i][j-1]+1, dp[i-1][j-1]+1)\n",
    "            if S[i-1] == T[j-1]:\n",
    "                dp[i][j] = min(dp[i][j], dp[i-1][j-1])\n",
    "        elif j > 0:\n",
    "            dp[i][j] = min(dp[i][j], dp[i][j-1]+1)\n",
    "        elif i > 0:\n",
    "            dp[i][j] = min(dp[i][j], dp[i-1][j]+1)"
   ]
  },
  {
   "cell_type": "code",
   "execution_count": 48,
   "id": "53ff89f6-b300-4bc7-9d7e-94d57c4aa909",
   "metadata": {},
   "outputs": [
    {
     "name": "stdout",
     "output_type": "stream",
     "text": [
      "10\n"
     ]
    }
   ],
   "source": [
    "print(dp[-1][-1])"
   ]
  },
  {
   "cell_type": "code",
   "execution_count": 36,
   "id": "b7a81568-4b3a-4071-a6e1-b9d535567fc8",
   "metadata": {},
   "outputs": [
    {
     "data": {
      "text/plain": [
       "[[0, 1, 2, 3],\n",
       " [1, 1, 2, 3],\n",
       " [2, 1, 2, 3],\n",
       " [3, 2, 2, 3],\n",
       " [4, 3, 2, 3],\n",
       " [5, 4, 3, 3],\n",
       " [6, 5, 4, 3]]"
      ]
     },
     "execution_count": 36,
     "metadata": {},
     "output_type": "execute_result"
    }
   ],
   "source": [
    "dp"
   ]
  },
  {
   "cell_type": "code",
   "execution_count": null,
   "id": "e92d4a3f-b8e6-45bc-9aae-b1d60d848113",
   "metadata": {},
   "outputs": [],
   "source": []
  }
 ],
 "metadata": {
  "kernelspec": {
   "display_name": "Python 3",
   "language": "python",
   "name": "python3"
  },
  "language_info": {
   "codemirror_mode": {
    "name": "ipython",
    "version": 3
   },
   "file_extension": ".py",
   "mimetype": "text/x-python",
   "name": "python",
   "nbconvert_exporter": "python",
   "pygments_lexer": "ipython3",
   "version": "3.6.13"
  }
 },
 "nbformat": 4,
 "nbformat_minor": 5
}
