{
 "cells": [
  {
   "cell_type": "code",
   "execution_count": 1,
   "id": "802108e6-e450-4db0-b34c-1cfc54fd224e",
   "metadata": {},
   "outputs": [
    {
     "name": "stdin",
     "output_type": "stream",
     "text": [
      " 5\n"
     ]
    }
   ],
   "source": [
    "N = int(input())"
   ]
  },
  {
   "cell_type": "code",
   "execution_count": 2,
   "id": "c7bf277d-9093-4316-a4b5-93e275dfc142",
   "metadata": {},
   "outputs": [
    {
     "name": "stdin",
     "output_type": "stream",
     "text": [
      " 0\n"
     ]
    }
   ],
   "source": [
    "K = int(input())"
   ]
  },
  {
   "cell_type": "code",
   "execution_count": 5,
   "id": "a5ff7965-6b29-4d0b-ad66-d74a7e31aba6",
   "metadata": {},
   "outputs": [
    {
     "name": "stdin",
     "output_type": "stream",
     "text": [
      " 0 4\n",
      " 1 2\n",
      " 3 7\n",
      " 5 9\n",
      " 7 8\n"
     ]
    }
   ],
   "source": [
    "LRn = [list(map(int, input().split())) + [i] for i in range(N)]"
   ]
  },
  {
   "cell_type": "code",
   "execution_count": null,
   "id": "1e766734-a03c-4af7-b460-c4852965eb8b",
   "metadata": {},
   "outputs": [],
   "source": [
    "# WA, TLE"
   ]
  },
  {
   "cell_type": "code",
   "execution_count": 15,
   "id": "a1aa3a60-2a02-4f00-9b5f-42b2661ff40d",
   "metadata": {},
   "outputs": [
    {
     "name": "stdout",
     "output_type": "stream",
     "text": [
      "2\n",
      "3\n",
      "3\n",
      "2\n",
      "3\n"
     ]
    }
   ],
   "source": [
    "LRn_s = sorted(LRn, key=lambda x : (x[1], x[0]))\n",
    "for j in range(N):\n",
    "    ans = 0\n",
    "    end = 0\n",
    "    ms = max(LRn[j][0] - K, 0)\n",
    "    me = LRn[j][1] + K\n",
    "    s = []\n",
    "    for L, R, i in LRn_s:\n",
    "        if j == i:\n",
    "            ans += 1\n",
    "            end = R\n",
    "            s.append(i)\n",
    "            continue\n",
    "        if ms < L  < me:\n",
    "            continue\n",
    "        if ms < R < me:\n",
    "            continue\n",
    "        if end == 0:\n",
    "            ans += 1\n",
    "            end = R\n",
    "            s.append(i)\n",
    "        elif end + K <= L:\n",
    "            ans += 1\n",
    "            end = R\n",
    "            s.append(i)\n",
    "#     print(s)\n",
    "    print(ans)"
   ]
  },
  {
   "cell_type": "code",
   "execution_count": 8,
   "id": "4789aa42-d60f-424c-8327-885d7ab69efe",
   "metadata": {},
   "outputs": [
    {
     "data": {
      "text/plain": [
       "[[1, 2, 1], [0, 4, 0], [3, 7, 2], [7, 8, 4], [5, 9, 3]]"
      ]
     },
     "execution_count": 8,
     "metadata": {},
     "output_type": "execute_result"
    }
   ],
   "source": [
    "LRn_s"
   ]
  },
  {
   "cell_type": "code",
   "execution_count": null,
   "id": "90a9e9d6-12a0-4eed-83fa-7f1675f03307",
   "metadata": {},
   "outputs": [],
   "source": []
  }
 ],
 "metadata": {
  "kernelspec": {
   "display_name": "Python 3",
   "language": "python",
   "name": "python3"
  },
  "language_info": {
   "codemirror_mode": {
    "name": "ipython",
    "version": 3
   },
   "file_extension": ".py",
   "mimetype": "text/x-python",
   "name": "python",
   "nbconvert_exporter": "python",
   "pygments_lexer": "ipython3",
   "version": "3.6.13"
  }
 },
 "nbformat": 4,
 "nbformat_minor": 5
}
