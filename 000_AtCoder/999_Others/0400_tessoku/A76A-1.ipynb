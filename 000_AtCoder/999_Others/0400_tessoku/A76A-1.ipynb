{
 "cells": [
  {
   "cell_type": "code",
   "execution_count": 2,
   "id": "844eb9b2-e15d-4864-ae9c-ecb2ae45a164",
   "metadata": {},
   "outputs": [
    {
     "name": "stdin",
     "output_type": "stream",
     "text": [
      " 5 65 7 37\n"
     ]
    }
   ],
   "source": [
    "N, W, L, R = map(int, input().split())"
   ]
  },
  {
   "cell_type": "code",
   "execution_count": 3,
   "id": "8454036b-a1ac-4dc5-9f48-fda622f3482c",
   "metadata": {},
   "outputs": [
    {
     "name": "stdin",
     "output_type": "stream",
     "text": [
      " 5 15 30 50 55\n"
     ]
    }
   ],
   "source": [
    "Xn = list(map(int, input().split()))"
   ]
  },
  {
   "cell_type": "code",
   "execution_count": 62,
   "id": "39a77d27-93bc-4885-a493-cf88fc19be94",
   "metadata": {},
   "outputs": [],
   "source": [
    "from bisect import bisect_left\n",
    "MOD = 10**9+7\n",
    "Xn2 = [0] + Xn + [W]\n",
    "dp = [0] * (N+2)\n",
    "dp[0] = 1\n",
    "dp_s = [1, ]\n",
    "for i, X in enumerate(Xn2[1:], 1):\n",
    "    li = bisect_left(Xn2, X-R)\n",
    "    ri = bisect_left(Xn2, X-L+1) - 1\n",
    "    if ri >= 0:\n",
    "        dp[i] += dp_s[ri]\n",
    "    if li >= 1:\n",
    "        dp[i] -= dp_s[li-1]\n",
    "    dp[i] %= MOD\n",
    "    dp_s.append((dp_s[-1] + dp[i]) % MOD)\n"
   ]
  },
  {
   "cell_type": "code",
   "execution_count": 63,
   "id": "79ee89d4-42fe-4bb9-b21f-bd38352689fb",
   "metadata": {},
   "outputs": [
    {
     "name": "stdout",
     "output_type": "stream",
     "text": [
      "7\n"
     ]
    }
   ],
   "source": [
    "print(dp[N+1])"
   ]
  },
  {
   "cell_type": "code",
   "execution_count": 54,
   "id": "01150949-a60e-49e6-bc99-8999ed698825",
   "metadata": {},
   "outputs": [
    {
     "data": {
      "text/plain": [
       "([0, 5, 15, 30, 50, 55, 65], 6, 3, 6, 65)"
      ]
     },
     "execution_count": 54,
     "metadata": {},
     "output_type": "execute_result"
    }
   ],
   "source": [
    "Xn2, i, li, ri, X"
   ]
  },
  {
   "cell_type": "code",
   "execution_count": 55,
   "id": "b2a0d726-fcc5-4420-944e-55f596374f3a",
   "metadata": {},
   "outputs": [
    {
     "data": {
      "text/plain": [
       "([1, 1, 2, 4, 7, 12, 22], [1, 0, 1, 2, 3, 5, 10])"
      ]
     },
     "execution_count": 55,
     "metadata": {},
     "output_type": "execute_result"
    }
   ],
   "source": [
    "dp_s, dp"
   ]
  },
  {
   "cell_type": "code",
   "execution_count": null,
   "id": "741d6e26-ec07-4ff7-a8b2-e373c670fc6c",
   "metadata": {},
   "outputs": [],
   "source": [
    "# 動的計画法（書籍内の sum[i] は本コードの dpsum[i] に対応）\n",
    "MOD = 10 ** 9 + 7 # = 1000000007\n",
    "dp = [ 0 ] * (N + 2)\n",
    "dpsum = [ 0 ] * (N + 2)\n",
    "dp[0] = 1\n",
    "dpsum[0] = 1\n",
    "for i in range(1, N + 2):\n",
    "\tposl = bisect.bisect_left(X, X[i] - R)\n",
    "\tposr = bisect.bisect_left(X, X[i] - L + 1) - 1\n",
    "\t# dp[i] の値を累積和で計算（C++ とは異なり、（負の値）% MOD も 0 以上 MOD-1 以下になることに注意）\n",
    "\tdp[i] = (dpsum[posr] if posr >= 0 else 0) - (dpsum[posl - 1] if posl >= 1 else 0)\n",
    "\tdp[i] %= MOD\n",
    "\t# 累積和 dpsum[i] の値を更新\n",
    "\tdpsum[i] = dpsum[i - 1] + dp[i]\n",
    "\tdpsum[i] %= MOD\n",
    "\n",
    "# 出力\n",
    "print(dp[N + 1])"
   ]
  }
 ],
 "metadata": {
  "kernelspec": {
   "display_name": "Python 3",
   "language": "python",
   "name": "python3"
  },
  "language_info": {
   "codemirror_mode": {
    "name": "ipython",
    "version": 3
   },
   "file_extension": ".py",
   "mimetype": "text/x-python",
   "name": "python",
   "nbconvert_exporter": "python",
   "pygments_lexer": "ipython3",
   "version": "3.6.13"
  }
 },
 "nbformat": 4,
 "nbformat_minor": 5
}
