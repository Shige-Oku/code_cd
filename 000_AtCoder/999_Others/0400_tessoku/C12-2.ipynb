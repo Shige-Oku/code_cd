{
 "cells": [
  {
   "cell_type": "code",
   "execution_count": 1,
   "id": "e110d52c-34e2-4d9b-900e-798731e1d4bc",
   "metadata": {},
   "outputs": [
    {
     "name": "stdin",
     "output_type": "stream",
     "text": [
      " 6 4 3\n"
     ]
    }
   ],
   "source": [
    "N, M, K = map(int, input().split())"
   ]
  },
  {
   "cell_type": "code",
   "execution_count": 2,
   "id": "dae06136-6f90-482b-939d-bf339eea056b",
   "metadata": {},
   "outputs": [
    {
     "name": "stdin",
     "output_type": "stream",
     "text": [
      " 3 4\n",
      " 3 5\n",
      " 2 5\n",
      " 1 6\n"
     ]
    }
   ],
   "source": [
    "ABm = [list(map(int, input().split())) for _ in range(M)]"
   ]
  },
  {
   "cell_type": "code",
   "execution_count": 12,
   "id": "245c4c9a-f3a2-4c2a-92e0-0b917963bfa3",
   "metadata": {},
   "outputs": [],
   "source": [
    "def getScore(l, r):\n",
    "    score = 0\n",
    "    for A, B in ABm:\n",
    "        if l <= A and B <= r:\n",
    "            score += 1\n",
    "    return score"
   ]
  },
  {
   "cell_type": "code",
   "execution_count": 16,
   "id": "321feb44-6866-4753-9eb4-f67df13cbcc1",
   "metadata": {},
   "outputs": [],
   "source": [
    "dp = [[-10**10] * (N+1) for _ in range(K+1)]\n",
    "dp[0][0] = 0\n",
    "for i in range(1, K+1):\n",
    "    for j in range(1, N+1):\n",
    "        for k in range(j):\n",
    "            dp[i][j] = max(dp[i][j], dp[i-1][k] + getScore(k+1, j))"
   ]
  },
  {
   "cell_type": "code",
   "execution_count": 17,
   "id": "db0f5545-abb0-4d64-8895-7548ded6ed53",
   "metadata": {},
   "outputs": [
    {
     "name": "stdout",
     "output_type": "stream",
     "text": [
      "3\n"
     ]
    }
   ],
   "source": [
    "print(dp[K][N])"
   ]
  },
  {
   "cell_type": "code",
   "execution_count": 18,
   "id": "84061b4a-4f71-4d19-89ac-9355743c0bf7",
   "metadata": {},
   "outputs": [
    {
     "data": {
      "text/plain": [
       "[[-10000000000, 0, 0, 0, 1, 3, 4],\n",
       " [-10000000000, -10000000000, 0, 0, 1, 3, 3],\n",
       " [-10000000000, -10000000000, -10000000000, 0, 1, 2, 3]]"
      ]
     },
     "execution_count": 18,
     "metadata": {},
     "output_type": "execute_result"
    }
   ],
   "source": [
    "dp[1:]"
   ]
  },
  {
   "cell_type": "code",
   "execution_count": null,
   "id": "e5d8c3a1-f20f-4673-9b5c-b6caecaf08a9",
   "metadata": {},
   "outputs": [],
   "source": []
  }
 ],
 "metadata": {
  "kernelspec": {
   "display_name": "Python 3",
   "language": "python",
   "name": "python3"
  },
  "language_info": {
   "codemirror_mode": {
    "name": "ipython",
    "version": 3
   },
   "file_extension": ".py",
   "mimetype": "text/x-python",
   "name": "python",
   "nbconvert_exporter": "python",
   "pygments_lexer": "ipython3",
   "version": "3.6.13"
  }
 },
 "nbformat": 4,
 "nbformat_minor": 5
}
