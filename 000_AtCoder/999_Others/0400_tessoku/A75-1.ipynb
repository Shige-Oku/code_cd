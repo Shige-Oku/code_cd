{
 "cells": [
  {
   "cell_type": "code",
   "execution_count": 1,
   "id": "2c967c39-5ad3-46ee-b8ea-4646b0dbc063",
   "metadata": {},
   "outputs": [
    {
     "name": "stdin",
     "output_type": "stream",
     "text": [
      " 4\n"
     ]
    }
   ],
   "source": [
    "N = int(input())"
   ]
  },
  {
   "cell_type": "code",
   "execution_count": 2,
   "id": "811f2bc9-58b5-425c-9ff1-9b79cc26a1ac",
   "metadata": {},
   "outputs": [
    {
     "name": "stdin",
     "output_type": "stream",
     "text": [
      " 20 70\n",
      " 30 50\n",
      " 30 100\n",
      " 20 60\n"
     ]
    }
   ],
   "source": [
    "TDn = [list(map(int, input().split())) for _ in range(N)]"
   ]
  },
  {
   "cell_type": "code",
   "execution_count": 38,
   "id": "ed06618b-ce88-4e32-8f4c-53b913da7831",
   "metadata": {},
   "outputs": [],
   "source": [
    "TDn_s = sorted(TDn, key=lambda x:(x[1], x[0]))\n",
    "dp = [[0] * (1500) for _ in range(N+1)]\n",
    "dp[0][0] = 0\n",
    "for i, (T, D) in enumerate(TDn_s, 1):\n",
    "    for j in range(1500):\n",
    "        if j < T or j > D:\n",
    "            dp[i][j] = dp[i-1][j]\n",
    "        else:\n",
    "            dp[i][j] = max(dp[i-1][j], dp[i-1][j-T]+1)"
   ]
  },
  {
   "cell_type": "code",
   "execution_count": 39,
   "id": "5dfbdccc-5741-457f-882c-5f2a21f2e218",
   "metadata": {},
   "outputs": [
    {
     "name": "stdout",
     "output_type": "stream",
     "text": [
      "4\n"
     ]
    }
   ],
   "source": [
    "print(max(dp[-1]))"
   ]
  },
  {
   "cell_type": "code",
   "execution_count": 33,
   "id": "23471a8a-1368-4b77-a9f6-8b082d705974",
   "metadata": {},
   "outputs": [
    {
     "data": {
      "text/plain": [
       "[-1, -1, -1, -1, -1, 3, -1, -1, -1, -1]"
      ]
     },
     "execution_count": 33,
     "metadata": {},
     "output_type": "execute_result"
    }
   ],
   "source": [
    "dp[3][65:75]"
   ]
  },
  {
   "cell_type": "code",
   "execution_count": 11,
   "id": "9d969863-84e8-4605-aea3-c57d0c568ecf",
   "metadata": {},
   "outputs": [],
   "source": [
    "TDn_s = sorted(TDn, key=lambda x:(x[1], x[0]))\n",
    "s = 0\n",
    "ans = 0\n",
    "for T, D in TDn_s:\n",
    "    if s + T <= D:\n",
    "        ans += 1\n",
    "        s += T"
   ]
  },
  {
   "cell_type": "code",
   "execution_count": 12,
   "id": "1450f4dc-a389-4c3c-bd1d-68ea1c77489d",
   "metadata": {},
   "outputs": [
    {
     "name": "stdout",
     "output_type": "stream",
     "text": [
      "3\n"
     ]
    }
   ],
   "source": [
    "print(ans)"
   ]
  },
  {
   "cell_type": "code",
   "execution_count": 29,
   "id": "a8b059b9-bc95-4d32-9833-7360f4da11e8",
   "metadata": {},
   "outputs": [
    {
     "data": {
      "text/plain": [
       "[[30, 50], [20, 60], [20, 70], [30, 100]]"
      ]
     },
     "execution_count": 29,
     "metadata": {},
     "output_type": "execute_result"
    }
   ],
   "source": [
    "TDn_s"
   ]
  },
  {
   "cell_type": "code",
   "execution_count": null,
   "id": "fb60699a-992b-4fcc-ad4b-41ec94237318",
   "metadata": {},
   "outputs": [],
   "source": []
  }
 ],
 "metadata": {
  "kernelspec": {
   "display_name": "Python 3",
   "language": "python",
   "name": "python3"
  },
  "language_info": {
   "codemirror_mode": {
    "name": "ipython",
    "version": 3
   },
   "file_extension": ".py",
   "mimetype": "text/x-python",
   "name": "python",
   "nbconvert_exporter": "python",
   "pygments_lexer": "ipython3",
   "version": "3.6.13"
  }
 },
 "nbformat": 4,
 "nbformat_minor": 5
}
