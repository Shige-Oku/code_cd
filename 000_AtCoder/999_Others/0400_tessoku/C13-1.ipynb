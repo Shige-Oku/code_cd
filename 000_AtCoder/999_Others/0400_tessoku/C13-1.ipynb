{
 "cells": [
  {
   "cell_type": "code",
   "execution_count": 26,
   "id": "8e7aa439-29b7-41e8-9b28-5e67c330ce21",
   "metadata": {},
   "outputs": [
    {
     "name": "stdin",
     "output_type": "stream",
     "text": [
      " 10 0\n"
     ]
    }
   ],
   "source": [
    "N, P = map(int, input().split())"
   ]
  },
  {
   "cell_type": "code",
   "execution_count": 50,
   "id": "78dfadc6-0a63-4f49-8ea8-54a549903b2d",
   "metadata": {},
   "outputs": [
    {
     "name": "stdin",
     "output_type": "stream",
     "text": [
      " 0 0 0 0 0 1 2 3 4 5\n"
     ]
    }
   ],
   "source": [
    "An = list(map(int, input().split()))"
   ]
  },
  {
   "cell_type": "code",
   "execution_count": 51,
   "id": "b72f0505-cb63-47c9-a0f9-2ff3a907ba67",
   "metadata": {},
   "outputs": [],
   "source": [
    "def calcDivision(a, b, m):\n",
    "    return (a * pow(b, m-2, m)) % m"
   ]
  },
  {
   "cell_type": "code",
   "execution_count": 58,
   "id": "c0bcc75b-0ec9-4a49-9cbc-e49e3176c08a",
   "metadata": {},
   "outputs": [],
   "source": [
    "from collections import defaultdict\n",
    "def solve():\n",
    "    if P == 0:\n",
    "        z = An_m.count(0)\n",
    "        nz = N - z\n",
    "        return z * (z-1) // 2 + z * nz\n",
    "    \n",
    "    ret = 0\n",
    "    for A in An_m:\n",
    "        g = calcDivision(P, A, MOD)\n",
    "        ret += di[g]\n",
    "        di[A] += 1\n",
    "    \n",
    "    return ret"
   ]
  },
  {
   "cell_type": "code",
   "execution_count": 59,
   "id": "a16f10a5-4245-4d68-96b4-df9cc3ffa3e4",
   "metadata": {},
   "outputs": [
    {
     "name": "stdout",
     "output_type": "stream",
     "text": [
      "35\n"
     ]
    }
   ],
   "source": [
    "from collections import defaultdict\n",
    "di = defaultdict(int)\n",
    "ans = 0\n",
    "MOD = 10**9+7\n",
    "An_m = [x % MOD for x in An]\n",
    "print(solve())"
   ]
  },
  {
   "cell_type": "code",
   "execution_count": 54,
   "id": "f6b08ead-da7e-4911-8411-bf5c2349267f",
   "metadata": {},
   "outputs": [
    {
     "name": "stdout",
     "output_type": "stream",
     "text": [
      "0\n"
     ]
    }
   ],
   "source": [
    "print(ans)"
   ]
  },
  {
   "cell_type": "code",
   "execution_count": 55,
   "id": "e126427f-de95-402e-9b42-f86efd538284",
   "metadata": {},
   "outputs": [
    {
     "data": {
      "text/plain": [
       "[0, 0, 0, 0, 0, 1, 2, 3, 4, 5]"
      ]
     },
     "execution_count": 55,
     "metadata": {},
     "output_type": "execute_result"
    }
   ],
   "source": [
    "An_m"
   ]
  },
  {
   "cell_type": "code",
   "execution_count": 43,
   "id": "a998e42b-64b5-4c44-a3f0-84149cf725ce",
   "metadata": {},
   "outputs": [
    {
     "data": {
      "text/plain": [
       "defaultdict(int, {0: 7, 266091933: 1, 554109450: 1, 394168953: 1})"
      ]
     },
     "execution_count": 43,
     "metadata": {},
     "output_type": "execute_result"
    }
   ],
   "source": [
    "di"
   ]
  },
  {
   "cell_type": "code",
   "execution_count": null,
   "id": "b19f69d0-2143-410d-8820-ec98be7de885",
   "metadata": {},
   "outputs": [],
   "source": []
  }
 ],
 "metadata": {
  "kernelspec": {
   "display_name": "Python 3",
   "language": "python",
   "name": "python3"
  },
  "language_info": {
   "codemirror_mode": {
    "name": "ipython",
    "version": 3
   },
   "file_extension": ".py",
   "mimetype": "text/x-python",
   "name": "python",
   "nbconvert_exporter": "python",
   "pygments_lexer": "ipython3",
   "version": "3.6.13"
  }
 },
 "nbformat": 4,
 "nbformat_minor": 5
}
