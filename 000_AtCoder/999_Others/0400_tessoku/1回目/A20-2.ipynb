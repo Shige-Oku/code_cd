{
 "cells": [
  {
   "cell_type": "code",
   "execution_count": 18,
   "id": "7a4448e4-9ec3-47a9-a06a-1709d9aa940a",
   "metadata": {},
   "outputs": [
    {
     "name": "stdin",
     "output_type": "stream",
     "text": [
      " tokyo\n"
     ]
    }
   ],
   "source": [
    "S = input()"
   ]
  },
  {
   "cell_type": "code",
   "execution_count": 19,
   "id": "b24b6a12-5865-4d02-bc80-d9f31cbda647",
   "metadata": {},
   "outputs": [
    {
     "name": "stdin",
     "output_type": "stream",
     "text": [
      " kyoto\n"
     ]
    }
   ],
   "source": [
    "T = input()"
   ]
  },
  {
   "cell_type": "code",
   "execution_count": 20,
   "id": "b176079a-b258-4e4d-840d-cc52fd8ae5a1",
   "metadata": {},
   "outputs": [],
   "source": [
    "dp = [[0] * 2001 for _ in range(2001)]\n",
    "for i, s in enumerate(S, 1):\n",
    "    for j, t in enumerate(T, 1):\n",
    "        dp[i][j] = max(dp[i][j], dp[i][j-1], dp[i-1][j])\n",
    "        if s == t:\n",
    "            dp[i][j] = dp[i-1][j-1] + 1"
   ]
  },
  {
   "cell_type": "code",
   "execution_count": 21,
   "id": "8dabd922-ed14-4e9c-b74f-41492cd5f174",
   "metadata": {},
   "outputs": [
    {
     "name": "stdout",
     "output_type": "stream",
     "text": [
      "3\n"
     ]
    }
   ],
   "source": [
    "print(max(dp[len(S)]))"
   ]
  },
  {
   "cell_type": "code",
   "execution_count": 17,
   "id": "396c4d09-9ba6-4e0c-b55d-a5fa0d416a72",
   "metadata": {},
   "outputs": [
    {
     "data": {
      "text/plain": [
       "[0, 1, 1, 2, 2, 3, 3, 0, 0, 0]"
      ]
     },
     "execution_count": 17,
     "metadata": {},
     "output_type": "execute_result"
    }
   ],
   "source": [
    "dp[len(S)][:10]"
   ]
  },
  {
   "cell_type": "code",
   "execution_count": null,
   "id": "71b3e588-332e-4133-9716-dc101fbc9158",
   "metadata": {},
   "outputs": [],
   "source": []
  }
 ],
 "metadata": {
  "kernelspec": {
   "display_name": "Python 3",
   "language": "python",
   "name": "python3"
  },
  "language_info": {
   "codemirror_mode": {
    "name": "ipython",
    "version": 3
   },
   "file_extension": ".py",
   "mimetype": "text/x-python",
   "name": "python",
   "nbconvert_exporter": "python",
   "pygments_lexer": "ipython3",
   "version": "3.6.13"
  }
 },
 "nbformat": 4,
 "nbformat_minor": 5
}
