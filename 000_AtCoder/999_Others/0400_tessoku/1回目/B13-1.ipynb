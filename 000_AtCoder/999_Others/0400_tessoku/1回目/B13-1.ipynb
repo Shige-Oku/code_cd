{
 "cells": [
  {
   "cell_type": "code",
   "execution_count": 3,
   "id": "1c20b123-cb29-489c-8395-9d63b39309fb",
   "metadata": {},
   "outputs": [
    {
     "name": "stdin",
     "output_type": "stream",
     "text": [
      " 7 50\n"
     ]
    }
   ],
   "source": [
    "N, K = map(int, input().split())"
   ]
  },
  {
   "cell_type": "code",
   "execution_count": 4,
   "id": "35d21de7-6163-4538-bf4d-1f650ca42d85",
   "metadata": {},
   "outputs": [
    {
     "name": "stdin",
     "output_type": "stream",
     "text": [
      " 11 12 16 22 27 28 31\n"
     ]
    }
   ],
   "source": [
    "An = list(map(int, input().split()))"
   ]
  },
  {
   "cell_type": "code",
   "execution_count": 5,
   "id": "32527a43-d892-40af-9dc4-ef7bc92c9f8a",
   "metadata": {},
   "outputs": [],
   "source": [
    "An_c = [0, ]\n",
    "for A in An:\n",
    "    An_c.append(An_c[-1] + A)"
   ]
  },
  {
   "cell_type": "code",
   "execution_count": 14,
   "id": "f0f5b491-32e9-45b3-bbe1-cdaa730b25d0",
   "metadata": {},
   "outputs": [],
   "source": [
    "ans = 0\n",
    "r = 1\n",
    "for i in range(1, N+1):\n",
    "    while r <= N:\n",
    "        if An_c[r] - An_c[i-1] > K:\n",
    "            break\n",
    "        r += 1\n",
    "    ans += r - i\n"
   ]
  },
  {
   "cell_type": "code",
   "execution_count": 15,
   "id": "e78cbff5-02dd-489e-9738-705ed7efd329",
   "metadata": {},
   "outputs": [
    {
     "name": "stdout",
     "output_type": "stream",
     "text": [
      "13\n"
     ]
    }
   ],
   "source": [
    "print(ans)"
   ]
  },
  {
   "cell_type": "code",
   "execution_count": 6,
   "id": "b1b62e08-48dd-4c15-b747-f3af5d470958",
   "metadata": {},
   "outputs": [
    {
     "data": {
      "text/plain": [
       "[0, 11, 23, 39, 61, 88, 116, 147]"
      ]
     },
     "execution_count": 6,
     "metadata": {},
     "output_type": "execute_result"
    }
   ],
   "source": [
    "An_c"
   ]
  },
  {
   "cell_type": "code",
   "execution_count": null,
   "id": "066e071f-f1c7-411f-83de-422b482b1be5",
   "metadata": {},
   "outputs": [],
   "source": [
    "# WA"
   ]
  },
  {
   "cell_type": "code",
   "execution_count": 30,
   "id": "e4c695b9-4561-4f2a-b44e-3cc1920f6ef0",
   "metadata": {},
   "outputs": [],
   "source": [
    "from copy import deepcopy\n",
    "An_c = deepcopy(An)\n",
    "An_c.append(10**10)\n",
    "ans = 0\n",
    "r = 0\n",
    "m = 0\n",
    "for i in range(N):\n",
    "    while r < N:\n",
    "        if m + An_c[r] > K:\n",
    "            break\n",
    "        m += An_c[r]\n",
    "        r += 1\n",
    "    ans += r - i\n",
    "    m -= An_c[i]\n"
   ]
  },
  {
   "cell_type": "code",
   "execution_count": 31,
   "id": "9b38f361-44c4-4664-86e0-d0e2a3ed9ce8",
   "metadata": {},
   "outputs": [
    {
     "name": "stdout",
     "output_type": "stream",
     "text": [
      "13\n"
     ]
    }
   ],
   "source": [
    "print(ans)"
   ]
  },
  {
   "cell_type": "code",
   "execution_count": 10,
   "id": "61cc1a3c-50e7-44f4-88ce-f396c0bbbfcc",
   "metadata": {},
   "outputs": [
    {
     "data": {
      "text/plain": [
       "(5, 7)"
      ]
     },
     "execution_count": 10,
     "metadata": {},
     "output_type": "execute_result"
    }
   ],
   "source": [
    "i, r"
   ]
  },
  {
   "cell_type": "code",
   "execution_count": null,
   "id": "64001dfb-726c-4f8a-a843-c1125ee56591",
   "metadata": {},
   "outputs": [],
   "source": []
  }
 ],
 "metadata": {
  "kernelspec": {
   "display_name": "Python 3",
   "language": "python",
   "name": "python3"
  },
  "language_info": {
   "codemirror_mode": {
    "name": "ipython",
    "version": 3
   },
   "file_extension": ".py",
   "mimetype": "text/x-python",
   "name": "python",
   "nbconvert_exporter": "python",
   "pygments_lexer": "ipython3",
   "version": "3.6.13"
  }
 },
 "nbformat": 4,
 "nbformat_minor": 5
}
