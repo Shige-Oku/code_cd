{
 "cells": [
  {
   "cell_type": "code",
   "execution_count": 1,
   "id": "76b69681-9a10-4722-8049-0a24c7a00cbe",
   "metadata": {},
   "outputs": [
    {
     "name": "stdin",
     "output_type": "stream",
     "text": [
      " 7\n"
     ]
    }
   ],
   "source": [
    "N = int(input())"
   ]
  },
  {
   "cell_type": "code",
   "execution_count": 2,
   "id": "b1c61434-de86-4cb0-81cd-a088f97fdffd",
   "metadata": {},
   "outputs": [
    {
     "name": "stdin",
     "output_type": "stream",
     "text": [
      " 1 2 1 2 1 2 1\n"
     ]
    }
   ],
   "source": [
    "An = list(map(int, input().split()))"
   ]
  },
  {
   "cell_type": "code",
   "execution_count": 1,
   "id": "59306343-e663-42f0-b2f1-9cbff0dcaea6",
   "metadata": {},
   "outputs": [],
   "source": [
    "# 組合せの数を算出\n",
    "import math\n",
    "def nCr(n, r):\n",
    "    return math.factorial(n) // (math.factorial(n-r) * math.factorial(r))"
   ]
  },
  {
   "cell_type": "code",
   "execution_count": 10,
   "id": "d20c6e98-4f10-4185-944c-491d43c6df49",
   "metadata": {},
   "outputs": [],
   "source": [
    "from collections import Counter\n",
    "An_c = Counter(An)\n",
    "ans = 0\n",
    "for k, v in An_c.items():\n",
    "    if v < 3:\n",
    "        continue\n",
    "    ans += nCr(v, 3)"
   ]
  },
  {
   "cell_type": "code",
   "execution_count": 11,
   "id": "5cef3b11-75ec-4bac-8f8c-80b0d221d022",
   "metadata": {},
   "outputs": [
    {
     "name": "stdout",
     "output_type": "stream",
     "text": [
      "5\n"
     ]
    }
   ],
   "source": [
    "print(ans)"
   ]
  },
  {
   "cell_type": "code",
   "execution_count": null,
   "id": "9019863f-37fa-40a3-af01-5e6ddd36b279",
   "metadata": {},
   "outputs": [],
   "source": [
    "# nCr コンcビネーション"
   ]
  },
  {
   "cell_type": "code",
   "execution_count": 5,
   "id": "db5a1ea1-fca3-466d-9546-9fe6c8739c3c",
   "metadata": {},
   "outputs": [],
   "source": [
    "def calcFactorial(n, m):\n",
    "    ret = 1\n",
    "    for i in range(1, n+1):\n",
    "        ret *= i\n",
    "        ret %= m\n",
    "    return ret"
   ]
  },
  {
   "cell_type": "code",
   "execution_count": 6,
   "id": "bbde410a-2bfb-4c1c-aa69-8f502b763e1b",
   "metadata": {},
   "outputs": [],
   "source": [
    "def nCr(n, r):\n",
    "    m = 10**9+7\n",
    "    s1 = calcFactorial(n, m)\n",
    "    b1 = calcFactorial(r, m)\n",
    "    b2 = calcFactorial(n-r, m)\n",
    "    b = b1 * b2\n",
    "    b %= m\n",
    "    return s1 * pow(b, m-2, m) % m  "
   ]
  },
  {
   "cell_type": "code",
   "execution_count": 8,
   "id": "02f62937-8136-4806-90b2-8af65b57dad2",
   "metadata": {},
   "outputs": [],
   "source": [
    "from collections import Counter\n",
    "An_c = Counter(An)\n",
    "ans = 0\n",
    "for k, v in An_c.items():\n",
    "    if v < 3:\n",
    "        continue\n",
    "    ans += nCr(v, 3)"
   ]
  },
  {
   "cell_type": "code",
   "execution_count": 9,
   "id": "515a26e9-ef2c-49e5-b1ce-63b8b5db642e",
   "metadata": {},
   "outputs": [
    {
     "name": "stdout",
     "output_type": "stream",
     "text": [
      "5\n"
     ]
    }
   ],
   "source": [
    "print(ans)"
   ]
  },
  {
   "cell_type": "code",
   "execution_count": null,
   "id": "dbb2c3e3-5565-4041-8516-ce72b4f87507",
   "metadata": {},
   "outputs": [],
   "source": []
  }
 ],
 "metadata": {
  "kernelspec": {
   "display_name": "Python 3",
   "language": "python",
   "name": "python3"
  },
  "language_info": {
   "codemirror_mode": {
    "name": "ipython",
    "version": 3
   },
   "file_extension": ".py",
   "mimetype": "text/x-python",
   "name": "python",
   "nbconvert_exporter": "python",
   "pygments_lexer": "ipython3",
   "version": "3.6.13"
  }
 },
 "nbformat": 4,
 "nbformat_minor": 5
}
