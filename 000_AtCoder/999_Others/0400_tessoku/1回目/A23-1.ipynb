{
 "cells": [
  {
   "cell_type": "code",
   "execution_count": 17,
   "id": "163782d5-34e3-472e-8024-d75eacf96c86",
   "metadata": {},
   "outputs": [
    {
     "name": "stdin",
     "output_type": "stream",
     "text": [
      " 10 2\n"
     ]
    }
   ],
   "source": [
    "N, M = map(int, input().split())"
   ]
  },
  {
   "cell_type": "code",
   "execution_count": 18,
   "id": "f890a102-abd6-4340-bbc9-2dc84c50928c",
   "metadata": {},
   "outputs": [
    {
     "name": "stdin",
     "output_type": "stream",
     "text": [
      " 1 1 1 1 0 0 0 0 0 0\n",
      " 0 0 0 0 1 1 1 1 0 0\n"
     ]
    }
   ],
   "source": [
    "An = [list(map(int, input().split())) for _ in range(M)]"
   ]
  },
  {
   "cell_type": "code",
   "execution_count": 20,
   "id": "3fa3d792-6b0a-4575-8e35-b5af886e7dd4",
   "metadata": {},
   "outputs": [],
   "source": [
    "dp = [[10**10] * (2**N) for _ in range(M+1)]\n",
    "dp[0][0] = 0\n",
    "for i in range(1, M+1):\n",
    "    for j in range(2**N):\n",
    "        dp[i][j] = min(dp[i][j], dp[i-1][j])\n",
    "        n = 0\n",
    "        for k, A in enumerate(An[i-1]):\n",
    "            if A == 1:\n",
    "                n += 1<<k\n",
    "        dp[i][j|n] = min(dp[i][j|n], dp[i][j]+1)"
   ]
  },
  {
   "cell_type": "code",
   "execution_count": 21,
   "id": "9f349ca7-da7f-4f7d-a096-fb9648e1fa57",
   "metadata": {},
   "outputs": [
    {
     "name": "stdout",
     "output_type": "stream",
     "text": [
      "-1\n"
     ]
    }
   ],
   "source": [
    "if dp[M][-1] >= 10**10:\n",
    "    print(-1)\n",
    "else:\n",
    "    print(dp[M][-1])"
   ]
  },
  {
   "cell_type": "code",
   "execution_count": 14,
   "id": "329a99fd-a131-413e-a5e9-dd019cb70729",
   "metadata": {},
   "outputs": [
    {
     "data": {
      "text/plain": [
       "(1, 3, 4)"
      ]
     },
     "execution_count": 14,
     "metadata": {},
     "output_type": "execute_result"
    }
   ],
   "source": [
    "i, j, n"
   ]
  },
  {
   "cell_type": "code",
   "execution_count": 5,
   "id": "87fcd3d0-c936-451e-aecf-e5b0beb474d7",
   "metadata": {},
   "outputs": [
    {
     "data": {
      "text/plain": [
       "6"
      ]
     },
     "execution_count": 5,
     "metadata": {},
     "output_type": "execute_result"
    }
   ],
   "source": [
    "4 | 2"
   ]
  },
  {
   "cell_type": "code",
   "execution_count": 10,
   "id": "0ee73cbd-aba4-497c-8e31-35187ab13f76",
   "metadata": {},
   "outputs": [
    {
     "data": {
      "text/plain": [
       "4"
      ]
     },
     "execution_count": 10,
     "metadata": {},
     "output_type": "execute_result"
    }
   ],
   "source": [
    "1<<2"
   ]
  },
  {
   "cell_type": "code",
   "execution_count": null,
   "id": "7990386e-731c-4bce-8d68-76d5e24e0f66",
   "metadata": {},
   "outputs": [],
   "source": []
  }
 ],
 "metadata": {
  "kernelspec": {
   "display_name": "Python 3",
   "language": "python",
   "name": "python3"
  },
  "language_info": {
   "codemirror_mode": {
    "name": "ipython",
    "version": 3
   },
   "file_extension": ".py",
   "mimetype": "text/x-python",
   "name": "python",
   "nbconvert_exporter": "python",
   "pygments_lexer": "ipython3",
   "version": "3.6.13"
  }
 },
 "nbformat": 4,
 "nbformat_minor": 5
}
