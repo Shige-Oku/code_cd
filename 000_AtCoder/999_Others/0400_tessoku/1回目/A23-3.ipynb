{
 "cells": [
  {
   "cell_type": "code",
   "execution_count": 24,
   "id": "f537c98b-be0e-4e30-9ca6-ac52c9b48def",
   "metadata": {},
   "outputs": [
    {
     "name": "stdin",
     "output_type": "stream",
     "text": [
      " 10 2\n"
     ]
    }
   ],
   "source": [
    "N, M = map(int, input().split())"
   ]
  },
  {
   "cell_type": "code",
   "execution_count": 25,
   "id": "35cecb7c-8869-4dda-b458-a05e7d3b6d45",
   "metadata": {},
   "outputs": [
    {
     "name": "stdin",
     "output_type": "stream",
     "text": [
      " 1 1 1 1 0 0 0 0 0 0\n",
      " 0 0 0 0 1 1 1 1 0 0\n"
     ]
    }
   ],
   "source": [
    "An = [list(map(int, input().split())) for _ in range(M)]"
   ]
  },
  {
   "cell_type": "code",
   "execution_count": 26,
   "id": "5bbe7f8c-d031-41f3-8219-0408a614888e",
   "metadata": {},
   "outputs": [],
   "source": [
    "dp = [[10**10] * 2**N for _ in range(M+1)]\n",
    "dp[0][0] = 0\n",
    "for i in range(1, M+1):\n",
    "    for j in range(2**N):\n",
    "        dp[i][j] = min(dp[i][j], dp[i-1][j])\n",
    "        v = 0\n",
    "        for k, A in enumerate(An[i-1]):\n",
    "            if A == 1:\n",
    "                v += 1 << k\n",
    "        dp[i][j|v] = min(dp[i][j|v], dp[i-1][j]+1)"
   ]
  },
  {
   "cell_type": "code",
   "execution_count": 27,
   "id": "8b108f0f-4692-4a23-9301-1d3001ba6be3",
   "metadata": {},
   "outputs": [
    {
     "name": "stdout",
     "output_type": "stream",
     "text": [
      "-1\n"
     ]
    }
   ],
   "source": [
    "if dp[-1][-1] == 10**10:\n",
    "    print(-1)\n",
    "else:\n",
    "    print(dp[-1][-1])"
   ]
  },
  {
   "cell_type": "code",
   "execution_count": 17,
   "id": "7d0a253b-185f-402e-abbf-76ed4cd13b3e",
   "metadata": {},
   "outputs": [
    {
     "data": {
      "text/plain": [
       "(2, [0, 1, 0])"
      ]
     },
     "execution_count": 17,
     "metadata": {},
     "output_type": "execute_result"
    }
   ],
   "source": [
    "1 << 1, An[1]"
   ]
  },
  {
   "cell_type": "code",
   "execution_count": 16,
   "id": "2ea02ebb-e978-4f4a-b14b-3d65c2bb9142",
   "metadata": {},
   "outputs": [
    {
     "data": {
      "text/plain": [
       "[[0,\n",
       "  10000000000,\n",
       "  10000000000,\n",
       "  10000000000,\n",
       "  10000000000,\n",
       "  10000000000,\n",
       "  10000000000,\n",
       "  10000000000],\n",
       " [0,\n",
       "  10000000000,\n",
       "  10000000000,\n",
       "  10000000000,\n",
       "  10000000000,\n",
       "  10000000000,\n",
       "  10000000000,\n",
       "  10000000000],\n",
       " [0,\n",
       "  10000000000,\n",
       "  10000000000,\n",
       "  10000000000,\n",
       "  10000000000,\n",
       "  10000000000,\n",
       "  10000000000,\n",
       "  10000000000],\n",
       " [0,\n",
       "  10000000000,\n",
       "  10000000000,\n",
       "  10000000000,\n",
       "  10000000000,\n",
       "  10000000000,\n",
       "  10000000000,\n",
       "  10000000000],\n",
       " [0,\n",
       "  10000000000,\n",
       "  10000000000,\n",
       "  10000000000,\n",
       "  10000000000,\n",
       "  10000000000,\n",
       "  10000000000,\n",
       "  10000000000]]"
      ]
     },
     "execution_count": 16,
     "metadata": {},
     "output_type": "execute_result"
    }
   ],
   "source": [
    "dp"
   ]
  },
  {
   "cell_type": "code",
   "execution_count": null,
   "id": "3751f9d7-2df6-4920-bee2-ffc77c3b4e98",
   "metadata": {},
   "outputs": [],
   "source": []
  }
 ],
 "metadata": {
  "kernelspec": {
   "display_name": "Python 3",
   "language": "python",
   "name": "python3"
  },
  "language_info": {
   "codemirror_mode": {
    "name": "ipython",
    "version": 3
   },
   "file_extension": ".py",
   "mimetype": "text/x-python",
   "name": "python",
   "nbconvert_exporter": "python",
   "pygments_lexer": "ipython3",
   "version": "3.6.13"
  }
 },
 "nbformat": 4,
 "nbformat_minor": 5
}
