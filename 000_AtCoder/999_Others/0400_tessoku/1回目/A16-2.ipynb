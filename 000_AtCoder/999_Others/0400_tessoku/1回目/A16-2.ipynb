{
 "cells": [
  {
   "cell_type": "code",
   "execution_count": 6,
   "id": "4960d62c-8031-4874-be94-49242ba8fd5f",
   "metadata": {},
   "outputs": [
    {
     "name": "stdin",
     "output_type": "stream",
     "text": [
      " 10\n"
     ]
    }
   ],
   "source": [
    "N = int(input())"
   ]
  },
  {
   "cell_type": "code",
   "execution_count": 7,
   "id": "3aff659d-2220-4944-b7a7-53df71f6175f",
   "metadata": {},
   "outputs": [
    {
     "name": "stdin",
     "output_type": "stream",
     "text": [
      " 1 19 75 37 17 16 33 18 22\n"
     ]
    }
   ],
   "source": [
    "An = list(map(int, input().split()))"
   ]
  },
  {
   "cell_type": "code",
   "execution_count": 8,
   "id": "b7077c23-7cc7-4d8e-b8d4-69b3fef49df3",
   "metadata": {},
   "outputs": [
    {
     "name": "stdin",
     "output_type": "stream",
     "text": [
      " 41 28 89 74 98 43 42 31\n"
     ]
    }
   ],
   "source": [
    "Bn = list(map(int, input().split()))"
   ]
  },
  {
   "cell_type": "code",
   "execution_count": 9,
   "id": "b65016ff-e639-4f91-8c0a-c06c3b210cf1",
   "metadata": {},
   "outputs": [],
   "source": [
    "dp = [10**10] * (N+1)\n",
    "dp[:2] = 0, 0\n",
    "for i in range(1, N):\n",
    "    dp[i+1] = min(dp[i+1], dp[i]+An[i-1])\n",
    "    if i < N - 1:\n",
    "        dp[i+2] = min(dp[i+2], dp[i]+Bn[i-1])"
   ]
  },
  {
   "cell_type": "code",
   "execution_count": 10,
   "id": "8043fbc7-b1b3-4c7c-9cd4-b60ccceb58f9",
   "metadata": {},
   "outputs": [
    {
     "name": "stdout",
     "output_type": "stream",
     "text": [
      "157\n"
     ]
    }
   ],
   "source": [
    "print(dp[N])"
   ]
  },
  {
   "cell_type": "code",
   "execution_count": null,
   "id": "db2d5fe6-36d0-42c5-b755-b092074c2533",
   "metadata": {},
   "outputs": [],
   "source": []
  }
 ],
 "metadata": {
  "kernelspec": {
   "display_name": "Python 3",
   "language": "python",
   "name": "python3"
  },
  "language_info": {
   "codemirror_mode": {
    "name": "ipython",
    "version": 3
   },
   "file_extension": ".py",
   "mimetype": "text/x-python",
   "name": "python",
   "nbconvert_exporter": "python",
   "pygments_lexer": "ipython3",
   "version": "3.6.13"
  }
 },
 "nbformat": 4,
 "nbformat_minor": 5
}
