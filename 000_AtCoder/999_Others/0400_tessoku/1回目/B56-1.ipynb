{
 "cells": [
  {
   "cell_type": "code",
   "execution_count": 1,
   "id": "d95afd18-153c-4f8f-a5cb-7f4714edf1a0",
   "metadata": {},
   "outputs": [
    {
     "name": "stdin",
     "output_type": "stream",
     "text": [
      " 11 3\n"
     ]
    }
   ],
   "source": [
    "N, Q = map(int, input().split())"
   ]
  },
  {
   "cell_type": "code",
   "execution_count": 2,
   "id": "b5c1caf0-3f03-4381-9157-1153355f8414",
   "metadata": {},
   "outputs": [
    {
     "name": "stdin",
     "output_type": "stream",
     "text": [
      " mississippi\n"
     ]
    }
   ],
   "source": [
    "S = input()"
   ]
  },
  {
   "cell_type": "code",
   "execution_count": 3,
   "id": "4ab7df6b-0083-4970-b18c-73afffc2d52f",
   "metadata": {},
   "outputs": [
    {
     "name": "stdin",
     "output_type": "stream",
     "text": [
      " 5 8\n",
      " 6 10\n",
      " 2 8\n"
     ]
    }
   ],
   "source": [
    "LRq = [list(map(int, input().split())) for _ in range(Q)]"
   ]
  },
  {
   "cell_type": "code",
   "execution_count": 23,
   "id": "8b46de7f-1372-46f4-92dd-a3fce4d9143b",
   "metadata": {},
   "outputs": [],
   "source": [
    "MOD = 10**9+7\n",
    "ha1 = [0] * (N+1)\n",
    "now = 0\n",
    "for i, s in enumerate(S, 1):\n",
    "    v = ord(s) - ord('a') + 1\n",
    "    now *= 100\n",
    "    now += v\n",
    "    now %= MOD\n",
    "    ha1[i] = now\n",
    "ha2 = [0] * (N+1)\n",
    "now = 0\n",
    "for i, s in enumerate(S[::-1], 1):\n",
    "    v = ord(s) - ord('a') + 1\n",
    "    now *= 100\n",
    "    now += v\n",
    "    now %= MOD\n",
    "    ha2[i] = now\n",
    "# ha2.append(0)"
   ]
  },
  {
   "cell_type": "code",
   "execution_count": 25,
   "id": "c44c270a-5533-4ad8-96fd-f2cc03f95e9f",
   "metadata": {},
   "outputs": [
    {
     "name": "stdout",
     "output_type": "stream",
     "text": [
      "Yes\n",
      "No\n",
      "Yes\n"
     ]
    }
   ],
   "source": [
    "for L, R in LRq:\n",
    "    haf = ha1[R] - pow(100, R-L+1, MOD) * ha1[L-1]\n",
    "    haf %= MOD\n",
    "    hab = ha2[N-L+1] - pow(100, R-L+1, MOD) * ha2[N-R]\n",
    "    hab %= MOD\n",
    "    print('Yes' if haf == hab else 'No')\n"
   ]
  },
  {
   "cell_type": "code",
   "execution_count": 20,
   "id": "6790bd33-100b-4d22-965d-6511d3ecf177",
   "metadata": {},
   "outputs": [
    {
     "data": {
      "text/plain": [
       "([0,\n",
       "  13,\n",
       "  1309,\n",
       "  130919,\n",
       "  13091919,\n",
       "  309191902,\n",
       "  919190009,\n",
       "  919000282,\n",
       "  900027572,\n",
       "  2756586,\n",
       "  275658616,\n",
       "  565861420],\n",
       " [792801474,\n",
       "  777928020,\n",
       "  277779282,\n",
       "  912777799,\n",
       "  609127782,\n",
       "  616091282,\n",
       "  916160919,\n",
       "  9161609,\n",
       "  91616,\n",
       "  916,\n",
       "  9,\n",
       "  0])"
      ]
     },
     "execution_count": 20,
     "metadata": {},
     "output_type": "execute_result"
    }
   ],
   "source": [
    "ha1, ha2"
   ]
  },
  {
   "cell_type": "code",
   "execution_count": 11,
   "id": "2dc2fcff-ba90-43d1-b599-2303da2507bf",
   "metadata": {},
   "outputs": [
    {
     "data": {
      "text/plain": [
       "(12, 13)"
      ]
     },
     "execution_count": 11,
     "metadata": {},
     "output_type": "execute_result"
    }
   ],
   "source": [
    "len(ha1), len(ha2)"
   ]
  },
  {
   "cell_type": "code",
   "execution_count": null,
   "id": "f5a8c55d-89b1-455f-8697-1576979aa914",
   "metadata": {},
   "outputs": [],
   "source": []
  }
 ],
 "metadata": {
  "kernelspec": {
   "display_name": "Python 3",
   "language": "python",
   "name": "python3"
  },
  "language_info": {
   "codemirror_mode": {
    "name": "ipython",
    "version": 3
   },
   "file_extension": ".py",
   "mimetype": "text/x-python",
   "name": "python",
   "nbconvert_exporter": "python",
   "pygments_lexer": "ipython3",
   "version": "3.6.13"
  }
 },
 "nbformat": 4,
 "nbformat_minor": 5
}
