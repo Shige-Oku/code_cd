{
 "cells": [
  {
   "cell_type": "code",
   "execution_count": 6,
   "id": "00d5a2af-7620-4fad-b9ba-f8f4be7579dc",
   "metadata": {},
   "outputs": [
    {
     "name": "stdin",
     "output_type": "stream",
     "text": [
      " 4 B\n"
     ]
    }
   ],
   "source": [
    "N, C = input().split()"
   ]
  },
  {
   "cell_type": "code",
   "execution_count": 2,
   "id": "644b3e1b-2fb8-4ae0-b444-a4cb86a5f3d2",
   "metadata": {},
   "outputs": [
    {
     "name": "stdin",
     "output_type": "stream",
     "text": [
      " WBBR\n"
     ]
    }
   ],
   "source": [
    "S = input()"
   ]
  },
  {
   "cell_type": "code",
   "execution_count": 9,
   "id": "de05a126-b390-4ad4-b3f3-1b101d2a72d3",
   "metadata": {},
   "outputs": [],
   "source": [
    "if C == 'W':\n",
    "    cn = 0\n",
    "elif C == 'B':\n",
    "    cn = 1\n",
    "else:\n",
    "    cn = 2\n",
    "sn = []\n",
    "for s in S:\n",
    "    if s == 'W':\n",
    "        sn.append(0)\n",
    "    elif s == 'B':\n",
    "        sn.append(1)\n",
    "    else:\n",
    "        sn.append(2)"
   ]
  },
  {
   "cell_type": "code",
   "execution_count": 10,
   "id": "8b6a54b9-bf96-4599-97ce-6affbc66e4ad",
   "metadata": {},
   "outputs": [
    {
     "name": "stdout",
     "output_type": "stream",
     "text": [
      "Yes\n"
     ]
    }
   ],
   "source": [
    "print('Yes' if sum(sn)%3 == cn else 'No')"
   ]
  },
  {
   "cell_type": "code",
   "execution_count": 5,
   "id": "d7374d09-ba1f-42dc-92ed-945a82752295",
   "metadata": {},
   "outputs": [
    {
     "data": {
      "text/plain": [
       "(2, [0, 1, 1, 2])"
      ]
     },
     "execution_count": 5,
     "metadata": {},
     "output_type": "execute_result"
    }
   ],
   "source": [
    "cn, sn"
   ]
  },
  {
   "cell_type": "code",
   "execution_count": null,
   "id": "1dbfa9d6-c3bb-49e6-b41a-b3a32ebdfd2f",
   "metadata": {},
   "outputs": [],
   "source": []
  }
 ],
 "metadata": {
  "kernelspec": {
   "display_name": "Python 3",
   "language": "python",
   "name": "python3"
  },
  "language_info": {
   "codemirror_mode": {
    "name": "ipython",
    "version": 3
   },
   "file_extension": ".py",
   "mimetype": "text/x-python",
   "name": "python",
   "nbconvert_exporter": "python",
   "pygments_lexer": "ipython3",
   "version": "3.6.13"
  }
 },
 "nbformat": 4,
 "nbformat_minor": 5
}
