{
 "cells": [
  {
   "cell_type": "code",
   "execution_count": 1,
   "id": "036050c3-05a6-4d0c-9340-48aa4c91a7d6",
   "metadata": {},
   "outputs": [
    {
     "name": "stdin",
     "output_type": "stream",
     "text": [
      " 5 5 2\n"
     ]
    }
   ],
   "source": [
    "H, W, N = map(int, input().split())"
   ]
  },
  {
   "cell_type": "code",
   "execution_count": 3,
   "id": "d1808232-5558-419c-8c0f-ab33db282369",
   "metadata": {},
   "outputs": [
    {
     "name": "stdin",
     "output_type": "stream",
     "text": [
      " 1 1 3 3\n",
      " 2 2 4 4\n"
     ]
    }
   ],
   "source": [
    "ABCDn = [list(map(int, input().split())) for _ in range(N)]"
   ]
  },
  {
   "cell_type": "code",
   "execution_count": 21,
   "id": "5f9ea9a5-d117-4a90-a164-809d708205c5",
   "metadata": {},
   "outputs": [],
   "source": [
    "snow = [[0] * (W+2) for _ in range(H+2)]\n",
    "for A, B, C, D in ABCDn:\n",
    "    snow[A][B] += 1\n",
    "    snow[A][D+1] -= 1\n",
    "    snow[C+1][B] -= 1\n",
    "    snow[C+1][D+1] += 1"
   ]
  },
  {
   "cell_type": "code",
   "execution_count": 22,
   "id": "2fb9a98e-327b-4fa5-8c6d-8de231e3ea8a",
   "metadata": {},
   "outputs": [],
   "source": [
    "for h in range(1, H+1):\n",
    "    for w in range(1, W+1):\n",
    "        snow[h][w] += snow[h][w-1]\n",
    "for w in range(1, W+1):\n",
    "    for h in range(1, H+1):\n",
    "        snow[h][w] += snow[h-1][w]\n"
   ]
  },
  {
   "cell_type": "code",
   "execution_count": 23,
   "id": "1eee9b2e-82a3-40b6-9457-aa5238e18bf6",
   "metadata": {},
   "outputs": [
    {
     "name": "stdout",
     "output_type": "stream",
     "text": [
      "1 1 1 0 0\n",
      "1 2 2 1 0\n",
      "1 2 2 1 0\n",
      "0 1 1 1 0\n",
      "0 0 0 0 0\n"
     ]
    }
   ],
   "source": [
    "for s in snow[1:-1]:\n",
    "    print(*s[1:-1])"
   ]
  },
  {
   "cell_type": "code",
   "execution_count": 18,
   "id": "59725f2f-b21b-4659-994d-684d585af924",
   "metadata": {},
   "outputs": [
    {
     "data": {
      "text/plain": [
       "[[0, 0, 0, 0, 0, 0],\n",
       " [0, 1, 1, 1, 0, 0],\n",
       " [0, 1, 2, 2, 1, 0],\n",
       " [0, 1, 2, 2, 1, 0],\n",
       " [0, 0, 1, 1, 1, 0],\n",
       " [0, 0, 0, 0, 0, 0]]"
      ]
     },
     "execution_count": 18,
     "metadata": {},
     "output_type": "execute_result"
    }
   ],
   "source": [
    "snow"
   ]
  },
  {
   "cell_type": "code",
   "execution_count": null,
   "id": "45afb126-acd9-467a-9967-b75b1f3dad0c",
   "metadata": {},
   "outputs": [],
   "source": []
  },
  {
   "cell_type": "code",
   "execution_count": 6,
   "id": "fc483fe1-9d62-46b3-a5fe-8fdecfba9d4b",
   "metadata": {},
   "outputs": [],
   "source": [
    "snow_c = [[0] * (W+1) for _ in range(H+1)]\n",
    "for h in range(1, H+1):\n",
    "    for w in range(1, W+1):\n",
    "        snow_c[h][w] += snow[h][w-1]\n",
    "for w in range(1, W+1):\n",
    "    for w in range(1, H+1):\n",
    "        snow_c[h][w] += snow[h-1][w]\n"
   ]
  }
 ],
 "metadata": {
  "kernelspec": {
   "display_name": "Python 3",
   "language": "python",
   "name": "python3"
  },
  "language_info": {
   "codemirror_mode": {
    "name": "ipython",
    "version": 3
   },
   "file_extension": ".py",
   "mimetype": "text/x-python",
   "name": "python",
   "nbconvert_exporter": "python",
   "pygments_lexer": "ipython3",
   "version": "3.6.13"
  }
 },
 "nbformat": 4,
 "nbformat_minor": 5
}
