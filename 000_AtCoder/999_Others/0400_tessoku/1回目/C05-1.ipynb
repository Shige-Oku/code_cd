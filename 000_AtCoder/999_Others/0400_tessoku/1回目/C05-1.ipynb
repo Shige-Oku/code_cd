{
 "cells": [
  {
   "cell_type": "code",
   "execution_count": 1,
   "id": "27e2c590-ae3d-453a-8f3d-5dbd0d9c6c87",
   "metadata": {},
   "outputs": [
    {
     "name": "stdin",
     "output_type": "stream",
     "text": [
      " 5\n"
     ]
    }
   ],
   "source": [
    "N = int(input())"
   ]
  },
  {
   "cell_type": "code",
   "execution_count": 7,
   "id": "01ae4ccf-6345-42a9-9555-ad808bb2615c",
   "metadata": {},
   "outputs": [
    {
     "name": "stdout",
     "output_type": "stream",
     "text": [
      "4444444744\n"
     ]
    }
   ],
   "source": [
    "ans = '{:010b}'.format(N-1)\n",
    "print(ans.replace('1', '7').replace('0', '4'))"
   ]
  },
  {
   "cell_type": "code",
   "execution_count": 6,
   "id": "684ef497-11e7-4216-b856-6de543309294",
   "metadata": {},
   "outputs": [
    {
     "data": {
      "text/plain": [
       "'0000000100'"
      ]
     },
     "execution_count": 6,
     "metadata": {},
     "output_type": "execute_result"
    }
   ],
   "source": [
    "'{:010b}'.format(N-1)"
   ]
  },
  {
   "cell_type": "code",
   "execution_count": null,
   "id": "6f722819-5968-4d1c-a31a-de66d69f37f1",
   "metadata": {},
   "outputs": [],
   "source": []
  }
 ],
 "metadata": {
  "kernelspec": {
   "display_name": "Python 3",
   "language": "python",
   "name": "python3"
  },
  "language_info": {
   "codemirror_mode": {
    "name": "ipython",
    "version": 3
   },
   "file_extension": ".py",
   "mimetype": "text/x-python",
   "name": "python",
   "nbconvert_exporter": "python",
   "pygments_lexer": "ipython3",
   "version": "3.6.13"
  }
 },
 "nbformat": 4,
 "nbformat_minor": 5
}
