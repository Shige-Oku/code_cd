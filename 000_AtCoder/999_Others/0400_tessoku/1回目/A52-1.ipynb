{
 "cells": [
  {
   "cell_type": "code",
   "execution_count": 1,
   "id": "1226a99f-1535-48d4-bcb2-c615cbc82de6",
   "metadata": {},
   "outputs": [
    {
     "name": "stdin",
     "output_type": "stream",
     "text": [
      " 5\n"
     ]
    }
   ],
   "source": [
    "Q = int(input())"
   ]
  },
  {
   "cell_type": "code",
   "execution_count": 2,
   "id": "d5edb31b-bcf2-49ae-8300-89995048aac2",
   "metadata": {},
   "outputs": [
    {
     "name": "stdin",
     "output_type": "stream",
     "text": [
      " 1 taro\n",
      " 1 hanako\n",
      " 2\n",
      " 3\n",
      " 2\n"
     ]
    }
   ],
   "source": [
    "Qn = [input().split() for _ in range(Q)]"
   ]
  },
  {
   "cell_type": "code",
   "execution_count": 4,
   "id": "d027b954-ac57-494e-80fb-305c4933fd6f",
   "metadata": {},
   "outputs": [
    {
     "name": "stdout",
     "output_type": "stream",
     "text": [
      "taro\n",
      "hanako\n"
     ]
    }
   ],
   "source": [
    "from collections import deque\n",
    "que = deque()\n",
    "for q in Qn:\n",
    "    if q[0] == '1':\n",
    "        que.append(q[1])\n",
    "    elif q[0] == '2':\n",
    "        print(que[0])\n",
    "    else:\n",
    "        que.popleft()"
   ]
  },
  {
   "cell_type": "code",
   "execution_count": null,
   "id": "134fef3c-8a7d-49a2-b1ca-e0136008d62c",
   "metadata": {},
   "outputs": [],
   "source": []
  }
 ],
 "metadata": {
  "kernelspec": {
   "display_name": "Python 3",
   "language": "python",
   "name": "python3"
  },
  "language_info": {
   "codemirror_mode": {
    "name": "ipython",
    "version": 3
   },
   "file_extension": ".py",
   "mimetype": "text/x-python",
   "name": "python",
   "nbconvert_exporter": "python",
   "pygments_lexer": "ipython3",
   "version": "3.6.13"
  }
 },
 "nbformat": 4,
 "nbformat_minor": 5
}
