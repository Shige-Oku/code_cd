{
 "cells": [
  {
   "cell_type": "code",
   "execution_count": 9,
   "id": "05ab38a4-a883-4b62-b9a4-2b217cda03e2",
   "metadata": {},
   "outputs": [
    {
     "name": "stdin",
     "output_type": "stream",
     "text": [
      " 5\n"
     ]
    }
   ],
   "source": [
    "N = int(input())"
   ]
  },
  {
   "cell_type": "code",
   "execution_count": 10,
   "id": "347ef06b-aa00-4b41-9512-c3eba13f11d1",
   "metadata": {},
   "outputs": [
    {
     "name": "stdin",
     "output_type": "stream",
     "text": [
      " RBRBR\n"
     ]
    }
   ],
   "source": [
    "S = input()"
   ]
  },
  {
   "cell_type": "code",
   "execution_count": 11,
   "id": "06fed42a-a345-43f6-8748-1296c77cc0a4",
   "metadata": {},
   "outputs": [
    {
     "name": "stdout",
     "output_type": "stream",
     "text": [
      "No\n"
     ]
    }
   ],
   "source": [
    "c = max(S.count('RRR'), S.count('BBB'))\n",
    "print('Yes' if c > 0 else 'No')"
   ]
  },
  {
   "cell_type": "code",
   "execution_count": 8,
   "id": "8bb79b85-a320-4509-a88b-22cec843d433",
   "metadata": {},
   "outputs": [
    {
     "data": {
      "text/plain": [
       "(0, 1)"
      ]
     },
     "execution_count": 8,
     "metadata": {},
     "output_type": "execute_result"
    }
   ],
   "source": [
    "S.count('RRR'), S.count('BBB')"
   ]
  },
  {
   "cell_type": "code",
   "execution_count": null,
   "id": "e7747f87-3881-4986-8745-f05202d3d225",
   "metadata": {},
   "outputs": [],
   "source": []
  }
 ],
 "metadata": {
  "kernelspec": {
   "display_name": "Python 3",
   "language": "python",
   "name": "python3"
  },
  "language_info": {
   "codemirror_mode": {
    "name": "ipython",
    "version": 3
   },
   "file_extension": ".py",
   "mimetype": "text/x-python",
   "name": "python",
   "nbconvert_exporter": "python",
   "pygments_lexer": "ipython3",
   "version": "3.6.13"
  }
 },
 "nbformat": 4,
 "nbformat_minor": 5
}
