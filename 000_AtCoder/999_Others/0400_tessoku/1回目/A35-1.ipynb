{
 "cells": [
  {
   "cell_type": "code",
   "execution_count": 2,
   "id": "1068cfb7-c0c9-4c90-93ef-7a4916b57b4e",
   "metadata": {},
   "outputs": [
    {
     "name": "stdin",
     "output_type": "stream",
     "text": [
      " 4\n"
     ]
    }
   ],
   "source": [
    "N = int(input())"
   ]
  },
  {
   "cell_type": "code",
   "execution_count": 3,
   "id": "ac56c38a-3917-44e5-a2c1-96c0d6b1320f",
   "metadata": {},
   "outputs": [
    {
     "name": "stdin",
     "output_type": "stream",
     "text": [
      " 20 10 30 40\n"
     ]
    }
   ],
   "source": [
    "An = list(map(int, input().split()))"
   ]
  },
  {
   "cell_type": "code",
   "execution_count": 13,
   "id": "5427ca96-bca1-45a3-af81-622f3dd81fad",
   "metadata": {},
   "outputs": [],
   "source": [
    "dp = [[0] * (N) for _ in range(N)]\n",
    "for i in range(N):\n",
    "    dp[N-1][i] = An[i]\n",
    "for i in range(N-2, -1, -1):\n",
    "    for j in range(i+1):\n",
    "        if i % 2 == 0:\n",
    "            dp[i][j] = max(dp[i+1][j], dp[i+1][j+1])\n",
    "        else:\n",
    "            dp[i][j] = min(dp[i+1][j], dp[i+1][j+1])\n"
   ]
  },
  {
   "cell_type": "code",
   "execution_count": 15,
   "id": "b8ac00c9-a1a5-4e79-9df3-d155b7795187",
   "metadata": {},
   "outputs": [
    {
     "name": "stdout",
     "output_type": "stream",
     "text": [
      "30\n"
     ]
    }
   ],
   "source": [
    "print(dp[0][0])"
   ]
  },
  {
   "cell_type": "code",
   "execution_count": 14,
   "id": "265b52b8-9809-4fc9-9e5f-b8e96c35c562",
   "metadata": {},
   "outputs": [
    {
     "data": {
      "text/plain": [
       "[[30, 0, 0, 0], [20, 30, 0, 0], [20, 30, 40, 0], [20, 10, 30, 40]]"
      ]
     },
     "execution_count": 14,
     "metadata": {},
     "output_type": "execute_result"
    }
   ],
   "source": [
    "dp"
   ]
  },
  {
   "cell_type": "code",
   "execution_count": 10,
   "id": "8066a32b-f355-4650-928b-c64cdb605aee",
   "metadata": {},
   "outputs": [
    {
     "data": {
      "text/plain": [
       "(3, 0)"
      ]
     },
     "execution_count": 10,
     "metadata": {},
     "output_type": "execute_result"
    }
   ],
   "source": [
    "i, j"
   ]
  },
  {
   "cell_type": "code",
   "execution_count": null,
   "id": "1d1dfacf-7e54-4b84-b4c7-808cbc92aee5",
   "metadata": {},
   "outputs": [],
   "source": []
  }
 ],
 "metadata": {
  "kernelspec": {
   "display_name": "Python 3",
   "language": "python",
   "name": "python3"
  },
  "language_info": {
   "codemirror_mode": {
    "name": "ipython",
    "version": 3
   },
   "file_extension": ".py",
   "mimetype": "text/x-python",
   "name": "python",
   "nbconvert_exporter": "python",
   "pygments_lexer": "ipython3",
   "version": "3.6.13"
  }
 },
 "nbformat": 4,
 "nbformat_minor": 5
}
