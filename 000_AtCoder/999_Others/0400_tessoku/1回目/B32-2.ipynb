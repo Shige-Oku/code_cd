{
 "cells": [
  {
   "cell_type": "code",
   "execution_count": 10,
   "id": "3908b25a-4655-4b66-8c97-e80e1fe0fab0",
   "metadata": {},
   "outputs": [
    {
     "name": "stdin",
     "output_type": "stream",
     "text": [
      " 20 3\n"
     ]
    }
   ],
   "source": [
    "N, K = map(int, input().split())"
   ]
  },
  {
   "cell_type": "code",
   "execution_count": 11,
   "id": "538bbd27-55c5-45ca-89e6-e623684d57a9",
   "metadata": {},
   "outputs": [
    {
     "name": "stdin",
     "output_type": "stream",
     "text": [
      " 6 1 3\n"
     ]
    }
   ],
   "source": [
    "An = list(map(int, input().split()))"
   ]
  },
  {
   "cell_type": "code",
   "execution_count": 12,
   "id": "7bd00ba0-02e0-4d3c-b91a-f6ab651eae23",
   "metadata": {},
   "outputs": [],
   "source": [
    "dp = [False] * (N+1)\n",
    "for i in range(N+1):\n",
    "    for A in An:\n",
    "        if i >= A:\n",
    "            if not dp[i-A]:\n",
    "                dp[i] = True"
   ]
  },
  {
   "cell_type": "code",
   "execution_count": 13,
   "id": "c1bc75ad-60fb-4122-beef-aa115ef83164",
   "metadata": {},
   "outputs": [
    {
     "name": "stdout",
     "output_type": "stream",
     "text": [
      "Second\n"
     ]
    }
   ],
   "source": [
    "print('First' if dp[N] else 'Second')"
   ]
  },
  {
   "cell_type": "code",
   "execution_count": null,
   "id": "9c333397-b50a-42ba-840b-4e0e68c889e8",
   "metadata": {},
   "outputs": [],
   "source": []
  }
 ],
 "metadata": {
  "kernelspec": {
   "display_name": "Python 3",
   "language": "python",
   "name": "python3"
  },
  "language_info": {
   "codemirror_mode": {
    "name": "ipython",
    "version": 3
   },
   "file_extension": ".py",
   "mimetype": "text/x-python",
   "name": "python",
   "nbconvert_exporter": "python",
   "pygments_lexer": "ipython3",
   "version": "3.6.13"
  }
 },
 "nbformat": 4,
 "nbformat_minor": 5
}
