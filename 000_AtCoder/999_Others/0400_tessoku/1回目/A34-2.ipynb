{
 "cells": [
  {
   "cell_type": "code",
   "execution_count": 1,
   "id": "844ab7fe-2df2-41e7-8028-87c391d23dfb",
   "metadata": {},
   "outputs": [
    {
     "name": "stdin",
     "output_type": "stream",
     "text": [
      " 2 2 3\n"
     ]
    }
   ],
   "source": [
    "N, X, Y = map(int, input().split())"
   ]
  },
  {
   "cell_type": "code",
   "execution_count": 16,
   "id": "20e70f32-8055-40da-be38-f8423ee59b93",
   "metadata": {},
   "outputs": [
    {
     "name": "stdin",
     "output_type": "stream",
     "text": [
      " 7 8\n"
     ]
    }
   ],
   "source": [
    "An = list(map(int, input().split()))"
   ]
  },
  {
   "cell_type": "code",
   "execution_count": 17,
   "id": "cf44d89e-2b14-4352-a3cd-39b4458a884c",
   "metadata": {},
   "outputs": [],
   "source": [
    "def calcGrundy():\n",
    "    for i in range(max(An)+1):\n",
    "        c = []\n",
    "        if i >= X:\n",
    "            c.append(grundys[i-X])\n",
    "        if i >= Y:\n",
    "            c.append(grundys[i-Y])\n",
    "        for j in range(3):\n",
    "            if j not in c:\n",
    "                grundys[i] = j\n",
    "                break\n",
    "    return "
   ]
  },
  {
   "cell_type": "code",
   "execution_count": 18,
   "id": "b582befe-b81f-4dc3-8f8f-a507cc49bc06",
   "metadata": {},
   "outputs": [
    {
     "name": "stdout",
     "output_type": "stream",
     "text": [
      "Second\n"
     ]
    }
   ],
   "source": [
    "grundys = [0] * (max(An)+1)\n",
    "calcGrundy()\n",
    "gx = 0\n",
    "for A in An:\n",
    "    gx ^= grundys[A]\n",
    "print('First' if gx != 0 else 'Second')"
   ]
  },
  {
   "cell_type": "code",
   "execution_count": 14,
   "id": "ecd2d958-82ec-4f43-b7bd-1733b95f5d0f",
   "metadata": {},
   "outputs": [
    {
     "data": {
      "text/plain": [
       "[0, 0, 1, 1, 2, 0, 0, 1, 1]"
      ]
     },
     "execution_count": 14,
     "metadata": {},
     "output_type": "execute_result"
    }
   ],
   "source": [
    "grundys"
   ]
  },
  {
   "cell_type": "code",
   "execution_count": null,
   "id": "9cbbc2fc-8266-4e45-bf07-b16524087b5f",
   "metadata": {},
   "outputs": [],
   "source": []
  }
 ],
 "metadata": {
  "kernelspec": {
   "display_name": "Python 3",
   "language": "python",
   "name": "python3"
  },
  "language_info": {
   "codemirror_mode": {
    "name": "ipython",
    "version": 3
   },
   "file_extension": ".py",
   "mimetype": "text/x-python",
   "name": "python",
   "nbconvert_exporter": "python",
   "pygments_lexer": "ipython3",
   "version": "3.6.13"
  }
 },
 "nbformat": 4,
 "nbformat_minor": 5
}
