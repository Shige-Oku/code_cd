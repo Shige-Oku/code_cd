{
 "cells": [
  {
   "cell_type": "code",
   "execution_count": 13,
   "id": "a9cf3899-e499-4e6a-84df-58d05610ea6b",
   "metadata": {},
   "outputs": [
    {
     "name": "stdin",
     "output_type": "stream",
     "text": [
      " 10 82\n"
     ]
    }
   ],
   "source": [
    "N, X = map(int, input().split())"
   ]
  },
  {
   "cell_type": "code",
   "execution_count": 5,
   "id": "2b45c9b5-02a0-4e7b-8e7e-914414c78841",
   "metadata": {},
   "outputs": [
    {
     "name": "stdin",
     "output_type": "stream",
     "text": [
      " 10 20 30 40 50 60 70 80 90 100\n"
     ]
    }
   ],
   "source": [
    "An = list(map(int, input().split()))"
   ]
  },
  {
   "cell_type": "code",
   "execution_count": 14,
   "id": "cdf4bdd3-7bb9-4f9b-a5fc-3f0c344d5df9",
   "metadata": {},
   "outputs": [
    {
     "name": "stdout",
     "output_type": "stream",
     "text": [
      "9\n"
     ]
    }
   ],
   "source": [
    "from bisect import bisect_left\n",
    "print(bisect_left(An, X) + 1)"
   ]
  },
  {
   "cell_type": "code",
   "execution_count": 15,
   "id": "75a75902-3ba5-4d3c-aaf8-ad2054a15d24",
   "metadata": {},
   "outputs": [],
   "source": [
    "def my_bisect(n):\n",
    "    l, r = 1, N\n",
    "    while l <= r:\n",
    "        m = (l + r) // 2\n",
    "        if An[m-1] == X:\n",
    "            return m\n",
    "        elif An[m-1] > X:\n",
    "            r = m - 1\n",
    "        else:\n",
    "            l = m + 1\n",
    "    return -1"
   ]
  },
  {
   "cell_type": "code",
   "execution_count": 16,
   "id": "9dd3640a-e7c5-4e4a-ba9a-24e5e79ecb12",
   "metadata": {},
   "outputs": [
    {
     "name": "stdout",
     "output_type": "stream",
     "text": [
      "-1\n"
     ]
    }
   ],
   "source": [
    "print(my_bisect(X))"
   ]
  },
  {
   "cell_type": "code",
   "execution_count": null,
   "id": "4af7037f-fd14-48c3-83da-387911d66d37",
   "metadata": {},
   "outputs": [],
   "source": []
  }
 ],
 "metadata": {
  "kernelspec": {
   "display_name": "Python 3",
   "language": "python",
   "name": "python3"
  },
  "language_info": {
   "codemirror_mode": {
    "name": "ipython",
    "version": 3
   },
   "file_extension": ".py",
   "mimetype": "text/x-python",
   "name": "python",
   "nbconvert_exporter": "python",
   "pygments_lexer": "ipython3",
   "version": "3.6.13"
  }
 },
 "nbformat": 4,
 "nbformat_minor": 5
}
