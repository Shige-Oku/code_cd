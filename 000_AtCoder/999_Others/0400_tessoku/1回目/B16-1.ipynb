{
 "cells": [
  {
   "cell_type": "code",
   "execution_count": 9,
   "id": "ba3beeee-1127-45e1-b6be-1b659b7f2f29",
   "metadata": {},
   "outputs": [
    {
     "name": "stdin",
     "output_type": "stream",
     "text": [
      " 6\n"
     ]
    }
   ],
   "source": [
    "N = int(input())"
   ]
  },
  {
   "cell_type": "code",
   "execution_count": 10,
   "id": "7f28e491-50b1-4f37-a136-b51144583e74",
   "metadata": {},
   "outputs": [
    {
     "name": "stdin",
     "output_type": "stream",
     "text": [
      " 30 10 60 10 60 50\n"
     ]
    }
   ],
   "source": [
    "Hn = list(map(int, input().split()))"
   ]
  },
  {
   "cell_type": "code",
   "execution_count": 11,
   "id": "aad0d4e0-6824-4689-ba80-2f870ff3e9f4",
   "metadata": {},
   "outputs": [],
   "source": [
    "dp = [10**10] * N\n",
    "dp[0] = 0\n",
    "for i in range(1, N):\n",
    "    dp[i] = dp[i-1] + abs(Hn[i] - Hn[i-1])\n",
    "    if i > 1:\n",
    "        dp[i] = min(dp[i], dp[i-2] + abs(Hn[i] - Hn[i-2]))"
   ]
  },
  {
   "cell_type": "code",
   "execution_count": 12,
   "id": "51c74cf9-1552-4aab-be5c-b397374a739b",
   "metadata": {},
   "outputs": [
    {
     "name": "stdout",
     "output_type": "stream",
     "text": [
      "40\n"
     ]
    }
   ],
   "source": [
    "print(dp[-1])"
   ]
  },
  {
   "cell_type": "code",
   "execution_count": null,
   "id": "2eb80e0e-cfba-4b4d-94fd-6a9d1ca7d5d1",
   "metadata": {},
   "outputs": [],
   "source": []
  }
 ],
 "metadata": {
  "kernelspec": {
   "display_name": "Python 3",
   "language": "python",
   "name": "python3"
  },
  "language_info": {
   "codemirror_mode": {
    "name": "ipython",
    "version": 3
   },
   "file_extension": ".py",
   "mimetype": "text/x-python",
   "name": "python",
   "nbconvert_exporter": "python",
   "pygments_lexer": "ipython3",
   "version": "3.6.13"
  }
 },
 "nbformat": 4,
 "nbformat_minor": 5
}
