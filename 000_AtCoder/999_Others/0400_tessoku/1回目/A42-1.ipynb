{
 "cells": [
  {
   "cell_type": "code",
   "execution_count": 1,
   "id": "0f856f97-8c2d-4fc3-9c7b-c9e139c9143f",
   "metadata": {},
   "outputs": [
    {
     "name": "stdin",
     "output_type": "stream",
     "text": [
      " 4 30\n"
     ]
    }
   ],
   "source": [
    "N, K = map(int, input().split())"
   ]
  },
  {
   "cell_type": "code",
   "execution_count": 2,
   "id": "1e29f5e7-b63a-484d-a549-acfe4cde22d3",
   "metadata": {},
   "outputs": [
    {
     "name": "stdin",
     "output_type": "stream",
     "text": [
      " 20 30\n",
      " 10 40\n",
      " 50 10\n",
      " 30 60\n"
     ]
    }
   ],
   "source": [
    "ABn = [list(map(int, input().split())) for _ in range(N)]"
   ]
  },
  {
   "cell_type": "code",
   "execution_count": 13,
   "id": "990f3b49-b62a-4c2e-9420-167a71e0d7ee",
   "metadata": {},
   "outputs": [],
   "source": [
    "def countMember(amin, bmin):\n",
    "    ret = 0\n",
    "    for A, B in ABn:\n",
    "        if A < amin or A > amin + K:\n",
    "            continue\n",
    "        if B < bmin or B > bmin + K:\n",
    "            continue\n",
    "        ret += 1\n",
    "    return ret"
   ]
  },
  {
   "cell_type": "code",
   "execution_count": 14,
   "id": "3362bb1b-840e-42b9-b83d-7ca8d825c0fa",
   "metadata": {},
   "outputs": [],
   "source": [
    "ans = 0\n",
    "for i in range(1, 101):\n",
    "    for j in range(1, 101):\n",
    "        ans = max(ans, countMember(i, j))"
   ]
  },
  {
   "cell_type": "code",
   "execution_count": 15,
   "id": "7c575c99-1da8-4c1e-9061-3109d934f5c6",
   "metadata": {},
   "outputs": [
    {
     "name": "stdout",
     "output_type": "stream",
     "text": [
      "3\n"
     ]
    }
   ],
   "source": [
    "print(ans)"
   ]
  },
  {
   "cell_type": "code",
   "execution_count": 10,
   "id": "22d11156-5de5-4b92-b27a-222829dea73c",
   "metadata": {},
   "outputs": [],
   "source": [
    "def countMember(n):\n",
    "    ret = 1\n",
    "    a, b = ABn[n]\n",
    "    for i, (A, B) in enumerate(ABn):\n",
    "        if i == n:\n",
    "            continue\n",
    "        if A < a - K or A > a + K:\n",
    "            continue\n",
    "        if B < b - K or B > b + K:\n",
    "            continue\n",
    "        ret += 1\n",
    "    return ret"
   ]
  },
  {
   "cell_type": "code",
   "execution_count": 11,
   "id": "72d38788-3555-4027-9c5b-75bad5e84c98",
   "metadata": {},
   "outputs": [],
   "source": [
    "ans = 0\n",
    "for i in range(N):\n",
    "    ans = max(ans, countMember(i))"
   ]
  },
  {
   "cell_type": "code",
   "execution_count": 12,
   "id": "cd1226f7-e6a4-474e-99ab-aec5cf1b9bac",
   "metadata": {},
   "outputs": [
    {
     "name": "stdout",
     "output_type": "stream",
     "text": [
      "4\n"
     ]
    }
   ],
   "source": [
    "print(ans)"
   ]
  },
  {
   "cell_type": "code",
   "execution_count": null,
   "id": "561490d1-6ca8-4ac8-9be2-f391d2c00a63",
   "metadata": {},
   "outputs": [],
   "source": []
  }
 ],
 "metadata": {
  "kernelspec": {
   "display_name": "Python 3",
   "language": "python",
   "name": "python3"
  },
  "language_info": {
   "codemirror_mode": {
    "name": "ipython",
    "version": 3
   },
   "file_extension": ".py",
   "mimetype": "text/x-python",
   "name": "python",
   "nbconvert_exporter": "python",
   "pygments_lexer": "ipython3",
   "version": "3.6.13"
  }
 },
 "nbformat": 4,
 "nbformat_minor": 5
}
