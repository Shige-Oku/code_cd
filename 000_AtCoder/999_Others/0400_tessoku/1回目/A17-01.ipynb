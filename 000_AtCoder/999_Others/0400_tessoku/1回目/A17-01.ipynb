{
 "cells": [
  {
   "cell_type": "code",
   "execution_count": 22,
   "id": "4d132700-2215-4c5e-be9f-bbe539b3919d",
   "metadata": {},
   "outputs": [
    {
     "name": "stdin",
     "output_type": "stream",
     "text": [
      " 10\n"
     ]
    }
   ],
   "source": [
    "N = int(input())"
   ]
  },
  {
   "cell_type": "code",
   "execution_count": 23,
   "id": "10adda76-bb11-4136-bee8-d9739479d96f",
   "metadata": {},
   "outputs": [
    {
     "name": "stdin",
     "output_type": "stream",
     "text": [
      " 1 19 75 37 17 16 33 18 22\n"
     ]
    }
   ],
   "source": [
    "An = list(map(int, input().split()))"
   ]
  },
  {
   "cell_type": "code",
   "execution_count": 24,
   "id": "104cb2f9-e15a-481e-a3ad-1f5d6ae251e5",
   "metadata": {},
   "outputs": [
    {
     "name": "stdin",
     "output_type": "stream",
     "text": [
      " 41 28 89 74 98 43 42 31\n"
     ]
    }
   ],
   "source": [
    "Bn = list(map(int, input().split()))"
   ]
  },
  {
   "cell_type": "code",
   "execution_count": 30,
   "id": "01a229c6-3547-4e66-8b7d-de477cc6260a",
   "metadata": {},
   "outputs": [],
   "source": [
    "dp = [10**10] * (N+1)\n",
    "dp[:2] = 0, 0\n",
    "for i in range(1, N):\n",
    "    dp[i+1] = min(dp[i+1], dp[i] + An[i-1])\n",
    "    if i + 2 <= N:\n",
    "        dp[i+2] = min(dp[i+2], dp[i] + Bn[i-1])\n"
   ]
  },
  {
   "cell_type": "code",
   "execution_count": 31,
   "id": "f6839c63-797c-4ba5-ac1b-6b54394fe473",
   "metadata": {},
   "outputs": [],
   "source": [
    "ans = [N, ]\n",
    "p = N\n",
    "while p != 1:\n",
    "    if dp[p] - An[p-2] == dp[p-1]:\n",
    "        p -= 1\n",
    "        ans.append(p)\n",
    "    else:\n",
    "        p -= 2\n",
    "        ans.append(p)\n",
    "        "
   ]
  },
  {
   "cell_type": "code",
   "execution_count": 32,
   "id": "6150c09e-e028-4cda-a054-9123f0b333e6",
   "metadata": {},
   "outputs": [
    {
     "name": "stdout",
     "output_type": "stream",
     "text": [
      "7\n",
      "1 2 4 5 6 8 10\n"
     ]
    }
   ],
   "source": [
    "print(len(ans))\n",
    "print(*sorted(ans))"
   ]
  },
  {
   "cell_type": "code",
   "execution_count": 29,
   "id": "f46766c7-dfdf-40aa-ab62-58b2b4ffc810",
   "metadata": {},
   "outputs": [
    {
     "data": {
      "text/plain": [
       "[0, 0, 1, 20, 29, 66, 83, 99, 126, 141, 163]"
      ]
     },
     "execution_count": 29,
     "metadata": {},
     "output_type": "execute_result"
    }
   ],
   "source": [
    "dp"
   ]
  },
  {
   "cell_type": "code",
   "execution_count": 18,
   "id": "2f8ad385-3d3c-42c2-b4d2-2772164f9650",
   "metadata": {},
   "outputs": [
    {
     "ename": "IndexError",
     "evalue": "list index out of range",
     "output_type": "error",
     "traceback": [
      "\u001b[1;31m---------------------------------------------------------------------------\u001b[0m",
      "\u001b[1;31mIndexError\u001b[0m                                Traceback (most recent call last)",
      "\u001b[1;32m<ipython-input-18-6cd7c21d7d1c>\u001b[0m in \u001b[0;36m<module>\u001b[1;34m\u001b[0m\n\u001b[1;32m----> 1\u001b[1;33m \u001b[0mp\u001b[0m\u001b[1;33m,\u001b[0m \u001b[0mdp\u001b[0m\u001b[1;33m[\u001b[0m\u001b[0mp\u001b[0m\u001b[1;33m]\u001b[0m\u001b[1;33m,\u001b[0m \u001b[0mAn\u001b[0m\u001b[1;33m[\u001b[0m\u001b[0mp\u001b[0m\u001b[1;33m-\u001b[0m\u001b[1;36m1\u001b[0m\u001b[1;33m]\u001b[0m\u001b[1;33m\u001b[0m\u001b[1;33m\u001b[0m\u001b[0m\n\u001b[0m",
      "\u001b[1;31mIndexError\u001b[0m: list index out of range"
     ]
    }
   ],
   "source": [
    "p, dp[p], An[p-1]"
   ]
  },
  {
   "cell_type": "code",
   "execution_count": null,
   "id": "d26cafcc-547d-4561-879e-145fe02ba977",
   "metadata": {},
   "outputs": [],
   "source": []
  }
 ],
 "metadata": {
  "kernelspec": {
   "display_name": "Python 3",
   "language": "python",
   "name": "python3"
  },
  "language_info": {
   "codemirror_mode": {
    "name": "ipython",
    "version": 3
   },
   "file_extension": ".py",
   "mimetype": "text/x-python",
   "name": "python",
   "nbconvert_exporter": "python",
   "pygments_lexer": "ipython3",
   "version": "3.6.13"
  }
 },
 "nbformat": 4,
 "nbformat_minor": 5
}
