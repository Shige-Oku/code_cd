{
 "cells": [
  {
   "cell_type": "code",
   "execution_count": 32,
   "id": "453614ee-fc73-4ff6-aa84-0e291a455e1e",
   "metadata": {},
   "outputs": [
    {
     "name": "stdin",
     "output_type": "stream",
     "text": [
      " 10 2\n"
     ]
    }
   ],
   "source": [
    "N, M = map(int, input().split())"
   ]
  },
  {
   "cell_type": "code",
   "execution_count": 33,
   "id": "01854523-261e-47a7-befd-713e32829d93",
   "metadata": {},
   "outputs": [
    {
     "name": "stdin",
     "output_type": "stream",
     "text": [
      " 1 1 1 1 0 0 0 0 0 0\n",
      " 0 0 0 0 1 1 1 1 0 0\n"
     ]
    }
   ],
   "source": [
    "An = [list(map(int, input().split())) for _ in range(M)]"
   ]
  },
  {
   "cell_type": "code",
   "execution_count": 34,
   "id": "6f67b819-e382-4e4f-8bfd-b38cfc4296db",
   "metadata": {},
   "outputs": [],
   "source": [
    "dp = [[10**10] * (2**N) for _ in range(M+1)]\n",
    "dp[0][0] = 0\n",
    "for i in range(1, M+1):\n",
    "    v = 0\n",
    "    for b, A in enumerate(An[i-1]):\n",
    "        if A == 1:\n",
    "            v += 2**b\n",
    "    for j in range(2**N):\n",
    "        dp[i][j] = min(dp[i][j], dp[i-1][j])\n",
    "        dp[i][j|v] = min(dp[i][j|v], dp[i-1][j]+1)\n"
   ]
  },
  {
   "cell_type": "code",
   "execution_count": 35,
   "id": "485a3b72-5649-4215-97c3-79f4c62c4566",
   "metadata": {},
   "outputs": [
    {
     "name": "stdout",
     "output_type": "stream",
     "text": [
      "-1\n"
     ]
    }
   ],
   "source": [
    "if dp[-1][-1] == 10**10:\n",
    "    print(-1)\n",
    "else:\n",
    "    print(dp[-1][-1])"
   ]
  },
  {
   "cell_type": "code",
   "execution_count": 24,
   "id": "28965290-c1d7-448e-94a3-6284c53392a8",
   "metadata": {},
   "outputs": [
    {
     "data": {
      "text/plain": [
       "1"
      ]
     },
     "execution_count": 24,
     "metadata": {},
     "output_type": "execute_result"
    }
   ],
   "source": [
    "1<<0"
   ]
  },
  {
   "cell_type": "code",
   "execution_count": 25,
   "id": "de19e805-a826-482e-9239-dca01c17afd1",
   "metadata": {},
   "outputs": [
    {
     "data": {
      "text/plain": [
       "(4, 7, 7)"
      ]
     },
     "execution_count": 25,
     "metadata": {},
     "output_type": "execute_result"
    }
   ],
   "source": [
    "i, j, v"
   ]
  },
  {
   "cell_type": "code",
   "execution_count": null,
   "id": "d20d05ed-fda4-4c8f-a719-7ed6c85f8cf0",
   "metadata": {},
   "outputs": [],
   "source": []
  },
  {
   "cell_type": "code",
   "execution_count": null,
   "id": "5ea0e578-15ba-4bae-a653-a0f7bd43c037",
   "metadata": {},
   "outputs": [],
   "source": []
  }
 ],
 "metadata": {
  "kernelspec": {
   "display_name": "Python 3",
   "language": "python",
   "name": "python3"
  },
  "language_info": {
   "codemirror_mode": {
    "name": "ipython",
    "version": 3
   },
   "file_extension": ".py",
   "mimetype": "text/x-python",
   "name": "python",
   "nbconvert_exporter": "python",
   "pygments_lexer": "ipython3",
   "version": "3.6.13"
  }
 },
 "nbformat": 4,
 "nbformat_minor": 5
}
