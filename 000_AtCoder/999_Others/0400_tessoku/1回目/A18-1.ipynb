{
 "cells": [
  {
   "cell_type": "code",
   "execution_count": 7,
   "id": "8b09a26d-7c94-4516-8670-2b90e9c88345",
   "metadata": {},
   "outputs": [
    {
     "name": "stdin",
     "output_type": "stream",
     "text": [
      " 4 11\n"
     ]
    }
   ],
   "source": [
    "N, S = map(int, input().split())"
   ]
  },
  {
   "cell_type": "code",
   "execution_count": 8,
   "id": "0fd205ca-f0b8-4f74-97c9-1cd1c5ff3352",
   "metadata": {},
   "outputs": [
    {
     "name": "stdin",
     "output_type": "stream",
     "text": [
      " 3 1 4 5\n"
     ]
    }
   ],
   "source": [
    "An = list(map(int, input().split()))"
   ]
  },
  {
   "cell_type": "code",
   "execution_count": 9,
   "id": "1b440a7b-b6c4-4bd0-8e3e-e4dd9bd9be0a",
   "metadata": {},
   "outputs": [],
   "source": [
    "dp = [[False] * (S+1) for _ in range(N+1)]\n",
    "dp[0][0] = True\n",
    "for i, A in enumerate(An, 1):\n",
    "    for j in range(S+1):\n",
    "        if dp[i-1][j]:\n",
    "            dp[i][j] = True\n",
    "            if j + A <= S:\n",
    "                dp[i][j+A] = True"
   ]
  },
  {
   "cell_type": "code",
   "execution_count": 10,
   "id": "d4d60eb9-2825-4742-9ec0-7af1bc445ef6",
   "metadata": {},
   "outputs": [
    {
     "name": "stdout",
     "output_type": "stream",
     "text": [
      "No\n"
     ]
    }
   ],
   "source": [
    "print('Yes' if dp[N][S] else 'No')"
   ]
  },
  {
   "cell_type": "code",
   "execution_count": null,
   "id": "f8ccbda2-d5fc-4ef2-a70f-8cd78cb57222",
   "metadata": {},
   "outputs": [],
   "source": []
  }
 ],
 "metadata": {
  "kernelspec": {
   "display_name": "Python 3",
   "language": "python",
   "name": "python3"
  },
  "language_info": {
   "codemirror_mode": {
    "name": "ipython",
    "version": 3
   },
   "file_extension": ".py",
   "mimetype": "text/x-python",
   "name": "python",
   "nbconvert_exporter": "python",
   "pygments_lexer": "ipython3",
   "version": "3.6.13"
  }
 },
 "nbformat": 4,
 "nbformat_minor": 5
}
