{
 "cells": [
  {
   "cell_type": "code",
   "execution_count": 1,
   "id": "96b20777-6802-46ae-9a9f-ec42b7a2f29b",
   "metadata": {},
   "outputs": [
    {
     "name": "stdin",
     "output_type": "stream",
     "text": [
      " 3\n"
     ]
    }
   ],
   "source": [
    "Q = int(input())"
   ]
  },
  {
   "cell_type": "code",
   "execution_count": 2,
   "id": "2a6972d3-bb4f-4590-a065-3037c2d8c718",
   "metadata": {},
   "outputs": [
    {
     "name": "stdin",
     "output_type": "stream",
     "text": [
      " 1 77\n",
      " 3 40\n",
      " 3 80\n"
     ]
    }
   ],
   "source": [
    "Qn = [list(map(int, input().split())) for _ in range(Q)]"
   ]
  },
  {
   "cell_type": "code",
   "execution_count": 3,
   "id": "3371fcf8-7b0d-4ef7-ae45-9928e0e8c4f3",
   "metadata": {},
   "outputs": [],
   "source": [
    "def getMax(n):\n",
    "    ret = 10**20\n",
    "    for s1 in s:\n",
    "        if s1 < n:\n",
    "            continue\n",
    "        ret = min(ret, s1)\n",
    "    return -1 if ret == 10**20 else ret "
   ]
  },
  {
   "cell_type": "code",
   "execution_count": 4,
   "id": "8822c685-def8-4771-b0d3-7c200bae8b8c",
   "metadata": {},
   "outputs": [
    {
     "name": "stdout",
     "output_type": "stream",
     "text": [
      "77\n",
      "-1\n"
     ]
    }
   ],
   "source": [
    "s = set()\n",
    "for op, v in Qn:\n",
    "    if op == 1:\n",
    "        s.add(v)\n",
    "    elif op == 2:\n",
    "        s.remove(v)\n",
    "    else:\n",
    "        print(getMax(v))"
   ]
  },
  {
   "cell_type": "code",
   "execution_count": null,
   "id": "83069926-e232-4701-bf00-e48aafb41a3c",
   "metadata": {},
   "outputs": [],
   "source": []
  }
 ],
 "metadata": {
  "kernelspec": {
   "display_name": "Python 3",
   "language": "python",
   "name": "python3"
  },
  "language_info": {
   "codemirror_mode": {
    "name": "ipython",
    "version": 3
   },
   "file_extension": ".py",
   "mimetype": "text/x-python",
   "name": "python",
   "nbconvert_exporter": "python",
   "pygments_lexer": "ipython3",
   "version": "3.6.13"
  }
 },
 "nbformat": 4,
 "nbformat_minor": 5
}
