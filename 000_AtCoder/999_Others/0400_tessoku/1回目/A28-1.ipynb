{
 "cells": [
  {
   "cell_type": "code",
   "execution_count": 1,
   "id": "c53f37d5-d73d-4e30-9fce-aa3c5bceb8ef",
   "metadata": {},
   "outputs": [
    {
     "name": "stdin",
     "output_type": "stream",
     "text": [
      " 4\n"
     ]
    }
   ],
   "source": [
    "N = int(input())"
   ]
  },
  {
   "cell_type": "code",
   "execution_count": 2,
   "id": "4b1c4d0c-4d82-4da7-b65a-8a334f1700e8",
   "metadata": {},
   "outputs": [
    {
     "name": "stdin",
     "output_type": "stream",
     "text": [
      " + 57\n",
      " + 43\n",
      " * 100\n",
      " - 1\n"
     ]
    }
   ],
   "source": [
    "TAn = [list(input().split()) for _ in range(N)]"
   ]
  },
  {
   "cell_type": "code",
   "execution_count": 6,
   "id": "e0668f87-42f7-417b-94af-cfdccb238ed9",
   "metadata": {},
   "outputs": [
    {
     "name": "stdout",
     "output_type": "stream",
     "text": [
      "57\n",
      "100\n",
      "0\n",
      "9999\n"
     ]
    }
   ],
   "source": [
    "ans = 0\n",
    "for T, A in TAn:\n",
    "    A = int(A)\n",
    "    if T == '+':\n",
    "        ans += A\n",
    "    elif T == '-':\n",
    "        ans -= A\n",
    "    else:\n",
    "        ans *= A\n",
    "    ans %= 10000\n",
    "    print(ans)"
   ]
  },
  {
   "cell_type": "code",
   "execution_count": null,
   "id": "79ccc52e-803e-4a64-b4b9-b4b2ca491881",
   "metadata": {},
   "outputs": [],
   "source": []
  }
 ],
 "metadata": {
  "kernelspec": {
   "display_name": "Python 3",
   "language": "python",
   "name": "python3"
  },
  "language_info": {
   "codemirror_mode": {
    "name": "ipython",
    "version": 3
   },
   "file_extension": ".py",
   "mimetype": "text/x-python",
   "name": "python",
   "nbconvert_exporter": "python",
   "pygments_lexer": "ipython3",
   "version": "3.6.13"
  }
 },
 "nbformat": 4,
 "nbformat_minor": 5
}
