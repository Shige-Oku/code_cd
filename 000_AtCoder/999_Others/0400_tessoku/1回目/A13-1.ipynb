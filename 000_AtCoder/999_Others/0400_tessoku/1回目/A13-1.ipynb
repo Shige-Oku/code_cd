{
 "cells": [
  {
   "cell_type": "code",
   "execution_count": 1,
   "id": "2a1dce6b-c01b-4456-8d37-76cabc51e192",
   "metadata": {},
   "outputs": [
    {
     "name": "stdin",
     "output_type": "stream",
     "text": [
      " 7 10\n"
     ]
    }
   ],
   "source": [
    "N, K = map(int, input().split())"
   ]
  },
  {
   "cell_type": "code",
   "execution_count": 2,
   "id": "eb9c0201-aed8-4935-ac87-8608c7cabae1",
   "metadata": {},
   "outputs": [
    {
     "name": "stdin",
     "output_type": "stream",
     "text": [
      " 11 12 16 22 27 28 31\n"
     ]
    }
   ],
   "source": [
    "An = list(map(int, input().split()))"
   ]
  },
  {
   "cell_type": "code",
   "execution_count": 5,
   "id": "b053321f-eee1-4159-ac3f-37f5ba0e9ab5",
   "metadata": {},
   "outputs": [],
   "source": [
    "from bisect import bisect_left\n",
    "ans = 0\n",
    "for i, A in enumerate(An):\n",
    "    p = bisect_left(An, A+K+1)\n",
    "    ans += p - i - 1"
   ]
  },
  {
   "cell_type": "code",
   "execution_count": 6,
   "id": "bf5807e5-4ec8-4ab0-b45d-3b9a8f43faa7",
   "metadata": {},
   "outputs": [
    {
     "name": "stdout",
     "output_type": "stream",
     "text": [
      "11\n"
     ]
    }
   ],
   "source": [
    "print(ans)"
   ]
  },
  {
   "cell_type": "code",
   "execution_count": 7,
   "id": "6befdcaa-f873-4c64-a248-e63ad7bb18f3",
   "metadata": {},
   "outputs": [],
   "source": [
    "ans = 0\n",
    "r = 1\n",
    "for i in range(N-1):\n",
    "    while r < N:\n",
    "        if An[r] - An[i] > K:\n",
    "            break\n",
    "        r += 1\n",
    "    ans += r - i - 1"
   ]
  },
  {
   "cell_type": "code",
   "execution_count": 8,
   "id": "bc61f888-3c45-4952-a691-da910c2c7bd2",
   "metadata": {},
   "outputs": [
    {
     "name": "stdout",
     "output_type": "stream",
     "text": [
      "11\n"
     ]
    }
   ],
   "source": [
    "print(ans)"
   ]
  },
  {
   "cell_type": "code",
   "execution_count": null,
   "id": "2c51e0a1-cc31-4312-9ab5-804ddfdf504b",
   "metadata": {},
   "outputs": [],
   "source": []
  }
 ],
 "metadata": {
  "kernelspec": {
   "display_name": "Python 3",
   "language": "python",
   "name": "python3"
  },
  "language_info": {
   "codemirror_mode": {
    "name": "ipython",
    "version": 3
   },
   "file_extension": ".py",
   "mimetype": "text/x-python",
   "name": "python",
   "nbconvert_exporter": "python",
   "pygments_lexer": "ipython3",
   "version": "3.6.13"
  }
 },
 "nbformat": 4,
 "nbformat_minor": 5
}
