{
 "cells": [
  {
   "cell_type": "code",
   "execution_count": 1,
   "id": "152dec97-9cc2-409c-b3bc-20f46f22e1ad",
   "metadata": {},
   "outputs": [
    {
     "name": "stdin",
     "output_type": "stream",
     "text": [
      " 6 7\n"
     ]
    }
   ],
   "source": [
    "N, M = map(int, input().split())"
   ]
  },
  {
   "cell_type": "code",
   "execution_count": 3,
   "id": "0531a536-7a2d-47e7-b059-224c2c859f1d",
   "metadata": {},
   "outputs": [
    {
     "name": "stdin",
     "output_type": "stream",
     "text": [
      " 1 2 15\n",
      " 1 4 20\n",
      " 2 3 65\n",
      " 2 5 4\n",
      " 3 6 50\n",
      " 4 5 30\n",
      " 5 6 8\n"
     ]
    }
   ],
   "source": [
    "ABCm = [list(map(int, input().split())) for _ in range(M)]"
   ]
  },
  {
   "cell_type": "code",
   "execution_count": 17,
   "id": "e62660a3-a0bf-430d-bcf2-426119498d5e",
   "metadata": {},
   "outputs": [],
   "source": [
    "graph = [[] for _ in range(N+1)]\n",
    "for A, B, C in ABCm:\n",
    "    graph[A].append((B, C))\n",
    "    graph[B].append((A, C))"
   ]
  },
  {
   "cell_type": "code",
   "execution_count": 18,
   "id": "a898695b-4824-42a1-9f8f-15cc3e5a5d85",
   "metadata": {},
   "outputs": [],
   "source": [
    "import heapq\n",
    "visit = [False] * (N+1)\n",
    "dist = [-1] * (N+1)\n",
    "q = []\n",
    "heapq.heappush(q, (0, 1))\n",
    "dist[1] = 0\n",
    "while q:\n",
    "    d, p = heapq.heappop(q)\n",
    "    if visit[p]:\n",
    "        continue\n",
    "    visit[p] = True\n",
    "    for n, c in graph[p]:\n",
    "        if dist[n] == -1 or dist[n] > dist[p] + c:\n",
    "            dist[n] = dist[p] + c\n",
    "            heapq.heappush(q, (dist[n], n))"
   ]
  },
  {
   "cell_type": "code",
   "execution_count": 19,
   "id": "5a9d576e-4672-49c3-b844-40b44af23603",
   "metadata": {},
   "outputs": [
    {
     "name": "stdout",
     "output_type": "stream",
     "text": [
      "0\n",
      "15\n",
      "77\n",
      "20\n",
      "19\n",
      "27\n"
     ]
    }
   ],
   "source": [
    "print(*dist[1:], sep='\\n')"
   ]
  },
  {
   "cell_type": "code",
   "execution_count": 13,
   "id": "429bc4b4-b8ed-436c-a5ae-944d1fb73043",
   "metadata": {},
   "outputs": [
    {
     "data": {
      "text/plain": [
       "[False, True, False, False, False, False, False]"
      ]
     },
     "execution_count": 13,
     "metadata": {},
     "output_type": "execute_result"
    }
   ],
   "source": [
    "visit"
   ]
  },
  {
   "cell_type": "code",
   "execution_count": 14,
   "id": "67fbd976-a26e-49f2-95bc-761abebbf2c8",
   "metadata": {},
   "outputs": [
    {
     "data": {
      "text/plain": [
       "[-1, 0, -1, -1, -1, -1, -1]"
      ]
     },
     "execution_count": 14,
     "metadata": {},
     "output_type": "execute_result"
    }
   ],
   "source": [
    "dist"
   ]
  },
  {
   "cell_type": "code",
   "execution_count": 15,
   "id": "32c127cf-cddf-4fe3-8ef5-5c724d30e2c7",
   "metadata": {},
   "outputs": [
    {
     "data": {
      "text/plain": [
       "[]"
      ]
     },
     "execution_count": 15,
     "metadata": {},
     "output_type": "execute_result"
    }
   ],
   "source": [
    "q"
   ]
  },
  {
   "cell_type": "code",
   "execution_count": 16,
   "id": "f46cf789-c342-4dd4-943f-95707813356e",
   "metadata": {},
   "outputs": [
    {
     "data": {
      "text/plain": [
       "[[],\n",
       " [],\n",
       " [],\n",
       " [],\n",
       " [],\n",
       " [],\n",
       " [],\n",
       " (2, 15),\n",
       " (1, 15),\n",
       " (4, 20),\n",
       " (1, 20),\n",
       " (3, 65),\n",
       " (2, 65),\n",
       " (5, 4),\n",
       " (2, 4),\n",
       " (6, 50),\n",
       " (3, 50),\n",
       " (5, 30),\n",
       " (4, 30),\n",
       " (6, 8),\n",
       " (5, 8)]"
      ]
     },
     "execution_count": 16,
     "metadata": {},
     "output_type": "execute_result"
    }
   ],
   "source": [
    "graph"
   ]
  },
  {
   "cell_type": "code",
   "execution_count": null,
   "id": "09054c33-6bfa-4a50-b77a-c8b5eea1e09a",
   "metadata": {},
   "outputs": [],
   "source": []
  }
 ],
 "metadata": {
  "kernelspec": {
   "display_name": "Python 3",
   "language": "python",
   "name": "python3"
  },
  "language_info": {
   "codemirror_mode": {
    "name": "ipython",
    "version": 3
   },
   "file_extension": ".py",
   "mimetype": "text/x-python",
   "name": "python",
   "nbconvert_exporter": "python",
   "pygments_lexer": "ipython3",
   "version": "3.6.13"
  }
 },
 "nbformat": 4,
 "nbformat_minor": 5
}
