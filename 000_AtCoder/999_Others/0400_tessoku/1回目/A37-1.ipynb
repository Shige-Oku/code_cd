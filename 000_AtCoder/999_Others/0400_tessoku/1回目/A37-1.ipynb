{
 "cells": [
  {
   "cell_type": "code",
   "execution_count": 1,
   "id": "f931504a-3379-406b-91b0-ee102c8cae15",
   "metadata": {},
   "outputs": [
    {
     "name": "stdin",
     "output_type": "stream",
     "text": [
      " 2 3 100\n"
     ]
    }
   ],
   "source": [
    "N, B, M = map(int, input().split())"
   ]
  },
  {
   "cell_type": "code",
   "execution_count": 2,
   "id": "f5cae75e-ce5b-4f58-bdfb-4abcb6bceb2c",
   "metadata": {},
   "outputs": [
    {
     "name": "stdin",
     "output_type": "stream",
     "text": [
      " 10 20\n"
     ]
    }
   ],
   "source": [
    "An = list(map(int, input().split()))"
   ]
  },
  {
   "cell_type": "code",
   "execution_count": 4,
   "id": "c05e9365-54e1-44fc-9ca7-cba44acd3fb2",
   "metadata": {},
   "outputs": [
    {
     "name": "stdin",
     "output_type": "stream",
     "text": [
      " 1 2 3\n"
     ]
    }
   ],
   "source": [
    "Cn = list(map(int, input().split()))"
   ]
  },
  {
   "cell_type": "code",
   "execution_count": 10,
   "id": "bad5deed-d701-4baa-813b-a088292a382a",
   "metadata": {},
   "outputs": [],
   "source": [
    "Cs = sum(Cn)\n",
    "ans = 0\n",
    "for A in An:\n",
    "    ans += (A + M) * len(Cn) + Cs"
   ]
  },
  {
   "cell_type": "code",
   "execution_count": 11,
   "id": "313c3bc5-2155-42d6-9a2e-f9f9aa813cd8",
   "metadata": {},
   "outputs": [
    {
     "name": "stdout",
     "output_type": "stream",
     "text": [
      "702\n"
     ]
    }
   ],
   "source": [
    "print(ans)"
   ]
  },
  {
   "cell_type": "code",
   "execution_count": 15,
   "id": "a106fa53-bb9d-4e60-a6ff-c0b2f211df5b",
   "metadata": {},
   "outputs": [
    {
     "name": "stdout",
     "output_type": "stream",
     "text": [
      "702\n"
     ]
    }
   ],
   "source": [
    "print(sum(An)*len(Cn) + len(An)*len(Cn)*M + sum(Cn)*len(An))"
   ]
  },
  {
   "cell_type": "code",
   "execution_count": null,
   "id": "e8c7e9a7-4bc9-4ac1-8d88-08522968b7fc",
   "metadata": {},
   "outputs": [],
   "source": []
  }
 ],
 "metadata": {
  "kernelspec": {
   "display_name": "Python 3",
   "language": "python",
   "name": "python3"
  },
  "language_info": {
   "codemirror_mode": {
    "name": "ipython",
    "version": 3
   },
   "file_extension": ".py",
   "mimetype": "text/x-python",
   "name": "python",
   "nbconvert_exporter": "python",
   "pygments_lexer": "ipython3",
   "version": "3.6.13"
  }
 },
 "nbformat": 4,
 "nbformat_minor": 5
}
