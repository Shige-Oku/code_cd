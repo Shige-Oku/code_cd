{
 "cells": [
  {
   "cell_type": "code",
   "execution_count": 1,
   "id": "aa38b32f-c3b8-43e6-9a66-16d8add9bcbc",
   "metadata": {},
   "outputs": [
    {
     "name": "stdin",
     "output_type": "stream",
     "text": [
      " 10 5\n"
     ]
    }
   ],
   "source": [
    "N, Q = map(int, input().split())"
   ]
  },
  {
   "cell_type": "code",
   "execution_count": 2,
   "id": "fff1415a-3658-4a2c-9b77-8a56e59ca859",
   "metadata": {},
   "outputs": [
    {
     "name": "stdin",
     "output_type": "stream",
     "text": [
      " 8 6 9 1 2 1 10 100 1000 10000\n"
     ]
    }
   ],
   "source": [
    "An = list(map(int, input().split()))"
   ]
  },
  {
   "cell_type": "code",
   "execution_count": 4,
   "id": "1bdf043b-9930-402a-9408-cc7d73eb2657",
   "metadata": {},
   "outputs": [
    {
     "name": "stdin",
     "output_type": "stream",
     "text": [
      " 2 3\n",
      " 1 4\n",
      " 3 9\n",
      " 6 8\n",
      " 1 10\n"
     ]
    }
   ],
   "source": [
    "LRn = [list(map(int, input().split())) for _ in range(Q)]"
   ]
  },
  {
   "cell_type": "code",
   "execution_count": 7,
   "id": "a03ae16d-856e-46d3-969c-fc531a30bf1a",
   "metadata": {},
   "outputs": [],
   "source": [
    "from itertools import accumulate\n",
    "An_c = [0] + list(accumulate(An))"
   ]
  },
  {
   "cell_type": "code",
   "execution_count": 9,
   "id": "90c06755-da9e-4860-a810-055a7f875d14",
   "metadata": {},
   "outputs": [
    {
     "name": "stdout",
     "output_type": "stream",
     "text": [
      "15\n",
      "24\n",
      "1123\n",
      "111\n",
      "11137\n"
     ]
    }
   ],
   "source": [
    "for L, R in LRn:\n",
    "    print(An_c[R] - An_c[L-1])"
   ]
  },
  {
   "cell_type": "code",
   "execution_count": 8,
   "id": "c7aa34f6-bebe-4a40-b0b6-c47b52641aca",
   "metadata": {},
   "outputs": [
    {
     "data": {
      "text/plain": [
       "[0, 8, 14, 23, 24, 26, 27, 37, 137, 1137, 11137]"
      ]
     },
     "execution_count": 8,
     "metadata": {},
     "output_type": "execute_result"
    }
   ],
   "source": [
    "An_c"
   ]
  },
  {
   "cell_type": "code",
   "execution_count": 14,
   "id": "4863cdbd-b967-4512-a453-757fcc454de4",
   "metadata": {},
   "outputs": [],
   "source": [
    "An_c = [0, ]\n",
    "for A in An:\n",
    "    An_c.append(An_c[-1] + A)"
   ]
  },
  {
   "cell_type": "code",
   "execution_count": 15,
   "id": "bb1077f1-cc2f-45d3-9198-0500cb8ee9ae",
   "metadata": {},
   "outputs": [
    {
     "name": "stdout",
     "output_type": "stream",
     "text": [
      "15\n",
      "24\n",
      "1123\n",
      "111\n",
      "11137\n"
     ]
    }
   ],
   "source": [
    "for L, R in LRn:\n",
    "    print(An_c[R] - An_c[L-1])"
   ]
  },
  {
   "cell_type": "code",
   "execution_count": 13,
   "id": "acfacacd-3767-4e16-8c9b-7bbabdd4cede",
   "metadata": {},
   "outputs": [
    {
     "data": {
      "text/plain": [
       "[0, 10008, 10006, 10009, 10001, 10002, 10001, 10010, 10100, 11000, 20000]"
      ]
     },
     "execution_count": 13,
     "metadata": {},
     "output_type": "execute_result"
    }
   ],
   "source": [
    "An_c"
   ]
  },
  {
   "cell_type": "code",
   "execution_count": null,
   "id": "4d82a5cb-50e2-45b2-a93b-c4fb8c1ca2c1",
   "metadata": {},
   "outputs": [],
   "source": []
  }
 ],
 "metadata": {
  "kernelspec": {
   "display_name": "Python 3",
   "language": "python",
   "name": "python3"
  },
  "language_info": {
   "codemirror_mode": {
    "name": "ipython",
    "version": 3
   },
   "file_extension": ".py",
   "mimetype": "text/x-python",
   "name": "python",
   "nbconvert_exporter": "python",
   "pygments_lexer": "ipython3",
   "version": "3.6.13"
  }
 },
 "nbformat": 4,
 "nbformat_minor": 5
}
