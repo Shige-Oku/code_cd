{
 "cells": [
  {
   "cell_type": "code",
   "execution_count": 5,
   "id": "0bccd3c3-a791-4cbf-a15f-0cfaac1f0309",
   "metadata": {},
   "outputs": [
    {
     "name": "stdin",
     "output_type": "stream",
     "text": [
      " 6 2 3\n"
     ]
    }
   ],
   "source": [
    "N, A, B = map(int, input().split())"
   ]
  },
  {
   "cell_type": "code",
   "execution_count": 6,
   "id": "6a612d70-136c-4734-b577-c8b1b09bc0e0",
   "metadata": {},
   "outputs": [],
   "source": [
    "dp = [False] * (N+1)\n",
    "for i in range(N+1):\n",
    "    if i >= A:\n",
    "        if not dp[i-A]:\n",
    "            dp[i] = True\n",
    "    if i >= B:\n",
    "        if not dp[i-B]:\n",
    "            dp[i] = True\n",
    "        "
   ]
  },
  {
   "cell_type": "code",
   "execution_count": 7,
   "id": "75a79fe5-f4ad-43f4-8b4c-ba9778f0a6be",
   "metadata": {},
   "outputs": [
    {
     "name": "stdout",
     "output_type": "stream",
     "text": [
      "Second\n"
     ]
    }
   ],
   "source": [
    "print('First' if dp[N] else 'Second')"
   ]
  },
  {
   "cell_type": "code",
   "execution_count": 4,
   "id": "8b4d6b36-fef7-4df0-b5f0-0954ac188428",
   "metadata": {},
   "outputs": [
    {
     "data": {
      "text/plain": [
       "[False, False, True, True, True, False, False, True, True]"
      ]
     },
     "execution_count": 4,
     "metadata": {},
     "output_type": "execute_result"
    }
   ],
   "source": [
    "dp"
   ]
  },
  {
   "cell_type": "code",
   "execution_count": null,
   "id": "50657d3e-273e-402a-b79a-edbab614f7eb",
   "metadata": {},
   "outputs": [],
   "source": []
  }
 ],
 "metadata": {
  "kernelspec": {
   "display_name": "Python 3",
   "language": "python",
   "name": "python3"
  },
  "language_info": {
   "codemirror_mode": {
    "name": "ipython",
    "version": 3
   },
   "file_extension": ".py",
   "mimetype": "text/x-python",
   "name": "python",
   "nbconvert_exporter": "python",
   "pygments_lexer": "ipython3",
   "version": "3.6.13"
  }
 },
 "nbformat": 4,
 "nbformat_minor": 5
}
