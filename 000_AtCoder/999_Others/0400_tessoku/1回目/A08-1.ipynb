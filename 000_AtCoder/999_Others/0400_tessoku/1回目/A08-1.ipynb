{
 "cells": [
  {
   "cell_type": "code",
   "execution_count": 41,
   "id": "6331a62b-7544-4d77-8e8b-f11455d57310",
   "metadata": {},
   "outputs": [
    {
     "name": "stdin",
     "output_type": "stream",
     "text": [
      " 3 4\n"
     ]
    }
   ],
   "source": [
    "H, W  = map(int, input().split())"
   ]
  },
  {
   "cell_type": "code",
   "execution_count": 42,
   "id": "935e8171-c2d6-4537-b757-b17a589010ab",
   "metadata": {},
   "outputs": [
    {
     "name": "stdin",
     "output_type": "stream",
     "text": [
      " 1 1 1 1\n",
      " 1 1 1 1\n",
      " 1 1 1 1\n"
     ]
    }
   ],
   "source": [
    "Xn = [list(map(int, input().split())) for _ in range(H)]"
   ]
  },
  {
   "cell_type": "code",
   "execution_count": 28,
   "id": "31427a21-67f1-4384-ac70-13f05b0a7c7e",
   "metadata": {},
   "outputs": [
    {
     "name": "stdin",
     "output_type": "stream",
     "text": [
      " 2\n"
     ]
    }
   ],
   "source": [
    "Q = int(input())"
   ]
  },
  {
   "cell_type": "code",
   "execution_count": 48,
   "id": "88aaef81-fe28-4055-b168-d38c02c10645",
   "metadata": {},
   "outputs": [
    {
     "name": "stdin",
     "output_type": "stream",
     "text": [
      " 1 3 1 4\n",
      " 2 1 3 3\n"
     ]
    }
   ],
   "source": [
    "ABCDn = [list(map(int, input().split())) for _ in range(Q)]"
   ]
  },
  {
   "cell_type": "code",
   "execution_count": 49,
   "id": "b3664667-0337-4ffc-a783-bc23d561f15b",
   "metadata": {},
   "outputs": [],
   "source": [
    "Xn_c = [[0] * (W+1) for _ in range(H+1)]\n",
    "for h, X in enumerate(Xn, 1):\n",
    "    for w, x in enumerate(X, 1):\n",
    "        Xn_c[h][w] = Xn_c[h][w-1] + Xn[h-1][w-1]\n",
    "for w in range(1, W+1):\n",
    "    for h in range(1, H+1):\n",
    "        Xn_c[h][w] += Xn_c[h-1][w] "
   ]
  },
  {
   "cell_type": "code",
   "execution_count": 51,
   "id": "86b35d71-3541-4e15-9ca4-181f72f7535d",
   "metadata": {},
   "outputs": [
    {
     "name": "stdout",
     "output_type": "stream",
     "text": [
      "2\n",
      "6\n"
     ]
    }
   ],
   "source": [
    "for A, B, C, D in ABCDn:\n",
    "    print(Xn_c[C][D] + Xn_c[A-1][B-1] - Xn_c[A-1][D] - Xn_c[C][B-1])"
   ]
  },
  {
   "cell_type": "code",
   "execution_count": 15,
   "id": "37d208f8-ff0b-4ac9-841f-6702f6db7883",
   "metadata": {},
   "outputs": [
    {
     "data": {
      "text/plain": [
       "([[0, 0, 0, 0, 0, 0],\n",
       "  [0, 2, 2, 2, 7, 8],\n",
       "  [0, 3, 3, 6, 11, 12],\n",
       "  [0, 3, 11, 19, 24, 27],\n",
       "  [0, 7, 16, 24, 29, 38],\n",
       "  [0, 7, 25, 35, 47, 56]],\n",
       " 5,\n",
       " 5)"
      ]
     },
     "execution_count": 15,
     "metadata": {},
     "output_type": "execute_result"
    }
   ],
   "source": [
    "Xn_c, h, w"
   ]
  },
  {
   "cell_type": "code",
   "execution_count": null,
   "id": "32e12337-6462-4a17-9aa0-e67c3bbc7e97",
   "metadata": {},
   "outputs": [],
   "source": []
  },
  {
   "cell_type": "code",
   "execution_count": null,
   "id": "077839d6-7da9-4f44-b54b-fd04a775cd4a",
   "metadata": {},
   "outputs": [],
   "source": []
  }
 ],
 "metadata": {
  "kernelspec": {
   "display_name": "Python 3",
   "language": "python",
   "name": "python3"
  },
  "language_info": {
   "codemirror_mode": {
    "name": "ipython",
    "version": 3
   },
   "file_extension": ".py",
   "mimetype": "text/x-python",
   "name": "python",
   "nbconvert_exporter": "python",
   "pygments_lexer": "ipython3",
   "version": "3.6.13"
  }
 },
 "nbformat": 4,
 "nbformat_minor": 5
}
