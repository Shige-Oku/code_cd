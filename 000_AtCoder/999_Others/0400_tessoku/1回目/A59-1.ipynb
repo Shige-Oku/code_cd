{
 "cells": [
  {
   "cell_type": "code",
   "execution_count": 1,
   "id": "00e6bb52-77c1-42c2-854a-30882839931e",
   "metadata": {},
   "outputs": [
    {
     "name": "stdin",
     "output_type": "stream",
     "text": [
      " 8 4\n"
     ]
    }
   ],
   "source": [
    "N, Q = map(int, input().split())"
   ]
  },
  {
   "cell_type": "code",
   "execution_count": 2,
   "id": "f7e4536a-1593-4c7d-b301-774613beac7b",
   "metadata": {},
   "outputs": [
    {
     "name": "stdin",
     "output_type": "stream",
     "text": [
      " 1 3 16\n",
      " 1 6 24\n",
      " 2 4 8\n",
      " 2 1 7\n"
     ]
    }
   ],
   "source": [
    "Qn = [list(map(int, input().split())) for _ in range(Q)]"
   ]
  },
  {
   "cell_type": "code",
   "execution_count": 4,
   "id": "56042f97-3978-4f22-8137-8c0cfb50be48",
   "metadata": {},
   "outputs": [],
   "source": [
    "# セグメント木\n",
    "import sys\n",
    "sys.setrecursionlimit(10**7)\n",
    "class SegmentTree():\n",
    "\t# 要素 dat の初期化を行う（最初は全部ゼロ）\n",
    "\tdef __init__(self, n):\n",
    "\t\tself.size = 1\n",
    "\t\twhile self.size < n:\n",
    "\t\t\tself.size *= 2\n",
    "\t\tself.dat = [0] * (self.size * 2)\n",
    "\t\n",
    "\t# クエリ 1 に対する処理\n",
    "\tdef update(self, pos, x):\n",
    "\t\tpos += self.size - 1\n",
    "\t\tself.dat[pos] = x\n",
    "\t\twhile pos >= 2:\n",
    "\t\t\tpos //= 2\n",
    "\t\t\tself.dat[pos] = self.dat[pos * 2] + self.dat[pos * 2 + 1]\n",
    "\t\n",
    "\t# クエリ 2 に対する処理\n",
    "\t# u は現在のセル番号、[a, b) はセルに対応する半開区間、[l, r) は求めたい半開区間\n",
    "\tdef query(self, l, r, a, b, u):\n",
    "\t\tif r <= a or b <= l:\n",
    "            # 一切含まれない場合\n",
    "\t\t\treturn 0\n",
    "\t\tif l <= a and b <= r:\n",
    "            # 完全に含まれる場合\n",
    "\t\t\treturn self.dat[u]\n",
    "\t\tm = (a + b) // 2\n",
    "\t\tanswerL = self.query(l, r, a, m, u * 2)\n",
    "\t\tanswerR = self.query(l, r, m, b, u * 2 + 1)\n",
    "\t\treturn answerL + answerR\n"
   ]
  },
  {
   "cell_type": "code",
   "execution_count": 7,
   "id": "6d438b80-161a-4b1c-be49-b15cd4b6a350",
   "metadata": {},
   "outputs": [
    {
     "name": "stdout",
     "output_type": "stream",
     "text": [
      "24\n",
      "40\n"
     ]
    }
   ],
   "source": [
    "sg = SegmentTree(N)\n",
    "for q in Qn:\n",
    "    op = q[0]\n",
    "    if op == 1:\n",
    "        _, p, x = q\n",
    "        sg.update(p, x)\n",
    "    else:\n",
    "        _, l, r = q\n",
    "        print(sg.query(l, r, 1, sg.size+1, 1))"
   ]
  },
  {
   "cell_type": "code",
   "execution_count": null,
   "id": "8c7c1a7e-b8f5-4971-af4a-db6289755f09",
   "metadata": {},
   "outputs": [],
   "source": []
  }
 ],
 "metadata": {
  "kernelspec": {
   "display_name": "Python 3",
   "language": "python",
   "name": "python3"
  },
  "language_info": {
   "codemirror_mode": {
    "name": "ipython",
    "version": 3
   },
   "file_extension": ".py",
   "mimetype": "text/x-python",
   "name": "python",
   "nbconvert_exporter": "python",
   "pygments_lexer": "ipython3",
   "version": "3.6.13"
  }
 },
 "nbformat": 4,
 "nbformat_minor": 5
}
