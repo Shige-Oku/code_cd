{
 "cells": [
  {
   "cell_type": "code",
   "execution_count": 7,
   "id": "99192296-3945-4df8-8f36-8e8f08ffd2ce",
   "metadata": {},
   "outputs": [
    {
     "name": "stdin",
     "output_type": "stream",
     "text": [
      " 10\n"
     ]
    }
   ],
   "source": [
    "N = int(input())"
   ]
  },
  {
   "cell_type": "code",
   "execution_count": 8,
   "id": "cdf25001-a067-4313-90ee-98fecfb1ffbc",
   "metadata": {},
   "outputs": [
    {
     "name": "stdin",
     "output_type": "stream",
     "text": [
      " 1 19 75 37 17 16 33 18 22\n"
     ]
    }
   ],
   "source": [
    "An = list(map(int, input().split()))"
   ]
  },
  {
   "cell_type": "code",
   "execution_count": 9,
   "id": "fa485337-6955-4a83-bd0f-c9bc5bf97bd7",
   "metadata": {},
   "outputs": [
    {
     "name": "stdin",
     "output_type": "stream",
     "text": [
      " 41 28 89 74 98 43 42 31\n"
     ]
    }
   ],
   "source": [
    "Bn = list(map(int, input().split()))"
   ]
  },
  {
   "cell_type": "code",
   "execution_count": 10,
   "id": "2cd6da32-f57d-4129-8af1-20cfe298dff6",
   "metadata": {},
   "outputs": [],
   "source": [
    "dp = [10**20] * (N+1)\n",
    "dp[:2] = 0, 0\n",
    "for i in range(2, N+1):\n",
    "    dp[i] = dp[i-1] + An[i-2]\n",
    "    if i > 2:\n",
    "        dp[i] = min(dp[i], dp[i-2]+Bn[i-3])"
   ]
  },
  {
   "cell_type": "code",
   "execution_count": 14,
   "id": "09fcc61b-44cf-4380-bbc5-5935fb4037d3",
   "metadata": {},
   "outputs": [],
   "source": [
    "dp = [10**20] * N\n",
    "dp[0] = 0\n",
    "for i in range(1, N):\n",
    "    dp[i] = dp[i-1] + An[i-1]\n",
    "    if i > 1:\n",
    "        dp[i] = min(dp[i], dp[i-2]+Bn[i-2])"
   ]
  },
  {
   "cell_type": "code",
   "execution_count": 15,
   "id": "acb7afd9-51be-4a98-8cd2-ece05ac7b358",
   "metadata": {},
   "outputs": [
    {
     "name": "stdout",
     "output_type": "stream",
     "text": [
      "157\n"
     ]
    }
   ],
   "source": [
    "print(dp[-1])"
   ]
  },
  {
   "cell_type": "code",
   "execution_count": null,
   "id": "a6573046-c2c4-4d08-8dc4-10fb352262a9",
   "metadata": {},
   "outputs": [],
   "source": []
  }
 ],
 "metadata": {
  "kernelspec": {
   "display_name": "Python 3",
   "language": "python",
   "name": "python3"
  },
  "language_info": {
   "codemirror_mode": {
    "name": "ipython",
    "version": 3
   },
   "file_extension": ".py",
   "mimetype": "text/x-python",
   "name": "python",
   "nbconvert_exporter": "python",
   "pygments_lexer": "ipython3",
   "version": "3.6.13"
  }
 },
 "nbformat": 4,
 "nbformat_minor": 5
}
