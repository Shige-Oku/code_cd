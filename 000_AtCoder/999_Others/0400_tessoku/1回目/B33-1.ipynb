{
 "cells": [
  {
   "cell_type": "code",
   "execution_count": 6,
   "id": "32dec80c-4724-43bb-9daf-bfca84e5fcfc",
   "metadata": {},
   "outputs": [
    {
     "name": "stdin",
     "output_type": "stream",
     "text": [
      " 2 8 4\n"
     ]
    }
   ],
   "source": [
    "N, H, W = map(int, input().split())"
   ]
  },
  {
   "cell_type": "code",
   "execution_count": 7,
   "id": "1f100abc-5fab-4bf5-9b99-8225c9276420",
   "metadata": {},
   "outputs": [
    {
     "name": "stdin",
     "output_type": "stream",
     "text": [
      " 6 4\n",
      " 7 1\n"
     ]
    }
   ],
   "source": [
    "ABn = [list(map(int, input().split())) for _ in range(N)]"
   ]
  },
  {
   "cell_type": "code",
   "execution_count": 18,
   "id": "cefed339-9da1-4efe-b033-564688dea5e3",
   "metadata": {},
   "outputs": [],
   "source": [
    "sx = 0\n",
    "for A, B in ABn:\n",
    "    sx ^= A - 1\n",
    "    sx ^= B - 1"
   ]
  },
  {
   "cell_type": "code",
   "execution_count": 23,
   "id": "c950138f-ad1c-418c-aa70-a9c34eaf81ed",
   "metadata": {},
   "outputs": [
    {
     "name": "stdout",
     "output_type": "stream",
     "text": [
      "Second\n"
     ]
    }
   ],
   "source": [
    "print('First' if sx != 0 else 'Second')"
   ]
  },
  {
   "cell_type": "code",
   "execution_count": 19,
   "id": "969a0ad2-287c-4249-b280-734225840a4c",
   "metadata": {},
   "outputs": [
    {
     "data": {
      "text/plain": [
       "0"
      ]
     },
     "execution_count": 19,
     "metadata": {},
     "output_type": "execute_result"
    }
   ],
   "source": [
    "sx"
   ]
  },
  {
   "cell_type": "code",
   "execution_count": 20,
   "id": "2ecf87ba-bf4c-4354-a0fc-a1d31805d567",
   "metadata": {},
   "outputs": [],
   "source": [
    "hx = 0\n",
    "wx = 0\n",
    "for A, B in ABn:\n",
    "    hx ^= A - 1\n",
    "    wx ^= B - 1"
   ]
  },
  {
   "cell_type": "code",
   "execution_count": 21,
   "id": "5fda3b6b-e2ac-4516-879d-5b49adaa0aef",
   "metadata": {},
   "outputs": [
    {
     "name": "stdout",
     "output_type": "stream",
     "text": [
      "Second\n"
     ]
    }
   ],
   "source": [
    "print('Second' if hx ^ wx == 0 else 'First')"
   ]
  },
  {
   "cell_type": "code",
   "execution_count": 17,
   "id": "fdbd7eb5-aeba-4ae5-a516-2e6035c04252",
   "metadata": {},
   "outputs": [
    {
     "data": {
      "text/plain": [
       "4"
      ]
     },
     "execution_count": 17,
     "metadata": {},
     "output_type": "execute_result"
    }
   ],
   "source": [
    "hx ^ wx"
   ]
  },
  {
   "cell_type": "code",
   "execution_count": null,
   "id": "7318ce5e-2160-42ac-8b69-25f6021814fc",
   "metadata": {},
   "outputs": [],
   "source": []
  }
 ],
 "metadata": {
  "kernelspec": {
   "display_name": "Python 3",
   "language": "python",
   "name": "python3"
  },
  "language_info": {
   "codemirror_mode": {
    "name": "ipython",
    "version": 3
   },
   "file_extension": ".py",
   "mimetype": "text/x-python",
   "name": "python",
   "nbconvert_exporter": "python",
   "pygments_lexer": "ipython3",
   "version": "3.6.13"
  }
 },
 "nbformat": 4,
 "nbformat_minor": 5
}
