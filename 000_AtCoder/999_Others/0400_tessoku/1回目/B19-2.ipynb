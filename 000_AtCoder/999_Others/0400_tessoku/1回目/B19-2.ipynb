{
 "cells": [
  {
   "cell_type": "code",
   "execution_count": 1,
   "id": "f2645e1e-18a5-4e0b-afd5-a26cd4e68be4",
   "metadata": {},
   "outputs": [
    {
     "name": "stdin",
     "output_type": "stream",
     "text": [
      " 4 7\n"
     ]
    }
   ],
   "source": [
    "N, W = map(int, input().split())"
   ]
  },
  {
   "cell_type": "code",
   "execution_count": 2,
   "id": "ec04762a-fc24-4800-89eb-2f969fdcffbf",
   "metadata": {},
   "outputs": [
    {
     "name": "stdin",
     "output_type": "stream",
     "text": [
      " 3 13\n",
      " 3 17\n",
      " 5 29\n",
      " 1 10\n"
     ]
    }
   ],
   "source": [
    "WVn = [list(map(int, input().split())) for _ in range(N)]"
   ]
  },
  {
   "cell_type": "code",
   "execution_count": 26,
   "id": "4fc04870-728c-438f-a00c-17970b4cd7be",
   "metadata": {},
   "outputs": [],
   "source": [
    "dp = [[10**20] * (1010 * (N+1)) for _ in range(N+1)]\n",
    "dp[0][0] = 0\n",
    "for i, (w, v) in enumerate(WVn, 1):\n",
    "    for j in range(1010*N+1):\n",
    "        dp[i][j] = min(dp[i][j], dp[i-1][j])\n",
    "        dp[i][j+v] = min(dp[i][j+v], dp[i-1][j]+w)"
   ]
  },
  {
   "cell_type": "code",
   "execution_count": 27,
   "id": "4ecd4036-0e93-4c4b-88d8-8be53753e2b5",
   "metadata": {},
   "outputs": [
    {
     "name": "stdout",
     "output_type": "stream",
     "text": [
      "40\n"
     ]
    }
   ],
   "source": [
    "ans = 10**10\n",
    "for i, w in enumerate(dp[N]):\n",
    "    if w <= W:\n",
    "        ans = i\n",
    "print(ans)"
   ]
  },
  {
   "cell_type": "code",
   "execution_count": 19,
   "id": "03efde94-06be-471b-85b5-fae7b181c97e",
   "metadata": {},
   "outputs": [
    {
     "ename": "IndexError",
     "evalue": "list index out of range",
     "output_type": "error",
     "traceback": [
      "\u001b[1;31m---------------------------------------------------------------------------\u001b[0m",
      "\u001b[1;31mIndexError\u001b[0m                                Traceback (most recent call last)",
      "\u001b[1;32m<ipython-input-19-9d76810d2054>\u001b[0m in \u001b[0;36m<module>\u001b[1;34m\u001b[0m\n\u001b[1;32m----> 1\u001b[1;33m \u001b[0mdp\u001b[0m\u001b[1;33m[\u001b[0m\u001b[0mN\u001b[0m\u001b[1;33m]\u001b[0m\u001b[1;33m[\u001b[0m\u001b[1;36m10000000000\u001b[0m\u001b[1;33m]\u001b[0m\u001b[1;33m\u001b[0m\u001b[1;33m\u001b[0m\u001b[0m\n\u001b[0m",
      "\u001b[1;31mIndexError\u001b[0m: list index out of range"
     ]
    }
   ],
   "source": [
    "dp[N][10000000000]"
   ]
  },
  {
   "cell_type": "code",
   "execution_count": 20,
   "id": "7a2be40c-85aa-41f5-89b8-7952a94873ef",
   "metadata": {},
   "outputs": [
    {
     "data": {
      "text/plain": [
       "7"
      ]
     },
     "execution_count": 20,
     "metadata": {},
     "output_type": "execute_result"
    }
   ],
   "source": [
    "W"
   ]
  },
  {
   "cell_type": "code",
   "execution_count": null,
   "id": "f48ee116-89e5-497c-ad7d-65025779d9c4",
   "metadata": {},
   "outputs": [],
   "source": []
  }
 ],
 "metadata": {
  "kernelspec": {
   "display_name": "Python 3",
   "language": "python",
   "name": "python3"
  },
  "language_info": {
   "codemirror_mode": {
    "name": "ipython",
    "version": 3
   },
   "file_extension": ".py",
   "mimetype": "text/x-python",
   "name": "python",
   "nbconvert_exporter": "python",
   "pygments_lexer": "ipython3",
   "version": "3.6.13"
  }
 },
 "nbformat": 4,
 "nbformat_minor": 5
}
