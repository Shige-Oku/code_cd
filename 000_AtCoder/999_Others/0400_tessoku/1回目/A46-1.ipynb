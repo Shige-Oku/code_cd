{
 "cells": [
  {
   "cell_type": "code",
   "execution_count": 47,
   "id": "b2c07e59-76a5-47ef-b33e-6744d8f0e043",
   "metadata": {},
   "outputs": [],
   "source": [
    "from random import randint\n",
    "import time\n",
    "stime = time.time()"
   ]
  },
  {
   "cell_type": "code",
   "execution_count": 1,
   "id": "da430d0d-4586-486e-8ed7-b05ae5cdf9ac",
   "metadata": {},
   "outputs": [
    {
     "name": "stdin",
     "output_type": "stream",
     "text": [
      " 7\n"
     ]
    }
   ],
   "source": [
    "N = int(input())"
   ]
  },
  {
   "cell_type": "code",
   "execution_count": 2,
   "id": "cd9ea85d-b28d-44b3-b73c-d5ed3a762a15",
   "metadata": {},
   "outputs": [
    {
     "name": "stdin",
     "output_type": "stream",
     "text": [
      " 1 1\n",
      " 4 1\n",
      " 2 5\n",
      " 3 4\n",
      " 3 2\n",
      " 4 2\n",
      " 5 5\n"
     ]
    }
   ],
   "source": [
    "XYn = [list(map(int, input().split())) for _ in range(N)]"
   ]
  },
  {
   "cell_type": "code",
   "execution_count": 38,
   "id": "6d131ff2-913f-4bad-bea2-32b758b17648",
   "metadata": {},
   "outputs": [],
   "source": [
    "def getDistance(x1, y1, x2, y2):\n",
    "    return  ((x1-x2) ** 2 + (y1-y2)**2) ** .5"
   ]
  },
  {
   "cell_type": "code",
   "execution_count": 42,
   "id": "9bf8e7e3-47c1-46c2-9dff-9aa199596a50",
   "metadata": {},
   "outputs": [],
   "source": [
    "def getNext(n):\n",
    "    p, dis = 0, 10**10\n",
    "    x1, y1 = XYn[n]\n",
    "    for i, (x2, y2) in enumerate(XYn):\n",
    "        if i == n:\n",
    "            continue\n",
    "        if visit[i]:\n",
    "            continue\n",
    "        d = getDistance(x1, y1, x2, y2)\n",
    "        if dis > d:\n",
    "            p = i\n",
    "            dis = d\n",
    "    return p, dis"
   ]
  },
  {
   "cell_type": "code",
   "execution_count": 45,
   "id": "77093e89-109a-4b86-83e3-4b1291ac265d",
   "metadata": {},
   "outputs": [],
   "source": [
    "stime = time.time()\n",
    "visit = [False] * N\n",
    "visit[0] = True\n",
    "s = 0\n",
    "ans = [0, ]\n",
    "dis = 0\n",
    "while sum(visit) < N:\n",
    "    s, d = getNext(s)\n",
    "    visit[s] = True\n",
    "    ans.append(s)\n",
    "    dis += d\n",
    "else:\n",
    "    ans.append(0)\n",
    "    x1, y1 = XYn[0]\n",
    "    x2, y2 = XYn[s-1]\n",
    "    dis += getDistance(x1, y1, x2, y2)"
   ]
  },
  {
   "cell_type": "code",
   "execution_count": 46,
   "id": "ff756900-5729-4be1-84c5-8665f4b52fa7",
   "metadata": {},
   "outputs": [
    {
     "name": "stdout",
     "output_type": "stream",
     "text": [
      "0\n",
      "4\n",
      "5\n",
      "1\n",
      "3\n",
      "2\n",
      "6\n",
      "0\n"
     ]
    }
   ],
   "source": [
    "# print(*ans, sep='\\n')"
   ]
  },
  {
   "cell_type": "code",
   "execution_count": 10,
   "id": "48083233-2ad9-4b39-bd4c-7c293d8353cc",
   "metadata": {},
   "outputs": [
    {
     "data": {
      "text/plain": [
       "[False, True, True, True, True, True, True, True]"
      ]
     },
     "execution_count": 10,
     "metadata": {},
     "output_type": "execute_result"
    }
   ],
   "source": [
    "visit"
   ]
  },
  {
   "cell_type": "code",
   "execution_count": 11,
   "id": "cdd0de66-c72d-4cbc-8858-3f40d03f7c62",
   "metadata": {},
   "outputs": [
    {
     "data": {
      "text/plain": [
       "(17.469413449533647, float)"
      ]
     },
     "execution_count": 11,
     "metadata": {},
     "output_type": "execute_result"
    }
   ],
   "source": [
    "dis, type(dis)"
   ]
  },
  {
   "cell_type": "code",
   "execution_count": 29,
   "id": "d86bf661-56c6-4f88-9dac-ba11bd56c2cc",
   "metadata": {},
   "outputs": [],
   "source": [
    "def getTotalDistance():\n",
    "    ret = 0\n",
    "    for i in range(N):\n",
    "        x1, y1 = XYn[ans[i]]\n",
    "        x2, y2 = XYn[ans[i+1]]\n",
    "        ret += getDistance(x1, y1, x2, y2)\n",
    "    return ret"
   ]
  },
  {
   "cell_type": "code",
   "execution_count": 30,
   "id": "93a46155-fd92-4064-9083-be4b3498ae20",
   "metadata": {},
   "outputs": [],
   "source": [
    "# ans = [x for x in range(N)]\n",
    "# ans.append(0)\n",
    "dis = getTotalDistance()\n",
    "while time.time() - stime < 0.8:\n",
    "    L = randint(1, N-1)\n",
    "    R = randint(1, N-1)\n",
    "    if L == R:\n",
    "        continue\n",
    "    if L > R:\n",
    "        L, R = R, L\n",
    "    ans[L:R+1] = ans[L:R+1][::-1]\n",
    "    d = getTotalDistance()\n",
    "    if d < dis:\n",
    "        dis = d\n",
    "    else:\n",
    "        ans[L:R+1] = ans[L:R+1][::-1]\n"
   ]
  },
  {
   "cell_type": "code",
   "execution_count": 37,
   "id": "76fe4f10-8d4d-4740-a04b-a46fabd026e8",
   "metadata": {},
   "outputs": [
    {
     "name": "stdout",
     "output_type": "stream",
     "text": [
      "1\n",
      "5\n",
      "2\n",
      "6\n",
      "4\n",
      "3\n",
      "7\n"
     ]
    }
   ],
   "source": [
    "for a in ans:\n",
    "    print(a+1)"
   ]
  },
  {
   "cell_type": "code",
   "execution_count": 36,
   "id": "4f81483b-1dd1-45ae-a3a7-33b30814615b",
   "metadata": {},
   "outputs": [
    {
     "data": {
      "text/plain": [
       "([0, 4, 1, 5, 3, 2, 6], 11.30056307974577)"
      ]
     },
     "execution_count": 36,
     "metadata": {},
     "output_type": "execute_result"
    }
   ],
   "source": [
    "ans , dis"
   ]
  },
  {
   "cell_type": "code",
   "execution_count": null,
   "id": "15396ece-bcdb-4105-b4bb-620a9c779626",
   "metadata": {},
   "outputs": [],
   "source": []
  }
 ],
 "metadata": {
  "kernelspec": {
   "display_name": "Python 3",
   "language": "python",
   "name": "python3"
  },
  "language_info": {
   "codemirror_mode": {
    "name": "ipython",
    "version": 3
   },
   "file_extension": ".py",
   "mimetype": "text/x-python",
   "name": "python",
   "nbconvert_exporter": "python",
   "pygments_lexer": "ipython3",
   "version": "3.6.13"
  }
 },
 "nbformat": 4,
 "nbformat_minor": 5
}
