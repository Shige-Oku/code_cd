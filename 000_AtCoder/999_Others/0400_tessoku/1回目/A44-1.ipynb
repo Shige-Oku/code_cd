{
 "cells": [
  {
   "cell_type": "code",
   "execution_count": 1,
   "id": "3b07063b-a5bd-42e2-ab08-db663bdc36da",
   "metadata": {},
   "outputs": [
    {
     "name": "stdin",
     "output_type": "stream",
     "text": [
      " 5 4\n"
     ]
    }
   ],
   "source": [
    "N, Q = map(int, input().split())"
   ]
  },
  {
   "cell_type": "code",
   "execution_count": 2,
   "id": "238fafe2-e517-47e4-9b42-f0e1af1ded20",
   "metadata": {},
   "outputs": [
    {
     "name": "stdin",
     "output_type": "stream",
     "text": [
      " 1 4 8\n",
      " 3 2\n",
      " 2\n",
      " 3 2\n"
     ]
    }
   ],
   "source": [
    "Qn = [list(map(int, input().split())) for _ in range(Q)]"
   ]
  },
  {
   "cell_type": "code",
   "execution_count": 22,
   "id": "7a748c8d-ac21-47bf-a573-67a996a97174",
   "metadata": {},
   "outputs": [
    {
     "name": "stdout",
     "output_type": "stream",
     "text": [
      "2\n",
      "8\n"
     ]
    }
   ],
   "source": [
    "num = [x for x in range(1, N+1)]\n",
    "r = False\n",
    "for i, q in enumerate(Qn):\n",
    "    c = q[0]\n",
    "    if c == 1:\n",
    "        _, x, y = Qn[i]\n",
    "        if r:\n",
    "            num[N-x] = y\n",
    "        else:\n",
    "            num[x-1] = y\n",
    "    elif c == 2:\n",
    "        r = not r\n",
    "    else:\n",
    "        _, x = Qn[i]\n",
    "        if r:\n",
    "            print(num[N-x])\n",
    "        else:\n",
    "            print(num[x-1])"
   ]
  },
  {
   "cell_type": "code",
   "execution_count": 23,
   "id": "82d37a94-8882-477c-b73b-743dd90da8f5",
   "metadata": {},
   "outputs": [
    {
     "data": {
      "text/plain": [
       "[1, 2, 3, 8, 5]"
      ]
     },
     "execution_count": 23,
     "metadata": {},
     "output_type": "execute_result"
    }
   ],
   "source": [
    "num"
   ]
  },
  {
   "cell_type": "code",
   "execution_count": null,
   "id": "e0391b76-46b2-411e-9311-893b926c8bfd",
   "metadata": {},
   "outputs": [],
   "source": []
  }
 ],
 "metadata": {
  "kernelspec": {
   "display_name": "Python 3",
   "language": "python",
   "name": "python3"
  },
  "language_info": {
   "codemirror_mode": {
    "name": "ipython",
    "version": 3
   },
   "file_extension": ".py",
   "mimetype": "text/x-python",
   "name": "python",
   "nbconvert_exporter": "python",
   "pygments_lexer": "ipython3",
   "version": "3.6.13"
  }
 },
 "nbformat": 4,
 "nbformat_minor": 5
}
