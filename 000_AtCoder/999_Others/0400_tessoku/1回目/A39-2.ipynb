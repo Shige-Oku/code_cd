{
 "cells": [
  {
   "cell_type": "code",
   "execution_count": 4,
   "id": "1e0b8b9c-d5f6-4044-82fe-cb3fca530d5d",
   "metadata": {},
   "outputs": [
    {
     "name": "stdin",
     "output_type": "stream",
     "text": [
      " 5 4\n"
     ]
    }
   ],
   "source": [
    "N, D  = map(int, input().split())"
   ]
  },
  {
   "cell_type": "code",
   "execution_count": 25,
   "id": "804d8e49-4f36-47d3-91c7-8db529b39a10",
   "metadata": {},
   "outputs": [
    {
     "name": "stdin",
     "output_type": "stream",
     "text": [
      " 2 3\n",
      " 1 2\n",
      " 5 15\n",
      " 6 10\n",
      " 4 5\n"
     ]
    }
   ],
   "source": [
    "XYn = [list(map(int, input().split())) for _ in range(N)]"
   ]
  },
  {
   "cell_type": "code",
   "execution_count": 31,
   "id": "0d2a24fa-f591-497d-87d8-ca2b8d6f4a0a",
   "metadata": {},
   "outputs": [],
   "source": [
    "import heapq\n",
    "XYn_s = sorted(XYn)\n",
    "jobs = []\n",
    "ans = 0\n",
    "ji = 0\n",
    "for d in range(1, D+1):\n",
    "    while ji < N:\n",
    "        X, Y = XYn_s[ji]\n",
    "        if X > d:\n",
    "            break\n",
    "        heapq.heappush(jobs, -Y)\n",
    "        ji += 1\n",
    "    if jobs:\n",
    "        ans += -heapq.heappop(jobs)\n"
   ]
  },
  {
   "cell_type": "code",
   "execution_count": 32,
   "id": "cbbf0bd7-37ed-41ca-b763-644ae7a44907",
   "metadata": {},
   "outputs": [
    {
     "name": "stdout",
     "output_type": "stream",
     "text": [
      "10\n"
     ]
    }
   ],
   "source": [
    "print(ans)"
   ]
  },
  {
   "cell_type": "code",
   "execution_count": 23,
   "id": "7aef311c-e36b-4146-a8e2-22d7728eb1aa",
   "metadata": {},
   "outputs": [
    {
     "data": {
      "text/plain": [
       "[-3, -2]"
      ]
     },
     "execution_count": 23,
     "metadata": {},
     "output_type": "execute_result"
    }
   ],
   "source": [
    "jobs"
   ]
  },
  {
   "cell_type": "code",
   "execution_count": null,
   "id": "9657115f-e03e-4d9c-add5-d3815507bea0",
   "metadata": {},
   "outputs": [],
   "source": []
  }
 ],
 "metadata": {
  "kernelspec": {
   "display_name": "Python 3",
   "language": "python",
   "name": "python3"
  },
  "language_info": {
   "codemirror_mode": {
    "name": "ipython",
    "version": 3
   },
   "file_extension": ".py",
   "mimetype": "text/x-python",
   "name": "python",
   "nbconvert_exporter": "python",
   "pygments_lexer": "ipython3",
   "version": "3.6.13"
  }
 },
 "nbformat": 4,
 "nbformat_minor": 5
}
