{
 "cells": [
  {
   "cell_type": "code",
   "execution_count": 1,
   "id": "d622c305-c3be-4dda-80cb-e401f43d3989",
   "metadata": {},
   "outputs": [
    {
     "name": "stdin",
     "output_type": "stream",
     "text": [
      " 2 2 3\n"
     ]
    }
   ],
   "source": [
    "N, X, Y = map(int, input().split())"
   ]
  },
  {
   "cell_type": "code",
   "execution_count": 9,
   "id": "2e852007-5c4f-46fe-b4f6-9b40b153c134",
   "metadata": {},
   "outputs": [
    {
     "name": "stdin",
     "output_type": "stream",
     "text": [
      " 5 8\n"
     ]
    }
   ],
   "source": [
    "An = list(map(int, input().split()))"
   ]
  },
  {
   "cell_type": "code",
   "execution_count": 10,
   "id": "88ae0aef-97a0-416d-8855-4c57125471ae",
   "metadata": {},
   "outputs": [],
   "source": [
    "def retGrundy(n):\n",
    "    if n % 5 < 2:\n",
    "        return 0\n",
    "    if n % 5 < 4:\n",
    "        return 1\n",
    "    return 2"
   ]
  },
  {
   "cell_type": "code",
   "execution_count": 11,
   "id": "39d262b7-4d8e-4b6c-8dfb-a934f1f636e7",
   "metadata": {},
   "outputs": [],
   "source": [
    "gx = 0\n",
    "for A in An:\n",
    "    gx ^= retGrundy(A)"
   ]
  },
  {
   "cell_type": "code",
   "execution_count": 12,
   "id": "4b3559b6-b183-4e19-ae58-9252da3d4599",
   "metadata": {},
   "outputs": [
    {
     "name": "stdout",
     "output_type": "stream",
     "text": [
      "First\n"
     ]
    }
   ],
   "source": [
    "print('First' if gx != 0 else 'Second')"
   ]
  },
  {
   "cell_type": "code",
   "execution_count": null,
   "id": "6f1fa1cc-c97c-4c42-837c-34190332d0ab",
   "metadata": {},
   "outputs": [],
   "source": []
  }
 ],
 "metadata": {
  "kernelspec": {
   "display_name": "Python 3",
   "language": "python",
   "name": "python3"
  },
  "language_info": {
   "codemirror_mode": {
    "name": "ipython",
    "version": 3
   },
   "file_extension": ".py",
   "mimetype": "text/x-python",
   "name": "python",
   "nbconvert_exporter": "python",
   "pygments_lexer": "ipython3",
   "version": "3.6.13"
  }
 },
 "nbformat": 4,
 "nbformat_minor": 5
}
