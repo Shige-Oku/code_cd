{
 "cells": [
  {
   "cell_type": "code",
   "execution_count": 11,
   "id": "eb58b3e8-ed5a-4e41-b353-3bdd92225c7c",
   "metadata": {},
   "outputs": [
    {
     "name": "stdin",
     "output_type": "stream",
     "text": [
      " 3 10\n"
     ]
    }
   ],
   "source": [
    "N, S = map(int, input().split())"
   ]
  },
  {
   "cell_type": "code",
   "execution_count": 12,
   "id": "d15f5f71-814f-472c-a8bf-f1280ab5615a",
   "metadata": {},
   "outputs": [
    {
     "name": "stdin",
     "output_type": "stream",
     "text": [
      " 1 2 4\n"
     ]
    }
   ],
   "source": [
    "An = list(map(int, input().split()))"
   ]
  },
  {
   "cell_type": "code",
   "execution_count": 13,
   "id": "bf49c7d7-8198-4ca9-9c09-9fdd0c614970",
   "metadata": {},
   "outputs": [],
   "source": [
    "dp = [[False] * (S+1) for _ in range(N+1)]\n",
    "dp[0][0] = True\n",
    "for i, A in enumerate(An, 1):\n",
    "    for j in range(S+1):\n",
    "        if not dp[i-1][j]:\n",
    "            continue\n",
    "        dp[i][j] = True\n",
    "        if j + A <= S:\n",
    "            dp[i][j+A] = True"
   ]
  },
  {
   "cell_type": "code",
   "execution_count": 16,
   "id": "226e5b4c-4ae3-49c7-987e-0e928acb1027",
   "metadata": {},
   "outputs": [],
   "source": [
    "def solve():\n",
    "    ret = []\n",
    "    if not dp[N][S]:\n",
    "        return ret\n",
    "    j = S\n",
    "    for i in range(N, 0, -1):\n",
    "        A = An[i-1]\n",
    "        if j - A < 0:\n",
    "            continue\n",
    "        if dp[i-1][j-A]:\n",
    "            ret.append(i)\n",
    "            j -= A\n",
    "    return ret[::-1]"
   ]
  },
  {
   "cell_type": "code",
   "execution_count": 17,
   "id": "d8079a17-bd94-4432-8d83-f06d63084220",
   "metadata": {},
   "outputs": [
    {
     "name": "stdout",
     "output_type": "stream",
     "text": [
      "-1\n"
     ]
    }
   ],
   "source": [
    "ans = solve()\n",
    "if len(ans) == 0:\n",
    "    print(-1)\n",
    "else:\n",
    "    print(len(ans))\n",
    "    print(*ans)"
   ]
  },
  {
   "cell_type": "code",
   "execution_count": null,
   "id": "359c6e81-0c0c-4038-93a4-a312ee18dee4",
   "metadata": {},
   "outputs": [],
   "source": []
  }
 ],
 "metadata": {
  "kernelspec": {
   "display_name": "Python 3",
   "language": "python",
   "name": "python3"
  },
  "language_info": {
   "codemirror_mode": {
    "name": "ipython",
    "version": 3
   },
   "file_extension": ".py",
   "mimetype": "text/x-python",
   "name": "python",
   "nbconvert_exporter": "python",
   "pygments_lexer": "ipython3",
   "version": "3.6.13"
  }
 },
 "nbformat": 4,
 "nbformat_minor": 5
}
