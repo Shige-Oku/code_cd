{
 "cells": [
  {
   "cell_type": "code",
   "execution_count": 1,
   "id": "76cf5535-4128-43cc-b4ce-9b2a8a7d3916",
   "metadata": {},
   "outputs": [
    {
     "name": "stdin",
     "output_type": "stream",
     "text": [
      " 3\n"
     ]
    }
   ],
   "source": [
    "Q = int(input())"
   ]
  },
  {
   "cell_type": "code",
   "execution_count": 2,
   "id": "dc62092e-2af3-41c1-8246-91b5eb2e83e1",
   "metadata": {},
   "outputs": [
    {
     "name": "stdin",
     "output_type": "stream",
     "text": [
      " 1 tanaka 49\n",
      " 1 suzuki 50\n",
      " 2 tanaka\n"
     ]
    }
   ],
   "source": [
    "Qn = [input().split() for _ in range(Q)]"
   ]
  },
  {
   "cell_type": "code",
   "execution_count": 5,
   "id": "ccb2e5c4-7e5f-4601-8ac0-817b8a22d03c",
   "metadata": {},
   "outputs": [
    {
     "name": "stdout",
     "output_type": "stream",
     "text": [
      "49\n"
     ]
    }
   ],
   "source": [
    "di = {}\n",
    "for q in Qn:\n",
    "    op = q[0]\n",
    "    if op == '1':\n",
    "        _, na, po = q\n",
    "        di[na] = po\n",
    "    else:\n",
    "        _, na = q\n",
    "        print(di[na])"
   ]
  },
  {
   "cell_type": "code",
   "execution_count": 4,
   "id": "7250a0a3-b7c7-4ea2-8114-dffdd37dae5d",
   "metadata": {},
   "outputs": [
    {
     "data": {
      "text/plain": [
       "{'tanaka': '49', 'suzuki': '50'}"
      ]
     },
     "execution_count": 4,
     "metadata": {},
     "output_type": "execute_result"
    }
   ],
   "source": [
    "di"
   ]
  },
  {
   "cell_type": "code",
   "execution_count": null,
   "id": "53f3c7f4-d51d-445b-8d31-e4c96d48004e",
   "metadata": {},
   "outputs": [],
   "source": []
  }
 ],
 "metadata": {
  "kernelspec": {
   "display_name": "Python 3",
   "language": "python",
   "name": "python3"
  },
  "language_info": {
   "codemirror_mode": {
    "name": "ipython",
    "version": 3
   },
   "file_extension": ".py",
   "mimetype": "text/x-python",
   "name": "python",
   "nbconvert_exporter": "python",
   "pygments_lexer": "ipython3",
   "version": "3.6.13"
  }
 },
 "nbformat": 4,
 "nbformat_minor": 5
}
