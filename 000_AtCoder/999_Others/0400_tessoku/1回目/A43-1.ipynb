{
 "cells": [
  {
   "cell_type": "code",
   "execution_count": 1,
   "id": "385fab0d-49b3-4a4e-b899-b45f7503a47f",
   "metadata": {},
   "outputs": [
    {
     "name": "stdin",
     "output_type": "stream",
     "text": [
      " 3 100\n"
     ]
    }
   ],
   "source": [
    "N, L = map(int, input().split())"
   ]
  },
  {
   "cell_type": "code",
   "execution_count": 2,
   "id": "141c742e-3426-46fc-9d6b-73b004550dd7",
   "metadata": {},
   "outputs": [
    {
     "name": "stdin",
     "output_type": "stream",
     "text": [
      " 20 E\n",
      " 50 E\n",
      " 70 W\n"
     ]
    }
   ],
   "source": [
    "ABn = [list(input().split()) for _ in range(N)]"
   ]
  },
  {
   "cell_type": "code",
   "execution_count": 3,
   "id": "f08ad42e-bc46-49a3-b1c3-60d7c111f0c0",
   "metadata": {},
   "outputs": [],
   "source": [
    "ans = 0\n",
    "for A, B in ABn:\n",
    "    A = int(A)\n",
    "    if B == 'E':\n",
    "        ans = max(ans, L-A)\n",
    "    else:\n",
    "        ans = max(ans, A)"
   ]
  },
  {
   "cell_type": "code",
   "execution_count": 4,
   "id": "fb710baa-8b67-48b0-aec2-33ceb6e75268",
   "metadata": {},
   "outputs": [
    {
     "name": "stdout",
     "output_type": "stream",
     "text": [
      "80\n"
     ]
    }
   ],
   "source": [
    "print(ans)"
   ]
  },
  {
   "cell_type": "code",
   "execution_count": null,
   "id": "7193da99-57c2-4525-a73c-ea51f216a6a0",
   "metadata": {},
   "outputs": [],
   "source": []
  }
 ],
 "metadata": {
  "kernelspec": {
   "display_name": "Python 3",
   "language": "python",
   "name": "python3"
  },
  "language_info": {
   "codemirror_mode": {
    "name": "ipython",
    "version": 3
   },
   "file_extension": ".py",
   "mimetype": "text/x-python",
   "name": "python",
   "nbconvert_exporter": "python",
   "pygments_lexer": "ipython3",
   "version": "3.6.13"
  }
 },
 "nbformat": 4,
 "nbformat_minor": 5
}
