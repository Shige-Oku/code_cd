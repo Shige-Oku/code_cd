{
 "cells": [
  {
   "cell_type": "code",
   "execution_count": 44,
   "id": "008044d4-cf4a-426d-8e61-4c60d4d3098e",
   "metadata": {},
   "outputs": [
    {
     "name": "stdin",
     "output_type": "stream",
     "text": [
      " 7\n"
     ]
    }
   ],
   "source": [
    "N = int(input())"
   ]
  },
  {
   "cell_type": "code",
   "execution_count": 45,
   "id": "7269e3f4-d0da-4fdc-a263-0238f89a61e8",
   "metadata": {},
   "outputs": [
    {
     "name": "stdin",
     "output_type": "stream",
     "text": [
      " AABBBA\n"
     ]
    }
   ],
   "source": [
    "S = input()"
   ]
  },
  {
   "cell_type": "code",
   "execution_count": 46,
   "id": "208fd833-6676-40a7-9781-bf68af6c6b90",
   "metadata": {},
   "outputs": [],
   "source": [
    "cntA = [0] * N\n",
    "cnt1 = 1\n",
    "cntA[0] = 1\n",
    "for i, s in enumerate(S, 1):\n",
    "    if s == 'A':\n",
    "        cnt1 +=1\n",
    "    else:\n",
    "        cnt1 = 1\n",
    "    cntA[i] = cnt1\n",
    "cntB = [0] * N\n",
    "cnt2 = 1\n",
    "cntB[0] = 1\n",
    "for i in range(N-2, -1, -1):\n",
    "    s = S[i]\n",
    "    if s == 'B':\n",
    "        cnt2 +=1\n",
    "    else:\n",
    "        cnt2 = 1\n",
    "    cntB[i] = cnt2    "
   ]
  },
  {
   "cell_type": "code",
   "execution_count": 47,
   "id": "7730c32d-6161-452b-9768-6eca932c1837",
   "metadata": {},
   "outputs": [
    {
     "name": "stdout",
     "output_type": "stream",
     "text": [
      "15\n"
     ]
    }
   ],
   "source": [
    "ans = 0\n",
    "for a, b in zip(cntA, cntB):\n",
    "    ans += max(a, b)\n",
    "print(ans)"
   ]
  },
  {
   "cell_type": "code",
   "execution_count": 41,
   "id": "018e9be3-ec2c-4d1d-805f-13f9c42aa68f",
   "metadata": {},
   "outputs": [
    {
     "data": {
      "text/plain": [
       "([1, 2, 3, 1, 2, 1, 1, 1], [1, 0, 0, 0, 0, 0, 0, 0], 7)"
      ]
     },
     "execution_count": 41,
     "metadata": {},
     "output_type": "execute_result"
    }
   ],
   "source": [
    "cntA, cntB, i"
   ]
  },
  {
   "cell_type": "code",
   "execution_count": 33,
   "id": "53bbade8-ffc2-4447-b8c6-66659e34ab53",
   "metadata": {},
   "outputs": [],
   "source": [
    "cmd = []\n",
    "cnt = 1\n",
    "m = 0\n",
    "for i in range(N-2):\n",
    "    if S[i] == S[i+1]:\n",
    "        cnt +=1\n",
    "    else:\n",
    "        cmd.append([S[i], cnt])\n",
    "        cnt = 1\n",
    "    m = max(m, cnt)\n",
    "else:\n",
    "    cmd.append([S[-1], cnt])\n",
    "    m = max(m, cnt)    "
   ]
  },
  {
   "cell_type": "code",
   "execution_count": 31,
   "id": "94f0b373-5d31-4728-b316-2b00a6f9373b",
   "metadata": {},
   "outputs": [],
   "source": [
    "ans = []\n",
    "for c, cnt in cmd:\n",
    "    if c == 'A':\n",
    "        for i in range(1, cnt+1):\n",
    "            ans.append(i)\n",
    "    else:\n",
    "        for i in range(cnt+1, 1, -1):\n",
    "            ans.append(i)\n",
    "else:\n",
    "    if c == 'A':\n",
    "        ans.append(i+1)\n",
    "    else:\n",
    "        ans.append(i-1)\n"
   ]
  },
  {
   "cell_type": "code",
   "execution_count": 32,
   "id": "2785a912-8dbc-4378-b6d4-4ad2a81528bf",
   "metadata": {},
   "outputs": [
    {
     "name": "stdout",
     "output_type": "stream",
     "text": [
      "[1, 2, 2, 1, 4, 3, 2, 1]\n"
     ]
    }
   ],
   "source": [
    "print(ans)"
   ]
  },
  {
   "cell_type": "code",
   "execution_count": 28,
   "id": "de334dc9-2c3f-458b-a0ea-aee8dc49085a",
   "metadata": {},
   "outputs": [],
   "source": [
    "ans = 0\n",
    "for c, cnt in cmd:\n",
    "    if c == 'A':\n",
    "        for i in range(1, cnt+1):\n",
    "            ans += i\n",
    "    else:\n",
    "        for i in range(cnt+1, 1, -1):\n",
    "            ans += i\n",
    "else:\n",
    "    if c == 'A':\n",
    "        ans += i+1\n",
    "    else:\n",
    "        ans += 1"
   ]
  },
  {
   "cell_type": "code",
   "execution_count": 7,
   "id": "e2931338-8e89-46c1-9074-ebf601a5780c",
   "metadata": {},
   "outputs": [
    {
     "data": {
      "text/plain": [
       "[['A', 2], ['B', 3], ['A', 1]]"
      ]
     },
     "execution_count": 7,
     "metadata": {},
     "output_type": "execute_result"
    }
   ],
   "source": [
    "cmd"
   ]
  },
  {
   "cell_type": "code",
   "execution_count": null,
   "id": "cf2cc623-f365-4bfa-bb76-8b352c732f65",
   "metadata": {},
   "outputs": [],
   "source": []
  }
 ],
 "metadata": {
  "kernelspec": {
   "display_name": "Python 3",
   "language": "python",
   "name": "python3"
  },
  "language_info": {
   "codemirror_mode": {
    "name": "ipython",
    "version": 3
   },
   "file_extension": ".py",
   "mimetype": "text/x-python",
   "name": "python",
   "nbconvert_exporter": "python",
   "pygments_lexer": "ipython3",
   "version": "3.6.13"
  }
 },
 "nbformat": 4,
 "nbformat_minor": 5
}
