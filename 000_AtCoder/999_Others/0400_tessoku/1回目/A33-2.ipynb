{
 "cells": [
  {
   "cell_type": "code",
   "execution_count": 1,
   "id": "fc6f3719-f334-43d1-b2b1-f2772266ecbe",
   "metadata": {},
   "outputs": [
    {
     "name": "stdin",
     "output_type": "stream",
     "text": [
      " 2\n"
     ]
    }
   ],
   "source": [
    "N = int(input())"
   ]
  },
  {
   "cell_type": "code",
   "execution_count": 6,
   "id": "f49eb8d1-2f43-4b83-b531-855a01c999c6",
   "metadata": {},
   "outputs": [
    {
     "name": "stdin",
     "output_type": "stream",
     "text": [
      " 5 8\n"
     ]
    }
   ],
   "source": [
    "An = list(map(int, input().split()))"
   ]
  },
  {
   "cell_type": "code",
   "execution_count": 7,
   "id": "1df749c9-ad9d-44a1-9a45-4ed7865b1aa3",
   "metadata": {},
   "outputs": [],
   "source": [
    "ax = 0\n",
    "for A in An:\n",
    "    ax ^= A"
   ]
  },
  {
   "cell_type": "code",
   "execution_count": 8,
   "id": "ebbe21c1-9ad4-4979-9d81-b692113befb9",
   "metadata": {},
   "outputs": [
    {
     "name": "stdout",
     "output_type": "stream",
     "text": [
      "First\n"
     ]
    }
   ],
   "source": [
    "print('First' if ax != 0 else 'Second')"
   ]
  },
  {
   "cell_type": "code",
   "execution_count": 5,
   "id": "2eadd0c9-76f2-4df7-9709-81c72cb0b107",
   "metadata": {},
   "outputs": [
    {
     "data": {
      "text/plain": [
       "0"
      ]
     },
     "execution_count": 5,
     "metadata": {},
     "output_type": "execute_result"
    }
   ],
   "source": [
    "ax"
   ]
  },
  {
   "cell_type": "code",
   "execution_count": null,
   "id": "76d28e55-05a6-49a1-932a-b3ca3602e6e6",
   "metadata": {},
   "outputs": [],
   "source": []
  }
 ],
 "metadata": {
  "kernelspec": {
   "display_name": "Python 3",
   "language": "python",
   "name": "python3"
  },
  "language_info": {
   "codemirror_mode": {
    "name": "ipython",
    "version": 3
   },
   "file_extension": ".py",
   "mimetype": "text/x-python",
   "name": "python",
   "nbconvert_exporter": "python",
   "pygments_lexer": "ipython3",
   "version": "3.6.13"
  }
 },
 "nbformat": 4,
 "nbformat_minor": 5
}
