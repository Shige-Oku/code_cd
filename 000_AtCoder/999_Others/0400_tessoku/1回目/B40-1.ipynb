{
 "cells": [
  {
   "cell_type": "code",
   "execution_count": 1,
   "id": "14a395fb-2431-4d8d-982e-f6af5167ec38",
   "metadata": {},
   "outputs": [
    {
     "name": "stdin",
     "output_type": "stream",
     "text": [
      " 9\n"
     ]
    }
   ],
   "source": [
    "N = int(input())"
   ]
  },
  {
   "cell_type": "code",
   "execution_count": 14,
   "id": "70d6131f-c0e2-4cb7-b6ed-15deddcc070b",
   "metadata": {},
   "outputs": [
    {
     "name": "stdin",
     "output_type": "stream",
     "text": [
      " 10 20 30 40 50 60 70 80 90\n"
     ]
    }
   ],
   "source": [
    "An = list(map(int, input().split()))"
   ]
  },
  {
   "cell_type": "code",
   "execution_count": 15,
   "id": "3ca9f106-43fa-436a-ac32-d03715cc7d7b",
   "metadata": {},
   "outputs": [],
   "source": [
    "An_m = []\n",
    "for A in An:\n",
    "    An_m.append(A % 100)"
   ]
  },
  {
   "cell_type": "code",
   "execution_count": 18,
   "id": "7ee14c43-d5ec-4f01-9b66-2f09307cfa47",
   "metadata": {},
   "outputs": [],
   "source": [
    "from collections import Counter\n",
    "An_c = Counter(An_m)\n",
    "ans = 0\n",
    "s = set()\n",
    "for k, v in An_c.items():\n",
    "    if k in s:\n",
    "        continue\n",
    "    if k == 50 or k == 0:\n",
    "        ans += v * (v-1) // 2\n",
    "    else:\n",
    "        ans += v * An_c[100-k]\n",
    "    s.add(100-k)"
   ]
  },
  {
   "cell_type": "code",
   "execution_count": 19,
   "id": "6a51aa2a-caa5-431d-bc61-da6e366c0b14",
   "metadata": {},
   "outputs": [
    {
     "name": "stdout",
     "output_type": "stream",
     "text": [
      "4\n"
     ]
    }
   ],
   "source": [
    "print(ans)"
   ]
  },
  {
   "cell_type": "code",
   "execution_count": null,
   "id": "7f8439bd-d93f-47b3-918d-db0c28e8f089",
   "metadata": {},
   "outputs": [],
   "source": []
  }
 ],
 "metadata": {
  "kernelspec": {
   "display_name": "Python 3",
   "language": "python",
   "name": "python3"
  },
  "language_info": {
   "codemirror_mode": {
    "name": "ipython",
    "version": 3
   },
   "file_extension": ".py",
   "mimetype": "text/x-python",
   "name": "python",
   "nbconvert_exporter": "python",
   "pygments_lexer": "ipython3",
   "version": "3.6.13"
  }
 },
 "nbformat": 4,
 "nbformat_minor": 5
}
