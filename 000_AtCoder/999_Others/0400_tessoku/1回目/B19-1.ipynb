{
 "cells": [
  {
   "cell_type": "code",
   "execution_count": 1,
   "id": "47fe2764-575c-48d6-86ae-a06193434f38",
   "metadata": {},
   "outputs": [
    {
     "name": "stdin",
     "output_type": "stream",
     "text": [
      " 4 7\n"
     ]
    }
   ],
   "source": [
    "N, W = map(int, input().split())"
   ]
  },
  {
   "cell_type": "code",
   "execution_count": 2,
   "id": "11edbc12-295c-4cee-8e9f-3c805bf08573",
   "metadata": {},
   "outputs": [
    {
     "name": "stdin",
     "output_type": "stream",
     "text": [
      " 3 13\n",
      " 3 17\n",
      " 5 29\n",
      " 1 10\n"
     ]
    }
   ],
   "source": [
    "WVn = [list(map(int, input().split())) for _ in range(N)]"
   ]
  },
  {
   "cell_type": "code",
   "execution_count": 23,
   "id": "45ac0f61-68a8-4df6-bfe8-a0610b5afe95",
   "metadata": {},
   "outputs": [],
   "source": [
    "dp = [[10**10] * ((1000+1) * (N+1)) for _ in range(N+1)]\n",
    "dp[0][0] = 0\n",
    "for i, (w, v) in enumerate(WVn):\n",
    "    for j in range((1000+1)*N+1):\n",
    "        dp[i+1][j] = min(dp[i][j], dp[i+1][j])\n",
    "        dp[i+1][j+v] = min(dp[i+1][j+v], dp[i][j] + w)"
   ]
  },
  {
   "cell_type": "code",
   "execution_count": 24,
   "id": "374a08c5-cbd3-4673-a638-b7710a9faafb",
   "metadata": {},
   "outputs": [
    {
     "name": "stdout",
     "output_type": "stream",
     "text": [
      "40\n"
     ]
    }
   ],
   "source": [
    "ans = 0\n",
    "for i, w in enumerate(dp[N]):\n",
    "    if 0 <= w <= W:\n",
    "        ans = i\n",
    "print(ans)"
   ]
  },
  {
   "cell_type": "code",
   "execution_count": 22,
   "id": "79bdf3a0-7874-40c4-96dc-7de7082d4e98",
   "metadata": {},
   "outputs": [
    {
     "data": {
      "text/plain": [
       "(0, 3991, 3, 13, 4004)"
      ]
     },
     "execution_count": 22,
     "metadata": {},
     "output_type": "execute_result"
    }
   ],
   "source": [
    "i, j, w, v, len(dp[0])"
   ]
  },
  {
   "cell_type": "code",
   "execution_count": 18,
   "id": "755c2765-fddd-4cda-9999-f9e6ed49d6fa",
   "metadata": {},
   "outputs": [
    {
     "data": {
      "text/plain": [
       "[10000000000,\n",
       " 10000000000,\n",
       " 10000000000,\n",
       " 10000000000,\n",
       " 10000000000,\n",
       " 10000000000,\n",
       " 10000000000,\n",
       " 10000000000,\n",
       " 10000000000,\n",
       " 10000000000,\n",
       " 10000000000,\n",
       " 10000000000,\n",
       " 10000000000,\n",
       " 10000000000,\n",
       " 10000000000,\n",
       " 10000000000,\n",
       " 10000000000,\n",
       " 10000000000,\n",
       " 10000000000,\n",
       " 10000000000]"
      ]
     },
     "execution_count": 18,
     "metadata": {},
     "output_type": "execute_result"
    }
   ],
   "source": [
    "dp[i][3980:4000]"
   ]
  },
  {
   "cell_type": "code",
   "execution_count": null,
   "id": "3b3eaf99-0055-4750-880f-c3c1547026e6",
   "metadata": {},
   "outputs": [],
   "source": []
  }
 ],
 "metadata": {
  "kernelspec": {
   "display_name": "Python 3",
   "language": "python",
   "name": "python3"
  },
  "language_info": {
   "codemirror_mode": {
    "name": "ipython",
    "version": 3
   },
   "file_extension": ".py",
   "mimetype": "text/x-python",
   "name": "python",
   "nbconvert_exporter": "python",
   "pygments_lexer": "ipython3",
   "version": "3.6.13"
  }
 },
 "nbformat": 4,
 "nbformat_minor": 5
}
