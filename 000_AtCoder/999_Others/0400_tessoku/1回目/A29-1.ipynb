{
 "cells": [
  {
   "cell_type": "code",
   "execution_count": 4,
   "id": "9acd6028-fd7d-4a52-b806-82fa110683a8",
   "metadata": {},
   "outputs": [
    {
     "name": "stdin",
     "output_type": "stream",
     "text": [
      " 97 998244353\n"
     ]
    }
   ],
   "source": [
    "A, B = map(int, input().split())"
   ]
  },
  {
   "cell_type": "code",
   "execution_count": 5,
   "id": "aea63fbe-c909-49c8-a5de-87d4ebeac16f",
   "metadata": {},
   "outputs": [
    {
     "name": "stdout",
     "output_type": "stream",
     "text": [
      "934801994\n"
     ]
    }
   ],
   "source": [
    "print(pow(A, B, 1000000007))"
   ]
  },
  {
   "cell_type": "code",
   "execution_count": 8,
   "id": "5f448973-c8c1-45ec-8986-adbcbee38767",
   "metadata": {},
   "outputs": [],
   "source": [
    "import sys\n",
    "sys.setrecursionlimit(10**6)\n",
    "from functools import lru_cache\n",
    "@lru_cache(maxsize=None)\n",
    "def execute(n):\n",
    "    if n == 1:\n",
    "        return A\n",
    "    if n == 2:\n",
    "        return A*A\n",
    "    l = n // 2\n",
    "    r = n - l\n",
    "    \n",
    "    return execute(l) * execute(r) % 1000000007"
   ]
  },
  {
   "cell_type": "code",
   "execution_count": 10,
   "id": "cb322174-319e-4035-8075-d6bc4a85c190",
   "metadata": {},
   "outputs": [
    {
     "name": "stdout",
     "output_type": "stream",
     "text": [
      "934801994\n"
     ]
    }
   ],
   "source": [
    "print(execute(B))"
   ]
  },
  {
   "cell_type": "code",
   "execution_count": null,
   "id": "7ce88ccf-70c0-4559-a390-39865718023f",
   "metadata": {},
   "outputs": [],
   "source": []
  }
 ],
 "metadata": {
  "kernelspec": {
   "display_name": "Python 3",
   "language": "python",
   "name": "python3"
  },
  "language_info": {
   "codemirror_mode": {
    "name": "ipython",
    "version": 3
   },
   "file_extension": ".py",
   "mimetype": "text/x-python",
   "name": "python",
   "nbconvert_exporter": "python",
   "pygments_lexer": "ipython3",
   "version": "3.6.13"
  }
 },
 "nbformat": 4,
 "nbformat_minor": 5
}
