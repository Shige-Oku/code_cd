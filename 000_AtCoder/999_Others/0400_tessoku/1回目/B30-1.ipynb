{
 "cells": [
  {
   "cell_type": "code",
   "execution_count": 74,
   "id": "c8e5ee46-da29-412b-a32e-f83378b61df5",
   "metadata": {},
   "outputs": [
    {
     "name": "stdin",
     "output_type": "stream",
     "text": [
      " 869 120\n"
     ]
    }
   ],
   "source": [
    "H, W = map(int, input().split())"
   ]
  },
  {
   "cell_type": "code",
   "execution_count": 75,
   "id": "0bd25a6e-b3a7-4b4c-ad00-589899d5e24c",
   "metadata": {},
   "outputs": [],
   "source": [
    "def calcFactorial(n, m):\n",
    "    ret = 1\n",
    "    for i in range(1, n+1):\n",
    "        ret *= i\n",
    "        ret %= m\n",
    "    return ret"
   ]
  },
  {
   "cell_type": "code",
   "execution_count": 76,
   "id": "315cf148-6b71-4e4b-897c-5c3f9bc44efd",
   "metadata": {},
   "outputs": [],
   "source": [
    "def nCr(n, r):\n",
    "    m = 10**9+7\n",
    "    s1 = calcFactorial(n, m)\n",
    "    b1 = calcFactorial(r, m)\n",
    "    b2 = calcFactorial(n-r, m)\n",
    "    b = b1 * b2\n",
    "    b %= m\n",
    "    return s1 * pow(b, m-2, m) % m  "
   ]
  },
  {
   "cell_type": "code",
   "execution_count": 77,
   "id": "e83162e2-ea37-4cab-a8a1-2b7ee9ead3a7",
   "metadata": {},
   "outputs": [
    {
     "name": "stdout",
     "output_type": "stream",
     "text": [
      "223713395\n"
     ]
    }
   ],
   "source": [
    "if H == 1 or W == 1:\n",
    "    print(1)\n",
    "else:\n",
    "    print(nCr(H+W-2, W-1))"
   ]
  },
  {
   "cell_type": "code",
   "execution_count": 78,
   "id": "f61211ae-26c1-4375-b8d1-64f04f776262",
   "metadata": {},
   "outputs": [],
   "source": [
    "dp = [[0] * W for _ in range(H+1)]\n",
    "dp[0][0] = 1\n",
    "for i in range(1, H+1):\n",
    "    for j in range(W):\n",
    "        if j > 0:\n",
    "            dp[i][j] = dp[i][j-1]\n",
    "        dp[i][j] += dp[i-1][j]\n",
    "        dp[i][j] %= 10**7"
   ]
  },
  {
   "cell_type": "code",
   "execution_count": 82,
   "id": "0da5c28a-ceb1-49f7-aabd-039f03d39200",
   "metadata": {},
   "outputs": [
    {
     "name": "stdout",
     "output_type": "stream",
     "text": [
      "5009000\n"
     ]
    }
   ],
   "source": [
    "print(dp[H][W-1])"
   ]
  },
  {
   "cell_type": "code",
   "execution_count": 81,
   "id": "f84e126f-ab54-4b98-9f37-2722cecea6a2",
   "metadata": {},
   "outputs": [],
   "source": [
    "# dp"
   ]
  },
  {
   "cell_type": "code",
   "execution_count": null,
   "id": "00516ab5-0457-40eb-a6d4-813a566dd933",
   "metadata": {},
   "outputs": [],
   "source": []
  }
 ],
 "metadata": {
  "kernelspec": {
   "display_name": "Python 3",
   "language": "python",
   "name": "python3"
  },
  "language_info": {
   "codemirror_mode": {
    "name": "ipython",
    "version": 3
   },
   "file_extension": ".py",
   "mimetype": "text/x-python",
   "name": "python",
   "nbconvert_exporter": "python",
   "pygments_lexer": "ipython3",
   "version": "3.6.13"
  }
 },
 "nbformat": 4,
 "nbformat_minor": 5
}
