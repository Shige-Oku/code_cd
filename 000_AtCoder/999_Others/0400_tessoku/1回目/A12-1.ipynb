{
 "cells": [
  {
   "cell_type": "code",
   "execution_count": 1,
   "id": "25bbd750-7dde-49dd-8161-3fa0a97c9e57",
   "metadata": {},
   "outputs": [
    {
     "name": "stdin",
     "output_type": "stream",
     "text": [
      " 4 10\n"
     ]
    }
   ],
   "source": [
    "N, K = map(int, input().split())"
   ]
  },
  {
   "cell_type": "code",
   "execution_count": 2,
   "id": "7c0bb492-7dd5-4e20-9d53-72d67183bb1e",
   "metadata": {},
   "outputs": [
    {
     "name": "stdin",
     "output_type": "stream",
     "text": [
      " 1 2 3 4\n"
     ]
    }
   ],
   "source": [
    "An = list(map(int, input().split()))"
   ]
  },
  {
   "cell_type": "code",
   "execution_count": 8,
   "id": "40cb873b-6c24-44ca-a134-6be9bbbbffae",
   "metadata": {},
   "outputs": [],
   "source": [
    "def my_check(n):\n",
    "    cnt = 0\n",
    "    for A in An:\n",
    "        cnt += n // A\n",
    "    \n",
    "    return cnt >= K"
   ]
  },
  {
   "cell_type": "code",
   "execution_count": 21,
   "id": "5d6231ea-858f-43d2-afa1-326c5ad0adab",
   "metadata": {},
   "outputs": [],
   "source": [
    "def my_bisect():\n",
    "    l, r = 1, 10**10\n",
    "    while l < r:\n",
    "        m = (l + r) // 2\n",
    "        if my_check(m):\n",
    "            r = m\n",
    "        else:\n",
    "            l = m + 1\n",
    "    return r"
   ]
  },
  {
   "cell_type": "code",
   "execution_count": 22,
   "id": "d173bdab-7392-427a-8392-600290aaa029",
   "metadata": {},
   "outputs": [
    {
     "name": "stdout",
     "output_type": "stream",
     "text": [
      "6\n"
     ]
    }
   ],
   "source": [
    "print(my_bisect())"
   ]
  },
  {
   "cell_type": "code",
   "execution_count": null,
   "id": "94466331-f3c9-482c-a789-67328b724036",
   "metadata": {},
   "outputs": [],
   "source": []
  }
 ],
 "metadata": {
  "kernelspec": {
   "display_name": "Python 3",
   "language": "python",
   "name": "python3"
  },
  "language_info": {
   "codemirror_mode": {
    "name": "ipython",
    "version": 3
   },
   "file_extension": ".py",
   "mimetype": "text/x-python",
   "name": "python",
   "nbconvert_exporter": "python",
   "pygments_lexer": "ipython3",
   "version": "3.6.13"
  }
 },
 "nbformat": 4,
 "nbformat_minor": 5
}
