{
 "cells": [
  {
   "cell_type": "code",
   "execution_count": 1,
   "id": "78f6cd3a-92da-4bbc-b124-374404ac1745",
   "metadata": {},
   "outputs": [
    {
     "name": "stdin",
     "output_type": "stream",
     "text": [
      " 5 3\n"
     ]
    }
   ],
   "source": [
    "D, N = map(int, input().split())"
   ]
  },
  {
   "cell_type": "code",
   "execution_count": 2,
   "id": "e668828e-c186-44d4-91b7-20d5f600b52d",
   "metadata": {},
   "outputs": [
    {
     "name": "stdin",
     "output_type": "stream",
     "text": [
      " 1 2 22\n",
      " 2 3 16\n",
      " 3 5 23\n"
     ]
    }
   ],
   "source": [
    "LRHn = [list(map(int, input().split())) for _ in range(N)]"
   ]
  },
  {
   "cell_type": "code",
   "execution_count": 7,
   "id": "8a9a504b-7032-4f52-8121-b2071527793c",
   "metadata": {},
   "outputs": [],
   "source": [
    "dw = [24] * (D+1)\n",
    "dw[0] = 0\n",
    "for L, R, H in LRHn:\n",
    "    for i in range(L, R+1):\n",
    "        dw[i] = min(dw[i], H)"
   ]
  },
  {
   "cell_type": "code",
   "execution_count": 8,
   "id": "0bbd2a11-0f6d-48a4-8f0a-8ed188931d71",
   "metadata": {},
   "outputs": [
    {
     "name": "stdout",
     "output_type": "stream",
     "text": [
      "100\n"
     ]
    }
   ],
   "source": [
    "print(sum(dw))"
   ]
  },
  {
   "cell_type": "code",
   "execution_count": 6,
   "id": "999df4d6-c038-485a-b1fa-16ac9c87784f",
   "metadata": {},
   "outputs": [
    {
     "data": {
      "text/plain": [
       "[24, 22, 16, 16, 23, 23]"
      ]
     },
     "execution_count": 6,
     "metadata": {},
     "output_type": "execute_result"
    }
   ],
   "source": [
    "dw"
   ]
  },
  {
   "cell_type": "code",
   "execution_count": null,
   "id": "0b9417f4-16e2-428e-a2ab-8bc519638810",
   "metadata": {},
   "outputs": [],
   "source": []
  }
 ],
 "metadata": {
  "kernelspec": {
   "display_name": "Python 3",
   "language": "python",
   "name": "python3"
  },
  "language_info": {
   "codemirror_mode": {
    "name": "ipython",
    "version": 3
   },
   "file_extension": ".py",
   "mimetype": "text/x-python",
   "name": "python",
   "nbconvert_exporter": "python",
   "pygments_lexer": "ipython3",
   "version": "3.6.13"
  }
 },
 "nbformat": 4,
 "nbformat_minor": 5
}
