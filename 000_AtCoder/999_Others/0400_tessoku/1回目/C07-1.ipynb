{
 "cells": [
  {
   "cell_type": "code",
   "execution_count": 1,
   "id": "7772ec60-fb1f-4da7-a6c5-4d223744d2ff",
   "metadata": {},
   "outputs": [
    {
     "name": "stdin",
     "output_type": "stream",
     "text": [
      " 5\n"
     ]
    }
   ],
   "source": [
    "N = int(input())"
   ]
  },
  {
   "cell_type": "code",
   "execution_count": 2,
   "id": "7f84302d-7e13-4df5-a725-82a6e84e7148",
   "metadata": {},
   "outputs": [
    {
     "name": "stdin",
     "output_type": "stream",
     "text": [
      " 300 100 400 100 500\n"
     ]
    }
   ],
   "source": [
    "Cn = list(map(int, input().split()))"
   ]
  },
  {
   "cell_type": "code",
   "execution_count": 3,
   "id": "f6eecd99-2fef-4921-81c8-ffa1c25f8ff4",
   "metadata": {},
   "outputs": [
    {
     "name": "stdin",
     "output_type": "stream",
     "text": [
      " 3\n"
     ]
    }
   ],
   "source": [
    "Q = int(input())"
   ]
  },
  {
   "cell_type": "code",
   "execution_count": 8,
   "id": "d0d0eeaa-2fd9-4d5b-8034-645ee05a05a1",
   "metadata": {},
   "outputs": [
    {
     "name": "stdin",
     "output_type": "stream",
     "text": [
      " 500\n",
      " 250\n",
      " 40\n"
     ]
    }
   ],
   "source": [
    "Xq = [int(input()) for _ in range(Q)]"
   ]
  },
  {
   "cell_type": "code",
   "execution_count": 17,
   "id": "6ad9ade7-e3c2-4ac8-9be5-88d1af8584dd",
   "metadata": {},
   "outputs": [
    {
     "name": "stdout",
     "output_type": "stream",
     "text": [
      "3\n",
      "2\n",
      "0\n"
     ]
    }
   ],
   "source": [
    "from itertools import accumulate\n",
    "from bisect import bisect_left\n",
    "Cn_s = sorted(Cn)\n",
    "Cn_s2 = [0] + list(accumulate(Cn_s))\n",
    "for X in Xq:\n",
    "    print(bisect_left(Cn_s2, X+1) - 1)"
   ]
  },
  {
   "cell_type": "code",
   "execution_count": 14,
   "id": "c15f8054-feb9-4063-89ae-f7916181fd56",
   "metadata": {},
   "outputs": [
    {
     "data": {
      "text/plain": [
       "[0, 100, 200, 500, 900, 1400]"
      ]
     },
     "execution_count": 14,
     "metadata": {},
     "output_type": "execute_result"
    }
   ],
   "source": [
    "Cn_s2"
   ]
  },
  {
   "cell_type": "code",
   "execution_count": null,
   "id": "34604ac4-68d0-479a-93f6-4f6790b37c9e",
   "metadata": {},
   "outputs": [],
   "source": []
  }
 ],
 "metadata": {
  "kernelspec": {
   "display_name": "Python 3",
   "language": "python",
   "name": "python3"
  },
  "language_info": {
   "codemirror_mode": {
    "name": "ipython",
    "version": 3
   },
   "file_extension": ".py",
   "mimetype": "text/x-python",
   "name": "python",
   "nbconvert_exporter": "python",
   "pygments_lexer": "ipython3",
   "version": "3.6.13"
  }
 },
 "nbformat": 4,
 "nbformat_minor": 5
}
