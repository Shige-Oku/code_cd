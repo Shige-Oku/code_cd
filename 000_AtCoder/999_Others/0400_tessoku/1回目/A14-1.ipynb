{
 "cells": [
  {
   "cell_type": "code",
   "execution_count": 1,
   "id": "c0e0c71a-34b0-44e6-ac52-eabdb5b33a48",
   "metadata": {},
   "outputs": [
    {
     "name": "stdin",
     "output_type": "stream",
     "text": [
      " 3 50\n"
     ]
    }
   ],
   "source": [
    "N, K = map(int, input().split())"
   ]
  },
  {
   "cell_type": "code",
   "execution_count": 2,
   "id": "f91c721a-6120-4dd0-891e-892090edac11",
   "metadata": {},
   "outputs": [
    {
     "name": "stdin",
     "output_type": "stream",
     "text": [
      " 3 9 10\n"
     ]
    }
   ],
   "source": [
    "An = list(map(int, input().split()))"
   ]
  },
  {
   "cell_type": "code",
   "execution_count": 3,
   "id": "dc9a38ee-b7cf-48c2-8365-ac8fa5af24f3",
   "metadata": {},
   "outputs": [
    {
     "name": "stdin",
     "output_type": "stream",
     "text": [
      " 4 7 9\n"
     ]
    }
   ],
   "source": [
    "Bn = list(map(int, input().split()))"
   ]
  },
  {
   "cell_type": "code",
   "execution_count": 4,
   "id": "15dbb015-8aa0-42f0-961a-97ebac216c02",
   "metadata": {},
   "outputs": [
    {
     "name": "stdin",
     "output_type": "stream",
     "text": [
      " 10 20 30\n"
     ]
    }
   ],
   "source": [
    "Cn = list(map(int, input().split()))"
   ]
  },
  {
   "cell_type": "code",
   "execution_count": 5,
   "id": "f8c4d6eb-20fc-479c-9382-a5403d0aec0a",
   "metadata": {},
   "outputs": [
    {
     "name": "stdin",
     "output_type": "stream",
     "text": [
      " 1 2 3\n"
     ]
    }
   ],
   "source": [
    "Dn = list(map(int, input().split()))"
   ]
  },
  {
   "cell_type": "code",
   "execution_count": 10,
   "id": "d98172cf-ce36-43f5-8cd6-4f48f96e2590",
   "metadata": {},
   "outputs": [],
   "source": [
    "ABn = set()\n",
    "for A in An:\n",
    "    for B in Bn:\n",
    "        ABn.add(A + B)\n",
    "CDn = set()\n",
    "for C in Cn:\n",
    "    for D in Dn:\n",
    "        CDn.add(C + D)"
   ]
  },
  {
   "cell_type": "code",
   "execution_count": 11,
   "id": "007a381b-5210-4134-a622-ae9961402fe1",
   "metadata": {},
   "outputs": [
    {
     "name": "stdout",
     "output_type": "stream",
     "text": [
      "Yes\n"
     ]
    }
   ],
   "source": [
    "for AB in ABn:\n",
    "    if K - AB in CDn:\n",
    "        print('Yes')\n",
    "        break\n",
    "else:\n",
    "    print('No')"
   ]
  },
  {
   "cell_type": "code",
   "execution_count": 12,
   "id": "218f52d5-f289-4215-8347-93a01b8e7e05",
   "metadata": {},
   "outputs": [
    {
     "data": {
      "text/plain": [
       "({7, 10, 12, 13, 14, 16, 17, 18, 19}, {11, 12, 13, 21, 22, 23, 31, 32, 33})"
      ]
     },
     "execution_count": 12,
     "metadata": {},
     "output_type": "execute_result"
    }
   ],
   "source": [
    "ABn, CDn"
   ]
  },
  {
   "cell_type": "code",
   "execution_count": null,
   "id": "d29ffe8c-68bd-471e-8d2d-48f3d2f88c2d",
   "metadata": {},
   "outputs": [],
   "source": []
  }
 ],
 "metadata": {
  "kernelspec": {
   "display_name": "Python 3",
   "language": "python",
   "name": "python3"
  },
  "language_info": {
   "codemirror_mode": {
    "name": "ipython",
    "version": 3
   },
   "file_extension": ".py",
   "mimetype": "text/x-python",
   "name": "python",
   "nbconvert_exporter": "python",
   "pygments_lexer": "ipython3",
   "version": "3.6.13"
  }
 },
 "nbformat": 4,
 "nbformat_minor": 5
}
