{
 "cells": [
  {
   "cell_type": "code",
   "execution_count": 1,
   "id": "8fb7d13d-3ece-438c-bea3-d80365a87d8a",
   "metadata": {},
   "outputs": [
    {
     "name": "stdin",
     "output_type": "stream",
     "text": [
      " 5 4\n"
     ]
    }
   ],
   "source": [
    "N, M = map(int, input().split())"
   ]
  },
  {
   "cell_type": "code",
   "execution_count": 2,
   "id": "00eb4dbe-876e-4d8a-bae7-8a943935b102",
   "metadata": {},
   "outputs": [
    {
     "name": "stdin",
     "output_type": "stream",
     "text": [
      " 1 2\n",
      " 2 3\n",
      " 3 4\n",
      " 3 5\n"
     ]
    }
   ],
   "source": [
    "ABm = [list(map(int, input().split())) for _ in range(M)]"
   ]
  },
  {
   "cell_type": "code",
   "execution_count": 3,
   "id": "fa26f109-e813-4c14-9d19-aa59afb12105",
   "metadata": {},
   "outputs": [],
   "source": [
    "graph = [[] for _ in range(N+1)]\n",
    "for A, B, in ABm:\n",
    "    graph[A].append(B)\n",
    "    graph[B].append(A)"
   ]
  },
  {
   "cell_type": "code",
   "execution_count": 9,
   "id": "dc29e389-abd1-4716-a845-5fd80994e061",
   "metadata": {},
   "outputs": [
    {
     "name": "stdout",
     "output_type": "stream",
     "text": [
      "1:{2}\n",
      "2:{1, 3}\n",
      "3:{2, 4, 5}\n",
      "4:{3}\n",
      "5:{3}\n"
     ]
    }
   ],
   "source": [
    "for i in range(1, N+1):\n",
    "    ans = '{0}:{1}'.format(i, graph[i])\n",
    "    ans = ans.replace('[', '{')\n",
    "    ans = ans.replace(']', '}')\n",
    "    print(ans)"
   ]
  },
  {
   "cell_type": "code",
   "execution_count": null,
   "id": "4eaa5d17-65b5-4b50-aba6-f467acd96c0a",
   "metadata": {},
   "outputs": [],
   "source": []
  }
 ],
 "metadata": {
  "kernelspec": {
   "display_name": "Python 3",
   "language": "python",
   "name": "python3"
  },
  "language_info": {
   "codemirror_mode": {
    "name": "ipython",
    "version": 3
   },
   "file_extension": ".py",
   "mimetype": "text/x-python",
   "name": "python",
   "nbconvert_exporter": "python",
   "pygments_lexer": "ipython3",
   "version": "3.6.13"
  }
 },
 "nbformat": 4,
 "nbformat_minor": 5
}
