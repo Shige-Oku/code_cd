{
 "cells": [
  {
   "cell_type": "code",
   "execution_count": 1,
   "id": "56caf1c9-e7a5-43cd-a82c-dc727e2b6900",
   "metadata": {},
   "outputs": [
    {
     "name": "stdin",
     "output_type": "stream",
     "text": [
      " 7 4\n"
     ]
    }
   ],
   "source": [
    "N, Q = map(int, input().split())"
   ]
  },
  {
   "cell_type": "code",
   "execution_count": 2,
   "id": "03d6c3d6-a69c-43db-9eda-47a345cfd5ad",
   "metadata": {},
   "outputs": [
    {
     "name": "stdin",
     "output_type": "stream",
     "text": [
      " 2 4 1 7 6 5 3\n"
     ]
    }
   ],
   "source": [
    "An = list(map(int, input().split()))"
   ]
  },
  {
   "cell_type": "code",
   "execution_count": 3,
   "id": "c2cca077-3663-40cd-9130-c7aa764161b6",
   "metadata": {},
   "outputs": [
    {
     "name": "stdin",
     "output_type": "stream",
     "text": [
      " 1 1\n",
      " 1 5\n",
      " 2 13\n",
      " 5 999999999\n"
     ]
    }
   ],
   "source": [
    "XYq = [list(map(int, input().split())) for _ in range(Q)]"
   ]
  },
  {
   "cell_type": "code",
   "execution_count": 15,
   "id": "21efab2a-4c91-4f34-8597-062d92586652",
   "metadata": {},
   "outputs": [],
   "source": [
    "hole = [[0] * N for _ in range(32)]\n",
    "for i in range(N):\n",
    "    hole[0][i] = An[i]"
   ]
  },
  {
   "cell_type": "code",
   "execution_count": 16,
   "id": "2acba888-8ceb-4f66-8a4f-38d93fe7e369",
   "metadata": {},
   "outputs": [],
   "source": [
    "for i in range(1, 32):\n",
    "    for j in range(N):\n",
    "        k = hole[i-1][j]\n",
    "        k -= 1\n",
    "        hole[i][j] = hole[i-1][k]"
   ]
  },
  {
   "cell_type": "code",
   "execution_count": 29,
   "id": "7769f63e-d758-4285-a341-e2c26548b7d6",
   "metadata": {},
   "outputs": [
    {
     "name": "stdout",
     "output_type": "stream",
     "text": [
      "2\n",
      "1\n",
      "3\n",
      "6\n"
     ]
    }
   ],
   "source": [
    "for X, Y in XYq:\n",
    "    bi = '{:031b}'.format(Y)\n",
    "    k = 30\n",
    "    p = X\n",
    "    for b in bi:\n",
    "        if b == '1':\n",
    "            p = hole[k][p-1]\n",
    "        k -= 1\n",
    "    print(p)"
   ]
  },
  {
   "cell_type": "code",
   "execution_count": 22,
   "id": "18f5f74b-0edd-468b-ad75-766d1f34a7a7",
   "metadata": {},
   "outputs": [
    {
     "data": {
      "text/plain": [
       "(True, 31, 6, 7)"
      ]
     },
     "execution_count": 22,
     "metadata": {},
     "output_type": "execute_result"
    }
   ],
   "source": [
    "2**30 > 10**9, i, j, p"
   ]
  },
  {
   "cell_type": "code",
   "execution_count": 14,
   "id": "765bdc71-b876-4121-b10c-1dfeb1842575",
   "metadata": {},
   "outputs": [
    {
     "data": {
      "text/plain": [
       "([[1, 1], [1, 5], [2, 13], [5, 999999999]],\n",
       " [[2, 4, 1, 7, 6, 5, 3],\n",
       "  [4, 7, 2, 3, 5, 6, 1],\n",
       "  [3, 1, 7, 2, 5, 6, 4],\n",
       "  [7, 3, 4, 1, 5, 6, 2],\n",
       "  [2, 4, 1, 7, 5, 6, 3],\n",
       "  [4, 7, 2, 3, 5, 6, 1],\n",
       "  [3, 1, 7, 2, 5, 6, 4],\n",
       "  [7, 3, 4, 1, 5, 6, 2],\n",
       "  [2, 4, 1, 7, 5, 6, 3],\n",
       "  [4, 7, 2, 3, 5, 6, 1],\n",
       "  [3, 1, 7, 2, 5, 6, 4],\n",
       "  [7, 3, 4, 1, 5, 6, 2],\n",
       "  [2, 4, 1, 7, 5, 6, 3],\n",
       "  [4, 7, 2, 3, 5, 6, 1],\n",
       "  [3, 1, 7, 2, 5, 6, 4],\n",
       "  [7, 3, 4, 1, 5, 6, 2],\n",
       "  [2, 4, 1, 7, 5, 6, 3],\n",
       "  [4, 7, 2, 3, 5, 6, 1],\n",
       "  [3, 1, 7, 2, 5, 6, 4],\n",
       "  [7, 3, 4, 1, 5, 6, 2],\n",
       "  [2, 4, 1, 7, 5, 6, 3],\n",
       "  [4, 7, 2, 3, 5, 6, 1],\n",
       "  [3, 1, 7, 2, 5, 6, 4],\n",
       "  [7, 3, 4, 1, 5, 6, 2],\n",
       "  [2, 4, 1, 7, 5, 6, 3],\n",
       "  [4, 7, 2, 3, 5, 6, 1],\n",
       "  [3, 1, 7, 2, 5, 6, 4],\n",
       "  [7, 3, 4, 1, 5, 6, 2],\n",
       "  [2, 4, 1, 7, 5, 6, 3],\n",
       "  [4, 7, 2, 3, 5, 6, 1],\n",
       "  [3, 1, 7, 2, 5, 6, 4]])"
      ]
     },
     "execution_count": 14,
     "metadata": {},
     "output_type": "execute_result"
    }
   ],
   "source": [
    "XYq, hole"
   ]
  },
  {
   "cell_type": "code",
   "execution_count": 20,
   "id": "174c63aa-9921-4bd2-96e4-58a4f32786d2",
   "metadata": {},
   "outputs": [
    {
     "data": {
      "text/plain": [
       "31"
      ]
     },
     "execution_count": 20,
     "metadata": {},
     "output_type": "execute_result"
    }
   ],
   "source": [
    "len('{:031b}'.format(5))"
   ]
  },
  {
   "cell_type": "code",
   "execution_count": null,
   "id": "15914528-b8f7-4351-8040-77cca7f3126a",
   "metadata": {},
   "outputs": [],
   "source": []
  }
 ],
 "metadata": {
  "kernelspec": {
   "display_name": "Python 3",
   "language": "python",
   "name": "python3"
  },
  "language_info": {
   "codemirror_mode": {
    "name": "ipython",
    "version": 3
   },
   "file_extension": ".py",
   "mimetype": "text/x-python",
   "name": "python",
   "nbconvert_exporter": "python",
   "pygments_lexer": "ipython3",
   "version": "3.6.13"
  }
 },
 "nbformat": 4,
 "nbformat_minor": 5
}
