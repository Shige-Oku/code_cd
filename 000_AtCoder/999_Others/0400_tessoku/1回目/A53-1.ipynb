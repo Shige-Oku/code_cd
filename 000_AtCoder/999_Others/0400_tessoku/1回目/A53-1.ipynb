{
 "cells": [
  {
   "cell_type": "code",
   "execution_count": 1,
   "id": "273b18c5-2dbb-4d19-a78c-4d24df161d4f",
   "metadata": {},
   "outputs": [
    {
     "name": "stdin",
     "output_type": "stream",
     "text": [
      " 3\n"
     ]
    }
   ],
   "source": [
    "Q = int(input())"
   ]
  },
  {
   "cell_type": "code",
   "execution_count": 2,
   "id": "0a6f7fd0-af13-4533-81d9-b4d741493ec9",
   "metadata": {},
   "outputs": [
    {
     "name": "stdin",
     "output_type": "stream",
     "text": [
      " 1 2420\n",
      " 1 1650\n",
      " 2\n"
     ]
    }
   ],
   "source": [
    "Qn = [input().split() for _ in range(Q)]"
   ]
  },
  {
   "cell_type": "code",
   "execution_count": 9,
   "id": "6b092a94-979e-4a13-90be-27767bae5056",
   "metadata": {},
   "outputs": [
    {
     "name": "stdout",
     "output_type": "stream",
     "text": [
      "1650\n"
     ]
    }
   ],
   "source": [
    "import heapq\n",
    "que = []\n",
    "for q in Qn:\n",
    "    op = q[0]\n",
    "    if op == '1':\n",
    "        v = int(q[1])\n",
    "        heapq.heappush(que, v)\n",
    "    elif op == '2':\n",
    "        print(que[0])\n",
    "    else:\n",
    "        heapq.heappop(que)"
   ]
  },
  {
   "cell_type": "code",
   "execution_count": null,
   "id": "68d8d08c-f9b8-4ce1-a616-5ede9561cc78",
   "metadata": {},
   "outputs": [],
   "source": []
  }
 ],
 "metadata": {
  "kernelspec": {
   "display_name": "Python 3",
   "language": "python",
   "name": "python3"
  },
  "language_info": {
   "codemirror_mode": {
    "name": "ipython",
    "version": 3
   },
   "file_extension": ".py",
   "mimetype": "text/x-python",
   "name": "python",
   "nbconvert_exporter": "python",
   "pygments_lexer": "ipython3",
   "version": "3.6.13"
  }
 },
 "nbformat": 4,
 "nbformat_minor": 5
}
