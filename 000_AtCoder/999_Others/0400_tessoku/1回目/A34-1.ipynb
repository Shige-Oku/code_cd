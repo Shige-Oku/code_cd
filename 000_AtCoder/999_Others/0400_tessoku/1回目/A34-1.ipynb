{
 "cells": [
  {
   "cell_type": "code",
   "execution_count": 38,
   "id": "e2df98e1-a358-4ef9-ad44-b3d433b8943e",
   "metadata": {},
   "outputs": [
    {
     "name": "stdin",
     "output_type": "stream",
     "text": [
      " 1 1 10\n"
     ]
    }
   ],
   "source": [
    "N, X, Y = map(int, input().split())"
   ]
  },
  {
   "cell_type": "code",
   "execution_count": 43,
   "id": "dba6309b-2ac0-4290-b84e-170f934e0e69",
   "metadata": {},
   "outputs": [
    {
     "name": "stdin",
     "output_type": "stream",
     "text": [
      " 20\n"
     ]
    }
   ],
   "source": [
    "An = list(map(int, input().split()))"
   ]
  },
  {
   "cell_type": "code",
   "execution_count": 49,
   "id": "44f441b2-79a8-4194-a032-89f91248d386",
   "metadata": {},
   "outputs": [],
   "source": [
    "def setGrundy():\n",
    "    for i in range(1, max(An)+1):\n",
    "        g = []\n",
    "        if i >= X:\n",
    "            g.append(dp[i-X])\n",
    "        if i >= Y:\n",
    "            g.append(dp[i-Y])\n",
    "        for j in range(3):\n",
    "            if j not in g:\n",
    "                dp[i] = j\n",
    "                break\n",
    "    return"
   ]
  },
  {
   "cell_type": "code",
   "execution_count": 50,
   "id": "b4a95963-885d-445a-82d3-99b5d39f163f",
   "metadata": {},
   "outputs": [],
   "source": [
    "dp = [0] * (max(An)+1)\n",
    "setGrundy()\n",
    "grundys = []\n",
    "for A in An:\n",
    "    grundys.append(dp[A])"
   ]
  },
  {
   "cell_type": "code",
   "execution_count": 51,
   "id": "f458f4da-56d9-48ab-b128-766d39f8b7b2",
   "metadata": {},
   "outputs": [
    {
     "name": "stdout",
     "output_type": "stream",
     "text": [
      "First\n"
     ]
    }
   ],
   "source": [
    "gx = 0\n",
    "for grundy in grundys:\n",
    "    gx ^= grundy\n",
    "print('First' if gx != 0 else 'Second')"
   ]
  },
  {
   "cell_type": "code",
   "execution_count": 47,
   "id": "df183334-9f7a-4b2d-82f2-6562f4f67c5e",
   "metadata": {},
   "outputs": [
    {
     "data": {
      "text/plain": [
       "[0]"
      ]
     },
     "execution_count": 47,
     "metadata": {},
     "output_type": "execute_result"
    }
   ],
   "source": [
    "grundys"
   ]
  },
  {
   "cell_type": "code",
   "execution_count": 48,
   "id": "689be45b-6eac-4722-add4-e99cf95665ac",
   "metadata": {},
   "outputs": [
    {
     "data": {
      "text/plain": [
       "[0, 0, 1, 0, 1, 0, 1, 0, 1, 0, 1, 2, 0, 1, 0, 1, 0, 1, 0, 1, 0]"
      ]
     },
     "execution_count": 48,
     "metadata": {},
     "output_type": "execute_result"
    }
   ],
   "source": [
    "dp"
   ]
  },
  {
   "cell_type": "code",
   "execution_count": null,
   "id": "ec356b26-9cb0-42c5-8ff2-80c15708cd5f",
   "metadata": {},
   "outputs": [],
   "source": []
  }
 ],
 "metadata": {
  "kernelspec": {
   "display_name": "Python 3",
   "language": "python",
   "name": "python3"
  },
  "language_info": {
   "codemirror_mode": {
    "name": "ipython",
    "version": 3
   },
   "file_extension": ".py",
   "mimetype": "text/x-python",
   "name": "python",
   "nbconvert_exporter": "python",
   "pygments_lexer": "ipython3",
   "version": "3.6.13"
  }
 },
 "nbformat": 4,
 "nbformat_minor": 5
}
