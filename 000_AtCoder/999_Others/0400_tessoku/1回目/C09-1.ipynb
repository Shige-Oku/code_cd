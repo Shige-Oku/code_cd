{
 "cells": [
  {
   "cell_type": "code",
   "execution_count": 1,
   "id": "134453d1-6180-4271-93b3-ecd1af293ddf",
   "metadata": {},
   "outputs": [
    {
     "name": "stdin",
     "output_type": "stream",
     "text": [
      " 5\n"
     ]
    }
   ],
   "source": [
    "N = int(input())"
   ]
  },
  {
   "cell_type": "code",
   "execution_count": 2,
   "id": "da86f605-7352-4d43-ba43-449df87abc76",
   "metadata": {},
   "outputs": [
    {
     "name": "stdin",
     "output_type": "stream",
     "text": [
      " 2 5 3 3 1\n"
     ]
    }
   ],
   "source": [
    "An = list(map(int, input().split()))"
   ]
  },
  {
   "cell_type": "code",
   "execution_count": 10,
   "id": "6425195f-5c79-416a-b383-f67fa81be649",
   "metadata": {},
   "outputs": [],
   "source": [
    "dp = [[0] * (N+1) for _ in range(2)]\n",
    "for i, A in enumerate(An, 1):\n",
    "    dp[0][i] = max(dp[0][i-1], dp[1][i-1])\n",
    "    dp[1][i] = dp[0][i-1] + A"
   ]
  },
  {
   "cell_type": "code",
   "execution_count": 11,
   "id": "123bb357-c8ef-4915-9179-879114b925fa",
   "metadata": {},
   "outputs": [
    {
     "name": "stdout",
     "output_type": "stream",
     "text": [
      "8\n"
     ]
    }
   ],
   "source": [
    "print(max(dp[0][N], dp[1][N]))"
   ]
  },
  {
   "cell_type": "code",
   "execution_count": 9,
   "id": "ccf9f9d1-1ca1-4705-bfb9-f21309a28e2d",
   "metadata": {},
   "outputs": [
    {
     "data": {
      "text/plain": [
       "2"
      ]
     },
     "execution_count": 9,
     "metadata": {},
     "output_type": "execute_result"
    }
   ],
   "source": [
    "i"
   ]
  },
  {
   "cell_type": "code",
   "execution_count": null,
   "id": "2e0673e6-e3bc-432e-9191-ab5bede3b788",
   "metadata": {},
   "outputs": [],
   "source": [
    "# WA"
   ]
  },
  {
   "cell_type": "code",
   "execution_count": 5,
   "id": "a4813db8-044e-4edf-9e34-d1f09fa9cf35",
   "metadata": {},
   "outputs": [],
   "source": [
    "e, o = 0, 0\n",
    "for i, A in enumerate(An, 1):\n",
    "    if i % 2 == 0:\n",
    "        e += A\n",
    "    else:\n",
    "        o += A"
   ]
  },
  {
   "cell_type": "code",
   "execution_count": 6,
   "id": "778845f2-bf1b-4b4b-87e3-c75f271354a9",
   "metadata": {},
   "outputs": [
    {
     "name": "stdout",
     "output_type": "stream",
     "text": [
      "8\n"
     ]
    }
   ],
   "source": [
    "print(max(e, o))"
   ]
  },
  {
   "cell_type": "code",
   "execution_count": null,
   "id": "1b1ba6f1-7c27-407d-9c3a-eaf20ef01a12",
   "metadata": {},
   "outputs": [],
   "source": []
  }
 ],
 "metadata": {
  "kernelspec": {
   "display_name": "Python 3",
   "language": "python",
   "name": "python3"
  },
  "language_info": {
   "codemirror_mode": {
    "name": "ipython",
    "version": 3
   },
   "file_extension": ".py",
   "mimetype": "text/x-python",
   "name": "python",
   "nbconvert_exporter": "python",
   "pygments_lexer": "ipython3",
   "version": "3.6.13"
  }
 },
 "nbformat": 4,
 "nbformat_minor": 5
}
