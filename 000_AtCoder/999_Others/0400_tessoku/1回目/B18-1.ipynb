{
 "cells": [
  {
   "cell_type": "code",
   "execution_count": 29,
   "id": "3a75b15c-9a73-437d-bd20-cb7c7511e252",
   "metadata": {},
   "outputs": [
    {
     "name": "stdin",
     "output_type": "stream",
     "text": [
      " 10 100\n"
     ]
    }
   ],
   "source": [
    "N, S = map(int, input().split())"
   ]
  },
  {
   "cell_type": "code",
   "execution_count": 30,
   "id": "26bc6c93-6c68-4ff9-ade0-869d2b26d108",
   "metadata": {},
   "outputs": [
    {
     "name": "stdin",
     "output_type": "stream",
     "text": [
      " 14 23 18 7 11 23 23 5 8 2\n"
     ]
    }
   ],
   "source": [
    "An = list(map(int, input().split()))"
   ]
  },
  {
   "cell_type": "code",
   "execution_count": 31,
   "id": "b055d6a7-d8ac-4753-afce-f63506f2dfcf",
   "metadata": {},
   "outputs": [],
   "source": [
    "dp = [[False] * (S+1) for _ in range(N+1)]\n",
    "dp[0][0] = True\n",
    "for i, A in enumerate(An, 1):\n",
    "    for j in range(S+1):\n",
    "        if dp[i-1][j]:\n",
    "            dp[i][j] = True\n",
    "            if j + A <= S:\n",
    "                dp[i][j+A] = True"
   ]
  },
  {
   "cell_type": "code",
   "execution_count": 34,
   "id": "f81d6b1c-2a92-4c82-9595-ded2a946c6b2",
   "metadata": {},
   "outputs": [
    {
     "name": "stdout",
     "output_type": "stream",
     "text": [
      "8\n",
      "1 3 4 6 7 8 9 10\n"
     ]
    }
   ],
   "source": [
    "if dp[N][S]:\n",
    "    ans = []\n",
    "    j = S\n",
    "    for i in range(N, 0, -1):\n",
    "        if j-An[i-1] < 0:\n",
    "            continue\n",
    "        if dp[i-1][j-An[i-1]]:\n",
    "            j -= An[i-1]\n",
    "            ans.append(i)\n",
    "    print(len(ans))\n",
    "    print(*sorted(ans))\n",
    "else:\n",
    "    print('-1')"
   ]
  },
  {
   "cell_type": "code",
   "execution_count": null,
   "id": "e3c3dc02-f17f-4b70-bff7-db1d216b9154",
   "metadata": {},
   "outputs": [],
   "source": []
  },
  {
   "cell_type": "code",
   "execution_count": null,
   "id": "603c8fad-7d85-441e-b50f-e4bedc72f558",
   "metadata": {},
   "outputs": [],
   "source": []
  }
 ],
 "metadata": {
  "kernelspec": {
   "display_name": "Python 3",
   "language": "python",
   "name": "python3"
  },
  "language_info": {
   "codemirror_mode": {
    "name": "ipython",
    "version": 3
   },
   "file_extension": ".py",
   "mimetype": "text/x-python",
   "name": "python",
   "nbconvert_exporter": "python",
   "pygments_lexer": "ipython3",
   "version": "3.6.13"
  }
 },
 "nbformat": 4,
 "nbformat_minor": 5
}
