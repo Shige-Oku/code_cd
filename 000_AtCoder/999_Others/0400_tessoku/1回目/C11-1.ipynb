{
 "cells": [
  {
   "cell_type": "code",
   "execution_count": 53,
   "id": "2cbf6fe0-3dc2-4c55-8ab0-a139fcffc784",
   "metadata": {},
   "outputs": [
    {
     "name": "stdin",
     "output_type": "stream",
     "text": [
      " 4 10\n"
     ]
    }
   ],
   "source": [
    "N, K = map(int, input().split())"
   ]
  },
  {
   "cell_type": "code",
   "execution_count": 54,
   "id": "caba3ed5-b98d-4f23-9631-0d645af4a66f",
   "metadata": {},
   "outputs": [
    {
     "name": "stdin",
     "output_type": "stream",
     "text": [
      " 1000000 700000 300000 180000\n"
     ]
    }
   ],
   "source": [
    "An = list(map(int, input().split()))"
   ]
  },
  {
   "cell_type": "code",
   "execution_count": 55,
   "id": "8f2d8a6f-a0ba-4bd9-8a27-bdb7c67a7357",
   "metadata": {},
   "outputs": [],
   "source": [
    "def myCheck(n):\n",
    "    g = 0\n",
    "    for A in An:\n",
    "        g += A // n\n",
    "    return g >= K"
   ]
  },
  {
   "cell_type": "code",
   "execution_count": 62,
   "id": "eb23b89b-2e6c-443c-9525-8c080116df3a",
   "metadata": {},
   "outputs": [],
   "source": [
    "def my_bisect():\n",
    "    l = 1.0\n",
    "    r = float(10**9)\n",
    "    while r - l > 10**(-6):\n",
    "        m = (r + l) / 2.0\n",
    "        if myCheck(m):\n",
    "            l = m\n",
    "        else:\n",
    "            r = m\n",
    "    return l"
   ]
  },
  {
   "cell_type": "code",
   "execution_count": 63,
   "id": "7b5c9354-05f0-4e29-ba97-0ddf51749052",
   "metadata": {},
   "outputs": [
    {
     "name": "stdout",
     "output_type": "stream",
     "text": [
      "5 3 1 1 "
     ]
    }
   ],
   "source": [
    "b = my_bisect()\n",
    "for A in An:\n",
    "    print(int(A//b), end=' ')"
   ]
  },
  {
   "cell_type": "code",
   "execution_count": null,
   "id": "e52837e1-fff6-49a0-99af-89ce95c18303",
   "metadata": {},
   "outputs": [],
   "source": []
  },
  {
   "cell_type": "code",
   "execution_count": null,
   "id": "6b402aec-f1fb-49dc-89c8-dc8ab602fddc",
   "metadata": {},
   "outputs": [],
   "source": []
  }
 ],
 "metadata": {
  "kernelspec": {
   "display_name": "Python 3",
   "language": "python",
   "name": "python3"
  },
  "language_info": {
   "codemirror_mode": {
    "name": "ipython",
    "version": 3
   },
   "file_extension": ".py",
   "mimetype": "text/x-python",
   "name": "python",
   "nbconvert_exporter": "python",
   "pygments_lexer": "ipython3",
   "version": "3.6.13"
  }
 },
 "nbformat": 4,
 "nbformat_minor": 5
}
