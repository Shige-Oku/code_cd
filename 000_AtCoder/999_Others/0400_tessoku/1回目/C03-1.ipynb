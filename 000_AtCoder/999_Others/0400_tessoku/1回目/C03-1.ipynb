{
 "cells": [
  {
   "cell_type": "code",
   "execution_count": 1,
   "id": "b26076b0-2432-4d04-9604-7e044213ad12",
   "metadata": {},
   "outputs": [
    {
     "name": "stdin",
     "output_type": "stream",
     "text": [
      " 5\n"
     ]
    }
   ],
   "source": [
    "D = int(input())"
   ]
  },
  {
   "cell_type": "code",
   "execution_count": 2,
   "id": "d07204b4-5f73-44c7-a63a-1405a37c01f5",
   "metadata": {},
   "outputs": [
    {
     "name": "stdin",
     "output_type": "stream",
     "text": [
      " 30\n"
     ]
    }
   ],
   "source": [
    "X = int(input())"
   ]
  },
  {
   "cell_type": "code",
   "execution_count": 4,
   "id": "bd54f411-299e-4183-b692-74230a3fb3e0",
   "metadata": {},
   "outputs": [
    {
     "name": "stdin",
     "output_type": "stream",
     "text": [
      " -10\n",
      " 20\n",
      " -10\n",
      " 20\n"
     ]
    }
   ],
   "source": [
    "Ad = [int(input()) for _ in range(D-1)]"
   ]
  },
  {
   "cell_type": "code",
   "execution_count": 5,
   "id": "80e9a6de-1fcd-4aee-807c-63106c2d870c",
   "metadata": {},
   "outputs": [
    {
     "name": "stdin",
     "output_type": "stream",
     "text": [
      " 3\n"
     ]
    }
   ],
   "source": [
    "Q = int(input())"
   ]
  },
  {
   "cell_type": "code",
   "execution_count": 6,
   "id": "72c53022-5985-42ea-a62a-d6d98554d3e0",
   "metadata": {},
   "outputs": [
    {
     "name": "stdin",
     "output_type": "stream",
     "text": [
      " 1 2\n",
      " 3 5\n",
      " 1 4\n"
     ]
    }
   ],
   "source": [
    "STq = [list(map(int, input().split())) for _ in range(Q)]"
   ]
  },
  {
   "cell_type": "code",
   "execution_count": 9,
   "id": "486e3c03-def2-4134-b244-36a166e40b3e",
   "metadata": {},
   "outputs": [
    {
     "name": "stdout",
     "output_type": "stream",
     "text": [
      "1\n",
      "5\n",
      "Same\n"
     ]
    }
   ],
   "source": [
    "stock = [0, X, ]\n",
    "for A in Ad:\n",
    "    stock.append(stock[-1] + A)\n",
    "for S, T in STq:\n",
    "    if stock[S] > stock[T]:\n",
    "        print(S)\n",
    "    elif stock[S] == stock[T]:\n",
    "        print('Same')\n",
    "    else:\n",
    "        print(T)\n",
    "        "
   ]
  },
  {
   "cell_type": "code",
   "execution_count": 8,
   "id": "5c31efb9-90ea-4b8f-931c-638c263f3806",
   "metadata": {},
   "outputs": [
    {
     "data": {
      "text/plain": [
       "[0, 30, 20, 40, 30, 50]"
      ]
     },
     "execution_count": 8,
     "metadata": {},
     "output_type": "execute_result"
    }
   ],
   "source": [
    "stock"
   ]
  },
  {
   "cell_type": "code",
   "execution_count": null,
   "id": "eb8039eb-8707-4d06-9ea8-18824bb6fcf7",
   "metadata": {},
   "outputs": [],
   "source": []
  }
 ],
 "metadata": {
  "kernelspec": {
   "display_name": "Python 3",
   "language": "python",
   "name": "python3"
  },
  "language_info": {
   "codemirror_mode": {
    "name": "ipython",
    "version": 3
   },
   "file_extension": ".py",
   "mimetype": "text/x-python",
   "name": "python",
   "nbconvert_exporter": "python",
   "pygments_lexer": "ipython3",
   "version": "3.6.13"
  }
 },
 "nbformat": 4,
 "nbformat_minor": 5
}
