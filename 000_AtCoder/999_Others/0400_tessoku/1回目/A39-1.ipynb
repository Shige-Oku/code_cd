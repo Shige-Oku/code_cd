{
 "cells": [
  {
   "cell_type": "code",
   "execution_count": 1,
   "id": "9a1fb741-1be5-4de2-a7bb-df545b09baad",
   "metadata": {},
   "outputs": [
    {
     "name": "stdin",
     "output_type": "stream",
     "text": [
      " 3\n"
     ]
    }
   ],
   "source": [
    "N = int(input())"
   ]
  },
  {
   "cell_type": "code",
   "execution_count": 10,
   "id": "cc36bc7a-1f21-4de0-8c90-bf5626130759",
   "metadata": {},
   "outputs": [
    {
     "name": "stdin",
     "output_type": "stream",
     "text": [
      " 1 86400\n",
      " 123 86399\n",
      " 86399 86400\n"
     ]
    }
   ],
   "source": [
    "LRn = [list(map(int, input().split())) for _ in range(N)]"
   ]
  },
  {
   "cell_type": "code",
   "execution_count": 17,
   "id": "ba557315-803b-4c86-8ba5-2a211bddf79b",
   "metadata": {},
   "outputs": [],
   "source": [
    "LRn_s = sorted(LRn, key=lambda x : x[1])\n",
    "ans = 0\n",
    "e = 0\n",
    "for L, R in LRn_s:\n",
    "    if L < e:\n",
    "        continue\n",
    "    e = R\n",
    "    ans += 1\n"
   ]
  },
  {
   "cell_type": "code",
   "execution_count": 18,
   "id": "9fdd5aef-807c-4974-980b-03c5d5eec2b5",
   "metadata": {},
   "outputs": [
    {
     "name": "stdout",
     "output_type": "stream",
     "text": [
      "2\n"
     ]
    }
   ],
   "source": [
    "print(ans)"
   ]
  },
  {
   "cell_type": "code",
   "execution_count": 13,
   "id": "3c4891ce-5f6e-408e-b895-55529374735b",
   "metadata": {},
   "outputs": [
    {
     "data": {
      "text/plain": [
       "[[123, 86399], [1, 86400], [86399, 86400]]"
      ]
     },
     "execution_count": 13,
     "metadata": {},
     "output_type": "execute_result"
    }
   ],
   "source": [
    "LRn_s"
   ]
  },
  {
   "cell_type": "code",
   "execution_count": null,
   "id": "7eeabdab-d05e-47c4-ba75-fcf0be2e5af8",
   "metadata": {},
   "outputs": [],
   "source": []
  }
 ],
 "metadata": {
  "kernelspec": {
   "display_name": "Python 3",
   "language": "python",
   "name": "python3"
  },
  "language_info": {
   "codemirror_mode": {
    "name": "ipython",
    "version": 3
   },
   "file_extension": ".py",
   "mimetype": "text/x-python",
   "name": "python",
   "nbconvert_exporter": "python",
   "pygments_lexer": "ipython3",
   "version": "3.6.13"
  }
 },
 "nbformat": 4,
 "nbformat_minor": 5
}
