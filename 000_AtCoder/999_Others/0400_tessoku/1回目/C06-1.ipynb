{
 "cells": [
  {
   "cell_type": "code",
   "execution_count": 1,
   "id": "89b356ef-b33f-420d-9014-6f2272d87603",
   "metadata": {},
   "outputs": [
    {
     "name": "stdin",
     "output_type": "stream",
     "text": [
      " 4\n"
     ]
    }
   ],
   "source": [
    "N = int(input())"
   ]
  },
  {
   "cell_type": "code",
   "execution_count": 4,
   "id": "1d494f27-fbe1-411f-90f7-f3568c53921b",
   "metadata": {},
   "outputs": [
    {
     "name": "stdout",
     "output_type": "stream",
     "text": [
      "4\n",
      "1 2\n",
      "2 3\n",
      "3 4\n",
      "4 1\n"
     ]
    }
   ],
   "source": [
    "print(N)\n",
    "for i in range(1, N+1):\n",
    "    if i < N:\n",
    "        print(i, i+1)\n",
    "    else:\n",
    "        print(i, 1)"
   ]
  },
  {
   "cell_type": "code",
   "execution_count": null,
   "id": "ea21d1dd-8231-4823-8874-35d9ba5e21ef",
   "metadata": {},
   "outputs": [],
   "source": []
  }
 ],
 "metadata": {
  "kernelspec": {
   "display_name": "Python 3",
   "language": "python",
   "name": "python3"
  },
  "language_info": {
   "codemirror_mode": {
    "name": "ipython",
    "version": 3
   },
   "file_extension": ".py",
   "mimetype": "text/x-python",
   "name": "python",
   "nbconvert_exporter": "python",
   "pygments_lexer": "ipython3",
   "version": "3.6.13"
  }
 },
 "nbformat": 4,
 "nbformat_minor": 5
}
