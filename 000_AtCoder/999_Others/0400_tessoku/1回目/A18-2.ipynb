{
 "cells": [
  {
   "cell_type": "code",
   "execution_count": 13,
   "id": "9747f8da-f015-4268-b3c0-6229a99a286e",
   "metadata": {},
   "outputs": [
    {
     "name": "stdin",
     "output_type": "stream",
     "text": [
      " 4 11\n"
     ]
    }
   ],
   "source": [
    "N, S = map(int, input().split())"
   ]
  },
  {
   "cell_type": "code",
   "execution_count": 14,
   "id": "fdac4651-8438-45ec-aeaa-83291b3ae9a6",
   "metadata": {},
   "outputs": [
    {
     "name": "stdin",
     "output_type": "stream",
     "text": [
      " 3 1 4 5\n"
     ]
    }
   ],
   "source": [
    "An = list(map(int, input().split()))"
   ]
  },
  {
   "cell_type": "code",
   "execution_count": 15,
   "id": "e1c40266-042a-4bd5-b937-f070bd9a924a",
   "metadata": {},
   "outputs": [],
   "source": [
    "dp = [[False] * (S+1) for _ in range(N+1)]\n",
    "dp[0][0] = True\n",
    "for i, A in enumerate(An, 1):\n",
    "    for j in range(S+1):\n",
    "        if not dp[i-1][j]:\n",
    "            continue\n",
    "        dp[i][j] = True\n",
    "        if j + A <= S:\n",
    "            dp[i][j+A] = True"
   ]
  },
  {
   "cell_type": "code",
   "execution_count": 16,
   "id": "b52f6f51-8cf9-4e07-af75-30726506d5e1",
   "metadata": {},
   "outputs": [
    {
     "name": "stdout",
     "output_type": "stream",
     "text": [
      "No\n"
     ]
    }
   ],
   "source": [
    "print('Yes' if dp[N][S] else 'No')"
   ]
  },
  {
   "cell_type": "code",
   "execution_count": 5,
   "id": "e83e6ab2-268d-40e7-b92a-7c34da3894f9",
   "metadata": {},
   "outputs": [
    {
     "data": {
      "text/plain": [
       "[[True, False, False, False, False, False, False, False],\n",
       " [False, False, False, False, False, False, False, False],\n",
       " [False, False, False, False, False, False, False, False],\n",
       " [False, False, False, False, False, False, False, False]]"
      ]
     },
     "execution_count": 5,
     "metadata": {},
     "output_type": "execute_result"
    }
   ],
   "source": [
    "dp"
   ]
  },
  {
   "cell_type": "code",
   "execution_count": null,
   "id": "6a10d3cf-91c2-4eae-bc84-bb98b14efecb",
   "metadata": {},
   "outputs": [],
   "source": []
  }
 ],
 "metadata": {
  "kernelspec": {
   "display_name": "Python 3",
   "language": "python",
   "name": "python3"
  },
  "language_info": {
   "codemirror_mode": {
    "name": "ipython",
    "version": 3
   },
   "file_extension": ".py",
   "mimetype": "text/x-python",
   "name": "python",
   "nbconvert_exporter": "python",
   "pygments_lexer": "ipython3",
   "version": "3.6.13"
  }
 },
 "nbformat": 4,
 "nbformat_minor": 5
}
