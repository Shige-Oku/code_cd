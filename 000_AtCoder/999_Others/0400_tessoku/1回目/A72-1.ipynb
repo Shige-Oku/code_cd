{
 "cells": [
  {
   "cell_type": "code",
   "execution_count": 1,
   "id": "073b9ab8-5415-4368-9c14-64bcd893e067",
   "metadata": {},
   "outputs": [
    {
     "name": "stdin",
     "output_type": "stream",
     "text": [
      " 4 10 3\n"
     ]
    }
   ],
   "source": [
    "H, W, K = map(int, input().split())"
   ]
  },
  {
   "cell_type": "code",
   "execution_count": 2,
   "id": "17f9f1d6-9f83-4433-a91c-7f400514b336",
   "metadata": {},
   "outputs": [
    {
     "name": "stdin",
     "output_type": "stream",
     "text": [
      " ##...#.##.\n",
      " .#....#...\n",
      " ##.####..#\n",
      " #..######.\n"
     ]
    }
   ],
   "source": [
    "Ch = [input() for _ in range(H)]"
   ]
  },
  {
   "cell_type": "code",
   "execution_count": null,
   "id": "4fddf508-2c0f-4a85-ae77-84281a5ef8fb",
   "metadata": {},
   "outputs": [],
   "source": []
  }
 ],
 "metadata": {
  "kernelspec": {
   "display_name": "Python 3",
   "language": "python",
   "name": "python3"
  },
  "language_info": {
   "codemirror_mode": {
    "name": "ipython",
    "version": 3
   },
   "file_extension": ".py",
   "mimetype": "text/x-python",
   "name": "python",
   "nbconvert_exporter": "python",
   "pygments_lexer": "ipython3",
   "version": "3.6.13"
  }
 },
 "nbformat": 4,
 "nbformat_minor": 5
}
