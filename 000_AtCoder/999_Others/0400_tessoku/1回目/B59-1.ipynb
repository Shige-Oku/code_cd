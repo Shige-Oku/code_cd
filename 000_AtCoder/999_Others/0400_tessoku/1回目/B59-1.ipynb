{
 "cells": [
  {
   "cell_type": "code",
   "execution_count": 12,
   "id": "ec77dc55-c1d2-4294-bf25-92a6681332e0",
   "metadata": {},
   "outputs": [
    {
     "name": "stdin",
     "output_type": "stream",
     "text": [
      " 7\n"
     ]
    }
   ],
   "source": [
    "N = int(input())"
   ]
  },
  {
   "cell_type": "code",
   "execution_count": 13,
   "id": "a5562648-ecdf-43f3-b133-61bc142c00b0",
   "metadata": {},
   "outputs": [
    {
     "name": "stdin",
     "output_type": "stream",
     "text": [
      " 3 6 4 5 7 1 2\n"
     ]
    }
   ],
   "source": [
    "An = list(map(int, input().split()))"
   ]
  },
  {
   "cell_type": "code",
   "execution_count": 14,
   "id": "c9668f99-3172-42eb-a65f-b8deb71e45d9",
   "metadata": {},
   "outputs": [],
   "source": [
    "# セグメント木\n",
    "import sys\n",
    "sys.setrecursionlimit(10**7)\n",
    "class SegmentTree():\n",
    "\t# 要素 dat の初期化を行う（最初は全部ゼロ）\n",
    "\tdef __init__(self, n):\n",
    "\t\tself.size = 1\n",
    "\t\twhile self.size < n:\n",
    "\t\t\tself.size *= 2\n",
    "\t\tself.dat = [0] * (self.size * 2)\n",
    "\t\n",
    "\t# クエリ 1 に対する処理\n",
    "\tdef update(self, pos, x):\n",
    "\t\tpos += self.size - 1\n",
    "\t\tself.dat[pos] = x\n",
    "\t\twhile pos >= 2:\n",
    "\t\t\tpos //= 2\n",
    "\t\t\tself.dat[pos] = self.dat[pos * 2] + self.dat[pos * 2 + 1]\n",
    "\t\n",
    "\t# クエリ 2 に対する処理\n",
    "\t# u は現在のセル番号、[a, b) はセルに対応する半開区間、[l, r) は求めたい半開区間\n",
    "\tdef query(self, l, r, a, b, u):\n",
    "\t\tif r <= a or b <= l:\n",
    "            # 一切含まれない場合\n",
    "\t\t\treturn 0\n",
    "\t\tif l <= a and b <= r:\n",
    "            # 完全に含まれる場合\n",
    "\t\t\treturn self.dat[u]\n",
    "\t\tm = (a + b) // 2\n",
    "\t\tanswerL = self.query(l, r, a, m, u * 2)\n",
    "\t\tanswerR = self.query(l, r, m, b, u * 2 + 1)\n",
    "\t\treturn answerL + answerR\n"
   ]
  },
  {
   "cell_type": "code",
   "execution_count": 15,
   "id": "de610b50-3148-410f-8f3c-783c65a5960d",
   "metadata": {},
   "outputs": [],
   "source": [
    "ans = 0\n",
    "sg = SegmentTree(N)\n",
    "for i in range(1, N+1):\n",
    "    ans += sg.query(An[i-1]+1, N+1, 1, sg.size+1, 1)\n",
    "    sg.update(An[i-1], 1)"
   ]
  },
  {
   "cell_type": "code",
   "execution_count": 16,
   "id": "49b70793-e885-4e44-973a-68b3a4c34ac7",
   "metadata": {},
   "outputs": [
    {
     "name": "stdout",
     "output_type": "stream",
     "text": [
      "12\n"
     ]
    }
   ],
   "source": [
    "print(ans)"
   ]
  },
  {
   "cell_type": "code",
   "execution_count": 6,
   "id": "3aaa9177-43e7-45ce-bc54-9bdc05d69672",
   "metadata": {},
   "outputs": [
    {
     "data": {
      "text/plain": [
       "[0, 4, 2, 2, 1, 1, 1, 1]"
      ]
     },
     "execution_count": 6,
     "metadata": {},
     "output_type": "execute_result"
    }
   ],
   "source": [
    "sg.dat"
   ]
  },
  {
   "cell_type": "code",
   "execution_count": null,
   "id": "6d76d62a-c81e-469a-938a-b5c90178f9d3",
   "metadata": {},
   "outputs": [],
   "source": []
  }
 ],
 "metadata": {
  "kernelspec": {
   "display_name": "Python 3",
   "language": "python",
   "name": "python3"
  },
  "language_info": {
   "codemirror_mode": {
    "name": "ipython",
    "version": 3
   },
   "file_extension": ".py",
   "mimetype": "text/x-python",
   "name": "python",
   "nbconvert_exporter": "python",
   "pygments_lexer": "ipython3",
   "version": "3.6.13"
  }
 },
 "nbformat": 4,
 "nbformat_minor": 5
}
