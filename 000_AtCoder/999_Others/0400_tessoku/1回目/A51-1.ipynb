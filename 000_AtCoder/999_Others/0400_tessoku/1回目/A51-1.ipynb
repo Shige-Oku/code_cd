{
 "cells": [
  {
   "cell_type": "code",
   "execution_count": 2,
   "id": "0b52791e-c414-4657-9be0-57336eb51a77",
   "metadata": {},
   "outputs": [
    {
     "name": "stdin",
     "output_type": "stream",
     "text": [
      " 5\n"
     ]
    }
   ],
   "source": [
    "Q = int(input())"
   ]
  },
  {
   "cell_type": "code",
   "execution_count": 4,
   "id": "8428da44-7161-4730-bd68-473c9c096480",
   "metadata": {},
   "outputs": [
    {
     "name": "stdin",
     "output_type": "stream",
     "text": [
      " 1 futuremap\n",
      " 1 howtospeak\n",
      " 2\n",
      " 3\n",
      " 2\n"
     ]
    }
   ],
   "source": [
    "Qn = [input().split() for _ in range(Q)]"
   ]
  },
  {
   "cell_type": "code",
   "execution_count": 11,
   "id": "3754a38f-d9c5-4e62-8de2-783a5540cc82",
   "metadata": {},
   "outputs": [
    {
     "name": "stdout",
     "output_type": "stream",
     "text": [
      "howtospeak\n",
      "futuremap\n"
     ]
    }
   ],
   "source": [
    "from collections import deque\n",
    "s = deque()\n",
    "for q in Qn:\n",
    "    if q[0] == '1':\n",
    "        s.append(q[1])\n",
    "    elif q[0] == '2':\n",
    "        print(s[-1])\n",
    "    else:\n",
    "        s.pop()"
   ]
  },
  {
   "cell_type": "code",
   "execution_count": 9,
   "id": "8d7c0b7b-df54-4fef-9de8-a76d2aeb2a7a",
   "metadata": {},
   "outputs": [
    {
     "name": "stdout",
     "output_type": "stream",
     "text": [
      "howtospeak\n",
      "futuremap\n"
     ]
    }
   ],
   "source": [
    "from collections import deque\n",
    "s = deque()\n",
    "for q in Qn:\n",
    "    if q[0] == '1':\n",
    "        s.append(q[1])\n",
    "    elif q[0] == '2':\n",
    "        w = s.pop()\n",
    "        print(w)\n",
    "        s.append(w)\n",
    "    else:\n",
    "        s.pop()"
   ]
  },
  {
   "cell_type": "code",
   "execution_count": null,
   "id": "e9923fa5-eb26-44fd-a3e9-5e4b47bebb76",
   "metadata": {},
   "outputs": [],
   "source": [
    "s.pop"
   ]
  }
 ],
 "metadata": {
  "kernelspec": {
   "display_name": "Python 3",
   "language": "python",
   "name": "python3"
  },
  "language_info": {
   "codemirror_mode": {
    "name": "ipython",
    "version": 3
   },
   "file_extension": ".py",
   "mimetype": "text/x-python",
   "name": "python",
   "nbconvert_exporter": "python",
   "pygments_lexer": "ipython3",
   "version": "3.6.13"
  }
 },
 "nbformat": 4,
 "nbformat_minor": 5
}
