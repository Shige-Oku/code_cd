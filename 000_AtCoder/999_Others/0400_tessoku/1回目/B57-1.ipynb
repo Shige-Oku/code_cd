{
 "cells": [
  {
   "cell_type": "code",
   "execution_count": 12,
   "id": "b74d7769-e1a6-425f-a60d-e566ca0c5d55",
   "metadata": {},
   "outputs": [
    {
     "name": "stdin",
     "output_type": "stream",
     "text": [
      " 10 1\n"
     ]
    }
   ],
   "source": [
    "N, K = map(int, input().split())"
   ]
  },
  {
   "cell_type": "code",
   "execution_count": 13,
   "id": "47f7eb53-7ef0-4375-81d2-74c301adb4c2",
   "metadata": {},
   "outputs": [],
   "source": [
    "def myExecute(n):\n",
    "    m = 0\n",
    "    for s in str(n):\n",
    "        m += int(s)\n",
    "    return n - m"
   ]
  },
  {
   "cell_type": "code",
   "execution_count": 35,
   "id": "eea4fa21-624b-4abf-9dd8-29433c8c39ea",
   "metadata": {},
   "outputs": [],
   "source": [
    "num = [[0] * (N+1) for _ in range(31)]\n",
    "for i in range(1, N+1):\n",
    "#     num[0][i] = i\n",
    "    num[0][i] = myExecute(i)"
   ]
  },
  {
   "cell_type": "code",
   "execution_count": 44,
   "id": "7256e333-dd08-41fe-b374-7f016c11f9e0",
   "metadata": {},
   "outputs": [],
   "source": [
    "for i in range(1, 31):\n",
    "    for j in range(i, N+1):\n",
    "        num[i][j] = myExecute(num[i-1][j])"
   ]
  },
  {
   "cell_type": "code",
   "execution_count": 45,
   "id": "b29b1c68-af8f-457d-a8bd-2d963fcb3064",
   "metadata": {},
   "outputs": [],
   "source": [
    "ans = [x for x in range(N+1)]\n",
    "kb = '{:030b}'.format(K)\n",
    "k = 29\n",
    "for b in kb:\n",
    "    if b != '1':\n",
    "        k -= 1\n",
    "        continue\n",
    "    for i in range(1, N+1):\n",
    "#         print(k, i, ans[i], num[k][ans[i]])\n",
    "        ans[i] = num[k][ans[i]]\n",
    "    k -= -1"
   ]
  },
  {
   "cell_type": "code",
   "execution_count": 46,
   "id": "757d66b9-0806-4b81-a9af-08b2ab5de4bf",
   "metadata": {},
   "outputs": [
    {
     "name": "stdout",
     "output_type": "stream",
     "text": [
      "0\n",
      "0\n",
      "0\n",
      "0\n",
      "0\n",
      "0\n",
      "0\n",
      "0\n",
      "0\n",
      "9\n"
     ]
    }
   ],
   "source": [
    "print(*ans[1:], sep='\\n')"
   ]
  },
  {
   "cell_type": "code",
   "execution_count": 43,
   "id": "5c735ab7-1e36-4179-a8b7-47cdc7c772f1",
   "metadata": {},
   "outputs": [
    {
     "data": {
      "text/plain": [
       "([0, 0, 0, 0, 0, 0, 0, 0, 0, 0, 9], '000000000000000000000000000001', 1, 30, 9)"
      ]
     },
     "execution_count": 43,
     "metadata": {},
     "output_type": "execute_result"
    }
   ],
   "source": [
    "ans, kb, k, len(kb), myExecute(10)"
   ]
  },
  {
   "cell_type": "code",
   "execution_count": 40,
   "id": "59fcbc7a-4178-4438-80a7-3c899daec649",
   "metadata": {},
   "outputs": [
    {
     "data": {
      "text/plain": [
       "[[0, 0, 0, 0, 0, 0, 0, 0, 0, 0, 9],\n",
       " [0, 0, 0, 0, 0, 0, 0, 0, 0, 0, 0],\n",
       " [0, 0, 0, 0, 0, 0, 0, 0, 0, 0, 0],\n",
       " [0, 0, 0, 0, 0, 0, 0, 0, 0, 0, 0],\n",
       " [0, 0, 0, 0, 0, 0, 0, 0, 0, 0, 0],\n",
       " [0, 0, 0, 0, 0, 0, 0, 0, 0, 0, 0],\n",
       " [0, 0, 0, 0, 0, 0, 0, 0, 0, 0, 0],\n",
       " [0, 0, 0, 0, 0, 0, 0, 0, 0, 0, 0],\n",
       " [0, 0, 0, 0, 0, 0, 0, 0, 0, 0, 0],\n",
       " [0, 0, 0, 0, 0, 0, 0, 0, 0, 0, 0],\n",
       " [0, 0, 0, 0, 0, 0, 0, 0, 0, 0, 0],\n",
       " [0, 0, 0, 0, 0, 0, 0, 0, 0, 0, 0],\n",
       " [0, 0, 0, 0, 0, 0, 0, 0, 0, 0, 0],\n",
       " [0, 0, 0, 0, 0, 0, 0, 0, 0, 0, 0],\n",
       " [0, 0, 0, 0, 0, 0, 0, 0, 0, 0, 0],\n",
       " [0, 0, 0, 0, 0, 0, 0, 0, 0, 0, 0],\n",
       " [0, 0, 0, 0, 0, 0, 0, 0, 0, 0, 0],\n",
       " [0, 0, 0, 0, 0, 0, 0, 0, 0, 0, 0],\n",
       " [0, 0, 0, 0, 0, 0, 0, 0, 0, 0, 0],\n",
       " [0, 0, 0, 0, 0, 0, 0, 0, 0, 0, 0],\n",
       " [0, 0, 0, 0, 0, 0, 0, 0, 0, 0, 0],\n",
       " [0, 0, 0, 0, 0, 0, 0, 0, 0, 0, 0],\n",
       " [0, 0, 0, 0, 0, 0, 0, 0, 0, 0, 0],\n",
       " [0, 0, 0, 0, 0, 0, 0, 0, 0, 0, 0],\n",
       " [0, 0, 0, 0, 0, 0, 0, 0, 0, 0, 0],\n",
       " [0, 0, 0, 0, 0, 0, 0, 0, 0, 0, 0],\n",
       " [0, 0, 0, 0, 0, 0, 0, 0, 0, 0, 0],\n",
       " [0, 0, 0, 0, 0, 0, 0, 0, 0, 0, 0],\n",
       " [0, 0, 0, 0, 0, 0, 0, 0, 0, 0, 0],\n",
       " [0, 0, 0, 0, 0, 0, 0, 0, 0, 0, 0],\n",
       " [0, 0, 0, 0, 0, 0, 0, 0, 0, 0, 0]]"
      ]
     },
     "execution_count": 40,
     "metadata": {},
     "output_type": "execute_result"
    }
   ],
   "source": [
    "num"
   ]
  },
  {
   "cell_type": "code",
   "execution_count": 37,
   "id": "66f38f3d-a006-400b-a4f0-ff544397866e",
   "metadata": {},
   "outputs": [],
   "source": [
    "num2 = [[0] * (31) for _ in range(31)]\n",
    "for i in range(1, 31):\n",
    "    num2[0][i] = i"
   ]
  },
  {
   "cell_type": "code",
   "execution_count": 38,
   "id": "0d894413-a6f9-4d75-b231-1bbf37d9eb9f",
   "metadata": {},
   "outputs": [],
   "source": [
    "for i in range(1, 31):\n",
    "    for j in range(1, 31):\n",
    "        num2[i][j] = myExecute(num2[i-1][j])"
   ]
  },
  {
   "cell_type": "code",
   "execution_count": 42,
   "id": "380d188a-0329-456f-bfcd-34f352bfcc9f",
   "metadata": {},
   "outputs": [],
   "source": [
    "# num2"
   ]
  },
  {
   "cell_type": "code",
   "execution_count": 24,
   "id": "1a3a2db4-3051-456d-8a87-b24662ad60fe",
   "metadata": {},
   "outputs": [
    {
     "data": {
      "text/plain": [
       "[9, 8, 7, 6, 5, 4, 3, 2, 1]"
      ]
     },
     "execution_count": 24,
     "metadata": {},
     "output_type": "execute_result"
    }
   ],
   "source": [
    "list(reversed(range(1, 10)))"
   ]
  },
  {
   "cell_type": "code",
   "execution_count": null,
   "id": "a84433ad-d601-4b85-864c-cad21d66ec11",
   "metadata": {},
   "outputs": [],
   "source": []
  }
 ],
 "metadata": {
  "kernelspec": {
   "display_name": "Python 3",
   "language": "python",
   "name": "python3"
  },
  "language_info": {
   "codemirror_mode": {
    "name": "ipython",
    "version": 3
   },
   "file_extension": ".py",
   "mimetype": "text/x-python",
   "name": "python",
   "nbconvert_exporter": "python",
   "pygments_lexer": "ipython3",
   "version": "3.6.13"
  }
 },
 "nbformat": 4,
 "nbformat_minor": 5
}
