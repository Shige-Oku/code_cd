{
 "cells": [
  {
   "cell_type": "code",
   "execution_count": 1,
   "id": "1d3ba000-4a74-4838-91c0-42e539387527",
   "metadata": {},
   "outputs": [
    {
     "name": "stdin",
     "output_type": "stream",
     "text": [
      " 6 30\n"
     ]
    }
   ],
   "source": [
    "N, K = map(int, input().split())"
   ]
  },
  {
   "cell_type": "code",
   "execution_count": 2,
   "id": "ced1e33c-1b8e-4db3-98da-31c3282e6afa",
   "metadata": {},
   "outputs": [
    {
     "name": "stdin",
     "output_type": "stream",
     "text": [
      " 5 1 18 7 2 9\n"
     ]
    }
   ],
   "source": [
    "An = list(map(int, input().split()))"
   ]
  },
  {
   "cell_type": "code",
   "execution_count": 14,
   "id": "9c96970e-d091-4b68-b9d3-a2e10956e294",
   "metadata": {},
   "outputs": [],
   "source": [
    "from itertools import product\n",
    "An1_s = set()\n",
    "for P in product((0, 1), repeat=N//2):\n",
    "    t = 0\n",
    "    for i, p in enumerate(P):\n",
    "        if p == 1:\n",
    "            t += An[i]\n",
    "    An1_s.add(t)\n",
    "An2_s = set()\n",
    "for P in product((0, 1), repeat=(N+1)//2):\n",
    "    t = 0\n",
    "    for i, p in enumerate(P, N//2):\n",
    "        if p == 1:\n",
    "            t += An[i]\n",
    "    An2_s.add(t)\n"
   ]
  },
  {
   "cell_type": "code",
   "execution_count": 16,
   "id": "be583de7-d484-4189-af24-c9381af76e8c",
   "metadata": {},
   "outputs": [
    {
     "name": "stdout",
     "output_type": "stream",
     "text": [
      "Yes\n"
     ]
    }
   ],
   "source": [
    "for A in An1_s:\n",
    "    if K - A in An2_s:\n",
    "        print('Yes')\n",
    "        break\n",
    "else:\n",
    "    print('No')"
   ]
  },
  {
   "cell_type": "code",
   "execution_count": 15,
   "id": "0202362e-fc79-4194-8505-235d1ee19a1d",
   "metadata": {},
   "outputs": [
    {
     "data": {
      "text/plain": [
       "({0, 1, 5, 6, 18, 19, 23, 24}, {0, 2, 7, 9, 11, 16, 18})"
      ]
     },
     "execution_count": 15,
     "metadata": {},
     "output_type": "execute_result"
    }
   ],
   "source": [
    "An1_s, An2_s"
   ]
  },
  {
   "cell_type": "code",
   "execution_count": 4,
   "id": "5ec0f410-75f1-40e6-a983-013916cd9859",
   "metadata": {},
   "outputs": [
    {
     "data": {
      "text/plain": [
       "1073741824"
      ]
     },
     "execution_count": 4,
     "metadata": {},
     "output_type": "execute_result"
    }
   ],
   "source": [
    "2**30"
   ]
  },
  {
   "cell_type": "code",
   "execution_count": 8,
   "id": "7e51f590-c77f-40be-afee-6e00618d6d78",
   "metadata": {},
   "outputs": [
    {
     "name": "stdout",
     "output_type": "stream",
     "text": [
      "(0, 0, 0, 0)\n",
      "(0, 0, 0, 1)\n",
      "(0, 0, 1, 0)\n",
      "(0, 0, 1, 1)\n",
      "(0, 1, 0, 0)\n",
      "(0, 1, 0, 1)\n",
      "(0, 1, 1, 0)\n",
      "(0, 1, 1, 1)\n",
      "(1, 0, 0, 0)\n",
      "(1, 0, 0, 1)\n",
      "(1, 0, 1, 0)\n",
      "(1, 0, 1, 1)\n",
      "(1, 1, 0, 0)\n",
      "(1, 1, 0, 1)\n",
      "(1, 1, 1, 0)\n",
      "(1, 1, 1, 1)\n"
     ]
    }
   ],
   "source": [
    "for p in product((0, 1), repeat=4):\n",
    "    print(p)"
   ]
  },
  {
   "cell_type": "code",
   "execution_count": null,
   "id": "4c125a7b-d070-458e-9c3d-3d8269ebe39a",
   "metadata": {},
   "outputs": [],
   "source": []
  }
 ],
 "metadata": {
  "kernelspec": {
   "display_name": "Python 3",
   "language": "python",
   "name": "python3"
  },
  "language_info": {
   "codemirror_mode": {
    "name": "ipython",
    "version": 3
   },
   "file_extension": ".py",
   "mimetype": "text/x-python",
   "name": "python",
   "nbconvert_exporter": "python",
   "pygments_lexer": "ipython3",
   "version": "3.6.13"
  }
 },
 "nbformat": 4,
 "nbformat_minor": 5
}
