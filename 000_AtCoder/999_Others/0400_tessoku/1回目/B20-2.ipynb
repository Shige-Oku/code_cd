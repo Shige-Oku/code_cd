{
 "cells": [
  {
   "cell_type": "code",
   "execution_count": 1,
   "id": "fc8466e0-b3b9-4ce1-bc21-b8690a83f0d6",
   "metadata": {},
   "outputs": [
    {
     "name": "stdin",
     "output_type": "stream",
     "text": [
      " abcdef\n"
     ]
    }
   ],
   "source": [
    "S = input()"
   ]
  },
  {
   "cell_type": "code",
   "execution_count": 2,
   "id": "7eec9556-4db7-4fa9-8758-dcac42bbf3d3",
   "metadata": {},
   "outputs": [
    {
     "name": "stdin",
     "output_type": "stream",
     "text": [
      " bdf\n"
     ]
    }
   ],
   "source": [
    "T = input()"
   ]
  },
  {
   "cell_type": "code",
   "execution_count": 3,
   "id": "5e0d6e4c-d6f0-4dad-806c-125d90fd4215",
   "metadata": {},
   "outputs": [],
   "source": [
    "dp = [[10**10] * (len(T)+1) for _ in range(len(S)+1)]\n",
    "dp[0][0] = 0\n",
    "for i in range(len(S)+1):\n",
    "    for j in range(len(T)+1):\n",
    "        if i > 0 and j > 0:\n",
    "            dp[i][j] = min(dp[i][j-1]+1, dp[i-1][j-1]+1, dp[i-1][j]+1)\n",
    "            if S[i-1] == T[j-1]:\n",
    "                dp[i][j] = min(dp[i][j], dp[i-1][j-1])\n",
    "        elif i > 0:\n",
    "            dp[i][j] = dp[i-1][j] + 1\n",
    "        elif j > 0:\n",
    "            dp[i][j] = dp[i][j-1] + 1"
   ]
  },
  {
   "cell_type": "code",
   "execution_count": 4,
   "id": "83b0acdc-9e1a-436a-b221-6717e7d21dfc",
   "metadata": {},
   "outputs": [
    {
     "name": "stdout",
     "output_type": "stream",
     "text": [
      "3\n"
     ]
    }
   ],
   "source": [
    "print(dp[len(S)][len(T)])"
   ]
  },
  {
   "cell_type": "code",
   "execution_count": 5,
   "id": "2b985937-1157-4e62-9955-2f0b7dc1f017",
   "metadata": {},
   "outputs": [
    {
     "data": {
      "text/plain": [
       "[[0, 1, 2, 3],\n",
       " [1, 1, 2, 3],\n",
       " [2, 1, 2, 3],\n",
       " [3, 2, 2, 3],\n",
       " [4, 3, 2, 3],\n",
       " [5, 4, 3, 3],\n",
       " [6, 5, 4, 3]]"
      ]
     },
     "execution_count": 5,
     "metadata": {},
     "output_type": "execute_result"
    }
   ],
   "source": [
    "dp"
   ]
  },
  {
   "cell_type": "code",
   "execution_count": 6,
   "id": "d3725473-0b59-40f2-aed1-1e0823404281",
   "metadata": {},
   "outputs": [],
   "source": [
    "import sys\n",
    "sys.setrecursionlimit(10**6)\n",
    "\n",
    "from functools import lru_cache\n",
    "@lru_cache(maxsize=None)\n",
    "def solve(s, t):\n",
    "    if not s:\n",
    "        return len(t)\n",
    "    if not t:\n",
    "        return len(s)\n",
    "    if s[0] == t[0]:\n",
    "        return solve(s[1:], t[1:])\n",
    "    l1 = solve(s[1:], t)\n",
    "    l2 = solve(s[1:], t[1:])\n",
    "    l3 = solve(s, t[1:])\n",
    "    \n",
    "    return 1 + min(l1, l2, l3)"
   ]
  },
  {
   "cell_type": "code",
   "execution_count": 7,
   "id": "e179390f-1de8-40cf-84e2-3d53e9fbfd93",
   "metadata": {},
   "outputs": [
    {
     "name": "stdout",
     "output_type": "stream",
     "text": [
      "3\n"
     ]
    }
   ],
   "source": [
    "print(solve(S, T))"
   ]
  },
  {
   "cell_type": "code",
   "execution_count": 8,
   "id": "3f6130c1-0404-48b6-b914-b3a7b20f1be0",
   "metadata": {},
   "outputs": [
    {
     "name": "stdout",
     "output_type": "stream",
     "text": [
      "3\n"
     ]
    }
   ],
   "source": [
    "import Levenshtein\n",
    "print(Levenshtein.distance(S, T))"
   ]
  },
  {
   "cell_type": "code",
   "execution_count": null,
   "id": "ee96b95a-8733-4e49-9daa-c4f0f0f8f766",
   "metadata": {},
   "outputs": [],
   "source": []
  }
 ],
 "metadata": {
  "kernelspec": {
   "display_name": "Python 3",
   "language": "python",
   "name": "python3"
  },
  "language_info": {
   "codemirror_mode": {
    "name": "ipython",
    "version": 3
   },
   "file_extension": ".py",
   "mimetype": "text/x-python",
   "name": "python",
   "nbconvert_exporter": "python",
   "pygments_lexer": "ipython3",
   "version": "3.6.13"
  }
 },
 "nbformat": 4,
 "nbformat_minor": 5
}
