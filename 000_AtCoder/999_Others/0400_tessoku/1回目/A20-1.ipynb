{
 "cells": [
  {
   "cell_type": "code",
   "execution_count": 5,
   "id": "50353e3d-0db8-46b8-b256-959f98efc7bf",
   "metadata": {},
   "outputs": [
    {
     "name": "stdin",
     "output_type": "stream",
     "text": [
      " tokyo\n"
     ]
    }
   ],
   "source": [
    "S = input()"
   ]
  },
  {
   "cell_type": "code",
   "execution_count": 6,
   "id": "fae69785-dd66-4a05-86d2-4bf551cab052",
   "metadata": {},
   "outputs": [
    {
     "name": "stdin",
     "output_type": "stream",
     "text": [
      " kyoto\n"
     ]
    }
   ],
   "source": [
    "T = input()"
   ]
  },
  {
   "cell_type": "code",
   "execution_count": 7,
   "id": "5988e126-b929-4920-afa3-216ac3a49f1a",
   "metadata": {},
   "outputs": [],
   "source": [
    "dp = [[0] * 2010 for _ in range(2010)]\n",
    "for i in range(1, len(S)+1):\n",
    "    for j in range(1, len(T)+1):\n",
    "        dp[i][j] = max(dp[i-1][j], dp[i][j-1])\n",
    "        if S[i-1] == T[j-1]:\n",
    "            dp[i][j] = max(dp[i][j], dp[i-1][j-1]+1)"
   ]
  },
  {
   "cell_type": "code",
   "execution_count": 8,
   "id": "0ba88d97-347e-4c06-8c82-c521953c4c7e",
   "metadata": {},
   "outputs": [
    {
     "name": "stdout",
     "output_type": "stream",
     "text": [
      "3\n"
     ]
    }
   ],
   "source": [
    "print(max(dp[len(S)]))"
   ]
  },
  {
   "cell_type": "code",
   "execution_count": null,
   "id": "5a96cf0c-f3bd-4d85-8435-c8ffbf0768b0",
   "metadata": {},
   "outputs": [],
   "source": []
  }
 ],
 "metadata": {
  "kernelspec": {
   "display_name": "Python 3",
   "language": "python",
   "name": "python3"
  },
  "language_info": {
   "codemirror_mode": {
    "name": "ipython",
    "version": 3
   },
   "file_extension": ".py",
   "mimetype": "text/x-python",
   "name": "python",
   "nbconvert_exporter": "python",
   "pygments_lexer": "ipython3",
   "version": "3.6.13"
  }
 },
 "nbformat": 4,
 "nbformat_minor": 5
}
