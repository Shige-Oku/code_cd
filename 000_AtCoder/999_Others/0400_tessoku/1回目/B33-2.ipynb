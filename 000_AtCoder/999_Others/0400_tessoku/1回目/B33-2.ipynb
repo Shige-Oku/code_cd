{
 "cells": [
  {
   "cell_type": "code",
   "execution_count": 6,
   "id": "2c83f6ed-7c6a-4daa-8087-9f12f456a233",
   "metadata": {},
   "outputs": [
    {
     "name": "stdin",
     "output_type": "stream",
     "text": [
      " 2 8 4\n"
     ]
    }
   ],
   "source": [
    "N, H, W = map(int, input().split())"
   ]
  },
  {
   "cell_type": "code",
   "execution_count": 7,
   "id": "1cb52865-3cce-4df2-8789-a8788498a996",
   "metadata": {},
   "outputs": [
    {
     "name": "stdin",
     "output_type": "stream",
     "text": [
      " 6 4\n",
      " 7 1\n"
     ]
    }
   ],
   "source": [
    "ABn = [list(map(int, input().split())) for _ in range(N)]"
   ]
  },
  {
   "cell_type": "code",
   "execution_count": 8,
   "id": "3cdfbab3-9062-45cc-a100-3ce7ff829de6",
   "metadata": {},
   "outputs": [],
   "source": [
    "abx = 0\n",
    "for A, B in ABn:\n",
    "    abx ^= A - 1\n",
    "    abx ^= B - 1"
   ]
  },
  {
   "cell_type": "code",
   "execution_count": 9,
   "id": "60b73d2f-1e2c-4a92-9d7e-184803d0913c",
   "metadata": {},
   "outputs": [
    {
     "name": "stdout",
     "output_type": "stream",
     "text": [
      "Second\n"
     ]
    }
   ],
   "source": [
    "print('First' if abx != 0 else 'Second')"
   ]
  },
  {
   "cell_type": "code",
   "execution_count": null,
   "id": "42e6d803-0232-4fe5-91de-7dbc330c91a2",
   "metadata": {},
   "outputs": [],
   "source": []
  }
 ],
 "metadata": {
  "kernelspec": {
   "display_name": "Python 3",
   "language": "python",
   "name": "python3"
  },
  "language_info": {
   "codemirror_mode": {
    "name": "ipython",
    "version": 3
   },
   "file_extension": ".py",
   "mimetype": "text/x-python",
   "name": "python",
   "nbconvert_exporter": "python",
   "pygments_lexer": "ipython3",
   "version": "3.6.13"
  }
 },
 "nbformat": 4,
 "nbformat_minor": 5
}
