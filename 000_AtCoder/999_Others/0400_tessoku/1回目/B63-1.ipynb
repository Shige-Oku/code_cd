{
 "cells": [
  {
   "cell_type": "code",
   "execution_count": 41,
   "id": "016a2ec4-dc33-4a2e-8a25-e0b1288dfc95",
   "metadata": {},
   "outputs": [
    {
     "name": "stdin",
     "output_type": "stream",
     "text": [
      " 7 8\n"
     ]
    }
   ],
   "source": [
    "R, C = map(int, input().split())"
   ]
  },
  {
   "cell_type": "code",
   "execution_count": 43,
   "id": "12d2f2f6-8d09-4538-a776-eeb105196229",
   "metadata": {},
   "outputs": [
    {
     "name": "stdin",
     "output_type": "stream",
     "text": [
      " 2 2\n"
     ]
    }
   ],
   "source": [
    "Sx, Sy = map(int, input().split())"
   ]
  },
  {
   "cell_type": "code",
   "execution_count": 44,
   "id": "76dcd678-7261-41b0-8516-2f362ff193a5",
   "metadata": {},
   "outputs": [
    {
     "name": "stdin",
     "output_type": "stream",
     "text": [
      " 4 5\n"
     ]
    }
   ],
   "source": [
    "Gx, Gy = map(int, input().split())"
   ]
  },
  {
   "cell_type": "code",
   "execution_count": 46,
   "id": "1cfde1d4-2aa7-4898-92e1-788c3fe8d6cc",
   "metadata": {},
   "outputs": [
    {
     "name": "stdin",
     "output_type": "stream",
     "text": [
      " ########\n",
      " #......#\n",
      " #.######\n",
      " #..#...#\n",
      " #..##..#\n",
      " ##.....#\n",
      " ########\n"
     ]
    }
   ],
   "source": [
    "Cr = [input() for _ in range(R)]"
   ]
  },
  {
   "cell_type": "code",
   "execution_count": 61,
   "id": "3448f8c9-4fd7-4d45-a32a-f034359ba2e2",
   "metadata": {},
   "outputs": [],
   "source": [
    "from collections import deque\n",
    "dist = [[-1] * (C) for _ in range(R)]\n",
    "q = deque()\n",
    "q.append((Sx-1, Sy-1))\n",
    "dist[Sx-1][Sy-1] = 0\n",
    "while q:\n",
    "    px, py = q.popleft()\n",
    "    for x1, y1 in ((1, 0), (-1, 0), (0, 1), (0, -1)):\n",
    "        nx = px + x1\n",
    "        ny = py + y1\n",
    "        if Cr[nx][ny] == '#':\n",
    "            continue\n",
    "        if dist[nx][ny] != -1:\n",
    "            continue\n",
    "        dist[nx][ny] = dist[px][py] + 1\n",
    "        q.append((nx, ny))"
   ]
  },
  {
   "cell_type": "code",
   "execution_count": 62,
   "id": "0ea8d097-3623-4bef-a961-c49828dcae64",
   "metadata": {},
   "outputs": [
    {
     "name": "stdout",
     "output_type": "stream",
     "text": [
      "11\n"
     ]
    }
   ],
   "source": [
    "print(dist[Gx-1][Gy-1])"
   ]
  },
  {
   "cell_type": "code",
   "execution_count": 54,
   "id": "5f8bedef-05da-4972-9a99-7b2e9876d473",
   "metadata": {},
   "outputs": [
    {
     "data": {
      "text/plain": [
       "[[-1, -1, -1, -1, -1, -1, -1, -1],\n",
       " [-1, 0, 1, -1, -1, -1, -1, -1],\n",
       " [-1, 1, -1, -1, -1, -1, -1, -1],\n",
       " [-1, -1, 2, -1, 3, -1, -1, -1],\n",
       " [-1, -1, -1, -1, -1, -1, -1, -1],\n",
       " [-1, -1, -1, -1, -1, -1, -1, -1],\n",
       " [-1, -1, -1, -1, -1, -1, -1, -1]]"
      ]
     },
     "execution_count": 54,
     "metadata": {},
     "output_type": "execute_result"
    }
   ],
   "source": [
    "dist"
   ]
  },
  {
   "cell_type": "code",
   "execution_count": null,
   "id": "412395f6-2a31-4640-9c40-b9fbcd32913f",
   "metadata": {},
   "outputs": [],
   "source": []
  }
 ],
 "metadata": {
  "kernelspec": {
   "display_name": "Python 3",
   "language": "python",
   "name": "python3"
  },
  "language_info": {
   "codemirror_mode": {
    "name": "ipython",
    "version": 3
   },
   "file_extension": ".py",
   "mimetype": "text/x-python",
   "name": "python",
   "nbconvert_exporter": "python",
   "pygments_lexer": "ipython3",
   "version": "3.6.13"
  }
 },
 "nbformat": 4,
 "nbformat_minor": 5
}
