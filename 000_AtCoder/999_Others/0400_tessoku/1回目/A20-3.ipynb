{
 "cells": [
  {
   "cell_type": "code",
   "execution_count": 5,
   "id": "10b83d72-7b4e-4517-a1c8-08a8c2a8223f",
   "metadata": {},
   "outputs": [
    {
     "name": "stdin",
     "output_type": "stream",
     "text": [
      " tokyo\n"
     ]
    }
   ],
   "source": [
    "S = input()"
   ]
  },
  {
   "cell_type": "code",
   "execution_count": 6,
   "id": "c0ca5a5f-74c5-4198-b844-cc606573652e",
   "metadata": {},
   "outputs": [
    {
     "name": "stdin",
     "output_type": "stream",
     "text": [
      " kyoto\n"
     ]
    }
   ],
   "source": [
    "T = input()"
   ]
  },
  {
   "cell_type": "code",
   "execution_count": 7,
   "id": "ee32d9b4-966d-44ac-866a-9e7c1d6a6504",
   "metadata": {},
   "outputs": [],
   "source": [
    "dp = [[0] * (len(T)+1) for _ in range(len(S)+1)]\n",
    "for i, s in enumerate(S, 1):\n",
    "    for j, t in enumerate(T, 1):\n",
    "        dp[i][j] = max(dp[i][j], dp[i-1][j], dp[i][j-1])\n",
    "        if s == t:\n",
    "            dp[i][j] = max(dp[i][j], dp[i-1][j-1]+1)"
   ]
  },
  {
   "cell_type": "code",
   "execution_count": 8,
   "id": "3bb76a2f-d34e-4283-8b8d-503530e8f984",
   "metadata": {},
   "outputs": [
    {
     "name": "stdout",
     "output_type": "stream",
     "text": [
      "3\n"
     ]
    }
   ],
   "source": [
    "print(dp[len(S)][len(T)])"
   ]
  },
  {
   "cell_type": "code",
   "execution_count": null,
   "id": "2773c752-65fd-4786-9df0-39aa69447c77",
   "metadata": {},
   "outputs": [],
   "source": []
  }
 ],
 "metadata": {
  "kernelspec": {
   "display_name": "Python 3",
   "language": "python",
   "name": "python3"
  },
  "language_info": {
   "codemirror_mode": {
    "name": "ipython",
    "version": 3
   },
   "file_extension": ".py",
   "mimetype": "text/x-python",
   "name": "python",
   "nbconvert_exporter": "python",
   "pygments_lexer": "ipython3",
   "version": "3.6.13"
  }
 },
 "nbformat": 4,
 "nbformat_minor": 5
}
