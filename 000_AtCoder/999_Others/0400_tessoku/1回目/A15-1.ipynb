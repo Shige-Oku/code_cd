{
 "cells": [
  {
   "cell_type": "code",
   "execution_count": 1,
   "id": "a613e1cd-285c-41b3-a9d1-c8de63808b14",
   "metadata": {},
   "outputs": [
    {
     "name": "stdin",
     "output_type": "stream",
     "text": [
      " 5\n"
     ]
    }
   ],
   "source": [
    "N = int(input())"
   ]
  },
  {
   "cell_type": "code",
   "execution_count": 2,
   "id": "59470e94-bf3e-4ca5-b51b-ecdb90ef19d3",
   "metadata": {},
   "outputs": [
    {
     "name": "stdin",
     "output_type": "stream",
     "text": [
      " 46 80 11 77 46\n"
     ]
    }
   ],
   "source": [
    "An = list(map(int, input().split()))"
   ]
  },
  {
   "cell_type": "code",
   "execution_count": 3,
   "id": "efa27f53-30e0-4a01-9c02-2cdce6c03ce0",
   "metadata": {},
   "outputs": [],
   "source": [
    "An_s = set(An)\n",
    "An_s = sorted(An_s)"
   ]
  },
  {
   "cell_type": "code",
   "execution_count": 5,
   "id": "0e6a36e1-f84e-4715-a0b4-43bc7f641dab",
   "metadata": {},
   "outputs": [],
   "source": [
    "from bisect import bisect_left\n",
    "ans = []\n",
    "for A in An:\n",
    "    ans.append(bisect_left(An_s, A) + 1)"
   ]
  },
  {
   "cell_type": "code",
   "execution_count": 6,
   "id": "65f2c1ed-fa78-450d-9746-90def10dc8f7",
   "metadata": {},
   "outputs": [
    {
     "name": "stdout",
     "output_type": "stream",
     "text": [
      "2 4 1 3 2\n"
     ]
    }
   ],
   "source": [
    "print(*ans)"
   ]
  },
  {
   "cell_type": "code",
   "execution_count": 4,
   "id": "c9bbd831-f99f-4190-bd48-a3ca53198aa0",
   "metadata": {},
   "outputs": [
    {
     "data": {
      "text/plain": [
       "[11, 46, 77, 80]"
      ]
     },
     "execution_count": 4,
     "metadata": {},
     "output_type": "execute_result"
    }
   ],
   "source": [
    "An_s"
   ]
  },
  {
   "cell_type": "code",
   "execution_count": null,
   "id": "4ffc3702-4288-41ed-bf91-30621e1e6ced",
   "metadata": {},
   "outputs": [],
   "source": []
  }
 ],
 "metadata": {
  "kernelspec": {
   "display_name": "Python 3",
   "language": "python",
   "name": "python3"
  },
  "language_info": {
   "codemirror_mode": {
    "name": "ipython",
    "version": 3
   },
   "file_extension": ".py",
   "mimetype": "text/x-python",
   "name": "python",
   "nbconvert_exporter": "python",
   "pygments_lexer": "ipython3",
   "version": "3.6.13"
  }
 },
 "nbformat": 4,
 "nbformat_minor": 5
}
