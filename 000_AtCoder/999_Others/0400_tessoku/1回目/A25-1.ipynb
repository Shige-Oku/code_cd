{
 "cells": [
  {
   "cell_type": "code",
   "execution_count": 1,
   "id": "f8601fcb-033b-4f7f-bc12-d17061c5fbca",
   "metadata": {},
   "outputs": [
    {
     "name": "stdin",
     "output_type": "stream",
     "text": [
      " 4 8\n"
     ]
    }
   ],
   "source": [
    "H, W = map(int, input().split())"
   ]
  },
  {
   "cell_type": "code",
   "execution_count": 31,
   "id": "6a690239-1e23-462a-b01e-9671dced84c2",
   "metadata": {},
   "outputs": [
    {
     "name": "stdin",
     "output_type": "stream",
     "text": [
      " .....#..\n",
      " ........\n",
      " ..#...#.\n",
      " #.......\n"
     ]
    }
   ],
   "source": [
    "Cn = ['#' + input() + '#' for _ in range(H)]"
   ]
  },
  {
   "cell_type": "code",
   "execution_count": 33,
   "id": "9a33dccf-0862-4823-b879-2e1ad9402e9e",
   "metadata": {},
   "outputs": [],
   "source": [
    "Cn.insert(0, '#'*(W+2))\n",
    "Cn.append('#'*(W+2))"
   ]
  },
  {
   "cell_type": "code",
   "execution_count": 41,
   "id": "c5816361-9b9e-4ed4-bf2a-dd46602c1a6e",
   "metadata": {},
   "outputs": [],
   "source": [
    "dp = [[0] * (W+1) for _ in range(H+1)]\n",
    "for h in range(1, H+1):\n",
    "    for w in range(1, W+1):\n",
    "        if Cn[h][w] == '#':\n",
    "            continue\n",
    "        if h == 1 and w == 1:\n",
    "            dp[1][1] = 1\n",
    "        if Cn[h][w-1] == '.':\n",
    "            dp[h][w] += dp[h][w-1]\n",
    "        if Cn[h-1][w] == '.':\n",
    "            dp[h][w] += dp[h-1][w]\n"
   ]
  },
  {
   "cell_type": "code",
   "execution_count": 42,
   "id": "31482fbb-d72c-4fb3-99b1-8468f886d875",
   "metadata": {},
   "outputs": [
    {
     "name": "stdout",
     "output_type": "stream",
     "text": [
      "35\n"
     ]
    }
   ],
   "source": [
    "print(dp[H][W])"
   ]
  },
  {
   "cell_type": "code",
   "execution_count": 40,
   "id": "c3b3a3ff-8a9a-4d1c-bfd5-0c0e79d12cce",
   "metadata": {},
   "outputs": [
    {
     "data": {
      "text/plain": [
       "[[0, 0, 0, 0, 0, 0, 0, 0, 0],\n",
       " [0, 1, 1, 1, 1, 1, 0, 0, 0],\n",
       " [0, 0, 0, 0, 0, 0, 0, 0, 0],\n",
       " [0, 0, 0, 0, 0, 0, 0, 0, 0],\n",
       " [0, 0, 0, 0, 0, 0, 0, 0, 0]]"
      ]
     },
     "execution_count": 40,
     "metadata": {},
     "output_type": "execute_result"
    }
   ],
   "source": [
    "dp"
   ]
  },
  {
   "cell_type": "code",
   "execution_count": 34,
   "id": "cd2715db-ed01-4806-bfc1-3197a8974ab1",
   "metadata": {},
   "outputs": [
    {
     "data": {
      "text/plain": [
       "['##########',\n",
       " '#.....#..#',\n",
       " '#........#',\n",
       " '#..#...#.#',\n",
       " '##.......#',\n",
       " '##########']"
      ]
     },
     "execution_count": 34,
     "metadata": {},
     "output_type": "execute_result"
    }
   ],
   "source": [
    "Cn"
   ]
  },
  {
   "cell_type": "code",
   "execution_count": 37,
   "id": "f8c9bc3f-5d76-4c6f-a172-f13206c5744a",
   "metadata": {},
   "outputs": [
    {
     "data": {
      "text/plain": [
       "(2, 9)"
      ]
     },
     "execution_count": 37,
     "metadata": {},
     "output_type": "execute_result"
    }
   ],
   "source": [
    "h, w"
   ]
  },
  {
   "cell_type": "code",
   "execution_count": 43,
   "id": "3499f9c8-ac30-412e-bbe7-92ae9083acf0",
   "metadata": {},
   "outputs": [
    {
     "data": {
      "text/plain": [
       "281"
      ]
     },
     "execution_count": 43,
     "metadata": {},
     "output_type": "execute_result"
    }
   ],
   "source": [
    "229596204*100%998244353"
   ]
  },
  {
   "cell_type": "code",
   "execution_count": 45,
   "id": "c46dafc8-9966-4069-b129-a0667217b359",
   "metadata": {},
   "outputs": [
    {
     "data": {
      "text/plain": [
       "2.81"
      ]
     },
     "execution_count": 45,
     "metadata": {},
     "output_type": "execute_result"
    }
   ],
   "source": [
    "(281/100)%998244353"
   ]
  },
  {
   "cell_type": "code",
   "execution_count": null,
   "id": "306796bb-750c-499f-b840-f53bd4f73efc",
   "metadata": {},
   "outputs": [],
   "source": []
  }
 ],
 "metadata": {
  "kernelspec": {
   "display_name": "Python 3",
   "language": "python",
   "name": "python3"
  },
  "language_info": {
   "codemirror_mode": {
    "name": "ipython",
    "version": 3
   },
   "file_extension": ".py",
   "mimetype": "text/x-python",
   "name": "python",
   "nbconvert_exporter": "python",
   "pygments_lexer": "ipython3",
   "version": "3.6.13"
  }
 },
 "nbformat": 4,
 "nbformat_minor": 5
}
