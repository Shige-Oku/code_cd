{
 "cells": [
  {
   "cell_type": "code",
   "execution_count": 1,
   "id": "e72cba98-e976-45d5-9d85-89c2bfe8ed4c",
   "metadata": {},
   "outputs": [
    {
     "name": "stdin",
     "output_type": "stream",
     "text": [
      " 4 6\n"
     ]
    }
   ],
   "source": [
    "N, M = map(int, input().split())"
   ]
  },
  {
   "cell_type": "code",
   "execution_count": 2,
   "id": "d4a50c00-b1b9-49bc-814f-14b3abe0a240",
   "metadata": {},
   "outputs": [
    {
     "name": "stdin",
     "output_type": "stream",
     "text": [
      " 1 4 1 4 2 1\n"
     ]
    }
   ],
   "source": [
    "An = list(map(int, input().split()))"
   ]
  },
  {
   "cell_type": "code",
   "execution_count": 3,
   "id": "f03a7e3b-88ef-482e-af2e-b8b0a2c86a9a",
   "metadata": {},
   "outputs": [],
   "source": [
    "cnt = [0] * (N+1)\n",
    "for A in An:\n",
    "    cnt[A] += 1"
   ]
  },
  {
   "cell_type": "code",
   "execution_count": 4,
   "id": "1fe58e82-f675-431f-9ae6-5ddfcdcb8201",
   "metadata": {},
   "outputs": [
    {
     "name": "stdout",
     "output_type": "stream",
     "text": [
      "3\n",
      "5\n",
      "6\n",
      "4\n"
     ]
    }
   ],
   "source": [
    "for c in cnt[1:]:\n",
    "    print(M-c)"
   ]
  },
  {
   "cell_type": "code",
   "execution_count": null,
   "id": "98f73dd0-1778-4b3e-8bff-5d4edc2fd75a",
   "metadata": {},
   "outputs": [],
   "source": []
  }
 ],
 "metadata": {
  "kernelspec": {
   "display_name": "Python 3",
   "language": "python",
   "name": "python3"
  },
  "language_info": {
   "codemirror_mode": {
    "name": "ipython",
    "version": 3
   },
   "file_extension": ".py",
   "mimetype": "text/x-python",
   "name": "python",
   "nbconvert_exporter": "python",
   "pygments_lexer": "ipython3",
   "version": "3.6.13"
  }
 },
 "nbformat": 4,
 "nbformat_minor": 5
}
