{
 "cells": [
  {
   "cell_type": "code",
   "execution_count": 19,
   "id": "d87225cf-226a-4319-9d8f-a25503245c00",
   "metadata": {},
   "outputs": [
    {
     "name": "stdin",
     "output_type": "stream",
     "text": [
      " 13\n"
     ]
    }
   ],
   "source": [
    "N = int(input())"
   ]
  },
  {
   "cell_type": "code",
   "execution_count": 20,
   "id": "532a43ab-75dc-4417-82c6-ed87e77a7f35",
   "metadata": {},
   "outputs": [
    {
     "name": "stdout",
     "output_type": "stream",
     "text": [
      "0000001101\n"
     ]
    }
   ],
   "source": [
    "print(format(N, '010b'))"
   ]
  },
  {
   "cell_type": "code",
   "execution_count": 21,
   "id": "0bf1c12c-a808-4971-ae1a-e837ca657fe0",
   "metadata": {},
   "outputs": [
    {
     "data": {
      "text/plain": [
       "'0b1101'"
      ]
     },
     "execution_count": 21,
     "metadata": {},
     "output_type": "execute_result"
    }
   ],
   "source": [
    "bin(N)"
   ]
  },
  {
   "cell_type": "code",
   "execution_count": 22,
   "id": "9f1dd067-f75f-457a-825d-b876387c25bf",
   "metadata": {},
   "outputs": [
    {
     "data": {
      "text/plain": [
       "'0000001101'"
      ]
     },
     "execution_count": 22,
     "metadata": {},
     "output_type": "execute_result"
    }
   ],
   "source": [
    "format(N, '010b')"
   ]
  },
  {
   "cell_type": "code",
   "execution_count": 23,
   "id": "c3aa77f6-6b8e-4bf5-8d29-dac838b782be",
   "metadata": {},
   "outputs": [],
   "source": [
    "ans = ''\n",
    "n = N\n",
    "i = 9\n",
    "while i >= 0:\n",
    "    q, r = divmod(n, 2**i)\n",
    "    if q == 1:\n",
    "        ans += '1'\n",
    "    else:\n",
    "        ans += '0'\n",
    "    i -= 1\n",
    "    n = r"
   ]
  },
  {
   "cell_type": "code",
   "execution_count": 24,
   "id": "e9e9f0e6-4eb8-467c-be4c-3b404a837a51",
   "metadata": {},
   "outputs": [
    {
     "name": "stdout",
     "output_type": "stream",
     "text": [
      "0000001101\n"
     ]
    }
   ],
   "source": [
    "print(ans)"
   ]
  },
  {
   "cell_type": "code",
   "execution_count": 28,
   "id": "c7a4ea0b-67f4-4333-9dbe-aa41f50d54e1",
   "metadata": {},
   "outputs": [],
   "source": [
    "ans = ''\n",
    "n = N\n",
    "b = 2\n",
    "for _ in range(10):\n",
    "    q, r = divmod(n, b)\n",
    "    ans += str(r)\n",
    "    n = q\n"
   ]
  },
  {
   "cell_type": "code",
   "execution_count": 29,
   "id": "4abc2236-04ab-4346-8e9a-1933151ee536",
   "metadata": {},
   "outputs": [
    {
     "name": "stdout",
     "output_type": "stream",
     "text": [
      "0000001101\n"
     ]
    }
   ],
   "source": [
    "print(ans[::-1])"
   ]
  },
  {
   "cell_type": "code",
   "execution_count": null,
   "id": "fe1e34ab-f58e-434c-bf3d-6832c165a981",
   "metadata": {},
   "outputs": [],
   "source": []
  }
 ],
 "metadata": {
  "kernelspec": {
   "display_name": "Python 3",
   "language": "python",
   "name": "python3"
  },
  "language_info": {
   "codemirror_mode": {
    "name": "ipython",
    "version": 3
   },
   "file_extension": ".py",
   "mimetype": "text/x-python",
   "name": "python",
   "nbconvert_exporter": "python",
   "pygments_lexer": "ipython3",
   "version": "3.6.13"
  }
 },
 "nbformat": 4,
 "nbformat_minor": 5
}
