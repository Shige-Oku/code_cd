{
 "cells": [
  {
   "cell_type": "code",
   "execution_count": 1,
   "id": "1292f3ac-fcd3-4847-b67b-b72b6de88c61",
   "metadata": {},
   "outputs": [
    {
     "name": "stdin",
     "output_type": "stream",
     "text": [
      " 3\n"
     ]
    }
   ],
   "source": [
    "N = int(input())"
   ]
  },
  {
   "cell_type": "code",
   "execution_count": 2,
   "id": "70ef7ace-0057-4a4f-ac3c-a7053b084b00",
   "metadata": {},
   "outputs": [
    {
     "name": "stdin",
     "output_type": "stream",
     "text": [
      " 2649 2\n",
      " 4749 2\n",
      " 2749 3\n"
     ]
    }
   ],
   "source": [
    "STn = [input().split() for _ in range(N)]"
   ]
  },
  {
   "cell_type": "code",
   "execution_count": 23,
   "id": "c860b69a-3ce9-44b7-b5f3-4ce832506fef",
   "metadata": {},
   "outputs": [],
   "source": [
    "def myCheck(s):\n",
    "    for no, rank in STn:\n",
    "        if rank == '1':\n",
    "            if no == s:\n",
    "                return True\n",
    "            else:\n",
    "                return False\n",
    "        else:\n",
    "            match = 0\n",
    "            for s1, s2 in zip(s, no):\n",
    "                if s1 == s2:\n",
    "                    match += 1\n",
    "            if rank == '2':\n",
    "                if match != 3:\n",
    "                    return False\n",
    "            else:\n",
    "                if match > 2:\n",
    "                    return False\n",
    "    return True"
   ]
  },
  {
   "cell_type": "code",
   "execution_count": 24,
   "id": "3abf9709-8349-4733-9de6-1833d335b5e4",
   "metadata": {},
   "outputs": [
    {
     "name": "stdout",
     "output_type": "stream",
     "text": [
      "4649\n"
     ]
    }
   ],
   "source": [
    "ans = []\n",
    "for ca in range(10000):\n",
    "    s = str(ca).zfill(4)\n",
    "    if myCheck(s):\n",
    "        ans.append(s)\n",
    "if len(ans) == 1:\n",
    "    print(ans[0])\n",
    "else:\n",
    "    print(\"Can't Solve\")"
   ]
  },
  {
   "cell_type": "code",
   "execution_count": 5,
   "id": "9958d07d-b426-46a5-bbe7-96cdb8947291",
   "metadata": {},
   "outputs": [
    {
     "data": {
      "text/plain": [
       "'0007'"
      ]
     },
     "execution_count": 5,
     "metadata": {},
     "output_type": "execute_result"
    }
   ],
   "source": [
    "str(7).zfill(4)"
   ]
  },
  {
   "cell_type": "code",
   "execution_count": null,
   "id": "2ca7cc9e-c7e0-4330-bb00-e1197dc39570",
   "metadata": {},
   "outputs": [],
   "source": []
  }
 ],
 "metadata": {
  "kernelspec": {
   "display_name": "Python 3",
   "language": "python",
   "name": "python3"
  },
  "language_info": {
   "codemirror_mode": {
    "name": "ipython",
    "version": 3
   },
   "file_extension": ".py",
   "mimetype": "text/x-python",
   "name": "python",
   "nbconvert_exporter": "python",
   "pygments_lexer": "ipython3",
   "version": "3.6.13"
  }
 },
 "nbformat": 4,
 "nbformat_minor": 5
}
