{
 "cells": [
  {
   "cell_type": "code",
   "execution_count": 30,
   "id": "6bb8c241-4616-46dd-97c3-1964454a6912",
   "metadata": {},
   "outputs": [
    {
     "name": "stdin",
     "output_type": "stream",
     "text": [
      " 6 6\n"
     ]
    }
   ],
   "source": [
    "N, M = map(int, input().split())"
   ]
  },
  {
   "cell_type": "code",
   "execution_count": 31,
   "id": "91d8ecca-f0f4-4233-9163-1a5800939783",
   "metadata": {},
   "outputs": [
    {
     "name": "stdin",
     "output_type": "stream",
     "text": [
      " 1 4\n",
      " 2 3\n",
      " 3 4\n",
      " 5 6\n",
      " 1 2\n",
      " 2 4\n"
     ]
    }
   ],
   "source": [
    "ABm = [list(map(int, input().split())) for _ in range(M)]"
   ]
  },
  {
   "cell_type": "code",
   "execution_count": 32,
   "id": "58e78d94-04c6-4236-bd3d-895d01b33445",
   "metadata": {},
   "outputs": [],
   "source": [
    "graph = [[] for _ in range(N+1)]\n",
    "for A, B in ABm:\n",
    "    graph[A].append(B)\n",
    "    graph[B].append(A)"
   ]
  },
  {
   "cell_type": "code",
   "execution_count": 33,
   "id": "deab15e8-fca6-4bcf-b929-909d401d7ea5",
   "metadata": {},
   "outputs": [],
   "source": [
    "from collections import deque\n",
    "def BFS():\n",
    "    q = deque()\n",
    "    q.append(1)\n",
    "    visit[1] = True\n",
    "    dist[1] = 0\n",
    "    while q:\n",
    "        p = q.popleft()\n",
    "        for g in graph[p]:\n",
    "            if visit[g]:\n",
    "                continue\n",
    "            q.append(g)\n",
    "            visit[g] = True\n",
    "            dist[g] = dist[p] + 1\n",
    "    return"
   ]
  },
  {
   "cell_type": "code",
   "execution_count": 34,
   "id": "a04a6f4a-29f9-4567-b1d7-43afbadc7f87",
   "metadata": {},
   "outputs": [],
   "source": [
    "visit = [False] * (N+1)\n",
    "dist = [-1] * (N+1)\n",
    "BFS()"
   ]
  },
  {
   "cell_type": "code",
   "execution_count": 35,
   "id": "01aa0a81-9430-436b-a11f-4b4cc13ed169",
   "metadata": {},
   "outputs": [
    {
     "name": "stdout",
     "output_type": "stream",
     "text": [
      "0\n",
      "1\n",
      "2\n",
      "1\n",
      "-1\n",
      "-1\n"
     ]
    }
   ],
   "source": [
    "print(*dist[1:], sep='\\n')"
   ]
  },
  {
   "cell_type": "code",
   "execution_count": 36,
   "id": "59e131d8-a844-4e81-b49c-ed1e61036b10",
   "metadata": {},
   "outputs": [
    {
     "data": {
      "text/plain": [
       "[[], [4, 2], [3, 1, 4], [2, 4], [1, 3, 2], [6], [5]]"
      ]
     },
     "execution_count": 36,
     "metadata": {},
     "output_type": "execute_result"
    }
   ],
   "source": [
    "graph"
   ]
  },
  {
   "cell_type": "code",
   "execution_count": 37,
   "id": "2fe31e7d-2c2e-4a0e-890f-9b124bf77ac4",
   "metadata": {},
   "outputs": [
    {
     "data": {
      "text/plain": [
       "[-1, 0, 1, 2, 1, -1, -1]"
      ]
     },
     "execution_count": 37,
     "metadata": {},
     "output_type": "execute_result"
    }
   ],
   "source": [
    "dist"
   ]
  },
  {
   "cell_type": "code",
   "execution_count": null,
   "id": "8c6cb9c6-4c16-4701-aab2-99df73e96ce9",
   "metadata": {},
   "outputs": [],
   "source": []
  }
 ],
 "metadata": {
  "kernelspec": {
   "display_name": "Python 3",
   "language": "python",
   "name": "python3"
  },
  "language_info": {
   "codemirror_mode": {
    "name": "ipython",
    "version": 3
   },
   "file_extension": ".py",
   "mimetype": "text/x-python",
   "name": "python",
   "nbconvert_exporter": "python",
   "pygments_lexer": "ipython3",
   "version": "3.6.13"
  }
 },
 "nbformat": 4,
 "nbformat_minor": 5
}
