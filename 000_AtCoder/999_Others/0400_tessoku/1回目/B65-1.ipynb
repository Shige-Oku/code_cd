{
 "cells": [
  {
   "cell_type": "code",
   "execution_count": 31,
   "id": "5c7dfdb3-31a6-433e-a52f-25c7918e056e",
   "metadata": {},
   "outputs": [
    {
     "name": "stdin",
     "output_type": "stream",
     "text": [
      " 7 1\n"
     ]
    }
   ],
   "source": [
    "N, T = map(int, input().split())"
   ]
  },
  {
   "cell_type": "code",
   "execution_count": 32,
   "id": "34ae7d5c-12d3-44ec-87eb-deb6f3d920e3",
   "metadata": {},
   "outputs": [
    {
     "name": "stdin",
     "output_type": "stream",
     "text": [
      " 1 2\n",
      " 1 3\n",
      " 3 4\n",
      " 2 5\n",
      " 4 6\n",
      " 4 7\n"
     ]
    }
   ],
   "source": [
    "ABn = [list(map(int, input().split())) for _ in range(N-1)]"
   ]
  },
  {
   "cell_type": "code",
   "execution_count": 33,
   "id": "34f1bb56-1cd6-4559-a281-4e3b8e199af9",
   "metadata": {},
   "outputs": [],
   "source": [
    "graph = [[] for _ in range(N+1)]\n",
    "for A, B in ABn:\n",
    "    graph[A].append(B)\n",
    "    graph[B].append(A)"
   ]
  },
  {
   "cell_type": "code",
   "execution_count": 45,
   "id": "c4358444-f829-4661-8742-6b9896c51667",
   "metadata": {},
   "outputs": [],
   "source": [
    "import sys\n",
    "sys.setrecursionlimit(10**7)\n",
    "def DFS(n):\n",
    "    visit[n] = True\n",
    "    if len(graph[n]) == 0:\n",
    "        return ans[n] + 1\n",
    "    cnt = 0\n",
    "    for g in graph[n]:\n",
    "        if visit[g]:\n",
    "            continue\n",
    "        cnt = max(cnt, DFS(g))\n",
    "    ans[n] = cnt\n",
    "    return cnt + 1"
   ]
  },
  {
   "cell_type": "code",
   "execution_count": 43,
   "id": "9d62adbd-7a6e-4d65-b319-55c921828e5d",
   "metadata": {},
   "outputs": [
    {
     "data": {
      "text/plain": [
       "4"
      ]
     },
     "execution_count": 43,
     "metadata": {},
     "output_type": "execute_result"
    }
   ],
   "source": [
    "visit = [False] * (N+1)\n",
    "ans = [0] * (N+1)\n",
    "DFS(T)"
   ]
  },
  {
   "cell_type": "code",
   "execution_count": 44,
   "id": "dd1f9bd0-bdb0-4e04-a58b-1a4d04f07fdf",
   "metadata": {},
   "outputs": [
    {
     "name": "stdout",
     "output_type": "stream",
     "text": [
      "3 1 2 1 0 0 0\n"
     ]
    }
   ],
   "source": [
    "print(*ans[1:])"
   ]
  }
 ],
 "metadata": {
  "kernelspec": {
   "display_name": "Python 3",
   "language": "python",
   "name": "python3"
  },
  "language_info": {
   "codemirror_mode": {
    "name": "ipython",
    "version": 3
   },
   "file_extension": ".py",
   "mimetype": "text/x-python",
   "name": "python",
   "nbconvert_exporter": "python",
   "pygments_lexer": "ipython3",
   "version": "3.6.13"
  }
 },
 "nbformat": 4,
 "nbformat_minor": 5
}
