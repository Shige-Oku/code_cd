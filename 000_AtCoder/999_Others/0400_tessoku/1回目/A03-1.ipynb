{
 "cells": [
  {
   "cell_type": "code",
   "execution_count": 6,
   "id": "a5988f3e-ace7-4503-8a1c-8c4e5d746584",
   "metadata": {},
   "outputs": [
    {
     "name": "stdin",
     "output_type": "stream",
     "text": [
      " 5 53\n"
     ]
    }
   ],
   "source": [
    "N, K = map(int, input().split())"
   ]
  },
  {
   "cell_type": "code",
   "execution_count": 7,
   "id": "bc707ae2-0078-4eda-b5fa-a788d855d2a5",
   "metadata": {},
   "outputs": [
    {
     "name": "stdin",
     "output_type": "stream",
     "text": [
      " 10 20 30 40 50\n"
     ]
    }
   ],
   "source": [
    "Pn = list(map(int, input().split()))"
   ]
  },
  {
   "cell_type": "code",
   "execution_count": 8,
   "id": "f438e522-bfe4-4f61-8a32-cea03bbe77c3",
   "metadata": {},
   "outputs": [
    {
     "name": "stdin",
     "output_type": "stream",
     "text": [
      " 1 2 3 4 5\n"
     ]
    }
   ],
   "source": [
    "Qn = list(map(int, input().split()))"
   ]
  },
  {
   "cell_type": "code",
   "execution_count": 9,
   "id": "ed5e5ca5-217b-4286-8bc7-71d9ea89889f",
   "metadata": {},
   "outputs": [],
   "source": [
    "flg = False\n",
    "for P in Pn:\n",
    "    for Q in Qn:\n",
    "        if P + Q == K:\n",
    "            flg = True"
   ]
  },
  {
   "cell_type": "code",
   "execution_count": 10,
   "id": "eefd86d9-7cb6-44ce-9ac8-5ac63df51c52",
   "metadata": {},
   "outputs": [
    {
     "name": "stdout",
     "output_type": "stream",
     "text": [
      "Yes\n"
     ]
    }
   ],
   "source": [
    "print('Yes' if flg else 'No')"
   ]
  },
  {
   "cell_type": "code",
   "execution_count": 15,
   "id": "524024c4-1852-4772-a7d1-28f29de22233",
   "metadata": {},
   "outputs": [],
   "source": [
    "flg = False\n",
    "for P in Pn:\n",
    "    if K - P in Qn:\n",
    "        flg = True"
   ]
  },
  {
   "cell_type": "code",
   "execution_count": 16,
   "id": "2515128b-2c79-40c4-bafc-c4a2d142f373",
   "metadata": {},
   "outputs": [
    {
     "name": "stdout",
     "output_type": "stream",
     "text": [
      "Yes\n"
     ]
    }
   ],
   "source": [
    "print('Yes' if flg else 'No')"
   ]
  },
  {
   "cell_type": "code",
   "execution_count": null,
   "id": "e12780f3-1fdf-44db-a16d-19ffabe8cf07",
   "metadata": {},
   "outputs": [],
   "source": []
  }
 ],
 "metadata": {
  "kernelspec": {
   "display_name": "Python 3",
   "language": "python",
   "name": "python3"
  },
  "language_info": {
   "codemirror_mode": {
    "name": "ipython",
    "version": 3
   },
   "file_extension": ".py",
   "mimetype": "text/x-python",
   "name": "python",
   "nbconvert_exporter": "python",
   "pygments_lexer": "ipython3",
   "version": "3.6.13"
  }
 },
 "nbformat": 4,
 "nbformat_minor": 5
}
