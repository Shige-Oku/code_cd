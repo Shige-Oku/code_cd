{
 "cells": [
  {
   "cell_type": "code",
   "execution_count": 9,
   "id": "40f1e851-c834-4dfc-95dd-8d166f4857ac",
   "metadata": {},
   "outputs": [
    {
     "name": "stdin",
     "output_type": "stream",
     "text": [
      " 77777 44444\n"
     ]
    }
   ],
   "source": [
    "N, R = map(int, input().split())"
   ]
  },
  {
   "cell_type": "code",
   "execution_count": 10,
   "id": "bf3892e9-dec5-480a-8610-1d0bacf64afe",
   "metadata": {},
   "outputs": [],
   "source": [
    "def calcFactorial(n, m):\n",
    "    ret = 1\n",
    "    for i in range(1, n+1):\n",
    "        ret *= i\n",
    "        ret %= m\n",
    "    return ret"
   ]
  },
  {
   "cell_type": "code",
   "execution_count": 11,
   "id": "47c46acd-e517-4665-aa20-90c99821b362",
   "metadata": {},
   "outputs": [],
   "source": [
    "def nCr(n, r):\n",
    "    m = 10**9+7\n",
    "    s1 = calcFactorial(n, m)\n",
    "    b1 = calcFactorial(r, m)\n",
    "    b2 = calcFactorial(n-r, m)\n",
    "    b = b1 * b2\n",
    "    b %= m\n",
    "    return s1 * pow(b, m-2, m) % m  "
   ]
  },
  {
   "cell_type": "code",
   "execution_count": 12,
   "id": "47499fd6-c791-4119-844a-f162018cfe77",
   "metadata": {},
   "outputs": [
    {
     "name": "stdout",
     "output_type": "stream",
     "text": [
      "409085577\n"
     ]
    }
   ],
   "source": [
    "print(nCr(N, R))"
   ]
  },
  {
   "cell_type": "code",
   "execution_count": 6,
   "id": "7c532afa-7491-40ba-8354-9c839ae896de",
   "metadata": {},
   "outputs": [
    {
     "data": {
      "text/plain": [
       "720"
      ]
     },
     "execution_count": 6,
     "metadata": {},
     "output_type": "execute_result"
    }
   ],
   "source": [
    "calcFactorial(6, 10**9+7)"
   ]
  },
  {
   "cell_type": "code",
   "execution_count": null,
   "id": "3ee21536-5f6b-4282-a89a-82bc0721852f",
   "metadata": {},
   "outputs": [],
   "source": []
  }
 ],
 "metadata": {
  "kernelspec": {
   "display_name": "Python 3",
   "language": "python",
   "name": "python3"
  },
  "language_info": {
   "codemirror_mode": {
    "name": "ipython",
    "version": 3
   },
   "file_extension": ".py",
   "mimetype": "text/x-python",
   "name": "python",
   "nbconvert_exporter": "python",
   "pygments_lexer": "ipython3",
   "version": "3.6.13"
  }
 },
 "nbformat": 4,
 "nbformat_minor": 5
}
