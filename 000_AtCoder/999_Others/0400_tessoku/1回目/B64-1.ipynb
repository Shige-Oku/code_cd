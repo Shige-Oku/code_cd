{
 "cells": [
  {
   "cell_type": "code",
   "execution_count": 1,
   "id": "e830ce45-02d9-4c16-a708-4569ed048f3a",
   "metadata": {},
   "outputs": [
    {
     "name": "stdin",
     "output_type": "stream",
     "text": [
      " 6 7\n"
     ]
    }
   ],
   "source": [
    "N, M = map(int, input().split())"
   ]
  },
  {
   "cell_type": "code",
   "execution_count": 2,
   "id": "c81ec2df-a5fc-49d2-b9fe-81861ca16560",
   "metadata": {},
   "outputs": [
    {
     "name": "stdin",
     "output_type": "stream",
     "text": [
      " 1 2 15\n",
      " 1 4 20\n",
      " 2 3 65\n",
      " 2 5 4\n",
      " 3 6 50\n",
      " 4 5 30\n",
      " 5 6 8\n"
     ]
    }
   ],
   "source": [
    "ABCm = [list(map(int, input().split())) for _ in range(M)]"
   ]
  },
  {
   "cell_type": "code",
   "execution_count": 3,
   "id": "5083e85d-6f13-4fdf-a938-d701fb62b905",
   "metadata": {},
   "outputs": [],
   "source": [
    "graph = [[] for _ in range(N+1)]\n",
    "for A, B, C in ABCm:\n",
    "    graph[A].append((B, C))\n",
    "    graph[B].append((A, C))"
   ]
  },
  {
   "cell_type": "code",
   "execution_count": 5,
   "id": "8d23c3a7-b1eb-4d20-a294-e8c587a1bb04",
   "metadata": {},
   "outputs": [],
   "source": [
    "import heapq\n",
    "visit = [False] * (N+1)\n",
    "dist = [-1] * (N+1)\n",
    "q = []\n",
    "heapq.heappush(q, (0, 1))\n",
    "dist[1] = 0\n",
    "while q:\n",
    "    d, p = heapq.heappop(q)\n",
    "    if visit[p]:\n",
    "        continue\n",
    "    visit[p] = True\n",
    "    for n, c in graph[p]:\n",
    "        if dist[n] == -1 or dist[n] > dist[p] + c:\n",
    "            dist[n] = dist[p] + c\n",
    "            heapq.heappush(q, (dist[n], n))"
   ]
  },
  {
   "cell_type": "code",
   "execution_count": 7,
   "id": "5a267054-74c5-4150-8361-07f9fa8013c0",
   "metadata": {},
   "outputs": [],
   "source": [
    "ans = [N, ]\n",
    "p = N\n",
    "while p != 1:\n",
    "    for n, c in graph[p]:\n",
    "        if dist[p] - c == dist[n]:\n",
    "            ans.append(n)\n",
    "            p = n\n",
    "            break"
   ]
  },
  {
   "cell_type": "code",
   "execution_count": 8,
   "id": "8be89f1f-d818-4f13-8659-76dff5e83ca0",
   "metadata": {},
   "outputs": [
    {
     "name": "stdout",
     "output_type": "stream",
     "text": [
      "1 2 5 6\n"
     ]
    }
   ],
   "source": [
    "print(*ans[::-1])"
   ]
  },
  {
   "cell_type": "code",
   "execution_count": 6,
   "id": "4c8f8b0a-d596-49d1-930d-f590703b91e0",
   "metadata": {},
   "outputs": [
    {
     "data": {
      "text/plain": [
       "[-1, 0, 15, 77, 20, 19, 27]"
      ]
     },
     "execution_count": 6,
     "metadata": {},
     "output_type": "execute_result"
    }
   ],
   "source": [
    "dist"
   ]
  },
  {
   "cell_type": "code",
   "execution_count": null,
   "id": "08bbd4fc-46ef-48de-8d82-e90a4a66838c",
   "metadata": {},
   "outputs": [],
   "source": []
  }
 ],
 "metadata": {
  "kernelspec": {
   "display_name": "Python 3",
   "language": "python",
   "name": "python3"
  },
  "language_info": {
   "codemirror_mode": {
    "name": "ipython",
    "version": 3
   },
   "file_extension": ".py",
   "mimetype": "text/x-python",
   "name": "python",
   "nbconvert_exporter": "python",
   "pygments_lexer": "ipython3",
   "version": "3.6.13"
  }
 },
 "nbformat": 4,
 "nbformat_minor": 5
}
