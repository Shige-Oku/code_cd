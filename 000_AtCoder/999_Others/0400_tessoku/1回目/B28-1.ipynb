{
 "cells": [
  {
   "cell_type": "code",
   "execution_count": 10,
   "id": "84bb1d97-3f83-4805-b9e5-1a7e7753541b",
   "metadata": {},
   "outputs": [
    {
     "name": "stdin",
     "output_type": "stream",
     "text": [
      " 8691200\n"
     ]
    }
   ],
   "source": [
    "N = int(input())"
   ]
  },
  {
   "cell_type": "code",
   "execution_count": 11,
   "id": "86d28e00-9551-4435-aab6-6f487ae76e2c",
   "metadata": {},
   "outputs": [],
   "source": [
    "fibo = [1, 1]\n",
    "for i in range(3, N+1):\n",
    "    n = fibo[-2] + fibo[-1]\n",
    "    n %= 1000000007\n",
    "    fibo.append(n)"
   ]
  },
  {
   "cell_type": "code",
   "execution_count": 12,
   "id": "ecca15b7-371f-47d0-9e91-1ba71bb7dff7",
   "metadata": {},
   "outputs": [
    {
     "name": "stdout",
     "output_type": "stream",
     "text": [
      "922041576\n"
     ]
    }
   ],
   "source": [
    "print(fibo[-1])"
   ]
  },
  {
   "cell_type": "code",
   "execution_count": 6,
   "id": "4d85e33a-b23e-4c79-8185-0a9c08e52eaa",
   "metadata": {},
   "outputs": [
    {
     "data": {
      "text/plain": [
       "[1, 1, 2, 3, 5, 8, 13, 21]"
      ]
     },
     "execution_count": 6,
     "metadata": {},
     "output_type": "execute_result"
    }
   ],
   "source": [
    "fibo"
   ]
  },
  {
   "cell_type": "code",
   "execution_count": null,
   "id": "afd1d14f-1485-4ac4-bda9-8d61c1d8f578",
   "metadata": {},
   "outputs": [],
   "source": [
    "# RE"
   ]
  },
  {
   "cell_type": "code",
   "execution_count": 2,
   "id": "1bd90f1c-a495-4b2e-9cf4-3951ad607876",
   "metadata": {},
   "outputs": [],
   "source": [
    "import sys\n",
    "sys.setrecursionlimit(10**7)\n",
    "def func(a, b, n):\n",
    "    if n == N:\n",
    "        return (a + b) % 1000000007\n",
    "    return func(b, (a+b)%1000000007, n+1)"
   ]
  },
  {
   "cell_type": "code",
   "execution_count": null,
   "id": "e7a43126-849d-4f28-a8d5-8bfc72bc575f",
   "metadata": {},
   "outputs": [],
   "source": [
    "print(func(1, 1, 3))"
   ]
  },
  {
   "cell_type": "code",
   "execution_count": 6,
   "id": "27651d73-0ec9-4fc5-a1de-b6d3d798a267",
   "metadata": {},
   "outputs": [
    {
     "data": {
      "text/plain": [
       "6"
      ]
     },
     "execution_count": 6,
     "metadata": {},
     "output_type": "execute_result"
    }
   ],
   "source": [
    "N"
   ]
  },
  {
   "cell_type": "code",
   "execution_count": null,
   "id": "2028cf64-4a25-4e47-8bcf-6957a1ef8541",
   "metadata": {},
   "outputs": [],
   "source": []
  }
 ],
 "metadata": {
  "kernelspec": {
   "display_name": "Python 3",
   "language": "python",
   "name": "python3"
  },
  "language_info": {
   "codemirror_mode": {
    "name": "ipython",
    "version": 3
   },
   "file_extension": ".py",
   "mimetype": "text/x-python",
   "name": "python",
   "nbconvert_exporter": "python",
   "pygments_lexer": "ipython3",
   "version": "3.6.13"
  }
 },
 "nbformat": 4,
 "nbformat_minor": 5
}
