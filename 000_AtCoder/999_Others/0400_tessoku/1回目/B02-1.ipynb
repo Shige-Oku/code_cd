{
 "cells": [
  {
   "cell_type": "code",
   "execution_count": 4,
   "id": "9b2abc69-14ac-4a8a-b917-941cc832bea1",
   "metadata": {},
   "outputs": [
    {
     "name": "stdin",
     "output_type": "stream",
     "text": [
      " 6 9\n"
     ]
    }
   ],
   "source": [
    "A, B = map(int, input().split())"
   ]
  },
  {
   "cell_type": "code",
   "execution_count": 5,
   "id": "91b7f3b1-d372-43b5-97a8-879dfffb841b",
   "metadata": {},
   "outputs": [],
   "source": [
    "flg = False\n",
    "for n in range(A, B+1):\n",
    "    if 100 % n == 0:\n",
    "        flg = True"
   ]
  },
  {
   "cell_type": "code",
   "execution_count": 6,
   "id": "fe8fb601-e39a-46a4-93aa-2f274e9d5de0",
   "metadata": {},
   "outputs": [
    {
     "name": "stdout",
     "output_type": "stream",
     "text": [
      "No\n"
     ]
    }
   ],
   "source": [
    "print('Yes' if flg else 'No')"
   ]
  },
  {
   "cell_type": "code",
   "execution_count": 11,
   "id": "5789fdcd-e302-4172-aefc-17d19668eb9d",
   "metadata": {},
   "outputs": [],
   "source": [
    "import math\n",
    "def get_divisor_list(number):\n",
    "    number_sqrt = int(math.sqrt(number)) + 1\n",
    "    divisors = []\n",
    "    for i in range(1, int(number_sqrt)):\n",
    "        if number % i == 0:\n",
    "            # 割り切れたので約数\n",
    "            divisors.append(i)\n",
    "            divisors.append(number // i)\n",
    "    return divisors"
   ]
  },
  {
   "cell_type": "code",
   "execution_count": 12,
   "id": "fbf4a91e-de29-4793-b7cb-fd7416b1c44d",
   "metadata": {},
   "outputs": [],
   "source": [
    "divisors = get_divisor_list(100)\n",
    "flg = False\n",
    "for divisor in divisors:\n",
    "    if A <= divisor <= B:\n",
    "        flg = True"
   ]
  },
  {
   "cell_type": "code",
   "execution_count": 13,
   "id": "be2b4c30-48ba-4166-a3c1-7dcd76d200cb",
   "metadata": {},
   "outputs": [
    {
     "name": "stdout",
     "output_type": "stream",
     "text": [
      "No\n"
     ]
    }
   ],
   "source": [
    "print('Yes' if flg else 'No')"
   ]
  },
  {
   "cell_type": "code",
   "execution_count": 9,
   "id": "5ec7bb05-c7a3-4252-91c0-e834ba660c26",
   "metadata": {},
   "outputs": [
    {
     "data": {
      "text/plain": [
       "[1, 100, 2, 50, 4, 25, 5, 20, 10, 10]"
      ]
     },
     "execution_count": 9,
     "metadata": {},
     "output_type": "execute_result"
    }
   ],
   "source": [
    "divisors"
   ]
  },
  {
   "cell_type": "code",
   "execution_count": null,
   "id": "7a201aef-0a98-4b7b-880b-62a57f15d79b",
   "metadata": {},
   "outputs": [],
   "source": []
  }
 ],
 "metadata": {
  "kernelspec": {
   "display_name": "Python 3",
   "language": "python",
   "name": "python3"
  },
  "language_info": {
   "codemirror_mode": {
    "name": "ipython",
    "version": 3
   },
   "file_extension": ".py",
   "mimetype": "text/x-python",
   "name": "python",
   "nbconvert_exporter": "python",
   "pygments_lexer": "ipython3",
   "version": "3.6.13"
  }
 },
 "nbformat": 4,
 "nbformat_minor": 5
}
