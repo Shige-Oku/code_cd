{
 "cells": [
  {
   "cell_type": "code",
   "execution_count": 8,
   "id": "24958797-1f14-4673-8ec2-c814c2126761",
   "metadata": {},
   "outputs": [
    {
     "name": "stdin",
     "output_type": "stream",
     "text": [
      " 33 88\n"
     ]
    }
   ],
   "source": [
    "A, B = map(int, input().split())"
   ]
  },
  {
   "cell_type": "code",
   "execution_count": 9,
   "id": "b06c3454-3df9-45a6-aa73-35d2ffb384f8",
   "metadata": {},
   "outputs": [
    {
     "name": "stdout",
     "output_type": "stream",
     "text": [
      "11\n"
     ]
    }
   ],
   "source": [
    "from math import gcd\n",
    "print(gcd(A, B))"
   ]
  },
  {
   "cell_type": "code",
   "execution_count": 10,
   "id": "045c6d4d-3b55-4838-98d5-56ae6b64d848",
   "metadata": {},
   "outputs": [],
   "source": [
    "def myGcd(a, b):\n",
    "    if a > b:\n",
    "        a, b = b, a\n",
    "    if b % a == 0:\n",
    "        return a\n",
    "    return myGcd(b%a, a)"
   ]
  },
  {
   "cell_type": "code",
   "execution_count": 11,
   "id": "c781c855-c593-49b1-a546-f09c97dc149a",
   "metadata": {},
   "outputs": [
    {
     "name": "stdout",
     "output_type": "stream",
     "text": [
      "11\n"
     ]
    }
   ],
   "source": [
    "print(myGcd(A, B))"
   ]
  },
  {
   "cell_type": "code",
   "execution_count": 17,
   "id": "acd1ca81-db32-4746-9618-bc29a5b6c165",
   "metadata": {},
   "outputs": [],
   "source": [
    "def myGcd2(a, b):\n",
    "    if b == 0:\n",
    "        return a\n",
    "    return myGcd2(b, a%b)"
   ]
  },
  {
   "cell_type": "code",
   "execution_count": 18,
   "id": "36d8e579-a08d-45a6-b3e8-59832222a4ba",
   "metadata": {},
   "outputs": [
    {
     "name": "stdout",
     "output_type": "stream",
     "text": [
      "11\n"
     ]
    }
   ],
   "source": [
    "print(myGcd2(A, B))"
   ]
  },
  {
   "cell_type": "code",
   "execution_count": null,
   "id": "0aa089ef-4bd4-4454-baae-0cd15b8456e2",
   "metadata": {},
   "outputs": [],
   "source": []
  }
 ],
 "metadata": {
  "kernelspec": {
   "display_name": "Python 3",
   "language": "python",
   "name": "python3"
  },
  "language_info": {
   "codemirror_mode": {
    "name": "ipython",
    "version": 3
   },
   "file_extension": ".py",
   "mimetype": "text/x-python",
   "name": "python",
   "nbconvert_exporter": "python",
   "pygments_lexer": "ipython3",
   "version": "3.6.13"
  }
 },
 "nbformat": 4,
 "nbformat_minor": 5
}
