{
 "cells": [
  {
   "cell_type": "code",
   "execution_count": 17,
   "id": "e103b4d5-e8d1-4a5c-8a70-c604ef3a5725",
   "metadata": {},
   "outputs": [
    {
     "name": "stdin",
     "output_type": "stream",
     "text": [
      " 6 2 3\n"
     ]
    }
   ],
   "source": [
    "N, A, B = map(int, input().split())"
   ]
  },
  {
   "cell_type": "code",
   "execution_count": 18,
   "id": "22a2987c-94ad-4f94-b176-83a253e39c8c",
   "metadata": {},
   "outputs": [],
   "source": [
    "dp = [False] * (N+1)\n",
    "for i in range(N+1):\n",
    "    if i >= A:\n",
    "        if not dp[i-A]:\n",
    "            dp[i] = True\n",
    "    if i >= B:\n",
    "        if not dp[i-B]:\n",
    "            dp[i] = True"
   ]
  },
  {
   "cell_type": "code",
   "execution_count": 19,
   "id": "698b459b-76ea-4138-be91-45e9f4f76ff1",
   "metadata": {},
   "outputs": [
    {
     "name": "stdout",
     "output_type": "stream",
     "text": [
      "Second\n"
     ]
    }
   ],
   "source": [
    "print('First ' if dp[N] else 'Second')"
   ]
  },
  {
   "cell_type": "code",
   "execution_count": 16,
   "id": "63030521-81bc-4d18-b28f-78e4e471c36a",
   "metadata": {},
   "outputs": [
    {
     "data": {
      "text/plain": [
       "[False, False, True, True, True, False, False, True, True]"
      ]
     },
     "execution_count": 16,
     "metadata": {},
     "output_type": "execute_result"
    }
   ],
   "source": [
    "dp"
   ]
  },
  {
   "cell_type": "code",
   "execution_count": 10,
   "id": "6210b62d-8f23-4cea-ac80-29b48fb195b1",
   "metadata": {},
   "outputs": [
    {
     "name": "stdout",
     "output_type": "stream",
     "text": [
      "First\n"
     ]
    }
   ],
   "source": [
    "m = N % (A + B)\n",
    "if m >= A:\n",
    "    print('First')\n",
    "else:\n",
    "    print('Second')"
   ]
  },
  {
   "cell_type": "code",
   "execution_count": null,
   "id": "af7984f7-b5eb-4a9a-92b0-ff12de413d3e",
   "metadata": {},
   "outputs": [],
   "source": []
  }
 ],
 "metadata": {
  "kernelspec": {
   "display_name": "Python 3",
   "language": "python",
   "name": "python3"
  },
  "language_info": {
   "codemirror_mode": {
    "name": "ipython",
    "version": 3
   },
   "file_extension": ".py",
   "mimetype": "text/x-python",
   "name": "python",
   "nbconvert_exporter": "python",
   "pygments_lexer": "ipython3",
   "version": "3.6.13"
  }
 },
 "nbformat": 4,
 "nbformat_minor": 5
}
