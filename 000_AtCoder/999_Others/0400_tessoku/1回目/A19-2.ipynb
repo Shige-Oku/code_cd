{
 "cells": [
  {
   "cell_type": "code",
   "execution_count": 16,
   "id": "2dd3f6f1-94b3-4050-9811-bfb02934e04c",
   "metadata": {},
   "outputs": [
    {
     "name": "stdin",
     "output_type": "stream",
     "text": [
      " 4 7\n"
     ]
    }
   ],
   "source": [
    "N, W = map(int, input().split())"
   ]
  },
  {
   "cell_type": "code",
   "execution_count": 2,
   "id": "37abc212-33e8-4cfb-9c1d-011301699300",
   "metadata": {},
   "outputs": [
    {
     "name": "stdin",
     "output_type": "stream",
     "text": [
      " 3 13\n",
      " 3 17\n",
      " 5 29\n",
      " 1 10\n"
     ]
    }
   ],
   "source": [
    "WVn = [list(map(int, input().split())) for _ in range(N)]"
   ]
  },
  {
   "cell_type": "code",
   "execution_count": 21,
   "id": "ed8011b2-213b-4445-aef4-86e2b38dcfaa",
   "metadata": {},
   "outputs": [],
   "source": [
    "dp = [[0] * (W+1) for _ in range(N+1)]\n",
    "for i, (w, v) in enumerate(WVn, 1):\n",
    "    for j in range(W+1):\n",
    "        dp[i][j] = max(dp[i][j], dp[i-1][j])\n",
    "        if j + w <= W:\n",
    "            dp[i][j+w] = max(dp[i][j+w], dp[i-1][j]+v)"
   ]
  },
  {
   "cell_type": "code",
   "execution_count": 22,
   "id": "1a5114ca-9b13-4a2d-9ee3-af4180ebcabb",
   "metadata": {},
   "outputs": [
    {
     "name": "stdout",
     "output_type": "stream",
     "text": [
      "40\n"
     ]
    }
   ],
   "source": [
    "print(dp[N][W])"
   ]
  },
  {
   "cell_type": "code",
   "execution_count": 14,
   "id": "487b9d84-a0d6-4417-aecb-e203be9fa5cf",
   "metadata": {},
   "outputs": [
    {
     "data": {
      "text/plain": [
       "[0, 0, 0, 13, 13, 0, 0, 0, 0, 0]"
      ]
     },
     "execution_count": 14,
     "metadata": {},
     "output_type": "execute_result"
    }
   ],
   "source": [
    "dp[1][:10]"
   ]
  },
  {
   "cell_type": "code",
   "execution_count": 15,
   "id": "12ca3721-aa6b-4c88-b705-128b197fd1cc",
   "metadata": {},
   "outputs": [
    {
     "data": {
      "text/plain": [
       "(4, 1)"
      ]
     },
     "execution_count": 15,
     "metadata": {},
     "output_type": "execute_result"
    }
   ],
   "source": [
    "N, W"
   ]
  },
  {
   "cell_type": "code",
   "execution_count": null,
   "id": "b48bedda-deea-470f-8de1-29b7dc610fb0",
   "metadata": {},
   "outputs": [],
   "source": []
  }
 ],
 "metadata": {
  "kernelspec": {
   "display_name": "Python 3",
   "language": "python",
   "name": "python3"
  },
  "language_info": {
   "codemirror_mode": {
    "name": "ipython",
    "version": 3
   },
   "file_extension": ".py",
   "mimetype": "text/x-python",
   "name": "python",
   "nbconvert_exporter": "python",
   "pygments_lexer": "ipython3",
   "version": "3.6.13"
  }
 },
 "nbformat": 4,
 "nbformat_minor": 5
}
