{
 "cells": [
  {
   "cell_type": "code",
   "execution_count": 1,
   "id": "214a23bd-14c7-47e4-b677-f62437e6d1b6",
   "metadata": {},
   "outputs": [
    {
     "name": "stdin",
     "output_type": "stream",
     "text": [
      " 5\n"
     ]
    }
   ],
   "source": [
    "N = int(input())"
   ]
  },
  {
   "cell_type": "code",
   "execution_count": 3,
   "id": "6952afa4-85e1-46ac-9768-e7d2d815a7d6",
   "metadata": {},
   "outputs": [
    {
     "name": "stdin",
     "output_type": "stream",
     "text": [
      " 2 8\n",
      " 4 -5\n",
      " 5 -3\n",
      " -4 1\n",
      " -2 -3\n"
     ]
    }
   ],
   "source": [
    "ABn = [list(map(int, input().split())) for _ in range(N)]"
   ]
  },
  {
   "cell_type": "code",
   "execution_count": 7,
   "id": "9d124021-6bf5-4df4-87f9-1c60d1cb6f87",
   "metadata": {},
   "outputs": [],
   "source": [
    "def calcScore(asi, bsi):\n",
    "    ret = 0\n",
    "    for A, B in ABn:\n",
    "        if A * asi + B * bsi > 0:\n",
    "            ret += A * asi + B * bsi\n",
    "    return ret"
   ]
  },
  {
   "cell_type": "code",
   "execution_count": 8,
   "id": "4f6989ef-852d-4759-a5b1-cae36c115175",
   "metadata": {},
   "outputs": [],
   "source": [
    "ans = 0\n",
    "for s1, s2 in ((1, 1), (1, -1), (-1, 1), (-1, -1)):\n",
    "    ans = max(ans, calcScore(s1, s2))"
   ]
  },
  {
   "cell_type": "code",
   "execution_count": 9,
   "id": "b3c17b0f-b3c4-445b-9709-441fdba95f8b",
   "metadata": {},
   "outputs": [
    {
     "name": "stdout",
     "output_type": "stream",
     "text": [
      "18\n"
     ]
    }
   ],
   "source": [
    "print(ans)"
   ]
  },
  {
   "cell_type": "code",
   "execution_count": null,
   "id": "4cd4d6fc-796f-4606-9572-0fb44223495f",
   "metadata": {},
   "outputs": [],
   "source": []
  }
 ],
 "metadata": {
  "kernelspec": {
   "display_name": "Python 3",
   "language": "python",
   "name": "python3"
  },
  "language_info": {
   "codemirror_mode": {
    "name": "ipython",
    "version": 3
   },
   "file_extension": ".py",
   "mimetype": "text/x-python",
   "name": "python",
   "nbconvert_exporter": "python",
   "pygments_lexer": "ipython3",
   "version": "3.6.13"
  }
 },
 "nbformat": 4,
 "nbformat_minor": 5
}
