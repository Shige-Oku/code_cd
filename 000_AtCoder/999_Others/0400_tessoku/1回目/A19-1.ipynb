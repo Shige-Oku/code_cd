{
 "cells": [
  {
   "cell_type": "code",
   "execution_count": 1,
   "id": "5caa20ea-dafc-40dd-99b9-86cd4aff6301",
   "metadata": {},
   "outputs": [
    {
     "name": "stdin",
     "output_type": "stream",
     "text": [
      " 4 7\n"
     ]
    }
   ],
   "source": [
    "N, W = map(int, input().split())"
   ]
  },
  {
   "cell_type": "code",
   "execution_count": 2,
   "id": "164bf01f-7d20-4010-acc7-57aaeae528d8",
   "metadata": {},
   "outputs": [
    {
     "name": "stdin",
     "output_type": "stream",
     "text": [
      " 3 13\n",
      " 3 17\n",
      " 5 29\n",
      " 1 10\n"
     ]
    }
   ],
   "source": [
    "WVn = [list(map(int, input().split())) for _ in range(N)]"
   ]
  },
  {
   "cell_type": "code",
   "execution_count": 9,
   "id": "ac027076-46f5-48e3-9836-c0d6073dfea5",
   "metadata": {},
   "outputs": [],
   "source": [
    "dp = [[0] * (W+1) for _ in range(N+1)]\n",
    "for i, (w, v) in enumerate(WVn, 1):\n",
    "    for j in range(W+1):\n",
    "        dp[i][j] = max(dp[i][j], dp[i-1][j])\n",
    "        if j + w <= W:\n",
    "            dp[i][j+w] = max(dp[i][j+w], dp[i-1][j] + v)"
   ]
  },
  {
   "cell_type": "code",
   "execution_count": 10,
   "id": "c0653254-8d53-42a5-939f-3981b10b9aac",
   "metadata": {},
   "outputs": [
    {
     "name": "stdout",
     "output_type": "stream",
     "text": [
      "40\n"
     ]
    }
   ],
   "source": [
    "print(dp[N][W])"
   ]
  },
  {
   "cell_type": "code",
   "execution_count": 11,
   "id": "988b2599-99db-432d-9283-3a0b6de1d8ad",
   "metadata": {},
   "outputs": [
    {
     "data": {
      "text/plain": [
       "[[0, 0, 0, 0, 0, 0, 0, 0],\n",
       " [0, 0, 0, 13, 13, 13, 13, 13],\n",
       " [0, 0, 0, 17, 17, 17, 30, 30],\n",
       " [0, 0, 0, 17, 17, 29, 30, 30],\n",
       " [0, 10, 10, 17, 27, 29, 39, 40]]"
      ]
     },
     "execution_count": 11,
     "metadata": {},
     "output_type": "execute_result"
    }
   ],
   "source": [
    "dp"
   ]
  },
  {
   "cell_type": "code",
   "execution_count": null,
   "id": "37e1d496-e9ed-403e-8158-0a86f4027d5c",
   "metadata": {},
   "outputs": [],
   "source": []
  }
 ],
 "metadata": {
  "kernelspec": {
   "display_name": "Python 3",
   "language": "python",
   "name": "python3"
  },
  "language_info": {
   "codemirror_mode": {
    "name": "ipython",
    "version": 3
   },
   "file_extension": ".py",
   "mimetype": "text/x-python",
   "name": "python",
   "nbconvert_exporter": "python",
   "pygments_lexer": "ipython3",
   "version": "3.6.13"
  }
 },
 "nbformat": 4,
 "nbformat_minor": 5
}
