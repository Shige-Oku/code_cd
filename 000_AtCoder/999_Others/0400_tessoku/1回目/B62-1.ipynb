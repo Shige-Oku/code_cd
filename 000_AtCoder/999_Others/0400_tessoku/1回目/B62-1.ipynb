{
 "cells": [
  {
   "cell_type": "code",
   "execution_count": 1,
   "id": "459899bc-16ec-46cc-bbac-fb69ba77938e",
   "metadata": {},
   "outputs": [
    {
     "name": "stdin",
     "output_type": "stream",
     "text": [
      " 5 4\n"
     ]
    }
   ],
   "source": [
    "N, M = map(int, input().split())"
   ]
  },
  {
   "cell_type": "code",
   "execution_count": 5,
   "id": "dc836a3c-ad00-4553-86b1-5df4dcf76f06",
   "metadata": {},
   "outputs": [
    {
     "name": "stdin",
     "output_type": "stream",
     "text": [
      " 1 2\n",
      " 2 3\n",
      " 3 4\n",
      " 3 5\n"
     ]
    }
   ],
   "source": [
    "ABm = [list(map(int, input().split())) for _ in range(M)]"
   ]
  },
  {
   "cell_type": "code",
   "execution_count": 6,
   "id": "5089fcee-f193-435b-b22b-4abb7f2140c1",
   "metadata": {},
   "outputs": [],
   "source": [
    "graph = [[] for _ in range(N+1)]\n",
    "for A, B in ABm:\n",
    "    graph[A].append(B)\n",
    "    graph[B].append(A)"
   ]
  },
  {
   "cell_type": "code",
   "execution_count": 7,
   "id": "aa6be797-821a-4540-a5c6-f08c2423b04f",
   "metadata": {},
   "outputs": [],
   "source": [
    "import sys\n",
    "sys.setrecursionlimit(10**7)\n",
    "def DFS(n):\n",
    "    visit[n] = True\n",
    "    path.append(n)\n",
    "    if n == N:\n",
    "        return True\n",
    "    for g in graph[n]:\n",
    "        if visit[g]:\n",
    "            continue\n",
    "        if DFS(g):\n",
    "            return True\n",
    "    visit[n] = False\n",
    "    del path[-1]\n",
    "    return False"
   ]
  },
  {
   "cell_type": "code",
   "execution_count": 8,
   "id": "7144fc2c-8186-43b5-8ea6-d20b726ded12",
   "metadata": {},
   "outputs": [
    {
     "name": "stdout",
     "output_type": "stream",
     "text": [
      "1 2 3 5\n"
     ]
    }
   ],
   "source": [
    "visit = [False] * (N+1)\n",
    "path = []\n",
    "DFS(1)\n",
    "print(*path, sep= ' ')\n"
   ]
  },
  {
   "cell_type": "code",
   "execution_count": 27,
   "id": "867d4a36-f5a7-4f54-9119-b324d1a13f6f",
   "metadata": {},
   "outputs": [
    {
     "data": {
      "text/plain": [
       "[False, True, True, True, False, True]"
      ]
     },
     "execution_count": 27,
     "metadata": {},
     "output_type": "execute_result"
    }
   ],
   "source": [
    "visit"
   ]
  },
  {
   "cell_type": "code",
   "execution_count": 39,
   "id": "3093ae84-bf9b-4f8b-8905-d4fe799d78e1",
   "metadata": {},
   "outputs": [
    {
     "data": {
      "text/plain": [
       "33057"
      ]
     },
     "execution_count": 39,
     "metadata": {},
     "output_type": "execute_result"
    }
   ],
   "source": [
    "len(ABm)"
   ]
  },
  {
   "cell_type": "code",
   "execution_count": 34,
   "id": "f8cea9d6-dcfb-48df-9e37-603f6c495773",
   "metadata": {},
   "outputs": [
    {
     "data": {
      "text/plain": [
       "(7477, 33057)"
      ]
     },
     "execution_count": 34,
     "metadata": {},
     "output_type": "execute_result"
    }
   ],
   "source": [
    "A, B"
   ]
  },
  {
   "cell_type": "code",
   "execution_count": null,
   "id": "e9c676e9-5365-4f45-8695-83d1f909e3dc",
   "metadata": {},
   "outputs": [],
   "source": []
  }
 ],
 "metadata": {
  "kernelspec": {
   "display_name": "Python 3",
   "language": "python",
   "name": "python3"
  },
  "language_info": {
   "codemirror_mode": {
    "name": "ipython",
    "version": 3
   },
   "file_extension": ".py",
   "mimetype": "text/x-python",
   "name": "python",
   "nbconvert_exporter": "python",
   "pygments_lexer": "ipython3",
   "version": "3.6.13"
  }
 },
 "nbformat": 4,
 "nbformat_minor": 5
}
