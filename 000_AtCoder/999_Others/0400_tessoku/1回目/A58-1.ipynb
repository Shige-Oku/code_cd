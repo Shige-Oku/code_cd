{
 "cells": [
  {
   "cell_type": "code",
   "execution_count": 60,
   "id": "79a05ba8-d301-44af-9dfb-77b7aafd20eb",
   "metadata": {},
   "outputs": [
    {
     "name": "stdin",
     "output_type": "stream",
     "text": [
      " 8 4\n"
     ]
    }
   ],
   "source": [
    "N, Q = map(int, input().split())"
   ]
  },
  {
   "cell_type": "code",
   "execution_count": 61,
   "id": "1704d262-df0b-4375-bae6-b012653590ec",
   "metadata": {},
   "outputs": [
    {
     "name": "stdin",
     "output_type": "stream",
     "text": [
      " 1 3 16\n",
      " 2 4 7\n",
      " 1 5 13\n",
      " 2 4 7\n"
     ]
    }
   ],
   "source": [
    "Qn = [list(map(int, input().split())) for _ in range(Q)]"
   ]
  },
  {
   "cell_type": "code",
   "execution_count": 6,
   "id": "404283a4-a575-48f8-a1c1-ddda5f782a54",
   "metadata": {},
   "outputs": [],
   "source": [
    "Qn = [\n",
    "    [1, 17677, 748938665],\n",
    "    [1, 42503, 493603657],\n",
    "    [1, 51718, 283907414],\n",
    "    [1, 44628, 8005010],\n",
    "    [1, 47572, 67979087],\n",
    "    [1, 1369, 328191224],\n",
    "    [1, 80627, 918484102],\n",
    "    [2, 2651, 83868],\n",
    "    [1, 85770, 831686987],\n",
    "    [1, 96607, 371603910],\n",
    "    [2, 14416, 15203],\n",
    "    [1, 33944, 50546624],\n",
    "    [1, 36246, 305850429],\n",
    "    [1, 30667, 514253678],\n",
    "    [1, 73445, 41211519],\n",
    "    [2, 31292, 43549],\n",
    "    [1, 95317, 934153674],\n",
    "    [1, 65280, 420466470],\n",
    "    [1, 75272, 975875293],\n",
    "    [1, 95822, 713152989],\n",
    "    [2, 37719, 73135],\n",
    "]"
   ]
  },
  {
   "cell_type": "code",
   "execution_count": 62,
   "id": "c1d8d2e6-adb8-4031-b9d3-bea69e14f7db",
   "metadata": {},
   "outputs": [],
   "source": [
    "def myUpdate(n, x):\n",
    "    p = n + si - 1\n",
    "    ma[p] = x\n",
    "    while p >= 2:\n",
    "        p //= 2\n",
    "        ma[p] = max(ma[p*2], ma[p*2+1])\n",
    "    return"
   ]
  },
  {
   "cell_type": "code",
   "execution_count": 63,
   "id": "c44aaf44-4863-4a31-9cd1-6625e3662da0",
   "metadata": {},
   "outputs": [],
   "source": [
    "def myQuery(l, r, a, b, x):\n",
    "    if b <= l or r <= a:\n",
    "        return -10**10\n",
    "    if l <= a and b <= r:\n",
    "        return ma[x]\n",
    "    m = (a + b) // 2\n",
    "    ml = myQuery(l, r, a, m, x*2)\n",
    "    mr = myQuery(l, r, m, b, x*2+1)\n",
    "    return max(ml, mr)"
   ]
  },
  {
   "cell_type": "code",
   "execution_count": 64,
   "id": "d09ffce2-c575-4952-bc9a-8c972f647470",
   "metadata": {},
   "outputs": [
    {
     "name": "stdout",
     "output_type": "stream",
     "text": [
      "0\n",
      "13\n"
     ]
    }
   ],
   "source": [
    "import math\n",
    "import sys\n",
    "sys.setrecursionlimit(10**7)\n",
    "# sys.setrecursionlimit(1000)\n",
    "ma = [0] * 2**20\n",
    "si = 2 ** math.ceil(math.log2(N))\n",
    "for q in Qn:\n",
    "    op = q[0]\n",
    "    if op == 1:\n",
    "        _, p, x = q\n",
    "        myUpdate(p, x)\n",
    "    else:\n",
    "        _, l, r = q\n",
    "        print(myQuery(l, r, 1, si+1, 1))"
   ]
  },
  {
   "cell_type": "code",
   "execution_count": 65,
   "id": "5ea15f31-f06e-4475-b4c8-dab219ceb00e",
   "metadata": {},
   "outputs": [
    {
     "data": {
      "text/plain": [
       "(1048576, 8)"
      ]
     },
     "execution_count": 65,
     "metadata": {},
     "output_type": "execute_result"
    }
   ],
   "source": [
    "len(ma), si"
   ]
  },
  {
   "cell_type": "code",
   "execution_count": 11,
   "id": "2b55c72d-d486-456a-b133-706c5cb362ba",
   "metadata": {},
   "outputs": [
    {
     "data": {
      "text/plain": [
       "8"
      ]
     },
     "execution_count": 11,
     "metadata": {},
     "output_type": "execute_result"
    }
   ],
   "source": [
    "import math\n",
    "2 ** int(math.log2(N))"
   ]
  },
  {
   "cell_type": "code",
   "execution_count": 14,
   "id": "28476f7a-6216-4bcd-9579-2a4789132e4d",
   "metadata": {},
   "outputs": [
    {
     "data": {
      "text/plain": [
       "(42503, 65536)"
      ]
     },
     "execution_count": 14,
     "metadata": {},
     "output_type": "execute_result"
    }
   ],
   "source": [
    "Qn[1][1], si"
   ]
  },
  {
   "cell_type": "code",
   "execution_count": 17,
   "id": "55985245-1846-4613-a0e1-576c3a727a54",
   "metadata": {},
   "outputs": [
    {
     "data": {
      "text/plain": [
       "(493603657, 748938665)"
      ]
     },
     "execution_count": 17,
     "metadata": {},
     "output_type": "execute_result"
    }
   ],
   "source": [
    "ma[42503+si-1], ma[17677+si-1]"
   ]
  },
  {
   "cell_type": "code",
   "execution_count": 18,
   "id": "1850924f-9afe-463c-b4bc-9744c3672dcf",
   "metadata": {},
   "outputs": [
    {
     "name": "stdout",
     "output_type": "stream",
     "text": [
      "108038 493603657\n",
      "54019 493603657\n",
      "27009 493603657\n",
      "13504 493603657\n",
      "6752 493603657\n",
      "3376 493603657\n",
      "1688 493603657\n",
      "844 493603657\n",
      "422 493603657\n",
      "211 493603657\n",
      "105 493603657\n",
      "52 493603657\n",
      "26 493603657\n",
      "13 493603657\n",
      "6 493603657\n",
      "3 493603657\n"
     ]
    }
   ],
   "source": [
    "pp = 42503+si-1\n",
    "while pp >= 2:\n",
    "    print(pp, ma[pp])\n",
    "    pp //= 2"
   ]
  },
  {
   "cell_type": "code",
   "execution_count": 19,
   "id": "056db2c6-e915-4f20-a393-ea5fe5a8ad66",
   "metadata": {},
   "outputs": [
    {
     "data": {
      "text/plain": [
       "975875293"
      ]
     },
     "execution_count": 19,
     "metadata": {},
     "output_type": "execute_result"
    }
   ],
   "source": [
    "ma[1]"
   ]
  },
  {
   "cell_type": "code",
   "execution_count": 40,
   "id": "a7e42790-76d5-44a0-8f5e-c807109a7e30",
   "metadata": {},
   "outputs": [
    {
     "data": {
      "text/plain": [
       "493603657"
      ]
     },
     "execution_count": 40,
     "metadata": {},
     "output_type": "execute_result"
    }
   ],
   "source": [
    "myQuery(31292, 43549, 1, N+1, 1)"
   ]
  },
  {
   "cell_type": "code",
   "execution_count": 42,
   "id": "99658e90-f0c7-417d-9024-0efda531375d",
   "metadata": {},
   "outputs": [
    {
     "data": {
      "text/plain": [
       "975875293"
      ]
     },
     "execution_count": 42,
     "metadata": {},
     "output_type": "execute_result"
    }
   ],
   "source": [
    "myQuery(37719, 73135, 1, N+1, 1)"
   ]
  },
  {
   "cell_type": "code",
   "execution_count": 66,
   "id": "edda3731-2556-48d7-8a12-acdf29e97b08",
   "metadata": {},
   "outputs": [],
   "source": [
    "# セグメント木\n",
    "import sys\n",
    "sys.setrecursionlimit(10**7)\n",
    "class SegmentTree():\n",
    "\t# 要素 dat の初期化を行う（最初は全部ゼロ）\n",
    "\tdef __init__(self, n):\n",
    "\t\tself.size = 1\n",
    "\t\twhile self.size < n:\n",
    "\t\t\tself.size *= 2\n",
    "\t\tself.dat = [0] * (self.size * 2)\n",
    "\t\n",
    "\t# クエリ 1 に対する処理\n",
    "\tdef update(self, pos, x):\n",
    "\t\tpos += self.size - 1\n",
    "\t\tself.dat[pos] = x\n",
    "\t\twhile pos >= 2:\n",
    "\t\t\tpos //= 2\n",
    "\t\t\tself.dat[pos] = max(self.dat[pos * 2], self.dat[pos * 2 + 1])\n",
    "\t\n",
    "\t# クエリ 2 に対する処理\n",
    "\t# u は現在のセル番号、[a, b) はセルに対応する半開区間、[l, r) は求めたい半開区間\n",
    "\tdef query(self, l, r, a, b, u):\n",
    "\t\tif r <= a or b <= l:\n",
    "            # 一切含まれない場合\n",
    "\t\t\treturn -1000000000\n",
    "\t\tif l <= a and b <= r:\n",
    "            # 完全に含まれる場合\n",
    "\t\t\treturn self.dat[u]\n",
    "\t\tm = (a + b) // 2\n",
    "\t\tanswerL = self.query(l, r, a, m, u * 2)\n",
    "\t\tanswerR = self.query(l, r, m, b, u * 2 + 1)\n",
    "\t\treturn max(answerL, answerR)\n"
   ]
  },
  {
   "cell_type": "code",
   "execution_count": 67,
   "id": "7c73c1f8-a41c-41b5-aed7-815a9206bc45",
   "metadata": {},
   "outputs": [
    {
     "name": "stdout",
     "output_type": "stream",
     "text": [
      "0\n",
      "13\n"
     ]
    }
   ],
   "source": [
    "sg = SegmentTree(N)\n",
    "for q in Qn:\n",
    "    op = q[0]\n",
    "    if op == 1:\n",
    "        _, p, x = q\n",
    "        sg.update(p, x)\n",
    "    else:\n",
    "        _, l, r = q\n",
    "        print(sg.query(l, r, 1, sg.size+1, 1))\n"
   ]
  },
  {
   "cell_type": "code",
   "execution_count": 35,
   "id": "294397b3-3b2c-420e-afc5-c1d3374270f2",
   "metadata": {},
   "outputs": [
    {
     "data": {
      "text/plain": [
       "True"
      ]
     },
     "execution_count": 35,
     "metadata": {},
     "output_type": "execute_result"
    }
   ],
   "source": [
    "131072 == si*2"
   ]
  },
  {
   "cell_type": "code",
   "execution_count": null,
   "id": "4ea3edd4-ecf3-4a96-8fe7-aa1baa3961dd",
   "metadata": {},
   "outputs": [],
   "source": []
  }
 ],
 "metadata": {
  "kernelspec": {
   "display_name": "Python 3",
   "language": "python",
   "name": "python3"
  },
  "language_info": {
   "codemirror_mode": {
    "name": "ipython",
    "version": 3
   },
   "file_extension": ".py",
   "mimetype": "text/x-python",
   "name": "python",
   "nbconvert_exporter": "python",
   "pygments_lexer": "ipython3",
   "version": "3.6.13"
  }
 },
 "nbformat": 4,
 "nbformat_minor": 5
}
