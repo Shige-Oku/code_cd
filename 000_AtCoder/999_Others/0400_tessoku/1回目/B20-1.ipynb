{
 "cells": [
  {
   "cell_type": "code",
   "execution_count": 49,
   "id": "b122cc32-7596-4a86-8047-09b9731786e2",
   "metadata": {},
   "outputs": [
    {
     "name": "stdin",
     "output_type": "stream",
     "text": [
      " abcdef\n"
     ]
    }
   ],
   "source": [
    "S = input()"
   ]
  },
  {
   "cell_type": "code",
   "execution_count": 50,
   "id": "8bb49df9-8e09-4180-8c2c-db3d295e593c",
   "metadata": {},
   "outputs": [
    {
     "name": "stdin",
     "output_type": "stream",
     "text": [
      " bdf\n"
     ]
    }
   ],
   "source": [
    "T = input()"
   ]
  },
  {
   "cell_type": "code",
   "execution_count": 51,
   "id": "fb2fe98d-8347-4ec0-83b3-4c453da6ab5d",
   "metadata": {},
   "outputs": [],
   "source": [
    "sl = len(S)\n",
    "tl = len(T)\n",
    "dp = [[0] * (tl+1) for _ in range(sl+1)]\n",
    "for i in range(sl+1):\n",
    "    for j in range(tl+1):\n",
    "        if i > 0 and j > 0:\n",
    "            dp[i][j] = min(dp[i-1][j]+1, dp[i][j-1]+1, dp[i-1][j-1]+1)\n",
    "            if S[i-1] == T[j-1]:\n",
    "                dp[i][j] = min(dp[i][j], dp[i-1][j-1])\n",
    "        elif i > 0:\n",
    "            dp[i][j] = dp[i-1][j] + 1\n",
    "        elif j > 0:\n",
    "            dp[i][j] = dp[i][j-1] + 1"
   ]
  },
  {
   "cell_type": "code",
   "execution_count": 52,
   "id": "2a5d557c-9366-44ae-9862-e3609e9d8f00",
   "metadata": {},
   "outputs": [
    {
     "name": "stdout",
     "output_type": "stream",
     "text": [
      "3\n"
     ]
    }
   ],
   "source": [
    "print(dp[sl][tl])"
   ]
  },
  {
   "cell_type": "code",
   "execution_count": 44,
   "id": "5d757bc5-ce6a-41f1-9124-c54e8a625f16",
   "metadata": {},
   "outputs": [
    {
     "data": {
      "text/plain": [
       "[[0, 1, 2, 3, 4, 5],\n",
       " [1, 1, 2, 3, 3, 4],\n",
       " [2, 2, 2, 2, 3, 3],\n",
       " [3, 2, 3, 3, 3, 4],\n",
       " [4, 3, 2, 3, 4, 4],\n",
       " [5, 4, 3, 2, 3, 4]]"
      ]
     },
     "execution_count": 44,
     "metadata": {},
     "output_type": "execute_result"
    }
   ],
   "source": [
    "dp"
   ]
  },
  {
   "cell_type": "code",
   "execution_count": 19,
   "id": "d9148721-a75d-418f-90ba-a5b6ea2d9c55",
   "metadata": {},
   "outputs": [
    {
     "data": {
      "text/plain": [
       "(11, 11, 11, 11)"
      ]
     },
     "execution_count": 19,
     "metadata": {},
     "output_type": "execute_result"
    }
   ],
   "source": [
    "i, j, sl, tl"
   ]
  },
  {
   "cell_type": "code",
   "execution_count": 31,
   "id": "dadb2260-fc3f-4c9b-b4a1-9a760b86863c",
   "metadata": {},
   "outputs": [],
   "source": [
    "sl = len(S)\n",
    "tl = len(T)\n",
    "dp = [[10**10] * (tl+1) for _ in range(sl+1)]\n",
    "for j in range(tl+1):\n",
    "    dp[0][j] = 0\n",
    "for i in range(sl+1):\n",
    "    dp[i][0] = 0\n",
    "for i in range(sl+1):\n",
    "    for j in range(tl+1):\n",
    "        if i > 0 and j > 0:\n",
    "            dp[i][j] = min(dp[i-1][j]+1, dp[i][j-1]+1, dp[i-1][j-1]+1)\n",
    "            if S[i-1] == T[j-1]:\n",
    "                dp[i][j] = min(dp[i][j], dp[i-1][j-1])\n",
    "#         elif i > 0:\n",
    "#             dp[i][j] = min(dp[i][j], dp[i-1][j]+1)\n",
    "#         else:\n",
    "#             dp[i][j] = min(dp[i][j], dp[i][j-1]+1)"
   ]
  },
  {
   "cell_type": "code",
   "execution_count": null,
   "id": "efbe372a-b675-4a5a-b168-4a91d477e81c",
   "metadata": {},
   "outputs": [],
   "source": []
  }
 ],
 "metadata": {
  "kernelspec": {
   "display_name": "Python 3",
   "language": "python",
   "name": "python3"
  },
  "language_info": {
   "codemirror_mode": {
    "name": "ipython",
    "version": 3
   },
   "file_extension": ".py",
   "mimetype": "text/x-python",
   "name": "python",
   "nbconvert_exporter": "python",
   "pygments_lexer": "ipython3",
   "version": "3.6.13"
  }
 },
 "nbformat": 4,
 "nbformat_minor": 5
}
