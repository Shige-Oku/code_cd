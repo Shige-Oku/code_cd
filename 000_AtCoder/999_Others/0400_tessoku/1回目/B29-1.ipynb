{
 "cells": [
  {
   "cell_type": "code",
   "execution_count": 3,
   "id": "833acfe0-e484-4610-9f3f-3d0043d57d26",
   "metadata": {},
   "outputs": [
    {
     "name": "stdin",
     "output_type": "stream",
     "text": [
      " 123456789 123456789012345678\n"
     ]
    }
   ],
   "source": [
    "A, B = map(int, input().split())"
   ]
  },
  {
   "cell_type": "code",
   "execution_count": 4,
   "id": "ecaea228-1fce-4950-b523-c547675053f7",
   "metadata": {},
   "outputs": [
    {
     "name": "stdout",
     "output_type": "stream",
     "text": [
      "3599437\n"
     ]
    }
   ],
   "source": [
    "print(pow(A, B, 1000000007))"
   ]
  },
  {
   "cell_type": "code",
   "execution_count": 5,
   "id": "afda3a4f-3f1d-4abe-8603-7f7db7d1b605",
   "metadata": {},
   "outputs": [],
   "source": [
    "import sys\n",
    "sys.setrecursionlimit(10**6)\n",
    "from functools import lru_cache\n",
    "@lru_cache(maxsize=None)\n",
    "def execute(n):\n",
    "    if n == 1:\n",
    "        return A\n",
    "    if n == 2:\n",
    "        return A*A\n",
    "    l = n // 2\n",
    "    r = n - l\n",
    "    \n",
    "    return execute(l) * execute(r) % 1000000007"
   ]
  },
  {
   "cell_type": "code",
   "execution_count": 6,
   "id": "4b71624b-d387-45e2-bb00-2101a2397b92",
   "metadata": {},
   "outputs": [
    {
     "name": "stdout",
     "output_type": "stream",
     "text": [
      "3599437\n"
     ]
    }
   ],
   "source": [
    "print(execute(B))"
   ]
  },
  {
   "cell_type": "code",
   "execution_count": null,
   "id": "48bdc9bd-a81f-4fea-8e8c-6a5822840df6",
   "metadata": {},
   "outputs": [],
   "source": []
  }
 ],
 "metadata": {
  "kernelspec": {
   "display_name": "Python 3",
   "language": "python",
   "name": "python3"
  },
  "language_info": {
   "codemirror_mode": {
    "name": "ipython",
    "version": 3
   },
   "file_extension": ".py",
   "mimetype": "text/x-python",
   "name": "python",
   "nbconvert_exporter": "python",
   "pygments_lexer": "ipython3",
   "version": "3.6.13"
  }
 },
 "nbformat": 4,
 "nbformat_minor": 5
}
