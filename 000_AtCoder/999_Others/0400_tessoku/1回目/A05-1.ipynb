{
 "cells": [
  {
   "cell_type": "code",
   "execution_count": 8,
   "id": "6f30d536-de31-4385-bf1a-9c12abe7296c",
   "metadata": {},
   "outputs": [
    {
     "name": "stdin",
     "output_type": "stream",
     "text": [
      " 3000 4000\n"
     ]
    }
   ],
   "source": [
    "N, K = map(int, input().split())"
   ]
  },
  {
   "cell_type": "code",
   "execution_count": 9,
   "id": "78f28fde-f603-4957-9048-78bc6354690a",
   "metadata": {},
   "outputs": [],
   "source": [
    "ans = 0\n",
    "for r in range(1, N+1):\n",
    "    for b in range(1, N+1):\n",
    "        w = K - r - b\n",
    "        if 1 <= w <= N:\n",
    "            ans += 1"
   ]
  },
  {
   "cell_type": "code",
   "execution_count": 10,
   "id": "af630ecc-77ba-4daf-b24b-4978da71cd3a",
   "metadata": {},
   "outputs": [
    {
     "name": "stdout",
     "output_type": "stream",
     "text": [
      "6498498\n"
     ]
    }
   ],
   "source": [
    "print(ans)"
   ]
  },
  {
   "cell_type": "code",
   "execution_count": null,
   "id": "17938450-0207-414e-a99f-3f8987754767",
   "metadata": {},
   "outputs": [],
   "source": []
  }
 ],
 "metadata": {
  "kernelspec": {
   "display_name": "Python 3",
   "language": "python",
   "name": "python3"
  },
  "language_info": {
   "codemirror_mode": {
    "name": "ipython",
    "version": 3
   },
   "file_extension": ".py",
   "mimetype": "text/x-python",
   "name": "python",
   "nbconvert_exporter": "python",
   "pygments_lexer": "ipython3",
   "version": "3.6.13"
  }
 },
 "nbformat": 4,
 "nbformat_minor": 5
}
