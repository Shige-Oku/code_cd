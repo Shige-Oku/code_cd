{
 "cells": [
  {
   "cell_type": "code",
   "execution_count": 1,
   "id": "d1ace4af-86cb-445c-b5e8-8ad7829198bb",
   "metadata": {},
   "outputs": [
    {
     "name": "stdin",
     "output_type": "stream",
     "text": [
      " 10\n"
     ]
    }
   ],
   "source": [
    "T = int(input())"
   ]
  },
  {
   "cell_type": "code",
   "execution_count": 2,
   "id": "6b830e22-ee40-4598-b1e4-4c6dd90f5828",
   "metadata": {},
   "outputs": [
    {
     "name": "stdin",
     "output_type": "stream",
     "text": [
      " 7\n"
     ]
    }
   ],
   "source": [
    "N = int(input())"
   ]
  },
  {
   "cell_type": "code",
   "execution_count": 3,
   "id": "a2e24200-9c1b-45c6-80a3-b4edd4fb523a",
   "metadata": {},
   "outputs": [
    {
     "name": "stdin",
     "output_type": "stream",
     "text": [
      " 0 3\n",
      " 2 4\n",
      " 1 3\n",
      " 0 3\n",
      " 5 6\n",
      " 5 6\n",
      " 5 6\n"
     ]
    }
   ],
   "source": [
    "LRn = [list(map(int, input().split())) for _ in range(N)]"
   ]
  },
  {
   "cell_type": "code",
   "execution_count": 16,
   "id": "89052f71-64a0-4021-9c13-01def14b50fc",
   "metadata": {},
   "outputs": [],
   "source": [
    "cnt = [0] * (T+1)\n",
    "for L, R in LRn:\n",
    "    cnt[L] += 1\n",
    "    cnt[R] -= 1"
   ]
  },
  {
   "cell_type": "code",
   "execution_count": 19,
   "id": "b7c35296-efd8-40c0-b51a-e2790c71028b",
   "metadata": {},
   "outputs": [
    {
     "name": "stdout",
     "output_type": "stream",
     "text": [
      "2\n",
      "3\n",
      "4\n",
      "1\n",
      "0\n",
      "3\n",
      "0\n",
      "0\n",
      "0\n",
      "0\n"
     ]
    }
   ],
   "source": [
    "from itertools import accumulate\n",
    "cnt_c = list(accumulate(cnt))\n",
    "print(*cnt_c[:-1], sep='\\n')"
   ]
  },
  {
   "cell_type": "code",
   "execution_count": 13,
   "id": "86b30ae8-2563-4013-89bf-0a73ff5b2468",
   "metadata": {},
   "outputs": [
    {
     "data": {
      "text/plain": [
       "([2, 1, 1, -3, -1, 3, -3, 0, 0, 0], [2, 3, 4, 1, 0, 3, 0, 0, 0, 0])"
      ]
     },
     "execution_count": 13,
     "metadata": {},
     "output_type": "execute_result"
    }
   ],
   "source": [
    "cnt, cnt_c"
   ]
  },
  {
   "cell_type": "code",
   "execution_count": null,
   "id": "bc7c0abd-8e4c-4cf8-8abb-c6eda10d1eed",
   "metadata": {},
   "outputs": [],
   "source": []
  }
 ],
 "metadata": {
  "kernelspec": {
   "display_name": "Python 3",
   "language": "python",
   "name": "python3"
  },
  "language_info": {
   "codemirror_mode": {
    "name": "ipython",
    "version": 3
   },
   "file_extension": ".py",
   "mimetype": "text/x-python",
   "name": "python",
   "nbconvert_exporter": "python",
   "pygments_lexer": "ipython3",
   "version": "3.6.13"
  }
 },
 "nbformat": 4,
 "nbformat_minor": 5
}
