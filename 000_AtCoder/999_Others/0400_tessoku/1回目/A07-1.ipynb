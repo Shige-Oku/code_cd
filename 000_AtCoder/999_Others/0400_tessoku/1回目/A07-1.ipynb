{
 "cells": [
  {
   "cell_type": "code",
   "execution_count": 1,
   "id": "30a30122-483e-418d-94c4-00edff66fbc1",
   "metadata": {},
   "outputs": [
    {
     "name": "stdin",
     "output_type": "stream",
     "text": [
      " 8\n"
     ]
    }
   ],
   "source": [
    "D = int(input())"
   ]
  },
  {
   "cell_type": "code",
   "execution_count": 2,
   "id": "1cdea330-7eee-4da6-9728-480a0aba8112",
   "metadata": {},
   "outputs": [
    {
     "name": "stdin",
     "output_type": "stream",
     "text": [
      " 5\n"
     ]
    }
   ],
   "source": [
    "N = int(input())"
   ]
  },
  {
   "cell_type": "code",
   "execution_count": 3,
   "id": "3dd1e044-436a-4184-b1d7-507f3c46298d",
   "metadata": {},
   "outputs": [
    {
     "name": "stdin",
     "output_type": "stream",
     "text": [
      " 2 3\n",
      " 3 6\n",
      " 5 7\n",
      " 3 7\n",
      " 1 5\n"
     ]
    }
   ],
   "source": [
    "LRn = [list(map(int, input().split())) for _ in range(N)]"
   ]
  },
  {
   "cell_type": "code",
   "execution_count": 6,
   "id": "f7fab34e-74ee-4b85-b700-63e0a2f132fc",
   "metadata": {},
   "outputs": [],
   "source": [
    "cnt = [0] * (D+2)\n",
    "for L, R in LRn:\n",
    "    cnt[L]   += 1\n",
    "    cnt[R+1] -= 1\n",
    "cnt_c = [cnt[0], ]\n",
    "for c in cnt[1:]:\n",
    "    cnt_c.append(cnt_c[-1] + c)"
   ]
  },
  {
   "cell_type": "code",
   "execution_count": 10,
   "id": "8f775f1b-9ade-4e67-8d56-9226a0754a46",
   "metadata": {},
   "outputs": [
    {
     "name": "stdout",
     "output_type": "stream",
     "text": [
      "1\n",
      "2\n",
      "4\n",
      "3\n",
      "4\n",
      "3\n",
      "2\n",
      "0\n"
     ]
    }
   ],
   "source": [
    "print(*cnt_c[1:-1], sep='\\n')"
   ]
  },
  {
   "cell_type": "code",
   "execution_count": null,
   "id": "8d0b201c-1fb0-4c2d-8a37-f35f95577e2d",
   "metadata": {},
   "outputs": [],
   "source": []
  },
  {
   "cell_type": "code",
   "execution_count": 7,
   "id": "62b583bc-26ac-4c03-a4ce-07771e3a8714",
   "metadata": {},
   "outputs": [
    {
     "data": {
      "text/plain": [
       "([0, 1, 1, 2, -1, 1, -1, -1, -2, 0], [0, 1, 2, 4, 3, 4, 3, 2, 0, 0])"
      ]
     },
     "execution_count": 7,
     "metadata": {},
     "output_type": "execute_result"
    }
   ],
   "source": [
    "cnt, cnt_c"
   ]
  },
  {
   "cell_type": "code",
   "execution_count": null,
   "id": "fd27c5db-25fe-44cc-9cc3-67c6a2d3fd2e",
   "metadata": {},
   "outputs": [],
   "source": []
  }
 ],
 "metadata": {
  "kernelspec": {
   "display_name": "Python 3",
   "language": "python",
   "name": "python3"
  },
  "language_info": {
   "codemirror_mode": {
    "name": "ipython",
    "version": 3
   },
   "file_extension": ".py",
   "mimetype": "text/x-python",
   "name": "python",
   "nbconvert_exporter": "python",
   "pygments_lexer": "ipython3",
   "version": "3.6.13"
  }
 },
 "nbformat": 4,
 "nbformat_minor": 5
}
