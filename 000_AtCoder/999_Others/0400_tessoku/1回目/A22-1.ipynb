{
 "cells": [
  {
   "cell_type": "code",
   "execution_count": 12,
   "id": "7564dfe6-5592-48da-9fb2-94c65700e4b2",
   "metadata": {},
   "outputs": [
    {
     "name": "stdin",
     "output_type": "stream",
     "text": [
      " 7\n"
     ]
    }
   ],
   "source": [
    "N = int(input())"
   ]
  },
  {
   "cell_type": "code",
   "execution_count": 13,
   "id": "c5397e2b-b1b3-4435-949a-9095bb777430",
   "metadata": {},
   "outputs": [
    {
     "name": "stdin",
     "output_type": "stream",
     "text": [
      " 2 4 4 7 6 7\n"
     ]
    }
   ],
   "source": [
    "An = list(map(int, input().split()))"
   ]
  },
  {
   "cell_type": "code",
   "execution_count": 14,
   "id": "83e7adf2-7bfb-48a5-900b-b66f7372c9cc",
   "metadata": {},
   "outputs": [
    {
     "name": "stdin",
     "output_type": "stream",
     "text": [
      " 3 5 6 7 7 7\n"
     ]
    }
   ],
   "source": [
    "Bn = list(map(int, input().split()))"
   ]
  },
  {
   "cell_type": "code",
   "execution_count": 18,
   "id": "fa533073-9707-4db4-90be-f7a39b45ce19",
   "metadata": {},
   "outputs": [],
   "source": [
    "dp = [-10**10] * (N+1)\n",
    "dp[:2] = 0, 0\n",
    "for i, (A, B) in enumerate(zip(An, Bn), 1):\n",
    "    dp[A] = max(dp[A], dp[i] + 100)\n",
    "    dp[B] = max(dp[B], dp[i] + 150)"
   ]
  },
  {
   "cell_type": "code",
   "execution_count": 19,
   "id": "7e8f5984-5d42-48ba-8f16-6b50edeef6f2",
   "metadata": {},
   "outputs": [
    {
     "name": "stdout",
     "output_type": "stream",
     "text": [
      "500\n"
     ]
    }
   ],
   "source": [
    "print(dp[N])"
   ]
  },
  {
   "cell_type": "code",
   "execution_count": 17,
   "id": "9cacc2b9-2861-4df5-8bb2-30bad01e6a94",
   "metadata": {},
   "outputs": [
    {
     "data": {
      "text/plain": [
       "[0, 0, 100, 150, 250, 250, 350, 500]"
      ]
     },
     "execution_count": 17,
     "metadata": {},
     "output_type": "execute_result"
    }
   ],
   "source": [
    "dp"
   ]
  },
  {
   "cell_type": "code",
   "execution_count": null,
   "id": "21bada5e-deae-41c1-a51f-5935cc06af70",
   "metadata": {},
   "outputs": [],
   "source": []
  }
 ],
 "metadata": {
  "kernelspec": {
   "display_name": "Python 3",
   "language": "python",
   "name": "python3"
  },
  "language_info": {
   "codemirror_mode": {
    "name": "ipython",
    "version": 3
   },
   "file_extension": ".py",
   "mimetype": "text/x-python",
   "name": "python",
   "nbconvert_exporter": "python",
   "pygments_lexer": "ipython3",
   "version": "3.6.13"
  }
 },
 "nbformat": 4,
 "nbformat_minor": 5
}
