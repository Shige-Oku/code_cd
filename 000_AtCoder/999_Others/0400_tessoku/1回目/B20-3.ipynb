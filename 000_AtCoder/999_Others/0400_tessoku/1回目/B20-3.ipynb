{
 "cells": [
  {
   "cell_type": "code",
   "execution_count": 14,
   "id": "340fb13f-5c2d-4a51-aaad-8c49c82887b5",
   "metadata": {},
   "outputs": [
    {
     "name": "stdin",
     "output_type": "stream",
     "text": [
      " abcdef\n"
     ]
    }
   ],
   "source": [
    "S = input()"
   ]
  },
  {
   "cell_type": "code",
   "execution_count": 15,
   "id": "15cb8143-573f-43c9-9e1b-01041485a46c",
   "metadata": {},
   "outputs": [
    {
     "name": "stdin",
     "output_type": "stream",
     "text": [
      " bdf\n"
     ]
    }
   ],
   "source": [
    "T = input()"
   ]
  },
  {
   "cell_type": "code",
   "execution_count": 16,
   "id": "37e1838f-e424-4bd2-ac73-1765ab137a78",
   "metadata": {},
   "outputs": [],
   "source": [
    "dp = [[10**20] * (len(T)+1) for _ in range(len(S)+1)]\n",
    "dp[0][0] = 0\n",
    "for i in range(len(S)+1):\n",
    "    for j in range(len(T)+1):\n",
    "        if i > 0 and j > 0:\n",
    "            dp[i][j] = min(dp[i-1][j-1]+1, dp[i][j-1]+1, dp[i-1][j]+1)\n",
    "            if S[i-1] == T[j-1]:\n",
    "                dp[i][j] = min(dp[i][j], dp[i-1][j-1])\n",
    "        elif i > 0:\n",
    "            dp[i][j] = dp[i-1][j] + 1\n",
    "        elif j > 0:\n",
    "            dp[i][j] = dp[i][j-1] + 1"
   ]
  },
  {
   "cell_type": "code",
   "execution_count": 17,
   "id": "fbe23a5f-9193-4851-9f2a-51b0670240bf",
   "metadata": {},
   "outputs": [
    {
     "name": "stdout",
     "output_type": "stream",
     "text": [
      "3\n"
     ]
    }
   ],
   "source": [
    "print(dp[len(S)][len(T)])"
   ]
  },
  {
   "cell_type": "code",
   "execution_count": 7,
   "id": "f3542677-82d5-4924-bb5f-c5e3aa1f1214",
   "metadata": {},
   "outputs": [
    {
     "data": {
      "text/plain": [
       "[100000000000000000001,\n",
       " 100000000000000000002,\n",
       " 100000000000000000003,\n",
       " 100000000000000000004,\n",
       " 100000000000000000005,\n",
       " 100000000000000000006]"
      ]
     },
     "execution_count": 7,
     "metadata": {},
     "output_type": "execute_result"
    }
   ],
   "source": [
    "dp[0]"
   ]
  },
  {
   "cell_type": "code",
   "execution_count": null,
   "id": "1788454f-2d16-48e5-abf4-09b44d507f06",
   "metadata": {},
   "outputs": [],
   "source": []
  }
 ],
 "metadata": {
  "kernelspec": {
   "display_name": "Python 3",
   "language": "python",
   "name": "python3"
  },
  "language_info": {
   "codemirror_mode": {
    "name": "ipython",
    "version": 3
   },
   "file_extension": ".py",
   "mimetype": "text/x-python",
   "name": "python",
   "nbconvert_exporter": "python",
   "pygments_lexer": "ipython3",
   "version": "3.6.13"
  }
 },
 "nbformat": 4,
 "nbformat_minor": 5
}
