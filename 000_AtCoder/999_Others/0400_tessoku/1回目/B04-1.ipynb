{
 "cells": [
  {
   "cell_type": "code",
   "execution_count": 13,
   "id": "05680585-40df-49f7-af73-399e983267ae",
   "metadata": {},
   "outputs": [
    {
     "name": "stdin",
     "output_type": "stream",
     "text": [
      " 1101\n"
     ]
    }
   ],
   "source": [
    "N = input()"
   ]
  },
  {
   "cell_type": "code",
   "execution_count": 14,
   "id": "7d7ba9f7-19c3-461d-98ac-122567f1bb01",
   "metadata": {},
   "outputs": [
    {
     "name": "stdout",
     "output_type": "stream",
     "text": [
      "13\n"
     ]
    }
   ],
   "source": [
    "print(int(N, 2))"
   ]
  },
  {
   "cell_type": "code",
   "execution_count": 15,
   "id": "124355e3-dba2-4e6f-80ce-a7b6e7433ae3",
   "metadata": {},
   "outputs": [],
   "source": [
    "ans = 0\n",
    "for i, b in enumerate(N[::-1]):\n",
    "    if b == '1':\n",
    "        ans += 2**i"
   ]
  },
  {
   "cell_type": "code",
   "execution_count": 16,
   "id": "0dc27a6b-c4cc-4611-b387-f81eebd9d780",
   "metadata": {},
   "outputs": [
    {
     "name": "stdout",
     "output_type": "stream",
     "text": [
      "13\n"
     ]
    }
   ],
   "source": [
    "print(ans)"
   ]
  },
  {
   "cell_type": "code",
   "execution_count": null,
   "id": "4c8d15b3-6b49-40dd-a5d7-9278d6060fce",
   "metadata": {},
   "outputs": [],
   "source": []
  }
 ],
 "metadata": {
  "kernelspec": {
   "display_name": "Python 3",
   "language": "python",
   "name": "python3"
  },
  "language_info": {
   "codemirror_mode": {
    "name": "ipython",
    "version": 3
   },
   "file_extension": ".py",
   "mimetype": "text/x-python",
   "name": "python",
   "nbconvert_exporter": "python",
   "pygments_lexer": "ipython3",
   "version": "3.6.13"
  }
 },
 "nbformat": 4,
 "nbformat_minor": 5
}
