{
 "cells": [
  {
   "cell_type": "code",
   "execution_count": 2,
   "id": "71982eff-597a-4511-a462-65eb51a909e3",
   "metadata": {},
   "outputs": [
    {
     "name": "stdin",
     "output_type": "stream",
     "text": [
      " 5 4\n"
     ]
    }
   ],
   "source": [
    "N, M = map(int, input().split())"
   ]
  },
  {
   "cell_type": "code",
   "execution_count": 3,
   "id": "a53eca0c-c563-4b14-8e07-86be95ef7f3f",
   "metadata": {},
   "outputs": [
    {
     "name": "stdin",
     "output_type": "stream",
     "text": [
      " 1 2\n",
      " 2 3\n",
      " 3 4\n",
      " 3 5\n"
     ]
    }
   ],
   "source": [
    "ABm = [list(map(int, input().split())) for _ in range(M)]"
   ]
  },
  {
   "cell_type": "code",
   "execution_count": 5,
   "id": "8f6b3e30-c9c5-4093-84c0-e267c831d5ef",
   "metadata": {},
   "outputs": [],
   "source": [
    "graph = [[] for _ in range(N+1)]\n",
    "for A, B in ABm:\n",
    "    graph[A].append(B)\n",
    "    graph[B].append(A)"
   ]
  },
  {
   "cell_type": "code",
   "execution_count": 6,
   "id": "def04eb3-8c1f-4073-b7be-847e3b979992",
   "metadata": {},
   "outputs": [],
   "source": [
    "ans = -1\n",
    "ma = 0\n",
    "for i, gr in enumerate(graph[1:], 1):\n",
    "    if len(gr) > ma:\n",
    "        ans = i\n",
    "        ma = len(gr)"
   ]
  },
  {
   "cell_type": "code",
   "execution_count": 7,
   "id": "c5ad590d-bd12-4823-9ff9-a2c2ce4d56e4",
   "metadata": {},
   "outputs": [
    {
     "name": "stdout",
     "output_type": "stream",
     "text": [
      "3\n"
     ]
    }
   ],
   "source": [
    "print(ans)"
   ]
  },
  {
   "cell_type": "code",
   "execution_count": null,
   "id": "0f52e776-10fa-43aa-a5be-ed5ad3410ad4",
   "metadata": {},
   "outputs": [],
   "source": []
  }
 ],
 "metadata": {
  "kernelspec": {
   "display_name": "Python 3",
   "language": "python",
   "name": "python3"
  },
  "language_info": {
   "codemirror_mode": {
    "name": "ipython",
    "version": 3
   },
   "file_extension": ".py",
   "mimetype": "text/x-python",
   "name": "python",
   "nbconvert_exporter": "python",
   "pygments_lexer": "ipython3",
   "version": "3.6.13"
  }
 },
 "nbformat": 4,
 "nbformat_minor": 5
}
