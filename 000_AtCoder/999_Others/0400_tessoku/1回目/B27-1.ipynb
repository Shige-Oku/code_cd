{
 "cells": [
  {
   "cell_type": "code",
   "execution_count": 4,
   "id": "e88829c8-43c3-467f-a4c5-7f0874d7030d",
   "metadata": {},
   "outputs": [
    {
     "name": "stdin",
     "output_type": "stream",
     "text": [
      " 998244353 998244853\n"
     ]
    }
   ],
   "source": [
    "A, B = map(int, input().split())"
   ]
  },
  {
   "cell_type": "code",
   "execution_count": 5,
   "id": "45d5636e-ae0d-4f9c-bd4f-c05109f9007e",
   "metadata": {},
   "outputs": [
    {
     "name": "stdout",
     "output_type": "stream",
     "text": [
      "996492287418565109\n"
     ]
    }
   ],
   "source": [
    "from math import gcd\n",
    "print(A * B // gcd(A, B))"
   ]
  },
  {
   "cell_type": "code",
   "execution_count": 6,
   "id": "fab9cfd7-1f88-433b-8b48-90e96cf072c5",
   "metadata": {},
   "outputs": [],
   "source": [
    "def myGcd(a, b):\n",
    "    if b == 0:\n",
    "        return a\n",
    "    return myGcd(b, a%b)"
   ]
  },
  {
   "cell_type": "code",
   "execution_count": 7,
   "id": "b588a93b-6110-445e-acad-f59f85eb4c61",
   "metadata": {},
   "outputs": [
    {
     "name": "stdout",
     "output_type": "stream",
     "text": [
      "996492287418565109\n"
     ]
    }
   ],
   "source": [
    "print(A * B // myGcd(A, B))"
   ]
  },
  {
   "cell_type": "code",
   "execution_count": null,
   "id": "7aa72fb8-3ede-40a4-8df4-35869330fd8f",
   "metadata": {},
   "outputs": [],
   "source": []
  }
 ],
 "metadata": {
  "kernelspec": {
   "display_name": "Python 3",
   "language": "python",
   "name": "python3"
  },
  "language_info": {
   "codemirror_mode": {
    "name": "ipython",
    "version": 3
   },
   "file_extension": ".py",
   "mimetype": "text/x-python",
   "name": "python",
   "nbconvert_exporter": "python",
   "pygments_lexer": "ipython3",
   "version": "3.6.13"
  }
 },
 "nbformat": 4,
 "nbformat_minor": 5
}
