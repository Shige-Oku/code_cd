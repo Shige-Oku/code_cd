{
 "cells": [
  {
   "cell_type": "code",
   "execution_count": 1,
   "id": "deb5ffb0-8983-42d8-a2da-4482553082d4",
   "metadata": {},
   "outputs": [
    {
     "name": "stdin",
     "output_type": "stream",
     "text": [
      " 5\n"
     ]
    }
   ],
   "source": [
    "N = int(input())"
   ]
  },
  {
   "cell_type": "code",
   "execution_count": 3,
   "id": "3fb9d613-5a31-4782-abc2-216e15ca0729",
   "metadata": {},
   "outputs": [
    {
     "name": "stdin",
     "output_type": "stream",
     "text": [
      " 1 3\n",
      " 2 5\n",
      " 3 4\n",
      " 2 6\n",
      " 3 3\n"
     ]
    }
   ],
   "source": [
    "XYn = [list(map(int, input().split())) for _ in range(N)]"
   ]
  },
  {
   "cell_type": "code",
   "execution_count": 4,
   "id": "3973733f-6182-4f33-a935-0a0cbf5bc73b",
   "metadata": {},
   "outputs": [
    {
     "name": "stdin",
     "output_type": "stream",
     "text": [
      " 3\n"
     ]
    }
   ],
   "source": [
    "Q = int(input())"
   ]
  },
  {
   "cell_type": "code",
   "execution_count": 5,
   "id": "c7553369-c98f-4dc4-b34a-0e1fabaebdaf",
   "metadata": {},
   "outputs": [
    {
     "name": "stdin",
     "output_type": "stream",
     "text": [
      " 1 3 3 6\n",
      " 1 5 2 6\n",
      " 1 3 3 5\n"
     ]
    }
   ],
   "source": [
    "ABCDn = [list(map(int, input().split())) for _ in range(Q)]"
   ]
  },
  {
   "cell_type": "code",
   "execution_count": 7,
   "id": "70b1e7bc-a588-44e9-823d-115de74611b5",
   "metadata": {},
   "outputs": [],
   "source": [
    "cnt = [[0] * 1501 for _ in range(1501)]\n",
    "for X, Y in XYn:\n",
    "    cnt[X][Y] += 1\n",
    "for x in range(1, 1501):\n",
    "    for y in range(1, 1501):\n",
    "        cnt[x][y] += cnt[x][y-1]\n",
    "for y in range(1, 1501):\n",
    "    for x in range(1, 1501):\n",
    "        cnt[x][y] += cnt[x-1][y]\n"
   ]
  },
  {
   "cell_type": "code",
   "execution_count": 8,
   "id": "be00bc24-e92d-4378-b72d-cf473ea6ff50",
   "metadata": {},
   "outputs": [
    {
     "name": "stdout",
     "output_type": "stream",
     "text": [
      "5\n",
      "2\n",
      "4\n"
     ]
    }
   ],
   "source": [
    "for A, B, C, D in ABCDn:\n",
    "    print(cnt[C][D] + cnt[A-1][B-1] - cnt[A-1][D] - cnt[C][B-1])"
   ]
  },
  {
   "cell_type": "code",
   "execution_count": null,
   "id": "30fad62b-b3ee-447f-92bd-37c0775ec89b",
   "metadata": {},
   "outputs": [],
   "source": []
  }
 ],
 "metadata": {
  "kernelspec": {
   "display_name": "Python 3",
   "language": "python",
   "name": "python3"
  },
  "language_info": {
   "codemirror_mode": {
    "name": "ipython",
    "version": 3
   },
   "file_extension": ".py",
   "mimetype": "text/x-python",
   "name": "python",
   "nbconvert_exporter": "python",
   "pygments_lexer": "ipython3",
   "version": "3.6.13"
  }
 },
 "nbformat": 4,
 "nbformat_minor": 5
}
