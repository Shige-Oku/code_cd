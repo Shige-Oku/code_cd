{
 "cells": [
  {
   "cell_type": "code",
   "execution_count": 1,
   "id": "d7b77a9b-0ed8-4bf1-a61b-e859d9f42661",
   "metadata": {},
   "outputs": [
    {
     "name": "stdin",
     "output_type": "stream",
     "text": [
      " 7\n"
     ]
    }
   ],
   "source": [
    "N = int(input())"
   ]
  },
  {
   "cell_type": "code",
   "execution_count": 2,
   "id": "46fed207-9685-4cdc-8249-f012b33c9dff",
   "metadata": {},
   "outputs": [
    {
     "name": "stdin",
     "output_type": "stream",
     "text": [
      " 1 2 5 5 2 3 1\n"
     ]
    }
   ],
   "source": [
    "An = list(map(int, input().split()))"
   ]
  },
  {
   "cell_type": "code",
   "execution_count": 3,
   "id": "ef8eb21f-1073-4bdf-a874-1e35dc6777b9",
   "metadata": {},
   "outputs": [
    {
     "name": "stdin",
     "output_type": "stream",
     "text": [
      " 2\n"
     ]
    }
   ],
   "source": [
    "D = int(input())"
   ]
  },
  {
   "cell_type": "code",
   "execution_count": 4,
   "id": "37966716-1ce8-4568-b695-4f207c33c7e5",
   "metadata": {},
   "outputs": [
    {
     "name": "stdin",
     "output_type": "stream",
     "text": [
      " 3 5\n",
      " 4 6\n"
     ]
    }
   ],
   "source": [
    "LRn = [list(map(int, input().split())) for _ in range(D)]"
   ]
  },
  {
   "cell_type": "code",
   "execution_count": 17,
   "id": "7babbbf3-d8c6-49dd-90bf-b5bd912929a5",
   "metadata": {},
   "outputs": [],
   "source": [
    "An_l = [0, ]\n",
    "for A in An:\n",
    "    An_l.append(max(An_l[-1], A))\n",
    "An_r = [0, ]\n",
    "for A in An[::-1]:\n",
    "    An_r.append(max(An_r[-1], A))\n",
    "An_r = An_r[::-1]\n",
    "An_r.insert(0, 0)"
   ]
  },
  {
   "cell_type": "code",
   "execution_count": 18,
   "id": "a4712eda-dffa-40d0-a83d-39ab154ec9f9",
   "metadata": {},
   "outputs": [
    {
     "name": "stdout",
     "output_type": "stream",
     "text": [
      "3\n",
      "5\n"
     ]
    }
   ],
   "source": [
    "for L, R in LRn:\n",
    "    print(max(An_l[L-1], An_r[R+1]))"
   ]
  },
  {
   "cell_type": "code",
   "execution_count": 19,
   "id": "72c552b2-0458-48c2-a13c-2f6b73a375a3",
   "metadata": {},
   "outputs": [
    {
     "data": {
      "text/plain": [
       "([0, 1, 2, 5, 5, 5, 5, 5], [0, 5, 5, 5, 5, 3, 3, 1, 0])"
      ]
     },
     "execution_count": 19,
     "metadata": {},
     "output_type": "execute_result"
    }
   ],
   "source": [
    "An_l, An_r"
   ]
  },
  {
   "cell_type": "code",
   "execution_count": null,
   "id": "8829198c-ff4d-4e7c-a5a8-4d58a2284bf7",
   "metadata": {},
   "outputs": [],
   "source": []
  }
 ],
 "metadata": {
  "kernelspec": {
   "display_name": "Python 3",
   "language": "python",
   "name": "python3"
  },
  "language_info": {
   "codemirror_mode": {
    "name": "ipython",
    "version": 3
   },
   "file_extension": ".py",
   "mimetype": "text/x-python",
   "name": "python",
   "nbconvert_exporter": "python",
   "pygments_lexer": "ipython3",
   "version": "3.6.13"
  }
 },
 "nbformat": 4,
 "nbformat_minor": 5
}
