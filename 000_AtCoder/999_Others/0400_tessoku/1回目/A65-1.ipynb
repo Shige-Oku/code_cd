{
 "cells": [
  {
   "cell_type": "code",
   "execution_count": 13,
   "id": "f0711260-9000-422e-b479-26bc55e8620d",
   "metadata": {},
   "outputs": [
    {
     "name": "stdin",
     "output_type": "stream",
     "text": [
      " 15\n"
     ]
    }
   ],
   "source": [
    "N = int(input())"
   ]
  },
  {
   "cell_type": "code",
   "execution_count": 14,
   "id": "9d51162b-5f31-425f-9bf4-4f31f5d61cc7",
   "metadata": {},
   "outputs": [
    {
     "name": "stdin",
     "output_type": "stream",
     "text": [
      " 1 2 1 1 1 6 2 6 9 10 6 12 13 12\n"
     ]
    }
   ],
   "source": [
    "An = list(map(int, input().split()))"
   ]
  },
  {
   "cell_type": "code",
   "execution_count": 22,
   "id": "61377bbc-639d-4e0c-983a-56d89d5db60e",
   "metadata": {},
   "outputs": [],
   "source": [
    "graph = [[] for _ in range(N+1)]\n",
    "for i, A in enumerate(An, 2):\n",
    "    graph[A].append(i)"
   ]
  },
  {
   "cell_type": "code",
   "execution_count": 23,
   "id": "c4d06f76-f55a-45ea-afe0-3122671f6808",
   "metadata": {},
   "outputs": [],
   "source": [
    "import sys\n",
    "sys.setrecursionlimit(10**7)\n",
    "def DFS(n):\n",
    "    visit[n] = True\n",
    "    if len(graph[n]) == 0:\n",
    "        ans[n] = 0\n",
    "        return ans[n] + 1\n",
    "    cnt = 0\n",
    "    for g in graph[n]:\n",
    "        if visit[g]:\n",
    "            continue\n",
    "        cnt += DFS(g)\n",
    "    ans[n] = cnt\n",
    "    return ans[n]+1"
   ]
  },
  {
   "cell_type": "code",
   "execution_count": 24,
   "id": "675a31da-a518-4cf9-a5cf-51e5b350630e",
   "metadata": {},
   "outputs": [
    {
     "name": "stdout",
     "output_type": "stream",
     "text": [
      "14 2 0 0 0 8 0 0 2 1 0 3 1 0 0\n"
     ]
    }
   ],
   "source": [
    "visit = [False] * (N+1)\n",
    "ans = [0] * (N+1)\n",
    "DFS(1)\n",
    "print(*ans[1:])"
   ]
  },
  {
   "cell_type": "code",
   "execution_count": 25,
   "id": "d3d3ac1e-98ea-4d5f-bf25-a7619cad7fb9",
   "metadata": {},
   "outputs": [
    {
     "data": {
      "text/plain": [
       "[[],\n",
       " [2, 4, 5, 6],\n",
       " [3, 8],\n",
       " [],\n",
       " [],\n",
       " [],\n",
       " [7, 9, 12],\n",
       " [],\n",
       " [],\n",
       " [10],\n",
       " [11],\n",
       " [],\n",
       " [13, 15],\n",
       " [14],\n",
       " [],\n",
       " []]"
      ]
     },
     "execution_count": 25,
     "metadata": {},
     "output_type": "execute_result"
    }
   ],
   "source": [
    "graph"
   ]
  },
  {
   "cell_type": "code",
   "execution_count": 28,
   "id": "6a497a96-0c1c-4282-8b9e-b5569b1bfd62",
   "metadata": {},
   "outputs": [],
   "source": [
    "dp = [0] * (N+2)\n",
    "for i in range(N, 0, -1):\n",
    "    for j in graph[i]:\n",
    "        dp[i] += dp[j] + 1"
   ]
  },
  {
   "cell_type": "code",
   "execution_count": 30,
   "id": "8bbc08c4-ad5f-4023-bfa9-20a17b3f58c1",
   "metadata": {},
   "outputs": [
    {
     "name": "stdout",
     "output_type": "stream",
     "text": [
      "14 2 0 0 0 8 0 0 2 1 0 3 1 0 0\n"
     ]
    }
   ],
   "source": [
    "print(*dp[1:-1])"
   ]
  },
  {
   "cell_type": "code",
   "execution_count": 27,
   "id": "577f104b-6185-4b5e-b449-680f01fad592",
   "metadata": {},
   "outputs": [
    {
     "data": {
      "text/plain": [
       "(13, 14)"
      ]
     },
     "execution_count": 27,
     "metadata": {},
     "output_type": "execute_result"
    }
   ],
   "source": [
    "i, j"
   ]
  },
  {
   "cell_type": "code",
   "execution_count": 21,
   "id": "f2d830d8-1ad4-4d14-b130-6d03c4530194",
   "metadata": {},
   "outputs": [
    {
     "data": {
      "text/plain": [
       "[[],\n",
       " [2, 4, 5, 6],\n",
       " [3, 8],\n",
       " [],\n",
       " [],\n",
       " [],\n",
       " [7, 9, 12],\n",
       " [],\n",
       " [],\n",
       " [10],\n",
       " [11],\n",
       " [],\n",
       " [13, 15],\n",
       " [14],\n",
       " [],\n",
       " []]"
      ]
     },
     "execution_count": 21,
     "metadata": {},
     "output_type": "execute_result"
    }
   ],
   "source": [
    "graph"
   ]
  },
  {
   "cell_type": "code",
   "execution_count": null,
   "id": "734595fd-980a-4852-8732-272e7ad50948",
   "metadata": {},
   "outputs": [],
   "source": []
  }
 ],
 "metadata": {
  "kernelspec": {
   "display_name": "Python 3",
   "language": "python",
   "name": "python3"
  },
  "language_info": {
   "codemirror_mode": {
    "name": "ipython",
    "version": 3
   },
   "file_extension": ".py",
   "mimetype": "text/x-python",
   "name": "python",
   "nbconvert_exporter": "python",
   "pygments_lexer": "ipython3",
   "version": "3.6.13"
  }
 },
 "nbformat": 4,
 "nbformat_minor": 5
}
