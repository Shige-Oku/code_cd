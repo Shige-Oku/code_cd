{
 "cells": [
  {
   "cell_type": "code",
   "execution_count": 1,
   "id": "05dafe91-95ef-40a7-85f3-0ffd4916443c",
   "metadata": {},
   "outputs": [
    {
     "name": "stdin",
     "output_type": "stream",
     "text": [
      " 7\n"
     ]
    }
   ],
   "source": [
    "N = int(input())"
   ]
  },
  {
   "cell_type": "code",
   "execution_count": 2,
   "id": "29a9a63b-f3a9-4c46-9c50-9d9fac965b35",
   "metadata": {},
   "outputs": [
    {
     "name": "stdin",
     "output_type": "stream",
     "text": [
      " 0 1 1 0 1 0 0\n"
     ]
    }
   ],
   "source": [
    "An = list(map(int, input().split()))"
   ]
  },
  {
   "cell_type": "code",
   "execution_count": 3,
   "id": "625b4ec2-0273-487f-9427-84fb978bb5a7",
   "metadata": {},
   "outputs": [
    {
     "name": "stdin",
     "output_type": "stream",
     "text": [
      " 3\n"
     ]
    }
   ],
   "source": [
    "Q = int(input())"
   ]
  },
  {
   "cell_type": "code",
   "execution_count": 4,
   "id": "4e027a25-e5be-44ca-a50e-5c28a3032c8a",
   "metadata": {},
   "outputs": [
    {
     "name": "stdin",
     "output_type": "stream",
     "text": [
      " 2 5\n",
      " 2 7\n",
      " 5 7\n"
     ]
    }
   ],
   "source": [
    "LRn = [list(map(int, input().split())) for _ in range(Q)]"
   ]
  },
  {
   "cell_type": "code",
   "execution_count": 6,
   "id": "ddda194f-cc17-43d9-99e4-e2d8a1bce474",
   "metadata": {},
   "outputs": [],
   "source": [
    "An_w = [0, ]\n",
    "An_l = [0, ]\n",
    "for A in An:\n",
    "    if A == 0:\n",
    "        An_l.append(An_l[-1] + 1)\n",
    "        An_w.append(An_w[-1])\n",
    "    else:\n",
    "        An_w.append(An_w[-1] + 1)\n",
    "        An_l.append(An_l[-1])"
   ]
  },
  {
   "cell_type": "code",
   "execution_count": 8,
   "id": "8ba3aa42-ef3e-4e51-85d0-0170575f97f8",
   "metadata": {},
   "outputs": [
    {
     "name": "stdout",
     "output_type": "stream",
     "text": [
      "win\n",
      "draw\n",
      "lose\n"
     ]
    }
   ],
   "source": [
    "for L, R in LRn:\n",
    "    win = An_w[R] - An_w[L-1]\n",
    "    los = An_l[R] - An_l[L-1]\n",
    "    if win > los:\n",
    "        print('win')\n",
    "    elif win == los:\n",
    "        print('draw')\n",
    "    else:\n",
    "        print('lose')"
   ]
  },
  {
   "cell_type": "code",
   "execution_count": 7,
   "id": "2ca2649a-b928-4801-802e-b767a51802c0",
   "metadata": {},
   "outputs": [
    {
     "data": {
      "text/plain": [
       "([0, 0, 1, 2, 2, 3, 3, 3], [0, 1, 1, 1, 2, 2, 3, 4])"
      ]
     },
     "execution_count": 7,
     "metadata": {},
     "output_type": "execute_result"
    }
   ],
   "source": [
    "An_w, An_l"
   ]
  },
  {
   "cell_type": "code",
   "execution_count": null,
   "id": "b623c26c-0865-4be2-b519-d65c1c53e732",
   "metadata": {},
   "outputs": [],
   "source": []
  }
 ],
 "metadata": {
  "kernelspec": {
   "display_name": "Python 3",
   "language": "python",
   "name": "python3"
  },
  "language_info": {
   "codemirror_mode": {
    "name": "ipython",
    "version": 3
   },
   "file_extension": ".py",
   "mimetype": "text/x-python",
   "name": "python",
   "nbconvert_exporter": "python",
   "pygments_lexer": "ipython3",
   "version": "3.6.13"
  }
 },
 "nbformat": 4,
 "nbformat_minor": 5
}
