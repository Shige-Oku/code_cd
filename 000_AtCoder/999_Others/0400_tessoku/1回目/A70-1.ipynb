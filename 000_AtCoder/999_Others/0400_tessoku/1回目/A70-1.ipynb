{
 "cells": [
  {
   "cell_type": "code",
   "execution_count": 5,
   "id": "f6e5ac66-ece7-4a23-af50-fc110e904569",
   "metadata": {},
   "outputs": [
    {
     "name": "stdin",
     "output_type": "stream",
     "text": [
      " 4 2\n"
     ]
    }
   ],
   "source": [
    "N, M = map(int, input().split())"
   ]
  },
  {
   "cell_type": "code",
   "execution_count": 6,
   "id": "c441e8d4-2e00-481b-8985-ff11e2fb5865",
   "metadata": {},
   "outputs": [
    {
     "name": "stdin",
     "output_type": "stream",
     "text": [
      " 0 1 1 0\n"
     ]
    }
   ],
   "source": [
    "An = list(map(int, input().split()))"
   ]
  },
  {
   "cell_type": "code",
   "execution_count": 7,
   "id": "bc8693b3-69b7-4345-8c4f-3fa37343d0ca",
   "metadata": {},
   "outputs": [
    {
     "name": "stdin",
     "output_type": "stream",
     "text": [
      " 1 2 3\n",
      " 2 3 4\n"
     ]
    }
   ],
   "source": [
    "XYZm = [list(map(int, input().split())) for _ in range(M)]"
   ]
  },
  {
   "cell_type": "code",
   "execution_count": 34,
   "id": "6140002b-4108-4126-ba3a-35c61539beea",
   "metadata": {},
   "outputs": [],
   "source": [
    "mask = []\n",
    "for X, Y , Z in XYZm:\n",
    "    m =  1<<(X-1) \n",
    "    m += 1<<(Y-1)\n",
    "    m += 1<<(Z-1)\n",
    "    mask.append(m)"
   ]
  },
  {
   "cell_type": "code",
   "execution_count": 35,
   "id": "0ee870a8-b393-4e53-822a-185fc8421dd8",
   "metadata": {},
   "outputs": [],
   "source": [
    "graph = [[] for _ in range(2**N)]\n",
    "for i in range(2**N):\n",
    "    for m in mask:\n",
    "        graph[i].append(i ^ m)\n"
   ]
  },
  {
   "cell_type": "code",
   "execution_count": 38,
   "id": "9e9359f9-0739-495c-98df-0408d05f0327",
   "metadata": {},
   "outputs": [],
   "source": [
    "from collections import deque\n",
    "dist = [-1] * (2**N)\n",
    "s = 0\n",
    "for i, A in enumerate(An):\n",
    "    if A == 1:\n",
    "        s += 1<<i\n",
    "q = deque()\n",
    "q.append(s)\n",
    "dist[s] = 0\n",
    "while q:\n",
    "    p = q.popleft()\n",
    "    for g in graph[p]:\n",
    "        if dist[g] != -1:\n",
    "            continue\n",
    "        dist[g] = dist[p] + 1\n",
    "        q.append(g)"
   ]
  },
  {
   "cell_type": "code",
   "execution_count": 40,
   "id": "518fbaa2-8259-4965-ab95-5e65a9cab6fe",
   "metadata": {},
   "outputs": [
    {
     "name": "stdout",
     "output_type": "stream",
     "text": [
      "2\n"
     ]
    }
   ],
   "source": [
    "print(dist[-1])"
   ]
  },
  {
   "cell_type": "code",
   "execution_count": 32,
   "id": "3a5bce32-7cf3-405c-b42d-57ccc329d473",
   "metadata": {},
   "outputs": [
    {
     "data": {
      "text/plain": [
       "4"
      ]
     },
     "execution_count": 32,
     "metadata": {},
     "output_type": "execute_result"
    }
   ],
   "source": [
    "1<<2"
   ]
  },
  {
   "cell_type": "code",
   "execution_count": 33,
   "id": "9b35e749-7889-42d0-a5e0-61aef6d6bf0c",
   "metadata": {},
   "outputs": [
    {
     "data": {
      "text/plain": [
       "([7, 14],\n",
       " [[7, 14],\n",
       "  [6, 15],\n",
       "  [5, 12],\n",
       "  [4, 13],\n",
       "  [3, 10],\n",
       "  [2, 11],\n",
       "  [1, 8],\n",
       "  [0, 9],\n",
       "  [15, 6],\n",
       "  [14, 7],\n",
       "  [13, 4],\n",
       "  [12, 5],\n",
       "  [11, 2],\n",
       "  [10, 3],\n",
       "  [9, 0],\n",
       "  [8, 1]])"
      ]
     },
     "execution_count": 33,
     "metadata": {},
     "output_type": "execute_result"
    }
   ],
   "source": [
    "mask, graph"
   ]
  },
  {
   "cell_type": "code",
   "execution_count": 39,
   "id": "175a49a2-5e09-4129-987e-0713f3aec3de",
   "metadata": {},
   "outputs": [
    {
     "data": {
      "text/plain": [
       "[-1, 1, -1, -1, -1, -1, 0, -1, 1, -1, -1, -1, -1, -1, -1, 2]"
      ]
     },
     "execution_count": 39,
     "metadata": {},
     "output_type": "execute_result"
    }
   ],
   "source": [
    "dist"
   ]
  },
  {
   "cell_type": "code",
   "execution_count": null,
   "id": "ece7e75a-6224-4a19-b297-ab1911777a17",
   "metadata": {},
   "outputs": [],
   "source": []
  }
 ],
 "metadata": {
  "kernelspec": {
   "display_name": "Python 3",
   "language": "python",
   "name": "python3"
  },
  "language_info": {
   "codemirror_mode": {
    "name": "ipython",
    "version": 3
   },
   "file_extension": ".py",
   "mimetype": "text/x-python",
   "name": "python",
   "nbconvert_exporter": "python",
   "pygments_lexer": "ipython3",
   "version": "3.6.13"
  }
 },
 "nbformat": 4,
 "nbformat_minor": 5
}
