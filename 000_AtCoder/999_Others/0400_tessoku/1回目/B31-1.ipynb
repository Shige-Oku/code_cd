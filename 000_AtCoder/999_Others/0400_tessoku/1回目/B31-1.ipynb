{
 "cells": [
  {
   "cell_type": "code",
   "execution_count": 5,
   "id": "a2fe8023-8ad0-4c81-af15-459155bfbb5a",
   "metadata": {},
   "outputs": [
    {
     "name": "stdin",
     "output_type": "stream",
     "text": [
      " 100000000000\n"
     ]
    }
   ],
   "source": [
    "N = int(input())"
   ]
  },
  {
   "cell_type": "code",
   "execution_count": 6,
   "id": "0b7cffe2-b045-4664-86d5-7c2b76ea65e8",
   "metadata": {},
   "outputs": [
    {
     "name": "stdout",
     "output_type": "stream",
     "text": [
      "54285714286\n"
     ]
    }
   ],
   "source": [
    "c3 = N // 3\n",
    "c5 = N // 5\n",
    "c7 = N // 7\n",
    "c35 = N // (3 * 5)\n",
    "c37 = N // (3 * 7)\n",
    "c57 = N // (5 * 7)\n",
    "c357 = N // (3 * 5 * 7)\n",
    "print(c3 + c5 + c7 - c35 - c37 - c57 + c357)"
   ]
  },
  {
   "cell_type": "code",
   "execution_count": null,
   "id": "912e6b31-e8b7-4e58-8f98-c66bf97d89ff",
   "metadata": {},
   "outputs": [],
   "source": []
  }
 ],
 "metadata": {
  "kernelspec": {
   "display_name": "Python 3",
   "language": "python",
   "name": "python3"
  },
  "language_info": {
   "codemirror_mode": {
    "name": "ipython",
    "version": 3
   },
   "file_extension": ".py",
   "mimetype": "text/x-python",
   "name": "python",
   "nbconvert_exporter": "python",
   "pygments_lexer": "ipython3",
   "version": "3.6.13"
  }
 },
 "nbformat": 4,
 "nbformat_minor": 5
}
