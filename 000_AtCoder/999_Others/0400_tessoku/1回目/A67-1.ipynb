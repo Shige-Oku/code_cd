{
 "cells": [
  {
   "cell_type": "code",
   "execution_count": 1,
   "id": "d799de01-b9be-497f-b86e-1772f37a07cb",
   "metadata": {},
   "outputs": [
    {
     "name": "stdin",
     "output_type": "stream",
     "text": [
      " 7 9\n"
     ]
    }
   ],
   "source": [
    "N, M = map(int, input().split())"
   ]
  },
  {
   "cell_type": "code",
   "execution_count": 2,
   "id": "ca9eb5e9-1e88-4d10-bbf0-169d3bec3ceb",
   "metadata": {},
   "outputs": [
    {
     "name": "stdin",
     "output_type": "stream",
     "text": [
      " 1 2 12\n",
      " 1 3 10\n",
      " 2 6 160\n",
      " 2 7 15\n",
      " 3 4 1\n",
      " 3 5 4\n",
      " 4 5 3\n",
      " 4 6 120\n",
      " 6 7 14\n"
     ]
    }
   ],
   "source": [
    "ABCm = [list(map(int, input().split())) for _ in range(M)]"
   ]
  },
  {
   "cell_type": "code",
   "execution_count": 4,
   "id": "80e6455e-8466-4a83-bbc4-85d3273033e3",
   "metadata": {},
   "outputs": [],
   "source": [
    "graph = [[] for _ in range(N+1)]\n",
    "for A, B, C in ABCm:\n",
    "    graph[A].append((B, C))\n",
    "    graph[B].append((A, C))"
   ]
  },
  {
   "cell_type": "code",
   "execution_count": 18,
   "id": "d0aa0176-65aa-4041-9320-f70bb25ddfdd",
   "metadata": {},
   "outputs": [],
   "source": [
    "import heapq\n",
    "marked = [False] * (N+1)\n",
    "cnt = 0\n",
    "ans = 0\n",
    "q = []\n",
    "for ne, c in graph[1]:\n",
    "    heapq.heappush(q, (c, ne))\n",
    "marked[1] = True\n",
    "cnt = 1"
   ]
  },
  {
   "cell_type": "code",
   "execution_count": 19,
   "id": "94190884-cee9-475d-a227-f320b0f92dee",
   "metadata": {},
   "outputs": [],
   "source": [
    "while cnt < N:\n",
    "    c, p = heapq.heappop(q)\n",
    "    if marked[p]:\n",
    "        continue\n",
    "    marked[p] = True\n",
    "    cnt += 1\n",
    "    ans += c\n",
    "    for np, nc in graph[p]:\n",
    "        if marked[np]:\n",
    "            continue\n",
    "        heapq.heappush(q, (nc, np))"
   ]
  },
  {
   "cell_type": "code",
   "execution_count": 21,
   "id": "5a29d8c3-8539-4d22-b473-dfdb6d1c5028",
   "metadata": {},
   "outputs": [
    {
     "name": "stdout",
     "output_type": "stream",
     "text": [
      "55\n"
     ]
    }
   ],
   "source": [
    "print(ans)"
   ]
  },
  {
   "cell_type": "code",
   "execution_count": 16,
   "id": "594c6266-2e3f-49de-974c-1e2eb25bf946",
   "metadata": {},
   "outputs": [
    {
     "data": {
      "text/plain": [
       "[]"
      ]
     },
     "execution_count": 16,
     "metadata": {},
     "output_type": "execute_result"
    }
   ],
   "source": [
    "q"
   ]
  },
  {
   "cell_type": "code",
   "execution_count": 22,
   "id": "3af825ad-5dce-4d04-9b1c-c440ddf85342",
   "metadata": {},
   "outputs": [],
   "source": [
    "from collections import defaultdict\n",
    "import sys\n",
    "sys.setrecursionlimit(10**7)\n",
    "class UnionFind():\n",
    "    # イニシャライザ\n",
    "    def __init__(self, n):\n",
    "        self.n = n  # 頂点の数\n",
    "        self.parents = [-1] * n  # 親の頂点。根は -1\n",
    "        self.size = [1] * n  # 各頂点の所属する木の頂点数\n",
    "        sys.setrecursionlimit(10**7)\n",
    "        \n",
    "    # 根を返す\n",
    "    def root(self, x):\n",
    "        if self.parents[x] < 0: # 根なのでそのまま返す\n",
    "            return x\n",
    "        else:\n",
    "            self.parents[x] = self.root(self.parents[x])  # 経路圧縮\n",
    "            return self.parents[x]\n",
    "        \n",
    "    # x, y が同じ木に属するか\n",
    "    def issame(self, x, y):\n",
    "        return self.root(x) == self.root(y)\n",
    "    \n",
    "    # x y を併合する    \n",
    "    def unite(self, x, y):\n",
    "        x = self.root(x)\n",
    "        y = self.root(y)\n",
    "        \n",
    "        # 元々同じ木に所属するので、何もせずリターン\n",
    "        if x == y:\n",
    "            return False\n",
    "        \n",
    "        # 大きいほうにまとめる。 y を x にまとめるようにスワップ\n",
    "        if self.parents[x] < self.parents[y]:\n",
    "            x, y = y, x\n",
    "        # 小さいほうの親を大きいほうを親に\n",
    "        self.parents[y] = x\n",
    "        # 大きいほうの頂点に小さいほうの数を加算\n",
    "        self.size[x] += self.size[y]\n",
    "        return True\n",
    "    \n",
    "    # x の所属する頂点数を返す\n",
    "    def getsize(self, x):\n",
    "        return self.size[self.root(x)]\n",
    "\n",
    "    # x の所属する頂点の一覧を返す\n",
    "    def getmembers(self, x):\n",
    "        root = self.root(x)\n",
    "        return [i for i in range(self.n) if self.root(i) == root]    "
   ]
  },
  {
   "cell_type": "code",
   "execution_count": 26,
   "id": "ed46eb8b-cc5d-48b9-9e5d-daa8202885cf",
   "metadata": {},
   "outputs": [],
   "source": [
    "ABCm_s = sorted(ABCm, key=lambda x:x[2])\n",
    "ans = 0\n",
    "uf = UnionFind(N+1)\n",
    "for u, v, c in ABCm_s:\n",
    "    if uf.issame(u, v):\n",
    "        continue\n",
    "    ans += c\n",
    "    uf.unite(u, v)"
   ]
  },
  {
   "cell_type": "code",
   "execution_count": 27,
   "id": "22107ce2-9357-4b37-8095-70d59fb84ba8",
   "metadata": {},
   "outputs": [
    {
     "name": "stdout",
     "output_type": "stream",
     "text": [
      "55\n"
     ]
    }
   ],
   "source": [
    "print(ans)"
   ]
  },
  {
   "cell_type": "code",
   "execution_count": 25,
   "id": "223baacf-15fe-4464-b1d2-55aed19c200b",
   "metadata": {},
   "outputs": [
    {
     "data": {
      "text/plain": [
       "[[3, 4, 1],\n",
       " [4, 5, 3],\n",
       " [3, 5, 4],\n",
       " [1, 3, 10],\n",
       " [1, 2, 12],\n",
       " [6, 7, 14],\n",
       " [2, 7, 15],\n",
       " [4, 6, 120],\n",
       " [2, 6, 160]]"
      ]
     },
     "execution_count": 25,
     "metadata": {},
     "output_type": "execute_result"
    }
   ],
   "source": [
    "ABCm_s"
   ]
  },
  {
   "cell_type": "code",
   "execution_count": null,
   "id": "8c2d7a17-2cfb-4456-8580-7a8a950edfcd",
   "metadata": {},
   "outputs": [],
   "source": []
  }
 ],
 "metadata": {
  "kernelspec": {
   "display_name": "Python 3",
   "language": "python",
   "name": "python3"
  },
  "language_info": {
   "codemirror_mode": {
    "name": "ipython",
    "version": 3
   },
   "file_extension": ".py",
   "mimetype": "text/x-python",
   "name": "python",
   "nbconvert_exporter": "python",
   "pygments_lexer": "ipython3",
   "version": "3.6.13"
  }
 },
 "nbformat": 4,
 "nbformat_minor": 5
}
