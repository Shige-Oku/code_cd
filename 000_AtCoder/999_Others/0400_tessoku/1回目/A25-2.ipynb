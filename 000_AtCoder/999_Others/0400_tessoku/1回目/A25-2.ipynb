{
 "cells": [
  {
   "cell_type": "code",
   "execution_count": 1,
   "id": "44606693-f2b1-49c5-8158-5a01f696a3e1",
   "metadata": {},
   "outputs": [
    {
     "name": "stdin",
     "output_type": "stream",
     "text": [
      " 4 8\n"
     ]
    }
   ],
   "source": [
    "H, W = map(int, input().split())"
   ]
  },
  {
   "cell_type": "code",
   "execution_count": 3,
   "id": "d60e665a-0709-47fb-bca2-4f8c1bceceb7",
   "metadata": {},
   "outputs": [
    {
     "name": "stdin",
     "output_type": "stream",
     "text": [
      " .....#..\n",
      " ........\n",
      " ..#...#.\n",
      " #.......\n"
     ]
    }
   ],
   "source": [
    "Cn = ['#' + input() + '#' for _ in range(H)]"
   ]
  },
  {
   "cell_type": "code",
   "execution_count": 6,
   "id": "37ae7779-6522-49d7-b08b-99420d5e35fe",
   "metadata": {},
   "outputs": [],
   "source": [
    "Cn.insert(0, '#' * (W+2))\n",
    "Cn.append('#' * (W+2))"
   ]
  },
  {
   "cell_type": "code",
   "execution_count": 75,
   "id": "8998e02b-c932-49b5-a3a0-141606c655a7",
   "metadata": {},
   "outputs": [],
   "source": [
    "dp = [[0] * (W+2) for _ in range(H+2)]\n",
    "dp[1][1] = 1\n",
    "for h in range(1, H+1):\n",
    "    for w in range(1, W+1):\n",
    "        if h == w == 1:\n",
    "            continue\n",
    "        if Cn[h][w] == '#':\n",
    "            continue\n",
    "        if Cn[h][w-1] == '.':\n",
    "            dp[h][w] += dp[h][w-1]\n",
    "        if Cn[h-1][w] == '.':\n",
    "            dp[h][w] += dp[h-1][w]\n"
   ]
  },
  {
   "cell_type": "code",
   "execution_count": 76,
   "id": "b7468d73-4bca-4067-bed8-fb082521ea97",
   "metadata": {},
   "outputs": [
    {
     "name": "stdout",
     "output_type": "stream",
     "text": [
      "35\n"
     ]
    }
   ],
   "source": [
    "print(dp[H][W])"
   ]
  },
  {
   "cell_type": "code",
   "execution_count": 73,
   "id": "3022784c-a87f-4a8a-a150-d203ebdde835",
   "metadata": {},
   "outputs": [
    {
     "data": {
      "text/plain": [
       "(4, 8)"
      ]
     },
     "execution_count": 73,
     "metadata": {},
     "output_type": "execute_result"
    }
   ],
   "source": [
    "h, w"
   ]
  },
  {
   "cell_type": "code",
   "execution_count": 74,
   "id": "aa528525-a663-4a02-a3b5-c5f3a8f80750",
   "metadata": {},
   "outputs": [
    {
     "data": {
      "text/plain": [
       "[[0, 0, 0, 0, 0, 0, 0, 0, 0, 0],\n",
       " [0, 0, 1, 2, 3, 4, 0, 0, 1, 0],\n",
       " [0, 1, 4, 8, 13, 19, 20, 22, 25, 0],\n",
       " [0, 2, 8, 0, 14, 35, 57, 0, 26, 0],\n",
       " [0, 0, 9, 10, 26, 63, 122, 123, 151, 0],\n",
       " [0, 0, 0, 0, 0, 0, 0, 0, 0, 0]]"
      ]
     },
     "execution_count": 74,
     "metadata": {},
     "output_type": "execute_result"
    }
   ],
   "source": [
    "dp"
   ]
  },
  {
   "cell_type": "code",
   "execution_count": null,
   "id": "d15bfd8b-5a50-40a4-a834-b5f9d6525307",
   "metadata": {},
   "outputs": [],
   "source": []
  },
  {
   "cell_type": "code",
   "execution_count": null,
   "id": "23dca2a6-7a2f-486d-8734-a5b7f32f12a9",
   "metadata": {},
   "outputs": [],
   "source": []
  }
 ],
 "metadata": {
  "kernelspec": {
   "display_name": "Python 3",
   "language": "python",
   "name": "python3"
  },
  "language_info": {
   "codemirror_mode": {
    "name": "ipython",
    "version": 3
   },
   "file_extension": ".py",
   "mimetype": "text/x-python",
   "name": "python",
   "nbconvert_exporter": "python",
   "pygments_lexer": "ipython3",
   "version": "3.6.13"
  }
 },
 "nbformat": 4,
 "nbformat_minor": 5
}
