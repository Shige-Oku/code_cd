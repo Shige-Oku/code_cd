{
 "cells": [
  {
   "cell_type": "code",
   "execution_count": 56,
   "id": "91217b48-5703-4f81-9273-0a39f1880084",
   "metadata": {},
   "outputs": [
    {
     "name": "stdin",
     "output_type": "stream",
     "text": [
      " 288\n"
     ]
    }
   ],
   "source": [
    "N = input()"
   ]
  },
  {
   "cell_type": "code",
   "execution_count": 57,
   "id": "a61f335e-9e57-4a19-b726-eaf7355d8744",
   "metadata": {},
   "outputs": [],
   "source": [
    "def keta1():\n",
    "    ret = 0\n",
    "    k = 10\n",
    "    q, m = divmod(int(N), k)\n",
    "    for i in range(1, 10):\n",
    "        ret += i * q\n",
    "        if i <= m:\n",
    "            ret += i\n",
    "    return ret"
   ]
  },
  {
   "cell_type": "code",
   "execution_count": 58,
   "id": "2c792a72-801b-4a8f-8602-96a08861b304",
   "metadata": {},
   "outputs": [],
   "source": [
    "def keta2(n):\n",
    "    ret = 0\n",
    "    q, m = divmod(int(N), 10**(n+1))\n",
    "    for i in range(1, 10):\n",
    "        if i < int(N[n]):\n",
    "            ret += i * q * 10**n + 10**n\n",
    "        elif i <= int(N[n]):\n",
    "            ret += i * q * 10**n + int(N) % 10**n + 1\n",
    "        else:\n",
    "            ret += i * q * 10**n\n",
    "    return ret"
   ]
  },
  {
   "cell_type": "code",
   "execution_count": 59,
   "id": "6f0ad673-0f7a-492d-aa41-d1d8346d25e2",
   "metadata": {},
   "outputs": [],
   "source": [
    "ans = 0\n",
    "for i in range(len(N)):\n",
    "    if i == 0:\n",
    "        ans += keta1()\n",
    "    else:\n",
    "        ans += keta2(i)"
   ]
  },
  {
   "cell_type": "code",
   "execution_count": 60,
   "id": "940a6e4a-582e-4cfb-ae77-6463e335dca8",
   "metadata": {},
   "outputs": [
    {
     "name": "stdout",
     "output_type": "stream",
     "text": [
      "3064\n"
     ]
    }
   ],
   "source": [
    "print(ans)"
   ]
  },
  {
   "cell_type": "code",
   "execution_count": 52,
   "id": "3d10bb51-e77a-410b-b027-7ab61a01e69f",
   "metadata": {},
   "outputs": [
    {
     "data": {
      "text/plain": [
       "10"
      ]
     },
     "execution_count": 52,
     "metadata": {},
     "output_type": "execute_result"
    }
   ],
   "source": [
    "ketaCount(0)"
   ]
  },
  {
   "cell_type": "code",
   "execution_count": 28,
   "id": "fe4592d2-078b-4092-a7d3-0f6ada8b684b",
   "metadata": {},
   "outputs": [],
   "source": [
    "def ketaCount(n):\n",
    "    ret = 0\n",
    "    k = 10**(n+1)\n",
    "    q, m = divmod(int(N), k)\n",
    "    for i in range(1, 10):\n",
    "        ret += i * q\n",
    "        if i <= m:\n",
    "            ret += i\n",
    "    return ret"
   ]
  },
  {
   "cell_type": "code",
   "execution_count": 134,
   "id": "214fab45-ee88-42b2-b630-40205a629f26",
   "metadata": {},
   "outputs": [],
   "source": [
    "def keCount(n):\n",
    "    ret = 0\n",
    "    k = 10**n\n",
    "    q, m = divmod(int(N), k)\n",
    "    if n == 1:\n",
    "        ret += q * 55 * 10**(n-1)\n",
    "        ret += int(N[-1]) * (int(N[-1])+1) // 2\n",
    "        return ret\n",
    "    print(ret)\n",
    "    if m == 0:\n",
    "        ret += q * 55 * 10**(n-1)\n",
    "    else:\n",
    "        ret += max(0, q-1) * 55 * 10**(n-1)\n",
    "    for i in range(1, int(N[-n])+1):\n",
    "        if i == int(N[-n]):\n",
    "            ret += m % (10**(n-1)) * i\n",
    "        else:\n",
    "            ret += 10**(n-1) * i\n",
    "        print(i, ret)\n",
    "    return ret"
   ]
  },
  {
   "cell_type": "code",
   "execution_count": 135,
   "id": "4cd00203-6985-4161-960d-b3aab0b0bbc6",
   "metadata": {},
   "outputs": [
    {
     "name": "stdout",
     "output_type": "stream",
     "text": [
      "0\n",
      "1 560\n",
      "2 580\n",
      "3 610\n",
      "4 650\n",
      "5 700\n",
      "6 760\n",
      "7 830\n",
      "8 894\n",
      "0\n",
      "1 100\n",
      "2 276\n"
     ]
    }
   ],
   "source": [
    "ans = 0\n",
    "for i in range(1, len(N)+1):\n",
    "    ans += keCount(i)"
   ]
  },
  {
   "cell_type": "code",
   "execution_count": 136,
   "id": "7c6d335e-ad2e-4bb1-a738-9c9e02df4605",
   "metadata": {},
   "outputs": [
    {
     "name": "stdout",
     "output_type": "stream",
     "text": [
      "2746\n"
     ]
    }
   ],
   "source": [
    "print(ans)"
   ]
  },
  {
   "cell_type": "code",
   "execution_count": 121,
   "id": "25734605-5d38-433f-b02d-d85d98989167",
   "metadata": {},
   "outputs": [
    {
     "name": "stdout",
     "output_type": "stream",
     "text": [
      "550\n",
      "1 560\n",
      "2 580\n",
      "3 610\n",
      "4 650\n",
      "5 700\n",
      "6 760\n",
      "7 830\n",
      "8 894\n",
      "0\n",
      "1 100\n",
      "2 276\n"
     ]
    },
    {
     "data": {
      "text/plain": [
       "(1521, 894, 276)"
      ]
     },
     "execution_count": 121,
     "metadata": {},
     "output_type": "execute_result"
    }
   ],
   "source": [
    "keCount(1), keCount(2), keCount(3)"
   ]
  },
  {
   "cell_type": "code",
   "execution_count": 137,
   "id": "a41dd0bb-3954-4b90-9858-96b1d8a79cdb",
   "metadata": {},
   "outputs": [
    {
     "name": "stdout",
     "output_type": "stream",
     "text": [
      "0\n",
      "1 100\n",
      "2 276\n"
     ]
    },
    {
     "data": {
      "text/plain": [
       "276"
      ]
     },
     "execution_count": 137,
     "metadata": {},
     "output_type": "execute_result"
    }
   ],
   "source": [
    "keCount(3)"
   ]
  },
  {
   "cell_type": "code",
   "execution_count": 27,
   "id": "4f764468-2496-4f82-b209-c9ae4b2b11e9",
   "metadata": {},
   "outputs": [
    {
     "data": {
      "text/plain": [
       "1540"
      ]
     },
     "execution_count": 27,
     "metadata": {},
     "output_type": "execute_result"
    }
   ],
   "source": [
    "55*28"
   ]
  },
  {
   "cell_type": "code",
   "execution_count": 40,
   "id": "ee4971de-95d4-4caf-b29b-2a3dd3f6fec9",
   "metadata": {},
   "outputs": [
    {
     "data": {
      "text/plain": [
       "240"
      ]
     },
     "execution_count": 40,
     "metadata": {},
     "output_type": "execute_result"
    }
   ],
   "source": [
    "ans-2826"
   ]
  },
  {
   "cell_type": "code",
   "execution_count": 38,
   "id": "390ce369-10f4-480a-b399-b4df600e57c8",
   "metadata": {},
   "outputs": [
    {
     "name": "stdout",
     "output_type": "stream",
     "text": [
      "1 8 1576\n",
      "2 8 3036\n",
      "3 2 3066\n"
     ]
    }
   ],
   "source": [
    "ans = 0\n",
    "k = 1\n",
    "ni = int(N)\n",
    "for i, n in enumerate(N[::-1], 1):\n",
    "    k *= 10\n",
    "    if i == 1:\n",
    "        ans += (ni // k) * 55\n",
    "        ans += int(n) * (int(n)+1) // 2\n",
    "    else:\n",
    "        ans += (ni // k) * 55 * 10\n",
    "        ans += int(n) * (int(n)+1) // 2 * 10\n",
    "    print(i, n, ans)"
   ]
  },
  {
   "cell_type": "code",
   "execution_count": null,
   "id": "fce36697-f989-4aaa-9909-2035a2ceaaa2",
   "metadata": {},
   "outputs": [],
   "source": []
  }
 ],
 "metadata": {
  "kernelspec": {
   "display_name": "Python 3",
   "language": "python",
   "name": "python3"
  },
  "language_info": {
   "codemirror_mode": {
    "name": "ipython",
    "version": 3
   },
   "file_extension": ".py",
   "mimetype": "text/x-python",
   "name": "python",
   "nbconvert_exporter": "python",
   "pygments_lexer": "ipython3",
   "version": "3.6.13"
  }
 },
 "nbformat": 4,
 "nbformat_minor": 5
}
