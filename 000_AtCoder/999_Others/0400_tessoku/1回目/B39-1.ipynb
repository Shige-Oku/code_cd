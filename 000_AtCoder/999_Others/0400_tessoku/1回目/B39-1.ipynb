{
 "cells": [
  {
   "cell_type": "code",
   "execution_count": 1,
   "id": "dfdd3159-8135-4436-b5c9-6b52172ccd7f",
   "metadata": {},
   "outputs": [
    {
     "name": "stdin",
     "output_type": "stream",
     "text": [
      " 5 4\n"
     ]
    }
   ],
   "source": [
    "N, D = map(int, input().split())"
   ]
  },
  {
   "cell_type": "code",
   "execution_count": 5,
   "id": "7860d157-26da-49e1-80ff-0adbd80ca7dc",
   "metadata": {},
   "outputs": [
    {
     "name": "stdin",
     "output_type": "stream",
     "text": [
      " 1 1\n",
      " 2 4\n",
      " 2 3\n",
      " 3 4\n",
      " 4 2\n"
     ]
    }
   ],
   "source": [
    "XYn = [list(map(int, input().split())) for _ in range(N)]"
   ]
  },
  {
   "cell_type": "code",
   "execution_count": 25,
   "id": "122e9235-07c0-459b-979c-d72241120d48",
   "metadata": {},
   "outputs": [],
   "source": [
    "XYn_s = sorted(XYn, key=lambda x : (-x[1], x[0]))"
   ]
  },
  {
   "cell_type": "code",
   "execution_count": 40,
   "id": "6bb13867-a006-44f7-982d-26fb6a70f7f4",
   "metadata": {},
   "outputs": [],
   "source": [
    "work = [False] * (N+1)\n",
    "ans = 0\n",
    "for d in range(1, D+1):\n",
    "    for i, (X, Y) in enumerate(XYn_s, 1):\n",
    "        if work[i]:\n",
    "            continue\n",
    "        if X > d:\n",
    "            continue\n",
    "        ans += Y\n",
    "        work[i] = True\n",
    "        break\n"
   ]
  },
  {
   "cell_type": "code",
   "execution_count": 41,
   "id": "567df823-eb24-493a-9c9b-84923ca57539",
   "metadata": {},
   "outputs": [
    {
     "name": "stdout",
     "output_type": "stream",
     "text": [
      "12\n"
     ]
    }
   ],
   "source": [
    "print(ans)"
   ]
  },
  {
   "cell_type": "code",
   "execution_count": 42,
   "id": "af8509e7-30e5-40b4-a395-ab380dccd8ea",
   "metadata": {},
   "outputs": [
    {
     "data": {
      "text/plain": [
       "[False, True, True, True, False, True]"
      ]
     },
     "execution_count": 42,
     "metadata": {},
     "output_type": "execute_result"
    }
   ],
   "source": [
    "work"
   ]
  },
  {
   "cell_type": "code",
   "execution_count": 37,
   "id": "11c66dfd-1a8e-4c37-964a-9faca83c3ad5",
   "metadata": {},
   "outputs": [
    {
     "data": {
      "text/plain": [
       "[[2, 4], [3, 4], [2, 3], [4, 2], [1, 1]]"
      ]
     },
     "execution_count": 37,
     "metadata": {},
     "output_type": "execute_result"
    }
   ],
   "source": [
    "XYn_s"
   ]
  },
  {
   "cell_type": "code",
   "execution_count": null,
   "id": "b1d01c7b-a824-4afc-b2de-318449adad3b",
   "metadata": {},
   "outputs": [],
   "source": []
  }
 ],
 "metadata": {
  "kernelspec": {
   "display_name": "Python 3",
   "language": "python",
   "name": "python3"
  },
  "language_info": {
   "codemirror_mode": {
    "name": "ipython",
    "version": 3
   },
   "file_extension": ".py",
   "mimetype": "text/x-python",
   "name": "python",
   "nbconvert_exporter": "python",
   "pygments_lexer": "ipython3",
   "version": "3.6.13"
  }
 },
 "nbformat": 4,
 "nbformat_minor": 5
}
