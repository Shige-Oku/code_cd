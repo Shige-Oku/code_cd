{
 "cells": [
  {
   "cell_type": "code",
   "execution_count": 1,
   "id": "2ea2de10-dac4-4a55-9ef5-c1bb3822c674",
   "metadata": {},
   "outputs": [
    {
     "name": "stdin",
     "output_type": "stream",
     "text": [
      " 6\n"
     ]
    }
   ],
   "source": [
    "N = int(input())"
   ]
  },
  {
   "cell_type": "code",
   "execution_count": 2,
   "id": "d4ba30cb-a526-4047-b361-8eddb8e8fc17",
   "metadata": {},
   "outputs": [
    {
     "name": "stdin",
     "output_type": "stream",
     "text": [
      " 6 2 5 3 1 4\n"
     ]
    }
   ],
   "source": [
    "An = list(map(int, input().split()))"
   ]
  },
  {
   "cell_type": "code",
   "execution_count": 29,
   "id": "f02f66b0-dd0a-46f8-9acd-0faf03aef03d",
   "metadata": {},
   "outputs": [
    {
     "name": "stdout",
     "output_type": "stream",
     "text": [
      "-1\n",
      "1\n",
      "1\n",
      "3\n",
      "4\n",
      "3\n"
     ]
    }
   ],
   "source": [
    "from collections import deque\n",
    "q = deque()\n",
    "for i, A in enumerate(An, 1):\n",
    "    while q:\n",
    "        v, d = q[-1]\n",
    "        if A < v:\n",
    "            print(d)\n",
    "            q.append((A, i))\n",
    "            break\n",
    "        q.pop()\n",
    "    else:\n",
    "        print(-1)\n",
    "        q.append((A, i))\n"
   ]
  },
  {
   "cell_type": "code",
   "execution_count": 12,
   "id": "c26be646-0069-49db-94c0-93982f0a158b",
   "metadata": {},
   "outputs": [],
   "source": [
    "# セグメント木\n",
    "import sys\n",
    "sys.setrecursionlimit(10**7)\n",
    "class SegmentTree():\n",
    "\t# 要素 dat の初期化を行う（最初は全部ゼロ）\n",
    "\tdef __init__(self, n):\n",
    "\t\tself.size = 1\n",
    "\t\twhile self.size < n:\n",
    "\t\t\tself.size *= 2\n",
    "\t\tself.dat = [0] * (self.size * 2)\n",
    "\t\n",
    "\t# クエリ 1 に対する処理\n",
    "\tdef update(self, pos, x):\n",
    "\t\tpos += self.size - 1\n",
    "\t\tself.dat[pos] = x\n",
    "\t\twhile pos >= 2:\n",
    "\t\t\tpos //= 2\n",
    "\t\t\tself.dat[pos] = max(self.dat[pos * 2], self.dat[pos * 2 + 1])\n",
    "\t\n",
    "\t# クエリ 2 に対する処理\n",
    "\t# u は現在のセル番号、[a, b) はセルに対応する半開区間、[l, r) は求めたい半開区間\n",
    "\tdef query(self, l, r, a, b, u):\n",
    "\t\tif r <= a or b <= l:\n",
    "            # 一切含まれない場合\n",
    "\t\t\treturn -100000\n",
    "\t\tif l <= a and b <= r:\n",
    "            # 完全に含まれる場合\n",
    "\t\t\treturn self.dat[u]\n",
    "\t\tm = (a + b) // 2\n",
    "\t\tanswerL = self.query(l, r, a, m, u * 2)\n",
    "\t\tanswerR = self.query(l, r, m, b, u * 2 + 1)\n",
    "\t\treturn max(answerL, answerR)\n"
   ]
  },
  {
   "cell_type": "code",
   "execution_count": 13,
   "id": "e6ef35a4-6bcd-46fb-bc24-ab9142a9d02a",
   "metadata": {},
   "outputs": [],
   "source": [
    "p = [0] * (N+1)\n",
    "for i, A in enumerate(An, 1):\n",
    "    p[A] = i"
   ]
  },
  {
   "cell_type": "code",
   "execution_count": 20,
   "id": "50751555-945c-4820-bc9e-3c8d8d1fa748",
   "metadata": {},
   "outputs": [
    {
     "name": "stdout",
     "output_type": "stream",
     "text": [
      "-1 -100000\n",
      "-1 0\n",
      "2 2\n",
      "2 2\n",
      "4 4\n",
      "5 5\n"
     ]
    }
   ],
   "source": [
    "sg = SegmentTree(N)\n",
    "for i, A in enumerate(An, 1):\n",
    "    d = sg.query(1, i, 1, sg.size+1, 1)\n",
    "    print(-1 if d <= 0 else d, d)\n",
    "    sg.update(A, i)"
   ]
  },
  {
   "cell_type": "code",
   "execution_count": 21,
   "id": "514f85f2-3c27-40d6-85ae-9fd8bf02b989",
   "metadata": {},
   "outputs": [
    {
     "data": {
      "text/plain": [
       "[0, 5, 2, 4, 6, 3, 1]"
      ]
     },
     "execution_count": 21,
     "metadata": {},
     "output_type": "execute_result"
    }
   ],
   "source": [
    "p"
   ]
  },
  {
   "cell_type": "code",
   "execution_count": 22,
   "id": "e6b736bf-391a-46ec-906d-79cf372615e6",
   "metadata": {},
   "outputs": [
    {
     "data": {
      "text/plain": [
       "[0, 6, 6, 3, 5, 6, 3, 0, 5, 2, 4, 6, 3, 1, 0, 0]"
      ]
     },
     "execution_count": 22,
     "metadata": {},
     "output_type": "execute_result"
    }
   ],
   "source": [
    "sg.dat"
   ]
  },
  {
   "cell_type": "code",
   "execution_count": null,
   "id": "62ce6efa-ac1c-4268-9bc5-b70833e745dd",
   "metadata": {},
   "outputs": [],
   "source": []
  }
 ],
 "metadata": {
  "kernelspec": {
   "display_name": "Python 3",
   "language": "python",
   "name": "python3"
  },
  "language_info": {
   "codemirror_mode": {
    "name": "ipython",
    "version": 3
   },
   "file_extension": ".py",
   "mimetype": "text/x-python",
   "name": "python",
   "nbconvert_exporter": "python",
   "pygments_lexer": "ipython3",
   "version": "3.6.13"
  }
 },
 "nbformat": 4,
 "nbformat_minor": 5
}
