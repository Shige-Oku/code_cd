{
 "cells": [
  {
   "cell_type": "code",
   "execution_count": 1,
   "id": "c224ae36-7002-4d18-bd8f-113b92dd76cc",
   "metadata": {},
   "outputs": [
    {
     "name": "stdin",
     "output_type": "stream",
     "text": [
      " 3 -4 1\n"
     ]
    }
   ],
   "source": [
    "A, B, C = map(int, input().split())"
   ]
  },
  {
   "cell_type": "code",
   "execution_count": 2,
   "id": "1d226ab0-25dd-4428-af03-6d1ced99524f",
   "metadata": {},
   "outputs": [],
   "source": [
    "p, m = 0, 0\n",
    "for n in (A, B, C):\n",
    "    if n >= 0:\n",
    "        p += n\n",
    "    else:\n",
    "        m -= n"
   ]
  },
  {
   "cell_type": "code",
   "execution_count": 5,
   "id": "9e542f02-35fe-4284-9d6e-3cc763549465",
   "metadata": {},
   "outputs": [
    {
     "name": "stdout",
     "output_type": "stream",
     "text": [
      "Yes\n"
     ]
    }
   ],
   "source": [
    "print('Yes' if p == m else 'No')"
   ]
  },
  {
   "cell_type": "code",
   "execution_count": 6,
   "id": "d588b2b7-4995-4c39-bf70-3cf26a597705",
   "metadata": {},
   "outputs": [
    {
     "name": "stdout",
     "output_type": "stream",
     "text": [
      "Yes\n"
     ]
    }
   ],
   "source": [
    "print('Yes' if A+B+C==0 else 'No')"
   ]
  },
  {
   "cell_type": "code",
   "execution_count": null,
   "id": "ec9ef773-dc54-4fd4-afec-70a25d9b2bc8",
   "metadata": {},
   "outputs": [],
   "source": []
  }
 ],
 "metadata": {
  "kernelspec": {
   "display_name": "Python 3",
   "language": "python",
   "name": "python3"
  },
  "language_info": {
   "codemirror_mode": {
    "name": "ipython",
    "version": 3
   },
   "file_extension": ".py",
   "mimetype": "text/x-python",
   "name": "python",
   "nbconvert_exporter": "python",
   "pygments_lexer": "ipython3",
   "version": "3.6.13"
  }
 },
 "nbformat": 4,
 "nbformat_minor": 5
}
