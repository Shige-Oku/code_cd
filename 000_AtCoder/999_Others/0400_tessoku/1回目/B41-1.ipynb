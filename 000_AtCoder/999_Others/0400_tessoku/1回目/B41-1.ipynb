{
 "cells": [
  {
   "cell_type": "code",
   "execution_count": 18,
   "id": "94d6e824-e643-4f8f-b33d-9b41de5381e9",
   "metadata": {},
   "outputs": [
    {
     "name": "stdin",
     "output_type": "stream",
     "text": [
      " 1 1\n"
     ]
    }
   ],
   "source": [
    "X, Y = map(int, input().split())"
   ]
  },
  {
   "cell_type": "code",
   "execution_count": 19,
   "id": "683ae9c1-3bf0-44b1-9fba-426c837603b2",
   "metadata": {},
   "outputs": [],
   "source": [
    "op = []\n",
    "x, y = X, Y\n",
    "while x > 1 or y > 1:\n",
    "    op.append((x, y))\n",
    "    if x > y:\n",
    "        x -= y\n",
    "    else:\n",
    "        y -= x\n"
   ]
  },
  {
   "cell_type": "code",
   "execution_count": 20,
   "id": "e2910cd6-3272-4bde-a291-c33efba4e5b0",
   "metadata": {},
   "outputs": [
    {
     "name": "stdout",
     "output_type": "stream",
     "text": [
      "0\n"
     ]
    }
   ],
   "source": [
    "print(len(op))\n",
    "for x, y in op[::-1]:\n",
    "    print(x, y)"
   ]
  },
  {
   "cell_type": "code",
   "execution_count": null,
   "id": "cfe9bf0a-5846-4c3b-8b92-cdea3170df51",
   "metadata": {},
   "outputs": [],
   "source": []
  }
 ],
 "metadata": {
  "kernelspec": {
   "display_name": "Python 3",
   "language": "python",
   "name": "python3"
  },
  "language_info": {
   "codemirror_mode": {
    "name": "ipython",
    "version": 3
   },
   "file_extension": ".py",
   "mimetype": "text/x-python",
   "name": "python",
   "nbconvert_exporter": "python",
   "pygments_lexer": "ipython3",
   "version": "3.6.13"
  }
 },
 "nbformat": 4,
 "nbformat_minor": 5
}
