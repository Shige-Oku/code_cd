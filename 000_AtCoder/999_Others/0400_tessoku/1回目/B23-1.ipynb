{
 "cells": [
  {
   "cell_type": "code",
   "execution_count": 1,
   "id": "01b9d7cf-8553-433c-ac62-70103c3148b2",
   "metadata": {},
   "outputs": [
    {
     "name": "stdin",
     "output_type": "stream",
     "text": [
      " 4\n"
     ]
    }
   ],
   "source": [
    "N = int(input())"
   ]
  },
  {
   "cell_type": "code",
   "execution_count": 2,
   "id": "ccd6246f-2468-419a-9160-3f638fb39461",
   "metadata": {},
   "outputs": [
    {
     "name": "stdin",
     "output_type": "stream",
     "text": [
      " 0 0\n",
      " 0 1\n",
      " 1 0\n",
      " 1 1\n"
     ]
    }
   ],
   "source": [
    "XYn = [list(map(int, input().split())) for _ in range(N)]"
   ]
  },
  {
   "cell_type": "code",
   "execution_count": 96,
   "id": "18e78f60-3a1a-427b-a9f8-54254ddc6834",
   "metadata": {},
   "outputs": [],
   "source": [
    "def calcDist(p1, p2):\n",
    "    x1, y1 = XYn[p1]\n",
    "    x2, y2 = XYn[p2]\n",
    "    return ((x1-x2)**2 + (y1-y2)**2)**.5"
   ]
  },
  {
   "cell_type": "code",
   "execution_count": 97,
   "id": "d5d580c8-1a03-4ea2-8503-9188a3480fd6",
   "metadata": {},
   "outputs": [],
   "source": [
    "dp = [[10**20] * (N+1) for _ in range(2**N)]\n",
    "dp[0][0] = 0\n",
    "for i in range(2**N):\n",
    "    for j in range(N):\n",
    "#         if i != 0 and i & (1<<j) > 0:\n",
    "#             continue\n",
    "        for k in range(N):\n",
    "            if j == k:\n",
    "                continue\n",
    "            kb = 1 << k\n",
    "            if i & kb > 0:\n",
    "                continue\n",
    "            dist = calcDist(j, k)\n",
    "            dp[i|kb][k] = min(dp[i|kb][k], dp[i][j]+dist)\n"
   ]
  },
  {
   "cell_type": "code",
   "execution_count": 109,
   "id": "29d0a852-d9a6-4f5c-80d1-f41b42fd5abb",
   "metadata": {},
   "outputs": [
    {
     "name": "stdout",
     "output_type": "stream",
     "text": [
      "4.0\n"
     ]
    }
   ],
   "source": [
    "print(min(dp[-1]))"
   ]
  },
  {
   "cell_type": "code",
   "execution_count": 108,
   "id": "676fa5b4-5a27-44e3-b8c5-f00332dc18c5",
   "metadata": {},
   "outputs": [],
   "source": [
    "dp = [[10**20] * (N+1) for _ in range(2**N)]\n",
    "dp[0][0] = 0\n",
    "for i in range(2**N):\n",
    "    for j in range(N):\n",
    "        if dp[i][j] == 10**20:\n",
    "            continue\n",
    "        for k in range(N):\n",
    "            if j == k:\n",
    "                continue\n",
    "            if i >> k  & 1:\n",
    "                continue\n",
    "            dist = calcDist(j, k)\n",
    "            dp[i|(1<<k)][k] = min(dp[i|(1<<k)][k], dp[i][j]+dist)"
   ]
  },
  {
   "cell_type": "code",
   "execution_count": 106,
   "id": "378d7e9a-0005-4963-93bd-c7114e112d10",
   "metadata": {},
   "outputs": [
    {
     "data": {
      "text/plain": [
       "[2.0,\n",
       " 100000000000000000000,\n",
       " 100000000000000000000,\n",
       " 100000000000000000000,\n",
       " 100000000000000000000]"
      ]
     },
     "execution_count": 106,
     "metadata": {},
     "output_type": "execute_result"
    }
   ],
   "source": [
    "dp[3]"
   ]
  },
  {
   "cell_type": "code",
   "execution_count": 81,
   "id": "12de068d-7f42-4968-afc1-910f5b06c967",
   "metadata": {},
   "outputs": [
    {
     "data": {
      "text/plain": [
       "5"
      ]
     },
     "execution_count": 81,
     "metadata": {},
     "output_type": "execute_result"
    }
   ],
   "source": [
    "1 | 1<<2"
   ]
  },
  {
   "cell_type": "code",
   "execution_count": 40,
   "id": "c7624b33-b306-4a53-929d-59cbee7e5bec",
   "metadata": {},
   "outputs": [
    {
     "data": {
      "text/plain": [
       "1"
      ]
     },
     "execution_count": 40,
     "metadata": {},
     "output_type": "execute_result"
    }
   ],
   "source": [
    "1<<0"
   ]
  },
  {
   "cell_type": "code",
   "execution_count": 93,
   "id": "271b29e4-124c-48a8-bad0-9e920a3add68",
   "metadata": {},
   "outputs": [
    {
     "data": {
      "text/plain": [
       "[[0,\n",
       "  100000000000000000000,\n",
       "  100000000000000000000,\n",
       "  100000000000000000000,\n",
       "  100000000000000000000],\n",
       " [0.0,\n",
       "  100000000000000000000,\n",
       "  100000000000000000000,\n",
       "  100000000000000000000,\n",
       "  100000000000000000000],\n",
       " [100000000000000000000,\n",
       "  1.0,\n",
       "  100000000000000000000,\n",
       "  100000000000000000000,\n",
       "  100000000000000000000],\n",
       " [100000000000000000000,\n",
       "  100000000000000000000,\n",
       "  100000000000000000000,\n",
       "  100000000000000000000,\n",
       "  100000000000000000000],\n",
       " [100000000000000000000,\n",
       "  100000000000000000000,\n",
       "  1.0,\n",
       "  100000000000000000000,\n",
       "  100000000000000000000],\n",
       " [100000000000000000000,\n",
       "  100000000000000000000,\n",
       "  100000000000000000000,\n",
       "  100000000000000000000,\n",
       "  100000000000000000000],\n",
       " [100000000000000000000,\n",
       "  100000000000000000000,\n",
       "  100000000000000000000,\n",
       "  100000000000000000000,\n",
       "  100000000000000000000],\n",
       " [100000000000000000000,\n",
       "  100000000000000000000,\n",
       "  100000000000000000000,\n",
       "  100000000000000000000,\n",
       "  100000000000000000000],\n",
       " [100000000000000000000,\n",
       "  100000000000000000000,\n",
       "  100000000000000000000,\n",
       "  1.4142135623730951,\n",
       "  100000000000000000000],\n",
       " [100000000000000000000,\n",
       "  100000000000000000000,\n",
       "  100000000000000000000,\n",
       "  100000000000000000000,\n",
       "  100000000000000000000],\n",
       " [100000000000000000000,\n",
       "  100000000000000000000,\n",
       "  100000000000000000000,\n",
       "  100000000000000000000,\n",
       "  100000000000000000000],\n",
       " [100000000000000000000,\n",
       "  100000000000000000000,\n",
       "  100000000000000000000,\n",
       "  100000000000000000000,\n",
       "  100000000000000000000],\n",
       " [100000000000000000000,\n",
       "  100000000000000000000,\n",
       "  100000000000000000000,\n",
       "  100000000000000000000,\n",
       "  100000000000000000000],\n",
       " [100000000000000000000,\n",
       "  100000000000000000000,\n",
       "  100000000000000000000,\n",
       "  100000000000000000000,\n",
       "  100000000000000000000],\n",
       " [100000000000000000000,\n",
       "  100000000000000000000,\n",
       "  100000000000000000000,\n",
       "  100000000000000000000,\n",
       "  100000000000000000000],\n",
       " [100000000000000000000,\n",
       "  100000000000000000000,\n",
       "  100000000000000000000,\n",
       "  100000000000000000000,\n",
       "  100000000000000000000]]"
      ]
     },
     "execution_count": 93,
     "metadata": {},
     "output_type": "execute_result"
    }
   ],
   "source": [
    "dp"
   ]
  },
  {
   "cell_type": "code",
   "execution_count": null,
   "id": "db994832-08ce-4df6-9efd-f024bb8d7f9a",
   "metadata": {},
   "outputs": [],
   "source": [
    "1234567890"
   ]
  }
 ],
 "metadata": {
  "kernelspec": {
   "display_name": "Python 3",
   "language": "python",
   "name": "python3"
  },
  "language_info": {
   "codemirror_mode": {
    "name": "ipython",
    "version": 3
   },
   "file_extension": ".py",
   "mimetype": "text/x-python",
   "name": "python",
   "nbconvert_exporter": "python",
   "pygments_lexer": "ipython3",
   "version": "3.6.13"
  }
 },
 "nbformat": 4,
 "nbformat_minor": 5
}
