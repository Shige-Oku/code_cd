{
 "cells": [
  {
   "cell_type": "code",
   "execution_count": 146,
   "id": "902c4a26-b174-4cae-9f98-71f875bbed7a",
   "metadata": {},
   "outputs": [
    {
     "name": "stdin",
     "output_type": "stream",
     "text": [
      " 6\n"
     ]
    }
   ],
   "source": [
    "N = int(input())"
   ]
  },
  {
   "cell_type": "code",
   "execution_count": 147,
   "id": "97e82eca-ba78-418c-968a-28fcfde3fc27",
   "metadata": {},
   "outputs": [
    {
     "name": "stdin",
     "output_type": "stream",
     "text": [
      " 30 10 60 10 60 50\n"
     ]
    }
   ],
   "source": [
    "Hn = list(map(int, input().split()))"
   ]
  },
  {
   "cell_type": "code",
   "execution_count": 160,
   "id": "f9ebd869-3653-4aff-8c18-2ea5051f33f9",
   "metadata": {},
   "outputs": [],
   "source": [
    "dp = [10**10] * (N+1)\n",
    "dp[:2] = 0, 0\n",
    "for i in range(2, N+1):\n",
    "    dp[i] = min(dp[i], dp[i-1] + abs(Hn[i-2] - Hn[i-1]))\n",
    "    if 2 < i:\n",
    "        dp[i] = min(dp[i], dp[i-2] + abs(Hn[i-3] - Hn[i-1]))\n"
   ]
  },
  {
   "cell_type": "code",
   "execution_count": 161,
   "id": "7e4b9390-9b21-4681-99e5-a79857e2a585",
   "metadata": {},
   "outputs": [],
   "source": [
    "ans = [N, ]\n",
    "p = N\n",
    "while p != 1:\n",
    "    if dp[p] == dp[p-1] + abs(Hn[p-1] - Hn[p-2]):\n",
    "        p -= 1\n",
    "        ans.append(p)\n",
    "    else:\n",
    "        p -= 2\n",
    "        ans.append(p)"
   ]
  },
  {
   "cell_type": "code",
   "execution_count": 162,
   "id": "c1d255cd-36f7-438b-90fa-d4724e034178",
   "metadata": {},
   "outputs": [
    {
     "name": "stdout",
     "output_type": "stream",
     "text": [
      "4\n",
      "1 3 5 6\n"
     ]
    }
   ],
   "source": [
    "print(len(ans))\n",
    "print(*sorted(ans))"
   ]
  },
  {
   "cell_type": "code",
   "execution_count": 155,
   "id": "81c8235b-bd32-4ad2-b52d-398583edcb7e",
   "metadata": {},
   "outputs": [
    {
     "data": {
      "text/plain": [
       "([0, 0, 20, 70, 20, 70, 60], 6)"
      ]
     },
     "execution_count": 155,
     "metadata": {},
     "output_type": "execute_result"
    }
   ],
   "source": [
    "dp, i"
   ]
  },
  {
   "cell_type": "code",
   "execution_count": 135,
   "id": "16b48dd2-83cb-4d9c-9112-b7acbeaa2154",
   "metadata": {},
   "outputs": [
    {
     "data": {
      "text/plain": [
       "(-4, [4, 3, 2, 0, -2, -4], 4)"
      ]
     },
     "execution_count": 135,
     "metadata": {},
     "output_type": "execute_result"
    }
   ],
   "source": [
    "p, ans, N"
   ]
  },
  {
   "cell_type": "code",
   "execution_count": 74,
   "id": "d7a70dd9-a616-4528-8c33-fcc3826d41a5",
   "metadata": {},
   "outputs": [
    {
     "data": {
      "text/plain": [
       "10000000000"
      ]
     },
     "execution_count": 74,
     "metadata": {},
     "output_type": "execute_result"
    }
   ],
   "source": [
    "dp[5+1]"
   ]
  },
  {
   "cell_type": "code",
   "execution_count": null,
   "id": "a4a98244-d1a7-4c1e-a406-41cee982edd0",
   "metadata": {},
   "outputs": [],
   "source": []
  }
 ],
 "metadata": {
  "kernelspec": {
   "display_name": "Python 3",
   "language": "python",
   "name": "python3"
  },
  "language_info": {
   "codemirror_mode": {
    "name": "ipython",
    "version": 3
   },
   "file_extension": ".py",
   "mimetype": "text/x-python",
   "name": "python",
   "nbconvert_exporter": "python",
   "pygments_lexer": "ipython3",
   "version": "3.6.13"
  }
 },
 "nbformat": 4,
 "nbformat_minor": 5
}
