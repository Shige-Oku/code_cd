{
 "cells": [
  {
   "cell_type": "code",
   "execution_count": 9,
   "id": "7b6ee0bc-048e-4276-91b7-d119f707068d",
   "metadata": {},
   "outputs": [
    {
     "name": "stdin",
     "output_type": "stream",
     "text": [
      " 20 3\n"
     ]
    }
   ],
   "source": [
    "N, K = map(int, input().split())"
   ]
  },
  {
   "cell_type": "code",
   "execution_count": 10,
   "id": "9aaa0796-d6e2-47cd-8c9f-cbf4eb3e523f",
   "metadata": {},
   "outputs": [
    {
     "name": "stdin",
     "output_type": "stream",
     "text": [
      " 6 1 3\n"
     ]
    }
   ],
   "source": [
    "An = list(map(int, input().split()))"
   ]
  },
  {
   "cell_type": "code",
   "execution_count": 11,
   "id": "e7fe8c6b-32f2-48ae-9cd9-f63801217ee3",
   "metadata": {},
   "outputs": [],
   "source": [
    "dp = [False] * (N+1)\n",
    "for i in range(N+1):\n",
    "    for A in An:\n",
    "        if i < A:\n",
    "            continue\n",
    "        if not dp[i-A]:\n",
    "            dp[i] = True"
   ]
  },
  {
   "cell_type": "code",
   "execution_count": 12,
   "id": "a288e98a-4f39-45bc-a802-8019372ba5ef",
   "metadata": {},
   "outputs": [
    {
     "name": "stdout",
     "output_type": "stream",
     "text": [
      "Second\n"
     ]
    }
   ],
   "source": [
    "print('First' if dp[N] else 'Second')"
   ]
  },
  {
   "cell_type": "code",
   "execution_count": null,
   "id": "31eeddd7-5a2c-4e84-87ca-392b9d0a2227",
   "metadata": {},
   "outputs": [],
   "source": []
  }
 ],
 "metadata": {
  "kernelspec": {
   "display_name": "Python 3",
   "language": "python",
   "name": "python3"
  },
  "language_info": {
   "codemirror_mode": {
    "name": "ipython",
    "version": 3
   },
   "file_extension": ".py",
   "mimetype": "text/x-python",
   "name": "python",
   "nbconvert_exporter": "python",
   "pygments_lexer": "ipython3",
   "version": "3.6.13"
  }
 },
 "nbformat": 4,
 "nbformat_minor": 5
}
