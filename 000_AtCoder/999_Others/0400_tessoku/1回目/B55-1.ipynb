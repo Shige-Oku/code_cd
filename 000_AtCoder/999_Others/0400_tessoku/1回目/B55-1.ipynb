{
 "cells": [
  {
   "cell_type": "code",
   "execution_count": 1,
   "id": "f33f4ebf-a722-4924-a78d-a0b8140b0c7f",
   "metadata": {},
   "outputs": [
    {
     "name": "stdin",
     "output_type": "stream",
     "text": [
      " 5\n"
     ]
    }
   ],
   "source": [
    "Q = int(input())"
   ]
  },
  {
   "cell_type": "code",
   "execution_count": 2,
   "id": "3ba6c872-9f15-48b8-9482-d02fca7e3b45",
   "metadata": {},
   "outputs": [
    {
     "name": "stdin",
     "output_type": "stream",
     "text": [
      " 2 30\n",
      " 1 10\n",
      " 2 30\n",
      " 1 40\n",
      " 2 30\n"
     ]
    }
   ],
   "source": [
    "Qn = [list(map(int, input().split())) for _ in range(Q)]"
   ]
  },
  {
   "cell_type": "code",
   "execution_count": 4,
   "id": "ba7d926b-736e-4f01-8e04-4f7b2b6f32c4",
   "metadata": {},
   "outputs": [
    {
     "name": "stdout",
     "output_type": "stream",
     "text": [
      "-1\n",
      "20\n",
      "10\n"
     ]
    }
   ],
   "source": [
    "from bisect import bisect_left\n",
    "desk = []\n",
    "for op, v in Qn:\n",
    "    if op == 1:\n",
    "        p = bisect_left(desk, v)\n",
    "        desk.insert(p, v)\n",
    "    else:\n",
    "        if len(desk) == 0:\n",
    "            print(-1)\n",
    "            continue\n",
    "        mi = 10**10\n",
    "        p = bisect_left(desk, v)\n",
    "        l = desk[max(0, p-1):p+1]\n",
    "        for ll in l:\n",
    "            mi = min(mi, abs(ll-v))\n",
    "        print(mi)"
   ]
  },
  {
   "cell_type": "code",
   "execution_count": null,
   "id": "f5c124b4-9332-4bdb-98a8-9a50c22adb32",
   "metadata": {},
   "outputs": [],
   "source": []
  }
 ],
 "metadata": {
  "kernelspec": {
   "display_name": "Python 3",
   "language": "python",
   "name": "python3"
  },
  "language_info": {
   "codemirror_mode": {
    "name": "ipython",
    "version": 3
   },
   "file_extension": ".py",
   "mimetype": "text/x-python",
   "name": "python",
   "nbconvert_exporter": "python",
   "pygments_lexer": "ipython3",
   "version": "3.6.13"
  }
 },
 "nbformat": 4,
 "nbformat_minor": 5
}
