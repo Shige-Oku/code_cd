{
 "cells": [
  {
   "cell_type": "code",
   "execution_count": 1,
   "id": "e7027f7f-765c-4ae3-8947-91514adaa820",
   "metadata": {},
   "outputs": [
    {
     "name": "stdin",
     "output_type": "stream",
     "text": [
      " 7 3\n"
     ]
    }
   ],
   "source": [
    "N, Q = map(int, input().split())"
   ]
  },
  {
   "cell_type": "code",
   "execution_count": 2,
   "id": "5da49254-eecf-419c-8414-784a29050b14",
   "metadata": {},
   "outputs": [
    {
     "name": "stdin",
     "output_type": "stream",
     "text": [
      " abcbabc\n"
     ]
    }
   ],
   "source": [
    "S = input()"
   ]
  },
  {
   "cell_type": "code",
   "execution_count": 3,
   "id": "745ed1b1-c5b7-44c5-8400-46c749076654",
   "metadata": {},
   "outputs": [
    {
     "name": "stdin",
     "output_type": "stream",
     "text": [
      " 1 3 5 7\n",
      " 1 5 2 6\n",
      " 1 2 6 7\n"
     ]
    }
   ],
   "source": [
    "ABCDq = [list(map(int, input().split())) for _ in range(Q)]"
   ]
  },
  {
   "cell_type": "code",
   "execution_count": 62,
   "id": "eae8c192-435f-4f79-bc6b-4d70acb70d8a",
   "metadata": {},
   "outputs": [],
   "source": [
    "MOD = 10**9+7\n",
    "ha = [0] * (N+1)\n",
    "now = 0\n",
    "for i, s in enumerate(S, 1):\n",
    "    v = ord(s) - ord('a') + 1\n",
    "    now *= 100\n",
    "    now += v\n",
    "    now %= MOD\n",
    "    ha[i] = now\n"
   ]
  },
  {
   "cell_type": "code",
   "execution_count": 68,
   "id": "f6ef9cea-1f70-457a-9e84-3233a3ee0f52",
   "metadata": {},
   "outputs": [
    {
     "name": "stdout",
     "output_type": "stream",
     "text": [
      "Yes\n",
      "No\n",
      "No\n"
     ]
    }
   ],
   "source": [
    "for A, B, C, D in ABCDq:\n",
    "    ha1 = ha[B] - pow(100, B-A+1, MOD) * ha[A-1]\n",
    "    ha1 %= MOD\n",
    "    ha2 = ha[D] - pow(100, D-C+1, MOD) * ha[C-1]\n",
    "    ha2 %= MOD\n",
    "    if ha1 < 0:\n",
    "        ha1 += MOD\n",
    "    if ha2 < 0:\n",
    "        ha1 += MOD\n",
    "    print('Yes' if ha1 == ha2 else 'No')\n"
   ]
  },
  {
   "cell_type": "code",
   "execution_count": 66,
   "id": "c73290d0-6d82-4a28-a9bf-7677e11a3226",
   "metadata": {},
   "outputs": [
    {
     "data": {
      "text/plain": [
       "[0, 1, 102, 10203, 1020302, 102030201, 203020032, 302003063]"
      ]
     },
     "execution_count": 66,
     "metadata": {},
     "output_type": "execute_result"
    }
   ],
   "source": [
    "ha"
   ]
  },
  {
   "cell_type": "code",
   "execution_count": 30,
   "id": "75988471-0bae-481e-ac2e-4788e60a228d",
   "metadata": {},
   "outputs": [],
   "source": [
    "from decimal import Decimal\n",
    "ha = [Decimal(0)] * (N+1)\n",
    "for i, s in enumerate(S):\n",
    "    v = ord(s) - ord('a') + 1\n",
    "    ha[i] += Decimal(v)\n",
    "    ha[i+1] += ha[i] * Decimal(100)\n"
   ]
  },
  {
   "cell_type": "code",
   "execution_count": 31,
   "id": "78c218c6-d6cd-450b-bf24-6f411739ea8f",
   "metadata": {},
   "outputs": [
    {
     "name": "stdout",
     "output_type": "stream",
     "text": [
      "Yes\n",
      "No\n",
      "No\n"
     ]
    }
   ],
   "source": [
    "for A, B, C, D in ABCDq:\n",
    "    ha1 = ha[B-1] % 100**(B-A+1)\n",
    "    ha2 = ha[D-1] % 100**(D-C+1)\n",
    "    print('Yes' if ha1 == ha2 else 'No')\n"
   ]
  },
  {
   "cell_type": "code",
   "execution_count": 33,
   "id": "2efaf557-9ef6-4285-ab65-67fdea3aff24",
   "metadata": {},
   "outputs": [
    {
     "data": {
      "text/plain": [
       "decimal.Decimal"
      ]
     },
     "execution_count": 33,
     "metadata": {},
     "output_type": "execute_result"
    }
   ],
   "source": [
    "type(ha[0])"
   ]
  },
  {
   "cell_type": "code",
   "execution_count": 20,
   "id": "9f170686-f495-4a8e-81bb-553dc26f574b",
   "metadata": {},
   "outputs": [
    {
     "data": {
      "text/plain": [
       "[1, 102, 10203, 1020302, 102030201, 203020032, 302003063, 200306090]"
      ]
     },
     "execution_count": 20,
     "metadata": {},
     "output_type": "execute_result"
    }
   ],
   "source": [
    "ha"
   ]
  },
  {
   "cell_type": "code",
   "execution_count": null,
   "id": "0dfcfad9-d906-4bed-ac72-35adec0ac576",
   "metadata": {},
   "outputs": [],
   "source": []
  },
  {
   "cell_type": "code",
   "execution_count": 4,
   "id": "55fe38ed-c01a-42a1-856f-e18387b92b31",
   "metadata": {},
   "outputs": [
    {
     "name": "stdout",
     "output_type": "stream",
     "text": [
      "Yes\n",
      "No\n",
      "No\n"
     ]
    }
   ],
   "source": [
    "for A, B, C ,D in ABCDq:\n",
    "    if S[A-1:B] == S[C-1:D]:\n",
    "        print('Yes')\n",
    "    else:\n",
    "        print('No')"
   ]
  },
  {
   "cell_type": "code",
   "execution_count": 6,
   "id": "ed23f711-7690-4905-85e2-fbc9dfa4539c",
   "metadata": {},
   "outputs": [
    {
     "data": {
      "text/plain": [
       "(97, 122)"
      ]
     },
     "execution_count": 6,
     "metadata": {},
     "output_type": "execute_result"
    }
   ],
   "source": [
    "ord('a'), ord('z')"
   ]
  },
  {
   "cell_type": "code",
   "execution_count": null,
   "id": "d5ac5dba-e70f-40b2-b55a-63e9090c066a",
   "metadata": {},
   "outputs": [],
   "source": []
  }
 ],
 "metadata": {
  "kernelspec": {
   "display_name": "Python 3",
   "language": "python",
   "name": "python3"
  },
  "language_info": {
   "codemirror_mode": {
    "name": "ipython",
    "version": 3
   },
   "file_extension": ".py",
   "mimetype": "text/x-python",
   "name": "python",
   "nbconvert_exporter": "python",
   "pygments_lexer": "ipython3",
   "version": "3.6.13"
  }
 },
 "nbformat": 4,
 "nbformat_minor": 5
}
