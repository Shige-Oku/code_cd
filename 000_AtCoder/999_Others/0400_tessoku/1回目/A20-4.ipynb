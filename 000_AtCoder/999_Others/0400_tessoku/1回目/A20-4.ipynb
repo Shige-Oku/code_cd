{
 "cells": [
  {
   "cell_type": "code",
   "execution_count": 19,
   "id": "eb1bc756-1d65-48ca-a2d3-00e0aec1dfd7",
   "metadata": {},
   "outputs": [
    {
     "name": "stdin",
     "output_type": "stream",
     "text": [
      " tokyo\n"
     ]
    }
   ],
   "source": [
    "S = input()"
   ]
  },
  {
   "cell_type": "code",
   "execution_count": 20,
   "id": "42db0fc6-5c3b-442b-b7a3-a2162b5a1fdf",
   "metadata": {},
   "outputs": [
    {
     "name": "stdin",
     "output_type": "stream",
     "text": [
      " kyoto\n"
     ]
    }
   ],
   "source": [
    "T = input()"
   ]
  },
  {
   "cell_type": "code",
   "execution_count": 23,
   "id": "879965a0-16fa-44a1-b610-23228d0eaebd",
   "metadata": {},
   "outputs": [],
   "source": [
    "dp = [[0] * (len(T)+1) for _ in range(len(S)+1)]\n",
    "for i, s in enumerate(S, 1):\n",
    "    for j, t in enumerate(T, 1):\n",
    "        dp[i][j] = max(dp[i][j], dp[i-1][j], dp[i][j-1])\n",
    "        if s == t:\n",
    "            dp[i][j] = max(dp[i][j], dp[i-1][j-1]+1)\n",
    "            "
   ]
  },
  {
   "cell_type": "code",
   "execution_count": 24,
   "id": "d740c519-3359-41d4-a34d-341e37e9895d",
   "metadata": {},
   "outputs": [
    {
     "name": "stdout",
     "output_type": "stream",
     "text": [
      "3\n"
     ]
    }
   ],
   "source": [
    "print(dp[len(S)][len(T)])"
   ]
  },
  {
   "cell_type": "code",
   "execution_count": 18,
   "id": "b22ea47d-dcfd-4655-a8d5-3feafb4d1b7e",
   "metadata": {},
   "outputs": [
    {
     "data": {
      "text/plain": [
       "[[0, 0, 0, 0, 0, 0, 0, 0],\n",
       " [0, 1, 1, 1, 1, 1, 1, 1],\n",
       " [0, 1, 1, 1, 1, 1, 2, 2],\n",
       " [0, 1, 1, 2, 2, 2, 2, 2],\n",
       " [0, 1, 1, 2, 2, 3, 3, 3],\n",
       " [0, 1, 1, 2, 2, 3, 3, 3],\n",
       " [0, 1, 1, 2, 2, 3, 3, 3],\n",
       " [0, 0, 0, 0, 0, 0, 0, 0]]"
      ]
     },
     "execution_count": 18,
     "metadata": {},
     "output_type": "execute_result"
    }
   ],
   "source": [
    "dp"
   ]
  },
  {
   "cell_type": "code",
   "execution_count": null,
   "id": "207c0c85-a905-495c-a94c-49bd4facd1c3",
   "metadata": {},
   "outputs": [],
   "source": []
  }
 ],
 "metadata": {
  "kernelspec": {
   "display_name": "Python 3",
   "language": "python",
   "name": "python3"
  },
  "language_info": {
   "codemirror_mode": {
    "name": "ipython",
    "version": 3
   },
   "file_extension": ".py",
   "mimetype": "text/x-python",
   "name": "python",
   "nbconvert_exporter": "python",
   "pygments_lexer": "ipython3",
   "version": "3.6.13"
  }
 },
 "nbformat": 4,
 "nbformat_minor": 5
}
