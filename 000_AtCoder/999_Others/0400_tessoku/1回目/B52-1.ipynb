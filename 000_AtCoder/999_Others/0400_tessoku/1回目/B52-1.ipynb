{
 "cells": [
  {
   "cell_type": "code",
   "execution_count": 1,
   "id": "d3e81881-f911-4474-af0d-d360c7a37678",
   "metadata": {},
   "outputs": [
    {
     "name": "stdin",
     "output_type": "stream",
     "text": [
      " 5 3\n"
     ]
    }
   ],
   "source": [
    "N, X = map(int, input().split())"
   ]
  },
  {
   "cell_type": "code",
   "execution_count": 2,
   "id": "7df595ba-6cc9-43cd-a2fd-2fdaa1086d5c",
   "metadata": {},
   "outputs": [
    {
     "name": "stdin",
     "output_type": "stream",
     "text": [
      " #...#\n"
     ]
    }
   ],
   "source": [
    "A = input()"
   ]
  },
  {
   "cell_type": "code",
   "execution_count": 10,
   "id": "bb34ed39-c7be-461a-9771-52f3bb9e6847",
   "metadata": {},
   "outputs": [],
   "source": [
    "from collections import deque\n",
    "ans = list(A)\n",
    "q = deque()\n",
    "q.append(X-1)\n",
    "ans[X-1] = '@'\n",
    "while q:\n",
    "    p = q.popleft()\n",
    "    if p > 0 and ans[p-1] == '.':\n",
    "        ans[p-1] = '@'\n",
    "        q.append(p-1)\n",
    "    if p < N-1 and ans[p+1] == '.':\n",
    "        ans[p+1] = '@'\n",
    "        q.append(p+1)\n"
   ]
  },
  {
   "cell_type": "code",
   "execution_count": 12,
   "id": "59855340-1667-470a-b876-5cf3a8f63e75",
   "metadata": {},
   "outputs": [
    {
     "name": "stdout",
     "output_type": "stream",
     "text": [
      "#@@@#\n"
     ]
    }
   ],
   "source": [
    "print(''.join(ans))"
   ]
  },
  {
   "cell_type": "code",
   "execution_count": null,
   "id": "008348b0-90ce-475f-b5be-df47d03f13b3",
   "metadata": {},
   "outputs": [],
   "source": []
  }
 ],
 "metadata": {
  "kernelspec": {
   "display_name": "Python 3",
   "language": "python",
   "name": "python3"
  },
  "language_info": {
   "codemirror_mode": {
    "name": "ipython",
    "version": 3
   },
   "file_extension": ".py",
   "mimetype": "text/x-python",
   "name": "python",
   "nbconvert_exporter": "python",
   "pygments_lexer": "ipython3",
   "version": "3.6.13"
  }
 },
 "nbformat": 4,
 "nbformat_minor": 5
}
