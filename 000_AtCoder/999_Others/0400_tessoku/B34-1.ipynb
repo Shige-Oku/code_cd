{
 "cells": [
  {
   "cell_type": "code",
   "execution_count": 1,
   "id": "ea85a38a-781d-4573-b572-9c940f0895fd",
   "metadata": {},
   "outputs": [
    {
     "name": "stdin",
     "output_type": "stream",
     "text": [
      " 2 2 3\n"
     ]
    }
   ],
   "source": [
    "N, X, Y = map(int, input().split())"
   ]
  },
  {
   "cell_type": "code",
   "execution_count": 9,
   "id": "2be1372e-e7ca-49df-9726-a51a5e19a00a",
   "metadata": {},
   "outputs": [
    {
     "name": "stdin",
     "output_type": "stream",
     "text": [
      " 7 8\n"
     ]
    }
   ],
   "source": [
    "An = list(map(int, input().split()))"
   ]
  },
  {
   "cell_type": "code",
   "execution_count": 10,
   "id": "975ca73b-21aa-456a-9a2f-b5c739edf3ae",
   "metadata": {},
   "outputs": [],
   "source": [
    "def getGrundy(n):\n",
    "    m = n % 5\n",
    "    if m < 2:\n",
    "        return 0\n",
    "    if m < 4:\n",
    "        return 1\n",
    "    return 2"
   ]
  },
  {
   "cell_type": "code",
   "execution_count": 11,
   "id": "39b58f37-d03b-421b-a051-d1f5321488f3",
   "metadata": {},
   "outputs": [],
   "source": [
    "grundys = []\n",
    "for A in An:\n",
    "    grundys.append(getGrundy(A))"
   ]
  },
  {
   "cell_type": "code",
   "execution_count": 12,
   "id": "4ade923f-d9c3-46ab-b526-36f84aedd8af",
   "metadata": {},
   "outputs": [
    {
     "name": "stdout",
     "output_type": "stream",
     "text": [
      "Second\n"
     ]
    }
   ],
   "source": [
    "gx = 0\n",
    "for grundy in grundys:\n",
    "    gx ^= grundy\n",
    "print('First' if gx != 0 else 'Second')"
   ]
  },
  {
   "cell_type": "code",
   "execution_count": 7,
   "id": "326e502e-42b5-4ee1-9467-4629e5922a14",
   "metadata": {},
   "outputs": [
    {
     "data": {
      "text/plain": [
       "[0, 1]"
      ]
     },
     "execution_count": 7,
     "metadata": {},
     "output_type": "execute_result"
    }
   ],
   "source": [
    "grundys"
   ]
  },
  {
   "cell_type": "code",
   "execution_count": null,
   "id": "705b4470-01e0-44b4-a347-a7eb85fde831",
   "metadata": {},
   "outputs": [],
   "source": []
  },
  {
   "cell_type": "code",
   "execution_count": null,
   "id": "0d21ebfe-d61b-4638-9c0d-d0fafee9e97e",
   "metadata": {},
   "outputs": [],
   "source": []
  }
 ],
 "metadata": {
  "kernelspec": {
   "display_name": "Python 3",
   "language": "python",
   "name": "python3"
  },
  "language_info": {
   "codemirror_mode": {
    "name": "ipython",
    "version": 3
   },
   "file_extension": ".py",
   "mimetype": "text/x-python",
   "name": "python",
   "nbconvert_exporter": "python",
   "pygments_lexer": "ipython3",
   "version": "3.6.13"
  }
 },
 "nbformat": 4,
 "nbformat_minor": 5
}
