{
 "cells": [
  {
   "cell_type": "markdown",
   "metadata": {},
   "source": [
    "# 問題文\n",
    "黒板に N 個の正の整数 A1,...,AN が書かれています．  \n",
    "すぬけ君は，黒板に書かれている整数がすべて偶数であるとき，次の操作を行うことができます．  \n",
    " ・黒板に書かれている整数すべてを，2 で割ったものに置き換える．  \n",
    "すぬけ君は最大で何回操作を行うことができるかを求めてください．    \n",
    "\n",
    "# 制約\n",
    "・1 ≤ N ≤ 200  \n",
    "・1 ≤ Ai ≤ 10**9"
   ]
  },
  {
   "cell_type": "code",
   "execution_count": 3,
   "metadata": {},
   "outputs": [],
   "source": [
    "import sys\n",
    "import numpy as np"
   ]
  },
  {
   "cell_type": "code",
   "execution_count": 4,
   "metadata": {},
   "outputs": [
    {
     "name": "stdin",
     "output_type": "stream",
     "text": [
      " 3\n"
     ]
    }
   ],
   "source": [
    "# n 入力\n",
    "n = int(input())"
   ]
  },
  {
   "cell_type": "code",
   "execution_count": 9,
   "metadata": {},
   "outputs": [
    {
     "name": "stdin",
     "output_type": "stream",
     "text": [
      " 1024 512 256\n"
     ]
    }
   ],
   "source": [
    "# a 入力\n",
    "a = (list(input().split()))"
   ]
  },
  {
   "cell_type": "code",
   "execution_count": 10,
   "metadata": {},
   "outputs": [],
   "source": [
    "# numpy array に変換\n",
    "b = np.array(a, dtype='int64')"
   ]
  },
  {
   "cell_type": "code",
   "execution_count": 11,
   "metadata": {},
   "outputs": [],
   "source": [
    "# ２で割れる回数\n",
    "cnt = 0\n",
    "\n",
    "while True:\n",
    "    # 2で割った余りを求める\n",
    "    c = b % 2\n",
    "    if c.sum() != 0:\n",
    "        # 余りがあったら終了\n",
    "        break\n",
    "    b = b // 2\n",
    "    cnt += 1"
   ]
  },
  {
   "cell_type": "code",
   "execution_count": 12,
   "metadata": {},
   "outputs": [
    {
     "name": "stdout",
     "output_type": "stream",
     "text": [
      "8\n"
     ]
    }
   ],
   "source": [
    "print(cnt)"
   ]
  },
  {
   "cell_type": "code",
   "execution_count": null,
   "metadata": {},
   "outputs": [],
   "source": []
  }
 ],
 "metadata": {
  "kernelspec": {
   "display_name": "Python 3",
   "language": "python",
   "name": "python3"
  },
  "language_info": {
   "codemirror_mode": {
    "name": "ipython",
    "version": 3
   },
   "file_extension": ".py",
   "mimetype": "text/x-python",
   "name": "python",
   "nbconvert_exporter": "python",
   "pygments_lexer": "ipython3",
   "version": "3.6.7"
  }
 },
 "nbformat": 4,
 "nbformat_minor": 2
}
