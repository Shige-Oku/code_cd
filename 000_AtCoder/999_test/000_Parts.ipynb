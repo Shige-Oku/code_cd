{
 "cells": [
  {
   "cell_type": "code",
   "execution_count": 1,
   "metadata": {},
   "outputs": [],
   "source": [
    "import sys\n",
    "import numpy as np\n",
    "import math\n",
    "import collections\n",
    "import copy\n",
    "import decimal\n",
    "import itertools\n",
    "import re\n",
    "import bisect\n",
    "import scipy\n",
    "import heapq\n",
    "from collections import deque \n",
    "from functools import reduce\n",
    "from itertools import product\n",
    "from itertools import combinations\n",
    "from functools import lru_cache\n",
    "from scipy.special import comb\n",
    "from numba import njit\n",
    "from bisect import bisect_right\n",
    "from bisect import bisect_left"
   ]
  },
  {
   "cell_type": "code",
   "execution_count": 13,
   "metadata": {},
   "outputs": [],
   "source": [
    "def getPrimes(n):\n",
    "    ret = []\n",
    "    isPrime = [True] * (n+1)\n",
    "    isPrime[:2] = False, False\n",
    "    isCheck = [False] * (n+1)\n",
    "    for i in range(2, int(n**.5)+1):\n",
    "        if isCheck[i]:\n",
    "            continue\n",
    "        for j in range(i*i, n+1, i):\n",
    "            isCheck[j] = True\n",
    "            isPrime[j] = False\n",
    "    for i in range(2, n+1):\n",
    "        if isPrime[i]:\n",
    "            ret.append(i)\n",
    "    return ret"
   ]
  },
  {
   "cell_type": "code",
   "execution_count": 2,
   "metadata": {},
   "outputs": [],
   "source": [
    "# 素数のリスト作成\n",
    "import numpy as np\n",
    "def get_primes(number):\n",
    "    is_prime = [True] * (number+1)\n",
    "    is_prime[:1]  = False, False\n",
    "    sqrt_num = math.ceil(math.sqrt(number))\n",
    "    for i in range(2, sqrt_num):\n",
    "        if (is_prime[i]):\n",
    "            for j in range(i*2, number+1, i):\n",
    "                is_prime[j] = False\n",
    "    primes = []\n",
    "    for i in range(number+1):\n",
    "        if is_prime[i]:\n",
    "            primes.append(i)\n",
    "    return primes"
   ]
  },
  {
   "cell_type": "code",
   "execution_count": 3,
   "metadata": {},
   "outputs": [],
   "source": [
    "# 素数のリスト作成\n",
    "import numpy as np\n",
    "def get_prime_list(number):\n",
    "    is_prime = np.ones(number+1, dtype=bool)\n",
    "    is_prime[:2] = False\n",
    "    num_sqrt = np.sqrt(number)\n",
    "    for i in range(2, int(num_sqrt)+1):\n",
    "        if (is_prime[i]):\n",
    "            is_prime[i*2::i] = False\n",
    "    prime_list = np.arange(number+1)[is_prime]\n",
    "    return prime_list"
   ]
  },
  {
   "cell_type": "code",
   "execution_count": 4,
   "metadata": {},
   "outputs": [
    {
     "data": {
      "text/plain": [
       "array([  2,   3,   5,   7,  11,  13,  17,  19,  23,  29,  31,  37,  41,\n",
       "        43,  47,  53,  59,  61,  67,  71,  73,  79,  83,  89,  97, 101,\n",
       "       103, 107, 109, 113, 127])"
      ]
     },
     "execution_count": 4,
     "metadata": {},
     "output_type": "execute_result"
    }
   ],
   "source": [
    "get_prime_list(130)"
   ]
  },
  {
   "cell_type": "code",
   "execution_count": 5,
   "metadata": {},
   "outputs": [],
   "source": [
    "# get_prime_list2(130)"
   ]
  },
  {
   "cell_type": "code",
   "execution_count": 6,
   "metadata": {},
   "outputs": [],
   "source": [
    "prime_list = get_prime_list(10000)"
   ]
  },
  {
   "cell_type": "code",
   "execution_count": 7,
   "metadata": {},
   "outputs": [
    {
     "data": {
      "text/plain": [
       "array([   2,    3,    5, ..., 9949, 9967, 9973])"
      ]
     },
     "execution_count": 7,
     "metadata": {},
     "output_type": "execute_result"
    }
   ],
   "source": [
    "prime_list"
   ]
  },
  {
   "cell_type": "code",
   "execution_count": 8,
   "metadata": {},
   "outputs": [],
   "source": [
    "# 素数のリスト作成（boolで返却）\n",
    "def get_prime_list(number):\n",
    "    is_prime = np.ones(number+1, dtype=bool)\n",
    "    is_prime[:2] = False\n",
    "    num_sqrt = np.sqrt(number)\n",
    "    for i in range(2, int(num_sqrt)+1):\n",
    "        if (is_prime[i]):\n",
    "            is_prime[i*2::i] = False\n",
    "    return is_prime"
   ]
  },
  {
   "cell_type": "code",
   "execution_count": null,
   "metadata": {},
   "outputs": [],
   "source": [
    "prime_list = get_prime_list(100)"
   ]
  },
  {
   "cell_type": "code",
   "execution_count": null,
   "metadata": {},
   "outputs": [],
   "source": [
    "prime_list, prime_list.shape"
   ]
  },
  {
   "cell_type": "code",
   "execution_count": null,
   "metadata": {},
   "outputs": [],
   "source": [
    "num_np = np.array(np.arange(101))"
   ]
  },
  {
   "cell_type": "code",
   "execution_count": null,
   "metadata": {},
   "outputs": [],
   "source": [
    "num_np[:][prime_list]"
   ]
  },
  {
   "cell_type": "code",
   "execution_count": null,
   "metadata": {},
   "outputs": [],
   "source": [
    "[x for x in range(101)][prime_list == True]"
   ]
  },
  {
   "cell_type": "code",
   "execution_count": null,
   "metadata": {},
   "outputs": [],
   "source": []
  },
  {
   "cell_type": "code",
   "execution_count": null,
   "metadata": {},
   "outputs": [],
   "source": [
    "# 約数のリスト作成\n",
    "import numpy as np\n",
    "def get_divisor_list(number):\n",
    "    number_sqrt = int(np.sqrt(number)) + 1\n",
    "    divisors = []\n",
    "    for i in range(1, int(number_sqrt)):\n",
    "        if number % i == 0:\n",
    "            # 割り切れたので約数\n",
    "            divisors.append(i)\n",
    "            divisors.append(number // i)\n",
    "    return divisors\n"
   ]
  },
  {
   "cell_type": "code",
   "execution_count": null,
   "metadata": {},
   "outputs": [],
   "source": [
    "# 約数のリスト作成\n",
    "import math\n",
    "def get_divisor_list(number):\n",
    "    number_sqrt = int(math.sqrt(number)) + 1\n",
    "    divisors = []\n",
    "    for i in range(1, int(number_sqrt)):\n",
    "        if number % i == 0:\n",
    "            # 割り切れたので約数\n",
    "            divisors.append(i)\n",
    "            divisors.append(number // i)\n",
    "    return divisors\n"
   ]
  },
  {
   "cell_type": "code",
   "execution_count": null,
   "metadata": {},
   "outputs": [],
   "source": [
    "divisor_list1 = get_divisor_list(64)"
   ]
  },
  {
   "cell_type": "code",
   "execution_count": null,
   "metadata": {},
   "outputs": [],
   "source": [
    "divisor_list1"
   ]
  },
  {
   "cell_type": "code",
   "execution_count": 1,
   "metadata": {},
   "outputs": [],
   "source": [
    "# 約数のリスト作成\n",
    "def get_divisor_list_without_sqrt(number):\n",
    "    number_sqrt = int(number**.5) + 1\n",
    "    divisors = []\n",
    "    for i in range(1, int(number_sqrt)):\n",
    "        if number % i == 0:\n",
    "            # 割り切れたので約数\n",
    "            divisors.append(i)\n",
    "            if i ** 2 != number:\n",
    "                divisors.append(number // i)\n",
    "    return divisors\n"
   ]
  },
  {
   "cell_type": "code",
   "execution_count": 2,
   "metadata": {},
   "outputs": [],
   "source": [
    "divisor_list2 = get_divisor_list_without_sqrt(64)"
   ]
  },
  {
   "cell_type": "code",
   "execution_count": 3,
   "metadata": {},
   "outputs": [
    {
     "data": {
      "text/plain": [
       "[1, 64, 2, 32, 4, 16, 8]"
      ]
     },
     "execution_count": 3,
     "metadata": {},
     "output_type": "execute_result"
    }
   ],
   "source": [
    "divisor_list2"
   ]
  },
  {
   "cell_type": "code",
   "execution_count": 63,
   "metadata": {},
   "outputs": [],
   "source": [
    "# 素因数分解\n",
    "def factorization(n):\n",
    "    arr = []\n",
    "    temp = n\n",
    "    for i in range(2, int(-(-n**0.5//1))+1):\n",
    "        if temp%i==0:\n",
    "            cnt=0\n",
    "            while temp%i==0:\n",
    "                cnt+=1\n",
    "                temp //= i\n",
    "            arr.append([i, cnt])\n",
    "\n",
    "    if temp!=1:\n",
    "        arr.append([temp, 1])\n",
    "\n",
    "    if arr==[]:\n",
    "        arr.append([n, 1])\n",
    "\n",
    "    return arr\n",
    "\n",
    "# factorization(24) "
   ]
  },
  {
   "cell_type": "code",
   "execution_count": 4,
   "metadata": {},
   "outputs": [],
   "source": [
    "# 素因数分解\n",
    "from collections import defaultdict\n",
    "def factorization(n):\n",
    "    arr = {}\n",
    "    temp = n\n",
    "    for i in range(2, int(-(-n**0.5//1))+1):\n",
    "        if temp % i == 0:\n",
    "            cnt = 0\n",
    "            while temp % i == 0:\n",
    "                cnt += 1\n",
    "                temp //= i\n",
    "            arr[i] = cnt\n",
    "\n",
    "    if temp != 1:\n",
    "        if temp in arr:\n",
    "            arr[temp] += 1\n",
    "        else:\n",
    "            arr[temp] = 1\n",
    "\n",
    "    if len(arr) == 0:\n",
    "        arr[n] = 1\n",
    "\n",
    "    return arr"
   ]
  },
  {
   "cell_type": "code",
   "execution_count": 5,
   "metadata": {},
   "outputs": [
    {
     "data": {
      "text/plain": [
       "{2: 2, 3: 1}"
      ]
     },
     "execution_count": 5,
     "metadata": {},
     "output_type": "execute_result"
    }
   ],
   "source": [
    "factorization(12)"
   ]
  },
  {
   "cell_type": "code",
   "execution_count": null,
   "metadata": {},
   "outputs": [],
   "source": [
    "# x の y 乗を d で割った余りを求める\n",
    "def powmod(x, y, d):\n",
    "    ret = 1\n",
    "    for _ in range(1, y+1):\n",
    "        ret = ret * x % d\n",
    "    return ret"
   ]
  },
  {
   "cell_type": "code",
   "execution_count": null,
   "metadata": {},
   "outputs": [],
   "source": [
    "ans = powmod(10, 869121, 10**9+7) - powmod(9, 869121, 10**9+7) * 2 + powmod(8, 869121, 10**9+7)"
   ]
  },
  {
   "cell_type": "code",
   "execution_count": null,
   "metadata": {},
   "outputs": [],
   "source": [
    "ans % (10**9+7)"
   ]
  },
  {
   "cell_type": "code",
   "execution_count": null,
   "metadata": {},
   "outputs": [],
   "source": [
    "# ユークリッドの互除法で最大公約数を求める\n",
    "def get_gcd(a, b):\n",
    "    if b == 0:\n",
    "        return a\n",
    "    \n",
    "    return get_gcd(b, a%b)\n"
   ]
  },
  {
   "cell_type": "code",
   "execution_count": null,
   "metadata": {},
   "outputs": [],
   "source": [
    "# nCr コンビネーション"
   ]
  },
  {
   "cell_type": "code",
   "execution_count": 10,
   "metadata": {},
   "outputs": [],
   "source": [
    "def calcFactorial(n, m):\n",
    "    ret = 1\n",
    "    for i in range(1, n+1):\n",
    "        ret *= i\n",
    "        ret %= m\n",
    "    return ret"
   ]
  },
  {
   "cell_type": "code",
   "execution_count": 11,
   "metadata": {},
   "outputs": [],
   "source": [
    "def nCr(n, r):\n",
    "    m = 10**9+7\n",
    "    s1 = calcFactorial(n, m)\n",
    "    b1 = calcFactorial(r, m)\n",
    "    b2 = calcFactorial(n-r, m)\n",
    "    b = b1 * b2\n",
    "    b %= m\n",
    "    return s1 * pow(b, m-2, m) % m  "
   ]
  },
  {
   "cell_type": "code",
   "execution_count": null,
   "metadata": {},
   "outputs": [],
   "source": [
    "get_gcd(390, 273)"
   ]
  },
  {
   "cell_type": "code",
   "execution_count": 1,
   "metadata": {},
   "outputs": [],
   "source": [
    "# 組合せの数を算出\n",
    "from math import factorial\n",
    "def nCr(n, r):\n",
    "    return math.factorial(n) // (math.factorial(n-r) * math.factorial(r))"
   ]
  },
  {
   "cell_type": "code",
   "execution_count": null,
   "metadata": {},
   "outputs": [],
   "source": [
    "combinations_count(4, 2)"
   ]
  },
  {
   "cell_type": "code",
   "execution_count": 4,
   "metadata": {},
   "outputs": [],
   "source": [
    "read = sys.stdin.buffer.read\n",
    "readline = sys.stdin.buffer.readline\n",
    "readlines = sys.stdin.buffer.readlines\n",
    " \n",
    "def from_read(dtype=np.int64):\n",
    "    return np.fromstring(read().decode(), dtype=dtype, sep=' ')\n",
    " \n"
   ]
  },
  {
   "cell_type": "code",
   "execution_count": 3,
   "metadata": {},
   "outputs": [],
   "source": [
    "read = sys.stdin.buffer.read\n",
    "readline = sys.stdin.buffer.readline\n",
    "readlines = sys.stdin.buffer.readlines\n",
    "def from_readline(dtype=np.int64):\n",
    "    return np.fromstring(readline().decode(), dtype=dtype, sep=' ')"
   ]
  },
  {
   "cell_type": "code",
   "execution_count": null,
   "metadata": {},
   "outputs": [],
   "source": [
    "# ２分検索"
   ]
  },
  {
   "cell_type": "code",
   "execution_count": 2,
   "metadata": {},
   "outputs": [],
   "source": [
    "def my_bisect(n):\n",
    "    l = s\n",
    "    r = e\n",
    "    while l + 1 < r:\n",
    "        m = (r + l) // 2\n",
    "        if m * (m+1) // 2 <= n:\n",
    "            r = m\n",
    "        else:\n",
    "            l = m\n",
    "    return r\n"
   ]
  },
  {
   "cell_type": "code",
   "execution_count": 58,
   "metadata": {},
   "outputs": [],
   "source": [
    "def my_bisect(n):\n",
    "    l = s\n",
    "    r = e\n",
    "    while l + 1 < r:\n",
    "        m = (r + l) // 2\n",
    "        if m * (m+1) // 2 >= n:\n",
    "            l = m\n",
    "        else:\n",
    "            r = m\n",
    "    return l"
   ]
  },
  {
   "cell_type": "code",
   "execution_count": null,
   "metadata": {},
   "outputs": [],
   "source": [
    "# コンビネーション、二項係数"
   ]
  },
  {
   "cell_type": "code",
   "execution_count": 1,
   "metadata": {},
   "outputs": [],
   "source": [
    "def modinv(x, mod):\n",
    "    return pow(x, mod-2, mod)"
   ]
  },
  {
   "cell_type": "code",
   "execution_count": 2,
   "metadata": {},
   "outputs": [],
   "source": [
    "def binomial_coefficients(n, k, mod):\n",
    "    ret = 1\n",
    "    for i in range(k):\n",
    "        ret *= n-i\n",
    "        ret *= modinv_table[i + 1]\n",
    "        ret %= mod\n",
    "    return ret"
   ]
  },
  {
   "cell_type": "code",
   "execution_count": 4,
   "metadata": {},
   "outputs": [],
   "source": [
    "mod = 10**9+7\n",
    "X = 10**6\n",
    "modinv_table = [-1] * (X+1)\n",
    "for i in range(1, X+1):\n",
    "    modinv_table[i] = modinv(i, mod)"
   ]
  },
  {
   "cell_type": "code",
   "execution_count": 8,
   "metadata": {},
   "outputs": [],
   "source": [
    "def aCb(n, a):\n",
    "    return factorial_table[n] // (factorial_table[n-a]*factorial_table[a])"
   ]
  },
  {
   "cell_type": "code",
   "execution_count": 12,
   "metadata": {},
   "outputs": [],
   "source": [
    "N = 10\n",
    "factorial_table = [1] * (N+1)\n",
    "for i in range(1, len(factorial_table)):\n",
    "    factorial_table[i] = factorial_table[i-1] * i"
   ]
  },
  {
   "cell_type": "code",
   "execution_count": 13,
   "metadata": {},
   "outputs": [
    {
     "data": {
      "text/plain": [
       "6"
      ]
     },
     "execution_count": 13,
     "metadata": {},
     "output_type": "execute_result"
    }
   ],
   "source": [
    "aCb(4, 2)"
   ]
  },
  {
   "cell_type": "code",
   "execution_count": 14,
   "metadata": {},
   "outputs": [
    {
     "data": {
      "text/plain": [
       "[1, 1, 2, 6, 24, 120, 720, 5040, 40320, 362880, 3628800]"
      ]
     },
     "execution_count": 14,
     "metadata": {},
     "output_type": "execute_result"
    }
   ],
   "source": [
    "factorial_table"
   ]
  },
  {
   "cell_type": "code",
   "execution_count": 1,
   "metadata": {},
   "outputs": [],
   "source": [
    "# 二項係数"
   ]
  },
  {
   "cell_type": "code",
   "execution_count": 1,
   "metadata": {},
   "outputs": [],
   "source": [
    "def COMinit():\n",
    "    fac[:2] = 1, 1\n",
    "    finv[:2] = 1, 1\n",
    "    inv[1] = 1\n",
    "    for i in range(2, N):\n",
    "        fac[i] = fac[i-1] * i % MOD\n",
    "        inv[i] = MOD - inv[MOD%i] * (MOD // i) % MOD\n",
    "        finv[i] = finv[i-1] * inv[i] % MOD\n",
    "    return"
   ]
  },
  {
   "cell_type": "code",
   "execution_count": 2,
   "metadata": {},
   "outputs": [],
   "source": [
    "def COM(n, k):\n",
    "    if  n < k:\n",
    "        return 0\n",
    "    if n < 0 or k < 0:\n",
    "        return 0\n",
    "    return fac[n] * (finv[k] * finv[n-k] % MOD) % MOD"
   ]
  },
  {
   "cell_type": "code",
   "execution_count": 3,
   "metadata": {},
   "outputs": [],
   "source": [
    "N = 2 * 10**5\n",
    "MOD = 10**9 + 7\n",
    "fac = [0] * (N+1)\n",
    "finv = [0] * (N+1)\n",
    "inv = [0] * (N+1)\n",
    "COMinit()"
   ]
  },
  {
   "cell_type": "code",
   "execution_count": 5,
   "metadata": {},
   "outputs": [
    {
     "data": {
      "text/plain": [
       "10"
      ]
     },
     "execution_count": 5,
     "metadata": {},
     "output_type": "execute_result"
    }
   ],
   "source": [
    "COM(5, 2)"
   ]
  },
  {
   "cell_type": "code",
   "execution_count": 22,
   "metadata": {},
   "outputs": [
    {
     "data": {
      "text/plain": [
       "[1, 1, 2, 6, 24, 120]"
      ]
     },
     "execution_count": 22,
     "metadata": {},
     "output_type": "execute_result"
    }
   ],
   "source": [
    "fac[:6]"
   ]
  },
  {
   "cell_type": "code",
   "execution_count": 14,
   "metadata": {},
   "outputs": [
    {
     "data": {
      "text/plain": [
       "[0, 1, 500000003.5, 166666644.0, 3.0, 300000007.0]"
      ]
     },
     "execution_count": 14,
     "metadata": {},
     "output_type": "execute_result"
    }
   ],
   "source": [
    "inv[:6]"
   ]
  },
  {
   "cell_type": "code",
   "execution_count": 15,
   "metadata": {},
   "outputs": [
    {
     "data": {
      "text/plain": [
       "[1, 1, 500000003.5, 1000000001.0, 999999989.0, 599999929.0]"
      ]
     },
     "execution_count": 15,
     "metadata": {},
     "output_type": "execute_result"
    }
   ],
   "source": [
    "finv[:6]"
   ]
  },
  {
   "cell_type": "code",
   "execution_count": 17,
   "metadata": {},
   "outputs": [
    {
     "data": {
      "text/plain": [
       "(1000000007, 200000)"
      ]
     },
     "execution_count": 17,
     "metadata": {},
     "output_type": "execute_result"
    }
   ],
   "source": [
    "MOD, N"
   ]
  },
  {
   "cell_type": "code",
   "execution_count": null,
   "metadata": {},
   "outputs": [],
   "source": [
    "# 逆元"
   ]
  },
  {
   "cell_type": "code",
   "execution_count": 2,
   "metadata": {},
   "outputs": [],
   "source": [
    "N = 10"
   ]
  },
  {
   "cell_type": "code",
   "execution_count": 5,
   "metadata": {},
   "outputs": [],
   "source": [
    "mod = 10**9 + 7\n",
    "fac = [1] * (N + 1)\n",
    "inv = [1] * (N + 1)\n",
    "for i in range(1, N + 1):\n",
    "    fac[i] = fac[i-1] * i % mod"
   ]
  },
  {
   "cell_type": "code",
   "execution_count": 6,
   "metadata": {},
   "outputs": [],
   "source": [
    "inv[N] = pow(fac[N], mod-2, mod)\n",
    "for i in range(N-1, -1, -1):\n",
    "    inv[i] = inv[i+1] * (i+1) % mod"
   ]
  },
  {
   "cell_type": "code",
   "execution_count": 12,
   "metadata": {},
   "outputs": [],
   "source": [
    "def aCb(n, k):\n",
    "    if  n < k:\n",
    "        return 0\n",
    "    if n < 0 or k < 0:\n",
    "        return 0\n",
    "    return fac[n] * (inv[k] * inv[n-k] % mod) % mod"
   ]
  },
  {
   "cell_type": "code",
   "execution_count": 13,
   "metadata": {},
   "outputs": [
    {
     "data": {
      "text/plain": [
       "6"
      ]
     },
     "execution_count": 13,
     "metadata": {},
     "output_type": "execute_result"
    }
   ],
   "source": [
    "aCb(4, 2)"
   ]
  },
  {
   "cell_type": "code",
   "execution_count": 3,
   "metadata": {},
   "outputs": [
    {
     "data": {
      "text/plain": [
       "True"
      ]
     },
     "execution_count": 3,
     "metadata": {},
     "output_type": "execute_result"
    }
   ],
   "source": [
    "2**60 > 10**18"
   ]
  },
  {
   "cell_type": "code",
   "execution_count": 2,
   "metadata": {},
   "outputs": [],
   "source": [
    "def calcDivision(a, b, m):\n",
    "    return (a * pow(b, m-2, m)) % m"
   ]
  },
  {
   "cell_type": "code",
   "execution_count": 4,
   "metadata": {},
   "outputs": [
    {
     "data": {
      "text/plain": [
       "[0, 1, 2, 3, 4]"
      ]
     },
     "execution_count": 4,
     "metadata": {},
     "output_type": "execute_result"
    }
   ],
   "source": [
    "[x for x in range(10)][:-5]"
   ]
  },
  {
   "cell_type": "code",
   "execution_count": null,
   "metadata": {},
   "outputs": [],
   "source": []
  },
  {
   "cell_type": "code",
   "execution_count": null,
   "metadata": {},
   "outputs": [],
   "source": [
    "# Union Foind"
   ]
  },
  {
   "cell_type": "code",
   "execution_count": 1,
   "metadata": {},
   "outputs": [],
   "source": [
    "from collections import defaultdict\n",
    "import sys\n",
    "sys.setrecursionlimit(10**7)\n",
    "class UnionFind():\n",
    "    # イニシャライザ\n",
    "    def __init__(self, n):\n",
    "        self.n = n  # 頂点の数\n",
    "        self.parents = [-1] * n  # 親の頂点。根は -1\n",
    "        self.size = [1] * n  # 各頂点の所属する木の頂点数\n",
    "        sys.setrecursionlimit(10**7)\n",
    "        \n",
    "    # 根を返す\n",
    "    def root(self, x):\n",
    "        if self.parents[x] < 0: # 根なのでそのまま返す\n",
    "            return x\n",
    "        else:\n",
    "            self.parents[x] = self.root(self.parents[x])  # 経路圧縮\n",
    "            return self.parents[x]\n",
    "        \n",
    "    # x, y が同じ木に属するか\n",
    "    def issame(self, x, y):\n",
    "        return self.root(x) == self.root(y)\n",
    "    \n",
    "    # x y を併合する    \n",
    "    def unite(self, x, y):\n",
    "        x = self.root(x)\n",
    "        y = self.root(y)\n",
    "        \n",
    "        # 元々同じ木に所属するので、何もせずリターン\n",
    "        if x == y:\n",
    "            return False\n",
    "        \n",
    "        # 大きいほうにまとめる。 y を x にまとめるようにスワップ\n",
    "        if self.parents[x] < self.parents[y]:\n",
    "            x, y = y, x\n",
    "        # 小さいほうの親を大きいほうを親に\n",
    "        self.parents[y] = x\n",
    "        # 大きいほうの頂点に小さいほうの数を加算\n",
    "        self.size[x] += self.size[y]\n",
    "        return True\n",
    "    \n",
    "    # x の所属する頂点数を返す\n",
    "    def getsize(self, x):\n",
    "        return self.size[self.root(x)]\n",
    "\n",
    "    # x の所属する頂点の一覧を返す\n",
    "    def getmembers(self, x):\n",
    "        root = self.root(x)\n",
    "        return [i for i in range(self.n) if self.root(i) == root]    "
   ]
  },
  {
   "cell_type": "code",
   "execution_count": 2,
   "metadata": {},
   "outputs": [],
   "source": [
    "from collections import defaultdict\n",
    "import sys\n",
    "sys.setrecursionlimit(10**7)\n",
    "class UnionFind():\n",
    "    # イニシャライザ\n",
    "    def __init__(self, n):\n",
    "        self.n = n  # 頂点の数\n",
    "        self.parents = [-1] * n  # 親の頂点。根は -1\n",
    "        self.size = [1] * n  # 各頂点の所属する木の頂点数\n",
    "        sys.setrecursionlimit(10**7)\n",
    "        \n",
    "    # 根を返す\n",
    "    def root(self, x):\n",
    "        if self.parents[x] < 0: # 根なのでそのまま返す\n",
    "            return x\n",
    "        else:\n",
    "            self.parents[x] = self.root(self.parents[x])  # 経路圧縮\n",
    "            return self.parents[x]\n",
    "        \n",
    "    # x, y が同じ木に属するか\n",
    "    def issame(self, x, y):\n",
    "        return self.root(x) == self.root(y)\n",
    "    \n",
    "    # x y を併合する    \n",
    "    def unite(self, x, y):\n",
    "        x = self.root(x)\n",
    "        y = self.root(y)\n",
    "        \n",
    "        # 元々同じ木に所属するので、何もせずリターン\n",
    "        if x == y:\n",
    "            return False\n",
    "        \n",
    "        # 大きいほうにまとめる。 y を x にまとめるようにスワップ\n",
    "        if self.parents[x] < self.parents[y]:\n",
    "            x, y = y, x\n",
    "        # 小さいほうの親を大きいほうを親に\n",
    "        self.parents[y] = x\n",
    "        # 大きいほうの頂点に小さいほうの数を加算\n",
    "        self.size[x] += self.size[y]\n",
    "        return True\n",
    "    \n",
    "    # x の所属する頂点数を返す\n",
    "    def getsize(self, x):\n",
    "        return self.size[self.root(x)]\n",
    "\n",
    "    # x の所属する頂点の一覧を返す\n",
    "    def getmembers(self, x):\n",
    "        root = self.root(x)\n",
    "        return [i for i in range(self.n) if self.root(i) == root]    "
   ]
  },
  {
   "cell_type": "code",
   "execution_count": 3,
   "metadata": {},
   "outputs": [],
   "source": [
    "uf = UnionFind(7) # {0}, {1}, {2}, {3}, {4}, {5}, {6}"
   ]
  },
  {
   "cell_type": "code",
   "execution_count": 4,
   "metadata": {},
   "outputs": [],
   "source": [
    "uf.unite(1, 2) # {0}, {1, 2}, {3}, {4}, {5}, {6}"
   ]
  },
  {
   "cell_type": "code",
   "execution_count": 5,
   "metadata": {},
   "outputs": [
    {
     "data": {
      "text/plain": [
       "(0, 1, 1, 3, 4, 5, 6)"
      ]
     },
     "execution_count": 5,
     "metadata": {},
     "output_type": "execute_result"
    }
   ],
   "source": [
    "uf.root(0), uf.root(1), uf.root(2), uf.root(3), uf.root(4), uf.root(5), uf.root(6)"
   ]
  },
  {
   "cell_type": "code",
   "execution_count": 6,
   "metadata": {},
   "outputs": [],
   "source": [
    "uf.unite(2, 3) # {0}, {1, 2, 3}, {4}, {5}, {6}"
   ]
  },
  {
   "cell_type": "code",
   "execution_count": 7,
   "metadata": {},
   "outputs": [
    {
     "data": {
      "text/plain": [
       "(0, 1, 1, 1, 4, 5, 6)"
      ]
     },
     "execution_count": 7,
     "metadata": {},
     "output_type": "execute_result"
    }
   ],
   "source": [
    "uf.root(0), uf.root(1), uf.root(2), uf.root(3), uf.root(4), uf.root(5), uf.root(6)"
   ]
  },
  {
   "cell_type": "code",
   "execution_count": 8,
   "metadata": {},
   "outputs": [],
   "source": [
    "uf.unite(5, 6) # {0}, {1, 2, 3}, {4}, {5, 6}"
   ]
  },
  {
   "cell_type": "code",
   "execution_count": 9,
   "metadata": {},
   "outputs": [
    {
     "data": {
      "text/plain": [
       "(0, 1, 1, 1, 4, 5, 5)"
      ]
     },
     "execution_count": 9,
     "metadata": {},
     "output_type": "execute_result"
    }
   ],
   "source": [
    "uf.root(0), uf.root(1), uf.root(2), uf.root(3), uf.root(4), uf.root(5), uf.root(6)"
   ]
  },
  {
   "cell_type": "code",
   "execution_count": 10,
   "metadata": {},
   "outputs": [
    {
     "data": {
      "text/plain": [
       "True"
      ]
     },
     "execution_count": 10,
     "metadata": {},
     "output_type": "execute_result"
    }
   ],
   "source": [
    "uf.issame(1, 3)"
   ]
  },
  {
   "cell_type": "code",
   "execution_count": 11,
   "metadata": {},
   "outputs": [
    {
     "data": {
      "text/plain": [
       "False"
      ]
     },
     "execution_count": 11,
     "metadata": {},
     "output_type": "execute_result"
    }
   ],
   "source": [
    "uf.issame(2, 5)"
   ]
  },
  {
   "cell_type": "code",
   "execution_count": 12,
   "metadata": {},
   "outputs": [],
   "source": [
    "uf.unite(1, 6) # {0}, {1, 2, 3, 5, 6}, {4}"
   ]
  },
  {
   "cell_type": "code",
   "execution_count": 13,
   "metadata": {},
   "outputs": [
    {
     "data": {
      "text/plain": [
       "(0, 1, 1, 1, 4, 1, 1)"
      ]
     },
     "execution_count": 13,
     "metadata": {},
     "output_type": "execute_result"
    }
   ],
   "source": [
    "uf.root(0), uf.root(1), uf.root(2), uf.root(3), uf.root(4), uf.root(5), uf.root(6)"
   ]
  },
  {
   "cell_type": "code",
   "execution_count": 14,
   "metadata": {},
   "outputs": [
    {
     "data": {
      "text/plain": [
       "True"
      ]
     },
     "execution_count": 14,
     "metadata": {},
     "output_type": "execute_result"
    }
   ],
   "source": [
    "uf.issame(2, 5)"
   ]
  },
  {
   "cell_type": "code",
   "execution_count": null,
   "metadata": {},
   "outputs": [],
   "source": [
    "# セグメント木"
   ]
  },
  {
   "cell_type": "code",
   "execution_count": 4,
   "metadata": {},
   "outputs": [],
   "source": [
    "# セグメント木\n",
    "import sys\n",
    "sys.setrecursionlimit(10**7)\n",
    "class SegmentTree():\n",
    "\t# 要素 dat の初期化を行う（最初は全部ゼロ）\n",
    "\tdef __init__(self, n):\n",
    "\t\tself.size = 1\n",
    "\t\twhile self.size < n:\n",
    "\t\t\tself.size *= 2\n",
    "\t\tself.dat = [0] * (self.size * 2)\n",
    "\t\n",
    "\t# クエリ 1 に対する処理\n",
    "\tdef update(self, pos, x):\n",
    "\t\tpos += self.size - 1\n",
    "\t\tself.dat[pos] = x\n",
    "\t\twhile pos >= 2:\n",
    "\t\t\tpos //= 2\n",
    "\t\t\tself.dat[pos] = max(self.dat[pos * 2], self.dat[pos * 2 + 1])\n",
    "\t\n",
    "\t# クエリ 2 に対する処理\n",
    "\t# u は現在のセル番号、[a, b) はセルに対応する半開区間、[l, r) は求めたい半開区間\n",
    "\tdef query(self, l, r, a, b, u):\n",
    "\t\tif r <= a or b <= l:\n",
    "            # 一切含まれない場合\n",
    "\t\t\treturn -1000000000\n",
    "\t\tif l <= a and b <= r:\n",
    "            # 完全に含まれる場合\n",
    "\t\t\treturn self.dat[u]\n",
    "\t\tm = (a + b) // 2\n",
    "\t\tanswerL = self.query(l, r, a, m, u * 2)\n",
    "\t\tanswerR = self.query(l, r, m, b, u * 2 + 1)\n",
    "\t\treturn max(answerL, answerR)\n"
   ]
  },
  {
   "cell_type": "code",
   "execution_count": 4,
   "metadata": {},
   "outputs": [],
   "source": [
    "# セグメント木\n",
    "import sys\n",
    "sys.setrecursionlimit(10**7)\n",
    "class SegmentTree():\n",
    "\t# 要素 dat の初期化を行う（最初は全部ゼロ）\n",
    "\tdef __init__(self, n):\n",
    "\t\tself.size = 1\n",
    "\t\twhile self.size < n:\n",
    "\t\t\tself.size *= 2\n",
    "\t\tself.dat = [0] * (self.size * 2)\n",
    "\t\n",
    "\t# クエリ 1 に対する処理\n",
    "\tdef update(self, pos, x):\n",
    "\t\tpos += self.size - 1\n",
    "\t\tself.dat[pos] = x\n",
    "\t\twhile pos >= 2:\n",
    "\t\t\tpos //= 2\n",
    "\t\t\tself.dat[pos] = self.dat[pos * 2] + self.dat[pos * 2 + 1]\n",
    "\t\n",
    "\t# クエリ 2 に対する処理\n",
    "\t# u は現在のセル番号、[a, b) はセルに対応する半開区間、[l, r) は求めたい半開区間\n",
    "\tdef query(self, l, r, a, b, u):\n",
    "\t\tif r <= a or b <= l:\n",
    "            # 一切含まれない場合\n",
    "\t\t\treturn 0\n",
    "\t\tif l <= a and b <= r:\n",
    "            # 完全に含まれる場合\n",
    "\t\t\treturn self.dat[u]\n",
    "\t\tm = (a + b) // 2\n",
    "\t\tanswerL = self.query(l, r, a, m, u * 2)\n",
    "\t\tanswerR = self.query(l, r, m, b, u * 2 + 1)\n",
    "\t\treturn answerL + answerR\n"
   ]
  },
  {
   "cell_type": "code",
   "execution_count": null,
   "metadata": {},
   "outputs": [],
   "source": [
    "# 平衡二分木\n",
    "# https://juppy.hatenablog.com/entry/2019/02/26/python_AVL%E6%9C%A8_%E9%85%8D%E5%88%97ver_%E7%AB%B6%E6%8A%80%E3%83%97%E3%83%AD%E3%82%B0%E3%83%A9%E3%83%9F%E3%83%B3%E3%82%B0_Atcoder_"
   ]
  },
  {
   "cell_type": "code",
   "execution_count": 1,
   "metadata": {},
   "outputs": [],
   "source": [
    "#AVL\n",
    "\n",
    "##search(0,x):O(logN)\n",
    "# xがある場合indexを、ない場合Noneを返す\n",
    "def search(root,key):\n",
    "    if avl_key[root] > key:\n",
    "        if avl_left[root] == None:\n",
    "            return None\n",
    "        else:\n",
    "            return search(avl_left[root],key)\n",
    "    if avl_key[root] < key:\n",
    "        if avl_right[root] == None:\n",
    "            return None\n",
    "        else:\n",
    "            return search(avl_right[root],key)\n",
    "    return root\n",
    "\n",
    "\n",
    "##end_lower/higher:search_lower/higherで使用\n",
    "def end_lower(root):\n",
    "    if avl_left[root] == None:\n",
    "        return avl_key[root]\n",
    "    else:\n",
    "        return end_lower(avl_left[root])\n",
    "\n",
    "def end_higher(root):\n",
    "    if avl_right[root] == None:\n",
    "        return avl_key[root]\n",
    "    else:\n",
    "        return end_higher(avl_right[root])\n",
    "\n",
    "\n",
    "##search_lower(0,x,None):O(logN)\n",
    "# xより小さいものの中で最も大きいものを出力。ない場合はNoneを出力\n",
    "def search_lower(root,key,lower_key):\n",
    "    if avl_key[root] > key:\n",
    "        if avl_left[root] == None:\n",
    "            return lower_key\n",
    "        else:\n",
    "            return search_lower(avl_left[root],key,lower_key)\n",
    "    if avl_key[root] < key:\n",
    "        lower_key = avl_key[root]\n",
    "        if avl_right[root] == None:\n",
    "            return lower_key\n",
    "        else:\n",
    "            return search_lower(avl_right[root],key,lower_key)\n",
    "    \n",
    "    # == \n",
    "    if avl_left[root] == None:\n",
    "        return lower_key\n",
    "    else:\n",
    "        if lower_key == None:\n",
    "            return end_higher(avl_left[root])\n",
    "        else:\n",
    "            return max(lower_key,end_higher(avl_left[root]))\n",
    "\n",
    "##search_higher(0,x,None):O(logN)\n",
    "# xより大きいものの中で最も小さいものを出力。ない場合はNoneを出力\n",
    "def search_higher(root,key,higher_key):\n",
    "    if avl_key[root] > key:\n",
    "        higher_key = avl_key[root]\n",
    "        if avl_left[root] == None:\n",
    "            return higher_key\n",
    "        else:\n",
    "            return search_higher(avl_left[root],key,higher_key)\n",
    "    if avl_key[root] < key:\n",
    "        if avl_right[root] == None:\n",
    "            return higher_key\n",
    "        else:\n",
    "            return search_higher(avl_right[root],key,higher_key)\n",
    "    \n",
    "    # == \n",
    "    if avl_right[root] == None:\n",
    "        return higher_key\n",
    "    else:\n",
    "        if higher_key == None:\n",
    "            return end_lower(avl_right[root])\n",
    "        else:\n",
    "            return min(higher_key,end_lower(avl_right[root]))\n",
    "\n",
    "\n",
    "\n",
    "##Rotation,replace,insertx:insertで使用\n",
    "def DoubleRightRotation(x):\n",
    "    tl = avl_left[x]\n",
    "    avl_left[x] = avl_right[avl_right[tl]]\n",
    "    avl_right[avl_right[tl]] = x\n",
    "    tlr = avl_right[tl]\n",
    "    avl_right[tl] = avl_left[tlr]\n",
    "    avl_left[tlr] = tl\n",
    "    if balance[tlr] == -1:\n",
    "        balance[avl_right[tlr]] = 1\n",
    "        balance[avl_left[tlr]] = 0\n",
    "    elif balance[tlr] == 1:\n",
    "        balance[avl_right[tlr]] = 0\n",
    "        balance[avl_left[tlr]] = -1\n",
    "    else:\n",
    "        balance[avl_right[tlr]] = 0\n",
    "        balance[avl_left[tlr]] = 0\n",
    "    balance[tlr] = 0\n",
    "    return tlr\n",
    "\n",
    "def DoubleLeftRotation(x):\n",
    "    tr = avl_right[x]\n",
    "    avl_right[x] = avl_left[avl_left[tr]]\n",
    "    avl_left[avl_left[tr]] = x\n",
    "    trl = avl_left[tr]\n",
    "    avl_left[tr] = avl_right[trl]\n",
    "    avl_right[trl] = tr\n",
    "    if balance[trl] == 1:\n",
    "        balance[avl_right[trl]] = 0\n",
    "        balance[avl_left[trl]] = -1\n",
    "    elif balance[trl] == -1:\n",
    "        balance[avl_left[trl]] = 0\n",
    "        balance[avl_right[trl]] = 1\n",
    "    else:\n",
    "        balance[avl_right[trl]] = 0\n",
    "        balance[avl_left[trl]] = 0\n",
    "    balance[trl] = 0\n",
    "    return trl\n",
    "\n",
    "def SingleLeftRotation(x):\n",
    "    tr = avl_right[x]\n",
    "    balance[tr] = 0\n",
    "    balance[x] = 0\n",
    "    avl_right[x] = avl_left[tr]\n",
    "    avl_left[tr] = x\n",
    "    return tr\n",
    "\n",
    "def SingleRightRotation(x):\n",
    "    tl = avl_left[x]\n",
    "    balance[tl] = 0\n",
    "    balance[x] = 0\n",
    "    avl_left[x] = avl_right[tl]\n",
    "    avl_right[tl] = x\n",
    "    return tl\n",
    "\n",
    "def replace(x,p,v):\n",
    "    if avl_left[p] == x:\n",
    "        avl_left[p] = v\n",
    "    else:\n",
    "        avl_right[p] = v\n",
    "\n",
    "def insertx(root,p,key):\n",
    "    if avl_key[root] > key:\n",
    "        if avl_left[root] == None:\n",
    "            avl_key.append(key)\n",
    "            avl_left[root] = len(avl_key)-1\n",
    "        else:\n",
    "            if not insertx(avl_left[root],root,key):\n",
    "                return False\n",
    "        if balance[root] == 1:\n",
    "            balance[root] = 0\n",
    "            return False\n",
    "        elif balance[root] == 0:\n",
    "            balance[root] = -1\n",
    "            return True\n",
    "        else:\n",
    "            if balance[avl_left[root]] == 1:\n",
    "                replace(root,p,DoubleRightRotation(root))\n",
    "            elif balance[avl_left[root]] == -1:\n",
    "                replace(root,p,SingleRightRotation(root))\n",
    "            return False\n",
    "    if avl_key[root] < key:\n",
    "        if avl_right[root] == None:\n",
    "            avl_key.append(key)\n",
    "            avl_right[root] = len(avl_key)-1\n",
    "        else:\n",
    "            if not insertx(avl_right[root],root,key):\n",
    "                return False\n",
    "        if balance[root] == -1:\n",
    "            balance[root] = 0\n",
    "            return False\n",
    "        elif balance[root] == 0:\n",
    "            balance[root] = 1\n",
    "            return True\n",
    "        else:\n",
    "            if balance[avl_right[root]] == -1:\n",
    "                replace(root,p,DoubleLeftRotation(root))\n",
    "            elif balance[avl_right[root]] == 1:\n",
    "                replace(root,p,SingleLeftRotation(root))\n",
    "            return False\n",
    "    return False\n",
    "\n",
    "\n",
    "##insert(0,x):O(logN)\n",
    "#x追加\n",
    "def insert(root,key):\n",
    "    if key < avl_key[root]:\n",
    "        if avl_left[root] == None:\n",
    "            avl_key.append(key)\n",
    "            avl_left[root] = len(avl_key)-1\n",
    "        else:\n",
    "            insertx(avl_left[root],root,key)\n",
    "    elif key > avl_key[root]:\n",
    "        if avl_right[root] == None:\n",
    "            avl_key.append(key)\n",
    "            avl_right[root] = len(avl_key)-1\n",
    "        else:\n",
    "            insertx(avl_right[root],root,key)\n",
    "    else:\n",
    "        pass\n",
    "########################################################\n",
    "##初期化（要素は一つ入れておく）\n",
    "\n",
    "#avl_key:値,avl_left:左の子のindex,avl_right:右の子のindex\n",
    "#balance[i]: {\"Even\":0,\"Left\":-1,\"Right\":1}\n",
    "\n",
    "#avl_keyには初めに何か加えておく\n",
    "n = 10**5\n",
    "avl_key = [0]\n",
    "avl_left = [None]*n\n",
    "avl_right = [None]*n\n",
    "balance = [0]*n\n",
    "\n",
    "for i in range(1,n):\n",
    "    insert(0,i*2)\n",
    "for i in range(1,n+1):\n",
    "  k = search_lower(0,i,None)"
   ]
  },
  {
   "cell_type": "code",
   "execution_count": null,
   "metadata": {},
   "outputs": [],
   "source": []
  }
 ],
 "metadata": {
  "kernelspec": {
   "display_name": "Python 3",
   "language": "python",
   "name": "python3"
  },
  "language_info": {
   "codemirror_mode": {
    "name": "ipython",
    "version": 3
   },
   "file_extension": ".py",
   "mimetype": "text/x-python",
   "name": "python",
   "nbconvert_exporter": "python",
   "pygments_lexer": "ipython3",
   "version": "3.6.13"
  }
 },
 "nbformat": 4,
 "nbformat_minor": 4
}
