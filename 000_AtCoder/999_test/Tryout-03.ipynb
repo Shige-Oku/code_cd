{
 "cells": [
  {
   "cell_type": "code",
   "execution_count": 1,
   "metadata": {},
   "outputs": [],
   "source": [
    "def word_search(doc_list, keyword):\n",
    "    for i, doc in enumerate(doc_list):\n",
    "        doc = doc.upper().replace('.', ' ')\n",
    "        keyword = keyword.upper() + \" \"\n",
    "        if doc.startswith(keyword) or (\" \" + keyword) in doc:\n",
    "            print('[{}]'.format(i))"
   ]
  },
  {
   "cell_type": "code",
   "execution_count": 2,
   "metadata": {},
   "outputs": [
    {
     "name": "stdout",
     "output_type": "stream",
     "text": [
      "[0]\n"
     ]
    }
   ],
   "source": [
    "doc_list = [\"The Learn Python Challenge Casino.\", \"They bought a car\", \"Casinoville\"]\n",
    "word_search(doc_list, 'casino')"
   ]
  },
  {
   "cell_type": "code",
   "execution_count": 6,
   "metadata": {},
   "outputs": [],
   "source": [
    "import numpy as np"
   ]
  },
  {
   "cell_type": "code",
   "execution_count": 2,
   "metadata": {},
   "outputs": [
    {
     "data": {
      "text/plain": [
       "2.718281828459045"
      ]
     },
     "execution_count": 2,
     "metadata": {},
     "output_type": "execute_result"
    }
   ],
   "source": [
    "np.e"
   ]
  },
  {
   "cell_type": "code",
   "execution_count": 4,
   "metadata": {},
   "outputs": [
    {
     "data": {
      "text/plain": [
       "0.6065306597126334"
      ]
     },
     "execution_count": 4,
     "metadata": {},
     "output_type": "execute_result"
    }
   ],
   "source": [
    "np.e ** (-500/1000)"
   ]
  },
  {
   "cell_type": "code",
   "execution_count": 5,
   "metadata": {},
   "outputs": [
    {
     "data": {
      "text/plain": [
       "0.3934693402873666"
      ]
     },
     "execution_count": 5,
     "metadata": {},
     "output_type": "execute_result"
    }
   ],
   "source": [
    "1-(np.power(np.e, -1/2))"
   ]
  },
  {
   "cell_type": "code",
   "execution_count": 6,
   "metadata": {},
   "outputs": [
    {
     "data": {
      "text/plain": [
       "0.3934693402873666"
      ]
     },
     "execution_count": 6,
     "metadata": {},
     "output_type": "execute_result"
    }
   ],
   "source": [
    "1-np.e ** (-500/1000)"
   ]
  },
  {
   "cell_type": "code",
   "execution_count": 7,
   "metadata": {},
   "outputs": [
    {
     "data": {
      "text/plain": [
       "0.04978706836786395"
      ]
     },
     "execution_count": 7,
     "metadata": {},
     "output_type": "execute_result"
    }
   ],
   "source": [
    "np.e**(-3)"
   ]
  },
  {
   "cell_type": "code",
   "execution_count": 8,
   "metadata": {},
   "outputs": [
    {
     "data": {
      "text/plain": [
       "0.22404180765538778"
      ]
     },
     "execution_count": 8,
     "metadata": {},
     "output_type": "execute_result"
    }
   ],
   "source": [
    "np.e**(-3) * 3**2 / 2 * 1"
   ]
  },
  {
   "cell_type": "code",
   "execution_count": 4,
   "metadata": {},
   "outputs": [],
   "source": [
    "import math"
   ]
  },
  {
   "cell_type": "code",
   "execution_count": 7,
   "metadata": {},
   "outputs": [
    {
     "data": {
      "text/plain": [
       "0.22404180765538778"
      ]
     },
     "execution_count": 7,
     "metadata": {},
     "output_type": "execute_result"
    }
   ],
   "source": [
    "np.e**(-3) * 3**2 / math.factorial(2)"
   ]
  },
  {
   "cell_type": "code",
   "execution_count": 8,
   "metadata": {},
   "outputs": [
    {
     "data": {
      "text/plain": [
       "720"
      ]
     },
     "execution_count": 8,
     "metadata": {},
     "output_type": "execute_result"
    }
   ],
   "source": [
    "# 階乗\n",
    "math.factorial(6)"
   ]
  },
  {
   "cell_type": "code",
   "execution_count": 53,
   "metadata": {},
   "outputs": [],
   "source": [
    "s = [\"2\",\n",
    "    \"100 5 700\",\n",
    "    \"50 2 300\",\n",
    "    \"order 13 100 4\",\n",
    "    \"order 12 100 2\",\n",
    "    \"order 11 100 1\"]\n"
   ]
  },
  {
   "cell_type": "code",
   "execution_count": 54,
   "metadata": {},
   "outputs": [],
   "source": [
    "m = int(s.pop(0))"
   ]
  },
  {
   "cell_type": "code",
   "execution_count": 55,
   "metadata": {},
   "outputs": [],
   "source": [
    "# menu = []\n",
    "# for _ in range(m):\n",
    "#     l = s.pop(0).split()[1:]\n",
    "#     menu.append(s.pop(0))"
   ]
  },
  {
   "cell_type": "code",
   "execution_count": 56,
   "metadata": {},
   "outputs": [],
   "source": [
    "menu = [list(map(int, s.pop(0).split())) for _ in range(m)]"
   ]
  },
  {
   "cell_type": "code",
   "execution_count": 57,
   "metadata": {},
   "outputs": [],
   "source": [
    "order = []"
   ]
  },
  {
   "cell_type": "code",
   "execution_count": 58,
   "metadata": {},
   "outputs": [],
   "source": [
    "for item in s:\n",
    "    order.append([list(map(int, item.split()[1:]))])"
   ]
  },
  {
   "cell_type": "code",
   "execution_count": 59,
   "metadata": {},
   "outputs": [],
   "source": [
    "order_n = np.array(order).reshape(-1, 3)"
   ]
  },
  {
   "cell_type": "code",
   "execution_count": 60,
   "metadata": {},
   "outputs": [
    {
     "name": "stdout",
     "output_type": "stream",
     "text": [
      "received order 13 100\n",
      "received order 13 100\n",
      "received order 13 100\n",
      "received order 13 100\n",
      "sold out 12\n",
      "received order 11 100\n"
     ]
    }
   ],
   "source": [
    "for i in range(order_n.shape[0]):\n",
    "    for j in range(len(menu)):\n",
    "        if (order_n[i][1] == menu[j][0]):\n",
    "            if order_n[i][2] > menu[j][1]:\n",
    "                print(\"sold out {0}\".format(order_n[i][0]))\n",
    "            else:\n",
    "                for _ in range(order_n[i][2]):\n",
    "                    print(\"received order {0} {1}\".format(order_n[i][0], order_n[i][1]))\n",
    "                menu[j][1] -= order_n[i][2]"
   ]
  },
  {
   "cell_type": "code",
   "execution_count": null,
   "metadata": {},
   "outputs": [],
   "source": []
  },
  {
   "cell_type": "code",
   "execution_count": 42,
   "metadata": {},
   "outputs": [
    {
     "data": {
      "text/plain": [
       "(3, 3)"
      ]
     },
     "execution_count": 42,
     "metadata": {},
     "output_type": "execute_result"
    }
   ],
   "source": [
    "order_n.shape"
   ]
  },
  {
   "cell_type": "code",
   "execution_count": 14,
   "metadata": {},
   "outputs": [
    {
     "data": {
      "text/plain": [
       "'2'"
      ]
     },
     "execution_count": 14,
     "metadata": {},
     "output_type": "execute_result"
    }
   ],
   "source": [
    "s[0]"
   ]
  },
  {
   "cell_type": "code",
   "execution_count": 12,
   "metadata": {},
   "outputs": [],
   "source": [
    "import numpy as np\n",
    "from collections import deque "
   ]
  },
  {
   "cell_type": "code",
   "execution_count": 76,
   "metadata": {},
   "outputs": [],
   "source": [
    "lines = [\"7 3\",\n",
    "      \"1\",\n",
    "      \"2\",\n",
    "      \"3\"]\n"
   ]
  },
  {
   "cell_type": "code",
   "execution_count": 77,
   "metadata": {},
   "outputs": [],
   "source": [
    "n, q = map(int, lines.pop(0).split())"
   ]
  },
  {
   "cell_type": "code",
   "execution_count": 78,
   "metadata": {},
   "outputs": [],
   "source": [
    "idx = np.arange(n)"
   ]
  },
  {
   "cell_type": "code",
   "execution_count": 79,
   "metadata": {},
   "outputs": [],
   "source": [
    "d_card = deque([i for i in range(1, n+1)])"
   ]
  },
  {
   "cell_type": "code",
   "execution_count": 80,
   "metadata": {},
   "outputs": [
    {
     "name": "stdout",
     "output_type": "stream",
     "text": [
      "[0 1 2 3 4 5 6]\n",
      "[-1  0  2  3  4  5  6]\n",
      "[1 0 2 3 4 5 6]\n",
      "[1 0 2 3 4 5 6]\n",
      "deque([2, 1, 3, 4, 5, 6, 7])\n",
      "[1 0 2 3 4 5 6]\n",
      "[ 0 -1  1  3  4  5  6]\n",
      "[0 2 1 3 4 5 6]\n",
      "[0 2 1 3 4 5 6]\n",
      "deque([1, 3, 2, 4, 5, 6, 7])\n",
      "[0 2 1 3 4 5 6]\n",
      "[-1  1  0  2  4  5  6]\n",
      "[3 1 0 2 4 5 6]\n",
      "[3 1 0 2 4 5 6]\n",
      "deque([3, 2, 4, 1, 5, 6, 7])\n",
      "[3 1 0 2 4 5 6]\n",
      "[ 2  0 -1  1  3  5  6]\n",
      "[2 0 4 1 3 5 6]\n",
      "[2 0 4 1 3 5 6]\n",
      "deque([2, 4, 1, 5, 3, 6, 7])\n",
      "[2 0 4 1 3 5 6]\n",
      "[ 1 -1  3  0  2  4  6]\n",
      "[1 5 3 0 2 4 6]\n",
      "[1 5 3 0 2 4 6]\n",
      "deque([4, 1, 5, 3, 6, 2, 7])\n",
      "[1 5 3 0 2 4 6]\n",
      "[ 0  4  2 -1  1  3  5]\n",
      "[0 4 2 6 1 3 5]\n",
      "[0 4 2 6 1 3 5]\n",
      "deque([1, 5, 3, 6, 2, 7, 4])\n"
     ]
    }
   ],
   "source": [
    "for i in range(1, n):\n",
    "    card = d_card.popleft()\n",
    "    c_idx = idx[card-1]\n",
    "    d_card.insert(i, card)\n",
    "    print(idx)\n",
    "    idx[i >= idx] -= 1 \n",
    "    print(idx)\n",
    "    idx[card-1] = i\n",
    "    print(idx)\n",
    "    print(idx)\n",
    "    print(d_card)"
   ]
  },
  {
   "cell_type": "code",
   "execution_count": 81,
   "metadata": {},
   "outputs": [
    {
     "name": "stdout",
     "output_type": "stream",
     "text": [
      "1\n",
      "5\n",
      "3\n"
     ]
    }
   ],
   "source": [
    "for num in lines:\n",
    "    nu = int(num)\n",
    "    print(idx[nu-1]+1)"
   ]
  },
  {
   "cell_type": "code",
   "execution_count": 4,
   "metadata": {},
   "outputs": [
    {
     "data": {
      "text/plain": [
       "'4 4'"
      ]
     },
     "execution_count": 4,
     "metadata": {},
     "output_type": "execute_result"
    }
   ],
   "source": [
    "lines[0]"
   ]
  },
  {
   "cell_type": "code",
   "execution_count": 46,
   "metadata": {},
   "outputs": [
    {
     "data": {
      "text/plain": [
       "array([ 3,  1, -1,  0])"
      ]
     },
     "execution_count": 46,
     "metadata": {},
     "output_type": "execute_result"
    }
   ],
   "source": [
    "idx"
   ]
  },
  {
   "cell_type": "code",
   "execution_count": null,
   "metadata": {},
   "outputs": [],
   "source": []
  }
 ],
 "metadata": {
  "kernelspec": {
   "display_name": "Python 3",
   "language": "python",
   "name": "python3"
  },
  "language_info": {
   "codemirror_mode": {
    "name": "ipython",
    "version": 3
   },
   "file_extension": ".py",
   "mimetype": "text/x-python",
   "name": "python",
   "nbconvert_exporter": "python",
   "pygments_lexer": "ipython3",
   "version": "3.6.10"
  }
 },
 "nbformat": 4,
 "nbformat_minor": 4
}
