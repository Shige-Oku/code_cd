{
 "cells": [
  {
   "cell_type": "code",
   "execution_count": 2,
   "id": "92b199db-ea87-4cfc-ba9c-b55e47db2e82",
   "metadata": {},
   "outputs": [],
   "source": [
    "import math"
   ]
  },
  {
   "cell_type": "code",
   "execution_count": 6,
   "id": "7734f2d7-0507-4642-ab58-9aa8ee2be311",
   "metadata": {},
   "outputs": [
    {
     "name": "stdin",
     "output_type": "stream",
     "text": [
      " 100000 99999\n"
     ]
    }
   ],
   "source": [
    "A, B = map(int, input().split())"
   ]
  },
  {
   "cell_type": "code",
   "execution_count": 7,
   "id": "8c0f2cc9-ff55-4f17-bee6-dd7b27bc0038",
   "metadata": {},
   "outputs": [
    {
     "name": "stdout",
     "output_type": "stream",
     "text": [
      "9999900000\n"
     ]
    }
   ],
   "source": [
    "print(A*B//math.gcd(A, B))"
   ]
  },
  {
   "cell_type": "code",
   "execution_count": null,
   "id": "1882cb0a-ebd5-4052-a03a-09e7f4ca99cb",
   "metadata": {},
   "outputs": [],
   "source": []
  }
 ],
 "metadata": {
  "kernelspec": {
   "display_name": "Python 3",
   "language": "python",
   "name": "python3"
  },
  "language_info": {
   "codemirror_mode": {
    "name": "ipython",
    "version": 3
   },
   "file_extension": ".py",
   "mimetype": "text/x-python",
   "name": "python",
   "nbconvert_exporter": "python",
   "pygments_lexer": "ipython3",
   "version": "3.6.13"
  }
 },
 "nbformat": 4,
 "nbformat_minor": 5
}
