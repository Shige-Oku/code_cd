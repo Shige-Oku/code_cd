{
 "cells": [
  {
   "cell_type": "code",
   "execution_count": 10,
   "id": "483792c8-52c7-4fa4-bebf-88f575691085",
   "metadata": {},
   "outputs": [
    {
     "name": "stdin",
     "output_type": "stream",
     "text": [
      " 4 100 60\n"
     ]
    }
   ],
   "source": [
    "N, K, M = map(int, input().split())"
   ]
  },
  {
   "cell_type": "code",
   "execution_count": 11,
   "id": "c97e7249-d0ce-4f2b-82a5-058579a68339",
   "metadata": {},
   "outputs": [
    {
     "name": "stdin",
     "output_type": "stream",
     "text": [
      " 0 0 0\n"
     ]
    }
   ],
   "source": [
    "An = list(map(int, input().split()))"
   ]
  },
  {
   "cell_type": "code",
   "execution_count": 12,
   "id": "0f1f44e8-d3db-4107-89b6-a666b0b8c9c8",
   "metadata": {},
   "outputs": [
    {
     "name": "stdout",
     "output_type": "stream",
     "text": [
      "-1\n"
     ]
    }
   ],
   "source": [
    "if N * M <= sum(An) + K:\n",
    "    print(max(0, N*M-sum(An)))\n",
    "else:\n",
    "    print('-1')"
   ]
  },
  {
   "cell_type": "code",
   "execution_count": 13,
   "id": "0a698812-a963-41ad-aee3-7c6321fcd036",
   "metadata": {},
   "outputs": [
    {
     "data": {
      "text/plain": [
       "0"
      ]
     },
     "execution_count": 13,
     "metadata": {},
     "output_type": "execute_result"
    }
   ],
   "source": [
    "sum(An)"
   ]
  },
  {
   "cell_type": "code",
   "execution_count": null,
   "id": "b996059f-a87a-4fc8-a4a2-1aecf84cceb3",
   "metadata": {},
   "outputs": [],
   "source": []
  }
 ],
 "metadata": {
  "kernelspec": {
   "display_name": "Python 3",
   "language": "python",
   "name": "python3"
  },
  "language_info": {
   "codemirror_mode": {
    "name": "ipython",
    "version": 3
   },
   "file_extension": ".py",
   "mimetype": "text/x-python",
   "name": "python",
   "nbconvert_exporter": "python",
   "pygments_lexer": "ipython3",
   "version": "3.6.13"
  }
 },
 "nbformat": 4,
 "nbformat_minor": 5
}
