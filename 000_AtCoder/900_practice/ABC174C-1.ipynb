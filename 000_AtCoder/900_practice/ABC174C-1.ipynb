{
 "cells": [
  {
   "cell_type": "code",
   "execution_count": 11,
   "id": "bc0b8cc1-6b8b-4466-97ed-982aaafe02cc",
   "metadata": {},
   "outputs": [
    {
     "name": "stdin",
     "output_type": "stream",
     "text": [
      " 999983\n"
     ]
    }
   ],
   "source": [
    "K = int(input())"
   ]
  },
  {
   "cell_type": "code",
   "execution_count": 18,
   "id": "4cfc61f7-b16a-4f4d-9b5e-8633f7335b3b",
   "metadata": {},
   "outputs": [],
   "source": [
    "def solve():\n",
    "    if K % 2 == 0 or K % 5 == 0:\n",
    "        return -1\n",
    "    ret = 1\n",
    "    if K % 7 == 0:\n",
    "        l = 9 * K // 7\n",
    "    else:\n",
    "        l = 9 * K\n",
    "    n = 10 % l\n",
    "    while True:\n",
    "        if n == 1:\n",
    "            break\n",
    "        n *= 10\n",
    "        n %= l\n",
    "        ret += 1 \n",
    "    return ret"
   ]
  },
  {
   "cell_type": "code",
   "execution_count": 19,
   "id": "b90a506c-f420-4d65-8947-cee68b94beb1",
   "metadata": {},
   "outputs": [
    {
     "name": "stdout",
     "output_type": "stream",
     "text": [
      "999982\n"
     ]
    }
   ],
   "source": [
    "print(solve())"
   ]
  },
  {
   "cell_type": "code",
   "execution_count": null,
   "id": "8236d981-4ad4-4e20-b221-1b596714c360",
   "metadata": {},
   "outputs": [],
   "source": []
  }
 ],
 "metadata": {
  "kernelspec": {
   "display_name": "Python 3",
   "language": "python",
   "name": "python3"
  },
  "language_info": {
   "codemirror_mode": {
    "name": "ipython",
    "version": 3
   },
   "file_extension": ".py",
   "mimetype": "text/x-python",
   "name": "python",
   "nbconvert_exporter": "python",
   "pygments_lexer": "ipython3",
   "version": "3.6.13"
  }
 },
 "nbformat": 4,
 "nbformat_minor": 5
}
