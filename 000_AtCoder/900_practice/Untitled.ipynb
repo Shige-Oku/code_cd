{
 "cells": [
  {
   "cell_type": "code",
   "execution_count": 2,
   "id": "c958be70-b326-426e-98bc-8297004e6063",
   "metadata": {},
   "outputs": [],
   "source": [
    "import math"
   ]
  },
  {
   "cell_type": "code",
   "execution_count": 13,
   "id": "f06980b6-613e-4cf9-8f98-7403116f116b",
   "metadata": {},
   "outputs": [
    {
     "name": "stdin",
     "output_type": "stream",
     "text": [
      " 25\n"
     ]
    }
   ],
   "source": [
    "N = int(input())"
   ]
  },
  {
   "cell_type": "code",
   "execution_count": 17,
   "id": "312a58df-524b-4324-8d70-5aa08b3fb9be",
   "metadata": {},
   "outputs": [
    {
     "name": "stdout",
     "output_type": "stream",
     "text": [
      "1 25 24\n",
      "5 5 8\n"
     ]
    }
   ],
   "source": [
    "ans = 10 ** 20\n",
    "for i in range(1, math.ceil(math.sqrt(N))+1):\n",
    "    q, m = divmod(N, i)\n",
    "    if m  != 0:\n",
    "        continue\n",
    "    ans = min(ans, abs(i-1)+(q-1))\n"
   ]
  },
  {
   "cell_type": "code",
   "execution_count": 18,
   "id": "61f1e61a-54d2-4230-8119-e1e2eca87ba1",
   "metadata": {},
   "outputs": [
    {
     "name": "stdout",
     "output_type": "stream",
     "text": [
      "8\n"
     ]
    }
   ],
   "source": [
    "print(ans)"
   ]
  },
  {
   "cell_type": "code",
   "execution_count": null,
   "id": "794fb4a5-e3a1-4fa7-9c4e-817cfb9a134c",
   "metadata": {},
   "outputs": [],
   "source": []
  }
 ],
 "metadata": {
  "kernelspec": {
   "display_name": "Python 3",
   "language": "python",
   "name": "python3"
  },
  "language_info": {
   "codemirror_mode": {
    "name": "ipython",
    "version": 3
   },
   "file_extension": ".py",
   "mimetype": "text/x-python",
   "name": "python",
   "nbconvert_exporter": "python",
   "pygments_lexer": "ipython3",
   "version": "3.6.13"
  }
 },
 "nbformat": 4,
 "nbformat_minor": 5
}
