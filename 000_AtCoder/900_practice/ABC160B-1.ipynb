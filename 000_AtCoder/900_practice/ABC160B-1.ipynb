{
 "cells": [
  {
   "cell_type": "code",
   "execution_count": 10,
   "id": "c1b78946-78c5-453a-8839-21ed7642b7a5",
   "metadata": {},
   "outputs": [
    {
     "name": "stdin",
     "output_type": "stream",
     "text": [
      " 1000000000\n"
     ]
    }
   ],
   "source": [
    "X = int(input())"
   ]
  },
  {
   "cell_type": "code",
   "execution_count": 11,
   "id": "183f0312-d2ee-4f81-90d1-6bb86d4714c2",
   "metadata": {},
   "outputs": [
    {
     "name": "stdout",
     "output_type": "stream",
     "text": [
      "2000000000\n"
     ]
    }
   ],
   "source": [
    "y500 = X // 500\n",
    "y5 = (X - 500 * y500) // 5\n",
    "print(y500*1000 + y5*5)"
   ]
  },
  {
   "cell_type": "code",
   "execution_count": 7,
   "id": "4d52f591-504e-4f00-9e58-eeb4d105ce8b",
   "metadata": {},
   "outputs": [
    {
     "data": {
      "text/plain": [
       "(2, 4)"
      ]
     },
     "execution_count": 7,
     "metadata": {},
     "output_type": "execute_result"
    }
   ],
   "source": [
    "y500, y5"
   ]
  },
  {
   "cell_type": "code",
   "execution_count": 12,
   "id": "8759adf3-facc-4556-8056-5a7f149e3df2",
   "metadata": {},
   "outputs": [
    {
     "name": "stdout",
     "output_type": "stream",
     "text": [
      "2000000000\n"
     ]
    }
   ],
   "source": [
    "c500, r500 = divmod(X, 500)\n",
    "c5 = r500 // 5\n",
    "print(c500*1000 + c5*5)"
   ]
  },
  {
   "cell_type": "code",
   "execution_count": null,
   "id": "720dd436-3c08-4085-9b80-907115eadc24",
   "metadata": {},
   "outputs": [],
   "source": []
  },
  {
   "cell_type": "code",
   "execution_count": null,
   "id": "1da5815e-dcd7-4195-8d4c-763d0259c101",
   "metadata": {},
   "outputs": [],
   "source": []
  }
 ],
 "metadata": {
  "kernelspec": {
   "display_name": "Python 3",
   "language": "python",
   "name": "python3"
  },
  "language_info": {
   "codemirror_mode": {
    "name": "ipython",
    "version": 3
   },
   "file_extension": ".py",
   "mimetype": "text/x-python",
   "name": "python",
   "nbconvert_exporter": "python",
   "pygments_lexer": "ipython3",
   "version": "3.6.13"
  }
 },
 "nbformat": 4,
 "nbformat_minor": 5
}
