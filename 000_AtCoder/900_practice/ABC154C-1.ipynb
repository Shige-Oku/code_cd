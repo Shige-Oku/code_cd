{
 "cells": [
  {
   "cell_type": "code",
   "execution_count": 17,
   "id": "d86c53dd-7913-4223-8f8f-e5772ab1ec12",
   "metadata": {},
   "outputs": [
    {
     "name": "stdin",
     "output_type": "stream",
     "text": [
      " 5\n"
     ]
    }
   ],
   "source": [
    "N = int(input())"
   ]
  },
  {
   "cell_type": "code",
   "execution_count": 18,
   "id": "5479cb5a-d78b-424e-b309-9f1a03ddd01a",
   "metadata": {},
   "outputs": [
    {
     "name": "stdin",
     "output_type": "stream",
     "text": [
      " 2 6 1 4 5\n"
     ]
    }
   ],
   "source": [
    "An = list(map(int, input().split()))"
   ]
  },
  {
   "cell_type": "code",
   "execution_count": 12,
   "id": "1a4f9783-1d47-4fa0-965b-425f1d84a31f",
   "metadata": {},
   "outputs": [],
   "source": [
    "An_s = set(An)"
   ]
  },
  {
   "cell_type": "code",
   "execution_count": 13,
   "id": "78b4e7e9-2f29-45e8-aa47-ac479b846e60",
   "metadata": {},
   "outputs": [
    {
     "name": "stdout",
     "output_type": "stream",
     "text": [
      "NO\n"
     ]
    }
   ],
   "source": [
    "if N == len(An_s):\n",
    "    print('YES')\n",
    "else:\n",
    "    print('NO')"
   ]
  },
  {
   "cell_type": "code",
   "execution_count": 19,
   "id": "50c28457-4ab7-454c-8227-72093e89d0e2",
   "metadata": {},
   "outputs": [],
   "source": [
    "An_s = sorted(An)"
   ]
  },
  {
   "cell_type": "code",
   "execution_count": 20,
   "id": "ac762234-5937-41f4-84e5-673934748c01",
   "metadata": {},
   "outputs": [
    {
     "name": "stdout",
     "output_type": "stream",
     "text": [
      "YES\n"
     ]
    }
   ],
   "source": [
    "for i in range(N-1):\n",
    "    if An_s[i] == An_s[i+1]:\n",
    "        print('NO')\n",
    "        break\n",
    "else:\n",
    "    print('YES')"
   ]
  },
  {
   "cell_type": "code",
   "execution_count": null,
   "id": "f1da6ba7-3ca6-4bd0-8fb9-333742695654",
   "metadata": {},
   "outputs": [],
   "source": []
  }
 ],
 "metadata": {
  "kernelspec": {
   "display_name": "Python 3",
   "language": "python",
   "name": "python3"
  },
  "language_info": {
   "codemirror_mode": {
    "name": "ipython",
    "version": 3
   },
   "file_extension": ".py",
   "mimetype": "text/x-python",
   "name": "python",
   "nbconvert_exporter": "python",
   "pygments_lexer": "ipython3",
   "version": "3.6.13"
  }
 },
 "nbformat": 4,
 "nbformat_minor": 5
}
