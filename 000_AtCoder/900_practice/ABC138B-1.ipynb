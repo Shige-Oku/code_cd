{
 "cells": [
  {
   "cell_type": "code",
   "execution_count": 10,
   "id": "7063d3ea-07b3-45e0-897b-ea2ae3f1e64f",
   "metadata": {},
   "outputs": [
    {
     "name": "stdin",
     "output_type": "stream",
     "text": [
      " 1\n"
     ]
    }
   ],
   "source": [
    "N = int(input())"
   ]
  },
  {
   "cell_type": "code",
   "execution_count": 11,
   "id": "93679668-52fd-4937-92a2-39c3a3b51b2a",
   "metadata": {},
   "outputs": [
    {
     "name": "stdin",
     "output_type": "stream",
     "text": [
      " 1000\n"
     ]
    }
   ],
   "source": [
    "An = list(map(int, input().split()))"
   ]
  },
  {
   "cell_type": "code",
   "execution_count": 12,
   "id": "ddf27f3d-13aa-4ad4-93d7-8ef370eb8bc9",
   "metadata": {},
   "outputs": [],
   "source": [
    "bunbo = 0\n",
    "for A in An:\n",
    "    bunbo += 1 / A"
   ]
  },
  {
   "cell_type": "code",
   "execution_count": 13,
   "id": "68e2e675-cc32-4a03-a001-cf84d5b1087c",
   "metadata": {},
   "outputs": [
    {
     "name": "stdout",
     "output_type": "stream",
     "text": [
      "1000.0\n"
     ]
    }
   ],
   "source": [
    "print(1/bunbo)"
   ]
  },
  {
   "cell_type": "code",
   "execution_count": null,
   "id": "8d6b7d6c-0b2c-4af5-a8ad-04b19c682128",
   "metadata": {},
   "outputs": [],
   "source": []
  }
 ],
 "metadata": {
  "kernelspec": {
   "display_name": "Python 3",
   "language": "python",
   "name": "python3"
  },
  "language_info": {
   "codemirror_mode": {
    "name": "ipython",
    "version": 3
   },
   "file_extension": ".py",
   "mimetype": "text/x-python",
   "name": "python",
   "nbconvert_exporter": "python",
   "pygments_lexer": "ipython3",
   "version": "3.6.13"
  }
 },
 "nbformat": 4,
 "nbformat_minor": 5
}
