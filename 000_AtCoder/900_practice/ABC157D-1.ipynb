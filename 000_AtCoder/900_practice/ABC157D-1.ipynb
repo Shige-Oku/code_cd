{
 "cells": [
  {
   "cell_type": "code",
   "execution_count": null,
   "id": "d981aa2a-a6d2-4661-8c46-08abd7064653",
   "metadata": {},
   "outputs": [],
   "source": [
    "# サンプルが合わない"
   ]
  },
  {
   "cell_type": "code",
   "execution_count": 5,
   "id": "2e48f34f-40bb-41db-857b-ac8ecea3c34f",
   "metadata": {},
   "outputs": [
    {
     "name": "stdin",
     "output_type": "stream",
     "text": [
      " 4 4 1\n"
     ]
    }
   ],
   "source": [
    "N, M, K = map(int, input().split())"
   ]
  },
  {
   "cell_type": "code",
   "execution_count": 6,
   "id": "bc79c074-4e82-4bfe-ac11-6a55538ff60e",
   "metadata": {},
   "outputs": [
    {
     "name": "stdin",
     "output_type": "stream",
     "text": [
      " 2 1\n",
      " 1 3\n",
      " 3 2\n",
      " 3 4\n"
     ]
    }
   ],
   "source": [
    "ABn = [list(map(int, input().split())) for _ in range(M)]"
   ]
  },
  {
   "cell_type": "code",
   "execution_count": 7,
   "id": "1fb038f8-e0ee-430f-abee-6ab1d7fe3b7e",
   "metadata": {},
   "outputs": [
    {
     "name": "stdin",
     "output_type": "stream",
     "text": [
      " 4 1\n"
     ]
    }
   ],
   "source": [
    "CDn = [list(map(int, input().split())) for _ in range(K)]"
   ]
  },
  {
   "cell_type": "code",
   "execution_count": 18,
   "id": "94071656-3dba-4679-8f81-cbef37f6ddc1",
   "metadata": {},
   "outputs": [],
   "source": [
    "g_f = [[] for _ in range(N+1)]\n",
    "for A, B in ABn:\n",
    "    g_f[A].append(B)\n",
    "    g_f[B].append(A)\n",
    "g_b = [[] for _ in range(N+1)]\n",
    "for C, D in CDn:\n",
    "    g_b[C].append(D)\n",
    "    g_b[D].append(C)\n"
   ]
  },
  {
   "cell_type": "code",
   "execution_count": 22,
   "id": "e53ff068-1851-4b6f-ac26-f6487a72c193",
   "metadata": {},
   "outputs": [],
   "source": [
    "ans = []\n",
    "for i in range(1, N+1):\n",
    "    cnt = N - len(g_f[i]) - len(g_b[i]) - 1\n",
    "    ans.append(cnt)"
   ]
  },
  {
   "cell_type": "code",
   "execution_count": 25,
   "id": "d5d210d0-be82-42a6-b1d5-d7cb4d22eced",
   "metadata": {},
   "outputs": [
    {
     "name": "stdout",
     "output_type": "stream",
     "text": [
      "0 1 0 1\n"
     ]
    }
   ],
   "source": [
    "print(*ans)"
   ]
  },
  {
   "cell_type": "code",
   "execution_count": 23,
   "id": "04c46111-45f6-4185-bdad-58c0588e0447",
   "metadata": {},
   "outputs": [
    {
     "data": {
      "text/plain": [
       "([[], [2, 3], [1, 3], [1, 2, 4], [3]], [[], [4], [], [], [1]])"
      ]
     },
     "execution_count": 23,
     "metadata": {},
     "output_type": "execute_result"
    }
   ],
   "source": [
    "g_f, g_b"
   ]
  },
  {
   "cell_type": "code",
   "execution_count": 24,
   "id": "58c92361-0756-46db-9a91-17392e0f4167",
   "metadata": {},
   "outputs": [
    {
     "data": {
      "text/plain": [
       "[0, 1, 0, 1]"
      ]
     },
     "execution_count": 24,
     "metadata": {},
     "output_type": "execute_result"
    }
   ],
   "source": [
    "ans"
   ]
  },
  {
   "cell_type": "code",
   "execution_count": null,
   "id": "e1610b1f-e517-4d7b-b1be-d4af278e8e71",
   "metadata": {},
   "outputs": [],
   "source": []
  },
  {
   "cell_type": "code",
   "execution_count": null,
   "id": "0df42775-3b2b-410d-8e1c-85137bd5e156",
   "metadata": {},
   "outputs": [],
   "source": []
  }
 ],
 "metadata": {
  "kernelspec": {
   "display_name": "Python 3",
   "language": "python",
   "name": "python3"
  },
  "language_info": {
   "codemirror_mode": {
    "name": "ipython",
    "version": 3
   },
   "file_extension": ".py",
   "mimetype": "text/x-python",
   "name": "python",
   "nbconvert_exporter": "python",
   "pygments_lexer": "ipython3",
   "version": "3.6.13"
  }
 },
 "nbformat": 4,
 "nbformat_minor": 5
}
