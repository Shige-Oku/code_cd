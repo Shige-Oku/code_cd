{
 "cells": [
  {
   "cell_type": "code",
   "execution_count": 11,
   "id": "0967a858-94e0-4063-85c4-8a04a160bcee",
   "metadata": {},
   "outputs": [
    {
     "name": "stdin",
     "output_type": "stream",
     "text": [
      " atcoder\n"
     ]
    }
   ],
   "source": [
    "S = input()"
   ]
  },
  {
   "cell_type": "code",
   "execution_count": 12,
   "id": "5d25a515-b040-4657-affb-696c89455a91",
   "metadata": {},
   "outputs": [],
   "source": [
    "s1 = S[:len(S)//2]\n",
    "s2 = S[len(S)//2+1:]"
   ]
  },
  {
   "cell_type": "code",
   "execution_count": 13,
   "id": "dc177b7d-77a7-4460-b071-a4670ddecb32",
   "metadata": {},
   "outputs": [
    {
     "name": "stdout",
     "output_type": "stream",
     "text": [
      "No\n"
     ]
    }
   ],
   "source": [
    "if S == S[::-1] and s1 == s1[::-1] and s2 == s2[::-1]:\n",
    "    print('Yes')\n",
    "else:\n",
    "    print('No')"
   ]
  },
  {
   "cell_type": "code",
   "execution_count": 5,
   "id": "63ae2cfd-323f-4610-a001-18a80925663a",
   "metadata": {},
   "outputs": [
    {
     "data": {
      "text/plain": [
       "('aka', 'aka')"
      ]
     },
     "execution_count": 5,
     "metadata": {},
     "output_type": "execute_result"
    }
   ],
   "source": [
    "s1, s2"
   ]
  },
  {
   "cell_type": "code",
   "execution_count": 6,
   "id": "8e873717-d75a-4fbc-b8de-2af3334d4723",
   "metadata": {},
   "outputs": [],
   "source": [
    "def check(s):\n",
    "    for s1, s2 in zip(s, s[::-1]):\n",
    "        if s1 != s2:\n",
    "            return False\n",
    "    return True"
   ]
  },
  {
   "cell_type": "code",
   "execution_count": null,
   "id": "f58029e4-a176-47a4-8d1d-888b552ab503",
   "metadata": {},
   "outputs": [],
   "source": []
  }
 ],
 "metadata": {
  "kernelspec": {
   "display_name": "Python 3",
   "language": "python",
   "name": "python3"
  },
  "language_info": {
   "codemirror_mode": {
    "name": "ipython",
    "version": 3
   },
   "file_extension": ".py",
   "mimetype": "text/x-python",
   "name": "python",
   "nbconvert_exporter": "python",
   "pygments_lexer": "ipython3",
   "version": "3.6.13"
  }
 },
 "nbformat": 4,
 "nbformat_minor": 5
}
