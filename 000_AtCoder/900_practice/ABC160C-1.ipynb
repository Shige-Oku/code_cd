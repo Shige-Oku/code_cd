{
 "cells": [
  {
   "cell_type": "code",
   "execution_count": 1,
   "id": "b724fb10-ad95-4a19-84f9-c409e363691d",
   "metadata": {},
   "outputs": [
    {
     "name": "stdin",
     "output_type": "stream",
     "text": [
      " 20 3\n"
     ]
    }
   ],
   "source": [
    "K, N = map(int, input().split())"
   ]
  },
  {
   "cell_type": "code",
   "execution_count": 18,
   "id": "aacd676f-4991-4615-8adf-58ae02840289",
   "metadata": {},
   "outputs": [
    {
     "name": "stdin",
     "output_type": "stream",
     "text": [
      " 0 5 15\n"
     ]
    }
   ],
   "source": [
    "An = list(map(int, input().split()))"
   ]
  },
  {
   "cell_type": "code",
   "execution_count": 19,
   "id": "cf64bf32-62b4-498b-bdd7-cd27cdef5236",
   "metadata": {},
   "outputs": [],
   "source": [
    "An.append(K+An[0])"
   ]
  },
  {
   "cell_type": "code",
   "execution_count": 20,
   "id": "7414f7b6-fa83-4ee6-8198-721cb42e4df8",
   "metadata": {},
   "outputs": [],
   "source": [
    "An_d = []\n",
    "for i in range(N):\n",
    "    An_d.append(An[i+1]-An[i])"
   ]
  },
  {
   "cell_type": "code",
   "execution_count": 21,
   "id": "662fc28c-5dcd-4e69-885e-59b8417cd646",
   "metadata": {},
   "outputs": [
    {
     "name": "stdout",
     "output_type": "stream",
     "text": [
      "10\n"
     ]
    }
   ],
   "source": [
    "print(K-max(An_d))"
   ]
  },
  {
   "cell_type": "code",
   "execution_count": 16,
   "id": "46d5b067-69c9-4786-afff-e897eb504a70",
   "metadata": {},
   "outputs": [
    {
     "data": {
      "text/plain": [
       "([5, 5, 10], [5, 10, 15, 25])"
      ]
     },
     "execution_count": 16,
     "metadata": {},
     "output_type": "execute_result"
    }
   ],
   "source": [
    "An_d, An"
   ]
  },
  {
   "cell_type": "code",
   "execution_count": 9,
   "id": "09f6993b-df6c-4b3e-ac72-171bb3969b00",
   "metadata": {},
   "outputs": [
    {
     "data": {
      "text/plain": [
       "55"
      ]
     },
     "execution_count": 9,
     "metadata": {},
     "output_type": "execute_result"
    }
   ],
   "source": [
    "max(An_c)"
   ]
  },
  {
   "cell_type": "code",
   "execution_count": 22,
   "id": "789ff8be-c6a3-46c1-a3ca-a27f4d6b4cff",
   "metadata": {},
   "outputs": [],
   "source": [
    "max_interval = max(y - x for x, y in zip(An, An[1:]))"
   ]
  },
  {
   "cell_type": "code",
   "execution_count": 23,
   "id": "623c9050-094d-4942-8d04-14b7d6896f56",
   "metadata": {},
   "outputs": [
    {
     "name": "stdout",
     "output_type": "stream",
     "text": [
      "10\n"
     ]
    }
   ],
   "source": [
    "print(K-max_interval)"
   ]
  },
  {
   "cell_type": "code",
   "execution_count": null,
   "id": "90bd5b22-e1f9-4bb8-a38f-e3e56172edbd",
   "metadata": {},
   "outputs": [],
   "source": []
  }
 ],
 "metadata": {
  "kernelspec": {
   "display_name": "Python 3",
   "language": "python",
   "name": "python3"
  },
  "language_info": {
   "codemirror_mode": {
    "name": "ipython",
    "version": 3
   },
   "file_extension": ".py",
   "mimetype": "text/x-python",
   "name": "python",
   "nbconvert_exporter": "python",
   "pygments_lexer": "ipython3",
   "version": "3.6.13"
  }
 },
 "nbformat": 4,
 "nbformat_minor": 5
}
