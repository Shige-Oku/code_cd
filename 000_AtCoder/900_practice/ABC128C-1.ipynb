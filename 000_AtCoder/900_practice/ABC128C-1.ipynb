{
 "cells": [
  {
   "cell_type": "code",
   "execution_count": 4,
   "id": "550b638f-1fb6-49f8-b056-0e53c57a9f9a",
   "metadata": {},
   "outputs": [],
   "source": [
    "from itertools import product"
   ]
  },
  {
   "cell_type": "code",
   "execution_count": 42,
   "id": "e5f98264-f264-42ce-9a2d-facade299c74",
   "metadata": {},
   "outputs": [
    {
     "name": "stdin",
     "output_type": "stream",
     "text": [
      " 2 3\n"
     ]
    }
   ],
   "source": [
    "N, M = map(int, input().split())"
   ]
  },
  {
   "cell_type": "code",
   "execution_count": 43,
   "id": "7565fd9b-8cfd-4296-8070-5055e70e700c",
   "metadata": {},
   "outputs": [
    {
     "name": "stdin",
     "output_type": "stream",
     "text": [
      " 2 1 2\n",
      " 1 1\n",
      " 1 2\n"
     ]
    }
   ],
   "source": [
    "KSn = [list(map(int, input().split())) for _ in range(M)]"
   ]
  },
  {
   "cell_type": "code",
   "execution_count": 44,
   "id": "25fd5926-9540-49c7-8d4d-db017cbae33e",
   "metadata": {},
   "outputs": [
    {
     "name": "stdin",
     "output_type": "stream",
     "text": [
      " 0 0 1\n"
     ]
    }
   ],
   "source": [
    "Pn = list(map(int, input().split()))"
   ]
  },
  {
   "cell_type": "code",
   "execution_count": 53,
   "id": "1d84384d-9e25-460a-a930-98d0b73ae61e",
   "metadata": {},
   "outputs": [],
   "source": [
    "ans = 0\n",
    "for ptn in product([0, 1], repeat=N):\n",
    "    chk = [0] * M\n",
    "    for i in range(M):\n",
    "        cnt = 0\n",
    "        for j, p in enumerate(ptn, 1):\n",
    "            if j not in KSn[i][1:]:\n",
    "                continue\n",
    "            if p == 0:\n",
    "                continue\n",
    "            cnt += 1\n",
    "        if cnt % 2 == Pn[i]:\n",
    "            chk[i] = 1\n",
    "    if sum(chk) == M:\n",
    "        ans += 1\n"
   ]
  },
  {
   "cell_type": "code",
   "execution_count": 51,
   "id": "76f681bd-f358-45d4-92b6-ef02d8cc0989",
   "metadata": {},
   "outputs": [
    {
     "name": "stdout",
     "output_type": "stream",
     "text": [
      "0\n"
     ]
    }
   ],
   "source": [
    "print(ans)"
   ]
  },
  {
   "cell_type": "code",
   "execution_count": 41,
   "id": "5bc60cce-9529-4929-a5d4-2d1b783a193e",
   "metadata": {},
   "outputs": [
    {
     "data": {
      "text/plain": [
       "False"
      ]
     },
     "execution_count": 41,
     "metadata": {},
     "output_type": "execute_result"
    }
   ],
   "source": [
    "3 in KSn[0][1:]"
   ]
  },
  {
   "cell_type": "code",
   "execution_count": null,
   "id": "6eafbb8a-31e6-4af5-917c-5af17e88db59",
   "metadata": {},
   "outputs": [],
   "source": []
  }
 ],
 "metadata": {
  "kernelspec": {
   "display_name": "Python 3",
   "language": "python",
   "name": "python3"
  },
  "language_info": {
   "codemirror_mode": {
    "name": "ipython",
    "version": 3
   },
   "file_extension": ".py",
   "mimetype": "text/x-python",
   "name": "python",
   "nbconvert_exporter": "python",
   "pygments_lexer": "ipython3",
   "version": "3.6.13"
  }
 },
 "nbformat": 4,
 "nbformat_minor": 5
}
