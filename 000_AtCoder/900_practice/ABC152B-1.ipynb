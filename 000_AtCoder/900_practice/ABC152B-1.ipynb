{
 "cells": [
  {
   "cell_type": "code",
   "execution_count": 21,
   "id": "8a1a695b-df6f-4ab2-988a-6221f75bf1e4",
   "metadata": {},
   "outputs": [
    {
     "name": "stdin",
     "output_type": "stream",
     "text": [
      " 7 7\n"
     ]
    }
   ],
   "source": [
    "A, B = map(int, input().split())"
   ]
  },
  {
   "cell_type": "code",
   "execution_count": 22,
   "id": "7c0a376c-356b-4487-910e-8ad5d3e0f320",
   "metadata": {},
   "outputs": [],
   "source": [
    "s1 = str(A) * B\n",
    "s2 = str(B) * A"
   ]
  },
  {
   "cell_type": "code",
   "execution_count": 23,
   "id": "535b79eb-9029-4c66-88fd-a63c2ae99858",
   "metadata": {},
   "outputs": [
    {
     "name": "stdout",
     "output_type": "stream",
     "text": [
      "7777777\n"
     ]
    }
   ],
   "source": [
    "if s1 <= s2:\n",
    "    print(s1)\n",
    "else:\n",
    "    print(s2)"
   ]
  },
  {
   "cell_type": "code",
   "execution_count": 24,
   "id": "73f3a473-2320-4e6b-9636-6f6412c64f22",
   "metadata": {},
   "outputs": [
    {
     "data": {
      "text/plain": [
       "('7777777', '7777777')"
      ]
     },
     "execution_count": 24,
     "metadata": {},
     "output_type": "execute_result"
    }
   ],
   "source": [
    "s1, s2"
   ]
  },
  {
   "cell_type": "code",
   "execution_count": 25,
   "id": "99de5b36-28b0-4f62-9fc9-bae77f2f6135",
   "metadata": {},
   "outputs": [
    {
     "name": "stdout",
     "output_type": "stream",
     "text": [
      "7777777\n"
     ]
    }
   ],
   "source": [
    "print(str(min(A, B))*max(A, B))"
   ]
  },
  {
   "cell_type": "code",
   "execution_count": null,
   "id": "cfe20ca2-3f80-499d-a1a0-de4eac2130eb",
   "metadata": {},
   "outputs": [],
   "source": []
  },
  {
   "cell_type": "code",
   "execution_count": null,
   "id": "2f490ef4-7ccd-496d-bf59-564e69ec60b2",
   "metadata": {},
   "outputs": [],
   "source": []
  }
 ],
 "metadata": {
  "kernelspec": {
   "display_name": "Python 3",
   "language": "python",
   "name": "python3"
  },
  "language_info": {
   "codemirror_mode": {
    "name": "ipython",
    "version": 3
   },
   "file_extension": ".py",
   "mimetype": "text/x-python",
   "name": "python",
   "nbconvert_exporter": "python",
   "pygments_lexer": "ipython3",
   "version": "3.6.13"
  }
 },
 "nbformat": 4,
 "nbformat_minor": 5
}
