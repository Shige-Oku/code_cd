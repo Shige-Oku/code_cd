{
 "cells": [
  {
   "cell_type": "code",
   "execution_count": 9,
   "id": "e0aed2b4-00bc-4934-87c0-2b07b4c55d29",
   "metadata": {},
   "outputs": [
    {
     "name": "stdin",
     "output_type": "stream",
     "text": [
      " 8\n"
     ]
    }
   ],
   "source": [
    "N = int(input())"
   ]
  },
  {
   "cell_type": "code",
   "execution_count": 10,
   "id": "fb12a3ab-be14-4b55-b545-fb69ecc2cef4",
   "metadata": {},
   "outputs": [
    {
     "name": "stdin",
     "output_type": "stream",
     "text": [
      " 27 23 76 2 3 5 62 52\n"
     ]
    }
   ],
   "source": [
    "Wn = list(map(int, input().split()))"
   ]
  },
  {
   "cell_type": "code",
   "execution_count": 11,
   "id": "e0ace365-36e3-4c81-a7c2-fb30d1287299",
   "metadata": {},
   "outputs": [],
   "source": [
    "ans = 10 ** 20\n",
    "l = 0\n",
    "r = sum(Wn)\n",
    "for W in Wn:\n",
    "    l += W\n",
    "    r -= W\n",
    "    ans = min(ans, abs(l-r))"
   ]
  },
  {
   "cell_type": "code",
   "execution_count": 12,
   "id": "30354e26-6007-401c-93c7-2951042e5b83",
   "metadata": {},
   "outputs": [
    {
     "name": "stdout",
     "output_type": "stream",
     "text": [
      "2\n"
     ]
    }
   ],
   "source": [
    "print(ans)"
   ]
  },
  {
   "cell_type": "code",
   "execution_count": null,
   "id": "d134f9dc-070c-4fd7-8011-6841a4bc0a2e",
   "metadata": {},
   "outputs": [],
   "source": []
  }
 ],
 "metadata": {
  "kernelspec": {
   "display_name": "Python 3",
   "language": "python",
   "name": "python3"
  },
  "language_info": {
   "codemirror_mode": {
    "name": "ipython",
    "version": 3
   },
   "file_extension": ".py",
   "mimetype": "text/x-python",
   "name": "python",
   "nbconvert_exporter": "python",
   "pygments_lexer": "ipython3",
   "version": "3.6.13"
  }
 },
 "nbformat": 4,
 "nbformat_minor": 5
}
