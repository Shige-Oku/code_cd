{
 "cells": [
  {
   "cell_type": "code",
   "execution_count": 19,
   "id": "7c31142c-f6f7-46d3-b44e-53cbe60ff130",
   "metadata": {},
   "outputs": [
    {
     "name": "stdin",
     "output_type": "stream",
     "text": [
      " 500000000000 500000000000 1000000000000\n"
     ]
    }
   ],
   "source": [
    "A, B, K = map(int, input().split())"
   ]
  },
  {
   "cell_type": "code",
   "execution_count": 20,
   "id": "577808fb-94dd-4328-b65b-961f10ebf658",
   "metadata": {},
   "outputs": [],
   "source": [
    "t = A - K\n",
    "if t < 0:\n",
    "    a = B + t\n",
    "else:\n",
    "    a = B\n"
   ]
  },
  {
   "cell_type": "code",
   "execution_count": 21,
   "id": "b099ef45-a060-4571-87bb-c2fb3b1c1951",
   "metadata": {},
   "outputs": [
    {
     "name": "stdout",
     "output_type": "stream",
     "text": [
      "0 0\n"
     ]
    }
   ],
   "source": [
    "print(max(0, t), max(0, a))"
   ]
  },
  {
   "cell_type": "code",
   "execution_count": 22,
   "id": "8b563c50-f46b-4767-bdab-109e4745f841",
   "metadata": {},
   "outputs": [
    {
     "name": "stdout",
     "output_type": "stream",
     "text": [
      "0 0\n"
     ]
    }
   ],
   "source": [
    "if A - K >= 0:\n",
    "    print(A-K, B)\n",
    "elif A + B >= K:\n",
    "    print(0, B-(K-A))\n",
    "else:\n",
    "    print(0, 0)"
   ]
  },
  {
   "cell_type": "code",
   "execution_count": null,
   "id": "ddd0e2e3-4788-4408-93cd-2e354ee562ab",
   "metadata": {},
   "outputs": [],
   "source": []
  },
  {
   "cell_type": "code",
   "execution_count": null,
   "id": "1ce0c9e3-6d27-47f2-b07a-a4d854e44e3f",
   "metadata": {},
   "outputs": [],
   "source": []
  }
 ],
 "metadata": {
  "kernelspec": {
   "display_name": "Python 3",
   "language": "python",
   "name": "python3"
  },
  "language_info": {
   "codemirror_mode": {
    "name": "ipython",
    "version": 3
   },
   "file_extension": ".py",
   "mimetype": "text/x-python",
   "name": "python",
   "nbconvert_exporter": "python",
   "pygments_lexer": "ipython3",
   "version": "3.6.13"
  }
 },
 "nbformat": 4,
 "nbformat_minor": 5
}
