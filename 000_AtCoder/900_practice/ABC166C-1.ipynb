{
 "cells": [
  {
   "cell_type": "code",
   "execution_count": 11,
   "id": "528cd67a-a818-4048-840e-0bda89cc1e3a",
   "metadata": {},
   "outputs": [
    {
     "name": "stdin",
     "output_type": "stream",
     "text": [
      " 6 5\n"
     ]
    }
   ],
   "source": [
    "N, M = map(int, input().split())"
   ]
  },
  {
   "cell_type": "code",
   "execution_count": 12,
   "id": "378d26cc-9b8d-4dec-9884-bcc6e39a5522",
   "metadata": {},
   "outputs": [
    {
     "name": "stdin",
     "output_type": "stream",
     "text": [
      " 8 6 9 1 2 1\n"
     ]
    }
   ],
   "source": [
    "An = list(map(int, input().split()))"
   ]
  },
  {
   "cell_type": "code",
   "execution_count": 13,
   "id": "890ee47d-7bcf-4a44-9c8e-429c139daeba",
   "metadata": {},
   "outputs": [
    {
     "name": "stdin",
     "output_type": "stream",
     "text": [
      " 1 3\n",
      " 4 2\n",
      " 4 3\n",
      " 4 6\n",
      " 4 6\n"
     ]
    }
   ],
   "source": [
    "ABn = [list(map(int, input().split())) for _ in range(M)]"
   ]
  },
  {
   "cell_type": "code",
   "execution_count": 14,
   "id": "12a69872-a050-4b65-948c-fdd34342ad29",
   "metadata": {},
   "outputs": [],
   "source": [
    "graph = [[] for _ in range(N)]\n",
    "for A, B in ABn:\n",
    "    graph[A-1].append(B-1)\n",
    "    graph[B-1].append(A-1)"
   ]
  },
  {
   "cell_type": "code",
   "execution_count": 28,
   "id": "24dc3a66-b77b-4f3b-a637-6f4a35a8b127",
   "metadata": {},
   "outputs": [],
   "source": [
    "ans = 0\n",
    "for i, gr in enumerate(graph):\n",
    "    c = An[i]\n",
    "    flg = True\n",
    "    for g in gr:\n",
    "        if c <= An[g]:\n",
    "            flg = False\n",
    "    if flg:\n",
    "        ans += 1\n"
   ]
  },
  {
   "cell_type": "code",
   "execution_count": 29,
   "id": "4121f668-e4ab-493f-9211-737dd82418dd",
   "metadata": {},
   "outputs": [
    {
     "name": "stdout",
     "output_type": "stream",
     "text": [
      "3\n"
     ]
    }
   ],
   "source": [
    "print(ans)"
   ]
  },
  {
   "cell_type": "code",
   "execution_count": 25,
   "id": "1c464a6a-b45c-46bb-847c-403bdb23c1a3",
   "metadata": {},
   "outputs": [
    {
     "data": {
      "text/plain": [
       "[[2], [3], [0, 3], [1, 2, 5, 5], [], [3, 3]]"
      ]
     },
     "execution_count": 25,
     "metadata": {},
     "output_type": "execute_result"
    }
   ],
   "source": [
    "graph"
   ]
  },
  {
   "cell_type": "code",
   "execution_count": 30,
   "id": "d7a31c36-a894-404d-b649-732bb403e42c",
   "metadata": {},
   "outputs": [],
   "source": [
    "ma = [0] * N\n",
    "for A, B in ABn:\n",
    "    ma[A-1] = max(ma[A-1], An[B-1])\n",
    "    ma[B-1] = max(ma[B-1], An[A-1])"
   ]
  },
  {
   "cell_type": "code",
   "execution_count": 31,
   "id": "c566e92b-addd-4349-bb36-5b6df4e292c8",
   "metadata": {},
   "outputs": [],
   "source": [
    "ans = 0\n",
    "for i in range(N):\n",
    "    if An[i] > ma[i]:\n",
    "        ans += 1"
   ]
  },
  {
   "cell_type": "code",
   "execution_count": 32,
   "id": "aeedfd84-8e75-4de3-9af4-c0d6007b87b9",
   "metadata": {},
   "outputs": [
    {
     "name": "stdout",
     "output_type": "stream",
     "text": [
      "3\n"
     ]
    }
   ],
   "source": [
    "print(ans)"
   ]
  },
  {
   "cell_type": "code",
   "execution_count": null,
   "id": "304bcf7c-56fc-4a50-bec2-b439a9523c8b",
   "metadata": {},
   "outputs": [],
   "source": []
  }
 ],
 "metadata": {
  "kernelspec": {
   "display_name": "Python 3",
   "language": "python",
   "name": "python3"
  },
  "language_info": {
   "codemirror_mode": {
    "name": "ipython",
    "version": 3
   },
   "file_extension": ".py",
   "mimetype": "text/x-python",
   "name": "python",
   "nbconvert_exporter": "python",
   "pygments_lexer": "ipython3",
   "version": "3.6.13"
  }
 },
 "nbformat": 4,
 "nbformat_minor": 5
}
