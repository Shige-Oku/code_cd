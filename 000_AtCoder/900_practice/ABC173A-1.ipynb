{
 "cells": [
  {
   "cell_type": "code",
   "execution_count": 3,
   "id": "0b7cd0f2-24de-47b6-bc60-23f6dda779fd",
   "metadata": {},
   "outputs": [
    {
     "name": "stdin",
     "output_type": "stream",
     "text": [
      " 3000\n"
     ]
    }
   ],
   "source": [
    "N = int(input())"
   ]
  },
  {
   "cell_type": "code",
   "execution_count": 7,
   "id": "7edf92a1-96cd-4cbc-a62d-b2278f3414d2",
   "metadata": {},
   "outputs": [
    {
     "name": "stdout",
     "output_type": "stream",
     "text": [
      "0\n"
     ]
    }
   ],
   "source": [
    "r = N % 1000\n",
    "if r == 0:\n",
    "    print(0)\n",
    "else:\n",
    "    print(1000-r)"
   ]
  },
  {
   "cell_type": "code",
   "execution_count": 8,
   "id": "c9bf6cad-6c02-47db-8a8b-f4bba75af89d",
   "metadata": {},
   "outputs": [
    {
     "name": "stdout",
     "output_type": "stream",
     "text": [
      "0\n"
     ]
    }
   ],
   "source": [
    "print((1000-N%1000)%1000)"
   ]
  },
  {
   "cell_type": "code",
   "execution_count": null,
   "id": "a92c3d2b-8400-482c-925b-0c5ee9b5be52",
   "metadata": {},
   "outputs": [],
   "source": []
  }
 ],
 "metadata": {
  "kernelspec": {
   "display_name": "Python 3",
   "language": "python",
   "name": "python3"
  },
  "language_info": {
   "codemirror_mode": {
    "name": "ipython",
    "version": 3
   },
   "file_extension": ".py",
   "mimetype": "text/x-python",
   "name": "python",
   "nbconvert_exporter": "python",
   "pygments_lexer": "ipython3",
   "version": "3.6.13"
  }
 },
 "nbformat": 4,
 "nbformat_minor": 5
}
