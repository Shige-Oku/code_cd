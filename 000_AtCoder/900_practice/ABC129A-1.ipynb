{
 "cells": [
  {
   "cell_type": "code",
   "execution_count": 3,
   "id": "06c6e686-5ac3-45b9-8b9f-8305017feec5",
   "metadata": {},
   "outputs": [
    {
     "name": "stdin",
     "output_type": "stream",
     "text": [
      " 3 2 3\n"
     ]
    }
   ],
   "source": [
    "P, Q, R = map(int, input().split())"
   ]
  },
  {
   "cell_type": "code",
   "execution_count": 5,
   "id": "7856f309-78a0-4bd3-a615-47c19ce6870f",
   "metadata": {},
   "outputs": [
    {
     "name": "stdout",
     "output_type": "stream",
     "text": [
      "5\n"
     ]
    }
   ],
   "source": [
    "print(min(P+Q, Q+R, P+R))"
   ]
  },
  {
   "cell_type": "code",
   "execution_count": 6,
   "id": "8615b939-2321-475a-8045-810d9004a127",
   "metadata": {},
   "outputs": [
    {
     "name": "stdout",
     "output_type": "stream",
     "text": [
      "5\n"
     ]
    }
   ],
   "source": [
    "print(sum(sorted((P, Q, R))[:-1]))"
   ]
  },
  {
   "cell_type": "code",
   "execution_count": null,
   "id": "1b3f99b5-77b0-4cb7-ae96-1e3c5c83f654",
   "metadata": {},
   "outputs": [],
   "source": [
    "print(P+Q+R-max(P, Q, R))"
   ]
  }
 ],
 "metadata": {
  "kernelspec": {
   "display_name": "Python 3",
   "language": "python",
   "name": "python3"
  },
  "language_info": {
   "codemirror_mode": {
    "name": "ipython",
    "version": 3
   },
   "file_extension": ".py",
   "mimetype": "text/x-python",
   "name": "python",
   "nbconvert_exporter": "python",
   "pygments_lexer": "ipython3",
   "version": "3.6.13"
  }
 },
 "nbformat": 4,
 "nbformat_minor": 5
}
