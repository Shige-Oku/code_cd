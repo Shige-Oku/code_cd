{
 "cells": [
  {
   "cell_type": "code",
   "execution_count": 16,
   "id": "d80e323f-10b7-49f6-85a9-c6bda242856b",
   "metadata": {},
   "outputs": [
    {
     "name": "stdin",
     "output_type": "stream",
     "text": [
      " atcoder\n"
     ]
    }
   ],
   "source": [
    "S = input()"
   ]
  },
  {
   "cell_type": "code",
   "execution_count": 10,
   "id": "da48e73e-c70c-40b1-860d-9f098da7c833",
   "metadata": {},
   "outputs": [
    {
     "name": "stdin",
     "output_type": "stream",
     "text": [
      " atcoder\n"
     ]
    }
   ],
   "source": [
    "T = input()"
   ]
  },
  {
   "cell_type": "code",
   "execution_count": 19,
   "id": "82b13ed8-6f34-403b-913a-7f442ba9f4d4",
   "metadata": {},
   "outputs": [],
   "source": [
    "ans = 10**10\n",
    "for i in range(len(S)-len(T)+1):\n",
    "    c = 0\n",
    "    for s, t in zip(S[i:], T):\n",
    "        if s != t:\n",
    "            c += 1\n",
    "    ans = min(ans, c)\n"
   ]
  },
  {
   "cell_type": "code",
   "execution_count": 20,
   "id": "fee7586b-0fa2-417f-b87d-2a1e71b6e862",
   "metadata": {},
   "outputs": [
    {
     "name": "stdout",
     "output_type": "stream",
     "text": [
      "0\n"
     ]
    }
   ],
   "source": [
    "print(ans)"
   ]
  },
  {
   "cell_type": "code",
   "execution_count": 23,
   "id": "1732dd53-236c-4f5c-aaf6-901645c906e6",
   "metadata": {},
   "outputs": [],
   "source": [
    "ans = 10**10\n",
    "for i in range(len(S)-len(T)+1):\n",
    "    ans = min(ans, sum(s!=t for s, t in zip(S[i:], T)))"
   ]
  },
  {
   "cell_type": "code",
   "execution_count": 24,
   "id": "1fdd2303-cbef-43a9-a9c2-24bb0be57b38",
   "metadata": {},
   "outputs": [
    {
     "name": "stdout",
     "output_type": "stream",
     "text": [
      "0\n"
     ]
    }
   ],
   "source": [
    "print(ans)"
   ]
  },
  {
   "cell_type": "code",
   "execution_count": null,
   "id": "12f04ffa-fb82-4a57-bc92-8de16b6b1511",
   "metadata": {},
   "outputs": [],
   "source": []
  }
 ],
 "metadata": {
  "kernelspec": {
   "display_name": "Python 3",
   "language": "python",
   "name": "python3"
  },
  "language_info": {
   "codemirror_mode": {
    "name": "ipython",
    "version": 3
   },
   "file_extension": ".py",
   "mimetype": "text/x-python",
   "name": "python",
   "nbconvert_exporter": "python",
   "pygments_lexer": "ipython3",
   "version": "3.6.13"
  }
 },
 "nbformat": 4,
 "nbformat_minor": 5
}
