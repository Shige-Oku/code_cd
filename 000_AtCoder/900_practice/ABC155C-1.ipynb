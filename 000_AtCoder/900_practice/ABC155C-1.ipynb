{
 "cells": [
  {
   "cell_type": "code",
   "execution_count": 3,
   "id": "bb0ab28b-3690-4fc2-855d-004e9c076b88",
   "metadata": {},
   "outputs": [],
   "source": [
    "import collections"
   ]
  },
  {
   "cell_type": "code",
   "execution_count": 1,
   "id": "92ef3238-a819-4958-9e5a-5d1e2b6d834e",
   "metadata": {},
   "outputs": [
    {
     "name": "stdin",
     "output_type": "stream",
     "text": [
      " 7\n"
     ]
    }
   ],
   "source": [
    "N = int(input())"
   ]
  },
  {
   "cell_type": "code",
   "execution_count": 2,
   "id": "d9968875-2f4d-47a5-99f1-20b4077bc3fd",
   "metadata": {},
   "outputs": [
    {
     "name": "stdin",
     "output_type": "stream",
     "text": [
      " beat\n",
      " vet\n",
      " beet\n",
      " bed\n",
      " vet\n",
      " bet\n",
      " beet\n"
     ]
    }
   ],
   "source": [
    "Sn = [input() for _ in range(N)]"
   ]
  },
  {
   "cell_type": "code",
   "execution_count": 11,
   "id": "4081be9f-e9ab-4d19-b461-3d52738cad86",
   "metadata": {},
   "outputs": [],
   "source": [
    "Sn_c = collections.Counter(Sn)\n",
    "Sn_l = list(Sn_c.items())\n",
    "Sn_s = sorted(Sn_l, reverse=True, key=lambda x : (x[1], x[0]))"
   ]
  },
  {
   "cell_type": "code",
   "execution_count": 13,
   "id": "909b0193-d253-4445-bf73-42721b23264e",
   "metadata": {},
   "outputs": [],
   "source": [
    "ans = []\n",
    "ma = Sn_s[0][1]\n",
    "for k, v in Sn_s:\n",
    "    if v == ma:\n",
    "        ans.append(k)"
   ]
  },
  {
   "cell_type": "code",
   "execution_count": 14,
   "id": "2f497554-7111-4baa-9191-54c33495926a",
   "metadata": {},
   "outputs": [
    {
     "name": "stdout",
     "output_type": "stream",
     "text": [
      "beet\n",
      "vet\n"
     ]
    }
   ],
   "source": [
    "for n in sorted(ans):\n",
    "    print(n)"
   ]
  },
  {
   "cell_type": "code",
   "execution_count": 12,
   "id": "74b290b5-cc22-4069-835d-e5ccaa34814f",
   "metadata": {},
   "outputs": [
    {
     "data": {
      "text/plain": [
       "(Counter({'beat': 1, 'vet': 2, 'beet': 2, 'bed': 1, 'bet': 1}),\n",
       " [('vet', 2), ('beet', 2), ('bet', 1), ('bed', 1), ('beat', 1)])"
      ]
     },
     "execution_count": 12,
     "metadata": {},
     "output_type": "execute_result"
    }
   ],
   "source": [
    "Sn_c, Sn_s"
   ]
  },
  {
   "cell_type": "code",
   "execution_count": 32,
   "id": "b58bb90b-a7b5-4914-9f97-4f58dba20a62",
   "metadata": {},
   "outputs": [],
   "source": [
    "Sn_c = collections.Counter(Sn)\n",
    "ma = max(Sn_c.values())\n",
    "ans = [k for k, v in Sn_c.items() if v == ma]"
   ]
  },
  {
   "cell_type": "code",
   "execution_count": 33,
   "id": "ca431638-ab16-4ec9-8ae2-f56e27fbb3ef",
   "metadata": {},
   "outputs": [
    {
     "name": "stdout",
     "output_type": "stream",
     "text": [
      "beet\n",
      "vet\n"
     ]
    }
   ],
   "source": [
    "print(*(sorted(ans)), sep='\\n')"
   ]
  },
  {
   "cell_type": "code",
   "execution_count": 29,
   "id": "64a3da6d-9c6c-46d8-a8d4-cf1790bae7eb",
   "metadata": {},
   "outputs": [
    {
     "name": "stdout",
     "output_type": "stream",
     "text": [
      "beet\n",
      "vet\n"
     ]
    }
   ],
   "source": [
    "for name in sorted(ans):\n",
    "    print(name)"
   ]
  },
  {
   "cell_type": "code",
   "execution_count": null,
   "id": "8ae05b24-8ee7-4fc3-9bc7-a051518972f5",
   "metadata": {},
   "outputs": [],
   "source": []
  }
 ],
 "metadata": {
  "kernelspec": {
   "display_name": "Python 3",
   "language": "python",
   "name": "python3"
  },
  "language_info": {
   "codemirror_mode": {
    "name": "ipython",
    "version": 3
   },
   "file_extension": ".py",
   "mimetype": "text/x-python",
   "name": "python",
   "nbconvert_exporter": "python",
   "pygments_lexer": "ipython3",
   "version": "3.6.13"
  }
 },
 "nbformat": 4,
 "nbformat_minor": 5
}
