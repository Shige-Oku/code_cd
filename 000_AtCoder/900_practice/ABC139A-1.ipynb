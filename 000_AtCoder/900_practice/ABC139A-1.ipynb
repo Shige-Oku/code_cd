{
 "cells": [
  {
   "cell_type": "code",
   "execution_count": 5,
   "id": "fef0d7ba-6437-4ff9-861b-50432e1aec4e",
   "metadata": {},
   "outputs": [
    {
     "name": "stdin",
     "output_type": "stream",
     "text": [
      " SSR\n"
     ]
    }
   ],
   "source": [
    "S = input()"
   ]
  },
  {
   "cell_type": "code",
   "execution_count": 7,
   "id": "267a5ea6-7a8b-4ad9-b076-3deadd113baa",
   "metadata": {},
   "outputs": [
    {
     "name": "stdin",
     "output_type": "stream",
     "text": [
      " SSR\n"
     ]
    }
   ],
   "source": [
    "T = input()"
   ]
  },
  {
   "cell_type": "code",
   "execution_count": 8,
   "id": "2365cca8-d3f5-431b-ae0d-7813fda8ab97",
   "metadata": {},
   "outputs": [],
   "source": [
    "ans = 0\n",
    "for s, t in zip(S, T):\n",
    "    if s == t:\n",
    "        ans += 1"
   ]
  },
  {
   "cell_type": "code",
   "execution_count": 9,
   "id": "d208f8c1-7805-4f1b-bec4-c0a9534844bb",
   "metadata": {},
   "outputs": [
    {
     "name": "stdout",
     "output_type": "stream",
     "text": [
      "3\n"
     ]
    }
   ],
   "source": [
    "print(ans)"
   ]
  },
  {
   "cell_type": "code",
   "execution_count": 10,
   "id": "533d7aa0-3b11-4509-b96b-fcdc4e5ffd68",
   "metadata": {},
   "outputs": [
    {
     "name": "stdout",
     "output_type": "stream",
     "text": [
      "3\n"
     ]
    }
   ],
   "source": [
    "print(sum([True if s == t else False for s, t in zip(S, T)]))"
   ]
  },
  {
   "cell_type": "code",
   "execution_count": null,
   "id": "1e3a29a2-b39b-4650-ad8e-e9df466024e1",
   "metadata": {},
   "outputs": [],
   "source": []
  }
 ],
 "metadata": {
  "kernelspec": {
   "display_name": "Python 3",
   "language": "python",
   "name": "python3"
  },
  "language_info": {
   "codemirror_mode": {
    "name": "ipython",
    "version": 3
   },
   "file_extension": ".py",
   "mimetype": "text/x-python",
   "name": "python",
   "nbconvert_exporter": "python",
   "pygments_lexer": "ipython3",
   "version": "3.6.13"
  }
 },
 "nbformat": 4,
 "nbformat_minor": 5
}
