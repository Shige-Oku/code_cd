{
 "cells": [
  {
   "cell_type": "code",
   "execution_count": 56,
   "id": "e2ff3916-b782-4be9-8c6a-b356488ea464",
   "metadata": {},
   "outputs": [
    {
     "name": "stdin",
     "output_type": "stream",
     "text": [
      " 1234 56789 314159265\n"
     ]
    }
   ],
   "source": [
    "A, B, X = map(int, input().split())"
   ]
  },
  {
   "cell_type": "code",
   "execution_count": 57,
   "id": "df253f65-0037-4ee0-bae4-6bc9dd83c8a0",
   "metadata": {},
   "outputs": [],
   "source": [
    "def check(n):\n",
    "    money = n * A\n",
    "    s = str(n)\n",
    "    money += B * len(s)\n",
    "    if money <= X:\n",
    "        return True, money\n",
    "    return False, money"
   ]
  },
  {
   "cell_type": "code",
   "execution_count": 58,
   "id": "743843c3-e69b-4a37-8656-a071d17a6f53",
   "metadata": {},
   "outputs": [],
   "source": [
    "def my_bisect():\n",
    "    ret = 0\n",
    "    l = 0\n",
    "    r = 10**9+1\n",
    "    while l + 1 < r:\n",
    "        m = (r + l) // 2\n",
    "        f, money = check(m)\n",
    "        if f:\n",
    "            l = m\n",
    "            ret = max(ret, money)\n",
    "        else:\n",
    "            r = m\n",
    "    return l"
   ]
  },
  {
   "cell_type": "code",
   "execution_count": 59,
   "id": "270ee8e9-45c9-484e-90ac-9c02e1523c29",
   "metadata": {},
   "outputs": [
    {
     "name": "stdout",
     "output_type": "stream",
     "text": [
      "254309\n"
     ]
    }
   ],
   "source": [
    "ans = my_bisect()\n",
    "print(ans)"
   ]
  },
  {
   "cell_type": "code",
   "execution_count": 41,
   "id": "9341d659-905a-440f-b832-b7007adb2781",
   "metadata": {},
   "outputs": [
    {
     "data": {
      "text/plain": [
       "1"
      ]
     },
     "execution_count": 41,
     "metadata": {},
     "output_type": "execute_result"
    }
   ],
   "source": [
    "1000000000-999999999"
   ]
  },
  {
   "cell_type": "code",
   "execution_count": null,
   "id": "1a70314d-bd62-4600-87c1-150909d41338",
   "metadata": {},
   "outputs": [],
   "source": []
  }
 ],
 "metadata": {
  "kernelspec": {
   "display_name": "Python 3",
   "language": "python",
   "name": "python3"
  },
  "language_info": {
   "codemirror_mode": {
    "name": "ipython",
    "version": 3
   },
   "file_extension": ".py",
   "mimetype": "text/x-python",
   "name": "python",
   "nbconvert_exporter": "python",
   "pygments_lexer": "ipython3",
   "version": "3.6.13"
  }
 },
 "nbformat": 4,
 "nbformat_minor": 5
}
