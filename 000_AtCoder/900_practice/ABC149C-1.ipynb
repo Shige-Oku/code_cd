{
 "cells": [
  {
   "cell_type": "code",
   "execution_count": 19,
   "id": "0985a1e0-3103-4438-b50c-407390121e71",
   "metadata": {},
   "outputs": [
    {
     "name": "stdin",
     "output_type": "stream",
     "text": [
      " 99992\n"
     ]
    }
   ],
   "source": [
    "X = int(input())"
   ]
  },
  {
   "cell_type": "code",
   "execution_count": 20,
   "id": "0975a3b2-4123-4a41-aa39-8393bee4628f",
   "metadata": {},
   "outputs": [],
   "source": [
    "# 素数のリスト作成\n",
    "import numpy as np\n",
    "def get_prime_list(number):\n",
    "    is_prime = np.ones(number+1, dtype=bool)\n",
    "    is_prime[:2] = False\n",
    "    num_sqrt = np.sqrt(number)\n",
    "    for i in range(2, int(num_sqrt)+1):\n",
    "        if (is_prime[i]):\n",
    "            is_prime[i*2::i] = False\n",
    "    prime_list = np.arange(number+1)[is_prime]\n",
    "    return prime_list"
   ]
  },
  {
   "cell_type": "code",
   "execution_count": 21,
   "id": "a1f0a63e-2a72-4f1f-bd47-3d0f8d4b7e88",
   "metadata": {},
   "outputs": [],
   "source": [
    "primes = get_prime_list(X)\n",
    "for ans in range(X, 10**10+1):\n",
    "    flg = False\n",
    "    if ans in primes:\n",
    "        break\n",
    "    for prime in primes:\n",
    "        if ans % prime == 0:\n",
    "            break\n",
    "    else:\n",
    "        flg = True\n",
    "    if flg:\n",
    "        break"
   ]
  },
  {
   "cell_type": "code",
   "execution_count": 22,
   "id": "fb612cdb-4404-419d-a23f-fbdaee08b60e",
   "metadata": {},
   "outputs": [
    {
     "name": "stdout",
     "output_type": "stream",
     "text": [
      "100003\n"
     ]
    }
   ],
   "source": [
    "print(ans)"
   ]
  },
  {
   "cell_type": "code",
   "execution_count": 24,
   "id": "f9550bc5-6f57-4da0-b511-59aa56ab1e5e",
   "metadata": {},
   "outputs": [
    {
     "name": "stdout",
     "output_type": "stream",
     "text": [
      "100003\n"
     ]
    }
   ],
   "source": [
    "primes  = get_prime_list(10**5+10)\n",
    "ans = primes[primes >= X]\n",
    "print(ans.min())"
   ]
  },
  {
   "cell_type": "code",
   "execution_count": null,
   "id": "c3c1ea16-ebfa-45f0-8404-f6b902b85914",
   "metadata": {},
   "outputs": [],
   "source": []
  }
 ],
 "metadata": {
  "kernelspec": {
   "display_name": "Python 3",
   "language": "python",
   "name": "python3"
  },
  "language_info": {
   "codemirror_mode": {
    "name": "ipython",
    "version": 3
   },
   "file_extension": ".py",
   "mimetype": "text/x-python",
   "name": "python",
   "nbconvert_exporter": "python",
   "pygments_lexer": "ipython3",
   "version": "3.6.13"
  }
 },
 "nbformat": 4,
 "nbformat_minor": 5
}
