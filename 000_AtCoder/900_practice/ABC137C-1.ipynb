{
 "cells": [
  {
   "cell_type": "code",
   "execution_count": 1,
   "id": "0f5512e6-7098-4acf-9143-98ad36fd9d07",
   "metadata": {},
   "outputs": [
    {
     "name": "stdin",
     "output_type": "stream",
     "text": [
      " 3\n"
     ]
    }
   ],
   "source": [
    "N = int(input())"
   ]
  },
  {
   "cell_type": "code",
   "execution_count": 2,
   "id": "e0f850a6-6421-4464-8d47-570ff5cc8134",
   "metadata": {},
   "outputs": [
    {
     "name": "stdin",
     "output_type": "stream",
     "text": [
      " acornistnt\n",
      " peanutbomb\n",
      " constraint\n"
     ]
    }
   ],
   "source": [
    "Sn = [input() for _ in range(N)]"
   ]
  },
  {
   "cell_type": "code",
   "execution_count": 11,
   "id": "25653ed5-806b-4d2f-8fb8-2f76b9fe6986",
   "metadata": {},
   "outputs": [],
   "source": [
    "d = {}\n",
    "for S in Sn:\n",
    "    S = sorted(S)\n",
    "    S = \"\".join(S) \n",
    "    if S in d:\n",
    "        d[S] += 1\n",
    "    else:\n",
    "        d[S] = 1\n"
   ]
  },
  {
   "cell_type": "code",
   "execution_count": 13,
   "id": "9c2f1a02-11a9-48f2-b1ee-2c55f5c1b58e",
   "metadata": {},
   "outputs": [
    {
     "name": "stdout",
     "output_type": "stream",
     "text": [
      "1\n"
     ]
    }
   ],
   "source": [
    "ans = 0\n",
    "for k, v in d.items():\n",
    "    ans += v * (v-1) // 2\n",
    "print(ans)"
   ]
  },
  {
   "cell_type": "code",
   "execution_count": 12,
   "id": "cdae45a1-6f80-4090-89b9-527465a5cc5f",
   "metadata": {},
   "outputs": [
    {
     "data": {
      "text/plain": [
       "{'acinnorstt': 2, 'abbemnoptu': 1}"
      ]
     },
     "execution_count": 12,
     "metadata": {},
     "output_type": "execute_result"
    }
   ],
   "source": [
    "d"
   ]
  },
  {
   "cell_type": "code",
   "execution_count": 14,
   "id": "ddc3ea05-dac6-4b1e-91f6-4fb5c2b92c3b",
   "metadata": {},
   "outputs": [],
   "source": [
    "import collections"
   ]
  },
  {
   "cell_type": "code",
   "execution_count": 19,
   "id": "74febf38-6265-4f12-9f31-d1bef61153b7",
   "metadata": {},
   "outputs": [],
   "source": [
    "sl = []\n",
    "for S in Sn:\n",
    "    S = sorted(S)\n",
    "    sl.append(\"\".join(S))"
   ]
  },
  {
   "cell_type": "code",
   "execution_count": 20,
   "id": "03699e25-620a-4a92-badf-0ab83168edb5",
   "metadata": {},
   "outputs": [
    {
     "name": "stdout",
     "output_type": "stream",
     "text": [
      "1\n"
     ]
    }
   ],
   "source": [
    "sl_c = collections.Counter(sl)\n",
    "print(sum([v*(v-1)//2 for k, v in sl_c.items()]))"
   ]
  },
  {
   "cell_type": "code",
   "execution_count": 18,
   "id": "d4a9f444-4a67-41bf-8466-763a2cf27cda",
   "metadata": {},
   "outputs": [
    {
     "data": {
      "text/plain": [
       "Counter({'acornistnt': 1, 'peanutbomb': 1, 'constraint': 1})"
      ]
     },
     "execution_count": 18,
     "metadata": {},
     "output_type": "execute_result"
    }
   ],
   "source": [
    "sl_c"
   ]
  },
  {
   "cell_type": "code",
   "execution_count": null,
   "id": "75122a9f-2ccf-412d-b4df-bdaa2781768a",
   "metadata": {},
   "outputs": [],
   "source": []
  }
 ],
 "metadata": {
  "kernelspec": {
   "display_name": "Python 3",
   "language": "python",
   "name": "python3"
  },
  "language_info": {
   "codemirror_mode": {
    "name": "ipython",
    "version": 3
   },
   "file_extension": ".py",
   "mimetype": "text/x-python",
   "name": "python",
   "nbconvert_exporter": "python",
   "pygments_lexer": "ipython3",
   "version": "3.6.13"
  }
 },
 "nbformat": 4,
 "nbformat_minor": 5
}
