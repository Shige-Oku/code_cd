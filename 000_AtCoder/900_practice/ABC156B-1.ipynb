{
 "cells": [
  {
   "cell_type": "code",
   "execution_count": 14,
   "id": "cd40b063-a4d1-42a6-9484-c7048aac7397",
   "metadata": {},
   "outputs": [
    {
     "name": "stdin",
     "output_type": "stream",
     "text": [
      " 314159265 3\n"
     ]
    }
   ],
   "source": [
    "N, K = map(int, input().split())"
   ]
  },
  {
   "cell_type": "code",
   "execution_count": 15,
   "id": "c4f83376-a157-43c2-8476-cea238401d38",
   "metadata": {},
   "outputs": [],
   "source": [
    "ans = ''\n",
    "num = N\n",
    "while True:\n",
    "    if num <= 0:\n",
    "        break\n",
    "    q, m = divmod(num, K)\n",
    "    ans += str(m)\n",
    "    num = q\n"
   ]
  },
  {
   "cell_type": "code",
   "execution_count": 16,
   "id": "ac11043f-4d2e-4dd7-8acb-16c360085a9e",
   "metadata": {},
   "outputs": [
    {
     "name": "stdout",
     "output_type": "stream",
     "text": [
      "18\n"
     ]
    }
   ],
   "source": [
    "print(len(ans))"
   ]
  },
  {
   "cell_type": "code",
   "execution_count": 5,
   "id": "74f444c8-b8c3-4a35-88ca-f74786b18d2b",
   "metadata": {},
   "outputs": [
    {
     "data": {
      "text/plain": [
       "'01'"
      ]
     },
     "execution_count": 5,
     "metadata": {},
     "output_type": "execute_result"
    }
   ],
   "source": [
    "ans"
   ]
  },
  {
   "cell_type": "code",
   "execution_count": null,
   "id": "d6c6bdc4-a2e8-4b5e-99d0-873dfc1b6f08",
   "metadata": {},
   "outputs": [],
   "source": []
  },
  {
   "cell_type": "code",
   "execution_count": 17,
   "id": "94bb0af9-d5fe-45c1-afd6-8164fa742597",
   "metadata": {},
   "outputs": [],
   "source": [
    "ans = 0\n",
    "n = N\n",
    "while n > 0:\n",
    "    n //= K\n",
    "    ans += 1"
   ]
  },
  {
   "cell_type": "code",
   "execution_count": 18,
   "id": "d89c68e0-9cc0-48a5-97a8-efc74cba1968",
   "metadata": {},
   "outputs": [
    {
     "name": "stdout",
     "output_type": "stream",
     "text": [
      "18\n"
     ]
    }
   ],
   "source": [
    "print(ans)"
   ]
  },
  {
   "cell_type": "code",
   "execution_count": null,
   "id": "1c674590-0415-4b31-9b81-47a3ed20b361",
   "metadata": {},
   "outputs": [],
   "source": []
  }
 ],
 "metadata": {
  "kernelspec": {
   "display_name": "Python 3",
   "language": "python",
   "name": "python3"
  },
  "language_info": {
   "codemirror_mode": {
    "name": "ipython",
    "version": 3
   },
   "file_extension": ".py",
   "mimetype": "text/x-python",
   "name": "python",
   "nbconvert_exporter": "python",
   "pygments_lexer": "ipython3",
   "version": "3.6.13"
  }
 },
 "nbformat": 4,
 "nbformat_minor": 5
}
