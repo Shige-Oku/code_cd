{
 "cells": [
  {
   "cell_type": "code",
   "execution_count": 9,
   "id": "8de7aa2c-7138-4853-b073-6fff9b6df0e3",
   "metadata": {},
   "outputs": [
    {
     "name": "stdin",
     "output_type": "stream",
     "text": [
      " 5 1\n"
     ]
    }
   ],
   "source": [
    "N, K = map(int, input().split())"
   ]
  },
  {
   "cell_type": "code",
   "execution_count": 10,
   "id": "c33e8468-c1aa-4c48-a480-b82c80d5b81e",
   "metadata": {},
   "outputs": [
    {
     "name": "stdin",
     "output_type": "stream",
     "text": [
      " 100 200 300 400 500\n"
     ]
    }
   ],
   "source": [
    "Hn = list(map(int, input().split()))"
   ]
  },
  {
   "cell_type": "code",
   "execution_count": 11,
   "id": "d6b90313-8481-43f7-b9ae-ad6511963b94",
   "metadata": {},
   "outputs": [],
   "source": [
    "ans = 0\n",
    "for H in Hn:\n",
    "    if H >= K:\n",
    "        ans += 1"
   ]
  },
  {
   "cell_type": "code",
   "execution_count": 12,
   "id": "27a4efe7-db4c-45ec-97dc-d7d599d56fc3",
   "metadata": {},
   "outputs": [
    {
     "name": "stdout",
     "output_type": "stream",
     "text": [
      "5\n"
     ]
    }
   ],
   "source": [
    "print(ans)"
   ]
  },
  {
   "cell_type": "code",
   "execution_count": 16,
   "id": "7ddbfb8d-b2f7-4d5c-b60f-e696939f9636",
   "metadata": {},
   "outputs": [],
   "source": [
    "h = [i >= K for i in Hn]"
   ]
  },
  {
   "cell_type": "code",
   "execution_count": 17,
   "id": "c2d8e89c-b19b-4a1b-aa1a-b3f1db6d714d",
   "metadata": {},
   "outputs": [
    {
     "name": "stdout",
     "output_type": "stream",
     "text": [
      "5\n"
     ]
    }
   ],
   "source": [
    "print(sum(h))"
   ]
  },
  {
   "cell_type": "code",
   "execution_count": null,
   "id": "0a930ad9-e4e0-4b5d-9ef5-4f6b1caeecd7",
   "metadata": {},
   "outputs": [],
   "source": []
  }
 ],
 "metadata": {
  "kernelspec": {
   "display_name": "Python 3",
   "language": "python",
   "name": "python3"
  },
  "language_info": {
   "codemirror_mode": {
    "name": "ipython",
    "version": 3
   },
   "file_extension": ".py",
   "mimetype": "text/x-python",
   "name": "python",
   "nbconvert_exporter": "python",
   "pygments_lexer": "ipython3",
   "version": "3.6.13"
  }
 },
 "nbformat": 4,
 "nbformat_minor": 5
}
