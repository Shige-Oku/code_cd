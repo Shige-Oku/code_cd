{
 "cells": [
  {
   "cell_type": "code",
   "execution_count": 5,
   "id": "a204aa4d-0c7e-4380-8bf4-b23f54ca3a28",
   "metadata": {},
   "outputs": [
    {
     "name": "stdin",
     "output_type": "stream",
     "text": [
      " 8\n"
     ]
    }
   ],
   "source": [
    "N = int(input())"
   ]
  },
  {
   "cell_type": "code",
   "execution_count": 6,
   "id": "1cd99afd-b3b0-4784-8baa-f823d7652302",
   "metadata": {},
   "outputs": [
    {
     "name": "stdin",
     "output_type": "stream",
     "text": [
      " hmhmnknk uuuuuuuu\n"
     ]
    }
   ],
   "source": [
    "S, T = input().split()"
   ]
  },
  {
   "cell_type": "code",
   "execution_count": 7,
   "id": "a1e0d581-6312-441c-853f-b42f90abc357",
   "metadata": {},
   "outputs": [],
   "source": [
    "ans = ''\n",
    "for s, t in zip(S, T):\n",
    "    ans += s + t"
   ]
  },
  {
   "cell_type": "code",
   "execution_count": 8,
   "id": "90cdbc8b-6ccc-4d26-a418-a7e8be1e7c02",
   "metadata": {},
   "outputs": [
    {
     "name": "stdout",
     "output_type": "stream",
     "text": [
      "humuhumunukunuku\n"
     ]
    }
   ],
   "source": [
    "print(ans)"
   ]
  },
  {
   "cell_type": "code",
   "execution_count": null,
   "id": "f6835ef1-d36d-4c3b-af40-6078fc006b20",
   "metadata": {},
   "outputs": [],
   "source": []
  }
 ],
 "metadata": {
  "kernelspec": {
   "display_name": "Python 3",
   "language": "python",
   "name": "python3"
  },
  "language_info": {
   "codemirror_mode": {
    "name": "ipython",
    "version": 3
   },
   "file_extension": ".py",
   "mimetype": "text/x-python",
   "name": "python",
   "nbconvert_exporter": "python",
   "pygments_lexer": "ipython3",
   "version": "3.6.13"
  }
 },
 "nbformat": 4,
 "nbformat_minor": 5
}
