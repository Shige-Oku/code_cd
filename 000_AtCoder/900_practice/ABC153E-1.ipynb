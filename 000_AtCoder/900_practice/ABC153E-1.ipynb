{
 "cells": [
  {
   "cell_type": "code",
   "execution_count": null,
   "id": "d7bee775-1afc-4406-8e72-12bc4c576a6c",
   "metadata": {},
   "outputs": [],
   "source": [
    "# 解説を読んで実装"
   ]
  },
  {
   "cell_type": "code",
   "execution_count": 1,
   "id": "2270e3eb-3db1-42d9-b1e1-4c2893c03d7e",
   "metadata": {},
   "outputs": [
    {
     "name": "stdin",
     "output_type": "stream",
     "text": [
      " 9 3\n"
     ]
    }
   ],
   "source": [
    "H, N = map(int, input().split())"
   ]
  },
  {
   "cell_type": "code",
   "execution_count": 2,
   "id": "312d3ac8-7d86-4ae4-bbed-f1ae0a243834",
   "metadata": {},
   "outputs": [
    {
     "name": "stdin",
     "output_type": "stream",
     "text": [
      " 8 3\n",
      " 4 2\n",
      " 2 1\n"
     ]
    }
   ],
   "source": [
    "ABn = [list(map(int, input().split())) for _ in range(N)]"
   ]
  },
  {
   "cell_type": "code",
   "execution_count": 18,
   "id": "bd9ecab5-1960-49ae-a54e-4d76ce525e06",
   "metadata": {},
   "outputs": [],
   "source": [
    "dp = [10**20] * 20000\n",
    "dp[0] = 0"
   ]
  },
  {
   "cell_type": "code",
   "execution_count": 19,
   "id": "da27f4de-5999-4a33-9d0d-b013d84c66a3",
   "metadata": {},
   "outputs": [],
   "source": [
    "for A, B in ABn:\n",
    "    for i in range(H):\n",
    "        if dp[i+A] > dp[i] + B:\n",
    "            dp[i+A] = dp[i] + B"
   ]
  },
  {
   "cell_type": "code",
   "execution_count": 20,
   "id": "d2e7bb0a-6637-4044-8668-ceed6dbfeb27",
   "metadata": {},
   "outputs": [
    {
     "name": "stdout",
     "output_type": "stream",
     "text": [
      "4\n"
     ]
    }
   ],
   "source": [
    "print(min(dp[H:]))"
   ]
  },
  {
   "cell_type": "code",
   "execution_count": null,
   "id": "44c02b30-a21b-4db3-adce-4ce9cbc8076e",
   "metadata": {},
   "outputs": [],
   "source": []
  }
 ],
 "metadata": {
  "kernelspec": {
   "display_name": "Python 3",
   "language": "python",
   "name": "python3"
  },
  "language_info": {
   "codemirror_mode": {
    "name": "ipython",
    "version": 3
   },
   "file_extension": ".py",
   "mimetype": "text/x-python",
   "name": "python",
   "nbconvert_exporter": "python",
   "pygments_lexer": "ipython3",
   "version": "3.6.13"
  }
 },
 "nbformat": 4,
 "nbformat_minor": 5
}
