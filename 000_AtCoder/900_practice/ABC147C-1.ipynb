{
 "cells": [
  {
   "cell_type": "code",
   "execution_count": 6,
   "id": "e33503e3-1abd-46fe-a6d0-607b26803a9e",
   "metadata": {},
   "outputs": [],
   "source": [
    "import itertools"
   ]
  },
  {
   "cell_type": "code",
   "execution_count": 1,
   "id": "dda88b1b-9bca-426f-bf6f-e389181c094c",
   "metadata": {},
   "outputs": [
    {
     "name": "stdin",
     "output_type": "stream",
     "text": [
      " 3\n"
     ]
    }
   ],
   "source": [
    "N = int(input())"
   ]
  },
  {
   "cell_type": "code",
   "execution_count": 23,
   "id": "66d63fd8-15f3-45b3-b198-145acf3aa94b",
   "metadata": {},
   "outputs": [
    {
     "name": "stdin",
     "output_type": "stream",
     "text": [
      " 2\n",
      " 2 1\n",
      " 3 0\n",
      " 2\n",
      " 3 1\n",
      " 1 0\n",
      " 2\n",
      " 1 1\n",
      " 2 0\n"
     ]
    }
   ],
   "source": [
    "XYn = [[] for _ in range(N)]\n",
    "for i in range(N):\n",
    "    n = int(input())\n",
    "    for _ in range(n):\n",
    "        x, y = map(int, input().split())\n",
    "        XYn[i].append([x, y])"
   ]
  },
  {
   "cell_type": "code",
   "execution_count": 62,
   "id": "490fbd6b-5b14-4874-9cc3-e8c998461530",
   "metadata": {},
   "outputs": [],
   "source": [
    "def check2(n, p):\n",
    "    for x, y in XYn[n]:\n",
    "        if p[x-1] != y:\n",
    "            return False\n",
    "    return True"
   ]
  },
  {
   "cell_type": "code",
   "execution_count": 63,
   "id": "3690d6ba-23c3-4fd4-b5fd-471a3de7e5f4",
   "metadata": {},
   "outputs": [],
   "source": [
    "def check(p):\n",
    "    for i in range(N):\n",
    "        if p[i] == 0:\n",
    "            continue\n",
    "        if not check2(i, p):\n",
    "            return False\n",
    "    return True"
   ]
  },
  {
   "cell_type": "code",
   "execution_count": 64,
   "id": "ee0154cc-343a-4882-96b8-2ae43b6bb7c5",
   "metadata": {},
   "outputs": [],
   "source": [
    "ans = 0\n",
    "for p in itertools.product([0, 1], repeat=N):\n",
    "    if check(p):\n",
    "        ans = max(ans, sum(p))"
   ]
  },
  {
   "cell_type": "code",
   "execution_count": 65,
   "id": "32b9b9ab-e4b8-4d7e-908b-3dc2c161ede3",
   "metadata": {},
   "outputs": [
    {
     "name": "stdout",
     "output_type": "stream",
     "text": [
      "0\n"
     ]
    }
   ],
   "source": [
    "print(ans)"
   ]
  },
  {
   "cell_type": "code",
   "execution_count": 5,
   "id": "279d411e-d8cd-4c35-a783-772e890ebc94",
   "metadata": {},
   "outputs": [
    {
     "data": {
      "text/plain": [
       "[[[2, 1]], [[1, 1]], [[2, 0]]]"
      ]
     },
     "execution_count": 5,
     "metadata": {},
     "output_type": "execute_result"
    }
   ],
   "source": [
    "XYn"
   ]
  },
  {
   "cell_type": "code",
   "execution_count": null,
   "id": "b01d8732-aa33-490a-a88e-7e64de66c62b",
   "metadata": {},
   "outputs": [],
   "source": []
  }
 ],
 "metadata": {
  "kernelspec": {
   "display_name": "Python 3",
   "language": "python",
   "name": "python3"
  },
  "language_info": {
   "codemirror_mode": {
    "name": "ipython",
    "version": 3
   },
   "file_extension": ".py",
   "mimetype": "text/x-python",
   "name": "python",
   "nbconvert_exporter": "python",
   "pygments_lexer": "ipython3",
   "version": "3.6.13"
  }
 },
 "nbformat": 4,
 "nbformat_minor": 5
}
