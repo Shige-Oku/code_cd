{
 "cells": [
  {
   "cell_type": "code",
   "execution_count": 14,
   "id": "024610bb-82a3-4a3a-a8cb-2d61c48dfcb6",
   "metadata": {},
   "outputs": [
    {
     "name": "stdin",
     "output_type": "stream",
     "text": [
      " 8\n"
     ]
    }
   ],
   "source": [
    "N = int(input())"
   ]
  },
  {
   "cell_type": "code",
   "execution_count": 15,
   "id": "3901e15f-5306-440f-bbb3-feefb78d5b15",
   "metadata": {},
   "outputs": [
    {
     "name": "stdin",
     "output_type": "stream",
     "text": [
      " 8 2 7 3 4 5 6 1\n"
     ]
    }
   ],
   "source": [
    "An = list(map(int, input().split()))"
   ]
  },
  {
   "cell_type": "code",
   "execution_count": 16,
   "id": "637464d8-6316-45f9-ae54-4c70ecf127b0",
   "metadata": {},
   "outputs": [],
   "source": [
    "An2 = []\n",
    "for i, A in enumerate(An, 1):\n",
    "    An2.append((A, i))"
   ]
  },
  {
   "cell_type": "code",
   "execution_count": 17,
   "id": "00730e73-3588-4ca3-bd1f-e2033f4c16b8",
   "metadata": {},
   "outputs": [
    {
     "name": "stdout",
     "output_type": "stream",
     "text": [
      "8 2 4 5 6 7 3 1 "
     ]
    }
   ],
   "source": [
    "An2_s = sorted(An2)\n",
    "for i, j in An2_s:\n",
    "    print(j, end=' ')"
   ]
  },
  {
   "cell_type": "code",
   "execution_count": 5,
   "id": "e3e79f9a-b719-46b7-9f45-89e02f64921b",
   "metadata": {},
   "outputs": [
    {
     "data": {
      "text/plain": [
       "[(1, 3), (2, 1), (3, 2)]"
      ]
     },
     "execution_count": 5,
     "metadata": {},
     "output_type": "execute_result"
    }
   ],
   "source": [
    "An2_s"
   ]
  },
  {
   "cell_type": "code",
   "execution_count": null,
   "id": "6585a283-ccff-4050-a8e2-036fe3318f8d",
   "metadata": {},
   "outputs": [],
   "source": []
  }
 ],
 "metadata": {
  "kernelspec": {
   "display_name": "Python 3",
   "language": "python",
   "name": "python3"
  },
  "language_info": {
   "codemirror_mode": {
    "name": "ipython",
    "version": 3
   },
   "file_extension": ".py",
   "mimetype": "text/x-python",
   "name": "python",
   "nbconvert_exporter": "python",
   "pygments_lexer": "ipython3",
   "version": "3.6.13"
  }
 },
 "nbformat": 4,
 "nbformat_minor": 5
}
