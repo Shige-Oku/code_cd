{
 "cells": [
  {
   "cell_type": "code",
   "execution_count": 3,
   "id": "838d522b-90a1-4bd2-9f29-4448575f8153",
   "metadata": {},
   "outputs": [],
   "source": [
    "import itertools"
   ]
  },
  {
   "cell_type": "code",
   "execution_count": 9,
   "id": "d0792429-e40e-4d21-8862-53cbf5ba10fd",
   "metadata": {},
   "outputs": [
    {
     "name": "stdin",
     "output_type": "stream",
     "text": [
      " 8 5 22\n"
     ]
    }
   ],
   "source": [
    "N, M, X = map(int, input().split())"
   ]
  },
  {
   "cell_type": "code",
   "execution_count": 10,
   "id": "664f5480-5fd4-4132-b582-87813fea7422",
   "metadata": {},
   "outputs": [
    {
     "name": "stdin",
     "output_type": "stream",
     "text": [
      " 100 3 7 5 3 1\n",
      " 164 4 5 2 7 8\n",
      " 334 7 2 7 2 9\n",
      " 234 4 7 2 8 2\n",
      " 541 5 4 3 3 6\n",
      " 235 4 8 6 9 7\n",
      " 394 3 6 1 6 2\n",
      " 872 8 4 3 7 2\n"
     ]
    }
   ],
   "source": [
    "CAn = [list(map(int, input().split())) for _ in range(N)]"
   ]
  },
  {
   "cell_type": "code",
   "execution_count": 11,
   "id": "c9f41ec1-1847-4b5f-972a-bea9f7c88c5d",
   "metadata": {},
   "outputs": [],
   "source": [
    "def myJadge():\n",
    "    for kk in k:\n",
    "        if kk < X:\n",
    "            return False\n",
    "    return True"
   ]
  },
  {
   "cell_type": "code",
   "execution_count": 18,
   "id": "13442069-d83d-4818-8b67-783da6c0863e",
   "metadata": {},
   "outputs": [],
   "source": [
    "ans = 10 ** 10\n",
    "for P in itertools.product([0, 1], repeat=N):\n",
    "    cost = 0\n",
    "    k = [0] * M\n",
    "    for i, p in enumerate(P):\n",
    "        if p == 0:\n",
    "            continue\n",
    "        C, *A = CAn[i]\n",
    "        cost += C\n",
    "        for j, a in enumerate(A):\n",
    "            k[j] += a\n",
    "    if myJadge():\n",
    "        ans = min(ans, cost)"
   ]
  },
  {
   "cell_type": "code",
   "execution_count": 19,
   "id": "c45f9957-51eb-4464-9dae-e6f22ccf5832",
   "metadata": {},
   "outputs": [
    {
     "name": "stdout",
     "output_type": "stream",
     "text": [
      "1067\n"
     ]
    }
   ],
   "source": [
    "if ans == 10**10:\n",
    "    print(-1)\n",
    "else:\n",
    "    print(ans)"
   ]
  },
  {
   "cell_type": "code",
   "execution_count": 17,
   "id": "a213cbea-16ad-4426-afe8-88fcd5a5b4c3",
   "metadata": {},
   "outputs": [
    {
     "data": {
      "text/plain": [
       "((1, 1, 1, 1, 1, 1, 1, 1), 2874, [38, 43, 29, 45, 37, 0, 0, 0])"
      ]
     },
     "execution_count": 17,
     "metadata": {},
     "output_type": "execute_result"
    }
   ],
   "source": [
    "P, cost, k"
   ]
  },
  {
   "cell_type": "code",
   "execution_count": null,
   "id": "71a592ce-9e89-4e35-8031-821d25ff4ef4",
   "metadata": {},
   "outputs": [],
   "source": []
  }
 ],
 "metadata": {
  "kernelspec": {
   "display_name": "Python 3",
   "language": "python",
   "name": "python3"
  },
  "language_info": {
   "codemirror_mode": {
    "name": "ipython",
    "version": 3
   },
   "file_extension": ".py",
   "mimetype": "text/x-python",
   "name": "python",
   "nbconvert_exporter": "python",
   "pygments_lexer": "ipython3",
   "version": "3.6.13"
  }
 },
 "nbformat": 4,
 "nbformat_minor": 5
}
