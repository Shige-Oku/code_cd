{
 "cells": [
  {
   "cell_type": "code",
   "execution_count": 3,
   "id": "3c64551a-8ba3-4008-a664-8f543defa4e2",
   "metadata": {},
   "outputs": [],
   "source": [
    "import itertools"
   ]
  },
  {
   "cell_type": "code",
   "execution_count": 1,
   "id": "69296088-1fdc-4be1-9a59-b979407c862f",
   "metadata": {},
   "outputs": [
    {
     "name": "stdin",
     "output_type": "stream",
     "text": [
      " 2 3 2\n"
     ]
    }
   ],
   "source": [
    "H, W, K = map(int, input().split())"
   ]
  },
  {
   "cell_type": "code",
   "execution_count": 2,
   "id": "8cd88835-e463-4e60-b749-b5fe85891401",
   "metadata": {},
   "outputs": [
    {
     "name": "stdin",
     "output_type": "stream",
     "text": [
      " ..#\n",
      " ###\n"
     ]
    }
   ],
   "source": [
    "Cn = [input() for _ in range(H)]"
   ]
  },
  {
   "cell_type": "code",
   "execution_count": 9,
   "id": "cfcdb7c9-3d7d-496d-8e3a-dd58db01bff5",
   "metadata": {},
   "outputs": [],
   "source": [
    "def getCount(hp, wp):\n",
    "    ret = 0\n",
    "    for i in range(H):\n",
    "        if hp[i] == 1:\n",
    "            continue\n",
    "        for j in range(W):\n",
    "            if wp[j] == 1:\n",
    "                continue\n",
    "            if Cn[i][j] == '#':\n",
    "                ret += 1\n",
    "    return ret"
   ]
  },
  {
   "cell_type": "code",
   "execution_count": 13,
   "id": "3279500d-f2fc-4ecb-bfc3-f640e7073547",
   "metadata": {},
   "outputs": [],
   "source": [
    "ans = 0\n",
    "for p1 in itertools.product([0, 1], repeat=H):\n",
    "    for p2 in itertools.product([0, 1], repeat=W):\n",
    "        cnt = getCount(p1, p2)\n",
    "        if cnt == K:\n",
    "            ans += 1"
   ]
  },
  {
   "cell_type": "code",
   "execution_count": 14,
   "id": "c7239210-a45e-4ac4-b8a1-48c0c91e9ad5",
   "metadata": {},
   "outputs": [
    {
     "name": "stdout",
     "output_type": "stream",
     "text": [
      "5\n"
     ]
    }
   ],
   "source": [
    "print(ans)"
   ]
  },
  {
   "cell_type": "code",
   "execution_count": null,
   "id": "fed2e189-8ac4-4850-b70d-1b796f979d85",
   "metadata": {},
   "outputs": [],
   "source": []
  }
 ],
 "metadata": {
  "kernelspec": {
   "display_name": "Python 3",
   "language": "python",
   "name": "python3"
  },
  "language_info": {
   "codemirror_mode": {
    "name": "ipython",
    "version": 3
   },
   "file_extension": ".py",
   "mimetype": "text/x-python",
   "name": "python",
   "nbconvert_exporter": "python",
   "pygments_lexer": "ipython3",
   "version": "3.6.13"
  }
 },
 "nbformat": 4,
 "nbformat_minor": 5
}
