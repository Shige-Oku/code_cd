{
 "cells": [
  {
   "cell_type": "code",
   "execution_count": 5,
   "id": "0d8c1450-c3c3-400e-bcf9-6e8260576207",
   "metadata": {},
   "outputs": [
    {
     "name": "stdin",
     "output_type": "stream",
     "text": [
      " 12 3 7\n"
     ]
    }
   ],
   "source": [
    "A, B, C = map(int, input().split())"
   ]
  },
  {
   "cell_type": "code",
   "execution_count": 6,
   "id": "e9c7c9fa-16ab-47f4-bdf0-3b21529da381",
   "metadata": {},
   "outputs": [
    {
     "name": "stdout",
     "output_type": "stream",
     "text": [
      "0\n"
     ]
    }
   ],
   "source": [
    "print(max(0, C-(A-B)))"
   ]
  },
  {
   "cell_type": "code",
   "execution_count": 7,
   "id": "f3922f6e-3a49-4c18-aec2-e4a03e216aaf",
   "metadata": {},
   "outputs": [
    {
     "name": "stdout",
     "output_type": "stream",
     "text": [
      "0\n"
     ]
    }
   ],
   "source": [
    "print(C-min(C, A-B))"
   ]
  },
  {
   "cell_type": "code",
   "execution_count": null,
   "id": "f52cbcc0-4fed-49e0-ae06-18850ece0fae",
   "metadata": {},
   "outputs": [],
   "source": []
  }
 ],
 "metadata": {
  "kernelspec": {
   "display_name": "Python 3",
   "language": "python",
   "name": "python3"
  },
  "language_info": {
   "codemirror_mode": {
    "name": "ipython",
    "version": 3
   },
   "file_extension": ".py",
   "mimetype": "text/x-python",
   "name": "python",
   "nbconvert_exporter": "python",
   "pygments_lexer": "ipython3",
   "version": "3.6.13"
  }
 },
 "nbformat": 4,
 "nbformat_minor": 5
}
