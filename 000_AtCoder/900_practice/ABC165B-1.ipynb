{
 "cells": [
  {
   "cell_type": "code",
   "execution_count": 12,
   "id": "dd3b20db-01aa-4944-a753-de77fdbe1976",
   "metadata": {},
   "outputs": [
    {
     "name": "stdin",
     "output_type": "stream",
     "text": [
      " 974755271730884810\n"
     ]
    }
   ],
   "source": [
    "X = int(input())"
   ]
  },
  {
   "cell_type": "code",
   "execution_count": 16,
   "id": "df7b1572-6ce8-47ab-845e-bdbb788ee23f",
   "metadata": {},
   "outputs": [],
   "source": [
    "ans = 0\n",
    "money = 100\n",
    "while money < X:\n",
    "    money = money * 101 // 100\n",
    "    ans += 1"
   ]
  },
  {
   "cell_type": "code",
   "execution_count": 17,
   "id": "c42991e9-0097-4763-9875-98fb6529d58b",
   "metadata": {},
   "outputs": [
    {
     "name": "stdout",
     "output_type": "stream",
     "text": [
      "3758\n"
     ]
    }
   ],
   "source": [
    "print(ans)"
   ]
  },
  {
   "cell_type": "code",
   "execution_count": null,
   "id": "9c06e953-74b6-410c-8573-4f8b39abf210",
   "metadata": {},
   "outputs": [],
   "source": [
    "3758"
   ]
  }
 ],
 "metadata": {
  "kernelspec": {
   "display_name": "Python 3",
   "language": "python",
   "name": "python3"
  },
  "language_info": {
   "codemirror_mode": {
    "name": "ipython",
    "version": 3
   },
   "file_extension": ".py",
   "mimetype": "text/x-python",
   "name": "python",
   "nbconvert_exporter": "python",
   "pygments_lexer": "ipython3",
   "version": "3.6.13"
  }
 },
 "nbformat": 4,
 "nbformat_minor": 5
}
