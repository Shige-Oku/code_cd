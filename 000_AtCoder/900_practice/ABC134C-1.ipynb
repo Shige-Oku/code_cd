{
 "cells": [
  {
   "cell_type": "code",
   "execution_count": 3,
   "id": "f46f63b7-57cf-4f70-b439-3d562a887b6e",
   "metadata": {},
   "outputs": [],
   "source": [
    "# import collections"
   ]
  },
  {
   "cell_type": "code",
   "execution_count": 10,
   "id": "b9af9611-baaf-4fb8-b780-b5ad65081a1b",
   "metadata": {},
   "outputs": [
    {
     "name": "stdin",
     "output_type": "stream",
     "text": [
      " 3\n"
     ]
    }
   ],
   "source": [
    "N = int(input())"
   ]
  },
  {
   "cell_type": "code",
   "execution_count": 12,
   "id": "146a5ff6-a603-4491-9b92-90bfaf8b16e1",
   "metadata": {},
   "outputs": [
    {
     "name": "stdin",
     "output_type": "stream",
     "text": [
      " 1\n",
      " 1\n",
      " 2\n"
     ]
    }
   ],
   "source": [
    "An = [int(input()) for _ in range(N)]"
   ]
  },
  {
   "cell_type": "code",
   "execution_count": 18,
   "id": "456baba8-ca4d-414a-b65b-f49d79acf3ee",
   "metadata": {},
   "outputs": [
    {
     "name": "stdout",
     "output_type": "stream",
     "text": [
      "2\n",
      "2\n",
      "1\n"
     ]
    }
   ],
   "source": [
    "ma = max(An)\n",
    "An_s = sorted(An, reverse=True)\n",
    "for A in An:\n",
    "    if A == ma:\n",
    "        print(An_s[1])\n",
    "    else:\n",
    "        print(An_s[0])\n"
   ]
  },
  {
   "cell_type": "code",
   "execution_count": 16,
   "id": "7c5c8fb2-1b8b-4eed-bc14-47b4ac38a205",
   "metadata": {},
   "outputs": [
    {
     "data": {
      "text/plain": [
       "(2, [1, 1, 2])"
      ]
     },
     "execution_count": 16,
     "metadata": {},
     "output_type": "execute_result"
    }
   ],
   "source": [
    "ma, An_s"
   ]
  },
  {
   "cell_type": "code",
   "execution_count": null,
   "id": "f1e42390-ea99-4a0e-ba75-aa54544e6afb",
   "metadata": {},
   "outputs": [],
   "source": []
  }
 ],
 "metadata": {
  "kernelspec": {
   "display_name": "Python 3",
   "language": "python",
   "name": "python3"
  },
  "language_info": {
   "codemirror_mode": {
    "name": "ipython",
    "version": 3
   },
   "file_extension": ".py",
   "mimetype": "text/x-python",
   "name": "python",
   "nbconvert_exporter": "python",
   "pygments_lexer": "ipython3",
   "version": "3.6.13"
  }
 },
 "nbformat": 4,
 "nbformat_minor": 5
}
