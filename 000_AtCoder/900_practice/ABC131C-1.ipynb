{
 "cells": [
  {
   "cell_type": "code",
   "execution_count": 19,
   "id": "564b43ca-d95e-4deb-b810-e6428cb215a8",
   "metadata": {},
   "outputs": [],
   "source": [
    "import math"
   ]
  },
  {
   "cell_type": "code",
   "execution_count": 26,
   "id": "d214580d-ba2d-446b-8ed3-a60fa1eacf2c",
   "metadata": {},
   "outputs": [
    {
     "name": "stdin",
     "output_type": "stream",
     "text": [
      " 4 9 2 3\n"
     ]
    }
   ],
   "source": [
    "A, B, C, D = map(int, input().split())"
   ]
  },
  {
   "cell_type": "code",
   "execution_count": 27,
   "id": "e067bf8f-983b-4a3c-a55a-a113223e7d5c",
   "metadata": {},
   "outputs": [],
   "source": [
    "ac = (A-1) // C\n",
    "bc = B // C\n",
    "ad = (A-1) // D\n",
    "bd = B // D\n",
    "acd = (A-1) // (C*D//math.gcd(C, D))\n",
    "bcd = B // (C*D//math.gcd(C, D))"
   ]
  },
  {
   "cell_type": "code",
   "execution_count": 28,
   "id": "6d6c1509-451d-438f-84dd-6d81f0e42931",
   "metadata": {},
   "outputs": [
    {
     "name": "stdout",
     "output_type": "stream",
     "text": [
      "2\n"
     ]
    }
   ],
   "source": [
    "print(B-A+1-(bc-ac)-(bd-ad)+(bcd-acd))"
   ]
  },
  {
   "cell_type": "code",
   "execution_count": 17,
   "id": "6662dcb0-4212-46ca-9fcc-a07a1d0c45a2",
   "metadata": {},
   "outputs": [
    {
     "data": {
      "text/plain": [
       "(1, 6)"
      ]
     },
     "execution_count": 17,
     "metadata": {},
     "output_type": "execute_result"
    }
   ],
   "source": [
    "ac, bc"
   ]
  },
  {
   "cell_type": "code",
   "execution_count": 18,
   "id": "d9848149-e2ed-4fc4-a888-0a7e775a6bcb",
   "metadata": {},
   "outputs": [
    {
     "data": {
      "text/plain": [
       "(1, 5)"
      ]
     },
     "execution_count": 18,
     "metadata": {},
     "output_type": "execute_result"
    }
   ],
   "source": [
    "ad, bd"
   ]
  },
  {
   "cell_type": "code",
   "execution_count": null,
   "id": "bdff6980-2adb-4548-b6f7-710faf74a414",
   "metadata": {},
   "outputs": [],
   "source": []
  }
 ],
 "metadata": {
  "kernelspec": {
   "display_name": "Python 3",
   "language": "python",
   "name": "python3"
  },
  "language_info": {
   "codemirror_mode": {
    "name": "ipython",
    "version": 3
   },
   "file_extension": ".py",
   "mimetype": "text/x-python",
   "name": "python",
   "nbconvert_exporter": "python",
   "pygments_lexer": "ipython3",
   "version": "3.6.13"
  }
 },
 "nbformat": 4,
 "nbformat_minor": 5
}
