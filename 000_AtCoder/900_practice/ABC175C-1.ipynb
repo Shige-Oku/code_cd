{
 "cells": [
  {
   "cell_type": "code",
   "execution_count": 17,
   "id": "e4ffa5fe-d7b5-41ad-a397-7cb2e7aff8e1",
   "metadata": {},
   "outputs": [
    {
     "name": "stdin",
     "output_type": "stream",
     "text": [
      " 10 11 2\n"
     ]
    }
   ],
   "source": [
    "X, K, D = map(int, input().split())"
   ]
  },
  {
   "cell_type": "code",
   "execution_count": 19,
   "id": "15ec119d-fc08-4d50-bd8f-aec02308c872",
   "metadata": {},
   "outputs": [
    {
     "name": "stdout",
     "output_type": "stream",
     "text": [
      "0\n"
     ]
    }
   ],
   "source": [
    "if K * D <= abs(X):\n",
    "    print(abs(X)-K*D)\n",
    "else:\n",
    "    q, r = divmod(abs(X), D)\n",
    "    if q % 2 == K % 2:\n",
    "        print(r)\n",
    "    else:\n",
    "        print(abs(D-r))"
   ]
  },
  {
   "cell_type": "code",
   "execution_count": null,
   "id": "f6421aef-8dc6-439f-9f85-a08de972f338",
   "metadata": {},
   "outputs": [],
   "source": []
  }
 ],
 "metadata": {
  "kernelspec": {
   "display_name": "Python 3",
   "language": "python",
   "name": "python3"
  },
  "language_info": {
   "codemirror_mode": {
    "name": "ipython",
    "version": 3
   },
   "file_extension": ".py",
   "mimetype": "text/x-python",
   "name": "python",
   "nbconvert_exporter": "python",
   "pygments_lexer": "ipython3",
   "version": "3.6.13"
  }
 },
 "nbformat": 4,
 "nbformat_minor": 5
}
