{
 "cells": [
  {
   "cell_type": "code",
   "execution_count": 10,
   "id": "c0de380e-e59f-40e3-a0a0-7b94d7709e00",
   "metadata": {},
   "outputs": [
    {
     "name": "stdin",
     "output_type": "stream",
     "text": [
      " 5\n"
     ]
    }
   ],
   "source": [
    "N = int(input())"
   ]
  },
  {
   "cell_type": "code",
   "execution_count": 11,
   "id": "7c10f8c0-35f1-4659-abec-c867ce90e3c8",
   "metadata": {},
   "outputs": [
    {
     "name": "stdin",
     "output_type": "stream",
     "text": [
      " 138 138 138 138 138\n"
     ]
    }
   ],
   "source": [
    "Vn = list(map(int, input().split()))"
   ]
  },
  {
   "cell_type": "code",
   "execution_count": 12,
   "id": "9c90104e-7e17-46b4-8281-aa9364cdb84c",
   "metadata": {},
   "outputs": [],
   "source": [
    "Vn_s = sorted(Vn)\n",
    "ans = Vn_s[0]\n",
    "for V in Vn_s[1:]:\n",
    "    ans += V\n",
    "    ans /= 2"
   ]
  },
  {
   "cell_type": "code",
   "execution_count": 13,
   "id": "6b21df3d-926e-41f8-aec5-aed0d8a186bf",
   "metadata": {},
   "outputs": [
    {
     "name": "stdout",
     "output_type": "stream",
     "text": [
      "138.0\n"
     ]
    }
   ],
   "source": [
    "print(ans)"
   ]
  },
  {
   "cell_type": "code",
   "execution_count": null,
   "id": "cfae3f7a-a305-4da2-8e0c-7435fe2973b4",
   "metadata": {},
   "outputs": [],
   "source": []
  }
 ],
 "metadata": {
  "kernelspec": {
   "display_name": "Python 3",
   "language": "python",
   "name": "python3"
  },
  "language_info": {
   "codemirror_mode": {
    "name": "ipython",
    "version": 3
   },
   "file_extension": ".py",
   "mimetype": "text/x-python",
   "name": "python",
   "nbconvert_exporter": "python",
   "pygments_lexer": "ipython3",
   "version": "3.6.13"
  }
 },
 "nbformat": 4,
 "nbformat_minor": 5
}
