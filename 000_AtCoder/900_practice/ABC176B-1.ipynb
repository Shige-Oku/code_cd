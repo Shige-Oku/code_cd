{
 "cells": [
  {
   "cell_type": "code",
   "execution_count": 5,
   "id": "02a00ba8-fc90-4fbe-ae95-de5b90c023ac",
   "metadata": {},
   "outputs": [
    {
     "name": "stdin",
     "output_type": "stream",
     "text": [
      " 31415926535897932384626433832795028841971693993751058209749445923078164062862089986280\n"
     ]
    }
   ],
   "source": [
    "N = int(input())"
   ]
  },
  {
   "cell_type": "code",
   "execution_count": 6,
   "id": "b91f2244-0108-4aeb-abb7-b36255e9e2d1",
   "metadata": {},
   "outputs": [
    {
     "name": "stdout",
     "output_type": "stream",
     "text": [
      "No\n"
     ]
    }
   ],
   "source": [
    "print('Yes' if N % 9 == 0 else 'No')"
   ]
  },
  {
   "cell_type": "code",
   "execution_count": 7,
   "id": "c092f383-2082-4533-9d7b-b03e58ea6d56",
   "metadata": {},
   "outputs": [
    {
     "name": "stdin",
     "output_type": "stream",
     "text": [
      " 123456789\n"
     ]
    }
   ],
   "source": [
    "N = input()"
   ]
  },
  {
   "cell_type": "code",
   "execution_count": 8,
   "id": "de0934d6-6c05-4cd7-bd90-04cf5a9c463c",
   "metadata": {},
   "outputs": [],
   "source": [
    "k = 0\n",
    "for n in N:\n",
    "    k += int(n)"
   ]
  },
  {
   "cell_type": "code",
   "execution_count": 10,
   "id": "c997bb52-4f08-47bd-be50-169cb59f3621",
   "metadata": {},
   "outputs": [
    {
     "name": "stdout",
     "output_type": "stream",
     "text": [
      "Yes\n"
     ]
    }
   ],
   "source": [
    "print('Yes' if k % 9 == 0 else 'No')"
   ]
  },
  {
   "cell_type": "code",
   "execution_count": null,
   "id": "35237acb-b045-477e-9ec3-e2101197c454",
   "metadata": {},
   "outputs": [],
   "source": []
  }
 ],
 "metadata": {
  "kernelspec": {
   "display_name": "Python 3",
   "language": "python",
   "name": "python3"
  },
  "language_info": {
   "codemirror_mode": {
    "name": "ipython",
    "version": 3
   },
   "file_extension": ".py",
   "mimetype": "text/x-python",
   "name": "python",
   "nbconvert_exporter": "python",
   "pygments_lexer": "ipython3",
   "version": "3.6.13"
  }
 },
 "nbformat": 4,
 "nbformat_minor": 5
}
