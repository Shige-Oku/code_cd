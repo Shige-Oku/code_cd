{
 "cells": [
  {
   "cell_type": "code",
   "execution_count": 6,
   "id": "864e4595-0434-445e-865f-fe96294187b4",
   "metadata": {},
   "outputs": [
    {
     "name": "stdin",
     "output_type": "stream",
     "text": [
      " 869121\n"
     ]
    }
   ],
   "source": [
    "N = int(input())"
   ]
  },
  {
   "cell_type": "code",
   "execution_count": 7,
   "id": "b03d0cce-b59a-4bfc-bc3e-e965d40103f8",
   "metadata": {},
   "outputs": [
    {
     "name": "stdout",
     "output_type": "stream",
     "text": [
      "2511445\n"
     ]
    }
   ],
   "source": [
    "ans = 10**N - 9**N - 9**N + 8**N\n",
    "print(ans % (10**9+7))"
   ]
  },
  {
   "cell_type": "code",
   "execution_count": 9,
   "id": "8c6fa19e-1661-422f-bff8-5d0640f1fbad",
   "metadata": {},
   "outputs": [
    {
     "name": "stdout",
     "output_type": "stream",
     "text": [
      "2511445\n"
     ]
    }
   ],
   "source": [
    "MOD = 10**9 + 7\n",
    "ans = pow(10, N, MOD) - pow(9, N, MOD) * 2 + pow(8, N, MOD)\n",
    "print(ans % MOD)"
   ]
  },
  {
   "cell_type": "code",
   "execution_count": null,
   "id": "5f4c12a3-527c-4f69-be6d-b8ce81620c28",
   "metadata": {},
   "outputs": [],
   "source": []
  }
 ],
 "metadata": {
  "kernelspec": {
   "display_name": "Python 3",
   "language": "python",
   "name": "python3"
  },
  "language_info": {
   "codemirror_mode": {
    "name": "ipython",
    "version": 3
   },
   "file_extension": ".py",
   "mimetype": "text/x-python",
   "name": "python",
   "nbconvert_exporter": "python",
   "pygments_lexer": "ipython3",
   "version": "3.6.13"
  }
 },
 "nbformat": 4,
 "nbformat_minor": 5
}
