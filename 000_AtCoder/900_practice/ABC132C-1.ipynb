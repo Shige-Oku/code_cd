{
 "cells": [
  {
   "cell_type": "code",
   "execution_count": 10,
   "id": "1d9b00c3-8b56-4a1b-828f-c97b766d4578",
   "metadata": {},
   "outputs": [
    {
     "name": "stdin",
     "output_type": "stream",
     "text": [
      " 14\n"
     ]
    }
   ],
   "source": [
    "N = int(input())"
   ]
  },
  {
   "cell_type": "code",
   "execution_count": 11,
   "id": "19a31bb2-4eed-40ea-92b9-c21d42947d18",
   "metadata": {},
   "outputs": [
    {
     "name": "stdin",
     "output_type": "stream",
     "text": [
      " 99592 10342 29105 78532 83018 11639 92015 77204 30914 21912 34519 80835 100000 1\n"
     ]
    }
   ],
   "source": [
    "Dn = list(map(int, input().split()))"
   ]
  },
  {
   "cell_type": "code",
   "execution_count": 12,
   "id": "faf72ddc-52de-4096-8bed-6eb77ccd27ef",
   "metadata": {},
   "outputs": [],
   "source": [
    "Dn_s = sorted(Dn)"
   ]
  },
  {
   "cell_type": "code",
   "execution_count": 13,
   "id": "e88cc653-516e-4bca-98d2-191a2934e0fb",
   "metadata": {},
   "outputs": [
    {
     "name": "stdout",
     "output_type": "stream",
     "text": [
      "42685\n"
     ]
    }
   ],
   "source": [
    "print(Dn_s[N//2] - Dn_s[N//2-1])"
   ]
  },
  {
   "cell_type": "code",
   "execution_count": null,
   "id": "325130fe-7b3f-44f0-844d-a5d940de1bb0",
   "metadata": {},
   "outputs": [],
   "source": []
  }
 ],
 "metadata": {
  "kernelspec": {
   "display_name": "Python 3",
   "language": "python",
   "name": "python3"
  },
  "language_info": {
   "codemirror_mode": {
    "name": "ipython",
    "version": 3
   },
   "file_extension": ".py",
   "mimetype": "text/x-python",
   "name": "python",
   "nbconvert_exporter": "python",
   "pygments_lexer": "ipython3",
   "version": "3.6.13"
  }
 },
 "nbformat": 4,
 "nbformat_minor": 5
}
