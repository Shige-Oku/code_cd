{
 "cells": [
  {
   "cell_type": "code",
   "execution_count": 5,
   "id": "589d30b3-bc14-4ca6-8217-c9fdb82f14b8",
   "metadata": {},
   "outputs": [
    {
     "name": "stdin",
     "output_type": "stream",
     "text": [
      " 5\n"
     ]
    }
   ],
   "source": [
    "N = int(input())"
   ]
  },
  {
   "cell_type": "code",
   "execution_count": 12,
   "id": "d96e2748-2b03-4ab1-887f-16d7404b3b22",
   "metadata": {},
   "outputs": [
    {
     "name": "stdin",
     "output_type": "stream",
     "text": [
      " 2 1 5 4 3\n"
     ]
    }
   ],
   "source": [
    "An = list(map(int, input().split()))"
   ]
  },
  {
   "cell_type": "code",
   "execution_count": 13,
   "id": "0ba5b782-0ac2-4847-9a82-bb425389c89f",
   "metadata": {},
   "outputs": [],
   "source": [
    "ans = 0\n",
    "ma = An[0]\n",
    "for A in An[1:]:\n",
    "    if A >= ma:\n",
    "        ma = A\n",
    "        continue\n",
    "    ans += ma - A"
   ]
  },
  {
   "cell_type": "code",
   "execution_count": 14,
   "id": "eba9cc18-ef02-4998-9899-1e0f37264146",
   "metadata": {},
   "outputs": [
    {
     "name": "stdout",
     "output_type": "stream",
     "text": [
      "4\n"
     ]
    }
   ],
   "source": [
    "print(ans)"
   ]
  },
  {
   "cell_type": "code",
   "execution_count": 15,
   "id": "a35ad7a5-40e8-4510-b0e3-f02958658246",
   "metadata": {},
   "outputs": [],
   "source": [
    "import numpy as np"
   ]
  },
  {
   "cell_type": "code",
   "execution_count": 16,
   "id": "fa8cf303-2db3-434a-a178-897add3fc8b5",
   "metadata": {},
   "outputs": [],
   "source": [
    "Bn = np.maximum.accumulate(An)"
   ]
  },
  {
   "cell_type": "code",
   "execution_count": 21,
   "id": "adce66a2-9fd5-400d-be62-f2d05cdffa8d",
   "metadata": {},
   "outputs": [
    {
     "name": "stdout",
     "output_type": "stream",
     "text": [
      "4\n"
     ]
    }
   ],
   "source": [
    "print(np.sum(Bn - A))"
   ]
  },
  {
   "cell_type": "code",
   "execution_count": 19,
   "id": "c02afd2e-1445-4d42-858d-09210a746764",
   "metadata": {},
   "outputs": [
    {
     "data": {
      "text/plain": [
       "array([2, 2, 5, 5, 5], dtype=int32)"
      ]
     },
     "execution_count": 19,
     "metadata": {},
     "output_type": "execute_result"
    }
   ],
   "source": [
    "Bn"
   ]
  },
  {
   "cell_type": "code",
   "execution_count": null,
   "id": "e728b152-62ca-4b39-85a6-7694926c717b",
   "metadata": {},
   "outputs": [],
   "source": []
  }
 ],
 "metadata": {
  "kernelspec": {
   "display_name": "Python 3",
   "language": "python",
   "name": "python3"
  },
  "language_info": {
   "codemirror_mode": {
    "name": "ipython",
    "version": 3
   },
   "file_extension": ".py",
   "mimetype": "text/x-python",
   "name": "python",
   "nbconvert_exporter": "python",
   "pygments_lexer": "ipython3",
   "version": "3.6.13"
  }
 },
 "nbformat": 4,
 "nbformat_minor": 5
}
