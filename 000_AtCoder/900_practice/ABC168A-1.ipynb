{
 "cells": [
  {
   "cell_type": "code",
   "execution_count": 5,
   "id": "0898878c-ccb4-4a8e-a868-707da77de0b3",
   "metadata": {},
   "outputs": [
    {
     "name": "stdin",
     "output_type": "stream",
     "text": [
      " 183\n"
     ]
    }
   ],
   "source": [
    "N = int(input())"
   ]
  },
  {
   "cell_type": "code",
   "execution_count": 6,
   "id": "5d7a639f-2e9f-4427-b6fe-4250e07bd9da",
   "metadata": {},
   "outputs": [
    {
     "name": "stdout",
     "output_type": "stream",
     "text": [
      "bon\n"
     ]
    }
   ],
   "source": [
    "r = N % 10\n",
    "if r in (2, 4, 5, 7, 9):\n",
    "    print('hon')\n",
    "elif r in (0, 1, 6, 8):\n",
    "    print('pon')\n",
    "else:\n",
    "    print('bon')"
   ]
  },
  {
   "cell_type": "code",
   "execution_count": null,
   "id": "2382f83e-a6eb-4a72-85d0-cfb2390637e9",
   "metadata": {},
   "outputs": [],
   "source": []
  }
 ],
 "metadata": {
  "kernelspec": {
   "display_name": "Python 3",
   "language": "python",
   "name": "python3"
  },
  "language_info": {
   "codemirror_mode": {
    "name": "ipython",
    "version": 3
   },
   "file_extension": ".py",
   "mimetype": "text/x-python",
   "name": "python",
   "nbconvert_exporter": "python",
   "pygments_lexer": "ipython3",
   "version": "3.6.13"
  }
 },
 "nbformat": 4,
 "nbformat_minor": 5
}
