{
 "cells": [
  {
   "cell_type": "code",
   "execution_count": 2,
   "id": "d0bdfbbc-0191-4488-be4e-55d39f331de7",
   "metadata": {},
   "outputs": [],
   "source": [
    "import math"
   ]
  },
  {
   "cell_type": "code",
   "execution_count": 10,
   "id": "15362514-f072-4bd0-b80a-f8858696356d",
   "metadata": {},
   "outputs": [
    {
     "name": "stdin",
     "output_type": "stream",
     "text": [
      " 19 99\n"
     ]
    }
   ],
   "source": [
    "A, B = map(int, input().split())"
   ]
  },
  {
   "cell_type": "code",
   "execution_count": 13,
   "id": "ed8b9944-7900-4e35-b5b3-57102dac3be6",
   "metadata": {},
   "outputs": [],
   "source": [
    "for i in range(1, 10**5+1):\n",
    "    if math.floor(i*0.08) == A and math.floor(i*0.1) == B:\n",
    "        ans = i\n",
    "        break\n",
    "else:\n",
    "    ans = -1"
   ]
  },
  {
   "cell_type": "code",
   "execution_count": 14,
   "id": "b47b8975-9e17-4ee1-b5c2-1c9efc534b34",
   "metadata": {},
   "outputs": [
    {
     "name": "stdout",
     "output_type": "stream",
     "text": [
      "-1\n"
     ]
    }
   ],
   "source": [
    "print(ans)"
   ]
  },
  {
   "cell_type": "code",
   "execution_count": null,
   "id": "7c22d776-cd5a-4afc-b11e-b5927278554c",
   "metadata": {},
   "outputs": [],
   "source": []
  }
 ],
 "metadata": {
  "kernelspec": {
   "display_name": "Python 3",
   "language": "python",
   "name": "python3"
  },
  "language_info": {
   "codemirror_mode": {
    "name": "ipython",
    "version": 3
   },
   "file_extension": ".py",
   "mimetype": "text/x-python",
   "name": "python",
   "nbconvert_exporter": "python",
   "pygments_lexer": "ipython3",
   "version": "3.6.13"
  }
 },
 "nbformat": 4,
 "nbformat_minor": 5
}
