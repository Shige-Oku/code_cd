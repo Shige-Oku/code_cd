{
 "cells": [
  {
   "cell_type": "code",
   "execution_count": 8,
   "id": "b059cf63-f915-4fe1-ae8e-eb9cd7991889",
   "metadata": {},
   "outputs": [
    {
     "name": "stdin",
     "output_type": "stream",
     "text": [
      " 314 15\n"
     ]
    }
   ],
   "source": [
    "N, M = map(int, input().split())"
   ]
  },
  {
   "cell_type": "code",
   "execution_count": 9,
   "id": "97270e55-1fb0-4426-b3b7-ed2aa6e16fba",
   "metadata": {},
   "outputs": [
    {
     "name": "stdin",
     "output_type": "stream",
     "text": [
      " 9 26 5 35 8 9 79 3 23 8 46 2 6 43 3\n"
     ]
    }
   ],
   "source": [
    "An = list(map(int, input().split()))"
   ]
  },
  {
   "cell_type": "code",
   "execution_count": 10,
   "id": "6e942d1b-51a8-4951-8990-13077f57e038",
   "metadata": {},
   "outputs": [
    {
     "name": "stdout",
     "output_type": "stream",
     "text": [
      "9\n"
     ]
    }
   ],
   "source": [
    "print(N-sum(An) if N >= sum(An) else -1)"
   ]
  },
  {
   "cell_type": "code",
   "execution_count": 11,
   "id": "8a5f7a49-dc69-480e-8366-58f0ac6df645",
   "metadata": {},
   "outputs": [
    {
     "name": "stdout",
     "output_type": "stream",
     "text": [
      "9\n"
     ]
    }
   ],
   "source": [
    "if sum(An) > N:\n",
    "    print(-1)\n",
    "else:\n",
    "    print(N-sum(An))"
   ]
  },
  {
   "cell_type": "code",
   "execution_count": 12,
   "id": "8e3d8c9a-35a3-46df-a37f-3091a3346b67",
   "metadata": {},
   "outputs": [
    {
     "name": "stdout",
     "output_type": "stream",
     "text": [
      "9\n"
     ]
    }
   ],
   "source": [
    "print(max(-1, N-sum(An)))"
   ]
  },
  {
   "cell_type": "code",
   "execution_count": null,
   "id": "6462278e-aaaa-43c0-8115-a78d6904b331",
   "metadata": {},
   "outputs": [],
   "source": []
  }
 ],
 "metadata": {
  "kernelspec": {
   "display_name": "Python 3",
   "language": "python",
   "name": "python3"
  },
  "language_info": {
   "codemirror_mode": {
    "name": "ipython",
    "version": 3
   },
   "file_extension": ".py",
   "mimetype": "text/x-python",
   "name": "python",
   "nbconvert_exporter": "python",
   "pygments_lexer": "ipython3",
   "version": "3.6.13"
  }
 },
 "nbformat": 4,
 "nbformat_minor": 5
}
