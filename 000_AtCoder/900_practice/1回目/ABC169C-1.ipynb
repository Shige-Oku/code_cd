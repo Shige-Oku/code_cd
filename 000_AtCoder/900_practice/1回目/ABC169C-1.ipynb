{
 "cells": [
  {
   "cell_type": "code",
   "execution_count": 4,
   "id": "8f84fdac-da72-4bac-aa2f-cf1f10ef5782",
   "metadata": {},
   "outputs": [],
   "source": [
    "from decimal import Decimal"
   ]
  },
  {
   "cell_type": "code",
   "execution_count": 10,
   "id": "4bd2a902-5f71-47c8-b608-0b98de0237fe",
   "metadata": {},
   "outputs": [
    {
     "name": "stdin",
     "output_type": "stream",
     "text": [
      " 1000000000000000 9.99\n"
     ]
    }
   ],
   "source": [
    "A, B = input().split()"
   ]
  },
  {
   "cell_type": "code",
   "execution_count": 11,
   "id": "99da337c-5b14-4001-a2ae-1f0602cd326e",
   "metadata": {},
   "outputs": [
    {
     "name": "stdout",
     "output_type": "stream",
     "text": [
      "9990000000000000\n"
     ]
    }
   ],
   "source": [
    "print(Decimal(A)*Decimal(B)//1)"
   ]
  },
  {
   "cell_type": "code",
   "execution_count": 18,
   "id": "f7478588-264c-4067-a197-30e0035abd30",
   "metadata": {},
   "outputs": [
    {
     "name": "stdout",
     "output_type": "stream",
     "text": [
      "9990000000000000\n"
     ]
    }
   ],
   "source": [
    "a = int(A)\n",
    "b = int(float(B)*100 + 10e-10)\n",
    "ans = a * b\n",
    "print(int(ans//100))"
   ]
  },
  {
   "cell_type": "code",
   "execution_count": null,
   "id": "dab30a97-b80f-4b03-9c0b-667d1d65fb71",
   "metadata": {},
   "outputs": [],
   "source": []
  }
 ],
 "metadata": {
  "kernelspec": {
   "display_name": "Python 3",
   "language": "python",
   "name": "python3"
  },
  "language_info": {
   "codemirror_mode": {
    "name": "ipython",
    "version": 3
   },
   "file_extension": ".py",
   "mimetype": "text/x-python",
   "name": "python",
   "nbconvert_exporter": "python",
   "pygments_lexer": "ipython3",
   "version": "3.6.13"
  }
 },
 "nbformat": 4,
 "nbformat_minor": 5
}
