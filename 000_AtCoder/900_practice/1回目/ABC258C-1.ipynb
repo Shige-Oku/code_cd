{
 "cells": [
  {
   "cell_type": "code",
   "execution_count": 34,
   "id": "7f5dfe25-ee01-4a99-bb63-bc96363e7a40",
   "metadata": {},
   "outputs": [
    {
     "name": "stdin",
     "output_type": "stream",
     "text": [
      " 10 9\n"
     ]
    }
   ],
   "source": [
    "N, Q = map(int, input().split())"
   ]
  },
  {
   "cell_type": "code",
   "execution_count": 31,
   "id": "f4c60135-79c5-4469-b1a0-d76fbca548db",
   "metadata": {},
   "outputs": [
    {
     "name": "stdin",
     "output_type": "stream",
     "text": [
      " dsuccxulnl\n"
     ]
    }
   ],
   "source": [
    "S = input()"
   ]
  },
  {
   "cell_type": "code",
   "execution_count": 37,
   "id": "2b8d9d54-2365-4d1a-9acb-bf4bb6b45d91",
   "metadata": {},
   "outputs": [
    {
     "name": "stdin",
     "output_type": "stream",
     "text": [
      " 2 4\n",
      " 2 7\n",
      " 1 2\n",
      " 2 7\n",
      " 2 1\n",
      " 1 1\n",
      " 1 2\n",
      " 1 3\n",
      " 2 5\n"
     ]
    }
   ],
   "source": [
    "Qn = [list(map(int, input().split())) for _ in range(Q)]"
   ]
  },
  {
   "cell_type": "code",
   "execution_count": 23,
   "id": "e3f01f7c-117a-4b87-a977-f8233beadb3c",
   "metadata": {},
   "outputs": [],
   "source": [
    "S_s = []\n",
    "c = 0\n",
    "for i in range(N-1, 0, -1):\n",
    "    if S[i] != S[i-1]:\n",
    "        S_s.append((i, S[i]))\n",
    "else:\n",
    "    S_s.append((i-1, S[i-1]))\n",
    "cnt = N\n",
    "d = 0\n"
   ]
  },
  {
   "cell_type": "code",
   "execution_count": 24,
   "id": "aeb90317-1247-4a88-8c18-309ce9c25f55",
   "metadata": {},
   "outputs": [
    {
     "data": {
      "text/plain": [
       "[(2, 'c'), (1, 'b'), (0, 'a')]"
      ]
     },
     "execution_count": 24,
     "metadata": {},
     "output_type": "execute_result"
    }
   ],
   "source": [
    "S_s"
   ]
  },
  {
   "cell_type": "code",
   "execution_count": 45,
   "id": "56fc4dfb-3075-4ff0-a92e-d1dfdfda0053",
   "metadata": {},
   "outputs": [
    {
     "name": "stdout",
     "output_type": "stream",
     "text": [
      "c\n",
      "u\n",
      "c\n",
      "n\n",
      "u\n"
     ]
    }
   ],
   "source": [
    "cnt = 0\n",
    "for t, x in Qn:\n",
    "    if t == 1:\n",
    "        cnt += x\n",
    "    else:\n",
    "        print(S[(x-cnt-1) % N])"
   ]
  },
  {
   "cell_type": "code",
   "execution_count": 43,
   "id": "b8cd2f97-b232-4f5b-adef-ce4c570651c1",
   "metadata": {},
   "outputs": [
    {
     "data": {
      "text/plain": [
       "9"
      ]
     },
     "execution_count": 43,
     "metadata": {},
     "output_type": "execute_result"
    }
   ],
   "source": [
    "(x-a)%N"
   ]
  },
  {
   "cell_type": "code",
   "execution_count": null,
   "id": "6df97f52-0d68-412d-89d3-309ef00607e3",
   "metadata": {},
   "outputs": [],
   "source": []
  }
 ],
 "metadata": {
  "kernelspec": {
   "display_name": "Python 3",
   "language": "python",
   "name": "python3"
  },
  "language_info": {
   "codemirror_mode": {
    "name": "ipython",
    "version": 3
   },
   "file_extension": ".py",
   "mimetype": "text/x-python",
   "name": "python",
   "nbconvert_exporter": "python",
   "pygments_lexer": "ipython3",
   "version": "3.6.13"
  }
 },
 "nbformat": 4,
 "nbformat_minor": 5
}
