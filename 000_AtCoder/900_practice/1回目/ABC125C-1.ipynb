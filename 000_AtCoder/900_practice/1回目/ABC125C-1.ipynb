{
 "cells": [
  {
   "cell_type": "code",
   "execution_count": 25,
   "id": "b9b2150a-59de-4af3-a566-dd3a745d154c",
   "metadata": {},
   "outputs": [
    {
     "name": "stdin",
     "output_type": "stream",
     "text": [
      " 3\n"
     ]
    }
   ],
   "source": [
    "N = int(input())"
   ]
  },
  {
   "cell_type": "code",
   "execution_count": 41,
   "id": "60b807a3-f591-4713-a600-ffa8e136f669",
   "metadata": {},
   "outputs": [
    {
     "name": "stdin",
     "output_type": "stream",
     "text": [
      " 12 15 18\n"
     ]
    }
   ],
   "source": [
    "An = list(map(int, input().split()))"
   ]
  },
  {
   "cell_type": "code",
   "execution_count": 42,
   "id": "42a9f0ab-b2de-42bc-883e-7f311024801c",
   "metadata": {},
   "outputs": [],
   "source": [
    "from math import gcd\n",
    "gcd_l = [0, ]\n",
    "for A in An:\n",
    "    gcd_l.append(gcd(gcd_l[-1], A))\n",
    "gcd_r = [0, ]\n",
    "for A in An[::-1]:\n",
    "    gcd_r.append(gcd(gcd_r[-1], A))\n",
    "gcd_r = gcd_r[::-1]"
   ]
  },
  {
   "cell_type": "code",
   "execution_count": 45,
   "id": "25fe95bb-dd8c-418e-93fb-8dc63c3fc079",
   "metadata": {},
   "outputs": [],
   "source": [
    "ans = 0\n",
    "for i in range(1, N+1):\n",
    "    ans = max(ans, gcd(gcd_l[i-1], gcd_r[i]))"
   ]
  },
  {
   "cell_type": "code",
   "execution_count": 46,
   "id": "7b4bbc26-55b0-4e65-8872-3bfbc8c05bac",
   "metadata": {},
   "outputs": [
    {
     "name": "stdout",
     "output_type": "stream",
     "text": [
      "6\n"
     ]
    }
   ],
   "source": [
    "print(ans)"
   ]
  },
  {
   "cell_type": "code",
   "execution_count": 36,
   "id": "d575094b-ff61-4399-ae7c-a5d0b4ab2ad9",
   "metadata": {},
   "outputs": [
    {
     "data": {
      "text/plain": [
       "([0, 7, 1, 1], [1, 2, 8, 0], 7)"
      ]
     },
     "execution_count": 36,
     "metadata": {},
     "output_type": "execute_result"
    }
   ],
   "source": [
    "gcd_l, gcd_r, gcd(0, 7)"
   ]
  },
  {
   "cell_type": "code",
   "execution_count": null,
   "id": "ff1dd95b-3ac5-4bb4-817f-0ae8325d1288",
   "metadata": {},
   "outputs": [],
   "source": [
    "# TLE"
   ]
  },
  {
   "cell_type": "code",
   "execution_count": 18,
   "id": "d3f5b0bb-ca18-4df9-a25c-266309a1d240",
   "metadata": {},
   "outputs": [],
   "source": [
    "# 約数のリスト作成\n",
    "import math\n",
    "def get_divisor_list_without_sqrt(number):\n",
    "    number_sqrt = int(math.sqrt(number)) + 1\n",
    "    divisors = []\n",
    "    for i in range(1, int(number_sqrt)):\n",
    "        if number % i == 0:\n",
    "            # 割り切れたので約数\n",
    "            divisors.append(i)\n",
    "            if i ** 2 != number:\n",
    "                divisors.append(number // i)\n",
    "    return divisors\n"
   ]
  },
  {
   "cell_type": "code",
   "execution_count": 19,
   "id": "a9117d70-ac5b-4e72-bd1a-d9bb3351298c",
   "metadata": {},
   "outputs": [],
   "source": [
    "cnt = {}\n",
    "for A in An:\n",
    "    divisors = get_divisor_list_without_sqrt(A)\n",
    "    for divisor in divisors:\n",
    "        if divisor in cnt:\n",
    "            cnt[divisor] += 1\n",
    "        else:\n",
    "            cnt[divisor] = 1\n"
   ]
  },
  {
   "cell_type": "code",
   "execution_count": 20,
   "id": "67399fa8-15be-4c73-bf46-d6e75c5a819b",
   "metadata": {},
   "outputs": [],
   "source": [
    "ans = 0\n",
    "for k, v in cnt.items():\n",
    "    if v < N-1:\n",
    "        continue\n",
    "    ans = max(ans, k)"
   ]
  },
  {
   "cell_type": "code",
   "execution_count": 21,
   "id": "63c530ae-a9d0-4ebe-95dc-4682e0090aad",
   "metadata": {},
   "outputs": [
    {
     "name": "stdout",
     "output_type": "stream",
     "text": [
      "1000000000\n"
     ]
    }
   ],
   "source": [
    "print(ans)"
   ]
  },
  {
   "cell_type": "code",
   "execution_count": 8,
   "id": "abd0c558-938a-4794-a152-317ebc3568e7",
   "metadata": {},
   "outputs": [
    {
     "data": {
      "text/plain": [
       "{1: 3, 7: 1, 6: 1, 2: 2, 3: 1, 8: 1, 4: 1}"
      ]
     },
     "execution_count": 8,
     "metadata": {},
     "output_type": "execute_result"
    }
   ],
   "source": [
    "cnt"
   ]
  },
  {
   "cell_type": "code",
   "execution_count": null,
   "id": "e3a52c89-3a6b-4e51-92c1-9d7721ee5963",
   "metadata": {},
   "outputs": [],
   "source": []
  }
 ],
 "metadata": {
  "kernelspec": {
   "display_name": "Python 3",
   "language": "python",
   "name": "python3"
  },
  "language_info": {
   "codemirror_mode": {
    "name": "ipython",
    "version": 3
   },
   "file_extension": ".py",
   "mimetype": "text/x-python",
   "name": "python",
   "nbconvert_exporter": "python",
   "pygments_lexer": "ipython3",
   "version": "3.6.13"
  }
 },
 "nbformat": 4,
 "nbformat_minor": 5
}
