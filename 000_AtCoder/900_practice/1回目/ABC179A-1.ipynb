{
 "cells": [
  {
   "cell_type": "code",
   "execution_count": 3,
   "id": "fff0746d-dc15-458d-9cf4-0de8f33b6192",
   "metadata": {},
   "outputs": [
    {
     "name": "stdin",
     "output_type": "stream",
     "text": [
      " bus\n"
     ]
    }
   ],
   "source": [
    "S = input()"
   ]
  },
  {
   "cell_type": "code",
   "execution_count": 4,
   "id": "d437d7fa-6c46-44d3-b423-e2fb610b7dd4",
   "metadata": {},
   "outputs": [
    {
     "name": "stdout",
     "output_type": "stream",
     "text": [
      "buses\n"
     ]
    }
   ],
   "source": [
    "print(S + 'es' if S[-1] == 's' else S + 's')"
   ]
  },
  {
   "cell_type": "code",
   "execution_count": null,
   "id": "8886c4cf-563c-4173-938d-0d7d9f416578",
   "metadata": {},
   "outputs": [],
   "source": []
  }
 ],
 "metadata": {
  "kernelspec": {
   "display_name": "Python 3",
   "language": "python",
   "name": "python3"
  },
  "language_info": {
   "codemirror_mode": {
    "name": "ipython",
    "version": 3
   },
   "file_extension": ".py",
   "mimetype": "text/x-python",
   "name": "python",
   "nbconvert_exporter": "python",
   "pygments_lexer": "ipython3",
   "version": "3.6.13"
  }
 },
 "nbformat": 4,
 "nbformat_minor": 5
}
