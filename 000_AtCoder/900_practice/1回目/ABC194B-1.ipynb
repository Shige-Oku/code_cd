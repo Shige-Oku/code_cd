{
 "cells": [
  {
   "cell_type": "code",
   "execution_count": 1,
   "id": "ef05000f-dbfc-4f42-8ebc-316cc2a4b5ef",
   "metadata": {},
   "outputs": [
    {
     "name": "stdin",
     "output_type": "stream",
     "text": [
      " 3\n"
     ]
    }
   ],
   "source": [
    "N = int(input())"
   ]
  },
  {
   "cell_type": "code",
   "execution_count": 17,
   "id": "b11cc74e-a286-46f7-9032-9bfbd9ef3500",
   "metadata": {},
   "outputs": [
    {
     "name": "stdin",
     "output_type": "stream",
     "text": [
      " 8 5\n",
      " 4 4\n",
      " 7 9\n"
     ]
    }
   ],
   "source": [
    "ABn = []\n",
    "mi = 10**10\n",
    "for i in range(N):\n",
    "    A, B = map(int, input().split())\n",
    "    ABn.append((A, B, i))\n",
    "    mi = min(mi, A+B)"
   ]
  },
  {
   "cell_type": "code",
   "execution_count": 18,
   "id": "933cb980-d179-4c7d-8149-e86c28ec2327",
   "metadata": {},
   "outputs": [],
   "source": [
    "ABn_s1 = sorted(ABn, key=lambda x:(x[0], -x[1]))\n",
    "ABn_s2 = sorted(ABn, key=lambda x:(x[1], -x[0]))"
   ]
  },
  {
   "cell_type": "code",
   "execution_count": 28,
   "id": "a3fcbab7-3943-4c65-a33c-6167d6200a47",
   "metadata": {},
   "outputs": [],
   "source": [
    "if ABn_s1[0][2] != ABn_s2[0][2]:\n",
    "    ans = max(ABn_s1[0][0], ABn_s2[0][1])\n",
    "else:\n",
    "    ans = min(max(ABn_s1[0][0], ABn_s2[1][1]), max(ABn_s1[1][0], ABn_s2[0][1]))"
   ]
  },
  {
   "cell_type": "code",
   "execution_count": 30,
   "id": "bc92bc46-c987-4c25-b0db-632f8fbddd16",
   "metadata": {},
   "outputs": [
    {
     "name": "stdout",
     "output_type": "stream",
     "text": [
      "5\n"
     ]
    }
   ],
   "source": [
    "print(min(ans, mi))"
   ]
  },
  {
   "cell_type": "code",
   "execution_count": 29,
   "id": "b5ab962e-9ea6-48dc-9ad2-780ad2ca55a4",
   "metadata": {},
   "outputs": [
    {
     "data": {
      "text/plain": [
       "([(4, 4, 1), (7, 9, 2), (8, 5, 0)], [(4, 4, 1), (8, 5, 0), (7, 9, 2)], 8, 5)"
      ]
     },
     "execution_count": 29,
     "metadata": {},
     "output_type": "execute_result"
    }
   ],
   "source": [
    "ABn_s1, ABn_s2, mi, ans"
   ]
  },
  {
   "cell_type": "code",
   "execution_count": null,
   "id": "2f8018b0-1549-4e92-8f80-d9b60685f726",
   "metadata": {},
   "outputs": [],
   "source": []
  },
  {
   "cell_type": "code",
   "execution_count": 31,
   "id": "da9e7ce0-02d4-4037-852f-faef0c4c7147",
   "metadata": {},
   "outputs": [],
   "source": [
    "ans = 10**10\n",
    "for i in range(N):\n",
    "    for j in range(N):\n",
    "        if i == j:\n",
    "            ans = min(ans, ABn[i][0]+ABn[j][1])\n",
    "        else:\n",
    "            ans = min(ans, max(ABn[i][0], ABn[j][1]))"
   ]
  },
  {
   "cell_type": "code",
   "execution_count": 32,
   "id": "8908de99-2279-42cd-b26c-38caca5d8970",
   "metadata": {},
   "outputs": [
    {
     "name": "stdout",
     "output_type": "stream",
     "text": [
      "5\n"
     ]
    }
   ],
   "source": [
    "print(ans)"
   ]
  },
  {
   "cell_type": "code",
   "execution_count": null,
   "id": "8118b8c1-3883-4c89-93ec-f6ed85ba73d0",
   "metadata": {},
   "outputs": [],
   "source": []
  }
 ],
 "metadata": {
  "kernelspec": {
   "display_name": "Python 3",
   "language": "python",
   "name": "python3"
  },
  "language_info": {
   "codemirror_mode": {
    "name": "ipython",
    "version": 3
   },
   "file_extension": ".py",
   "mimetype": "text/x-python",
   "name": "python",
   "nbconvert_exporter": "python",
   "pygments_lexer": "ipython3",
   "version": "3.6.13"
  }
 },
 "nbformat": 4,
 "nbformat_minor": 5
}
