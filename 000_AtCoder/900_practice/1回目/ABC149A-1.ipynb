{
 "cells": [
  {
   "cell_type": "code",
   "execution_count": 1,
   "id": "68bd0b5c-efd5-4ba6-aec4-085cf5a6a970",
   "metadata": {},
   "outputs": [
    {
     "name": "stdin",
     "output_type": "stream",
     "text": [
      " oder atc\n"
     ]
    }
   ],
   "source": [
    "S, T = input().split()"
   ]
  },
  {
   "cell_type": "code",
   "execution_count": 3,
   "id": "42de05de-5cd6-42ae-9c09-797e2bf63459",
   "metadata": {},
   "outputs": [
    {
     "name": "stdout",
     "output_type": "stream",
     "text": [
      "atcoder\n"
     ]
    }
   ],
   "source": [
    "print(T + S)"
   ]
  },
  {
   "cell_type": "code",
   "execution_count": null,
   "id": "352a3f29-cdc9-49a4-8ca9-f4745667740f",
   "metadata": {},
   "outputs": [],
   "source": []
  }
 ],
 "metadata": {
  "kernelspec": {
   "display_name": "Python 3",
   "language": "python",
   "name": "python3"
  },
  "language_info": {
   "codemirror_mode": {
    "name": "ipython",
    "version": 3
   },
   "file_extension": ".py",
   "mimetype": "text/x-python",
   "name": "python",
   "nbconvert_exporter": "python",
   "pygments_lexer": "ipython3",
   "version": "3.6.13"
  }
 },
 "nbformat": 4,
 "nbformat_minor": 5
}
