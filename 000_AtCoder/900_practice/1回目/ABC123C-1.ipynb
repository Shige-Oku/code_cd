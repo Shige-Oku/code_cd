{
 "cells": [
  {
   "cell_type": "code",
   "execution_count": 1,
   "id": "2b70f86c-4fff-4886-b4c7-9b925a77500f",
   "metadata": {},
   "outputs": [
    {
     "name": "stdin",
     "output_type": "stream",
     "text": [
      " 5\n"
     ]
    }
   ],
   "source": [
    "N = int(input())"
   ]
  },
  {
   "cell_type": "code",
   "execution_count": 2,
   "id": "90d22423-003f-4aea-841d-cc7018288e42",
   "metadata": {},
   "outputs": [
    {
     "name": "stdin",
     "output_type": "stream",
     "text": [
      " 3\n"
     ]
    }
   ],
   "source": [
    "A = int(input())"
   ]
  },
  {
   "cell_type": "code",
   "execution_count": 3,
   "id": "e6546779-94f3-4296-934f-c482b8b8089b",
   "metadata": {},
   "outputs": [
    {
     "name": "stdin",
     "output_type": "stream",
     "text": [
      " 2\n"
     ]
    }
   ],
   "source": [
    "B = int(input())"
   ]
  },
  {
   "cell_type": "code",
   "execution_count": 4,
   "id": "b75c2415-5f33-4b76-bb5d-45692246588c",
   "metadata": {},
   "outputs": [
    {
     "name": "stdin",
     "output_type": "stream",
     "text": [
      " 4\n"
     ]
    }
   ],
   "source": [
    "C = int(input())"
   ]
  },
  {
   "cell_type": "code",
   "execution_count": 5,
   "id": "43e42f02-e950-44b2-9dd4-d50d5f039486",
   "metadata": {},
   "outputs": [
    {
     "name": "stdin",
     "output_type": "stream",
     "text": [
      " 3\n"
     ]
    }
   ],
   "source": [
    "D = int(input())"
   ]
  },
  {
   "cell_type": "code",
   "execution_count": 6,
   "id": "eff4704d-677a-4683-a7c7-a8e3476e5d48",
   "metadata": {},
   "outputs": [
    {
     "name": "stdin",
     "output_type": "stream",
     "text": [
      " 5\n"
     ]
    }
   ],
   "source": [
    "E = int(input())"
   ]
  },
  {
   "cell_type": "code",
   "execution_count": 8,
   "id": "a8d615dd-e49d-4509-878f-2e4926dc5f9f",
   "metadata": {},
   "outputs": [
    {
     "name": "stdout",
     "output_type": "stream",
     "text": [
      "7\n"
     ]
    }
   ],
   "source": [
    "m = min(A, B, C, D, E)\n",
    "print((N+m-1)//m + 4)"
   ]
  },
  {
   "cell_type": "code",
   "execution_count": 7,
   "id": "579b6db2-d83b-4b50-bd9b-2c27466abdac",
   "metadata": {},
   "outputs": [],
   "source": [
    "f, b = 0, 0\n",
    "m = min(A, B, C, D, E)\n",
    "for i, t in enumerate([A, B, C, D, E], 1):\n",
    "    if t == m:\n",
    "        f = i - 1\n",
    "        b = 5 - i\n",
    "        break"
   ]
  },
  {
   "cell_type": "code",
   "execution_count": null,
   "id": "6a5fe47a-30af-489e-8b01-e327dcd55706",
   "metadata": {},
   "outputs": [],
   "source": [
    "print"
   ]
  }
 ],
 "metadata": {
  "kernelspec": {
   "display_name": "Python 3",
   "language": "python",
   "name": "python3"
  },
  "language_info": {
   "codemirror_mode": {
    "name": "ipython",
    "version": 3
   },
   "file_extension": ".py",
   "mimetype": "text/x-python",
   "name": "python",
   "nbconvert_exporter": "python",
   "pygments_lexer": "ipython3",
   "version": "3.6.13"
  }
 },
 "nbformat": 4,
 "nbformat_minor": 5
}
