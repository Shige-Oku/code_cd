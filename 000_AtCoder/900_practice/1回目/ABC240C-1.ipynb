{
 "cells": [
  {
   "cell_type": "code",
   "execution_count": 1,
   "id": "37b97eeb-1264-4b4f-9249-8788a7123ff7",
   "metadata": {},
   "outputs": [
    {
     "name": "stdin",
     "output_type": "stream",
     "text": [
      " 2 10\n"
     ]
    }
   ],
   "source": [
    "N, X = map(int, input().split())"
   ]
  },
  {
   "cell_type": "code",
   "execution_count": 2,
   "id": "ecaaa018-909a-4b39-8b09-9fff9ffc7ee2",
   "metadata": {},
   "outputs": [
    {
     "name": "stdin",
     "output_type": "stream",
     "text": [
      " 3 6\n",
      " 4 5\n"
     ]
    }
   ],
   "source": [
    "ABn = [list(map(int, input().split())) for _ in range(N)]"
   ]
  },
  {
   "cell_type": "code",
   "execution_count": 6,
   "id": "65723596-f514-41af-b13c-3b89010d81a1",
   "metadata": {},
   "outputs": [],
   "source": [
    "dis = [[False] * (X+1) for _ in range(N+1)]\n",
    "dis[0][0] = True\n",
    "for i, (A, B) in enumerate(ABn, 1):\n",
    "    for j, d in enumerate(dis[i-1]):\n",
    "        if not d:\n",
    "            continue\n",
    "        if j + A <= X:\n",
    "            dis[i][j+A] = True\n",
    "        if j + B <= X:\n",
    "            dis[i][j+B] = True\n",
    "            "
   ]
  },
  {
   "cell_type": "code",
   "execution_count": 8,
   "id": "d1c4b53c-cf1d-4951-a00a-c4c72b096b1c",
   "metadata": {},
   "outputs": [
    {
     "name": "stdout",
     "output_type": "stream",
     "text": [
      "Yes\n"
     ]
    }
   ],
   "source": [
    "print('Yes' if dis[N][X] else 'No')"
   ]
  },
  {
   "cell_type": "code",
   "execution_count": 7,
   "id": "6e7d94e3-f4bc-4145-a63a-f8a4887d5209",
   "metadata": {},
   "outputs": [
    {
     "data": {
      "text/plain": [
       "[[True, False, False, False, False, False, False, False, False, False, False],\n",
       " [False, False, False, True, False, False, True, False, False, False, False],\n",
       " [False, False, False, False, False, False, False, True, True, False, True]]"
      ]
     },
     "execution_count": 7,
     "metadata": {},
     "output_type": "execute_result"
    }
   ],
   "source": [
    "dis"
   ]
  },
  {
   "cell_type": "code",
   "execution_count": null,
   "id": "e58fef1a-e287-4d2f-83b1-8a929cdcb29f",
   "metadata": {},
   "outputs": [],
   "source": []
  }
 ],
 "metadata": {
  "kernelspec": {
   "display_name": "Python 3",
   "language": "python",
   "name": "python3"
  },
  "language_info": {
   "codemirror_mode": {
    "name": "ipython",
    "version": 3
   },
   "file_extension": ".py",
   "mimetype": "text/x-python",
   "name": "python",
   "nbconvert_exporter": "python",
   "pygments_lexer": "ipython3",
   "version": "3.6.13"
  }
 },
 "nbformat": 4,
 "nbformat_minor": 5
}
