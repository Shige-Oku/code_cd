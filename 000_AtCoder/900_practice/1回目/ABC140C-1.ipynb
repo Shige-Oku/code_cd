{
 "cells": [
  {
   "cell_type": "code",
   "execution_count": 12,
   "id": "739379c1-b3d1-480c-8580-ac0e311abcc3",
   "metadata": {},
   "outputs": [
    {
     "name": "stdin",
     "output_type": "stream",
     "text": [
      " 6\n"
     ]
    }
   ],
   "source": [
    "N = int(input())"
   ]
  },
  {
   "cell_type": "code",
   "execution_count": 13,
   "id": "ae0149c5-14a4-477b-aef1-94cb7f0118cc",
   "metadata": {},
   "outputs": [
    {
     "name": "stdin",
     "output_type": "stream",
     "text": [
      " 0 153 10 10 23\n"
     ]
    }
   ],
   "source": [
    "Bn = list(map(int, input().split()))"
   ]
  },
  {
   "cell_type": "code",
   "execution_count": 14,
   "id": "a473d25d-10bc-480d-8880-abfeb908bd52",
   "metadata": {},
   "outputs": [],
   "source": [
    "ans = Bn[0]\n",
    "for i in range(1, N-1):\n",
    "    ans += min(Bn[i-1], Bn[i])\n",
    "else:\n",
    "    ans += Bn[-1]"
   ]
  },
  {
   "cell_type": "code",
   "execution_count": 15,
   "id": "10638fea-b683-42cf-974f-a296078b0507",
   "metadata": {},
   "outputs": [
    {
     "name": "stdout",
     "output_type": "stream",
     "text": [
      "53\n"
     ]
    }
   ],
   "source": [
    "print(ans)"
   ]
  },
  {
   "cell_type": "code",
   "execution_count": 23,
   "id": "10e064e3-7438-45aa-848e-5477393dee70",
   "metadata": {},
   "outputs": [],
   "source": [
    "An = [Bn[0]] + [min(Bn[i-1], Bn[i]) for i in range(1, N-1)] + [Bn[-1]]"
   ]
  },
  {
   "cell_type": "code",
   "execution_count": 24,
   "id": "14cccb7d-693d-41b5-b3e5-5c4d9d2830d1",
   "metadata": {},
   "outputs": [
    {
     "name": "stdout",
     "output_type": "stream",
     "text": [
      "53\n"
     ]
    }
   ],
   "source": [
    "print(sum(An))"
   ]
  },
  {
   "cell_type": "code",
   "execution_count": null,
   "id": "c8cbc11c-cdde-461b-9f9d-3b11733ffc52",
   "metadata": {},
   "outputs": [],
   "source": []
  }
 ],
 "metadata": {
  "kernelspec": {
   "display_name": "Python 3",
   "language": "python",
   "name": "python3"
  },
  "language_info": {
   "codemirror_mode": {
    "name": "ipython",
    "version": 3
   },
   "file_extension": ".py",
   "mimetype": "text/x-python",
   "name": "python",
   "nbconvert_exporter": "python",
   "pygments_lexer": "ipython3",
   "version": "3.6.13"
  }
 },
 "nbformat": 4,
 "nbformat_minor": 5
}
