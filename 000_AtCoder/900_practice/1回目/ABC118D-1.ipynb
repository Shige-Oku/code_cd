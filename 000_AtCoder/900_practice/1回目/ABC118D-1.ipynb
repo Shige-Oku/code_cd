{
 "cells": [
  {
   "cell_type": "code",
   "execution_count": 1,
   "id": "54ec574e-c3f7-42e6-a949-84d8003f9289",
   "metadata": {},
   "outputs": [
    {
     "name": "stdin",
     "output_type": "stream",
     "text": [
      " 20 4\n"
     ]
    }
   ],
   "source": [
    "N, M = map(int, input().split())"
   ]
  },
  {
   "cell_type": "code",
   "execution_count": 2,
   "id": "ca6979ad-2417-4db6-a157-d3f3884458d6",
   "metadata": {},
   "outputs": [
    {
     "name": "stdin",
     "output_type": "stream",
     "text": [
      " 3 7 8 4\n"
     ]
    }
   ],
   "source": [
    "An = list(map(int, input().split()))"
   ]
  },
  {
   "cell_type": "code",
   "execution_count": 4,
   "id": "8bc92da6-4649-4651-b90b-bc425467ab8f",
   "metadata": {},
   "outputs": [],
   "source": [
    "cnt = [0, 2, 5, 5, 4, 5, 6, 3, 7, 6]\n",
    "dp = [[0] * (N+1) for _ in range(10)]"
   ]
  },
  {
   "cell_type": "code",
   "execution_count": 6,
   "id": "9597d3fe-f9ad-4fe9-9ef9-74e129ed2337",
   "metadata": {},
   "outputs": [],
   "source": [
    "for i in range(1, 10):\n",
    "    for j in range(N+1):\n",
    "        dp[i][j] = dp[i-1][j]\n",
    "        if i not in An:\n",
    "            continue\n",
    "        if j >= cnt[i]:\n",
    "            dp[i][j] = max(dp[i][j], dp[i-1][j-cnt[i]]+cnt[i], dp[i][j-cnt[i]]+cnt[i])"
   ]
  },
  {
   "cell_type": "code",
   "execution_count": 7,
   "id": "ee972dcf-2a5f-4a1c-a088-212842dcc0d5",
   "metadata": {},
   "outputs": [
    {
     "name": "stdout",
     "output_type": "stream",
     "text": [
      "20\n"
     ]
    }
   ],
   "source": [
    "print(dp[9][N])"
   ]
  },
  {
   "cell_type": "code",
   "execution_count": null,
   "id": "f9a4c9c3-9da4-489d-9055-248a21df794f",
   "metadata": {},
   "outputs": [],
   "source": []
  }
 ],
 "metadata": {
  "kernelspec": {
   "display_name": "Python 3",
   "language": "python",
   "name": "python3"
  },
  "language_info": {
   "codemirror_mode": {
    "name": "ipython",
    "version": 3
   },
   "file_extension": ".py",
   "mimetype": "text/x-python",
   "name": "python",
   "nbconvert_exporter": "python",
   "pygments_lexer": "ipython3",
   "version": "3.6.13"
  }
 },
 "nbformat": 4,
 "nbformat_minor": 5
}
