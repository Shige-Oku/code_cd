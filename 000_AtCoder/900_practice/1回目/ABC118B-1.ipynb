{
 "cells": [
  {
   "cell_type": "code",
   "execution_count": 1,
   "id": "cc705165-2cfe-461b-afe9-9a070db8123d",
   "metadata": {},
   "outputs": [
    {
     "name": "stdin",
     "output_type": "stream",
     "text": [
      " 3 4\n"
     ]
    }
   ],
   "source": [
    "N, M = map(int, input().split())"
   ]
  },
  {
   "cell_type": "code",
   "execution_count": 2,
   "id": "07e2cee0-c62e-4c62-8842-8c3b0e9a333f",
   "metadata": {},
   "outputs": [
    {
     "name": "stdin",
     "output_type": "stream",
     "text": [
      " 2 1 3\n",
      " 3 1 2 3\n",
      " 2 3 2\n"
     ]
    }
   ],
   "source": [
    "KAn = [list(map(int, input().split())) for _ in range(N)]"
   ]
  },
  {
   "cell_type": "code",
   "execution_count": 3,
   "id": "44b2550a-dc84-4005-9794-f99a2438e3b3",
   "metadata": {},
   "outputs": [],
   "source": [
    "fav = [0] * (M+1)\n",
    "for K, *A in KAn:\n",
    "    for a in A:\n",
    "        fav[a] += 1"
   ]
  },
  {
   "cell_type": "code",
   "execution_count": 5,
   "id": "932f684f-22e3-4aa2-a606-0c6e644ff66f",
   "metadata": {},
   "outputs": [
    {
     "name": "stdout",
     "output_type": "stream",
     "text": [
      "1\n"
     ]
    }
   ],
   "source": [
    "print(fav.count(N))"
   ]
  },
  {
   "cell_type": "code",
   "execution_count": null,
   "id": "2cd6ec2e-2ffe-48a7-82ce-ef23fc306875",
   "metadata": {},
   "outputs": [],
   "source": []
  }
 ],
 "metadata": {
  "kernelspec": {
   "display_name": "Python 3",
   "language": "python",
   "name": "python3"
  },
  "language_info": {
   "codemirror_mode": {
    "name": "ipython",
    "version": 3
   },
   "file_extension": ".py",
   "mimetype": "text/x-python",
   "name": "python",
   "nbconvert_exporter": "python",
   "pygments_lexer": "ipython3",
   "version": "3.6.13"
  }
 },
 "nbformat": 4,
 "nbformat_minor": 5
}
