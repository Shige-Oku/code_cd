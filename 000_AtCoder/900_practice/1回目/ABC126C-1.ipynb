{
 "cells": [
  {
   "cell_type": "code",
   "execution_count": 11,
   "id": "272049db-e3d6-4894-bc1b-62e3f7bdf59c",
   "metadata": {},
   "outputs": [
    {
     "name": "stdin",
     "output_type": "stream",
     "text": [
      " 3 10\n"
     ]
    }
   ],
   "source": [
    "N, K = map(int, input().split())"
   ]
  },
  {
   "cell_type": "code",
   "execution_count": 12,
   "id": "2dd3daf6-00a0-4fa0-99ce-ffa59b86f0a1",
   "metadata": {},
   "outputs": [],
   "source": [
    "ans = 0\n",
    "for i in range(1, N+1):\n",
    "    v = i\n",
    "    p = N\n",
    "    while v < K:\n",
    "        v *= 2\n",
    "        p *= 2\n",
    "    ans += 1 / p"
   ]
  },
  {
   "cell_type": "code",
   "execution_count": 13,
   "id": "8d295532-93ec-4e0d-8a25-f68f8618c36c",
   "metadata": {},
   "outputs": [
    {
     "name": "stdout",
     "output_type": "stream",
     "text": [
      "0.14583333333333331\n"
     ]
    }
   ],
   "source": [
    "print(ans)"
   ]
  },
  {
   "cell_type": "code",
   "execution_count": 14,
   "id": "84e301dc-0d67-412d-8d18-3ec31718a9d3",
   "metadata": {},
   "outputs": [
    {
     "data": {
      "text/plain": [
       "0.145833333333"
      ]
     },
     "execution_count": 14,
     "metadata": {},
     "output_type": "execute_result"
    }
   ],
   "source": [
    "0.145833333333"
   ]
  },
  {
   "cell_type": "code",
   "execution_count": 15,
   "id": "ab5eae92-093b-47c2-a443-afd2aa9a4ea3",
   "metadata": {},
   "outputs": [
    {
     "name": "stdout",
     "output_type": "stream",
     "text": [
      "0.14583333333333331\n"
     ]
    }
   ],
   "source": [
    "ans = 0\n",
    "for i in range(1, N+1):\n",
    "    val = i\n",
    "    p = 1\n",
    "    while val < K:\n",
    "        val *= 2\n",
    "        p /= 2\n",
    "    ans += (p / N)\n",
    " \n",
    "print(ans)"
   ]
  },
  {
   "cell_type": "code",
   "execution_count": null,
   "id": "992fc228-ef1b-43cc-94f2-2f078025d6a8",
   "metadata": {},
   "outputs": [],
   "source": []
  }
 ],
 "metadata": {
  "kernelspec": {
   "display_name": "Python 3",
   "language": "python",
   "name": "python3"
  },
  "language_info": {
   "codemirror_mode": {
    "name": "ipython",
    "version": 3
   },
   "file_extension": ".py",
   "mimetype": "text/x-python",
   "name": "python",
   "nbconvert_exporter": "python",
   "pygments_lexer": "ipython3",
   "version": "3.6.13"
  }
 },
 "nbformat": 4,
 "nbformat_minor": 5
}
