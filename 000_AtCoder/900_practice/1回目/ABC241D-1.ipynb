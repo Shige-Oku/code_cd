{
 "cells": [
  {
   "cell_type": "code",
   "execution_count": 10,
   "id": "e08f4b84-7796-4f6b-b291-f437ce15222b",
   "metadata": {},
   "outputs": [
    {
     "name": "stdin",
     "output_type": "stream",
     "text": [
      " 11\n"
     ]
    }
   ],
   "source": [
    "Q = int(input())"
   ]
  },
  {
   "cell_type": "code",
   "execution_count": 12,
   "id": "12252cea-4711-486e-aeea-036d86d74dd1",
   "metadata": {},
   "outputs": [
    {
     "name": "stdin",
     "output_type": "stream",
     "text": [
      " 1 20\n",
      " 1 10\n",
      " 1 30\n",
      " 1 20\n",
      " 3 15 1\n",
      " 3 15 2\n",
      " 3 15 3\n",
      " 3 15 4\n",
      " 2 100 5\n",
      " 1 1\n",
      " 2 100 5\n"
     ]
    }
   ],
   "source": [
    "Qn = [list(map(int, input().split())) for _ in range(Q)]"
   ]
  },
  {
   "cell_type": "code",
   "execution_count": 77,
   "id": "973a4264-4707-4105-bb5a-b9466ca35a2a",
   "metadata": {},
   "outputs": [],
   "source": [
    "Xn_s = set()\n",
    "for Q in Qn:\n",
    "    Xn_s.add(Q[1])\n",
    "Xn = sorted(Xn_s)\n",
    "idx = {x:i for i, x in enumerate(Xn)}"
   ]
  },
  {
   "cell_type": "code",
   "execution_count": 78,
   "id": "0c39f170-4ab0-435c-8aa0-28618e7443b2",
   "metadata": {},
   "outputs": [
    {
     "name": "stdout",
     "output_type": "stream",
     "text": [
      "20\n",
      "20\n",
      "30\n",
      "-1\n",
      "-1\n",
      "1\n"
     ]
    }
   ],
   "source": [
    "from bisect import bisect_left\n",
    "from bisect import bisect_right\n",
    "from bisect import insort_left\n",
    "from array import array \n",
    "l = array('I')\n",
    "for q in Qn:\n",
    "    if q[0] == 1:\n",
    "        _, x = q\n",
    "        insort_left(l, idx[x])\n",
    "#         p = bisect_left(l, k)\n",
    "#         l.insert(p, k)\n",
    "    elif q[0] == 2:\n",
    "        _, x, k = q\n",
    "        p = bisect_right(l, idx[x])\n",
    "        if p >= k:\n",
    "            print(Xn[l[p-k]])\n",
    "        else:\n",
    "            print(-1)\n",
    "    else:\n",
    "        _, x, k = q\n",
    "        k -= 1\n",
    "        p = bisect_left(l, idx[x])\n",
    "        if p + k < len(l):\n",
    "            print(Xn[l[p+k]])\n",
    "        else:\n",
    "            print(-1)\n"
   ]
  },
  {
   "cell_type": "code",
   "execution_count": 66,
   "id": "e2810a3f-101a-425a-bb9b-d85edba43892",
   "metadata": {},
   "outputs": [
    {
     "data": {
      "text/plain": [
       "([2, 100, 5], {1: 0, 100: 1, 10: 2, 15: 3, 20: 4, 30: 5})"
      ]
     },
     "execution_count": 66,
     "metadata": {},
     "output_type": "execute_result"
    }
   ],
   "source": [
    "q, idx"
   ]
  },
  {
   "cell_type": "code",
   "execution_count": 62,
   "id": "fe4d3b56-73cd-4402-8827-65f19f54ae06",
   "metadata": {},
   "outputs": [
    {
     "data": {
      "text/plain": [
       "array('i', [1, 10, 20, 20, 30])"
      ]
     },
     "execution_count": 62,
     "metadata": {},
     "output_type": "execute_result"
    }
   ],
   "source": [
    "l"
   ]
  },
  {
   "cell_type": "code",
   "execution_count": 56,
   "id": "a8d19c65-aa51-461f-af75-59ddfde16164",
   "metadata": {},
   "outputs": [
    {
     "name": "stdout",
     "output_type": "stream",
     "text": [
      "[10, 15, 30, 20]\n",
      "10\n",
      "15\n",
      "20\n",
      "30\n",
      "[]\n"
     ]
    }
   ],
   "source": [
    "import heapq\n",
    "q = []\n",
    "heapq.heappush(q, 10)\n",
    "heapq.heappush(q, 20)\n",
    "heapq.heappush(q, 30)\n",
    "heapq.heappush(q, 15)\n",
    "print(q)\n",
    "print(heapq.heappop(q))\n",
    "print(heapq.heappop(q))\n",
    "print(heapq.heappop(q))\n",
    "print(heapq.heappop(q))\n",
    "print(q)"
   ]
  },
  {
   "cell_type": "code",
   "execution_count": null,
   "id": "8817463f-4dae-4675-82e0-39d2dcc6220c",
   "metadata": {},
   "outputs": [],
   "source": []
  }
 ],
 "metadata": {
  "kernelspec": {
   "display_name": "Python 3",
   "language": "python",
   "name": "python3"
  },
  "language_info": {
   "codemirror_mode": {
    "name": "ipython",
    "version": 3
   },
   "file_extension": ".py",
   "mimetype": "text/x-python",
   "name": "python",
   "nbconvert_exporter": "python",
   "pygments_lexer": "ipython3",
   "version": "3.6.13"
  }
 },
 "nbformat": 4,
 "nbformat_minor": 5
}
