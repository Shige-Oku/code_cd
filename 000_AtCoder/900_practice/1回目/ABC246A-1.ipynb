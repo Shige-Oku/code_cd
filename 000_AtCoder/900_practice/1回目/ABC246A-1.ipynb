{
 "cells": [
  {
   "cell_type": "code",
   "execution_count": 6,
   "id": "ba1fc8ad-2732-486d-8d92-ea5087120470",
   "metadata": {},
   "outputs": [
    {
     "name": "stdin",
     "output_type": "stream",
     "text": [
      " -60 -40\n"
     ]
    }
   ],
   "source": [
    "X1, y1 = map(int, input().split())"
   ]
  },
  {
   "cell_type": "code",
   "execution_count": 7,
   "id": "17b27745-a775-48d0-aa69-4ed0fa72f2f4",
   "metadata": {},
   "outputs": [
    {
     "name": "stdin",
     "output_type": "stream",
     "text": [
      " -60 -80\n"
     ]
    }
   ],
   "source": [
    "X2, y2 = map(int, input().split())"
   ]
  },
  {
   "cell_type": "code",
   "execution_count": 8,
   "id": "4357f05f-7ded-40f0-af9f-c1f5eb505716",
   "metadata": {},
   "outputs": [
    {
     "name": "stdin",
     "output_type": "stream",
     "text": [
      " -20 -80\n"
     ]
    }
   ],
   "source": [
    "X3, y3 = map(int, input().split())"
   ]
  },
  {
   "cell_type": "code",
   "execution_count": 9,
   "id": "d96c4c96-74eb-4c74-8c85-00df844febff",
   "metadata": {},
   "outputs": [
    {
     "name": "stdout",
     "output_type": "stream",
     "text": [
      "-20 -40\n"
     ]
    }
   ],
   "source": [
    "import collections\n",
    "X_c = collections.Counter([X1, X2, X3])\n",
    "Y_c = collections.Counter([y1, y2, y3])\n",
    "for k, v in X_c.items():\n",
    "    if v == 1:\n",
    "        ans_x = k\n",
    "for k,v in Y_c.items():\n",
    "    if v == 1:\n",
    "        ans_y = k\n",
    "print(ans_x, ans_y)"
   ]
  },
  {
   "cell_type": "code",
   "execution_count": null,
   "id": "9f4f4536-c46a-4662-9710-b1c9a7acce05",
   "metadata": {},
   "outputs": [],
   "source": [
    "# 解説を読んで実装"
   ]
  },
  {
   "cell_type": "code",
   "execution_count": 10,
   "id": "8a48ae6c-2437-4b0e-828d-7e1247c9cace",
   "metadata": {},
   "outputs": [
    {
     "name": "stdout",
     "output_type": "stream",
     "text": [
      "-20 -40\n"
     ]
    }
   ],
   "source": [
    "print(X1^X2^X3, y1^y2^y3)"
   ]
  },
  {
   "cell_type": "code",
   "execution_count": null,
   "id": "8b456f2d-3f0c-4548-a606-a40f48cc60ed",
   "metadata": {},
   "outputs": [],
   "source": []
  }
 ],
 "metadata": {
  "kernelspec": {
   "display_name": "Python 3",
   "language": "python",
   "name": "python3"
  },
  "language_info": {
   "codemirror_mode": {
    "name": "ipython",
    "version": 3
   },
   "file_extension": ".py",
   "mimetype": "text/x-python",
   "name": "python",
   "nbconvert_exporter": "python",
   "pygments_lexer": "ipython3",
   "version": "3.6.13"
  }
 },
 "nbformat": 4,
 "nbformat_minor": 5
}
