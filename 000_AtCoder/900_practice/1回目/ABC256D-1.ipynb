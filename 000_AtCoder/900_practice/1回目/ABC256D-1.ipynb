{
 "cells": [
  {
   "cell_type": "code",
   "execution_count": 1,
   "id": "8135f428-c0da-4dd6-bc62-542ad9b11c27",
   "metadata": {},
   "outputs": [
    {
     "name": "stdin",
     "output_type": "stream",
     "text": [
      " 3\n"
     ]
    }
   ],
   "source": [
    "N = int(input())"
   ]
  },
  {
   "cell_type": "code",
   "execution_count": 38,
   "id": "f76f7e36-c514-41af-83b0-d4850840ae4e",
   "metadata": {},
   "outputs": [
    {
     "name": "stdin",
     "output_type": "stream",
     "text": [
      " 10 40\n",
      " 30 60\n",
      " 20 50\n"
     ]
    }
   ],
   "source": [
    "XYn = [list(map(int, input().split())) for _ in range(N)]"
   ]
  },
  {
   "cell_type": "code",
   "execution_count": 39,
   "id": "d71ec8d5-2427-466e-ac3e-d6eed87dbb15",
   "metadata": {},
   "outputs": [
    {
     "name": "stdout",
     "output_type": "stream",
     "text": [
      "10 60\n"
     ]
    }
   ],
   "source": [
    "XYn_s = sorted(XYn)\n",
    "L, R = XYn_s[0]\n",
    "for X, Y in XYn_s:\n",
    "    if X > R:\n",
    "        print(L, R)\n",
    "        L, R = X, Y\n",
    "    else:\n",
    "        L = min(L, X)\n",
    "        R = max(R, Y)\n",
    "else:\n",
    "    print(L, R)"
   ]
  },
  {
   "cell_type": "code",
   "execution_count": 40,
   "id": "b8a0071e-eeab-4d97-a063-fa01bbbfa01d",
   "metadata": {},
   "outputs": [],
   "source": [
    "from itertools import accumulate\n",
    "div = [0] * (2 * 10**5 + 2)\n",
    "for L, R in XYn:\n",
    "    div[L] += 1\n",
    "    div[R] -= 1\n",
    "div_s = list(accumulate(div))"
   ]
  },
  {
   "cell_type": "code",
   "execution_count": 41,
   "id": "f6e18150-c21c-4878-bb36-79ffb4fac4ee",
   "metadata": {},
   "outputs": [
    {
     "name": "stdout",
     "output_type": "stream",
     "text": [
      "10 60\n"
     ]
    }
   ],
   "source": [
    "for i in range(1, len(div)-1):\n",
    "    if div_s[i-1] == 0 and div_s[i] > 0:\n",
    "        print(i, end=' ')\n",
    "    if div_s[i-1] > 0 and div_s[i] == 0:\n",
    "        print(i)\n",
    "        "
   ]
  },
  {
   "cell_type": "code",
   "execution_count": 31,
   "id": "3f023d0c-7d46-4d82-8fc8-ed3ff9f20f2e",
   "metadata": {},
   "outputs": [
    {
     "data": {
      "text/plain": [
       "[0,\n",
       " 1,\n",
       " 1,\n",
       " 1,\n",
       " 1,\n",
       " 1,\n",
       " 1,\n",
       " 1,\n",
       " 1,\n",
       " 1,\n",
       " 1,\n",
       " 1,\n",
       " 1,\n",
       " 1,\n",
       " 1,\n",
       " 1,\n",
       " 1,\n",
       " 1,\n",
       " 1,\n",
       " 1,\n",
       " 1,\n",
       " 0,\n",
       " 0,\n",
       " 0,\n",
       " 0,\n",
       " 0,\n",
       " 0,\n",
       " 0,\n",
       " 0,\n",
       " 0,\n",
       " 0,\n",
       " 1,\n",
       " 1,\n",
       " 1,\n",
       " 1,\n",
       " 1,\n",
       " 1,\n",
       " 1,\n",
       " 1,\n",
       " 1,\n",
       " 1,\n",
       " 0,\n",
       " 0,\n",
       " 0,\n",
       " 0,\n",
       " 0,\n",
       " 0,\n",
       " 0,\n",
       " 0,\n",
       " 0,\n",
       " 0]"
      ]
     },
     "execution_count": 31,
     "metadata": {},
     "output_type": "execute_result"
    }
   ],
   "source": [
    "div_s[9:60]"
   ]
  },
  {
   "cell_type": "code",
   "execution_count": null,
   "id": "151068e7-bb9d-4e38-8e26-264b771f2c08",
   "metadata": {},
   "outputs": [],
   "source": []
  }
 ],
 "metadata": {
  "kernelspec": {
   "display_name": "Python 3",
   "language": "python",
   "name": "python3"
  },
  "language_info": {
   "codemirror_mode": {
    "name": "ipython",
    "version": 3
   },
   "file_extension": ".py",
   "mimetype": "text/x-python",
   "name": "python",
   "nbconvert_exporter": "python",
   "pygments_lexer": "ipython3",
   "version": "3.6.13"
  }
 },
 "nbformat": 4,
 "nbformat_minor": 5
}
