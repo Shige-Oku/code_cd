{
 "cells": [
  {
   "cell_type": "code",
   "execution_count": 3,
   "id": "150d5495-41b7-4f37-add9-141e8f2918f7",
   "metadata": {},
   "outputs": [
    {
     "name": "stdin",
     "output_type": "stream",
     "text": [
      " Monday\n"
     ]
    }
   ],
   "source": [
    "S = input()"
   ]
  },
  {
   "cell_type": "code",
   "execution_count": 4,
   "id": "e4e98f97-d1ad-4c6a-996b-d08edac57b78",
   "metadata": {},
   "outputs": [
    {
     "name": "stdout",
     "output_type": "stream",
     "text": [
      "5\n"
     ]
    }
   ],
   "source": [
    "if S == 'Monday':\n",
    "    print(5)\n",
    "elif S =='Tuesday':\n",
    "    print(4)\n",
    "elif S == 'Wednesday':\n",
    "    print(3)\n",
    "elif S == 'Thursday':\n",
    "    print(2)\n",
    "else:\n",
    "    print(1)\n"
   ]
  },
  {
   "cell_type": "code",
   "execution_count": null,
   "id": "413c1234-7f3e-45ce-acae-2faf6ec51ac7",
   "metadata": {},
   "outputs": [],
   "source": []
  }
 ],
 "metadata": {
  "kernelspec": {
   "display_name": "Python 3",
   "language": "python",
   "name": "python3"
  },
  "language_info": {
   "codemirror_mode": {
    "name": "ipython",
    "version": 3
   },
   "file_extension": ".py",
   "mimetype": "text/x-python",
   "name": "python",
   "nbconvert_exporter": "python",
   "pygments_lexer": "ipython3",
   "version": "3.6.13"
  }
 },
 "nbformat": 4,
 "nbformat_minor": 5
}
