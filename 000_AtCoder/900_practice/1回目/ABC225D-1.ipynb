{
 "cells": [
  {
   "cell_type": "code",
   "execution_count": 1,
   "id": "87adc776-cc25-4715-acb2-2d9886817571",
   "metadata": {},
   "outputs": [
    {
     "name": "stdin",
     "output_type": "stream",
     "text": [
      " 7 14\n"
     ]
    }
   ],
   "source": [
    "N, Q = map(int, input().split())"
   ]
  },
  {
   "cell_type": "code",
   "execution_count": 3,
   "id": "ff07248a-1e90-4ca8-998a-9e4f1a4550e2",
   "metadata": {},
   "outputs": [
    {
     "name": "stdin",
     "output_type": "stream",
     "text": [
      " 1 6 3\n",
      " 1 4 1\n",
      " 1 5 2\n",
      " 1 2 7\n",
      " 1 3 5\n",
      " 3 2\n",
      " 3 4\n",
      " 3 6\n",
      " 2 3 5\n",
      " 2 4 1\n",
      " 1 1 5\n",
      " 3 2\n",
      " 3 4\n",
      " 3 6\n"
     ]
    }
   ],
   "source": [
    "Qn = [list(map(int, input().split())) for _ in range(Q)]"
   ]
  },
  {
   "cell_type": "code",
   "execution_count": 24,
   "id": "e88e6453-2d3c-43dd-a3c5-d55a5fb43848",
   "metadata": {},
   "outputs": [],
   "source": [
    "def solve(n):\n",
    "    ret = []\n",
    "    s = n\n",
    "    while True:\n",
    "        if train[s][0] == -1:\n",
    "            break\n",
    "        s = train[s][0]\n",
    "    p = s\n",
    "    while True:\n",
    "        ret.append(p)\n",
    "        if train[p][1] == -1:\n",
    "            break\n",
    "        p = train[p][1]\n",
    "    return ret"
   ]
  },
  {
   "cell_type": "code",
   "execution_count": 26,
   "id": "dc059331-d041-4c83-b360-4b53f84ebb4f",
   "metadata": {},
   "outputs": [
    {
     "name": "stdout",
     "output_type": "stream",
     "text": [
      "5 6 3 5 2 7 \n",
      "2 4 1 \n",
      "5 6 3 5 2 7 \n",
      "4 1 5 2 7 \n",
      "1 4 \n",
      "2 6 3 \n"
     ]
    }
   ],
   "source": [
    "train = {}\n",
    "for i in range(1, N+1):\n",
    "    train[i] = [-1, -1]\n",
    "for q in range(Q):\n",
    "    if Qn[q][0] == 1:\n",
    "        _, x, y = Qn[q]\n",
    "        train[x][1] = y\n",
    "        train[y][0] = x\n",
    "    elif Qn[q][0] == 2:\n",
    "        _, x, y = Qn[q]\n",
    "        train[x][1] = -1\n",
    "        train[y][0] = -1\n",
    "    else:\n",
    "        _, x = Qn[q]\n",
    "        r = solve(x)\n",
    "        print(len(r), *r, end=' ')\n",
    "        print()\n",
    "        "
   ]
  },
  {
   "cell_type": "code",
   "execution_count": 19,
   "id": "eb6ee5e1-dd44-48ca-bd15-73c3b75ef791",
   "metadata": {},
   "outputs": [
    {
     "data": {
      "text/plain": [
       "{1: [4, -1],\n",
       " 2: [5, 7],\n",
       " 3: [6, 5],\n",
       " 4: [-1, 1],\n",
       " 5: [3, 2],\n",
       " 6: [-1, 3],\n",
       " 7: [2, -1]}"
      ]
     },
     "execution_count": 19,
     "metadata": {},
     "output_type": "execute_result"
    }
   ],
   "source": [
    "train"
   ]
  },
  {
   "cell_type": "code",
   "execution_count": 5,
   "id": "2253cbf6-a870-43d6-ac91-783588187ff6",
   "metadata": {},
   "outputs": [
    {
     "data": {
      "text/plain": [
       "{1: (-1, -1),\n",
       " 2: (-1, -1),\n",
       " 3: (-1, -1),\n",
       " 4: (-1, -1),\n",
       " 5: (-1, -1),\n",
       " 6: (-1, -1),\n",
       " 7: (-1, -1)}"
      ]
     },
     "execution_count": 5,
     "metadata": {},
     "output_type": "execute_result"
    }
   ],
   "source": []
  },
  {
   "cell_type": "code",
   "execution_count": null,
   "id": "08cf5e04-08e3-4246-a4f5-a788e5fb0096",
   "metadata": {},
   "outputs": [],
   "source": []
  }
 ],
 "metadata": {
  "kernelspec": {
   "display_name": "Python 3",
   "language": "python",
   "name": "python3"
  },
  "language_info": {
   "codemirror_mode": {
    "name": "ipython",
    "version": 3
   },
   "file_extension": ".py",
   "mimetype": "text/x-python",
   "name": "python",
   "nbconvert_exporter": "python",
   "pygments_lexer": "ipython3",
   "version": "3.6.13"
  }
 },
 "nbformat": 4,
 "nbformat_minor": 5
}
