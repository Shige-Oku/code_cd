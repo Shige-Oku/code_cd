{
 "cells": [
  {
   "cell_type": "code",
   "execution_count": 1,
   "id": "6a660fcf-f8e8-4117-b97d-f47526bcae24",
   "metadata": {},
   "outputs": [
    {
     "name": "stdin",
     "output_type": "stream",
     "text": [
      " 6\n"
     ]
    }
   ],
   "source": [
    "N = int(input())"
   ]
  },
  {
   "cell_type": "code",
   "execution_count": 3,
   "id": "2b48ab37-8461-42b6-9e5f-024ef21bba59",
   "metadata": {},
   "outputs": [
    {
     "name": "stdin",
     "output_type": "stream",
     "text": [
      " 0 0\n",
      " 0 1\n",
      " 1 0\n",
      " 1 1\n",
      " 2 0\n",
      " 2 1\n"
     ]
    }
   ],
   "source": [
    "XYn = [list(map(int, input().split())) for _ in range(N)]"
   ]
  },
  {
   "cell_type": "code",
   "execution_count": 26,
   "id": "a9c1cda2-1aa8-40de-b773-846046a0a342",
   "metadata": {},
   "outputs": [],
   "source": [
    "di = {}\n",
    "for X, Y in XYn:\n",
    "    if Y in di:\n",
    "        di[Y].add(X)\n",
    "    else:\n",
    "        di[Y] = set([X])"
   ]
  },
  {
   "cell_type": "code",
   "execution_count": 27,
   "id": "2af246de-79f9-4dba-bb58-d2521e033ec7",
   "metadata": {},
   "outputs": [],
   "source": [
    "ans = 0\n",
    "dl = list(di.items())\n",
    "for i in range(len(dl)-1):\n",
    "    _, s1 = dl[i]\n",
    "    for j in range(i+1, len(dl)):\n",
    "        _, s2 = dl[j]\n",
    "        cnt = 0\n",
    "        for s in s1:\n",
    "            if s in s2:\n",
    "                cnt += 1\n",
    "        ans += cnt * (cnt-1) // 2"
   ]
  },
  {
   "cell_type": "code",
   "execution_count": 28,
   "id": "173689ca-5fd9-4675-be53-0b91728a0308",
   "metadata": {},
   "outputs": [
    {
     "name": "stdout",
     "output_type": "stream",
     "text": [
      "3\n"
     ]
    }
   ],
   "source": [
    "print(ans)"
   ]
  },
  {
   "cell_type": "code",
   "execution_count": 29,
   "id": "2c9bc124-6766-4ec2-86ec-90e4b86fbe4d",
   "metadata": {},
   "outputs": [
    {
     "data": {
      "text/plain": [
       "({0: {0, 1, 2}, 1: {0, 1, 2}}, [(0, {0, 1, 2}), (1, {0, 1, 2})])"
      ]
     },
     "execution_count": 29,
     "metadata": {},
     "output_type": "execute_result"
    }
   ],
   "source": [
    "di, dl"
   ]
  },
  {
   "cell_type": "code",
   "execution_count": 30,
   "id": "0c8c7a3e-8a9e-4493-b436-8d1c7cb0a878",
   "metadata": {},
   "outputs": [],
   "source": [
    "XYn_s = set()\n",
    "for X, Y in XYn:\n",
    "    XYn_s.add((X, Y))"
   ]
  },
  {
   "cell_type": "code",
   "execution_count": 33,
   "id": "73b41ac9-57be-4808-8037-86ae36da9986",
   "metadata": {},
   "outputs": [],
   "source": [
    "ans = 0\n",
    "for i in range(N-1):\n",
    "    x1, y1 = XYn[i]\n",
    "    for j in range(i+1, N):\n",
    "        x2, y2 = XYn[j]\n",
    "        if x1 == x2 or y1 == y2:\n",
    "            continue\n",
    "        if (x1, y2) in XYn_s and (x2, y1) in XYn_s:\n",
    "            ans += 1"
   ]
  },
  {
   "cell_type": "code",
   "execution_count": 35,
   "id": "4e37a9f8-3c75-4f00-9f64-d7c21f216474",
   "metadata": {},
   "outputs": [
    {
     "name": "stdout",
     "output_type": "stream",
     "text": [
      "3\n"
     ]
    }
   ],
   "source": [
    "print(ans//2)"
   ]
  },
  {
   "cell_type": "code",
   "execution_count": 21,
   "id": "573ab935-be00-4de5-b5ae-82140f9cd7d7",
   "metadata": {},
   "outputs": [
    {
     "data": {
      "text/plain": [
       "{(0, 0), (0, 1), (1, 0), (1, 1), (2, 0), (2, 1)}"
      ]
     },
     "execution_count": 21,
     "metadata": {},
     "output_type": "execute_result"
    }
   ],
   "source": [
    "XYn_s"
   ]
  },
  {
   "cell_type": "code",
   "execution_count": 23,
   "id": "d9c5e157-c202-443d-b456-ac5b87d1e8e9",
   "metadata": {},
   "outputs": [
    {
     "ename": "TypeError",
     "evalue": "'set' object is not subscriptable",
     "output_type": "error",
     "traceback": [
      "\u001b[1;31m---------------------------------------------------------------------------\u001b[0m",
      "\u001b[1;31mTypeError\u001b[0m                                 Traceback (most recent call last)",
      "\u001b[1;32m<ipython-input-23-98bbe56d3e66>\u001b[0m in \u001b[0;36m<module>\u001b[1;34m\u001b[0m\n\u001b[1;32m----> 1\u001b[1;33m \u001b[0mXYn_s\u001b[0m\u001b[1;33m[\u001b[0m\u001b[1;36m1\u001b[0m\u001b[1;33m:\u001b[0m\u001b[1;33m]\u001b[0m\u001b[1;33m\u001b[0m\u001b[1;33m\u001b[0m\u001b[0m\n\u001b[0m",
      "\u001b[1;31mTypeError\u001b[0m: 'set' object is not subscriptable"
     ]
    }
   ],
   "source": []
  },
  {
   "cell_type": "code",
   "execution_count": null,
   "id": "478fa793-1c4c-4ad8-9a46-84cd7a27b97b",
   "metadata": {},
   "outputs": [],
   "source": []
  }
 ],
 "metadata": {
  "kernelspec": {
   "display_name": "Python 3",
   "language": "python",
   "name": "python3"
  },
  "language_info": {
   "codemirror_mode": {
    "name": "ipython",
    "version": 3
   },
   "file_extension": ".py",
   "mimetype": "text/x-python",
   "name": "python",
   "nbconvert_exporter": "python",
   "pygments_lexer": "ipython3",
   "version": "3.6.13"
  }
 },
 "nbformat": 4,
 "nbformat_minor": 5
}
