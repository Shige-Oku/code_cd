{
 "cells": [
  {
   "cell_type": "code",
   "execution_count": 5,
   "id": "194e1f13-63b1-40a8-ae2e-7959f5028180",
   "metadata": {},
   "outputs": [
    {
     "name": "stdin",
     "output_type": "stream",
     "text": [
      " xyz\n"
     ]
    }
   ],
   "source": [
    "S = input()"
   ]
  },
  {
   "cell_type": "code",
   "execution_count": 6,
   "id": "efe63766-5bf4-45fa-99e2-4b39b8c614f0",
   "metadata": {},
   "outputs": [
    {
     "name": "stdout",
     "output_type": "stream",
     "text": [
      "6\n"
     ]
    }
   ],
   "source": [
    "ans = set()\n",
    "ans.add(S[0]+S[1]+S[2])\n",
    "ans.add(S[0]+S[2]+S[1])\n",
    "ans.add(S[1]+S[0]+S[2])\n",
    "ans.add(S[1]+S[2]+S[0])\n",
    "ans.add(S[2]+S[0]+S[1])\n",
    "ans.add(S[2]+S[1]+S[0])\n",
    "print(len(ans))"
   ]
  },
  {
   "cell_type": "code",
   "execution_count": 7,
   "id": "c3dd1157-6c44-42b6-bc26-6bd30fb2fafd",
   "metadata": {},
   "outputs": [],
   "source": [
    "import itertools"
   ]
  },
  {
   "cell_type": "code",
   "execution_count": 8,
   "id": "d59caa53-e18b-49a9-adb3-8e6bca5c152b",
   "metadata": {},
   "outputs": [
    {
     "name": "stdout",
     "output_type": "stream",
     "text": [
      "6\n"
     ]
    }
   ],
   "source": [
    "print(len(set(itertools.permutations(S))))"
   ]
  },
  {
   "cell_type": "code",
   "execution_count": 9,
   "id": "7313f0d3-882f-4343-9bfd-da8907c5f0b7",
   "metadata": {},
   "outputs": [
    {
     "name": "stdout",
     "output_type": "stream",
     "text": [
      "('x', 'y', 'z')\n",
      "('x', 'z', 'y')\n",
      "('y', 'x', 'z')\n",
      "('y', 'z', 'x')\n",
      "('z', 'x', 'y')\n",
      "('z', 'y', 'x')\n"
     ]
    }
   ],
   "source": [
    "for s in itertools.permutations(S):\n",
    "    print(s)"
   ]
  },
  {
   "cell_type": "code",
   "execution_count": null,
   "id": "7d6b24b0-d1bb-426d-b2b3-ffd8cf0b916b",
   "metadata": {},
   "outputs": [],
   "source": []
  }
 ],
 "metadata": {
  "kernelspec": {
   "display_name": "Python 3",
   "language": "python",
   "name": "python3"
  },
  "language_info": {
   "codemirror_mode": {
    "name": "ipython",
    "version": 3
   },
   "file_extension": ".py",
   "mimetype": "text/x-python",
   "name": "python",
   "nbconvert_exporter": "python",
   "pygments_lexer": "ipython3",
   "version": "3.6.13"
  }
 },
 "nbformat": 4,
 "nbformat_minor": 5
}
