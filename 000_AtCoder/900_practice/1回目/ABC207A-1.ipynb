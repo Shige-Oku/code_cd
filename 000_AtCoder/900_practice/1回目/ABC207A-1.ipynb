{
 "cells": [
  {
   "cell_type": "code",
   "execution_count": 7,
   "id": "d67d8476-30ba-4552-b744-222e52b6d525",
   "metadata": {},
   "outputs": [
    {
     "name": "stdin",
     "output_type": "stream",
     "text": [
      " 99 99 98\n"
     ]
    }
   ],
   "source": [
    "A, B, C = map(int, input().split())"
   ]
  },
  {
   "cell_type": "code",
   "execution_count": 8,
   "id": "f60767ee-e85b-4446-96ed-3f92846f6c01",
   "metadata": {},
   "outputs": [
    {
     "name": "stdout",
     "output_type": "stream",
     "text": [
      "198\n"
     ]
    }
   ],
   "source": [
    "print(sum((A, B, C))-min(A, B, C))"
   ]
  },
  {
   "cell_type": "code",
   "execution_count": 9,
   "id": "1d7298c7-5728-4523-b4b2-a560b5242e65",
   "metadata": {},
   "outputs": [
    {
     "name": "stdout",
     "output_type": "stream",
     "text": [
      "198\n"
     ]
    }
   ],
   "source": [
    "print(max(A+B, A+C, B+C))"
   ]
  },
  {
   "cell_type": "code",
   "execution_count": 12,
   "id": "36299b14-a9b3-4cf6-bf49-45fe5d5a9795",
   "metadata": {},
   "outputs": [
    {
     "name": "stdout",
     "output_type": "stream",
     "text": [
      "198\n"
     ]
    }
   ],
   "source": [
    "An_s = sorted((A, B, C))\n",
    "print(sum(An_s[1:]))"
   ]
  },
  {
   "cell_type": "code",
   "execution_count": null,
   "id": "1f7d6745-ec27-4eed-b79d-c346295049e2",
   "metadata": {},
   "outputs": [],
   "source": []
  }
 ],
 "metadata": {
  "kernelspec": {
   "display_name": "Python 3",
   "language": "python",
   "name": "python3"
  },
  "language_info": {
   "codemirror_mode": {
    "name": "ipython",
    "version": 3
   },
   "file_extension": ".py",
   "mimetype": "text/x-python",
   "name": "python",
   "nbconvert_exporter": "python",
   "pygments_lexer": "ipython3",
   "version": "3.6.13"
  }
 },
 "nbformat": 4,
 "nbformat_minor": 5
}
