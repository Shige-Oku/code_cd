{
 "cells": [
  {
   "cell_type": "code",
   "execution_count": 2,
   "id": "b08e24f5-a327-44b2-b4c3-e76685a77e62",
   "metadata": {},
   "outputs": [
    {
     "name": "stdin",
     "output_type": "stream",
     "text": [
      " 4\n"
     ]
    }
   ],
   "source": [
    "N = int(input())"
   ]
  },
  {
   "cell_type": "code",
   "execution_count": 3,
   "id": "e6bda91e-e9e5-4ddf-b917-cd6f4fee64fb",
   "metadata": {},
   "outputs": [
    {
     "name": "stdin",
     "output_type": "stream",
     "text": [
      " 0 1\n",
      " 1 3\n",
      " 1 1\n",
      " -1 -1\n"
     ]
    }
   ],
   "source": [
    "XYn = [list(map(int, input().split())) for _ in range(N)]"
   ]
  },
  {
   "cell_type": "code",
   "execution_count": 26,
   "id": "c590eea4-2f48-4f9b-be64-21375dbcddff",
   "metadata": {},
   "outputs": [],
   "source": [
    "ans = 0\n",
    "for i in range(N-2):\n",
    "    x1, y1 = XYn[i]\n",
    "    for j in range(i+1, N-1):\n",
    "        x2, y2 = XYn[j]\n",
    "        for k in range(j+1, N):\n",
    "            x3, y3 = XYn[k]\n",
    "            if (y2-y1) * (x3-x1) != (x2-x1) * (y3-y1):\n",
    "                ans += 1"
   ]
  },
  {
   "cell_type": "code",
   "execution_count": 27,
   "id": "e69e4405-dc2e-496d-94d9-79185b4d0f76",
   "metadata": {},
   "outputs": [
    {
     "name": "stdout",
     "output_type": "stream",
     "text": [
      "3\n"
     ]
    }
   ],
   "source": [
    "print(ans)"
   ]
  },
  {
   "cell_type": "code",
   "execution_count": null,
   "id": "61bfbd4a-3d5a-457b-94de-b8bbfb5703f9",
   "metadata": {},
   "outputs": [],
   "source": [
    "# サンプルが合わない"
   ]
  },
  {
   "cell_type": "code",
   "execution_count": 18,
   "id": "f9d56eca-f2fd-448b-9f76-e31c50bead7f",
   "metadata": {},
   "outputs": [
    {
     "name": "stdout",
     "output_type": "stream",
     "text": [
      "[1, 4, 5]\n",
      "1 2 3\n",
      "[5, 5, 20]\n",
      "[1, 5, 8]\n",
      "1 3 4\n",
      "[4, 8, 20]\n",
      "2 3 4\n"
     ]
    }
   ],
   "source": [
    "ans = 0\n",
    "for i in range(N-2):\n",
    "    x1, y1 = XYn[i]\n",
    "    for j in range(i+1, N-1):\n",
    "        x2, y2 = XYn[j]\n",
    "        for k in range(j+1, N):\n",
    "            x3, y3 = XYn[k]\n",
    "            d12 = (x1-x2)**2 + (y1-y2)**2\n",
    "            d13 = (x1-x3)**2 + (y1-y3)**2\n",
    "            d23 = (x2-x3)**2 + (y2-y3)**2\n",
    "            d = sorted([d12, d13, d23])\n",
    "            if d[2]**0.5 < d[0]**0.5 + d[1]**0.5:\n",
    "                ans += 1"
   ]
  },
  {
   "cell_type": "code",
   "execution_count": 19,
   "id": "6a29fed7-55f3-41a5-a6e2-d00b9ec7b90e",
   "metadata": {},
   "outputs": [
    {
     "name": "stdout",
     "output_type": "stream",
     "text": [
      "3\n"
     ]
    }
   ],
   "source": [
    "print(ans)"
   ]
  },
  {
   "cell_type": "code",
   "execution_count": null,
   "id": "37d89650-00f5-4681-b30a-3600e359e22d",
   "metadata": {},
   "outputs": [],
   "source": []
  }
 ],
 "metadata": {
  "kernelspec": {
   "display_name": "Python 3",
   "language": "python",
   "name": "python3"
  },
  "language_info": {
   "codemirror_mode": {
    "name": "ipython",
    "version": 3
   },
   "file_extension": ".py",
   "mimetype": "text/x-python",
   "name": "python",
   "nbconvert_exporter": "python",
   "pygments_lexer": "ipython3",
   "version": "3.6.13"
  }
 },
 "nbformat": 4,
 "nbformat_minor": 5
}
