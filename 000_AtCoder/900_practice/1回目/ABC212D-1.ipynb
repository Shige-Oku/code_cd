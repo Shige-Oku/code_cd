{
 "cells": [
  {
   "cell_type": "code",
   "execution_count": 1,
   "id": "25e151dd-52df-4d8d-983f-09d76552804e",
   "metadata": {},
   "outputs": [
    {
     "name": "stdin",
     "output_type": "stream",
     "text": [
      " 5\n"
     ]
    }
   ],
   "source": [
    "Q = int(input())"
   ]
  },
  {
   "cell_type": "code",
   "execution_count": 2,
   "id": "abf3d4ef-2c1e-4047-b20e-a86f3a2bf29b",
   "metadata": {},
   "outputs": [
    {
     "name": "stdin",
     "output_type": "stream",
     "text": [
      " 1 3\n",
      " 1 5\n",
      " 3 \n",
      " 2 2\n",
      " 3\n"
     ]
    }
   ],
   "source": [
    "Qn = [list(map(int, input().split())) for _ in range(Q)]"
   ]
  },
  {
   "cell_type": "code",
   "execution_count": 6,
   "id": "738b1415-2c21-4ff5-8d6d-5d6e5b73ee12",
   "metadata": {},
   "outputs": [
    {
     "name": "stdout",
     "output_type": "stream",
     "text": [
      "3\n",
      "7\n"
     ]
    }
   ],
   "source": [
    "import heapq\n",
    "q = []\n",
    "sub = 0\n",
    "for i in range(Q):\n",
    "    if Qn[i][0] == 1:\n",
    "        heapq.heappush(q, Qn[i][1] - sub)\n",
    "    elif Qn[i][0] == 2:\n",
    "        sub += Qn[i][1]\n",
    "    else:\n",
    "        print(heapq.heappop(q) + sub)"
   ]
  },
  {
   "cell_type": "code",
   "execution_count": null,
   "id": "1d1025ad-6f94-4e47-993a-c5216b7c863f",
   "metadata": {},
   "outputs": [],
   "source": []
  }
 ],
 "metadata": {
  "kernelspec": {
   "display_name": "Python 3",
   "language": "python",
   "name": "python3"
  },
  "language_info": {
   "codemirror_mode": {
    "name": "ipython",
    "version": 3
   },
   "file_extension": ".py",
   "mimetype": "text/x-python",
   "name": "python",
   "nbconvert_exporter": "python",
   "pygments_lexer": "ipython3",
   "version": "3.6.13"
  }
 },
 "nbformat": 4,
 "nbformat_minor": 5
}
