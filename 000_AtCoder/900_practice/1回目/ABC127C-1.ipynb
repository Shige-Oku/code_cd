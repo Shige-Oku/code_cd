{
 "cells": [
  {
   "cell_type": "code",
   "execution_count": 21,
   "id": "cd876b8b-2a63-4c33-864e-c8d34fa2bc5f",
   "metadata": {},
   "outputs": [
    {
     "name": "stdin",
     "output_type": "stream",
     "text": [
      " 10 3\n"
     ]
    }
   ],
   "source": [
    "N, M = map(int, input().split())"
   ]
  },
  {
   "cell_type": "code",
   "execution_count": 22,
   "id": "49062735-50fa-4ec3-90a1-0fc07f575526",
   "metadata": {},
   "outputs": [
    {
     "name": "stdin",
     "output_type": "stream",
     "text": [
      " 3 6\n",
      " 5 7\n",
      " 6 9\n"
     ]
    }
   ],
   "source": [
    "LRn = [list(map(int, input().split())) for _ in range(M)]"
   ]
  },
  {
   "cell_type": "code",
   "execution_count": 23,
   "id": "0e0fe9b3-eb49-4937-b123-c93fdc4fc25e",
   "metadata": {},
   "outputs": [],
   "source": [
    "mi, ma, = -1, 10**10\n",
    "for L, R in LRn:\n",
    "    mi = max(mi, L)\n",
    "    ma = min(ma, R)\n"
   ]
  },
  {
   "cell_type": "code",
   "execution_count": 26,
   "id": "bd849482-135c-4176-afca-238edafef401",
   "metadata": {},
   "outputs": [
    {
     "name": "stdout",
     "output_type": "stream",
     "text": [
      "1\n"
     ]
    }
   ],
   "source": [
    "if mi <= ma:\n",
    "    print(ma-mi+1)\n",
    "else:\n",
    "    print('0')"
   ]
  },
  {
   "cell_type": "code",
   "execution_count": 17,
   "id": "b2390ac6-d7a5-46c6-95b8-b4a1066bf3fe",
   "metadata": {},
   "outputs": [],
   "source": [
    "ans = 0\n",
    "for i in range(1, N+1):\n",
    "    if mi <= i <= ma:\n",
    "        ans += 1\n"
   ]
  },
  {
   "cell_type": "code",
   "execution_count": 18,
   "id": "19366ae3-8eb7-4544-b518-68de529f3e86",
   "metadata": {},
   "outputs": [
    {
     "name": "stdout",
     "output_type": "stream",
     "text": [
      "2\n"
     ]
    }
   ],
   "source": [
    "print(ans)"
   ]
  },
  {
   "cell_type": "code",
   "execution_count": 25,
   "id": "df17fa9d-745a-49ad-8f44-9e5a07eb1f9a",
   "metadata": {},
   "outputs": [
    {
     "data": {
      "text/plain": [
       "(6, 6)"
      ]
     },
     "execution_count": 25,
     "metadata": {},
     "output_type": "execute_result"
    }
   ],
   "source": [
    "mi, ma"
   ]
  },
  {
   "cell_type": "code",
   "execution_count": 29,
   "id": "114cb1b6-b662-4f24-975d-a3d4ef961357",
   "metadata": {},
   "outputs": [
    {
     "data": {
      "text/plain": [
       "(6, 5)"
      ]
     },
     "execution_count": 29,
     "metadata": {},
     "output_type": "execute_result"
    }
   ],
   "source": [
    "max(LRn[:][0]), min(LRn[:][1])"
   ]
  },
  {
   "cell_type": "code",
   "execution_count": null,
   "id": "2770ae49-8c99-4896-9ac9-7c3d3819e7e7",
   "metadata": {},
   "outputs": [],
   "source": []
  }
 ],
 "metadata": {
  "kernelspec": {
   "display_name": "Python 3",
   "language": "python",
   "name": "python3"
  },
  "language_info": {
   "codemirror_mode": {
    "name": "ipython",
    "version": 3
   },
   "file_extension": ".py",
   "mimetype": "text/x-python",
   "name": "python",
   "nbconvert_exporter": "python",
   "pygments_lexer": "ipython3",
   "version": "3.6.13"
  }
 },
 "nbformat": 4,
 "nbformat_minor": 5
}
