{
 "cells": [
  {
   "cell_type": "code",
   "execution_count": 46,
   "id": "79d76a83-0807-4c83-bdce-f10e2c5e71ff",
   "metadata": {},
   "outputs": [
    {
     "name": "stdin",
     "output_type": "stream",
     "text": [
      " 1 7\n"
     ]
    }
   ],
   "source": [
    "N, M = map(int, input().split())"
   ]
  },
  {
   "cell_type": "code",
   "execution_count": 47,
   "id": "6ca591c8-7370-4e8d-a46d-545264c9c2aa",
   "metadata": {},
   "outputs": [
    {
     "name": "stdin",
     "output_type": "stream",
     "text": [
      " 999929995 999929996 999929997 999929998 999929999 999930000 999930001\n"
     ]
    }
   ],
   "source": [
    "Bn = [list(map(int, input().split())) for _ in range(N)]"
   ]
  },
  {
   "cell_type": "code",
   "execution_count": 53,
   "id": "a6fcbcfa-996c-469e-a2dd-aa2f30904452",
   "metadata": {},
   "outputs": [],
   "source": [
    "def check():\n",
    "    s = Bn[0][0]\n",
    "    for h in range(N):\n",
    "        for w in range(M):\n",
    "            if s + 7*h + w != Bn[h][w]:\n",
    "                return False\n",
    "            if w == 0:\n",
    "                continue\n",
    "            if Bn[h][w] % 7 == 1:\n",
    "                return False\n",
    "    return True"
   ]
  },
  {
   "cell_type": "code",
   "execution_count": 52,
   "id": "2fbfcd58-63f9-44c9-b156-e97ef4e59359",
   "metadata": {},
   "outputs": [
    {
     "name": "stdout",
     "output_type": "stream",
     "text": [
      "Yes\n"
     ]
    }
   ],
   "source": [
    "print('Yes' if check() else 'No')"
   ]
  },
  {
   "cell_type": "code",
   "execution_count": 10,
   "id": "6fbf4535-27da-41f7-9517-12f1748debcd",
   "metadata": {},
   "outputs": [
    {
     "data": {
      "text/plain": [
       "(1, 2)"
      ]
     },
     "execution_count": 10,
     "metadata": {},
     "output_type": "execute_result"
    }
   ],
   "source": [
    "sh, sw"
   ]
  },
  {
   "cell_type": "code",
   "execution_count": 18,
   "id": "251ea46e-ea2f-42e8-8331-0c68fdecdfc4",
   "metadata": {},
   "outputs": [],
   "source": [
    "flg = False\n",
    "for sh in range(N):\n",
    "    s = Bn[sh][0]\n",
    "    for sw in range(M):\n",
    "        if check(sh, sw):\n",
    "            flg = True\n",
    "    "
   ]
  },
  {
   "cell_type": "code",
   "execution_count": 50,
   "id": "6375cb1b-cbd2-4883-95ad-2b67de755e4d",
   "metadata": {},
   "outputs": [
    {
     "data": {
      "text/plain": [
       "0"
      ]
     },
     "execution_count": 50,
     "metadata": {},
     "output_type": "execute_result"
    }
   ],
   "source": [
    "999930001%7"
   ]
  },
  {
   "cell_type": "code",
   "execution_count": null,
   "id": "1bc71a62-f86d-46c4-b8bb-7b7ceaddd1b9",
   "metadata": {},
   "outputs": [],
   "source": []
  }
 ],
 "metadata": {
  "kernelspec": {
   "display_name": "Python 3",
   "language": "python",
   "name": "python3"
  },
  "language_info": {
   "codemirror_mode": {
    "name": "ipython",
    "version": 3
   },
   "file_extension": ".py",
   "mimetype": "text/x-python",
   "name": "python",
   "nbconvert_exporter": "python",
   "pygments_lexer": "ipython3",
   "version": "3.6.13"
  }
 },
 "nbformat": 4,
 "nbformat_minor": 5
}
