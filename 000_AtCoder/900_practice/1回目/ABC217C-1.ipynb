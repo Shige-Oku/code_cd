{
 "cells": [
  {
   "cell_type": "code",
   "execution_count": 11,
   "id": "bd5121a0-0834-438f-9ed9-c79ec1343f46",
   "metadata": {},
   "outputs": [
    {
     "name": "stdin",
     "output_type": "stream",
     "text": [
      " 5\n"
     ]
    }
   ],
   "source": [
    "N = int(input())"
   ]
  },
  {
   "cell_type": "code",
   "execution_count": 12,
   "id": "54640e16-1643-4922-919c-d6f605a501e0",
   "metadata": {},
   "outputs": [
    {
     "name": "stdin",
     "output_type": "stream",
     "text": [
      " 5 3 2 4 1\n"
     ]
    }
   ],
   "source": [
    "Pn = list(map(int, input().split()))"
   ]
  },
  {
   "cell_type": "code",
   "execution_count": 13,
   "id": "ec8840ff-abcb-42ce-9d4c-73254846c2b3",
   "metadata": {},
   "outputs": [],
   "source": [
    "Qn = [0] * (N+1)\n",
    "for i, P in enumerate(Pn, 1):\n",
    "    Qn[P] = i"
   ]
  },
  {
   "cell_type": "code",
   "execution_count": 14,
   "id": "9a18264e-57d1-4bea-a2da-f05fcee96bca",
   "metadata": {},
   "outputs": [
    {
     "name": "stdout",
     "output_type": "stream",
     "text": [
      "5\n",
      "3\n",
      "2\n",
      "4\n",
      "1\n"
     ]
    }
   ],
   "source": [
    "print(*Qn[1:], sep='\\n')"
   ]
  },
  {
   "cell_type": "code",
   "execution_count": 15,
   "id": "5bc5ff84-bef3-4d6b-91ae-18a160e93ecd",
   "metadata": {},
   "outputs": [],
   "source": [
    "import numpy as np"
   ]
  },
  {
   "cell_type": "code",
   "execution_count": 22,
   "id": "e0d27cfe-b12a-49f8-84f6-7b468cb5ff3e",
   "metadata": {},
   "outputs": [],
   "source": [
    "n = [i for i in range(1, N+1)]\n",
    "ans = np.zeros(N+1, dtype='int32')\n",
    "ans[Pn] = n"
   ]
  },
  {
   "cell_type": "code",
   "execution_count": 23,
   "id": "b16d495e-72a8-4216-9535-e95097f46c96",
   "metadata": {},
   "outputs": [
    {
     "name": "stdout",
     "output_type": "stream",
     "text": [
      "5\n",
      "3\n",
      "2\n",
      "4\n",
      "1\n"
     ]
    }
   ],
   "source": [
    "print(*ans[1:], sep='\\n')"
   ]
  },
  {
   "cell_type": "code",
   "execution_count": null,
   "id": "7ede9a1b-8ca2-4ebd-92e3-adfb310e0755",
   "metadata": {},
   "outputs": [],
   "source": []
  }
 ],
 "metadata": {
  "kernelspec": {
   "display_name": "Python 3",
   "language": "python",
   "name": "python3"
  },
  "language_info": {
   "codemirror_mode": {
    "name": "ipython",
    "version": 3
   },
   "file_extension": ".py",
   "mimetype": "text/x-python",
   "name": "python",
   "nbconvert_exporter": "python",
   "pygments_lexer": "ipython3",
   "version": "3.6.13"
  }
 },
 "nbformat": 4,
 "nbformat_minor": 5
}
