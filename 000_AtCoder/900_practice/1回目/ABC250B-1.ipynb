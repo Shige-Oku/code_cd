{
 "cells": [
  {
   "cell_type": "code",
   "execution_count": 12,
   "id": "c2500188-2c08-4601-8109-51b55eb90822",
   "metadata": {},
   "outputs": [
    {
     "name": "stdin",
     "output_type": "stream",
     "text": [
      " 1 4 4\n"
     ]
    }
   ],
   "source": [
    "N, A, B = map(int, input().split())"
   ]
  },
  {
   "cell_type": "code",
   "execution_count": 13,
   "id": "be28b0d4-64f2-4166-bc23-4ec802676081",
   "metadata": {},
   "outputs": [],
   "source": [
    "s1, s2 = '', ''\n",
    "for i in range(N):\n",
    "    if i % 2 == 0:\n",
    "        s1 += '.' * B\n",
    "        s2 += '#' * B\n",
    "    else:\n",
    "        s1 += '#' * B\n",
    "        s2 += '.' * B\n",
    "        "
   ]
  },
  {
   "cell_type": "code",
   "execution_count": 14,
   "id": "747d1e05-e759-461f-b304-49040d923c02",
   "metadata": {},
   "outputs": [
    {
     "name": "stdout",
     "output_type": "stream",
     "text": [
      "....\n",
      "....\n",
      "....\n",
      "....\n"
     ]
    }
   ],
   "source": [
    "for i in range(N):\n",
    "    if i % 2 == 0:\n",
    "        for _ in range(A):\n",
    "            print(s1)\n",
    "    else:\n",
    "        for _ in range(A):\n",
    "            print(s2)\n",
    "        "
   ]
  },
  {
   "cell_type": "code",
   "execution_count": 3,
   "id": "0f10b80b-cd22-4c06-ba01-8ad3f35e0d45",
   "metadata": {},
   "outputs": [
    {
     "data": {
      "text/plain": [
       "('..##..##', '##..##..')"
      ]
     },
     "execution_count": 3,
     "metadata": {},
     "output_type": "execute_result"
    }
   ],
   "source": [
    "s1, s2"
   ]
  },
  {
   "cell_type": "code",
   "execution_count": null,
   "id": "698b3139-8974-4827-a34e-c7d608e9d106",
   "metadata": {},
   "outputs": [],
   "source": []
  }
 ],
 "metadata": {
  "kernelspec": {
   "display_name": "Python 3",
   "language": "python",
   "name": "python3"
  },
  "language_info": {
   "codemirror_mode": {
    "name": "ipython",
    "version": 3
   },
   "file_extension": ".py",
   "mimetype": "text/x-python",
   "name": "python",
   "nbconvert_exporter": "python",
   "pygments_lexer": "ipython3",
   "version": "3.6.13"
  }
 },
 "nbformat": 4,
 "nbformat_minor": 5
}
