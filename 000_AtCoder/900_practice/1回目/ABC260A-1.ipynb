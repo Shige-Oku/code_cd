{
 "cells": [
  {
   "cell_type": "code",
   "execution_count": 7,
   "id": "13451e3b-642e-4f30-bc3c-384b12d16e44",
   "metadata": {},
   "outputs": [
    {
     "name": "stdin",
     "output_type": "stream",
     "text": [
      " xxx\n"
     ]
    }
   ],
   "source": [
    "S = input()"
   ]
  },
  {
   "cell_type": "code",
   "execution_count": 8,
   "id": "43704d7a-6eef-415b-b781-e28f5d4c03ab",
   "metadata": {},
   "outputs": [
    {
     "name": "stdout",
     "output_type": "stream",
     "text": [
      "-1\n"
     ]
    }
   ],
   "source": [
    "from collections import Counter\n",
    "S_c = Counter(S)\n",
    "for k, v in S_c.items():\n",
    "    if v == 1:\n",
    "        print(k)\n",
    "        break\n",
    "else:\n",
    "    print(-1)"
   ]
  },
  {
   "cell_type": "code",
   "execution_count": 9,
   "id": "97ecbd15-ba79-4843-beb9-213225b2d540",
   "metadata": {},
   "outputs": [
    {
     "name": "stdout",
     "output_type": "stream",
     "text": [
      "-1\n"
     ]
    }
   ],
   "source": [
    "if S[0] == S[1] == S[2]:\n",
    "    print(-1)\n",
    "elif S[0] == S[1]:\n",
    "    print(S[2])\n",
    "elif S[0] == S[2]:\n",
    "    print(S[1])\n",
    "else:\n",
    "    print(S[0])"
   ]
  },
  {
   "cell_type": "code",
   "execution_count": null,
   "id": "5dfabc18-f2fa-497a-82e0-eb76feb1c017",
   "metadata": {},
   "outputs": [],
   "source": []
  }
 ],
 "metadata": {
  "kernelspec": {
   "display_name": "Python 3",
   "language": "python",
   "name": "python3"
  },
  "language_info": {
   "codemirror_mode": {
    "name": "ipython",
    "version": 3
   },
   "file_extension": ".py",
   "mimetype": "text/x-python",
   "name": "python",
   "nbconvert_exporter": "python",
   "pygments_lexer": "ipython3",
   "version": "3.6.13"
  }
 },
 "nbformat": 4,
 "nbformat_minor": 5
}
