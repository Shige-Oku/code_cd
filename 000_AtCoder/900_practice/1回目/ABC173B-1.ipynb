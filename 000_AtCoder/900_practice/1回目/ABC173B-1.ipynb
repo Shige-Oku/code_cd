{
 "cells": [
  {
   "cell_type": "code",
   "execution_count": 3,
   "id": "7ebb3820-6e20-4823-9c29-c16a6b211577",
   "metadata": {},
   "outputs": [],
   "source": [
    "import collections"
   ]
  },
  {
   "cell_type": "code",
   "execution_count": 1,
   "id": "8839d49a-b0c6-4bcd-84cc-54e41ab78e46",
   "metadata": {},
   "outputs": [
    {
     "name": "stdin",
     "output_type": "stream",
     "text": [
      " 6\n"
     ]
    }
   ],
   "source": [
    "N = int(input())"
   ]
  },
  {
   "cell_type": "code",
   "execution_count": 6,
   "id": "a1e91e35-6393-41c7-ab49-73a70e4f95ab",
   "metadata": {},
   "outputs": [
    {
     "name": "stdin",
     "output_type": "stream",
     "text": [
      " AC\n",
      " TLE\n",
      " AC\n",
      " AC\n",
      " WA\n",
      " TLE\n"
     ]
    }
   ],
   "source": [
    "Sn = [input() for _ in range(N)]"
   ]
  },
  {
   "cell_type": "code",
   "execution_count": 11,
   "id": "eb0c8c48-2034-45e3-a6f6-89000ebee729",
   "metadata": {},
   "outputs": [
    {
     "name": "stdout",
     "output_type": "stream",
     "text": [
      "AC x 3\n",
      "WA x 1\n",
      "TLE x 2\n",
      "RE x 0\n"
     ]
    }
   ],
   "source": [
    "Sn_c = collections.Counter(Sn)\n",
    "print('AC x', Sn_c['AC'])\n",
    "print('WA x', Sn_c['WA'])\n",
    "print('TLE x', Sn_c['TLE'])\n",
    "print('RE x', Sn_c['RE'])"
   ]
  },
  {
   "cell_type": "code",
   "execution_count": 8,
   "id": "b5c783b7-3fc6-4ef2-8ece-8e2997613a9c",
   "metadata": {},
   "outputs": [
    {
     "data": {
      "text/plain": [
       "(['AC', 'TLE', 'AC', 'AC', 'WA', 'TLE'], Counter({'AC': 3, 'TLE': 2, 'WA': 1}))"
      ]
     },
     "execution_count": 8,
     "metadata": {},
     "output_type": "execute_result"
    }
   ],
   "source": [
    "Sn, Sn_c"
   ]
  },
  {
   "cell_type": "code",
   "execution_count": 13,
   "id": "6ce687fc-3cb9-43d4-83c5-b5c75d595055",
   "metadata": {},
   "outputs": [],
   "source": [
    "ac, wa, tle, re = [0] * 4\n",
    "for s in Sn:\n",
    "    if s == 'AC':\n",
    "        ac += 1\n",
    "    elif s == 'WA':\n",
    "        wa += 1\n",
    "    elif s == 'TLE':\n",
    "        tle += 1\n",
    "    else:\n",
    "        re += 1    "
   ]
  },
  {
   "cell_type": "code",
   "execution_count": 14,
   "id": "096c84fd-0976-4149-a69e-0e250efff136",
   "metadata": {},
   "outputs": [
    {
     "name": "stdout",
     "output_type": "stream",
     "text": [
      "AC x 3\n",
      "WA x 1\n",
      "TLE x 2\n",
      "RE x 0\n"
     ]
    }
   ],
   "source": [
    "print('AC x', ac)\n",
    "print('WA x', wa)\n",
    "print('TLE x', tle)\n",
    "print('RE x', re)"
   ]
  },
  {
   "cell_type": "code",
   "execution_count": 15,
   "id": "2376f008-a14d-4cf7-81d4-7c42844cacb8",
   "metadata": {},
   "outputs": [
    {
     "name": "stdout",
     "output_type": "stream",
     "text": [
      "AC x 3\n",
      "WA x 1\n",
      "TLE x 2\n",
      "RE x 0\n"
     ]
    }
   ],
   "source": [
    "for s in ['AC', 'WA', 'TLE', 'RE']:\n",
    "    print(s, 'x', Sn.count(s))"
   ]
  },
  {
   "cell_type": "code",
   "execution_count": null,
   "id": "d1ea3e2f-1ca0-4ca6-96fe-54226e7d9f5c",
   "metadata": {},
   "outputs": [],
   "source": []
  }
 ],
 "metadata": {
  "kernelspec": {
   "display_name": "Python 3",
   "language": "python",
   "name": "python3"
  },
  "language_info": {
   "codemirror_mode": {
    "name": "ipython",
    "version": 3
   },
   "file_extension": ".py",
   "mimetype": "text/x-python",
   "name": "python",
   "nbconvert_exporter": "python",
   "pygments_lexer": "ipython3",
   "version": "3.6.13"
  }
 },
 "nbformat": 4,
 "nbformat_minor": 5
}
