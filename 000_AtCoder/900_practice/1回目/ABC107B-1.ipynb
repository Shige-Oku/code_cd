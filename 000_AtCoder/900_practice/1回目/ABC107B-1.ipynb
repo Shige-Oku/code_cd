{
 "cells": [
  {
   "cell_type": "code",
   "execution_count": 1,
   "id": "781f9ab4-4dbb-42ea-927d-3d663e4ffeef",
   "metadata": {},
   "outputs": [
    {
     "name": "stdin",
     "output_type": "stream",
     "text": [
      " 4 4\n"
     ]
    }
   ],
   "source": [
    "H, W = map(int, input().split())"
   ]
  },
  {
   "cell_type": "code",
   "execution_count": 2,
   "id": "f69f0098-af0d-4291-8541-45f76d445379",
   "metadata": {},
   "outputs": [
    {
     "name": "stdin",
     "output_type": "stream",
     "text": [
      " ##.#\n",
      " ....\n",
      " ##.#\n",
      " .#.#\n"
     ]
    }
   ],
   "source": [
    "An = [input() for _ in range(H)]"
   ]
  },
  {
   "cell_type": "code",
   "execution_count": 18,
   "id": "c2a14f92-c8ad-402f-8882-64e39a5dfc13",
   "metadata": {},
   "outputs": [],
   "source": [
    "del_l = []\n",
    "for h in range(H):\n",
    "    for w in range(W):\n",
    "        if An[h][w] =='#':\n",
    "            break\n",
    "    else:\n",
    "        del_l.append(h)"
   ]
  },
  {
   "cell_type": "code",
   "execution_count": 21,
   "id": "1858c9e2-3ea9-4373-9560-d9fcb8cc06cc",
   "metadata": {},
   "outputs": [],
   "source": [
    "del_c = []\n",
    "for w in range(W):\n",
    "    for h in range(H):\n",
    "        if An[h][w] =='#':\n",
    "            break\n",
    "    else:\n",
    "        del_c.append(w)"
   ]
  },
  {
   "cell_type": "code",
   "execution_count": 24,
   "id": "856ae4af-3351-4922-a302-31db54e28bb2",
   "metadata": {},
   "outputs": [
    {
     "name": "stdout",
     "output_type": "stream",
     "text": [
      "###\n",
      "###\n",
      ".##\n"
     ]
    }
   ],
   "source": [
    "for h in range(H):\n",
    "    if h in del_l:\n",
    "        continue\n",
    "    for w in range(W):\n",
    "        if w in del_c:\n",
    "            continue\n",
    "        print(An[h][w], end='')\n",
    "    print('')"
   ]
  },
  {
   "cell_type": "code",
   "execution_count": 22,
   "id": "7e707360-9616-45c1-991c-f585fc77be13",
   "metadata": {},
   "outputs": [
    {
     "data": {
      "text/plain": [
       "([1], [2])"
      ]
     },
     "execution_count": 22,
     "metadata": {},
     "output_type": "execute_result"
    }
   ],
   "source": [
    "del_l, del_c"
   ]
  },
  {
   "cell_type": "code",
   "execution_count": 9,
   "id": "7c81e5df-753e-4545-a509-775dbc6eaa4e",
   "metadata": {},
   "outputs": [],
   "source": [
    "ans1 = []\n",
    "for h in range(H):\n",
    "    for w in range(W):\n",
    "        if An[h][w] =='#':\n",
    "            ans1.append(An[h])\n",
    "            break"
   ]
  },
  {
   "cell_type": "code",
   "execution_count": 11,
   "id": "939467aa-cd2c-4f63-9463-2f678a02a6b8",
   "metadata": {},
   "outputs": [],
   "source": [
    "ans2 = [[] for _ in range(len(ans1))]\n",
    "for w in range(W):\n",
    "    l = []\n",
    "    for h in range(len(ans1)):\n",
    "        "
   ]
  },
  {
   "cell_type": "code",
   "execution_count": 12,
   "id": "22fa20cd-0d79-48d8-ae36-9424c0bf36b3",
   "metadata": {},
   "outputs": [
    {
     "data": {
      "text/plain": [
       "(['##.#', '##.#', '.#.#'], [[], [], []])"
      ]
     },
     "execution_count": 12,
     "metadata": {},
     "output_type": "execute_result"
    }
   ],
   "source": [
    "ans1, ans2"
   ]
  },
  {
   "cell_type": "code",
   "execution_count": null,
   "id": "6040296d-58d6-44e2-95c6-a82e2135962d",
   "metadata": {},
   "outputs": [],
   "source": [
    "ans"
   ]
  }
 ],
 "metadata": {
  "kernelspec": {
   "display_name": "Python 3",
   "language": "python",
   "name": "python3"
  },
  "language_info": {
   "codemirror_mode": {
    "name": "ipython",
    "version": 3
   },
   "file_extension": ".py",
   "mimetype": "text/x-python",
   "name": "python",
   "nbconvert_exporter": "python",
   "pygments_lexer": "ipython3",
   "version": "3.6.13"
  }
 },
 "nbformat": 4,
 "nbformat_minor": 5
}
