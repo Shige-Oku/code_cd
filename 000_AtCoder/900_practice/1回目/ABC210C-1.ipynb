{
 "cells": [
  {
   "cell_type": "code",
   "execution_count": 32,
   "id": "20d2373c-6b24-4fc0-bc8d-b2fe81083ce9",
   "metadata": {},
   "outputs": [
    {
     "name": "stdin",
     "output_type": "stream",
     "text": [
      " 10 6\n"
     ]
    }
   ],
   "source": [
    "N, K = map(int, input().split())"
   ]
  },
  {
   "cell_type": "code",
   "execution_count": 33,
   "id": "95307962-205d-40e9-96c1-1f8802100f92",
   "metadata": {},
   "outputs": [
    {
     "name": "stdin",
     "output_type": "stream",
     "text": [
      " 304621362 506696497 304621362 506696497 834022578 304621362 414720753 304621362 304621362 414720753\n"
     ]
    }
   ],
   "source": [
    "Cn = list(map(int, input().split()))"
   ]
  },
  {
   "cell_type": "code",
   "execution_count": 34,
   "id": "3de4994e-1467-4596-b4b2-5a6bd37c9ede",
   "metadata": {},
   "outputs": [],
   "source": [
    "di = {}\n",
    "for i in range(K):\n",
    "    if Cn[i] in di:\n",
    "        di[Cn[i]] +=1\n",
    "    else:\n",
    "        di[Cn[i]] = 1\n",
    "ans = len(di)\n",
    "\n",
    "for i in range(1, N-K+1):\n",
    "    di[Cn[i-1]] -= 1\n",
    "    if di[Cn[i-1]] <= 0:\n",
    "        del di[Cn[i-1]]\n",
    "    n = i + K -1\n",
    "    if Cn[n] in di:\n",
    "        di[Cn[n]] += 1\n",
    "    else:\n",
    "        di[Cn[n]] = 1\n",
    "    ans = max(ans, len(di))\n"
   ]
  },
  {
   "cell_type": "code",
   "execution_count": 35,
   "id": "1411d1bb-5d0e-474e-beb0-45a33e303ae7",
   "metadata": {},
   "outputs": [
    {
     "name": "stdout",
     "output_type": "stream",
     "text": [
      "4\n"
     ]
    }
   ],
   "source": [
    "print(ans)"
   ]
  },
  {
   "cell_type": "code",
   "execution_count": 39,
   "id": "5e4561fd-4f3f-498d-a7cd-3147b8c6fc6f",
   "metadata": {},
   "outputs": [],
   "source": [
    "di = {}\n",
    "for i in range(K):\n",
    "    if Cn[i] in di:\n",
    "        di[Cn[i]] +=1\n",
    "    else:\n",
    "        di[Cn[i]] = 1\n",
    "ans = len(di)\n",
    "\n",
    "for i, C in enumerate(Cn[K:], K):\n",
    "    di[Cn[i-K]] -= 1\n",
    "    if di[Cn[i-K]] <= 0:\n",
    "        del di[Cn[i-K]]\n",
    "    if C in di:\n",
    "        di[C] += 1\n",
    "    else:\n",
    "        di[C] = 1\n",
    "    ans = max(ans, len(di))\n"
   ]
  },
  {
   "cell_type": "code",
   "execution_count": 40,
   "id": "bebe1dcf-146d-49f1-86e1-3952dd2304c3",
   "metadata": {},
   "outputs": [
    {
     "name": "stdout",
     "output_type": "stream",
     "text": [
      "4\n"
     ]
    }
   ],
   "source": [
    "print(ans)"
   ]
  },
  {
   "cell_type": "code",
   "execution_count": 21,
   "id": "e2c16869-42ca-49d4-b84b-dc20686b7a63",
   "metadata": {},
   "outputs": [
    {
     "data": {
      "text/plain": [
       "({1: 1, 2: 1}, 4, 2)"
      ]
     },
     "execution_count": 21,
     "metadata": {},
     "output_type": "execute_result"
    }
   ],
   "source": [
    "di, n, i"
   ]
  },
  {
   "cell_type": "code",
   "execution_count": 23,
   "id": "2435dc62-d986-4baf-b039-0d3c67328b5a",
   "metadata": {},
   "outputs": [
    {
     "data": {
      "text/plain": [
       "3"
      ]
     },
     "execution_count": 23,
     "metadata": {},
     "output_type": "execute_result"
    }
   ],
   "source": [
    "Cn[4]"
   ]
  },
  {
   "cell_type": "code",
   "execution_count": null,
   "id": "386c70e4-a224-4e4a-aac5-2c153e458c73",
   "metadata": {},
   "outputs": [],
   "source": []
  }
 ],
 "metadata": {
  "kernelspec": {
   "display_name": "Python 3",
   "language": "python",
   "name": "python3"
  },
  "language_info": {
   "codemirror_mode": {
    "name": "ipython",
    "version": 3
   },
   "file_extension": ".py",
   "mimetype": "text/x-python",
   "name": "python",
   "nbconvert_exporter": "python",
   "pygments_lexer": "ipython3",
   "version": "3.6.13"
  }
 },
 "nbformat": 4,
 "nbformat_minor": 5
}
