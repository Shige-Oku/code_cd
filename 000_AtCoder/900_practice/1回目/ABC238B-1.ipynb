{
 "cells": [
  {
   "cell_type": "code",
   "execution_count": 27,
   "id": "4d39ac68-2a41-45bf-9a35-a20c082c3ccc",
   "metadata": {},
   "outputs": [
    {
     "name": "stdin",
     "output_type": "stream",
     "text": [
      " 10\n"
     ]
    }
   ],
   "source": [
    "N = int(input())"
   ]
  },
  {
   "cell_type": "code",
   "execution_count": 28,
   "id": "00a9ce58-cefb-40dd-9670-f44d9583a122",
   "metadata": {},
   "outputs": [
    {
     "name": "stdin",
     "output_type": "stream",
     "text": [
      " 215 137 320 339 341 41 44 18 241 149\n"
     ]
    }
   ],
   "source": [
    "An = list(map(int, input().split()))"
   ]
  },
  {
   "cell_type": "code",
   "execution_count": 29,
   "id": "eae51f46-863c-428c-869d-ef548674c1ad",
   "metadata": {},
   "outputs": [],
   "source": [
    "cut = [0, ]\n",
    "for A in An:\n",
    "    cut.append((cut[-1]+A) % 360)\n",
    "else:\n",
    "    cut.append(360)"
   ]
  },
  {
   "cell_type": "code",
   "execution_count": 30,
   "id": "833ace31-7e17-44c6-973f-ad8db20416dc",
   "metadata": {},
   "outputs": [
    {
     "name": "stdout",
     "output_type": "stream",
     "text": [
      "170\n"
     ]
    }
   ],
   "source": [
    "ans = 0\n",
    "cut.sort()\n",
    "for i in range(1, len(cut)):\n",
    "    ans = max(ans, cut[i]-cut[i-1])\n",
    "print(ans) "
   ]
  },
  {
   "cell_type": "code",
   "execution_count": 22,
   "id": "47307723-b987-4011-98e3-a0e7de8a37d8",
   "metadata": {},
   "outputs": [
    {
     "data": {
      "text/plain": [
       "[0, 1, 360]"
      ]
     },
     "execution_count": 22,
     "metadata": {},
     "output_type": "execute_result"
    }
   ],
   "source": [
    "cut"
   ]
  },
  {
   "cell_type": "code",
   "execution_count": null,
   "id": "f3d517da-a41e-4691-84b9-9c60e7ccabf4",
   "metadata": {},
   "outputs": [],
   "source": []
  }
 ],
 "metadata": {
  "kernelspec": {
   "display_name": "Python 3",
   "language": "python",
   "name": "python3"
  },
  "language_info": {
   "codemirror_mode": {
    "name": "ipython",
    "version": 3
   },
   "file_extension": ".py",
   "mimetype": "text/x-python",
   "name": "python",
   "nbconvert_exporter": "python",
   "pygments_lexer": "ipython3",
   "version": "3.6.13"
  }
 },
 "nbformat": 4,
 "nbformat_minor": 5
}
