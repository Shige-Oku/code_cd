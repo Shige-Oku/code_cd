{
 "cells": [
  {
   "cell_type": "code",
   "execution_count": 11,
   "id": "0c14f6f1-68aa-4add-bd85-2a1db4256edc",
   "metadata": {},
   "outputs": [
    {
     "name": "stdin",
     "output_type": "stream",
     "text": [
      " 300 333 1\n"
     ]
    }
   ],
   "source": [
    "A, B, W = map(int, input().split())"
   ]
  },
  {
   "cell_type": "code",
   "execution_count": 12,
   "id": "0b4ce000-1d62-4fa3-942b-6f98fd104393",
   "metadata": {},
   "outputs": [],
   "source": [
    "ma = W*1000 // A\n",
    "mi = (W*1000+B-1) // B"
   ]
  },
  {
   "cell_type": "code",
   "execution_count": 14,
   "id": "8ea3d9bb-43be-472c-a148-09beb75d071a",
   "metadata": {},
   "outputs": [
    {
     "name": "stdout",
     "output_type": "stream",
     "text": [
      "UNSATISFIABLE\n"
     ]
    }
   ],
   "source": [
    "if mi > ma:\n",
    "    print('UNSATISFIABLE')\n",
    "else:\n",
    "    print(mi, ma)"
   ]
  },
  {
   "cell_type": "code",
   "execution_count": 13,
   "id": "ec8d1709-bf14-479f-9a72-777f25f00556",
   "metadata": {},
   "outputs": [
    {
     "data": {
      "text/plain": [
       "(3, 4)"
      ]
     },
     "execution_count": 13,
     "metadata": {},
     "output_type": "execute_result"
    }
   ],
   "source": [
    "ma, mi"
   ]
  },
  {
   "cell_type": "code",
   "execution_count": 17,
   "id": "14a2f9b8-fd98-496f-a8b9-e96c0d2ce8b5",
   "metadata": {},
   "outputs": [],
   "source": [
    "mi = 10**10\n",
    "ma = 0\n",
    "for i in range(1, W*1000+1):\n",
    "    if A*i <= W*1000 <= B*i:\n",
    "        mi = min(mi, i)\n",
    "        ma = max(ma, i)"
   ]
  },
  {
   "cell_type": "code",
   "execution_count": 18,
   "id": "652699fd-b07e-414e-8282-c32d89bc4069",
   "metadata": {},
   "outputs": [
    {
     "name": "stdout",
     "output_type": "stream",
     "text": [
      "UNSATISFIABLE\n"
     ]
    }
   ],
   "source": [
    "if ma == 0:\n",
    "    print('UNSATISFIABLE')\n",
    "else:\n",
    "    print(mi, ma)"
   ]
  },
  {
   "cell_type": "code",
   "execution_count": 19,
   "id": "07440666-44ff-47e0-a2d6-4b3770bc4661",
   "metadata": {},
   "outputs": [],
   "source": [
    "if (B-A) * ma >= W*1000%A:\n",
    "    flg = True\n",
    "elif (B-A) * mi >= B - W*1000%B:\n",
    "    flg = True\n",
    "else:\n",
    "    flg = False"
   ]
  },
  {
   "cell_type": "code",
   "execution_count": 20,
   "id": "02bcb102-3bc9-47a8-a870-1b89621f7834",
   "metadata": {},
   "outputs": [
    {
     "name": "stdout",
     "output_type": "stream",
     "text": [
      "UNSATISFIABLE\n"
     ]
    }
   ],
   "source": [
    "if flg:\n",
    "    print(mi, ma)\n",
    "else:\n",
    "    print('UNSATISFIABLE')"
   ]
  },
  {
   "cell_type": "code",
   "execution_count": null,
   "id": "f625448a-6638-47a5-b033-0c6d32700bdd",
   "metadata": {},
   "outputs": [],
   "source": []
  }
 ],
 "metadata": {
  "kernelspec": {
   "display_name": "Python 3",
   "language": "python",
   "name": "python3"
  },
  "language_info": {
   "codemirror_mode": {
    "name": "ipython",
    "version": 3
   },
   "file_extension": ".py",
   "mimetype": "text/x-python",
   "name": "python",
   "nbconvert_exporter": "python",
   "pygments_lexer": "ipython3",
   "version": "3.6.13"
  }
 },
 "nbformat": 4,
 "nbformat_minor": 5
}
