{
 "cells": [
  {
   "cell_type": "code",
   "execution_count": 5,
   "id": "9e996ae5-2a39-4976-8aeb-d8a3365b4fdd",
   "metadata": {},
   "outputs": [
    {
     "name": "stdin",
     "output_type": "stream",
     "text": [
      " 10\n"
     ]
    }
   ],
   "source": [
    "N = int(input())"
   ]
  },
  {
   "cell_type": "code",
   "execution_count": 6,
   "id": "d17f4a8c-8aa0-47c0-a8b9-a89f16e3cd17",
   "metadata": {},
   "outputs": [
    {
     "name": "stdin",
     "output_type": "stream",
     "text": [
      " 3 -1 -4 1 -5 9 2 -6 5 -3\n"
     ]
    }
   ],
   "source": [
    "Xn = list(map(int, input().split()))"
   ]
  },
  {
   "cell_type": "code",
   "execution_count": 7,
   "id": "c3ce38f5-83c2-4c73-9f37-65e9277f1f24",
   "metadata": {},
   "outputs": [],
   "source": [
    "md = [abs(X) for X in Xn]\n",
    "yd = [X**2 for X in Xn]\n",
    "sd = max(md)"
   ]
  },
  {
   "cell_type": "code",
   "execution_count": 8,
   "id": "0e74417e-2f91-4b83-b3da-2107a9d1b8d3",
   "metadata": {},
   "outputs": [
    {
     "name": "stdout",
     "output_type": "stream",
     "text": [
      "39\n",
      "14.38749456993816\n",
      "9\n"
     ]
    }
   ],
   "source": [
    "print(sum(md))\n",
    "print(sum(yd)**.5)\n",
    "print(sd)"
   ]
  },
  {
   "cell_type": "code",
   "execution_count": 10,
   "id": "6d8fe973-8cd7-442c-8977-f4a6c43b3e41",
   "metadata": {},
   "outputs": [
    {
     "name": "stdout",
     "output_type": "stream",
     "text": [
      "39\n",
      "14.38749456993816\n",
      "9\n"
     ]
    }
   ],
   "source": [
    "print(sum(md), sum(yd)**.5, sd, sep='\\n')"
   ]
  },
  {
   "cell_type": "code",
   "execution_count": null,
   "id": "f04cf47f-1e16-4db5-a594-272b118f8465",
   "metadata": {},
   "outputs": [],
   "source": []
  }
 ],
 "metadata": {
  "kernelspec": {
   "display_name": "Python 3",
   "language": "python",
   "name": "python3"
  },
  "language_info": {
   "codemirror_mode": {
    "name": "ipython",
    "version": 3
   },
   "file_extension": ".py",
   "mimetype": "text/x-python",
   "name": "python",
   "nbconvert_exporter": "python",
   "pygments_lexer": "ipython3",
   "version": "3.6.13"
  }
 },
 "nbformat": 4,
 "nbformat_minor": 5
}
