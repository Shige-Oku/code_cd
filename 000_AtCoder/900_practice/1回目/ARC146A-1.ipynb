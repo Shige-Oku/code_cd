{
 "cells": [
  {
   "cell_type": "code",
   "execution_count": 6,
   "id": "3c9d4105-ce22-482f-bfed-825540c5a5df",
   "metadata": {},
   "outputs": [
    {
     "name": "stdin",
     "output_type": "stream",
     "text": [
      " 8\n"
     ]
    }
   ],
   "source": [
    "N = int(input())"
   ]
  },
  {
   "cell_type": "code",
   "execution_count": 7,
   "id": "df1b2bec-bbfc-4d28-9acf-60810a58a924",
   "metadata": {},
   "outputs": [
    {
     "name": "stdin",
     "output_type": "stream",
     "text": [
      " 813 921 481 282 120 900 555 409\n"
     ]
    }
   ],
   "source": [
    "An = list(map(int, input().split()))"
   ]
  },
  {
   "cell_type": "code",
   "execution_count": 8,
   "id": "e69b658d-0e6e-40e7-9e9b-07ddeb110784",
   "metadata": {},
   "outputs": [],
   "source": [
    "An_s = sorted(An, reverse=True)\n",
    "ans = sorted([str(An_s[0]), str(An_s[1]), str(An_s[2])], reverse=True)"
   ]
  },
  {
   "cell_type": "code",
   "execution_count": 9,
   "id": "df8533d5-ea34-4503-89ba-6c2340e4598f",
   "metadata": {},
   "outputs": [
    {
     "name": "stdout",
     "output_type": "stream",
     "text": [
      "921900813\n"
     ]
    }
   ],
   "source": [
    "print(''.join(ans))"
   ]
  },
  {
   "cell_type": "code",
   "execution_count": null,
   "id": "95005d1d-6ff6-4f54-b865-dbd3b1703350",
   "metadata": {},
   "outputs": [],
   "source": []
  }
 ],
 "metadata": {
  "kernelspec": {
   "display_name": "Python 3",
   "language": "python",
   "name": "python3"
  },
  "language_info": {
   "codemirror_mode": {
    "name": "ipython",
    "version": 3
   },
   "file_extension": ".py",
   "mimetype": "text/x-python",
   "name": "python",
   "nbconvert_exporter": "python",
   "pygments_lexer": "ipython3",
   "version": "3.6.13"
  }
 },
 "nbformat": 4,
 "nbformat_minor": 5
}
