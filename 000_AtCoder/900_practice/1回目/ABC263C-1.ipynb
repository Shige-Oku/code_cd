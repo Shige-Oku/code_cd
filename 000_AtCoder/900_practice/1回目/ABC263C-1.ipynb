{
 "cells": [
  {
   "cell_type": "code",
   "execution_count": 8,
   "id": "6fcd75a9-d16b-4dc4-9201-7008118a1fbb",
   "metadata": {},
   "outputs": [
    {
     "name": "stdin",
     "output_type": "stream",
     "text": [
      " 3 5\n"
     ]
    }
   ],
   "source": [
    "N, M = map(int, input().split())"
   ]
  },
  {
   "cell_type": "code",
   "execution_count": 10,
   "id": "e2bc8581-29f1-4099-a77d-e83d13c10d85",
   "metadata": {},
   "outputs": [
    {
     "name": "stdout",
     "output_type": "stream",
     "text": [
      "1 2 3\n",
      "1 2 4\n",
      "1 2 5\n",
      "1 3 4\n",
      "1 3 5\n",
      "1 4 5\n",
      "2 3 4\n",
      "2 3 5\n",
      "2 4 5\n",
      "3 4 5\n"
     ]
    }
   ],
   "source": [
    "from itertools import combinations\n",
    "for p in combinations((range(1, M+1)), N):\n",
    "    print(*p)"
   ]
  },
  {
   "cell_type": "code",
   "execution_count": 15,
   "id": "0e07a092-a01b-4c7c-b5c3-459a86b8dba9",
   "metadata": {},
   "outputs": [],
   "source": [
    "import sys\n",
    "sys.setrecursionlimit(10**6)\n",
    "def DFS(n, l):\n",
    "    if n >= N:\n",
    "        print(*l)\n",
    "        return\n",
    "    if n == 0:\n",
    "        s = 0\n",
    "    else:\n",
    "        s = l[-1]\n",
    "    for i in range(s+1, M+1):\n",
    "        DFS(n+1, l + [i])\n",
    "    return"
   ]
  },
  {
   "cell_type": "code",
   "execution_count": 16,
   "id": "7af42bdf-788c-4fdc-b4cd-c6ace027da59",
   "metadata": {},
   "outputs": [
    {
     "name": "stdout",
     "output_type": "stream",
     "text": [
      "1 2 3\n",
      "1 2 4\n",
      "1 2 5\n",
      "1 3 4\n",
      "1 3 5\n",
      "1 4 5\n",
      "2 3 4\n",
      "2 3 5\n",
      "2 4 5\n",
      "3 4 5\n"
     ]
    }
   ],
   "source": [
    "DFS(0, [])"
   ]
  },
  {
   "cell_type": "code",
   "execution_count": null,
   "id": "1dfb6b04-3740-4d56-b641-d057dec037e3",
   "metadata": {},
   "outputs": [],
   "source": []
  }
 ],
 "metadata": {
  "kernelspec": {
   "display_name": "Python 3",
   "language": "python",
   "name": "python3"
  },
  "language_info": {
   "codemirror_mode": {
    "name": "ipython",
    "version": 3
   },
   "file_extension": ".py",
   "mimetype": "text/x-python",
   "name": "python",
   "nbconvert_exporter": "python",
   "pygments_lexer": "ipython3",
   "version": "3.6.13"
  }
 },
 "nbformat": 4,
 "nbformat_minor": 5
}
