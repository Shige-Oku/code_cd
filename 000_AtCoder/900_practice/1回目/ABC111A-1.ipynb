{
 "cells": [
  {
   "cell_type": "code",
   "execution_count": 5,
   "id": "46577991-7926-4134-be5f-a825b80fd4f1",
   "metadata": {},
   "outputs": [
    {
     "name": "stdin",
     "output_type": "stream",
     "text": [
      " 999\n"
     ]
    }
   ],
   "source": [
    "N = input()"
   ]
  },
  {
   "cell_type": "code",
   "execution_count": 6,
   "id": "28e3c870-d56d-4ace-8ddd-741516d21b37",
   "metadata": {},
   "outputs": [],
   "source": [
    "ans = ''\n",
    "for n in N:\n",
    "    if n == '1':\n",
    "        ans += '9'\n",
    "    else:\n",
    "        ans += '1'"
   ]
  },
  {
   "cell_type": "code",
   "execution_count": 7,
   "id": "9fc19921-53e0-4b38-baff-68878d967959",
   "metadata": {},
   "outputs": [
    {
     "name": "stdout",
     "output_type": "stream",
     "text": [
      "111\n"
     ]
    }
   ],
   "source": [
    "print(ans)"
   ]
  },
  {
   "cell_type": "code",
   "execution_count": 8,
   "id": "297a93e5-eb7a-4130-a3e0-edfb358bd654",
   "metadata": {},
   "outputs": [
    {
     "name": "stdout",
     "output_type": "stream",
     "text": [
      "111\n"
     ]
    }
   ],
   "source": [
    "print(111+999-int(N))"
   ]
  },
  {
   "cell_type": "code",
   "execution_count": null,
   "id": "7f43ccc9-b389-4462-80f3-b4cf4001cac9",
   "metadata": {},
   "outputs": [],
   "source": []
  }
 ],
 "metadata": {
  "kernelspec": {
   "display_name": "Python 3",
   "language": "python",
   "name": "python3"
  },
  "language_info": {
   "codemirror_mode": {
    "name": "ipython",
    "version": 3
   },
   "file_extension": ".py",
   "mimetype": "text/x-python",
   "name": "python",
   "nbconvert_exporter": "python",
   "pygments_lexer": "ipython3",
   "version": "3.6.13"
  }
 },
 "nbformat": 4,
 "nbformat_minor": 5
}
