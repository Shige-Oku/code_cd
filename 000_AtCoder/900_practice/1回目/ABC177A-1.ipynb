{
 "cells": [
  {
   "cell_type": "code",
   "execution_count": 5,
   "id": "9e562e0d-0f58-4565-9d61-be13e1cea018",
   "metadata": {},
   "outputs": [
    {
     "name": "stdin",
     "output_type": "stream",
     "text": [
      " 10000 1 1\n"
     ]
    }
   ],
   "source": [
    "D, T, S = map(int, input().split())"
   ]
  },
  {
   "cell_type": "code",
   "execution_count": 6,
   "id": "cc8ea279-e531-4853-8e74-d63e90e63127",
   "metadata": {},
   "outputs": [
    {
     "name": "stdout",
     "output_type": "stream",
     "text": [
      "No\n"
     ]
    }
   ],
   "source": [
    "print('Yes' if T*S >= D else 'No')"
   ]
  },
  {
   "cell_type": "code",
   "execution_count": null,
   "id": "020f4349-c47b-4ea3-98c6-027482c3b7c8",
   "metadata": {},
   "outputs": [],
   "source": []
  }
 ],
 "metadata": {
  "kernelspec": {
   "display_name": "Python 3",
   "language": "python",
   "name": "python3"
  },
  "language_info": {
   "codemirror_mode": {
    "name": "ipython",
    "version": 3
   },
   "file_extension": ".py",
   "mimetype": "text/x-python",
   "name": "python",
   "nbconvert_exporter": "python",
   "pygments_lexer": "ipython3",
   "version": "3.6.13"
  }
 },
 "nbformat": 4,
 "nbformat_minor": 5
}
