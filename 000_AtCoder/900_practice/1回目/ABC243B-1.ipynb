{
 "cells": [
  {
   "cell_type": "code",
   "execution_count": 12,
   "id": "a4bb53cf-235c-41b9-99f5-cd23cb0fe7d0",
   "metadata": {},
   "outputs": [
    {
     "name": "stdin",
     "output_type": "stream",
     "text": [
      " 7\n"
     ]
    }
   ],
   "source": [
    "N = int(input())"
   ]
  },
  {
   "cell_type": "code",
   "execution_count": 13,
   "id": "979a4f67-1355-4b35-b16c-fd13e14b064a",
   "metadata": {},
   "outputs": [
    {
     "name": "stdin",
     "output_type": "stream",
     "text": [
      " 4 8 1 7 9 5 6\n"
     ]
    }
   ],
   "source": [
    "An = list(map(int, input().split()))"
   ]
  },
  {
   "cell_type": "code",
   "execution_count": 14,
   "id": "813d6eb5-6e6f-431d-9910-b82c8a81422a",
   "metadata": {},
   "outputs": [
    {
     "name": "stdin",
     "output_type": "stream",
     "text": [
      " 3 5 1 7 8 2 6\n"
     ]
    }
   ],
   "source": [
    "Bn = list(map(int, input().split()))"
   ]
  },
  {
   "cell_type": "code",
   "execution_count": 15,
   "id": "5748b34b-e698-4191-a0de-335c687a7b1c",
   "metadata": {},
   "outputs": [],
   "source": [
    "Bn_s = set(Bn)\n",
    "ans1, ans2 = 0, 0\n",
    "for A, B in zip(An, Bn):\n",
    "    if A == B:\n",
    "        ans1 += 1\n",
    "        continue\n",
    "    if A in Bn_s:\n",
    "        ans2 += 1"
   ]
  },
  {
   "cell_type": "code",
   "execution_count": 16,
   "id": "f540b117-4909-42e0-af2c-b6e2f63374d1",
   "metadata": {},
   "outputs": [
    {
     "name": "stdout",
     "output_type": "stream",
     "text": [
      "3\n",
      "2\n"
     ]
    }
   ],
   "source": [
    "print(ans1)\n",
    "print(ans2)"
   ]
  },
  {
   "cell_type": "code",
   "execution_count": null,
   "id": "0e19cf0b-00b7-4351-b427-34d61e9aa320",
   "metadata": {},
   "outputs": [],
   "source": []
  }
 ],
 "metadata": {
  "kernelspec": {
   "display_name": "Python 3",
   "language": "python",
   "name": "python3"
  },
  "language_info": {
   "codemirror_mode": {
    "name": "ipython",
    "version": 3
   },
   "file_extension": ".py",
   "mimetype": "text/x-python",
   "name": "python",
   "nbconvert_exporter": "python",
   "pygments_lexer": "ipython3",
   "version": "3.6.13"
  }
 },
 "nbformat": 4,
 "nbformat_minor": 5
}
