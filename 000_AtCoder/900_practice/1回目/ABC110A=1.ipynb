{
 "cells": [
  {
   "cell_type": "code",
   "execution_count": 5,
   "id": "8e376367-c5cd-4068-965f-1384ff3203cc",
   "metadata": {},
   "outputs": [
    {
     "name": "stdin",
     "output_type": "stream",
     "text": [
      " 6 6 7\n"
     ]
    }
   ],
   "source": [
    "A, B, C = map(int, input().split())"
   ]
  },
  {
   "cell_type": "code",
   "execution_count": 6,
   "id": "c8471d32-2eb0-4ec8-8670-26a06b2f4f8e",
   "metadata": {},
   "outputs": [
    {
     "name": "stdout",
     "output_type": "stream",
     "text": [
      "82\n"
     ]
    }
   ],
   "source": [
    "m = sorted([A, B, C], reverse=True)\n",
    "print(m[0]*10+m[1]+m[2])"
   ]
  },
  {
   "cell_type": "code",
   "execution_count": 7,
   "id": "b2a55f35-4082-440e-8de5-0ea6db84c95d",
   "metadata": {},
   "outputs": [
    {
     "name": "stdout",
     "output_type": "stream",
     "text": [
      "82\n"
     ]
    }
   ],
   "source": [
    "print(max(A*10+B+C, A+B*10+C, A+B+C*10))"
   ]
  },
  {
   "cell_type": "code",
   "execution_count": null,
   "id": "48a40a57-db32-42aa-8612-72ca3871d0ad",
   "metadata": {},
   "outputs": [],
   "source": []
  }
 ],
 "metadata": {
  "kernelspec": {
   "display_name": "Python 3",
   "language": "python",
   "name": "python3"
  },
  "language_info": {
   "codemirror_mode": {
    "name": "ipython",
    "version": 3
   },
   "file_extension": ".py",
   "mimetype": "text/x-python",
   "name": "python",
   "nbconvert_exporter": "python",
   "pygments_lexer": "ipython3",
   "version": "3.6.13"
  }
 },
 "nbformat": 4,
 "nbformat_minor": 5
}
