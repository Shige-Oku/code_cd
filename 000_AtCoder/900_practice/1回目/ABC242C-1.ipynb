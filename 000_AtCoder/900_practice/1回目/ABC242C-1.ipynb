{
 "cells": [
  {
   "cell_type": "code",
   "execution_count": 16,
   "id": "53bbb14f-3eae-47a2-87ab-620ea68e3b8e",
   "metadata": {},
   "outputs": [
    {
     "name": "stdin",
     "output_type": "stream",
     "text": [
      " 1000000\n"
     ]
    }
   ],
   "source": [
    "N = int(input())"
   ]
  },
  {
   "cell_type": "code",
   "execution_count": 17,
   "id": "842acb2d-2b76-457b-88c3-88d91f48ed35",
   "metadata": {},
   "outputs": [],
   "source": [
    "ans = [[0] * 10 for _ in range(N)]\n",
    "for j in range(1, 10):\n",
    "    ans[0][j] = 1"
   ]
  },
  {
   "cell_type": "code",
   "execution_count": 18,
   "id": "4a3a25a8-771c-4a4a-b06b-3d5e1b47ca4f",
   "metadata": {},
   "outputs": [],
   "source": [
    "for i in range(1, N):\n",
    "    for j in range(1, 10):\n",
    "        ans[i][j] += ans[i-1][j]\n",
    "        if j > 1:\n",
    "            ans[i][j] += ans[i-1][j-1]\n",
    "        if j < 9:\n",
    "            ans[i][j] += ans[i-1][j+1]\n",
    "        ans[i][j] %= 998244353\n",
    "            "
   ]
  },
  {
   "cell_type": "code",
   "execution_count": 19,
   "id": "5729d384-5d0d-4fac-8a6f-e765bc5df9b6",
   "metadata": {},
   "outputs": [
    {
     "name": "stdout",
     "output_type": "stream",
     "text": [
      "248860093\n"
     ]
    }
   ],
   "source": [
    "print(sum(ans[-1])%998244353)"
   ]
  },
  {
   "cell_type": "code",
   "execution_count": 7,
   "id": "d6de0046-0790-4db5-b707-a5fde49f65f1",
   "metadata": {},
   "outputs": [
    {
     "data": {
      "text/plain": [
       "[[0, 1, 1, 1, 1, 1, 1, 1, 1, 1],\n",
       " [0, 2, 3, 3, 3, 3, 3, 3, 3, 2],\n",
       " [0, 5, 8, 9, 9, 9, 9, 9, 8, 5],\n",
       " [0, 13, 22, 26, 27, 27, 27, 26, 22, 13],\n",
       " [0, 35, 61, 75, 80, 81, 80, 75, 61, 35]]"
      ]
     },
     "execution_count": 7,
     "metadata": {},
     "output_type": "execute_result"
    }
   ],
   "source": [
    "ans"
   ]
  },
  {
   "cell_type": "code",
   "execution_count": null,
   "id": "eb25e1ec-ba2a-4eef-aca0-5b4a82ce6ac2",
   "metadata": {},
   "outputs": [],
   "source": []
  }
 ],
 "metadata": {
  "kernelspec": {
   "display_name": "Python 3",
   "language": "python",
   "name": "python3"
  },
  "language_info": {
   "codemirror_mode": {
    "name": "ipython",
    "version": 3
   },
   "file_extension": ".py",
   "mimetype": "text/x-python",
   "name": "python",
   "nbconvert_exporter": "python",
   "pygments_lexer": "ipython3",
   "version": "3.6.13"
  }
 },
 "nbformat": 4,
 "nbformat_minor": 5
}
