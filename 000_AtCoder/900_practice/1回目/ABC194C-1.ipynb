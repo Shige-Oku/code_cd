{
 "cells": [
  {
   "cell_type": "code",
   "execution_count": 4,
   "id": "6fb595dc-85b4-4304-9921-7b9f8e41b9d3",
   "metadata": {},
   "outputs": [],
   "source": [
    "import collections"
   ]
  },
  {
   "cell_type": "code",
   "execution_count": 11,
   "id": "e16cb1f0-fe64-4159-8e06-4f2786f2bef0",
   "metadata": {},
   "outputs": [
    {
     "name": "stdin",
     "output_type": "stream",
     "text": [
      " 5\n"
     ]
    }
   ],
   "source": [
    "N = int(input())"
   ]
  },
  {
   "cell_type": "code",
   "execution_count": 12,
   "id": "1629c3da-6329-46c2-8c2d-5e554c17a291",
   "metadata": {},
   "outputs": [
    {
     "name": "stdin",
     "output_type": "stream",
     "text": [
      " -5 8 9 -4 -3\n"
     ]
    }
   ],
   "source": [
    "An = list(map(int, input().split()))"
   ]
  },
  {
   "cell_type": "code",
   "execution_count": 15,
   "id": "64a9ebbe-b8af-43f2-8ecd-0245e9a3f05d",
   "metadata": {},
   "outputs": [],
   "source": [
    "An_c = collections.Counter(An)\n",
    "An_l = list(An_c.items())\n",
    "ans = 0\n",
    "for i in range(len(An_l)-1):\n",
    "    ki, vi = An_l[i]\n",
    "    for j in range(i+1, len(An_l)):\n",
    "        kj, vj = An_l[j]\n",
    "        ans += (ki-kj)**2 * vi * vj"
   ]
  },
  {
   "cell_type": "code",
   "execution_count": 16,
   "id": "48f28795-21dd-4504-823b-644c24d2a2af",
   "metadata": {},
   "outputs": [
    {
     "name": "stdout",
     "output_type": "stream",
     "text": [
      "950\n"
     ]
    }
   ],
   "source": [
    "print(ans)"
   ]
  },
  {
   "cell_type": "code",
   "execution_count": 7,
   "id": "41499356-668b-413b-a1f3-a2957d694c10",
   "metadata": {},
   "outputs": [
    {
     "data": {
      "text/plain": [
       "(Counter({2: 1, 8: 1, 4: 1}), [(2, 1), (8, 1), (4, 1)])"
      ]
     },
     "execution_count": 7,
     "metadata": {},
     "output_type": "execute_result"
    }
   ],
   "source": [
    "An_c, An_l"
   ]
  },
  {
   "cell_type": "code",
   "execution_count": null,
   "id": "9cd3356e-4ee5-43ef-bcd4-0dc18d276405",
   "metadata": {},
   "outputs": [],
   "source": []
  }
 ],
 "metadata": {
  "kernelspec": {
   "display_name": "Python 3",
   "language": "python",
   "name": "python3"
  },
  "language_info": {
   "codemirror_mode": {
    "name": "ipython",
    "version": 3
   },
   "file_extension": ".py",
   "mimetype": "text/x-python",
   "name": "python",
   "nbconvert_exporter": "python",
   "pygments_lexer": "ipython3",
   "version": "3.6.13"
  }
 },
 "nbformat": 4,
 "nbformat_minor": 5
}
