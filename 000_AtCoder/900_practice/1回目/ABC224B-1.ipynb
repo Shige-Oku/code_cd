{
 "cells": [
  {
   "cell_type": "code",
   "execution_count": 1,
   "id": "d54fb87f-a38d-46e1-ab96-6260a85100e5",
   "metadata": {},
   "outputs": [
    {
     "name": "stdin",
     "output_type": "stream",
     "text": [
      " 3 3\n"
     ]
    }
   ],
   "source": [
    "H, W = map(int, input().split())"
   ]
  },
  {
   "cell_type": "code",
   "execution_count": 2,
   "id": "b1485528-264c-49e3-9738-e8f5f17f91af",
   "metadata": {},
   "outputs": [
    {
     "name": "stdin",
     "output_type": "stream",
     "text": [
      " 2 1 4\n",
      " 3 1 3\n",
      " 6 4 1\n"
     ]
    }
   ],
   "source": [
    "An = [list(map(int, input().split())) for _ in range(H)]"
   ]
  },
  {
   "cell_type": "code",
   "execution_count": 8,
   "id": "b1cd541d-e3a1-40d2-9c2a-8a4ceaac7cbb",
   "metadata": {},
   "outputs": [],
   "source": [
    "flg = True\n",
    "for i1 in range(H):\n",
    "    for i2 in range(i1, H):\n",
    "        for j1 in range(W):\n",
    "            for j2 in range(j1, W):\n",
    "                if An[i1][j1] + An[i2][j2] > An[i1][j2] + An[i2][j1]:\n",
    "                    flg = False"
   ]
  },
  {
   "cell_type": "code",
   "execution_count": 9,
   "id": "5066ca26-f4f9-42c0-8053-0ce18230a553",
   "metadata": {},
   "outputs": [
    {
     "name": "stdout",
     "output_type": "stream",
     "text": [
      "Yes\n"
     ]
    }
   ],
   "source": [
    "print('Yes' if flg else 'No')"
   ]
  },
  {
   "cell_type": "code",
   "execution_count": 10,
   "id": "bce40396-b4e6-4cb8-9f91-1a3baac94909",
   "metadata": {},
   "outputs": [],
   "source": [
    "import numpy as np"
   ]
  },
  {
   "cell_type": "code",
   "execution_count": 12,
   "id": "5a2167e4-e3a9-405b-869c-f7542d78f7b3",
   "metadata": {},
   "outputs": [
    {
     "name": "stdout",
     "output_type": "stream",
     "text": [
      "Yes\n"
     ]
    }
   ],
   "source": [
    "An_n = np.array(An)\n",
    "i1j1 = An_n[:-1, :-1]\n",
    "i1j2 = An_n[:-1, 1:]\n",
    "i2j1 = An_n[1:, :-1]\n",
    "i2j2 = An_n[1:, 1:]\n",
    "print('Yes' if np.all(i1j1 + i2j2 <= i1j2 + i2j1) else 'No')"
   ]
  },
  {
   "cell_type": "code",
   "execution_count": null,
   "id": "77a68b75-b9c3-424d-a8d9-44ebd549686e",
   "metadata": {},
   "outputs": [],
   "source": []
  }
 ],
 "metadata": {
  "kernelspec": {
   "display_name": "Python 3",
   "language": "python",
   "name": "python3"
  },
  "language_info": {
   "codemirror_mode": {
    "name": "ipython",
    "version": 3
   },
   "file_extension": ".py",
   "mimetype": "text/x-python",
   "name": "python",
   "nbconvert_exporter": "python",
   "pygments_lexer": "ipython3",
   "version": "3.6.13"
  }
 },
 "nbformat": 4,
 "nbformat_minor": 5
}
