{
 "cells": [
  {
   "cell_type": "code",
   "execution_count": 6,
   "id": "c8584feb-9fdb-4b21-9a59-916e59210eb0",
   "metadata": {},
   "outputs": [
    {
     "name": "stdin",
     "output_type": "stream",
     "text": [
      " 1\n"
     ]
    }
   ],
   "source": [
    "N = int(input())"
   ]
  },
  {
   "cell_type": "code",
   "execution_count": 7,
   "id": "7dbb8532-3bc0-4c73-a953-7b305063a302",
   "metadata": {},
   "outputs": [
    {
     "name": "stdout",
     "output_type": "stream",
     "text": [
      "1.0\n"
     ]
    }
   ],
   "source": [
    "if N % 2 == 0:\n",
    "    print(N/2/N)\n",
    "else:\n",
    "    print((N+1)/2/N)"
   ]
  },
  {
   "cell_type": "code",
   "execution_count": 8,
   "id": "f21a4144-4e03-4c63-8f4f-f6c6f0196aea",
   "metadata": {},
   "outputs": [
    {
     "name": "stdout",
     "output_type": "stream",
     "text": [
      "1.0\n"
     ]
    }
   ],
   "source": [
    "n = (N+1) // 2\n",
    "print(n/N)"
   ]
  },
  {
   "cell_type": "code",
   "execution_count": null,
   "id": "8579f7c3-ed3f-4c17-b4a4-0a0ee43e0a29",
   "metadata": {},
   "outputs": [],
   "source": []
  }
 ],
 "metadata": {
  "kernelspec": {
   "display_name": "Python 3",
   "language": "python",
   "name": "python3"
  },
  "language_info": {
   "codemirror_mode": {
    "name": "ipython",
    "version": 3
   },
   "file_extension": ".py",
   "mimetype": "text/x-python",
   "name": "python",
   "nbconvert_exporter": "python",
   "pygments_lexer": "ipython3",
   "version": "3.6.13"
  }
 },
 "nbformat": 4,
 "nbformat_minor": 5
}
