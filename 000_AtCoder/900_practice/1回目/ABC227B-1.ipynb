{
 "cells": [
  {
   "cell_type": "code",
   "execution_count": 6,
   "id": "108d9009-de45-4389-af8b-ab3b404bfbf1",
   "metadata": {},
   "outputs": [
    {
     "name": "stdin",
     "output_type": "stream",
     "text": [
      " 5\n"
     ]
    }
   ],
   "source": [
    "N = int(input())"
   ]
  },
  {
   "cell_type": "code",
   "execution_count": 7,
   "id": "5eef09c9-f7a5-4bd0-8955-7c594562ddd0",
   "metadata": {},
   "outputs": [
    {
     "name": "stdin",
     "output_type": "stream",
     "text": [
      " 666 777 888 777 666\n"
     ]
    }
   ],
   "source": [
    "Sn = list(map(int, input().split()))"
   ]
  },
  {
   "cell_type": "code",
   "execution_count": 8,
   "id": "078a31d8-c5a6-4b58-98ad-9fca0b61fe72",
   "metadata": {},
   "outputs": [],
   "source": [
    "corr = [False] * N\n",
    "for a in range(1, 1001):\n",
    "    for b in range(1, 1001):\n",
    "        c = 4*a *b + 3*a + 3*b\n",
    "        for i, S  in enumerate(Sn):\n",
    "            if S == c:\n",
    "                corr[i] = True"
   ]
  },
  {
   "cell_type": "code",
   "execution_count": 9,
   "id": "16b79998-eae6-451b-9fb7-f6b8b8d9462d",
   "metadata": {},
   "outputs": [
    {
     "name": "stdout",
     "output_type": "stream",
     "text": [
      "3\n"
     ]
    }
   ],
   "source": [
    "print(N-sum(corr))"
   ]
  },
  {
   "cell_type": "code",
   "execution_count": null,
   "id": "20d1b25a-38f9-4c51-998f-2c1ad83f13fc",
   "metadata": {},
   "outputs": [],
   "source": []
  }
 ],
 "metadata": {
  "kernelspec": {
   "display_name": "Python 3",
   "language": "python",
   "name": "python3"
  },
  "language_info": {
   "codemirror_mode": {
    "name": "ipython",
    "version": 3
   },
   "file_extension": ".py",
   "mimetype": "text/x-python",
   "name": "python",
   "nbconvert_exporter": "python",
   "pygments_lexer": "ipython3",
   "version": "3.6.13"
  }
 },
 "nbformat": 4,
 "nbformat_minor": 5
}
