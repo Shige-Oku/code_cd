{
 "cells": [
  {
   "cell_type": "code",
   "execution_count": 2,
   "id": "3a062e51-2339-4bad-8dc1-457409676db6",
   "metadata": {},
   "outputs": [],
   "source": [
    "import math"
   ]
  },
  {
   "cell_type": "code",
   "execution_count": 1,
   "id": "c916772c-5a21-4c13-a6ef-3d8f6dc530b5",
   "metadata": {},
   "outputs": [
    {
     "name": "stdin",
     "output_type": "stream",
     "text": [
      " 2\n"
     ]
    }
   ],
   "source": [
    "N = int(input())"
   ]
  },
  {
   "cell_type": "code",
   "execution_count": 4,
   "id": "c8c151e8-b2a4-4dcf-a1e0-3e3fde37e948",
   "metadata": {},
   "outputs": [],
   "source": [
    "ans = 0\n",
    "for a in range(1, N+1):\n",
    "    for b in range(1, N+1):\n",
    "        ab = math.gcd(a, b)\n",
    "        for c in range(1, N+1):\n",
    "            ans += math.gcd(ab, c)"
   ]
  },
  {
   "cell_type": "code",
   "execution_count": 5,
   "id": "64248bc5-c1c5-4820-ba10-352a70f9db4d",
   "metadata": {},
   "outputs": [
    {
     "name": "stdout",
     "output_type": "stream",
     "text": [
      "9\n"
     ]
    }
   ],
   "source": [
    "print(ans)"
   ]
  },
  {
   "cell_type": "code",
   "execution_count": null,
   "id": "d3ddc422-ec9c-4072-bcca-892b28eb4bb6",
   "metadata": {},
   "outputs": [],
   "source": []
  }
 ],
 "metadata": {
  "kernelspec": {
   "display_name": "Python 3",
   "language": "python",
   "name": "python3"
  },
  "language_info": {
   "codemirror_mode": {
    "name": "ipython",
    "version": 3
   },
   "file_extension": ".py",
   "mimetype": "text/x-python",
   "name": "python",
   "nbconvert_exporter": "python",
   "pygments_lexer": "ipython3",
   "version": "3.6.13"
  }
 },
 "nbformat": 4,
 "nbformat_minor": 5
}
