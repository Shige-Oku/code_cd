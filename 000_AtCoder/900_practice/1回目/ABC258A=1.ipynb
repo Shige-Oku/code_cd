{
 "cells": [
  {
   "cell_type": "code",
   "execution_count": 6,
   "id": "3478da24-91d7-4708-aa15-9ffa9af8fb62",
   "metadata": {},
   "outputs": [
    {
     "name": "stdin",
     "output_type": "stream",
     "text": [
      " 100\n"
     ]
    }
   ],
   "source": [
    "K = int(input())"
   ]
  },
  {
   "cell_type": "code",
   "execution_count": 7,
   "id": "9ed19d4e-b20c-4503-b104-0f5f9f3a8fd0",
   "metadata": {},
   "outputs": [
    {
     "name": "stdout",
     "output_type": "stream",
     "text": [
      "22:40\n"
     ]
    }
   ],
   "source": [
    "if K >= 60:\n",
    "    print(str(22) + ':' + str(K%60).zfill(2))\n",
    "else:\n",
    "    print(str(21) + ':' + str(K%60).zfill(2))\n",
    "    "
   ]
  },
  {
   "cell_type": "code",
   "execution_count": null,
   "id": "1df8f402-0d32-432e-a72f-adaac9cf4997",
   "metadata": {},
   "outputs": [],
   "source": []
  }
 ],
 "metadata": {
  "kernelspec": {
   "display_name": "Python 3",
   "language": "python",
   "name": "python3"
  },
  "language_info": {
   "codemirror_mode": {
    "name": "ipython",
    "version": 3
   },
   "file_extension": ".py",
   "mimetype": "text/x-python",
   "name": "python",
   "nbconvert_exporter": "python",
   "pygments_lexer": "ipython3",
   "version": "3.6.13"
  }
 },
 "nbformat": 4,
 "nbformat_minor": 5
}
