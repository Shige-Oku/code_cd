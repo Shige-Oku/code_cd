{
 "cells": [
  {
   "cell_type": "code",
   "execution_count": 61,
   "id": "cd7dc467-fe54-4757-8d21-9c1011e56ad6",
   "metadata": {},
   "outputs": [
    {
     "name": "stdin",
     "output_type": "stream",
     "text": [
      " 100\n"
     ]
    }
   ],
   "source": [
    "N = int(input())"
   ]
  },
  {
   "cell_type": "code",
   "execution_count": 62,
   "id": "a45d7de2-8168-4ee9-9e0d-f7c13a09438e",
   "metadata": {},
   "outputs": [],
   "source": [
    "# 素因数分解\n",
    "def factorization(n):\n",
    "    arr = []\n",
    "    temp = n\n",
    "    for i in range(2, int((n**0.5//1))+1):\n",
    "        if temp%i==0:\n",
    "            cnt=0\n",
    "            while temp%i==0:\n",
    "                cnt+=1\n",
    "                temp //= i\n",
    "            arr.append([i, cnt])\n",
    "\n",
    "    if temp!=1:\n",
    "        arr.append([temp, 1])\n",
    "\n",
    "    if arr==[]:\n",
    "        arr.append([n, 1])\n",
    "\n",
    "    return arr\n",
    "\n",
    "# factorization(24) "
   ]
  },
  {
   "cell_type": "code",
   "execution_count": 67,
   "id": "72a0ac46-9ae3-4dd8-bcfc-dec7737f8173",
   "metadata": {},
   "outputs": [],
   "source": [
    "fa = {}\n",
    "for i in range(2, N+1):\n",
    "    f = factorization(i)\n",
    "    for k, v in f:\n",
    "        if k in fa:\n",
    "            fa[k] += v\n",
    "        else:\n",
    "            fa[k] = v"
   ]
  },
  {
   "cell_type": "code",
   "execution_count": 68,
   "id": "2c0d1a67-92b6-4f31-9b56-344379cb8ee3",
   "metadata": {},
   "outputs": [],
   "source": [
    "c3, c5, c15, c25, c75 = 0, 0, 0, 0, 0\n",
    "for v in fa.values():\n",
    "    if v >= 2:\n",
    "        c3 += 1\n",
    "    if v >= 4:\n",
    "        c5 += 1\n",
    "    if v >= 14:\n",
    "        c15 += 1\n",
    "    if v >= 24:\n",
    "        c25 += 1\n",
    "    if v >= 74:\n",
    "        c75 += 1"
   ]
  },
  {
   "cell_type": "code",
   "execution_count": 71,
   "id": "9f9cbf86-5ea4-42b4-9213-c57207c0fccb",
   "metadata": {},
   "outputs": [],
   "source": [
    "ans = 0\n",
    "ans += c75\n",
    "ans += c25 * (c3-1)\n",
    "ans += c15 * (c5-1)\n",
    "ans += c5  * (c5-1) * (c3-2) // 2"
   ]
  },
  {
   "cell_type": "code",
   "execution_count": 72,
   "id": "f8ce8266-f82e-4e64-a51f-7c5d35cecd89",
   "metadata": {},
   "outputs": [
    {
     "name": "stdout",
     "output_type": "stream",
     "text": [
      "543\n"
     ]
    }
   ],
   "source": [
    "print(ans)"
   ]
  },
  {
   "cell_type": "code",
   "execution_count": 49,
   "id": "292dd263-dc7a-4d77-bb96-28f5e721419d",
   "metadata": {},
   "outputs": [
    {
     "data": {
      "text/plain": [
       "[[2, 2], [3, 2]]"
      ]
     },
     "execution_count": 49,
     "metadata": {},
     "output_type": "execute_result"
    }
   ],
   "source": [
    "factorization(36)"
   ]
  },
  {
   "cell_type": "code",
   "execution_count": 45,
   "id": "08abb100-4475-4ff3-b442-ef023ecacd5d",
   "metadata": {},
   "outputs": [
    {
     "data": {
      "text/plain": [
       "{2: 7, 3: 4, 5: 1, 7: 1}"
      ]
     },
     "execution_count": 45,
     "metadata": {},
     "output_type": "execute_result"
    }
   ],
   "source": [
    "fa"
   ]
  },
  {
   "cell_type": "code",
   "execution_count": 46,
   "id": "a8f11fbe-9696-49b1-8a4e-80179b6063eb",
   "metadata": {},
   "outputs": [
    {
     "data": {
      "text/plain": [
       "(2, 2, 0, 0)"
      ]
     },
     "execution_count": 46,
     "metadata": {},
     "output_type": "execute_result"
    }
   ],
   "source": [
    "c3, c5, c25, c75 "
   ]
  },
  {
   "cell_type": "code",
   "execution_count": null,
   "id": "c1032060-6413-4593-b49c-1269d19d76c6",
   "metadata": {},
   "outputs": [],
   "source": []
  }
 ],
 "metadata": {
  "kernelspec": {
   "display_name": "Python 3",
   "language": "python",
   "name": "python3"
  },
  "language_info": {
   "codemirror_mode": {
    "name": "ipython",
    "version": 3
   },
   "file_extension": ".py",
   "mimetype": "text/x-python",
   "name": "python",
   "nbconvert_exporter": "python",
   "pygments_lexer": "ipython3",
   "version": "3.6.13"
  }
 },
 "nbformat": 4,
 "nbformat_minor": 5
}
