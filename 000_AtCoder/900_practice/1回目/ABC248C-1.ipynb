{
 "cells": [
  {
   "cell_type": "code",
   "execution_count": 21,
   "id": "0210b2e2-e13e-418d-a8d8-4d239cea23a1",
   "metadata": {},
   "outputs": [
    {
     "name": "stdin",
     "output_type": "stream",
     "text": [
      " 31 41 592\n"
     ]
    }
   ],
   "source": [
    "N, M, K = map(int, input().split())"
   ]
  },
  {
   "cell_type": "code",
   "execution_count": 22,
   "id": "8dae3bdf-fff4-43a9-a1a4-94fc23f1bdc9",
   "metadata": {},
   "outputs": [],
   "source": [
    "dp = [[0] * (N*M+1) for _ in range(N)]\n",
    "for i in range(1, M+1):\n",
    "    dp[0][i] = 1\n",
    "for i in range(1, N):\n",
    "    for j in range(1, N*M+1):\n",
    "        if dp[i-1][j] == 0:\n",
    "            continue\n",
    "        for k in range(1, M+1):\n",
    "            if j + k > N * M:\n",
    "                break\n",
    "            dp[i][j+k] += dp[i-1][j]\n",
    "            dp[i][j+k] %= 998244353"
   ]
  },
  {
   "cell_type": "code",
   "execution_count": 23,
   "id": "063be291-97ae-43b4-bfbb-831ecf364ee5",
   "metadata": {},
   "outputs": [
    {
     "name": "stdout",
     "output_type": "stream",
     "text": [
      "798416518\n"
     ]
    }
   ],
   "source": [
    "ans = 0\n",
    "for i in range(K+1):\n",
    "    ans += dp[N-1][i]\n",
    "print(ans%998244353)"
   ]
  },
  {
   "cell_type": "code",
   "execution_count": 15,
   "id": "63c54a8c-6897-491f-81c4-1d51e5fca6dc",
   "metadata": {},
   "outputs": [
    {
     "data": {
      "text/plain": [
       "([[0, 1, 1, 1, 0, 0, 0], [0, 0, 1, 2, 3, 2, 1]], 1, 6, 3)"
      ]
     },
     "execution_count": 15,
     "metadata": {},
     "output_type": "execute_result"
    }
   ],
   "source": [
    "dp, i, j, k"
   ]
  },
  {
   "cell_type": "code",
   "execution_count": null,
   "id": "d51f7a4c-b51f-4640-928d-9028082f7868",
   "metadata": {},
   "outputs": [],
   "source": []
  }
 ],
 "metadata": {
  "kernelspec": {
   "display_name": "Python 3",
   "language": "python",
   "name": "python3"
  },
  "language_info": {
   "codemirror_mode": {
    "name": "ipython",
    "version": 3
   },
   "file_extension": ".py",
   "mimetype": "text/x-python",
   "name": "python",
   "nbconvert_exporter": "python",
   "pygments_lexer": "ipython3",
   "version": "3.6.13"
  }
 },
 "nbformat": 4,
 "nbformat_minor": 5
}
