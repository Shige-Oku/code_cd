{
 "cells": [
  {
   "cell_type": "code",
   "execution_count": 18,
   "id": "8deb2990-2b2d-4618-8f35-8b58857eb1fa",
   "metadata": {},
   "outputs": [
    {
     "name": "stdin",
     "output_type": "stream",
     "text": [
      " 10 4\n"
     ]
    }
   ],
   "source": [
    "N, M = map(int, input().split())"
   ]
  },
  {
   "cell_type": "code",
   "execution_count": 19,
   "id": "c09bbb14-2a89-427d-b19d-5fe13d5a0538",
   "metadata": {},
   "outputs": [
    {
     "name": "stdin",
     "output_type": "stream",
     "text": [
      " -3 1 -4 1 -5 9 -2 6 -5 3\n"
     ]
    }
   ],
   "source": [
    "An = list(map(int, input().split()))"
   ]
  },
  {
   "cell_type": "code",
   "execution_count": 20,
   "id": "877a73f5-d2e9-4d26-b584-47e7493c2d57",
   "metadata": {},
   "outputs": [],
   "source": [
    "dp = [[-10**20] * N for _ in range(N+1)]\n",
    "dp[0][0] = 0\n",
    "for i, A in enumerate(An, 1):\n",
    "    for j in range(N):\n",
    "        dp[i][j] = dp[i-1][j]\n",
    "        if 0 < j < N:\n",
    "            dp[i][j] = max(dp[i][j], dp[i-1][j-1]+A*j)"
   ]
  },
  {
   "cell_type": "code",
   "execution_count": 21,
   "id": "9123b08c-f73c-4479-aa8d-1e3839502955",
   "metadata": {},
   "outputs": [
    {
     "name": "stdout",
     "output_type": "stream",
     "text": [
      "54\n"
     ]
    }
   ],
   "source": [
    "print(dp[-1][M])"
   ]
  },
  {
   "cell_type": "code",
   "execution_count": 17,
   "id": "3fb063fb-54e7-4678-ba21-e0c0bed45fcc",
   "metadata": {},
   "outputs": [
    {
     "data": {
      "text/plain": [
       "[[0, -100000000000000000000, -100000000000000000000, -100000000000000000000],\n",
       " [0, 5, -99999999999999999990, -99999999999999999985],\n",
       " [0, 5, 13, -99999999999999999978],\n",
       " [0, 5, 13, 10],\n",
       " [0, 8, 21, 37]]"
      ]
     },
     "execution_count": 17,
     "metadata": {},
     "output_type": "execute_result"
    }
   ],
   "source": [
    "dp"
   ]
  },
  {
   "cell_type": "code",
   "execution_count": null,
   "id": "c727f404-5a30-4283-b8f8-0595dc9b1d73",
   "metadata": {},
   "outputs": [],
   "source": []
  }
 ],
 "metadata": {
  "kernelspec": {
   "display_name": "Python 3",
   "language": "python",
   "name": "python3"
  },
  "language_info": {
   "codemirror_mode": {
    "name": "ipython",
    "version": 3
   },
   "file_extension": ".py",
   "mimetype": "text/x-python",
   "name": "python",
   "nbconvert_exporter": "python",
   "pygments_lexer": "ipython3",
   "version": "3.6.13"
  }
 },
 "nbformat": 4,
 "nbformat_minor": 5
}
