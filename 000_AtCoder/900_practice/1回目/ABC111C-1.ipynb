{
 "cells": [
  {
   "cell_type": "code",
   "execution_count": 33,
   "id": "db1cf740-6f92-441a-bf06-0222fd0c825d",
   "metadata": {},
   "outputs": [
    {
     "name": "stdin",
     "output_type": "stream",
     "text": [
      " 6\n"
     ]
    }
   ],
   "source": [
    "N = int(input())"
   ]
  },
  {
   "cell_type": "code",
   "execution_count": 34,
   "id": "73b91b4c-b10e-4d07-a2ea-5989010cab2d",
   "metadata": {},
   "outputs": [
    {
     "name": "stdin",
     "output_type": "stream",
     "text": [
      " 105 119 105 119 105 119\n"
     ]
    }
   ],
   "source": [
    "Vn = list(map(int, input().split()))"
   ]
  },
  {
   "cell_type": "code",
   "execution_count": 35,
   "id": "e83018d0-fd67-412b-8482-5205588e8aa6",
   "metadata": {},
   "outputs": [],
   "source": [
    "V1 = Vn[::2]\n",
    "V2 = Vn[1::2]"
   ]
  },
  {
   "cell_type": "code",
   "execution_count": 36,
   "id": "3fb2ca54-4f30-4560-8501-6053cd427741",
   "metadata": {},
   "outputs": [
    {
     "name": "stdout",
     "output_type": "stream",
     "text": [
      "0\n"
     ]
    }
   ],
   "source": [
    "from collections import Counter\n",
    "V1_c = Counter(V1)\n",
    "V2_c = Counter(V2)\n",
    "V1_c[0] = 0\n",
    "V2_c[0] = 0\n",
    "V1_s = sorted(V1_c.items(), key=lambda x:-x[1])\n",
    "V2_s = sorted(V2_c.items(), key=lambda x:-x[1])\n",
    "\n",
    "if V1_s[0][0] == V2_s[0][0]:\n",
    "    print(N - max(V1_s[0][1]+V2_s[1][1], V1_s[1][1]+V2_s[0][1]))\n",
    "else:\n",
    "    print(N - max(V1_c.values()) - max(V2_c.values()))"
   ]
  },
  {
   "cell_type": "code",
   "execution_count": 25,
   "id": "5e567786-52e7-460b-82ad-af15e5603474",
   "metadata": {},
   "outputs": [
    {
     "data": {
      "text/plain": [
       "([1, 1], [1, 1])"
      ]
     },
     "execution_count": 25,
     "metadata": {},
     "output_type": "execute_result"
    }
   ],
   "source": [
    "V1, V2"
   ]
  },
  {
   "cell_type": "code",
   "execution_count": 27,
   "id": "d6f90c9e-3689-4464-aa17-8e8b322db941",
   "metadata": {},
   "outputs": [
    {
     "data": {
      "text/plain": [
       "([(1, 2), (0, 0)], [(1, 2), (0, 0)])"
      ]
     },
     "execution_count": 27,
     "metadata": {},
     "output_type": "execute_result"
    }
   ],
   "source": [
    "V1_s, V2_s"
   ]
  },
  {
   "cell_type": "code",
   "execution_count": null,
   "id": "343aa8ed-e9ad-487f-97bf-0e4f12c583d9",
   "metadata": {},
   "outputs": [],
   "source": []
  }
 ],
 "metadata": {
  "kernelspec": {
   "display_name": "Python 3",
   "language": "python",
   "name": "python3"
  },
  "language_info": {
   "codemirror_mode": {
    "name": "ipython",
    "version": 3
   },
   "file_extension": ".py",
   "mimetype": "text/x-python",
   "name": "python",
   "nbconvert_exporter": "python",
   "pygments_lexer": "ipython3",
   "version": "3.6.13"
  }
 },
 "nbformat": 4,
 "nbformat_minor": 5
}
