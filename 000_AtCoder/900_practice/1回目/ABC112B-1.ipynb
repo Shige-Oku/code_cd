{
 "cells": [
  {
   "cell_type": "code",
   "execution_count": 1,
   "id": "fed026e7-841d-4ea1-9ff9-6540af44fd4f",
   "metadata": {},
   "outputs": [
    {
     "name": "stdin",
     "output_type": "stream",
     "text": [
      " 3 70\n"
     ]
    }
   ],
   "source": [
    "N, T = map(int, input().split())"
   ]
  },
  {
   "cell_type": "code",
   "execution_count": 2,
   "id": "ec271764-655f-4602-81a2-687baa4b7a41",
   "metadata": {},
   "outputs": [
    {
     "name": "stdin",
     "output_type": "stream",
     "text": [
      " 7 60\n",
      " 1 80\n",
      " 4 50\n"
     ]
    }
   ],
   "source": [
    "CTn = [list(map(int, input().split())) for _ in range(N)]"
   ]
  },
  {
   "cell_type": "code",
   "execution_count": 6,
   "id": "47ffa9eb-277a-4f7e-9cbf-dfd205ced0e2",
   "metadata": {},
   "outputs": [],
   "source": [
    "ans = 10**10\n",
    "for c, t in CTn:\n",
    "    if t <= T:\n",
    "        ans = min(ans, c)"
   ]
  },
  {
   "cell_type": "code",
   "execution_count": 7,
   "id": "b780535d-acad-4154-ace2-c8f8bb087432",
   "metadata": {},
   "outputs": [
    {
     "name": "stdout",
     "output_type": "stream",
     "text": [
      "4\n"
     ]
    }
   ],
   "source": [
    "if ans == 10**10:\n",
    "    print('TLE')\n",
    "else:\n",
    "    print(ans)"
   ]
  },
  {
   "cell_type": "code",
   "execution_count": null,
   "id": "4b98c36f-3293-4ef0-8424-4abad39b004b",
   "metadata": {},
   "outputs": [],
   "source": []
  }
 ],
 "metadata": {
  "kernelspec": {
   "display_name": "Python 3",
   "language": "python",
   "name": "python3"
  },
  "language_info": {
   "codemirror_mode": {
    "name": "ipython",
    "version": 3
   },
   "file_extension": ".py",
   "mimetype": "text/x-python",
   "name": "python",
   "nbconvert_exporter": "python",
   "pygments_lexer": "ipython3",
   "version": "3.6.13"
  }
 },
 "nbformat": 4,
 "nbformat_minor": 5
}
