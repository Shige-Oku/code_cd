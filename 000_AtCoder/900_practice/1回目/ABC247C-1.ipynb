{
 "cells": [
  {
   "cell_type": "code",
   "execution_count": 15,
   "id": "03e2fff8-cf0a-4f84-be0b-d4c70773b985",
   "metadata": {},
   "outputs": [
    {
     "name": "stdin",
     "output_type": "stream",
     "text": [
      " 4\n"
     ]
    }
   ],
   "source": [
    "N = int(input())"
   ]
  },
  {
   "cell_type": "code",
   "execution_count": 16,
   "id": "380fef18-e106-4020-9920-d1594b1eea49",
   "metadata": {},
   "outputs": [],
   "source": [
    "ans = [1, ]\n",
    "for i in range(2, N+1):\n",
    "    ans.append(i)\n",
    "    for j in range(len(ans)-1):\n",
    "        ans.append(ans[j])"
   ]
  },
  {
   "cell_type": "code",
   "execution_count": 17,
   "id": "7d389f87-f243-4f2d-bfcf-c1947c8d66e7",
   "metadata": {},
   "outputs": [
    {
     "name": "stdout",
     "output_type": "stream",
     "text": [
      "1 2 1 3 1 2 1 4 1 2 1 3 1 2 1\n"
     ]
    }
   ],
   "source": [
    "print(*ans)"
   ]
  },
  {
   "cell_type": "code",
   "execution_count": 22,
   "id": "bd0db8a9-b47f-4f8a-92ee-f8df00759f42",
   "metadata": {},
   "outputs": [],
   "source": [
    "def solve(n):\n",
    "    if n == 1:\n",
    "        return [1, ]\n",
    "    return solve(n-1) + [n] + solve(n-1)"
   ]
  },
  {
   "cell_type": "code",
   "execution_count": 24,
   "id": "2c7c6f77-c69d-438b-acce-ed8e00d17d87",
   "metadata": {},
   "outputs": [
    {
     "name": "stdout",
     "output_type": "stream",
     "text": [
      "1 2 1 3 1 2 1 4 1 2 1 3 1 2 1\n"
     ]
    }
   ],
   "source": [
    "print(*solve(N))"
   ]
  },
  {
   "cell_type": "code",
   "execution_count": null,
   "id": "8debacb1-a086-42e9-9ab1-c03d35f6933b",
   "metadata": {},
   "outputs": [],
   "source": []
  }
 ],
 "metadata": {
  "kernelspec": {
   "display_name": "Python 3",
   "language": "python",
   "name": "python3"
  },
  "language_info": {
   "codemirror_mode": {
    "name": "ipython",
    "version": 3
   },
   "file_extension": ".py",
   "mimetype": "text/x-python",
   "name": "python",
   "nbconvert_exporter": "python",
   "pygments_lexer": "ipython3",
   "version": "3.6.13"
  }
 },
 "nbformat": 4,
 "nbformat_minor": 5
}
