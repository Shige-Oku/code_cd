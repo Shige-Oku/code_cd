{
 "cells": [
  {
   "cell_type": "code",
   "execution_count": 1,
   "id": "0af83140-5557-47d3-a5e0-114a20862952",
   "metadata": {},
   "outputs": [
    {
     "name": "stdin",
     "output_type": "stream",
     "text": [
      " 3 1\n"
     ]
    }
   ],
   "source": [
    "N, K = map(int, input().split())"
   ]
  },
  {
   "cell_type": "code",
   "execution_count": 2,
   "id": "5ef00419-c858-4581-9cb1-79b0b2505d0c",
   "metadata": {},
   "outputs": [
    {
     "name": "stdin",
     "output_type": "stream",
     "text": [
      " 178 205 132\n",
      " 112 220 96\n",
      " 36 64 20\n"
     ]
    }
   ],
   "source": [
    "Pn = [list(map(int, input().split())) for _ in range(N)]"
   ]
  },
  {
   "cell_type": "code",
   "execution_count": 3,
   "id": "92e03876-6c00-4e5c-89f6-884f5cfb382f",
   "metadata": {},
   "outputs": [],
   "source": [
    "point = []\n",
    "for i, pn in enumerate(Pn):\n",
    "    point.append((sum(pn), i))"
   ]
  },
  {
   "cell_type": "code",
   "execution_count": 8,
   "id": "b3d77653-c5f7-462b-86c7-ab2d7f559f16",
   "metadata": {},
   "outputs": [
    {
     "name": "stdout",
     "output_type": "stream",
     "text": [
      "Yes\n",
      "Yes\n",
      "No\n"
     ]
    }
   ],
   "source": [
    "point.sort(reverse=True)\n",
    "base = point[K-1][0]\n",
    "for pn in Pn:\n",
    "    if sum(pn) >= max(0, base-300):\n",
    "        print('Yes')\n",
    "    else:\n",
    "        print('No')"
   ]
  },
  {
   "cell_type": "code",
   "execution_count": 9,
   "id": "f5ab8573-bc62-4e7b-934a-52222b5c560a",
   "metadata": {},
   "outputs": [
    {
     "name": "stdout",
     "output_type": "stream",
     "text": [
      "Yes\n",
      "Yes\n",
      "No\n"
     ]
    }
   ],
   "source": [
    "base = sorted(point, reverse=True)[K-1][0]\n",
    "for pn in Pn:\n",
    "    print('Yes' if sum(pn) + 300 >= base else 'No')"
   ]
  },
  {
   "cell_type": "code",
   "execution_count": null,
   "id": "620a7b37-76e7-42c5-8b93-ef2f9a0fe5e4",
   "metadata": {},
   "outputs": [],
   "source": []
  }
 ],
 "metadata": {
  "kernelspec": {
   "display_name": "Python 3",
   "language": "python",
   "name": "python3"
  },
  "language_info": {
   "codemirror_mode": {
    "name": "ipython",
    "version": 3
   },
   "file_extension": ".py",
   "mimetype": "text/x-python",
   "name": "python",
   "nbconvert_exporter": "python",
   "pygments_lexer": "ipython3",
   "version": "3.6.13"
  }
 },
 "nbformat": 4,
 "nbformat_minor": 5
}
