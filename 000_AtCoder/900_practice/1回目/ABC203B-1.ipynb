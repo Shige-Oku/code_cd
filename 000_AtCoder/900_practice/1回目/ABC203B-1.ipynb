{
 "cells": [
  {
   "cell_type": "code",
   "execution_count": 7,
   "id": "be9ebe2b-2316-4e49-a63d-14e00998344d",
   "metadata": {},
   "outputs": [
    {
     "name": "stdin",
     "output_type": "stream",
     "text": [
      " 3 3\n"
     ]
    }
   ],
   "source": [
    "N, K = map(int, input().split())"
   ]
  },
  {
   "cell_type": "code",
   "execution_count": 8,
   "id": "9c7e71f6-73f3-4931-b47d-e3831d5f0220",
   "metadata": {},
   "outputs": [],
   "source": [
    "ans = 0\n",
    "for i in range(1, N+1):\n",
    "    for j in range(1, K+1):\n",
    "        s = str(i) + '0' + str(j)\n",
    "        ans += int(s)"
   ]
  },
  {
   "cell_type": "code",
   "execution_count": 9,
   "id": "98760234-c474-4071-a3bb-f47fbd6fcfa4",
   "metadata": {},
   "outputs": [
    {
     "name": "stdout",
     "output_type": "stream",
     "text": [
      "1818\n"
     ]
    }
   ],
   "source": [
    "print(ans)"
   ]
  },
  {
   "cell_type": "code",
   "execution_count": 10,
   "id": "55d879ad-fff0-4412-a326-c3b69c4784f4",
   "metadata": {},
   "outputs": [],
   "source": [
    "ans = 0\n",
    "for i in range(1, N+1):\n",
    "    for j in range(1, K+1):\n",
    "        ans += 100 * i + j"
   ]
  },
  {
   "cell_type": "code",
   "execution_count": null,
   "id": "cbfebfc6-b1d7-4c11-b528-a207fea1d72c",
   "metadata": {},
   "outputs": [],
   "source": [
    "print(ans)"
   ]
  },
  {
   "cell_type": "code",
   "execution_count": null,
   "id": "2fb4d7e4-04b9-4d84-86ca-e3b270d52a92",
   "metadata": {},
   "outputs": [],
   "source": []
  }
 ],
 "metadata": {
  "kernelspec": {
   "display_name": "Python 3",
   "language": "python",
   "name": "python3"
  },
  "language_info": {
   "codemirror_mode": {
    "name": "ipython",
    "version": 3
   },
   "file_extension": ".py",
   "mimetype": "text/x-python",
   "name": "python",
   "nbconvert_exporter": "python",
   "pygments_lexer": "ipython3",
   "version": "3.6.13"
  }
 },
 "nbformat": 4,
 "nbformat_minor": 5
}
