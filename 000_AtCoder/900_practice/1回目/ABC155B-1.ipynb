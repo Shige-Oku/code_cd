{
 "cells": [
  {
   "cell_type": "code",
   "execution_count": 5,
   "id": "bbf977d0-9d01-4d0d-988b-41a52e967138",
   "metadata": {},
   "outputs": [
    {
     "name": "stdin",
     "output_type": "stream",
     "text": [
      " 3\n"
     ]
    }
   ],
   "source": [
    "N = int(input())"
   ]
  },
  {
   "cell_type": "code",
   "execution_count": 6,
   "id": "5371ef10-3f4d-4297-bc6b-e8c82a0b70a4",
   "metadata": {},
   "outputs": [
    {
     "name": "stdin",
     "output_type": "stream",
     "text": [
      " 28 27 24\n"
     ]
    }
   ],
   "source": [
    "An = list(map(int, input().split()))"
   ]
  },
  {
   "cell_type": "code",
   "execution_count": 9,
   "id": "d9fda897-29d5-4723-9739-a3413b5556df",
   "metadata": {},
   "outputs": [
    {
     "name": "stdout",
     "output_type": "stream",
     "text": [
      "DENIED\n"
     ]
    }
   ],
   "source": [
    "for A in An:\n",
    "    if A % 2 == 1:\n",
    "        continue\n",
    "    if A % 3 == 0 or A % 5 == 0:\n",
    "        continue\n",
    "    else:\n",
    "        print('DENIED')\n",
    "        break\n",
    "else:\n",
    "    print('APPROVED')"
   ]
  },
  {
   "cell_type": "code",
   "execution_count": 10,
   "id": "0bf69512-698e-48e6-81e7-517a1d504fd4",
   "metadata": {},
   "outputs": [],
   "source": [
    "import numpy as np"
   ]
  },
  {
   "cell_type": "code",
   "execution_count": 12,
   "id": "b437ccae-9226-4622-8077-a0d02a64fdd1",
   "metadata": {},
   "outputs": [],
   "source": [
    "An_n = np.array(An)\n",
    "An_n = An_n[An_n % 2 == 0]"
   ]
  },
  {
   "cell_type": "code",
   "execution_count": 15,
   "id": "32e9bc0f-03db-42e9-8ace-bbafd3dbe2e1",
   "metadata": {},
   "outputs": [
    {
     "name": "stdout",
     "output_type": "stream",
     "text": [
      "DENIED\n"
     ]
    }
   ],
   "source": [
    "if np.all((An_n % 3 == 0) | (An_n % 5 == 0)):\n",
    "    print('APPROVED')\n",
    "else:\n",
    "    print('DENIED')"
   ]
  },
  {
   "cell_type": "code",
   "execution_count": null,
   "id": "1ba2dae6-eee6-483c-8ea8-3ead7d63359c",
   "metadata": {},
   "outputs": [],
   "source": []
  }
 ],
 "metadata": {
  "kernelspec": {
   "display_name": "Python 3",
   "language": "python",
   "name": "python3"
  },
  "language_info": {
   "codemirror_mode": {
    "name": "ipython",
    "version": 3
   },
   "file_extension": ".py",
   "mimetype": "text/x-python",
   "name": "python",
   "nbconvert_exporter": "python",
   "pygments_lexer": "ipython3",
   "version": "3.6.13"
  }
 },
 "nbformat": 4,
 "nbformat_minor": 5
}
