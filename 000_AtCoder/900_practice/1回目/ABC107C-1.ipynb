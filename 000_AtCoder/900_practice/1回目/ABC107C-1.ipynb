{
 "cells": [
  {
   "cell_type": "code",
   "execution_count": 37,
   "id": "e995c3cb-1a56-40ed-a527-8913fcbbc783",
   "metadata": {},
   "outputs": [
    {
     "name": "stdin",
     "output_type": "stream",
     "text": [
      " 1 1\n"
     ]
    }
   ],
   "source": [
    "N, K = map(int, input().split())"
   ]
  },
  {
   "cell_type": "code",
   "execution_count": 38,
   "id": "03d4faa9-e36b-4ebb-9558-db1560d05052",
   "metadata": {},
   "outputs": [
    {
     "name": "stdin",
     "output_type": "stream",
     "text": [
      " 0\n"
     ]
    }
   ],
   "source": [
    "Xn = list(map(int, input().split()))"
   ]
  },
  {
   "cell_type": "code",
   "execution_count": 47,
   "id": "dbce6809-aedf-4b19-bac4-fd04871b0914",
   "metadata": {},
   "outputs": [],
   "source": [
    "ans = 10**15\n",
    "for i in range(N-K+1):\n",
    "    ans = min(ans, abs(Xn[i]-Xn[i+K-1])+abs(Xn[i]), abs(Xn[i+K-1]-Xn[i])+abs(Xn[i+K-1]))\n"
   ]
  },
  {
   "cell_type": "code",
   "execution_count": 48,
   "id": "e374bb0d-9c11-4278-a432-182e36400ba4",
   "metadata": {},
   "outputs": [
    {
     "name": "stdout",
     "output_type": "stream",
     "text": [
      "0\n"
     ]
    }
   ],
   "source": [
    "print(ans)"
   ]
  },
  {
   "cell_type": "code",
   "execution_count": 44,
   "id": "da3a5572-5a29-4e29-9e18-0985c21d9e78",
   "metadata": {},
   "outputs": [
    {
     "data": {
      "text/plain": [
       "0"
      ]
     },
     "execution_count": 44,
     "metadata": {},
     "output_type": "execute_result"
    }
   ],
   "source": [
    "ans"
   ]
  },
  {
   "cell_type": "code",
   "execution_count": 20,
   "id": "c3dda671-fe4c-44d0-8bed-5d240755f50c",
   "metadata": {},
   "outputs": [],
   "source": [
    "mi = min(Xn)\n",
    "di = []\n",
    "for X in Xn:\n",
    "    if mi >= 0:\n",
    "        di.append(X)\n",
    "    else:\n",
    "        di.append(X+abs(mi))"
   ]
  },
  {
   "cell_type": "code",
   "execution_count": 21,
   "id": "3f1f620f-2358-4711-81cb-f4dd0c63d3af",
   "metadata": {},
   "outputs": [],
   "source": [
    "from itertools import accumulate\n",
    "di_l = list(accumulate(di))\n",
    "di_r = list(accumulate(di[::-1]))"
   ]
  },
  {
   "cell_type": "code",
   "execution_count": 22,
   "id": "ae5757a1-1dbd-4f8d-917c-5b22ef2df25a",
   "metadata": {},
   "outputs": [],
   "source": [
    "ans = 10**15\n",
    "for i, (X, d) in enumerate(zip(Xn, di)):\n",
    "    if d >= abs(mi):\n",
    "        if i - K >= 0:\n",
    "            c = X + di[i] - di[i-K+1]\n",
    "    else:\n",
    "        if i + K < N: \n",
    "            c = abs(mi) - d + di[i+K-1] - di[i]\n",
    "    ans = min(ans, c)\n"
   ]
  },
  {
   "cell_type": "code",
   "execution_count": 23,
   "id": "00b354c9-8415-448b-bb3c-e9d82c236b7a",
   "metadata": {},
   "outputs": [
    {
     "name": "stdout",
     "output_type": "stream",
     "text": [
      "40\n"
     ]
    }
   ],
   "source": [
    "print(ans)"
   ]
  },
  {
   "cell_type": "code",
   "execution_count": 7,
   "id": "a9a38bd1-21e7-4b4a-b706-9c640ff48f0e",
   "metadata": {},
   "outputs": [
    {
     "data": {
      "text/plain": [
       "([0, 20, 40, 50, 80], [0, 20, 60, 110, 190], [80, 130, 170, 190, 190])"
      ]
     },
     "execution_count": 7,
     "metadata": {},
     "output_type": "execute_result"
    }
   ],
   "source": [
    "di, di_l, di_r"
   ]
  },
  {
   "cell_type": "code",
   "execution_count": 9,
   "id": "f1d81a42-fb14-4ace-b5f0-d8394a2cc2cd",
   "metadata": {},
   "outputs": [
    {
     "data": {
      "text/plain": [
       "(4, 3)"
      ]
     },
     "execution_count": 9,
     "metadata": {},
     "output_type": "execute_result"
    }
   ],
   "source": [
    "i, K"
   ]
  },
  {
   "cell_type": "code",
   "execution_count": null,
   "id": "a565d399-4e19-4b20-81c8-55572dd753fb",
   "metadata": {},
   "outputs": [],
   "source": []
  }
 ],
 "metadata": {
  "kernelspec": {
   "display_name": "Python 3",
   "language": "python",
   "name": "python3"
  },
  "language_info": {
   "codemirror_mode": {
    "name": "ipython",
    "version": 3
   },
   "file_extension": ".py",
   "mimetype": "text/x-python",
   "name": "python",
   "nbconvert_exporter": "python",
   "pygments_lexer": "ipython3",
   "version": "3.6.13"
  }
 },
 "nbformat": 4,
 "nbformat_minor": 5
}
