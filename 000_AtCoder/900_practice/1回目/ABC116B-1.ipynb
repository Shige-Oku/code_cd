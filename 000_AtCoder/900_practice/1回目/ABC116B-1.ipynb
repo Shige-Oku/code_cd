{
 "cells": [
  {
   "cell_type": "code",
   "execution_count": 6,
   "id": "2d6d8e53-ebec-4067-b040-8d5b44b619dd",
   "metadata": {},
   "outputs": [
    {
     "name": "stdin",
     "output_type": "stream",
     "text": [
      " 54\n"
     ]
    }
   ],
   "source": [
    "S = int(input())"
   ]
  },
  {
   "cell_type": "code",
   "execution_count": 7,
   "id": "485585fd-031b-4198-824a-a8658e8bfa93",
   "metadata": {},
   "outputs": [
    {
     "name": "stdout",
     "output_type": "stream",
     "text": [
      "114\n"
     ]
    }
   ],
   "source": [
    "i = 1\n",
    "val = set()\n",
    "num = S\n",
    "while True:\n",
    "    if num in val:\n",
    "        print(i)\n",
    "        break\n",
    "    val.add(num)\n",
    "    if num % 2 == 0:\n",
    "        num //= 2\n",
    "    else:\n",
    "        num = 3 * num + 1\n",
    "    i += 1"
   ]
  },
  {
   "cell_type": "code",
   "execution_count": null,
   "id": "4e0d51a4-9d7e-4ccf-abe7-8b5c6154148a",
   "metadata": {},
   "outputs": [],
   "source": []
  }
 ],
 "metadata": {
  "kernelspec": {
   "display_name": "Python 3",
   "language": "python",
   "name": "python3"
  },
  "language_info": {
   "codemirror_mode": {
    "name": "ipython",
    "version": 3
   },
   "file_extension": ".py",
   "mimetype": "text/x-python",
   "name": "python",
   "nbconvert_exporter": "python",
   "pygments_lexer": "ipython3",
   "version": "3.6.13"
  }
 },
 "nbformat": 4,
 "nbformat_minor": 5
}
