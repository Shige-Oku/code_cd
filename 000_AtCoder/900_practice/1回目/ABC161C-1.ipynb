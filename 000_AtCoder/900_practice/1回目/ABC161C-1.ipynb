{
 "cells": [
  {
   "cell_type": "code",
   "execution_count": 17,
   "id": "3ea97c0a-1c80-4621-a871-2533409f51e9",
   "metadata": {},
   "outputs": [
    {
     "name": "stdin",
     "output_type": "stream",
     "text": [
      " 7 4\n"
     ]
    }
   ],
   "source": [
    "N, K = map(int, input().split())"
   ]
  },
  {
   "cell_type": "code",
   "execution_count": 18,
   "id": "b87d9f5f-813a-456e-8a2e-fa0c8ef382a4",
   "metadata": {},
   "outputs": [
    {
     "name": "stdout",
     "output_type": "stream",
     "text": [
      "1\n"
     ]
    }
   ],
   "source": [
    "print(min(N, abs(K-N%K), abs(K-(K-N%K))))"
   ]
  },
  {
   "cell_type": "code",
   "execution_count": 13,
   "id": "9758d17e-faf8-4550-9acc-9d53f6304cbf",
   "metadata": {},
   "outputs": [
    {
     "data": {
      "text/plain": [
       "(1, 0)"
      ]
     },
     "execution_count": 13,
     "metadata": {},
     "output_type": "execute_result"
    }
   ],
   "source": [
    "K-N%K, K-(K-N%K)"
   ]
  },
  {
   "cell_type": "code",
   "execution_count": 20,
   "id": "b982c485-1e2a-479e-bc0d-b6c9a389691f",
   "metadata": {},
   "outputs": [
    {
     "name": "stdout",
     "output_type": "stream",
     "text": [
      "1\n"
     ]
    }
   ],
   "source": [
    "print(min(K-N%K, K-(K-N%K)))"
   ]
  },
  {
   "cell_type": "code",
   "execution_count": null,
   "id": "2357bef0-9245-4f06-811b-0234636cebee",
   "metadata": {},
   "outputs": [],
   "source": []
  }
 ],
 "metadata": {
  "kernelspec": {
   "display_name": "Python 3",
   "language": "python",
   "name": "python3"
  },
  "language_info": {
   "codemirror_mode": {
    "name": "ipython",
    "version": 3
   },
   "file_extension": ".py",
   "mimetype": "text/x-python",
   "name": "python",
   "nbconvert_exporter": "python",
   "pygments_lexer": "ipython3",
   "version": "3.6.13"
  }
 },
 "nbformat": 4,
 "nbformat_minor": 5
}
