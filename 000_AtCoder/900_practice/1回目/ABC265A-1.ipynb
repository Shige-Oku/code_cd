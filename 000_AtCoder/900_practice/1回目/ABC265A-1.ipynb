{
 "cells": [
  {
   "cell_type": "code",
   "execution_count": 9,
   "id": "22d991fc-2997-4057-8ca0-8e364cdc6407",
   "metadata": {},
   "outputs": [
    {
     "name": "stdin",
     "output_type": "stream",
     "text": [
      " 100 100 100\n"
     ]
    }
   ],
   "source": [
    "X, Y, N = map(int, input().split())"
   ]
  },
  {
   "cell_type": "code",
   "execution_count": 10,
   "id": "19d0edd5-6311-4a13-8a7a-86d8390c2360",
   "metadata": {},
   "outputs": [
    {
     "name": "stdout",
     "output_type": "stream",
     "text": [
      "3400\n"
     ]
    }
   ],
   "source": [
    "q, r = divmod(N, 3)\n",
    "print(min(q*Y + r*X, X*N))"
   ]
  },
  {
   "cell_type": "code",
   "execution_count": null,
   "id": "3e59739d-6c4d-4628-824d-251bde91847f",
   "metadata": {},
   "outputs": [],
   "source": []
  }
 ],
 "metadata": {
  "kernelspec": {
   "display_name": "Python 3",
   "language": "python",
   "name": "python3"
  },
  "language_info": {
   "codemirror_mode": {
    "name": "ipython",
    "version": 3
   },
   "file_extension": ".py",
   "mimetype": "text/x-python",
   "name": "python",
   "nbconvert_exporter": "python",
   "pygments_lexer": "ipython3",
   "version": "3.6.13"
  }
 },
 "nbformat": 4,
 "nbformat_minor": 5
}
