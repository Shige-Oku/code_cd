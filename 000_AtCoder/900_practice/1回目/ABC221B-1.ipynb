{
 "cells": [
  {
   "cell_type": "code",
   "execution_count": 36,
   "id": "c015dde1-52e4-4033-abdf-9f777dc9649f",
   "metadata": {},
   "outputs": [
    {
     "name": "stdin",
     "output_type": "stream",
     "text": [
      " abc\n"
     ]
    }
   ],
   "source": [
    "S = input()"
   ]
  },
  {
   "cell_type": "code",
   "execution_count": 37,
   "id": "2872e829-dcf5-47f8-b5d3-2ddc4b2c568d",
   "metadata": {},
   "outputs": [
    {
     "name": "stdin",
     "output_type": "stream",
     "text": [
      " acb\n"
     ]
    }
   ],
   "source": [
    "T = input()"
   ]
  },
  {
   "cell_type": "code",
   "execution_count": 38,
   "id": "76c059ac-b7b4-411b-a25a-4bb162b78b96",
   "metadata": {},
   "outputs": [],
   "source": [
    "def solve():\n",
    "    if S == T:\n",
    "        return True\n",
    "    for i in range(len(S)-1):\n",
    "        s = S[:i] + S[i+1] + S[i] + S[i+2:]\n",
    "        if s == T:\n",
    "            return True\n",
    "    return False   "
   ]
  },
  {
   "cell_type": "code",
   "execution_count": 39,
   "id": "b8a95619-2e11-4a14-a377-fd27d7d144ae",
   "metadata": {},
   "outputs": [
    {
     "name": "stdout",
     "output_type": "stream",
     "text": [
      "Yes\n"
     ]
    }
   ],
   "source": [
    "print('Yes' if solve() else 'No')"
   ]
  },
  {
   "cell_type": "code",
   "execution_count": 44,
   "id": "3fc4a300-2924-4455-9048-79ea63dcd735",
   "metadata": {},
   "outputs": [],
   "source": [
    "def solve():\n",
    "    if S == T:\n",
    "        return True\n",
    "    t = list(T)\n",
    "    for i in range(len(S)-1):\n",
    "        s = list(S)\n",
    "        s[i], s[i+1] = s[i+1], s[i]\n",
    "        if s == t:\n",
    "            return True\n",
    "    return False"
   ]
  },
  {
   "cell_type": "code",
   "execution_count": 45,
   "id": "37a9f199-1996-4b2f-9aaa-d27f120ca608",
   "metadata": {},
   "outputs": [
    {
     "name": "stdout",
     "output_type": "stream",
     "text": [
      "Yes\n"
     ]
    }
   ],
   "source": [
    "print('Yes' if solve() else 'No')"
   ]
  },
  {
   "cell_type": "code",
   "execution_count": null,
   "id": "2a017596-91e2-49bd-886d-39420bfb32a2",
   "metadata": {},
   "outputs": [],
   "source": []
  }
 ],
 "metadata": {
  "kernelspec": {
   "display_name": "Python 3",
   "language": "python",
   "name": "python3"
  },
  "language_info": {
   "codemirror_mode": {
    "name": "ipython",
    "version": 3
   },
   "file_extension": ".py",
   "mimetype": "text/x-python",
   "name": "python",
   "nbconvert_exporter": "python",
   "pygments_lexer": "ipython3",
   "version": "3.6.13"
  }
 },
 "nbformat": 4,
 "nbformat_minor": 5
}
