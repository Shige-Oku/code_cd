{
 "cells": [
  {
   "cell_type": "code",
   "execution_count": 1,
   "id": "fa050dbd-1072-4045-9248-782e9d6d0cfd",
   "metadata": {},
   "outputs": [
    {
     "name": "stdin",
     "output_type": "stream",
     "text": [
      " 10 2 20\n"
     ]
    }
   ],
   "source": [
    "N, M, T = map(int, input().split())"
   ]
  },
  {
   "cell_type": "code",
   "execution_count": 2,
   "id": "706f5782-37ff-4e5e-a446-c29ba573b4f6",
   "metadata": {},
   "outputs": [
    {
     "name": "stdin",
     "output_type": "stream",
     "text": [
      " 9 11\n",
      " 13 17\n"
     ]
    }
   ],
   "source": [
    "ABn = [list(map(int, input().split())) for _ in range(M)]"
   ]
  },
  {
   "cell_type": "code",
   "execution_count": 9,
   "id": "a4a9a25d-cb57-4156-bbe7-e8ad253853e1",
   "metadata": {},
   "outputs": [],
   "source": [
    "flg = True\n",
    "b = N\n",
    "s = 0\n",
    "for A, B in ABn:\n",
    "    b -= A - s\n",
    "    if b <= 0:\n",
    "        flg = False\n",
    "        break\n",
    "    b = min(N, b+(B-A))\n",
    "    s = B\n",
    "else:\n",
    "    b -= T - s\n",
    "    if b <= 0:\n",
    "        flg = False\n",
    "    "
   ]
  },
  {
   "cell_type": "code",
   "execution_count": 10,
   "id": "5ce84d68-7dce-4f60-9da9-4b787110b8b6",
   "metadata": {},
   "outputs": [
    {
     "name": "stdout",
     "output_type": "stream",
     "text": [
      "Yes\n"
     ]
    }
   ],
   "source": [
    "print('Yes' if flg else 'No')"
   ]
  },
  {
   "cell_type": "code",
   "execution_count": null,
   "id": "b0df548a-4eb4-486e-bdd7-2119039d293d",
   "metadata": {},
   "outputs": [],
   "source": []
  }
 ],
 "metadata": {
  "kernelspec": {
   "display_name": "Python 3",
   "language": "python",
   "name": "python3"
  },
  "language_info": {
   "codemirror_mode": {
    "name": "ipython",
    "version": 3
   },
   "file_extension": ".py",
   "mimetype": "text/x-python",
   "name": "python",
   "nbconvert_exporter": "python",
   "pygments_lexer": "ipython3",
   "version": "3.6.13"
  }
 },
 "nbformat": 4,
 "nbformat_minor": 5
}
