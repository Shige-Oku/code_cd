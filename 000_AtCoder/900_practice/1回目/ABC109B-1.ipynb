{
 "cells": [
  {
   "cell_type": "code",
   "execution_count": 1,
   "id": "10f71a1b-1a8a-43a8-bbae-aaccda738a8c",
   "metadata": {},
   "outputs": [
    {
     "name": "stdin",
     "output_type": "stream",
     "text": [
      " 4\n"
     ]
    }
   ],
   "source": [
    "N = int(input())"
   ]
  },
  {
   "cell_type": "code",
   "execution_count": 2,
   "id": "c26b1c8c-5180-4ff9-903c-d95737d81da0",
   "metadata": {},
   "outputs": [
    {
     "name": "stdin",
     "output_type": "stream",
     "text": [
      " hoge\n",
      " english\n",
      " hoge\n",
      " enigma\n"
     ]
    }
   ],
   "source": [
    "Wn = [input() for _ in range(N)]"
   ]
  },
  {
   "cell_type": "code",
   "execution_count": 3,
   "id": "bc448664-935b-457a-9fc5-11eccc9b65c3",
   "metadata": {},
   "outputs": [
    {
     "name": "stdout",
     "output_type": "stream",
     "text": [
      "No\n"
     ]
    }
   ],
   "source": [
    "word = set()\n",
    "word.add(Wn[0])\n",
    "for i, W in enumerate(Wn[1:], 1):\n",
    "    if W in word:\n",
    "        print('No')\n",
    "        break\n",
    "    if W[0] != Wn[i-1][-1]:\n",
    "        print('No')\n",
    "        break\n",
    "    word.add(W)\n",
    "else:\n",
    "    print('Yes')"
   ]
  },
  {
   "cell_type": "code",
   "execution_count": null,
   "id": "4928098a-6fe1-4d35-a229-648af26d4634",
   "metadata": {},
   "outputs": [],
   "source": []
  }
 ],
 "metadata": {
  "kernelspec": {
   "display_name": "Python 3",
   "language": "python",
   "name": "python3"
  },
  "language_info": {
   "codemirror_mode": {
    "name": "ipython",
    "version": 3
   },
   "file_extension": ".py",
   "mimetype": "text/x-python",
   "name": "python",
   "nbconvert_exporter": "python",
   "pygments_lexer": "ipython3",
   "version": "3.6.13"
  }
 },
 "nbformat": 4,
 "nbformat_minor": 5
}
