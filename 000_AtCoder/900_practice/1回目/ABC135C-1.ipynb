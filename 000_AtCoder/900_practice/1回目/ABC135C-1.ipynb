{
 "cells": [
  {
   "cell_type": "code",
   "execution_count": 31,
   "id": "957cbc91-25f1-4815-a1a0-3fd82768bd56",
   "metadata": {},
   "outputs": [
    {
     "name": "stdin",
     "output_type": "stream",
     "text": [
      " 2\n"
     ]
    }
   ],
   "source": [
    "N = int(input())"
   ]
  },
  {
   "cell_type": "code",
   "execution_count": 40,
   "id": "ac4d55f3-b606-4470-aec8-9f03b33c4767",
   "metadata": {},
   "outputs": [
    {
     "name": "stdin",
     "output_type": "stream",
     "text": [
      " 3 5 2\n"
     ]
    }
   ],
   "source": [
    "An = list(map(int, input().split()))"
   ]
  },
  {
   "cell_type": "code",
   "execution_count": 41,
   "id": "25ff123d-d404-4ef7-80b1-dc771b804fbe",
   "metadata": {},
   "outputs": [
    {
     "name": "stdin",
     "output_type": "stream",
     "text": [
      " 4 5\n"
     ]
    }
   ],
   "source": [
    "Bn = list(map(int, input().split()))"
   ]
  },
  {
   "cell_type": "code",
   "execution_count": 56,
   "id": "3fbac6ac-d946-4841-9931-304d505c6518",
   "metadata": {},
   "outputs": [],
   "source": [
    "ans = 0\n",
    "n = 0\n",
    "for A, B in zip(An, Bn):\n",
    "    ans += min(A, B+n)\n",
    "    n = max(0, B-max(0, A-n))\n",
    "else:\n",
    "    ans += min(n, An[-1])"
   ]
  },
  {
   "cell_type": "code",
   "execution_count": 57,
   "id": "d32361c7-acab-46c5-9a2c-458ddba114a0",
   "metadata": {},
   "outputs": [
    {
     "name": "stdout",
     "output_type": "stream",
     "text": [
      "9\n"
     ]
    }
   ],
   "source": [
    "print(ans)"
   ]
  },
  {
   "cell_type": "code",
   "execution_count": 46,
   "id": "320905af-02a0-4fff-a0f6-f2826e0a0e27",
   "metadata": {},
   "outputs": [
    {
     "data": {
      "text/plain": [
       "([8, 7], [5, 4], 5)"
      ]
     },
     "execution_count": 46,
     "metadata": {},
     "output_type": "execute_result"
    }
   ],
   "source": [
    "An2, Bn_s, n"
   ]
  },
  {
   "cell_type": "code",
   "execution_count": null,
   "id": "6c9d07cc-6593-4066-8fc4-98575b773bab",
   "metadata": {},
   "outputs": [],
   "source": []
  },
  {
   "cell_type": "code",
   "execution_count": 52,
   "id": "f21314e3-26ce-4534-b62b-f20f390c53db",
   "metadata": {},
   "outputs": [],
   "source": [
    "ans = min(An[0], Bn[0])\n",
    "n = max(0, Bn[0]-An[0])\n",
    "for A, B in zip(An[1:], Bn[1:]):\n",
    "    ans += min(A, B+n)\n",
    "    n = max(0, B-max(0, A-n))\n",
    "else:\n",
    "    ans += min(n, An[-1])"
   ]
  }
 ],
 "metadata": {
  "kernelspec": {
   "display_name": "Python 3",
   "language": "python",
   "name": "python3"
  },
  "language_info": {
   "codemirror_mode": {
    "name": "ipython",
    "version": 3
   },
   "file_extension": ".py",
   "mimetype": "text/x-python",
   "name": "python",
   "nbconvert_exporter": "python",
   "pygments_lexer": "ipython3",
   "version": "3.6.13"
  }
 },
 "nbformat": 4,
 "nbformat_minor": 5
}
