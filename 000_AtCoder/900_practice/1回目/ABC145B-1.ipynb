{
 "cells": [
  {
   "cell_type": "code",
   "execution_count": 10,
   "id": "0f9c0de9-0108-4243-bdce-68ef1d70ce9e",
   "metadata": {},
   "outputs": [
    {
     "name": "stdin",
     "output_type": "stream",
     "text": [
      " 1\n"
     ]
    }
   ],
   "source": [
    "N = int(input())"
   ]
  },
  {
   "cell_type": "code",
   "execution_count": 11,
   "id": "69eb660a-89ce-47ad-bbb2-7a0328c19bc2",
   "metadata": {},
   "outputs": [
    {
     "name": "stdin",
     "output_type": "stream",
     "text": [
      " z\n"
     ]
    }
   ],
   "source": [
    "S = input()"
   ]
  },
  {
   "cell_type": "code",
   "execution_count": 13,
   "id": "6a471dca-cc27-4d16-8045-e4fdbb53dbf7",
   "metadata": {},
   "outputs": [
    {
     "name": "stdout",
     "output_type": "stream",
     "text": [
      "No\n"
     ]
    }
   ],
   "source": [
    "if N % 2 == 1:\n",
    "    print('No')\n",
    "else:\n",
    "    for s1, s2 in zip(S[:N//2+1], S[N//2:]):\n",
    "        if s1 != s2:\n",
    "            print('No')\n",
    "            break\n",
    "    else:\n",
    "        print('Yes')"
   ]
  },
  {
   "cell_type": "code",
   "execution_count": null,
   "id": "909c9ebd-cc95-43fb-bcd0-bd9813ce77d8",
   "metadata": {},
   "outputs": [],
   "source": []
  }
 ],
 "metadata": {
  "kernelspec": {
   "display_name": "Python 3",
   "language": "python",
   "name": "python3"
  },
  "language_info": {
   "codemirror_mode": {
    "name": "ipython",
    "version": 3
   },
   "file_extension": ".py",
   "mimetype": "text/x-python",
   "name": "python",
   "nbconvert_exporter": "python",
   "pygments_lexer": "ipython3",
   "version": "3.6.13"
  }
 },
 "nbformat": 4,
 "nbformat_minor": 5
}
