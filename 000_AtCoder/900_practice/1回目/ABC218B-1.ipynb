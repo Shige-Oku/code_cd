{
 "cells": [
  {
   "cell_type": "code",
   "execution_count": 10,
   "id": "2f9cf84f-bcc6-4b7f-baa3-b7fad9156185",
   "metadata": {},
   "outputs": [
    {
     "name": "stdin",
     "output_type": "stream",
     "text": [
      " 5 11 12 16 25 17 18 1 7 10 4 23 20 3 2 24 26 19 14 9 6 22 8 13 15 21\n"
     ]
    }
   ],
   "source": [
    "Pn = list(map(int, input().split()))"
   ]
  },
  {
   "cell_type": "code",
   "execution_count": 11,
   "id": "dc679642-440a-461b-a889-7bcb2f2cc0b5",
   "metadata": {},
   "outputs": [],
   "source": [
    "ans = ''\n",
    "for P in Pn:\n",
    "    ans += chr(ord('a')+P-1)"
   ]
  },
  {
   "cell_type": "code",
   "execution_count": 12,
   "id": "b98424e3-1fd4-407e-bba2-14101458b610",
   "metadata": {},
   "outputs": [
    {
     "name": "stdout",
     "output_type": "stream",
     "text": [
      "eklpyqragjdwtcbxzsnifvhmou\n"
     ]
    }
   ],
   "source": [
    "print(ans)"
   ]
  },
  {
   "cell_type": "code",
   "execution_count": 13,
   "id": "0fcaac0e-2ae3-444b-af58-18ab8f746606",
   "metadata": {},
   "outputs": [],
   "source": [
    "import numpy as np"
   ]
  },
  {
   "cell_type": "code",
   "execution_count": 25,
   "id": "8e3c3603-6bc2-4371-b00b-901e47962467",
   "metadata": {},
   "outputs": [],
   "source": [
    "Pn_n = np.array(Pn)\n",
    "ans = Pn_n + ord('a') - 1\n",
    "ans = [chr(x) for x in ans]"
   ]
  },
  {
   "cell_type": "code",
   "execution_count": 27,
   "id": "cbae613c-d312-479b-a6c2-72f2a85123ff",
   "metadata": {},
   "outputs": [
    {
     "name": "stdout",
     "output_type": "stream",
     "text": [
      "eklpyqragjdwtcbxzsnifvhmou\n"
     ]
    }
   ],
   "source": [
    "print(''.join(ans))"
   ]
  },
  {
   "cell_type": "code",
   "execution_count": null,
   "id": "2afff4c8-c133-464e-a9be-361c01cf355d",
   "metadata": {},
   "outputs": [],
   "source": []
  }
 ],
 "metadata": {
  "kernelspec": {
   "display_name": "Python 3",
   "language": "python",
   "name": "python3"
  },
  "language_info": {
   "codemirror_mode": {
    "name": "ipython",
    "version": 3
   },
   "file_extension": ".py",
   "mimetype": "text/x-python",
   "name": "python",
   "nbconvert_exporter": "python",
   "pygments_lexer": "ipython3",
   "version": "3.6.13"
  }
 },
 "nbformat": 4,
 "nbformat_minor": 5
}
