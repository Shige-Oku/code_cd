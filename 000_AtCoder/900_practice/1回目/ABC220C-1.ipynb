{
 "cells": [
  {
   "cell_type": "code",
   "execution_count": 11,
   "id": "cfb89b95-400b-4cd2-9545-b6acdbc93859",
   "metadata": {},
   "outputs": [
    {
     "name": "stdin",
     "output_type": "stream",
     "text": [
      " 4\n"
     ]
    }
   ],
   "source": [
    "N = int(input())"
   ]
  },
  {
   "cell_type": "code",
   "execution_count": 12,
   "id": "1afae67c-52cc-440c-8835-3db6131cf543",
   "metadata": {},
   "outputs": [
    {
     "name": "stdin",
     "output_type": "stream",
     "text": [
      " 12 34 56 78\n"
     ]
    }
   ],
   "source": [
    "An = list(map(int, input().split()))"
   ]
  },
  {
   "cell_type": "code",
   "execution_count": 13,
   "id": "9419de48-3c92-41d4-8d2f-32be9437929f",
   "metadata": {},
   "outputs": [
    {
     "name": "stdin",
     "output_type": "stream",
     "text": [
      " 1000\n"
     ]
    }
   ],
   "source": [
    "X = int(input())"
   ]
  },
  {
   "cell_type": "code",
   "execution_count": 20,
   "id": "b2239a76-3021-4b28-ac70-008c6f04a2cc",
   "metadata": {},
   "outputs": [],
   "source": [
    "q, r = divmod(X, sum(An))\n",
    "z = 0\n",
    "for i, A in enumerate(An, 1):\n",
    "    z += A\n",
    "    if z > r:\n",
    "        break"
   ]
  },
  {
   "cell_type": "code",
   "execution_count": 21,
   "id": "c3dd9848-9ea6-4816-993e-75bab02ebacc",
   "metadata": {},
   "outputs": [
    {
     "name": "stdout",
     "output_type": "stream",
     "text": [
      "23\n"
     ]
    }
   ],
   "source": [
    "print(q*N + i)"
   ]
  },
  {
   "cell_type": "code",
   "execution_count": null,
   "id": "874aea29-750d-4dd2-889e-bfeaf44d6ab2",
   "metadata": {},
   "outputs": [],
   "source": [
    "# WA"
   ]
  },
  {
   "cell_type": "code",
   "execution_count": 22,
   "id": "69e9e143-547d-48b9-9c8e-1481d46ace1b",
   "metadata": {},
   "outputs": [],
   "source": [
    "q, r = divmod(X, sum(An))\n",
    "if r == 0:\n",
    "    i = 0\n",
    "else:\n",
    "    z = 0\n",
    "    for i, A in enumerate(An, 1):\n",
    "        z += A\n",
    "        if z > r:\n",
    "            break"
   ]
  },
  {
   "cell_type": "code",
   "execution_count": 23,
   "id": "b2d07861-2602-4b2a-b9d5-e435085ace07",
   "metadata": {},
   "outputs": [
    {
     "name": "stdout",
     "output_type": "stream",
     "text": [
      "23\n"
     ]
    }
   ],
   "source": [
    "print(q*N + i)"
   ]
  },
  {
   "cell_type": "code",
   "execution_count": null,
   "id": "fb30070d-5db8-455d-b1f1-0d1cb3048798",
   "metadata": {},
   "outputs": [],
   "source": []
  }
 ],
 "metadata": {
  "kernelspec": {
   "display_name": "Python 3",
   "language": "python",
   "name": "python3"
  },
  "language_info": {
   "codemirror_mode": {
    "name": "ipython",
    "version": 3
   },
   "file_extension": ".py",
   "mimetype": "text/x-python",
   "name": "python",
   "nbconvert_exporter": "python",
   "pygments_lexer": "ipython3",
   "version": "3.6.13"
  }
 },
 "nbformat": 4,
 "nbformat_minor": 5
}
