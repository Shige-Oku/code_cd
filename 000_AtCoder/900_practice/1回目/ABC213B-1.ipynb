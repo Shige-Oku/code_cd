{
 "cells": [
  {
   "cell_type": "code",
   "execution_count": 10,
   "id": "50e4bf3d-a642-46a4-adfe-7ce70872dfe3",
   "metadata": {},
   "outputs": [
    {
     "name": "stdin",
     "output_type": "stream",
     "text": [
      " 5\n"
     ]
    }
   ],
   "source": [
    "N = int(input())"
   ]
  },
  {
   "cell_type": "code",
   "execution_count": 11,
   "id": "0fedd377-4edb-402c-921b-9d8d2dd97a8d",
   "metadata": {},
   "outputs": [
    {
     "name": "stdin",
     "output_type": "stream",
     "text": [
      " 3 1 4 15 9\n"
     ]
    }
   ],
   "source": [
    "An = list(map(int, input().split()))"
   ]
  },
  {
   "cell_type": "code",
   "execution_count": 12,
   "id": "f8d66ce5-144f-4400-9dc0-b2fc38d6f8b3",
   "metadata": {},
   "outputs": [
    {
     "name": "stdout",
     "output_type": "stream",
     "text": [
      "5\n"
     ]
    }
   ],
   "source": [
    "An2 = []\n",
    "for i, A in enumerate(An, 1):\n",
    "    An2.append((A, i))\n",
    "An2_s = sorted(An2, reverse=True)\n",
    "print(An2_s[1][1])"
   ]
  },
  {
   "cell_type": "code",
   "execution_count": 7,
   "id": "bead6bff-92e2-4021-8847-cc8d3646a1d1",
   "metadata": {},
   "outputs": [
    {
     "data": {
      "text/plain": [
       "[(1, 1), (12, 4), (123, 2), (1234, 5), (12345, 3), (123456, 6)]"
      ]
     },
     "execution_count": 7,
     "metadata": {},
     "output_type": "execute_result"
    }
   ],
   "source": [
    "An2_s"
   ]
  },
  {
   "cell_type": "code",
   "execution_count": 13,
   "id": "cdd6f611-5a5f-4d34-8bab-3fac5c874b65",
   "metadata": {},
   "outputs": [],
   "source": [
    "import numpy as np"
   ]
  },
  {
   "cell_type": "code",
   "execution_count": 16,
   "id": "308a8d98-1c02-49f4-875c-a8838b6dc293",
   "metadata": {},
   "outputs": [
    {
     "name": "stdout",
     "output_type": "stream",
     "text": [
      "5\n"
     ]
    }
   ],
   "source": [
    "An_n = np.array(An)\n",
    "print(np.argsort(An)[::-1][1]+1)"
   ]
  },
  {
   "cell_type": "code",
   "execution_count": 19,
   "id": "d25c945e-b594-4e63-943d-15a275d5a8f7",
   "metadata": {},
   "outputs": [
    {
     "data": {
      "text/plain": [
       "4"
      ]
     },
     "execution_count": 19,
     "metadata": {},
     "output_type": "execute_result"
    }
   ],
   "source": [
    "np.argsort(An)[::-1][1]"
   ]
  },
  {
   "cell_type": "code",
   "execution_count": null,
   "id": "ab6b200c-3105-40ed-a46e-44604c5c931c",
   "metadata": {},
   "outputs": [],
   "source": []
  }
 ],
 "metadata": {
  "kernelspec": {
   "display_name": "Python 3",
   "language": "python",
   "name": "python3"
  },
  "language_info": {
   "codemirror_mode": {
    "name": "ipython",
    "version": 3
   },
   "file_extension": ".py",
   "mimetype": "text/x-python",
   "name": "python",
   "nbconvert_exporter": "python",
   "pygments_lexer": "ipython3",
   "version": "3.6.13"
  }
 },
 "nbformat": 4,
 "nbformat_minor": 5
}
