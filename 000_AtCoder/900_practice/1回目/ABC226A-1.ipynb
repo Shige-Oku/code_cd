{
 "cells": [
  {
   "cell_type": "code",
   "execution_count": 16,
   "id": "6c0fc4bc-0af8-46be-9468-4d263e3656ee",
   "metadata": {},
   "outputs": [
    {
     "name": "stdin",
     "output_type": "stream",
     "text": [
      " 0.000\n"
     ]
    }
   ],
   "source": [
    "X = input()"
   ]
  },
  {
   "cell_type": "code",
   "execution_count": 17,
   "id": "3d0a2f7d-eefc-4d03-bd89-184d4c22d005",
   "metadata": {},
   "outputs": [
    {
     "name": "stdout",
     "output_type": "stream",
     "text": [
      "0\n"
     ]
    }
   ],
   "source": [
    "p = X.index('.')\n",
    "x = int(X[:p])\n",
    "print(x + 1 if int(X[p+1]) >= 5 else x)"
   ]
  },
  {
   "cell_type": "code",
   "execution_count": 18,
   "id": "fbad5dc4-7b72-4d7f-8d54-795958617b50",
   "metadata": {},
   "outputs": [
    {
     "name": "stdin",
     "output_type": "stream",
     "text": [
      " 3.456\n"
     ]
    }
   ],
   "source": [
    "X = float(input())"
   ]
  },
  {
   "cell_type": "code",
   "execution_count": 20,
   "id": "a5ed9a51-d45d-4cf9-a357-3a35343004d8",
   "metadata": {},
   "outputs": [
    {
     "name": "stdout",
     "output_type": "stream",
     "text": [
      "3\n"
     ]
    }
   ],
   "source": [
    "X10 = X * 10\n",
    "print(int(X)+1 if X10 % 10 >= 5 else int(X))"
   ]
  },
  {
   "cell_type": "code",
   "execution_count": 21,
   "id": "3b82d6ed-aba0-4097-a3ca-44a895bccd2f",
   "metadata": {},
   "outputs": [
    {
     "name": "stdout",
     "output_type": "stream",
     "text": [
      "3\n"
     ]
    }
   ],
   "source": [
    "X += 0.5\n",
    "print(int(X))"
   ]
  },
  {
   "cell_type": "code",
   "execution_count": null,
   "id": "21a12b8b-f331-4bc9-b3ce-a9df31c39402",
   "metadata": {},
   "outputs": [],
   "source": []
  }
 ],
 "metadata": {
  "kernelspec": {
   "display_name": "Python 3",
   "language": "python",
   "name": "python3"
  },
  "language_info": {
   "codemirror_mode": {
    "name": "ipython",
    "version": 3
   },
   "file_extension": ".py",
   "mimetype": "text/x-python",
   "name": "python",
   "nbconvert_exporter": "python",
   "pygments_lexer": "ipython3",
   "version": "3.6.13"
  }
 },
 "nbformat": 4,
 "nbformat_minor": 5
}
