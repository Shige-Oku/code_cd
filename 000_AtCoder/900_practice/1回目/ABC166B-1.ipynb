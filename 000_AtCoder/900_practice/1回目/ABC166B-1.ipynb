{
 "cells": [
  {
   "cell_type": "code",
   "execution_count": 1,
   "id": "791323b7-d626-42a1-9937-00965c02c8cb",
   "metadata": {},
   "outputs": [
    {
     "name": "stdin",
     "output_type": "stream",
     "text": [
      " 3 2\n"
     ]
    }
   ],
   "source": [
    "N, K = map(int, input().split())"
   ]
  },
  {
   "cell_type": "code",
   "execution_count": 7,
   "id": "219a6561-fab2-4e49-89ca-8f09cdd98420",
   "metadata": {},
   "outputs": [
    {
     "name": "stdin",
     "output_type": "stream",
     "text": [
      " 2\n",
      " 1 3\n",
      " 1\n",
      " 3\n"
     ]
    }
   ],
   "source": [
    "An = []\n",
    "for i in range(K):\n",
    "    D = int(input())\n",
    "    An.append(list(map(int, input().split())))"
   ]
  },
  {
   "cell_type": "code",
   "execution_count": 9,
   "id": "0217d153-6932-4dc1-8336-d4431ee65e0f",
   "metadata": {},
   "outputs": [],
   "source": [
    "cnt = [0] * N\n",
    "for A in An:\n",
    "    for a in A:\n",
    "        cnt[a-1] += 1"
   ]
  },
  {
   "cell_type": "code",
   "execution_count": 11,
   "id": "3678d234-471b-4ebc-9a80-fecfc12a1f45",
   "metadata": {},
   "outputs": [],
   "source": [
    "ans = 0\n",
    "for c in cnt:\n",
    "    if c == 0:\n",
    "        ans += 1"
   ]
  },
  {
   "cell_type": "code",
   "execution_count": 12,
   "id": "9fbc856b-e824-4414-9e6e-3ab8d98655a2",
   "metadata": {},
   "outputs": [
    {
     "name": "stdout",
     "output_type": "stream",
     "text": [
      "1\n"
     ]
    }
   ],
   "source": [
    "print(ans)"
   ]
  },
  {
   "cell_type": "code",
   "execution_count": 10,
   "id": "2a7da8ff-9c62-4308-bf6c-faa313965963",
   "metadata": {},
   "outputs": [
    {
     "data": {
      "text/plain": [
       "[1, 0, 2]"
      ]
     },
     "execution_count": 10,
     "metadata": {},
     "output_type": "execute_result"
    }
   ],
   "source": [
    "cnt"
   ]
  },
  {
   "cell_type": "code",
   "execution_count": 13,
   "id": "510dafd1-0c7e-4582-8e17-a0ad40859090",
   "metadata": {},
   "outputs": [],
   "source": [
    "import collections"
   ]
  },
  {
   "cell_type": "code",
   "execution_count": 14,
   "id": "f7235164-3918-4544-9d4f-9c609408015e",
   "metadata": {},
   "outputs": [],
   "source": [
    "cnt = [0] * N\n",
    "for A in An:\n",
    "    for a in A:\n",
    "        cnt[a-1] += 1"
   ]
  },
  {
   "cell_type": "code",
   "execution_count": 15,
   "id": "6134527b-4c63-437d-9c75-1cb70de7c2ba",
   "metadata": {},
   "outputs": [
    {
     "name": "stdout",
     "output_type": "stream",
     "text": [
      "1\n"
     ]
    }
   ],
   "source": [
    "cnt_c = collections.Counter(cnt)\n",
    "print(cnt_c[0])"
   ]
  },
  {
   "cell_type": "code",
   "execution_count": 16,
   "id": "44afb9cf-d62a-40aa-a4fe-45f9d71294e7",
   "metadata": {},
   "outputs": [],
   "source": [
    "s = set()\n",
    "for A in An:\n",
    "    for a in A:\n",
    "        s.add(a)"
   ]
  },
  {
   "cell_type": "code",
   "execution_count": 20,
   "id": "362e7a2c-d4a4-44ae-92d9-b4553655279f",
   "metadata": {},
   "outputs": [
    {
     "name": "stdout",
     "output_type": "stream",
     "text": [
      "1\n"
     ]
    }
   ],
   "source": [
    "print(len(set(range(1, N+1)) - s))"
   ]
  },
  {
   "cell_type": "code",
   "execution_count": 21,
   "id": "98d3d579-c818-422e-8c66-bb724c420db2",
   "metadata": {},
   "outputs": [
    {
     "name": "stdout",
     "output_type": "stream",
     "text": [
      "1\n"
     ]
    }
   ],
   "source": [
    "print(N-len(s))"
   ]
  },
  {
   "cell_type": "code",
   "execution_count": null,
   "id": "90714237-c3de-421c-a4c9-d13fd64e4ff5",
   "metadata": {},
   "outputs": [],
   "source": []
  }
 ],
 "metadata": {
  "kernelspec": {
   "display_name": "Python 3",
   "language": "python",
   "name": "python3"
  },
  "language_info": {
   "codemirror_mode": {
    "name": "ipython",
    "version": 3
   },
   "file_extension": ".py",
   "mimetype": "text/x-python",
   "name": "python",
   "nbconvert_exporter": "python",
   "pygments_lexer": "ipython3",
   "version": "3.6.13"
  }
 },
 "nbformat": 4,
 "nbformat_minor": 5
}
