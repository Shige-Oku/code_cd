{
 "cells": [
  {
   "cell_type": "code",
   "execution_count": 15,
   "id": "88c0f0d6-ead1-4f51-8eea-819fb02973e3",
   "metadata": {},
   "outputs": [
    {
     "name": "stdin",
     "output_type": "stream",
     "text": [
      " ABC\n"
     ]
    }
   ],
   "source": [
    "S = input()"
   ]
  },
  {
   "cell_type": "code",
   "execution_count": 16,
   "id": "5a3412ff-8c6c-49be-8b8e-be2b3b352b58",
   "metadata": {},
   "outputs": [],
   "source": [
    "sf, lf = False, False\n",
    "for s in S:\n",
    "    if s.islower():\n",
    "        sf = True\n",
    "    if s.isupper():\n",
    "        lf = True"
   ]
  },
  {
   "cell_type": "code",
   "execution_count": 17,
   "id": "b7817a9a-dd99-4532-8ad7-a1649736a787",
   "metadata": {},
   "outputs": [
    {
     "name": "stdout",
     "output_type": "stream",
     "text": [
      "No\n"
     ]
    }
   ],
   "source": [
    "import collections\n",
    "S_c = collections.Counter(S)\n",
    "if sf and lf and (len(S) == len(S_c)):\n",
    "    print('Yes')\n",
    "else:\n",
    "    print('No')"
   ]
  },
  {
   "cell_type": "code",
   "execution_count": 5,
   "id": "a0b97986-cff1-4e98-8336-888fc3cdaa31",
   "metadata": {},
   "outputs": [
    {
     "data": {
      "text/plain": [
       "Counter({'A': 1, 't': 1, 'C': 1, 'o': 1, 'd': 1, 'e': 1, 'r': 1})"
      ]
     },
     "execution_count": 5,
     "metadata": {},
     "output_type": "execute_result"
    }
   ],
   "source": [
    "S_c"
   ]
  },
  {
   "cell_type": "code",
   "execution_count": null,
   "id": "30c4a323-5f78-4746-b2ed-0b628ff5847b",
   "metadata": {},
   "outputs": [],
   "source": []
  }
 ],
 "metadata": {
  "kernelspec": {
   "display_name": "Python 3",
   "language": "python",
   "name": "python3"
  },
  "language_info": {
   "codemirror_mode": {
    "name": "ipython",
    "version": 3
   },
   "file_extension": ".py",
   "mimetype": "text/x-python",
   "name": "python",
   "nbconvert_exporter": "python",
   "pygments_lexer": "ipython3",
   "version": "3.6.13"
  }
 },
 "nbformat": 4,
 "nbformat_minor": 5
}
