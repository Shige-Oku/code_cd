{
 "cells": [
  {
   "cell_type": "code",
   "execution_count": 9,
   "id": "6aa5848d-0663-4871-a3b4-52307ca072f0",
   "metadata": {},
   "outputs": [],
   "source": [
    "import decimal"
   ]
  },
  {
   "cell_type": "code",
   "execution_count": 14,
   "id": "05b90c56-e3e4-4af1-aa36-d5dcf3dd5949",
   "metadata": {},
   "outputs": [
    {
     "name": "stdin",
     "output_type": "stream",
     "text": [
      " 0\n"
     ]
    }
   ],
   "source": [
    "X = input()"
   ]
  },
  {
   "cell_type": "code",
   "execution_count": 15,
   "id": "a593e30c-9b06-4d03-be78-a780bfc64c3a",
   "metadata": {},
   "outputs": [
    {
     "name": "stdout",
     "output_type": "stream",
     "text": [
      "0\n"
     ]
    }
   ],
   "source": [
    "print(int(decimal.Decimal(X)))"
   ]
  },
  {
   "cell_type": "code",
   "execution_count": 16,
   "id": "382e211b-8005-4f44-b46a-f29b89908ae6",
   "metadata": {},
   "outputs": [
    {
     "name": "stdout",
     "output_type": "stream",
     "text": [
      "0\n"
     ]
    }
   ],
   "source": [
    "p = X.find('.')\n",
    "if p >= 0:\n",
    "    print(int(X[:p]))\n",
    "else:\n",
    "    print(int(X))\n"
   ]
  },
  {
   "cell_type": "code",
   "execution_count": 17,
   "id": "f3260209-939d-41a0-b7c6-b419f6e1c137",
   "metadata": {},
   "outputs": [
    {
     "data": {
      "text/plain": [
       "-1"
      ]
     },
     "execution_count": 17,
     "metadata": {},
     "output_type": "execute_result"
    }
   ],
   "source": [
    "'0'.find('.')"
   ]
  },
  {
   "cell_type": "code",
   "execution_count": null,
   "id": "77d77a35-0903-44db-bc8b-78da53bfdc0d",
   "metadata": {},
   "outputs": [],
   "source": []
  }
 ],
 "metadata": {
  "kernelspec": {
   "display_name": "Python 3",
   "language": "python",
   "name": "python3"
  },
  "language_info": {
   "codemirror_mode": {
    "name": "ipython",
    "version": 3
   },
   "file_extension": ".py",
   "mimetype": "text/x-python",
   "name": "python",
   "nbconvert_exporter": "python",
   "pygments_lexer": "ipython3",
   "version": "3.6.13"
  }
 },
 "nbformat": 4,
 "nbformat_minor": 5
}
