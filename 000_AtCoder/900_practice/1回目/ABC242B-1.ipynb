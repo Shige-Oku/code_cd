{
 "cells": [
  {
   "cell_type": "code",
   "execution_count": 14,
   "id": "15456b92-c582-4085-8acf-1a09ee68ebd2",
   "metadata": {},
   "outputs": [
    {
     "name": "stdin",
     "output_type": "stream",
     "text": [
      " aba\n"
     ]
    }
   ],
   "source": [
    "S = input()"
   ]
  },
  {
   "cell_type": "code",
   "execution_count": 15,
   "id": "ad3e20eb-db6c-4aad-9e5b-59ac6d55871c",
   "metadata": {},
   "outputs": [
    {
     "name": "stdout",
     "output_type": "stream",
     "text": [
      "aab\n"
     ]
    }
   ],
   "source": [
    "print(''.join(sorted(S)))"
   ]
  },
  {
   "cell_type": "code",
   "execution_count": 16,
   "id": "5682b776-fbd5-4fcd-bfb5-fd85c3f37945",
   "metadata": {},
   "outputs": [
    {
     "name": "stdout",
     "output_type": "stream",
     "text": [
      "aab"
     ]
    }
   ],
   "source": [
    "cnt = [0] * 26\n",
    "for s in S:\n",
    "    cnt[ord(s)-ord('a')] += 1\n",
    "for i, c in enumerate(cnt):\n",
    "    print(chr(ord('a')+i)*c, sep='', end='')"
   ]
  },
  {
   "cell_type": "code",
   "execution_count": 17,
   "id": "2b3f967c-1aa6-4ce9-8026-0f028f228624",
   "metadata": {},
   "outputs": [
    {
     "data": {
      "text/plain": [
       "[2, 1, 0, 0, 0, 0, 0, 0, 0, 0, 0, 0, 0, 0, 0, 0, 0, 0, 0, 0, 0, 0, 0, 0, 0, 0]"
      ]
     },
     "execution_count": 17,
     "metadata": {},
     "output_type": "execute_result"
    }
   ],
   "source": [
    "cnt"
   ]
  },
  {
   "cell_type": "code",
   "execution_count": null,
   "id": "48d53998-fc6d-40cb-9fd3-2c35f7777a46",
   "metadata": {},
   "outputs": [],
   "source": []
  }
 ],
 "metadata": {
  "kernelspec": {
   "display_name": "Python 3",
   "language": "python",
   "name": "python3"
  },
  "language_info": {
   "codemirror_mode": {
    "name": "ipython",
    "version": 3
   },
   "file_extension": ".py",
   "mimetype": "text/x-python",
   "name": "python",
   "nbconvert_exporter": "python",
   "pygments_lexer": "ipython3",
   "version": "3.6.13"
  }
 },
 "nbformat": 4,
 "nbformat_minor": 5
}
