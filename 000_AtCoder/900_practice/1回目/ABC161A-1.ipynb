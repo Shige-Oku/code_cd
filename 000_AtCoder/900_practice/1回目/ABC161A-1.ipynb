{
 "cells": [
  {
   "cell_type": "code",
   "execution_count": 8,
   "id": "b31f3216-06a3-4369-ba3e-8431eb40358d",
   "metadata": {},
   "outputs": [
    {
     "name": "stdin",
     "output_type": "stream",
     "text": [
      " 41 59 31\n"
     ]
    }
   ],
   "source": [
    "X, Y, Z = map(int, input().split())"
   ]
  },
  {
   "cell_type": "code",
   "execution_count": 9,
   "id": "83cbbea8-9c11-46bc-bd5a-e4f572999ebd",
   "metadata": {},
   "outputs": [],
   "source": [
    "A, B, C = X, Y, Z\n",
    "A, B = B, A\n",
    "A, C = C, A"
   ]
  },
  {
   "cell_type": "code",
   "execution_count": 10,
   "id": "96dbab3b-7e49-40e9-b9fc-011e5001bd4f",
   "metadata": {},
   "outputs": [
    {
     "name": "stdout",
     "output_type": "stream",
     "text": [
      "31 41 59\n"
     ]
    }
   ],
   "source": [
    "print(A, B, C)"
   ]
  },
  {
   "cell_type": "code",
   "execution_count": null,
   "id": "c2a4475b-18e3-4e82-b896-b2ce7aa049c6",
   "metadata": {},
   "outputs": [],
   "source": []
  },
  {
   "cell_type": "code",
   "execution_count": null,
   "id": "fc1a8bb4-9690-47ed-a999-0491ec4c3a50",
   "metadata": {},
   "outputs": [],
   "source": []
  }
 ],
 "metadata": {
  "kernelspec": {
   "display_name": "Python 3",
   "language": "python",
   "name": "python3"
  },
  "language_info": {
   "codemirror_mode": {
    "name": "ipython",
    "version": 3
   },
   "file_extension": ".py",
   "mimetype": "text/x-python",
   "name": "python",
   "nbconvert_exporter": "python",
   "pygments_lexer": "ipython3",
   "version": "3.6.13"
  }
 },
 "nbformat": 4,
 "nbformat_minor": 5
}
