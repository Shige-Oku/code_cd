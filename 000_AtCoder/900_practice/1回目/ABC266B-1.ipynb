{
 "cells": [
  {
   "cell_type": "code",
   "execution_count": 31,
   "id": "6c3acb91-798f-4722-8ab8-b0918c16c7b1",
   "metadata": {},
   "outputs": [
    {
     "name": "stdin",
     "output_type": "stream",
     "text": [
      " 0101110101\n"
     ]
    }
   ],
   "source": [
    "S = input()"
   ]
  },
  {
   "cell_type": "code",
   "execution_count": 32,
   "id": "83f5f206-f689-4614-b40d-b5fcd4c48288",
   "metadata": {},
   "outputs": [],
   "source": [
    "col = [False] * 7\n",
    "p = [4, 3, 5, 2, 4, 6, 1, 3, 5, 7]\n",
    "for i, s in enumerate(S):\n",
    "    if s == '1':\n",
    "        col[p[i]-1] = True"
   ]
  },
  {
   "cell_type": "code",
   "execution_count": 33,
   "id": "d4a6057e-a340-4db5-aa44-a1640c751b94",
   "metadata": {},
   "outputs": [],
   "source": [
    "def myCheck():\n",
    "    if S[0] == '1':\n",
    "        return False\n",
    "    s = 0\n",
    "    for i in range(len(col)):\n",
    "        if col[i]:\n",
    "            if s in (0, 2):\n",
    "                s += 1\n",
    "        else:\n",
    "            if s in (1, 3):\n",
    "                if not col[i]:\n",
    "                    s += 1\n",
    "        if s >= 3:\n",
    "            return True\n",
    "    return False"
   ]
  },
  {
   "cell_type": "code",
   "execution_count": 34,
   "id": "13eacc42-1bd0-4705-9210-9b30ed90f697",
   "metadata": {},
   "outputs": [
    {
     "name": "stdout",
     "output_type": "stream",
     "text": [
      "Yes\n"
     ]
    }
   ],
   "source": [
    "print('Yes' if myCheck() else 'No')"
   ]
  },
  {
   "cell_type": "code",
   "execution_count": 18,
   "id": "24f40a14-a1b9-4eb3-9221-ffed4203f39c",
   "metadata": {},
   "outputs": [
    {
     "data": {
      "text/plain": [
       "[False, False, True, True, True, False, False]"
      ]
     },
     "execution_count": 18,
     "metadata": {},
     "output_type": "execute_result"
    }
   ],
   "source": [
    "col"
   ]
  },
  {
   "cell_type": "code",
   "execution_count": null,
   "id": "f8cbc1df-bf10-4d56-917d-6c29ff991db0",
   "metadata": {},
   "outputs": [],
   "source": []
  }
 ],
 "metadata": {
  "kernelspec": {
   "display_name": "Python 3",
   "language": "python",
   "name": "python3"
  },
  "language_info": {
   "codemirror_mode": {
    "name": "ipython",
    "version": 3
   },
   "file_extension": ".py",
   "mimetype": "text/x-python",
   "name": "python",
   "nbconvert_exporter": "python",
   "pygments_lexer": "ipython3",
   "version": "3.6.13"
  }
 },
 "nbformat": 4,
 "nbformat_minor": 5
}
