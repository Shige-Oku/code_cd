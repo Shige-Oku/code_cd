{
 "cells": [
  {
   "cell_type": "code",
   "execution_count": 1,
   "id": "c1bf72df-a5aa-4241-b5df-ed05764250e8",
   "metadata": {},
   "outputs": [
    {
     "name": "stdin",
     "output_type": "stream",
     "text": [
      " 2 3\n"
     ]
    }
   ],
   "source": [
    "H, W = map(int, input().split())"
   ]
  },
  {
   "cell_type": "code",
   "execution_count": 2,
   "id": "ef706186-b361-4ed5-9cb4-f26329152261",
   "metadata": {},
   "outputs": [
    {
     "name": "stdin",
     "output_type": "stream",
     "text": [
      " RDU\n",
      " LRU\n"
     ]
    }
   ],
   "source": [
    "Gn = [input() for _ in range(H)]"
   ]
  },
  {
   "cell_type": "code",
   "execution_count": 5,
   "id": "c5446f40-4efc-4a2d-804c-943b27cf4a01",
   "metadata": {},
   "outputs": [
    {
     "name": "stdout",
     "output_type": "stream",
     "text": [
      "1 3\n"
     ]
    }
   ],
   "source": [
    "visit = [[False] * W for _ in range(H)]\n",
    "visit[0][0] = True\n",
    "h, w = 0, 0\n",
    "while True:\n",
    "    h2, w2 = 0, 0\n",
    "    if Gn[h][w] == 'U':\n",
    "        h2 -= 1\n",
    "    elif Gn[h][w] == 'D':\n",
    "        h2 += 1\n",
    "    elif Gn[h][w] == 'L':\n",
    "        w2 -= 1\n",
    "    else:\n",
    "        w2 += 1\n",
    "    if h + h2 < 0 or  h + h2 >= H or w + w2 < 0 or w + w2 >= W:\n",
    "        print(h+1, w+1)\n",
    "        break\n",
    "    if visit[h+h2][w+w2]:\n",
    "        print(-1)\n",
    "        break\n",
    "    h += h2\n",
    "    w += w2\n",
    "    visit[h][w] = True"
   ]
  },
  {
   "cell_type": "code",
   "execution_count": null,
   "id": "c3aed3d8-2fe6-4897-9a9c-dc3444777c56",
   "metadata": {},
   "outputs": [],
   "source": []
  }
 ],
 "metadata": {
  "kernelspec": {
   "display_name": "Python 3",
   "language": "python",
   "name": "python3"
  },
  "language_info": {
   "codemirror_mode": {
    "name": "ipython",
    "version": 3
   },
   "file_extension": ".py",
   "mimetype": "text/x-python",
   "name": "python",
   "nbconvert_exporter": "python",
   "pygments_lexer": "ipython3",
   "version": "3.6.13"
  }
 },
 "nbformat": 4,
 "nbformat_minor": 5
}
