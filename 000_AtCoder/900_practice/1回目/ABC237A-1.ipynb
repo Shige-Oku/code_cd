{
 "cells": [
  {
   "cell_type": "code",
   "execution_count": 9,
   "id": "79ad9253-b560-4b51-b5b0-3b37b8e3c2e7",
   "metadata": {},
   "outputs": [
    {
     "name": "stdin",
     "output_type": "stream",
     "text": [
      " -4294967296\n"
     ]
    }
   ],
   "source": [
    "N = int(input())"
   ]
  },
  {
   "cell_type": "code",
   "execution_count": 23,
   "id": "1c03f091-3131-4223-8a15-40a10cd6eaef",
   "metadata": {},
   "outputs": [
    {
     "name": "stdout",
     "output_type": "stream",
     "text": [
      "No\n"
     ]
    }
   ],
   "source": [
    "print('Yes' if -2**31 <= N < 2**31 else 'No')"
   ]
  },
  {
   "cell_type": "code",
   "execution_count": 8,
   "id": "dcc28bc4-2e0f-403b-880c-c8b1cbfca413",
   "metadata": {},
   "outputs": [
    {
     "data": {
      "text/plain": [
       "(-4294967296, 4294967296)"
      ]
     },
     "execution_count": 8,
     "metadata": {},
     "output_type": "execute_result"
    }
   ],
   "source": [
    "-2**32, 2**32"
   ]
  },
  {
   "cell_type": "code",
   "execution_count": 11,
   "id": "2a85983e-ec33-48e6-a84f-95e5494f8baa",
   "metadata": {},
   "outputs": [
    {
     "data": {
      "text/plain": [
       "-4294967296"
      ]
     },
     "execution_count": 11,
     "metadata": {},
     "output_type": "execute_result"
    }
   ],
   "source": [
    "N"
   ]
  },
  {
   "cell_type": "code",
   "execution_count": 20,
   "id": "ecccc131-480e-40ec-b57f-54ee6d14bd20",
   "metadata": {},
   "outputs": [
    {
     "data": {
      "text/plain": [
       "False"
      ]
     },
     "execution_count": 20,
     "metadata": {},
     "output_type": "execute_result"
    }
   ],
   "source": [
    "Decimal(-2**31) <= Decimal(N)"
   ]
  },
  {
   "cell_type": "code",
   "execution_count": 21,
   "id": "a24a3ab8-742b-41c6-86f7-633bc814da9e",
   "metadata": {},
   "outputs": [
    {
     "data": {
      "text/plain": [
       "False"
      ]
     },
     "execution_count": 21,
     "metadata": {},
     "output_type": "execute_result"
    }
   ],
   "source": [
    "pow(-2, 31) <= N"
   ]
  },
  {
   "cell_type": "code",
   "execution_count": 24,
   "id": "1c5fc04a-4240-4fa6-a909-1e761c156d2a",
   "metadata": {},
   "outputs": [
    {
     "name": "stdout",
     "output_type": "stream",
     "text": [
      "No\n"
     ]
    }
   ],
   "source": [
    "if (-2)**31 <= N < 2**31:\n",
    "    print('Yes')\n",
    "else:\n",
    "    print('No')"
   ]
  },
  {
   "cell_type": "code",
   "execution_count": null,
   "id": "74a83f55-08d5-4c6f-84a0-6dfc1802580d",
   "metadata": {},
   "outputs": [],
   "source": []
  }
 ],
 "metadata": {
  "kernelspec": {
   "display_name": "Python 3",
   "language": "python",
   "name": "python3"
  },
  "language_info": {
   "codemirror_mode": {
    "name": "ipython",
    "version": 3
   },
   "file_extension": ".py",
   "mimetype": "text/x-python",
   "name": "python",
   "nbconvert_exporter": "python",
   "pygments_lexer": "ipython3",
   "version": "3.6.13"
  }
 },
 "nbformat": 4,
 "nbformat_minor": 5
}
