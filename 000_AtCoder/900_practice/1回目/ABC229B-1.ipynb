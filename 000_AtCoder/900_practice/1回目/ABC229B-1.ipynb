{
 "cells": [
  {
   "cell_type": "code",
   "execution_count": 7,
   "id": "f9feba70-a5ee-40b2-9fbf-e7199c142811",
   "metadata": {},
   "outputs": [
    {
     "name": "stdin",
     "output_type": "stream",
     "text": [
      " 111  23456\n"
     ]
    }
   ],
   "source": [
    "A, B = input().split()"
   ]
  },
  {
   "cell_type": "code",
   "execution_count": 8,
   "id": "b9b56e06-993f-447e-abc9-f13df93d4fd7",
   "metadata": {},
   "outputs": [
    {
     "name": "stdout",
     "output_type": "stream",
     "text": [
      "Easy\n"
     ]
    }
   ],
   "source": [
    "for a, b in zip(A[::-1], B[::-1]):\n",
    "    if int(a) + int(b) >= 10:\n",
    "        print('Hard')\n",
    "        break\n",
    "else:\n",
    "    print('Easy')"
   ]
  },
  {
   "cell_type": "code",
   "execution_count": 20,
   "id": "1e78161a-2f80-4a03-a654-d775ededbd2c",
   "metadata": {},
   "outputs": [
    {
     "name": "stdin",
     "output_type": "stream",
     "text": [
      " 229 390\n"
     ]
    }
   ],
   "source": [
    "A, B = map(int, input().split())"
   ]
  },
  {
   "cell_type": "code",
   "execution_count": 21,
   "id": "ea6face6-5baa-4ab6-abac-2a4aab71196c",
   "metadata": {},
   "outputs": [
    {
     "name": "stdout",
     "output_type": "stream",
     "text": [
      "Hard\n"
     ]
    }
   ],
   "source": [
    "bu = 10\n",
    "a, b = A, B\n",
    "while a > 0 and b > 0:\n",
    "    if a % bu + b % bu >= 10:\n",
    "        print('Hard')\n",
    "        break\n",
    "    a //= bu\n",
    "    b //= bu\n",
    "else:\n",
    "    print('Easy')"
   ]
  },
  {
   "cell_type": "code",
   "execution_count": null,
   "id": "e2bec432-8755-4195-aa38-c3f991db1fd5",
   "metadata": {},
   "outputs": [],
   "source": []
  }
 ],
 "metadata": {
  "kernelspec": {
   "display_name": "Python 3",
   "language": "python",
   "name": "python3"
  },
  "language_info": {
   "codemirror_mode": {
    "name": "ipython",
    "version": 3
   },
   "file_extension": ".py",
   "mimetype": "text/x-python",
   "name": "python",
   "nbconvert_exporter": "python",
   "pygments_lexer": "ipython3",
   "version": "3.6.13"
  }
 },
 "nbformat": 4,
 "nbformat_minor": 5
}
