{
 "cells": [
  {
   "cell_type": "code",
   "execution_count": 18,
   "id": "7e17acbf-d0a9-4509-baf4-657fddb506a1",
   "metadata": {},
   "outputs": [
    {
     "name": "stdin",
     "output_type": "stream",
     "text": [
      " 3\n"
     ]
    }
   ],
   "source": [
    "N = int(input())"
   ]
  },
  {
   "cell_type": "code",
   "execution_count": 19,
   "id": "5634eefc-0b2e-4da8-8e58-b8711abd7a8f",
   "metadata": {},
   "outputs": [
    {
     "name": "stdin",
     "output_type": "stream",
     "text": [
      " 101 9901 999999000001\n"
     ]
    }
   ],
   "source": [
    "An = list(map(int, input().split()))"
   ]
  },
  {
   "cell_type": "code",
   "execution_count": 20,
   "id": "6c93adf8-bea0-4784-8835-6ece4a9a005b",
   "metadata": {},
   "outputs": [],
   "source": [
    "def solve():\n",
    "    if 0 in An:\n",
    "        return 0\n",
    "    ret = 1\n",
    "    for A in An:\n",
    "        ret *= A\n",
    "        if ret > 10**18:\n",
    "            return(-1)\n",
    "            break\n",
    "    else:\n",
    "        return(ret)    "
   ]
  },
  {
   "cell_type": "code",
   "execution_count": 21,
   "id": "7fc670d2-0a3b-4394-a8a0-2ca2f5b09e7f",
   "metadata": {},
   "outputs": [
    {
     "name": "stdout",
     "output_type": "stream",
     "text": [
      "-1\n"
     ]
    }
   ],
   "source": [
    "print(solve())"
   ]
  },
  {
   "cell_type": "code",
   "execution_count": null,
   "id": "ac60f678-e005-4a73-bf1a-71727955e1e6",
   "metadata": {},
   "outputs": [],
   "source": []
  }
 ],
 "metadata": {
  "kernelspec": {
   "display_name": "Python 3",
   "language": "python",
   "name": "python3"
  },
  "language_info": {
   "codemirror_mode": {
    "name": "ipython",
    "version": 3
   },
   "file_extension": ".py",
   "mimetype": "text/x-python",
   "name": "python",
   "nbconvert_exporter": "python",
   "pygments_lexer": "ipython3",
   "version": "3.6.13"
  }
 },
 "nbformat": 4,
 "nbformat_minor": 5
}
