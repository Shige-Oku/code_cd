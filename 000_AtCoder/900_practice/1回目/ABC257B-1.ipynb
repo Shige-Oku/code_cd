{
 "cells": [
  {
   "cell_type": "code",
   "execution_count": 26,
   "id": "346ad201-8671-408c-80ab-b9ad21f53f5e",
   "metadata": {},
   "outputs": [
    {
     "name": "stdin",
     "output_type": "stream",
     "text": [
      " 10 6 9\n"
     ]
    }
   ],
   "source": [
    "N, K, Q = map(int, input().split())"
   ]
  },
  {
   "cell_type": "code",
   "execution_count": 27,
   "id": "643095cb-f15c-47e8-a54a-68e52ec2d66b",
   "metadata": {},
   "outputs": [
    {
     "name": "stdin",
     "output_type": "stream",
     "text": [
      " 1 3 5 7 8 9\n"
     ]
    }
   ],
   "source": [
    "An = list(map(int, input().split()))"
   ]
  },
  {
   "cell_type": "code",
   "execution_count": 28,
   "id": "eaf98573-4700-41d4-b9ea-0cadb62cebe6",
   "metadata": {},
   "outputs": [
    {
     "name": "stdin",
     "output_type": "stream",
     "text": [
      " 1 2 3 4 5 6 5 6 2\n"
     ]
    }
   ],
   "source": [
    "Ln = list(map(int, input().split()))"
   ]
  },
  {
   "cell_type": "code",
   "execution_count": 29,
   "id": "129283b5-e6a5-46c8-804f-1308964e62b0",
   "metadata": {},
   "outputs": [],
   "source": [
    "def getPos(n):\n",
    "    for i in range(1, N+1):\n",
    "        if num[i] == n:\n",
    "            return i\n"
   ]
  },
  {
   "cell_type": "code",
   "execution_count": 30,
   "id": "ca0ae2f8-b481-47aa-ad7f-6fc83151ac16",
   "metadata": {},
   "outputs": [],
   "source": [
    "num = [0] * (N+1)\n",
    "for A in An:\n",
    "    num[A] = A\n",
    "for L in Ln:\n",
    "    p = getPos(An[L-1])\n",
    "    if p >= N:\n",
    "        continue\n",
    "    if num[p+1] != 0:\n",
    "        continue\n",
    "    num[p+1] = num[p]\n",
    "    num[p] = 0"
   ]
  },
  {
   "cell_type": "code",
   "execution_count": 31,
   "id": "98520e0b-189b-4350-b13b-e806312f0399",
   "metadata": {},
   "outputs": [
    {
     "name": "stdout",
     "output_type": "stream",
     "text": [
      "2 5 6 7 9 10 "
     ]
    }
   ],
   "source": [
    "for i, n in enumerate(num):\n",
    "    if n != 0:\n",
    "        print(i, end=' ')"
   ]
  },
  {
   "cell_type": "code",
   "execution_count": 32,
   "id": "354d3b62-3f9f-4bef-bf7d-0a94f0fe479a",
   "metadata": {},
   "outputs": [
    {
     "data": {
      "text/plain": [
       "[0, 0, 1, 0, 0, 3, 5, 7, 0, 8, 9]"
      ]
     },
     "execution_count": 32,
     "metadata": {},
     "output_type": "execute_result"
    }
   ],
   "source": [
    "num"
   ]
  },
  {
   "cell_type": "code",
   "execution_count": null,
   "id": "973e8bd5-1247-4545-8c80-414d245e233e",
   "metadata": {},
   "outputs": [],
   "source": []
  }
 ],
 "metadata": {
  "kernelspec": {
   "display_name": "Python 3",
   "language": "python",
   "name": "python3"
  },
  "language_info": {
   "codemirror_mode": {
    "name": "ipython",
    "version": 3
   },
   "file_extension": ".py",
   "mimetype": "text/x-python",
   "name": "python",
   "nbconvert_exporter": "python",
   "pygments_lexer": "ipython3",
   "version": "3.6.13"
  }
 },
 "nbformat": 4,
 "nbformat_minor": 5
}
