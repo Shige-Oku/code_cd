{
 "cells": [
  {
   "cell_type": "code",
   "execution_count": 8,
   "id": "a1b075b5-1073-427e-99fc-99fd3c93147d",
   "metadata": {},
   "outputs": [
    {
     "name": "stdin",
     "output_type": "stream",
     "text": [
      " 3 90\n"
     ]
    }
   ],
   "source": [
    "N, P = map(int, input().split())"
   ]
  },
  {
   "cell_type": "code",
   "execution_count": 9,
   "id": "1f8620e1-6d0d-461b-96a1-bc9a7d77bdc9",
   "metadata": {},
   "outputs": [
    {
     "name": "stdin",
     "output_type": "stream",
     "text": [
      " 89 89 89\n"
     ]
    }
   ],
   "source": [
    "An = list(map(int, input().split()))"
   ]
  },
  {
   "cell_type": "code",
   "execution_count": 10,
   "id": "18bd3cdf-75a3-4588-9187-6da135d661da",
   "metadata": {},
   "outputs": [
    {
     "name": "stdout",
     "output_type": "stream",
     "text": [
      "3\n"
     ]
    }
   ],
   "source": [
    "An_p = [A for A in An if A < P]\n",
    "print(len(An_p))"
   ]
  },
  {
   "cell_type": "code",
   "execution_count": 13,
   "id": "7512140a-de05-4e57-ad33-52777a5c52f0",
   "metadata": {},
   "outputs": [
    {
     "name": "stdout",
     "output_type": "stream",
     "text": [
      "3\n"
     ]
    }
   ],
   "source": [
    "print(sum(P > A for A in An))"
   ]
  },
  {
   "cell_type": "code",
   "execution_count": 5,
   "id": "8df00c69-ea97-4edf-8fac-b2bc74f96089",
   "metadata": {},
   "outputs": [
    {
     "data": {
      "text/plain": [
       "[40, 0]"
      ]
     },
     "execution_count": 5,
     "metadata": {},
     "output_type": "execute_result"
    }
   ],
   "source": [
    "An_p"
   ]
  },
  {
   "cell_type": "code",
   "execution_count": null,
   "id": "59846664-826c-474b-b9af-8cd59c137f8a",
   "metadata": {},
   "outputs": [],
   "source": []
  }
 ],
 "metadata": {
  "kernelspec": {
   "display_name": "Python 3",
   "language": "python",
   "name": "python3"
  },
  "language_info": {
   "codemirror_mode": {
    "name": "ipython",
    "version": 3
   },
   "file_extension": ".py",
   "mimetype": "text/x-python",
   "name": "python",
   "nbconvert_exporter": "python",
   "pygments_lexer": "ipython3",
   "version": "3.6.13"
  }
 },
 "nbformat": 4,
 "nbformat_minor": 5
}
