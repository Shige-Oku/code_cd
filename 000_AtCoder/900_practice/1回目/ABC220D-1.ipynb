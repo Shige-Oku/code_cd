{
 "cells": [
  {
   "cell_type": "code",
   "execution_count": 24,
   "id": "16c70706-9f47-404a-a03e-e84cedb5d7a6",
   "metadata": {},
   "outputs": [
    {
     "name": "stdin",
     "output_type": "stream",
     "text": [
      " 5\n"
     ]
    }
   ],
   "source": [
    "N = int(input())"
   ]
  },
  {
   "cell_type": "code",
   "execution_count": 25,
   "id": "7c4d17b0-7b9c-4389-8ac9-abe6f6a2b59b",
   "metadata": {},
   "outputs": [
    {
     "name": "stdin",
     "output_type": "stream",
     "text": [
      " 0 1 2 3 4\n"
     ]
    }
   ],
   "source": [
    "An = list(map(int, input().split()))"
   ]
  },
  {
   "cell_type": "code",
   "execution_count": 28,
   "id": "76a2454d-ef03-4fa6-84bf-a5d52c0e4d15",
   "metadata": {},
   "outputs": [],
   "source": [
    "dp = [[0] * 10 for _ in range(N)]\n",
    "dp[0][An[0]] = 1\n",
    "for i, A in enumerate(An[1:], 1):\n",
    "    for j in range(10):\n",
    "        if dp[i-1][j] == 0:\n",
    "            continue\n",
    "        cnt = dp[i-1][j]\n",
    "        dp[i][(A+j)%10] += dp[i-1][j]\n",
    "        dp[i][(A+j)%10] %= 998244353\n",
    "        dp[i][(A*j)%10] += dp[i-1][j]\n",
    "        dp[i][(A*j)%10] %= 998244353\n",
    "    "
   ]
  },
  {
   "cell_type": "code",
   "execution_count": 29,
   "id": "ef2f6a37-0dca-4e6c-b35a-c7ecfc1ea473",
   "metadata": {},
   "outputs": [
    {
     "name": "stdout",
     "output_type": "stream",
     "text": [
      "6\n",
      "0\n",
      "1\n",
      "1\n",
      "4\n",
      "0\n",
      "1\n",
      "1\n",
      "0\n",
      "2\n"
     ]
    }
   ],
   "source": [
    "print(*dp[N-1], sep='\\n')"
   ]
  },
  {
   "cell_type": "code",
   "execution_count": null,
   "id": "35257d6a-62e8-4c18-8f82-cdb2bd67b390",
   "metadata": {},
   "outputs": [],
   "source": []
  }
 ],
 "metadata": {
  "kernelspec": {
   "display_name": "Python 3",
   "language": "python",
   "name": "python3"
  },
  "language_info": {
   "codemirror_mode": {
    "name": "ipython",
    "version": 3
   },
   "file_extension": ".py",
   "mimetype": "text/x-python",
   "name": "python",
   "nbconvert_exporter": "python",
   "pygments_lexer": "ipython3",
   "version": "3.6.13"
  }
 },
 "nbformat": 4,
 "nbformat_minor": 5
}
