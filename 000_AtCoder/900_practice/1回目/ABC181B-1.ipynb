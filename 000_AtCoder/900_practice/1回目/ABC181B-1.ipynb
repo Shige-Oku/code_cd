{
 "cells": [
  {
   "cell_type": "code",
   "execution_count": 1,
   "id": "1d258065-d97e-4983-b057-786e6cd4c036",
   "metadata": {},
   "outputs": [
    {
     "name": "stdin",
     "output_type": "stream",
     "text": [
      " 2\n"
     ]
    }
   ],
   "source": [
    "N = int(input())"
   ]
  },
  {
   "cell_type": "code",
   "execution_count": 2,
   "id": "6fc05720-5771-43b5-9855-e0f2acb2d1c4",
   "metadata": {},
   "outputs": [
    {
     "name": "stdin",
     "output_type": "stream",
     "text": [
      " 1 3\n",
      " 3 5\n"
     ]
    }
   ],
   "source": [
    "ABn = [list(map(int, input().split())) for _ in range(N)]"
   ]
  },
  {
   "cell_type": "code",
   "execution_count": 6,
   "id": "95e5f90c-f55b-4cab-b424-90ad16ab1f12",
   "metadata": {},
   "outputs": [],
   "source": [
    "ans = 0\n",
    "for A, B in ABn:\n",
    "    ans += (A + B) * (B - A + 1) // 2"
   ]
  },
  {
   "cell_type": "code",
   "execution_count": 7,
   "id": "8d425912-4bc6-43e8-b6a4-af93b0eac080",
   "metadata": {},
   "outputs": [
    {
     "name": "stdout",
     "output_type": "stream",
     "text": [
      "18\n"
     ]
    }
   ],
   "source": [
    "print(ans)"
   ]
  },
  {
   "cell_type": "code",
   "execution_count": null,
   "id": "1cedd8c7-0ae7-4c1e-a887-98cfbd108d95",
   "metadata": {},
   "outputs": [],
   "source": [
    "# TLE\n",
    "ans = 0\n",
    "for A, B in ABn:\n",
    "    ans += sum(range(A, B+1))"
   ]
  }
 ],
 "metadata": {
  "kernelspec": {
   "display_name": "Python 3",
   "language": "python",
   "name": "python3"
  },
  "language_info": {
   "codemirror_mode": {
    "name": "ipython",
    "version": 3
   },
   "file_extension": ".py",
   "mimetype": "text/x-python",
   "name": "python",
   "nbconvert_exporter": "python",
   "pygments_lexer": "ipython3",
   "version": "3.6.13"
  }
 },
 "nbformat": 4,
 "nbformat_minor": 5
}
