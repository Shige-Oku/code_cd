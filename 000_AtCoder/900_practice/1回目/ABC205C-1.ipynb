{
 "cells": [
  {
   "cell_type": "code",
   "execution_count": 17,
   "id": "5a8fdcfc-8152-412f-a1c8-7ce90988cfe4",
   "metadata": {},
   "outputs": [
    {
     "name": "stdin",
     "output_type": "stream",
     "text": [
      " -7 7 2\n"
     ]
    }
   ],
   "source": [
    "A, B, C = map(int, input().split())"
   ]
  },
  {
   "cell_type": "code",
   "execution_count": 19,
   "id": "1be74ae4-8341-41d9-ad52-20f551cbadc1",
   "metadata": {},
   "outputs": [
    {
     "name": "stdout",
     "output_type": "stream",
     "text": [
      "=\n"
     ]
    }
   ],
   "source": [
    "if C % 2 == 0:\n",
    "    a, b = abs(A), abs(B)\n",
    "else:\n",
    "    a, b = A, B\n",
    "\n",
    "if a > b:\n",
    "    print('>')\n",
    "elif a == b:\n",
    "    print('=')\n",
    "else:\n",
    "    print('<')\n"
   ]
  },
  {
   "cell_type": "code",
   "execution_count": 20,
   "id": "1e3a1559-6f2f-4cf6-b674-cb1b18769ad7",
   "metadata": {},
   "outputs": [],
   "source": [
    "# TLE"
   ]
  },
  {
   "cell_type": "code",
   "execution_count": 12,
   "id": "b25bcd8d-e291-47b5-a056-22d0955e1cf7",
   "metadata": {},
   "outputs": [],
   "source": [
    "import numpy as np\n",
    "AC = np.power(A, C)\n",
    "BC = np.power(B, C)"
   ]
  },
  {
   "cell_type": "code",
   "execution_count": 13,
   "id": "ed48f0e7-079c-426c-ad7a-2b7ec19893f7",
   "metadata": {},
   "outputs": [
    {
     "name": "stdout",
     "output_type": "stream",
     "text": [
      "<\n"
     ]
    }
   ],
   "source": [
    "if AC > BC:\n",
    "    print('>')\n",
    "elif AC == BC:\n",
    "    print('=')\n",
    "else:\n",
    "    print('<')"
   ]
  },
  {
   "cell_type": "code",
   "execution_count": null,
   "id": "e543b8eb-f7e2-4d6b-8138-fb0241e68a0a",
   "metadata": {},
   "outputs": [],
   "source": []
  }
 ],
 "metadata": {
  "kernelspec": {
   "display_name": "Python 3",
   "language": "python",
   "name": "python3"
  },
  "language_info": {
   "codemirror_mode": {
    "name": "ipython",
    "version": 3
   },
   "file_extension": ".py",
   "mimetype": "text/x-python",
   "name": "python",
   "nbconvert_exporter": "python",
   "pygments_lexer": "ipython3",
   "version": "3.6.13"
  }
 },
 "nbformat": 4,
 "nbformat_minor": 5
}
