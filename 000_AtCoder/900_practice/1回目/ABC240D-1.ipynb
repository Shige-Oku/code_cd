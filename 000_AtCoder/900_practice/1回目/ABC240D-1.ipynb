{
 "cells": [
  {
   "cell_type": "code",
   "execution_count": 1,
   "id": "58d257d3-c5a9-41e4-b01b-3ad92f3d6ea8",
   "metadata": {},
   "outputs": [
    {
     "name": "stdin",
     "output_type": "stream",
     "text": [
      " 5\n"
     ]
    }
   ],
   "source": [
    "N = int(input())"
   ]
  },
  {
   "cell_type": "code",
   "execution_count": 2,
   "id": "cc9ddd21-0623-4acf-9034-b2c41ccb4437",
   "metadata": {},
   "outputs": [
    {
     "name": "stdin",
     "output_type": "stream",
     "text": [
      " 3 2 3 2 2\n"
     ]
    }
   ],
   "source": [
    "An = list(map(int, input().split()))"
   ]
  },
  {
   "cell_type": "code",
   "execution_count": 4,
   "id": "60ab42ed-b6e4-4be7-854d-e2aa55ab0562",
   "metadata": {},
   "outputs": [
    {
     "name": "stdout",
     "output_type": "stream",
     "text": [
      "1\n",
      "2\n",
      "3\n",
      "4\n",
      "3\n"
     ]
    }
   ],
   "source": [
    "from collections import deque\n",
    "q = deque()\n",
    "cnt = 0\n",
    "for A in An:\n",
    "    if len(q) == 0:\n",
    "        q.append([A, 1])\n",
    "        cnt += 1\n",
    "    else:\n",
    "        n, c = q.pop()\n",
    "        if n == A:\n",
    "            if c + 1 == A:\n",
    "                cnt -= c\n",
    "            else:\n",
    "                q.append([n, c+1])\n",
    "                cnt += 1\n",
    "        else:\n",
    "            q.append([n, c])\n",
    "            q.append([A, 1])\n",
    "            cnt += 1\n",
    "    print(cnt)"
   ]
  },
  {
   "cell_type": "code",
   "execution_count": null,
   "id": "798869eb-4f61-4910-b9bf-982ecbe340b5",
   "metadata": {},
   "outputs": [],
   "source": []
  }
 ],
 "metadata": {
  "kernelspec": {
   "display_name": "Python 3",
   "language": "python",
   "name": "python3"
  },
  "language_info": {
   "codemirror_mode": {
    "name": "ipython",
    "version": 3
   },
   "file_extension": ".py",
   "mimetype": "text/x-python",
   "name": "python",
   "nbconvert_exporter": "python",
   "pygments_lexer": "ipython3",
   "version": "3.6.13"
  }
 },
 "nbformat": 4,
 "nbformat_minor": 5
}
