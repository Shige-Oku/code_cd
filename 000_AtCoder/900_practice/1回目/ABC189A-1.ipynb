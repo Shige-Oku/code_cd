{
 "cells": [
  {
   "cell_type": "code",
   "execution_count": 3,
   "id": "da656b88-0896-4b63-b4e8-83d550660d6a",
   "metadata": {},
   "outputs": [
    {
     "name": "stdin",
     "output_type": "stream",
     "text": [
      " WVW\n"
     ]
    }
   ],
   "source": [
    "C = input()"
   ]
  },
  {
   "cell_type": "code",
   "execution_count": 4,
   "id": "f52eba78-8f23-45ff-9c5f-efd2bad65405",
   "metadata": {},
   "outputs": [
    {
     "name": "stdout",
     "output_type": "stream",
     "text": [
      "Lost\n"
     ]
    }
   ],
   "source": [
    "print('Won' if C[0] == C[1] == C[2] else 'Lost')"
   ]
  },
  {
   "cell_type": "code",
   "execution_count": 5,
   "id": "b59b5594-2b59-451f-8860-778e06ff0dab",
   "metadata": {},
   "outputs": [],
   "source": [
    "import collections"
   ]
  },
  {
   "cell_type": "code",
   "execution_count": 6,
   "id": "a548616f-bb26-4d30-8756-0a733022e5db",
   "metadata": {},
   "outputs": [
    {
     "name": "stdout",
     "output_type": "stream",
     "text": [
      "Lost\n"
     ]
    }
   ],
   "source": [
    "print('Won' if len(collections.Counter(C)) == 1 else 'Lost')"
   ]
  },
  {
   "cell_type": "code",
   "execution_count": 7,
   "id": "814584f7-81ac-454a-9766-dc453baa27a7",
   "metadata": {},
   "outputs": [
    {
     "data": {
      "text/plain": [
       "{'V', 'W'}"
      ]
     },
     "execution_count": 7,
     "metadata": {},
     "output_type": "execute_result"
    }
   ],
   "source": [
    "set(C)"
   ]
  },
  {
   "cell_type": "code",
   "execution_count": null,
   "id": "0dd21fb3-ac08-4a79-a1d8-85d51895dd7f",
   "metadata": {},
   "outputs": [],
   "source": []
  }
 ],
 "metadata": {
  "kernelspec": {
   "display_name": "Python 3",
   "language": "python",
   "name": "python3"
  },
  "language_info": {
   "codemirror_mode": {
    "name": "ipython",
    "version": 3
   },
   "file_extension": ".py",
   "mimetype": "text/x-python",
   "name": "python",
   "nbconvert_exporter": "python",
   "pygments_lexer": "ipython3",
   "version": "3.6.13"
  }
 },
 "nbformat": 4,
 "nbformat_minor": 5
}
