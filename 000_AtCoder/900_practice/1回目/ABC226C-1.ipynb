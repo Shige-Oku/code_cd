{
 "cells": [
  {
   "cell_type": "code",
   "execution_count": 1,
   "id": "b141a494-eb8a-4d89-aff0-f57ea28189cb",
   "metadata": {},
   "outputs": [
    {
     "name": "stdin",
     "output_type": "stream",
     "text": [
      " 3\n"
     ]
    }
   ],
   "source": [
    "N = int(input())"
   ]
  },
  {
   "cell_type": "code",
   "execution_count": 2,
   "id": "ece546a9-5968-401e-af5b-da45e5995012",
   "metadata": {},
   "outputs": [
    {
     "name": "stdin",
     "output_type": "stream",
     "text": [
      " 3 0\n",
      " 5 1 1\n",
      " 7 1 1\n"
     ]
    }
   ],
   "source": [
    "TKAn = [list(map(int, input().split())) for _ in range(N)]"
   ]
  },
  {
   "cell_type": "code",
   "execution_count": 16,
   "id": "c5672ec3-c039-456e-8e6c-ced70b474863",
   "metadata": {},
   "outputs": [],
   "source": [
    "import sys\n",
    "# sys.setrecursionlimit(2000)\n",
    "sys.setrecursionlimit(10**7)\n",
    "def DFS(n):\n",
    "    if TKAn[n][1] == 0:\n",
    "        skill.add(n)\n",
    "        return TKAn[n][0]\n",
    "    ret = 0\n",
    "    _, _, *An = TKAn[n]\n",
    "    for A in An:\n",
    "        if A-1 in skill:\n",
    "            continue\n",
    "        ret += DFS(A-1)\n",
    "    skill.add(n)\n",
    "    return ret + TKAn[n][0]"
   ]
  },
  {
   "cell_type": "code",
   "execution_count": 17,
   "id": "91f13cb0-8367-4724-bc32-2ddd8054af29",
   "metadata": {},
   "outputs": [
    {
     "name": "stdout",
     "output_type": "stream",
     "text": [
      "10\n"
     ]
    }
   ],
   "source": [
    "skill = set()\n",
    "print(DFS(N-1))"
   ]
  },
  {
   "cell_type": "code",
   "execution_count": 38,
   "id": "bab36067-4e22-4d57-8769-8a172aed1824",
   "metadata": {},
   "outputs": [],
   "source": [
    "skill = set()\n",
    "skill.add(N-1)\n",
    "for i in range(N-1, -1, -1):\n",
    "    if i not in skill:\n",
    "        continue\n",
    "    if TKAn[i][1] == 0:\n",
    "        continue\n",
    "    _, _, *An = TKAn[i]\n",
    "    for A in An:\n",
    "        skill.add(A-1)"
   ]
  },
  {
   "cell_type": "code",
   "execution_count": 39,
   "id": "0d951b5a-1c8b-4810-941c-34a375179fdd",
   "metadata": {},
   "outputs": [
    {
     "name": "stdout",
     "output_type": "stream",
     "text": [
      "10\n"
     ]
    }
   ],
   "source": [
    "ans = 0\n",
    "for i in range(N):\n",
    "    if i in skill:\n",
    "        ans += TKAn[i][0]\n",
    "print(ans)"
   ]
  },
  {
   "cell_type": "code",
   "execution_count": 32,
   "id": "bc63d6c4-94d3-490c-8c0a-0e63a63ce2d2",
   "metadata": {},
   "outputs": [
    {
     "data": {
      "text/plain": [
       "True"
      ]
     },
     "execution_count": 32,
     "metadata": {},
     "output_type": "execute_result"
    }
   ],
   "source": [
    "2 in skill"
   ]
  },
  {
   "cell_type": "code",
   "execution_count": 41,
   "id": "3ed6db4e-ca2a-4187-aba4-d47b5577269c",
   "metadata": {},
   "outputs": [],
   "source": [
    "from collections import deque"
   ]
  },
  {
   "cell_type": "code",
   "execution_count": 53,
   "id": "196c457c-48c9-41fb-ad76-cdbe03ff83d6",
   "metadata": {},
   "outputs": [],
   "source": [
    "graph = [[] for _ in range(N)]\n",
    "for i in range(N):\n",
    "    if TKAn[i][1] == 0:\n",
    "        continue\n",
    "    _, _, *An = TKAn[i]\n",
    "    for A in An:\n",
    "        graph[i].append(A-1)"
   ]
  },
  {
   "cell_type": "code",
   "execution_count": 58,
   "id": "d7da7a69-c7f8-4a75-82bf-2afc27c5b13d",
   "metadata": {},
   "outputs": [],
   "source": [
    "visit = [False] * N\n",
    "q = deque()\n",
    "q.append(N-1)\n",
    "visit[N-1] = True\n",
    "ans = TKAn[N-1][0]\n",
    "while q:\n",
    "    p = q.popleft()\n",
    "    for n in graph[p]:\n",
    "        if visit[n]:\n",
    "            continue\n",
    "        visit[n] = True\n",
    "        q.append(n)\n",
    "        ans += TKAn[n][0]"
   ]
  },
  {
   "cell_type": "code",
   "execution_count": 59,
   "id": "f20b1d62-d7eb-4f94-8050-d663c6bb09fb",
   "metadata": {},
   "outputs": [
    {
     "name": "stdout",
     "output_type": "stream",
     "text": [
      "10\n"
     ]
    }
   ],
   "source": [
    "print(ans)"
   ]
  },
  {
   "cell_type": "code",
   "execution_count": 54,
   "id": "86f89ab3-725c-4504-a978-32dce6140083",
   "metadata": {},
   "outputs": [
    {
     "data": {
      "text/plain": [
       "(2, 1, [1], [[], [0], [0]])"
      ]
     },
     "execution_count": 54,
     "metadata": {},
     "output_type": "execute_result"
    }
   ],
   "source": [
    "i, A, An, graph"
   ]
  },
  {
   "cell_type": "code",
   "execution_count": 57,
   "id": "4701121e-0048-4e38-953c-4c1cfb261592",
   "metadata": {},
   "outputs": [
    {
     "data": {
      "text/plain": [
       "[True, False, False]"
      ]
     },
     "execution_count": 57,
     "metadata": {},
     "output_type": "execute_result"
    }
   ],
   "source": [
    "visit"
   ]
  },
  {
   "cell_type": "code",
   "execution_count": null,
   "id": "7b6ac4da-f9d4-4a13-bc8a-c9d8e75b723b",
   "metadata": {},
   "outputs": [],
   "source": []
  }
 ],
 "metadata": {
  "kernelspec": {
   "display_name": "Python 3",
   "language": "python",
   "name": "python3"
  },
  "language_info": {
   "codemirror_mode": {
    "name": "ipython",
    "version": 3
   },
   "file_extension": ".py",
   "mimetype": "text/x-python",
   "name": "python",
   "nbconvert_exporter": "python",
   "pygments_lexer": "ipython3",
   "version": "3.6.13"
  }
 },
 "nbformat": 4,
 "nbformat_minor": 5
}
