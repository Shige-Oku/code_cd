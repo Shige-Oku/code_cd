{
 "cells": [
  {
   "cell_type": "code",
   "execution_count": 13,
   "id": "64c3ccef-28c3-491e-8358-78414c97f157",
   "metadata": {},
   "outputs": [
    {
     "name": "stdin",
     "output_type": "stream",
     "text": [
      " 2023\n"
     ]
    }
   ],
   "source": [
    "Y = int(input())"
   ]
  },
  {
   "cell_type": "code",
   "execution_count": 14,
   "id": "913f0e39-e2a0-4078-8cfa-11b92b9cb0c4",
   "metadata": {},
   "outputs": [
    {
     "name": "stdout",
     "output_type": "stream",
     "text": [
      "2026\n"
     ]
    }
   ],
   "source": [
    "if Y % 4 == 0:\n",
    "    print(Y+2)\n",
    "elif Y % 4 == 1:\n",
    "    print(Y+1)\n",
    "elif Y % 4 == 2:\n",
    "    print(Y)\n",
    "else:\n",
    "    print(Y+3)"
   ]
  },
  {
   "cell_type": "code",
   "execution_count": 15,
   "id": "8aff7319-237c-4abf-bba2-8fec8d6890b7",
   "metadata": {},
   "outputs": [
    {
     "name": "stdout",
     "output_type": "stream",
     "text": [
      "2022\n"
     ]
    }
   ],
   "source": [
    "q = Y // 4\n",
    "print(q*4 + 2)"
   ]
  },
  {
   "cell_type": "code",
   "execution_count": 16,
   "id": "8f3fa423-c907-4e48-9f65-a5f4958c5b10",
   "metadata": {},
   "outputs": [],
   "source": [
    "ans = Y\n",
    "while ans % 4 != 2:\n",
    "    ans += 1"
   ]
  },
  {
   "cell_type": "code",
   "execution_count": 17,
   "id": "826e88e9-c730-46a3-a4d8-c295e6fb9989",
   "metadata": {},
   "outputs": [
    {
     "name": "stdout",
     "output_type": "stream",
     "text": [
      "2026\n"
     ]
    }
   ],
   "source": [
    "print(ans)"
   ]
  },
  {
   "cell_type": "code",
   "execution_count": null,
   "id": "b9c306c0-04a9-427b-be91-acc3f5d8b3d6",
   "metadata": {},
   "outputs": [],
   "source": []
  }
 ],
 "metadata": {
  "kernelspec": {
   "display_name": "Python 3",
   "language": "python",
   "name": "python3"
  },
  "language_info": {
   "codemirror_mode": {
    "name": "ipython",
    "version": 3
   },
   "file_extension": ".py",
   "mimetype": "text/x-python",
   "name": "python",
   "nbconvert_exporter": "python",
   "pygments_lexer": "ipython3",
   "version": "3.6.13"
  }
 },
 "nbformat": 4,
 "nbformat_minor": 5
}
