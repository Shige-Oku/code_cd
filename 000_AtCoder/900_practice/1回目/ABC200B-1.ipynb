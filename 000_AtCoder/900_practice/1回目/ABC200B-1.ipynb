{
 "cells": [
  {
   "cell_type": "code",
   "execution_count": 7,
   "id": "17d22af4-4a9f-48c5-8b26-2e6289d21b5c",
   "metadata": {},
   "outputs": [
    {
     "name": "stdin",
     "output_type": "stream",
     "text": [
      " 8691 20\n"
     ]
    }
   ],
   "source": [
    "N, K = map(int, input().split())"
   ]
  },
  {
   "cell_type": "code",
   "execution_count": 8,
   "id": "3f322b16-61f8-4658-b8ff-3532cea9e24f",
   "metadata": {},
   "outputs": [],
   "source": [
    "ans = N\n",
    "for _ in range(K):\n",
    "    if ans % 200 == 0:\n",
    "        ans //= 200\n",
    "    else:\n",
    "        ans *= 1000\n",
    "        ans += 200"
   ]
  },
  {
   "cell_type": "code",
   "execution_count": 9,
   "id": "2699a62d-4e3c-4425-98a4-693d0b523df5",
   "metadata": {},
   "outputs": [
    {
     "name": "stdout",
     "output_type": "stream",
     "text": [
      "84875488281\n"
     ]
    }
   ],
   "source": [
    "print(ans)"
   ]
  },
  {
   "cell_type": "code",
   "execution_count": null,
   "id": "bba566f8-3cd9-41f9-ba7b-8ec5feed11f8",
   "metadata": {},
   "outputs": [],
   "source": []
  }
 ],
 "metadata": {
  "kernelspec": {
   "display_name": "Python 3",
   "language": "python",
   "name": "python3"
  },
  "language_info": {
   "codemirror_mode": {
    "name": "ipython",
    "version": 3
   },
   "file_extension": ".py",
   "mimetype": "text/x-python",
   "name": "python",
   "nbconvert_exporter": "python",
   "pygments_lexer": "ipython3",
   "version": "3.6.13"
  }
 },
 "nbformat": 4,
 "nbformat_minor": 5
}
