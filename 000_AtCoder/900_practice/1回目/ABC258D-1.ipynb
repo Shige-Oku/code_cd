{
 "cells": [
  {
   "cell_type": "code",
   "execution_count": 1,
   "id": "367ac501-a733-41b1-8a27-dd0ec460a270",
   "metadata": {},
   "outputs": [
    {
     "name": "stdin",
     "output_type": "stream",
     "text": [
      " 3 4\n"
     ]
    }
   ],
   "source": [
    "N, X = map(int, input().split())"
   ]
  },
  {
   "cell_type": "code",
   "execution_count": 2,
   "id": "619649f5-f932-4f6a-9a32-451694766e6e",
   "metadata": {},
   "outputs": [
    {
     "name": "stdin",
     "output_type": "stream",
     "text": [
      " 3 4\n",
      " 2 3\n",
      " 4 2\n"
     ]
    }
   ],
   "source": [
    "ABn = [list(map(int, input().split())) for _ in range(N)]"
   ]
  },
  {
   "cell_type": "code",
   "execution_count": 6,
   "id": "5ad68eaf-0242-4852-bd3f-adf35662649e",
   "metadata": {},
   "outputs": [],
   "source": [
    "ans = 10 ** 20\n",
    "t = 0\n",
    "cnt = 0\n",
    "for A, B in ABn:\n",
    "    t += A + B\n",
    "    cnt += 1\n",
    "    if cnt > X:\n",
    "        break\n",
    "    c = t + B * (X-cnt)\n",
    "    ans = min(ans, c)"
   ]
  },
  {
   "cell_type": "code",
   "execution_count": 7,
   "id": "802fb274-6476-45e5-a79b-589e6d376556",
   "metadata": {},
   "outputs": [
    {
     "name": "stdout",
     "output_type": "stream",
     "text": [
      "18\n"
     ]
    }
   ],
   "source": [
    "print(ans)"
   ]
  },
  {
   "cell_type": "code",
   "execution_count": null,
   "id": "ecf3d0f8-7bae-4ab6-8288-8f2fb9651d8a",
   "metadata": {},
   "outputs": [],
   "source": []
  }
 ],
 "metadata": {
  "kernelspec": {
   "display_name": "Python 3",
   "language": "python",
   "name": "python3"
  },
  "language_info": {
   "codemirror_mode": {
    "name": "ipython",
    "version": 3
   },
   "file_extension": ".py",
   "mimetype": "text/x-python",
   "name": "python",
   "nbconvert_exporter": "python",
   "pygments_lexer": "ipython3",
   "version": "3.6.13"
  }
 },
 "nbformat": 4,
 "nbformat_minor": 5
}
