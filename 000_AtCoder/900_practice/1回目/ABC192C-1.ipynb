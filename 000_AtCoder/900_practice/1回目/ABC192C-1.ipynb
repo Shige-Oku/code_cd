{
 "cells": [
  {
   "cell_type": "code",
   "execution_count": 26,
   "id": "83f6655e-59c8-4610-b628-9feca8a5ad84",
   "metadata": {},
   "outputs": [
    {
     "name": "stdin",
     "output_type": "stream",
     "text": [
      " 6174 100000\n"
     ]
    }
   ],
   "source": [
    "N, K = map(int, input().split())"
   ]
  },
  {
   "cell_type": "code",
   "execution_count": 27,
   "id": "e0948cc5-828d-4082-9ec3-67386faf63ae",
   "metadata": {},
   "outputs": [],
   "source": [
    "def solve(n):\n",
    "    sn = str(n)\n",
    "    g1 = int(''.join(sorted(sn, reverse=True)))\n",
    "    g2 = int(''.join(sorted(sn)))\n",
    "    return g1 - g2"
   ]
  },
  {
   "cell_type": "code",
   "execution_count": 28,
   "id": "da60d5f1-c926-4868-aba6-471f69960c5b",
   "metadata": {},
   "outputs": [],
   "source": [
    "ans = N\n",
    "cnt = 0\n",
    "while cnt < K:\n",
    "    ans = solve(ans)\n",
    "    cnt += 1\n"
   ]
  },
  {
   "cell_type": "code",
   "execution_count": 29,
   "id": "b66c6d03-3c78-42f0-ba3c-b262b44fc7fd",
   "metadata": {},
   "outputs": [
    {
     "name": "stdout",
     "output_type": "stream",
     "text": [
      "6174\n"
     ]
    }
   ],
   "source": [
    "print(ans)"
   ]
  },
  {
   "cell_type": "code",
   "execution_count": 30,
   "id": "a9874e59-7436-42ce-a559-c9294e880e34",
   "metadata": {},
   "outputs": [],
   "source": [
    "ans = N\n",
    "for _ in range(K):\n",
    "    ans = solve(ans)"
   ]
  },
  {
   "cell_type": "code",
   "execution_count": 31,
   "id": "5ce79b4f-ede8-4453-bdc3-1bdaf04aa42c",
   "metadata": {},
   "outputs": [
    {
     "name": "stdout",
     "output_type": "stream",
     "text": [
      "6174\n"
     ]
    }
   ],
   "source": [
    "print(ans)"
   ]
  },
  {
   "cell_type": "code",
   "execution_count": 9,
   "id": "06649995-adf8-4044-852d-25caa91783e7",
   "metadata": {},
   "outputs": [
    {
     "data": {
      "text/plain": [
       "'321'"
      ]
     },
     "execution_count": 9,
     "metadata": {},
     "output_type": "execute_result"
    }
   ],
   "source": [
    "''.join(sorted('123', reverse=True))"
   ]
  },
  {
   "cell_type": "code",
   "execution_count": 16,
   "id": "b1028e52-4116-4a59-90b9-b694074a33d2",
   "metadata": {},
   "outputs": [
    {
     "data": {
      "text/plain": [
       "(297, 693)"
      ]
     },
     "execution_count": 16,
     "metadata": {},
     "output_type": "execute_result"
    }
   ],
   "source": [
    "solve(314), solve(297)"
   ]
  },
  {
   "cell_type": "code",
   "execution_count": null,
   "id": "805dbf8d-98f8-4d45-8faf-31ec8c54b205",
   "metadata": {},
   "outputs": [],
   "source": []
  }
 ],
 "metadata": {
  "kernelspec": {
   "display_name": "Python 3",
   "language": "python",
   "name": "python3"
  },
  "language_info": {
   "codemirror_mode": {
    "name": "ipython",
    "version": 3
   },
   "file_extension": ".py",
   "mimetype": "text/x-python",
   "name": "python",
   "nbconvert_exporter": "python",
   "pygments_lexer": "ipython3",
   "version": "3.6.13"
  }
 },
 "nbformat": 4,
 "nbformat_minor": 5
}
