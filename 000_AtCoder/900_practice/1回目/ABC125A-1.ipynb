{
 "cells": [
  {
   "cell_type": "code",
   "execution_count": 5,
   "id": "92f95425-cc1d-43b7-bbde-318ae72e8b9c",
   "metadata": {},
   "outputs": [
    {
     "name": "stdin",
     "output_type": "stream",
     "text": [
      " 20 20 19\n"
     ]
    }
   ],
   "source": [
    "A, B, T = map(int, input().split())"
   ]
  },
  {
   "cell_type": "code",
   "execution_count": 6,
   "id": "fb2a2be8-de04-4ef8-aec3-e86ecb9aa416",
   "metadata": {},
   "outputs": [
    {
     "name": "stdout",
     "output_type": "stream",
     "text": [
      "0\n"
     ]
    }
   ],
   "source": [
    "print(T//A*B)"
   ]
  },
  {
   "cell_type": "code",
   "execution_count": null,
   "id": "0707e580-3910-4c05-8b30-19d1126a0e89",
   "metadata": {},
   "outputs": [],
   "source": []
  }
 ],
 "metadata": {
  "kernelspec": {
   "display_name": "Python 3",
   "language": "python",
   "name": "python3"
  },
  "language_info": {
   "codemirror_mode": {
    "name": "ipython",
    "version": 3
   },
   "file_extension": ".py",
   "mimetype": "text/x-python",
   "name": "python",
   "nbconvert_exporter": "python",
   "pygments_lexer": "ipython3",
   "version": "3.6.13"
  }
 },
 "nbformat": 4,
 "nbformat_minor": 5
}
