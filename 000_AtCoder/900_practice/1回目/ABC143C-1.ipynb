{
 "cells": [
  {
   "cell_type": "code",
   "execution_count": 11,
   "id": "7058c4d0-27d5-442c-ad70-86b72c69c1a6",
   "metadata": {},
   "outputs": [
    {
     "name": "stdin",
     "output_type": "stream",
     "text": [
      " 20\n"
     ]
    }
   ],
   "source": [
    "N = int(input())"
   ]
  },
  {
   "cell_type": "code",
   "execution_count": 12,
   "id": "513e4c30-e3b2-4e40-926f-82a2befc7c2a",
   "metadata": {},
   "outputs": [
    {
     "name": "stdin",
     "output_type": "stream",
     "text": [
      " xxzaffeeeeddfkkkkllq\n"
     ]
    }
   ],
   "source": [
    "S = input()"
   ]
  },
  {
   "cell_type": "code",
   "execution_count": 13,
   "id": "04d6d259-8064-48f3-b8e1-9d50dd805a64",
   "metadata": {},
   "outputs": [],
   "source": [
    "ans = 1\n",
    "for i in range(1, N):\n",
    "    if S[i-1] == S[i]:\n",
    "        continue\n",
    "    ans += 1"
   ]
  },
  {
   "cell_type": "code",
   "execution_count": 14,
   "id": "282d31c1-783b-4135-8b6f-487d36397394",
   "metadata": {},
   "outputs": [
    {
     "name": "stdout",
     "output_type": "stream",
     "text": [
      "10\n"
     ]
    }
   ],
   "source": [
    "print(ans)"
   ]
  },
  {
   "cell_type": "code",
   "execution_count": null,
   "id": "ed586b39-fc51-4d2a-a89c-249593bb8e0e",
   "metadata": {},
   "outputs": [],
   "source": []
  }
 ],
 "metadata": {
  "kernelspec": {
   "display_name": "Python 3",
   "language": "python",
   "name": "python3"
  },
  "language_info": {
   "codemirror_mode": {
    "name": "ipython",
    "version": 3
   },
   "file_extension": ".py",
   "mimetype": "text/x-python",
   "name": "python",
   "nbconvert_exporter": "python",
   "pygments_lexer": "ipython3",
   "version": "3.6.13"
  }
 },
 "nbformat": 4,
 "nbformat_minor": 5
}
