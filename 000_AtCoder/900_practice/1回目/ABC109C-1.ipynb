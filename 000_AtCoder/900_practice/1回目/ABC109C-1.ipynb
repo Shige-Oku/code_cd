{
 "cells": [
  {
   "cell_type": "code",
   "execution_count": 43,
   "id": "38f5516a-9c9d-45ed-8a46-022a3f1aa014",
   "metadata": {},
   "outputs": [
    {
     "name": "stdin",
     "output_type": "stream",
     "text": [
      " 1 1\n"
     ]
    }
   ],
   "source": [
    "N, X = map(int, input().split())"
   ]
  },
  {
   "cell_type": "code",
   "execution_count": 44,
   "id": "15f619dc-97a9-4000-9f98-67f3662e32ae",
   "metadata": {},
   "outputs": [
    {
     "name": "stdin",
     "output_type": "stream",
     "text": [
      " 1000000000\n"
     ]
    }
   ],
   "source": [
    "Xn = list(map(int, input().split()))"
   ]
  },
  {
   "cell_type": "code",
   "execution_count": 57,
   "id": "7c1d0b03-58ea-4673-ab81-2e785901781f",
   "metadata": {},
   "outputs": [],
   "source": [
    "Xn_s = Xn + [X]\n",
    "Xn_s = set(Xn_s)\n",
    "Xn_s = sorted(list(Xn_s))\n",
    "di = []\n",
    "for i, x in enumerate(Xn_s[1:], 1):\n",
    "    di.append(x-Xn_s[i-1])"
   ]
  },
  {
   "cell_type": "code",
   "execution_count": 60,
   "id": "b9f212cf-8184-4c10-80bb-8b7ff70d6e87",
   "metadata": {},
   "outputs": [],
   "source": [
    "from math import gcd\n",
    "def solve():\n",
    "    ret = 0\n",
    "    for d in di:\n",
    "        ret = gcd(ret, d)\n",
    "    return ret"
   ]
  },
  {
   "cell_type": "code",
   "execution_count": 61,
   "id": "3b545137-fc5f-4e92-99f7-78402b77fa27",
   "metadata": {},
   "outputs": [
    {
     "name": "stdout",
     "output_type": "stream",
     "text": [
      "999999999\n"
     ]
    }
   ],
   "source": [
    "print(solve()) "
   ]
  },
  {
   "cell_type": "code",
   "execution_count": 55,
   "id": "90f4e78c-43e2-4384-9a14-48039e1045f7",
   "metadata": {},
   "outputs": [
    {
     "data": {
      "text/plain": [
       "([999999999], [1, 1000000000])"
      ]
     },
     "execution_count": 55,
     "metadata": {},
     "output_type": "execute_result"
    }
   ],
   "source": [
    "di, Xn_s"
   ]
  },
  {
   "cell_type": "code",
   "execution_count": 51,
   "id": "7acc14e2-5ed8-4232-940f-0721556271a9",
   "metadata": {},
   "outputs": [],
   "source": [
    "from math import gcd\n",
    "def solve():\n",
    "    if N == 1:\n",
    "        return di[0]\n",
    "    ret = 10**10\n",
    "    for i in range(len(di)-1):\n",
    "        ret = min(ret, gcd(di[i], di[i+1]))\n",
    "    return ret"
   ]
  },
  {
   "cell_type": "code",
   "execution_count": 9,
   "id": "226189a2-469e-4ccd-8cdd-6ab4eaa90d39",
   "metadata": {},
   "outputs": [
    {
     "data": {
      "text/plain": [
       "True"
      ]
     },
     "execution_count": 9,
     "metadata": {},
     "output_type": "execute_result"
    }
   ],
   "source": [
    "1000000000 == 10**9"
   ]
  },
  {
   "cell_type": "code",
   "execution_count": 56,
   "id": "dc8e9813-5f60-4791-b21c-523dacf69dc9",
   "metadata": {},
   "outputs": [
    {
     "data": {
      "text/plain": [
       "5"
      ]
     },
     "execution_count": 56,
     "metadata": {},
     "output_type": "execute_result"
    }
   ],
   "source": [
    "gcd(0, 5)"
   ]
  },
  {
   "cell_type": "code",
   "execution_count": null,
   "id": "312d448e-f89a-4f5f-bbc0-d7caf045bec7",
   "metadata": {},
   "outputs": [],
   "source": []
  }
 ],
 "metadata": {
  "kernelspec": {
   "display_name": "Python 3",
   "language": "python",
   "name": "python3"
  },
  "language_info": {
   "codemirror_mode": {
    "name": "ipython",
    "version": 3
   },
   "file_extension": ".py",
   "mimetype": "text/x-python",
   "name": "python",
   "nbconvert_exporter": "python",
   "pygments_lexer": "ipython3",
   "version": "3.6.13"
  }
 },
 "nbformat": 4,
 "nbformat_minor": 5
}
