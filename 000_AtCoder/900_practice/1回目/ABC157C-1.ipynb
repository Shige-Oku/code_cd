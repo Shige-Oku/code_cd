{
 "cells": [
  {
   "cell_type": "code",
   "execution_count": 68,
   "id": "cf7bd4eb-1e18-401c-9c37-185ed3b6a23c",
   "metadata": {},
   "outputs": [
    {
     "name": "stdin",
     "output_type": "stream",
     "text": [
      " 1 1\n"
     ]
    }
   ],
   "source": [
    "N, M = map(int, input().split())"
   ]
  },
  {
   "cell_type": "code",
   "execution_count": 69,
   "id": "1d6a25e7-32a4-4ba8-bb20-bee6754aaa00",
   "metadata": {},
   "outputs": [
    {
     "name": "stdin",
     "output_type": "stream",
     "text": [
      " 1 0\n"
     ]
    }
   ],
   "source": [
    "SCn = [list(map(int, input().split())) for _ in range(M)]"
   ]
  },
  {
   "cell_type": "code",
   "execution_count": 70,
   "id": "c4a7cdff-03b3-49d9-b04b-44a870a73dc3",
   "metadata": {},
   "outputs": [],
   "source": [
    "num = [-1] * N\n",
    "ng = False\n",
    "for S, C in SCn:\n",
    "    if C == 0 and S == 1 and N >= 2:\n",
    "        ng = True\n",
    "    if num[S-1] == -1:\n",
    "        num[S-1] = C\n",
    "        continue\n",
    "    if num[S-1] != C:\n",
    "        ng = True"
   ]
  },
  {
   "cell_type": "code",
   "execution_count": 71,
   "id": "30ce5140-4d3b-4edc-816f-9f8773513897",
   "metadata": {},
   "outputs": [
    {
     "name": "stdout",
     "output_type": "stream",
     "text": [
      "0\n"
     ]
    }
   ],
   "source": [
    "if ng:\n",
    "    print('-1')\n",
    "else:\n",
    "    ans = ''\n",
    "    for i, nu in enumerate(num[::-1]):\n",
    "        if nu == -1:\n",
    "            if i == N-1 and N >= 2:\n",
    "                ans += '1'\n",
    "            else:\n",
    "                ans += '0'\n",
    "        else:\n",
    "            ans += str(nu)\n",
    "    print(int(ans[::-1]))"
   ]
  },
  {
   "cell_type": "code",
   "execution_count": 72,
   "id": "e0d790a0-082d-4e0a-ae57-0588f302458d",
   "metadata": {},
   "outputs": [
    {
     "data": {
      "text/plain": [
       "('0', False)"
      ]
     },
     "execution_count": 72,
     "metadata": {},
     "output_type": "execute_result"
    }
   ],
   "source": [
    "ans, ng"
   ]
  },
  {
   "cell_type": "code",
   "execution_count": 73,
   "id": "474e6bf4-6655-477d-a534-c6cca2e5f2bd",
   "metadata": {},
   "outputs": [],
   "source": [
    "# WA"
   ]
  },
  {
   "cell_type": "code",
   "execution_count": 74,
   "id": "851f7969-4a0c-45c4-befe-db466212ff4b",
   "metadata": {},
   "outputs": [],
   "source": [
    "ans = 10**10\n",
    "for i in range(10**N):\n",
    "    s = str(i).zfill(N)\n",
    "    if s[0] == '0' and N > 1:\n",
    "        continue\n",
    "    for S, C in SCn:\n",
    "        if int(s[S-1]) != C:\n",
    "            break\n",
    "    else:\n",
    "        ans = min(ans, int(s))"
   ]
  },
  {
   "cell_type": "code",
   "execution_count": 75,
   "id": "8f732940-84bc-4c87-8df5-90327d4e22f8",
   "metadata": {},
   "outputs": [
    {
     "name": "stdout",
     "output_type": "stream",
     "text": [
      "0\n"
     ]
    }
   ],
   "source": [
    "if ans == 10**10:\n",
    "    print('-1')\n",
    "else:\n",
    "    print(ans)"
   ]
  },
  {
   "cell_type": "code",
   "execution_count": null,
   "id": "0d738bd3-6087-4613-ad60-add03bed842e",
   "metadata": {},
   "outputs": [],
   "source": []
  }
 ],
 "metadata": {
  "kernelspec": {
   "display_name": "Python 3",
   "language": "python",
   "name": "python3"
  },
  "language_info": {
   "codemirror_mode": {
    "name": "ipython",
    "version": 3
   },
   "file_extension": ".py",
   "mimetype": "text/x-python",
   "name": "python",
   "nbconvert_exporter": "python",
   "pygments_lexer": "ipython3",
   "version": "3.6.13"
  }
 },
 "nbformat": 4,
 "nbformat_minor": 5
}
