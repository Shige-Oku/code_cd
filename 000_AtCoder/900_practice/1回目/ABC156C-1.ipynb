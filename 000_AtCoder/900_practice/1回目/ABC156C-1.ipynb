{
 "cells": [
  {
   "cell_type": "code",
   "execution_count": 3,
   "id": "97d385a4-3b0b-4b9d-8726-dad3e84e82db",
   "metadata": {},
   "outputs": [],
   "source": [
    "import math"
   ]
  },
  {
   "cell_type": "code",
   "execution_count": 12,
   "id": "e2baf4ec-dc36-4564-86b8-df36a5ad440e",
   "metadata": {},
   "outputs": [
    {
     "name": "stdin",
     "output_type": "stream",
     "text": [
      " 7\n"
     ]
    }
   ],
   "source": [
    "N = int(input())"
   ]
  },
  {
   "cell_type": "code",
   "execution_count": 13,
   "id": "dab2f840-b3b6-4024-930d-d83bf69e5be9",
   "metadata": {},
   "outputs": [
    {
     "name": "stdin",
     "output_type": "stream",
     "text": [
      " 14 14 2 13 56 2 37\n"
     ]
    }
   ],
   "source": [
    "Xn = list(map(int, input().split()))"
   ]
  },
  {
   "cell_type": "code",
   "execution_count": 14,
   "id": "4e6818e2-ba0e-475f-ba83-bb88970ab7d5",
   "metadata": {},
   "outputs": [],
   "source": [
    "ave_s = math.floor(sum(Xn) / N)\n",
    "ave_l = math.ceil(sum(Xn) / N)"
   ]
  },
  {
   "cell_type": "code",
   "execution_count": 15,
   "id": "86cbf646-2d91-45c8-90c5-ed630b6e40c9",
   "metadata": {},
   "outputs": [],
   "source": [
    "dis1 = 0\n",
    "dis2 = 0\n",
    "for X in Xn:\n",
    "    dis1 += (X-ave_s) ** 2\n",
    "    dis2 += (X-ave_l) ** 2"
   ]
  },
  {
   "cell_type": "code",
   "execution_count": 16,
   "id": "3efe2f1d-2865-4b0f-9df9-553a5e303163",
   "metadata": {},
   "outputs": [
    {
     "name": "stdout",
     "output_type": "stream",
     "text": [
      "2354\n"
     ]
    }
   ],
   "source": [
    "print(min(dis1, dis2))"
   ]
  },
  {
   "cell_type": "code",
   "execution_count": 18,
   "id": "e23a4b74-bd18-4e38-bd9a-2c741ef437bc",
   "metadata": {},
   "outputs": [],
   "source": [
    "ans = 10**20\n",
    "for i in range(1, 101):\n",
    "    dis = 0\n",
    "    for X in Xn:\n",
    "        dis += (X-i) ** 2\n",
    "    ans = min(ans, dis)"
   ]
  },
  {
   "cell_type": "code",
   "execution_count": 19,
   "id": "a0717c84-1e48-4af5-b463-e37d592ca3f1",
   "metadata": {},
   "outputs": [
    {
     "name": "stdout",
     "output_type": "stream",
     "text": [
      "2354\n"
     ]
    }
   ],
   "source": [
    "print(ans)"
   ]
  },
  {
   "cell_type": "code",
   "execution_count": 20,
   "id": "6bf8c9ea-9f5e-43a4-92da-0889a20cbbd8",
   "metadata": {},
   "outputs": [],
   "source": [
    "import numpy as np"
   ]
  },
  {
   "cell_type": "code",
   "execution_count": 21,
   "id": "68ee8873-5f92-4569-a26d-b97d00ecdadf",
   "metadata": {},
   "outputs": [],
   "source": [
    "ans = 10**20\n",
    "for i in range(1, 101):\n",
    "    Xn_n = np.array(Xn)\n",
    "    Xn_n = (Xn_n[:] - i) ** 2\n",
    "    ans = min(ans, Xn_n.sum())"
   ]
  },
  {
   "cell_type": "code",
   "execution_count": 22,
   "id": "28a76d1b-43e0-4242-9fe4-cf4f7ce84dbf",
   "metadata": {},
   "outputs": [
    {
     "name": "stdout",
     "output_type": "stream",
     "text": [
      "2354\n"
     ]
    }
   ],
   "source": [
    "print(ans)"
   ]
  },
  {
   "cell_type": "code",
   "execution_count": null,
   "id": "5622849d-f8eb-443f-90a2-7fe391404ade",
   "metadata": {},
   "outputs": [],
   "source": []
  }
 ],
 "metadata": {
  "kernelspec": {
   "display_name": "Python 3",
   "language": "python",
   "name": "python3"
  },
  "language_info": {
   "codemirror_mode": {
    "name": "ipython",
    "version": 3
   },
   "file_extension": ".py",
   "mimetype": "text/x-python",
   "name": "python",
   "nbconvert_exporter": "python",
   "pygments_lexer": "ipython3",
   "version": "3.6.13"
  }
 },
 "nbformat": 4,
 "nbformat_minor": 5
}
