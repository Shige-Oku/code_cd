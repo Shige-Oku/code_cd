{
 "cells": [
  {
   "cell_type": "code",
   "execution_count": 60,
   "id": "80e2ab86-a6b0-40d2-9136-1a5351e1a67e",
   "metadata": {},
   "outputs": [
    {
     "name": "stdin",
     "output_type": "stream",
     "text": [
      " 30 -50\n"
     ]
    }
   ],
   "source": [
    "N, L = map(int, input().split())"
   ]
  },
  {
   "cell_type": "code",
   "execution_count": 61,
   "id": "0536ea4e-2c83-4ca1-b380-7637930ff12d",
   "metadata": {},
   "outputs": [],
   "source": [
    "taste = [x for x in range(L, N+L)]"
   ]
  },
  {
   "cell_type": "code",
   "execution_count": 62,
   "id": "984a27da-efb7-462b-8e31-d2a0da5403f2",
   "metadata": {},
   "outputs": [],
   "source": [
    "total = sum(taste)\n",
    "sa = 10**20\n",
    "for t in taste:\n",
    "    c = total - t\n",
    "    if sa > abs(total - c):\n",
    "        ans = total - t\n",
    "        sa = abs(total - c)\n"
   ]
  },
  {
   "cell_type": "code",
   "execution_count": 63,
   "id": "a990850a-ea15-4080-bf91-ade7a66e5604",
   "metadata": {},
   "outputs": [
    {
     "name": "stdout",
     "output_type": "stream",
     "text": [
      "-1044\n"
     ]
    }
   ],
   "source": [
    "print(ans)"
   ]
  },
  {
   "cell_type": "code",
   "execution_count": 49,
   "id": "501a550b-1a4a-41a4-9d0a-7e8983cc7624",
   "metadata": {},
   "outputs": [
    {
     "data": {
      "text/plain": [
       "(-1, 1, [-1, 0])"
      ]
     },
     "execution_count": 49,
     "metadata": {},
     "output_type": "execute_result"
    }
   ],
   "source": [
    "total, sa, taste"
   ]
  },
  {
   "cell_type": "code",
   "execution_count": 88,
   "id": "409ddd35-ebe8-4e9c-9658-fc927d9586e2",
   "metadata": {},
   "outputs": [],
   "source": [
    "c = 10**10\n",
    "h = 10**10\n",
    "for t in taste:\n",
    "    if c > abs(t):\n",
    "        c = abs(t)\n",
    "        h = t\n"
   ]
  },
  {
   "cell_type": "code",
   "execution_count": null,
   "id": "caa559fa-a981-49ae-b390-58e62b806fc3",
   "metadata": {},
   "outputs": [],
   "source": [
    "-1"
   ]
  },
  {
   "cell_type": "code",
   "execution_count": 64,
   "id": "fa2f835a-5d85-43ab-adaa-0a10554531e4",
   "metadata": {},
   "outputs": [],
   "source": [
    "import leafmap"
   ]
  },
  {
   "cell_type": "code",
   "execution_count": 65,
   "id": "4ee6a6b0-3fa2-42a6-9412-6eb641b50025",
   "metadata": {},
   "outputs": [
    {
     "data": {
      "application/vnd.jupyter.widget-view+json": {
       "model_id": "8e11e8d175894e55bd0e70e8509db4c1",
       "version_major": 2,
       "version_minor": 0
      },
      "text/plain": [
       "Map(center=[35, 140], controls=(ZoomControl(options=['position', 'zoom_in_text', 'zoom_in_title', 'zoom_out_te…"
      ]
     },
     "metadata": {},
     "output_type": "display_data"
    }
   ],
   "source": [
    "m = leafmap.Map(center=(35, 140), zoom=4)\n",
    "m"
   ]
  },
  {
   "cell_type": "code",
   "execution_count": 66,
   "id": "af04d51c-d030-49fb-97b4-a62d80417644",
   "metadata": {},
   "outputs": [
    {
     "data": {
      "application/vnd.jupyter.widget-view+json": {
       "model_id": "8e11e8d175894e55bd0e70e8509db4c1",
       "version_major": 2,
       "version_minor": 0
      },
      "text/plain": [
       "Map(center=[35, 140], controls=(ZoomControl(options=['position', 'zoom_in_text', 'zoom_in_title', 'zoom_out_te…"
      ]
     },
     "metadata": {},
     "output_type": "display_data"
    }
   ],
   "source": [
    "m"
   ]
  },
  {
   "cell_type": "code",
   "execution_count": null,
   "id": "2c93d01e-b70e-4bbd-9821-51349eef228f",
   "metadata": {},
   "outputs": [],
   "source": []
  },
  {
   "cell_type": "code",
   "execution_count": null,
   "id": "b05c42b6-c7d9-4c84-a85d-bf5f00bff533",
   "metadata": {},
   "outputs": [],
   "source": []
  }
 ],
 "metadata": {
  "kernelspec": {
   "display_name": "Python 3",
   "language": "python",
   "name": "python3"
  },
  "language_info": {
   "codemirror_mode": {
    "name": "ipython",
    "version": 3
   },
   "file_extension": ".py",
   "mimetype": "text/x-python",
   "name": "python",
   "nbconvert_exporter": "python",
   "pygments_lexer": "ipython3",
   "version": "3.6.13"
  }
 },
 "nbformat": 4,
 "nbformat_minor": 5
}
