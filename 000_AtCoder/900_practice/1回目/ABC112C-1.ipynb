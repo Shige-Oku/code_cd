{
 "cells": [
  {
   "cell_type": "code",
   "execution_count": 10,
   "id": "aeee1bce-acaf-4b79-a7d6-bd9bc0a8fbfb",
   "metadata": {},
   "outputs": [
    {
     "name": "stdin",
     "output_type": "stream",
     "text": [
      " 3\n"
     ]
    }
   ],
   "source": [
    "N = int(input())"
   ]
  },
  {
   "cell_type": "code",
   "execution_count": 11,
   "id": "18c293d8-d186-4fc8-b224-74c52d169dac",
   "metadata": {},
   "outputs": [
    {
     "name": "stdin",
     "output_type": "stream",
     "text": [
      " 99 1 191\n",
      " 100 1 192\n",
      " 99 0 192\n"
     ]
    }
   ],
   "source": [
    "XYHn = [list(map(int, input().split())) for _ in range(N)]"
   ]
  },
  {
   "cell_type": "code",
   "execution_count": 32,
   "id": "e9237747-571c-44b8-8816-ac06768bef1b",
   "metadata": {},
   "outputs": [],
   "source": [
    "def solve():\n",
    "    for i in range(101):\n",
    "        for j in range(101):\n",
    "            c = 0\n",
    "            for X, Y, H in XYHn:\n",
    "                if c == 0:\n",
    "                    c = H + abs(X-i) + abs(Y-j)\n",
    "                else:\n",
    "                     if H != c:\n",
    "                        break\n",
    "            else:\n",
    "                return i, j, c"
   ]
  },
  {
   "cell_type": "code",
   "execution_count": 33,
   "id": "8c9deff8-7e10-4079-b221-6b81b28f9cb6",
   "metadata": {},
   "outputs": [],
   "source": [
    "Cx, Cy, h = solve()"
   ]
  },
  {
   "cell_type": "code",
   "execution_count": 34,
   "id": "f599efba-cabc-470e-8caf-5db97e0cb22b",
   "metadata": {},
   "outputs": [
    {
     "name": "stdout",
     "output_type": "stream",
     "text": [
      "98 1 192\n"
     ]
    }
   ],
   "source": [
    "print(Cx, Cy, h)"
   ]
  },
  {
   "cell_type": "code",
   "execution_count": null,
   "id": "a57d8379-f25e-4f0a-956b-5e9deaea31a8",
   "metadata": {},
   "outputs": [],
   "source": []
  }
 ],
 "metadata": {
  "kernelspec": {
   "display_name": "Python 3",
   "language": "python",
   "name": "python3"
  },
  "language_info": {
   "codemirror_mode": {
    "name": "ipython",
    "version": 3
   },
   "file_extension": ".py",
   "mimetype": "text/x-python",
   "name": "python",
   "nbconvert_exporter": "python",
   "pygments_lexer": "ipython3",
   "version": "3.6.13"
  }
 },
 "nbformat": 4,
 "nbformat_minor": 5
}
