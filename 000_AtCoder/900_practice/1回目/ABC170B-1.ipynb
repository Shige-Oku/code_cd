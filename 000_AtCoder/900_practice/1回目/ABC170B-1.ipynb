{
 "cells": [
  {
   "cell_type": "code",
   "execution_count": 10,
   "id": "b6a6f86a-7387-47e3-97c5-b31820cb85e9",
   "metadata": {},
   "outputs": [
    {
     "name": "stdin",
     "output_type": "stream",
     "text": [
      " 3 8\n"
     ]
    }
   ],
   "source": [
    "X, Y = map(int, input().split())"
   ]
  },
  {
   "cell_type": "code",
   "execution_count": 8,
   "id": "15c877e7-9be9-418f-84c6-729526418bbd",
   "metadata": {},
   "outputs": [],
   "source": [
    "flg = False\n",
    "for i in range(101):\n",
    "    for j in range(101):\n",
    "        if i+j == X and i*4 + j*2 == Y:\n",
    "            flg = True"
   ]
  },
  {
   "cell_type": "code",
   "execution_count": 9,
   "id": "6eb7c561-fd51-45a7-9f29-0dc6fc972fb4",
   "metadata": {},
   "outputs": [
    {
     "name": "stdout",
     "output_type": "stream",
     "text": [
      "Yes\n"
     ]
    }
   ],
   "source": [
    "print('Yes' if flg else 'No')    "
   ]
  },
  {
   "cell_type": "code",
   "execution_count": 11,
   "id": "4b6e7bf0-6c3f-499b-8acf-f06ada509bb5",
   "metadata": {},
   "outputs": [
    {
     "name": "stdout",
     "output_type": "stream",
     "text": [
      "Yes\n"
     ]
    }
   ],
   "source": [
    "for i in range(X+1):\n",
    "    j = X - i\n",
    "    if i * 2 + j * 4 == Y:\n",
    "        print('Yes')\n",
    "        break\n",
    "else:\n",
    "    print('No')"
   ]
  },
  {
   "cell_type": "code",
   "execution_count": 12,
   "id": "49fc3eb7-1e43-44a6-9f83-ccfb29027af6",
   "metadata": {},
   "outputs": [
    {
     "name": "stdout",
     "output_type": "stream",
     "text": [
      "Yes\n"
     ]
    }
   ],
   "source": [
    "if Y % 2 == 1:\n",
    "    print('No')\n",
    "elif 2 * X <= Y  <= 4 * X:\n",
    "    print('Yes')\n",
    "else:\n",
    "    print('No')"
   ]
  },
  {
   "cell_type": "code",
   "execution_count": null,
   "id": "5cd02c5f-37c4-4588-a8cf-e9b82f42b4d0",
   "metadata": {},
   "outputs": [],
   "source": []
  }
 ],
 "metadata": {
  "kernelspec": {
   "display_name": "Python 3",
   "language": "python",
   "name": "python3"
  },
  "language_info": {
   "codemirror_mode": {
    "name": "ipython",
    "version": 3
   },
   "file_extension": ".py",
   "mimetype": "text/x-python",
   "name": "python",
   "nbconvert_exporter": "python",
   "pygments_lexer": "ipython3",
   "version": "3.6.13"
  }
 },
 "nbformat": 4,
 "nbformat_minor": 5
}
