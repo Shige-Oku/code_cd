{
 "cells": [
  {
   "cell_type": "code",
   "execution_count": 1,
   "id": "f3b7f2c8-d81e-4781-8438-17d078343fd9",
   "metadata": {},
   "outputs": [
    {
     "name": "stdin",
     "output_type": "stream",
     "text": [
      " 3\n"
     ]
    }
   ],
   "source": [
    "N = int(input())"
   ]
  },
  {
   "cell_type": "code",
   "execution_count": 2,
   "id": "56f78a27-7339-436a-9323-e8ff54d4e60c",
   "metadata": {},
   "outputs": [
    {
     "name": "stdin",
     "output_type": "stream",
     "text": [
      " 2 3\n",
      " 1 1\n",
      " 4 1\n"
     ]
    }
   ],
   "source": [
    "XYn = [list(map(int, input().split())) for _ in range(N)]"
   ]
  },
  {
   "cell_type": "code",
   "execution_count": 3,
   "id": "7d3c3038-8da2-4cd9-91d9-20f51c58861e",
   "metadata": {},
   "outputs": [
    {
     "name": "stdin",
     "output_type": "stream",
     "text": [
      " RRL\n"
     ]
    }
   ],
   "source": [
    "S = input()"
   ]
  },
  {
   "cell_type": "code",
   "execution_count": 4,
   "id": "52a2e06c-8118-4eac-b05e-c34d578d0833",
   "metadata": {},
   "outputs": [],
   "source": [
    "y_r = {}\n",
    "y_l = {}\n",
    "for i, (X, Y) in enumerate(XYn):\n",
    "    if S[i] == 'R':\n",
    "        if Y not in y_r:\n",
    "            y_r[Y] = X\n",
    "        else:\n",
    "            y_r[Y] = min(y_r[Y], X)\n",
    "    else:\n",
    "        if Y not in y_l:\n",
    "            y_l[Y] = X\n",
    "        else:\n",
    "            y_l[Y] = max(y_l[Y], X)\n",
    "    "
   ]
  },
  {
   "cell_type": "code",
   "execution_count": 7,
   "id": "cbc7b045-d604-4bc2-b0e1-42e8597e3800",
   "metadata": {},
   "outputs": [
    {
     "name": "stdout",
     "output_type": "stream",
     "text": [
      "Yes\n"
     ]
    }
   ],
   "source": [
    "for ry in y_r:\n",
    "    if ry not in y_l:\n",
    "        continue\n",
    "    if y_r[ry] < y_l[ry]:\n",
    "        print('Yes')\n",
    "        break\n",
    "else:\n",
    "    print('No')"
   ]
  },
  {
   "cell_type": "code",
   "execution_count": 5,
   "id": "284bd976-8564-4701-aa52-fab61c2c01ac",
   "metadata": {},
   "outputs": [
    {
     "data": {
      "text/plain": [
       "({3: 2, 1: 1}, {3: 2, 1: 4})"
      ]
     },
     "execution_count": 5,
     "metadata": {},
     "output_type": "execute_result"
    }
   ],
   "source": [
    "y_r, y_l"
   ]
  },
  {
   "cell_type": "code",
   "execution_count": null,
   "id": "253780f6-d02d-4932-976b-626de28cbcf6",
   "metadata": {},
   "outputs": [],
   "source": []
  }
 ],
 "metadata": {
  "kernelspec": {
   "display_name": "Python 3",
   "language": "python",
   "name": "python3"
  },
  "language_info": {
   "codemirror_mode": {
    "name": "ipython",
    "version": 3
   },
   "file_extension": ".py",
   "mimetype": "text/x-python",
   "name": "python",
   "nbconvert_exporter": "python",
   "pygments_lexer": "ipython3",
   "version": "3.6.13"
  }
 },
 "nbformat": 4,
 "nbformat_minor": 5
}
