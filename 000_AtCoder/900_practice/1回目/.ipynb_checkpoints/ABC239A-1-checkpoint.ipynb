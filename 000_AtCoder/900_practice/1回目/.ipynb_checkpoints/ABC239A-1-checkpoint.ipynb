{
 "cells": [
  {
   "cell_type": "code",
   "execution_count": 4,
   "id": "a7faa0db-2e84-49d4-a59a-5a199fb99883",
   "metadata": {},
   "outputs": [
    {
     "name": "stdin",
     "output_type": "stream",
     "text": [
      " 634\n"
     ]
    }
   ],
   "source": [
    "H = int(input())"
   ]
  },
  {
   "cell_type": "code",
   "execution_count": 5,
   "id": "96cf5f76-062e-43eb-bda5-c5cba0a32a69",
   "metadata": {},
   "outputs": [
    {
     "name": "stdout",
     "output_type": "stream",
     "text": [
      "90086.63583462311\n"
     ]
    }
   ],
   "source": [
    "print((H * (12800000 + H)) ** 0.5)"
   ]
  },
  {
   "cell_type": "code",
   "execution_count": null,
   "id": "62a42878-f794-458a-88b4-43edfe794d7f",
   "metadata": {},
   "outputs": [],
   "source": []
  }
 ],
 "metadata": {
  "kernelspec": {
   "display_name": "Python 3",
   "language": "python",
   "name": "python3"
  },
  "language_info": {
   "codemirror_mode": {
    "name": "ipython",
    "version": 3
   },
   "file_extension": ".py",
   "mimetype": "text/x-python",
   "name": "python",
   "nbconvert_exporter": "python",
   "pygments_lexer": "ipython3",
   "version": "3.6.13"
  }
 },
 "nbformat": 4,
 "nbformat_minor": 5
}
