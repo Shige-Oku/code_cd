{
 "cells": [
  {
   "cell_type": "code",
   "execution_count": 56,
   "id": "21701545-0d50-4ae8-8aed-011d69fc2278",
   "metadata": {},
   "outputs": [
    {
     "name": "stdin",
     "output_type": "stream",
     "text": [
      " ppq\n"
     ]
    }
   ],
   "source": [
    "S  = input()"
   ]
  },
  {
   "cell_type": "code",
   "execution_count": 57,
   "id": "21d3af07-b666-486f-a9e2-dcee568248bc",
   "metadata": {},
   "outputs": [
    {
     "name": "stdin",
     "output_type": "stream",
     "text": [
      " qqp\n"
     ]
    }
   ],
   "source": [
    "T  = input()"
   ]
  },
  {
   "cell_type": "code",
   "execution_count": 58,
   "id": "5b72c80f-249c-43fd-aa0b-11d2728ce92f",
   "metadata": {},
   "outputs": [
    {
     "name": "stdout",
     "output_type": "stream",
     "text": [
      "No\n"
     ]
    }
   ],
   "source": [
    "import string\n",
    "st = string.ascii_lowercase * 2\n",
    "sa = ord(T[0]) - ord(S[0])\n",
    "for s, t in zip(S, T):\n",
    "    i = ord(s) - ord('a')\n",
    "    if st[i+sa] != t:\n",
    "        print('No')\n",
    "        break\n",
    "else:\n",
    "    print('Yes')"
   ]
  },
  {
   "cell_type": "code",
   "execution_count": 59,
   "id": "9dff79eb-4349-4344-a8b6-21eebdbf3d49",
   "metadata": {},
   "outputs": [
    {
     "name": "stdout",
     "output_type": "stream",
     "text": [
      "No\n"
     ]
    }
   ],
   "source": [
    "sa = ord(T[0]) - ord(S[0]) + 26\n",
    "sa %= 26\n",
    "for s, t in zip(S, T):\n",
    "    sa2 = ord(t) - ord(s) + 26\n",
    "    sa2 %= 26\n",
    "    if sa != sa2:\n",
    "        print('No')\n",
    "        break\n",
    "else:\n",
    "    print('Yes')"
   ]
  },
  {
   "cell_type": "code",
   "execution_count": null,
   "id": "95b79e94-bf6e-4412-88d1-b43218e3fce5",
   "metadata": {},
   "outputs": [],
   "source": [
    "# WA"
   ]
  },
  {
   "cell_type": "code",
   "execution_count": 20,
   "id": "ef5ed028-daa7-4593-aa7f-05a7aa064f51",
   "metadata": {},
   "outputs": [
    {
     "name": "stdout",
     "output_type": "stream",
     "text": [
      "No\n"
     ]
    }
   ],
   "source": [
    "sa = ord(S[0]) - ord(T[0])\n",
    "for s, t in zip(S, T):\n",
    "    if ord(s) - ord(t) != sa:\n",
    "        print('No')\n",
    "        break\n",
    "else:\n",
    "    print('Yes')"
   ]
  },
  {
   "cell_type": "code",
   "execution_count": 35,
   "id": "d1ce4e27-5417-4afd-9848-38730359e92f",
   "metadata": {},
   "outputs": [
    {
     "data": {
      "text/plain": [
       "('abcdefghijklmnopqrstuvwxyz',\n",
       " 26,\n",
       " 'abcdefghijklmnopqrstuvwxyzabcdefghijklmnopqrstuvwxyz')"
      ]
     },
     "execution_count": 35,
     "metadata": {},
     "output_type": "execute_result"
    }
   ],
   "source": [
    "import string\n",
    "string.ascii_lowercase, len(string.ascii_lowercase), string.ascii_lowercase*2"
   ]
  },
  {
   "cell_type": "code",
   "execution_count": 26,
   "id": "989e28a9-66a1-4e4a-8a33-6114b5e3e817",
   "metadata": {},
   "outputs": [
    {
     "data": {
      "text/plain": [
       "(97, 105)"
      ]
     },
     "execution_count": 26,
     "metadata": {},
     "output_type": "execute_result"
    }
   ],
   "source": [
    "ord(S[0]), ord(T[0])"
   ]
  },
  {
   "cell_type": "code",
   "execution_count": 31,
   "id": "71955c04-27e7-4af3-b687-da7da968876c",
   "metadata": {},
   "outputs": [
    {
     "data": {
      "text/plain": [
       "(8, 1)"
      ]
     },
     "execution_count": 31,
     "metadata": {},
     "output_type": "execute_result"
    }
   ],
   "source": [
    "sa, sc"
   ]
  },
  {
   "cell_type": "code",
   "execution_count": null,
   "id": "5b00c6dd-8abc-4760-a5d1-2340acd821c1",
   "metadata": {},
   "outputs": [],
   "source": []
  }
 ],
 "metadata": {
  "kernelspec": {
   "display_name": "Python 3",
   "language": "python",
   "name": "python3"
  },
  "language_info": {
   "codemirror_mode": {
    "name": "ipython",
    "version": 3
   },
   "file_extension": ".py",
   "mimetype": "text/x-python",
   "name": "python",
   "nbconvert_exporter": "python",
   "pygments_lexer": "ipython3",
   "version": "3.6.13"
  }
 },
 "nbformat": 4,
 "nbformat_minor": 5
}
