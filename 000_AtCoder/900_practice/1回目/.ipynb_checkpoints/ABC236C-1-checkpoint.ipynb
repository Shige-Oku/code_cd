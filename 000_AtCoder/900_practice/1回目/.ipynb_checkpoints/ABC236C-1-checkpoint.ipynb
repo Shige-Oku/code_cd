{
 "cells": [
  {
   "cell_type": "code",
   "execution_count": 15,
   "id": "b74e07f4-be10-415d-b6a6-fbe77a3d8eb4",
   "metadata": {},
   "outputs": [
    {
     "name": "stdin",
     "output_type": "stream",
     "text": [
      " 7 7 \n"
     ]
    }
   ],
   "source": [
    "N, M = map(int, input().split())"
   ]
  },
  {
   "cell_type": "code",
   "execution_count": 16,
   "id": "5a2ee7e3-7a92-4fc0-b911-55070f22074f",
   "metadata": {},
   "outputs": [
    {
     "name": "stdin",
     "output_type": "stream",
     "text": [
      " a t c o d e r\n"
     ]
    }
   ],
   "source": [
    "Sn = list(input().split())"
   ]
  },
  {
   "cell_type": "code",
   "execution_count": 17,
   "id": "69c9407b-7d23-4f20-a199-6f8163ea014f",
   "metadata": {},
   "outputs": [
    {
     "name": "stdin",
     "output_type": "stream",
     "text": [
      " a t c o d e r\n"
     ]
    }
   ],
   "source": [
    "Tn = list(input().split())"
   ]
  },
  {
   "cell_type": "code",
   "execution_count": 18,
   "id": "7fd62841-e15d-4f97-bf63-11b55b0ca815",
   "metadata": {},
   "outputs": [
    {
     "name": "stdout",
     "output_type": "stream",
     "text": [
      "Yes\n",
      "Yes\n",
      "Yes\n",
      "Yes\n",
      "Yes\n",
      "Yes\n",
      "Yes\n"
     ]
    }
   ],
   "source": [
    "Tn_s = set(Tn)\n",
    "for S in Sn:\n",
    "    if S in Tn_s:\n",
    "        print('Yes')\n",
    "    else:\n",
    "        print('No')"
   ]
  },
  {
   "cell_type": "code",
   "execution_count": 10,
   "id": "8ae8c1d9-1664-4367-8c30-3cd2ac198094",
   "metadata": {},
   "outputs": [
    {
     "data": {
      "text/plain": [
       "['tokyo', 'kanda', 'akiba', 'okachi', 'ueno']"
      ]
     },
     "execution_count": 10,
     "metadata": {},
     "output_type": "execute_result"
    }
   ],
   "source": [
    "Sn"
   ]
  },
  {
   "cell_type": "code",
   "execution_count": 12,
   "id": "44aa2d67-2321-4596-843d-4c20a90633db",
   "metadata": {},
   "outputs": [],
   "source": [
    "Tn_s = set(Tn)"
   ]
  },
  {
   "cell_type": "code",
   "execution_count": 13,
   "id": "66126256-a65f-480a-8ed7-0e24afa75af0",
   "metadata": {},
   "outputs": [
    {
     "data": {
      "text/plain": [
       "{'akiba', 'tokyo', 'ueno'}"
      ]
     },
     "execution_count": 13,
     "metadata": {},
     "output_type": "execute_result"
    }
   ],
   "source": [
    "Tn_s"
   ]
  },
  {
   "cell_type": "code",
   "execution_count": null,
   "id": "f41b64a5-a724-433a-bec9-29b99e638519",
   "metadata": {},
   "outputs": [],
   "source": []
  }
 ],
 "metadata": {
  "kernelspec": {
   "display_name": "Python 3",
   "language": "python",
   "name": "python3"
  },
  "language_info": {
   "codemirror_mode": {
    "name": "ipython",
    "version": 3
   },
   "file_extension": ".py",
   "mimetype": "text/x-python",
   "name": "python",
   "nbconvert_exporter": "python",
   "pygments_lexer": "ipython3",
   "version": "3.6.13"
  }
 },
 "nbformat": 4,
 "nbformat_minor": 5
}
