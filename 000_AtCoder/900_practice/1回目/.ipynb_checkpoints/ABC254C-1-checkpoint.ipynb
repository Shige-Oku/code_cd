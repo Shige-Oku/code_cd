{
 "cells": [
  {
   "cell_type": "code",
   "execution_count": 21,
   "id": "64fe2aae-e6ff-45f8-b593-947838be45e1",
   "metadata": {},
   "outputs": [
    {
     "name": "stdin",
     "output_type": "stream",
     "text": [
      " 7 5\n"
     ]
    }
   ],
   "source": [
    "N, K = map(int, input().split())"
   ]
  },
  {
   "cell_type": "code",
   "execution_count": 22,
   "id": "f85e1ceb-99d7-4aef-8f1d-0f5fb39c0dc1",
   "metadata": {},
   "outputs": [
    {
     "name": "stdin",
     "output_type": "stream",
     "text": [
      " 1 2 3 4 5 5 10\n"
     ]
    }
   ],
   "source": [
    "An = list(map(int, input().split()))"
   ]
  },
  {
   "cell_type": "code",
   "execution_count": 23,
   "id": "597921bf-b842-40a2-9164-d9fc3d4e16f5",
   "metadata": {},
   "outputs": [],
   "source": [
    "An_s = sorted(An)\n",
    "num = [[] for _ in range(K)]\n",
    "for i, A in enumerate(An):\n",
    "    num[i%K].append(A)"
   ]
  },
  {
   "cell_type": "code",
   "execution_count": 24,
   "id": "698f6276-a02f-4619-94ac-39f0416a52bf",
   "metadata": {},
   "outputs": [
    {
     "name": "stdout",
     "output_type": "stream",
     "text": [
      "Yes\n"
     ]
    }
   ],
   "source": [
    "for i, n in enumerate(num):\n",
    "    num[i] = sorted(num[i])\n",
    "ans = []\n",
    "for i in range(N):\n",
    "    q, r = divmod(i, K)\n",
    "    ans.append(num[r][q])\n",
    "for s1, s2 in zip(An_s, ans):\n",
    "    if s1 != s2:\n",
    "        print('No')\n",
    "        break\n",
    "else:\n",
    "    print('Yes')"
   ]
  },
  {
   "cell_type": "code",
   "execution_count": 16,
   "id": "360447a2-eeb2-4060-9934-27b85af31d01",
   "metadata": {},
   "outputs": [
    {
     "data": {
      "text/plain": [
       "([[1, 3, 4], [3, 4]], [1, 3, 3, 4, 4])"
      ]
     },
     "execution_count": 16,
     "metadata": {},
     "output_type": "execute_result"
    }
   ],
   "source": [
    "num, ans"
   ]
  },
  {
   "cell_type": "code",
   "execution_count": null,
   "id": "97c314b2-b1b4-46d4-9696-405110f9164d",
   "metadata": {},
   "outputs": [],
   "source": []
  }
 ],
 "metadata": {
  "kernelspec": {
   "display_name": "Python 3",
   "language": "python",
   "name": "python3"
  },
  "language_info": {
   "codemirror_mode": {
    "name": "ipython",
    "version": 3
   },
   "file_extension": ".py",
   "mimetype": "text/x-python",
   "name": "python",
   "nbconvert_exporter": "python",
   "pygments_lexer": "ipython3",
   "version": "3.6.13"
  }
 },
 "nbformat": 4,
 "nbformat_minor": 5
}
