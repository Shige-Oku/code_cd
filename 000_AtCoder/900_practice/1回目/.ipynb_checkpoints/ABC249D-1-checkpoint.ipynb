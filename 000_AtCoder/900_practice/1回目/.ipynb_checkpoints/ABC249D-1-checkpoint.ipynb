{
 "cells": [
  {
   "cell_type": "code",
   "execution_count": null,
   "id": "e9a86583-6a5d-4921-80e5-32b7142de66e",
   "metadata": {},
   "outputs": [],
   "source": [
    "# サンプルが合わない"
   ]
  },
  {
   "cell_type": "code",
   "execution_count": 26,
   "id": "17cbab1e-a69c-4b8f-8333-dd2d5df2b0e4",
   "metadata": {},
   "outputs": [
    {
     "name": "stdin",
     "output_type": "stream",
     "text": [
      " 10\n"
     ]
    }
   ],
   "source": [
    "N = int(input())"
   ]
  },
  {
   "cell_type": "code",
   "execution_count": 27,
   "id": "a624e46d-7da7-4c66-af39-220f36f87a5a",
   "metadata": {},
   "outputs": [
    {
     "name": "stdin",
     "output_type": "stream",
     "text": [
      " 1 3 2 4 6 8 2 2 3 7\n"
     ]
    }
   ],
   "source": [
    "An = list(map(int, input().split()))"
   ]
  },
  {
   "cell_type": "code",
   "execution_count": 28,
   "id": "beb70154-dcc5-449b-ae54-6a4b85305980",
   "metadata": {},
   "outputs": [],
   "source": [
    "# 約数のリスト作成\n",
    "import math\n",
    "def get_divisor_list(number):\n",
    "    number_sqrt = int(math.sqrt(number)) + 1\n",
    "    divisors = []\n",
    "    for i in range(1, int(number_sqrt)):\n",
    "        if number % i == 0:\n",
    "            # 割り切れたので約数\n",
    "            divisors.append(i)\n",
    "            divisors.append(number // i)\n",
    "    return divisors\n"
   ]
  },
  {
   "cell_type": "code",
   "execution_count": 33,
   "id": "5f1898a4-3cdc-4277-a7ab-17257adbb9f3",
   "metadata": {},
   "outputs": [
    {
     "name": "stdout",
     "output_type": "stream",
     "text": [
      "1 1\n",
      "[1, 1]\n",
      "[1] [1]\n",
      "0\n",
      "3 2\n",
      "[1, 3]\n",
      "[1] [3]\n",
      "4\n",
      "2 3\n",
      "[1, 2]\n",
      "[1] [2]\n",
      "13\n",
      "4 1\n",
      "[1, 4, 2, 2]\n",
      "[1, 4] [2, 2]\n",
      "19\n",
      "6 1\n",
      "[1, 6, 2, 3]\n",
      "[1, 6] [2, 3]\n",
      "24\n",
      "8 1\n",
      "[1, 8, 2, 4]\n",
      "[1, 8] [2, 4]\n",
      "28\n",
      "7 1\n",
      "[1, 7]\n",
      "[1] [7]\n",
      "29\n"
     ]
    }
   ],
   "source": [
    "from collections import Counter\n",
    "An_c = Counter(An)\n",
    "ans = 0\n",
    "for k, v in An_c.items():\n",
    "    divisors = get_divisor_list(k)\n",
    "    l1 = divisors[:len(divisors)//2]\n",
    "    l2 = divisors[len(divisors)//2:]\n",
    "    for n1, n2 in zip(l1, l2):\n",
    "        if n1 == n2:\n",
    "            ans += v * An_c[n1] * (An_c[n2]-1)\n",
    "        else:\n",
    "            ans += v * An_c[n1] * An_c[n2]\n",
    "    print(k, v)\n",
    "    print(divisors)\n",
    "    print(l1, l2)\n",
    "    print(ans)"
   ]
  },
  {
   "cell_type": "code",
   "execution_count": 34,
   "id": "49e9b200-677c-4c1b-9e32-af061b04c37d",
   "metadata": {},
   "outputs": [
    {
     "name": "stdout",
     "output_type": "stream",
     "text": [
      "29\n"
     ]
    }
   ],
   "source": [
    "print(ans)"
   ]
  },
  {
   "cell_type": "code",
   "execution_count": 32,
   "id": "f19d80e0-5b5c-498e-b0a2-c86759728b78",
   "metadata": {},
   "outputs": [
    {
     "data": {
      "text/plain": [
       "Counter({1: 1, 3: 2, 2: 3, 4: 1, 6: 1, 8: 1, 7: 1})"
      ]
     },
     "execution_count": 32,
     "metadata": {},
     "output_type": "execute_result"
    }
   ],
   "source": [
    "An_c"
   ]
  },
  {
   "cell_type": "code",
   "execution_count": 7,
   "id": "eef7362e-df3b-4c1e-88be-d1cbda9cdd22",
   "metadata": {},
   "outputs": [
    {
     "data": {
      "text/plain": [
       "(1, 0)"
      ]
     },
     "execution_count": 7,
     "metadata": {},
     "output_type": "execute_result"
    }
   ],
   "source": [
    "An_c[6], An_c[100]"
   ]
  },
  {
   "cell_type": "code",
   "execution_count": null,
   "id": "82a5269c-f82e-4c07-8f5f-719b69a0f20c",
   "metadata": {},
   "outputs": [],
   "source": []
  }
 ],
 "metadata": {
  "kernelspec": {
   "display_name": "Python 3",
   "language": "python",
   "name": "python3"
  },
  "language_info": {
   "codemirror_mode": {
    "name": "ipython",
    "version": 3
   },
   "file_extension": ".py",
   "mimetype": "text/x-python",
   "name": "python",
   "nbconvert_exporter": "python",
   "pygments_lexer": "ipython3",
   "version": "3.6.13"
  }
 },
 "nbformat": 4,
 "nbformat_minor": 5
}
