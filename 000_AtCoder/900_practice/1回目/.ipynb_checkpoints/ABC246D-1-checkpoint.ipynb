{
 "cells": [
  {
   "cell_type": "code",
   "execution_count": null,
   "id": "baef206d-99de-4c4a-9e24-ffdd27d10f7d",
   "metadata": {},
   "outputs": [],
   "source": [
    "# 解説を読んで実装"
   ]
  },
  {
   "cell_type": "code",
   "execution_count": 12,
   "id": "17a86115-88ca-449b-86a0-d078c5bbb6c6",
   "metadata": {},
   "outputs": [
    {
     "name": "stdin",
     "output_type": "stream",
     "text": [
      " 999999999989449206\n"
     ]
    }
   ],
   "source": [
    "N = int(input())"
   ]
  },
  {
   "cell_type": "code",
   "execution_count": 13,
   "id": "e2dc6cc2-8061-4f97-9192-4da6453d0291",
   "metadata": {},
   "outputs": [],
   "source": [
    "def f(a, b):\n",
    "    return a**3 + a**2 * b + a * b**2 + b**3"
   ]
  },
  {
   "cell_type": "code",
   "execution_count": 14,
   "id": "24ed799d-beb6-41fe-8f73-eafda1be879c",
   "metadata": {},
   "outputs": [],
   "source": [
    "ans = 10**20\n",
    "j = 10**6\n",
    "for i in range(10**6+1):\n",
    "    while j >= 0:\n",
    "        c = f(i, j)\n",
    "        if c < N:\n",
    "            break\n",
    "        ans = min(ans, c)\n",
    "        j -= 1\n"
   ]
  },
  {
   "cell_type": "code",
   "execution_count": 15,
   "id": "b8a48d60-f3d4-417d-886a-7e4533d3d41b",
   "metadata": {},
   "outputs": [
    {
     "name": "stdout",
     "output_type": "stream",
     "text": [
      "1000000000000000000\n"
     ]
    }
   ],
   "source": [
    "print(ans)"
   ]
  },
  {
   "cell_type": "code",
   "execution_count": null,
   "id": "2653942e-53d6-4cad-a8d4-39908083cda4",
   "metadata": {},
   "outputs": [],
   "source": []
  }
 ],
 "metadata": {
  "kernelspec": {
   "display_name": "Python 3",
   "language": "python",
   "name": "python3"
  },
  "language_info": {
   "codemirror_mode": {
    "name": "ipython",
    "version": 3
   },
   "file_extension": ".py",
   "mimetype": "text/x-python",
   "name": "python",
   "nbconvert_exporter": "python",
   "pygments_lexer": "ipython3",
   "version": "3.6.13"
  }
 },
 "nbformat": 4,
 "nbformat_minor": 5
}
