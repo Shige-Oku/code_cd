{
 "cells": [
  {
   "cell_type": "code",
   "execution_count": 1,
   "id": "f21243b0-5c25-4a32-991f-85b84b6283bd",
   "metadata": {},
   "outputs": [
    {
     "name": "stdin",
     "output_type": "stream",
     "text": [
      " 3 4\n"
     ]
    }
   ],
   "source": [
    "H, W = map(int, input().split())"
   ]
  },
  {
   "cell_type": "code",
   "execution_count": 2,
   "id": "3ba1b2a8-f2ce-4c6c-b666-6859c9c6eb78",
   "metadata": {},
   "outputs": [
    {
     "name": "stdin",
     "output_type": "stream",
     "text": [
      " .#..\n",
      " ..#.\n",
      " ..##\n"
     ]
    }
   ],
   "source": [
    "Cn = [input() for _ in range(H)]"
   ]
  },
  {
   "cell_type": "code",
   "execution_count": 14,
   "id": "2ab1050c-01b2-4b62-8802-24e7c80205a5",
   "metadata": {},
   "outputs": [],
   "source": [
    "from collections import deque\n",
    "import itertools\n",
    "ans = [[0]* W for _ in range(H)]\n",
    "ans[0][0] = 1\n",
    "q = deque()\n",
    "q.append((0, 0))\n",
    "while q:\n",
    "    x, y = q.popleft()\n",
    "    if x+1 < H:\n",
    "        if Cn[x+1][y] == '.':\n",
    "            if ans[x][y] + 1 > ans[x+1][y]:\n",
    "                ans[x+1][y] = ans[x][y] + 1\n",
    "                q.append((x+1, y))\n",
    "    if y+1 < W:\n",
    "        if Cn[x][y+1] == '.':\n",
    "            if ans[x][y+1] + 1 > ans[x][y+1]:\n",
    "                ans[x][y+1] = ans[x][y] + 1\n",
    "                q.append((x, y+1))\n",
    "            "
   ]
  },
  {
   "cell_type": "code",
   "execution_count": 15,
   "id": "9d973962-7d3b-4d63-aebc-5a9a17c2d5a6",
   "metadata": {},
   "outputs": [
    {
     "name": "stdout",
     "output_type": "stream",
     "text": [
      "4\n"
     ]
    }
   ],
   "source": [
    "print(max(itertools.chain.from_iterable(ans)))"
   ]
  },
  {
   "cell_type": "code",
   "execution_count": null,
   "id": "1b8b7ed2-3c9f-48ac-bb7c-6c3cecd2a52a",
   "metadata": {},
   "outputs": [],
   "source": []
  }
 ],
 "metadata": {
  "kernelspec": {
   "display_name": "Python 3",
   "language": "python",
   "name": "python3"
  },
  "language_info": {
   "codemirror_mode": {
    "name": "ipython",
    "version": 3
   },
   "file_extension": ".py",
   "mimetype": "text/x-python",
   "name": "python",
   "nbconvert_exporter": "python",
   "pygments_lexer": "ipython3",
   "version": "3.6.13"
  }
 },
 "nbformat": 4,
 "nbformat_minor": 5
}
