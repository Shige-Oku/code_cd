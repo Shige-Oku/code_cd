{
 "cells": [
  {
   "cell_type": "code",
   "execution_count": 1,
   "id": "677c4904-de5d-4cfe-aa25-1ac291683c7b",
   "metadata": {},
   "outputs": [
    {
     "name": "stdin",
     "output_type": "stream",
     "text": [
      " 3 1\n"
     ]
    }
   ],
   "source": [
    "N, Q = map(int, input().split())"
   ]
  },
  {
   "cell_type": "code",
   "execution_count": 2,
   "id": "3b0e7b08-fc8a-4383-aba2-dc0316cdf547",
   "metadata": {},
   "outputs": [
    {
     "name": "stdin",
     "output_type": "stream",
     "text": [
      " 100 160 130\n"
     ]
    }
   ],
   "source": [
    "An = list(map(int, input().split()))"
   ]
  },
  {
   "cell_type": "code",
   "execution_count": 4,
   "id": "12494c45-d5f3-465c-8e00-a5b8b86009d8",
   "metadata": {},
   "outputs": [
    {
     "name": "stdin",
     "output_type": "stream",
     "text": [
      " 120\n"
     ]
    }
   ],
   "source": [
    "Xn = [int(input()) for _ in range(Q)]"
   ]
  },
  {
   "cell_type": "code",
   "execution_count": 14,
   "id": "3b37ce45-168a-4aec-add4-1792369403ed",
   "metadata": {},
   "outputs": [
    {
     "name": "stdout",
     "output_type": "stream",
     "text": [
      "2\n"
     ]
    }
   ],
   "source": [
    "from bisect import bisect_left\n",
    "An_s = sorted(An)\n",
    "for X in Xn:\n",
    "    print(N - bisect_left(An_s, X))"
   ]
  },
  {
   "cell_type": "code",
   "execution_count": 15,
   "id": "ebcc797c-20fa-4123-9626-a2056621b625",
   "metadata": {},
   "outputs": [
    {
     "data": {
      "text/plain": [
       "[100, 130, 160]"
      ]
     },
     "execution_count": 15,
     "metadata": {},
     "output_type": "execute_result"
    }
   ],
   "source": [
    "An_s"
   ]
  },
  {
   "cell_type": "code",
   "execution_count": 21,
   "id": "e81e86e9-016f-4cf5-be00-ce3f86a6f604",
   "metadata": {},
   "outputs": [],
   "source": [
    "An_s = sorted(An)\n",
    "Xn2 = []\n",
    "for i, X in enumerate(Xn):\n",
    "    Xn2.append([X, i])\n",
    "Xn_s = sorted(Xn2)\n",
    "j = 0\n",
    "for i, (X, _) in enumerate(Xn_s):\n",
    "    while j < N:\n",
    "        if An_s[j] >= X:\n",
    "            break\n",
    "        j += 1\n",
    "    Xn_s[i].append(j)"
   ]
  },
  {
   "cell_type": "code",
   "execution_count": 26,
   "id": "51bcdba0-9602-413c-b7b8-80b51c957dfc",
   "metadata": {},
   "outputs": [
    {
     "name": "stdout",
     "output_type": "stream",
     "text": [
      "2\n"
     ]
    }
   ],
   "source": [
    "for _, _, ans in sorted(Xn_s, key=lambda x:x[1]):\n",
    "    print(N-ans)"
   ]
  },
  {
   "cell_type": "code",
   "execution_count": 23,
   "id": "16378474-a813-457e-9eea-1228a0398a7e",
   "metadata": {},
   "outputs": [
    {
     "data": {
      "text/plain": [
       "([[120, 0, 1]], [[120, 0, 1]])"
      ]
     },
     "execution_count": 23,
     "metadata": {},
     "output_type": "execute_result"
    }
   ],
   "source": [
    "Xn_s, sorted(Xn_s, key=lambda x:x[1])"
   ]
  },
  {
   "cell_type": "code",
   "execution_count": null,
   "id": "cb992f75-04f0-4b67-8d29-7e947799babb",
   "metadata": {},
   "outputs": [],
   "source": []
  }
 ],
 "metadata": {
  "kernelspec": {
   "display_name": "Python 3",
   "language": "python",
   "name": "python3"
  },
  "language_info": {
   "codemirror_mode": {
    "name": "ipython",
    "version": 3
   },
   "file_extension": ".py",
   "mimetype": "text/x-python",
   "name": "python",
   "nbconvert_exporter": "python",
   "pygments_lexer": "ipython3",
   "version": "3.6.13"
  }
 },
 "nbformat": 4,
 "nbformat_minor": 5
}
