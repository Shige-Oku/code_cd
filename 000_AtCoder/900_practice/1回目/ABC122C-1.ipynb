{
 "cells": [
  {
   "cell_type": "code",
   "execution_count": 1,
   "id": "33331ef8-ee38-48d2-a5a4-8859c6cdde89",
   "metadata": {},
   "outputs": [
    {
     "name": "stdin",
     "output_type": "stream",
     "text": [
      " 8 3\n"
     ]
    }
   ],
   "source": [
    "N, Q = map(int, input().split())"
   ]
  },
  {
   "cell_type": "code",
   "execution_count": 2,
   "id": "6b5b6143-39ca-47be-a7f0-e7ca9eaaccf4",
   "metadata": {},
   "outputs": [
    {
     "name": "stdin",
     "output_type": "stream",
     "text": [
      " ACACTACG\n"
     ]
    }
   ],
   "source": [
    "S = input()"
   ]
  },
  {
   "cell_type": "code",
   "execution_count": 3,
   "id": "9de42f28-a5a1-4bc4-a09e-12987d85ef9b",
   "metadata": {},
   "outputs": [
    {
     "name": "stdin",
     "output_type": "stream",
     "text": [
      " 3 7\n",
      " 2 3\n",
      " 1 8\n"
     ]
    }
   ],
   "source": [
    "LRn = [list(map(int, input().split())) for _ in range(Q)]"
   ]
  },
  {
   "cell_type": "code",
   "execution_count": 12,
   "id": "93ec9f86-6e6b-4d8d-8a28-9703751ff2a0",
   "metadata": {},
   "outputs": [],
   "source": [
    "LRn_c = [0, 0, ]\n",
    "for i in range(1, N):\n",
    "    if S[i-1:i+1] == 'AC':\n",
    "        LRn_c.append(LRn_c[-1] + 1)\n",
    "    else:\n",
    "        LRn_c.append(LRn_c[-1])\n",
    "        "
   ]
  },
  {
   "cell_type": "code",
   "execution_count": 14,
   "id": "d685f9d1-2318-43ff-9277-7727e0b11e88",
   "metadata": {},
   "outputs": [
    {
     "name": "stdout",
     "output_type": "stream",
     "text": [
      "2\n",
      "0\n",
      "3\n"
     ]
    }
   ],
   "source": [
    "for L, R in LRn:\n",
    "    print(LRn_c[R]-LRn_c[L])"
   ]
  },
  {
   "cell_type": "code",
   "execution_count": 13,
   "id": "ace8c6b8-191b-4866-992b-a34732b98945",
   "metadata": {},
   "outputs": [
    {
     "data": {
      "text/plain": [
       "[0, 0, 1, 1, 2, 2, 2, 3, 3]"
      ]
     },
     "execution_count": 13,
     "metadata": {},
     "output_type": "execute_result"
    }
   ],
   "source": [
    "LRn_c"
   ]
  },
  {
   "cell_type": "code",
   "execution_count": null,
   "id": "fb77daf9-1142-4b88-9ec1-590a57a63e97",
   "metadata": {},
   "outputs": [],
   "source": []
  }
 ],
 "metadata": {
  "kernelspec": {
   "display_name": "Python 3",
   "language": "python",
   "name": "python3"
  },
  "language_info": {
   "codemirror_mode": {
    "name": "ipython",
    "version": 3
   },
   "file_extension": ".py",
   "mimetype": "text/x-python",
   "name": "python",
   "nbconvert_exporter": "python",
   "pygments_lexer": "ipython3",
   "version": "3.6.13"
  }
 },
 "nbformat": 4,
 "nbformat_minor": 5
}
