{
 "cells": [
  {
   "cell_type": "code",
   "execution_count": 8,
   "id": "0640e40a-4ab8-4fcd-82c1-9a4904a80370",
   "metadata": {},
   "outputs": [
    {
     "name": "stdin",
     "output_type": "stream",
     "text": [
      " 3 5\n"
     ]
    }
   ],
   "source": [
    "R, C = map(int, input().split())"
   ]
  },
  {
   "cell_type": "code",
   "execution_count": 5,
   "id": "d033128a-3262-41ec-ae9a-6e89b099dc43",
   "metadata": {},
   "outputs": [
    {
     "name": "stdout",
     "output_type": "stream",
     "text": [
      "white\n"
     ]
    }
   ],
   "source": [
    "if R in (1, 15):\n",
    "    print('black')\n",
    "elif R in (2, 14):\n",
    "    if C  in (1, 15):\n",
    "        print('black')\n",
    "    else:\n",
    "        print('white')\n",
    "elif R in (3, 13):\n",
    "    if C  not in (2, 14):\n",
    "        print('black')\n",
    "    else:\n",
    "        print('white')\n",
    "elif R in (4, 12):\n",
    "    if C  in (1, 3, 13, 15):\n",
    "        print('black')\n",
    "    else:\n",
    "        print('white')\n",
    "elif R in (5, 11):\n",
    "    if C  not in (2, 4, 12, 14):\n",
    "        print('black')\n",
    "    else:\n",
    "        print('white')\n",
    "elif R in (6, 10):\n",
    "    if C  in (1, 3, 5, 11, 13, 15):\n",
    "        print('black')\n",
    "    else:\n",
    "        print('white')\n",
    "elif R in (7, 9):\n",
    "    if C  not in (2, 4, 6, 10, 12, 14):\n",
    "        print('black')\n",
    "    else:\n",
    "        print('white')\n",
    "else:\n",
    "    if C % 2 == 1:\n",
    "        print('black')\n",
    "    else:\n",
    "        print('white')\n",
    "        "
   ]
  },
  {
   "cell_type": "code",
   "execution_count": 9,
   "id": "ae52d9f9-dc8b-442e-bda0-62e1eecada71",
   "metadata": {},
   "outputs": [],
   "source": [
    "grid = [\n",
    "    \"###############\",\n",
    "    \"#.............#\",\n",
    "    \"#.###########.#\",\n",
    "    \"#.#.........#.#\",\n",
    "    \"#.#.#######.#.#\",\n",
    "    \"#.#.#.....#.#.#\",\n",
    "    \"#.#.#.###.#.#.#\",\n",
    "    \"#.#.#.#.#.#.#.#\",\n",
    "    \"#.#.#.###.#.#.#\",\n",
    "    \"#.#.#.....#.#.#\",\n",
    "    \"#.#.#######.#.#\",\n",
    "    \"#.#.........#.#\",\n",
    "    \"#.###########.#\",\n",
    "    \"#.............#\",\n",
    "    \"###############\",\n",
    "]"
   ]
  },
  {
   "cell_type": "code",
   "execution_count": 10,
   "id": "0a3d9698-6049-4374-96ff-64876a437295",
   "metadata": {},
   "outputs": [
    {
     "name": "stdout",
     "output_type": "stream",
     "text": [
      "black\n"
     ]
    }
   ],
   "source": [
    "print('black' if grid[R-1][C-1] == \"#\" else 'white')"
   ]
  },
  {
   "cell_type": "code",
   "execution_count": 11,
   "id": "8e7d8aa9-e968-49c2-ba51-027d4136dd05",
   "metadata": {},
   "outputs": [
    {
     "name": "stdout",
     "output_type": "stream",
     "text": [
      "black\n"
     ]
    }
   ],
   "source": [
    "print('black' if max(abs(R-8), abs(C-8)) % 2 == 1 else 'white')"
   ]
  },
  {
   "cell_type": "code",
   "execution_count": null,
   "id": "b0ab7f63-6fdc-4b6b-9b52-6630fd086b42",
   "metadata": {},
   "outputs": [],
   "source": []
  }
 ],
 "metadata": {
  "kernelspec": {
   "display_name": "Python 3",
   "language": "python",
   "name": "python3"
  },
  "language_info": {
   "codemirror_mode": {
    "name": "ipython",
    "version": 3
   },
   "file_extension": ".py",
   "mimetype": "text/x-python",
   "name": "python",
   "nbconvert_exporter": "python",
   "pygments_lexer": "ipython3",
   "version": "3.6.13"
  }
 },
 "nbformat": 4,
 "nbformat_minor": 5
}
