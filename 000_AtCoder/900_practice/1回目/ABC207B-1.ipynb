{
 "cells": [
  {
   "cell_type": "code",
   "execution_count": 26,
   "id": "892aa292-5fc1-4552-87c0-9e7571e003df",
   "metadata": {},
   "outputs": [
    {
     "name": "stdin",
     "output_type": "stream",
     "text": [
      " 6 9 2 3\n"
     ]
    }
   ],
   "source": [
    "A, B, C, D = map(int, input().split())"
   ]
  },
  {
   "cell_type": "code",
   "execution_count": 27,
   "id": "5170c02d-3d1d-484a-9c3e-1a586525baf8",
   "metadata": {},
   "outputs": [],
   "source": [
    "def solve():\n",
    "    r = 0\n",
    "    b = A\n",
    "    ans = 0\n",
    "    for i in range(10**5+1):\n",
    "        if b <= r * D:\n",
    "            break\n",
    "        r += C\n",
    "        b += B\n",
    "        ans += 1\n",
    "    else:\n",
    "        ans = -1\n",
    "    return ans"
   ]
  },
  {
   "cell_type": "code",
   "execution_count": 28,
   "id": "0e8ecbc4-247c-4e5d-b382-806e1e3d95e7",
   "metadata": {},
   "outputs": [
    {
     "name": "stdout",
     "output_type": "stream",
     "text": [
      "-1\n"
     ]
    }
   ],
   "source": [
    "print(solve())"
   ]
  },
  {
   "cell_type": "code",
   "execution_count": 9,
   "id": "3f487999-209a-4080-a9cf-27e1ee98477f",
   "metadata": {},
   "outputs": [
    {
     "data": {
      "text/plain": [
       "(0, 5)"
      ]
     },
     "execution_count": 9,
     "metadata": {},
     "output_type": "execute_result"
    }
   ],
   "source": [
    "r, b"
   ]
  },
  {
   "cell_type": "code",
   "execution_count": 29,
   "id": "dcd6ae61-da2d-4c93-9bbf-6fd828ad36d6",
   "metadata": {},
   "outputs": [],
   "source": [
    "import math"
   ]
  },
  {
   "cell_type": "code",
   "execution_count": 30,
   "id": "521bd7e9-efef-486a-9f2f-8b3bef855746",
   "metadata": {},
   "outputs": [
    {
     "name": "stdout",
     "output_type": "stream",
     "text": [
      "-1\n"
     ]
    }
   ],
   "source": [
    "if C*D - B <= 0:\n",
    "    print(-1)\n",
    "else:\n",
    "    print(math.ceil(A / (C*D-B)))"
   ]
  },
  {
   "cell_type": "code",
   "execution_count": null,
   "id": "26ee5ede-29fe-40cb-a011-e27e6b10671d",
   "metadata": {},
   "outputs": [],
   "source": []
  }
 ],
 "metadata": {
  "kernelspec": {
   "display_name": "Python 3",
   "language": "python",
   "name": "python3"
  },
  "language_info": {
   "codemirror_mode": {
    "name": "ipython",
    "version": 3
   },
   "file_extension": ".py",
   "mimetype": "text/x-python",
   "name": "python",
   "nbconvert_exporter": "python",
   "pygments_lexer": "ipython3",
   "version": "3.6.13"
  }
 },
 "nbformat": 4,
 "nbformat_minor": 5
}
