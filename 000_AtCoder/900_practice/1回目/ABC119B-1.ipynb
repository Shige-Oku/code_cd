{
 "cells": [
  {
   "cell_type": "code",
   "execution_count": 1,
   "id": "093a05ea-4a32-4751-a88b-263e9ea62077",
   "metadata": {},
   "outputs": [
    {
     "name": "stdin",
     "output_type": "stream",
     "text": [
      " 2\n"
     ]
    }
   ],
   "source": [
    "N = int(input())"
   ]
  },
  {
   "cell_type": "code",
   "execution_count": 2,
   "id": "85144855-3212-48af-afc2-e996684d655a",
   "metadata": {},
   "outputs": [
    {
     "name": "stdin",
     "output_type": "stream",
     "text": [
      " 10000 JPY\n",
      " 0.10000000 BTC\n"
     ]
    }
   ],
   "source": [
    "XYn = [list(input().split()) for _ in range(N)]"
   ]
  },
  {
   "cell_type": "code",
   "execution_count": 3,
   "id": "6d3c2c1d-a920-4b8b-a3a2-16089d3243f2",
   "metadata": {},
   "outputs": [],
   "source": [
    "j = 0\n",
    "b = 0\n",
    "for X, Y in XYn:\n",
    "    if Y == 'JPY':\n",
    "        j += int(X)\n",
    "    else:\n",
    "        b += float(X)"
   ]
  },
  {
   "cell_type": "code",
   "execution_count": 4,
   "id": "fc0fcac2-906b-491d-85ee-148098f8361f",
   "metadata": {},
   "outputs": [
    {
     "name": "stdout",
     "output_type": "stream",
     "text": [
      "48000.0\n"
     ]
    }
   ],
   "source": [
    "print(j+b*380000)"
   ]
  },
  {
   "cell_type": "code",
   "execution_count": null,
   "id": "5d149cda-10d1-4523-b61b-ed633eff160b",
   "metadata": {},
   "outputs": [],
   "source": []
  }
 ],
 "metadata": {
  "kernelspec": {
   "display_name": "Python 3",
   "language": "python",
   "name": "python3"
  },
  "language_info": {
   "codemirror_mode": {
    "name": "ipython",
    "version": 3
   },
   "file_extension": ".py",
   "mimetype": "text/x-python",
   "name": "python",
   "nbconvert_exporter": "python",
   "pygments_lexer": "ipython3",
   "version": "3.6.13"
  }
 },
 "nbformat": 4,
 "nbformat_minor": 5
}
