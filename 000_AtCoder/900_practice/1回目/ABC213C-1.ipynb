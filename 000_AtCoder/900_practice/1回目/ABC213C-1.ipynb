{
 "cells": [
  {
   "cell_type": "code",
   "execution_count": 1,
   "id": "00ecc9ae-f91e-4f4b-9987-32412d8b9848",
   "metadata": {},
   "outputs": [
    {
     "name": "stdin",
     "output_type": "stream",
     "text": [
      " 4 5 2\n"
     ]
    }
   ],
   "source": [
    "H, W, N = map(int, input().split())"
   ]
  },
  {
   "cell_type": "code",
   "execution_count": 2,
   "id": "2a41aa88-c0be-4a44-bec6-e14c2dac21de",
   "metadata": {},
   "outputs": [
    {
     "name": "stdin",
     "output_type": "stream",
     "text": [
      " 3 2\n",
      " 2 5\n"
     ]
    }
   ],
   "source": [
    "ABn = [list(map(int, input().split())) for _ in range(N)]"
   ]
  },
  {
   "cell_type": "code",
   "execution_count": 3,
   "id": "641dfcc0-ed4d-48f1-9221-bb0c5dc88b89",
   "metadata": {},
   "outputs": [],
   "source": [
    "from bisect import bisect_left"
   ]
  },
  {
   "cell_type": "code",
   "execution_count": 10,
   "id": "be53c295-272d-4774-a06d-03d8a03ea68a",
   "metadata": {},
   "outputs": [
    {
     "name": "stdout",
     "output_type": "stream",
     "text": [
      "2 1\n",
      "1 2\n"
     ]
    }
   ],
   "source": [
    "Hn = set()\n",
    "Wn = set()\n",
    "for A, B in ABn:\n",
    "    Hn.add(A)\n",
    "    Wn.add(B)\n",
    "Hn_s = sorted(Hn)\n",
    "Wn_s = sorted(Wn)\n",
    "for A, B in ABn:\n",
    "    x = bisect_left(Hn_s, A)\n",
    "    y = bisect_left(Wn_s, B)\n",
    "    x_sa = A - (x+1)\n",
    "    y_sa = B - (y+1)\n",
    "    print(A-x_sa, B-y_sa)"
   ]
  },
  {
   "cell_type": "code",
   "execution_count": 9,
   "id": "f4110d04-d18c-4da7-b2db-89224f0eb585",
   "metadata": {},
   "outputs": [
    {
     "data": {
      "text/plain": [
       "({2, 3}, [2, 3], {2, 5}, [2, 5])"
      ]
     },
     "execution_count": 9,
     "metadata": {},
     "output_type": "execute_result"
    }
   ],
   "source": [
    "Hn, Hn_s, Wn, Wn_s"
   ]
  },
  {
   "cell_type": "code",
   "execution_count": 11,
   "id": "fe302fba-6bb8-42c9-9667-d7089fd6dbac",
   "metadata": {},
   "outputs": [],
   "source": [
    "from bisect import bisect_left"
   ]
  },
  {
   "cell_type": "code",
   "execution_count": 12,
   "id": "294f7369-0e7b-4b80-a826-92a844aa8b20",
   "metadata": {},
   "outputs": [
    {
     "name": "stdout",
     "output_type": "stream",
     "text": [
      "2 1\n",
      "1 2\n"
     ]
    }
   ],
   "source": [
    "Hn = set()\n",
    "Wn = set()\n",
    "for A, B in ABn:\n",
    "    Hn.add(A)\n",
    "    Wn.add(B)\n",
    "Hn_s = sorted(Hn)\n",
    "Wn_s = sorted(Wn)\n",
    "for A, B in ABn:\n",
    "    x = bisect_left(Hn_s, A)\n",
    "    y = bisect_left(Wn_s, B)\n",
    "    print(x+1, y+1)"
   ]
  },
  {
   "cell_type": "code",
   "execution_count": null,
   "id": "5dac6fee-5cc9-4259-90b8-614ed23d8c9d",
   "metadata": {},
   "outputs": [],
   "source": []
  }
 ],
 "metadata": {
  "kernelspec": {
   "display_name": "Python 3",
   "language": "python",
   "name": "python3"
  },
  "language_info": {
   "codemirror_mode": {
    "name": "ipython",
    "version": 3
   },
   "file_extension": ".py",
   "mimetype": "text/x-python",
   "name": "python",
   "nbconvert_exporter": "python",
   "pygments_lexer": "ipython3",
   "version": "3.6.13"
  }
 },
 "nbformat": 4,
 "nbformat_minor": 5
}
