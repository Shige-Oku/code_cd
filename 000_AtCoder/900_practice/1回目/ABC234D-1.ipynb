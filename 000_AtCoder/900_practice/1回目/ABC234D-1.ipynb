{
 "cells": [
  {
   "cell_type": "code",
   "execution_count": 13,
   "id": "b9847e0e-8a51-4317-a22d-be5572dc220d",
   "metadata": {},
   "outputs": [
    {
     "name": "stdin",
     "output_type": "stream",
     "text": [
      " 11 5\n"
     ]
    }
   ],
   "source": [
    "N, K = map(int, input().split())"
   ]
  },
  {
   "cell_type": "code",
   "execution_count": 14,
   "id": "6405b598-a411-417a-8226-1bf5db8facfe",
   "metadata": {},
   "outputs": [
    {
     "name": "stdin",
     "output_type": "stream",
     "text": [
      " 3 7 2 5 11 6 1 9 8 10 4\n"
     ]
    }
   ],
   "source": [
    "Pn = list(map(int, input().split()))"
   ]
  },
  {
   "cell_type": "code",
   "execution_count": 26,
   "id": "469c7124-bc2c-4c9f-bb3f-463ee38448c7",
   "metadata": {},
   "outputs": [
    {
     "name": "stdout",
     "output_type": "stream",
     "text": [
      "2\n",
      "3\n",
      "3\n",
      "5\n",
      "6\n",
      "7\n",
      "7\n"
     ]
    }
   ],
   "source": [
    "import heapq\n",
    "q = []\n",
    "for P in Pn[:K]:\n",
    "    heapq.heappush(q, P)\n",
    "mi = heapq.heappop(q)\n",
    "print(mi)\n",
    "\n",
    "for P in Pn[K:]:\n",
    "    if P > mi:\n",
    "        heapq.heappush(q, P)\n",
    "        mi = heapq.heappop(q)\n",
    "    print(mi)"
   ]
  },
  {
   "cell_type": "code",
   "execution_count": null,
   "id": "7dc31efa-a6db-4935-a2c7-03327995a883",
   "metadata": {},
   "outputs": [],
   "source": []
  },
  {
   "cell_type": "code",
   "execution_count": null,
   "id": "4e6e8061-9298-4c96-93f2-e18ed6b5da51",
   "metadata": {},
   "outputs": [],
   "source": [
    "# TLE"
   ]
  },
  {
   "cell_type": "code",
   "execution_count": 22,
   "id": "b9bdb640-2060-4d98-80c6-9e31d4ca4822",
   "metadata": {},
   "outputs": [
    {
     "name": "stdout",
     "output_type": "stream",
     "text": [
      "2\n",
      "3\n",
      "3\n",
      "5\n",
      "6\n",
      "7\n",
      "7\n"
     ]
    }
   ],
   "source": [
    "import bisect\n",
    "l = []\n",
    "for P in Pn[:K]:\n",
    "    l.append(P)\n",
    "l.sort()\n",
    "print(l[-K])\n",
    "for P in Pn[K:]:\n",
    "    i = bisect.bisect_left(l, P)\n",
    "    l.insert(i, P)\n",
    "    print(l[-K])"
   ]
  },
  {
   "cell_type": "code",
   "execution_count": 21,
   "id": "0a597ed4-11df-4a87-8c7c-2918663c8afd",
   "metadata": {},
   "outputs": [
    {
     "data": {
      "text/plain": [
       "[1, 2, 3, 4, 5, 6, 7, 8, 9, 10, 11]"
      ]
     },
     "execution_count": 21,
     "metadata": {},
     "output_type": "execute_result"
    }
   ],
   "source": [
    "l"
   ]
  },
  {
   "cell_type": "code",
   "execution_count": 15,
   "id": "e25ac829-8437-4006-9e1c-213e58d470be",
   "metadata": {},
   "outputs": [
    {
     "name": "stdout",
     "output_type": "stream",
     "text": [
      "2\n",
      "5\n",
      "2\n",
      "7\n",
      "11\n",
      "6\n",
      "3\n"
     ]
    }
   ],
   "source": [
    "import heapq\n",
    "q = []\n",
    "for i in range(K):\n",
    "    heapq.heappush(q, Pn[i])\n",
    "print(q[-K])\n",
    "for i in range(K, N):\n",
    "    heapq.heappush(q, Pn[i])\n",
    "    print(q[-K])"
   ]
  },
  {
   "cell_type": "code",
   "execution_count": 16,
   "id": "0b359975-7dd5-4a94-beea-f556b015018b",
   "metadata": {},
   "outputs": [
    {
     "data": {
      "text/plain": [
       "[1, 4, 2, 7, 5, 6, 3, 9, 8, 11, 10]"
      ]
     },
     "execution_count": 16,
     "metadata": {},
     "output_type": "execute_result"
    }
   ],
   "source": [
    "q"
   ]
  }
 ],
 "metadata": {
  "kernelspec": {
   "display_name": "Python 3",
   "language": "python",
   "name": "python3"
  },
  "language_info": {
   "codemirror_mode": {
    "name": "ipython",
    "version": 3
   },
   "file_extension": ".py",
   "mimetype": "text/x-python",
   "name": "python",
   "nbconvert_exporter": "python",
   "pygments_lexer": "ipython3",
   "version": "3.6.13"
  }
 },
 "nbformat": 4,
 "nbformat_minor": 5
}
