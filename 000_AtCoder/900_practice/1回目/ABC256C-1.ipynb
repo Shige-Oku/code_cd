{
 "cells": [
  {
   "cell_type": "code",
   "execution_count": 24,
   "id": "95b96737-a41a-4bd5-b8bb-12ab89c633d4",
   "metadata": {},
   "outputs": [
    {
     "name": "stdin",
     "output_type": "stream",
     "text": [
      " 20 25 30 22 29 24\n"
     ]
    }
   ],
   "source": [
    "h1, h2, h3, w1, w2, w3 = map(int, input().split())"
   ]
  },
  {
   "cell_type": "code",
   "execution_count": 27,
   "id": "d73bcc2f-1b85-4a46-9bde-fd4b320ca425",
   "metadata": {},
   "outputs": [],
   "source": [
    "ans = 0\n",
    "for h11 in range(1, 31):\n",
    "    for h21 in range(1, 31):\n",
    "        for h12 in range(1, 31):\n",
    "            for h22 in range(1, 31):\n",
    "                h13 = h1 - h11 - h12\n",
    "                h23 = h2 - h21 - h22\n",
    "                h31 = w1 - h11 - h21\n",
    "                h32 = w2 - h12 - h22\n",
    "                h33 = w3 - h13 - h23\n",
    "                if min(h13, h23, h33, h31, h32) < 1:\n",
    "                    continue\n",
    "                if h31 + h32 + h33 == h3:\n",
    "                    ans += 1\n"
   ]
  },
  {
   "cell_type": "code",
   "execution_count": 28,
   "id": "0fed91e3-00fa-4e38-9a3f-af792340ac2d",
   "metadata": {},
   "outputs": [
    {
     "name": "stdout",
     "output_type": "stream",
     "text": [
      "30613\n"
     ]
    }
   ],
   "source": [
    "print(ans)"
   ]
  },
  {
   "cell_type": "code",
   "execution_count": 4,
   "id": "bbbe9369-cc8f-4623-b201-ee5e6b19f218",
   "metadata": {},
   "outputs": [
    {
     "data": {
      "text/plain": [
       "810000"
      ]
     },
     "execution_count": 4,
     "metadata": {},
     "output_type": "execute_result"
    }
   ],
   "source": [
    "30**4"
   ]
  },
  {
   "cell_type": "code",
   "execution_count": null,
   "id": "2f648654-88c2-47c9-9ead-b0923a116dda",
   "metadata": {},
   "outputs": [],
   "source": []
  }
 ],
 "metadata": {
  "kernelspec": {
   "display_name": "Python 3",
   "language": "python",
   "name": "python3"
  },
  "language_info": {
   "codemirror_mode": {
    "name": "ipython",
    "version": 3
   },
   "file_extension": ".py",
   "mimetype": "text/x-python",
   "name": "python",
   "nbconvert_exporter": "python",
   "pygments_lexer": "ipython3",
   "version": "3.6.13"
  }
 },
 "nbformat": 4,
 "nbformat_minor": 5
}
