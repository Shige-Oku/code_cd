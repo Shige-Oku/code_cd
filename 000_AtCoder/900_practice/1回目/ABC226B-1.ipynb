{
 "cells": [
  {
   "cell_type": "code",
   "execution_count": 1,
   "id": "815b6cc7-8357-4f0e-8367-1eb29d0589ac",
   "metadata": {},
   "outputs": [
    {
     "name": "stdin",
     "output_type": "stream",
     "text": [
      " 4\n"
     ]
    }
   ],
   "source": [
    "N = int(input())"
   ]
  },
  {
   "cell_type": "code",
   "execution_count": 14,
   "id": "88d6da8b-e082-403d-bf58-bff734c6a2ed",
   "metadata": {},
   "outputs": [
    {
     "name": "stdin",
     "output_type": "stream",
     "text": [
      " 2 1 2\n",
      " 2 1 1\n",
      " 2 2 1\n",
      " 2 1 2\n"
     ]
    }
   ],
   "source": [
    "Ln = [list(map(int, input().split())) for _ in range(N)]"
   ]
  },
  {
   "cell_type": "code",
   "execution_count": 15,
   "id": "ecb4703d-d799-47ee-a4bb-68f12a42cdf2",
   "metadata": {},
   "outputs": [],
   "source": [
    "Ln_s = set()\n",
    "for L in Ln:\n",
    "    Ln_s.add(tuple(L))"
   ]
  },
  {
   "cell_type": "code",
   "execution_count": 17,
   "id": "a0af0428-f186-490c-9557-2e93ca6a8a06",
   "metadata": {},
   "outputs": [
    {
     "name": "stdout",
     "output_type": "stream",
     "text": [
      "3\n"
     ]
    }
   ],
   "source": [
    "print(len(Ln_s))"
   ]
  },
  {
   "cell_type": "code",
   "execution_count": 5,
   "id": "841e9880-9137-4b29-9b54-abbdeefe0b3e",
   "metadata": {},
   "outputs": [
    {
     "data": {
      "text/plain": [
       "{(1, 2, 3), (2, 3, 4)}"
      ]
     },
     "execution_count": 5,
     "metadata": {},
     "output_type": "execute_result"
    }
   ],
   "source": [
    "set([(1, 2, 3), (1, 2, 3), (2, 3, 4)])"
   ]
  },
  {
   "cell_type": "code",
   "execution_count": 11,
   "id": "c6b5bf21-b0f9-4462-822c-a8e2600448ab",
   "metadata": {},
   "outputs": [
    {
     "ename": "TypeError",
     "evalue": "unhashable type: 'list'",
     "output_type": "error",
     "traceback": [
      "\u001b[1;31m---------------------------------------------------------------------------\u001b[0m",
      "\u001b[1;31mTypeError\u001b[0m                                 Traceback (most recent call last)",
      "\u001b[1;32m<ipython-input-11-d94bb2e30f22>\u001b[0m in \u001b[0;36m<module>\u001b[1;34m\u001b[0m\n\u001b[1;32m----> 1\u001b[1;33m \u001b[0mset\u001b[0m\u001b[1;33m(\u001b[0m\u001b[1;33m[\u001b[0m\u001b[1;33m[\u001b[0m\u001b[1;36m1\u001b[0m\u001b[1;33m,\u001b[0m \u001b[1;36m2\u001b[0m\u001b[1;33m,\u001b[0m \u001b[1;36m3\u001b[0m\u001b[1;33m]\u001b[0m\u001b[1;33m,\u001b[0m \u001b[1;33m[\u001b[0m\u001b[1;36m1\u001b[0m\u001b[1;33m,\u001b[0m \u001b[1;36m2\u001b[0m\u001b[1;33m,\u001b[0m \u001b[1;36m3\u001b[0m\u001b[1;33m]\u001b[0m\u001b[1;33m,\u001b[0m \u001b[1;33m[\u001b[0m\u001b[1;36m2\u001b[0m\u001b[1;33m,\u001b[0m \u001b[1;36m3\u001b[0m\u001b[1;33m,\u001b[0m \u001b[1;36m4\u001b[0m\u001b[1;33m]\u001b[0m\u001b[1;33m]\u001b[0m\u001b[1;33m)\u001b[0m\u001b[1;33m\u001b[0m\u001b[1;33m\u001b[0m\u001b[0m\n\u001b[0m",
      "\u001b[1;31mTypeError\u001b[0m: unhashable type: 'list'"
     ]
    }
   ],
   "source": [
    "set([[1, 2, 3], [1, 2, 3], [2, 3, 4]])"
   ]
  },
  {
   "cell_type": "code",
   "execution_count": 16,
   "id": "350ceccb-17d0-45e9-af40-4cf55e9c4475",
   "metadata": {},
   "outputs": [
    {
     "data": {
      "text/plain": [
       "{(2, 1, 1), (2, 1, 2), (2, 2, 1)}"
      ]
     },
     "execution_count": 16,
     "metadata": {},
     "output_type": "execute_result"
    }
   ],
   "source": [
    "Ln_s"
   ]
  },
  {
   "cell_type": "code",
   "execution_count": null,
   "id": "1f72ae99-1dbe-4f9b-828b-a1213eeaf5ec",
   "metadata": {},
   "outputs": [],
   "source": []
  }
 ],
 "metadata": {
  "kernelspec": {
   "display_name": "Python 3",
   "language": "python",
   "name": "python3"
  },
  "language_info": {
   "codemirror_mode": {
    "name": "ipython",
    "version": 3
   },
   "file_extension": ".py",
   "mimetype": "text/x-python",
   "name": "python",
   "nbconvert_exporter": "python",
   "pygments_lexer": "ipython3",
   "version": "3.6.13"
  }
 },
 "nbformat": 4,
 "nbformat_minor": 5
}
