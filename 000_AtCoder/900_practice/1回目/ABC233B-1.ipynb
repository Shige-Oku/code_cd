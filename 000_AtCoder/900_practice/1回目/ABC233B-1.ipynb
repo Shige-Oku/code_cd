{
 "cells": [
  {
   "cell_type": "code",
   "execution_count": 12,
   "id": "e3a1e45c-1cf7-4dda-b0e9-dd2c4b8d3816",
   "metadata": {},
   "outputs": [
    {
     "name": "stdin",
     "output_type": "stream",
     "text": [
      " 4 13\n"
     ]
    }
   ],
   "source": [
    "L, R = map(int, input().split())"
   ]
  },
  {
   "cell_type": "code",
   "execution_count": 13,
   "id": "0ec5b83b-56c2-4e64-819d-d445f4980661",
   "metadata": {},
   "outputs": [
    {
     "name": "stdin",
     "output_type": "stream",
     "text": [
      " merrychristmas\n"
     ]
    }
   ],
   "source": [
    "S = input()"
   ]
  },
  {
   "cell_type": "code",
   "execution_count": 14,
   "id": "8fcef264-68c0-4142-b68e-c9c2d29d2de0",
   "metadata": {},
   "outputs": [
    {
     "name": "stdout",
     "output_type": "stream",
     "text": [
      "meramtsirhcyrs\n"
     ]
    }
   ],
   "source": [
    "print(S[:L-1] + S[L-1:R][::-1] + S[R:])"
   ]
  },
  {
   "cell_type": "code",
   "execution_count": 5,
   "id": "a1cfc0e4-11dd-4580-83ed-f816150b2c72",
   "metadata": {},
   "outputs": [
    {
     "data": {
      "text/plain": [
       "''"
      ]
     },
     "execution_count": 5,
     "metadata": {},
     "output_type": "execute_result"
    }
   ],
   "source": [
    " S[L:R:-1]"
   ]
  },
  {
   "cell_type": "code",
   "execution_count": null,
   "id": "2b17b2b2-c04d-4fc8-b210-d3ffd75732f3",
   "metadata": {},
   "outputs": [],
   "source": []
  }
 ],
 "metadata": {
  "kernelspec": {
   "display_name": "Python 3",
   "language": "python",
   "name": "python3"
  },
  "language_info": {
   "codemirror_mode": {
    "name": "ipython",
    "version": 3
   },
   "file_extension": ".py",
   "mimetype": "text/x-python",
   "name": "python",
   "nbconvert_exporter": "python",
   "pygments_lexer": "ipython3",
   "version": "3.6.13"
  }
 },
 "nbformat": 4,
 "nbformat_minor": 5
}
