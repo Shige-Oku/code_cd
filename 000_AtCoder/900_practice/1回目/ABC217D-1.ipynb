{
 "cells": [
  {
   "cell_type": "code",
   "execution_count": 1,
   "id": "621e345f-50d7-467e-aa75-3602b8e545f7",
   "metadata": {},
   "outputs": [
    {
     "name": "stdin",
     "output_type": "stream",
     "text": [
      " 5 3\n"
     ]
    }
   ],
   "source": [
    "L, Q = map(int, input().split())"
   ]
  },
  {
   "cell_type": "code",
   "execution_count": 3,
   "id": "1ce16bfa-dae6-4996-950e-4ade2b56c533",
   "metadata": {},
   "outputs": [
    {
     "name": "stdin",
     "output_type": "stream",
     "text": [
      " 2 2\n",
      " 1 3\n",
      " 2 2\n"
     ]
    }
   ],
   "source": [
    "CXn = [list(map(int, input().split())) for _ in range(Q)]"
   ]
  },
  {
   "cell_type": "code",
   "execution_count": 21,
   "id": "9185368c-b9b1-498b-a7f8-7d5bcedfc271",
   "metadata": {},
   "outputs": [],
   "source": [
    "from bisect import bisect_left\n",
    "import array"
   ]
  },
  {
   "cell_type": "code",
   "execution_count": 24,
   "id": "17e1e86e-a705-438e-8cd2-b958c6c0f5eb",
   "metadata": {},
   "outputs": [
    {
     "name": "stdout",
     "output_type": "stream",
     "text": [
      "5\n",
      "3\n"
     ]
    }
   ],
   "source": [
    "sep = array.array('i', [0, L])\n",
    "for C, X in CXn:\n",
    "    if C == 1:\n",
    "        p = bisect_left(sep, X)\n",
    "        sep.insert(p, X)\n",
    "    else:\n",
    "        p = bisect_left(sep, X)\n",
    "        print(sep[p] - sep[p-1])\n"
   ]
  },
  {
   "cell_type": "code",
   "execution_count": 20,
   "id": "f0958320-cc3f-4b2a-8db5-c49556f1e2ff",
   "metadata": {},
   "outputs": [
    {
     "data": {
      "text/plain": [
       "[0, 3, 5]"
      ]
     },
     "execution_count": 20,
     "metadata": {},
     "output_type": "execute_result"
    }
   ],
   "source": [
    "sep"
   ]
  },
  {
   "cell_type": "code",
   "execution_count": null,
   "id": "2870980c-e660-4b11-8dec-8c8ee56cde80",
   "metadata": {},
   "outputs": [],
   "source": [
    "# TLE"
   ]
  },
  {
   "cell_type": "code",
   "execution_count": 19,
   "id": "9192432f-c5bf-42f9-9b88-ac4830a2a5c0",
   "metadata": {},
   "outputs": [
    {
     "name": "stdout",
     "output_type": "stream",
     "text": [
      "5\n",
      "3\n"
     ]
    }
   ],
   "source": [
    "sep = [0, L]\n",
    "for C, X in CXn:\n",
    "    if C == 1:\n",
    "        p = bisect_left(sep, X)\n",
    "        sep.insert(p, X)\n",
    "    else:\n",
    "        p = bisect_left(sep, X)\n",
    "        print(sep[p] - sep[p-1])\n"
   ]
  },
  {
   "cell_type": "code",
   "execution_count": 18,
   "id": "21288005-de8e-4e8f-bbc4-16137cb78545",
   "metadata": {},
   "outputs": [
    {
     "name": "stdout",
     "output_type": "stream",
     "text": [
      "5\n",
      "3\n"
     ]
    }
   ],
   "source": [
    "sep = deque()\n",
    "sep.append(0)\n",
    "sep.append(L)\n",
    "for C, X in CXn:\n",
    "    if C == 1:\n",
    "        p = bisect_left(sep, X)\n",
    "        sep.insert(p, X)\n",
    "    else:\n",
    "        p = bisect_left(sep, X)\n",
    "        print(sep[p] - sep[p-1])\n"
   ]
  }
 ],
 "metadata": {
  "kernelspec": {
   "display_name": "Python 3",
   "language": "python",
   "name": "python3"
  },
  "language_info": {
   "codemirror_mode": {
    "name": "ipython",
    "version": 3
   },
   "file_extension": ".py",
   "mimetype": "text/x-python",
   "name": "python",
   "nbconvert_exporter": "python",
   "pygments_lexer": "ipython3",
   "version": "3.6.13"
  }
 },
 "nbformat": 4,
 "nbformat_minor": 5
}
