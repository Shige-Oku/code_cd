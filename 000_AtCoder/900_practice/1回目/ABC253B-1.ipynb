{
 "cells": [
  {
   "cell_type": "code",
   "execution_count": 1,
   "id": "c027d5aa-0f40-47a7-a357-1317b2f530fd",
   "metadata": {},
   "outputs": [
    {
     "name": "stdin",
     "output_type": "stream",
     "text": [
      " 2 3\n"
     ]
    }
   ],
   "source": [
    "H, W = map(int, input().split())"
   ]
  },
  {
   "cell_type": "code",
   "execution_count": 2,
   "id": "004b9732-9fcb-4b23-b3c2-2e829cddcdc5",
   "metadata": {},
   "outputs": [
    {
     "name": "stdin",
     "output_type": "stream",
     "text": [
      " --o\n",
      " o--\n"
     ]
    }
   ],
   "source": [
    "Sn = [input() for _ in range(H)]"
   ]
  },
  {
   "cell_type": "code",
   "execution_count": 3,
   "id": "19691fce-65b3-48b0-a977-d75acee9ebbc",
   "metadata": {},
   "outputs": [],
   "source": [
    "koma = []\n",
    "for y in range(H):\n",
    "    for x in range(W):\n",
    "        if Sn[y][x] == 'o':\n",
    "            koma.append((y, x))"
   ]
  },
  {
   "cell_type": "code",
   "execution_count": 10,
   "id": "aaac08f3-7f85-4909-88f3-b1eeadcde69f",
   "metadata": {},
   "outputs": [
    {
     "name": "stdout",
     "output_type": "stream",
     "text": [
      "3\n"
     ]
    }
   ],
   "source": [
    "print(abs(koma[0][0]-koma[1][0]) + abs(koma[0][1]-koma[1][1]))"
   ]
  },
  {
   "cell_type": "code",
   "execution_count": 8,
   "id": "7a2db182-b101-45d6-9f68-9dc290d85708",
   "metadata": {},
   "outputs": [
    {
     "data": {
      "text/plain": [
       "0"
      ]
     },
     "execution_count": 8,
     "metadata": {},
     "output_type": "execute_result"
    }
   ],
   "source": [
    "koma[0][0]"
   ]
  },
  {
   "cell_type": "code",
   "execution_count": 11,
   "id": "9a76ca4d-b46f-4872-810b-8381f9cb9f23",
   "metadata": {},
   "outputs": [
    {
     "name": "stdout",
     "output_type": "stream",
     "text": [
      "3\n"
     ]
    }
   ],
   "source": [
    "a, b = koma[0]\n",
    "c, d = koma[1]\n",
    "print(abs(a-c) + abs(b-d))"
   ]
  },
  {
   "cell_type": "code",
   "execution_count": null,
   "id": "7d001eea-29eb-4b4c-8b95-9f991ebc2f6c",
   "metadata": {},
   "outputs": [],
   "source": []
  }
 ],
 "metadata": {
  "kernelspec": {
   "display_name": "Python 3",
   "language": "python",
   "name": "python3"
  },
  "language_info": {
   "codemirror_mode": {
    "name": "ipython",
    "version": 3
   },
   "file_extension": ".py",
   "mimetype": "text/x-python",
   "name": "python",
   "nbconvert_exporter": "python",
   "pygments_lexer": "ipython3",
   "version": "3.6.13"
  }
 },
 "nbformat": 4,
 "nbformat_minor": 5
}
