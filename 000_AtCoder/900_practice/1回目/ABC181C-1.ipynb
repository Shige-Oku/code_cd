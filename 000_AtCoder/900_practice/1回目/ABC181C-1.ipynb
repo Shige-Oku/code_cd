{
 "cells": [
  {
   "cell_type": "code",
   "execution_count": 1,
   "id": "a7bc9e2f-e3d7-4c23-ae91-b5d88c69ee08",
   "metadata": {},
   "outputs": [
    {
     "name": "stdin",
     "output_type": "stream",
     "text": [
      " 4\n"
     ]
    }
   ],
   "source": [
    "N = int(input())"
   ]
  },
  {
   "cell_type": "code",
   "execution_count": 2,
   "id": "21390bb6-9a25-4053-958a-7e175c51425f",
   "metadata": {},
   "outputs": [
    {
     "name": "stdin",
     "output_type": "stream",
     "text": [
      " 0 1\n",
      " 0 2\n",
      " 0 3\n",
      " 1 1\n"
     ]
    }
   ],
   "source": [
    "XYn = [list(map(int, input().split())) for _ in range(N)]"
   ]
  },
  {
   "cell_type": "code",
   "execution_count": 5,
   "id": "b4e213e7-8e10-46fc-84ff-b86aab84120c",
   "metadata": {},
   "outputs": [],
   "source": [
    "flg = False\n",
    "for i in range(N-2):\n",
    "    x1, y1 = XYn[i]\n",
    "    for j in range(i+1, N-1):\n",
    "        x2, y2 = XYn[j]\n",
    "        for k in range(j+1, N):\n",
    "            x3, y3 = XYn[k]\n",
    "            if (y1-y2) * (x1-x3) == (y1-y3) * (x1-x2):\n",
    "                flg = True"
   ]
  },
  {
   "cell_type": "code",
   "execution_count": 6,
   "id": "902f6dfc-8f93-449b-b40d-dff045b01212",
   "metadata": {},
   "outputs": [
    {
     "name": "stdout",
     "output_type": "stream",
     "text": [
      "Yes\n"
     ]
    }
   ],
   "source": [
    "print('Yes' if flg else 'No')"
   ]
  },
  {
   "cell_type": "code",
   "execution_count": null,
   "id": "40c31c42-ebc6-4dcb-b7b7-cbcd0ee22c05",
   "metadata": {},
   "outputs": [],
   "source": []
  }
 ],
 "metadata": {
  "kernelspec": {
   "display_name": "Python 3",
   "language": "python",
   "name": "python3"
  },
  "language_info": {
   "codemirror_mode": {
    "name": "ipython",
    "version": 3
   },
   "file_extension": ".py",
   "mimetype": "text/x-python",
   "name": "python",
   "nbconvert_exporter": "python",
   "pygments_lexer": "ipython3",
   "version": "3.6.13"
  }
 },
 "nbformat": 4,
 "nbformat_minor": 5
}
