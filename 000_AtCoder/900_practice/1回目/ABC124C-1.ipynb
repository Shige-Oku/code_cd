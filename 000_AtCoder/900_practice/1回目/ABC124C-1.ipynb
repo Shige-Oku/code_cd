{
 "cells": [
  {
   "cell_type": "code",
   "execution_count": 7,
   "id": "d453f0ea-3e65-4cce-8982-ab0bfafd820f",
   "metadata": {},
   "outputs": [
    {
     "name": "stdin",
     "output_type": "stream",
     "text": [
      " 0\n"
     ]
    }
   ],
   "source": [
    "S = input()"
   ]
  },
  {
   "cell_type": "code",
   "execution_count": 8,
   "id": "0d57dcf5-28fc-4bd6-be00-33365c10be1a",
   "metadata": {},
   "outputs": [],
   "source": [
    "ans = 10**10\n",
    "c = 0\n",
    "for i, s in enumerate(S):\n",
    "    if i % 2 == 0:\n",
    "        if s != '0':\n",
    "            c += 1\n",
    "    else:\n",
    "        if s != '1':\n",
    "            c += 1\n",
    "ans = min(ans, c)\n",
    "c = 0\n",
    "for i, s in enumerate(S):\n",
    "    if i % 2 == 0:\n",
    "        if s != '1':\n",
    "            c += 1\n",
    "    else:\n",
    "        if s != '0':\n",
    "            c += 1\n",
    "ans = min(ans, c)\n"
   ]
  },
  {
   "cell_type": "code",
   "execution_count": 9,
   "id": "1bd25aa0-21b6-4f09-9464-47712a2e5b29",
   "metadata": {},
   "outputs": [
    {
     "name": "stdout",
     "output_type": "stream",
     "text": [
      "0\n"
     ]
    }
   ],
   "source": [
    "print(ans)"
   ]
  },
  {
   "cell_type": "code",
   "execution_count": null,
   "id": "79117310-1be3-44d6-ae84-56744096cc84",
   "metadata": {},
   "outputs": [],
   "source": []
  }
 ],
 "metadata": {
  "kernelspec": {
   "display_name": "Python 3",
   "language": "python",
   "name": "python3"
  },
  "language_info": {
   "codemirror_mode": {
    "name": "ipython",
    "version": 3
   },
   "file_extension": ".py",
   "mimetype": "text/x-python",
   "name": "python",
   "nbconvert_exporter": "python",
   "pygments_lexer": "ipython3",
   "version": "3.6.13"
  }
 },
 "nbformat": 4,
 "nbformat_minor": 5
}
