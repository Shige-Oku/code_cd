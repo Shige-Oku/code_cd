{
 "cells": [
  {
   "cell_type": "code",
   "execution_count": 11,
   "id": "e1665a1e-5bf2-48f7-9b1b-b2f6940440b1",
   "metadata": {},
   "outputs": [
    {
     "name": "stdin",
     "output_type": "stream",
     "text": [
      " 5 5\n"
     ]
    }
   ],
   "source": [
    "N, X = map(int, input().split())"
   ]
  },
  {
   "cell_type": "code",
   "execution_count": 12,
   "id": "59b4b4d8-48e7-4ba3-a0ab-c0302bbb5d48",
   "metadata": {},
   "outputs": [
    {
     "name": "stdin",
     "output_type": "stream",
     "text": [
      " 3 5 6 5 4\n"
     ]
    }
   ],
   "source": [
    "An = list(map(int, input().split()))"
   ]
  },
  {
   "cell_type": "code",
   "execution_count": 13,
   "id": "024ddbf4-b9e4-41cc-8d69-59efa0668f25",
   "metadata": {},
   "outputs": [],
   "source": [
    "ans = [A for A in An if A != X]"
   ]
  },
  {
   "cell_type": "code",
   "execution_count": 14,
   "id": "163e8096-c75c-44a7-81d0-45af4aff4aa2",
   "metadata": {},
   "outputs": [
    {
     "name": "stdout",
     "output_type": "stream",
     "text": [
      "3 6 4\n"
     ]
    }
   ],
   "source": [
    "print(*ans)"
   ]
  },
  {
   "cell_type": "code",
   "execution_count": 4,
   "id": "2c6d10b9-6f17-430c-ae70-0fb0cb7c5740",
   "metadata": {},
   "outputs": [
    {
     "data": {
      "text/plain": [
       "[3, 6, 4]"
      ]
     },
     "execution_count": 4,
     "metadata": {},
     "output_type": "execute_result"
    }
   ],
   "source": [
    "ans"
   ]
  },
  {
   "cell_type": "code",
   "execution_count": null,
   "id": "1d226744-e2f0-4676-b1ff-c8339f19c759",
   "metadata": {},
   "outputs": [],
   "source": []
  }
 ],
 "metadata": {
  "kernelspec": {
   "display_name": "Python 3",
   "language": "python",
   "name": "python3"
  },
  "language_info": {
   "codemirror_mode": {
    "name": "ipython",
    "version": 3
   },
   "file_extension": ".py",
   "mimetype": "text/x-python",
   "name": "python",
   "nbconvert_exporter": "python",
   "pygments_lexer": "ipython3",
   "version": "3.6.13"
  }
 },
 "nbformat": 4,
 "nbformat_minor": 5
}
