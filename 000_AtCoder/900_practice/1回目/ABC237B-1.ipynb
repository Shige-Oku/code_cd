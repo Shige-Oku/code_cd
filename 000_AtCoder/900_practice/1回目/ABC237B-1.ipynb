{
 "cells": [
  {
   "cell_type": "code",
   "execution_count": 1,
   "id": "a17d0fbd-454a-4a0f-bb00-9038d7a3045b",
   "metadata": {},
   "outputs": [
    {
     "name": "stdin",
     "output_type": "stream",
     "text": [
      " 4 3\n"
     ]
    }
   ],
   "source": [
    "H, W = map(int, input().split())"
   ]
  },
  {
   "cell_type": "code",
   "execution_count": 2,
   "id": "2ec72834-dfd6-406c-9cb2-662e994244ed",
   "metadata": {},
   "outputs": [
    {
     "name": "stdin",
     "output_type": "stream",
     "text": [
      " 1 2 3\n",
      " 4 5 6\n",
      " 7 8 9\n",
      " 10 11 12\n"
     ]
    }
   ],
   "source": [
    "An = [list(map(int, input().split())) for _ in range(H)]"
   ]
  },
  {
   "cell_type": "code",
   "execution_count": 13,
   "id": "3276026a-d24c-464b-9df5-610782bef1ad",
   "metadata": {},
   "outputs": [
    {
     "name": "stdout",
     "output_type": "stream",
     "text": [
      "1 4 7 10\n",
      "2 5 8 11\n",
      "3 6 9 12\n"
     ]
    }
   ],
   "source": [
    "import numpy as np\n",
    "An_n = np.array(An)\n",
    "for A in An_n.T:\n",
    "    print(*list(A))"
   ]
  },
  {
   "cell_type": "code",
   "execution_count": 10,
   "id": "d3674b0b-1e4d-4a31-bda2-fe4444fc7357",
   "metadata": {},
   "outputs": [
    {
     "data": {
      "text/plain": [
       "(numpy.ndarray, [1, 4, 7, 10])"
      ]
     },
     "execution_count": 10,
     "metadata": {},
     "output_type": "execute_result"
    }
   ],
   "source": [
    "type(A), list(A)"
   ]
  },
  {
   "cell_type": "code",
   "execution_count": 12,
   "id": "6e2c99da-dd03-4146-8374-43c16dc7ea78",
   "metadata": {},
   "outputs": [
    {
     "name": "stdout",
     "output_type": "stream",
     "text": [
      "1 4 7 10\n"
     ]
    }
   ],
   "source": [
    "print(*list(A))"
   ]
  },
  {
   "cell_type": "code",
   "execution_count": 19,
   "id": "57268199-f68d-4af2-8f29-18d09d80cd32",
   "metadata": {},
   "outputs": [],
   "source": [
    "ans = [[] for _ in range(W)]\n",
    "for j in range(W):\n",
    "    for i in range(H):\n",
    "        ans[j].append(An[i][j])"
   ]
  },
  {
   "cell_type": "code",
   "execution_count": 21,
   "id": "0a5e3ab7-9062-4a63-a6b6-8edf48240c8f",
   "metadata": {},
   "outputs": [
    {
     "name": "stdout",
     "output_type": "stream",
     "text": [
      "1 4 7 10\n",
      "2 5 8 11\n",
      "3 6 9 12\n"
     ]
    }
   ],
   "source": [
    "for a in ans:\n",
    "    print(*a)"
   ]
  },
  {
   "cell_type": "code",
   "execution_count": null,
   "id": "a210cd5c-6b8d-4850-988d-2f5e56510cd2",
   "metadata": {},
   "outputs": [],
   "source": []
  }
 ],
 "metadata": {
  "kernelspec": {
   "display_name": "Python 3",
   "language": "python",
   "name": "python3"
  },
  "language_info": {
   "codemirror_mode": {
    "name": "ipython",
    "version": 3
   },
   "file_extension": ".py",
   "mimetype": "text/x-python",
   "name": "python",
   "nbconvert_exporter": "python",
   "pygments_lexer": "ipython3",
   "version": "3.6.13"
  }
 },
 "nbformat": 4,
 "nbformat_minor": 5
}
