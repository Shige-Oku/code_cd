{
 "cells": [
  {
   "cell_type": "code",
   "execution_count": 12,
   "id": "8e68d3e9-d86b-4081-a8ee-e4d216617c1c",
   "metadata": {},
   "outputs": [
    {
     "name": "stdin",
     "output_type": "stream",
     "text": [
      " 4\n"
     ]
    }
   ],
   "source": [
    "N = int(input())"
   ]
  },
  {
   "cell_type": "code",
   "execution_count": 13,
   "id": "38c1e749-feaa-4ef9-9308-58b5029fb275",
   "metadata": {},
   "outputs": [
    {
     "name": "stdin",
     "output_type": "stream",
     "text": [
      " SSRS\n"
     ]
    }
   ],
   "source": [
    "T = input()"
   ]
  },
  {
   "cell_type": "code",
   "execution_count": 14,
   "id": "b88c8018-5de3-4d38-8b0b-2c0179493b84",
   "metadata": {},
   "outputs": [],
   "source": [
    "ans = [0] * 2\n",
    "mk = 0\n",
    "for t in T:\n",
    "    if t == 'S':\n",
    "        if mk == 0:\n",
    "            ans[0] += 1\n",
    "        elif mk == 1:\n",
    "            ans[1] -= 1\n",
    "        elif mk == 2:\n",
    "            ans[0] -= 1\n",
    "        else:\n",
    "            ans[1] += 1\n",
    "    else:\n",
    "        mk += 1\n",
    "        mk %= 4"
   ]
  },
  {
   "cell_type": "code",
   "execution_count": 15,
   "id": "8986bec8-4946-4c6a-b05d-489ae8884280",
   "metadata": {},
   "outputs": [
    {
     "name": "stdout",
     "output_type": "stream",
     "text": [
      "2 -1\n"
     ]
    }
   ],
   "source": [
    "print(*ans)"
   ]
  },
  {
   "cell_type": "code",
   "execution_count": 16,
   "id": "36e85a19-47d5-4a7c-a90d-f11ee7731eaa",
   "metadata": {},
   "outputs": [],
   "source": [
    "# 解説を読んで実装"
   ]
  },
  {
   "cell_type": "code",
   "execution_count": 19,
   "id": "8bbd93bc-ce2f-404d-a9c4-73c63322aa29",
   "metadata": {},
   "outputs": [],
   "source": [
    "x, y = 0, 0\n",
    "dx, dy = 1, 0\n",
    "for t in T:\n",
    "    if t == 'S':\n",
    "        x += dx\n",
    "        y += dy\n",
    "    else:\n",
    "        dx, dy = dy, -dx"
   ]
  },
  {
   "cell_type": "code",
   "execution_count": 20,
   "id": "32b828b8-9b87-46a2-8d24-df3846ebc9ca",
   "metadata": {},
   "outputs": [
    {
     "name": "stdout",
     "output_type": "stream",
     "text": [
      "2 -1\n"
     ]
    }
   ],
   "source": [
    "print(x, y)"
   ]
  },
  {
   "cell_type": "code",
   "execution_count": null,
   "id": "715d55f6-3c5c-4ed0-bee8-3b9a9b8b7658",
   "metadata": {},
   "outputs": [],
   "source": []
  }
 ],
 "metadata": {
  "kernelspec": {
   "display_name": "Python 3",
   "language": "python",
   "name": "python3"
  },
  "language_info": {
   "codemirror_mode": {
    "name": "ipython",
    "version": 3
   },
   "file_extension": ".py",
   "mimetype": "text/x-python",
   "name": "python",
   "nbconvert_exporter": "python",
   "pygments_lexer": "ipython3",
   "version": "3.6.13"
  }
 },
 "nbformat": 4,
 "nbformat_minor": 5
}
