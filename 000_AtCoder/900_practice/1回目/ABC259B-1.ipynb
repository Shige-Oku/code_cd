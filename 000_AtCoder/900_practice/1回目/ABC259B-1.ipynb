{
 "cells": [
  {
   "cell_type": "code",
   "execution_count": 3,
   "id": "cae2b941-b62c-4a0a-9dd5-d2d4959d2132",
   "metadata": {},
   "outputs": [
    {
     "name": "stdin",
     "output_type": "stream",
     "text": [
      " 5 0 120\n"
     ]
    }
   ],
   "source": [
    "A, B, D = map(int, input().split())"
   ]
  },
  {
   "cell_type": "code",
   "execution_count": 4,
   "id": "5086505f-3e83-4ade-97a3-0f03a369ed6e",
   "metadata": {},
   "outputs": [
    {
     "name": "stdout",
     "output_type": "stream",
     "text": [
      "-2.499999999999999 4.330127018922194\n"
     ]
    }
   ],
   "source": [
    "import math\n",
    "t = math.radians(D)\n",
    "x = A * math.cos(t) - B * math.sin(t)\n",
    "y = A * math.sin(t) + B * math.cos(t)\n",
    "print(x, y)"
   ]
  },
  {
   "cell_type": "code",
   "execution_count": null,
   "id": "066909b8-e078-4bf8-9d93-a31d8b30713b",
   "metadata": {},
   "outputs": [],
   "source": []
  }
 ],
 "metadata": {
  "kernelspec": {
   "display_name": "Python 3",
   "language": "python",
   "name": "python3"
  },
  "language_info": {
   "codemirror_mode": {
    "name": "ipython",
    "version": 3
   },
   "file_extension": ".py",
   "mimetype": "text/x-python",
   "name": "python",
   "nbconvert_exporter": "python",
   "pygments_lexer": "ipython3",
   "version": "3.6.13"
  }
 },
 "nbformat": 4,
 "nbformat_minor": 5
}
