{
 "cells": [
  {
   "cell_type": "code",
   "execution_count": 1,
   "id": "ae3fa32b-3a0a-463b-bb22-8212b279a4d2",
   "metadata": {},
   "outputs": [],
   "source": [
    "import math"
   ]
  },
  {
   "cell_type": "code",
   "execution_count": 4,
   "id": "a80303bd-2951-4e94-b78c-1de2c3948603",
   "metadata": {},
   "outputs": [
    {
     "name": "stdin",
     "output_type": "stream",
     "text": [
      " 73\n"
     ]
    }
   ],
   "source": [
    "R = int(input())"
   ]
  },
  {
   "cell_type": "code",
   "execution_count": 5,
   "id": "61a5dab1-a6a7-4cb6-8646-ec4cda701289",
   "metadata": {},
   "outputs": [
    {
     "name": "stdout",
     "output_type": "stream",
     "text": [
      "458.6725274241098\n"
     ]
    }
   ],
   "source": [
    "print(2*R*math.pi)"
   ]
  },
  {
   "cell_type": "code",
   "execution_count": null,
   "id": "211b299f-a332-4e48-86d0-6bf653ff0329",
   "metadata": {},
   "outputs": [],
   "source": []
  }
 ],
 "metadata": {
  "kernelspec": {
   "display_name": "Python 3",
   "language": "python",
   "name": "python3"
  },
  "language_info": {
   "codemirror_mode": {
    "name": "ipython",
    "version": 3
   },
   "file_extension": ".py",
   "mimetype": "text/x-python",
   "name": "python",
   "nbconvert_exporter": "python",
   "pygments_lexer": "ipython3",
   "version": "3.6.13"
  }
 },
 "nbformat": 4,
 "nbformat_minor": 5
}
