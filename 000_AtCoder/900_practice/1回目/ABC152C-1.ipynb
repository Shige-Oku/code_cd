{
 "cells": [
  {
   "cell_type": "code",
   "execution_count": 26,
   "id": "e2bb66f0-7ec1-48e6-9ac3-a962f24a6ea7",
   "metadata": {},
   "outputs": [
    {
     "name": "stdin",
     "output_type": "stream",
     "text": [
      " 8\n"
     ]
    }
   ],
   "source": [
    "N = int(input())"
   ]
  },
  {
   "cell_type": "code",
   "execution_count": 27,
   "id": "650ef3ff-2d95-465c-a9e8-6291cfb1d630",
   "metadata": {},
   "outputs": [
    {
     "name": "stdin",
     "output_type": "stream",
     "text": [
      " 5 7 4 2 6 8 1 3\n"
     ]
    }
   ],
   "source": [
    "Pn = list(map(int, input().split()))"
   ]
  },
  {
   "cell_type": "code",
   "execution_count": 28,
   "id": "e53e0f34-e3a9-42d7-8d3e-2821b137d3c1",
   "metadata": {},
   "outputs": [],
   "source": [
    "ans = 0\n",
    "mi = 10**10\n",
    "for i, P in enumerate(Pn):\n",
    "    if mi <= P:\n",
    "        continue\n",
    "    ans += 1\n",
    "    mi = min(mi, P)"
   ]
  },
  {
   "cell_type": "code",
   "execution_count": 29,
   "id": "3284462c-ce51-4367-9695-fc57dd67a25e",
   "metadata": {},
   "outputs": [
    {
     "name": "stdout",
     "output_type": "stream",
     "text": [
      "4\n"
     ]
    }
   ],
   "source": [
    "print(ans)"
   ]
  },
  {
   "cell_type": "code",
   "execution_count": 30,
   "id": "c05a5072-03ff-4420-8f3e-dc7459222770",
   "metadata": {},
   "outputs": [],
   "source": [
    "import numpy as np"
   ]
  },
  {
   "cell_type": "code",
   "execution_count": 37,
   "id": "f1d160ce-e9d3-436c-b9c2-5dff42e1940b",
   "metadata": {},
   "outputs": [
    {
     "name": "stdout",
     "output_type": "stream",
     "text": [
      "4\n"
     ]
    }
   ],
   "source": [
    "mi = np.minimum.accumulate(Pn)\n",
    "print(sum(Pn <= mi))"
   ]
  },
  {
   "cell_type": "code",
   "execution_count": 36,
   "id": "cd02c522-bee8-440a-8d44-acfc9fa569b5",
   "metadata": {},
   "outputs": [
    {
     "data": {
      "text/plain": [
       "array([ True, False,  True,  True, False, False,  True, False])"
      ]
     },
     "execution_count": 36,
     "metadata": {},
     "output_type": "execute_result"
    }
   ],
   "source": [
    "Pn <= mi"
   ]
  },
  {
   "cell_type": "code",
   "execution_count": null,
   "id": "8064dde1-fb06-4563-8566-70d9eed127b6",
   "metadata": {},
   "outputs": [],
   "source": []
  }
 ],
 "metadata": {
  "kernelspec": {
   "display_name": "Python 3",
   "language": "python",
   "name": "python3"
  },
  "language_info": {
   "codemirror_mode": {
    "name": "ipython",
    "version": 3
   },
   "file_extension": ".py",
   "mimetype": "text/x-python",
   "name": "python",
   "nbconvert_exporter": "python",
   "pygments_lexer": "ipython3",
   "version": "3.6.13"
  }
 },
 "nbformat": 4,
 "nbformat_minor": 5
}
