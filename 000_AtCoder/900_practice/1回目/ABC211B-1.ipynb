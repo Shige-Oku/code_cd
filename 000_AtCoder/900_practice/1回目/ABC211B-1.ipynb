{
 "cells": [
  {
   "cell_type": "code",
   "execution_count": 1,
   "id": "e44a6e67-e884-4ef3-9341-b69a67dfe214",
   "metadata": {},
   "outputs": [
    {
     "name": "stdin",
     "output_type": "stream",
     "text": [
      " 3B\n",
      " HR\n",
      " 2B\n",
      " H\n"
     ]
    }
   ],
   "source": [
    "Sn = [input() for _ in range(4)]"
   ]
  },
  {
   "cell_type": "code",
   "execution_count": 2,
   "id": "46a3a460-325c-43d7-8905-dccc5567fd23",
   "metadata": {},
   "outputs": [
    {
     "name": "stdout",
     "output_type": "stream",
     "text": [
      "Yes\n"
     ]
    }
   ],
   "source": [
    "Sn_s = set(Sn)\n",
    "print('Yes' if len(Sn_s) == 4 else 'No')"
   ]
  },
  {
   "cell_type": "code",
   "execution_count": null,
   "id": "818a9bcd-ce78-4d74-b69a-de657b1e2539",
   "metadata": {},
   "outputs": [],
   "source": []
  }
 ],
 "metadata": {
  "kernelspec": {
   "display_name": "Python 3",
   "language": "python",
   "name": "python3"
  },
  "language_info": {
   "codemirror_mode": {
    "name": "ipython",
    "version": 3
   },
   "file_extension": ".py",
   "mimetype": "text/x-python",
   "name": "python",
   "nbconvert_exporter": "python",
   "pygments_lexer": "ipython3",
   "version": "3.6.13"
  }
 },
 "nbformat": 4,
 "nbformat_minor": 5
}
