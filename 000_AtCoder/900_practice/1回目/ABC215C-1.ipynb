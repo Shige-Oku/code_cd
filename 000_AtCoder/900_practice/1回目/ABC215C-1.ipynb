{
 "cells": [
  {
   "cell_type": "code",
   "execution_count": 19,
   "id": "f5660c68-9090-4f96-ad69-044043d59361",
   "metadata": {},
   "outputs": [
    {
     "name": "stdin",
     "output_type": "stream",
     "text": [
      " ydxwacbz 40320\n"
     ]
    }
   ],
   "source": [
    "S, K = input().split()"
   ]
  },
  {
   "cell_type": "code",
   "execution_count": 20,
   "id": "eadb8c2c-fd25-4235-88a6-0c6ae680e47c",
   "metadata": {},
   "outputs": [],
   "source": [
    "K = int(K)"
   ]
  },
  {
   "cell_type": "code",
   "execution_count": 21,
   "id": "e3413a80-5737-4b0f-a7d9-2ea28c69ccb8",
   "metadata": {},
   "outputs": [],
   "source": [
    "import itertools"
   ]
  },
  {
   "cell_type": "code",
   "execution_count": 22,
   "id": "d7a8c986-8eb5-4ca0-8527-c1bc81b395a8",
   "metadata": {},
   "outputs": [],
   "source": [
    "st = set()\n",
    "for s in itertools.permutations(list(S), len(S)):\n",
    "    st.add(''.join(s))"
   ]
  },
  {
   "cell_type": "code",
   "execution_count": 23,
   "id": "c38f1bf1-3a9d-4df5-a8f3-6512864accd4",
   "metadata": {},
   "outputs": [
    {
     "name": "stdout",
     "output_type": "stream",
     "text": [
      "zyxwdcba\n"
     ]
    }
   ],
   "source": [
    "print(sorted(st)[K-1])"
   ]
  },
  {
   "cell_type": "code",
   "execution_count": null,
   "id": "6a9c1ce8-fbee-429e-a742-e0b535dc72a9",
   "metadata": {},
   "outputs": [],
   "source": []
  }
 ],
 "metadata": {
  "kernelspec": {
   "display_name": "Python 3",
   "language": "python",
   "name": "python3"
  },
  "language_info": {
   "codemirror_mode": {
    "name": "ipython",
    "version": 3
   },
   "file_extension": ".py",
   "mimetype": "text/x-python",
   "name": "python",
   "nbconvert_exporter": "python",
   "pygments_lexer": "ipython3",
   "version": "3.6.13"
  }
 },
 "nbformat": 4,
 "nbformat_minor": 5
}
