{
 "cells": [
  {
   "cell_type": "code",
   "execution_count": 12,
   "id": "e9c52085-bdcf-41e2-b4ab-06ae6cb493e8",
   "metadata": {},
   "outputs": [
    {
     "name": "stdin",
     "output_type": "stream",
     "text": [
      " RDULULDURURLRDULRLR\n"
     ]
    }
   ],
   "source": [
    "S = input()"
   ]
  },
  {
   "cell_type": "code",
   "execution_count": 13,
   "id": "5faf1785-637c-4268-ac3c-003f30f182e0",
   "metadata": {},
   "outputs": [
    {
     "name": "stdout",
     "output_type": "stream",
     "text": [
      "Yes\n"
     ]
    }
   ],
   "source": [
    "for i, s in enumerate(S):\n",
    "    if i % 2 == 1 and s == 'R':\n",
    "        print(\"No\")\n",
    "        break\n",
    "    if i % 2 == 0 and s == 'L':\n",
    "        print(\"No\")\n",
    "        break\n",
    "else:\n",
    "    print(\"Yes\")"
   ]
  },
  {
   "cell_type": "code",
   "execution_count": null,
   "id": "b06c94d8-21b4-4a84-a006-39f007ed87d4",
   "metadata": {},
   "outputs": [],
   "source": []
  }
 ],
 "metadata": {
  "kernelspec": {
   "display_name": "Python 3",
   "language": "python",
   "name": "python3"
  },
  "language_info": {
   "codemirror_mode": {
    "name": "ipython",
    "version": 3
   },
   "file_extension": ".py",
   "mimetype": "text/x-python",
   "name": "python",
   "nbconvert_exporter": "python",
   "pygments_lexer": "ipython3",
   "version": "3.6.13"
  }
 },
 "nbformat": 4,
 "nbformat_minor": 5
}
