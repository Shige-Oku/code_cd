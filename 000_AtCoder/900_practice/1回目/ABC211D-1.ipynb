{
 "cells": [
  {
   "cell_type": "code",
   "execution_count": 3,
   "id": "a74272c2-a20e-416c-8fff-3543a9604732",
   "metadata": {},
   "outputs": [
    {
     "name": "stdin",
     "output_type": "stream",
     "text": [
      " 4 5\n"
     ]
    }
   ],
   "source": [
    "N, M = map(int, input().split())"
   ]
  },
  {
   "cell_type": "code",
   "execution_count": 4,
   "id": "b9391e3d-4cbe-40c9-b038-5c6b26ce0fa7",
   "metadata": {},
   "outputs": [
    {
     "name": "stdin",
     "output_type": "stream",
     "text": [
      " 2 4\n",
      " 1 2\n",
      " 2 3\n",
      " 1 3\n",
      " 3 4\n"
     ]
    }
   ],
   "source": [
    "ABn = [list(map(int, input().split())) for _ in range(M)]"
   ]
  },
  {
   "cell_type": "code",
   "execution_count": 40,
   "id": "5905830e-71de-4fde-82d2-4511ccbf7487",
   "metadata": {},
   "outputs": [],
   "source": [
    "graph = [[] for _ in range(N+1)]\n",
    "for A, B in ABn:\n",
    "    graph[A].append(B)\n",
    "    graph[B].append(A)"
   ]
  },
  {
   "cell_type": "code",
   "execution_count": 49,
   "id": "4571a5e8-e52e-4286-aca3-da77d3f36702",
   "metadata": {},
   "outputs": [],
   "source": [
    "from collections import deque\n",
    "def BFS():\n",
    "    dis = [-1] * (N+1)\n",
    "    cnt = [0] * (N+1)\n",
    "    dis[1] = 0\n",
    "    cnt[1] = 1\n",
    "    q = deque()\n",
    "    q.append(1)\n",
    "    while q:\n",
    "        p = q.popleft()\n",
    "        for g in graph[p]:\n",
    "            if dis[g] == -1:\n",
    "                dis[g] = dis[p] + 1\n",
    "                cnt[g] = cnt[p]\n",
    "                q.append(g)\n",
    "            elif dis[p] + 1 == dis[g]:\n",
    "                cnt[g] += cnt[p]\n",
    "            cnt[g] %= 10**9 + 7\n",
    "    return cnt[N]"
   ]
  },
  {
   "cell_type": "code",
   "execution_count": 50,
   "id": "ea1657b9-e984-4829-997f-77e05490de07",
   "metadata": {},
   "outputs": [
    {
     "name": "stdout",
     "output_type": "stream",
     "text": [
      "2\n"
     ]
    }
   ],
   "source": [
    "print(BFS())"
   ]
  },
  {
   "cell_type": "code",
   "execution_count": 44,
   "id": "92ed8bef-e894-4c16-963a-9d617eee6fe3",
   "metadata": {},
   "outputs": [
    {
     "data": {
      "text/plain": [
       "([[], [2, 3], [4, 1, 3], [2, 1, 4], [2, 3]],\n",
       " [[2, 4], [1, 2], [2, 3], [1, 3], [3, 4]])"
      ]
     },
     "execution_count": 44,
     "metadata": {},
     "output_type": "execute_result"
    }
   ],
   "source": [
    "graph, ABn"
   ]
  },
  {
   "cell_type": "code",
   "execution_count": null,
   "id": "48fe414a-0abd-42c3-b486-d4d68cab91f9",
   "metadata": {},
   "outputs": [],
   "source": [
    "# TLE"
   ]
  },
  {
   "cell_type": "code",
   "execution_count": 20,
   "id": "45ee4a2b-c694-45fe-aeee-a669357cb7ff",
   "metadata": {},
   "outputs": [],
   "source": [
    "import sys\n",
    "sys.setrecursionlimit(10**7)"
   ]
  },
  {
   "cell_type": "code",
   "execution_count": 27,
   "id": "f6b8edce-423b-4fa4-a10b-fda1093d466e",
   "metadata": {},
   "outputs": [],
   "source": [
    "def DFS(target, dis, root):\n",
    "    ret = 0\n",
    "    if dis > mi:\n",
    "        return 0\n",
    "    if target == N:\n",
    "        return 1\n",
    "    for g in graph[target]:\n",
    "        if str(g) in root:\n",
    "            continue\n",
    "        ret += DFS(g, dis+1, root+str(target))\n",
    "    return ret % 10**9 + 7"
   ]
  },
  {
   "cell_type": "code",
   "execution_count": 28,
   "id": "3c0aa58f-d202-4304-b299-b17330c66b25",
   "metadata": {},
   "outputs": [],
   "source": [
    "from collections import deque\n",
    "def BFS():\n",
    "    d = [-1] * (N+1)\n",
    "    q = deque()\n",
    "    d[1] = 0\n",
    "    q.append(1)\n",
    "    while q:\n",
    "        p = q.popleft()\n",
    "        for g in graph[p]:\n",
    "            if d[g] != -1:\n",
    "                continue\n",
    "            d[g] = d[p] + 1\n",
    "            q.append(g)\n",
    "    return d[N]"
   ]
  },
  {
   "cell_type": "code",
   "execution_count": 29,
   "id": "d3e5582a-caaf-4282-ab06-340ca796a9e1",
   "metadata": {},
   "outputs": [
    {
     "name": "stdout",
     "output_type": "stream",
     "text": [
      "2\n"
     ]
    }
   ],
   "source": [
    "mi = BFS()\n",
    "print(DFS(1, 0, '0'))"
   ]
  },
  {
   "cell_type": "code",
   "execution_count": 14,
   "id": "18f6738d-26df-42a2-812c-69009390ddb9",
   "metadata": {},
   "outputs": [
    {
     "data": {
      "text/plain": [
       "2"
      ]
     },
     "execution_count": 14,
     "metadata": {},
     "output_type": "execute_result"
    }
   ],
   "source": [
    "BFS()"
   ]
  },
  {
   "cell_type": "code",
   "execution_count": null,
   "id": "569fd266-94ba-40d5-a771-019b0114675e",
   "metadata": {},
   "outputs": [],
   "source": []
  }
 ],
 "metadata": {
  "kernelspec": {
   "display_name": "Python 3",
   "language": "python",
   "name": "python3"
  },
  "language_info": {
   "codemirror_mode": {
    "name": "ipython",
    "version": 3
   },
   "file_extension": ".py",
   "mimetype": "text/x-python",
   "name": "python",
   "nbconvert_exporter": "python",
   "pygments_lexer": "ipython3",
   "version": "3.6.13"
  }
 },
 "nbformat": 4,
 "nbformat_minor": 5
}
