{
 "cells": [
  {
   "cell_type": "code",
   "execution_count": 31,
   "id": "b645a212-fc9e-4e50-8a6d-bc79ea55268c",
   "metadata": {},
   "outputs": [
    {
     "name": "stdin",
     "output_type": "stream",
     "text": [
      " 2 2 1\n"
     ]
    }
   ],
   "source": [
    "A, B, C = map(int, input().split())"
   ]
  },
  {
   "cell_type": "code",
   "execution_count": 32,
   "id": "186f75ac-f423-425c-9c8a-54b4a587f777",
   "metadata": {},
   "outputs": [
    {
     "name": "stdout",
     "output_type": "stream",
     "text": [
      "Takahashi\n"
     ]
    }
   ],
   "source": [
    "if C == 0:\n",
    "    if A > B:\n",
    "        print('Takahashi')\n",
    "    else:\n",
    "        print('Aoki')\n",
    "else:\n",
    "    if A >= B:\n",
    "        print('Takahashi')\n",
    "    else:\n",
    "        print('Aoki')\n",
    "        "
   ]
  },
  {
   "cell_type": "code",
   "execution_count": 33,
   "id": "6845a7a6-6dff-47f5-9477-b8f339ac497f",
   "metadata": {},
   "outputs": [
    {
     "name": "stdout",
     "output_type": "stream",
     "text": [
      "Aoki\n"
     ]
    }
   ],
   "source": [
    "# 解説を読んで実装"
   ]
  },
  {
   "cell_type": "code",
   "execution_count": 34,
   "id": "b93491d2-73cf-461d-9863-d4ea9763f38e",
   "metadata": {},
   "outputs": [
    {
     "name": "stdout",
     "output_type": "stream",
     "text": [
      "Takahashi\n"
     ]
    }
   ],
   "source": [
    "print('Takahashi' if A+C > B else 'Aoki')"
   ]
  },
  {
   "cell_type": "code",
   "execution_count": null,
   "id": "6280c651-bad1-42f3-94a1-1033fe1af666",
   "metadata": {},
   "outputs": [],
   "source": []
  }
 ],
 "metadata": {
  "kernelspec": {
   "display_name": "Python 3",
   "language": "python",
   "name": "python3"
  },
  "language_info": {
   "codemirror_mode": {
    "name": "ipython",
    "version": 3
   },
   "file_extension": ".py",
   "mimetype": "text/x-python",
   "name": "python",
   "nbconvert_exporter": "python",
   "pygments_lexer": "ipython3",
   "version": "3.6.13"
  }
 },
 "nbformat": 4,
 "nbformat_minor": 5
}
