{
 "cells": [
  {
   "cell_type": "code",
   "execution_count": 11,
   "id": "9a67a375-dd38-466f-8192-a17cd082b617",
   "metadata": {},
   "outputs": [
    {
     "name": "stdin",
     "output_type": "stream",
     "text": [
      " 31 415926 5\n"
     ]
    }
   ],
   "source": [
    "A, B, K = map(int, input().split())"
   ]
  },
  {
   "cell_type": "code",
   "execution_count": 12,
   "id": "dccfe108-5495-4da4-b716-9bbfc1b2ea6a",
   "metadata": {},
   "outputs": [],
   "source": [
    "ans = 0\n",
    "a = A\n",
    "while a < B:\n",
    "    a *= K\n",
    "    ans += 1"
   ]
  },
  {
   "cell_type": "code",
   "execution_count": 13,
   "id": "fe40411c-694a-42dc-bc6b-78a8431f621c",
   "metadata": {},
   "outputs": [
    {
     "name": "stdout",
     "output_type": "stream",
     "text": [
      "6\n"
     ]
    }
   ],
   "source": [
    "print(ans)"
   ]
  },
  {
   "cell_type": "code",
   "execution_count": null,
   "id": "f08f7bf9-a99d-4472-91fb-21442491f991",
   "metadata": {},
   "outputs": [],
   "source": []
  }
 ],
 "metadata": {
  "kernelspec": {
   "display_name": "Python 3",
   "language": "python",
   "name": "python3"
  },
  "language_info": {
   "codemirror_mode": {
    "name": "ipython",
    "version": 3
   },
   "file_extension": ".py",
   "mimetype": "text/x-python",
   "name": "python",
   "nbconvert_exporter": "python",
   "pygments_lexer": "ipython3",
   "version": "3.6.13"
  }
 },
 "nbformat": 4,
 "nbformat_minor": 5
}
