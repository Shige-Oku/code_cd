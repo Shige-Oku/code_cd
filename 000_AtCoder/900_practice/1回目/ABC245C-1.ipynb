{
 "cells": [
  {
   "cell_type": "code",
   "execution_count": 17,
   "id": "fb89d11a-25bd-416f-86ce-e47d314e7071",
   "metadata": {},
   "outputs": [
    {
     "name": "stdin",
     "output_type": "stream",
     "text": [
      " 4 1000000000\n"
     ]
    }
   ],
   "source": [
    "N, K = map(int, input().split())"
   ]
  },
  {
   "cell_type": "code",
   "execution_count": 18,
   "id": "0e05ee3d-e699-4e20-86ea-6d4a83cbf32e",
   "metadata": {},
   "outputs": [
    {
     "name": "stdin",
     "output_type": "stream",
     "text": [
      " 1 1 1000000000 1000000000\n"
     ]
    }
   ],
   "source": [
    "An = list(map(int, input().split()))"
   ]
  },
  {
   "cell_type": "code",
   "execution_count": 19,
   "id": "3a2d40ec-885f-4acc-8d53-9dce3577a739",
   "metadata": {},
   "outputs": [
    {
     "name": "stdin",
     "output_type": "stream",
     "text": [
      " 1 1000000000 1 1000000000\n"
     ]
    }
   ],
   "source": [
    "Bn = list(map(int, input().split()))"
   ]
  },
  {
   "cell_type": "code",
   "execution_count": 20,
   "id": "b016aa4e-1246-4bd9-90a4-549419e78c96",
   "metadata": {},
   "outputs": [],
   "source": [
    "visit = [[False] * N for _ in range(2)]\n",
    "visit[0][0], visit[1][0] = True, True\n",
    "for w in range(1, N):\n",
    "    if visit[0][w-1]:\n",
    "        if abs(An[w-1] - An[w]) <= K:\n",
    "            visit[0][w] = True\n",
    "        if abs(An[w-1] - Bn[w]) <= K:\n",
    "            visit[1][w] = True\n",
    "    if visit[1][w-1]:\n",
    "        if abs(Bn[w-1] - An[w]) <= K:\n",
    "            visit[0][w] = True\n",
    "        if abs(Bn[w-1] - Bn[w]) <= K:\n",
    "            visit[1][w] = True                        "
   ]
  },
  {
   "cell_type": "code",
   "execution_count": 21,
   "id": "96bf0a9d-b912-4916-b932-cdf7afd70084",
   "metadata": {},
   "outputs": [
    {
     "name": "stdout",
     "output_type": "stream",
     "text": [
      "Yes\n"
     ]
    }
   ],
   "source": [
    "print('Yes' if visit[0][-1] or visit[1][-1] else 'No')"
   ]
  },
  {
   "cell_type": "code",
   "execution_count": 16,
   "id": "763825f0-5dfd-4c5c-a0ba-fd4594ea8a1b",
   "metadata": {},
   "outputs": [
    {
     "data": {
      "text/plain": [
       "[[True, True, True, False], [True, True, True, False]]"
      ]
     },
     "execution_count": 16,
     "metadata": {},
     "output_type": "execute_result"
    }
   ],
   "source": [
    "visit"
   ]
  },
  {
   "cell_type": "code",
   "execution_count": null,
   "id": "94bd4527-0162-4ec4-bb71-d2a7eec25b4e",
   "metadata": {},
   "outputs": [],
   "source": []
  }
 ],
 "metadata": {
  "kernelspec": {
   "display_name": "Python 3",
   "language": "python",
   "name": "python3"
  },
  "language_info": {
   "codemirror_mode": {
    "name": "ipython",
    "version": 3
   },
   "file_extension": ".py",
   "mimetype": "text/x-python",
   "name": "python",
   "nbconvert_exporter": "python",
   "pygments_lexer": "ipython3",
   "version": "3.6.13"
  }
 },
 "nbformat": 4,
 "nbformat_minor": 5
}
