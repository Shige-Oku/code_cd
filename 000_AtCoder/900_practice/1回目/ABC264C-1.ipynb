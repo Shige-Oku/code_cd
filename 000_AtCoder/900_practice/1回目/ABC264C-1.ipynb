{
 "cells": [
  {
   "cell_type": "code",
   "execution_count": 36,
   "id": "ffb381ab-ebec-4e60-8c99-5dfa69724658",
   "metadata": {},
   "outputs": [
    {
     "name": "stdin",
     "output_type": "stream",
     "text": [
      " 3 3\n"
     ]
    }
   ],
   "source": [
    "H1, W1 = map(int, input().split())"
   ]
  },
  {
   "cell_type": "code",
   "execution_count": 37,
   "id": "ef5a7de9-9c99-42b4-8cd2-e19ddfb3887e",
   "metadata": {},
   "outputs": [
    {
     "name": "stdin",
     "output_type": "stream",
     "text": [
      " 1 1 1\n",
      " 1 1 1\n",
      " 1 1 1\n"
     ]
    }
   ],
   "source": [
    "An = [list(map(int, input().split())) for _ in range(H1)]"
   ]
  },
  {
   "cell_type": "code",
   "execution_count": 38,
   "id": "3419cd16-06bd-411c-abac-ba13d417598d",
   "metadata": {},
   "outputs": [
    {
     "name": "stdin",
     "output_type": "stream",
     "text": [
      " 1 1\n"
     ]
    }
   ],
   "source": [
    "H2, W2 = map(int, input().split())"
   ]
  },
  {
   "cell_type": "code",
   "execution_count": 39,
   "id": "3233f073-273a-4506-8fb4-aceed51324b8",
   "metadata": {},
   "outputs": [
    {
     "name": "stdin",
     "output_type": "stream",
     "text": [
      " 2\n"
     ]
    }
   ],
   "source": [
    "Bn = [list(map(int, input().split())) for _ in range(H2)]"
   ]
  },
  {
   "cell_type": "code",
   "execution_count": 58,
   "id": "b13f7124-a560-48fd-806d-d6c565808ccb",
   "metadata": {},
   "outputs": [],
   "source": [
    "def myComp(h, w, l):\n",
    "    for i in range(H2):\n",
    "        for j in range(W2):\n",
    "            if l[h+i][w+j] != Bn[i][j]:\n",
    "                return False\n",
    "#     print(h, w, l)\n",
    "    return True"
   ]
  },
  {
   "cell_type": "code",
   "execution_count": 59,
   "id": "25cdb053-fe74-42c7-8b54-152b652a1420",
   "metadata": {},
   "outputs": [],
   "source": [
    "def myCheck(p1, p2):\n",
    "    if sum(p1) < H2:\n",
    "        return False\n",
    "    if sum(p2) < W2:\n",
    "        return False\n",
    "    l = []\n",
    "    for i in range(H1):\n",
    "        if p1[i] == 0:\n",
    "            continue\n",
    "        l.append([])\n",
    "        for j in range(W1):\n",
    "            if p2[j] == 0:\n",
    "                continue\n",
    "            l[-1].append(An[i][j])\n",
    "    for i in range(sum(p1)-H2+1):\n",
    "        for j in range(sum(p2)-W2+1):\n",
    "            if myComp(i, j, l):\n",
    "                return True\n",
    "    \n",
    "    return False"
   ]
  },
  {
   "cell_type": "code",
   "execution_count": 60,
   "id": "66fd65c8-71a8-499b-9137-9dcd798c41c4",
   "metadata": {},
   "outputs": [],
   "source": [
    "flg = False\n",
    "from itertools import product\n",
    "for p1 in product([0, 1], repeat=H1):\n",
    "    for p2 in product([0, 1], repeat=W1):\n",
    "        if myCheck(p1, p2):\n",
    "            flg = True\n"
   ]
  },
  {
   "cell_type": "code",
   "execution_count": 61,
   "id": "88316e8a-62e3-400f-a277-0cae2ec6976e",
   "metadata": {},
   "outputs": [
    {
     "name": "stdout",
     "output_type": "stream",
     "text": [
      "No\n"
     ]
    }
   ],
   "source": [
    "print('Yes' if flg else 'No')"
   ]
  },
  {
   "cell_type": "code",
   "execution_count": 9,
   "id": "10ffc871-7125-48a5-bea0-3db825071c07",
   "metadata": {},
   "outputs": [
    {
     "data": {
      "text/plain": [
       "2"
      ]
     },
     "execution_count": 9,
     "metadata": {},
     "output_type": "execute_result"
    }
   ],
   "source": [
    "sum([1, 0, 1])"
   ]
  },
  {
   "cell_type": "code",
   "execution_count": 52,
   "id": "094e037d-5d2a-4f14-b5a2-7c9da923883c",
   "metadata": {},
   "outputs": [
    {
     "data": {
      "text/plain": [
       "((1, 1, 1), (1, 1, 1))"
      ]
     },
     "execution_count": 52,
     "metadata": {},
     "output_type": "execute_result"
    }
   ],
   "source": [
    "p1, p2"
   ]
  },
  {
   "cell_type": "code",
   "execution_count": null,
   "id": "59355358-1d63-43c0-b63c-5fdd250eec98",
   "metadata": {},
   "outputs": [],
   "source": []
  }
 ],
 "metadata": {
  "kernelspec": {
   "display_name": "Python 3",
   "language": "python",
   "name": "python3"
  },
  "language_info": {
   "codemirror_mode": {
    "name": "ipython",
    "version": 3
   },
   "file_extension": ".py",
   "mimetype": "text/x-python",
   "name": "python",
   "nbconvert_exporter": "python",
   "pygments_lexer": "ipython3",
   "version": "3.6.13"
  }
 },
 "nbformat": 4,
 "nbformat_minor": 5
}
