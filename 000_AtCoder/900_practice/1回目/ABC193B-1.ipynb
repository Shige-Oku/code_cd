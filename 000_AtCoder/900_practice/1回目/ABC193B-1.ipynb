{
 "cells": [
  {
   "cell_type": "code",
   "execution_count": 1,
   "id": "a2f98921-1046-4fd9-91d9-f2a40538efda",
   "metadata": {},
   "outputs": [
    {
     "name": "stdin",
     "output_type": "stream",
     "text": [
      " 3\n"
     ]
    }
   ],
   "source": [
    "N = int(input())"
   ]
  },
  {
   "cell_type": "code",
   "execution_count": 5,
   "id": "1a8d8c4a-3bee-43ad-aa64-e861d621836a",
   "metadata": {},
   "outputs": [
    {
     "name": "stdin",
     "output_type": "stream",
     "text": [
      " 3 9 5\n",
      " 4 8 5\n",
      " 5 7 5\n"
     ]
    }
   ],
   "source": [
    "APXn = [list(map(int, input().split())) for _ in range(N)]"
   ]
  },
  {
   "cell_type": "code",
   "execution_count": 11,
   "id": "9e8ef6bc-c68b-4eb9-8ecc-1927bc3bded4",
   "metadata": {},
   "outputs": [],
   "source": [
    "ans = 10**10\n",
    "for A, P , X in APXn:\n",
    "    if A < X:\n",
    "        ans = min(ans, P)"
   ]
  },
  {
   "cell_type": "code",
   "execution_count": 14,
   "id": "4a4f0cda-f271-4a05-881b-224a772bab67",
   "metadata": {},
   "outputs": [
    {
     "name": "stdout",
     "output_type": "stream",
     "text": [
      "8\n"
     ]
    }
   ],
   "source": [
    "print(-1 if ans == 10**10 else ans)"
   ]
  },
  {
   "cell_type": "code",
   "execution_count": 10,
   "id": "d1f7319a-eeaa-4a40-ab44-a52513ae8450",
   "metadata": {},
   "outputs": [
    {
     "data": {
      "text/plain": [
       "[[3, 9, 5], [4, 8, 5], [5, 7, 5]]"
      ]
     },
     "execution_count": 10,
     "metadata": {},
     "output_type": "execute_result"
    }
   ],
   "source": [
    "APXn"
   ]
  },
  {
   "cell_type": "code",
   "execution_count": null,
   "id": "75c327bc-c874-4df0-bbb7-d50700d94bb9",
   "metadata": {},
   "outputs": [],
   "source": []
  },
  {
   "cell_type": "code",
   "execution_count": null,
   "id": "451b7d49-1e49-49ff-94c2-14e82b3be429",
   "metadata": {},
   "outputs": [],
   "source": []
  }
 ],
 "metadata": {
  "kernelspec": {
   "display_name": "Python 3",
   "language": "python",
   "name": "python3"
  },
  "language_info": {
   "codemirror_mode": {
    "name": "ipython",
    "version": 3
   },
   "file_extension": ".py",
   "mimetype": "text/x-python",
   "name": "python",
   "nbconvert_exporter": "python",
   "pygments_lexer": "ipython3",
   "version": "3.6.13"
  }
 },
 "nbformat": 4,
 "nbformat_minor": 5
}
