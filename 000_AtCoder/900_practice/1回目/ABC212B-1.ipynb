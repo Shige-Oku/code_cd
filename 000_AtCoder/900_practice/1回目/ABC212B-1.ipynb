{
 "cells": [
  {
   "cell_type": "code",
   "execution_count": 25,
   "id": "e7b3aead-a81d-4467-8a5a-38a11964a39c",
   "metadata": {},
   "outputs": [
    {
     "name": "stdin",
     "output_type": "stream",
     "text": [
      " 9012\n"
     ]
    }
   ],
   "source": [
    "X = input()"
   ]
  },
  {
   "cell_type": "code",
   "execution_count": 32,
   "id": "bdae001e-0544-4639-a3a5-3d8a774cc5a8",
   "metadata": {},
   "outputs": [],
   "source": [
    "def solve():\n",
    "    if len(set(X)) == 1:\n",
    "        return True\n",
    "    for i, x in enumerate(X[:3]):\n",
    "        n1 = int(x)\n",
    "        n2 = int(X[i+1])\n",
    "        if (n1+1) % 10 != n2:\n",
    "            return False\n",
    "    return True"
   ]
  },
  {
   "cell_type": "code",
   "execution_count": 33,
   "id": "6c0c22e4-dbd0-467b-983b-f1a28cbab953",
   "metadata": {},
   "outputs": [
    {
     "name": "stdout",
     "output_type": "stream",
     "text": [
      "Weak\n"
     ]
    }
   ],
   "source": [
    "print('Weak' if solve() else 'Strong')"
   ]
  },
  {
   "cell_type": "code",
   "execution_count": null,
   "id": "6e935f46-0f67-4e08-8e10-5e80e28d1e43",
   "metadata": {},
   "outputs": [],
   "source": []
  }
 ],
 "metadata": {
  "kernelspec": {
   "display_name": "Python 3",
   "language": "python",
   "name": "python3"
  },
  "language_info": {
   "codemirror_mode": {
    "name": "ipython",
    "version": 3
   },
   "file_extension": ".py",
   "mimetype": "text/x-python",
   "name": "python",
   "nbconvert_exporter": "python",
   "pygments_lexer": "ipython3",
   "version": "3.6.13"
  }
 },
 "nbformat": 4,
 "nbformat_minor": 5
}
