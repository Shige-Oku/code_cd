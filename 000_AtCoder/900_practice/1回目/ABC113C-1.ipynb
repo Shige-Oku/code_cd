{
 "cells": [
  {
   "cell_type": "code",
   "execution_count": 1,
   "id": "e11a75d5-054f-49c6-9602-7dde843ad4e7",
   "metadata": {},
   "outputs": [
    {
     "name": "stdin",
     "output_type": "stream",
     "text": [
      " 2 3\n"
     ]
    }
   ],
   "source": [
    "N, M = map(int, input().split())"
   ]
  },
  {
   "cell_type": "code",
   "execution_count": 11,
   "id": "65af7db8-a111-43d0-bac3-845777387e0d",
   "metadata": {},
   "outputs": [
    {
     "name": "stdin",
     "output_type": "stream",
     "text": [
      " 2 55\n",
      " 2 77\n",
      " 2 99\n"
     ]
    }
   ],
   "source": [
    "PYn = [list(map(int, input().split())) for _ in range(M)]"
   ]
  },
  {
   "cell_type": "code",
   "execution_count": 12,
   "id": "07e73f5a-2fea-4f21-8973-723b6557813f",
   "metadata": {},
   "outputs": [],
   "source": [
    "PYn_s = []\n",
    "for i, (P, Y) in enumerate(PYn):\n",
    "    PYn_s.append([i, P, Y])\n",
    "PYn_s.sort(key=lambda x : (x[1], x[2]))"
   ]
  },
  {
   "cell_type": "code",
   "execution_count": 13,
   "id": "99a1bf85-df23-4e86-aaf0-c5d6e3e916ca",
   "metadata": {},
   "outputs": [],
   "source": [
    "from collections import defaultdict\n",
    "x = defaultdict(int)\n",
    "for i in range(M):\n",
    "    _, P, Y = PYn_s[i]\n",
    "    PYn_s[i].append(x[P]+1)\n",
    "    x[P] += 1"
   ]
  },
  {
   "cell_type": "code",
   "execution_count": 14,
   "id": "1a3f1df1-eb76-4df6-a3c2-fa6bf88343b4",
   "metadata": {},
   "outputs": [
    {
     "name": "stdout",
     "output_type": "stream",
     "text": [
      "000002000001\n",
      "000002000002\n",
      "000002000003\n"
     ]
    }
   ],
   "source": [
    "PYn_s.sort()\n",
    "for _, P, Y, n in PYn_s:\n",
    "    print(str(P).zfill(6) + str(n).zfill(6))"
   ]
  },
  {
   "cell_type": "code",
   "execution_count": null,
   "id": "adbaba9c-7a4e-4e7c-be3b-7c7073544266",
   "metadata": {},
   "outputs": [],
   "source": []
  },
  {
   "cell_type": "code",
   "execution_count": null,
   "id": "c187248c-77ec-45ff-b1e3-bdbeb9854876",
   "metadata": {},
   "outputs": [],
   "source": []
  }
 ],
 "metadata": {
  "kernelspec": {
   "display_name": "Python 3",
   "language": "python",
   "name": "python3"
  },
  "language_info": {
   "codemirror_mode": {
    "name": "ipython",
    "version": 3
   },
   "file_extension": ".py",
   "mimetype": "text/x-python",
   "name": "python",
   "nbconvert_exporter": "python",
   "pygments_lexer": "ipython3",
   "version": "3.6.13"
  }
 },
 "nbformat": 4,
 "nbformat_minor": 5
}
