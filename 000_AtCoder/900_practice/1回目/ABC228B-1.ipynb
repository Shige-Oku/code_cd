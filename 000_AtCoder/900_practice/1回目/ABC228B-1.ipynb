{
 "cells": [
  {
   "cell_type": "code",
   "execution_count": 12,
   "id": "724a55de-b7fd-4b4d-9b91-fc020faff726",
   "metadata": {},
   "outputs": [
    {
     "name": "stdin",
     "output_type": "stream",
     "text": [
      " 20 12\n"
     ]
    }
   ],
   "source": [
    "N, X = map(int, input().split())"
   ]
  },
  {
   "cell_type": "code",
   "execution_count": 13,
   "id": "13e0fde0-4805-479e-a90a-fae9764dfa73",
   "metadata": {},
   "outputs": [
    {
     "name": "stdin",
     "output_type": "stream",
     "text": [
      " 7 11 10 1 7 20 14 2 17 3 2 5 19 20 8 14 18 2 10 10\n"
     ]
    }
   ],
   "source": [
    "An = list(map(int, input().split()))"
   ]
  },
  {
   "cell_type": "code",
   "execution_count": 14,
   "id": "ea499c7f-c964-4224-9f2e-0469278f77f9",
   "metadata": {},
   "outputs": [],
   "source": [
    "p = X\n",
    "know = [False] * (N+1)\n",
    "while True:\n",
    "    if know[p]:\n",
    "        break\n",
    "    know[p] = True\n",
    "    p = An[p-1]"
   ]
  },
  {
   "cell_type": "code",
   "execution_count": 15,
   "id": "f3c8c42b-6216-4402-98f3-7c10017e2bb5",
   "metadata": {},
   "outputs": [
    {
     "name": "stdout",
     "output_type": "stream",
     "text": [
      "7\n"
     ]
    }
   ],
   "source": [
    "print(sum(know))"
   ]
  },
  {
   "cell_type": "code",
   "execution_count": 9,
   "id": "5c225d28-ce72-4393-a9eb-2d48b4f6a18f",
   "metadata": {},
   "outputs": [
    {
     "data": {
      "text/plain": [
       "[False, True, True, True, True]"
      ]
     },
     "execution_count": 9,
     "metadata": {},
     "output_type": "execute_result"
    }
   ],
   "source": [
    "know"
   ]
  },
  {
   "cell_type": "code",
   "execution_count": null,
   "id": "bb707322-b644-4fb1-8ce5-38596786103f",
   "metadata": {},
   "outputs": [],
   "source": []
  }
 ],
 "metadata": {
  "kernelspec": {
   "display_name": "Python 3",
   "language": "python",
   "name": "python3"
  },
  "language_info": {
   "codemirror_mode": {
    "name": "ipython",
    "version": 3
   },
   "file_extension": ".py",
   "mimetype": "text/x-python",
   "name": "python",
   "nbconvert_exporter": "python",
   "pygments_lexer": "ipython3",
   "version": "3.6.13"
  }
 },
 "nbformat": 4,
 "nbformat_minor": 5
}
