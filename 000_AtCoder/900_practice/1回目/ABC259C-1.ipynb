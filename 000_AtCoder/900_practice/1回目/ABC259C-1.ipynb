{
 "cells": [
  {
   "cell_type": "code",
   "execution_count": 42,
   "id": "b77c4ec3-5169-4e07-8d96-edafc7805ffe",
   "metadata": {},
   "outputs": [
    {
     "name": "stdin",
     "output_type": "stream",
     "text": [
      " abaa\n"
     ]
    }
   ],
   "source": [
    "S = input()"
   ]
  },
  {
   "cell_type": "code",
   "execution_count": 49,
   "id": "4cc37ab7-25d8-456e-b69e-2f0b09dc5504",
   "metadata": {},
   "outputs": [
    {
     "name": "stdin",
     "output_type": "stream",
     "text": [
      " abab\n"
     ]
    }
   ],
   "source": [
    "T = input()"
   ]
  },
  {
   "cell_type": "code",
   "execution_count": 50,
   "id": "9ee2b62d-2841-4aa2-ac1d-092e1b73d601",
   "metadata": {},
   "outputs": [],
   "source": [
    "def z(s):\n",
    "    ret = []\n",
    "    cnt = 1\n",
    "    for i in range(len(s)-1):\n",
    "        if s[i] == s[i+1]:\n",
    "            cnt += 1\n",
    "        else:\n",
    "            ret.append((s[i], cnt))\n",
    "            cnt = 1\n",
    "    else:\n",
    "        ret.append((s[i+1], cnt))\n",
    "    return ret"
   ]
  },
  {
   "cell_type": "code",
   "execution_count": 51,
   "id": "bbb34ec6-fba4-4af0-8bf6-7b3a486b6d07",
   "metadata": {},
   "outputs": [],
   "source": [
    "def solve(s1, s2):\n",
    "    if len(s1) != len(s2):\n",
    "        return False\n",
    "    for (v1, c1), (v2, c2) in zip(s1, s2):\n",
    "        if v1 != v2:\n",
    "            return False\n",
    "        if c1 > c2:\n",
    "            return False\n",
    "        if c1 == 1 and c2 > 1:\n",
    "            return False\n",
    "    return True\n"
   ]
  },
  {
   "cell_type": "code",
   "execution_count": 52,
   "id": "c173fa1c-d6f4-47b9-9e63-6be6a27c3e38",
   "metadata": {},
   "outputs": [],
   "source": [
    "S_z = z(S)\n",
    "T_z = z(T)"
   ]
  },
  {
   "cell_type": "code",
   "execution_count": 53,
   "id": "0bf74210-b9ef-4cb4-85fc-21f52a469b96",
   "metadata": {},
   "outputs": [
    {
     "name": "stdout",
     "output_type": "stream",
     "text": [
      "No\n"
     ]
    }
   ],
   "source": [
    "print('Yes' if solve(S_z, T_z) else 'No')"
   ]
  },
  {
   "cell_type": "code",
   "execution_count": 54,
   "id": "de23b3aa-e25e-422e-bf25-cfefc519c4e0",
   "metadata": {},
   "outputs": [
    {
     "data": {
      "text/plain": [
       "([('a', 1), ('b', 1), ('a', 2)], [('a', 1), ('b', 1), ('a', 1), ('a', 1)])"
      ]
     },
     "execution_count": 54,
     "metadata": {},
     "output_type": "execute_result"
    }
   ],
   "source": [
    "S_z, T_z"
   ]
  },
  {
   "cell_type": "code",
   "execution_count": null,
   "id": "84cd09d2-d7cb-483a-a6ce-4b6eb15d15ec",
   "metadata": {},
   "outputs": [],
   "source": []
  }
 ],
 "metadata": {
  "kernelspec": {
   "display_name": "Python 3",
   "language": "python",
   "name": "python3"
  },
  "language_info": {
   "codemirror_mode": {
    "name": "ipython",
    "version": 3
   },
   "file_extension": ".py",
   "mimetype": "text/x-python",
   "name": "python",
   "nbconvert_exporter": "python",
   "pygments_lexer": "ipython3",
   "version": "3.6.13"
  }
 },
 "nbformat": 4,
 "nbformat_minor": 5
}
