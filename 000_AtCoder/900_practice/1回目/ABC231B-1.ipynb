{
 "cells": [
  {
   "cell_type": "code",
   "execution_count": 1,
   "id": "46f7933c-7a53-43bc-a69c-620ea2bb123e",
   "metadata": {},
   "outputs": [
    {
     "name": "stdin",
     "output_type": "stream",
     "text": [
      " 5\n"
     ]
    }
   ],
   "source": [
    "N = int(input())"
   ]
  },
  {
   "cell_type": "code",
   "execution_count": 2,
   "id": "dab4b64d-5198-446c-b275-5103e695455c",
   "metadata": {},
   "outputs": [
    {
     "name": "stdin",
     "output_type": "stream",
     "text": [
      " snuke\n",
      " snuke\n",
      " takahashi\n",
      " takahashi\n",
      " takahashi\n"
     ]
    }
   ],
   "source": [
    "Sn = [input() for _ in range(N)]"
   ]
  },
  {
   "cell_type": "code",
   "execution_count": 3,
   "id": "0da6f5ea-672b-4b9a-852c-7a5996ae69cc",
   "metadata": {},
   "outputs": [],
   "source": [
    "import collections"
   ]
  },
  {
   "cell_type": "code",
   "execution_count": 7,
   "id": "5ba2e592-d0dc-4ff3-9a99-42b8723d598c",
   "metadata": {},
   "outputs": [
    {
     "name": "stdout",
     "output_type": "stream",
     "text": [
      "takahashi\n"
     ]
    }
   ],
   "source": [
    "Sn_c = collections.Counter(Sn)\n",
    "Sn_s = sorted(Sn_c.items(), reverse=True, key= lambda x:x[1])\n",
    "print(Sn_s[0][0])"
   ]
  },
  {
   "cell_type": "code",
   "execution_count": null,
   "id": "48b21334-fdb8-4bfb-9e75-e26191ea3f5c",
   "metadata": {},
   "outputs": [],
   "source": []
  },
  {
   "cell_type": "code",
   "execution_count": null,
   "id": "3acdfb00-b2ac-476f-a3ff-52aaf462b030",
   "metadata": {},
   "outputs": [],
   "source": []
  }
 ],
 "metadata": {
  "kernelspec": {
   "display_name": "Python 3",
   "language": "python",
   "name": "python3"
  },
  "language_info": {
   "codemirror_mode": {
    "name": "ipython",
    "version": 3
   },
   "file_extension": ".py",
   "mimetype": "text/x-python",
   "name": "python",
   "nbconvert_exporter": "python",
   "pygments_lexer": "ipython3",
   "version": "3.6.13"
  }
 },
 "nbformat": 4,
 "nbformat_minor": 5
}
