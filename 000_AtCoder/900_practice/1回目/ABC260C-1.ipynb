{
 "cells": [
  {
   "cell_type": "code",
   "execution_count": 15,
   "id": "804ac6b8-7ac8-4446-98ec-9cbc64d30807",
   "metadata": {},
   "outputs": [
    {
     "name": "stdin",
     "output_type": "stream",
     "text": [
      " 10 5 5\n"
     ]
    }
   ],
   "source": [
    "N, X, Y = map(int, input().split())"
   ]
  },
  {
   "cell_type": "code",
   "execution_count": 16,
   "id": "f56164d4-c6b3-4c67-a12f-142e192863de",
   "metadata": {},
   "outputs": [],
   "source": [
    "import sys\n",
    "sys.setrecursionlimit(10**6)"
   ]
  },
  {
   "cell_type": "code",
   "execution_count": 17,
   "id": "9b114376-c503-46f5-a247-5373d1aac33b",
   "metadata": {},
   "outputs": [],
   "source": [
    "def DFS_r(n):\n",
    "    if n < 2:\n",
    "        return 0\n",
    "    return DFS_r(n-1) + DFS_b(n) * X"
   ]
  },
  {
   "cell_type": "code",
   "execution_count": 18,
   "id": "45c07b8c-dcc7-4926-828e-76705f616262",
   "metadata": {},
   "outputs": [],
   "source": [
    "def DFS_b(n):\n",
    "    if n == 1:\n",
    "        return 1\n",
    "    return DFS_r(n-1) + DFS_b(n-1) * Y"
   ]
  },
  {
   "cell_type": "code",
   "execution_count": 19,
   "id": "6636f68b-82d7-4aab-b746-2d969e3e2681",
   "metadata": {},
   "outputs": [
    {
     "name": "stdout",
     "output_type": "stream",
     "text": [
      "3942349900\n"
     ]
    }
   ],
   "source": [
    "print(DFS_r(N))"
   ]
  },
  {
   "cell_type": "code",
   "execution_count": null,
   "id": "93dcbaea-2138-43ed-80b6-23015f88c2a8",
   "metadata": {},
   "outputs": [],
   "source": []
  },
  {
   "cell_type": "code",
   "execution_count": null,
   "id": "d352bdb2-5ac8-4e2b-9ae5-ea023499264f",
   "metadata": {},
   "outputs": [],
   "source": []
  }
 ],
 "metadata": {
  "kernelspec": {
   "display_name": "Python 3",
   "language": "python",
   "name": "python3"
  },
  "language_info": {
   "codemirror_mode": {
    "name": "ipython",
    "version": 3
   },
   "file_extension": ".py",
   "mimetype": "text/x-python",
   "name": "python",
   "nbconvert_exporter": "python",
   "pygments_lexer": "ipython3",
   "version": "3.6.13"
  }
 },
 "nbformat": 4,
 "nbformat_minor": 5
}
