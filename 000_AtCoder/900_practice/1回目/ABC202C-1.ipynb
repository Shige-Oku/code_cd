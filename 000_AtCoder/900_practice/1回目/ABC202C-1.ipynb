{
 "cells": [
  {
   "cell_type": "code",
   "execution_count": 24,
   "id": "6626734e-afdf-4d23-802e-edab6f83a778",
   "metadata": {},
   "outputs": [],
   "source": [
    "import collections"
   ]
  },
  {
   "cell_type": "code",
   "execution_count": 42,
   "id": "cd192f35-19f1-42d9-a72e-a5e6fcf8df3b",
   "metadata": {},
   "outputs": [
    {
     "name": "stdin",
     "output_type": "stream",
     "text": [
      " 3\n"
     ]
    }
   ],
   "source": [
    "N = int(input())"
   ]
  },
  {
   "cell_type": "code",
   "execution_count": 43,
   "id": "ebcd32d7-e77e-4e57-9b5d-18a105f663f7",
   "metadata": {},
   "outputs": [
    {
     "name": "stdin",
     "output_type": "stream",
     "text": [
      " 1 2 2\n"
     ]
    }
   ],
   "source": [
    "An = list(map(int, input().split()))"
   ]
  },
  {
   "cell_type": "code",
   "execution_count": 44,
   "id": "edaabe91-4855-4a0a-8ea6-677ae25e240a",
   "metadata": {},
   "outputs": [
    {
     "name": "stdin",
     "output_type": "stream",
     "text": [
      " 3 1 2\n"
     ]
    }
   ],
   "source": [
    "Bn = list(map(int, input().split()))"
   ]
  },
  {
   "cell_type": "code",
   "execution_count": 54,
   "id": "a782a836-634f-4b76-98a6-bc46dd64b33b",
   "metadata": {},
   "outputs": [
    {
     "name": "stdin",
     "output_type": "stream",
     "text": [
      " 2  3 1\n"
     ]
    }
   ],
   "source": [
    "Cn = list(map(int, input().split()))"
   ]
  },
  {
   "cell_type": "code",
   "execution_count": 55,
   "id": "85b305da-caf9-46c3-b888-79aef471ce27",
   "metadata": {},
   "outputs": [],
   "source": [
    "An_c = collections.Counter(An)\n",
    "Cn_c = collections.Counter(Cn)\n",
    "ans = 0\n",
    "for i, B in enumerate(Bn, 1):\n",
    "    if B in An_c:\n",
    "        ans += Cn_c[i] * An_c[B]\n"
   ]
  },
  {
   "cell_type": "code",
   "execution_count": 56,
   "id": "7036cae3-08be-4964-80a5-ab134fd31173",
   "metadata": {},
   "outputs": [
    {
     "name": "stdout",
     "output_type": "stream",
     "text": [
      "3\n"
     ]
    }
   ],
   "source": [
    "print(ans)"
   ]
  },
  {
   "cell_type": "code",
   "execution_count": 62,
   "id": "80ffcb37-ac1c-4dd9-a033-04fc0a8f3fa5",
   "metadata": {},
   "outputs": [
    {
     "data": {
      "text/plain": [
       "(Counter({1: 1, 2: 2}), Counter({2: 1, 3: 1, 1: 1}))"
      ]
     },
     "execution_count": 62,
     "metadata": {},
     "output_type": "execute_result"
    }
   ],
   "source": [
    "An_c, Cn_c"
   ]
  },
  {
   "cell_type": "code",
   "execution_count": 57,
   "id": "819dd2fc-a085-4da8-930e-6441b854915a",
   "metadata": {},
   "outputs": [
    {
     "data": {
      "text/plain": [
       "1"
      ]
     },
     "execution_count": 57,
     "metadata": {},
     "output_type": "execute_result"
    }
   ],
   "source": [
    "Cn.count(2)"
   ]
  },
  {
   "cell_type": "code",
   "execution_count": 58,
   "id": "9366c8e0-f148-4361-9634-fe9643708607",
   "metadata": {},
   "outputs": [],
   "source": [
    "import numpy as np"
   ]
  },
  {
   "cell_type": "code",
   "execution_count": 59,
   "id": "e144b283-abd6-47bc-bf2c-b5e531b6bd50",
   "metadata": {},
   "outputs": [],
   "source": [
    "An_n = np.array(An) - 1\n",
    "Bn_n = np.array(Bn) - 1\n",
    "Cn_n = np.array(Cn) - 1\n",
    "Dn = Bn_n[Cn_n]\n",
    "cnt_A = np.bincount(An_n, minlength=N)\n",
    "cnt_B = np.bincount(Dn, minlength=N)\n"
   ]
  },
  {
   "cell_type": "code",
   "execution_count": 60,
   "id": "1f92994d-b120-4126-9b90-ef478bb7a427",
   "metadata": {},
   "outputs": [
    {
     "data": {
      "text/plain": [
       "(array([0, 1, 1]),\n",
       " array([2, 0, 1]),\n",
       " array([1, 2, 0]),\n",
       " array([0, 1, 2]),\n",
       " array([1, 2, 0], dtype=int64),\n",
       " array([1, 1, 1], dtype=int64))"
      ]
     },
     "execution_count": 60,
     "metadata": {},
     "output_type": "execute_result"
    }
   ],
   "source": [
    "An_n, Bn_n, Cn_n, Dn, cnt_A, cnt_B"
   ]
  },
  {
   "cell_type": "code",
   "execution_count": 61,
   "id": "80ac510d-3e9e-4cbd-ae6b-7f45acd44eae",
   "metadata": {},
   "outputs": [
    {
     "data": {
      "text/plain": [
       "3"
      ]
     },
     "execution_count": 61,
     "metadata": {},
     "output_type": "execute_result"
    }
   ],
   "source": [
    "sum(cnt_A * cnt_B)"
   ]
  },
  {
   "cell_type": "code",
   "execution_count": null,
   "id": "f7f8019e-6e9c-4ed1-aced-d78af0d37d23",
   "metadata": {},
   "outputs": [],
   "source": [
    "# TLE"
   ]
  },
  {
   "cell_type": "code",
   "execution_count": 25,
   "id": "bc548881-97b0-451a-a850-122fadce68d8",
   "metadata": {},
   "outputs": [],
   "source": [
    "An_c = collections.Counter(An)\n",
    "Cn_c = collections.Counter(Cn)\n",
    "ans = 0\n",
    "for A, cnt in An_c.items():\n",
    "    for i, B in enumerate(Bn):\n",
    "        if A == B:\n",
    "            ans += Cn_c[i+1] * cnt\n"
   ]
  }
 ],
 "metadata": {
  "kernelspec": {
   "display_name": "Python 3",
   "language": "python",
   "name": "python3"
  },
  "language_info": {
   "codemirror_mode": {
    "name": "ipython",
    "version": 3
   },
   "file_extension": ".py",
   "mimetype": "text/x-python",
   "name": "python",
   "nbconvert_exporter": "python",
   "pygments_lexer": "ipython3",
   "version": "3.6.13"
  }
 },
 "nbformat": 4,
 "nbformat_minor": 5
}
