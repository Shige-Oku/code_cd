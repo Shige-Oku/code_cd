{
 "cells": [
  {
   "cell_type": "code",
   "execution_count": 1,
   "id": "bd9298d1-c018-411a-ba1c-da1b42f9a78d",
   "metadata": {},
   "outputs": [
    {
     "name": "stdin",
     "output_type": "stream",
     "text": [
      " 6 1 0 2\n"
     ]
    }
   ],
   "source": [
    "N, X, Y, Z = map(int, input().split())"
   ]
  },
  {
   "cell_type": "code",
   "execution_count": 2,
   "id": "94561b3b-5c93-4c1a-aa7b-71badd375eca",
   "metadata": {},
   "outputs": [
    {
     "name": "stdin",
     "output_type": "stream",
     "text": [
      " 80 60 80 60 70 70\n"
     ]
    }
   ],
   "source": [
    "An = list(map(int, input().split()))"
   ]
  },
  {
   "cell_type": "code",
   "execution_count": 3,
   "id": "2bf5a406-670f-4d6a-adc3-6e51b1bc23b9",
   "metadata": {},
   "outputs": [
    {
     "name": "stdin",
     "output_type": "stream",
     "text": [
      " 40 20 50 90 90 80\n"
     ]
    }
   ],
   "source": [
    "Bn = list(map(int, input().split()))"
   ]
  },
  {
   "cell_type": "code",
   "execution_count": 6,
   "id": "3663a12e-adb6-409b-8270-f14ef4fe83ec",
   "metadata": {},
   "outputs": [],
   "source": [
    "point = []\n",
    "for i, (A, B) in enumerate(zip(An, Bn), 1):\n",
    "    point.append((A, B, A+B, i))"
   ]
  },
  {
   "cell_type": "code",
   "execution_count": 14,
   "id": "20805f9a-d945-491c-974a-5d0eda51262b",
   "metadata": {},
   "outputs": [],
   "source": [
    "g = set()\n",
    "p_sa = sorted(point, key=lambda x:(-x[0], x[3]))\n",
    "c = 0\n",
    "for A, _, _, i in p_sa:\n",
    "    if c >= X:\n",
    "        break\n",
    "    g.add(i)\n",
    "    c += 1\n",
    "p_sa = sorted(point, key=lambda x:(-x[1], x[3]))\n",
    "c = 0\n",
    "for _, B, _, i in p_sa:\n",
    "    if i in g:\n",
    "        continue\n",
    "    if c >= Y:\n",
    "        break\n",
    "    g.add(i)\n",
    "    c += 1\n",
    "p_sa = sorted(point, key=lambda x:(-x[2], x[3]))\n",
    "c = 0\n",
    "for _, _, AB, i in p_sa:\n",
    "    if i in g:\n",
    "        continue\n",
    "    if c >= Z:\n",
    "        break\n",
    "    g.add(i)\n",
    "    c += 1\n"
   ]
  },
  {
   "cell_type": "code",
   "execution_count": 21,
   "id": "9b902f8b-4813-4c9f-9b1d-aa15acab3bde",
   "metadata": {},
   "outputs": [
    {
     "name": "stdout",
     "output_type": "stream",
     "text": [
      "1\n",
      "4\n",
      "5\n"
     ]
    }
   ],
   "source": [
    "gl = list(g)\n",
    "gl.sort()\n",
    "for gg in gl:\n",
    "    print(gg)"
   ]
  },
  {
   "cell_type": "code",
   "execution_count": 15,
   "id": "5a6b0113-eed0-4399-be0b-b77386c9db51",
   "metadata": {},
   "outputs": [
    {
     "data": {
      "text/plain": [
       "{1, 4, 5}"
      ]
     },
     "execution_count": 15,
     "metadata": {},
     "output_type": "execute_result"
    }
   ],
   "source": [
    "g"
   ]
  },
  {
   "cell_type": "code",
   "execution_count": 13,
   "id": "a9766167-c201-46f0-aa01-525d6635e423",
   "metadata": {},
   "outputs": [
    {
     "data": {
      "text/plain": [
       "[(80, 40, 120, 1),\n",
       " (60, 20, 80, 2),\n",
       " (80, 50, 130, 3),\n",
       " (60, 90, 150, 4),\n",
       " (70, 90, 160, 5),\n",
       " (70, 80, 150, 6)]"
      ]
     },
     "execution_count": 13,
     "metadata": {},
     "output_type": "execute_result"
    }
   ],
   "source": [
    "point"
   ]
  },
  {
   "cell_type": "code",
   "execution_count": null,
   "id": "fdfde701-efe6-4387-9f6f-b31c7847585d",
   "metadata": {},
   "outputs": [],
   "source": []
  }
 ],
 "metadata": {
  "kernelspec": {
   "display_name": "Python 3",
   "language": "python",
   "name": "python3"
  },
  "language_info": {
   "codemirror_mode": {
    "name": "ipython",
    "version": 3
   },
   "file_extension": ".py",
   "mimetype": "text/x-python",
   "name": "python",
   "nbconvert_exporter": "python",
   "pygments_lexer": "ipython3",
   "version": "3.6.13"
  }
 },
 "nbformat": 4,
 "nbformat_minor": 5
}
