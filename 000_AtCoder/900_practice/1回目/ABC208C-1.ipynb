{
 "cells": [
  {
   "cell_type": "code",
   "execution_count": 15,
   "id": "ce23312c-03e3-4fcf-bf03-bd45305101d6",
   "metadata": {},
   "outputs": [
    {
     "name": "stdin",
     "output_type": "stream",
     "text": [
      " 7 1000000000000\n"
     ]
    }
   ],
   "source": [
    "N, K = map(int, input().split())"
   ]
  },
  {
   "cell_type": "code",
   "execution_count": 16,
   "id": "b8893c1b-2d1c-4b5d-906e-74a5584e03d1",
   "metadata": {},
   "outputs": [
    {
     "name": "stdin",
     "output_type": "stream",
     "text": [
      " 99 8 2 4 43 5 3\n"
     ]
    }
   ],
   "source": [
    "An = list(map(int, input().split()))\n",
    "for i, A in enumerate(An):\n",
    "    An[i] = (A, i)"
   ]
  },
  {
   "cell_type": "code",
   "execution_count": 17,
   "id": "68db2982-330f-4dea-82a6-900c73e7278e",
   "metadata": {},
   "outputs": [],
   "source": [
    "An_s = sorted(An)\n",
    "q, r = divmod(K, N)\n",
    "ans = [q] * N\n",
    "for A, i in An_s[:r]:\n",
    "    ans[i] += 1\n",
    "    "
   ]
  },
  {
   "cell_type": "code",
   "execution_count": 18,
   "id": "68c6a1a0-8210-4823-80ad-fabcce7d3409",
   "metadata": {},
   "outputs": [
    {
     "name": "stdout",
     "output_type": "stream",
     "text": [
      "142857142857\n",
      "142857142857\n",
      "142857142858\n",
      "142857142857\n",
      "142857142857\n",
      "142857142857\n",
      "142857142857\n"
     ]
    }
   ],
   "source": [
    "print(*ans, sep='\\n')"
   ]
  },
  {
   "cell_type": "code",
   "execution_count": 21,
   "id": "8f2b1ee1-5035-4204-82a7-7ae04d379fa3",
   "metadata": {},
   "outputs": [
    {
     "data": {
      "text/plain": [
       "17.609640474436812"
      ]
     },
     "execution_count": 21,
     "metadata": {},
     "output_type": "execute_result"
    }
   ],
   "source": [
    "import math\n",
    "math.log2(2*10**5)"
   ]
  },
  {
   "cell_type": "code",
   "execution_count": 22,
   "id": "afd70264-db6f-471a-86f3-3331daaa22bf",
   "metadata": {},
   "outputs": [
    {
     "data": {
      "text/plain": [
       "131072"
      ]
     },
     "execution_count": 22,
     "metadata": {},
     "output_type": "execute_result"
    }
   ],
   "source": [
    "2**17"
   ]
  },
  {
   "cell_type": "code",
   "execution_count": 23,
   "id": "2717f0ce-0093-40ed-8f39-a9ed99eb4593",
   "metadata": {},
   "outputs": [],
   "source": [
    "import numpy as np"
   ]
  },
  {
   "cell_type": "code",
   "execution_count": 31,
   "id": "2a3cfd8b-4bef-45e2-b9e8-353a6a4d0714",
   "metadata": {},
   "outputs": [
    {
     "name": "stdin",
     "output_type": "stream",
     "text": [
      " 99 8 2 4 43 5 3\n"
     ]
    }
   ],
   "source": [
    "an = list(map(int, input().split()))"
   ]
  },
  {
   "cell_type": "code",
   "execution_count": 32,
   "id": "64c7c2a6-a2dc-4b78-95df-45dd7806fbd6",
   "metadata": {},
   "outputs": [],
   "source": [
    "q, r = divmod(K, N)\n",
    "ans = np.full(N, q)\n",
    "idx = np.argsort(an)\n",
    "ans[idx[:r]] += 1"
   ]
  },
  {
   "cell_type": "code",
   "execution_count": 38,
   "id": "25ee589a-ce3e-44b9-8aef-09b9f19383b4",
   "metadata": {},
   "outputs": [
    {
     "name": "stdout",
     "output_type": "stream",
     "text": [
      "142857142857\n",
      "142857142857\n",
      "142857142858\n",
      "142857142857\n",
      "142857142857\n",
      "142857142857\n",
      "142857142857\n"
     ]
    }
   ],
   "source": [
    "print(*list(ans), sep='\\n')"
   ]
  },
  {
   "cell_type": "code",
   "execution_count": 35,
   "id": "ad0e7743-1ca5-49ac-961f-cd5156b30e72",
   "metadata": {},
   "outputs": [
    {
     "data": {
      "text/plain": [
       "array([142857142857, 142857142857, 142857142858, 142857142857,\n",
       "       142857142857, 142857142857, 142857142857], dtype=int64)"
      ]
     },
     "execution_count": 35,
     "metadata": {},
     "output_type": "execute_result"
    }
   ],
   "source": [
    "ans"
   ]
  },
  {
   "cell_type": "code",
   "execution_count": 34,
   "id": "041c4f24-8428-430b-a222-8a32d7367b5a",
   "metadata": {},
   "outputs": [
    {
     "data": {
      "text/plain": [
       "(142857142857, 1, array([2, 6, 3, 5, 1, 4, 0], dtype=int64))"
      ]
     },
     "execution_count": 34,
     "metadata": {},
     "output_type": "execute_result"
    }
   ],
   "source": [
    "q, r, idx"
   ]
  },
  {
   "cell_type": "code",
   "execution_count": null,
   "id": "f6ea93b5-f0be-45c9-a573-55f3baece599",
   "metadata": {},
   "outputs": [],
   "source": []
  }
 ],
 "metadata": {
  "kernelspec": {
   "display_name": "Python 3",
   "language": "python",
   "name": "python3"
  },
  "language_info": {
   "codemirror_mode": {
    "name": "ipython",
    "version": 3
   },
   "file_extension": ".py",
   "mimetype": "text/x-python",
   "name": "python",
   "nbconvert_exporter": "python",
   "pygments_lexer": "ipython3",
   "version": "3.6.13"
  }
 },
 "nbformat": 4,
 "nbformat_minor": 5
}
