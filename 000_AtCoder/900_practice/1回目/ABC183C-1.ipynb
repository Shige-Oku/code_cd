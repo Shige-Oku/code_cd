{
 "cells": [
  {
   "cell_type": "code",
   "execution_count": 3,
   "id": "59163ab4-fb88-44f4-8c64-b8d33377c2dc",
   "metadata": {},
   "outputs": [],
   "source": [
    "import itertools"
   ]
  },
  {
   "cell_type": "code",
   "execution_count": 1,
   "id": "31172337-3c57-44e8-8df2-161b2f84055f",
   "metadata": {},
   "outputs": [
    {
     "name": "stdin",
     "output_type": "stream",
     "text": [
      " 4 330\n"
     ]
    }
   ],
   "source": [
    "N, K = map(int, input().split())"
   ]
  },
  {
   "cell_type": "code",
   "execution_count": 2,
   "id": "74442ee9-f9ed-4568-8e84-18454b8ba056",
   "metadata": {},
   "outputs": [
    {
     "name": "stdin",
     "output_type": "stream",
     "text": [
      " 0 1 10 100\n",
      " 1 0 20 200\n",
      " 10 20 0 300\n",
      " 100 200 300 0\n"
     ]
    }
   ],
   "source": [
    "Tn = [list(map(int, input().split())) for _ in range(N)]"
   ]
  },
  {
   "cell_type": "code",
   "execution_count": 5,
   "id": "0aa18f83-6b8d-46c3-93c5-68bd683ee269",
   "metadata": {},
   "outputs": [],
   "source": [
    "ans = 0\n",
    "for P in itertools.permutations(range(2, N+1), N-1):\n",
    "    d = 0\n",
    "    s = 1\n",
    "    for p in P:\n",
    "        d += Tn[p-1][s-1]\n",
    "        s = p\n",
    "    else:\n",
    "        d += Tn[p-1][0]\n",
    "    if d == K:\n",
    "        ans += 1"
   ]
  },
  {
   "cell_type": "code",
   "execution_count": 6,
   "id": "beb27c91-16ec-4886-aeb9-87e737abb71a",
   "metadata": {},
   "outputs": [
    {
     "name": "stdout",
     "output_type": "stream",
     "text": [
      "2\n"
     ]
    }
   ],
   "source": [
    "print(ans)"
   ]
  },
  {
   "cell_type": "code",
   "execution_count": null,
   "id": "a05f3e6a-2caf-40cf-b840-fb46e4593347",
   "metadata": {},
   "outputs": [],
   "source": []
  }
 ],
 "metadata": {
  "kernelspec": {
   "display_name": "Python 3",
   "language": "python",
   "name": "python3"
  },
  "language_info": {
   "codemirror_mode": {
    "name": "ipython",
    "version": 3
   },
   "file_extension": ".py",
   "mimetype": "text/x-python",
   "name": "python",
   "nbconvert_exporter": "python",
   "pygments_lexer": "ipython3",
   "version": "3.6.13"
  }
 },
 "nbformat": 4,
 "nbformat_minor": 5
}
