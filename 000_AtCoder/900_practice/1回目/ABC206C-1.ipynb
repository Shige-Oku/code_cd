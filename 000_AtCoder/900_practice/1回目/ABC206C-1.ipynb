{
 "cells": [
  {
   "cell_type": "code",
   "execution_count": 17,
   "id": "1c577d04-59c6-4e05-9c94-12b72eeed67f",
   "metadata": {},
   "outputs": [
    {
     "name": "stdin",
     "output_type": "stream",
     "text": [
      " 20\n"
     ]
    }
   ],
   "source": [
    "N = int(input())"
   ]
  },
  {
   "cell_type": "code",
   "execution_count": 18,
   "id": "fb229923-f8cd-4d19-ba88-ba953fd075fd",
   "metadata": {},
   "outputs": [
    {
     "name": "stdin",
     "output_type": "stream",
     "text": [
      " 7 8 1 1 4 9 9 6 8 2 4 1 1 9 5 5 5 3 6 4\n"
     ]
    }
   ],
   "source": [
    "An = list(map(int, input().split()))"
   ]
  },
  {
   "cell_type": "code",
   "execution_count": 19,
   "id": "10c121e5-75d4-4dd7-be4c-7a8ce3e7dbae",
   "metadata": {},
   "outputs": [],
   "source": [
    "import collections"
   ]
  },
  {
   "cell_type": "code",
   "execution_count": 20,
   "id": "7f9d42ad-0d75-46c2-8048-8409c3398b03",
   "metadata": {},
   "outputs": [],
   "source": [
    "An_c = collections.Counter(An)\n",
    "ans = 0\n",
    "for k, v in An_c.items():\n",
    "    ans += (N-v) * v"
   ]
  },
  {
   "cell_type": "code",
   "execution_count": 21,
   "id": "6ce9bb64-b0f7-459d-ae9b-b41d8806d4b2",
   "metadata": {},
   "outputs": [
    {
     "name": "stdout",
     "output_type": "stream",
     "text": [
      "173\n"
     ]
    }
   ],
   "source": [
    "print(ans//2)"
   ]
  },
  {
   "cell_type": "code",
   "execution_count": 22,
   "id": "f3f2d7c2-5f71-4fdf-8ac6-5450b3065636",
   "metadata": {},
   "outputs": [
    {
     "data": {
      "text/plain": [
       "Counter({7: 1, 8: 2, 1: 4, 4: 3, 9: 3, 6: 2, 2: 1, 5: 3, 3: 1})"
      ]
     },
     "execution_count": 22,
     "metadata": {},
     "output_type": "execute_result"
    }
   ],
   "source": [
    "An_c"
   ]
  },
  {
   "cell_type": "code",
   "execution_count": null,
   "id": "349b7f17-31ef-4939-bc02-67b31135c174",
   "metadata": {},
   "outputs": [],
   "source": []
  }
 ],
 "metadata": {
  "kernelspec": {
   "display_name": "Python 3",
   "language": "python",
   "name": "python3"
  },
  "language_info": {
   "codemirror_mode": {
    "name": "ipython",
    "version": 3
   },
   "file_extension": ".py",
   "mimetype": "text/x-python",
   "name": "python",
   "nbconvert_exporter": "python",
   "pygments_lexer": "ipython3",
   "version": "3.6.13"
  }
 },
 "nbformat": 4,
 "nbformat_minor": 5
}
