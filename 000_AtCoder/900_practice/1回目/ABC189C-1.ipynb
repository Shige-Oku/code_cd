{
 "cells": [
  {
   "cell_type": "code",
   "execution_count": 1,
   "id": "190ca393-8668-44de-ad70-529fb1fcbb8c",
   "metadata": {},
   "outputs": [
    {
     "name": "stdin",
     "output_type": "stream",
     "text": [
      " 6\n"
     ]
    }
   ],
   "source": [
    "N = int(input())"
   ]
  },
  {
   "cell_type": "code",
   "execution_count": 28,
   "id": "d03bac20-69ca-4ac2-8a33-18e4d3e5f869",
   "metadata": {},
   "outputs": [
    {
     "name": "stdin",
     "output_type": "stream",
     "text": [
      " 2 4 4 9 4 9\n"
     ]
    }
   ],
   "source": [
    "An = list(map(int, input().split()))"
   ]
  },
  {
   "cell_type": "code",
   "execution_count": 29,
   "id": "303da930-1f38-45a1-ad29-400c341bfdb4",
   "metadata": {},
   "outputs": [],
   "source": [
    "mi = [[0] * N for _ in range(N)]\n",
    "for i in range(N):\n",
    "    for j in range(i, N):\n",
    "        if i == j:\n",
    "            mi[i][j] = An[j]\n",
    "        else:\n",
    "            mi[i][j] = min(mi[i][j-1], An[j])"
   ]
  },
  {
   "cell_type": "code",
   "execution_count": 30,
   "id": "aef088d8-31f2-4de4-9f3c-a0da523b6829",
   "metadata": {},
   "outputs": [],
   "source": [
    "ans = 0\n",
    "for i in range(N):\n",
    "    for j in range(i, N):\n",
    "        ans = max(ans, mi[i][j]*(j-i+1))\n"
   ]
  },
  {
   "cell_type": "code",
   "execution_count": 31,
   "id": "6dd163b6-0b52-4b18-a6ef-bb94c7d4f336",
   "metadata": {},
   "outputs": [
    {
     "name": "stdout",
     "output_type": "stream",
     "text": [
      "20\n"
     ]
    }
   ],
   "source": [
    "print(ans)"
   ]
  },
  {
   "cell_type": "code",
   "execution_count": 32,
   "id": "4de0a529-15da-435f-a2b0-9ea358e746df",
   "metadata": {},
   "outputs": [
    {
     "data": {
      "text/plain": [
       "[[2, 2, 2, 2, 2, 2],\n",
       " [0, 4, 4, 4, 4, 4],\n",
       " [0, 0, 4, 4, 4, 4],\n",
       " [0, 0, 0, 9, 4, 4],\n",
       " [0, 0, 0, 0, 4, 4],\n",
       " [0, 0, 0, 0, 0, 9]]"
      ]
     },
     "execution_count": 32,
     "metadata": {},
     "output_type": "execute_result"
    }
   ],
   "source": [
    "mi"
   ]
  },
  {
   "cell_type": "code",
   "execution_count": 33,
   "id": "0b7350e1-989b-46ff-83b4-39118daa1776",
   "metadata": {},
   "outputs": [],
   "source": [
    "ans = 0\n",
    "for l in range(N):\n",
    "    mi = An[l]\n",
    "    for r in range(l, N):\n",
    "        mi = min(mi, An[r])\n",
    "        ans = max(ans, (r-l+1)*mi)"
   ]
  },
  {
   "cell_type": "code",
   "execution_count": 34,
   "id": "5b9bbcba-ec5a-403e-aa16-0a4b02f14d4f",
   "metadata": {},
   "outputs": [
    {
     "name": "stdout",
     "output_type": "stream",
     "text": [
      "20\n"
     ]
    }
   ],
   "source": [
    "print(ans)"
   ]
  },
  {
   "cell_type": "code",
   "execution_count": null,
   "id": "59aee325-608f-44d2-83e9-e48ef3290279",
   "metadata": {},
   "outputs": [],
   "source": []
  }
 ],
 "metadata": {
  "kernelspec": {
   "display_name": "Python 3",
   "language": "python",
   "name": "python3"
  },
  "language_info": {
   "codemirror_mode": {
    "name": "ipython",
    "version": 3
   },
   "file_extension": ".py",
   "mimetype": "text/x-python",
   "name": "python",
   "nbconvert_exporter": "python",
   "pygments_lexer": "ipython3",
   "version": "3.6.13"
  }
 },
 "nbformat": 4,
 "nbformat_minor": 5
}
