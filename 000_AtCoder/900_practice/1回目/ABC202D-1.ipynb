{
 "cells": [
  {
   "cell_type": "code",
   "execution_count": 28,
   "id": "1cb4f4ad-9613-4d0d-9f29-ed2d2fa270f8",
   "metadata": {},
   "outputs": [
    {
     "name": "stdin",
     "output_type": "stream",
     "text": [
      " 30 30 118264581564861424\n"
     ]
    }
   ],
   "source": [
    "A, B, K = map(int, input().split())"
   ]
  },
  {
   "cell_type": "code",
   "execution_count": 29,
   "id": "d0fd6bff-b20d-4354-9fc0-67c0a2a126f3",
   "metadata": {},
   "outputs": [],
   "source": [
    "N = A + B\n",
    "factorial_table = [1] * (N+1)\n",
    "for i in range(1, len(factorial_table)):\n",
    "    factorial_table[i] = factorial_table[i-1] * i"
   ]
  },
  {
   "cell_type": "code",
   "execution_count": 30,
   "id": "4e790979-baf7-4f65-b2ea-15984dbc1570",
   "metadata": {},
   "outputs": [],
   "source": [
    "def aCb(n, a):\n",
    "    return factorial_table[n] // (factorial_table[n-a]*factorial_table[a])"
   ]
  },
  {
   "cell_type": "code",
   "execution_count": 33,
   "id": "483cc7ec-224a-4e95-aa6d-3529403ed862",
   "metadata": {},
   "outputs": [],
   "source": [
    "a, b, k = A, B, K\n",
    "ans = ''\n",
    "for _ in range(A+B):\n",
    "    cnt = aCb(a+b-1, b) \n",
    "    if cnt >= k:\n",
    "        ans += 'a'\n",
    "        a -= 1\n",
    "    else:\n",
    "        ans += 'b'\n",
    "        b -= 1\n",
    "        k -= cnt\n"
   ]
  },
  {
   "cell_type": "code",
   "execution_count": 34,
   "id": "a16f4c4c-c7ec-494f-85f0-e600d557735d",
   "metadata": {},
   "outputs": [
    {
     "name": "stdout",
     "output_type": "stream",
     "text": [
      "bbbbbbbbbbbbbbbbbbbbbbbbbbbbbbaaaaaaaaaaaaaaaaaaaaaaaaaaaaaa\n"
     ]
    }
   ],
   "source": [
    "print(ans)"
   ]
  },
  {
   "cell_type": "code",
   "execution_count": 23,
   "id": "78eebfb3-a93d-4aaa-8284-390fc4c329e9",
   "metadata": {},
   "outputs": [
    {
     "data": {
      "text/plain": [
       "(2, -2)"
      ]
     },
     "execution_count": 23,
     "metadata": {},
     "output_type": "execute_result"
    }
   ],
   "source": [
    "a, b"
   ]
  },
  {
   "cell_type": "code",
   "execution_count": 20,
   "id": "fe497d6e-013b-49fa-9dea-7de24a821f88",
   "metadata": {},
   "outputs": [
    {
     "name": "stdout",
     "output_type": "stream",
     "text": [
      "2 2 4 3\n",
      "b\n",
      "2 1 1 2\n",
      "ba\n",
      "1 1 1 1\n",
      "baa\n",
      "0 1 1 0\n",
      "baab\n",
      "baab\n"
     ]
    }
   ],
   "source": [
    "ans = ''\n",
    "a, b, k = A, B, K\n",
    "for _ in range(A+B):\n",
    "    print(a, b, k, aCb(a+b-1, b))\n",
    "    if a > 0:\n",
    "        if k <= aCb(a+b-1, b):\n",
    "            ans += 'a'\n",
    "            a -= 1\n",
    "        else:\n",
    "            ans += 'b'\n",
    "            k -= aCb(a+b-1, b)\n",
    "            b -= 1\n",
    "    else:\n",
    "        ans += 'b'\n",
    "        b -= 1\n",
    "    print(ans)\n",
    "  \n",
    "print(ans)"
   ]
  },
  {
   "cell_type": "code",
   "execution_count": null,
   "id": "42df627b-4e88-40d2-8e1f-b17e5c4d7062",
   "metadata": {},
   "outputs": [],
   "source": []
  }
 ],
 "metadata": {
  "kernelspec": {
   "display_name": "Python 3",
   "language": "python",
   "name": "python3"
  },
  "language_info": {
   "codemirror_mode": {
    "name": "ipython",
    "version": 3
   },
   "file_extension": ".py",
   "mimetype": "text/x-python",
   "name": "python",
   "nbconvert_exporter": "python",
   "pygments_lexer": "ipython3",
   "version": "3.6.13"
  }
 },
 "nbformat": 4,
 "nbformat_minor": 5
}
