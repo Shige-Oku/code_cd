{
 "cells": [
  {
   "cell_type": "code",
   "execution_count": 16,
   "id": "b9250d46-d3e9-48bf-8ca5-6c6430fe4d12",
   "metadata": {},
   "outputs": [
    {
     "name": "stdin",
     "output_type": "stream",
     "text": [
      " 777\n"
     ]
    }
   ],
   "source": [
    "N = input()"
   ]
  },
  {
   "cell_type": "code",
   "execution_count": 17,
   "id": "1fddced4-871c-40c9-9c45-c9f7bdaa1c1e",
   "metadata": {},
   "outputs": [],
   "source": [
    "flg = False\n",
    "s = N\n",
    "for i in range(len(N)):\n",
    "    for s1, s2 in zip(s, s[::-1]):\n",
    "        if s1 != s2:\n",
    "            break\n",
    "    else:\n",
    "        flg = True\n",
    "    s = '0' + s"
   ]
  },
  {
   "cell_type": "code",
   "execution_count": 18,
   "id": "25e6f799-fe8b-400b-a999-b6f09d21f924",
   "metadata": {},
   "outputs": [
    {
     "name": "stdout",
     "output_type": "stream",
     "text": [
      "Yes\n"
     ]
    }
   ],
   "source": [
    "print('Yes' if flg else 'No')"
   ]
  },
  {
   "cell_type": "code",
   "execution_count": 19,
   "id": "f4418a94-1ab9-46f1-ae22-d4f2b205bfb0",
   "metadata": {},
   "outputs": [
    {
     "name": "stdout",
     "output_type": "stream",
     "text": [
      "Yes\n"
     ]
    }
   ],
   "source": [
    "s = N\n",
    "for _ in range(len(N)+1):\n",
    "    if s == s[::-1]:\n",
    "        print('Yes')\n",
    "        break\n",
    "    s = '0' + s\n",
    "else:\n",
    "    print('No')"
   ]
  },
  {
   "cell_type": "code",
   "execution_count": null,
   "id": "1a55894d-bca8-4081-ba43-15ff66a92086",
   "metadata": {},
   "outputs": [],
   "source": []
  },
  {
   "cell_type": "code",
   "execution_count": null,
   "id": "7da84f04-1e54-4735-93c9-49f4f1595a11",
   "metadata": {},
   "outputs": [],
   "source": []
  }
 ],
 "metadata": {
  "kernelspec": {
   "display_name": "Python 3",
   "language": "python",
   "name": "python3"
  },
  "language_info": {
   "codemirror_mode": {
    "name": "ipython",
    "version": 3
   },
   "file_extension": ".py",
   "mimetype": "text/x-python",
   "name": "python",
   "nbconvert_exporter": "python",
   "pygments_lexer": "ipython3",
   "version": "3.6.13"
  }
 },
 "nbformat": 4,
 "nbformat_minor": 5
}
