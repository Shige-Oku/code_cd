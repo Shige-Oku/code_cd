{
 "cells": [
  {
   "cell_type": "code",
   "execution_count": 56,
   "id": "bd308b25-c7b2-4b88-be1c-04cdcaa3daa5",
   "metadata": {},
   "outputs": [
    {
     "name": "stdin",
     "output_type": "stream",
     "text": [
      " php\n"
     ]
    }
   ],
   "source": [
    "S = input()"
   ]
  },
  {
   "cell_type": "code",
   "execution_count": 57,
   "id": "b6fe3da3-0960-45d9-aee8-9d2e1270406f",
   "metadata": {},
   "outputs": [
    {
     "name": "stdout",
     "output_type": "stream",
     "text": [
      "Yes\n"
     ]
    }
   ],
   "source": [
    "ha = 0\n",
    "for s in S:\n",
    "    if s != 'a':\n",
    "        break\n",
    "    ha += 1\n",
    "\n",
    "ta = 0\n",
    "for s in S[::-1]:\n",
    "    if s != 'a':\n",
    "        break\n",
    "    ta += 1jkklkl;-lk-kk;o\n",
    "\n",
    "S1 = S[min(ha, ta):len(S)-ta]        \n",
    "S2 = S1[::-1]\n",
    "for s1, s2 in zip(S1, S2):\n",
    "    if s1 != s2:\n",
    "        print('No')\n",
    "        break\n",
    "else:\n",
    "    print('Yes')"
   ]
  },
  {
   "cell_type": "code",
   "execution_count": 53,
   "id": "7ae7cb18-bb50-426c-bc37-7971f88021e8",
   "metadata": {},
   "outputs": [
    {
     "data": {
      "text/plain": [
       "('atcoder', 'redocta', 1, 0)"
      ]
     },
     "execution_count": 53,
     "metadata": {},
     "output_type": "execute_result"
    }
   ],
   "source": [
    "S1, S2, ha, ta"
   ]
  },
  {
   "cell_type": "code",
   "execution_count": null,
   "id": "31321be4-4469-4030-9753-ee08dec24309",
   "metadata": {},
   "outputs": [],
   "source": [
    "# TLE"
   ]
  },
  {
   "cell_type": "code",
   "execution_count": 42,
   "id": "c83ca578-d59a-4d52-b79b-3bcfbb3d998b",
   "metadata": {},
   "outputs": [
    {
     "name": "stdout",
     "output_type": "stream",
     "text": [
      "Yes\n"
     ]
    }
   ],
   "source": [
    "s = S\n",
    "for _ in range(len(S)//2):\n",
    "    if s[0] == s[-1] == 'a':\n",
    "        s = s[1:-1]\n",
    "    else:\n",
    "        if s[-1] == 'a':\n",
    "            s = s[:-1]\n",
    "\n",
    "s2 = s[::-1]\n",
    "for s1, s2 in zip(s[:len(s)//2], s2[:len(s)//2]):\n",
    "    if s1 != s2:\n",
    "        print('No')\n",
    "        break\n",
    "else:\n",
    "    print('Yes')"
   ]
  },
  {
   "cell_type": "code",
   "execution_count": null,
   "id": "e51de410-39eb-4173-895c-fa4bb9639077",
   "metadata": {},
   "outputs": [],
   "source": []
  }
 ],
 "metadata": {
  "kernelspec": {
   "display_name": "Python 3",
   "language": "python",
   "name": "python3"
  },
  "language_info": {
   "codemirror_mode": {
    "name": "ipython",
    "version": 3
   },
   "file_extension": ".py",
   "mimetype": "text/x-python",
   "name": "python",
   "nbconvert_exporter": "python",
   "pygments_lexer": "ipython3",
   "version": "3.6.13"
  }
 },
 "nbformat": 4,
 "nbformat_minor": 5
}
