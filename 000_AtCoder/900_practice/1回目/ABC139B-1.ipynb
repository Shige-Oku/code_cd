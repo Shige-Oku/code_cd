{
 "cells": [
  {
   "cell_type": "code",
   "execution_count": 38,
   "id": "61209f78-cb98-4653-a288-9587ac627a18",
   "metadata": {},
   "outputs": [
    {
     "name": "stdin",
     "output_type": "stream",
     "text": [
      " 8 9\n"
     ]
    }
   ],
   "source": [
    "A, B = map(int, input().split())"
   ]
  },
  {
   "cell_type": "code",
   "execution_count": 43,
   "id": "a45c9d64-ed84-4490-901d-c25d3282bf7b",
   "metadata": {},
   "outputs": [],
   "source": [
    "ans = 0\n",
    "n = 1\n",
    "while n < B:\n",
    "    ans += 1\n",
    "    n -= 1\n",
    "    n += A\n"
   ]
  },
  {
   "cell_type": "code",
   "execution_count": 44,
   "id": "e134a37b-624b-4981-9667-d4f8ccc59833",
   "metadata": {},
   "outputs": [
    {
     "name": "stdout",
     "output_type": "stream",
     "text": [
      "2\n"
     ]
    }
   ],
   "source": [
    "print(ans)"
   ]
  },
  {
   "cell_type": "code",
   "execution_count": 20,
   "id": "44312ecd-d606-4085-bc09-10aad12a30c7",
   "metadata": {},
   "outputs": [
    {
     "data": {
      "text/plain": [
       "4"
      ]
     },
     "execution_count": 20,
     "metadata": {},
     "output_type": "execute_result"
    }
   ],
   "source": [
    "n"
   ]
  },
  {
   "cell_type": "code",
   "execution_count": null,
   "id": "e231b69d-7413-4a0a-9837-7882f2590fcf",
   "metadata": {},
   "outputs": [],
   "source": [
    "# WA"
   ]
  },
  {
   "cell_type": "code",
   "execution_count": 15,
   "id": "27efceae-0169-475d-b6c2-98d1faf0ba6f",
   "metadata": {},
   "outputs": [],
   "source": [
    "q, m = divmod(B, A-1)"
   ]
  },
  {
   "cell_type": "code",
   "execution_count": 16,
   "id": "4e772618-5774-4ced-9914-21b0f65a5061",
   "metadata": {},
   "outputs": [
    {
     "name": "stdout",
     "output_type": "stream",
     "text": [
      "4\n"
     ]
    }
   ],
   "source": [
    "if m < 2:\n",
    "    print(q)\n",
    "else:\n",
    "    print(q+1)"
   ]
  },
  {
   "cell_type": "code",
   "execution_count": 17,
   "id": "777b7b93-d4a8-4439-a027-a52e6e3907cf",
   "metadata": {},
   "outputs": [
    {
     "data": {
      "text/plain": [
       "(4, 0)"
      ]
     },
     "execution_count": 17,
     "metadata": {},
     "output_type": "execute_result"
    }
   ],
   "source": [
    "q, m"
   ]
  },
  {
   "cell_type": "code",
   "execution_count": null,
   "id": "40b9ae7e-5d4b-40a5-b73b-e56e23e8eb9a",
   "metadata": {},
   "outputs": [],
   "source": []
  }
 ],
 "metadata": {
  "kernelspec": {
   "display_name": "Python 3",
   "language": "python",
   "name": "python3"
  },
  "language_info": {
   "codemirror_mode": {
    "name": "ipython",
    "version": 3
   },
   "file_extension": ".py",
   "mimetype": "text/x-python",
   "name": "python",
   "nbconvert_exporter": "python",
   "pygments_lexer": "ipython3",
   "version": "3.6.13"
  }
 },
 "nbformat": 4,
 "nbformat_minor": 5
}
