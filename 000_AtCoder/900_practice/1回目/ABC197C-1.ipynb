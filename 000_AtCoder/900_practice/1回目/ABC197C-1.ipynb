{
 "cells": [
  {
   "cell_type": "code",
   "execution_count": 18,
   "id": "4a2ba948-5d4f-4750-a002-10cafcc2b2bf",
   "metadata": {},
   "outputs": [
    {
     "name": "stdin",
     "output_type": "stream",
     "text": [
      " 4\n"
     ]
    }
   ],
   "source": [
    "N = int(input())"
   ]
  },
  {
   "cell_type": "code",
   "execution_count": 19,
   "id": "559f4fd5-9066-4ad9-a8ff-11ef0dd09c19",
   "metadata": {},
   "outputs": [
    {
     "name": "stdin",
     "output_type": "stream",
     "text": [
      " 1 3 3 1\n"
     ]
    }
   ],
   "source": [
    "An = list(map(int, input().split()))"
   ]
  },
  {
   "cell_type": "code",
   "execution_count": 20,
   "id": "65e54c48-cfe6-46e8-85c8-ca786f1fb5e2",
   "metadata": {},
   "outputs": [],
   "source": [
    "import itertools"
   ]
  },
  {
   "cell_type": "code",
   "execution_count": 21,
   "id": "6f608b9e-04e1-43a8-96a9-ce66be6eb574",
   "metadata": {},
   "outputs": [],
   "source": [
    "ans = 2**32\n",
    "for p in itertools.product((0, 1), repeat=N):\n",
    "    c, n = 0, 0\n",
    "    for i, A in enumerate(An):\n",
    "        if p[i] == 1:\n",
    "            c ^= n\n",
    "            n = 0\n",
    "        n |= A\n",
    "    else:\n",
    "        c ^= n\n",
    "    ans = min(ans, c)\n"
   ]
  },
  {
   "cell_type": "code",
   "execution_count": 22,
   "id": "0f560443-a3b9-46f0-bf1f-6737e0d6e855",
   "metadata": {},
   "outputs": [
    {
     "name": "stdout",
     "output_type": "stream",
     "text": [
      "0\n"
     ]
    }
   ],
   "source": [
    "print(ans)"
   ]
  },
  {
   "cell_type": "code",
   "execution_count": 3,
   "id": "83954b9c-4c00-4baf-892e-5522c6078075",
   "metadata": {},
   "outputs": [
    {
     "data": {
      "text/plain": [
       "1048576"
      ]
     },
     "execution_count": 3,
     "metadata": {},
     "output_type": "execute_result"
    }
   ],
   "source": [
    "2**20"
   ]
  },
  {
   "cell_type": "code",
   "execution_count": 5,
   "id": "1c73458f-aa6d-4ffe-9ddb-d9cbc01ff8eb",
   "metadata": {},
   "outputs": [
    {
     "data": {
      "text/plain": [
       "(3, 6)"
      ]
     },
     "execution_count": 5,
     "metadata": {},
     "output_type": "execute_result"
    }
   ],
   "source": [
    "1 | 2, 3 ^ 5"
   ]
  },
  {
   "cell_type": "code",
   "execution_count": null,
   "id": "c08910a9-52a0-4376-81aa-774d840b0d1d",
   "metadata": {},
   "outputs": [],
   "source": []
  }
 ],
 "metadata": {
  "kernelspec": {
   "display_name": "Python 3",
   "language": "python",
   "name": "python3"
  },
  "language_info": {
   "codemirror_mode": {
    "name": "ipython",
    "version": 3
   },
   "file_extension": ".py",
   "mimetype": "text/x-python",
   "name": "python",
   "nbconvert_exporter": "python",
   "pygments_lexer": "ipython3",
   "version": "3.6.13"
  }
 },
 "nbformat": 4,
 "nbformat_minor": 5
}
