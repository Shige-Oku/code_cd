{
 "cells": [
  {
   "cell_type": "code",
   "execution_count": 1,
   "id": "cf89e580-fc73-4537-973e-646ededfc883",
   "metadata": {},
   "outputs": [
    {
     "name": "stdin",
     "output_type": "stream",
     "text": [
      " 2 5\n"
     ]
    }
   ],
   "source": [
    "N, M = map(int, input().split())"
   ]
  },
  {
   "cell_type": "code",
   "execution_count": 2,
   "id": "e98b4bbf-bcdc-4146-abc5-3b1c5c4fbde5",
   "metadata": {},
   "outputs": [
    {
     "name": "stdin",
     "output_type": "stream",
     "text": [
      " 4 9\n",
      " 2 4\n"
     ]
    }
   ],
   "source": [
    "ABn = [list(map(int, input().split())) for _ in range(N)]"
   ]
  },
  {
   "cell_type": "code",
   "execution_count": 3,
   "id": "4f660985-d457-47b5-8788-66132e443271",
   "metadata": {},
   "outputs": [],
   "source": [
    "ABn_s = sorted(ABn)"
   ]
  },
  {
   "cell_type": "code",
   "execution_count": 7,
   "id": "b256749f-b411-4c27-b578-1913d1fb04bc",
   "metadata": {},
   "outputs": [],
   "source": [
    "ans = 0\n",
    "m = M\n",
    "for A, B in ABn_s:\n",
    "    ans += min(m, B) * A\n",
    "    m -= B\n",
    "    if m <= 0:\n",
    "        break"
   ]
  },
  {
   "cell_type": "code",
   "execution_count": 8,
   "id": "75952077-38de-40d8-987b-f8fd90fab645",
   "metadata": {},
   "outputs": [
    {
     "name": "stdout",
     "output_type": "stream",
     "text": [
      "12\n"
     ]
    }
   ],
   "source": [
    "print(ans)"
   ]
  },
  {
   "cell_type": "code",
   "execution_count": 4,
   "id": "f24dd5c7-6365-40f1-8e65-ef1373edfc9c",
   "metadata": {},
   "outputs": [
    {
     "data": {
      "text/plain": [
       "[[2, 4], [4, 9]]"
      ]
     },
     "execution_count": 4,
     "metadata": {},
     "output_type": "execute_result"
    }
   ],
   "source": [
    "ABn_s"
   ]
  },
  {
   "cell_type": "code",
   "execution_count": null,
   "id": "4fc6fbc4-5024-4387-bd20-56992e97caa9",
   "metadata": {},
   "outputs": [],
   "source": []
  }
 ],
 "metadata": {
  "kernelspec": {
   "display_name": "Python 3",
   "language": "python",
   "name": "python3"
  },
  "language_info": {
   "codemirror_mode": {
    "name": "ipython",
    "version": 3
   },
   "file_extension": ".py",
   "mimetype": "text/x-python",
   "name": "python",
   "nbconvert_exporter": "python",
   "pygments_lexer": "ipython3",
   "version": "3.6.13"
  }
 },
 "nbformat": 4,
 "nbformat_minor": 5
}
