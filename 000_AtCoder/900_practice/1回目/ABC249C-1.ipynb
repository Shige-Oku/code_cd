{
 "cells": [
  {
   "cell_type": "code",
   "execution_count": 1,
   "id": "3641a53a-24eb-4fc9-9e07-bb311ec3d14f",
   "metadata": {},
   "outputs": [
    {
     "name": "stdin",
     "output_type": "stream",
     "text": [
      " 4 2\n"
     ]
    }
   ],
   "source": [
    "N, K = map(int, input().split())"
   ]
  },
  {
   "cell_type": "code",
   "execution_count": 2,
   "id": "96d77229-9b9e-45e0-a5d6-4cf8bfaf6206",
   "metadata": {},
   "outputs": [
    {
     "name": "stdin",
     "output_type": "stream",
     "text": [
      " abi\n",
      " aef\n",
      " bc\n",
      " acg\n"
     ]
    }
   ],
   "source": [
    "Sn = [input() for _ in range(N)]"
   ]
  },
  {
   "cell_type": "code",
   "execution_count": 5,
   "id": "778fc494-946c-4be1-8893-ef0dbc3e0b95",
   "metadata": {},
   "outputs": [],
   "source": [
    "from itertools import product\n",
    "from collections import Counter\n",
    "ans = 0\n",
    "for P in product((0, 1), repeat=N):\n",
    "    s =''\n",
    "    for i, p in enumerate(P):\n",
    "        if p == 1:\n",
    "            s += Sn[i]\n",
    "    s_c = Counter(s)\n",
    "    cnt = 0\n",
    "    for k, v in s_c.items():\n",
    "        if v == K:\n",
    "            cnt  += 1\n",
    "    ans = max(ans, cnt)"
   ]
  },
  {
   "cell_type": "code",
   "execution_count": 6,
   "id": "b64cb056-da80-4478-9cc2-0c29127fe415",
   "metadata": {},
   "outputs": [
    {
     "name": "stdout",
     "output_type": "stream",
     "text": [
      "3\n"
     ]
    }
   ],
   "source": [
    "print(ans)"
   ]
  },
  {
   "cell_type": "code",
   "execution_count": null,
   "id": "72eed117-76de-4935-b3be-145c237df9cb",
   "metadata": {},
   "outputs": [],
   "source": []
  }
 ],
 "metadata": {
  "kernelspec": {
   "display_name": "Python 3",
   "language": "python",
   "name": "python3"
  },
  "language_info": {
   "codemirror_mode": {
    "name": "ipython",
    "version": 3
   },
   "file_extension": ".py",
   "mimetype": "text/x-python",
   "name": "python",
   "nbconvert_exporter": "python",
   "pygments_lexer": "ipython3",
   "version": "3.6.13"
  }
 },
 "nbformat": 4,
 "nbformat_minor": 5
}
