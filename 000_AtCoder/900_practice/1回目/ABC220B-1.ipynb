{
 "cells": [
  {
   "cell_type": "code",
   "execution_count": 10,
   "id": "a4927edd-6229-44ed-b79f-2392558a24b9",
   "metadata": {},
   "outputs": [
    {
     "name": "stdin",
     "output_type": "stream",
     "text": [
      " 7\n"
     ]
    }
   ],
   "source": [
    "K = int(input())"
   ]
  },
  {
   "cell_type": "code",
   "execution_count": 11,
   "id": "0e79f52c-78ac-4ce8-9bb7-1be8bd815446",
   "metadata": {},
   "outputs": [
    {
     "name": "stdin",
     "output_type": "stream",
     "text": [
      " 123 456\n"
     ]
    }
   ],
   "source": [
    "A, B = input().split()"
   ]
  },
  {
   "cell_type": "code",
   "execution_count": 12,
   "id": "3f1d58f4-43a5-4f35-b103-cfa36d58c600",
   "metadata": {},
   "outputs": [],
   "source": [
    "def solve(S):\n",
    "    ret = 0\n",
    "    for i, s in enumerate(S[::-1]):\n",
    "        ret += int(s) * K**i\n",
    "    return ret"
   ]
  },
  {
   "cell_type": "code",
   "execution_count": 13,
   "id": "07710f6b-7127-460f-a6d5-37ac63453704",
   "metadata": {},
   "outputs": [
    {
     "name": "stdout",
     "output_type": "stream",
     "text": [
      "15642\n"
     ]
    }
   ],
   "source": [
    "print(solve(A) * solve(B))"
   ]
  },
  {
   "cell_type": "code",
   "execution_count": 7,
   "id": "9c8344cf-efe0-49e9-b945-2c2fc26634c0",
   "metadata": {},
   "outputs": [],
   "source": [
    "solve(A)"
   ]
  },
  {
   "cell_type": "code",
   "execution_count": null,
   "id": "154882f0-f849-40e8-91bb-94da96d87704",
   "metadata": {},
   "outputs": [],
   "source": []
  }
 ],
 "metadata": {
  "kernelspec": {
   "display_name": "Python 3",
   "language": "python",
   "name": "python3"
  },
  "language_info": {
   "codemirror_mode": {
    "name": "ipython",
    "version": 3
   },
   "file_extension": ".py",
   "mimetype": "text/x-python",
   "name": "python",
   "nbconvert_exporter": "python",
   "pygments_lexer": "ipython3",
   "version": "3.6.13"
  }
 },
 "nbformat": 4,
 "nbformat_minor": 5
}
