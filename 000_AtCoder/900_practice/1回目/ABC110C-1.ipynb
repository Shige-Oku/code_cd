{
 "cells": [
  {
   "cell_type": "code",
   "execution_count": 49,
   "id": "35d5484a-4b70-4daa-9acd-c3c319779736",
   "metadata": {},
   "outputs": [
    {
     "name": "stdin",
     "output_type": "stream",
     "text": [
      " abcdefghijklmnopqrstuvwxyz\n"
     ]
    }
   ],
   "source": [
    "S = input()"
   ]
  },
  {
   "cell_type": "code",
   "execution_count": 50,
   "id": "0d0b2e19-3986-4285-adf3-48c1f36ca119",
   "metadata": {},
   "outputs": [
    {
     "name": "stdin",
     "output_type": "stream",
     "text": [
      " ibyhqfrekavclxjstdwgpzmonu\n"
     ]
    }
   ],
   "source": [
    "T = input()"
   ]
  },
  {
   "cell_type": "code",
   "execution_count": 54,
   "id": "83296c0f-4ce3-4473-b424-3554c2448757",
   "metadata": {},
   "outputs": [
    {
     "name": "stdout",
     "output_type": "stream",
     "text": [
      "Yes\n"
     ]
    }
   ],
   "source": [
    "d1, d2 = {}, {}\n",
    "for s, t in zip(S, T):\n",
    "    if s in d1:\n",
    "        if d1[s] != t:\n",
    "            print('No')\n",
    "            break\n",
    "    if t in d2:\n",
    "        if d2[t] != s:\n",
    "            print('No')\n",
    "            break\n",
    "    d1[s] = t\n",
    "    d2[t] = s\n",
    "else:\n",
    "    print('Yes')"
   ]
  },
  {
   "cell_type": "code",
   "execution_count": 55,
   "id": "8d854eed-5777-4207-b59d-b6f79f4b3511",
   "metadata": {},
   "outputs": [
    {
     "name": "stdout",
     "output_type": "stream",
     "text": [
      "Yes\n"
     ]
    }
   ],
   "source": [
    "d1, d2 = {}, {}\n",
    "for s, t in zip(S, T):\n",
    "    if s in d1:\n",
    "        if d1[s] != t:\n",
    "            print('No')\n",
    "            break\n",
    "    else:\n",
    "        d1[s] = t\n",
    "    if t in d2:\n",
    "        if d2[t] != s:\n",
    "            print('No')\n",
    "            break\n",
    "    else:\n",
    "        d2[t] = s\n",
    "else:\n",
    "    print('Yes')"
   ]
  },
  {
   "cell_type": "code",
   "execution_count": 25,
   "id": "7c28214b-8be2-43c7-b76b-801624104e0e",
   "metadata": {},
   "outputs": [],
   "source": [
    "def getIndex(s, c):\n",
    "    ret = []\n",
    "    idx = 0\n",
    "    while True:\n",
    "        idx = s.find(c, idx)\n",
    "        if idx == -1:\n",
    "            break\n",
    "        ret.append(idx)\n",
    "        idx += 1\n",
    "    return ret"
   ]
  },
  {
   "cell_type": "code",
   "execution_count": 29,
   "id": "5af36b98-2acf-42a2-afd7-d092c295a0ae",
   "metadata": {},
   "outputs": [],
   "source": [
    "def myCheck(c1, c2):\n",
    "    S_c1 = getIndex(S, c1)\n",
    "    S_c2 = getIndex(S, c2)\n",
    "    T_c1 = getIndex(T, c1)\n",
    "    T_c2 = getIndex(T, c2)\n",
    "    print(S_c1, T_c2, S_c2, T_c1)\n",
    "    return S_c1 == T_c2 and S_c2 == T_c1"
   ]
  },
  {
   "cell_type": "code",
   "execution_count": 30,
   "id": "d61871c5-1ccc-468a-9647-bd00e858449b",
   "metadata": {},
   "outputs": [
    {
     "name": "stdout",
     "output_type": "stream",
     "text": [
      "[0] [0] [8] [9]\n",
      "a i\n",
      "No\n"
     ]
    }
   ],
   "source": [
    "for s, t in zip(S, T):\n",
    "    if s == t:\n",
    "        continue\n",
    "    if not myCheck(s, t):\n",
    "        print(s, t)\n",
    "        print('No')\n",
    "        break\n",
    "else:\n",
    "    print('Yes')"
   ]
  },
  {
   "cell_type": "code",
   "execution_count": 15,
   "id": "807c1d83-f81a-4862-bf39-7c7540794807",
   "metadata": {},
   "outputs": [
    {
     "data": {
      "text/plain": [
       "[1, 2]"
      ]
     },
     "execution_count": 15,
     "metadata": {},
     "output_type": "execute_result"
    }
   ],
   "source": [
    "getIndex(S, 'z')"
   ]
  },
  {
   "cell_type": "code",
   "execution_count": 31,
   "id": "03a56966-ff7e-4641-a702-7cdf855bf2a8",
   "metadata": {},
   "outputs": [
    {
     "data": {
      "text/plain": [
       "(8, 9)"
      ]
     },
     "execution_count": 31,
     "metadata": {},
     "output_type": "execute_result"
    }
   ],
   "source": [
    "S.find('i'), T.find('a')"
   ]
  },
  {
   "cell_type": "code",
   "execution_count": 3,
   "id": "63fa44cc-32de-46e7-8ffd-707ffd16774b",
   "metadata": {},
   "outputs": [
    {
     "name": "stdout",
     "output_type": "stream",
     "text": [
      "No\n"
     ]
    }
   ],
   "source": [
    "import string\n",
    "for c1 in string.ascii_lowercase:\n",
    "    ss = ''\n",
    "    for c2 in string.ascii_lowercase:\n",
    "        if c1 == c2:\n",
    "            break\n",
    "        for s in S:\n",
    "            if s == c1:\n",
    "                ss += c2\n",
    "            elif s == c2:\n",
    "                ss += c1\n",
    "            else:\n",
    "                ss += s\n",
    "    if ss == T:\n",
    "        print('Yes')\n",
    "        break\n",
    "else:\n",
    "    print('No')"
   ]
  },
  {
   "cell_type": "code",
   "execution_count": null,
   "id": "dcd1778a-1d86-4306-974f-65c8db23835c",
   "metadata": {},
   "outputs": [],
   "source": []
  }
 ],
 "metadata": {
  "kernelspec": {
   "display_name": "Python 3",
   "language": "python",
   "name": "python3"
  },
  "language_info": {
   "codemirror_mode": {
    "name": "ipython",
    "version": 3
   },
   "file_extension": ".py",
   "mimetype": "text/x-python",
   "name": "python",
   "nbconvert_exporter": "python",
   "pygments_lexer": "ipython3",
   "version": "3.6.13"
  }
 },
 "nbformat": 4,
 "nbformat_minor": 5
}
