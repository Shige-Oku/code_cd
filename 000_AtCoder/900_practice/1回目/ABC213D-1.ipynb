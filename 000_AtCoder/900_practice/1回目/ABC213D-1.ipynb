{
 "cells": [
  {
   "cell_type": "code",
   "execution_count": 1,
   "id": "7baade68-307c-450f-b579-843979843ac3",
   "metadata": {},
   "outputs": [
    {
     "name": "stdin",
     "output_type": "stream",
     "text": [
      " 4\n"
     ]
    }
   ],
   "source": [
    "N = int(input())"
   ]
  },
  {
   "cell_type": "code",
   "execution_count": 2,
   "id": "05057d1b-913a-4361-94d0-5d5f21426bac",
   "metadata": {},
   "outputs": [
    {
     "name": "stdin",
     "output_type": "stream",
     "text": [
      " 1 2\n",
      " 4 2\n",
      " 3 1\n"
     ]
    }
   ],
   "source": [
    "ABn = [list(map(int, input().split())) for _ in range(N-1)]"
   ]
  },
  {
   "cell_type": "code",
   "execution_count": 10,
   "id": "967720b4-c50d-48d8-a333-d2c98b510c8f",
   "metadata": {},
   "outputs": [],
   "source": [
    "import sys\n",
    "sys.setrecursionlimit(10**7)"
   ]
  },
  {
   "cell_type": "code",
   "execution_count": 4,
   "id": "cd138c8a-ec90-43c6-a49a-615725100d6a",
   "metadata": {},
   "outputs": [],
   "source": [
    "graph = [[] for _ in range(N+1)]\n",
    "for A, B in ABn:\n",
    "    graph[A].append(B)\n",
    "    graph[B].append(A)"
   ]
  },
  {
   "cell_type": "code",
   "execution_count": 14,
   "id": "554caee4-dbea-4f57-94e7-8468f0f03f4b",
   "metadata": {},
   "outputs": [],
   "source": [
    "def DFS(n):\n",
    "    ans.append(n)\n",
    "    visit[n] = True\n",
    "    for g in sorted(graph[n]):\n",
    "        if visit[g]:\n",
    "            continue\n",
    "        DFS(g)\n",
    "        ans.append(n)\n",
    "        \n",
    "    return"
   ]
  },
  {
   "cell_type": "code",
   "execution_count": 18,
   "id": "d8059e74-7f87-4d7d-9cc1-47ded39e6c04",
   "metadata": {},
   "outputs": [
    {
     "name": "stdout",
     "output_type": "stream",
     "text": [
      "1 2 4 2 1 3 1\n"
     ]
    }
   ],
   "source": [
    "ans = []\n",
    "visit = [False] * (N+1)\n",
    "DFS(1)\n",
    "print(*ans, sep=' ')"
   ]
  },
  {
   "cell_type": "code",
   "execution_count": 7,
   "id": "d63e193c-679d-4f91-adfa-0f812eb31794",
   "metadata": {},
   "outputs": [
    {
     "data": {
      "text/plain": [
       "[[], [2, 3], [1, 4], [1], [2]]"
      ]
     },
     "execution_count": 7,
     "metadata": {},
     "output_type": "execute_result"
    }
   ],
   "source": [
    "graph"
   ]
  },
  {
   "cell_type": "code",
   "execution_count": 17,
   "id": "2327b630-8c51-42f9-9d15-d6b6eea3c942",
   "metadata": {},
   "outputs": [
    {
     "data": {
      "text/plain": [
       "[1, 2, 4, 2, 1, 3, 1]"
      ]
     },
     "execution_count": 17,
     "metadata": {},
     "output_type": "execute_result"
    }
   ],
   "source": [
    "ans"
   ]
  },
  {
   "cell_type": "code",
   "execution_count": null,
   "id": "a9bf8aa7-cb8e-4c41-afb2-4cd797ace814",
   "metadata": {},
   "outputs": [],
   "source": []
  }
 ],
 "metadata": {
  "kernelspec": {
   "display_name": "Python 3",
   "language": "python",
   "name": "python3"
  },
  "language_info": {
   "codemirror_mode": {
    "name": "ipython",
    "version": 3
   },
   "file_extension": ".py",
   "mimetype": "text/x-python",
   "name": "python",
   "nbconvert_exporter": "python",
   "pygments_lexer": "ipython3",
   "version": "3.6.13"
  }
 },
 "nbformat": 4,
 "nbformat_minor": 5
}
