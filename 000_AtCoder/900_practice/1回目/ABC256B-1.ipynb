{
 "cells": [
  {
   "cell_type": "code",
   "execution_count": 22,
   "id": "38858207-61a0-47e6-ae2f-ecf5371f0143",
   "metadata": {},
   "outputs": [
    {
     "name": "stdin",
     "output_type": "stream",
     "text": [
      " 4\n"
     ]
    }
   ],
   "source": [
    "N = int(input())"
   ]
  },
  {
   "cell_type": "code",
   "execution_count": 23,
   "id": "6939daca-c802-4c66-a681-0d100fbe830d",
   "metadata": {},
   "outputs": [
    {
     "name": "stdin",
     "output_type": "stream",
     "text": [
      " 1 1 3 2\n"
     ]
    }
   ],
   "source": [
    "An = list(map(int, input().split()))"
   ]
  },
  {
   "cell_type": "code",
   "execution_count": 24,
   "id": "0e9d313d-3d59-4cab-82c0-9d7b16d8a0bf",
   "metadata": {},
   "outputs": [],
   "source": [
    "n = [0] * 4\n",
    "ans = 0\n",
    "for A in An:\n",
    "    n[0] = 1\n",
    "    for i in range(3, -1, -1):\n",
    "        if i + A > 3:\n",
    "            if n[i] == 1:\n",
    "                ans += 1\n",
    "        else:\n",
    "            n[i+A] = n[i]\n",
    "        n[i] = 0\n"
   ]
  },
  {
   "cell_type": "code",
   "execution_count": 25,
   "id": "52037781-b841-440f-a534-21a49bb23cf3",
   "metadata": {},
   "outputs": [
    {
     "name": "stdout",
     "output_type": "stream",
     "text": [
      "3\n"
     ]
    }
   ],
   "source": [
    "print(ans)"
   ]
  },
  {
   "cell_type": "code",
   "execution_count": 26,
   "id": "e92f1cb7-718a-4c15-8acb-769c00b7f095",
   "metadata": {},
   "outputs": [
    {
     "data": {
      "text/plain": [
       "[0, 0, 1, 0]"
      ]
     },
     "execution_count": 26,
     "metadata": {},
     "output_type": "execute_result"
    }
   ],
   "source": [
    "n"
   ]
  },
  {
   "cell_type": "code",
   "execution_count": 27,
   "id": "1b1e8ad1-7b27-4f00-bb2a-abf19ba6e6a6",
   "metadata": {},
   "outputs": [
    {
     "data": {
      "text/plain": [
       "1"
      ]
     },
     "execution_count": 27,
     "metadata": {},
     "output_type": "execute_result"
    }
   ],
   "source": [
    "7>>2"
   ]
  },
  {
   "cell_type": "code",
   "execution_count": 42,
   "id": "0dd7e009-872b-4a15-b77c-8dfca7d8d5b3",
   "metadata": {},
   "outputs": [],
   "source": [
    "n = [False] * 420\n",
    "for A in An:\n",
    "    n[0] = True\n",
    "    for i in range(N*4, -1, -1):\n",
    "        n[i+A] = n[i]\n",
    "        n[i] = False"
   ]
  },
  {
   "cell_type": "code",
   "execution_count": 43,
   "id": "5c6110b9-6ea7-4040-8485-7b86ad3e9753",
   "metadata": {},
   "outputs": [
    {
     "name": "stdout",
     "output_type": "stream",
     "text": [
      "3\n"
     ]
    }
   ],
   "source": [
    "print(sum(n[4:]))"
   ]
  },
  {
   "cell_type": "code",
   "execution_count": null,
   "id": "badfcbe3-4eb5-4f56-ba0c-6e46d9f6c253",
   "metadata": {},
   "outputs": [],
   "source": []
  }
 ],
 "metadata": {
  "kernelspec": {
   "display_name": "Python 3",
   "language": "python",
   "name": "python3"
  },
  "language_info": {
   "codemirror_mode": {
    "name": "ipython",
    "version": 3
   },
   "file_extension": ".py",
   "mimetype": "text/x-python",
   "name": "python",
   "nbconvert_exporter": "python",
   "pygments_lexer": "ipython3",
   "version": "3.6.13"
  }
 },
 "nbformat": 4,
 "nbformat_minor": 5
}
