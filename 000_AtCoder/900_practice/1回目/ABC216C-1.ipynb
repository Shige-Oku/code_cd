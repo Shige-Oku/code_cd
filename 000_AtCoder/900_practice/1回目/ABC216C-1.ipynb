{
 "cells": [
  {
   "cell_type": "code",
   "execution_count": 43,
   "id": "e289771b-fe73-4b12-9454-b69cd42cd31c",
   "metadata": {},
   "outputs": [
    {
     "name": "stdin",
     "output_type": "stream",
     "text": [
      " 14\n"
     ]
    }
   ],
   "source": [
    "N = int(input())"
   ]
  },
  {
   "cell_type": "code",
   "execution_count": 44,
   "id": "f698bcd6-64c4-43ae-98a3-af155ddae8d3",
   "metadata": {},
   "outputs": [],
   "source": [
    "ans = ''\n",
    "ns = bin(N)[2:]\n",
    "for i, s in enumerate(ns, 1):\n",
    "    if s == '1':\n",
    "        ans += 'BA'\n",
    "    else:\n",
    "        ans += 'B'\n"
   ]
  },
  {
   "cell_type": "code",
   "execution_count": 45,
   "id": "e1c2b657-e221-41c9-be45-f98b753d274c",
   "metadata": {},
   "outputs": [
    {
     "name": "stdout",
     "output_type": "stream",
     "text": [
      "BABABAB\n"
     ]
    }
   ],
   "source": [
    "print(ans)"
   ]
  },
  {
   "cell_type": "code",
   "execution_count": 5,
   "id": "28f74c53-a18a-464c-8899-ca9ab890fe6f",
   "metadata": {},
   "outputs": [
    {
     "data": {
      "text/plain": [
       "'101'"
      ]
     },
     "execution_count": 5,
     "metadata": {},
     "output_type": "execute_result"
    }
   ],
   "source": [
    "bin(N)[2:][::-1]"
   ]
  },
  {
   "cell_type": "code",
   "execution_count": 36,
   "id": "3b6dd10d-b3a0-4f31-95bd-2618220934b1",
   "metadata": {},
   "outputs": [
    {
     "data": {
      "text/plain": [
       "'1111'"
      ]
     },
     "execution_count": 36,
     "metadata": {},
     "output_type": "execute_result"
    }
   ],
   "source": [
    "ns"
   ]
  },
  {
   "cell_type": "code",
   "execution_count": 46,
   "id": "8ff91a1f-a44b-45be-9c89-d83cdc71ecff",
   "metadata": {},
   "outputs": [],
   "source": [
    "ans = ''\n",
    "n = N\n",
    "while n > 0:\n",
    "    if n % 2 == 1:\n",
    "        n -= 1\n",
    "        ans += 'A'\n",
    "    else:\n",
    "        n //= 2\n",
    "        ans += 'B'"
   ]
  },
  {
   "cell_type": "code",
   "execution_count": 47,
   "id": "2ebc7709-bdbc-45e3-8585-ccd8fd497cd4",
   "metadata": {},
   "outputs": [
    {
     "name": "stdout",
     "output_type": "stream",
     "text": [
      "ABABAB\n"
     ]
    }
   ],
   "source": [
    "print(ans[::-1])"
   ]
  },
  {
   "cell_type": "code",
   "execution_count": null,
   "id": "c048b1db-1067-4baf-915b-4edf82f569e7",
   "metadata": {},
   "outputs": [],
   "source": [
    "# WA"
   ]
  },
  {
   "cell_type": "code",
   "execution_count": 37,
   "id": "090a76ea-a572-4c59-a030-2ada6020bc42",
   "metadata": {},
   "outputs": [
    {
     "name": "stdout",
     "output_type": "stream",
     "text": [
      "BA\n",
      "BABA\n",
      "BABABA\n",
      "BABABAA\n"
     ]
    }
   ],
   "source": [
    "ans = ''\n",
    "ns = bin(N)[2:]\n",
    "for i, s in enumerate(ns, 1):\n",
    "    if s == '1':\n",
    "        if i < len(ns):\n",
    "            ans += 'BA'\n",
    "        else:\n",
    "            ans += 'A'\n",
    "    else:\n",
    "        if i < len(ns):\n",
    "            ans += 'BB'\n",
    "        else:\n",
    "            ans += 'B'\n",
    "    print(ans)"
   ]
  },
  {
   "cell_type": "code",
   "execution_count": null,
   "id": "870ac07b-c304-4cfd-8491-6c24823494d6",
   "metadata": {},
   "outputs": [],
   "source": []
  }
 ],
 "metadata": {
  "kernelspec": {
   "display_name": "Python 3",
   "language": "python",
   "name": "python3"
  },
  "language_info": {
   "codemirror_mode": {
    "name": "ipython",
    "version": 3
   },
   "file_extension": ".py",
   "mimetype": "text/x-python",
   "name": "python",
   "nbconvert_exporter": "python",
   "pygments_lexer": "ipython3",
   "version": "3.6.13"
  }
 },
 "nbformat": 4,
 "nbformat_minor": 5
}
