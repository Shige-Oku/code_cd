{
 "cells": [
  {
   "cell_type": "code",
   "execution_count": 28,
   "id": "205381c1-8e2e-44da-8c41-f17aed4baa52",
   "metadata": {},
   "outputs": [
    {
     "name": "stdin",
     "output_type": "stream",
     "text": [
      " 5\n"
     ]
    }
   ],
   "source": [
    "N = int(input())"
   ]
  },
  {
   "cell_type": "code",
   "execution_count": 29,
   "id": "f5d51f78-1a02-4bad-9a64-58a6d91023d5",
   "metadata": {},
   "outputs": [],
   "source": [
    "ans = 0\n",
    "s = 1\n",
    "e = min(N, 9)\n",
    "while s <= N:\n",
    "    if e < 10:\n",
    "        ans = (s + e) * (e - s + 1) // 2\n",
    "    else:\n",
    "        ans += (s + e - 2 * (s-1)) * (e-s+1) // 2\n",
    "    ans %= 998244353\n",
    "    s *= 10\n",
    "    e = min(N, s * 10 - 1)\n"
   ]
  },
  {
   "cell_type": "code",
   "execution_count": 30,
   "id": "98f899eb-8f74-4c0a-8951-4b8c1a35c5e8",
   "metadata": {},
   "outputs": [
    {
     "name": "stdout",
     "output_type": "stream",
     "text": [
      "15\n"
     ]
    }
   ],
   "source": [
    "print(ans)"
   ]
  },
  {
   "cell_type": "code",
   "execution_count": 31,
   "id": "ce6c62b5-9bd6-4b25-854d-105de5645522",
   "metadata": {},
   "outputs": [],
   "source": [
    "ans = 0\n",
    "s = 1\n",
    "while s <= N:\n",
    "    e = min(N, s*10-1)\n",
    "    if e < 10:\n",
    "        ans = (s + e) * (e - s + 1) // 2\n",
    "    else:\n",
    "        ans += (s + e - 2 * (s-1)) * (e-s+1) // 2\n",
    "    ans %= 998244353\n",
    "    s *= 10\n"
   ]
  },
  {
   "cell_type": "code",
   "execution_count": 32,
   "id": "9233bcfc-d0b4-46bc-80fd-d2afff4a5e0d",
   "metadata": {},
   "outputs": [
    {
     "name": "stdout",
     "output_type": "stream",
     "text": [
      "15\n"
     ]
    }
   ],
   "source": [
    "print(ans)"
   ]
  },
  {
   "cell_type": "code",
   "execution_count": null,
   "id": "59dd0712-532e-4469-9819-46b9d8edfd05",
   "metadata": {},
   "outputs": [],
   "source": []
  }
 ],
 "metadata": {
  "kernelspec": {
   "display_name": "Python 3",
   "language": "python",
   "name": "python3"
  },
  "language_info": {
   "codemirror_mode": {
    "name": "ipython",
    "version": 3
   },
   "file_extension": ".py",
   "mimetype": "text/x-python",
   "name": "python",
   "nbconvert_exporter": "python",
   "pygments_lexer": "ipython3",
   "version": "3.6.13"
  }
 },
 "nbformat": 4,
 "nbformat_minor": 5
}
