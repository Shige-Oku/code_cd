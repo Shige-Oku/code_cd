{
 "cells": [
  {
   "cell_type": "code",
   "execution_count": 8,
   "id": "62447537-4123-4ece-bdce-3033cf551eb6",
   "metadata": {},
   "outputs": [
    {
     "name": "stdin",
     "output_type": "stream",
     "text": [
      " 100 50 4\n"
     ]
    }
   ],
   "source": [
    "A, B, K = map(int, input().split())"
   ]
  },
  {
   "cell_type": "code",
   "execution_count": 12,
   "id": "928ff302-3d4d-4b64-9cbd-420b0b3b4f55",
   "metadata": {},
   "outputs": [],
   "source": [
    "c = 0\n",
    "divisors = []\n",
    "for i in range(1, 101):\n",
    "    if A % i == 0 and B % i == 0:\n",
    "        divisors.append(i)\n"
   ]
  },
  {
   "cell_type": "code",
   "execution_count": 13,
   "id": "02f04724-ed6c-4103-9e08-515789b4db38",
   "metadata": {},
   "outputs": [
    {
     "name": "stdout",
     "output_type": "stream",
     "text": [
      "5\n"
     ]
    }
   ],
   "source": [
    "print(sorted(divisors, reverse=True)[K-1])"
   ]
  },
  {
   "cell_type": "code",
   "execution_count": 10,
   "id": "da60a87a-c608-479c-8191-1bc0118e37d1",
   "metadata": {},
   "outputs": [
    {
     "name": "stdout",
     "output_type": "stream",
     "text": [
      "5\n"
     ]
    }
   ],
   "source": [
    "divisors = []\n",
    "for i in range(1, 101):\n",
    "    if A % i == B % i == 0:\n",
    "        divisors.append(i)\n",
    " \n",
    "divisors.sort(reverse=True)\n",
    "print(divisors[K-1])"
   ]
  },
  {
   "cell_type": "code",
   "execution_count": 11,
   "id": "c60beb98-6738-4936-9558-3ba8674749b4",
   "metadata": {},
   "outputs": [
    {
     "data": {
      "text/plain": [
       "[50, 25, 10, 5, 2, 1]"
      ]
     },
     "execution_count": 11,
     "metadata": {},
     "output_type": "execute_result"
    }
   ],
   "source": [
    "divisors"
   ]
  },
  {
   "cell_type": "code",
   "execution_count": null,
   "id": "53ec9337-0dc8-4a52-8597-1a5c2730646d",
   "metadata": {},
   "outputs": [],
   "source": []
  }
 ],
 "metadata": {
  "kernelspec": {
   "display_name": "Python 3",
   "language": "python",
   "name": "python3"
  },
  "language_info": {
   "codemirror_mode": {
    "name": "ipython",
    "version": 3
   },
   "file_extension": ".py",
   "mimetype": "text/x-python",
   "name": "python",
   "nbconvert_exporter": "python",
   "pygments_lexer": "ipython3",
   "version": "3.6.13"
  }
 },
 "nbformat": 4,
 "nbformat_minor": 5
}
