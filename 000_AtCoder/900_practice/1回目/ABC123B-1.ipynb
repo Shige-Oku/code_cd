{
 "cells": [
  {
   "cell_type": "code",
   "execution_count": 1,
   "id": "5998a13f-11c7-4c03-97a2-b4c047ca6108",
   "metadata": {},
   "outputs": [
    {
     "name": "stdin",
     "output_type": "stream",
     "text": [
      " 29\n"
     ]
    }
   ],
   "source": [
    "A = int(input())"
   ]
  },
  {
   "cell_type": "code",
   "execution_count": 2,
   "id": "fbb28715-92cb-4c23-942b-db49b8c67c71",
   "metadata": {},
   "outputs": [
    {
     "name": "stdin",
     "output_type": "stream",
     "text": [
      " 20\n"
     ]
    }
   ],
   "source": [
    "B = int(input())"
   ]
  },
  {
   "cell_type": "code",
   "execution_count": 3,
   "id": "74111445-e363-4d1c-a47f-fe579eff7c2f",
   "metadata": {},
   "outputs": [
    {
     "name": "stdin",
     "output_type": "stream",
     "text": [
      " 7\n"
     ]
    }
   ],
   "source": [
    "C = int(input())"
   ]
  },
  {
   "cell_type": "code",
   "execution_count": 4,
   "id": "bf37f631-5fd4-4356-846a-1be6766ab722",
   "metadata": {},
   "outputs": [
    {
     "name": "stdin",
     "output_type": "stream",
     "text": [
      " 35\n"
     ]
    }
   ],
   "source": [
    "D = int(input())"
   ]
  },
  {
   "cell_type": "code",
   "execution_count": 5,
   "id": "e255b5bb-46f2-4ed3-9652-ee1d1cd8c882",
   "metadata": {},
   "outputs": [
    {
     "name": "stdin",
     "output_type": "stream",
     "text": [
      " 120\n"
     ]
    }
   ],
   "source": [
    "E = int(input())"
   ]
  },
  {
   "cell_type": "code",
   "execution_count": 21,
   "id": "6f8fe0c9-b2fd-4b7b-95b5-6982a79df42b",
   "metadata": {},
   "outputs": [],
   "source": [
    "t = 0\n",
    "r = 10\n",
    "for x in [A, B, C, D, E]:\n",
    "    t += (x + 9) // 10 * 10\n",
    "    if x % 10 > 0:\n",
    "        r = min(r, x%10)"
   ]
  },
  {
   "cell_type": "code",
   "execution_count": 22,
   "id": "6d4d5232-35c7-4c87-b6db-3fdd2182450f",
   "metadata": {},
   "outputs": [
    {
     "name": "stdout",
     "output_type": "stream",
     "text": [
      "215\n"
     ]
    }
   ],
   "source": [
    "if r == 10:\n",
    "    print(t)\n",
    "else:\n",
    "    print(t-10+r)"
   ]
  },
  {
   "cell_type": "code",
   "execution_count": 20,
   "id": "95c210af-6a1f-4bc4-b804-b94491369b79",
   "metadata": {},
   "outputs": [
    {
     "data": {
      "text/plain": [
       "(220, 0)"
      ]
     },
     "execution_count": 20,
     "metadata": {},
     "output_type": "execute_result"
    }
   ],
   "source": [
    "t, r"
   ]
  },
  {
   "cell_type": "code",
   "execution_count": 11,
   "id": "a2aecae1-db1c-49f0-be3c-0f5cb530893a",
   "metadata": {},
   "outputs": [
    {
     "data": {
      "text/plain": [
       "(29, 20, 7, 35, 120)"
      ]
     },
     "execution_count": 11,
     "metadata": {},
     "output_type": "execute_result"
    }
   ],
   "source": [
    "A, B, C, D, E"
   ]
  },
  {
   "cell_type": "code",
   "execution_count": 24,
   "id": "bc78a613-3262-4b88-9b49-bb442ae37f12",
   "metadata": {},
   "outputs": [],
   "source": [
    "from itertools import permutations\n",
    "ans = 1000\n",
    "for p in permutations([A, B, C, D, E], 5):\n",
    "    c = 0\n",
    "    for i, t in enumerate(p):\n",
    "        if i < 4:\n",
    "            c += (t+9) // 10 * 10\n",
    "        else:\n",
    "            c += t\n",
    "    ans = min(ans, c)\n",
    "    "
   ]
  },
  {
   "cell_type": "code",
   "execution_count": 25,
   "id": "30b7c8c6-e126-41e4-aab9-54855fe390d1",
   "metadata": {},
   "outputs": [
    {
     "name": "stdout",
     "output_type": "stream",
     "text": [
      "215\n"
     ]
    }
   ],
   "source": [
    "print(ans)"
   ]
  },
  {
   "cell_type": "code",
   "execution_count": null,
   "id": "99733b52-c2e5-40d4-b222-90ea4b632003",
   "metadata": {},
   "outputs": [],
   "source": []
  }
 ],
 "metadata": {
  "kernelspec": {
   "display_name": "Python 3",
   "language": "python",
   "name": "python3"
  },
  "language_info": {
   "codemirror_mode": {
    "name": "ipython",
    "version": 3
   },
   "file_extension": ".py",
   "mimetype": "text/x-python",
   "name": "python",
   "nbconvert_exporter": "python",
   "pygments_lexer": "ipython3",
   "version": "3.6.13"
  }
 },
 "nbformat": 4,
 "nbformat_minor": 5
}
