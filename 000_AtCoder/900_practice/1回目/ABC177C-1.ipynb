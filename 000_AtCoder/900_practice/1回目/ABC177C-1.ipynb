{
 "cells": [
  {
   "cell_type": "code",
   "execution_count": 5,
   "id": "a55dc7fe-cc65-465e-a000-5b612fdf0e95",
   "metadata": {},
   "outputs": [
    {
     "name": "stdin",
     "output_type": "stream",
     "text": [
      " 4\n"
     ]
    }
   ],
   "source": [
    "N = int(input())"
   ]
  },
  {
   "cell_type": "code",
   "execution_count": 6,
   "id": "37bbb1c8-b775-487f-a223-6884591b4095",
   "metadata": {},
   "outputs": [
    {
     "name": "stdin",
     "output_type": "stream",
     "text": [
      " 141421356 17320508 22360679 244949\n"
     ]
    }
   ],
   "source": [
    "An = list(map(int, input().split()))"
   ]
  },
  {
   "cell_type": "code",
   "execution_count": 7,
   "id": "2bb714bd-d2c2-4869-b12c-ade501c87e6b",
   "metadata": {},
   "outputs": [],
   "source": [
    "t = sum(An)\n",
    "ans = 0\n",
    "for A in An:\n",
    "    ans += (t - A) * A\n",
    "    ans %= 10**9 + 7\n",
    "    t -= A"
   ]
  },
  {
   "cell_type": "code",
   "execution_count": 8,
   "id": "5d237c64-95b1-49d6-b5f0-2bf138bfea22",
   "metadata": {},
   "outputs": [
    {
     "name": "stdout",
     "output_type": "stream",
     "text": [
      "437235829\n"
     ]
    }
   ],
   "source": [
    "print(ans)"
   ]
  },
  {
   "cell_type": "code",
   "execution_count": null,
   "id": "7383e437-53ea-4d41-8102-392da65b9b2a",
   "metadata": {},
   "outputs": [],
   "source": []
  }
 ],
 "metadata": {
  "kernelspec": {
   "display_name": "Python 3",
   "language": "python",
   "name": "python3"
  },
  "language_info": {
   "codemirror_mode": {
    "name": "ipython",
    "version": 3
   },
   "file_extension": ".py",
   "mimetype": "text/x-python",
   "name": "python",
   "nbconvert_exporter": "python",
   "pygments_lexer": "ipython3",
   "version": "3.6.13"
  }
 },
 "nbformat": 4,
 "nbformat_minor": 5
}
