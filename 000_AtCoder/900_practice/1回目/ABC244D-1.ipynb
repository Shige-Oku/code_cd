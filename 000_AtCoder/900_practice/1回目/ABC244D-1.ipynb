{
 "cells": [
  {
   "cell_type": "code",
   "execution_count": 2,
   "id": "f386949f-c864-442e-a85f-08495d0609a9",
   "metadata": {},
   "outputs": [
    {
     "name": "stdin",
     "output_type": "stream",
     "text": [
      " R G B\n"
     ]
    }
   ],
   "source": [
    "S1, S2, S3 = input().split()"
   ]
  },
  {
   "cell_type": "code",
   "execution_count": 3,
   "id": "80e82d19-2f1b-4f74-8ea7-7f6b79c9504c",
   "metadata": {},
   "outputs": [
    {
     "name": "stdin",
     "output_type": "stream",
     "text": [
      " R G B\n"
     ]
    }
   ],
   "source": [
    "T1, T2, T3 = input().split()"
   ]
  },
  {
   "cell_type": "code",
   "execution_count": 4,
   "id": "5316e578-234e-4764-9eb0-0d8f92411c2f",
   "metadata": {},
   "outputs": [
    {
     "name": "stdout",
     "output_type": "stream",
     "text": [
      "Yes\n"
     ]
    }
   ],
   "source": [
    "if S1 == T1 and S2 == T2 and S3 == T3:\n",
    "    print('Yes')\n",
    "elif S1 != T1 and S2 != T2 and S3 != T3:\n",
    "    print('Yes')\n",
    "else:\n",
    "    print('No')"
   ]
  },
  {
   "cell_type": "code",
   "execution_count": null,
   "id": "e4750daa-62ec-4fc0-b507-45d3bef14500",
   "metadata": {},
   "outputs": [],
   "source": []
  }
 ],
 "metadata": {
  "kernelspec": {
   "display_name": "Python 3",
   "language": "python",
   "name": "python3"
  },
  "language_info": {
   "codemirror_mode": {
    "name": "ipython",
    "version": 3
   },
   "file_extension": ".py",
   "mimetype": "text/x-python",
   "name": "python",
   "nbconvert_exporter": "python",
   "pygments_lexer": "ipython3",
   "version": "3.6.13"
  }
 },
 "nbformat": 4,
 "nbformat_minor": 5
}
