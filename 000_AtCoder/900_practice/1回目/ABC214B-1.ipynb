{
 "cells": [
  {
   "cell_type": "code",
   "execution_count": 10,
   "id": "4f1e90c1-524e-4d6c-b1b0-260b5f1e5bc4",
   "metadata": {},
   "outputs": [
    {
     "name": "stdin",
     "output_type": "stream",
     "text": [
      " 30 100\n"
     ]
    }
   ],
   "source": [
    "S, T = map(int, input().split())"
   ]
  },
  {
   "cell_type": "code",
   "execution_count": 11,
   "id": "f22069d0-f45c-4587-9ce9-7a979a453b6c",
   "metadata": {},
   "outputs": [],
   "source": [
    "ans= 0\n",
    "for i in range(101):\n",
    "    for j in range(101):\n",
    "        for k in range(101):\n",
    "            if i + j + k <= S and i * j * k <= T:\n",
    "                ans += 1"
   ]
  },
  {
   "cell_type": "code",
   "execution_count": 12,
   "id": "1b59e4dc-2ccb-4627-93a2-f1d7e4abca04",
   "metadata": {},
   "outputs": [
    {
     "name": "stdout",
     "output_type": "stream",
     "text": [
      "2471\n"
     ]
    }
   ],
   "source": [
    "print(ans)"
   ]
  },
  {
   "cell_type": "code",
   "execution_count": null,
   "id": "a6ed7e7f-f49d-4841-8183-f11536b09e70",
   "metadata": {},
   "outputs": [],
   "source": []
  }
 ],
 "metadata": {
  "kernelspec": {
   "display_name": "Python 3",
   "language": "python",
   "name": "python3"
  },
  "language_info": {
   "codemirror_mode": {
    "name": "ipython",
    "version": 3
   },
   "file_extension": ".py",
   "mimetype": "text/x-python",
   "name": "python",
   "nbconvert_exporter": "python",
   "pygments_lexer": "ipython3",
   "version": "3.6.13"
  }
 },
 "nbformat": 4,
 "nbformat_minor": 5
}
