{
 "cells": [
  {
   "cell_type": "code",
   "execution_count": 108,
   "id": "eb647136-224b-4477-8d44-48d848138295",
   "metadata": {},
   "outputs": [
    {
     "name": "stdin",
     "output_type": "stream",
     "text": [
      " 10\n"
     ]
    }
   ],
   "source": [
    "N = int(input())"
   ]
  },
  {
   "cell_type": "code",
   "execution_count": 109,
   "id": "e731bb60-4d09-44cd-9cfb-4478c6f4902b",
   "metadata": {},
   "outputs": [
    {
     "name": "stdin",
     "output_type": "stream",
     "text": [
      " 1874117766\n",
      " 6569184659\n",
      " 4789678843\n",
      " 6861836693\n",
      " 7274547719\n",
      " 9544838442\n",
      " 3559417488\n",
      " 5762879579\n",
      " 9914768852\n",
      " 9548828585\n"
     ]
    }
   ],
   "source": [
    "An = [input() for _ in range(N)]"
   ]
  },
  {
   "cell_type": "code",
   "execution_count": 122,
   "id": "fb538d6b-11e9-4f46-808f-f43d838f225d",
   "metadata": {},
   "outputs": [],
   "source": [
    "def solve(h, w):\n",
    "    ret = 0\n",
    "    c = ''\n",
    "    for j in range(N):\n",
    "        h2 = h\n",
    "        w2 = (w + j) % N\n",
    "        c += An[h2][w2]\n",
    "    ret = max(ret, int(c))\n",
    "    c = ''\n",
    "    for j in range(N):\n",
    "        h2 = h\n",
    "        w2 = w - j\n",
    "        c += An[h2][w2]\n",
    "    ret = max(ret, int(c))\n",
    "    c = ''\n",
    "    for i in range(N):\n",
    "        h2 = (h + i) % N\n",
    "        w2 = w\n",
    "        c += An[h2][w2]\n",
    "    ret = max(ret, int(c))\n",
    "    c = ''\n",
    "    for i in range(N):\n",
    "        h2 = h - i\n",
    "        w2 = w\n",
    "        c += An[h2][w2]\n",
    "    ret = max(ret, int(c))\n",
    "    c = ''\n",
    "    for i in range(N):\n",
    "        h2 = (h + i) % N\n",
    "        w2 = (w + i) % N\n",
    "        c += An[h2][w2]\n",
    "    ret = max(ret, int(c))\n",
    "    c = ''\n",
    "    for i in range(N):\n",
    "        h2 = h - i\n",
    "        w2 = (w + i) % N\n",
    "        c += An[h2][w2]\n",
    "    ret = max(ret, int(c))\n",
    "    c = ''\n",
    "    for i in range(N):\n",
    "        h2 = (h + i) % N\n",
    "        w2 = w - i\n",
    "        c += An[h2][w2]\n",
    "    ret = max(ret, int(c))\n",
    "    c = ''\n",
    "    for i in range(N):\n",
    "        h2 = h - i\n",
    "        w2 = w - i\n",
    "        c += An[h2][w2]\n",
    "    ret = max(ret, int(c))\n",
    "    return ret"
   ]
  },
  {
   "cell_type": "code",
   "execution_count": 134,
   "id": "663e89d3-13b2-413c-b249-d2525686ab4a",
   "metadata": {},
   "outputs": [],
   "source": [
    "from itertools import product\n",
    "def solve(h, w):\n",
    "    ret = 0\n",
    "    for x, y in product([-1, 0, 1], repeat=2):\n",
    "        if x == y == 0:\n",
    "            continue\n",
    "        s = An[h][w]\n",
    "        a, b = h, w\n",
    "        for _ in range(N-1):\n",
    "            a += x\n",
    "            a %= N\n",
    "            b += y\n",
    "            b %= N\n",
    "            s += An[a][b]\n",
    "        ret = max(ret, int(s))\n",
    "    return ret\n",
    "    "
   ]
  },
  {
   "cell_type": "code",
   "execution_count": 135,
   "id": "5d743419-c898-4372-a73f-314d35dbb062",
   "metadata": {},
   "outputs": [],
   "source": [
    "ans = 0\n",
    "for h in range(N):\n",
    "    for w in range(N):\n",
    "        c = solve(h ,w)\n",
    "        ans = max(ans, c)"
   ]
  },
  {
   "cell_type": "code",
   "execution_count": 136,
   "id": "e36b8f7c-fed8-4785-892a-bace65351c73",
   "metadata": {},
   "outputs": [
    {
     "name": "stdout",
     "output_type": "stream",
     "text": [
      "9998418465\n"
     ]
    }
   ],
   "source": [
    "print(ans)"
   ]
  },
  {
   "cell_type": "code",
   "execution_count": 94,
   "id": "6a99d3b6-8281-42d4-9bbb-bd2969db422a",
   "metadata": {},
   "outputs": [
    {
     "name": "stdout",
     "output_type": "stream",
     "text": [
      "0 1\n",
      "0\n",
      "1\n",
      "  \n"
     ]
    },
    {
     "ename": "ValueError",
     "evalue": "invalid literal for int() with base 10: '  '",
     "output_type": "error",
     "traceback": [
      "\u001b[1;31m---------------------------------------------------------------------------\u001b[0m",
      "\u001b[1;31mValueError\u001b[0m                                Traceback (most recent call last)",
      "\u001b[1;32m<ipython-input-94-bd3ee21466fd>\u001b[0m in \u001b[0;36m<module>\u001b[1;34m\u001b[0m\n\u001b[1;32m----> 1\u001b[1;33m \u001b[0msolve\u001b[0m\u001b[1;33m(\u001b[0m\u001b[1;36m0\u001b[0m\u001b[1;33m,\u001b[0m \u001b[1;36m1\u001b[0m\u001b[1;33m)\u001b[0m\u001b[1;33m\u001b[0m\u001b[1;33m\u001b[0m\u001b[0m\n\u001b[0m",
      "\u001b[1;32m<ipython-input-93-bde7b84eba3a>\u001b[0m in \u001b[0;36msolve\u001b[1;34m(h, w)\u001b[0m\n\u001b[0;32m     21\u001b[0m         \u001b[0mc\u001b[0m \u001b[1;33m+=\u001b[0m \u001b[0mAn\u001b[0m\u001b[1;33m[\u001b[0m\u001b[0mh2\u001b[0m\u001b[1;33m]\u001b[0m\u001b[1;33m[\u001b[0m\u001b[0mw2\u001b[0m\u001b[1;33m]\u001b[0m\u001b[1;33m\u001b[0m\u001b[1;33m\u001b[0m\u001b[0m\n\u001b[0;32m     22\u001b[0m     \u001b[0mprint\u001b[0m\u001b[1;33m(\u001b[0m\u001b[0mc\u001b[0m\u001b[1;33m)\u001b[0m\u001b[1;33m\u001b[0m\u001b[1;33m\u001b[0m\u001b[0m\n\u001b[1;32m---> 23\u001b[1;33m     \u001b[0mret\u001b[0m \u001b[1;33m=\u001b[0m \u001b[0mmax\u001b[0m\u001b[1;33m(\u001b[0m\u001b[0mret\u001b[0m\u001b[1;33m,\u001b[0m \u001b[0mint\u001b[0m\u001b[1;33m(\u001b[0m\u001b[0mc\u001b[0m\u001b[1;33m)\u001b[0m\u001b[1;33m)\u001b[0m\u001b[1;33m\u001b[0m\u001b[1;33m\u001b[0m\u001b[0m\n\u001b[0m\u001b[0;32m     24\u001b[0m     \u001b[0mc\u001b[0m \u001b[1;33m=\u001b[0m \u001b[1;34m''\u001b[0m\u001b[1;33m\u001b[0m\u001b[1;33m\u001b[0m\u001b[0m\n\u001b[0;32m     25\u001b[0m     \u001b[1;32mfor\u001b[0m \u001b[0mi\u001b[0m \u001b[1;32min\u001b[0m \u001b[0mrange\u001b[0m\u001b[1;33m(\u001b[0m\u001b[0mN\u001b[0m\u001b[1;33m)\u001b[0m\u001b[1;33m:\u001b[0m\u001b[1;33m\u001b[0m\u001b[1;33m\u001b[0m\u001b[0m\n",
      "\u001b[1;31mValueError\u001b[0m: invalid literal for int() with base 10: '  '"
     ]
    }
   ],
   "source": [
    "solve(0, 1)"
   ]
  },
  {
   "cell_type": "code",
   "execution_count": 83,
   "id": "36252c65-58cc-41bc-9cd7-d1b1e7fd5cad",
   "metadata": {},
   "outputs": [
    {
     "data": {
      "text/plain": [
       "(0, 0)"
      ]
     },
     "execution_count": 83,
     "metadata": {},
     "output_type": "execute_result"
    }
   ],
   "source": [
    "h, w"
   ]
  },
  {
   "cell_type": "code",
   "execution_count": 95,
   "id": "9e161231-8e59-4f68-b4f7-b7c020825dc4",
   "metadata": {},
   "outputs": [
    {
     "data": {
      "text/plain": [
       "['4 1', '2 5']"
      ]
     },
     "execution_count": 95,
     "metadata": {},
     "output_type": "execute_result"
    }
   ],
   "source": [
    "An"
   ]
  },
  {
   "cell_type": "code",
   "execution_count": null,
   "id": "a0884143-c245-441e-9bdb-9f35f90c8e4f",
   "metadata": {},
   "outputs": [],
   "source": [
    "9998418465"
   ]
  },
  {
   "cell_type": "code",
   "execution_count": 118,
   "id": "26c67d41-9122-4e0d-bab8-b6933c1c1627",
   "metadata": {},
   "outputs": [
    {
     "name": "stdout",
     "output_type": "stream",
     "text": [
      "5 0 1 1\n",
      "9998418465\n"
     ]
    }
   ],
   "source": [
    "import itertools\n",
    "def solve2(h, w):\n",
    "    ret = 0\n",
    "    for x, y in itertools.product([-1, 0, 1], repeat=2):\n",
    "        if x == y == 0:\n",
    "            continue\n",
    "        s = An[h][w]\n",
    "        a, b = h, w\n",
    "        for i in range(N-1):\n",
    "            a += N - x\n",
    "            a %= N\n",
    "            b += N - y\n",
    "            b %= N\n",
    "            s += An[a][b]\n",
    "        if s == '9998418465':\n",
    "            print(h, w, x, y)\n",
    "        ret = max(ret, int(s))\n",
    "    return ret\n",
    " \n",
    "ans = 0\n",
    "for i in range(N):\n",
    "    for j in range(N):\n",
    "        c = solve2(i, j)\n",
    "        ans = max(ans, c)\n",
    "print(ans)"
   ]
  },
  {
   "cell_type": "code",
   "execution_count": 115,
   "id": "139a4d0a-c788-4239-8d10-fc400c105df0",
   "metadata": {},
   "outputs": [
    {
     "name": "stdout",
     "output_type": "stream",
     "text": [
      "-1 -1\n",
      "-1 0\n",
      "-1 1\n",
      "0 -1\n",
      "0 0\n",
      "0 1\n",
      "1 -1\n",
      "1 0\n",
      "1 1\n"
     ]
    }
   ],
   "source": [
    "for x, y in itertools.product([-1, 0, 1], repeat=2):\n",
    "    print(x, y)"
   ]
  },
  {
   "cell_type": "code",
   "execution_count": 121,
   "id": "cde0ea6d-6de2-4923-9af0-1ea87cbbd2bd",
   "metadata": {},
   "outputs": [
    {
     "data": {
      "text/plain": [
       "9878811962"
      ]
     },
     "execution_count": 121,
     "metadata": {},
     "output_type": "execute_result"
    }
   ],
   "source": [
    "solve(5, 0)"
   ]
  },
  {
   "cell_type": "code",
   "execution_count": null,
   "id": "b41dad86-1742-4a11-b3d2-fe49fa92c945",
   "metadata": {},
   "outputs": [],
   "source": []
  }
 ],
 "metadata": {
  "kernelspec": {
   "display_name": "Python 3",
   "language": "python",
   "name": "python3"
  },
  "language_info": {
   "codemirror_mode": {
    "name": "ipython",
    "version": 3
   },
   "file_extension": ".py",
   "mimetype": "text/x-python",
   "name": "python",
   "nbconvert_exporter": "python",
   "pygments_lexer": "ipython3",
   "version": "3.6.13"
  }
 },
 "nbformat": 4,
 "nbformat_minor": 5
}
