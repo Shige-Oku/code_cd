{
 "cells": [
  {
   "cell_type": "code",
   "execution_count": 37,
   "id": "6275844c-8c0d-47fa-b396-58989a2ef39e",
   "metadata": {},
   "outputs": [
    {
     "name": "stdin",
     "output_type": "stream",
     "text": [
      " 1 1\n"
     ]
    }
   ],
   "source": [
    "N, K = map(int, input().split())"
   ]
  },
  {
   "cell_type": "code",
   "execution_count": 38,
   "id": "1bea2835-697c-4063-af70-122829b80031",
   "metadata": {},
   "outputs": [
    {
     "name": "stdin",
     "output_type": "stream",
     "text": [
      " 1\n"
     ]
    }
   ],
   "source": [
    "S = input()"
   ]
  },
  {
   "cell_type": "code",
   "execution_count": 39,
   "id": "0e6bee28-b366-4189-81eb-7e2975cc8a43",
   "metadata": {},
   "outputs": [],
   "source": [
    "col = []\n",
    "cnt = []\n",
    "mae = S[0]\n",
    "c = 0\n",
    "for s in S:\n",
    "    if s == mae:\n",
    "        c += 1\n",
    "    else:\n",
    "        col.append(mae)\n",
    "        cnt.append(c)\n",
    "        mae = s\n",
    "        c = 1\n",
    "else:\n",
    "    col.append(mae)\n",
    "    cnt.append(c)\n",
    "    "
   ]
  },
  {
   "cell_type": "code",
   "execution_count": 42,
   "id": "08243168-f4b4-4ab9-8a2d-4c5e9a23f7b2",
   "metadata": {},
   "outputs": [],
   "source": [
    "from itertools import accumulate\n",
    "cnt_c = list(accumulate(cnt))\n",
    "cnt_c.insert(0, 0)\n",
    "ans = 0\n",
    "for i, co in enumerate(col, 1):\n",
    "    if co == '1':\n",
    "        l = i - 1\n",
    "        r = min(len(cnt_c)-1, i+K*2)\n",
    "    else:\n",
    "        l = max(0, i-1)\n",
    "        r = min(len(cnt_c)-1, i+K*2-1)\n",
    "    ans = max(ans, cnt_c[r]-cnt_c[l])\n"
   ]
  },
  {
   "cell_type": "code",
   "execution_count": 43,
   "id": "c014c58f-a212-45bc-8cae-bf822e9525fb",
   "metadata": {},
   "outputs": [
    {
     "name": "stdout",
     "output_type": "stream",
     "text": [
      "1\n"
     ]
    }
   ],
   "source": [
    "print(ans)"
   ]
  },
  {
   "cell_type": "code",
   "execution_count": 36,
   "id": "35ca1e9c-ae09-476d-8f31-081d9e03f636",
   "metadata": {},
   "outputs": [
    {
     "data": {
      "text/plain": [
       "(['0', '1', '0'], [3, 1, 1], [0, 3, 4, 5])"
      ]
     },
     "execution_count": 36,
     "metadata": {},
     "output_type": "execute_result"
    }
   ],
   "source": [
    "col, cnt, cnt_c"
   ]
  },
  {
   "cell_type": "code",
   "execution_count": 26,
   "id": "620409ce-5539-4ec0-9232-6f5c4d09b36d",
   "metadata": {},
   "outputs": [
    {
     "data": {
      "text/plain": [
       "(9, 9)"
      ]
     },
     "execution_count": 26,
     "metadata": {},
     "output_type": "execute_result"
    }
   ],
   "source": [
    "r, l"
   ]
  },
  {
   "cell_type": "code",
   "execution_count": 28,
   "id": "c5797797-a955-434f-b850-c5fa1dec48c9",
   "metadata": {},
   "outputs": [
    {
     "data": {
      "text/plain": [
       "(14, 7)"
      ]
     },
     "execution_count": 28,
     "metadata": {},
     "output_type": "execute_result"
    }
   ],
   "source": [
    "cnt_c[9], cnt_c[5]"
   ]
  },
  {
   "cell_type": "code",
   "execution_count": null,
   "id": "b33310e5-c46b-4d57-b6c9-038e68a48f2d",
   "metadata": {},
   "outputs": [],
   "source": []
  }
 ],
 "metadata": {
  "kernelspec": {
   "display_name": "Python 3",
   "language": "python",
   "name": "python3"
  },
  "language_info": {
   "codemirror_mode": {
    "name": "ipython",
    "version": 3
   },
   "file_extension": ".py",
   "mimetype": "text/x-python",
   "name": "python",
   "nbconvert_exporter": "python",
   "pygments_lexer": "ipython3",
   "version": "3.6.13"
  }
 },
 "nbformat": 4,
 "nbformat_minor": 5
}
