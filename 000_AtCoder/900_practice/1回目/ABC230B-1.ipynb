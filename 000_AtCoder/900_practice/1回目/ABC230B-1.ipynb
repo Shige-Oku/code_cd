{
 "cells": [
  {
   "cell_type": "code",
   "execution_count": 18,
   "id": "7459889c-21c9-4116-946c-494476ca8fd8",
   "metadata": {},
   "outputs": [
    {
     "name": "stdin",
     "output_type": "stream",
     "text": [
      " ox\n"
     ]
    }
   ],
   "source": [
    "S = input()"
   ]
  },
  {
   "cell_type": "code",
   "execution_count": 19,
   "id": "1bfd83b4-ace1-4e0c-b525-40ef75ecf375",
   "metadata": {},
   "outputs": [
    {
     "name": "stdout",
     "output_type": "stream",
     "text": [
      "Yes\n"
     ]
    }
   ],
   "source": [
    "if S in 'oxx' * 30:\n",
    "    print('Yes')\n",
    "else:\n",
    "    print('No')"
   ]
  },
  {
   "cell_type": "code",
   "execution_count": 20,
   "id": "5c33e2e3-63b7-4a6f-b4c8-2d56fd77fe73",
   "metadata": {},
   "outputs": [
    {
     "name": "stdout",
     "output_type": "stream",
     "text": [
      "Yes\n"
     ]
    }
   ],
   "source": [
    "print('Yes' if S in 'oxx' * 30 else 'No')"
   ]
  },
  {
   "cell_type": "code",
   "execution_count": 23,
   "id": "72079417-c7f1-4171-a746-7eb83ba1d2d8",
   "metadata": {},
   "outputs": [
    {
     "name": "stdout",
     "output_type": "stream",
     "text": [
      "Yes\n"
     ]
    }
   ],
   "source": [
    "if len(S) < 3:\n",
    "    if S == 'oo':\n",
    "        print('No')\n",
    "    else:\n",
    "        print('Yes')\n",
    "else:\n",
    "    for i in range(len(S)-2):\n",
    "        if S[i:i+3] not in ('oxx', 'xxo', 'xox'):\n",
    "            print('No')\n",
    "            break\n",
    "    else:\n",
    "        print('Yes')"
   ]
  },
  {
   "cell_type": "code",
   "execution_count": null,
   "id": "863c001b-19cf-45bd-913c-31467d9d8525",
   "metadata": {},
   "outputs": [],
   "source": [
    "# WA"
   ]
  },
  {
   "cell_type": "code",
   "execution_count": 14,
   "id": "020347e4-d54d-4b8d-a9f9-d8132273d757",
   "metadata": {},
   "outputs": [
    {
     "name": "stdout",
     "output_type": "stream",
     "text": [
      "No\n"
     ]
    }
   ],
   "source": [
    "for i, s in enumerate(S):\n",
    "    if i % 3 == 0:\n",
    "        if s != 'o':\n",
    "            print('No')\n",
    "            break\n",
    "    else:\n",
    "        if s != 'x':\n",
    "            print('No')\n",
    "            break\n",
    "else:\n",
    "    print('Yes')"
   ]
  },
  {
   "cell_type": "code",
   "execution_count": null,
   "id": "43bde22a-1ada-440b-8649-32acd3d046f5",
   "metadata": {},
   "outputs": [],
   "source": [
    "oxxoxx"
   ]
  }
 ],
 "metadata": {
  "kernelspec": {
   "display_name": "Python 3",
   "language": "python",
   "name": "python3"
  },
  "language_info": {
   "codemirror_mode": {
    "name": "ipython",
    "version": 3
   },
   "file_extension": ".py",
   "mimetype": "text/x-python",
   "name": "python",
   "nbconvert_exporter": "python",
   "pygments_lexer": "ipython3",
   "version": "3.6.13"
  }
 },
 "nbformat": 4,
 "nbformat_minor": 5
}
