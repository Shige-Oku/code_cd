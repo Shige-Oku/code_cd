{
 "cells": [
  {
   "cell_type": "code",
   "execution_count": 11,
   "id": "539866d3-ae94-434b-a98a-99efd25cd44e",
   "metadata": {},
   "outputs": [
    {
     "name": "stdin",
     "output_type": "stream",
     "text": [
      " 3\n"
     ]
    }
   ],
   "source": [
    "N = int(input())"
   ]
  },
  {
   "cell_type": "code",
   "execution_count": 12,
   "id": "b6cb3a4e-e08e-4cb2-a2f3-f7b9d185724b",
   "metadata": {},
   "outputs": [
    {
     "name": "stdin",
     "output_type": "stream",
     "text": [
      " 21 -11\n"
     ]
    }
   ],
   "source": [
    "T, A = map(int, input().split())"
   ]
  },
  {
   "cell_type": "code",
   "execution_count": 13,
   "id": "fdb19da1-56ae-4555-96c1-54a97b66f0b4",
   "metadata": {},
   "outputs": [
    {
     "name": "stdin",
     "output_type": "stream",
     "text": [
      " 81234 94124 52141\n"
     ]
    }
   ],
   "source": [
    "Hn = list(map(int, input().split()))"
   ]
  },
  {
   "cell_type": "code",
   "execution_count": 18,
   "id": "5ac12eeb-7ec4-4dfa-b88e-0312c9e0887c",
   "metadata": {},
   "outputs": [],
   "source": [
    "sa = 10**10\n",
    "ans = -1\n",
    "for i, H in enumerate(Hn, 1):\n",
    "    c = T - H * 0.006\n",
    "    if sa > abs(A-c):\n",
    "        ans = i\n",
    "        sa = abs(A-c)"
   ]
  },
  {
   "cell_type": "code",
   "execution_count": 19,
   "id": "126e8cb8-0edd-4dfd-9e74-daa6f80a9839",
   "metadata": {},
   "outputs": [
    {
     "name": "stdout",
     "output_type": "stream",
     "text": [
      "3\n"
     ]
    }
   ],
   "source": [
    "print(ans)"
   ]
  },
  {
   "cell_type": "code",
   "execution_count": 25,
   "id": "84f97ab8-87d5-4212-9794-9199195d6294",
   "metadata": {},
   "outputs": [],
   "source": [
    "sa = 10**10\n",
    "ans = -1\n",
    "for i, H in enumerate(Hn, 1):\n",
    "    c = T*1000 - H * 6\n",
    "    if sa > abs(c - A*1000):\n",
    "        sa = abs(c - A*1000)\n",
    "        ans = i\n"
   ]
  },
  {
   "cell_type": "code",
   "execution_count": 26,
   "id": "b5ba9061-0bc2-47cf-bab1-3a1c292e5838",
   "metadata": {},
   "outputs": [
    {
     "name": "stdout",
     "output_type": "stream",
     "text": [
      "3\n"
     ]
    }
   ],
   "source": [
    "print(ans)"
   ]
  },
  {
   "cell_type": "code",
   "execution_count": null,
   "id": "1a2325a8-b455-4d35-93f7-df83a9149508",
   "metadata": {},
   "outputs": [],
   "source": []
  }
 ],
 "metadata": {
  "kernelspec": {
   "display_name": "Python 3",
   "language": "python",
   "name": "python3"
  },
  "language_info": {
   "codemirror_mode": {
    "name": "ipython",
    "version": 3
   },
   "file_extension": ".py",
   "mimetype": "text/x-python",
   "name": "python",
   "nbconvert_exporter": "python",
   "pygments_lexer": "ipython3",
   "version": "3.6.13"
  }
 },
 "nbformat": 4,
 "nbformat_minor": 5
}
