{
 "cells": [
  {
   "cell_type": "code",
   "execution_count": 12,
   "id": "4a9444a8-eeba-42c7-b4f5-a15dbab32d70",
   "metadata": {},
   "outputs": [],
   "source": [
    "import itertools"
   ]
  },
  {
   "cell_type": "code",
   "execution_count": 1,
   "id": "ebae2cf1-76ec-4b49-9667-2a69d37bd51d",
   "metadata": {},
   "outputs": [
    {
     "name": "stdin",
     "output_type": "stream",
     "text": [
      " 2 3\n"
     ]
    }
   ],
   "source": [
    "H, W = map(int, input().split())"
   ]
  },
  {
   "cell_type": "code",
   "execution_count": 2,
   "id": "68a3208f-621c-461f-b38f-db17d1eb7fcd",
   "metadata": {},
   "outputs": [
    {
     "name": "stdin",
     "output_type": "stream",
     "text": [
      " 2 2 3\n",
      " 3 2 2\n"
     ]
    }
   ],
   "source": [
    "AWn = [list(map(int, input().split())) for _ in range(H)]"
   ]
  },
  {
   "cell_type": "code",
   "execution_count": 17,
   "id": "65942ed8-8d37-43bc-bdda-15076e97ccd9",
   "metadata": {},
   "outputs": [
    {
     "name": "stdout",
     "output_type": "stream",
     "text": [
      "2\n"
     ]
    }
   ],
   "source": [
    "AWn_1 = list(itertools.chain.from_iterable(AWn))\n",
    "print(sum(AWn_1) - min(AWn_1)*H*W)"
   ]
  },
  {
   "cell_type": "code",
   "execution_count": 14,
   "id": "4073fc59-cc2e-4b25-a860-922b80fcf8c1",
   "metadata": {},
   "outputs": [
    {
     "data": {
      "text/plain": [
       "14"
      ]
     },
     "execution_count": 14,
     "metadata": {},
     "output_type": "execute_result"
    }
   ],
   "source": [
    "sum(AWn_1)"
   ]
  },
  {
   "cell_type": "code",
   "execution_count": 18,
   "id": "ee0b5435-71b4-40b3-a23a-afa3b21783e3",
   "metadata": {},
   "outputs": [
    {
     "data": {
      "text/plain": [
       "[2, 2, 3, 3, 2, 2]"
      ]
     },
     "execution_count": 18,
     "metadata": {},
     "output_type": "execute_result"
    }
   ],
   "source": [
    "AWn_1"
   ]
  },
  {
   "cell_type": "code",
   "execution_count": 19,
   "id": "a0e611a4-e263-4a93-a749-85f9f9e21b79",
   "metadata": {},
   "outputs": [],
   "source": [
    "import numpy as np"
   ]
  },
  {
   "cell_type": "code",
   "execution_count": 23,
   "id": "ae6e1735-3c0d-47c2-9818-c5a148018951",
   "metadata": {},
   "outputs": [
    {
     "name": "stdout",
     "output_type": "stream",
     "text": [
      "2\n"
     ]
    }
   ],
   "source": [
    "mi = np.min(AWn)\n",
    "sa = AWn - mi\n",
    "print(sa.sum())"
   ]
  },
  {
   "cell_type": "code",
   "execution_count": 21,
   "id": "ecb53f09-c363-4460-80b8-b19f58b579b0",
   "metadata": {},
   "outputs": [
    {
     "data": {
      "text/plain": [
       "array([[0, 0, 1],\n",
       "       [1, 0, 0]])"
      ]
     },
     "execution_count": 21,
     "metadata": {},
     "output_type": "execute_result"
    }
   ],
   "source": [
    "sa"
   ]
  },
  {
   "cell_type": "code",
   "execution_count": null,
   "id": "daf84c73-785b-4021-b8ed-37591df509cd",
   "metadata": {},
   "outputs": [],
   "source": []
  }
 ],
 "metadata": {
  "kernelspec": {
   "display_name": "Python 3",
   "language": "python",
   "name": "python3"
  },
  "language_info": {
   "codemirror_mode": {
    "name": "ipython",
    "version": 3
   },
   "file_extension": ".py",
   "mimetype": "text/x-python",
   "name": "python",
   "nbconvert_exporter": "python",
   "pygments_lexer": "ipython3",
   "version": "3.6.13"
  }
 },
 "nbformat": 4,
 "nbformat_minor": 5
}
