{
 "cells": [
  {
   "cell_type": "code",
   "execution_count": 35,
   "id": "16e6944d-eafe-4c61-b1f1-622edc164215",
   "metadata": {},
   "outputs": [
    {
     "name": "stdin",
     "output_type": "stream",
     "text": [
      " 10 4\n"
     ]
    }
   ],
   "source": [
    "N, M = map(int, input().split())"
   ]
  },
  {
   "cell_type": "code",
   "execution_count": 36,
   "id": "595cd34a-df06-4ee3-8ef1-22c0c8483621",
   "metadata": {},
   "outputs": [
    {
     "name": "stdin",
     "output_type": "stream",
     "text": [
      " -3 1 -4 1 -5 9 -2 6 -5 3\n"
     ]
    }
   ],
   "source": [
    "An = list(map(int, input().split()))"
   ]
  },
  {
   "cell_type": "code",
   "execution_count": 37,
   "id": "fbae5c47-874b-4563-a5b4-7068c49a1f18",
   "metadata": {},
   "outputs": [],
   "source": [
    "from itertools import accumulate\n",
    "An_c = list(accumulate(An))\n",
    "An_c.insert(0, 0)\n",
    "ans = 0\n",
    "for i, A in enumerate(An[:M], 1):\n",
    "    ans += A * i\n",
    "last = ans\n",
    "for i, A in enumerate(An[M:], M+1):\n",
    "    last -= An_c[i-1] - An_c[i-M-1]\n",
    "    last += A * M\n",
    "    ans = max(ans, last)\n"
   ]
  },
  {
   "cell_type": "code",
   "execution_count": 38,
   "id": "80a06492-5196-4740-a36f-8a6dcebcb83f",
   "metadata": {},
   "outputs": [
    {
     "name": "stdout",
     "output_type": "stream",
     "text": [
      "31\n"
     ]
    }
   ],
   "source": [
    "print(ans)"
   ]
  },
  {
   "cell_type": "code",
   "execution_count": 27,
   "id": "3fd7e4a2-6fcf-41db-b391-a2ea3890d95b",
   "metadata": {},
   "outputs": [
    {
     "data": {
      "text/plain": [
       "[0, 5, 9, 8, 16]"
      ]
     },
     "execution_count": 27,
     "metadata": {},
     "output_type": "execute_result"
    }
   ],
   "source": [
    "An_c"
   ]
  },
  {
   "cell_type": "code",
   "execution_count": 13,
   "id": "b7b3ee1a-939c-461b-84d1-32b03682934a",
   "metadata": {},
   "outputs": [
    {
     "data": {
      "text/plain": [
       "5"
      ]
     },
     "execution_count": 13,
     "metadata": {},
     "output_type": "execute_result"
    }
   ],
   "source": [
    "i"
   ]
  },
  {
   "cell_type": "code",
   "execution_count": null,
   "id": "6b383241-ff89-42a8-904e-730758a821be",
   "metadata": {},
   "outputs": [],
   "source": []
  }
 ],
 "metadata": {
  "kernelspec": {
   "display_name": "Python 3",
   "language": "python",
   "name": "python3"
  },
  "language_info": {
   "codemirror_mode": {
    "name": "ipython",
    "version": 3
   },
   "file_extension": ".py",
   "mimetype": "text/x-python",
   "name": "python",
   "nbconvert_exporter": "python",
   "pygments_lexer": "ipython3",
   "version": "3.6.13"
  }
 },
 "nbformat": 4,
 "nbformat_minor": 5
}
