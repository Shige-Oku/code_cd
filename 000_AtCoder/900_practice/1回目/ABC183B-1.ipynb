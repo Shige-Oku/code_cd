{
 "cells": [
  {
   "cell_type": "code",
   "execution_count": 21,
   "id": "3075b221-be85-4c25-ae11-485944e213ea",
   "metadata": {},
   "outputs": [
    {
     "name": "stdin",
     "output_type": "stream",
     "text": [
      " 1 1 7 2\n"
     ]
    }
   ],
   "source": [
    "Sx, Sy, Gx, Gy = map(int, input().split())"
   ]
  },
  {
   "cell_type": "code",
   "execution_count": 24,
   "id": "a05c3e1b-a2c2-4253-b665-1603196ef28e",
   "metadata": {},
   "outputs": [
    {
     "name": "stdout",
     "output_type": "stream",
     "text": [
      "3.0\n"
     ]
    }
   ],
   "source": [
    "a = (abs(Gy)+abs(Sy)) / (Gx - Sx)\n",
    "print(Sx + Sy / a)"
   ]
  },
  {
   "cell_type": "code",
   "execution_count": 25,
   "id": "6e3bcc95-0904-4c32-b650-7eb771f4f8ba",
   "metadata": {},
   "outputs": [
    {
     "data": {
      "text/plain": [
       "2.0"
      ]
     },
     "execution_count": 25,
     "metadata": {},
     "output_type": "execute_result"
    }
   ],
   "source": [
    "(Gx-Sx)/(abs(Sy)+abs(Gy))"
   ]
  },
  {
   "cell_type": "code",
   "execution_count": 26,
   "id": "1fbcf956-626a-43cb-8b8b-57a9fe239234",
   "metadata": {},
   "outputs": [
    {
     "data": {
      "text/plain": [
       "6"
      ]
     },
     "execution_count": 26,
     "metadata": {},
     "output_type": "execute_result"
    }
   ],
   "source": [
    "Gx-Sx"
   ]
  },
  {
   "cell_type": "code",
   "execution_count": 28,
   "id": "e7b25cb4-fcd4-41fb-8189-2d7225f09768",
   "metadata": {},
   "outputs": [
    {
     "name": "stdout",
     "output_type": "stream",
     "text": [
      "3.0\n"
     ]
    }
   ],
   "source": [
    "print((Sx*Gy+Sy*Gx)/(Sy+Gy))"
   ]
  },
  {
   "cell_type": "code",
   "execution_count": null,
   "id": "7394946a-27a9-4d20-889b-e3f68b5b3e4a",
   "metadata": {},
   "outputs": [],
   "source": []
  }
 ],
 "metadata": {
  "kernelspec": {
   "display_name": "Python 3",
   "language": "python",
   "name": "python3"
  },
  "language_info": {
   "codemirror_mode": {
    "name": "ipython",
    "version": 3
   },
   "file_extension": ".py",
   "mimetype": "text/x-python",
   "name": "python",
   "nbconvert_exporter": "python",
   "pygments_lexer": "ipython3",
   "version": "3.6.13"
  }
 },
 "nbformat": 4,
 "nbformat_minor": 5
}
