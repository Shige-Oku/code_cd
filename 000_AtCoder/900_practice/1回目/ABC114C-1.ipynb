{
 "cells": [
  {
   "cell_type": "code",
   "execution_count": 29,
   "id": "decf850d-7eb0-4a84-8cb2-23b7d8af9114",
   "metadata": {},
   "outputs": [
    {
     "name": "stdin",
     "output_type": "stream",
     "text": [
      " 999999999\n"
     ]
    }
   ],
   "source": [
    "N = int(input())"
   ]
  },
  {
   "cell_type": "code",
   "execution_count": 30,
   "id": "71b01689-41e0-47c4-afc8-262ae4ab1396",
   "metadata": {},
   "outputs": [],
   "source": [
    "import sys\n",
    "sys.setrecursionlimit(10**6)\n",
    "def DFS(k, n, f3, f5, f7):\n",
    "    if n > N:\n",
    "        return 0\n",
    "    if k >= len(str(N)):\n",
    "        if f3 and f5 and f7:\n",
    "            return 1\n",
    "        else:\n",
    "            return 0\n",
    "    n *= 10\n",
    "    if f3 and f5 and f7:\n",
    "        ret = 1\n",
    "    else:\n",
    "        ret = 0\n",
    "    ret += DFS(k+1, n+3, True, f5, f7)\n",
    "    ret += DFS(k+1, n+5, f3, True, f7)\n",
    "    ret += DFS(k+1, n+7, f3, f5, True)\n",
    "    return ret"
   ]
  },
  {
   "cell_type": "code",
   "execution_count": 31,
   "id": "c94bfd21-9958-492b-9b5f-8af9f178f14b",
   "metadata": {},
   "outputs": [
    {
     "name": "stdout",
     "output_type": "stream",
     "text": [
      "26484\n"
     ]
    }
   ],
   "source": [
    "print(DFS(0 , 0, False, False, False))"
   ]
  },
  {
   "cell_type": "code",
   "execution_count": 43,
   "id": "6bf19f26-b1ee-4ace-a29b-262fdd2b28e7",
   "metadata": {},
   "outputs": [
    {
     "name": "stdin",
     "output_type": "stream",
     "text": [
      " 999999999\n"
     ]
    }
   ],
   "source": [
    "S = input()"
   ]
  },
  {
   "cell_type": "code",
   "execution_count": 44,
   "id": "eda21929-e005-426a-9a20-198566eaf58b",
   "metadata": {},
   "outputs": [],
   "source": [
    "def DFS2(s):\n",
    "    if int(s) > int(S):\n",
    "        return 0\n",
    "    if all([c in s for c in '357']):\n",
    "        ret = 1\n",
    "    else:\n",
    "        ret = 0\n",
    "    for c in '357':\n",
    "        ret += DFS2(s + c)\n",
    "    return ret"
   ]
  },
  {
   "cell_type": "code",
   "execution_count": 45,
   "id": "b4825412-5c48-4796-9c27-24c1cfcd7653",
   "metadata": {},
   "outputs": [
    {
     "name": "stdout",
     "output_type": "stream",
     "text": [
      "26484\n"
     ]
    }
   ],
   "source": [
    "print(DFS2('0'))"
   ]
  },
  {
   "cell_type": "code",
   "execution_count": null,
   "id": "5046c13a-19ec-4524-99b8-1279efead12e",
   "metadata": {},
   "outputs": [],
   "source": []
  }
 ],
 "metadata": {
  "kernelspec": {
   "display_name": "Python 3",
   "language": "python",
   "name": "python3"
  },
  "language_info": {
   "codemirror_mode": {
    "name": "ipython",
    "version": 3
   },
   "file_extension": ".py",
   "mimetype": "text/x-python",
   "name": "python",
   "nbconvert_exporter": "python",
   "pygments_lexer": "ipython3",
   "version": "3.6.13"
  }
 },
 "nbformat": 4,
 "nbformat_minor": 5
}
