{
 "cells": [
  {
   "cell_type": "code",
   "execution_count": 1,
   "id": "6521eee0-68c1-4100-9beb-9eaa336f0f8b",
   "metadata": {},
   "outputs": [
    {
     "name": "stdin",
     "output_type": "stream",
     "text": [
      " 4 4\n"
     ]
    }
   ],
   "source": [
    "N, M = map(int, input().split())"
   ]
  },
  {
   "cell_type": "code",
   "execution_count": 2,
   "id": "d0abd233-84e3-455b-bd8a-7cc4780ba7e1",
   "metadata": {},
   "outputs": [
    {
     "name": "stdin",
     "output_type": "stream",
     "text": [
      " 1 2\n",
      " 1 3\n",
      " 2 4\n",
      " 3 4\n"
     ]
    }
   ],
   "source": [
    "ABn = [list(map(int, input().split())) for _ in range(M)]"
   ]
  },
  {
   "cell_type": "code",
   "execution_count": 3,
   "id": "5a1d8d74-daea-4555-9f71-1d1ba001d741",
   "metadata": {},
   "outputs": [
    {
     "name": "stdin",
     "output_type": "stream",
     "text": [
      " 3\n"
     ]
    }
   ],
   "source": [
    "K = int(input())"
   ]
  },
  {
   "cell_type": "code",
   "execution_count": 4,
   "id": "8829e3f7-a8cf-4af1-b36b-467f1aded510",
   "metadata": {},
   "outputs": [
    {
     "name": "stdin",
     "output_type": "stream",
     "text": [
      " 1 2\n",
      " 1 3\n",
      " 2 3\n"
     ]
    }
   ],
   "source": [
    "CDn = [list(map(int, input().split())) for _ in range(K)]"
   ]
  },
  {
   "cell_type": "code",
   "execution_count": 7,
   "id": "3f17004d-d60b-4cf5-82f1-d7db63cd8aa6",
   "metadata": {},
   "outputs": [],
   "source": [
    "import itertools"
   ]
  },
  {
   "cell_type": "code",
   "execution_count": 18,
   "id": "14f00141-d135-4ca6-9287-afb8ea087b2b",
   "metadata": {},
   "outputs": [],
   "source": [
    "ans = 0\n",
    "for P in itertools.product([0, 1], repeat=K):\n",
    "    dish = [False] * N\n",
    "    for i, p in enumerate(P):\n",
    "        dish[CDn[i][p]-1] = True\n",
    "    cnt = 0\n",
    "    for A, B in ABn:\n",
    "        if dish[A-1] and dish[B-1]:\n",
    "            cnt += 1\n",
    "    ans = max(ans, cnt)"
   ]
  },
  {
   "cell_type": "code",
   "execution_count": 19,
   "id": "b77a2c20-9783-4125-8be5-fff807c9c09a",
   "metadata": {},
   "outputs": [
    {
     "name": "stdout",
     "output_type": "stream",
     "text": [
      "2\n"
     ]
    }
   ],
   "source": [
    "print(ans)"
   ]
  },
  {
   "cell_type": "code",
   "execution_count": 13,
   "id": "140e0911-ec28-4787-82c9-41958757d1ec",
   "metadata": {},
   "outputs": [
    {
     "data": {
      "text/plain": [
       "(0, 0, 1)"
      ]
     },
     "execution_count": 13,
     "metadata": {},
     "output_type": "execute_result"
    }
   ],
   "source": [
    "i, p, CDn[i][p]"
   ]
  },
  {
   "cell_type": "code",
   "execution_count": 27,
   "id": "717f13cd-62b2-4464-a46d-b2d8bfbe1a64",
   "metadata": {},
   "outputs": [],
   "source": [
    "ans = 0\n",
    "for balls in itertools.product(*CDn):\n",
    "    cnt = sum(A in balls and B in balls for A, B in ABn)\n",
    "    ans = max(ans, cnt)"
   ]
  },
  {
   "cell_type": "code",
   "execution_count": 28,
   "id": "cecea30a-b5a4-4020-93f5-2e6742ce0141",
   "metadata": {},
   "outputs": [
    {
     "name": "stdout",
     "output_type": "stream",
     "text": [
      "2\n"
     ]
    }
   ],
   "source": [
    "print(ans)"
   ]
  },
  {
   "cell_type": "code",
   "execution_count": null,
   "id": "640029a5-1dcc-406d-9279-d6e76e2cca0d",
   "metadata": {},
   "outputs": [],
   "source": []
  }
 ],
 "metadata": {
  "kernelspec": {
   "display_name": "Python 3",
   "language": "python",
   "name": "python3"
  },
  "language_info": {
   "codemirror_mode": {
    "name": "ipython",
    "version": 3
   },
   "file_extension": ".py",
   "mimetype": "text/x-python",
   "name": "python",
   "nbconvert_exporter": "python",
   "pygments_lexer": "ipython3",
   "version": "3.6.13"
  }
 },
 "nbformat": 4,
 "nbformat_minor": 5
}
