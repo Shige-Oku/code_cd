{
 "cells": [
  {
   "cell_type": "code",
   "execution_count": 17,
   "id": "fcb3e7b9-dbd4-4180-a5f7-dbca6dcd5268",
   "metadata": {},
   "outputs": [
    {
     "name": "stdin",
     "output_type": "stream",
     "text": [
      " 3 0\n"
     ]
    }
   ],
   "source": [
    "N, M = map(int, input().split())"
   ]
  },
  {
   "cell_type": "code",
   "execution_count": 18,
   "id": "35dcd57d-3528-4777-86fa-5025eb2abd6c",
   "metadata": {},
   "outputs": [],
   "source": [
    "ABn = [list(map(int, input().split())) for _ in range(M)]"
   ]
  },
  {
   "cell_type": "code",
   "execution_count": 19,
   "id": "d2710804-d8ce-4046-8a93-e09e5646328f",
   "metadata": {},
   "outputs": [],
   "source": [
    "graph = [[] for _ in range(N+1)]\n",
    "for A, B in ABn:\n",
    "    graph[A].append(B)"
   ]
  },
  {
   "cell_type": "code",
   "execution_count": 20,
   "id": "d5d15448-ee80-4e01-844b-429844d8a273",
   "metadata": {},
   "outputs": [],
   "source": [
    "from collections import deque \n",
    "def solve(s):\n",
    "    visit = [False] * (N+1)\n",
    "    q = deque()\n",
    "    q.append(s)\n",
    "    visit[s] = True\n",
    "    while q:\n",
    "        p = q.popleft()\n",
    "        for g in graph[p]:\n",
    "            if visit[g]:\n",
    "                continue\n",
    "            q.append(g)\n",
    "            visit[g] = True\n",
    "    \n",
    "    return sum(visit)"
   ]
  },
  {
   "cell_type": "code",
   "execution_count": 21,
   "id": "36ddb582-6a63-4575-a1a0-4f677105a143",
   "metadata": {},
   "outputs": [],
   "source": [
    "ans = 0\n",
    "for i in range(1, N+1):\n",
    "    ans += solve(i)"
   ]
  },
  {
   "cell_type": "code",
   "execution_count": 22,
   "id": "3c8acb46-31d6-436b-8f11-d36de1556b22",
   "metadata": {},
   "outputs": [
    {
     "name": "stdout",
     "output_type": "stream",
     "text": [
      "3\n"
     ]
    }
   ],
   "source": [
    "print(ans)"
   ]
  },
  {
   "cell_type": "code",
   "execution_count": null,
   "id": "3c67a880-1803-4eb8-a2d5-e3566bdeba4b",
   "metadata": {},
   "outputs": [],
   "source": []
  }
 ],
 "metadata": {
  "kernelspec": {
   "display_name": "Python 3",
   "language": "python",
   "name": "python3"
  },
  "language_info": {
   "codemirror_mode": {
    "name": "ipython",
    "version": 3
   },
   "file_extension": ".py",
   "mimetype": "text/x-python",
   "name": "python",
   "nbconvert_exporter": "python",
   "pygments_lexer": "ipython3",
   "version": "3.6.13"
  }
 },
 "nbformat": 4,
 "nbformat_minor": 5
}
