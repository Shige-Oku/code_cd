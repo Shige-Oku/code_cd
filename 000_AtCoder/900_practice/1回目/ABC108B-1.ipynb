{
 "cells": [
  {
   "cell_type": "code",
   "execution_count": 9,
   "id": "f7c64ff8-75be-499e-b64b-a4de7a1e9673",
   "metadata": {},
   "outputs": [
    {
     "name": "stdin",
     "output_type": "stream",
     "text": [
      " 2 3 6 6\n"
     ]
    }
   ],
   "source": [
    "X1, Y1, X2, Y2 = map(int, input().split())"
   ]
  },
  {
   "cell_type": "code",
   "execution_count": 12,
   "id": "9cf8ce69-c415-4c5e-8242-9972135db6f6",
   "metadata": {},
   "outputs": [
    {
     "name": "stdout",
     "output_type": "stream",
     "text": [
      "3 10 -1 7\n"
     ]
    }
   ],
   "source": [
    "x = X2-X1\n",
    "y = Y2-Y1\n",
    "print(X2-y, Y2+x, X1-y, Y1+x)"
   ]
  },
  {
   "cell_type": "code",
   "execution_count": 10,
   "id": "d5be7cf0-9f49-494d-b3b0-8972cda16bed",
   "metadata": {},
   "outputs": [
    {
     "name": "stdout",
     "output_type": "stream",
     "text": [
      "6 7 2 10\n"
     ]
    }
   ],
   "source": [
    "if X1 == X2:\n",
    "    sa = abs(Y1 - Y2)\n",
    "    if Y1 > Y2:\n",
    "        print(X1+sa, Y2, X1+sa, Y1)\n",
    "    else:\n",
    "        print(X1-sa, Y2, X1-sa, Y1)\n",
    "else:\n",
    "    sa = abs(X1 - X2)\n",
    "    if X1 > X2:\n",
    "        print(X2, Y1-sa, X1, Y1+sa)\n",
    "    else:\n",
    "        print(X2, Y1+sa, X1, Y2+sa)\n",
    "    "
   ]
  },
  {
   "cell_type": "code",
   "execution_count": null,
   "id": "26c62433-f985-4648-952e-1c6c58c7075b",
   "metadata": {},
   "outputs": [],
   "source": []
  }
 ],
 "metadata": {
  "kernelspec": {
   "display_name": "Python 3",
   "language": "python",
   "name": "python3"
  },
  "language_info": {
   "codemirror_mode": {
    "name": "ipython",
    "version": 3
   },
   "file_extension": ".py",
   "mimetype": "text/x-python",
   "name": "python",
   "nbconvert_exporter": "python",
   "pygments_lexer": "ipython3",
   "version": "3.6.13"
  }
 },
 "nbformat": 4,
 "nbformat_minor": 5
}
