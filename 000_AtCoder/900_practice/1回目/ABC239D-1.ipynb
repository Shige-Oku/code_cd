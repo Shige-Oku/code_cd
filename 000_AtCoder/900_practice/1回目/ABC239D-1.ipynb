{
 "cells": [
  {
   "cell_type": "code",
   "execution_count": 13,
   "id": "5581604b-2744-4893-a195-261871118332",
   "metadata": {},
   "outputs": [
    {
     "name": "stdin",
     "output_type": "stream",
     "text": [
      " 3 14 1 5\n"
     ]
    }
   ],
   "source": [
    "A, B, C, D = map(int, input().split())"
   ]
  },
  {
   "cell_type": "code",
   "execution_count": 14,
   "id": "60592431-ea52-4876-9e33-0fc51fc4e680",
   "metadata": {},
   "outputs": [],
   "source": [
    "# 素数のリスト作成\n",
    "import numpy as np\n",
    "def get_prime_list(number):\n",
    "    is_prime = np.ones(number+1, dtype=bool)\n",
    "    is_prime[:2] = False\n",
    "    num_sqrt = np.sqrt(number)\n",
    "    for i in range(2, int(num_sqrt)+1):\n",
    "        if (is_prime[i]):\n",
    "            is_prime[i*2::i] = False\n",
    "    prime_list = np.arange(number+1)[is_prime]\n",
    "    return prime_list"
   ]
  },
  {
   "cell_type": "code",
   "execution_count": 15,
   "id": "d7327d9f-9e10-462a-9888-3739ee121d5d",
   "metadata": {},
   "outputs": [],
   "source": [
    "primes = get_prime_list(201)\n",
    "flg = False\n",
    "for t in range(A, B+1):\n",
    "    for a in range(C, D+1):\n",
    "        if t+a in primes:\n",
    "            break\n",
    "    else:\n",
    "        flg = True"
   ]
  },
  {
   "cell_type": "code",
   "execution_count": 16,
   "id": "39348f2d-6971-4034-be17-b56006f71bc6",
   "metadata": {},
   "outputs": [
    {
     "name": "stdout",
     "output_type": "stream",
     "text": [
      "Aoki\n"
     ]
    }
   ],
   "source": [
    "print('Takahashi' if flg else'Aoki')"
   ]
  },
  {
   "cell_type": "code",
   "execution_count": 6,
   "id": "9f07e92e-f937-4e44-a754-48877e76154f",
   "metadata": {},
   "outputs": [
    {
     "data": {
      "text/plain": [
       "array([  2,   3,   5,   7,  11,  13,  17,  19,  23,  29,  31,  37,  41,\n",
       "        43,  47,  53,  59,  61,  67,  71,  73,  79,  83,  89,  97, 101,\n",
       "       103, 107, 109, 113, 127, 131, 137, 139, 149, 151, 157, 163, 167,\n",
       "       173, 179, 181, 191, 193, 197, 199])"
      ]
     },
     "execution_count": 6,
     "metadata": {},
     "output_type": "execute_result"
    }
   ],
   "source": [
    "primes"
   ]
  },
  {
   "cell_type": "code",
   "execution_count": null,
   "id": "dab5f78a-f2d3-42c1-bd5e-b98ecc06427f",
   "metadata": {},
   "outputs": [],
   "source": []
  }
 ],
 "metadata": {
  "kernelspec": {
   "display_name": "Python 3",
   "language": "python",
   "name": "python3"
  },
  "language_info": {
   "codemirror_mode": {
    "name": "ipython",
    "version": 3
   },
   "file_extension": ".py",
   "mimetype": "text/x-python",
   "name": "python",
   "nbconvert_exporter": "python",
   "pygments_lexer": "ipython3",
   "version": "3.6.13"
  }
 },
 "nbformat": 4,
 "nbformat_minor": 5
}
