{
 "cells": [
  {
   "cell_type": "code",
   "execution_count": 4,
   "id": "0e74a37b-fdf2-46e0-a027-d56e162e3561",
   "metadata": {},
   "outputs": [
    {
     "name": "stdin",
     "output_type": "stream",
     "text": [
      " 100 100 1 100\n"
     ]
    }
   ],
   "source": [
    "A1, A2, A3, A4 = map(int, input().split())"
   ]
  },
  {
   "cell_type": "code",
   "execution_count": 5,
   "id": "fc344738-088e-4064-8841-2baf084a03d9",
   "metadata": {},
   "outputs": [
    {
     "name": "stdout",
     "output_type": "stream",
     "text": [
      "1\n"
     ]
    }
   ],
   "source": [
    "print(min(A1, A2, A3, A4))"
   ]
  },
  {
   "cell_type": "code",
   "execution_count": null,
   "id": "56f8c24d-56c9-45ac-ad32-30a5d23b082a",
   "metadata": {},
   "outputs": [],
   "source": []
  }
 ],
 "metadata": {
  "kernelspec": {
   "display_name": "Python 3",
   "language": "python",
   "name": "python3"
  },
  "language_info": {
   "codemirror_mode": {
    "name": "ipython",
    "version": 3
   },
   "file_extension": ".py",
   "mimetype": "text/x-python",
   "name": "python",
   "nbconvert_exporter": "python",
   "pygments_lexer": "ipython3",
   "version": "3.6.13"
  }
 },
 "nbformat": 4,
 "nbformat_minor": 5
}
