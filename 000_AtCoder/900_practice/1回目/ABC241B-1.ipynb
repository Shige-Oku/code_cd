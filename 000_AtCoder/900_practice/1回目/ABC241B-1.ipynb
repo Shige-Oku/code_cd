{
 "cells": [
  {
   "cell_type": "code",
   "execution_count": 35,
   "id": "ee9be2c5-7f0b-42d5-9aed-3a7a0bf6bc9f",
   "metadata": {},
   "outputs": [
    {
     "name": "stdin",
     "output_type": "stream",
     "text": [
      " 5 2\n"
     ]
    }
   ],
   "source": [
    "N, M = map(int, input().split())"
   ]
  },
  {
   "cell_type": "code",
   "execution_count": 36,
   "id": "e5ea0c31-fe57-48eb-b91b-770905d21d1a",
   "metadata": {},
   "outputs": [
    {
     "name": "stdin",
     "output_type": "stream",
     "text": [
      " 1 2 3 4 5\n"
     ]
    }
   ],
   "source": [
    "An = list(map(int, input().split()))"
   ]
  },
  {
   "cell_type": "code",
   "execution_count": 37,
   "id": "e79d82d5-a5b3-4a1c-9fa3-2ce6daba3b8a",
   "metadata": {},
   "outputs": [
    {
     "name": "stdin",
     "output_type": "stream",
     "text": [
      " 5 5\n"
     ]
    }
   ],
   "source": [
    "Bn = list(map(int, input().split()))"
   ]
  },
  {
   "cell_type": "code",
   "execution_count": 15,
   "id": "6b6a6d6f-d0f2-4ab5-89c6-24b25d36092b",
   "metadata": {},
   "outputs": [
    {
     "name": "stdout",
     "output_type": "stream",
     "text": [
      "No\n"
     ]
    }
   ],
   "source": [
    "for B in Bn:\n",
    "    if B not in An:\n",
    "        print('No')\n",
    "        break\n",
    "    del An[An.index(B)]\n",
    "else:\n",
    "    print('Yes')"
   ]
  },
  {
   "cell_type": "code",
   "execution_count": 6,
   "id": "f1099972-fa93-43fe-a81b-7d2668b7ac8c",
   "metadata": {},
   "outputs": [
    {
     "data": {
      "text/plain": [
       "[1]"
      ]
     },
     "execution_count": 6,
     "metadata": {},
     "output_type": "execute_result"
    }
   ],
   "source": [
    "An"
   ]
  },
  {
   "cell_type": "code",
   "execution_count": 38,
   "id": "7cd7029c-5f72-45b8-985d-f01a66cec13f",
   "metadata": {},
   "outputs": [
    {
     "name": "stdout",
     "output_type": "stream",
     "text": [
      "No\n"
     ]
    }
   ],
   "source": [
    "from collections import defaultdict\n",
    "di = defaultdict(int)\n",
    "for A in An:\n",
    "    di[A] += 1\n",
    "for B in Bn:\n",
    "    if di[B] < 1:\n",
    "        print('No')\n",
    "        break\n",
    "    di[B] -= 1\n",
    "else:\n",
    "    print('Yes')"
   ]
  },
  {
   "cell_type": "code",
   "execution_count": 39,
   "id": "60baee40-4d65-4f6a-b4d8-7f947ce06bb4",
   "metadata": {},
   "outputs": [
    {
     "data": {
      "text/plain": [
       "defaultdict(int, {1: 1, 2: 1, 3: 1, 4: 1, 5: 0})"
      ]
     },
     "execution_count": 39,
     "metadata": {},
     "output_type": "execute_result"
    }
   ],
   "source": [
    "di"
   ]
  },
  {
   "cell_type": "code",
   "execution_count": 40,
   "id": "3a2593ed-42f7-483a-9476-795eb7dd6000",
   "metadata": {},
   "outputs": [],
   "source": [
    "# 解説を読んで実装"
   ]
  },
  {
   "cell_type": "code",
   "execution_count": 41,
   "id": "fc5a1f95-0f16-4160-90ba-301fee8c24ff",
   "metadata": {},
   "outputs": [
    {
     "name": "stdout",
     "output_type": "stream",
     "text": [
      "No\n"
     ]
    }
   ],
   "source": [
    "from collections import Counter\n",
    "An_c = Counter(An)\n",
    "Bn_c = Counter(Bn)\n",
    "print('No' if Bn_c - An_c else 'Yes')"
   ]
  },
  {
   "cell_type": "code",
   "execution_count": 31,
   "id": "112e379d-c936-4d55-85f3-73d9f3fe10f0",
   "metadata": {},
   "outputs": [
    {
     "data": {
      "text/plain": [
       "Counter()"
      ]
     },
     "execution_count": 31,
     "metadata": {},
     "output_type": "execute_result"
    }
   ],
   "source": [
    "Bn_c - An_c"
   ]
  },
  {
   "cell_type": "code",
   "execution_count": null,
   "id": "22945c59-4831-4341-b79b-eb49071d5aa6",
   "metadata": {},
   "outputs": [],
   "source": []
  }
 ],
 "metadata": {
  "kernelspec": {
   "display_name": "Python 3",
   "language": "python",
   "name": "python3"
  },
  "language_info": {
   "codemirror_mode": {
    "name": "ipython",
    "version": 3
   },
   "file_extension": ".py",
   "mimetype": "text/x-python",
   "name": "python",
   "nbconvert_exporter": "python",
   "pygments_lexer": "ipython3",
   "version": "3.6.13"
  }
 },
 "nbformat": 4,
 "nbformat_minor": 5
}
