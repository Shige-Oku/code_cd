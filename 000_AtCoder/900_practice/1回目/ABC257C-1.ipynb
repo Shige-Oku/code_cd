{
 "cells": [
  {
   "cell_type": "code",
   "execution_count": 1,
   "id": "cada23f8-7757-4ea6-ad02-974c0f498cc2",
   "metadata": {},
   "outputs": [
    {
     "name": "stdin",
     "output_type": "stream",
     "text": [
      " 5\n"
     ]
    }
   ],
   "source": [
    "N = int(input())"
   ]
  },
  {
   "cell_type": "code",
   "execution_count": 2,
   "id": "68b85873-def5-49e6-837a-1164eabb0b78",
   "metadata": {},
   "outputs": [
    {
     "name": "stdin",
     "output_type": "stream",
     "text": [
      " 10101\n"
     ]
    }
   ],
   "source": [
    "S = input()"
   ]
  },
  {
   "cell_type": "code",
   "execution_count": 3,
   "id": "0f525c66-b7eb-438c-ba94-441e4aa099b7",
   "metadata": {},
   "outputs": [
    {
     "name": "stdin",
     "output_type": "stream",
     "text": [
      " 60 45 30 40 80\n"
     ]
    }
   ],
   "source": [
    "Wn = list(map(int, input().split()))"
   ]
  },
  {
   "cell_type": "code",
   "execution_count": 4,
   "id": "6d3f1e83-38e9-4e33-b2e2-0f2c3db9fd9a",
   "metadata": {},
   "outputs": [],
   "source": [
    "ch, ad = [], []\n",
    "for s, W in zip(S, Wn):\n",
    "    if s == '0':\n",
    "        ch.append(W)\n",
    "    else:\n",
    "        ad.append(W)\n",
    "ch.sort()\n",
    "ad.sort()"
   ]
  },
  {
   "cell_type": "code",
   "execution_count": 5,
   "id": "9b35700d-9ab4-4214-8dc5-3707b60ed6b8",
   "metadata": {},
   "outputs": [],
   "source": [
    "from bisect import bisect_left\n",
    "ans = 0\n",
    "for s, W in zip(S, Wn):\n",
    "    if s == '0':\n",
    "        key = W + 1\n",
    "    else:\n",
    "        key = W\n",
    "    c = 0\n",
    "    idx = bisect_left(ch, key)\n",
    "    c += idx\n",
    "    idx = bisect_left(ad, key)\n",
    "    c += len(ad) - idx\n",
    "    ans = max(ans, c)"
   ]
  },
  {
   "cell_type": "code",
   "execution_count": 6,
   "id": "f40913ec-956d-4951-8c75-4a6ec4154c06",
   "metadata": {},
   "outputs": [
    {
     "name": "stdout",
     "output_type": "stream",
     "text": [
      "4\n"
     ]
    }
   ],
   "source": [
    "print(ans)"
   ]
  },
  {
   "cell_type": "code",
   "execution_count": 7,
   "id": "85d44f03-8ad0-403d-820b-276b9696b575",
   "metadata": {},
   "outputs": [],
   "source": [
    "# ch, ad"
   ]
  },
  {
   "cell_type": "code",
   "execution_count": null,
   "id": "88aca029-e299-409d-96da-c73b1c2a332b",
   "metadata": {},
   "outputs": [],
   "source": [
    "# WA"
   ]
  },
  {
   "cell_type": "code",
   "execution_count": 8,
   "id": "371fd49e-b554-4435-bd5b-2938d8c8e68f",
   "metadata": {},
   "outputs": [],
   "source": [
    "WSn = []\n",
    "for w, s in zip(Wn, S):\n",
    "    WSn.append((w, s))\n",
    "WSn.sort()\n",
    "ans = S.count('1')\n",
    "c = ans\n",
    "mae = -1\n",
    "for w, s in WSn:\n",
    "    if s == '0':\n",
    "        c += 1\n",
    "    else:\n",
    "        c -= 1\n",
    "    if w == mae:\n",
    "        continue\n",
    "    ans = max(ans, c)\n",
    "    mae = w\n",
    "else:\n",
    "    if w != mae:\n",
    "        ans = max(ans, c)"
   ]
  },
  {
   "cell_type": "code",
   "execution_count": 9,
   "id": "1a1b4b6d-c4e2-45f6-a529-ab2bc4ee93f7",
   "metadata": {},
   "outputs": [
    {
     "name": "stdout",
     "output_type": "stream",
     "text": [
      "4\n"
     ]
    }
   ],
   "source": [
    "print(ans)"
   ]
  },
  {
   "cell_type": "code",
   "execution_count": 10,
   "id": "670e2c1f-44fb-47a0-bb3b-1bf4dd90e4e8",
   "metadata": {},
   "outputs": [
    {
     "data": {
      "text/plain": [
       "3"
      ]
     },
     "execution_count": 10,
     "metadata": {},
     "output_type": "execute_result"
    }
   ],
   "source": [
    "S.count('1')"
   ]
  },
  {
   "cell_type": "code",
   "execution_count": 36,
   "id": "f6e24981-1971-4b78-bdc7-018fa7c7750c",
   "metadata": {},
   "outputs": [
    {
     "data": {
      "text/plain": [
       "[(60, '1'), (50, '0'), (50, '1'), (50, '0'), (60, '1')]"
      ]
     },
     "execution_count": 36,
     "metadata": {},
     "output_type": "execute_result"
    }
   ],
   "source": [
    "WSn"
   ]
  },
  {
   "cell_type": "code",
   "execution_count": null,
   "id": "8cc1ba4c-19d6-4d2d-905c-9bd6852ae3c5",
   "metadata": {},
   "outputs": [],
   "source": []
  }
 ],
 "metadata": {
  "kernelspec": {
   "display_name": "Python 3",
   "language": "python",
   "name": "python3"
  },
  "language_info": {
   "codemirror_mode": {
    "name": "ipython",
    "version": 3
   },
   "file_extension": ".py",
   "mimetype": "text/x-python",
   "name": "python",
   "nbconvert_exporter": "python",
   "pygments_lexer": "ipython3",
   "version": "3.6.13"
  }
 },
 "nbformat": 4,
 "nbformat_minor": 5
}
