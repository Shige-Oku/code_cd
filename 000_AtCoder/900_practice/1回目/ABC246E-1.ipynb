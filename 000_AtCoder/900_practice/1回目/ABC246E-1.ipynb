{
 "cells": [
  {
   "cell_type": "code",
   "execution_count": 1,
   "id": "fef37cc8-b2c2-47b9-95e8-fa35d1fc0403",
   "metadata": {},
   "outputs": [
    {
     "name": "stdin",
     "output_type": "stream",
     "text": [
      " 5\n"
     ]
    }
   ],
   "source": [
    "N = int(input())"
   ]
  },
  {
   "cell_type": "code",
   "execution_count": 2,
   "id": "817f633c-f257-4ce1-88b8-e74fbaa2da3f",
   "metadata": {},
   "outputs": [
    {
     "name": "stdin",
     "output_type": "stream",
     "text": [
      " 1 3\n"
     ]
    }
   ],
   "source": [
    "Ax, Ay = map(int, input().split())"
   ]
  },
  {
   "cell_type": "code",
   "execution_count": 3,
   "id": "e0da66c1-36b4-43c1-a3e0-78b5bfed3558",
   "metadata": {},
   "outputs": [
    {
     "name": "stdin",
     "output_type": "stream",
     "text": [
      " 3 5\n"
     ]
    }
   ],
   "source": [
    "Bx, By = map(int, input().split())"
   ]
  },
  {
   "cell_type": "code",
   "execution_count": 4,
   "id": "4bf1ce59-210e-4e38-b447-d8a5c2ce5d41",
   "metadata": {},
   "outputs": [
    {
     "name": "stdin",
     "output_type": "stream",
     "text": [
      " ....#\n",
      " ...#.\n",
      " .....\n",
      " .#...\n",
      " #....\n"
     ]
    }
   ],
   "source": [
    "Sn = ['#' + input() + '#' for _ in range(N)]"
   ]
  },
  {
   "cell_type": "code",
   "execution_count": 6,
   "id": "b05a225e-eaa8-457e-9dd2-cb5683e9cbf7",
   "metadata": {},
   "outputs": [],
   "source": [
    "Sn.insert(0, '#'*(N+2))\n",
    "Sn.append('#'*(N+2))"
   ]
  },
  {
   "cell_type": "code",
   "execution_count": 30,
   "id": "1cc92424-bb16-450d-bd83-49016b9601d6",
   "metadata": {},
   "outputs": [],
   "source": [
    "from collections import deque\n",
    "def solve():\n",
    "    cnt = [[-1] * (N+1) for _ in range(N+1)]\n",
    "    cnt[Ax][Ay] = 0\n",
    "    q = deque()\n",
    "    q.append((Ax, Ay))\n",
    "    visit = set()\n",
    "    while q:\n",
    "        x, y = q.popleft()\n",
    "        for i in range(1, N+1):\n",
    "            xx, yy, op = x+i, y+i, 1\n",
    "            if Sn[xx][yy] == '#':\n",
    "                break\n",
    "            if (xx, yy, op) in visit:\n",
    "                break\n",
    "            visit.add((xx, yy, op))\n",
    "            if cnt[xx][yy] != -1:\n",
    "                continue\n",
    "            q.append((xx, yy))\n",
    "            cnt[xx][yy] = cnt[x][y] + 1\n",
    "        for i in range(1, N+1):\n",
    "            xx, yy, op = x+i, y-i, 2\n",
    "            if Sn[xx][yy] == '#':\n",
    "                break\n",
    "            if (xx, yy, op) in visit:\n",
    "                break\n",
    "            visit.add((xx, yy, op))\n",
    "            if cnt[xx][yy] != -1:\n",
    "                continue\n",
    "            q.append((xx, yy))\n",
    "            cnt[xx][yy] = cnt[x][y] + 1\n",
    "        for i in range(1, N+1):\n",
    "            xx, yy, op = x-i, y+i, 3\n",
    "            if Sn[xx][yy] == '#':\n",
    "                break\n",
    "            if (xx, yy, op) in visit:\n",
    "                break\n",
    "            visit.add((xx, yy, op))\n",
    "            if cnt[xx][yy] != -1:\n",
    "                continue\n",
    "            q.append((xx, yy))\n",
    "            cnt[xx][yy] = cnt[x][y] + 1\n",
    "        for i in range(1, N+1):\n",
    "            xx, yy, op = x-i, y-i, 4\n",
    "            if Sn[xx][yy] == '#':\n",
    "                break\n",
    "            if (xx, yy, op) in visit:\n",
    "                break\n",
    "            visit.add((xx, yy, op))\n",
    "            if cnt[xx][yy] != -1:\n",
    "                continue\n",
    "            q.append((xx, yy))\n",
    "            cnt[xx][yy] = cnt[x][y] + 1\n",
    "    return cnt[Bx][By]\n"
   ]
  },
  {
   "cell_type": "code",
   "execution_count": 31,
   "id": "8a1a9fc9-d7ec-4974-b007-a66868bbf270",
   "metadata": {},
   "outputs": [
    {
     "name": "stdout",
     "output_type": "stream",
     "text": [
      "3\n"
     ]
    }
   ],
   "source": [
    "print(solve())"
   ]
  },
  {
   "cell_type": "code",
   "execution_count": null,
   "id": "3e7ac6dd-0c61-4269-ad94-6f01a7138250",
   "metadata": {},
   "outputs": [],
   "source": [
    "# TLE"
   ]
  },
  {
   "cell_type": "code",
   "execution_count": 32,
   "id": "c227d8a2-53b9-4f93-93bb-ca1435477476",
   "metadata": {},
   "outputs": [],
   "source": [
    "import heapq\n",
    "def solve():\n",
    "    cnt = [[-1] * (N+1) for _ in range(N+1)]\n",
    "    cnt[Ax][Ay] = 0\n",
    "    q = []\n",
    "    heapq.heappush(q, (0, Ax, Ay))\n",
    "    visit = set()\n",
    "    while q:\n",
    "        c, x, y = heapq.heappop(q)\n",
    "        if cnt[x][y] > c:\n",
    "            cnt[x][y] = c\n",
    "        for i in range(1, N+1):\n",
    "            xx, yy = x + i, y + i\n",
    "            if Sn[xx][yy] == '#':\n",
    "                break\n",
    "            if (xx, yy, 1) in visit:\n",
    "                break\n",
    "            visit.add((xx, yy, 1))\n",
    "            if cnt[xx][yy] != -1:\n",
    "                continue\n",
    "            heapq.heappush(q, (c+1, xx, yy))\n",
    "            cnt[xx][yy] = c+1\n",
    "        for i in range(1, N+1):\n",
    "            xx, yy = x + i, y - i\n",
    "            if Sn[xx][yy] == '#':\n",
    "                break\n",
    "            if (xx, yy, 2) in visit:\n",
    "                break\n",
    "            visit.add((xx, yy, 1))\n",
    "            if cnt[xx][yy] != -1:\n",
    "                continue\n",
    "            heapq.heappush(q, (c+1, xx, yy))\n",
    "            cnt[xx][yy] = c+1\n",
    "            visit.add((xx, yy, 2))\n",
    "        for i in range(1, N+1):\n",
    "            xx, yy = x - i, y - i\n",
    "            if Sn[xx][yy] == '#':\n",
    "                break\n",
    "            if (xx, yy, 3) in visit:\n",
    "                break\n",
    "            visit.add((xx, yy, 1))\n",
    "            if cnt[xx][yy] != -1:\n",
    "                continue\n",
    "            heapq.heappush(q, (c+1, xx, yy))\n",
    "            cnt[xx][yy] = c+1\n",
    "        for i in range(1, N+1):\n",
    "            xx, yy = x - i, y + i\n",
    "            if Sn[xx][yy] == '#':\n",
    "                break\n",
    "            if (xx, yy, 4) in visit:\n",
    "                break\n",
    "            visit.add((xx, yy, 1))\n",
    "            if cnt[xx][yy] != -1:\n",
    "                continue\n",
    "            heapq.heappush(q, (c+1, xx, yy))\n",
    "            cnt[xx][yy] = c+1\n",
    "\n",
    "    return cnt[Bx][By]"
   ]
  },
  {
   "cell_type": "code",
   "execution_count": 33,
   "id": "82bf1e09-0a40-4030-97dc-03ab8d83f227",
   "metadata": {},
   "outputs": [
    {
     "name": "stdout",
     "output_type": "stream",
     "text": [
      "3\n"
     ]
    }
   ],
   "source": [
    "if (Ax + Ay) % 2 == (Bx + By) % 2:\n",
    "    print(solve())\n",
    "else:\n",
    "    print(-1)"
   ]
  },
  {
   "cell_type": "code",
   "execution_count": null,
   "id": "7317ef61-d9da-46c9-b0ff-7da80a93548d",
   "metadata": {},
   "outputs": [],
   "source": []
  }
 ],
 "metadata": {
  "kernelspec": {
   "display_name": "Python 3",
   "language": "python",
   "name": "python3"
  },
  "language_info": {
   "codemirror_mode": {
    "name": "ipython",
    "version": 3
   },
   "file_extension": ".py",
   "mimetype": "text/x-python",
   "name": "python",
   "nbconvert_exporter": "python",
   "pygments_lexer": "ipython3",
   "version": "3.6.13"
  }
 },
 "nbformat": 4,
 "nbformat_minor": 5
}
