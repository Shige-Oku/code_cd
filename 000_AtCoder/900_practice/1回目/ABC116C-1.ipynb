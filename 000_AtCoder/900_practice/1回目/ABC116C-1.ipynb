{
 "cells": [
  {
   "cell_type": "code",
   "execution_count": 10,
   "id": "a456b77c-c236-48fc-965d-0a24f2e81fb2",
   "metadata": {},
   "outputs": [
    {
     "name": "stdin",
     "output_type": "stream",
     "text": [
      " 8\n"
     ]
    }
   ],
   "source": [
    "N = int(input())"
   ]
  },
  {
   "cell_type": "code",
   "execution_count": 11,
   "id": "3e760ef0-703a-48eb-97ac-ffe551cd6e8b",
   "metadata": {},
   "outputs": [
    {
     "name": "stdin",
     "output_type": "stream",
     "text": [
      " 4 23 75 0 23 96 50 100\n"
     ]
    }
   ],
   "source": [
    "Hn = list(map(int, input().split()))"
   ]
  },
  {
   "cell_type": "code",
   "execution_count": 12,
   "id": "018646ec-6c48-4800-914a-203a224c5c14",
   "metadata": {},
   "outputs": [],
   "source": [
    "ans = 0\n",
    "mae = 0\n",
    "for H in Hn:\n",
    "    if H > mae:\n",
    "        ans += H - mae\n",
    "    mae = H"
   ]
  },
  {
   "cell_type": "code",
   "execution_count": 13,
   "id": "bc856548-3f9c-4293-86fc-9cf7375cba56",
   "metadata": {},
   "outputs": [
    {
     "name": "stdout",
     "output_type": "stream",
     "text": [
      "221\n"
     ]
    }
   ],
   "source": [
    "print(ans)"
   ]
  },
  {
   "cell_type": "code",
   "execution_count": 14,
   "id": "b9f9d37d-1ec6-48cd-924e-8a524b525fc4",
   "metadata": {},
   "outputs": [],
   "source": [
    "w = []\n",
    "mae = 0\n",
    "for H in Hn:\n",
    "    if H > mae:\n",
    "        w.append(H-mae)\n",
    "    mae = H"
   ]
  },
  {
   "cell_type": "code",
   "execution_count": 15,
   "id": "1cb5dab2-f17d-4332-95fc-07b77b0b891b",
   "metadata": {},
   "outputs": [
    {
     "name": "stdout",
     "output_type": "stream",
     "text": [
      "221\n"
     ]
    }
   ],
   "source": [
    "print(sum(w))"
   ]
  },
  {
   "cell_type": "code",
   "execution_count": null,
   "id": "37bb09b8-ca4e-46aa-ae5e-2fdf5d498d4e",
   "metadata": {},
   "outputs": [],
   "source": []
  }
 ],
 "metadata": {
  "kernelspec": {
   "display_name": "Python 3",
   "language": "python",
   "name": "python3"
  },
  "language_info": {
   "codemirror_mode": {
    "name": "ipython",
    "version": 3
   },
   "file_extension": ".py",
   "mimetype": "text/x-python",
   "name": "python",
   "nbconvert_exporter": "python",
   "pygments_lexer": "ipython3",
   "version": "3.6.13"
  }
 },
 "nbformat": 4,
 "nbformat_minor": 5
}
