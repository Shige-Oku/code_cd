{
 "cells": [
  {
   "cell_type": "code",
   "execution_count": 1,
   "id": "4453e459-05cc-45f5-8307-d5316af7095d",
   "metadata": {},
   "outputs": [
    {
     "name": "stdin",
     "output_type": "stream",
     "text": [
      " 5 6\n"
     ]
    }
   ],
   "source": [
    "N, M = map(int, input().split())"
   ]
  },
  {
   "cell_type": "code",
   "execution_count": 2,
   "id": "d44ce101-fba1-4dc8-993f-500eefd5a683",
   "metadata": {},
   "outputs": [
    {
     "name": "stdin",
     "output_type": "stream",
     "text": [
      " 1 5\n",
      " 4 5\n",
      " 2 3\n",
      " 1 4\n",
      " 3 5\n",
      " 2 5\n"
     ]
    }
   ],
   "source": [
    "UVn = [list(map(int, input().split())) for _ in range(M)]"
   ]
  },
  {
   "cell_type": "code",
   "execution_count": 3,
   "id": "8f3cde26-8560-457b-98eb-b3dbb4d8eede",
   "metadata": {},
   "outputs": [],
   "source": [
    "graph = [[] for _ in range(N+1)]\n",
    "for U, V in UVn:\n",
    "    graph[U].append(V)\n",
    "    graph[V].append(U)"
   ]
  },
  {
   "cell_type": "code",
   "execution_count": 14,
   "id": "7b4030bb-3777-4bed-9a38-4df112b9e7c4",
   "metadata": {},
   "outputs": [],
   "source": [
    "ans = 0\n",
    "for i in range(1, N+1):\n",
    "    for i2 in graph[i]:\n",
    "        for i3 in graph[i2]:\n",
    "            if i in graph[i3]:\n",
    "                ans += 1"
   ]
  },
  {
   "cell_type": "code",
   "execution_count": 13,
   "id": "adff008e-9553-4057-acf2-30472fd05137",
   "metadata": {},
   "outputs": [
    {
     "name": "stdout",
     "output_type": "stream",
     "text": [
      "2\n"
     ]
    }
   ],
   "source": [
    "print(ans//6)"
   ]
  },
  {
   "cell_type": "code",
   "execution_count": 11,
   "id": "844e1cd9-681a-4c77-befa-77273616f003",
   "metadata": {},
   "outputs": [
    {
     "data": {
      "text/plain": [
       "12"
      ]
     },
     "execution_count": 11,
     "metadata": {},
     "output_type": "execute_result"
    }
   ],
   "source": [
    "ans"
   ]
  },
  {
   "cell_type": "code",
   "execution_count": 15,
   "id": "74520fcd-97e8-4c66-bae4-58e5bf80ae96",
   "metadata": {},
   "outputs": [],
   "source": [
    "pa = [[False] * (N+1) for _ in range(N+1)]\n",
    "for U, V in UVn:\n",
    "    pa[U][V] = True"
   ]
  },
  {
   "cell_type": "code",
   "execution_count": 18,
   "id": "d23bd370-de29-4e8b-a5e5-a350d4cb02e0",
   "metadata": {},
   "outputs": [],
   "source": [
    "ans = 0\n",
    "for i in range(1, N-1):\n",
    "    for j in range(i+1, N):\n",
    "        for k in range(j+1, N+1):\n",
    "            if pa[i][j] and pa[i][k] and pa[j][k]:\n",
    "                ans += 1"
   ]
  },
  {
   "cell_type": "code",
   "execution_count": 19,
   "id": "ee63026e-6c69-4af5-be69-4f0d03644d79",
   "metadata": {},
   "outputs": [
    {
     "name": "stdout",
     "output_type": "stream",
     "text": [
      "2\n"
     ]
    }
   ],
   "source": [
    "print(ans)"
   ]
  },
  {
   "cell_type": "code",
   "execution_count": 17,
   "id": "e3f74e38-2f2f-4ee6-85bf-07ea0a176aad",
   "metadata": {},
   "outputs": [
    {
     "data": {
      "text/plain": [
       "True"
      ]
     },
     "execution_count": 17,
     "metadata": {},
     "output_type": "execute_result"
    }
   ],
   "source": [
    "pa[1][4]"
   ]
  },
  {
   "cell_type": "code",
   "execution_count": null,
   "id": "af673487-564a-4ee8-b147-ee1834a7f379",
   "metadata": {},
   "outputs": [],
   "source": []
  }
 ],
 "metadata": {
  "kernelspec": {
   "display_name": "Python 3",
   "language": "python",
   "name": "python3"
  },
  "language_info": {
   "codemirror_mode": {
    "name": "ipython",
    "version": 3
   },
   "file_extension": ".py",
   "mimetype": "text/x-python",
   "name": "python",
   "nbconvert_exporter": "python",
   "pygments_lexer": "ipython3",
   "version": "3.6.13"
  }
 },
 "nbformat": 4,
 "nbformat_minor": 5
}
