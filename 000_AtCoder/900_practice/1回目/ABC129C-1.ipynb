{
 "cells": [
  {
   "cell_type": "code",
   "execution_count": 40,
   "id": "6da34f06-c783-4df9-85bf-77439012f21e",
   "metadata": {},
   "outputs": [
    {
     "name": "stdin",
     "output_type": "stream",
     "text": [
      " 100 5\n"
     ]
    }
   ],
   "source": [
    "N, M = map(int, input().split())"
   ]
  },
  {
   "cell_type": "code",
   "execution_count": 41,
   "id": "a2f47684-8329-4c44-8e73-e425deddb8ab",
   "metadata": {},
   "outputs": [
    {
     "name": "stdin",
     "output_type": "stream",
     "text": [
      " 1\n",
      " 23\n",
      " 45\n",
      " 67\n",
      " 89\n"
     ]
    }
   ],
   "source": [
    "An = [int(input()) for _ in range(M)]"
   ]
  },
  {
   "cell_type": "code",
   "execution_count": 42,
   "id": "1e561ed0-62e3-467e-b2cf-5603e2236c74",
   "metadata": {},
   "outputs": [],
   "source": [
    "An_s = set(An)\n",
    "ans = [0] * (N+1)\n",
    "ans[0] = 1\n",
    "if 1 not in An_s:\n",
    "    ans[1] = 1\n",
    "for i in range(2, N+1):\n",
    "    if i in An_s:\n",
    "        continue\n",
    "    ans[i] = ans[i-2] + ans[i-1]"
   ]
  },
  {
   "cell_type": "code",
   "execution_count": 43,
   "id": "9f27ee84-3ca1-48b6-ba5b-68867a17e94a",
   "metadata": {},
   "outputs": [
    {
     "name": "stdout",
     "output_type": "stream",
     "text": [
      "608200469\n"
     ]
    }
   ],
   "source": [
    "print(ans[N]%(10**9+7))"
   ]
  },
  {
   "cell_type": "code",
   "execution_count": 32,
   "id": "3a081cac-fda2-4430-8e0f-845ffc88723d",
   "metadata": {},
   "outputs": [
    {
     "data": {
      "text/plain": [
       "[1, 1, 2, 0, 2, 2, 4]"
      ]
     },
     "execution_count": 32,
     "metadata": {},
     "output_type": "execute_result"
    }
   ],
   "source": [
    "ans"
   ]
  },
  {
   "cell_type": "code",
   "execution_count": 34,
   "id": "8c3c7134-0918-4894-8433-77383bfa3286",
   "metadata": {},
   "outputs": [
    {
     "data": {
      "text/plain": [
       "([3], {3})"
      ]
     },
     "execution_count": 34,
     "metadata": {},
     "output_type": "execute_result"
    }
   ],
   "source": [
    "An, An_s"
   ]
  },
  {
   "cell_type": "code",
   "execution_count": 21,
   "id": "0078845e-31e1-4e37-8b0e-37658b73fbf9",
   "metadata": {},
   "outputs": [
    {
     "data": {
      "text/plain": [
       "True"
      ]
     },
     "execution_count": 21,
     "metadata": {},
     "output_type": "execute_result"
    }
   ],
   "source": [
    "3 in An"
   ]
  },
  {
   "cell_type": "code",
   "execution_count": null,
   "id": "09082a30-8a90-4c08-b900-c5965261c0eb",
   "metadata": {},
   "outputs": [],
   "source": []
  }
 ],
 "metadata": {
  "kernelspec": {
   "display_name": "Python 3",
   "language": "python",
   "name": "python3"
  },
  "language_info": {
   "codemirror_mode": {
    "name": "ipython",
    "version": 3
   },
   "file_extension": ".py",
   "mimetype": "text/x-python",
   "name": "python",
   "nbconvert_exporter": "python",
   "pygments_lexer": "ipython3",
   "version": "3.6.13"
  }
 },
 "nbformat": 4,
 "nbformat_minor": 5
}
