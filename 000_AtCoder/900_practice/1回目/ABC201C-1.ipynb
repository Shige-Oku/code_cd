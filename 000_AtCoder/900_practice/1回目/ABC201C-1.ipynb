{
 "cells": [
  {
   "cell_type": "code",
   "execution_count": 24,
   "id": "94ec1ccc-237d-4dbc-835c-088058debef2",
   "metadata": {},
   "outputs": [
    {
     "name": "stdin",
     "output_type": "stream",
     "text": [
      " xxxxx?xxxo\n"
     ]
    }
   ],
   "source": [
    "S = input()"
   ]
  },
  {
   "cell_type": "code",
   "execution_count": 28,
   "id": "01c0ccda-7aaa-4a57-8f55-a770de83b687",
   "metadata": {},
   "outputs": [],
   "source": [
    "def myCheck(no):\n",
    "    flg = [False] * 10\n",
    "    for s in no:\n",
    "        idx = int(s)\n",
    "        if S[idx-1] == 'x':\n",
    "            return False\n",
    "        flg[idx-1] = True\n",
    "    for s, f in zip(S, flg):\n",
    "        if s == 'o' and not f:\n",
    "            return False\n",
    "    return True"
   ]
  },
  {
   "cell_type": "code",
   "execution_count": 29,
   "id": "b73318b8-68db-44a4-92c8-8b3cb88384b3",
   "metadata": {},
   "outputs": [],
   "source": [
    "ans = 0\n",
    "for i in range(10000):\n",
    "    no = str(i).zfill(4)\n",
    "    if myCheck(no):\n",
    "        ans += 1"
   ]
  },
  {
   "cell_type": "code",
   "execution_count": 30,
   "id": "fb4a5ef5-77e6-46bd-8074-0cc1e4a4890b",
   "metadata": {},
   "outputs": [
    {
     "name": "stdout",
     "output_type": "stream",
     "text": [
      "15\n"
     ]
    }
   ],
   "source": [
    "print(ans)"
   ]
  },
  {
   "cell_type": "code",
   "execution_count": 3,
   "id": "562c9b66-fea2-409a-bdb8-8fd417c138cc",
   "metadata": {},
   "outputs": [
    {
     "data": {
      "text/plain": [
       "'0001'"
      ]
     },
     "execution_count": 3,
     "metadata": {},
     "output_type": "execute_result"
    }
   ],
   "source": [
    "str(1).zfill(4)"
   ]
  },
  {
   "cell_type": "code",
   "execution_count": 34,
   "id": "b2f418ef-604a-4dd0-8216-52051045b355",
   "metadata": {},
   "outputs": [],
   "source": [
    "def myCheck2(no):\n",
    "    for i in range(10):\n",
    "        if S[i] == '?':\n",
    "            continue\n",
    "        if S[i] == 'x':\n",
    "            if str(i) in no:\n",
    "                return False\n",
    "        if S[i] == 'o':\n",
    "            if str(i) not in no:\n",
    "                return False\n",
    "    return True"
   ]
  },
  {
   "cell_type": "code",
   "execution_count": 35,
   "id": "e2587d21-8d1d-4422-806b-6a8a4298a0dc",
   "metadata": {},
   "outputs": [],
   "source": [
    "ans = 0\n",
    "for i in range(10000):\n",
    "    no = str(i).zfill(4)\n",
    "    if myCheck2(no):\n",
    "        ans += 1"
   ]
  },
  {
   "cell_type": "code",
   "execution_count": 36,
   "id": "aab2682b-c4ec-4604-b507-8fe766fbcb23",
   "metadata": {},
   "outputs": [
    {
     "name": "stdout",
     "output_type": "stream",
     "text": [
      "15\n"
     ]
    }
   ],
   "source": [
    "print(ans)"
   ]
  },
  {
   "cell_type": "code",
   "execution_count": null,
   "id": "323d3fa6-b929-429d-bdcf-2f1b558151e8",
   "metadata": {},
   "outputs": [],
   "source": []
  },
  {
   "cell_type": "code",
   "execution_count": null,
   "id": "36b60038-8b6b-416d-a6d2-a7b3c16d26e1",
   "metadata": {},
   "outputs": [],
   "source": []
  }
 ],
 "metadata": {
  "kernelspec": {
   "display_name": "Python 3",
   "language": "python",
   "name": "python3"
  },
  "language_info": {
   "codemirror_mode": {
    "name": "ipython",
    "version": 3
   },
   "file_extension": ".py",
   "mimetype": "text/x-python",
   "name": "python",
   "nbconvert_exporter": "python",
   "pygments_lexer": "ipython3",
   "version": "3.6.13"
  }
 },
 "nbformat": 4,
 "nbformat_minor": 5
}
