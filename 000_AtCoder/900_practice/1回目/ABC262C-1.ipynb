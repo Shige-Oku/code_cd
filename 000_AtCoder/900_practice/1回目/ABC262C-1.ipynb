{
 "cells": [
  {
   "cell_type": "code",
   "execution_count": 11,
   "id": "a9c0a190-c1be-468e-b180-d183c5367793",
   "metadata": {},
   "outputs": [
    {
     "name": "stdin",
     "output_type": "stream",
     "text": [
      " 10\n"
     ]
    }
   ],
   "source": [
    "N = int(input())"
   ]
  },
  {
   "cell_type": "code",
   "execution_count": 12,
   "id": "75b9fec7-583d-4f30-9c8c-b8f23252739c",
   "metadata": {},
   "outputs": [
    {
     "name": "stdin",
     "output_type": "stream",
     "text": [
      " 5 8 2 2 1 6 7 2 9 10\n"
     ]
    }
   ],
   "source": [
    "An = list(map(int, input().split()))"
   ]
  },
  {
   "cell_type": "code",
   "execution_count": 13,
   "id": "2f1b6fba-7a45-47b7-8804-fb8092c2e557",
   "metadata": {},
   "outputs": [],
   "source": [
    "m = 0\n",
    "for i, A in enumerate(An, 1):\n",
    "    if i == A:\n",
    "        m += 1\n",
    "n = 0\n",
    "for i, A in enumerate(An, 1):\n",
    "    if i == A:\n",
    "        continue\n",
    "    if i == An[A-1]:\n",
    "        n += 1"
   ]
  },
  {
   "cell_type": "code",
   "execution_count": 14,
   "id": "add5ff6d-8445-4331-ae78-c7cb656f67b4",
   "metadata": {},
   "outputs": [
    {
     "name": "stdout",
     "output_type": "stream",
     "text": [
      "8\n"
     ]
    }
   ],
   "source": [
    "print(m*(m-1)//2 + n//2)"
   ]
  },
  {
   "cell_type": "code",
   "execution_count": 9,
   "id": "14dc4b7e-1257-41cf-8236-95367864bed0",
   "metadata": {},
   "outputs": [
    {
     "data": {
      "text/plain": [
       "(2, 2)"
      ]
     },
     "execution_count": 9,
     "metadata": {},
     "output_type": "execute_result"
    }
   ],
   "source": [
    "m, n"
   ]
  },
  {
   "cell_type": "code",
   "execution_count": null,
   "id": "1dfbc65e-6aaa-4424-84f0-5ec960e18197",
   "metadata": {},
   "outputs": [],
   "source": []
  }
 ],
 "metadata": {
  "kernelspec": {
   "display_name": "Python 3",
   "language": "python",
   "name": "python3"
  },
  "language_info": {
   "codemirror_mode": {
    "name": "ipython",
    "version": 3
   },
   "file_extension": ".py",
   "mimetype": "text/x-python",
   "name": "python",
   "nbconvert_exporter": "python",
   "pygments_lexer": "ipython3",
   "version": "3.6.13"
  }
 },
 "nbformat": 4,
 "nbformat_minor": 5
}
