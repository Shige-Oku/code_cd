{
 "cells": [
  {
   "cell_type": "code",
   "execution_count": 40,
   "id": "568811a9-5e4f-4adb-b328-41c3558673bc",
   "metadata": {},
   "outputs": [
    {
     "name": "stdin",
     "output_type": "stream",
     "text": [
      " 12 3\n"
     ]
    }
   ],
   "source": [
    "N, M = map(int, input().split())"
   ]
  },
  {
   "cell_type": "code",
   "execution_count": 41,
   "id": "e7886abc-a72f-422e-b291-41699c29c2e8",
   "metadata": {},
   "outputs": [
    {
     "name": "stdin",
     "output_type": "stream",
     "text": [
      " 4 56 78 901 2 345 67 890 123 45 6 789\n"
     ]
    }
   ],
   "source": [
    "An = list(map(int, input().split()))"
   ]
  },
  {
   "cell_type": "code",
   "execution_count": 42,
   "id": "2faa2c4e-5b25-4c55-ba3d-547165e31542",
   "metadata": {},
   "outputs": [],
   "source": [
    "An_s = sorted(An, reverse=True)"
   ]
  },
  {
   "cell_type": "code",
   "execution_count": 43,
   "id": "9922d698-d72d-4c65-aee0-13a498c158d4",
   "metadata": {},
   "outputs": [
    {
     "name": "stdout",
     "output_type": "stream",
     "text": [
      "Yes\n"
     ]
    }
   ],
   "source": [
    "if An_s[M-1] >= sum(An) / (4 * M):\n",
    "    print('Yes')\n",
    "else:\n",
    "    print('No')"
   ]
  },
  {
   "cell_type": "code",
   "execution_count": 35,
   "id": "0062977c-a54c-4a0e-af68-9ddd7e66e51c",
   "metadata": {},
   "outputs": [
    {
     "data": {
      "text/plain": [
       "(5, 3.0)"
      ]
     },
     "execution_count": 35,
     "metadata": {},
     "output_type": "execute_result"
    }
   ],
   "source": [
    "An_s[M-1], sum(An)/(4*M)"
   ]
  },
  {
   "cell_type": "code",
   "execution_count": 20,
   "id": "56282800-5e73-4ae6-b9f6-4bb7647e9396",
   "metadata": {},
   "outputs": [
    {
     "data": {
      "text/plain": [
       "3306"
      ]
     },
     "execution_count": 20,
     "metadata": {},
     "output_type": "execute_result"
    }
   ],
   "source": [
    "sum(An)"
   ]
  },
  {
   "cell_type": "code",
   "execution_count": 26,
   "id": "b4652bae-03cd-41aa-a6f0-3ed878e39a20",
   "metadata": {},
   "outputs": [
    {
     "data": {
      "text/plain": [
       "275.5"
      ]
     },
     "execution_count": 26,
     "metadata": {},
     "output_type": "execute_result"
    }
   ],
   "source": [
    "sum(An) / (4 * M)"
   ]
  },
  {
   "cell_type": "code",
   "execution_count": 27,
   "id": "14921740-b32d-49ad-aff0-efa6c0a436e1",
   "metadata": {},
   "outputs": [
    {
     "data": {
      "text/plain": [
       "False"
      ]
     },
     "execution_count": 27,
     "metadata": {},
     "output_type": "execute_result"
    }
   ],
   "source": [
    "An[M-1] >= sum(An) / (4 * M)"
   ]
  },
  {
   "cell_type": "code",
   "execution_count": 29,
   "id": "26598450-e97e-4c22-9582-c40e21264c93",
   "metadata": {},
   "outputs": [
    {
     "data": {
      "text/plain": [
       "789"
      ]
     },
     "execution_count": 29,
     "metadata": {},
     "output_type": "execute_result"
    }
   ],
   "source": [
    "An_s[M-1]"
   ]
  },
  {
   "cell_type": "code",
   "execution_count": null,
   "id": "cf54e1e1-6a61-4728-9507-abd50fe5a3d0",
   "metadata": {},
   "outputs": [],
   "source": []
  }
 ],
 "metadata": {
  "kernelspec": {
   "display_name": "Python 3",
   "language": "python",
   "name": "python3"
  },
  "language_info": {
   "codemirror_mode": {
    "name": "ipython",
    "version": 3
   },
   "file_extension": ".py",
   "mimetype": "text/x-python",
   "name": "python",
   "nbconvert_exporter": "python",
   "pygments_lexer": "ipython3",
   "version": "3.6.13"
  }
 },
 "nbformat": 4,
 "nbformat_minor": 5
}
