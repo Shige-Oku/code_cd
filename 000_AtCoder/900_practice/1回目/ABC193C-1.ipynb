{
 "cells": [
  {
   "cell_type": "code",
   "execution_count": 8,
   "id": "97ecef2f-f37d-42a6-a579-6ee24f34b95b",
   "metadata": {},
   "outputs": [
    {
     "name": "stdin",
     "output_type": "stream",
     "text": [
      " 100000\n"
     ]
    }
   ],
   "source": [
    "N = int(input())"
   ]
  },
  {
   "cell_type": "code",
   "execution_count": 9,
   "id": "b504b1ac-fe22-408b-b263-a094f0725d86",
   "metadata": {},
   "outputs": [],
   "source": [
    "ok = set()\n",
    "for i in range(2, int(N**.5)+1):\n",
    "    n = i ** 2\n",
    "    while n <= N:\n",
    "        ok.add(n)\n",
    "        n *= i"
   ]
  },
  {
   "cell_type": "code",
   "execution_count": 10,
   "id": "2a00b03b-90c4-46ed-b874-e2af4b826401",
   "metadata": {},
   "outputs": [
    {
     "name": "stdout",
     "output_type": "stream",
     "text": [
      "99634\n"
     ]
    }
   ],
   "source": [
    "print(N-len(ok))"
   ]
  },
  {
   "cell_type": "code",
   "execution_count": 7,
   "id": "56fb6d1c-5537-4932-807d-74c8b967d972",
   "metadata": {},
   "outputs": [
    {
     "data": {
      "text/plain": [
       "{4, 8}"
      ]
     },
     "execution_count": 7,
     "metadata": {},
     "output_type": "execute_result"
    }
   ],
   "source": [
    "ok"
   ]
  },
  {
   "cell_type": "code",
   "execution_count": null,
   "id": "5d63e4fd-50b3-4311-83ff-bc9f5ef8dc05",
   "metadata": {},
   "outputs": [],
   "source": []
  }
 ],
 "metadata": {
  "kernelspec": {
   "display_name": "Python 3",
   "language": "python",
   "name": "python3"
  },
  "language_info": {
   "codemirror_mode": {
    "name": "ipython",
    "version": 3
   },
   "file_extension": ".py",
   "mimetype": "text/x-python",
   "name": "python",
   "nbconvert_exporter": "python",
   "pygments_lexer": "ipython3",
   "version": "3.6.13"
  }
 },
 "nbformat": 4,
 "nbformat_minor": 5
}
