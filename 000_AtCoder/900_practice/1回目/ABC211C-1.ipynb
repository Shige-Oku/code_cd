{
 "cells": [
  {
   "cell_type": "code",
   "execution_count": 21,
   "id": "15c87dce-f8a9-4c63-9e6c-a097b27b954c",
   "metadata": {},
   "outputs": [
    {
     "name": "stdin",
     "output_type": "stream",
     "text": [
      " chokudaichokudaichokudai\n"
     ]
    }
   ],
   "source": [
    "S = input()"
   ]
  },
  {
   "cell_type": "code",
   "execution_count": 22,
   "id": "39cc43b7-2d35-4456-8ca6-f372bca5c7a0",
   "metadata": {},
   "outputs": [],
   "source": [
    "dp = [0] * 8\n",
    "l = list('chokudai')\n",
    "for i, s in enumerate(S):\n",
    "    if s not in l:\n",
    "        continue\n",
    "    j = l.index(s)\n",
    "    if j == 0:\n",
    "        dp[j] += 1\n",
    "    else:\n",
    "        dp[j] += dp[j-1]\n",
    "    dp[j] %= 10**9 + 7"
   ]
  },
  {
   "cell_type": "code",
   "execution_count": 25,
   "id": "ae1d1205-ac73-4031-bbf7-406324602aae",
   "metadata": {},
   "outputs": [
    {
     "name": "stdout",
     "output_type": "stream",
     "text": [
      "45\n"
     ]
    }
   ],
   "source": [
    "print(dp[-1])"
   ]
  },
  {
   "cell_type": "code",
   "execution_count": 12,
   "id": "96a89dab-a99b-4a91-b997-6dd883c4365a",
   "metadata": {},
   "outputs": [
    {
     "data": {
      "text/plain": [
       "(9, 7)"
      ]
     },
     "execution_count": 12,
     "metadata": {},
     "output_type": "execute_result"
    }
   ],
   "source": [
    "i, j"
   ]
  },
  {
   "cell_type": "code",
   "execution_count": 26,
   "id": "030bb510-74c3-41fb-99dd-5e0e64393e01",
   "metadata": {},
   "outputs": [
    {
     "ename": "ValueError",
     "evalue": "'x' is not in list",
     "output_type": "error",
     "traceback": [
      "\u001b[1;31m---------------------------------------------------------------------------\u001b[0m",
      "\u001b[1;31mValueError\u001b[0m                                Traceback (most recent call last)",
      "\u001b[1;32m<ipython-input-26-917a7eda4f47>\u001b[0m in \u001b[0;36m<module>\u001b[1;34m\u001b[0m\n\u001b[1;32m----> 1\u001b[1;33m \u001b[0ml\u001b[0m\u001b[1;33m.\u001b[0m\u001b[0mindex\u001b[0m\u001b[1;33m(\u001b[0m\u001b[1;34m'h'\u001b[0m\u001b[1;33m)\u001b[0m\u001b[1;33m,\u001b[0m \u001b[0ml\u001b[0m\u001b[1;33m.\u001b[0m\u001b[0mindex\u001b[0m\u001b[1;33m(\u001b[0m\u001b[1;34m'c'\u001b[0m\u001b[1;33m)\u001b[0m\u001b[1;33m,\u001b[0m \u001b[0ml\u001b[0m\u001b[1;33m.\u001b[0m\u001b[0mindex\u001b[0m\u001b[1;33m(\u001b[0m\u001b[1;34m'a'\u001b[0m\u001b[1;33m)\u001b[0m\u001b[1;33m,\u001b[0m \u001b[0ml\u001b[0m\u001b[1;33m.\u001b[0m\u001b[0mindex\u001b[0m\u001b[1;33m(\u001b[0m\u001b[1;34m'x'\u001b[0m\u001b[1;33m)\u001b[0m\u001b[1;33m\u001b[0m\u001b[1;33m\u001b[0m\u001b[0m\n\u001b[0m",
      "\u001b[1;31mValueError\u001b[0m: 'x' is not in list"
     ]
    }
   ],
   "source": [
    "l.index('h'), l.index('c'), l.index('a'), l.index('x')"
   ]
  },
  {
   "cell_type": "code",
   "execution_count": 13,
   "id": "c015b71e-db0d-427e-9bef-1a4d9b60d7eb",
   "metadata": {},
   "outputs": [
    {
     "data": {
      "text/plain": [
       "[2, 3, 3, 3, 3, 3, 3, 3]"
      ]
     },
     "execution_count": 13,
     "metadata": {},
     "output_type": "execute_result"
    }
   ],
   "source": [
    "dp"
   ]
  },
  {
   "cell_type": "code",
   "execution_count": null,
   "id": "927f40cf-1999-4d72-9790-29ee01201e7d",
   "metadata": {},
   "outputs": [],
   "source": []
  }
 ],
 "metadata": {
  "kernelspec": {
   "display_name": "Python 3",
   "language": "python",
   "name": "python3"
  },
  "language_info": {
   "codemirror_mode": {
    "name": "ipython",
    "version": 3
   },
   "file_extension": ".py",
   "mimetype": "text/x-python",
   "name": "python",
   "nbconvert_exporter": "python",
   "pygments_lexer": "ipython3",
   "version": "3.6.13"
  }
 },
 "nbformat": 4,
 "nbformat_minor": 5
}
