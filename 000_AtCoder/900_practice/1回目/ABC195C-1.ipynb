{
 "cells": [
  {
   "cell_type": "code",
   "execution_count": 27,
   "id": "13908eea-d6fd-4fae-a0e6-093341270b43",
   "metadata": {},
   "outputs": [
    {
     "name": "stdin",
     "output_type": "stream",
     "text": [
      " 27182818284590\n"
     ]
    }
   ],
   "source": [
    "N = int(input())"
   ]
  },
  {
   "cell_type": "code",
   "execution_count": 28,
   "id": "03c2a217-983f-4f9d-92cc-2a0ee28f9d04",
   "metadata": {},
   "outputs": [],
   "source": [
    "ans = 0\n",
    "if N >= 10**3:\n",
    "    if N >= 10**6:\n",
    "        n = 10**6\n",
    "    else:\n",
    "        n = N+1\n",
    "    ans += (n-10**3) * 1\n",
    "if N >= 10**6:\n",
    "    if N >= 10**9:\n",
    "        n = 10**9\n",
    "    else:\n",
    "        n = N+1\n",
    "    ans += (n-10**6) * 2\n",
    "if N >= 10**9:\n",
    "    if N >= 10**12:\n",
    "        n = 10**12\n",
    "    else:\n",
    "        n = N+1\n",
    "    ans += (n-10**9) * 3\n",
    "if N >= 10**12:\n",
    "    if N >= 10**15:\n",
    "        n = 10**15\n",
    "    else:\n",
    "        n = N+1\n",
    "    ans += (n-10**12) * 4\n",
    "if N >= 10**15:\n",
    "    if N >= 10**18:\n",
    "        n = 10**18\n",
    "    else:\n",
    "        n = N+1\n",
    "    ans += (n-10**15) * 5\n"
   ]
  },
  {
   "cell_type": "code",
   "execution_count": 29,
   "id": "e925d1ce-314a-4bfa-ab35-d4db4bf43598",
   "metadata": {},
   "outputs": [
    {
     "name": "stdout",
     "output_type": "stream",
     "text": [
      "107730272137364\n"
     ]
    }
   ],
   "source": [
    "print(ans)"
   ]
  },
  {
   "cell_type": "code",
   "execution_count": 30,
   "id": "7bba6472-727b-47ca-9686-c421b85d68f2",
   "metadata": {},
   "outputs": [],
   "source": [
    "ans = 0\n",
    "n = 1000\n",
    "while n <= N:\n",
    "    ans += N - n + 1\n",
    "    n *= 1000"
   ]
  },
  {
   "cell_type": "code",
   "execution_count": 31,
   "id": "ef751d16-a5f8-41e2-9766-91062130f705",
   "metadata": {},
   "outputs": [
    {
     "name": "stdout",
     "output_type": "stream",
     "text": [
      "107730272137364\n"
     ]
    }
   ],
   "source": [
    "print(ans)"
   ]
  },
  {
   "cell_type": "code",
   "execution_count": 15,
   "id": "6178b62f-138b-4b64-852f-cdf5960bbf69",
   "metadata": {},
   "outputs": [
    {
     "data": {
      "text/plain": [
       "6"
      ]
     },
     "execution_count": 15,
     "metadata": {},
     "output_type": "execute_result"
    }
   ],
   "source": [
    "107730272137370-107730272137364"
   ]
  },
  {
   "cell_type": "code",
   "execution_count": null,
   "id": "de23fd52-fbe0-4150-abc9-e8e9bbd13daf",
   "metadata": {},
   "outputs": [],
   "source": []
  },
  {
   "cell_type": "code",
   "execution_count": null,
   "id": "f2ce866e-f77f-4d8a-a30c-68b55a7e2a0d",
   "metadata": {},
   "outputs": [],
   "source": [
    "27,182,818,284,590"
   ]
  },
  {
   "cell_type": "code",
   "execution_count": 17,
   "id": "f2a570e3-1570-47f1-be91-137736c5b435",
   "metadata": {},
   "outputs": [
    {
     "data": {
      "text/plain": [
       "True"
      ]
     },
     "execution_count": 17,
     "metadata": {},
     "output_type": "execute_result"
    }
   ],
   "source": [
    "27182818284590 >= 10**12"
   ]
  },
  {
   "cell_type": "code",
   "execution_count": null,
   "id": "95afd39c-fdc5-41c1-8e8c-e75435bcc493",
   "metadata": {},
   "outputs": [],
   "source": []
  }
 ],
 "metadata": {
  "kernelspec": {
   "display_name": "Python 3",
   "language": "python",
   "name": "python3"
  },
  "language_info": {
   "codemirror_mode": {
    "name": "ipython",
    "version": 3
   },
   "file_extension": ".py",
   "mimetype": "text/x-python",
   "name": "python",
   "nbconvert_exporter": "python",
   "pygments_lexer": "ipython3",
   "version": "3.6.13"
  }
 },
 "nbformat": 4,
 "nbformat_minor": 5
}
