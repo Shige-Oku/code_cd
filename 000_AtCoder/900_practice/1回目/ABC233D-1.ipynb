{
 "cells": [
  {
   "cell_type": "code",
   "execution_count": 1,
   "id": "700d85d6-9332-494c-aa9d-fd6b54318ae8",
   "metadata": {},
   "outputs": [
    {
     "name": "stdin",
     "output_type": "stream",
     "text": [
      " 6 5\n"
     ]
    }
   ],
   "source": [
    "N, K = map(int, input().split())"
   ]
  },
  {
   "cell_type": "code",
   "execution_count": 2,
   "id": "1d7602d9-4dd9-4621-bbe9-bb53740bfafa",
   "metadata": {},
   "outputs": [
    {
     "name": "stdin",
     "output_type": "stream",
     "text": [
      " 8 -3 5 7 0 -4\n"
     ]
    }
   ],
   "source": [
    "An = list(map(int, input().split()))"
   ]
  },
  {
   "cell_type": "code",
   "execution_count": 45,
   "id": "102e43cb-2404-47a1-a234-206553843d72",
   "metadata": {},
   "outputs": [],
   "source": [
    "import itertools\n",
    "import collections\n",
    "An_c = [0] + list(itertools.accumulate(An))\n",
    "An_d = collections.defaultdict(int)\n",
    "ans = 0\n",
    "for Ac in An_c:\n",
    "    ans += An_d[Ac-K]\n",
    "    An_d[Ac] += 1\n"
   ]
  },
  {
   "cell_type": "code",
   "execution_count": 46,
   "id": "fe203dc0-efb2-4034-90d9-a32404eb9d61",
   "metadata": {},
   "outputs": [
    {
     "name": "stdout",
     "output_type": "stream",
     "text": [
      "3\n"
     ]
    }
   ],
   "source": [
    "print(ans)"
   ]
  },
  {
   "cell_type": "code",
   "execution_count": 47,
   "id": "342474b7-4e53-4e56-a815-da4cd4105ce5",
   "metadata": {},
   "outputs": [
    {
     "data": {
      "text/plain": [
       "(defaultdict(int, {-5: 0, 0: 1, 3: 0, 8: 1, 5: 1, 10: 1, 12: 0, 17: 2, 13: 1}),\n",
       " [0, 8, 5, 10, 17, 17, 13],\n",
       " 13)"
      ]
     },
     "execution_count": 47,
     "metadata": {},
     "output_type": "execute_result"
    }
   ],
   "source": [
    "An_d, An_c, k"
   ]
  },
  {
   "cell_type": "code",
   "execution_count": null,
   "id": "74e9102e-a499-4e66-a7ed-9432a16d1a67",
   "metadata": {},
   "outputs": [],
   "source": []
  },
  {
   "cell_type": "code",
   "execution_count": null,
   "id": "019596fa-11b1-4b9a-8df4-64affe4270dd",
   "metadata": {},
   "outputs": [],
   "source": []
  }
 ],
 "metadata": {
  "kernelspec": {
   "display_name": "Python 3",
   "language": "python",
   "name": "python3"
  },
  "language_info": {
   "codemirror_mode": {
    "name": "ipython",
    "version": 3
   },
   "file_extension": ".py",
   "mimetype": "text/x-python",
   "name": "python",
   "nbconvert_exporter": "python",
   "pygments_lexer": "ipython3",
   "version": "3.6.13"
  }
 },
 "nbformat": 4,
 "nbformat_minor": 5
}
