{
 "cells": [
  {
   "cell_type": "code",
   "execution_count": 3,
   "id": "1460a078-5dd9-4a5b-b7c8-718c9d715669",
   "metadata": {},
   "outputs": [
    {
     "name": "stdin",
     "output_type": "stream",
     "text": [
      " 22\n"
     ]
    }
   ],
   "source": [
    "D = int(input())"
   ]
  },
  {
   "cell_type": "code",
   "execution_count": 4,
   "id": "b04a6e77-f98e-4bbd-b04d-c07edc08273c",
   "metadata": {},
   "outputs": [
    {
     "name": "stdout",
     "output_type": "stream",
     "text": [
      "Christmas Eve Eve Eve\n"
     ]
    }
   ],
   "source": [
    "if D == 25:\n",
    "    print('Christmas')\n",
    "elif D == 24:\n",
    "    print('Christmas Eve')\n",
    "elif D == 23:\n",
    "    print('Christmas Eve Eve')\n",
    "else:\n",
    "    print('Christmas Eve Eve Eve')"
   ]
  },
  {
   "cell_type": "code",
   "execution_count": null,
   "id": "81eda57d-1b3d-4bcc-9b55-29360a1eb305",
   "metadata": {},
   "outputs": [],
   "source": []
  }
 ],
 "metadata": {
  "kernelspec": {
   "display_name": "Python 3",
   "language": "python",
   "name": "python3"
  },
  "language_info": {
   "codemirror_mode": {
    "name": "ipython",
    "version": 3
   },
   "file_extension": ".py",
   "mimetype": "text/x-python",
   "name": "python",
   "nbconvert_exporter": "python",
   "pygments_lexer": "ipython3",
   "version": "3.6.13"
  }
 },
 "nbformat": 4,
 "nbformat_minor": 5
}
