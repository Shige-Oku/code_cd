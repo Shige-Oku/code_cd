{
 "cells": [
  {
   "cell_type": "code",
   "execution_count": 1,
   "id": "3f3258c5-15cd-49b2-904b-e065a473650f",
   "metadata": {},
   "outputs": [
    {
     "name": "stdin",
     "output_type": "stream",
     "text": [
      " 5\n"
     ]
    }
   ],
   "source": [
    "N = int(input())"
   ]
  },
  {
   "cell_type": "code",
   "execution_count": 2,
   "id": "372219c2-095a-4571-972f-3632c4a340d9",
   "metadata": {},
   "outputs": [
    {
     "name": "stdin",
     "output_type": "stream",
     "text": [
      " newfile\n",
      " newfile\n",
      " newfolder\n",
      " newfile\n",
      " newfolder\n"
     ]
    }
   ],
   "source": [
    "Sn = [input() for _ in range(N)]"
   ]
  },
  {
   "cell_type": "code",
   "execution_count": 5,
   "id": "73ec9f03-d8dd-4d53-89b1-74d4a1f13dbe",
   "metadata": {},
   "outputs": [
    {
     "name": "stdout",
     "output_type": "stream",
     "text": [
      "newfile\n",
      "newfile(1)\n",
      "newfolder\n",
      "newfile(2)\n",
      "newfolder(1)\n"
     ]
    }
   ],
   "source": [
    "exist = {}\n",
    "for S in Sn:\n",
    "    if S not in exist:\n",
    "        print(S)\n",
    "        exist[S] = 1\n",
    "    else:\n",
    "        print(S + '(' + str(exist[S]) + ')')\n",
    "        exist[S] += 1"
   ]
  },
  {
   "cell_type": "code",
   "execution_count": null,
   "id": "ff96c947-fa14-4677-98ce-b370d57f064d",
   "metadata": {},
   "outputs": [],
   "source": []
  }
 ],
 "metadata": {
  "kernelspec": {
   "display_name": "Python 3",
   "language": "python",
   "name": "python3"
  },
  "language_info": {
   "codemirror_mode": {
    "name": "ipython",
    "version": 3
   },
   "file_extension": ".py",
   "mimetype": "text/x-python",
   "name": "python",
   "nbconvert_exporter": "python",
   "pygments_lexer": "ipython3",
   "version": "3.6.13"
  }
 },
 "nbformat": 4,
 "nbformat_minor": 5
}
