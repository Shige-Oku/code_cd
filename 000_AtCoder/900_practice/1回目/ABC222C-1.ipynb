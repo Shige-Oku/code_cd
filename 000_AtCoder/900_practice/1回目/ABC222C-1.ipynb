{
 "cells": [
  {
   "cell_type": "code",
   "execution_count": 1,
   "id": "1ac072a3-2211-4c9c-a573-8d2a5d11acfa",
   "metadata": {},
   "outputs": [
    {
     "name": "stdin",
     "output_type": "stream",
     "text": [
      " 2 3\n"
     ]
    }
   ],
   "source": [
    "N, M = map(int, input().split())"
   ]
  },
  {
   "cell_type": "code",
   "execution_count": 2,
   "id": "e462f588-b9d8-4327-b47a-bb7751631ae0",
   "metadata": {},
   "outputs": [
    {
     "name": "stdin",
     "output_type": "stream",
     "text": [
      " GCP\n",
      " PPP\n",
      " CCC\n",
      " PPC\n"
     ]
    }
   ],
   "source": [
    "An = [input() for _ in range(N*2)]"
   ]
  },
  {
   "cell_type": "code",
   "execution_count": 14,
   "id": "b40afea9-249a-4314-9e9c-7adf54e5785b",
   "metadata": {},
   "outputs": [],
   "source": [
    "win = []\n",
    "for i in range(2*N):\n",
    "    win.append([0, i])\n",
    "for j in range(M):\n",
    "    win_s = sorted(win, key=lambda x:(-x[0], x[1]))\n",
    "    for i in range(0, 2*N, 2):\n",
    "        i1 = win_s[i][1]\n",
    "        i2 = win_s[i+1][1]\n",
    "        if An[i1][j] == 'G' and An[i2][j] == 'C':\n",
    "            win[i1][0] += 1\n",
    "        elif An[i1][j] == 'C' and An[i2][j] == 'P':\n",
    "            win[i1][0] += 1\n",
    "        elif An[i1][j] == 'P' and An[i2][j] == 'G':\n",
    "            win[i1][0] += 1\n",
    "        if An[i2][j] == 'G' and An[i1][j] == 'C':\n",
    "            win[i2][0] += 1\n",
    "        elif An[i2][j] == 'C' and An[i1][j] == 'P':\n",
    "            win[i2][0] += 1\n",
    "        elif An[i2][j] == 'P' and An[i1][j] == 'G':\n",
    "            win[i2][0] += 1\n",
    "         "
   ]
  },
  {
   "cell_type": "code",
   "execution_count": 13,
   "id": "f6d5f347-0d8b-44f9-ba8e-8e1307c963d9",
   "metadata": {},
   "outputs": [
    {
     "name": "stdout",
     "output_type": "stream",
     "text": [
      "3\n",
      "1\n",
      "2\n",
      "4\n"
     ]
    }
   ],
   "source": [
    "win_s = sorted(win, key=lambda x:(-x[0], x[1]))\n",
    "for _, i in win_s:\n",
    "    print(i+1)"
   ]
  },
  {
   "cell_type": "code",
   "execution_count": null,
   "id": "25963316-611b-4a69-bad6-765e8d7b8ba7",
   "metadata": {},
   "outputs": [],
   "source": []
  }
 ],
 "metadata": {
  "kernelspec": {
   "display_name": "Python 3",
   "language": "python",
   "name": "python3"
  },
  "language_info": {
   "codemirror_mode": {
    "name": "ipython",
    "version": 3
   },
   "file_extension": ".py",
   "mimetype": "text/x-python",
   "name": "python",
   "nbconvert_exporter": "python",
   "pygments_lexer": "ipython3",
   "version": "3.6.13"
  }
 },
 "nbformat": 4,
 "nbformat_minor": 5
}
