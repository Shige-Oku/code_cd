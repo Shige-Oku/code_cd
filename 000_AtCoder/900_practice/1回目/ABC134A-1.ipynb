{
 "cells": [
  {
   "cell_type": "code",
   "execution_count": 5,
   "id": "4e35ae5f-b98d-438d-b118-a7d3b660feb4",
   "metadata": {},
   "outputs": [
    {
     "name": "stdin",
     "output_type": "stream",
     "text": [
      " 80\n"
     ]
    }
   ],
   "source": [
    "R = int(input())"
   ]
  },
  {
   "cell_type": "code",
   "execution_count": 6,
   "id": "805a0c3a-422b-43b7-8777-c2963b9922c1",
   "metadata": {},
   "outputs": [
    {
     "name": "stdout",
     "output_type": "stream",
     "text": [
      "19200\n"
     ]
    }
   ],
   "source": [
    "print(3*R**2)"
   ]
  },
  {
   "cell_type": "code",
   "execution_count": null,
   "id": "460c5340-471b-439d-a2b3-7626a61979b0",
   "metadata": {},
   "outputs": [],
   "source": []
  }
 ],
 "metadata": {
  "kernelspec": {
   "display_name": "Python 3",
   "language": "python",
   "name": "python3"
  },
  "language_info": {
   "codemirror_mode": {
    "name": "ipython",
    "version": 3
   },
   "file_extension": ".py",
   "mimetype": "text/x-python",
   "name": "python",
   "nbconvert_exporter": "python",
   "pygments_lexer": "ipython3",
   "version": "3.6.13"
  }
 },
 "nbformat": 4,
 "nbformat_minor": 5
}
