{
 "cells": [
  {
   "cell_type": "code",
   "execution_count": 2,
   "id": "2bb47e61-7581-4b55-8096-dacff23cad03",
   "metadata": {},
   "outputs": [
    {
     "name": "stdin",
     "output_type": "stream",
     "text": [
      " 5 5\n"
     ]
    }
   ],
   "source": [
    "H, W = map(int, input().split())"
   ]
  },
  {
   "cell_type": "code",
   "execution_count": 3,
   "id": "be1c6645-a381-40b3-a1df-992a0d084bee",
   "metadata": {},
   "outputs": [
    {
     "name": "stdin",
     "output_type": "stream",
     "text": [
      " .....\n",
      " .###.\n",
      " .###.\n",
      " .###.\n",
      " .....\n"
     ]
    }
   ],
   "source": [
    "Sn = [input() for _ in range(H)]"
   ]
  },
  {
   "cell_type": "code",
   "execution_count": 11,
   "id": "30c23299-a041-4d21-87ac-956ea105918b",
   "metadata": {},
   "outputs": [],
   "source": [
    "ans = 0\n",
    "for h in range(H-1):\n",
    "    for w in range(W-1):\n",
    "        cnt = 0\n",
    "        if Sn[h][w] == '#':\n",
    "            cnt += 1\n",
    "        if Sn[h+1][w] == '#':\n",
    "            cnt += 1\n",
    "        if Sn[h][w+1] == '#':\n",
    "            cnt += 1\n",
    "        if Sn[h+1][w+1] == '#':\n",
    "            cnt += 1\n",
    "        if cnt in (1, 3):\n",
    "            ans += 1\n"
   ]
  },
  {
   "cell_type": "code",
   "execution_count": 12,
   "id": "3998e7f9-9dfc-4e16-996d-c3b70dad74d8",
   "metadata": {},
   "outputs": [
    {
     "name": "stdout",
     "output_type": "stream",
     "text": [
      "4\n"
     ]
    }
   ],
   "source": [
    "print(ans)"
   ]
  },
  {
   "cell_type": "code",
   "execution_count": null,
   "id": "24d65064-4fe9-4b25-b63d-65045f1530c4",
   "metadata": {},
   "outputs": [],
   "source": []
  }
 ],
 "metadata": {
  "kernelspec": {
   "display_name": "Python 3",
   "language": "python",
   "name": "python3"
  },
  "language_info": {
   "codemirror_mode": {
    "name": "ipython",
    "version": 3
   },
   "file_extension": ".py",
   "mimetype": "text/x-python",
   "name": "python",
   "nbconvert_exporter": "python",
   "pygments_lexer": "ipython3",
   "version": "3.6.13"
  }
 },
 "nbformat": 4,
 "nbformat_minor": 5
}
