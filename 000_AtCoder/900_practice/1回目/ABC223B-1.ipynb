{
 "cells": [
  {
   "cell_type": "code",
   "execution_count": 11,
   "id": "5ee9c7a4-51c0-40c3-a422-98952c2c9798",
   "metadata": {},
   "outputs": [
    {
     "name": "stdin",
     "output_type": "stream",
     "text": [
      " abracadabra\n"
     ]
    }
   ],
   "source": [
    "S = input()"
   ]
  },
  {
   "cell_type": "code",
   "execution_count": 12,
   "id": "609a4c9a-86bf-4bc4-ac3b-7d555fc38b22",
   "metadata": {},
   "outputs": [],
   "source": [
    "ans = set()\n",
    "ans.add(S)\n",
    "s = S\n",
    "for i in range(len(s)):\n",
    "    s = s[1:] + s[0]\n",
    "    ans.add(s)"
   ]
  },
  {
   "cell_type": "code",
   "execution_count": 13,
   "id": "b8dc01f8-bce0-4dad-9c59-a3dde9e65f53",
   "metadata": {},
   "outputs": [],
   "source": [
    "s = S\n",
    "for i in range(len(S)):\n",
    "    s = s[-1] + s[:-1]\n",
    "    ans.add(s)"
   ]
  },
  {
   "cell_type": "code",
   "execution_count": 14,
   "id": "b81659b9-7b31-48d3-ad0c-d30f1b4d7ea7",
   "metadata": {},
   "outputs": [
    {
     "name": "stdout",
     "output_type": "stream",
     "text": [
      "aabracadabr\n",
      "racadabraab\n"
     ]
    }
   ],
   "source": [
    "ans = sorted(ans)\n",
    "print(ans[0])\n",
    "print(ans[-1])"
   ]
  },
  {
   "cell_type": "code",
   "execution_count": null,
   "id": "e7098481-55ac-4bbc-83eb-c6403ba19113",
   "metadata": {},
   "outputs": [],
   "source": []
  }
 ],
 "metadata": {
  "kernelspec": {
   "display_name": "Python 3",
   "language": "python",
   "name": "python3"
  },
  "language_info": {
   "codemirror_mode": {
    "name": "ipython",
    "version": 3
   },
   "file_extension": ".py",
   "mimetype": "text/x-python",
   "name": "python",
   "nbconvert_exporter": "python",
   "pygments_lexer": "ipython3",
   "version": "3.6.13"
  }
 },
 "nbformat": 4,
 "nbformat_minor": 5
}
