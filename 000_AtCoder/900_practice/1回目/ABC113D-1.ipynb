{
 "cells": [
  {
   "cell_type": "code",
   "execution_count": 1,
   "id": "5dad77c9-ce48-4a42-8337-809da24f3bf9",
   "metadata": {},
   "outputs": [
    {
     "name": "stdin",
     "output_type": "stream",
     "text": [
      " 1 3 2\n"
     ]
    }
   ],
   "source": [
    "H, W, K = map(int, input().split())"
   ]
  },
  {
   "cell_type": "code",
   "execution_count": 23,
   "id": "78251003-cbd6-4bdf-9f99-7674dbf415ff",
   "metadata": {},
   "outputs": [],
   "source": [
    "dp = [[[0] * 2 for _ in range(W+1)] for _ in range(H+1)]"
   ]
  },
  {
   "cell_type": "code",
   "execution_count": 24,
   "id": "553ae375-4de5-4639-8116-d384a6a88155",
   "metadata": {},
   "outputs": [
    {
     "data": {
      "text/plain": [
       "([[[0, 0], [0, 0], [0, 0], [0, 0]], [[0, 0], [0, 0], [0, 0], [0, 0]]], 2)"
      ]
     },
     "execution_count": 24,
     "metadata": {},
     "output_type": "execute_result"
    }
   ],
   "source": [
    "dp, len(dp)"
   ]
  },
  {
   "cell_type": "code",
   "execution_count": 9,
   "id": "3c7ab58a-1a2e-4219-997b-77829417f17b",
   "metadata": {},
   "outputs": [],
   "source": [
    "a = [[0] * 5 for x in range(3)]"
   ]
  },
  {
   "cell_type": "code",
   "execution_count": 10,
   "id": "e232900c-dbce-4937-98f0-c47c7ba3e29a",
   "metadata": {},
   "outputs": [
    {
     "data": {
      "text/plain": [
       "[[0, 0, 0, 0, 0], [0, 0, 0, 0, 0], [0, 0, 0, 0, 0]]"
      ]
     },
     "execution_count": 10,
     "metadata": {},
     "output_type": "execute_result"
    }
   ],
   "source": [
    "a"
   ]
  },
  {
   "cell_type": "code",
   "execution_count": null,
   "id": "5b6bc53c-55e3-4270-b7e1-248887ba78dc",
   "metadata": {},
   "outputs": [],
   "source": []
  }
 ],
 "metadata": {
  "kernelspec": {
   "display_name": "Python 3",
   "language": "python",
   "name": "python3"
  },
  "language_info": {
   "codemirror_mode": {
    "name": "ipython",
    "version": 3
   },
   "file_extension": ".py",
   "mimetype": "text/x-python",
   "name": "python",
   "nbconvert_exporter": "python",
   "pygments_lexer": "ipython3",
   "version": "3.6.13"
  }
 },
 "nbformat": 4,
 "nbformat_minor": 5
}
