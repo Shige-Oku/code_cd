{
 "cells": [
  {
   "cell_type": "code",
   "execution_count": 34,
   "id": "187eb630-a42f-49f8-a37b-b56c1d0bb3e9",
   "metadata": {},
   "outputs": [
    {
     "name": "stdin",
     "output_type": "stream",
     "text": [
      " 8\n"
     ]
    }
   ],
   "source": [
    "N = int(input())"
   ]
  },
  {
   "cell_type": "code",
   "execution_count": 35,
   "id": "dd77a41a-1f90-4149-a111-f4c682da1a17",
   "metadata": {},
   "outputs": [
    {
     "name": "stdin",
     "output_type": "stream",
     "text": [
      " 84 87 78 16 94 36 87 93\n"
     ]
    }
   ],
   "source": [
    "Sn = list(map(int, input().split()))"
   ]
  },
  {
   "cell_type": "code",
   "execution_count": 36,
   "id": "7c2756f0-df4e-492a-9357-4955f43e3a5c",
   "metadata": {},
   "outputs": [
    {
     "name": "stdin",
     "output_type": "stream",
     "text": [
      " 50 22 63 28 91 60 64 27\n"
     ]
    }
   ],
   "source": [
    "Tn = list(map(int, input().split()))"
   ]
  },
  {
   "cell_type": "code",
   "execution_count": 58,
   "id": "b97f354a-db08-4e5e-9d7a-77cecffc7011",
   "metadata": {},
   "outputs": [],
   "source": [
    "import copy\n",
    "ans = copy.deepcopy(Tn)\n",
    "for i in range(N*2):\n",
    "    p = i % N\n",
    "    ans[(p+1)%N] = min(ans[(p+1)%N], ans[p] + Sn[p])\n"
   ]
  },
  {
   "cell_type": "code",
   "execution_count": 59,
   "id": "c2247aaf-b815-426f-bb91-7fbf03cde302",
   "metadata": {},
   "outputs": [
    {
     "name": "stdout",
     "output_type": "stream",
     "text": [
      "50\n",
      "22\n",
      "63\n",
      "28\n",
      "44\n",
      "60\n",
      "64\n",
      "27\n"
     ]
    }
   ],
   "source": [
    "print(*ans, sep='\\n')"
   ]
  },
  {
   "cell_type": "code",
   "execution_count": 61,
   "id": "b3bcc093-ac7e-41ef-b31b-dcf02b90f3d5",
   "metadata": {},
   "outputs": [],
   "source": [
    "import heapq\n",
    "ans = [-1] * (N)\n",
    "q = []\n",
    "for i, (T, S) in enumerate(zip(Tn, Sn)):\n",
    "    heapq.heappush(q, (T, i))\n",
    "\n",
    "while q:\n",
    "    c, p = heapq.heappop(q)\n",
    "    p %= N\n",
    "    if ans[p] != -1:\n",
    "        continue\n",
    "    ans[p] = c\n",
    "    heapq.heappush(q, (c+Sn[p], p+1))"
   ]
  },
  {
   "cell_type": "code",
   "execution_count": 62,
   "id": "880f1734-54ea-44d5-b4f6-c8def2c4d527",
   "metadata": {},
   "outputs": [
    {
     "name": "stdout",
     "output_type": "stream",
     "text": [
      "50\n",
      "22\n",
      "63\n",
      "28\n",
      "44\n",
      "60\n",
      "64\n",
      "27\n"
     ]
    }
   ],
   "source": [
    "print(*ans, sep='\\n')"
   ]
  },
  {
   "cell_type": "code",
   "execution_count": 55,
   "id": "14cc77d4-ce95-4c3c-989c-6c1fac180181",
   "metadata": {},
   "outputs": [
    {
     "data": {
      "text/plain": [
       "([50, 22, 63, 28, 91, 60, 64, 27], [84, 87, 78, 16, 94, 36, 87, 93])"
      ]
     },
     "execution_count": 55,
     "metadata": {},
     "output_type": "execute_result"
    }
   ],
   "source": [
    "ans, Sn"
   ]
  },
  {
   "cell_type": "code",
   "execution_count": null,
   "id": "fb3067ca-0663-413b-8e6c-aa0d84ebc37a",
   "metadata": {},
   "outputs": [],
   "source": [
    "# WA"
   ]
  },
  {
   "cell_type": "code",
   "execution_count": 37,
   "id": "f45bd84d-d7c1-4682-8b1d-50dc21d621ec",
   "metadata": {},
   "outputs": [],
   "source": [
    "STn = []\n",
    "for i, (S, T) in enumerate(zip(Sn, Tn)):\n",
    "    STn.append((S, T, i))\n",
    "STn_s = sorted(STn, key=lambda x:x[1])"
   ]
  },
  {
   "cell_type": "code",
   "execution_count": 50,
   "id": "5ab6407f-8a99-464a-9cd9-3aa6cc20669a",
   "metadata": {},
   "outputs": [],
   "source": [
    "ans = [10**20] * N\n",
    "for S, T, i in STn_s:\n",
    "    ans[i] = min(T, ans[i-1] + STn[i-1][0])\n"
   ]
  },
  {
   "cell_type": "code",
   "execution_count": 51,
   "id": "d7af721f-a517-415d-855e-6a619578d7e2",
   "metadata": {},
   "outputs": [
    {
     "name": "stdout",
     "output_type": "stream",
     "text": [
      "50\n",
      "22\n",
      "63\n",
      "28\n",
      "44\n",
      "60\n",
      "64\n",
      "27\n"
     ]
    }
   ],
   "source": [
    "print(*ans, sep='\\n')"
   ]
  },
  {
   "cell_type": "code",
   "execution_count": null,
   "id": "00490908-04d1-4784-8200-e54f4e70f665",
   "metadata": {},
   "outputs": [],
   "source": []
  }
 ],
 "metadata": {
  "kernelspec": {
   "display_name": "Python 3",
   "language": "python",
   "name": "python3"
  },
  "language_info": {
   "codemirror_mode": {
    "name": "ipython",
    "version": 3
   },
   "file_extension": ".py",
   "mimetype": "text/x-python",
   "name": "python",
   "nbconvert_exporter": "python",
   "pygments_lexer": "ipython3",
   "version": "3.6.13"
  }
 },
 "nbformat": 4,
 "nbformat_minor": 5
}
