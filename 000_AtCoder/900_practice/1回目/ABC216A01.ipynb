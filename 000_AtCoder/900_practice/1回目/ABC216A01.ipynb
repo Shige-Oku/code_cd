{
 "cells": [
  {
   "cell_type": "code",
   "execution_count": 21,
   "id": "0a93c2a2-97f2-4b41-b583-e5143e97e448",
   "metadata": {},
   "outputs": [
    {
     "name": "stdin",
     "output_type": "stream",
     "text": [
      " 15.8\n"
     ]
    }
   ],
   "source": [
    "X = input()"
   ]
  },
  {
   "cell_type": "code",
   "execution_count": 22,
   "id": "95a6b2f3-6302-4f3c-bd6a-aef3824a8def",
   "metadata": {},
   "outputs": [
    {
     "name": "stdout",
     "output_type": "stream",
     "text": [
      "15+\n"
     ]
    }
   ],
   "source": [
    "x = int(X[:-2])\n",
    "if 0 <= int(X[-1]) <= 2:\n",
    "    print(str(x) + '-')\n",
    "elif 3 <= int(X[-1]) <= 6:\n",
    "    print(x)\n",
    "else:\n",
    "    print(str(x) + '+')\n"
   ]
  },
  {
   "cell_type": "code",
   "execution_count": 23,
   "id": "4a336a3c-12e7-494d-a321-5f5ea4cc56cd",
   "metadata": {},
   "outputs": [
    {
     "data": {
      "text/plain": [
       "15"
      ]
     },
     "execution_count": 23,
     "metadata": {},
     "output_type": "execute_result"
    }
   ],
   "source": [
    "int(X[:-2])"
   ]
  },
  {
   "cell_type": "code",
   "execution_count": 6,
   "id": "f3eaa6a4-48c1-41e7-9ecd-c3538c5b9b26",
   "metadata": {},
   "outputs": [],
   "source": [
    "x = int(float(X))"
   ]
  },
  {
   "cell_type": "code",
   "execution_count": 7,
   "id": "ed4c1f43-7506-45f2-848f-a28f09ffb8ea",
   "metadata": {},
   "outputs": [
    {
     "data": {
      "text/plain": [
       "15"
      ]
     },
     "execution_count": 7,
     "metadata": {},
     "output_type": "execute_result"
    }
   ],
   "source": [
    "x"
   ]
  },
  {
   "cell_type": "code",
   "execution_count": 26,
   "id": "5838af83-f8c2-4e95-b2a6-ef0ad88d803b",
   "metadata": {},
   "outputs": [
    {
     "name": "stdin",
     "output_type": "stream",
     "text": [
      "  15.8\n"
     ]
    }
   ],
   "source": [
    "X, Y = map(int, input().split('.'))"
   ]
  },
  {
   "cell_type": "code",
   "execution_count": 28,
   "id": "8631f17e-ed3a-4d21-a9a3-981b6e0929a7",
   "metadata": {},
   "outputs": [
    {
     "name": "stdout",
     "output_type": "stream",
     "text": [
      "15+\n"
     ]
    }
   ],
   "source": [
    "if 0 <= Y <= 2:\n",
    "    print(str(X) + '-')\n",
    "elif 3 <= Y <= 6:\n",
    "    print(X)\n",
    "else:\n",
    "    print(str(X) + '+')\n",
    "    "
   ]
  },
  {
   "cell_type": "code",
   "execution_count": 27,
   "id": "8c2150f1-956d-49aa-b8fd-e0b026fff6e9",
   "metadata": {},
   "outputs": [
    {
     "data": {
      "text/plain": [
       "(15, 8)"
      ]
     },
     "execution_count": 27,
     "metadata": {},
     "output_type": "execute_result"
    }
   ],
   "source": [
    "X, Y"
   ]
  },
  {
   "cell_type": "code",
   "execution_count": null,
   "id": "69bd82ac-bead-4075-b7cf-16640fb2c2ee",
   "metadata": {},
   "outputs": [],
   "source": []
  }
 ],
 "metadata": {
  "kernelspec": {
   "display_name": "Python 3",
   "language": "python",
   "name": "python3"
  },
  "language_info": {
   "codemirror_mode": {
    "name": "ipython",
    "version": 3
   },
   "file_extension": ".py",
   "mimetype": "text/x-python",
   "name": "python",
   "nbconvert_exporter": "python",
   "pygments_lexer": "ipython3",
   "version": "3.6.13"
  }
 },
 "nbformat": 4,
 "nbformat_minor": 5
}
