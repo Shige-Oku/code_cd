{
 "cells": [
  {
   "cell_type": "code",
   "execution_count": 1,
   "id": "59e6581f-d898-4b92-a51d-188c24ab9bac",
   "metadata": {},
   "outputs": [
    {
     "name": "stdin",
     "output_type": "stream",
     "text": [
      " 3 2\n"
     ]
    }
   ],
   "source": [
    "N, D = map(int, input().split())"
   ]
  },
  {
   "cell_type": "code",
   "execution_count": 2,
   "id": "5912adef-4ef1-4f5f-8182-c749eb6dc4bc",
   "metadata": {},
   "outputs": [
    {
     "name": "stdin",
     "output_type": "stream",
     "text": [
      " 1 2\n",
      " 5 5\n",
      " -2 8\n"
     ]
    }
   ],
   "source": [
    "Xn = [list(map(int, input().split())) for _ in range(N)]"
   ]
  },
  {
   "cell_type": "code",
   "execution_count": 4,
   "id": "7d5d19b6-0b6f-4b86-9dd9-bbf5750f83a2",
   "metadata": {},
   "outputs": [],
   "source": [
    "sq = set(x**2 for x in range(500))"
   ]
  },
  {
   "cell_type": "code",
   "execution_count": 7,
   "id": "43847297-026a-49d3-b16b-1a98c0d47ace",
   "metadata": {},
   "outputs": [],
   "source": [
    "ans = 0\n",
    "for i in range(N-1):\n",
    "    X1 = Xn[i]\n",
    "    for j in range(i+1, N):\n",
    "        X2 = Xn[j]\n",
    "        dis = 0\n",
    "        for x1, x2 in zip(X1, X2):\n",
    "            dis += (x1 - x2) ** 2\n",
    "        if dis in sq:\n",
    "            ans += 1"
   ]
  },
  {
   "cell_type": "code",
   "execution_count": null,
   "id": "1f3290bd-2bdc-4434-b14b-35a322a759aa",
   "metadata": {},
   "outputs": [],
   "source": []
  },
  {
   "cell_type": "code",
   "execution_count": 8,
   "id": "b63e505c-ebef-4936-b836-8b6ad696867a",
   "metadata": {},
   "outputs": [
    {
     "name": "stdout",
     "output_type": "stream",
     "text": [
      "1\n"
     ]
    }
   ],
   "source": [
    "print(ans)"
   ]
  },
  {
   "cell_type": "code",
   "execution_count": 9,
   "id": "ccc2c754-2be9-4c6d-bd65-6290cc83a010",
   "metadata": {},
   "outputs": [],
   "source": [
    "import math"
   ]
  },
  {
   "cell_type": "code",
   "execution_count": 10,
   "id": "a0dafb67-dcdd-4405-98b5-e26f0016bde0",
   "metadata": {},
   "outputs": [],
   "source": [
    "ans = 0\n",
    "for i in range(N-1):\n",
    "    X1 = Xn[i]\n",
    "    for j in range(i+1, N):\n",
    "        X2 = Xn[j]\n",
    "        dis = 0\n",
    "        for x1, x2 in zip(X1, X2):\n",
    "            dis += (x1 - x2) ** 2\n",
    "        if math.sqrt(dis) == math.floor(math.sqrt(dis)):\n",
    "            ans += 1"
   ]
  },
  {
   "cell_type": "code",
   "execution_count": 11,
   "id": "fce20bbc-6b31-4c79-acd7-8ef80e6d4b1a",
   "metadata": {},
   "outputs": [
    {
     "name": "stdout",
     "output_type": "stream",
     "text": [
      "1\n"
     ]
    }
   ],
   "source": [
    "print(ans)"
   ]
  },
  {
   "cell_type": "code",
   "execution_count": null,
   "id": "43434f1d-0cfc-46dc-af9e-8cf9e2bc4962",
   "metadata": {},
   "outputs": [],
   "source": []
  }
 ],
 "metadata": {
  "kernelspec": {
   "display_name": "Python 3",
   "language": "python",
   "name": "python3"
  },
  "language_info": {
   "codemirror_mode": {
    "name": "ipython",
    "version": 3
   },
   "file_extension": ".py",
   "mimetype": "text/x-python",
   "name": "python",
   "nbconvert_exporter": "python",
   "pygments_lexer": "ipython3",
   "version": "3.6.13"
  }
 },
 "nbformat": 4,
 "nbformat_minor": 5
}
