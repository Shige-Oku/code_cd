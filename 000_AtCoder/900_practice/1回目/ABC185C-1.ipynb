{
 "cells": [
  {
   "cell_type": "code",
   "execution_count": 2,
   "id": "00d7e13e-c97e-4470-880f-d7163421d251",
   "metadata": {},
   "outputs": [],
   "source": [
    "from scipy.special import comb"
   ]
  },
  {
   "cell_type": "code",
   "execution_count": 6,
   "id": "2ed3ae2f-37f9-4fa3-95af-f0107318fb1f",
   "metadata": {},
   "outputs": [
    {
     "name": "stdin",
     "output_type": "stream",
     "text": [
      " 17\n"
     ]
    }
   ],
   "source": [
    "L = int(input())"
   ]
  },
  {
   "cell_type": "code",
   "execution_count": 7,
   "id": "704cd999-4797-43c6-a46d-25ae96ddb7c6",
   "metadata": {},
   "outputs": [
    {
     "name": "stdout",
     "output_type": "stream",
     "text": [
      "4368\n"
     ]
    }
   ],
   "source": [
    "print(comb(L-1, 11, exact=True))"
   ]
  },
  {
   "cell_type": "code",
   "execution_count": 8,
   "id": "2e0bce60-ecbc-4faa-9c83-4ab6bf05e9f4",
   "metadata": {},
   "outputs": [],
   "source": [
    "# 組合せの数を算出\n",
    "import math\n",
    "def nCr(n, r):\n",
    "    return math.factorial(n) // (math.factorial(n-r) * math.factorial(r))"
   ]
  },
  {
   "cell_type": "code",
   "execution_count": 9,
   "id": "28977339-b987-4101-ac16-44c46b5a0a41",
   "metadata": {},
   "outputs": [
    {
     "name": "stdout",
     "output_type": "stream",
     "text": [
      "4368\n"
     ]
    }
   ],
   "source": [
    "print(nCr(L-1, 11))"
   ]
  },
  {
   "cell_type": "code",
   "execution_count": null,
   "id": "2b38827e-80b4-4862-8dc2-2361032bce46",
   "metadata": {},
   "outputs": [],
   "source": []
  }
 ],
 "metadata": {
  "kernelspec": {
   "display_name": "Python 3",
   "language": "python",
   "name": "python3"
  },
  "language_info": {
   "codemirror_mode": {
    "name": "ipython",
    "version": 3
   },
   "file_extension": ".py",
   "mimetype": "text/x-python",
   "name": "python",
   "nbconvert_exporter": "python",
   "pygments_lexer": "ipython3",
   "version": "3.6.13"
  }
 },
 "nbformat": 4,
 "nbformat_minor": 5
}
