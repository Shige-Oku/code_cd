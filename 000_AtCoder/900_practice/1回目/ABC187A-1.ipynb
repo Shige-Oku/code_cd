{
 "cells": [
  {
   "cell_type": "code",
   "execution_count": 10,
   "id": "5b8ff912-2aeb-47a2-8dd4-5deaa1386ba7",
   "metadata": {},
   "outputs": [
    {
     "name": "stdin",
     "output_type": "stream",
     "text": [
      " 100 999\n"
     ]
    }
   ],
   "source": [
    "A, B = input().split()"
   ]
  },
  {
   "cell_type": "code",
   "execution_count": 11,
   "id": "1e38d7cc-fa5f-44c0-95cf-04fe0a5128e4",
   "metadata": {},
   "outputs": [],
   "source": [
    "sa = sum(int(a) for a in A)\n",
    "sb = sum(int(b) for b in B)"
   ]
  },
  {
   "cell_type": "code",
   "execution_count": 12,
   "id": "7ad182d0-5034-4f4f-8309-f8e7e75fac4d",
   "metadata": {},
   "outputs": [
    {
     "name": "stdout",
     "output_type": "stream",
     "text": [
      "27\n"
     ]
    }
   ],
   "source": [
    "print(max(sa, sb))"
   ]
  },
  {
   "cell_type": "code",
   "execution_count": null,
   "id": "90438135-5872-4333-9fe7-ab71a783f26c",
   "metadata": {},
   "outputs": [],
   "source": []
  }
 ],
 "metadata": {
  "kernelspec": {
   "display_name": "Python 3",
   "language": "python",
   "name": "python3"
  },
  "language_info": {
   "codemirror_mode": {
    "name": "ipython",
    "version": 3
   },
   "file_extension": ".py",
   "mimetype": "text/x-python",
   "name": "python",
   "nbconvert_exporter": "python",
   "pygments_lexer": "ipython3",
   "version": "3.6.13"
  }
 },
 "nbformat": 4,
 "nbformat_minor": 5
}
