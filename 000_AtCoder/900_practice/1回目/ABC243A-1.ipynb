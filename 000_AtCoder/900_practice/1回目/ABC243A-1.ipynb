{
 "cells": [
  {
   "cell_type": "code",
   "execution_count": 19,
   "id": "67094986-166f-469e-9ef1-acd769876285",
   "metadata": {},
   "outputs": [
    {
     "name": "stdin",
     "output_type": "stream",
     "text": [
      " 100000 1 1 1\n"
     ]
    }
   ],
   "source": [
    "V, A, B, C = map(int, input().split())"
   ]
  },
  {
   "cell_type": "code",
   "execution_count": 20,
   "id": "253f586e-ff20-4abf-be44-a65e8e24b5da",
   "metadata": {},
   "outputs": [
    {
     "name": "stdout",
     "output_type": "stream",
     "text": [
      "M\n"
     ]
    }
   ],
   "source": [
    "r = V % (A+B+C)\n",
    "if r < A:\n",
    "    print('F')\n",
    "elif r - A < B:\n",
    "    print('M')\n",
    "else:\n",
    "    print('T')"
   ]
  },
  {
   "cell_type": "code",
   "execution_count": 21,
   "id": "66822832-504c-415c-a817-3644d7b57c86",
   "metadata": {},
   "outputs": [
    {
     "data": {
      "text/plain": [
       "1"
      ]
     },
     "execution_count": 21,
     "metadata": {},
     "output_type": "execute_result"
    }
   ],
   "source": [
    "r"
   ]
  },
  {
   "cell_type": "code",
   "execution_count": 22,
   "id": "d0baffc8-d56f-49fc-975a-1506d5cc74a1",
   "metadata": {},
   "outputs": [
    {
     "name": "stdout",
     "output_type": "stream",
     "text": [
      "M\n"
     ]
    }
   ],
   "source": [
    "v = V\n",
    "while True:\n",
    "    if v < A:\n",
    "        print('F')\n",
    "        break\n",
    "    v -= A\n",
    "    if v < B:\n",
    "        print('M')\n",
    "        break\n",
    "    v -= B\n",
    "    if v < C:\n",
    "        print('T')\n",
    "        break\n",
    "    v -= C"
   ]
  },
  {
   "cell_type": "code",
   "execution_count": null,
   "id": "b3936ede-fb3d-4417-bd49-27d46475500d",
   "metadata": {},
   "outputs": [],
   "source": []
  },
  {
   "cell_type": "code",
   "execution_count": null,
   "id": "9b213456-abe0-4fc5-aab3-e836b943704a",
   "metadata": {},
   "outputs": [],
   "source": []
  }
 ],
 "metadata": {
  "kernelspec": {
   "display_name": "Python 3",
   "language": "python",
   "name": "python3"
  },
  "language_info": {
   "codemirror_mode": {
    "name": "ipython",
    "version": 3
   },
   "file_extension": ".py",
   "mimetype": "text/x-python",
   "name": "python",
   "nbconvert_exporter": "python",
   "pygments_lexer": "ipython3",
   "version": "3.6.13"
  }
 },
 "nbformat": 4,
 "nbformat_minor": 5
}
