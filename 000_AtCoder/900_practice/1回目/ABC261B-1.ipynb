{
 "cells": [
  {
   "cell_type": "code",
   "execution_count": 11,
   "id": "ccf8821a-0bd8-4cf7-baa7-cf6bd9565128",
   "metadata": {},
   "outputs": [
    {
     "name": "stdin",
     "output_type": "stream",
     "text": [
      " 2\n"
     ]
    }
   ],
   "source": [
    "N = int(input())"
   ]
  },
  {
   "cell_type": "code",
   "execution_count": 12,
   "id": "82f813a2-3163-459c-af1b-198370bc69c4",
   "metadata": {},
   "outputs": [
    {
     "name": "stdin",
     "output_type": "stream",
     "text": [
      " -D\n",
      " D-\n"
     ]
    }
   ],
   "source": [
    "An = [input() for _ in range(N)]"
   ]
  },
  {
   "cell_type": "code",
   "execution_count": 15,
   "id": "7948173e-61ad-40ee-924e-e2530bb840e9",
   "metadata": {},
   "outputs": [],
   "source": [
    "flg = True\n",
    "for h in range(N):\n",
    "    for w in range(N):\n",
    "        if h == w:\n",
    "            continue\n",
    "        if An[h][w] == 'W':\n",
    "            if An[w][h] != 'L':\n",
    "                flg = False\n",
    "        if An[h][w] == 'L':\n",
    "            if An[w][h] != 'W':\n",
    "                flg = False\n",
    "        if An[h][w] == 'D':\n",
    "            if An[w][h] != 'D':\n",
    "                flg = False\n",
    "        "
   ]
  },
  {
   "cell_type": "code",
   "execution_count": 16,
   "id": "86b87ebe-74dd-41e3-8f72-197817c99cab",
   "metadata": {},
   "outputs": [
    {
     "name": "stdout",
     "output_type": "stream",
     "text": [
      "correct\n"
     ]
    }
   ],
   "source": [
    "print('correct' if flg else 'incorrect')"
   ]
  },
  {
   "cell_type": "code",
   "execution_count": null,
   "id": "de4c8faf-faea-4ef0-a5a0-99e63ee9ed35",
   "metadata": {},
   "outputs": [],
   "source": []
  }
 ],
 "metadata": {
  "kernelspec": {
   "display_name": "Python 3",
   "language": "python",
   "name": "python3"
  },
  "language_info": {
   "codemirror_mode": {
    "name": "ipython",
    "version": 3
   },
   "file_extension": ".py",
   "mimetype": "text/x-python",
   "name": "python",
   "nbconvert_exporter": "python",
   "pygments_lexer": "ipython3",
   "version": "3.6.13"
  }
 },
 "nbformat": 4,
 "nbformat_minor": 5
}
