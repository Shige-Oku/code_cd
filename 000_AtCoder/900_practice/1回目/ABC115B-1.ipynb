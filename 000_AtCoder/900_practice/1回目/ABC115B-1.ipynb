{
 "cells": [
  {
   "cell_type": "code",
   "execution_count": 1,
   "id": "e785a66f-72c2-44f7-9326-d74d70769312",
   "metadata": {},
   "outputs": [
    {
     "name": "stdin",
     "output_type": "stream",
     "text": [
      " 3\n"
     ]
    }
   ],
   "source": [
    "N = int(input())"
   ]
  },
  {
   "cell_type": "code",
   "execution_count": 2,
   "id": "ba5fde19-df7c-4f6f-bd0c-d5d320ecc006",
   "metadata": {},
   "outputs": [
    {
     "name": "stdin",
     "output_type": "stream",
     "text": [
      " 4980\n",
      " 7980\n",
      " 6980\n"
     ]
    }
   ],
   "source": [
    "Pn = [int(input()) for _ in range(N)]"
   ]
  },
  {
   "cell_type": "code",
   "execution_count": 3,
   "id": "88c5de26-56a2-4de1-8a63-c1b274cc40d4",
   "metadata": {},
   "outputs": [
    {
     "name": "stdout",
     "output_type": "stream",
     "text": [
      "15950\n"
     ]
    }
   ],
   "source": [
    "print(sum(Pn)-max(Pn)//2)"
   ]
  },
  {
   "cell_type": "code",
   "execution_count": null,
   "id": "6fe5ae83-6cd7-47c6-9069-e1c97427f99a",
   "metadata": {},
   "outputs": [],
   "source": []
  }
 ],
 "metadata": {
  "kernelspec": {
   "display_name": "Python 3",
   "language": "python",
   "name": "python3"
  },
  "language_info": {
   "codemirror_mode": {
    "name": "ipython",
    "version": 3
   },
   "file_extension": ".py",
   "mimetype": "text/x-python",
   "name": "python",
   "nbconvert_exporter": "python",
   "pygments_lexer": "ipython3",
   "version": "3.6.13"
  }
 },
 "nbformat": 4,
 "nbformat_minor": 5
}
