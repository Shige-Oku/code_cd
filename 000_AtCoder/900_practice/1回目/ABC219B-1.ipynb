{
 "cells": [
  {
   "cell_type": "code",
   "execution_count": 1,
   "id": "ba6296d4-1192-48fb-ae67-ee0e85e52c33",
   "metadata": {},
   "outputs": [
    {
     "name": "stdin",
     "output_type": "stream",
     "text": [
      " mari\n",
      " to\n",
      " zzo\n"
     ]
    }
   ],
   "source": [
    "Sn = [input() for _ in range(3)]"
   ]
  },
  {
   "cell_type": "code",
   "execution_count": 2,
   "id": "ba337916-fdc5-42bd-bed2-90095e583a71",
   "metadata": {},
   "outputs": [
    {
     "name": "stdin",
     "output_type": "stream",
     "text": [
      " 1321\n"
     ]
    }
   ],
   "source": [
    "T = input()"
   ]
  },
  {
   "cell_type": "code",
   "execution_count": 6,
   "id": "bc5740da-dd68-41c9-a324-3605d2d521b7",
   "metadata": {},
   "outputs": [
    {
     "name": "stdout",
     "output_type": "stream",
     "text": [
      "marizzotomari"
     ]
    }
   ],
   "source": [
    "for t in T:\n",
    "    t = int(t)-1\n",
    "    print(Sn[t], sep='', end='')"
   ]
  },
  {
   "cell_type": "code",
   "execution_count": null,
   "id": "26d02715-cb9b-44e2-8214-692d39cf272e",
   "metadata": {},
   "outputs": [],
   "source": []
  }
 ],
 "metadata": {
  "kernelspec": {
   "display_name": "Python 3",
   "language": "python",
   "name": "python3"
  },
  "language_info": {
   "codemirror_mode": {
    "name": "ipython",
    "version": 3
   },
   "file_extension": ".py",
   "mimetype": "text/x-python",
   "name": "python",
   "nbconvert_exporter": "python",
   "pygments_lexer": "ipython3",
   "version": "3.6.13"
  }
 },
 "nbformat": 4,
 "nbformat_minor": 5
}
