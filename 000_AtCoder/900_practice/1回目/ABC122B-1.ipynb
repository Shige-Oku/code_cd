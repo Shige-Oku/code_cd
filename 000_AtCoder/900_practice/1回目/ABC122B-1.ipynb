{
 "cells": [
  {
   "cell_type": "code",
   "execution_count": 7,
   "id": "972584e5-f902-4bb4-a352-82c9e0949994",
   "metadata": {},
   "outputs": [
    {
     "name": "stdin",
     "output_type": "stream",
     "text": [
      " SHINJUKU\n"
     ]
    }
   ],
   "source": [
    "S = input()"
   ]
  },
  {
   "cell_type": "code",
   "execution_count": 8,
   "id": "bd939bd2-403c-4260-9422-9215b3e0db9c",
   "metadata": {},
   "outputs": [],
   "source": [
    "ans = 0\n",
    "c = 0\n",
    "for s in S:\n",
    "    if s in ('A', 'C', 'G', 'T'):\n",
    "        c += 1\n",
    "    else:\n",
    "        ans = max(ans, c)\n",
    "        c = 0\n",
    "else:\n",
    "    ans = max(ans, c)"
   ]
  },
  {
   "cell_type": "code",
   "execution_count": 9,
   "id": "36310ecf-6473-4cbd-9a5d-cfd16911e703",
   "metadata": {},
   "outputs": [
    {
     "name": "stdout",
     "output_type": "stream",
     "text": [
      "0\n"
     ]
    }
   ],
   "source": [
    "print(ans)"
   ]
  },
  {
   "cell_type": "code",
   "execution_count": null,
   "id": "02cb64b0-c608-4555-b118-f1e9d271fe85",
   "metadata": {},
   "outputs": [],
   "source": []
  }
 ],
 "metadata": {
  "kernelspec": {
   "display_name": "Python 3",
   "language": "python",
   "name": "python3"
  },
  "language_info": {
   "codemirror_mode": {
    "name": "ipython",
    "version": 3
   },
   "file_extension": ".py",
   "mimetype": "text/x-python",
   "name": "python",
   "nbconvert_exporter": "python",
   "pygments_lexer": "ipython3",
   "version": "3.6.13"
  }
 },
 "nbformat": 4,
 "nbformat_minor": 5
}
