{
 "cells": [
  {
   "cell_type": "code",
   "execution_count": 10,
   "id": "c1ea345f-455a-47ba-bbe8-f9b5c28efccb",
   "metadata": {},
   "outputs": [
    {
     "name": "stdin",
     "output_type": "stream",
     "text": [
      " 1 2 1 1000\n"
     ]
    }
   ],
   "source": [
    "A, B, C, X = map(int, input().split())"
   ]
  },
  {
   "cell_type": "code",
   "execution_count": 11,
   "id": "f4a25642-c020-4455-93a2-d5ac4a74343b",
   "metadata": {},
   "outputs": [
    {
     "name": "stdout",
     "output_type": "stream",
     "text": [
      "0\n"
     ]
    }
   ],
   "source": [
    "if X <= A:\n",
    "    print(1)\n",
    "elif X <= B:\n",
    "    print(C / (B - A))\n",
    "else:\n",
    "    print(0)"
   ]
  },
  {
   "cell_type": "code",
   "execution_count": 6,
   "id": "422d32a1-eabe-453e-a6c2-deaeb5ac1697",
   "metadata": {},
   "outputs": [
    {
     "data": {
      "text/plain": [
       "0.0425531914893617"
      ]
     },
     "execution_count": 6,
     "metadata": {},
     "output_type": "execute_result"
    }
   ],
   "source": [
    "20/470"
   ]
  },
  {
   "cell_type": "code",
   "execution_count": null,
   "id": "64d8bb77-e97e-43f9-8845-86d83d825938",
   "metadata": {},
   "outputs": [],
   "source": []
  }
 ],
 "metadata": {
  "kernelspec": {
   "display_name": "Python 3",
   "language": "python",
   "name": "python3"
  },
  "language_info": {
   "codemirror_mode": {
    "name": "ipython",
    "version": 3
   },
   "file_extension": ".py",
   "mimetype": "text/x-python",
   "name": "python",
   "nbconvert_exporter": "python",
   "pygments_lexer": "ipython3",
   "version": "3.6.13"
  }
 },
 "nbformat": 4,
 "nbformat_minor": 5
}
