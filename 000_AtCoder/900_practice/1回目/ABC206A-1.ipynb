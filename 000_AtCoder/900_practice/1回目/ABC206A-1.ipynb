{
 "cells": [
  {
   "cell_type": "code",
   "execution_count": 12,
   "id": "13a66977-04f9-4821-a922-0bbab585e6d9",
   "metadata": {},
   "outputs": [
    {
     "name": "stdin",
     "output_type": "stream",
     "text": [
      " 200\n"
     ]
    }
   ],
   "source": [
    "N = int(input())"
   ]
  },
  {
   "cell_type": "code",
   "execution_count": 13,
   "id": "db58ddf4-6e70-4dfb-9cfe-7009d1bc006a",
   "metadata": {},
   "outputs": [
    {
     "name": "stdout",
     "output_type": "stream",
     "text": [
      ":(\n"
     ]
    }
   ],
   "source": [
    "m = int(N * 1.08)\n",
    "if m < 206:\n",
    "    print('Yay!')\n",
    "elif m == 206:\n",
    "    print('so-so')\n",
    "else:\n",
    "    print(':(')"
   ]
  },
  {
   "cell_type": "code",
   "execution_count": 9,
   "id": "44e64184-ceba-4111-823d-b7de8e0fbb8a",
   "metadata": {},
   "outputs": [
    {
     "data": {
      "text/plain": [
       "206"
      ]
     },
     "execution_count": 9,
     "metadata": {},
     "output_type": "execute_result"
    }
   ],
   "source": [
    "m"
   ]
  },
  {
   "cell_type": "code",
   "execution_count": 14,
   "id": "95d685ce-2b5a-4a60-b778-feb15b5f9483",
   "metadata": {},
   "outputs": [],
   "source": [
    "m = N * 108 // 100"
   ]
  },
  {
   "cell_type": "code",
   "execution_count": null,
   "id": "4f645002-99d3-461a-ae7b-1854e1f14463",
   "metadata": {},
   "outputs": [],
   "source": []
  }
 ],
 "metadata": {
  "kernelspec": {
   "display_name": "Python 3",
   "language": "python",
   "name": "python3"
  },
  "language_info": {
   "codemirror_mode": {
    "name": "ipython",
    "version": 3
   },
   "file_extension": ".py",
   "mimetype": "text/x-python",
   "name": "python",
   "nbconvert_exporter": "python",
   "pygments_lexer": "ipython3",
   "version": "3.6.13"
  }
 },
 "nbformat": 4,
 "nbformat_minor": 5
}
