{
 "cells": [
  {
   "cell_type": "code",
   "execution_count": 1,
   "id": "76e0b7ac-a863-41d8-a0e2-1e00e5cdf884",
   "metadata": {},
   "outputs": [
    {
     "name": "stdin",
     "output_type": "stream",
     "text": [
      " 2 3 4\n"
     ]
    }
   ],
   "source": [
    "A, B, Q = map(int, input().split())"
   ]
  },
  {
   "cell_type": "code",
   "execution_count": 2,
   "id": "9eee5601-9c9e-4f9f-aca4-c03b0c3356dc",
   "metadata": {},
   "outputs": [
    {
     "name": "stdin",
     "output_type": "stream",
     "text": [
      " 100\n",
      " 600\n"
     ]
    }
   ],
   "source": [
    "Sn = [int(input()) for _ in range(A)]"
   ]
  },
  {
   "cell_type": "code",
   "execution_count": 11,
   "id": "94a3ef5c-d46f-45f7-b10b-e1b028edab73",
   "metadata": {},
   "outputs": [
    {
     "name": "stdin",
     "output_type": "stream",
     "text": [
      " 400\n",
      " 900\n",
      " 1000\n"
     ]
    }
   ],
   "source": [
    "Tn = [int(input()) for _ in range(B)]"
   ]
  },
  {
   "cell_type": "code",
   "execution_count": 4,
   "id": "9dd2246d-8c94-4422-9e30-395625150a7e",
   "metadata": {},
   "outputs": [
    {
     "name": "stdin",
     "output_type": "stream",
     "text": [
      " 150\n",
      " 2000\n",
      " 899\n",
      " 799\n"
     ]
    }
   ],
   "source": [
    "Qn = [int(input()) for _ in range(Q)] "
   ]
  },
  {
   "cell_type": "code",
   "execution_count": 15,
   "id": "8fb92ab4-06e5-40a5-bda3-7bc46bf87eb4",
   "metadata": {},
   "outputs": [
    {
     "name": "stdout",
     "output_type": "stream",
     "text": [
      "350\n",
      "1400\n",
      "301\n",
      "399\n"
     ]
    }
   ],
   "source": [
    "from bisect import bisect_left\n",
    "for q in Qn:\n",
    "    c = 10**20\n",
    "    si = bisect_left(Sn, q)\n",
    "    if si < A:\n",
    "        ti = bisect_left(Tn, Sn[si])\n",
    "        if ti < B:\n",
    "            c = min(c, abs(q-Sn[si])+abs(Sn[si]-Tn[ti]))\n",
    "        if ti > 0:\n",
    "            c = min(c, abs(q-Sn[si])+abs(Sn[si]-Tn[ti-1]))\n",
    "    if si > 0:\n",
    "        ti = bisect_left(Tn, Sn[si-1])\n",
    "        if ti < B:\n",
    "            c = min(c, abs(q-Sn[si-1])+abs(Sn[si-1]-Tn[ti]))\n",
    "        if ti > 0:\n",
    "            c = min(c, abs(q-Sn[si-1])+abs(Sn[si-1]-Tn[ti-1]))\n",
    "    ti = bisect_left(Tn, q)\n",
    "    if ti < B:\n",
    "        si = bisect_left(Sn, Tn[ti])\n",
    "        if si < A:\n",
    "            c = min(c, abs(q-Tn[ti])+abs(Tn[ti]-Sn[si]))\n",
    "        if si > 0:\n",
    "            c = min(c, abs(q-Tn[ti])+abs(Tn[ti]-Sn[si-1]))\n",
    "    if ti > 0:\n",
    "        si = bisect_left(Sn, Tn[ti-1])\n",
    "        if si < A:\n",
    "            c = min(c, abs(q-Tn[ti-1])+abs(Tn[ti-1]-Sn[si]))\n",
    "        if si > 0:\n",
    "            c = min(c, abs(q-Tn[ti-1])+abs(Tn[ti-1]-Sn[si-1]))\n",
    "    print(c)"
   ]
  },
  {
   "cell_type": "code",
   "execution_count": 14,
   "id": "28e80130-e5b2-47e5-8248-b8a6dd35415c",
   "metadata": {},
   "outputs": [
    {
     "data": {
      "text/plain": [
       "(3, 2)"
      ]
     },
     "execution_count": 14,
     "metadata": {},
     "output_type": "execute_result"
    }
   ],
   "source": [
    "ti, si"
   ]
  },
  {
   "cell_type": "code",
   "execution_count": null,
   "id": "56e54b48-8b62-4822-a4d4-6afaa3f7a830",
   "metadata": {},
   "outputs": [],
   "source": []
  }
 ],
 "metadata": {
  "kernelspec": {
   "display_name": "Python 3",
   "language": "python",
   "name": "python3"
  },
  "language_info": {
   "codemirror_mode": {
    "name": "ipython",
    "version": 3
   },
   "file_extension": ".py",
   "mimetype": "text/x-python",
   "name": "python",
   "nbconvert_exporter": "python",
   "pygments_lexer": "ipython3",
   "version": "3.6.13"
  }
 },
 "nbformat": 4,
 "nbformat_minor": 5
}
