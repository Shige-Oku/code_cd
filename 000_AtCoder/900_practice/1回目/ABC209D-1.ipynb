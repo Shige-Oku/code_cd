{
 "cells": [
  {
   "cell_type": "code",
   "execution_count": 1,
   "id": "8ff61163-c196-45c3-a647-08c6bafd942e",
   "metadata": {},
   "outputs": [
    {
     "name": "stdin",
     "output_type": "stream",
     "text": [
      " 4 1\n"
     ]
    }
   ],
   "source": [
    "N, Q = map(int, input().split())"
   ]
  },
  {
   "cell_type": "code",
   "execution_count": 2,
   "id": "8a7dfa09-9382-47b5-b721-204532b2fb62",
   "metadata": {},
   "outputs": [
    {
     "name": "stdin",
     "output_type": "stream",
     "text": [
      " 1 2\n",
      " 2 3\n",
      " 2 4\n"
     ]
    }
   ],
   "source": [
    "ABn = [list(map(int, input().split())) for _ in range(N-1)]"
   ]
  },
  {
   "cell_type": "code",
   "execution_count": 3,
   "id": "1b7b9c56-49b6-4f92-997c-cfc9fd35f764",
   "metadata": {},
   "outputs": [
    {
     "name": "stdin",
     "output_type": "stream",
     "text": [
      " 1 2\n"
     ]
    }
   ],
   "source": [
    "CDn = [list(map(int, input().split())) for _ in range(Q)]"
   ]
  },
  {
   "cell_type": "code",
   "execution_count": 5,
   "id": "9a935a9f-c9a6-47e7-95c7-e30c9986b209",
   "metadata": {},
   "outputs": [],
   "source": [
    "graph = [[] for _ in range(N+1)]\n",
    "for A, B in ABn:\n",
    "    graph[A].append(B)\n",
    "    graph[B].append(A)"
   ]
  },
  {
   "cell_type": "code",
   "execution_count": 4,
   "id": "d71d80c3-f2a9-4759-bf2d-48f1902e328c",
   "metadata": {},
   "outputs": [],
   "source": [
    "from collections import deque"
   ]
  },
  {
   "cell_type": "code",
   "execution_count": 6,
   "id": "1ab463f0-d735-4aa1-9a22-ee4efb7ea41e",
   "metadata": {},
   "outputs": [],
   "source": [
    "dist = [-1] * (N+1)\n",
    "q = deque()\n",
    "q.append(1)\n",
    "dist[1] = 0\n",
    "while q:\n",
    "    p = q.popleft()\n",
    "    for g in graph[p]:\n",
    "        if dist[g] != -1:\n",
    "            continue\n",
    "        dist[g] = dist[p] + 1\n",
    "        q.append(g)"
   ]
  },
  {
   "cell_type": "code",
   "execution_count": 12,
   "id": "51e7978e-64be-408d-8381-05ad433bd05b",
   "metadata": {},
   "outputs": [
    {
     "name": "stdout",
     "output_type": "stream",
     "text": [
      "Road\n"
     ]
    }
   ],
   "source": [
    "for C, D in CDn:\n",
    "    if dist[C] % 2 == dist[D] % 2:\n",
    "        print('town')\n",
    "    else:\n",
    "        print('Road')"
   ]
  },
  {
   "cell_type": "code",
   "execution_count": 11,
   "id": "e06058c7-d73a-4acc-a99a-1e8665db6ae4",
   "metadata": {},
   "outputs": [
    {
     "data": {
      "text/plain": [
       "(0, 1)"
      ]
     },
     "execution_count": 11,
     "metadata": {},
     "output_type": "execute_result"
    }
   ],
   "source": [
    "dist[1], dist[2]"
   ]
  },
  {
   "cell_type": "code",
   "execution_count": null,
   "id": "c158460b-13cc-47bd-8abb-94a63a6e78db",
   "metadata": {},
   "outputs": [],
   "source": []
  }
 ],
 "metadata": {
  "kernelspec": {
   "display_name": "Python 3",
   "language": "python",
   "name": "python3"
  },
  "language_info": {
   "codemirror_mode": {
    "name": "ipython",
    "version": 3
   },
   "file_extension": ".py",
   "mimetype": "text/x-python",
   "name": "python",
   "nbconvert_exporter": "python",
   "pygments_lexer": "ipython3",
   "version": "3.6.13"
  }
 },
 "nbformat": 4,
 "nbformat_minor": 5
}
