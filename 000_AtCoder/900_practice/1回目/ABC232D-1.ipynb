{
 "cells": [
  {
   "cell_type": "code",
   "execution_count": 1,
   "id": "f21243b0-5c25-4a32-991f-85b84b6283bd",
   "metadata": {},
   "outputs": [
    {
     "name": "stdin",
     "output_type": "stream",
     "text": [
      " 3 4\n"
     ]
    }
   ],
   "source": [
    "H, W = map(int, input().split())"
   ]
  },
  {
   "cell_type": "code",
   "execution_count": 2,
   "id": "3ba1b2a8-f2ce-4c6c-b666-6859c9c6eb78",
   "metadata": {},
   "outputs": [
    {
     "name": "stdin",
     "output_type": "stream",
     "text": [
      " .#..\n",
      " ..#.\n",
      " ..##\n"
     ]
    }
   ],
   "source": [
    "Cn = [input() for _ in range(H)]"
   ]
  },
  {
   "cell_type": "code",
   "execution_count": 14,
   "id": "2ab1050c-01b2-4b62-8802-24e7c80205a5",
   "metadata": {},
   "outputs": [],
   "source": [
    "from collections import deque\n",
    "import itertools\n",
    "ans = [[0]* W for _ in range(H)]\n",
    "ans[0][0] = 1\n",
    "q = deque()\n",
    "q.append((0, 0))\n",
    "while q:\n",
    "    x, y = q.popleft()\n",
    "    if x+1 < H:\n",
    "        if Cn[x+1][y] == '.':\n",
    "            if ans[x][y] + 1 > ans[x+1][y]:\n",
    "                ans[x+1][y] = ans[x][y] + 1\n",
    "                q.append((x+1, y))\n",
    "    if y+1 < W:\n",
    "        if Cn[x][y+1] == '.':\n",
    "            if ans[x][y+1] + 1 > ans[x][y+1]:\n",
    "                ans[x][y+1] = ans[x][y] + 1\n",
    "                q.append((x, y+1))\n",
    "            "
   ]
  },
  {
   "cell_type": "code",
   "execution_count": 15,
   "id": "9d973962-7d3b-4d63-aebc-5a9a17c2d5a6",
   "metadata": {},
   "outputs": [
    {
     "name": "stdout",
     "output_type": "stream",
     "text": [
      "4\n"
     ]
    }
   ],
   "source": [
    "print(max(itertools.chain.from_iterable(ans)))"
   ]
  },
  {
   "cell_type": "code",
   "execution_count": 29,
   "id": "378ffc77-2fee-41ad-a4ae-465d660f99cd",
   "metadata": {},
   "outputs": [],
   "source": [
    "dp = [[-10**20] * (W+1) for _ in range(H+1)]\n",
    "dp[0][0], dp[0][1], dp[0][1] = 0, 0, 0\n",
    "for h in range(1, H+1):\n",
    "    for w in range(1, W+1):\n",
    "        if Cn[h-1][w-1] == '#':\n",
    "            continue\n",
    "        dp[h][w] = max(dp[h-1][w], dp[h][w-1]) + 1"
   ]
  },
  {
   "cell_type": "code",
   "execution_count": 30,
   "id": "ad7bd61e-0a25-4240-9edf-3039969f11f1",
   "metadata": {},
   "outputs": [
    {
     "name": "stdout",
     "output_type": "stream",
     "text": [
      "4\n"
     ]
    }
   ],
   "source": [
    "import itertools\n",
    "print(max(itertools.chain.from_iterable(dp)))"
   ]
  },
  {
   "cell_type": "code",
   "execution_count": null,
   "id": "d57ecbe3-d7d8-4b19-91bd-abe51cc3a1fc",
   "metadata": {},
   "outputs": [],
   "source": [
    "# 解説を読んで実装"
   ]
  },
  {
   "cell_type": "code",
   "execution_count": 33,
   "id": "964e27b7-a41f-46a2-96f6-6864b660ffd3",
   "metadata": {},
   "outputs": [],
   "source": [
    "dp = [[0] * (W+1) for _ in range(H+1)]\n",
    "for h in range(H-1, -1, -1):\n",
    "    for w in range(W-1, -1, -1):\n",
    "        if Cn[h][w] == '#':\n",
    "            continue\n",
    "        dp[h][w] = max(dp[h+1][w], dp[h][w+1]) + 1"
   ]
  },
  {
   "cell_type": "code",
   "execution_count": 36,
   "id": "060def7d-2492-4c30-b100-d58331ec0cd7",
   "metadata": {},
   "outputs": [
    {
     "name": "stdout",
     "output_type": "stream",
     "text": [
      "4\n"
     ]
    }
   ],
   "source": [
    "import itertools\n",
    "print(dp[0][0])"
   ]
  },
  {
   "cell_type": "code",
   "execution_count": 32,
   "id": "2128bee1-2eba-4b2a-836d-4473e1a8f063",
   "metadata": {},
   "outputs": [
    {
     "data": {
      "text/plain": [
       "(2, 1)"
      ]
     },
     "execution_count": 32,
     "metadata": {},
     "output_type": "execute_result"
    }
   ],
   "source": [
    "h, w"
   ]
  },
  {
   "cell_type": "code",
   "execution_count": null,
   "id": "1b8b7ed2-3c9f-48ac-bb7c-6c3cecd2a52a",
   "metadata": {},
   "outputs": [],
   "source": [
    "# TLE"
   ]
  },
  {
   "cell_type": "code",
   "execution_count": 18,
   "id": "fba7f779-a413-4e5c-b011-5560d3ed296e",
   "metadata": {},
   "outputs": [],
   "source": [
    "from collections import deque\n",
    "import itertools\n",
    "ans = [[0]* W for _ in range(H)]\n",
    "ans[0][0] = 1\n",
    "q = deque()\n",
    "q.append((0, 0))\n",
    "while q:\n",
    "    x, y = q.popleft()\n",
    "    if x+1 < H:\n",
    "        if Cn[x+1][y] == '.':\n",
    "            ans[x+1][y] = ans[x][y] + 1\n",
    "            q.append((x+1, y))\n",
    "    if y+1 < W:\n",
    "        if Cn[x][y+1] == '.':\n",
    "            ans[x][y+1] = ans[x][y] + 1\n",
    "            q.append((x, y+1))\n",
    "            "
   ]
  },
  {
   "cell_type": "code",
   "execution_count": 19,
   "id": "20bd5375-bf57-46bb-854e-6f8c6e89fce2",
   "metadata": {},
   "outputs": [
    {
     "name": "stdout",
     "output_type": "stream",
     "text": [
      "4\n"
     ]
    }
   ],
   "source": [
    "print(max(itertools.chain.from_iterable(ans)))"
   ]
  },
  {
   "cell_type": "code",
   "execution_count": null,
   "id": "fc90511b-a160-44ea-ad1e-4394174585ff",
   "metadata": {},
   "outputs": [],
   "source": []
  }
 ],
 "metadata": {
  "kernelspec": {
   "display_name": "Python 3",
   "language": "python",
   "name": "python3"
  },
  "language_info": {
   "codemirror_mode": {
    "name": "ipython",
    "version": 3
   },
   "file_extension": ".py",
   "mimetype": "text/x-python",
   "name": "python",
   "nbconvert_exporter": "python",
   "pygments_lexer": "ipython3",
   "version": "3.6.13"
  }
 },
 "nbformat": 4,
 "nbformat_minor": 5
}
