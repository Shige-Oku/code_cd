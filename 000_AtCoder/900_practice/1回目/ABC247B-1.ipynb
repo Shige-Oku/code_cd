{
 "cells": [
  {
   "cell_type": "code",
   "execution_count": 1,
   "id": "07946e7b-bad5-4e6e-a5b4-a010ee8a4570",
   "metadata": {},
   "outputs": [
    {
     "name": "stdin",
     "output_type": "stream",
     "text": [
      " 3\n"
     ]
    }
   ],
   "source": [
    "N = int(input())"
   ]
  },
  {
   "cell_type": "code",
   "execution_count": 2,
   "id": "f5364e26-2238-411a-9b25-cbaf402945e9",
   "metadata": {},
   "outputs": [
    {
     "name": "stdin",
     "output_type": "stream",
     "text": [
      " tanaka taro\n",
      " tanaka jiro\n",
      " suzuki hanako\n"
     ]
    }
   ],
   "source": [
    "Sn = [list(input().split()) for _ in range(N)]"
   ]
  },
  {
   "cell_type": "code",
   "execution_count": 5,
   "id": "ec3ce2a6-bcd3-40ec-915b-7c7384e429ee",
   "metadata": {},
   "outputs": [
    {
     "name": "stdout",
     "output_type": "stream",
     "text": [
      "Yes\n"
     ]
    }
   ],
   "source": [
    "for i in range(N):\n",
    "    s1, m1 = Sn[i]\n",
    "    sf, mf = False, False\n",
    "    for j in range(i):\n",
    "        if i == j:\n",
    "            continue\n",
    "        s2, m2 = Sn[j]\n",
    "        if s1 == s2 or s1 == m2:\n",
    "            sf = True\n",
    "        if m1 == s2 or m1 == m2:\n",
    "            mf = True\n",
    "    if sf and mf:\n",
    "        print('No')\n",
    "        break\n",
    "else:\n",
    "    print('Yes')"
   ]
  },
  {
   "cell_type": "code",
   "execution_count": null,
   "id": "dcf006f6-9907-476f-9cf7-732bf82fc193",
   "metadata": {},
   "outputs": [],
   "source": []
  }
 ],
 "metadata": {
  "kernelspec": {
   "display_name": "Python 3",
   "language": "python",
   "name": "python3"
  },
  "language_info": {
   "codemirror_mode": {
    "name": "ipython",
    "version": 3
   },
   "file_extension": ".py",
   "mimetype": "text/x-python",
   "name": "python",
   "nbconvert_exporter": "python",
   "pygments_lexer": "ipython3",
   "version": "3.6.13"
  }
 },
 "nbformat": 4,
 "nbformat_minor": 5
}
