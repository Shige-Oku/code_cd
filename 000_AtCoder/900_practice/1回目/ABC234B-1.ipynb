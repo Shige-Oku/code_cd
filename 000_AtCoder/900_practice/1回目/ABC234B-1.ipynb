{
 "cells": [
  {
   "cell_type": "code",
   "execution_count": 1,
   "id": "0314d095-970a-4817-b301-cc2ea7bf9fac",
   "metadata": {},
   "outputs": [
    {
     "name": "stdin",
     "output_type": "stream",
     "text": [
      " 3\n"
     ]
    }
   ],
   "source": [
    "N = int(input())"
   ]
  },
  {
   "cell_type": "code",
   "execution_count": 3,
   "id": "f92cabb0-b0ad-40e4-9b28-6d4038b72bb1",
   "metadata": {},
   "outputs": [
    {
     "name": "stdin",
     "output_type": "stream",
     "text": [
      " 0 0\n",
      " 0 1\n",
      " 1 1 \n"
     ]
    }
   ],
   "source": [
    "XYn = [list(map(int, input().split())) for _ in range(N)]"
   ]
  },
  {
   "cell_type": "code",
   "execution_count": 4,
   "id": "e0c6861c-e21e-46d3-a351-3efefd357ac9",
   "metadata": {},
   "outputs": [],
   "source": [
    "ans = 0\n",
    "for i in range(N-1):\n",
    "    x1, y1 = XYn[i]\n",
    "    for j in range(i+1, N):\n",
    "        x2, y2 = XYn[j]\n",
    "        dis = (x1-x2)**2 + (y1-y2)**2\n",
    "        ans = max(ans, dis)"
   ]
  },
  {
   "cell_type": "code",
   "execution_count": 5,
   "id": "20ca0d68-ff70-4a2f-99b0-f8385091a435",
   "metadata": {},
   "outputs": [
    {
     "name": "stdout",
     "output_type": "stream",
     "text": [
      "1.4142135623730951\n"
     ]
    }
   ],
   "source": [
    "print(ans**.5)"
   ]
  },
  {
   "cell_type": "code",
   "execution_count": null,
   "id": "f3d6fa53-9614-478f-a7fb-b6e03cd216d6",
   "metadata": {},
   "outputs": [],
   "source": []
  }
 ],
 "metadata": {
  "kernelspec": {
   "display_name": "Python 3",
   "language": "python",
   "name": "python3"
  },
  "language_info": {
   "codemirror_mode": {
    "name": "ipython",
    "version": 3
   },
   "file_extension": ".py",
   "mimetype": "text/x-python",
   "name": "python",
   "nbconvert_exporter": "python",
   "pygments_lexer": "ipython3",
   "version": "3.6.13"
  }
 },
 "nbformat": 4,
 "nbformat_minor": 5
}
