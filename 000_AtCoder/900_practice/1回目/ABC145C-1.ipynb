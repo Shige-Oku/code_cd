{
 "cells": [
  {
   "cell_type": "code",
   "execution_count": 7,
   "id": "aa036fe9-dec1-4f53-a2dc-721451166cbc",
   "metadata": {},
   "outputs": [],
   "source": [
    "import itertools\n",
    "import math"
   ]
  },
  {
   "cell_type": "code",
   "execution_count": 2,
   "id": "aff09cc2-55ab-420b-b4ad-0e23dbc71a14",
   "metadata": {},
   "outputs": [
    {
     "name": "stdin",
     "output_type": "stream",
     "text": [
      " 3\n"
     ]
    }
   ],
   "source": [
    "N = int(input())"
   ]
  },
  {
   "cell_type": "code",
   "execution_count": 3,
   "id": "fcec78b4-6925-4258-804d-caaf76e3c2b5",
   "metadata": {},
   "outputs": [
    {
     "name": "stdin",
     "output_type": "stream",
     "text": [
      " 0 0\n",
      " 1 0\n",
      " 0 1\n"
     ]
    }
   ],
   "source": [
    "XYn = [list(map(int, input().split())) for _ in range(N)]"
   ]
  },
  {
   "cell_type": "code",
   "execution_count": 18,
   "id": "56c3ecd7-64e2-44c6-ad87-3030a3c57147",
   "metadata": {},
   "outputs": [
    {
     "name": "stdout",
     "output_type": "stream",
     "text": [
      "(0, 1, 2)\n",
      "0 0 1 0\n",
      "1 0 0 1\n",
      "(0, 2, 1)\n",
      "0 0 0 1\n",
      "0 1 1 0\n",
      "(1, 0, 2)\n",
      "1 0 0 0\n",
      "0 0 0 1\n",
      "(1, 2, 0)\n",
      "1 0 0 1\n",
      "0 1 0 0\n",
      "(2, 0, 1)\n",
      "0 1 0 0\n",
      "0 0 1 0\n",
      "(2, 1, 0)\n",
      "0 1 1 0\n",
      "1 0 0 0\n"
     ]
    }
   ],
   "source": [
    "cnt = 0\n",
    "dis = 0\n",
    "for P in itertools.permutations(range(N), N):\n",
    "    cnt += 1\n",
    "    for i in range(N-1):\n",
    "        x1, y1 = XYn[P[i]]\n",
    "        x2, y2 = XYn[P[i+1]]\n",
    "        dis += math.sqrt((x1-x2)**2 + (y1-y2)**2)\n",
    "        "
   ]
  },
  {
   "cell_type": "code",
   "execution_count": 19,
   "id": "98948419-de5c-40bc-a4cf-ce4cc02b967f",
   "metadata": {},
   "outputs": [
    {
     "name": "stdout",
     "output_type": "stream",
     "text": [
      "2.276142374915397\n"
     ]
    }
   ],
   "source": [
    "print(dis/cnt)"
   ]
  },
  {
   "cell_type": "code",
   "execution_count": 14,
   "id": "d599a352-9131-477b-84c4-7abfab4c3e61",
   "metadata": {},
   "outputs": [
    {
     "data": {
      "text/plain": [
       "(6, 14.485281374238571)"
      ]
     },
     "execution_count": 14,
     "metadata": {},
     "output_type": "execute_result"
    }
   ],
   "source": [
    "cnt ,dis"
   ]
  },
  {
   "cell_type": "code",
   "execution_count": null,
   "id": "f12d8734-04ec-4c3d-aa3f-ab5e5fd5029c",
   "metadata": {},
   "outputs": [],
   "source": []
  }
 ],
 "metadata": {
  "kernelspec": {
   "display_name": "Python 3",
   "language": "python",
   "name": "python3"
  },
  "language_info": {
   "codemirror_mode": {
    "name": "ipython",
    "version": 3
   },
   "file_extension": ".py",
   "mimetype": "text/x-python",
   "name": "python",
   "nbconvert_exporter": "python",
   "pygments_lexer": "ipython3",
   "version": "3.6.13"
  }
 },
 "nbformat": 4,
 "nbformat_minor": 5
}
