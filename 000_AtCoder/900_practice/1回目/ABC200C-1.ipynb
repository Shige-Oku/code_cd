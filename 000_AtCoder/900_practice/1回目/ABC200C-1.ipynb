{
 "cells": [
  {
   "cell_type": "code",
   "execution_count": 5,
   "id": "8e321bfd-19b8-4f99-b961-12a16bf3a722",
   "metadata": {},
   "outputs": [],
   "source": [
    "import collections"
   ]
  },
  {
   "cell_type": "code",
   "execution_count": 14,
   "id": "b383fa62-965c-4fd7-917d-8b4dae02ba3c",
   "metadata": {},
   "outputs": [
    {
     "name": "stdin",
     "output_type": "stream",
     "text": [
      " 8\n"
     ]
    }
   ],
   "source": [
    "N = int(input())"
   ]
  },
  {
   "cell_type": "code",
   "execution_count": 15,
   "id": "11e51859-f929-416d-9277-cd6f583b81ed",
   "metadata": {},
   "outputs": [
    {
     "name": "stdin",
     "output_type": "stream",
     "text": [
      " 199 100 200 400 300 500 600 200\n"
     ]
    }
   ],
   "source": [
    "An = list(map(int, input().split()))"
   ]
  },
  {
   "cell_type": "code",
   "execution_count": 16,
   "id": "5b042318-35b6-4471-9571-b600214254c7",
   "metadata": {},
   "outputs": [],
   "source": [
    "An_m = []\n",
    "for A in An:\n",
    "    An_m.append(A%200)"
   ]
  },
  {
   "cell_type": "code",
   "execution_count": 17,
   "id": "680cd628-5672-465d-9f65-5dbddbc1cfeb",
   "metadata": {},
   "outputs": [],
   "source": [
    "An_c = collections.Counter(An_m)\n",
    "ans = 0\n",
    "for k, v in An_c.items():\n",
    "    ans += v * (v-1) // 2"
   ]
  },
  {
   "cell_type": "code",
   "execution_count": 18,
   "id": "4f55d53b-e5d7-4c46-b30c-74e0330d74ba",
   "metadata": {},
   "outputs": [
    {
     "name": "stdout",
     "output_type": "stream",
     "text": [
      "9\n"
     ]
    }
   ],
   "source": [
    "print(ans)"
   ]
  },
  {
   "cell_type": "code",
   "execution_count": 35,
   "id": "8967d8c8-7673-459a-83bf-efac08cd967a",
   "metadata": {},
   "outputs": [],
   "source": [
    "# WA"
   ]
  },
  {
   "cell_type": "code",
   "execution_count": 19,
   "id": "d81cd9e9-8624-4e46-838b-60869d5b8f68",
   "metadata": {},
   "outputs": [],
   "source": [
    "import numpy as np"
   ]
  },
  {
   "cell_type": "code",
   "execution_count": 34,
   "id": "aa5d015f-c7e6-4493-ad6d-d82429b6a28a",
   "metadata": {},
   "outputs": [
    {
     "name": "stdout",
     "output_type": "stream",
     "text": [
      "9\n"
     ]
    }
   ],
   "source": [
    "An_n = np.array(An)\n",
    "An_n %= 200\n",
    "ans = np.bincount(An_n * (An_n-1))\n",
    "ans = ans * (ans-1)\n",
    "print(ans.sum()//2)"
   ]
  },
  {
   "cell_type": "code",
   "execution_count": 33,
   "id": "39a09ef9-555d-4e1a-b988-343b2cc25f21",
   "metadata": {},
   "outputs": [
    {
     "name": "stdout",
     "output_type": "stream",
     "text": [
      "9\n"
     ]
    }
   ],
   "source": []
  },
  {
   "cell_type": "code",
   "execution_count": 25,
   "id": "2267d3a7-86d4-4486-a4b1-b0ed23a93982",
   "metadata": {},
   "outputs": [
    {
     "data": {
      "text/plain": [
       "array([199, 100,   0,   0, 100, 100,   0,   0])"
      ]
     },
     "execution_count": 25,
     "metadata": {},
     "output_type": "execute_result"
    }
   ],
   "source": [
    "An_n"
   ]
  },
  {
   "cell_type": "code",
   "execution_count": 28,
   "id": "6c78cc45-d69c-4e90-9fcb-41d0a75adcf5",
   "metadata": {},
   "outputs": [],
   "source": [
    "a = np.bincount(An_n * (An_n-1))"
   ]
  },
  {
   "cell_type": "code",
   "execution_count": 31,
   "id": "d4343df3-3058-4ce9-89b8-82aca7c3eace",
   "metadata": {},
   "outputs": [
    {
     "data": {
      "text/plain": [
       "(array([4, 3, 1], dtype=int64), 8)"
      ]
     },
     "execution_count": 31,
     "metadata": {},
     "output_type": "execute_result"
    }
   ],
   "source": [
    "a[a>0], ans.sum()"
   ]
  },
  {
   "cell_type": "code",
   "execution_count": null,
   "id": "ba34ba0b-b6a7-475f-9795-7bb66964d776",
   "metadata": {},
   "outputs": [],
   "source": []
  }
 ],
 "metadata": {
  "kernelspec": {
   "display_name": "Python 3",
   "language": "python",
   "name": "python3"
  },
  "language_info": {
   "codemirror_mode": {
    "name": "ipython",
    "version": 3
   },
   "file_extension": ".py",
   "mimetype": "text/x-python",
   "name": "python",
   "nbconvert_exporter": "python",
   "pygments_lexer": "ipython3",
   "version": "3.6.13"
  }
 },
 "nbformat": 4,
 "nbformat_minor": 5
}
