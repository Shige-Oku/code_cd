{
 "cells": [
  {
   "cell_type": "code",
   "execution_count": 13,
   "id": "3db3fe1a-330d-4074-8c5c-f988e30c77fc",
   "metadata": {},
   "outputs": [
    {
     "name": "stdin",
     "output_type": "stream",
     "text": [
      " 3\n"
     ]
    }
   ],
   "source": [
    "N = int(input())"
   ]
  },
  {
   "cell_type": "code",
   "execution_count": 18,
   "id": "58d6a577-f0e6-4e80-a328-e3165a352713",
   "metadata": {},
   "outputs": [
    {
     "name": "stdin",
     "output_type": "stream",
     "text": [
      " 3 2 5\n"
     ]
    }
   ],
   "source": [
    "An = list(map(int, input().split()))"
   ]
  },
  {
   "cell_type": "code",
   "execution_count": 19,
   "id": "4663e16d-644f-4463-91e9-1f3b86f49ea4",
   "metadata": {},
   "outputs": [
    {
     "name": "stdin",
     "output_type": "stream",
     "text": [
      " 6 9 8\n"
     ]
    }
   ],
   "source": [
    "Bn = list(map(int, input().split()))"
   ]
  },
  {
   "cell_type": "code",
   "execution_count": 20,
   "id": "dc42d0b3-5c30-4f7e-b0ce-d11891b8a322",
   "metadata": {},
   "outputs": [],
   "source": [
    "ma = 10**10\n",
    "mi = 0\n",
    "for A, B in zip(An, Bn):\n",
    "    mi = max(mi, A)\n",
    "    ma = min(ma, B)"
   ]
  },
  {
   "cell_type": "code",
   "execution_count": 21,
   "id": "aab8dfc4-4990-4cfe-bd8e-9b380edcba8b",
   "metadata": {},
   "outputs": [
    {
     "name": "stdout",
     "output_type": "stream",
     "text": [
      "2\n"
     ]
    }
   ],
   "source": [
    "print(max(0, ma-mi+1))"
   ]
  },
  {
   "cell_type": "code",
   "execution_count": 9,
   "id": "db877d1a-7a36-4016-913e-ac0fd362f322",
   "metadata": {},
   "outputs": [
    {
     "data": {
      "text/plain": [
       "(10000000000, 0)"
      ]
     },
     "execution_count": 9,
     "metadata": {},
     "output_type": "execute_result"
    }
   ],
   "source": [
    "mi, ma"
   ]
  },
  {
   "cell_type": "code",
   "execution_count": 23,
   "id": "8110ddc9-d4ef-4513-9048-82aefd88ea1a",
   "metadata": {},
   "outputs": [
    {
     "name": "stdout",
     "output_type": "stream",
     "text": [
      "2\n"
     ]
    }
   ],
   "source": [
    "print(max(0, min(Bn)-max(An)+1))"
   ]
  },
  {
   "cell_type": "code",
   "execution_count": 24,
   "id": "47a269e6-4b2d-4998-8d4b-6205c177a10a",
   "metadata": {},
   "outputs": [],
   "source": [
    "ans = 0\n",
    "for i in range(1001):\n",
    "    for A, B in zip(An, Bn):\n",
    "        if A <= i <= B:\n",
    "            continue\n",
    "        break\n",
    "    else:\n",
    "        ans += 1"
   ]
  },
  {
   "cell_type": "code",
   "execution_count": 25,
   "id": "e6f9737e-0515-4e56-bb1c-fcf5e27cb2f8",
   "metadata": {},
   "outputs": [
    {
     "name": "stdout",
     "output_type": "stream",
     "text": [
      "2\n"
     ]
    }
   ],
   "source": [
    "print(ans)"
   ]
  },
  {
   "cell_type": "code",
   "execution_count": null,
   "id": "c1bcdb0a-b7cf-49fe-93b7-891038e0f575",
   "metadata": {},
   "outputs": [],
   "source": []
  }
 ],
 "metadata": {
  "kernelspec": {
   "display_name": "Python 3",
   "language": "python",
   "name": "python3"
  },
  "language_info": {
   "codemirror_mode": {
    "name": "ipython",
    "version": 3
   },
   "file_extension": ".py",
   "mimetype": "text/x-python",
   "name": "python",
   "nbconvert_exporter": "python",
   "pygments_lexer": "ipython3",
   "version": "3.6.13"
  }
 },
 "nbformat": 4,
 "nbformat_minor": 5
}
