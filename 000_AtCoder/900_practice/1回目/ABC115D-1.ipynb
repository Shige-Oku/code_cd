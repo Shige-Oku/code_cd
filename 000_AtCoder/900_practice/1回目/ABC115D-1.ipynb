{
 "cells": [
  {
   "cell_type": "code",
   "execution_count": 39,
   "id": "9a137a30-24d8-48e5-80da-54e3ee265987",
   "metadata": {},
   "outputs": [
    {
     "name": "stdin",
     "output_type": "stream",
     "text": [
      " 50 4321098765432109\n"
     ]
    }
   ],
   "source": [
    "N, X = map(int, input().split())"
   ]
  },
  {
   "cell_type": "code",
   "execution_count": 40,
   "id": "c0c6bf46-8cbe-4529-8a11-6b0476436206",
   "metadata": {},
   "outputs": [],
   "source": [
    "b = [1, ]\n",
    "p = [1, ]\n",
    "for _ in range(N):\n",
    "    b.append(b[-1]*2 + 3)\n",
    "    p.append(p[-1]*2 + 1)"
   ]
  },
  {
   "cell_type": "code",
   "execution_count": 49,
   "id": "6bedd2ad-a383-4e92-a1c0-eb10bf599998",
   "metadata": {},
   "outputs": [],
   "source": [
    "import sys\n",
    "sys.setrecursionlimit(10**6)\n",
    "def DFS(cur, n):\n",
    "    if cur == 0:\n",
    "        if n <= 0:\n",
    "            return 0\n",
    "        else:\n",
    "            return 1\n",
    "    m = (b[cur]+1)//2\n",
    "    if n < m:\n",
    "        return DFS(cur-1, n-1)\n",
    "    elif n == m:\n",
    "        return p[cur-1] + 1\n",
    "    else:\n",
    "        return p[cur-1] + 1 + DFS(cur-1, n-m)\n"
   ]
  },
  {
   "cell_type": "code",
   "execution_count": 50,
   "id": "c77ca3c8-59c5-4f94-937b-eb10ca40636a",
   "metadata": {},
   "outputs": [
    {
     "name": "stdout",
     "output_type": "stream",
     "text": [
      "2160549382716056\n"
     ]
    }
   ],
   "source": [
    "print(DFS(N, X))"
   ]
  },
  {
   "cell_type": "code",
   "execution_count": 9,
   "id": "e00dc711-b45b-4229-90e1-22d94bb7c36b",
   "metadata": {},
   "outputs": [
    {
     "data": {
      "text/plain": [
       "([1, 5, 13], [1, 3, 7])"
      ]
     },
     "execution_count": 9,
     "metadata": {},
     "output_type": "execute_result"
    }
   ],
   "source": [
    "b, p"
   ]
  },
  {
   "cell_type": "code",
   "execution_count": null,
   "id": "537f5d8e-ad2a-44a2-97ee-259c937cb603",
   "metadata": {},
   "outputs": [],
   "source": []
  }
 ],
 "metadata": {
  "kernelspec": {
   "display_name": "Python 3",
   "language": "python",
   "name": "python3"
  },
  "language_info": {
   "codemirror_mode": {
    "name": "ipython",
    "version": 3
   },
   "file_extension": ".py",
   "mimetype": "text/x-python",
   "name": "python",
   "nbconvert_exporter": "python",
   "pygments_lexer": "ipython3",
   "version": "3.6.13"
  }
 },
 "nbformat": 4,
 "nbformat_minor": 5
}
