{
 "cells": [
  {
   "cell_type": "code",
   "execution_count": 16,
   "id": "3b99143c-6aa7-409a-8618-3d113cc2c3d7",
   "metadata": {},
   "outputs": [
    {
     "name": "stdin",
     "output_type": "stream",
     "text": [
      " 3 2\n"
     ]
    }
   ],
   "source": [
    "N, M = map(int, input().split())"
   ]
  },
  {
   "cell_type": "code",
   "execution_count": 17,
   "id": "14519e57-6cca-4cbe-ae82-831123a49fc1",
   "metadata": {},
   "outputs": [
    {
     "name": "stdin",
     "output_type": "stream",
     "text": [
      " 1000000000 1000000000 1000000000\n"
     ]
    }
   ],
   "source": [
    "Xn = list(map(int, input().split()))"
   ]
  },
  {
   "cell_type": "code",
   "execution_count": 18,
   "id": "e36225d6-9817-4a98-8af8-82f3c5dffd51",
   "metadata": {},
   "outputs": [
    {
     "name": "stdin",
     "output_type": "stream",
     "text": [
      " 1 1000000000\n",
      " 3 1000000000\n"
     ]
    }
   ],
   "source": [
    "CYn = [list(map(int, input().split())) for _ in range(M)]"
   ]
  },
  {
   "cell_type": "code",
   "execution_count": 22,
   "id": "957d4bf6-77e9-4d66-b701-ee29e6644d46",
   "metadata": {},
   "outputs": [],
   "source": [
    "CYn_d = {}\n",
    "for C, Y in CYn:\n",
    "    CYn_d[C] = Y\n",
    "dp = [[-10 ** 10] * (N+1) for _ in range(N+1)]\n",
    "dp[0][0] = 0\n",
    "for i in range(1, N+1):\n",
    "    dp[i][0] = max(dp[i-1])\n",
    "    for j in range(N+1):\n",
    "        if j > 0:\n",
    "            dp[i][j] = max(dp[i][j], dp[i-1][j-1]+Xn[i-1])\n",
    "        if j in CYn_d:\n",
    "            dp[i][j] += CYn_d[j]"
   ]
  },
  {
   "cell_type": "code",
   "execution_count": 23,
   "id": "7b673d65-dea8-441a-912b-196897795d35",
   "metadata": {},
   "outputs": [
    {
     "name": "stdout",
     "output_type": "stream",
     "text": [
      "5000000000\n"
     ]
    }
   ],
   "source": [
    "print(max(dp[N]))"
   ]
  },
  {
   "cell_type": "code",
   "execution_count": 24,
   "id": "9ebae207-7e5a-490a-81a1-da36d77a2036",
   "metadata": {},
   "outputs": [
    {
     "data": {
      "text/plain": [
       "{1: 1000000000, 3: 1000000000}"
      ]
     },
     "execution_count": 24,
     "metadata": {},
     "output_type": "execute_result"
    }
   ],
   "source": [
    "CYn_d"
   ]
  },
  {
   "cell_type": "code",
   "execution_count": 25,
   "id": "e9cf578e-d145-4dbe-bd6e-b4c871cf46e8",
   "metadata": {},
   "outputs": [
    {
     "data": {
      "text/plain": [
       "[[0, -10000000000, -10000000000, -10000000000],\n",
       " [0, 2000000000, -9000000000, -8000000000],\n",
       " [2000000000, 2000000000, 3000000000, -7000000000],\n",
       " [3000000000, 4000000000, 3000000000, 5000000000]]"
      ]
     },
     "execution_count": 25,
     "metadata": {},
     "output_type": "execute_result"
    }
   ],
   "source": [
    "dp"
   ]
  },
  {
   "cell_type": "code",
   "execution_count": 13,
   "id": "a33fdcb7-ab00-4d80-8da0-a54644a1eea9",
   "metadata": {},
   "outputs": [
    {
     "data": {
      "text/plain": [
       "(6, 1)"
      ]
     },
     "execution_count": 13,
     "metadata": {},
     "output_type": "execute_result"
    }
   ],
   "source": [
    "i, j"
   ]
  },
  {
   "cell_type": "code",
   "execution_count": null,
   "id": "cab0befd-017f-4b16-ad06-957fb41723e5",
   "metadata": {},
   "outputs": [],
   "source": []
  }
 ],
 "metadata": {
  "kernelspec": {
   "display_name": "Python 3",
   "language": "python",
   "name": "python3"
  },
  "language_info": {
   "codemirror_mode": {
    "name": "ipython",
    "version": 3
   },
   "file_extension": ".py",
   "mimetype": "text/x-python",
   "name": "python",
   "nbconvert_exporter": "python",
   "pygments_lexer": "ipython3",
   "version": "3.6.13"
  }
 },
 "nbformat": 4,
 "nbformat_minor": 5
}
