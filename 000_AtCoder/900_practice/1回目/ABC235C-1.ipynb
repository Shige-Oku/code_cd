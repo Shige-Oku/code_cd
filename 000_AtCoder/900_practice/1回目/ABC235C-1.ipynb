{
 "cells": [
  {
   "cell_type": "code",
   "execution_count": 1,
   "id": "c5d30269-1a8d-4b57-aafa-5c1d0019f85f",
   "metadata": {},
   "outputs": [
    {
     "name": "stdin",
     "output_type": "stream",
     "text": [
      " 6 8\n"
     ]
    }
   ],
   "source": [
    "N, Q  = map(int, input().split())"
   ]
  },
  {
   "cell_type": "code",
   "execution_count": 2,
   "id": "63a4e8ad-ff26-4929-a14e-3922362f8e63",
   "metadata": {},
   "outputs": [
    {
     "name": "stdin",
     "output_type": "stream",
     "text": [
      " 1 1 2 3 1 2\n"
     ]
    }
   ],
   "source": [
    "An = list(map(int, input().split()))"
   ]
  },
  {
   "cell_type": "code",
   "execution_count": 3,
   "id": "e5a72551-2a95-4a46-9db9-1a488e7b4418",
   "metadata": {},
   "outputs": [
    {
     "name": "stdin",
     "output_type": "stream",
     "text": [
      " 1 1\n",
      " 1 2\n",
      " 1 3\n",
      " 1 4\n",
      " 2 1\n",
      " 2 2\n",
      " 2 3\n",
      " 4 1\n"
     ]
    }
   ],
   "source": [
    "XKn = [list(map(int, input().split())) for _ in range(Q)]"
   ]
  },
  {
   "cell_type": "code",
   "execution_count": 8,
   "id": "7eef9e79-0d0f-400a-957b-fc793bd6c741",
   "metadata": {},
   "outputs": [
    {
     "name": "stdout",
     "output_type": "stream",
     "text": [
      "1\n",
      "2\n",
      "5\n",
      "-1\n",
      "3\n",
      "6\n",
      "-1\n",
      "-1\n"
     ]
    }
   ],
   "source": [
    "import collections\n",
    "An_d = collections.defaultdict(list)\n",
    "for i, A in enumerate(An, 1):\n",
    "    if A not in An_d:\n",
    "        An_d[A] = [i, ]\n",
    "    else:\n",
    "        An_d[A].append(i)\n",
    "\n",
    "for X, K in XKn:\n",
    "    if len(An_d[X]) >= K:\n",
    "        print(An_d[X][K-1])\n",
    "    else:\n",
    "        print(-1)"
   ]
  },
  {
   "cell_type": "code",
   "execution_count": 8,
   "id": "8e3f18c6-e70a-4a08-bbcf-8b48408d6c09",
   "metadata": {},
   "outputs": [
    {
     "name": "stdout",
     "output_type": "stream",
     "text": [
      "1\n",
      "2\n",
      "5\n",
      "-1\n",
      "3\n",
      "6\n",
      "-1\n",
      "-1\n"
     ]
    }
   ],
   "source": [
    "import collections\n",
    "An_d = collections.defaultdict(list)\n",
    "for i, A in enumerate(An, 1):\n",
    "    An_d[A].append(i)\n",
    "\n",
    "for X, K in XKn:\n",
    "    if len(An_d[X]) >= K:\n",
    "        print(An_d[X][K-1])\n",
    "    else:\n",
    "        print(-1)"
   ]
  },
  {
   "cell_type": "code",
   "execution_count": 5,
   "id": "1dce3648-dd1c-4f58-9932-55ff300e4035",
   "metadata": {},
   "outputs": [
    {
     "data": {
      "text/plain": [
       "{1: [1, 2, 5], 2: [3, 6], 3: [4]}"
      ]
     },
     "execution_count": 5,
     "metadata": {},
     "output_type": "execute_result"
    }
   ],
   "source": [
    "An_d"
   ]
  },
  {
   "cell_type": "code",
   "execution_count": null,
   "id": "309060d9-46f1-4e1c-ab7d-60bae9f422be",
   "metadata": {},
   "outputs": [],
   "source": []
  }
 ],
 "metadata": {
  "kernelspec": {
   "display_name": "Python 3",
   "language": "python",
   "name": "python3"
  },
  "language_info": {
   "codemirror_mode": {
    "name": "ipython",
    "version": 3
   },
   "file_extension": ".py",
   "mimetype": "text/x-python",
   "name": "python",
   "nbconvert_exporter": "python",
   "pygments_lexer": "ipython3",
   "version": "3.6.13"
  }
 },
 "nbformat": 4,
 "nbformat_minor": 5
}
