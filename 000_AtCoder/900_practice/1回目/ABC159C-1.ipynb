{
 "cells": [
  {
   "cell_type": "code",
   "execution_count": 3,
   "id": "2582223a-52d5-468e-83c0-2a8f38802b83",
   "metadata": {},
   "outputs": [
    {
     "name": "stdin",
     "output_type": "stream",
     "text": [
      " 999\n"
     ]
    }
   ],
   "source": [
    "L = int(input())"
   ]
  },
  {
   "cell_type": "code",
   "execution_count": 4,
   "id": "2ab2bc12-b6ec-47f3-9344-8301b49b40fe",
   "metadata": {},
   "outputs": [
    {
     "name": "stdout",
     "output_type": "stream",
     "text": [
      "36926037.0\n"
     ]
    }
   ],
   "source": [
    "print((L/3)**3)"
   ]
  },
  {
   "cell_type": "code",
   "execution_count": 5,
   "id": "7ece1ca8-eb9c-4a2b-8aa3-dfbdf42fdaa5",
   "metadata": {},
   "outputs": [
    {
     "name": "stdout",
     "output_type": "stream",
     "text": [
      "36926037.0\n"
     ]
    }
   ],
   "source": [
    "print(L**3 / 27)"
   ]
  },
  {
   "cell_type": "code",
   "execution_count": null,
   "id": "9861eded-3d8b-41cc-b71b-c4d93f38af6f",
   "metadata": {},
   "outputs": [],
   "source": []
  }
 ],
 "metadata": {
  "kernelspec": {
   "display_name": "Python 3",
   "language": "python",
   "name": "python3"
  },
  "language_info": {
   "codemirror_mode": {
    "name": "ipython",
    "version": 3
   },
   "file_extension": ".py",
   "mimetype": "text/x-python",
   "name": "python",
   "nbconvert_exporter": "python",
   "pygments_lexer": "ipython3",
   "version": "3.6.13"
  }
 },
 "nbformat": 4,
 "nbformat_minor": 5
}
