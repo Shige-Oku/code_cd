{
 "cells": [
  {
   "cell_type": "code",
   "execution_count": 86,
   "id": "59e729a9-27fc-4aad-9349-49c4a3619568",
   "metadata": {},
   "outputs": [
    {
     "name": "stdin",
     "output_type": "stream",
     "text": [
      " 26\n"
     ]
    }
   ],
   "source": [
    "N = int(input())"
   ]
  },
  {
   "cell_type": "code",
   "execution_count": 87,
   "id": "82818e62-1c17-4dc3-8dfa-cb0fa4d149e3",
   "metadata": {},
   "outputs": [],
   "source": [
    "ans = ''\n",
    "n = N\n",
    "while n > 0:\n",
    "    n -= 1\n",
    "    q, r = divmod(n, 26)\n",
    "    ans += chr(ord('a')+r)\n",
    "    n = q"
   ]
  },
  {
   "cell_type": "code",
   "execution_count": 88,
   "id": "cf55dd6f-2cc9-4178-b2b2-90157cdae940",
   "metadata": {},
   "outputs": [
    {
     "name": "stdout",
     "output_type": "stream",
     "text": [
      "z\n"
     ]
    }
   ],
   "source": [
    "print(ans[::-1])"
   ]
  },
  {
   "cell_type": "code",
   "execution_count": 48,
   "id": "1a1f9d8c-2615-413e-a094-74a470a5464b",
   "metadata": {},
   "outputs": [
    {
     "data": {
      "text/plain": [
       "'`a'"
      ]
     },
     "execution_count": 48,
     "metadata": {},
     "output_type": "execute_result"
    }
   ],
   "source": [
    "ans"
   ]
  },
  {
   "cell_type": "code",
   "execution_count": 18,
   "id": "0777331c-2403-4550-ac60-e8a0ae79c92f",
   "metadata": {},
   "outputs": [],
   "source": [
    "ans = ''\n",
    "n = N - 1\n",
    "while n > 0:\n",
    "    q, r = divmod(n, 26)\n",
    "    if r > 0:\n",
    "        ans += chr(ord('a')+r-1)\n",
    "    else:\n",
    "        ans += 'z'\n",
    "    n = q"
   ]
  }
 ],
 "metadata": {
  "kernelspec": {
   "display_name": "Python 3",
   "language": "python",
   "name": "python3"
  },
  "language_info": {
   "codemirror_mode": {
    "name": "ipython",
    "version": 3
   },
   "file_extension": ".py",
   "mimetype": "text/x-python",
   "name": "python",
   "nbconvert_exporter": "python",
   "pygments_lexer": "ipython3",
   "version": "3.6.13"
  }
 },
 "nbformat": 4,
 "nbformat_minor": 5
}
