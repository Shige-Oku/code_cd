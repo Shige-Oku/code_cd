{
 "cells": [
  {
   "cell_type": "code",
   "execution_count": 9,
   "id": "a6c9ffb9-57a7-4310-8b12-771f6337b441",
   "metadata": {},
   "outputs": [
    {
     "name": "stdin",
     "output_type": "stream",
     "text": [
      " 01010\n"
     ]
    }
   ],
   "source": [
    "S = input()"
   ]
  },
  {
   "cell_type": "code",
   "execution_count": 10,
   "id": "848f65c6-e0e0-420b-bc5e-ed8357416a46",
   "metadata": {},
   "outputs": [],
   "source": [
    "ans = ''\n",
    "for s in S[::-1]:\n",
    "    if s == '6':\n",
    "        ans += '9'\n",
    "    elif s == '9':\n",
    "        ans += '6'\n",
    "    else:\n",
    "        ans += s"
   ]
  },
  {
   "cell_type": "code",
   "execution_count": 11,
   "id": "25165c1d-fa4d-47e4-ab82-e3912a9d43de",
   "metadata": {},
   "outputs": [
    {
     "name": "stdout",
     "output_type": "stream",
     "text": [
      "01010\n"
     ]
    }
   ],
   "source": [
    "print(ans)"
   ]
  },
  {
   "cell_type": "code",
   "execution_count": null,
   "id": "a009036c-a1ad-49c0-bde3-ca3cfadf8b11",
   "metadata": {},
   "outputs": [],
   "source": []
  }
 ],
 "metadata": {
  "kernelspec": {
   "display_name": "Python 3",
   "language": "python",
   "name": "python3"
  },
  "language_info": {
   "codemirror_mode": {
    "name": "ipython",
    "version": 3
   },
   "file_extension": ".py",
   "mimetype": "text/x-python",
   "name": "python",
   "nbconvert_exporter": "python",
   "pygments_lexer": "ipython3",
   "version": "3.6.13"
  }
 },
 "nbformat": 4,
 "nbformat_minor": 5
}
