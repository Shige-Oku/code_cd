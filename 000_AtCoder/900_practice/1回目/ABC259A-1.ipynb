{
 "cells": [
  {
   "cell_type": "code",
   "execution_count": 5,
   "id": "7214b148-d4a9-4b2d-a1b4-a84ee0950b07",
   "metadata": {},
   "outputs": [
    {
     "name": "stdin",
     "output_type": "stream",
     "text": [
      " 100 10 100 180 1\n"
     ]
    }
   ],
   "source": [
    "N, M, X, T, D = map(int, input().split())"
   ]
  },
  {
   "cell_type": "code",
   "execution_count": 6,
   "id": "5597cfc3-5e45-4b38-bd9b-b22e225c3829",
   "metadata": {},
   "outputs": [
    {
     "name": "stdout",
     "output_type": "stream",
     "text": [
      "90\n"
     ]
    }
   ],
   "source": [
    "if M >= X:\n",
    "    print(T)\n",
    "else:\n",
    "    print(T-(X-M)*D)"
   ]
  },
  {
   "cell_type": "code",
   "execution_count": null,
   "id": "bfa4074a-c346-4a35-81f1-9e56ad89f236",
   "metadata": {},
   "outputs": [],
   "source": []
  }
 ],
 "metadata": {
  "kernelspec": {
   "display_name": "Python 3",
   "language": "python",
   "name": "python3"
  },
  "language_info": {
   "codemirror_mode": {
    "name": "ipython",
    "version": 3
   },
   "file_extension": ".py",
   "mimetype": "text/x-python",
   "name": "python",
   "nbconvert_exporter": "python",
   "pygments_lexer": "ipython3",
   "version": "3.6.13"
  }
 },
 "nbformat": 4,
 "nbformat_minor": 5
}
