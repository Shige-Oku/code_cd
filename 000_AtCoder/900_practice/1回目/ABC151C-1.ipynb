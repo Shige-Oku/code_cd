{
 "cells": [
  {
   "cell_type": "code",
   "execution_count": 1,
   "id": "f83e4586-940f-4671-80c9-5032483cb58d",
   "metadata": {},
   "outputs": [
    {
     "name": "stdin",
     "output_type": "stream",
     "text": [
      " 2 5\n"
     ]
    }
   ],
   "source": [
    "N, M = map(int, input().split())"
   ]
  },
  {
   "cell_type": "code",
   "execution_count": 3,
   "id": "eb006ae7-2aa0-4c3f-a26f-95fe19fb99c5",
   "metadata": {},
   "outputs": [
    {
     "name": "stdin",
     "output_type": "stream",
     "text": [
      " 1 WA\n",
      " 1 AC\n",
      " 2 WA\n",
      " 2 AC\n",
      " 2 WA\n"
     ]
    }
   ],
   "source": [
    "PSn = [list(input().split()) for _ in range(M)]"
   ]
  },
  {
   "cell_type": "code",
   "execution_count": 6,
   "id": "41f6aeed-d1fd-46ef-91ea-65e7a14a63b1",
   "metadata": {},
   "outputs": [],
   "source": [
    "ok = [0] * N\n",
    "ng = [0] * N\n",
    "for P, S in PSn:\n",
    "    p = int(P) - 1\n",
    "    if ok[p] == 1:\n",
    "        continue\n",
    "    if S == 'AC':\n",
    "        ok[p] = 1\n",
    "    else:\n",
    "        ng[p] += 1"
   ]
  },
  {
   "cell_type": "code",
   "execution_count": 8,
   "id": "379fc72b-1cbb-4328-bc6a-c7df511aec0c",
   "metadata": {},
   "outputs": [],
   "source": [
    "okn, ngn = 0, 0\n",
    "for i in range(N):\n",
    "    if ok[i] >= 1:\n",
    "        okn += 1\n",
    "        ngn += ng[i]"
   ]
  },
  {
   "cell_type": "code",
   "execution_count": 9,
   "id": "d5135cd8-d477-4978-9d01-b8856f086ec2",
   "metadata": {},
   "outputs": [
    {
     "name": "stdout",
     "output_type": "stream",
     "text": [
      "2 2\n"
     ]
    }
   ],
   "source": [
    "print(okn, ngn)"
   ]
  },
  {
   "cell_type": "code",
   "execution_count": 7,
   "id": "e59925d6-22b3-4d6b-93d0-95553aafb396",
   "metadata": {},
   "outputs": [
    {
     "data": {
      "text/plain": [
       "([1, 1], [1, 1])"
      ]
     },
     "execution_count": 7,
     "metadata": {},
     "output_type": "execute_result"
    }
   ],
   "source": [
    "ok, ng"
   ]
  },
  {
   "cell_type": "code",
   "execution_count": null,
   "id": "694eefb4-462b-4a51-90d5-d22082eb0953",
   "metadata": {},
   "outputs": [],
   "source": [
    "# WA"
   ]
  },
  {
   "cell_type": "code",
   "execution_count": 4,
   "id": "05b7b859-a0ec-4d36-bf3f-148ff2a7e686",
   "metadata": {},
   "outputs": [],
   "source": [
    "ok, ng = 0, 0\n",
    "s = set()\n",
    "for m, r in PSn:\n",
    "    if m in s:\n",
    "        continue\n",
    "    if r == 'AC':\n",
    "        ok += 1\n",
    "        s.add(m)\n",
    "    else:\n",
    "        ng += 1"
   ]
  },
  {
   "cell_type": "code",
   "execution_count": 5,
   "id": "b1109088-2b9f-4127-8671-56bc69112967",
   "metadata": {},
   "outputs": [
    {
     "name": "stdout",
     "output_type": "stream",
     "text": [
      "2 2\n"
     ]
    }
   ],
   "source": [
    "print(ok, ng)"
   ]
  },
  {
   "cell_type": "code",
   "execution_count": null,
   "id": "fda32a90-070e-4daa-9246-74764046fa4c",
   "metadata": {},
   "outputs": [],
   "source": []
  }
 ],
 "metadata": {
  "kernelspec": {
   "display_name": "Python 3",
   "language": "python",
   "name": "python3"
  },
  "language_info": {
   "codemirror_mode": {
    "name": "ipython",
    "version": 3
   },
   "file_extension": ".py",
   "mimetype": "text/x-python",
   "name": "python",
   "nbconvert_exporter": "python",
   "pygments_lexer": "ipython3",
   "version": "3.6.13"
  }
 },
 "nbformat": 4,
 "nbformat_minor": 5
}
