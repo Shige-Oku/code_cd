{
 "cells": [
  {
   "cell_type": "code",
   "execution_count": 11,
   "id": "14dff514-3d87-4115-b278-6d24db9c3272",
   "metadata": {},
   "outputs": [
    {
     "name": "stdin",
     "output_type": "stream",
     "text": [
      " 10000000\n"
     ]
    }
   ],
   "source": [
    "P = int(input())"
   ]
  },
  {
   "cell_type": "code",
   "execution_count": 12,
   "id": "e0b28c01-d356-47cc-9d1f-a9232898f63d",
   "metadata": {},
   "outputs": [],
   "source": [
    "money = [1] * 11\n",
    "for i in range(1, 11):\n",
    "    money[i] = money[i-1] * i"
   ]
  },
  {
   "cell_type": "code",
   "execution_count": 13,
   "id": "67508d29-1ab6-4da4-ab05-6eab91620b3c",
   "metadata": {},
   "outputs": [],
   "source": [
    "ans = 0\n",
    "m = P\n",
    "for i in range(10, 0, -1):\n",
    "    q, r = divmod(m, money[i])\n",
    "    ans += q\n",
    "    m = r"
   ]
  },
  {
   "cell_type": "code",
   "execution_count": 14,
   "id": "5968731b-1f43-4747-a9ff-48d34c649045",
   "metadata": {},
   "outputs": [
    {
     "name": "stdout",
     "output_type": "stream",
     "text": [
      "24\n"
     ]
    }
   ],
   "source": [
    "print(ans)"
   ]
  },
  {
   "cell_type": "code",
   "execution_count": 3,
   "id": "8828d0d8-fcfb-4271-9e34-566dc7326230",
   "metadata": {},
   "outputs": [
    {
     "data": {
      "text/plain": [
       "[1, 1, 2, 6, 24, 120, 720, 5040, 40320, 362880, 3628800]"
      ]
     },
     "execution_count": 3,
     "metadata": {},
     "output_type": "execute_result"
    }
   ],
   "source": [
    "money"
   ]
  },
  {
   "cell_type": "code",
   "execution_count": 17,
   "id": "26a30bc9-123a-42d6-8c76-b58c0598ccb6",
   "metadata": {},
   "outputs": [],
   "source": [
    "ans = 0\n",
    "m = P\n",
    "for i in range(1, 10):\n",
    "    q, r = divmod(m, money[i+1])\n",
    "    ans += r // money[i]\n",
    "    m -= r\n",
    "else:\n",
    "    ans += q"
   ]
  },
  {
   "cell_type": "code",
   "execution_count": 18,
   "id": "d257d80e-1959-4f0a-89c2-658c2a452b7d",
   "metadata": {},
   "outputs": [
    {
     "name": "stdout",
     "output_type": "stream",
     "text": [
      "24\n"
     ]
    }
   ],
   "source": [
    "print(ans)"
   ]
  },
  {
   "cell_type": "code",
   "execution_count": null,
   "id": "9b2b424a-ab3f-421b-bf86-a568951a875a",
   "metadata": {},
   "outputs": [],
   "source": []
  }
 ],
 "metadata": {
  "kernelspec": {
   "display_name": "Python 3",
   "language": "python",
   "name": "python3"
  },
  "language_info": {
   "codemirror_mode": {
    "name": "ipython",
    "version": 3
   },
   "file_extension": ".py",
   "mimetype": "text/x-python",
   "name": "python",
   "nbconvert_exporter": "python",
   "pygments_lexer": "ipython3",
   "version": "3.6.13"
  }
 },
 "nbformat": 4,
 "nbformat_minor": 5
}
