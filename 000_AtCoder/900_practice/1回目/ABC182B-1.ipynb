{
 "cells": [
  {
   "cell_type": "code",
   "execution_count": 7,
   "id": "67bf668d-e9af-47e2-b0e3-6350b972b8c3",
   "metadata": {},
   "outputs": [
    {
     "name": "stdin",
     "output_type": "stream",
     "text": [
      " 5\n"
     ]
    }
   ],
   "source": [
    "N = int(input())"
   ]
  },
  {
   "cell_type": "code",
   "execution_count": 12,
   "id": "2bb568ce-9675-47e4-bf44-6b8928f582aa",
   "metadata": {},
   "outputs": [
    {
     "name": "stdin",
     "output_type": "stream",
     "text": [
      " 1000 1000 1000 1000 1000\n"
     ]
    }
   ],
   "source": [
    "An = list(map(int, input().split()))"
   ]
  },
  {
   "cell_type": "code",
   "execution_count": 13,
   "id": "f3785d89-c442-4df2-ae52-a9ebd170703b",
   "metadata": {},
   "outputs": [],
   "source": [
    "m = 0\n",
    "ans = 0\n",
    "for g in range(2, 1001):\n",
    "    cnt = 0\n",
    "    for A in An:\n",
    "        if A % g == 0:\n",
    "            cnt += 1\n",
    "    if cnt > m:\n",
    "        ans = g\n",
    "        m = cnt"
   ]
  },
  {
   "cell_type": "code",
   "execution_count": 14,
   "id": "297dc5fc-3f09-427c-9b39-1de56a962a03",
   "metadata": {},
   "outputs": [
    {
     "name": "stdout",
     "output_type": "stream",
     "text": [
      "2\n"
     ]
    }
   ],
   "source": [
    "print(ans)"
   ]
  },
  {
   "cell_type": "code",
   "execution_count": 11,
   "id": "50412818-aed6-40c5-9414-1a3c340cd018",
   "metadata": {},
   "outputs": [
    {
     "data": {
      "text/plain": [
       "(0, 4)"
      ]
     },
     "execution_count": 11,
     "metadata": {},
     "output_type": "execute_result"
    }
   ],
   "source": [
    "cnt, m"
   ]
  },
  {
   "cell_type": "code",
   "execution_count": 15,
   "id": "be1b7a70-a290-4b45-9f91-d113fa69eb31",
   "metadata": {},
   "outputs": [],
   "source": [
    "m = 0\n",
    "ans = 0\n",
    "for g in range(2, 1001):\n",
    "    cnt = sum(A % g == 0 for A in An)\n",
    "    if cnt > m:\n",
    "        ans = g\n",
    "        m = cnt"
   ]
  },
  {
   "cell_type": "code",
   "execution_count": 16,
   "id": "82b47ff5-275a-4b04-b715-b8e56ab01977",
   "metadata": {},
   "outputs": [
    {
     "name": "stdout",
     "output_type": "stream",
     "text": [
      "2\n"
     ]
    }
   ],
   "source": [
    "print(ans)"
   ]
  },
  {
   "cell_type": "code",
   "execution_count": null,
   "id": "3ec838eb-f90a-4b30-9357-81361da7056a",
   "metadata": {},
   "outputs": [],
   "source": []
  }
 ],
 "metadata": {
  "kernelspec": {
   "display_name": "Python 3",
   "language": "python",
   "name": "python3"
  },
  "language_info": {
   "codemirror_mode": {
    "name": "ipython",
    "version": 3
   },
   "file_extension": ".py",
   "mimetype": "text/x-python",
   "name": "python",
   "nbconvert_exporter": "python",
   "pygments_lexer": "ipython3",
   "version": "3.6.13"
  }
 },
 "nbformat": 4,
 "nbformat_minor": 5
}
