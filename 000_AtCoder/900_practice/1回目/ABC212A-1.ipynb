{
 "cells": [
  {
   "cell_type": "code",
   "execution_count": 5,
   "id": "66cda3d3-8f55-46ad-9aa1-ff6809196424",
   "metadata": {},
   "outputs": [
    {
     "name": "stdin",
     "output_type": "stream",
     "text": [
      " 0 100\n"
     ]
    }
   ],
   "source": [
    "A, B = map(int, input().split())"
   ]
  },
  {
   "cell_type": "code",
   "execution_count": 6,
   "id": "652446f6-0024-4825-bff1-14779ab6dcb0",
   "metadata": {},
   "outputs": [
    {
     "name": "stdout",
     "output_type": "stream",
     "text": [
      "Silver\n"
     ]
    }
   ],
   "source": [
    "if B == 0:\n",
    "    print('Gold')\n",
    "elif A == 0:\n",
    "    print('Silver')\n",
    "else:\n",
    "    print('Alloy')"
   ]
  },
  {
   "cell_type": "code",
   "execution_count": null,
   "id": "a883dbe7-1431-4e35-93f7-9d256ea76bac",
   "metadata": {},
   "outputs": [],
   "source": []
  }
 ],
 "metadata": {
  "kernelspec": {
   "display_name": "Python 3",
   "language": "python",
   "name": "python3"
  },
  "language_info": {
   "codemirror_mode": {
    "name": "ipython",
    "version": 3
   },
   "file_extension": ".py",
   "mimetype": "text/x-python",
   "name": "python",
   "nbconvert_exporter": "python",
   "pygments_lexer": "ipython3",
   "version": "3.6.13"
  }
 },
 "nbformat": 4,
 "nbformat_minor": 5
}
