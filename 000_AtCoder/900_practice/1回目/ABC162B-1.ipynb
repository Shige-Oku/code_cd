{
 "cells": [
  {
   "cell_type": "code",
   "execution_count": 6,
   "id": "d39c0709-6e2e-4e48-9877-55057d7ce315",
   "metadata": {},
   "outputs": [
    {
     "name": "stdin",
     "output_type": "stream",
     "text": [
      " 1000000\n"
     ]
    }
   ],
   "source": [
    "N = int(input())"
   ]
  },
  {
   "cell_type": "code",
   "execution_count": 7,
   "id": "835e4883-b96f-4049-a2a3-715252a9bf9f",
   "metadata": {},
   "outputs": [],
   "source": [
    "ans = 0\n",
    "for i in range(N+1):\n",
    "    if i % 3 == 0 or i % 5 == 0:\n",
    "        continue\n",
    "    ans += i"
   ]
  },
  {
   "cell_type": "code",
   "execution_count": 8,
   "id": "3b2c8306-87e8-4540-8209-2667e5c8292c",
   "metadata": {},
   "outputs": [
    {
     "name": "stdout",
     "output_type": "stream",
     "text": [
      "266666333332\n"
     ]
    }
   ],
   "source": [
    "print(ans)"
   ]
  },
  {
   "cell_type": "code",
   "execution_count": 13,
   "id": "9a027be3-bb55-4321-b014-933b05aa57c2",
   "metadata": {},
   "outputs": [
    {
     "name": "stdout",
     "output_type": "stream",
     "text": [
      "266666333332\n"
     ]
    }
   ],
   "source": [
    "print(sum(i for i in range(1, N+1) if i%3 != 0 and i%5 != 0))"
   ]
  },
  {
   "cell_type": "code",
   "execution_count": null,
   "id": "7bcc5853-c9b5-4793-914a-3e988f7142b2",
   "metadata": {},
   "outputs": [],
   "source": []
  }
 ],
 "metadata": {
  "kernelspec": {
   "display_name": "Python 3",
   "language": "python",
   "name": "python3"
  },
  "language_info": {
   "codemirror_mode": {
    "name": "ipython",
    "version": 3
   },
   "file_extension": ".py",
   "mimetype": "text/x-python",
   "name": "python",
   "nbconvert_exporter": "python",
   "pygments_lexer": "ipython3",
   "version": "3.6.13"
  }
 },
 "nbformat": 4,
 "nbformat_minor": 5
}
