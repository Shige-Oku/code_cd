{
 "cells": [
  {
   "cell_type": "code",
   "execution_count": 4,
   "id": "a43f27c2-10ea-413c-8695-16a826d7d668",
   "metadata": {},
   "outputs": [],
   "source": [
    "import itertools"
   ]
  },
  {
   "cell_type": "code",
   "execution_count": 17,
   "id": "dc6805c2-ff30-4acb-acc5-c3e3ba0b2597",
   "metadata": {},
   "outputs": [
    {
     "name": "stdin",
     "output_type": "stream",
     "text": [
      " 3\n"
     ]
    }
   ],
   "source": [
    "N = int(input())"
   ]
  },
  {
   "cell_type": "code",
   "execution_count": 27,
   "id": "a7003b97-4ddc-487f-bed4-51f0556d6805",
   "metadata": {},
   "outputs": [
    {
     "name": "stdin",
     "output_type": "stream",
     "text": [
      " 1 2 3\n"
     ]
    }
   ],
   "source": [
    "Pn = tuple(map(int, input().split()))"
   ]
  },
  {
   "cell_type": "code",
   "execution_count": 28,
   "id": "2804f74d-700c-4277-98aa-b1c28da56aae",
   "metadata": {},
   "outputs": [
    {
     "name": "stdin",
     "output_type": "stream",
     "text": [
      " 1 2 3\n"
     ]
    }
   ],
   "source": [
    "Qn = tuple(map(int, input().split()))"
   ]
  },
  {
   "cell_type": "code",
   "execution_count": 20,
   "id": "9589b76b-4ddf-4765-8dd7-c9636c799052",
   "metadata": {},
   "outputs": [],
   "source": [
    "l = []\n",
    "for p in itertools.permutations(range(1, N+1), N):\n",
    "    l.append(p)\n",
    "l.sort()\n",
    "for i, ll in enumerate(l):\n",
    "    for p, li in zip(Pn, ll):\n",
    "        if p != li:\n",
    "            break\n",
    "    else:\n",
    "        pi = i\n",
    "    for q, li in zip(Qn, ll):\n",
    "        if q != li:\n",
    "            break\n",
    "    else:\n",
    "        qi = i        "
   ]
  },
  {
   "cell_type": "code",
   "execution_count": 21,
   "id": "cb356173-1be1-4873-abb6-b794866158ad",
   "metadata": {},
   "outputs": [
    {
     "name": "stdout",
     "output_type": "stream",
     "text": [
      "0\n"
     ]
    }
   ],
   "source": [
    "print(abs(pi-qi))"
   ]
  },
  {
   "cell_type": "code",
   "execution_count": 31,
   "id": "611e4b28-8d36-4ed5-adaa-32b96c86e3af",
   "metadata": {},
   "outputs": [
    {
     "name": "stdout",
     "output_type": "stream",
     "text": [
      "0\n"
     ]
    }
   ],
   "source": [
    "per = list(itertools.permutations(range(1, N+1), N))\n",
    "pi = per.index(Pn)\n",
    "qi = per.index(Qn)\n",
    "print(abs(pi-qi))"
   ]
  },
  {
   "cell_type": "code",
   "execution_count": 30,
   "id": "081d1de9-4552-4e00-8d8c-08ead84c8240",
   "metadata": {},
   "outputs": [
    {
     "data": {
      "text/plain": [
       "list"
      ]
     },
     "execution_count": 30,
     "metadata": {},
     "output_type": "execute_result"
    }
   ],
   "source": [
    "type(per)"
   ]
  },
  {
   "cell_type": "code",
   "execution_count": null,
   "id": "81671859-b4c8-4b18-aed0-c87750d02694",
   "metadata": {},
   "outputs": [],
   "source": []
  }
 ],
 "metadata": {
  "kernelspec": {
   "display_name": "Python 3",
   "language": "python",
   "name": "python3"
  },
  "language_info": {
   "codemirror_mode": {
    "name": "ipython",
    "version": 3
   },
   "file_extension": ".py",
   "mimetype": "text/x-python",
   "name": "python",
   "nbconvert_exporter": "python",
   "pygments_lexer": "ipython3",
   "version": "3.6.13"
  }
 },
 "nbformat": 4,
 "nbformat_minor": 5
}
