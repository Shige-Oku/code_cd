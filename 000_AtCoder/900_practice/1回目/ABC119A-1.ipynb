{
 "cells": [
  {
   "cell_type": "code",
   "execution_count": 10,
   "id": "c708fdfb-ef83-4aa7-8154-0e06310a639f",
   "metadata": {},
   "outputs": [
    {
     "name": "stdin",
     "output_type": "stream",
     "text": [
      " 2019/04/29\n"
     ]
    }
   ],
   "source": [
    "S = input()"
   ]
  },
  {
   "cell_type": "code",
   "execution_count": 11,
   "id": "78c56e66-678c-45f3-8d22-d6dc9496e02b",
   "metadata": {},
   "outputs": [
    {
     "name": "stdout",
     "output_type": "stream",
     "text": [
      "Heisei\n"
     ]
    }
   ],
   "source": [
    "print('Heisei' if S <= '2019/04/30' else 'TBD')"
   ]
  },
  {
   "cell_type": "code",
   "execution_count": null,
   "id": "aa4239a0-63f6-4b95-a2b7-e6c95d926770",
   "metadata": {},
   "outputs": [],
   "source": []
  }
 ],
 "metadata": {
  "kernelspec": {
   "display_name": "Python 3",
   "language": "python",
   "name": "python3"
  },
  "language_info": {
   "codemirror_mode": {
    "name": "ipython",
    "version": 3
   },
   "file_extension": ".py",
   "mimetype": "text/x-python",
   "name": "python",
   "nbconvert_exporter": "python",
   "pygments_lexer": "ipython3",
   "version": "3.6.13"
  }
 },
 "nbformat": 4,
 "nbformat_minor": 5
}
