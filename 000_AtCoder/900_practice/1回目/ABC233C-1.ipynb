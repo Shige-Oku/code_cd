{
 "cells": [
  {
   "cell_type": "code",
   "execution_count": 1,
   "id": "55342913-755b-4c37-a3c2-55d2cca1042d",
   "metadata": {},
   "outputs": [
    {
     "name": "stdin",
     "output_type": "stream",
     "text": [
      " 2 40\n"
     ]
    }
   ],
   "source": [
    "N, X = map(int, input().split())"
   ]
  },
  {
   "cell_type": "code",
   "execution_count": 2,
   "id": "c8e31411-5030-440f-80e9-fb991404099f",
   "metadata": {},
   "outputs": [
    {
     "name": "stdin",
     "output_type": "stream",
     "text": [
      " 3 1 8 4\n",
      " 2 10 5\n"
     ]
    }
   ],
   "source": [
    "LAn = [list(map(int, input().split())) for _ in range(N)]"
   ]
  },
  {
   "cell_type": "code",
   "execution_count": 19,
   "id": "dcac8908-a995-4e96-b872-2c4f47166e84",
   "metadata": {},
   "outputs": [],
   "source": [
    "import collections\n",
    "LAn_d = []\n",
    "for LA in LAn:\n",
    "    LAn_d.append(collections.Counter(LA[1:]))"
   ]
  },
  {
   "cell_type": "code",
   "execution_count": 25,
   "id": "4e5d7301-09b3-45a6-ac43-c872753ba219",
   "metadata": {},
   "outputs": [],
   "source": [
    "import sys\n",
    "sys.setrecursionlimit(10**7)\n",
    "def DFS(n, t):\n",
    "    if n >= N:\n",
    "        if t == X:\n",
    "            return 1\n",
    "        else:\n",
    "            return 0\n",
    "    ret = 0\n",
    "    for k, v in LAn_d[n].items():\n",
    "        r = DFS(n+1, t*k)\n",
    "        ret += r * v\n",
    "    return ret"
   ]
  },
  {
   "cell_type": "code",
   "execution_count": 26,
   "id": "4d11de0d-1e74-4db1-a860-18fc16987e95",
   "metadata": {},
   "outputs": [
    {
     "name": "stdout",
     "output_type": "stream",
     "text": [
      "2\n"
     ]
    }
   ],
   "source": [
    "print(DFS(0, 1))"
   ]
  },
  {
   "cell_type": "code",
   "execution_count": 22,
   "id": "6dcfa788-f69a-4f0b-b287-2af302395bc7",
   "metadata": {},
   "outputs": [
    {
     "data": {
      "text/plain": [
       "[Counter({1: 1, 8: 1, 4: 1}), Counter({10: 1, 5: 1})]"
      ]
     },
     "execution_count": 22,
     "metadata": {},
     "output_type": "execute_result"
    }
   ],
   "source": [
    "LAn_d"
   ]
  },
  {
   "cell_type": "code",
   "execution_count": null,
   "id": "25c7cf8d-c5aa-4922-b8bd-55f8c163a658",
   "metadata": {},
   "outputs": [],
   "source": []
  }
 ],
 "metadata": {
  "kernelspec": {
   "display_name": "Python 3",
   "language": "python",
   "name": "python3"
  },
  "language_info": {
   "codemirror_mode": {
    "name": "ipython",
    "version": 3
   },
   "file_extension": ".py",
   "mimetype": "text/x-python",
   "name": "python",
   "nbconvert_exporter": "python",
   "pygments_lexer": "ipython3",
   "version": "3.6.13"
  }
 },
 "nbformat": 4,
 "nbformat_minor": 5
}
