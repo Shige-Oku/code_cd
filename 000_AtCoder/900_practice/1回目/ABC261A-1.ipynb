{
 "cells": [
  {
   "cell_type": "code",
   "execution_count": 8,
   "id": "5f9f577b-2dc9-4187-92ac-0a6b9ca0e512",
   "metadata": {},
   "outputs": [
    {
     "name": "stdin",
     "output_type": "stream",
     "text": [
      " 0 3 3 7\n"
     ]
    }
   ],
   "source": [
    "L1, R1, L2, R2 = map(int, input().split())"
   ]
  },
  {
   "cell_type": "code",
   "execution_count": 9,
   "id": "f621c760-0a9c-4999-b12c-17c4fa3226c3",
   "metadata": {},
   "outputs": [
    {
     "name": "stdout",
     "output_type": "stream",
     "text": [
      "0\n"
     ]
    }
   ],
   "source": [
    "print(max(0, min(R1, R2) - max(L1, L2)))"
   ]
  },
  {
   "cell_type": "code",
   "execution_count": null,
   "id": "305a9aa4-27c5-4dd2-8c17-16e1cb204324",
   "metadata": {},
   "outputs": [],
   "source": []
  }
 ],
 "metadata": {
  "kernelspec": {
   "display_name": "Python 3",
   "language": "python",
   "name": "python3"
  },
  "language_info": {
   "codemirror_mode": {
    "name": "ipython",
    "version": 3
   },
   "file_extension": ".py",
   "mimetype": "text/x-python",
   "name": "python",
   "nbconvert_exporter": "python",
   "pygments_lexer": "ipython3",
   "version": "3.6.13"
  }
 },
 "nbformat": 4,
 "nbformat_minor": 5
}
