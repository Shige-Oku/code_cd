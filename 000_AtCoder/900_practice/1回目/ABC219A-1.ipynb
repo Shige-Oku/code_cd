{
 "cells": [
  {
   "cell_type": "code",
   "execution_count": 10,
   "id": "9764a6d5-9519-4047-9744-5eb8c6826548",
   "metadata": {},
   "outputs": [
    {
     "name": "stdin",
     "output_type": "stream",
     "text": [
      " 100\n"
     ]
    }
   ],
   "source": [
    "X = int(input())"
   ]
  },
  {
   "cell_type": "code",
   "execution_count": 11,
   "id": "9a634329-cd14-4789-8c76-77eb0e65d83b",
   "metadata": {},
   "outputs": [
    {
     "name": "stdout",
     "output_type": "stream",
     "text": [
      "expert\n"
     ]
    }
   ],
   "source": [
    "if 0 <= X < 40:\n",
    "    print(40-X)\n",
    "elif X < 70:\n",
    "    print(70-X)\n",
    "elif X < 90:\n",
    "    print(90-X)\n",
    "else:\n",
    "    print('expert')\n"
   ]
  },
  {
   "cell_type": "code",
   "execution_count": null,
   "id": "201ceec0-b06d-42e2-aab7-e95faba912e2",
   "metadata": {},
   "outputs": [],
   "source": []
  }
 ],
 "metadata": {
  "kernelspec": {
   "display_name": "Python 3",
   "language": "python",
   "name": "python3"
  },
  "language_info": {
   "codemirror_mode": {
    "name": "ipython",
    "version": 3
   },
   "file_extension": ".py",
   "mimetype": "text/x-python",
   "name": "python",
   "nbconvert_exporter": "python",
   "pygments_lexer": "ipython3",
   "version": "3.6.13"
  }
 },
 "nbformat": 4,
 "nbformat_minor": 5
}
