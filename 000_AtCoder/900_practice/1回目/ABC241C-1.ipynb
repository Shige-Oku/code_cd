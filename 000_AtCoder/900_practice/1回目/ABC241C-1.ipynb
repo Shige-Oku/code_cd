{
 "cells": [
  {
   "cell_type": "code",
   "execution_count": 45,
   "id": "e0b0455d-c9fa-4c4c-a5a4-137bc61ae52a",
   "metadata": {},
   "outputs": [
    {
     "name": "stdin",
     "output_type": "stream",
     "text": [
      " 10\n"
     ]
    }
   ],
   "source": [
    "N = int(input())"
   ]
  },
  {
   "cell_type": "code",
   "execution_count": 46,
   "id": "a086a4f8-38c0-4242-94aa-1b9d0f549a49",
   "metadata": {},
   "outputs": [
    {
     "name": "stdin",
     "output_type": "stream",
     "text": [
      " ..........\n",
      " #..##.....\n",
      " ..........\n",
      " ..........\n",
      " ....#.....\n",
      " ....#.....\n",
      " .#...#..#.\n",
      " ..........\n",
      " ..........\n",
      " ..........\n"
     ]
    }
   ],
   "source": [
    "Sn = [list(input()) for _ in range(N)]"
   ]
  },
  {
   "cell_type": "code",
   "execution_count": null,
   "id": "42ffa671-b561-402a-a31a-4f5ad608cc30",
   "metadata": {},
   "outputs": [],
   "source": [
    "# 解説を読んで実装"
   ]
  },
  {
   "cell_type": "code",
   "execution_count": 47,
   "id": "fbd7142b-f94b-4613-acd4-4e88fd1bba98",
   "metadata": {},
   "outputs": [],
   "source": [
    "def yoko(i, j):\n",
    "    if i + 5 >= N:\n",
    "        return False\n",
    "    cnt = 0\n",
    "    for k in range(i, i+6):\n",
    "        if Sn[k][j] == '#':\n",
    "            cnt += 1            \n",
    "    return cnt >= 4"
   ]
  },
  {
   "cell_type": "code",
   "execution_count": 48,
   "id": "ca2b767d-fd2d-42bf-8840-b2fd3f7f29f7",
   "metadata": {},
   "outputs": [],
   "source": [
    "def tate(i, j):\n",
    "    if j + 5 >= N:\n",
    "        return False\n",
    "    cnt = 0\n",
    "    for k in range(j, j+6):\n",
    "        if Sn[i][k] == '#':\n",
    "            cnt += 1            \n",
    "    return cnt >= 4"
   ]
  },
  {
   "cell_type": "code",
   "execution_count": 57,
   "id": "5c48dddf-d6c9-4e48-8039-aee125e08049",
   "metadata": {},
   "outputs": [],
   "source": [
    "def naname1(i, j):\n",
    "    if i + 5 >= N or j - 5 < 0:\n",
    "        return False\n",
    "    cnt = 0\n",
    "    for c in range(6):\n",
    "        k = i + c\n",
    "        l = j - c\n",
    "        if Sn[k][l] == '#':\n",
    "            cnt += 1            \n",
    "    return cnt >= 4"
   ]
  },
  {
   "cell_type": "code",
   "execution_count": 58,
   "id": "f2d3de13-0a39-4696-9674-3ed053ba2114",
   "metadata": {},
   "outputs": [],
   "source": [
    "def naname2(i, j):\n",
    "    if i + 5 >= N or j + 5 >= N:\n",
    "        return False\n",
    "    cnt = 0\n",
    "    for c in range(6):\n",
    "        k = i + c\n",
    "        l = j + c\n",
    "        if Sn[k][l] == '#':\n",
    "            cnt += 1            \n",
    "    return cnt >= 4"
   ]
  },
  {
   "cell_type": "code",
   "execution_count": 61,
   "id": "98811250-3cc0-40af-baf3-f02ce53be1a2",
   "metadata": {},
   "outputs": [],
   "source": [
    "flg = False\n",
    "for i in range(N):\n",
    "    for j in range(N):\n",
    "        if yoko(i, j):\n",
    "            flg = True\n",
    "        if tate(i, j):\n",
    "            flg = True\n",
    "        if naname1(i, j):\n",
    "            flg = True\n",
    "        if naname2(i, j):\n",
    "            flg = True\n"
   ]
  },
  {
   "cell_type": "code",
   "execution_count": 60,
   "id": "839a9d84-50fe-4201-8cec-3b6975191e20",
   "metadata": {},
   "outputs": [
    {
     "name": "stdout",
     "output_type": "stream",
     "text": [
      "No\n"
     ]
    }
   ],
   "source": [
    "print('Yes' if flg else 'No')"
   ]
  },
  {
   "cell_type": "code",
   "execution_count": 29,
   "id": "71dbf0bc-6969-4390-8cf8-26dc6277938b",
   "metadata": {},
   "outputs": [
    {
     "data": {
      "text/plain": [
       "True"
      ]
     },
     "execution_count": 29,
     "metadata": {},
     "output_type": "execute_result"
    }
   ],
   "source": [
    "flg"
   ]
  },
  {
   "cell_type": "code",
   "execution_count": 6,
   "id": "ac6ec433-a935-4906-826e-78c4102d74af",
   "metadata": {},
   "outputs": [],
   "source": [
    "Sn_c = [[0] * (N+1) for _ in range(N+1)]\n",
    "for i, S in enumerate(Sn, 1):\n",
    "    for j, s in enumerate(S):\n",
    "        if s == '#':\n",
    "            Sn_c[i][j] = 1"
   ]
  },
  {
   "cell_type": "code",
   "execution_count": 8,
   "id": "9987fe4b-304b-400b-9551-3ce4f0127d33",
   "metadata": {},
   "outputs": [],
   "source": [
    "Sn_cum = [[0] * (N+1) for _ in range(N+1)]\n",
    "for i in range(1, N+1):\n",
    "    for j in range(1, N+1):\n",
    "        Sn_cum[i][j] = Sn_cum[i-1][j] + Sn_cum[i][j-1] - Sn_cum[i-1][j-1] + Sn_c[i][j]"
   ]
  },
  {
   "cell_type": "code",
   "execution_count": 7,
   "id": "07eeacb4-7f81-4363-949b-3160bbc72c53",
   "metadata": {},
   "outputs": [
    {
     "data": {
      "text/plain": [
       "[[0, 0, 0, 0, 0, 0, 0, 0, 0],\n",
       " [0, 0, 0, 0, 0, 0, 0, 0, 0],\n",
       " [0, 0, 0, 0, 0, 0, 0, 0, 0],\n",
       " [0, 1, 0, 1, 1, 0, 1, 0, 0],\n",
       " [0, 0, 0, 0, 0, 0, 0, 0, 0],\n",
       " [0, 0, 0, 0, 0, 0, 0, 0, 0],\n",
       " [0, 0, 0, 0, 0, 0, 0, 0, 0],\n",
       " [0, 0, 0, 0, 0, 0, 0, 0, 0],\n",
       " [0, 0, 0, 0, 0, 0, 0, 0, 0]]"
      ]
     },
     "execution_count": 7,
     "metadata": {},
     "output_type": "execute_result"
    }
   ],
   "source": [
    "Sn_c"
   ]
  },
  {
   "cell_type": "code",
   "execution_count": 9,
   "id": "ad5b63dc-03ad-43f3-a42a-e766e368f53e",
   "metadata": {},
   "outputs": [
    {
     "data": {
      "text/plain": [
       "[[0, 0, 0, 0, 0, 0, 0, 0, 0],\n",
       " [0, 0, 0, 0, 0, 0, 0, 0, 0],\n",
       " [0, 0, 0, 0, 0, 0, 0, 0, 0],\n",
       " [0, 1, 1, 2, 3, 3, 4, 4, 4],\n",
       " [0, 1, 1, 2, 3, 3, 4, 4, 4],\n",
       " [0, 1, 1, 2, 3, 3, 4, 4, 4],\n",
       " [0, 1, 1, 2, 3, 3, 4, 4, 4],\n",
       " [0, 1, 1, 2, 3, 3, 4, 4, 4],\n",
       " [0, 1, 1, 2, 3, 3, 4, 4, 4]]"
      ]
     },
     "execution_count": 9,
     "metadata": {},
     "output_type": "execute_result"
    }
   ],
   "source": [
    "Sn_cum"
   ]
  },
  {
   "cell_type": "code",
   "execution_count": null,
   "id": "825efe44-dc83-483c-9c44-d5dbec92afd3",
   "metadata": {},
   "outputs": [],
   "source": []
  }
 ],
 "metadata": {
  "kernelspec": {
   "display_name": "Python 3",
   "language": "python",
   "name": "python3"
  },
  "language_info": {
   "codemirror_mode": {
    "name": "ipython",
    "version": 3
   },
   "file_extension": ".py",
   "mimetype": "text/x-python",
   "name": "python",
   "nbconvert_exporter": "python",
   "pygments_lexer": "ipython3",
   "version": "3.6.13"
  }
 },
 "nbformat": 4,
 "nbformat_minor": 5
}
