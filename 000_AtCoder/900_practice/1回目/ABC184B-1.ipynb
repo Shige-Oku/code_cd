{
 "cells": [
  {
   "cell_type": "code",
   "execution_count": 9,
   "id": "0e138bff-9d49-4572-beb6-2c27baa2edc5",
   "metadata": {},
   "outputs": [
    {
     "name": "stdin",
     "output_type": "stream",
     "text": [
      " 20 10\n"
     ]
    }
   ],
   "source": [
    "N, X = map(int, input().split())"
   ]
  },
  {
   "cell_type": "code",
   "execution_count": 10,
   "id": "9f0aee91-fbc7-43ad-acc8-aac41e559b7c",
   "metadata": {},
   "outputs": [
    {
     "name": "stdin",
     "output_type": "stream",
     "text": [
      " xxxxxxxxxxxxxxxxxxxx\n"
     ]
    }
   ],
   "source": [
    "S = input()"
   ]
  },
  {
   "cell_type": "code",
   "execution_count": 11,
   "id": "104bf4b3-e4e7-422c-bcf9-68e2c0bafbb8",
   "metadata": {},
   "outputs": [],
   "source": [
    "ans = X\n",
    "for s in S:\n",
    "    if s == 'o':\n",
    "        ans += 1\n",
    "    else:\n",
    "        ans = max(0, ans-1)"
   ]
  },
  {
   "cell_type": "code",
   "execution_count": 12,
   "id": "aa57ebc4-e0b6-4572-bfb9-5419089cbce3",
   "metadata": {},
   "outputs": [
    {
     "name": "stdout",
     "output_type": "stream",
     "text": [
      "0\n"
     ]
    }
   ],
   "source": [
    "print(ans)"
   ]
  },
  {
   "cell_type": "code",
   "execution_count": null,
   "id": "88f7bf27-8547-4607-9880-9d0d6d1a5192",
   "metadata": {},
   "outputs": [],
   "source": []
  }
 ],
 "metadata": {
  "kernelspec": {
   "display_name": "Python 3",
   "language": "python",
   "name": "python3"
  },
  "language_info": {
   "codemirror_mode": {
    "name": "ipython",
    "version": 3
   },
   "file_extension": ".py",
   "mimetype": "text/x-python",
   "name": "python",
   "nbconvert_exporter": "python",
   "pygments_lexer": "ipython3",
   "version": "3.6.13"
  }
 },
 "nbformat": 4,
 "nbformat_minor": 5
}
