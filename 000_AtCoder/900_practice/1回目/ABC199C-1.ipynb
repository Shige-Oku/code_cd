{
 "cells": [
  {
   "cell_type": "code",
   "execution_count": 1,
   "id": "40fa3bbb-f778-42f7-ba30-faaa49cc02f4",
   "metadata": {},
   "outputs": [
    {
     "name": "stdin",
     "output_type": "stream",
     "text": [
      " 2\n"
     ]
    }
   ],
   "source": [
    "N = int(input())"
   ]
  },
  {
   "cell_type": "code",
   "execution_count": 2,
   "id": "8751c66c-5842-4948-9cde-0d3025ddc8d5",
   "metadata": {},
   "outputs": [
    {
     "name": "stdin",
     "output_type": "stream",
     "text": [
      " FLIP\n"
     ]
    }
   ],
   "source": [
    "S = input()"
   ]
  },
  {
   "cell_type": "code",
   "execution_count": 3,
   "id": "6abc95a8-afba-4d7f-94ba-86e1a368a022",
   "metadata": {},
   "outputs": [
    {
     "name": "stdin",
     "output_type": "stream",
     "text": [
      " 2\n"
     ]
    }
   ],
   "source": [
    "Q = int(input())"
   ]
  },
  {
   "cell_type": "code",
   "execution_count": 4,
   "id": "3c0d3434-02c6-41c8-8f86-9b93d100e1f9",
   "metadata": {},
   "outputs": [
    {
     "name": "stdin",
     "output_type": "stream",
     "text": [
      " 2 0 0\n",
      " 1 1 4\n"
     ]
    }
   ],
   "source": [
    "TABn = [list(map(int, input().split())) for _ in range(Q)]"
   ]
  },
  {
   "cell_type": "code",
   "execution_count": 25,
   "id": "e2c75a31-379c-4588-9716-040a85b9237f",
   "metadata": {},
   "outputs": [],
   "source": [
    "sl = list(S)\n",
    "left = True\n",
    "for T, A, B in TABn:\n",
    "    A -= 1\n",
    "    B -= 1\n",
    "    if T == 1:\n",
    "        if not left:\n",
    "            if A < N:\n",
    "                A += N\n",
    "            else:\n",
    "                A -= N\n",
    "            if B < N:\n",
    "                B += N\n",
    "            else:\n",
    "                B -= N\n",
    "        sl[A], sl[B] = sl[B], sl[A]\n",
    "    else:\n",
    "        left = not left"
   ]
  },
  {
   "cell_type": "code",
   "execution_count": 26,
   "id": "108bc169-7ea7-4c2d-b4d3-784dc7494888",
   "metadata": {},
   "outputs": [
    {
     "name": "stdout",
     "output_type": "stream",
     "text": [
      "LPFI\n"
     ]
    }
   ],
   "source": [
    "ans = ''.join(sl)\n",
    "if not left:\n",
    "    ans = ans[N:] + ans[:N]\n",
    "print(ans)"
   ]
  },
  {
   "cell_type": "code",
   "execution_count": 29,
   "id": "0db0b963-b76b-478f-b9f4-9bd9d6ef4dcc",
   "metadata": {},
   "outputs": [],
   "source": [
    "sl = list(S)\n",
    "turn = False\n",
    "for T, A, B in TABn:\n",
    "    A -= 1\n",
    "    B -= 1\n",
    "    if T == 1:\n",
    "        if turn:\n",
    "            A += N\n",
    "            B += N\n",
    "            A %= (N + N)\n",
    "            B %= (N + N)\n",
    "        sl[A], sl[B] = sl[B], sl[A]\n",
    "    else:\n",
    "        turn = not turn "
   ]
  },
  {
   "cell_type": "code",
   "execution_count": 30,
   "id": "1cbc46f7-85af-4125-8381-b453ee5c3b51",
   "metadata": {},
   "outputs": [
    {
     "name": "stdout",
     "output_type": "stream",
     "text": [
      "LPFI\n"
     ]
    }
   ],
   "source": [
    "ans = ''.join(sl)\n",
    "if turn:\n",
    "    ans = ans[N:] + ans[:N]\n",
    "print(ans)"
   ]
  },
  {
   "cell_type": "code",
   "execution_count": null,
   "id": "490e95ee-0955-4a84-a214-e909a47c1c97",
   "metadata": {},
   "outputs": [],
   "source": []
  }
 ],
 "metadata": {
  "kernelspec": {
   "display_name": "Python 3",
   "language": "python",
   "name": "python3"
  },
  "language_info": {
   "codemirror_mode": {
    "name": "ipython",
    "version": 3
   },
   "file_extension": ".py",
   "mimetype": "text/x-python",
   "name": "python",
   "nbconvert_exporter": "python",
   "pygments_lexer": "ipython3",
   "version": "3.6.13"
  }
 },
 "nbformat": 4,
 "nbformat_minor": 5
}
