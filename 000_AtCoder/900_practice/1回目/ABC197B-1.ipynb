{
 "cells": [
  {
   "cell_type": "code",
   "execution_count": 1,
   "id": "8b46c109-b457-47c4-bc28-66d54f9575b6",
   "metadata": {},
   "outputs": [
    {
     "name": "stdin",
     "output_type": "stream",
     "text": [
      " 4 4 2 2\n"
     ]
    }
   ],
   "source": [
    "H, W, X, Y = map(int, input().split())"
   ]
  },
  {
   "cell_type": "code",
   "execution_count": 2,
   "id": "3df89ed4-bb80-41a8-aee7-4735ae51a63f",
   "metadata": {},
   "outputs": [
    {
     "name": "stdin",
     "output_type": "stream",
     "text": [
      " ##..\n",
      " ...#\n",
      " #.#.\n",
      " .#.#\n"
     ]
    }
   ],
   "source": [
    "Sn = [input() for _ in range(H)]"
   ]
  },
  {
   "cell_type": "code",
   "execution_count": 18,
   "id": "18a5b37b-8b59-468e-9796-ac05c1dd71ec",
   "metadata": {},
   "outputs": [],
   "source": [
    "ans = 1\n",
    "for i in range(Y, W):\n",
    "    if Sn[X-1][i] == '#':\n",
    "        break\n",
    "    ans += 1\n",
    "for i in range(Y-2, -1, -1):\n",
    "    if Sn[X-1][i] == '#':\n",
    "        break\n",
    "    ans += 1\n",
    "for i in range(X, H):\n",
    "    if Sn[i][Y-1] == '#':\n",
    "        break\n",
    "    ans += 1\n",
    "for i in range(X-2, -1, -1):\n",
    "    if Sn[i][Y-1] == '#':\n",
    "        break\n",
    "    ans += 1\n",
    "    "
   ]
  },
  {
   "cell_type": "code",
   "execution_count": 19,
   "id": "ab8f988c-a51c-4a72-9981-0c287f94a78f",
   "metadata": {},
   "outputs": [
    {
     "name": "stdout",
     "output_type": "stream",
     "text": [
      "4\n"
     ]
    }
   ],
   "source": [
    "print(ans)"
   ]
  },
  {
   "cell_type": "code",
   "execution_count": 16,
   "id": "f7b9ffe4-cac7-454f-875b-f990f94dbd5e",
   "metadata": {},
   "outputs": [
    {
     "data": {
      "text/plain": [
       "4"
      ]
     },
     "execution_count": 16,
     "metadata": {},
     "output_type": "execute_result"
    }
   ],
   "source": [
    "ans"
   ]
  },
  {
   "cell_type": "code",
   "execution_count": null,
   "id": "4e853e08-815c-4edc-87bd-3452ed7fd20a",
   "metadata": {},
   "outputs": [],
   "source": []
  }
 ],
 "metadata": {
  "kernelspec": {
   "display_name": "Python 3",
   "language": "python",
   "name": "python3"
  },
  "language_info": {
   "codemirror_mode": {
    "name": "ipython",
    "version": 3
   },
   "file_extension": ".py",
   "mimetype": "text/x-python",
   "name": "python",
   "nbconvert_exporter": "python",
   "pygments_lexer": "ipython3",
   "version": "3.6.13"
  }
 },
 "nbformat": 4,
 "nbformat_minor": 5
}
