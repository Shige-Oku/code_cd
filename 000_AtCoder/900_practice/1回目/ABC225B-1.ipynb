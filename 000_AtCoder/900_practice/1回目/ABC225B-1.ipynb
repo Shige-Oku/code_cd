{
 "cells": [
  {
   "cell_type": "code",
   "execution_count": 3,
   "id": "c0475524-33bf-4a22-a845-d9ccae3f99c6",
   "metadata": {},
   "outputs": [
    {
     "name": "stdin",
     "output_type": "stream",
     "text": [
      " 5\n"
     ]
    }
   ],
   "source": [
    "N = int(input())"
   ]
  },
  {
   "cell_type": "code",
   "execution_count": 5,
   "id": "8e22f71d-2df7-43db-933d-2320a16dfceb",
   "metadata": {},
   "outputs": [
    {
     "name": "stdin",
     "output_type": "stream",
     "text": [
      " 1 4\n",
      " 2 4\n",
      " 3 4\n",
      " 4 5\n"
     ]
    }
   ],
   "source": [
    "ABn = [list(map(int, input().split())) for _ in range(N-1)]"
   ]
  },
  {
   "cell_type": "code",
   "execution_count": 7,
   "id": "f3a12839-10d8-4372-9cf5-47569525706d",
   "metadata": {},
   "outputs": [],
   "source": [
    "graph = [[] for _ in range(N+1)]\n",
    "for A, B in ABn:\n",
    "    graph[A].append(B)\n",
    "    graph[B].append(A)"
   ]
  },
  {
   "cell_type": "code",
   "execution_count": 11,
   "id": "02731b81-ea6a-4ca1-ab40-16d562ac6ae5",
   "metadata": {},
   "outputs": [
    {
     "name": "stdout",
     "output_type": "stream",
     "text": [
      "Yes\n"
     ]
    }
   ],
   "source": [
    "for i in range(N+1):\n",
    "    if len(graph[i]) >= N-1:\n",
    "        print('Yes')\n",
    "        break\n",
    "else:\n",
    "    print('No')"
   ]
  },
  {
   "cell_type": "code",
   "execution_count": 10,
   "id": "48223575-fce4-4227-a97d-1b923e2e4f57",
   "metadata": {},
   "outputs": [
    {
     "data": {
      "text/plain": [
       "[[], [4], [4], [4], [1, 2, 3, 5], [4]]"
      ]
     },
     "execution_count": 10,
     "metadata": {},
     "output_type": "execute_result"
    }
   ],
   "source": [
    "graph"
   ]
  },
  {
   "cell_type": "code",
   "execution_count": 12,
   "id": "482b47a0-332b-4fcd-bef6-daaf26788af2",
   "metadata": {},
   "outputs": [],
   "source": [
    "cnt = [0] * N\n",
    "for A, B in ABn:\n",
    "    cnt[A-1] += 1\n",
    "    cnt[B-1] += 1"
   ]
  },
  {
   "cell_type": "code",
   "execution_count": 13,
   "id": "f44bba54-e72e-4ca0-96b2-ce40b55f6264",
   "metadata": {},
   "outputs": [
    {
     "name": "stdout",
     "output_type": "stream",
     "text": [
      "Yes\n"
     ]
    }
   ],
   "source": [
    "print('Yes' if max(cnt) >= N-1 else 'No')"
   ]
  },
  {
   "cell_type": "code",
   "execution_count": null,
   "id": "ae1a6770-10c7-4baf-8cad-b31fcb82982f",
   "metadata": {},
   "outputs": [],
   "source": []
  }
 ],
 "metadata": {
  "kernelspec": {
   "display_name": "Python 3",
   "language": "python",
   "name": "python3"
  },
  "language_info": {
   "codemirror_mode": {
    "name": "ipython",
    "version": 3
   },
   "file_extension": ".py",
   "mimetype": "text/x-python",
   "name": "python",
   "nbconvert_exporter": "python",
   "pygments_lexer": "ipython3",
   "version": "3.6.13"
  }
 },
 "nbformat": 4,
 "nbformat_minor": 5
}
