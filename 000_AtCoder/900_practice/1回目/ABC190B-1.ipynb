{
 "cells": [
  {
   "cell_type": "code",
   "execution_count": 1,
   "id": "eccb6d35-a194-47e8-8f21-37b8de3dff45",
   "metadata": {},
   "outputs": [
    {
     "name": "stdin",
     "output_type": "stream",
     "text": [
      " 4 9 9\n"
     ]
    }
   ],
   "source": [
    "N, S, D = map(int, input().split())"
   ]
  },
  {
   "cell_type": "code",
   "execution_count": 2,
   "id": "dc09973f-06d9-42e4-b545-a5297fec1c44",
   "metadata": {},
   "outputs": [
    {
     "name": "stdin",
     "output_type": "stream",
     "text": [
      " 5 5\n",
      " 15 5\n",
      " 5 15\n",
      " 15 15\n"
     ]
    }
   ],
   "source": [
    "XYn = [list(map(int, input().split())) for _ in range(N)]"
   ]
  },
  {
   "cell_type": "code",
   "execution_count": 3,
   "id": "6eff14f1-9fad-430d-b308-94924a6ee72b",
   "metadata": {},
   "outputs": [
    {
     "name": "stdout",
     "output_type": "stream",
     "text": [
      "Yes\n"
     ]
    }
   ],
   "source": [
    "for X, Y in XYn:\n",
    "    if X < S and Y > D:\n",
    "        print('Yes')\n",
    "        break\n",
    "else:\n",
    "    print('No')"
   ]
  },
  {
   "cell_type": "code",
   "execution_count": 6,
   "id": "710f71a0-af19-4e2d-ab40-769365c2f0c0",
   "metadata": {},
   "outputs": [
    {
     "name": "stdout",
     "output_type": "stream",
     "text": [
      "Yes\n"
     ]
    }
   ],
   "source": [
    "cnt = sum(1 for X, Y in XYn if X < S and Y > D)\n",
    "print('Yes' if cnt > 0 else 'No')"
   ]
  },
  {
   "cell_type": "code",
   "execution_count": 19,
   "id": "5b32b224-6b05-4d5f-8fb9-20e165d903be",
   "metadata": {},
   "outputs": [
    {
     "name": "stdout",
     "output_type": "stream",
     "text": [
      "Yes\n"
     ]
    }
   ],
   "source": [
    "print('Yes' if any(X < S and Y > D for X, Y in XYn) else 'No')"
   ]
  },
  {
   "cell_type": "code",
   "execution_count": 5,
   "id": "17d79dad-a08a-4096-a958-46cffdb4b967",
   "metadata": {},
   "outputs": [
    {
     "data": {
      "text/plain": [
       "1"
      ]
     },
     "execution_count": 5,
     "metadata": {},
     "output_type": "execute_result"
    }
   ],
   "source": [
    "cnt"
   ]
  },
  {
   "cell_type": "code",
   "execution_count": null,
   "id": "a6383086-713e-4959-b586-432402d42358",
   "metadata": {},
   "outputs": [],
   "source": []
  }
 ],
 "metadata": {
  "kernelspec": {
   "display_name": "Python 3",
   "language": "python",
   "name": "python3"
  },
  "language_info": {
   "codemirror_mode": {
    "name": "ipython",
    "version": 3
   },
   "file_extension": ".py",
   "mimetype": "text/x-python",
   "name": "python",
   "nbconvert_exporter": "python",
   "pygments_lexer": "ipython3",
   "version": "3.6.13"
  }
 },
 "nbformat": 4,
 "nbformat_minor": 5
}
