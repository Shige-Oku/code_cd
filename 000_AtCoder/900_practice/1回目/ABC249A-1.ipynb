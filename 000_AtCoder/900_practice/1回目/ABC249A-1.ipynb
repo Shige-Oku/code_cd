{
 "cells": [
  {
   "cell_type": "code",
   "execution_count": 15,
   "id": "f29be3aa-8c24-427a-bc7f-bee749ec5c64",
   "metadata": {},
   "outputs": [
    {
     "name": "stdin",
     "output_type": "stream",
     "text": [
      " 1 1 1 1 1 1 1\n"
     ]
    }
   ],
   "source": [
    "A, B, C, D, E, F, X = map(int, input().split())"
   ]
  },
  {
   "cell_type": "code",
   "execution_count": 16,
   "id": "f73926d6-b29e-4a4b-bd8d-0114837d8607",
   "metadata": {},
   "outputs": [],
   "source": [
    "q, r = divmod(X, A+C)\n",
    "t = q * A * B + min(r, A) * B\n",
    "q, r = divmod(X, D+F)\n",
    "a = q * D * E + min(r, D) * E"
   ]
  },
  {
   "cell_type": "code",
   "execution_count": 17,
   "id": "bbe93897-7cba-41dc-bf87-590eb4671462",
   "metadata": {},
   "outputs": [
    {
     "name": "stdout",
     "output_type": "stream",
     "text": [
      "Draw\n"
     ]
    }
   ],
   "source": [
    "if t > a:\n",
    "    print('Takahashi')\n",
    "elif t == a:\n",
    "    print('Draw')\n",
    "else:\n",
    "    print('Aoki')"
   ]
  },
  {
   "cell_type": "code",
   "execution_count": 9,
   "id": "56708b64-265e-4380-b402-f0bbe1eefb22",
   "metadata": {},
   "outputs": [
    {
     "data": {
      "text/plain": [
       "(21, 12)"
      ]
     },
     "execution_count": 9,
     "metadata": {},
     "output_type": "execute_result"
    }
   ],
   "source": [
    "t, a"
   ]
  },
  {
   "cell_type": "code",
   "execution_count": null,
   "id": "cdeccb83-c286-40ef-bf61-0d0c3f0c8119",
   "metadata": {},
   "outputs": [],
   "source": []
  }
 ],
 "metadata": {
  "kernelspec": {
   "display_name": "Python 3",
   "language": "python",
   "name": "python3"
  },
  "language_info": {
   "codemirror_mode": {
    "name": "ipython",
    "version": 3
   },
   "file_extension": ".py",
   "mimetype": "text/x-python",
   "name": "python",
   "nbconvert_exporter": "python",
   "pygments_lexer": "ipython3",
   "version": "3.6.13"
  }
 },
 "nbformat": 4,
 "nbformat_minor": 5
}
