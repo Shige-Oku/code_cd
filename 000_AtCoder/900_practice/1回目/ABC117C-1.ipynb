{
 "cells": [
  {
   "cell_type": "code",
   "execution_count": 7,
   "id": "49f038c5-6257-4280-9be8-8fc95e46d35b",
   "metadata": {},
   "outputs": [
    {
     "name": "stdin",
     "output_type": "stream",
     "text": [
      " 3 7\n"
     ]
    }
   ],
   "source": [
    "N, M = map(int, input().split())"
   ]
  },
  {
   "cell_type": "code",
   "execution_count": 8,
   "id": "3fe19958-6c67-41e7-8fdf-ac7748a60177",
   "metadata": {},
   "outputs": [
    {
     "name": "stdin",
     "output_type": "stream",
     "text": [
      " -10 -3 0 9 -100 2 17\n"
     ]
    }
   ],
   "source": [
    "Xn = list(map(int, input().split()))"
   ]
  },
  {
   "cell_type": "code",
   "execution_count": 9,
   "id": "508abf9f-c4b0-43f4-a0f2-e375eebc0f53",
   "metadata": {},
   "outputs": [],
   "source": [
    "Xn_s = sorted(Xn)\n",
    "dis = [0, ]\n",
    "for i in range(M-1):\n",
    "    dis.append(abs(Xn_s[i]-Xn_s[i+1]))"
   ]
  },
  {
   "cell_type": "code",
   "execution_count": 10,
   "id": "aa93155b-1989-4bf3-8756-16e81cbe640e",
   "metadata": {},
   "outputs": [
    {
     "name": "stdout",
     "output_type": "stream",
     "text": [
      "19\n"
     ]
    }
   ],
   "source": [
    "print(sum(sorted(dis, reverse=True)[N-1:]))"
   ]
  },
  {
   "cell_type": "code",
   "execution_count": 4,
   "id": "80a46c84-d7c5-4b74-bdb3-6e04ad22d605",
   "metadata": {},
   "outputs": [
    {
     "data": {
      "text/plain": [
       "([1, 2, 10, 12, 14], [0, 1, 8, 2, 2])"
      ]
     },
     "execution_count": 4,
     "metadata": {},
     "output_type": "execute_result"
    }
   ],
   "source": [
    "Xn_s, dis"
   ]
  },
  {
   "cell_type": "code",
   "execution_count": null,
   "id": "e09301a7-06d6-4ec3-ae34-18230fc38a18",
   "metadata": {},
   "outputs": [],
   "source": []
  }
 ],
 "metadata": {
  "kernelspec": {
   "display_name": "Python 3",
   "language": "python",
   "name": "python3"
  },
  "language_info": {
   "codemirror_mode": {
    "name": "ipython",
    "version": 3
   },
   "file_extension": ".py",
   "mimetype": "text/x-python",
   "name": "python",
   "nbconvert_exporter": "python",
   "pygments_lexer": "ipython3",
   "version": "3.6.13"
  }
 },
 "nbformat": 4,
 "nbformat_minor": 5
}
