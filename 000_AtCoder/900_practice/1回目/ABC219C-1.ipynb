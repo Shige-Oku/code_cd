{
 "cells": [
  {
   "cell_type": "code",
   "execution_count": 1,
   "id": "1ae58f2b-9cb5-4de5-b9f9-4b214c22cf51",
   "metadata": {},
   "outputs": [
    {
     "name": "stdin",
     "output_type": "stream",
     "text": [
      " bacdefghijklmnopqrstuvwxzy\n"
     ]
    }
   ],
   "source": [
    "X = input()"
   ]
  },
  {
   "cell_type": "code",
   "execution_count": 2,
   "id": "488fdfff-344d-4386-9ec6-1e4817a2de9a",
   "metadata": {},
   "outputs": [
    {
     "name": "stdin",
     "output_type": "stream",
     "text": [
      " 4\n"
     ]
    }
   ],
   "source": [
    "N = int(input())"
   ]
  },
  {
   "cell_type": "code",
   "execution_count": 3,
   "id": "b0a0e4a0-f173-49d4-92a1-ed120ce70678",
   "metadata": {},
   "outputs": [
    {
     "name": "stdin",
     "output_type": "stream",
     "text": [
      " abx\n",
      " bzz\n",
      " bzy\n",
      " caa\n"
     ]
    }
   ],
   "source": [
    "Sn = [input() for _ in range(N)]"
   ]
  },
  {
   "cell_type": "code",
   "execution_count": 13,
   "id": "420a6359-c20a-45cc-94f2-f2ec70676351",
   "metadata": {},
   "outputs": [],
   "source": [
    "l = []\n",
    "xl = list(X)\n",
    "for S in Sn:\n",
    "    nm = ''\n",
    "    for s in S:\n",
    "        p = xl.index(s)\n",
    "        nm += chr(ord('a')+p)\n",
    "    l.append((S, nm))"
   ]
  },
  {
   "cell_type": "code",
   "execution_count": 17,
   "id": "dbc5ae6d-a125-4a61-b0b7-fd924669b2d5",
   "metadata": {},
   "outputs": [
    {
     "name": "stdout",
     "output_type": "stream",
     "text": [
      "bzz\n",
      "bzy\n",
      "abx\n",
      "caa\n"
     ]
    }
   ],
   "source": [
    "l_s = sorted(l, key=lambda x:x[1])\n",
    "for n, _ in l_s:\n",
    "    print(n)"
   ]
  },
  {
   "cell_type": "code",
   "execution_count": null,
   "id": "ef3f1fb5-c30c-414c-80b8-194c195ecfde",
   "metadata": {},
   "outputs": [],
   "source": []
  }
 ],
 "metadata": {
  "kernelspec": {
   "display_name": "Python 3",
   "language": "python",
   "name": "python3"
  },
  "language_info": {
   "codemirror_mode": {
    "name": "ipython",
    "version": 3
   },
   "file_extension": ".py",
   "mimetype": "text/x-python",
   "name": "python",
   "nbconvert_exporter": "python",
   "pygments_lexer": "ipython3",
   "version": "3.6.13"
  }
 },
 "nbformat": 4,
 "nbformat_minor": 5
}
