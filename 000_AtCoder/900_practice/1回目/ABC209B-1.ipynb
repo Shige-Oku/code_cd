{
 "cells": [
  {
   "cell_type": "code",
   "execution_count": 14,
   "id": "5866edc2-0419-4e0a-a50a-3293c9b89ec9",
   "metadata": {},
   "outputs": [
    {
     "name": "stdin",
     "output_type": "stream",
     "text": [
      " 8 30\n"
     ]
    }
   ],
   "source": [
    "N, X = map(int, input().split())"
   ]
  },
  {
   "cell_type": "code",
   "execution_count": 15,
   "id": "769853ab-cd9e-4a21-9ac5-25ee196ecd4b",
   "metadata": {},
   "outputs": [
    {
     "name": "stdin",
     "output_type": "stream",
     "text": [
      " 3 1 4 1 5 9 2 6\n"
     ]
    }
   ],
   "source": [
    "An = list(map(int, input().split()))"
   ]
  },
  {
   "cell_type": "code",
   "execution_count": 18,
   "id": "be90043e-0318-468c-b3b4-7e6e33944347",
   "metadata": {},
   "outputs": [],
   "source": [
    "An2 = []\n",
    "for i, A in enumerate(An, 1):\n",
    "    if i % 2 == 1:\n",
    "        An2.append(A)\n",
    "    else:\n",
    "        An2.append(A-1)"
   ]
  },
  {
   "cell_type": "code",
   "execution_count": 19,
   "id": "5ca8a8b3-adb5-49d1-b9ba-85201ca776bc",
   "metadata": {},
   "outputs": [
    {
     "name": "stdout",
     "output_type": "stream",
     "text": [
      "Yes\n"
     ]
    }
   ],
   "source": [
    "print('Yes' if X >= sum(An2) else 'No')"
   ]
  },
  {
   "cell_type": "code",
   "execution_count": 20,
   "id": "2d1a61f9-47a1-43d1-ac57-e220537da291",
   "metadata": {},
   "outputs": [
    {
     "name": "stdout",
     "output_type": "stream",
     "text": [
      "Yes\n"
     ]
    }
   ],
   "source": [
    "print('Yes' if X >= sum(An) - N//2 else 'No')"
   ]
  },
  {
   "cell_type": "code",
   "execution_count": null,
   "id": "e533c5ff-3c96-4cbb-bff2-496b17c11d77",
   "metadata": {},
   "outputs": [],
   "source": []
  }
 ],
 "metadata": {
  "kernelspec": {
   "display_name": "Python 3",
   "language": "python",
   "name": "python3"
  },
  "language_info": {
   "codemirror_mode": {
    "name": "ipython",
    "version": 3
   },
   "file_extension": ".py",
   "mimetype": "text/x-python",
   "name": "python",
   "nbconvert_exporter": "python",
   "pygments_lexer": "ipython3",
   "version": "3.6.13"
  }
 },
 "nbformat": 4,
 "nbformat_minor": 5
}
