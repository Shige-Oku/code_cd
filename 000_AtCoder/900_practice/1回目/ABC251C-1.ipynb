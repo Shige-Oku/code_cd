{
 "cells": [
  {
   "cell_type": "code",
   "execution_count": 1,
   "id": "c5b3cae2-3e7d-4ef0-8882-0eff4474976f",
   "metadata": {},
   "outputs": [
    {
     "name": "stdin",
     "output_type": "stream",
     "text": [
      " 3\n"
     ]
    }
   ],
   "source": [
    "N = int(input())"
   ]
  },
  {
   "cell_type": "code",
   "execution_count": 2,
   "id": "5b17dfe4-5006-4108-b592-7df1a3998345",
   "metadata": {},
   "outputs": [
    {
     "name": "stdin",
     "output_type": "stream",
     "text": [
      " aaa 10\n",
      " bbb 20\n",
      " aaa 30\n"
     ]
    }
   ],
   "source": [
    "STn = [list(input().split()) for _ in range(N)]"
   ]
  },
  {
   "cell_type": "code",
   "execution_count": 9,
   "id": "735baf78-30f8-43bb-98a5-0f3a5a5875fc",
   "metadata": {},
   "outputs": [],
   "source": [
    "org = {}\n",
    "for i, (S, T) in enumerate(STn, 1):\n",
    "    T = int(T)\n",
    "    if S in org:\n",
    "        continue\n",
    "    org[S] = [T, i]"
   ]
  },
  {
   "cell_type": "code",
   "execution_count": 15,
   "id": "30c7c624-826b-4b82-a3e8-cbccef2ca55e",
   "metadata": {},
   "outputs": [
    {
     "name": "stdout",
     "output_type": "stream",
     "text": [
      "2\n"
     ]
    }
   ],
   "source": [
    "print(sorted(list(org.values()), key=lambda x:(-x[0], x[1]))[0][1])"
   ]
  },
  {
   "cell_type": "code",
   "execution_count": 10,
   "id": "1db8077c-6a01-4b84-89e5-eb38a4441de7",
   "metadata": {},
   "outputs": [
    {
     "data": {
      "text/plain": [
       "{'aaa': [10, 1], 'bbb': [20, 2]}"
      ]
     },
     "execution_count": 10,
     "metadata": {},
     "output_type": "execute_result"
    }
   ],
   "source": [
    "org"
   ]
  },
  {
   "cell_type": "code",
   "execution_count": 13,
   "id": "2f7da569-be01-4bf8-9b1b-340d24820133",
   "metadata": {},
   "outputs": [
    {
     "data": {
      "text/plain": [
       "2"
      ]
     },
     "execution_count": 13,
     "metadata": {},
     "output_type": "execute_result"
    }
   ],
   "source": [
    "sorted(list(org.values()), reverse=True)[0][1]"
   ]
  },
  {
   "cell_type": "code",
   "execution_count": 23,
   "id": "42c312ea-7a63-46b0-95be-360d6c02b7b0",
   "metadata": {},
   "outputs": [],
   "source": [
    "ans = 0\n",
    "ma = 0\n",
    "org = set()\n",
    "for i, (S, T) in enumerate(STn, 1):\n",
    "    T = int(T)\n",
    "    if S in org:\n",
    "        continue\n",
    "    if T > ma:\n",
    "        ans = i\n",
    "        ma = T\n",
    "    org.add(S)"
   ]
  },
  {
   "cell_type": "code",
   "execution_count": 24,
   "id": "19c69fc7-e431-4f39-8556-8a1dde593286",
   "metadata": {},
   "outputs": [
    {
     "name": "stdout",
     "output_type": "stream",
     "text": [
      "2\n"
     ]
    }
   ],
   "source": [
    "print(ans)"
   ]
  },
  {
   "cell_type": "code",
   "execution_count": 22,
   "id": "c1a7dd15-1d60-4340-a50c-3748eea7ccf3",
   "metadata": {},
   "outputs": [
    {
     "data": {
      "text/plain": [
       "set()"
      ]
     },
     "execution_count": 22,
     "metadata": {},
     "output_type": "execute_result"
    }
   ],
   "source": [
    "org"
   ]
  },
  {
   "cell_type": "code",
   "execution_count": null,
   "id": "8a85a273-a273-46f9-b784-935fd8b42795",
   "metadata": {},
   "outputs": [],
   "source": []
  }
 ],
 "metadata": {
  "kernelspec": {
   "display_name": "Python 3",
   "language": "python",
   "name": "python3"
  },
  "language_info": {
   "codemirror_mode": {
    "name": "ipython",
    "version": 3
   },
   "file_extension": ".py",
   "mimetype": "text/x-python",
   "name": "python",
   "nbconvert_exporter": "python",
   "pygments_lexer": "ipython3",
   "version": "3.6.13"
  }
 },
 "nbformat": 4,
 "nbformat_minor": 5
}
