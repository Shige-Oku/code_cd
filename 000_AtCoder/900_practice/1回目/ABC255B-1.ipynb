{
 "cells": [
  {
   "cell_type": "code",
   "execution_count": 16,
   "id": "3d19216a-538e-4a2f-94c9-6e59e4953044",
   "metadata": {},
   "outputs": [
    {
     "name": "stdin",
     "output_type": "stream",
     "text": [
      " 2 1\n"
     ]
    }
   ],
   "source": [
    "N, K = map(int, input().split())"
   ]
  },
  {
   "cell_type": "code",
   "execution_count": 17,
   "id": "a0e1f0cf-0045-4143-a926-77484b13fc8b",
   "metadata": {},
   "outputs": [
    {
     "name": "stdin",
     "output_type": "stream",
     "text": [
      " 2\n"
     ]
    }
   ],
   "source": [
    "An = list(map(int, input().split()))"
   ]
  },
  {
   "cell_type": "code",
   "execution_count": 18,
   "id": "108aca24-3c53-46cc-8a8a-bbb2824cb7da",
   "metadata": {},
   "outputs": [
    {
     "name": "stdin",
     "output_type": "stream",
     "text": [
      " -100000 -100000\n",
      " 100000 100000\n"
     ]
    }
   ],
   "source": [
    "XYn = [list(map(int, input().split())) for _ in range(N)]"
   ]
  },
  {
   "cell_type": "code",
   "execution_count": 21,
   "id": "2f510a70-b3e6-407e-b21b-9ca65ce7beab",
   "metadata": {},
   "outputs": [],
   "source": [
    "light = []\n",
    "for A in An:\n",
    "    X, Y = XYn[A-1]\n",
    "    light.append([A-1, X, Y])"
   ]
  },
  {
   "cell_type": "code",
   "execution_count": 25,
   "id": "39c64e55-8235-442b-b122-51745c27165d",
   "metadata": {},
   "outputs": [],
   "source": [
    "def getDis(p, x, y):\n",
    "    ret = 10**20\n",
    "    for P, X, Y in light:\n",
    "        if P == p:\n",
    "            return 0\n",
    "        ret = min(ret, (x-X)**2 + (y-Y)**2)\n",
    "    return ret**.5"
   ]
  },
  {
   "cell_type": "code",
   "execution_count": 26,
   "id": "14b3b82c-8968-4bea-96a0-4a6224245523",
   "metadata": {},
   "outputs": [],
   "source": [
    "ans = 0\n",
    "for i, (X, Y) in enumerate(XYn):\n",
    "    ans = max(ans, getDis(i, X, Y))"
   ]
  },
  {
   "cell_type": "code",
   "execution_count": 27,
   "id": "12d89eb0-c57f-406b-8f1a-8c2e1b964118",
   "metadata": {},
   "outputs": [
    {
     "name": "stdout",
     "output_type": "stream",
     "text": [
      "282842.71247461904\n"
     ]
    }
   ],
   "source": [
    "print(ans)"
   ]
  },
  {
   "cell_type": "code",
   "execution_count": 20,
   "id": "73acd600-b4e8-49a3-89d2-41a4d7924064",
   "metadata": {},
   "outputs": [
    {
     "data": {
      "text/plain": [
       "[[1, 100000, 100000]]"
      ]
     },
     "execution_count": 20,
     "metadata": {},
     "output_type": "execute_result"
    }
   ],
   "source": [
    "light"
   ]
  },
  {
   "cell_type": "code",
   "execution_count": null,
   "id": "0c8b018e-8c4d-46cf-8b9f-5e0dffdad6f5",
   "metadata": {},
   "outputs": [],
   "source": []
  }
 ],
 "metadata": {
  "kernelspec": {
   "display_name": "Python 3",
   "language": "python",
   "name": "python3"
  },
  "language_info": {
   "codemirror_mode": {
    "name": "ipython",
    "version": 3
   },
   "file_extension": ".py",
   "mimetype": "text/x-python",
   "name": "python",
   "nbconvert_exporter": "python",
   "pygments_lexer": "ipython3",
   "version": "3.6.13"
  }
 },
 "nbformat": 4,
 "nbformat_minor": 5
}
