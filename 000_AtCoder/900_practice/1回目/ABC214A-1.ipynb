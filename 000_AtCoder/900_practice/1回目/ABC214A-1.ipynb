{
 "cells": [
  {
   "cell_type": "code",
   "execution_count": 5,
   "id": "b74a94b2-66bb-49a3-b80d-2bd71f5041d2",
   "metadata": {},
   "outputs": [
    {
     "name": "stdin",
     "output_type": "stream",
     "text": [
      " 126\n"
     ]
    }
   ],
   "source": [
    "N = int(input())"
   ]
  },
  {
   "cell_type": "code",
   "execution_count": 6,
   "id": "4eb91498-0344-4afa-a6ee-b52aeb4ae20c",
   "metadata": {},
   "outputs": [
    {
     "name": "stdout",
     "output_type": "stream",
     "text": [
      "6\n"
     ]
    }
   ],
   "source": [
    "if N <= 125:\n",
    "    print(4)\n",
    "elif N <= 211:\n",
    "    print(6)\n",
    "else:\n",
    "    print(8)"
   ]
  },
  {
   "cell_type": "code",
   "execution_count": null,
   "id": "a34e6a94-eb47-43e4-b6bc-06bd73b40dce",
   "metadata": {},
   "outputs": [],
   "source": []
  }
 ],
 "metadata": {
  "kernelspec": {
   "display_name": "Python 3",
   "language": "python",
   "name": "python3"
  },
  "language_info": {
   "codemirror_mode": {
    "name": "ipython",
    "version": 3
   },
   "file_extension": ".py",
   "mimetype": "text/x-python",
   "name": "python",
   "nbconvert_exporter": "python",
   "pygments_lexer": "ipython3",
   "version": "3.6.13"
  }
 },
 "nbformat": 4,
 "nbformat_minor": 5
}
