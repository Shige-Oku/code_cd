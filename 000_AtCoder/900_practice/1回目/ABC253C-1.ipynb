{
 "cells": [
  {
   "cell_type": "code",
   "execution_count": 1,
   "id": "c7f4d706-c634-4274-95e0-b08f3cf75bff",
   "metadata": {},
   "outputs": [
    {
     "name": "stdin",
     "output_type": "stream",
     "text": [
      " 8\n"
     ]
    }
   ],
   "source": [
    "Q = int(input())"
   ]
  },
  {
   "cell_type": "code",
   "execution_count": 3,
   "id": "0b4948c2-0b26-44b6-bfcc-88cd308cabce",
   "metadata": {},
   "outputs": [
    {
     "name": "stdin",
     "output_type": "stream",
     "text": [
      " 1 3\n",
      " 1 2\n",
      " 3\n",
      " 1 2\n",
      " 1 7\n",
      " 3\n",
      " 2 2 3\n",
      " 3\n"
     ]
    }
   ],
   "source": [
    "Qrn = [list(map(int, input().split())) for _ in range(Q)]"
   ]
  },
  {
   "cell_type": "code",
   "execution_count": 9,
   "id": "9ac43910-2c7c-461b-98d5-e994ee5159c9",
   "metadata": {},
   "outputs": [
    {
     "name": "stdout",
     "output_type": "stream",
     "text": [
      "1\n",
      "5\n",
      "4\n"
     ]
    }
   ],
   "source": [
    "ip = {}\n",
    "mi, ma = 10**20, -1\n",
    "for i, Qr in enumerate(Qrn):\n",
    "    if Qr[0] == 1:\n",
    "        _, x = Qr\n",
    "        if x in ip:\n",
    "            ip[x] += 1\n",
    "        else:\n",
    "            ip[x] = 1\n",
    "        mi = min(mi, x)\n",
    "        ma = max(ma, x)\n",
    "    elif Qr[0] == 2:\n",
    "        _, x, c = Qr\n",
    "        if x not in ip:\n",
    "            continue\n",
    "        ip[x] -= c\n",
    "        if ip[x] < 1:\n",
    "            del ip[x]\n",
    "    else:\n",
    "        if mi not in ip or ma not in ip:\n",
    "            ip_l = sorted(list(ip))\n",
    "            mi, ma = ip_l[0], ip_l[-1]\n",
    "        print(ma-mi)\n",
    "        \n",
    "        "
   ]
  },
  {
   "cell_type": "code",
   "execution_count": 6,
   "id": "f59dc37b-ec52-4b13-8bb1-343000b4d451",
   "metadata": {},
   "outputs": [
    {
     "data": {
      "text/plain": [
       "[2, 3]"
      ]
     },
     "execution_count": 6,
     "metadata": {},
     "output_type": "execute_result"
    }
   ],
   "source": [
    "ip_l"
   ]
  },
  {
   "cell_type": "code",
   "execution_count": 32,
   "id": "8a2e7b94-91ce-4c93-82b3-3361848fd677",
   "metadata": {},
   "outputs": [
    {
     "name": "stdout",
     "output_type": "stream",
     "text": [
      "1\n",
      "5\n",
      "4\n"
     ]
    }
   ],
   "source": [
    "import heapq\n",
    "from collections import defaultdict\n",
    "cnt = defaultdict(int)\n",
    "miq, maq = [], []\n",
    "mi, ma = 0, 0\n",
    "for qr in Qrn:\n",
    "    q = qr[0]\n",
    "    if q == 1:\n",
    "        _, x = qr\n",
    "        cnt[x] += 1\n",
    "        heapq.heappush(miq, x)\n",
    "        heapq.heappush(maq, -x)\n",
    "    elif q == 2:\n",
    "        _, x, c = qr\n",
    "        cnt[x] = max(0, cnt[x]-c)\n",
    "    else:\n",
    "        while True:\n",
    "            if cnt[miq[0]] > 0:\n",
    "                break\n",
    "            heapq.heappop(miq)\n",
    "        while True:\n",
    "            if cnt[-maq[0]] > 0:\n",
    "                break\n",
    "            heapq.heappop(maq)\n",
    "        print(-maq[0]-miq[0])"
   ]
  },
  {
   "cell_type": "code",
   "execution_count": 28,
   "id": "50185151-7741-4e9c-aad4-46f9e728e687",
   "metadata": {},
   "outputs": [
    {
     "data": {
      "text/plain": [
       "defaultdict(int, {3: 1, 2: 0, 0: 0, 7: 1})"
      ]
     },
     "execution_count": 28,
     "metadata": {},
     "output_type": "execute_result"
    }
   ],
   "source": [
    "mi, ma"
   ]
  },
  {
   "cell_type": "code",
   "execution_count": 16,
   "id": "774f1933-150d-46ff-ac59-d8393a38e2d8",
   "metadata": {},
   "outputs": [
    {
     "data": {
      "text/plain": [
       "(3, -2)"
      ]
     },
     "execution_count": 16,
     "metadata": {},
     "output_type": "execute_result"
    }
   ],
   "source": [
    "mi, ma"
   ]
  },
  {
   "cell_type": "code",
   "execution_count": 20,
   "id": "9604b7e1-cfee-45b5-b680-ea9130f60b1c",
   "metadata": {},
   "outputs": [
    {
     "name": "stdout",
     "output_type": "stream",
     "text": [
      "1\n",
      "5\n",
      "4\n"
     ]
    }
   ],
   "source": [
    "import heapq\n",
    "from collections import defaultdict\n",
    "cnt = defaultdict(int)\n",
    "miq, maq = [], []\n",
    "for qr in Qrn:\n",
    "    q = qr[0]\n",
    "    if q == 1:\n",
    "        _, x = qr\n",
    "        cnt[x] += 1\n",
    "        heapq.heappush(miq, x)\n",
    "        heapq.heappush(maq, -x)\n",
    "    elif q == 2:\n",
    "        _, x, c = qr\n",
    "        cnt[x] = max(0, cnt[x]-c)\n",
    "    else:\n",
    "        while True:\n",
    "            mi = heapq.heappop(miq)\n",
    "            if cnt[mi] > 0:\n",
    "                heapq.heappush(miq, mi)\n",
    "                break\n",
    "        while True:\n",
    "            ma = heapq.heappop(maq)\n",
    "            if cnt[-ma] > 0:\n",
    "                heapq.heappush(maq, ma)\n",
    "                break\n",
    "        print(-ma-mi)"
   ]
  },
  {
   "cell_type": "code",
   "execution_count": null,
   "id": "f540db62-267b-487c-bfdd-b12cd78e6e32",
   "metadata": {},
   "outputs": [],
   "source": []
  }
 ],
 "metadata": {
  "kernelspec": {
   "display_name": "Python 3",
   "language": "python",
   "name": "python3"
  },
  "language_info": {
   "codemirror_mode": {
    "name": "ipython",
    "version": 3
   },
   "file_extension": ".py",
   "mimetype": "text/x-python",
   "name": "python",
   "nbconvert_exporter": "python",
   "pygments_lexer": "ipython3",
   "version": "3.6.13"
  }
 },
 "nbformat": 4,
 "nbformat_minor": 5
}
