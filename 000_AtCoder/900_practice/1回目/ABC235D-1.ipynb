{
 "cells": [
  {
   "cell_type": "code",
   "execution_count": 52,
   "id": "03324995-f7d9-426b-9496-88a940a5b318",
   "metadata": {},
   "outputs": [
    {
     "name": "stdin",
     "output_type": "stream",
     "text": [
      " 2 767090\n"
     ]
    }
   ],
   "source": [
    "A, N = map(int, input().split())"
   ]
  },
  {
   "cell_type": "code",
   "execution_count": 53,
   "id": "1305fcf2-aa1a-4133-9e9e-3fa889e7977e",
   "metadata": {},
   "outputs": [],
   "source": [
    "def BFS():\n",
    "    q = deque()\n",
    "    q.append(1)\n",
    "    ans[1] = 0\n",
    "    while q:\n",
    "        p = q.popleft()\n",
    "        ne = p * A\n",
    "        if len(str(ne)) <= len(str(N)) and  ans[ne] == -1:\n",
    "            ans[ne] = ans[p] + 1\n",
    "            q.append(ne)\n",
    "        if p % 10 == 0 or p < 10:\n",
    "            continue\n",
    "        for i in range(len(str(p))-1):\n",
    "            ns = str(p)\n",
    "            ns = ns[-1] + ns[:-1]\n",
    "            ne = int(ns)\n",
    "            if ans[ne] != -1:\n",
    "                continue\n",
    "            ans[ne] = ans[p] + 1\n",
    "            q.append(ne)\n",
    "    return"
   ]
  },
  {
   "cell_type": "code",
   "execution_count": 54,
   "id": "66ca32c7-5206-4c2f-a779-6698a29d88a5",
   "metadata": {},
   "outputs": [],
   "source": [
    "from collections import deque\n",
    "num = 10 ** (len(str(N)))\n",
    "ans = [-1] * (num + 100)\n",
    "BFS()"
   ]
  },
  {
   "cell_type": "code",
   "execution_count": 55,
   "id": "fb36367b-4bba-4435-865a-9a4787bf02ce",
   "metadata": {},
   "outputs": [
    {
     "name": "stdout",
     "output_type": "stream",
     "text": [
      "111\n"
     ]
    }
   ],
   "source": [
    "print(ans[N])"
   ]
  },
  {
   "cell_type": "code",
   "execution_count": 37,
   "id": "37470a27-dde5-4a33-8ada-5a5805c15443",
   "metadata": {},
   "outputs": [
    {
     "data": {
      "text/plain": [
       "100"
      ]
     },
     "execution_count": 37,
     "metadata": {},
     "output_type": "execute_result"
    }
   ],
   "source": [
    "num"
   ]
  },
  {
   "cell_type": "code",
   "execution_count": null,
   "id": "e84f104e-4a42-4c02-bb89-fc1439ec82bc",
   "metadata": {},
   "outputs": [],
   "source": [
    "# サンプルが合わない"
   ]
  },
  {
   "cell_type": "code",
   "execution_count": 13,
   "id": "c4c8b01d-77e4-468f-9339-922478066597",
   "metadata": {},
   "outputs": [],
   "source": [
    "def solve2(n):\n",
    "    nss = str(n)\n",
    "    cnt = 0\n",
    "    while cnt <= N:\n",
    "        if nss == ns:\n",
    "            break\n",
    "        cnt += 1\n",
    "        nss = nss[-1] + nss[:-1]\n",
    "    else:\n",
    "        cnt = -1\n",
    "    return cnt"
   ]
  },
  {
   "cell_type": "code",
   "execution_count": 56,
   "id": "073447d7-3127-472f-bc31-3bc65dc2db38",
   "metadata": {},
   "outputs": [],
   "source": [
    "def solve(n):\n",
    "    ret = 10**20\n",
    "    start = n\n",
    "    for cnt1 in range(N):\n",
    "#         print('cnt1=' + str(cnt1))\n",
    "#         print(start)\n",
    "        if len(str(start)) != len(ns):\n",
    "#             print('continue')\n",
    "            continue\n",
    "        if len(str(start)) > len(ns):\n",
    "            return -1\n",
    "        cnt2 = solve2(start)\n",
    "#         print('cnt2:' + str(cnt2))\n",
    "        if cnt2 >= 0:\n",
    "            ret = min(ret, cnt1+cnt2)\n",
    "        start *= A\n",
    "    return ret"
   ]
  },
  {
   "cell_type": "code",
   "execution_count": 57,
   "id": "f4fe4c69-67ea-48ad-8df1-42a4a533d034",
   "metadata": {},
   "outputs": [
    {
     "ename": "KeyboardInterrupt",
     "evalue": "",
     "output_type": "error",
     "traceback": [
      "\u001b[1;31m---------------------------------------------------------------------------\u001b[0m",
      "\u001b[1;31mKeyboardInterrupt\u001b[0m                         Traceback (most recent call last)",
      "\u001b[1;32m<ipython-input-57-5cfc65d4a904>\u001b[0m in \u001b[0;36m<module>\u001b[1;34m\u001b[0m\n\u001b[0;32m      2\u001b[0m \u001b[0mns\u001b[0m \u001b[1;33m=\u001b[0m \u001b[0mstr\u001b[0m\u001b[1;33m(\u001b[0m\u001b[0mN\u001b[0m\u001b[1;33m)\u001b[0m\u001b[1;33m\u001b[0m\u001b[1;33m\u001b[0m\u001b[0m\n\u001b[0;32m      3\u001b[0m \u001b[1;32mfor\u001b[0m \u001b[0mi\u001b[0m \u001b[1;32min\u001b[0m \u001b[0mrange\u001b[0m\u001b[1;33m(\u001b[0m\u001b[1;36m1\u001b[0m\u001b[1;33m,\u001b[0m \u001b[0mN\u001b[0m\u001b[1;33m+\u001b[0m\u001b[1;36m1\u001b[0m\u001b[1;33m)\u001b[0m\u001b[1;33m:\u001b[0m\u001b[1;33m\u001b[0m\u001b[1;33m\u001b[0m\u001b[0m\n\u001b[1;32m----> 4\u001b[1;33m     \u001b[0mcnt\u001b[0m \u001b[1;33m=\u001b[0m \u001b[0msolve\u001b[0m\u001b[1;33m(\u001b[0m\u001b[1;36m1\u001b[0m\u001b[1;33m)\u001b[0m\u001b[1;33m\u001b[0m\u001b[1;33m\u001b[0m\u001b[0m\n\u001b[0m\u001b[0;32m      5\u001b[0m     \u001b[1;32mif\u001b[0m \u001b[0mcnt\u001b[0m \u001b[1;33m>=\u001b[0m \u001b[1;36m0\u001b[0m\u001b[1;33m:\u001b[0m\u001b[1;33m\u001b[0m\u001b[1;33m\u001b[0m\u001b[0m\n\u001b[0;32m      6\u001b[0m         \u001b[0mans\u001b[0m \u001b[1;33m=\u001b[0m \u001b[0mmin\u001b[0m\u001b[1;33m(\u001b[0m\u001b[0mans\u001b[0m\u001b[1;33m,\u001b[0m \u001b[0mcnt\u001b[0m\u001b[1;33m)\u001b[0m\u001b[1;33m\u001b[0m\u001b[1;33m\u001b[0m\u001b[0m\n",
      "\u001b[1;32m<ipython-input-56-932e072b592a>\u001b[0m in \u001b[0;36msolve\u001b[1;34m(n)\u001b[0m\n\u001b[0;32m      5\u001b[0m \u001b[1;31m#         print('cnt1=' + str(cnt1))\u001b[0m\u001b[1;33m\u001b[0m\u001b[1;33m\u001b[0m\u001b[1;33m\u001b[0m\u001b[0m\n\u001b[0;32m      6\u001b[0m \u001b[1;31m#         print(start)\u001b[0m\u001b[1;33m\u001b[0m\u001b[1;33m\u001b[0m\u001b[1;33m\u001b[0m\u001b[0m\n\u001b[1;32m----> 7\u001b[1;33m         \u001b[1;32mif\u001b[0m \u001b[0mlen\u001b[0m\u001b[1;33m(\u001b[0m\u001b[0mstr\u001b[0m\u001b[1;33m(\u001b[0m\u001b[0mstart\u001b[0m\u001b[1;33m)\u001b[0m\u001b[1;33m)\u001b[0m \u001b[1;33m!=\u001b[0m \u001b[0mlen\u001b[0m\u001b[1;33m(\u001b[0m\u001b[0mns\u001b[0m\u001b[1;33m)\u001b[0m\u001b[1;33m:\u001b[0m\u001b[1;33m\u001b[0m\u001b[1;33m\u001b[0m\u001b[0m\n\u001b[0m\u001b[0;32m      8\u001b[0m \u001b[1;31m#             print('continue')\u001b[0m\u001b[1;33m\u001b[0m\u001b[1;33m\u001b[0m\u001b[1;33m\u001b[0m\u001b[0m\n\u001b[0;32m      9\u001b[0m             \u001b[1;32mcontinue\u001b[0m\u001b[1;33m\u001b[0m\u001b[1;33m\u001b[0m\u001b[0m\n",
      "\u001b[1;31mKeyboardInterrupt\u001b[0m: "
     ]
    }
   ],
   "source": [
    "ans = 10**20\n",
    "ns = str(N)\n",
    "for i in range(1, N+1):\n",
    "    cnt = solve(1)\n",
    "    if cnt >= 0:\n",
    "        ans = min(ans, cnt)"
   ]
  },
  {
   "cell_type": "code",
   "execution_count": null,
   "id": "26ba90de-3605-4398-b691-fac8139749c1",
   "metadata": {},
   "outputs": [],
   "source": [
    "print(-1 if ans == 10**20 else ans)\n"
   ]
  },
  {
   "cell_type": "code",
   "execution_count": null,
   "id": "943252d6-c393-44ae-b5ac-abaa1ddc2a9e",
   "metadata": {},
   "outputs": [],
   "source": []
  }
 ],
 "metadata": {
  "kernelspec": {
   "display_name": "Python 3",
   "language": "python",
   "name": "python3"
  },
  "language_info": {
   "codemirror_mode": {
    "name": "ipython",
    "version": 3
   },
   "file_extension": ".py",
   "mimetype": "text/x-python",
   "name": "python",
   "nbconvert_exporter": "python",
   "pygments_lexer": "ipython3",
   "version": "3.6.13"
  }
 },
 "nbformat": 4,
 "nbformat_minor": 5
}
