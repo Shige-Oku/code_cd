{
 "cells": [
  {
   "cell_type": "code",
   "execution_count": 34,
   "id": "db93e630-c5e9-4769-b0b6-47700493c5d6",
   "metadata": {},
   "outputs": [
    {
     "name": "stdin",
     "output_type": "stream",
     "text": [
      " 840036453 -940812381 -559576087 -274439760\n"
     ]
    }
   ],
   "source": [
    "X1, Y1, X2, Y2 = map(int, input().split())"
   ]
  },
  {
   "cell_type": "code",
   "execution_count": 35,
   "id": "7b47c183-ffc5-4b20-8ee2-c18ae9ac68f6",
   "metadata": {},
   "outputs": [],
   "source": [
    "flg = False\n",
    "for x, y in ((1, 2), (1, -2), (2, 1), (2, -1), (-1, 2), (-1, -2), (-2, 1), (-2, -1)):\n",
    "    x += X1\n",
    "    y += Y1\n",
    "    dis = (X2 - x)**2 + (Y2 - y)**2\n",
    "    if dis == 5:\n",
    "        flg = True\n"
   ]
  },
  {
   "cell_type": "code",
   "execution_count": 36,
   "id": "ea26bbb9-1a70-4a5a-8f7e-4192feb48779",
   "metadata": {},
   "outputs": [
    {
     "name": "stdout",
     "output_type": "stream",
     "text": [
      "No\n"
     ]
    }
   ],
   "source": [
    "print('Yes' if flg else 'No')"
   ]
  },
  {
   "cell_type": "code",
   "execution_count": 38,
   "id": "0f023400-44f0-4aeb-889f-a2ecf502d68d",
   "metadata": {},
   "outputs": [],
   "source": [
    "flg = False\n",
    "for x in range(X1-2, X1+3):\n",
    "    for y in range(Y1-2, Y1+3):\n",
    "        if (X1-x)**2 + (Y1-y)**2 == (X2-x)**2 + (Y2-y)**2 == 5:\n",
    "            flg = True"
   ]
  },
  {
   "cell_type": "code",
   "execution_count": 39,
   "id": "2baa314d-5c67-4bc3-8445-dda411575539",
   "metadata": {},
   "outputs": [
    {
     "name": "stdout",
     "output_type": "stream",
     "text": [
      "No\n"
     ]
    }
   ],
   "source": [
    "print('Yes' if flg else 'No')"
   ]
  },
  {
   "cell_type": "code",
   "execution_count": null,
   "id": "4e3f382a-c9f6-4403-a1a2-739961e84147",
   "metadata": {},
   "outputs": [],
   "source": []
  }
 ],
 "metadata": {
  "kernelspec": {
   "display_name": "Python 3",
   "language": "python",
   "name": "python3"
  },
  "language_info": {
   "codemirror_mode": {
    "name": "ipython",
    "version": 3
   },
   "file_extension": ".py",
   "mimetype": "text/x-python",
   "name": "python",
   "nbconvert_exporter": "python",
   "pygments_lexer": "ipython3",
   "version": "3.6.13"
  }
 },
 "nbformat": 4,
 "nbformat_minor": 5
}
