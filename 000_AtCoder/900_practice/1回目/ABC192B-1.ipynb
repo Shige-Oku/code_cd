{
 "cells": [
  {
   "cell_type": "code",
   "execution_count": 21,
   "id": "09a8af63-b128-4c5b-8b9b-347a1f97d4b6",
   "metadata": {},
   "outputs": [
    {
     "name": "stdin",
     "output_type": "stream",
     "text": [
      " a\n"
     ]
    }
   ],
   "source": [
    "S = input()"
   ]
  },
  {
   "cell_type": "code",
   "execution_count": 22,
   "id": "70128bc7-7a38-4b8a-a645-477a8830078b",
   "metadata": {},
   "outputs": [],
   "source": [
    "s1 = S[::2]\n",
    "s2 = S[1::2]\n",
    "flg = True\n",
    "for s in s1:\n",
    "    if s.isupper():\n",
    "        flg = False\n",
    "for s in s2:\n",
    "    if s.islower():\n",
    "        flg = False"
   ]
  },
  {
   "cell_type": "code",
   "execution_count": 23,
   "id": "c5e4f865-a651-47ea-942e-91f24c007b0e",
   "metadata": {},
   "outputs": [
    {
     "name": "stdout",
     "output_type": "stream",
     "text": [
      "Yes\n"
     ]
    }
   ],
   "source": [
    "print('Yes' if flg else 'No')"
   ]
  },
  {
   "cell_type": "code",
   "execution_count": 34,
   "id": "cc342801-cc41-4561-9eac-58505572dfcd",
   "metadata": {},
   "outputs": [
    {
     "name": "stdout",
     "output_type": "stream",
     "text": [
      "Yes\n"
     ]
    }
   ],
   "source": [
    "print('Yes' if all(c.isupper() if i%2==1 else c.islower() for i, c in enumerate(S)) else 'No')"
   ]
  },
  {
   "cell_type": "code",
   "execution_count": 36,
   "id": "555f6b8f-35ab-4b52-9f34-e54c86fe2959",
   "metadata": {},
   "outputs": [
    {
     "name": "stdout",
     "output_type": "stream",
     "text": [
      "Yes\n"
     ]
    }
   ],
   "source": [
    "print('No' if any(c.islower() if i%2==1 else c.isupper() for i, c in enumerate(S)) else 'Yes')"
   ]
  },
  {
   "cell_type": "code",
   "execution_count": 24,
   "id": "dbd89d1b-e969-4e0c-acc7-587583f68cdc",
   "metadata": {},
   "outputs": [],
   "source": [
    "# 文字列がNULLの場合にFalseになる。1文字の時にNG"
   ]
  },
  {
   "cell_type": "code",
   "execution_count": 31,
   "id": "3339c35a-765c-4fda-8718-31dc9659fa45",
   "metadata": {},
   "outputs": [
    {
     "name": "stdout",
     "output_type": "stream",
     "text": [
      "No\n"
     ]
    }
   ],
   "source": [
    "print('Yes' if all(c.isupper() if i%2==0 else c.islower() for i, c in enumerate(S)) else 'No')"
   ]
  },
  {
   "cell_type": "code",
   "execution_count": 25,
   "id": "ef2da0c1-481b-4807-8df5-b411b5556f03",
   "metadata": {},
   "outputs": [
    {
     "name": "stdout",
     "output_type": "stream",
     "text": [
      "No\n"
     ]
    }
   ],
   "source": [
    "print('Yes' if s1.islower() and s2.isupper() else 'No')"
   ]
  },
  {
   "cell_type": "code",
   "execution_count": 13,
   "id": "ac2d154c-de14-4f65-989e-3b743b6658dc",
   "metadata": {},
   "outputs": [
    {
     "data": {
      "text/plain": [
       "False"
      ]
     },
     "execution_count": 13,
     "metadata": {},
     "output_type": "execute_result"
    }
   ],
   "source": [
    "''.islower()"
   ]
  },
  {
   "cell_type": "code",
   "execution_count": 32,
   "id": "a790fe45-16d5-428d-a3a4-28b88bca4528",
   "metadata": {},
   "outputs": [
    {
     "name": "stdout",
     "output_type": "stream",
     "text": [
      "Yes\n"
     ]
    }
   ],
   "source": [
    "# S = input()\n",
    "is_unreadable = all([c.islower() if i%2==0 else c.isupper() for i,c in enumerate(S)])\n",
    "if is_unreadable:\n",
    "\tprint(\"Yes\")\n",
    "else:\n",
    "\tprint(\"No\")\n"
   ]
  },
  {
   "cell_type": "code",
   "execution_count": null,
   "id": "3cd79dcb-7fc0-48e0-a758-2355c0373e84",
   "metadata": {},
   "outputs": [],
   "source": []
  }
 ],
 "metadata": {
  "kernelspec": {
   "display_name": "Python 3",
   "language": "python",
   "name": "python3"
  },
  "language_info": {
   "codemirror_mode": {
    "name": "ipython",
    "version": 3
   },
   "file_extension": ".py",
   "mimetype": "text/x-python",
   "name": "python",
   "nbconvert_exporter": "python",
   "pygments_lexer": "ipython3",
   "version": "3.6.13"
  }
 },
 "nbformat": 4,
 "nbformat_minor": 5
}
