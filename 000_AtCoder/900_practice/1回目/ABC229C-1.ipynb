{
 "cells": [
  {
   "cell_type": "code",
   "execution_count": 1,
   "id": "2eefb5c2-bcc6-497d-b3ed-62979c30ef9c",
   "metadata": {},
   "outputs": [
    {
     "name": "stdin",
     "output_type": "stream",
     "text": [
      " 3 5\n"
     ]
    }
   ],
   "source": [
    "N, W = map(int, input().split())"
   ]
  },
  {
   "cell_type": "code",
   "execution_count": 2,
   "id": "5b9da900-f2b0-4b53-932f-7eb20da9b3a1",
   "metadata": {},
   "outputs": [
    {
     "name": "stdin",
     "output_type": "stream",
     "text": [
      " 3 1\n",
      " 4 2\n",
      " 2 3\n"
     ]
    }
   ],
   "source": [
    "ABn = [list(map(int, input().split())) for _ in range(N)]"
   ]
  },
  {
   "cell_type": "code",
   "execution_count": 3,
   "id": "03c6816e-ba57-400e-aa10-9b91ffddd25e",
   "metadata": {},
   "outputs": [],
   "source": [
    "ABn_s = sorted(ABn, reverse=True)\n",
    "ans = 0\n",
    "w = 0\n",
    "for A, B in ABn_s:\n",
    "    if w + B > W:\n",
    "        ans += (W - w) * A\n",
    "        break\n",
    "    ans += A * B\n",
    "    w += B"
   ]
  },
  {
   "cell_type": "code",
   "execution_count": 4,
   "id": "51320db7-cb44-4a02-b59a-041e74082721",
   "metadata": {},
   "outputs": [
    {
     "name": "stdout",
     "output_type": "stream",
     "text": [
      "15\n"
     ]
    }
   ],
   "source": [
    "print(ans)"
   ]
  },
  {
   "cell_type": "code",
   "execution_count": null,
   "id": "e0a93326-025c-4f88-bcbd-861663c9e8b2",
   "metadata": {},
   "outputs": [],
   "source": []
  }
 ],
 "metadata": {
  "kernelspec": {
   "display_name": "Python 3",
   "language": "python",
   "name": "python3"
  },
  "language_info": {
   "codemirror_mode": {
    "name": "ipython",
    "version": 3
   },
   "file_extension": ".py",
   "mimetype": "text/x-python",
   "name": "python",
   "nbconvert_exporter": "python",
   "pygments_lexer": "ipython3",
   "version": "3.6.13"
  }
 },
 "nbformat": 4,
 "nbformat_minor": 5
}
