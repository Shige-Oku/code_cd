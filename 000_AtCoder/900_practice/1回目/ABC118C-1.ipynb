{
 "cells": [
  {
   "cell_type": "code",
   "execution_count": 41,
   "id": "75e3f682-352f-4852-bf07-cf9bb2806e31",
   "metadata": {},
   "outputs": [
    {
     "name": "stdin",
     "output_type": "stream",
     "text": [
      " 3\n"
     ]
    }
   ],
   "source": [
    "N = int(input())"
   ]
  },
  {
   "cell_type": "code",
   "execution_count": 42,
   "id": "85d4da1b-dd9f-4702-a1d8-a2ec1973721e",
   "metadata": {},
   "outputs": [
    {
     "name": "stdin",
     "output_type": "stream",
     "text": [
      " 1000000000 1000000000 1000000000\n"
     ]
    }
   ],
   "source": [
    "An = list(map(int, input().split()))"
   ]
  },
  {
   "cell_type": "code",
   "execution_count": 43,
   "id": "012335ea-8e58-4ce1-8113-a9f642421e28",
   "metadata": {},
   "outputs": [],
   "source": [
    "def getMin():\n",
    "    ret = 10**10\n",
    "    ri = -1\n",
    "    for i, hv in enumerate(h):\n",
    "        if 0 < hv < ret:\n",
    "            ret = hv\n",
    "            ri = i\n",
    "    return ri, ret"
   ]
  },
  {
   "cell_type": "code",
   "execution_count": 46,
   "id": "a4037c8b-1305-4774-8ff4-c9c1945b4d71",
   "metadata": {},
   "outputs": [],
   "source": [
    "import sys\n",
    "sys.setrecursionlimit(10**6)\n",
    "def DFS():\n",
    "    if h.count(0) >= N-1:\n",
    "        return\n",
    "    mi, miv = getMin()\n",
    "    for i, hv in enumerate(h):\n",
    "        if i == mi or miv == 0:\n",
    "            continue\n",
    "        h[i] %= miv\n",
    "    DFS()"
   ]
  },
  {
   "cell_type": "code",
   "execution_count": 47,
   "id": "305e490b-9df8-4874-b1ba-389d43e2e78f",
   "metadata": {},
   "outputs": [
    {
     "name": "stdout",
     "output_type": "stream",
     "text": [
      "1000000000\n"
     ]
    }
   ],
   "source": [
    "from copy import deepcopy\n",
    "h = deepcopy(An)\n",
    "DFS()\n",
    "print(max(h))"
   ]
  },
  {
   "cell_type": "code",
   "execution_count": 38,
   "id": "4efa980e-0ff0-491f-b1d2-187e86ed7aef",
   "metadata": {},
   "outputs": [
    {
     "data": {
      "text/plain": [
       "(3, [0, 1, 0, 0])"
      ]
     },
     "execution_count": 38,
     "metadata": {},
     "output_type": "execute_result"
    }
   ],
   "source": [
    "h.count(0), h"
   ]
  },
  {
   "cell_type": "code",
   "execution_count": 26,
   "id": "49c6b156-5993-4169-a222-70ce19b4f262",
   "metadata": {},
   "outputs": [
    {
     "data": {
      "text/plain": [
       "4"
      ]
     },
     "execution_count": 26,
     "metadata": {},
     "output_type": "execute_result"
    }
   ],
   "source": [
    "N"
   ]
  },
  {
   "cell_type": "code",
   "execution_count": 48,
   "id": "fb691cae-648a-4af1-8b2c-5212d91fbac5",
   "metadata": {},
   "outputs": [],
   "source": [
    "import math\n",
    "ans = 0\n",
    "for A in An:\n",
    "    ans = math.gcd(ans, A)"
   ]
  },
  {
   "cell_type": "code",
   "execution_count": 49,
   "id": "96cc1c14-cabd-4d47-bd7f-6c4a90dc02ab",
   "metadata": {},
   "outputs": [
    {
     "name": "stdout",
     "output_type": "stream",
     "text": [
      "1000000000\n"
     ]
    }
   ],
   "source": [
    "print(ans)"
   ]
  },
  {
   "cell_type": "code",
   "execution_count": null,
   "id": "f8b3df6b-f929-479a-b928-dc3246466a23",
   "metadata": {},
   "outputs": [],
   "source": []
  }
 ],
 "metadata": {
  "kernelspec": {
   "display_name": "Python 3",
   "language": "python",
   "name": "python3"
  },
  "language_info": {
   "codemirror_mode": {
    "name": "ipython",
    "version": 3
   },
   "file_extension": ".py",
   "mimetype": "text/x-python",
   "name": "python",
   "nbconvert_exporter": "python",
   "pygments_lexer": "ipython3",
   "version": "3.6.13"
  }
 },
 "nbformat": 4,
 "nbformat_minor": 5
}
