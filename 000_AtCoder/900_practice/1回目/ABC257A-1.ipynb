{
 "cells": [
  {
   "cell_type": "code",
   "execution_count": 14,
   "id": "b1f232c8-8a95-45da-8e21-78b7b5b92e69",
   "metadata": {},
   "outputs": [
    {
     "name": "stdin",
     "output_type": "stream",
     "text": [
      " 1 3\n"
     ]
    }
   ],
   "source": [
    "N, X = map(int, input().split())"
   ]
  },
  {
   "cell_type": "code",
   "execution_count": 15,
   "id": "1e08bf08-d2f8-4b45-bb96-c5214ca616bb",
   "metadata": {},
   "outputs": [],
   "source": [
    "s = ''\n",
    "for i in range(26):\n",
    "    s += chr(ord('A') + i) * N"
   ]
  },
  {
   "cell_type": "code",
   "execution_count": 16,
   "id": "f4bd036a-f7d7-4c5b-8fd5-80012673ec20",
   "metadata": {},
   "outputs": [
    {
     "name": "stdout",
     "output_type": "stream",
     "text": [
      "C\n"
     ]
    }
   ],
   "source": [
    "print(s[X-1])"
   ]
  },
  {
   "cell_type": "code",
   "execution_count": 17,
   "id": "ddad22c4-d0b5-4270-bb1b-4aea91a0308e",
   "metadata": {},
   "outputs": [
    {
     "name": "stdout",
     "output_type": "stream",
     "text": [
      "C\n"
     ]
    }
   ],
   "source": [
    "print(chr(ord('A') + (X-1)//N))"
   ]
  },
  {
   "cell_type": "code",
   "execution_count": null,
   "id": "03080355-65e2-4754-b020-811e9170d046",
   "metadata": {},
   "outputs": [],
   "source": []
  }
 ],
 "metadata": {
  "kernelspec": {
   "display_name": "Python 3",
   "language": "python",
   "name": "python3"
  },
  "language_info": {
   "codemirror_mode": {
    "name": "ipython",
    "version": 3
   },
   "file_extension": ".py",
   "mimetype": "text/x-python",
   "name": "python",
   "nbconvert_exporter": "python",
   "pygments_lexer": "ipython3",
   "version": "3.6.13"
  }
 },
 "nbformat": 4,
 "nbformat_minor": 5
}
