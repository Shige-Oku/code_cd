{
 "cells": [
  {
   "cell_type": "code",
   "execution_count": 1,
   "id": "4d413694-131f-403f-8e3a-3a7c40174954",
   "metadata": {},
   "outputs": [
    {
     "name": "stdin",
     "output_type": "stream",
     "text": [
      " 3\n"
     ]
    }
   ],
   "source": [
    "N = int(input())"
   ]
  },
  {
   "cell_type": "code",
   "execution_count": 4,
   "id": "43ba968a-cbeb-468a-9fce-c0f4eb0a4de8",
   "metadata": {},
   "outputs": [
    {
     "name": "stdin",
     "output_type": "stream",
     "text": [
      " Everest 8849\n",
      " K2 8611\n",
      " Kangchenjunga 8586\n"
     ]
    }
   ],
   "source": [
    "STn = []\n",
    "for _ in range(N):\n",
    "    S, T = input().split()\n",
    "    STn.append((S, int(T)))"
   ]
  },
  {
   "cell_type": "code",
   "execution_count": 6,
   "id": "b7818f4b-356e-4c43-ace6-e34a9aa1264b",
   "metadata": {},
   "outputs": [],
   "source": [
    "STn_s = sorted(STn, reverse=True, key=lambda x:x[1])"
   ]
  },
  {
   "cell_type": "code",
   "execution_count": 8,
   "id": "5bb17fe8-7964-45be-ad0c-c59bbddeff45",
   "metadata": {},
   "outputs": [
    {
     "name": "stdout",
     "output_type": "stream",
     "text": [
      "K2\n"
     ]
    }
   ],
   "source": [
    "print(STn_s[1][0])"
   ]
  },
  {
   "cell_type": "code",
   "execution_count": 16,
   "id": "1ac50595-c191-4b1b-a485-43e089b4cb52",
   "metadata": {},
   "outputs": [
    {
     "data": {
      "text/plain": [
       "[]"
      ]
     },
     "execution_count": 16,
     "metadata": {},
     "output_type": "execute_result"
    }
   ],
   "source": [
    "ST"
   ]
  },
  {
   "cell_type": "code",
   "execution_count": null,
   "id": "d2a60e9c-584e-4849-b010-2f484a015e47",
   "metadata": {},
   "outputs": [],
   "source": []
  }
 ],
 "metadata": {
  "kernelspec": {
   "display_name": "Python 3",
   "language": "python",
   "name": "python3"
  },
  "language_info": {
   "codemirror_mode": {
    "name": "ipython",
    "version": 3
   },
   "file_extension": ".py",
   "mimetype": "text/x-python",
   "name": "python",
   "nbconvert_exporter": "python",
   "pygments_lexer": "ipython3",
   "version": "3.6.13"
  }
 },
 "nbformat": 4,
 "nbformat_minor": 5
}
