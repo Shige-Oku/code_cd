{
 "cells": [
  {
   "cell_type": "code",
   "execution_count": 9,
   "id": "12e43d51-a1c2-42de-97b2-b408f3a0e683",
   "metadata": {},
   "outputs": [
    {
     "name": "stdin",
     "output_type": "stream",
     "text": [
      " 4 1 10\n"
     ]
    }
   ],
   "source": [
    "N, M, T = map(int, input().split())"
   ]
  },
  {
   "cell_type": "code",
   "execution_count": 10,
   "id": "8e4f85c3-9634-44d8-a691-308b1ca5760c",
   "metadata": {},
   "outputs": [
    {
     "name": "stdin",
     "output_type": "stream",
     "text": [
      " 10 7 5\n"
     ]
    }
   ],
   "source": [
    "An = list(map(int, input().split()))"
   ]
  },
  {
   "cell_type": "code",
   "execution_count": 11,
   "id": "32fd3d69-6cdf-4d7a-8c5b-007f002be751",
   "metadata": {},
   "outputs": [
    {
     "name": "stdin",
     "output_type": "stream",
     "text": [
      " 2 10\n"
     ]
    }
   ],
   "source": [
    "XYn = [list(map(int, input().split())) for  _ in range(M)]"
   ]
  },
  {
   "cell_type": "code",
   "execution_count": 12,
   "id": "f06a2a4d-0e16-43a6-a7e4-d9b7d7eb76bd",
   "metadata": {},
   "outputs": [
    {
     "name": "stdout",
     "output_type": "stream",
     "text": [
      "No\n"
     ]
    }
   ],
   "source": [
    "from collections import defaultdict\n",
    "XYn_d = defaultdict(int)\n",
    "for X, Y in XYn:\n",
    "    XYn_d[X] = Y\n",
    "t = T\n",
    "for i, A in enumerate(An, 2):\n",
    "    t -= A\n",
    "    if t < 1:\n",
    "        print('No')\n",
    "        break\n",
    "    t += XYn_d[i]\n",
    "else:\n",
    "    print('Yes')"
   ]
  },
  {
   "cell_type": "code",
   "execution_count": 5,
   "id": "578c2e91-138e-4ced-b2e5-939db03569b0",
   "metadata": {},
   "outputs": [
    {
     "data": {
      "text/plain": [
       "defaultdict(int, {2: 10, 5: 0})"
      ]
     },
     "execution_count": 5,
     "metadata": {},
     "output_type": "execute_result"
    }
   ],
   "source": [
    "XYn_d"
   ]
  },
  {
   "cell_type": "code",
   "execution_count": null,
   "id": "7b1c8ea2-c347-470c-afe0-2f0ddaf8f36e",
   "metadata": {},
   "outputs": [],
   "source": []
  }
 ],
 "metadata": {
  "kernelspec": {
   "display_name": "Python 3",
   "language": "python",
   "name": "python3"
  },
  "language_info": {
   "codemirror_mode": {
    "name": "ipython",
    "version": 3
   },
   "file_extension": ".py",
   "mimetype": "text/x-python",
   "name": "python",
   "nbconvert_exporter": "python",
   "pygments_lexer": "ipython3",
   "version": "3.6.13"
  }
 },
 "nbformat": 4,
 "nbformat_minor": 5
}
