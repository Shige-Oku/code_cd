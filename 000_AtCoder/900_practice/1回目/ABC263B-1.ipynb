{
 "cells": [
  {
   "cell_type": "code",
   "execution_count": 42,
   "id": "50b07a4d-90f5-4dbf-830e-cc0d81bff972",
   "metadata": {},
   "outputs": [
    {
     "name": "stdin",
     "output_type": "stream",
     "text": [
      " 10\n"
     ]
    }
   ],
   "source": [
    "N = int(input())"
   ]
  },
  {
   "cell_type": "code",
   "execution_count": 43,
   "id": "8d9b527f-2c9e-4e87-bd79-0bd643f13c5c",
   "metadata": {},
   "outputs": [
    {
     "name": "stdin",
     "output_type": "stream",
     "text": [
      " 1 2 3 4 5 6 7 8 9\n"
     ]
    }
   ],
   "source": [
    "Pn = list(map(int, input().split()))"
   ]
  },
  {
   "cell_type": "code",
   "execution_count": 44,
   "id": "6aa6cab3-75d6-48d1-9320-253866f0be9b",
   "metadata": {},
   "outputs": [],
   "source": [
    "ans = 0\n",
    "Pn_d = Pn[::-1]\n",
    "p = Pn[-1]\n",
    "while True:\n",
    "    if p == 1:\n",
    "        ans += 1\n",
    "        break\n",
    "    ans += 1\n",
    "    p = Pn[p-2]"
   ]
  },
  {
   "cell_type": "code",
   "execution_count": 45,
   "id": "bb316e77-f044-45d8-af93-4da7c11a7b28",
   "metadata": {},
   "outputs": [
    {
     "name": "stdout",
     "output_type": "stream",
     "text": [
      "9\n"
     ]
    }
   ],
   "source": [
    "print(ans)"
   ]
  },
  {
   "cell_type": "code",
   "execution_count": 46,
   "id": "41429e0f-49ee-4dd6-8bf2-11926fadf2ea",
   "metadata": {},
   "outputs": [],
   "source": [
    "dp = [0] * (N+1)\n",
    "for i, P in enumerate(Pn, 2):\n",
    "    dp[i] = dp[P] + 1"
   ]
  },
  {
   "cell_type": "code",
   "execution_count": 47,
   "id": "83309428-eb18-48b2-bcd8-4f6f1ece06b6",
   "metadata": {},
   "outputs": [
    {
     "name": "stdout",
     "output_type": "stream",
     "text": [
      "9\n"
     ]
    }
   ],
   "source": [
    "print(dp[N])"
   ]
  },
  {
   "cell_type": "code",
   "execution_count": 48,
   "id": "b1556a3a-887b-4575-8c11-cb4a0ea61437",
   "metadata": {},
   "outputs": [
    {
     "data": {
      "text/plain": [
       "[0, 0, 1, 2, 3, 4, 5, 6, 7, 8, 9]"
      ]
     },
     "execution_count": 48,
     "metadata": {},
     "output_type": "execute_result"
    }
   ],
   "source": [
    "dp"
   ]
  },
  {
   "cell_type": "code",
   "execution_count": 49,
   "id": "0e2128f5-0c75-4fcd-9f8e-372f43440a13",
   "metadata": {},
   "outputs": [],
   "source": [
    "from collections import deque\n",
    "ans = [0] * (N+1)\n",
    "q = deque()\n",
    "for i, P in enumerate(Pn, 2):\n",
    "    q.append((P, i))\n",
    "while q:\n",
    "    p, i = q.popleft()\n",
    "    ans[i] = ans[p] + 1 "
   ]
  },
  {
   "cell_type": "code",
   "execution_count": 50,
   "id": "2c062064-76f1-4645-822a-e14fc28d4787",
   "metadata": {},
   "outputs": [
    {
     "name": "stdout",
     "output_type": "stream",
     "text": [
      "9\n"
     ]
    }
   ],
   "source": [
    "print(ans[N])"
   ]
  },
  {
   "cell_type": "code",
   "execution_count": 37,
   "id": "ebb1b73a-7d0e-4c72-8d27-10ddccdd0fa2",
   "metadata": {},
   "outputs": [
    {
     "data": {
      "text/plain": [
       "[0, 1, 1, 0]"
      ]
     },
     "execution_count": 37,
     "metadata": {},
     "output_type": "execute_result"
    }
   ],
   "source": [
    "ans"
   ]
  },
  {
   "cell_type": "code",
   "execution_count": null,
   "id": "d98ed864-6450-4912-9cb8-19df1051f82c",
   "metadata": {},
   "outputs": [],
   "source": []
  }
 ],
 "metadata": {
  "kernelspec": {
   "display_name": "Python 3",
   "language": "python",
   "name": "python3"
  },
  "language_info": {
   "codemirror_mode": {
    "name": "ipython",
    "version": 3
   },
   "file_extension": ".py",
   "mimetype": "text/x-python",
   "name": "python",
   "nbconvert_exporter": "python",
   "pygments_lexer": "ipython3",
   "version": "3.6.13"
  }
 },
 "nbformat": 4,
 "nbformat_minor": 5
}
