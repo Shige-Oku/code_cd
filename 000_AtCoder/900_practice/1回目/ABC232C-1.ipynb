{
 "cells": [
  {
   "cell_type": "code",
   "execution_count": 1,
   "id": "e4368eff-7eb6-46a3-abdf-bf0c1911723c",
   "metadata": {},
   "outputs": [
    {
     "name": "stdin",
     "output_type": "stream",
     "text": [
      " 4 4\n"
     ]
    }
   ],
   "source": [
    "N, M = map(int, input().split())"
   ]
  },
  {
   "cell_type": "code",
   "execution_count": 2,
   "id": "1b6f9f67-736a-492d-a47d-4fd2725255e9",
   "metadata": {},
   "outputs": [
    {
     "name": "stdin",
     "output_type": "stream",
     "text": [
      " 1 2\n",
      " 1 3\n",
      " 1 4\n",
      " 3 4\n"
     ]
    }
   ],
   "source": [
    "ABn = [list(map(int, input().split())) for _ in range(M)]"
   ]
  },
  {
   "cell_type": "code",
   "execution_count": 3,
   "id": "c894e393-b670-405e-a441-69246e8fc6c6",
   "metadata": {},
   "outputs": [
    {
     "name": "stdin",
     "output_type": "stream",
     "text": [
      " 1 3\n",
      " 1 4\n",
      " 2 3\n",
      " 3 4\n"
     ]
    }
   ],
   "source": [
    "CDn = [list(map(int, input().split())) for _ in range(M)]"
   ]
  },
  {
   "cell_type": "code",
   "execution_count": 7,
   "id": "773181d8-ee50-4e5e-b06a-c0db23bf5d51",
   "metadata": {},
   "outputs": [],
   "source": [
    "graph_t = [[] for _ in range(N+1)]\n",
    "for A, B in ABn:\n",
    "    graph_t[A].append(B)\n",
    "    graph_t[B].append(A)\n",
    "graph_a = [[] for _ in range(N+1)]\n",
    "for C, D in CDn:\n",
    "    graph_a[C].append(D)\n",
    "    graph_a[D].append(C)\n",
    "        "
   ]
  },
  {
   "cell_type": "code",
   "execution_count": 24,
   "id": "0c727323-17ab-4b30-ba4e-d5b92654c066",
   "metadata": {},
   "outputs": [],
   "source": [
    "def myCheck(P):\n",
    "    for i in range(1, N):\n",
    "        for j in range(i+1, N+1):\n",
    "            c, d = P[i-1], P[j-1]\n",
    "            if j in graph_t[i]:\n",
    "                if d not in graph_a[c]:\n",
    "                    return False\n",
    "            else:\n",
    "                if j not in graph_t[i]:\n",
    "                    if d in graph_a[c]:\n",
    "                        return False\n",
    "    return True"
   ]
  },
  {
   "cell_type": "code",
   "execution_count": 25,
   "id": "6385d9af-ce48-4a78-9376-54e32c25c53e",
   "metadata": {},
   "outputs": [
    {
     "name": "stdout",
     "output_type": "stream",
     "text": [
      "Yes\n"
     ]
    }
   ],
   "source": [
    "import itertools\n",
    "flg = False\n",
    "for p in itertools.permutations(range(1, N+1), N):\n",
    "    if myCheck(p):\n",
    "        print('Yes')\n",
    "        break\n",
    "else:\n",
    "    print('No')"
   ]
  },
  {
   "cell_type": "code",
   "execution_count": 13,
   "id": "8251e3d8-eeac-44c2-a379-245acbcf573d",
   "metadata": {},
   "outputs": [
    {
     "data": {
      "text/plain": [
       "([[], [2, 3, 4], [1], [1, 4], [1, 3]], [[], [3, 4], [3], [1, 2, 4], [1, 3]])"
      ]
     },
     "execution_count": 13,
     "metadata": {},
     "output_type": "execute_result"
    }
   ],
   "source": [
    "graph_t, graph_a"
   ]
  },
  {
   "cell_type": "code",
   "execution_count": null,
   "id": "229dc11c-e0ba-45b9-b4ca-2d87bd83decd",
   "metadata": {},
   "outputs": [],
   "source": []
  },
  {
   "cell_type": "code",
   "execution_count": null,
   "id": "a97b1e7f-6027-45d0-832a-4739fc99a6b9",
   "metadata": {},
   "outputs": [],
   "source": []
  }
 ],
 "metadata": {
  "kernelspec": {
   "display_name": "Python 3",
   "language": "python",
   "name": "python3"
  },
  "language_info": {
   "codemirror_mode": {
    "name": "ipython",
    "version": 3
   },
   "file_extension": ".py",
   "mimetype": "text/x-python",
   "name": "python",
   "nbconvert_exporter": "python",
   "pygments_lexer": "ipython3",
   "version": "3.6.13"
  }
 },
 "nbformat": 4,
 "nbformat_minor": 5
}
