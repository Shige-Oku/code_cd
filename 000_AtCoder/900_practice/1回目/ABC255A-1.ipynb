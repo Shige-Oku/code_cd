{
 "cells": [
  {
   "cell_type": "code",
   "execution_count": 12,
   "id": "11be7601-4097-45a1-9dbf-06223a561519",
   "metadata": {},
   "outputs": [
    {
     "name": "stdin",
     "output_type": "stream",
     "text": [
      " 2 1\n"
     ]
    }
   ],
   "source": [
    "R, C = map(int, input().split())"
   ]
  },
  {
   "cell_type": "code",
   "execution_count": 13,
   "id": "77f1f0ba-04f5-424c-83a8-53cbc48cdeec",
   "metadata": {},
   "outputs": [
    {
     "name": "stdin",
     "output_type": "stream",
     "text": [
      " 90 80\n",
      " 70 60\n"
     ]
    }
   ],
   "source": [
    "An = [list(input().split()) for _ in range(2)]"
   ]
  },
  {
   "cell_type": "code",
   "execution_count": 14,
   "id": "6094a4e3-8209-4b08-bcf6-ccaec0be5832",
   "metadata": {},
   "outputs": [
    {
     "name": "stdout",
     "output_type": "stream",
     "text": [
      "70\n"
     ]
    }
   ],
   "source": [
    "print(An[R-1][C-1])"
   ]
  },
  {
   "cell_type": "code",
   "execution_count": 6,
   "id": "c956a97b-04a4-4e2d-ad23-64601ba3afa4",
   "metadata": {},
   "outputs": [
    {
     "data": {
      "text/plain": [
       "[[['1', '0'], ['0', '1']]]"
      ]
     },
     "execution_count": 6,
     "metadata": {},
     "output_type": "execute_result"
    }
   ],
   "source": [
    "An"
   ]
  },
  {
   "cell_type": "code",
   "execution_count": null,
   "id": "6f83693a-32e4-4140-84f7-4944e34d9a95",
   "metadata": {},
   "outputs": [],
   "source": []
  }
 ],
 "metadata": {
  "kernelspec": {
   "display_name": "Python 3",
   "language": "python",
   "name": "python3"
  },
  "language_info": {
   "codemirror_mode": {
    "name": "ipython",
    "version": 3
   },
   "file_extension": ".py",
   "mimetype": "text/x-python",
   "name": "python",
   "nbconvert_exporter": "python",
   "pygments_lexer": "ipython3",
   "version": "3.6.13"
  }
 },
 "nbformat": 4,
 "nbformat_minor": 5
}
