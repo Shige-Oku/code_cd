{
 "cells": [
  {
   "cell_type": "code",
   "execution_count": 15,
   "id": "b4ba8d15-1f76-45bd-bfc6-698ec9fbb051",
   "metadata": {},
   "outputs": [
    {
     "name": "stdin",
     "output_type": "stream",
     "text": [
      " 3\n"
     ]
    }
   ],
   "source": [
    "N = int(input())"
   ]
  },
  {
   "cell_type": "code",
   "execution_count": 16,
   "id": "c578b35f-9f69-4c68-81d2-a405734d2f2e",
   "metadata": {},
   "outputs": [
    {
     "name": "stdin",
     "output_type": "stream",
     "text": [
      " 6 17 28\n"
     ]
    }
   ],
   "source": [
    "An = list(map(int, input().split()))"
   ]
  },
  {
   "cell_type": "code",
   "execution_count": 17,
   "id": "1ce92796-b962-4ac3-8601-cae096221282",
   "metadata": {},
   "outputs": [],
   "source": [
    "ans = 0\n",
    "for A in An:\n",
    "    if A <= 10:\n",
    "        continue\n",
    "    ans += A - 10"
   ]
  },
  {
   "cell_type": "code",
   "execution_count": 18,
   "id": "43456873-f2d5-410b-8265-4d8f198fa1a2",
   "metadata": {},
   "outputs": [
    {
     "name": "stdout",
     "output_type": "stream",
     "text": [
      "25\n"
     ]
    }
   ],
   "source": [
    "print(ans)"
   ]
  },
  {
   "cell_type": "code",
   "execution_count": 19,
   "id": "770a0b2e-d3c1-4692-9888-c0a4b68740df",
   "metadata": {},
   "outputs": [],
   "source": [
    "import numpy as np"
   ]
  },
  {
   "cell_type": "code",
   "execution_count": 20,
   "id": "8cee2c01-a90e-4b8b-ab2e-7c782baab248",
   "metadata": {},
   "outputs": [
    {
     "name": "stdout",
     "output_type": "stream",
     "text": [
      "25\n"
     ]
    }
   ],
   "source": [
    "An_n = np.array(An)\n",
    "An_n = An_n[An_n > 10]\n",
    "print((An_n-10).sum())"
   ]
  },
  {
   "cell_type": "code",
   "execution_count": 12,
   "id": "d095362f-4adc-4363-9a24-df483558669a",
   "metadata": {},
   "outputs": [
    {
     "data": {
      "text/plain": [
       "array([11])"
      ]
     },
     "execution_count": 12,
     "metadata": {},
     "output_type": "execute_result"
    }
   ],
   "source": [
    "An_n"
   ]
  },
  {
   "cell_type": "code",
   "execution_count": 13,
   "id": "1dbc77e9-5a14-41eb-b872-e15469b02b1f",
   "metadata": {},
   "outputs": [
    {
     "data": {
      "text/plain": [
       "1"
      ]
     },
     "execution_count": 13,
     "metadata": {},
     "output_type": "execute_result"
    }
   ],
   "source": [
    "(An_n-10).sum()"
   ]
  },
  {
   "cell_type": "code",
   "execution_count": null,
   "id": "9bc8b83f-7611-44f8-baa3-b36b15c4db0b",
   "metadata": {},
   "outputs": [],
   "source": []
  }
 ],
 "metadata": {
  "kernelspec": {
   "display_name": "Python 3",
   "language": "python",
   "name": "python3"
  },
  "language_info": {
   "codemirror_mode": {
    "name": "ipython",
    "version": 3
   },
   "file_extension": ".py",
   "mimetype": "text/x-python",
   "name": "python",
   "nbconvert_exporter": "python",
   "pygments_lexer": "ipython3",
   "version": "3.6.13"
  }
 },
 "nbformat": 4,
 "nbformat_minor": 5
}
