{
 "cells": [
  {
   "cell_type": "code",
   "execution_count": 14,
   "id": "a8e2b6a2-86ad-42fa-9cf1-54b92980596d",
   "metadata": {},
   "outputs": [
    {
     "name": "stdin",
     "output_type": "stream",
     "text": [
      " 7 251\n"
     ]
    }
   ],
   "source": [
    "N, W = map(int, input().split())"
   ]
  },
  {
   "cell_type": "code",
   "execution_count": 15,
   "id": "4b34619a-3adb-4e37-91aa-5d347d8e1d2c",
   "metadata": {},
   "outputs": [
    {
     "name": "stdin",
     "output_type": "stream",
     "text": [
      " 202 20 5 1 4 2 100\n"
     ]
    }
   ],
   "source": [
    "An = list(map(int, input().split()))"
   ]
  },
  {
   "cell_type": "code",
   "execution_count": 16,
   "id": "ebe1f2a9-c243-463d-a6f9-3e9d3cd8adc6",
   "metadata": {},
   "outputs": [],
   "source": [
    "ans = set()\n",
    "for i in range(N):\n",
    "    if An[i] <= W:\n",
    "        ans.add(An[i])\n",
    "for i in range(N-1):\n",
    "    for j in range(i+1, N):\n",
    "        if An[i] + An[j] <= W:\n",
    "            ans.add(An[i]+An[j])\n",
    "for i in range(N-2):\n",
    "    for j in range(i+1, N-1):\n",
    "        for k in range(j+1, N):\n",
    "            if An[i] + An[j] + An[k] <= W:\n",
    "                ans.add(An[i]+An[j]+An[k])\n"
   ]
  },
  {
   "cell_type": "code",
   "execution_count": 17,
   "id": "46a1de09-1522-4dde-9651-e28d15066830",
   "metadata": {},
   "outputs": [
    {
     "name": "stdout",
     "output_type": "stream",
     "text": [
      "48\n"
     ]
    }
   ],
   "source": [
    "print(len(ans))"
   ]
  },
  {
   "cell_type": "code",
   "execution_count": 18,
   "id": "32adeb0d-fd86-4080-8069-b4402ce18675",
   "metadata": {},
   "outputs": [],
   "source": [
    "ans = set()\n",
    "for i in range(N):\n",
    "    if An[i] <= W:\n",
    "        ans.add(An[i])\n",
    "    for j in range(i+1, N):\n",
    "        if An[i] + An[j] <= W:\n",
    "            ans.add(An[i]+An[j])\n",
    "        for k in range(j+1, N):\n",
    "            if An[i] + An[j] + An[k] <= W:\n",
    "                ans.add(An[i]+An[j]+An[k])"
   ]
  },
  {
   "cell_type": "code",
   "execution_count": 19,
   "id": "82a3db2b-16ea-4666-9f1e-885d4b001e92",
   "metadata": {},
   "outputs": [
    {
     "name": "stdout",
     "output_type": "stream",
     "text": [
      "48\n"
     ]
    }
   ],
   "source": [
    "print(len(ans))"
   ]
  },
  {
   "cell_type": "code",
   "execution_count": null,
   "id": "6e03b563-7461-46ba-bc70-2a2e179a261f",
   "metadata": {},
   "outputs": [],
   "source": []
  }
 ],
 "metadata": {
  "kernelspec": {
   "display_name": "Python 3",
   "language": "python",
   "name": "python3"
  },
  "language_info": {
   "codemirror_mode": {
    "name": "ipython",
    "version": 3
   },
   "file_extension": ".py",
   "mimetype": "text/x-python",
   "name": "python",
   "nbconvert_exporter": "python",
   "pygments_lexer": "ipython3",
   "version": "3.6.13"
  }
 },
 "nbformat": 4,
 "nbformat_minor": 5
}
