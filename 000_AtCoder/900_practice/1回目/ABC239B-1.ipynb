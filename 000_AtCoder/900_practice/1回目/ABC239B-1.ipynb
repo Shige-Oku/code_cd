{
 "cells": [
  {
   "cell_type": "code",
   "execution_count": 36,
   "id": "deb659e5-6aaa-45e2-be70-401744a73da1",
   "metadata": {},
   "outputs": [
    {
     "name": "stdin",
     "output_type": "stream",
     "text": [
      " 987654321987654321\n"
     ]
    }
   ],
   "source": [
    "X = int(input())"
   ]
  },
  {
   "cell_type": "code",
   "execution_count": 37,
   "id": "36716356-8cdd-47b6-b61c-4230fe7f9a41",
   "metadata": {},
   "outputs": [
    {
     "name": "stdout",
     "output_type": "stream",
     "text": [
      "98765432198765432\n"
     ]
    }
   ],
   "source": [
    "from decimal import Decimal\n",
    "x = Decimal(X)\n",
    "x /= 10\n",
    "if x < 0:\n",
    "    x -= Decimal(0.9)\n",
    "print(Decimal(x) // Decimal(1))"
   ]
  },
  {
   "cell_type": "code",
   "execution_count": 42,
   "id": "420e5641-0f68-4053-b0f5-c71e7b0cff63",
   "metadata": {},
   "outputs": [
    {
     "name": "stdin",
     "output_type": "stream",
     "text": [
      " 987654321987654321\n"
     ]
    }
   ],
   "source": [
    "from decimal import Decimal\n",
    "X = Decimal(input())\n"
   ]
  },
  {
   "cell_type": "code",
   "execution_count": 43,
   "id": "31e8e96a-b94c-4de9-a893-d4c139863ff9",
   "metadata": {},
   "outputs": [
    {
     "name": "stdout",
     "output_type": "stream",
     "text": [
      "98765432198765432\n"
     ]
    }
   ],
   "source": [
    "X /= 10\n",
    "if X < 0:\n",
    "    X -= Decimal(0.9)\n",
    "print(Decimal(X) // Decimal(1))"
   ]
  },
  {
   "cell_type": "code",
   "execution_count": 45,
   "id": "539fd892-c442-41ec-83d0-8b18bc416bee",
   "metadata": {},
   "outputs": [
    {
     "name": "stdin",
     "output_type": "stream",
     "text": [
      " -24\n"
     ]
    },
    {
     "name": "stdout",
     "output_type": "stream",
     "text": [
      "-3\n"
     ]
    }
   ],
   "source": [
    "print(int(input()) // 10)"
   ]
  },
  {
   "cell_type": "code",
   "execution_count": null,
   "id": "ca0fa8fb-c417-4d1f-9cdb-40475ca0f3fc",
   "metadata": {},
   "outputs": [],
   "source": [
    "# サンプルが合わない"
   ]
  },
  {
   "cell_type": "code",
   "execution_count": 38,
   "id": "8271757c-5c06-4713-96d1-f0cb37b528c2",
   "metadata": {},
   "outputs": [
    {
     "name": "stdout",
     "output_type": "stream",
     "text": [
      "98765432198765440\n"
     ]
    }
   ],
   "source": [
    "import math\n",
    "print(math.floor(X/10))"
   ]
  },
  {
   "cell_type": "code",
   "execution_count": 17,
   "id": "1f45a291-11bd-492e-9cff-eebe5b331961",
   "metadata": {},
   "outputs": [
    {
     "data": {
      "text/plain": [
       "98765432198765440"
      ]
     },
     "execution_count": 17,
     "metadata": {},
     "output_type": "execute_result"
    }
   ],
   "source": [
    "int(X/10)"
   ]
  },
  {
   "cell_type": "code",
   "execution_count": 18,
   "id": "aedef2c5-1ed7-4cbf-ab65-160e1fd6678e",
   "metadata": {},
   "outputs": [
    {
     "data": {
      "text/plain": [
       "Decimal('98765432198765432.1')"
      ]
     },
     "execution_count": 18,
     "metadata": {},
     "output_type": "execute_result"
    }
   ],
   "source": [
    "from decimal import Decimal\n",
    "Decimal(X) / Decimal(10)"
   ]
  },
  {
   "cell_type": "code",
   "execution_count": null,
   "id": "8138a68b-2508-4565-a427-c88ded3005b9",
   "metadata": {},
   "outputs": [],
   "source": []
  }
 ],
 "metadata": {
  "kernelspec": {
   "display_name": "Python 3",
   "language": "python",
   "name": "python3"
  },
  "language_info": {
   "codemirror_mode": {
    "name": "ipython",
    "version": 3
   },
   "file_extension": ".py",
   "mimetype": "text/x-python",
   "name": "python",
   "nbconvert_exporter": "python",
   "pygments_lexer": "ipython3",
   "version": "3.6.13"
  }
 },
 "nbformat": 4,
 "nbformat_minor": 5
}
