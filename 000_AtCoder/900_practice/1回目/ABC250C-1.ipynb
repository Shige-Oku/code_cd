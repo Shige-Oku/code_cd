{
 "cells": [
  {
   "cell_type": "code",
   "execution_count": 3,
   "id": "976ab025-b026-4edf-9a4b-8c11f9655c1c",
   "metadata": {},
   "outputs": [
    {
     "name": "stdin",
     "output_type": "stream",
     "text": [
      " 5 5\n"
     ]
    }
   ],
   "source": [
    "N, Q = map(int, input().split())"
   ]
  },
  {
   "cell_type": "code",
   "execution_count": 5,
   "id": "0a5c5043-8891-4f66-ac4c-901266651753",
   "metadata": {},
   "outputs": [
    {
     "name": "stdin",
     "output_type": "stream",
     "text": [
      " 1\n",
      " 2\n",
      " 3\n",
      " 4\n",
      " 5\n"
     ]
    }
   ],
   "source": [
    "Xn = [int(input()) for _ in range(Q)]"
   ]
  },
  {
   "cell_type": "code",
   "execution_count": 7,
   "id": "2817300f-d54f-4ef0-8178-276cd231c1bc",
   "metadata": {},
   "outputs": [],
   "source": [
    "v_k = {}\n",
    "p_k = {}\n",
    "for i in range(1, N+1):\n",
    "    v_k[i] = i\n",
    "    p_k[i] = i"
   ]
  },
  {
   "cell_type": "code",
   "execution_count": 9,
   "id": "6d9ad06e-6683-4c75-a953-5a51ea83786d",
   "metadata": {},
   "outputs": [],
   "source": [
    "for xv in Xn:\n",
    "    xp = v_k[xv]\n",
    "    if xp == N:\n",
    "        np = N-1\n",
    "    else:\n",
    "        np = xp + 1\n",
    "    nv = p_k[np]\n",
    "    v_k[xv] = np\n",
    "    p_k[xp] = nv\n",
    "    v_k[nv] = xp\n",
    "    p_k[np] = xv"
   ]
  },
  {
   "cell_type": "code",
   "execution_count": 14,
   "id": "44e9b7ca-7271-4c12-a7fd-863b737a25fb",
   "metadata": {},
   "outputs": [
    {
     "name": "stdout",
     "output_type": "stream",
     "text": [
      "1 2 3 5 4 "
     ]
    }
   ],
   "source": [
    "for _, v in sorted(list(p_k.items())):\n",
    "    print(v, end=' ')"
   ]
  },
  {
   "cell_type": "code",
   "execution_count": 17,
   "id": "27565ead-c42f-4c8f-bf83-f9d1c0d46000",
   "metadata": {},
   "outputs": [],
   "source": [
    "val = [x for x in range(N+1)]\n",
    "pos = [x for x in range(N+1)]\n",
    "for v1 in Xn:\n",
    "    p1 = val[v1]\n",
    "    if p1 == N:\n",
    "        p2 = N - 1\n",
    "    else:\n",
    "        p2 = p1 + 1\n",
    "    v2 = pos[p2]\n",
    "    val[v1], val[v2] = val[v2], val[v1]\n",
    "    pos[p1], pos[p2] = pos[p2], pos[p1]"
   ]
  },
  {
   "cell_type": "code",
   "execution_count": 18,
   "id": "44e94cca-afc5-4f68-b566-caf22e71ecfb",
   "metadata": {},
   "outputs": [
    {
     "name": "stdout",
     "output_type": "stream",
     "text": [
      "1 2 3 5 4\n"
     ]
    }
   ],
   "source": [
    "print(*pos[1:])"
   ]
  },
  {
   "cell_type": "code",
   "execution_count": null,
   "id": "d785ee9a-ffce-4c51-9285-448c6bbf8f78",
   "metadata": {},
   "outputs": [],
   "source": []
  }
 ],
 "metadata": {
  "kernelspec": {
   "display_name": "Python 3",
   "language": "python",
   "name": "python3"
  },
  "language_info": {
   "codemirror_mode": {
    "name": "ipython",
    "version": 3
   },
   "file_extension": ".py",
   "mimetype": "text/x-python",
   "name": "python",
   "nbconvert_exporter": "python",
   "pygments_lexer": "ipython3",
   "version": "3.6.13"
  }
 },
 "nbformat": 4,
 "nbformat_minor": 5
}
