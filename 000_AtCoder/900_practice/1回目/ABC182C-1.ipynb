{
 "cells": [
  {
   "cell_type": "code",
   "execution_count": 3,
   "id": "fc6ade39-1bc7-429a-9817-cc348c5fbbea",
   "metadata": {},
   "outputs": [],
   "source": [
    "import itertools"
   ]
  },
  {
   "cell_type": "code",
   "execution_count": 43,
   "id": "a33b2e72-d971-46cf-9eb1-3820185369c9",
   "metadata": {},
   "outputs": [
    {
     "name": "stdin",
     "output_type": "stream",
     "text": [
      " 6227384\n"
     ]
    }
   ],
   "source": [
    "N = input()"
   ]
  },
  {
   "cell_type": "code",
   "execution_count": 44,
   "id": "acf5814f-0a4e-4ff6-88d8-42fae437b4a2",
   "metadata": {},
   "outputs": [],
   "source": [
    "ans = 10**10\n",
    "for P in itertools.product([0, 1], repeat=len(N)):\n",
    "    if sum(P) == len(N):\n",
    "        continue\n",
    "    s = ''\n",
    "    for i, p in enumerate(P):\n",
    "        if p == 1:\n",
    "            continue\n",
    "        s += N[i]\n",
    "    if int(s) % 3 == 0:\n",
    "        ans = min(ans, sum(P))"
   ]
  },
  {
   "cell_type": "code",
   "execution_count": 45,
   "id": "14dfd656-2177-4542-b48c-57c74812997b",
   "metadata": {},
   "outputs": [
    {
     "name": "stdout",
     "output_type": "stream",
     "text": [
      "1\n"
     ]
    }
   ],
   "source": [
    "print(-1 if ans == 10**10 else ans)"
   ]
  },
  {
   "cell_type": "code",
   "execution_count": 46,
   "id": "67777aa4-0ed9-44fb-bc9e-6c6b51bfb1f8",
   "metadata": {},
   "outputs": [
    {
     "data": {
      "text/plain": [
       "('4', (1, 1, 1, 1, 1, 1, 1))"
      ]
     },
     "execution_count": 46,
     "metadata": {},
     "output_type": "execute_result"
    }
   ],
   "source": [
    "s, P"
   ]
  },
  {
   "cell_type": "code",
   "execution_count": 47,
   "id": "17d90ec4-dda8-4402-bf93-d512c506642c",
   "metadata": {},
   "outputs": [],
   "source": [
    "ans = -1\n",
    "r = sum(int(n) for n in N) % 3\n",
    "r1 = sum(int(n) for n in N if int(n) % 3 == 1)\n",
    "r2 = sum(int(n) for n in N if int(n) % 3 == 2)\n"
   ]
  },
  {
   "cell_type": "code",
   "execution_count": 48,
   "id": "8655c611-627d-46ad-8fd3-a6006de2a52b",
   "metadata": {},
   "outputs": [],
   "source": [
    "if r % 3 == 0:\n",
    "    ans = 0\n",
    "elif r % 3 == 1:\n",
    "    if r1 >= 1 and len(N) > 1:\n",
    "        ans = 1\n",
    "    elif r2 >= 2 and len(N) > 2:\n",
    "        ans = 2\n",
    "else:\n",
    "    if r2 >= 1 and len(N) > 1:\n",
    "        ans = 1\n",
    "    elif r1 >= 2 and len(N) > 2:\n",
    "        ans = 2\n",
    "    "
   ]
  },
  {
   "cell_type": "code",
   "execution_count": 49,
   "id": "8c62bb71-6a8d-4853-a8b0-295d215892ff",
   "metadata": {},
   "outputs": [
    {
     "name": "stdout",
     "output_type": "stream",
     "text": [
      "1\n"
     ]
    }
   ],
   "source": [
    "print(ans)"
   ]
  },
  {
   "cell_type": "code",
   "execution_count": 25,
   "id": "ed314ba6-ca70-44f3-b060-8258595fe0e6",
   "metadata": {},
   "outputs": [
    {
     "data": {
      "text/plain": [
       "(2, 0)"
      ]
     },
     "execution_count": 25,
     "metadata": {},
     "output_type": "execute_result"
    }
   ],
   "source": [
    "r1, r2"
   ]
  },
  {
   "cell_type": "code",
   "execution_count": null,
   "id": "5625fd26-a598-4cae-bd29-96161d3b754a",
   "metadata": {},
   "outputs": [],
   "source": []
  }
 ],
 "metadata": {
  "kernelspec": {
   "display_name": "Python 3",
   "language": "python",
   "name": "python3"
  },
  "language_info": {
   "codemirror_mode": {
    "name": "ipython",
    "version": 3
   },
   "file_extension": ".py",
   "mimetype": "text/x-python",
   "name": "python",
   "nbconvert_exporter": "python",
   "pygments_lexer": "ipython3",
   "version": "3.6.13"
  }
 },
 "nbformat": 4,
 "nbformat_minor": 5
}
