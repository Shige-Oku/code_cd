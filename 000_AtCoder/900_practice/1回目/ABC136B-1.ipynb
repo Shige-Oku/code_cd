{
 "cells": [
  {
   "cell_type": "code",
   "execution_count": 13,
   "id": "69896343-7f01-4843-b846-480ae98b8f38",
   "metadata": {},
   "outputs": [
    {
     "name": "stdin",
     "output_type": "stream",
     "text": [
      " 11\n"
     ]
    }
   ],
   "source": [
    "N = int(input())"
   ]
  },
  {
   "cell_type": "code",
   "execution_count": 14,
   "id": "864777b3-8d72-447b-88a3-d019cf7808cc",
   "metadata": {},
   "outputs": [],
   "source": [
    "ans = 0\n",
    "for i in range(1, N+1):\n",
    "    if len(str(i)) % 2 == 1:\n",
    "        ans += 1"
   ]
  },
  {
   "cell_type": "code",
   "execution_count": 15,
   "id": "d76ca5f1-53bc-4943-b9fd-3124af1afa7b",
   "metadata": {},
   "outputs": [
    {
     "name": "stdout",
     "output_type": "stream",
     "text": [
      "9\n"
     ]
    }
   ],
   "source": [
    "print(ans)"
   ]
  },
  {
   "cell_type": "code",
   "execution_count": 22,
   "id": "52fee63c-d46c-4410-b6ab-434de37276d3",
   "metadata": {},
   "outputs": [
    {
     "name": "stdout",
     "output_type": "stream",
     "text": [
      "9\n"
     ]
    }
   ],
   "source": [
    "print(sum([len(str(i)) % 2 == 1 for i in range(1, N+1)]))"
   ]
  },
  {
   "cell_type": "code",
   "execution_count": 18,
   "id": "e0c7dc9e-76dc-4b53-a3a8-0b6337534d32",
   "metadata": {},
   "outputs": [],
   "source": [
    "l = [len(str(i)) % 2 == 1 for i in range(1, N+1)]"
   ]
  },
  {
   "cell_type": "code",
   "execution_count": 21,
   "id": "14015235-440d-47c7-b48b-e5ce93773312",
   "metadata": {},
   "outputs": [
    {
     "data": {
      "text/plain": [
       "9"
      ]
     },
     "execution_count": 21,
     "metadata": {},
     "output_type": "execute_result"
    }
   ],
   "source": [
    "sum([len(str(i)) % 2 == 1 for i in range(1, N+1)])"
   ]
  },
  {
   "cell_type": "code",
   "execution_count": null,
   "id": "9fabf265-ceea-4cf0-bbad-9cd964ca56f2",
   "metadata": {},
   "outputs": [],
   "source": []
  }
 ],
 "metadata": {
  "kernelspec": {
   "display_name": "Python 3",
   "language": "python",
   "name": "python3"
  },
  "language_info": {
   "codemirror_mode": {
    "name": "ipython",
    "version": 3
   },
   "file_extension": ".py",
   "mimetype": "text/x-python",
   "name": "python",
   "nbconvert_exporter": "python",
   "pygments_lexer": "ipython3",
   "version": "3.6.13"
  }
 },
 "nbformat": 4,
 "nbformat_minor": 5
}
