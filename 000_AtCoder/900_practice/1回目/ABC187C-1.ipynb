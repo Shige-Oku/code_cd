{
 "cells": [
  {
   "cell_type": "code",
   "execution_count": 1,
   "id": "28688b4f-244d-477b-9212-a0c538a0343c",
   "metadata": {},
   "outputs": [
    {
     "name": "stdin",
     "output_type": "stream",
     "text": [
      " 6\n"
     ]
    }
   ],
   "source": [
    "N = int(input())"
   ]
  },
  {
   "cell_type": "code",
   "execution_count": 2,
   "id": "936d2dae-ebed-475b-bb3e-6a11de267b67",
   "metadata": {},
   "outputs": [
    {
     "name": "stdin",
     "output_type": "stream",
     "text": [
      " a\n",
      " !a\n",
      " b\n",
      " !c\n",
      " d\n",
      " !d\n"
     ]
    }
   ],
   "source": [
    "Sn = [input() for _ in range(N)]"
   ]
  },
  {
   "cell_type": "code",
   "execution_count": 5,
   "id": "98854182-a18f-4056-a768-6bf597c99734",
   "metadata": {},
   "outputs": [
    {
     "name": "stdout",
     "output_type": "stream",
     "text": [
      "d\n"
     ]
    }
   ],
   "source": [
    "Sn_s = set(Sn)\n",
    "for S in Sn_s:\n",
    "    if S[0] == '!':\n",
    "        if S[1:] in Sn_s:\n",
    "            print(S[1:])\n",
    "            break\n",
    "    else:\n",
    "        if '!' + S in Sn_s:\n",
    "            print(S)\n",
    "            break\n",
    "else:\n",
    "    print('satisfiable')"
   ]
  },
  {
   "cell_type": "code",
   "execution_count": 4,
   "id": "506cc9c6-9e56-42a3-adcd-644d92ca1a84",
   "metadata": {},
   "outputs": [
    {
     "data": {
      "text/plain": [
       "{'!a', '!c', '!d', 'a', 'b', 'd'}"
      ]
     },
     "execution_count": 4,
     "metadata": {},
     "output_type": "execute_result"
    }
   ],
   "source": [
    "Sn_s"
   ]
  },
  {
   "cell_type": "code",
   "execution_count": null,
   "id": "b41a5099-16b0-43a4-b0f4-9e3bb25a360b",
   "metadata": {},
   "outputs": [],
   "source": []
  }
 ],
 "metadata": {
  "kernelspec": {
   "display_name": "Python 3",
   "language": "python",
   "name": "python3"
  },
  "language_info": {
   "codemirror_mode": {
    "name": "ipython",
    "version": 3
   },
   "file_extension": ".py",
   "mimetype": "text/x-python",
   "name": "python",
   "nbconvert_exporter": "python",
   "pygments_lexer": "ipython3",
   "version": "3.6.13"
  }
 },
 "nbformat": 4,
 "nbformat_minor": 5
}
