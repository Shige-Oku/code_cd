{
 "cells": [
  {
   "cell_type": "code",
   "execution_count": 12,
   "id": "a74f69d5-3d4f-4ea6-9122-e3f4929827f1",
   "metadata": {},
   "outputs": [
    {
     "name": "stdin",
     "output_type": "stream",
     "text": [
      " 6 8\n"
     ]
    }
   ],
   "source": [
    "N, M = map(int, input().split())"
   ]
  },
  {
   "cell_type": "code",
   "execution_count": 13,
   "id": "b0f99e1c-09c1-4f81-913e-3fa3a10c6f15",
   "metadata": {},
   "outputs": [
    {
     "name": "stdin",
     "output_type": "stream",
     "text": [
      " 82 76 82 82 71 70\n"
     ]
    }
   ],
   "source": [
    "An = list(map(int, input().split()))"
   ]
  },
  {
   "cell_type": "code",
   "execution_count": 14,
   "id": "a8896386-b07d-4cdd-9a01-5c82b9dd995c",
   "metadata": {},
   "outputs": [
    {
     "name": "stdin",
     "output_type": "stream",
     "text": [
      " 17 39 67 2 45 35 22 24\n"
     ]
    }
   ],
   "source": [
    "Bn = list(map(int, input().split()))"
   ]
  },
  {
   "cell_type": "code",
   "execution_count": 18,
   "id": "5bb811e0-f413-433c-af1c-2ddb6cb8f40b",
   "metadata": {},
   "outputs": [],
   "source": [
    "from bisect import bisect_left\n",
    "Bn_s = sorted(Bn)\n",
    "ans = 10**10\n",
    "for A in An:\n",
    "    idx = bisect_left(Bn_s, A)\n",
    "    if idx == 0:\n",
    "        ans = min(ans, abs(A-Bn_s[idx]))\n",
    "    elif idx == M:\n",
    "        ans = min(ans, abs(A-Bn_s[idx-1]))\n",
    "    else:\n",
    "        ans = min(ans, abs(A-Bn_s[idx-1]), abs(A-Bn_s[idx]))\n",
    "        "
   ]
  },
  {
   "cell_type": "code",
   "execution_count": 19,
   "id": "f61ce356-1a41-4437-92d0-1ecd6f047220",
   "metadata": {},
   "outputs": [
    {
     "name": "stdout",
     "output_type": "stream",
     "text": [
      "3\n"
     ]
    }
   ],
   "source": [
    "print(ans)"
   ]
  },
  {
   "cell_type": "code",
   "execution_count": 17,
   "id": "3b79dea8-e98c-4e2c-9ef0-d81e86e59a99",
   "metadata": {},
   "outputs": [
    {
     "data": {
      "text/plain": [
       "8"
      ]
     },
     "execution_count": 17,
     "metadata": {},
     "output_type": "execute_result"
    }
   ],
   "source": [
    "idx"
   ]
  },
  {
   "cell_type": "code",
   "execution_count": 22,
   "id": "4da68c63-6d35-4dab-8250-a6f9988072a5",
   "metadata": {},
   "outputs": [],
   "source": [
    "An_s = sorted(An)\n",
    "Bn_s = sorted(Bn)\n",
    "An_s.append(10**20)\n",
    "Bn_s.append(10**20)\n",
    "ans = 10**10\n",
    "i, j = 0,0\n",
    "while i < N or j < M:\n",
    "    ans = min(ans, abs(An_s[i] - Bn_s[j]))\n",
    "    if An_s[i] >= Bn_s[j]:\n",
    "        j += 1\n",
    "    else:\n",
    "        i += 1"
   ]
  },
  {
   "cell_type": "code",
   "execution_count": 23,
   "id": "f82576e0-8566-4183-86ee-1bd19db0c9ef",
   "metadata": {},
   "outputs": [
    {
     "name": "stdout",
     "output_type": "stream",
     "text": [
      "3\n"
     ]
    }
   ],
   "source": [
    "print(ans)"
   ]
  },
  {
   "cell_type": "code",
   "execution_count": null,
   "id": "5d629182-c7e6-4856-9b39-73f53aab78de",
   "metadata": {},
   "outputs": [],
   "source": []
  }
 ],
 "metadata": {
  "kernelspec": {
   "display_name": "Python 3",
   "language": "python",
   "name": "python3"
  },
  "language_info": {
   "codemirror_mode": {
    "name": "ipython",
    "version": 3
   },
   "file_extension": ".py",
   "mimetype": "text/x-python",
   "name": "python",
   "nbconvert_exporter": "python",
   "pygments_lexer": "ipython3",
   "version": "3.6.13"
  }
 },
 "nbformat": 4,
 "nbformat_minor": 5
}
