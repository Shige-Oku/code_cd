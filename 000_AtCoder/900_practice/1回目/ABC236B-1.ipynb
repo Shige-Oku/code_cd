{
 "cells": [
  {
   "cell_type": "code",
   "execution_count": 9,
   "id": "bf126542-773a-487d-b4dc-ab8f07526f4d",
   "metadata": {},
   "outputs": [
    {
     "name": "stdin",
     "output_type": "stream",
     "text": [
      " 4\n"
     ]
    }
   ],
   "source": [
    "N = int(input())"
   ]
  },
  {
   "cell_type": "code",
   "execution_count": 10,
   "id": "ecd8b07e-e847-463d-87b6-adccb51aebae",
   "metadata": {},
   "outputs": [
    {
     "name": "stdin",
     "output_type": "stream",
     "text": [
      " 3 2 1 1 2 4 4 4 4 3 1 3 2 1 3\n"
     ]
    }
   ],
   "source": [
    "An = list(map(int, input().split()))"
   ]
  },
  {
   "cell_type": "code",
   "execution_count": 11,
   "id": "05cb5480-9219-43e2-a564-58abecfa46b3",
   "metadata": {},
   "outputs": [
    {
     "name": "stdout",
     "output_type": "stream",
     "text": [
      "2\n"
     ]
    }
   ],
   "source": [
    "import collections\n",
    "An_c = collections.Counter(An)\n",
    "for k, v in An_c.items():\n",
    "    if v != 4:\n",
    "        print(k)"
   ]
  },
  {
   "cell_type": "code",
   "execution_count": 14,
   "id": "9bd82298-3b47-4b96-ac31-b701f5130ed5",
   "metadata": {},
   "outputs": [
    {
     "name": "stdout",
     "output_type": "stream",
     "text": [
      "2\n"
     ]
    }
   ],
   "source": [
    "print((N+1)*N*4//2-sum(An))"
   ]
  },
  {
   "cell_type": "code",
   "execution_count": 12,
   "id": "239f4101-c1ac-4c42-ae7f-54fa2101ec90",
   "metadata": {},
   "outputs": [
    {
     "data": {
      "text/plain": [
       "Counter({3: 4, 2: 3, 1: 4, 4: 4})"
      ]
     },
     "execution_count": 12,
     "metadata": {},
     "output_type": "execute_result"
    }
   ],
   "source": [
    "An_c"
   ]
  },
  {
   "cell_type": "code",
   "execution_count": 15,
   "id": "87c8ffee-2014-42fd-9103-ae809ac138a6",
   "metadata": {},
   "outputs": [],
   "source": [
    "ans = 0\n",
    "for A in An:\n",
    "    ans ^= A"
   ]
  },
  {
   "cell_type": "code",
   "execution_count": 16,
   "id": "1140613b-c8a6-4ac9-b899-22b12756fd31",
   "metadata": {},
   "outputs": [
    {
     "name": "stdout",
     "output_type": "stream",
     "text": [
      "2\n"
     ]
    }
   ],
   "source": [
    "print(ans)"
   ]
  },
  {
   "cell_type": "code",
   "execution_count": null,
   "id": "e05b1549-e181-4243-ab6e-31dd85600140",
   "metadata": {},
   "outputs": [],
   "source": []
  }
 ],
 "metadata": {
  "kernelspec": {
   "display_name": "Python 3",
   "language": "python",
   "name": "python3"
  },
  "language_info": {
   "codemirror_mode": {
    "name": "ipython",
    "version": 3
   },
   "file_extension": ".py",
   "mimetype": "text/x-python",
   "name": "python",
   "nbconvert_exporter": "python",
   "pygments_lexer": "ipython3",
   "version": "3.6.13"
  }
 },
 "nbformat": 4,
 "nbformat_minor": 5
}
