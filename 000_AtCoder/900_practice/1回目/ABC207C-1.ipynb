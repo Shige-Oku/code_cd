{
 "cells": [
  {
   "cell_type": "code",
   "execution_count": 1,
   "id": "d6a72f03-ba80-4341-b4bd-4e8e81ef1dc4",
   "metadata": {},
   "outputs": [
    {
     "name": "stdin",
     "output_type": "stream",
     "text": [
      " 3\n"
     ]
    }
   ],
   "source": [
    "N = int(input())"
   ]
  },
  {
   "cell_type": "code",
   "execution_count": 10,
   "id": "58990fc4-489e-4647-90fa-f3a87a69ae2e",
   "metadata": {},
   "outputs": [
    {
     "name": "stdin",
     "output_type": "stream",
     "text": [
      " 1  1 2\n",
      " 2 2 3\n",
      " 3 2 4\n"
     ]
    }
   ],
   "source": [
    "TLRn = []\n",
    "for _ in range(N):\n",
    "    T, L, R = map(int, input().split())\n",
    "    if T == 2:\n",
    "        R -= 0.5\n",
    "    elif T == 3:\n",
    "        L += 0.5\n",
    "    elif T == 4:\n",
    "        L += 0.5\n",
    "        R -= 0.5\n",
    "    TLRn.append((L, R))"
   ]
  },
  {
   "cell_type": "code",
   "execution_count": 11,
   "id": "bc144564-9f9c-4e85-a690-8970cf97fac4",
   "metadata": {},
   "outputs": [
    {
     "name": "stdout",
     "output_type": "stream",
     "text": [
      "0 1\n",
      "0 2\n",
      "1 2\n"
     ]
    }
   ],
   "source": [
    "ans = 0\n",
    "for i in range(N-1):\n",
    "    L1, R1 = TLRn[i]\n",
    "    for j in range(i+1, N):\n",
    "        L2, R2 = TLRn[j]\n",
    "        if max(L1, L2) <= min(R1, R2):\n",
    "            ans += 1"
   ]
  },
  {
   "cell_type": "code",
   "execution_count": 12,
   "id": "c1bd3f2e-9eae-4273-89a1-ff5232d7e9e7",
   "metadata": {},
   "outputs": [
    {
     "name": "stdout",
     "output_type": "stream",
     "text": [
      "2\n"
     ]
    }
   ],
   "source": [
    "print(ans)"
   ]
  },
  {
   "cell_type": "code",
   "execution_count": 9,
   "id": "e9dcbf71-4146-46c9-a377-193ba5b9f800",
   "metadata": {},
   "outputs": [
    {
     "data": {
      "text/plain": [
       "[(1, 2), (2, 2), (3, 4)]"
      ]
     },
     "execution_count": 9,
     "metadata": {},
     "output_type": "execute_result"
    }
   ],
   "source": [
    "TLRn"
   ]
  },
  {
   "cell_type": "code",
   "execution_count": null,
   "id": "a0b886c9-1759-4bbb-87cf-362a969dfead",
   "metadata": {},
   "outputs": [],
   "source": []
  }
 ],
 "metadata": {
  "kernelspec": {
   "display_name": "Python 3",
   "language": "python",
   "name": "python3"
  },
  "language_info": {
   "codemirror_mode": {
    "name": "ipython",
    "version": 3
   },
   "file_extension": ".py",
   "mimetype": "text/x-python",
   "name": "python",
   "nbconvert_exporter": "python",
   "pygments_lexer": "ipython3",
   "version": "3.6.13"
  }
 },
 "nbformat": 4,
 "nbformat_minor": 5
}
