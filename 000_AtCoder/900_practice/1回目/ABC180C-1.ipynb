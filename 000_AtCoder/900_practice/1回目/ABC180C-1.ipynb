{
 "cells": [
  {
   "cell_type": "code",
   "execution_count": 8,
   "id": "b082c8ba-fb43-4482-bee9-5d7522513957",
   "metadata": {},
   "outputs": [
    {
     "name": "stdin",
     "output_type": "stream",
     "text": [
      " 1000000007\n"
     ]
    }
   ],
   "source": [
    "N = int(input())"
   ]
  },
  {
   "cell_type": "code",
   "execution_count": 9,
   "id": "ed5a27b7-eea3-407f-8f45-0284f3986a39",
   "metadata": {},
   "outputs": [],
   "source": [
    "# 約数のリスト作成\n",
    "import math\n",
    "def get_divisor_list_without_sqrt(number):\n",
    "    number_sqrt = int(math.sqrt(number)) + 1\n",
    "    divisors = []\n",
    "    for i in range(1, int(number_sqrt)):\n",
    "        if number % i == 0:\n",
    "            # 割り切れたので約数\n",
    "            divisors.append(i)\n",
    "            if i ** 2 != number:\n",
    "                divisors.append(number // i)\n",
    "    return divisors\n"
   ]
  },
  {
   "cell_type": "code",
   "execution_count": 10,
   "id": "9adccfef-5573-4537-8417-688b45b68cd6",
   "metadata": {},
   "outputs": [
    {
     "name": "stdout",
     "output_type": "stream",
     "text": [
      "1\n",
      "1000000007\n"
     ]
    }
   ],
   "source": [
    "divisors = get_divisor_list_without_sqrt(N)\n",
    "divisors_s = sorted(divisors)\n",
    "print(*divisors_s, sep='\\n')"
   ]
  },
  {
   "cell_type": "code",
   "execution_count": null,
   "id": "532b9f4e-0017-4d60-bb61-921047bbe24d",
   "metadata": {},
   "outputs": [],
   "source": []
  }
 ],
 "metadata": {
  "kernelspec": {
   "display_name": "Python 3",
   "language": "python",
   "name": "python3"
  },
  "language_info": {
   "codemirror_mode": {
    "name": "ipython",
    "version": 3
   },
   "file_extension": ".py",
   "mimetype": "text/x-python",
   "name": "python",
   "nbconvert_exporter": "python",
   "pygments_lexer": "ipython3",
   "version": "3.6.13"
  }
 },
 "nbformat": 4,
 "nbformat_minor": 5
}
