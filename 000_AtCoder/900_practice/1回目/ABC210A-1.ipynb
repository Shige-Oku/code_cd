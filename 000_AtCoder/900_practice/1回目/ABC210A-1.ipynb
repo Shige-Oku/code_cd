{
 "cells": [
  {
   "cell_type": "code",
   "execution_count": 4,
   "id": "1174426b-4f26-46b9-8f3d-f863b57c2a3c",
   "metadata": {},
   "outputs": [
    {
     "name": "stdin",
     "output_type": "stream",
     "text": [
      " 10 10 100 1\n"
     ]
    }
   ],
   "source": [
    "N, A, X, Y = map(int, input().split())"
   ]
  },
  {
   "cell_type": "code",
   "execution_count": 5,
   "id": "e3fc3403-fb09-43c1-850f-997554accf4a",
   "metadata": {},
   "outputs": [
    {
     "name": "stdout",
     "output_type": "stream",
     "text": [
      "1000\n"
     ]
    }
   ],
   "source": [
    "if N <= A:\n",
    "    print(N*X)\n",
    "else:\n",
    "    print(A*X + (N-A)*Y)"
   ]
  },
  {
   "cell_type": "code",
   "execution_count": 7,
   "id": "33e365ba-0061-4f5d-bac7-c523b500c37d",
   "metadata": {},
   "outputs": [],
   "source": [
    "x_yen = min(N, A) * X\n",
    "y_yen = (N - (min(N, A))) * Y"
   ]
  },
  {
   "cell_type": "code",
   "execution_count": 10,
   "id": "5931b4aa-eddd-4121-a4cd-c477e6b50bb3",
   "metadata": {},
   "outputs": [
    {
     "name": "stdout",
     "output_type": "stream",
     "text": [
      "1000\n"
     ]
    }
   ],
   "source": [
    "print(x_yen + y_yen)"
   ]
  },
  {
   "cell_type": "code",
   "execution_count": null,
   "id": "eadac844-824f-45c6-ad3c-6329220f4626",
   "metadata": {},
   "outputs": [],
   "source": []
  }
 ],
 "metadata": {
  "kernelspec": {
   "display_name": "Python 3",
   "language": "python",
   "name": "python3"
  },
  "language_info": {
   "codemirror_mode": {
    "name": "ipython",
    "version": 3
   },
   "file_extension": ".py",
   "mimetype": "text/x-python",
   "name": "python",
   "nbconvert_exporter": "python",
   "pygments_lexer": "ipython3",
   "version": "3.6.13"
  }
 },
 "nbformat": 4,
 "nbformat_minor": 5
}
