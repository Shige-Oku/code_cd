{
 "cells": [
  {
   "cell_type": "code",
   "execution_count": 18,
   "id": "e56b7b06-1fa6-42d5-82f2-d5ab0aebb0d3",
   "metadata": {},
   "outputs": [
    {
     "name": "stdin",
     "output_type": "stream",
     "text": [
      " 2\n"
     ]
    }
   ],
   "source": [
    "N = int(input())"
   ]
  },
  {
   "cell_type": "code",
   "execution_count": 19,
   "id": "e05e2d9c-ad4a-4d74-b691-0339a47fbf77",
   "metadata": {},
   "outputs": [
    {
     "name": "stdin",
     "output_type": "stream",
     "text": [
      " 1 2\n"
     ]
    }
   ],
   "source": [
    "An = list(map(int, input().split()))"
   ]
  },
  {
   "cell_type": "code",
   "execution_count": 20,
   "id": "67daf63d-2655-4381-a930-0601490ac397",
   "metadata": {},
   "outputs": [
    {
     "name": "stdin",
     "output_type": "stream",
     "text": [
      " 50 50\n"
     ]
    }
   ],
   "source": [
    "Bn = list(map(int, input().split()))"
   ]
  },
  {
   "cell_type": "code",
   "execution_count": 21,
   "id": "f028f01a-0d27-4d53-b692-3b53dd9ab39a",
   "metadata": {},
   "outputs": [
    {
     "name": "stdin",
     "output_type": "stream",
     "text": [
      " 50\n"
     ]
    }
   ],
   "source": [
    "Cn = list(map(int, input().split()))"
   ]
  },
  {
   "cell_type": "code",
   "execution_count": 22,
   "id": "a9758dad-27b1-44c6-8c11-2004f4b4e25b",
   "metadata": {},
   "outputs": [],
   "source": [
    "ans = 0\n",
    "z = -1\n",
    "for A in An:\n",
    "    ans += Bn[A-1]\n",
    "    if 1 < A and A - 1 == z:\n",
    "        ans += Cn[A-2]\n",
    "    z = A"
   ]
  },
  {
   "cell_type": "code",
   "execution_count": 23,
   "id": "ea8d590c-c16c-4b48-806b-cbca20c4ba7e",
   "metadata": {},
   "outputs": [
    {
     "name": "stdout",
     "output_type": "stream",
     "text": [
      "150\n"
     ]
    }
   ],
   "source": [
    "print(ans)"
   ]
  },
  {
   "cell_type": "code",
   "execution_count": 25,
   "id": "f1254801-d047-4b08-9693-d2a5b7c01b4b",
   "metadata": {},
   "outputs": [],
   "source": [
    "ans = sum(Bn)\n",
    "for a1, a2 in zip(An, An[1:]):\n",
    "    if a1 == a2 - 1:\n",
    "        ans += Cn[a1-1]"
   ]
  },
  {
   "cell_type": "code",
   "execution_count": 26,
   "id": "00f431f4-e413-4228-a185-eabfb712fa01",
   "metadata": {},
   "outputs": [
    {
     "name": "stdout",
     "output_type": "stream",
     "text": [
      "150\n"
     ]
    }
   ],
   "source": [
    "print(ans)"
   ]
  },
  {
   "cell_type": "code",
   "execution_count": null,
   "id": "f347f0ce-93d5-4617-9e25-c2bc17e93a55",
   "metadata": {},
   "outputs": [],
   "source": []
  }
 ],
 "metadata": {
  "kernelspec": {
   "display_name": "Python 3",
   "language": "python",
   "name": "python3"
  },
  "language_info": {
   "codemirror_mode": {
    "name": "ipython",
    "version": 3
   },
   "file_extension": ".py",
   "mimetype": "text/x-python",
   "name": "python",
   "nbconvert_exporter": "python",
   "pygments_lexer": "ipython3",
   "version": "3.6.13"
  }
 },
 "nbformat": 4,
 "nbformat_minor": 5
}
