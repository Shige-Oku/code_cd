{
 "cells": [
  {
   "cell_type": "code",
   "execution_count": 1,
   "id": "62aa6522-16d0-4526-bb70-17cf168d21fa",
   "metadata": {},
   "outputs": [
    {
     "name": "stdin",
     "output_type": "stream",
     "text": [
      " 5\n"
     ]
    }
   ],
   "source": [
    "N = int(input())"
   ]
  },
  {
   "cell_type": "code",
   "execution_count": 2,
   "id": "efccd483-8411-4d80-bb41-1005ae385987",
   "metadata": {},
   "outputs": [
    {
     "name": "stdin",
     "output_type": "stream",
     "text": [
      " 1 2\n",
      " 6 6\n",
      " 4 4\n",
      " 3 3\n",
      " 3 2\n"
     ]
    }
   ],
   "source": [
    "Dn = [list(map(int, input().split())) for _ in range(N)]"
   ]
  },
  {
   "cell_type": "code",
   "execution_count": 3,
   "id": "54a1e835-0d99-42cb-b331-0c29b9f35e3f",
   "metadata": {},
   "outputs": [],
   "source": [
    "flg = False\n",
    "cnt = 0\n",
    "for d1, d2 in Dn:\n",
    "    if d1 == d2:\n",
    "        cnt += 1\n",
    "    else:\n",
    "        cnt = 0\n",
    "    if cnt >= 3:\n",
    "        flg = True"
   ]
  },
  {
   "cell_type": "code",
   "execution_count": 4,
   "id": "6ee5791f-4d89-4874-96cc-30b7653058da",
   "metadata": {},
   "outputs": [
    {
     "name": "stdout",
     "output_type": "stream",
     "text": [
      "Yes\n"
     ]
    }
   ],
   "source": [
    "print('Yes' if flg else 'No')"
   ]
  },
  {
   "cell_type": "code",
   "execution_count": null,
   "id": "2eaae1e1-702f-4c8a-a784-1a59645163ff",
   "metadata": {},
   "outputs": [],
   "source": []
  }
 ],
 "metadata": {
  "kernelspec": {
   "display_name": "Python 3",
   "language": "python",
   "name": "python3"
  },
  "language_info": {
   "codemirror_mode": {
    "name": "ipython",
    "version": 3
   },
   "file_extension": ".py",
   "mimetype": "text/x-python",
   "name": "python",
   "nbconvert_exporter": "python",
   "pygments_lexer": "ipython3",
   "version": "3.6.13"
  }
 },
 "nbformat": 4,
 "nbformat_minor": 5
}
