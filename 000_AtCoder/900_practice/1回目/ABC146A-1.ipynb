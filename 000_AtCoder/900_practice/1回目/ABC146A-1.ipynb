{
 "cells": [
  {
   "cell_type": "code",
   "execution_count": 3,
   "id": "59c8135b-bec6-4f15-bb5a-cec656545eda",
   "metadata": {},
   "outputs": [
    {
     "name": "stdin",
     "output_type": "stream",
     "text": [
      " SUN\n"
     ]
    }
   ],
   "source": [
    "S = input()"
   ]
  },
  {
   "cell_type": "code",
   "execution_count": 4,
   "id": "103b5347-5d7c-4170-a879-59497aee7429",
   "metadata": {},
   "outputs": [
    {
     "name": "stdout",
     "output_type": "stream",
     "text": [
      "7\n"
     ]
    }
   ],
   "source": [
    "if S == 'SUN':\n",
    "    print('7')\n",
    "elif S == 'MON':\n",
    "    print('6')\n",
    "elif S == 'TUE':\n",
    "    print('5')\n",
    "elif S == 'WED':\n",
    "    print('4')\n",
    "elif S == 'THU':\n",
    "    print('3')\n",
    "elif S == 'FRI':\n",
    "    print('2')\n",
    "else:\n",
    "    print('1')\n"
   ]
  },
  {
   "cell_type": "code",
   "execution_count": 9,
   "id": "172fdcd8-d25b-4010-91e9-37e6018096fe",
   "metadata": {},
   "outputs": [],
   "source": [
    "d = {'SUN':7, 'MON':6, 'TUE':5 , 'WED':4, 'THU':3, 'FRI':2, 'SAT':1}"
   ]
  },
  {
   "cell_type": "code",
   "execution_count": 10,
   "id": "3a69303d-22cc-4e58-ab21-e01ff9f339b2",
   "metadata": {},
   "outputs": [
    {
     "name": "stdout",
     "output_type": "stream",
     "text": [
      "7\n"
     ]
    }
   ],
   "source": [
    "print(d[S])"
   ]
  },
  {
   "cell_type": "code",
   "execution_count": null,
   "id": "d3b7697b-4f8f-42a0-b697-cf798453f3b5",
   "metadata": {},
   "outputs": [],
   "source": []
  }
 ],
 "metadata": {
  "kernelspec": {
   "display_name": "Python 3",
   "language": "python",
   "name": "python3"
  },
  "language_info": {
   "codemirror_mode": {
    "name": "ipython",
    "version": 3
   },
   "file_extension": ".py",
   "mimetype": "text/x-python",
   "name": "python",
   "nbconvert_exporter": "python",
   "pygments_lexer": "ipython3",
   "version": "3.6.13"
  }
 },
 "nbformat": 4,
 "nbformat_minor": 5
}
