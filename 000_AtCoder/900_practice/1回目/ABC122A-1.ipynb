{
 "cells": [
  {
   "cell_type": "code",
   "execution_count": 9,
   "id": "2594e118-b469-4448-aa94-6ce904881ab0",
   "metadata": {},
   "outputs": [
    {
     "name": "stdin",
     "output_type": "stream",
     "text": [
      " C\n"
     ]
    }
   ],
   "source": [
    "B = input()"
   ]
  },
  {
   "cell_type": "code",
   "execution_count": 10,
   "id": "3c628d3b-eb60-46f7-a012-e35447d2eadd",
   "metadata": {},
   "outputs": [
    {
     "name": "stdout",
     "output_type": "stream",
     "text": [
      "G\n"
     ]
    }
   ],
   "source": [
    "if B == 'A':\n",
    "    print('T')\n",
    "elif B == 'T':\n",
    "    print('A')\n",
    "elif B == 'C':\n",
    "    print('G')\n",
    "else:\n",
    "    print('C')"
   ]
  },
  {
   "cell_type": "code",
   "execution_count": null,
   "id": "55388895-c48f-45de-8974-d0120e2dfa07",
   "metadata": {},
   "outputs": [],
   "source": []
  }
 ],
 "metadata": {
  "kernelspec": {
   "display_name": "Python 3",
   "language": "python",
   "name": "python3"
  },
  "language_info": {
   "codemirror_mode": {
    "name": "ipython",
    "version": 3
   },
   "file_extension": ".py",
   "mimetype": "text/x-python",
   "name": "python",
   "nbconvert_exporter": "python",
   "pygments_lexer": "ipython3",
   "version": "3.6.13"
  }
 },
 "nbformat": 4,
 "nbformat_minor": 5
}
