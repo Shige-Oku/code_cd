{
 "cells": [
  {
   "cell_type": "code",
   "execution_count": 1,
   "id": "3a240cc6-08d9-4a6b-bb57-37a21deea631",
   "metadata": {},
   "outputs": [
    {
     "name": "stdin",
     "output_type": "stream",
     "text": [
      " 3\n"
     ]
    }
   ],
   "source": [
    "N = int(input())"
   ]
  },
  {
   "cell_type": "code",
   "execution_count": 2,
   "id": "1388da38-4f02-468e-b563-ef162d12719a",
   "metadata": {},
   "outputs": [
    {
     "name": "stdin",
     "output_type": "stream",
     "text": [
      " tanaka taro\n",
      " sato hanako\n",
      " tanaka taro\n"
     ]
    }
   ],
   "source": [
    "STn = [list(input().split()) for _ in range(N)]"
   ]
  },
  {
   "cell_type": "code",
   "execution_count": 8,
   "id": "2763cc87-d264-448e-ac23-ece32b349875",
   "metadata": {},
   "outputs": [],
   "source": [
    "flg = False\n",
    "for i in range(N-1):\n",
    "    S1, T1 = STn[i]\n",
    "    for j in range(i+1, N):\n",
    "        S2, T2 = STn[j]\n",
    "        if S1 == S2 and T1 == T2:\n",
    "            flg = True\n",
    "    "
   ]
  },
  {
   "cell_type": "code",
   "execution_count": 11,
   "id": "b681248d-02f7-4035-bc61-447d2d905c49",
   "metadata": {},
   "outputs": [
    {
     "name": "stdout",
     "output_type": "stream",
     "text": [
      "Yes\n"
     ]
    }
   ],
   "source": [
    "print('Yes' if flg else 'No')"
   ]
  },
  {
   "cell_type": "code",
   "execution_count": 12,
   "id": "8af75b5f-3530-4c55-b806-cc0303624f49",
   "metadata": {},
   "outputs": [],
   "source": [
    "nm = set()\n",
    "for S, T in STn:\n",
    "    nm.add(S + '_' + T)"
   ]
  },
  {
   "cell_type": "code",
   "execution_count": 15,
   "id": "d3dfbd64-3dad-4d0f-8274-0772d6667bc4",
   "metadata": {},
   "outputs": [
    {
     "name": "stdout",
     "output_type": "stream",
     "text": [
      "Yes\n"
     ]
    }
   ],
   "source": [
    "print('Yes' if len(nm) != N else 'No')"
   ]
  },
  {
   "cell_type": "code",
   "execution_count": 14,
   "id": "4629d7fe-7938-49c3-a53c-7c586ec05418",
   "metadata": {},
   "outputs": [
    {
     "data": {
      "text/plain": [
       "{'sato_hanako', 'tanaka_taro'}"
      ]
     },
     "execution_count": 14,
     "metadata": {},
     "output_type": "execute_result"
    }
   ],
   "source": [
    "nm"
   ]
  }
 ],
 "metadata": {
  "kernelspec": {
   "display_name": "Python 3",
   "language": "python",
   "name": "python3"
  },
  "language_info": {
   "codemirror_mode": {
    "name": "ipython",
    "version": 3
   },
   "file_extension": ".py",
   "mimetype": "text/x-python",
   "name": "python",
   "nbconvert_exporter": "python",
   "pygments_lexer": "ipython3",
   "version": "3.6.13"
  }
 },
 "nbformat": 4,
 "nbformat_minor": 5
}
