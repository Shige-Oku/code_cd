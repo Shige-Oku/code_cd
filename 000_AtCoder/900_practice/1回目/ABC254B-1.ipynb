{
 "cells": [
  {
   "cell_type": "code",
   "execution_count": 15,
   "id": "f86d1dea-9607-49b2-a0bf-80a3a1e06193",
   "metadata": {},
   "outputs": [
    {
     "name": "stdin",
     "output_type": "stream",
     "text": [
      " 3\n"
     ]
    }
   ],
   "source": [
    "N = int(input())"
   ]
  },
  {
   "cell_type": "code",
   "execution_count": 16,
   "id": "40a30362-b47f-4b9e-9914-dc3d099d78c4",
   "metadata": {},
   "outputs": [],
   "source": [
    "ans = [[1,], [1, 1]]\n",
    "for i in range(2, N):\n",
    "    ans.append([])\n",
    "    for j in range(i+1):\n",
    "        if j == 0 or j == i:\n",
    "            ans[i].append(1)\n",
    "        else:\n",
    "            ans[i].append(ans[i-1][j-1]+ans[i-1][j])"
   ]
  },
  {
   "cell_type": "code",
   "execution_count": 17,
   "id": "996ddbd7-e879-4a7a-9689-1cc234810f49",
   "metadata": {},
   "outputs": [
    {
     "name": "stdout",
     "output_type": "stream",
     "text": [
      "1\n",
      "1 1\n",
      "1 2 1\n"
     ]
    }
   ],
   "source": [
    "for an in ans[:N]:\n",
    "    print(*an)"
   ]
  },
  {
   "cell_type": "code",
   "execution_count": 20,
   "id": "4523e40d-d135-4cb7-b9f4-250f47fc89a0",
   "metadata": {},
   "outputs": [
    {
     "name": "stdout",
     "output_type": "stream",
     "text": [
      "1\n",
      "1 1\n",
      "1 2 1\n"
     ]
    }
   ],
   "source": [
    "ans = [[] for _ in range(N)]\n",
    "for i in range(N):\n",
    "    for j in range(i+1):\n",
    "        if j == 0 or j == i:\n",
    "            ans[i].append(1)\n",
    "        else:\n",
    "            ans[i].append(ans[i-1][j-1] + ans[i-1][j])\n",
    "    print(*ans[i])"
   ]
  },
  {
   "cell_type": "code",
   "execution_count": 19,
   "id": "1d17fce8-b11a-4c5c-93fd-a6a28cb2290d",
   "metadata": {},
   "outputs": [
    {
     "data": {
      "text/plain": [
       "[[1], [1, 1], [1]]"
      ]
     },
     "execution_count": 19,
     "metadata": {},
     "output_type": "execute_result"
    }
   ],
   "source": [
    "ans"
   ]
  },
  {
   "cell_type": "code",
   "execution_count": null,
   "id": "179f237a-22ea-44f3-9140-e47c276691b9",
   "metadata": {},
   "outputs": [],
   "source": []
  }
 ],
 "metadata": {
  "kernelspec": {
   "display_name": "Python 3",
   "language": "python",
   "name": "python3"
  },
  "language_info": {
   "codemirror_mode": {
    "name": "ipython",
    "version": 3
   },
   "file_extension": ".py",
   "mimetype": "text/x-python",
   "name": "python",
   "nbconvert_exporter": "python",
   "pygments_lexer": "ipython3",
   "version": "3.6.13"
  }
 },
 "nbformat": 4,
 "nbformat_minor": 5
}
