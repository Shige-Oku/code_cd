{
 "cells": [
  {
   "cell_type": "code",
   "execution_count": 14,
   "id": "212d1b80-de19-4d21-9d06-5c4f2db4c2b8",
   "metadata": {},
   "outputs": [
    {
     "name": "stdin",
     "output_type": "stream",
     "text": [
      " 3 2\n"
     ]
    }
   ],
   "source": [
    "N, K = map(int, input().split())"
   ]
  },
  {
   "cell_type": "code",
   "execution_count": 15,
   "id": "f21fb739-46e7-430d-a474-4c277830b64b",
   "metadata": {},
   "outputs": [
    {
     "name": "stdin",
     "output_type": "stream",
     "text": [
      " 5 5\n",
      " 2 1\n",
      " 2 2\n"
     ]
    }
   ],
   "source": [
    "ABn = [list(map(int, input().split())) for _ in range(N)]"
   ]
  },
  {
   "cell_type": "code",
   "execution_count": 16,
   "id": "6b69dc33-e12a-4a78-9fe6-19da9c0927ff",
   "metadata": {},
   "outputs": [],
   "source": [
    "ABn_s = sorted(ABn)"
   ]
  },
  {
   "cell_type": "code",
   "execution_count": 20,
   "id": "36298a5c-4f2e-472a-8130-51f7730468fe",
   "metadata": {},
   "outputs": [
    {
     "name": "stdout",
     "output_type": "stream",
     "text": [
      "2 1\n",
      "2 2\n",
      "5 5\n"
     ]
    }
   ],
   "source": [
    "money = K\n",
    "ans = 0\n",
    "p = 0\n",
    "for A, B in ABn_s:\n",
    "    if p == A:\n",
    "        money += B\n",
    "        continue\n",
    "    if money >= A - p:\n",
    "        ans += A - p\n",
    "        money -= A - p\n",
    "        money += B\n",
    "        p = A\n",
    "    else:\n",
    "        ans += money\n",
    "        p += money\n",
    "        break\n",
    "else:\n",
    "    ans += money\n",
    "    p += money"
   ]
  },
  {
   "cell_type": "code",
   "execution_count": 21,
   "id": "3c5597c5-593f-4110-9021-aac6a40d94ad",
   "metadata": {},
   "outputs": [
    {
     "name": "stdout",
     "output_type": "stream",
     "text": [
      "10\n"
     ]
    }
   ],
   "source": [
    "print(ans)"
   ]
  },
  {
   "cell_type": "code",
   "execution_count": 22,
   "id": "4ac2f249-1664-46a1-aeea-59be2983cb6b",
   "metadata": {},
   "outputs": [],
   "source": [
    "ABn_s = sorted(ABn)\n",
    "ans = K\n",
    "for A, B in ABn_s:\n",
    "    if ans >= A:\n",
    "        ans += B\n",
    "    else:\n",
    "        break"
   ]
  },
  {
   "cell_type": "code",
   "execution_count": 23,
   "id": "406ede0b-f98e-4cc0-a2cd-ebd7686f47b2",
   "metadata": {},
   "outputs": [
    {
     "name": "stdout",
     "output_type": "stream",
     "text": [
      "10\n"
     ]
    }
   ],
   "source": [
    "print(ans)"
   ]
  },
  {
   "cell_type": "code",
   "execution_count": null,
   "id": "a8d6ada8-bb80-4df4-80e7-adce71deaff1",
   "metadata": {},
   "outputs": [],
   "source": []
  }
 ],
 "metadata": {
  "kernelspec": {
   "display_name": "Python 3",
   "language": "python",
   "name": "python3"
  },
  "language_info": {
   "codemirror_mode": {
    "name": "ipython",
    "version": 3
   },
   "file_extension": ".py",
   "mimetype": "text/x-python",
   "name": "python",
   "nbconvert_exporter": "python",
   "pygments_lexer": "ipython3",
   "version": "3.6.13"
  }
 },
 "nbformat": 4,
 "nbformat_minor": 5
}
