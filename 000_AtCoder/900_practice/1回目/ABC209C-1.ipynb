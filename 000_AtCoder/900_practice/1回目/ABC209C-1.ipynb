{
 "cells": [
  {
   "cell_type": "code",
   "execution_count": 13,
   "id": "646ac348-ace5-403f-b25e-17a792436987",
   "metadata": {},
   "outputs": [
    {
     "name": "stdin",
     "output_type": "stream",
     "text": [
      " 10\n"
     ]
    }
   ],
   "source": [
    "N = int(input())"
   ]
  },
  {
   "cell_type": "code",
   "execution_count": 14,
   "id": "baf723d2-ce14-4bb9-a6ed-1b04a1beb9aa",
   "metadata": {},
   "outputs": [
    {
     "name": "stdin",
     "output_type": "stream",
     "text": [
      " 999999917 999999914 999999923 999999985 999999907 999999965 999999914 999999908 999999951 999999979\n"
     ]
    }
   ],
   "source": [
    "Cn = list(map(int, input().split()))"
   ]
  },
  {
   "cell_type": "code",
   "execution_count": 23,
   "id": "5300f223-8108-44fd-92ac-71afd1d57418",
   "metadata": {},
   "outputs": [],
   "source": [
    "Cn_s = sorted(Cn)\n",
    "ans = 1\n",
    "for i, C in enumerate(Cn_s):\n",
    "    ans *= max(0, C-i)\n",
    "    ans %= 10**9 + 7"
   ]
  },
  {
   "cell_type": "code",
   "execution_count": 24,
   "id": "a9ccd900-c1b6-4624-bbb9-75974cc44584",
   "metadata": {},
   "outputs": [
    {
     "name": "stdout",
     "output_type": "stream",
     "text": [
      "405924645\n"
     ]
    }
   ],
   "source": [
    "print(ans)"
   ]
  },
  {
   "cell_type": "code",
   "execution_count": null,
   "id": "32b50d6b-872d-478c-9a92-e4741dddd93d",
   "metadata": {},
   "outputs": [],
   "source": []
  }
 ],
 "metadata": {
  "kernelspec": {
   "display_name": "Python 3",
   "language": "python",
   "name": "python3"
  },
  "language_info": {
   "codemirror_mode": {
    "name": "ipython",
    "version": 3
   },
   "file_extension": ".py",
   "mimetype": "text/x-python",
   "name": "python",
   "nbconvert_exporter": "python",
   "pygments_lexer": "ipython3",
   "version": "3.6.13"
  }
 },
 "nbformat": 4,
 "nbformat_minor": 5
}
