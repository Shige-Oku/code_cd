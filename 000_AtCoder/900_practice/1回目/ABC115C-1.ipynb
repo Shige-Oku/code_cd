{
 "cells": [
  {
   "cell_type": "code",
   "execution_count": 1,
   "id": "924002d8-ea08-42ef-be3c-cb856aea783e",
   "metadata": {},
   "outputs": [
    {
     "name": "stdin",
     "output_type": "stream",
     "text": [
      " 5 3\n"
     ]
    }
   ],
   "source": [
    "N, K = map(int, input().split())"
   ]
  },
  {
   "cell_type": "code",
   "execution_count": 8,
   "id": "03faee05-19c8-4055-9091-1bc83286595e",
   "metadata": {},
   "outputs": [
    {
     "name": "stdin",
     "output_type": "stream",
     "text": [
      " 5 \n",
      " 7\n",
      " 5\n",
      " 7\n",
      " 7\n"
     ]
    }
   ],
   "source": [
    "Hn = [int(input()) for _ in range(N)]"
   ]
  },
  {
   "cell_type": "code",
   "execution_count": 9,
   "id": "ec00134c-2dc7-4d5c-b102-543bce09c7d4",
   "metadata": {},
   "outputs": [],
   "source": [
    "Hn_s = sorted(Hn)\n",
    "ans = 10**10\n",
    "for i in range(N-K+1):\n",
    "    ans = min(ans, Hn_s[i+K-1]-Hn_s[i])"
   ]
  },
  {
   "cell_type": "code",
   "execution_count": 10,
   "id": "23992747-8a9d-4e3a-ab0b-9da399eb7b54",
   "metadata": {},
   "outputs": [
    {
     "name": "stdout",
     "output_type": "stream",
     "text": [
      "0\n"
     ]
    }
   ],
   "source": [
    "print(ans)"
   ]
  },
  {
   "cell_type": "code",
   "execution_count": 6,
   "id": "458cfbab-cf25-473a-a90e-387e2e8546ab",
   "metadata": {},
   "outputs": [
    {
     "data": {
      "text/plain": [
       "2"
      ]
     },
     "execution_count": 6,
     "metadata": {},
     "output_type": "execute_result"
    }
   ],
   "source": [
    "i"
   ]
  },
  {
   "cell_type": "code",
   "execution_count": null,
   "id": "abac0dee-c41e-4425-a07b-1ddb14575bae",
   "metadata": {},
   "outputs": [],
   "source": []
  }
 ],
 "metadata": {
  "kernelspec": {
   "display_name": "Python 3",
   "language": "python",
   "name": "python3"
  },
  "language_info": {
   "codemirror_mode": {
    "name": "ipython",
    "version": 3
   },
   "file_extension": ".py",
   "mimetype": "text/x-python",
   "name": "python",
   "nbconvert_exporter": "python",
   "pygments_lexer": "ipython3",
   "version": "3.6.13"
  }
 },
 "nbformat": 4,
 "nbformat_minor": 5
}
