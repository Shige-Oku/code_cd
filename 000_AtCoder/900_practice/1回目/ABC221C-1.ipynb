{
 "cells": [
  {
   "cell_type": "code",
   "execution_count": 17,
   "id": "a6b05507-030e-4393-be36-b0b8ed0e6807",
   "metadata": {},
   "outputs": [
    {
     "name": "stdin",
     "output_type": "stream",
     "text": [
      " 123\n"
     ]
    }
   ],
   "source": [
    "N = input()"
   ]
  },
  {
   "cell_type": "code",
   "execution_count": 18,
   "id": "d57cebb8-a5cc-463a-898a-5c7027030973",
   "metadata": {},
   "outputs": [],
   "source": [
    "N_s = sorted(N, reverse=True)\n",
    "a = '0'\n",
    "b = '0'\n",
    "for n in N_s:\n",
    "    if int(a) > int(b):\n",
    "        b += n\n",
    "    else:\n",
    "        a += n"
   ]
  },
  {
   "cell_type": "code",
   "execution_count": 19,
   "id": "6f280de5-4f70-4db8-a7c7-de6d67011b6d",
   "metadata": {},
   "outputs": [
    {
     "name": "stdout",
     "output_type": "stream",
     "text": [
      "63\n"
     ]
    }
   ],
   "source": [
    "print(int(a)*int(b))"
   ]
  },
  {
   "cell_type": "code",
   "execution_count": 31,
   "id": "6f97f09c-4336-4379-ae84-93a4de5ca078",
   "metadata": {},
   "outputs": [],
   "source": [
    "import itertools\n",
    "ans = 0\n",
    "for P in itertools.product([0, 1], repeat=len(N)):\n",
    "    A, B = '', ''\n",
    "    for i, p in enumerate(P):\n",
    "        if p == 0:\n",
    "            A += N[i]\n",
    "        else:\n",
    "            B += N[i]\n",
    "    if len(A) == 0 or len(B) == 0:\n",
    "        continue\n",
    "    a = ''.join(sorted(A, reverse=True))\n",
    "    b = ''.join(sorted(B, reverse=True))\n",
    "    ans = max(ans, int(a)*int(b))"
   ]
  },
  {
   "cell_type": "code",
   "execution_count": 32,
   "id": "70cbf8e6-7f25-47f2-8f5a-602ff46e4872",
   "metadata": {},
   "outputs": [
    {
     "name": "stdout",
     "output_type": "stream",
     "text": [
      "63\n"
     ]
    }
   ],
   "source": [
    "print(ans)"
   ]
  },
  {
   "cell_type": "code",
   "execution_count": 33,
   "id": "2ca66664-fd19-42af-9cf1-255e2a9c60ed",
   "metadata": {},
   "outputs": [],
   "source": [
    "import itertools\n",
    "N_s = sorted(N, reverse=True)\n",
    "ans = 0\n",
    "for P in itertools.product([0, 1], repeat=len(N)):\n",
    "    A, B = '', ''\n",
    "    for i, p in enumerate(P):\n",
    "        if p == 0:\n",
    "            A += N_s[i]\n",
    "        else:\n",
    "            B += N_s[i]\n",
    "    if len(A) == 0 or len(B) == 0:\n",
    "        continue\n",
    "    ans = max(ans, int(A)*int(B))\n",
    "    "
   ]
  },
  {
   "cell_type": "code",
   "execution_count": 34,
   "id": "40c88d22-1272-4333-b241-51fc1d74c475",
   "metadata": {},
   "outputs": [
    {
     "name": "stdout",
     "output_type": "stream",
     "text": [
      "63\n"
     ]
    }
   ],
   "source": [
    "print(ans)"
   ]
  },
  {
   "cell_type": "code",
   "execution_count": 14,
   "id": "089dedce-56a9-4814-8a0a-412bb9c35215",
   "metadata": {},
   "outputs": [
    {
     "data": {
      "text/plain": [
       "('998244353', '')"
      ]
     },
     "execution_count": 14,
     "metadata": {},
     "output_type": "execute_result"
    }
   ],
   "source": [
    "A, B"
   ]
  },
  {
   "cell_type": "code",
   "execution_count": 28,
   "id": "9e5d6176-75d8-4c16-bf4d-a14ab7b0e5f0",
   "metadata": {},
   "outputs": [
    {
     "data": {
      "text/plain": [
       "['0', '1', '2', '3']"
      ]
     },
     "execution_count": 28,
     "metadata": {},
     "output_type": "execute_result"
    }
   ],
   "source": [
    "sorted(A)"
   ]
  },
  {
   "cell_type": "code",
   "execution_count": null,
   "id": "17ba797a-6bb2-4de4-b52e-f1a8dc5bf88e",
   "metadata": {},
   "outputs": [],
   "source": []
  }
 ],
 "metadata": {
  "kernelspec": {
   "display_name": "Python 3",
   "language": "python",
   "name": "python3"
  },
  "language_info": {
   "codemirror_mode": {
    "name": "ipython",
    "version": 3
   },
   "file_extension": ".py",
   "mimetype": "text/x-python",
   "name": "python",
   "nbconvert_exporter": "python",
   "pygments_lexer": "ipython3",
   "version": "3.6.13"
  }
 },
 "nbformat": 4,
 "nbformat_minor": 5
}
