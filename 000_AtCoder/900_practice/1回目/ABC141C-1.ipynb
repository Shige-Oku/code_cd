{
 "cells": [
  {
   "cell_type": "code",
   "execution_count": 1,
   "id": "241a52fc-34f0-492f-ae4c-129c377ce46a",
   "metadata": {},
   "outputs": [
    {
     "name": "stdin",
     "output_type": "stream",
     "text": [
      " 6 3 4\n"
     ]
    }
   ],
   "source": [
    "N, K, Q = map(int, input().split())"
   ]
  },
  {
   "cell_type": "code",
   "execution_count": 2,
   "id": "ddb6c088-826a-4372-9842-e01119f4cb6e",
   "metadata": {},
   "outputs": [
    {
     "name": "stdin",
     "output_type": "stream",
     "text": [
      " 3\n",
      " 1\n",
      " 3\n",
      " 2\n"
     ]
    }
   ],
   "source": [
    "An = [int(input()) for _ in range(Q)]"
   ]
  },
  {
   "cell_type": "code",
   "execution_count": 3,
   "id": "0a1b9cda-4ded-4f2c-b5fb-7a3b012f75fa",
   "metadata": {},
   "outputs": [],
   "source": [
    "cnt = [0] * N\n",
    "for A in An:\n",
    "    cnt[A-1] += 1"
   ]
  },
  {
   "cell_type": "code",
   "execution_count": 5,
   "id": "7bb47f66-a8f9-4ca1-a27e-ab6b1b0ed1f4",
   "metadata": {},
   "outputs": [
    {
     "name": "stdout",
     "output_type": "stream",
     "text": [
      "No\n",
      "No\n",
      "Yes\n",
      "No\n",
      "No\n",
      "No\n"
     ]
    }
   ],
   "source": [
    "for c in cnt:\n",
    "    if Q - c < K:\n",
    "        print('Yes')\n",
    "    else:\n",
    "        print('No')"
   ]
  },
  {
   "cell_type": "code",
   "execution_count": 4,
   "id": "b2b5ae9c-c7d3-4c7b-b1fe-edc5dc79e251",
   "metadata": {},
   "outputs": [
    {
     "data": {
      "text/plain": [
       "[1, 1, 2, 0, 0, 0]"
      ]
     },
     "execution_count": 4,
     "metadata": {},
     "output_type": "execute_result"
    }
   ],
   "source": [
    "cnt"
   ]
  },
  {
   "cell_type": "code",
   "execution_count": null,
   "id": "19227d5f-f38c-48fe-87e7-5e6ddf0353a5",
   "metadata": {},
   "outputs": [],
   "source": []
  }
 ],
 "metadata": {
  "kernelspec": {
   "display_name": "Python 3",
   "language": "python",
   "name": "python3"
  },
  "language_info": {
   "codemirror_mode": {
    "name": "ipython",
    "version": 3
   },
   "file_extension": ".py",
   "mimetype": "text/x-python",
   "name": "python",
   "nbconvert_exporter": "python",
   "pygments_lexer": "ipython3",
   "version": "3.6.13"
  }
 },
 "nbformat": 4,
 "nbformat_minor": 5
}
