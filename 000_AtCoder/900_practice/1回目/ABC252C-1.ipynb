{
 "cells": [
  {
   "cell_type": "code",
   "execution_count": 1,
   "id": "e77e8280-a82a-4898-8a35-6ca82e3b7371",
   "metadata": {},
   "outputs": [
    {
     "name": "stdin",
     "output_type": "stream",
     "text": [
      " 3\n"
     ]
    }
   ],
   "source": [
    "N = int(input())"
   ]
  },
  {
   "cell_type": "code",
   "execution_count": 2,
   "id": "7ae7f1b3-af53-4ba2-a396-a3aeb8ef5e50",
   "metadata": {},
   "outputs": [
    {
     "name": "stdin",
     "output_type": "stream",
     "text": [
      " 1937458062\n",
      " 8124690357\n",
      " 2385760149\n"
     ]
    }
   ],
   "source": [
    "Sn = [input() for _ in range(N)]"
   ]
  },
  {
   "cell_type": "code",
   "execution_count": 7,
   "id": "8f230531-9a73-49e5-a0cc-5ad21ad833a1",
   "metadata": {},
   "outputs": [],
   "source": [
    "ans = 10 ** 20\n",
    "for i in range(10):\n",
    "    pos = set()\n",
    "    cnt = [0] * 10\n",
    "    for S in Sn:\n",
    "        idx = S.index(str(i))\n",
    "        if idx in pos:\n",
    "            pos.add(idx+cnt[idx]*10)\n",
    "        else:\n",
    "            pos.add(idx)\n",
    "        cnt[idx] += 1\n",
    "    pos_l = sorted(list(pos), reverse=True)\n",
    "    ans = min(ans, pos_l[0])\n",
    "            "
   ]
  },
  {
   "cell_type": "code",
   "execution_count": 8,
   "id": "a8c4fd32-bf54-4358-9aae-53db835473cc",
   "metadata": {},
   "outputs": [
    {
     "name": "stdout",
     "output_type": "stream",
     "text": [
      "6\n"
     ]
    }
   ],
   "source": [
    "print(ans)"
   ]
  },
  {
   "cell_type": "code",
   "execution_count": null,
   "id": "79bff420-7a5e-47ba-9df8-e448b4e60a5d",
   "metadata": {},
   "outputs": [],
   "source": []
  }
 ],
 "metadata": {
  "kernelspec": {
   "display_name": "Python 3",
   "language": "python",
   "name": "python3"
  },
  "language_info": {
   "codemirror_mode": {
    "name": "ipython",
    "version": 3
   },
   "file_extension": ".py",
   "mimetype": "text/x-python",
   "name": "python",
   "nbconvert_exporter": "python",
   "pygments_lexer": "ipython3",
   "version": "3.6.13"
  }
 },
 "nbformat": 4,
 "nbformat_minor": 5
}
