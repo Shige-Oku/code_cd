{
 "cells": [
  {
   "cell_type": "code",
   "execution_count": 45,
   "id": "4a71bd1f-8c09-4a55-afbb-dbaba78a2b0d",
   "metadata": {},
   "outputs": [],
   "source": [
    "import math"
   ]
  },
  {
   "cell_type": "code",
   "execution_count": 42,
   "id": "1fb55ddb-8ad9-46d8-a9c1-dba8e694ec1d",
   "metadata": {},
   "outputs": [
    {
     "name": "stdin",
     "output_type": "stream",
     "text": [
      " 1 100000 100000\n"
     ]
    }
   ],
   "source": [
    "R, X, Y = map(int, input().split())"
   ]
  },
  {
   "cell_type": "code",
   "execution_count": 43,
   "id": "36a94c4e-59f2-477e-aa9a-c9d6bb82daf2",
   "metadata": {},
   "outputs": [],
   "source": [
    "d = (X*X + Y*Y) ** 0.5"
   ]
  },
  {
   "cell_type": "code",
   "execution_count": 46,
   "id": "1dd41ea4-5f59-4c10-ab26-2dd0705bc6d5",
   "metadata": {},
   "outputs": [
    {
     "name": "stdout",
     "output_type": "stream",
     "text": [
      "141422\n"
     ]
    }
   ],
   "source": [
    "if d < R:\n",
    "    print(2)\n",
    "else:\n",
    "    print(math.ceil(d/R))\n"
   ]
  },
  {
   "cell_type": "code",
   "execution_count": 24,
   "id": "6ba46f87-781a-459e-94f2-0f067fdba0e5",
   "metadata": {},
   "outputs": [
    {
     "data": {
      "text/plain": [
       "5.656854249492381"
      ]
     },
     "execution_count": 24,
     "metadata": {},
     "output_type": "execute_result"
    }
   ],
   "source": [
    "d"
   ]
  },
  {
   "cell_type": "code",
   "execution_count": null,
   "id": "1442e392-51c8-41cd-8f10-9be49749cd79",
   "metadata": {},
   "outputs": [],
   "source": []
  }
 ],
 "metadata": {
  "kernelspec": {
   "display_name": "Python 3",
   "language": "python",
   "name": "python3"
  },
  "language_info": {
   "codemirror_mode": {
    "name": "ipython",
    "version": 3
   },
   "file_extension": ".py",
   "mimetype": "text/x-python",
   "name": "python",
   "nbconvert_exporter": "python",
   "pygments_lexer": "ipython3",
   "version": "3.6.13"
  }
 },
 "nbformat": 4,
 "nbformat_minor": 5
}
