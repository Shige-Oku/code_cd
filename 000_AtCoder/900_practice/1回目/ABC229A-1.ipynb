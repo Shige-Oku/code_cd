{
 "cells": [
  {
   "cell_type": "code",
   "execution_count": 6,
   "id": "03c5d9e3-902c-444f-830e-9492d06e5e11",
   "metadata": {},
   "outputs": [
    {
     "name": "stdin",
     "output_type": "stream",
     "text": [
      " .#\n"
     ]
    }
   ],
   "source": [
    "S1 = input()"
   ]
  },
  {
   "cell_type": "code",
   "execution_count": 7,
   "id": "e666d10a-fc2f-451a-9735-88b594aaac48",
   "metadata": {},
   "outputs": [
    {
     "name": "stdin",
     "output_type": "stream",
     "text": [
      " #.\n"
     ]
    }
   ],
   "source": [
    "S2 = input()"
   ]
  },
  {
   "cell_type": "code",
   "execution_count": 8,
   "id": "849c39fe-28f9-48f3-a2c7-8663358c54c4",
   "metadata": {},
   "outputs": [
    {
     "name": "stdout",
     "output_type": "stream",
     "text": [
      "No\n"
     ]
    }
   ],
   "source": [
    "if (S1[0] == '.' and S2[1] == '.') or (S1[1] == '.' and S2[0] == '.'):\n",
    "    print('No')\n",
    "else:\n",
    "    print('Yes')"
   ]
  },
  {
   "cell_type": "code",
   "execution_count": null,
   "id": "f108a2f7-1a2e-45c1-ae82-c0d65b677da9",
   "metadata": {},
   "outputs": [],
   "source": []
  }
 ],
 "metadata": {
  "kernelspec": {
   "display_name": "Python 3",
   "language": "python",
   "name": "python3"
  },
  "language_info": {
   "codemirror_mode": {
    "name": "ipython",
    "version": 3
   },
   "file_extension": ".py",
   "mimetype": "text/x-python",
   "name": "python",
   "nbconvert_exporter": "python",
   "pygments_lexer": "ipython3",
   "version": "3.6.13"
  }
 },
 "nbformat": 4,
 "nbformat_minor": 5
}
