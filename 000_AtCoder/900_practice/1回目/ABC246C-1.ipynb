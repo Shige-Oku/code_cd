{
 "cells": [
  {
   "cell_type": "code",
   "execution_count": 26,
   "id": "f4438122-c121-45cf-9714-5857f7dd9fe4",
   "metadata": {},
   "outputs": [
    {
     "name": "stdin",
     "output_type": "stream",
     "text": [
      " 20 815 60\n"
     ]
    }
   ],
   "source": [
    "N, K , X = map(int, input().split())"
   ]
  },
  {
   "cell_type": "code",
   "execution_count": 27,
   "id": "db992bf6-e64e-4336-9102-686ccb8184bd",
   "metadata": {},
   "outputs": [
    {
     "name": "stdin",
     "output_type": "stream",
     "text": [
      " 2066 3193 2325 4030 3725 1669 1969 763 1653 159 5311 5341 4671 2374 4513 285 810 742 2981 202\n"
     ]
    }
   ],
   "source": [
    "An = list(map(int, input().split()))"
   ]
  },
  {
   "cell_type": "code",
   "execution_count": 28,
   "id": "f5dae189-74f2-418d-b99c-03148b16596e",
   "metadata": {},
   "outputs": [],
   "source": [
    "An_s = sorted(An, reverse=True)\n",
    "k = K\n",
    "for i, A in enumerate(An_s):\n",
    "    q, r = divmod(A, X)\n",
    "    if q > k:\n",
    "        An_s[i] = A - (X * k)\n",
    "        k = 0\n",
    "    else:\n",
    "        An_s[i] = A - q * X\n",
    "        k -= q\n"
   ]
  },
  {
   "cell_type": "code",
   "execution_count": 29,
   "id": "93cd660b-aed7-4146-9cd4-a250875363ca",
   "metadata": {},
   "outputs": [],
   "source": [
    "An_s = sorted(An_s, reverse=True)\n",
    "for i, A in enumerate(An_s):\n",
    "    if k < 1:\n",
    "        break\n",
    "    An_s[i] = max(0, A - X)\n",
    "    k -= 1"
   ]
  },
  {
   "cell_type": "code",
   "execution_count": 30,
   "id": "06bc2d8f-3f05-4728-9c18-324dc59b2965",
   "metadata": {},
   "outputs": [
    {
     "name": "stdout",
     "output_type": "stream",
     "text": [
      "112\n"
     ]
    }
   ],
   "source": [
    "print(sum(An_s))"
   ]
  },
  {
   "cell_type": "code",
   "execution_count": 20,
   "id": "c05a8d4b-ca22-4d40-9ada-f71187e3d5f0",
   "metadata": {},
   "outputs": [
    {
     "data": {
      "text/plain": [
       "([13, 10, 8, 5, 3], -4)"
      ]
     },
     "execution_count": 20,
     "metadata": {},
     "output_type": "execute_result"
    }
   ],
   "source": [
    "An_s, k"
   ]
  },
  {
   "cell_type": "code",
   "execution_count": null,
   "id": "64b3c3c5-cc5f-4089-86a9-ed7c031904f2",
   "metadata": {},
   "outputs": [],
   "source": []
  }
 ],
 "metadata": {
  "kernelspec": {
   "display_name": "Python 3",
   "language": "python",
   "name": "python3"
  },
  "language_info": {
   "codemirror_mode": {
    "name": "ipython",
    "version": 3
   },
   "file_extension": ".py",
   "mimetype": "text/x-python",
   "name": "python",
   "nbconvert_exporter": "python",
   "pygments_lexer": "ipython3",
   "version": "3.6.13"
  }
 },
 "nbformat": 4,
 "nbformat_minor": 5
}
