{
 "cells": [
  {
   "cell_type": "code",
   "execution_count": 29,
   "id": "ac0ac9e1-874c-4680-ae52-b63d66087d6c",
   "metadata": {},
   "outputs": [
    {
     "name": "stdin",
     "output_type": "stream",
     "text": [
      " 5\n"
     ]
    }
   ],
   "source": [
    "N = int(input())"
   ]
  },
  {
   "cell_type": "code",
   "execution_count": 30,
   "id": "739a0a20-938a-45e3-9775-03b78b42a262",
   "metadata": {},
   "outputs": [
    {
     "name": "stdin",
     "output_type": "stream",
     "text": [
      " 10 4 8 7 3\n"
     ]
    }
   ],
   "source": [
    "Hn = list(map(int, input().split()))"
   ]
  },
  {
   "cell_type": "code",
   "execution_count": 31,
   "id": "3f655803-d1d2-41f5-aee4-26fde6c875f6",
   "metadata": {},
   "outputs": [],
   "source": [
    "ans = 0\n",
    "c = 0\n",
    "for i in range(1, N):\n",
    "    if Hn[i-1] >= Hn[i]:\n",
    "        c += 1\n",
    "    else:\n",
    "        ans = max(ans, c)\n",
    "        c = 0\n",
    "else:\n",
    "    ans = max(ans, c)"
   ]
  },
  {
   "cell_type": "code",
   "execution_count": 32,
   "id": "1165c429-c367-4cc9-a718-413e066627ae",
   "metadata": {},
   "outputs": [
    {
     "name": "stdout",
     "output_type": "stream",
     "text": [
      "2\n"
     ]
    }
   ],
   "source": [
    "print(ans)"
   ]
  },
  {
   "cell_type": "code",
   "execution_count": 33,
   "id": "995307ba-f8dc-4d7a-aeef-3b14ed1eabcf",
   "metadata": {},
   "outputs": [],
   "source": [
    "dis = [0] * N\n",
    "for i in range(1, N):\n",
    "    if Hn[i-1] >= Hn[i]:\n",
    "        dis[i] = dis[i-1] + 1"
   ]
  },
  {
   "cell_type": "code",
   "execution_count": 34,
   "id": "49f08255-6e5d-4b7d-bdd4-02db64e1f417",
   "metadata": {},
   "outputs": [
    {
     "name": "stdout",
     "output_type": "stream",
     "text": [
      "2\n"
     ]
    }
   ],
   "source": [
    "print(max(dis))"
   ]
  },
  {
   "cell_type": "code",
   "execution_count": 35,
   "id": "42071a3a-d89d-462c-8d9f-c48148702032",
   "metadata": {},
   "outputs": [
    {
     "data": {
      "text/plain": [
       "[0, 1, 0, 1, 2]"
      ]
     },
     "execution_count": 35,
     "metadata": {},
     "output_type": "execute_result"
    }
   ],
   "source": [
    "dis"
   ]
  },
  {
   "cell_type": "code",
   "execution_count": null,
   "id": "75a53dac-2824-4846-ad13-d272cd1f3887",
   "metadata": {},
   "outputs": [],
   "source": []
  }
 ],
 "metadata": {
  "kernelspec": {
   "display_name": "Python 3",
   "language": "python",
   "name": "python3"
  },
  "language_info": {
   "codemirror_mode": {
    "name": "ipython",
    "version": 3
   },
   "file_extension": ".py",
   "mimetype": "text/x-python",
   "name": "python",
   "nbconvert_exporter": "python",
   "pygments_lexer": "ipython3",
   "version": "3.6.13"
  }
 },
 "nbformat": 4,
 "nbformat_minor": 5
}
