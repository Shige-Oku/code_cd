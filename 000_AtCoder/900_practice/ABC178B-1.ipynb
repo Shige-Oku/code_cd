{
 "cells": [
  {
   "cell_type": "code",
   "execution_count": 7,
   "id": "51ffc437-fa5e-4f68-acda-01ca8930f5ba",
   "metadata": {},
   "outputs": [
    {
     "name": "stdin",
     "output_type": "stream",
     "text": [
      " -1000000000 0 -1000000000 0\n"
     ]
    }
   ],
   "source": [
    "A, B, C, D = map(int, input().split())"
   ]
  },
  {
   "cell_type": "code",
   "execution_count": 8,
   "id": "48d5a236-e12d-41d8-b129-04652dcf117d",
   "metadata": {},
   "outputs": [
    {
     "name": "stdout",
     "output_type": "stream",
     "text": [
      "1000000000000000000\n"
     ]
    }
   ],
   "source": [
    "print(max(A*C, A*D, B*C, B*D))"
   ]
  },
  {
   "cell_type": "code",
   "execution_count": null,
   "id": "a78c811b-292c-4eda-baf8-ea5e2df6c718",
   "metadata": {},
   "outputs": [],
   "source": []
  }
 ],
 "metadata": {
  "kernelspec": {
   "display_name": "Python 3",
   "language": "python",
   "name": "python3"
  },
  "language_info": {
   "codemirror_mode": {
    "name": "ipython",
    "version": 3
   },
   "file_extension": ".py",
   "mimetype": "text/x-python",
   "name": "python",
   "nbconvert_exporter": "python",
   "pygments_lexer": "ipython3",
   "version": "3.6.13"
  }
 },
 "nbformat": 4,
 "nbformat_minor": 5
}
