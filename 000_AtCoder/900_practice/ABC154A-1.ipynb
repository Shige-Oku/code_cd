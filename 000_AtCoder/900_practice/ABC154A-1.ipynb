{
 "cells": [
  {
   "cell_type": "code",
   "execution_count": 5,
   "id": "af52252b-6044-4de6-a25d-6219fa4f3eda",
   "metadata": {},
   "outputs": [
    {
     "name": "stdin",
     "output_type": "stream",
     "text": [
      " red blue\n"
     ]
    }
   ],
   "source": [
    "S, T = input().split()"
   ]
  },
  {
   "cell_type": "code",
   "execution_count": 6,
   "id": "5bcb772f-c2f9-4b49-a8dc-8519aaa00c02",
   "metadata": {},
   "outputs": [
    {
     "name": "stdin",
     "output_type": "stream",
     "text": [
      " 5 5\n"
     ]
    }
   ],
   "source": [
    "A, B = map(int, input().split())"
   ]
  },
  {
   "cell_type": "code",
   "execution_count": 7,
   "id": "74dc0333-92f3-46c5-9fec-d6f10c2d09eb",
   "metadata": {},
   "outputs": [
    {
     "name": "stdin",
     "output_type": "stream",
     "text": [
      " blue\n"
     ]
    }
   ],
   "source": [
    "U = input()"
   ]
  },
  {
   "cell_type": "code",
   "execution_count": 8,
   "id": "2bd7f95b-2137-4e88-8a6b-d6fdbd588836",
   "metadata": {},
   "outputs": [
    {
     "name": "stdout",
     "output_type": "stream",
     "text": [
      "5 4\n"
     ]
    }
   ],
   "source": [
    "if S == U:\n",
    "    print(A-1, B)\n",
    "else:\n",
    "    print(A, B-1)"
   ]
  },
  {
   "cell_type": "code",
   "execution_count": null,
   "id": "2e2bb035-3aee-4ae6-9190-f164bc9bf9f8",
   "metadata": {},
   "outputs": [],
   "source": []
  }
 ],
 "metadata": {
  "kernelspec": {
   "display_name": "Python 3",
   "language": "python",
   "name": "python3"
  },
  "language_info": {
   "codemirror_mode": {
    "name": "ipython",
    "version": 3
   },
   "file_extension": ".py",
   "mimetype": "text/x-python",
   "name": "python",
   "nbconvert_exporter": "python",
   "pygments_lexer": "ipython3",
   "version": "3.6.13"
  }
 },
 "nbformat": 4,
 "nbformat_minor": 5
}
