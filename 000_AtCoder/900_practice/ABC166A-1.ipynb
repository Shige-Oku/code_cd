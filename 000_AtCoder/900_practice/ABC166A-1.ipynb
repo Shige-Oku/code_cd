{
 "cells": [
  {
   "cell_type": "code",
   "execution_count": 3,
   "id": "43a2a204-d483-429e-b573-e60d4a6115e6",
   "metadata": {},
   "outputs": [
    {
     "name": "stdin",
     "output_type": "stream",
     "text": [
      " ABC\n"
     ]
    }
   ],
   "source": [
    "S = input()"
   ]
  },
  {
   "cell_type": "code",
   "execution_count": 4,
   "id": "0b1ee978-bd4e-4132-93a2-212f9a9cb782",
   "metadata": {},
   "outputs": [
    {
     "name": "stdout",
     "output_type": "stream",
     "text": [
      "ARC\n"
     ]
    }
   ],
   "source": [
    "if S == 'ABC':\n",
    "    print('ARC')\n",
    "else:\n",
    "    print('ABC')"
   ]
  },
  {
   "cell_type": "code",
   "execution_count": null,
   "id": "0efc397e-ae64-4277-a58e-d517979a4220",
   "metadata": {},
   "outputs": [],
   "source": []
  }
 ],
 "metadata": {
  "kernelspec": {
   "display_name": "Python 3",
   "language": "python",
   "name": "python3"
  },
  "language_info": {
   "codemirror_mode": {
    "name": "ipython",
    "version": 3
   },
   "file_extension": ".py",
   "mimetype": "text/x-python",
   "name": "python",
   "nbconvert_exporter": "python",
   "pygments_lexer": "ipython3",
   "version": "3.6.13"
  }
 },
 "nbformat": 4,
 "nbformat_minor": 5
}
