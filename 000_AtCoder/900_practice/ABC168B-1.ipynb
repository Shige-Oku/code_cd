{
 "cells": [
  {
   "cell_type": "code",
   "execution_count": 5,
   "id": "a4f441fa-38e6-419a-9a2c-a94bcc6005e0",
   "metadata": {},
   "outputs": [
    {
     "name": "stdin",
     "output_type": "stream",
     "text": [
      " 40\n"
     ]
    }
   ],
   "source": [
    "K = int(input())"
   ]
  },
  {
   "cell_type": "code",
   "execution_count": 6,
   "id": "4530ed58-00f9-4feb-94ce-155524882db8",
   "metadata": {},
   "outputs": [
    {
     "name": "stdin",
     "output_type": "stream",
     "text": [
      " ferelibenterhominesidquodvoluntcredunt\n"
     ]
    }
   ],
   "source": [
    "S = input()"
   ]
  },
  {
   "cell_type": "code",
   "execution_count": 7,
   "id": "c9f8c3bd-2c5e-4c2d-a882-fb89ad8277cd",
   "metadata": {},
   "outputs": [
    {
     "name": "stdout",
     "output_type": "stream",
     "text": [
      "ferelibenterhominesidquodvoluntcredunt\n"
     ]
    }
   ],
   "source": [
    "if len(S) <= K:\n",
    "    print(S)\n",
    "else:\n",
    "    print(S[:K] + '...')"
   ]
  },
  {
   "cell_type": "code",
   "execution_count": 8,
   "id": "5fcd7f47-1466-4c83-b50c-46e4c5499139",
   "metadata": {},
   "outputs": [
    {
     "name": "stdout",
     "output_type": "stream",
     "text": [
      "ferelibenterhominesidquodvoluntcredunt\n"
     ]
    }
   ],
   "source": [
    "print(S if len(S) <= K else S[:K] + '...')"
   ]
  },
  {
   "cell_type": "code",
   "execution_count": null,
   "id": "bd16aa07-0a10-46ae-b91d-d54659c50b92",
   "metadata": {},
   "outputs": [],
   "source": []
  }
 ],
 "metadata": {
  "kernelspec": {
   "display_name": "Python 3",
   "language": "python",
   "name": "python3"
  },
  "language_info": {
   "codemirror_mode": {
    "name": "ipython",
    "version": 3
   },
   "file_extension": ".py",
   "mimetype": "text/x-python",
   "name": "python",
   "nbconvert_exporter": "python",
   "pygments_lexer": "ipython3",
   "version": "3.6.13"
  }
 },
 "nbformat": 4,
 "nbformat_minor": 5
}
