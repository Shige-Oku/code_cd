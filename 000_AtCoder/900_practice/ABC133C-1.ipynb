{
 "cells": [
  {
   "cell_type": "code",
   "execution_count": 6,
   "id": "3a3de066-a73d-49c1-930f-280e6383eee4",
   "metadata": {},
   "outputs": [
    {
     "name": "stdin",
     "output_type": "stream",
     "text": [
      " 4 5\n"
     ]
    }
   ],
   "source": [
    "L, R = map(int, input().split())"
   ]
  },
  {
   "cell_type": "code",
   "execution_count": 7,
   "id": "997c3bcc-d5e2-4202-a5eb-ce99fd319683",
   "metadata": {},
   "outputs": [],
   "source": [
    "if L // 2019 != R // 2019:\n",
    "    ans = 0\n",
    "else:\n",
    "    ans = 2019\n",
    "    for i in range(L, min(L+2019, R)):\n",
    "        for j in range(i+1, min(L+2019+1, R+1)):\n",
    "            ans = min(ans, i*j%2019)"
   ]
  },
  {
   "cell_type": "code",
   "execution_count": 8,
   "id": "85ec02e5-89d2-4e9a-b281-7d4d34c15852",
   "metadata": {},
   "outputs": [
    {
     "name": "stdout",
     "output_type": "stream",
     "text": [
      "20\n"
     ]
    }
   ],
   "source": [
    "print(ans)"
   ]
  },
  {
   "cell_type": "code",
   "execution_count": 10,
   "id": "4aacac9a-82fb-4f0c-a31a-0a98272992de",
   "metadata": {},
   "outputs": [],
   "source": [
    "ans = 2019\n",
    "for l in range(L, R):\n",
    "    for r in range(l+1, R+1):\n",
    "        ans = min(ans, l*r%2019)\n",
    "        if ans == 0:\n",
    "            break\n",
    "    if ans == 0:\n",
    "        break"
   ]
  },
  {
   "cell_type": "code",
   "execution_count": 11,
   "id": "005804af-071d-4251-8bd2-845feec9760b",
   "metadata": {},
   "outputs": [
    {
     "name": "stdout",
     "output_type": "stream",
     "text": [
      "20\n"
     ]
    }
   ],
   "source": [
    "print(ans)"
   ]
  },
  {
   "cell_type": "code",
   "execution_count": null,
   "id": "7dff3562-8367-4f70-aea1-9740502f82fe",
   "metadata": {},
   "outputs": [],
   "source": []
  }
 ],
 "metadata": {
  "kernelspec": {
   "display_name": "Python 3",
   "language": "python",
   "name": "python3"
  },
  "language_info": {
   "codemirror_mode": {
    "name": "ipython",
    "version": 3
   },
   "file_extension": ".py",
   "mimetype": "text/x-python",
   "name": "python",
   "nbconvert_exporter": "python",
   "pygments_lexer": "ipython3",
   "version": "3.6.13"
  }
 },
 "nbformat": 4,
 "nbformat_minor": 5
}
