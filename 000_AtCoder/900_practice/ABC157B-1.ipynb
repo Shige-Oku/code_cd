{
 "cells": [
  {
   "cell_type": "code",
   "execution_count": 1,
   "id": "1a700708-af3c-4f6e-b31a-4c05ca68743f",
   "metadata": {},
   "outputs": [
    {
     "name": "stdin",
     "output_type": "stream",
     "text": [
      " 84 97 66\n",
      " 79 89 11\n",
      " 61 59 7\n"
     ]
    }
   ],
   "source": [
    "An = [list(map(int, input().split())) for _ in range(3)]"
   ]
  },
  {
   "cell_type": "code",
   "execution_count": 2,
   "id": "74c137db-0863-4623-8ee4-e2d053dbedc7",
   "metadata": {},
   "outputs": [
    {
     "name": "stdin",
     "output_type": "stream",
     "text": [
      " 7\n"
     ]
    }
   ],
   "source": [
    "N = int(input())"
   ]
  },
  {
   "cell_type": "code",
   "execution_count": 3,
   "id": "51c2d2e7-eff0-4eeb-b7fb-ce7a40e7313e",
   "metadata": {},
   "outputs": [
    {
     "name": "stdin",
     "output_type": "stream",
     "text": [
      " 89\n",
      " 7\n",
      " 87\n",
      " 79\n",
      " 24\n",
      " 84\n",
      " 30\n"
     ]
    }
   ],
   "source": [
    "Bn = [int(input()) for _ in range(N)]"
   ]
  },
  {
   "cell_type": "code",
   "execution_count": 4,
   "id": "26795669-f546-429d-957c-ba49c20eb6a5",
   "metadata": {},
   "outputs": [],
   "source": [
    "bingo = [[False] * 3 for _ in range(3)]\n",
    "for B in Bn:\n",
    "    for i in range(3):\n",
    "        for j in range(3):\n",
    "            if An[i][j] == B:\n",
    "                bingo[i][j] = True"
   ]
  },
  {
   "cell_type": "code",
   "execution_count": 8,
   "id": "b348b544-55f6-41e4-ac87-ea3292c68c4c",
   "metadata": {},
   "outputs": [],
   "source": [
    "flg = False\n",
    "for i in range(3):\n",
    "    if bingo[i][0] and bingo[i][1] and bingo[i][2]:\n",
    "        flg = True\n",
    "for i in range(3):\n",
    "    if bingo[0][i] and bingo[1][i] and bingo[2][i]:\n",
    "        flg = True\n",
    "if bingo[0][0] and bingo[1][1] and bingo[2][2]:\n",
    "    flg = True\n",
    "if bingo[0][2] and bingo[1][1] and bingo[2][0]:\n",
    "    flg = True\n"
   ]
  },
  {
   "cell_type": "code",
   "execution_count": 10,
   "id": "753a2388-a0a2-4243-8095-93d8946abded",
   "metadata": {},
   "outputs": [
    {
     "name": "stdout",
     "output_type": "stream",
     "text": [
      "Yes\n"
     ]
    }
   ],
   "source": [
    "if flg:\n",
    "    print('Yes')\n",
    "else:\n",
    "    print('No')"
   ]
  },
  {
   "cell_type": "code",
   "execution_count": 9,
   "id": "b6ea1e2f-f842-4593-a9d3-9ff7fdcf7500",
   "metadata": {},
   "outputs": [
    {
     "data": {
      "text/plain": [
       "([[True, False, False], [True, True, False], [False, False, True]], True)"
      ]
     },
     "execution_count": 9,
     "metadata": {},
     "output_type": "execute_result"
    }
   ],
   "source": [
    "bingo, flg"
   ]
  },
  {
   "cell_type": "code",
   "execution_count": null,
   "id": "848c70d1-1a3e-45fe-a2ac-52cb2117904e",
   "metadata": {},
   "outputs": [],
   "source": []
  }
 ],
 "metadata": {
  "kernelspec": {
   "display_name": "Python 3",
   "language": "python",
   "name": "python3"
  },
  "language_info": {
   "codemirror_mode": {
    "name": "ipython",
    "version": 3
   },
   "file_extension": ".py",
   "mimetype": "text/x-python",
   "name": "python",
   "nbconvert_exporter": "python",
   "pygments_lexer": "ipython3",
   "version": "3.6.13"
  }
 },
 "nbformat": 4,
 "nbformat_minor": 5
}
