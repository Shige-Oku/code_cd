{
 "cells": [
  {
   "cell_type": "code",
   "execution_count": 3,
   "id": "3a39b408-ca44-44a0-99f6-0c920dfa3685",
   "metadata": {},
   "outputs": [
    {
     "name": "stdin",
     "output_type": "stream",
     "text": [
      " 2 2 1 1\n"
     ]
    }
   ],
   "source": [
    "W, H, X, Y = map(int, input().split())"
   ]
  },
  {
   "cell_type": "code",
   "execution_count": 4,
   "id": "9947993b-cf2b-4ac3-9d84-6942763e55d4",
   "metadata": {},
   "outputs": [
    {
     "name": "stdout",
     "output_type": "stream",
     "text": [
      "2.0 1\n"
     ]
    }
   ],
   "source": [
    "area = W * H / 2\n",
    "if W / 2 == X and H / 2 == Y:\n",
    "    flg = 1\n",
    "else:\n",
    "    flg = 0\n",
    "print(area, flg)"
   ]
  },
  {
   "cell_type": "code",
   "execution_count": null,
   "id": "c7764ed1-2c42-475c-bcc9-ead16b48b425",
   "metadata": {},
   "outputs": [],
   "source": []
  }
 ],
 "metadata": {
  "kernelspec": {
   "display_name": "Python 3",
   "language": "python",
   "name": "python3"
  },
  "language_info": {
   "codemirror_mode": {
    "name": "ipython",
    "version": 3
   },
   "file_extension": ".py",
   "mimetype": "text/x-python",
   "name": "python",
   "nbconvert_exporter": "python",
   "pygments_lexer": "ipython3",
   "version": "3.6.13"
  }
 },
 "nbformat": 4,
 "nbformat_minor": 5
}
