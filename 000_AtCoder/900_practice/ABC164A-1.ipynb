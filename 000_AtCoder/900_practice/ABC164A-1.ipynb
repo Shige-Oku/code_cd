{
 "cells": [
  {
   "cell_type": "code",
   "execution_count": 5,
   "id": "b5c3d374-4ac0-426c-a74f-6809993746db",
   "metadata": {},
   "outputs": [
    {
     "name": "stdin",
     "output_type": "stream",
     "text": [
      " 10 10\n"
     ]
    }
   ],
   "source": [
    "S, W = map(int, input().split())"
   ]
  },
  {
   "cell_type": "code",
   "execution_count": 6,
   "id": "302e46de-bebd-4722-98ce-a0c515288c01",
   "metadata": {},
   "outputs": [
    {
     "name": "stdout",
     "output_type": "stream",
     "text": [
      "unsafe\n"
     ]
    }
   ],
   "source": [
    "if S > W:\n",
    "    print('safe')\n",
    "else:\n",
    "    print('unsafe')"
   ]
  },
  {
   "cell_type": "code",
   "execution_count": 7,
   "id": "67e63cd6-6e8b-4769-966f-5ce2a81d879e",
   "metadata": {},
   "outputs": [
    {
     "name": "stdout",
     "output_type": "stream",
     "text": [
      "unsafe\n"
     ]
    }
   ],
   "source": [
    "print('safe' if S > W else 'unsafe')"
   ]
  },
  {
   "cell_type": "code",
   "execution_count": null,
   "id": "5869dbb8-0f90-4c0e-ac46-085065862e4a",
   "metadata": {},
   "outputs": [],
   "source": []
  }
 ],
 "metadata": {
  "kernelspec": {
   "display_name": "Python 3",
   "language": "python",
   "name": "python3"
  },
  "language_info": {
   "codemirror_mode": {
    "name": "ipython",
    "version": 3
   },
   "file_extension": ".py",
   "mimetype": "text/x-python",
   "name": "python",
   "nbconvert_exporter": "python",
   "pygments_lexer": "ipython3",
   "version": "3.6.13"
  }
 },
 "nbformat": 4,
 "nbformat_minor": 5
}
