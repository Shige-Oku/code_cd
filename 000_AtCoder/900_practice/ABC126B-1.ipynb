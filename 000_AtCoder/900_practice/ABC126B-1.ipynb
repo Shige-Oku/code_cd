{
 "cells": [
  {
   "cell_type": "code",
   "execution_count": 8,
   "id": "d03d0d26-bb69-4f4c-ae6a-d58a2c679897",
   "metadata": {},
   "outputs": [
    {
     "name": "stdin",
     "output_type": "stream",
     "text": [
      " 1700\n"
     ]
    }
   ],
   "source": [
    "S = input()"
   ]
  },
  {
   "cell_type": "code",
   "execution_count": 9,
   "id": "461e046f-6b30-439f-b455-8eaf44195d0f",
   "metadata": {},
   "outputs": [],
   "source": [
    "a, b = int(S[:2]), int(S[2:])"
   ]
  },
  {
   "cell_type": "code",
   "execution_count": 10,
   "id": "604a87e2-f8ae-41de-93c0-b3bceb426293",
   "metadata": {},
   "outputs": [
    {
     "name": "stdout",
     "output_type": "stream",
     "text": [
      "NA\n"
     ]
    }
   ],
   "source": [
    "if 1 <= a <= 12 and 1<= b <= 12:\n",
    "    print('AMBIGUOUS')\n",
    "elif  1 <= a <= 12:\n",
    "    print('MMYY')\n",
    "elif  1 <= b <= 12:\n",
    "    print('YYMM')\n",
    "else:\n",
    "    print('NA')\n",
    "    "
   ]
  },
  {
   "cell_type": "code",
   "execution_count": null,
   "id": "dfa1d036-c020-495c-8d14-a49822493ef8",
   "metadata": {},
   "outputs": [],
   "source": []
  }
 ],
 "metadata": {
  "kernelspec": {
   "display_name": "Python 3",
   "language": "python",
   "name": "python3"
  },
  "language_info": {
   "codemirror_mode": {
    "name": "ipython",
    "version": 3
   },
   "file_extension": ".py",
   "mimetype": "text/x-python",
   "name": "python",
   "nbconvert_exporter": "python",
   "pygments_lexer": "ipython3",
   "version": "3.6.13"
  }
 },
 "nbformat": 4,
 "nbformat_minor": 5
}
