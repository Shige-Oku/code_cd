{
 "cells": [
  {
   "cell_type": "code",
   "execution_count": 8,
   "id": "f4562e1d-e841-400a-a771-4104aab93994",
   "metadata": {},
   "outputs": [
    {
     "name": "stdin",
     "output_type": "stream",
     "text": [
      " 2000000000 0 0 2000000000\n"
     ]
    }
   ],
   "source": [
    "A, B, C, K = map(int, input().split())"
   ]
  },
  {
   "cell_type": "code",
   "execution_count": 9,
   "id": "503d0963-71e6-4939-8e75-671aa23d7453",
   "metadata": {},
   "outputs": [],
   "source": [
    "ans = min(A, K)\n",
    "cnt = min(A, K) \n",
    "if cnt < K:\n",
    "    cnt += B\n",
    "if cnt < K:\n",
    "    ans -= min(K-cnt, C)"
   ]
  },
  {
   "cell_type": "code",
   "execution_count": 10,
   "id": "0d473947-ddaa-48f6-a4cb-182687d3549e",
   "metadata": {},
   "outputs": [
    {
     "name": "stdout",
     "output_type": "stream",
     "text": [
      "2000000000\n"
     ]
    }
   ],
   "source": [
    "print(ans)"
   ]
  },
  {
   "cell_type": "code",
   "execution_count": 11,
   "id": "7594b52a-22c2-4b86-bbb8-267b7d3b8960",
   "metadata": {},
   "outputs": [
    {
     "name": "stdout",
     "output_type": "stream",
     "text": [
      "2000000000\n"
     ]
    }
   ],
   "source": [
    "if A >= K:\n",
    "    print(K)\n",
    "elif A + B >= K:\n",
    "    print(A)\n",
    "else:\n",
    "    print(A - (K-A-B))"
   ]
  },
  {
   "cell_type": "code",
   "execution_count": null,
   "id": "d99525d7-51e3-4535-b56d-97bf6b91ab85",
   "metadata": {},
   "outputs": [],
   "source": []
  }
 ],
 "metadata": {
  "kernelspec": {
   "display_name": "Python 3",
   "language": "python",
   "name": "python3"
  },
  "language_info": {
   "codemirror_mode": {
    "name": "ipython",
    "version": 3
   },
   "file_extension": ".py",
   "mimetype": "text/x-python",
   "name": "python",
   "nbconvert_exporter": "python",
   "pygments_lexer": "ipython3",
   "version": "3.6.13"
  }
 },
 "nbformat": 4,
 "nbformat_minor": 5
}
