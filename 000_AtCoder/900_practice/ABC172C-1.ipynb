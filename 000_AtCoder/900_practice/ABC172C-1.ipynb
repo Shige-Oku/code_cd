{
 "cells": [
  {
   "cell_type": "code",
   "execution_count": 4,
   "id": "c35ff35f-1d56-487b-b188-e811c469411a",
   "metadata": {},
   "outputs": [],
   "source": [
    "import itertools"
   ]
  },
  {
   "cell_type": "code",
   "execution_count": 27,
   "id": "0eca7a16-625b-4275-85ff-e1344a8639e1",
   "metadata": {},
   "outputs": [
    {
     "name": "stdin",
     "output_type": "stream",
     "text": [
      " 5 4 1\n"
     ]
    }
   ],
   "source": [
    "N, M, K = map(int, input().split())"
   ]
  },
  {
   "cell_type": "code",
   "execution_count": 28,
   "id": "1327720f-7bfc-4d37-9de3-44f1d278c4e0",
   "metadata": {},
   "outputs": [
    {
     "name": "stdin",
     "output_type": "stream",
     "text": [
      " 1000000000 1000000000 1000000000 1000000000 1000000000\n"
     ]
    }
   ],
   "source": [
    "An = list(map(int, input().split()))"
   ]
  },
  {
   "cell_type": "code",
   "execution_count": 29,
   "id": "a306676e-2e8f-4bb0-8363-53fec2676614",
   "metadata": {},
   "outputs": [
    {
     "name": "stdin",
     "output_type": "stream",
     "text": [
      " 1000000000 1000000000 1000000000 1000000000\n"
     ]
    }
   ],
   "source": [
    "Bn = list(map(int, input().split()))"
   ]
  },
  {
   "cell_type": "code",
   "execution_count": 30,
   "id": "9df98921-aadd-42bd-8224-0a63ab6bdca4",
   "metadata": {},
   "outputs": [],
   "source": [
    "An_c = [0] + list(itertools.accumulate(An))\n",
    "Bn_c = [0] + list(itertools.accumulate(Bn))"
   ]
  },
  {
   "cell_type": "code",
   "execution_count": 37,
   "id": "b47e1cc3-eeff-421e-bae1-8c3cffb6f87a",
   "metadata": {},
   "outputs": [
    {
     "name": "stdout",
     "output_type": "stream",
     "text": [
      "0 0 0\n",
      "0 1 -1\n",
      "0 2 -1\n",
      "0 3 -1\n",
      "0 4 -1\n",
      "0 5 -1\n"
     ]
    }
   ],
   "source": [
    "ans = 0\n",
    "j = M\n",
    "for i in range(N+1):\n",
    "    while j >= 0:\n",
    "        if An_c[i] + Bn_c[j] <= K:\n",
    "            break\n",
    "        j -= 1\n",
    "    if An_c[i] + Bn_c[j] > K:\n",
    "        break\n",
    "    ans = max(ans, i+j)\n"
   ]
  },
  {
   "cell_type": "code",
   "execution_count": 38,
   "id": "80fc76e1-e3f8-4ddc-b161-cedc4d8f09a3",
   "metadata": {},
   "outputs": [
    {
     "name": "stdout",
     "output_type": "stream",
     "text": [
      "0\n"
     ]
    }
   ],
   "source": [
    "print(ans)"
   ]
  },
  {
   "cell_type": "code",
   "execution_count": 35,
   "id": "f144f56d-fe0f-404c-a1ec-3b687a069503",
   "metadata": {},
   "outputs": [
    {
     "data": {
      "text/plain": [
       "(5, 0)"
      ]
     },
     "execution_count": 35,
     "metadata": {},
     "output_type": "execute_result"
    }
   ],
   "source": [
    "i, j"
   ]
  },
  {
   "cell_type": "code",
   "execution_count": null,
   "id": "b568fe0e-0142-4cce-8e2a-acdffb4057fc",
   "metadata": {},
   "outputs": [],
   "source": []
  }
 ],
 "metadata": {
  "kernelspec": {
   "display_name": "Python 3",
   "language": "python",
   "name": "python3"
  },
  "language_info": {
   "codemirror_mode": {
    "name": "ipython",
    "version": 3
   },
   "file_extension": ".py",
   "mimetype": "text/x-python",
   "name": "python",
   "nbconvert_exporter": "python",
   "pygments_lexer": "ipython3",
   "version": "3.6.13"
  }
 },
 "nbformat": 4,
 "nbformat_minor": 5
}
