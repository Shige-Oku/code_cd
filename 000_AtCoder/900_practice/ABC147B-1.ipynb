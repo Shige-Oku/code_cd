{
 "cells": [
  {
   "cell_type": "code",
   "execution_count": 15,
   "id": "6d38b759-4e94-4a1f-9872-90ced6b6adf6",
   "metadata": {},
   "outputs": [
    {
     "name": "stdin",
     "output_type": "stream",
     "text": [
      " redcoder\n"
     ]
    }
   ],
   "source": [
    "S = input()"
   ]
  },
  {
   "cell_type": "code",
   "execution_count": 16,
   "id": "5f6bd0f1-d8ab-4cfc-89dc-da8f9435c703",
   "metadata": {},
   "outputs": [],
   "source": [
    "ans = 1\n",
    "for a, b in zip(S, S[::-1]):\n",
    "    if a != b:\n",
    "        ans += 1"
   ]
  },
  {
   "cell_type": "code",
   "execution_count": 17,
   "id": "a9200e2c-7302-41c0-9bff-0c555308e7f9",
   "metadata": {},
   "outputs": [
    {
     "name": "stdout",
     "output_type": "stream",
     "text": [
      "1\n"
     ]
    }
   ],
   "source": [
    "print(ans//2)"
   ]
  },
  {
   "cell_type": "code",
   "execution_count": 18,
   "id": "7714dfea-81a0-43c7-a4f5-344dc5342ddf",
   "metadata": {},
   "outputs": [
    {
     "name": "stdout",
     "output_type": "stream",
     "text": [
      "1\n"
     ]
    }
   ],
   "source": [
    "print(sum([a != b for a, b in zip(S, S[::-1])])//2)"
   ]
  },
  {
   "cell_type": "code",
   "execution_count": null,
   "id": "6f9312f6-b493-4088-b9dc-9d0a2bc03709",
   "metadata": {},
   "outputs": [],
   "source": []
  }
 ],
 "metadata": {
  "kernelspec": {
   "display_name": "Python 3",
   "language": "python",
   "name": "python3"
  },
  "language_info": {
   "codemirror_mode": {
    "name": "ipython",
    "version": 3
   },
   "file_extension": ".py",
   "mimetype": "text/x-python",
   "name": "python",
   "nbconvert_exporter": "python",
   "pygments_lexer": "ipython3",
   "version": "3.6.13"
  }
 },
 "nbformat": 4,
 "nbformat_minor": 5
}
