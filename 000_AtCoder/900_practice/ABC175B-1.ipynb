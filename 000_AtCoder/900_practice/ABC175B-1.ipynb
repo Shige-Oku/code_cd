{
 "cells": [
  {
   "cell_type": "code",
   "execution_count": 26,
   "id": "e1a82455-1ac9-4556-8769-de00c2f6c500",
   "metadata": {},
   "outputs": [
    {
     "name": "stdin",
     "output_type": "stream",
     "text": [
      " 2\n"
     ]
    }
   ],
   "source": [
    "N = int(input())"
   ]
  },
  {
   "cell_type": "code",
   "execution_count": 27,
   "id": "4baf2ba3-37a3-4267-83f3-b729241d083a",
   "metadata": {},
   "outputs": [
    {
     "name": "stdin",
     "output_type": "stream",
     "text": [
      " 1 1\n"
     ]
    }
   ],
   "source": [
    "Ln = list(map(int, input().split()))"
   ]
  },
  {
   "cell_type": "code",
   "execution_count": 28,
   "id": "41d40e79-0457-4b3f-91f0-278e6ef824b1",
   "metadata": {},
   "outputs": [],
   "source": [
    "Ln_s = sorted(Ln)\n",
    "ans = 0\n",
    "for i in range(N-2):\n",
    "    for j in range(i+1, N-1):\n",
    "        if Ln_s[i] == Ln_s[j]:\n",
    "            continue\n",
    "        for k in range(j+1, N):\n",
    "            if Ln_s[i] == Ln_s[k] or Ln_s[j] == Ln_s[k]:\n",
    "                continue\n",
    "            if Ln_s[i] + Ln_s[j] > Ln_s[k]:\n",
    "                ans += 1\n"
   ]
  },
  {
   "cell_type": "code",
   "execution_count": 29,
   "id": "feb16a61-324c-4175-a0d9-17260def7511",
   "metadata": {},
   "outputs": [
    {
     "name": "stdout",
     "output_type": "stream",
     "text": [
      "0\n"
     ]
    }
   ],
   "source": [
    "print(ans)"
   ]
  },
  {
   "cell_type": "code",
   "execution_count": 30,
   "id": "fde2b85c-4cdf-4f45-b29f-ae589df9cb39",
   "metadata": {},
   "outputs": [
    {
     "data": {
      "text/plain": [
       "[1, 1]"
      ]
     },
     "execution_count": 30,
     "metadata": {},
     "output_type": "execute_result"
    }
   ],
   "source": [
    "Ln_s"
   ]
  },
  {
   "cell_type": "code",
   "execution_count": null,
   "id": "6373dfe3-1e8e-4298-bca2-aacec5373d5a",
   "metadata": {},
   "outputs": [],
   "source": []
  }
 ],
 "metadata": {
  "kernelspec": {
   "display_name": "Python 3",
   "language": "python",
   "name": "python3"
  },
  "language_info": {
   "codemirror_mode": {
    "name": "ipython",
    "version": 3
   },
   "file_extension": ".py",
   "mimetype": "text/x-python",
   "name": "python",
   "nbconvert_exporter": "python",
   "pygments_lexer": "ipython3",
   "version": "3.6.13"
  }
 },
 "nbformat": 4,
 "nbformat_minor": 5
}
