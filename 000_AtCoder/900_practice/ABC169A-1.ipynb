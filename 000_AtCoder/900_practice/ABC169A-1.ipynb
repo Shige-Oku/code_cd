{
 "cells": [
  {
   "cell_type": "code",
   "execution_count": 1,
   "id": "7a85a64c-0973-42a9-8a7a-5763d2111693",
   "metadata": {},
   "outputs": [
    {
     "name": "stdin",
     "output_type": "stream",
     "text": [
      " 2 5\n"
     ]
    }
   ],
   "source": [
    "A, B = map(int, input().split())"
   ]
  },
  {
   "cell_type": "code",
   "execution_count": 2,
   "id": "7a945f28-c5ac-4e7c-bb3b-724330b6a902",
   "metadata": {},
   "outputs": [
    {
     "name": "stdout",
     "output_type": "stream",
     "text": [
      "10\n"
     ]
    }
   ],
   "source": [
    "print(A*B)"
   ]
  },
  {
   "cell_type": "code",
   "execution_count": null,
   "id": "9b1d924d-daa7-4249-a9ff-6d5ac0d811da",
   "metadata": {},
   "outputs": [],
   "source": []
  }
 ],
 "metadata": {
  "kernelspec": {
   "display_name": "Python 3",
   "language": "python",
   "name": "python3"
  },
  "language_info": {
   "codemirror_mode": {
    "name": "ipython",
    "version": 3
   },
   "file_extension": ".py",
   "mimetype": "text/x-python",
   "name": "python",
   "nbconvert_exporter": "python",
   "pygments_lexer": "ipython3",
   "version": "3.6.13"
  }
 },
 "nbformat": 4,
 "nbformat_minor": 5
}
