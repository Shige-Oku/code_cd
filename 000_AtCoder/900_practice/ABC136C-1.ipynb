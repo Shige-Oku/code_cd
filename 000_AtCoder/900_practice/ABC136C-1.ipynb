{
 "cells": [
  {
   "cell_type": "code",
   "execution_count": 16,
   "id": "90db3b2d-a0cb-4ad5-83bb-828ebaf87308",
   "metadata": {},
   "outputs": [],
   "source": [
    "import copy"
   ]
  },
  {
   "cell_type": "code",
   "execution_count": 48,
   "id": "c755ccc6-24e9-4d2e-8d11-44c8ff05466d",
   "metadata": {},
   "outputs": [
    {
     "name": "stdin",
     "output_type": "stream",
     "text": [
      " 4\n"
     ]
    }
   ],
   "source": [
    "N = int(input())"
   ]
  },
  {
   "cell_type": "code",
   "execution_count": 49,
   "id": "f0337bcf-233e-49d6-9f23-61c76edfda95",
   "metadata": {},
   "outputs": [
    {
     "name": "stdin",
     "output_type": "stream",
     "text": [
      " 1 3 2 1\n"
     ]
    }
   ],
   "source": [
    "Hn = list(map(int, input().split()))"
   ]
  },
  {
   "cell_type": "code",
   "execution_count": 51,
   "id": "9c859f55-3523-44ab-97f6-1ccd4316dce2",
   "metadata": {},
   "outputs": [
    {
     "name": "stdout",
     "output_type": "stream",
     "text": [
      "No\n"
     ]
    }
   ],
   "source": [
    "Hn_c = copy.deepcopy(Hn)\n",
    "for i in range(N-2, -1, -1):\n",
    "    if Hn_c[i] - 1 > Hn_c[i+1]:\n",
    "        print(\"No\")\n",
    "        break\n",
    "    if Hn_c[i] > Hn_c[i+1]:\n",
    "        Hn_c[i] -= 1\n",
    "else:\n",
    "    print(\"Yes\")"
   ]
  },
  {
   "cell_type": "code",
   "execution_count": 46,
   "id": "43dbe26b-385c-44a6-95b2-34d8ff458b0c",
   "metadata": {},
   "outputs": [
    {
     "data": {
      "text/plain": [
       "[999999983, 1000000000, 999999999, 999999999]"
      ]
     },
     "execution_count": 46,
     "metadata": {},
     "output_type": "execute_result"
    }
   ],
   "source": [
    "Hn_c[3723:3727]"
   ]
  },
  {
   "cell_type": "code",
   "execution_count": null,
   "id": "25e79739-8ff9-4201-8ea7-db439803bd29",
   "metadata": {},
   "outputs": [],
   "source": [
    "# WA"
   ]
  },
  {
   "cell_type": "code",
   "execution_count": 15,
   "id": "475cb1f6-d8e6-4543-9d8e-c522cf9bb1e0",
   "metadata": {},
   "outputs": [
    {
     "name": "stdout",
     "output_type": "stream",
     "text": [
      "Yes\n"
     ]
    }
   ],
   "source": [
    "for i in range(1, N):\n",
    "    if Hn[i-1] - 1 > Hn[i]:\n",
    "        print(\"No\")\n",
    "        break\n",
    "    if i == 1:\n",
    "        continue\n",
    "    if Hn[i-2] - 1 > Hn[i]:\n",
    "        print(\"No\")\n",
    "        break\n",
    "else:\n",
    "    print(\"Yes\")"
   ]
  },
  {
   "cell_type": "code",
   "execution_count": 43,
   "id": "93551dfd-3263-4ef7-8073-fd61529a6bcb",
   "metadata": {},
   "outputs": [],
   "source": [
    "Hn_c = copy.deepcopy(Hn)\n",
    "for i in range(1, N):\n",
    "    if Hn[i-1] > Hn[i]:\n",
    "        Hn_c[i-1] -= 1"
   ]
  },
  {
   "cell_type": "code",
   "execution_count": 45,
   "id": "b9026bf4-ea5a-4514-931d-ad6228a57a96",
   "metadata": {},
   "outputs": [
    {
     "name": "stdout",
     "output_type": "stream",
     "text": [
      "No\n",
      "3725\n"
     ]
    }
   ],
   "source": [
    "for i in range(1, N):\n",
    "    if Hn_c[i-1] > Hn_c[i]:\n",
    "        print(\"No\")\n",
    "        print(i)\n",
    "        break\n",
    "else:\n",
    "    print(\"Yes\")"
   ]
  },
  {
   "cell_type": "code",
   "execution_count": null,
   "id": "97a23889-f9d0-405e-8086-0f0dfe85bf16",
   "metadata": {},
   "outputs": [],
   "source": []
  }
 ],
 "metadata": {
  "kernelspec": {
   "display_name": "Python 3",
   "language": "python",
   "name": "python3"
  },
  "language_info": {
   "codemirror_mode": {
    "name": "ipython",
    "version": 3
   },
   "file_extension": ".py",
   "mimetype": "text/x-python",
   "name": "python",
   "nbconvert_exporter": "python",
   "pygments_lexer": "ipython3",
   "version": "3.6.13"
  }
 },
 "nbformat": 4,
 "nbformat_minor": 5
}
