{
 "cells": [
  {
   "cell_type": "code",
   "execution_count": 2,
   "id": "0b36aa6a-695f-414d-8f09-6a0544b5b722",
   "metadata": {},
   "outputs": [],
   "source": [
    "import collections"
   ]
  },
  {
   "cell_type": "code",
   "execution_count": 16,
   "id": "3a866bb5-f0a5-4776-a949-5163e9d789b8",
   "metadata": {},
   "outputs": [
    {
     "name": "stdin",
     "output_type": "stream",
     "text": [
      " FREE\n"
     ]
    }
   ],
   "source": [
    "S = input()"
   ]
  },
  {
   "cell_type": "code",
   "execution_count": 17,
   "id": "0d37ff72-1945-4578-8e9a-614f3299e166",
   "metadata": {},
   "outputs": [],
   "source": [
    "S_c = collections.Counter(S)"
   ]
  },
  {
   "cell_type": "code",
   "execution_count": 18,
   "id": "33677071-d9eb-4083-a35a-ad94dfd3fe45",
   "metadata": {},
   "outputs": [
    {
     "name": "stdout",
     "output_type": "stream",
     "text": [
      "No\n"
     ]
    }
   ],
   "source": [
    "if len(S_c) == 2:\n",
    "    for k, v in S_c.items():\n",
    "        if v != 2:\n",
    "            print(\"No\")\n",
    "    else:\n",
    "        print(\"Yes\")\n",
    "else:\n",
    "    print(\"No\")"
   ]
  },
  {
   "cell_type": "code",
   "execution_count": 19,
   "id": "7128a099-e113-4906-814a-73d042dfe704",
   "metadata": {},
   "outputs": [
    {
     "data": {
      "text/plain": [
       "0"
      ]
     },
     "execution_count": 19,
     "metadata": {},
     "output_type": "execute_result"
    }
   ],
   "source": [
    "S_c[0]"
   ]
  },
  {
   "cell_type": "code",
   "execution_count": 20,
   "id": "23586be2-4867-4864-83f5-f55c92611e06",
   "metadata": {},
   "outputs": [],
   "source": [
    "S_s = sorted(S)"
   ]
  },
  {
   "cell_type": "code",
   "execution_count": 22,
   "id": "6105e549-80b1-49cd-8b69-1823127587d9",
   "metadata": {},
   "outputs": [
    {
     "name": "stdout",
     "output_type": "stream",
     "text": [
      "No\n"
     ]
    }
   ],
   "source": [
    "if S_s[0] == S_s[1] and S_s[1] != S_s[2] and S_s[2] == S_s[3]:\n",
    "    print(\"Yes\")\n",
    "else:\n",
    "    print(\"No\")"
   ]
  },
  {
   "cell_type": "code",
   "execution_count": null,
   "id": "9d20f207-3fe8-466f-9b8b-2f685b7ec01f",
   "metadata": {},
   "outputs": [],
   "source": []
  }
 ],
 "metadata": {
  "kernelspec": {
   "display_name": "Python 3",
   "language": "python",
   "name": "python3"
  },
  "language_info": {
   "codemirror_mode": {
    "name": "ipython",
    "version": 3
   },
   "file_extension": ".py",
   "mimetype": "text/x-python",
   "name": "python",
   "nbconvert_exporter": "python",
   "pygments_lexer": "ipython3",
   "version": "3.6.13"
  }
 },
 "nbformat": 4,
 "nbformat_minor": 5
}
