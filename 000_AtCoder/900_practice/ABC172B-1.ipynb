{
 "cells": [
  {
   "cell_type": "code",
   "execution_count": 9,
   "id": "6c714584-ce76-4ccd-863b-8b2877df08e7",
   "metadata": {},
   "outputs": [
    {
     "name": "stdin",
     "output_type": "stream",
     "text": [
      " apple\n"
     ]
    }
   ],
   "source": [
    "S = input()"
   ]
  },
  {
   "cell_type": "code",
   "execution_count": 10,
   "id": "a2d4c5b7-a400-438e-8f59-f15ed80cd56a",
   "metadata": {},
   "outputs": [
    {
     "name": "stdin",
     "output_type": "stream",
     "text": [
      " apple\n"
     ]
    }
   ],
   "source": [
    "T = input()"
   ]
  },
  {
   "cell_type": "code",
   "execution_count": 11,
   "id": "51c45b9f-6d6b-4fea-a554-c7db0c09d1e3",
   "metadata": {},
   "outputs": [],
   "source": [
    "ans = 0\n",
    "for s, t in zip(S, T):\n",
    "    if s != t:\n",
    "        ans += 1"
   ]
  },
  {
   "cell_type": "code",
   "execution_count": 12,
   "id": "2729925d-e6f1-41c7-acbc-752df6812ff7",
   "metadata": {},
   "outputs": [
    {
     "name": "stdout",
     "output_type": "stream",
     "text": [
      "0\n"
     ]
    }
   ],
   "source": [
    "print(ans)"
   ]
  },
  {
   "cell_type": "code",
   "execution_count": 17,
   "id": "97040eaf-6a94-4ee7-9f95-ecf5573cab9a",
   "metadata": {},
   "outputs": [
    {
     "name": "stdout",
     "output_type": "stream",
     "text": [
      "0\n"
     ]
    }
   ],
   "source": [
    "print(sum(s != t for s, t in zip(S, T)))"
   ]
  },
  {
   "cell_type": "code",
   "execution_count": null,
   "id": "1902f49a-e9d3-4bf1-a32e-9f229910b3fe",
   "metadata": {},
   "outputs": [],
   "source": []
  }
 ],
 "metadata": {
  "kernelspec": {
   "display_name": "Python 3",
   "language": "python",
   "name": "python3"
  },
  "language_info": {
   "codemirror_mode": {
    "name": "ipython",
    "version": 3
   },
   "file_extension": ".py",
   "mimetype": "text/x-python",
   "name": "python",
   "nbconvert_exporter": "python",
   "pygments_lexer": "ipython3",
   "version": "3.6.13"
  }
 },
 "nbformat": 4,
 "nbformat_minor": 5
}
