{
 "cells": [
  {
   "cell_type": "code",
   "execution_count": 1,
   "id": "b7d501d1-0447-4a87-8b8a-28432a38f407",
   "metadata": {},
   "outputs": [
    {
     "name": "stdin",
     "output_type": "stream",
     "text": [
      " 6\n"
     ]
    }
   ],
   "source": [
    "N = int(input())"
   ]
  },
  {
   "cell_type": "code",
   "execution_count": 50,
   "id": "ff0b55f2-5924-4c64-9cef-ad775b270bcb",
   "metadata": {},
   "outputs": [
    {
     "name": "stdin",
     "output_type": "stream",
     "text": [
      " khabarovsk 20\n",
      " moscow 10\n",
      " kazan 50\n",
      " kazan 35\n",
      " moscow 60\n",
      " khabarovsk 40\n"
     ]
    }
   ],
   "source": [
    "SPn = []\n",
    "for i in range(1, N+1):\n",
    "    S, P = list(input().split())\n",
    "    SPn.append([S, P, i])"
   ]
  },
  {
   "cell_type": "code",
   "execution_count": 57,
   "id": "f19917db-8959-4135-bc6f-ae39f6a21864",
   "metadata": {},
   "outputs": [],
   "source": [
    "SPn_s = sorted(SPn, key=lambda x:(x[0], -int(x[1])))"
   ]
  },
  {
   "cell_type": "code",
   "execution_count": 58,
   "id": "400fbfee-7244-4c12-911a-7850473a54b5",
   "metadata": {},
   "outputs": [
    {
     "name": "stdout",
     "output_type": "stream",
     "text": [
      "3\n",
      "4\n",
      "6\n",
      "1\n",
      "5\n",
      "2\n"
     ]
    }
   ],
   "source": [
    "for _, _, n in SPn_s:\n",
    "    print(n)"
   ]
  },
  {
   "cell_type": "code",
   "execution_count": 56,
   "id": "85008552-57b4-4447-8caa-d8610d0e99d7",
   "metadata": {},
   "outputs": [
    {
     "data": {
      "text/plain": [
       "[['kazan', '35', 4],\n",
       " ['kazan', '50', 3],\n",
       " ['khabarovsk', '20', 1],\n",
       " ['khabarovsk', '40', 6],\n",
       " ['moscow', '10', 2],\n",
       " ['moscow', '60', 5]]"
      ]
     },
     "execution_count": 56,
     "metadata": {},
     "output_type": "execute_result"
    }
   ],
   "source": [
    "SPn_s"
   ]
  },
  {
   "cell_type": "code",
   "execution_count": 35,
   "id": "917c5f02-d712-40f2-8f0f-d10036490770",
   "metadata": {},
   "outputs": [
    {
     "data": {
      "text/plain": [
       "[['khabarovsk', '20', 0, 3],\n",
       " ['moscow', '10', 1, 5],\n",
       " ['kazan', '50', 2, 2],\n",
       " ['kazan', '35', 3, 1],\n",
       " ['moscow', '60', 4, 6],\n",
       " ['khabarovsk', '40', 5, 4]]"
      ]
     },
     "execution_count": 35,
     "metadata": {},
     "output_type": "execute_result"
    }
   ],
   "source": [
    "sorted(SPn_s, key=lambda x : x[2])"
   ]
  },
  {
   "cell_type": "code",
   "execution_count": 46,
   "id": "f69021dc-993e-4c6e-9f6a-dd4800c86950",
   "metadata": {},
   "outputs": [
    {
     "data": {
      "text/plain": [
       "[['khabarovsk', '20', 0, 4],\n",
       " ['moscow', '10', 1, 6],\n",
       " ['kazan', '50', 2, 1],\n",
       " ['kazan', '35', 3, 2],\n",
       " ['moscow', '60', 4, 5],\n",
       " ['khabarovsk', '40', 5, 3]]"
      ]
     },
     "execution_count": 46,
     "metadata": {},
     "output_type": "execute_result"
    }
   ],
   "source": [
    "SPn"
   ]
  },
  {
   "cell_type": "code",
   "execution_count": null,
   "id": "094d0e0d-14de-4da3-989e-8a1391765e68",
   "metadata": {},
   "outputs": [],
   "source": []
  }
 ],
 "metadata": {
  "kernelspec": {
   "display_name": "Python 3",
   "language": "python",
   "name": "python3"
  },
  "language_info": {
   "codemirror_mode": {
    "name": "ipython",
    "version": 3
   },
   "file_extension": ".py",
   "mimetype": "text/x-python",
   "name": "python",
   "nbconvert_exporter": "python",
   "pygments_lexer": "ipython3",
   "version": "3.6.13"
  }
 },
 "nbformat": 4,
 "nbformat_minor": 5
}
