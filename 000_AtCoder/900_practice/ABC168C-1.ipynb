{
 "cells": [
  {
   "cell_type": "code",
   "execution_count": 2,
   "id": "3473c03f-4a4a-4d94-a1c3-e9bf3d28f18d",
   "metadata": {},
   "outputs": [],
   "source": [
    "import math"
   ]
  },
  {
   "cell_type": "code",
   "execution_count": 17,
   "id": "21098da9-70c2-4ae5-b809-3ca7f7bc9294",
   "metadata": {},
   "outputs": [
    {
     "name": "stdin",
     "output_type": "stream",
     "text": [
      " 3 4 9 0\n"
     ]
    }
   ],
   "source": [
    "A, B, H, M = map(int, input().split())"
   ]
  },
  {
   "cell_type": "code",
   "execution_count": 18,
   "id": "d437d04d-d055-4052-8285-506211ed3c21",
   "metadata": {},
   "outputs": [],
   "source": [
    "k = H*360/12 + 30*M/60 \n",
    "h = (math.cos(math.radians(k))*A, math.sin(math.radians(k))*A)\n",
    "m = (math.cos(math.radians(M*360/60))*B, math.sin(math.radians(M*360/60))*B)"
   ]
  },
  {
   "cell_type": "code",
   "execution_count": 19,
   "id": "6db964f9-ef85-4707-a2cd-301b4e49eac3",
   "metadata": {},
   "outputs": [
    {
     "name": "stdout",
     "output_type": "stream",
     "text": [
      "5.000000000000001\n"
     ]
    }
   ],
   "source": [
    "print(math.sqrt((h[0]-m[0])**2 + (h[1]-m[1])**2))"
   ]
  },
  {
   "cell_type": "code",
   "execution_count": 20,
   "id": "45647aed-ce07-445d-84ef-1d097b76b17f",
   "metadata": {},
   "outputs": [],
   "source": [
    "k1 = H*360/12 + 30*M/60 \n",
    "k2 = M * 360 / 60"
   ]
  },
  {
   "cell_type": "code",
   "execution_count": 23,
   "id": "bd88655a-f77e-4e70-9875-814605654d96",
   "metadata": {},
   "outputs": [
    {
     "name": "stdout",
     "output_type": "stream",
     "text": [
      "5.0\n"
     ]
    }
   ],
   "source": [
    "print(math.sqrt(A*A + B*B - 2*A*B*math.cos(math.radians(k1-k2))))"
   ]
  },
  {
   "cell_type": "code",
   "execution_count": null,
   "id": "bb52bd3a-0b21-45e6-8de1-741f3ec83100",
   "metadata": {},
   "outputs": [],
   "source": []
  }
 ],
 "metadata": {
  "kernelspec": {
   "display_name": "Python 3",
   "language": "python",
   "name": "python3"
  },
  "language_info": {
   "codemirror_mode": {
    "name": "ipython",
    "version": 3
   },
   "file_extension": ".py",
   "mimetype": "text/x-python",
   "name": "python",
   "nbconvert_exporter": "python",
   "pygments_lexer": "ipython3",
   "version": "3.6.13"
  }
 },
 "nbformat": 4,
 "nbformat_minor": 5
}
