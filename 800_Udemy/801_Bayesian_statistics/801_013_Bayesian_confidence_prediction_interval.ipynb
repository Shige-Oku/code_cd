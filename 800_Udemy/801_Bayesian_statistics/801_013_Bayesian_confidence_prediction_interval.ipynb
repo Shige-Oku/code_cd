{
 "cells": [
  {
   "cell_type": "code",
   "execution_count": 1,
   "metadata": {},
   "outputs": [],
   "source": [
    "import pandas as pd\n",
    "import matplotlib.pyplot as plt\n",
    "import numpy as np\n",
    "import pystan\n",
    "from scipy.stats import mstats\n",
    "\n",
    "%matplotlib inline"
   ]
  },
  {
   "cell_type": "code",
   "execution_count": 2,
   "metadata": {},
   "outputs": [],
   "source": [
    "plt.style.use('ggplot')"
   ]
  },
  {
   "cell_type": "code",
   "execution_count": 3,
   "metadata": {},
   "outputs": [],
   "source": [
    "df = pd.read_excel('./data/real_estate1.xlsx')"
   ]
  },
  {
   "cell_type": "code",
   "execution_count": 4,
   "metadata": {},
   "outputs": [],
   "source": [
    "stan_model = \"\"\"\n",
    "data {\n",
    "  int N;\n",
    "  real X[N];\n",
    "  real Y[N];\n",
    "  int N_s;\n",
    "  real X_s[N_s];\n",
    "}\n",
    "\n",
    "parameters {\n",
    "  real a;\n",
    "  real b;\n",
    "  real<lower=0> sigma;\n",
    "}\n",
    "\n",
    "model {\n",
    "  for (n in 1:N){\n",
    "    Y[n] ~ normal(a * X[n] + b, sigma);\n",
    "  }\n",
    "}\n",
    "\n",
    "generated quantities {\n",
    "  real Y_s[N_s];\n",
    "  for (n in 1:N_s){\n",
    "    Y_s[n] = normal_rng(a * X_s[n] + b, sigma);\n",
    "  }\n",
    "}\n",
    "\n",
    "\"\"\""
   ]
  },
  {
   "cell_type": "code",
   "execution_count": 5,
   "metadata": {},
   "outputs": [
    {
     "name": "stderr",
     "output_type": "stream",
     "text": [
      "INFO:pystan:COMPILING THE C++ CODE FOR MODEL anon_model_81acff9de421dcd46dd949b5b0a70352 NOW.\n"
     ]
    }
   ],
   "source": [
    "sm = pystan.StanModel(model_code=stan_model)"
   ]
  },
  {
   "cell_type": "code",
   "execution_count": 6,
   "metadata": {},
   "outputs": [],
   "source": [
    "X_s = np.arange(40, 90, 1)\n",
    "N_s = X_s.shape[0]\n",
    "stan_data = {'N':df.shape[0], 'X':df['space'], 'Y':df['value'], 'N_s':N_s, 'X_s':X_s}"
   ]
  },
  {
   "cell_type": "code",
   "execution_count": 7,
   "metadata": {},
   "outputs": [],
   "source": [
    "fit = sm.sampling(data=stan_data, iter=2000, warmup=500, chains=3, seed=123)"
   ]
  },
  {
   "cell_type": "code",
   "execution_count": 8,
   "metadata": {},
   "outputs": [
    {
     "data": {
      "text/plain": [
       "Inference for Stan model: anon_model_81acff9de421dcd46dd949b5b0a70352.\n",
       "3 chains, each with iter=2000; warmup=500; thin=1; \n",
       "post-warmup draws per chain=1500, total post-warmup draws=4500.\n",
       "\n",
       "          mean se_mean     sd   2.5%    25%    50%    75%  97.5%  n_eff   Rhat\n",
       "a        77.74    0.29  11.27  55.64  70.27  77.79   85.3  99.59   1545    1.0\n",
       "b       -672.0   20.61 804.34  -2193  -1219 -675.6 -139.4 922.17   1523    1.0\n",
       "sigma   612.37     2.3  99.48  455.2 540.86 601.74 669.52 839.78   1873    1.0\n",
       "Y_s[1]  2444.3   13.27  724.6 1002.2 1965.7 2436.9 2926.4 3849.0   2983    1.0\n",
       "Y_s[2]  2511.7   12.24 700.37 1147.6 2053.3 2515.7 2958.8 3894.2   3276    1.0\n",
       "Y_s[3]  2595.9   12.34 710.22 1203.8 2133.2 2600.2 3060.3 4018.6   3311    1.0\n",
       "Y_s[4]  2659.0   13.28 717.38 1238.3 2192.1 2659.5 3117.3 4057.1   2920    1.0\n",
       "Y_s[5]  2733.4   12.87 693.45 1366.3 2275.6 2738.5 3187.2 4073.1   2903    1.0\n",
       "Y_s[6]  2833.8   12.37 699.51 1459.8 2376.1 2830.7 3282.5 4226.2   3198    1.0\n",
       "Y_s[7]  2900.8   12.18 678.79 1579.7 2450.0 2902.8 3351.1 4220.0   3108    1.0\n",
       "Y_s[8]  2969.1   11.38 679.95 1629.8 2524.2 2970.4 3407.1 4325.8   3572    1.0\n",
       "Y_s[9]  3058.2   11.19  699.0 1661.9 2609.2 3055.3 3507.9 4428.0   3904    1.0\n",
       "Y_s[10] 3129.5   10.81 662.75 1829.0 2691.7 3127.7 3568.0 4396.1   3756    1.0\n",
       "Y_s[11] 3205.2   11.39 676.59 1863.1 2757.3 3199.1 3656.6 4529.5   3526    1.0\n",
       "Y_s[12] 3296.4   11.07 674.38 1966.3 2857.9 3288.4 3735.6 4633.0   3708    1.0\n",
       "Y_s[13] 3362.6   10.74 680.22 2019.3 2930.0 3362.1 3798.7 4746.4   4011    1.0\n",
       "Y_s[14] 3451.2   10.97 685.84 2082.4 3004.5 3454.6 3898.2 4798.1   3906    1.0\n",
       "Y_s[15] 3530.7   11.05 661.53 2233.5 3092.9 3528.4 3966.6 4841.4   3582    1.0\n",
       "Y_s[16] 3591.1   10.51 659.22 2290.8 3150.2 3599.4 4033.8 4895.5   3937    1.0\n",
       "Y_s[17] 3668.3   10.26 648.31 2390.0 3242.6 3663.6 4093.4 4933.1   3990    1.0\n",
       "Y_s[18] 3765.4   10.22 650.38 2512.0 3332.5 3758.3 4196.2 5046.6   4048    1.0\n",
       "Y_s[19] 3831.1   11.32 657.12 2510.3 3412.6 3833.9 4265.7 5113.2   3371    1.0\n",
       "Y_s[20] 3916.2    9.96 645.59 2667.6 3500.0 3911.8 4338.0 5188.9   4198    1.0\n",
       "Y_s[21] 3992.5    10.0 644.92 2700.4 3584.6 3994.7 4410.5 5251.9   4156    1.0\n",
       "Y_s[22] 4064.2    9.95 650.47 2773.6 3646.5 4062.9 4479.6 5401.8   4273    1.0\n",
       "Y_s[23] 4151.9   10.32 645.74 2891.7 3727.6 4156.5 4572.4 5411.2   3915    1.0\n",
       "Y_s[24] 4234.1    9.58 631.92 2992.8 3830.6 4236.9 4632.1 5507.9   4351    1.0\n",
       "Y_s[25] 4310.6   10.01 632.94 3065.8 3906.0 4305.8 4722.2 5558.9   3999    1.0\n",
       "Y_s[26] 4384.6    9.48 643.42 3094.3 3972.0 4376.5 4804.2 5643.6   4605    1.0\n",
       "Y_s[27] 4455.0    9.37 624.58 3208.4 4033.5 4455.1 4873.4 5693.6   4444    1.0\n",
       "Y_s[28] 4521.6    9.33 633.73 3235.1 4113.7 4534.4 4936.0 5768.7   4616    1.0\n",
       "Y_s[29] 4618.0     9.6 631.61 3373.1 4204.4 4612.2 5020.0 5872.0   4333    1.0\n",
       "Y_s[30] 4692.7    9.31 631.77 3418.0 4285.7 4705.0 5102.7 5912.3   4607    1.0\n",
       "Y_s[31] 4772.8    9.31 637.98 3464.8 4367.7 4779.2 5185.0 6026.8   4692    1.0\n",
       "Y_s[32] 4859.0     9.5 637.51 3563.1 4445.1 4862.8 5269.7 6149.9   4506    1.0\n",
       "Y_s[33] 4933.7    9.69 630.05 3675.6 4525.0 4937.3 5344.6 6180.7   4226    1.0\n",
       "Y_s[34] 5012.8     9.6 640.07 3749.3 4598.0 5011.1 5411.2 6340.9   4446    1.0\n",
       "Y_s[35] 5084.7    9.39 633.96 3828.4 4663.8 5089.4 5485.7 6340.8   4560    1.0\n",
       "Y_s[36] 5141.9    9.46 622.73 3936.8 4739.5 5135.5 5547.7 6380.2   4336    1.0\n",
       "Y_s[37] 5215.6     9.4 636.82 3913.7 4821.0 5224.8 5621.4 6475.5   4590    1.0\n",
       "Y_s[38] 5307.2    9.67 647.47 4044.2 4887.9 5302.5 5735.3 6588.1   4485    1.0\n",
       "Y_s[39] 5383.8    10.0 646.66 4115.4 4969.5 5379.4 5814.0 6650.6   4183    1.0\n",
       "Y_s[40] 5458.0   10.59 642.44 4168.0 5024.2 5456.8 5881.8 6721.1   3682    1.0\n",
       "Y_s[41] 5536.9   10.01 636.22 4281.5 5128.3 5528.6 5954.8 6792.9   4041    1.0\n",
       "Y_s[42] 5620.9    9.99  643.5 4362.7 5199.8 5613.6 6048.0 6920.6   4146    1.0\n",
       "Y_s[43] 5702.2   10.02 648.85 4404.0 5281.1 5710.7 6120.8 6968.2   4195    1.0\n",
       "Y_s[44] 5758.6    9.58 643.14 4489.5 5344.4 5765.6 6181.3 7007.0   4510    1.0\n",
       "Y_s[45] 5862.2    10.9 656.65 4581.1 5431.3 5868.9 6286.1 7167.7   3629    1.0\n",
       "Y_s[46] 5945.8    9.92  657.4 4607.9 5516.3 5950.5 6369.4 7245.4   4390    1.0\n",
       "Y_s[47] 5984.2   10.67 675.01 4614.4 5557.6 5990.5 6426.1 7313.7   4001    1.0\n",
       "Y_s[48] 6088.9   10.72 670.11 4738.6 5660.8 6077.7 6530.8 7412.7   3906    1.0\n",
       "Y_s[49] 6166.0   10.12 665.03 4867.7 5725.4 6157.1 6591.3 7477.9   4315    1.0\n",
       "Y_s[50] 6246.5   11.19 668.69 4923.4 5817.6 6241.2 6693.1 7570.3   3571    1.0\n",
       "lp__    -151.9    0.03   1.23 -155.2 -152.4 -151.6 -151.0 -150.5   1379    1.0\n",
       "\n",
       "Samples were drawn using NUTS at Sun May 24 09:27:49 2020.\n",
       "For each parameter, n_eff is a crude measure of effective sample size,\n",
       "and Rhat is the potential scale reduction factor on split chains (at \n",
       "convergence, Rhat=1)."
      ]
     },
     "execution_count": 8,
     "metadata": {},
     "output_type": "execute_result"
    }
   ],
   "source": [
    "fit"
   ]
  },
  {
   "cell_type": "code",
   "execution_count": 9,
   "metadata": {},
   "outputs": [
    {
     "data": {
      "text/plain": [
       "OrderedDict([('a',\n",
       "              array([ 77.09133032, 107.73966906,  91.28302211, ...,  67.29056738,\n",
       "                      68.56209969,  65.09318035]))])"
      ]
     },
     "execution_count": 9,
     "metadata": {},
     "output_type": "execute_result"
    }
   ],
   "source": [
    "fit.extract('a')"
   ]
  },
  {
   "cell_type": "code",
   "execution_count": 10,
   "metadata": {},
   "outputs": [],
   "source": [
    "ms_a = fit.extract('a')['a']"
   ]
  },
  {
   "cell_type": "code",
   "execution_count": 11,
   "metadata": {},
   "outputs": [
    {
     "data": {
      "text/plain": [
       "array([ 77.09133032, 107.73966906,  91.28302211, ...,  67.29056738,\n",
       "        68.56209969,  65.09318035])"
      ]
     },
     "execution_count": 11,
     "metadata": {},
     "output_type": "execute_result"
    }
   ],
   "source": [
    "ms_a"
   ]
  },
  {
   "cell_type": "code",
   "execution_count": 12,
   "metadata": {},
   "outputs": [
    {
     "data": {
      "text/plain": [
       "(array([   6.,   26.,  155.,  498., 1059., 1357.,  934.,  361.,   85.,\n",
       "          19.]),\n",
       " array([ 32.64861892,  41.06662558,  49.48463224,  57.90263891,\n",
       "         66.32064557,  74.73865223,  83.1566589 ,  91.57466556,\n",
       "         99.99267222, 108.41067889, 116.82868555]),\n",
       " <a list of 10 Patch objects>)"
      ]
     },
     "execution_count": 12,
     "metadata": {},
     "output_type": "execute_result"
    },
    {
     "data": {
      "image/png": "[encoded data removed]",
      "text/plain": [
       "<Figure size 432x288 with 1 Axes>"
      ]
     },
     "metadata": {},
     "output_type": "display_data"
    }
   ],
   "source": [
    "plt.hist(ms_a)"
   ]
  },
  {
   "cell_type": "code",
   "execution_count": 13,
   "metadata": {},
   "outputs": [],
   "source": [
    "ms_b = fit.extract('b')['b']"
   ]
  },
  {
   "cell_type": "code",
   "execution_count": 14,
   "metadata": {},
   "outputs": [],
   "source": [
    "df_b = pd.DataFrame([])\n",
    "for i in range(40, 90, 1):\n",
    "    df_b[i] = ms_a * i + ms_b"
   ]
  },
  {
   "cell_type": "code",
   "execution_count": 15,
   "metadata": {},
   "outputs": [
    {
     "data": {
      "text/html": [
       "<div>\n",
       "<style scoped>\n",
       "    .dataframe tbody tr th:only-of-type {\n",
       "        vertical-align: middle;\n",
       "    }\n",
       "\n",
       "    .dataframe tbody tr th {\n",
       "        vertical-align: top;\n",
       "    }\n",
       "\n",
       "    .dataframe thead th {\n",
       "        text-align: right;\n",
       "    }\n",
       "</style>\n",
       "<table border=\"1\" class=\"dataframe\">\n",
       "  <thead>\n",
       "    <tr style=\"text-align: right;\">\n",
       "      <th></th>\n",
       "      <th>40</th>\n",
       "      <th>41</th>\n",
       "      <th>42</th>\n",
       "      <th>43</th>\n",
       "      <th>44</th>\n",
       "      <th>45</th>\n",
       "      <th>46</th>\n",
       "      <th>47</th>\n",
       "      <th>48</th>\n",
       "      <th>49</th>\n",
       "      <th>...</th>\n",
       "      <th>80</th>\n",
       "      <th>81</th>\n",
       "      <th>82</th>\n",
       "      <th>83</th>\n",
       "      <th>84</th>\n",
       "      <th>85</th>\n",
       "      <th>86</th>\n",
       "      <th>87</th>\n",
       "      <th>88</th>\n",
       "      <th>89</th>\n",
       "    </tr>\n",
       "  </thead>\n",
       "  <tbody>\n",
       "    <tr>\n",
       "      <th>0</th>\n",
       "      <td>2345.002879</td>\n",
       "      <td>2422.094209</td>\n",
       "      <td>2499.185540</td>\n",
       "      <td>2576.276870</td>\n",
       "      <td>2653.368200</td>\n",
       "      <td>2730.459531</td>\n",
       "      <td>2807.550861</td>\n",
       "      <td>2884.642191</td>\n",
       "      <td>2961.733521</td>\n",
       "      <td>3038.824852</td>\n",
       "      <td>...</td>\n",
       "      <td>5428.656092</td>\n",
       "      <td>5505.747422</td>\n",
       "      <td>5582.838752</td>\n",
       "      <td>5659.930083</td>\n",
       "      <td>5737.021413</td>\n",
       "      <td>5814.112743</td>\n",
       "      <td>5891.204074</td>\n",
       "      <td>5968.295404</td>\n",
       "      <td>6045.386734</td>\n",
       "      <td>6122.478065</td>\n",
       "    </tr>\n",
       "    <tr>\n",
       "      <th>1</th>\n",
       "      <td>1210.483741</td>\n",
       "      <td>1318.223410</td>\n",
       "      <td>1425.963079</td>\n",
       "      <td>1533.702748</td>\n",
       "      <td>1641.442418</td>\n",
       "      <td>1749.182087</td>\n",
       "      <td>1856.921756</td>\n",
       "      <td>1964.661425</td>\n",
       "      <td>2072.401094</td>\n",
       "      <td>2180.140763</td>\n",
       "      <td>...</td>\n",
       "      <td>5520.070504</td>\n",
       "      <td>5627.810173</td>\n",
       "      <td>5735.549842</td>\n",
       "      <td>5843.289511</td>\n",
       "      <td>5951.029180</td>\n",
       "      <td>6058.768849</td>\n",
       "      <td>6166.508518</td>\n",
       "      <td>6274.248187</td>\n",
       "      <td>6381.987856</td>\n",
       "      <td>6489.727525</td>\n",
       "    </tr>\n",
       "    <tr>\n",
       "      <th>2</th>\n",
       "      <td>2025.247961</td>\n",
       "      <td>2116.530983</td>\n",
       "      <td>2207.814005</td>\n",
       "      <td>2299.097028</td>\n",
       "      <td>2390.380050</td>\n",
       "      <td>2481.663072</td>\n",
       "      <td>2572.946094</td>\n",
       "      <td>2664.229116</td>\n",
       "      <td>2755.512138</td>\n",
       "      <td>2846.795160</td>\n",
       "      <td>...</td>\n",
       "      <td>5676.568846</td>\n",
       "      <td>5767.851868</td>\n",
       "      <td>5859.134890</td>\n",
       "      <td>5950.417912</td>\n",
       "      <td>6041.700934</td>\n",
       "      <td>6132.983956</td>\n",
       "      <td>6224.266978</td>\n",
       "      <td>6315.550000</td>\n",
       "      <td>6406.833022</td>\n",
       "      <td>6498.116045</td>\n",
       "    </tr>\n",
       "    <tr>\n",
       "      <th>3</th>\n",
       "      <td>1778.946943</td>\n",
       "      <td>1868.078689</td>\n",
       "      <td>1957.210435</td>\n",
       "      <td>2046.342180</td>\n",
       "      <td>2135.473926</td>\n",
       "      <td>2224.605671</td>\n",
       "      <td>2313.737417</td>\n",
       "      <td>2402.869163</td>\n",
       "      <td>2492.000908</td>\n",
       "      <td>2581.132654</td>\n",
       "      <td>...</td>\n",
       "      <td>5344.216768</td>\n",
       "      <td>5433.348514</td>\n",
       "      <td>5522.480259</td>\n",
       "      <td>5611.612005</td>\n",
       "      <td>5700.743750</td>\n",
       "      <td>5789.875496</td>\n",
       "      <td>5879.007242</td>\n",
       "      <td>5968.138987</td>\n",
       "      <td>6057.270733</td>\n",
       "      <td>6146.402478</td>\n",
       "    </tr>\n",
       "    <tr>\n",
       "      <th>4</th>\n",
       "      <td>2686.829769</td>\n",
       "      <td>2761.807728</td>\n",
       "      <td>2836.785688</td>\n",
       "      <td>2911.763648</td>\n",
       "      <td>2986.741607</td>\n",
       "      <td>3061.719567</td>\n",
       "      <td>3136.697526</td>\n",
       "      <td>3211.675486</td>\n",
       "      <td>3286.653446</td>\n",
       "      <td>3361.631405</td>\n",
       "      <td>...</td>\n",
       "      <td>5685.948153</td>\n",
       "      <td>5760.926113</td>\n",
       "      <td>5835.904073</td>\n",
       "      <td>5910.882032</td>\n",
       "      <td>5985.859992</td>\n",
       "      <td>6060.837951</td>\n",
       "      <td>6135.815911</td>\n",
       "      <td>6210.793871</td>\n",
       "      <td>6285.771830</td>\n",
       "      <td>6360.749790</td>\n",
       "    </tr>\n",
       "    <tr>\n",
       "      <th>...</th>\n",
       "      <td>...</td>\n",
       "      <td>...</td>\n",
       "      <td>...</td>\n",
       "      <td>...</td>\n",
       "      <td>...</td>\n",
       "      <td>...</td>\n",
       "      <td>...</td>\n",
       "      <td>...</td>\n",
       "      <td>...</td>\n",
       "      <td>...</td>\n",
       "      <td>...</td>\n",
       "      <td>...</td>\n",
       "      <td>...</td>\n",
       "      <td>...</td>\n",
       "      <td>...</td>\n",
       "      <td>...</td>\n",
       "      <td>...</td>\n",
       "      <td>...</td>\n",
       "      <td>...</td>\n",
       "      <td>...</td>\n",
       "      <td>...</td>\n",
       "    </tr>\n",
       "    <tr>\n",
       "      <th>4495</th>\n",
       "      <td>2376.116103</td>\n",
       "      <td>2451.372111</td>\n",
       "      <td>2526.628119</td>\n",
       "      <td>2601.884127</td>\n",
       "      <td>2677.140135</td>\n",
       "      <td>2752.396143</td>\n",
       "      <td>2827.652151</td>\n",
       "      <td>2902.908159</td>\n",
       "      <td>2978.164167</td>\n",
       "      <td>3053.420175</td>\n",
       "      <td>...</td>\n",
       "      <td>5386.356420</td>\n",
       "      <td>5461.612428</td>\n",
       "      <td>5536.868436</td>\n",
       "      <td>5612.124444</td>\n",
       "      <td>5687.380452</td>\n",
       "      <td>5762.636460</td>\n",
       "      <td>5837.892467</td>\n",
       "      <td>5913.148475</td>\n",
       "      <td>5988.404483</td>\n",
       "      <td>6063.660491</td>\n",
       "    </tr>\n",
       "    <tr>\n",
       "      <th>4496</th>\n",
       "      <td>2224.871867</td>\n",
       "      <td>2309.444107</td>\n",
       "      <td>2394.016348</td>\n",
       "      <td>2478.588589</td>\n",
       "      <td>2563.160830</td>\n",
       "      <td>2647.733071</td>\n",
       "      <td>2732.305312</td>\n",
       "      <td>2816.877552</td>\n",
       "      <td>2901.449793</td>\n",
       "      <td>2986.022034</td>\n",
       "      <td>...</td>\n",
       "      <td>5607.761500</td>\n",
       "      <td>5692.333741</td>\n",
       "      <td>5776.905981</td>\n",
       "      <td>5861.478222</td>\n",
       "      <td>5946.050463</td>\n",
       "      <td>6030.622704</td>\n",
       "      <td>6115.194945</td>\n",
       "      <td>6199.767186</td>\n",
       "      <td>6284.339426</td>\n",
       "      <td>6368.911667</td>\n",
       "    </tr>\n",
       "    <tr>\n",
       "      <th>4497</th>\n",
       "      <td>2947.100836</td>\n",
       "      <td>3014.391403</td>\n",
       "      <td>3081.681971</td>\n",
       "      <td>3148.972538</td>\n",
       "      <td>3216.263105</td>\n",
       "      <td>3283.553673</td>\n",
       "      <td>3350.844240</td>\n",
       "      <td>3418.134808</td>\n",
       "      <td>3485.425375</td>\n",
       "      <td>3552.715942</td>\n",
       "      <td>...</td>\n",
       "      <td>5638.723531</td>\n",
       "      <td>5706.014099</td>\n",
       "      <td>5773.304666</td>\n",
       "      <td>5840.595233</td>\n",
       "      <td>5907.885801</td>\n",
       "      <td>5975.176368</td>\n",
       "      <td>6042.466935</td>\n",
       "      <td>6109.757503</td>\n",
       "      <td>6177.048070</td>\n",
       "      <td>6244.338638</td>\n",
       "    </tr>\n",
       "    <tr>\n",
       "      <th>4498</th>\n",
       "      <td>2671.732872</td>\n",
       "      <td>2740.294972</td>\n",
       "      <td>2808.857072</td>\n",
       "      <td>2877.419172</td>\n",
       "      <td>2945.981271</td>\n",
       "      <td>3014.543371</td>\n",
       "      <td>3083.105471</td>\n",
       "      <td>3151.667570</td>\n",
       "      <td>3220.229670</td>\n",
       "      <td>3288.791770</td>\n",
       "      <td>...</td>\n",
       "      <td>5414.216860</td>\n",
       "      <td>5482.778960</td>\n",
       "      <td>5551.341059</td>\n",
       "      <td>5619.903159</td>\n",
       "      <td>5688.465259</td>\n",
       "      <td>5757.027359</td>\n",
       "      <td>5825.589458</td>\n",
       "      <td>5894.151558</td>\n",
       "      <td>5962.713658</td>\n",
       "      <td>6031.275757</td>\n",
       "    </tr>\n",
       "    <tr>\n",
       "      <th>4499</th>\n",
       "      <td>2727.416609</td>\n",
       "      <td>2792.509789</td>\n",
       "      <td>2857.602970</td>\n",
       "      <td>2922.696150</td>\n",
       "      <td>2987.789331</td>\n",
       "      <td>3052.882511</td>\n",
       "      <td>3117.975691</td>\n",
       "      <td>3183.068872</td>\n",
       "      <td>3248.162052</td>\n",
       "      <td>3313.255232</td>\n",
       "      <td>...</td>\n",
       "      <td>5331.143823</td>\n",
       "      <td>5396.237004</td>\n",
       "      <td>5461.330184</td>\n",
       "      <td>5526.423364</td>\n",
       "      <td>5591.516545</td>\n",
       "      <td>5656.609725</td>\n",
       "      <td>5721.702905</td>\n",
       "      <td>5786.796086</td>\n",
       "      <td>5851.889266</td>\n",
       "      <td>5916.982446</td>\n",
       "    </tr>\n",
       "  </tbody>\n",
       "</table>\n",
       "<p>4500 rows × 50 columns</p>\n",
       "</div>"
      ],
      "text/plain": [
       "               40           41           42           43           44  \\\n",
       "0     2345.002879  2422.094209  2499.185540  2576.276870  2653.368200   \n",
       "1     1210.483741  1318.223410  1425.963079  1533.702748  1641.442418   \n",
       "2     2025.247961  2116.530983  2207.814005  2299.097028  2390.380050   \n",
       "3     1778.946943  1868.078689  1957.210435  2046.342180  2135.473926   \n",
       "4     2686.829769  2761.807728  2836.785688  2911.763648  2986.741607   \n",
       "...           ...          ...          ...          ...          ...   \n",
       "4495  2376.116103  2451.372111  2526.628119  2601.884127  2677.140135   \n",
       "4496  2224.871867  2309.444107  2394.016348  2478.588589  2563.160830   \n",
       "4497  2947.100836  3014.391403  3081.681971  3148.972538  3216.263105   \n",
       "4498  2671.732872  2740.294972  2808.857072  2877.419172  2945.981271   \n",
       "4499  2727.416609  2792.509789  2857.602970  2922.696150  2987.789331   \n",
       "\n",
       "               45           46           47           48           49  ...  \\\n",
       "0     2730.459531  2807.550861  2884.642191  2961.733521  3038.824852  ...   \n",
       "1     1749.182087  1856.921756  1964.661425  2072.401094  2180.140763  ...   \n",
       "2     2481.663072  2572.946094  2664.229116  2755.512138  2846.795160  ...   \n",
       "3     2224.605671  2313.737417  2402.869163  2492.000908  2581.132654  ...   \n",
       "4     3061.719567  3136.697526  3211.675486  3286.653446  3361.631405  ...   \n",
       "...           ...          ...          ...          ...          ...  ...   \n",
       "4495  2752.396143  2827.652151  2902.908159  2978.164167  3053.420175  ...   \n",
       "4496  2647.733071  2732.305312  2816.877552  2901.449793  2986.022034  ...   \n",
       "4497  3283.553673  3350.844240  3418.134808  3485.425375  3552.715942  ...   \n",
       "4498  3014.543371  3083.105471  3151.667570  3220.229670  3288.791770  ...   \n",
       "4499  3052.882511  3117.975691  3183.068872  3248.162052  3313.255232  ...   \n",
       "\n",
       "               80           81           82           83           84  \\\n",
       "0     5428.656092  5505.747422  5582.838752  5659.930083  5737.021413   \n",
       "1     5520.070504  5627.810173  5735.549842  5843.289511  5951.029180   \n",
       "2     5676.568846  5767.851868  5859.134890  5950.417912  6041.700934   \n",
       "3     5344.216768  5433.348514  5522.480259  5611.612005  5700.743750   \n",
       "4     5685.948153  5760.926113  5835.904073  5910.882032  5985.859992   \n",
       "...           ...          ...          ...          ...          ...   \n",
       "4495  5386.356420  5461.612428  5536.868436  5612.124444  5687.380452   \n",
       "4496  5607.761500  5692.333741  5776.905981  5861.478222  5946.050463   \n",
       "4497  5638.723531  5706.014099  5773.304666  5840.595233  5907.885801   \n",
       "4498  5414.216860  5482.778960  5551.341059  5619.903159  5688.465259   \n",
       "4499  5331.143823  5396.237004  5461.330184  5526.423364  5591.516545   \n",
       "\n",
       "               85           86           87           88           89  \n",
       "0     5814.112743  5891.204074  5968.295404  6045.386734  6122.478065  \n",
       "1     6058.768849  6166.508518  6274.248187  6381.987856  6489.727525  \n",
       "2     6132.983956  6224.266978  6315.550000  6406.833022  6498.116045  \n",
       "3     5789.875496  5879.007242  5968.138987  6057.270733  6146.402478  \n",
       "4     6060.837951  6135.815911  6210.793871  6285.771830  6360.749790  \n",
       "...           ...          ...          ...          ...          ...  \n",
       "4495  5762.636460  5837.892467  5913.148475  5988.404483  6063.660491  \n",
       "4496  6030.622704  6115.194945  6199.767186  6284.339426  6368.911667  \n",
       "4497  5975.176368  6042.466935  6109.757503  6177.048070  6244.338638  \n",
       "4498  5757.027359  5825.589458  5894.151558  5962.713658  6031.275757  \n",
       "4499  5656.609725  5721.702905  5786.796086  5851.889266  5916.982446  \n",
       "\n",
       "[4500 rows x 50 columns]"
      ]
     },
     "execution_count": 15,
     "metadata": {},
     "output_type": "execute_result"
    }
   ],
   "source": [
    "df_b"
   ]
  },
  {
   "cell_type": "code",
   "execution_count": 16,
   "metadata": {},
   "outputs": [],
   "source": [
    "low_y50, high_y50 = mstats.mquantiles(df_b, [0.25, 0.75], axis=0)\n",
    "low_y95, high_y95 = mstats.mquantiles(df_b, [0.025, 0.975], axis=0)"
   ]
  },
  {
   "cell_type": "code",
   "execution_count": 19,
   "metadata": {},
   "outputs": [
    {
     "data": {
      "text/plain": [
       "[<matplotlib.lines.Line2D at 0x197ee598e48>]"
      ]
     },
     "execution_count": 19,
     "metadata": {},
     "output_type": "execute_result"
    },
    {
     "data": {
      "image/png": "[encoded data removed]",
      "text/plain": [
       "<Figure size 432x288 with 1 Axes>"
      ]
     },
     "metadata": {},
     "output_type": "display_data"
    }
   ],
   "source": [
    "plt.scatter(df['space'], df['value'])\n",
    "plt.fill_between(X_s, low_y50, high_y50, alpha=0.6, color='blue')\n",
    "plt.fill_between(X_s, low_y95, high_y95, alpha=0.6, color='gray')\n",
    "a = 77.79\n",
    "b = -692.9\n",
    "y = a * X_s + b\n",
    "plt.plot(X_s, y, color='black')"
   ]
  },
  {
   "cell_type": "code",
   "execution_count": 20,
   "metadata": {},
   "outputs": [],
   "source": [
    "Y_p = fit.extract('Y_s')['Y_s']"
   ]
  },
  {
   "cell_type": "code",
   "execution_count": 23,
   "metadata": {},
   "outputs": [],
   "source": [
    "low_y ,high_y = mstats.mquantiles(Y_p, [0.025, 0.975], axis=0)"
   ]
  },
  {
   "cell_type": "code",
   "execution_count": 24,
   "metadata": {},
   "outputs": [
    {
     "data": {
      "text/plain": [
       "[<matplotlib.lines.Line2D at 0x197ee89b2b0>]"
      ]
     },
     "execution_count": 24,
     "metadata": {},
     "output_type": "execute_result"
    },
    {
     "data": {
      "image/png": "[encoded data removed]",
      "text/plain": [
       "<Figure size 432x288 with 1 Axes>"
      ]
     },
     "metadata": {},
     "output_type": "display_data"
    }
   ],
   "source": [
    "plt.scatter(df['space'], df['value'])\n",
    "plt.fill_between(X_s, low_y, high_y, alpha=0.3, color='blue')\n",
    "a = 77.79\n",
    "b = -692.9\n",
    "y = a * X_s + b\n",
    "plt.plot(X_s, y, color='black')"
   ]
  },
  {
   "cell_type": "code",
   "execution_count": null,
   "metadata": {},
   "outputs": [],
   "source": []
  }
 ],
 "metadata": {
  "kernelspec": {
   "display_name": "Python 3",
   "language": "python",
   "name": "python3"
  },
  "language_info": {
   "codemirror_mode": {
    "name": "ipython",
    "version": 3
   },
   "file_extension": ".py",
   "mimetype": "text/x-python",
   "name": "python",
   "nbconvert_exporter": "python",
   "pygments_lexer": "ipython3",
   "version": "3.6.10"
  }
 },
 "nbformat": 4,
 "nbformat_minor": 4
}
